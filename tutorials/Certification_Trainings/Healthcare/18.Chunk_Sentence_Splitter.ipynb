{
  "cells": [
    {
      "cell_type": "markdown",
      "metadata": {
        "id": "YUV3eJoaHC-T"
      },
      "source": [
        "![JohnSnowLabs](https://nlp.johnsnowlabs.com/assets/images/logo.png)"
      ]
    },
    {
      "cell_type": "markdown",
      "metadata": {
        "id": "e1ch_tb5HIOM"
      },
      "source": [
        "[![Open In Colab](https://colab.research.google.com/assets/colab-badge.svg)](https://colab.research.google.com/github/JohnSnowLabs/spark-nlp-workshop/blob/master/tutorials/Certification_Trainings/Healthcare/18.Chunk_Sentence_Splitter.ipynb)"
      ]
    },
    {
      "cell_type": "markdown",
      "metadata": {
        "id": "gNLwhcTeHT01"
      },
      "source": [
        "# Chunk Sentence Splitter\n",
        "We are releasing `ChunkSentenceSplitter`  annotator that splits documents or sentences by chunks provided. Splitted parts can be named with the splitting chunks. <br/>\n",
        "By using this annotator, you can do some tasks like splitting clinical documents according into sections in accordance with CDA (Clinical Document Architecture)."
      ]
    },
    {
      "cell_type": "markdown",
      "metadata": {
        "id": "sdg3wYL6HXZj"
      },
      "source": [
        "## Colab Setup"
      ]
    },
    {
      "cell_type": "code",
      "execution_count": null,
      "metadata": {
        "id": "Gf8bIwegE7lb"
      },
      "outputs": [],
      "source": [
        "import json\n",
        "import os\n",
        "\n",
        "from google.colab import files\n",
        "\n",
        "license_keys = files.upload()\n",
        "\n",
        "with open(list(license_keys.keys())[0]) as f:\n",
        "    license_keys = json.load(f)\n",
        "\n",
        "# Defining license key-value pairs as local variables\n",
        "locals().update(license_keys)\n",
        "\n",
        "# Adding license key-value pairs to environment variables\n",
        "os.environ.update(license_keys)"
      ]
    },
    {
      "cell_type": "code",
      "execution_count": null,
      "metadata": {
        "id": "J2fSZPxNJJKt"
      },
      "outputs": [],
      "source": [
        "%%capture\n",
        "\n",
        "# Installing pyspark and spark-nlp\n",
        "! pip install --upgrade -q pyspark==3.1.2 spark-nlp==$PUBLIC_VERSION\n",
        "\n",
        "# Installing Spark NLP Healthcare\n",
        "! pip install --upgrade -q spark-nlp-jsl==$JSL_VERSION  --extra-index-url https://pypi.johnsnowlabs.com/$SECRET"
      ]
    },
    {
      "cell_type": "code",
      "execution_count": null,
      "metadata": {
        "colab": {
          "base_uri": "https://localhost:8080/",
          "height": 250
        },
        "id": "fqL744xQHlwf",
        "outputId": "0ccc5166-253d-49ff-8e11-929c69013fa5"
      },
      "outputs": [
        {
          "output_type": "stream",
          "name": "stdout",
          "text": [
            "Spark NLP Version : 3.4.0\n",
            "Spark NLP_JSL Version : 3.4.0\n"
          ]
        },
        {
          "output_type": "execute_result",
          "data": {
            "text/html": [
              "\n",
              "            <div>\n",
              "                <p><b>SparkSession - in-memory</b></p>\n",
              "                \n",
              "        <div>\n",
              "            <p><b>SparkContext</b></p>\n",
              "\n",
              "            <p><a href=\"http://a0ceceb690f2:4040\">Spark UI</a></p>\n",
              "\n",
              "            <dl>\n",
              "              <dt>Version</dt>\n",
              "                <dd><code>v3.1.2</code></dd>\n",
              "              <dt>Master</dt>\n",
              "                <dd><code>local[*]</code></dd>\n",
              "              <dt>AppName</dt>\n",
              "                <dd><code>Spark NLP Licensed</code></dd>\n",
              "            </dl>\n",
              "        </div>\n",
              "        \n",
              "            </div>\n",
              "        "
            ],
            "text/plain": [
              "<pyspark.sql.session.SparkSession at 0x7f89f1c23550>"
            ]
          },
          "metadata": {},
          "execution_count": 3
        }
      ],
      "source": [
        "import json\n",
        "import os\n",
        "from pyspark.ml import Pipeline, PipelineModel\n",
        "from pyspark.sql import SparkSession\n",
        "from pyspark.sql import functions as F\n",
        "\n",
        "from sparknlp.annotator import *\n",
        "from sparknlp_jsl.annotator import *\n",
        "from sparknlp.base import *\n",
        "import sparknlp_jsl\n",
        "import sparknlp\n",
        "import pandas as pd\n",
        "\n",
        "import warnings\n",
        "warnings.filterwarnings('ignore')\n",
        "\n",
        "params = {\"spark.driver.memory\":\"16G\", \n",
        "          \"spark.kryoserializer.buffer.max\":\"2000M\", \n",
        "          \"spark.driver.maxResultSize\":\"2000M\"} \n",
        "\n",
        "print (\"Spark NLP Version :\", sparknlp.version())\n",
        "print (\"Spark NLP_JSL Version :\", sparknlp_jsl.version())\n",
        "\n",
        "spark = sparknlp_jsl.start(license_keys['SECRET'],params=params)\n",
        "\n",
        "spark\n"
      ]
    },
    {
      "cell_type": "markdown",
      "metadata": {
        "id": "WyFoYZ25Hjwr"
      },
      "source": [
        "## How It Works\n"
      ]
    },
    {
      "cell_type": "code",
      "execution_count": null,
      "metadata": {
        "id": "OEzQVvAWFl9A"
      },
      "outputs": [],
      "source": [
        "#giving input chunks to the ChunkSentenceSplitter model by using regex\n",
        "regex = \"\"\"Reporting Template,title1\n",
        "SPECIMEN,title2\n",
        "RESULTS,title3\"\"\"\n",
        "\n",
        "with open(\"title_regex.txt\", 'w') as f:\n",
        "  f.write(regex) "
      ]
    },
    {
      "cell_type": "code",
      "execution_count": null,
      "metadata": {
        "id": "mS62MMfgFl6o"
      },
      "outputs": [],
      "source": [
        "documentAssembler = DocumentAssembler()\\\n",
        "     .setInputCol(\"text\")\\\n",
        "     .setOutputCol(\"document\")\n",
        "\n",
        "regexMatcher = RegexMatcher()\\\n",
        "     .setExternalRules(\"/content/title_regex.txt\", \",\")\\\n",
        "     .setInputCols(\"document\")\\\n",
        "     .setOutputCol(\"chunks\")\n",
        "\n",
        "pipeline =  Pipeline().setStages([\n",
        "                                  documentAssembler,\n",
        "                                  regexMatcher])\n",
        "\n",
        "text_list = [\"\"\"\n",
        "This is the header that have not title\n",
        "\n",
        "Reporting Template\n",
        "\n",
        "Writers write descriptive paragraphs because their purpose is to describe something. Their point is that something\n",
        "is beautiful or disgusting or strangely intriguing.\n",
        "Writers write persuasive and argument paragraphs because their purpose is to persuade or convince someone. T\n",
        "\n",
        "SPECIMEN\n",
        "+Adequacy of Sample for Testing\n",
        "___ Adequate\n",
        "+Estimated % Tumor Cellularity\n",
        "___ Suboptimal (explain): _________________\n",
        "\n",
        "RESULTS\n",
        "+Mutational Analysis\n",
        "___ Mutation detected\n",
        "___ Mutation no identified\n",
        "___ EGFR\n",
        "\"\"\"]\n",
        "\n",
        "data_chunk = spark.createDataFrame([[\"text\"]]).toDF(\"text\")\n",
        "\n",
        "pipeline_model = pipeline.fit(data_chunk)\n",
        "\n",
        "chunk_df = pipeline_model.transform(spark.createDataFrame(pd.DataFrame({'text': text_list})))"
      ]
    },
    {
      "cell_type": "code",
      "execution_count": null,
      "metadata": {
        "colab": {
          "base_uri": "https://localhost:8080/"
        },
        "id": "xNIZ4_dHFl3_",
        "outputId": "0c2f3e1b-4c78-477a-a4b4-19ffda881ebc"
      },
      "outputs": [
        {
          "output_type": "stream",
          "name": "stdout",
          "text": [
            "+--------------------+--------------------+--------------------+\n",
            "|                text|            document|              chunks|\n",
            "+--------------------+--------------------+--------------------+\n",
            "|\n",
            "This is the head...|[{document, 0, 55...|[{chunk, 41, 58, ...|\n",
            "+--------------------+--------------------+--------------------+\n",
            "\n"
          ]
        }
      ],
      "source": [
        "chunk_df.show()"
      ]
    },
    {
      "cell_type": "code",
      "execution_count": null,
      "metadata": {
        "colab": {
          "base_uri": "https://localhost:8080/"
        },
        "id": "mNp3BvxaO_LN",
        "outputId": "28cf8f6c-00a8-43ec-b0e9-a68ec65b607e"
      },
      "outputs": [
        {
          "output_type": "stream",
          "name": "stdout",
          "text": [
            "+------------------------------------------------------------------------------------------+\n",
            "|col                                                                                       |\n",
            "+------------------------------------------------------------------------------------------+\n",
            "|{chunk, 41, 58, Reporting Template, {identifier -> title1, sentence -> 0, chunk -> 0}, []}|\n",
            "|{chunk, 338, 345, SPECIMEN, {identifier -> title2, sentence -> 0, chunk -> 1}, []}        |\n",
            "|{chunk, 468, 474, RESULTS, {identifier -> title3, sentence -> 0, chunk -> 2}, []}         |\n",
            "+------------------------------------------------------------------------------------------+\n",
            "\n"
          ]
        }
      ],
      "source": [
        "chunk_df.selectExpr('explode(chunks)').show(truncate=False)"
      ]
    },
    {
      "cell_type": "markdown",
      "metadata": {
        "id": "feW0o5ta5XNI"
      },
      "source": [
        "Applying `ChunkSentenceSplitter()`"
      ]
    },
    {
      "cell_type": "code",
      "execution_count": null,
      "metadata": {
        "id": "rIIg7qqsNpTS"
      },
      "outputs": [],
      "source": [
        "chunkSentenceSplitter = ChunkSentenceSplitter()\\\n",
        "      .setInputCols(\"chunks\",\"document\")\\\n",
        "      .setOutputCol(\"paragraphs\")\n",
        "\n",
        "paragraphs = chunkSentenceSplitter.transform(chunk_df)"
      ]
    },
    {
      "cell_type": "code",
      "execution_count": null,
      "metadata": {
        "colab": {
          "base_uri": "https://localhost:8080/",
          "height": 173
        },
        "id": "Wi3PJLe4NuZs",
        "outputId": "2997e4b7-8249-47c9-81b0-4948d67a25e9"
      },
      "outputs": [
        {
          "output_type": "execute_result",
          "data": {
            "text/html": [
              "\n",
              "  <div id=\"df-77252082-9515-4c9d-9058-c68e631311d5\">\n",
              "    <div class=\"colab-df-container\">\n",
              "      <div>\n",
              "<style scoped>\n",
              "    .dataframe tbody tr th:only-of-type {\n",
              "        vertical-align: middle;\n",
              "    }\n",
              "\n",
              "    .dataframe tbody tr th {\n",
              "        vertical-align: top;\n",
              "    }\n",
              "\n",
              "    .dataframe thead th {\n",
              "        text-align: right;\n",
              "    }\n",
              "</style>\n",
              "<table border=\"1\" class=\"dataframe\">\n",
              "  <thead>\n",
              "    <tr style=\"text-align: right;\">\n",
              "      <th></th>\n",
              "      <th>result</th>\n",
              "      <th>entity</th>\n",
              "    </tr>\n",
              "  </thead>\n",
              "  <tbody>\n",
              "    <tr>\n",
              "      <th>0</th>\n",
              "      <td>\\nThis is the header that have not title\\n\\n</td>\n",
              "      <td>introduction</td>\n",
              "    </tr>\n",
              "    <tr>\n",
              "      <th>1</th>\n",
              "      <td>Reporting Template\\n\\nWriters write descriptiv...</td>\n",
              "      <td>title1</td>\n",
              "    </tr>\n",
              "    <tr>\n",
              "      <th>2</th>\n",
              "      <td>SPECIMEN\\n+Adequacy of Sample for Testing\\n___...</td>\n",
              "      <td>title2</td>\n",
              "    </tr>\n",
              "    <tr>\n",
              "      <th>3</th>\n",
              "      <td>RESULTS\\n+Mutational Analysis\\n___ Mutation de...</td>\n",
              "      <td>title3</td>\n",
              "    </tr>\n",
              "  </tbody>\n",
              "</table>\n",
              "</div>\n",
              "      <button class=\"colab-df-convert\" onclick=\"convertToInteractive('df-77252082-9515-4c9d-9058-c68e631311d5')\"\n",
              "              title=\"Convert this dataframe to an interactive table.\"\n",
              "              style=\"display:none;\">\n",
              "        \n",
              "  <svg xmlns=\"http://www.w3.org/2000/svg\" height=\"24px\"viewBox=\"0 0 24 24\"\n",
              "       width=\"24px\">\n",
              "    <path d=\"M0 0h24v24H0V0z\" fill=\"none\"/>\n",
              "    <path d=\"M18.56 5.44l.94 2.06.94-2.06 2.06-.94-2.06-.94-.94-2.06-.94 2.06-2.06.94zm-11 1L8.5 8.5l.94-2.06 2.06-.94-2.06-.94L8.5 2.5l-.94 2.06-2.06.94zm10 10l.94 2.06.94-2.06 2.06-.94-2.06-.94-.94-2.06-.94 2.06-2.06.94z\"/><path d=\"M17.41 7.96l-1.37-1.37c-.4-.4-.92-.59-1.43-.59-.52 0-1.04.2-1.43.59L10.3 9.45l-7.72 7.72c-.78.78-.78 2.05 0 2.83L4 21.41c.39.39.9.59 1.41.59.51 0 1.02-.2 1.41-.59l7.78-7.78 2.81-2.81c.8-.78.8-2.07 0-2.86zM5.41 20L4 18.59l7.72-7.72 1.47 1.35L5.41 20z\"/>\n",
              "  </svg>\n",
              "      </button>\n",
              "      \n",
              "  <style>\n",
              "    .colab-df-container {\n",
              "      display:flex;\n",
              "      flex-wrap:wrap;\n",
              "      gap: 12px;\n",
              "    }\n",
              "\n",
              "    .colab-df-convert {\n",
              "      background-color: #E8F0FE;\n",
              "      border: none;\n",
              "      border-radius: 50%;\n",
              "      cursor: pointer;\n",
              "      display: none;\n",
              "      fill: #1967D2;\n",
              "      height: 32px;\n",
              "      padding: 0 0 0 0;\n",
              "      width: 32px;\n",
              "    }\n",
              "\n",
              "    .colab-df-convert:hover {\n",
              "      background-color: #E2EBFA;\n",
              "      box-shadow: 0px 1px 2px rgba(60, 64, 67, 0.3), 0px 1px 3px 1px rgba(60, 64, 67, 0.15);\n",
              "      fill: #174EA6;\n",
              "    }\n",
              "\n",
              "    [theme=dark] .colab-df-convert {\n",
              "      background-color: #3B4455;\n",
              "      fill: #D2E3FC;\n",
              "    }\n",
              "\n",
              "    [theme=dark] .colab-df-convert:hover {\n",
              "      background-color: #434B5C;\n",
              "      box-shadow: 0px 1px 3px 1px rgba(0, 0, 0, 0.15);\n",
              "      filter: drop-shadow(0px 1px 2px rgba(0, 0, 0, 0.3));\n",
              "      fill: #FFFFFF;\n",
              "    }\n",
              "  </style>\n",
              "\n",
              "      <script>\n",
              "        const buttonEl =\n",
              "          document.querySelector('#df-77252082-9515-4c9d-9058-c68e631311d5 button.colab-df-convert');\n",
              "        buttonEl.style.display =\n",
              "          google.colab.kernel.accessAllowed ? 'block' : 'none';\n",
              "\n",
              "        async function convertToInteractive(key) {\n",
              "          const element = document.querySelector('#df-77252082-9515-4c9d-9058-c68e631311d5');\n",
              "          const dataTable =\n",
              "            await google.colab.kernel.invokeFunction('convertToInteractive',\n",
              "                                                     [key], {});\n",
              "          if (!dataTable) return;\n",
              "\n",
              "          const docLinkHtml = 'Like what you see? Visit the ' +\n",
              "            '<a target=\"_blank\" href=https://colab.research.google.com/notebooks/data_table.ipynb>data table notebook</a>'\n",
              "            + ' to learn more about interactive tables.';\n",
              "          element.innerHTML = '';\n",
              "          dataTable['output_type'] = 'display_data';\n",
              "          await google.colab.output.renderOutput(dataTable, element);\n",
              "          const docLink = document.createElement('div');\n",
              "          docLink.innerHTML = docLinkHtml;\n",
              "          element.appendChild(docLink);\n",
              "        }\n",
              "      </script>\n",
              "    </div>\n",
              "  </div>\n",
              "  "
            ],
            "text/plain": [
              "                                              result        entity\n",
              "0       \\nThis is the header that have not title\\n\\n  introduction\n",
              "1  Reporting Template\\n\\nWriters write descriptiv...        title1\n",
              "2  SPECIMEN\\n+Adequacy of Sample for Testing\\n___...        title2\n",
              "3  RESULTS\\n+Mutational Analysis\\n___ Mutation de...        title3"
            ]
          },
          "metadata": {},
          "execution_count": 9
        }
      ],
      "source": [
        "paragraphs.selectExpr(\"explode(paragraphs) as result\").selectExpr(\"result.result\",\"result.metadata.entity\").toPandas()"
      ]
    },
    {
      "cell_type": "markdown",
      "metadata": {
        "id": "y2ukghZzH5lr"
      },
      "source": [
        "### Ner Pipeline with Sentence Splitting"
      ]
    },
    {
      "cell_type": "code",
      "execution_count": null,
      "metadata": {
        "id": "_9vSrHwVM-bE"
      },
      "outputs": [],
      "source": [
        "#input data\n",
        "input_list = [\"\"\"Sample Name: Mesothelioma - Pleural Biopsy\n",
        "Description: Right pleural effusion and suspected malignant mesothelioma. (Medical Transcription Sample Report)\n",
        "PREOPERATIVE DIAGNOSIS:  Right pleural effusion and suspected malignant mesothelioma.\n",
        "POSTOPERATIVE DIAGNOSIS: Right pleural effusion, suspected malignant mesothelioma.\n",
        "ANESTHESIA: General double-lumen endotracheal.\n",
        "DESCRIPTION OF FINDINGS:  Right pleural effusion, firm nodules, diffuse scattered throughout the right pleura and diaphragmatic surface.\n",
        "SPECIMEN:  Pleural biopsies for pathology and microbiology.\n",
        "INDICATIONS:  Briefly, this is a 66-year-old gentleman who has been transferred from an outside hospital after a pleural effusion had been drained and biopsies taken from the right chest that were thought to be consistent with mesothelioma. Upon transfer, he had a right pleural effusion demonstrated on x-ray as well as some shortness of breath and dyspnea on exertion. The risks, benefits, and alternatives to right VATS pleurodesis and pleural biopsy were discussed with the patient and his family and they wished to proceed.\n",
        "Dr. X was present for the entire procedure which was right VATS pleurodesis and pleural biopsies.The counts were correct x2 at the end of the case.\"\"\"]"
      ]
    },
    {
      "cell_type": "code",
      "execution_count": null,
      "metadata": {
        "colab": {
          "base_uri": "https://localhost:8080/"
        },
        "id": "fIFfrkyVJ6Ba",
        "outputId": "c96ba24b-21ca-406a-f9cc-f53dde9d7dfc"
      },
      "outputs": [
        {
          "output_type": "stream",
          "name": "stdout",
          "text": [
            "+--------------------+-----+\n",
            "|                text| file|\n",
            "+--------------------+-----+\n",
            "|Sample Name: Meso...|1.txt|\n",
            "+--------------------+-----+\n",
            "\n"
          ]
        }
      ],
      "source": [
        "files = [f\"{i}.txt\" for i in (range(1, len(input_list)+1))]\n",
        "\n",
        "df = spark.createDataFrame(pd.DataFrame({'text': input_list, 'file' : files}))\n",
        "\n",
        "df.show()"
      ]
    },
    {
      "cell_type": "markdown",
      "metadata": {
        "id": "AQ0B-fo_KEYV"
      },
      "source": [
        "Now, creating NER pipeline for extracting chunks"
      ]
    },
    {
      "cell_type": "code",
      "execution_count": null,
      "metadata": {
        "colab": {
          "base_uri": "https://localhost:8080/"
        },
        "id": "zRqO5n4uNuXA",
        "outputId": "1ee00944-02be-410d-a3a6-263fc4eea95f"
      },
      "outputs": [
        {
          "output_type": "stream",
          "name": "stdout",
          "text": [
            "sentence_detector_dl_healthcare download started this may take some time.\n",
            "Approximate size to download 367.3 KB\n",
            "[OK!]\n",
            "embeddings_clinical download started this may take some time.\n",
            "Approximate size to download 1.6 GB\n",
            "[OK!]\n",
            "ner_jsl_slim download started this may take some time.\n",
            "Approximate size to download 14.4 MB\n",
            "[OK!]\n"
          ]
        }
      ],
      "source": [
        "documentAssembler = DocumentAssembler()\\\n",
        "      .setInputCol(\"text\")\\\n",
        "      .setOutputCol(\"document\")\n",
        " \n",
        "sentenceDetector = SentenceDetectorDLModel.pretrained(\"sentence_detector_dl_healthcare\",\"en\",\"clinical/models\")\\\n",
        "        .setInputCols([\"document\"])\\\n",
        "        .setOutputCol(\"sentence\")\n",
        " \n",
        "tokenizer = Tokenizer()\\\n",
        "      .setInputCols([\"sentence\"])\\\n",
        "      .setOutputCol(\"token\")\\\n",
        " \n",
        "word_embeddings = WordEmbeddingsModel.pretrained(\"embeddings_clinical\", \"en\", \"clinical/models\")\\\n",
        "      .setInputCols([\"sentence\", \"token\"])\\\n",
        "      .setOutputCol(\"embeddings\")\n",
        " \n",
        "clinical_ner = MedicalNerModel.pretrained(\"ner_jsl_slim\", \"en\", \"clinical/models\") \\\n",
        "      .setInputCols([\"sentence\", \"token\", \"embeddings\"]) \\\n",
        "      .setOutputCol(\"ner\")\n",
        " \n",
        "ner_converter = NerConverter() \\\n",
        "      .setInputCols([\"sentence\", \"token\", \"ner\"]) \\\n",
        "      .setOutputCol(\"ner_chunk\")\\\n",
        "      .setWhiteList([\"Header\"])\n",
        "\n",
        "pipeline_sentence = Pipeline(\n",
        "    stages = [\n",
        "        documentAssembler,\n",
        "        sentenceDetector,\n",
        "        tokenizer,\n",
        "        word_embeddings,\n",
        "        clinical_ner,\n",
        "        ner_converter\n",
        "    ])\n",
        " \n",
        "empty_df = spark.createDataFrame([[\"\"]]).toDF('text')\n",
        "pipeline_model_sentence = pipeline_sentence.fit(empty_df)"
      ]
    },
    {
      "cell_type": "code",
      "execution_count": null,
      "metadata": {
        "colab": {
          "base_uri": "https://localhost:8080/"
        },
        "id": "Yx8ARe0zNNEe",
        "outputId": "d6fd184b-4321-4c71-db65-5413e7b1913f"
      },
      "outputs": [
        {
          "output_type": "stream",
          "name": "stdout",
          "text": [
            "+------------------------------------------------------------------------------------------------------------------------+\n",
            "|col                                                                                                                     |\n",
            "+------------------------------------------------------------------------------------------------------------------------+\n",
            "|{chunk, 43, 54, Description:, {entity -> Header, sentence -> 1, chunk -> 0, confidence -> 0.71484995}, []}              |\n",
            "|{chunk, 155, 177, PREOPERATIVE DIAGNOSIS:, {entity -> Header, sentence -> 3, chunk -> 1, confidence -> 0.3866333}, []}  |\n",
            "|{chunk, 241, 264, POSTOPERATIVE DIAGNOSIS:, {entity -> Header, sentence -> 4, chunk -> 2, confidence -> 0.36693335}, []}|\n",
            "|{chunk, 324, 334, ANESTHESIA:, {entity -> Header, sentence -> 5, chunk -> 3, confidence -> 0.68630004}, []}             |\n",
            "|{chunk, 371, 394, DESCRIPTION OF FINDINGS:, {entity -> Header, sentence -> 5, chunk -> 4, confidence -> 0.630125}, []}  |\n",
            "|{chunk, 508, 516, SPECIMEN:, {entity -> Header, sentence -> 6, chunk -> 5, confidence -> 0.68935}, []}                  |\n",
            "|{chunk, 568, 579, INDICATIONS:, {entity -> Header, sentence -> 7, chunk -> 6, confidence -> 0.86759996}, []}            |\n",
            "+------------------------------------------------------------------------------------------------------------------------+\n",
            "\n"
          ]
        }
      ],
      "source": [
        "result = pipeline_model_sentence.transform(df)\n",
        "result.selectExpr('explode(ner_chunk)').show(truncate=False)"
      ]
    },
    {
      "cell_type": "code",
      "execution_count": null,
      "metadata": {
        "colab": {
          "base_uri": "https://localhost:8080/"
        },
        "id": "poV6TdY0J3n4",
        "outputId": "91904063-040d-48b5-e2c9-b497bd494da2"
      },
      "outputs": [
        {
          "output_type": "execute_result",
          "data": {
            "text/plain": [
              "['text',\n",
              " 'file',\n",
              " 'document',\n",
              " 'sentence',\n",
              " 'token',\n",
              " 'embeddings',\n",
              " 'ner',\n",
              " 'ner_chunk']"
            ]
          },
          "metadata": {},
          "execution_count": 14
        }
      ],
      "source": [
        "result.columns"
      ]
    },
    {
      "cell_type": "code",
      "execution_count": null,
      "metadata": {
        "id": "8ybHSZaQJ3k-"
      },
      "outputs": [],
      "source": [
        "#applying ChunkSentenceSplitter \n",
        "chunkSentenceSplitter = ChunkSentenceSplitter()\\\n",
        "    .setInputCols(\"document\",\"ner_chunk\")\\\n",
        "    .setOutputCol(\"paragraphs\")\\\n",
        "    .setGroupBySentences(False)\n",
        "\n",
        "paragraphs = chunkSentenceSplitter.transform(result)"
      ]
    },
    {
      "cell_type": "code",
      "execution_count": null,
      "metadata": {
        "colab": {
          "base_uri": "https://localhost:8080/"
        },
        "id": "2mcZx6LJJ3iL",
        "outputId": "1bac6fde-f9da-483c-f3d4-d031baabf755"
      },
      "outputs": [
        {
          "output_type": "stream",
          "name": "stdout",
          "text": [
            "+--------------------+-----+--------------------+--------------------+--------------------+--------------------+--------------------+--------------------+--------------------+\n",
            "|                text| file|            document|            sentence|               token|          embeddings|                 ner|           ner_chunk|          paragraphs|\n",
            "+--------------------+-----+--------------------+--------------------+--------------------+--------------------+--------------------+--------------------+--------------------+\n",
            "|Sample Name: Meso...|1.txt|[{document, 0, 12...|[{document, 0, 42...|[{token, 0, 5, Sa...|[{word_embeddings...|[{named_entity, 0...|[{chunk, 43, 54, ...|[{document, 0, 43...|\n",
            "+--------------------+-----+--------------------+--------------------+--------------------+--------------------+--------------------+--------------------+--------------------+\n",
            "\n"
          ]
        }
      ],
      "source": [
        "paragraphs.show()"
      ]
    },
    {
      "cell_type": "code",
      "execution_count": null,
      "metadata": {
        "colab": {
          "base_uri": "https://localhost:8080/"
        },
        "id": "VR3wH1kLO0pU",
        "outputId": "d245ee7e-78cf-4d58-cd70-ea3e8e58a429"
      },
      "outputs": [
        {
          "output_type": "stream",
          "name": "stdout",
          "text": [
            "+----------------------------------------------------------------------------------------------------+\n",
            "|                                                                                              result|\n",
            "+----------------------------------------------------------------------------------------------------+\n",
            "|[Sample Name: Mesothelioma - Pleural Biopsy\n",
            ", Description: Right pleural effusion and suspected m...|\n",
            "+----------------------------------------------------------------------------------------------------+\n",
            "\n"
          ]
        }
      ],
      "source": [
        "paragraphs.select(\"paragraphs.result\").show(truncate=100)"
      ]
    },
    {
      "cell_type": "code",
      "execution_count": null,
      "metadata": {
        "colab": {
          "base_uri": "https://localhost:8080/",
          "height": 204
        },
        "id": "7YEy6236PkpI",
        "outputId": "9812bae0-7f14-4868-97c4-2c22def63b57"
      },
      "outputs": [
        {
          "output_type": "execute_result",
          "data": {
            "text/html": [
              "\n",
              "  <div id=\"df-7345e14f-a27d-4602-9e42-f7dc975a6f83\">\n",
              "    <div class=\"colab-df-container\">\n",
              "      <div>\n",
              "<style scoped>\n",
              "    .dataframe tbody tr th:only-of-type {\n",
              "        vertical-align: middle;\n",
              "    }\n",
              "\n",
              "    .dataframe tbody tr th {\n",
              "        vertical-align: top;\n",
              "    }\n",
              "\n",
              "    .dataframe thead th {\n",
              "        text-align: right;\n",
              "    }\n",
              "</style>\n",
              "<table border=\"1\" class=\"dataframe\">\n",
              "  <thead>\n",
              "    <tr style=\"text-align: right;\">\n",
              "      <th></th>\n",
              "      <th>result</th>\n",
              "      <th>entity</th>\n",
              "    </tr>\n",
              "  </thead>\n",
              "  <tbody>\n",
              "    <tr>\n",
              "      <th>0</th>\n",
              "      <td>Sample Name: Mesothelioma - Pleural Biopsy\\n</td>\n",
              "      <td>introduction</td>\n",
              "    </tr>\n",
              "    <tr>\n",
              "      <th>1</th>\n",
              "      <td>Description: Right pleural effusion and suspected malignant mesothelioma. (Medical Transcription Sample Report)\\n</td>\n",
              "      <td>Header</td>\n",
              "    </tr>\n",
              "    <tr>\n",
              "      <th>2</th>\n",
              "      <td>PREOPERATIVE DIAGNOSIS:  Right pleural effusion and suspected malignant mesothelioma.\\n</td>\n",
              "      <td>Header</td>\n",
              "    </tr>\n",
              "    <tr>\n",
              "      <th>3</th>\n",
              "      <td>POSTOPERATIVE DIAGNOSIS: Right pleural effusion, suspected malignant mesothelioma.\\n</td>\n",
              "      <td>Header</td>\n",
              "    </tr>\n",
              "    <tr>\n",
              "      <th>4</th>\n",
              "      <td>ANESTHESIA: General double-lumen endotracheal.\\n</td>\n",
              "      <td>Header</td>\n",
              "    </tr>\n",
              "  </tbody>\n",
              "</table>\n",
              "</div>\n",
              "      <button class=\"colab-df-convert\" onclick=\"convertToInteractive('df-7345e14f-a27d-4602-9e42-f7dc975a6f83')\"\n",
              "              title=\"Convert this dataframe to an interactive table.\"\n",
              "              style=\"display:none;\">\n",
              "        \n",
              "  <svg xmlns=\"http://www.w3.org/2000/svg\" height=\"24px\"viewBox=\"0 0 24 24\"\n",
              "       width=\"24px\">\n",
              "    <path d=\"M0 0h24v24H0V0z\" fill=\"none\"/>\n",
              "    <path d=\"M18.56 5.44l.94 2.06.94-2.06 2.06-.94-2.06-.94-.94-2.06-.94 2.06-2.06.94zm-11 1L8.5 8.5l.94-2.06 2.06-.94-2.06-.94L8.5 2.5l-.94 2.06-2.06.94zm10 10l.94 2.06.94-2.06 2.06-.94-2.06-.94-.94-2.06-.94 2.06-2.06.94z\"/><path d=\"M17.41 7.96l-1.37-1.37c-.4-.4-.92-.59-1.43-.59-.52 0-1.04.2-1.43.59L10.3 9.45l-7.72 7.72c-.78.78-.78 2.05 0 2.83L4 21.41c.39.39.9.59 1.41.59.51 0 1.02-.2 1.41-.59l7.78-7.78 2.81-2.81c.8-.78.8-2.07 0-2.86zM5.41 20L4 18.59l7.72-7.72 1.47 1.35L5.41 20z\"/>\n",
              "  </svg>\n",
              "      </button>\n",
              "      \n",
              "  <style>\n",
              "    .colab-df-container {\n",
              "      display:flex;\n",
              "      flex-wrap:wrap;\n",
              "      gap: 12px;\n",
              "    }\n",
              "\n",
              "    .colab-df-convert {\n",
              "      background-color: #E8F0FE;\n",
              "      border: none;\n",
              "      border-radius: 50%;\n",
              "      cursor: pointer;\n",
              "      display: none;\n",
              "      fill: #1967D2;\n",
              "      height: 32px;\n",
              "      padding: 0 0 0 0;\n",
              "      width: 32px;\n",
              "    }\n",
              "\n",
              "    .colab-df-convert:hover {\n",
              "      background-color: #E2EBFA;\n",
              "      box-shadow: 0px 1px 2px rgba(60, 64, 67, 0.3), 0px 1px 3px 1px rgba(60, 64, 67, 0.15);\n",
              "      fill: #174EA6;\n",
              "    }\n",
              "\n",
              "    [theme=dark] .colab-df-convert {\n",
              "      background-color: #3B4455;\n",
              "      fill: #D2E3FC;\n",
              "    }\n",
              "\n",
              "    [theme=dark] .colab-df-convert:hover {\n",
              "      background-color: #434B5C;\n",
              "      box-shadow: 0px 1px 3px 1px rgba(0, 0, 0, 0.15);\n",
              "      filter: drop-shadow(0px 1px 2px rgba(0, 0, 0, 0.3));\n",
              "      fill: #FFFFFF;\n",
              "    }\n",
              "  </style>\n",
              "\n",
              "      <script>\n",
              "        const buttonEl =\n",
              "          document.querySelector('#df-7345e14f-a27d-4602-9e42-f7dc975a6f83 button.colab-df-convert');\n",
              "        buttonEl.style.display =\n",
              "          google.colab.kernel.accessAllowed ? 'block' : 'none';\n",
              "\n",
              "        async function convertToInteractive(key) {\n",
              "          const element = document.querySelector('#df-7345e14f-a27d-4602-9e42-f7dc975a6f83');\n",
              "          const dataTable =\n",
              "            await google.colab.kernel.invokeFunction('convertToInteractive',\n",
              "                                                     [key], {});\n",
              "          if (!dataTable) return;\n",
              "\n",
              "          const docLinkHtml = 'Like what you see? Visit the ' +\n",
              "            '<a target=\"_blank\" href=https://colab.research.google.com/notebooks/data_table.ipynb>data table notebook</a>'\n",
              "            + ' to learn more about interactive tables.';\n",
              "          element.innerHTML = '';\n",
              "          dataTable['output_type'] = 'display_data';\n",
              "          await google.colab.output.renderOutput(dataTable, element);\n",
              "          const docLink = document.createElement('div');\n",
              "          docLink.innerHTML = docLinkHtml;\n",
              "          element.appendChild(docLink);\n",
              "        }\n",
              "      </script>\n",
              "    </div>\n",
              "  </div>\n",
              "  "
            ],
            "text/plain": [
              "                                                                                                              result        entity\n",
              "0                                                                       Sample Name: Mesothelioma - Pleural Biopsy\\n  introduction\n",
              "1  Description: Right pleural effusion and suspected malignant mesothelioma. (Medical Transcription Sample Report)\\n        Header\n",
              "2                            PREOPERATIVE DIAGNOSIS:  Right pleural effusion and suspected malignant mesothelioma.\\n        Header\n",
              "3                               POSTOPERATIVE DIAGNOSIS: Right pleural effusion, suspected malignant mesothelioma.\\n        Header\n",
              "4                                                                   ANESTHESIA: General double-lumen endotracheal.\\n        Header"
            ]
          },
          "metadata": {},
          "execution_count": 18
        }
      ],
      "source": [
        "pd.set_option('display.max_colwidth', None)\n",
        "result_df = paragraphs.selectExpr(\"explode(paragraphs) as result\").selectExpr(\"result.result\",\"result.metadata.entity\").toPandas()\n",
        "result_df.head()"
      ]
    },
    {
      "cell_type": "markdown",
      "metadata": {
        "id": "mfPboKgfRkRy"
      },
      "source": [
        "### Ner Pipeline without Sentence Splitter"
      ]
    },
    {
      "cell_type": "code",
      "source": [
        "documentAssembler = DocumentAssembler()\\\n",
        "      .setInputCol(\"text\")\\\n",
        "      .setOutputCol(\"document\")\n",
        "\n",
        "#sentenceDetector = SentenceDetectorDLModel.pretrained(\"sentence_detector_dl_healthcare\",\"en\",\"clinical/models\")\\\n",
        "#        .setInputCols([\"document\"])\\\n",
        "#        .setOutputCol(\"sentence\")\n",
        "\n",
        "tokenizer= Tokenizer()\\\n",
        "      .setInputCols([\"document\"])\\\n",
        "      .setOutputCol(\"token\")\n",
        "\n",
        "tokenClassifier = MedicalBertForTokenClassifier.pretrained(\"bert_token_classifier_ner_jsl_slim\", \"en\", \"clinical/models\")\\\n",
        "    .setInputCols(\"token\", \"document\")\\\n",
        "    .setOutputCol(\"ner\")\\\n",
        "    .setCaseSensitive(True)\n",
        "\n",
        "ner_converter = NerConverter() \\\n",
        "      .setInputCols([\"document\", \"token\", \"ner\"]) \\\n",
        "      .setOutputCol(\"ner_chunk\")\\\n",
        "      .setWhiteList([\"Header\"])\n",
        "\n",
        "pipeline = Pipeline(\n",
        "    stages = [\n",
        "        documentAssembler,\n",
        "        tokenizer,\n",
        "        tokenClassifier,\n",
        "        ner_converter\n",
        "    ])\n",
        " \n",
        "empty_df = spark.createDataFrame([[\"\"]]).toDF('text')\n",
        "pipeline_model = pipeline.fit(empty_df)"
      ],
      "metadata": {
        "colab": {
          "base_uri": "https://localhost:8080/"
        },
        "id": "KWmPDSvMROCW",
        "outputId": "6e7336ff-e7c5-4f47-c734-7ab987862ad9"
      },
      "execution_count": null,
      "outputs": [
        {
          "output_type": "stream",
          "name": "stdout",
          "text": [
            "bert_token_classifier_ner_jsl_slim download started this may take some time.\n",
            "Approximate size to download 385.7 MB\n",
            "[OK!]\n"
          ]
        }
      ]
    },
    {
      "cell_type": "code",
      "execution_count": null,
      "metadata": {
        "colab": {
          "base_uri": "https://localhost:8080/"
        },
        "id": "YnfxFzC0zazx",
        "outputId": "fb2c9413-ee6d-4e5a-ef84-6c99a7740af1"
      },
      "outputs": [
        {
          "output_type": "stream",
          "name": "stdout",
          "text": [
            "+----------------------------------------------------------------------------------------------+\n",
            "|col                                                                                           |\n",
            "+----------------------------------------------------------------------------------------------+\n",
            "|{chunk, 155, 177, PREOPERATIVE DIAGNOSIS:, {entity -> Header, sentence -> 0, chunk -> 0}, []} |\n",
            "|{chunk, 241, 264, POSTOPERATIVE DIAGNOSIS:, {entity -> Header, sentence -> 0, chunk -> 1}, []}|\n",
            "|{chunk, 324, 333, ANESTHESIA, {entity -> Header, sentence -> 0, chunk -> 2}, []}              |\n",
            "|{chunk, 371, 393, DESCRIPTION OF FINDINGS, {entity -> Header, sentence -> 0, chunk -> 3}, []} |\n",
            "|{chunk, 508, 516, SPECIMEN:, {entity -> Header, sentence -> 0, chunk -> 4}, []}               |\n",
            "|{chunk, 568, 579, INDICATIONS:, {entity -> Header, sentence -> 0, chunk -> 5}, []}            |\n",
            "+----------------------------------------------------------------------------------------------+\n",
            "\n"
          ]
        }
      ],
      "source": [
        "result = pipeline_model.transform(df)\n",
        "result.selectExpr('explode(ner_chunk)').show(truncate=False)"
      ]
    },
    {
      "cell_type": "code",
      "execution_count": null,
      "metadata": {
        "colab": {
          "base_uri": "https://localhost:8080/"
        },
        "id": "u7KlfLavTBut",
        "outputId": "69db9943-8f67-4a08-bc47-aa17ea3c4b5f"
      },
      "outputs": [
        {
          "output_type": "execute_result",
          "data": {
            "text/plain": [
              "['text', 'file', 'document', 'token', 'ner', 'ner_chunk']"
            ]
          },
          "metadata": {},
          "execution_count": 30
        }
      ],
      "source": [
        "result.columns #no sentence column"
      ]
    },
    {
      "cell_type": "code",
      "execution_count": null,
      "metadata": {
        "id": "14Ms3D27O0j4"
      },
      "outputs": [],
      "source": [
        "#applying ChunkSentenceSplitter \n",
        "chunkSentenceSplitter = ChunkSentenceSplitter()\\\n",
        "    .setInputCols(\"ner_chunk\",\"document\")\\\n",
        "    .setOutputCol(\"paragraphs\")\\\n",
        "\n",
        "paragraphs = chunkSentenceSplitter.transform(result)"
      ]
    },
    {
      "cell_type": "code",
      "execution_count": null,
      "metadata": {
        "colab": {
          "base_uri": "https://localhost:8080/"
        },
        "id": "GlMF_Q8_NnNb",
        "outputId": "a1a2d836-952f-428b-f584-39601e2dfbde"
      },
      "outputs": [
        {
          "output_type": "stream",
          "name": "stdout",
          "text": [
            "+--------------------+-----+--------------------+--------------------+--------------------+--------------------+--------------------+\n",
            "|                text| file|            document|               token|                 ner|           ner_chunk|          paragraphs|\n",
            "+--------------------+-----+--------------------+--------------------+--------------------+--------------------+--------------------+\n",
            "|Sample Name: Meso...|1.txt|[{document, 0, 12...|[{token, 0, 5, Sa...|[{named_entity, 0...|[{chunk, 155, 177...|[{document, 0, 15...|\n",
            "+--------------------+-----+--------------------+--------------------+--------------------+--------------------+--------------------+\n",
            "\n"
          ]
        }
      ],
      "source": [
        "paragraphs.show() "
      ]
    },
    {
      "cell_type": "code",
      "execution_count": null,
      "metadata": {
        "colab": {
          "base_uri": "https://localhost:8080/"
        },
        "id": "Bmo5ghIlPavC",
        "outputId": "51ba4141-d188-416c-8aec-410984c76c95"
      },
      "outputs": [
        {
          "output_type": "stream",
          "name": "stdout",
          "text": [
            "+----------------------------------------------------------------------------------------------------+\n",
            "|                                                                                              result|\n",
            "+----------------------------------------------------------------------------------------------------+\n",
            "|[Sample Name: Mesothelioma - Pleural Biopsy\n",
            "Description: Right pleural effusion and suspected mal...|\n",
            "+----------------------------------------------------------------------------------------------------+\n",
            "\n"
          ]
        }
      ],
      "source": [
        "paragraphs.select(\"paragraphs.result\").show(truncate=100)"
      ]
    },
    {
      "cell_type": "code",
      "execution_count": null,
      "metadata": {
        "colab": {
          "base_uri": "https://localhost:8080/",
          "height": 204
        },
        "id": "34Y2bJ94Pape",
        "outputId": "3490e63b-37c0-4255-b2f3-bb35ee02c456"
      },
      "outputs": [
        {
          "output_type": "execute_result",
          "data": {
            "text/html": [
              "\n",
              "  <div id=\"df-c45d29b7-fa15-411d-a889-1ff71154412c\">\n",
              "    <div class=\"colab-df-container\">\n",
              "      <div>\n",
              "<style scoped>\n",
              "    .dataframe tbody tr th:only-of-type {\n",
              "        vertical-align: middle;\n",
              "    }\n",
              "\n",
              "    .dataframe tbody tr th {\n",
              "        vertical-align: top;\n",
              "    }\n",
              "\n",
              "    .dataframe thead th {\n",
              "        text-align: right;\n",
              "    }\n",
              "</style>\n",
              "<table border=\"1\" class=\"dataframe\">\n",
              "  <thead>\n",
              "    <tr style=\"text-align: right;\">\n",
              "      <th></th>\n",
              "      <th>result</th>\n",
              "      <th>entity</th>\n",
              "      <th>splitter_chunk</th>\n",
              "    </tr>\n",
              "  </thead>\n",
              "  <tbody>\n",
              "    <tr>\n",
              "      <th>0</th>\n",
              "      <td>Sample Name: Mesothelioma - Pleural Biopsy\\nDescription: Right pleural effusion and suspected malignant mesothelioma. (Medical Transcription Sample Report)\\n</td>\n",
              "      <td>introduction</td>\n",
              "      <td>UNK</td>\n",
              "    </tr>\n",
              "    <tr>\n",
              "      <th>1</th>\n",
              "      <td>PREOPERATIVE DIAGNOSIS:  Right pleural effusion and suspected malignant mesothelioma.\\n</td>\n",
              "      <td>Header</td>\n",
              "      <td>PREOPERATIVE DIAGNOSIS:</td>\n",
              "    </tr>\n",
              "    <tr>\n",
              "      <th>2</th>\n",
              "      <td>POSTOPERATIVE DIAGNOSIS: Right pleural effusion, suspected malignant mesothelioma.\\n</td>\n",
              "      <td>Header</td>\n",
              "      <td>POSTOPERATIVE DIAGNOSIS:</td>\n",
              "    </tr>\n",
              "    <tr>\n",
              "      <th>3</th>\n",
              "      <td>ANESTHESIA: General double-lumen endotracheal.\\n</td>\n",
              "      <td>Header</td>\n",
              "      <td>ANESTHESIA</td>\n",
              "    </tr>\n",
              "    <tr>\n",
              "      <th>4</th>\n",
              "      <td>DESCRIPTION OF FINDINGS:  Right pleural effusion, firm nodules, diffuse scattered throughout the right pleura and diaphragmatic surface.\\n</td>\n",
              "      <td>Header</td>\n",
              "      <td>DESCRIPTION OF FINDINGS</td>\n",
              "    </tr>\n",
              "  </tbody>\n",
              "</table>\n",
              "</div>\n",
              "      <button class=\"colab-df-convert\" onclick=\"convertToInteractive('df-c45d29b7-fa15-411d-a889-1ff71154412c')\"\n",
              "              title=\"Convert this dataframe to an interactive table.\"\n",
              "              style=\"display:none;\">\n",
              "        \n",
              "  <svg xmlns=\"http://www.w3.org/2000/svg\" height=\"24px\"viewBox=\"0 0 24 24\"\n",
              "       width=\"24px\">\n",
              "    <path d=\"M0 0h24v24H0V0z\" fill=\"none\"/>\n",
              "    <path d=\"M18.56 5.44l.94 2.06.94-2.06 2.06-.94-2.06-.94-.94-2.06-.94 2.06-2.06.94zm-11 1L8.5 8.5l.94-2.06 2.06-.94-2.06-.94L8.5 2.5l-.94 2.06-2.06.94zm10 10l.94 2.06.94-2.06 2.06-.94-2.06-.94-.94-2.06-.94 2.06-2.06.94z\"/><path d=\"M17.41 7.96l-1.37-1.37c-.4-.4-.92-.59-1.43-.59-.52 0-1.04.2-1.43.59L10.3 9.45l-7.72 7.72c-.78.78-.78 2.05 0 2.83L4 21.41c.39.39.9.59 1.41.59.51 0 1.02-.2 1.41-.59l7.78-7.78 2.81-2.81c.8-.78.8-2.07 0-2.86zM5.41 20L4 18.59l7.72-7.72 1.47 1.35L5.41 20z\"/>\n",
              "  </svg>\n",
              "      </button>\n",
              "      \n",
              "  <style>\n",
              "    .colab-df-container {\n",
              "      display:flex;\n",
              "      flex-wrap:wrap;\n",
              "      gap: 12px;\n",
              "    }\n",
              "\n",
              "    .colab-df-convert {\n",
              "      background-color: #E8F0FE;\n",
              "      border: none;\n",
              "      border-radius: 50%;\n",
              "      cursor: pointer;\n",
              "      display: none;\n",
              "      fill: #1967D2;\n",
              "      height: 32px;\n",
              "      padding: 0 0 0 0;\n",
              "      width: 32px;\n",
              "    }\n",
              "\n",
              "    .colab-df-convert:hover {\n",
              "      background-color: #E2EBFA;\n",
              "      box-shadow: 0px 1px 2px rgba(60, 64, 67, 0.3), 0px 1px 3px 1px rgba(60, 64, 67, 0.15);\n",
              "      fill: #174EA6;\n",
              "    }\n",
              "\n",
              "    [theme=dark] .colab-df-convert {\n",
              "      background-color: #3B4455;\n",
              "      fill: #D2E3FC;\n",
              "    }\n",
              "\n",
              "    [theme=dark] .colab-df-convert:hover {\n",
              "      background-color: #434B5C;\n",
              "      box-shadow: 0px 1px 3px 1px rgba(0, 0, 0, 0.15);\n",
              "      filter: drop-shadow(0px 1px 2px rgba(0, 0, 0, 0.3));\n",
              "      fill: #FFFFFF;\n",
              "    }\n",
              "  </style>\n",
              "\n",
              "      <script>\n",
              "        const buttonEl =\n",
              "          document.querySelector('#df-c45d29b7-fa15-411d-a889-1ff71154412c button.colab-df-convert');\n",
              "        buttonEl.style.display =\n",
              "          google.colab.kernel.accessAllowed ? 'block' : 'none';\n",
              "\n",
              "        async function convertToInteractive(key) {\n",
              "          const element = document.querySelector('#df-c45d29b7-fa15-411d-a889-1ff71154412c');\n",
              "          const dataTable =\n",
              "            await google.colab.kernel.invokeFunction('convertToInteractive',\n",
              "                                                     [key], {});\n",
              "          if (!dataTable) return;\n",
              "\n",
              "          const docLinkHtml = 'Like what you see? Visit the ' +\n",
              "            '<a target=\"_blank\" href=https://colab.research.google.com/notebooks/data_table.ipynb>data table notebook</a>'\n",
              "            + ' to learn more about interactive tables.';\n",
              "          element.innerHTML = '';\n",
              "          dataTable['output_type'] = 'display_data';\n",
              "          await google.colab.output.renderOutput(dataTable, element);\n",
              "          const docLink = document.createElement('div');\n",
              "          docLink.innerHTML = docLinkHtml;\n",
              "          element.appendChild(docLink);\n",
              "        }\n",
              "      </script>\n",
              "    </div>\n",
              "  </div>\n",
              "  "
            ],
            "text/plain": [
              "                                                                                                                                                          result  ...            splitter_chunk\n",
              "0  Sample Name: Mesothelioma - Pleural Biopsy\\nDescription: Right pleural effusion and suspected malignant mesothelioma. (Medical Transcription Sample Report)\\n  ...                       UNK\n",
              "1                                                                        PREOPERATIVE DIAGNOSIS:  Right pleural effusion and suspected malignant mesothelioma.\\n  ...   PREOPERATIVE DIAGNOSIS:\n",
              "2                                                                           POSTOPERATIVE DIAGNOSIS: Right pleural effusion, suspected malignant mesothelioma.\\n  ...  POSTOPERATIVE DIAGNOSIS:\n",
              "3                                                                                                               ANESTHESIA: General double-lumen endotracheal.\\n  ...                ANESTHESIA\n",
              "4                     DESCRIPTION OF FINDINGS:  Right pleural effusion, firm nodules, diffuse scattered throughout the right pleura and diaphragmatic surface.\\n  ...   DESCRIPTION OF FINDINGS\n",
              "\n",
              "[5 rows x 3 columns]"
            ]
          },
          "metadata": {},
          "execution_count": 34
        }
      ],
      "source": [
        "result_df = paragraphs.selectExpr(\"explode(paragraphs) as result\").selectExpr(\"result.result\",\"result.metadata.entity\", \"result.metadata.splitter_chunk\").toPandas()\n",
        "result_df.head()"
      ]
    },
    {
      "cell_type": "markdown",
      "metadata": {
        "id": "bl3WOfMnT1D2"
      },
      "source": [
        "`.setInsertChunk()` parameter to set whether remove chunks from splitted parts or not. "
      ]
    },
    {
      "cell_type": "code",
      "execution_count": null,
      "metadata": {
        "id": "NMDiBa3PK57R"
      },
      "outputs": [],
      "source": [
        "chunkSentenceSplitter = ChunkSentenceSplitter()\\\n",
        "    .setInputCols(\"ner_chunk\",\"document\")\\\n",
        "    .setOutputCol(\"paragraphs\")\\\n",
        "    .setInsertChunk(False)\n",
        "\n",
        "paragraphs = chunkSentenceSplitter.transform(result)"
      ]
    },
    {
      "cell_type": "code",
      "execution_count": null,
      "metadata": {
        "colab": {
          "base_uri": "https://localhost:8080/"
        },
        "id": "VlPzTyevK52L",
        "outputId": "beb681c1-887f-4f03-db37-011d70231090"
      },
      "outputs": [
        {
          "output_type": "stream",
          "name": "stdout",
          "text": [
            "+----------------------------------------------------------------------------------------------------+\n",
            "|                                                                                              result|\n",
            "+----------------------------------------------------------------------------------------------------+\n",
            "|[Sample Name: Mesothelioma - Pleural Biopsy\n",
            "Description: Right pleural effusion and suspected mal...|\n",
            "+----------------------------------------------------------------------------------------------------+\n",
            "\n"
          ]
        }
      ],
      "source": [
        "paragraphs.select(\"paragraphs.result\").show(truncate=100)"
      ]
    },
    {
      "cell_type": "code",
      "execution_count": null,
      "metadata": {
        "colab": {
          "base_uri": "https://localhost:8080/",
          "height": 204
        },
        "id": "-rpSK8WtK5xQ",
        "outputId": "a9580a39-5e4a-48c2-d406-bb609eb356c3"
      },
      "outputs": [
        {
          "output_type": "execute_result",
          "data": {
            "text/html": [
              "\n",
              "  <div id=\"df-9b3ce464-802f-4bea-ae19-dd422afc9557\">\n",
              "    <div class=\"colab-df-container\">\n",
              "      <div>\n",
              "<style scoped>\n",
              "    .dataframe tbody tr th:only-of-type {\n",
              "        vertical-align: middle;\n",
              "    }\n",
              "\n",
              "    .dataframe tbody tr th {\n",
              "        vertical-align: top;\n",
              "    }\n",
              "\n",
              "    .dataframe thead th {\n",
              "        text-align: right;\n",
              "    }\n",
              "</style>\n",
              "<table border=\"1\" class=\"dataframe\">\n",
              "  <thead>\n",
              "    <tr style=\"text-align: right;\">\n",
              "      <th></th>\n",
              "      <th>result</th>\n",
              "      <th>entity</th>\n",
              "      <th>splitter_chunk</th>\n",
              "    </tr>\n",
              "  </thead>\n",
              "  <tbody>\n",
              "    <tr>\n",
              "      <th>0</th>\n",
              "      <td>Sample Name: Mesothelioma - Pleural Biopsy\\nDescription: Right pleural effusion and suspected malignant mesothelioma. (Medical Transcription Sample Report)\\n</td>\n",
              "      <td>introduction</td>\n",
              "      <td>UNK</td>\n",
              "    </tr>\n",
              "    <tr>\n",
              "      <th>1</th>\n",
              "      <td>Right pleural effusion and suspected malignant mesothelioma.\\n</td>\n",
              "      <td>Header</td>\n",
              "      <td>PREOPERATIVE DIAGNOSIS:</td>\n",
              "    </tr>\n",
              "    <tr>\n",
              "      <th>2</th>\n",
              "      <td>Right pleural effusion, suspected malignant mesothelioma.\\n</td>\n",
              "      <td>Header</td>\n",
              "      <td>POSTOPERATIVE DIAGNOSIS:</td>\n",
              "    </tr>\n",
              "    <tr>\n",
              "      <th>3</th>\n",
              "      <td>: General double-lumen endotracheal.\\n</td>\n",
              "      <td>Header</td>\n",
              "      <td>ANESTHESIA</td>\n",
              "    </tr>\n",
              "    <tr>\n",
              "      <th>4</th>\n",
              "      <td>:  Right pleural effusion, firm nodules, diffuse scattered throughout the right pleura and diaphragmatic surface.\\n</td>\n",
              "      <td>Header</td>\n",
              "      <td>DESCRIPTION OF FINDINGS</td>\n",
              "    </tr>\n",
              "  </tbody>\n",
              "</table>\n",
              "</div>\n",
              "      <button class=\"colab-df-convert\" onclick=\"convertToInteractive('df-9b3ce464-802f-4bea-ae19-dd422afc9557')\"\n",
              "              title=\"Convert this dataframe to an interactive table.\"\n",
              "              style=\"display:none;\">\n",
              "        \n",
              "  <svg xmlns=\"http://www.w3.org/2000/svg\" height=\"24px\"viewBox=\"0 0 24 24\"\n",
              "       width=\"24px\">\n",
              "    <path d=\"M0 0h24v24H0V0z\" fill=\"none\"/>\n",
              "    <path d=\"M18.56 5.44l.94 2.06.94-2.06 2.06-.94-2.06-.94-.94-2.06-.94 2.06-2.06.94zm-11 1L8.5 8.5l.94-2.06 2.06-.94-2.06-.94L8.5 2.5l-.94 2.06-2.06.94zm10 10l.94 2.06.94-2.06 2.06-.94-2.06-.94-.94-2.06-.94 2.06-2.06.94z\"/><path d=\"M17.41 7.96l-1.37-1.37c-.4-.4-.92-.59-1.43-.59-.52 0-1.04.2-1.43.59L10.3 9.45l-7.72 7.72c-.78.78-.78 2.05 0 2.83L4 21.41c.39.39.9.59 1.41.59.51 0 1.02-.2 1.41-.59l7.78-7.78 2.81-2.81c.8-.78.8-2.07 0-2.86zM5.41 20L4 18.59l7.72-7.72 1.47 1.35L5.41 20z\"/>\n",
              "  </svg>\n",
              "      </button>\n",
              "      \n",
              "  <style>\n",
              "    .colab-df-container {\n",
              "      display:flex;\n",
              "      flex-wrap:wrap;\n",
              "      gap: 12px;\n",
              "    }\n",
              "\n",
              "    .colab-df-convert {\n",
              "      background-color: #E8F0FE;\n",
              "      border: none;\n",
              "      border-radius: 50%;\n",
              "      cursor: pointer;\n",
              "      display: none;\n",
              "      fill: #1967D2;\n",
              "      height: 32px;\n",
              "      padding: 0 0 0 0;\n",
              "      width: 32px;\n",
              "    }\n",
              "\n",
              "    .colab-df-convert:hover {\n",
              "      background-color: #E2EBFA;\n",
              "      box-shadow: 0px 1px 2px rgba(60, 64, 67, 0.3), 0px 1px 3px 1px rgba(60, 64, 67, 0.15);\n",
              "      fill: #174EA6;\n",
              "    }\n",
              "\n",
              "    [theme=dark] .colab-df-convert {\n",
              "      background-color: #3B4455;\n",
              "      fill: #D2E3FC;\n",
              "    }\n",
              "\n",
              "    [theme=dark] .colab-df-convert:hover {\n",
              "      background-color: #434B5C;\n",
              "      box-shadow: 0px 1px 3px 1px rgba(0, 0, 0, 0.15);\n",
              "      filter: drop-shadow(0px 1px 2px rgba(0, 0, 0, 0.3));\n",
              "      fill: #FFFFFF;\n",
              "    }\n",
              "  </style>\n",
              "\n",
              "      <script>\n",
              "        const buttonEl =\n",
              "          document.querySelector('#df-9b3ce464-802f-4bea-ae19-dd422afc9557 button.colab-df-convert');\n",
              "        buttonEl.style.display =\n",
              "          google.colab.kernel.accessAllowed ? 'block' : 'none';\n",
              "\n",
              "        async function convertToInteractive(key) {\n",
              "          const element = document.querySelector('#df-9b3ce464-802f-4bea-ae19-dd422afc9557');\n",
              "          const dataTable =\n",
              "            await google.colab.kernel.invokeFunction('convertToInteractive',\n",
              "                                                     [key], {});\n",
              "          if (!dataTable) return;\n",
              "\n",
              "          const docLinkHtml = 'Like what you see? Visit the ' +\n",
              "            '<a target=\"_blank\" href=https://colab.research.google.com/notebooks/data_table.ipynb>data table notebook</a>'\n",
              "            + ' to learn more about interactive tables.';\n",
              "          element.innerHTML = '';\n",
              "          dataTable['output_type'] = 'display_data';\n",
              "          await google.colab.output.renderOutput(dataTable, element);\n",
              "          const docLink = document.createElement('div');\n",
              "          docLink.innerHTML = docLinkHtml;\n",
              "          element.appendChild(docLink);\n",
              "        }\n",
              "      </script>\n",
              "    </div>\n",
              "  </div>\n",
              "  "
            ],
            "text/plain": [
              "                                                                                                                                                          result  ...            splitter_chunk\n",
              "0  Sample Name: Mesothelioma - Pleural Biopsy\\nDescription: Right pleural effusion and suspected malignant mesothelioma. (Medical Transcription Sample Report)\\n  ...                       UNK\n",
              "1                                                                                                 Right pleural effusion and suspected malignant mesothelioma.\\n  ...   PREOPERATIVE DIAGNOSIS:\n",
              "2                                                                                                    Right pleural effusion, suspected malignant mesothelioma.\\n  ...  POSTOPERATIVE DIAGNOSIS:\n",
              "3                                                                                                                         : General double-lumen endotracheal.\\n  ...                ANESTHESIA\n",
              "4                                            :  Right pleural effusion, firm nodules, diffuse scattered throughout the right pleura and diaphragmatic surface.\\n  ...   DESCRIPTION OF FINDINGS\n",
              "\n",
              "[5 rows x 3 columns]"
            ]
          },
          "metadata": {},
          "execution_count": 37
        }
      ],
      "source": [
        "result_insert = paragraphs.selectExpr(\"explode(paragraphs) as result\").selectExpr(\"result.result\",\"result.metadata.entity\", \"result.metadata.splitter_chunk\").toPandas()\n",
        "result_insert.head()"
      ]
    },
    {
      "cell_type": "markdown",
      "metadata": {
        "id": "0r16mxmy3yon"
      },
      "source": [
        "Check how `.setInsertChunk(True)` affects the result"
      ]
    },
    {
      "cell_type": "code",
      "execution_count": null,
      "metadata": {
        "colab": {
          "base_uri": "https://localhost:8080/",
          "height": 204
        },
        "id": "V3hx_MQs3ezD",
        "outputId": "5653c0d9-7e88-48dd-94e9-4618ff667bbc"
      },
      "outputs": [
        {
          "output_type": "execute_result",
          "data": {
            "text/html": [
              "\n",
              "  <div id=\"df-242d797d-ead2-4c0d-9a94-cf42945dd454\">\n",
              "    <div class=\"colab-df-container\">\n",
              "      <div>\n",
              "<style scoped>\n",
              "    .dataframe tbody tr th:only-of-type {\n",
              "        vertical-align: middle;\n",
              "    }\n",
              "\n",
              "    .dataframe tbody tr th {\n",
              "        vertical-align: top;\n",
              "    }\n",
              "\n",
              "    .dataframe thead th {\n",
              "        text-align: right;\n",
              "    }\n",
              "</style>\n",
              "<table border=\"1\" class=\"dataframe\">\n",
              "  <thead>\n",
              "    <tr style=\"text-align: right;\">\n",
              "      <th></th>\n",
              "      <th>result</th>\n",
              "      <th>entity</th>\n",
              "      <th>splitter_chunk</th>\n",
              "    </tr>\n",
              "  </thead>\n",
              "  <tbody>\n",
              "    <tr>\n",
              "      <th>0</th>\n",
              "      <td>Sample Name: Mesothelioma - Pleural Biopsy\\nDescription: Right pleural effusion and suspected malignant mesothelioma. (Medical Transcription Sample Report)\\n</td>\n",
              "      <td>Intro</td>\n",
              "      <td>UNK</td>\n",
              "    </tr>\n",
              "    <tr>\n",
              "      <th>1</th>\n",
              "      <td>PREOPERATIVE DIAGNOSIS:  Right pleural effusion and suspected malignant mesothelioma.\\n</td>\n",
              "      <td>Header</td>\n",
              "      <td>PREOPERATIVE DIAGNOSIS:</td>\n",
              "    </tr>\n",
              "    <tr>\n",
              "      <th>2</th>\n",
              "      <td>POSTOPERATIVE DIAGNOSIS: Right pleural effusion, suspected malignant mesothelioma.\\n</td>\n",
              "      <td>Header</td>\n",
              "      <td>POSTOPERATIVE DIAGNOSIS:</td>\n",
              "    </tr>\n",
              "    <tr>\n",
              "      <th>3</th>\n",
              "      <td>ANESTHESIA: General double-lumen endotracheal.\\n</td>\n",
              "      <td>Header</td>\n",
              "      <td>ANESTHESIA</td>\n",
              "    </tr>\n",
              "    <tr>\n",
              "      <th>4</th>\n",
              "      <td>DESCRIPTION OF FINDINGS:  Right pleural effusion, firm nodules, diffuse scattered throughout the right pleura and diaphragmatic surface.\\n</td>\n",
              "      <td>Header</td>\n",
              "      <td>DESCRIPTION OF FINDINGS</td>\n",
              "    </tr>\n",
              "  </tbody>\n",
              "</table>\n",
              "</div>\n",
              "      <button class=\"colab-df-convert\" onclick=\"convertToInteractive('df-242d797d-ead2-4c0d-9a94-cf42945dd454')\"\n",
              "              title=\"Convert this dataframe to an interactive table.\"\n",
              "              style=\"display:none;\">\n",
              "        \n",
              "  <svg xmlns=\"http://www.w3.org/2000/svg\" height=\"24px\"viewBox=\"0 0 24 24\"\n",
              "       width=\"24px\">\n",
              "    <path d=\"M0 0h24v24H0V0z\" fill=\"none\"/>\n",
              "    <path d=\"M18.56 5.44l.94 2.06.94-2.06 2.06-.94-2.06-.94-.94-2.06-.94 2.06-2.06.94zm-11 1L8.5 8.5l.94-2.06 2.06-.94-2.06-.94L8.5 2.5l-.94 2.06-2.06.94zm10 10l.94 2.06.94-2.06 2.06-.94-2.06-.94-.94-2.06-.94 2.06-2.06.94z\"/><path d=\"M17.41 7.96l-1.37-1.37c-.4-.4-.92-.59-1.43-.59-.52 0-1.04.2-1.43.59L10.3 9.45l-7.72 7.72c-.78.78-.78 2.05 0 2.83L4 21.41c.39.39.9.59 1.41.59.51 0 1.02-.2 1.41-.59l7.78-7.78 2.81-2.81c.8-.78.8-2.07 0-2.86zM5.41 20L4 18.59l7.72-7.72 1.47 1.35L5.41 20z\"/>\n",
              "  </svg>\n",
              "      </button>\n",
              "      \n",
              "  <style>\n",
              "    .colab-df-container {\n",
              "      display:flex;\n",
              "      flex-wrap:wrap;\n",
              "      gap: 12px;\n",
              "    }\n",
              "\n",
              "    .colab-df-convert {\n",
              "      background-color: #E8F0FE;\n",
              "      border: none;\n",
              "      border-radius: 50%;\n",
              "      cursor: pointer;\n",
              "      display: none;\n",
              "      fill: #1967D2;\n",
              "      height: 32px;\n",
              "      padding: 0 0 0 0;\n",
              "      width: 32px;\n",
              "    }\n",
              "\n",
              "    .colab-df-convert:hover {\n",
              "      background-color: #E2EBFA;\n",
              "      box-shadow: 0px 1px 2px rgba(60, 64, 67, 0.3), 0px 1px 3px 1px rgba(60, 64, 67, 0.15);\n",
              "      fill: #174EA6;\n",
              "    }\n",
              "\n",
              "    [theme=dark] .colab-df-convert {\n",
              "      background-color: #3B4455;\n",
              "      fill: #D2E3FC;\n",
              "    }\n",
              "\n",
              "    [theme=dark] .colab-df-convert:hover {\n",
              "      background-color: #434B5C;\n",
              "      box-shadow: 0px 1px 3px 1px rgba(0, 0, 0, 0.15);\n",
              "      filter: drop-shadow(0px 1px 2px rgba(0, 0, 0, 0.3));\n",
              "      fill: #FFFFFF;\n",
              "    }\n",
              "  </style>\n",
              "\n",
              "      <script>\n",
              "        const buttonEl =\n",
              "          document.querySelector('#df-242d797d-ead2-4c0d-9a94-cf42945dd454 button.colab-df-convert');\n",
              "        buttonEl.style.display =\n",
              "          google.colab.kernel.accessAllowed ? 'block' : 'none';\n",
              "\n",
              "        async function convertToInteractive(key) {\n",
              "          const element = document.querySelector('#df-242d797d-ead2-4c0d-9a94-cf42945dd454');\n",
              "          const dataTable =\n",
              "            await google.colab.kernel.invokeFunction('convertToInteractive',\n",
              "                                                     [key], {});\n",
              "          if (!dataTable) return;\n",
              "\n",
              "          const docLinkHtml = 'Like what you see? Visit the ' +\n",
              "            '<a target=\"_blank\" href=https://colab.research.google.com/notebooks/data_table.ipynb>data table notebook</a>'\n",
              "            + ' to learn more about interactive tables.';\n",
              "          element.innerHTML = '';\n",
              "          dataTable['output_type'] = 'display_data';\n",
              "          await google.colab.output.renderOutput(dataTable, element);\n",
              "          const docLink = document.createElement('div');\n",
              "          docLink.innerHTML = docLinkHtml;\n",
              "          element.appendChild(docLink);\n",
              "        }\n",
              "      </script>\n",
              "    </div>\n",
              "  </div>\n",
              "  "
            ],
            "text/plain": [
              "                                                                                                                                                          result  ...            splitter_chunk\n",
              "0  Sample Name: Mesothelioma - Pleural Biopsy\\nDescription: Right pleural effusion and suspected malignant mesothelioma. (Medical Transcription Sample Report)\\n  ...                       UNK\n",
              "1                                                                        PREOPERATIVE DIAGNOSIS:  Right pleural effusion and suspected malignant mesothelioma.\\n  ...   PREOPERATIVE DIAGNOSIS:\n",
              "2                                                                           POSTOPERATIVE DIAGNOSIS: Right pleural effusion, suspected malignant mesothelioma.\\n  ...  POSTOPERATIVE DIAGNOSIS:\n",
              "3                                                                                                               ANESTHESIA: General double-lumen endotracheal.\\n  ...                ANESTHESIA\n",
              "4                     DESCRIPTION OF FINDINGS:  Right pleural effusion, firm nodules, diffuse scattered throughout the right pleura and diaphragmatic surface.\\n  ...   DESCRIPTION OF FINDINGS\n",
              "\n",
              "[5 rows x 3 columns]"
            ]
          },
          "metadata": {},
          "execution_count": 38
        }
      ],
      "source": [
        "chunkSentenceSplitter_2 = ChunkSentenceSplitter()\\\n",
        "    .setInputCols(\"ner_chunk\",\"document\")\\\n",
        "    .setOutputCol(\"paragraphs\")\\\n",
        "    .setInsertChunk(True)\\\n",
        "    .setDefaultEntity(\"Intro\") #to set the name of the introduction entity\n",
        "    \n",
        "\n",
        "paragraphs = chunkSentenceSplitter_2.transform(result)\n",
        "\n",
        "result = paragraphs.selectExpr(\"explode(paragraphs) as result\").selectExpr(\"result.result\",\"result.metadata.entity\", \"result.metadata.splitter_chunk\").toPandas()\n",
        "result.head()"
      ]
    }
  ],
  "metadata": {
    "colab": {
      "collapsed_sections": [],
      "name": "18.Chunk_Sentence_Splitter.ipynb",
      "provenance": []
    },
    "kernelspec": {
      "display_name": "Python 3 (ipykernel)",
      "language": "python",
      "name": "python3"
    },
    "language_info": {
      "name": "python"
    }
  },
  "nbformat": 4,
  "nbformat_minor": 0
}
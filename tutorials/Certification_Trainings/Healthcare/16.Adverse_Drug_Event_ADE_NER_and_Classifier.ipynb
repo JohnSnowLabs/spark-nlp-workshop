{
  "nbformat": 4,
  "nbformat_minor": 0,
  "metadata": {
    "colab": {
      "name": "16.Adverse_Drug_Event_ADE_NER_and_Classifier.ipynb",
      "provenance": [],
      "collapsed_sections": [],
      "toc_visible": true
    },
    "kernelspec": {
      "name": "python3",
      "display_name": "Python 3"
    }
  },
  "cells": [
    {
      "cell_type": "markdown",
      "metadata": {
        "id": "y107AePkJiya"
      },
      "source": [
        "![JohnSnowLabs](https://nlp.johnsnowlabs.com/assets/images/logo.png)"
      ]
    },
    {
      "cell_type": "markdown",
      "metadata": {
        "id": "Tx9MBsjFJkt1"
      },
      "source": [
        "[![Open In Colab](https://colab.research.google.com/assets/colab-badge.svg)](https://colab.research.google.com/github/JohnSnowLabs/spark-nlp-workshop/blob/master/tutorials/Certification_Trainings/Healthcare/16.Adverse_Drug_Event_ADE_NER_and_Classifier.ipynb)"
      ]
    },
    {
      "cell_type": "markdown",
      "metadata": {
        "id": "DoiHGohHJvzf"
      },
      "source": [
        "# Adverse Drug Event (ADE) Pretrained NER and Classifier Models"
      ]
    },
    {
      "cell_type": "markdown",
      "metadata": {
        "id": "Ct45xEVnKmAo"
      },
      "source": [
        "`ADE NER`: Extracts ADE and DRUG entities from clinical texts.\n",
        "\n",
        "`ADE Classifier`: CLassify if a sentence is ADE-related (`Negative`) or not (`Neutral`)\n",
        "\n",
        "We use several datasets to train these models:\n",
        "\n",
        "- Twitter dataset, which is used in paper \"`Deep learning for pharmacovigilance: recurrent neural network architectures for labeling adverse drug reactions in Twitter posts`\" (https://pubmed.ncbi.nlm.nih.gov/28339747/)\n",
        "- ADE-Corpus-V2, which is used in paper \"`An Attentive Sequence Model for Adverse Drug Event Extraction from Biomedical Text`\" (https://arxiv.org/abs/1801.00625) and availe online: https://sites.google.com/site/adecorpus/home/document."
      ]
    },
    {
      "cell_type": "code",
      "metadata": {
        "id": "MLHzH8P1JjLh",
        "outputId": "8b7b06cc-b509-4956-f708-4299c3d92078",
        "colab": {
          "base_uri": "https://localhost:8080/",
          "height": 54
        }
      },
      "source": [
        "import json\n",
        "\n",
        "with open('workshop_license_keys_365.json') as f:\n",
        "    license_keys = json.load(f)\n",
        "\n",
        "license_keys.keys()\n"
      ],
      "execution_count": 1,
      "outputs": [
        {
          "output_type": "execute_result",
          "data": {
            "text/plain": [
              "dict_keys(['PUBLIC_VERSION', 'JSL_VERSION', 'SECRET', 'SPARK_NLP_LICENSE', 'AWS_ACCESS_KEY_ID', 'AWS_SECRET_ACCESS_KEY', 'SPARK_OCR_LICENSE', 'SPARK_OCR_SECRET'])"
            ]
          },
          "metadata": {
            "tags": []
          },
          "execution_count": 1
        }
      ]
    },
    {
      "cell_type": "code",
      "metadata": {
        "id": "W_vYh5hDKKRi"
      },
      "source": [
        "import os\n",
        "\n",
        "# Install java\n",
        "! apt-get update -qq\n",
        "! apt-get install -y openjdk-8-jdk-headless -qq > /dev/null\n",
        "\n",
        "os.environ[\"JAVA_HOME\"] = \"/usr/lib/jvm/java-8-openjdk-amd64\"\n",
        "os.environ[\"PATH\"] = os.environ[\"JAVA_HOME\"] + \"/bin:\" + os.environ[\"PATH\"]\n",
        "! java -version\n",
        "\n",
        "secret = license_keys['SECRET']\n",
        "\n",
        "os.environ['SPARK_NLP_LICENSE'] = license_keys['SPARK_NLP_LICENSE']\n",
        "os.environ['AWS_ACCESS_KEY_ID']= license_keys['AWS_ACCESS_KEY_ID']\n",
        "os.environ['AWS_SECRET_ACCESS_KEY'] = license_keys['AWS_SECRET_ACCESS_KEY']\n",
        "version = license_keys['PUBLIC_VERSION']\n",
        "jsl_version = license_keys['JSL_VERSION']\n",
        "\n",
        "! pip install --ignore-installed -q pyspark==2.4.4\n",
        "\n",
        "! python -m pip install --upgrade spark-nlp-jsl==$jsl_version  --extra-index-url https://pypi.johnsnowlabs.com/$secret\n",
        "\n",
        "! pip install --ignore-installed -q spark-nlp==$version\n",
        "\n",
        "import sparknlp\n",
        "\n",
        "print (sparknlp.version())\n",
        "\n",
        "import json\n",
        "import os\n",
        "from pyspark.ml import Pipeline\n",
        "from pyspark.sql import SparkSession\n",
        "\n",
        "import sparknlp\n",
        "from sparknlp.annotator import *\n",
        "from sparknlp_jsl.annotator import *\n",
        "from sparknlp.base import *\n",
        "import sparknlp_jsl\n",
        "\n",
        "spark = sparknlp_jsl.start(secret)"
      ],
      "execution_count": null,
      "outputs": []
    },
    {
      "cell_type": "markdown",
      "metadata": {
        "id": "9uwCryC5MHE2"
      },
      "source": [
        "## ADE Classifier Pipeline (with a pretrained model)\n",
        "\n",
        "`Negative` : The sentence is talking about a possible ADE\n",
        "\n",
        "`Neutral` : The sentences has information about any ADE."
      ]
    },
    {
      "cell_type": "code",
      "metadata": {
        "id": "uCMhVFc6MGaj",
        "outputId": "c8a7fbef-1549-4dfc-dd69-b75002f9b49c",
        "colab": {
          "base_uri": "https://localhost:8080/",
          "height": 119
        }
      },
      "source": [
        "# Annotator that transforms a text column from dataframe into an Annotation ready for NLP\n",
        "documentAssembler = DocumentAssembler()\\\n",
        "  .setInputCol(\"text\")\\\n",
        "  .setOutputCol(\"sentence\")\n",
        "\n",
        "# Tokenizer splits words in a relevant format for NLP\n",
        "tokenizer = Tokenizer()\\\n",
        "  .setInputCols([\"sentence\"])\\\n",
        "  .setOutputCol(\"token\")\n",
        "\n",
        "bert_embeddings = BertEmbeddings.pretrained(\"biobert_pubmed_base_cased\", \"en\", \"clinical/models\")\\\n",
        "  .setInputCols([\"sentence\", \"token\"])\\\n",
        "  .setOutputCol(\"embeddings\")\n",
        "  \n",
        "embeddingsSentence = SentenceEmbeddings() \\\n",
        "      .setInputCols([\"sentence\", \"embeddings\"]) \\\n",
        "      .setOutputCol(\"sentence_embeddings\") \\\n",
        "      .setPoolingStrategy(\"AVERAGE\")\\\n",
        "      .setStorageRef('biobert_pubmed_base_cased')\n",
        "\n",
        "classsifierdl = ClassifierDLModel.pretrained(\"classifierdl_ade_biobert\", \"en\", \"clinical/models\")\\\n",
        "      .setInputCols([\"sentence\", \"sentence_embeddings\"]) \\\n",
        "      .setOutputCol(\"class\")\n",
        "\n",
        "ade_clf_pipeline = Pipeline(\n",
        "    stages=[documentAssembler, \n",
        "            tokenizer,\n",
        "            bert_embeddings,\n",
        "            embeddingsSentence,\n",
        "            classsifierdl])\n",
        "\n",
        "\n",
        "empty_data = spark.createDataFrame([[\"\"]]).toDF(\"text\")\n",
        "\n",
        "ade_clf_model = ade_clf_pipeline.fit(empty_data)\n",
        "\n",
        "ade_lp_pipeline = LightPipeline(ade_clf_model)"
      ],
      "execution_count": 4,
      "outputs": [
        {
          "output_type": "stream",
          "text": [
            "biobert_pubmed_base_cased download started this may take some time.\n",
            "Approximate size to download 383.1 MB\n",
            "[OK!]\n",
            "classifierdl_ade_biobert download started this may take some time.\n",
            "Approximate size to download 21.6 MB\n",
            "[OK!]\n"
          ],
          "name": "stdout"
        }
      ]
    },
    {
      "cell_type": "code",
      "metadata": {
        "id": "YmN72wVViooS",
        "outputId": "e78dea28-d206-4e42-9d8a-b4da68364157",
        "colab": {
          "base_uri": "https://localhost:8080/",
          "height": 35
        }
      },
      "source": [
        "text = \"I feel a bit drowsy & have a little blurred vision, so far no gastric problems.\"\n",
        "\n",
        "ade_lp_pipeline.annotate(text)['class'][0]"
      ],
      "execution_count": 5,
      "outputs": [
        {
          "output_type": "execute_result",
          "data": {
            "application/vnd.google.colaboratory.intrinsic+json": {
              "type": "string"
            },
            "text/plain": [
              "'Negative'"
            ]
          },
          "metadata": {
            "tags": []
          },
          "execution_count": 5
        }
      ]
    },
    {
      "cell_type": "code",
      "metadata": {
        "id": "9X7PmJbyi7ez",
        "outputId": "b108f332-9f48-4376-84d7-7c6e05dbb9d6",
        "colab": {
          "base_uri": "https://localhost:8080/",
          "height": 35
        }
      },
      "source": [
        "text=\"I just took an Advil and have no gastric problems so far.\"\n",
        "\n",
        "ade_clf_model.annotate(text)['class'][0]"
      ],
      "execution_count": 15,
      "outputs": [
        {
          "output_type": "execute_result",
          "data": {
            "application/vnd.google.colaboratory.intrinsic+json": {
              "type": "string"
            },
            "text/plain": [
              "'Neutral'"
            ]
          },
          "metadata": {
            "tags": []
          },
          "execution_count": 15
        }
      ]
    },
    {
      "cell_type": "markdown",
      "metadata": {
        "id": "zjae3LrWT_Kn"
      },
      "source": [
        "as you see `gastric problems` is not detected as `ADE` as it is in a negative context. So, classifier did a good job detecting that."
      ]
    },
    {
      "cell_type": "code",
      "metadata": {
        "id": "eUS_zhYJTlX6",
        "outputId": "40053aeb-10a7-4d16-9926-b777c50e48ad",
        "colab": {
          "base_uri": "https://localhost:8080/",
          "height": 35
        }
      },
      "source": [
        "text=\"I just took an metformin and and started to feel dizzy.\"\n",
        "\n",
        "ade_lp_pipeline.annotate(text)['class'][0]"
      ],
      "execution_count": 16,
      "outputs": [
        {
          "output_type": "execute_result",
          "data": {
            "application/vnd.google.colaboratory.intrinsic+json": {
              "type": "string"
            },
            "text/plain": [
              "'Negative'"
            ]
          },
          "metadata": {
            "tags": []
          },
          "execution_count": 16
        }
      ]
    },
    {
      "cell_type": "code",
      "metadata": {
        "id": "fvLL06VnZhuD",
        "outputId": "9c8a29a0-e11f-45a9-849e-85c8a6a22aaa",
        "colab": {
          "base_uri": "https://localhost:8080/",
          "height": 85
        }
      },
      "source": [
        "texts = [\"I feel a bit drowsy & have a little blurred vision, so far no gastric problems.\",\n",
        "\"I've been on Arthrotec 50 for over 10 years on and off, only taking it when I needed it.\",\n",
        "\"Due to my arthritis getting progressively worse, to the point where I am in tears with the agony, gp's started me on 75 twice a day and I have to take it every day for the next month to see how I get on, here goes.\",\n",
        "\"So far its been very good, pains almost gone, but I feel a bit weird, didn't have that when on 50.\"]\n",
        "\n",
        "for text in texts:\n",
        "\n",
        "  result = ade_lp_pipeline.annotate(text)\n",
        "\n",
        "  print (result['class'][0])\n"
      ],
      "execution_count": 10,
      "outputs": [
        {
          "output_type": "stream",
          "text": [
            "Negative\n",
            "Neutral\n",
            "Negative\n",
            "Neutral\n"
          ],
          "name": "stdout"
        }
      ]
    },
    {
      "cell_type": "markdown",
      "metadata": {
        "id": "lPsrY63BTW8j"
      },
      "source": [
        "## ADE NER\n",
        "\n",
        "Extracts `ADE` and `DRUG` entities from text."
      ]
    },
    {
      "cell_type": "code",
      "metadata": {
        "id": "kcw3svmcTYeF",
        "outputId": "399bd840-ffa0-4d81-9213-0a1afdff3210",
        "colab": {
          "base_uri": "https://localhost:8080/",
          "height": 119
        }
      },
      "source": [
        "documentAssembler = DocumentAssembler()\\\n",
        "  .setInputCol(\"text\")\\\n",
        "  .setOutputCol(\"document\")\n",
        "\n",
        "sentenceDetector = SentenceDetector()\\\n",
        "  .setInputCols([\"document\"])\\\n",
        "  .setOutputCol(\"sentence\")\n",
        "\n",
        "tokenizer = Tokenizer()\\\n",
        "  .setInputCols([\"sentence\"])\\\n",
        "  .setOutputCol(\"token\")\n",
        "\n",
        "word_embeddings = WordEmbeddingsModel.pretrained(\"embeddings_clinical\", \"en\", \"clinical/models\")\\\n",
        "  .setInputCols([\"sentence\", \"token\"])\\\n",
        "  .setOutputCol(\"embeddings\")\n",
        "\n",
        "ade_ner = NerDLModel.pretrained(\"ner_ade_clinical\", \"en\", \"clinical/models\") \\\n",
        "  .setInputCols([\"sentence\", \"token\", \"embeddings\"]) \\\n",
        "  .setOutputCol(\"ner\")\n",
        "\n",
        "ner_converter = NerConverter() \\\n",
        "  .setInputCols([\"sentence\", \"token\", \"ner\"]) \\\n",
        "  .setOutputCol(\"ner_chunk\")\n",
        "\n",
        "ner_pipeline = Pipeline(stages=[\n",
        "    documentAssembler, \n",
        "    sentenceDetector,\n",
        "    tokenizer,\n",
        "    word_embeddings,\n",
        "    ade_ner,\n",
        "    ner_converter])\n",
        "\n",
        "empty_data = spark.createDataFrame([[\"\"]]).toDF(\"text\")\n",
        "\n",
        "ade_ner_model = ner_pipeline.fit(empty_data)\n",
        "\n",
        "ade_ner_lp = LightPipeline(ade_ner_model)"
      ],
      "execution_count": 10,
      "outputs": [
        {
          "output_type": "stream",
          "text": [
            "embeddings_clinical download started this may take some time.\n",
            "Approximate size to download 1.6 GB\n",
            "[OK!]\n",
            "ner_ade_clinical download started this may take some time.\n",
            "Approximate size to download 13.8 MB\n",
            "[OK!]\n"
          ],
          "name": "stdout"
        }
      ]
    },
    {
      "cell_type": "code",
      "metadata": {
        "id": "Kr2d0QhiMIMC",
        "outputId": "ebd8bbe2-72df-41ec-afef-19f4576e5728",
        "colab": {
          "base_uri": "https://localhost:8080/",
          "height": 142
        }
      },
      "source": [
        "light_result = ade_ner_lp.fullAnnotate(\"I feel a bit drowsy & have a little blurred vision, so far no gastric problems. I have been on Arthrotec 50 for over 10 years on and off, only taking it when I needed it. Due to my arthritis getting progressively worse, to the point where I am in tears with the agony, gp's started me on 75 twice a day and I have to take it every day for the next month to see how I get on, here goes. So far its been very good, pains almost gone, but I feel a bit weird, didn't have that when on 50.\")\n",
        "\n",
        "chunks = []\n",
        "entities = []\n",
        "begin =[]\n",
        "end = []\n",
        "\n",
        "for n in light_result[0]['ner_chunk']:\n",
        "\n",
        "    begin.append(n.begin)\n",
        "    end.append(n.end)\n",
        "    chunks.append(n.result)\n",
        "    entities.append(n.metadata['entity']) \n",
        "\n",
        "import pandas as pd\n",
        "\n",
        "df = pd.DataFrame({'chunks':chunks, 'entities':entities,\n",
        "                    'begin': begin, 'end': end})\n",
        "\n",
        "df"
      ],
      "execution_count": 17,
      "outputs": [
        {
          "output_type": "execute_result",
          "data": {
            "text/html": [
              "<div>\n",
              "<style scoped>\n",
              "    .dataframe tbody tr th:only-of-type {\n",
              "        vertical-align: middle;\n",
              "    }\n",
              "\n",
              "    .dataframe tbody tr th {\n",
              "        vertical-align: top;\n",
              "    }\n",
              "\n",
              "    .dataframe thead th {\n",
              "        text-align: right;\n",
              "    }\n",
              "</style>\n",
              "<table border=\"1\" class=\"dataframe\">\n",
              "  <thead>\n",
              "    <tr style=\"text-align: right;\">\n",
              "      <th></th>\n",
              "      <th>chunks</th>\n",
              "      <th>entities</th>\n",
              "      <th>begin</th>\n",
              "      <th>end</th>\n",
              "    </tr>\n",
              "  </thead>\n",
              "  <tbody>\n",
              "    <tr>\n",
              "      <th>0</th>\n",
              "      <td>bit drowsy</td>\n",
              "      <td>ADE</td>\n",
              "      <td>9</td>\n",
              "      <td>18</td>\n",
              "    </tr>\n",
              "    <tr>\n",
              "      <th>1</th>\n",
              "      <td>little blurred vision</td>\n",
              "      <td>ADE</td>\n",
              "      <td>29</td>\n",
              "      <td>49</td>\n",
              "    </tr>\n",
              "    <tr>\n",
              "      <th>2</th>\n",
              "      <td>Arthrotec</td>\n",
              "      <td>DRUG</td>\n",
              "      <td>95</td>\n",
              "      <td>103</td>\n",
              "    </tr>\n",
              "  </tbody>\n",
              "</table>\n",
              "</div>"
            ],
            "text/plain": [
              "                  chunks entities  begin  end\n",
              "0             bit drowsy      ADE      9   18\n",
              "1  little blurred vision      ADE     29   49\n",
              "2              Arthrotec     DRUG     95  103"
            ]
          },
          "metadata": {
            "tags": []
          },
          "execution_count": 17
        }
      ]
    },
    {
      "cell_type": "markdown",
      "metadata": {
        "id": "RgwM9S3MUDwk"
      },
      "source": [
        "as you see `gastric problems` is not detected as `ADE` as it is in a negative context. So, NER did a good job ignoring that."
      ]
    },
    {
      "cell_type": "markdown",
      "metadata": {
        "id": "FwOqridKfch6"
      },
      "source": [
        "## ADE models applied to Spark Dataframes"
      ]
    },
    {
      "cell_type": "code",
      "metadata": {
        "id": "tbb_0hf2WPwa",
        "outputId": "4f493cae-eac7-471a-c068-e2ecc2b4c38c",
        "colab": {
          "base_uri": "https://localhost:8080/",
          "height": 459
        }
      },
      "source": [
        "! wget -q\thttps://s3.amazonaws.com/auxdata.johnsnowlabs.com/public/resources/en/pubmed/pubmed-sample.csv\n",
        "\n",
        "pubMedDF = spark.read\\\n",
        "                .option(\"header\", \"true\")\\\n",
        "                .csv(\"./pubmed-sample.csv\")\\\n",
        "                .filter(\"AB IS NOT null\")\\\n",
        "                .withColumnRenamed(\"AB\", \"text\")\\\n",
        "                .drop(\"TI\")\n",
        "\n",
        "pubMedDF.show(truncate=50)"
      ],
      "execution_count": 6,
      "outputs": [
        {
          "output_type": "stream",
          "text": [
            "+--------------------------------------------------+\n",
            "|                                              text|\n",
            "+--------------------------------------------------+\n",
            "|The human KCNJ9 (Kir 3.3, GIRK3) is a member of...|\n",
            "|BACKGROUND: At present, it is one of the most i...|\n",
            "|OBJECTIVE: To investigate the relationship betw...|\n",
            "|Combined EEG/fMRI recording has been used to lo...|\n",
            "|Kohlschutter syndrome is a rare neurodegenerati...|\n",
            "|Statistical analysis of neuroimages is commonly...|\n",
            "|The synthetic DOX-LNA conjugate was characteriz...|\n",
            "|Our objective was to compare three different me...|\n",
            "|We conducted a phase II study to assess the eff...|\n",
            "|\"Monomeric sarcosine oxidase (MSOX) is a flavoe...|\n",
            "|We presented the tachinid fly Exorista japonica...|\n",
            "|The literature dealing with the water conductin...|\n",
            "|A novel approach to synthesize chitosan-O-isopr...|\n",
            "|An HPLC-ESI-MS-MS method has been developed for...|\n",
            "|The localizing and lateralizing values of eye a...|\n",
            "|OBJECTIVE: To evaluate the effectiveness and ac...|\n",
            "|For the construction of new combinatorial libra...|\n",
            "|We report the results of a screen for genetic a...|\n",
            "|Intraparenchymal pericatheter cyst is rarely re...|\n",
            "|It is known that patients with Klinefelter's sy...|\n",
            "+--------------------------------------------------+\n",
            "only showing top 20 rows\n",
            "\n"
          ],
          "name": "stdout"
        }
      ]
    },
    {
      "cell_type": "code",
      "metadata": {
        "id": "MMRVcZ09aDX6",
        "outputId": "1447dd81-8e43-4b78-a2af-d3101c54c7f4",
        "colab": {
          "base_uri": "https://localhost:8080/",
          "height": 459
        }
      },
      "source": [
        "import pyspark.sql.functions as F\n",
        "\n",
        "ner_converter = NerConverter() \\\n",
        "  .setInputCols([\"sentence\", \"token\", \"ner\"]) \\\n",
        "  .setOutputCol(\"ner_chunk\")\\\n",
        "  .setWhiteList(['ADE'])\n",
        "\n",
        "ner_pipeline = Pipeline(stages=[\n",
        "    documentAssembler, \n",
        "    sentenceDetector,\n",
        "    tokenizer,\n",
        "    word_embeddings,\n",
        "    ade_ner,\n",
        "    ner_converter])\n",
        "\n",
        "empty_data = spark.createDataFrame([[\"\"]]).toDF(\"text\")\n",
        "\n",
        "ade_ner_model = ner_pipeline.fit(empty_data)\n",
        "\n",
        "result = ade_ner_model.transform(pubMedDF)\n",
        "\n",
        "result.select('text','ner_chunk.result')\\\n",
        ".toDF('text','ADE_phrases').filter(F.size('ADE_phrases')>1)\\\n",
        ".show(truncate=70)\n"
      ],
      "execution_count": 11,
      "outputs": [
        {
          "output_type": "stream",
          "text": [
            "+----------------------------------------------------------------------+----------------------------------------------------------------------+\n",
            "|                                                                  text|                                                           ADE_phrases|\n",
            "+----------------------------------------------------------------------+----------------------------------------------------------------------+\n",
            "|Kohlschutter syndrome is a rare neurodegenerative disorder presenti...|[seizures, developmental regression and characteristic hypoplasticd...|\n",
            "|We conducted a phase II study to assess the efficacy and tolerabili...|[metastatic gastric cancer,progressive, nausea, metastatic gastricc...|\n",
            "|OBJECTIVE: To evaluate the effectiveness and acceptability of expec...|[trimester incomplete abortion.METHODS, feeling anxious, increase a...|\n",
            "|Intraparenchymal pericatheter cyst is rarely reported. Obstruction ...|                             [local mass effect, neurological deficit]|\n",
            "|Calcitriol (C) pulse therapy is widely used to suppress secondary r...|[increased basal lengthgain, weight gain, Total body calcium, body ...|\n",
            "|Successful renal transplantation is associated with abnormalities o...|[abnormalities of function of the musculoskeletal system, incomplet...|\n",
            "|Although inhaled and intranasal corticosteroids are first-line ther...|[systemic adverse effects, preferential partitioning into the syste...|\n",
            "|Aging is a physiological process that causes structural and functio...|[oxide,oxidative stress, changes in length of telomeres,and klotho ...|\n",
            "|Nonsteroidal anti-inflammatory drugs and their adverse effects on t...|              [gastric parameters, gastric lesions, combinationgroups]|\n",
            "|AIMS AND BACKGROUND: Evidence of the association between leukemia a...|                            [leukemia, benzeneexposure, breast cancer]|\n",
            "|Sleep affects the health and well-being of children and plays a key...|                     [inpreventing disease, injury, stability of mood]|\n",
            "|The impact of sesamin, episesamin and sesamolin (sesame lignans) on...|[hepatic fatty acid oxidation, isapparent that sesame lignans stimu...|\n",
            "|Carotenoids are widely used as important micronutrients in food. Fu...|[oxidative stress, lung cancer, oxidative attacks, mitochondriotoxi...|\n",
            "|BACKGROUND: The amount of calcium ingested by an individual may aff...|[severalchronic conditions, osteoporosis, hypertension, colon cance...|\n",
            "|AIMS: In this study, we have examined the occurrence of FcalphaRI-b...|[gingival fluid and blood, animportant role in elimination of IgA-o...|\n",
            "|BACKGROUND: Sex differences in the effects of genetic and environme...|                  [Sex differences, influencesof sex steroid hormones]|\n",
            "|Blends of polysaccharides and proteins are a source for the develop...|[thecomposition, cross-linking on the degradation behaviour, cross-...|\n",
            "|OBJECTIVES: To report two cases of cleft palate lateral synechia (C...|[cleft palate lateral synechia, CPLS) syndrome, cleft palate, toVan...|\n",
            "|Little has been reported about the relationship of a dementia wande...|                     [reduced falls, lower fallmorbidity than the LUG]|\n",
            "|Angiogenesis is crucial for maintaining the supply of oxygen and nu...|[studieshas been shown to inhibit both VEGF-induced signalling in e...|\n",
            "+----------------------------------------------------------------------+----------------------------------------------------------------------+\n",
            "only showing top 20 rows\n",
            "\n"
          ],
          "name": "stdout"
        }
      ]
    },
    {
      "cell_type": "markdown",
      "metadata": {
        "id": "B_4gQbjYqdn8"
      },
      "source": [
        "#### creating sentence dataframe (one sentence per row) and getting ADE entities and categories"
      ]
    },
    {
      "cell_type": "code",
      "metadata": {
        "id": "dErGjo1GakvW"
      },
      "source": [
        "documentAssembler = DocumentAssembler()\\\n",
        "  .setInputCol(\"text\")\\\n",
        "  .setOutputCol(\"document\")\n",
        "\n",
        "sentenceDetector = SentenceDetector()\\\n",
        "  .setInputCols([\"document\"])\\\n",
        "  .setOutputCol(\"sentence\")\\\n",
        "  .setExplodeSentences(True)\n",
        "\n",
        "sent_splitter_model = PipelineModel(stages=[\n",
        "    documentAssembler, \n",
        "    sentenceDetector])\n",
        "\n",
        "pubmed_Sentences = sent_splitter_model.transform(pubMedDF)"
      ],
      "execution_count": 12,
      "outputs": []
    },
    {
      "cell_type": "code",
      "metadata": {
        "id": "KxRc-309cRhn",
        "outputId": "f88420ca-e1e7-4721-9337-4fb28132bacc",
        "colab": {
          "base_uri": "https://localhost:8080/",
          "height": 459
        }
      },
      "source": [
        "sentence_Df = pubmed_Sentences.select(F.explode('sentence.result').alias('text'))\n",
        "\n",
        "sentence_Df.show(truncate=100)"
      ],
      "execution_count": 13,
      "outputs": [
        {
          "output_type": "stream",
          "text": [
            "+----------------------------------------------------------------------------------------------------+\n",
            "|                                                                                                text|\n",
            "+----------------------------------------------------------------------------------------------------+\n",
            "|The human KCNJ9 (Kir 3.3, GIRK3) is a member of the G-protein-activated inwardly rectifying potas...|\n",
            "|Here we describe the genomicorganization of the KCNJ9 locus on chromosome 1q21-23 as a candidate ...|\n",
            "|The gene spansapproximately 7.6 kb and contains one noncoding and two coding exons separated byap...|\n",
            "|We identified14 single nucleotide polymorphisms (SNPs), including one that predicts aVal366Ala su...|\n",
            "|                                                                            (bp) insertion/deletion.|\n",
            "|Ourexpression studies revealed the presence of the transcript in various humantissues including p...|\n",
            "|The characterization of the KCNJ9 gene should facilitate furtherstudies on the function of the KC...|\n",
            "|BACKGROUND: At present, it is one of the most important issues for the treatment of breast cancer...|\n",
            "|With the objective of determining the usefulnessof vinorelbine monotherapy in patients with advan...|\n",
            "|METHODS: Vinorelbinewas administered at a dose level of 25 mg/m(2) intravenously on days 1 and 8 ...|\n",
            "|                        Patients were given three or more cycles in the absence of tumorprogression.|\n",
            "|                                                         A maximum of nine cycles were administered.|\n",
            "|                         RESULTS: The responserate in 50 evaluable patients was 20.0% (10 out of 50;|\n",
            "|                                                                95% confidence interval,10.0-33.7%).|\n",
            "|Responders plus those who had minor response (MR) or no change (NC) accounted for 58.0% [10 parti...|\n",
            "|TheKaplan-Meier estimate (50% point) of time to progression (TTP) was 115.0 days.The response rat...|\n",
            "|Themajor toxicity was myelosuppression, which was reversible and did not requirediscontinuation o...|\n",
            "|CONCLUSION: The results of this study show thatvinorelbine monotherapy is useful in patients with...|\n",
            "|OBJECTIVE: To investigate the relationship between preoperative atrialfibrillation and early and ...|\n",
            "|                                                  No patient had a concomitant surgical AF ablation.|\n",
            "+----------------------------------------------------------------------------------------------------+\n",
            "only showing top 20 rows\n",
            "\n"
          ],
          "name": "stdout"
        }
      ]
    },
    {
      "cell_type": "code",
      "metadata": {
        "id": "tzmRAt_xqtc-",
        "outputId": "11476ec9-b0e9-4cb0-a3a5-982f891d516c",
        "colab": {
          "base_uri": "https://localhost:8080/",
          "height": 459
        }
      },
      "source": [
        "result = ade_ner_model.transform(sentence_Df)\n",
        "\n",
        "result.select('text','ner_chunk.result')\\\n",
        ".toDF('text','ADE_phrases').filter(F.size('ADE_phrases')>1)\\\n",
        ".show(truncate=70)"
      ],
      "execution_count": 22,
      "outputs": [
        {
          "output_type": "stream",
          "text": [
            "+----------------------------------------------------------------------+----------------------------------------------------------------------+\n",
            "|                                                                  text|                                                           ADE_phrases|\n",
            "+----------------------------------------------------------------------+----------------------------------------------------------------------+\n",
            "|Kohlschutter syndrome is a rare neurodegenerative disorder presenti...|[seizures, developmental regression and characteristic hypoplasticd...|\n",
            "|We report two cases of distal catheter obstruction withformation of...|                             [local mass effect, neurological deficit]|\n",
            "|A low-calcium diet reduced and rhGH increased basal lengthgain and ...|                             [increased basal lengthgain, weight gain]|\n",
            "|Total body calcium corrected for body weight decreased with a low-c...|                           [Total body calcium, body weight decreased]|\n",
            "|Some of these problems result from incompleteresolution of abnormal...|[incompleteresolution of abnormalities of mineral metabolism, end-s...|\n",
            "|The role of nitric oxide,oxidative stress, the renin-angiotensin sy...|[oxide,oxidative stress, changes in length of telomeres,and klotho ...|\n",
            "|AIMS AND BACKGROUND: Evidence of the association between leukemia a...|                                           [leukemia, benzeneexposure]|\n",
            "|Sleep affects the health and well-being of children and plays a key...|                     [inpreventing disease, injury, stability of mood]|\n",
            "|It isapparent that sesame lignans stimulate hepatic fatty acid oxid...|[isapparent that sesame lignans stimulate hepatic fatty acid oxidat...|\n",
            "|BACKGROUND: The amount of calcium ingested by an individual may aff...|[severalchronic conditions, osteoporosis, hypertension, colon cance...|\n",
            "|BACKGROUND: Sex differences in the effects of genetic and environme...|                  [Sex differences, influencesof sex steroid hormones]|\n",
            "|in addition, cross-linking was performed in situ with glutaraldehyd...|          [thecomposition, cross-linking on the degradation behaviour]|\n",
            "|OBJECTIVES: To report two cases of cleft palate lateral synechia (C...|                       [cleft palate lateral synechia, CPLS) syndrome]|\n",
            "|High wander garden user grouprequired fewer scheduled medications a...|                     [reduced falls, lower fallmorbidity than the LUG]|\n",
            "|Urticarial rash observed in cryopyrin-associated periodic syndrome ...|       [Urticarial rash, cryopyrin-associated periodic syndrome, CAPS]|\n",
            "|Furthermore, MCs expressing disease-associated but not wild-type NL...|             [neutrophil migration, vascular leakage, urticarial rash]|\n",
            "|Mutants of Sts1p thatcannot interact with Srp1p are incapable of su...|                                 [srp1-49 defects, stronglysuggesting]|\n",
            "|We report on a 4-year-old boy with mental retardation, facial and s...|              [facial and skeletalanomalies, femoral nucleus necrosis]|\n",
            "|Inpermeabilized muscle strips, we found that ACh induced Ca(2+)-ins...|                            [MLC phosphorylation, MLC phosphorylation]|\n",
            "|In conclusion, sildenafil produced antinociception and increasedtha...|                                      [antinociception, increasedthat]|\n",
            "+----------------------------------------------------------------------+----------------------------------------------------------------------+\n",
            "only showing top 20 rows\n",
            "\n"
          ],
          "name": "stdout"
        }
      ]
    },
    {
      "cell_type": "code",
      "metadata": {
        "id": "uXpc67iFcrsR",
        "outputId": "c5857962-aba9-4c13-c581-d00241fb5d90",
        "colab": {
          "base_uri": "https://localhost:8080/",
          "height": 459
        }
      },
      "source": [
        "ade_result = ade_clf_model.transform(sentence_Df).select('text',F.explode('class.result').alias('is_ADE'))\n",
        "\n",
        "ade_result.show(truncate=70)"
      ],
      "execution_count": 21,
      "outputs": [
        {
          "output_type": "stream",
          "text": [
            "+----------------------------------------------------------------------+-------+\n",
            "|                                                                  text| is_ADE|\n",
            "+----------------------------------------------------------------------+-------+\n",
            "|The human KCNJ9 (Kir 3.3, GIRK3) is a member of the G-protein-activ...|Neutral|\n",
            "|Here we describe the genomicorganization of the KCNJ9 locus on chro...|Neutral|\n",
            "|The gene spansapproximately 7.6 kb and contains one noncoding and t...|Neutral|\n",
            "|We identified14 single nucleotide polymorphisms (SNPs), including o...|Neutral|\n",
            "|                                              (bp) insertion/deletion.|Neutral|\n",
            "|Ourexpression studies revealed the presence of the transcript in va...|Neutral|\n",
            "|The characterization of the KCNJ9 gene should facilitate furtherstu...|Neutral|\n",
            "|BACKGROUND: At present, it is one of the most important issues for ...|Neutral|\n",
            "|With the objective of determining the usefulnessof vinorelbine mono...|Neutral|\n",
            "|METHODS: Vinorelbinewas administered at a dose level of 25 mg/m(2) ...|Neutral|\n",
            "|Patients were given three or more cycles in the absence of tumorpro...|Neutral|\n",
            "|                           A maximum of nine cycles were administered.|Neutral|\n",
            "|RESULTS: The responserate in 50 evaluable patients was 20.0% (10 ou...|Neutral|\n",
            "|                                  95% confidence interval,10.0-33.7%).|Neutral|\n",
            "|Responders plus those who had minor response (MR) or no change (NC)...|Neutral|\n",
            "|TheKaplan-Meier estimate (50% point) of time to progression (TTP) w...|Neutral|\n",
            "|Themajor toxicity was myelosuppression, which was reversible and di...|Neutral|\n",
            "|CONCLUSION: The results of this study show thatvinorelbine monother...|Neutral|\n",
            "|OBJECTIVE: To investigate the relationship between preoperative atr...|Neutral|\n",
            "|                    No patient had a concomitant surgical AF ablation.|Neutral|\n",
            "+----------------------------------------------------------------------+-------+\n",
            "only showing top 20 rows\n",
            "\n"
          ],
          "name": "stdout"
        }
      ]
    },
    {
      "cell_type": "code",
      "metadata": {
        "id": "gf-SQxoxfJS9"
      },
      "source": [
        ""
      ],
      "execution_count": null,
      "outputs": []
    }
  ]
}
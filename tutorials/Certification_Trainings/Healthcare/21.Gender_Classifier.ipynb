{
  "nbformat": 4,
  "nbformat_minor": 0,
  "metadata": {
    "colab": {
      "name": "21.Gender_Classifier.ipynb",
      "provenance": [],
      "collapsed_sections": []
    },
    "kernelspec": {
      "display_name": "Python 3",
      "language": "python",
      "name": "python3"
    },
    "language_info": {
      "codemirror_mode": {
        "name": "ipython",
        "version": 3
      },
      "file_extension": ".py",
      "mimetype": "text/x-python",
      "name": "python",
      "nbconvert_exporter": "python",
      "pygments_lexer": "ipython3",
      "version": "3.7.6"
    }
  },
  "cells": [
    {
      "cell_type": "markdown",
      "metadata": {
        "id": "I08sFJYCxR0Z"
      },
      "source": [
        "![JohnSnowLabs](https://nlp.johnsnowlabs.com/assets/images/logo.png)"
      ]
    },
    {
      "cell_type": "markdown",
      "metadata": {
        "id": "FwJ-P56kq6FU"
      },
      "source": [
        "[![Open In Colab](https://colab.research.google.com/assets/colab-badge.svg)](https://colab.research.google.com/github/JohnSnowLabs/spark-nlp-workshop/blob/master/tutorials/Certification_Trainings/Healthcare/21.Gender_Classifier.ipynb)"
      ]
    },
    {
      "cell_type": "markdown",
      "metadata": {
        "id": "Niy3mZAjoayg"
      },
      "source": [
        "# 21. Gender Classifier "
      ]
    },
    {
      "cell_type": "markdown",
      "metadata": {
        "id": "rTVcwSuUjnrP"
      },
      "source": [
        "**Gender Classifier** detects the gender of the patient in the clinical document. \n",
        "It can  classify the documents into `Female`, `Male` and `Unknown`.\n",
        "\n",
        "\n",
        "-'**Classifierdl_gender_sbert**' (works with licensed `sbiobert_base_cased_mli`)\n",
        "\n",
        "It has been trained on more than four thousands clinical documents (radiology reports, pathology reports, clinical visits etc.) which were annotated internally."
      ]
    },
    {
      "cell_type": "markdown",
      "metadata": {
        "id": "okhT7AcXxben"
      },
      "source": [
        "## Colab Setup"
      ]
    },
    {
      "cell_type": "code",
      "metadata": {
        "id": "drxBhpZxI32S"
      },
      "source": [
        "import json\n",
        "\n",
        "from google.colab import files\n",
        "\n",
        "license_keys = files.upload()\n",
        "\n",
        "with open(list(license_keys.keys())[0]) as f:\n",
        "    license_keys = json.load(f)\n",
        "\n",
        "# Defining license key-value pairs as local variables\n",
        "locals().update(license_keys)\n",
        "\n",
        "# Adding license key-value pairs to environment variables\n",
        "import os\n",
        "os.environ.update(license_keys)"
      ],
      "execution_count": null,
      "outputs": []
    },
    {
      "cell_type": "code",
      "metadata": {
        "id": "hIn5f_zDVS6g"
      },
      "source": [
        "# Installing pyspark and spark-nlp\n",
        "! pip install --upgrade -q pyspark==3.1.2 spark-nlp==$PUBLIC_VERSION\n",
        "\n",
        "# Installing Spark NLP Healthcare\n",
        "! pip install --upgrade -q spark-nlp-jsl==$JSL_VERSION  --extra-index-url https://pypi.johnsnowlabs.com/$SECRET"
      ],
      "execution_count": null,
      "outputs": []
    },
    {
      "cell_type": "code",
      "metadata": {
        "id": "XB09n5ncsDAk",
        "colab": {
          "base_uri": "https://localhost:8080/"
        },
        "outputId": "588d612f-b9f7-4dc0-86d7-9b1351956646"
      },
      "source": [
        "import json\n",
        "import os\n",
        "from pyspark.ml import Pipeline,PipelineModel\n",
        "from pyspark.sql import SparkSession\n",
        "\n",
        "from sparknlp.annotator import *\n",
        "from sparknlp_jsl.annotator import *\n",
        "from sparknlp.base import *\n",
        "import sparknlp_jsl\n",
        "import sparknlp\n",
        "\n",
        "params = {\"spark.driver.memory\":\"16G\",\n",
        "\"spark.kryoserializer.buffer.max\":\"2000M\",\n",
        "\"spark.driver.maxResultSize\":\"2000M\"}\n",
        "\n",
        "spark = sparknlp_jsl.start(license_keys['SECRET'],params=params)\n",
        "\n",
        "print (sparknlp.version())\n",
        "print (sparknlp_jsl.version())"
      ],
      "execution_count": null,
      "outputs": [
        {
          "output_type": "stream",
          "name": "stdout",
          "text": [
            "3.3.0\n",
            "3.3.0\n"
          ]
        }
      ]
    },
    {
      "cell_type": "code",
      "metadata": {
        "colab": {
          "base_uri": "https://localhost:8080/",
          "height": 216
        },
        "id": "mzV1fdf-Vs1f",
        "outputId": "7df35d59-0156-4398-9b74-bc38053047ba"
      },
      "source": [
        "spark"
      ],
      "execution_count": null,
      "outputs": [
        {
          "output_type": "execute_result",
          "data": {
            "text/html": [
              "\n",
              "            <div>\n",
              "                <p><b>SparkSession - in-memory</b></p>\n",
              "                \n",
              "        <div>\n",
              "            <p><b>SparkContext</b></p>\n",
              "\n",
              "            <p><a href=\"http://dda09223e22d:4040\">Spark UI</a></p>\n",
              "\n",
              "            <dl>\n",
              "              <dt>Version</dt>\n",
              "                <dd><code>v3.1.2</code></dd>\n",
              "              <dt>Master</dt>\n",
              "                <dd><code>local[*]</code></dd>\n",
              "              <dt>AppName</dt>\n",
              "                <dd><code>Spark NLP Licensed</code></dd>\n",
              "            </dl>\n",
              "        </div>\n",
              "        \n",
              "            </div>\n",
              "        "
            ],
            "text/plain": [
              "<pyspark.sql.session.SparkSession at 0x7fce24596290>"
            ]
          },
          "metadata": {},
          "execution_count": 4
        }
      ]
    },
    {
      "cell_type": "code",
      "metadata": {
        "id": "sNs3kOKMVK2Z"
      },
      "source": [
        "# if you want to start the session with custom params as in start function above\n",
        "def start(secret):\n",
        "    builder = SparkSession.builder \\\n",
        "        .appName(\"Spark NLP Licensed\") \\\n",
        "        .master(\"local[*]\") \\\n",
        "        .config(\"spark.driver.memory\", \"16G\") \\\n",
        "        .config(\"spark.serializer\", \"org.apache.spark.serializer.KryoSerializer\") \\\n",
        "        .config(\"spark.kryoserializer.buffer.max\", \"2000M\") \\\n",
        "        .config(\"spark.jars.packages\", \"com.johnsnowlabs.nlp:spark-nlp_2.11:\"+version) \\\n",
        "        .config(\"spark.jars\", \"https://pypi.johnsnowlabs.com/\"+secret+\"/spark-nlp-jsl-\"+jsl_version+\".jar\")\n",
        "      \n",
        "    return builder.getOrCreate()\n",
        "\n",
        "#spark = start(secret)"
      ],
      "execution_count": null,
      "outputs": []
    },
    {
      "cell_type": "markdown",
      "metadata": {
        "id": "AMU4sAJQ0Rhs"
      },
      "source": [
        "\n",
        "\n",
        "# Gender Classifier Pipeline with **sbert**"
      ]
    },
    {
      "cell_type": "code",
      "metadata": {
        "colab": {
          "base_uri": "https://localhost:8080/"
        },
        "id": "DEa5SITBxmY0",
        "outputId": "e37a1261-720c-4f33-dad2-93f99250f914"
      },
      "source": [
        "document = DocumentAssembler()\\\n",
        "      .setInputCol(\"text\")\\\n",
        "      .setOutputCol(\"document\")\n",
        "\n",
        "sbert_embedder = BertSentenceEmbeddings().pretrained(\"sbiobert_base_cased_mli\", 'en', 'clinical/models')\\\n",
        "      .setInputCols([\"document\"])\\\n",
        "      .setOutputCol(\"sentence_embeddings\")\\\n",
        "      .setMaxSentenceLength(512)\n",
        "\n",
        "gender_classifier = ClassifierDLModel.pretrained( 'classifierdl_gender_sbert', 'en', 'clinical/models') \\\n",
        "      .setInputCols([\"document\", \"sentence_embeddings\"]) \\\n",
        "      .setOutputCol(\"class\")    \n",
        "\n",
        "gender_pred_pipeline_sbert = Pipeline(stages = [ \n",
        "      document, \n",
        "      sbert_embedder, \n",
        "      gender_classifier   \n",
        "      ])\n",
        "\n",
        "empty_data = spark.createDataFrame([[\"\"]]).toDF(\"text\")\n",
        "\n",
        "model_sbert = gender_pred_pipeline_sbert.fit(empty_data)\n"
      ],
      "execution_count": null,
      "outputs": [
        {
          "output_type": "stream",
          "name": "stdout",
          "text": [
            "sbiobert_base_cased_mli download started this may take some time.\n",
            "Approximate size to download 384.3 MB\n",
            "[OK!]\n",
            "classifierdl_gender_sbert download started this may take some time.\n",
            "Approximate size to download 22.2 MB\n",
            "[OK!]\n"
          ]
        }
      ]
    },
    {
      "cell_type": "code",
      "metadata": {
        "colab": {
          "base_uri": "https://localhost:8080/",
          "height": 35
        },
        "id": "XgxuAU8ZsXVJ",
        "outputId": "dea63ad2-aef7-4f40-aad7-c0349dea763c"
      },
      "source": [
        "text =\"\"\"social history: shows that  does not smoke cigarettes or drink alcohol,lives in a nursing home.family history: shows a family history of breast cancer.\"\"\"\n",
        "\n",
        "gender_pipeline_sbert = LightPipeline(model_sbert)\n",
        "\n",
        "result = gender_pipeline_sbert.annotate(text)\n",
        "\n",
        "result['class'][0]\n"
      ],
      "execution_count": null,
      "outputs": [
        {
          "output_type": "execute_result",
          "data": {
            "application/vnd.google.colaboratory.intrinsic+json": {
              "type": "string"
            },
            "text/plain": [
              "'Female'"
            ]
          },
          "metadata": {},
          "execution_count": 7
        }
      ]
    },
    {
      "cell_type": "markdown",
      "metadata": {
        "id": "IUThl3_J9dqn"
      },
      "source": [
        "### Sample Clinical Notes"
      ]
    },
    {
      "cell_type": "code",
      "metadata": {
        "colab": {
          "base_uri": "https://localhost:8080/",
          "height": 35
        },
        "id": "vJCI7fZf9-2g",
        "outputId": "05c73d2a-3461-46df-9e75-9f25c13aecee"
      },
      "source": [
        "text1 = '''social history: shows that  does not smoke cigarettes or drink alcohol,lives in a nursing home.\n",
        "family history: shows a family history of breast cancer.'''\n",
        "\n",
        "result = gender_pipeline_sbert.annotate(text1)\n",
        "\n",
        "result['class'][0]"
      ],
      "execution_count": null,
      "outputs": [
        {
          "output_type": "execute_result",
          "data": {
            "application/vnd.google.colaboratory.intrinsic+json": {
              "type": "string"
            },
            "text/plain": [
              "'Female'"
            ]
          },
          "metadata": {},
          "execution_count": 8
        }
      ]
    },
    {
      "cell_type": "code",
      "metadata": {
        "colab": {
          "base_uri": "https://localhost:8080/",
          "height": 35
        },
        "id": "hNbN8ZfPDwbm",
        "outputId": "220980db-98e5-4060-f8cf-d47692653dbc"
      },
      "source": [
        "text2 = '''The patient is a 48- year-old, with severe mitral stenosis diagnosed by echocardiography, moderate\n",
        " aortic insufficiency and moderate to severe pulmonary hypertension who is being evaluated as a part of a preoperative \n",
        " workup for mitral and possible aortic valve repair or replacement.'''\n",
        "\n",
        "result = gender_pipeline_sbert.annotate(text2)\n",
        "\n",
        "result['class'][0]"
      ],
      "execution_count": null,
      "outputs": [
        {
          "output_type": "execute_result",
          "data": {
            "application/vnd.google.colaboratory.intrinsic+json": {
              "type": "string"
            },
            "text/plain": [
              "'Unknown'"
            ]
          },
          "metadata": {},
          "execution_count": 9
        }
      ]
    },
    {
      "cell_type": "code",
      "metadata": {
        "colab": {
          "base_uri": "https://localhost:8080/",
          "height": 35
        },
        "id": "Y7AOPrQHDy6D",
        "outputId": "b9028763-4901-4847-be7d-d151a65d3ab7"
      },
      "source": [
        "text3 = '''HISTORY: The patient is a 57-year-old XX, who I initially saw in the office on 12/27/07, as a referral from the Tomball Breast Center.\n",
        "On 12/21/07, the patient underwent image-guided needle core biopsy of a 1.5 cm lesion at the 7 o'clock position of the left breast (inferomedial). \n",
        "The biopsy returned showing infiltrating ductal carcinoma high histologic grade.\n",
        "The patient stated that xx had recently felt and her physician had felt a palpable mass in that area prior to her breast imaging.'''\n",
        "\n",
        "result = gender_pipeline_sbert.annotate(text3)\n",
        "\n",
        "result['class'][0]"
      ],
      "execution_count": null,
      "outputs": [
        {
          "output_type": "execute_result",
          "data": {
            "application/vnd.google.colaboratory.intrinsic+json": {
              "type": "string"
            },
            "text/plain": [
              "'Female'"
            ]
          },
          "metadata": {},
          "execution_count": 10
        }
      ]
    },
    {
      "cell_type": "code",
      "metadata": {
        "colab": {
          "base_uri": "https://localhost:8080/",
          "height": 35
        },
        "id": "woMCJpo2Dywt",
        "outputId": "5fb46d6b-7ec8-4d24-e874-6b23f1283378"
      },
      "source": [
        "text4 = '''The patient states that xx has been overweight for approximately 35 years and has tried multiple weight loss modalities in \n",
        "the past including Weight Watchers, NutriSystem, Jenny Craig, TOPS, cabbage diet, grape fruit diet, Slim-Fast, Richard Simmons,\n",
        "as well as over-the-counter  measures without any long-term sustainable weight loss.\n",
        "At the time of presentation to the practice, xx is 5 feet 6 inches tall with a weight of 285.4 pounds and a body mass index of 46.\n",
        "xx has obesity-related comorbidities, which includes hypertension and hypercholesterolemia.'''\n",
        "\n",
        "result = gender_pipeline_sbert.annotate(text4)\n",
        "\n",
        "result['class'][0]"
      ],
      "execution_count": null,
      "outputs": [
        {
          "output_type": "execute_result",
          "data": {
            "application/vnd.google.colaboratory.intrinsic+json": {
              "type": "string"
            },
            "text/plain": [
              "'Unknown'"
            ]
          },
          "metadata": {},
          "execution_count": 11
        }
      ]
    },
    {
      "cell_type": "code",
      "metadata": {
        "colab": {
          "base_uri": "https://localhost:8080/",
          "height": 35
        },
        "id": "lPVx1V9gsW72",
        "outputId": "4483abe7-89ac-419a-e4af-8c96f236f45e"
      },
      "source": [
        "text5 = '''Prostate gland showing moderately differentiated infiltrating adenocarcinoma, \n",
        "Gleason 3 + 2 extending to the apex involving both lobes of the prostate, mainly right.'''\n",
        "\n",
        "result = gender_pipeline_sbert.annotate(text5)\n",
        "\n",
        "result['class'][0]"
      ],
      "execution_count": null,
      "outputs": [
        {
          "output_type": "execute_result",
          "data": {
            "application/vnd.google.colaboratory.intrinsic+json": {
              "type": "string"
            },
            "text/plain": [
              "'Male'"
            ]
          },
          "metadata": {},
          "execution_count": 12
        }
      ]
    },
    {
      "cell_type": "code",
      "metadata": {
        "colab": {
          "base_uri": "https://localhost:8080/",
          "height": 35
        },
        "id": "llLVssxnEpmI",
        "outputId": "ab6d1317-3e6f-41da-9f3e-e7b355f9cd6c"
      },
      "source": [
        "text6 = '''SKIN: The patient has significant subcutaneous emphysema of the upper chest and \n",
        "anterior neck area although he states that the subcutaneous emphysema has improved significantly since yesterday.'''\n",
        "\n",
        "result = gender_pipeline_sbert.annotate(text6)\n",
        "\n",
        "result['class'][0]"
      ],
      "execution_count": null,
      "outputs": [
        {
          "output_type": "execute_result",
          "data": {
            "application/vnd.google.colaboratory.intrinsic+json": {
              "type": "string"
            },
            "text/plain": [
              "'Male'"
            ]
          },
          "metadata": {},
          "execution_count": 13
        }
      ]
    },
    {
      "cell_type": "code",
      "metadata": {
        "colab": {
          "base_uri": "https://localhost:8080/",
          "height": 35
        },
        "id": "6yjmisN2Er-H",
        "outputId": "047948ec-14c6-4d25-b5c0-42aff8ba9049"
      },
      "source": [
        "text7 = '''INDICATION: The patient is a 42-year-old XX who is five days out from transanal excision of a benign anterior base lesion.\n",
        "xx presents today with diarrhea and bleeding. Digital exam reveals bright red blood on the finger.\n",
        "xx is for exam under anesthesia and control of hemorrhage at this time.\n",
        "'''\n",
        "result = gender_pipeline_sbert.annotate(text7)\n",
        "\n",
        "result['class'][0]"
      ],
      "execution_count": null,
      "outputs": [
        {
          "output_type": "execute_result",
          "data": {
            "application/vnd.google.colaboratory.intrinsic+json": {
              "type": "string"
            },
            "text/plain": [
              "'Male'"
            ]
          },
          "metadata": {},
          "execution_count": 14
        }
      ]
    },
    {
      "cell_type": "code",
      "metadata": {
        "colab": {
          "base_uri": "https://localhost:8080/",
          "height": 35
        },
        "id": "YkCM22qgEr1n",
        "outputId": "5e6c9e8e-995b-48d7-e30c-cfe465ae8fa9"
      },
      "source": [
        "text8 = '''INDICATION: ___ year old patient with complicated medical history of paraplegia\n",
        "and chronic indwelling foley, recurrent MDR UTIs, hx Gallbladder fossa\n",
        "abscess,type 2 DM, HTN, CAD, DVT s/p left AKA complicated complicated by\n",
        "respiratory failure requiring tracheostomy and PEG placement, right ischium\n",
        "osteomyelitis due to chronic pressure ulcers with acute shortness of breath...'''\n",
        "\n",
        "result = gender_pipeline_sbert.annotate(text8)\n",
        "\n",
        "result['class'][0]\n"
      ],
      "execution_count": null,
      "outputs": [
        {
          "output_type": "execute_result",
          "data": {
            "application/vnd.google.colaboratory.intrinsic+json": {
              "type": "string"
            },
            "text/plain": [
              "'Male'"
            ]
          },
          "metadata": {},
          "execution_count": 15
        }
      ]
    }
  ]
}
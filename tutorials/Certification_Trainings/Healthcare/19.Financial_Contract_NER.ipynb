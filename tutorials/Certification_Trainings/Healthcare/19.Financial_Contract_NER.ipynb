{
 "cells": [
  {
   "cell_type": "markdown",
   "metadata": {
    "id": "omUjYAIxqFDl"
   },
   "source": [
    "![JohnSnowLabs](https://nlp.johnsnowlabs.com/assets/images/logo.png)"
   ]
  },
  {
   "cell_type": "markdown",
   "metadata": {
    "id": "vAtN914yqHec"
   },
   "source": [
    "[![Open In Colab](https://colab.research.google.com/assets/colab-badge.svg)](https://colab.research.google.com/github/JohnSnowLabs/spark-nlp-workshop/blob/master/tutorials/Certification_Trainings/Healthcare/19.Financial_Contract_NER.ipynb)"
   ]
  },
  {
   "cell_type": "markdown",
   "metadata": {
    "id": "jpvVHX2N-LAm"
   },
   "source": [
    "## 19.Finance Contract NER with Chunk Merger v2.7.0"
   ]
  },
  {
   "cell_type": "markdown",
   "metadata": {
    "id": "uf6qYGy2q-cx"
   },
   "source": [
    "###  Colab Setup"
   ]
  },
  {
   "cell_type": "code",
   "execution_count": null,
   "metadata": {
    "id": "t2T0nO5E5Ni-"
   },
   "outputs": [],
   "source": [
    "import json\n",
    "\n",
    "from google.colab import files\n",
    "\n",
    "license_keys = files.upload()\n",
    "\n",
    "with open(list(license_keys.keys())[0]) as f:\n",
    "    license_keys = json.load(f)\n",
    "\n",
    "license_keys.keys()"
   ]
  },
  {
   "cell_type": "code",
   "execution_count": 2,
   "metadata": {
    "colab": {
     "base_uri": "https://localhost:8080/"
    },
    "id": "1Dd_0KMLr5y4",
    "outputId": "4016ab64-04a2-4c8f-cf5f-eacc370582d7"
   },
   "outputs": [
    {
     "name": "stdout",
     "output_type": "stream",
     "text": [
      "openjdk version \"1.8.0_272\"\n",
      "OpenJDK Runtime Environment (build 1.8.0_272-8u272-b10-0ubuntu1~18.04-b10)\n",
      "OpenJDK 64-Bit Server VM (build 25.272-b10, mixed mode)\n",
      "Looking in indexes: https://pypi.org/simple, https://pypi.johnsnowlabs.com/2.7.0-e49fd2919a73690cd04ed3b6e223e21330c5214b\n",
      "Requirement already up-to-date: spark-nlp-jsl==2.7.0 in /usr/local/lib/python3.6/dist-packages (2.7.0)\n",
      "Requirement already satisfied, skipping upgrade: spark-nlp==2.6.3 in /usr/local/lib/python3.6/dist-packages (from spark-nlp-jsl==2.7.0) (2.6.3)\n",
      "2.6.3\n"
     ]
    }
   ],
   "source": [
    "\n",
    "import os\n",
    "\n",
    "# Install java\n",
    "! apt-get update -qq\n",
    "! apt-get install -y openjdk-8-jdk-headless -qq > /dev/null\n",
    "\n",
    "os.environ[\"JAVA_HOME\"] = \"/usr/lib/jvm/java-8-openjdk-amd64\"\n",
    "os.environ[\"PATH\"] = os.environ[\"JAVA_HOME\"] + \"/bin:\" + os.environ[\"PATH\"]\n",
    "! java -version\n",
    "\n",
    "secret = license_keys['SECRET']\n",
    "\n",
    "os.environ['SPARK_NLP_LICENSE'] = license_keys['SPARK_NLP_LICENSE']\n",
    "os.environ['AWS_ACCESS_KEY_ID']= license_keys['AWS_ACCESS_KEY_ID']\n",
    "os.environ['AWS_SECRET_ACCESS_KEY'] = license_keys['AWS_SECRET_ACCESS_KEY']\n",
    "jsl_version = license_keys['JSL_VERSION']\n",
    "version = license_keys['PUBLIC_VERSION']\n",
    "\n",
    "! pip install --ignore-installed -q pyspark==2.4.4\n",
    "\n",
    "! python -m pip install --upgrade spark-nlp-jsl==$jsl_version  --extra-index-url https://pypi.johnsnowlabs.com/$secret\n",
    "\n",
    "! pip install --ignore-installed -q spark-nlp==$version\n",
    "\n",
    "import sparknlp\n",
    "\n",
    "print (sparknlp.version())\n",
    "\n",
    "import json\n",
    "import os\n",
    "from pyspark.ml import Pipeline\n",
    "from pyspark.sql import SparkSession\n",
    "\n",
    "import sparknlp_jsl\n",
    "import sys, os, time\n",
    "from sparknlp.base import *\n",
    "from sparknlp.annotator import *\n",
    "from sparknlp.util import *\n",
    "from sparknlp_jsl.annotator import *\n",
    "\n",
    "from pyspark.sql import functions as F\n",
    "from pyspark.ml import Pipeline, PipelineModel\n",
    "\n",
    "spark = sparknlp_jsl.start(secret)\n"
   ]
  },
  {
   "cell_type": "code",
   "execution_count": 3,
   "metadata": {
    "colab": {
     "base_uri": "https://localhost:8080/",
     "height": 35
    },
    "id": "ZkudZVEgbPiX",
    "outputId": "3fe8b23e-9460-40eb-d527-43f35bd68f17"
   },
   "outputs": [
    {
     "data": {
      "application/vnd.google.colaboratory.intrinsic+json": {
       "type": "string"
      },
      "text/plain": [
       "'2.7.0'"
      ]
     },
     "execution_count": 3,
     "metadata": {
      "tags": []
     },
     "output_type": "execute_result"
    }
   ],
   "source": [
    "\n",
    "sparknlp_jsl.version()"
   ]
  },
  {
   "cell_type": "markdown",
   "metadata": {
    "id": "2Br9gAaDo1eT"
   },
   "source": [
    "## Prediction Pipeline"
   ]
  },
  {
   "cell_type": "code",
   "execution_count": 8,
   "metadata": {
    "colab": {
     "base_uri": "https://localhost:8080/"
    },
    "id": "5Ftc3ww_3fUZ",
    "outputId": "9ed6cd98-c73f-43d9-821b-7989cb38bee0"
   },
   "outputs": [
    {
     "name": "stdout",
     "output_type": "stream",
     "text": [
      "glove_6B_300 download started this may take some time.\n",
      "Approximate size to download 426.2 MB\n",
      "[OK!]\n",
      "ner_financial_contract download started this may take some time.\n",
      "Approximate size to download 14.1 MB\n",
      "[OK!]\n",
      "glove_100d download started this may take some time.\n",
      "Approximate size to download 145.3 MB\n",
      "[OK!]\n",
      "onto_100 download started this may take some time.\n",
      "Approximate size to download 13.5 MB\n",
      "[OK!]\n"
     ]
    }
   ],
   "source": [
    "\n",
    "documentAssembler = DocumentAssembler()\\\n",
    "  .setInputCol(\"text\")\\\n",
    "  .setOutputCol(\"document\")\n",
    "\n",
    "# Sentence Detector annotator, processes various sentences per line\n",
    "\n",
    "sentenceDetector = SentenceDetector()\\\n",
    "  .setInputCols([\"document\"])\\\n",
    "  .setOutputCol(\"sentence\")\\\n",
    "\n",
    "# Tokenizer splits words in a relevant format for NLP\n",
    "\n",
    "tokenizer = Tokenizer()\\\n",
    "    .setInputCols([\"sentence\"])\\\n",
    "    .setOutputCol(\"token\")\n",
    "\n",
    "word_embeddings = WordEmbeddingsModel.pretrained(\"glove_6B_300\",'xx')\\\n",
    "    .setInputCols([\"sentence\", 'token'])\\\n",
    "    .setOutputCol(\"word_embeddings\")\\\n",
    "    .setCaseSensitive(False)\n",
    "\n",
    "financial_ner_model =NerDLModel.pretrained('ner_financial_contract', 'en', 'clinical/models')\\\n",
    "    .setInputCols([\"sentence\", \"token\", \"word_embeddings\"])\\\n",
    "    .setOutputCol(\"ner\")\n",
    "\n",
    "ner_converter_1 = NerConverter() \\\n",
    "    .setInputCols([\"sentence\", \"token\", \"ner\"]) \\\n",
    "    .setOutputCol(\"ner_chunk_fin\")\n",
    "\n",
    "onto_embeddings = WordEmbeddingsModel.pretrained(\"glove_100d\",'en')\\\n",
    "    .setInputCols([\"sentence\", 'token'])\\\n",
    "    .setOutputCol(\"onto_embeddings\")\\\n",
    "    .setCaseSensitive(False)\n",
    "\n",
    "ner_onto = NerDLModel.pretrained(name='onto_100', lang='en')\\\n",
    "    .setInputCols([\"sentence\", \"token\", \"onto_embeddings\"])\\\n",
    "    .setOutputCol(\"ner_onto\")  \n",
    "\n",
    "ner_converter_2 = NerConverter() \\\n",
    "    .setInputCols([\"sentence\", \"token\", \"ner_onto\"]) \\\n",
    "    .setOutputCol(\"ner_chunk_onto\")\n",
    "\n",
    "\n",
    "chunk_merger = ChunkMergeApproach()\\\n",
    "    .setInputCols('ner_chunk_onto', \"ner_chunk_fin\")\\\n",
    "    .setOutputCol('ner_chunk')\n",
    "\n",
    "text_pipeline = Pipeline(stages = [\n",
    "                                    documentAssembler,\n",
    "                                    sentenceDetector,\n",
    "                                    tokenizer,\n",
    "                                    word_embeddings,\n",
    "                                    onto_embeddings,\n",
    "                                    financial_ner_model,\n",
    "                                    ner_onto,\n",
    "                                    ner_converter_1,ner_converter_2,\n",
    "                                    chunk_merger    \n",
    "                                  ])\n",
    "\n",
    "empty_df = spark.createDataFrame([['']]).toDF(\"text\")\n",
    "\n",
    "model_for_text = text_pipeline.fit(empty_df)"
   ]
  },
  {
   "cell_type": "code",
   "execution_count": 9,
   "metadata": {
    "colab": {
     "base_uri": "https://localhost:8080/",
     "height": 35
    },
    "id": "e_EZuZaTpqxO",
    "outputId": "27a2b83a-e9d1-4cce-c100-ce38f0d09a37"
   },
   "outputs": [
    {
     "data": {
      "application/vnd.google.colaboratory.intrinsic+json": {
       "type": "string"
      },
      "text/plain": [
       "'glove_100d'"
      ]
     },
     "execution_count": 9,
     "metadata": {
      "tags": []
     },
     "output_type": "execute_result"
    }
   ],
   "source": [
    "ner_onto.getStorageRef()"
   ]
  },
  {
   "cell_type": "code",
   "execution_count": 10,
   "metadata": {
    "colab": {
     "base_uri": "https://localhost:8080/"
    },
    "id": "ZEvcBP0apxBP",
    "outputId": "9c447115-f255-4d7e-93b5-bbc8d8e93f1f"
   },
   "outputs": [
    {
     "data": {
      "text/plain": [
       "['O',\n",
       " 'B-CARDINAL',\n",
       " 'B-EVENT',\n",
       " 'I-EVENT',\n",
       " 'B-WORK_OF_ART',\n",
       " 'I-WORK_OF_ART',\n",
       " 'B-ORG',\n",
       " 'B-DATE',\n",
       " 'I-DATE',\n",
       " 'I-ORG',\n",
       " 'B-GPE',\n",
       " 'B-PERSON',\n",
       " 'B-PRODUCT',\n",
       " 'B-NORP',\n",
       " 'B-ORDINAL',\n",
       " 'I-PERSON',\n",
       " 'B-MONEY',\n",
       " 'I-MONEY',\n",
       " 'I-GPE',\n",
       " 'B-LOC',\n",
       " 'I-LOC',\n",
       " 'I-CARDINAL',\n",
       " 'B-FAC',\n",
       " 'I-FAC',\n",
       " 'B-LAW',\n",
       " 'I-LAW',\n",
       " 'B-TIME',\n",
       " 'I-TIME',\n",
       " 'B-PERCENT',\n",
       " 'I-PERCENT',\n",
       " 'I-NORP',\n",
       " 'I-PRODUCT',\n",
       " 'B-QUANTITY',\n",
       " 'I-QUANTITY',\n",
       " 'B-LANGUAGE',\n",
       " 'I-ORDINAL',\n",
       " 'I-LANGUAGE',\n",
       " 'X']"
      ]
     },
     "execution_count": 10,
     "metadata": {
      "tags": []
     },
     "output_type": "execute_result"
    }
   ],
   "source": [
    "ner_onto.getClasses()"
   ]
  },
  {
   "cell_type": "code",
   "execution_count": 11,
   "metadata": {
    "colab": {
     "base_uri": "https://localhost:8080/",
     "height": 35
    },
    "id": "YGOE59F7p2vY",
    "outputId": "26ff9840-df28-43ff-ad7e-afd0c0b2d138"
   },
   "outputs": [
    {
     "data": {
      "application/vnd.google.colaboratory.intrinsic+json": {
       "type": "string"
      },
      "text/plain": [
       "'glove_6B_300'"
      ]
     },
     "execution_count": 11,
     "metadata": {
      "tags": []
     },
     "output_type": "execute_result"
    }
   ],
   "source": [
    "financial_ner_model.getStorageRef()"
   ]
  },
  {
   "cell_type": "code",
   "execution_count": 12,
   "metadata": {
    "colab": {
     "base_uri": "https://localhost:8080/"
    },
    "id": "8DwQNVitp69Q",
    "outputId": "6624fad2-dcfe-4539-aac8-f18b3c78e898"
   },
   "outputs": [
    {
     "data": {
      "text/plain": [
       "['O', 'I-ORG', 'I-MISC', 'I-PER', 'I-LOC']"
      ]
     },
     "execution_count": 12,
     "metadata": {
      "tags": []
     },
     "output_type": "execute_result"
    }
   ],
   "source": [
    "financial_ner_model.getClasses()"
   ]
  },
  {
   "cell_type": "code",
   "execution_count": 26,
   "metadata": {
    "id": "1Kabq_dN4CUn"
   },
   "outputs": [],
   "source": [
    "text = '''6 AFFIRMATIVE COVENANTS                                                                                                                                                                                                                                                                                                                                                                                                                                                                                                                                                                                                                                                                                                                                                                                                                                                                                                                                                                                                                                                                                                                                                                                                                                                                                                                                                                                                                                                                                                                                                                                                                                                                                                                                                                                              |\n",
    "Borrower has good title to the Collateral , free from liens  on 29 November 2018 in Michogan.                                                                                                                                                                                                                                                                                                                                                                                                                                                                                                                                                                                                                                                                                                                                                                                                                                                                                                                                                                                                                                                                                                                                                                                                                                                                                                                                                                                                                                                                                                                                                                                                                                                                                                                                                        |\n",
    "6 . 6 FURTHER ASSURANCES .                                                                                                                                                                                                                                                                                                                                                                                                                                                                                                                                                                                                                                                                                                                                                                                                                                                                                                                                                                                                                                                                                                                                                                                                                                                                                                                                                                                                                                                                                                                                                                                                                                                                                                                                                                                           |\n",
    "During the additional time , the failure to cure the default is not an Event of Default ( but no Credit Extensions will be made during the cure period );                                                                                                                                                                                                                                                                                                                                                                                                                                                                                                                                                                                                                                                                                                                                                                                                                                                                                                                                                                                                                                                                                                                                                                                                                                                                                                                                                                                                                                                                                                                                                                                                                                                            |\n",
    "( d ) Apply to the Obligations any ( i ) balances and deposits of Borrower it holds , or ( ii ) any amount held by Bank owing to or for the credit or the account of Borrower ;                                                                                                                                                                                                                                                                                                                                                                                                                                                                                                                                                                                                                                                                                                                                                                                                                                                                                                                                                                                                                                                                                                                                                                                                                                                                                                                                                                                                                                                                                                                                                                                                                                      |\n",
    "Bank ' s appointment as Borrower ' s attorney in fact , and all of Bank of Michigan ' s rights and powers , coupled                                                                                                                                                                                                                                                                                                                                                                                                                                                                                                                                                                                                                                                                                                                                                                                                                                                                                                                                                                                                                                                                                                                                                                                                                                                                                                                                                                                                                                                                                                                                                                                                                                                                                                              |\n",
    "If Bank complies with reasonable banking practices it is not liable for ( a ) the safekeeping of the Collateral ; ( b ) any loss or damage to the Collateral ; ( c ) any diminution in the value of the Collateral ; or ( d ) any act or default of any carrier , warehouseman , bailee , or other person .                                                                                                                                                                                                                                                                                                                                                                                                                                                                                                                                                                                                                                                                                                                                                                                                                                                                                                                                                                                                                                                                                                                                                                                                                                                                                                                                                                                                                                                                                                          |\n",
    "If there is a default in any agreement between Borrower and a third party that gives the third party the right to accelerate any Indebtedness exceeding $ 100,000 or that could cause a Material Adverse Change ;                                                                                                                                                                                                                                                                                                                                                                                                                                                                                                                                                                                                                                                                                                                                                                                                                                                                                                                                                                                                                                                                                                                                                                                                                                                                                                                                                                                                                                                                                                                                                                                                  |\n",
    "13 CONTRACT CLAIMS , TORT CLAIMS , BREACH OF DUTY CLAIMS , AND ALL OTHER COMMON LAW OR STATUTORY CLAIMS .                                                                                                                                                                                                                                                                                                                                                                                                                                                                                                                                                                                                                                                                                                                                                                                                                                                                                                                                                                                                                                                                                                                                                                                                                                                                                                                                                                                                                                                                                                                                                                                                                                                                                                |\n",
    "Borrower waives demand, notice of default or dishonor, notice of payment and nonpayment, notice of any default, nonpayment at maturity, release, compromise, settlement, extension, or renewal of accounts, documents, instruments, chattel paper, and guarantees held by Bank on , which Borrower is liable .'''"
   ]
  },
  {
   "cell_type": "code",
   "execution_count": 27,
   "metadata": {
    "id": "XW7xHs7M4JV3"
   },
   "outputs": [],
   "source": [
    "light_model = LightPipeline(model_for_text)\n",
    "\n",
    "ann_text = light_model.fullAnnotate(text)\n"
   ]
  },
  {
   "cell_type": "code",
   "execution_count": 28,
   "metadata": {
    "colab": {
     "base_uri": "https://localhost:8080/"
    },
    "id": "2L8U7hNR-9Kb",
    "outputId": "197917bf-d96e-4c2f-bdfd-56b4a7392a72"
   },
   "outputs": [
    {
     "data": {
      "text/plain": [
       "[('6', 'O'),\n",
       " ('AFFIRMATIVE', 'O'),\n",
       " ('COVENANTS', 'O'),\n",
       " ('|', 'O'),\n",
       " ('Borrower', 'I-PER'),\n",
       " ('has', 'O'),\n",
       " ('good', 'O'),\n",
       " ('title', 'O'),\n",
       " ('to', 'O'),\n",
       " ('the', 'O'),\n",
       " ('Collateral', 'O'),\n",
       " (',', 'O'),\n",
       " ('free', 'O'),\n",
       " ('from', 'O'),\n",
       " ('liens', 'O'),\n",
       " ('on', 'O'),\n",
       " ('29', 'O'),\n",
       " ('November', 'O'),\n",
       " ('2018', 'O'),\n",
       " ('in', 'O'),\n",
       " ('Michogan', 'O'),\n",
       " ('.', 'O'),\n",
       " ('|', 'O'),\n",
       " ('6', 'O'),\n",
       " ('.', 'O'),\n",
       " ('6', 'O'),\n",
       " ('FURTHER', 'O'),\n",
       " ('ASSURANCES', 'O'),\n",
       " ('.', 'O'),\n",
       " ('|', 'O'),\n",
       " ('During', 'O'),\n",
       " ('the', 'O'),\n",
       " ('additional', 'O'),\n",
       " ('time', 'O'),\n",
       " (',', 'O'),\n",
       " ('the', 'O'),\n",
       " ('failure', 'O'),\n",
       " ('to', 'O'),\n",
       " ('cure', 'O'),\n",
       " ('the', 'O'),\n",
       " ('default', 'O'),\n",
       " ('is', 'O'),\n",
       " ('not', 'O'),\n",
       " ('an', 'O'),\n",
       " ('Event', 'O'),\n",
       " ('of', 'O'),\n",
       " ('Default', 'O'),\n",
       " ('(', 'O'),\n",
       " ('but', 'O'),\n",
       " ('no', 'O'),\n",
       " ('Credit', 'O'),\n",
       " ('Extensions', 'O'),\n",
       " ('will', 'O'),\n",
       " ('be', 'O'),\n",
       " ('made', 'O'),\n",
       " ('during', 'O'),\n",
       " ('the', 'O'),\n",
       " ('cure', 'O'),\n",
       " ('period', 'O'),\n",
       " (');', 'O'),\n",
       " ('|', 'O'),\n",
       " ('(', 'O'),\n",
       " ('d', 'O'),\n",
       " (')', 'O'),\n",
       " ('Apply', 'O'),\n",
       " ('to', 'O'),\n",
       " ('the', 'O'),\n",
       " ('Obligations', 'O'),\n",
       " ('any', 'O'),\n",
       " ('(', 'O'),\n",
       " ('i', 'O'),\n",
       " (')', 'O'),\n",
       " ('balances', 'O'),\n",
       " ('and', 'O'),\n",
       " ('deposits', 'O'),\n",
       " ('of', 'O'),\n",
       " ('Borrower', 'I-PER'),\n",
       " ('it', 'O'),\n",
       " ('holds', 'O'),\n",
       " (',', 'O'),\n",
       " ('or', 'O'),\n",
       " ('(', 'O'),\n",
       " ('ii', 'O'),\n",
       " (')', 'O'),\n",
       " ('any', 'O'),\n",
       " ('amount', 'O'),\n",
       " ('held', 'O'),\n",
       " ('by', 'O'),\n",
       " ('Bank', 'I-ORG'),\n",
       " ('owing', 'O'),\n",
       " ('to', 'O'),\n",
       " ('or', 'O'),\n",
       " ('for', 'O'),\n",
       " ('the', 'O'),\n",
       " ('credit', 'O'),\n",
       " ('or', 'O'),\n",
       " ('the', 'O'),\n",
       " ('account', 'O'),\n",
       " ('of', 'O'),\n",
       " ('Borrower', 'I-PER'),\n",
       " (';', 'O'),\n",
       " ('|', 'O'),\n",
       " ('Bank', 'I-ORG'),\n",
       " (\"'\", 'O'),\n",
       " ('s', 'O'),\n",
       " ('appointment', 'O'),\n",
       " ('as', 'O'),\n",
       " ('Borrower', 'I-PER'),\n",
       " (\"'\", 'O'),\n",
       " ('s', 'O'),\n",
       " ('attorney', 'O'),\n",
       " ('in', 'O'),\n",
       " ('fact', 'O'),\n",
       " (',', 'O'),\n",
       " ('and', 'O'),\n",
       " ('all', 'O'),\n",
       " ('of', 'O'),\n",
       " ('Bank', 'I-ORG'),\n",
       " ('of', 'O'),\n",
       " ('Michigan', 'O'),\n",
       " (\"'\", 'O'),\n",
       " ('s', 'O'),\n",
       " ('rights', 'O'),\n",
       " ('and', 'O'),\n",
       " ('powers', 'O'),\n",
       " (',', 'O'),\n",
       " ('coupled', 'O'),\n",
       " ('|', 'O'),\n",
       " ('If', 'O'),\n",
       " ('Bank', 'I-ORG'),\n",
       " ('complies', 'O'),\n",
       " ('with', 'O'),\n",
       " ('reasonable', 'O'),\n",
       " ('banking', 'O'),\n",
       " ('practices', 'O'),\n",
       " ('it', 'O'),\n",
       " ('is', 'O'),\n",
       " ('not', 'O'),\n",
       " ('liable', 'O'),\n",
       " ('for', 'O'),\n",
       " ('(', 'O'),\n",
       " ('a', 'O'),\n",
       " (')', 'O'),\n",
       " ('the', 'O'),\n",
       " ('safekeeping', 'O'),\n",
       " ('of', 'O'),\n",
       " ('the', 'O'),\n",
       " ('Collateral', 'O'),\n",
       " (';', 'O'),\n",
       " ('(', 'O'),\n",
       " ('b', 'O'),\n",
       " (')', 'O'),\n",
       " ('any', 'O'),\n",
       " ('loss', 'O'),\n",
       " ('or', 'O'),\n",
       " ('damage', 'O'),\n",
       " ('to', 'O'),\n",
       " ('the', 'O'),\n",
       " ('Collateral', 'O'),\n",
       " (';', 'O'),\n",
       " ('(', 'O'),\n",
       " ('c', 'O'),\n",
       " (')', 'O'),\n",
       " ('any', 'O'),\n",
       " ('diminution', 'O'),\n",
       " ('in', 'O'),\n",
       " ('the', 'O'),\n",
       " ('value', 'O'),\n",
       " ('of', 'O'),\n",
       " ('the', 'O'),\n",
       " ('Collateral', 'O'),\n",
       " (';', 'O'),\n",
       " ('or', 'O'),\n",
       " ('(', 'O'),\n",
       " ('d', 'O'),\n",
       " (')', 'O'),\n",
       " ('any', 'O'),\n",
       " ('act', 'O'),\n",
       " ('or', 'O'),\n",
       " ('default', 'O'),\n",
       " ('of', 'O'),\n",
       " ('any', 'O'),\n",
       " ('carrier', 'O'),\n",
       " (',', 'O'),\n",
       " ('warehouseman', 'O'),\n",
       " (',', 'O'),\n",
       " ('bailee', 'O'),\n",
       " (',', 'O'),\n",
       " ('or', 'O'),\n",
       " ('other', 'O'),\n",
       " ('person', 'O'),\n",
       " ('.', 'O'),\n",
       " ('|', 'O'),\n",
       " ('If', 'O'),\n",
       " ('there', 'O'),\n",
       " ('is', 'O'),\n",
       " ('a', 'O'),\n",
       " ('default', 'O'),\n",
       " ('in', 'O'),\n",
       " ('any', 'O'),\n",
       " ('agreement', 'O'),\n",
       " ('between', 'O'),\n",
       " ('Borrower', 'I-PER'),\n",
       " ('and', 'O'),\n",
       " ('a', 'O'),\n",
       " ('third', 'O'),\n",
       " ('party', 'O'),\n",
       " ('that', 'O'),\n",
       " ('gives', 'O'),\n",
       " ('the', 'O'),\n",
       " ('third', 'O'),\n",
       " ('party', 'O'),\n",
       " ('the', 'O'),\n",
       " ('right', 'O'),\n",
       " ('to', 'O'),\n",
       " ('accelerate', 'O'),\n",
       " ('any', 'O'),\n",
       " ('Indebtedness', 'O'),\n",
       " ('exceeding', 'O'),\n",
       " ('$', 'O'),\n",
       " ('100,000', 'O'),\n",
       " ('or', 'O'),\n",
       " ('that', 'O'),\n",
       " ('could', 'O'),\n",
       " ('cause', 'O'),\n",
       " ('a', 'O'),\n",
       " ('Material', 'O'),\n",
       " ('Adverse', 'O'),\n",
       " ('Change', 'O'),\n",
       " (';', 'O'),\n",
       " ('|', 'O'),\n",
       " ('13', 'O'),\n",
       " ('CONTRACT', 'O'),\n",
       " ('CLAIMS', 'O'),\n",
       " (',', 'O'),\n",
       " ('TORT', 'O'),\n",
       " ('CLAIMS', 'O'),\n",
       " (',', 'O'),\n",
       " ('BREACH', 'O'),\n",
       " ('OF', 'O'),\n",
       " ('DUTY', 'O'),\n",
       " ('CLAIMS', 'O'),\n",
       " (',', 'O'),\n",
       " ('AND', 'O'),\n",
       " ('ALL', 'O'),\n",
       " ('OTHER', 'O'),\n",
       " ('COMMON', 'O'),\n",
       " ('LAW', 'O'),\n",
       " ('OR', 'O'),\n",
       " ('STATUTORY', 'O'),\n",
       " ('CLAIMS', 'O'),\n",
       " ('.', 'O'),\n",
       " ('|', 'O'),\n",
       " ('Borrower', 'I-PER'),\n",
       " ('waives', 'O'),\n",
       " ('demand', 'O'),\n",
       " (',', 'O'),\n",
       " ('notice', 'O'),\n",
       " ('of', 'O'),\n",
       " ('default', 'O'),\n",
       " ('or', 'O'),\n",
       " ('dishonor', 'O'),\n",
       " (',', 'O'),\n",
       " ('notice', 'O'),\n",
       " ('of', 'O'),\n",
       " ('payment', 'O'),\n",
       " ('and', 'O'),\n",
       " ('nonpayment', 'O'),\n",
       " (',', 'O'),\n",
       " ('notice', 'O'),\n",
       " ('of', 'O'),\n",
       " ('any', 'O'),\n",
       " ('default', 'O'),\n",
       " (',', 'O'),\n",
       " ('nonpayment', 'O'),\n",
       " ('at', 'O'),\n",
       " ('maturity', 'O'),\n",
       " (',', 'O'),\n",
       " ('release', 'O'),\n",
       " (',', 'O'),\n",
       " ('compromise', 'O'),\n",
       " (',', 'O'),\n",
       " ('settlement', 'O'),\n",
       " (',', 'O'),\n",
       " ('extension', 'O'),\n",
       " (',', 'O'),\n",
       " ('or', 'O'),\n",
       " ('renewal', 'O'),\n",
       " ('of', 'O'),\n",
       " ('accounts', 'O'),\n",
       " (',', 'O'),\n",
       " ('documents', 'O'),\n",
       " (',', 'O'),\n",
       " ('instruments', 'O'),\n",
       " (',', 'O'),\n",
       " ('chattel', 'O'),\n",
       " ('paper', 'O'),\n",
       " (',', 'O'),\n",
       " ('and', 'O'),\n",
       " ('guarantees', 'O'),\n",
       " ('held', 'O'),\n",
       " ('by', 'O'),\n",
       " ('Bank', 'I-ORG'),\n",
       " ('on', 'O'),\n",
       " (',', 'O'),\n",
       " ('which', 'O'),\n",
       " ('Borrower', 'I-PER'),\n",
       " ('is', 'O'),\n",
       " ('liable', 'O'),\n",
       " ('.', 'O')]"
      ]
     },
     "execution_count": 28,
     "metadata": {
      "tags": []
     },
     "output_type": "execute_result"
    }
   ],
   "source": [
    "result = light_model.annotate(text)\n",
    "\n",
    "list(zip(result['token'], result['ner']))"
   ]
  },
  {
   "cell_type": "code",
   "execution_count": 29,
   "metadata": {
    "colab": {
     "base_uri": "https://localhost:8080/",
     "height": 425
    },
    "id": "B340QGW6_FcZ",
    "outputId": "5bee6400-2de7-433a-c2a4-b33ee31de055"
   },
   "outputs": [
    {
     "name": "stdout",
     "output_type": "stream",
     "text": [
      "Number of Detected NERs in the given Text is : 12\n"
     ]
    },
    {
     "data": {
      "text/html": [
       "<div>\n",
       "<style scoped>\n",
       "    .dataframe tbody tr th:only-of-type {\n",
       "        vertical-align: middle;\n",
       "    }\n",
       "\n",
       "    .dataframe tbody tr th {\n",
       "        vertical-align: top;\n",
       "    }\n",
       "\n",
       "    .dataframe thead th {\n",
       "        text-align: right;\n",
       "    }\n",
       "</style>\n",
       "<table border=\"1\" class=\"dataframe\">\n",
       "  <thead>\n",
       "    <tr style=\"text-align: right;\">\n",
       "      <th></th>\n",
       "      <th>sent_id</th>\n",
       "      <th>token</th>\n",
       "      <th>start</th>\n",
       "      <th>end</th>\n",
       "      <th>ner</th>\n",
       "    </tr>\n",
       "  </thead>\n",
       "  <tbody>\n",
       "    <tr>\n",
       "      <th>0</th>\n",
       "      <td>0</td>\n",
       "      <td>6</td>\n",
       "      <td>0</td>\n",
       "      <td>0</td>\n",
       "      <td>O</td>\n",
       "    </tr>\n",
       "    <tr>\n",
       "      <th>1</th>\n",
       "      <td>0</td>\n",
       "      <td>AFFIRMATIVE</td>\n",
       "      <td>2</td>\n",
       "      <td>12</td>\n",
       "      <td>O</td>\n",
       "    </tr>\n",
       "    <tr>\n",
       "      <th>2</th>\n",
       "      <td>0</td>\n",
       "      <td>COVENANTS</td>\n",
       "      <td>14</td>\n",
       "      <td>22</td>\n",
       "      <td>O</td>\n",
       "    </tr>\n",
       "    <tr>\n",
       "      <th>3</th>\n",
       "      <td>0</td>\n",
       "      <td>|</td>\n",
       "      <td>1749</td>\n",
       "      <td>1749</td>\n",
       "      <td>O</td>\n",
       "    </tr>\n",
       "    <tr>\n",
       "      <th>4</th>\n",
       "      <td>0</td>\n",
       "      <td>Borrower</td>\n",
       "      <td>1751</td>\n",
       "      <td>1758</td>\n",
       "      <td>I-PER</td>\n",
       "    </tr>\n",
       "    <tr>\n",
       "      <th>...</th>\n",
       "      <td>...</td>\n",
       "      <td>...</td>\n",
       "      <td>...</td>\n",
       "      <td>...</td>\n",
       "      <td>...</td>\n",
       "    </tr>\n",
       "    <tr>\n",
       "      <th>305</th>\n",
       "      <td>11</td>\n",
       "      <td>which</td>\n",
       "      <td>16065</td>\n",
       "      <td>16069</td>\n",
       "      <td>O</td>\n",
       "    </tr>\n",
       "    <tr>\n",
       "      <th>306</th>\n",
       "      <td>11</td>\n",
       "      <td>Borrower</td>\n",
       "      <td>16071</td>\n",
       "      <td>16078</td>\n",
       "      <td>I-PER</td>\n",
       "    </tr>\n",
       "    <tr>\n",
       "      <th>307</th>\n",
       "      <td>11</td>\n",
       "      <td>is</td>\n",
       "      <td>16080</td>\n",
       "      <td>16081</td>\n",
       "      <td>O</td>\n",
       "    </tr>\n",
       "    <tr>\n",
       "      <th>308</th>\n",
       "      <td>11</td>\n",
       "      <td>liable</td>\n",
       "      <td>16083</td>\n",
       "      <td>16088</td>\n",
       "      <td>O</td>\n",
       "    </tr>\n",
       "    <tr>\n",
       "      <th>309</th>\n",
       "      <td>11</td>\n",
       "      <td>.</td>\n",
       "      <td>16090</td>\n",
       "      <td>16090</td>\n",
       "      <td>O</td>\n",
       "    </tr>\n",
       "  </tbody>\n",
       "</table>\n",
       "<p>310 rows × 5 columns</p>\n",
       "</div>"
      ],
      "text/plain": [
       "     sent_id        token  start    end    ner\n",
       "0          0            6      0      0      O\n",
       "1          0  AFFIRMATIVE      2     12      O\n",
       "2          0    COVENANTS     14     22      O\n",
       "3          0            |   1749   1749      O\n",
       "4          0     Borrower   1751   1758  I-PER\n",
       "..       ...          ...    ...    ...    ...\n",
       "305       11        which  16065  16069      O\n",
       "306       11     Borrower  16071  16078  I-PER\n",
       "307       11           is  16080  16081      O\n",
       "308       11       liable  16083  16088      O\n",
       "309       11            .  16090  16090      O\n",
       "\n",
       "[310 rows x 5 columns]"
      ]
     },
     "execution_count": 29,
     "metadata": {
      "tags": []
     },
     "output_type": "execute_result"
    }
   ],
   "source": [
    "result = light_model.fullAnnotate(text)\n",
    "\n",
    "ner_df= pd.DataFrame([(int(x.metadata['sentence']), x.result, x.begin, x.end, y.result) for x,y in zip(result[0][\"token\"], result[0][\"ner\"])], \n",
    "                      columns=['sent_id','token','start','end','ner'])\n",
    "\n",
    "print('Number of Detected NERs in the given Text is :', ner_df.ner[ner_df.ner!='O'].count())\n",
    "\n",
    "\n",
    "ner_df"
   ]
  },
  {
   "cell_type": "code",
   "execution_count": 30,
   "metadata": {
    "colab": {
     "base_uri": "https://localhost:8080/",
     "height": 498
    },
    "id": "6Jzl4qxz_KwR",
    "outputId": "d2493b7b-852f-4d3b-c290-f9c214d7b43e"
   },
   "outputs": [
    {
     "data": {
      "text/html": [
       "<div>\n",
       "<style scoped>\n",
       "    .dataframe tbody tr th:only-of-type {\n",
       "        vertical-align: middle;\n",
       "    }\n",
       "\n",
       "    .dataframe tbody tr th {\n",
       "        vertical-align: top;\n",
       "    }\n",
       "\n",
       "    .dataframe thead th {\n",
       "        text-align: right;\n",
       "    }\n",
       "</style>\n",
       "<table border=\"1\" class=\"dataframe\">\n",
       "  <thead>\n",
       "    <tr style=\"text-align: right;\">\n",
       "      <th></th>\n",
       "      <th>ner_chunk</th>\n",
       "      <th>entities</th>\n",
       "    </tr>\n",
       "  </thead>\n",
       "  <tbody>\n",
       "    <tr>\n",
       "      <th>7</th>\n",
       "      <td>Bank</td>\n",
       "      <td>ORG</td>\n",
       "    </tr>\n",
       "    <tr>\n",
       "      <th>6</th>\n",
       "      <td>Borrower</td>\n",
       "      <td>PER</td>\n",
       "    </tr>\n",
       "    <tr>\n",
       "      <th>5</th>\n",
       "      <td>6</td>\n",
       "      <td>CARDINAL</td>\n",
       "    </tr>\n",
       "    <tr>\n",
       "      <th>8</th>\n",
       "      <td>Borrower</td>\n",
       "      <td>PER</td>\n",
       "    </tr>\n",
       "    <tr>\n",
       "      <th>15</th>\n",
       "      <td>third</td>\n",
       "      <td>ORDINAL</td>\n",
       "    </tr>\n",
       "    <tr>\n",
       "      <th>16</th>\n",
       "      <td>100,000</td>\n",
       "      <td>MONEY</td>\n",
       "    </tr>\n",
       "    <tr>\n",
       "      <th>0</th>\n",
       "      <td>6</td>\n",
       "      <td>CARDINAL</td>\n",
       "    </tr>\n",
       "    <tr>\n",
       "      <th>2</th>\n",
       "      <td>29 November 2018</td>\n",
       "      <td>DATE</td>\n",
       "    </tr>\n",
       "    <tr>\n",
       "      <th>20</th>\n",
       "      <td>Borrower</td>\n",
       "      <td>PER</td>\n",
       "    </tr>\n",
       "    <tr>\n",
       "      <th>11</th>\n",
       "      <td>Bank of Michigan '</td>\n",
       "      <td>ORG</td>\n",
       "    </tr>\n",
       "    <tr>\n",
       "      <th>1</th>\n",
       "      <td>Borrower</td>\n",
       "      <td>PER</td>\n",
       "    </tr>\n",
       "    <tr>\n",
       "      <th>19</th>\n",
       "      <td>Bank</td>\n",
       "      <td>ORG</td>\n",
       "    </tr>\n",
       "    <tr>\n",
       "      <th>17</th>\n",
       "      <td>13</td>\n",
       "      <td>CARDINAL</td>\n",
       "    </tr>\n",
       "    <tr>\n",
       "      <th>9</th>\n",
       "      <td>Bank</td>\n",
       "      <td>ORG</td>\n",
       "    </tr>\n",
       "    <tr>\n",
       "      <th>12</th>\n",
       "      <td>Bank</td>\n",
       "      <td>ORG</td>\n",
       "    </tr>\n",
       "  </tbody>\n",
       "</table>\n",
       "</div>"
      ],
      "text/plain": [
       "             ner_chunk  entities\n",
       "7                 Bank       ORG\n",
       "6             Borrower       PER\n",
       "5                    6  CARDINAL\n",
       "8             Borrower       PER\n",
       "15               third   ORDINAL\n",
       "16             100,000     MONEY\n",
       "0                    6  CARDINAL\n",
       "2     29 November 2018      DATE\n",
       "20            Borrower       PER\n",
       "11  Bank of Michigan '       ORG\n",
       "1             Borrower       PER\n",
       "19                Bank       ORG\n",
       "17                  13  CARDINAL\n",
       "9                 Bank       ORG\n",
       "12                Bank       ORG"
      ]
     },
     "execution_count": 30,
     "metadata": {
      "tags": []
     },
     "output_type": "execute_result"
    }
   ],
   "source": [
    "import pandas as pd\n",
    "\n",
    "chunks = []\n",
    "entities = []\n",
    "\n",
    "for n in result[0]['ner_chunk']:    \n",
    "    chunks.append(n.result)\n",
    "    entities.append(n.metadata['entity']) \n",
    "\n",
    "df = pd.DataFrame({'ner_chunk':chunks, 'entities':entities})\n",
    "\n",
    "df.sample(15)"
   ]
  },
  {
   "cell_type": "markdown",
   "metadata": {
    "id": "QImVcr-mpCz1"
   },
   "source": [
    "## Highlighting NERs in the Text"
   ]
  },
  {
   "cell_type": "code",
   "execution_count": 21,
   "metadata": {
    "id": "9lNFMvfCpVOr"
   },
   "outputs": [],
   "source": [
    "!wget -q https://raw.githubusercontent.com/JohnSnowLabs/spark-nlp-workshop/master/tutorials/Certification_Trainings/Public/utils/ner_highlighter.py\n",
    "\n",
    "import ner_highlighter"
   ]
  },
  {
   "cell_type": "code",
   "execution_count": 31,
   "metadata": {
    "colab": {
     "base_uri": "https://localhost:8080/",
     "height": 728
    },
    "id": "_zTCcn_i_Oiz",
    "outputId": "537c8fe7-6336-4d5c-9f1a-902fb1100e36"
   },
   "outputs": [
    {
     "data": {
      "text/html": [
       "<span class=\"tex2jax_ignore\"><div class=\"entities\" style=\"line-height: 2.5; direction: ltr\">\n",
       "<mark class=\"entity\" style=\"background: #C78AA0; padding: 0.45em 0.6em; margin: 0 0.25em; line-height: 1; border-radius: 0.35em;\">\n",
       "    6\n",
       "    <span style=\"font-size: 0.8em; font-weight: bold; line-height: 1; border-radius: 0.35em; text-transform: uppercase; vertical-align: middle; margin-left: 0.5rem\">CARDINAL</span>\n",
       "</mark>\n",
       " AFFIRMATIVE COVENANTS                                                                                                                                                                                                                                                                                                                                                                                                                                                                                                                                                                                                                                                                                                                                                                                                                                                                                                                                                                                                                                                                                                                                                                                                                                                                                                                                                                                                                                                                                                                                                                                                                                                                                                                                                                                              |</br>\n",
       "<mark class=\"entity\" style=\"background: #E9FFEF; padding: 0.45em 0.6em; margin: 0 0.25em; line-height: 1; border-radius: 0.35em;\">\n",
       "    Borrower\n",
       "    <span style=\"font-size: 0.8em; font-weight: bold; line-height: 1; border-radius: 0.35em; text-transform: uppercase; vertical-align: middle; margin-left: 0.5rem\">PER</span>\n",
       "</mark>\n",
       " has good title to the Collateral , free from liens  on \n",
       "<mark class=\"entity\" style=\"background: #69C9F6; padding: 0.45em 0.6em; margin: 0 0.25em; line-height: 1; border-radius: 0.35em;\">\n",
       "    29 November 2018\n",
       "    <span style=\"font-size: 0.8em; font-weight: bold; line-height: 1; border-radius: 0.35em; text-transform: uppercase; vertical-align: middle; margin-left: 0.5rem\">DATE</span>\n",
       "</mark>\n",
       " in \n",
       "<mark class=\"entity\" style=\"background: #878579; padding: 0.45em 0.6em; margin: 0 0.25em; line-height: 1; border-radius: 0.35em;\">\n",
       "    Michogan\n",
       "    <span style=\"font-size: 0.8em; font-weight: bold; line-height: 1; border-radius: 0.35em; text-transform: uppercase; vertical-align: middle; margin-left: 0.5rem\">GPE</span>\n",
       "</mark>\n",
       ".                                                                                                                                                                                                                                                                                                                                                                                                                                                                                                                                                                                                                                                                                                                                                                                                                                                                                                                                                                                                                                                                                                                                                                                                                                                                                                                                                                                                                                                                                                                                                                                                                                                                                                                                                        |</br>\n",
       "<mark class=\"entity\" style=\"background: #C78AA0; padding: 0.45em 0.6em; margin: 0 0.25em; line-height: 1; border-radius: 0.35em;\">\n",
       "    6\n",
       "    <span style=\"font-size: 0.8em; font-weight: bold; line-height: 1; border-radius: 0.35em; text-transform: uppercase; vertical-align: middle; margin-left: 0.5rem\">CARDINAL</span>\n",
       "</mark>\n",
       " . \n",
       "<mark class=\"entity\" style=\"background: #C78AA0; padding: 0.45em 0.6em; margin: 0 0.25em; line-height: 1; border-radius: 0.35em;\">\n",
       "    6\n",
       "    <span style=\"font-size: 0.8em; font-weight: bold; line-height: 1; border-radius: 0.35em; text-transform: uppercase; vertical-align: middle; margin-left: 0.5rem\">CARDINAL</span>\n",
       "</mark>\n",
       " FURTHER ASSURANCES .                                                                                                                                                                                                                                                                                                                                                                                                                                                                                                                                                                                                                                                                                                                                                                                                                                                                                                                                                                                                                                                                                                                                                                                                                                                                                                                                                                                                                                                                                                                                                                                                                                                                                                                                                                                           |</br>During the additional time , the failure to cure the default is not an Event of Default ( but no Credit Extensions will be made during the cure period );                                                                                                                                                                                                                                                                                                                                                                                                                                                                                                                                                                                                                                                                                                                                                                                                                                                                                                                                                                                                                                                                                                                                                                                                                                                                                                                                                                                                                                                                                                                                                                                                                                                            |</br>( d ) Apply to the Obligations any ( i ) balances and deposits of \n",
       "<mark class=\"entity\" style=\"background: #E9FFEF; padding: 0.45em 0.6em; margin: 0 0.25em; line-height: 1; border-radius: 0.35em;\">\n",
       "    Borrower\n",
       "    <span style=\"font-size: 0.8em; font-weight: bold; line-height: 1; border-radius: 0.35em; text-transform: uppercase; vertical-align: middle; margin-left: 0.5rem\">PER</span>\n",
       "</mark>\n",
       " it holds , or ( ii ) any amount held by \n",
       "<mark class=\"entity\" style=\"background: #ADB865; padding: 0.45em 0.6em; margin: 0 0.25em; line-height: 1; border-radius: 0.35em;\">\n",
       "    Bank\n",
       "    <span style=\"font-size: 0.8em; font-weight: bold; line-height: 1; border-radius: 0.35em; text-transform: uppercase; vertical-align: middle; margin-left: 0.5rem\">ORG</span>\n",
       "</mark>\n",
       " owing to or for the credit or the account of \n",
       "<mark class=\"entity\" style=\"background: #E9FFEF; padding: 0.45em 0.6em; margin: 0 0.25em; line-height: 1; border-radius: 0.35em;\">\n",
       "    Borrower\n",
       "    <span style=\"font-size: 0.8em; font-weight: bold; line-height: 1; border-radius: 0.35em; text-transform: uppercase; vertical-align: middle; margin-left: 0.5rem\">PER</span>\n",
       "</mark>\n",
       " ;                                                                                                                                                                                                                                                                                                                                                                                                                                                                                                                                                                                                                                                                                                                                                                                                                                                                                                                                                                                                                                                                                                                                                                                                                                                                                                                                                                                                                                                                                                                                                                                                                                      |</br>\n",
       "<mark class=\"entity\" style=\"background: #ADB865; padding: 0.45em 0.6em; margin: 0 0.25em; line-height: 1; border-radius: 0.35em;\">\n",
       "    Bank\n",
       "    <span style=\"font-size: 0.8em; font-weight: bold; line-height: 1; border-radius: 0.35em; text-transform: uppercase; vertical-align: middle; margin-left: 0.5rem\">ORG</span>\n",
       "</mark>\n",
       " ' s appointment as \n",
       "<mark class=\"entity\" style=\"background: #E9FFEF; padding: 0.45em 0.6em; margin: 0 0.25em; line-height: 1; border-radius: 0.35em;\">\n",
       "    Borrower\n",
       "    <span style=\"font-size: 0.8em; font-weight: bold; line-height: 1; border-radius: 0.35em; text-transform: uppercase; vertical-align: middle; margin-left: 0.5rem\">PER</span>\n",
       "</mark>\n",
       " ' s attorney in fact , and all of \n",
       "<mark class=\"entity\" style=\"background: #ADB865; padding: 0.45em 0.6em; margin: 0 0.25em; line-height: 1; border-radius: 0.35em;\">\n",
       "    Bank of Michigan '\n",
       "    <span style=\"font-size: 0.8em; font-weight: bold; line-height: 1; border-radius: 0.35em; text-transform: uppercase; vertical-align: middle; margin-left: 0.5rem\">ORG</span>\n",
       "</mark>\n",
       " s rights and powers , coupled                                                                                                                                                                                                                                                                                                                                                                                                                                                                                                                                                                                                                                                                                                                                                                                                                                                                                                                                                                                                                                                                                                                                                                                                                                                                                                                                                                                                                                                                                                                                                                                                                                                                                                              |</br>If \n",
       "<mark class=\"entity\" style=\"background: #ADB865; padding: 0.45em 0.6em; margin: 0 0.25em; line-height: 1; border-radius: 0.35em;\">\n",
       "    Bank\n",
       "    <span style=\"font-size: 0.8em; font-weight: bold; line-height: 1; border-radius: 0.35em; text-transform: uppercase; vertical-align: middle; margin-left: 0.5rem\">ORG</span>\n",
       "</mark>\n",
       " complies with reasonable banking practices it is not liable for ( a ) the safekeeping of the Collateral ; ( b ) any loss or damage to the Collateral ; ( c ) any diminution in the value of the Collateral ; or ( d ) any act or default of any carrier , warehouseman , bailee , or other person .                                                                                                                                                                                                                                                                                                                                                                                                                                                                                                                                                                                                                                                                                                                                                                                                                                                                                                                                                                                                                                                                                                                                                                                                                                                                                                                                                                                                                                                                                                          |</br>If there is a default in any agreement between \n",
       "<mark class=\"entity\" style=\"background: #E9FFEF; padding: 0.45em 0.6em; margin: 0 0.25em; line-height: 1; border-radius: 0.35em;\">\n",
       "    Borrower\n",
       "    <span style=\"font-size: 0.8em; font-weight: bold; line-height: 1; border-radius: 0.35em; text-transform: uppercase; vertical-align: middle; margin-left: 0.5rem\">PER</span>\n",
       "</mark>\n",
       " and a \n",
       "<mark class=\"entity\" style=\"background: #E688AA; padding: 0.45em 0.6em; margin: 0 0.25em; line-height: 1; border-radius: 0.35em;\">\n",
       "    third\n",
       "    <span style=\"font-size: 0.8em; font-weight: bold; line-height: 1; border-radius: 0.35em; text-transform: uppercase; vertical-align: middle; margin-left: 0.5rem\">ORDINAL</span>\n",
       "</mark>\n",
       " party that gives the \n",
       "<mark class=\"entity\" style=\"background: #E688AA; padding: 0.45em 0.6em; margin: 0 0.25em; line-height: 1; border-radius: 0.35em;\">\n",
       "    third\n",
       "    <span style=\"font-size: 0.8em; font-weight: bold; line-height: 1; border-radius: 0.35em; text-transform: uppercase; vertical-align: middle; margin-left: 0.5rem\">ORDINAL</span>\n",
       "</mark>\n",
       " party the right to accelerate any Indebtedness exceeding $ \n",
       "<mark class=\"entity\" style=\"background: #F6F88C; padding: 0.45em 0.6em; margin: 0 0.25em; line-height: 1; border-radius: 0.35em;\">\n",
       "    100,000\n",
       "    <span style=\"font-size: 0.8em; font-weight: bold; line-height: 1; border-radius: 0.35em; text-transform: uppercase; vertical-align: middle; margin-left: 0.5rem\">MONEY</span>\n",
       "</mark>\n",
       " or that could cause a Material Adverse Change ;                                                                                                                                                                                                                                                                                                                                                                                                                                                                                                                                                                                                                                                                                                                                                                                                                                                                                                                                                                                                                                                                                                                                                                                                                                                                                                                                                                                                                                                                                                                                                                                                  |</br>\n",
       "<mark class=\"entity\" style=\"background: #C78AA0; padding: 0.45em 0.6em; margin: 0 0.25em; line-height: 1; border-radius: 0.35em;\">\n",
       "    13\n",
       "    <span style=\"font-size: 0.8em; font-weight: bold; line-height: 1; border-radius: 0.35em; text-transform: uppercase; vertical-align: middle; margin-left: 0.5rem\">CARDINAL</span>\n",
       "</mark>\n",
       " CONTRACT CLAIMS , TORT CLAIMS , BREACH OF DUTY CLAIMS , AND ALL OTHER COMMON LAW OR STATUTORY CLAIMS .                                                                                                                                                                                                                                                                                                                                                                                                                                                                                                                                                                                                                                                                                                                                                                                                                                                                                                                                                                                                                                                                                                                                                                                                                                                                                                                                                                                                                                                                                                                                                                                                                                                                                                |</br>\n",
       "<mark class=\"entity\" style=\"background: #E9FFEF; padding: 0.45em 0.6em; margin: 0 0.25em; line-height: 1; border-radius: 0.35em;\">\n",
       "    Borrower\n",
       "    <span style=\"font-size: 0.8em; font-weight: bold; line-height: 1; border-radius: 0.35em; text-transform: uppercase; vertical-align: middle; margin-left: 0.5rem\">PER</span>\n",
       "</mark>\n",
       " waives demand, notice of default or dishonor, notice of payment and nonpayment, notice of any default, nonpayment at maturity, release, compromise, settlement, extension, or renewal of accounts, documents, instruments, chattel paper, and guarantees held by \n",
       "<mark class=\"entity\" style=\"background: #ADB865; padding: 0.45em 0.6em; margin: 0 0.25em; line-height: 1; border-radius: 0.35em;\">\n",
       "    Bank\n",
       "    <span style=\"font-size: 0.8em; font-weight: bold; line-height: 1; border-radius: 0.35em; text-transform: uppercase; vertical-align: middle; margin-left: 0.5rem\">ORG</span>\n",
       "</mark>\n",
       " on , which \n",
       "<mark class=\"entity\" style=\"background: #E9FFEF; padding: 0.45em 0.6em; margin: 0 0.25em; line-height: 1; border-radius: 0.35em;\">\n",
       "    Borrower\n",
       "    <span style=\"font-size: 0.8em; font-weight: bold; line-height: 1; border-radius: 0.35em; text-transform: uppercase; vertical-align: middle; margin-left: 0.5rem\">PER</span>\n",
       "</mark>\n",
       " is liable .</div></span>"
      ],
      "text/plain": [
       "<IPython.core.display.HTML object>"
      ]
     },
     "metadata": {
      "tags": []
     },
     "output_type": "display_data"
    }
   ],
   "source": [
    "ner_highlighter.chunk_highlighter (result[0])"
   ]
  },
  {
   "cell_type": "code",
   "execution_count": null,
   "metadata": {
    "id": "f5MyFYmRvUb9"
   },
   "outputs": [],
   "source": []
  }
 ],
 "metadata": {
  "colab": {
   "collapsed_sections": [],
   "name": "19.  Financial_Contract_NER.ipynb",
   "provenance": [],
   "toc_visible": true
  },
  "kernelspec": {
   "display_name": "Python 3",
   "language": "python",
   "name": "python3"
  },
  "language_info": {
   "codemirror_mode": {
    "name": "ipython",
    "version": 3
   },
   "file_extension": ".py",
   "mimetype": "text/x-python",
   "name": "python",
   "nbconvert_exporter": "python",
   "pygments_lexer": "ipython3",
   "version": "3.7.4"
  }
 },
 "nbformat": 4,
 "nbformat_minor": 4
}

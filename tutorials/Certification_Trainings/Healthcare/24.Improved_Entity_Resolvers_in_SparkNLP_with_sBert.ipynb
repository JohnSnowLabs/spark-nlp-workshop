{
 "cells": [
  {
   "cell_type": "markdown",
   "metadata": {
    "id": "ZB4Owbh6p0M6"
   },
   "source": [
    "![JohnSnowLabs](https://nlp.johnsnowlabs.com/assets/images/logo.png)"
   ]
  },
  {
   "cell_type": "markdown",
   "metadata": {
    "id": "Y9oZ4t-Mp3np"
   },
   "source": [
    "[![Open In Colab](https://colab.research.google.com/assets/colab-badge.svg)](https://colab.research.google.com/github/JohnSnowLabs/spark-nlp-workshop/blob/master/tutorials/Certification_Trainings/Healthcare/24.Improved_Entity_Resolvers_in_SparkNLP_with_sBert.ipynb)"
   ]
  },
  {
   "cell_type": "markdown",
   "metadata": {
    "id": "upaVju4pEz_E"
   },
   "source": [
    "# 24. Improved Entity Resolvers in Spark NLP with sBert"
   ]
  },
  {
   "cell_type": "code",
   "execution_count": null,
   "metadata": {
    "colab": {
     "base_uri": "https://localhost:8080/",
     "height": 73,
     "resources": {
      "http://localhost:8080/nbextensions/google.colab/files.js": {
       "data": "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",
       "headers": [
        [
         "content-type",
         "application/javascript"
        ]
       ],
       "ok": true,
       "status": 200,
       "status_text": ""
      }
     }
    },
    "executionInfo": {
     "elapsed": 16410,
     "status": "ok",
     "timestamp": 1638523126760,
     "user": {
      "displayName": "Ahmet Emin Tek",
      "photoUrl": "https://lh3.googleusercontent.com/a/default-user=s64",
      "userId": "14855809472179427810"
     },
     "user_tz": -180
    },
    "id": "9xoslgNepLhZ",
    "outputId": "c90e4eef-3c05-452f-a82f-223e66963ea2"
   },
   "outputs": [],
   "source": [
    "import json, os\n",
    "from google.colab import files\n",
    "\n",
    "license_keys = files.upload()\n",
    "\n",
    "with open(list(license_keys.keys())[0]) as f:\n",
    "    license_keys = json.load(f)\n",
    "\n",
    "# Defining license key-value pairs as local variables\n",
    "locals().update(license_keys)\n",
    "\n",
    "# Adding license key-value pairs to environment variables\n",
    "os.environ.update(license_keys)"
   ]
  },
  {
   "cell_type": "code",
   "execution_count": null,
   "metadata": {
    "colab": {
     "base_uri": "https://localhost:8080/"
    },
    "executionInfo": {
     "elapsed": 48602,
     "status": "ok",
     "timestamp": 1638523180364,
     "user": {
      "displayName": "Ahmet Emin Tek",
      "photoUrl": "https://lh3.googleusercontent.com/a/default-user=s64",
      "userId": "14855809472179427810"
     },
     "user_tz": -180
    },
    "id": "759IAMuoFrFZ",
    "outputId": "656e0dba-a309-4272-f76a-fe4f943cc529"
   },
   "outputs": [],
   "source": [
    "# Installing pyspark and spark-nlp\n",
    "! pip install --upgrade -q pyspark==3.1.2 spark-nlp==$PUBLIC_VERSION\n",
    "\n",
    "# Installing Spark NLP Healthcare\n",
    "! pip install --upgrade -q spark-nlp-jsl==$JSL_VERSION  --extra-index-url https://pypi.johnsnowlabs.com/$SECRET\n",
    "\n",
    "# Installing Spark NLP Display Library for visualization\n",
    "! pip install -q spark-nlp-display"
   ]
  },
  {
   "cell_type": "code",
   "execution_count": 3,
   "metadata": {
    "colab": {
     "base_uri": "https://localhost:8080/",
     "height": 250
    },
    "executionInfo": {
     "elapsed": 25966,
     "status": "ok",
     "timestamp": 1638523391971,
     "user": {
      "displayName": "Ahmet Emin Tek",
      "photoUrl": "https://lh3.googleusercontent.com/a/default-user=s64",
      "userId": "14855809472179427810"
     },
     "user_tz": -180
    },
    "id": "jE6aAMtAGXt3",
    "outputId": "836cb884-c2b4-41f1-d1a8-7910c08cb0d2"
   },
   "outputs": [
    {
     "name": "stdout",
     "output_type": "stream",
     "text": [
      "Spark NLP Version : 3.3.4\n",
      "Spark NLP_JSL Version : 3.3.4\n"
     ]
    },
    {
     "data": {
      "text/html": [
       "\n",
       "            <div>\n",
       "                <p><b>SparkSession - in-memory</b></p>\n",
       "                \n",
       "        <div>\n",
       "            <p><b>SparkContext</b></p>\n",
       "\n",
       "            <p><a href=\"http://0186a1cdf414:4040\">Spark UI</a></p>\n",
       "\n",
       "            <dl>\n",
       "              <dt>Version</dt>\n",
       "                <dd><code>v3.1.2</code></dd>\n",
       "              <dt>Master</dt>\n",
       "                <dd><code>local[*]</code></dd>\n",
       "              <dt>AppName</dt>\n",
       "                <dd><code>Spark NLP Licensed</code></dd>\n",
       "            </dl>\n",
       "        </div>\n",
       "        \n",
       "            </div>\n",
       "        "
      ],
      "text/plain": [
       "<pyspark.sql.session.SparkSession at 0x7efcce5e1310>"
      ]
     },
     "execution_count": 3,
     "metadata": {},
     "output_type": "execute_result"
    }
   ],
   "source": [
    "import json\n",
    "import os\n",
    "from pyspark.ml import Pipeline, PipelineModel\n",
    "from pyspark.sql import SparkSession\n",
    "\n",
    "from sparknlp.annotator import *\n",
    "from sparknlp_jsl.annotator import *\n",
    "from sparknlp.base import *\n",
    "from sparknlp.util import *\n",
    "import sparknlp_jsl\n",
    "import sparknlp\n",
    "\n",
    "from sparknlp.pretrained import ResourceDownloader\n",
    "from pyspark.sql import functions as F\n",
    "\n",
    "params = {\"spark.driver.memory\":\"16G\",\n",
    "\"spark.kryoserializer.buffer.max\":\"2000M\",\n",
    "\"spark.driver.maxResultSize\":\"2000M\"}\n",
    "\n",
    "spark = sparknlp_jsl.start(license_keys['SECRET'],params=params)\n",
    "\n",
    "print (\"Spark NLP Version :\", sparknlp.version())\n",
    "print (\"Spark NLP_JSL Version :\", sparknlp_jsl.version())\n",
    "\n",
    "spark"
   ]
  },
  {
   "cell_type": "markdown",
   "metadata": {
    "id": "Lg7TeaTelIIo"
   },
   "source": [
    "<h1>!!! Warning !!!</h1>\n",
    "\n",
    "**If you get an error related to Java port not found 55, it is probably because that the Colab memory cannot handle the model and the Spark session died. In that case, try on a larger machine or restart the kernel at the top and then come back here and rerun.**"
   ]
  },
  {
   "cell_type": "markdown",
   "metadata": {
    "id": "Jm3tP1oIEz_G"
   },
   "source": [
    "## ICD10CM pipeline"
   ]
  },
  {
   "cell_type": "code",
   "execution_count": null,
   "metadata": {
    "colab": {
     "base_uri": "https://localhost:8080/"
    },
    "executionInfo": {
     "elapsed": 143704,
     "status": "ok",
     "timestamp": 1638443216203,
     "user": {
      "displayName": "Ahmet Emin Tek",
      "photoUrl": "https://lh3.googleusercontent.com/a/default-user=s64",
      "userId": "14855809472179427810"
     },
     "user_tz": -180
    },
    "id": "IGOF7EQNEz_G",
    "outputId": "9f4162ca-3ec7-49cf-cec0-c7e9400bfe14"
   },
   "outputs": [
    {
     "name": "stdout",
     "output_type": "stream",
     "text": [
      "sbiobert_base_cased_mli download started this may take some time.\n",
      "Approximate size to download 384.3 MB\n",
      "[OK!]\n",
      "sbiobertresolve_icd10cm_augmented download started this may take some time.\n",
      "Approximate size to download 1.2 GB\n",
      "[OK!]\n"
     ]
    }
   ],
   "source": [
    "documentAssembler = DocumentAssembler()\\\n",
    "      .setInputCol(\"text\")\\\n",
    "      .setOutputCol(\"ner_chunk\")\n",
    "\n",
    "sbert_embedder = BertSentenceEmbeddings\\\n",
    "      .pretrained('sbiobert_base_cased_mli', 'en','clinical/models')\\\n",
    "      .setInputCols([\"ner_chunk\"])\\\n",
    "      .setOutputCol(\"sbert_embeddings\")\\\n",
    "      .setCaseSensitive(False)\n",
    "    \n",
    "icd10_resolver = SentenceEntityResolverModel.pretrained(\"sbiobertresolve_icd10cm_augmented\",\"en\", \"clinical/models\") \\\n",
    "      .setInputCols([\"ner_chunk\", \"sbert_embeddings\"]) \\\n",
    "      .setOutputCol(\"icd10cm_code\")\\\n",
    "      .setDistanceFunction(\"EUCLIDEAN\")\n",
    "\n",
    "icd_pipelineModel = PipelineModel(\n",
    "    stages = [\n",
    "        documentAssembler,\n",
    "        sbert_embedder,\n",
    "        icd10_resolver])\n",
    "\n",
    "icd_lp = LightPipeline(icd_pipelineModel)\n"
   ]
  },
  {
   "cell_type": "markdown",
   "metadata": {
    "id": "5zsHSlF2Ez_H"
   },
   "source": [
    "## ICD10CM-HCC pipeline"
   ]
  },
  {
   "cell_type": "code",
   "execution_count": null,
   "metadata": {
    "colab": {
     "base_uri": "https://localhost:8080/"
    },
    "executionInfo": {
     "elapsed": 79675,
     "status": "ok",
     "timestamp": 1638443672769,
     "user": {
      "displayName": "Ahmet Emin Tek",
      "photoUrl": "https://lh3.googleusercontent.com/a/default-user=s64",
      "userId": "14855809472179427810"
     },
     "user_tz": -180
    },
    "id": "Tp61fI2gEz_H",
    "outputId": "56767e1c-dc0d-4e18-c335-79cd9ed1a335",
    "scrolled": true
   },
   "outputs": [
    {
     "name": "stdout",
     "output_type": "stream",
     "text": [
      "sbiobert_base_cased_mli download started this may take some time.\n",
      "Approximate size to download 384.3 MB\n",
      "[OK!]\n",
      "sbiobertresolve_icd10cm_augmented_billable_hcc download started this may take some time.\n",
      "Approximate size to download 1.4 GB\n",
      "[OK!]\n"
     ]
    }
   ],
   "source": [
    "documentAssembler = DocumentAssembler()\\\n",
    "      .setInputCol(\"text\")\\\n",
    "      .setOutputCol(\"ner_chunk\")\n",
    "\n",
    "sbert_embedder = BertSentenceEmbeddings\\\n",
    "      .pretrained('sbiobert_base_cased_mli', 'en','clinical/models')\\\n",
    "      .setInputCols([\"ner_chunk\"])\\\n",
    "      .setOutputCol(\"sbert_embeddings\")\\\n",
    "      .setCaseSensitive(False)\n",
    "    \n",
    "hcc_resolver = SentenceEntityResolverModel.pretrained(\"sbiobertresolve_icd10cm_augmented_billable_hcc\",\"en\", \"clinical/models\") \\\n",
    "      .setInputCols([\"ner_chunk\", \"sbert_embeddings\"]) \\\n",
    "      .setOutputCol(\"icd10cm_hcc_code\")\\\n",
    "      .setDistanceFunction(\"EUCLIDEAN\")\n",
    "\n",
    "hcc_pipelineModel = PipelineModel(\n",
    "    stages = [\n",
    "        documentAssembler,\n",
    "        sbert_embedder,\n",
    "        hcc_resolver])\n",
    "\n",
    "hcc_lp = LightPipeline(hcc_pipelineModel)"
   ]
  },
  {
   "cell_type": "markdown",
   "metadata": {
    "id": "hWcTIrcJEz_H"
   },
   "source": [
    "## RxNorm pipeline"
   ]
  },
  {
   "cell_type": "code",
   "execution_count": null,
   "metadata": {
    "colab": {
     "base_uri": "https://localhost:8080/"
    },
    "executionInfo": {
     "elapsed": 28480,
     "status": "ok",
     "timestamp": 1638483041038,
     "user": {
      "displayName": "Ahmet Emin Tek",
      "photoUrl": "https://lh3.googleusercontent.com/a/default-user=s64",
      "userId": "14855809472179427810"
     },
     "user_tz": -180
    },
    "id": "aM1XqJ2_Ez_H",
    "outputId": "55ef6160-b5af-4c8b-9472-3b85b08d3d8d"
   },
   "outputs": [
    {
     "name": "stdout",
     "output_type": "stream",
     "text": [
      "sbiobert_base_cased_mli download started this may take some time.\n",
      "Approximate size to download 384.3 MB\n",
      "[OK!]\n",
      "sbiobertresolve_rxnorm_augmented download started this may take some time.\n",
      "Approximate size to download 714.5 MB\n",
      "[OK!]\n"
     ]
    }
   ],
   "source": [
    "documentAssembler = DocumentAssembler()\\\n",
    "      .setInputCol(\"text\")\\\n",
    "      .setOutputCol(\"ner_chunk\")\n",
    "\n",
    "sbert_embedder = BertSentenceEmbeddings\\\n",
    "      .pretrained('sbiobert_base_cased_mli', 'en','clinical/models')\\\n",
    "      .setInputCols([\"ner_chunk\"])\\\n",
    "      .setOutputCol(\"sbert_embeddings\")\\\n",
    "      .setCaseSensitive(False)\n",
    "    \n",
    "rxnorm_resolver = SentenceEntityResolverModel.pretrained(\"sbiobertresolve_rxnorm_augmented\",\"en\", \"clinical/models\") \\\n",
    "      .setInputCols([\"ner_chunk\", \"sbert_embeddings\"]) \\\n",
    "      .setOutputCol(\"rxnorm_code\")\\\n",
    "      .setDistanceFunction(\"EUCLIDEAN\")\n",
    "\n",
    "rxnorm_pipelineModel = PipelineModel(\n",
    "    stages = [\n",
    "        documentAssembler,\n",
    "        sbert_embedder,\n",
    "        rxnorm_resolver])\n",
    "\n",
    "rxnorm_lp = LightPipeline(rxnorm_pipelineModel)\n"
   ]
  },
  {
   "cell_type": "markdown",
   "metadata": {
    "id": "NVqFWtFyHHl9"
   },
   "source": [
    "## NDC pipeline"
   ]
  },
  {
   "cell_type": "code",
   "execution_count": null,
   "metadata": {
    "colab": {
     "base_uri": "https://localhost:8080/"
    },
    "executionInfo": {
     "elapsed": 18688,
     "status": "ok",
     "timestamp": 1638482809754,
     "user": {
      "displayName": "Ahmet Emin Tek",
      "photoUrl": "https://lh3.googleusercontent.com/a/default-user=s64",
      "userId": "14855809472179427810"
     },
     "user_tz": -180
    },
    "id": "WFUQLHtFHH9W",
    "outputId": "ffabbb7d-ef0b-4d48-cf25-9287b53a8e46"
   },
   "outputs": [
    {
     "name": "stdout",
     "output_type": "stream",
     "text": [
      "sbiobert_base_cased_mli download started this may take some time.\n",
      "Approximate size to download 384.3 MB\n",
      "[OK!]\n",
      "sbiobertresolve_ndc download started this may take some time.\n",
      "Approximate size to download 391.4 MB\n",
      "[OK!]\n"
     ]
    }
   ],
   "source": [
    "documentAssembler = DocumentAssembler()\\\n",
    "      .setInputCol(\"text\")\\\n",
    "      .setOutputCol(\"ner_chunk\")\n",
    "\n",
    "sbert_embedder = BertSentenceEmbeddings\\\n",
    "      .pretrained('sbiobert_base_cased_mli', 'en','clinical/models')\\\n",
    "      .setInputCols([\"ner_chunk\"])\\\n",
    "      .setOutputCol(\"sbert_embeddings\")\\\n",
    "      .setCaseSensitive(False)\n",
    "    \n",
    "ndc_resolver = SentenceEntityResolverModel.pretrained(\"sbiobertresolve_ndc\", \"en\", \"clinical/models\") \\\n",
    "      .setInputCols([\"ner_chunk\", \"sbert_embeddings\"]) \\\n",
    "      .setOutputCol(\"ndc_code\")\\\n",
    "      .setDistanceFunction(\"EUCLIDEAN\")\n",
    "\n",
    "ndc_pipelineModel = PipelineModel(\n",
    "    stages = [\n",
    "        documentAssembler,\n",
    "        sbert_embedder,\n",
    "        ndc_resolver])\n",
    "\n",
    "ndc_lp = LightPipeline(ndc_pipelineModel)"
   ]
  },
  {
   "cell_type": "markdown",
   "metadata": {
    "id": "9K0aNBWkEz_H"
   },
   "source": [
    "## CPT pipeline"
   ]
  },
  {
   "cell_type": "code",
   "execution_count": null,
   "metadata": {
    "colab": {
     "base_uri": "https://localhost:8080/"
    },
    "executionInfo": {
     "elapsed": 13473,
     "status": "ok",
     "timestamp": 1638443969759,
     "user": {
      "displayName": "Ahmet Emin Tek",
      "photoUrl": "https://lh3.googleusercontent.com/a/default-user=s64",
      "userId": "14855809472179427810"
     },
     "user_tz": -180
    },
    "id": "5bts8bVsEz_H",
    "outputId": "ba64208d-11d0-4a11-b3d3-bff6830f89e4"
   },
   "outputs": [
    {
     "name": "stdout",
     "output_type": "stream",
     "text": [
      "sbiobert_base_cased_mli download started this may take some time.\n",
      "Approximate size to download 384.3 MB\n",
      "[OK!]\n",
      "sbiobertresolve_cpt_procedures_augmented download started this may take some time.\n",
      "Approximate size to download 78.3 MB\n",
      "[OK!]\n"
     ]
    }
   ],
   "source": [
    "documentAssembler = DocumentAssembler()\\\n",
    "      .setInputCol(\"text\")\\\n",
    "      .setOutputCol(\"ner_chunk\")\n",
    "\n",
    "sbert_embedder = BertSentenceEmbeddings\\\n",
    "      .pretrained('sbiobert_base_cased_mli', 'en','clinical/models')\\\n",
    "      .setInputCols([\"ner_chunk\"])\\\n",
    "      .setOutputCol(\"sbert_embeddings\")\\\n",
    "      .setCaseSensitive(False)\n",
    "    \n",
    "cpt_resolver = SentenceEntityResolverModel.pretrained(\"sbiobertresolve_cpt_procedures_augmented\",\"en\", \"clinical/models\") \\\n",
    "      .setInputCols([\"ner_chunk\", \"sbert_embeddings\"]) \\\n",
    "      .setOutputCol(\"cpt_code\")\\\n",
    "      .setDistanceFunction(\"EUCLIDEAN\")\n",
    "\n",
    "cpt_pipelineModel = PipelineModel(\n",
    "    stages = [\n",
    "        documentAssembler,\n",
    "        sbert_embedder,\n",
    "        cpt_resolver])\n",
    "\n",
    "cpt_lp = LightPipeline(cpt_pipelineModel)\n"
   ]
  },
  {
   "cell_type": "markdown",
   "metadata": {
    "id": "uDACLLZyEz_G"
   },
   "source": [
    "## SNOMED pipeline"
   ]
  },
  {
   "cell_type": "code",
   "execution_count": null,
   "metadata": {
    "colab": {
     "base_uri": "https://localhost:8080/"
    },
    "id": "Ln9_wdu4Ez_G",
    "outputId": "9f419870-7292-4e83-e425-930804b12d97",
    "scrolled": false
   },
   "outputs": [
    {
     "name": "stdout",
     "output_type": "stream",
     "text": [
      "sbiobert_base_cased_mli download started this may take some time.\n",
      "Approximate size to download 384.3 MB\n",
      "[OK!]\n",
      "sbiobertresolve_snomed_findings_aux_concepts download started this may take some time.\n",
      "Approximate size to download 4.3 GB\n",
      "[OK!]\n"
     ]
    }
   ],
   "source": [
    "documentAssembler = DocumentAssembler()\\\n",
    "      .setInputCol(\"text\")\\\n",
    "      .setOutputCol(\"ner_chunk\")\n",
    "\n",
    "sbert_embedder = BertSentenceEmbeddings\\\n",
    "      .pretrained('sbiobert_base_cased_mli', 'en','clinical/models')\\\n",
    "      .setInputCols([\"ner_chunk\"])\\\n",
    "      .setOutputCol(\"sbert_embeddings\")\\\n",
    "      .setCaseSensitive(False)\n",
    "    \n",
    "snomed_ct_resolver = SentenceEntityResolverModel.pretrained(\"sbiobertresolve_snomed_findings_aux_concepts\",\"en\", \"clinical/models\") \\\n",
    "      .setInputCols([\"ner_chunk\", \"sbert_embeddings\"]) \\\n",
    "      .setOutputCol(\"snomed_code\")\\\n",
    "      .setDistanceFunction(\"EUCLIDEAN\")\n",
    "\n",
    "snomed_pipelineModel = PipelineModel(\n",
    "    stages = [\n",
    "        documentAssembler,\n",
    "        sbert_embedder,\n",
    "        snomed_ct_resolver])\n",
    "\n",
    "snomed_lp = LightPipeline(snomed_pipelineModel)\n"
   ]
  },
  {
   "cell_type": "markdown",
   "metadata": {
    "id": "9STLlKoqNxbd"
   },
   "source": [
    "## LOINC Pipeline"
   ]
  },
  {
   "cell_type": "code",
   "execution_count": null,
   "metadata": {
    "colab": {
     "base_uri": "https://localhost:8080/"
    },
    "executionInfo": {
     "elapsed": 63803,
     "status": "ok",
     "timestamp": 1638483375184,
     "user": {
      "displayName": "Ahmet Emin Tek",
      "photoUrl": "https://lh3.googleusercontent.com/a/default-user=s64",
      "userId": "14855809472179427810"
     },
     "user_tz": -180
    },
    "id": "C7RD0havNxbe",
    "outputId": "de046839-11ea-4b22-cfbb-93f760b84fc9"
   },
   "outputs": [
    {
     "name": "stdout",
     "output_type": "stream",
     "text": [
      "sbiobert_base_cased_mli download started this may take some time.\n",
      "Approximate size to download 384.3 MB\n",
      "[OK!]\n",
      "sbiobertresolve_loinc_augmented download started this may take some time.\n",
      "Approximate size to download 1.4 GB\n",
      "[OK!]\n"
     ]
    }
   ],
   "source": [
    "documentAssembler = DocumentAssembler()\\\n",
    "      .setInputCol(\"text\")\\\n",
    "      .setOutputCol(\"ner_chunk\")\n",
    "\n",
    "sbert_embedder = BertSentenceEmbeddings\\\n",
    "      .pretrained('sbiobert_base_cased_mli', 'en','clinical/models')\\\n",
    "      .setInputCols([\"ner_chunk\"])\\\n",
    "      .setOutputCol(\"sbert_embeddings\")\\\n",
    "      .setCaseSensitive(False)\n",
    "    \n",
    "loinc_resolver = SentenceEntityResolverModel.pretrained(\"sbiobertresolve_loinc_augmented\", \"en\", \"clinical/models\") \\\n",
    "      .setInputCols([\"ner_chunk\", \"sbert_embeddings\"]) \\\n",
    "      .setOutputCol(\"loinc_code\")\\\n",
    "      .setDistanceFunction(\"EUCLIDEAN\")\n",
    "\n",
    "loinc_pipelineModel = PipelineModel(\n",
    "    stages = [\n",
    "        documentAssembler,\n",
    "        sbert_embedder,\n",
    "        loinc_resolver])\n",
    "\n",
    "loinc_lp = LightPipeline(loinc_pipelineModel)"
   ]
  },
  {
   "cell_type": "markdown",
   "metadata": {
    "id": "sbyPop8rm6QH"
   },
   "source": [
    "## HCPCS Pipeline"
   ]
  },
  {
   "cell_type": "code",
   "execution_count": 4,
   "metadata": {
    "colab": {
     "base_uri": "https://localhost:8080/"
    },
    "executionInfo": {
     "elapsed": 49245,
     "status": "ok",
     "timestamp": 1638523656084,
     "user": {
      "displayName": "Ahmet Emin Tek",
      "photoUrl": "https://lh3.googleusercontent.com/a/default-user=s64",
      "userId": "14855809472179427810"
     },
     "user_tz": -180
    },
    "id": "gznPjAyPm6kK",
    "outputId": "27d8aa59-09de-4985-cee9-770f10d70146"
   },
   "outputs": [
    {
     "name": "stdout",
     "output_type": "stream",
     "text": [
      "sbiobert_base_cased_mli download started this may take some time.\n",
      "Approximate size to download 384.3 MB\n",
      "[OK!]\n",
      "sbiobertresolve_hcpcs download started this may take some time.\n",
      "Approximate size to download 18.3 MB\n",
      "[OK!]\n"
     ]
    }
   ],
   "source": [
    "documentAssembler = DocumentAssembler()\\\n",
    "      .setInputCol(\"text\")\\\n",
    "      .setOutputCol(\"ner_chunk\")\n",
    "\n",
    "sbert_embedder = BertSentenceEmbeddings\\\n",
    "      .pretrained('sbiobert_base_cased_mli', 'en','clinical/models')\\\n",
    "      .setInputCols([\"ner_chunk\"])\\\n",
    "      .setOutputCol(\"sbert_embeddings\")\\\n",
    "      .setCaseSensitive(False)\n",
    "    \n",
    "hcpcs_resolver = SentenceEntityResolverModel.pretrained(\"sbiobertresolve_hcpcs\", \"en\", \"clinical/models\") \\\n",
    "      .setInputCols([\"ner_chunk\", \"sbert_embeddings\"]) \\\n",
    "      .setOutputCol(\"hcpcs_code\")\\\n",
    "      .setDistanceFunction(\"EUCLIDEAN\")\n",
    "\n",
    "hcpcs_pipelineModel = PipelineModel(\n",
    "    stages = [\n",
    "        documentAssembler,\n",
    "        sbert_embedder,\n",
    "        hcpcs_resolver])\n",
    "\n",
    "hcpcs_lp = LightPipeline(hcpcs_pipelineModel)"
   ]
  },
  {
   "cell_type": "markdown",
   "metadata": {
    "id": "dgcGIaRxNxbf"
   },
   "source": [
    "## UMLS Pipeline"
   ]
  },
  {
   "cell_type": "code",
   "execution_count": null,
   "metadata": {
    "colab": {
     "base_uri": "https://localhost:8080/"
    },
    "executionInfo": {
     "elapsed": 86375,
     "status": "ok",
     "timestamp": 1638442931245,
     "user": {
      "displayName": "Ahmet Emin Tek",
      "photoUrl": "https://lh3.googleusercontent.com/a/default-user=s64",
      "userId": "14855809472179427810"
     },
     "user_tz": -180
    },
    "id": "WZHpFHp9Nxbf",
    "outputId": "484414b0-b885-4a2e-d1db-837e7f3dc64c"
   },
   "outputs": [
    {
     "name": "stdout",
     "output_type": "stream",
     "text": [
      "sbiobert_base_cased_mli download started this may take some time.\n",
      "Approximate size to download 384.3 MB\n",
      "[OK!]\n",
      "sbiobertresolve_umls_major_concepts download started this may take some time.\n",
      "Approximate size to download 761 MB\n",
      "[OK!]\n"
     ]
    }
   ],
   "source": [
    "documentAssembler = DocumentAssembler()\\\n",
    "      .setInputCol(\"text\")\\\n",
    "      .setOutputCol(\"ner_chunk\")\n",
    "\n",
    "sbert_embedder = BertSentenceEmbeddings\\\n",
    "      .pretrained('sbiobert_base_cased_mli', 'en','clinical/models')\\\n",
    "      .setInputCols([\"ner_chunk\"])\\\n",
    "      .setOutputCol(\"sbert_embeddings\")\\\n",
    "      .setCaseSensitive(False)\n",
    "    \n",
    "umls_resolver = SentenceEntityResolverModel.pretrained(\"sbiobertresolve_umls_major_concepts\", \"en\", \"clinical/models\") \\\n",
    "      .setInputCols([\"ner_chunk\", \"sbert_embeddings\"]) \\\n",
    "      .setOutputCol(\"umls_code\")\\\n",
    "      .setDistanceFunction(\"EUCLIDEAN\")\n",
    "\n",
    "umls_pipelineModel = PipelineModel(\n",
    "    stages = [\n",
    "        documentAssembler,\n",
    "        sbert_embedder,\n",
    "        umls_resolver])\n",
    "\n",
    "umls_lp = LightPipeline(umls_pipelineModel)"
   ]
  },
  {
   "cell_type": "markdown",
   "metadata": {
    "id": "ITN3DqCdF01f"
   },
   "source": [
    "## MeSH pipeline"
   ]
  },
  {
   "cell_type": "code",
   "execution_count": 5,
   "metadata": {
    "colab": {
     "base_uri": "https://localhost:8080/"
    },
    "executionInfo": {
     "elapsed": 106565,
     "status": "ok",
     "timestamp": 1638524910569,
     "user": {
      "displayName": "Ahmet Emin Tek",
      "photoUrl": "https://lh3.googleusercontent.com/a/default-user=s64",
      "userId": "14855809472179427810"
     },
     "user_tz": -180
    },
    "id": "X0NXmnozF1Mi",
    "outputId": "11d2dcdc-0a1d-4576-c0a8-8a83603fcfcf"
   },
   "outputs": [
    {
     "name": "stdout",
     "output_type": "stream",
     "text": [
      "sbiobert_base_cased_mli download started this may take some time.\n",
      "Approximate size to download 384.3 MB\n",
      "[OK!]\n",
      "sbiobertresolve_mesh download started this may take some time.\n",
      "Approximate size to download 956.7 MB\n",
      "[OK!]\n"
     ]
    }
   ],
   "source": [
    "documentAssembler = DocumentAssembler()\\\n",
    "      .setInputCol(\"text\")\\\n",
    "      .setOutputCol(\"ner_chunk\")\n",
    "\n",
    "sbert_embedder = BertSentenceEmbeddings\\\n",
    "      .pretrained('sbiobert_base_cased_mli', 'en','clinical/models')\\\n",
    "      .setInputCols([\"ner_chunk\"])\\\n",
    "      .setOutputCol(\"sbert_embeddings\")\\\n",
    "      .setCaseSensitive(False)\n",
    "    \n",
    "mesh_resolver = SentenceEntityResolverModel.pretrained(\"sbiobertresolve_mesh\",\"en\", \"clinical/models\") \\\n",
    "      .setInputCols([\"ner_chunk\", \"sbert_embeddings\"]) \\\n",
    "      .setOutputCol(\"mesh_code\")\\\n",
    "      .setDistanceFunction(\"EUCLIDEAN\")\n",
    "\n",
    "mesh_pipelineModel = PipelineModel(\n",
    "    stages = [\n",
    "        documentAssembler,\n",
    "        sbert_embedder,\n",
    "        mesh_resolver])\n",
    "\n",
    "mesh_lp = LightPipeline(mesh_pipelineModel)\n"
   ]
  },
  {
   "cell_type": "markdown",
   "metadata": {
    "id": "8FOwUMrGNxbg"
   },
   "source": [
    "## HPO Pipeline"
   ]
  },
  {
   "cell_type": "code",
   "execution_count": null,
   "metadata": {
    "colab": {
     "base_uri": "https://localhost:8080/"
    },
    "executionInfo": {
     "elapsed": 13585,
     "status": "ok",
     "timestamp": 1638442956889,
     "user": {
      "displayName": "Ahmet Emin Tek",
      "photoUrl": "https://lh3.googleusercontent.com/a/default-user=s64",
      "userId": "14855809472179427810"
     },
     "user_tz": -180
    },
    "id": "Unv9Os0FNxbg",
    "outputId": "44ed6638-910b-4324-f1f1-2d72461980ba"
   },
   "outputs": [
    {
     "name": "stdout",
     "output_type": "stream",
     "text": [
      "sbiobert_base_cased_mli download started this may take some time.\n",
      "Approximate size to download 384.3 MB\n",
      "[OK!]\n",
      "sbiobertresolve_HPO download started this may take some time.\n",
      "Approximate size to download 97.9 MB\n",
      "[OK!]\n"
     ]
    }
   ],
   "source": [
    "documentAssembler = DocumentAssembler()\\\n",
    "      .setInputCol(\"text\")\\\n",
    "      .setOutputCol(\"ner_chunk\")\n",
    "\n",
    "sbert_embedder = BertSentenceEmbeddings\\\n",
    "      .pretrained('sbiobert_base_cased_mli', 'en','clinical/models')\\\n",
    "      .setInputCols([\"ner_chunk\"])\\\n",
    "      .setOutputCol(\"sbert_embeddings\")\\\n",
    "      .setCaseSensitive(False)\n",
    "    \n",
    "hpo_resolver = SentenceEntityResolverModel.pretrained(\"sbiobertresolve_HPO\", \"en\", \"clinical/models\") \\\n",
    "      .setInputCols([\"ner_chunk\", \"sbert_embeddings\"]) \\\n",
    "      .setOutputCol(\"umls_code\")\\\n",
    "      .setDistanceFunction(\"EUCLIDEAN\")\n",
    "\n",
    "hpo_pipelineModel = PipelineModel(\n",
    "    stages = [\n",
    "        documentAssembler,\n",
    "        sbert_embedder,\n",
    "        hpo_resolver])\n",
    "\n",
    "hpo_lp = LightPipeline(hpo_pipelineModel)"
   ]
  },
  {
   "cell_type": "markdown",
   "metadata": {
    "id": "1sF_8vdEEz_H"
   },
   "source": [
    "## All the resolvers in the same pipeline \n",
    "### (just to show how it is done..  will not be used in this notebook)"
   ]
  },
  {
   "cell_type": "code",
   "execution_count": null,
   "metadata": {
    "id": "USJBsrN0Ez_H"
   },
   "outputs": [],
   "source": [
    "\n",
    "documentAssembler = DocumentAssembler()\\\n",
    "      .setInputCol(\"text\")\\\n",
    "      .setOutputCol(\"ner_chunk\")\n",
    "\n",
    "sbert_embedder = BertSentenceEmbeddings\\\n",
    "      .pretrained('sbiobert_base_cased_mli', 'en','clinical/models')\\\n",
    "      .setInputCols([\"ner_chunk\"])\\\n",
    "      .setOutputCol(\"sbert_embeddings\")\\\n",
    "      .setCaseSensitive(False)\n",
    "    \n",
    "snomed_ct_resolver = SentenceEntityResolverModel.pretrained(\"sbiobertresolve_snomed_findings\",\"en\", \"clinical/models\") \\\n",
    "      .setInputCols([\"ner_chunk\", \"sbert_embeddings\"]) \\\n",
    "      .setOutputCol(\"snomed_code\")\\\n",
    "      .setDistanceFunction(\"EUCLIDEAN\")\n",
    "\n",
    "icd10_resolver = SentenceEntityResolverModel.pretrained(\"sbiobertresolve_icd10cm_augmented\",\"en\", \"clinical/models\") \\\n",
    "      .setInputCols([\"ner_chunk\", \"sbert_embeddings\"]) \\\n",
    "      .setOutputCol(\"icd10cm_code\")\\\n",
    "      .setDistanceFunction(\"EUCLIDEAN\")\n",
    "\n",
    "rxnorm_resolver = SentenceEntityResolverModel.pretrained(\"sbiobertresolve_rxnorm_augmented\",\"en\", \"clinical/models\") \\\n",
    "      .setInputCols([\"ner_chunk\", \"sbert_embeddings\"]) \\\n",
    "      .setOutputCol(\"rxnorm_code\")\\\n",
    "      .setDistanceFunction(\"EUCLIDEAN\")\n",
    "\n",
    "cpt_resolver = SentenceEntityResolverModel.pretrained(\"sbiobertresolve_cpt_procedures_augmented\",\"en\", \"clinical/models\") \\\n",
    "      .setInputCols([\"ner_chunk\", \"sbert_embeddings\"]) \\\n",
    "      .setOutputCol(\"cpt_code\")\\\n",
    "      .setDistanceFunction(\"EUCLIDEAN\")\n",
    "\n",
    "hcc_resolver = SentenceEntityResolverModel.pretrained(\"sbert_biobertresolve_icd10cm_augmented_billable_hcc\",\"en\", \"clinical/models\") \\\n",
    "      .setInputCols([\"ner_chunk\", \"sbert_embeddings\"]) \\\n",
    "      .setOutputCol(\"icd10cm_hcc_code\")\\\n",
    "      .setDistanceFunction(\"EUCLIDEAN\")\n",
    "\n",
    "loinc_resolver = SentenceEntityResolverModel.pretrained(\"sbiobertresolve_loinc_augmented\", \"en\", \"clinical/models\") \\\n",
    "      .setInputCols([\"ner_chunk\", \"sbert_embeddings\"]) \\\n",
    "      .setOutputCol(\"loinc_code\")\\\n",
    "      .setDistanceFunction(\"EUCLIDEAN\")\n",
    "\n",
    "hcpcs_resolver = SentenceEntityResolverModel.pretrained(\"sbiobertresolve_hcpcs\", \"en\", \"clinical/models\") \\\n",
    "      .setInputCols([\"ner_chunk\", \"sbert_embeddings\"]) \\\n",
    "      .setOutputCol(\"hcpcs_code\")\\\n",
    "      .setDistanceFunction(\"EUCLIDEAN\")\n",
    "\n",
    "umls_resolver = SentenceEntityResolverModel.pretrained(\"sbiobertresolve_umls_major_concepts\", \"en\", \"clinical/models\") \\\n",
    "      .setInputCols([\"ner_chunk\", \"sbert_embeddings\"]) \\\n",
    "      .setOutputCol(\"umls_code\")\\\n",
    "      .setDistanceFunction(\"EUCLIDEAN\")\n",
    "\n",
    "hpo_resolver = SentenceEntityResolverModel.pretrained(\"sbiobertresolve_HPO\", \"en\", \"clinical/models\") \\\n",
    "      .setInputCols([\"ner_chunk\", \"sbert_embeddings\"]) \\\n",
    "      .setOutputCol(\"umls_code\")\\\n",
    "      .setDistanceFunction(\"EUCLIDEAN\")\n",
    "\n",
    "mesh_resolver = SentenceEntityResolverModel.pretrained(\"sbiobertresolve_mesh\",\"en\", \"clinical/models\") \\\n",
    "      .setInputCols([\"ner_chunk\", \"sbert_embeddings\"]) \\\n",
    "      .setOutputCol(\"mesh_code\")\\\n",
    "      .setDistanceFunction(\"EUCLIDEAN\")\n",
    "\n",
    "ndc_resolver = SentenceEntityResolverModel.pretrained(\"sbiobertresolve_ndc\", \"en\", \"clinical/models\") \\\n",
    "      .setInputCols([\"ner_chunk\", \"sbert_embeddings\"]) \\\n",
    "      .setOutputCol(\"ndc_code\")\\\n",
    "      .setDistanceFunction(\"EUCLIDEAN\")\n",
    "\n",
    "\n",
    "resolver_pipelineModel = PipelineModel(\n",
    "    stages = [\n",
    "        documentAssembler,\n",
    "        sbert_embedder,\n",
    "        icd10_resolver,\n",
    "        hcc_resolver,\n",
    "        rxnorm_resolver,\n",
    "        ndc_resolver,\n",
    "        cpt_resolver,\n",
    "        snomed_ct_resolver,\n",
    "        loinc_resolver,\n",
    "        hcpcs_resolver,\n",
    "        umls_resolver,\n",
    "        mesh_resolver\n",
    "        hpo_resolver])\n",
    "\n",
    "resolver_lp = LightPipeline(resolver_pipelineModel)\n"
   ]
  },
  {
   "cell_type": "markdown",
   "metadata": {
    "id": "kcw1fkBeEz_I"
   },
   "source": [
    "## Utility functions"
   ]
  },
  {
   "cell_type": "code",
   "execution_count": 6,
   "metadata": {
    "executionInfo": {
     "elapsed": 274,
     "status": "ok",
     "timestamp": 1638524921143,
     "user": {
      "displayName": "Ahmet Emin Tek",
      "photoUrl": "https://lh3.googleusercontent.com/a/default-user=s64",
      "userId": "14855809472179427810"
     },
     "user_tz": -180
    },
    "id": "VVieYVs9Nxbj"
   },
   "outputs": [],
   "source": [
    "import pandas as pd\n",
    "\n",
    "pd.set_option('display.max_colwidth', 0)\n",
    "\n",
    "\n",
    "def get_codes (lp, text, vocab='icd10cm_code', hcc=False, aux_label=False):\n",
    "    \n",
    "    full_light_result = lp.fullAnnotate(text)\n",
    "\n",
    "    chunks = []\n",
    "    codes = []\n",
    "    begin = []\n",
    "    end = []\n",
    "    resolutions=[]\n",
    "    all_distances =[]\n",
    "    all_codes=[]\n",
    "    all_cosines = []\n",
    "    all_k_aux_labels=[]\n",
    "\n",
    "    for chunk, code in zip(full_light_result[0]['ner_chunk'], full_light_result[0][vocab]):\n",
    "            \n",
    "        begin.append(chunk.begin)\n",
    "        end.append(chunk.end)\n",
    "        chunks.append(chunk.result)\n",
    "        codes.append(code.result) \n",
    "        all_codes.append(code.metadata['all_k_results'].split(':::'))\n",
    "        resolutions.append(code.metadata['all_k_resolutions'].split(':::'))\n",
    "        all_distances.append(code.metadata['all_k_distances'].split(':::'))\n",
    "        all_cosines.append(code.metadata['all_k_cosine_distances'].split(':::'))\n",
    "        \n",
    "        if hcc:\n",
    "            try:\n",
    "                all_k_aux_labels.append(code.metadata['all_k_aux_labels'].split(':::'))\n",
    "            except:\n",
    "                all_k_aux_labels.append([])\n",
    "                \n",
    "        elif aux_label:\n",
    "            try:\n",
    "                all_k_aux_labels.append(code.metadata['all_k_aux_labels'].split(':::'))\n",
    "            except:\n",
    "                all_k_aux_labels.append([])\n",
    "        else:\n",
    "            all_k_aux_labels.append([])\n",
    "\n",
    "    df = pd.DataFrame({'chunks':chunks, 'begin': begin, 'end':end, 'code':codes,'all_codes':all_codes, \n",
    "                       'resolutions':resolutions, 'all_k_aux_labels':all_k_aux_labels,'all_distances':all_cosines})\n",
    "    \n",
    "    if hcc:\n",
    "\n",
    "        df['billable'] = df['all_k_aux_labels'].apply(lambda x: [i.split('||')[0] for i in x])\n",
    "        df['hcc_status'] = df['all_k_aux_labels'].apply(lambda x: [i.split('||')[1] for i in x])\n",
    "        df['hcc_score'] = df['all_k_aux_labels'].apply(lambda x: [i.split('||')[2] for i in x])\n",
    "    \n",
    "    elif aux_label:\n",
    "\n",
    "        df['gt'] = df['all_k_aux_labels'].apply(lambda x: [i.split('|')[0] for i in x])\n",
    "        df['concept'] = df['all_k_aux_labels'].apply(lambda x: [i.split('|')[1] for i in x])\n",
    "        df['aux'] = df['all_k_aux_labels'].apply(lambda x: [i.split('|')[2] for i in x])\n",
    "\n",
    "    df = df.drop(['all_k_aux_labels'], axis=1)\n",
    "    \n",
    "    return df\n",
    "\n"
   ]
  },
  {
   "cell_type": "markdown",
   "metadata": {
    "id": "duXGKFFDEz_I"
   },
   "source": [
    "## Getting some predictions from resolvers"
   ]
  },
  {
   "cell_type": "code",
   "execution_count": null,
   "metadata": {
    "colab": {
     "base_uri": "https://localhost:8080/",
     "height": 131
    },
    "executionInfo": {
     "elapsed": 8189,
     "status": "ok",
     "timestamp": 1638443284793,
     "user": {
      "displayName": "Ahmet Emin Tek",
      "photoUrl": "https://lh3.googleusercontent.com/a/default-user=s64",
      "userId": "14855809472179427810"
     },
     "user_tz": -180
    },
    "id": "CXNs2NPmEz_I",
    "outputId": "8207c217-d868-437e-8d8b-b3506330429a"
   },
   "outputs": [
    {
     "name": "stdout",
     "output_type": "stream",
     "text": [
      "CPU times: user 66.2 ms, sys: 18.6 ms, total: 84.8 ms\n",
      "Wall time: 7.86 s\n"
     ]
    },
    {
     "data": {
      "text/html": [
       "<div>\n",
       "<style scoped>\n",
       "    .dataframe tbody tr th:only-of-type {\n",
       "        vertical-align: middle;\n",
       "    }\n",
       "\n",
       "    .dataframe tbody tr th {\n",
       "        vertical-align: top;\n",
       "    }\n",
       "\n",
       "    .dataframe thead th {\n",
       "        text-align: right;\n",
       "    }\n",
       "</style>\n",
       "<table border=\"1\" class=\"dataframe\">\n",
       "  <thead>\n",
       "    <tr style=\"text-align: right;\">\n",
       "      <th></th>\n",
       "      <th>chunks</th>\n",
       "      <th>begin</th>\n",
       "      <th>end</th>\n",
       "      <th>code</th>\n",
       "      <th>all_codes</th>\n",
       "      <th>resolutions</th>\n",
       "      <th>all_distances</th>\n",
       "    </tr>\n",
       "  </thead>\n",
       "  <tbody>\n",
       "    <tr>\n",
       "      <th>0</th>\n",
       "      <td>bladder cancer</td>\n",
       "      <td>0</td>\n",
       "      <td>13</td>\n",
       "      <td>C679</td>\n",
       "      <td>[C679, Z126, D090, D494, C7911]</td>\n",
       "      <td>[bladder cancer, suspected bladder cancer, cancer in situ of urinary bladder, tumor of bladder neck, malignant tumour of bladder neck]</td>\n",
       "      <td>[0.0000, 0.0904, 0.0978, 0.1080, 0.1281]</td>\n",
       "    </tr>\n",
       "  </tbody>\n",
       "</table>\n",
       "</div>"
      ],
      "text/plain": [
       "           chunks  ...                             all_distances\n",
       "0  bladder cancer  ...  [0.0000, 0.0904, 0.0978, 0.1080, 0.1281]\n",
       "\n",
       "[1 rows x 7 columns]"
      ]
     },
     "execution_count": 11,
     "metadata": {},
     "output_type": "execute_result"
    }
   ],
   "source": [
    "text = 'bladder cancer'\n",
    "\n",
    "%time get_codes (icd_lp, text, vocab='icd10cm_code')"
   ]
  },
  {
   "cell_type": "code",
   "execution_count": null,
   "metadata": {
    "colab": {
     "base_uri": "https://localhost:8080/",
     "height": 216
    },
    "executionInfo": {
     "elapsed": 1287,
     "status": "ok",
     "timestamp": 1638443289003,
     "user": {
      "displayName": "Ahmet Emin Tek",
      "photoUrl": "https://lh3.googleusercontent.com/a/default-user=s64",
      "userId": "14855809472179427810"
     },
     "user_tz": -180
    },
    "id": "-58WfTGbEz_J",
    "outputId": "363ef2a7-3afb-49c6-cb08-9acfd4716c92"
   },
   "outputs": [
    {
     "name": "stdout",
     "output_type": "stream",
     "text": [
      "CPU times: user 19.2 ms, sys: 2.9 ms, total: 22.1 ms\n",
      "Wall time: 1.06 s\n"
     ]
    },
    {
     "data": {
      "text/html": [
       "<div>\n",
       "<style scoped>\n",
       "    .dataframe tbody tr th:only-of-type {\n",
       "        vertical-align: middle;\n",
       "    }\n",
       "\n",
       "    .dataframe tbody tr th {\n",
       "        vertical-align: top;\n",
       "    }\n",
       "\n",
       "    .dataframe thead th {\n",
       "        text-align: right;\n",
       "    }\n",
       "</style>\n",
       "<table border=\"1\" class=\"dataframe\">\n",
       "  <thead>\n",
       "    <tr style=\"text-align: right;\">\n",
       "      <th></th>\n",
       "      <th>chunks</th>\n",
       "      <th>begin</th>\n",
       "      <th>end</th>\n",
       "      <th>code</th>\n",
       "      <th>all_codes</th>\n",
       "      <th>resolutions</th>\n",
       "      <th>all_distances</th>\n",
       "    </tr>\n",
       "  </thead>\n",
       "  <tbody>\n",
       "    <tr>\n",
       "      <th>0</th>\n",
       "      <td>severe stomach pain</td>\n",
       "      <td>0</td>\n",
       "      <td>18</td>\n",
       "      <td>R101</td>\n",
       "      <td>[R101, R109, R1082, M791, R104, R1084, K388, R529, F454, R079, R53, R1013, R52, M7918, R51, R520, R4589, R1033, R072, R103, R1010]</td>\n",
       "      <td>[upper abdominal pain, intractable abdominal pain, epigastric pain, sore pain, generalized colicky abdominal pain, generalized abdominal pain, colicky abdominal pain, severe pain, psychosomatic abdominal pain, upper chest pain, exhausting with pain, burning epigastric pain, heavy pain, abdominal muscle pain, head pain, horrible present pain, cruel with pain, central abdominal pain, esophageal pain, o/e - epigastric pain, ulcer-type pain]</td>\n",
       "      <td>[0.0523, 0.0551, 0.0565, 0.0570, 0.0578, 0.0589, 0.0605, 0.0613, 0.0634, 0.0641, 0.0644, 0.0664, 0.0656, 0.0663, 0.0677, 0.0682, 0.0686, 0.0711, 0.0724, 0.0721, 0.0724]</td>\n",
       "    </tr>\n",
       "  </tbody>\n",
       "</table>\n",
       "</div>"
      ],
      "text/plain": [
       "                chunks  ...                                                                                                                                                             all_distances\n",
       "0  severe stomach pain  ...  [0.0523, 0.0551, 0.0565, 0.0570, 0.0578, 0.0589, 0.0605, 0.0613, 0.0634, 0.0641, 0.0644, 0.0664, 0.0656, 0.0663, 0.0677, 0.0682, 0.0686, 0.0711, 0.0724, 0.0721, 0.0724]\n",
       "\n",
       "[1 rows x 7 columns]"
      ]
     },
     "execution_count": 12,
     "metadata": {},
     "output_type": "execute_result"
    }
   ],
   "source": [
    "text = 'severe stomach pain'\n",
    "\n",
    "%time get_codes (icd_lp, text, vocab='icd10cm_code')"
   ]
  },
  {
   "cell_type": "code",
   "execution_count": null,
   "metadata": {
    "colab": {
     "base_uri": "https://localhost:8080/",
     "height": 148
    },
    "executionInfo": {
     "elapsed": 8446,
     "status": "ok",
     "timestamp": 1638443762184,
     "user": {
      "displayName": "Ahmet Emin Tek",
      "photoUrl": "https://lh3.googleusercontent.com/a/default-user=s64",
      "userId": "14855809472179427810"
     },
     "user_tz": -180
    },
    "id": "dbbom1EoNxbm",
    "outputId": "8e120c97-35ec-4d0c-aec5-7f9c677da5f4"
   },
   "outputs": [
    {
     "name": "stdout",
     "output_type": "stream",
     "text": [
      "CPU times: user 83.7 ms, sys: 7.91 ms, total: 91.6 ms\n",
      "Wall time: 7.7 s\n"
     ]
    },
    {
     "data": {
      "text/html": [
       "<div>\n",
       "<style scoped>\n",
       "    .dataframe tbody tr th:only-of-type {\n",
       "        vertical-align: middle;\n",
       "    }\n",
       "\n",
       "    .dataframe tbody tr th {\n",
       "        vertical-align: top;\n",
       "    }\n",
       "\n",
       "    .dataframe thead th {\n",
       "        text-align: right;\n",
       "    }\n",
       "</style>\n",
       "<table border=\"1\" class=\"dataframe\">\n",
       "  <thead>\n",
       "    <tr style=\"text-align: right;\">\n",
       "      <th></th>\n",
       "      <th>chunks</th>\n",
       "      <th>begin</th>\n",
       "      <th>end</th>\n",
       "      <th>code</th>\n",
       "      <th>all_codes</th>\n",
       "      <th>resolutions</th>\n",
       "      <th>all_distances</th>\n",
       "      <th>billable</th>\n",
       "      <th>hcc_status</th>\n",
       "      <th>hcc_score</th>\n",
       "    </tr>\n",
       "  </thead>\n",
       "  <tbody>\n",
       "    <tr>\n",
       "      <th>0</th>\n",
       "      <td>bladder cancer</td>\n",
       "      <td>0</td>\n",
       "      <td>13</td>\n",
       "      <td>C679</td>\n",
       "      <td>[C679, Z126, D090, D494, C7911]</td>\n",
       "      <td>[bladder cancer, suspected bladder cancer, cancer in situ of urinary bladder, tumor of bladder neck, malignant tumour of bladder neck]</td>\n",
       "      <td>[0.0000, 0.0904, 0.0978, 0.1080, 0.1281]</td>\n",
       "      <td>[1, 1, 1, 1, 1]</td>\n",
       "      <td>[1, 0, 0, 0, 1]</td>\n",
       "      <td>[11, 0, 0, 0, 8]</td>\n",
       "    </tr>\n",
       "  </tbody>\n",
       "</table>\n",
       "</div>"
      ],
      "text/plain": [
       "           chunks  begin  ...       hcc_status         hcc_score\n",
       "0  bladder cancer  0      ...  [1, 0, 0, 0, 1]  [11, 0, 0, 0, 8]\n",
       "\n",
       "[1 rows x 10 columns]"
      ]
     },
     "execution_count": 7,
     "metadata": {},
     "output_type": "execute_result"
    }
   ],
   "source": [
    "text = 'bladder cancer'\n",
    "\n",
    "%time get_codes (hcc_lp, text, vocab='icd10cm_hcc_code', hcc=True)"
   ]
  },
  {
   "cell_type": "code",
   "execution_count": null,
   "metadata": {
    "colab": {
     "base_uri": "https://localhost:8080/",
     "height": 284
    },
    "executionInfo": {
     "elapsed": 1821,
     "status": "ok",
     "timestamp": 1638443766689,
     "user": {
      "displayName": "Ahmet Emin Tek",
      "photoUrl": "https://lh3.googleusercontent.com/a/default-user=s64",
      "userId": "14855809472179427810"
     },
     "user_tz": -180
    },
    "id": "itRYBnPeEz_J",
    "outputId": "784ee239-7ba8-445a-c56a-8d8b2a6851b6"
   },
   "outputs": [
    {
     "name": "stdout",
     "output_type": "stream",
     "text": [
      "CPU times: user 23.3 ms, sys: 3.95 ms, total: 27.3 ms\n",
      "Wall time: 1.34 s\n"
     ]
    },
    {
     "data": {
      "text/html": [
       "<div>\n",
       "<style scoped>\n",
       "    .dataframe tbody tr th:only-of-type {\n",
       "        vertical-align: middle;\n",
       "    }\n",
       "\n",
       "    .dataframe tbody tr th {\n",
       "        vertical-align: top;\n",
       "    }\n",
       "\n",
       "    .dataframe thead th {\n",
       "        text-align: right;\n",
       "    }\n",
       "</style>\n",
       "<table border=\"1\" class=\"dataframe\">\n",
       "  <thead>\n",
       "    <tr style=\"text-align: right;\">\n",
       "      <th></th>\n",
       "      <th>chunks</th>\n",
       "      <th>begin</th>\n",
       "      <th>end</th>\n",
       "      <th>code</th>\n",
       "      <th>all_codes</th>\n",
       "      <th>resolutions</th>\n",
       "      <th>all_distances</th>\n",
       "      <th>billable</th>\n",
       "      <th>hcc_status</th>\n",
       "      <th>hcc_score</th>\n",
       "    </tr>\n",
       "  </thead>\n",
       "  <tbody>\n",
       "    <tr>\n",
       "      <th>0</th>\n",
       "      <td>severe stomach pain</td>\n",
       "      <td>0</td>\n",
       "      <td>18</td>\n",
       "      <td>R101</td>\n",
       "      <td>[R101, R109, R1082, M791, R104, R1084, K388, R529, F454, R079, R53, R1013, R52, M7918, R51, R520, R4589, R1033, R072, R103, R1010]</td>\n",
       "      <td>[upper abdominal pain, intractable abdominal pain, epigastric pain, sore pain, generalized colicky abdominal pain, generalized abdominal pain, colicky abdominal pain, severe pain, psychosomatic abdominal pain, upper chest pain, exhausting with pain, burning epigastric pain, heavy pain, abdominal muscle pain, head pain, horrible present pain, cruel with pain, central abdominal pain, esophageal pain, o/e - epigastric pain, ulcer-type pain]</td>\n",
       "      <td>[0.0523, 0.0551, 0.0565, 0.0570, 0.0578, 0.0589, 0.0605, 0.0613, 0.0634, 0.0641, 0.0644, 0.0664, 0.0656, 0.0663, 0.0677, 0.0682, 0.0686, 0.0711, 0.0724, 0.0721, 0.0724]</td>\n",
       "      <td>[0, 1, 0, 0, 1, 1, 1, 1, 0, 1, 0, 1, 1, 1, 0, 1, 1, 1, 1, 0, 1]</td>\n",
       "      <td>[0, 0, 0, 0, 0, 0, 0, 0, 0, 0, 0, 0, 0, 0, 0, 0, 0, 0, 0, 0, 0]</td>\n",
       "      <td>[0, 0, 0, 0, 0, 0, 0, 0, 0, 0, 0, 0, 0, 0, 0, 0, 0, 0, 0, 0, 0]</td>\n",
       "    </tr>\n",
       "  </tbody>\n",
       "</table>\n",
       "</div>"
      ],
      "text/plain": [
       "                chunks  ...                                                        hcc_score\n",
       "0  severe stomach pain  ...  [0, 0, 0, 0, 0, 0, 0, 0, 0, 0, 0, 0, 0, 0, 0, 0, 0, 0, 0, 0, 0]\n",
       "\n",
       "[1 rows x 10 columns]"
      ]
     },
     "execution_count": 8,
     "metadata": {},
     "output_type": "execute_result"
    }
   ],
   "source": [
    "text = 'severe stomach pain'\n",
    "\n",
    "%time get_codes (hcc_lp, text, vocab='icd10cm_hcc_code', hcc=True)"
   ]
  },
  {
   "cell_type": "code",
   "execution_count": null,
   "metadata": {
    "colab": {
     "base_uri": "https://localhost:8080/",
     "height": 250
    },
    "executionInfo": {
     "elapsed": 1969,
     "status": "ok",
     "timestamp": 1638483121038,
     "user": {
      "displayName": "Ahmet Emin Tek",
      "photoUrl": "https://lh3.googleusercontent.com/a/default-user=s64",
      "userId": "14855809472179427810"
     },
     "user_tz": -180
    },
    "id": "bxx0A09rEz_J",
    "outputId": "28f887c4-7d97-4f17-ab07-bf39b1090ae7"
   },
   "outputs": [
    {
     "name": "stdout",
     "output_type": "stream",
     "text": [
      "CPU times: user 26.6 ms, sys: 3.78 ms, total: 30.4 ms\n",
      "Wall time: 1.69 s\n"
     ]
    },
    {
     "data": {
      "text/html": [
       "<div>\n",
       "<style scoped>\n",
       "    .dataframe tbody tr th:only-of-type {\n",
       "        vertical-align: middle;\n",
       "    }\n",
       "\n",
       "    .dataframe tbody tr th {\n",
       "        vertical-align: top;\n",
       "    }\n",
       "\n",
       "    .dataframe thead th {\n",
       "        text-align: right;\n",
       "    }\n",
       "</style>\n",
       "<table border=\"1\" class=\"dataframe\">\n",
       "  <thead>\n",
       "    <tr style=\"text-align: right;\">\n",
       "      <th></th>\n",
       "      <th>chunks</th>\n",
       "      <th>begin</th>\n",
       "      <th>end</th>\n",
       "      <th>code</th>\n",
       "      <th>all_codes</th>\n",
       "      <th>resolutions</th>\n",
       "      <th>all_distances</th>\n",
       "    </tr>\n",
       "  </thead>\n",
       "  <tbody>\n",
       "    <tr>\n",
       "      <th>0</th>\n",
       "      <td>metformin 100 mg</td>\n",
       "      <td>0</td>\n",
       "      <td>15</td>\n",
       "      <td>861024</td>\n",
       "      <td>[861024, 334738, 332848, 333262, 439563, 450523, 1744000, 541068, 402346, 1726496, 545206, 485246, 316350, 213092, 858858, 336846, 568808, 316844, 198370, 1946837, 451225, 882533, 856606, 1307630, 437723]</td>\n",
       "      <td>[metformin hydrochloride 100 mg/ml, fenofibrate 100 mg, ciprofibrate 100 mg, rutin 100 mg, fendiline 100 mg, perazine 100 mg, emtricitabine 100 mg, miglustat 100 mg, miglustat 100 mg, azacitidine 100 mg, azacitidine 100 mg, azacitidine 100 mg, niacin 100 mg, anzemet 100 mg, carnosine 100 mg, trimebutine 100 mg, torsemide 100 mg, torsemide 100 mg, torsemide 100 mg, abemaciclib 100 mg, pyrantel 100 mg, cleocin 100 mg, flumadine 100 mg, bosulif 100 mg, azintamide 100 mg]</td>\n",
       "      <td>[0.0658, 0.0684, 0.0697, 0.0765, 0.0775, 0.0804, 0.0818, 0.0811, 0.0811, 0.0812, 0.0812, 0.0812, 0.0811, 0.0836, 0.0828, 0.0844, 0.0846, 0.0846, 0.0846, 0.0840, 0.0844, 0.0849, 0.0850, 0.0843, 0.0851]</td>\n",
       "    </tr>\n",
       "  </tbody>\n",
       "</table>\n",
       "</div>"
      ],
      "text/plain": [
       "             chunks  ...                                                                                                                                                                                             all_distances\n",
       "0  metformin 100 mg  ...  [0.0658, 0.0684, 0.0697, 0.0765, 0.0775, 0.0804, 0.0818, 0.0811, 0.0811, 0.0812, 0.0812, 0.0812, 0.0811, 0.0836, 0.0828, 0.0844, 0.0846, 0.0846, 0.0846, 0.0840, 0.0844, 0.0849, 0.0850, 0.0843, 0.0851]\n",
       "\n",
       "[1 rows x 7 columns]"
      ]
     },
     "execution_count": 13,
     "metadata": {},
     "output_type": "execute_result"
    }
   ],
   "source": [
    "text = 'metformin 100 mg'\n",
    "\n",
    "%time get_codes (rxnorm_lp, text, vocab='rxnorm_code')"
   ]
  },
  {
   "cell_type": "code",
   "execution_count": null,
   "metadata": {
    "colab": {
     "base_uri": "https://localhost:8080/",
     "height": 233
    },
    "executionInfo": {
     "elapsed": 1806,
     "status": "ok",
     "timestamp": 1638483142120,
     "user": {
      "displayName": "Ahmet Emin Tek",
      "photoUrl": "https://lh3.googleusercontent.com/a/default-user=s64",
      "userId": "14855809472179427810"
     },
     "user_tz": -180
    },
    "id": "tSc-jq-KNxbp",
    "outputId": "8ec1e801-9c7b-4a8a-e4e5-efa768dd85e0"
   },
   "outputs": [
    {
     "name": "stdout",
     "output_type": "stream",
     "text": [
      "CPU times: user 16.2 ms, sys: 1.81 ms, total: 18.1 ms\n",
      "Wall time: 1.41 s\n"
     ]
    },
    {
     "data": {
      "text/html": [
       "<div>\n",
       "<style scoped>\n",
       "    .dataframe tbody tr th:only-of-type {\n",
       "        vertical-align: middle;\n",
       "    }\n",
       "\n",
       "    .dataframe tbody tr th {\n",
       "        vertical-align: top;\n",
       "    }\n",
       "\n",
       "    .dataframe thead th {\n",
       "        text-align: right;\n",
       "    }\n",
       "</style>\n",
       "<table border=\"1\" class=\"dataframe\">\n",
       "  <thead>\n",
       "    <tr style=\"text-align: right;\">\n",
       "      <th></th>\n",
       "      <th>chunks</th>\n",
       "      <th>begin</th>\n",
       "      <th>end</th>\n",
       "      <th>code</th>\n",
       "      <th>all_codes</th>\n",
       "      <th>resolutions</th>\n",
       "      <th>all_distances</th>\n",
       "    </tr>\n",
       "  </thead>\n",
       "  <tbody>\n",
       "    <tr>\n",
       "      <th>0</th>\n",
       "      <td>Advil Allergy Sinus</td>\n",
       "      <td>0</td>\n",
       "      <td>18</td>\n",
       "      <td>215618</td>\n",
       "      <td>[215618, 899469, 701329, 1311824, 702229, 1170796, 308151, 1170133, 1801249, 1170795, 1094448, 210238, 847500, 215138, 1373205, 543743, 847166, 876174, 899419, 2289242, 215127, 1170135, 1177219]</td>\n",
       "      <td>[benadryl allergy sinus, allergy hp, benadryl-d allergy and sinus, allergy d, elixsure allergy, benadryl-d allergy and sinus oral product, bhi allergy, benadryl allergy sinus oral product, aller-flo nasal product, benadryl-d allergy and sinus oral liquid product, scot-tussin allergy, sprayology allergease, allerx pe am, allergia-c, allergy complex, allergen ear, allerx df am, bactimicina allergy, allergy pollen, aller-cort nasal product, allercon, benadryl allergy sinus oral liquid product, scot-tussin allergy oral product]</td>\n",
       "      <td>[0.0715, 0.0818, 0.0953, 0.0936, 0.0990, 0.1022, 0.1042, 0.1098, 0.1115, 0.1133, 0.1126, 0.1204, 0.1182, 0.1185, 0.1222, 0.1224, 0.1227, 0.1227, 0.1218, 0.1280, 0.1266, 0.1292, 0.1309]</td>\n",
       "    </tr>\n",
       "  </tbody>\n",
       "</table>\n",
       "</div>"
      ],
      "text/plain": [
       "                chunks  ...                                                                                                                                                                             all_distances\n",
       "0  Advil Allergy Sinus  ...  [0.0715, 0.0818, 0.0953, 0.0936, 0.0990, 0.1022, 0.1042, 0.1098, 0.1115, 0.1133, 0.1126, 0.1204, 0.1182, 0.1185, 0.1222, 0.1224, 0.1227, 0.1227, 0.1218, 0.1280, 0.1266, 0.1292, 0.1309]\n",
       "\n",
       "[1 rows x 7 columns]"
      ]
     },
     "execution_count": 14,
     "metadata": {},
     "output_type": "execute_result"
    }
   ],
   "source": [
    "text = 'Advil Allergy Sinus'\n",
    "\n",
    "%time get_codes (rxnorm_lp, text, vocab='rxnorm_code')"
   ]
  },
  {
   "cell_type": "code",
   "execution_count": null,
   "metadata": {
    "colab": {
     "base_uri": "https://localhost:8080/",
     "height": 522
    },
    "executionInfo": {
     "elapsed": 1136,
     "status": "ok",
     "timestamp": 1638482889732,
     "user": {
      "displayName": "Ahmet Emin Tek",
      "photoUrl": "https://lh3.googleusercontent.com/a/default-user=s64",
      "userId": "14855809472179427810"
     },
     "user_tz": -180
    },
    "id": "XNaxMAO2LU2j",
    "outputId": "d78c77f6-b3fe-480c-a400-2d8ea2bed6ed"
   },
   "outputs": [
    {
     "name": "stdout",
     "output_type": "stream",
     "text": [
      "CPU times: user 15.8 ms, sys: 3.39 ms, total: 19.2 ms\n",
      "Wall time: 780 ms\n"
     ]
    },
    {
     "data": {
      "text/html": [
       "<div>\n",
       "<style scoped>\n",
       "    .dataframe tbody tr th:only-of-type {\n",
       "        vertical-align: middle;\n",
       "    }\n",
       "\n",
       "    .dataframe tbody tr th {\n",
       "        vertical-align: top;\n",
       "    }\n",
       "\n",
       "    .dataframe thead th {\n",
       "        text-align: right;\n",
       "    }\n",
       "</style>\n",
       "<table border=\"1\" class=\"dataframe\">\n",
       "  <thead>\n",
       "    <tr style=\"text-align: right;\">\n",
       "      <th></th>\n",
       "      <th>chunks</th>\n",
       "      <th>begin</th>\n",
       "      <th>end</th>\n",
       "      <th>code</th>\n",
       "      <th>all_codes</th>\n",
       "      <th>resolutions</th>\n",
       "      <th>all_distances</th>\n",
       "    </tr>\n",
       "  </thead>\n",
       "  <tbody>\n",
       "    <tr>\n",
       "      <th>0</th>\n",
       "      <td>metformin 500 mg</td>\n",
       "      <td>0</td>\n",
       "      <td>15</td>\n",
       "      <td>70010006315</td>\n",
       "      <td>[70010006315, 71052050750, 71052091050, 71052063005, 71052065655, 71052065905, 62207041613, 71052009700, 71052011005, 51662139201, 71052006505, 71052050850, 71052050701, 71052028005, 62207049147, 25000013498, 25000010197, 25000010198, 50222050347, 71052065605, 51552150806, 10631020602, 14474003601, 59898072002, 71052065850]</td>\n",
       "      <td>[metformin hydrochloride 500 mg/500mg, 500 mg in 1 drum , tablet, 5-fluorouracil 500 g/500g, 500 g in 1 container , powder, alpha-msh acetate 500 mg/500mg, 500 mg in 1 container , powder, ursodeoxycholic acid 500 g/500g, 500 g in 1 container , powder, acarbose 500 g/500g, 500 g in 1 container , powder, hydroxychloroquine sulfate 500 g/500g, 500 g in 1 container , powder, metformin hcl 500 mg/kg, 50 kg in 1 drum , powder, idebenone 500 g/500g, 500 g in 1 container , powder, orlistat 500 g/500g, 500 g in 1 container , powder, procainamide hci 500 mg/ml, 2 ml in 1 vial, multi-dose , injection, solution, zonisamide 500 g/500g, 500 g in 1 container , powder, dantrolene sodium 500 g/500g, 500 g in 1 container , powder, 5-fluorouracil 500 g/500g, 1000 g in 1 container , powder, furazolidone 500 g/500g, 500 g in 1 container , powder, metformin er 500 mg 500 mg/1, 500 tablet in 1 bottle , tablet, metformin hydrochloride 500 mg/1, 1 bag in 1 box , tablet, film coated, metformin hydrochloride 500 mg/1, 4 bag in 1 box , tablet, extended release, metformin hydrochloride 500 mg/1, 1 bag in 1 box , tablet, extended release, ingenol mebutate 500 ug/g, 2 tube in 1 carton , gel, acarbose 500 g/500g, 5000 g in 1 container , powder, metformin hcl 1 g/g, 500 g in 1 container , powder, metformin hydrochloride 500 mg/5ml, 473 ml in 1 bottle , solution, isoproterenol hydrochloride 500 g/500g, 500 g in 1 package , powder, bacitracin 500 [iu]/g, 144 packet in 1 box, unit-dose , ointment, lanthanum carbonate 500 g/500g, 500 g in 1 container , powder]</td>\n",
       "      <td>[0.2239, 0.2289, 0.2448, 0.2492, 0.2464, 0.2519, 0.2449, 0.2550, 0.2520, 0.2624, 0.2588, 0.2625, 0.2651, 0.2606, 0.2592, 0.2700, 0.2710, 0.2715, 0.2758, 0.2692, 0.2666, 0.2759, 0.2778, 0.2740, 0.2733]</td>\n",
       "    </tr>\n",
       "  </tbody>\n",
       "</table>\n",
       "</div>"
      ],
      "text/plain": [
       "             chunks  ...                                                                                                                                                                                             all_distances\n",
       "0  metformin 500 mg  ...  [0.2239, 0.2289, 0.2448, 0.2492, 0.2464, 0.2519, 0.2449, 0.2550, 0.2520, 0.2624, 0.2588, 0.2625, 0.2651, 0.2606, 0.2592, 0.2700, 0.2710, 0.2715, 0.2758, 0.2692, 0.2666, 0.2759, 0.2778, 0.2740, 0.2733]\n",
       "\n",
       "[1 rows x 7 columns]"
      ]
     },
     "execution_count": 11,
     "metadata": {},
     "output_type": "execute_result"
    }
   ],
   "source": [
    "text = 'metformin 500 mg'\n",
    "\n",
    "%time get_codes (ndc_lp, text, vocab='ndc_code')"
   ]
  },
  {
   "cell_type": "code",
   "execution_count": null,
   "metadata": {
    "colab": {
     "base_uri": "https://localhost:8080/",
     "height": 522
    },
    "executionInfo": {
     "elapsed": 1051,
     "status": "ok",
     "timestamp": 1638482854399,
     "user": {
      "displayName": "Ahmet Emin Tek",
      "photoUrl": "https://lh3.googleusercontent.com/a/default-user=s64",
      "userId": "14855809472179427810"
     },
     "user_tz": -180
    },
    "id": "PO7RtQJzLzBI",
    "outputId": "61e563e5-592a-49ff-e41a-abee51578f4f"
   },
   "outputs": [
    {
     "name": "stdout",
     "output_type": "stream",
     "text": [
      "CPU times: user 14.3 ms, sys: 3.02 ms, total: 17.3 ms\n",
      "Wall time: 765 ms\n"
     ]
    },
    {
     "data": {
      "text/html": [
       "<div>\n",
       "<style scoped>\n",
       "    .dataframe tbody tr th:only-of-type {\n",
       "        vertical-align: middle;\n",
       "    }\n",
       "\n",
       "    .dataframe tbody tr th {\n",
       "        vertical-align: top;\n",
       "    }\n",
       "\n",
       "    .dataframe thead th {\n",
       "        text-align: right;\n",
       "    }\n",
       "</style>\n",
       "<table border=\"1\" class=\"dataframe\">\n",
       "  <thead>\n",
       "    <tr style=\"text-align: right;\">\n",
       "      <th></th>\n",
       "      <th>chunks</th>\n",
       "      <th>begin</th>\n",
       "      <th>end</th>\n",
       "      <th>code</th>\n",
       "      <th>all_codes</th>\n",
       "      <th>resolutions</th>\n",
       "      <th>all_distances</th>\n",
       "    </tr>\n",
       "  </thead>\n",
       "  <tbody>\n",
       "    <tr>\n",
       "      <th>0</th>\n",
       "      <td>aspirin 81 mg</td>\n",
       "      <td>0</td>\n",
       "      <td>12</td>\n",
       "      <td>73089008114</td>\n",
       "      <td>[73089008114, 71872708704, 71872715401, 68210101500, 69536028110, 63548086706, 71679001000, 68196090051, 00113400500, 69536018112, 73089008112, 63981056362, 63739043402, 63548086705, 00113046708, 70000017801, 41226048150, 69536028136, 50090483200, 70518273300, 11673070208, 52124001201, 69168031806, 69168031817, 17714000936]</td>\n",
       "      <td>[aspirin 81 mg/81mg, 81 mg in 1 carton , capsule, aspirin 81 mg 81 mg/1, 4 blister pack in 1 bag , tablet, aspirin 81 mg/1, 1 blister pack in 1 bag , tablet, coated, aspirin 81 mg/1, 1 bag in 1 drum , tablet, film coated, aspirin 81 mg/1, 3 bottle in 1 box , tablet, chewable, aspirin 81 mg/1, 36 bottle in 1 case , tablet, aspirin 81 mg/1, 1 bag in 1 drum , tablet, coated, aspirin 81 mg/1, 2 bottle in 1 package , tablet, coated, aspirin 81 mg/1, 1 bag in 1 drum , tablet, chewable, aspirin 81 mg/1, 1 bottle in 1 box , tablet, film coated, aspirin 81 mg/81mg, 1 blister pack in 1 carton , capsule, aspirin 81 mg/1, 1 bottle in 1 package , tablet, coated, aspirin 81 mg 81 mg/1, 30 blister pack in 1 box , tablet, aspirin 81 mg/1, 1 bag in 1 drum , tablet, aspirin 81 mg/1, 3 carton in 1 carton , tablet, chewable, aspirin 81 mg/1, 1 bottle in 1 carton , tablet, film coated, aspirin 81 mg/1, 1 bottle in 1 bottle , tablet, coated, aspirin 81 mg/1, 1 bottle in 1 box , tablet, chewable, aspirin 81 mg/1, 33 blister pack in 1 box, unit-dose , tablet, coated, aspirin 81 mg/1, 30 tablet in 1 blister pack , tablet, aspirin 81 mg/1, 3 bottle in 1 carton , tablet, chewable, aspirin 81 mg/1, 2 tablet, chewable in 1 package , tablet, chewable, aspirin 81 mg 81 mg/1, 1 bottle in 1 carton , tablet, aspirin 81 mg 81 mg/1, 300 tablet in 1 bottle , tablet, aspirin 81 mg/1, 36 carton in 1 bottle , tablet, chewable]</td>\n",
       "      <td>[0.1658, 0.1795, 0.1889, 0.1902, 0.1937, 0.2010, 0.2000, 0.2060, 0.2013, 0.2023, 0.2038, 0.2048, 0.2037, 0.2056, 0.2080, 0.2095, 0.2111, 0.2120, 0.2121, 0.2154, 0.2152, 0.2177, 0.2133, 0.2132, 0.2194]</td>\n",
       "    </tr>\n",
       "  </tbody>\n",
       "</table>\n",
       "</div>"
      ],
      "text/plain": [
       "          chunks  ...                                                                                                                                                                                             all_distances\n",
       "0  aspirin 81 mg  ...  [0.1658, 0.1795, 0.1889, 0.1902, 0.1937, 0.2010, 0.2000, 0.2060, 0.2013, 0.2023, 0.2038, 0.2048, 0.2037, 0.2056, 0.2080, 0.2095, 0.2111, 0.2120, 0.2121, 0.2154, 0.2152, 0.2177, 0.2133, 0.2132, 0.2194]\n",
       "\n",
       "[1 rows x 7 columns]"
      ]
     },
     "execution_count": 10,
     "metadata": {},
     "output_type": "execute_result"
    }
   ],
   "source": [
    "text = 'aspirin 81 mg'\n",
    "\n",
    "%time get_codes (ndc_lp, text, vocab='ndc_code')"
   ]
  },
  {
   "cell_type": "code",
   "execution_count": null,
   "metadata": {
    "colab": {
     "base_uri": "https://localhost:8080/",
     "height": 692
    },
    "executionInfo": {
     "elapsed": 558,
     "status": "ok",
     "timestamp": 1638443987859,
     "user": {
      "displayName": "Ahmet Emin Tek",
      "photoUrl": "https://lh3.googleusercontent.com/a/default-user=s64",
      "userId": "14855809472179427810"
     },
     "user_tz": -180
    },
    "id": "8y3nemgzEz_J",
    "outputId": "8195e176-d475-4ba5-fe72-9b4677db36bb"
   },
   "outputs": [
    {
     "name": "stdout",
     "output_type": "stream",
     "text": [
      "CPU times: user 17.1 ms, sys: 5.27 ms, total: 22.4 ms\n",
      "Wall time: 241 ms\n"
     ]
    },
    {
     "data": {
      "text/html": [
       "<div>\n",
       "<style scoped>\n",
       "    .dataframe tbody tr th:only-of-type {\n",
       "        vertical-align: middle;\n",
       "    }\n",
       "\n",
       "    .dataframe tbody tr th {\n",
       "        vertical-align: top;\n",
       "    }\n",
       "\n",
       "    .dataframe thead th {\n",
       "        text-align: right;\n",
       "    }\n",
       "</style>\n",
       "<table border=\"1\" class=\"dataframe\">\n",
       "  <thead>\n",
       "    <tr style=\"text-align: right;\">\n",
       "      <th></th>\n",
       "      <th>chunks</th>\n",
       "      <th>begin</th>\n",
       "      <th>end</th>\n",
       "      <th>code</th>\n",
       "      <th>all_codes</th>\n",
       "      <th>resolutions</th>\n",
       "      <th>all_distances</th>\n",
       "    </tr>\n",
       "  </thead>\n",
       "  <tbody>\n",
       "    <tr>\n",
       "      <th>0</th>\n",
       "      <td>heart surgery</td>\n",
       "      <td>0</td>\n",
       "      <td>12</td>\n",
       "      <td>33258</td>\n",
       "      <td>[33258, 33999, 0306T, 0304T, 0302T, 93583, 1006057, 93566, 93565, 93568, 93564, 93567, 1013106, 33430, 33465, 1006147, 33425, 1014130]</td>\n",
       "      <td>[Cardiac surgery procedure [Operative tissue ablation and reconstruction of atria, performed at the time of other cardiac procedure(s), extensive (eg, maze procedure), without cardiopulmonary bypass (List separately in addition to code for primary procedure)], Cardiac surgery procedure [Unlisted procedure, cardiac surgery], Heart procedure [Interrogation device evaluation (in person) of intracardiac ischemia monitoring system with analysis, review, and report], Heart procedure [Insertion or removal and replacement of intracardiac ischemia monitoring system including imaging supervision and interpretation when performed and intra-operative interrogation and programming when performed; device only], Heart procedure [Insertion or removal and replacement of intracardiac ischemia monitoring system including imaging supervision and interpretation when performed and intra-operative interrogation and programming when performed; complete system (includes device and electrod], Operation on cardiac septum [Percutaneous transcatheter septal reduction therapy (eg, alcohol septal ablation) including temporary pacemaker insertion when performed], Surgical Procedures on the Heart and Pericardium [Surgical Procedures on the Heart and Pericardium], Insertion of catheter into heart chamber [Injection procedure during cardiac catheterization including imaging supervision, interpretation, and report; for selective right ventricular or right atrial angiography (List separately in addition to code for primary procedure)], Insertion of catheter into heart chamber [Injection procedure during cardiac catheterization including imaging supervision, interpretation, and report; for selective left ventricular or left atrial angiography (List separately in addition to code for primary procedure)], Insertion of catheter into heart chamber [Injection procedure during cardiac catheterization including imaging supervision, interpretation, and report; for pulmonary angiography (List separately in addition to code for primary procedure)], Insertion of catheter into heart chamber [Injection procedure during cardiac catheterization including imaging supervision, interpretation, and report; for selective opacification of aortocoronary venous or arterial bypass graft(s) (eg, aortocoronary saphenous vein, free radial artery, or free ma], Insertion of catheter into heart chamber [Injection procedure during cardiac catheterization including imaging supervision, interpretation, and report; for supravalvular aortography (List separately in addition to code for primary procedure)], Repair Procedures of Structural Heart Defect [Repair Procedures of Structural Heart Defect], Replacement, mitral valve, with cardiopulmonary bypass [Replacement, mitral valve, with cardiopulmonary bypass], Replacement, tricuspid valve, with cardiopulmonary bypass [Replacement, tricuspid valve, with cardiopulmonary bypass], Replacement, aortic valve, with cardiopulmonary bypass [Replacement, aortic valve, with cardiopulmonary bypass], Valvuloplasty, mitral valve, with cardiopulmonary bypass [Valvuloplasty, mitral valve, with cardiopulmonary bypass], Valvuloplasty, mitral valve, with cardiopulmonary bypass [Valvuloplasty, mitral valve, with cardiopulmonary bypass]]</td>\n",
       "      <td>[0.1031, 0.1031, 0.1377, 0.1377, 0.1377, 0.1645, 0.1845, 0.1904, 0.1904, 0.1904, 0.1904, 0.1904, 0.1949, 0.1971, 0.2066, 0.2047, 0.2107, 0.2107]</td>\n",
       "    </tr>\n",
       "  </tbody>\n",
       "</table>\n",
       "</div>"
      ],
      "text/plain": [
       "          chunks  ...                                                                                                                                     all_distances\n",
       "0  heart surgery  ...  [0.1031, 0.1031, 0.1377, 0.1377, 0.1377, 0.1645, 0.1845, 0.1904, 0.1904, 0.1904, 0.1904, 0.1904, 0.1949, 0.1971, 0.2066, 0.2047, 0.2107, 0.2107]\n",
       "\n",
       "[1 rows x 7 columns]"
      ]
     },
     "execution_count": 13,
     "metadata": {},
     "output_type": "execute_result"
    }
   ],
   "source": [
    "text = 'heart surgery'\n",
    "\n",
    "%time get_codes (cpt_lp, text, vocab='cpt_code')"
   ]
  },
  {
   "cell_type": "code",
   "execution_count": null,
   "metadata": {
    "colab": {
     "base_uri": "https://localhost:8080/",
     "height": 505
    },
    "executionInfo": {
     "elapsed": 550,
     "status": "ok",
     "timestamp": 1638443994937,
     "user": {
      "displayName": "Ahmet Emin Tek",
      "photoUrl": "https://lh3.googleusercontent.com/a/default-user=s64",
      "userId": "14855809472179427810"
     },
     "user_tz": -180
    },
    "id": "eiKgAHpVEz_J",
    "outputId": "b0541046-16ec-45b4-bf38-c31a73562c11"
   },
   "outputs": [
    {
     "name": "stdout",
     "output_type": "stream",
     "text": [
      "CPU times: user 8.44 ms, sys: 4.18 ms, total: 12.6 ms\n",
      "Wall time: 216 ms\n"
     ]
    },
    {
     "data": {
      "text/html": [
       "<div>\n",
       "<style scoped>\n",
       "    .dataframe tbody tr th:only-of-type {\n",
       "        vertical-align: middle;\n",
       "    }\n",
       "\n",
       "    .dataframe tbody tr th {\n",
       "        vertical-align: top;\n",
       "    }\n",
       "\n",
       "    .dataframe thead th {\n",
       "        text-align: right;\n",
       "    }\n",
       "</style>\n",
       "<table border=\"1\" class=\"dataframe\">\n",
       "  <thead>\n",
       "    <tr style=\"text-align: right;\">\n",
       "      <th></th>\n",
       "      <th>chunks</th>\n",
       "      <th>begin</th>\n",
       "      <th>end</th>\n",
       "      <th>code</th>\n",
       "      <th>all_codes</th>\n",
       "      <th>resolutions</th>\n",
       "      <th>all_distances</th>\n",
       "    </tr>\n",
       "  </thead>\n",
       "  <tbody>\n",
       "    <tr>\n",
       "      <th>0</th>\n",
       "      <td>ct abdomen</td>\n",
       "      <td>0</td>\n",
       "      <td>9</td>\n",
       "      <td>62284</td>\n",
       "      <td>[62284, 74183, 74181, 76497, 49329, 70540, 49080, 49083, 70543, 33891, 34471, 34001, 1010526, 74175, 74160, 35180, 73206, 73202]</td>\n",
       "      <td>[CT of spine [Injection procedure for myelography and/or computed tomography, lumbar], MRI of abdomen [Magnetic resonance (eg, proton) imaging, abdomen; without contrast material(s), followed by with contrast material(s) and further sequences], MRI of abdomen [Magnetic resonance (eg, proton) imaging, abdomen; without contrast material(s)], CT Scan [Unlisted computed tomography procedure (eg, diagnostic, interventional)], Procedure on abdomen [Unlisted laparoscopy procedure, abdomen, peritoneum and omentum], MRI of neck [Magnetic resonance (eg, proton) imaging, orbit, face, and/or neck; without contrast material(s)], Drainage of abdomen [Peritoneocentesis, abdominal paracentesis, or peritoneal lavage (diagnostic or therapeutic); initial], Drainage of abdomen [Abdominal paracentesis (diagnostic or therapeutic); with imaging guidance], MRI of face [Magnetic resonance (eg, proton) imaging, orbit, face, and/or neck; without contrast material(s), followed by contrast material(s) and further sequences], Incision of neck [Bypass graft, with other than vein, transcervical retropharyngeal carotid-carotid, performed in conjunction with endovascular repair of descending thoracic aorta, by neck incision], Incision of neck [Thrombectomy, direct or with catheter; subclavian vein, by neck incision], Incision of neck [Embolectomy or thrombectomy, with or without catheter; carotid, subclavian or innominate artery, by neck incision], Computed tomography, abdomen [Computed tomography, abdomen], CT of abdominal vascular structures [Computed tomographic angiography, abdomen, with contrast material(s), including noncontrast images, if performed, and image postprocessing], CT of abdomen with contrast [Computed tomography, abdomen; with contrast material(s)], Head and neck incision [Repair, congenital arteriovenous fistula; head and neck], CT of upper limb [Computed tomographic angiography, upper extremity, with contrast material(s), including noncontrast images, if performed, and image postprocessing], CT of upper limb [Computed tomography, upper extremity; without contrast material, followed by contrast material(s) and further sections]]</td>\n",
       "      <td>[0.1268, 0.1351, 0.1351, 0.1526, 0.1669, 0.1869, 0.1899, 0.1899, 0.1882, 0.1952, 0.1952, 0.1952, 0.1955, 0.1962, 0.1986, 0.2006, 0.2007, 0.2007]</td>\n",
       "    </tr>\n",
       "  </tbody>\n",
       "</table>\n",
       "</div>"
      ],
      "text/plain": [
       "       chunks  ...                                                                                                                                     all_distances\n",
       "0  ct abdomen  ...  [0.1268, 0.1351, 0.1351, 0.1526, 0.1669, 0.1869, 0.1899, 0.1899, 0.1882, 0.1952, 0.1952, 0.1952, 0.1955, 0.1962, 0.1986, 0.2006, 0.2007, 0.2007]\n",
       "\n",
       "[1 rows x 7 columns]"
      ]
     },
     "execution_count": 14,
     "metadata": {},
     "output_type": "execute_result"
    }
   ],
   "source": [
    "text = 'ct abdomen'\n",
    "\n",
    "%time get_codes (cpt_lp, text, vocab='cpt_code')"
   ]
  },
  {
   "cell_type": "code",
   "execution_count": null,
   "metadata": {
    "colab": {
     "base_uri": "https://localhost:8080/",
     "height": 488
    },
    "executionInfo": {
     "elapsed": 568,
     "status": "ok",
     "timestamp": 1638444000052,
     "user": {
      "displayName": "Ahmet Emin Tek",
      "photoUrl": "https://lh3.googleusercontent.com/a/default-user=s64",
      "userId": "14855809472179427810"
     },
     "user_tz": -180
    },
    "id": "jKQWVv3KEz_J",
    "outputId": "eb0aa2c4-b80a-47b8-a7ff-64c2351b6b65",
    "scrolled": false
   },
   "outputs": [
    {
     "name": "stdout",
     "output_type": "stream",
     "text": [
      "CPU times: user 15.5 ms, sys: 1.43 ms, total: 16.9 ms\n",
      "Wall time: 214 ms\n"
     ]
    },
    {
     "data": {
      "text/html": [
       "<div>\n",
       "<style scoped>\n",
       "    .dataframe tbody tr th:only-of-type {\n",
       "        vertical-align: middle;\n",
       "    }\n",
       "\n",
       "    .dataframe tbody tr th {\n",
       "        vertical-align: top;\n",
       "    }\n",
       "\n",
       "    .dataframe thead th {\n",
       "        text-align: right;\n",
       "    }\n",
       "</style>\n",
       "<table border=\"1\" class=\"dataframe\">\n",
       "  <thead>\n",
       "    <tr style=\"text-align: right;\">\n",
       "      <th></th>\n",
       "      <th>chunks</th>\n",
       "      <th>begin</th>\n",
       "      <th>end</th>\n",
       "      <th>code</th>\n",
       "      <th>all_codes</th>\n",
       "      <th>resolutions</th>\n",
       "      <th>all_distances</th>\n",
       "    </tr>\n",
       "  </thead>\n",
       "  <tbody>\n",
       "    <tr>\n",
       "      <th>0</th>\n",
       "      <td>Left heart cath</td>\n",
       "      <td>0</td>\n",
       "      <td>14</td>\n",
       "      <td>93462</td>\n",
       "      <td>[93462, 93607, 0281T, 93514, 93452, 78428, 93566, 93565, 93568, 93564, 93567]</td>\n",
       "      <td>[Catheterisation of left heart [Left heart catheterization by transseptal puncture through intact septum or by transapical puncture (List separately in addition to code for primary procedure)], Left ventricular recording (Deprecated) [Left ventricular recording (Deprecated)], Plication of left atrial appendage [Percutaneous transcatheter closure of the left atrial appendage with implant, including fluoroscopy, transseptal puncture, catheter placement(s), left atrial angiography, left atrial appendage angiography, radiological supervision and interpretation], Left heart catheterization by left ventricular puncture [Left heart catheterization by left ventricular puncture], Ventriculography of left ventricle [Left heart catheterization including intraprocedural injection(s) for left ventriculography, imaging supervision and interpretation, when performed], Cardiac shunt detection (procedure) [Cardiac shunt detection], Cardiac catheterisation [Injection procedure during cardiac catheterization including imaging supervision, interpretation, and report; for selective right ventricular or right atrial angiography (List separately in addition to code for primary procedure)], Cardiac catheterisation [Injection procedure during cardiac catheterization including imaging supervision, interpretation, and report; for selective left ventricular or left atrial angiography (List separately in addition to code for primary procedure)], Cardiac catheterisation [Injection procedure during cardiac catheterization including imaging supervision, interpretation, and report; for pulmonary angiography (List separately in addition to code for primary procedure)], Cardiac catheterisation [Injection procedure during cardiac catheterization including imaging supervision, interpretation, and report; for selective opacification of aortocoronary venous or arterial bypass graft(s) (eg, aortocoronary saphenous vein, free radial artery, or free ma], Cardiac catheterisation [Injection procedure during cardiac catheterization including imaging supervision, interpretation, and report; for supravalvular aortography (List separately in addition to code for primary procedure)]]</td>\n",
       "      <td>[0.1218, 0.1272, 0.1678, 0.1690, 0.1799, 0.1914, 0.1874, 0.1874, 0.1874, 0.1874, 0.1874]</td>\n",
       "    </tr>\n",
       "  </tbody>\n",
       "</table>\n",
       "</div>"
      ],
      "text/plain": [
       "            chunks  ...                                                                             all_distances\n",
       "0  Left heart cath  ...  [0.1218, 0.1272, 0.1678, 0.1690, 0.1799, 0.1914, 0.1874, 0.1874, 0.1874, 0.1874, 0.1874]\n",
       "\n",
       "[1 rows x 7 columns]"
      ]
     },
     "execution_count": 15,
     "metadata": {},
     "output_type": "execute_result"
    }
   ],
   "source": [
    "text = 'Left heart cath'\n",
    "\n",
    "%time get_codes (cpt_lp, text, vocab='cpt_code')"
   ]
  },
  {
   "cell_type": "code",
   "execution_count": null,
   "metadata": {
    "id": "Fi5WiPUtEz_J",
    "outputId": "279c6458-74cb-4d98-ef41-f8913aa53a28"
   },
   "outputs": [
    {
     "name": "stdout",
     "output_type": "stream",
     "text": [
      "CPU times: user 17.3 ms, sys: 176 µs, total: 17.5 ms\n",
      "Wall time: 3 s\n"
     ]
    },
    {
     "data": {
      "text/html": [
       "<div>\n",
       "<style scoped>\n",
       "    .dataframe tbody tr th:only-of-type {\n",
       "        vertical-align: middle;\n",
       "    }\n",
       "\n",
       "    .dataframe tbody tr th {\n",
       "        vertical-align: top;\n",
       "    }\n",
       "\n",
       "    .dataframe thead th {\n",
       "        text-align: right;\n",
       "    }\n",
       "</style>\n",
       "<table border=\"1\" class=\"dataframe\">\n",
       "  <thead>\n",
       "    <tr style=\"text-align: right;\">\n",
       "      <th></th>\n",
       "      <th>chunks</th>\n",
       "      <th>begin</th>\n",
       "      <th>end</th>\n",
       "      <th>code</th>\n",
       "      <th>all_codes</th>\n",
       "      <th>resolutions</th>\n",
       "      <th>all_distances</th>\n",
       "      <th>gt</th>\n",
       "      <th>concept</th>\n",
       "      <th>aux</th>\n",
       "    </tr>\n",
       "  </thead>\n",
       "  <tbody>\n",
       "    <tr>\n",
       "      <th>0</th>\n",
       "      <td>bladder cancer</td>\n",
       "      <td>0</td>\n",
       "      <td>13</td>\n",
       "      <td>399326009</td>\n",
       "      <td>[399326009, 363455001, 425066001, 255108000, 269607003, 154540000, 425231005, 255110003, 139850000, 162582000, 315269000, 393562002, 255109008, 255111004, 92546004, 254932004]</td>\n",
       "      <td>[bladder cancer, bladder cancer, invasive bladder cancer, carcinoma of bladder, carcinoma of bladder, carcinoma of bladder, superficial bladder cancer, adenocarcinoma of bladder, suspected bladder cancer, suspected bladder cancer, suspected bladder cancer, transitional cell carcinoma of bladder, transitional cell carcinoma of bladder, squamous cell carcinoma of bladder, cancer in situ of urinary bladder, tumor of bladder neck]</td>\n",
       "      <td>[0.0000, 0.0000, 0.0539, 0.0666, 0.0666, 0.0666, 0.0809, 0.0881, 0.0904, 0.0904, 0.0904, 0.0880, 0.0880, 0.0913, 0.0978, 0.1080]</td>\n",
       "      <td>[Malignant tumor of urinary bladder, NGB - New growth of bladder, Carcinoma of urinary bladder, invasive, Carcinoma of bladder, Bladder Ca, Carcinoma bladder, Carcinoma of urinary bladder, superficial, Adenocarcinoma of bladder, Suspected bladder cancer, Suspected bladder cancer, Suspected bladder cancer, Transitional cell carcinoma of bladder, Transitional cell carcinoma of bladder, Squamous cell carcinoma of bladder, Cancer in situ of urinary bladder, Tumor of bladder neck]</td>\n",
       "      <td>[Condition, Condition, Condition, Condition, Condition, Condition, Condition, Condition, Observation, Observation, Observation, Condition, Condition, Condition, Condition, Condition]</td>\n",
       "      <td>[Clinical Finding, Clinical Finding, Clinical Finding, Clinical Finding, Clinical Finding, Clinical Finding, Clinical Finding, Clinical Finding, Context-dependent, Context-dependent, Context-dependent, Clinical Finding, Clinical Finding, Clinical Finding, Clinical Finding, Clinical Finding]</td>\n",
       "    </tr>\n",
       "  </tbody>\n",
       "</table>\n",
       "</div>"
      ],
      "text/plain": [
       "           chunks  begin  end       code  \\\n",
       "0  bladder cancer  0      13   399326009   \n",
       "\n",
       "                                                                                                                                                                         all_codes  \\\n",
       "0  [399326009, 363455001, 425066001, 255108000, 269607003, 154540000, 425231005, 255110003, 139850000, 162582000, 315269000, 393562002, 255109008, 255111004, 92546004, 254932004]   \n",
       "\n",
       "                                                                                                                                                                                                                                                                                                                                                                                                                                      resolutions  \\\n",
       "0  [bladder cancer, bladder cancer, invasive bladder cancer, carcinoma of bladder, carcinoma of bladder, carcinoma of bladder, superficial bladder cancer, adenocarcinoma of bladder, suspected bladder cancer, suspected bladder cancer, suspected bladder cancer, transitional cell carcinoma of bladder, transitional cell carcinoma of bladder, squamous cell carcinoma of bladder, cancer in situ of urinary bladder, tumor of bladder neck]   \n",
       "\n",
       "                                                                                                                      all_distances  \\\n",
       "0  [0.0000, 0.0000, 0.0539, 0.0666, 0.0666, 0.0666, 0.0809, 0.0881, 0.0904, 0.0904, 0.0904, 0.0880, 0.0880, 0.0913, 0.0978, 0.1080]   \n",
       "\n",
       "                                                                                                                                                                                                                                                                                                                                                                                                                                                                                                 gt  \\\n",
       "0  [Malignant tumor of urinary bladder, NGB - New growth of bladder, Carcinoma of urinary bladder, invasive, Carcinoma of bladder, Bladder Ca, Carcinoma bladder, Carcinoma of urinary bladder, superficial, Adenocarcinoma of bladder, Suspected bladder cancer, Suspected bladder cancer, Suspected bladder cancer, Transitional cell carcinoma of bladder, Transitional cell carcinoma of bladder, Squamous cell carcinoma of bladder, Cancer in situ of urinary bladder, Tumor of bladder neck]   \n",
       "\n",
       "                                                                                                                                                                                  concept  \\\n",
       "0  [Condition, Condition, Condition, Condition, Condition, Condition, Condition, Condition, Observation, Observation, Observation, Condition, Condition, Condition, Condition, Condition]   \n",
       "\n",
       "                                                                                                                                                                                                                                                                                                   aux  \n",
       "0  [Clinical Finding, Clinical Finding, Clinical Finding, Clinical Finding, Clinical Finding, Clinical Finding, Clinical Finding, Clinical Finding, Context-dependent, Context-dependent, Context-dependent, Clinical Finding, Clinical Finding, Clinical Finding, Clinical Finding, Clinical Finding]  "
      ]
     },
     "execution_count": 21,
     "metadata": {
      "tags": []
     },
     "output_type": "execute_result"
    }
   ],
   "source": [
    "text = 'bladder cancer'\n",
    "\n",
    "%time get_codes (snomed_lp, text, vocab='snomed_code', aux_label=True)"
   ]
  },
  {
   "cell_type": "code",
   "execution_count": null,
   "metadata": {
    "id": "zqQjhohUEz_J",
    "outputId": "dc911a32-b3f4-4034-c16d-51f06adc88b5"
   },
   "outputs": [
    {
     "name": "stdout",
     "output_type": "stream",
     "text": [
      "CPU times: user 16.1 ms, sys: 1.89 ms, total: 18 ms\n",
      "Wall time: 3.01 s\n"
     ]
    },
    {
     "data": {
      "text/html": [
       "<div>\n",
       "<style scoped>\n",
       "    .dataframe tbody tr th:only-of-type {\n",
       "        vertical-align: middle;\n",
       "    }\n",
       "\n",
       "    .dataframe tbody tr th {\n",
       "        vertical-align: top;\n",
       "    }\n",
       "\n",
       "    .dataframe thead th {\n",
       "        text-align: right;\n",
       "    }\n",
       "</style>\n",
       "<table border=\"1\" class=\"dataframe\">\n",
       "  <thead>\n",
       "    <tr style=\"text-align: right;\">\n",
       "      <th></th>\n",
       "      <th>chunks</th>\n",
       "      <th>begin</th>\n",
       "      <th>end</th>\n",
       "      <th>code</th>\n",
       "      <th>all_codes</th>\n",
       "      <th>resolutions</th>\n",
       "      <th>all_distances</th>\n",
       "      <th>gt</th>\n",
       "      <th>concept</th>\n",
       "      <th>aux</th>\n",
       "    </tr>\n",
       "  </thead>\n",
       "  <tbody>\n",
       "    <tr>\n",
       "      <th>0</th>\n",
       "      <td>schizophrenia</td>\n",
       "      <td>0</td>\n",
       "      <td>12</td>\n",
       "      <td>58214004</td>\n",
       "      <td>[58214004, 83746006, 191567000, 191529003, 16990005, 35252006, 137730004, 160328009, 64905009, 161468000, 138739000, 191526005, 12939007, 76834001, 154868009, 76839006, 191542003]</td>\n",
       "      <td>[schizophrenia, chronic schizophrenia, schizoaffective schizophrenia, subchronic schizophrenia, subchronic schizophrenia, disorganized schizophrenia, fh: schizophrenia, fh: schizophrenia, paraphrenic schizophrenia, h/o: schizophrenia, h/o: schizophrenia, schizophrenic disorders, chronic disorganised schizophrenia, retired procedure, catatonic schizophrenia, catatonic schizophrenia, catatonic schizophrenia]</td>\n",
       "      <td>[0.0000, 0.0387, 0.0481, 0.0498, 0.0498, 0.0532, 0.0597, 0.0597, 0.0663, 0.0653, 0.0653, 0.0662, 0.0683, 0.0694, 0.0694, 0.0694, 0.0694]</td>\n",
       "      <td>[Schizophrenia, Chronic schizophrenia, Schizoaffective schizophrenia, Subchronic schizophrenia, Subchronic schizophrenia, Disorganized schizophrenia, FH: Schizophrenia, FH: Schizophrenia, Paranoid schizophrenia, H/O: schizophrenia, H/O: schizophrenia, Schizophrenic disorders, Chronic disorganized schizophrenia, Retired procedure, Catatonic schizophrenia, Catatonic schizophrenia, Catatonic schizophrenia]</td>\n",
       "      <td>[Condition, Condition, Condition, Condition, Condition, Condition, Observation, Observation, Condition, Observation, Observation, Condition, Condition, Procedure, Condition, Condition, Condition]</td>\n",
       "      <td>[Clinical Finding, Clinical Finding, Clinical Finding, Clinical Finding, Clinical Finding, Clinical Finding, Context-dependent, Context-dependent, Clinical Finding, Context-dependent, Context-dependent, Clinical Finding, Clinical Finding, Procedure, Clinical Finding, Clinical Finding, Clinical Finding]</td>\n",
       "    </tr>\n",
       "  </tbody>\n",
       "</table>\n",
       "</div>"
      ],
      "text/plain": [
       "          chunks  begin  end      code  \\\n",
       "0  schizophrenia  0      12   58214004   \n",
       "\n",
       "                                                                                                                                                                             all_codes  \\\n",
       "0  [58214004, 83746006, 191567000, 191529003, 16990005, 35252006, 137730004, 160328009, 64905009, 161468000, 138739000, 191526005, 12939007, 76834001, 154868009, 76839006, 191542003]   \n",
       "\n",
       "                                                                                                                                                                                                                                                                                                                                                                                                                 resolutions  \\\n",
       "0  [schizophrenia, chronic schizophrenia, schizoaffective schizophrenia, subchronic schizophrenia, subchronic schizophrenia, disorganized schizophrenia, fh: schizophrenia, fh: schizophrenia, paraphrenic schizophrenia, h/o: schizophrenia, h/o: schizophrenia, schizophrenic disorders, chronic disorganised schizophrenia, retired procedure, catatonic schizophrenia, catatonic schizophrenia, catatonic schizophrenia]   \n",
       "\n",
       "                                                                                                                              all_distances  \\\n",
       "0  [0.0000, 0.0387, 0.0481, 0.0498, 0.0498, 0.0532, 0.0597, 0.0597, 0.0663, 0.0653, 0.0653, 0.0662, 0.0683, 0.0694, 0.0694, 0.0694, 0.0694]   \n",
       "\n",
       "                                                                                                                                                                                                                                                                                                                                                                                                                       gt  \\\n",
       "0  [Schizophrenia, Chronic schizophrenia, Schizoaffective schizophrenia, Subchronic schizophrenia, Subchronic schizophrenia, Disorganized schizophrenia, FH: Schizophrenia, FH: Schizophrenia, Paranoid schizophrenia, H/O: schizophrenia, H/O: schizophrenia, Schizophrenic disorders, Chronic disorganized schizophrenia, Retired procedure, Catatonic schizophrenia, Catatonic schizophrenia, Catatonic schizophrenia]   \n",
       "\n",
       "                                                                                                                                                                                               concept  \\\n",
       "0  [Condition, Condition, Condition, Condition, Condition, Condition, Observation, Observation, Condition, Observation, Observation, Condition, Condition, Procedure, Condition, Condition, Condition]   \n",
       "\n",
       "                                                                                                                                                                                                                                                                                                               aux  \n",
       "0  [Clinical Finding, Clinical Finding, Clinical Finding, Clinical Finding, Clinical Finding, Clinical Finding, Context-dependent, Context-dependent, Clinical Finding, Context-dependent, Context-dependent, Clinical Finding, Clinical Finding, Procedure, Clinical Finding, Clinical Finding, Clinical Finding]  "
      ]
     },
     "execution_count": 23,
     "metadata": {
      "tags": []
     },
     "output_type": "execute_result"
    }
   ],
   "source": [
    "text = 'schizophrenia'\n",
    "\n",
    "%time get_codes (snomed_lp, text, vocab='snomed_code', aux_label=True)"
   ]
  },
  {
   "cell_type": "code",
   "execution_count": null,
   "metadata": {
    "colab": {
     "base_uri": "https://localhost:8080/",
     "height": 369
    },
    "executionInfo": {
     "elapsed": 7200,
     "status": "ok",
     "timestamp": 1638483448557,
     "user": {
      "displayName": "Ahmet Emin Tek",
      "photoUrl": "https://lh3.googleusercontent.com/a/default-user=s64",
      "userId": "14855809472179427810"
     },
     "user_tz": -180
    },
    "id": "Qt1VGrFrNxbq",
    "outputId": "822eeff4-22e1-41f9-c733-4b1ddc1b1b8a",
    "scrolled": false
   },
   "outputs": [
    {
     "name": "stdout",
     "output_type": "stream",
     "text": [
      "CPU times: user 50.4 ms, sys: 15.1 ms, total: 65.5 ms\n",
      "Wall time: 6.89 s\n"
     ]
    },
    {
     "data": {
      "text/html": [
       "<div>\n",
       "<style scoped>\n",
       "    .dataframe tbody tr th:only-of-type {\n",
       "        vertical-align: middle;\n",
       "    }\n",
       "\n",
       "    .dataframe tbody tr th {\n",
       "        vertical-align: top;\n",
       "    }\n",
       "\n",
       "    .dataframe thead th {\n",
       "        text-align: right;\n",
       "    }\n",
       "</style>\n",
       "<table border=\"1\" class=\"dataframe\">\n",
       "  <thead>\n",
       "    <tr style=\"text-align: right;\">\n",
       "      <th></th>\n",
       "      <th>chunks</th>\n",
       "      <th>begin</th>\n",
       "      <th>end</th>\n",
       "      <th>code</th>\n",
       "      <th>all_codes</th>\n",
       "      <th>resolutions</th>\n",
       "      <th>all_distances</th>\n",
       "    </tr>\n",
       "  </thead>\n",
       "  <tbody>\n",
       "    <tr>\n",
       "      <th>0</th>\n",
       "      <td>FLT3 gene mutation analysis</td>\n",
       "      <td>0</td>\n",
       "      <td>26</td>\n",
       "      <td>LP228450-5</td>\n",
       "      <td>[LP228450-5, LP310331-6, LP228432-3, LP228446-3, LP228445-5, LP229390-2, LP228738-3, LP229796-0, LP229155-9, LP228431-5, LP229833-1, LP228570-0, LP229609-5, LP227517-2, 92843-2, LP229667-3, LP228546-0, LP228828-2, LP229608-7, LP228488-5, LP228434-9, LP228430-7, LP228825-8, LP228479-4]</td>\n",
       "      <td>[flt3 gene targeted mutation analysis, flt3 gene p.asp835 mutations, fgfr3 gene targeted mutation analysis, flna gene targeted mutation analysis, flcn gene targeted mutation analysis, pou3f4 gene targeted mutation analysis, itgb3 gene targeted mutation analysis, tgfb3 gene targeted mutation analysis, opa3 gene targeted mutation analysis, fgfr3 gene mutations tested for, traf3 gene targeted mutation analysis, gpc3 gene targeted mutation analysis, sh3tc2 gene targeted mutation analysis, abca3 gene targeted mutation analysis,  flt3 p.d835 mutations, spg3a gene targeted mutation analysis, gjb3 gene targeted mutation analysis, lamb3 gene targeted mutation analysis, sh3bp2 gene targeted mutation analysis, fxn gene targeted mutation analysis, fh gene targeted mutation analysis, fgfr2 gene+fgfr3 gene targeted mutation analysis, lama3 gene targeted mutation analysis, fshd gene targeted mutation analysis]</td>\n",
       "      <td>[0.0354, 0.1032, 0.1021, 0.1111, 0.1135, 0.1258, 0.1249, 0.1285, 0.1255, 0.1316, 0.1287, 0.1328, 0.1346, 0.1315, 0.1358, 0.1351, 0.1352, 0.1339, 0.1390, 0.1347, 0.1318, 0.1387, 0.1362, 0.1360]</td>\n",
       "    </tr>\n",
       "  </tbody>\n",
       "</table>\n",
       "</div>"
      ],
      "text/plain": [
       "                        chunks  ...                                                                                                                                                                                     all_distances\n",
       "0  FLT3 gene mutation analysis  ...  [0.0354, 0.1032, 0.1021, 0.1111, 0.1135, 0.1258, 0.1249, 0.1285, 0.1255, 0.1316, 0.1287, 0.1328, 0.1346, 0.1315, 0.1358, 0.1351, 0.1352, 0.1339, 0.1390, 0.1347, 0.1318, 0.1387, 0.1362, 0.1360]\n",
       "\n",
       "[1 rows x 7 columns]"
      ]
     },
     "execution_count": 7,
     "metadata": {},
     "output_type": "execute_result"
    }
   ],
   "source": [
    "text = 'FLT3 gene mutation analysis'\n",
    "\n",
    "%time get_codes (loinc_lp, text, vocab='loinc_code')"
   ]
  },
  {
   "cell_type": "code",
   "execution_count": null,
   "metadata": {
    "colab": {
     "base_uri": "https://localhost:8080/",
     "height": 301
    },
    "executionInfo": {
     "elapsed": 1542,
     "status": "ok",
     "timestamp": 1638483459219,
     "user": {
      "displayName": "Ahmet Emin Tek",
      "photoUrl": "https://lh3.googleusercontent.com/a/default-user=s64",
      "userId": "14855809472179427810"
     },
     "user_tz": -180
    },
    "id": "gNqOfmMiNxbr",
    "outputId": "e97877ba-75bc-4ce5-cac8-803ea65d76ec",
    "scrolled": false
   },
   "outputs": [
    {
     "name": "stdout",
     "output_type": "stream",
     "text": [
      "CPU times: user 13.8 ms, sys: 5.01 ms, total: 18.8 ms\n",
      "Wall time: 1.23 s\n"
     ]
    },
    {
     "data": {
      "text/html": [
       "<div>\n",
       "<style scoped>\n",
       "    .dataframe tbody tr th:only-of-type {\n",
       "        vertical-align: middle;\n",
       "    }\n",
       "\n",
       "    .dataframe tbody tr th {\n",
       "        vertical-align: top;\n",
       "    }\n",
       "\n",
       "    .dataframe thead th {\n",
       "        text-align: right;\n",
       "    }\n",
       "</style>\n",
       "<table border=\"1\" class=\"dataframe\">\n",
       "  <thead>\n",
       "    <tr style=\"text-align: right;\">\n",
       "      <th></th>\n",
       "      <th>chunks</th>\n",
       "      <th>begin</th>\n",
       "      <th>end</th>\n",
       "      <th>code</th>\n",
       "      <th>all_codes</th>\n",
       "      <th>resolutions</th>\n",
       "      <th>all_distances</th>\n",
       "    </tr>\n",
       "  </thead>\n",
       "  <tbody>\n",
       "    <tr>\n",
       "      <th>0</th>\n",
       "      <td>Hematocrit</td>\n",
       "      <td>0</td>\n",
       "      <td>9</td>\n",
       "      <td>LP15101-6</td>\n",
       "      <td>[LP15101-6, LP308151-2, 32354-3, 20570-8, 11153-4, LP74090-9, 13508-7, %{of'HGB}, 42908-4, LP29006-1, 11559-2, 71832-0, LP16437-3, LP14449-0, 41654-5, LP35956-9, 41986-1, LP16428-2, 48703-3, 71828-8, 55103-6, 8478-0, 41655-2, LP30931-7]</td>\n",
       "      <td>[hematocrit, hematocrit/hemoglobin, hematocrit [volume fraction] of arterial blood, hematocrit [volume fraction] of blood, hematocrit [volume fraction] of body fluid, hematocrit test status,  microhematocrit, percent hemoglobin, hematocrit [volume fraction] of capillary blood, blood volume,  fractional hemoglobin, hematocrit [pure volume fraction] of arterial blood, hemoglobin i, hemoglobin, hematocrit [volume fraction] of venous blood, hematocrit test status/results,  hematocrit test status/results, hemoglobin f, hematocrit [volume fraction] of blood by estimated, hematocrit [pure volume fraction] of body fluid,  blood output, mean blood pressure, hematocrit [volume fraction] of mixed venous blood, hemoglobin m]</td>\n",
       "      <td>[0.0000, 0.0506, 0.0590, 0.0625, 0.0675, 0.0740, 0.0737, 0.0996, 0.1035, 0.1010, 0.1060, 0.1075, 0.1082, 0.1122, 0.1139, 0.1162, 0.1162, 0.1166, 0.1196, 0.1194, 0.1167, 0.1193, 0.1245, 0.1245]</td>\n",
       "    </tr>\n",
       "  </tbody>\n",
       "</table>\n",
       "</div>"
      ],
      "text/plain": [
       "       chunks  ...                                                                                                                                                                                     all_distances\n",
       "0  Hematocrit  ...  [0.0000, 0.0506, 0.0590, 0.0625, 0.0675, 0.0740, 0.0737, 0.0996, 0.1035, 0.1010, 0.1060, 0.1075, 0.1082, 0.1122, 0.1139, 0.1162, 0.1162, 0.1166, 0.1196, 0.1194, 0.1167, 0.1193, 0.1245, 0.1245]\n",
       "\n",
       "[1 rows x 7 columns]"
      ]
     },
     "execution_count": 8,
     "metadata": {},
     "output_type": "execute_result"
    }
   ],
   "source": [
    "text = 'Hematocrit'\n",
    "\n",
    "%time get_codes (loinc_lp, text, vocab='loinc_code')"
   ]
  },
  {
   "cell_type": "code",
   "execution_count": null,
   "metadata": {
    "id": "LWS4K0Z0Nxbr",
    "outputId": "bfedb351-bb24-4fc3-ca77-91f37de44a1e",
    "scrolled": true
   },
   "outputs": [
    {
     "name": "stdout",
     "output_type": "stream",
     "text": [
      "CPU times: user 8.7 ms, sys: 9.88 ms, total: 18.6 ms\n",
      "Wall time: 194 ms\n"
     ]
    },
    {
     "data": {
      "text/html": [
       "<div>\n",
       "<style scoped>\n",
       "    .dataframe tbody tr th:only-of-type {\n",
       "        vertical-align: middle;\n",
       "    }\n",
       "\n",
       "    .dataframe tbody tr th {\n",
       "        vertical-align: top;\n",
       "    }\n",
       "\n",
       "    .dataframe thead th {\n",
       "        text-align: right;\n",
       "    }\n",
       "</style>\n",
       "<table border=\"1\" class=\"dataframe\">\n",
       "  <thead>\n",
       "    <tr style=\"text-align: right;\">\n",
       "      <th></th>\n",
       "      <th>chunks</th>\n",
       "      <th>begin</th>\n",
       "      <th>end</th>\n",
       "      <th>code</th>\n",
       "      <th>all_codes</th>\n",
       "      <th>resolutions</th>\n",
       "      <th>all_distances</th>\n",
       "    </tr>\n",
       "  </thead>\n",
       "  <tbody>\n",
       "    <tr>\n",
       "      <th>0</th>\n",
       "      <td>urine test</td>\n",
       "      <td>0</td>\n",
       "      <td>9</td>\n",
       "      <td>80334-6</td>\n",
       "      <td>[80334-6, 18729-4, 9189-2, 9191-8, 9192-6, 9190-0, 9193-4, 9187-6, 80523-4, 9188-4, 50564-4, 46903-1, 46924-7, 46942-9, 9195-9, 11279-7, 9197-5, 19159-3, 80332-0, 46944-5, 46926-2, 46905-6, 9044-9, 80522-6, 81323-8]</td>\n",
       "      <td>[Urine collection device, Urinalysis studies, Fluid output.urine, Fluid output.urine, Fluid output.urine, Fluid output.urine, Fluid output.urine, Fluid output.urine, Fluid output.urine, Fluid output.urine, Urinalysis panel, Urinary function.behavior, Urinary function.behavior, Urinary function.behavior, Fluid output.urine in and out urethral catheter, Urine sediment comments, Fluid output.urine^post void, Urinalysis specimen collection method, Voiding pattern, Urinary function.status, Urinary function.status, Urinary function.status, Urinary bladder irrigation tube site, Urine flow.mean, Urine collection associated observations panel]</td>\n",
       "      <td>[0.0797, 0.0839, 0.1115, 0.1115, 0.1115, 0.1115, 0.1115, 0.1115, 0.1115, 0.1115, 0.1183, 0.1221, 0.1221, 0.1221, 0.1328, 0.1369, 0.1376, 0.1380, 0.1379, 0.1367, 0.1367, 0.1367, 0.1412, 0.1454, 0.1552]</td>\n",
       "    </tr>\n",
       "  </tbody>\n",
       "</table>\n",
       "</div>"
      ],
      "text/plain": [
       "       chunks  begin  end     code  \\\n",
       "0  urine test  0      9    80334-6   \n",
       "\n",
       "                                                                                                                                                                                                                 all_codes  \\\n",
       "0  [80334-6, 18729-4, 9189-2, 9191-8, 9192-6, 9190-0, 9193-4, 9187-6, 80523-4, 9188-4, 50564-4, 46903-1, 46924-7, 46942-9, 9195-9, 11279-7, 9197-5, 19159-3, 80332-0, 46944-5, 46926-2, 46905-6, 9044-9, 80522-6, 81323-8]   \n",
       "\n",
       "                                                                                                                                                                                                                                                                                                                                                                                                                                                                                                                                                                                                                                                          resolutions  \\\n",
       "0  [Urine collection device, Urinalysis studies, Fluid output.urine, Fluid output.urine, Fluid output.urine, Fluid output.urine, Fluid output.urine, Fluid output.urine, Fluid output.urine, Fluid output.urine, Urinalysis panel, Urinary function.behavior, Urinary function.behavior, Urinary function.behavior, Fluid output.urine in and out urethral catheter, Urine sediment comments, Fluid output.urine^post void, Urinalysis specimen collection method, Voiding pattern, Urinary function.status, Urinary function.status, Urinary function.status, Urinary bladder irrigation tube site, Urine flow.mean, Urine collection associated observations panel]   \n",
       "\n",
       "                                                                                                                                                                                              all_distances  \n",
       "0  [0.0797, 0.0839, 0.1115, 0.1115, 0.1115, 0.1115, 0.1115, 0.1115, 0.1115, 0.1115, 0.1183, 0.1221, 0.1221, 0.1221, 0.1328, 0.1369, 0.1376, 0.1380, 0.1379, 0.1367, 0.1367, 0.1367, 0.1412, 0.1454, 0.1552]  "
      ]
     },
     "execution_count": 20,
     "metadata": {
      "tags": []
     },
     "output_type": "execute_result"
    }
   ],
   "source": [
    "text = 'urine test'\n",
    "\n",
    "%time get_codes (loinc_lp, text, vocab='loinc_code')"
   ]
  },
  {
   "cell_type": "code",
   "execution_count": 14,
   "metadata": {
    "colab": {
     "base_uri": "https://localhost:8080/",
     "height": 760
    },
    "executionInfo": {
     "elapsed": 317,
     "status": "ok",
     "timestamp": 1638525792204,
     "user": {
      "displayName": "Ahmet Emin Tek",
      "photoUrl": "https://lh3.googleusercontent.com/a/default-user=s64",
      "userId": "14855809472179427810"
     },
     "user_tz": -180
    },
    "id": "soOf8-efu-kW",
    "outputId": "d398df10-0138-4adf-b3a7-96e162cd7311"
   },
   "outputs": [
    {
     "name": "stdout",
     "output_type": "stream",
     "text": [
      "CPU times: user 11.8 ms, sys: 1.87 ms, total: 13.6 ms\n",
      "Wall time: 299 ms\n"
     ]
    },
    {
     "data": {
      "text/html": [
       "<div>\n",
       "<style scoped>\n",
       "    .dataframe tbody tr th:only-of-type {\n",
       "        vertical-align: middle;\n",
       "    }\n",
       "\n",
       "    .dataframe tbody tr th {\n",
       "        vertical-align: top;\n",
       "    }\n",
       "\n",
       "    .dataframe thead th {\n",
       "        text-align: right;\n",
       "    }\n",
       "</style>\n",
       "<table border=\"1\" class=\"dataframe\">\n",
       "  <thead>\n",
       "    <tr style=\"text-align: right;\">\n",
       "      <th></th>\n",
       "      <th>chunks</th>\n",
       "      <th>begin</th>\n",
       "      <th>end</th>\n",
       "      <th>code</th>\n",
       "      <th>all_codes</th>\n",
       "      <th>resolutions</th>\n",
       "      <th>all_distances</th>\n",
       "    </tr>\n",
       "  </thead>\n",
       "  <tbody>\n",
       "    <tr>\n",
       "      <th>0</th>\n",
       "      <td>Breast prosthesis, mastectomy bra, with integrated breast prosthesis form, unilateral, any size, any type</td>\n",
       "      <td>0</td>\n",
       "      <td>104</td>\n",
       "      <td>L8001</td>\n",
       "      <td>[L8001, L8002, L8000, L8033, L8032, L8020, S8080, G9071, L8010, G9131, S2068, S2067, S2066, G9073, G9072, G9075, K1005, G9074, L8031, L8015, E0602, L8600, E0604, G9114, L8030]</td>\n",
       "      <td>[Breast prosthesis, mastectomy bra, with integrated breast prosthesis form, unilateral, any size, any type, Breast prosthesis, mastectomy bra, with integrated breast prosthesis form, bilateral, any size, any type, Breast prosthesis, mastectomy bra, without integrated breast prosthesis form, any size, any type, Nipple prosthesis, custom fabricated, reusable, any material, any type, each, Nipple prosthesis, prefabricated, reusable, any type, each, Breast prosthesis, mastectomy form, Scintimammography (radioimmunoscintigraphy of the breast), unilateral, including supply of radiopharmaceutical, Oncology; disease status; invasive female breast cancer (does not include ductal carcinoma in situ); adenocarcinoma as predominant cell type; stage i or stage iia-iib; or t3, n1, m0; and er and/or pr positive; with no evidence of disease progression, r..., Breast prosthesis, mastectomy sleeve, Oncology; disease status; invasive female breast cancer (does not include ductal carcinoma in situ); adenocarcinoma as predominant cell type; extent of disease unknown, staging in progress, or not listed (for use in a medicare-approved demonstration pr..., Breast reconstruction with deep inferior epigastric perforator (diep) flap or superficial inferior epigastric artery (siea) flap, including harvesting of the flap, microvascular transfer, closure of donor site and shaping the flap into a breast, unilat..., Breast reconstruction of a single breast with \"stacked\" deep inferior epigastric perforator (diep) flap(s) and/or gluteal artery perforator (gap) flap(s), including harvesting of the flap(s), microvascular transfer, closure of donor site(s) and shaping..., Breast reconstruction with gluteal artery perforator (gap) flap, including harvesting of the flap, microvascular transfer, closure of donor site and shaping the flap into a breast, unilateral, Oncology; disease status; invasive female breast cancer (does not include ductal carcinoma in situ); adenocarcinoma as predominant cell type; stage iiia-iiib; and not t3, n1, m0; and er and/or pr positive; with no evidence of disease progression, recur..., Oncology; disease status; invasive female breast cancer (does not include ductal carcinoma in situ); adenocarcinoma as predominant cell type; stage i, or stage iia-iib; or t3, n1, m0; and er and pr negative; with no evidence of disease progression, rec..., Oncology; disease status; invasive female breast cancer (does not include ductal carcinoma in situ); adenocarcinoma as predominant cell type; m1 at diagnosis, metastatic, locally recurrent, or progressive (for use in a medicare-approved demonstration p..., Disposable collection and storage bag for breast milk, any size, any type, each, Oncology; disease status; invasive female breast cancer (does not include ductal carcinoma in situ); adenocarcinoma as predominant cell type; stage iiia-iiib; and not t3, n1, m0; and er and pr negative; with no evidence of disease progression, recurren..., Breast prosthesis, silicone or equal, with integral adhesive, External breast prosthesis garment, with mastectomy form, post mastectomy, Breast pump, manual, any type, Implantable breast prosthesis, silicone or equal, Breast pump, hospital grade, electric (ac and / or dc), any type, Oncology; disease status; ovarian cancer, limited to epithelial cancer; pathologic stage ia-b (grade 2-3); or stage ic (all grades); or stage ii; without evidence of disease progression, recurrence, or metastases (for use in a medicare-approved demonst..., Breast prosthesis, silicone or equal, without integral adhesive]</td>\n",
       "      <td>[0.0000, 0.1269, 0.1572, 0.1733, 0.1818, 0.1990, 0.2050, 0.2146, 0.2148, 0.2203, 0.2212, 0.2206, 0.2232, 0.2294, 0.2268, 0.2390, 0.2276, 0.2411, 0.2456, 0.2564, 0.2478, 0.2531, 0.2573, 0.2675, 0.2606]</td>\n",
       "    </tr>\n",
       "  </tbody>\n",
       "</table>\n",
       "</div>"
      ],
      "text/plain": [
       "                                                                                                      chunks  ...                                                                                                                                                                                             all_distances\n",
       "0  Breast prosthesis, mastectomy bra, with integrated breast prosthesis form, unilateral, any size, any type  ...  [0.0000, 0.1269, 0.1572, 0.1733, 0.1818, 0.1990, 0.2050, 0.2146, 0.2148, 0.2203, 0.2212, 0.2206, 0.2232, 0.2294, 0.2268, 0.2390, 0.2276, 0.2411, 0.2456, 0.2564, 0.2478, 0.2531, 0.2573, 0.2675, 0.2606]\n",
       "\n",
       "[1 rows x 7 columns]"
      ]
     },
     "execution_count": 14,
     "metadata": {},
     "output_type": "execute_result"
    }
   ],
   "source": [
    "text = [\"Breast prosthesis, mastectomy bra, with integrated breast prosthesis form, unilateral, any size, any type\"]\n",
    "\n",
    "%time get_codes (hcpcs_lp, text, vocab='hcpcs_code')"
   ]
  },
  {
   "cell_type": "code",
   "execution_count": 19,
   "metadata": {
    "colab": {
     "base_uri": "https://localhost:8080/",
     "height": 760
    },
    "executionInfo": {
     "elapsed": 743,
     "status": "ok",
     "timestamp": 1638526688481,
     "user": {
      "displayName": "Ahmet Emin Tek",
      "photoUrl": "https://lh3.googleusercontent.com/a/default-user=s64",
      "userId": "14855809472179427810"
     },
     "user_tz": -180
    },
    "id": "QAzSyqCvwImR",
    "outputId": "9a0468c2-206d-4e4c-d7c6-a4b8b2d3784b"
   },
   "outputs": [
    {
     "name": "stdout",
     "output_type": "stream",
     "text": [
      "CPU times: user 11.3 ms, sys: 2.24 ms, total: 13.6 ms\n",
      "Wall time: 238 ms\n"
     ]
    },
    {
     "data": {
      "text/html": [
       "<div>\n",
       "<style scoped>\n",
       "    .dataframe tbody tr th:only-of-type {\n",
       "        vertical-align: middle;\n",
       "    }\n",
       "\n",
       "    .dataframe tbody tr th {\n",
       "        vertical-align: top;\n",
       "    }\n",
       "\n",
       "    .dataframe thead th {\n",
       "        text-align: right;\n",
       "    }\n",
       "</style>\n",
       "<table border=\"1\" class=\"dataframe\">\n",
       "  <thead>\n",
       "    <tr style=\"text-align: right;\">\n",
       "      <th></th>\n",
       "      <th>chunks</th>\n",
       "      <th>begin</th>\n",
       "      <th>end</th>\n",
       "      <th>code</th>\n",
       "      <th>all_codes</th>\n",
       "      <th>resolutions</th>\n",
       "      <th>all_distances</th>\n",
       "    </tr>\n",
       "  </thead>\n",
       "  <tbody>\n",
       "    <tr>\n",
       "      <th>0</th>\n",
       "      <td>Dietary consultation for carbohydrate counting for type I diabetes.</td>\n",
       "      <td>0</td>\n",
       "      <td>66</td>\n",
       "      <td>S9465</td>\n",
       "      <td>[S9465, S9434, S9460, E0787, G0246, G8777, S9435, G0245, B4157, B5200, B4162, G8725, G8485, B4155, B4149, G0343, A4236, S9470, B5100, A4234, G9147, A4235, B5000, G0342, S9455]</td>\n",
       "      <td>[Diabetic management program, dietitian visit, Modified solid food supplements for inborn errors of metabolism, Diabetic management program, nurse visit, External ambulatory infusion pump, insulin, dosage rate adjustment using therapeutic continuous glucose sensing, Follow-up physician evaluation and management of a diabetic patient with diabetic sensory neuropathy resulting in a loss of protective sensation (lops) to include at least the following: (1) a patient history, (2) a physical examination that includes:..., Diabetes screening test performed, Medical foods for inborn errors of metabolism, Initial physician evaluation and management of a diabetic patient with diabetic sensory neuropathy resulting in a loss of protective sensation (lops) which must include: (1) the diagnosis of lops, (2) a patient history, (3) a physical examination that..., Enteral formula, nutritionally complete, for special metabolic needs for inherited disease of metabolism, includes proteins, fats, carbohydrates, vitamins and minerals, may include fiber, administered through an enteral feeding tube, 100 calories = 1 unit, Parenteral nutrition solution compounded amino acid and carbohydrates with electrolytes, trace elements, and vitamins, including preparation, any strength, stress-branch chain amino acids-freamine-hbc-premix, Enteral formula, for pediatrics, special metabolic needs for inherited disease of metabolism, includes proteins, fats, carbohydrates, vitamins and minerals, may include fiber, administered through an enteral feeding tube, 100 calories = 1 unit, Fasting lipid profile performed (triglycerides, ldl-c, hdl-c and total cholesterol), I intend to report the diabetes mellitus (dm) measures group, Enteral formula, nutritionally incomplete/modular nutrients, includes specific nutrients, carbohydrates (e.g., glucose polymers), proteins/amino acids (e.g., glutamine, arginine), fat (e.g., medium chain triglycerides) or combination, administered thro..., Enteral formula, manufactured blenderized natural foods with intact nutrients, includes proteins, fats, carbohydrates, vitamins and minerals, may include fiber, administered through an enteral feeding tube, 100 calories = 1 unit, Laparotomy for islet cell transplant, includes portal vein catheterization and infusion, Replacement battery, silver oxide, for use with medically necessary home blood glucose monitor owned by patient, each, Nutritional counseling, dietitian visit, Parenteral nutrition solution compounded amino acid and carbohydrates with electrolytes, trace elements, and vitamins, including preparation, any strength, hepatic, hepatamine-premix, Replacement battery, alkaline, j cell, for use with medically necessary home blood glucose monitor owned by patient, each, Outpatient intravenous insulin treatment (oivit) either pulsatile or continuous, by any means, guided by the results of measurements for: respiratory quotient; and/or, urine urea nitrogen (uun); and/or, arterial, venous or capillary glucose; and/or pot..., Replacement battery, lithium, for use with medically necessary home blood glucose monitor owned by patient, each, Parenteral nutrition solution compounded amino acid and carbohydrates with electrolytes, trace elements, and vitamins, including preparation, any strength, renal-aminosyn-rf, nephramine, renamine-premix, Laparoscopy for islet cell transplant, includes portal vein catheterization and infusion, Diabetic management program, group session]</td>\n",
       "      <td>[0.2426, 0.3054, 0.3147, 0.3332, 0.3361, 0.3201, 0.3398, 0.3528, 0.3355, 0.3480, 0.3399, 0.3615, 0.3432, 0.3561, 0.3535, 0.3669, 0.3641, 0.3510, 0.3661, 0.3631, 0.3738, 0.3677, 0.3712, 0.3795, 0.3816]</td>\n",
       "    </tr>\n",
       "  </tbody>\n",
       "</table>\n",
       "</div>"
      ],
      "text/plain": [
       "                                                                chunks  ...                                                                                                                                                                                             all_distances\n",
       "0  Dietary consultation for carbohydrate counting for type I diabetes.  ...  [0.2426, 0.3054, 0.3147, 0.3332, 0.3361, 0.3201, 0.3398, 0.3528, 0.3355, 0.3480, 0.3399, 0.3615, 0.3432, 0.3561, 0.3535, 0.3669, 0.3641, 0.3510, 0.3661, 0.3631, 0.3738, 0.3677, 0.3712, 0.3795, 0.3816]\n",
       "\n",
       "[1 rows x 7 columns]"
      ]
     },
     "execution_count": 19,
     "metadata": {},
     "output_type": "execute_result"
    }
   ],
   "source": [
    "text= [\"Dietary consultation for carbohydrate counting for type I diabetes.\"]\n",
    "%time get_codes (hcpcs_lp, text, vocab='hcpcs_code')"
   ]
  },
  {
   "cell_type": "code",
   "execution_count": 23,
   "metadata": {
    "colab": {
     "base_uri": "https://localhost:8080/",
     "height": 522
    },
    "executionInfo": {
     "elapsed": 253,
     "status": "ok",
     "timestamp": 1638526973094,
     "user": {
      "displayName": "Ahmet Emin Tek",
      "photoUrl": "https://lh3.googleusercontent.com/a/default-user=s64",
      "userId": "14855809472179427810"
     },
     "user_tz": -180
    },
    "id": "mihMWHKPzYLR",
    "outputId": "78a826c0-66ad-49c3-d891-7f025d9cf55c"
   },
   "outputs": [
    {
     "name": "stdout",
     "output_type": "stream",
     "text": [
      "CPU times: user 13.8 ms, sys: 3.89 ms, total: 17.7 ms\n",
      "Wall time: 218 ms\n"
     ]
    },
    {
     "data": {
      "text/html": [
       "<div>\n",
       "<style scoped>\n",
       "    .dataframe tbody tr th:only-of-type {\n",
       "        vertical-align: middle;\n",
       "    }\n",
       "\n",
       "    .dataframe tbody tr th {\n",
       "        vertical-align: top;\n",
       "    }\n",
       "\n",
       "    .dataframe thead th {\n",
       "        text-align: right;\n",
       "    }\n",
       "</style>\n",
       "<table border=\"1\" class=\"dataframe\">\n",
       "  <thead>\n",
       "    <tr style=\"text-align: right;\">\n",
       "      <th></th>\n",
       "      <th>chunks</th>\n",
       "      <th>begin</th>\n",
       "      <th>end</th>\n",
       "      <th>code</th>\n",
       "      <th>all_codes</th>\n",
       "      <th>resolutions</th>\n",
       "      <th>all_distances</th>\n",
       "    </tr>\n",
       "  </thead>\n",
       "  <tbody>\n",
       "    <tr>\n",
       "      <th>0</th>\n",
       "      <td>Psychiatric consultation for alcohol withdrawal and dependance.</td>\n",
       "      <td>0</td>\n",
       "      <td>62</td>\n",
       "      <td>H0010</td>\n",
       "      <td>[H0010, H0011, H0007, H0012, H0013, H0008, T1006, G9621, H0009, S9485, H2036, H0005, G8959, H2034, H0014, H0006, H2018, T1007, H0022, H2031, G2121, T1012, G9584, H2013, H0021]</td>\n",
       "      <td>[Alcohol and/or drug services; sub-acute detoxification (residential addiction program inpatient), Alcohol and/or drug services; acute detoxification (residential addiction program inpatient), Alcohol and/or drug services; crisis intervention (outpatient), Alcohol and/or drug services; sub-acute detoxification (residential addiction program outpatient), Alcohol and/or drug services; acute detoxification (residential addiction program outpatient), Alcohol and/or drug services; sub-acute detoxification (hospital inpatient), Alcohol and/or substance abuse services, family/couple counseling, Patient identified as an unhealthy alcohol user when screened for unhealthy alcohol use using a systematic screening method and received brief counseling, Alcohol and/or drug services; acute detoxification (hospital inpatient), Crisis intervention mental health services, per diem, Alcohol and/or other drug treatment program, per diem, Alcohol and/or drug services; group counseling by a clinician, Clinician treating major depressive disorder communicates to clinician treating comorbid condition, Alcohol and/or drug abuse halfway house services, per diem, Alcohol and/or drug services; ambulatory detoxification, Alcohol and/or drug services; case management, Psychosocial rehabilitation services, per diem, Alcohol and/or substance abuse services, treatment plan development and/or modification, Alcohol and/or drug intervention service (planned facilitation), Mental health clubhouse services, per diem, Psychosis, depression, anxiety, apathy, and impulse control disorder assessed, Alcohol and/or substance abuse services, skills development, Patient evaluated for risk of misuse of opiates by using a brief validated instrument (e.g., opioid risk tool, soapp-r) or patient interviewed at least once during opioid therapy, Psychiatric health facility service, per diem, Alcohol and/or drug training service (for staff and personnel not employed by providers)]</td>\n",
       "      <td>[0.1938, 0.2086, 0.2104, 0.2134, 0.2177, 0.2423, 0.2430, 0.2509, 0.2554, 0.2716, 0.2658, 0.2695, 0.2716, 0.2755, 0.2933, 0.2799, 0.3020, 0.2915, 0.2985, 0.3063, 0.3060, 0.3053, 0.3191, 0.3205, 0.3181]</td>\n",
       "    </tr>\n",
       "  </tbody>\n",
       "</table>\n",
       "</div>"
      ],
      "text/plain": [
       "                                                            chunks  ...                                                                                                                                                                                             all_distances\n",
       "0  Psychiatric consultation for alcohol withdrawal and dependance.  ...  [0.1938, 0.2086, 0.2104, 0.2134, 0.2177, 0.2423, 0.2430, 0.2509, 0.2554, 0.2716, 0.2658, 0.2695, 0.2716, 0.2755, 0.2933, 0.2799, 0.3020, 0.2915, 0.2985, 0.3063, 0.3060, 0.3053, 0.3191, 0.3205, 0.3181]\n",
       "\n",
       "[1 rows x 7 columns]"
      ]
     },
     "execution_count": 23,
     "metadata": {},
     "output_type": "execute_result"
    }
   ],
   "source": [
    "text= [\"Psychiatric consultation for alcohol withdrawal and dependance.\"]\n",
    "%time get_codes (hcpcs_lp, text, vocab='hcpcs_code')"
   ]
  },
  {
   "cell_type": "code",
   "execution_count": null,
   "metadata": {
    "id": "KP61MYfRNxbs",
    "outputId": "d936caca-962e-4b61-b62a-15682cfd833e",
    "scrolled": true
   },
   "outputs": [
    {
     "name": "stdout",
     "output_type": "stream",
     "text": [
      "CPU times: user 8.44 ms, sys: 6.05 ms, total: 14.5 ms\n",
      "Wall time: 470 ms\n"
     ]
    },
    {
     "data": {
      "text/html": [
       "<div>\n",
       "<style scoped>\n",
       "    .dataframe tbody tr th:only-of-type {\n",
       "        vertical-align: middle;\n",
       "    }\n",
       "\n",
       "    .dataframe tbody tr th {\n",
       "        vertical-align: top;\n",
       "    }\n",
       "\n",
       "    .dataframe thead th {\n",
       "        text-align: right;\n",
       "    }\n",
       "</style>\n",
       "<table border=\"1\" class=\"dataframe\">\n",
       "  <thead>\n",
       "    <tr style=\"text-align: right;\">\n",
       "      <th></th>\n",
       "      <th>chunks</th>\n",
       "      <th>begin</th>\n",
       "      <th>end</th>\n",
       "      <th>code</th>\n",
       "      <th>all_codes</th>\n",
       "      <th>resolutions</th>\n",
       "      <th>all_distances</th>\n",
       "    </tr>\n",
       "  </thead>\n",
       "  <tbody>\n",
       "    <tr>\n",
       "      <th>0</th>\n",
       "      <td>X-Ray</td>\n",
       "      <td>0</td>\n",
       "      <td>4</td>\n",
       "      <td>C0043303</td>\n",
       "      <td>[C0043303, C0182605, C0184486, C0183264, C0221564, C0183263, C3880096, C3878814, C3874200, C0000766, C0750687, C3880545, C3873785]</td>\n",
       "      <td>[x-ray film, x-ray machine, x-ray tubes, x-ray aprons, specific x-ray findings, x-ray shield, device, x-ray system tube (physical object), x-ray image intensifier (physical object), cephalometric x-ray system (physical object), x-ray abnormal, cabinet,x-ray system, x-ray system cover (physical object), specimen x-ray system (physical object)]</td>\n",
       "      <td>[0.0637, 0.1052, 0.1160, 0.1400, 0.1415, 0.1425, 0.1423, 0.1463, 0.1529, 0.1442, 0.1503, 0.1518, 0.1563]</td>\n",
       "    </tr>\n",
       "  </tbody>\n",
       "</table>\n",
       "</div>"
      ],
      "text/plain": [
       "  chunks  begin  end      code  \\\n",
       "0  X-Ray  0      4    C0043303   \n",
       "\n",
       "                                                                                                                            all_codes  \\\n",
       "0  [C0043303, C0182605, C0184486, C0183264, C0221564, C0183263, C3880096, C3878814, C3874200, C0000766, C0750687, C3880545, C3873785]   \n",
       "\n",
       "                                                                                                                                                                                                                                                                                                                                                resolutions  \\\n",
       "0  [x-ray film, x-ray machine, x-ray tubes, x-ray aprons, specific x-ray findings, x-ray shield, device, x-ray system tube (physical object), x-ray image intensifier (physical object), cephalometric x-ray system (physical object), x-ray abnormal, cabinet,x-ray system, x-ray system cover (physical object), specimen x-ray system (physical object)]   \n",
       "\n",
       "                                                                                              all_distances  \n",
       "0  [0.0637, 0.1052, 0.1160, 0.1400, 0.1415, 0.1425, 0.1423, 0.1463, 0.1529, 0.1442, 0.1503, 0.1518, 0.1563]  "
      ]
     },
     "execution_count": 21,
     "metadata": {
      "tags": []
     },
     "output_type": "execute_result"
    }
   ],
   "source": [
    "# medical device\n",
    "text = 'X-Ray'\n",
    "\n",
    "%time get_codes (umls_lp, text, vocab='umls_code')"
   ]
  },
  {
   "cell_type": "code",
   "execution_count": null,
   "metadata": {
    "id": "DpyXdRzONxbs",
    "outputId": "4b2699ca-a395-4707-9b60-6234273c365e",
    "scrolled": false
   },
   "outputs": [
    {
     "name": "stdout",
     "output_type": "stream",
     "text": [
      "CPU times: user 539 µs, sys: 17.6 ms, total: 18.1 ms\n",
      "Wall time: 488 ms\n"
     ]
    },
    {
     "data": {
      "text/html": [
       "<div>\n",
       "<style scoped>\n",
       "    .dataframe tbody tr th:only-of-type {\n",
       "        vertical-align: middle;\n",
       "    }\n",
       "\n",
       "    .dataframe tbody tr th {\n",
       "        vertical-align: top;\n",
       "    }\n",
       "\n",
       "    .dataframe thead th {\n",
       "        text-align: right;\n",
       "    }\n",
       "</style>\n",
       "<table border=\"1\" class=\"dataframe\">\n",
       "  <thead>\n",
       "    <tr style=\"text-align: right;\">\n",
       "      <th></th>\n",
       "      <th>chunks</th>\n",
       "      <th>begin</th>\n",
       "      <th>end</th>\n",
       "      <th>code</th>\n",
       "      <th>all_codes</th>\n",
       "      <th>resolutions</th>\n",
       "      <th>all_distances</th>\n",
       "    </tr>\n",
       "  </thead>\n",
       "  <tbody>\n",
       "    <tr>\n",
       "      <th>0</th>\n",
       "      <td>out-of-date food poisoning</td>\n",
       "      <td>0</td>\n",
       "      <td>25</td>\n",
       "      <td>C0016479</td>\n",
       "      <td>[C0016479, C0349783, C0411266, C0161721, C0417672, C0567797, C0411267, C1281398, C0178496, C4743928, C0343360, C3665356, C4724202, C1820738, C0565937, C4743931]</td>\n",
       "      <td>[food poisoning (disorder), infective food poisoning (disorder), chemical food poisoning (disorder), toxic effect of noxious substance eaten as food (disorder), accident due to lack of food, pectin poisoning of undetermined intent (disorder), heavy metal food poisoning (disorder), inanition due to lack of food (disorder), bacterial food poisoning (disorder), grade 2 feeding intolerance, viral food poisoning (disorder), history of food intolerance, feeding intolerance, feeding intolerance, food burn of skin (disorder), grade 5 feeding intolerance, adverse event]</td>\n",
       "      <td>[0.1007, 0.1104, 0.1117, 0.1331, 0.1431, 0.1496, 0.1519, 0.1546, 0.1548, 0.1585, 0.1625, 0.1618, 0.1624, 0.1624, 0.1645, 0.1660]</td>\n",
       "    </tr>\n",
       "  </tbody>\n",
       "</table>\n",
       "</div>"
      ],
      "text/plain": [
       "                       chunks  begin  end      code  \\\n",
       "0  out-of-date food poisoning  0      25   C0016479   \n",
       "\n",
       "                                                                                                                                                          all_codes  \\\n",
       "0  [C0016479, C0349783, C0411266, C0161721, C0417672, C0567797, C0411267, C1281398, C0178496, C4743928, C0343360, C3665356, C4724202, C1820738, C0565937, C4743931]   \n",
       "\n",
       "                                                                                                                                                                                                                                                                                                                                                                                                                                                                                                                                                                               resolutions  \\\n",
       "0  [food poisoning (disorder), infective food poisoning (disorder), chemical food poisoning (disorder), toxic effect of noxious substance eaten as food (disorder), accident due to lack of food, pectin poisoning of undetermined intent (disorder), heavy metal food poisoning (disorder), inanition due to lack of food (disorder), bacterial food poisoning (disorder), grade 2 feeding intolerance, viral food poisoning (disorder), history of food intolerance, feeding intolerance, feeding intolerance, food burn of skin (disorder), grade 5 feeding intolerance, adverse event]   \n",
       "\n",
       "                                                                                                                      all_distances  \n",
       "0  [0.1007, 0.1104, 0.1117, 0.1331, 0.1431, 0.1496, 0.1519, 0.1546, 0.1548, 0.1585, 0.1625, 0.1618, 0.1624, 0.1624, 0.1645, 0.1660]  "
      ]
     },
     "execution_count": 22,
     "metadata": {
      "tags": []
     },
     "output_type": "execute_result"
    }
   ],
   "source": [
    "# Injuries & poisoning\n",
    "text = 'out-of-date food poisoning'\n",
    "\n",
    "%time get_codes (umls_lp, text, vocab='umls_code')"
   ]
  },
  {
   "cell_type": "code",
   "execution_count": null,
   "metadata": {
    "id": "AmjCMDVANxbt",
    "outputId": "6d256ef4-1cdc-4c68-a5fc-5c71a09b6976",
    "scrolled": true
   },
   "outputs": [
    {
     "name": "stdout",
     "output_type": "stream",
     "text": [
      "CPU times: user 9.09 ms, sys: 4.58 ms, total: 13.7 ms\n",
      "Wall time: 481 ms\n"
     ]
    },
    {
     "data": {
      "text/html": [
       "<div>\n",
       "<style scoped>\n",
       "    .dataframe tbody tr th:only-of-type {\n",
       "        vertical-align: middle;\n",
       "    }\n",
       "\n",
       "    .dataframe tbody tr th {\n",
       "        vertical-align: top;\n",
       "    }\n",
       "\n",
       "    .dataframe thead th {\n",
       "        text-align: right;\n",
       "    }\n",
       "</style>\n",
       "<table border=\"1\" class=\"dataframe\">\n",
       "  <thead>\n",
       "    <tr style=\"text-align: right;\">\n",
       "      <th></th>\n",
       "      <th>chunks</th>\n",
       "      <th>begin</th>\n",
       "      <th>end</th>\n",
       "      <th>code</th>\n",
       "      <th>all_codes</th>\n",
       "      <th>resolutions</th>\n",
       "      <th>all_distances</th>\n",
       "    </tr>\n",
       "  </thead>\n",
       "  <tbody>\n",
       "    <tr>\n",
       "      <th>0</th>\n",
       "      <td>type two diabetes mellitus</td>\n",
       "      <td>0</td>\n",
       "      <td>25</td>\n",
       "      <td>C4014362</td>\n",
       "      <td>[C4014362, C3532488, C1320657, C1313937, C0455488, C2733146, C4017629, C3532489, C4538688, C3275844, C0241863, C3280267, C1261139, C0421248, C5195213, C1317301, C3278636, C2675471, C3280359]</td>\n",
       "      <td>[type 2 diabetes mellitus (t2d), history of diabetes mellitus type 2 (situation), diabete type, fh: diabetes mellitus, pre-existing diabetes mellitus, type 2 diabetes mellitus uncontrolled, diabetes mellitus, type ii, digenic, history of diabetes mellitus type i, diabetes mellitus, type 2 (in some heterozygous adults), diabetes mellitus, type ii, susceptibility to, diabetic, type 2 diabetes (in some), diabetic relative, insulin diabetic, increased risk of type 2 diabetes, diabetes status, neonatal insulin-dependent diabetes mellitus, microvascular complications of diabetes, susceptibility to, 2, diabetes mellitus (in some patients)]</td>\n",
       "      <td>[0.0438, 0.0568, 0.0618, 0.0697, 0.0780, 0.0891, 0.0910, 0.0883, 0.0937, 0.0940, 0.0939, 0.0971, 0.1031, 0.1062, 0.1087, 0.1104, 0.1116, 0.1201, 0.1147]</td>\n",
       "    </tr>\n",
       "  </tbody>\n",
       "</table>\n",
       "</div>"
      ],
      "text/plain": [
       "                       chunks  begin  end      code  \\\n",
       "0  type two diabetes mellitus  0      25   C4014362   \n",
       "\n",
       "                                                                                                                                                                                        all_codes  \\\n",
       "0  [C4014362, C3532488, C1320657, C1313937, C0455488, C2733146, C4017629, C3532489, C4538688, C3275844, C0241863, C3280267, C1261139, C0421248, C5195213, C1317301, C3278636, C2675471, C3280359]   \n",
       "\n",
       "                                                                                                                                                                                                                                                                                                                                                                                                                                                                                                                                                                                                                                                        resolutions  \\\n",
       "0  [type 2 diabetes mellitus (t2d), history of diabetes mellitus type 2 (situation), diabete type, fh: diabetes mellitus, pre-existing diabetes mellitus, type 2 diabetes mellitus uncontrolled, diabetes mellitus, type ii, digenic, history of diabetes mellitus type i, diabetes mellitus, type 2 (in some heterozygous adults), diabetes mellitus, type ii, susceptibility to, diabetic, type 2 diabetes (in some), diabetic relative, insulin diabetic, increased risk of type 2 diabetes, diabetes status, neonatal insulin-dependent diabetes mellitus, microvascular complications of diabetes, susceptibility to, 2, diabetes mellitus (in some patients)]   \n",
       "\n",
       "                                                                                                                                              all_distances  \n",
       "0  [0.0438, 0.0568, 0.0618, 0.0697, 0.0780, 0.0891, 0.0910, 0.0883, 0.0937, 0.0940, 0.0939, 0.0971, 0.1031, 0.1062, 0.1087, 0.1104, 0.1116, 0.1201, 0.1147]  "
      ]
     },
     "execution_count": 23,
     "metadata": {
      "tags": []
     },
     "output_type": "execute_result"
    }
   ],
   "source": [
    "# clinical findings\n",
    "text = 'type two diabetes mellitus'\n",
    "\n",
    "%time get_codes (umls_lp, text, vocab='umls_code')"
   ]
  },
  {
   "cell_type": "code",
   "execution_count": null,
   "metadata": {
    "colab": {
     "base_uri": "https://localhost:8080/",
     "height": 250
    },
    "executionInfo": {
     "elapsed": 9339,
     "status": "ok",
     "timestamp": 1638482646171,
     "user": {
      "displayName": "Ahmet Emin Tek",
      "photoUrl": "https://lh3.googleusercontent.com/a/default-user=s64",
      "userId": "14855809472179427810"
     },
     "user_tz": -180
    },
    "id": "_O4T6v8MK8aK",
    "outputId": "f0970476-73e9-4796-ff68-20d2609d851b"
   },
   "outputs": [
    {
     "name": "stdout",
     "output_type": "stream",
     "text": [
      "CPU times: user 72.4 ms, sys: 9.09 ms, total: 81.5 ms\n",
      "Wall time: 8.97 s\n"
     ]
    },
    {
     "data": {
      "text/html": [
       "<div>\n",
       "<style scoped>\n",
       "    .dataframe tbody tr th:only-of-type {\n",
       "        vertical-align: middle;\n",
       "    }\n",
       "\n",
       "    .dataframe tbody tr th {\n",
       "        vertical-align: top;\n",
       "    }\n",
       "\n",
       "    .dataframe thead th {\n",
       "        text-align: right;\n",
       "    }\n",
       "</style>\n",
       "<table border=\"1\" class=\"dataframe\">\n",
       "  <thead>\n",
       "    <tr style=\"text-align: right;\">\n",
       "      <th></th>\n",
       "      <th>chunks</th>\n",
       "      <th>begin</th>\n",
       "      <th>end</th>\n",
       "      <th>code</th>\n",
       "      <th>all_codes</th>\n",
       "      <th>resolutions</th>\n",
       "      <th>all_distances</th>\n",
       "    </tr>\n",
       "  </thead>\n",
       "  <tbody>\n",
       "    <tr>\n",
       "      <th>0</th>\n",
       "      <td>chest pain</td>\n",
       "      <td>0</td>\n",
       "      <td>10</td>\n",
       "      <td>D002637</td>\n",
       "      <td>[D002637, D059350, D019547, D020069, D015746, D000072716, D005157, D059265, D001416, D048949, D021501, D058447, D010146, D059390, C563475, D059352, D053591, D059787, D009209, D010148, D058748, D020918, D017699, D059388, D005409]</td>\n",
       "      <td>[Chest Pain, Chronic Pain, Neck Pain, Shoulder Pain, Abdominal Pain, Cancer Pain, Facial Pain, Visceral Pain, Back Pain, Labor Pain, Flank Pain, Eye Pain, Pain, Breakthrough Pain, Paroxysmal Extreme Pain Disorder, Musculoskeletal Pain, Pain, Referred, Acute Pain, Myofascial Pain Syndromes, Pain, Intractable, Pain Perception, Complex Regional Pain Syndromes, Pelvic Pain, Pelvic Girdle Pain, Flail Chest]</td>\n",
       "      <td>[0.0000, 0.0577, 0.0587, 0.0601, 0.0658, 0.0704, 0.0712, 0.0741, 0.0766, 0.0778, 0.0794, 0.0827, 0.0845, 0.0914, 0.0941, 0.0935, 0.0957, 0.1023, 0.1078, 0.1060, 0.1109, 0.1166, 0.1187, 0.1189, 0.1199]</td>\n",
       "    </tr>\n",
       "  </tbody>\n",
       "</table>\n",
       "</div>"
      ],
      "text/plain": [
       "        chunks  ...                                                                                                                                                                                             all_distances\n",
       "0  chest pain   ...  [0.0000, 0.0577, 0.0587, 0.0601, 0.0658, 0.0704, 0.0712, 0.0741, 0.0766, 0.0778, 0.0794, 0.0827, 0.0845, 0.0914, 0.0941, 0.0935, 0.0957, 0.1023, 0.1078, 0.1060, 0.1109, 0.1166, 0.1187, 0.1189, 0.1199]\n",
       "\n",
       "[1 rows x 7 columns]"
      ]
     },
     "execution_count": 7,
     "metadata": {},
     "output_type": "execute_result"
    }
   ],
   "source": [
    "text = 'chest pain '\n",
    "\n",
    "%time get_codes (mesh_lp, text, vocab='mesh_code')"
   ]
  },
  {
   "cell_type": "code",
   "execution_count": 7,
   "metadata": {
    "colab": {
     "base_uri": "https://localhost:8080/",
     "height": 250
    },
    "executionInfo": {
     "elapsed": 8504,
     "status": "ok",
     "timestamp": 1638524947454,
     "user": {
      "displayName": "Ahmet Emin Tek",
      "photoUrl": "https://lh3.googleusercontent.com/a/default-user=s64",
      "userId": "14855809472179427810"
     },
     "user_tz": -180
    },
    "id": "8pd7qRmwLVDN",
    "outputId": "a946ff6d-eb50-4293-a9dc-3547d0224652"
   },
   "outputs": [
    {
     "name": "stdout",
     "output_type": "stream",
     "text": [
      "CPU times: user 67.9 ms, sys: 5.98 ms, total: 73.8 ms\n",
      "Wall time: 8.17 s\n"
     ]
    },
    {
     "data": {
      "text/html": [
       "<div>\n",
       "<style scoped>\n",
       "    .dataframe tbody tr th:only-of-type {\n",
       "        vertical-align: middle;\n",
       "    }\n",
       "\n",
       "    .dataframe tbody tr th {\n",
       "        vertical-align: top;\n",
       "    }\n",
       "\n",
       "    .dataframe thead th {\n",
       "        text-align: right;\n",
       "    }\n",
       "</style>\n",
       "<table border=\"1\" class=\"dataframe\">\n",
       "  <thead>\n",
       "    <tr style=\"text-align: right;\">\n",
       "      <th></th>\n",
       "      <th>chunks</th>\n",
       "      <th>begin</th>\n",
       "      <th>end</th>\n",
       "      <th>code</th>\n",
       "      <th>all_codes</th>\n",
       "      <th>resolutions</th>\n",
       "      <th>all_distances</th>\n",
       "    </tr>\n",
       "  </thead>\n",
       "  <tbody>\n",
       "    <tr>\n",
       "      <th>0</th>\n",
       "      <td>pericardectomy</td>\n",
       "      <td>0</td>\n",
       "      <td>13</td>\n",
       "      <td>D010492</td>\n",
       "      <td>[D010492, D011670, D018700, D014068, D000541, D005927, D020884, D064727, D010611, D011672, D059526, D001062, D002431, D011013, D013156, D032801, D001047, D020519, D000074885, D038421, D010180, D007825, D000074406, D017128, D056346]</td>\n",
       "      <td>[Pericardiectomy, Pulpectomy, Pleurodesis, Tonsillectomy, Alveolectomy, Glossectomy, Colpotomy, Posterior Capsulotomy, Pharyngectomy, Pulpotomy, Foraminotomy, Appendectomy, Cecostomy, Pneumonectomy, Splenectomy, Iridectomy, Apicoectomy, Pericardiocentesis, Amniotomy, Hemispherectomy, Pancreatectomy, Laryngectomy, Mastoidectomy, Embolectomy, Sternotomy]</td>\n",
       "      <td>[0.0732, 0.1287, 0.1499, 0.1540, 0.1573, 0.1582, 0.1645, 0.1622, 0.1660, 0.1676, 0.1729, 0.1697, 0.1744, 0.1774, 0.1753, 0.1757, 0.1783, 0.1812, 0.1803, 0.1726, 0.1799, 0.1813, 0.1852, 0.1909, 0.1867]</td>\n",
       "    </tr>\n",
       "  </tbody>\n",
       "</table>\n",
       "</div>"
      ],
      "text/plain": [
       "           chunks  ...                                                                                                                                                                                             all_distances\n",
       "0  pericardectomy  ...  [0.0732, 0.1287, 0.1499, 0.1540, 0.1573, 0.1582, 0.1645, 0.1622, 0.1660, 0.1676, 0.1729, 0.1697, 0.1744, 0.1774, 0.1753, 0.1757, 0.1783, 0.1812, 0.1803, 0.1726, 0.1799, 0.1813, 0.1852, 0.1909, 0.1867]\n",
       "\n",
       "[1 rows x 7 columns]"
      ]
     },
     "execution_count": 7,
     "metadata": {},
     "output_type": "execute_result"
    }
   ],
   "source": [
    "text = 'pericardectomy'\n",
    "\n",
    "%time get_codes (mesh_lp, text, vocab='mesh_code')"
   ]
  },
  {
   "cell_type": "code",
   "execution_count": null,
   "metadata": {
    "id": "hSuEK_CFNxbt",
    "outputId": "9ca85a59-9a37-429c-8130-413cde9b2d11"
   },
   "outputs": [
    {
     "name": "stdout",
     "output_type": "stream",
     "text": [
      "CPU times: user 4.88 ms, sys: 8.95 ms, total: 13.8 ms\n",
      "Wall time: 132 ms\n"
     ]
    },
    {
     "data": {
      "text/html": [
       "<div>\n",
       "<style scoped>\n",
       "    .dataframe tbody tr th:only-of-type {\n",
       "        vertical-align: middle;\n",
       "    }\n",
       "\n",
       "    .dataframe tbody tr th {\n",
       "        vertical-align: top;\n",
       "    }\n",
       "\n",
       "    .dataframe thead th {\n",
       "        text-align: right;\n",
       "    }\n",
       "</style>\n",
       "<table border=\"1\" class=\"dataframe\">\n",
       "  <thead>\n",
       "    <tr style=\"text-align: right;\">\n",
       "      <th></th>\n",
       "      <th>chunks</th>\n",
       "      <th>begin</th>\n",
       "      <th>end</th>\n",
       "      <th>code</th>\n",
       "      <th>all_codes</th>\n",
       "      <th>resolutions</th>\n",
       "      <th>all_distances</th>\n",
       "    </tr>\n",
       "  </thead>\n",
       "  <tbody>\n",
       "    <tr>\n",
       "      <th>0</th>\n",
       "      <td>bladder cancer</td>\n",
       "      <td>0</td>\n",
       "      <td>13</td>\n",
       "      <td>HP:0009725</td>\n",
       "      <td>[HP:0009725, HP:0002862, HP:0006740, HP:0030409, HP:0100517, HP:0000015, HP:0100516, HP:0009726, HP:0004375, HP:0004321, HP:0032465, HP:0010786, HP:0010474, HP:0010784, HP:0006762, HP:0005584, HP:0025489, HP:0010477]</td>\n",
       "      <td>[bladder cancer, bladder carcinoma, transitional cell carcinoma of the bladder, renal urothelial carcinoma, neoplasia of the urethra, bladder diverticulum, ureter, cancer of, kidney cancer, nervous system cancer, bladder fistula, bladder trabeculation, urinary tract neoplasia, bladder stones, uterine cancer, renal pelvic carcinoma, renal carcinoma, bladder duplication, aplasia of the bladder]</td>\n",
       "      <td>[0.0000, 0.0503, 0.0905, 0.1612, 0.1729, 0.1738, 0.1839, 0.1886, 0.1924, 0.1892, 0.1930, 0.1903, 0.1904, 0.1938, 0.1987, 0.2013, 0.2006, 0.2039]</td>\n",
       "    </tr>\n",
       "  </tbody>\n",
       "</table>\n",
       "</div>"
      ],
      "text/plain": [
       "           chunks  begin  end        code  \\\n",
       "0  bladder cancer  0      13   HP:0009725   \n",
       "\n",
       "                                                                                                                                                                                                                  all_codes  \\\n",
       "0  [HP:0009725, HP:0002862, HP:0006740, HP:0030409, HP:0100517, HP:0000015, HP:0100516, HP:0009726, HP:0004375, HP:0004321, HP:0032465, HP:0010786, HP:0010474, HP:0010784, HP:0006762, HP:0005584, HP:0025489, HP:0010477]   \n",
       "\n",
       "                                                                                                                                                                                                                                                                                                                                                                                                   resolutions  \\\n",
       "0  [bladder cancer, bladder carcinoma, transitional cell carcinoma of the bladder, renal urothelial carcinoma, neoplasia of the urethra, bladder diverticulum, ureter, cancer of, kidney cancer, nervous system cancer, bladder fistula, bladder trabeculation, urinary tract neoplasia, bladder stones, uterine cancer, renal pelvic carcinoma, renal carcinoma, bladder duplication, aplasia of the bladder]   \n",
       "\n",
       "                                                                                                                                      all_distances  \n",
       "0  [0.0000, 0.0503, 0.0905, 0.1612, 0.1729, 0.1738, 0.1839, 0.1886, 0.1924, 0.1892, 0.1930, 0.1903, 0.1904, 0.1938, 0.1987, 0.2013, 0.2006, 0.2039]  "
      ]
     },
     "execution_count": 24,
     "metadata": {
      "tags": []
     },
     "output_type": "execute_result"
    }
   ],
   "source": [
    "text = 'bladder cancer'\n",
    "\n",
    "%time get_codes (hpo_lp, text, vocab='umls_code')"
   ]
  },
  {
   "cell_type": "code",
   "execution_count": null,
   "metadata": {
    "id": "eh3261lqNxbu",
    "outputId": "38e673b8-a634-449b-ee20-0bdad84c0d71",
    "scrolled": true
   },
   "outputs": [
    {
     "name": "stdout",
     "output_type": "stream",
     "text": [
      "CPU times: user 10.9 ms, sys: 7.45 ms, total: 18.3 ms\n",
      "Wall time: 127 ms\n"
     ]
    },
    {
     "data": {
      "text/html": [
       "<div>\n",
       "<style scoped>\n",
       "    .dataframe tbody tr th:only-of-type {\n",
       "        vertical-align: middle;\n",
       "    }\n",
       "\n",
       "    .dataframe tbody tr th {\n",
       "        vertical-align: top;\n",
       "    }\n",
       "\n",
       "    .dataframe thead th {\n",
       "        text-align: right;\n",
       "    }\n",
       "</style>\n",
       "<table border=\"1\" class=\"dataframe\">\n",
       "  <thead>\n",
       "    <tr style=\"text-align: right;\">\n",
       "      <th></th>\n",
       "      <th>chunks</th>\n",
       "      <th>begin</th>\n",
       "      <th>end</th>\n",
       "      <th>code</th>\n",
       "      <th>all_codes</th>\n",
       "      <th>resolutions</th>\n",
       "      <th>all_distances</th>\n",
       "    </tr>\n",
       "  </thead>\n",
       "  <tbody>\n",
       "    <tr>\n",
       "      <th>0</th>\n",
       "      <td>bipolar disorder</td>\n",
       "      <td>0</td>\n",
       "      <td>15</td>\n",
       "      <td>HP:0007302</td>\n",
       "      <td>[HP:0007302, HP:0100753, HP:0012076, HP:0000708, HP:0033516, HP:0012077, HP:0000709, HP:0012075, HP:0000716, HP:0000722, HP:0002134, HP:0011511, HP:0000725, HP:0025102, HP:0002072, HP:0011223, HP:0033512, HP:0100022, HP:0001345, HP:0002269]</td>\n",
       "      <td>[bipolar disorder, schizophrenia, borderline personality disorder, psychiatric disorders, benzodiazepine dependence, histrionic personality disorder, psychosis, personality disorder, depressive disorder, obsessive compulsive disorder, basal ganglia disease, macular schisis, psychotic episodes, basal ganglia dysgenesis, choreatic disease, metopic depression, stimulant dependence, movement disorder, psychotic mentation, migrational brain disorder]</td>\n",
       "      <td>[0.0000, 0.1488, 0.1486, 0.1577, 0.1740, 0.1731, 0.1784, 0.1764, 0.1786, 0.1830, 0.1925, 0.2145, 0.2192, 0.2182, 0.2376, 0.2325, 0.2325, 0.2330, 0.2443, 0.2393]</td>\n",
       "    </tr>\n",
       "  </tbody>\n",
       "</table>\n",
       "</div>"
      ],
      "text/plain": [
       "             chunks  begin  end        code  \\\n",
       "0  bipolar disorder  0      15   HP:0007302   \n",
       "\n",
       "                                                                                                                                                                                                                                          all_codes  \\\n",
       "0  [HP:0007302, HP:0100753, HP:0012076, HP:0000708, HP:0033516, HP:0012077, HP:0000709, HP:0012075, HP:0000716, HP:0000722, HP:0002134, HP:0011511, HP:0000725, HP:0025102, HP:0002072, HP:0011223, HP:0033512, HP:0100022, HP:0001345, HP:0002269]   \n",
       "\n",
       "                                                                                                                                                                                                                                                                                                                                                                                                                                                         resolutions  \\\n",
       "0  [bipolar disorder, schizophrenia, borderline personality disorder, psychiatric disorders, benzodiazepine dependence, histrionic personality disorder, psychosis, personality disorder, depressive disorder, obsessive compulsive disorder, basal ganglia disease, macular schisis, psychotic episodes, basal ganglia dysgenesis, choreatic disease, metopic depression, stimulant dependence, movement disorder, psychotic mentation, migrational brain disorder]   \n",
       "\n",
       "                                                                                                                                                      all_distances  \n",
       "0  [0.0000, 0.1488, 0.1486, 0.1577, 0.1740, 0.1731, 0.1784, 0.1764, 0.1786, 0.1830, 0.1925, 0.2145, 0.2192, 0.2182, 0.2376, 0.2325, 0.2325, 0.2330, 0.2443, 0.2393]  "
      ]
     },
     "execution_count": 25,
     "metadata": {
      "tags": []
     },
     "output_type": "execute_result"
    }
   ],
   "source": [
    "text = 'bipolar disorder'\n",
    "\n",
    "%time get_codes (hpo_lp, text, vocab='umls_code')"
   ]
  },
  {
   "cell_type": "code",
   "execution_count": null,
   "metadata": {
    "id": "dNv3YO5NNxbu",
    "outputId": "3ccf0d18-3215-4b89-ca6f-9fbcb8b19339",
    "scrolled": true
   },
   "outputs": [
    {
     "name": "stdout",
     "output_type": "stream",
     "text": [
      "CPU times: user 6.34 ms, sys: 7.83 ms, total: 14.2 ms\n",
      "Wall time: 124 ms\n"
     ]
    },
    {
     "data": {
      "text/html": [
       "<div>\n",
       "<style scoped>\n",
       "    .dataframe tbody tr th:only-of-type {\n",
       "        vertical-align: middle;\n",
       "    }\n",
       "\n",
       "    .dataframe tbody tr th {\n",
       "        vertical-align: top;\n",
       "    }\n",
       "\n",
       "    .dataframe thead th {\n",
       "        text-align: right;\n",
       "    }\n",
       "</style>\n",
       "<table border=\"1\" class=\"dataframe\">\n",
       "  <thead>\n",
       "    <tr style=\"text-align: right;\">\n",
       "      <th></th>\n",
       "      <th>chunks</th>\n",
       "      <th>begin</th>\n",
       "      <th>end</th>\n",
       "      <th>code</th>\n",
       "      <th>all_codes</th>\n",
       "      <th>resolutions</th>\n",
       "      <th>all_distances</th>\n",
       "    </tr>\n",
       "  </thead>\n",
       "  <tbody>\n",
       "    <tr>\n",
       "      <th>0</th>\n",
       "      <td>schizophrenia</td>\n",
       "      <td>0</td>\n",
       "      <td>13</td>\n",
       "      <td>HP:0100753</td>\n",
       "      <td>[HP:0100753, HP:0000709, HP:0007302, HP:0000708, HP:0000725, HP:0011511, HP:0012077, HP:0001345, HP:0030325, HP:0012075, HP:0000722, HP:0033512, HP:0012076, HP:0100923, HP:0002072, HP:0033715, HP:0010891, HP:0011626, HP:0100656, HP:0033516, HP:0008404, HP:0002269]</td>\n",
       "      <td>[schizophrenia, psychosis, bipolar disorder, psychiatric disorders, psychotic episodes, macular schisis, histrionic personality disorder, psychotic mentation, cervicomedullary schisis, personality disorder, obsessive compulsive disorder, stimulant dependence, borderline personality disorder, clavicular sclerosis, choreatic disease, mesial temporal sclerosis, scheuermann disease, scimitar syndrome, thoracoabdominal schisis, benzodiazepine dependence, onychodystrophy, migrational brain disorder]</td>\n",
       "      <td>[0.0000, 0.1172, 0.1488, 0.1599, 0.1877, 0.1898, 0.1923, 0.2033, 0.2163, 0.2113, 0.2166, 0.2257, 0.2202, 0.2345, 0.2431, 0.2389, 0.2497, 0.2438, 0.2578, 0.2483, 0.2604, 0.2455]</td>\n",
       "    </tr>\n",
       "  </tbody>\n",
       "</table>\n",
       "</div>"
      ],
      "text/plain": [
       "           chunks  begin  end        code  \\\n",
       "0  schizophrenia   0      13   HP:0100753   \n",
       "\n",
       "                                                                                                                                                                                                                                                                  all_codes  \\\n",
       "0  [HP:0100753, HP:0000709, HP:0007302, HP:0000708, HP:0000725, HP:0011511, HP:0012077, HP:0001345, HP:0030325, HP:0012075, HP:0000722, HP:0033512, HP:0012076, HP:0100923, HP:0002072, HP:0033715, HP:0010891, HP:0011626, HP:0100656, HP:0033516, HP:0008404, HP:0002269]   \n",
       "\n",
       "                                                                                                                                                                                                                                                                                                                                                                                                                                                                                                          resolutions  \\\n",
       "0  [schizophrenia, psychosis, bipolar disorder, psychiatric disorders, psychotic episodes, macular schisis, histrionic personality disorder, psychotic mentation, cervicomedullary schisis, personality disorder, obsessive compulsive disorder, stimulant dependence, borderline personality disorder, clavicular sclerosis, choreatic disease, mesial temporal sclerosis, scheuermann disease, scimitar syndrome, thoracoabdominal schisis, benzodiazepine dependence, onychodystrophy, migrational brain disorder]   \n",
       "\n",
       "                                                                                                                                                                      all_distances  \n",
       "0  [0.0000, 0.1172, 0.1488, 0.1599, 0.1877, 0.1898, 0.1923, 0.2033, 0.2163, 0.2113, 0.2166, 0.2257, 0.2202, 0.2345, 0.2431, 0.2389, 0.2497, 0.2438, 0.2578, 0.2483, 0.2604, 0.2455]  "
      ]
     },
     "execution_count": 26,
     "metadata": {
      "tags": []
     },
     "output_type": "execute_result"
    }
   ],
   "source": [
    "text = 'schizophrenia '\n",
    "\n",
    "%time get_codes (hpo_lp, text, vocab='umls_code')"
   ]
  },
  {
   "cell_type": "code",
   "execution_count": null,
   "metadata": {
    "id": "GhWTyznOEz_K"
   },
   "outputs": [],
   "source": [
    "icd_chunks = ['advanced liver disease',\n",
    "'advanced lung disease',\n",
    "'basal cell carcinoma of skin',\n",
    "'acute maxillary sinusitis',\n",
    "'chronic kidney disease stage',\n",
    "'diabetes mellitus type 2',\n",
    "'lymph nodes of multiple sites',\n",
    "'other chronic pain',\n",
    "'severe abdominal pain',\n",
    "'squamous cell carcinoma of skin',\n",
    "'type 2 diabetes mellitus']\n",
    "\n",
    "snomed_chunks= ['down syndrome', 'adenocarcinoma', 'aortic valve stenosis',\n",
    "       'atherosclerosis', 'atrial fibrillation',\n",
    "       'hypertension', 'lung cancer', 'seizure',\n",
    "       'squamous cell carcinoma', 'stage IIIB', 'mediastinal lymph nodes']"
   ]
  },
  {
   "cell_type": "code",
   "execution_count": null,
   "metadata": {
    "id": "8C0I5Cq-Ez_K",
    "outputId": "2b237597-6546-476e-eafe-2c98b0f537c8",
    "scrolled": false
   },
   "outputs": [
    {
     "name": "stdout",
     "output_type": "stream",
     "text": [
      ">>  advanced liver disease\n"
     ]
    },
    {
     "data": {
      "text/html": [
       "<div>\n",
       "<style scoped>\n",
       "    .dataframe tbody tr th:only-of-type {\n",
       "        vertical-align: middle;\n",
       "    }\n",
       "\n",
       "    .dataframe tbody tr th {\n",
       "        vertical-align: top;\n",
       "    }\n",
       "\n",
       "    .dataframe thead th {\n",
       "        text-align: right;\n",
       "    }\n",
       "</style>\n",
       "<table border=\"1\" class=\"dataframe\">\n",
       "  <thead>\n",
       "    <tr style=\"text-align: right;\">\n",
       "      <th></th>\n",
       "      <th>chunks</th>\n",
       "      <th>begin</th>\n",
       "      <th>end</th>\n",
       "      <th>code</th>\n",
       "      <th>all_codes</th>\n",
       "      <th>resolutions</th>\n",
       "      <th>all_distances</th>\n",
       "    </tr>\n",
       "  </thead>\n",
       "  <tbody>\n",
       "    <tr>\n",
       "      <th>0</th>\n",
       "      <td>advanced liver disease</td>\n",
       "      <td>0</td>\n",
       "      <td>21</td>\n",
       "      <td>K7460</td>\n",
       "      <td>[K7460, K769, K721, K746, R945, Z871, K7402, K729, K7290, K7689, D489, D499, R748, K719]</td>\n",
       "      <td>[advanced cirrhosis, chronic liver disease, chronic hepatic failure, cirrhosis and chronic liver disease, abnormal liver function, h/o: liver disease, hepatic fibrosis, advanced fibrosis, liver function failure, liver failure, abnormal hepatic function, tumor of advanced extent, tumour of advanced extent, elevated liver enzymes level, toxic liver disease]</td>\n",
       "      <td>[0.0704, 0.1057, 0.1081, 0.1263, 0.1299, 0.1324, 0.1338, 0.1319, 0.1334, 0.1425, 0.1468, 0.1477, 0.1487, 0.1517]</td>\n",
       "    </tr>\n",
       "  </tbody>\n",
       "</table>\n",
       "</div>"
      ],
      "text/plain": [
       "                   chunks  begin  end   code  \\\n",
       "0  advanced liver disease  0      21   K7460   \n",
       "\n",
       "                                                                                  all_codes  \\\n",
       "0  [K7460, K769, K721, K746, R945, Z871, K7402, K729, K7290, K7689, D489, D499, R748, K719]   \n",
       "\n",
       "                                                                                                                                                                                                                                                                                                                                                             resolutions  \\\n",
       "0  [advanced cirrhosis, chronic liver disease, chronic hepatic failure, cirrhosis and chronic liver disease, abnormal liver function, h/o: liver disease, hepatic fibrosis, advanced fibrosis, liver function failure, liver failure, abnormal hepatic function, tumor of advanced extent, tumour of advanced extent, elevated liver enzymes level, toxic liver disease]   \n",
       "\n",
       "                                                                                                      all_distances  \n",
       "0  [0.0704, 0.1057, 0.1081, 0.1263, 0.1299, 0.1324, 0.1338, 0.1319, 0.1334, 0.1425, 0.1468, 0.1477, 0.1487, 0.1517]  "
      ]
     },
     "metadata": {
      "tags": []
     },
     "output_type": "display_data"
    },
    {
     "name": "stdout",
     "output_type": "stream",
     "text": [
      ">>  advanced lung disease\n"
     ]
    },
    {
     "data": {
      "text/html": [
       "<div>\n",
       "<style scoped>\n",
       "    .dataframe tbody tr th:only-of-type {\n",
       "        vertical-align: middle;\n",
       "    }\n",
       "\n",
       "    .dataframe tbody tr th {\n",
       "        vertical-align: top;\n",
       "    }\n",
       "\n",
       "    .dataframe thead th {\n",
       "        text-align: right;\n",
       "    }\n",
       "</style>\n",
       "<table border=\"1\" class=\"dataframe\">\n",
       "  <thead>\n",
       "    <tr style=\"text-align: right;\">\n",
       "      <th></th>\n",
       "      <th>chunks</th>\n",
       "      <th>begin</th>\n",
       "      <th>end</th>\n",
       "      <th>code</th>\n",
       "      <th>all_codes</th>\n",
       "      <th>resolutions</th>\n",
       "      <th>all_distances</th>\n",
       "    </tr>\n",
       "  </thead>\n",
       "  <tbody>\n",
       "    <tr>\n",
       "      <th>0</th>\n",
       "      <td>advanced lung disease</td>\n",
       "      <td>0</td>\n",
       "      <td>20</td>\n",
       "      <td>D499</td>\n",
       "      <td>[D499, D489, J449, H359, J849, J628, K7460, J399, I5083, J961, J989, I509, J8410, R54, J984, I279]</td>\n",
       "      <td>[tumour of advanced extent, tumor of advanced extent, severe chronic obstructive pulmonary disease, advanced retinal disease, chronic infiltrative lung disease, chronic lung disease, advanced cirrhosis, upper respiratory disease, high output heart failure, chronic respiratory failure, chronic respiratory system disease, cardiac failure, progressive lung fibrosis, advanced age, chronic lung disease (disorder), chronic pulmonary heart disease]</td>\n",
       "      <td>[0.1284, 0.1333, 0.1329, 0.1353, 0.1355, 0.1373, 0.1455, 0.1471, 0.1468, 0.1537, 0.1565, 0.1572, 0.1588, 0.1597, 0.1641, 0.1644]</td>\n",
       "    </tr>\n",
       "  </tbody>\n",
       "</table>\n",
       "</div>"
      ],
      "text/plain": [
       "                  chunks  begin  end  code  \\\n",
       "0  advanced lung disease  0      20   D499   \n",
       "\n",
       "                                                                                            all_codes  \\\n",
       "0  [D499, D489, J449, H359, J849, J628, K7460, J399, I5083, J961, J989, I509, J8410, R54, J984, I279]   \n",
       "\n",
       "                                                                                                                                                                                                                                                                                                                                                                                                                                                     resolutions  \\\n",
       "0  [tumour of advanced extent, tumor of advanced extent, severe chronic obstructive pulmonary disease, advanced retinal disease, chronic infiltrative lung disease, chronic lung disease, advanced cirrhosis, upper respiratory disease, high output heart failure, chronic respiratory failure, chronic respiratory system disease, cardiac failure, progressive lung fibrosis, advanced age, chronic lung disease (disorder), chronic pulmonary heart disease]   \n",
       "\n",
       "                                                                                                                      all_distances  \n",
       "0  [0.1284, 0.1333, 0.1329, 0.1353, 0.1355, 0.1373, 0.1455, 0.1471, 0.1468, 0.1537, 0.1565, 0.1572, 0.1588, 0.1597, 0.1641, 0.1644]  "
      ]
     },
     "metadata": {
      "tags": []
     },
     "output_type": "display_data"
    },
    {
     "name": "stdout",
     "output_type": "stream",
     "text": [
      ">>  basal cell carcinoma of skin\n"
     ]
    },
    {
     "data": {
      "text/html": [
       "<div>\n",
       "<style scoped>\n",
       "    .dataframe tbody tr th:only-of-type {\n",
       "        vertical-align: middle;\n",
       "    }\n",
       "\n",
       "    .dataframe tbody tr th {\n",
       "        vertical-align: top;\n",
       "    }\n",
       "\n",
       "    .dataframe thead th {\n",
       "        text-align: right;\n",
       "    }\n",
       "</style>\n",
       "<table border=\"1\" class=\"dataframe\">\n",
       "  <thead>\n",
       "    <tr style=\"text-align: right;\">\n",
       "      <th></th>\n",
       "      <th>chunks</th>\n",
       "      <th>begin</th>\n",
       "      <th>end</th>\n",
       "      <th>code</th>\n",
       "      <th>all_codes</th>\n",
       "      <th>resolutions</th>\n",
       "      <th>all_distances</th>\n",
       "    </tr>\n",
       "  </thead>\n",
       "  <tbody>\n",
       "    <tr>\n",
       "      <th>0</th>\n",
       "      <td>basal cell carcinoma of skin</td>\n",
       "      <td>0</td>\n",
       "      <td>27</td>\n",
       "      <td>C4491</td>\n",
       "      <td>[C4491, C449, C4451, D049, C4461, C4431, C4441, C4499, C4A70, C4481, C445, C4401, C444]</td>\n",
       "      <td>[basal cell carcinoma of skin, nodular basal cell carcinoma of skin, basal cell carcinoma of skin of trunk, basal cell carcinoma of skin in situ, basal cell carcinoma of arm, basal cell carcinoma of face, basal cell carcinoma of scalp, metatypical basal cell carcinoma of skin, trabecular cell carcinoma of skin, basal cell carcinoma of overlapping sites of skin, basal cell carcinoma of truncal skin, basal cell carcinoma of skin of lip, basal cell carcinoma of neck]</td>\n",
       "      <td>[0.0000, 0.0177, 0.0271, 0.0330, 0.0344, 0.0389, 0.0471, 0.0487, 0.0590, 0.0600, 0.0601, 0.0628, 0.0644]</td>\n",
       "    </tr>\n",
       "  </tbody>\n",
       "</table>\n",
       "</div>"
      ],
      "text/plain": [
       "                         chunks  begin  end   code  \\\n",
       "0  basal cell carcinoma of skin  0      27   C4491   \n",
       "\n",
       "                                                                                 all_codes  \\\n",
       "0  [C4491, C449, C4451, D049, C4461, C4431, C4441, C4499, C4A70, C4481, C445, C4401, C444]   \n",
       "\n",
       "                                                                                                                                                                                                                                                                                                                                                                                                                                                                            resolutions  \\\n",
       "0  [basal cell carcinoma of skin, nodular basal cell carcinoma of skin, basal cell carcinoma of skin of trunk, basal cell carcinoma of skin in situ, basal cell carcinoma of arm, basal cell carcinoma of face, basal cell carcinoma of scalp, metatypical basal cell carcinoma of skin, trabecular cell carcinoma of skin, basal cell carcinoma of overlapping sites of skin, basal cell carcinoma of truncal skin, basal cell carcinoma of skin of lip, basal cell carcinoma of neck]   \n",
       "\n",
       "                                                                                              all_distances  \n",
       "0  [0.0000, 0.0177, 0.0271, 0.0330, 0.0344, 0.0389, 0.0471, 0.0487, 0.0590, 0.0600, 0.0601, 0.0628, 0.0644]  "
      ]
     },
     "metadata": {
      "tags": []
     },
     "output_type": "display_data"
    },
    {
     "name": "stdout",
     "output_type": "stream",
     "text": [
      ">>  acute maxillary sinusitis\n"
     ]
    },
    {
     "data": {
      "text/html": [
       "<div>\n",
       "<style scoped>\n",
       "    .dataframe tbody tr th:only-of-type {\n",
       "        vertical-align: middle;\n",
       "    }\n",
       "\n",
       "    .dataframe tbody tr th {\n",
       "        vertical-align: top;\n",
       "    }\n",
       "\n",
       "    .dataframe thead th {\n",
       "        text-align: right;\n",
       "    }\n",
       "</style>\n",
       "<table border=\"1\" class=\"dataframe\">\n",
       "  <thead>\n",
       "    <tr style=\"text-align: right;\">\n",
       "      <th></th>\n",
       "      <th>chunks</th>\n",
       "      <th>begin</th>\n",
       "      <th>end</th>\n",
       "      <th>code</th>\n",
       "      <th>all_codes</th>\n",
       "      <th>resolutions</th>\n",
       "      <th>all_distances</th>\n",
       "    </tr>\n",
       "  </thead>\n",
       "  <tbody>\n",
       "    <tr>\n",
       "      <th>0</th>\n",
       "      <td>acute maxillary sinusitis</td>\n",
       "      <td>0</td>\n",
       "      <td>24</td>\n",
       "      <td>J0100</td>\n",
       "      <td>[J0100, J010, J0101, J320, R220, J349, T170]</td>\n",
       "      <td>[acute maxillary sinusitis, acute maxillary sinusitis (disorder), acute recurrent maxillary sinusitis, chronic maxillary sinusitis, swelling over maxillary sinus, disease of maxillary sinus, foreign body in maxillary sinus (disorder)]</td>\n",
       "      <td>[0.0000, 0.0132, 0.0310, 0.0514, 0.1025, 0.1061, 0.1072]</td>\n",
       "    </tr>\n",
       "  </tbody>\n",
       "</table>\n",
       "</div>"
      ],
      "text/plain": [
       "                      chunks  begin  end   code  \\\n",
       "0  acute maxillary sinusitis  0      24   J0100   \n",
       "\n",
       "                                      all_codes  \\\n",
       "0  [J0100, J010, J0101, J320, R220, J349, T170]   \n",
       "\n",
       "                                                                                                                                                                                                                                  resolutions  \\\n",
       "0  [acute maxillary sinusitis, acute maxillary sinusitis (disorder), acute recurrent maxillary sinusitis, chronic maxillary sinusitis, swelling over maxillary sinus, disease of maxillary sinus, foreign body in maxillary sinus (disorder)]   \n",
       "\n",
       "                                              all_distances  \n",
       "0  [0.0000, 0.0132, 0.0310, 0.0514, 0.1025, 0.1061, 0.1072]  "
      ]
     },
     "metadata": {
      "tags": []
     },
     "output_type": "display_data"
    },
    {
     "name": "stdout",
     "output_type": "stream",
     "text": [
      ">>  chronic kidney disease stage\n"
     ]
    },
    {
     "data": {
      "text/html": [
       "<div>\n",
       "<style scoped>\n",
       "    .dataframe tbody tr th:only-of-type {\n",
       "        vertical-align: middle;\n",
       "    }\n",
       "\n",
       "    .dataframe tbody tr th {\n",
       "        vertical-align: top;\n",
       "    }\n",
       "\n",
       "    .dataframe thead th {\n",
       "        text-align: right;\n",
       "    }\n",
       "</style>\n",
       "<table border=\"1\" class=\"dataframe\">\n",
       "  <thead>\n",
       "    <tr style=\"text-align: right;\">\n",
       "      <th></th>\n",
       "      <th>chunks</th>\n",
       "      <th>begin</th>\n",
       "      <th>end</th>\n",
       "      <th>code</th>\n",
       "      <th>all_codes</th>\n",
       "      <th>resolutions</th>\n",
       "      <th>all_distances</th>\n",
       "    </tr>\n",
       "  </thead>\n",
       "  <tbody>\n",
       "    <tr>\n",
       "      <th>0</th>\n",
       "      <td>chronic kidney disease stage</td>\n",
       "      <td>0</td>\n",
       "      <td>27</td>\n",
       "      <td>N189</td>\n",
       "      <td>[N189, D638, N289, Q619, D631, I120, N18, P2930, I139, N185, N186, Z9189, Z874, Z992, Z8744, T509]</td>\n",
       "      <td>[chronic kidney disease, anaemia in chronic kidney disease, kidney disease, cystic kidney disease, anemia in chronic kidney disease, end stage kidney disease, chronic kidney disease (ckd), chronic renal failure, cardiovascular renal disease, end-stage renal disease, end stage renal disease, at risk of chronic kidney disease, history of chronic kidney disease, end-stage renal disease (disorder), history of chronic renal impairment (situation), chronic drug-induced renal disease]</td>\n",
       "      <td>[0.0257, 0.0668, 0.0661, 0.0675, 0.0702, 0.0713, 0.0756, 0.0751, 0.0760, 0.0765, 0.0817, 0.0830, 0.0867, 0.0890, 0.0901, 0.0916]</td>\n",
       "    </tr>\n",
       "  </tbody>\n",
       "</table>\n",
       "</div>"
      ],
      "text/plain": [
       "                         chunks  begin  end  code  \\\n",
       "0  chronic kidney disease stage  0      27   N189   \n",
       "\n",
       "                                                                                            all_codes  \\\n",
       "0  [N189, D638, N289, Q619, D631, I120, N18, P2930, I139, N185, N186, Z9189, Z874, Z992, Z8744, T509]   \n",
       "\n",
       "                                                                                                                                                                                                                                                                                                                                                                                                                                                                                          resolutions  \\\n",
       "0  [chronic kidney disease, anaemia in chronic kidney disease, kidney disease, cystic kidney disease, anemia in chronic kidney disease, end stage kidney disease, chronic kidney disease (ckd), chronic renal failure, cardiovascular renal disease, end-stage renal disease, end stage renal disease, at risk of chronic kidney disease, history of chronic kidney disease, end-stage renal disease (disorder), history of chronic renal impairment (situation), chronic drug-induced renal disease]   \n",
       "\n",
       "                                                                                                                      all_distances  \n",
       "0  [0.0257, 0.0668, 0.0661, 0.0675, 0.0702, 0.0713, 0.0756, 0.0751, 0.0760, 0.0765, 0.0817, 0.0830, 0.0867, 0.0890, 0.0901, 0.0916]  "
      ]
     },
     "metadata": {
      "tags": []
     },
     "output_type": "display_data"
    },
    {
     "name": "stdout",
     "output_type": "stream",
     "text": [
      ">>  diabetes mellitus type 2\n"
     ]
    },
    {
     "data": {
      "text/html": [
       "<div>\n",
       "<style scoped>\n",
       "    .dataframe tbody tr th:only-of-type {\n",
       "        vertical-align: middle;\n",
       "    }\n",
       "\n",
       "    .dataframe tbody tr th {\n",
       "        vertical-align: top;\n",
       "    }\n",
       "\n",
       "    .dataframe thead th {\n",
       "        text-align: right;\n",
       "    }\n",
       "</style>\n",
       "<table border=\"1\" class=\"dataframe\">\n",
       "  <thead>\n",
       "    <tr style=\"text-align: right;\">\n",
       "      <th></th>\n",
       "      <th>chunks</th>\n",
       "      <th>begin</th>\n",
       "      <th>end</th>\n",
       "      <th>code</th>\n",
       "      <th>all_codes</th>\n",
       "      <th>resolutions</th>\n",
       "      <th>all_distances</th>\n",
       "    </tr>\n",
       "  </thead>\n",
       "  <tbody>\n",
       "    <tr>\n",
       "      <th>0</th>\n",
       "      <td>diabetes mellitus type 2</td>\n",
       "      <td>0</td>\n",
       "      <td>23</td>\n",
       "      <td>E119</td>\n",
       "      <td>[E119, E118, O2411, E113, E139, E1143, E1144, E114, E117, E112, Z8639, E1151, Z863]</td>\n",
       "      <td>[diabetes mellitus type 2, disorder associated with type 2 diabetes mellitus, pre-existing type 2 diabetes mellitus, disorder of eye with type 2 diabetes mellitus, secondary diabetes mellitus, neurological disorder with type 2 diabetes mellitus, disorder of nervous system due to type 2 diabetes mellitus, neurological disorder with diabetes type 2, multiple complications of type 2 diabetes mellitus, kidney disorder associated with type 2 diabetes mellitus, history of diabetes mellitus type 2, peripheral circulatory disorder associated with type 2 diabetes mellitus, history of diabetes mellitus type 2 (situation)]</td>\n",
       "      <td>[0.0000, 0.0328, 0.0453, 0.0468, 0.0514, 0.0542, 0.0542, 0.0551, 0.0578, 0.0599, 0.0613, 0.0638, 0.0643]</td>\n",
       "    </tr>\n",
       "  </tbody>\n",
       "</table>\n",
       "</div>"
      ],
      "text/plain": [
       "                     chunks  begin  end  code  \\\n",
       "0  diabetes mellitus type 2  0      23   E119   \n",
       "\n",
       "                                                                             all_codes  \\\n",
       "0  [E119, E118, O2411, E113, E139, E1143, E1144, E114, E117, E112, Z8639, E1151, Z863]   \n",
       "\n",
       "                                                                                                                                                                                                                                                                                                                                                                                                                                                                                                                                                                                                                                   resolutions  \\\n",
       "0  [diabetes mellitus type 2, disorder associated with type 2 diabetes mellitus, pre-existing type 2 diabetes mellitus, disorder of eye with type 2 diabetes mellitus, secondary diabetes mellitus, neurological disorder with type 2 diabetes mellitus, disorder of nervous system due to type 2 diabetes mellitus, neurological disorder with diabetes type 2, multiple complications of type 2 diabetes mellitus, kidney disorder associated with type 2 diabetes mellitus, history of diabetes mellitus type 2, peripheral circulatory disorder associated with type 2 diabetes mellitus, history of diabetes mellitus type 2 (situation)]   \n",
       "\n",
       "                                                                                              all_distances  \n",
       "0  [0.0000, 0.0328, 0.0453, 0.0468, 0.0514, 0.0542, 0.0542, 0.0551, 0.0578, 0.0599, 0.0613, 0.0638, 0.0643]  "
      ]
     },
     "metadata": {
      "tags": []
     },
     "output_type": "display_data"
    },
    {
     "name": "stdout",
     "output_type": "stream",
     "text": [
      ">>  lymph nodes of multiple sites\n"
     ]
    },
    {
     "data": {
      "text/html": [
       "<div>\n",
       "<style scoped>\n",
       "    .dataframe tbody tr th:only-of-type {\n",
       "        vertical-align: middle;\n",
       "    }\n",
       "\n",
       "    .dataframe tbody tr th {\n",
       "        vertical-align: top;\n",
       "    }\n",
       "\n",
       "    .dataframe thead th {\n",
       "        text-align: right;\n",
       "    }\n",
       "</style>\n",
       "<table border=\"1\" class=\"dataframe\">\n",
       "  <thead>\n",
       "    <tr style=\"text-align: right;\">\n",
       "      <th></th>\n",
       "      <th>chunks</th>\n",
       "      <th>begin</th>\n",
       "      <th>end</th>\n",
       "      <th>code</th>\n",
       "      <th>all_codes</th>\n",
       "      <th>resolutions</th>\n",
       "      <th>all_distances</th>\n",
       "    </tr>\n",
       "  </thead>\n",
       "  <tbody>\n",
       "    <tr>\n",
       "      <th>0</th>\n",
       "      <td>lymph nodes of multiple sites</td>\n",
       "      <td>0</td>\n",
       "      <td>28</td>\n",
       "      <td>C8408</td>\n",
       "      <td>[C8408, M6749, R238, T009, R591, M259, R590, J984, L029, C779, R229, L918, C801, R6889, M2540, H531, C8598, R198, C8418]</td>\n",
       "      <td>[neoplasm of lymph nodes of multiple sites, ganglion, multiple sites, multiple lesions, blisters of multiple sites, o/e - lymph nodes tethered, multiple joint involvement, lymphadenopathy of head and/or neck, multiple lesions (finding), boils of multiple sites, regional lymph node involvement present, multiple lumps, multiple skin tags, multiple malignancy, multiple symptoms, effusion of joint of multiple sites, multiple visual images, lymphoma involves multiple lymph node regions, abdominal movements, sezary disease, lymph nodes of multiple sites]</td>\n",
       "      <td>[0.1116, 0.1111, 0.1209, 0.1388, 0.1447, 0.1374, 0.1442, 0.1477, 0.1557, 0.1512, 0.1543, 0.1553, 0.1565, 0.1573, 0.1655, 0.1581, 0.1687, 0.1621, 0.1736]</td>\n",
       "    </tr>\n",
       "  </tbody>\n",
       "</table>\n",
       "</div>"
      ],
      "text/plain": [
       "                          chunks  begin  end   code  \\\n",
       "0  lymph nodes of multiple sites  0      28   C8408   \n",
       "\n",
       "                                                                                                                  all_codes  \\\n",
       "0  [C8408, M6749, R238, T009, R591, M259, R590, J984, L029, C779, R229, L918, C801, R6889, M2540, H531, C8598, R198, C8418]   \n",
       "\n",
       "                                                                                                                                                                                                                                                                                                                                                                                                                                                                                                                                                                  resolutions  \\\n",
       "0  [neoplasm of lymph nodes of multiple sites, ganglion, multiple sites, multiple lesions, blisters of multiple sites, o/e - lymph nodes tethered, multiple joint involvement, lymphadenopathy of head and/or neck, multiple lesions (finding), boils of multiple sites, regional lymph node involvement present, multiple lumps, multiple skin tags, multiple malignancy, multiple symptoms, effusion of joint of multiple sites, multiple visual images, lymphoma involves multiple lymph node regions, abdominal movements, sezary disease, lymph nodes of multiple sites]   \n",
       "\n",
       "                                                                                                                                              all_distances  \n",
       "0  [0.1116, 0.1111, 0.1209, 0.1388, 0.1447, 0.1374, 0.1442, 0.1477, 0.1557, 0.1512, 0.1543, 0.1553, 0.1565, 0.1573, 0.1655, 0.1581, 0.1687, 0.1621, 0.1736]  "
      ]
     },
     "metadata": {
      "tags": []
     },
     "output_type": "display_data"
    },
    {
     "name": "stdout",
     "output_type": "stream",
     "text": [
      ">>  other chronic pain\n"
     ]
    },
    {
     "data": {
      "text/html": [
       "<div>\n",
       "<style scoped>\n",
       "    .dataframe tbody tr th:only-of-type {\n",
       "        vertical-align: middle;\n",
       "    }\n",
       "\n",
       "    .dataframe tbody tr th {\n",
       "        vertical-align: top;\n",
       "    }\n",
       "\n",
       "    .dataframe thead th {\n",
       "        text-align: right;\n",
       "    }\n",
       "</style>\n",
       "<table border=\"1\" class=\"dataframe\">\n",
       "  <thead>\n",
       "    <tr style=\"text-align: right;\">\n",
       "      <th></th>\n",
       "      <th>chunks</th>\n",
       "      <th>begin</th>\n",
       "      <th>end</th>\n",
       "      <th>code</th>\n",
       "      <th>all_codes</th>\n",
       "      <th>resolutions</th>\n",
       "      <th>all_distances</th>\n",
       "    </tr>\n",
       "  </thead>\n",
       "  <tbody>\n",
       "    <tr>\n",
       "      <th>0</th>\n",
       "      <td>other chronic pain</td>\n",
       "      <td>0</td>\n",
       "      <td>17</td>\n",
       "      <td>G8929</td>\n",
       "      <td>[G8929, G8928, R52, R108, R078, R522, I999, M2550, R51, M2662, F4541, R521, M2559, R5383, G894, M5499]</td>\n",
       "      <td>[other chronic pain, other chronic postprocedural pain, chronic pain, other abdominal pain, other chest pain, generalized chronic body pains, chronic visceral pain (disorder), multiple joint pain, chronic secondary facial pain, chronic pain in face, chronic psychogenic pain, chronic intractable pain (finding), pain in other specified joint, other fatigue, chronic pain syndrome (disorder), back pain]</td>\n",
       "      <td>[0.0000, 0.0619, 0.0610, 0.0642, 0.0670, 0.0771, 0.0845, 0.0848, 0.0900, 0.0889, 0.0908, 0.0918, 0.0939, 0.0941, 0.0947, 0.0929]</td>\n",
       "    </tr>\n",
       "  </tbody>\n",
       "</table>\n",
       "</div>"
      ],
      "text/plain": [
       "               chunks  begin  end   code  \\\n",
       "0  other chronic pain  0      17   G8929   \n",
       "\n",
       "                                                                                                all_codes  \\\n",
       "0  [G8929, G8928, R52, R108, R078, R522, I999, M2550, R51, M2662, F4541, R521, M2559, R5383, G894, M5499]   \n",
       "\n",
       "                                                                                                                                                                                                                                                                                                                                                                                                          resolutions  \\\n",
       "0  [other chronic pain, other chronic postprocedural pain, chronic pain, other abdominal pain, other chest pain, generalized chronic body pains, chronic visceral pain (disorder), multiple joint pain, chronic secondary facial pain, chronic pain in face, chronic psychogenic pain, chronic intractable pain (finding), pain in other specified joint, other fatigue, chronic pain syndrome (disorder), back pain]   \n",
       "\n",
       "                                                                                                                      all_distances  \n",
       "0  [0.0000, 0.0619, 0.0610, 0.0642, 0.0670, 0.0771, 0.0845, 0.0848, 0.0900, 0.0889, 0.0908, 0.0918, 0.0939, 0.0941, 0.0947, 0.0929]  "
      ]
     },
     "metadata": {
      "tags": []
     },
     "output_type": "display_data"
    },
    {
     "name": "stdout",
     "output_type": "stream",
     "text": [
      ">>  severe abdominal pain\n"
     ]
    },
    {
     "data": {
      "text/html": [
       "<div>\n",
       "<style scoped>\n",
       "    .dataframe tbody tr th:only-of-type {\n",
       "        vertical-align: middle;\n",
       "    }\n",
       "\n",
       "    .dataframe tbody tr th {\n",
       "        vertical-align: top;\n",
       "    }\n",
       "\n",
       "    .dataframe thead th {\n",
       "        text-align: right;\n",
       "    }\n",
       "</style>\n",
       "<table border=\"1\" class=\"dataframe\">\n",
       "  <thead>\n",
       "    <tr style=\"text-align: right;\">\n",
       "      <th></th>\n",
       "      <th>chunks</th>\n",
       "      <th>begin</th>\n",
       "      <th>end</th>\n",
       "      <th>code</th>\n",
       "      <th>all_codes</th>\n",
       "      <th>resolutions</th>\n",
       "      <th>all_distances</th>\n",
       "    </tr>\n",
       "  </thead>\n",
       "  <tbody>\n",
       "    <tr>\n",
       "      <th>0</th>\n",
       "      <td>severe abdominal pain</td>\n",
       "      <td>0</td>\n",
       "      <td>20</td>\n",
       "      <td>R1084</td>\n",
       "      <td>[R1084, R101, R109, K388, R104, R1033, R102, F454, K805, R529, R52, M2551]</td>\n",
       "      <td>[generalized abdominal pain, upper abdominal pain, intractable abdominal pain, colicky abdominal pain, generalized colicky abdominal pain, central abdominal pain, acute abdominal pain, psychosomatic abdominal pain, recurrent abdominal pain, severe pain, heavy pain, shoulder pain from abdomen]</td>\n",
       "      <td>[0.0196, 0.0208, 0.0208, 0.0318, 0.0322, 0.0352, 0.0370, 0.0370, 0.0408, 0.0424, 0.0489, 0.0507]</td>\n",
       "    </tr>\n",
       "  </tbody>\n",
       "</table>\n",
       "</div>"
      ],
      "text/plain": [
       "                  chunks  begin  end   code  \\\n",
       "0  severe abdominal pain  0      20   R1084   \n",
       "\n",
       "                                                                    all_codes  \\\n",
       "0  [R1084, R101, R109, K388, R104, R1033, R102, F454, K805, R529, R52, M2551]   \n",
       "\n",
       "                                                                                                                                                                                                                                                                                             resolutions  \\\n",
       "0  [generalized abdominal pain, upper abdominal pain, intractable abdominal pain, colicky abdominal pain, generalized colicky abdominal pain, central abdominal pain, acute abdominal pain, psychosomatic abdominal pain, recurrent abdominal pain, severe pain, heavy pain, shoulder pain from abdomen]   \n",
       "\n",
       "                                                                                      all_distances  \n",
       "0  [0.0196, 0.0208, 0.0208, 0.0318, 0.0322, 0.0352, 0.0370, 0.0370, 0.0408, 0.0424, 0.0489, 0.0507]  "
      ]
     },
     "metadata": {
      "tags": []
     },
     "output_type": "display_data"
    },
    {
     "name": "stdout",
     "output_type": "stream",
     "text": [
      ">>  squamous cell carcinoma of skin\n"
     ]
    },
    {
     "data": {
      "text/html": [
       "<div>\n",
       "<style scoped>\n",
       "    .dataframe tbody tr th:only-of-type {\n",
       "        vertical-align: middle;\n",
       "    }\n",
       "\n",
       "    .dataframe tbody tr th {\n",
       "        vertical-align: top;\n",
       "    }\n",
       "\n",
       "    .dataframe thead th {\n",
       "        text-align: right;\n",
       "    }\n",
       "</style>\n",
       "<table border=\"1\" class=\"dataframe\">\n",
       "  <thead>\n",
       "    <tr style=\"text-align: right;\">\n",
       "      <th></th>\n",
       "      <th>chunks</th>\n",
       "      <th>begin</th>\n",
       "      <th>end</th>\n",
       "      <th>code</th>\n",
       "      <th>all_codes</th>\n",
       "      <th>resolutions</th>\n",
       "      <th>all_distances</th>\n",
       "    </tr>\n",
       "  </thead>\n",
       "  <tbody>\n",
       "    <tr>\n",
       "      <th>0</th>\n",
       "      <td>squamous cell carcinoma of skin</td>\n",
       "      <td>0</td>\n",
       "      <td>30</td>\n",
       "      <td>C449</td>\n",
       "      <td>[C449, C443, D049, C4492, C4452, C4499, C4432, C809, C4442, C4A70, C444, C4491, C799]</td>\n",
       "      <td>[squamous cell carcinoma of skin, squamous cell carcinoma of skin of face, squamous cell carcinoma in situ of skin, scc - squamous cell carcinoma of skin, squamous cell carcinoma of skin of trunk, mucoepidermoid carcinoma of skin, squamous cell carcinoma of skin of and unsp parts of face, squamous cell carcinoma, squamous cell carcinoma of skin of neck, trabecular cell carcinoma of skin, squamous cell carcinoma of scalp, basal cell carcinoma of skin, squamous cell carcinomatosis]</td>\n",
       "      <td>[0.0000, 0.0244, 0.0289, 0.0333, 0.0337, 0.0420, 0.0519, 0.0547, 0.0564, 0.0600, 0.0623, 0.0620, 0.0638]</td>\n",
       "    </tr>\n",
       "  </tbody>\n",
       "</table>\n",
       "</div>"
      ],
      "text/plain": [
       "                            chunks  begin  end  code  \\\n",
       "0  squamous cell carcinoma of skin  0      30   C449   \n",
       "\n",
       "                                                                               all_codes  \\\n",
       "0  [C449, C443, D049, C4492, C4452, C4499, C4432, C809, C4442, C4A70, C444, C4491, C799]   \n",
       "\n",
       "                                                                                                                                                                                                                                                                                                                                                                                                                                                                                            resolutions  \\\n",
       "0  [squamous cell carcinoma of skin, squamous cell carcinoma of skin of face, squamous cell carcinoma in situ of skin, scc - squamous cell carcinoma of skin, squamous cell carcinoma of skin of trunk, mucoepidermoid carcinoma of skin, squamous cell carcinoma of skin of and unsp parts of face, squamous cell carcinoma, squamous cell carcinoma of skin of neck, trabecular cell carcinoma of skin, squamous cell carcinoma of scalp, basal cell carcinoma of skin, squamous cell carcinomatosis]   \n",
       "\n",
       "                                                                                              all_distances  \n",
       "0  [0.0000, 0.0244, 0.0289, 0.0333, 0.0337, 0.0420, 0.0519, 0.0547, 0.0564, 0.0600, 0.0623, 0.0620, 0.0638]  "
      ]
     },
     "metadata": {
      "tags": []
     },
     "output_type": "display_data"
    },
    {
     "name": "stdout",
     "output_type": "stream",
     "text": [
      ">>  type 2 diabetes mellitus\n"
     ]
    },
    {
     "data": {
      "text/html": [
       "<div>\n",
       "<style scoped>\n",
       "    .dataframe tbody tr th:only-of-type {\n",
       "        vertical-align: middle;\n",
       "    }\n",
       "\n",
       "    .dataframe tbody tr th {\n",
       "        vertical-align: top;\n",
       "    }\n",
       "\n",
       "    .dataframe thead th {\n",
       "        text-align: right;\n",
       "    }\n",
       "</style>\n",
       "<table border=\"1\" class=\"dataframe\">\n",
       "  <thead>\n",
       "    <tr style=\"text-align: right;\">\n",
       "      <th></th>\n",
       "      <th>chunks</th>\n",
       "      <th>begin</th>\n",
       "      <th>end</th>\n",
       "      <th>code</th>\n",
       "      <th>all_codes</th>\n",
       "      <th>resolutions</th>\n",
       "      <th>all_distances</th>\n",
       "    </tr>\n",
       "  </thead>\n",
       "  <tbody>\n",
       "    <tr>\n",
       "      <th>0</th>\n",
       "      <td>type 2 diabetes mellitus</td>\n",
       "      <td>0</td>\n",
       "      <td>23</td>\n",
       "      <td>E119</td>\n",
       "      <td>[E119, E118, E113, O2411, E139, E117, E1143, E109, E1169, E114, E112, E1151, E1162]</td>\n",
       "      <td>[type 2 diabetes mellitus, disorder associated with type 2 diabetes mellitus, disorder of eye with type 2 diabetes mellitus, pre-existing type 2 diabetes mellitus, secondary diabetes mellitus, multiple complications of type 2 diabetes mellitus, neurological disorder with type 2 diabetes mellitus, diabetes mellitus, diabetic dyslipidemia associated with type 2 diabetes mellitus, neurological disorder with diabetes type 2, kidney disorder associated with type 2 diabetes mellitus, peripheral circulatory disorder associated with type 2 diabetes mellitus, type 2 diabetes mellitus with skin complications]</td>\n",
       "      <td>[0.0000, 0.0212, 0.0357, 0.0360, 0.0397, 0.0410, 0.0455, 0.0462, 0.0499, 0.0523, 0.0537, 0.0548, 0.0549]</td>\n",
       "    </tr>\n",
       "  </tbody>\n",
       "</table>\n",
       "</div>"
      ],
      "text/plain": [
       "                     chunks  begin  end  code  \\\n",
       "0  type 2 diabetes mellitus  0      23   E119   \n",
       "\n",
       "                                                                             all_codes  \\\n",
       "0  [E119, E118, E113, O2411, E139, E117, E1143, E109, E1169, E114, E112, E1151, E1162]   \n",
       "\n",
       "                                                                                                                                                                                                                                                                                                                                                                                                                                                                                                                                                                                                                      resolutions  \\\n",
       "0  [type 2 diabetes mellitus, disorder associated with type 2 diabetes mellitus, disorder of eye with type 2 diabetes mellitus, pre-existing type 2 diabetes mellitus, secondary diabetes mellitus, multiple complications of type 2 diabetes mellitus, neurological disorder with type 2 diabetes mellitus, diabetes mellitus, diabetic dyslipidemia associated with type 2 diabetes mellitus, neurological disorder with diabetes type 2, kidney disorder associated with type 2 diabetes mellitus, peripheral circulatory disorder associated with type 2 diabetes mellitus, type 2 diabetes mellitus with skin complications]   \n",
       "\n",
       "                                                                                              all_distances  \n",
       "0  [0.0000, 0.0212, 0.0357, 0.0360, 0.0397, 0.0410, 0.0455, 0.0462, 0.0499, 0.0523, 0.0537, 0.0548, 0.0549]  "
      ]
     },
     "metadata": {
      "tags": []
     },
     "output_type": "display_data"
    }
   ],
   "source": [
    "from IPython.display import display\n",
    "\n",
    "for chunk in icd_chunks:\n",
    "\n",
    "    print ('>> ',chunk)\n",
    "    display(get_codes (icd_lp, chunk, vocab='icd10cm_code'))"
   ]
  },
  {
   "cell_type": "code",
   "execution_count": null,
   "metadata": {
    "id": "UfYwgfwrEz_K",
    "outputId": "b6624d51-3a86-41f2-de3a-57afedf100c9",
    "scrolled": false
   },
   "outputs": [
    {
     "name": "stdout",
     "output_type": "stream",
     "text": [
      ">>  down syndrome\n"
     ]
    },
    {
     "data": {
      "text/html": [
       "<div>\n",
       "<style scoped>\n",
       "    .dataframe tbody tr th:only-of-type {\n",
       "        vertical-align: middle;\n",
       "    }\n",
       "\n",
       "    .dataframe tbody tr th {\n",
       "        vertical-align: top;\n",
       "    }\n",
       "\n",
       "    .dataframe thead th {\n",
       "        text-align: right;\n",
       "    }\n",
       "</style>\n",
       "<table border=\"1\" class=\"dataframe\">\n",
       "  <thead>\n",
       "    <tr style=\"text-align: right;\">\n",
       "      <th></th>\n",
       "      <th>chunks</th>\n",
       "      <th>begin</th>\n",
       "      <th>end</th>\n",
       "      <th>code</th>\n",
       "      <th>all_codes</th>\n",
       "      <th>resolutions</th>\n",
       "      <th>all_distances</th>\n",
       "      <th>gt</th>\n",
       "      <th>concept</th>\n",
       "      <th>aux</th>\n",
       "    </tr>\n",
       "  </thead>\n",
       "  <tbody>\n",
       "    <tr>\n",
       "      <th>0</th>\n",
       "      <td>down syndrome</td>\n",
       "      <td>0</td>\n",
       "      <td>12</td>\n",
       "      <td>41040004</td>\n",
       "      <td>[41040004, 157019002, 79385002, 408338009, 247545005, 205618003, 254263008, 95429007, 711461002, 25088000, 45056002, 155375008, 266308000, 20741006, 29696001, 711466007, 230675008, 22994000, 255518004, 248199009, 206891002]</td>\n",
       "      <td>[down syndrome, down's syndrome, lowe syndrome, suspected downs syndrome, downy hair, down's syndrome nos, down's syndrome nos, shortened trunk (disorder), decreased lower face height, dimpled structure, abnormal shortened structure, dropsy, dropsy, dropsy, downward displacement, decreased lower anterior face height, slow channel syndrome (disorder), decreased reflex, downward, down facies, [d]dropsy]</td>\n",
       "      <td>[0.0000, 0.0341, 0.0753, 0.0790, 0.0966, 0.1007, 0.1007, 0.0995, 0.1016, 0.1054, 0.1059, 0.1066, 0.1066, 0.1066, 0.1068, 0.1114, 0.1116, 0.1132, 0.1114, 0.1132, 0.1127]</td>\n",
       "      <td>[Complete trisomy 21 syndrome, Down's syndrome, Lowe syndrome, Suspected Downs syndrome, Downy hair, Down's syndrome NOS, Trisomy 21 NOS, Shortened trunk, Decreased lower face height, Dimple, Abnormal shortening, Right heart failure, Dropsy, Hydrops, Prolapse, Decreased lower anterior face height, Slow channel syndrome, Hyporeflexia, Down, Down's facies, [D]Dropsy]</td>\n",
       "      <td>[Condition, Condition, Condition, Observation, Condition, Condition, Condition, Condition, Condition, Observation, Observation, Condition, Condition, Observation, Observation, Condition, Condition, Condition, Observation, Condition, Observation]</td>\n",
       "      <td>[Clinical Finding, Clinical Finding, Clinical Finding, Context-dependent, Clinical Finding, Clinical Finding, Clinical Finding, Clinical Finding, Clinical Finding, Morph Abnormality, Morph Abnormality, Clinical Finding, Clinical Finding, Morph Abnormality, Morph Abnormality, Clinical Finding, Clinical Finding, Clinical Finding, Qualifier Value, Clinical Finding, Context-dependent]</td>\n",
       "    </tr>\n",
       "  </tbody>\n",
       "</table>\n",
       "</div>"
      ],
      "text/plain": [
       "          chunks  begin  end      code  \\\n",
       "0  down syndrome  0      12   41040004   \n",
       "\n",
       "                                                                                                                                                                                                                         all_codes  \\\n",
       "0  [41040004, 157019002, 79385002, 408338009, 247545005, 205618003, 254263008, 95429007, 711461002, 25088000, 45056002, 155375008, 266308000, 20741006, 29696001, 711466007, 230675008, 22994000, 255518004, 248199009, 206891002]   \n",
       "\n",
       "                                                                                                                                                                                                                                                                                                                                                                                                            resolutions  \\\n",
       "0  [down syndrome, down's syndrome, lowe syndrome, suspected downs syndrome, downy hair, down's syndrome nos, down's syndrome nos, shortened trunk (disorder), decreased lower face height, dimpled structure, abnormal shortened structure, dropsy, dropsy, dropsy, downward displacement, decreased lower anterior face height, slow channel syndrome (disorder), decreased reflex, downward, down facies, [d]dropsy]   \n",
       "\n",
       "                                                                                                                                                              all_distances  \\\n",
       "0  [0.0000, 0.0341, 0.0753, 0.0790, 0.0966, 0.1007, 0.1007, 0.0995, 0.1016, 0.1054, 0.1059, 0.1066, 0.1066, 0.1066, 0.1068, 0.1114, 0.1116, 0.1132, 0.1114, 0.1132, 0.1127]   \n",
       "\n",
       "                                                                                                                                                                                                                                                                                                                                                                                gt  \\\n",
       "0  [Complete trisomy 21 syndrome, Down's syndrome, Lowe syndrome, Suspected Downs syndrome, Downy hair, Down's syndrome NOS, Trisomy 21 NOS, Shortened trunk, Decreased lower face height, Dimple, Abnormal shortening, Right heart failure, Dropsy, Hydrops, Prolapse, Decreased lower anterior face height, Slow channel syndrome, Hyporeflexia, Down, Down's facies, [D]Dropsy]   \n",
       "\n",
       "                                                                                                                                                                                                                                                 concept  \\\n",
       "0  [Condition, Condition, Condition, Observation, Condition, Condition, Condition, Condition, Condition, Observation, Observation, Condition, Condition, Observation, Observation, Condition, Condition, Condition, Observation, Condition, Observation]   \n",
       "\n",
       "                                                                                                                                                                                                                                                                                                                                                                                               aux  \n",
       "0  [Clinical Finding, Clinical Finding, Clinical Finding, Context-dependent, Clinical Finding, Clinical Finding, Clinical Finding, Clinical Finding, Clinical Finding, Morph Abnormality, Morph Abnormality, Clinical Finding, Clinical Finding, Morph Abnormality, Morph Abnormality, Clinical Finding, Clinical Finding, Clinical Finding, Qualifier Value, Clinical Finding, Context-dependent]  "
      ]
     },
     "metadata": {
      "tags": []
     },
     "output_type": "display_data"
    },
    {
     "name": "stdout",
     "output_type": "stream",
     "text": [
      ">>  adenocarcinoma\n"
     ]
    },
    {
     "data": {
      "text/html": [
       "<div>\n",
       "<style scoped>\n",
       "    .dataframe tbody tr th:only-of-type {\n",
       "        vertical-align: middle;\n",
       "    }\n",
       "\n",
       "    .dataframe tbody tr th {\n",
       "        vertical-align: top;\n",
       "    }\n",
       "\n",
       "    .dataframe thead th {\n",
       "        text-align: right;\n",
       "    }\n",
       "</style>\n",
       "<table border=\"1\" class=\"dataframe\">\n",
       "  <thead>\n",
       "    <tr style=\"text-align: right;\">\n",
       "      <th></th>\n",
       "      <th>chunks</th>\n",
       "      <th>begin</th>\n",
       "      <th>end</th>\n",
       "      <th>code</th>\n",
       "      <th>all_codes</th>\n",
       "      <th>resolutions</th>\n",
       "      <th>all_distances</th>\n",
       "      <th>gt</th>\n",
       "      <th>concept</th>\n",
       "      <th>aux</th>\n",
       "    </tr>\n",
       "  </thead>\n",
       "  <tbody>\n",
       "    <tr>\n",
       "      <th>0</th>\n",
       "      <td>adenocarcinoma</td>\n",
       "      <td>0</td>\n",
       "      <td>13</td>\n",
       "      <td>443961001</td>\n",
       "      <td>[443961001, 35917007, 403902008, 59367005, 72495009, 58069009, 450948005, 45410002, 423595004, 32968003, 189578007, 134297006, 11671000, 302827006, 86293007, 189614008, 28558000, 89740008]</td>\n",
       "      <td>[adenocarcinoma, adenocarcinoma, adenosquamous carcinoma, adenosquamous carcinoma, mucous adenocarcinoma, ceruminous adenocarcinoma, serrated adenocarcinoma, acinar adenocarcinoma, adenocarcinoma carcinomatosis, inflammatory adenocarcinoma, [m]adenocarcinomas, adenoma and adenocarcinoma, adenocystic carcinoma, adenocystic carcinoma, adenocarcinoid tumor, adenocarcinoid tumor, villous adenocarcinoma, lobular adenocarcinoma]</td>\n",
       "      <td>[0.0000, 0.0000, 0.0401, 0.0401, 0.0432, 0.0496, 0.0513, 0.0520, 0.0546, 0.0563, 0.0586, 0.0593, 0.0594, 0.0594, 0.0615, 0.0615, 0.0601, 0.0617]</td>\n",
       "      <td>[Malignant adenomatous neoplasm, Adenocarcinoma, Adenosquamous cell carcinoma, Adenosquamous carcinoma, Mucinous adenocarcinoma, Ceruminous adenocarcinoma, Serrated adenocarcinoma, Acinar cell carcinoma, Adenocarcinoma carcinomatosis, Inflammatory carcinoma, [M]Adenomas &amp;/or adenocarcinomas, Adenoma and adenocarcinoma, Adenoid cystic carcinoma, Cylindroma, Adenocarcinoid tumor, Adenocarcinoid tumor, Villous adenocarcinoma, Lobular carcinoma]</td>\n",
       "      <td>[Condition, Observation, Condition, Observation, Observation, Observation, Observation, Observation, Condition, Observation, Condition, Observation, Observation, Observation, Observation, Condition, Observation, Observation]</td>\n",
       "      <td>[Clinical Finding, Morph Abnormality, Clinical Finding, Morph Abnormality, Morph Abnormality, Morph Abnormality, Morph Abnormality, Morph Abnormality, Clinical Finding, Morph Abnormality, Clinical Finding, Qualifier Value, Morph Abnormality, Morph Abnormality, Morph Abnormality, Clinical Finding, Morph Abnormality, Morph Abnormality]</td>\n",
       "    </tr>\n",
       "  </tbody>\n",
       "</table>\n",
       "</div>"
      ],
      "text/plain": [
       "           chunks  begin  end       code  \\\n",
       "0  adenocarcinoma  0      13   443961001   \n",
       "\n",
       "                                                                                                                                                                                      all_codes  \\\n",
       "0  [443961001, 35917007, 403902008, 59367005, 72495009, 58069009, 450948005, 45410002, 423595004, 32968003, 189578007, 134297006, 11671000, 302827006, 86293007, 189614008, 28558000, 89740008]   \n",
       "\n",
       "                                                                                                                                                                                                                                                                                                                                                                                                                                  resolutions  \\\n",
       "0  [adenocarcinoma, adenocarcinoma, adenosquamous carcinoma, adenosquamous carcinoma, mucous adenocarcinoma, ceruminous adenocarcinoma, serrated adenocarcinoma, acinar adenocarcinoma, adenocarcinoma carcinomatosis, inflammatory adenocarcinoma, [m]adenocarcinomas, adenoma and adenocarcinoma, adenocystic carcinoma, adenocystic carcinoma, adenocarcinoid tumor, adenocarcinoid tumor, villous adenocarcinoma, lobular adenocarcinoma]   \n",
       "\n",
       "                                                                                                                                      all_distances  \\\n",
       "0  [0.0000, 0.0000, 0.0401, 0.0401, 0.0432, 0.0496, 0.0513, 0.0520, 0.0546, 0.0563, 0.0586, 0.0593, 0.0594, 0.0594, 0.0615, 0.0615, 0.0601, 0.0617]   \n",
       "\n",
       "                                                                                                                                                                                                                                                                                                                                                                                                                                                              gt  \\\n",
       "0  [Malignant adenomatous neoplasm, Adenocarcinoma, Adenosquamous cell carcinoma, Adenosquamous carcinoma, Mucinous adenocarcinoma, Ceruminous adenocarcinoma, Serrated adenocarcinoma, Acinar cell carcinoma, Adenocarcinoma carcinomatosis, Inflammatory carcinoma, [M]Adenomas &/or adenocarcinomas, Adenoma and adenocarcinoma, Adenoid cystic carcinoma, Cylindroma, Adenocarcinoid tumor, Adenocarcinoid tumor, Villous adenocarcinoma, Lobular carcinoma]   \n",
       "\n",
       "                                                                                                                                                                                                                            concept  \\\n",
       "0  [Condition, Observation, Condition, Observation, Observation, Observation, Observation, Observation, Condition, Observation, Condition, Observation, Observation, Observation, Observation, Condition, Observation, Observation]   \n",
       "\n",
       "                                                                                                                                                                                                                                                                                                                                               aux  \n",
       "0  [Clinical Finding, Morph Abnormality, Clinical Finding, Morph Abnormality, Morph Abnormality, Morph Abnormality, Morph Abnormality, Morph Abnormality, Clinical Finding, Morph Abnormality, Clinical Finding, Qualifier Value, Morph Abnormality, Morph Abnormality, Morph Abnormality, Clinical Finding, Morph Abnormality, Morph Abnormality]  "
      ]
     },
     "metadata": {
      "tags": []
     },
     "output_type": "display_data"
    },
    {
     "name": "stdout",
     "output_type": "stream",
     "text": [
      ">>  aortic valve stenosis\n"
     ]
    },
    {
     "data": {
      "text/html": [
       "<div>\n",
       "<style scoped>\n",
       "    .dataframe tbody tr th:only-of-type {\n",
       "        vertical-align: middle;\n",
       "    }\n",
       "\n",
       "    .dataframe tbody tr th {\n",
       "        vertical-align: top;\n",
       "    }\n",
       "\n",
       "    .dataframe thead th {\n",
       "        text-align: right;\n",
       "    }\n",
       "</style>\n",
       "<table border=\"1\" class=\"dataframe\">\n",
       "  <thead>\n",
       "    <tr style=\"text-align: right;\">\n",
       "      <th></th>\n",
       "      <th>chunks</th>\n",
       "      <th>begin</th>\n",
       "      <th>end</th>\n",
       "      <th>code</th>\n",
       "      <th>all_codes</th>\n",
       "      <th>resolutions</th>\n",
       "      <th>all_distances</th>\n",
       "      <th>gt</th>\n",
       "      <th>concept</th>\n",
       "      <th>aux</th>\n",
       "    </tr>\n",
       "  </thead>\n",
       "  <tbody>\n",
       "    <tr>\n",
       "      <th>0</th>\n",
       "      <td>aortic valve stenosis</td>\n",
       "      <td>0</td>\n",
       "      <td>20</td>\n",
       "      <td>60573004</td>\n",
       "      <td>[60573004, 472783006, 390722003, 67754003, 204436002, 703170006, 194987006, 8722008, 44241007, 19833008, 194733006, 427515002, 60234000, 93384001, 268185002, 703297006]</td>\n",
       "      <td>[aortic valve stenosis, subneoaortic valve stenosis, aortic stenosis, aortic valve sclerosis, supra-valvular aortic stenosis, prosthetic aortic valve stenosis, aortic valve stenosis with insufficiency, aortic valve disorder, heart valve stenosis, nodular calcific aortic valve stenosis, mitral and aortic stenosis, critical stenosis of aortic valve (disorder), aortic valve regurgitation, stenosis of aortic arch, supravalvar aortic stenosis, prosthetic aortic valve stenosis and regurgitation]</td>\n",
       "      <td>[0.0000, 0.0218, 0.0259, 0.0295, 0.0307, 0.0311, 0.0351, 0.0423, 0.0424, 0.0494, 0.0497, 0.0514, 0.0521, 0.0528, 0.0534, 0.0525]</td>\n",
       "      <td>[Aortic valve stenosis, Subneoaortic valve stenosis, Aortic stenosis, Aortic valve sclerosis, Aortic stenosis: [supra-valvula] or [congenital ascending], Prosthetic aortic valve stenosis, Aortic valve stenosis with insufficiency, Aortic valve disorder, Heart valve stenosis, Nodular calcific aortic valve stenosis, Mitral and aortic stenosis, Critical stenosis of aortic valve, Aortic valve regurgitation, Congenital stenosis of aortic arch, Supravalvar aortic stenosis, Prosthetic aortic valve stenosis and regurgitation]</td>\n",
       "      <td>[Condition, Condition, Condition, Condition, Condition, Condition, Condition, Condition, Condition, Condition, Condition, Condition, Condition, Condition, Condition, Condition]</td>\n",
       "      <td>[Clinical Finding, Clinical Finding, Clinical Finding, Clinical Finding, Clinical Finding, Clinical Finding, Clinical Finding, Clinical Finding, Clinical Finding, Clinical Finding, Clinical Finding, Clinical Finding, Clinical Finding, Clinical Finding, Clinical Finding, Clinical Finding]</td>\n",
       "    </tr>\n",
       "  </tbody>\n",
       "</table>\n",
       "</div>"
      ],
      "text/plain": [
       "                  chunks  begin  end      code  \\\n",
       "0  aortic valve stenosis  0      20   60573004   \n",
       "\n",
       "                                                                                                                                                                  all_codes  \\\n",
       "0  [60573004, 472783006, 390722003, 67754003, 204436002, 703170006, 194987006, 8722008, 44241007, 19833008, 194733006, 427515002, 60234000, 93384001, 268185002, 703297006]   \n",
       "\n",
       "                                                                                                                                                                                                                                                                                                                                                                                                                                                                                                      resolutions  \\\n",
       "0  [aortic valve stenosis, subneoaortic valve stenosis, aortic stenosis, aortic valve sclerosis, supra-valvular aortic stenosis, prosthetic aortic valve stenosis, aortic valve stenosis with insufficiency, aortic valve disorder, heart valve stenosis, nodular calcific aortic valve stenosis, mitral and aortic stenosis, critical stenosis of aortic valve (disorder), aortic valve regurgitation, stenosis of aortic arch, supravalvar aortic stenosis, prosthetic aortic valve stenosis and regurgitation]   \n",
       "\n",
       "                                                                                                                      all_distances  \\\n",
       "0  [0.0000, 0.0218, 0.0259, 0.0295, 0.0307, 0.0311, 0.0351, 0.0423, 0.0424, 0.0494, 0.0497, 0.0514, 0.0521, 0.0528, 0.0534, 0.0525]   \n",
       "\n",
       "                                                                                                                                                                                                                                                                                                                                                                                                                                                                                                                                           gt  \\\n",
       "0  [Aortic valve stenosis, Subneoaortic valve stenosis, Aortic stenosis, Aortic valve sclerosis, Aortic stenosis: [supra-valvula] or [congenital ascending], Prosthetic aortic valve stenosis, Aortic valve stenosis with insufficiency, Aortic valve disorder, Heart valve stenosis, Nodular calcific aortic valve stenosis, Mitral and aortic stenosis, Critical stenosis of aortic valve, Aortic valve regurgitation, Congenital stenosis of aortic arch, Supravalvar aortic stenosis, Prosthetic aortic valve stenosis and regurgitation]   \n",
       "\n",
       "                                                                                                                                                                            concept  \\\n",
       "0  [Condition, Condition, Condition, Condition, Condition, Condition, Condition, Condition, Condition, Condition, Condition, Condition, Condition, Condition, Condition, Condition]   \n",
       "\n",
       "                                                                                                                                                                                                                                                                                                aux  \n",
       "0  [Clinical Finding, Clinical Finding, Clinical Finding, Clinical Finding, Clinical Finding, Clinical Finding, Clinical Finding, Clinical Finding, Clinical Finding, Clinical Finding, Clinical Finding, Clinical Finding, Clinical Finding, Clinical Finding, Clinical Finding, Clinical Finding]  "
      ]
     },
     "metadata": {
      "tags": []
     },
     "output_type": "display_data"
    },
    {
     "name": "stdout",
     "output_type": "stream",
     "text": [
      ">>  atherosclerosis\n"
     ]
    },
    {
     "data": {
      "text/html": [
       "<div>\n",
       "<style scoped>\n",
       "    .dataframe tbody tr th:only-of-type {\n",
       "        vertical-align: middle;\n",
       "    }\n",
       "\n",
       "    .dataframe tbody tr th {\n",
       "        vertical-align: top;\n",
       "    }\n",
       "\n",
       "    .dataframe thead th {\n",
       "        text-align: right;\n",
       "    }\n",
       "</style>\n",
       "<table border=\"1\" class=\"dataframe\">\n",
       "  <thead>\n",
       "    <tr style=\"text-align: right;\">\n",
       "      <th></th>\n",
       "      <th>chunks</th>\n",
       "      <th>begin</th>\n",
       "      <th>end</th>\n",
       "      <th>code</th>\n",
       "      <th>all_codes</th>\n",
       "      <th>resolutions</th>\n",
       "      <th>all_distances</th>\n",
       "      <th>gt</th>\n",
       "      <th>concept</th>\n",
       "      <th>aux</th>\n",
       "    </tr>\n",
       "  </thead>\n",
       "  <tbody>\n",
       "    <tr>\n",
       "      <th>0</th>\n",
       "      <td>atherosclerosis</td>\n",
       "      <td>0</td>\n",
       "      <td>14</td>\n",
       "      <td>38716007</td>\n",
       "      <td>[38716007, 155382007, 155414001, 195251000, 266318005, 194848007, 441574008, 443502000, 41702007, 266231003, 155316000, 194841001, 28960008, 300920004, 39468009, 155415000, 195252007, 129573006]</td>\n",
       "      <td>[atherosclerosis, atherosclerosis, atherosclerosis, atherosclerosis, atherosclerosis, atherosclerosis, atherosclerosis artery, coronary atherosclerosis, coronary atherosclerosis, coronary atherosclerosis, coronary atherosclerosis, coronary atherosclerosis, arteriosclerosis, carotid atherosclerosis, cardiovascular arteriosclerosis, aortic atherosclerosis, aortic atherosclerosis, atherosclerotic ischemic disease]</td>\n",
       "      <td>[0.0000, 0.0000, 0.0000, 0.0000, 0.0000, 0.0000, 0.0280, 0.0451, 0.0451, 0.0451, 0.0451, 0.0451, 0.0462, 0.0477, 0.0466, 0.0490, 0.0490, 0.0485]</td>\n",
       "      <td>[Atherosclerosis, Atherosclerosis, Arteriosclerosis NOS, Atherosclerotic cardiovascular disease, Atherosclerosis, Atherosclerosis, Atherosclerosis of artery, Coronary atherosclerosis, Atherosclerotic heart disease, Coronary atherosclerosis, Coronary atherosclerosis, Coronary artery disease, Arteriosclerosis, Carotid atherosclerosis, Arteriosclerotic cardiovascular disease, Aortic atherosclerosis, Aortic atherosclerosis, Atherosclerotic occlusive disease]</td>\n",
       "      <td>[Observation, Condition, Condition, Condition, Condition, Condition, Condition, Condition, Condition, Condition, Condition, Condition, Observation, Condition, Condition, Condition, Condition, Condition]</td>\n",
       "      <td>[Morph Abnormality, Clinical Finding, Clinical Finding, Clinical Finding, Clinical Finding, Clinical Finding, Clinical Finding, Clinical Finding, Clinical Finding, Clinical Finding, Clinical Finding, Clinical Finding, Morph Abnormality, Clinical Finding, Clinical Finding, Clinical Finding, Clinical Finding, Clinical Finding]</td>\n",
       "    </tr>\n",
       "  </tbody>\n",
       "</table>\n",
       "</div>"
      ],
      "text/plain": [
       "            chunks  begin  end      code  \\\n",
       "0  atherosclerosis  0      14   38716007   \n",
       "\n",
       "                                                                                                                                                                                            all_codes  \\\n",
       "0  [38716007, 155382007, 155414001, 195251000, 266318005, 194848007, 441574008, 443502000, 41702007, 266231003, 155316000, 194841001, 28960008, 300920004, 39468009, 155415000, 195252007, 129573006]   \n",
       "\n",
       "                                                                                                                                                                                                                                                                                                                                                                                                                      resolutions  \\\n",
       "0  [atherosclerosis, atherosclerosis, atherosclerosis, atherosclerosis, atherosclerosis, atherosclerosis, atherosclerosis artery, coronary atherosclerosis, coronary atherosclerosis, coronary atherosclerosis, coronary atherosclerosis, coronary atherosclerosis, arteriosclerosis, carotid atherosclerosis, cardiovascular arteriosclerosis, aortic atherosclerosis, aortic atherosclerosis, atherosclerotic ischemic disease]   \n",
       "\n",
       "                                                                                                                                      all_distances  \\\n",
       "0  [0.0000, 0.0000, 0.0000, 0.0000, 0.0000, 0.0000, 0.0280, 0.0451, 0.0451, 0.0451, 0.0451, 0.0451, 0.0462, 0.0477, 0.0466, 0.0490, 0.0490, 0.0485]   \n",
       "\n",
       "                                                                                                                                                                                                                                                                                                                                                                                                                                                                           gt  \\\n",
       "0  [Atherosclerosis, Atherosclerosis, Arteriosclerosis NOS, Atherosclerotic cardiovascular disease, Atherosclerosis, Atherosclerosis, Atherosclerosis of artery, Coronary atherosclerosis, Atherosclerotic heart disease, Coronary atherosclerosis, Coronary atherosclerosis, Coronary artery disease, Arteriosclerosis, Carotid atherosclerosis, Arteriosclerotic cardiovascular disease, Aortic atherosclerosis, Aortic atherosclerosis, Atherosclerotic occlusive disease]   \n",
       "\n",
       "                                                                                                                                                                                                      concept  \\\n",
       "0  [Observation, Condition, Condition, Condition, Condition, Condition, Condition, Condition, Condition, Condition, Condition, Condition, Observation, Condition, Condition, Condition, Condition, Condition]   \n",
       "\n",
       "                                                                                                                                                                                                                                                                                                                                      aux  \n",
       "0  [Morph Abnormality, Clinical Finding, Clinical Finding, Clinical Finding, Clinical Finding, Clinical Finding, Clinical Finding, Clinical Finding, Clinical Finding, Clinical Finding, Clinical Finding, Clinical Finding, Morph Abnormality, Clinical Finding, Clinical Finding, Clinical Finding, Clinical Finding, Clinical Finding]  "
      ]
     },
     "metadata": {
      "tags": []
     },
     "output_type": "display_data"
    },
    {
     "name": "stdout",
     "output_type": "stream",
     "text": [
      ">>  atrial fibrillation\n"
     ]
    },
    {
     "data": {
      "text/html": [
       "<div>\n",
       "<style scoped>\n",
       "    .dataframe tbody tr th:only-of-type {\n",
       "        vertical-align: middle;\n",
       "    }\n",
       "\n",
       "    .dataframe tbody tr th {\n",
       "        vertical-align: top;\n",
       "    }\n",
       "\n",
       "    .dataframe thead th {\n",
       "        text-align: right;\n",
       "    }\n",
       "</style>\n",
       "<table border=\"1\" class=\"dataframe\">\n",
       "  <thead>\n",
       "    <tr style=\"text-align: right;\">\n",
       "      <th></th>\n",
       "      <th>chunks</th>\n",
       "      <th>begin</th>\n",
       "      <th>end</th>\n",
       "      <th>code</th>\n",
       "      <th>all_codes</th>\n",
       "      <th>resolutions</th>\n",
       "      <th>all_distances</th>\n",
       "      <th>gt</th>\n",
       "      <th>concept</th>\n",
       "      <th>aux</th>\n",
       "    </tr>\n",
       "  </thead>\n",
       "  <tbody>\n",
       "    <tr>\n",
       "      <th>0</th>\n",
       "      <td>atrial fibrillation</td>\n",
       "      <td>0</td>\n",
       "      <td>18</td>\n",
       "      <td>49436004</td>\n",
       "      <td>[49436004, 155364009, 266306001, 282825002, 440059007, 426749004, 195081002, 19508003, 1066821000000101, 762247006, 761000087107, 164889003, 161521008, 138790004, 312442005, 300996004, 142049000]</td>\n",
       "      <td>[atrial fibrillation, atrial fibrillation, atrial fibrillation, intermittent atrial fibrillation, persistent atrial fibrillation, chronic atrial fibrillation, paroxysmal atrial fibrillation, retired procedure, copd (chronic obstructive pulmonary disease) monitoring sms (short message service) text message first invitation, preexcited atrial fibrillation, fluoroscopic venography of bilateral renal veins, electrocardiographic atrial fibrillation, h/o: atrial fibrillation, h/o: atrial fibrillation, h/o: atrial fibrillation, controlled atrial fibrillation (disorder), ecg: atrial fibrillation]</td>\n",
       "      <td>[0.0000, 0.0000, 0.0000, 0.0185, 0.0220, 0.0265, 0.0273, 0.0273, 0.0305, 0.0356, 0.0356, 0.0395, 0.0455, 0.0455, 0.0455, 0.0479, 0.0498]</td>\n",
       "      <td>[Atrial fibrillation, Fibrillation - atrial, Fibrillation - atrial, Paroxysmal atrial fibrillation, Persistent atrial fibrillation, Chronic atrial fibrillation, Paroxysmal atrial fibrillation, Retired procedure, COPD (chronic obstructive pulmonary disease) monitoring SMS (short message service) text message first invitation, Preexcited atrial fibrillation, Fluoroscopic venography of bilateral renal veins, ECG: atrial fibrillation, H/O: atrial fibrillation, H/O: atrial fibrillation, H/O: atrial fibrillation, Controlled atrial fibrillation, ECG: atrial fibrillation]</td>\n",
       "      <td>[Condition, Condition, Condition, Condition, Condition, Condition, Condition, Procedure, Observation, Condition, Procedure, Condition, Observation, Observation, Observation, Condition, Condition]</td>\n",
       "      <td>[Clinical Finding, Clinical Finding, Clinical Finding, Clinical Finding, Clinical Finding, Clinical Finding, Clinical Finding, Procedure, Procedure, Clinical Finding, Procedure, Clinical Finding, Context-dependent, Context-dependent, Context-dependent, Clinical Finding, Clinical Finding]</td>\n",
       "    </tr>\n",
       "  </tbody>\n",
       "</table>\n",
       "</div>"
      ],
      "text/plain": [
       "                chunks  begin  end      code  \\\n",
       "0  atrial fibrillation  0      18   49436004   \n",
       "\n",
       "                                                                                                                                                                                             all_codes  \\\n",
       "0  [49436004, 155364009, 266306001, 282825002, 440059007, 426749004, 195081002, 19508003, 1066821000000101, 762247006, 761000087107, 164889003, 161521008, 138790004, 312442005, 300996004, 142049000]   \n",
       "\n",
       "                                                                                                                                                                                                                                                                                                                                                                                                                                                                                                                                                                                                           resolutions  \\\n",
       "0  [atrial fibrillation, atrial fibrillation, atrial fibrillation, intermittent atrial fibrillation, persistent atrial fibrillation, chronic atrial fibrillation, paroxysmal atrial fibrillation, retired procedure, copd (chronic obstructive pulmonary disease) monitoring sms (short message service) text message first invitation, preexcited atrial fibrillation, fluoroscopic venography of bilateral renal veins, electrocardiographic atrial fibrillation, h/o: atrial fibrillation, h/o: atrial fibrillation, h/o: atrial fibrillation, controlled atrial fibrillation (disorder), ecg: atrial fibrillation]   \n",
       "\n",
       "                                                                                                                              all_distances  \\\n",
       "0  [0.0000, 0.0000, 0.0000, 0.0185, 0.0220, 0.0265, 0.0273, 0.0273, 0.0305, 0.0356, 0.0356, 0.0395, 0.0455, 0.0455, 0.0455, 0.0479, 0.0498]   \n",
       "\n",
       "                                                                                                                                                                                                                                                                                                                                                                                                                                                                                                                                                                                           gt  \\\n",
       "0  [Atrial fibrillation, Fibrillation - atrial, Fibrillation - atrial, Paroxysmal atrial fibrillation, Persistent atrial fibrillation, Chronic atrial fibrillation, Paroxysmal atrial fibrillation, Retired procedure, COPD (chronic obstructive pulmonary disease) monitoring SMS (short message service) text message first invitation, Preexcited atrial fibrillation, Fluoroscopic venography of bilateral renal veins, ECG: atrial fibrillation, H/O: atrial fibrillation, H/O: atrial fibrillation, H/O: atrial fibrillation, Controlled atrial fibrillation, ECG: atrial fibrillation]   \n",
       "\n",
       "                                                                                                                                                                                               concept  \\\n",
       "0  [Condition, Condition, Condition, Condition, Condition, Condition, Condition, Procedure, Observation, Condition, Procedure, Condition, Observation, Observation, Observation, Condition, Condition]   \n",
       "\n",
       "                                                                                                                                                                                                                                                                                                aux  \n",
       "0  [Clinical Finding, Clinical Finding, Clinical Finding, Clinical Finding, Clinical Finding, Clinical Finding, Clinical Finding, Procedure, Procedure, Clinical Finding, Procedure, Clinical Finding, Context-dependent, Context-dependent, Context-dependent, Clinical Finding, Clinical Finding]  "
      ]
     },
     "metadata": {
      "tags": []
     },
     "output_type": "display_data"
    },
    {
     "name": "stdout",
     "output_type": "stream",
     "text": [
      ">>  hypertension\n"
     ]
    },
    {
     "data": {
      "text/html": [
       "<div>\n",
       "<style scoped>\n",
       "    .dataframe tbody tr th:only-of-type {\n",
       "        vertical-align: middle;\n",
       "    }\n",
       "\n",
       "    .dataframe tbody tr th {\n",
       "        vertical-align: top;\n",
       "    }\n",
       "\n",
       "    .dataframe thead th {\n",
       "        text-align: right;\n",
       "    }\n",
       "</style>\n",
       "<table border=\"1\" class=\"dataframe\">\n",
       "  <thead>\n",
       "    <tr style=\"text-align: right;\">\n",
       "      <th></th>\n",
       "      <th>chunks</th>\n",
       "      <th>begin</th>\n",
       "      <th>end</th>\n",
       "      <th>code</th>\n",
       "      <th>all_codes</th>\n",
       "      <th>resolutions</th>\n",
       "      <th>all_distances</th>\n",
       "      <th>gt</th>\n",
       "      <th>concept</th>\n",
       "      <th>aux</th>\n",
       "    </tr>\n",
       "  </thead>\n",
       "  <tbody>\n",
       "    <tr>\n",
       "      <th>0</th>\n",
       "      <td>hypertension</td>\n",
       "      <td>0</td>\n",
       "      <td>11</td>\n",
       "      <td>38341003</td>\n",
       "      <td>[38341003, 155295004, 266287006, 194756002, 194757006, 59621000, 155296003, 270440008, 185725003, 31992008, 155300002, 161501007, 138772000, 73578008, 48146000, 160357008, 137753003]</td>\n",
       "      <td>[hypertension, hypertension, hypertension, hypertensive disease, essential hypertension, essential hypertension, essential hypertension, hypertension monitored, hypertension monitored, secondary hypertension, secondary hypertension, h/o: hypertension, h/o: hypertension, hyperdistension, diastolic hypertension, fh: hypertension, fh: hypertension]</td>\n",
       "      <td>[0.0000, 0.0000, 0.0000, 0.0192, 0.0340, 0.0340, 0.0340, 0.0359, 0.0359, 0.0423, 0.0423, 0.0426, 0.0426, 0.0433, 0.0466, 0.0508, 0.0508]</td>\n",
       "      <td>[Hypertensive disorder, Hypertensive disease, Hypertension, Hypertensive disease, Essential hypertension, Essential hypertension, Essential hypertension, Hypertension monitoring check done, Hypertension monitor.chck done, Secondary hypertension, Secondary hypertension, H/O: hypertension, H/O: hypertension, Hyperdistention, Diastolic hypertension, FH: Hypertension, FH: Hypertension]</td>\n",
       "      <td>[Condition, Condition, Condition, Condition, Condition, Condition, Condition, Observation, Condition, Condition, Condition, Observation, Observation, Observation, Condition, Observation, Observation]</td>\n",
       "      <td>[Clinical Finding, Clinical Finding, Clinical Finding, Clinical Finding, Clinical Finding, Clinical Finding, Clinical Finding, Clinical Finding, Clinical Finding, Clinical Finding, Clinical Finding, Context-dependent, Context-dependent, Morph Abnormality, Clinical Finding, Context-dependent, Context-dependent]</td>\n",
       "    </tr>\n",
       "  </tbody>\n",
       "</table>\n",
       "</div>"
      ],
      "text/plain": [
       "         chunks  begin  end      code  \\\n",
       "0  hypertension  0      11   38341003   \n",
       "\n",
       "                                                                                                                                                                                all_codes  \\\n",
       "0  [38341003, 155295004, 266287006, 194756002, 194757006, 59621000, 155296003, 270440008, 185725003, 31992008, 155300002, 161501007, 138772000, 73578008, 48146000, 160357008, 137753003]   \n",
       "\n",
       "                                                                                                                                                                                                                                                                                                                                                   resolutions  \\\n",
       "0  [hypertension, hypertension, hypertension, hypertensive disease, essential hypertension, essential hypertension, essential hypertension, hypertension monitored, hypertension monitored, secondary hypertension, secondary hypertension, h/o: hypertension, h/o: hypertension, hyperdistension, diastolic hypertension, fh: hypertension, fh: hypertension]   \n",
       "\n",
       "                                                                                                                              all_distances  \\\n",
       "0  [0.0000, 0.0000, 0.0000, 0.0192, 0.0340, 0.0340, 0.0340, 0.0359, 0.0359, 0.0423, 0.0423, 0.0426, 0.0426, 0.0433, 0.0466, 0.0508, 0.0508]   \n",
       "\n",
       "                                                                                                                                                                                                                                                                                                                                                                                                 gt  \\\n",
       "0  [Hypertensive disorder, Hypertensive disease, Hypertension, Hypertensive disease, Essential hypertension, Essential hypertension, Essential hypertension, Hypertension monitoring check done, Hypertension monitor.chck done, Secondary hypertension, Secondary hypertension, H/O: hypertension, H/O: hypertension, Hyperdistention, Diastolic hypertension, FH: Hypertension, FH: Hypertension]   \n",
       "\n",
       "                                                                                                                                                                                                   concept  \\\n",
       "0  [Condition, Condition, Condition, Condition, Condition, Condition, Condition, Observation, Condition, Condition, Condition, Observation, Observation, Observation, Condition, Observation, Observation]   \n",
       "\n",
       "                                                                                                                                                                                                                                                                                                                       aux  \n",
       "0  [Clinical Finding, Clinical Finding, Clinical Finding, Clinical Finding, Clinical Finding, Clinical Finding, Clinical Finding, Clinical Finding, Clinical Finding, Clinical Finding, Clinical Finding, Context-dependent, Context-dependent, Morph Abnormality, Clinical Finding, Context-dependent, Context-dependent]  "
      ]
     },
     "metadata": {
      "tags": []
     },
     "output_type": "display_data"
    },
    {
     "name": "stdout",
     "output_type": "stream",
     "text": [
      ">>  lung cancer\n"
     ]
    },
    {
     "data": {
      "text/html": [
       "<div>\n",
       "<style scoped>\n",
       "    .dataframe tbody tr th:only-of-type {\n",
       "        vertical-align: middle;\n",
       "    }\n",
       "\n",
       "    .dataframe tbody tr th {\n",
       "        vertical-align: top;\n",
       "    }\n",
       "\n",
       "    .dataframe thead th {\n",
       "        text-align: right;\n",
       "    }\n",
       "</style>\n",
       "<table border=\"1\" class=\"dataframe\">\n",
       "  <thead>\n",
       "    <tr style=\"text-align: right;\">\n",
       "      <th></th>\n",
       "      <th>chunks</th>\n",
       "      <th>begin</th>\n",
       "      <th>end</th>\n",
       "      <th>code</th>\n",
       "      <th>all_codes</th>\n",
       "      <th>resolutions</th>\n",
       "      <th>all_distances</th>\n",
       "      <th>gt</th>\n",
       "      <th>concept</th>\n",
       "      <th>aux</th>\n",
       "    </tr>\n",
       "  </thead>\n",
       "  <tbody>\n",
       "    <tr>\n",
       "      <th>0</th>\n",
       "      <td>lung cancer</td>\n",
       "      <td>0</td>\n",
       "      <td>10</td>\n",
       "      <td>187875007</td>\n",
       "      <td>[187875007, 93880001, 363358000, 154485001, 269561006, 94391008, 448993007, 254637007, 13984002, 162573006, 139841002, 92649001, 354701000119107, 707410008, 254626006, 723301009, 254632001, 126713003, 707596000, 254634000, 363429002]</td>\n",
       "      <td>[lung cancer, lung cancer, ca - lung cancer, lung carcinoma, lung carcinoma, secondary cancer of lung, carcinoma of lung, non-small cell lung cancer (disorder), retired procedure, suspected lung cancer, suspected lung cancer, cancer in situ of lung, cancer of left lung, solid carcinoma of lung, adenocarcinoma of lung, squamous non-small cell lung cancer, sclc - small cell lung cancer, tumour of lung, carcinosarcoma of lung, squamous cell carcinoma of lung, laryngeal cancer]</td>\n",
       "      <td>[0.0000, 0.0000, 0.0680, 0.0685, 0.0685, 0.0867, 0.0877, 0.0957, 0.1035, 0.1035, 0.1035, 0.1036, 0.1064, 0.1102, 0.1155, 0.1174, 0.1210, 0.1207, 0.1247, 0.1237, 0.1333]</td>\n",
       "      <td>[Malignant neoplasm lung: [of bronchus or lung NOS] or [lung cancer], Primary malignant neoplasm of lung, Malignant tumor of lung, Ca trachea/bronchus/lung, Ca trachea/bronchus/lung, Secondary malignant neoplasm of lung, Carcinoma of lung, Non-small cell lung cancer, Retired procedure, Suspected lung cancer, Suspected lung cancer, Carcinoma in situ of lung, Primary malignant neoplasm of left lung, Primary solid carcinoma of lung, Adenocarcinoma of lung, Squamous non-small cell lung cancer, Small cell carcinoma of lung, Neoplasm of lung, Primary carcinosarcoma of lung, Squamous cell carcinoma of lung, Malignant tumor of larynx]</td>\n",
       "      <td>[Condition, Condition, Condition, Condition, Condition, Condition, Condition, Condition, Procedure, Observation, Observation, Condition, Condition, Condition, Condition, Condition, Condition, Condition, Condition, Condition, Condition]</td>\n",
       "      <td>[Clinical Finding, Clinical Finding, Clinical Finding, Clinical Finding, Clinical Finding, Clinical Finding, Clinical Finding, Clinical Finding, Procedure, Context-dependent, Context-dependent, Clinical Finding, Clinical Finding, Clinical Finding, Clinical Finding, Clinical Finding, Clinical Finding, Clinical Finding, Clinical Finding, Clinical Finding, Clinical Finding]</td>\n",
       "    </tr>\n",
       "  </tbody>\n",
       "</table>\n",
       "</div>"
      ],
      "text/plain": [
       "        chunks  begin  end       code  \\\n",
       "0  lung cancer  0      10   187875007   \n",
       "\n",
       "                                                                                                                                                                                                                                   all_codes  \\\n",
       "0  [187875007, 93880001, 363358000, 154485001, 269561006, 94391008, 448993007, 254637007, 13984002, 162573006, 139841002, 92649001, 354701000119107, 707410008, 254626006, 723301009, 254632001, 126713003, 707596000, 254634000, 363429002]   \n",
       "\n",
       "                                                                                                                                                                                                                                                                                                                                                                                                                                                                                      resolutions  \\\n",
       "0  [lung cancer, lung cancer, ca - lung cancer, lung carcinoma, lung carcinoma, secondary cancer of lung, carcinoma of lung, non-small cell lung cancer (disorder), retired procedure, suspected lung cancer, suspected lung cancer, cancer in situ of lung, cancer of left lung, solid carcinoma of lung, adenocarcinoma of lung, squamous non-small cell lung cancer, sclc - small cell lung cancer, tumour of lung, carcinosarcoma of lung, squamous cell carcinoma of lung, laryngeal cancer]   \n",
       "\n",
       "                                                                                                                                                              all_distances  \\\n",
       "0  [0.0000, 0.0000, 0.0680, 0.0685, 0.0685, 0.0867, 0.0877, 0.0957, 0.1035, 0.1035, 0.1035, 0.1036, 0.1064, 0.1102, 0.1155, 0.1174, 0.1210, 0.1207, 0.1247, 0.1237, 0.1333]   \n",
       "\n",
       "                                                                                                                                                                                                                                                                                                                                                                                                                                                                                                                                                                                                                                                           gt  \\\n",
       "0  [Malignant neoplasm lung: [of bronchus or lung NOS] or [lung cancer], Primary malignant neoplasm of lung, Malignant tumor of lung, Ca trachea/bronchus/lung, Ca trachea/bronchus/lung, Secondary malignant neoplasm of lung, Carcinoma of lung, Non-small cell lung cancer, Retired procedure, Suspected lung cancer, Suspected lung cancer, Carcinoma in situ of lung, Primary malignant neoplasm of left lung, Primary solid carcinoma of lung, Adenocarcinoma of lung, Squamous non-small cell lung cancer, Small cell carcinoma of lung, Neoplasm of lung, Primary carcinosarcoma of lung, Squamous cell carcinoma of lung, Malignant tumor of larynx]   \n",
       "\n",
       "                                                                                                                                                                                                                                       concept  \\\n",
       "0  [Condition, Condition, Condition, Condition, Condition, Condition, Condition, Condition, Procedure, Observation, Observation, Condition, Condition, Condition, Condition, Condition, Condition, Condition, Condition, Condition, Condition]   \n",
       "\n",
       "                                                                                                                                                                                                                                                                                                                                                                                     aux  \n",
       "0  [Clinical Finding, Clinical Finding, Clinical Finding, Clinical Finding, Clinical Finding, Clinical Finding, Clinical Finding, Clinical Finding, Procedure, Context-dependent, Context-dependent, Clinical Finding, Clinical Finding, Clinical Finding, Clinical Finding, Clinical Finding, Clinical Finding, Clinical Finding, Clinical Finding, Clinical Finding, Clinical Finding]  "
      ]
     },
     "metadata": {
      "tags": []
     },
     "output_type": "display_data"
    },
    {
     "name": "stdout",
     "output_type": "stream",
     "text": [
      ">>  seizure\n"
     ]
    },
    {
     "data": {
      "text/html": [
       "<div>\n",
       "<style scoped>\n",
       "    .dataframe tbody tr th:only-of-type {\n",
       "        vertical-align: middle;\n",
       "    }\n",
       "\n",
       "    .dataframe tbody tr th {\n",
       "        vertical-align: top;\n",
       "    }\n",
       "\n",
       "    .dataframe thead th {\n",
       "        text-align: right;\n",
       "    }\n",
       "</style>\n",
       "<table border=\"1\" class=\"dataframe\">\n",
       "  <thead>\n",
       "    <tr style=\"text-align: right;\">\n",
       "      <th></th>\n",
       "      <th>chunks</th>\n",
       "      <th>begin</th>\n",
       "      <th>end</th>\n",
       "      <th>code</th>\n",
       "      <th>all_codes</th>\n",
       "      <th>resolutions</th>\n",
       "      <th>all_distances</th>\n",
       "      <th>gt</th>\n",
       "      <th>concept</th>\n",
       "      <th>aux</th>\n",
       "    </tr>\n",
       "  </thead>\n",
       "  <tbody>\n",
       "    <tr>\n",
       "      <th>0</th>\n",
       "      <td>seizure</td>\n",
       "      <td>0</td>\n",
       "      <td>6</td>\n",
       "      <td>271788002</td>\n",
       "      <td>[271788002, 91175000, 460681000124100, 170707004, 163588007, 363857003, 313287004, 246545002, 363856007, 246530009, 128613002, 71427006, 246537007, 191714002, 14521008, 29753000, 361592009, 363692008, 460731000124105, 29963001]</td>\n",
       "      <td>[seizure, seizure, serial seizure, seizure frequency, o/e - a seizure, measure of seizure, observations of seizure, generalized seizure, seizure observable, versive seizure (finding), seizure disorder, cursive seizure, affective seizure, factitious seizures, visual seizure, partial seizure, medulla oblongata central grey matter, partial seizure, recurrent seizure (disorder), deja-vu seizure]</td>\n",
       "      <td>[0.0000, 0.0000, 0.0738, 0.0742, 0.0736, 0.0825, 0.0827, 0.0900, 0.0941, 0.0966, 0.0957, 0.0978, 0.1002, 0.1014, 0.1049, 0.1051, 0.1051, 0.1051, 0.1043, 0.1061]</td>\n",
       "      <td>[Fit: [Convulsion) &amp;/or (fit and well], Seizure, Acute repetitive seizure, Fit frequency, O/E - fit/convulsion, Measure of seizure, Seizure related finding, Generalized seizure, Seizure observable, Versive seizure, Seizure disorder, Cursive seizure, Affective seizure, Dissociative convulsions, Visual seizure, Partial seizure, Medulla oblongata central grey matter, Partial seizure, Recurrent seizure, Dysmnesic seizure]</td>\n",
       "      <td>[Condition, Condition, Condition, Observation, Condition, Observation, Condition, Condition, Observation, Condition, Condition, Condition, Condition, Condition, Condition, Condition, Observation, Condition, Condition, Condition]</td>\n",
       "      <td>[Clinical Finding, Clinical Finding, Clinical Finding, Observable Entity, Clinical Finding, Observable Entity, Clinical Finding, Clinical Finding, Observable Entity, Clinical Finding, Clinical Finding, Clinical Finding, Clinical Finding, Clinical Finding, Clinical Finding, Clinical Finding, Body Structure, Clinical Finding, Clinical Finding, Clinical Finding]</td>\n",
       "    </tr>\n",
       "  </tbody>\n",
       "</table>\n",
       "</div>"
      ],
      "text/plain": [
       "    chunks  begin  end       code  \\\n",
       "0  seizure  0      6    271788002   \n",
       "\n",
       "                                                                                                                                                                                                                             all_codes  \\\n",
       "0  [271788002, 91175000, 460681000124100, 170707004, 163588007, 363857003, 313287004, 246545002, 363856007, 246530009, 128613002, 71427006, 246537007, 191714002, 14521008, 29753000, 361592009, 363692008, 460731000124105, 29963001]   \n",
       "\n",
       "                                                                                                                                                                                                                                                                                                                                                                                                  resolutions  \\\n",
       "0  [seizure, seizure, serial seizure, seizure frequency, o/e - a seizure, measure of seizure, observations of seizure, generalized seizure, seizure observable, versive seizure (finding), seizure disorder, cursive seizure, affective seizure, factitious seizures, visual seizure, partial seizure, medulla oblongata central grey matter, partial seizure, recurrent seizure (disorder), deja-vu seizure]   \n",
       "\n",
       "                                                                                                                                                      all_distances  \\\n",
       "0  [0.0000, 0.0000, 0.0738, 0.0742, 0.0736, 0.0825, 0.0827, 0.0900, 0.0941, 0.0966, 0.0957, 0.0978, 0.1002, 0.1014, 0.1049, 0.1051, 0.1051, 0.1051, 0.1043, 0.1061]   \n",
       "\n",
       "                                                                                                                                                                                                                                                                                                                                                                                                                                      gt  \\\n",
       "0  [Fit: [Convulsion) &/or (fit and well], Seizure, Acute repetitive seizure, Fit frequency, O/E - fit/convulsion, Measure of seizure, Seizure related finding, Generalized seizure, Seizure observable, Versive seizure, Seizure disorder, Cursive seizure, Affective seizure, Dissociative convulsions, Visual seizure, Partial seizure, Medulla oblongata central grey matter, Partial seizure, Recurrent seizure, Dysmnesic seizure]   \n",
       "\n",
       "                                                                                                                                                                                                                                concept  \\\n",
       "0  [Condition, Condition, Condition, Observation, Condition, Observation, Condition, Condition, Observation, Condition, Condition, Condition, Condition, Condition, Condition, Condition, Observation, Condition, Condition, Condition]   \n",
       "\n",
       "                                                                                                                                                                                                                                                                                                                                                                         aux  \n",
       "0  [Clinical Finding, Clinical Finding, Clinical Finding, Observable Entity, Clinical Finding, Observable Entity, Clinical Finding, Clinical Finding, Observable Entity, Clinical Finding, Clinical Finding, Clinical Finding, Clinical Finding, Clinical Finding, Clinical Finding, Clinical Finding, Body Structure, Clinical Finding, Clinical Finding, Clinical Finding]  "
      ]
     },
     "metadata": {
      "tags": []
     },
     "output_type": "display_data"
    },
    {
     "name": "stdout",
     "output_type": "stream",
     "text": [
      ">>  squamous cell carcinoma\n"
     ]
    },
    {
     "data": {
      "text/html": [
       "<div>\n",
       "<style scoped>\n",
       "    .dataframe tbody tr th:only-of-type {\n",
       "        vertical-align: middle;\n",
       "    }\n",
       "\n",
       "    .dataframe tbody tr th {\n",
       "        vertical-align: top;\n",
       "    }\n",
       "\n",
       "    .dataframe thead th {\n",
       "        text-align: right;\n",
       "    }\n",
       "</style>\n",
       "<table border=\"1\" class=\"dataframe\">\n",
       "  <thead>\n",
       "    <tr style=\"text-align: right;\">\n",
       "      <th></th>\n",
       "      <th>chunks</th>\n",
       "      <th>begin</th>\n",
       "      <th>end</th>\n",
       "      <th>code</th>\n",
       "      <th>all_codes</th>\n",
       "      <th>resolutions</th>\n",
       "      <th>all_distances</th>\n",
       "      <th>gt</th>\n",
       "      <th>concept</th>\n",
       "      <th>aux</th>\n",
       "    </tr>\n",
       "  </thead>\n",
       "  <tbody>\n",
       "    <tr>\n",
       "      <th>0</th>\n",
       "      <td>squamous cell carcinoma</td>\n",
       "      <td>0</td>\n",
       "      <td>22</td>\n",
       "      <td>402815007</td>\n",
       "      <td>[402815007, 28899001, 154605007, 400155002, 425303004, 37304002, 254651007, 89906000, 403904009, 189564006, 189565007, 59529006, 403905005, 403902008, 85956000, 400066006, 252989001]</td>\n",
       "      <td>[squamous cell carcinoma, squamous cell carcinoma, squamous cell carcinoma, squamous cell carcinoma - category, squamous cell carcinomatosis, basisquamous cell carcinoma, cutaneous squamous cell carcinoma, verrucous squamous cell carcinoma, verrucous squamous cell carcinoma, [m]papillomatosis nos, squamous cell carcinoma in situ, squamous cell carcinoma in situ, multiple squamous cell carcinomata, adenosquamous cell carcinoma, adenoid squamous cell carcinoma, intraepithelial squamous cell carcinoma, squamous carcinoma in situ]</td>\n",
       "      <td>[0.0000, 0.0000, 0.0000, 0.0176, 0.0191, 0.0348, 0.0398, 0.0455, 0.0455, 0.0468, 0.0468, 0.0468, 0.0495, 0.0498, 0.0504, 0.0566, 0.0594]</td>\n",
       "      <td>[Squamous cell carcinoma, Squamous cell carcinoma, Squamous cell carcinoma, Squamous cell carcinoma - category, Squamous cell carcinomatosis, Basosquamous carcinoma, Squamous cell carcinoma of skin, Verrucous carcinoma, Verrucous squamous cell carcinoma, [M]Papillomatosis NOS, Squamous cell carcinoma in situ, Squamous cell carcinoma in situ, Multiple squamous cell carcinomata, Adenosquamous cell carcinoma, Adenoid squamous cell carcinoma, Intraepithelial squamous cell carcinoma, Squamous carcinoma in situ]</td>\n",
       "      <td>[Condition, Observation, Condition, Observation, Condition, Observation, Condition, Observation, Condition, Observation, Condition, Observation, Condition, Condition, Observation, Condition, Observation]</td>\n",
       "      <td>[Clinical Finding, Morph Abnormality, Clinical Finding, Morph Abnormality, Clinical Finding, Morph Abnormality, Clinical Finding, Morph Abnormality, Clinical Finding, Morph Abnormality, Clinical Finding, Morph Abnormality, Clinical Finding, Clinical Finding, Morph Abnormality, Clinical Finding, Morph Abnormality]</td>\n",
       "    </tr>\n",
       "  </tbody>\n",
       "</table>\n",
       "</div>"
      ],
      "text/plain": [
       "                    chunks  begin  end       code  \\\n",
       "0  squamous cell carcinoma  0      22   402815007   \n",
       "\n",
       "                                                                                                                                                                                all_codes  \\\n",
       "0  [402815007, 28899001, 154605007, 400155002, 425303004, 37304002, 254651007, 89906000, 403904009, 189564006, 189565007, 59529006, 403905005, 403902008, 85956000, 400066006, 252989001]   \n",
       "\n",
       "                                                                                                                                                                                                                                                                                                                                                                                                                                                                                                                                            resolutions  \\\n",
       "0  [squamous cell carcinoma, squamous cell carcinoma, squamous cell carcinoma, squamous cell carcinoma - category, squamous cell carcinomatosis, basisquamous cell carcinoma, cutaneous squamous cell carcinoma, verrucous squamous cell carcinoma, verrucous squamous cell carcinoma, [m]papillomatosis nos, squamous cell carcinoma in situ, squamous cell carcinoma in situ, multiple squamous cell carcinomata, adenosquamous cell carcinoma, adenoid squamous cell carcinoma, intraepithelial squamous cell carcinoma, squamous carcinoma in situ]   \n",
       "\n",
       "                                                                                                                              all_distances  \\\n",
       "0  [0.0000, 0.0000, 0.0000, 0.0176, 0.0191, 0.0348, 0.0398, 0.0455, 0.0455, 0.0468, 0.0468, 0.0468, 0.0495, 0.0498, 0.0504, 0.0566, 0.0594]   \n",
       "\n",
       "                                                                                                                                                                                                                                                                                                                                                                                                                                                                                                                                gt  \\\n",
       "0  [Squamous cell carcinoma, Squamous cell carcinoma, Squamous cell carcinoma, Squamous cell carcinoma - category, Squamous cell carcinomatosis, Basosquamous carcinoma, Squamous cell carcinoma of skin, Verrucous carcinoma, Verrucous squamous cell carcinoma, [M]Papillomatosis NOS, Squamous cell carcinoma in situ, Squamous cell carcinoma in situ, Multiple squamous cell carcinomata, Adenosquamous cell carcinoma, Adenoid squamous cell carcinoma, Intraepithelial squamous cell carcinoma, Squamous carcinoma in situ]   \n",
       "\n",
       "                                                                                                                                                                                                       concept  \\\n",
       "0  [Condition, Observation, Condition, Observation, Condition, Observation, Condition, Observation, Condition, Observation, Condition, Observation, Condition, Condition, Observation, Condition, Observation]   \n",
       "\n",
       "                                                                                                                                                                                                                                                                                                                          aux  \n",
       "0  [Clinical Finding, Morph Abnormality, Clinical Finding, Morph Abnormality, Clinical Finding, Morph Abnormality, Clinical Finding, Morph Abnormality, Clinical Finding, Morph Abnormality, Clinical Finding, Morph Abnormality, Clinical Finding, Clinical Finding, Morph Abnormality, Clinical Finding, Morph Abnormality]  "
      ]
     },
     "metadata": {
      "tags": []
     },
     "output_type": "display_data"
    },
    {
     "name": "stdout",
     "output_type": "stream",
     "text": [
      ">>  stage IIIB\n"
     ]
    },
    {
     "data": {
      "text/html": [
       "<div>\n",
       "<style scoped>\n",
       "    .dataframe tbody tr th:only-of-type {\n",
       "        vertical-align: middle;\n",
       "    }\n",
       "\n",
       "    .dataframe tbody tr th {\n",
       "        vertical-align: top;\n",
       "    }\n",
       "\n",
       "    .dataframe thead th {\n",
       "        text-align: right;\n",
       "    }\n",
       "</style>\n",
       "<table border=\"1\" class=\"dataframe\">\n",
       "  <thead>\n",
       "    <tr style=\"text-align: right;\">\n",
       "      <th></th>\n",
       "      <th>chunks</th>\n",
       "      <th>begin</th>\n",
       "      <th>end</th>\n",
       "      <th>code</th>\n",
       "      <th>all_codes</th>\n",
       "      <th>resolutions</th>\n",
       "      <th>all_distances</th>\n",
       "      <th>gt</th>\n",
       "      <th>concept</th>\n",
       "      <th>aux</th>\n",
       "    </tr>\n",
       "  </thead>\n",
       "  <tbody>\n",
       "    <tr>\n",
       "      <th>0</th>\n",
       "      <td>stage IIIB</td>\n",
       "      <td>0</td>\n",
       "      <td>9</td>\n",
       "      <td>261639007</td>\n",
       "      <td>[261639007, 258226007, 261625007, 64062008, 307204003, 258376007, 73082003, 261638004, 258225006, 258224005, 261640009, 258227003, 45597001, 443815000, 50283003, 264674009, 307203009, 48105005]</td>\n",
       "      <td>[stage 3b, stage 3b, stage b3, clinical stage 3 b, grade 3b, group 3b, clinical stage 3 a, stage 3a, stage 3a, stage 3, stage 3c, stage 3c, group a3b, pt3a,b category, clinical stage iii, 3b, grade 3a, clinical stage 3 c]</td>\n",
       "      <td>[0.0644, 0.0644, 0.0715, 0.0771, 0.0933, 0.1085, 0.1143, 0.1185, 0.1185, 0.1239, 0.1290, 0.1290, 0.1326, 0.1356, 0.1327, 0.1339, 0.1339, 0.1361]</td>\n",
       "      <td>[Stage 3B, Stage 3b, Stage B3, Clinical stage 3 B, Grade 3b, Group 3B, Clinical stage 3 A, Stage 3A, Stage IIIa, Stage 3, Stage 3C, Stage IIIc, Blood group A&gt;3&lt;B, pT3a,b category, Clinical stage III, 3b, Grade 3a, Clinical stage 3 C]</td>\n",
       "      <td>[Observation, Observation, Observation, Condition, Observation, Observation, Condition, Observation, Observation, Observation, Observation, Observation, Condition, Condition, Condition, Observation, Observation, Condition]</td>\n",
       "      <td>[Qualifier Value, Qualifier Value, Qualifier Value, Clinical Finding, Qualifier Value, Qualifier Value, Clinical Finding, Qualifier Value, Qualifier Value, Qualifier Value, Qualifier Value, Qualifier Value, Clinical Finding, Clinical Finding, Clinical Finding, Qualifier Value, Qualifier Value, Clinical Finding]</td>\n",
       "    </tr>\n",
       "  </tbody>\n",
       "</table>\n",
       "</div>"
      ],
      "text/plain": [
       "       chunks  begin  end       code  \\\n",
       "0  stage IIIB  0      9    261639007   \n",
       "\n",
       "                                                                                                                                                                                           all_codes  \\\n",
       "0  [261639007, 258226007, 261625007, 64062008, 307204003, 258376007, 73082003, 261638004, 258225006, 258224005, 261640009, 258227003, 45597001, 443815000, 50283003, 264674009, 307203009, 48105005]   \n",
       "\n",
       "                                                                                                                                                                                                                     resolutions  \\\n",
       "0  [stage 3b, stage 3b, stage b3, clinical stage 3 b, grade 3b, group 3b, clinical stage 3 a, stage 3a, stage 3a, stage 3, stage 3c, stage 3c, group a3b, pt3a,b category, clinical stage iii, 3b, grade 3a, clinical stage 3 c]   \n",
       "\n",
       "                                                                                                                                      all_distances  \\\n",
       "0  [0.0644, 0.0644, 0.0715, 0.0771, 0.0933, 0.1085, 0.1143, 0.1185, 0.1185, 0.1239, 0.1290, 0.1290, 0.1326, 0.1356, 0.1327, 0.1339, 0.1339, 0.1361]   \n",
       "\n",
       "                                                                                                                                                                                                                                          gt  \\\n",
       "0  [Stage 3B, Stage 3b, Stage B3, Clinical stage 3 B, Grade 3b, Group 3B, Clinical stage 3 A, Stage 3A, Stage IIIa, Stage 3, Stage 3C, Stage IIIc, Blood group A>3<B, pT3a,b category, Clinical stage III, 3b, Grade 3a, Clinical stage 3 C]   \n",
       "\n",
       "                                                                                                                                                                                                                          concept  \\\n",
       "0  [Observation, Observation, Observation, Condition, Observation, Observation, Condition, Observation, Observation, Observation, Observation, Observation, Condition, Condition, Condition, Observation, Observation, Condition]   \n",
       "\n",
       "                                                                                                                                                                                                                                                                                                                        aux  \n",
       "0  [Qualifier Value, Qualifier Value, Qualifier Value, Clinical Finding, Qualifier Value, Qualifier Value, Clinical Finding, Qualifier Value, Qualifier Value, Qualifier Value, Qualifier Value, Qualifier Value, Clinical Finding, Clinical Finding, Clinical Finding, Qualifier Value, Qualifier Value, Clinical Finding]  "
      ]
     },
     "metadata": {
      "tags": []
     },
     "output_type": "display_data"
    },
    {
     "name": "stdout",
     "output_type": "stream",
     "text": [
      ">>  mediastinal lymph nodes\n"
     ]
    },
    {
     "data": {
      "text/html": [
       "<div>\n",
       "<style scoped>\n",
       "    .dataframe tbody tr th:only-of-type {\n",
       "        vertical-align: middle;\n",
       "    }\n",
       "\n",
       "    .dataframe tbody tr th {\n",
       "        vertical-align: top;\n",
       "    }\n",
       "\n",
       "    .dataframe thead th {\n",
       "        text-align: right;\n",
       "    }\n",
       "</style>\n",
       "<table border=\"1\" class=\"dataframe\">\n",
       "  <thead>\n",
       "    <tr style=\"text-align: right;\">\n",
       "      <th></th>\n",
       "      <th>chunks</th>\n",
       "      <th>begin</th>\n",
       "      <th>end</th>\n",
       "      <th>code</th>\n",
       "      <th>all_codes</th>\n",
       "      <th>resolutions</th>\n",
       "      <th>all_distances</th>\n",
       "      <th>gt</th>\n",
       "      <th>concept</th>\n",
       "      <th>aux</th>\n",
       "    </tr>\n",
       "  </thead>\n",
       "  <tbody>\n",
       "    <tr>\n",
       "      <th>0</th>\n",
       "      <td>mediastinal lymph nodes</td>\n",
       "      <td>0</td>\n",
       "      <td>22</td>\n",
       "      <td>245276004</td>\n",
       "      <td>[245276004, 181760002, 62683002, 62650009, 245275000, 178297005, 260926004, 281779003, 264099006, 364445008, 127931000, 301296002, 127248001, 734421006, 198237001, 20190004, 72372004, 281496003]</td>\n",
       "      <td>[mediastinal lymph nodes, mediastinal lymph node, mediastinal lymph node, stratum germinativum, subclavian lymph node group, mediastinal lymph nodes sampling, mediastinal node status, mediastinal lymphatic structure, mediastinal, mediastinal feature, retrotracheal lymph node (mediastinal), mediastinal observation, neoplasm of mediastinal lymph nodes, specimen from mass of mediastinal lymph node, mediastinal vein, mediastinal vein, pelvic peritoneum structure, structure of pelvic blood vessel]</td>\n",
       "      <td>[0.0000, 0.0226, 0.0226, 0.0342, 0.0458, 0.0511, 0.0635, 0.0670, 0.0782, 0.0777, 0.0813, 0.0849, 0.0879, 0.0892, 0.0882, 0.0882, 0.0875, 0.0961]</td>\n",
       "      <td>[Mediastinal lymph node group, Entire mediastinal lymph node, Mediastinal lymph node structure, Stratum germinativum, Subclavian lymph node group, Mediastinal lymph nodes sampling, Mediastinal node status, Structure of mediastinal lymphatic system, Mediastinal, Mediastinal feature, Retrotracheal lymph node, Mediastinal finding, Neoplasm of mediastinal lymph nodes, Specimen from mass of mediastinal lymph node, Entire mediastinal vein, Structure of mediastinal vein, Pelvic peritoneum structure, Structure of pelvic blood vessel]</td>\n",
       "      <td>[Spec Anatomic Site, Spec Anatomic Site, Spec Anatomic Site, Spec Anatomic Site, Spec Anatomic Site, Procedure, Observation, Spec Anatomic Site, Observation, Observation, Spec Anatomic Site, Condition, Condition, Specimen, Spec Anatomic Site, Spec Anatomic Site, Spec Anatomic Site, Spec Anatomic Site]</td>\n",
       "      <td>[Body Structure, Body Structure, Body Structure, Body Structure, Body Structure, Procedure, Attribute, Body Structure, Qualifier Value, Observable Entity, Body Structure, Clinical Finding, Clinical Finding, Specimen, Body Structure, Body Structure, Body Structure, Body Structure]</td>\n",
       "    </tr>\n",
       "  </tbody>\n",
       "</table>\n",
       "</div>"
      ],
      "text/plain": [
       "                    chunks  begin  end       code  \\\n",
       "0  mediastinal lymph nodes  0      22   245276004   \n",
       "\n",
       "                                                                                                                                                                                            all_codes  \\\n",
       "0  [245276004, 181760002, 62683002, 62650009, 245275000, 178297005, 260926004, 281779003, 264099006, 364445008, 127931000, 301296002, 127248001, 734421006, 198237001, 20190004, 72372004, 281496003]   \n",
       "\n",
       "                                                                                                                                                                                                                                                                                                                                                                                                                                                                                                         resolutions  \\\n",
       "0  [mediastinal lymph nodes, mediastinal lymph node, mediastinal lymph node, stratum germinativum, subclavian lymph node group, mediastinal lymph nodes sampling, mediastinal node status, mediastinal lymphatic structure, mediastinal, mediastinal feature, retrotracheal lymph node (mediastinal), mediastinal observation, neoplasm of mediastinal lymph nodes, specimen from mass of mediastinal lymph node, mediastinal vein, mediastinal vein, pelvic peritoneum structure, structure of pelvic blood vessel]   \n",
       "\n",
       "                                                                                                                                      all_distances  \\\n",
       "0  [0.0000, 0.0226, 0.0226, 0.0342, 0.0458, 0.0511, 0.0635, 0.0670, 0.0782, 0.0777, 0.0813, 0.0849, 0.0879, 0.0892, 0.0882, 0.0882, 0.0875, 0.0961]   \n",
       "\n",
       "                                                                                                                                                                                                                                                                                                                                                                                                                                                                                                                                                    gt  \\\n",
       "0  [Mediastinal lymph node group, Entire mediastinal lymph node, Mediastinal lymph node structure, Stratum germinativum, Subclavian lymph node group, Mediastinal lymph nodes sampling, Mediastinal node status, Structure of mediastinal lymphatic system, Mediastinal, Mediastinal feature, Retrotracheal lymph node, Mediastinal finding, Neoplasm of mediastinal lymph nodes, Specimen from mass of mediastinal lymph node, Entire mediastinal vein, Structure of mediastinal vein, Pelvic peritoneum structure, Structure of pelvic blood vessel]   \n",
       "\n",
       "                                                                                                                                                                                                                                                                                                          concept  \\\n",
       "0  [Spec Anatomic Site, Spec Anatomic Site, Spec Anatomic Site, Spec Anatomic Site, Spec Anatomic Site, Procedure, Observation, Spec Anatomic Site, Observation, Observation, Spec Anatomic Site, Condition, Condition, Specimen, Spec Anatomic Site, Spec Anatomic Site, Spec Anatomic Site, Spec Anatomic Site]   \n",
       "\n",
       "                                                                                                                                                                                                                                                                                        aux  \n",
       "0  [Body Structure, Body Structure, Body Structure, Body Structure, Body Structure, Procedure, Attribute, Body Structure, Qualifier Value, Observable Entity, Body Structure, Clinical Finding, Clinical Finding, Specimen, Body Structure, Body Structure, Body Structure, Body Structure]  "
      ]
     },
     "metadata": {
      "tags": []
     },
     "output_type": "display_data"
    }
   ],
   "source": [
    "for chunk in snomed_chunks:\n",
    "\n",
    "    print ('>> ',chunk)\n",
    "    display(get_codes (snomed_lp, chunk, vocab='snomed_code', aux_label=True))"
   ]
  },
  {
   "cell_type": "code",
   "execution_count": null,
   "metadata": {
    "id": "4ezIDK-5Ez_K",
    "outputId": "5e63d229-ae12-4aa8-efd3-07cc6a9dc42f",
    "scrolled": false
   },
   "outputs": [
    {
     "name": "stdout",
     "output_type": "stream",
     "text": [
      ">>  bladder cancer\n",
      "icd10cm_code\n"
     ]
    },
    {
     "data": {
      "text/html": [
       "<div>\n",
       "<style scoped>\n",
       "    .dataframe tbody tr th:only-of-type {\n",
       "        vertical-align: middle;\n",
       "    }\n",
       "\n",
       "    .dataframe tbody tr th {\n",
       "        vertical-align: top;\n",
       "    }\n",
       "\n",
       "    .dataframe thead th {\n",
       "        text-align: right;\n",
       "    }\n",
       "</style>\n",
       "<table border=\"1\" class=\"dataframe\">\n",
       "  <thead>\n",
       "    <tr style=\"text-align: right;\">\n",
       "      <th></th>\n",
       "      <th>chunks</th>\n",
       "      <th>begin</th>\n",
       "      <th>end</th>\n",
       "      <th>code</th>\n",
       "      <th>all_codes</th>\n",
       "      <th>resolutions</th>\n",
       "      <th>all_distances</th>\n",
       "      <th>billable</th>\n",
       "      <th>hcc_status</th>\n",
       "      <th>hcc_score</th>\n",
       "    </tr>\n",
       "  </thead>\n",
       "  <tbody>\n",
       "    <tr>\n",
       "      <th>0</th>\n",
       "      <td>bladder cancer</td>\n",
       "      <td>0</td>\n",
       "      <td>13</td>\n",
       "      <td>C679</td>\n",
       "      <td>[C679, Z126, D090, D494, C7911]</td>\n",
       "      <td>[bladder cancer, suspected bladder cancer, cancer in situ of urinary bladder, tumor of bladder neck, malignant tumour of bladder neck]</td>\n",
       "      <td>[0.0000, 0.0904, 0.0978, 0.1080, 0.1281]</td>\n",
       "      <td>[1, 1, 1, 1, 1]</td>\n",
       "      <td>[1, 0, 0, 0, 1]</td>\n",
       "      <td>[11, 0, 0, 0, 8]</td>\n",
       "    </tr>\n",
       "  </tbody>\n",
       "</table>\n",
       "</div>"
      ],
      "text/plain": [
       "           chunks  begin  end  code                        all_codes  \\\n",
       "0  bladder cancer  0      13   C679  [C679, Z126, D090, D494, C7911]   \n",
       "\n",
       "                                                                                                                              resolutions  \\\n",
       "0  [bladder cancer, suspected bladder cancer, cancer in situ of urinary bladder, tumor of bladder neck, malignant tumour of bladder neck]   \n",
       "\n",
       "                              all_distances         billable       hcc_status  \\\n",
       "0  [0.0000, 0.0904, 0.0978, 0.1080, 0.1281]  [1, 1, 1, 1, 1]  [1, 0, 0, 0, 1]   \n",
       "\n",
       "          hcc_score  \n",
       "0  [11, 0, 0, 0, 8]  "
      ]
     },
     "metadata": {
      "tags": []
     },
     "output_type": "display_data"
    },
    {
     "name": "stdout",
     "output_type": "stream",
     "text": [
      "snomed_code\n"
     ]
    },
    {
     "data": {
      "text/html": [
       "<div>\n",
       "<style scoped>\n",
       "    .dataframe tbody tr th:only-of-type {\n",
       "        vertical-align: middle;\n",
       "    }\n",
       "\n",
       "    .dataframe tbody tr th {\n",
       "        vertical-align: top;\n",
       "    }\n",
       "\n",
       "    .dataframe thead th {\n",
       "        text-align: right;\n",
       "    }\n",
       "</style>\n",
       "<table border=\"1\" class=\"dataframe\">\n",
       "  <thead>\n",
       "    <tr style=\"text-align: right;\">\n",
       "      <th></th>\n",
       "      <th>chunks</th>\n",
       "      <th>begin</th>\n",
       "      <th>end</th>\n",
       "      <th>code</th>\n",
       "      <th>all_codes</th>\n",
       "      <th>resolutions</th>\n",
       "      <th>all_distances</th>\n",
       "      <th>gt</th>\n",
       "      <th>concept</th>\n",
       "      <th>aux</th>\n",
       "    </tr>\n",
       "  </thead>\n",
       "  <tbody>\n",
       "    <tr>\n",
       "      <th>0</th>\n",
       "      <td>bladder cancer</td>\n",
       "      <td>0</td>\n",
       "      <td>13</td>\n",
       "      <td>399326009</td>\n",
       "      <td>[399326009, 363455001, 425066001, 255108000, 269607003, 154540000, 425231005, 255110003, 139850000, 162582000, 315269000, 393562002, 255109008, 255111004, 92546004, 254932004]</td>\n",
       "      <td>[bladder cancer, bladder cancer, invasive bladder cancer, carcinoma of bladder, carcinoma of bladder, carcinoma of bladder, superficial bladder cancer, adenocarcinoma of bladder, suspected bladder cancer, suspected bladder cancer, suspected bladder cancer, transitional cell carcinoma of bladder, transitional cell carcinoma of bladder, squamous cell carcinoma of bladder, cancer in situ of urinary bladder, tumor of bladder neck]</td>\n",
       "      <td>[0.0000, 0.0000, 0.0539, 0.0666, 0.0666, 0.0666, 0.0809, 0.0881, 0.0904, 0.0904, 0.0904, 0.0880, 0.0880, 0.0913, 0.0978, 0.1080]</td>\n",
       "      <td>[Malignant tumor of urinary bladder, NGB - New growth of bladder, Carcinoma of urinary bladder, invasive, Carcinoma of bladder, Bladder Ca, Carcinoma bladder, Carcinoma of urinary bladder, superficial, Adenocarcinoma of bladder, Suspected bladder cancer, Suspected bladder cancer, Suspected bladder cancer, Transitional cell carcinoma of bladder, Transitional cell carcinoma of bladder, Squamous cell carcinoma of bladder, Cancer in situ of urinary bladder, Tumor of bladder neck]</td>\n",
       "      <td>[Condition, Condition, Condition, Condition, Condition, Condition, Condition, Condition, Observation, Observation, Observation, Condition, Condition, Condition, Condition, Condition]</td>\n",
       "      <td>[Clinical Finding, Clinical Finding, Clinical Finding, Clinical Finding, Clinical Finding, Clinical Finding, Clinical Finding, Clinical Finding, Context-dependent, Context-dependent, Context-dependent, Clinical Finding, Clinical Finding, Clinical Finding, Clinical Finding, Clinical Finding]</td>\n",
       "    </tr>\n",
       "  </tbody>\n",
       "</table>\n",
       "</div>"
      ],
      "text/plain": [
       "           chunks  begin  end       code  \\\n",
       "0  bladder cancer  0      13   399326009   \n",
       "\n",
       "                                                                                                                                                                         all_codes  \\\n",
       "0  [399326009, 363455001, 425066001, 255108000, 269607003, 154540000, 425231005, 255110003, 139850000, 162582000, 315269000, 393562002, 255109008, 255111004, 92546004, 254932004]   \n",
       "\n",
       "                                                                                                                                                                                                                                                                                                                                                                                                                                      resolutions  \\\n",
       "0  [bladder cancer, bladder cancer, invasive bladder cancer, carcinoma of bladder, carcinoma of bladder, carcinoma of bladder, superficial bladder cancer, adenocarcinoma of bladder, suspected bladder cancer, suspected bladder cancer, suspected bladder cancer, transitional cell carcinoma of bladder, transitional cell carcinoma of bladder, squamous cell carcinoma of bladder, cancer in situ of urinary bladder, tumor of bladder neck]   \n",
       "\n",
       "                                                                                                                      all_distances  \\\n",
       "0  [0.0000, 0.0000, 0.0539, 0.0666, 0.0666, 0.0666, 0.0809, 0.0881, 0.0904, 0.0904, 0.0904, 0.0880, 0.0880, 0.0913, 0.0978, 0.1080]   \n",
       "\n",
       "                                                                                                                                                                                                                                                                                                                                                                                                                                                                                                 gt  \\\n",
       "0  [Malignant tumor of urinary bladder, NGB - New growth of bladder, Carcinoma of urinary bladder, invasive, Carcinoma of bladder, Bladder Ca, Carcinoma bladder, Carcinoma of urinary bladder, superficial, Adenocarcinoma of bladder, Suspected bladder cancer, Suspected bladder cancer, Suspected bladder cancer, Transitional cell carcinoma of bladder, Transitional cell carcinoma of bladder, Squamous cell carcinoma of bladder, Cancer in situ of urinary bladder, Tumor of bladder neck]   \n",
       "\n",
       "                                                                                                                                                                                  concept  \\\n",
       "0  [Condition, Condition, Condition, Condition, Condition, Condition, Condition, Condition, Observation, Observation, Observation, Condition, Condition, Condition, Condition, Condition]   \n",
       "\n",
       "                                                                                                                                                                                                                                                                                                   aux  \n",
       "0  [Clinical Finding, Clinical Finding, Clinical Finding, Clinical Finding, Clinical Finding, Clinical Finding, Clinical Finding, Clinical Finding, Context-dependent, Context-dependent, Context-dependent, Clinical Finding, Clinical Finding, Clinical Finding, Clinical Finding, Clinical Finding]  "
      ]
     },
     "metadata": {
      "tags": []
     },
     "output_type": "display_data"
    },
    {
     "name": "stdout",
     "output_type": "stream",
     "text": [
      ">>  anemia in chronic kidney disease\n",
      "icd10cm_code\n"
     ]
    },
    {
     "data": {
      "text/html": [
       "<div>\n",
       "<style scoped>\n",
       "    .dataframe tbody tr th:only-of-type {\n",
       "        vertical-align: middle;\n",
       "    }\n",
       "\n",
       "    .dataframe tbody tr th {\n",
       "        vertical-align: top;\n",
       "    }\n",
       "\n",
       "    .dataframe thead th {\n",
       "        text-align: right;\n",
       "    }\n",
       "</style>\n",
       "<table border=\"1\" class=\"dataframe\">\n",
       "  <thead>\n",
       "    <tr style=\"text-align: right;\">\n",
       "      <th></th>\n",
       "      <th>chunks</th>\n",
       "      <th>begin</th>\n",
       "      <th>end</th>\n",
       "      <th>code</th>\n",
       "      <th>all_codes</th>\n",
       "      <th>resolutions</th>\n",
       "      <th>all_distances</th>\n",
       "      <th>billable</th>\n",
       "      <th>hcc_status</th>\n",
       "      <th>hcc_score</th>\n",
       "    </tr>\n",
       "  </thead>\n",
       "  <tbody>\n",
       "    <tr>\n",
       "      <th>0</th>\n",
       "      <td>anemia in chronic kidney disease</td>\n",
       "      <td>0</td>\n",
       "      <td>31</td>\n",
       "      <td>D631</td>\n",
       "      <td>[D631, D638, N189, Q61, Q619, N185, P2930, Z874, E790, Z8744]</td>\n",
       "      <td>[anemia in chronic kidney disease, anaemia in chronic kidney disease, anemia of chronic renal failure, cystic kidney disease, cystic kidney disease, anemia in end stage renal disease, chronic renal failure, history of chronic kidney disease, chronic renal failure syndrome, history of chronic renal impairment]</td>\n",
       "      <td>[0.0000, 0.0176, 0.0418, 0.0674, 0.0674, 0.0723, 0.0754, 0.0798, 0.0822, 0.0839]</td>\n",
       "      <td>[1, 1, 1, 0, 1, 1, 1, 0, 1, 0]</td>\n",
       "      <td>[0, 0, 1, 0, 0, 1, 0, 0, 0, 0]</td>\n",
       "      <td>[0, 0, 139, 0, 0, 136, 0, 0, 0, 0]</td>\n",
       "    </tr>\n",
       "  </tbody>\n",
       "</table>\n",
       "</div>"
      ],
      "text/plain": [
       "                             chunks  begin  end  code  \\\n",
       "0  anemia in chronic kidney disease  0      31   D631   \n",
       "\n",
       "                                                       all_codes  \\\n",
       "0  [D631, D638, N189, Q61, Q619, N185, P2930, Z874, E790, Z8744]   \n",
       "\n",
       "                                                                                                                                                                                                                                                                                                              resolutions  \\\n",
       "0  [anemia in chronic kidney disease, anaemia in chronic kidney disease, anemia of chronic renal failure, cystic kidney disease, cystic kidney disease, anemia in end stage renal disease, chronic renal failure, history of chronic kidney disease, chronic renal failure syndrome, history of chronic renal impairment]   \n",
       "\n",
       "                                                                      all_distances  \\\n",
       "0  [0.0000, 0.0176, 0.0418, 0.0674, 0.0674, 0.0723, 0.0754, 0.0798, 0.0822, 0.0839]   \n",
       "\n",
       "                         billable                      hcc_status  \\\n",
       "0  [1, 1, 1, 0, 1, 1, 1, 0, 1, 0]  [0, 0, 1, 0, 0, 1, 0, 0, 0, 0]   \n",
       "\n",
       "                            hcc_score  \n",
       "0  [0, 0, 139, 0, 0, 136, 0, 0, 0, 0]  "
      ]
     },
     "metadata": {
      "tags": []
     },
     "output_type": "display_data"
    },
    {
     "name": "stdout",
     "output_type": "stream",
     "text": [
      "snomed_code\n"
     ]
    },
    {
     "data": {
      "text/html": [
       "<div>\n",
       "<style scoped>\n",
       "    .dataframe tbody tr th:only-of-type {\n",
       "        vertical-align: middle;\n",
       "    }\n",
       "\n",
       "    .dataframe tbody tr th {\n",
       "        vertical-align: top;\n",
       "    }\n",
       "\n",
       "    .dataframe thead th {\n",
       "        text-align: right;\n",
       "    }\n",
       "</style>\n",
       "<table border=\"1\" class=\"dataframe\">\n",
       "  <thead>\n",
       "    <tr style=\"text-align: right;\">\n",
       "      <th></th>\n",
       "      <th>chunks</th>\n",
       "      <th>begin</th>\n",
       "      <th>end</th>\n",
       "      <th>code</th>\n",
       "      <th>all_codes</th>\n",
       "      <th>resolutions</th>\n",
       "      <th>all_distances</th>\n",
       "      <th>gt</th>\n",
       "      <th>concept</th>\n",
       "      <th>aux</th>\n",
       "    </tr>\n",
       "  </thead>\n",
       "  <tbody>\n",
       "    <tr>\n",
       "      <th>0</th>\n",
       "      <td>anemia in chronic kidney disease</td>\n",
       "      <td>0</td>\n",
       "      <td>31</td>\n",
       "      <td>707323002</td>\n",
       "      <td>[707323002, 49708008, 709044004, 236425005, 191270002, 234348004, 236439005, 156973002, 268332003, 707324008, 197654000, 155856009, 90688005]</td>\n",
       "      <td>[anemia in chronic kidney disease, anemia of chronic renal failure, chronic kidney disease, chronic kidney disease, anemia secondary to chronic renal failure, anemia of renal disease, cystic kidney disease, cystic kidney disease, cystic kidney disease, anemia in end stage renal disease, chronic renal failure, chronic renal failure, chronic renal failure]</td>\n",
       "      <td>[0.0000, 0.0418, 0.0498, 0.0498, 0.0537, 0.0615, 0.0674, 0.0674, 0.0674, 0.0723, 0.0754, 0.0754, 0.0754]</td>\n",
       "      <td>[Anemia in chronic kidney disease, Anemia of chronic renal failure, Chronic kidney disease, Chronic renal impairment, Anemia secondary to chronic renal failure, Anemia of renal disease, Cystic disease of kidney, Fibrocystic kidney, Polycystic kidney, Anemia in end stage renal disease, Chronic uremia, Renal failure: [chronic] or [end stage], Chronic renal failure]</td>\n",
       "      <td>[Condition, Condition, Condition, Condition, Condition, Condition, Condition, Condition, Condition, Condition, Condition, Condition, Condition]</td>\n",
       "      <td>[Clinical Finding, Clinical Finding, Clinical Finding, Clinical Finding, Clinical Finding, Clinical Finding, Clinical Finding, Clinical Finding, Clinical Finding, Clinical Finding, Clinical Finding, Clinical Finding, Clinical Finding]</td>\n",
       "    </tr>\n",
       "  </tbody>\n",
       "</table>\n",
       "</div>"
      ],
      "text/plain": [
       "                             chunks  begin  end       code  \\\n",
       "0  anemia in chronic kidney disease  0      31   707323002   \n",
       "\n",
       "                                                                                                                                       all_codes  \\\n",
       "0  [707323002, 49708008, 709044004, 236425005, 191270002, 234348004, 236439005, 156973002, 268332003, 707324008, 197654000, 155856009, 90688005]   \n",
       "\n",
       "                                                                                                                                                                                                                                                                                                                                                            resolutions  \\\n",
       "0  [anemia in chronic kidney disease, anemia of chronic renal failure, chronic kidney disease, chronic kidney disease, anemia secondary to chronic renal failure, anemia of renal disease, cystic kidney disease, cystic kidney disease, cystic kidney disease, anemia in end stage renal disease, chronic renal failure, chronic renal failure, chronic renal failure]   \n",
       "\n",
       "                                                                                              all_distances  \\\n",
       "0  [0.0000, 0.0418, 0.0498, 0.0498, 0.0537, 0.0615, 0.0674, 0.0674, 0.0674, 0.0723, 0.0754, 0.0754, 0.0754]   \n",
       "\n",
       "                                                                                                                                                                                                                                                                                                                                                                              gt  \\\n",
       "0  [Anemia in chronic kidney disease, Anemia of chronic renal failure, Chronic kidney disease, Chronic renal impairment, Anemia secondary to chronic renal failure, Anemia of renal disease, Cystic disease of kidney, Fibrocystic kidney, Polycystic kidney, Anemia in end stage renal disease, Chronic uremia, Renal failure: [chronic] or [end stage], Chronic renal failure]   \n",
       "\n",
       "                                                                                                                                           concept  \\\n",
       "0  [Condition, Condition, Condition, Condition, Condition, Condition, Condition, Condition, Condition, Condition, Condition, Condition, Condition]   \n",
       "\n",
       "                                                                                                                                                                                                                                          aux  \n",
       "0  [Clinical Finding, Clinical Finding, Clinical Finding, Clinical Finding, Clinical Finding, Clinical Finding, Clinical Finding, Clinical Finding, Clinical Finding, Clinical Finding, Clinical Finding, Clinical Finding, Clinical Finding]  "
      ]
     },
     "metadata": {
      "tags": []
     },
     "output_type": "display_data"
    },
    {
     "name": "stdout",
     "output_type": "stream",
     "text": [
      ">>  castleman disease\n",
      "icd10cm_code\n"
     ]
    },
    {
     "data": {
      "text/html": [
       "<div>\n",
       "<style scoped>\n",
       "    .dataframe tbody tr th:only-of-type {\n",
       "        vertical-align: middle;\n",
       "    }\n",
       "\n",
       "    .dataframe tbody tr th {\n",
       "        vertical-align: top;\n",
       "    }\n",
       "\n",
       "    .dataframe thead th {\n",
       "        text-align: right;\n",
       "    }\n",
       "</style>\n",
       "<table border=\"1\" class=\"dataframe\">\n",
       "  <thead>\n",
       "    <tr style=\"text-align: right;\">\n",
       "      <th></th>\n",
       "      <th>chunks</th>\n",
       "      <th>begin</th>\n",
       "      <th>end</th>\n",
       "      <th>code</th>\n",
       "      <th>all_codes</th>\n",
       "      <th>resolutions</th>\n",
       "      <th>all_distances</th>\n",
       "      <th>billable</th>\n",
       "      <th>hcc_status</th>\n",
       "      <th>hcc_score</th>\n",
       "    </tr>\n",
       "  </thead>\n",
       "  <tbody>\n",
       "    <tr>\n",
       "      <th>0</th>\n",
       "      <td>castleman disease</td>\n",
       "      <td>0</td>\n",
       "      <td>16</td>\n",
       "      <td>D47Z2</td>\n",
       "      <td>[D47Z2, D360, D1801, D477, M316, E755, E7152, L088, G5760, G950, K120, I808, L0889, D681, I311, A187, L817, D67, M898X, A498, M898, Q773, D763, T7029]</td>\n",
       "      <td>[castleman disease, castleman's disease, castleman's disease (disorder), [d] castleman's disease (disorder), horton's disease, chanarin-dorfman disease, addison's disease, knight disease, morton's disease, morvan's disease, sutton's disease, mondor's disease, knight's disease, rosenthal's disease, concato's disease, addison disease, majocchi's disease, christmas disease, medial coronoid process disease (disorder), hjarre's disease, medial coronoid process disease, conradi disease, rosai-dorfman disease, monge's disease]</td>\n",
       "      <td>[0.0000, 0.0347, 0.0815, 0.1405, 0.1730, 0.1896, 0.1875, 0.1927, 0.1982, 0.1972, 0.1978, 0.1975, 0.1956, 0.2054, 0.1995, 0.2073, 0.2089, 0.2187, 0.2044, 0.2039, 0.2081, 0.2113, 0.2095, 0.2104]</td>\n",
       "      <td>[1, 1, 1, 1, 1, 1, 0, 0, 1, 1, 1, 1, 1, 1, 1, 1, 1, 1, 0, 1, 0, 1, 1, 0]</td>\n",
       "      <td>[1, 0, 0, 0, 1, 1, 1, 0, 0, 1, 0, 0, 0, 1, 0, 0, 0, 1, 0, 0, 0, 0, 1, 0]</td>\n",
       "      <td>[48, 0, 0, 0, 40, nan, 23, 0, 0, 72, 0, 0, 0, 48, 0, 0, 0, 46, 0, 0, 0, 0, 47, 0]</td>\n",
       "    </tr>\n",
       "  </tbody>\n",
       "</table>\n",
       "</div>"
      ],
      "text/plain": [
       "              chunks  begin  end   code  \\\n",
       "0  castleman disease  0      16   D47Z2   \n",
       "\n",
       "                                                                                                                                                all_codes  \\\n",
       "0  [D47Z2, D360, D1801, D477, M316, E755, E7152, L088, G5760, G950, K120, I808, L0889, D681, I311, A187, L817, D67, M898X, A498, M898, Q773, D763, T7029]   \n",
       "\n",
       "                                                                                                                                                                                                                                                                                                                                                                                                                                                                                                                                     resolutions  \\\n",
       "0  [castleman disease, castleman's disease, castleman's disease (disorder), [d] castleman's disease (disorder), horton's disease, chanarin-dorfman disease, addison's disease, knight disease, morton's disease, morvan's disease, sutton's disease, mondor's disease, knight's disease, rosenthal's disease, concato's disease, addison disease, majocchi's disease, christmas disease, medial coronoid process disease (disorder), hjarre's disease, medial coronoid process disease, conradi disease, rosai-dorfman disease, monge's disease]   \n",
       "\n",
       "                                                                                                                                                                                      all_distances  \\\n",
       "0  [0.0000, 0.0347, 0.0815, 0.1405, 0.1730, 0.1896, 0.1875, 0.1927, 0.1982, 0.1972, 0.1978, 0.1975, 0.1956, 0.2054, 0.1995, 0.2073, 0.2089, 0.2187, 0.2044, 0.2039, 0.2081, 0.2113, 0.2095, 0.2104]   \n",
       "\n",
       "                                                                   billable  \\\n",
       "0  [1, 1, 1, 1, 1, 1, 0, 0, 1, 1, 1, 1, 1, 1, 1, 1, 1, 1, 0, 1, 0, 1, 1, 0]   \n",
       "\n",
       "                                                                 hcc_status  \\\n",
       "0  [1, 0, 0, 0, 1, 1, 1, 0, 0, 1, 0, 0, 0, 1, 0, 0, 0, 1, 0, 0, 0, 0, 1, 0]   \n",
       "\n",
       "                                                                           hcc_score  \n",
       "0  [48, 0, 0, 0, 40, nan, 23, 0, 0, 72, 0, 0, 0, 48, 0, 0, 0, 46, 0, 0, 0, 0, 47, 0]  "
      ]
     },
     "metadata": {
      "tags": []
     },
     "output_type": "display_data"
    },
    {
     "name": "stdout",
     "output_type": "stream",
     "text": [
      "snomed_code\n"
     ]
    },
    {
     "data": {
      "text/html": [
       "<div>\n",
       "<style scoped>\n",
       "    .dataframe tbody tr th:only-of-type {\n",
       "        vertical-align: middle;\n",
       "    }\n",
       "\n",
       "    .dataframe tbody tr th {\n",
       "        vertical-align: top;\n",
       "    }\n",
       "\n",
       "    .dataframe thead th {\n",
       "        text-align: right;\n",
       "    }\n",
       "</style>\n",
       "<table border=\"1\" class=\"dataframe\">\n",
       "  <thead>\n",
       "    <tr style=\"text-align: right;\">\n",
       "      <th></th>\n",
       "      <th>chunks</th>\n",
       "      <th>begin</th>\n",
       "      <th>end</th>\n",
       "      <th>code</th>\n",
       "      <th>all_codes</th>\n",
       "      <th>resolutions</th>\n",
       "      <th>all_distances</th>\n",
       "      <th>gt</th>\n",
       "      <th>concept</th>\n",
       "      <th>aux</th>\n",
       "    </tr>\n",
       "  </thead>\n",
       "  <tbody>\n",
       "    <tr>\n",
       "      <th>0</th>\n",
       "      <td>castleman disease</td>\n",
       "      <td>0</td>\n",
       "      <td>16</td>\n",
       "      <td>207036003</td>\n",
       "      <td>[207036003, 87511001, 400130008, 203370008, 19604005, 154707007, 267483004, 363732003, 111562000, 31201001, 203367009, 30085007, 111496009, 80244009, 398676009, 69954004, 49762007, 204016007, 186578006, 37980001]</td>\n",
       "      <td>[castleman disease, horton's disease, horton's disease, pierson's disease, chanarin-dorfman disease, addison's disease, addison's disease, addison's disease, addison's disease, knight disease, calve - perthes' disease, morton's disease, morvan's disease, sutton's disease, sutton's disease, mondor's disease, rosenthal's disease, billroth's disease, duke-filatow's disease, concato's disease]</td>\n",
       "      <td>[0.0000, 0.1730, 0.1730, 0.1855, 0.1896, 0.1875, 0.1875, 0.1875, 0.1875, 0.1927, 0.2022, 0.1982, 0.1972, 0.1978, 0.1978, 0.1975, 0.2054, 0.1985, 0.2026, 0.1995]</td>\n",
       "      <td>[Angiofollicular lymph node hyperplasia, GCA - Giant cell arteritis, Temporal arteritis, Pierson's disease, Triglyceride storage disease with ichthyosis, Addison's disease, Corticoadrenal insufficiency, Addison's disease, Addison's disease, Knight's disease, Perthes' disease - osteochondritis of the femoral head, Morton's metatarsalgia, Syringomyelia, Recurrent aphthous ulcer, Aphthae major, Thrombophlebitis of breast, Hereditary factor XI deficiency disease, Spina bifida without mention of hydrocephalus NOS, Duke's disease, Concato's disease]</td>\n",
       "      <td>[Condition, Condition, Condition, Condition, Condition, Condition, Condition, Condition, Condition, Condition, Condition, Condition, Condition, Condition, Condition, Condition, Condition, Condition, Condition, Condition]</td>\n",
       "      <td>[Clinical Finding, Clinical Finding, Clinical Finding, Clinical Finding, Clinical Finding, Clinical Finding, Clinical Finding, Clinical Finding, Clinical Finding, Clinical Finding, Clinical Finding, Clinical Finding, Clinical Finding, Clinical Finding, Clinical Finding, Clinical Finding, Clinical Finding, Clinical Finding, Clinical Finding, Clinical Finding]</td>\n",
       "    </tr>\n",
       "  </tbody>\n",
       "</table>\n",
       "</div>"
      ],
      "text/plain": [
       "              chunks  begin  end       code  \\\n",
       "0  castleman disease  0      16   207036003   \n",
       "\n",
       "                                                                                                                                                                                                              all_codes  \\\n",
       "0  [207036003, 87511001, 400130008, 203370008, 19604005, 154707007, 267483004, 363732003, 111562000, 31201001, 203367009, 30085007, 111496009, 80244009, 398676009, 69954004, 49762007, 204016007, 186578006, 37980001]   \n",
       "\n",
       "                                                                                                                                                                                                                                                                                                                                                                                                resolutions  \\\n",
       "0  [castleman disease, horton's disease, horton's disease, pierson's disease, chanarin-dorfman disease, addison's disease, addison's disease, addison's disease, addison's disease, knight disease, calve - perthes' disease, morton's disease, morvan's disease, sutton's disease, sutton's disease, mondor's disease, rosenthal's disease, billroth's disease, duke-filatow's disease, concato's disease]   \n",
       "\n",
       "                                                                                                                                                      all_distances  \\\n",
       "0  [0.0000, 0.1730, 0.1730, 0.1855, 0.1896, 0.1875, 0.1875, 0.1875, 0.1875, 0.1927, 0.2022, 0.1982, 0.1972, 0.1978, 0.1978, 0.1975, 0.2054, 0.1985, 0.2026, 0.1995]   \n",
       "\n",
       "                                                                                                                                                                                                                                                                                                                                                                                                                                                                                                                                                                      gt  \\\n",
       "0  [Angiofollicular lymph node hyperplasia, GCA - Giant cell arteritis, Temporal arteritis, Pierson's disease, Triglyceride storage disease with ichthyosis, Addison's disease, Corticoadrenal insufficiency, Addison's disease, Addison's disease, Knight's disease, Perthes' disease - osteochondritis of the femoral head, Morton's metatarsalgia, Syringomyelia, Recurrent aphthous ulcer, Aphthae major, Thrombophlebitis of breast, Hereditary factor XI deficiency disease, Spina bifida without mention of hydrocephalus NOS, Duke's disease, Concato's disease]   \n",
       "\n",
       "                                                                                                                                                                                                                        concept  \\\n",
       "0  [Condition, Condition, Condition, Condition, Condition, Condition, Condition, Condition, Condition, Condition, Condition, Condition, Condition, Condition, Condition, Condition, Condition, Condition, Condition, Condition]   \n",
       "\n",
       "                                                                                                                                                                                                                                                                                                                                                                        aux  \n",
       "0  [Clinical Finding, Clinical Finding, Clinical Finding, Clinical Finding, Clinical Finding, Clinical Finding, Clinical Finding, Clinical Finding, Clinical Finding, Clinical Finding, Clinical Finding, Clinical Finding, Clinical Finding, Clinical Finding, Clinical Finding, Clinical Finding, Clinical Finding, Clinical Finding, Clinical Finding, Clinical Finding]  "
      ]
     },
     "metadata": {
      "tags": []
     },
     "output_type": "display_data"
    },
    {
     "name": "stdout",
     "output_type": "stream",
     "text": [
      ">>  congestive heart failure\n",
      "icd10cm_code\n"
     ]
    },
    {
     "data": {
      "text/html": [
       "<div>\n",
       "<style scoped>\n",
       "    .dataframe tbody tr th:only-of-type {\n",
       "        vertical-align: middle;\n",
       "    }\n",
       "\n",
       "    .dataframe tbody tr th {\n",
       "        vertical-align: top;\n",
       "    }\n",
       "\n",
       "    .dataframe thead th {\n",
       "        text-align: right;\n",
       "    }\n",
       "</style>\n",
       "<table border=\"1\" class=\"dataframe\">\n",
       "  <thead>\n",
       "    <tr style=\"text-align: right;\">\n",
       "      <th></th>\n",
       "      <th>chunks</th>\n",
       "      <th>begin</th>\n",
       "      <th>end</th>\n",
       "      <th>code</th>\n",
       "      <th>all_codes</th>\n",
       "      <th>resolutions</th>\n",
       "      <th>all_distances</th>\n",
       "      <th>billable</th>\n",
       "      <th>hcc_status</th>\n",
       "      <th>hcc_score</th>\n",
       "    </tr>\n",
       "  </thead>\n",
       "  <tbody>\n",
       "    <tr>\n",
       "      <th>0</th>\n",
       "      <td>congestive heart failure</td>\n",
       "      <td>0</td>\n",
       "      <td>23</td>\n",
       "      <td>I500</td>\n",
       "      <td>[I500, I5081, P290, I502, I503, I509, I5022, I5020, I504, I5082, I5032, I5042]</td>\n",
       "      <td>[congestive heart failure, chronic congestive heart failure, congestive cardiac failure, systolic (congestive) heart failure, diastolic (congestive) heart failure, chronic congestive heart failure (disorder), chronic systolic (congestive) heart failure, systolic heart failure, chronic systolic heart failure, biventricular congestive heart failure (disorder), chronic diastolic (congestive) heart failure, chronic systolic heart failure (disorder)]</td>\n",
       "      <td>[0.0000, 0.0120, 0.0205, 0.0252, 0.0261, 0.0315, 0.0316, 0.0353, 0.0360, 0.0368, 0.0398, 0.0466]</td>\n",
       "      <td>[1, 0, 1, 0, 0, 1, 1, 1, 0, 1, 1, 1]</td>\n",
       "      <td>[0, 1, 0, 0, 0, 1, 1, 1, 0, 1, 1, 1]</td>\n",
       "      <td>[0, 85, 0, 0, 0, 85, 85, 85, 0, 85, 85, 85]</td>\n",
       "    </tr>\n",
       "  </tbody>\n",
       "</table>\n",
       "</div>"
      ],
      "text/plain": [
       "                     chunks  begin  end  code  \\\n",
       "0  congestive heart failure  0      23   I500   \n",
       "\n",
       "                                                                        all_codes  \\\n",
       "0  [I500, I5081, P290, I502, I503, I509, I5022, I5020, I504, I5082, I5032, I5042]   \n",
       "\n",
       "                                                                                                                                                                                                                                                                                                                                                                                                                                                         resolutions  \\\n",
       "0  [congestive heart failure, chronic congestive heart failure, congestive cardiac failure, systolic (congestive) heart failure, diastolic (congestive) heart failure, chronic congestive heart failure (disorder), chronic systolic (congestive) heart failure, systolic heart failure, chronic systolic heart failure, biventricular congestive heart failure (disorder), chronic diastolic (congestive) heart failure, chronic systolic heart failure (disorder)]   \n",
       "\n",
       "                                                                                      all_distances  \\\n",
       "0  [0.0000, 0.0120, 0.0205, 0.0252, 0.0261, 0.0315, 0.0316, 0.0353, 0.0360, 0.0368, 0.0398, 0.0466]   \n",
       "\n",
       "                               billable                            hcc_status  \\\n",
       "0  [1, 0, 1, 0, 0, 1, 1, 1, 0, 1, 1, 1]  [0, 1, 0, 0, 0, 1, 1, 1, 0, 1, 1, 1]   \n",
       "\n",
       "                                     hcc_score  \n",
       "0  [0, 85, 0, 0, 0, 85, 85, 85, 0, 85, 85, 85]  "
      ]
     },
     "metadata": {
      "tags": []
     },
     "output_type": "display_data"
    },
    {
     "name": "stdout",
     "output_type": "stream",
     "text": [
      "snomed_code\n"
     ]
    },
    {
     "data": {
      "text/html": [
       "<div>\n",
       "<style scoped>\n",
       "    .dataframe tbody tr th:only-of-type {\n",
       "        vertical-align: middle;\n",
       "    }\n",
       "\n",
       "    .dataframe tbody tr th {\n",
       "        vertical-align: top;\n",
       "    }\n",
       "\n",
       "    .dataframe thead th {\n",
       "        text-align: right;\n",
       "    }\n",
       "</style>\n",
       "<table border=\"1\" class=\"dataframe\">\n",
       "  <thead>\n",
       "    <tr style=\"text-align: right;\">\n",
       "      <th></th>\n",
       "      <th>chunks</th>\n",
       "      <th>begin</th>\n",
       "      <th>end</th>\n",
       "      <th>code</th>\n",
       "      <th>all_codes</th>\n",
       "      <th>resolutions</th>\n",
       "      <th>all_distances</th>\n",
       "      <th>gt</th>\n",
       "      <th>concept</th>\n",
       "      <th>aux</th>\n",
       "    </tr>\n",
       "  </thead>\n",
       "  <tbody>\n",
       "    <tr>\n",
       "      <th>0</th>\n",
       "      <td>congestive heart failure</td>\n",
       "      <td>0</td>\n",
       "      <td>23</td>\n",
       "      <td>42343007</td>\n",
       "      <td>[42343007, 195108009, 195110006, 88805009, 155375008, 266308000, 92506005, 698594003, 417996009, 418304008, 441481004, 67431000119105, 48447003, 314206003]</td>\n",
       "      <td>[congestive heart failure, congestive heart failure, chronic congestive heart failure, chronic congestive heart failure, congestive cardiac failure, congestive cardiac failure, biventricular congestive heart failure, symptomatic congestive heart failure, systolic heart failure, diastolic heart failure, chronic systolic heart failure, congestive heart failure stage d, chronic heart failure, refractory heart failure]</td>\n",
       "      <td>[0.0000, 0.0000, 0.0120, 0.0120, 0.0205, 0.0205, 0.0211, 0.0277, 0.0353, 0.0356, 0.0360, 0.0417, 0.0437, 0.0487]</td>\n",
       "      <td>[Congestive heart failure, Heart failure: [right] or [congestive], Chronic congestive heart failure, Chronic congestive heart failure, Right heart failure, Dropsy, Biventricular congestive heart failure, Symptomatic congestive heart failure, Systolic heart failure, Diastolic heart failure, Chronic systolic heart failure, Congestive heart failure stage D, Chronic heart failure, Refractory heart failure]</td>\n",
       "      <td>[Condition, Condition, Condition, Condition, Condition, Condition, Condition, Condition, Condition, Condition, Condition, Condition, Condition, Condition]</td>\n",
       "      <td>[Clinical Finding, Clinical Finding, Clinical Finding, Clinical Finding, Clinical Finding, Clinical Finding, Clinical Finding, Clinical Finding, Clinical Finding, Clinical Finding, Clinical Finding, Clinical Finding, Clinical Finding, Clinical Finding]</td>\n",
       "    </tr>\n",
       "  </tbody>\n",
       "</table>\n",
       "</div>"
      ],
      "text/plain": [
       "                     chunks  begin  end      code  \\\n",
       "0  congestive heart failure  0      23   42343007   \n",
       "\n",
       "                                                                                                                                                     all_codes  \\\n",
       "0  [42343007, 195108009, 195110006, 88805009, 155375008, 266308000, 92506005, 698594003, 417996009, 418304008, 441481004, 67431000119105, 48447003, 314206003]   \n",
       "\n",
       "                                                                                                                                                                                                                                                                                                                                                                                                                          resolutions  \\\n",
       "0  [congestive heart failure, congestive heart failure, chronic congestive heart failure, chronic congestive heart failure, congestive cardiac failure, congestive cardiac failure, biventricular congestive heart failure, symptomatic congestive heart failure, systolic heart failure, diastolic heart failure, chronic systolic heart failure, congestive heart failure stage d, chronic heart failure, refractory heart failure]   \n",
       "\n",
       "                                                                                                      all_distances  \\\n",
       "0  [0.0000, 0.0000, 0.0120, 0.0120, 0.0205, 0.0205, 0.0211, 0.0277, 0.0353, 0.0356, 0.0360, 0.0417, 0.0437, 0.0487]   \n",
       "\n",
       "                                                                                                                                                                                                                                                                                                                                                                                                                      gt  \\\n",
       "0  [Congestive heart failure, Heart failure: [right] or [congestive], Chronic congestive heart failure, Chronic congestive heart failure, Right heart failure, Dropsy, Biventricular congestive heart failure, Symptomatic congestive heart failure, Systolic heart failure, Diastolic heart failure, Chronic systolic heart failure, Congestive heart failure stage D, Chronic heart failure, Refractory heart failure]   \n",
       "\n",
       "                                                                                                                                                      concept  \\\n",
       "0  [Condition, Condition, Condition, Condition, Condition, Condition, Condition, Condition, Condition, Condition, Condition, Condition, Condition, Condition]   \n",
       "\n",
       "                                                                                                                                                                                                                                                            aux  \n",
       "0  [Clinical Finding, Clinical Finding, Clinical Finding, Clinical Finding, Clinical Finding, Clinical Finding, Clinical Finding, Clinical Finding, Clinical Finding, Clinical Finding, Clinical Finding, Clinical Finding, Clinical Finding, Clinical Finding]  "
      ]
     },
     "metadata": {
      "tags": []
     },
     "output_type": "display_data"
    },
    {
     "name": "stdout",
     "output_type": "stream",
     "text": [
      ">>  diabetes mellitus type 2\n",
      "icd10cm_code\n"
     ]
    },
    {
     "data": {
      "text/html": [
       "<div>\n",
       "<style scoped>\n",
       "    .dataframe tbody tr th:only-of-type {\n",
       "        vertical-align: middle;\n",
       "    }\n",
       "\n",
       "    .dataframe tbody tr th {\n",
       "        vertical-align: top;\n",
       "    }\n",
       "\n",
       "    .dataframe thead th {\n",
       "        text-align: right;\n",
       "    }\n",
       "</style>\n",
       "<table border=\"1\" class=\"dataframe\">\n",
       "  <thead>\n",
       "    <tr style=\"text-align: right;\">\n",
       "      <th></th>\n",
       "      <th>chunks</th>\n",
       "      <th>begin</th>\n",
       "      <th>end</th>\n",
       "      <th>code</th>\n",
       "      <th>all_codes</th>\n",
       "      <th>resolutions</th>\n",
       "      <th>all_distances</th>\n",
       "      <th>billable</th>\n",
       "      <th>hcc_status</th>\n",
       "      <th>hcc_score</th>\n",
       "    </tr>\n",
       "  </thead>\n",
       "  <tbody>\n",
       "    <tr>\n",
       "      <th>0</th>\n",
       "      <td>diabetes mellitus type 2</td>\n",
       "      <td>0</td>\n",
       "      <td>23</td>\n",
       "      <td>E119</td>\n",
       "      <td>[E119, E11, E118, O2411, E113, E139, E1143, E1144, E114, E117, E112, Z8639, E1151]</td>\n",
       "      <td>[diabetes mellitus type 2, type 2 diabetes mellitus, disorder associated with type 2 diabetes mellitus, pre-existing type 2 diabetes mellitus, disorder of eye with type 2 diabetes mellitus, secondary diabetes mellitus, neurological disorder with type 2 diabetes mellitus, disorder of nervous system due to type 2 diabetes mellitus, neurological disorder with diabetes type 2, multiple complications of type 2 diabetes mellitus, kidney disorder associated with type 2 diabetes mellitus, history of diabetes mellitus type 2, peripheral circulatory disorder associated with type 2 diabetes mellitus]</td>\n",
       "      <td>[0.0000, 0.0134, 0.0328, 0.0453, 0.0468, 0.0514, 0.0542, 0.0542, 0.0551, 0.0578, 0.0599, 0.0613, 0.0638]</td>\n",
       "      <td>[1, 0, 1, 0, 0, 1, 1, 1, 0, 1, 0, 1, 1]</td>\n",
       "      <td>[1, 0, 1, 0, 0, 1, 1, 1, 0, 0, 0, 0, 1]</td>\n",
       "      <td>[19, 0, 18, 0, 0, 19, 75/18, 75/18, 0, 0, 0, 0, 108/18]</td>\n",
       "    </tr>\n",
       "  </tbody>\n",
       "</table>\n",
       "</div>"
      ],
      "text/plain": [
       "                     chunks  begin  end  code  \\\n",
       "0  diabetes mellitus type 2  0      23   E119   \n",
       "\n",
       "                                                                            all_codes  \\\n",
       "0  [E119, E11, E118, O2411, E113, E139, E1143, E1144, E114, E117, E112, Z8639, E1151]   \n",
       "\n",
       "                                                                                                                                                                                                                                                                                                                                                                                                                                                                                                                                                                                                            resolutions  \\\n",
       "0  [diabetes mellitus type 2, type 2 diabetes mellitus, disorder associated with type 2 diabetes mellitus, pre-existing type 2 diabetes mellitus, disorder of eye with type 2 diabetes mellitus, secondary diabetes mellitus, neurological disorder with type 2 diabetes mellitus, disorder of nervous system due to type 2 diabetes mellitus, neurological disorder with diabetes type 2, multiple complications of type 2 diabetes mellitus, kidney disorder associated with type 2 diabetes mellitus, history of diabetes mellitus type 2, peripheral circulatory disorder associated with type 2 diabetes mellitus]   \n",
       "\n",
       "                                                                                              all_distances  \\\n",
       "0  [0.0000, 0.0134, 0.0328, 0.0453, 0.0468, 0.0514, 0.0542, 0.0542, 0.0551, 0.0578, 0.0599, 0.0613, 0.0638]   \n",
       "\n",
       "                                  billable  \\\n",
       "0  [1, 0, 1, 0, 0, 1, 1, 1, 0, 1, 0, 1, 1]   \n",
       "\n",
       "                                hcc_status  \\\n",
       "0  [1, 0, 1, 0, 0, 1, 1, 1, 0, 0, 0, 0, 1]   \n",
       "\n",
       "                                                 hcc_score  \n",
       "0  [19, 0, 18, 0, 0, 19, 75/18, 75/18, 0, 0, 0, 0, 108/18]  "
      ]
     },
     "metadata": {
      "tags": []
     },
     "output_type": "display_data"
    },
    {
     "name": "stdout",
     "output_type": "stream",
     "text": [
      "snomed_code\n"
     ]
    },
    {
     "data": {
      "text/html": [
       "<div>\n",
       "<style scoped>\n",
       "    .dataframe tbody tr th:only-of-type {\n",
       "        vertical-align: middle;\n",
       "    }\n",
       "\n",
       "    .dataframe tbody tr th {\n",
       "        vertical-align: top;\n",
       "    }\n",
       "\n",
       "    .dataframe thead th {\n",
       "        text-align: right;\n",
       "    }\n",
       "</style>\n",
       "<table border=\"1\" class=\"dataframe\">\n",
       "  <thead>\n",
       "    <tr style=\"text-align: right;\">\n",
       "      <th></th>\n",
       "      <th>chunks</th>\n",
       "      <th>begin</th>\n",
       "      <th>end</th>\n",
       "      <th>code</th>\n",
       "      <th>all_codes</th>\n",
       "      <th>resolutions</th>\n",
       "      <th>all_distances</th>\n",
       "      <th>gt</th>\n",
       "      <th>concept</th>\n",
       "      <th>aux</th>\n",
       "    </tr>\n",
       "  </thead>\n",
       "  <tbody>\n",
       "    <tr>\n",
       "      <th>0</th>\n",
       "      <td>diabetes mellitus type 2</td>\n",
       "      <td>0</td>\n",
       "      <td>23</td>\n",
       "      <td>44054006</td>\n",
       "      <td>[44054006, 422014003, 199230006, 422099009, 190384004, 8801005, 421326000, 12811000119100, 420414003, 420279001, 422034002, 472969004, 422166005]</td>\n",
       "      <td>[diabetes mellitus type 2, disorder associated with type 2 diabetes mellitus, pre-existing type 2 diabetes mellitus, disorder of eye with type 2 diabetes mellitus, type ii diabetes mellitus, secondary diabetes mellitus, neurological disorder with type 2 diabetes mellitus, complication due to diabetes mellitus type 2, multiple complications of type 2 diabetes mellitus, kidney disorder associated with type 2 diabetes mellitus, retinopathy with type 2 diabetes mellitus, history of diabetes mellitus type 2, peripheral circulatory disorder associated with type 2 diabetes mellitus]</td>\n",
       "      <td>[0.0000, 0.0328, 0.0453, 0.0468, 0.0476, 0.0514, 0.0542, 0.0572, 0.0578, 0.0599, 0.0605, 0.0613, 0.0638]</td>\n",
       "      <td>[Type 2 diabetes mellitus, Disorder due to type 2 diabetes mellitus, Pre-existing type 2 diabetes mellitus, Disorder of eye due to type 2 diabetes mellitus, Type II diabetes mellitus, Secondary diabetes mellitus, Disorder of nervous system due to type 2 diabetes mellitus, Complication due to diabetes mellitus type 2, Multiple complications of type II diabetes mellitus, Renal disorder due to type 2 diabetes mellitus, Retinopathy due to type 2 diabetes mellitus, History of diabetes mellitus type 2, Peripheral circulatory disorder due to type 2 diabetes mellitus]</td>\n",
       "      <td>[Condition, Condition, Condition, Condition, Condition, Condition, Condition, Condition, Condition, Condition, Condition, Observation, Condition]</td>\n",
       "      <td>[Clinical Finding, Clinical Finding, Clinical Finding, Clinical Finding, Clinical Finding, Clinical Finding, Clinical Finding, Clinical Finding, Clinical Finding, Clinical Finding, Clinical Finding, Context-dependent, Clinical Finding]</td>\n",
       "    </tr>\n",
       "  </tbody>\n",
       "</table>\n",
       "</div>"
      ],
      "text/plain": [
       "                     chunks  begin  end      code  \\\n",
       "0  diabetes mellitus type 2  0      23   44054006   \n",
       "\n",
       "                                                                                                                                           all_codes  \\\n",
       "0  [44054006, 422014003, 199230006, 422099009, 190384004, 8801005, 421326000, 12811000119100, 420414003, 420279001, 422034002, 472969004, 422166005]   \n",
       "\n",
       "                                                                                                                                                                                                                                                                                                                                                                                                                                                                                                                                                                                              resolutions  \\\n",
       "0  [diabetes mellitus type 2, disorder associated with type 2 diabetes mellitus, pre-existing type 2 diabetes mellitus, disorder of eye with type 2 diabetes mellitus, type ii diabetes mellitus, secondary diabetes mellitus, neurological disorder with type 2 diabetes mellitus, complication due to diabetes mellitus type 2, multiple complications of type 2 diabetes mellitus, kidney disorder associated with type 2 diabetes mellitus, retinopathy with type 2 diabetes mellitus, history of diabetes mellitus type 2, peripheral circulatory disorder associated with type 2 diabetes mellitus]   \n",
       "\n",
       "                                                                                              all_distances  \\\n",
       "0  [0.0000, 0.0328, 0.0453, 0.0468, 0.0476, 0.0514, 0.0542, 0.0572, 0.0578, 0.0599, 0.0605, 0.0613, 0.0638]   \n",
       "\n",
       "                                                                                                                                                                                                                                                                                                                                                                                                                                                                                                                                                                                       gt  \\\n",
       "0  [Type 2 diabetes mellitus, Disorder due to type 2 diabetes mellitus, Pre-existing type 2 diabetes mellitus, Disorder of eye due to type 2 diabetes mellitus, Type II diabetes mellitus, Secondary diabetes mellitus, Disorder of nervous system due to type 2 diabetes mellitus, Complication due to diabetes mellitus type 2, Multiple complications of type II diabetes mellitus, Renal disorder due to type 2 diabetes mellitus, Retinopathy due to type 2 diabetes mellitus, History of diabetes mellitus type 2, Peripheral circulatory disorder due to type 2 diabetes mellitus]   \n",
       "\n",
       "                                                                                                                                             concept  \\\n",
       "0  [Condition, Condition, Condition, Condition, Condition, Condition, Condition, Condition, Condition, Condition, Condition, Observation, Condition]   \n",
       "\n",
       "                                                                                                                                                                                                                                           aux  \n",
       "0  [Clinical Finding, Clinical Finding, Clinical Finding, Clinical Finding, Clinical Finding, Clinical Finding, Clinical Finding, Clinical Finding, Clinical Finding, Clinical Finding, Clinical Finding, Context-dependent, Clinical Finding]  "
      ]
     },
     "metadata": {
      "tags": []
     },
     "output_type": "display_data"
    },
    {
     "name": "stdout",
     "output_type": "stream",
     "text": [
      ">>  lymph nodes of multiple sites\n",
      "icd10cm_code\n"
     ]
    },
    {
     "data": {
      "text/html": [
       "<div>\n",
       "<style scoped>\n",
       "    .dataframe tbody tr th:only-of-type {\n",
       "        vertical-align: middle;\n",
       "    }\n",
       "\n",
       "    .dataframe tbody tr th {\n",
       "        vertical-align: top;\n",
       "    }\n",
       "\n",
       "    .dataframe thead th {\n",
       "        text-align: right;\n",
       "    }\n",
       "</style>\n",
       "<table border=\"1\" class=\"dataframe\">\n",
       "  <thead>\n",
       "    <tr style=\"text-align: right;\">\n",
       "      <th></th>\n",
       "      <th>chunks</th>\n",
       "      <th>begin</th>\n",
       "      <th>end</th>\n",
       "      <th>code</th>\n",
       "      <th>all_codes</th>\n",
       "      <th>resolutions</th>\n",
       "      <th>all_distances</th>\n",
       "      <th>billable</th>\n",
       "      <th>hcc_status</th>\n",
       "      <th>hcc_score</th>\n",
       "    </tr>\n",
       "  </thead>\n",
       "  <tbody>\n",
       "    <tr>\n",
       "      <th>0</th>\n",
       "      <td>lymph nodes of multiple sites</td>\n",
       "      <td>0</td>\n",
       "      <td>28</td>\n",
       "      <td>C8408</td>\n",
       "      <td>[C8408, M6749, R238, T009, R591, M259, R590, J984, L029, C779, R229, L918, C801, R6889, M2540, H531, C8598, R198, C8418]</td>\n",
       "      <td>[neoplasm of lymph nodes of multiple sites, ganglion, multiple sites, multiple lesions, blisters of multiple sites, o/e - lymph nodes tethered, multiple joint involvement, lymphadenopathy of head and/or neck, multiple lesions (finding), boils of multiple sites, regional lymph node involvement present, multiple lumps, multiple skin tags, multiple malignancy, multiple symptoms, effusion of joint of multiple sites, multiple visual images, lymphoma involves multiple lymph node regions, abdominal movements, sezary disease, lymph nodes of multiple sites]</td>\n",
       "      <td>[0.1116, 0.1111, 0.1209, 0.1388, 0.1447, 0.1374, 0.1442, 0.1477, 0.1557, 0.1512, 0.1543, 0.1553, 0.1565, 0.1573, 0.1655, 0.1581, 0.1687, 0.1621, 0.1736]</td>\n",
       "      <td>[1, 1, 1, 1, 1, 1, 1, 1, 0, 1, 1, 1, 1, 1, 1, 0, 1, 1, 1]</td>\n",
       "      <td>[1, 0, 0, 0, 0, 0, 0, 0, 0, 1, 0, 0, 1, 0, 0, 0, 1, 0, 1]</td>\n",
       "      <td>[10, 0, 0, 0, 0, 0, 0, 0, 0, 10, 0, 0, 12, 0, 0, 0, 10, 0, 10]</td>\n",
       "    </tr>\n",
       "  </tbody>\n",
       "</table>\n",
       "</div>"
      ],
      "text/plain": [
       "                          chunks  begin  end   code  \\\n",
       "0  lymph nodes of multiple sites  0      28   C8408   \n",
       "\n",
       "                                                                                                                  all_codes  \\\n",
       "0  [C8408, M6749, R238, T009, R591, M259, R590, J984, L029, C779, R229, L918, C801, R6889, M2540, H531, C8598, R198, C8418]   \n",
       "\n",
       "                                                                                                                                                                                                                                                                                                                                                                                                                                                                                                                                                                  resolutions  \\\n",
       "0  [neoplasm of lymph nodes of multiple sites, ganglion, multiple sites, multiple lesions, blisters of multiple sites, o/e - lymph nodes tethered, multiple joint involvement, lymphadenopathy of head and/or neck, multiple lesions (finding), boils of multiple sites, regional lymph node involvement present, multiple lumps, multiple skin tags, multiple malignancy, multiple symptoms, effusion of joint of multiple sites, multiple visual images, lymphoma involves multiple lymph node regions, abdominal movements, sezary disease, lymph nodes of multiple sites]   \n",
       "\n",
       "                                                                                                                                              all_distances  \\\n",
       "0  [0.1116, 0.1111, 0.1209, 0.1388, 0.1447, 0.1374, 0.1442, 0.1477, 0.1557, 0.1512, 0.1543, 0.1553, 0.1565, 0.1573, 0.1655, 0.1581, 0.1687, 0.1621, 0.1736]   \n",
       "\n",
       "                                                    billable  \\\n",
       "0  [1, 1, 1, 1, 1, 1, 1, 1, 0, 1, 1, 1, 1, 1, 1, 0, 1, 1, 1]   \n",
       "\n",
       "                                                  hcc_status  \\\n",
       "0  [1, 0, 0, 0, 0, 0, 0, 0, 0, 1, 0, 0, 1, 0, 0, 0, 1, 0, 1]   \n",
       "\n",
       "                                                        hcc_score  \n",
       "0  [10, 0, 0, 0, 0, 0, 0, 0, 0, 10, 0, 0, 12, 0, 0, 0, 10, 0, 10]  "
      ]
     },
     "metadata": {
      "tags": []
     },
     "output_type": "display_data"
    },
    {
     "name": "stdout",
     "output_type": "stream",
     "text": [
      "snomed_code\n"
     ]
    },
    {
     "data": {
      "text/html": [
       "<div>\n",
       "<style scoped>\n",
       "    .dataframe tbody tr th:only-of-type {\n",
       "        vertical-align: middle;\n",
       "    }\n",
       "\n",
       "    .dataframe tbody tr th {\n",
       "        vertical-align: top;\n",
       "    }\n",
       "\n",
       "    .dataframe thead th {\n",
       "        text-align: right;\n",
       "    }\n",
       "</style>\n",
       "<table border=\"1\" class=\"dataframe\">\n",
       "  <thead>\n",
       "    <tr style=\"text-align: right;\">\n",
       "      <th></th>\n",
       "      <th>chunks</th>\n",
       "      <th>begin</th>\n",
       "      <th>end</th>\n",
       "      <th>code</th>\n",
       "      <th>all_codes</th>\n",
       "      <th>resolutions</th>\n",
       "      <th>all_distances</th>\n",
       "      <th>gt</th>\n",
       "      <th>concept</th>\n",
       "      <th>aux</th>\n",
       "    </tr>\n",
       "  </thead>\n",
       "  <tbody>\n",
       "    <tr>\n",
       "      <th>0</th>\n",
       "      <td>lymph nodes of multiple sites</td>\n",
       "      <td>0</td>\n",
       "      <td>28</td>\n",
       "      <td>181254001</td>\n",
       "      <td>[181254001, 327828000, 89524008, 254198003, 364107004, 318340006, 51576004, 127274007, 312511003, 281344002, 771256004, 281345001, 362599002, 168742000, 281778006, 125121005, 773180004, 69831007, 254985006, 59441001, 300582001, 728492007]</td>\n",
       "      <td>[entire large intestine, lymph nodes of multiple sites, lymph nodes of multiple sites, lymph nodes of multiple sites (body structure), lymph node / lymphatics observable, multiple body regions, multiple body regions, neoplasm of lymph nodes of multiple sites, lymphatic vessel of head and neck, regional lymphatic structures, structure of sclera of left eye, lymphatic structure of head and neck, lymphatics of neck, lymphatics of neck, intrathoracic lymphatic structure, primary collapse, entire apophysis of femur, lymphatic structure of neck, lymph nodes of body as a whole, lymph node structure, multiple lesions, entire intermediate posteroseptal accessory pathway]</td>\n",
       "      <td>[0.0000, 0.0000, 0.0000, 0.0134, 0.0851, 0.1045, 0.1045, 0.1116, 0.1150, 0.1160, 0.1135, 0.1196, 0.1238, 0.1238, 0.1235, 0.1181, 0.1185, 0.1250, 0.1223, 0.1253, 0.1209, 0.1253]</td>\n",
       "      <td>[Entire large intestine, Entire lymph nodes of body as a whole, Structure of lymph nodes of body as a whole, Lymph nodes of multiple sites, Lymph node / lymphatics observable, Entire multiple topographic sites, Structure of multiple topographic sites, Neoplasm of lymph nodes of multiple sites, Structure of lymphatic vessel of head and neck, Structure of region of lymphatic system, Structure of sclera of left eye, Structure of lymphatic system of head and neck, Entire lymphatic vessel of neck, Structure of lymphatic vessel of neck, Structure of intrathoracic lymphatic system, Primary collapse, Entire apophysis of femur, Structure of lymphatic system of neck, All lymph nodes, Structure of lymph node, Multiple lesions, Entire intermediate posteroseptal accessory pathway]</td>\n",
       "      <td>[Spec Anatomic Site, Spec Anatomic Site, Spec Anatomic Site, Spec Anatomic Site, Observation, Spec Anatomic Site, Spec Anatomic Site, Condition, Spec Anatomic Site, Spec Anatomic Site, Spec Anatomic Site, Spec Anatomic Site, Spec Anatomic Site, Spec Anatomic Site, Spec Anatomic Site, Observation, Spec Anatomic Site, Spec Anatomic Site, Observation, Spec Anatomic Site, Condition, Spec Anatomic Site]</td>\n",
       "      <td>[Body Structure, Body Structure, Body Structure, Body Structure, Observable Entity, Body Structure, Body Structure, Clinical Finding, Body Structure, Body Structure, Body Structure, Body Structure, Body Structure, Body Structure, Body Structure, Morph Abnormality, Body Structure, Body Structure, Body Structure, Body Structure, Clinical Finding, Body Structure]</td>\n",
       "    </tr>\n",
       "  </tbody>\n",
       "</table>\n",
       "</div>"
      ],
      "text/plain": [
       "                          chunks  begin  end       code  \\\n",
       "0  lymph nodes of multiple sites  0      28   181254001   \n",
       "\n",
       "                                                                                                                                                                                                                                        all_codes  \\\n",
       "0  [181254001, 327828000, 89524008, 254198003, 364107004, 318340006, 51576004, 127274007, 312511003, 281344002, 771256004, 281345001, 362599002, 168742000, 281778006, 125121005, 773180004, 69831007, 254985006, 59441001, 300582001, 728492007]   \n",
       "\n",
       "                                                                                                                                                                                                                                                                                                                                                                                                                                                                                                                                                                                                                                                                                      resolutions  \\\n",
       "0  [entire large intestine, lymph nodes of multiple sites, lymph nodes of multiple sites, lymph nodes of multiple sites (body structure), lymph node / lymphatics observable, multiple body regions, multiple body regions, neoplasm of lymph nodes of multiple sites, lymphatic vessel of head and neck, regional lymphatic structures, structure of sclera of left eye, lymphatic structure of head and neck, lymphatics of neck, lymphatics of neck, intrathoracic lymphatic structure, primary collapse, entire apophysis of femur, lymphatic structure of neck, lymph nodes of body as a whole, lymph node structure, multiple lesions, entire intermediate posteroseptal accessory pathway]   \n",
       "\n",
       "                                                                                                                                                                      all_distances  \\\n",
       "0  [0.0000, 0.0000, 0.0000, 0.0134, 0.0851, 0.1045, 0.1045, 0.1116, 0.1150, 0.1160, 0.1135, 0.1196, 0.1238, 0.1238, 0.1235, 0.1181, 0.1185, 0.1250, 0.1223, 0.1253, 0.1209, 0.1253]   \n",
       "\n",
       "                                                                                                                                                                                                                                                                                                                                                                                                                                                                                                                                                                                                                                                                                                                                                                                                           gt  \\\n",
       "0  [Entire large intestine, Entire lymph nodes of body as a whole, Structure of lymph nodes of body as a whole, Lymph nodes of multiple sites, Lymph node / lymphatics observable, Entire multiple topographic sites, Structure of multiple topographic sites, Neoplasm of lymph nodes of multiple sites, Structure of lymphatic vessel of head and neck, Structure of region of lymphatic system, Structure of sclera of left eye, Structure of lymphatic system of head and neck, Entire lymphatic vessel of neck, Structure of lymphatic vessel of neck, Structure of intrathoracic lymphatic system, Primary collapse, Entire apophysis of femur, Structure of lymphatic system of neck, All lymph nodes, Structure of lymph node, Multiple lesions, Entire intermediate posteroseptal accessory pathway]   \n",
       "\n",
       "                                                                                                                                                                                                                                                                                                                                                                                                             concept  \\\n",
       "0  [Spec Anatomic Site, Spec Anatomic Site, Spec Anatomic Site, Spec Anatomic Site, Observation, Spec Anatomic Site, Spec Anatomic Site, Condition, Spec Anatomic Site, Spec Anatomic Site, Spec Anatomic Site, Spec Anatomic Site, Spec Anatomic Site, Spec Anatomic Site, Spec Anatomic Site, Observation, Spec Anatomic Site, Spec Anatomic Site, Observation, Spec Anatomic Site, Condition, Spec Anatomic Site]   \n",
       "\n",
       "                                                                                                                                                                                                                                                                                                                                                                          aux  \n",
       "0  [Body Structure, Body Structure, Body Structure, Body Structure, Observable Entity, Body Structure, Body Structure, Clinical Finding, Body Structure, Body Structure, Body Structure, Body Structure, Body Structure, Body Structure, Body Structure, Morph Abnormality, Body Structure, Body Structure, Body Structure, Body Structure, Clinical Finding, Body Structure]  "
      ]
     },
     "metadata": {
      "tags": []
     },
     "output_type": "display_data"
    },
    {
     "name": "stdout",
     "output_type": "stream",
     "text": [
      ">>  malignant melanoma of skin\n",
      "icd10cm_code\n"
     ]
    },
    {
     "data": {
      "text/html": [
       "<div>\n",
       "<style scoped>\n",
       "    .dataframe tbody tr th:only-of-type {\n",
       "        vertical-align: middle;\n",
       "    }\n",
       "\n",
       "    .dataframe tbody tr th {\n",
       "        vertical-align: top;\n",
       "    }\n",
       "\n",
       "    .dataframe thead th {\n",
       "        text-align: right;\n",
       "    }\n",
       "</style>\n",
       "<table border=\"1\" class=\"dataframe\">\n",
       "  <thead>\n",
       "    <tr style=\"text-align: right;\">\n",
       "      <th></th>\n",
       "      <th>chunks</th>\n",
       "      <th>begin</th>\n",
       "      <th>end</th>\n",
       "      <th>code</th>\n",
       "      <th>all_codes</th>\n",
       "      <th>resolutions</th>\n",
       "      <th>all_distances</th>\n",
       "      <th>billable</th>\n",
       "      <th>hcc_status</th>\n",
       "      <th>hcc_score</th>\n",
       "    </tr>\n",
       "  </thead>\n",
       "  <tbody>\n",
       "    <tr>\n",
       "      <th>0</th>\n",
       "      <td>malignant melanoma of skin</td>\n",
       "      <td>0</td>\n",
       "      <td>25</td>\n",
       "      <td>C43</td>\n",
       "      <td>[C43, C439, C433, D039, C435, C438, C436, C434, C4359]</td>\n",
       "      <td>[malignant melanoma of skin, malignant melanoma of skin, malignant melanoma of skin of face, in situ malignant melanoma of skin, malignant melanoma of skin of trunk, overlapping malignant melanoma of skin, malignant melanoma of skin of hand, malignant melanoma of scalp, malignant melanoma of skin of trunk (disorder)]</td>\n",
       "      <td>[0.0000, 0.0000, 0.0181, 0.0216, 0.0265, 0.0308, 0.0417, 0.0459, 0.0485]</td>\n",
       "      <td>[0, 1, 0, 1, 0, 1, 0, 1, 1]</td>\n",
       "      <td>[0, 1, 0, 1, 0, 1, 0, 1, 1]</td>\n",
       "      <td>[0, 12, 0, 12, 0, 12, 0, 12, 12]</td>\n",
       "    </tr>\n",
       "  </tbody>\n",
       "</table>\n",
       "</div>"
      ],
      "text/plain": [
       "                       chunks  begin  end code  \\\n",
       "0  malignant melanoma of skin  0      25   C43   \n",
       "\n",
       "                                                all_codes  \\\n",
       "0  [C43, C439, C433, D039, C435, C438, C436, C434, C4359]   \n",
       "\n",
       "                                                                                                                                                                                                                                                                                                                      resolutions  \\\n",
       "0  [malignant melanoma of skin, malignant melanoma of skin, malignant melanoma of skin of face, in situ malignant melanoma of skin, malignant melanoma of skin of trunk, overlapping malignant melanoma of skin, malignant melanoma of skin of hand, malignant melanoma of scalp, malignant melanoma of skin of trunk (disorder)]   \n",
       "\n",
       "                                                              all_distances  \\\n",
       "0  [0.0000, 0.0000, 0.0181, 0.0216, 0.0265, 0.0308, 0.0417, 0.0459, 0.0485]   \n",
       "\n",
       "                      billable                   hcc_status  \\\n",
       "0  [0, 1, 0, 1, 0, 1, 0, 1, 1]  [0, 1, 0, 1, 0, 1, 0, 1, 1]   \n",
       "\n",
       "                          hcc_score  \n",
       "0  [0, 12, 0, 12, 0, 12, 0, 12, 12]  "
      ]
     },
     "metadata": {
      "tags": []
     },
     "output_type": "display_data"
    },
    {
     "name": "stdout",
     "output_type": "stream",
     "text": [
      "snomed_code\n"
     ]
    },
    {
     "data": {
      "text/html": [
       "<div>\n",
       "<style scoped>\n",
       "    .dataframe tbody tr th:only-of-type {\n",
       "        vertical-align: middle;\n",
       "    }\n",
       "\n",
       "    .dataframe tbody tr th {\n",
       "        vertical-align: top;\n",
       "    }\n",
       "\n",
       "    .dataframe thead th {\n",
       "        text-align: right;\n",
       "    }\n",
       "</style>\n",
       "<table border=\"1\" class=\"dataframe\">\n",
       "  <thead>\n",
       "    <tr style=\"text-align: right;\">\n",
       "      <th></th>\n",
       "      <th>chunks</th>\n",
       "      <th>begin</th>\n",
       "      <th>end</th>\n",
       "      <th>code</th>\n",
       "      <th>all_codes</th>\n",
       "      <th>resolutions</th>\n",
       "      <th>all_distances</th>\n",
       "      <th>gt</th>\n",
       "      <th>concept</th>\n",
       "      <th>aux</th>\n",
       "    </tr>\n",
       "  </thead>\n",
       "  <tbody>\n",
       "    <tr>\n",
       "      <th>0</th>\n",
       "      <td>malignant melanoma of skin</td>\n",
       "      <td>0</td>\n",
       "      <td>25</td>\n",
       "      <td>93655004</td>\n",
       "      <td>[93655004, 93225001, 254731001, 109266006, 93212009, 93651008, 18808004, 109267002, 188081000, 372244006, 269577007, 154501005, 154503008, 269579005, 179038000, 188082007, 154506000]</td>\n",
       "      <td>[malignant melanoma of skin, malignant melanoma of skin of face, nodular malignant melanoma of skin, in situ malignant melanoma of skin, malignant melanoma of skin of arm, malignant melanoma of skin of trunk, precautionary nursing procedure, overlapping malignant melanoma of skin, overlapping malignant melanoma of skin, malignant melanoma, malignant melanoma, malignant melanoma, malignant melanoma of trunk, malignant melanoma of trunk, primary open reduction of fracture of bone and extramedullary fixation nos, malignant melanoma of skin nos, malignant melanoma of skin nos]</td>\n",
       "      <td>[0.0000, 0.0181, 0.0199, 0.0216, 0.0258, 0.0265, 0.0308, 0.0308, 0.0308, 0.0313, 0.0313, 0.0313, 0.0336, 0.0336, 0.0403, 0.0403, 0.0403]</td>\n",
       "      <td>[Malignant melanoma of skin, Malignant melanoma of skin of face, Nodular malignant melanoma of skin, Melanoma in situ of skin, Malignant melanoma of skin of arm, Malignant melanoma of skin of trunk, Precautionary nursing procedure, Overlapping malignant melanoma of skin, Overlapping malignant melanoma of skin, Malignant melanoma, Melanoma: [skin] or [malignant], Melanoma: [skin] or [malignant], Malignant melanoma of trunk, Malignant melanoma of trunk, Primary open reduction of fracture of bone and extramedullary fixation NOS, Malignant melanoma of skin NOS, Malignant melanoma of skin NOS]</td>\n",
       "      <td>[Condition, Condition, Condition, Condition, Condition, Condition, Procedure, Condition, Condition, Condition, Condition, Condition, Condition, Condition, Procedure, Condition, Condition]</td>\n",
       "      <td>[Clinical Finding, Clinical Finding, Clinical Finding, Clinical Finding, Clinical Finding, Clinical Finding, Procedure, Clinical Finding, Clinical Finding, Clinical Finding, Clinical Finding, Clinical Finding, Clinical Finding, Clinical Finding, Procedure, Clinical Finding, Clinical Finding]</td>\n",
       "    </tr>\n",
       "  </tbody>\n",
       "</table>\n",
       "</div>"
      ],
      "text/plain": [
       "                       chunks  begin  end      code  \\\n",
       "0  malignant melanoma of skin  0      25   93655004   \n",
       "\n",
       "                                                                                                                                                                                all_codes  \\\n",
       "0  [93655004, 93225001, 254731001, 109266006, 93212009, 93651008, 18808004, 109267002, 188081000, 372244006, 269577007, 154501005, 154503008, 269579005, 179038000, 188082007, 154506000]   \n",
       "\n",
       "                                                                                                                                                                                                                                                                                                                                                                                                                                                                                                                                                                                           resolutions  \\\n",
       "0  [malignant melanoma of skin, malignant melanoma of skin of face, nodular malignant melanoma of skin, in situ malignant melanoma of skin, malignant melanoma of skin of arm, malignant melanoma of skin of trunk, precautionary nursing procedure, overlapping malignant melanoma of skin, overlapping malignant melanoma of skin, malignant melanoma, malignant melanoma, malignant melanoma, malignant melanoma of trunk, malignant melanoma of trunk, primary open reduction of fracture of bone and extramedullary fixation nos, malignant melanoma of skin nos, malignant melanoma of skin nos]   \n",
       "\n",
       "                                                                                                                              all_distances  \\\n",
       "0  [0.0000, 0.0181, 0.0199, 0.0216, 0.0258, 0.0265, 0.0308, 0.0308, 0.0308, 0.0313, 0.0313, 0.0313, 0.0336, 0.0336, 0.0403, 0.0403, 0.0403]   \n",
       "\n",
       "                                                                                                                                                                                                                                                                                                                                                                                                                                                                                                                                                                                                                    gt  \\\n",
       "0  [Malignant melanoma of skin, Malignant melanoma of skin of face, Nodular malignant melanoma of skin, Melanoma in situ of skin, Malignant melanoma of skin of arm, Malignant melanoma of skin of trunk, Precautionary nursing procedure, Overlapping malignant melanoma of skin, Overlapping malignant melanoma of skin, Malignant melanoma, Melanoma: [skin] or [malignant], Melanoma: [skin] or [malignant], Malignant melanoma of trunk, Malignant melanoma of trunk, Primary open reduction of fracture of bone and extramedullary fixation NOS, Malignant melanoma of skin NOS, Malignant melanoma of skin NOS]   \n",
       "\n",
       "                                                                                                                                                                                       concept  \\\n",
       "0  [Condition, Condition, Condition, Condition, Condition, Condition, Procedure, Condition, Condition, Condition, Condition, Condition, Condition, Condition, Procedure, Condition, Condition]   \n",
       "\n",
       "                                                                                                                                                                                                                                                                                                    aux  \n",
       "0  [Clinical Finding, Clinical Finding, Clinical Finding, Clinical Finding, Clinical Finding, Clinical Finding, Procedure, Clinical Finding, Clinical Finding, Clinical Finding, Clinical Finding, Clinical Finding, Clinical Finding, Clinical Finding, Procedure, Clinical Finding, Clinical Finding]  "
      ]
     },
     "metadata": {
      "tags": []
     },
     "output_type": "display_data"
    },
    {
     "name": "stdout",
     "output_type": "stream",
     "text": [
      ">>  malignant neoplasm of lower lobe, bronchus\n",
      "icd10cm_code\n"
     ]
    },
    {
     "data": {
      "text/html": [
       "<div>\n",
       "<style scoped>\n",
       "    .dataframe tbody tr th:only-of-type {\n",
       "        vertical-align: middle;\n",
       "    }\n",
       "\n",
       "    .dataframe tbody tr th {\n",
       "        vertical-align: top;\n",
       "    }\n",
       "\n",
       "    .dataframe thead th {\n",
       "        text-align: right;\n",
       "    }\n",
       "</style>\n",
       "<table border=\"1\" class=\"dataframe\">\n",
       "  <thead>\n",
       "    <tr style=\"text-align: right;\">\n",
       "      <th></th>\n",
       "      <th>chunks</th>\n",
       "      <th>begin</th>\n",
       "      <th>end</th>\n",
       "      <th>code</th>\n",
       "      <th>all_codes</th>\n",
       "      <th>resolutions</th>\n",
       "      <th>all_distances</th>\n",
       "      <th>billable</th>\n",
       "      <th>hcc_status</th>\n",
       "      <th>hcc_score</th>\n",
       "    </tr>\n",
       "  </thead>\n",
       "  <tbody>\n",
       "    <tr>\n",
       "      <th>0</th>\n",
       "      <td>malignant neoplasm of lower lobe, bronchus</td>\n",
       "      <td>0</td>\n",
       "      <td>41</td>\n",
       "      <td>C343</td>\n",
       "      <td>[C343, C3432, C3430, C780, C3402, C399, D0222, C3431, C34, D381]</td>\n",
       "      <td>[malignant neoplasm of lower lobe bronchus, malignant neoplasm of lower lobe bronchus (disorder), malignant neoplasm of lower lobe, bronchus or lung (disorder), neoplasm of bronchus of left lower lobe, malignant neoplasm of left main bronchus, malignant neoplasm of lower respiratory tract, neoplasm of bronchus of left lower lobe (disorder), malignant neoplasm of lower lobe, right bronchus or lung, malignant neoplasm of bronchus and lung, neoplasm of left lower lobe of lung]</td>\n",
       "      <td>[0.0113, 0.0228, 0.0486, 0.0550, 0.0624, 0.0633, 0.0661, 0.0666, 0.0768, 0.0781]</td>\n",
       "      <td>[0, 1, 1, 0, 1, 1, 1, 1, 0, 1]</td>\n",
       "      <td>[0, 1, 1, 0, 1, 1, 0, 1, 0, 0]</td>\n",
       "      <td>[0, 9, 9, 0, 9, 11, 0, 9, 0, 0]</td>\n",
       "    </tr>\n",
       "  </tbody>\n",
       "</table>\n",
       "</div>"
      ],
      "text/plain": [
       "                                       chunks  begin  end  code  \\\n",
       "0  malignant neoplasm of lower lobe, bronchus  0      41   C343   \n",
       "\n",
       "                                                          all_codes  \\\n",
       "0  [C343, C3432, C3430, C780, C3402, C399, D0222, C3431, C34, D381]   \n",
       "\n",
       "                                                                                                                                                                                                                                                                                                                                                                                                                                                                                      resolutions  \\\n",
       "0  [malignant neoplasm of lower lobe bronchus, malignant neoplasm of lower lobe bronchus (disorder), malignant neoplasm of lower lobe, bronchus or lung (disorder), neoplasm of bronchus of left lower lobe, malignant neoplasm of left main bronchus, malignant neoplasm of lower respiratory tract, neoplasm of bronchus of left lower lobe (disorder), malignant neoplasm of lower lobe, right bronchus or lung, malignant neoplasm of bronchus and lung, neoplasm of left lower lobe of lung]   \n",
       "\n",
       "                                                                      all_distances  \\\n",
       "0  [0.0113, 0.0228, 0.0486, 0.0550, 0.0624, 0.0633, 0.0661, 0.0666, 0.0768, 0.0781]   \n",
       "\n",
       "                         billable                      hcc_status  \\\n",
       "0  [0, 1, 1, 0, 1, 1, 1, 1, 0, 1]  [0, 1, 1, 0, 1, 1, 0, 1, 0, 0]   \n",
       "\n",
       "                         hcc_score  \n",
       "0  [0, 9, 9, 0, 9, 11, 0, 9, 0, 0]  "
      ]
     },
     "metadata": {
      "tags": []
     },
     "output_type": "display_data"
    },
    {
     "name": "stdout",
     "output_type": "stream",
     "text": [
      "snomed_code\n"
     ]
    },
    {
     "data": {
      "text/html": [
       "<div>\n",
       "<style scoped>\n",
       "    .dataframe tbody tr th:only-of-type {\n",
       "        vertical-align: middle;\n",
       "    }\n",
       "\n",
       "    .dataframe tbody tr th {\n",
       "        vertical-align: top;\n",
       "    }\n",
       "\n",
       "    .dataframe thead th {\n",
       "        text-align: right;\n",
       "    }\n",
       "</style>\n",
       "<table border=\"1\" class=\"dataframe\">\n",
       "  <thead>\n",
       "    <tr style=\"text-align: right;\">\n",
       "      <th></th>\n",
       "      <th>chunks</th>\n",
       "      <th>begin</th>\n",
       "      <th>end</th>\n",
       "      <th>code</th>\n",
       "      <th>all_codes</th>\n",
       "      <th>resolutions</th>\n",
       "      <th>all_distances</th>\n",
       "      <th>gt</th>\n",
       "      <th>concept</th>\n",
       "      <th>aux</th>\n",
       "    </tr>\n",
       "  </thead>\n",
       "  <tbody>\n",
       "    <tr>\n",
       "      <th>0</th>\n",
       "      <td>malignant neoplasm of lower lobe, bronchus</td>\n",
       "      <td>0</td>\n",
       "      <td>41</td>\n",
       "      <td>187869003</td>\n",
       "      <td>[187869003, 187870002, 187868006, 126712008, 94228007, 187871003, 724059003, 430621000, 372110008, 93729006, 724053002, 724056005, 126718007, 126709005, 187660002]</td>\n",
       "      <td>[malignant neoplasm of lower lobe bronchus, malignant neoplasm of lower lobe of lung, malignant neoplasm of lower lobe, bronchus or lung, neoplasm of bronchus of left lower lobe, secondary malignant neoplasm of bronchus of left lower lobe, malignant neoplasm of lower lobe, bronchus or lung nos, malignant neoplasm of lower lobe of left lung, malignant neoplasm of lower respiratory tract, primary malignant neoplasm of lower lobe, bronchus or lung, primary malignant neoplasm of bronchus of left lower lobe, antibiotic therapy for prevention of recurrent infection, malignant neoplasm of lower lobe of right lung, neoplasm of left lower lobe of lung, neoplasm of bronchus of left upper lobe, malignant neoplasm of lower buccal sulcus]</td>\n",
       "      <td>[0.0113, 0.0354, 0.0482, 0.0550, 0.0553, 0.0601, 0.0587, 0.0633, 0.0670, 0.0672, 0.0751, 0.0751, 0.0781, 0.0811, 0.0830]</td>\n",
       "      <td>[Malignant neoplasm of lower lobe bronchus, Malignant neoplasm of lower lobe of lung, Malignant neoplasm of lower lobe, bronchus or lung, Neoplasm of bronchus of left lower lobe, Secondary malignant neoplasm of bronchus of left lower lobe, Malignant neoplasm of lower lobe, bronchus or lung NOS, Malignant neoplasm of lower lobe of left lung, Malignant neoplasm of lower respiratory tract, Primary malignant neoplasm of lower lobe, bronchus or lung, Primary malignant neoplasm of bronchus of left lower lobe, Antibiotic therapy for prevention of recurrent infection, Malignant neoplasm of lower lobe of right lung, Neoplasm of left lower lobe of lung, Neoplasm of bronchus of left upper lobe, Malignant tumor of lower buccal sulcus]</td>\n",
       "      <td>[Condition, Condition, Condition, Condition, Condition, Condition, Condition, Condition, Condition, Condition, Procedure, Condition, Condition, Condition, Condition]</td>\n",
       "      <td>[Clinical Finding, Clinical Finding, Clinical Finding, Clinical Finding, Clinical Finding, Clinical Finding, Clinical Finding, Clinical Finding, Clinical Finding, Clinical Finding, Procedure, Clinical Finding, Clinical Finding, Clinical Finding, Clinical Finding]</td>\n",
       "    </tr>\n",
       "  </tbody>\n",
       "</table>\n",
       "</div>"
      ],
      "text/plain": [
       "                                       chunks  begin  end       code  \\\n",
       "0  malignant neoplasm of lower lobe, bronchus  0      41   187869003   \n",
       "\n",
       "                                                                                                                                                             all_codes  \\\n",
       "0  [187869003, 187870002, 187868006, 126712008, 94228007, 187871003, 724059003, 430621000, 372110008, 93729006, 724053002, 724056005, 126718007, 126709005, 187660002]   \n",
       "\n",
       "                                                                                                                                                                                                                                                                                                                                                                                                                                                                                                                                                                                                                                                                                                                                                       resolutions  \\\n",
       "0  [malignant neoplasm of lower lobe bronchus, malignant neoplasm of lower lobe of lung, malignant neoplasm of lower lobe, bronchus or lung, neoplasm of bronchus of left lower lobe, secondary malignant neoplasm of bronchus of left lower lobe, malignant neoplasm of lower lobe, bronchus or lung nos, malignant neoplasm of lower lobe of left lung, malignant neoplasm of lower respiratory tract, primary malignant neoplasm of lower lobe, bronchus or lung, primary malignant neoplasm of bronchus of left lower lobe, antibiotic therapy for prevention of recurrent infection, malignant neoplasm of lower lobe of right lung, neoplasm of left lower lobe of lung, neoplasm of bronchus of left upper lobe, malignant neoplasm of lower buccal sulcus]   \n",
       "\n",
       "                                                                                                              all_distances  \\\n",
       "0  [0.0113, 0.0354, 0.0482, 0.0550, 0.0553, 0.0601, 0.0587, 0.0633, 0.0670, 0.0672, 0.0751, 0.0751, 0.0781, 0.0811, 0.0830]   \n",
       "\n",
       "                                                                                                                                                                                                                                                                                                                                                                                                                                                                                                                                                                                                                                                                                                                                                             gt  \\\n",
       "0  [Malignant neoplasm of lower lobe bronchus, Malignant neoplasm of lower lobe of lung, Malignant neoplasm of lower lobe, bronchus or lung, Neoplasm of bronchus of left lower lobe, Secondary malignant neoplasm of bronchus of left lower lobe, Malignant neoplasm of lower lobe, bronchus or lung NOS, Malignant neoplasm of lower lobe of left lung, Malignant neoplasm of lower respiratory tract, Primary malignant neoplasm of lower lobe, bronchus or lung, Primary malignant neoplasm of bronchus of left lower lobe, Antibiotic therapy for prevention of recurrent infection, Malignant neoplasm of lower lobe of right lung, Neoplasm of left lower lobe of lung, Neoplasm of bronchus of left upper lobe, Malignant tumor of lower buccal sulcus]   \n",
       "\n",
       "                                                                                                                                                                 concept  \\\n",
       "0  [Condition, Condition, Condition, Condition, Condition, Condition, Condition, Condition, Condition, Condition, Procedure, Condition, Condition, Condition, Condition]   \n",
       "\n",
       "                                                                                                                                                                                                                                                                       aux  \n",
       "0  [Clinical Finding, Clinical Finding, Clinical Finding, Clinical Finding, Clinical Finding, Clinical Finding, Clinical Finding, Clinical Finding, Clinical Finding, Clinical Finding, Procedure, Clinical Finding, Clinical Finding, Clinical Finding, Clinical Finding]  "
      ]
     },
     "metadata": {
      "tags": []
     },
     "output_type": "display_data"
    },
    {
     "name": "stdout",
     "output_type": "stream",
     "text": [
      ">>  metastatic lung cancer\n",
      "icd10cm_code\n"
     ]
    },
    {
     "data": {
      "text/html": [
       "<div>\n",
       "<style scoped>\n",
       "    .dataframe tbody tr th:only-of-type {\n",
       "        vertical-align: middle;\n",
       "    }\n",
       "\n",
       "    .dataframe tbody tr th {\n",
       "        vertical-align: top;\n",
       "    }\n",
       "\n",
       "    .dataframe thead th {\n",
       "        text-align: right;\n",
       "    }\n",
       "</style>\n",
       "<table border=\"1\" class=\"dataframe\">\n",
       "  <thead>\n",
       "    <tr style=\"text-align: right;\">\n",
       "      <th></th>\n",
       "      <th>chunks</th>\n",
       "      <th>begin</th>\n",
       "      <th>end</th>\n",
       "      <th>code</th>\n",
       "      <th>all_codes</th>\n",
       "      <th>resolutions</th>\n",
       "      <th>all_distances</th>\n",
       "      <th>billable</th>\n",
       "      <th>hcc_status</th>\n",
       "      <th>hcc_score</th>\n",
       "    </tr>\n",
       "  </thead>\n",
       "  <tbody>\n",
       "    <tr>\n",
       "      <th>0</th>\n",
       "      <td>metastatic lung cancer</td>\n",
       "      <td>0</td>\n",
       "      <td>21</td>\n",
       "      <td>C7800</td>\n",
       "      <td>[C7800, C349, C7801, Z858, C800, Z8511, C780, C798, C7802, C799, C7830, C7B00]</td>\n",
       "      <td>[cancer metastatic to lung, metastasis from malignant tumor of lung, cancer metastatic to left lung, history of cancer metastatic to lung, metastatic cancer, history of cancer metastatic to lung (situation), metastatic adenocarcinoma to bilateral lungs, cancer metastatic to chest wall, metastatic malignant neoplasm to left lower lobe of lung, metastatic carcinoid tumour, cancer metastatic to respiratory tract, metastatic carcinoid tumor]</td>\n",
       "      <td>[0.0464, 0.0829, 0.0852, 0.0860, 0.0914, 0.0989, 0.1133, 0.1220, 0.1220, 0.1253, 0.1249, 0.1260]</td>\n",
       "      <td>[1, 0, 1, 0, 1, 0, 0, 0, 1, 1, 1, 1]</td>\n",
       "      <td>[1, 0, 1, 0, 1, 0, 0, 0, 1, 1, 1, 1]</td>\n",
       "      <td>[8, 0, 8, 0, 8, 0, 0, 0, 8, 8, 8, 8]</td>\n",
       "    </tr>\n",
       "  </tbody>\n",
       "</table>\n",
       "</div>"
      ],
      "text/plain": [
       "                   chunks  begin  end   code  \\\n",
       "0  metastatic lung cancer  0      21   C7800   \n",
       "\n",
       "                                                                        all_codes  \\\n",
       "0  [C7800, C349, C7801, Z858, C800, Z8511, C780, C798, C7802, C799, C7830, C7B00]   \n",
       "\n",
       "                                                                                                                                                                                                                                                                                                                                                                                                                                                 resolutions  \\\n",
       "0  [cancer metastatic to lung, metastasis from malignant tumor of lung, cancer metastatic to left lung, history of cancer metastatic to lung, metastatic cancer, history of cancer metastatic to lung (situation), metastatic adenocarcinoma to bilateral lungs, cancer metastatic to chest wall, metastatic malignant neoplasm to left lower lobe of lung, metastatic carcinoid tumour, cancer metastatic to respiratory tract, metastatic carcinoid tumor]   \n",
       "\n",
       "                                                                                      all_distances  \\\n",
       "0  [0.0464, 0.0829, 0.0852, 0.0860, 0.0914, 0.0989, 0.1133, 0.1220, 0.1220, 0.1253, 0.1249, 0.1260]   \n",
       "\n",
       "                               billable                            hcc_status  \\\n",
       "0  [1, 0, 1, 0, 1, 0, 0, 0, 1, 1, 1, 1]  [1, 0, 1, 0, 1, 0, 0, 0, 1, 1, 1, 1]   \n",
       "\n",
       "                              hcc_score  \n",
       "0  [8, 0, 8, 0, 8, 0, 0, 0, 8, 8, 8, 8]  "
      ]
     },
     "metadata": {
      "tags": []
     },
     "output_type": "display_data"
    },
    {
     "name": "stdout",
     "output_type": "stream",
     "text": [
      "snomed_code\n"
     ]
    },
    {
     "data": {
      "text/html": [
       "<div>\n",
       "<style scoped>\n",
       "    .dataframe tbody tr th:only-of-type {\n",
       "        vertical-align: middle;\n",
       "    }\n",
       "\n",
       "    .dataframe tbody tr th {\n",
       "        vertical-align: top;\n",
       "    }\n",
       "\n",
       "    .dataframe thead th {\n",
       "        text-align: right;\n",
       "    }\n",
       "</style>\n",
       "<table border=\"1\" class=\"dataframe\">\n",
       "  <thead>\n",
       "    <tr style=\"text-align: right;\">\n",
       "      <th></th>\n",
       "      <th>chunks</th>\n",
       "      <th>begin</th>\n",
       "      <th>end</th>\n",
       "      <th>code</th>\n",
       "      <th>all_codes</th>\n",
       "      <th>resolutions</th>\n",
       "      <th>all_distances</th>\n",
       "      <th>gt</th>\n",
       "      <th>concept</th>\n",
       "      <th>aux</th>\n",
       "    </tr>\n",
       "  </thead>\n",
       "  <tbody>\n",
       "    <tr>\n",
       "      <th>0</th>\n",
       "      <td>metastatic lung cancer</td>\n",
       "      <td>0</td>\n",
       "      <td>21</td>\n",
       "      <td>94391008</td>\n",
       "      <td>[94391008, 457721000124104, 457711000124107, 315006004, 353741000119106, 1098961000119105, 302818005, 128462008, 269624009, 154576004, 154566002, 15956181000119102, 285604008, 1661000119106, 94253005, 94375005, 94376006]</td>\n",
       "      <td>[cancer metastatic to lung, metastatic non-small cell lung cancer, metastatic non-small cell carcinoma, metastasis from malignant tumor of lung, cancer metastatic to left lung, history of cancer metastatic to lung, metastatic cancer, metastatic cancer, metastatic carcinoma, metastatic carcinoma, metastasis to lung, metastatic adenocarcinoma to bilateral lungs, metastasis to lung of unknown primary, metastasis to lung from adenocarcinoma, cancer metastatic to chest wall, metastatic malignant neoplasm to left lower lobe of lung, metastatic malignant neoplasm to left upper lobe of lung]</td>\n",
       "      <td>[0.0464, 0.0744, 0.0744, 0.0829, 0.0852, 0.0860, 0.0914, 0.0914, 0.0994, 0.0994, 0.1033, 0.1133, 0.1140, 0.1195, 0.1220, 0.1220, 0.1223]</td>\n",
       "      <td>[Secondary malignant neoplasm of lung, Metastatic non-small cell lung cancer, Metastatic non-small cell carcinoma, Metastasis from malignant tumor of lung, Secondary malignant neoplasm of left lung, History of cancer metastatic to lung, Malignant neoplasm, disseminated, Secondary malignant neoplastic disease, Disseminated Ca -unspecif site, Dissemin.Ca unsp. site, Metastasis to lung, Secondary adenocarcinoma of bilateral lungs, Metastasis to lung of unknown primary, Metastasis to lung from adenocarcinoma, Secondary malignant neoplasm of chest wall, Secondary malignant neoplasm of left lower lobe of lung, Secondary malignant neoplasm of left upper lobe of lung]</td>\n",
       "      <td>[Condition, Condition, Observation, Condition, Condition, Observation, Condition, Condition, Condition, Condition, Condition, Condition, Condition, Condition, Condition, Condition, Condition]</td>\n",
       "      <td>[Clinical Finding, Clinical Finding, Morph Abnormality, Clinical Finding, Clinical Finding, Context-dependent, Clinical Finding, Clinical Finding, Clinical Finding, Clinical Finding, Clinical Finding, Clinical Finding, Clinical Finding, Clinical Finding, Clinical Finding, Clinical Finding, Clinical Finding]</td>\n",
       "    </tr>\n",
       "  </tbody>\n",
       "</table>\n",
       "</div>"
      ],
      "text/plain": [
       "                   chunks  begin  end      code  \\\n",
       "0  metastatic lung cancer  0      21   94391008   \n",
       "\n",
       "                                                                                                                                                                                                                      all_codes  \\\n",
       "0  [94391008, 457721000124104, 457711000124107, 315006004, 353741000119106, 1098961000119105, 302818005, 128462008, 269624009, 154576004, 154566002, 15956181000119102, 285604008, 1661000119106, 94253005, 94375005, 94376006]   \n",
       "\n",
       "                                                                                                                                                                                                                                                                                                                                                                                                                                                                                                                                                                                                      resolutions  \\\n",
       "0  [cancer metastatic to lung, metastatic non-small cell lung cancer, metastatic non-small cell carcinoma, metastasis from malignant tumor of lung, cancer metastatic to left lung, history of cancer metastatic to lung, metastatic cancer, metastatic cancer, metastatic carcinoma, metastatic carcinoma, metastasis to lung, metastatic adenocarcinoma to bilateral lungs, metastasis to lung of unknown primary, metastasis to lung from adenocarcinoma, cancer metastatic to chest wall, metastatic malignant neoplasm to left lower lobe of lung, metastatic malignant neoplasm to left upper lobe of lung]   \n",
       "\n",
       "                                                                                                                              all_distances  \\\n",
       "0  [0.0464, 0.0744, 0.0744, 0.0829, 0.0852, 0.0860, 0.0914, 0.0914, 0.0994, 0.0994, 0.1033, 0.1133, 0.1140, 0.1195, 0.1220, 0.1220, 0.1223]   \n",
       "\n",
       "                                                                                                                                                                                                                                                                                                                                                                                                                                                                                                                                                                                                                                                                                             gt  \\\n",
       "0  [Secondary malignant neoplasm of lung, Metastatic non-small cell lung cancer, Metastatic non-small cell carcinoma, Metastasis from malignant tumor of lung, Secondary malignant neoplasm of left lung, History of cancer metastatic to lung, Malignant neoplasm, disseminated, Secondary malignant neoplastic disease, Disseminated Ca -unspecif site, Dissemin.Ca unsp. site, Metastasis to lung, Secondary adenocarcinoma of bilateral lungs, Metastasis to lung of unknown primary, Metastasis to lung from adenocarcinoma, Secondary malignant neoplasm of chest wall, Secondary malignant neoplasm of left lower lobe of lung, Secondary malignant neoplasm of left upper lobe of lung]   \n",
       "\n",
       "                                                                                                                                                                                           concept  \\\n",
       "0  [Condition, Condition, Observation, Condition, Condition, Observation, Condition, Condition, Condition, Condition, Condition, Condition, Condition, Condition, Condition, Condition, Condition]   \n",
       "\n",
       "                                                                                                                                                                                                                                                                                                                    aux  \n",
       "0  [Clinical Finding, Clinical Finding, Morph Abnormality, Clinical Finding, Clinical Finding, Context-dependent, Clinical Finding, Clinical Finding, Clinical Finding, Clinical Finding, Clinical Finding, Clinical Finding, Clinical Finding, Clinical Finding, Clinical Finding, Clinical Finding, Clinical Finding]  "
      ]
     },
     "metadata": {
      "tags": []
     },
     "output_type": "display_data"
    },
    {
     "name": "stdout",
     "output_type": "stream",
     "text": [
      ">>  secondary malignant neoplasm of bone\n",
      "icd10cm_code\n"
     ]
    },
    {
     "data": {
      "text/html": [
       "<div>\n",
       "<style scoped>\n",
       "    .dataframe tbody tr th:only-of-type {\n",
       "        vertical-align: middle;\n",
       "    }\n",
       "\n",
       "    .dataframe tbody tr th {\n",
       "        vertical-align: top;\n",
       "    }\n",
       "\n",
       "    .dataframe thead th {\n",
       "        text-align: right;\n",
       "    }\n",
       "</style>\n",
       "<table border=\"1\" class=\"dataframe\">\n",
       "  <thead>\n",
       "    <tr style=\"text-align: right;\">\n",
       "      <th></th>\n",
       "      <th>chunks</th>\n",
       "      <th>begin</th>\n",
       "      <th>end</th>\n",
       "      <th>code</th>\n",
       "      <th>all_codes</th>\n",
       "      <th>resolutions</th>\n",
       "      <th>all_distances</th>\n",
       "      <th>billable</th>\n",
       "      <th>hcc_status</th>\n",
       "      <th>hcc_score</th>\n",
       "    </tr>\n",
       "  </thead>\n",
       "  <tbody>\n",
       "    <tr>\n",
       "      <th>0</th>\n",
       "      <td>secondary malignant neoplasm of bone</td>\n",
       "      <td>0</td>\n",
       "      <td>35</td>\n",
       "      <td>C7951</td>\n",
       "      <td>[C7951, C419, C795, D492, D480, Z8583]</td>\n",
       "      <td>[secondary malignant neoplasm of bone, malignant neoplasm of bone, secondary malignant neoplasm of bone of upper limb, neoplasm of bone, neoplasm of bone (disorder), history of malignant neoplasm of bone]</td>\n",
       "      <td>[0.0000, 0.0302, 0.0360, 0.0472, 0.0576, 0.0576]</td>\n",
       "      <td>[1, 1, 0, 1, 1, 0]</td>\n",
       "      <td>[1, 1, 0, 0, 0, 0]</td>\n",
       "      <td>[8, 10, 0, 0, 0, 0]</td>\n",
       "    </tr>\n",
       "  </tbody>\n",
       "</table>\n",
       "</div>"
      ],
      "text/plain": [
       "                                 chunks  begin  end   code  \\\n",
       "0  secondary malignant neoplasm of bone  0      35   C7951   \n",
       "\n",
       "                                all_codes  \\\n",
       "0  [C7951, C419, C795, D492, D480, Z8583]   \n",
       "\n",
       "                                                                                                                                                                                                    resolutions  \\\n",
       "0  [secondary malignant neoplasm of bone, malignant neoplasm of bone, secondary malignant neoplasm of bone of upper limb, neoplasm of bone, neoplasm of bone (disorder), history of malignant neoplasm of bone]   \n",
       "\n",
       "                                      all_distances            billable  \\\n",
       "0  [0.0000, 0.0302, 0.0360, 0.0472, 0.0576, 0.0576]  [1, 1, 0, 1, 1, 0]   \n",
       "\n",
       "           hcc_status            hcc_score  \n",
       "0  [1, 1, 0, 0, 0, 0]  [8, 10, 0, 0, 0, 0]  "
      ]
     },
     "metadata": {
      "tags": []
     },
     "output_type": "display_data"
    },
    {
     "name": "stdout",
     "output_type": "stream",
     "text": [
      "snomed_code\n"
     ]
    },
    {
     "data": {
      "text/html": [
       "<div>\n",
       "<style scoped>\n",
       "    .dataframe tbody tr th:only-of-type {\n",
       "        vertical-align: middle;\n",
       "    }\n",
       "\n",
       "    .dataframe tbody tr th {\n",
       "        vertical-align: top;\n",
       "    }\n",
       "\n",
       "    .dataframe thead th {\n",
       "        text-align: right;\n",
       "    }\n",
       "</style>\n",
       "<table border=\"1\" class=\"dataframe\">\n",
       "  <thead>\n",
       "    <tr style=\"text-align: right;\">\n",
       "      <th></th>\n",
       "      <th>chunks</th>\n",
       "      <th>begin</th>\n",
       "      <th>end</th>\n",
       "      <th>code</th>\n",
       "      <th>all_codes</th>\n",
       "      <th>resolutions</th>\n",
       "      <th>all_distances</th>\n",
       "      <th>gt</th>\n",
       "      <th>concept</th>\n",
       "      <th>aux</th>\n",
       "    </tr>\n",
       "  </thead>\n",
       "  <tbody>\n",
       "    <tr>\n",
       "      <th>0</th>\n",
       "      <td>secondary malignant neoplasm of bone</td>\n",
       "      <td>0</td>\n",
       "      <td>35</td>\n",
       "      <td>94222008</td>\n",
       "      <td>[94222008, 428281000, 94218003, 94221001, 93725000, 126537000, 94478006, 94470004, 94620005, 94322006, 429247002, 94447007, 94220000, 94219006, 315741009, 363371002, 269466003]</td>\n",
       "      <td>[secondary malignant neoplasm of bone, malignant neoplasm of bone, secondary malignant neoplasm of bone of face, secondary malignant neoplasm of bone of upper limb, primary malignant neoplasm of bone, neoplasm of bone, secondary malignant neoplasm of pelvic bone, secondary malignant neoplasm of parietal bone, secondary malignant neoplasm of tarsal bone, secondary malignant neoplasm of hamate bone, history of malignant neoplasm of bone, secondary malignant neoplasm of occipital bone, secondary malignant neoplasm of bone of skull, secondary malignant neoplasm of bone of lower limb, [v]personal history of malignant neoplasm of bone, malignant bone tumour, malignant bone tumour]</td>\n",
       "      <td>[0.0000, 0.0302, 0.0340, 0.0360, 0.0416, 0.0472, 0.0513, 0.0513, 0.0563, 0.0581, 0.0576, 0.0605, 0.0600, 0.0623, 0.0630, 0.0634, 0.0634]</td>\n",
       "      <td>[Secondary malignant neoplasm of bone, Malignant neoplasm of bone, Secondary malignant neoplasm of bone of face, Secondary malignant neoplasm of bone of upper limb, Primary malignant neoplasm of bone, Neoplasm of bone, Secondary malignant neoplasm of pelvic bone, Secondary malignant neoplasm of parietal bone, Secondary malignant neoplasm of tarsal bone, Secondary malignant neoplasm of hamate bone, History of malignant neoplasm of bone, Secondary malignant neoplasm of occipital bone, Secondary malignant neoplasm of bone of skull, Secondary malignant neoplasm of bone of lower limb, [V]Personal history of malignant neoplasm of skin, Malignant bone tumour, CA - Bone cancer]</td>\n",
       "      <td>[Condition, Condition, Condition, Condition, Condition, Condition, Condition, Condition, Condition, Condition, Observation, Condition, Condition, Condition, Observation, Condition, Condition]</td>\n",
       "      <td>[Clinical Finding, Clinical Finding, Clinical Finding, Clinical Finding, Clinical Finding, Clinical Finding, Clinical Finding, Clinical Finding, Clinical Finding, Clinical Finding, Context-dependent, Clinical Finding, Clinical Finding, Clinical Finding, Context-dependent, Clinical Finding, Clinical Finding]</td>\n",
       "    </tr>\n",
       "  </tbody>\n",
       "</table>\n",
       "</div>"
      ],
      "text/plain": [
       "                                 chunks  begin  end      code  \\\n",
       "0  secondary malignant neoplasm of bone  0      35   94222008   \n",
       "\n",
       "                                                                                                                                                                          all_codes  \\\n",
       "0  [94222008, 428281000, 94218003, 94221001, 93725000, 126537000, 94478006, 94470004, 94620005, 94322006, 429247002, 94447007, 94220000, 94219006, 315741009, 363371002, 269466003]   \n",
       "\n",
       "                                                                                                                                                                                                                                                                                                                                                                                                                                                                                                                                                                                                                                                                                                   resolutions  \\\n",
       "0  [secondary malignant neoplasm of bone, malignant neoplasm of bone, secondary malignant neoplasm of bone of face, secondary malignant neoplasm of bone of upper limb, primary malignant neoplasm of bone, neoplasm of bone, secondary malignant neoplasm of pelvic bone, secondary malignant neoplasm of parietal bone, secondary malignant neoplasm of tarsal bone, secondary malignant neoplasm of hamate bone, history of malignant neoplasm of bone, secondary malignant neoplasm of occipital bone, secondary malignant neoplasm of bone of skull, secondary malignant neoplasm of bone of lower limb, [v]personal history of malignant neoplasm of bone, malignant bone tumour, malignant bone tumour]   \n",
       "\n",
       "                                                                                                                              all_distances  \\\n",
       "0  [0.0000, 0.0302, 0.0340, 0.0360, 0.0416, 0.0472, 0.0513, 0.0513, 0.0563, 0.0581, 0.0576, 0.0605, 0.0600, 0.0623, 0.0630, 0.0634, 0.0634]   \n",
       "\n",
       "                                                                                                                                                                                                                                                                                                                                                                                                                                                                                                                                                                                                                                                                                                       gt  \\\n",
       "0  [Secondary malignant neoplasm of bone, Malignant neoplasm of bone, Secondary malignant neoplasm of bone of face, Secondary malignant neoplasm of bone of upper limb, Primary malignant neoplasm of bone, Neoplasm of bone, Secondary malignant neoplasm of pelvic bone, Secondary malignant neoplasm of parietal bone, Secondary malignant neoplasm of tarsal bone, Secondary malignant neoplasm of hamate bone, History of malignant neoplasm of bone, Secondary malignant neoplasm of occipital bone, Secondary malignant neoplasm of bone of skull, Secondary malignant neoplasm of bone of lower limb, [V]Personal history of malignant neoplasm of skin, Malignant bone tumour, CA - Bone cancer]   \n",
       "\n",
       "                                                                                                                                                                                           concept  \\\n",
       "0  [Condition, Condition, Condition, Condition, Condition, Condition, Condition, Condition, Condition, Condition, Observation, Condition, Condition, Condition, Observation, Condition, Condition]   \n",
       "\n",
       "                                                                                                                                                                                                                                                                                                                    aux  \n",
       "0  [Clinical Finding, Clinical Finding, Clinical Finding, Clinical Finding, Clinical Finding, Clinical Finding, Clinical Finding, Clinical Finding, Clinical Finding, Clinical Finding, Context-dependent, Clinical Finding, Clinical Finding, Clinical Finding, Context-dependent, Clinical Finding, Clinical Finding]  "
      ]
     },
     "metadata": {
      "tags": []
     },
     "output_type": "display_data"
    },
    {
     "name": "stdout",
     "output_type": "stream",
     "text": [
      ">>  type 2 diabetes mellitus\n",
      "icd10cm_code\n"
     ]
    },
    {
     "data": {
      "text/html": [
       "<div>\n",
       "<style scoped>\n",
       "    .dataframe tbody tr th:only-of-type {\n",
       "        vertical-align: middle;\n",
       "    }\n",
       "\n",
       "    .dataframe tbody tr th {\n",
       "        vertical-align: top;\n",
       "    }\n",
       "\n",
       "    .dataframe thead th {\n",
       "        text-align: right;\n",
       "    }\n",
       "</style>\n",
       "<table border=\"1\" class=\"dataframe\">\n",
       "  <thead>\n",
       "    <tr style=\"text-align: right;\">\n",
       "      <th></th>\n",
       "      <th>chunks</th>\n",
       "      <th>begin</th>\n",
       "      <th>end</th>\n",
       "      <th>code</th>\n",
       "      <th>all_codes</th>\n",
       "      <th>resolutions</th>\n",
       "      <th>all_distances</th>\n",
       "      <th>billable</th>\n",
       "      <th>hcc_status</th>\n",
       "      <th>hcc_score</th>\n",
       "    </tr>\n",
       "  </thead>\n",
       "  <tbody>\n",
       "    <tr>\n",
       "      <th>0</th>\n",
       "      <td>type 2 diabetes mellitus</td>\n",
       "      <td>0</td>\n",
       "      <td>23</td>\n",
       "      <td>E11</td>\n",
       "      <td>[E11, E119, E118, E113, O2411, E139, E117, E1143, E109, E1169, E114, E112, E1151]</td>\n",
       "      <td>[type 2 diabetes mellitus, type 2 diabetes mellitus, disorder associated with type 2 diabetes mellitus, disorder of eye with type 2 diabetes mellitus, pre-existing type 2 diabetes mellitus, secondary diabetes mellitus, multiple complications of type 2 diabetes mellitus, neurological disorder with type 2 diabetes mellitus, diabetes mellitus, diabetic dyslipidemia associated with type 2 diabetes mellitus, neurological disorder with diabetes type 2, kidney disorder associated with type 2 diabetes mellitus, peripheral circulatory disorder associated with type 2 diabetes mellitus]</td>\n",
       "      <td>[0.0000, 0.0000, 0.0212, 0.0357, 0.0360, 0.0397, 0.0410, 0.0455, 0.0462, 0.0499, 0.0523, 0.0537, 0.0548]</td>\n",
       "      <td>[0, 1, 1, 0, 0, 1, 1, 1, 1, 1, 0, 0, 1]</td>\n",
       "      <td>[0, 1, 1, 0, 0, 1, 0, 1, 1, 1, 0, 0, 1]</td>\n",
       "      <td>[0, 19, 18, 0, 0, 19, 0, 75/18, 19, 18, 0, 0, 108/18]</td>\n",
       "    </tr>\n",
       "  </tbody>\n",
       "</table>\n",
       "</div>"
      ],
      "text/plain": [
       "                     chunks  begin  end code  \\\n",
       "0  type 2 diabetes mellitus  0      23   E11   \n",
       "\n",
       "                                                                           all_codes  \\\n",
       "0  [E11, E119, E118, E113, O2411, E139, E117, E1143, E109, E1169, E114, E112, E1151]   \n",
       "\n",
       "                                                                                                                                                                                                                                                                                                                                                                                                                                                                                                                                                                                              resolutions  \\\n",
       "0  [type 2 diabetes mellitus, type 2 diabetes mellitus, disorder associated with type 2 diabetes mellitus, disorder of eye with type 2 diabetes mellitus, pre-existing type 2 diabetes mellitus, secondary diabetes mellitus, multiple complications of type 2 diabetes mellitus, neurological disorder with type 2 diabetes mellitus, diabetes mellitus, diabetic dyslipidemia associated with type 2 diabetes mellitus, neurological disorder with diabetes type 2, kidney disorder associated with type 2 diabetes mellitus, peripheral circulatory disorder associated with type 2 diabetes mellitus]   \n",
       "\n",
       "                                                                                              all_distances  \\\n",
       "0  [0.0000, 0.0000, 0.0212, 0.0357, 0.0360, 0.0397, 0.0410, 0.0455, 0.0462, 0.0499, 0.0523, 0.0537, 0.0548]   \n",
       "\n",
       "                                  billable  \\\n",
       "0  [0, 1, 1, 0, 0, 1, 1, 1, 1, 1, 0, 0, 1]   \n",
       "\n",
       "                                hcc_status  \\\n",
       "0  [0, 1, 1, 0, 0, 1, 0, 1, 1, 1, 0, 0, 1]   \n",
       "\n",
       "                                               hcc_score  \n",
       "0  [0, 19, 18, 0, 0, 19, 0, 75/18, 19, 18, 0, 0, 108/18]  "
      ]
     },
     "metadata": {
      "tags": []
     },
     "output_type": "display_data"
    },
    {
     "name": "stdout",
     "output_type": "stream",
     "text": [
      "snomed_code\n"
     ]
    },
    {
     "data": {
      "text/html": [
       "<div>\n",
       "<style scoped>\n",
       "    .dataframe tbody tr th:only-of-type {\n",
       "        vertical-align: middle;\n",
       "    }\n",
       "\n",
       "    .dataframe tbody tr th {\n",
       "        vertical-align: top;\n",
       "    }\n",
       "\n",
       "    .dataframe thead th {\n",
       "        text-align: right;\n",
       "    }\n",
       "</style>\n",
       "<table border=\"1\" class=\"dataframe\">\n",
       "  <thead>\n",
       "    <tr style=\"text-align: right;\">\n",
       "      <th></th>\n",
       "      <th>chunks</th>\n",
       "      <th>begin</th>\n",
       "      <th>end</th>\n",
       "      <th>code</th>\n",
       "      <th>all_codes</th>\n",
       "      <th>resolutions</th>\n",
       "      <th>all_distances</th>\n",
       "      <th>gt</th>\n",
       "      <th>concept</th>\n",
       "      <th>aux</th>\n",
       "    </tr>\n",
       "  </thead>\n",
       "  <tbody>\n",
       "    <tr>\n",
       "      <th>0</th>\n",
       "      <td>type 2 diabetes mellitus</td>\n",
       "      <td>0</td>\n",
       "      <td>23</td>\n",
       "      <td>44054006</td>\n",
       "      <td>[44054006, 422014003, 422099009, 199230006, 190384004, 8801005, 420414003, 421326000, 73211009, 191044006, 154671004, 267467004, 761000119102, 190388001]</td>\n",
       "      <td>[type 2 diabetes mellitus, disorder associated with type 2 diabetes mellitus, disorder of eye with type 2 diabetes mellitus, pre-existing type 2 diabetes mellitus, type ii diabetes mellitus, secondary diabetes mellitus, multiple complications of type 2 diabetes mellitus, neurological disorder with type 2 diabetes mellitus, diabetes mellitus, diabetes mellitus, diabetes mellitus, diabetes mellitus, diabetic dyslipidemia associated with type 2 diabetes mellitus, type 2 diabetes mellitus with multiple complications]</td>\n",
       "      <td>[0.0000, 0.0212, 0.0357, 0.0360, 0.0375, 0.0397, 0.0410, 0.0455, 0.0462, 0.0462, 0.0462, 0.0462, 0.0499, 0.0515]</td>\n",
       "      <td>[Type 2 diabetes mellitus, Disorder due to type 2 diabetes mellitus, Disorder of eye due to type 2 diabetes mellitus, Pre-existing type 2 diabetes mellitus, Type II diabetes mellitus, Secondary diabetes mellitus, Multiple complications of type II diabetes mellitus, Disorder of nervous system due to type 2 diabetes mellitus, Diabetes mellitus, Diabetes mellitus, Diabetic ketoacidosis, Ketoacidosis - diabetic, Dyslipidemia due to type 2 diabetes mellitus, Multiple complications due to type 2 diabetes mellitus]</td>\n",
       "      <td>[Condition, Condition, Condition, Condition, Condition, Condition, Condition, Condition, Condition, Condition, Condition, Condition, Condition, Condition]</td>\n",
       "      <td>[Clinical Finding, Clinical Finding, Clinical Finding, Clinical Finding, Clinical Finding, Clinical Finding, Clinical Finding, Clinical Finding, Clinical Finding, Clinical Finding, Clinical Finding, Clinical Finding, Clinical Finding, Clinical Finding]</td>\n",
       "    </tr>\n",
       "  </tbody>\n",
       "</table>\n",
       "</div>"
      ],
      "text/plain": [
       "                     chunks  begin  end      code  \\\n",
       "0  type 2 diabetes mellitus  0      23   44054006   \n",
       "\n",
       "                                                                                                                                                   all_codes  \\\n",
       "0  [44054006, 422014003, 422099009, 199230006, 190384004, 8801005, 420414003, 421326000, 73211009, 191044006, 154671004, 267467004, 761000119102, 190388001]   \n",
       "\n",
       "                                                                                                                                                                                                                                                                                                                                                                                                                                                                                                                              resolutions  \\\n",
       "0  [type 2 diabetes mellitus, disorder associated with type 2 diabetes mellitus, disorder of eye with type 2 diabetes mellitus, pre-existing type 2 diabetes mellitus, type ii diabetes mellitus, secondary diabetes mellitus, multiple complications of type 2 diabetes mellitus, neurological disorder with type 2 diabetes mellitus, diabetes mellitus, diabetes mellitus, diabetes mellitus, diabetes mellitus, diabetic dyslipidemia associated with type 2 diabetes mellitus, type 2 diabetes mellitus with multiple complications]   \n",
       "\n",
       "                                                                                                      all_distances  \\\n",
       "0  [0.0000, 0.0212, 0.0357, 0.0360, 0.0375, 0.0397, 0.0410, 0.0455, 0.0462, 0.0462, 0.0462, 0.0462, 0.0499, 0.0515]   \n",
       "\n",
       "                                                                                                                                                                                                                                                                                                                                                                                                                                                                                                                                  gt  \\\n",
       "0  [Type 2 diabetes mellitus, Disorder due to type 2 diabetes mellitus, Disorder of eye due to type 2 diabetes mellitus, Pre-existing type 2 diabetes mellitus, Type II diabetes mellitus, Secondary diabetes mellitus, Multiple complications of type II diabetes mellitus, Disorder of nervous system due to type 2 diabetes mellitus, Diabetes mellitus, Diabetes mellitus, Diabetic ketoacidosis, Ketoacidosis - diabetic, Dyslipidemia due to type 2 diabetes mellitus, Multiple complications due to type 2 diabetes mellitus]   \n",
       "\n",
       "                                                                                                                                                      concept  \\\n",
       "0  [Condition, Condition, Condition, Condition, Condition, Condition, Condition, Condition, Condition, Condition, Condition, Condition, Condition, Condition]   \n",
       "\n",
       "                                                                                                                                                                                                                                                            aux  \n",
       "0  [Clinical Finding, Clinical Finding, Clinical Finding, Clinical Finding, Clinical Finding, Clinical Finding, Clinical Finding, Clinical Finding, Clinical Finding, Clinical Finding, Clinical Finding, Clinical Finding, Clinical Finding, Clinical Finding]  "
      ]
     },
     "metadata": {
      "tags": []
     },
     "output_type": "display_data"
    },
    {
     "name": "stdout",
     "output_type": "stream",
     "text": [
      ">>  type 2 diabetes mellitus/insulin\n",
      "icd10cm_code\n"
     ]
    },
    {
     "data": {
      "text/html": [
       "<div>\n",
       "<style scoped>\n",
       "    .dataframe tbody tr th:only-of-type {\n",
       "        vertical-align: middle;\n",
       "    }\n",
       "\n",
       "    .dataframe tbody tr th {\n",
       "        vertical-align: top;\n",
       "    }\n",
       "\n",
       "    .dataframe thead th {\n",
       "        text-align: right;\n",
       "    }\n",
       "</style>\n",
       "<table border=\"1\" class=\"dataframe\">\n",
       "  <thead>\n",
       "    <tr style=\"text-align: right;\">\n",
       "      <th></th>\n",
       "      <th>chunks</th>\n",
       "      <th>begin</th>\n",
       "      <th>end</th>\n",
       "      <th>code</th>\n",
       "      <th>all_codes</th>\n",
       "      <th>resolutions</th>\n",
       "      <th>all_distances</th>\n",
       "      <th>billable</th>\n",
       "      <th>hcc_status</th>\n",
       "      <th>hcc_score</th>\n",
       "    </tr>\n",
       "  </thead>\n",
       "  <tbody>\n",
       "    <tr>\n",
       "      <th>0</th>\n",
       "      <td>type 2 diabetes mellitus/insulin</td>\n",
       "      <td>0</td>\n",
       "      <td>31</td>\n",
       "      <td>Z794</td>\n",
       "      <td>[Z794, E11, E119, E1169, E118, E1165, E113, E116, O2411, E1144, E139]</td>\n",
       "      <td>[insulin treated type 2 diabetes mellitus, type 2 diabetes mellitus, type 2 diabetes mellitus, hyperglycemia due to type 2 diabetes mellitus (disorder), disorder associated with type 2 diabetes mellitus, hyperglycemia due to type 2 diabetes mellitus, disorder of eye with type 2 diabetes mellitus, hyperglycaemia due to type 2 diabetes mellitus, pre-existing type 2 diabetes mellitus (disorder), disorder of nervous system due to type 2 diabetes mellitus, secondary endocrine diabetes mellitus (disorder)]</td>\n",
       "      <td>[0.0513, 0.0554, 0.0554, 0.0593, 0.0606, 0.0642, 0.0658, 0.0662, 0.0686, 0.0718, 0.0726]</td>\n",
       "      <td>[1, 0, 1, 1, 1, 1, 0, 0, 0, 1, 1]</td>\n",
       "      <td>[1, 0, 1, 1, 1, 1, 0, 0, 0, 1, 1]</td>\n",
       "      <td>[19, 0, 19, 18, 18, 18, 0, 0, 0, 75/18, 19]</td>\n",
       "    </tr>\n",
       "  </tbody>\n",
       "</table>\n",
       "</div>"
      ],
      "text/plain": [
       "                             chunks  begin  end  code  \\\n",
       "0  type 2 diabetes mellitus/insulin  0      31   Z794   \n",
       "\n",
       "                                                               all_codes  \\\n",
       "0  [Z794, E11, E119, E1169, E118, E1165, E113, E116, O2411, E1144, E139]   \n",
       "\n",
       "                                                                                                                                                                                                                                                                                                                                                                                                                                                                                                                 resolutions  \\\n",
       "0  [insulin treated type 2 diabetes mellitus, type 2 diabetes mellitus, type 2 diabetes mellitus, hyperglycemia due to type 2 diabetes mellitus (disorder), disorder associated with type 2 diabetes mellitus, hyperglycemia due to type 2 diabetes mellitus, disorder of eye with type 2 diabetes mellitus, hyperglycaemia due to type 2 diabetes mellitus, pre-existing type 2 diabetes mellitus (disorder), disorder of nervous system due to type 2 diabetes mellitus, secondary endocrine diabetes mellitus (disorder)]   \n",
       "\n",
       "                                                                              all_distances  \\\n",
       "0  [0.0513, 0.0554, 0.0554, 0.0593, 0.0606, 0.0642, 0.0658, 0.0662, 0.0686, 0.0718, 0.0726]   \n",
       "\n",
       "                            billable                         hcc_status  \\\n",
       "0  [1, 0, 1, 1, 1, 1, 0, 0, 0, 1, 1]  [1, 0, 1, 1, 1, 1, 0, 0, 0, 1, 1]   \n",
       "\n",
       "                                     hcc_score  \n",
       "0  [19, 0, 19, 18, 18, 18, 0, 0, 0, 75/18, 19]  "
      ]
     },
     "metadata": {
      "tags": []
     },
     "output_type": "display_data"
    },
    {
     "name": "stdout",
     "output_type": "stream",
     "text": [
      "snomed_code\n"
     ]
    },
    {
     "data": {
      "text/html": [
       "<div>\n",
       "<style scoped>\n",
       "    .dataframe tbody tr th:only-of-type {\n",
       "        vertical-align: middle;\n",
       "    }\n",
       "\n",
       "    .dataframe tbody tr th {\n",
       "        vertical-align: top;\n",
       "    }\n",
       "\n",
       "    .dataframe thead th {\n",
       "        text-align: right;\n",
       "    }\n",
       "</style>\n",
       "<table border=\"1\" class=\"dataframe\">\n",
       "  <thead>\n",
       "    <tr style=\"text-align: right;\">\n",
       "      <th></th>\n",
       "      <th>chunks</th>\n",
       "      <th>begin</th>\n",
       "      <th>end</th>\n",
       "      <th>code</th>\n",
       "      <th>all_codes</th>\n",
       "      <th>resolutions</th>\n",
       "      <th>all_distances</th>\n",
       "      <th>gt</th>\n",
       "      <th>concept</th>\n",
       "      <th>aux</th>\n",
       "    </tr>\n",
       "  </thead>\n",
       "  <tbody>\n",
       "    <tr>\n",
       "      <th>0</th>\n",
       "      <td>type 2 diabetes mellitus/insulin</td>\n",
       "      <td>0</td>\n",
       "      <td>31</td>\n",
       "      <td>237599002</td>\n",
       "      <td>[237599002, 366909003, 44054006, 368051000119109, 422014003, 422099009, 199230006, 137931000119102, 190384004, 421326000]</td>\n",
       "      <td>[insulin treated type 2 diabetes mellitus, insulin treated type 2 diabetes mellitus, type 2 diabetes mellitus, hyperglycemia due to type 2 diabetes mellitus (disorder), disorder associated with type 2 diabetes mellitus, disorder of eye with type 2 diabetes mellitus, pre-existing type 2 diabetes mellitus (disorder), hyperlipidaemia due to type 2 diabetes mellitus, type ii diabetes mellitus, disorder of nervous system due to type 2 diabetes mellitus]</td>\n",
       "      <td>[0.0513, 0.0513, 0.0554, 0.0593, 0.0606, 0.0658, 0.0686, 0.0690, 0.0708, 0.0718]</td>\n",
       "      <td>[Insulin treated type 2 diabetes mellitus, Insulin treated Type 2 diabetes mellitus, Type 2 diabetes mellitus, Hyperglycemia due to type 2 diabetes mellitus, Disorder due to type 2 diabetes mellitus, Disorder of eye due to type 2 diabetes mellitus, Pre-existing type 2 diabetes mellitus, Hyperlipidemia due to type 2 diabetes mellitus, Type II diabetes mellitus, Disorder of nervous system due to type 2 diabetes mellitus]</td>\n",
       "      <td>[Condition, Condition, Condition, Condition, Condition, Condition, Condition, Condition, Condition, Condition]</td>\n",
       "      <td>[Clinical Finding, Clinical Finding, Clinical Finding, Clinical Finding, Clinical Finding, Clinical Finding, Clinical Finding, Clinical Finding, Clinical Finding, Clinical Finding]</td>\n",
       "    </tr>\n",
       "  </tbody>\n",
       "</table>\n",
       "</div>"
      ],
      "text/plain": [
       "                             chunks  begin  end       code  \\\n",
       "0  type 2 diabetes mellitus/insulin  0      31   237599002   \n",
       "\n",
       "                                                                                                                   all_codes  \\\n",
       "0  [237599002, 366909003, 44054006, 368051000119109, 422014003, 422099009, 199230006, 137931000119102, 190384004, 421326000]   \n",
       "\n",
       "                                                                                                                                                                                                                                                                                                                                                                                                                                                            resolutions  \\\n",
       "0  [insulin treated type 2 diabetes mellitus, insulin treated type 2 diabetes mellitus, type 2 diabetes mellitus, hyperglycemia due to type 2 diabetes mellitus (disorder), disorder associated with type 2 diabetes mellitus, disorder of eye with type 2 diabetes mellitus, pre-existing type 2 diabetes mellitus (disorder), hyperlipidaemia due to type 2 diabetes mellitus, type ii diabetes mellitus, disorder of nervous system due to type 2 diabetes mellitus]   \n",
       "\n",
       "                                                                      all_distances  \\\n",
       "0  [0.0513, 0.0513, 0.0554, 0.0593, 0.0606, 0.0658, 0.0686, 0.0690, 0.0708, 0.0718]   \n",
       "\n",
       "                                                                                                                                                                                                                                                                                                                                                                                                                                       gt  \\\n",
       "0  [Insulin treated type 2 diabetes mellitus, Insulin treated Type 2 diabetes mellitus, Type 2 diabetes mellitus, Hyperglycemia due to type 2 diabetes mellitus, Disorder due to type 2 diabetes mellitus, Disorder of eye due to type 2 diabetes mellitus, Pre-existing type 2 diabetes mellitus, Hyperlipidemia due to type 2 diabetes mellitus, Type II diabetes mellitus, Disorder of nervous system due to type 2 diabetes mellitus]   \n",
       "\n",
       "                                                                                                          concept  \\\n",
       "0  [Condition, Condition, Condition, Condition, Condition, Condition, Condition, Condition, Condition, Condition]   \n",
       "\n",
       "                                                                                                                                                                                    aux  \n",
       "0  [Clinical Finding, Clinical Finding, Clinical Finding, Clinical Finding, Clinical Finding, Clinical Finding, Clinical Finding, Clinical Finding, Clinical Finding, Clinical Finding]  "
      ]
     },
     "metadata": {
      "tags": []
     },
     "output_type": "display_data"
    },
    {
     "name": "stdout",
     "output_type": "stream",
     "text": [
      ">>  unsp malignant neoplasm of lymph node\n",
      "icd10cm_code\n"
     ]
    },
    {
     "data": {
      "text/html": [
       "<div>\n",
       "<style scoped>\n",
       "    .dataframe tbody tr th:only-of-type {\n",
       "        vertical-align: middle;\n",
       "    }\n",
       "\n",
       "    .dataframe tbody tr th {\n",
       "        vertical-align: top;\n",
       "    }\n",
       "\n",
       "    .dataframe thead th {\n",
       "        text-align: right;\n",
       "    }\n",
       "</style>\n",
       "<table border=\"1\" class=\"dataframe\">\n",
       "  <thead>\n",
       "    <tr style=\"text-align: right;\">\n",
       "      <th></th>\n",
       "      <th>chunks</th>\n",
       "      <th>begin</th>\n",
       "      <th>end</th>\n",
       "      <th>code</th>\n",
       "      <th>all_codes</th>\n",
       "      <th>resolutions</th>\n",
       "      <th>all_distances</th>\n",
       "      <th>billable</th>\n",
       "      <th>hcc_status</th>\n",
       "      <th>hcc_score</th>\n",
       "    </tr>\n",
       "  </thead>\n",
       "  <tbody>\n",
       "    <tr>\n",
       "      <th>0</th>\n",
       "      <td>unsp malignant neoplasm of lymph node</td>\n",
       "      <td>0</td>\n",
       "      <td>36</td>\n",
       "      <td>C779</td>\n",
       "      <td>[C779, C77, D360, C772, C775, D492, D219]</td>\n",
       "      <td>[secondary and unsp malignant neoplasm of lymph node, unsp, secondary and unspecified malignant neoplasm of lymph nodes, benign neoplasm of lymph node, secondary and unsp malignant neoplasm of intra-abd nodes, secondary and unsp malignant neoplasm of intrapelv nodes, neoplasm of lymph node, benign neoplasm of lymph vessels]</td>\n",
       "      <td>[0.0606, 0.0681, 0.0754, 0.0920, 0.1034, 0.0968, 0.1049]</td>\n",
       "      <td>[1, 0, 1, 1, 1, 1, 1]</td>\n",
       "      <td>[1, 0, 0, 1, 1, 0, 0]</td>\n",
       "      <td>[10, 0, 0, 8, 8, 0, 0]</td>\n",
       "    </tr>\n",
       "  </tbody>\n",
       "</table>\n",
       "</div>"
      ],
      "text/plain": [
       "                                  chunks  begin  end  code  \\\n",
       "0  unsp malignant neoplasm of lymph node  0      36   C779   \n",
       "\n",
       "                                   all_codes  \\\n",
       "0  [C779, C77, D360, C772, C775, D492, D219]   \n",
       "\n",
       "                                                                                                                                                                                                                                                                                                                             resolutions  \\\n",
       "0  [secondary and unsp malignant neoplasm of lymph node, unsp, secondary and unspecified malignant neoplasm of lymph nodes, benign neoplasm of lymph node, secondary and unsp malignant neoplasm of intra-abd nodes, secondary and unsp malignant neoplasm of intrapelv nodes, neoplasm of lymph node, benign neoplasm of lymph vessels]   \n",
       "\n",
       "                                              all_distances  \\\n",
       "0  [0.0606, 0.0681, 0.0754, 0.0920, 0.1034, 0.0968, 0.1049]   \n",
       "\n",
       "                billable             hcc_status               hcc_score  \n",
       "0  [1, 0, 1, 1, 1, 1, 1]  [1, 0, 0, 1, 1, 0, 0]  [10, 0, 0, 8, 8, 0, 0]  "
      ]
     },
     "metadata": {
      "tags": []
     },
     "output_type": "display_data"
    },
    {
     "name": "stdout",
     "output_type": "stream",
     "text": [
      "snomed_code\n"
     ]
    },
    {
     "data": {
      "text/html": [
       "<div>\n",
       "<style scoped>\n",
       "    .dataframe tbody tr th:only-of-type {\n",
       "        vertical-align: middle;\n",
       "    }\n",
       "\n",
       "    .dataframe tbody tr th {\n",
       "        vertical-align: top;\n",
       "    }\n",
       "\n",
       "    .dataframe thead th {\n",
       "        text-align: right;\n",
       "    }\n",
       "</style>\n",
       "<table border=\"1\" class=\"dataframe\">\n",
       "  <thead>\n",
       "    <tr style=\"text-align: right;\">\n",
       "      <th></th>\n",
       "      <th>chunks</th>\n",
       "      <th>begin</th>\n",
       "      <th>end</th>\n",
       "      <th>code</th>\n",
       "      <th>all_codes</th>\n",
       "      <th>resolutions</th>\n",
       "      <th>all_distances</th>\n",
       "      <th>gt</th>\n",
       "      <th>concept</th>\n",
       "      <th>aux</th>\n",
       "    </tr>\n",
       "  </thead>\n",
       "  <tbody>\n",
       "    <tr>\n",
       "      <th>0</th>\n",
       "      <td>unsp malignant neoplasm of lymph node</td>\n",
       "      <td>0</td>\n",
       "      <td>36</td>\n",
       "      <td>188379006</td>\n",
       "      <td>[188379006, 271526003, 188432007, 92197001, 189203003, 188706002, 92202008, 92156008, 188707006, 188713002, 92090002, 92203003, 188392009, 188393004, 178838007, 188709009, 188389005, 188715009, 173840000, 92199003, 92213006, 127232002]</td>\n",
       "      <td>[secondary and unspecified malignant neoplasm of lymph nodes, secondary and unspecified malignant neoplasm of lymph nodes, secondary and unspecified malignant neoplasm of lymph nodes nos, benign neoplasm of lymph node, benign neoplasm of lymph nodes, unspecified malignant neoplasm of lymphoid and histiocytic tissue of unspecified site, benign neoplasm of lymph nodes of neck, benign neoplasm of intrathoracic lymph nodes, unspecified malignant neoplasm of lymphoid and histiocytic tissue of lymph nodes of head, face and neck, unspecified malignant neoplasm of lymphoid and histiocytic tissue of intrapelvic lymph nodes, benign neoplasm of epitrochlear lymph nodes, benign neoplasm of lymph nodes of upper limb, secondary and unspecified malignant neoplasm of lymph nodes of head, face and neck nos, secondary and unspecified malignant neoplasm of intrathoracic lymph nodes, other specified operations on skull and/or spine and/or bone and/or joint, unspecified malignant neoplasm of lymphoid and histiocytic tissue of intrathoracic lymph nodes, secondary and unspecified malignant neoplasm of submental lymph nodes, unspecified malignant neoplasm of lymphoid and histiocytic tissue of lymph nodes of multiple sites, other operation on stomach nos, benign neoplasm of lymph nodes of head (disorder), benign neoplasm of mediastinal lymph nodes, neoplasm of lymph node]</td>\n",
       "      <td>[0.0681, 0.0681, 0.0739, 0.0754, 0.0758, 0.0841, 0.0860, 0.0896, 0.0948, 0.0963, 0.0954, 0.0938, 0.0969, 0.0980, 0.0995, 0.0995, 0.0994, 0.1006, 0.1006, 0.0971, 0.0985, 0.0968]</td>\n",
       "      <td>[Secondary and unspecified malignant neoplasm of lymph nodes, Secondary and unspecified malignant neoplasm of lymph nodes, Secondary and unspecified malignant neoplasm of lymph nodes NOS, Benign neoplasm of lymph node, Benign neoplasm of lymph nodes, Unspecified malignant neoplasm of lymphoid and histiocytic tissue of unspecified site, Benign neoplasm of lymph nodes of neck, Benign neoplasm of intrathoracic lymph nodes, Unspecified malignant neoplasm of lymphoid and histiocytic tissue of lymph nodes of head, face and neck, Unspecified malignant neoplasm of lymphoid and histiocytic tissue of intrapelvic lymph nodes, Benign neoplasm of epitrochlear lymph nodes, Benign neoplasm of lymph nodes of upper limb, Secondary and unspecified malignant neoplasm of lymph nodes of head, face and neck NOS, Secondary and unspecified malignant neoplasm of intrathoracic lymph nodes, Other specified operations on skull and/or spine and/or bone and/or joint, Unspecified malignant neoplasm of lymphoid and histiocytic tissue of intrathoracic lymph nodes, Secondary and unspecified malignant neoplasm of submental lymph nodes, Unspecified malignant neoplasm of lymphoid and histiocytic tissue of lymph nodes of multiple sites, Other operation on stomach NOS, Benign neoplasm of lymph nodes of head, Benign neoplasm of mediastinal lymph nodes, Neoplasm of lymph node]</td>\n",
       "      <td>[Condition, Condition, Condition, Condition, Condition, Condition, Condition, Condition, Condition, Condition, Condition, Condition, Condition, Condition, Procedure, Condition, Condition, Condition, Procedure, Condition, Condition, Condition]</td>\n",
       "      <td>[Clinical Finding, Clinical Finding, Clinical Finding, Clinical Finding, Clinical Finding, Clinical Finding, Clinical Finding, Clinical Finding, Clinical Finding, Clinical Finding, Clinical Finding, Clinical Finding, Clinical Finding, Clinical Finding, Procedure, Clinical Finding, Clinical Finding, Clinical Finding, Procedure, Clinical Finding, Clinical Finding, Clinical Finding]</td>\n",
       "    </tr>\n",
       "  </tbody>\n",
       "</table>\n",
       "</div>"
      ],
      "text/plain": [
       "                                  chunks  begin  end       code  \\\n",
       "0  unsp malignant neoplasm of lymph node  0      36   188379006   \n",
       "\n",
       "                                                                                                                                                                                                                                     all_codes  \\\n",
       "0  [188379006, 271526003, 188432007, 92197001, 189203003, 188706002, 92202008, 92156008, 188707006, 188713002, 92090002, 92203003, 188392009, 188393004, 178838007, 188709009, 188389005, 188715009, 173840000, 92199003, 92213006, 127232002]   \n",
       "\n",
       "                                                                                                                                                                                                                                                                                                                                                                                                                                                                                                                                                                                                                                                                                                                                                                                                                                                                                                                                                                                                                                                                                                                                                                                                                                                                                                                                                                                                                 resolutions  \\\n",
       "0  [secondary and unspecified malignant neoplasm of lymph nodes, secondary and unspecified malignant neoplasm of lymph nodes, secondary and unspecified malignant neoplasm of lymph nodes nos, benign neoplasm of lymph node, benign neoplasm of lymph nodes, unspecified malignant neoplasm of lymphoid and histiocytic tissue of unspecified site, benign neoplasm of lymph nodes of neck, benign neoplasm of intrathoracic lymph nodes, unspecified malignant neoplasm of lymphoid and histiocytic tissue of lymph nodes of head, face and neck, unspecified malignant neoplasm of lymphoid and histiocytic tissue of intrapelvic lymph nodes, benign neoplasm of epitrochlear lymph nodes, benign neoplasm of lymph nodes of upper limb, secondary and unspecified malignant neoplasm of lymph nodes of head, face and neck nos, secondary and unspecified malignant neoplasm of intrathoracic lymph nodes, other specified operations on skull and/or spine and/or bone and/or joint, unspecified malignant neoplasm of lymphoid and histiocytic tissue of intrathoracic lymph nodes, secondary and unspecified malignant neoplasm of submental lymph nodes, unspecified malignant neoplasm of lymphoid and histiocytic tissue of lymph nodes of multiple sites, other operation on stomach nos, benign neoplasm of lymph nodes of head (disorder), benign neoplasm of mediastinal lymph nodes, neoplasm of lymph node]   \n",
       "\n",
       "                                                                                                                                                                      all_distances  \\\n",
       "0  [0.0681, 0.0681, 0.0739, 0.0754, 0.0758, 0.0841, 0.0860, 0.0896, 0.0948, 0.0963, 0.0954, 0.0938, 0.0969, 0.0980, 0.0995, 0.0995, 0.0994, 0.1006, 0.1006, 0.0971, 0.0985, 0.0968]   \n",
       "\n",
       "                                                                                                                                                                                                                                                                                                                                                                                                                                                                                                                                                                                                                                                                                                                                                                                                                                                                                                                                                                                                                                                                                                                                                                                                                                                                                                                                                                                                               gt  \\\n",
       "0  [Secondary and unspecified malignant neoplasm of lymph nodes, Secondary and unspecified malignant neoplasm of lymph nodes, Secondary and unspecified malignant neoplasm of lymph nodes NOS, Benign neoplasm of lymph node, Benign neoplasm of lymph nodes, Unspecified malignant neoplasm of lymphoid and histiocytic tissue of unspecified site, Benign neoplasm of lymph nodes of neck, Benign neoplasm of intrathoracic lymph nodes, Unspecified malignant neoplasm of lymphoid and histiocytic tissue of lymph nodes of head, face and neck, Unspecified malignant neoplasm of lymphoid and histiocytic tissue of intrapelvic lymph nodes, Benign neoplasm of epitrochlear lymph nodes, Benign neoplasm of lymph nodes of upper limb, Secondary and unspecified malignant neoplasm of lymph nodes of head, face and neck NOS, Secondary and unspecified malignant neoplasm of intrathoracic lymph nodes, Other specified operations on skull and/or spine and/or bone and/or joint, Unspecified malignant neoplasm of lymphoid and histiocytic tissue of intrathoracic lymph nodes, Secondary and unspecified malignant neoplasm of submental lymph nodes, Unspecified malignant neoplasm of lymphoid and histiocytic tissue of lymph nodes of multiple sites, Other operation on stomach NOS, Benign neoplasm of lymph nodes of head, Benign neoplasm of mediastinal lymph nodes, Neoplasm of lymph node]   \n",
       "\n",
       "                                                                                                                                                                                                                                              concept  \\\n",
       "0  [Condition, Condition, Condition, Condition, Condition, Condition, Condition, Condition, Condition, Condition, Condition, Condition, Condition, Condition, Procedure, Condition, Condition, Condition, Procedure, Condition, Condition, Condition]   \n",
       "\n",
       "                                                                                                                                                                                                                                                                                                                                                                                              aux  \n",
       "0  [Clinical Finding, Clinical Finding, Clinical Finding, Clinical Finding, Clinical Finding, Clinical Finding, Clinical Finding, Clinical Finding, Clinical Finding, Clinical Finding, Clinical Finding, Clinical Finding, Clinical Finding, Clinical Finding, Procedure, Clinical Finding, Clinical Finding, Clinical Finding, Procedure, Clinical Finding, Clinical Finding, Clinical Finding]  "
      ]
     },
     "metadata": {
      "tags": []
     },
     "output_type": "display_data"
    }
   ],
   "source": [
    "clinical_chunks = ['bladder cancer',\n",
    " 'anemia in chronic kidney disease',\n",
    " 'castleman disease',\n",
    " 'congestive heart failure',\n",
    " 'diabetes mellitus type 2',\n",
    " 'lymph nodes of multiple sites',\n",
    " 'malignant melanoma of skin',\n",
    " 'malignant neoplasm of lower lobe, bronchus',\n",
    " 'metastatic lung cancer',\n",
    " 'secondary malignant neoplasm of bone',\n",
    " 'type 2 diabetes mellitus',\n",
    " 'type 2 diabetes mellitus/insulin',\n",
    " 'unsp malignant neoplasm of lymph node']\n",
    "\n",
    "\n",
    "for chunk in clinical_chunks:\n",
    "\n",
    "    print ('>> ',chunk)\n",
    "    \n",
    "    print ('icd10cm_code')\n",
    "    display(get_codes (hcc_lp, chunk, vocab='icd10cm_hcc_code', hcc=True))\n",
    "    \n",
    "    print ('snomed_code')\n",
    "    display(get_codes (snomed_lp, chunk, vocab='snomed_code', aux_label=True))"
   ]
  },
  {
   "cell_type": "markdown",
   "metadata": {
    "id": "z1ukQpa_Ez_K"
   },
   "source": [
    "##  How to integrate resolvers with NER models in the same pipeline\n"
   ]
  },
  {
   "cell_type": "code",
   "execution_count": null,
   "metadata": {
    "colab": {
     "base_uri": "https://localhost:8080/"
    },
    "executionInfo": {
     "elapsed": 104088,
     "status": "ok",
     "timestamp": 1638444447893,
     "user": {
      "displayName": "Ahmet Emin Tek",
      "photoUrl": "https://lh3.googleusercontent.com/a/default-user=s64",
      "userId": "14855809472179427810"
     },
     "user_tz": -180
    },
    "id": "b96GN8qWEz_K",
    "outputId": "97ea5fe7-2e0f-450f-af1c-4a89c2ac9ab8"
   },
   "outputs": [
    {
     "name": "stdout",
     "output_type": "stream",
     "text": [
      "sentence_detector_dl download started this may take some time.\n",
      "Approximate size to download 354.6 KB\n",
      "[OK!]\n",
      "embeddings_clinical download started this may take some time.\n",
      "Approximate size to download 1.6 GB\n",
      "[OK!]\n",
      "ner_clinical download started this may take some time.\n",
      "Approximate size to download 13.7 MB\n",
      "[OK!]\n",
      "sbiobert_base_cased_mli download started this may take some time.\n",
      "Approximate size to download 384.3 MB\n",
      "[OK!]\n",
      "sbiobertresolve_icd10cm_augmented download started this may take some time.\n",
      "Approximate size to download 1.2 GB\n",
      "[OK!]\n"
     ]
    }
   ],
   "source": [
    "documentAssembler = DocumentAssembler()\\\n",
    "      .setInputCol(\"text\")\\\n",
    "      .setOutputCol(\"document\")\n",
    "\n",
    "sentenceDetector = SentenceDetectorDLModel.pretrained()\\\n",
    "      .setInputCols([\"document\"])\\\n",
    "      .setOutputCol(\"sentence\")\n",
    "\n",
    "tokenizer = Tokenizer()\\\n",
    "      .setInputCols([\"sentence\"])\\\n",
    "      .setOutputCol(\"token\")\\\n",
    "\n",
    "word_embeddings = WordEmbeddingsModel.pretrained(\"embeddings_clinical\", \"en\", \"clinical/models\")\\\n",
    "      .setInputCols([\"sentence\", \"token\"])\\\n",
    "      .setOutputCol(\"embeddings\")\n",
    "\n",
    "clinical_ner = MedicalNerModel.pretrained(\"ner_clinical\", \"en\", \"clinical/models\") \\\n",
    "      .setInputCols([\"sentence\", \"token\", \"embeddings\"]) \\\n",
    "      .setOutputCol(\"ner\")\n",
    "\n",
    "ner_converter = NerConverter() \\\n",
    "      .setInputCols([\"sentence\", \"token\", \"ner\"]) \\\n",
    "      .setOutputCol(\"ner_chunk\")\\\n",
    "      .setWhiteList(['PROBLEM'])\n",
    "\n",
    "c2doc = Chunk2Doc()\\\n",
    "      .setInputCols(\"ner_chunk\")\\\n",
    "      .setOutputCol(\"ner_chunk_doc\") \n",
    "\n",
    "sbert_embedder = BertSentenceEmbeddings\\\n",
    "      .pretrained(\"sbiobert_base_cased_mli\",'en','clinical/models')\\\n",
    "      .setInputCols([\"ner_chunk_doc\"])\\\n",
    "      .setOutputCol(\"sbert_embeddings\")\\\n",
    "      .setCaseSensitive(False)\n",
    "\n",
    "icd10_resolver = SentenceEntityResolverModel.pretrained(\"sbiobertresolve_icd10cm_augmented\",\"en\", \"clinical/models\") \\\n",
    "      .setInputCols([\"ner_chunk\", \"sbert_embeddings\"]) \\\n",
    "      .setOutputCol(\"icd10cm_code\")\\\n",
    "      .setDistanceFunction(\"EUCLIDEAN\")\n",
    "  \n",
    "sbert_resolver_pipeline = Pipeline(\n",
    "    stages = [\n",
    "        documentAssembler,\n",
    "        sentenceDetector,\n",
    "        tokenizer,\n",
    "        word_embeddings,\n",
    "        clinical_ner,\n",
    "        ner_converter,\n",
    "        c2doc,\n",
    "        sbert_embedder,\n",
    "        icd10_resolver])\n",
    "\n",
    "data_ner = spark.createDataFrame([[\"\"]]).toDF(\"text\")\n",
    "\n",
    "sbert_models = sbert_resolver_pipeline.fit(data_ner)"
   ]
  },
  {
   "cell_type": "code",
   "execution_count": null,
   "metadata": {
    "id": "NRiariPeEz_K",
    "outputId": "e953cd96-417b-4b5f-9282-0d553835c996"
   },
   "outputs": [
    {
     "name": "stdout",
     "output_type": "stream",
     "text": [
      "A 28-year-old female with a history of gestational diabetes mellitus diagnosed eight years prior to presentation and subsequent type two diabetes mellitus (T2DM), one prior episode of HTG-induced pancreatitis three years prior to presentation, associated with an acute hepatitis, and obesity with a body mass index (BMI) of 33.5 kg/m2, presented with a one-week history of polyuria, polydipsia, poor appetite, and vomiting. Two weeks prior to presentation, she was treated with a five-day course of amoxicillin for a respiratory tract infection. She was on metformin, glipizide, and dapagliflozin for T2DM and atorvastatin and gemfibrozil for HTG. She had been on dapagliflozin for six months at the time of presentation. Physical examination on presentation was significant for dry oral mucosa; significantly, her abdominal examination was benign with no tenderness, guarding, or rigidity. Pertinent laboratory findings on admission were: serum glucose 111 mg/dl, bicarbonate 18 mmol/l, anion gap 20, creatinine 0.4 mg/dL, triglycerides 508 mg/dL, total cholesterol 122 mg/dL, glycated hemoglobin (HbA1c) 10%, and venous pH 7.27. Serum lipase was normal at 43 U/L. Serum acetone levels could not be assessed as blood samples kept hemolyzing due to significant lipemia. The patient was initially admitted for starvation ketosis, as she reported poor oral intake for three days prior to admission. However, serum chemistry obtained six hours after presentation revealed her glucose was 186 mg/dL, the anion gap was still elevated at 21, serum bicarbonate was 16 mmol/L, triglyceride level peaked at 2050 mg/dL, and lipase was 52 U/L. The β-hydroxybutyrate level was obtained and found to be elevated at 5.29 mmol/L - the original sample was centrifuged and the chylomicron layer removed prior to analysis due to interference from turbidity caused by lipemia again. The patient was treated with an insulin drip for euDKA and HTG with a reduction in the anion gap to 13 and triglycerides to 1400 mg/dL, within 24 hours. Her euDKA was thought to be precipitated by her respiratory tract infection in the setting of SGLT2 inhibitor use. The patient was seen by the endocrinology service and she was discharged on 40 units of insulin glargine at night, 12 units of insulin lispro with meals, and metformin 1000 mg two times a day. It was determined that all SGLT2 inhibitors should be discontinued indefinitely. She had close follow-up with endocrinology post discharge.\n"
     ]
    }
   ],
   "source": [
    "clinical_note = 'A 28-year-old female with a history of gestational diabetes mellitus diagnosed eight years prior to presentation and subsequent type two diabetes mellitus (T2DM), one prior episode of HTG-induced pancreatitis three years prior to presentation, associated with an acute hepatitis, and obesity with a body mass index (BMI) of 33.5 kg/m2, presented with a one-week history of polyuria, polydipsia, poor appetite, and vomiting. Two weeks prior to presentation, she was treated with a five-day course of amoxicillin for a respiratory tract infection. She was on metformin, glipizide, and dapagliflozin for T2DM and atorvastatin and gemfibrozil for HTG. She had been on dapagliflozin for six months at the time of presentation. Physical examination on presentation was significant for dry oral mucosa; significantly, her abdominal examination was benign with no tenderness, guarding, or rigidity. Pertinent laboratory findings on admission were: serum glucose 111 mg/dl, bicarbonate 18 mmol/l, anion gap 20, creatinine 0.4 mg/dL, triglycerides 508 mg/dL, total cholesterol 122 mg/dL, glycated hemoglobin (HbA1c) 10%, and venous pH 7.27. Serum lipase was normal at 43 U/L. Serum acetone levels could not be assessed as blood samples kept hemolyzing due to significant lipemia. The patient was initially admitted for starvation ketosis, as she reported poor oral intake for three days prior to admission. However, serum chemistry obtained six hours after presentation revealed her glucose was 186 mg/dL, the anion gap was still elevated at 21, serum bicarbonate was 16 mmol/L, triglyceride level peaked at 2050 mg/dL, and lipase was 52 U/L. The β-hydroxybutyrate level was obtained and found to be elevated at 5.29 mmol/L - the original sample was centrifuged and the chylomicron layer removed prior to analysis due to interference from turbidity caused by lipemia again. The patient was treated with an insulin drip for euDKA and HTG with a reduction in the anion gap to 13 and triglycerides to 1400 mg/dL, within 24 hours. Her euDKA was thought to be precipitated by her respiratory tract infection in the setting of SGLT2 inhibitor use. The patient was seen by the endocrinology service and she was discharged on 40 units of insulin glargine at night, 12 units of insulin lispro with meals, and metformin 1000 mg two times a day. It was determined that all SGLT2 inhibitors should be discontinued indefinitely. She had close follow-up with endocrinology post discharge.'\n",
    "\n",
    "print (clinical_note)\n",
    "\n",
    "clinical_note_df = spark.createDataFrame([[clinical_note]]).toDF(\"text\")\n"
   ]
  },
  {
   "cell_type": "code",
   "execution_count": null,
   "metadata": {
    "id": "oZHtpjre1Uvu"
   },
   "outputs": [],
   "source": [
    "icd10_result = sbert_models.transform(clinical_note_df)"
   ]
  },
  {
   "cell_type": "code",
   "execution_count": null,
   "metadata": {
    "id": "4plQwgbj1Uvu"
   },
   "outputs": [],
   "source": [
    "pd.set_option(\"display.max_colwidth\",0)"
   ]
  },
  {
   "cell_type": "code",
   "execution_count": null,
   "metadata": {
    "id": "FwBHKDBs1Uvu"
   },
   "outputs": [],
   "source": [
    "import pandas as pd\n",
    "\n",
    "pd.set_option('display.max_colwidth', 0)\n",
    "\n",
    "def get_icd_codes(icd10_res):\n",
    "    \n",
    "    icd10_df = icd10_res.select(F.explode(F.arrays_zip('ner_chunk.result', \n",
    "                                                       'ner_chunk.metadata', \n",
    "                                                       'icd10cm_code.result', \n",
    "                                                       'icd10cm_code.metadata')).alias(\"cols\")) \\\n",
    "                                 .select(F.expr(\"cols['1']['sentence']\").alias(\"sent_id\"),\n",
    "                                         F.expr(\"cols['0']\").alias(\"ner_chunk\"),\n",
    "                                         F.expr(\"cols['1']['entity']\").alias(\"entity\"), \n",
    "                                         F.expr(\"cols['2']\").alias(\"icd10_code\"),\n",
    "                                         F.expr(\"cols['3']['all_k_results']\").alias(\"all_codes\"),\n",
    "                                         F.expr(\"cols['3']['all_k_resolutions']\").alias(\"resolutions\")).toPandas()\n",
    "\n",
    "\n",
    "    \n",
    "    codes = []\n",
    "    resolutions = []\n",
    "\n",
    "    for code, resolution in zip(icd10_df['all_codes'], icd10_df['resolutions']):\n",
    "\n",
    "        codes.append(code.split(':::'))\n",
    "        resolutions.append(resolution.split(':::'))\n",
    "\n",
    "    icd10_df['all_codes'] = codes  \n",
    "    icd10_df['resolutions'] = resolutions\n",
    "    \n",
    "    return icd10_df"
   ]
  },
  {
   "cell_type": "code",
   "execution_count": null,
   "metadata": {
    "id": "Tu8yOYt01Uvv",
    "outputId": "ce533f5d-c3c0-4e09-f1f1-e3377b69bf2f"
   },
   "outputs": [
    {
     "name": "stdout",
     "output_type": "stream",
     "text": [
      "CPU times: user 57.6 ms, sys: 12 ms, total: 69.6 ms\n",
      "Wall time: 3min 3s\n"
     ]
    },
    {
     "data": {
      "text/html": [
       "<div>\n",
       "<style scoped>\n",
       "    .dataframe tbody tr th:only-of-type {\n",
       "        vertical-align: middle;\n",
       "    }\n",
       "\n",
       "    .dataframe tbody tr th {\n",
       "        vertical-align: top;\n",
       "    }\n",
       "\n",
       "    .dataframe thead th {\n",
       "        text-align: right;\n",
       "    }\n",
       "</style>\n",
       "<table border=\"1\" class=\"dataframe\">\n",
       "  <thead>\n",
       "    <tr style=\"text-align: right;\">\n",
       "      <th></th>\n",
       "      <th>sent_id</th>\n",
       "      <th>ner_chunk</th>\n",
       "      <th>entity</th>\n",
       "      <th>icd10_code</th>\n",
       "      <th>all_codes</th>\n",
       "      <th>resolutions</th>\n",
       "    </tr>\n",
       "  </thead>\n",
       "  <tbody>\n",
       "    <tr>\n",
       "      <th>0</th>\n",
       "      <td>0</td>\n",
       "      <td>gestational diabetes mellitus</td>\n",
       "      <td>PROBLEM</td>\n",
       "      <td>O2441</td>\n",
       "      <td>[O2441, O2443, Z8632, Z875, O2431, O2411, O244, O241, O2481]</td>\n",
       "      <td>[gestational diabetes mellitus, postpartum gestational diabetes mellitus, history of gestational diabetes mellitus, history of gestational diabetes mellitus (situation), pre-existing diabetes mellitus in pregnancy, pre-existing diabetes mellitus in pregnancy (disorder), postpartum gestational diabetes mellitus (disorder), pre-existing type 2 diabetes mellitus in pregnancy, other pre-existing diabetes mellitus in pregnancy]</td>\n",
       "    </tr>\n",
       "    <tr>\n",
       "      <th>1</th>\n",
       "      <td>0</td>\n",
       "      <td>subsequent type two diabetes mellitus</td>\n",
       "      <td>PROBLEM</td>\n",
       "      <td>O2411</td>\n",
       "      <td>[O2411, E118, E119, E139, E113, E1144, Z863, Z8639, E1132, E1143, E117, E115]</td>\n",
       "      <td>[pre-existing type 2 diabetes mellitus, disorder associated with type 2 diabetes mellitus, type 2 diabetes mellitus, secondary diabetes mellitus, disorder of eye due to type 2 diabetes mellitus, disorder of nervous system due to type 2 diabetes mellitus, history of diabetes mellitus type 2 (situation), history of diabetes mellitus type 2, secondary endocrine diabetes mellitus, neurological disorder with type 2 diabetes mellitus, multiple complications of type 2 diabetes mellitus, peripheral circulatory disorder due to type 2 diabetes mellitus]</td>\n",
       "    </tr>\n",
       "    <tr>\n",
       "      <th>2</th>\n",
       "      <td>0</td>\n",
       "      <td>T2DM</td>\n",
       "      <td>PROBLEM</td>\n",
       "      <td>E119</td>\n",
       "      <td>[E119, E118, O2411, E109, E139, E113, E148, E149, E8881, Z833, E117, D649, Z863]</td>\n",
       "      <td>[type 2 diabetes mellitus, disorder associated with type 2 diabetes mellitus, pre-existing type 2 diabetes mellitus, diabetes mellitus, secondary diabetes mellitus, disorder of eye with type 2 diabetes mellitus, disorder associated with diabetes mellitus, dm - diabetes mellitus, insulin resistance in diabetes, fh: diabetes mellitus, multiple complications of type 2 diabetes mellitus, anemia of diabetes, h/o: diabetes mellitus]</td>\n",
       "    </tr>\n",
       "    <tr>\n",
       "      <th>3</th>\n",
       "      <td>0</td>\n",
       "      <td>HTG-induced pancreatitis</td>\n",
       "      <td>PROBLEM</td>\n",
       "      <td>K8520</td>\n",
       "      <td>[K8520, K853, K8590, F102, K852, K859, K8580, K8591, K858, K918, K8510]</td>\n",
       "      <td>[alcohol-induced pancreatitis, drug-induced acute pancreatitis, hemorrhagic pancreatitis, alcohol-induced chronic pancreatitis, alcohol-induced acute pancreatitis (disorder), pancreatitis, traumatic acute pancreatitis (disorder), necrotizing pancreatitis, traumatic acute pancreatitis, post-ercp acute pancreatitis, gallstone acute pancreatitis]</td>\n",
       "    </tr>\n",
       "    <tr>\n",
       "      <th>4</th>\n",
       "      <td>0</td>\n",
       "      <td>an acute hepatitis</td>\n",
       "      <td>PROBLEM</td>\n",
       "      <td>B159</td>\n",
       "      <td>[B159, K720, B179, B172, Z0389, K752, K712, B199, B161, K701, B169]</td>\n",
       "      <td>[acute hepatitis a, acute hepatitis, acute infectious hepatitis, acute hepatitis e, acute infectious hepatitis suspected, acute focal hepatitis, toxic liver disease with acute hepatitis, fulminant hepatitis, acute hepatitis b, acute alcoholic hepatitis, acute fulminating viral hepatitis]</td>\n",
       "    </tr>\n",
       "    <tr>\n",
       "      <th>5</th>\n",
       "      <td>0</td>\n",
       "      <td>obesity</td>\n",
       "      <td>PROBLEM</td>\n",
       "      <td>E669</td>\n",
       "      <td>[E669, E668, Z6841, Q130, E66, E6601, Z8639, E349, H3550, Z8349, Q5562]</td>\n",
       "      <td>[obesity, abdominal obesity, obese, central obesity, overweight and obesity, morbid obesity, h/o: obesity, severe obesity, centripetal obesity, fh: obesity, truncal obesity]</td>\n",
       "    </tr>\n",
       "    <tr>\n",
       "      <th>6</th>\n",
       "      <td>0</td>\n",
       "      <td>a body mass index</td>\n",
       "      <td>PROBLEM</td>\n",
       "      <td>Z6841</td>\n",
       "      <td>[Z6841, E669, R229, Z681, R223, R221, Z68, R222, R220, R4189, M6258, P299, R1900, R898, M2170, R190, M2180]</td>\n",
       "      <td>[finding of body mass index, observation of body mass index, mass of body region, finding of body mass index (finding), mass of upper limb, head and neck mass, body mass index [bmi], mass of trunk, mass of head, preoccupation with body size, finding of size of upper limb, mass of cardiovascular structure, mass of abdominal cavity structure, increase in circumference, finding of proportion of upper limb, visible abdominal mass, observation of size of upper limb]</td>\n",
       "    </tr>\n",
       "    <tr>\n",
       "      <th>7</th>\n",
       "      <td>0</td>\n",
       "      <td>polyuria</td>\n",
       "      <td>PROBLEM</td>\n",
       "      <td>R35</td>\n",
       "      <td>[R35, R358, E232, R31, R350, R8299, N401, E723, O048, R300, R319, E7201, R809, E888, R808, N030, P960, R80, N026, B80]</td>\n",
       "      <td>[polyuria, polyuric state, polyuric state (disorder), hematuria, micturition frequency and polyuria, uricosuria, pollakiuria, saccharopinuria, oligouria, dysuria, hematuria syndrome, cystinuria, cyclic proteinuria, sialuria, paroxysmal proteinuria, renal hematuria (disorder), oliguria and anuria, proteinuria, persistent hematuria (disorder), oxyuriasis]</td>\n",
       "    </tr>\n",
       "    <tr>\n",
       "      <th>8</th>\n",
       "      <td>0</td>\n",
       "      <td>polydipsia</td>\n",
       "      <td>PROBLEM</td>\n",
       "      <td>R631</td>\n",
       "      <td>[R631, F6389, E232, F639, O40, G475, M7989, R632, R061, H538, I442, G479, G478, G471, Q308, I459, R002, R0681, G4754, R068, M353]</td>\n",
       "      <td>[polydipsia, psychogenic polydipsia, primary polydipsia, psychogenic polydipsia (disorder), polyhydramnios, parasomnia, polyalgia, polyphagia, biphasic stridor, oscillopsia, parasystole (disorder), dyssomnia, parasomnia (disorder), hypersomnia (disorder), polyrrhinia, palpitations - irregular, intermittent palpitations, vagal apnea, secondary parasomnia, vagal apnoea, polymyalgia]</td>\n",
       "    </tr>\n",
       "    <tr>\n",
       "      <th>9</th>\n",
       "      <td>0</td>\n",
       "      <td>poor appetite</td>\n",
       "      <td>PROBLEM</td>\n",
       "      <td>R630</td>\n",
       "      <td>[R630, P929, R438, R432, E86, R196, F520, Z724, R0689, Z7689, R531, R458, N484, F508, R109, R4581]</td>\n",
       "      <td>[poor appetite, poor feeding, bad taste in mouth, unpleasant taste in mouth, poor fluid intake, bad breath, low libido, diet poor (finding), poor respiratory drive, patient dissatisfied with nutrition regime, general weakness, diminished pleasure, poor erection, psychogenic loss of appetite, stomach discomfort, poor self-esteem]</td>\n",
       "    </tr>\n",
       "    <tr>\n",
       "      <th>10</th>\n",
       "      <td>0</td>\n",
       "      <td>vomiting</td>\n",
       "      <td>PROBLEM</td>\n",
       "      <td>R111</td>\n",
       "      <td>[R111, R11, R1110, G43A1, F505, P921, P9209, G43A, R1113, R110]</td>\n",
       "      <td>[vomiting, intermittent vomiting, vomiting symptoms, periodic vomiting, functional vomiting, finding of vomiting, c/o - vomiting, cyclical vomiting, faeculent vomit o/e, nausea]</td>\n",
       "    </tr>\n",
       "    <tr>\n",
       "      <th>11</th>\n",
       "      <td>1</td>\n",
       "      <td>a respiratory tract infection</td>\n",
       "      <td>PROBLEM</td>\n",
       "      <td>J988</td>\n",
       "      <td>[J988, J069, A499, J22, J209, Z593, T179, J0410, Z1383, J189, J998, P289, J399]</td>\n",
       "      <td>[respiratory tract infection, upper respiratory tract infection, bacterial respiratory infection, acute respiratory infection, bronchial infection, institution-acquired respiratory infection, foreign body in respiratory tract, tracheal infection, suspected respiratory disease, pulmonary infection, parasitic respiratory tract infection, respiratory disease, disease of upper respiratory tract]</td>\n",
       "    </tr>\n",
       "    <tr>\n",
       "      <th>12</th>\n",
       "      <td>2</td>\n",
       "      <td>T2DM</td>\n",
       "      <td>PROBLEM</td>\n",
       "      <td>E119</td>\n",
       "      <td>[E119, E118, O2411, E109, E139, E113, E148, E149, E8881, Z833, E117, D649, Z863]</td>\n",
       "      <td>[type 2 diabetes mellitus, disorder associated with type 2 diabetes mellitus, pre-existing type 2 diabetes mellitus, diabetes mellitus, secondary diabetes mellitus, disorder of eye with type 2 diabetes mellitus, disorder associated with diabetes mellitus, dm - diabetes mellitus, insulin resistance in diabetes, fh: diabetes mellitus, multiple complications of type 2 diabetes mellitus, anemia of diabetes, h/o: diabetes mellitus]</td>\n",
       "    </tr>\n",
       "    <tr>\n",
       "      <th>13</th>\n",
       "      <td>2</td>\n",
       "      <td>HTG</td>\n",
       "      <td>PROBLEM</td>\n",
       "      <td>R2989</td>\n",
       "      <td>[R2989, P702, G600, Q249, Z6790, B483, T561, E708, G601, Q871, R75, M151, H355, C801, A157, H578, Z8669, L678, F918]</td>\n",
       "      <td>[thomas' sign, tndm1, hmsn v, thomas syndrome, gerbich type, geotrichosis, hydrargyrism, histidinaemia, hmsn iv, lentiglobus, finding of hiv status, heberden node, hmsn vii, tx category (finding), ghon tubercle, thomas' syndrome, h/o: tia, tay syndrome, temper tantrum]</td>\n",
       "    </tr>\n",
       "    <tr>\n",
       "      <th>14</th>\n",
       "      <td>4</td>\n",
       "      <td>dry oral mucosa</td>\n",
       "      <td>PROBLEM</td>\n",
       "      <td>K130</td>\n",
       "      <td>[K130, L853, R682, J392, L678, M359, R238, R234, H041, T148X, K148, J3489]</td>\n",
       "      <td>[dry lips, dry skin, dry mouth, unspecified, dry throat, dry hair, dry mouth, dry periwound skin, dry skin (finding), dry eyes, dry periwound skin (finding), on examination - dry tongue, nasal mucosa dry (finding)]</td>\n",
       "    </tr>\n",
       "  </tbody>\n",
       "</table>\n",
       "</div>"
      ],
      "text/plain": [
       "   sent_id                              ner_chunk   entity icd10_code  \\\n",
       "0   0       gestational diabetes mellitus          PROBLEM  O2441       \n",
       "1   0       subsequent type two diabetes mellitus  PROBLEM  O2411       \n",
       "2   0       T2DM                                   PROBLEM  E119        \n",
       "3   0       HTG-induced pancreatitis               PROBLEM  K8520       \n",
       "4   0       an acute hepatitis                     PROBLEM  B159        \n",
       "5   0       obesity                                PROBLEM  E669        \n",
       "6   0       a body mass index                      PROBLEM  Z6841       \n",
       "7   0       polyuria                               PROBLEM  R35         \n",
       "8   0       polydipsia                             PROBLEM  R631        \n",
       "9   0       poor appetite                          PROBLEM  R630        \n",
       "10  0       vomiting                               PROBLEM  R111        \n",
       "11  1       a respiratory tract infection          PROBLEM  J988        \n",
       "12  2       T2DM                                   PROBLEM  E119        \n",
       "13  2       HTG                                    PROBLEM  R2989       \n",
       "14  4       dry oral mucosa                        PROBLEM  K130        \n",
       "\n",
       "                                                                                                                            all_codes  \\\n",
       "0   [O2441, O2443, Z8632, Z875, O2431, O2411, O244, O241, O2481]                                                                        \n",
       "1   [O2411, E118, E119, E139, E113, E1144, Z863, Z8639, E1132, E1143, E117, E115]                                                       \n",
       "2   [E119, E118, O2411, E109, E139, E113, E148, E149, E8881, Z833, E117, D649, Z863]                                                    \n",
       "3   [K8520, K853, K8590, F102, K852, K859, K8580, K8591, K858, K918, K8510]                                                             \n",
       "4   [B159, K720, B179, B172, Z0389, K752, K712, B199, B161, K701, B169]                                                                 \n",
       "5   [E669, E668, Z6841, Q130, E66, E6601, Z8639, E349, H3550, Z8349, Q5562]                                                             \n",
       "6   [Z6841, E669, R229, Z681, R223, R221, Z68, R222, R220, R4189, M6258, P299, R1900, R898, M2170, R190, M2180]                         \n",
       "7   [R35, R358, E232, R31, R350, R8299, N401, E723, O048, R300, R319, E7201, R809, E888, R808, N030, P960, R80, N026, B80]              \n",
       "8   [R631, F6389, E232, F639, O40, G475, M7989, R632, R061, H538, I442, G479, G478, G471, Q308, I459, R002, R0681, G4754, R068, M353]   \n",
       "9   [R630, P929, R438, R432, E86, R196, F520, Z724, R0689, Z7689, R531, R458, N484, F508, R109, R4581]                                  \n",
       "10  [R111, R11, R1110, G43A1, F505, P921, P9209, G43A, R1113, R110]                                                                     \n",
       "11  [J988, J069, A499, J22, J209, Z593, T179, J0410, Z1383, J189, J998, P289, J399]                                                     \n",
       "12  [E119, E118, O2411, E109, E139, E113, E148, E149, E8881, Z833, E117, D649, Z863]                                                    \n",
       "13  [R2989, P702, G600, Q249, Z6790, B483, T561, E708, G601, Q871, R75, M151, H355, C801, A157, H578, Z8669, L678, F918]                \n",
       "14  [K130, L853, R682, J392, L678, M359, R238, R234, H041, T148X, K148, J3489]                                                          \n",
       "\n",
       "                                                                                                                                                                                                                                                                                                                                                                                                                                                                                                                                                              resolutions  \n",
       "0   [gestational diabetes mellitus, postpartum gestational diabetes mellitus, history of gestational diabetes mellitus, history of gestational diabetes mellitus (situation), pre-existing diabetes mellitus in pregnancy, pre-existing diabetes mellitus in pregnancy (disorder), postpartum gestational diabetes mellitus (disorder), pre-existing type 2 diabetes mellitus in pregnancy, other pre-existing diabetes mellitus in pregnancy]                                                                                                                             \n",
       "1   [pre-existing type 2 diabetes mellitus, disorder associated with type 2 diabetes mellitus, type 2 diabetes mellitus, secondary diabetes mellitus, disorder of eye due to type 2 diabetes mellitus, disorder of nervous system due to type 2 diabetes mellitus, history of diabetes mellitus type 2 (situation), history of diabetes mellitus type 2, secondary endocrine diabetes mellitus, neurological disorder with type 2 diabetes mellitus, multiple complications of type 2 diabetes mellitus, peripheral circulatory disorder due to type 2 diabetes mellitus]  \n",
       "2   [type 2 diabetes mellitus, disorder associated with type 2 diabetes mellitus, pre-existing type 2 diabetes mellitus, diabetes mellitus, secondary diabetes mellitus, disorder of eye with type 2 diabetes mellitus, disorder associated with diabetes mellitus, dm - diabetes mellitus, insulin resistance in diabetes, fh: diabetes mellitus, multiple complications of type 2 diabetes mellitus, anemia of diabetes, h/o: diabetes mellitus]                                                                                                                         \n",
       "3   [alcohol-induced pancreatitis, drug-induced acute pancreatitis, hemorrhagic pancreatitis, alcohol-induced chronic pancreatitis, alcohol-induced acute pancreatitis (disorder), pancreatitis, traumatic acute pancreatitis (disorder), necrotizing pancreatitis, traumatic acute pancreatitis, post-ercp acute pancreatitis, gallstone acute pancreatitis]                                                                                                                                                                                                              \n",
       "4   [acute hepatitis a, acute hepatitis, acute infectious hepatitis, acute hepatitis e, acute infectious hepatitis suspected, acute focal hepatitis, toxic liver disease with acute hepatitis, fulminant hepatitis, acute hepatitis b, acute alcoholic hepatitis, acute fulminating viral hepatitis]                                                                                                                                                                                                                                                                       \n",
       "5   [obesity, abdominal obesity, obese, central obesity, overweight and obesity, morbid obesity, h/o: obesity, severe obesity, centripetal obesity, fh: obesity, truncal obesity]                                                                                                                                                                                                                                                                                                                                                                                          \n",
       "6   [finding of body mass index, observation of body mass index, mass of body region, finding of body mass index (finding), mass of upper limb, head and neck mass, body mass index [bmi], mass of trunk, mass of head, preoccupation with body size, finding of size of upper limb, mass of cardiovascular structure, mass of abdominal cavity structure, increase in circumference, finding of proportion of upper limb, visible abdominal mass, observation of size of upper limb]                                                                                      \n",
       "7   [polyuria, polyuric state, polyuric state (disorder), hematuria, micturition frequency and polyuria, uricosuria, pollakiuria, saccharopinuria, oligouria, dysuria, hematuria syndrome, cystinuria, cyclic proteinuria, sialuria, paroxysmal proteinuria, renal hematuria (disorder), oliguria and anuria, proteinuria, persistent hematuria (disorder), oxyuriasis]                                                                                                                                                                                                    \n",
       "8   [polydipsia, psychogenic polydipsia, primary polydipsia, psychogenic polydipsia (disorder), polyhydramnios, parasomnia, polyalgia, polyphagia, biphasic stridor, oscillopsia, parasystole (disorder), dyssomnia, parasomnia (disorder), hypersomnia (disorder), polyrrhinia, palpitations - irregular, intermittent palpitations, vagal apnea, secondary parasomnia, vagal apnoea, polymyalgia]                                                                                                                                                                        \n",
       "9   [poor appetite, poor feeding, bad taste in mouth, unpleasant taste in mouth, poor fluid intake, bad breath, low libido, diet poor (finding), poor respiratory drive, patient dissatisfied with nutrition regime, general weakness, diminished pleasure, poor erection, psychogenic loss of appetite, stomach discomfort, poor self-esteem]                                                                                                                                                                                                                             \n",
       "10  [vomiting, intermittent vomiting, vomiting symptoms, periodic vomiting, functional vomiting, finding of vomiting, c/o - vomiting, cyclical vomiting, faeculent vomit o/e, nausea]                                                                                                                                                                                                                                                                                                                                                                                      \n",
       "11  [respiratory tract infection, upper respiratory tract infection, bacterial respiratory infection, acute respiratory infection, bronchial infection, institution-acquired respiratory infection, foreign body in respiratory tract, tracheal infection, suspected respiratory disease, pulmonary infection, parasitic respiratory tract infection, respiratory disease, disease of upper respiratory tract]                                                                                                                                                             \n",
       "12  [type 2 diabetes mellitus, disorder associated with type 2 diabetes mellitus, pre-existing type 2 diabetes mellitus, diabetes mellitus, secondary diabetes mellitus, disorder of eye with type 2 diabetes mellitus, disorder associated with diabetes mellitus, dm - diabetes mellitus, insulin resistance in diabetes, fh: diabetes mellitus, multiple complications of type 2 diabetes mellitus, anemia of diabetes, h/o: diabetes mellitus]                                                                                                                         \n",
       "13  [thomas' sign, tndm1, hmsn v, thomas syndrome, gerbich type, geotrichosis, hydrargyrism, histidinaemia, hmsn iv, lentiglobus, finding of hiv status, heberden node, hmsn vii, tx category (finding), ghon tubercle, thomas' syndrome, h/o: tia, tay syndrome, temper tantrum]                                                                                                                                                                                                                                                                                          \n",
       "14  [dry lips, dry skin, dry mouth, unspecified, dry throat, dry hair, dry mouth, dry periwound skin, dry skin (finding), dry eyes, dry periwound skin (finding), on examination - dry tongue, nasal mucosa dry (finding)]                                                                                                                                                                                                                                                                                                                                                 "
      ]
     },
     "execution_count": 15,
     "metadata": {},
     "output_type": "execute_result"
    }
   ],
   "source": [
    "%%time\n",
    "\n",
    "res_pd = get_icd_codes(icd10_result)\n",
    "res_pd.head(15)"
   ]
  },
  {
   "cell_type": "markdown",
   "metadata": {
    "id": "-3RxuKVs1Uvv"
   },
   "source": [
    "Lets apply some HTML formating by using `sparknlp_display` library to see the results of the pipeline in a nicer layout:"
   ]
  },
  {
   "cell_type": "code",
   "execution_count": null,
   "metadata": {
    "id": "R4vNbARuEz_L",
    "outputId": "9b1f688f-e338-4fb2-d071-6485e4bc3c95",
    "scrolled": false
   },
   "outputs": [
    {
     "data": {
      "text/html": [
       "\n",
       "<style>\n",
       "    @import url('https://fonts.googleapis.com/css2?family=Montserrat:wght@300;400;500;600;700&display=swap');\n",
       "    @import url('https://fonts.googleapis.com/css2?family=Vistol Regular:wght@300;400;500;600;700&display=swap');\n",
       "    \n",
       "    .spark-nlp-display-scroll-entities {\n",
       "        border: 1px solid #E7EDF0;\n",
       "        border-radius: 3px;\n",
       "        text-align: justify;\n",
       "        \n",
       "    }\n",
       "    .spark-nlp-display-scroll-entities span {  \n",
       "        font-size: 14px;\n",
       "        line-height: 24px;\n",
       "        color: #536B76;\n",
       "        font-family: 'Montserrat', sans-serif !important;\n",
       "    }\n",
       "    \n",
       "    .spark-nlp-display-entity-wrapper{\n",
       "    \n",
       "        display: inline-grid;\n",
       "        text-align: center;\n",
       "        border-radius: 4px;\n",
       "        margin: 0 2px 5px 2px;\n",
       "        padding: 1px\n",
       "    }\n",
       "    .spark-nlp-display-entity-name{\n",
       "        font-size: 14px;\n",
       "        line-height: 24px;\n",
       "        font-family: 'Montserrat', sans-serif !important;\n",
       "        \n",
       "        background: #f1f2f3;\n",
       "        border-width: medium;\n",
       "        text-align: center;\n",
       "        \n",
       "        font-weight: 400;\n",
       "        \n",
       "        border-radius: 5px;\n",
       "        padding: 2px 5px;\n",
       "        display: block;\n",
       "        margin: 3px 2px;\n",
       "    \n",
       "    }\n",
       "    .spark-nlp-display-entity-type{\n",
       "        font-size: 14px;\n",
       "        line-height: 24px;\n",
       "        color: #ffffff;\n",
       "        font-family: 'Montserrat', sans-serif !important;\n",
       "        \n",
       "        text-transform: uppercase;\n",
       "        \n",
       "        font-weight: 500;\n",
       "\n",
       "        display: block;\n",
       "        padding: 3px 5px;\n",
       "    }\n",
       "    \n",
       "    .spark-nlp-display-entity-resolution{\n",
       "        font-size: 14px;\n",
       "        line-height: 24px;\n",
       "        color: #ffffff;\n",
       "        font-family: 'Vistol Regular', sans-serif !important;\n",
       "        \n",
       "        text-transform: uppercase;\n",
       "        \n",
       "        font-weight: 500;\n",
       "\n",
       "        display: block;\n",
       "        padding: 3px 5px;\n",
       "    }\n",
       "    \n",
       "    .spark-nlp-display-others{\n",
       "        font-size: 14px;\n",
       "        line-height: 24px;\n",
       "        font-family: 'Montserrat', sans-serif !important;\n",
       "        \n",
       "        font-weight: 400;\n",
       "    }\n",
       "\n",
       "</style>\n",
       " <span class=\"spark-nlp-display-others\" style=\"background-color: white\">A 28-year-old female with a history of </span><span class=\"spark-nlp-display-entity-wrapper\" style=\"background-color: #008080B3\"><span class=\"spark-nlp-display-entity-name\">gestational diabetes mellitus </span><span class=\"spark-nlp-display-entity-type\">PROBLEM</span><span class=\"spark-nlp-display-entity-resolution\" style=\"background-color: #008080FF\">O2441 </span><span class=\"spark-nlp-display-entity-resolution\" style=\"background-color: #008080CC\">gestational diabetes mellitus</span></span><span class=\"spark-nlp-display-others\" style=\"background-color: white\"> diagnosed eight years prior to presentation and </span><span class=\"spark-nlp-display-entity-wrapper\" style=\"background-color: #008080B3\"><span class=\"spark-nlp-display-entity-name\">subsequent type two diabetes mellitus </span><span class=\"spark-nlp-display-entity-type\">PROBLEM</span><span class=\"spark-nlp-display-entity-resolution\" style=\"background-color: #008080FF\">O2411 </span><span class=\"spark-nlp-display-entity-resolution\" style=\"background-color: #008080CC\">pre-existing type 2 diabetes mellitus</span></span><span class=\"spark-nlp-display-others\" style=\"background-color: white\"> (</span><span class=\"spark-nlp-display-entity-wrapper\" style=\"background-color: #008080B3\"><span class=\"spark-nlp-display-entity-name\">T2DM </span><span class=\"spark-nlp-display-entity-type\">PROBLEM</span><span class=\"spark-nlp-display-entity-resolution\" style=\"background-color: #008080FF\">E119 </span><span class=\"spark-nlp-display-entity-resolution\" style=\"background-color: #008080CC\">type 2 diabetes mellitus</span></span><span class=\"spark-nlp-display-others\" style=\"background-color: white\">), one prior episode of </span><span class=\"spark-nlp-display-entity-wrapper\" style=\"background-color: #008080B3\"><span class=\"spark-nlp-display-entity-name\">HTG-induced pancreatitis </span><span class=\"spark-nlp-display-entity-type\">PROBLEM</span><span class=\"spark-nlp-display-entity-resolution\" style=\"background-color: #008080FF\">K8520 </span><span class=\"spark-nlp-display-entity-resolution\" style=\"background-color: #008080CC\">alcohol-induced pancreatitis</span></span><span class=\"spark-nlp-display-others\" style=\"background-color: white\"> three years prior to presentation, associated with </span><span class=\"spark-nlp-display-entity-wrapper\" style=\"background-color: #008080B3\"><span class=\"spark-nlp-display-entity-name\">an acute hepatitis </span><span class=\"spark-nlp-display-entity-type\">PROBLEM</span><span class=\"spark-nlp-display-entity-resolution\" style=\"background-color: #008080FF\">B159 </span><span class=\"spark-nlp-display-entity-resolution\" style=\"background-color: #008080CC\">acute hepatitis a</span></span><span class=\"spark-nlp-display-others\" style=\"background-color: white\">, and </span><span class=\"spark-nlp-display-entity-wrapper\" style=\"background-color: #008080B3\"><span class=\"spark-nlp-display-entity-name\">obesity </span><span class=\"spark-nlp-display-entity-type\">PROBLEM</span><span class=\"spark-nlp-display-entity-resolution\" style=\"background-color: #008080FF\">E669 </span><span class=\"spark-nlp-display-entity-resolution\" style=\"background-color: #008080CC\">obesity</span></span><span class=\"spark-nlp-display-others\" style=\"background-color: white\"> with </span><span class=\"spark-nlp-display-entity-wrapper\" style=\"background-color: #008080B3\"><span class=\"spark-nlp-display-entity-name\">a body mass index </span><span class=\"spark-nlp-display-entity-type\">PROBLEM</span><span class=\"spark-nlp-display-entity-resolution\" style=\"background-color: #008080FF\">Z6841 </span><span class=\"spark-nlp-display-entity-resolution\" style=\"background-color: #008080CC\">finding of body mass index</span></span><span class=\"spark-nlp-display-others\" style=\"background-color: white\"> (BMI) of 33.5 kg/m2, presented with a one-week history of </span><span class=\"spark-nlp-display-entity-wrapper\" style=\"background-color: #008080B3\"><span class=\"spark-nlp-display-entity-name\">polyuria </span><span class=\"spark-nlp-display-entity-type\">PROBLEM</span><span class=\"spark-nlp-display-entity-resolution\" style=\"background-color: #008080FF\">R35 </span><span class=\"spark-nlp-display-entity-resolution\" style=\"background-color: #008080CC\">polyuria</span></span><span class=\"spark-nlp-display-others\" style=\"background-color: white\">, </span><span class=\"spark-nlp-display-entity-wrapper\" style=\"background-color: #008080B3\"><span class=\"spark-nlp-display-entity-name\">polydipsia </span><span class=\"spark-nlp-display-entity-type\">PROBLEM</span><span class=\"spark-nlp-display-entity-resolution\" style=\"background-color: #008080FF\">R631 </span><span class=\"spark-nlp-display-entity-resolution\" style=\"background-color: #008080CC\">polydipsia</span></span><span class=\"spark-nlp-display-others\" style=\"background-color: white\">, </span><span class=\"spark-nlp-display-entity-wrapper\" style=\"background-color: #008080B3\"><span class=\"spark-nlp-display-entity-name\">poor appetite </span><span class=\"spark-nlp-display-entity-type\">PROBLEM</span><span class=\"spark-nlp-display-entity-resolution\" style=\"background-color: #008080FF\">R630 </span><span class=\"spark-nlp-display-entity-resolution\" style=\"background-color: #008080CC\">poor appetite</span></span><span class=\"spark-nlp-display-others\" style=\"background-color: white\">, and </span><span class=\"spark-nlp-display-entity-wrapper\" style=\"background-color: #008080B3\"><span class=\"spark-nlp-display-entity-name\">vomiting </span><span class=\"spark-nlp-display-entity-type\">PROBLEM</span><span class=\"spark-nlp-display-entity-resolution\" style=\"background-color: #008080FF\">R111 </span><span class=\"spark-nlp-display-entity-resolution\" style=\"background-color: #008080CC\">vomiting</span></span><span class=\"spark-nlp-display-others\" style=\"background-color: white\">. Two weeks prior to presentation, she was treated with a five-day course of amoxicillin for </span><span class=\"spark-nlp-display-entity-wrapper\" style=\"background-color: #008080B3\"><span class=\"spark-nlp-display-entity-name\">a respiratory tract infection </span><span class=\"spark-nlp-display-entity-type\">PROBLEM</span><span class=\"spark-nlp-display-entity-resolution\" style=\"background-color: #008080FF\">J988 </span><span class=\"spark-nlp-display-entity-resolution\" style=\"background-color: #008080CC\">respiratory tract infection</span></span><span class=\"spark-nlp-display-others\" style=\"background-color: white\">. She was on metformin, glipizide, and dapagliflozin for </span><span class=\"spark-nlp-display-entity-wrapper\" style=\"background-color: #008080B3\"><span class=\"spark-nlp-display-entity-name\">T2DM </span><span class=\"spark-nlp-display-entity-type\">PROBLEM</span><span class=\"spark-nlp-display-entity-resolution\" style=\"background-color: #008080FF\">E119 </span><span class=\"spark-nlp-display-entity-resolution\" style=\"background-color: #008080CC\">type 2 diabetes mellitus</span></span><span class=\"spark-nlp-display-others\" style=\"background-color: white\"> and atorvastatin and gemfibrozil for </span><span class=\"spark-nlp-display-entity-wrapper\" style=\"background-color: #008080B3\"><span class=\"spark-nlp-display-entity-name\">HTG </span><span class=\"spark-nlp-display-entity-type\">PROBLEM</span><span class=\"spark-nlp-display-entity-resolution\" style=\"background-color: #008080FF\">R2989 </span><span class=\"spark-nlp-display-entity-resolution\" style=\"background-color: #008080CC\">thomas' sign</span></span><span class=\"spark-nlp-display-others\" style=\"background-color: white\">. She had been on dapagliflozin for six months at the time of presentation. Physical examination on presentation was significant for </span><span class=\"spark-nlp-display-entity-wrapper\" style=\"background-color: #008080B3\"><span class=\"spark-nlp-display-entity-name\">dry oral mucosa </span><span class=\"spark-nlp-display-entity-type\">PROBLEM</span><span class=\"spark-nlp-display-entity-resolution\" style=\"background-color: #008080FF\">K130 </span><span class=\"spark-nlp-display-entity-resolution\" style=\"background-color: #008080CC\">dry lips</span></span><span class=\"spark-nlp-display-others\" style=\"background-color: white\">; significantly, her abdominal examination was benign with no </span><span class=\"spark-nlp-display-entity-wrapper\" style=\"background-color: #008080B3\"><span class=\"spark-nlp-display-entity-name\">tenderness </span><span class=\"spark-nlp-display-entity-type\">PROBLEM</span><span class=\"spark-nlp-display-entity-resolution\" style=\"background-color: #008080FF\">R529 </span><span class=\"spark-nlp-display-entity-resolution\" style=\"background-color: #008080CC\">tenderness</span></span><span class=\"spark-nlp-display-others\" style=\"background-color: white\">, </span><span class=\"spark-nlp-display-entity-wrapper\" style=\"background-color: #008080B3\"><span class=\"spark-nlp-display-entity-name\">guarding </span><span class=\"spark-nlp-display-entity-type\">PROBLEM</span><span class=\"spark-nlp-display-entity-resolution\" style=\"background-color: #008080FF\">M6283 </span><span class=\"spark-nlp-display-entity-resolution\" style=\"background-color: #008080CC\">guarding</span></span><span class=\"spark-nlp-display-others\" style=\"background-color: white\">, or </span><span class=\"spark-nlp-display-entity-wrapper\" style=\"background-color: #008080B3\"><span class=\"spark-nlp-display-entity-name\">rigidity </span><span class=\"spark-nlp-display-entity-type\">PROBLEM</span><span class=\"spark-nlp-display-entity-resolution\" style=\"background-color: #008080FF\">R4689 </span><span class=\"spark-nlp-display-entity-resolution\" style=\"background-color: #008080CC\">rigid character</span></span><span class=\"spark-nlp-display-others\" style=\"background-color: white\">. Pertinent laboratory findings on admission were: serum glucose 111 mg/dl, bicarbonate 18 mmol/l, anion gap 20, creatinine 0.4 mg/dL, triglycerides 508 mg/dL, total cholesterol 122 mg/dL, glycated hemoglobin (HbA1c) 10%, and venous pH 7.27. Serum lipase was normal at 43 U/L. Serum acetone levels could not be assessed as blood samples kept </span><span class=\"spark-nlp-display-entity-wrapper\" style=\"background-color: #008080B3\"><span class=\"spark-nlp-display-entity-name\">hemolyzing </span><span class=\"spark-nlp-display-entity-type\">PROBLEM</span><span class=\"spark-nlp-display-entity-resolution\" style=\"background-color: #008080FF\">O046 </span><span class=\"spark-nlp-display-entity-resolution\" style=\"background-color: #008080CC\">hemolysis</span></span><span class=\"spark-nlp-display-others\" style=\"background-color: white\"> due to </span><span class=\"spark-nlp-display-entity-wrapper\" style=\"background-color: #008080B3\"><span class=\"spark-nlp-display-entity-name\">significant lipemia </span><span class=\"spark-nlp-display-entity-type\">PROBLEM</span><span class=\"spark-nlp-display-entity-resolution\" style=\"background-color: #008080FF\">E785 </span><span class=\"spark-nlp-display-entity-resolution\" style=\"background-color: #008080CC\">lipidaemia</span></span><span class=\"spark-nlp-display-others\" style=\"background-color: white\">. The patient was initially admitted for </span><span class=\"spark-nlp-display-entity-wrapper\" style=\"background-color: #008080B3\"><span class=\"spark-nlp-display-entity-name\">starvation ketosis </span><span class=\"spark-nlp-display-entity-type\">PROBLEM</span><span class=\"spark-nlp-display-entity-resolution\" style=\"background-color: #008080FF\">E872 </span><span class=\"spark-nlp-display-entity-resolution\" style=\"background-color: #008080CC\">starvation ketoacidosis</span></span><span class=\"spark-nlp-display-others\" style=\"background-color: white\">, as she reported </span><span class=\"spark-nlp-display-entity-wrapper\" style=\"background-color: #008080B3\"><span class=\"spark-nlp-display-entity-name\">poor oral intake </span><span class=\"spark-nlp-display-entity-type\">PROBLEM</span><span class=\"spark-nlp-display-entity-resolution\" style=\"background-color: #008080FF\">E639 </span><span class=\"spark-nlp-display-entity-resolution\" style=\"background-color: #008080CC\">inadequate oral intake</span></span><span class=\"spark-nlp-display-others\" style=\"background-color: white\"> for three days prior to admission. However, serum chemistry obtained six hours after presentation revealed her glucose was 186 mg/dL, the anion gap was </span><span class=\"spark-nlp-display-entity-wrapper\" style=\"background-color: #008080B3\"><span class=\"spark-nlp-display-entity-name\">still elevated </span><span class=\"spark-nlp-display-entity-type\">PROBLEM</span><span class=\"spark-nlp-display-entity-resolution\" style=\"background-color: #008080FF\">H5330 </span><span class=\"spark-nlp-display-entity-resolution\" style=\"background-color: #008080CC\">deviation remains manifest</span></span><span class=\"spark-nlp-display-others\" style=\"background-color: white\"> at 21, serum bicarbonate was 16 mmol/L, triglyceride level peaked at 2050 mg/dL, and lipase was 52 U/L. The β-hydroxybutyrate level was obtained and found to be </span><span class=\"spark-nlp-display-entity-wrapper\" style=\"background-color: #008080B3\"><span class=\"spark-nlp-display-entity-name\">elevated </span><span class=\"spark-nlp-display-entity-type\">PROBLEM</span><span class=\"spark-nlp-display-entity-resolution\" style=\"background-color: #008080FF\">R799 </span><span class=\"spark-nlp-display-entity-resolution\" style=\"background-color: #008080CC\">inr raised</span></span><span class=\"spark-nlp-display-others\" style=\"background-color: white\"> at 5.29 mmol/L - the original sample was centrifuged and the chylomicron layer removed prior to analysis due to </span><span class=\"spark-nlp-display-entity-wrapper\" style=\"background-color: #008080B3\"><span class=\"spark-nlp-display-entity-name\">interference from turbidity </span><span class=\"spark-nlp-display-entity-type\">PROBLEM</span><span class=\"spark-nlp-display-entity-resolution\" style=\"background-color: #008080FF\">R829 </span><span class=\"spark-nlp-display-entity-resolution\" style=\"background-color: #008080CC\">finding of turbidity of fluid</span></span><span class=\"spark-nlp-display-others\" style=\"background-color: white\"> caused by </span><span class=\"spark-nlp-display-entity-wrapper\" style=\"background-color: #008080B3\"><span class=\"spark-nlp-display-entity-name\">lipemia </span><span class=\"spark-nlp-display-entity-type\">PROBLEM</span><span class=\"spark-nlp-display-entity-resolution\" style=\"background-color: #008080FF\">E785 </span><span class=\"spark-nlp-display-entity-resolution\" style=\"background-color: #008080CC\">lipidaemia</span></span><span class=\"spark-nlp-display-others\" style=\"background-color: white\"> again. The patient was treated with an insulin drip for </span><span class=\"spark-nlp-display-entity-wrapper\" style=\"background-color: #008080B3\"><span class=\"spark-nlp-display-entity-name\">euDKA </span><span class=\"spark-nlp-display-entity-type\">PROBLEM</span><span class=\"spark-nlp-display-entity-resolution\" style=\"background-color: #008080FF\">I517 </span><span class=\"spark-nlp-display-entity-resolution\" style=\"background-color: #008080CC\">lvh by ekg</span></span><span class=\"spark-nlp-display-others\" style=\"background-color: white\"> and </span><span class=\"spark-nlp-display-entity-wrapper\" style=\"background-color: #008080B3\"><span class=\"spark-nlp-display-entity-name\">HTG </span><span class=\"spark-nlp-display-entity-type\">PROBLEM</span><span class=\"spark-nlp-display-entity-resolution\" style=\"background-color: #008080FF\">R2989 </span><span class=\"spark-nlp-display-entity-resolution\" style=\"background-color: #008080CC\">thomas' sign</span></span><span class=\"spark-nlp-display-others\" style=\"background-color: white\"> with a reduction in the anion gap to 13 and triglycerides to 1400 mg/dL, within 24 hours. Her euDKA was thought to be precipitated by </span><span class=\"spark-nlp-display-entity-wrapper\" style=\"background-color: #008080B3\"><span class=\"spark-nlp-display-entity-name\">her respiratory tract infection </span><span class=\"spark-nlp-display-entity-type\">PROBLEM</span><span class=\"spark-nlp-display-entity-resolution\" style=\"background-color: #008080FF\">J988 </span><span class=\"spark-nlp-display-entity-resolution\" style=\"background-color: #008080CC\">respiratory tract infection</span></span><span class=\"spark-nlp-display-others\" style=\"background-color: white\"> in the setting of SGLT2 inhibitor use. The patient was seen by the endocrinology service and she was discharged on 40 units of insulin glargine at night, 12 units of insulin lispro with meals, and metformin 1000 mg two times a day. It was determined that all SGLT2 inhibitors should be discontinued indefinitely. She had close follow-up with endocrinology post discharge.</span></div>"
      ],
      "text/plain": [
       "<IPython.core.display.HTML object>"
      ]
     },
     "metadata": {},
     "output_type": "display_data"
    }
   ],
   "source": [
    "from sparknlp_display import EntityResolverVisualizer\n",
    "\n",
    "# with light pipeline\n",
    "light_model = LightPipeline(sbert_models)\n",
    "\n",
    "vis = EntityResolverVisualizer()\n",
    "\n",
    "# Change color of an entity label\n",
    "vis.set_label_colors({'PROBLEM':'#008080'})\n",
    "\n",
    "light_data_icd = light_model.fullAnnotate(clinical_note)\n",
    "\n",
    "vis.display(light_data_icd[0], 'ner_chunk', 'icd10cm_code')\n"
   ]
  },
  {
   "cell_type": "markdown",
   "metadata": {
    "id": "usiyc8bR1Uvv"
   },
   "source": [
    "## BertSentenceChunkEmbeddings\n",
    "\n",
    "This annotator let users to aggregate sentence embeddings and ner chunk embeddings to get more specific and accurate resolution codes. It works by averaging context and chunk embeddings to get contextual information. Input to this annotator is the context (sentence) and ner chunks, while the output is embedding for each chunk that can be fed to the resolver model. The `setChunkWeight` parameter can be used to control the influence of surrounding context. \n",
    "\n",
    "For more information and examples of `BertSentenceChunkEmbeddings` annotator, you can check here: \n",
    "[24.1.Improved_Entity_Resolution_with_SentenceChunkEmbeddings.ipynb](https://github.com/JohnSnowLabs/spark-nlp-workshop/blob/master/tutorials/Certification_Trainings/Healthcare/24.1.Improved_Entity_Resolution_with_SentenceChunkEmbeddings.ipynb)"
   ]
  },
  {
   "cell_type": "markdown",
   "metadata": {
    "id": "xuJ-zhXW1Uvw"
   },
   "source": [
    "### ICD10CM with BertSentenceChunkEmbeddings\n",
    "\n",
    "Lets do the same process by using `BertSentenceEmbeddings` annotator and compare the results. We will create a new pipeline by using this annotator with SentenceEntityResolverModel."
   ]
  },
  {
   "cell_type": "code",
   "execution_count": null,
   "metadata": {
    "id": "XGig9XVT1Uvw",
    "outputId": "0183e057-c644-4559-e10f-f92681012064"
   },
   "outputs": [
    {
     "name": "stdout",
     "output_type": "stream",
     "text": [
      "sbiobert_base_cased_mli download started this may take some time.\n",
      "Approximate size to download 384.3 MB\n",
      "[OK!]\n",
      "sbiobertresolve_icd10cm_augmented download started this may take some time.\n",
      "Approximate size to download 1.2 GB\n",
      "[OK!]\n"
     ]
    }
   ],
   "source": [
    "#Get average sentence-chunk Bert embeddings\n",
    "sentence_chunk_embeddings = BertSentenceChunkEmbeddings.pretrained(\"sbiobert_base_cased_mli\", \"en\", \"clinical/models\")\\\n",
    "    .setInputCols([\"sentence\", \"ner_chunk\"])\\\n",
    "    .setOutputCol(\"sbert_embeddings\")\\\n",
    "    .setCaseSensitive(False)\\\n",
    "    .setChunkWeight(0.5) #default : 0.5\n",
    "\n",
    "\n",
    "icd10_resolver = SentenceEntityResolverModel.pretrained(\"sbiobertresolve_icd10cm_augmented\",\"en\", \"clinical/models\") \\\n",
    "      .setInputCols([\"ner_chunk\", \"sbert_embeddings\"]) \\\n",
    "      .setOutputCol(\"icd10cm_code\")\\\n",
    "      .setDistanceFunction(\"EUCLIDEAN\")\n",
    "  \n",
    "resolver_pipeline_SCE = Pipeline(\n",
    "    stages = [\n",
    "        documentAssembler,\n",
    "        sentenceDetector,\n",
    "        tokenizer,\n",
    "        word_embeddings,\n",
    "        clinical_ner,\n",
    "        ner_converter,\n",
    "        sentence_chunk_embeddings,\n",
    "        icd10_resolver])\n",
    "\n",
    "\n",
    "empty_data = spark.createDataFrame([['']]).toDF(\"text\")\n",
    "model_SCE = resolver_pipeline_SCE.fit(empty_data)"
   ]
  },
  {
   "cell_type": "code",
   "execution_count": null,
   "metadata": {
    "id": "87_kFTrN1Uvw"
   },
   "outputs": [],
   "source": [
    "icd10_result_SCE = model_SCE.transform(clinical_note_df)"
   ]
  },
  {
   "cell_type": "code",
   "execution_count": null,
   "metadata": {
    "id": "dGDz61Fk1Uvw",
    "outputId": "54dad5cf-b43c-4b91-aa05-5b941114c61d"
   },
   "outputs": [
    {
     "name": "stdout",
     "output_type": "stream",
     "text": [
      "CPU times: user 89.7 ms, sys: 5.52 ms, total: 95.2 ms\n",
      "Wall time: 4min 29s\n"
     ]
    },
    {
     "data": {
      "text/html": [
       "<div>\n",
       "<style scoped>\n",
       "    .dataframe tbody tr th:only-of-type {\n",
       "        vertical-align: middle;\n",
       "    }\n",
       "\n",
       "    .dataframe tbody tr th {\n",
       "        vertical-align: top;\n",
       "    }\n",
       "\n",
       "    .dataframe thead th {\n",
       "        text-align: right;\n",
       "    }\n",
       "</style>\n",
       "<table border=\"1\" class=\"dataframe\">\n",
       "  <thead>\n",
       "    <tr style=\"text-align: right;\">\n",
       "      <th></th>\n",
       "      <th>sent_id</th>\n",
       "      <th>ner_chunk</th>\n",
       "      <th>entity</th>\n",
       "      <th>icd10_code</th>\n",
       "      <th>all_codes</th>\n",
       "      <th>resolutions</th>\n",
       "    </tr>\n",
       "  </thead>\n",
       "  <tbody>\n",
       "    <tr>\n",
       "      <th>0</th>\n",
       "      <td>0</td>\n",
       "      <td>gestational diabetes mellitus</td>\n",
       "      <td>PROBLEM</td>\n",
       "      <td>O244</td>\n",
       "      <td>[O244, O2443, O2441, O2442, O2413]</td>\n",
       "      <td>[gestational diabetes mellitus, class d, gestational diabetes mellitus in the puerperium, gestational diabetes mellitus, class a&gt;1&lt;, gestational diabetes mellitus in childbirth, pre-existing type 2 diabetes mellitus, in the puerperium]</td>\n",
       "    </tr>\n",
       "    <tr>\n",
       "      <th>1</th>\n",
       "      <td>0</td>\n",
       "      <td>subsequent type two diabetes mellitus</td>\n",
       "      <td>PROBLEM</td>\n",
       "      <td>O2413</td>\n",
       "      <td>[O2413, E116, E1143, O2411, E1110, E1133, O241, E114, O2412, E111, E1169, E113, K318, E112, O244, H211X, E109, E1129, E162]</td>\n",
       "      <td>[pre-existing type 2 diabetes mellitus, in the puerperium, gastroparesis co-occurrent and due to type 2 diabetes mellitus, gastroparesis with type 2 diabetes mellitus, pregnancy and type 2 diabetes mellitus, ketoacidosis due to type 2 diabetes mellitus, moderate nonproliferative retinopathy co-occurrent and due to type 2 diabetes mellitus, pre-existing type 2 diabetes mellitus in pregnancy, cranial nerve palsy co-occurrent and due to type 2 diabetes mellitus, pre-existing type 2 diabetes mellitus, in childbirth, ketoacidosis due to type 2 diabetes mellitus (disorder), angina due to type 2 diabetes mellitus, rubeosis iridis co-occurrent and due to type 2 diabetes mellitus, diabetic gastroparesis associated with type 2 diabetes mellitus, persistent microalbuminuria due to type 2 diabetes mellitus, gestational diabetes mellitus, class d, rubeosis iridis due to type 2 diabetes mellitus, acanthosis nigricans due to type 2 diabetes mellitus, persistent microalbuminuria due to type 2 diabetes mellitus (disorder), post hypoglycemic hyperglycemia due to diabetes mellitus]</td>\n",
       "    </tr>\n",
       "    <tr>\n",
       "      <th>2</th>\n",
       "      <td>0</td>\n",
       "      <td>T2DM</td>\n",
       "      <td>PROBLEM</td>\n",
       "      <td>O244</td>\n",
       "      <td>[O244, O2413, O2411, L83, O241, E1143, E119, E113, O2441, O2412, E116, E109, E1169, E1135, E1110]</td>\n",
       "      <td>[gestational diabetes mellitus, class a&gt;2&lt;, pre-existing type 2 diabetes mellitus, in the puerperium, pregnancy and type 2 diabetes mellitus, type 2 diabetes mellitus with acanthosis nigricans, pre-existing type 2 diabetes mellitus in pregnancy, gastroparesis with type 2 diabetes mellitus, type 2 diabetes mellitus in obese, rubeosis iridis with type 2 diabetes mellitus, gestational diabetes mellitus, class a&gt;1&lt;, pre-existing type 2 diabetes mellitus, in childbirth, gastroparesis co-occurrent and due to type 2 diabetes mellitus, acanthosis nigricans due to type 2 diabetes mellitus, diabetes mellitus type 2 in obese (disorder), type 2 diabetes with stable prolif diabetic rtnop, bilateral, ketoacidosis in type 2 diabetes mellitus]</td>\n",
       "    </tr>\n",
       "    <tr>\n",
       "      <th>3</th>\n",
       "      <td>0</td>\n",
       "      <td>HTG-induced pancreatitis</td>\n",
       "      <td>PROBLEM</td>\n",
       "      <td>E139</td>\n",
       "      <td>[E139, E1069, Z924, K903, K8532, E104, K918, K8502, K8522, K318, K8512, E1143, E46, K8510, E106, E091, K8590, E1043]</td>\n",
       "      <td>[congenital insulin-dependent diabetes mellitus with fatal secretory diarrhea, congenital insulin-dependent diabetes mellitus with fatal secretory diarrhoea, postprocedural pancreatic steatorrhea, postprocedural pancreatic steatorrhea (disorder), drug induced acute pancreatitis with infected necrosis, diabetes type 1 with gastroparesis, post-endoscopic retrograde cholangiopancreatography acute pancreatitis (disorder), idiopathic acute pancreatitis with infected necrosis, alcohol induced acute pancreatitis with infected necrosis, gastroparesis due to diabetes mellitus type i, biliary acute pancreatitis with infected necrosis, gastroparesis due to diabetes mellitus type ii, ketoacidosis due to malnutrition related diabetes mellitus (disorder), gallstone acute pancreatitis (disorder), gastroparesis due to type 1 diabetes mellitus, drug or chemical induced diabetes mellitus with ketoacidosis, acute hemorrhagic pancreatitis (disorder), gastroparesis with type 1 diabetes mellitus]</td>\n",
       "    </tr>\n",
       "    <tr>\n",
       "      <th>4</th>\n",
       "      <td>0</td>\n",
       "      <td>an acute hepatitis</td>\n",
       "      <td>PROBLEM</td>\n",
       "      <td>B169</td>\n",
       "      <td>[B169, B159, B162, B179, B160, K712, E8021, F1098, B181, G318, O9843, O266]</td>\n",
       "      <td>[acute fulminating type b viral hepatitis (disorder), acute fulminating type a viral hepatitis (disorder), hepatic coma due to acute hepatitis b, acute fulminating viral hepatitis (disorder), acute viral hepatitis b with hepatic coma, toxic liver disease with acute hepatitis (disorder), acute intermittent (hepatic) porphyria, ketoacidosis due to acute alcoholic intoxication, chronic viral hepatitis b with hepatic coma, recurrent acute necrotizing encephalopathy, viral hepatitis complicating the puerperium, acute fatty liver of pregnancy]</td>\n",
       "    </tr>\n",
       "    <tr>\n",
       "      <th>5</th>\n",
       "      <td>0</td>\n",
       "      <td>obesity</td>\n",
       "      <td>PROBLEM</td>\n",
       "      <td>O9921</td>\n",
       "      <td>[O9921, E233, E236, O2600, E669, E668, R7302, E662, E349, E6601, R730, E1169]</td>\n",
       "      <td>[severe obesity complicating pregnancy, rapid-onset childhood obesity, hypothalamic dysfunction, hypoventilation, autonomic dysregulation syndrome, hypothalamic infantilism with obesity syndrome, maternal obesity syndrome, lifelong obesity, gynaecoid obesity, impaired glucose tolerance in obese, rapid-onset childhood obesity, hypothalamic dysfunction, hypoventilation, autonomic dysregulation syndrome (disorder), severe obesity, morbid (severe) obesity due to excess calories, impaired glucose tolerance in obese (disorder), diabetes mellitus type 2 in obese (disorder)]</td>\n",
       "    </tr>\n",
       "    <tr>\n",
       "      <th>6</th>\n",
       "      <td>0</td>\n",
       "      <td>a body mass index</td>\n",
       "      <td>PROBLEM</td>\n",
       "      <td>E1300</td>\n",
       "      <td>[E1300, R730, R7302, E110, R628, P90, E0900, O2441, O211, O9921, E668, O992, E090, E233, O2413, E662, E111, O2443, O998, N911]</td>\n",
       "      <td>[hyperosmolarity due to secondary diabetes mellitus, impaired glucose tolerance in obese (disorder), impaired glucose tolerance in obese, type 2 diabetes mellitus with hyperosmolarity, body weight abnormal for age (finding), obesity by age of onset, hyperosmolarity due to drug induced diabetes mellitus, gestational diabetes, hyperemesis gravidarum with metabolic disturbance, severe obesity complicating pregnancy, obesity by age of onset (disorder), hyperglycemic disorder in pregnancy, drug or chemical induced diabetes mellitus w hyperosmolarity, rapid-onset childhood obesity, hypothalamic dysfunction, hypoventilation, autonomic dysregulation syndrome, pre-existing type 2 diabetes mellitus, in the puerperium, rapid-onset childhood obesity, hypothalamic dysfunction, hypoventilation, autonomic dysregulation syndrome (disorder), type 2 diabetes mellitus with ketoacidosis, postpartum gestational diabetes mellitus, pregnancy and impaired glucose tolerance, amenorrhoea associated with obesity]</td>\n",
       "    </tr>\n",
       "    <tr>\n",
       "      <th>7</th>\n",
       "      <td>0</td>\n",
       "      <td>polyuria</td>\n",
       "      <td>PROBLEM</td>\n",
       "      <td>R35</td>\n",
       "      <td>[R35, D595, O139, D6869, O133, O122, O1225, O1223, O1222, O132, O1220, O149, N020, O1215]</td>\n",
       "      <td>[polyuria, pnh - paroxysmal nocturnal hemoglobinuria, gestational htn w/o significant proteinuria, unsp trimester, thrombophilia due to paroxysmal nocturnal hemoglobinuria, gestational htn w/o significant proteinuria, third trimester, gestational oedema with proteinuria, gestational edema with proteinuria, comp the puerperium, gestational edema with proteinuria, third trimester, gestational edema with proteinuria, second trimester, gestatnl htn w/o significant proteinuria, second trimester, gestational edema with proteinuria, eph - edema, proteinuria and hypertension of pregnancy, recurrent and persistent hematuria w minor glomerular abnlt, gestational proteinuria, complicating the puerperium]</td>\n",
       "    </tr>\n",
       "    <tr>\n",
       "      <th>8</th>\n",
       "      <td>0</td>\n",
       "      <td>polydipsia</td>\n",
       "      <td>PROBLEM</td>\n",
       "      <td>F6389</td>\n",
       "      <td>[F6389, R631, E232, F639, G473, G470, O9989, A691, E870, Z8742, Z874, R060, D595, E806, O40, R32, O997, Q043, E662]</td>\n",
       "      <td>[psychogenic polydipsia, polydipsia, primary polydipsia, psychogenic polydipsia (disorder), autoimmune encephalopathy with parasomnia and obstructive sleep apnoea, insomnia co-occurrent and due to nocturnal myoclonus, polyhydramnios (disorder), vincent angina - pharyngitis, hypodipsia/adipsia, history of polymenorrhea, history of - polymenorrhea, pnd - paroxysmal nocturnal dyspnea, pnh - paroxysmal nocturnal hemoglobinuria, cyclic premenstrual unconjugated hyperbilirubinemia (disorder), polyhydramnios, nocturnal and diurnal enuresis (disorder), early onset pregnancy prurigo, occipital pachygyria and polymicrogyria, rapid-onset childhood obesity, hypothalamic dysfunction, hypoventilation, autonomic dysregulation syndrome (disorder)]</td>\n",
       "    </tr>\n",
       "    <tr>\n",
       "      <th>9</th>\n",
       "      <td>0</td>\n",
       "      <td>poor appetite</td>\n",
       "      <td>PROBLEM</td>\n",
       "      <td>F500</td>\n",
       "      <td>[F500, F508, F5001, F502, R636, K117, E161, E86, R630, E43, R104, P05]</td>\n",
       "      <td>[anorexia nervosa co-occurrent with dangerously low body weight, psychogenic loss of appetite, dangerously low body weight co-occurrent and due to anorexia nervosa of restricting type (disorder), anorexia nervosa, binge-eating purging type with dangerously low body weight, dangerously low body weight co-occurrent and due to anorexia nervosa of binge-eating purging type, xerostomia due to dehydration, idiopathic postprandial hypoglycemia (disorder), xerostomia due to dehydration (disorder), poor appetite, edema co-occurrent and due to nutritional deficiency (disorder), on examination - abdominal pain - hypogastrium, disord of nb related to slow fetal growth and fetal malnut]</td>\n",
       "    </tr>\n",
       "    <tr>\n",
       "      <th>10</th>\n",
       "      <td>0</td>\n",
       "      <td>vomiting</td>\n",
       "      <td>PROBLEM</td>\n",
       "      <td>R197</td>\n",
       "      <td>[R197, P783, R11, R1110, P9209, A099, G43A, R112, O210, F505, A0811]</td>\n",
       "      <td>[d&amp;v - diarrhea and vomiting, d&amp;v - diarrhoea and vomiting, d+v - diarrhea and vomiting, d+v - diarrhoea and vomiting, diarrhea and vomiting, diarrhoea and vomiting, cyclical vomiting syndrome, refractory nausea and vomiting, excessive vomiting in pregnancy, psychogenic cyclical vomiting, epidemic vomiting syndrome]</td>\n",
       "    </tr>\n",
       "    <tr>\n",
       "      <th>11</th>\n",
       "      <td>1</td>\n",
       "      <td>a respiratory tract infection</td>\n",
       "      <td>PROBLEM</td>\n",
       "      <td>Z870</td>\n",
       "      <td>[Z870, Z8709, J470, J988, A499, J22, Y839, Z593, J158, J156, A420, B20, J202, O3689]</td>\n",
       "      <td>[history of acute lower respiratory tract infection (situation), history of acute lower respiratory tract infection, bronchiectasis with acute lower respiratory infection, rti - respiratory tract infection, bacterial respiratory infection, acute respiratory infections, postoperative lower respiratory tract infection, institution-acquired respiratory infection, pneumonia due to aerobic bacteria, pneumonia caused by aerobic bacteria, pneumonia due to anaerobic bacteria, recurrent lower respiratory tract infection, acute bronchitis due to streptococcus, antibiotic given for suspected neonatal sepsis]</td>\n",
       "    </tr>\n",
       "    <tr>\n",
       "      <th>12</th>\n",
       "      <td>2</td>\n",
       "      <td>T2DM</td>\n",
       "      <td>PROBLEM</td>\n",
       "      <td>E116</td>\n",
       "      <td>[E116, E1169, Z794, E113, O2411, E7889, E119, E1132]</td>\n",
       "      <td>[mixed hyperlipidemia due to type 2 diabetes mellitus (disorder), mixed hyperlipidemia due to type 2 diabetes mellitus, insulin treated type 2 diabetes mellitus, rubeosis iridis with type 2 diabetes mellitus, pregnancy and type 2 diabetes mellitus, dyslipidemia due to type 2 diabetes mellitus, insulin treated type ii diabetes mellitus, nonproliferative retinopathy co-occurrent and due to type 2 diabetes mellitus (disorder)]</td>\n",
       "    </tr>\n",
       "    <tr>\n",
       "      <th>13</th>\n",
       "      <td>2</td>\n",
       "      <td>HTG</td>\n",
       "      <td>PROBLEM</td>\n",
       "      <td>E139</td>\n",
       "      <td>[E139, R730, Z794, E119, E136, O0929, E1300, Z7984, E748, O241, T8090, Z7689, Z922, E118]</td>\n",
       "      <td>[diabetes mellitus associated with hormonal etiology (disorder), impaired glucose tolerance associated with hormonal etiology, insulin treated type 2 diabetes mellitus (disorder), insulin treated type ii diabetes mellitus, genetic syndromes of diabetes mellitus, supervision of high risk pregnancy with history of gestational diabetes mellitus done (situation), hyperosmolarity due to secondary diabetes mellitus (disorder), diabetic on insulin and oral treatment, glucose tolerance test (gtt) = renal glycosuria (finding), pre-exist type 2 diabetes, in preg, chldbrth and the puerp, diabetic monitoring - injection sites (finding), treatment of obesity started (regime/therapy), history of insulin therapy (situation), disorder due to well controlled type 2 diabetes mellitus (disorder)]</td>\n",
       "    </tr>\n",
       "    <tr>\n",
       "      <th>14</th>\n",
       "      <td>4</td>\n",
       "      <td>dry oral mucosa</td>\n",
       "      <td>PROBLEM</td>\n",
       "      <td>R238</td>\n",
       "      <td>[R238, K130, K148, Z0189, J392, R682, M359, T148X, J3489, N908, L853, O3681]</td>\n",
       "      <td>[on examination - dry skin, on examination - dry lips, on examination - dry tongue, nose examination - normal (finding), dry throat, dry mouth, unspecified, dry mouth, dry periwound skin (finding), nasal mucosa dry, vulval dryness, c/o: dry skin, on examination - no fetal movements]</td>\n",
       "    </tr>\n",
       "  </tbody>\n",
       "</table>\n",
       "</div>"
      ],
      "text/plain": [
       "   sent_id                              ner_chunk   entity icd10_code  \\\n",
       "0   0       gestational diabetes mellitus          PROBLEM  O244        \n",
       "1   0       subsequent type two diabetes mellitus  PROBLEM  O2413       \n",
       "2   0       T2DM                                   PROBLEM  O244        \n",
       "3   0       HTG-induced pancreatitis               PROBLEM  E139        \n",
       "4   0       an acute hepatitis                     PROBLEM  B169        \n",
       "5   0       obesity                                PROBLEM  O9921       \n",
       "6   0       a body mass index                      PROBLEM  E1300       \n",
       "7   0       polyuria                               PROBLEM  R35         \n",
       "8   0       polydipsia                             PROBLEM  F6389       \n",
       "9   0       poor appetite                          PROBLEM  F500        \n",
       "10  0       vomiting                               PROBLEM  R197        \n",
       "11  1       a respiratory tract infection          PROBLEM  Z870        \n",
       "12  2       T2DM                                   PROBLEM  E116        \n",
       "13  2       HTG                                    PROBLEM  E139        \n",
       "14  4       dry oral mucosa                        PROBLEM  R238        \n",
       "\n",
       "                                                                                                                         all_codes  \\\n",
       "0   [O244, O2443, O2441, O2442, O2413]                                                                                               \n",
       "1   [O2413, E116, E1143, O2411, E1110, E1133, O241, E114, O2412, E111, E1169, E113, K318, E112, O244, H211X, E109, E1129, E162]      \n",
       "2   [O244, O2413, O2411, L83, O241, E1143, E119, E113, O2441, O2412, E116, E109, E1169, E1135, E1110]                                \n",
       "3   [E139, E1069, Z924, K903, K8532, E104, K918, K8502, K8522, K318, K8512, E1143, E46, K8510, E106, E091, K8590, E1043]             \n",
       "4   [B169, B159, B162, B179, B160, K712, E8021, F1098, B181, G318, O9843, O266]                                                      \n",
       "5   [O9921, E233, E236, O2600, E669, E668, R7302, E662, E349, E6601, R730, E1169]                                                    \n",
       "6   [E1300, R730, R7302, E110, R628, P90, E0900, O2441, O211, O9921, E668, O992, E090, E233, O2413, E662, E111, O2443, O998, N911]   \n",
       "7   [R35, D595, O139, D6869, O133, O122, O1225, O1223, O1222, O132, O1220, O149, N020, O1215]                                        \n",
       "8   [F6389, R631, E232, F639, G473, G470, O9989, A691, E870, Z8742, Z874, R060, D595, E806, O40, R32, O997, Q043, E662]              \n",
       "9   [F500, F508, F5001, F502, R636, K117, E161, E86, R630, E43, R104, P05]                                                           \n",
       "10  [R197, P783, R11, R1110, P9209, A099, G43A, R112, O210, F505, A0811]                                                             \n",
       "11  [Z870, Z8709, J470, J988, A499, J22, Y839, Z593, J158, J156, A420, B20, J202, O3689]                                             \n",
       "12  [E116, E1169, Z794, E113, O2411, E7889, E119, E1132]                                                                             \n",
       "13  [E139, R730, Z794, E119, E136, O0929, E1300, Z7984, E748, O241, T8090, Z7689, Z922, E118]                                        \n",
       "14  [R238, K130, K148, Z0189, J392, R682, M359, T148X, J3489, N908, L853, O3681]                                                     \n",
       "\n",
       "                                                                                                                                                                                                                                                                                                                                                                                                                                                                                                                                                                                                                                                                                                                                                                                                                                                                                                                                                                                                                                                                                                                resolutions  \n",
       "0   [gestational diabetes mellitus, class d, gestational diabetes mellitus in the puerperium, gestational diabetes mellitus, class a>1<, gestational diabetes mellitus in childbirth, pre-existing type 2 diabetes mellitus, in the puerperium]                                                                                                                                                                                                                                                                                                                                                                                                                                                                                                                                                                                                                                                                                                                                                                                                                                                                              \n",
       "1   [pre-existing type 2 diabetes mellitus, in the puerperium, gastroparesis co-occurrent and due to type 2 diabetes mellitus, gastroparesis with type 2 diabetes mellitus, pregnancy and type 2 diabetes mellitus, ketoacidosis due to type 2 diabetes mellitus, moderate nonproliferative retinopathy co-occurrent and due to type 2 diabetes mellitus, pre-existing type 2 diabetes mellitus in pregnancy, cranial nerve palsy co-occurrent and due to type 2 diabetes mellitus, pre-existing type 2 diabetes mellitus, in childbirth, ketoacidosis due to type 2 diabetes mellitus (disorder), angina due to type 2 diabetes mellitus, rubeosis iridis co-occurrent and due to type 2 diabetes mellitus, diabetic gastroparesis associated with type 2 diabetes mellitus, persistent microalbuminuria due to type 2 diabetes mellitus, gestational diabetes mellitus, class d, rubeosis iridis due to type 2 diabetes mellitus, acanthosis nigricans due to type 2 diabetes mellitus, persistent microalbuminuria due to type 2 diabetes mellitus (disorder), post hypoglycemic hyperglycemia due to diabetes mellitus]  \n",
       "2   [gestational diabetes mellitus, class a>2<, pre-existing type 2 diabetes mellitus, in the puerperium, pregnancy and type 2 diabetes mellitus, type 2 diabetes mellitus with acanthosis nigricans, pre-existing type 2 diabetes mellitus in pregnancy, gastroparesis with type 2 diabetes mellitus, type 2 diabetes mellitus in obese, rubeosis iridis with type 2 diabetes mellitus, gestational diabetes mellitus, class a>1<, pre-existing type 2 diabetes mellitus, in childbirth, gastroparesis co-occurrent and due to type 2 diabetes mellitus, acanthosis nigricans due to type 2 diabetes mellitus, diabetes mellitus type 2 in obese (disorder), type 2 diabetes with stable prolif diabetic rtnop, bilateral, ketoacidosis in type 2 diabetes mellitus]                                                                                                                                                                                                                                                                                                                                                        \n",
       "3   [congenital insulin-dependent diabetes mellitus with fatal secretory diarrhea, congenital insulin-dependent diabetes mellitus with fatal secretory diarrhoea, postprocedural pancreatic steatorrhea, postprocedural pancreatic steatorrhea (disorder), drug induced acute pancreatitis with infected necrosis, diabetes type 1 with gastroparesis, post-endoscopic retrograde cholangiopancreatography acute pancreatitis (disorder), idiopathic acute pancreatitis with infected necrosis, alcohol induced acute pancreatitis with infected necrosis, gastroparesis due to diabetes mellitus type i, biliary acute pancreatitis with infected necrosis, gastroparesis due to diabetes mellitus type ii, ketoacidosis due to malnutrition related diabetes mellitus (disorder), gallstone acute pancreatitis (disorder), gastroparesis due to type 1 diabetes mellitus, drug or chemical induced diabetes mellitus with ketoacidosis, acute hemorrhagic pancreatitis (disorder), gastroparesis with type 1 diabetes mellitus]                                                                                            \n",
       "4   [acute fulminating type b viral hepatitis (disorder), acute fulminating type a viral hepatitis (disorder), hepatic coma due to acute hepatitis b, acute fulminating viral hepatitis (disorder), acute viral hepatitis b with hepatic coma, toxic liver disease with acute hepatitis (disorder), acute intermittent (hepatic) porphyria, ketoacidosis due to acute alcoholic intoxication, chronic viral hepatitis b with hepatic coma, recurrent acute necrotizing encephalopathy, viral hepatitis complicating the puerperium, acute fatty liver of pregnancy]                                                                                                                                                                                                                                                                                                                                                                                                                                                                                                                                                          \n",
       "5   [severe obesity complicating pregnancy, rapid-onset childhood obesity, hypothalamic dysfunction, hypoventilation, autonomic dysregulation syndrome, hypothalamic infantilism with obesity syndrome, maternal obesity syndrome, lifelong obesity, gynaecoid obesity, impaired glucose tolerance in obese, rapid-onset childhood obesity, hypothalamic dysfunction, hypoventilation, autonomic dysregulation syndrome (disorder), severe obesity, morbid (severe) obesity due to excess calories, impaired glucose tolerance in obese (disorder), diabetes mellitus type 2 in obese (disorder)]                                                                                                                                                                                                                                                                                                                                                                                                                                                                                                                            \n",
       "6   [hyperosmolarity due to secondary diabetes mellitus, impaired glucose tolerance in obese (disorder), impaired glucose tolerance in obese, type 2 diabetes mellitus with hyperosmolarity, body weight abnormal for age (finding), obesity by age of onset, hyperosmolarity due to drug induced diabetes mellitus, gestational diabetes, hyperemesis gravidarum with metabolic disturbance, severe obesity complicating pregnancy, obesity by age of onset (disorder), hyperglycemic disorder in pregnancy, drug or chemical induced diabetes mellitus w hyperosmolarity, rapid-onset childhood obesity, hypothalamic dysfunction, hypoventilation, autonomic dysregulation syndrome, pre-existing type 2 diabetes mellitus, in the puerperium, rapid-onset childhood obesity, hypothalamic dysfunction, hypoventilation, autonomic dysregulation syndrome (disorder), type 2 diabetes mellitus with ketoacidosis, postpartum gestational diabetes mellitus, pregnancy and impaired glucose tolerance, amenorrhoea associated with obesity]                                                                                \n",
       "7   [polyuria, pnh - paroxysmal nocturnal hemoglobinuria, gestational htn w/o significant proteinuria, unsp trimester, thrombophilia due to paroxysmal nocturnal hemoglobinuria, gestational htn w/o significant proteinuria, third trimester, gestational oedema with proteinuria, gestational edema with proteinuria, comp the puerperium, gestational edema with proteinuria, third trimester, gestational edema with proteinuria, second trimester, gestatnl htn w/o significant proteinuria, second trimester, gestational edema with proteinuria, eph - edema, proteinuria and hypertension of pregnancy, recurrent and persistent hematuria w minor glomerular abnlt, gestational proteinuria, complicating the puerperium]                                                                                                                                                                                                                                                                                                                                                                                           \n",
       "8   [psychogenic polydipsia, polydipsia, primary polydipsia, psychogenic polydipsia (disorder), autoimmune encephalopathy with parasomnia and obstructive sleep apnoea, insomnia co-occurrent and due to nocturnal myoclonus, polyhydramnios (disorder), vincent angina - pharyngitis, hypodipsia/adipsia, history of polymenorrhea, history of - polymenorrhea, pnd - paroxysmal nocturnal dyspnea, pnh - paroxysmal nocturnal hemoglobinuria, cyclic premenstrual unconjugated hyperbilirubinemia (disorder), polyhydramnios, nocturnal and diurnal enuresis (disorder), early onset pregnancy prurigo, occipital pachygyria and polymicrogyria, rapid-onset childhood obesity, hypothalamic dysfunction, hypoventilation, autonomic dysregulation syndrome (disorder)]                                                                                                                                                                                                                                                                                                                                                    \n",
       "9   [anorexia nervosa co-occurrent with dangerously low body weight, psychogenic loss of appetite, dangerously low body weight co-occurrent and due to anorexia nervosa of restricting type (disorder), anorexia nervosa, binge-eating purging type with dangerously low body weight, dangerously low body weight co-occurrent and due to anorexia nervosa of binge-eating purging type, xerostomia due to dehydration, idiopathic postprandial hypoglycemia (disorder), xerostomia due to dehydration (disorder), poor appetite, edema co-occurrent and due to nutritional deficiency (disorder), on examination - abdominal pain - hypogastrium, disord of nb related to slow fetal growth and fetal malnut]                                                                                                                                                                                                                                                                                                                                                                                                               \n",
       "10  [d&v - diarrhea and vomiting, d&v - diarrhoea and vomiting, d+v - diarrhea and vomiting, d+v - diarrhoea and vomiting, diarrhea and vomiting, diarrhoea and vomiting, cyclical vomiting syndrome, refractory nausea and vomiting, excessive vomiting in pregnancy, psychogenic cyclical vomiting, epidemic vomiting syndrome]                                                                                                                                                                                                                                                                                                                                                                                                                                                                                                                                                                                                                                                                                                                                                                                            \n",
       "11  [history of acute lower respiratory tract infection (situation), history of acute lower respiratory tract infection, bronchiectasis with acute lower respiratory infection, rti - respiratory tract infection, bacterial respiratory infection, acute respiratory infections, postoperative lower respiratory tract infection, institution-acquired respiratory infection, pneumonia due to aerobic bacteria, pneumonia caused by aerobic bacteria, pneumonia due to anaerobic bacteria, recurrent lower respiratory tract infection, acute bronchitis due to streptococcus, antibiotic given for suspected neonatal sepsis]                                                                                                                                                                                                                                                                                                                                                                                                                                                                                             \n",
       "12  [mixed hyperlipidemia due to type 2 diabetes mellitus (disorder), mixed hyperlipidemia due to type 2 diabetes mellitus, insulin treated type 2 diabetes mellitus, rubeosis iridis with type 2 diabetes mellitus, pregnancy and type 2 diabetes mellitus, dyslipidemia due to type 2 diabetes mellitus, insulin treated type ii diabetes mellitus, nonproliferative retinopathy co-occurrent and due to type 2 diabetes mellitus (disorder)]                                                                                                                                                                                                                                                                                                                                                                                                                                                                                                                                                                                                                                                                              \n",
       "13  [diabetes mellitus associated with hormonal etiology (disorder), impaired glucose tolerance associated with hormonal etiology, insulin treated type 2 diabetes mellitus (disorder), insulin treated type ii diabetes mellitus, genetic syndromes of diabetes mellitus, supervision of high risk pregnancy with history of gestational diabetes mellitus done (situation), hyperosmolarity due to secondary diabetes mellitus (disorder), diabetic on insulin and oral treatment, glucose tolerance test (gtt) = renal glycosuria (finding), pre-exist type 2 diabetes, in preg, chldbrth and the puerp, diabetic monitoring - injection sites (finding), treatment of obesity started (regime/therapy), history of insulin therapy (situation), disorder due to well controlled type 2 diabetes mellitus (disorder)]                                                                                                                                                                                                                                                                                                     \n",
       "14  [on examination - dry skin, on examination - dry lips, on examination - dry tongue, nose examination - normal (finding), dry throat, dry mouth, unspecified, dry mouth, dry periwound skin (finding), nasal mucosa dry, vulval dryness, c/o: dry skin, on examination - no fetal movements]                                                                                                                                                                                                                                                                                                                                                                                                                                                                                                                                                                                                                                                                                                                                                                                                                              "
      ]
     },
     "execution_count": 19,
     "metadata": {},
     "output_type": "execute_result"
    }
   ],
   "source": [
    "%%time\n",
    "\n",
    "res_SCE_pd = get_icd_codes(icd10_result_SCE)\n",
    "\n",
    "res_SCE_pd.head(15)"
   ]
  },
  {
   "cell_type": "code",
   "execution_count": null,
   "metadata": {
    "id": "4QoS6Yzd1Uvx",
    "outputId": "94282d3b-2b46-4366-bf1c-f593791f8985",
    "scrolled": false
   },
   "outputs": [
    {
     "data": {
      "text/html": [
       "\n",
       "<style>\n",
       "    @import url('https://fonts.googleapis.com/css2?family=Montserrat:wght@300;400;500;600;700&display=swap');\n",
       "    @import url('https://fonts.googleapis.com/css2?family=Vistol Regular:wght@300;400;500;600;700&display=swap');\n",
       "    \n",
       "    .spark-nlp-display-scroll-entities {\n",
       "        border: 1px solid #E7EDF0;\n",
       "        border-radius: 3px;\n",
       "        text-align: justify;\n",
       "        \n",
       "    }\n",
       "    .spark-nlp-display-scroll-entities span {  \n",
       "        font-size: 14px;\n",
       "        line-height: 24px;\n",
       "        color: #536B76;\n",
       "        font-family: 'Montserrat', sans-serif !important;\n",
       "    }\n",
       "    \n",
       "    .spark-nlp-display-entity-wrapper{\n",
       "    \n",
       "        display: inline-grid;\n",
       "        text-align: center;\n",
       "        border-radius: 4px;\n",
       "        margin: 0 2px 5px 2px;\n",
       "        padding: 1px\n",
       "    }\n",
       "    .spark-nlp-display-entity-name{\n",
       "        font-size: 14px;\n",
       "        line-height: 24px;\n",
       "        font-family: 'Montserrat', sans-serif !important;\n",
       "        \n",
       "        background: #f1f2f3;\n",
       "        border-width: medium;\n",
       "        text-align: center;\n",
       "        \n",
       "        font-weight: 400;\n",
       "        \n",
       "        border-radius: 5px;\n",
       "        padding: 2px 5px;\n",
       "        display: block;\n",
       "        margin: 3px 2px;\n",
       "    \n",
       "    }\n",
       "    .spark-nlp-display-entity-type{\n",
       "        font-size: 14px;\n",
       "        line-height: 24px;\n",
       "        color: #ffffff;\n",
       "        font-family: 'Montserrat', sans-serif !important;\n",
       "        \n",
       "        text-transform: uppercase;\n",
       "        \n",
       "        font-weight: 500;\n",
       "\n",
       "        display: block;\n",
       "        padding: 3px 5px;\n",
       "    }\n",
       "    \n",
       "    .spark-nlp-display-entity-resolution{\n",
       "        font-size: 14px;\n",
       "        line-height: 24px;\n",
       "        color: #ffffff;\n",
       "        font-family: 'Vistol Regular', sans-serif !important;\n",
       "        \n",
       "        text-transform: uppercase;\n",
       "        \n",
       "        font-weight: 500;\n",
       "\n",
       "        display: block;\n",
       "        padding: 3px 5px;\n",
       "    }\n",
       "    \n",
       "    .spark-nlp-display-others{\n",
       "        font-size: 14px;\n",
       "        line-height: 24px;\n",
       "        font-family: 'Montserrat', sans-serif !important;\n",
       "        \n",
       "        font-weight: 400;\n",
       "    }\n",
       "\n",
       "</style>\n",
       " <span class=\"spark-nlp-display-others\" style=\"background-color: white\">A 28-year-old female with a history of </span><span class=\"spark-nlp-display-entity-wrapper\" style=\"background-color: #008080B3\"><span class=\"spark-nlp-display-entity-name\">gestational diabetes mellitus </span><span class=\"spark-nlp-display-entity-type\">PROBLEM</span><span class=\"spark-nlp-display-entity-resolution\" style=\"background-color: #008080FF\">O244 </span><span class=\"spark-nlp-display-entity-resolution\" style=\"background-color: #008080CC\">gestational diabetes mellitus, class d</span></span><span class=\"spark-nlp-display-others\" style=\"background-color: white\"> diagnosed eight years prior to presentation and </span><span class=\"spark-nlp-display-entity-wrapper\" style=\"background-color: #008080B3\"><span class=\"spark-nlp-display-entity-name\">subsequent type two diabetes mellitus </span><span class=\"spark-nlp-display-entity-type\">PROBLEM</span><span class=\"spark-nlp-display-entity-resolution\" style=\"background-color: #008080FF\">O2413 </span><span class=\"spark-nlp-display-entity-resolution\" style=\"background-color: #008080CC\">pre-existing type 2 diabetes mellitus, in the puerperium</span></span><span class=\"spark-nlp-display-others\" style=\"background-color: white\"> (</span><span class=\"spark-nlp-display-entity-wrapper\" style=\"background-color: #008080B3\"><span class=\"spark-nlp-display-entity-name\">T2DM </span><span class=\"spark-nlp-display-entity-type\">PROBLEM</span><span class=\"spark-nlp-display-entity-resolution\" style=\"background-color: #008080FF\">O244 </span><span class=\"spark-nlp-display-entity-resolution\" style=\"background-color: #008080CC\">gestational diabetes mellitus, class a>2<</span></span><span class=\"spark-nlp-display-others\" style=\"background-color: white\">), one prior episode of </span><span class=\"spark-nlp-display-entity-wrapper\" style=\"background-color: #008080B3\"><span class=\"spark-nlp-display-entity-name\">HTG-induced pancreatitis </span><span class=\"spark-nlp-display-entity-type\">PROBLEM</span><span class=\"spark-nlp-display-entity-resolution\" style=\"background-color: #008080FF\">E139 </span><span class=\"spark-nlp-display-entity-resolution\" style=\"background-color: #008080CC\">congenital insulin-dependent diabetes mellitus with fatal secretory diarrhea</span></span><span class=\"spark-nlp-display-others\" style=\"background-color: white\"> three years prior to presentation, associated with </span><span class=\"spark-nlp-display-entity-wrapper\" style=\"background-color: #008080B3\"><span class=\"spark-nlp-display-entity-name\">an acute hepatitis </span><span class=\"spark-nlp-display-entity-type\">PROBLEM</span><span class=\"spark-nlp-display-entity-resolution\" style=\"background-color: #008080FF\">B169 </span><span class=\"spark-nlp-display-entity-resolution\" style=\"background-color: #008080CC\">acute fulminating type b viral hepatitis (disorder)</span></span><span class=\"spark-nlp-display-others\" style=\"background-color: white\">, and </span><span class=\"spark-nlp-display-entity-wrapper\" style=\"background-color: #008080B3\"><span class=\"spark-nlp-display-entity-name\">obesity </span><span class=\"spark-nlp-display-entity-type\">PROBLEM</span><span class=\"spark-nlp-display-entity-resolution\" style=\"background-color: #008080FF\">O9921 </span><span class=\"spark-nlp-display-entity-resolution\" style=\"background-color: #008080CC\">severe obesity complicating pregnancy</span></span><span class=\"spark-nlp-display-others\" style=\"background-color: white\"> with </span><span class=\"spark-nlp-display-entity-wrapper\" style=\"background-color: #008080B3\"><span class=\"spark-nlp-display-entity-name\">a body mass index </span><span class=\"spark-nlp-display-entity-type\">PROBLEM</span><span class=\"spark-nlp-display-entity-resolution\" style=\"background-color: #008080FF\">E1300 </span><span class=\"spark-nlp-display-entity-resolution\" style=\"background-color: #008080CC\">hyperosmolarity due to secondary diabetes mellitus</span></span><span class=\"spark-nlp-display-others\" style=\"background-color: white\"> (BMI) of 33.5 kg/m2, presented with a one-week history of </span><span class=\"spark-nlp-display-entity-wrapper\" style=\"background-color: #008080B3\"><span class=\"spark-nlp-display-entity-name\">polyuria </span><span class=\"spark-nlp-display-entity-type\">PROBLEM</span><span class=\"spark-nlp-display-entity-resolution\" style=\"background-color: #008080FF\">R35 </span><span class=\"spark-nlp-display-entity-resolution\" style=\"background-color: #008080CC\">polyuria</span></span><span class=\"spark-nlp-display-others\" style=\"background-color: white\">, </span><span class=\"spark-nlp-display-entity-wrapper\" style=\"background-color: #008080B3\"><span class=\"spark-nlp-display-entity-name\">polydipsia </span><span class=\"spark-nlp-display-entity-type\">PROBLEM</span><span class=\"spark-nlp-display-entity-resolution\" style=\"background-color: #008080FF\">F6389 </span><span class=\"spark-nlp-display-entity-resolution\" style=\"background-color: #008080CC\">psychogenic polydipsia</span></span><span class=\"spark-nlp-display-others\" style=\"background-color: white\">, </span><span class=\"spark-nlp-display-entity-wrapper\" style=\"background-color: #008080B3\"><span class=\"spark-nlp-display-entity-name\">poor appetite </span><span class=\"spark-nlp-display-entity-type\">PROBLEM</span><span class=\"spark-nlp-display-entity-resolution\" style=\"background-color: #008080FF\">F500 </span><span class=\"spark-nlp-display-entity-resolution\" style=\"background-color: #008080CC\">anorexia nervosa co-occurrent with dangerously low body weight</span></span><span class=\"spark-nlp-display-others\" style=\"background-color: white\">, and </span><span class=\"spark-nlp-display-entity-wrapper\" style=\"background-color: #008080B3\"><span class=\"spark-nlp-display-entity-name\">vomiting </span><span class=\"spark-nlp-display-entity-type\">PROBLEM</span><span class=\"spark-nlp-display-entity-resolution\" style=\"background-color: #008080FF\">R197 </span><span class=\"spark-nlp-display-entity-resolution\" style=\"background-color: #008080CC\">d&v - diarrhea and vomiting</span></span><span class=\"spark-nlp-display-others\" style=\"background-color: white\">. Two weeks prior to presentation, she was treated with a five-day course of amoxicillin for </span><span class=\"spark-nlp-display-entity-wrapper\" style=\"background-color: #008080B3\"><span class=\"spark-nlp-display-entity-name\">a respiratory tract infection </span><span class=\"spark-nlp-display-entity-type\">PROBLEM</span><span class=\"spark-nlp-display-entity-resolution\" style=\"background-color: #008080FF\">Z870 </span><span class=\"spark-nlp-display-entity-resolution\" style=\"background-color: #008080CC\">history of acute lower respiratory tract infection (situation)</span></span><span class=\"spark-nlp-display-others\" style=\"background-color: white\">. She was on metformin, glipizide, and dapagliflozin for </span><span class=\"spark-nlp-display-entity-wrapper\" style=\"background-color: #008080B3\"><span class=\"spark-nlp-display-entity-name\">T2DM </span><span class=\"spark-nlp-display-entity-type\">PROBLEM</span><span class=\"spark-nlp-display-entity-resolution\" style=\"background-color: #008080FF\">E116 </span><span class=\"spark-nlp-display-entity-resolution\" style=\"background-color: #008080CC\">mixed hyperlipidemia due to type 2 diabetes mellitus (disorder)</span></span><span class=\"spark-nlp-display-others\" style=\"background-color: white\"> and atorvastatin and gemfibrozil for </span><span class=\"spark-nlp-display-entity-wrapper\" style=\"background-color: #008080B3\"><span class=\"spark-nlp-display-entity-name\">HTG </span><span class=\"spark-nlp-display-entity-type\">PROBLEM</span><span class=\"spark-nlp-display-entity-resolution\" style=\"background-color: #008080FF\">E139 </span><span class=\"spark-nlp-display-entity-resolution\" style=\"background-color: #008080CC\">diabetes mellitus associated with hormonal etiology (disorder)</span></span><span class=\"spark-nlp-display-others\" style=\"background-color: white\">. She had been on dapagliflozin for six months at the time of presentation. Physical examination on presentation was significant for </span><span class=\"spark-nlp-display-entity-wrapper\" style=\"background-color: #008080B3\"><span class=\"spark-nlp-display-entity-name\">dry oral mucosa </span><span class=\"spark-nlp-display-entity-type\">PROBLEM</span><span class=\"spark-nlp-display-entity-resolution\" style=\"background-color: #008080FF\">R238 </span><span class=\"spark-nlp-display-entity-resolution\" style=\"background-color: #008080CC\">on examination - dry skin</span></span><span class=\"spark-nlp-display-others\" style=\"background-color: white\">; significantly, her abdominal examination was benign with no </span><span class=\"spark-nlp-display-entity-wrapper\" style=\"background-color: #008080B3\"><span class=\"spark-nlp-display-entity-name\">tenderness </span><span class=\"spark-nlp-display-entity-type\">PROBLEM</span><span class=\"spark-nlp-display-entity-resolution\" style=\"background-color: #008080FF\">R448 </span><span class=\"spark-nlp-display-entity-resolution\" style=\"background-color: #008080CC\">sounds seem unnaturally clear</span></span><span class=\"spark-nlp-display-others\" style=\"background-color: white\">, </span><span class=\"spark-nlp-display-entity-wrapper\" style=\"background-color: #008080B3\"><span class=\"spark-nlp-display-entity-name\">guarding </span><span class=\"spark-nlp-display-entity-type\">PROBLEM</span><span class=\"spark-nlp-display-entity-resolution\" style=\"background-color: #008080FF\">L2083 </span><span class=\"spark-nlp-display-entity-resolution\" style=\"background-color: #008080CC\">non-pitting edema (finding)</span></span><span class=\"spark-nlp-display-others\" style=\"background-color: white\">, or </span><span class=\"spark-nlp-display-entity-wrapper\" style=\"background-color: #008080B3\"><span class=\"spark-nlp-display-entity-name\">rigidity </span><span class=\"spark-nlp-display-entity-type\">PROBLEM</span><span class=\"spark-nlp-display-entity-resolution\" style=\"background-color: #008080FF\">Z0100 </span><span class=\"spark-nlp-display-entity-resolution\" style=\"background-color: #008080CC\">pupil reactions normal</span></span><span class=\"spark-nlp-display-others\" style=\"background-color: white\">. Pertinent laboratory findings on admission were: serum glucose 111 mg/dl, bicarbonate 18 mmol/l, anion gap 20, creatinine 0.4 mg/dL, triglycerides 508 mg/dL, total cholesterol 122 mg/dL, glycated hemoglobin (HbA1c) 10%, and venous pH 7.27. Serum lipase was normal at 43 U/L. Serum acetone levels could not be assessed as blood samples kept </span><span class=\"spark-nlp-display-entity-wrapper\" style=\"background-color: #008080B3\"><span class=\"spark-nlp-display-entity-name\">hemolyzing </span><span class=\"spark-nlp-display-entity-type\">PROBLEM</span><span class=\"spark-nlp-display-entity-resolution\" style=\"background-color: #008080FF\">O046 </span><span class=\"spark-nlp-display-entity-resolution\" style=\"background-color: #008080CC\">hemolysis</span></span><span class=\"spark-nlp-display-others\" style=\"background-color: white\"> due to </span><span class=\"spark-nlp-display-entity-wrapper\" style=\"background-color: #008080B3\"><span class=\"spark-nlp-display-entity-name\">significant lipemia </span><span class=\"spark-nlp-display-entity-type\">PROBLEM</span><span class=\"spark-nlp-display-entity-resolution\" style=\"background-color: #008080FF\">D749 </span><span class=\"spark-nlp-display-entity-resolution\" style=\"background-color: #008080CC\">methemoglobinemia, unspecified</span></span><span class=\"spark-nlp-display-others\" style=\"background-color: white\">. The patient was initially admitted for </span><span class=\"spark-nlp-display-entity-wrapper\" style=\"background-color: #008080B3\"><span class=\"spark-nlp-display-entity-name\">starvation ketosis </span><span class=\"spark-nlp-display-entity-type\">PROBLEM</span><span class=\"spark-nlp-display-entity-resolution\" style=\"background-color: #008080FF\">E872 </span><span class=\"spark-nlp-display-entity-resolution\" style=\"background-color: #008080CC\">starvation ketoacidosis</span></span><span class=\"spark-nlp-display-others\" style=\"background-color: white\">, as she reported </span><span class=\"spark-nlp-display-entity-wrapper\" style=\"background-color: #008080B3\"><span class=\"spark-nlp-display-entity-name\">poor oral intake </span><span class=\"spark-nlp-display-entity-type\">PROBLEM</span><span class=\"spark-nlp-display-entity-resolution\" style=\"background-color: #008080FF\">R638 </span><span class=\"spark-nlp-display-entity-resolution\" style=\"background-color: #008080CC\">poor response to enteral nutrition</span></span><span class=\"spark-nlp-display-others\" style=\"background-color: white\"> for three days prior to admission. However, serum chemistry obtained six hours after presentation revealed her glucose was 186 mg/dL, the anion gap was </span><span class=\"spark-nlp-display-entity-wrapper\" style=\"background-color: #008080B3\"><span class=\"spark-nlp-display-entity-name\">still elevated </span><span class=\"spark-nlp-display-entity-type\">PROBLEM</span><span class=\"spark-nlp-display-entity-resolution\" style=\"background-color: #008080FF\">E723 </span><span class=\"spark-nlp-display-entity-resolution\" style=\"background-color: #008080CC\">persistent hyperlysinemia</span></span><span class=\"spark-nlp-display-others\" style=\"background-color: white\"> at 21, serum bicarbonate was 16 mmol/L, triglyceride level peaked at 2050 mg/dL, and lipase was 52 U/L. The β-hydroxybutyrate level was obtained and found to be </span><span class=\"spark-nlp-display-entity-wrapper\" style=\"background-color: #008080B3\"><span class=\"spark-nlp-display-entity-name\">elevated </span><span class=\"spark-nlp-display-entity-type\">PROBLEM</span><span class=\"spark-nlp-display-entity-resolution\" style=\"background-color: #008080FF\">R740 </span><span class=\"spark-nlp-display-entity-resolution\" style=\"background-color: #008080CC\">aspartate aminotransferase (ast)/serum glutamic oxaloacetic transaminase (sgot) level raised (finding)</span></span><span class=\"spark-nlp-display-others\" style=\"background-color: white\"> at 5.29 mmol/L - the original sample was centrifuged and the chylomicron layer removed prior to analysis due to </span><span class=\"spark-nlp-display-entity-wrapper\" style=\"background-color: #008080B3\"><span class=\"spark-nlp-display-entity-name\">interference from turbidity </span><span class=\"spark-nlp-display-entity-type\">PROBLEM</span><span class=\"spark-nlp-display-entity-resolution\" style=\"background-color: #008080FF\">Z988 </span><span class=\"spark-nlp-display-entity-resolution\" style=\"background-color: #008080CC\">inadvertent filtering bleb</span></span><span class=\"spark-nlp-display-others\" style=\"background-color: white\"> caused by </span><span class=\"spark-nlp-display-entity-wrapper\" style=\"background-color: #008080B3\"><span class=\"spark-nlp-display-entity-name\">lipemia </span><span class=\"spark-nlp-display-entity-type\">PROBLEM</span><span class=\"spark-nlp-display-entity-resolution\" style=\"background-color: #008080FF\">R898 </span><span class=\"spark-nlp-display-entity-resolution\" style=\"background-color: #008080CC\">sample lipaemic</span></span><span class=\"spark-nlp-display-others\" style=\"background-color: white\"> again. The patient was treated with an insulin drip for </span><span class=\"spark-nlp-display-entity-wrapper\" style=\"background-color: #008080B3\"><span class=\"spark-nlp-display-entity-name\">euDKA </span><span class=\"spark-nlp-display-entity-type\">PROBLEM</span><span class=\"spark-nlp-display-entity-resolution\" style=\"background-color: #008080FF\">T383X </span><span class=\"spark-nlp-display-entity-resolution\" style=\"background-color: #008080CC\">poisn by insulin and oral hypoglycemic drugs, asslt, sequela</span></span><span class=\"spark-nlp-display-others\" style=\"background-color: white\"> and </span><span class=\"spark-nlp-display-entity-wrapper\" style=\"background-color: #008080B3\"><span class=\"spark-nlp-display-entity-name\">HTG </span><span class=\"spark-nlp-display-entity-type\">PROBLEM</span><span class=\"spark-nlp-display-entity-resolution\" style=\"background-color: #008080FF\">E748 </span><span class=\"spark-nlp-display-entity-resolution\" style=\"background-color: #008080CC\">glucose tolerance test (gtt) = renal glycosuria</span></span><span class=\"spark-nlp-display-others\" style=\"background-color: white\"> with a reduction in the anion gap to 13 and triglycerides to 1400 mg/dL, within 24 hours. Her euDKA was thought to be precipitated by </span><span class=\"spark-nlp-display-entity-wrapper\" style=\"background-color: #008080B3\"><span class=\"spark-nlp-display-entity-name\">her respiratory tract infection </span><span class=\"spark-nlp-display-entity-type\">PROBLEM</span><span class=\"spark-nlp-display-entity-resolution\" style=\"background-color: #008080FF\">J988 </span><span class=\"spark-nlp-display-entity-resolution\" style=\"background-color: #008080CC\">rti - respiratory tract infection</span></span><span class=\"spark-nlp-display-others\" style=\"background-color: white\"> in the setting of SGLT2 inhibitor use. The patient was seen by the endocrinology service and she was discharged on 40 units of insulin glargine at night, 12 units of insulin lispro with meals, and metformin 1000 mg two times a day. It was determined that all SGLT2 inhibitors should be discontinued indefinitely. She had close follow-up with endocrinology post discharge.</span></div>"
      ],
      "text/plain": [
       "<IPython.core.display.HTML object>"
      ]
     },
     "metadata": {},
     "output_type": "display_data"
    }
   ],
   "source": [
    "icd10_SCE_lp = LightPipeline(model_SCE)\n",
    "\n",
    "light_result = icd10_SCE_lp.fullAnnotate(clinical_note)\n",
    "\n",
    "visualiser = EntityResolverVisualizer()\n",
    "\n",
    "# Change color of an entity label\n",
    "visualiser.set_label_colors({'PROBLEM':'#008080'})\n",
    "\n",
    "visualiser.display(light_result[0], 'ner_chunk', 'icd10cm_code')"
   ]
  },
  {
   "cell_type": "markdown",
   "metadata": {
    "id": "PQSHuGVj1Uvx"
   },
   "source": [
    "**Lets compare the results that we got from these two methods.**"
   ]
  },
  {
   "cell_type": "code",
   "execution_count": null,
   "metadata": {
    "id": "dhZOOer_1Uvx",
    "outputId": "39542c17-bf10-46fb-af65-878944be3864",
    "scrolled": false
   },
   "outputs": [
    {
     "data": {
      "text/html": [
       "<div>\n",
       "<style scoped>\n",
       "    .dataframe tbody tr th:only-of-type {\n",
       "        vertical-align: middle;\n",
       "    }\n",
       "\n",
       "    .dataframe tbody tr th {\n",
       "        vertical-align: top;\n",
       "    }\n",
       "\n",
       "    .dataframe thead th {\n",
       "        text-align: right;\n",
       "    }\n",
       "</style>\n",
       "<table border=\"1\" class=\"dataframe\">\n",
       "  <thead>\n",
       "    <tr style=\"text-align: right;\">\n",
       "      <th></th>\n",
       "      <th>sentence_all</th>\n",
       "      <th>ner_chunk</th>\n",
       "      <th>entity</th>\n",
       "      <th>icd10_code</th>\n",
       "      <th>all_codes</th>\n",
       "      <th>resolutions</th>\n",
       "      <th>icd10_code_SCE</th>\n",
       "      <th>all_codes_SCE</th>\n",
       "      <th>resolutions_SCE</th>\n",
       "    </tr>\n",
       "  </thead>\n",
       "  <tbody>\n",
       "    <tr>\n",
       "      <th>0</th>\n",
       "      <td>A 28-year-old female with a history of gestational diabetes mellitus diagnosed eight years prior to presentation and subsequent type two diabetes mellitus (T2DM), one prior episode of HTG-induced pancreatitis three years prior to presentation, associated with an acute hepatitis, and obesity with a body mass index (BMI) of 33.5 kg/m2, presented with a one-week history of polyuria, polydipsia, poor appetite, and vomiting.</td>\n",
       "      <td>gestational diabetes mellitus</td>\n",
       "      <td>PROBLEM</td>\n",
       "      <td>O2441</td>\n",
       "      <td>[O2441, O2443, Z8632, Z875, O2431, O2411, O244, O241, O2481]</td>\n",
       "      <td>[gestational diabetes mellitus, postpartum gestational diabetes mellitus, history of gestational diabetes mellitus, history of gestational diabetes mellitus (situation), pre-existing diabetes mellitus in pregnancy, pre-existing diabetes mellitus in pregnancy (disorder), postpartum gestational diabetes mellitus (disorder), pre-existing type 2 diabetes mellitus in pregnancy, other pre-existing diabetes mellitus in pregnancy]</td>\n",
       "      <td>O244</td>\n",
       "      <td>[O244, O2443, O2441, O2442, O2413]</td>\n",
       "      <td>[gestational diabetes mellitus, class d, gestational diabetes mellitus in the puerperium, gestational diabetes mellitus, class a&gt;1&lt;, gestational diabetes mellitus in childbirth, pre-existing type 2 diabetes mellitus, in the puerperium]</td>\n",
       "    </tr>\n",
       "    <tr>\n",
       "      <th>1</th>\n",
       "      <td>A 28-year-old female with a history of gestational diabetes mellitus diagnosed eight years prior to presentation and subsequent type two diabetes mellitus (T2DM), one prior episode of HTG-induced pancreatitis three years prior to presentation, associated with an acute hepatitis, and obesity with a body mass index (BMI) of 33.5 kg/m2, presented with a one-week history of polyuria, polydipsia, poor appetite, and vomiting.</td>\n",
       "      <td>subsequent type two diabetes mellitus</td>\n",
       "      <td>PROBLEM</td>\n",
       "      <td>O2411</td>\n",
       "      <td>[O2411, E118, E119, E139, E113, E1144, Z863, Z8639, E1132, E1143, E117, E115]</td>\n",
       "      <td>[pre-existing type 2 diabetes mellitus, disorder associated with type 2 diabetes mellitus, type 2 diabetes mellitus, secondary diabetes mellitus, disorder of eye due to type 2 diabetes mellitus, disorder of nervous system due to type 2 diabetes mellitus, history of diabetes mellitus type 2 (situation), history of diabetes mellitus type 2, secondary endocrine diabetes mellitus, neurological disorder with type 2 diabetes mellitus, multiple complications of type 2 diabetes mellitus, peripheral circulatory disorder due to type 2 diabetes mellitus]</td>\n",
       "      <td>O2413</td>\n",
       "      <td>[O2413, E116, E1143, O2411, E1110, E1133, O241, E114, O2412, E111, E1169, E113, K318, E112, O244, H211X, E109, E1129, E162]</td>\n",
       "      <td>[pre-existing type 2 diabetes mellitus, in the puerperium, gastroparesis co-occurrent and due to type 2 diabetes mellitus, gastroparesis with type 2 diabetes mellitus, pregnancy and type 2 diabetes mellitus, ketoacidosis due to type 2 diabetes mellitus, moderate nonproliferative retinopathy co-occurrent and due to type 2 diabetes mellitus, pre-existing type 2 diabetes mellitus in pregnancy, cranial nerve palsy co-occurrent and due to type 2 diabetes mellitus, pre-existing type 2 diabetes mellitus, in childbirth, ketoacidosis due to type 2 diabetes mellitus (disorder), angina due to type 2 diabetes mellitus, rubeosis iridis co-occurrent and due to type 2 diabetes mellitus, diabetic gastroparesis associated with type 2 diabetes mellitus, persistent microalbuminuria due to type 2 diabetes mellitus, gestational diabetes mellitus, class d, rubeosis iridis due to type 2 diabetes mellitus, acanthosis nigricans due to type 2 diabetes mellitus, persistent microalbuminuria due to type 2 diabetes mellitus (disorder), post hypoglycemic hyperglycemia due to diabetes mellitus]</td>\n",
       "    </tr>\n",
       "    <tr>\n",
       "      <th>2</th>\n",
       "      <td>A 28-year-old female with a history of gestational diabetes mellitus diagnosed eight years prior to presentation and subsequent type two diabetes mellitus (T2DM), one prior episode of HTG-induced pancreatitis three years prior to presentation, associated with an acute hepatitis, and obesity with a body mass index (BMI) of 33.5 kg/m2, presented with a one-week history of polyuria, polydipsia, poor appetite, and vomiting.</td>\n",
       "      <td>T2DM</td>\n",
       "      <td>PROBLEM</td>\n",
       "      <td>E119</td>\n",
       "      <td>[E119, E118, O2411, E109, E139, E113, E148, E149, E8881, Z833, E117, D649, Z863]</td>\n",
       "      <td>[type 2 diabetes mellitus, disorder associated with type 2 diabetes mellitus, pre-existing type 2 diabetes mellitus, diabetes mellitus, secondary diabetes mellitus, disorder of eye with type 2 diabetes mellitus, disorder associated with diabetes mellitus, dm - diabetes mellitus, insulin resistance in diabetes, fh: diabetes mellitus, multiple complications of type 2 diabetes mellitus, anemia of diabetes, h/o: diabetes mellitus]</td>\n",
       "      <td>O244</td>\n",
       "      <td>[O244, O2413, O2411, L83, O241, E1143, E119, E113, O2441, O2412, E116, E109, E1169, E1135, E1110]</td>\n",
       "      <td>[gestational diabetes mellitus, class a&gt;2&lt;, pre-existing type 2 diabetes mellitus, in the puerperium, pregnancy and type 2 diabetes mellitus, type 2 diabetes mellitus with acanthosis nigricans, pre-existing type 2 diabetes mellitus in pregnancy, gastroparesis with type 2 diabetes mellitus, type 2 diabetes mellitus in obese, rubeosis iridis with type 2 diabetes mellitus, gestational diabetes mellitus, class a&gt;1&lt;, pre-existing type 2 diabetes mellitus, in childbirth, gastroparesis co-occurrent and due to type 2 diabetes mellitus, acanthosis nigricans due to type 2 diabetes mellitus, diabetes mellitus type 2 in obese (disorder), type 2 diabetes with stable prolif diabetic rtnop, bilateral, ketoacidosis in type 2 diabetes mellitus]</td>\n",
       "    </tr>\n",
       "    <tr>\n",
       "      <th>3</th>\n",
       "      <td>A 28-year-old female with a history of gestational diabetes mellitus diagnosed eight years prior to presentation and subsequent type two diabetes mellitus (T2DM), one prior episode of HTG-induced pancreatitis three years prior to presentation, associated with an acute hepatitis, and obesity with a body mass index (BMI) of 33.5 kg/m2, presented with a one-week history of polyuria, polydipsia, poor appetite, and vomiting.</td>\n",
       "      <td>HTG-induced pancreatitis</td>\n",
       "      <td>PROBLEM</td>\n",
       "      <td>K8520</td>\n",
       "      <td>[K8520, K853, K8590, F102, K852, K859, K8580, K8591, K858, K918, K8510]</td>\n",
       "      <td>[alcohol-induced pancreatitis, drug-induced acute pancreatitis, hemorrhagic pancreatitis, alcohol-induced chronic pancreatitis, alcohol-induced acute pancreatitis (disorder), pancreatitis, traumatic acute pancreatitis (disorder), necrotizing pancreatitis, traumatic acute pancreatitis, post-ercp acute pancreatitis, gallstone acute pancreatitis]</td>\n",
       "      <td>E139</td>\n",
       "      <td>[E139, E1069, Z924, K903, K8532, E104, K918, K8502, K8522, K318, K8512, E1143, E46, K8510, E106, E091, K8590, E1043]</td>\n",
       "      <td>[congenital insulin-dependent diabetes mellitus with fatal secretory diarrhea, congenital insulin-dependent diabetes mellitus with fatal secretory diarrhoea, postprocedural pancreatic steatorrhea, postprocedural pancreatic steatorrhea (disorder), drug induced acute pancreatitis with infected necrosis, diabetes type 1 with gastroparesis, post-endoscopic retrograde cholangiopancreatography acute pancreatitis (disorder), idiopathic acute pancreatitis with infected necrosis, alcohol induced acute pancreatitis with infected necrosis, gastroparesis due to diabetes mellitus type i, biliary acute pancreatitis with infected necrosis, gastroparesis due to diabetes mellitus type ii, ketoacidosis due to malnutrition related diabetes mellitus (disorder), gallstone acute pancreatitis (disorder), gastroparesis due to type 1 diabetes mellitus, drug or chemical induced diabetes mellitus with ketoacidosis, acute hemorrhagic pancreatitis (disorder), gastroparesis with type 1 diabetes mellitus]</td>\n",
       "    </tr>\n",
       "    <tr>\n",
       "      <th>4</th>\n",
       "      <td>A 28-year-old female with a history of gestational diabetes mellitus diagnosed eight years prior to presentation and subsequent type two diabetes mellitus (T2DM), one prior episode of HTG-induced pancreatitis three years prior to presentation, associated with an acute hepatitis, and obesity with a body mass index (BMI) of 33.5 kg/m2, presented with a one-week history of polyuria, polydipsia, poor appetite, and vomiting.</td>\n",
       "      <td>an acute hepatitis</td>\n",
       "      <td>PROBLEM</td>\n",
       "      <td>B159</td>\n",
       "      <td>[B159, K720, B179, B172, Z0389, K752, K712, B199, B161, K701, B169]</td>\n",
       "      <td>[acute hepatitis a, acute hepatitis, acute infectious hepatitis, acute hepatitis e, acute infectious hepatitis suspected, acute focal hepatitis, toxic liver disease with acute hepatitis, fulminant hepatitis, acute hepatitis b, acute alcoholic hepatitis, acute fulminating viral hepatitis]</td>\n",
       "      <td>B169</td>\n",
       "      <td>[B169, B159, B162, B179, B160, K712, E8021, F1098, B181, G318, O9843, O266]</td>\n",
       "      <td>[acute fulminating type b viral hepatitis (disorder), acute fulminating type a viral hepatitis (disorder), hepatic coma due to acute hepatitis b, acute fulminating viral hepatitis (disorder), acute viral hepatitis b with hepatic coma, toxic liver disease with acute hepatitis (disorder), acute intermittent (hepatic) porphyria, ketoacidosis due to acute alcoholic intoxication, chronic viral hepatitis b with hepatic coma, recurrent acute necrotizing encephalopathy, viral hepatitis complicating the puerperium, acute fatty liver of pregnancy]</td>\n",
       "    </tr>\n",
       "    <tr>\n",
       "      <th>5</th>\n",
       "      <td>A 28-year-old female with a history of gestational diabetes mellitus diagnosed eight years prior to presentation and subsequent type two diabetes mellitus (T2DM), one prior episode of HTG-induced pancreatitis three years prior to presentation, associated with an acute hepatitis, and obesity with a body mass index (BMI) of 33.5 kg/m2, presented with a one-week history of polyuria, polydipsia, poor appetite, and vomiting.</td>\n",
       "      <td>obesity</td>\n",
       "      <td>PROBLEM</td>\n",
       "      <td>E669</td>\n",
       "      <td>[E669, E668, Z6841, Q130, E66, E6601, Z8639, E349, H3550, Z8349, Q5562]</td>\n",
       "      <td>[obesity, abdominal obesity, obese, central obesity, overweight and obesity, morbid obesity, h/o: obesity, severe obesity, centripetal obesity, fh: obesity, truncal obesity]</td>\n",
       "      <td>O9921</td>\n",
       "      <td>[O9921, E233, E236, O2600, E669, E668, R7302, E662, E349, E6601, R730, E1169]</td>\n",
       "      <td>[severe obesity complicating pregnancy, rapid-onset childhood obesity, hypothalamic dysfunction, hypoventilation, autonomic dysregulation syndrome, hypothalamic infantilism with obesity syndrome, maternal obesity syndrome, lifelong obesity, gynaecoid obesity, impaired glucose tolerance in obese, rapid-onset childhood obesity, hypothalamic dysfunction, hypoventilation, autonomic dysregulation syndrome (disorder), severe obesity, morbid (severe) obesity due to excess calories, impaired glucose tolerance in obese (disorder), diabetes mellitus type 2 in obese (disorder)]</td>\n",
       "    </tr>\n",
       "    <tr>\n",
       "      <th>6</th>\n",
       "      <td>A 28-year-old female with a history of gestational diabetes mellitus diagnosed eight years prior to presentation and subsequent type two diabetes mellitus (T2DM), one prior episode of HTG-induced pancreatitis three years prior to presentation, associated with an acute hepatitis, and obesity with a body mass index (BMI) of 33.5 kg/m2, presented with a one-week history of polyuria, polydipsia, poor appetite, and vomiting.</td>\n",
       "      <td>a body mass index</td>\n",
       "      <td>PROBLEM</td>\n",
       "      <td>Z6841</td>\n",
       "      <td>[Z6841, E669, R229, Z681, R223, R221, Z68, R222, R220, R4189, M6258, P299, R1900, R898, M2170, R190, M2180]</td>\n",
       "      <td>[finding of body mass index, observation of body mass index, mass of body region, finding of body mass index (finding), mass of upper limb, head and neck mass, body mass index [bmi], mass of trunk, mass of head, preoccupation with body size, finding of size of upper limb, mass of cardiovascular structure, mass of abdominal cavity structure, increase in circumference, finding of proportion of upper limb, visible abdominal mass, observation of size of upper limb]</td>\n",
       "      <td>E1300</td>\n",
       "      <td>[E1300, R730, R7302, E110, R628, P90, E0900, O2441, O211, O9921, E668, O992, E090, E233, O2413, E662, E111, O2443, O998, N911]</td>\n",
       "      <td>[hyperosmolarity due to secondary diabetes mellitus, impaired glucose tolerance in obese (disorder), impaired glucose tolerance in obese, type 2 diabetes mellitus with hyperosmolarity, body weight abnormal for age (finding), obesity by age of onset, hyperosmolarity due to drug induced diabetes mellitus, gestational diabetes, hyperemesis gravidarum with metabolic disturbance, severe obesity complicating pregnancy, obesity by age of onset (disorder), hyperglycemic disorder in pregnancy, drug or chemical induced diabetes mellitus w hyperosmolarity, rapid-onset childhood obesity, hypothalamic dysfunction, hypoventilation, autonomic dysregulation syndrome, pre-existing type 2 diabetes mellitus, in the puerperium, rapid-onset childhood obesity, hypothalamic dysfunction, hypoventilation, autonomic dysregulation syndrome (disorder), type 2 diabetes mellitus with ketoacidosis, postpartum gestational diabetes mellitus, pregnancy and impaired glucose tolerance, amenorrhoea associated with obesity]</td>\n",
       "    </tr>\n",
       "    <tr>\n",
       "      <th>7</th>\n",
       "      <td>A 28-year-old female with a history of gestational diabetes mellitus diagnosed eight years prior to presentation and subsequent type two diabetes mellitus (T2DM), one prior episode of HTG-induced pancreatitis three years prior to presentation, associated with an acute hepatitis, and obesity with a body mass index (BMI) of 33.5 kg/m2, presented with a one-week history of polyuria, polydipsia, poor appetite, and vomiting.</td>\n",
       "      <td>polyuria</td>\n",
       "      <td>PROBLEM</td>\n",
       "      <td>R35</td>\n",
       "      <td>[R35, R358, E232, R31, R350, R8299, N401, E723, O048, R300, R319, E7201, R809, E888, R808, N030, P960, R80, N026, B80]</td>\n",
       "      <td>[polyuria, polyuric state, polyuric state (disorder), hematuria, micturition frequency and polyuria, uricosuria, pollakiuria, saccharopinuria, oligouria, dysuria, hematuria syndrome, cystinuria, cyclic proteinuria, sialuria, paroxysmal proteinuria, renal hematuria (disorder), oliguria and anuria, proteinuria, persistent hematuria (disorder), oxyuriasis]</td>\n",
       "      <td>R35</td>\n",
       "      <td>[R35, D595, O139, D6869, O133, O122, O1225, O1223, O1222, O132, O1220, O149, N020, O1215]</td>\n",
       "      <td>[polyuria, pnh - paroxysmal nocturnal hemoglobinuria, gestational htn w/o significant proteinuria, unsp trimester, thrombophilia due to paroxysmal nocturnal hemoglobinuria, gestational htn w/o significant proteinuria, third trimester, gestational oedema with proteinuria, gestational edema with proteinuria, comp the puerperium, gestational edema with proteinuria, third trimester, gestational edema with proteinuria, second trimester, gestatnl htn w/o significant proteinuria, second trimester, gestational edema with proteinuria, eph - edema, proteinuria and hypertension of pregnancy, recurrent and persistent hematuria w minor glomerular abnlt, gestational proteinuria, complicating the puerperium]</td>\n",
       "    </tr>\n",
       "    <tr>\n",
       "      <th>8</th>\n",
       "      <td>A 28-year-old female with a history of gestational diabetes mellitus diagnosed eight years prior to presentation and subsequent type two diabetes mellitus (T2DM), one prior episode of HTG-induced pancreatitis three years prior to presentation, associated with an acute hepatitis, and obesity with a body mass index (BMI) of 33.5 kg/m2, presented with a one-week history of polyuria, polydipsia, poor appetite, and vomiting.</td>\n",
       "      <td>polydipsia</td>\n",
       "      <td>PROBLEM</td>\n",
       "      <td>R631</td>\n",
       "      <td>[R631, F6389, E232, F639, O40, G475, M7989, R632, R061, H538, I442, G479, G478, G471, Q308, I459, R002, R0681, G4754, R068, M353]</td>\n",
       "      <td>[polydipsia, psychogenic polydipsia, primary polydipsia, psychogenic polydipsia (disorder), polyhydramnios, parasomnia, polyalgia, polyphagia, biphasic stridor, oscillopsia, parasystole (disorder), dyssomnia, parasomnia (disorder), hypersomnia (disorder), polyrrhinia, palpitations - irregular, intermittent palpitations, vagal apnea, secondary parasomnia, vagal apnoea, polymyalgia]</td>\n",
       "      <td>F6389</td>\n",
       "      <td>[F6389, R631, E232, F639, G473, G470, O9989, A691, E870, Z8742, Z874, R060, D595, E806, O40, R32, O997, Q043, E662]</td>\n",
       "      <td>[psychogenic polydipsia, polydipsia, primary polydipsia, psychogenic polydipsia (disorder), autoimmune encephalopathy with parasomnia and obstructive sleep apnoea, insomnia co-occurrent and due to nocturnal myoclonus, polyhydramnios (disorder), vincent angina - pharyngitis, hypodipsia/adipsia, history of polymenorrhea, history of - polymenorrhea, pnd - paroxysmal nocturnal dyspnea, pnh - paroxysmal nocturnal hemoglobinuria, cyclic premenstrual unconjugated hyperbilirubinemia (disorder), polyhydramnios, nocturnal and diurnal enuresis (disorder), early onset pregnancy prurigo, occipital pachygyria and polymicrogyria, rapid-onset childhood obesity, hypothalamic dysfunction, hypoventilation, autonomic dysregulation syndrome (disorder)]</td>\n",
       "    </tr>\n",
       "    <tr>\n",
       "      <th>9</th>\n",
       "      <td>A 28-year-old female with a history of gestational diabetes mellitus diagnosed eight years prior to presentation and subsequent type two diabetes mellitus (T2DM), one prior episode of HTG-induced pancreatitis three years prior to presentation, associated with an acute hepatitis, and obesity with a body mass index (BMI) of 33.5 kg/m2, presented with a one-week history of polyuria, polydipsia, poor appetite, and vomiting.</td>\n",
       "      <td>poor appetite</td>\n",
       "      <td>PROBLEM</td>\n",
       "      <td>R630</td>\n",
       "      <td>[R630, P929, R438, R432, E86, R196, F520, Z724, R0689, Z7689, R531, R458, N484, F508, R109, R4581]</td>\n",
       "      <td>[poor appetite, poor feeding, bad taste in mouth, unpleasant taste in mouth, poor fluid intake, bad breath, low libido, diet poor (finding), poor respiratory drive, patient dissatisfied with nutrition regime, general weakness, diminished pleasure, poor erection, psychogenic loss of appetite, stomach discomfort, poor self-esteem]</td>\n",
       "      <td>F500</td>\n",
       "      <td>[F500, F508, F5001, F502, R636, K117, E161, E86, R630, E43, R104, P05]</td>\n",
       "      <td>[anorexia nervosa co-occurrent with dangerously low body weight, psychogenic loss of appetite, dangerously low body weight co-occurrent and due to anorexia nervosa of restricting type (disorder), anorexia nervosa, binge-eating purging type with dangerously low body weight, dangerously low body weight co-occurrent and due to anorexia nervosa of binge-eating purging type, xerostomia due to dehydration, idiopathic postprandial hypoglycemia (disorder), xerostomia due to dehydration (disorder), poor appetite, edema co-occurrent and due to nutritional deficiency (disorder), on examination - abdominal pain - hypogastrium, disord of nb related to slow fetal growth and fetal malnut]</td>\n",
       "    </tr>\n",
       "    <tr>\n",
       "      <th>10</th>\n",
       "      <td>A 28-year-old female with a history of gestational diabetes mellitus diagnosed eight years prior to presentation and subsequent type two diabetes mellitus (T2DM), one prior episode of HTG-induced pancreatitis three years prior to presentation, associated with an acute hepatitis, and obesity with a body mass index (BMI) of 33.5 kg/m2, presented with a one-week history of polyuria, polydipsia, poor appetite, and vomiting.</td>\n",
       "      <td>vomiting</td>\n",
       "      <td>PROBLEM</td>\n",
       "      <td>R111</td>\n",
       "      <td>[R111, R11, R1110, G43A1, F505, P921, P9209, G43A, R1113, R110]</td>\n",
       "      <td>[vomiting, intermittent vomiting, vomiting symptoms, periodic vomiting, functional vomiting, finding of vomiting, c/o - vomiting, cyclical vomiting, faeculent vomit o/e, nausea]</td>\n",
       "      <td>R197</td>\n",
       "      <td>[R197, P783, R11, R1110, P9209, A099, G43A, R112, O210, F505, A0811]</td>\n",
       "      <td>[d&amp;v - diarrhea and vomiting, d&amp;v - diarrhoea and vomiting, d+v - diarrhea and vomiting, d+v - diarrhoea and vomiting, diarrhea and vomiting, diarrhoea and vomiting, cyclical vomiting syndrome, refractory nausea and vomiting, excessive vomiting in pregnancy, psychogenic cyclical vomiting, epidemic vomiting syndrome]</td>\n",
       "    </tr>\n",
       "    <tr>\n",
       "      <th>11</th>\n",
       "      <td>Two weeks prior to presentation, she was treated with a five-day course of amoxicillin for a respiratory tract infection.</td>\n",
       "      <td>a respiratory tract infection</td>\n",
       "      <td>PROBLEM</td>\n",
       "      <td>J988</td>\n",
       "      <td>[J988, J069, A499, J22, J209, Z593, T179, J0410, Z1383, J189, J998, P289, J399]</td>\n",
       "      <td>[respiratory tract infection, upper respiratory tract infection, bacterial respiratory infection, acute respiratory infection, bronchial infection, institution-acquired respiratory infection, foreign body in respiratory tract, tracheal infection, suspected respiratory disease, pulmonary infection, parasitic respiratory tract infection, respiratory disease, disease of upper respiratory tract]</td>\n",
       "      <td>Z870</td>\n",
       "      <td>[Z870, Z8709, J470, J988, A499, J22, Y839, Z593, J158, J156, A420, B20, J202, O3689]</td>\n",
       "      <td>[history of acute lower respiratory tract infection (situation), history of acute lower respiratory tract infection, bronchiectasis with acute lower respiratory infection, rti - respiratory tract infection, bacterial respiratory infection, acute respiratory infections, postoperative lower respiratory tract infection, institution-acquired respiratory infection, pneumonia due to aerobic bacteria, pneumonia caused by aerobic bacteria, pneumonia due to anaerobic bacteria, recurrent lower respiratory tract infection, acute bronchitis due to streptococcus, antibiotic given for suspected neonatal sepsis]</td>\n",
       "    </tr>\n",
       "    <tr>\n",
       "      <th>12</th>\n",
       "      <td>She was on metformin, glipizide, and dapagliflozin for T2DM and atorvastatin and gemfibrozil for HTG.</td>\n",
       "      <td>T2DM</td>\n",
       "      <td>PROBLEM</td>\n",
       "      <td>E119</td>\n",
       "      <td>[E119, E118, O2411, E109, E139, E113, E148, E149, E8881, Z833, E117, D649, Z863]</td>\n",
       "      <td>[type 2 diabetes mellitus, disorder associated with type 2 diabetes mellitus, pre-existing type 2 diabetes mellitus, diabetes mellitus, secondary diabetes mellitus, disorder of eye with type 2 diabetes mellitus, disorder associated with diabetes mellitus, dm - diabetes mellitus, insulin resistance in diabetes, fh: diabetes mellitus, multiple complications of type 2 diabetes mellitus, anemia of diabetes, h/o: diabetes mellitus]</td>\n",
       "      <td>E116</td>\n",
       "      <td>[E116, E1169, Z794, E113, O2411, E7889, E119, E1132]</td>\n",
       "      <td>[mixed hyperlipidemia due to type 2 diabetes mellitus (disorder), mixed hyperlipidemia due to type 2 diabetes mellitus, insulin treated type 2 diabetes mellitus, rubeosis iridis with type 2 diabetes mellitus, pregnancy and type 2 diabetes mellitus, dyslipidemia due to type 2 diabetes mellitus, insulin treated type ii diabetes mellitus, nonproliferative retinopathy co-occurrent and due to type 2 diabetes mellitus (disorder)]</td>\n",
       "    </tr>\n",
       "    <tr>\n",
       "      <th>13</th>\n",
       "      <td>She was on metformin, glipizide, and dapagliflozin for T2DM and atorvastatin and gemfibrozil for HTG.</td>\n",
       "      <td>HTG</td>\n",
       "      <td>PROBLEM</td>\n",
       "      <td>R2989</td>\n",
       "      <td>[R2989, P702, G600, Q249, Z6790, B483, T561, E708, G601, Q871, R75, M151, H355, C801, A157, H578, Z8669, L678, F918]</td>\n",
       "      <td>[thomas' sign, tndm1, hmsn v, thomas syndrome, gerbich type, geotrichosis, hydrargyrism, histidinaemia, hmsn iv, lentiglobus, finding of hiv status, heberden node, hmsn vii, tx category (finding), ghon tubercle, thomas' syndrome, h/o: tia, tay syndrome, temper tantrum]</td>\n",
       "      <td>E139</td>\n",
       "      <td>[E139, R730, Z794, E119, E136, O0929, E1300, Z7984, E748, O241, T8090, Z7689, Z922, E118]</td>\n",
       "      <td>[diabetes mellitus associated with hormonal etiology (disorder), impaired glucose tolerance associated with hormonal etiology, insulin treated type 2 diabetes mellitus (disorder), insulin treated type ii diabetes mellitus, genetic syndromes of diabetes mellitus, supervision of high risk pregnancy with history of gestational diabetes mellitus done (situation), hyperosmolarity due to secondary diabetes mellitus (disorder), diabetic on insulin and oral treatment, glucose tolerance test (gtt) = renal glycosuria (finding), pre-exist type 2 diabetes, in preg, chldbrth and the puerp, diabetic monitoring - injection sites (finding), treatment of obesity started (regime/therapy), history of insulin therapy (situation), disorder due to well controlled type 2 diabetes mellitus (disorder)]</td>\n",
       "    </tr>\n",
       "    <tr>\n",
       "      <th>14</th>\n",
       "      <td>Physical examination on presentation was significant for dry oral mucosa; significantly, her abdominal examination was benign with no tenderness, guarding, or rigidity.</td>\n",
       "      <td>dry oral mucosa</td>\n",
       "      <td>PROBLEM</td>\n",
       "      <td>K130</td>\n",
       "      <td>[K130, L853, R682, J392, L678, M359, R238, R234, H041, T148X, K148, J3489]</td>\n",
       "      <td>[dry lips, dry skin, dry mouth, unspecified, dry throat, dry hair, dry mouth, dry periwound skin, dry skin (finding), dry eyes, dry periwound skin (finding), on examination - dry tongue, nasal mucosa dry (finding)]</td>\n",
       "      <td>R238</td>\n",
       "      <td>[R238, K130, K148, Z0189, J392, R682, M359, T148X, J3489, N908, L853, O3681]</td>\n",
       "      <td>[on examination - dry skin, on examination - dry lips, on examination - dry tongue, nose examination - normal (finding), dry throat, dry mouth, unspecified, dry mouth, dry periwound skin (finding), nasal mucosa dry, vulval dryness, c/o: dry skin, on examination - no fetal movements]</td>\n",
       "    </tr>\n",
       "  </tbody>\n",
       "</table>\n",
       "</div>"
      ],
      "text/plain": [
       "                                                                                                                                                                                                                                                                                                                                                                                                                               sentence_all  \\\n",
       "0   A 28-year-old female with a history of gestational diabetes mellitus diagnosed eight years prior to presentation and subsequent type two diabetes mellitus (T2DM), one prior episode of HTG-induced pancreatitis three years prior to presentation, associated with an acute hepatitis, and obesity with a body mass index (BMI) of 33.5 kg/m2, presented with a one-week history of polyuria, polydipsia, poor appetite, and vomiting.   \n",
       "1   A 28-year-old female with a history of gestational diabetes mellitus diagnosed eight years prior to presentation and subsequent type two diabetes mellitus (T2DM), one prior episode of HTG-induced pancreatitis three years prior to presentation, associated with an acute hepatitis, and obesity with a body mass index (BMI) of 33.5 kg/m2, presented with a one-week history of polyuria, polydipsia, poor appetite, and vomiting.   \n",
       "2   A 28-year-old female with a history of gestational diabetes mellitus diagnosed eight years prior to presentation and subsequent type two diabetes mellitus (T2DM), one prior episode of HTG-induced pancreatitis three years prior to presentation, associated with an acute hepatitis, and obesity with a body mass index (BMI) of 33.5 kg/m2, presented with a one-week history of polyuria, polydipsia, poor appetite, and vomiting.   \n",
       "3   A 28-year-old female with a history of gestational diabetes mellitus diagnosed eight years prior to presentation and subsequent type two diabetes mellitus (T2DM), one prior episode of HTG-induced pancreatitis three years prior to presentation, associated with an acute hepatitis, and obesity with a body mass index (BMI) of 33.5 kg/m2, presented with a one-week history of polyuria, polydipsia, poor appetite, and vomiting.   \n",
       "4   A 28-year-old female with a history of gestational diabetes mellitus diagnosed eight years prior to presentation and subsequent type two diabetes mellitus (T2DM), one prior episode of HTG-induced pancreatitis three years prior to presentation, associated with an acute hepatitis, and obesity with a body mass index (BMI) of 33.5 kg/m2, presented with a one-week history of polyuria, polydipsia, poor appetite, and vomiting.   \n",
       "5   A 28-year-old female with a history of gestational diabetes mellitus diagnosed eight years prior to presentation and subsequent type two diabetes mellitus (T2DM), one prior episode of HTG-induced pancreatitis three years prior to presentation, associated with an acute hepatitis, and obesity with a body mass index (BMI) of 33.5 kg/m2, presented with a one-week history of polyuria, polydipsia, poor appetite, and vomiting.   \n",
       "6   A 28-year-old female with a history of gestational diabetes mellitus diagnosed eight years prior to presentation and subsequent type two diabetes mellitus (T2DM), one prior episode of HTG-induced pancreatitis three years prior to presentation, associated with an acute hepatitis, and obesity with a body mass index (BMI) of 33.5 kg/m2, presented with a one-week history of polyuria, polydipsia, poor appetite, and vomiting.   \n",
       "7   A 28-year-old female with a history of gestational diabetes mellitus diagnosed eight years prior to presentation and subsequent type two diabetes mellitus (T2DM), one prior episode of HTG-induced pancreatitis three years prior to presentation, associated with an acute hepatitis, and obesity with a body mass index (BMI) of 33.5 kg/m2, presented with a one-week history of polyuria, polydipsia, poor appetite, and vomiting.   \n",
       "8   A 28-year-old female with a history of gestational diabetes mellitus diagnosed eight years prior to presentation and subsequent type two diabetes mellitus (T2DM), one prior episode of HTG-induced pancreatitis three years prior to presentation, associated with an acute hepatitis, and obesity with a body mass index (BMI) of 33.5 kg/m2, presented with a one-week history of polyuria, polydipsia, poor appetite, and vomiting.   \n",
       "9   A 28-year-old female with a history of gestational diabetes mellitus diagnosed eight years prior to presentation and subsequent type two diabetes mellitus (T2DM), one prior episode of HTG-induced pancreatitis three years prior to presentation, associated with an acute hepatitis, and obesity with a body mass index (BMI) of 33.5 kg/m2, presented with a one-week history of polyuria, polydipsia, poor appetite, and vomiting.   \n",
       "10  A 28-year-old female with a history of gestational diabetes mellitus diagnosed eight years prior to presentation and subsequent type two diabetes mellitus (T2DM), one prior episode of HTG-induced pancreatitis three years prior to presentation, associated with an acute hepatitis, and obesity with a body mass index (BMI) of 33.5 kg/m2, presented with a one-week history of polyuria, polydipsia, poor appetite, and vomiting.   \n",
       "11  Two weeks prior to presentation, she was treated with a five-day course of amoxicillin for a respiratory tract infection.                                                                                                                                                                                                                                                                                                                 \n",
       "12  She was on metformin, glipizide, and dapagliflozin for T2DM and atorvastatin and gemfibrozil for HTG.                                                                                                                                                                                                                                                                                                                                     \n",
       "13  She was on metformin, glipizide, and dapagliflozin for T2DM and atorvastatin and gemfibrozil for HTG.                                                                                                                                                                                                                                                                                                                                     \n",
       "14  Physical examination on presentation was significant for dry oral mucosa; significantly, her abdominal examination was benign with no tenderness, guarding, or rigidity.                                                                                                                                                                                                                                                                  \n",
       "\n",
       "                                ner_chunk   entity icd10_code  \\\n",
       "0   gestational diabetes mellitus          PROBLEM  O2441       \n",
       "1   subsequent type two diabetes mellitus  PROBLEM  O2411       \n",
       "2   T2DM                                   PROBLEM  E119        \n",
       "3   HTG-induced pancreatitis               PROBLEM  K8520       \n",
       "4   an acute hepatitis                     PROBLEM  B159        \n",
       "5   obesity                                PROBLEM  E669        \n",
       "6   a body mass index                      PROBLEM  Z6841       \n",
       "7   polyuria                               PROBLEM  R35         \n",
       "8   polydipsia                             PROBLEM  R631        \n",
       "9   poor appetite                          PROBLEM  R630        \n",
       "10  vomiting                               PROBLEM  R111        \n",
       "11  a respiratory tract infection          PROBLEM  J988        \n",
       "12  T2DM                                   PROBLEM  E119        \n",
       "13  HTG                                    PROBLEM  R2989       \n",
       "14  dry oral mucosa                        PROBLEM  K130        \n",
       "\n",
       "                                                                                                                            all_codes  \\\n",
       "0   [O2441, O2443, Z8632, Z875, O2431, O2411, O244, O241, O2481]                                                                        \n",
       "1   [O2411, E118, E119, E139, E113, E1144, Z863, Z8639, E1132, E1143, E117, E115]                                                       \n",
       "2   [E119, E118, O2411, E109, E139, E113, E148, E149, E8881, Z833, E117, D649, Z863]                                                    \n",
       "3   [K8520, K853, K8590, F102, K852, K859, K8580, K8591, K858, K918, K8510]                                                             \n",
       "4   [B159, K720, B179, B172, Z0389, K752, K712, B199, B161, K701, B169]                                                                 \n",
       "5   [E669, E668, Z6841, Q130, E66, E6601, Z8639, E349, H3550, Z8349, Q5562]                                                             \n",
       "6   [Z6841, E669, R229, Z681, R223, R221, Z68, R222, R220, R4189, M6258, P299, R1900, R898, M2170, R190, M2180]                         \n",
       "7   [R35, R358, E232, R31, R350, R8299, N401, E723, O048, R300, R319, E7201, R809, E888, R808, N030, P960, R80, N026, B80]              \n",
       "8   [R631, F6389, E232, F639, O40, G475, M7989, R632, R061, H538, I442, G479, G478, G471, Q308, I459, R002, R0681, G4754, R068, M353]   \n",
       "9   [R630, P929, R438, R432, E86, R196, F520, Z724, R0689, Z7689, R531, R458, N484, F508, R109, R4581]                                  \n",
       "10  [R111, R11, R1110, G43A1, F505, P921, P9209, G43A, R1113, R110]                                                                     \n",
       "11  [J988, J069, A499, J22, J209, Z593, T179, J0410, Z1383, J189, J998, P289, J399]                                                     \n",
       "12  [E119, E118, O2411, E109, E139, E113, E148, E149, E8881, Z833, E117, D649, Z863]                                                    \n",
       "13  [R2989, P702, G600, Q249, Z6790, B483, T561, E708, G601, Q871, R75, M151, H355, C801, A157, H578, Z8669, L678, F918]                \n",
       "14  [K130, L853, R682, J392, L678, M359, R238, R234, H041, T148X, K148, J3489]                                                          \n",
       "\n",
       "                                                                                                                                                                                                                                                                                                                                                                                                                                                                                                                                                              resolutions  \\\n",
       "0   [gestational diabetes mellitus, postpartum gestational diabetes mellitus, history of gestational diabetes mellitus, history of gestational diabetes mellitus (situation), pre-existing diabetes mellitus in pregnancy, pre-existing diabetes mellitus in pregnancy (disorder), postpartum gestational diabetes mellitus (disorder), pre-existing type 2 diabetes mellitus in pregnancy, other pre-existing diabetes mellitus in pregnancy]                                                                                                                              \n",
       "1   [pre-existing type 2 diabetes mellitus, disorder associated with type 2 diabetes mellitus, type 2 diabetes mellitus, secondary diabetes mellitus, disorder of eye due to type 2 diabetes mellitus, disorder of nervous system due to type 2 diabetes mellitus, history of diabetes mellitus type 2 (situation), history of diabetes mellitus type 2, secondary endocrine diabetes mellitus, neurological disorder with type 2 diabetes mellitus, multiple complications of type 2 diabetes mellitus, peripheral circulatory disorder due to type 2 diabetes mellitus]   \n",
       "2   [type 2 diabetes mellitus, disorder associated with type 2 diabetes mellitus, pre-existing type 2 diabetes mellitus, diabetes mellitus, secondary diabetes mellitus, disorder of eye with type 2 diabetes mellitus, disorder associated with diabetes mellitus, dm - diabetes mellitus, insulin resistance in diabetes, fh: diabetes mellitus, multiple complications of type 2 diabetes mellitus, anemia of diabetes, h/o: diabetes mellitus]                                                                                                                          \n",
       "3   [alcohol-induced pancreatitis, drug-induced acute pancreatitis, hemorrhagic pancreatitis, alcohol-induced chronic pancreatitis, alcohol-induced acute pancreatitis (disorder), pancreatitis, traumatic acute pancreatitis (disorder), necrotizing pancreatitis, traumatic acute pancreatitis, post-ercp acute pancreatitis, gallstone acute pancreatitis]                                                                                                                                                                                                               \n",
       "4   [acute hepatitis a, acute hepatitis, acute infectious hepatitis, acute hepatitis e, acute infectious hepatitis suspected, acute focal hepatitis, toxic liver disease with acute hepatitis, fulminant hepatitis, acute hepatitis b, acute alcoholic hepatitis, acute fulminating viral hepatitis]                                                                                                                                                                                                                                                                        \n",
       "5   [obesity, abdominal obesity, obese, central obesity, overweight and obesity, morbid obesity, h/o: obesity, severe obesity, centripetal obesity, fh: obesity, truncal obesity]                                                                                                                                                                                                                                                                                                                                                                                           \n",
       "6   [finding of body mass index, observation of body mass index, mass of body region, finding of body mass index (finding), mass of upper limb, head and neck mass, body mass index [bmi], mass of trunk, mass of head, preoccupation with body size, finding of size of upper limb, mass of cardiovascular structure, mass of abdominal cavity structure, increase in circumference, finding of proportion of upper limb, visible abdominal mass, observation of size of upper limb]                                                                                       \n",
       "7   [polyuria, polyuric state, polyuric state (disorder), hematuria, micturition frequency and polyuria, uricosuria, pollakiuria, saccharopinuria, oligouria, dysuria, hematuria syndrome, cystinuria, cyclic proteinuria, sialuria, paroxysmal proteinuria, renal hematuria (disorder), oliguria and anuria, proteinuria, persistent hematuria (disorder), oxyuriasis]                                                                                                                                                                                                     \n",
       "8   [polydipsia, psychogenic polydipsia, primary polydipsia, psychogenic polydipsia (disorder), polyhydramnios, parasomnia, polyalgia, polyphagia, biphasic stridor, oscillopsia, parasystole (disorder), dyssomnia, parasomnia (disorder), hypersomnia (disorder), polyrrhinia, palpitations - irregular, intermittent palpitations, vagal apnea, secondary parasomnia, vagal apnoea, polymyalgia]                                                                                                                                                                         \n",
       "9   [poor appetite, poor feeding, bad taste in mouth, unpleasant taste in mouth, poor fluid intake, bad breath, low libido, diet poor (finding), poor respiratory drive, patient dissatisfied with nutrition regime, general weakness, diminished pleasure, poor erection, psychogenic loss of appetite, stomach discomfort, poor self-esteem]                                                                                                                                                                                                                              \n",
       "10  [vomiting, intermittent vomiting, vomiting symptoms, periodic vomiting, functional vomiting, finding of vomiting, c/o - vomiting, cyclical vomiting, faeculent vomit o/e, nausea]                                                                                                                                                                                                                                                                                                                                                                                       \n",
       "11  [respiratory tract infection, upper respiratory tract infection, bacterial respiratory infection, acute respiratory infection, bronchial infection, institution-acquired respiratory infection, foreign body in respiratory tract, tracheal infection, suspected respiratory disease, pulmonary infection, parasitic respiratory tract infection, respiratory disease, disease of upper respiratory tract]                                                                                                                                                              \n",
       "12  [type 2 diabetes mellitus, disorder associated with type 2 diabetes mellitus, pre-existing type 2 diabetes mellitus, diabetes mellitus, secondary diabetes mellitus, disorder of eye with type 2 diabetes mellitus, disorder associated with diabetes mellitus, dm - diabetes mellitus, insulin resistance in diabetes, fh: diabetes mellitus, multiple complications of type 2 diabetes mellitus, anemia of diabetes, h/o: diabetes mellitus]                                                                                                                          \n",
       "13  [thomas' sign, tndm1, hmsn v, thomas syndrome, gerbich type, geotrichosis, hydrargyrism, histidinaemia, hmsn iv, lentiglobus, finding of hiv status, heberden node, hmsn vii, tx category (finding), ghon tubercle, thomas' syndrome, h/o: tia, tay syndrome, temper tantrum]                                                                                                                                                                                                                                                                                           \n",
       "14  [dry lips, dry skin, dry mouth, unspecified, dry throat, dry hair, dry mouth, dry periwound skin, dry skin (finding), dry eyes, dry periwound skin (finding), on examination - dry tongue, nasal mucosa dry (finding)]                                                                                                                                                                                                                                                                                                                                                  \n",
       "\n",
       "   icd10_code_SCE  \\\n",
       "0   O244            \n",
       "1   O2413           \n",
       "2   O244            \n",
       "3   E139            \n",
       "4   B169            \n",
       "5   O9921           \n",
       "6   E1300           \n",
       "7   R35             \n",
       "8   F6389           \n",
       "9   F500            \n",
       "10  R197            \n",
       "11  Z870            \n",
       "12  E116            \n",
       "13  E139            \n",
       "14  R238            \n",
       "\n",
       "                                                                                                                     all_codes_SCE  \\\n",
       "0   [O244, O2443, O2441, O2442, O2413]                                                                                               \n",
       "1   [O2413, E116, E1143, O2411, E1110, E1133, O241, E114, O2412, E111, E1169, E113, K318, E112, O244, H211X, E109, E1129, E162]      \n",
       "2   [O244, O2413, O2411, L83, O241, E1143, E119, E113, O2441, O2412, E116, E109, E1169, E1135, E1110]                                \n",
       "3   [E139, E1069, Z924, K903, K8532, E104, K918, K8502, K8522, K318, K8512, E1143, E46, K8510, E106, E091, K8590, E1043]             \n",
       "4   [B169, B159, B162, B179, B160, K712, E8021, F1098, B181, G318, O9843, O266]                                                      \n",
       "5   [O9921, E233, E236, O2600, E669, E668, R7302, E662, E349, E6601, R730, E1169]                                                    \n",
       "6   [E1300, R730, R7302, E110, R628, P90, E0900, O2441, O211, O9921, E668, O992, E090, E233, O2413, E662, E111, O2443, O998, N911]   \n",
       "7   [R35, D595, O139, D6869, O133, O122, O1225, O1223, O1222, O132, O1220, O149, N020, O1215]                                        \n",
       "8   [F6389, R631, E232, F639, G473, G470, O9989, A691, E870, Z8742, Z874, R060, D595, E806, O40, R32, O997, Q043, E662]              \n",
       "9   [F500, F508, F5001, F502, R636, K117, E161, E86, R630, E43, R104, P05]                                                           \n",
       "10  [R197, P783, R11, R1110, P9209, A099, G43A, R112, O210, F505, A0811]                                                             \n",
       "11  [Z870, Z8709, J470, J988, A499, J22, Y839, Z593, J158, J156, A420, B20, J202, O3689]                                             \n",
       "12  [E116, E1169, Z794, E113, O2411, E7889, E119, E1132]                                                                             \n",
       "13  [E139, R730, Z794, E119, E136, O0929, E1300, Z7984, E748, O241, T8090, Z7689, Z922, E118]                                        \n",
       "14  [R238, K130, K148, Z0189, J392, R682, M359, T148X, J3489, N908, L853, O3681]                                                     \n",
       "\n",
       "                                                                                                                                                                                                                                                                                                                                                                                                                                                                                                                                                                                                                                                                                                                                                                                                                                                                                                                                                                                                                                                                                                            resolutions_SCE  \n",
       "0   [gestational diabetes mellitus, class d, gestational diabetes mellitus in the puerperium, gestational diabetes mellitus, class a>1<, gestational diabetes mellitus in childbirth, pre-existing type 2 diabetes mellitus, in the puerperium]                                                                                                                                                                                                                                                                                                                                                                                                                                                                                                                                                                                                                                                                                                                                                                                                                                                                              \n",
       "1   [pre-existing type 2 diabetes mellitus, in the puerperium, gastroparesis co-occurrent and due to type 2 diabetes mellitus, gastroparesis with type 2 diabetes mellitus, pregnancy and type 2 diabetes mellitus, ketoacidosis due to type 2 diabetes mellitus, moderate nonproliferative retinopathy co-occurrent and due to type 2 diabetes mellitus, pre-existing type 2 diabetes mellitus in pregnancy, cranial nerve palsy co-occurrent and due to type 2 diabetes mellitus, pre-existing type 2 diabetes mellitus, in childbirth, ketoacidosis due to type 2 diabetes mellitus (disorder), angina due to type 2 diabetes mellitus, rubeosis iridis co-occurrent and due to type 2 diabetes mellitus, diabetic gastroparesis associated with type 2 diabetes mellitus, persistent microalbuminuria due to type 2 diabetes mellitus, gestational diabetes mellitus, class d, rubeosis iridis due to type 2 diabetes mellitus, acanthosis nigricans due to type 2 diabetes mellitus, persistent microalbuminuria due to type 2 diabetes mellitus (disorder), post hypoglycemic hyperglycemia due to diabetes mellitus]  \n",
       "2   [gestational diabetes mellitus, class a>2<, pre-existing type 2 diabetes mellitus, in the puerperium, pregnancy and type 2 diabetes mellitus, type 2 diabetes mellitus with acanthosis nigricans, pre-existing type 2 diabetes mellitus in pregnancy, gastroparesis with type 2 diabetes mellitus, type 2 diabetes mellitus in obese, rubeosis iridis with type 2 diabetes mellitus, gestational diabetes mellitus, class a>1<, pre-existing type 2 diabetes mellitus, in childbirth, gastroparesis co-occurrent and due to type 2 diabetes mellitus, acanthosis nigricans due to type 2 diabetes mellitus, diabetes mellitus type 2 in obese (disorder), type 2 diabetes with stable prolif diabetic rtnop, bilateral, ketoacidosis in type 2 diabetes mellitus]                                                                                                                                                                                                                                                                                                                                                        \n",
       "3   [congenital insulin-dependent diabetes mellitus with fatal secretory diarrhea, congenital insulin-dependent diabetes mellitus with fatal secretory diarrhoea, postprocedural pancreatic steatorrhea, postprocedural pancreatic steatorrhea (disorder), drug induced acute pancreatitis with infected necrosis, diabetes type 1 with gastroparesis, post-endoscopic retrograde cholangiopancreatography acute pancreatitis (disorder), idiopathic acute pancreatitis with infected necrosis, alcohol induced acute pancreatitis with infected necrosis, gastroparesis due to diabetes mellitus type i, biliary acute pancreatitis with infected necrosis, gastroparesis due to diabetes mellitus type ii, ketoacidosis due to malnutrition related diabetes mellitus (disorder), gallstone acute pancreatitis (disorder), gastroparesis due to type 1 diabetes mellitus, drug or chemical induced diabetes mellitus with ketoacidosis, acute hemorrhagic pancreatitis (disorder), gastroparesis with type 1 diabetes mellitus]                                                                                            \n",
       "4   [acute fulminating type b viral hepatitis (disorder), acute fulminating type a viral hepatitis (disorder), hepatic coma due to acute hepatitis b, acute fulminating viral hepatitis (disorder), acute viral hepatitis b with hepatic coma, toxic liver disease with acute hepatitis (disorder), acute intermittent (hepatic) porphyria, ketoacidosis due to acute alcoholic intoxication, chronic viral hepatitis b with hepatic coma, recurrent acute necrotizing encephalopathy, viral hepatitis complicating the puerperium, acute fatty liver of pregnancy]                                                                                                                                                                                                                                                                                                                                                                                                                                                                                                                                                          \n",
       "5   [severe obesity complicating pregnancy, rapid-onset childhood obesity, hypothalamic dysfunction, hypoventilation, autonomic dysregulation syndrome, hypothalamic infantilism with obesity syndrome, maternal obesity syndrome, lifelong obesity, gynaecoid obesity, impaired glucose tolerance in obese, rapid-onset childhood obesity, hypothalamic dysfunction, hypoventilation, autonomic dysregulation syndrome (disorder), severe obesity, morbid (severe) obesity due to excess calories, impaired glucose tolerance in obese (disorder), diabetes mellitus type 2 in obese (disorder)]                                                                                                                                                                                                                                                                                                                                                                                                                                                                                                                            \n",
       "6   [hyperosmolarity due to secondary diabetes mellitus, impaired glucose tolerance in obese (disorder), impaired glucose tolerance in obese, type 2 diabetes mellitus with hyperosmolarity, body weight abnormal for age (finding), obesity by age of onset, hyperosmolarity due to drug induced diabetes mellitus, gestational diabetes, hyperemesis gravidarum with metabolic disturbance, severe obesity complicating pregnancy, obesity by age of onset (disorder), hyperglycemic disorder in pregnancy, drug or chemical induced diabetes mellitus w hyperosmolarity, rapid-onset childhood obesity, hypothalamic dysfunction, hypoventilation, autonomic dysregulation syndrome, pre-existing type 2 diabetes mellitus, in the puerperium, rapid-onset childhood obesity, hypothalamic dysfunction, hypoventilation, autonomic dysregulation syndrome (disorder), type 2 diabetes mellitus with ketoacidosis, postpartum gestational diabetes mellitus, pregnancy and impaired glucose tolerance, amenorrhoea associated with obesity]                                                                                \n",
       "7   [polyuria, pnh - paroxysmal nocturnal hemoglobinuria, gestational htn w/o significant proteinuria, unsp trimester, thrombophilia due to paroxysmal nocturnal hemoglobinuria, gestational htn w/o significant proteinuria, third trimester, gestational oedema with proteinuria, gestational edema with proteinuria, comp the puerperium, gestational edema with proteinuria, third trimester, gestational edema with proteinuria, second trimester, gestatnl htn w/o significant proteinuria, second trimester, gestational edema with proteinuria, eph - edema, proteinuria and hypertension of pregnancy, recurrent and persistent hematuria w minor glomerular abnlt, gestational proteinuria, complicating the puerperium]                                                                                                                                                                                                                                                                                                                                                                                           \n",
       "8   [psychogenic polydipsia, polydipsia, primary polydipsia, psychogenic polydipsia (disorder), autoimmune encephalopathy with parasomnia and obstructive sleep apnoea, insomnia co-occurrent and due to nocturnal myoclonus, polyhydramnios (disorder), vincent angina - pharyngitis, hypodipsia/adipsia, history of polymenorrhea, history of - polymenorrhea, pnd - paroxysmal nocturnal dyspnea, pnh - paroxysmal nocturnal hemoglobinuria, cyclic premenstrual unconjugated hyperbilirubinemia (disorder), polyhydramnios, nocturnal and diurnal enuresis (disorder), early onset pregnancy prurigo, occipital pachygyria and polymicrogyria, rapid-onset childhood obesity, hypothalamic dysfunction, hypoventilation, autonomic dysregulation syndrome (disorder)]                                                                                                                                                                                                                                                                                                                                                    \n",
       "9   [anorexia nervosa co-occurrent with dangerously low body weight, psychogenic loss of appetite, dangerously low body weight co-occurrent and due to anorexia nervosa of restricting type (disorder), anorexia nervosa, binge-eating purging type with dangerously low body weight, dangerously low body weight co-occurrent and due to anorexia nervosa of binge-eating purging type, xerostomia due to dehydration, idiopathic postprandial hypoglycemia (disorder), xerostomia due to dehydration (disorder), poor appetite, edema co-occurrent and due to nutritional deficiency (disorder), on examination - abdominal pain - hypogastrium, disord of nb related to slow fetal growth and fetal malnut]                                                                                                                                                                                                                                                                                                                                                                                                               \n",
       "10  [d&v - diarrhea and vomiting, d&v - diarrhoea and vomiting, d+v - diarrhea and vomiting, d+v - diarrhoea and vomiting, diarrhea and vomiting, diarrhoea and vomiting, cyclical vomiting syndrome, refractory nausea and vomiting, excessive vomiting in pregnancy, psychogenic cyclical vomiting, epidemic vomiting syndrome]                                                                                                                                                                                                                                                                                                                                                                                                                                                                                                                                                                                                                                                                                                                                                                                            \n",
       "11  [history of acute lower respiratory tract infection (situation), history of acute lower respiratory tract infection, bronchiectasis with acute lower respiratory infection, rti - respiratory tract infection, bacterial respiratory infection, acute respiratory infections, postoperative lower respiratory tract infection, institution-acquired respiratory infection, pneumonia due to aerobic bacteria, pneumonia caused by aerobic bacteria, pneumonia due to anaerobic bacteria, recurrent lower respiratory tract infection, acute bronchitis due to streptococcus, antibiotic given for suspected neonatal sepsis]                                                                                                                                                                                                                                                                                                                                                                                                                                                                                             \n",
       "12  [mixed hyperlipidemia due to type 2 diabetes mellitus (disorder), mixed hyperlipidemia due to type 2 diabetes mellitus, insulin treated type 2 diabetes mellitus, rubeosis iridis with type 2 diabetes mellitus, pregnancy and type 2 diabetes mellitus, dyslipidemia due to type 2 diabetes mellitus, insulin treated type ii diabetes mellitus, nonproliferative retinopathy co-occurrent and due to type 2 diabetes mellitus (disorder)]                                                                                                                                                                                                                                                                                                                                                                                                                                                                                                                                                                                                                                                                              \n",
       "13  [diabetes mellitus associated with hormonal etiology (disorder), impaired glucose tolerance associated with hormonal etiology, insulin treated type 2 diabetes mellitus (disorder), insulin treated type ii diabetes mellitus, genetic syndromes of diabetes mellitus, supervision of high risk pregnancy with history of gestational diabetes mellitus done (situation), hyperosmolarity due to secondary diabetes mellitus (disorder), diabetic on insulin and oral treatment, glucose tolerance test (gtt) = renal glycosuria (finding), pre-exist type 2 diabetes, in preg, chldbrth and the puerp, diabetic monitoring - injection sites (finding), treatment of obesity started (regime/therapy), history of insulin therapy (situation), disorder due to well controlled type 2 diabetes mellitus (disorder)]                                                                                                                                                                                                                                                                                                     \n",
       "14  [on examination - dry skin, on examination - dry lips, on examination - dry tongue, nose examination - normal (finding), dry throat, dry mouth, unspecified, dry mouth, dry periwound skin (finding), nasal mucosa dry, vulval dryness, c/o: dry skin, on examination - no fetal movements]                                                                                                                                                                                                                                                                                                                                                                                                                                                                                                                                                                                                                                                                                                                                                                                                                              "
      ]
     },
     "execution_count": 21,
     "metadata": {},
     "output_type": "execute_result"
    }
   ],
   "source": [
    "sentence_df = icd10_result.select(F.explode(F.arrays_zip('sentence.metadata', 'sentence.result')).alias(\"cols\")) \\\n",
    "                                .select( F.expr(\"cols['0']['sentence']\").alias(\"sent_id\"),\n",
    "                                         F.expr(\"cols['1']\").alias(\"sentence_all\")).toPandas()\n",
    "\n",
    "comparison_df = pd.merge(res_pd.loc[:,'sent_id':'resolutions'],res_SCE_pd.loc[:,'sent_id':'resolutions'], on=['sent_id',\"ner_chunk\", \"entity\"], how='inner')\n",
    "comparison_df.columns=['sent_id','ner_chunk', 'entity', 'icd10_code', 'all_codes', 'resolutions', 'icd10_code_SCE', 'all_codes_SCE', 'resolutions_SCE']\n",
    "\n",
    "comparison_df = pd.merge(sentence_df, comparison_df,on=\"sent_id\").drop('sent_id', axis=1)\n",
    "comparison_df.head(15)"
   ]
  }
 ],
 "metadata": {
  "colab": {
   "collapsed_sections": [],
   "name": "24.Improved_Entity_Resolvers_in_SparkNLP_with_sBert.ipynb",
   "provenance": [
    {
     "file_id": "https://github.com/JohnSnowLabs/spark-nlp-workshop/blob/master/tutorials/Certification_Trainings/Healthcare/24.Improved_Entity_Resolvers_in_SparkNLP_with_sBert.ipynb",
     "timestamp": 1638442303759
    }
   ],
   "toc_visible": true
  },
  "kernelspec": {
   "display_name": "Environment (conda_tensorflow_p36)",
   "language": "python",
   "name": "conda_tensorflow_p36"
  },
  "language_info": {
   "codemirror_mode": {
    "name": "ipython",
    "version": 3
   },
   "file_extension": ".py",
   "mimetype": "text/x-python",
   "name": "python",
   "nbconvert_exporter": "python",
   "pygments_lexer": "ipython3",
   "version": "3.6.10"
  }
 },
 "nbformat": 4,
 "nbformat_minor": 1
}

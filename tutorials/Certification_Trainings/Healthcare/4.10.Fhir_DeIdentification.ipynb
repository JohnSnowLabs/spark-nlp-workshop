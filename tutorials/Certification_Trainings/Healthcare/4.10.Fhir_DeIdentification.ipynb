{
 "cells": [
  {
   "cell_type": "markdown",
   "metadata": {
    "id": "AzRkvLe7b9Vc"
   },
   "source": [
    "![JohnSnowLabs](https://nlp.johnsnowlabs.com/assets/images/logo.png)"
   ]
  },
  {
   "cell_type": "markdown",
   "metadata": {
    "id": "1pDEXrHmcCs8"
   },
   "source": [
    "[![Open In Colab](https://colab.research.google.com/assets/colab-badge.svg)](https://colab.research.google.com/github/JohnSnowLabs/spark-nlp-workshop/blob/master/tutorials/Certification_Trainings/Healthcare/4.10.Fhir_DeIdentification.ipynb)"
   ]
  },
  {
   "cell_type": "markdown",
   "metadata": {
    "id": "Y3RIal3B612V"
   },
   "source": [
    "## 🔐 Spark Transformer for De-identifying FHIR Resources\n"
   ]
  },
  {
   "cell_type": "markdown",
   "metadata": {
    "id": "K1OsqJe0JvRa"
   },
   "source": [
    "> 📌 **Note: FhirDeIdentification Module Availability**  \n",
    ">\n",
    "> The `FhirDeIdentification` module is not enabled by default in your current package.  \n",
    "> ➤ To use this module, please set `fhir_deid=True` in the `start()` function.  \n",
    "> ➤ If you need help or access, feel free to contact us at 📧 [support@johnsnowlabs.com](mailto:support@johnsnowlabs.com).\n",
    "\n",
    "\n"
   ]
  },
  {
   "cell_type": "markdown",
   "metadata": {
    "id": "gBpRXohc690F"
   },
   "source": [
    "This Spark-based transformer de-identifies **FHIR (Fast Healthcare Interoperability Resources)** according to configurable privacy rules.\n",
    "\n",
    "It supports **field-level obfuscation** of FHIR JSON documents using **FHIR Path** expressions.\n",
    "\n",
    "---\n",
    "\n",
    "## ✅ Key Features\n",
    "\n",
    "- 📦 **FHIR Versions**: Supports `R4`, `R5`, and `DSTU3`\n",
    "- 🧠 **Type-aware De-identification** strategies\n",
    "- 🧾 **Parser Types**: Supports both `JSON` and `XML`\n",
    "- ⚙️ **Modes**: `mask` or `obfuscate`\n",
    "\n",
    "---\n",
    "\n",
    "\n",
    "\n"
   ]
  },
  {
   "cell_type": "markdown",
   "metadata": {
    "id": "w9tIseDeKJ8c"
   },
   "source": [
    "## 🔧 Parameters\n",
    "\n",
    "| **Parameter** | **Description** |\n",
    "|----------------|-----------------|\n",
    "| **fhirVersion** | FHIR version to use for de-identification. Options: [‘R4’, ‘R5’, ‘DSTU3’] |\n",
    "| **parserType** | Parser type to use for de-identification. Options: [‘JSON’, ‘XML’] |\n",
    "| **mode** | Mode for Anonymizer. Options: [‘mask’, ‘obfuscate’] |\n",
    "| **dateEntities** | List of date entities. Default: [‘DATE’, ‘DOB’, ‘DOD’] |\n",
    "| **obfuscateDate** | When mode == \"obfuscate\", determines whether to obfuscate dates. If True and obfuscation fails, unnormalizedDateMode is used. |\n",
    "| **unnormalizedDateMode** | Mode to use for unformatted dates. Options: [‘mask’, ‘obfuscate’, ‘skip’]. Default: ‘obfuscate’ |\n",
    "| **days** | Number of days to displace dates for obfuscation. If not set, a random value between 1 and 60 is used. |\n",
    "| **dateFormats** | List of date formats to automatically displace if parsed. |\n",
    "| **obfuscateRefSource** | Source for obfuscating entities (non-date). Options: [‘custom’, ‘faker’, ‘both’] |\n",
    "| **language** | Language for regex and faker data. Options: [‘en’, ‘de’, ‘es’, ‘fr’, ‘ar’, ‘ro’]. Default: ‘en’ |\n",
    "| **seed** | Seed for deterministic obfuscation results. |\n",
    "| **maskingPolicy** | Masking policy. Options: [‘same_length_chars’, ‘entity_labels’, ‘fixed_length_chars’] |\n",
    "| **fixedMaskLength** | Mask length when using ‘fixed_length_chars’ policy. |\n",
    "| **sameLengthFormattedEntities** | List of formatted entities to preserve length during obfuscation. Supported: PHONE, FAX, ID, IDNUM, BIOID, MEDICALRECORD, ZIP, VIN, SSN, DLN, LICENSE, PLATE |\n",
    "| **genderAwareness** | Use gender-aware names during obfuscation. Default: False |\n",
    "| **ageRanges** | Integer list defining limits of age groups to preserve during obfuscation. |\n",
    "| **selectiveObfuscationModes** | Dictionary of entity-wise obfuscation modes. Example: {‘NAME’: [‘mask_entity_labels’], ‘PHONE’: [‘obfuscate’]} |\n",
    "| **customFakers** | Custom dictionary of faker terms to use for specific entities. |\n",
    "| **keepYear** | Keep year intact during date obfuscation. Default: False |\n",
    "| **keepMonth** | Keep month intact during date obfuscation. Default: False |\n",
    "\n",
    "---\n",
    "\n",
    "💡 *Use this module to ensure privacy-compliant handling of healthcare data while maintaining structure and usability of FHIR resources.*"
   ]
  },
  {
   "cell_type": "markdown",
   "metadata": {
    "id": "hFnp54pAhz4f"
   },
   "source": [
    "⚠️ Attention!\n",
    "💡 The Fhir_Deidentification model is not supported by every version of the Spark NLP for Healthcare library.\n",
    "🚨 If you encounter an error when starting the Spark Session, please contact 📧 info@jonsnowlabs.com\n",
    ".\n",
    "✅ For example, this notebook works properly with version 6.0.0."
   ]
  },
  {
   "cell_type": "markdown",
   "metadata": {
    "id": "pUL4uw_q8Axh"
   },
   "source": [
    "# Setup"
   ]
  },
  {
   "cell_type": "code",
   "execution_count": null,
   "metadata": {
    "id": "oyeWNjgKd3KS"
   },
   "outputs": [],
   "source": [
    "import json, os\n",
    "from google.colab import files\n",
    "\n",
    "if 'spark_jsl.json' not in os.listdir():\n",
    "  license_keys = files.upload()\n",
    "  os.rename(list(license_keys.keys())[0], 'spark_jsl.json')\n",
    "\n",
    "with open('spark_jsl.json') as f:\n",
    "    license_keys = json.load(f)\n",
    "\n",
    "# Defining license key-value pairs as local variables\n",
    "locals().update(license_keys)\n",
    "os.environ.update(license_keys)"
   ]
  },
  {
   "cell_type": "code",
   "execution_count": null,
   "metadata": {
    "id": "FTqs13zkeFYh"
   },
   "outputs": [],
   "source": [
    "# Installing pyspark and spark-nlp\n",
    "! pip install --upgrade -q pyspark==3.5.1 spark-nlp==$PUBLIC_VERSION\n",
    "\n",
    "# Installing Spark NLP Healthcare\n",
    "! pip install --upgrade -q spark-nlp-jsl==$JSL_VERSION  --extra-index-url https://pypi.johnsnowlabs.com/$SECRET\n",
    "\n",
    "# Installing Spark NLP Display Library for visualization\n",
    "! pip install -q spark-nlp-display"
   ]
  },
  {
   "cell_type": "code",
   "execution_count": null,
   "metadata": {
    "colab": {
     "base_uri": "https://localhost:8080/",
     "height": 258
    },
    "executionInfo": {
     "elapsed": 153550,
     "status": "ok",
     "timestamp": 1759167055536,
     "user": {
      "displayName": "Mehmet Dağ",
      "userId": "14052875917891496135"
     },
     "user_tz": -180
    },
    "id": "X470BGToedT0",
    "outputId": "b04e40ea-13f3-4ca4-a083-0cae2233e7ee"
   },
   "outputs": [
    {
     "name": "stdout",
     "output_type": "stream",
     "text": [
      "Spark NLP Version : 6.0.0\n",
      "Spark NLP_JSL Version : 6.0.0\n"
     ]
    },
    {
     "data": {
      "text/html": [
       "\n",
       "            <div>\n",
       "                <p><b>SparkSession - in-memory</b></p>\n",
       "                \n",
       "        <div>\n",
       "            <p><b>SparkContext</b></p>\n",
       "\n",
       "            <p><a href=\"http://d7f0e9378393:4040\">Spark UI</a></p>\n",
       "\n",
       "            <dl>\n",
       "              <dt>Version</dt>\n",
       "                <dd><code>v3.5.1</code></dd>\n",
       "              <dt>Master</dt>\n",
       "                <dd><code>local[*]</code></dd>\n",
       "              <dt>AppName</dt>\n",
       "                <dd><code>Spark NLP Licensed</code></dd>\n",
       "            </dl>\n",
       "        </div>\n",
       "        \n",
       "            </div>\n",
       "        "
      ],
      "text/plain": [
       "<pyspark.sql.session.SparkSession at 0x7eb10bfbbbf0>"
      ]
     },
     "execution_count": 3,
     "metadata": {},
     "output_type": "execute_result"
    }
   ],
   "source": [
    "from pyspark.ml import Pipeline,PipelineModel\n",
    "import sparknlp_jsl\n",
    "import sparknlp\n",
    "from sparknlp.annotator import *\n",
    "from sparknlp_jsl.annotator import *\n",
    "from sparknlp.base import *\n",
    "from sparknlp.pretrained import PretrainedPipeline\n",
    "import warnings\n",
    "warnings.filterwarnings('ignore')\n",
    "\n",
    "spark = sparknlp_jsl.start(secret = license_keys[\"SECRET\"],fhir_deid=True)\n",
    "\n",
    "print (\"Spark NLP Version :\", sparknlp.version())\n",
    "print (\"Spark NLP_JSL Version :\", sparknlp_jsl.version())\n",
    "\n",
    "spark"
   ]
  },
  {
   "cell_type": "code",
   "execution_count": null,
   "metadata": {
    "id": "pbfrRFl8egD9"
   },
   "outputs": [],
   "source": [
    "from IPython.display import clear_output"
   ]
  },
  {
   "cell_type": "markdown",
   "metadata": {
    "id": "dahqH8YSfWOG"
   },
   "source": [
    "# Util Functions"
   ]
  },
  {
   "cell_type": "code",
   "execution_count": null,
   "metadata": {
    "id": "MNf2iWhRe7Ze"
   },
   "outputs": [],
   "source": [
    "def read_fhir_as_dict(path: str):\n",
    "  with open(path, \"r\") as f:\n",
    "      data = json.load(f)\n",
    "  return data"
   ]
  },
  {
   "cell_type": "code",
   "execution_count": null,
   "metadata": {
    "id": "d7AQWlTJfCG-"
   },
   "outputs": [],
   "source": [
    "def read_fhir_as_str(path: str) -> str:\n",
    "  with open(path, 'r') as f:\n",
    "      return f.read()"
   ]
  },
  {
   "cell_type": "code",
   "execution_count": null,
   "metadata": {
    "id": "_mRWaRJofN1i"
   },
   "outputs": [],
   "source": [
    "def parse_str_to_dict(fhir_str: str) -> dict:\n",
    "  return json.loads(fhir_str)"
   ]
  },
  {
   "cell_type": "code",
   "execution_count": null,
   "metadata": {
    "id": "AMQm52OrfPjO"
   },
   "outputs": [],
   "source": [
    "def parse_dict_to_str(fhir_dict: dict) -> str:\n",
    "  return json.dumps(fhir_dict)"
   ]
  },
  {
   "cell_type": "code",
   "execution_count": null,
   "metadata": {
    "id": "m7Hdwkg4fREk"
   },
   "outputs": [],
   "source": [
    "def show_fhir_diff(original: dict, obfuscated: dict):\n",
    "    \"\"\"Show only changed fields between two FHIR dicts (nested-aware)\"\"\"\n",
    "    def compare_dicts(d1, d2, path=\"\"):\n",
    "        diff = {}\n",
    "        for key in d1:\n",
    "            current_path = f\"{path}.{key}\" if path else key\n",
    "            if key not in d2:\n",
    "                pass\n",
    "            elif isinstance(d1[key], dict) and isinstance(d2[key], dict):\n",
    "                nested_diff = compare_dicts(d1[key], d2[key], current_path)\n",
    "                diff.update(nested_diff)\n",
    "            elif isinstance(d1[key], list) and isinstance(d2[key], list):\n",
    "                for i, (item1, item2) in enumerate(zip(d1[key], d2[key])):\n",
    "                    if isinstance(item1, dict) and isinstance(item2, dict):\n",
    "                        nested_diff = compare_dicts(item1, item2, f\"{current_path}[{i}]\")\n",
    "                        diff.update(nested_diff)\n",
    "                    elif item1 != item2:\n",
    "                        diff[f\"{current_path}[{i}]\"] = (item1, item2)\n",
    "            elif d1[key] != d2[key]:\n",
    "                diff[current_path] = (d1[key], d2[key])\n",
    "        return diff\n",
    "\n",
    "    differences = compare_dicts(original, obfuscated)\n",
    "\n",
    "    for field, (orig_val, obf_val) in differences.items():\n",
    "        print(f\"Changed: {field} | {orig_val} → {obf_val}\")"
   ]
  },
  {
   "cell_type": "markdown",
   "metadata": {
    "id": "qnLXzq4sfc1h"
   },
   "source": [
    "# Basic Examples to Show Functionalities\n"
   ]
  },
  {
   "cell_type": "code",
   "execution_count": null,
   "metadata": {
    "id": "E91xQczXfaS6"
   },
   "outputs": [],
   "source": [
    "john_doe = \"\"\"{\n",
    "  \"resourceType\": \"Patient\",\n",
    "  \"id\": \"example\",\n",
    "  \"name\": [\n",
    "    {\n",
    "      \"use\": \"official\",\n",
    "      \"family\": \"Doe\",\n",
    "      \"given\": [\n",
    "        \"John\",\n",
    "        \"Michael\"\n",
    "      ]\n",
    "    }\n",
    "  ],\n",
    "  \"telecom\": [\n",
    "    {\n",
    "      \"system\": \"email\",\n",
    "      \"value\": \"john.doe@example.com\"\n",
    "    },\n",
    "    {\n",
    "      \"system\": \"url\",\n",
    "      \"value\": \"http://johndoe.com\"\n",
    "    }\n",
    "  ],\n",
    "  \"birthDate\": \"1970-01-01\",\n",
    "  \"gender\": \"male\"\n",
    "}\"\"\"\n"
   ]
  },
  {
   "cell_type": "code",
   "execution_count": null,
   "metadata": {
    "id": "q-n9AYGTffoF"
   },
   "outputs": [],
   "source": [
    "rules = {\n",
    "  \"Patient.birthDate\" : \"Date\",\n",
    "  \"Patient.name.given\" : \"first_name\",\n",
    "  \"Patient.name.family\" : \"last_name\",\n",
    "  \"Patient.telecom.value\" : \"Email\",\n",
    "  \"Patient.gender\" : \"GENDER\"\n",
    "}\n",
    "\n",
    "fhir = (\n",
    "    FhirDeIdentification()\n",
    "      .setInputCol(\"text\")\n",
    "      .setOutputCol(\"deid\")\n",
    "      .setMode(\"obfuscate\")\n",
    "      .setMappingRules(rules)\n",
    "      .setFhirVersion(\"R4\")\n",
    "      .setParserType(\"JSON\")\n",
    "      .setDays(20)\n",
    "      .setSeed(88)\n",
    "      .setCustomFakers(\n",
    "          {\n",
    "              \"GENDER\": [\"female\", \"other\"]\n",
    "          }\n",
    "      )\n",
    "      .setObfuscateRefSource(\"both\")\n",
    ")"
   ]
  },
  {
   "cell_type": "code",
   "execution_count": null,
   "metadata": {
    "colab": {
     "base_uri": "https://localhost:8080/"
    },
    "executionInfo": {
     "elapsed": 10632,
     "status": "ok",
     "timestamp": 1759167324547,
     "user": {
      "displayName": "Mehmet Dağ",
      "userId": "14052875917891496135"
     },
     "user_tz": -180
    },
    "id": "lginmJaufkwb",
    "outputId": "44ae624e-ca32-4eea-b1be-26c12b0ae06b"
   },
   "outputs": [
    {
     "name": "stdout",
     "output_type": "stream",
     "text": [
      "+------------------------------------------------------------------------------------------------------------------------------------------------------------------------------------------------------------------------------------------------------------------+\n",
      "|deid                                                                                                                                                                                                                                                              |\n",
      "+------------------------------------------------------------------------------------------------------------------------------------------------------------------------------------------------------------------------------------------------------------------+\n",
      "|{\"resourceType\":\"Patient\",\"id\":\"example\",\"name\":[{\"use\":\"official\",\"family\":\"Cease\",\"given\":[\"Mylene\",\"Anola\"]}],\"telecom\":[{\"system\":\"email\",\"value\":\"Bryton@yahoo.com\"},{\"system\":\"url\",\"value\":\"Aurora@google.com\"}],\"gender\":\"other\",\"birthDate\":\"1970-01-21\"}|\n",
      "+------------------------------------------------------------------------------------------------------------------------------------------------------------------------------------------------------------------------------------------------------------------+\n",
      "\n"
     ]
    }
   ],
   "source": [
    "fhir_df = spark.createDataFrame([[john_doe]]).toDF(\"text\")\n",
    "fhir.transform(fhir_df).select(\"deid\").show(truncate=False)"
   ]
  },
  {
   "cell_type": "code",
   "execution_count": null,
   "metadata": {
    "colab": {
     "base_uri": "https://localhost:8080/"
    },
    "executionInfo": {
     "elapsed": 892,
     "status": "ok",
     "timestamp": 1759167325477,
     "user": {
      "displayName": "Mehmet Dağ",
      "userId": "14052875917891496135"
     },
     "user_tz": -180
    },
    "id": "hZQGVVrwfnTo",
    "outputId": "8cb069d3-d1e8-4343-dc2d-8d16d83d93e9"
   },
   "outputs": [
    {
     "data": {
      "text/plain": [
       "{'resourceType': 'Patient',\n",
       " 'id': 'example',\n",
       " 'name': [{'use': 'official',\n",
       "   'family': 'Cease',\n",
       "   'given': ['Mylene', 'Anola']}],\n",
       " 'telecom': [{'system': 'email', 'value': 'Bryton@yahoo.com'},\n",
       "  {'system': 'url', 'value': 'Aurora@google.com'}],\n",
       " 'gender': 'other',\n",
       " 'birthDate': '1970-01-21'}"
      ]
     },
     "execution_count": 13,
     "metadata": {},
     "output_type": "execute_result"
    }
   ],
   "source": [
    "obfuscated_john = parse_str_to_dict(fhir.transform(fhir_df).select(\"deid\").collect()[0][\"deid\"])\n",
    "obfuscated_john"
   ]
  },
  {
   "cell_type": "code",
   "execution_count": null,
   "metadata": {
    "colab": {
     "base_uri": "https://localhost:8080/"
    },
    "executionInfo": {
     "elapsed": 50,
     "status": "ok",
     "timestamp": 1759167325567,
     "user": {
      "displayName": "Mehmet Dağ",
      "userId": "14052875917891496135"
     },
     "user_tz": -180
    },
    "id": "5bYtxqJ0fpa8",
    "outputId": "26251480-3280-4398-bad1-bc7d274fd2fd"
   },
   "outputs": [
    {
     "name": "stdout",
     "output_type": "stream",
     "text": [
      "Changed: name[0].family | Doe → Cease\n",
      "Changed: name[0].given[0] | John → Mylene\n",
      "Changed: name[0].given[1] | Michael → Anola\n",
      "Changed: telecom[0].value | john.doe@example.com → Bryton@yahoo.com\n",
      "Changed: telecom[1].value | http://johndoe.com → Aurora@google.com\n",
      "Changed: birthDate | 1970-01-01 → 1970-01-21\n",
      "Changed: gender | male → other\n"
     ]
    }
   ],
   "source": [
    "show_fhir_diff(parse_str_to_dict(john_doe), obfuscated_john)"
   ]
  },
  {
   "cell_type": "markdown",
   "metadata": {
    "id": "meVx993Kf1Za"
   },
   "source": [
    "## 🛡️ Direct FHIR De-identification Without Spark DataFrames\n"
   ]
  },
  {
   "cell_type": "code",
   "execution_count": null,
   "metadata": {
    "colab": {
     "base_uri": "https://localhost:8080/",
     "height": 54
    },
    "executionInfo": {
     "elapsed": 59,
     "status": "ok",
     "timestamp": 1759167325628,
     "user": {
      "displayName": "Mehmet Dağ",
      "userId": "14052875917891496135"
     },
     "user_tz": -180
    },
    "id": "VnnY6ZjbfxuJ",
    "outputId": "d811f966-54e8-475e-8298-9278248218d7"
   },
   "outputs": [
    {
     "data": {
      "application/vnd.google.colaboratory.intrinsic+json": {
       "type": "string"
      },
      "text/plain": [
       "'{\"resourceType\":\"Patient\",\"id\":\"example\",\"name\":[{\"use\":\"official\",\"family\":\"Cease\",\"given\":[\"Mylene\",\"Anola\"]}],\"telecom\":[{\"system\":\"email\",\"value\":\"Bryton@yahoo.com\"},{\"system\":\"url\",\"value\":\"Aurora@google.com\"}],\"gender\":\"other\",\"birthDate\":\"1970-01-21\"}'"
      ]
     },
     "execution_count": 15,
     "metadata": {},
     "output_type": "execute_result"
    }
   ],
   "source": [
    "fake_john = fhir.deidentify(john_doe)\n",
    "fake_john"
   ]
  },
  {
   "cell_type": "markdown",
   "metadata": {
    "id": "Tlkjjysrf8P1"
   },
   "source": [
    "## ⚙️ Supports List of FHIR Resources with Multi-threaded Processing Under the Hood\n",
    "\n"
   ]
  },
  {
   "cell_type": "code",
   "execution_count": null,
   "metadata": {
    "colab": {
     "base_uri": "https://localhost:8080/"
    },
    "executionInfo": {
     "elapsed": 132,
     "status": "ok",
     "timestamp": 1759167329753,
     "user": {
      "displayName": "Mehmet Dağ",
      "userId": "14052875917891496135"
     },
     "user_tz": -180
    },
    "id": "GqQP56N_f6G5",
    "outputId": "dc534cbc-204f-48cc-ee49-a08156b7812b"
   },
   "outputs": [
    {
     "name": "stdout",
     "output_type": "stream",
     "text": [
      "<class 'list'>\n"
     ]
    },
    {
     "data": {
      "text/plain": [
       "['{\"resourceType\":\"Patient\",\"id\":\"example\",\"name\":[{\"use\":\"official\",\"family\":\"Cease\",\"given\":[\"Mylene\",\"Anola\"]}],\"telecom\":[{\"system\":\"email\",\"value\":\"Bryton@yahoo.com\"},{\"system\":\"url\",\"value\":\"Aurora@google.com\"}],\"gender\":\"other\",\"birthDate\":\"1970-01-21\"}',\n",
       " '{\"resourceType\":\"Patient\",\"id\":\"example\",\"name\":[{\"use\":\"official\",\"family\":\"Capers\",\"given\":[\"Burna\",\"Claria\"]}],\"telecom\":[{\"system\":\"email\",\"value\":\"Adel@google.com\"},{\"system\":\"url\",\"value\":\"Carrey@yahoo.com\"}],\"gender\":\"female\",\"birthDate\":\"1970-02-10\"}']"
      ]
     },
     "execution_count": 16,
     "metadata": {},
     "output_type": "execute_result"
    }
   ],
   "source": [
    "fakes = fhir.deidentify_list([john_doe, fake_john])\n",
    "print(type(fakes))\n",
    "fakes"
   ]
  },
  {
   "cell_type": "markdown",
   "metadata": {
    "id": "Ylo2CBlMgHfo"
   },
   "source": [
    "## XML Support\n"
   ]
  },
  {
   "cell_type": "code",
   "execution_count": null,
   "metadata": {
    "id": "z-HEpuSmgEFd"
   },
   "outputs": [],
   "source": [
    "xml_john = \"\"\"\n",
    "<Patient xmlns=\"http://hl7.org/fhir\">\n",
    "  <id value=\"example\"/>\n",
    "  <name>\n",
    "    <use value=\"official\"/>\n",
    "    <family value=\"Doe\"/>\n",
    "    <given value=\"John\"/>\n",
    "    <given value=\"Michael\"/>\n",
    "  </name>\n",
    "  <telecom>\n",
    "    <system value=\"email\"/>\n",
    "    <value value=\"john.doe@example.com\"/>\n",
    "  </telecom>\n",
    "  <telecom>\n",
    "    <system value=\"url\"/>\n",
    "    <value value=\"http://johndoe.com\"/>\n",
    "  </telecom>\n",
    "  <birthDate value=\"1970-01-01\"/>\n",
    "  <gender value=\"male\"/>\n",
    "</Patient>\n",
    "\"\"\"\n"
   ]
  },
  {
   "cell_type": "code",
   "execution_count": null,
   "metadata": {
    "id": "BPt3h4R0gJjy"
   },
   "outputs": [],
   "source": [
    "rules = {\n",
    "  \"Patient.birthDate\" : \"Date\",\n",
    "  \"Patient.name.given\" : \"first_name\",\n",
    "  \"Patient.name.family\" : \"last_name\",\n",
    "  \"Patient.telecom.value\" : \"Email\",\n",
    "  \"Patient.gender\" : \"GENDER\"\n",
    "}\n",
    "\n",
    "xml_fhir = (\n",
    "    FhirDeIdentification()\n",
    "      .setInputCol(\"text\")\n",
    "      .setOutputCol(\"deid\")\n",
    "      .setMode(\"obfuscate\")\n",
    "      .setMappingRules(rules)\n",
    "      .setFhirVersion(\"R4\")\n",
    "      .setParserType(\"XML\")\n",
    "      .setDays(20)\n",
    "      .setSeed(88)\n",
    "      .setCustomFakers(\n",
    "          {\n",
    "              \"GENDER\": [\"female\", \"other\"]\n",
    "          }\n",
    "      )\n",
    "      .setObfuscateRefSource(\"both\")\n",
    ")"
   ]
  },
  {
   "cell_type": "code",
   "execution_count": null,
   "metadata": {
    "colab": {
     "base_uri": "https://localhost:8080/",
     "height": 72
    },
    "executionInfo": {
     "elapsed": 367,
     "status": "ok",
     "timestamp": 1759167338712,
     "user": {
      "displayName": "Mehmet Dağ",
      "userId": "14052875917891496135"
     },
     "user_tz": -180
    },
    "id": "t5B-ssPtgMeE",
    "outputId": "bcc3573b-3244-4914-bca5-7c9e891ae347"
   },
   "outputs": [
    {
     "data": {
      "application/vnd.google.colaboratory.intrinsic+json": {
       "type": "string"
      },
      "text/plain": [
       "'<Patient xmlns=\"http://hl7.org/fhir\"><id value=\"example\"/><name><use value=\"official\"/><family value=\"Cease\"/><given value=\"Mylene\"/><given value=\"Anola\"/></name><telecom><system value=\"email\"/><value value=\"Bryton@yahoo.com\"/></telecom><telecom><system value=\"url\"/><value value=\"Aurora@google.com\"/></telecom><gender value=\"other\"/><birthDate value=\"1970-01-21\"/></Patient>'"
      ]
     },
     "execution_count": 19,
     "metadata": {},
     "output_type": "execute_result"
    }
   ],
   "source": [
    "xml_fake_john = xml_fhir.deidentify(xml_john)\n",
    "xml_fake_john"
   ]
  },
  {
   "cell_type": "markdown",
   "metadata": {
    "id": "Kd68JM3HgSZ9"
   },
   "source": [
    "## Encounter\n"
   ]
  },
  {
   "cell_type": "code",
   "execution_count": null,
   "metadata": {
    "colab": {
     "base_uri": "https://localhost:8080/"
    },
    "executionInfo": {
     "elapsed": 881,
     "status": "ok",
     "timestamp": 1759167342028,
     "user": {
      "displayName": "Mehmet Dağ",
      "userId": "14052875917891496135"
     },
     "user_tz": -180
    },
    "id": "szVG-Sl3gPgk",
    "outputId": "4576add9-ae96-4cfe-be8f-1daa881fe1f8"
   },
   "outputs": [
    {
     "name": "stdout",
     "output_type": "stream",
     "text": [
      "--2025-09-29 17:35:41--  https://www.hl7.org/fhir/us/core/Encounter-example-1.json\n",
      "Resolving www.hl7.org (www.hl7.org)... 3.18.251.254, 18.221.56.67\n",
      "Connecting to www.hl7.org (www.hl7.org)|3.18.251.254|:443... connected.\n",
      "HTTP request sent, awaiting response... 200 OK\n",
      "Length: 2624 (2.6K) [application/json]\n",
      "Saving to: ‘Encounter-example-1.json’\n",
      "\n",
      "Encounter-example-1 100%[===================>]   2.56K  --.-KB/s    in 0s      \n",
      "\n",
      "2025-09-29 17:35:41 (1.23 GB/s) - ‘Encounter-example-1.json’ saved [2624/2624]\n",
      "\n"
     ]
    }
   ],
   "source": [
    "!wget https://www.hl7.org/fhir/us/core/Encounter-example-1.json"
   ]
  },
  {
   "cell_type": "code",
   "execution_count": null,
   "metadata": {
    "id": "4Dz82myUgWZE"
   },
   "outputs": [],
   "source": [
    "encounter_example = read_fhir_as_str(\"Encounter-example-1.json\")"
   ]
  },
  {
   "cell_type": "code",
   "execution_count": null,
   "metadata": {
    "id": "WtE1HJPNgbto"
   },
   "outputs": [],
   "source": [
    "rules = {\n",
    "  \"Encounter.id\" : \"ID\",\n",
    "  \"Encounter.meta.lastUpdated\" : \"DATE\",\n",
    "  \"Encounter.period.start\" : \"DATE\",\n",
    "  \"Encounter.period.end\" : \"DATE\",\n",
    "  \"Encounter.location.location.display\" : \"HOSPITAL\"\n",
    "}\n",
    "\n",
    "encounter_fhir = (\n",
    "    FhirDeIdentification()\n",
    "      .setInputCol(\"text\")\n",
    "      .setOutputCol(\"deid\")\n",
    "      .setMode(\"obfuscate\")\n",
    "      .setMappingRules(rules)\n",
    "      .setFhirVersion(\"R4\")\n",
    "      .setParserType(\"JSON\")\n",
    "      .setDays(20)\n",
    "      .setSeed(1000)\n",
    "      .setObfuscateRefSource(\"both\")\n",
    ")"
   ]
  },
  {
   "cell_type": "code",
   "execution_count": null,
   "metadata": {
    "id": "1Wv3Jh5ngeVl"
   },
   "outputs": [],
   "source": [
    "obfuscated_encounter = encounter_fhir.deidentify(encounter_example)\n",
    "obfuscated_encounter_dict = parse_str_to_dict(obfuscated_encounter)\n"
   ]
  },
  {
   "cell_type": "code",
   "execution_count": null,
   "metadata": {
    "colab": {
     "base_uri": "https://localhost:8080/"
    },
    "executionInfo": {
     "elapsed": 48,
     "status": "ok",
     "timestamp": 1759167350074,
     "user": {
      "displayName": "Mehmet Dağ",
      "userId": "14052875917891496135"
     },
     "user_tz": -180
    },
    "id": "kbgdcg5PgiJK",
    "outputId": "7989937c-9233-4b12-ca03-2cf417c0b0be"
   },
   "outputs": [
    {
     "name": "stdout",
     "output_type": "stream",
     "text": [
      "Changed: id | example-1 → vklpqgv-9\n",
      "Changed: meta.lastUpdated | 2024-01-28T16:06:21-08:00 → 2024-02-17T16:06:21-08:00\n",
      "Changed: period.start | 2015-11-01T17:00:14-05:00 → 2015-11-21T17:00:14-05:00\n",
      "Changed: period.end | 2015-11-01T18:00:14-05:00 → 2015-11-21T18:00:14-05:00\n",
      "Changed: location[0].location.display | Holy Family Hospital → ST. LUKE'S NORTHLAND HOSPITAL - SMITHVILLE\n"
     ]
    }
   ],
   "source": [
    "show_fhir_diff(parse_str_to_dict(encounter_example), obfuscated_encounter_dict)"
   ]
  },
  {
   "cell_type": "markdown",
   "metadata": {
    "id": "mK0tHjqdgnPI"
   },
   "source": [
    "## Patient\n"
   ]
  },
  {
   "cell_type": "code",
   "execution_count": null,
   "metadata": {
    "colab": {
     "base_uri": "https://localhost:8080/"
    },
    "executionInfo": {
     "elapsed": 831,
     "status": "ok",
     "timestamp": 1759167353739,
     "user": {
      "displayName": "Mehmet Dağ",
      "userId": "14052875917891496135"
     },
     "user_tz": -180
    },
    "id": "nfNcLr67gpxL",
    "outputId": "dfd3ce04-eeb9-49ac-9e36-5235ae361466"
   },
   "outputs": [
    {
     "name": "stdout",
     "output_type": "stream",
     "text": [
      "--2025-09-29 17:35:52--  https://hl7.org/fhir/R4/patient-example-a.json\n",
      "Resolving hl7.org (hl7.org)... 3.18.251.254, 18.221.56.67\n",
      "Connecting to hl7.org (hl7.org)|3.18.251.254|:443... connected.\n",
      "HTTP request sent, awaiting response... 200 OK\n",
      "Length: 2690 (2.6K) [application/json]\n",
      "Saving to: ‘patient-example-a.json’\n",
      "\n",
      "patient-example-a.j 100%[===================>]   2.63K  --.-KB/s    in 0s      \n",
      "\n",
      "2025-09-29 17:35:53 (1.56 GB/s) - ‘patient-example-a.json’ saved [2690/2690]\n",
      "\n"
     ]
    }
   ],
   "source": [
    "!wget https://hl7.org/fhir/R4/patient-example-a.json"
   ]
  },
  {
   "cell_type": "code",
   "execution_count": null,
   "metadata": {
    "id": "rO2IFdoPgqP5"
   },
   "outputs": [],
   "source": [
    "patient_example = read_fhir_as_str(\"patient-example-a.json\")"
   ]
  },
  {
   "cell_type": "code",
   "execution_count": null,
   "metadata": {
    "id": "CmOFNhw3gtUD"
   },
   "outputs": [],
   "source": [
    "rules = {\n",
    "  \"Patient.id\" : \"ID\",\n",
    "  \"Patient.identifier.value\" : \"ID\",\n",
    "  \"Patient.active\" : \"STATUS\",\n",
    "  \"Patient.name.given\" : \"FIRST_NAME\",\n",
    "  \"Patient.name.family\": \"LAST_NAME\",\n",
    "  \"Patient.contact.organization.display\" : \"ORGANIZATION\",\n",
    "  \"Patient.gender\": \"GENDER\",\n",
    "}\n",
    "\n",
    "patient_fhir = (\n",
    "    FhirDeIdentification()\n",
    "      .setInputCol(\"text\")\n",
    "      .setOutputCol(\"deid\")\n",
    "      .setMode(\"obfuscate\")\n",
    "      .setMappingRules(rules)\n",
    "      .setFhirVersion(\"R4\")\n",
    "      .setParserType(\"JSON\")\n",
    "      .setDays(20)\n",
    "      .setSeed(1000)\n",
    "      .setObfuscateRefSource(\"both\")\n",
    "      .setCustomFakers({\n",
    "          \"GENDER\" : [\"female\"],\n",
    "          \"STATUS\" : [\"false\"],\n",
    "      })\n",
    ")"
   ]
  },
  {
   "cell_type": "code",
   "execution_count": null,
   "metadata": {
    "colab": {
     "base_uri": "https://localhost:8080/"
    },
    "executionInfo": {
     "elapsed": 87,
     "status": "ok",
     "timestamp": 1759167362845,
     "user": {
      "displayName": "Mehmet Dağ",
      "userId": "14052875917891496135"
     },
     "user_tz": -180
    },
    "id": "9v6fGBCngvTZ",
    "outputId": "32798354-c563-45f6-a9c1-d44c48ba8517"
   },
   "outputs": [
    {
     "name": "stdout",
     "output_type": "stream",
     "text": [
      "Changed: id | pat1 → qla9\n",
      "Changed: identifier[0].value | 654321 → 432109\n",
      "Changed: active | True → False\n",
      "Changed: name[0].family | Donald → Beagle\n",
      "Changed: name[0].given[0] | Duck → Eudelia\n",
      "Changed: gender | male → female\n",
      "Changed: contact[0].organization.display | Walt Disney Corporation → EMCOR\n"
     ]
    }
   ],
   "source": [
    "patient_fake = (patient_fhir.deidentify(patient_example))\n",
    "show_fhir_diff(parse_str_to_dict(patient_example), parse_str_to_dict(patient_fake))"
   ]
  },
  {
   "cell_type": "markdown",
   "metadata": {
    "id": "yqDY3n44g0Jy"
   },
   "source": [
    "# Real World Examples\n"
   ]
  },
  {
   "cell_type": "code",
   "execution_count": null,
   "metadata": {
    "colab": {
     "base_uri": "https://localhost:8080/"
    },
    "executionInfo": {
     "elapsed": 3145,
     "status": "ok",
     "timestamp": 1759167374394,
     "user": {
      "displayName": "Mehmet Dağ",
      "userId": "14052875917891496135"
     },
     "user_tz": -180
    },
    "id": "0sTv7zRTgxYu",
    "outputId": "d94ed300-e3b1-4240-fb23-6f81b1a3beec"
   },
   "outputs": [
    {
     "name": "stdout",
     "output_type": "stream",
     "text": [
      "--2025-09-29 17:36:11--  https://synthetichealth.github.io/synthea-sample-data/downloads/latest/synthea_sample_data_fhir_latest.zip\n",
      "Resolving synthetichealth.github.io (synthetichealth.github.io)... 185.199.110.153, 185.199.109.153, 185.199.108.153, ...\n",
      "Connecting to synthetichealth.github.io (synthetichealth.github.io)|185.199.110.153|:443... connected.\n",
      "HTTP request sent, awaiting response... 200 OK\n",
      "Length: 33868563 (32M) [application/x-zip-compressed]\n",
      "Saving to: ‘synthea_sample_data_fhir_latest.zip’\n",
      "\n",
      "synthea_sample_data 100%[===================>]  32.30M  44.2MB/s    in 0.7s    \n",
      "\n",
      "2025-09-29 17:36:14 (44.2 MB/s) - ‘synthea_sample_data_fhir_latest.zip’ saved [33868563/33868563]\n",
      "\n"
     ]
    }
   ],
   "source": [
    "!wget https://synthetichealth.github.io/synthea-sample-data/downloads/latest/synthea_sample_data_fhir_latest.zip"
   ]
  },
  {
   "cell_type": "code",
   "execution_count": null,
   "metadata": {
    "id": "VbGEOktdg6HX"
   },
   "outputs": [],
   "source": [
    "import zipfile\n",
    "zip_path = 'synthea_sample_data_fhir_latest.zip'\n",
    "extract_path = '/content/patients'\n",
    "\n",
    "with zipfile.ZipFile(zip_path, 'r') as zip_ref:\n",
    "    zip_ref.extractall(extract_path)"
   ]
  },
  {
   "cell_type": "markdown",
   "metadata": {
    "id": "n8DIXt_78PTj"
   },
   "source": [
    "## Simple Example with Patient"
   ]
  },
  {
   "cell_type": "code",
   "execution_count": null,
   "metadata": {
    "colab": {
     "base_uri": "https://localhost:8080/"
    },
    "executionInfo": {
     "elapsed": 261,
     "status": "ok",
     "timestamp": 1759167383204,
     "user": {
      "displayName": "Mehmet Dağ",
      "userId": "14052875917891496135"
     },
     "user_tz": -180
    },
    "id": "2Dd4Xixhg-Wz",
    "outputId": "3233b8f4-78d6-483c-d98b-921c72b5c4a0"
   },
   "outputs": [
    {
     "name": "stdout",
     "output_type": "stream",
     "text": [
      "Using file: /content/patients/Emmie273_Dibbert990_4de0cfdb-e8da-698b-0b53-882911ca2691.json\n"
     ]
    }
   ],
   "source": [
    "import os\n",
    "from pyspark.sql import functions as F\n",
    "\n",
    "# Find first .json file from extracted folder\n",
    "extract_path = \"/content/patients\"\n",
    "json_files = []\n",
    "\n",
    "for root, dirs, files in os.walk(extract_path):\n",
    "    for file in files:\n",
    "        if file.endswith(\".json\"):\n",
    "            json_files.append(os.path.join(root, file))\n",
    "\n",
    "# Raise an error if no JSON found\n",
    "if not json_files:\n",
    "    raise FileNotFoundError(\"No JSON files found in the extracted folder.\")\n",
    "\n",
    "# Take the first one\n",
    "first_json_path = json_files[0]\n",
    "print(f\"Using file: {first_json_path}\")\n",
    "\n",
    "# Load using binaryFile\n",
    "patient_df = spark.read.format(\"binaryFile\").load(first_json_path) \\\n",
    "    .select(\n",
    "        F.input_file_name().alias(\"file_name\"),\n",
    "        F.decode(F.col(\"content\"), \"UTF-8\").alias(\"text\")\n",
    "    )\n"
   ]
  },
  {
   "cell_type": "code",
   "execution_count": null,
   "metadata": {
    "colab": {
     "base_uri": "https://localhost:8080/"
    },
    "executionInfo": {
     "elapsed": 453,
     "status": "ok",
     "timestamp": 1759167401821,
     "user": {
      "displayName": "Mehmet Dağ",
      "userId": "14052875917891496135"
     },
     "user_tz": -180
    },
    "id": "ErU0DuREhGuF",
    "outputId": "b8e4c306-5de9-4c2d-9f56-1e2348f805dd"
   },
   "outputs": [
    {
     "name": "stdout",
     "output_type": "stream",
     "text": [
      "+--------------------------------------------------------------------------------------+--------------------------------------------------------------------------------------------------------------------------------------------------------------------------------------------------------+\n",
      "|                                                                             file_name|                                                                                                                                                                                                    text|\n",
      "+--------------------------------------------------------------------------------------+--------------------------------------------------------------------------------------------------------------------------------------------------------------------------------------------------------+\n",
      "|file:///content/patients/Emmie273_Dibbert990_4de0cfdb-e8da-698b-0b53-882911ca2691.json|{\\n  \"resourceType\": \"Bundle\",\\n  \"type\": \"transaction\",\\n  \"entry\": [ {\\n    \"fullUrl\": \"urn:uuid:4de0cfdb-e8da-698b-0b53-882911ca2691\",\\n    \"resource\": {\\n      \"resourceType\": \"Patient\",\\n     ...|\n",
      "+--------------------------------------------------------------------------------------+--------------------------------------------------------------------------------------------------------------------------------------------------------------------------------------------------------+\n",
      "\n"
     ]
    }
   ],
   "source": [
    "patient_df.show(truncate=200)"
   ]
  },
  {
   "cell_type": "code",
   "execution_count": null,
   "metadata": {
    "id": "oSrRNOfLhR76"
   },
   "outputs": [],
   "source": [
    "rules = {\n",
    "  \"Patient.name.given\" : \"FIRST_NAME\",\n",
    "  \"Patient.name.family\": \"LAST_NAME\",\n",
    "  \"Patient.name.prefix\": \"TITLE\",\n",
    "  \"Patient.telecom.value\" : \"PHONE\",\n",
    "  \"Patient.address.city\" : \"city\",\n",
    "  \"Patient.address.country\" : \"COUNTRY\",\n",
    "  \"Patient.address.postalCode\" : \"ZIP\",\n",
    "  \"Patient.gender\": \"GENDER\",\n",
    "  \"Patient.birthDate\": \"DATE\",\n",
    "  \"Patient.deceasedDateTime\": \"DATE\",\n",
    "  \"Patient.identifier.value\" : \"ID\",\n",
    "}\n",
    "\n",
    "patient_fhir = (\n",
    "    FhirDeIdentification()\n",
    "      .setInputCol(\"text\")\n",
    "      .setOutputCol(\"deid\")\n",
    "      .setMode(\"obfuscate\")\n",
    "      .setMappingRules(rules)\n",
    "      .setFhirVersion(\"R4\")\n",
    "      .setParserType(\"JSON\")\n",
    "      .setDays(20)\n",
    "      .setSeed(1000)\n",
    "      .setObfuscateRefSource(\"both\")\n",
    "      .setCustomFakers({\n",
    "          \"TITLE\" : [\"Dr.\", \"Mr.\", \"Mrs.\", \"Ms.\"],\n",
    "          \"GENDER\" : [\"male\", \"female\"],\n",
    "      })\n",
    ")\n"
   ]
  },
  {
   "cell_type": "code",
   "execution_count": null,
   "metadata": {
    "colab": {
     "base_uri": "https://localhost:8080/"
    },
    "executionInfo": {
     "elapsed": 1365,
     "status": "ok",
     "timestamp": 1759167412471,
     "user": {
      "displayName": "Mehmet Dağ",
      "userId": "14052875917891496135"
     },
     "user_tz": -180
    },
    "id": "X__xTsYJhlkc",
    "outputId": "5e1e299e-4edb-4e0a-b89b-ca89dc379b1f"
   },
   "outputs": [
    {
     "name": "stdout",
     "output_type": "stream",
     "text": [
      "Changed: entry[0].resource.identifier[0].value | 4de0cfdb-e8da-698b-0b53-882911ca2691 → 2mv8demu-v6ml-476u-8u31-660799dl0479\n",
      "Changed: entry[0].resource.identifier[1].value | 4de0cfdb-e8da-698b-0b53-882911ca2691 → 2mv8demu-v6ml-476u-8u31-660799dl0479\n",
      "Changed: entry[0].resource.identifier[2].value | 999-11-7051 → 777-99-5839\n",
      "Changed: entry[0].resource.identifier[3].value | S99979615 → R77757493\n",
      "Changed: entry[0].resource.name[0].family | Dibbert990 → Knight\n",
      "Changed: entry[0].resource.name[0].given[0] | Emmie273 → Reese\n",
      "Changed: entry[0].resource.telecom[0].value | 555-262-4987 → 333-040-2765\n",
      "Changed: entry[0].resource.gender | female → male\n",
      "Changed: entry[0].resource.birthDate | 2008-04-14 → 2008-05-04\n",
      "Changed: entry[0].resource.address[0].city | Taunton → Blacksburg\n",
      "Changed: entry[0].resource.address[0].postalCode | 02780 → 80568\n",
      "Changed: entry[0].resource.address[0].country | US → ERITREA\n"
     ]
    }
   ],
   "source": [
    "collected_patient = patient_fhir.transform(patient_df).collect()[0]\n",
    "show_fhir_diff(parse_str_to_dict(collected_patient[\"text\"]), parse_str_to_dict(collected_patient[\"deid\"]))"
   ]
  },
  {
   "cell_type": "markdown",
   "metadata": {
    "id": "vRHsn5Y_8Yz5"
   },
   "source": [
    "## Complete Dataset Encompasses All Patients"
   ]
  },
  {
   "cell_type": "markdown",
   "metadata": {
    "id": "w161seiiGjuj"
   },
   "source": [
    "### Spark"
   ]
  },
  {
   "cell_type": "code",
   "execution_count": null,
   "metadata": {
    "id": "GuHi0aMgjxWD"
   },
   "outputs": [],
   "source": [
    "from pyspark.sql import functions as F\n",
    "\n",
    "all_df = spark.read.format(\"binaryFile\") \\\n",
    "    .load(\"/content/patients/*.json\") \\\n",
    "    .select(\n",
    "        F.input_file_name().alias(\"file_name\"),\n",
    "        F.decode(F.col(\"content\"), \"UTF-8\").alias(\"text\")\n",
    "    ).repartition(os.cpu_count() * 2).cache()\n"
   ]
  },
  {
   "cell_type": "code",
   "execution_count": null,
   "metadata": {
    "colab": {
     "base_uri": "https://localhost:8080/"
    },
    "executionInfo": {
     "elapsed": 2682,
     "status": "ok",
     "timestamp": 1759167421483,
     "user": {
      "displayName": "Mehmet Dağ",
      "userId": "14052875917891496135"
     },
     "user_tz": -180
    },
    "id": "bC0Q0DvmhCUA",
    "outputId": "6b3e7614-dbb1-4c37-8df7-cb809f19f8a3"
   },
   "outputs": [
    {
     "name": "stdout",
     "output_type": "stream",
     "text": [
      "+----------------------------------------------------------------------------------------------+\n",
      "|file_name                                                                                     |\n",
      "+----------------------------------------------------------------------------------------------+\n",
      "|file:///content/patients/Mirna233_Irene779_Crooks415_2d1fb98d-b9c6-ff4b-77db-542d38ebab46.json|\n",
      "|file:///content/patients/Wayne846_Kuhic920_4c307a40-2318-532b-76e8-c919bb2c06be.json          |\n",
      "|file:///content/patients/Filiberto722_Boyle917_bfe8e255-0de6-21d5-f495-0050fcd4fa54.json      |\n",
      "+----------------------------------------------------------------------------------------------+\n",
      "only showing top 3 rows\n",
      "\n"
     ]
    }
   ],
   "source": [
    "all_df.select(\"file_name\").show(truncate=False, n=3)"
   ]
  },
  {
   "cell_type": "code",
   "execution_count": null,
   "metadata": {
    "colab": {
     "base_uri": "https://localhost:8080/"
    },
    "executionInfo": {
     "elapsed": 25718,
     "status": "ok",
     "timestamp": 1759167450746,
     "user": {
      "displayName": "Mehmet Dağ",
      "userId": "14052875917891496135"
     },
     "user_tz": -180
    },
    "id": "plaDVfzXjmpU",
    "outputId": "bce35606-910b-4507-dc47-6f5c992abc6a"
   },
   "outputs": [
    {
     "name": "stdout",
     "output_type": "stream",
     "text": [
      "CPU times: user 5.15 ms, sys: 2.22 ms, total: 7.38 ms\n",
      "Wall time: 25.7 s\n"
     ]
    }
   ],
   "source": [
    "%%time\n",
    "patient_fhir.transform(all_df).write.mode(\"overwrite\").parquet(\"content/all_deid.parquet\")"
   ]
  },
  {
   "cell_type": "markdown",
   "metadata": {
    "id": "Hcrr3MMfH8Gd"
   },
   "source": [
    "View a sample patient result"
   ]
  },
  {
   "cell_type": "code",
   "execution_count": null,
   "metadata": {
    "colab": {
     "base_uri": "https://localhost:8080/"
    },
    "executionInfo": {
     "elapsed": 1294,
     "status": "ok",
     "timestamp": 1759167454252,
     "user": {
      "displayName": "Mehmet Dağ",
      "userId": "14052875917891496135"
     },
     "user_tz": -180
    },
    "id": "eRpq2_K7jr5m",
    "outputId": "0a1ab88d-2e9e-444e-b163-259ae5f98e08"
   },
   "outputs": [
    {
     "name": "stdout",
     "output_type": "stream",
     "text": [
      "file:///content/patients/Nathan164_Schaden604_a7366165-34ce-48bf-a703-fcb4d6fd0ce1.json\n"
     ]
    }
   ],
   "source": [
    "a_patient = spark.read.parquet(\"content/all_deid.parquet\").limit(1).collect()[0]\n",
    "print(a_patient[\"file_name\"])"
   ]
  },
  {
   "cell_type": "code",
   "execution_count": null,
   "metadata": {
    "colab": {
     "base_uri": "https://localhost:8080/"
    },
    "executionInfo": {
     "elapsed": 649,
     "status": "ok",
     "timestamp": 1759167455493,
     "user": {
      "displayName": "Mehmet Dağ",
      "userId": "14052875917891496135"
     },
     "user_tz": -180
    },
    "id": "X4j9gk_On40W",
    "outputId": "b6d9cd7f-80fa-4cbd-e464-ec50f631ff06"
   },
   "outputs": [
    {
     "name": "stdout",
     "output_type": "stream",
     "text": [
      "Changed: entry[0].resource.identifier[0].value | a7366165-34ce-48bf-a703-fcb4d6fd0ce1 → l5144943-12dv-26ue-l581-edu2m4em8dv9\n",
      "Changed: entry[0].resource.identifier[1].value | a7366165-34ce-48bf-a703-fcb4d6fd0ce1 → l5144943-12dv-26ue-l581-edu2m4em8dv9\n",
      "Changed: entry[0].resource.identifier[2].value | 999-28-6986 → 777-06-4764\n",
      "Changed: entry[0].resource.identifier[3].value | S99943875 → R77721653\n",
      "Changed: entry[0].resource.identifier[4].value | X67714985X → K45592763K\n",
      "Changed: entry[0].resource.name[0].family | Schaden604 → Bayard\n",
      "Changed: entry[0].resource.name[0].given[0] | Nathan164 → Leveda\n",
      "Changed: entry[0].resource.name[0].given[1] | Douglass930 → Gaynel\n",
      "Changed: entry[0].resource.name[0].prefix[0] | Mr. → Ms.\n",
      "Changed: entry[0].resource.telecom[0].value | 555-455-5569 → 333-233-3347\n",
      "Changed: entry[0].resource.gender | male → female\n",
      "Changed: entry[0].resource.birthDate | 1947-11-03 → 1947-11-23\n",
      "Changed: entry[0].resource.deceasedDateTime | 2024-10-12T02:58:04+00:00 → 2024-11-01T02:58:04+00:00\n",
      "Changed: entry[0].resource.address[0].city | Brockton → Cankova\n",
      "Changed: entry[0].resource.address[0].postalCode | 02302 → 80180\n",
      "Changed: entry[0].resource.address[0].country | US → ERITREA\n"
     ]
    }
   ],
   "source": [
    "show_fhir_diff(parse_str_to_dict(a_patient[\"text\"]), parse_str_to_dict(a_patient[\"deid\"]))"
   ]
  },
  {
   "cell_type": "markdown",
   "metadata": {
    "id": "kQUzD_I7G0k1"
   },
   "source": [
    "### Spark-Less"
   ]
  },
  {
   "cell_type": "code",
   "execution_count": null,
   "metadata": {
    "id": "1SlP2PF0oseT"
   },
   "outputs": [],
   "source": [
    "import glob\n",
    "all_patients_contents = [open(path, \"r\", encoding=\"utf-8\").read() for path in glob.glob(\"/content/patients/*.json\")]"
   ]
  },
  {
   "cell_type": "code",
   "execution_count": null,
   "metadata": {
    "colab": {
     "base_uri": "https://localhost:8080/"
    },
    "executionInfo": {
     "elapsed": 47233,
     "status": "ok",
     "timestamp": 1759167668576,
     "user": {
      "displayName": "Mehmet Dağ",
      "userId": "14052875917891496135"
     },
     "user_tz": -180
    },
    "id": "tNQSAeIYoEWa",
    "outputId": "7edb98df-0618-46c9-fcf1-35ae13b4ae53"
   },
   "outputs": [
    {
     "name": "stdout",
     "output_type": "stream",
     "text": [
      "CPU times: user 17.8 s, sys: 3.1 s, total: 20.9 s\n",
      "Wall time: 47.1 s\n"
     ]
    }
   ],
   "source": [
    "%%time\n",
    "all_patients_obfuscated = patient_fhir.deidentify_list(all_patients_contents)"
   ]
  },
  {
   "cell_type": "markdown",
   "metadata": {
    "id": "3ar1S-BKISw0"
   },
   "source": [
    "View a sample patient result"
   ]
  },
  {
   "cell_type": "code",
   "execution_count": null,
   "metadata": {
    "colab": {
     "base_uri": "https://localhost:8080/"
    },
    "executionInfo": {
     "elapsed": 93,
     "status": "ok",
     "timestamp": 1759167668646,
     "user": {
      "displayName": "Mehmet Dağ",
      "userId": "14052875917891496135"
     },
     "user_tz": -180
    },
    "id": "r-RPzS6Ksf0I",
    "outputId": "0edea396-03a6-422b-f648-c555afc483eb"
   },
   "outputs": [
    {
     "name": "stdout",
     "output_type": "stream",
     "text": [
      "Changed: entry[0].resource.identifier[0].value | 4de0cfdb-e8da-698b-0b53-882911ca2691 → 2mv8demu-v6ml-476u-8u31-660799dl0479\n",
      "Changed: entry[0].resource.identifier[1].value | 4de0cfdb-e8da-698b-0b53-882911ca2691 → 2mv8demu-v6ml-476u-8u31-660799dl0479\n",
      "Changed: entry[0].resource.identifier[2].value | 999-11-7051 → 777-99-5839\n",
      "Changed: entry[0].resource.identifier[3].value | S99979615 → R77757493\n",
      "Changed: entry[0].resource.name[0].family | Dibbert990 → Knight\n",
      "Changed: entry[0].resource.name[0].given[0] | Emmie273 → Reese\n",
      "Changed: entry[0].resource.telecom[0].value | 555-262-4987 → 333-040-2765\n",
      "Changed: entry[0].resource.gender | female → male\n",
      "Changed: entry[0].resource.birthDate | 2008-04-14 → 2008-05-04\n",
      "Changed: entry[0].resource.address[0].city | Taunton → Blacksburg\n",
      "Changed: entry[0].resource.address[0].postalCode | 02780 → 80568\n",
      "Changed: entry[0].resource.address[0].country | US → ERITREA\n"
     ]
    }
   ],
   "source": [
    "show_fhir_diff(parse_str_to_dict(all_patients_contents[0]), parse_str_to_dict(all_patients_obfuscated[0]))"
   ]
  },
  {
   "cell_type": "markdown",
   "metadata": {
    "id": "DlAzRc3rIUPX"
   },
   "source": [
    "View another sample patient result"
   ]
  },
  {
   "cell_type": "code",
   "execution_count": null,
   "metadata": {
    "colab": {
     "base_uri": "https://localhost:8080/"
    },
    "executionInfo": {
     "elapsed": 33,
     "status": "ok",
     "timestamp": 1759167668692,
     "user": {
      "displayName": "Mehmet Dağ",
      "userId": "14052875917891496135"
     },
     "user_tz": -180
    },
    "id": "ZH3-nu9ItpYJ",
    "outputId": "c125f104-1d24-4e2f-ac1c-3ab91e5d7051"
   },
   "outputs": [
    {
     "name": "stdout",
     "output_type": "stream",
     "text": [
      "Changed: entry[0].resource.identifier[0].value | db60298f-7e8d-4810-1f24-6ebb3466f248 → mu48076e-5v6m-2698-9e02-4vuu1244e026\n",
      "Changed: entry[0].resource.identifier[1].value | db60298f-7e8d-4810-1f24-6ebb3466f248 → mu48076e-5v6m-2698-9e02-4vuu1244e026\n",
      "Changed: entry[0].resource.identifier[2].value | 999-25-5609 → 777-03-3487\n",
      "Changed: entry[0].resource.identifier[3].value | S99930408 → R77718286\n",
      "Changed: entry[0].resource.identifier[4].value | X74573091X → K52351879K\n",
      "Changed: entry[0].resource.name[0].family | Lesch175 → Rooks\n",
      "Changed: entry[0].resource.name[0].given[0] | Rafael239 → Lavonna\n",
      "Changed: entry[0].resource.name[0].given[1] | Les282 → Mercedes\n",
      "Changed: entry[0].resource.name[0].prefix[0] | Mr. → Ms.\n",
      "Changed: entry[0].resource.telecom[0].value | 555-277-1613 → 333-055-9491\n",
      "Changed: entry[0].resource.gender | male → female\n",
      "Changed: entry[0].resource.birthDate | 2001-03-04 → 2001-03-24\n",
      "Changed: entry[0].resource.address[0].city | Randolph → Avdimou\n",
      "Changed: entry[0].resource.address[0].postalCode | 02368 → 80146\n",
      "Changed: entry[0].resource.address[0].country | US → ERITREA\n"
     ]
    }
   ],
   "source": [
    "show_fhir_diff(parse_str_to_dict(all_patients_contents[1]), parse_str_to_dict(all_patients_obfuscated[1]))"
   ]
  },
  {
   "cell_type": "markdown",
   "metadata": {
    "id": "K25gW5nuA6Vi"
   },
   "source": [
    "## STU3"
   ]
  },
  {
   "cell_type": "code",
   "execution_count": null,
   "metadata": {
    "colab": {
     "base_uri": "https://localhost:8080/"
    },
    "executionInfo": {
     "elapsed": 66055,
     "status": "ok",
     "timestamp": 1759167734751,
     "user": {
      "displayName": "Mehmet Dağ",
      "userId": "14052875917891496135"
     },
     "user_tz": -180
    },
    "id": "oZyGvGPYuCz7",
    "outputId": "827378b0-afa5-43da-861e-01255db78b6b"
   },
   "outputs": [
    {
     "name": "stdout",
     "output_type": "stream",
     "text": [
      "--2025-09-29 17:41:08--  https://synthetichealth.github.io/synthea-sample-data/downloads/latest/synthea_sample_data_fhir_stu3_latest.zip\n",
      "Resolving synthetichealth.github.io (synthetichealth.github.io)... 185.199.110.153, 185.199.109.153, 185.199.108.153, ...\n",
      "Connecting to synthetichealth.github.io (synthetichealth.github.io)|185.199.110.153|:443... connected.\n",
      "HTTP request sent, awaiting response... 200 OK\n",
      "Length: 19804574 (19M) [application/x-zip-compressed]\n",
      "Saving to: ‘synthea_sample_data_fhir_stu3_latest.zip’\n",
      "\n",
      "synthea_sample_data 100%[===================>]  18.89M  35.0MB/s    in 0.5s    \n",
      "\n",
      "2025-09-29 17:42:14 (35.0 MB/s) - ‘synthea_sample_data_fhir_stu3_latest.zip’ saved [19804574/19804574]\n",
      "\n"
     ]
    }
   ],
   "source": [
    "!wget https://synthetichealth.github.io/synthea-sample-data/downloads/latest/synthea_sample_data_fhir_stu3_latest.zip"
   ]
  },
  {
   "cell_type": "code",
   "execution_count": null,
   "metadata": {
    "id": "wedGwaTDA_f6"
   },
   "outputs": [],
   "source": [
    "import zipfile\n",
    "zip_path_stu3 = 'synthea_sample_data_fhir_stu3_latest.zip'\n",
    "extract_path_stu3 = '/content/patients_stu3'\n",
    "\n",
    "with zipfile.ZipFile(zip_path_stu3, 'r') as zip_ref:\n",
    "    zip_ref.extractall(extract_path_stu3)"
   ]
  },
  {
   "cell_type": "code",
   "execution_count": null,
   "metadata": {
    "id": "aEsMiDUTBL5-"
   },
   "outputs": [],
   "source": [
    "rules = {\n",
    "  \"Patient.name.given\" : \"FIRST_NAME\",\n",
    "  \"Patient.name.family\": \"LAST_NAME\",\n",
    "  \"Patient.name.prefix\": \"TITLE\",\n",
    "  \"Patient.telecom.value\" : \"PHONE\",\n",
    "  \"Patient.address.city\" : \"city\",\n",
    "  \"Patient.address.country\" : \"COUNTRY\",\n",
    "  \"Patient.address.postalCode\" : \"ZIP\",\n",
    "  \"Patient.gender\": \"GENDER\",\n",
    "  \"Patient.birthDate\": \"DATE\",\n",
    "  \"Patient.deceasedDateTime\": \"DATE\",\n",
    "  \"Patient.identifier.value\" : \"ID\",\n",
    "}\n",
    "\n",
    "stu3_fhir = (\n",
    "    FhirDeIdentification()\n",
    "      .setInputCol(\"text\")\n",
    "      .setOutputCol(\"deid\")\n",
    "      .setMode(\"obfuscate\")\n",
    "      .setMappingRules(rules)\n",
    "      .setFhirVersion(\"STU3\")\n",
    "      .setParserType(\"JSON\")\n",
    "      .setDays(20)\n",
    "      .setSeed(1000)\n",
    "      .setObfuscateRefSource(\"both\")\n",
    "      .setCustomFakers({\n",
    "          \"TITLE\" : [\"Dr.\", \"Mr.\", \"Mrs.\", \"Ms.\"],\n",
    "          \"GENDER\" : [\"male\", \"female\"],\n",
    "      })\n",
    ")\n"
   ]
  },
  {
   "cell_type": "code",
   "execution_count": null,
   "metadata": {
    "id": "IpdlrAo6Bep3"
   },
   "outputs": [],
   "source": [
    "from pyspark.sql import functions as F\n",
    "\n",
    "all_df_stu3 = spark.read.format(\"binaryFile\") \\\n",
    "    .load(\"/content/patients_stu3/*.json\") \\\n",
    "    .select(\n",
    "        F.input_file_name().alias(\"file_name\"),\n",
    "        F.decode(F.col(\"content\"), \"UTF-8\").alias(\"text\")\n",
    "    ).repartition(os.cpu_count() * 2).cache()"
   ]
  },
  {
   "cell_type": "code",
   "execution_count": null,
   "metadata": {
    "colab": {
     "base_uri": "https://localhost:8080/"
    },
    "executionInfo": {
     "elapsed": 1120,
     "status": "ok",
     "timestamp": 1759167737110,
     "user": {
      "displayName": "Mehmet Dağ",
      "userId": "14052875917891496135"
     },
     "user_tz": -180
    },
    "id": "SZRzfduUBoIA",
    "outputId": "deb96fb6-326f-4767-8816-5744d46b487b"
   },
   "outputs": [
    {
     "name": "stdout",
     "output_type": "stream",
     "text": [
      "Total number of patients: 109\n"
     ]
    }
   ],
   "source": [
    "print(\"Total number of patients:\", all_df_stu3.count())\n"
   ]
  },
  {
   "cell_type": "code",
   "execution_count": null,
   "metadata": {
    "colab": {
     "base_uri": "https://localhost:8080/"
    },
    "executionInfo": {
     "elapsed": 17453,
     "status": "ok",
     "timestamp": 1759167754585,
     "user": {
      "displayName": "Mehmet Dağ",
      "userId": "14052875917891496135"
     },
     "user_tz": -180
    },
    "id": "A8eGgkEFBt81",
    "outputId": "a8533852-5a8c-4174-fb45-571011636ca5"
   },
   "outputs": [
    {
     "name": "stdout",
     "output_type": "stream",
     "text": [
      "CPU times: user 6.19 ms, sys: 2.14 ms, total: 8.33 ms\n",
      "Wall time: 17.4 s\n"
     ]
    }
   ],
   "source": [
    "%%time\n",
    "stu3_fhir.transform(all_df_stu3).write.mode(\"overwrite\").parquet(\"content/all_deid_stu3.parquet\")"
   ]
  },
  {
   "cell_type": "code",
   "execution_count": null,
   "metadata": {
    "colab": {
     "base_uri": "https://localhost:8080/"
    },
    "executionInfo": {
     "elapsed": 613,
     "status": "ok",
     "timestamp": 1759167755202,
     "user": {
      "displayName": "Mehmet Dağ",
      "userId": "14052875917891496135"
     },
     "user_tz": -180
    },
    "id": "UnzkBCqhB2t7",
    "outputId": "6b995d20-f36f-4a9d-9173-1d214746c6f3"
   },
   "outputs": [
    {
     "name": "stdout",
     "output_type": "stream",
     "text": [
      "file:///content/patients_stu3/Pricilla716_Ellena683_D'Amore443_288ba4b8-56da-b7e0-c16d-4ac111e41361.json\n"
     ]
    }
   ],
   "source": [
    "a_patient_stu3 = spark.read.parquet(\"content/all_deid_stu3.parquet\").limit(1).collect()[0]\n",
    "print(a_patient_stu3[\"file_name\"])"
   ]
  },
  {
   "cell_type": "code",
   "execution_count": null,
   "metadata": {
    "colab": {
     "base_uri": "https://localhost:8080/"
    },
    "executionInfo": {
     "elapsed": 209,
     "status": "ok",
     "timestamp": 1759167755747,
     "user": {
      "displayName": "Mehmet Dağ",
      "userId": "14052875917891496135"
     },
     "user_tz": -180
    },
    "id": "P99GPaveB96Z",
    "outputId": "04358b36-2085-48c2-9519-fafeb5bf623e"
   },
   "outputs": [
    {
     "name": "stdout",
     "output_type": "stream",
     "text": [
      "Changed: entry[0].resource.identifier[0].value | 288ba4b8-56da-b7e0-c16d-4ac111e41361 → 066ul2u6-34ml-u5v8-d94m-2ld999v29149\n",
      "Changed: entry[0].resource.identifier[1].value | 288ba4b8-56da-b7e0-c16d-4ac111e41361 → 066ul2u6-34ml-u5v8-d94m-2ld999v29149\n",
      "Changed: entry[0].resource.identifier[2].value | 999-60-6581 → 777-48-4369\n",
      "Changed: entry[0].resource.identifier[3].value | S99942031 → R77720819\n",
      "Changed: entry[0].resource.identifier[4].value | X23674993X → K01452771K\n",
      "Changed: entry[0].resource.name[0].family | D'Amore443 → Cal\n",
      "Changed: entry[0].resource.name[0].given[0] | Pricilla716 → Margarito\n",
      "Changed: entry[0].resource.name[0].given[1] | Ellena683 → Gilford\n",
      "Changed: entry[0].resource.name[1].family | Emmerich580 → Canning\n",
      "Changed: entry[0].resource.name[1].given[0] | Pricilla716 → Margarito\n",
      "Changed: entry[0].resource.name[1].given[1] | Ellena683 → Gilford\n",
      "Changed: entry[0].resource.telecom[0].value | 555-686-9216 → 333-464-7094\n",
      "Changed: entry[0].resource.gender | female → male\n",
      "Changed: entry[0].resource.birthDate | 1921-01-10 → 1921-01-30\n",
      "Changed: entry[0].resource.address[0].city | Fall River → Valencia\n",
      "Changed: entry[0].resource.address[0].postalCode | 02747 → 80525\n",
      "Changed: entry[0].resource.address[0].country | US → ERITREA\n"
     ]
    }
   ],
   "source": [
    "show_fhir_diff(parse_str_to_dict(a_patient_stu3[\"text\"]), parse_str_to_dict(a_patient_stu3[\"deid\"]))"
   ]
  }
 ],
 "metadata": {
  "accelerator": "GPU",
  "colab": {
   "gpuType": "T4",
   "machine_shape": "hm",
   "provenance": [],
   "toc_visible": true
  },
  "kernelspec": {
   "display_name": "Python 3",
   "name": "python3"
  },
  "language_info": {
   "name": "python"
  }
 },
 "nbformat": 4,
 "nbformat_minor": 0
}

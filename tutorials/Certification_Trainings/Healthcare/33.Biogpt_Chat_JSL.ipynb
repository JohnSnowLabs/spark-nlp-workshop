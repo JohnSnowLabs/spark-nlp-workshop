{
  "cells": [
    {
      "cell_type": "markdown",
      "source": [
        "![JohnSnowLabs](https://nlp.johnsnowlabs.com/assets/images/logo.png)\n"
      ],
      "metadata": {
        "id": "X64RTULpsvUT"
      }
    },
    {
      "cell_type": "markdown",
      "source": [
        "[![Open In Colab](https://colab.research.google.com/assets/colab-badge.svg)](https://colab.research.google.com/github/JohnSnowLabs/spark-nlp-workshop/blob/master/tutorials/Certification_Trainings/Healthcare/33.Biogpt_Chat_JSL.ipynb)\n",
        "\n"
      ],
      "metadata": {
        "id": "TGSKYVuqsuE5"
      }
    },
    {
      "cell_type": "markdown",
      "metadata": {
        "id": "5BC5b1eU_QDg"
      },
      "source": [
        "# **BioGPT - Chat JSL - Closed Book Question Answering**"
      ]
    },
    {
      "cell_type": "markdown",
      "metadata": {
        "id": "sEjqwB2PHuuS"
      },
      "source": [
        "The objective of this notebook is to explore the Biomedical Generative Pre-trained Transformer (BioGPT) models - `biogpt_chat_jsl` and `biogpt_chat_jsl_conversational_en`, for closed book question answering. These models are pre-trained on large biomedical text data and can generate coherent and relevant responses to biomedical questions.\n",
        "\n",
        "📖 Learning Objectives:\n",
        "\n",
        "- Learn how to use the BioGPT models in Spark NLP for closed book question answering tasks, including loading pre-trained models and configuring the pipeline.\n",
        "\n",
        "- Understand the parameters and options available for the BioGPT models to customize the text generation process based on specific use cases."
      ]
    },
    {
      "cell_type": "markdown",
      "metadata": {
        "id": "xxThSOgQIA8P"
      },
      "source": [
        "# ⚒️ Setup and Import Libraries"
      ]
    },
    {
      "cell_type": "code",
      "execution_count": null,
      "metadata": {
        "id": "xX2IV_h13Pch"
      },
      "outputs": [],
      "source": [
        "import json\n",
        "import os\n",
        "\n",
        "from google.colab import files\n",
        "\n",
        "license_keys = files.upload()\n",
        "\n",
        "with open(list(license_keys.keys())[0]) as f:\n",
        "    license_keys = json.load(f)\n",
        "\n",
        "# Defining license key-value pairs as local variables\n",
        "locals().update(license_keys)\n",
        "\n",
        "# Adding license key-value pairs to environment variables\n",
        "os.environ.update(license_keys)"
      ]
    },
    {
      "cell_type": "code",
      "execution_count": 2,
      "metadata": {
        "id": "nEhXeWX63T2t"
      },
      "outputs": [],
      "source": [
        "# Installing pyspark and spark-nlp\n",
        "! pip install --upgrade -q pyspark==3.1.2  spark-nlp==$PUBLIC_VERSION\n",
        "\n",
        "# Installing Spark NLP Healthcare\n",
        "! pip install --upgrade -q spark-nlp-jsl==$JSL_VERSION  --extra-index-url https://pypi.johnsnowlabs.com/$SECRET\n",
        "\n",
        "# Installing Spark NLP Display Library for visualization\n",
        "! pip install -q spark-nlp-display"
      ]
    },
    {
      "cell_type": "code",
      "execution_count": 2,
      "metadata": {
        "colab": {
          "base_uri": "https://localhost:8080/",
          "height": 254
        },
        "id": "oxDDgz683YG1",
        "outputId": "116f3f59-f926-4530-c314-3df25fafa74d"
      },
      "outputs": [
        {
          "output_type": "stream",
          "name": "stdout",
          "text": [
            "Spark NLP Version : 4.4.4\n",
            "Spark NLP_JSL Version : 4.4.4\n"
          ]
        },
        {
          "output_type": "execute_result",
          "data": {
            "text/plain": [
              "<pyspark.sql.session.SparkSession at 0x7fd7ffaac490>"
            ],
            "text/html": [
              "\n",
              "            <div>\n",
              "                <p><b>SparkSession - in-memory</b></p>\n",
              "                \n",
              "        <div>\n",
              "            <p><b>SparkContext</b></p>\n",
              "\n",
              "            <p><a href=\"http://d8087a1813be:4040\">Spark UI</a></p>\n",
              "\n",
              "            <dl>\n",
              "              <dt>Version</dt>\n",
              "                <dd><code>v3.1.2</code></dd>\n",
              "              <dt>Master</dt>\n",
              "                <dd><code>local[*]</code></dd>\n",
              "              <dt>AppName</dt>\n",
              "                <dd><code>Spark NLP Licensed</code></dd>\n",
              "            </dl>\n",
              "        </div>\n",
              "        \n",
              "            </div>\n",
              "        "
            ]
          },
          "metadata": {},
          "execution_count": 2
        }
      ],
      "source": [
        "import json\n",
        "import os\n",
        "\n",
        "import sparknlp\n",
        "import sparknlp_jsl\n",
        "\n",
        "from sparknlp.base import *\n",
        "from sparknlp.annotator import *\n",
        "from sparknlp_jsl.annotator import *\n",
        "\n",
        "from pyspark.sql import SparkSession\n",
        "from pyspark.sql import functions as F\n",
        "from pyspark.ml import Pipeline,PipelineModel\n",
        "\n",
        "import pandas as pd\n",
        "pd.set_option('display.max_colwidth', 200)\n",
        "import textwrap\n",
        "import warnings\n",
        "warnings.filterwarnings('ignore')\n",
        "\n",
        "params = {\"spark.driver.memory\":\"16G\",\n",
        "          \"spark.kryoserializer.buffer.max\":\"2000M\",\n",
        "          \"spark.driver.maxResultSize\":\"2000M\"}\n",
        "\n",
        "print(\"Spark NLP Version :\", sparknlp.version())\n",
        "print(\"Spark NLP_JSL Version :\", sparknlp_jsl.version())\n",
        "\n",
        "spark = sparknlp_jsl.start(license_keys['SECRET'],params=params)\n",
        "\n",
        "spark"
      ]
    },
    {
      "cell_type": "markdown",
      "source": [
        "# 🔎 MODELS"
      ],
      "metadata": {
        "id": "TgaMWkVSUWxQ"
      }
    },
    {
      "cell_type": "markdown",
      "source": [
        "<div align=\"center\">\n",
        "\n",
        "| **Index** | **Summarizer Models**        |\n",
        "|---------------|----------------------|\n",
        "| 1        | [biogpt_chat_jsl](https://nlp.johnsnowlabs.com/2023/04/12/biogpt_chat_jsl_en.html)     |\n",
        "| 2          | [biogpt_chat_jsl_conversational](https://nlp.johnsnowlabs.com/2023/04/18/biogpt_chat_jsl_conversational_en.html)       |\n",
        "| 3      | [biogpt_chat_jsl_conditions](https://nlp.johnsnowlabs.com/2023/05/11/biogpt_chat_jsl_conditions_en.html)    |\n",
        "\n",
        "</div>"
      ],
      "metadata": {
        "id": "R8NuAAv8USJs"
      }
    },
    {
      "cell_type": "markdown",
      "metadata": {
        "id": "-62Qs6RAIC1V"
      },
      "source": [
        "# \t📎🏥 `biogpt_chat_jsl`"
      ]
    },
    {
      "cell_type": "markdown",
      "metadata": {
        "id": "twxRx_PGIGm7"
      },
      "source": [
        "This model is based on BioGPT finetuned with medical conversations happening in a clinical settings and can answer clinical questions related to symptoms, drugs, tests, and diseases."
      ]
    },
    {
      "cell_type": "code",
      "execution_count": 3,
      "metadata": {
        "colab": {
          "base_uri": "https://localhost:8080/"
        },
        "id": "DCFN2tYF3X-Z",
        "outputId": "c8ba9bc7-8cef-4948-b663-706d0b468c5b"
      },
      "outputs": [
        {
          "output_type": "stream",
          "name": "stdout",
          "text": [
            "biogpt_chat_jsl download started this may take some time.\n",
            "[OK!]\n"
          ]
        }
      ],
      "source": [
        "document_assembler = DocumentAssembler() \\\n",
        "    .setInputCol(\"text\") \\\n",
        "    .setOutputCol(\"documents\")\n",
        "\n",
        "gpt_qa = MedicalTextGenerator().pretrained(\"biogpt_chat_jsl\", \"en\", \"clinical/models\")\\\n",
        "    .setInputCols(\"documents\")\\\n",
        "    .setOutputCol(\"answer\")\\\n",
        "    .setMaxNewTokens(299)\\\n",
        "    .setStopAtEos(True)\\\n",
        "    .setDoSample(False)\\\n",
        "    .setTopK(3)\\\n",
        "    .setRandomSeed(42)\\\n",
        "    .setCustomPrompt(\"question: {DOCUMENT} answer:\")\n",
        "\n",
        "pipeline = Pipeline().setStages([document_assembler, gpt_qa])\n",
        "\n",
        "empty_data = spark.createDataFrame([[\"\"]]).toDF(\"text\")\n",
        "\n",
        "model = pipeline.fit(empty_data)"
      ]
    },
    {
      "cell_type": "code",
      "source": [
        "TEXT = \"What medications are commonly used to treat emphysema?\"\n",
        "\n",
        "data = spark.createDataFrame([[TEXT]]).toDF(\"text\")\n",
        "\n",
        "result = model.transform(data)\n",
        "\n",
        "result.show(truncate=False)"
      ],
      "metadata": {
        "id": "PAm5xeqfjcQo",
        "outputId": "11e79afc-1a82-4d1c-83d9-b03085c096bb",
        "colab": {
          "base_uri": "https://localhost:8080/"
        }
      },
      "execution_count": 4,
      "outputs": [
        {
          "output_type": "stream",
          "name": "stdout",
          "text": [
            "+------------------------------------------------------+------------------------------------------------------------------------------------------------+-------------------------------------------------------------------------------------------------------------------------------------------------------------------------------------------------------------------------------------------------------------------------------------------------------------------------------------------------------------------------------------------------------------------------------------------------------------------------------------------------------------------------------------------------------------------------------------------------------------------------------------------------------------------------------------------------------------------------------------------------------------------------------------------------------------------------------------------------------------------------------------------------------------------------------------------------------------------------------------------------------------------------------+\n",
            "|text                                                  |documents                                                                                       |answer                                                                                                                                                                                                                                                                                                                                                                                                                                                                                                                                                                                                                                                                                                                                                                                                                                                                                                                                                                                                                         |\n",
            "+------------------------------------------------------+------------------------------------------------------------------------------------------------+-------------------------------------------------------------------------------------------------------------------------------------------------------------------------------------------------------------------------------------------------------------------------------------------------------------------------------------------------------------------------------------------------------------------------------------------------------------------------------------------------------------------------------------------------------------------------------------------------------------------------------------------------------------------------------------------------------------------------------------------------------------------------------------------------------------------------------------------------------------------------------------------------------------------------------------------------------------------------------------------------------------------------------+\n",
            "|What medications are commonly used to treat emphysema?|[{document, 0, 53, What medications are commonly used to treat emphysema?, {sentence -> 0}, []}]|[{chunk, 0, 963, question: What medications are commonly used to treat emphysema ? answer: Hello, There are two types of medications to treat emphysema: 1. Alpha agonists ( like albuterol or albuterol / levosalbutamol ) are used to treat symptoms of shortness of breath ( SOB ) and tightness in the chest ( tightness in chest ). These meds cause a mild to moderate increase in heart rate ( tachycardia ). 2. Beta blockers ( like propranolol or metoprolol ) are used to treat or to prevent symptoms of heart failure ( ejection fraction is 20 % or less ). These medications cause or worsen shortness of breath, tightness in chest, heart rate. You can take a combination of these medications. The combination that you will work best is a two - pill combination of albuterol and propranolol ( half tablet twice a day ). This will reduce or eliminate the need for albuterol and albuterol / levosalbutamol in your case. The other medications are used in consultation with your physician., {}, []}]|\n",
            "+------------------------------------------------------+------------------------------------------------------------------------------------------------+-------------------------------------------------------------------------------------------------------------------------------------------------------------------------------------------------------------------------------------------------------------------------------------------------------------------------------------------------------------------------------------------------------------------------------------------------------------------------------------------------------------------------------------------------------------------------------------------------------------------------------------------------------------------------------------------------------------------------------------------------------------------------------------------------------------------------------------------------------------------------------------------------------------------------------------------------------------------------------------------------------------------------------+\n",
            "\n"
          ]
        }
      ]
    },
    {
      "cell_type": "code",
      "source": [
        "result.select(\"answer.result\").show(truncate=False)"
      ],
      "metadata": {
        "colab": {
          "base_uri": "https://localhost:8080/"
        },
        "id": "Ov56x4ueAten",
        "outputId": "e889e380-7a17-4890-b109-808f38010823"
      },
      "execution_count": 5,
      "outputs": [
        {
          "output_type": "stream",
          "name": "stdout",
          "text": [
            "+------------------------------------------------------------------------------------------------------------------------------------------------------------------------------------------------------------------------------------------------------------------------------------------------------------------------------------------------------------------------------------------------------------------------------------------------------------------------------------------------------------------------------------------------------------------------------------------------------------------------------------------------------------------------------------------------------------------------------------------------------------------------------------------------------------------------------------------------------------------------------------------------------------------------------------------------------------------------------------------------------+\n",
            "|result                                                                                                                                                                                                                                                                                                                                                                                                                                                                                                                                                                                                                                                                                                                                                                                                                                                                                                                                                                                                |\n",
            "+------------------------------------------------------------------------------------------------------------------------------------------------------------------------------------------------------------------------------------------------------------------------------------------------------------------------------------------------------------------------------------------------------------------------------------------------------------------------------------------------------------------------------------------------------------------------------------------------------------------------------------------------------------------------------------------------------------------------------------------------------------------------------------------------------------------------------------------------------------------------------------------------------------------------------------------------------------------------------------------------------+\n",
            "|[question: What medications are commonly used to treat emphysema ? answer: Hello, There are two types of medications to treat emphysema: 1. Alpha agonists ( like albuterol or albuterol / levosalbutamol ) are used to treat symptoms of shortness of breath ( SOB ) and tightness in the chest ( tightness in chest ). These meds cause a mild to moderate increase in heart rate ( tachycardia ). 2. Beta blockers ( like propranolol or metoprolol ) are used to treat or to prevent symptoms of heart failure ( ejection fraction is 20 % or less ). These medications cause or worsen shortness of breath, tightness in chest, heart rate. You can take a combination of these medications. The combination that you will work best is a two - pill combination of albuterol and propranolol ( half tablet twice a day ). This will reduce or eliminate the need for albuterol and albuterol / levosalbutamol in your case. The other medications are used in consultation with your physician.]|\n",
            "+------------------------------------------------------------------------------------------------------------------------------------------------------------------------------------------------------------------------------------------------------------------------------------------------------------------------------------------------------------------------------------------------------------------------------------------------------------------------------------------------------------------------------------------------------------------------------------------------------------------------------------------------------------------------------------------------------------------------------------------------------------------------------------------------------------------------------------------------------------------------------------------------------------------------------------------------------------------------------------------------------+\n",
            "\n"
          ]
        }
      ]
    },
    {
      "cell_type": "markdown",
      "metadata": {
        "id": "Dv3a3Mm8aTh6"
      },
      "source": [
        "## **📍 LightPipeline**"
      ]
    },
    {
      "cell_type": "code",
      "execution_count": 6,
      "metadata": {
        "id": "YSfsStyhCUKa"
      },
      "outputs": [],
      "source": [
        "TEXT = \"What are the risk factors for developing heart disease?\"\n",
        "\n",
        "light_model = LightPipeline(model)\n",
        "\n",
        "light_result = light_model.annotate(TEXT)\n",
        "\n",
        "result_text = light_result[\"answer\"]"
      ]
    },
    {
      "cell_type": "code",
      "source": [
        "result_text[0].split(\" answer: \")"
      ],
      "metadata": {
        "id": "_ohm3KQyoqXp",
        "outputId": "c32516ed-0e48-4ff2-b8f3-d86dbc3bd943",
        "colab": {
          "base_uri": "https://localhost:8080/"
        }
      },
      "execution_count": 7,
      "outputs": [
        {
          "output_type": "execute_result",
          "data": {
            "text/plain": [
              "['question: What are the risk factors for developing heart disease ?',\n",
              " 'Hello, There are several factors that are responsible for the development of heart disease. One of the most important is your cholesterol level. High cholesterol levels are responsible for the development of coronary artery disease. The other factors are blood pressure and smoking. The goal of treatment is to reduce the total and low - density lipoprotein ( LDL ) cholesterol levels. Statins are good cholesterol lowering medications. They help reduce the risk of coronary artery disease by preventing the formation of blood clots. The goal of blood pressure treatment is to reduce the average blood pressure. Regular exercises, weight loss, fruits, vegetables, fish once or twice a week, avoid smoking. The goal of the cholesterol treatment is to bring the LDL level to normal ( less than 100 mg / DL ). The goal of the smoking treatment is to bring the smoking cessation to a significant extent. You should also get your cholesterol and LDL levels checked once a year to monitor the progress of the disease.']"
            ]
          },
          "metadata": {},
          "execution_count": 7
        }
      ]
    },
    {
      "cell_type": "code",
      "source": [
        "print(\"➤ Question: \\n{}\".format(TEXT))\n",
        "print(\"\\n\")\n",
        "\n",
        "# Format the text into paragraphs\n",
        "wrapped_text = textwrap.fill(result_text[0].split(\" answer: \")[1], width=120)\n",
        "\n",
        "print(\"➤ Answer: \\n{}\".format(wrapped_text))\n",
        "print(\"\\n\")"
      ],
      "metadata": {
        "id": "3_A9J0m4vy1Z",
        "outputId": "293d7a33-540c-48fe-eab8-9037146b9cd9",
        "colab": {
          "base_uri": "https://localhost:8080/"
        }
      },
      "execution_count": 8,
      "outputs": [
        {
          "output_type": "stream",
          "name": "stdout",
          "text": [
            "➤ Question: \n",
            "What are the risk factors for developing heart disease?\n",
            "\n",
            "\n",
            "➤ Answer: \n",
            "Hello, There are several factors that are responsible for the development of heart disease. One of the most important is\n",
            "your cholesterol level. High cholesterol levels are responsible for the development of coronary artery disease. The\n",
            "other factors are blood pressure and smoking. The goal of treatment is to reduce the total and low - density lipoprotein\n",
            "( LDL ) cholesterol levels. Statins are good cholesterol lowering medications. They help reduce the risk of coronary\n",
            "artery disease by preventing the formation of blood clots. The goal of blood pressure treatment is to reduce the average\n",
            "blood pressure. Regular exercises, weight loss, fruits, vegetables, fish once or twice a week, avoid smoking. The goal\n",
            "of the cholesterol treatment is to bring the LDL level to normal ( less than 100 mg / DL ). The goal of the smoking\n",
            "treatment is to bring the smoking cessation to a significant extent. You should also get your cholesterol and LDL levels\n",
            "checked once a year to monitor the progress of the disease.\n",
            "\n",
            "\n"
          ]
        }
      ]
    },
    {
      "cell_type": "markdown",
      "metadata": {
        "id": "Ta3HNysnaYy4"
      },
      "source": [
        "## 🚩 `setMaxNewTokens`"
      ]
    },
    {
      "cell_type": "markdown",
      "metadata": {
        "id": "Fpp0aiEzbH37"
      },
      "source": [
        "- This parameter sets the maximum number of new tokens that the GPT model will generate for the output, constraining the length of the generated response and managing the computational cost."
      ]
    },
    {
      "cell_type": "markdown",
      "metadata": {
        "id": "RrdPu1wK8-Pw"
      },
      "source": [
        "Pipeline with `setMaxNewTokens(128)` and `setMaxNewTokens(299)`"
      ]
    },
    {
      "cell_type": "code",
      "execution_count": 9,
      "metadata": {
        "colab": {
          "base_uri": "https://localhost:8080/"
        },
        "id": "3jbbh6hy_w11",
        "outputId": "68ee00f5-10d5-4682-dbd6-4dc7b6aedcf3"
      },
      "outputs": [
        {
          "output_type": "stream",
          "name": "stdout",
          "text": [
            "biogpt_chat_jsl download started this may take some time.\n",
            "[OK!]\n",
            "\n",
            "Question: How can asthma be treated?\n",
            "Parameters:\n",
            "setMaxNewTokens(128):\n",
            "➤ Answer:\n",
            "Hello, Asthma is itself an allergic disease due to cold or dust or pollen or grass etc. irrespective of the triggering\n",
            "factor. You are not able to get rid from it without taking any medication. You are not able to get control from outside\n",
            "as it is the only way. You can try the following measures: 1. Improve your air quality by avoiding fine particles (\n",
            "dust, mite, pollen ). 2. Sugar cane may be the best food to feed your child. 3. Keep your house clean and warm. 4. Use\n",
            "loose bins / grinders / double joiners / oil skim\n",
            "Number of tokens used: 109\n",
            "----------------------------------------\n",
            "\n",
            "Question: How can asthma be treated?\n",
            "Parameters:\n",
            "setMaxNewTokens(299):\n",
            "➤ Answer:\n",
            "Hello, Asthma is itself an allergic disease due to cold or dust or pollen or grass etc. irrespective of the triggering\n",
            "factor. You are not able to get rid from it without taking any medication. You are not able to get control from outside\n",
            "as it is the only way. You can try the following measures: 1. Improve your air quality by avoiding fine particles (\n",
            "dust, mite, pollen ). 2. Sugar cane may be the best food to feed your child. 3. Keep your house clean and warm. 4. Use\n",
            "loose bins / grinders / double joiners / oil skimmed milk to put all the above - mentioned molds and bacteria into your\n",
            "nostrils and gums. 5. Use a mask at all times, 6. Eat plenty of fresh fruits and green vegetables. 7. Take a shower at\n",
            "the end of the day. and 8. Take fresh juices and fluids. 9. Take fresh air to outside at home. 10. Take the following\n",
            "medicines regularly and do not take any delay in getting treatment. These measures will be helpful in improving your\n",
            "asthma.\n",
            "Number of tokens used: 190\n",
            "----------------------------------------\n"
          ]
        }
      ],
      "source": [
        "# Default parameters\n",
        "gpt_qa = MedicalTextGenerator().pretrained(\"biogpt_chat_jsl\", \"en\", \"clinical/models\") \\\n",
        "    .setInputCols(\"documents\") \\\n",
        "    .setOutputCol(\"answer\") \\\n",
        "    .setStopAtEos(True)\\\n",
        "    .setDoSample(False)\\\n",
        "    .setTopK(3) \\\n",
        "    .setRandomSeed(42)\\\n",
        "    .setStopAtEos(True)\\\n",
        "    .setCustomPrompt(\"question: {DOCUMENT} answer:\")\n",
        "\n",
        "MaxNewTokens = [128, 299]\n",
        "\n",
        "\n",
        "# Sample question\n",
        "TEXT = \"How can asthma be treated?\"\n",
        "\n",
        "\n",
        "for j in MaxNewTokens:\n",
        "    print(\"\\nQuestion:\", TEXT)\n",
        "    print(\"Parameters:\")\n",
        "    print(f\"setMaxNewTokens({j}):\")\n",
        "\n",
        "    gpt_qa.setMaxNewTokens(j)\n",
        "    pipeline = Pipeline().setStages([document_assembler, gpt_qa])\n",
        "\n",
        "    light_model = LightPipeline(pipeline.fit(spark.createDataFrame([[\"\"]]).toDF(\"text\")))\n",
        "\n",
        "    result_text = light_model.annotate(TEXT)[\"answer\"][0]\n",
        "\n",
        "    answer_text = result_text.split(\" answer: \")[1]\n",
        "    wrapped_text = textwrap.fill(answer_text, width=120)\n",
        "    token_count = len(result_text.split())\n",
        "\n",
        "    print(\"➤ Answer:\")\n",
        "    print(wrapped_text)\n",
        "    print(f\"Number of tokens used: {token_count}\")\n",
        "    print(\"-\" * 40)  # Separator line\n",
        "\n",
        "\n"
      ]
    },
    {
      "cell_type": "markdown",
      "source": [
        "<b><h1><font color='darkred'>!!! ATTENTION !!! </font><h1><b>\n",
        "\n",
        "<b>before running the following cells, <font color='darkred'>RESTART the COLAB RUNTIME </font> than start your session and go ahead.<b>"
      ],
      "metadata": {
        "id": "M6sjuM3NW-ZS"
      }
    },
    {
      "cell_type": "markdown",
      "metadata": {
        "id": "UYOrd_2OLSyD"
      },
      "source": [
        "# \t📎🏥 `biogpt_chat_jsl_conversational`"
      ]
    },
    {
      "cell_type": "markdown",
      "metadata": {
        "id": "z4vCaKWzyBCX"
      },
      "source": [
        "This model is based on BioGPT finetuned with medical conversations happening in a clinical settings and can answer clinical questions related to symptoms, drugs, tests, and diseases. The difference between this model and `biogpt_chat_jsl` is that this model produces more concise/smaller response."
      ]
    },
    {
      "cell_type": "code",
      "execution_count": 3,
      "metadata": {
        "colab": {
          "base_uri": "https://localhost:8080/"
        },
        "id": "uXW20vHBLd3u",
        "outputId": "77d0246b-f993-43da-9775-161fb7390df3"
      },
      "outputs": [
        {
          "output_type": "stream",
          "name": "stdout",
          "text": [
            "biogpt_chat_jsl_conversational download started this may take some time.\n",
            "[OK!]\n"
          ]
        }
      ],
      "source": [
        "document_assembler = DocumentAssembler() \\\n",
        "    .setInputCol(\"text\") \\\n",
        "    .setOutputCol(\"documents\")\n",
        "\n",
        "gpt_qa = MedicalTextGenerator().pretrained(\"biogpt_chat_jsl_conversational\", \"en\", \"clinical/models\")\\\n",
        "    .setInputCols(\"documents\")\\\n",
        "    .setOutputCol(\"answer\")\\\n",
        "    .setMaxNewTokens(399)\\\n",
        "    .setStopAtEos(True)\\\n",
        "    .setDoSample(False)\\\n",
        "    .setTopK(1)\\\n",
        "    .setRandomSeed(42)\\\n",
        "    .setCustomPrompt(\"question: {DOCUMENT} answer:\")\n",
        "\n",
        "pipeline = Pipeline().setStages([document_assembler, gpt_qa])\n"
      ]
    },
    {
      "cell_type": "code",
      "execution_count": 4,
      "metadata": {
        "id": "zy_Jt_MkCfvn"
      },
      "outputs": [],
      "source": [
        "TEXT = \"What is the difference between melanoma and sarcoma?\"\n",
        "\n",
        "model = pipeline.fit(spark.createDataFrame([[\"\"]]).toDF(\"text\"))\n",
        "\n",
        "light_model = LightPipeline(model)\n",
        "\n",
        "light_result = light_model.annotate(TEXT)\n",
        "\n",
        "result_text = light_result[\"answer\"]"
      ]
    },
    {
      "cell_type": "code",
      "execution_count": 5,
      "metadata": {
        "id": "-pqxGMy4Chmz",
        "colab": {
          "base_uri": "https://localhost:8080/"
        },
        "outputId": "0f4a3878-6b80-4953-d343-f8a77a81587d"
      },
      "outputs": [
        {
          "output_type": "stream",
          "name": "stdout",
          "text": [
            "➤ Question: \n",
            "What is the difference between melanoma and sarcoma?\n",
            "\n",
            "\n",
            "➤ Answer: \n",
            "Both are blood - borne cancers. Melanoma is a type of skin cancer that arises from melanocytes, the pigment - producing\n",
            "cells in the skin. Sarcoma is a type of bone cancer that arises from bone. Both are blood - borne cancers and therefore\n",
            "have very different treatment options.\n",
            "\n",
            "\n"
          ]
        }
      ],
      "source": [
        "print(\"➤ Question: \\n{}\".format(TEXT))\n",
        "print(\"\\n\")\n",
        "\n",
        "# Format the text into paragraphs\n",
        "wrapped_text = textwrap.fill(result_text[0].split(\" answer: \")[1], width=120)\n",
        "\n",
        "print(\"➤ Answer: \\n{}\".format(wrapped_text))\n",
        "print(\"\\n\")"
      ]
    },
    {
      "cell_type": "markdown",
      "metadata": {
        "id": "lTKvyKGnyCBP"
      },
      "source": [
        "# \t📎🏥 `biogpt_chat_jsl_conditions`"
      ]
    },
    {
      "cell_type": "markdown",
      "metadata": {
        "id": "5OtNKmjcyCBQ"
      },
      "source": [
        "This model is based on BioGPT finetuned with medical conversations happening in a clinical settings and can answer clinical questions related to symptoms, drugs, tests, and diseases. The difference between this model and `biogpt_chat_jsl` is that this model produces more concise/smaller response."
      ]
    },
    {
      "cell_type": "code",
      "execution_count": 3,
      "metadata": {
        "colab": {
          "base_uri": "https://localhost:8080/"
        },
        "outputId": "e525ffc5-6369-4403-b156-49bd1d351086",
        "id": "1zydEm1ZyCBQ"
      },
      "outputs": [
        {
          "output_type": "stream",
          "name": "stdout",
          "text": [
            "biogpt_chat_jsl_conditions download started this may take some time.\n",
            "[OK!]\n"
          ]
        }
      ],
      "source": [
        "document_assembler = DocumentAssembler() \\\n",
        "    .setInputCol(\"text\") \\\n",
        "    .setOutputCol(\"documents\")\n",
        "\n",
        "gpt_qa = MedicalTextGenerator().pretrained(\"biogpt_chat_jsl_conditions\", \"en\", \"clinical/models\")\\\n",
        "    .setInputCols(\"documents\")\\\n",
        "    .setOutputCol(\"answer\")\\\n",
        "    .setMaxNewTokens(399)\\\n",
        "    .setStopAtEos(True)\\\n",
        "    .setDoSample(False)\\\n",
        "    .setTopK(1)\\\n",
        "    .setRandomSeed(42)\\\n",
        "     .setCustomPrompt(\"question: {DOCUMENT} answer:\")\n",
        "\n",
        "pipeline = Pipeline().setStages([document_assembler, gpt_qa])\n"
      ]
    },
    {
      "cell_type": "code",
      "execution_count": 4,
      "metadata": {
        "id": "Of_DSovWyCBR"
      },
      "outputs": [],
      "source": [
        "TEXT = \"What are the potential causes and risk factors for developing cardiovascular disease?\"\n",
        "\n",
        "model = pipeline.fit(spark.createDataFrame([[\"\"]]).toDF(\"text\"))\n",
        "\n",
        "light_model = LightPipeline(model)\n",
        "\n",
        "light_result = light_model.annotate(TEXT)\n",
        "\n",
        "result_text = light_result[\"answer\"]"
      ]
    },
    {
      "cell_type": "code",
      "execution_count": 5,
      "metadata": {
        "colab": {
          "base_uri": "https://localhost:8080/"
        },
        "outputId": "1f3b2cb4-0f00-4342-ec48-112fd495778c",
        "id": "PJeDRasmyCBR"
      },
      "outputs": [
        {
          "output_type": "stream",
          "name": "stdout",
          "text": [
            "➤ Question: \n",
            "What are the potential causes and risk factors for developing cardiovascular disease?\n",
            "\n",
            "\n",
            "➤ Answer: \n",
            "Cardiovascular disease ( CVD ) is a general term for conditions affecting the heart or blood vessels. It can be caused\n",
            "by a variety of factors, including smoking, high blood pressure, diabetes, high cholesterol, and obesity. Certain\n",
            "medical conditions, such as chronic kidney disease, can also increase the risk of developing CVD.\n",
            "\n",
            "\n"
          ]
        }
      ],
      "source": [
        "print(\"➤ Question: \\n{}\".format(TEXT))\n",
        "print(\"\\n\")\n",
        "\n",
        "# Format the text into paragraphs\n",
        "wrapped_text = textwrap.fill(result_text[0].split(\" answer: \")[1], width=120)\n",
        "\n",
        "print(\"➤ Answer: \\n{}\".format(wrapped_text))\n",
        "print(\"\\n\")"
      ]
    }
  ],
  "metadata": {
    "colab": {
      "machine_shape": "hm",
      "provenance": [],
      "toc_visible": true
    },
    "gpuClass": "standard",
    "kernelspec": {
      "display_name": "Python 3",
      "name": "python3"
    },
    "language_info": {
      "name": "python"
    }
  },
  "nbformat": 4,
  "nbformat_minor": 0
}
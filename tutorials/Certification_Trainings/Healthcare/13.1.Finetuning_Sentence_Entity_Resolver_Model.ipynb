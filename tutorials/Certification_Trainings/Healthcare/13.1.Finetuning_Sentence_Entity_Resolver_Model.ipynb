{
  "nbformat": 4,
  "nbformat_minor": 0,
  "metadata": {
    "colab": {
      "name": "13.1.Finetuning_Sentence_Entity_Resolver_Model.ipynb",
      "provenance": [],
      "collapsed_sections": [],
      "toc_visible": true
    },
    "kernelspec": {
      "display_name": "Python 3",
      "language": "python",
      "name": "python3"
    },
    "language_info": {
      "codemirror_mode": {
        "name": "ipython",
        "version": 3
      },
      "file_extension": ".py",
      "mimetype": "text/x-python",
      "name": "python",
      "nbconvert_exporter": "python",
      "pygments_lexer": "ipython3",
      "version": "3.7.6"
    }
  },
  "cells": [
    {
      "cell_type": "markdown",
      "metadata": {
        "id": "Hwsv9vDmvbr1"
      },
      "source": [
        "![JohnSnowLabs](https://nlp.johnsnowlabs.com/assets/images/logo.png)"
      ]
    },
    {
      "cell_type": "markdown",
      "metadata": {
        "id": "jIs4dsyfvhEi"
      },
      "source": [
        " [![Open In Colab](https://colab.research.google.com/assets/colab-badge.svg)](https://colab.research.google.com/github/JohnSnowLabs/spark-nlp-workshop/blob/master/tutorials/Certification_Trainings/Healthcare/13.1.Finetuning_Sentence_Entity_Resolver_Model.ipynb)"
      ]
    },
    {
      "cell_type": "markdown",
      "metadata": {
        "id": "N6w49Yx5Bjw5"
      },
      "source": [
        "# 13. Finetuning Sentence Entity Resolver Model"
      ]
    },
    {
      "cell_type": "code",
      "metadata": {
        "id": "U-5twBh3veD2"
      },
      "source": [
        "import json\n",
        "import os\n",
        "\n",
        "from google.colab import files\n",
        "\n",
        "license_keys = files.upload()\n",
        "\n",
        "with open(list(license_keys.keys())[0]) as f:\n",
        "    license_keys = json.load(f)\n",
        "\n",
        "# Defining license key-value pairs as local variables\n",
        "locals().update(license_keys)\n",
        "\n",
        "# Adding license key-value pairs to environment variables\n",
        "os.environ.update(license_keys)"
      ],
      "execution_count": null,
      "outputs": []
    },
    {
      "cell_type": "code",
      "metadata": {
        "id": "gJzmNJjph6wo"
      },
      "source": [
        "# Installing pyspark and spark-nlp\n",
        "! pip install --upgrade -q pyspark==3.1.2 spark-nlp==$PUBLIC_VERSION\n",
        "\n",
        "# Installing Spark NLP Healthcare\n",
        "! pip install --upgrade -q spark-nlp-jsl==$JSL_VERSION  --extra-index-url https://pypi.johnsnowlabs.com/$SECRET"
      ],
      "execution_count": null,
      "outputs": []
    },
    {
      "cell_type": "code",
      "metadata": {
        "id": "QzezXHbGhx6r",
        "colab": {
          "base_uri": "https://localhost:8080/"
        },
        "outputId": "a562b42e-6c2c-46bc-8800-63a9a21c4494"
      },
      "source": [
        "import json\n",
        "import os\n",
        "import sparknlp_jsl\n",
        "import sparknlp\n",
        "from pyspark.ml import Pipeline, PipelineModel\n",
        "from pyspark.sql import SparkSession\n",
        "import sys, time\n",
        "from sparknlp.base import *\n",
        "from sparknlp.annotator import *\n",
        "from sparknlp.util import *\n",
        "from sparknlp_jsl.annotator import *\n",
        "\n",
        "from sparknlp.pretrained import ResourceDownloader\n",
        "from pyspark.sql import functions as F\n",
        "from pyspark.sql.types import StructType, StructField, StringType\n",
        "\n",
        "params = {\"spark.driver.memory\":\"16G\",\n",
        "\"spark.kryoserializer.buffer.max\":\"2000M\",\n",
        "\"spark.driver.maxResultSize\":\"2000M\"}\n",
        "\n",
        "spark = sparknlp_jsl.start(license_keys['SECRET'],params=params)\n",
        "\n",
        "print (sparknlp.version())\n",
        "print (sparknlp_jsl.version())"
      ],
      "execution_count": 3,
      "outputs": [
        {
          "output_type": "stream",
          "name": "stdout",
          "text": [
            "3.3.2\n",
            "3.3.2\n"
          ]
        }
      ]
    },
    {
      "cell_type": "markdown",
      "metadata": {
        "id": "zRigNZ3XBrMV"
      },
      "source": [
        "## Load Dataset"
      ]
    },
    {
      "cell_type": "code",
      "metadata": {
        "id": "neOur2ZHxm2w"
      },
      "source": [
        "!wget -q https://raw.githubusercontent.com/JohnSnowLabs/spark-nlp-workshop/master/tutorials/Certification_Trainings/Healthcare/data/AskAPatient.fold-0.train.txt"
      ],
      "execution_count": 4,
      "outputs": []
    },
    {
      "cell_type": "markdown",
      "metadata": {
        "id": "LglXkThG-mXi"
      },
      "source": [
        "Now we will create a pandas dataframe using downloaded dataset, and then convert it to a spark dataframe.\n",
        "\n"
      ]
    },
    {
      "cell_type": "code",
      "metadata": {
        "id": "QK1EGRYPwHX1"
      },
      "source": [
        "import pandas as pd\n",
        "\n",
        "cols = [\"conceptId\",\"_term\",\"term\"]\n",
        "\n",
        "aap_tr = pd.read_csv(\"AskAPatient.fold-0.train.txt\",sep=\"\\t\", encoding=\"ISO-8859-1\",header=None)\n",
        "aap_tr.columns = cols\n",
        "aap_tr[\"conceptId\"] = aap_tr.conceptId.apply(str)"
      ],
      "execution_count": 5,
      "outputs": []
    },
    {
      "cell_type": "code",
      "metadata": {
        "colab": {
          "base_uri": "https://localhost:8080/",
          "height": 202
        },
        "id": "iB_Q2LFkyO1p",
        "outputId": "9095830c-278b-460e-beb0-84b5cb163b98"
      },
      "source": [
        "aap_tr.head()"
      ],
      "execution_count": 6,
      "outputs": [
        {
          "output_type": "execute_result",
          "data": {
            "text/html": [
              "<div>\n",
              "<style scoped>\n",
              "    .dataframe tbody tr th:only-of-type {\n",
              "        vertical-align: middle;\n",
              "    }\n",
              "\n",
              "    .dataframe tbody tr th {\n",
              "        vertical-align: top;\n",
              "    }\n",
              "\n",
              "    .dataframe thead th {\n",
              "        text-align: right;\n",
              "    }\n",
              "</style>\n",
              "<table border=\"1\" class=\"dataframe\">\n",
              "  <thead>\n",
              "    <tr style=\"text-align: right;\">\n",
              "      <th></th>\n",
              "      <th>conceptId</th>\n",
              "      <th>_term</th>\n",
              "      <th>term</th>\n",
              "    </tr>\n",
              "  </thead>\n",
              "  <tbody>\n",
              "    <tr>\n",
              "      <th>0</th>\n",
              "      <td>108367008</td>\n",
              "      <td>Dislocation of joint</td>\n",
              "      <td>Dislocation of joint</td>\n",
              "    </tr>\n",
              "    <tr>\n",
              "      <th>1</th>\n",
              "      <td>3384011000036100</td>\n",
              "      <td>Arthrotec</td>\n",
              "      <td>Arthrotec</td>\n",
              "    </tr>\n",
              "    <tr>\n",
              "      <th>2</th>\n",
              "      <td>166717003</td>\n",
              "      <td>Serum creatinine raised</td>\n",
              "      <td>Serum creatinine raised</td>\n",
              "    </tr>\n",
              "    <tr>\n",
              "      <th>3</th>\n",
              "      <td>3877011000036101</td>\n",
              "      <td>Lipitor</td>\n",
              "      <td>Lipitor</td>\n",
              "    </tr>\n",
              "    <tr>\n",
              "      <th>4</th>\n",
              "      <td>402234004</td>\n",
              "      <td>Foot eczema</td>\n",
              "      <td>Foot eczema</td>\n",
              "    </tr>\n",
              "  </tbody>\n",
              "</table>\n",
              "</div>"
            ],
            "text/plain": [
              "          conceptId                    _term                     term\n",
              "0         108367008     Dislocation of joint     Dislocation of joint\n",
              "1  3384011000036100                Arthrotec                Arthrotec\n",
              "2         166717003  Serum creatinine raised  Serum creatinine raised\n",
              "3  3877011000036101                  Lipitor                  Lipitor\n",
              "4         402234004              Foot eczema              Foot eczema"
            ]
          },
          "metadata": {},
          "execution_count": 6
        }
      ]
    },
    {
      "cell_type": "code",
      "metadata": {
        "colab": {
          "base_uri": "https://localhost:8080/"
        },
        "id": "DjwivJ1Tv31e",
        "outputId": "c593645e-d24d-439f-af44-5ebfb38a75b4"
      },
      "source": [
        "aap_train_sdf = spark.createDataFrame(aap_tr).drop_duplicates()\n",
        "aap_train_sdf.show()"
      ],
      "execution_count": 7,
      "outputs": [
        {
          "output_type": "stream",
          "name": "stdout",
          "text": [
            "+-----------------+--------------------+--------------------+\n",
            "|        conceptId|               _term|                term|\n",
            "+-----------------+--------------------+--------------------+\n",
            "|        161891005|            Backache|            backache|\n",
            "|        418290006|             Itching|               itchy|\n",
            "|         35489007|          Depression|very serious depr...|\n",
            "|         10601006|  Pain in lower limb|        pain in legs|\n",
            "|        386806002|  Impaired cognition|  Impaired cognition|\n",
            "|        386807006|   Memory impairment| memory difficulties|\n",
            "|         21499005|Feeling agitated ...|   Severe aggitation|\n",
            "|        247373008|          Ankle pain|          ANKLE PAIN|\n",
            "|        262286000|    Weight increased|Big weight gain i...|\n",
            "|         36349006|        Burning pain|burning in back o...|\n",
            "|         24184005|Finding of increa...|blood pressure ha...|\n",
            "|        308921004|Neurological symptom|Neurological symptom|\n",
            "|        279043006|     Pain in buttock|     Pain in buttock|\n",
            "|        278040002|        Loss of hair|      losing my hair|\n",
            "|        246676003|Hyperaemia of sur...|  eyes are bloodshot|\n",
            "|        162076009|Excessive upper g...|genetically high LDL|\n",
            "|21242011000036102|         simvastatin|         simvostatin|\n",
            "|        267052005|     Flatulence/wind|          flatulance|\n",
            "|53523011000036100|              Diovan|              diovan|\n",
            "|         75408008|       Feeling angry|       Feeling angry|\n",
            "+-----------------+--------------------+--------------------+\n",
            "only showing top 20 rows\n",
            "\n"
          ]
        }
      ]
    },
    {
      "cell_type": "code",
      "metadata": {
        "colab": {
          "base_uri": "https://localhost:8080/"
        },
        "id": "BywAIMq2ZjmJ",
        "outputId": "04979c30-da21-4dbb-c03f-0e01f3f31540"
      },
      "source": [
        "aap_train_sdf.printSchema()"
      ],
      "execution_count": 8,
      "outputs": [
        {
          "output_type": "stream",
          "name": "stdout",
          "text": [
            "root\n",
            " |-- conceptId: string (nullable = true)\n",
            " |-- _term: string (nullable = true)\n",
            " |-- term: string (nullable = true)\n",
            "\n"
          ]
        }
      ]
    },
    {
      "cell_type": "code",
      "metadata": {
        "colab": {
          "base_uri": "https://localhost:8080/"
        },
        "id": "foNXBB6v_OD3",
        "outputId": "2abbc246-0cae-4085-a56c-7d93f34f6e30"
      },
      "source": [
        "aap_train_sdf.count()"
      ],
      "execution_count": 9,
      "outputs": [
        {
          "output_type": "execute_result",
          "data": {
            "text/plain": [
              "4382"
            ]
          },
          "metadata": {},
          "execution_count": 9
        }
      ]
    },
    {
      "cell_type": "markdown",
      "metadata": {
        "id": "i_5rBg-r_KnK"
      },
      "source": [
        "We will limit our dataframe for a faster training."
      ]
    },
    {
      "cell_type": "code",
      "metadata": {
        "id": "r6mQmjKWwSzR"
      },
      "source": [
        "aap_train_sdf = aap_train_sdf.limit(1000)"
      ],
      "execution_count": 10,
      "outputs": []
    },
    {
      "cell_type": "markdown",
      "metadata": {
        "id": "Vfk4gzCs_fAq"
      },
      "source": [
        "Here, we will create a pipeline for adding an embeddings column to our spark dataframe."
      ]
    },
    {
      "cell_type": "code",
      "metadata": {
        "colab": {
          "base_uri": "https://localhost:8080/"
        },
        "id": "77HxAFzLX4zm",
        "outputId": "07a7779f-bd27-4a84-c319-e24c34d6364a"
      },
      "source": [
        "documentAssembler = DocumentAssembler()\\\n",
        "    .setInputCol(\"_term\")\\\n",
        "    .setOutputCol(\"ner_chunk\")\n",
        "\n",
        "bert_embeddings = BertSentenceEmbeddings.pretrained(\"sbiobert_base_cased_mli\", \"en\", \"clinical/models\")\\\n",
        "    .setInputCols([\"ner_chunk\"])\\\n",
        "    .setOutputCol(\"bert_embeddings\")\\\n",
        "    .setCaseSensitive(False)\n",
        "\n",
        "snomed_emb_pipeline = Pipeline(stages = [\n",
        "    documentAssembler,\n",
        "    bert_embeddings])\n",
        "\n",
        "\n",
        "snomed_emb_model = snomed_emb_pipeline.fit(aap_train_sdf)\n",
        "\n",
        "snomed_data = snomed_emb_model.transform(aap_train_sdf)"
      ],
      "execution_count": 11,
      "outputs": [
        {
          "output_type": "stream",
          "name": "stdout",
          "text": [
            "sbiobert_base_cased_mli download started this may take some time.\n",
            "Approximate size to download 384.3 MB\n",
            "[OK!]\n"
          ]
        }
      ]
    },
    {
      "cell_type": "markdown",
      "metadata": {
        "id": "JZpJKOi6ADmV"
      },
      "source": [
        "Here is the new training dataframe."
      ]
    },
    {
      "cell_type": "code",
      "metadata": {
        "colab": {
          "base_uri": "https://localhost:8080/"
        },
        "id": "l0AbU5muw0Sz",
        "outputId": "ea6e5100-182a-4e4d-9467-e04daac79f0c"
      },
      "source": [
        "snomed_data.show()"
      ],
      "execution_count": 12,
      "outputs": [
        {
          "output_type": "stream",
          "name": "stdout",
          "text": [
            "+-----------------+--------------------+--------------------+--------------------+--------------------+\n",
            "|        conceptId|               _term|                term|           ner_chunk|     bert_embeddings|\n",
            "+-----------------+--------------------+--------------------+--------------------+--------------------+\n",
            "|        161891005|            Backache|            backache|[{document, 0, 7,...|[{sentence_embedd...|\n",
            "|        418290006|             Itching|               itchy|[{document, 0, 6,...|[{sentence_embedd...|\n",
            "|         35489007|          Depression|very serious depr...|[{document, 0, 9,...|[{sentence_embedd...|\n",
            "|         10601006|  Pain in lower limb|        pain in legs|[{document, 0, 17...|[{sentence_embedd...|\n",
            "|        386806002|  Impaired cognition|  Impaired cognition|[{document, 0, 17...|[{sentence_embedd...|\n",
            "|        386807006|   Memory impairment| memory difficulties|[{document, 0, 16...|[{sentence_embedd...|\n",
            "|         21499005|Feeling agitated ...|   Severe aggitation|[{document, 0, 23...|[{sentence_embedd...|\n",
            "|        247373008|          Ankle pain|          ANKLE PAIN|[{document, 0, 9,...|[{sentence_embedd...|\n",
            "|        262286000|    Weight increased|Big weight gain i...|[{document, 0, 15...|[{sentence_embedd...|\n",
            "|         36349006|        Burning pain|burning in back o...|[{document, 0, 11...|[{sentence_embedd...|\n",
            "|         24184005|Finding of increa...|blood pressure ha...|[{document, 0, 34...|[{sentence_embedd...|\n",
            "|        308921004|Neurological symptom|Neurological symptom|[{document, 0, 19...|[{sentence_embedd...|\n",
            "|        279043006|     Pain in buttock|     Pain in buttock|[{document, 0, 14...|[{sentence_embedd...|\n",
            "|        278040002|        Loss of hair|      losing my hair|[{document, 0, 11...|[{sentence_embedd...|\n",
            "|        246676003|Hyperaemia of sur...|  eyes are bloodshot|[{document, 0, 27...|[{sentence_embedd...|\n",
            "|        162076009|Excessive upper g...|genetically high LDL|[{document, 0, 35...|[{sentence_embedd...|\n",
            "|21242011000036102|         simvastatin|         simvostatin|[{document, 0, 10...|[{sentence_embedd...|\n",
            "|        267052005|     Flatulence/wind|          flatulance|[{document, 0, 14...|[{sentence_embedd...|\n",
            "|53523011000036100|              Diovan|              diovan|[{document, 0, 5,...|[{sentence_embedd...|\n",
            "|         75408008|       Feeling angry|       Feeling angry|[{document, 0, 12...|[{sentence_embedd...|\n",
            "+-----------------+--------------------+--------------------+--------------------+--------------------+\n",
            "only showing top 20 rows\n",
            "\n"
          ]
        }
      ]
    },
    {
      "cell_type": "markdown",
      "metadata": {
        "id": "ZbcnPuoGAKtD"
      },
      "source": [
        "Now we can train our SNOMED Sentence Entity Resolver Model by using `SentenceEntityResolverApproach` ."
      ]
    },
    {
      "cell_type": "code",
      "metadata": {
        "colab": {
          "base_uri": "https://localhost:8080/"
        },
        "id": "eTF2AmJFYpcZ",
        "outputId": "70a79472-fcb3-486c-f3eb-c7f77bb12e80"
      },
      "source": [
        "bertExtractor = SentenceEntityResolverApproach()\\\n",
        "  .setNeighbours(25)\\\n",
        "  .setThreshold(1000)\\\n",
        "  .setInputCols(\"bert_embeddings\")\\\n",
        "  .setNormalizedCol(\"_term\")\\\n",
        "  .setLabelCol(\"conceptId\")\\\n",
        "  .setOutputCol('snomed_code')\\\n",
        "  .setDistanceFunction(\"EUCLIDIAN\")\\\n",
        "  .setCaseSensitive(False)\n",
        "\n",
        "%time snomed_model = bertExtractor.fit(snomed_data)"
      ],
      "execution_count": 13,
      "outputs": [
        {
          "output_type": "stream",
          "name": "stdout",
          "text": [
            "CPU times: user 730 ms, sys: 80.3 ms, total: 811 ms\n",
            "Wall time: 2min 6s\n"
          ]
        }
      ]
    },
    {
      "cell_type": "code",
      "metadata": {
        "id": "v6d-ZuYk4mVs"
      },
      "source": [
        "# save if you will need that later\n",
        "snomed_model.write().overwrite().save(\"sbiobertresolve_snomed_model\")"
      ],
      "execution_count": 14,
      "outputs": []
    },
    {
      "cell_type": "markdown",
      "metadata": {
        "id": "LN3r_VJWAcwK"
      },
      "source": [
        "Lets create a new dataset and re-train our model by using this new dataset.\n",
        "\n"
      ]
    },
    {
      "cell_type": "code",
      "metadata": {
        "colab": {
          "base_uri": "https://localhost:8080/",
          "height": 202
        },
        "id": "VGw-4Vwny58a",
        "outputId": "2497abf2-9f05-4695-e1d4-1ce846e065ca"
      },
      "source": [
        "aap_tr.head()"
      ],
      "execution_count": 15,
      "outputs": [
        {
          "output_type": "execute_result",
          "data": {
            "text/html": [
              "<div>\n",
              "<style scoped>\n",
              "    .dataframe tbody tr th:only-of-type {\n",
              "        vertical-align: middle;\n",
              "    }\n",
              "\n",
              "    .dataframe tbody tr th {\n",
              "        vertical-align: top;\n",
              "    }\n",
              "\n",
              "    .dataframe thead th {\n",
              "        text-align: right;\n",
              "    }\n",
              "</style>\n",
              "<table border=\"1\" class=\"dataframe\">\n",
              "  <thead>\n",
              "    <tr style=\"text-align: right;\">\n",
              "      <th></th>\n",
              "      <th>conceptId</th>\n",
              "      <th>_term</th>\n",
              "      <th>term</th>\n",
              "    </tr>\n",
              "  </thead>\n",
              "  <tbody>\n",
              "    <tr>\n",
              "      <th>0</th>\n",
              "      <td>108367008</td>\n",
              "      <td>Dislocation of joint</td>\n",
              "      <td>Dislocation of joint</td>\n",
              "    </tr>\n",
              "    <tr>\n",
              "      <th>1</th>\n",
              "      <td>3384011000036100</td>\n",
              "      <td>Arthrotec</td>\n",
              "      <td>Arthrotec</td>\n",
              "    </tr>\n",
              "    <tr>\n",
              "      <th>2</th>\n",
              "      <td>166717003</td>\n",
              "      <td>Serum creatinine raised</td>\n",
              "      <td>Serum creatinine raised</td>\n",
              "    </tr>\n",
              "    <tr>\n",
              "      <th>3</th>\n",
              "      <td>3877011000036101</td>\n",
              "      <td>Lipitor</td>\n",
              "      <td>Lipitor</td>\n",
              "    </tr>\n",
              "    <tr>\n",
              "      <th>4</th>\n",
              "      <td>402234004</td>\n",
              "      <td>Foot eczema</td>\n",
              "      <td>Foot eczema</td>\n",
              "    </tr>\n",
              "  </tbody>\n",
              "</table>\n",
              "</div>"
            ],
            "text/plain": [
              "          conceptId                    _term                     term\n",
              "0         108367008     Dislocation of joint     Dislocation of joint\n",
              "1  3384011000036100                Arthrotec                Arthrotec\n",
              "2         166717003  Serum creatinine raised  Serum creatinine raised\n",
              "3  3877011000036101                  Lipitor                  Lipitor\n",
              "4         402234004              Foot eczema              Foot eczema"
            ]
          },
          "metadata": {},
          "execution_count": 15
        }
      ]
    },
    {
      "cell_type": "markdown",
      "metadata": {
        "id": "DYpt-MvyAws6"
      },
      "source": [
        "We need the same columns for training."
      ]
    },
    {
      "cell_type": "code",
      "metadata": {
        "colab": {
          "base_uri": "https://localhost:8080/",
          "height": 48
        },
        "id": "iI73l6bx0-fA",
        "outputId": "f6f290c2-5b13-474e-9508-cf20e58bf4ef"
      },
      "source": [
        "new_dataset = pd.DataFrame(columns=aap_tr.columns)\n",
        "new_dataset"
      ],
      "execution_count": 16,
      "outputs": [
        {
          "output_type": "execute_result",
          "data": {
            "text/html": [
              "<div>\n",
              "<style scoped>\n",
              "    .dataframe tbody tr th:only-of-type {\n",
              "        vertical-align: middle;\n",
              "    }\n",
              "\n",
              "    .dataframe tbody tr th {\n",
              "        vertical-align: top;\n",
              "    }\n",
              "\n",
              "    .dataframe thead th {\n",
              "        text-align: right;\n",
              "    }\n",
              "</style>\n",
              "<table border=\"1\" class=\"dataframe\">\n",
              "  <thead>\n",
              "    <tr style=\"text-align: right;\">\n",
              "      <th></th>\n",
              "      <th>conceptId</th>\n",
              "      <th>_term</th>\n",
              "      <th>term</th>\n",
              "    </tr>\n",
              "  </thead>\n",
              "  <tbody>\n",
              "  </tbody>\n",
              "</table>\n",
              "</div>"
            ],
            "text/plain": [
              "Empty DataFrame\n",
              "Columns: [conceptId, _term, term]\n",
              "Index: []"
            ]
          },
          "metadata": {},
          "execution_count": 16
        }
      ]
    },
    {
      "cell_type": "markdown",
      "metadata": {
        "id": "C46TZdiKA7yx"
      },
      "source": [
        "## Use Cases\n",
        "\n",
        "Now we can add our concept_codes and terms to this new dataframe. In this example we wanted to show you some cases that you can see the success of re-training feature and used `XXXX` in the codes to get easily;\n",
        "\n",
        "- Added new lines that they are close to version of them in the main dataset (`Dislocation of joint -> Dislocation New Term`).\n",
        "\n",
        "- Changed the code of the terms in the main dataset (`Arthrotec`)\n",
        "\n",
        "- Changed the positions of the words in the terms (`Serum creatinine raised -> Raised serum creatinine`)\n",
        "\n",
        "- Added new terms to the dataset (`New Drug`, `athlete's foot`)"
      ]
    },
    {
      "cell_type": "code",
      "metadata": {
        "colab": {
          "base_uri": "https://localhost:8080/",
          "height": 202
        },
        "id": "GQkQSBg6zKm7",
        "outputId": "8dc5cabf-1ab0-4d89-f25d-917c68970400"
      },
      "source": [
        "new_dataset.conceptId = [\"XXXX67008\", \"XXXXXXXX00036100\", \"XXXXX7003\", \"XXXXXXXX00036101\", \"XXXXX4004\"]\n",
        "new_dataset._term = [\"Dislocation New Term\", \"Arthrotec\", \"Raised serum creatinine\", \"New Drug\", \"athlete's foot\"]\n",
        "new_dataset.term = [\"Dislocation New Term\", \"Arthrotec\", \"Raised serum creatinine\", \"New Drug\", \"athlete's foot\"]\n",
        "new_dataset"
      ],
      "execution_count": 17,
      "outputs": [
        {
          "output_type": "execute_result",
          "data": {
            "text/html": [
              "<div>\n",
              "<style scoped>\n",
              "    .dataframe tbody tr th:only-of-type {\n",
              "        vertical-align: middle;\n",
              "    }\n",
              "\n",
              "    .dataframe tbody tr th {\n",
              "        vertical-align: top;\n",
              "    }\n",
              "\n",
              "    .dataframe thead th {\n",
              "        text-align: right;\n",
              "    }\n",
              "</style>\n",
              "<table border=\"1\" class=\"dataframe\">\n",
              "  <thead>\n",
              "    <tr style=\"text-align: right;\">\n",
              "      <th></th>\n",
              "      <th>conceptId</th>\n",
              "      <th>_term</th>\n",
              "      <th>term</th>\n",
              "    </tr>\n",
              "  </thead>\n",
              "  <tbody>\n",
              "    <tr>\n",
              "      <th>0</th>\n",
              "      <td>XXXX67008</td>\n",
              "      <td>Dislocation New Term</td>\n",
              "      <td>Dislocation New Term</td>\n",
              "    </tr>\n",
              "    <tr>\n",
              "      <th>1</th>\n",
              "      <td>XXXXXXXX00036100</td>\n",
              "      <td>Arthrotec</td>\n",
              "      <td>Arthrotec</td>\n",
              "    </tr>\n",
              "    <tr>\n",
              "      <th>2</th>\n",
              "      <td>XXXXX7003</td>\n",
              "      <td>Raised serum creatinine</td>\n",
              "      <td>Raised serum creatinine</td>\n",
              "    </tr>\n",
              "    <tr>\n",
              "      <th>3</th>\n",
              "      <td>XXXXXXXX00036101</td>\n",
              "      <td>New Drug</td>\n",
              "      <td>New Drug</td>\n",
              "    </tr>\n",
              "    <tr>\n",
              "      <th>4</th>\n",
              "      <td>XXXXX4004</td>\n",
              "      <td>athlete's foot</td>\n",
              "      <td>athlete's foot</td>\n",
              "    </tr>\n",
              "  </tbody>\n",
              "</table>\n",
              "</div>"
            ],
            "text/plain": [
              "          conceptId                    _term                     term\n",
              "0         XXXX67008     Dislocation New Term     Dislocation New Term\n",
              "1  XXXXXXXX00036100                Arthrotec                Arthrotec\n",
              "2         XXXXX7003  Raised serum creatinine  Raised serum creatinine\n",
              "3  XXXXXXXX00036101                 New Drug                 New Drug\n",
              "4         XXXXX4004           athlete's foot           athlete's foot"
            ]
          },
          "metadata": {},
          "execution_count": 17
        }
      ]
    },
    {
      "cell_type": "markdown",
      "metadata": {
        "id": "-infZFZFDY8y"
      },
      "source": [
        "We transformed our new dataframe by using `snomed_emb_model` and added new columns that we need for re-training."
      ]
    },
    {
      "cell_type": "code",
      "metadata": {
        "colab": {
          "base_uri": "https://localhost:8080/"
        },
        "id": "QtCeGXR5zMPa",
        "outputId": "f78304b9-1152-486c-a94c-f50737601585"
      },
      "source": [
        "new_snomed_data = snomed_emb_model.transform(spark.createDataFrame(new_dataset))\n",
        "new_snomed_data.show()"
      ],
      "execution_count": 18,
      "outputs": [
        {
          "output_type": "stream",
          "name": "stdout",
          "text": [
            "+----------------+--------------------+--------------------+--------------------+--------------------+\n",
            "|       conceptId|               _term|                term|           ner_chunk|     bert_embeddings|\n",
            "+----------------+--------------------+--------------------+--------------------+--------------------+\n",
            "|       XXXX67008|Dislocation New Term|Dislocation New Term|[{document, 0, 19...|[{sentence_embedd...|\n",
            "|XXXXXXXX00036100|           Arthrotec|           Arthrotec|[{document, 0, 8,...|[{sentence_embedd...|\n",
            "|       XXXXX7003|Raised serum crea...|Raised serum crea...|[{document, 0, 22...|[{sentence_embedd...|\n",
            "|XXXXXXXX00036101|            New Drug|            New Drug|[{document, 0, 7,...|[{sentence_embedd...|\n",
            "|       XXXXX4004|      athlete's foot|      athlete's foot|[{document, 0, 13...|[{sentence_embedd...|\n",
            "+----------------+--------------------+--------------------+--------------------+--------------------+\n",
            "\n"
          ]
        }
      ]
    },
    {
      "cell_type": "markdown",
      "metadata": {
        "id": "7m9ut2gWD1sh"
      },
      "source": [
        "Now we will re-train our main model with new dataset by using `.setPretrainedModelPath()` parameter. "
      ]
    },
    {
      "cell_type": "code",
      "metadata": {
        "id": "umuTgrpV1mKO"
      },
      "source": [
        "new_snomed_model = bertExtractor.setPretrainedModelPath(\"sbiobertresolve_snomed_model\").fit(new_snomed_data)"
      ],
      "execution_count": 19,
      "outputs": []
    },
    {
      "cell_type": "code",
      "metadata": {
        "id": "8jrm9I8V29gh"
      },
      "source": [
        "# save if you need later\n",
        "\n",
        "new_snomed_model.write().overwrite().save(\"new_sbiobertresolve_snomed_model\")"
      ],
      "execution_count": 20,
      "outputs": []
    },
    {
      "cell_type": "markdown",
      "metadata": {
        "id": "d2fahfJSEKmN"
      },
      "source": [
        "Write a function to show the results more clearly."
      ]
    },
    {
      "cell_type": "code",
      "metadata": {
        "id": "MUMHLxEQ3aXi"
      },
      "source": [
        "import pandas as pd\n",
        "\n",
        "pd.set_option('display.max_colwidth', 0)\n",
        "\n",
        "\n",
        "def get_codes (lp, text, vocab='snomed_code'):\n",
        "    \n",
        "    full_light_result = lp.fullAnnotate(text)\n",
        "\n",
        "    chunks = []\n",
        "    codes = []\n",
        "    begin = []\n",
        "    end = []\n",
        "    resolutions=[]\n",
        "    all_distances =[]\n",
        "    all_codes=[]\n",
        "    all_cosines = []\n",
        "\n",
        "    for chunk, code in zip(full_light_result[0]['ner_chunk'], full_light_result[0][vocab]):\n",
        "            \n",
        "        begin.append(chunk.begin)\n",
        "        end.append(chunk.end)\n",
        "        chunks.append(chunk.result)\n",
        "        codes.append(code.result) \n",
        "        all_codes.append(code.metadata['all_k_results'].split(':::'))\n",
        "        resolutions.append(code.metadata['all_k_resolutions'].split(':::'))\n",
        "        all_distances.append(code.metadata['all_k_distances'].split(':::'))\n",
        "        all_cosines.append(code.metadata['all_k_cosine_distances'].split(':::'))\n",
        "        \n",
        "    df = pd.DataFrame({'chunks':chunks, 'begin': begin, 'end':end, 'code':codes,'all_codes':all_codes, \n",
        "                       'resolutions':resolutions, 'all_distances':all_cosines})\n",
        "        \n",
        "    return df\n",
        "\n"
      ],
      "execution_count": 21,
      "outputs": []
    },
    {
      "cell_type": "markdown",
      "metadata": {
        "id": "FK3zXP0yEg3C"
      },
      "source": [
        "## Test the New Model\n",
        "We will create a pipeline that contains both of the models and check the results by using `LightPipeline`."
      ]
    },
    {
      "cell_type": "code",
      "metadata": {
        "colab": {
          "base_uri": "https://localhost:8080/"
        },
        "id": "hhTYUBaU2PSB",
        "outputId": "b8d96407-06bf-49ed-ae22-b4e72354d0eb"
      },
      "source": [
        "documentAssembler = DocumentAssembler()\\\n",
        "      .setInputCol(\"text\")\\\n",
        "      .setOutputCol(\"ner_chunk\")\n",
        "\n",
        "sbert_embedder = BertSentenceEmbeddings.pretrained('sbiobert_base_cased_mli', 'en','clinical/models')\\\n",
        "      .setInputCols([\"ner_chunk\"])\\\n",
        "      .setOutputCol(\"sbert_embeddings\")\\\n",
        "      .setCaseSensitive(False)\n",
        "\n",
        "first_model = SentenceEntityResolverModel.load(\"sbiobertresolve_snomed_model\") \\\n",
        "      .setInputCols([\"ner_chunk\", \"sbert_embeddings\"]) \\\n",
        "      .setOutputCol(\"first_code\")\n",
        "\n",
        "second_model = SentenceEntityResolverModel.load(\"new_sbiobertresolve_snomed_model\") \\\n",
        "      .setInputCols([\"ner_chunk\", \"sbert_embeddings\"]) \\\n",
        "      .setOutputCol(\"second_code\")\n",
        "\n",
        "\n",
        "pipelineModel = PipelineModel(\n",
        "    stages = [\n",
        "        documentAssembler,\n",
        "        sbert_embedder,\n",
        "        first_model,\n",
        "        second_model])\n",
        "\n",
        "snomed_lp = LightPipeline(pipelineModel)\n"
      ],
      "execution_count": 22,
      "outputs": [
        {
          "output_type": "stream",
          "name": "stdout",
          "text": [
            "sbiobert_base_cased_mli download started this may take some time.\n",
            "Approximate size to download 384.3 MB\n",
            "[OK!]\n"
          ]
        }
      ]
    },
    {
      "cell_type": "markdown",
      "metadata": {
        "id": "ytvUyGO1FGzg"
      },
      "source": [
        "Lets test our models with the terms that we added into the new dataset and the ones that comes from the main model (`Stomach ache` and `Pins and needles`)."
      ]
    },
    {
      "cell_type": "code",
      "metadata": {
        "colab": {
          "base_uri": "https://localhost:8080/"
        },
        "id": "pghuCa8d4Lnw",
        "outputId": "f494266d-b7e8-4c5d-9be7-3762b5eb022b"
      },
      "source": [
        "chunk_list = [\"Dislocation New Term\", \"Arthrotec\", \"Raised serum creatinine\", \"New Drug\", \"athlete's foot\", \"Stomach ache\", \"Pins and needles\"]\n",
        "chunk_list"
      ],
      "execution_count": 23,
      "outputs": [
        {
          "output_type": "execute_result",
          "data": {
            "text/plain": [
              "['Dislocation New Term',\n",
              " 'Arthrotec',\n",
              " 'Raised serum creatinine',\n",
              " 'New Drug',\n",
              " \"athlete's foot\",\n",
              " 'Stomach ache',\n",
              " 'Pins and needles']"
            ]
          },
          "metadata": {},
          "execution_count": 23
        }
      ]
    },
    {
      "cell_type": "code",
      "metadata": {
        "colab": {
          "base_uri": "https://localhost:8080/",
          "height": 1000
        },
        "id": "WHL8noEW4U3U",
        "outputId": "db5272ba-6a80-47e0-ee24-ff26ac0fd390"
      },
      "source": [
        "from IPython.display import display\n",
        "\n",
        "for chunk in chunk_list:\n",
        "\n",
        "    print ('\\n >>','/'*30, chunk, '/'*30, '\\n')\n",
        "    \n",
        "    print('First Model Result:')\n",
        "    display(get_codes (snomed_lp, chunk, vocab='first_code'))\n",
        "    \n",
        "    print('\\n Second Model Result:')\n",
        "    display(get_codes (snomed_lp, chunk, vocab='second_code'))"
      ],
      "execution_count": 24,
      "outputs": [
        {
          "output_type": "stream",
          "name": "stdout",
          "text": [
            "\n",
            " >> ////////////////////////////// Dislocation New Term ////////////////////////////// \n",
            "\n",
            "First Model Result:\n"
          ]
        },
        {
          "output_type": "display_data",
          "data": {
            "text/html": [
              "<div>\n",
              "<style scoped>\n",
              "    .dataframe tbody tr th:only-of-type {\n",
              "        vertical-align: middle;\n",
              "    }\n",
              "\n",
              "    .dataframe tbody tr th {\n",
              "        vertical-align: top;\n",
              "    }\n",
              "\n",
              "    .dataframe thead th {\n",
              "        text-align: right;\n",
              "    }\n",
              "</style>\n",
              "<table border=\"1\" class=\"dataframe\">\n",
              "  <thead>\n",
              "    <tr style=\"text-align: right;\">\n",
              "      <th></th>\n",
              "      <th>chunks</th>\n",
              "      <th>begin</th>\n",
              "      <th>end</th>\n",
              "      <th>code</th>\n",
              "      <th>all_codes</th>\n",
              "      <th>resolutions</th>\n",
              "      <th>all_distances</th>\n",
              "    </tr>\n",
              "  </thead>\n",
              "  <tbody>\n",
              "    <tr>\n",
              "      <th>0</th>\n",
              "      <td>Dislocation New Term</td>\n",
              "      <td>0</td>\n",
              "      <td>19</td>\n",
              "      <td>2764000</td>\n",
              "      <td>[2764000, 125667009, 429513001, 415749005, 202855006, 414469009, 249966004, 14351000168102, 12441001, 4308002, 21288011000036105, 54981004, 698065002, 1806006, 34840004, 283902008, 419076005, 53523011000036100, 3530011000036104, 23056005]</td>\n",
              "      <td>[Joint crepitus, Contusion, Rupture of Achilles tendon, Rupture of tendon, Lateral epicondylitis, Impending shock, Spasmodic movement, Seroquel, Epistaxis, Repetitive strain injury, diclofenac, Charleyhorse, Acid reflux, Eruption, Tendonitis, Has delayed recall, Allergic reaction, Diovan, Lopid, Sciatica]</td>\n",
              "      <td>[0.2654, 0.2695, 0.3075, 0.3011, 0.3281, 0.3136, 0.3238, 0.3381, 0.3422, 0.3231, 0.3598, 0.3562, 0.3352, 0.3335, 0.3447, 0.3418, 0.3383, 0.3491, 0.3609, 0.3472]</td>\n",
              "    </tr>\n",
              "  </tbody>\n",
              "</table>\n",
              "</div>"
            ],
            "text/plain": [
              "                 chunks  ...                                                                                                                                                     all_distances\n",
              "0  Dislocation New Term  ...  [0.2654, 0.2695, 0.3075, 0.3011, 0.3281, 0.3136, 0.3238, 0.3381, 0.3422, 0.3231, 0.3598, 0.3562, 0.3352, 0.3335, 0.3447, 0.3418, 0.3383, 0.3491, 0.3609, 0.3472]\n",
              "\n",
              "[1 rows x 7 columns]"
            ]
          },
          "metadata": {}
        },
        {
          "output_type": "stream",
          "name": "stdout",
          "text": [
            "\n",
            " Second Model Result:\n"
          ]
        },
        {
          "output_type": "display_data",
          "data": {
            "text/html": [
              "<div>\n",
              "<style scoped>\n",
              "    .dataframe tbody tr th:only-of-type {\n",
              "        vertical-align: middle;\n",
              "    }\n",
              "\n",
              "    .dataframe tbody tr th {\n",
              "        vertical-align: top;\n",
              "    }\n",
              "\n",
              "    .dataframe thead th {\n",
              "        text-align: right;\n",
              "    }\n",
              "</style>\n",
              "<table border=\"1\" class=\"dataframe\">\n",
              "  <thead>\n",
              "    <tr style=\"text-align: right;\">\n",
              "      <th></th>\n",
              "      <th>chunks</th>\n",
              "      <th>begin</th>\n",
              "      <th>end</th>\n",
              "      <th>code</th>\n",
              "      <th>all_codes</th>\n",
              "      <th>resolutions</th>\n",
              "      <th>all_distances</th>\n",
              "    </tr>\n",
              "  </thead>\n",
              "  <tbody>\n",
              "    <tr>\n",
              "      <th>0</th>\n",
              "      <td>Dislocation New Term</td>\n",
              "      <td>0</td>\n",
              "      <td>19</td>\n",
              "      <td>XXXX67008</td>\n",
              "      <td>[XXXX67008, XXXXXXXX00036101, 2764000, 125667009, 429513001, 415749005, 202855006, 414469009, 249966004, 14351000168102, 12441001, 4308002, 21288011000036105, 54981004, 698065002, 1806006, 34840004, 283902008, 419076005, 53523011000036100]</td>\n",
              "      <td>[Dislocation New Term, New Drug, Joint crepitus, Contusion, Rupture of Achilles tendon, Rupture of tendon, Lateral epicondylitis, Impending shock, Spasmodic movement, Seroquel, Epistaxis, Repetitive strain injury, diclofenac, Charleyhorse, Acid reflux, Eruption, Tendonitis, Has delayed recall, Allergic reaction, Diovan]</td>\n",
              "      <td>[0.0000, 0.2513, 0.2654, 0.2695, 0.3075, 0.3011, 0.3281, 0.3136, 0.3238, 0.3381, 0.3422, 0.3231, 0.3598, 0.3562, 0.3352, 0.3335, 0.3447, 0.3418, 0.3383, 0.3491]</td>\n",
              "    </tr>\n",
              "  </tbody>\n",
              "</table>\n",
              "</div>"
            ],
            "text/plain": [
              "                 chunks  ...                                                                                                                                                     all_distances\n",
              "0  Dislocation New Term  ...  [0.0000, 0.2513, 0.2654, 0.2695, 0.3075, 0.3011, 0.3281, 0.3136, 0.3238, 0.3381, 0.3422, 0.3231, 0.3598, 0.3562, 0.3352, 0.3335, 0.3447, 0.3418, 0.3383, 0.3491]\n",
              "\n",
              "[1 rows x 7 columns]"
            ]
          },
          "metadata": {}
        },
        {
          "output_type": "stream",
          "name": "stdout",
          "text": [
            "\n",
            " >> ////////////////////////////// Arthrotec ////////////////////////////// \n",
            "\n",
            "First Model Result:\n"
          ]
        },
        {
          "output_type": "display_data",
          "data": {
            "text/html": [
              "<div>\n",
              "<style scoped>\n",
              "    .dataframe tbody tr th:only-of-type {\n",
              "        vertical-align: middle;\n",
              "    }\n",
              "\n",
              "    .dataframe tbody tr th {\n",
              "        vertical-align: top;\n",
              "    }\n",
              "\n",
              "    .dataframe thead th {\n",
              "        text-align: right;\n",
              "    }\n",
              "</style>\n",
              "<table border=\"1\" class=\"dataframe\">\n",
              "  <thead>\n",
              "    <tr style=\"text-align: right;\">\n",
              "      <th></th>\n",
              "      <th>chunks</th>\n",
              "      <th>begin</th>\n",
              "      <th>end</th>\n",
              "      <th>code</th>\n",
              "      <th>all_codes</th>\n",
              "      <th>resolutions</th>\n",
              "      <th>all_distances</th>\n",
              "    </tr>\n",
              "  </thead>\n",
              "  <tbody>\n",
              "    <tr>\n",
              "      <th>0</th>\n",
              "      <td>Arthrotec</td>\n",
              "      <td>0</td>\n",
              "      <td>8</td>\n",
              "      <td>3384011000036100</td>\n",
              "      <td>[3384011000036100, 53215011000036102, 87715008, 53458011000036102, 32970011000036103, 54981004, 28551000168108, 53523011000036100, 3530011000036104, 3563011000036102, 3848011000036104, 35209006, 3904011000036106, 247472004, 3877011000036101, 77424011000036100, 271587009]</td>\n",
              "      <td>[Arthrotec, Advil, Aptyalism, Aleve, Toprol-XL, Charleyhorse, Voltaren, Diovan, Lopid, Zantac, Pravachol, Sensitivity, Zocor, Hives, Lipitor, ubidecarenone, Stiffness]</td>\n",
              "      <td>[0.0000, 0.1731, 0.1846, 0.2122, 0.2298, 0.2309, 0.2299, 0.2319, 0.2448, 0.2475, 0.2498, 0.2400, 0.2558, 0.2527, 0.2582, 0.2748, 0.2505]</td>\n",
              "    </tr>\n",
              "  </tbody>\n",
              "</table>\n",
              "</div>"
            ],
            "text/plain": [
              "      chunks  ...                                                                                                                             all_distances\n",
              "0  Arthrotec  ...  [0.0000, 0.1731, 0.1846, 0.2122, 0.2298, 0.2309, 0.2299, 0.2319, 0.2448, 0.2475, 0.2498, 0.2400, 0.2558, 0.2527, 0.2582, 0.2748, 0.2505]\n",
              "\n",
              "[1 rows x 7 columns]"
            ]
          },
          "metadata": {}
        },
        {
          "output_type": "stream",
          "name": "stdout",
          "text": [
            "\n",
            " Second Model Result:\n"
          ]
        },
        {
          "output_type": "display_data",
          "data": {
            "text/html": [
              "<div>\n",
              "<style scoped>\n",
              "    .dataframe tbody tr th:only-of-type {\n",
              "        vertical-align: middle;\n",
              "    }\n",
              "\n",
              "    .dataframe tbody tr th {\n",
              "        vertical-align: top;\n",
              "    }\n",
              "\n",
              "    .dataframe thead th {\n",
              "        text-align: right;\n",
              "    }\n",
              "</style>\n",
              "<table border=\"1\" class=\"dataframe\">\n",
              "  <thead>\n",
              "    <tr style=\"text-align: right;\">\n",
              "      <th></th>\n",
              "      <th>chunks</th>\n",
              "      <th>begin</th>\n",
              "      <th>end</th>\n",
              "      <th>code</th>\n",
              "      <th>all_codes</th>\n",
              "      <th>resolutions</th>\n",
              "      <th>all_distances</th>\n",
              "    </tr>\n",
              "  </thead>\n",
              "  <tbody>\n",
              "    <tr>\n",
              "      <th>0</th>\n",
              "      <td>Arthrotec</td>\n",
              "      <td>0</td>\n",
              "      <td>8</td>\n",
              "      <td>XXXXXXXX00036100</td>\n",
              "      <td>[XXXXXXXX00036100, 3384011000036100, 53215011000036102, 87715008, 53458011000036102, 32970011000036103, 54981004, 28551000168108, 53523011000036100, 3530011000036104, 3563011000036102, 3848011000036104, 35209006, 3904011000036106, 247472004, 3877011000036101, 77424011000036100]</td>\n",
              "      <td>[Arthrotec, Arthrotec, Advil, Aptyalism, Aleve, Toprol-XL, Charleyhorse, Voltaren, Diovan, Lopid, Zantac, Pravachol, Sensitivity, Zocor, Hives, Lipitor, ubidecarenone]</td>\n",
              "      <td>[0.0000, 0.0000, 0.1731, 0.1846, 0.2122, 0.2298, 0.2309, 0.2299, 0.2319, 0.2448, 0.2475, 0.2498, 0.2400, 0.2558, 0.2527, 0.2582, 0.2748]</td>\n",
              "    </tr>\n",
              "  </tbody>\n",
              "</table>\n",
              "</div>"
            ],
            "text/plain": [
              "      chunks  ...                                                                                                                             all_distances\n",
              "0  Arthrotec  ...  [0.0000, 0.0000, 0.1731, 0.1846, 0.2122, 0.2298, 0.2309, 0.2299, 0.2319, 0.2448, 0.2475, 0.2498, 0.2400, 0.2558, 0.2527, 0.2582, 0.2748]\n",
              "\n",
              "[1 rows x 7 columns]"
            ]
          },
          "metadata": {}
        },
        {
          "output_type": "stream",
          "name": "stdout",
          "text": [
            "\n",
            " >> ////////////////////////////// Raised serum creatinine ////////////////////////////// \n",
            "\n",
            "First Model Result:\n"
          ]
        },
        {
          "output_type": "display_data",
          "data": {
            "text/html": [
              "<div>\n",
              "<style scoped>\n",
              "    .dataframe tbody tr th:only-of-type {\n",
              "        vertical-align: middle;\n",
              "    }\n",
              "\n",
              "    .dataframe tbody tr th {\n",
              "        vertical-align: top;\n",
              "    }\n",
              "\n",
              "    .dataframe thead th {\n",
              "        text-align: right;\n",
              "    }\n",
              "</style>\n",
              "<table border=\"1\" class=\"dataframe\">\n",
              "  <thead>\n",
              "    <tr style=\"text-align: right;\">\n",
              "      <th></th>\n",
              "      <th>chunks</th>\n",
              "      <th>begin</th>\n",
              "      <th>end</th>\n",
              "      <th>code</th>\n",
              "      <th>all_codes</th>\n",
              "      <th>resolutions</th>\n",
              "      <th>all_distances</th>\n",
              "    </tr>\n",
              "  </thead>\n",
              "  <tbody>\n",
              "    <tr>\n",
              "      <th>0</th>\n",
              "      <td>Raised serum creatinine</td>\n",
              "      <td>0</td>\n",
              "      <td>22</td>\n",
              "      <td>432352001</td>\n",
              "      <td>[432352001, 166830008, 69791001, 51590001, 249477003, 42399005, 60728008, 166702002, 24184005, 40095003, 278528006, 34436003, 271737000, 124042003, 43498006, 59976005, 166643006]</td>\n",
              "      <td>[Increased creatine kinase level, Serum cholesterol raised, Increased venous pressure, Increased pressure, Increased thirst, Renal failure, Abdominal swelling, Raised serum calcium level, Finding of increased blood pressure, Renal injury, Facial swelling, Haematuria, Anaemia, Increased lipid, Body fluid retention, Increased belching, Liver enzymes abnormal]</td>\n",
              "      <td>[0.1387, 0.1686, 0.1815, 0.1821, 0.1831, 0.1847, 0.1939, 0.2002, 0.2020, 0.2050, 0.2016, 0.2143, 0.2166, 0.2300, 0.2198, 0.2309, 0.2210]</td>\n",
              "    </tr>\n",
              "  </tbody>\n",
              "</table>\n",
              "</div>"
            ],
            "text/plain": [
              "                    chunks  ...                                                                                                                             all_distances\n",
              "0  Raised serum creatinine  ...  [0.1387, 0.1686, 0.1815, 0.1821, 0.1831, 0.1847, 0.1939, 0.2002, 0.2020, 0.2050, 0.2016, 0.2143, 0.2166, 0.2300, 0.2198, 0.2309, 0.2210]\n",
              "\n",
              "[1 rows x 7 columns]"
            ]
          },
          "metadata": {}
        },
        {
          "output_type": "stream",
          "name": "stdout",
          "text": [
            "\n",
            " Second Model Result:\n"
          ]
        },
        {
          "output_type": "display_data",
          "data": {
            "text/html": [
              "<div>\n",
              "<style scoped>\n",
              "    .dataframe tbody tr th:only-of-type {\n",
              "        vertical-align: middle;\n",
              "    }\n",
              "\n",
              "    .dataframe tbody tr th {\n",
              "        vertical-align: top;\n",
              "    }\n",
              "\n",
              "    .dataframe thead th {\n",
              "        text-align: right;\n",
              "    }\n",
              "</style>\n",
              "<table border=\"1\" class=\"dataframe\">\n",
              "  <thead>\n",
              "    <tr style=\"text-align: right;\">\n",
              "      <th></th>\n",
              "      <th>chunks</th>\n",
              "      <th>begin</th>\n",
              "      <th>end</th>\n",
              "      <th>code</th>\n",
              "      <th>all_codes</th>\n",
              "      <th>resolutions</th>\n",
              "      <th>all_distances</th>\n",
              "    </tr>\n",
              "  </thead>\n",
              "  <tbody>\n",
              "    <tr>\n",
              "      <th>0</th>\n",
              "      <td>Raised serum creatinine</td>\n",
              "      <td>0</td>\n",
              "      <td>22</td>\n",
              "      <td>XXXXX7003</td>\n",
              "      <td>[XXXXX7003, 432352001, 166830008, 69791001, 51590001, 249477003, 42399005, 60728008, 166702002, 24184005, 40095003, 278528006, 34436003, 271737000, 124042003, 43498006, 59976005]</td>\n",
              "      <td>[Raised serum creatinine, Increased creatine kinase level, Serum cholesterol raised, Increased venous pressure, Increased pressure, Increased thirst, Renal failure, Abdominal swelling, Raised serum calcium level, Finding of increased blood pressure, Renal injury, Facial swelling, Haematuria, Anaemia, Increased lipid, Body fluid retention, Increased belching]</td>\n",
              "      <td>[0.0000, 0.1387, 0.1686, 0.1815, 0.1821, 0.1831, 0.1847, 0.1939, 0.2002, 0.2020, 0.2050, 0.2016, 0.2143, 0.2166, 0.2300, 0.2198, 0.2309]</td>\n",
              "    </tr>\n",
              "  </tbody>\n",
              "</table>\n",
              "</div>"
            ],
            "text/plain": [
              "                    chunks  ...                                                                                                                             all_distances\n",
              "0  Raised serum creatinine  ...  [0.0000, 0.1387, 0.1686, 0.1815, 0.1821, 0.1831, 0.1847, 0.1939, 0.2002, 0.2020, 0.2050, 0.2016, 0.2143, 0.2166, 0.2300, 0.2198, 0.2309]\n",
              "\n",
              "[1 rows x 7 columns]"
            ]
          },
          "metadata": {}
        },
        {
          "output_type": "stream",
          "name": "stdout",
          "text": [
            "\n",
            " >> ////////////////////////////// New Drug ////////////////////////////// \n",
            "\n",
            "First Model Result:\n"
          ]
        },
        {
          "output_type": "display_data",
          "data": {
            "text/html": [
              "<div>\n",
              "<style scoped>\n",
              "    .dataframe tbody tr th:only-of-type {\n",
              "        vertical-align: middle;\n",
              "    }\n",
              "\n",
              "    .dataframe tbody tr th {\n",
              "        vertical-align: top;\n",
              "    }\n",
              "\n",
              "    .dataframe thead th {\n",
              "        text-align: right;\n",
              "    }\n",
              "</style>\n",
              "<table border=\"1\" class=\"dataframe\">\n",
              "  <thead>\n",
              "    <tr style=\"text-align: right;\">\n",
              "      <th></th>\n",
              "      <th>chunks</th>\n",
              "      <th>begin</th>\n",
              "      <th>end</th>\n",
              "      <th>code</th>\n",
              "      <th>all_codes</th>\n",
              "      <th>resolutions</th>\n",
              "      <th>all_distances</th>\n",
              "    </tr>\n",
              "  </thead>\n",
              "  <tbody>\n",
              "    <tr>\n",
              "      <th>0</th>\n",
              "      <td>New Drug</td>\n",
              "      <td>0</td>\n",
              "      <td>7</td>\n",
              "      <td>419511003</td>\n",
              "      <td>[419511003, 14351000168102, 271807003, 34839011000036106, 21885011000036105, 21839011000036103, 21821011000036104, 77424011000036100, 21747011000036106, 1806006, 21252011000036100, 118940003, 21304011000036105, 21134002, 21288011000036105, 21659011000036107, 21930011000036101, 95319004]</td>\n",
              "      <td>[Propensity to adverse reactions to drug, Seroquel, Rash, pethidine, ibuprofen, bisoprolol, codeine, ubidecarenone, glipizide, Eruption, morphine, Disorder of nervous system, naproxen, Disability, diclofenac, gemfibrozil, ezetimibe, Skin nodule]</td>\n",
              "      <td>[0.3044, 0.3488, 0.3267, 0.3476, 0.3438, 0.3811, 0.3639, 0.3921, 0.3705, 0.3566, 0.3779, 0.3533, 0.3704, 0.3497, 0.3936, 0.3961, 0.3833, 0.3762]</td>\n",
              "    </tr>\n",
              "  </tbody>\n",
              "</table>\n",
              "</div>"
            ],
            "text/plain": [
              "     chunks  ...                                                                                                                                     all_distances\n",
              "0  New Drug  ...  [0.3044, 0.3488, 0.3267, 0.3476, 0.3438, 0.3811, 0.3639, 0.3921, 0.3705, 0.3566, 0.3779, 0.3533, 0.3704, 0.3497, 0.3936, 0.3961, 0.3833, 0.3762]\n",
              "\n",
              "[1 rows x 7 columns]"
            ]
          },
          "metadata": {}
        },
        {
          "output_type": "stream",
          "name": "stdout",
          "text": [
            "\n",
            " Second Model Result:\n"
          ]
        },
        {
          "output_type": "display_data",
          "data": {
            "text/html": [
              "<div>\n",
              "<style scoped>\n",
              "    .dataframe tbody tr th:only-of-type {\n",
              "        vertical-align: middle;\n",
              "    }\n",
              "\n",
              "    .dataframe tbody tr th {\n",
              "        vertical-align: top;\n",
              "    }\n",
              "\n",
              "    .dataframe thead th {\n",
              "        text-align: right;\n",
              "    }\n",
              "</style>\n",
              "<table border=\"1\" class=\"dataframe\">\n",
              "  <thead>\n",
              "    <tr style=\"text-align: right;\">\n",
              "      <th></th>\n",
              "      <th>chunks</th>\n",
              "      <th>begin</th>\n",
              "      <th>end</th>\n",
              "      <th>code</th>\n",
              "      <th>all_codes</th>\n",
              "      <th>resolutions</th>\n",
              "      <th>all_distances</th>\n",
              "    </tr>\n",
              "  </thead>\n",
              "  <tbody>\n",
              "    <tr>\n",
              "      <th>0</th>\n",
              "      <td>New Drug</td>\n",
              "      <td>0</td>\n",
              "      <td>7</td>\n",
              "      <td>XXXXXXXX00036101</td>\n",
              "      <td>[XXXXXXXX00036101, XXXX67008, 419511003, 14351000168102, 271807003, 34839011000036106, 21885011000036105, 21839011000036103, 21821011000036104, 77424011000036100, 21747011000036106, 1806006, 21252011000036100, 118940003, 21304011000036105, 21134002, 21288011000036105, 21659011000036107, 21930011000036101]</td>\n",
              "      <td>[New Drug, Dislocation New Term, Propensity to adverse reactions to drug, Seroquel, Rash, pethidine, ibuprofen, bisoprolol, codeine, ubidecarenone, glipizide, Eruption, morphine, Disorder of nervous system, naproxen, Disability, diclofenac, gemfibrozil, ezetimibe]</td>\n",
              "      <td>[0.0000, 0.2513, 0.3044, 0.3488, 0.3267, 0.3476, 0.3438, 0.3811, 0.3639, 0.3921, 0.3705, 0.3566, 0.3779, 0.3533, 0.3704, 0.3497, 0.3936, 0.3961, 0.3833]</td>\n",
              "    </tr>\n",
              "  </tbody>\n",
              "</table>\n",
              "</div>"
            ],
            "text/plain": [
              "     chunks  ...                                                                                                                                             all_distances\n",
              "0  New Drug  ...  [0.0000, 0.2513, 0.3044, 0.3488, 0.3267, 0.3476, 0.3438, 0.3811, 0.3639, 0.3921, 0.3705, 0.3566, 0.3779, 0.3533, 0.3704, 0.3497, 0.3936, 0.3961, 0.3833]\n",
              "\n",
              "[1 rows x 7 columns]"
            ]
          },
          "metadata": {}
        },
        {
          "output_type": "stream",
          "name": "stdout",
          "text": [
            "\n",
            " >> ////////////////////////////// athlete's foot ////////////////////////////// \n",
            "\n",
            "First Model Result:\n"
          ]
        },
        {
          "output_type": "display_data",
          "data": {
            "text/html": [
              "<div>\n",
              "<style scoped>\n",
              "    .dataframe tbody tr th:only-of-type {\n",
              "        vertical-align: middle;\n",
              "    }\n",
              "\n",
              "    .dataframe tbody tr th {\n",
              "        vertical-align: top;\n",
              "    }\n",
              "\n",
              "    .dataframe thead th {\n",
              "        text-align: right;\n",
              "    }\n",
              "</style>\n",
              "<table border=\"1\" class=\"dataframe\">\n",
              "  <thead>\n",
              "    <tr style=\"text-align: right;\">\n",
              "      <th></th>\n",
              "      <th>chunks</th>\n",
              "      <th>begin</th>\n",
              "      <th>end</th>\n",
              "      <th>code</th>\n",
              "      <th>all_codes</th>\n",
              "      <th>resolutions</th>\n",
              "      <th>all_distances</th>\n",
              "    </tr>\n",
              "  </thead>\n",
              "  <tbody>\n",
              "    <tr>\n",
              "      <th>0</th>\n",
              "      <td>athlete's foot</td>\n",
              "      <td>0</td>\n",
              "      <td>13</td>\n",
              "      <td>118932009</td>\n",
              "      <td>[118932009, 699368004, 128605003, 309087008, 298241001, 297142003, 102551008, 425772008, 6389006, 3253007, 22325002, 54981004, 16973004, 82971005, 387603000, 55260003, 3877011000036101, 8510008]</td>\n",
              "      <td>[Disorder of foot, Symptom of ankle, Disorder of extremity, Paraesthesia of foot, Foot joint stiff, Foot swelling, Cramp in foot, Tendonitis of foot, Disturbance in physical behaviour, Discolouration of skin, Abnormal gait, Charleyhorse, Limping, Impaired mobility, Impairment of balance, Calcaneal spur, Lipitor, Reduced mobility]</td>\n",
              "      <td>[0.1275, 0.2012, 0.2001, 0.2106, 0.2076, 0.2152, 0.2178, 0.2278, 0.2248, 0.2374, 0.2402, 0.2601, 0.2451, 0.2423, 0.2451, 0.2645, 0.2647, 0.2546]</td>\n",
              "    </tr>\n",
              "  </tbody>\n",
              "</table>\n",
              "</div>"
            ],
            "text/plain": [
              "           chunks  ...                                                                                                                                     all_distances\n",
              "0  athlete's foot  ...  [0.1275, 0.2012, 0.2001, 0.2106, 0.2076, 0.2152, 0.2178, 0.2278, 0.2248, 0.2374, 0.2402, 0.2601, 0.2451, 0.2423, 0.2451, 0.2645, 0.2647, 0.2546]\n",
              "\n",
              "[1 rows x 7 columns]"
            ]
          },
          "metadata": {}
        },
        {
          "output_type": "stream",
          "name": "stdout",
          "text": [
            "\n",
            " Second Model Result:\n"
          ]
        },
        {
          "output_type": "display_data",
          "data": {
            "text/html": [
              "<div>\n",
              "<style scoped>\n",
              "    .dataframe tbody tr th:only-of-type {\n",
              "        vertical-align: middle;\n",
              "    }\n",
              "\n",
              "    .dataframe tbody tr th {\n",
              "        vertical-align: top;\n",
              "    }\n",
              "\n",
              "    .dataframe thead th {\n",
              "        text-align: right;\n",
              "    }\n",
              "</style>\n",
              "<table border=\"1\" class=\"dataframe\">\n",
              "  <thead>\n",
              "    <tr style=\"text-align: right;\">\n",
              "      <th></th>\n",
              "      <th>chunks</th>\n",
              "      <th>begin</th>\n",
              "      <th>end</th>\n",
              "      <th>code</th>\n",
              "      <th>all_codes</th>\n",
              "      <th>resolutions</th>\n",
              "      <th>all_distances</th>\n",
              "    </tr>\n",
              "  </thead>\n",
              "  <tbody>\n",
              "    <tr>\n",
              "      <th>0</th>\n",
              "      <td>athlete's foot</td>\n",
              "      <td>0</td>\n",
              "      <td>13</td>\n",
              "      <td>XXXXX4004</td>\n",
              "      <td>[XXXXX4004, 118932009, 699368004, 128605003, 309087008, 298241001, 297142003, 102551008, 425772008, 6389006, 3253007, 22325002, 54981004, 16973004, 82971005, 387603000, 55260003, 3877011000036101]</td>\n",
              "      <td>[athlete's foot, Disorder of foot, Symptom of ankle, Disorder of extremity, Paraesthesia of foot, Foot joint stiff, Foot swelling, Cramp in foot, Tendonitis of foot, Disturbance in physical behaviour, Discolouration of skin, Abnormal gait, Charleyhorse, Limping, Impaired mobility, Impairment of balance, Calcaneal spur, Lipitor]</td>\n",
              "      <td>[0.0000, 0.1275, 0.2012, 0.2001, 0.2106, 0.2076, 0.2152, 0.2178, 0.2278, 0.2248, 0.2374, 0.2402, 0.2601, 0.2451, 0.2423, 0.2451, 0.2645, 0.2647]</td>\n",
              "    </tr>\n",
              "  </tbody>\n",
              "</table>\n",
              "</div>"
            ],
            "text/plain": [
              "           chunks  ...                                                                                                                                     all_distances\n",
              "0  athlete's foot  ...  [0.0000, 0.1275, 0.2012, 0.2001, 0.2106, 0.2076, 0.2152, 0.2178, 0.2278, 0.2248, 0.2374, 0.2402, 0.2601, 0.2451, 0.2423, 0.2451, 0.2645, 0.2647]\n",
              "\n",
              "[1 rows x 7 columns]"
            ]
          },
          "metadata": {}
        },
        {
          "output_type": "stream",
          "name": "stdout",
          "text": [
            "\n",
            " >> ////////////////////////////// Stomach ache ////////////////////////////// \n",
            "\n",
            "First Model Result:\n"
          ]
        },
        {
          "output_type": "display_data",
          "data": {
            "text/html": [
              "<div>\n",
              "<style scoped>\n",
              "    .dataframe tbody tr th:only-of-type {\n",
              "        vertical-align: middle;\n",
              "    }\n",
              "\n",
              "    .dataframe tbody tr th {\n",
              "        vertical-align: top;\n",
              "    }\n",
              "\n",
              "    .dataframe thead th {\n",
              "        text-align: right;\n",
              "    }\n",
              "</style>\n",
              "<table border=\"1\" class=\"dataframe\">\n",
              "  <thead>\n",
              "    <tr style=\"text-align: right;\">\n",
              "      <th></th>\n",
              "      <th>chunks</th>\n",
              "      <th>begin</th>\n",
              "      <th>end</th>\n",
              "      <th>code</th>\n",
              "      <th>all_codes</th>\n",
              "      <th>resolutions</th>\n",
              "      <th>all_distances</th>\n",
              "    </tr>\n",
              "  </thead>\n",
              "  <tbody>\n",
              "    <tr>\n",
              "      <th>0</th>\n",
              "      <td>Stomach ache</td>\n",
              "      <td>0</td>\n",
              "      <td>11</td>\n",
              "      <td>271681002</td>\n",
              "      <td>[271681002, 162059005, 116289008, 16331000, 119416008, 21522001, 162043005, 82991003, 248490000, 36349006, 25064002]</td>\n",
              "      <td>[Stomach ache, Upset stomach, Abdominal bloating, Heartburn, Epigastric discomfort, Abdominal pain, Hunger pain, Generalised aches and pains, Bloating symptom, Burning pain, Headache]</td>\n",
              "      <td>[0.0000, 0.0699, 0.0826, 0.0854, 0.0902, 0.0915, 0.0919, 0.1028, 0.1087, 0.1092, 0.1102]</td>\n",
              "    </tr>\n",
              "  </tbody>\n",
              "</table>\n",
              "</div>"
            ],
            "text/plain": [
              "         chunks  ...                                                                             all_distances\n",
              "0  Stomach ache  ...  [0.0000, 0.0699, 0.0826, 0.0854, 0.0902, 0.0915, 0.0919, 0.1028, 0.1087, 0.1092, 0.1102]\n",
              "\n",
              "[1 rows x 7 columns]"
            ]
          },
          "metadata": {}
        },
        {
          "output_type": "stream",
          "name": "stdout",
          "text": [
            "\n",
            " Second Model Result:\n"
          ]
        },
        {
          "output_type": "display_data",
          "data": {
            "text/html": [
              "<div>\n",
              "<style scoped>\n",
              "    .dataframe tbody tr th:only-of-type {\n",
              "        vertical-align: middle;\n",
              "    }\n",
              "\n",
              "    .dataframe tbody tr th {\n",
              "        vertical-align: top;\n",
              "    }\n",
              "\n",
              "    .dataframe thead th {\n",
              "        text-align: right;\n",
              "    }\n",
              "</style>\n",
              "<table border=\"1\" class=\"dataframe\">\n",
              "  <thead>\n",
              "    <tr style=\"text-align: right;\">\n",
              "      <th></th>\n",
              "      <th>chunks</th>\n",
              "      <th>begin</th>\n",
              "      <th>end</th>\n",
              "      <th>code</th>\n",
              "      <th>all_codes</th>\n",
              "      <th>resolutions</th>\n",
              "      <th>all_distances</th>\n",
              "    </tr>\n",
              "  </thead>\n",
              "  <tbody>\n",
              "    <tr>\n",
              "      <th>0</th>\n",
              "      <td>Stomach ache</td>\n",
              "      <td>0</td>\n",
              "      <td>11</td>\n",
              "      <td>271681002</td>\n",
              "      <td>[271681002, 162059005, 116289008, 16331000, 119416008, 21522001, 162043005, 82991003, 248490000, 36349006, 25064002]</td>\n",
              "      <td>[Stomach ache, Upset stomach, Abdominal bloating, Heartburn, Epigastric discomfort, Abdominal pain, Hunger pain, Generalised aches and pains, Bloating symptom, Burning pain, Headache]</td>\n",
              "      <td>[0.0000, 0.0699, 0.0826, 0.0854, 0.0902, 0.0915, 0.0919, 0.1028, 0.1087, 0.1092, 0.1102]</td>\n",
              "    </tr>\n",
              "  </tbody>\n",
              "</table>\n",
              "</div>"
            ],
            "text/plain": [
              "         chunks  ...                                                                             all_distances\n",
              "0  Stomach ache  ...  [0.0000, 0.0699, 0.0826, 0.0854, 0.0902, 0.0915, 0.0919, 0.1028, 0.1087, 0.1092, 0.1102]\n",
              "\n",
              "[1 rows x 7 columns]"
            ]
          },
          "metadata": {}
        },
        {
          "output_type": "stream",
          "name": "stdout",
          "text": [
            "\n",
            " >> ////////////////////////////// Pins and needles ////////////////////////////// \n",
            "\n",
            "First Model Result:\n"
          ]
        },
        {
          "output_type": "display_data",
          "data": {
            "text/html": [
              "<div>\n",
              "<style scoped>\n",
              "    .dataframe tbody tr th:only-of-type {\n",
              "        vertical-align: middle;\n",
              "    }\n",
              "\n",
              "    .dataframe tbody tr th {\n",
              "        vertical-align: top;\n",
              "    }\n",
              "\n",
              "    .dataframe thead th {\n",
              "        text-align: right;\n",
              "    }\n",
              "</style>\n",
              "<table border=\"1\" class=\"dataframe\">\n",
              "  <thead>\n",
              "    <tr style=\"text-align: right;\">\n",
              "      <th></th>\n",
              "      <th>chunks</th>\n",
              "      <th>begin</th>\n",
              "      <th>end</th>\n",
              "      <th>code</th>\n",
              "      <th>all_codes</th>\n",
              "      <th>resolutions</th>\n",
              "      <th>all_distances</th>\n",
              "    </tr>\n",
              "  </thead>\n",
              "  <tbody>\n",
              "    <tr>\n",
              "      <th>0</th>\n",
              "      <td>Pins and needles</td>\n",
              "      <td>0</td>\n",
              "      <td>15</td>\n",
              "      <td>62507009</td>\n",
              "      <td>[62507009, 37567005, 17971005, 247472004, 131148009, 91019004, 43498006, 417237009, 283050005, 161891005, 271807003]</td>\n",
              "      <td>[Pins and needles, Acenaesthesia, Sedated, Hives, Bleeding, Paraesthesia, Body fluid retention, Blister, Abrasion of eye region, Backache, Rash]</td>\n",
              "      <td>[0.0000, 0.2716, 0.2708, 0.2917, 0.2857, 0.2918, 0.2834, 0.3023, 0.2994, 0.2994, 0.2969]</td>\n",
              "    </tr>\n",
              "  </tbody>\n",
              "</table>\n",
              "</div>"
            ],
            "text/plain": [
              "             chunks  ...                                                                             all_distances\n",
              "0  Pins and needles  ...  [0.0000, 0.2716, 0.2708, 0.2917, 0.2857, 0.2918, 0.2834, 0.3023, 0.2994, 0.2994, 0.2969]\n",
              "\n",
              "[1 rows x 7 columns]"
            ]
          },
          "metadata": {}
        },
        {
          "output_type": "stream",
          "name": "stdout",
          "text": [
            "\n",
            " Second Model Result:\n"
          ]
        },
        {
          "output_type": "display_data",
          "data": {
            "text/html": [
              "<div>\n",
              "<style scoped>\n",
              "    .dataframe tbody tr th:only-of-type {\n",
              "        vertical-align: middle;\n",
              "    }\n",
              "\n",
              "    .dataframe tbody tr th {\n",
              "        vertical-align: top;\n",
              "    }\n",
              "\n",
              "    .dataframe thead th {\n",
              "        text-align: right;\n",
              "    }\n",
              "</style>\n",
              "<table border=\"1\" class=\"dataframe\">\n",
              "  <thead>\n",
              "    <tr style=\"text-align: right;\">\n",
              "      <th></th>\n",
              "      <th>chunks</th>\n",
              "      <th>begin</th>\n",
              "      <th>end</th>\n",
              "      <th>code</th>\n",
              "      <th>all_codes</th>\n",
              "      <th>resolutions</th>\n",
              "      <th>all_distances</th>\n",
              "    </tr>\n",
              "  </thead>\n",
              "  <tbody>\n",
              "    <tr>\n",
              "      <th>0</th>\n",
              "      <td>Pins and needles</td>\n",
              "      <td>0</td>\n",
              "      <td>15</td>\n",
              "      <td>62507009</td>\n",
              "      <td>[62507009, 37567005, 17971005, 247472004, 131148009, 91019004, 43498006, 417237009, 283050005, 161891005, 271807003]</td>\n",
              "      <td>[Pins and needles, Acenaesthesia, Sedated, Hives, Bleeding, Paraesthesia, Body fluid retention, Blister, Abrasion of eye region, Backache, Rash]</td>\n",
              "      <td>[0.0000, 0.2716, 0.2708, 0.2917, 0.2857, 0.2918, 0.2834, 0.3023, 0.2994, 0.2994, 0.2969]</td>\n",
              "    </tr>\n",
              "  </tbody>\n",
              "</table>\n",
              "</div>"
            ],
            "text/plain": [
              "             chunks  ...                                                                             all_distances\n",
              "0  Pins and needles  ...  [0.0000, 0.2716, 0.2708, 0.2917, 0.2857, 0.2918, 0.2834, 0.3023, 0.2994, 0.2994, 0.2969]\n",
              "\n",
              "[1 rows x 7 columns]"
            ]
          },
          "metadata": {}
        }
      ]
    },
    {
      "cell_type": "markdown",
      "metadata": {
        "id": "aqb00qRaFrJ_"
      },
      "source": [
        "### Conclusion\n",
        "As you can see in the results;\n",
        "\n",
        "- The resolutions of the new added terms are at the top of the results.\n",
        "\n",
        "- The terms that we changed the concept_codes, are at the top of the resuls.\n",
        "\n",
        "- The close terms results are resolved successfully.\n",
        "\n",
        "- The terms that comes from the main dataset are resolved with the same result."
      ]
    },
    {
      "cell_type": "markdown",
      "metadata": {
        "id": "Sy0PzMbguunk"
      },
      "source": [
        "## Overriding Codes\n",
        "\n",
        "We can override new codes over the existing codes if in pretrained Sentence Entity Resolver Model by using `.setOverrideExistingCodes(True)` . For example, you want to add a new term to a pretrained resolver model, and if the code of term already exists in the pretrained model, when you .setOverwriteExistingCode(True), it removes all the same codes and their descriptions from the model, then you will have just the new term with its code in the fine-tuned model."
      ]
    },
    {
      "cell_type": "code",
      "metadata": {
        "colab": {
          "base_uri": "https://localhost:8080/"
        },
        "id": "u54-5PYQsrSq",
        "outputId": "52257269-a2c3-49ba-ebe1-f312c2e992f3"
      },
      "source": [
        "snomed_data.show()"
      ],
      "execution_count": 25,
      "outputs": [
        {
          "output_type": "stream",
          "name": "stdout",
          "text": [
            "+-----------------+--------------------+--------------------+--------------------+--------------------+\n",
            "|        conceptId|               _term|                term|           ner_chunk|     bert_embeddings|\n",
            "+-----------------+--------------------+--------------------+--------------------+--------------------+\n",
            "|        161891005|            Backache|            backache|[{document, 0, 7,...|[{sentence_embedd...|\n",
            "|        418290006|             Itching|               itchy|[{document, 0, 6,...|[{sentence_embedd...|\n",
            "|         35489007|          Depression|very serious depr...|[{document, 0, 9,...|[{sentence_embedd...|\n",
            "|         10601006|  Pain in lower limb|        pain in legs|[{document, 0, 17...|[{sentence_embedd...|\n",
            "|        386806002|  Impaired cognition|  Impaired cognition|[{document, 0, 17...|[{sentence_embedd...|\n",
            "|        386807006|   Memory impairment| memory difficulties|[{document, 0, 16...|[{sentence_embedd...|\n",
            "|         21499005|Feeling agitated ...|   Severe aggitation|[{document, 0, 23...|[{sentence_embedd...|\n",
            "|        247373008|          Ankle pain|          ANKLE PAIN|[{document, 0, 9,...|[{sentence_embedd...|\n",
            "|        262286000|    Weight increased|Big weight gain i...|[{document, 0, 15...|[{sentence_embedd...|\n",
            "|         36349006|        Burning pain|burning in back o...|[{document, 0, 11...|[{sentence_embedd...|\n",
            "|         24184005|Finding of increa...|blood pressure ha...|[{document, 0, 34...|[{sentence_embedd...|\n",
            "|        308921004|Neurological symptom|Neurological symptom|[{document, 0, 19...|[{sentence_embedd...|\n",
            "|        279043006|     Pain in buttock|     Pain in buttock|[{document, 0, 14...|[{sentence_embedd...|\n",
            "|        278040002|        Loss of hair|      losing my hair|[{document, 0, 11...|[{sentence_embedd...|\n",
            "|        246676003|Hyperaemia of sur...|  eyes are bloodshot|[{document, 0, 27...|[{sentence_embedd...|\n",
            "|        162076009|Excessive upper g...|genetically high LDL|[{document, 0, 35...|[{sentence_embedd...|\n",
            "|21242011000036102|         simvastatin|         simvostatin|[{document, 0, 10...|[{sentence_embedd...|\n",
            "|        267052005|     Flatulence/wind|          flatulance|[{document, 0, 14...|[{sentence_embedd...|\n",
            "|53523011000036100|              Diovan|              diovan|[{document, 0, 5,...|[{sentence_embedd...|\n",
            "|         75408008|       Feeling angry|       Feeling angry|[{document, 0, 12...|[{sentence_embedd...|\n",
            "+-----------------+--------------------+--------------------+--------------------+--------------------+\n",
            "only showing top 20 rows\n",
            "\n"
          ]
        }
      ]
    },
    {
      "cell_type": "code",
      "metadata": {
        "colab": {
          "base_uri": "https://localhost:8080/",
          "height": 95
        },
        "id": "JI54k2WN0zD5",
        "outputId": "2a62c3e0-50ac-4f84-9e76-acc86ae49b8e"
      },
      "source": [
        "display(get_codes (snomed_lp, \"Backache\", vocab='first_code'))"
      ],
      "execution_count": 26,
      "outputs": [
        {
          "output_type": "display_data",
          "data": {
            "text/html": [
              "<div>\n",
              "<style scoped>\n",
              "    .dataframe tbody tr th:only-of-type {\n",
              "        vertical-align: middle;\n",
              "    }\n",
              "\n",
              "    .dataframe tbody tr th {\n",
              "        vertical-align: top;\n",
              "    }\n",
              "\n",
              "    .dataframe thead th {\n",
              "        text-align: right;\n",
              "    }\n",
              "</style>\n",
              "<table border=\"1\" class=\"dataframe\">\n",
              "  <thead>\n",
              "    <tr style=\"text-align: right;\">\n",
              "      <th></th>\n",
              "      <th>chunks</th>\n",
              "      <th>begin</th>\n",
              "      <th>end</th>\n",
              "      <th>code</th>\n",
              "      <th>all_codes</th>\n",
              "      <th>resolutions</th>\n",
              "      <th>all_distances</th>\n",
              "    </tr>\n",
              "  </thead>\n",
              "  <tbody>\n",
              "    <tr>\n",
              "      <th>0</th>\n",
              "      <td>Backache</td>\n",
              "      <td>0</td>\n",
              "      <td>7</td>\n",
              "      <td>161891005</td>\n",
              "      <td>[161891005, 279039007, 48926009, 404640003, 367391008, 16269008, 116289008, 81680005, 25064002]</td>\n",
              "      <td>[Backache, Low back pain, Pain in spine, Dizziness, Malaise, Neuralgia, Abdominal bloating, Neck pain, Headache]</td>\n",
              "      <td>[0.0000, 0.1411, 0.1410, 0.1426, 0.1517, 0.1569, 0.1520, 0.1530, 0.1571]</td>\n",
              "    </tr>\n",
              "  </tbody>\n",
              "</table>\n",
              "</div>"
            ],
            "text/plain": [
              "     chunks  ...                                                             all_distances\n",
              "0  Backache  ...  [0.0000, 0.1411, 0.1410, 0.1426, 0.1517, 0.1569, 0.1520, 0.1530, 0.1571]\n",
              "\n",
              "[1 rows x 7 columns]"
            ]
          },
          "metadata": {}
        }
      ]
    },
    {
      "cell_type": "code",
      "metadata": {
        "colab": {
          "base_uri": "https://localhost:8080/",
          "height": 78
        },
        "id": "UvukS4Mx6k-v",
        "outputId": "dd6133f5-07b7-41ea-b248-9c7d054ab97c"
      },
      "source": [
        "display(get_codes (snomed_lp, \"toothache\", vocab='first_code'))"
      ],
      "execution_count": 27,
      "outputs": [
        {
          "output_type": "display_data",
          "data": {
            "text/html": [
              "<div>\n",
              "<style scoped>\n",
              "    .dataframe tbody tr th:only-of-type {\n",
              "        vertical-align: middle;\n",
              "    }\n",
              "\n",
              "    .dataframe tbody tr th {\n",
              "        vertical-align: top;\n",
              "    }\n",
              "\n",
              "    .dataframe thead th {\n",
              "        text-align: right;\n",
              "    }\n",
              "</style>\n",
              "<table border=\"1\" class=\"dataframe\">\n",
              "  <thead>\n",
              "    <tr style=\"text-align: right;\">\n",
              "      <th></th>\n",
              "      <th>chunks</th>\n",
              "      <th>begin</th>\n",
              "      <th>end</th>\n",
              "      <th>code</th>\n",
              "      <th>all_codes</th>\n",
              "      <th>resolutions</th>\n",
              "      <th>all_distances</th>\n",
              "    </tr>\n",
              "  </thead>\n",
              "  <tbody>\n",
              "    <tr>\n",
              "      <th>0</th>\n",
              "      <td>toothache</td>\n",
              "      <td>0</td>\n",
              "      <td>8</td>\n",
              "      <td>288939007</td>\n",
              "      <td>[288939007, 404640003, 22253000, 161891005, 25064002]</td>\n",
              "      <td>[Difficulty swallowing, Dizziness, Pain, Backache, Headache]</td>\n",
              "      <td>[0.1266, 0.1317, 0.1340, 0.1390, 0.1360]</td>\n",
              "    </tr>\n",
              "  </tbody>\n",
              "</table>\n",
              "</div>"
            ],
            "text/plain": [
              "      chunks  ...                             all_distances\n",
              "0  toothache  ...  [0.1266, 0.1317, 0.1340, 0.1390, 0.1360]\n",
              "\n",
              "[1 rows x 7 columns]"
            ]
          },
          "metadata": {}
        }
      ]
    },
    {
      "cell_type": "markdown",
      "metadata": {
        "id": "mlZKC-Z40wmD"
      },
      "source": [
        "Lets add a new term `chestache`has the same code with `Bachache`, `161891005` and `.setOverrideExistingCodes(True)`."
      ]
    },
    {
      "cell_type": "code",
      "metadata": {
        "colab": {
          "base_uri": "https://localhost:8080/"
        },
        "id": "0jAbeu2Gwisp",
        "outputId": "b0c16f06-78a7-46db-e470-eb834c31c0bb"
      },
      "source": [
        "override_data = spark.createDataFrame(pd.DataFrame({\"conceptId\":[\"161891005\"], \"_term\": [\"toothache\"], \"term\": [\"toothache\"]}))\n",
        "override_data.show()"
      ],
      "execution_count": 28,
      "outputs": [
        {
          "output_type": "stream",
          "name": "stdout",
          "text": [
            "+---------+---------+---------+\n",
            "|conceptId|    _term|     term|\n",
            "+---------+---------+---------+\n",
            "|161891005|toothache|toothache|\n",
            "+---------+---------+---------+\n",
            "\n"
          ]
        }
      ]
    },
    {
      "cell_type": "code",
      "metadata": {
        "colab": {
          "base_uri": "https://localhost:8080/"
        },
        "id": "mAYGDRCB7jHj",
        "outputId": "e6a5f1d7-3ff4-4d75-9d78-ed83ddf682e9"
      },
      "source": [
        "override_data = snomed_emb_model.transform(override_data)\n",
        "override_data.show()"
      ],
      "execution_count": 29,
      "outputs": [
        {
          "output_type": "stream",
          "name": "stdout",
          "text": [
            "+---------+---------+---------+--------------------+--------------------+\n",
            "|conceptId|    _term|     term|           ner_chunk|     bert_embeddings|\n",
            "+---------+---------+---------+--------------------+--------------------+\n",
            "|161891005|toothache|toothache|[{document, 0, 8,...|[{sentence_embedd...|\n",
            "+---------+---------+---------+--------------------+--------------------+\n",
            "\n"
          ]
        }
      ]
    },
    {
      "cell_type": "code",
      "metadata": {
        "id": "PYdJB9hX8NYi"
      },
      "source": [
        "overrided_model = bertExtractor.setPretrainedModelPath(\"/content/sbiobertresolve_snomed_model\").setOverrideExistingCodes(True).fit(override_data)\n",
        "overrided_model.write().overwrite().save(\"overrided_model\")"
      ],
      "execution_count": 30,
      "outputs": []
    },
    {
      "cell_type": "code",
      "metadata": {
        "id": "B9H5VEe086tN"
      },
      "source": [
        "overrided_resolver = SentenceEntityResolverModel.load(\"overrided_model\") \\\n",
        "      .setInputCols([\"ner_chunk\", \"sbert_embeddings\"]) \\\n",
        "      .setOutputCol(\"overrided_code\")\n",
        "\n",
        "\n",
        "overrided_pipelineModel = PipelineModel(\n",
        "    stages = [\n",
        "        documentAssembler,\n",
        "        sbert_embedder,\n",
        "        first_model,\n",
        "        overrided_resolver])\n",
        "\n",
        "overrided_lp = LightPipeline(overrided_pipelineModel)"
      ],
      "execution_count": 31,
      "outputs": []
    },
    {
      "cell_type": "code",
      "metadata": {
        "colab": {
          "base_uri": "https://localhost:8080/",
          "height": 95
        },
        "id": "WUFXmuvX9tZa",
        "outputId": "f25e3b9f-b970-4b51-ca12-5322eba05042"
      },
      "source": [
        "# original model\n",
        "\n",
        "display(get_codes (overrided_lp, \"Backache\", vocab='first_code'))"
      ],
      "execution_count": 32,
      "outputs": [
        {
          "output_type": "display_data",
          "data": {
            "text/html": [
              "<div>\n",
              "<style scoped>\n",
              "    .dataframe tbody tr th:only-of-type {\n",
              "        vertical-align: middle;\n",
              "    }\n",
              "\n",
              "    .dataframe tbody tr th {\n",
              "        vertical-align: top;\n",
              "    }\n",
              "\n",
              "    .dataframe thead th {\n",
              "        text-align: right;\n",
              "    }\n",
              "</style>\n",
              "<table border=\"1\" class=\"dataframe\">\n",
              "  <thead>\n",
              "    <tr style=\"text-align: right;\">\n",
              "      <th></th>\n",
              "      <th>chunks</th>\n",
              "      <th>begin</th>\n",
              "      <th>end</th>\n",
              "      <th>code</th>\n",
              "      <th>all_codes</th>\n",
              "      <th>resolutions</th>\n",
              "      <th>all_distances</th>\n",
              "    </tr>\n",
              "  </thead>\n",
              "  <tbody>\n",
              "    <tr>\n",
              "      <th>0</th>\n",
              "      <td>Backache</td>\n",
              "      <td>0</td>\n",
              "      <td>7</td>\n",
              "      <td>161891005</td>\n",
              "      <td>[161891005, 279039007, 48926009, 404640003, 367391008, 16269008, 116289008, 81680005, 25064002]</td>\n",
              "      <td>[Backache, Low back pain, Pain in spine, Dizziness, Malaise, Neuralgia, Abdominal bloating, Neck pain, Headache]</td>\n",
              "      <td>[0.0000, 0.1411, 0.1410, 0.1426, 0.1517, 0.1569, 0.1520, 0.1530, 0.1571]</td>\n",
              "    </tr>\n",
              "  </tbody>\n",
              "</table>\n",
              "</div>"
            ],
            "text/plain": [
              "     chunks  ...                                                             all_distances\n",
              "0  Backache  ...  [0.0000, 0.1411, 0.1410, 0.1426, 0.1517, 0.1569, 0.1520, 0.1530, 0.1571]\n",
              "\n",
              "[1 rows x 7 columns]"
            ]
          },
          "metadata": {}
        }
      ]
    },
    {
      "cell_type": "code",
      "metadata": {
        "colab": {
          "base_uri": "https://localhost:8080/",
          "height": 95
        },
        "id": "nLKaVVk996jn",
        "outputId": "926c5e70-5be8-4100-b802-1370db47228c"
      },
      "source": [
        "# overrided model\n",
        "\n",
        "display(get_codes (overrided_lp, \"Backache\", vocab='overrided_code'))"
      ],
      "execution_count": 33,
      "outputs": [
        {
          "output_type": "display_data",
          "data": {
            "text/html": [
              "<div>\n",
              "<style scoped>\n",
              "    .dataframe tbody tr th:only-of-type {\n",
              "        vertical-align: middle;\n",
              "    }\n",
              "\n",
              "    .dataframe tbody tr th {\n",
              "        vertical-align: top;\n",
              "    }\n",
              "\n",
              "    .dataframe thead th {\n",
              "        text-align: right;\n",
              "    }\n",
              "</style>\n",
              "<table border=\"1\" class=\"dataframe\">\n",
              "  <thead>\n",
              "    <tr style=\"text-align: right;\">\n",
              "      <th></th>\n",
              "      <th>chunks</th>\n",
              "      <th>begin</th>\n",
              "      <th>end</th>\n",
              "      <th>code</th>\n",
              "      <th>all_codes</th>\n",
              "      <th>resolutions</th>\n",
              "      <th>all_distances</th>\n",
              "    </tr>\n",
              "  </thead>\n",
              "  <tbody>\n",
              "    <tr>\n",
              "      <th>0</th>\n",
              "      <td>Backache</td>\n",
              "      <td>0</td>\n",
              "      <td>7</td>\n",
              "      <td>161891005</td>\n",
              "      <td>[161891005, 279039007, 48926009, 404640003, 367391008, 16269008, 116289008, 81680005, 25064002]</td>\n",
              "      <td>[toothache, Low back pain, Pain in spine, Dizziness, Malaise, Neuralgia, Abdominal bloating, Neck pain, Headache]</td>\n",
              "      <td>[0.1390, 0.1411, 0.1410, 0.1426, 0.1517, 0.1569, 0.1520, 0.1530, 0.1571]</td>\n",
              "    </tr>\n",
              "  </tbody>\n",
              "</table>\n",
              "</div>"
            ],
            "text/plain": [
              "     chunks  ...                                                             all_distances\n",
              "0  Backache  ...  [0.1390, 0.1411, 0.1410, 0.1426, 0.1517, 0.1569, 0.1520, 0.1530, 0.1571]\n",
              "\n",
              "[1 rows x 7 columns]"
            ]
          },
          "metadata": {}
        }
      ]
    },
    {
      "cell_type": "code",
      "metadata": {
        "colab": {
          "base_uri": "https://localhost:8080/",
          "height": 95
        },
        "id": "LIsHHTLs-MOk",
        "outputId": "2a15ab57-14cf-4fd8-96c0-c2d10b48208b"
      },
      "source": [
        "# overrided model\n",
        "\n",
        "display(get_codes (overrided_lp, \"toothache\", vocab='overrided_code'))"
      ],
      "execution_count": 34,
      "outputs": [
        {
          "output_type": "display_data",
          "data": {
            "text/html": [
              "<div>\n",
              "<style scoped>\n",
              "    .dataframe tbody tr th:only-of-type {\n",
              "        vertical-align: middle;\n",
              "    }\n",
              "\n",
              "    .dataframe tbody tr th {\n",
              "        vertical-align: top;\n",
              "    }\n",
              "\n",
              "    .dataframe thead th {\n",
              "        text-align: right;\n",
              "    }\n",
              "</style>\n",
              "<table border=\"1\" class=\"dataframe\">\n",
              "  <thead>\n",
              "    <tr style=\"text-align: right;\">\n",
              "      <th></th>\n",
              "      <th>chunks</th>\n",
              "      <th>begin</th>\n",
              "      <th>end</th>\n",
              "      <th>code</th>\n",
              "      <th>all_codes</th>\n",
              "      <th>resolutions</th>\n",
              "      <th>all_distances</th>\n",
              "    </tr>\n",
              "  </thead>\n",
              "  <tbody>\n",
              "    <tr>\n",
              "      <th>0</th>\n",
              "      <td>toothache</td>\n",
              "      <td>0</td>\n",
              "      <td>8</td>\n",
              "      <td>161891005</td>\n",
              "      <td>[161891005, 288939007, 404640003, 22253000, 25064002, 367391008, 53057004, 45534005]</td>\n",
              "      <td>[toothache, Difficulty swallowing, Dizziness, Pain, Headache, Malaise, Hand pain, Glossitis]</td>\n",
              "      <td>[0.0000, 0.1266, 0.1317, 0.1340, 0.1360, 0.1415, 0.1379, 0.1457]</td>\n",
              "    </tr>\n",
              "  </tbody>\n",
              "</table>\n",
              "</div>"
            ],
            "text/plain": [
              "      chunks  ...                                                     all_distances\n",
              "0  toothache  ...  [0.0000, 0.1266, 0.1317, 0.1340, 0.1360, 0.1415, 0.1379, 0.1457]\n",
              "\n",
              "[1 rows x 7 columns]"
            ]
          },
          "metadata": {}
        }
      ]
    },
    {
      "cell_type": "markdown",
      "metadata": {
        "id": "xjGX8tG2-YE5"
      },
      "source": [
        "As you can see, there is no more `Backache` -> `161891005`. Now all descriptions of `161891005` code are removed and there is just one description `tootache` -> `161891005` for this code."
      ]
    },
    {
      "cell_type": "markdown",
      "metadata": {
        "id": "Wqlc7bqM_D-J"
      },
      "source": [
        "## Drop List Of Codes\n",
        "\n",
        "We can drop codes from a pretrained resolver model bu using .`setDropCodesList`. Lets remove `161891005` (toothache) and `404640003` (Dizzeness) from the overrided model."
      ]
    },
    {
      "cell_type": "code",
      "metadata": {
        "id": "47s9hYyd-W8k"
      },
      "source": [
        "blackListedModel = bertExtractor.\\\n",
        "    setPretrainedModelPath(\"overrided_model\").\\\n",
        "    setNormalizedCol(\"_term\").\\\n",
        "    setDropCodesList([\"161891005\", \"404640003\"]).\\\n",
        "    fit(override_data.limit(0))"
      ],
      "execution_count": 35,
      "outputs": []
    },
    {
      "cell_type": "code",
      "metadata": {
        "id": "-9ylzS8K_1e9"
      },
      "source": [
        "blackListedModel.write().overwrite().save(\"blackListedModel\")"
      ],
      "execution_count": 36,
      "outputs": []
    },
    {
      "cell_type": "code",
      "metadata": {
        "id": "ERg54ToBACxm"
      },
      "source": [
        "blackListed_resolver = SentenceEntityResolverModel.load(\"blackListedModel\") \\\n",
        "      .setInputCols([\"ner_chunk\", \"sbert_embeddings\"]) \\\n",
        "      .setOutputCol(\"blackListed_code\")\n",
        "\n",
        "\n",
        "blackListed_pipelineModel = PipelineModel(\n",
        "    stages = [\n",
        "        documentAssembler,\n",
        "        sbert_embedder,\n",
        "        overrided_resolver,\n",
        "        blackListed_resolver])\n",
        "\n",
        "blackListed_lp = LightPipeline(blackListed_pipelineModel)"
      ],
      "execution_count": 37,
      "outputs": []
    },
    {
      "cell_type": "code",
      "metadata": {
        "colab": {
          "base_uri": "https://localhost:8080/",
          "height": 95
        },
        "id": "7eBWNl0cASd9",
        "outputId": "f860953e-9eab-49c5-c557-9f2dd4ec0981"
      },
      "source": [
        "# overrided model\n",
        "\n",
        "display(get_codes (blackListed_lp, \"toothache\", vocab='overrided_code'))"
      ],
      "execution_count": 38,
      "outputs": [
        {
          "output_type": "display_data",
          "data": {
            "text/html": [
              "<div>\n",
              "<style scoped>\n",
              "    .dataframe tbody tr th:only-of-type {\n",
              "        vertical-align: middle;\n",
              "    }\n",
              "\n",
              "    .dataframe tbody tr th {\n",
              "        vertical-align: top;\n",
              "    }\n",
              "\n",
              "    .dataframe thead th {\n",
              "        text-align: right;\n",
              "    }\n",
              "</style>\n",
              "<table border=\"1\" class=\"dataframe\">\n",
              "  <thead>\n",
              "    <tr style=\"text-align: right;\">\n",
              "      <th></th>\n",
              "      <th>chunks</th>\n",
              "      <th>begin</th>\n",
              "      <th>end</th>\n",
              "      <th>code</th>\n",
              "      <th>all_codes</th>\n",
              "      <th>resolutions</th>\n",
              "      <th>all_distances</th>\n",
              "    </tr>\n",
              "  </thead>\n",
              "  <tbody>\n",
              "    <tr>\n",
              "      <th>0</th>\n",
              "      <td>toothache</td>\n",
              "      <td>0</td>\n",
              "      <td>8</td>\n",
              "      <td>161891005</td>\n",
              "      <td>[161891005, 288939007, 404640003, 22253000, 25064002, 367391008, 53057004, 45534005]</td>\n",
              "      <td>[toothache, Difficulty swallowing, Dizziness, Pain, Headache, Malaise, Hand pain, Glossitis]</td>\n",
              "      <td>[0.0000, 0.1266, 0.1317, 0.1340, 0.1360, 0.1415, 0.1379, 0.1457]</td>\n",
              "    </tr>\n",
              "  </tbody>\n",
              "</table>\n",
              "</div>"
            ],
            "text/plain": [
              "      chunks  ...                                                     all_distances\n",
              "0  toothache  ...  [0.0000, 0.1266, 0.1317, 0.1340, 0.1360, 0.1415, 0.1379, 0.1457]\n",
              "\n",
              "[1 rows x 7 columns]"
            ]
          },
          "metadata": {}
        }
      ]
    },
    {
      "cell_type": "code",
      "metadata": {
        "colab": {
          "base_uri": "https://localhost:8080/",
          "height": 95
        },
        "id": "laS2nxUFAbqd",
        "outputId": "f6bd56f7-2fce-4a88-af5b-bfc3376f4181"
      },
      "source": [
        "# blackListed model\n",
        "\n",
        "display(get_codes (blackListed_lp, \"toothache\", vocab='blackListed_code'))"
      ],
      "execution_count": 39,
      "outputs": [
        {
          "output_type": "display_data",
          "data": {
            "text/html": [
              "<div>\n",
              "<style scoped>\n",
              "    .dataframe tbody tr th:only-of-type {\n",
              "        vertical-align: middle;\n",
              "    }\n",
              "\n",
              "    .dataframe tbody tr th {\n",
              "        vertical-align: top;\n",
              "    }\n",
              "\n",
              "    .dataframe thead th {\n",
              "        text-align: right;\n",
              "    }\n",
              "</style>\n",
              "<table border=\"1\" class=\"dataframe\">\n",
              "  <thead>\n",
              "    <tr style=\"text-align: right;\">\n",
              "      <th></th>\n",
              "      <th>chunks</th>\n",
              "      <th>begin</th>\n",
              "      <th>end</th>\n",
              "      <th>code</th>\n",
              "      <th>all_codes</th>\n",
              "      <th>resolutions</th>\n",
              "      <th>all_distances</th>\n",
              "    </tr>\n",
              "  </thead>\n",
              "  <tbody>\n",
              "    <tr>\n",
              "      <th>0</th>\n",
              "      <td>toothache</td>\n",
              "      <td>0</td>\n",
              "      <td>8</td>\n",
              "      <td>288939007</td>\n",
              "      <td>[288939007, 22253000, 25064002, 367391008, 53057004, 45534005, 248490000, 18876004]</td>\n",
              "      <td>[Difficulty swallowing, Pain, Headache, Malaise, Hand pain, Glossitis, Bloating symptom, Pain in finger]</td>\n",
              "      <td>[0.1266, 0.1340, 0.1360, 0.1415, 0.1379, 0.1457, 0.1395, 0.1412]</td>\n",
              "    </tr>\n",
              "  </tbody>\n",
              "</table>\n",
              "</div>"
            ],
            "text/plain": [
              "      chunks  ...                                                     all_distances\n",
              "0  toothache  ...  [0.1266, 0.1340, 0.1360, 0.1415, 0.1379, 0.1457, 0.1395, 0.1412]\n",
              "\n",
              "[1 rows x 7 columns]"
            ]
          },
          "metadata": {}
        }
      ]
    },
    {
      "cell_type": "code",
      "metadata": {
        "colab": {
          "base_uri": "https://localhost:8080/",
          "height": 128
        },
        "id": "ERy2ExZwAgS0",
        "outputId": "3731e6ff-d7de-4aeb-b6c3-54f1631849e7"
      },
      "source": [
        "# overrided model\n",
        "\n",
        "display(get_codes (blackListed_lp, \"Dizziness\", vocab='overrided_code'))"
      ],
      "execution_count": 40,
      "outputs": [
        {
          "output_type": "display_data",
          "data": {
            "text/html": [
              "<div>\n",
              "<style scoped>\n",
              "    .dataframe tbody tr th:only-of-type {\n",
              "        vertical-align: middle;\n",
              "    }\n",
              "\n",
              "    .dataframe tbody tr th {\n",
              "        vertical-align: top;\n",
              "    }\n",
              "\n",
              "    .dataframe thead th {\n",
              "        text-align: right;\n",
              "    }\n",
              "</style>\n",
              "<table border=\"1\" class=\"dataframe\">\n",
              "  <thead>\n",
              "    <tr style=\"text-align: right;\">\n",
              "      <th></th>\n",
              "      <th>chunks</th>\n",
              "      <th>begin</th>\n",
              "      <th>end</th>\n",
              "      <th>code</th>\n",
              "      <th>all_codes</th>\n",
              "      <th>resolutions</th>\n",
              "      <th>all_distances</th>\n",
              "    </tr>\n",
              "  </thead>\n",
              "  <tbody>\n",
              "    <tr>\n",
              "      <th>0</th>\n",
              "      <td>Dizziness</td>\n",
              "      <td>0</td>\n",
              "      <td>8</td>\n",
              "      <td>404640003</td>\n",
              "      <td>[404640003, 271782001, 119416008, 271713000, 248490000, 373931001, 310501001, 309838005, 367391008, 301026000, 214264003, 55929007, 7006003, 399153001]</td>\n",
              "      <td>[Dizziness, Drowsy, Epigastric discomfort, General unsteadiness, Bloating symptom, Sensation of heaviness in limbs, Numbness of limbs, Emotional upset, Malaise, Loss of confidence, Lethargy, Feeling irritable, Clumsiness, Vertigo]</td>\n",
              "      <td>[0.0000, 0.0811, 0.0838, 0.0858, 0.0877, 0.0893, 0.0929, 0.0979, 0.1055, 0.1028, 0.1055, 0.1024, 0.1063, 0.1113]</td>\n",
              "    </tr>\n",
              "  </tbody>\n",
              "</table>\n",
              "</div>"
            ],
            "text/plain": [
              "      chunks  ...                                                                                                     all_distances\n",
              "0  Dizziness  ...  [0.0000, 0.0811, 0.0838, 0.0858, 0.0877, 0.0893, 0.0929, 0.0979, 0.1055, 0.1028, 0.1055, 0.1024, 0.1063, 0.1113]\n",
              "\n",
              "[1 rows x 7 columns]"
            ]
          },
          "metadata": {}
        }
      ]
    },
    {
      "cell_type": "code",
      "metadata": {
        "colab": {
          "base_uri": "https://localhost:8080/",
          "height": 145
        },
        "id": "ZwjjhXd4A7M7",
        "outputId": "6095bd72-8160-4437-dea7-495cb008bd1a"
      },
      "source": [
        "# blackListed model\n",
        "\n",
        "display(get_codes (blackListed_lp, \"Dizziness\", vocab='blackListed_code'))"
      ],
      "execution_count": 41,
      "outputs": [
        {
          "output_type": "display_data",
          "data": {
            "text/html": [
              "<div>\n",
              "<style scoped>\n",
              "    .dataframe tbody tr th:only-of-type {\n",
              "        vertical-align: middle;\n",
              "    }\n",
              "\n",
              "    .dataframe tbody tr th {\n",
              "        vertical-align: top;\n",
              "    }\n",
              "\n",
              "    .dataframe thead th {\n",
              "        text-align: right;\n",
              "    }\n",
              "</style>\n",
              "<table border=\"1\" class=\"dataframe\">\n",
              "  <thead>\n",
              "    <tr style=\"text-align: right;\">\n",
              "      <th></th>\n",
              "      <th>chunks</th>\n",
              "      <th>begin</th>\n",
              "      <th>end</th>\n",
              "      <th>code</th>\n",
              "      <th>all_codes</th>\n",
              "      <th>resolutions</th>\n",
              "      <th>all_distances</th>\n",
              "    </tr>\n",
              "  </thead>\n",
              "  <tbody>\n",
              "    <tr>\n",
              "      <th>0</th>\n",
              "      <td>Dizziness</td>\n",
              "      <td>0</td>\n",
              "      <td>8</td>\n",
              "      <td>271782001</td>\n",
              "      <td>[271782001, 119416008, 271713000, 248490000, 373931001, 310501001, 309838005, 367391008, 301026000, 214264003, 55929007, 7006003, 399153001, 271795006, 101000119102, 53057004]</td>\n",
              "      <td>[Drowsy, Epigastric discomfort, General unsteadiness, Bloating symptom, Sensation of heaviness in limbs, Numbness of limbs, Emotional upset, Malaise, Loss of confidence, Lethargy, Feeling irritable, Clumsiness, Vertigo, Malaise and fatigue, Numbness and tingling sensation of skin, Hand pain]</td>\n",
              "      <td>[0.0811, 0.0838, 0.0858, 0.0877, 0.0893, 0.0929, 0.0979, 0.1055, 0.1028, 0.1055, 0.1024, 0.1063, 0.1113, 0.1097, 0.1104, 0.1125]</td>\n",
              "    </tr>\n",
              "  </tbody>\n",
              "</table>\n",
              "</div>"
            ],
            "text/plain": [
              "      chunks  ...                                                                                                                     all_distances\n",
              "0  Dizziness  ...  [0.0811, 0.0838, 0.0858, 0.0877, 0.0893, 0.0929, 0.0979, 0.1055, 0.1028, 0.1055, 0.1024, 0.1063, 0.1113, 0.1097, 0.1104, 0.1125]\n",
              "\n",
              "[1 rows x 7 columns]"
            ]
          },
          "metadata": {}
        }
      ]
    },
    {
      "cell_type": "markdown",
      "metadata": {
        "id": "Szv2subqBRxc"
      },
      "source": [
        "As you can see, `161891005`, `404640003` codes are removed drom the model."
      ]
    }
  ]
}
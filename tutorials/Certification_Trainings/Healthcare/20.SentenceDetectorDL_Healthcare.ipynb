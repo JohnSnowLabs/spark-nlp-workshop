{
  "nbformat": 4,
  "nbformat_minor": 0,
  "metadata": {
    "application/vnd.databricks.v1+notebook": {
      "notebookName": "20.SentenceDetectorDL_HC_v2.7.0",
      "dashboards": [],
      "language": "python",
      "widgets": {},
      "notebookOrigID": 353255996790638
    },
    "colab": {
      "name": "20.SentenceDetectorDL_HC_v2.7.0.ipynb",
      "provenance": [],
      "toc_visible": true
    },
    "kernelspec": {
      "name": "python3",
      "display_name": "Python 3"
    }
  },
  "cells": [
    {
      "cell_type": "markdown",
      "metadata": {
        "application/vnd.databricks.v1+cell": {
          "title": "",
          "showTitle": false,
          "inputWidgets": {},
          "nuid": "ca48dee6-4eec-4600-9d0f-b37babbff76b"
        },
        "id": "qBqkI7slDc7D"
      },
      "source": [
        "![JohnSnowLabs](https://nlp.johnsnowlabs.com/assets/images/logo.png)"
      ]
    },
    {
      "cell_type": "markdown",
      "metadata": {
        "id": "DJTiFDX8iSvN"
      },
      "source": [
        "[![Open In Colab](https://colab.research.google.com/assets/colab-badge.svg)](https://colab.research.google.com/github/JohnSnowLabs/spark-nlp-workshop/blob/master/tutorials/Certification_Trainings/Healthcare/20.SentenceDetectorDL_Healthcare.ipynb)"
      ]
    },
    {
      "cell_type": "markdown",
      "metadata": {
        "application/vnd.databricks.v1+cell": {
          "title": "",
          "showTitle": false,
          "inputWidgets": {},
          "nuid": "90dfbf3d-c220-4962-a4c5-1129f24ec086"
        },
        "id": "Da6fmC09Dc7F"
      },
      "source": [
        "# 20. SentenceDetectorDL for Healthcare"
      ]
    },
    {
      "cell_type": "markdown",
      "metadata": {
        "application/vnd.databricks.v1+cell": {
          "title": "",
          "showTitle": false,
          "inputWidgets": {},
          "nuid": "6894bf5e-d81b-4c16-bd41-e4866701c893"
        },
        "id": "GKfjBdJuDc7G"
      },
      "source": [
        "`SentenceDetectorDL` (SDDL) is based on a general-purpose neural network model for sentence boundary detection.  The task of sentence boundary detection is to identify sentences within a text. Many natural language processing tasks take a sentence as an input unit, such as part-of-speech tagging, dependency parsing, named entity recognition or machine translation.\n",
        "\n",
        "In this model, we treated the sentence boundary detection task as a classification problem using a DL CNN architecture. We also modified the original implemenation a little bit to cover broken sentences and some impossible end of line chars."
      ]
    },
    {
      "cell_type": "code",
      "metadata": {
        "id": "WTH8kt4pn_k6",
        "outputId": "325034b4-2948-45e6-948f-632862936584",
        "colab": {
          "resources": {
            "http://localhost:8080/nbextensions/google.colab/files.js": {
              "data": "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",
              "ok": true,
              "headers": [
                [
                  "content-type",
                  "application/javascript"
                ]
              ],
              "status": 200,
              "status_text": ""
            }
          },
          "base_uri": "https://localhost:8080/",
          "height": 109
        }
      },
      "source": [
        "import json\n",
        "\n",
        "from google.colab import files\n",
        "\n",
        "license_keys = files.upload()\n",
        "\n",
        "with open(list(license_keys.keys())[0]) as f:\n",
        "    license_keys = json.load(f)\n",
        "\n",
        "license_keys.keys()"
      ],
      "execution_count": 1,
      "outputs": [
        {
          "output_type": "display_data",
          "data": {
            "text/html": [
              "\n",
              "     <input type=\"file\" id=\"files-293a2b17-2fa2-47a5-aea3-e59d42aa37db\" name=\"files[]\" multiple disabled\n",
              "        style=\"border:none\" />\n",
              "     <output id=\"result-293a2b17-2fa2-47a5-aea3-e59d42aa37db\">\n",
              "      Upload widget is only available when the cell has been executed in the\n",
              "      current browser session. Please rerun this cell to enable.\n",
              "      </output>\n",
              "      <script src=\"/nbextensions/google.colab/files.js\"></script> "
            ],
            "text/plain": [
              "<IPython.core.display.HTML object>"
            ]
          },
          "metadata": {
            "tags": []
          }
        },
        {
          "output_type": "stream",
          "text": [
            "Saving license_keys_272.json to license_keys_272.json\n"
          ],
          "name": "stdout"
        },
        {
          "output_type": "execute_result",
          "data": {
            "text/plain": [
              "dict_keys(['PUBLIC_VERSION', 'JSL_VERSION', 'SECRET', 'SPARK_NLP_LICENSE', 'AWS_ACCESS_KEY_ID', 'AWS_SECRET_ACCESS_KEY', 'SPARK_OCR_LICENSE', 'SPARK_OCR_SECRET'])"
            ]
          },
          "metadata": {
            "tags": []
          },
          "execution_count": 1
        }
      ]
    },
    {
      "cell_type": "code",
      "metadata": {
        "id": "CoOuNd8RV10k",
        "colab": {
          "base_uri": "https://localhost:8080/"
        },
        "outputId": "81bf72b7-61d2-40a7-b4b2-046bc45ccd9f"
      },
      "source": [
        "import os\n",
        "\n",
        "# Install java\n",
        "! apt-get update -qq\n",
        "! apt-get install -y openjdk-8-jdk-headless -qq > /dev/null\n",
        "\n",
        "os.environ[\"JAVA_HOME\"] = \"/usr/lib/jvm/java-8-openjdk-amd64\"\n",
        "os.environ[\"PATH\"] = os.environ[\"JAVA_HOME\"] + \"/bin:\" + os.environ[\"PATH\"]\n",
        "! java -version\n",
        "\n",
        "secret = license_keys['SECRET']\n",
        "\n",
        "os.environ['SPARK_NLP_LICENSE'] = license_keys['SPARK_NLP_LICENSE']\n",
        "os.environ['AWS_ACCESS_KEY_ID']= license_keys['AWS_ACCESS_KEY_ID']\n",
        "os.environ['AWS_SECRET_ACCESS_KEY'] = license_keys['AWS_SECRET_ACCESS_KEY']\n",
        "version = license_keys['PUBLIC_VERSION']\n",
        "jsl_version = license_keys['JSL_VERSION']\n",
        "\n",
        "! pip install --ignore-installed -q pyspark==2.4.4\n",
        "\n",
        "! python -m pip install --upgrade spark-nlp-jsl==$jsl_version  --extra-index-url https://pypi.johnsnowlabs.com/$secret\n",
        "\n",
        "! pip install --ignore-installed -q spark-nlp==$version\n",
        "\n",
        "import sparknlp\n",
        "\n",
        "print (sparknlp.version())\n",
        "\n",
        "import json\n",
        "from pyspark.ml import Pipeline\n",
        "from pyspark.sql import SparkSession\n",
        "\n",
        "from sparknlp.annotator import *\n",
        "from sparknlp_jsl.annotator import *\n",
        "from sparknlp.base import *\n",
        "import sparknlp_jsl\n",
        "\n",
        "spark = sparknlp_jsl.start(secret)\n",
        "\n",
        "print('sparknlp_jsl.version : ',sparknlp_jsl.version())\n"
      ],
      "execution_count": 2,
      "outputs": [
        {
          "output_type": "stream",
          "text": [
            "openjdk version \"1.8.0_275\"\n",
            "OpenJDK Runtime Environment (build 1.8.0_275-8u275-b01-0ubuntu1~18.04-b01)\n",
            "OpenJDK 64-Bit Server VM (build 25.275-b01, mixed mode)\n",
            "\u001b[K     |████████████████████████████████| 215.7MB 60kB/s \n",
            "\u001b[K     |████████████████████████████████| 204kB 47.3MB/s \n",
            "\u001b[?25h  Building wheel for pyspark (setup.py) ... \u001b[?25l\u001b[?25hdone\n",
            "Looking in indexes: https://pypi.org/simple, https://pypi.johnsnowlabs.com/2.7.2-7ad44c2a1a61c48b6a74446b0a7cb6b97c58dba0\n",
            "Collecting spark-nlp-jsl==2.7.2\n",
            "\u001b[?25l  Downloading https://pypi.johnsnowlabs.com/2.7.2-7ad44c2a1a61c48b6a74446b0a7cb6b97c58dba0/spark-nlp-jsl/spark_nlp_jsl-2.7.2-py3-none-any.whl (45kB)\n",
            "\u001b[K     |████████████████████████████████| 51kB 1.7MB/s \n",
            "\u001b[?25hCollecting spark-nlp==2.6.5\n",
            "\u001b[?25l  Downloading https://files.pythonhosted.org/packages/c6/1d/9a2a7c17fc3b3aa78b3921167feed4911d5a055833fea390e7741bba0870/spark_nlp-2.6.5-py2.py3-none-any.whl (130kB)\n",
            "\u001b[K     |████████████████████████████████| 133kB 4.3MB/s \n",
            "\u001b[?25hInstalling collected packages: spark-nlp, spark-nlp-jsl\n",
            "Successfully installed spark-nlp-2.6.5 spark-nlp-jsl-2.7.2\n",
            "\u001b[K     |████████████████████████████████| 143kB 4.2MB/s \n",
            "\u001b[31mERROR: spark-nlp-jsl 2.7.2 has requirement spark-nlp==2.6.5, but you'll have spark-nlp 2.7.1 which is incompatible.\u001b[0m\n",
            "\u001b[?25h2.7.1\n",
            "sparknlp_jsl.version :  2.7.2\n"
          ],
          "name": "stdout"
        }
      ]
    },
    {
      "cell_type": "code",
      "metadata": {
        "application/vnd.databricks.v1+cell": {
          "title": "",
          "showTitle": false,
          "inputWidgets": {},
          "nuid": "4e3b6ac8-7f41-4b31-a94b-c712cfafcf0f"
        },
        "id": "kyaAR1-RDc7O",
        "colab": {
          "base_uri": "https://localhost:8080/"
        },
        "outputId": "87394410-52fb-41cd-c140-341d9432e2e9"
      },
      "source": [
        "documenter = DocumentAssembler()\\\n",
        "    .setInputCol(\"text\")\\\n",
        "    .setOutputCol(\"document\")\n",
        "    \n",
        "sentencerDL_hc = SentenceDetectorDLModel.pretrained(\"sentence_detector_dl_healthcare\",\"en\",\"clinical/models\") \\\n",
        "\t.setInputCols([\"document\"]) \\\n",
        "\t.setOutputCol(\"sentences\")\n",
        "\n",
        "sd_pipeline = PipelineModel(stages=[documenter, sentencerDL_hc])\n",
        "sd_model = LightPipeline(sd_pipeline)"
      ],
      "execution_count": 3,
      "outputs": [
        {
          "output_type": "stream",
          "text": [
            "sentence_detector_dl_healthcare download started this may take some time.\n",
            "Approximate size to download 321.1 KB\n",
            "[OK!]\n"
          ],
          "name": "stdout"
        }
      ]
    },
    {
      "cell_type": "markdown",
      "metadata": {
        "application/vnd.databricks.v1+cell": {
          "title": "",
          "showTitle": false,
          "inputWidgets": {},
          "nuid": "3793b90d-4ac9-460d-86ef-532490aaae2c"
        },
        "id": "q2W6c8HHDc7X"
      },
      "source": [
        "# **SetenceDetectorDL_HC** Performance and Comparison with **Spacy Sentence Splitter** on different **Clinical Texts**"
      ]
    },
    {
      "cell_type": "code",
      "metadata": {
        "id": "dS_1RttbRu5Y"
      },
      "source": [
        "def get_sentences_sddl(text):\n",
        "\n",
        "    print ('with Spark NLP SentenceDetectorDL_HC')\n",
        "    print ('=======================================') \n",
        "    \n",
        "    for anno in sd_model.fullAnnotate(text)[0][\"sentences\"]:\n",
        "      \n",
        "        print(\"{}\\t{}\\t{}\\t{}\".format(\n",
        "            anno.metadata[\"sentence\"], anno.begin, anno.end, anno.result.replace('\\n','')))\n",
        "    return"
      ],
      "execution_count": 4,
      "outputs": []
    },
    {
      "cell_type": "code",
      "metadata": {
        "id": "aTQuWUNegYpb"
      },
      "source": [
        "!pip install spacy\n",
        "!python3 -m spacy download en_core_web_sm\n",
        "\n",
        "import spacy\n",
        "import en_core_web_sm\n",
        "\n",
        "nlp = en_core_web_sm.load()"
      ],
      "execution_count": null,
      "outputs": []
    },
    {
      "cell_type": "code",
      "metadata": {
        "id": "64TXep7bR0dw"
      },
      "source": [
        "def get_sentences_spacy(text):\n",
        "\n",
        "    print()\n",
        "    print ('with Spacy Sentence Detection')\n",
        "    print ('===================================')\n",
        "    for i,sent in enumerate(nlp(text).sents):\n",
        "        print(i, '\\t',str(sent).replace('\\n',''))# removing \\n to beutify printing\n",
        "\n",
        "    return"
      ],
      "execution_count": 6,
      "outputs": []
    },
    {
      "cell_type": "markdown",
      "metadata": {
        "id": "PBJMqUTxSt1r"
      },
      "source": [
        "### Text 1"
      ]
    },
    {
      "cell_type": "code",
      "metadata": {
        "id": "rxtFJ715SrKh"
      },
      "source": [
        "text_1 = '''He was given boluses of MS04 with some effect, he has since been placed on a PCA - he take 80mg of oxycontin at home, his PCA dose is ~ 2 the morphine dose of the oxycontin, he has also received ativan for anxiety.Repleted with 20 meq kcl po, 30 mmol K-phos iv and 2 gms mag so4 iv. LASIX CHANGED TO 40 PO BID WHICH IS SAME AS HE TAKES AT HOME - RECEIVED 40 PO IN AM - 700CC U/O TOTAL FOR FLUID NEGATIVE ~ 600 THUS FAR TODAY, ~ 600 NEG LOS. pt initially hypertensive 160s-180s gave prn doses if IV hydralazine without effect, labetalol increased from 100 mg to 200 mg PO TID which kept SBP > 160 for rest of night.Transferred to the EW found to be hypertensive BP 253/167 HR 132 ST treated with IV NTG gtt 20-120mcg/ and captopril 12.5mg sl x3. During the day pt's resp status has been very tenuous, responded to lasix in the am but then became hypotensive around 1800 tx with 500cc NS bolus and a unit of RBC did improve her BP to 90-100/60 but also became increasingly more tachypneic, RR 30-40's crackles went from bases bilaterally to [**2-14**] way up bilaterally.Lasix given 10mg x 2 during the evening without much change in her respiratory status.10units iv insulin given, 1 amps of 50%dextrose, 1amp of sodium bicard, 2gm calc gluconate.LOPRESSOR 7MG IV Q6H, ENALAPRIL 0.625MG IV Q6H TOLERATED.\n",
        "ID: Continues to receive flagyl, linazolid, pipercillin, ambisome, gent, and acyclovir, the acyclovir was changed from PO to IV-to be given after dialysis.Meds- Lipitor, procardia, synthroid, lisinopril, pepcid, actonel, calcium, MVI Social- Denies tobacco and drugs.'''"
      ],
      "execution_count": 7,
      "outputs": []
    },
    {
      "cell_type": "code",
      "metadata": {
        "application/vnd.databricks.v1+cell": {
          "title": "",
          "showTitle": false,
          "inputWidgets": {},
          "nuid": "782248b2-2bf0-4a50-9506-8fc59af53e7f"
        },
        "id": "sF4-yEydDc7v",
        "colab": {
          "base_uri": "https://localhost:8080/"
        },
        "outputId": "320d7415-bae3-40e6-ecdf-5f096e78918f"
      },
      "source": [
        "get_sentences_sddl(text_1)\n",
        "get_sentences_spacy(text_1)   "
      ],
      "execution_count": 8,
      "outputs": [
        {
          "output_type": "stream",
          "text": [
            "with Spark NLP SentenceDetectorDL_HC\n",
            "=======================================\n",
            "0\t0\t213\tHe was given boluses of MS04 with some effect, he has since been placed on a PCA - he take 80mg of oxycontin at home, his PCA dose is ~ 2 the morphine dose of the oxycontin, he has also received ativan for anxiety.\n",
            "1\t214\t281\tRepleted with 20 meq kcl po, 30 mmol K-phos iv and 2 gms mag so4 iv.\n",
            "2\t283\t439\tLASIX CHANGED TO 40 PO BID WHICH IS SAME AS HE TAKES AT HOME - RECEIVED 40 PO IN AM - 700CC U/O TOTAL FOR FLUID NEGATIVE ~ 600 THUS FAR TODAY, ~ 600 NEG LOS.\n",
            "3\t441\t613\tpt initially hypertensive 160s-180s gave prn doses if IV hydralazine without effect, labetalol increased from 100 mg to 200 mg PO TID which kept SBP > 160 for rest of night.\n",
            "4\t614\t743\tTransferred to the EW found to be hypertensive BP 253/167 HR 132 ST treated with IV NTG gtt 20-120mcg/ and captopril 12.5mg sl x3.\n",
            "5\t745\t1068\tDuring the day pt's resp status has been very tenuous, responded to lasix in the am but then became hypotensive around 1800 tx with 500cc NS bolus and a unit of RBC did improve her BP to 90-100/60 but also became increasingly more tachypneic, RR 30-40's crackles went from bases bilaterally to [**2-14**] way up bilaterally.\n",
            "6\t1069\t1154\tLasix given 10mg x 2 during the evening without much change in her respiratory status.\n",
            "7\t1155\t1245\t10units iv insulin given, 1 amps of 50%dextrose, 1amp of sodium bicard, 2gm calc gluconate.\n",
            "8\t1246\t1302\tLOPRESSOR 7MG IV Q6H, ENALAPRIL 0.625MG IV Q6H TOLERATED.\n",
            "9\t1304\t1458\tID: Continues to receive flagyl, linazolid, pipercillin, ambisome, gent, and acyclovir, the acyclovir was changed from PO to IV-to be given after dialysis.\n",
            "10\t1459\t1570\tMeds- Lipitor, procardia, synthroid, lisinopril, pepcid, actonel, calcium, MVI Social- Denies tobacco and drugs.\n",
            "\n",
            "with Spacy Sentence Detection\n",
            "===================================\n",
            "0 \t He was given boluses of MS04 with some effect, he has since been placed on a PCA\n",
            "1 \t - he take 80mg of oxycontin at home, his PCA dose is ~ 2 the morphine dose of the oxycontin, he has also received ativan for anxiety.\n",
            "2 \t Repleted with 20 meq kcl po, 30 mmol K-phos iv and 2 gms mag so4 iv.\n",
            "3 \t LASIX CHANGED TO 40 PO BID WHICH IS SAME AS\n",
            "4 \t HE TAKES\n",
            "5 \t AT HOME - RECEIVED 40 PO\n",
            "6 \t IN AM - 700CC U/\n",
            "7 \t O TOTAL FOR FLUID NEGATIVE ~\n",
            "8 \t 600 THUS FAR TODAY, ~ 600 NEG LOS.\n",
            "9 \t pt initially hypertensive 160s-180s gave prn doses\n",
            "10 \t if IV hydralazine without effect, labetalol increased from 100 mg to 200 mg PO TID which kept SBP > 160 for rest of night.\n",
            "11 \t Transferred to the EW found to be hypertensive BP 253/167 HR\n",
            "12 \t 132 ST treated with IV NTG gtt 20-120mcg/ and captopril 12.5mg sl x3.\n",
            "13 \t During the day pt's resp status has been very tenuous, responded to lasix in the am but then became hypotensive around 1800 tx with 500cc NS bolus and a unit of RBC did improve her BP to 90-100/60 but also became increasingly more tachypneic, RR 30-40's crackles went from bases bilaterally to [*\n",
            "14 \t *2-14\n",
            "15 \t **] way up bilaterally.\n",
            "16 \t Lasix given 10mg x 2 during the evening without much change in her respiratory status.10units iv insulin given, 1 amps of 50%dextrose, 1amp of sodium bicard, 2gm calc gluconate.\n",
            "17 \t LOPRESSOR 7MG IV Q6H, ENALAPRIL 0.625MG IV Q6H TOLERATED.\n",
            "18 \t ID:\n",
            "19 \t Continues to receive flagyl, linazolid, pipercillin, ambisome, gent, and acyclovir, the acyclovir was changed from PO to IV-to be given after dialysis.\n",
            "20 \t Meds-\n",
            "21 \t Lipitor, procardia, synthroid, lisinopril, pepcid, actonel, calcium, MVI Social- Denies tobacco and drugs.\n"
          ],
          "name": "stdout"
        }
      ]
    },
    {
      "cell_type": "markdown",
      "metadata": {
        "id": "-9w2subwSy4w"
      },
      "source": [
        "### Text 2"
      ]
    },
    {
      "cell_type": "code",
      "metadata": {
        "id": "MKxsLbCXS2Wy"
      },
      "source": [
        "text_2 = '''ST 109-120 ST. Pt had two 10 beat runs and one 9 beat run of SVT s/p PICC line placement. Stable BP, VT nonsustained. Pt denies CP/SOB. EKG and echo obtained. Cyclying enzymes first CK 69. Cardiology consulted, awaiting echo report. Pt to be started on beta blocker for treatment of NSVT. ? secondary to severe illness.K+ 3.4 IV. IVF with 20meq KCL at 200cc/hr. S/p NSVT pt rec'd 40meq po and 40 meq IV KCL. K+ 3.9 repeat K+ at 8pm. Mg and Ca repleted. Please follow electrolyte SS.\n",
        "'''"
      ],
      "execution_count": 9,
      "outputs": []
    },
    {
      "cell_type": "code",
      "metadata": {
        "application/vnd.databricks.v1+cell": {
          "title": "",
          "showTitle": false,
          "inputWidgets": {},
          "nuid": "faf1c618-7deb-4737-ac9c-b56c692c5122"
        },
        "id": "-Vtgn6DVDc7z",
        "colab": {
          "base_uri": "https://localhost:8080/"
        },
        "outputId": "a4a6501d-2b47-4cae-e01c-3c307b66ca43"
      },
      "source": [
        "get_sentences_sddl(text_2)\n",
        "get_sentences_spacy(text_2) "
      ],
      "execution_count": 10,
      "outputs": [
        {
          "output_type": "stream",
          "text": [
            "with Spark NLP SentenceDetectorDL_HC\n",
            "=======================================\n",
            "0\t0\t13\tST 109-120 ST.\n",
            "1\t15\t88\tPt had two 10 beat runs and one 9 beat run of SVT s/p PICC line placement.\n",
            "2\t90\t116\tStable BP, VT nonsustained.\n",
            "3\t118\t134\tPt denies CP/SOB.\n",
            "4\t136\t157\tEKG and echo obtained.\n",
            "5\t159\t187\tCyclying enzymes first CK 69.\n",
            "6\t189\t231\tCardiology consulted, awaiting echo report.\n",
            "7\t233\t287\tPt to be started on beta blocker for treatment of NSVT.\n",
            "8\t289\t318\t? secondary to severe illness.\n",
            "9\t319\t328\tK+ 3.4 IV.\n",
            "10\t330\t360\tIVF with 20meq KCL at 200cc/hr.\n",
            "11\t362\t406\tS/p NSVT pt rec'd 40meq po and 40 meq IV KCL.\n",
            "12\t408\t451\tK+ 3.9 repeat K+ at 8pm. Mg and Ca repleted.\n",
            "13\t453\t481\tPlease follow electrolyte SS.\n",
            "\n",
            "with Spacy Sentence Detection\n",
            "===================================\n",
            "0 \t ST 109-120 ST.\n",
            "1 \t Pt had two 10 beat runs and one 9 beat run of SVT s/p PICC line placement.\n",
            "2 \t Stable BP, VT nonsustained.\n",
            "3 \t Pt denies CP/SOB.\n",
            "4 \t EKG and echo obtained.\n",
            "5 \t Cyclying enzymes first CK 69.\n",
            "6 \t Cardiology consulted, awaiting echo report.\n",
            "7 \t Pt to be started on beta blocker for treatment of NSVT. ?\n",
            "8 \t secondary to severe illness.\n",
            "9 \t K+ 3.4 IV.\n",
            "10 \t IVF with 20meq KCL at 200cc/hr.\n",
            "11 \t S/p NSVT pt rec'd 40meq po and 40 meq IV KCL.\n",
            "12 \t K+\n",
            "13 \t 3.9 repeat K+ at 8pm.\n",
            "14 \t Mg and Ca repleted.\n",
            "15 \t Please follow electrolyte SS.\n"
          ],
          "name": "stdout"
        }
      ]
    },
    {
      "cell_type": "markdown",
      "metadata": {
        "id": "LbGLfbOnTG7a"
      },
      "source": [
        "### Text 3"
      ]
    },
    {
      "cell_type": "code",
      "metadata": {
        "id": "icTdjY-6TKJo"
      },
      "source": [
        "text_3 = '''PT. IS A 56 Y/O FEMALE S/P CRANIOTOMY ON 7/16 FOR REMOVAL OF BENIGN CYSTIC LESION. SURGERY PERFORMED AT BIDMC.STARTED ON DILANTIN POST-OP FOR SEIZURE PROPHYLAXIS. 2 DAYS PRIOR TO ADMISSION PT DEVELOPED BILAT. EYE DISCHARGE-- SEEN BY EYE MD AND TREATED WITH SULFATE OPTHALMIC DROPS.ALSO DEVELOPED ORAL SORES AND RASH ON CHEST AND RAPIDLY SPREAD TO TRUNK, ARMS, THIGHS, BUTTOCKS, AND FACE WITHIN 24 HRS.UNABLE TO EAT DUE TO MOUTH PAIN. + FEVER, + DIARRHEA, WEAKNESS. PRESENTED TO EW ON 8/4 WITH TEMP 104 SBP 90'S.GIVEN NS FLUID BOLUS, TYLENOL FOR TEMP. SHE PUSTULAR RED RASH ON FACE, RED RASH NOTED ON TRUNK, UPPER EXTREMITIES AND THIGHS. ALSO BOTH EYES DRAINING GREENISH-YELLOW DRAINAGE. ADMITTED TO CCU ( MICU BORDER) FOR CLOSE OBSERVATION.\n",
        "'''"
      ],
      "execution_count": 11,
      "outputs": []
    },
    {
      "cell_type": "code",
      "metadata": {
        "application/vnd.databricks.v1+cell": {
          "title": "",
          "showTitle": false,
          "inputWidgets": {},
          "nuid": "2ff8c8d8-531c-4020-923f-0cca6a3c0f65"
        },
        "id": "tmGNCXOdDc73",
        "colab": {
          "base_uri": "https://localhost:8080/"
        },
        "outputId": "40ce3b40-9b74-4ad6-9e87-af4412a5a7cf"
      },
      "source": [
        "get_sentences_sddl(text_3)\n",
        "get_sentences_spacy(text_3) "
      ],
      "execution_count": 12,
      "outputs": [
        {
          "output_type": "stream",
          "text": [
            "with Spark NLP SentenceDetectorDL_HC\n",
            "=======================================\n",
            "0\t0\t81\tPT. IS A 56 Y/O FEMALE S/P CRANIOTOMY ON 7/16 FOR REMOVAL OF BENIGN CYSTIC LESION.\n",
            "1\t83\t109\tSURGERY PERFORMED AT BIDMC.\n",
            "2\t110\t207\tSTARTED ON DILANTIN POST-OP FOR SEIZURE PROPHYLAXIS. 2 DAYS PRIOR TO ADMISSION PT DEVELOPED BILAT.\n",
            "3\t209\t280\tEYE DISCHARGE-- SEEN BY EYE MD AND TREATED WITH SULFATE OPTHALMIC DROPS.\n",
            "4\t281\t400\tALSO DEVELOPED ORAL SORES AND RASH ON CHEST AND RAPIDLY SPREAD TO TRUNK, ARMS, THIGHS, BUTTOCKS, AND FACE WITHIN 24 HRS.\n",
            "5\t401\t463\tUNABLE TO EAT DUE TO MOUTH PAIN. + FEVER, + DIARRHEA, WEAKNESS.\n",
            "6\t465\t510\tPRESENTED TO EW ON 8/4 WITH TEMP 104 SBP 90'S.\n",
            "7\t511\t549\tGIVEN NS FLUID BOLUS, TYLENOL FOR TEMP.\n",
            "8\t551\t635\tSHE PUSTULAR RED RASH ON FACE, RED RASH NOTED ON TRUNK, UPPER EXTREMITIES AND THIGHS.\n",
            "9\t637\t685\tALSO BOTH EYES DRAINING GREENISH-YELLOW DRAINAGE.\n",
            "10\t687\t739\tADMITTED TO CCU ( MICU BORDER) FOR CLOSE OBSERVATION.\n",
            "\n",
            "with Spacy Sentence Detection\n",
            "===================================\n",
            "0 \t PT.\n",
            "1 \t IS A 56 Y/O FEMALE S/P CRANIOTOMY ON 7/16 FOR REMOVAL OF BENIGN CYSTIC LESION.\n",
            "2 \t SURGERY PERFORMED\n",
            "3 \t AT BIDMC.STARTED\n",
            "4 \t ON DILANTIN POST-OP FOR SEIZURE PROPHYLAXIS.\n",
            "5 \t 2 DAYS PRIOR TO ADMISSION PT DEVELOPED BILAT.\n",
            "6 \t EYE DISCHARGE-- SEEN BY EYE MD AND TREATED WITH SULFATE OPTHALMIC DROPS.ALSO DEVELOPED ORAL SORES AND RASH ON CHEST AND RAPIDLY SPREAD TO TRUNK, ARMS, THIGHS, BUTTOCKS, AND FACE WITHIN 24\n",
            "7 \t HRS.UNABLE TO EAT DUE TO MOUTH PAIN.\n",
            "8 \t + FEVER, + DIARRHEA, WEAKNESS.\n",
            "9 \t PRESENTED TO EW\n",
            "10 \t ON 8/4\n",
            "11 \t WITH TEMP 104 SBP 90'S.GIVEN NS FLUID BOLUS, TYLENOL FOR TEMP.\n",
            "12 \t SHE PUSTULAR RED RASH ON FACE, RED RASH NOTED ON TRUNK, UPPER EXTREMITIES AND THIGHS.\n",
            "13 \t ALSO BOTH EYES\n",
            "14 \t DRAINING GREENISH-YELLOW DRAINAGE.\n",
            "15 \t ADMITTED TO CCU ( MICU BORDER) FOR CLOSE OBSERVATION.\n"
          ],
          "name": "stdout"
        }
      ]
    },
    {
      "cell_type": "markdown",
      "metadata": {
        "id": "BMkXHd65Tmvl"
      },
      "source": [
        "### Text 4"
      ]
    },
    {
      "cell_type": "code",
      "metadata": {
        "id": "AiBbk6YkTo_a"
      },
      "source": [
        "text_4 = '''Tylenol 650mg po q6h CVS: Aspirin 121.5mg po daily for graft patency, npn 7p-7a: ccu nsg progress note: s/o: does understand and speak some eng, family visiting this eve and states that pt is oriented and appropriate for them resp--ls w/crackles approx 1/2 up, rr 20's, appeared sl sob, on 4l sat when sitting straight up 95-99%, when lying flat or turning s-s sat does drop to 88-93%, pt does not c/o feeling sob, sat does come back up when sitting up, did rec 40mg iv lasix cardiac hr 90's sr w/occ pvc's, bp 95-106/50's, did not c/o any cp during the noc, conts on hep at 600u/hr, ptt during noc 79, am labs pnd, remains off pressors, at this time no further plans to swan pt or for her to go to cath lab, gi--abd soft, non tender to palpation, (+)bs, passing sm amt of brown soft stool, tol po's w/out diff renal--u/o cont'd low during the eve, team decided to give lasix 40mg in setting of crackles, decreased u/o and sob, did diuresis well to lasix, pt approx 700cc neg today access--pt has 3 peripheral iv's in place, all working, unable to draw bloods from pt d/t poor veins, pt is going to need access to draw bloods, central line or picc line social--son & dtr in visiting w/their famlies tonight, pt awake and conversing w/them a/p: cont to monitor/asses cvs follow resp status, additional lasix f/u w/team re: plan of care for her will need iv access for blood draws keep family & pt updated w/plan, Neuro:On propofol gtt dose increased from 20 to 40mcg/kg/min,moves all extrimities to pain,awaken to stimuly easily,purposeful movements.PERL,had an episode of seizure at 1815 <1min when neuro team in for exam ,responded to 2mg ativan on keprra Iv BID.2 grams mag sulfate given, IVF bolus 250 cc started, approx 50 cc in then dc'd d/t PAD's,2.5 mg IV lopressor given x 2 without effect. CCU NURSING 4P-7P S DENIES CP/SOB O. SEE CAREVUE FLOWSHEET FOR COMPLETE VS 1600 O2 SAT 91% ON 5L N/C, 1 U PRBC'S INFUSING, LUNGS CRACKLES BILATERALLY, LASIX 40MG IV ORDERED, 1200 CC U/O W/IMPROVED O2 SATS ON 4L N/C, IABP AT 1:1 BP 81-107/90-117/48-57, HR 70'S SR, GROIN SITES D+I, HEPARIN REMAINS AT 950 U/HR INTEGRELIN AT 2 MCGS/KG A: IMPROVED U/O AFTER LASIX, AWAITING CARDIAC SURGERY P: CONT SUPPORTIVE CARE, REPEAT HCT POST- TRANSFUSION, CHECK LYTES POST-DIURESIS AND REPLACE AS NEEDED, AWAITING CABG-DATE.Given 50mg IV benadryl and 2mg morphine as well as one aspirin PO and inch of NT paste. When pt remained tachycardic w/ frequent ectopy s/p KCL and tylenol for temp - Orders given by Dr. [**Last Name (STitle) 2025**] to increase diltiazem to 120mg PO QID and NS 250ml given X1 w/ moderate effect.Per team, the pts IV sedation was weaned over the course of the day and now infusing @ 110mcg/hr IV Fentanyl & 9mg/hr IV Verced c pt able to open eyes to verbal stimuli and nod head appropriately to simple commands (are you in pain?).  A/P: 73 y/o male remains intubated, IVF boluses x2 for CVP <12, pt continues in NSR on PO amio 400 TID, dopamine gtt weaned down for MAPs>65 but the team felt he is overall receiving about the same amt fentanyl now as he has been in past few days, as the fentanyl patch 100 mcg was added a 48 hrs ago to replace the decrease in the IV fentanyl gtt today (fent patch takes at least 24 hrs to kick in).Started valium 10mg po q6hrs at 1300 with prn IV valium as needed.'''"
      ],
      "execution_count": 13,
      "outputs": []
    },
    {
      "cell_type": "code",
      "metadata": {
        "id": "xvoXITitTqSG",
        "colab": {
          "base_uri": "https://localhost:8080/"
        },
        "outputId": "05ca741c-3509-48e6-bef7-9b7799c03324"
      },
      "source": [
        "get_sentences_sddl(text_4)\n"
      ],
      "execution_count": 14,
      "outputs": [
        {
          "output_type": "stream",
          "text": [
            "with Spark NLP SentenceDetectorDL_HC\n",
            "=======================================\n",
            "0\t0\t1417\tTylenol 650mg po q6h CVS: Aspirin 121.5mg po daily for graft patency, npn 7p-7a: ccu nsg progress note: s/o: does understand and speak some eng, family visiting this eve and states that pt is oriented and appropriate for them resp--ls w/crackles approx 1/2 up, rr 20's, appeared sl sob, on 4l sat when sitting straight up 95-99%, when lying flat or turning s-s sat does drop to 88-93%, pt does not c/o feeling sob, sat does come back up when sitting up, did rec 40mg iv lasix cardiac hr 90's sr w/occ pvc's, bp 95-106/50's, did not c/o any cp during the noc, conts on hep at 600u/hr, ptt during noc 79, am labs pnd, remains off pressors, at this time no further plans to swan pt or for her to go to cath lab, gi--abd soft, non tender to palpation, (+)bs, passing sm amt of brown soft stool, tol po's w/out diff renal--u/o cont'd low during the eve, team decided to give lasix 40mg in setting of crackles, decreased u/o and sob, did diuresis well to lasix, pt approx 700cc neg today access--pt has 3 peripheral iv's in place, all working, unable to draw bloods from pt d/t poor veins, pt is going to need access to draw bloods, central line or picc line social--son & dtr in visiting w/their famlies tonight, pt awake and conversing w/them a/p: cont to monitor/asses cvs follow resp status, additional lasix f/u w/team re: plan of care for her will need iv access for blood draws keep family & pt updated w/plan, Neuro:\n",
            "1\t1418\t1548\tOn propofol gtt dose increased from 20 to 40mcg/kg/min,moves all extrimities to pain,awaken to stimuly easily,purposeful movements.\n",
            "2\t1549\t1663\tPERL,had an episode of seizure at 1815 <1min when neuro team in for exam ,responded to 2mg ativan on keprra Iv BID.\n",
            "3\t1664\t1797\t2 grams mag sulfate given, IVF bolus 250 cc started, approx 50 cc in then dc'd d/t PAD's,2.5 mg IV lopressor given x 2 without effect.\n",
            "4\t1799\t2308\tCCU NURSING 4P-7P S DENIES CP/SOB O. SEE CAREVUE FLOWSHEET FOR COMPLETE VS 1600 O2 SAT 91% ON 5L N/C, 1 U PRBC'S INFUSING, LUNGS CRACKLES BILATERALLY, LASIX 40MG IV ORDERED, 1200 CC U/O W/IMPROVED O2 SATS ON 4L N/C, IABP AT 1:1 BP 81-107/90-117/48-57, HR 70'S SR, GROIN SITES D+I, HEPARIN REMAINS AT 950 U/HR INTEGRELIN AT 2 MCGS/KG A: IMPROVED U/O AFTER LASIX, AWAITING CARDIAC SURGERY P: CONT SUPPORTIVE CARE, REPEAT HCT POST- TRANSFUSION, CHECK LYTES POST-DIURESIS AND REPLACE AS NEEDED, AWAITING CABG-DATE.\n",
            "5\t2309\t2395\tGiven 50mg IV benadryl and 2mg morphine as well as one aspirin PO and inch of NT paste.\n",
            "6\t2397\t2604\tWhen pt remained tachycardic w/ frequent ectopy s/p KCL and tylenol for temp - Orders given by Dr. [**Last Name (STitle) 2025**] to increase diltiazem to 120mg PO QID and NS 250ml given X1 w/ moderate effect.\n",
            "7\t2605\t2838\tPer team, the pts IV sedation was weaned over the course of the day and now infusing @ 110mcg/hr IV Fentanyl & 9mg/hr IV Verced c pt able to open eyes to verbal stimuli and nod head appropriately to simple commands (are you in pain?).\n",
            "8\t2841\t3240\tA/P: 73 y/o male remains intubated, IVF boluses x2 for CVP <12, pt continues in NSR on PO amio 400 TID, dopamine gtt weaned down for MAPs>65 but the team felt he is overall receiving about the same amt fentanyl now as he has been in past few days, as the fentanyl patch 100 mcg was added a 48 hrs ago to replace the decrease in the IV fentanyl gtt today (fent patch takes at least 24 hrs to kick in).\n",
            "9\t3241\t3306\tStarted valium 10mg po q6hrs at 1300 with prn IV valium as needed.\n"
          ],
          "name": "stdout"
        }
      ]
    },
    {
      "cell_type": "code",
      "metadata": {
        "id": "oN1tK6qyT0q4",
        "colab": {
          "base_uri": "https://localhost:8080/"
        },
        "outputId": "a1bd6490-759e-44bf-cd18-2269253be5f1"
      },
      "source": [
        "get_sentences_spacy(text_4) "
      ],
      "execution_count": 15,
      "outputs": [
        {
          "output_type": "stream",
          "text": [
            "\n",
            "with Spacy Sentence Detection\n",
            "===================================\n",
            "0 \t Tylenol 650mg\n",
            "1 \t po q6h CVS:\n",
            "2 \t Aspirin 121.5mg po daily for graft patency, npn 7p-7a:\n",
            "3 \t ccu nsg progress note:\n",
            "4 \t s\n",
            "5 \t /o: does understand and speak some eng, family visiting this eve and states that pt is oriented and appropriate for them resp--\n",
            "6 \t ls w/crackles approx 1/2 up, rr 20's, appeared sl sob, on 4l sat when sitting straight up 95-99%, when lying flat or turning\n",
            "7 \t s-s sat does drop to 88-93%, pt does not c/o feeling sob, sat does come back up when sitting up, did rec 40mg\n",
            "8 \t iv lasix cardiac hr\n",
            "9 \t 90's sr w/occ pvc's, bp 95-106/50's,\n",
            "10 \t did not c/o\n",
            "11 \t any cp during the noc\n",
            "12 \t , conts on hep at 600u/hr, ptt during noc 79, am labs pnd, remains off pressors, at this time no further plans to swan pt or for her to go to cath lab, gi--abd soft, non tender to palpation, (+)\n",
            "13 \t bs, passing sm amt of brown soft stool, tol po's\n",
            "14 \t w/out diff renal--\n",
            "15 \t u/o cont'd low during the eve\n",
            "16 \t , team decided to give lasix 40mg in setting of crackles, decreased u/o and sob, did diuresis well to lasix,\n",
            "17 \t pt approx 700cc neg today access--pt has 3 peripheral\n",
            "18 \t iv's in place, all working, unable to draw bloods from pt d/\n",
            "19 \t t poor veins, pt is going to need access to draw bloods, central line or picc line social--\n",
            "20 \t son & dtr in visiting w/their famlies tonight, pt awake and conversing\n",
            "21 \t w\n",
            "22 \t /them\n",
            "23 \t a/p: cont to monitor/asses\n",
            "24 \t cvs follow resp status, additional lasix f/u w/team\n",
            "25 \t re:\n",
            "26 \t plan of care for her will need iv access for blood draws keep family & pt updated w/plan, Neuro:\n",
            "27 \t On propofol gtt dose increased from 20 to 40mcg/kg/min,moves all extrimities to pain,awaken to stimuly easily,purposeful movements.\n",
            "28 \t PERL,had an episode of seizure at 1815 <1min when neuro team in for exam ,responded to 2mg ativan on keprra\n",
            "29 \t Iv BID.2 grams mag\n",
            "30 \t sulfate given\n",
            "31 \t , IVF bolus 250 cc started, approx 50 cc in then\n",
            "32 \t dc'd d/t PAD's,2.5 mg IV lopressor given x 2 without effect.\n",
            "33 \t CCU NURSING 4P-7P\n",
            "34 \t S DENIES\n",
            "35 \t CP/SOB O. SEE CAREVUE FLOWSHEET FOR COMPLETE VS\n",
            "36 \t 1600\n",
            "37 \t O2 SAT 91% ON 5L N/C, 1\n",
            "38 \t U PRBC'S\n",
            "39 \t INFUSING, LUNGS CRACKLES BILATERALLY, LASIX 40MG\n",
            "40 \t IV ORDERED, 1200 CC U/O W/IMPROVED\n",
            "41 \t O2 SATS ON 4L N/C,\n",
            "42 \t IABP AT 1:1 BP 81-107/90-117/48-57,\n",
            "43 \t HR 70'S SR, GROIN SITES D+I\n",
            "44 \t , HEPARIN REMAINS\n",
            "45 \t AT 950 U/HR\n",
            "46 \t INTEGRELIN\n",
            "47 \t AT 2 MCGS/KG A:\n",
            "48 \t IMPROVED\n",
            "49 \t U/O\n",
            "50 \t AFTER LASIX\n",
            "51 \t , AWAITING CARDIAC SURGERY P: CONT SUPPORTIVE CARE, REPEAT HCT POST- TRANSFUSION, CHECK LYTES POST-DIURESIS AND REPLACE AS NEEDED, AWAITING CABG-DATE.Given\n",
            "52 \t 50mg IV benadryl and 2mg morphine as well as one aspirin PO and inch of NT paste.\n",
            "53 \t When pt remained tachycardic\n",
            "54 \t w/ frequent ectopy s/p KCL and tylenol for temp - Orders given by Dr.\n",
            "55 \t [\n",
            "56 \t *\n",
            "57 \t *\n",
            "58 \t Last Name (STitle)\n",
            "59 \t 2025\n",
            "60 \t **] to increase diltiazem to 120mg PO QID and NS 250ml given X1 w/ moderate effect.\n",
            "61 \t Per team, the pts IV sedation was weaned over the course of the day and now infusing @ 110mcg/hr IV Fentanyl & 9mg/hr IV Verced c pt able to open eyes to verbal stimuli and nod head appropriately to simple commands (are you in pain?).  \n",
            "62 \t A/P: 73 y/\n",
            "63 \t o male remains intubated, IVF boluses x2 for CVP <12, pt continues in NSR on PO amio 400 TID, dopamine gtt weaned down for MAPs>65\n",
            "64 \t but the team felt he is overall receiving about the same amt fentanyl now as he has been in past few days, as the fentanyl patch 100 mcg was added a 48 hrs ago to replace the decrease in the IV fentanyl gtt today\n",
            "65 \t (fent patch takes at least 24 hrs to kick in).Started valium 10mg po q6hrs at 1300 with prn IV valium as needed.\n"
          ],
          "name": "stdout"
        }
      ]
    },
    {
      "cell_type": "markdown",
      "metadata": {
        "application/vnd.databricks.v1+cell": {
          "title": "",
          "showTitle": false,
          "inputWidgets": {},
          "nuid": "422ed5a6-5c3f-4895-8690-4ee6343ed985"
        },
        "id": "Dv8vCG7ADc8-"
      },
      "source": [
        "# **SetenceDetectorDL_HC** Performance and Comparison with **Spacy Sentence Splitter** on **Broken Clinical  Sentences**"
      ]
    },
    {
      "cell_type": "markdown",
      "metadata": {
        "id": "sUJUwvzgUT31"
      },
      "source": [
        "### Broken Text 1"
      ]
    },
    {
      "cell_type": "code",
      "metadata": {
        "application/vnd.databricks.v1+cell": {
          "title": "",
          "showTitle": false,
          "inputWidgets": {},
          "nuid": "c63196f2-8abb-46aa-a23b-caf023226c94"
        },
        "id": "qTyzTHKPDc8_"
      },
      "source": [
        "random_broken_text_1 = '''He was given boluses of MS04 with some effect, he has since been placed on a PCA \n",
        "- he take 80mg of oxycontin at home, his PCA dose is ~ 2 the morphine dose of the oxycontin, he has also received ativan for anxiety.Repleted with 20 meq kcl po, 30 m\n",
        "mol K-phos iv and 2 gms mag so4 iv. LASIX CHANGED TO 40 PO BID WHICH IS SAME AS HE TAKES AT HOME - RECEIVED 40 PO IN AM - 700CC U/O TOTAL FOR FLUID NEGATIVE ~ 600 THUS FAR TODAY, ~ 600 NEG LOS pt initially hypertensive 160s-180s gave prn doses if IV hydralazine without effect, labetalol increased from 100 mg to 200 mg PO TID which kept SBP > 160 for rest of night.Transferred to the EW found to be hypertensive BP 253/167 HR 132 ST treated with IV NTG gtt 20-120mcg/ and captopril 12.5mg sl x3. During the day pt's resp status has been very tenuous, responded to lasix in the am but then became hypotensive around 1800 tx with 500cc NS bolus and a unit of RBC did improve her BP to 90-100/60 but also became increasingly more tachypneic, RR 30-40's crackles went from bases bilaterally to [**2-14**] way up bilaterally.Lasix given 10\n",
        "mg x 2 during the evening without much change in her respiratory status.10units iv insulin given, 1 amps of 50%dextrose, 1amp of sodium bicard, 2gm calc gluconate.LOPRESSOR 7MG IV Q6H, ENALAPRIL 0.625MG IV Q6H TOLERATED.\n",
        "ID: Continues to receive flagyl, linazolid, pipercillin, ambisome, gent, and acyclovir, the acyclovir was changed from PO to IV-to be given after dialysis.Meds- Lipitor, procardia, synthroid, lisinopril, pepcid, actonel, calcium, MVI Social- Denies tobacco and drugs.'''"
      ],
      "execution_count": 16,
      "outputs": []
    },
    {
      "cell_type": "code",
      "metadata": {
        "id": "c3U4rWhHUSOE",
        "colab": {
          "base_uri": "https://localhost:8080/"
        },
        "outputId": "91bf7c7c-4390-4bf9-b7eb-71862d0ab766"
      },
      "source": [
        "get_sentences_sddl(random_broken_text_1)"
      ],
      "execution_count": null,
      "outputs": [
        {
          "output_type": "stream",
          "text": [
            "with Spark NLP SentenceDetectorDL_HC\n",
            "=======================================\n",
            "0\t0\t214\tHe was given boluses of MS04 with some effect, he has since been placed on a PCA - he take 80mg of oxycontin at home, his PCA dose is ~ 2 the morphine dose of the oxycontin, he has also received ativan for anxiety.\n",
            "1\t215\t283\tRepleted with 20 meq kcl po, 30 mmol K-phos iv and 2 gms mag so4 iv.\n",
            "2\t285\t614\tLASIX CHANGED TO 40 PO BID WHICH IS SAME AS HE TAKES AT HOME - RECEIVED 40 PO IN AM - 700CC U/O TOTAL FOR FLUID NEGATIVE ~ 600 THUS FAR TODAY, ~ 600 NEG LOS pt initially hypertensive 160s-180s gave prn doses if IV hydralazine without effect, labetalol increased from 100 mg to 200 mg PO TID which kept SBP > 160 for rest of night.\n",
            "3\t615\t744\tTransferred to the EW found to be hypertensive BP 253/167 HR 132 ST treated with IV NTG gtt 20-120mcg/ and captopril 12.5mg sl x3.\n",
            "4\t746\t1069\tDuring the day pt's resp status has been very tenuous, responded to lasix in the am but then became hypotensive around 1800 tx with 500cc NS bolus and a unit of RBC did improve her BP to 90-100/60 but also became increasingly more tachypneic, RR 30-40's crackles went from bases bilaterally to [**2-14**] way up bilaterally.\n",
            "5\t1070\t1156\tLasix given 10mg x 2 during the evening without much change in her respiratory status.\n",
            "6\t1157\t1247\t10units iv insulin given, 1 amps of 50%dextrose, 1amp of sodium bicard, 2gm calc gluconate.\n",
            "7\t1248\t1304\tLOPRESSOR 7MG IV Q6H, ENALAPRIL 0.625MG IV Q6H TOLERATED.\n",
            "8\t1306\t1460\tID: Continues to receive flagyl, linazolid, pipercillin, ambisome, gent, and acyclovir, the acyclovir was changed from PO to IV-to be given after dialysis.\n",
            "9\t1461\t1572\tMeds- Lipitor, procardia, synthroid, lisinopril, pepcid, actonel, calcium, MVI Social- Denies tobacco and drugs.\n"
          ],
          "name": "stdout"
        }
      ]
    },
    {
      "cell_type": "code",
      "metadata": {
        "id": "Do5n5_UsUhI6",
        "colab": {
          "base_uri": "https://localhost:8080/"
        },
        "outputId": "cd506417-b8f9-4b34-a8c6-65bbf3f39ed5"
      },
      "source": [
        "get_sentences_spacy(random_broken_text_1)"
      ],
      "execution_count": 17,
      "outputs": [
        {
          "output_type": "stream",
          "text": [
            "\n",
            "with Spacy Sentence Detection\n",
            "===================================\n",
            "0 \t He was given boluses of MS04 with some effect, he has since been placed on a PCA - he take 80mg of oxycontin at home, his PCA dose is ~ 2 the morphine dose of the oxycontin, he has also received ativan for anxiety.\n",
            "1 \t Repleted with 20 meq kcl po, 30 m\n",
            "2 \t mol K-phos iv and 2 gms\n",
            "3 \t mag\n",
            "4 \t so4 iv.\n",
            "5 \t LASIX CHANGED TO 40 PO BID WHICH IS SAME AS\n",
            "6 \t HE TAKES\n",
            "7 \t AT HOME - RECEIVED 40 PO\n",
            "8 \t IN AM - 700CC U/\n",
            "9 \t O TOTAL FOR FLUID NEGATIVE ~\n",
            "10 \t 600 THUS FAR TODAY, ~ 600 NEG LOS pt initially hypertensive 160s-180s gave prn doses\n",
            "11 \t if IV hydralazine without effect, labetalol increased from 100 mg to 200 mg PO TID which kept SBP > 160 for rest of night.\n",
            "12 \t Transferred to the EW found to be hypertensive BP 253/167 HR\n",
            "13 \t 132 ST treated with IV NTG gtt 20-120mcg/ and captopril 12.5mg sl x3.\n",
            "14 \t During the day pt's resp status has been very tenuous, responded to lasix in the am but then became hypotensive around 1800 tx with 500cc NS bolus and a unit of RBC did improve her BP to 90-100/60 but also became increasingly more tachypneic, RR 30-40's crackles went from bases bilaterally to [*\n",
            "15 \t *2-14\n",
            "16 \t **] way up bilaterally.\n",
            "17 \t Lasix given 10mg x 2 during the evening without much change in her respiratory status.10units iv insulin given, 1 amps of 50%dextrose, 1amp of sodium bicard, 2gm calc gluconate.\n",
            "18 \t LOPRESSOR 7MG IV Q6H, ENALAPRIL 0.625MG IV Q6H TOLERATED.\n",
            "19 \t ID:\n",
            "20 \t Continues to receive flagyl, linazolid, pipercillin, ambisome, gent, and acyclovir, the acyclovir was changed from PO to IV-to be given after dialysis.\n",
            "21 \t Meds-\n",
            "22 \t Lipitor, procardia, synthroid, lisinopril, pepcid, actonel, calcium, MVI Social- Denies tobacco and drugs.\n"
          ],
          "name": "stdout"
        }
      ]
    },
    {
      "cell_type": "markdown",
      "metadata": {
        "id": "xAEZCTRXUk70"
      },
      "source": [
        "### Broken Text 2"
      ]
    },
    {
      "cell_type": "code",
      "metadata": {
        "application/vnd.databricks.v1+cell": {
          "title": "",
          "showTitle": false,
          "inputWidgets": {},
          "nuid": "5ef7ffac-5380-4a6d-88ec-dca8ffbebc35"
        },
        "id": "Cu6tHQMjDc9C"
      },
      "source": [
        "random_broken_text_2 = '''A 28-year-\n",
        "old female with a history of gestational diabetes mellitus diagnosed eight years prior to presentation and subsequent type two diabetes mellitus ( \n",
        "T2DM ), \n",
        "one prior episode of HTG-induced pancreatitis three years prior to presentation,  associated with an acute hepatitis , and obesity with a body mass index ( BMI ) of 33.5 \n",
        "kg/m2 , presented with a one-\n",
        "week history of polyuria , polydipsia , poor appetite , and vomiting.Two weeks prior to presentation , she was treated with a five-day course of \n",
        "amoxicillin for a respiratory tract infection.She was on metformin , glipizide , and dapagliflozin for T2DM and atorvastatin and gemfibrozil for HTG . She had been on dapagliflozin for six months at the time of \n",
        "presentation. Physical examination on presentation was significant for dry oral mucosa ; significantly , her abdominal examination was benign with no tenderness , guarding , or rigidity . \n",
        "Pertinent laboratory findings on admission were : serum glucose 111 mg\n",
        "/dl , bicarbonate 18 mmol/l , \n",
        "anion gap 20 , creatinine 0.4 mg/dL , triglycerides 508 mg\n",
        "/dL , total cholesterol 122 \n",
        "mg/dL , glycated hemoglobin ( HbA1c \n",
        ") 10% , and venous pH 7.27 .Serum lipase was normal at 43U/L .Serum acetone levels could not be assessed as blood samples kept hemolyzing due to significant lipemia.The patient was initially admitted for starvation ketosis , as she reported poor oral intake for three days prior to admission.However , serum chemistry obtained six hours after presentation revealed her glucose was\n",
        " 186 mg/dL , the anion gap was still elevated at 21 , serum bicarbonate was 16 mmol/L , triglyceride level peaked at 2050 \n",
        " mg/dL , and lipase was 52 U/L.The β-hydroxybutyrate level was obtained and found to be elevated at 5.\n",
        " 29 \n",
        " mmol/L - \n",
        " the original sample was centrifuged and the chylomicron layer removed prior to analysis due to interference from turbidity caused by lipemia again.The patient was treated with an insulin drip for euDKA \n",
        " and HTG with a reduction in the anion gap to 13 and triglycerides to 1400 mg/\n",
        " dL , within 24 hours.Her euDKA was thought to be precipitated by her respiratory tract infection in the setting of SGLT2 inhibitor use . \n",
        " The patient was seen by the endocrinology service and she was discharged on 40\n",
        "  units of insulin glargine at night , \n",
        "12 units of insulin lispro with meals , and metformin 1000 mg two times a day.It was determined that all SGLT2 inhibitors should be discontinued indefinitely .'''"
      ],
      "execution_count": 18,
      "outputs": []
    },
    {
      "cell_type": "code",
      "metadata": {
        "id": "kOUtFBOuUoCm",
        "colab": {
          "base_uri": "https://localhost:8080/"
        },
        "outputId": "a9931a72-8f24-4e75-d897-28803fb6be85"
      },
      "source": [
        "get_sentences_sddl(random_broken_text_2)\n",
        "get_sentences_spacy(random_broken_text_2)"
      ],
      "execution_count": 19,
      "outputs": [
        {
          "output_type": "stream",
          "text": [
            "with Spark NLP SentenceDetectorDL_HC\n",
            "=======================================\n",
            "0\t0\t437\tA 28-year-old female with a history of gestational diabetes mellitus diagnosed eight years prior to presentation and subsequent type two diabetes mellitus ( T2DM ), one prior episode of HTG-induced pancreatitis three years prior to presentation,  associated with an acute hepatitis , and obesity with a body mass index ( BMI ) of 33.5 kg/m2 , presented with a one-week history of polyuria , polydipsia , poor appetite , and vomiting.\n",
            "1\t438\t560\tTwo weeks prior to presentation , she was treated with a five-day course of amoxicillin for a respiratory tract infection.\n",
            "2\t561\t664\tShe was on metformin , glipizide , and dapagliflozin for T2DM and atorvastatin and gemfibrozil for HTG .\n",
            "3\t666\t739\tShe had been on dapagliflozin for six months at the time of presentation.\n",
            "4\t741\t913\tPhysical examination on presentation was significant for dry oral mucosa ; significantly , her abdominal examination was benign with no tenderness , guarding , or rigidity .\n",
            "5\t916\t1204\tPertinent laboratory findings on admission were : serum glucose 111 mg/dl , bicarbonate 18 mmol/l , anion gap 20 , creatinine 0.4 mg/dL , triglycerides 508 mg/dL , total cholesterol 122 mg/dL , glycated hemoglobin ( HbA1c ) 10% , and venous pH 7.27 .Serum lipase was normal at 43U/L .\n",
            "6\t1205\t1307\tSerum acetone levels could not be assessed as blood samples kept hemolyzing due to significant lipemia.\n",
            "7\t1308\t1434\tThe patient was initially admitted for starvation ketosis , as she reported poor oral intake for three days prior to admission.\n",
            "8\t1435\t1523\tHowever , serum chemistry obtained six hours after presentation revealed her glucose was\n",
            "9\t1525\t1677\t186 mg/dL , the anion gap was still elevated at 21 , serum bicarbonate was 16 mmol/L , triglyceride level peaked at 2050  mg/dL , and lipase was 52 U/L.\n",
            "10\t1678\t1913\tThe β-hydroxybutyrate level was obtained and found to be elevated at 5. 29  mmol/L -  the original sample was centrifuged and the chylomicron layer removed prior to analysis due to interference from turbidity caused by lipemia again.\n",
            "11\t1914\t2070\tThe patient was treated with an insulin drip for euDKA  and HTG with a reduction in the anion gap to 13 and triglycerides to 1400 mg/ dL , within 24 hours.\n",
            "12\t2071\t2185\tHer euDKA was thought to be precipitated by her respiratory tract infection in the setting of SGLT2 inhibitor use .\n",
            "13\t2189\t2385\tThe patient was seen by the endocrinology service and she was discharged on 40  units of insulin glargine at night , 12 units of insulin lispro with meals , and metformin 1000 mg two times a day.\n",
            "14\t2386\t2466\tIt was determined that all SGLT2 inhibitors should be discontinued indefinitely .\n",
            "\n",
            "with Spacy Sentence Detection\n",
            "===================================\n",
            "0 \t A 28-year-old female with a history of gestational diabetes mellitus diagnosed eight years prior to presentation and subsequent type\n",
            "1 \t two diabetes mellitus ( T2DM ), \n",
            "2 \t one prior episode of HTG-induced pancreatitis three years prior to presentation,  associated with an acute hepatitis , and obesity with a body mass index ( BMI ) of 33.5 kg/m2 , presented with a one-week history of polyuria , polydipsia , poor appetite , and vomiting.\n",
            "3 \t Two weeks prior to presentation , she was treated with a five-day course of amoxicillin for a respiratory tract infection.\n",
            "4 \t She was on metformin , glipizide , and dapagliflozin for T2DM and atorvastatin and gemfibrozil for HTG .\n",
            "5 \t She had been on dapagliflozin for six months at the time of presentation.\n",
            "6 \t Physical examination on presentation was significant for dry oral mucosa ; significantly , her abdominal examination was benign with no tenderness , guarding , or rigidity . \n",
            "7 \t Pertinent laboratory findings on admission were :\n",
            "8 \t serum glucose 111 mg\n",
            "9 \t /dl , bicarbonate 18 mmol/l , anion gap 20 , creatinine 0.4 mg/dL , triglycerides 508 mg/dL , total cholesterol 122 mg/dL ,\n",
            "10 \t glycated hemoglobin (\n",
            "11 \t HbA1c )\n",
            "12 \t 10% , and\n",
            "13 \t venous pH 7.27 .Serum lipase was normal at 43U/L .Serum acetone levels could not be assessed as blood samples kept hemolyzing due to significant lipemia.\n",
            "14 \t The patient was initially admitted for starvation ketosis , as she reported poor oral intake for three days prior to admission.\n",
            "15 \t However , serum chemistry obtained six hours after presentation revealed her glucose was \n",
            "16 \t 186 mg/dL , the anion gap was still elevated at 21 , serum bicarbonate was 16 mmol/L , triglyceride level peaked at 2050  mg/dL , and lipase was 52 U/\n",
            "17 \t L.The β-hydroxybutyrate level was obtained and found to be elevated at 5. \n",
            "18 \t 29  mmol/\n",
            "19 \t L\n",
            "20 \t -  \n",
            "21 \t the original sample was centrifuged and the chylomicron layer removed prior to analysis due to interference from turbidity caused by lipemia again.\n",
            "22 \t The patient was treated with an insulin drip for euDKA  and HTG with a reduction in the anion gap to 13 and triglycerides to 1400\n",
            "23 \t mg/ dL , within 24 hours.\n",
            "24 \t Her euDKA was thought to be precipitated by her respiratory tract infection in the setting of SGLT2 inhibitor use .  \n",
            "25 \t The patient was seen by the endocrinology service and she was discharged on 40  units of insulin glargine at night , \n",
            "26 \t 12 units of insulin lispro with meals , and metformin 1000 mg two times a day.\n",
            "27 \t It was determined that all SGLT2 inhibitors should be discontinued indefinitely .\n"
          ],
          "name": "stdout"
        }
      ]
    },
    {
      "cell_type": "markdown",
      "metadata": {
        "id": "Y7fnE_BEU4Tb"
      },
      "source": [
        "### Broken Text 3"
      ]
    },
    {
      "cell_type": "code",
      "metadata": {
        "application/vnd.databricks.v1+cell": {
          "title": "",
          "showTitle": false,
          "inputWidgets": {},
          "nuid": "2b1d0950-474e-4984-8bee-07d78616d2a4"
        },
        "id": "5zgiUgoBDc9M"
      },
      "source": [
        "random_broken_text_3 = ''' Tylenol 650mg po q6h CVS: Aspirin 121.5mg po daily for graft patency.npn 7p-7a: ccu nsg progress note: s/o: does understand and speak some eng, family visiting this eve and states that pt is oriented and appropriate for them resp--ls w/crackles approx 1/2 up, rr 20's, appeared sl sob, on 4l sat when sitting straight up 95-99%, when lying flat or turning s-s sat does drop to 88-93%, pt does not c/o feeling sob, \n",
        "sat does come back up when sitting up, did rec 40\n",
        "mg iv lasix cardiac--hr 90's sr w/occ pvc's, bp 95-\n",
        "106/50's, did not c/o any cp during the noc, conts on hep at 600u/\n",
        "hr, ptt during noc 79, am labs pnd, remains off pressors, at this time no further plans to swan pt or for her to go to cath lab, gi--abd soft, non tender to palpation, (+)bs, passing sm amt of brown soft stool, tol po's w/out diff renal--u/o cont'd low during the eve,\n",
        " team decided to give lasix 40mg in setting of crackles, decreased u/o \n",
        "and sob, did diuresis well to lasix, pt approx 700cc neg today access--pt has 3 peripheral iv's in place, all working, unable to draw bloods from pt d/t poor veins, pt is going to need access to draw bloods, ?central line or picc line social--son & dtr in visiting w/their famlies tonight, pt awake and conversing w/them a/p: cont to monitor/asses cvs follow resp status, additional\n",
        " lasix f/u w/team re: plan of care for her will need iv access for blood draws keep family & pt updated w/plan, Neuro:On propofol gtt dose increased from 20 to 40mcg/kg/min,moves all extrimities to pain,awaken to stimuly easily,purposeful movements.PERL,had an episode of seizure at 1815 <1min when neuro team in for exam ,responded to 2mg ativan on keprra Iv BID.2 grams mag sulfate given, IVF bolus 250 cc started, approx 50 cc in then dc'd d/t PAD's, \n",
        " 2.5 mg IV lopressor given x 2 without effect. CCU NURSING 4P-7P S DENIES CP/SOB O. SEE CAREVUE FLOWSHEET FOR COMPLETE VS 1600 O2 SAT 91% ON 5L N/C, 1 U PRBC'S INFUSING, LUNGS CRACKLES BILATERALLY, LASIX 40MG IV ORDERED, 1200 CC U/O W/IMPROVED O2 SATS ON 4L N/C, IABP AT 1:1 BP 81-107/90-117/48-57, HR 70'S SR, GROIN SITES D+I, HEPARIN REMAINS AT 950 U/HR INTEGRELIN AT 2 MCGS/KG A: IMPROVED U/O AFTER LASIX, AWAITING CARDIAC SURGERY P: CONT SUPPORTIVE CARE, \n",
        " REPEAT HCT POST-TRANSFUSION, CHECK LYTES POST-DIURESIS AND REPLACE AS NEEDED, AWAITING CABG -DATE.Given 50mg IV benadryl and 2mg morphine as well as one aspirin PO and inch of NT paste. When pt remained tachycardic w/ frequent ectopy s/p KCL and tylenol for temp - Orders given by Dr. [**Last Name (STitle) 2025**] to increase diltiazem to 120mg PO QID and NS 250ml given X1 w/ moderate effect.Per team, the pts IV sedation was weaned over the course of the \n",
        " day and now infusing @ 110mcg/hr IV Fentanyl & 9mg/hr IV Verced c pt able to open eyes to verbal stimuli and nod head appropriately to simple commands (are you in pain?) .  A/P: 73 y/o male remains intubated, IVF boluses x2 for CVP <12, pt continues in NSR on PO amio 400 TID, dopamine gtt weaned down for MAPs>65 but the team felt he is overall receiving about the same amt fentanyl now as he has been in past few days, as the fentanyl patch 100\n",
        "mcg was added a 48 hrs ago to replace the decrease in the IV fentanyl gtt today (fent patch takes at least 24 hrs to kick in).Started valium 10mg po q6hrs at 1300 with prn IV valium as needed.'''"
      ],
      "execution_count": 20,
      "outputs": []
    },
    {
      "cell_type": "code",
      "metadata": {
        "id": "LC2mfM9TU22R",
        "colab": {
          "base_uri": "https://localhost:8080/"
        },
        "outputId": "d3d91c7a-c836-48ec-c5a0-2e2d60cc35c8"
      },
      "source": [
        "get_sentences_sddl(random_broken_text_3)\n",
        "get_sentences_spacy(random_broken_text_3)"
      ],
      "execution_count": 21,
      "outputs": [
        {
          "output_type": "stream",
          "text": [
            "with Spark NLP SentenceDetectorDL_HC\n",
            "=======================================\n",
            "0\t1\t69\tTylenol 650mg po q6h CVS: Aspirin 121.5mg po daily for graft patency.\n",
            "1\t70\t1426\tnpn 7p-7a: ccu nsg progress note: s/o: does understand and speak some eng, family visiting this eve and states that pt is oriented and appropriate for them resp--ls w/crackles approx 1/2 up, rr 20's, appeared sl sob, on 4l sat when sitting straight up 95-99%, when lying flat or turning s-s sat does drop to 88-93%, pt does not c/o feeling sob, sat does come back up when sitting up, did rec 40mg iv lasix cardiac--hr 90's sr w/occ pvc's, bp 95-106/50's, did not c/o any cp during the noc, conts on hep at 600u/hr, ptt during noc 79, am labs pnd, remains off pressors, at this time no further plans to swan pt or for her to go to cath lab, gi--abd soft, non tender to palpation, (+)bs, passing sm amt of brown soft stool, tol po's w/out diff renal--u/o cont'd low during the eve, team decided to give lasix 40mg in setting of crackles, decreased u/o and sob, did diuresis well to lasix, pt approx 700cc neg today access--pt has 3 peripheral iv's in place, all working, unable to draw bloods from pt d/t poor veins, pt is going to need access to draw bloods, ?central line or picc line social--son & dtr in visiting w/their famlies tonight, pt awake and conversing w/them a/p: cont to monitor/asses cvs follow resp status, additional lasix f/u w/team re: plan of care for her will need iv access for blood draws keep family & pt updated w/plan, Neuro:\n",
            "2\t1427\t1557\tOn propofol gtt dose increased from 20 to 40mcg/kg/min,moves all extrimities to pain,awaken to stimuly easily,purposeful movements.\n",
            "3\t1558\t1672\tPERL,had an episode of seizure at 1815 <1min when neuro team in for exam ,responded to 2mg ativan on keprra Iv BID.\n",
            "4\t1673\t1809\t2 grams mag sulfate given, IVF bolus 250 cc started, approx 50 cc in then dc'd d/t PAD's,  2.5 mg IV lopressor given x 2 without effect.\n",
            "5\t1811\t2322\tCCU NURSING 4P-7P S DENIES CP/SOB O. SEE CAREVUE FLOWSHEET FOR COMPLETE VS 1600 O2 SAT 91% ON 5L N/C, 1 U PRBC'S INFUSING, LUNGS CRACKLES BILATERALLY, LASIX 40MG IV ORDERED, 1200 CC U/O W/IMPROVED O2 SATS ON 4L N/C, IABP AT 1:1 BP 81-107/90-117/48-57, HR 70'S SR, GROIN SITES D+I, HEPARIN REMAINS AT 950 U/HR INTEGRELIN AT 2 MCGS/KG A: IMPROVED U/O AFTER LASIX, AWAITING CARDIAC SURGERY P: CONT SUPPORTIVE CARE,  REPEAT HCT POST-TRANSFUSION, CHECK LYTES POST-DIURESIS AND REPLACE AS NEEDED, AWAITING CABG -DATE.\n",
            "6\t2323\t2409\tGiven 50mg IV benadryl and 2mg morphine as well as one aspirin PO and inch of NT paste.\n",
            "7\t2411\t2618\tWhen pt remained tachycardic w/ frequent ectopy s/p KCL and tylenol for temp - Orders given by Dr. [**Last Name (STitle) 2025**] to increase diltiazem to 120mg PO QID and NS 250ml given X1 w/ moderate effect.\n",
            "8\t2619\t2855\tPer team, the pts IV sedation was weaned over the course of the  day and now infusing @ 110mcg/hr IV Fentanyl & 9mg/hr IV Verced c pt able to open eyes to verbal stimuli and nod head appropriately to simple commands (are you in pain?) .\n",
            "9\t2858\t3257\tA/P: 73 y/o male remains intubated, IVF boluses x2 for CVP <12, pt continues in NSR on PO amio 400 TID, dopamine gtt weaned down for MAPs>65 but the team felt he is overall receiving about the same amt fentanyl now as he has been in past few days, as the fentanyl patch 100mcg was added a 48 hrs ago to replace the decrease in the IV fentanyl gtt today (fent patch takes at least 24 hrs to kick in).\n",
            "10\t3258\t3323\tStarted valium 10mg po q6hrs at 1300 with prn IV valium as needed.\n",
            "\n",
            "with Spacy Sentence Detection\n",
            "===================================\n",
            "0 \t  Tylenol 650\n",
            "1 \t mg po q6h CVS:\n",
            "2 \t Aspirin 121.5mg po daily for graft patency.npn 7p-7a:\n",
            "3 \t ccu nsg progress note:\n",
            "4 \t s\n",
            "5 \t /o: does understand and speak some eng, family visiting this eve and states that pt is oriented and appropriate for them resp--\n",
            "6 \t ls w/crackles approx 1/2 up, rr 20's, appeared sl sob, on 4l sat when sitting straight up 95-99%, when lying flat or turning\n",
            "7 \t s-s sat does drop to 88-93%,\n",
            "8 \t pt does not c/o feeling sob, sat does come back up when sitting up, did rec 40\n",
            "9 \t mg iv lasix cardiac--hr\n",
            "10 \t 90's sr w/occ pvc's, bp 95-\n",
            "11 \t 106/50's, did not c\n",
            "12 \t /o any cp during the noc, conts on hep at 600u/\n",
            "13 \t hr, ptt during noc 79, am labs pnd, remains off pressors, at this time no further plans to swan pt or for her to go to cath lab, gi--abd soft, non tender to palpation, (+)\n",
            "14 \t bs, passing sm amt of brown soft stool, tol po's\n",
            "15 \t w/out diff renal--\n",
            "16 \t u/o cont'd low during the eve\n",
            "17 \t , team decided to give lasix 40mg in setting of crackles, decreased u/o and sob, did diuresis well to lasix,\n",
            "18 \t pt approx 700cc neg today access--pt has 3 peripheral\n",
            "19 \t iv's in place, all working, unable to draw bloods from pt d/\n",
            "20 \t t poor veins, pt is going to need access to draw bloods, ?\n",
            "21 \t central line or picc line social--son & dtr in visiting w/their famlies tonight,\n",
            "22 \t pt awake and conversing\n",
            "23 \t w\n",
            "24 \t /them\n",
            "25 \t a/p: cont to monitor/asses\n",
            "26 \t cvs follow resp status, additional lasix f/u w/team\n",
            "27 \t re:\n",
            "28 \t plan of care for her will need iv access for blood draws keep family & pt updated w/plan, Neuro:\n",
            "29 \t On propofol gtt dose increased from 20 to 40mcg/kg/min,moves all extrimities to pain,awaken to stimuly easily,purposeful movements.\n",
            "30 \t PERL,had an episode of seizure at 1815 <1min when neuro team in for exam ,responded to 2mg ativan on keprra\n",
            "31 \t Iv BID.2 grams mag\n",
            "32 \t sulfate given\n",
            "33 \t , IVF bolus 250 cc started, approx 50 cc in then\n",
            "34 \t dc'd d/t PAD's,  2.5 mg IV lopressor given x 2 without effect.\n",
            "35 \t CCU NURSING 4P-7P\n",
            "36 \t S DENIES\n",
            "37 \t CP/SOB O. SEE CAREVUE FLOWSHEET FOR COMPLETE VS\n",
            "38 \t 1600\n",
            "39 \t O2 SAT 91% ON 5L N/C, 1\n",
            "40 \t U PRBC'S\n",
            "41 \t INFUSING, LUNGS CRACKLES BILATERALLY, LASIX 40MG\n",
            "42 \t IV ORDERED, 1200 CC U/O W/IMPROVED\n",
            "43 \t O2 SATS ON 4L N/C,\n",
            "44 \t IABP AT 1:1 BP 81-107/90-117/48-57,\n",
            "45 \t HR 70'S SR, GROIN SITES D+I\n",
            "46 \t , HEPARIN REMAINS\n",
            "47 \t AT 950 U/HR\n",
            "48 \t INTEGRELIN\n",
            "49 \t AT 2 MCGS/KG A:\n",
            "50 \t IMPROVED\n",
            "51 \t U/O\n",
            "52 \t AFTER LASIX\n",
            "53 \t , AWAITING CARDIAC SURGERY P: CONT SUPPORTIVE CARE,  REPEAT HCT POST-TRANSFUSION, CHECK LYTES POST-DIURESIS AND REPLACE AS NEEDED, AWAITING CABG\n",
            "54 \t -DATE.Given 50mg IV benadryl and 2mg morphine as well as one aspirin PO and inch of NT paste.\n",
            "55 \t When pt remained tachycardic\n",
            "56 \t w/ frequent ectopy s/p KCL and tylenol for temp - Orders given by Dr.\n",
            "57 \t [\n",
            "58 \t *\n",
            "59 \t *\n",
            "60 \t Last Name (STitle)\n",
            "61 \t 2025\n",
            "62 \t **] to increase diltiazem to 120mg PO QID and NS 250ml given X1 w/ moderate effect.\n",
            "63 \t Per team, the pts IV sedation was weaned over the course of the  day and now infusing @ 110mcg/hr IV Fentanyl & 9mg/hr IV Verced c pt able to open eyes to verbal stimuli and nod head appropriately to simple commands (are you in pain?) .  \n",
            "64 \t A/P: 73 y/\n",
            "65 \t o male remains intubated, IVF boluses x2 for CVP <12, pt continues in NSR on PO amio 400 TID, dopamine gtt weaned down for MAPs>65\n",
            "66 \t but the team felt he is overall receiving about the same amt fentanyl now as he has been in past few days, as the fentanyl patch 100\n",
            "67 \t mcg was added a 48 hrs ago to replace the decrease in the IV fentanyl gtt today\n",
            "68 \t (fent patch takes at least 24 hrs to kick in).Started valium 10mg po q6hrs at 1300 with prn IV valium as needed.\n"
          ],
          "name": "stdout"
        }
      ]
    },
    {
      "cell_type": "markdown",
      "metadata": {
        "application/vnd.databricks.v1+cell": {
          "title": "",
          "showTitle": false,
          "inputWidgets": {},
          "nuid": "32dab596-d8e4-42a2-b1d2-3f8540491eb8"
        },
        "id": "_usS2NUsDc9s"
      },
      "source": [
        "End of Notebook # 20"
      ]
    }
  ]
}
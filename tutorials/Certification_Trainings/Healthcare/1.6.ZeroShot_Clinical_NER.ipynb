{
  "cells": [
    {
      "cell_type": "markdown",
      "metadata": {
        "id": "I08sFJYCxR0Z"
      },
      "source": [
        "![JohnSnowLabs](https://nlp.johnsnowlabs.com/assets/images/logo.png)"
      ]
    },
    {
      "cell_type": "markdown",
      "metadata": {
        "id": "FwJ-P56kq6FU"
      },
      "source": [
        "[![Open In Colab](https://colab.research.google.com/assets/colab-badge.svg)](https://colab.research.google.com/github/JohnSnowLabs/spark-nlp-workshop/blob/master/tutorials/Certification_Trainings/Healthcare/1.6.ZeroShot_Clinical_NER.ipynb)"
      ]
    },
    {
      "cell_type": "markdown",
      "metadata": {
        "id": "Niy3mZAjoayg"
      },
      "source": [
        "#  Zero-Shot Named Entity Recognition in Spark NLP\n",
        "\n",
        "In this notebook, you will find an example of Zero-Shot NER model (`zero_shot_ner_roberta`) that is the first of its kind and can detect any named entities without using any annotated dataset to train a model. \n",
        "\n",
        "`ZeroShotNerModel` annotator also allows extracting entities by crafting appropriate prompts to query **any RoBERTa Question Answering model**. \n",
        "\n",
        "\n",
        "You can check the model card here: [Models Hub](https://nlp.johnsnowlabs.com/2022/08/29/zero_shot_ner_roberta_en.html)"
      ]
    },
    {
      "cell_type": "markdown",
      "metadata": {
        "id": "okhT7AcXxben"
      },
      "source": [
        "## Colab Setup"
      ]
    },
    {
      "cell_type": "code",
      "execution_count": 1,
      "metadata": {
        "id": "d8-kIRU5mew_",
        "outputId": "dceb1573-0268-4a6f-e4b6-bfb3af548886",
        "colab": {
          "base_uri": "https://localhost:8080/",
          "height": 73
        }
      },
      "outputs": [
        {
          "output_type": "display_data",
          "data": {
            "text/plain": [
              "<IPython.core.display.HTML object>"
            ],
            "text/html": [
              "\n",
              "     <input type=\"file\" id=\"files-5acbc283-7cf4-4400-b1f3-106affdc54bb\" name=\"files[]\" multiple disabled\n",
              "        style=\"border:none\" />\n",
              "     <output id=\"result-5acbc283-7cf4-4400-b1f3-106affdc54bb\">\n",
              "      Upload widget is only available when the cell has been executed in the\n",
              "      current browser session. Please rerun this cell to enable.\n",
              "      </output>\n",
              "      <script>// Copyright 2017 Google LLC\n",
              "//\n",
              "// Licensed under the Apache License, Version 2.0 (the \"License\");\n",
              "// you may not use this file except in compliance with the License.\n",
              "// You may obtain a copy of the License at\n",
              "//\n",
              "//      http://www.apache.org/licenses/LICENSE-2.0\n",
              "//\n",
              "// Unless required by applicable law or agreed to in writing, software\n",
              "// distributed under the License is distributed on an \"AS IS\" BASIS,\n",
              "// WITHOUT WARRANTIES OR CONDITIONS OF ANY KIND, either express or implied.\n",
              "// See the License for the specific language governing permissions and\n",
              "// limitations under the License.\n",
              "\n",
              "/**\n",
              " * @fileoverview Helpers for google.colab Python module.\n",
              " */\n",
              "(function(scope) {\n",
              "function span(text, styleAttributes = {}) {\n",
              "  const element = document.createElement('span');\n",
              "  element.textContent = text;\n",
              "  for (const key of Object.keys(styleAttributes)) {\n",
              "    element.style[key] = styleAttributes[key];\n",
              "  }\n",
              "  return element;\n",
              "}\n",
              "\n",
              "// Max number of bytes which will be uploaded at a time.\n",
              "const MAX_PAYLOAD_SIZE = 100 * 1024;\n",
              "\n",
              "function _uploadFiles(inputId, outputId) {\n",
              "  const steps = uploadFilesStep(inputId, outputId);\n",
              "  const outputElement = document.getElementById(outputId);\n",
              "  // Cache steps on the outputElement to make it available for the next call\n",
              "  // to uploadFilesContinue from Python.\n",
              "  outputElement.steps = steps;\n",
              "\n",
              "  return _uploadFilesContinue(outputId);\n",
              "}\n",
              "\n",
              "// This is roughly an async generator (not supported in the browser yet),\n",
              "// where there are multiple asynchronous steps and the Python side is going\n",
              "// to poll for completion of each step.\n",
              "// This uses a Promise to block the python side on completion of each step,\n",
              "// then passes the result of the previous step as the input to the next step.\n",
              "function _uploadFilesContinue(outputId) {\n",
              "  const outputElement = document.getElementById(outputId);\n",
              "  const steps = outputElement.steps;\n",
              "\n",
              "  const next = steps.next(outputElement.lastPromiseValue);\n",
              "  return Promise.resolve(next.value.promise).then((value) => {\n",
              "    // Cache the last promise value to make it available to the next\n",
              "    // step of the generator.\n",
              "    outputElement.lastPromiseValue = value;\n",
              "    return next.value.response;\n",
              "  });\n",
              "}\n",
              "\n",
              "/**\n",
              " * Generator function which is called between each async step of the upload\n",
              " * process.\n",
              " * @param {string} inputId Element ID of the input file picker element.\n",
              " * @param {string} outputId Element ID of the output display.\n",
              " * @return {!Iterable<!Object>} Iterable of next steps.\n",
              " */\n",
              "function* uploadFilesStep(inputId, outputId) {\n",
              "  const inputElement = document.getElementById(inputId);\n",
              "  inputElement.disabled = false;\n",
              "\n",
              "  const outputElement = document.getElementById(outputId);\n",
              "  outputElement.innerHTML = '';\n",
              "\n",
              "  const pickedPromise = new Promise((resolve) => {\n",
              "    inputElement.addEventListener('change', (e) => {\n",
              "      resolve(e.target.files);\n",
              "    });\n",
              "  });\n",
              "\n",
              "  const cancel = document.createElement('button');\n",
              "  inputElement.parentElement.appendChild(cancel);\n",
              "  cancel.textContent = 'Cancel upload';\n",
              "  const cancelPromise = new Promise((resolve) => {\n",
              "    cancel.onclick = () => {\n",
              "      resolve(null);\n",
              "    };\n",
              "  });\n",
              "\n",
              "  // Wait for the user to pick the files.\n",
              "  const files = yield {\n",
              "    promise: Promise.race([pickedPromise, cancelPromise]),\n",
              "    response: {\n",
              "      action: 'starting',\n",
              "    }\n",
              "  };\n",
              "\n",
              "  cancel.remove();\n",
              "\n",
              "  // Disable the input element since further picks are not allowed.\n",
              "  inputElement.disabled = true;\n",
              "\n",
              "  if (!files) {\n",
              "    return {\n",
              "      response: {\n",
              "        action: 'complete',\n",
              "      }\n",
              "    };\n",
              "  }\n",
              "\n",
              "  for (const file of files) {\n",
              "    const li = document.createElement('li');\n",
              "    li.append(span(file.name, {fontWeight: 'bold'}));\n",
              "    li.append(span(\n",
              "        `(${file.type || 'n/a'}) - ${file.size} bytes, ` +\n",
              "        `last modified: ${\n",
              "            file.lastModifiedDate ? file.lastModifiedDate.toLocaleDateString() :\n",
              "                                    'n/a'} - `));\n",
              "    const percent = span('0% done');\n",
              "    li.appendChild(percent);\n",
              "\n",
              "    outputElement.appendChild(li);\n",
              "\n",
              "    const fileDataPromise = new Promise((resolve) => {\n",
              "      const reader = new FileReader();\n",
              "      reader.onload = (e) => {\n",
              "        resolve(e.target.result);\n",
              "      };\n",
              "      reader.readAsArrayBuffer(file);\n",
              "    });\n",
              "    // Wait for the data to be ready.\n",
              "    let fileData = yield {\n",
              "      promise: fileDataPromise,\n",
              "      response: {\n",
              "        action: 'continue',\n",
              "      }\n",
              "    };\n",
              "\n",
              "    // Use a chunked sending to avoid message size limits. See b/62115660.\n",
              "    let position = 0;\n",
              "    do {\n",
              "      const length = Math.min(fileData.byteLength - position, MAX_PAYLOAD_SIZE);\n",
              "      const chunk = new Uint8Array(fileData, position, length);\n",
              "      position += length;\n",
              "\n",
              "      const base64 = btoa(String.fromCharCode.apply(null, chunk));\n",
              "      yield {\n",
              "        response: {\n",
              "          action: 'append',\n",
              "          file: file.name,\n",
              "          data: base64,\n",
              "        },\n",
              "      };\n",
              "\n",
              "      let percentDone = fileData.byteLength === 0 ?\n",
              "          100 :\n",
              "          Math.round((position / fileData.byteLength) * 100);\n",
              "      percent.textContent = `${percentDone}% done`;\n",
              "\n",
              "    } while (position < fileData.byteLength);\n",
              "  }\n",
              "\n",
              "  // All done.\n",
              "  yield {\n",
              "    response: {\n",
              "      action: 'complete',\n",
              "    }\n",
              "  };\n",
              "}\n",
              "\n",
              "scope.google = scope.google || {};\n",
              "scope.google.colab = scope.google.colab || {};\n",
              "scope.google.colab._files = {\n",
              "  _uploadFiles,\n",
              "  _uploadFilesContinue,\n",
              "};\n",
              "})(self);\n",
              "</script> "
            ]
          },
          "metadata": {}
        },
        {
          "output_type": "stream",
          "name": "stdout",
          "text": [
            "Saving 4.2.0.spark_nlp_for_healthcare.json to 4.2.0.spark_nlp_for_healthcare.json\n"
          ]
        }
      ],
      "source": [
        "import json\n",
        "import os\n",
        "\n",
        "from google.colab import files\n",
        "\n",
        "license_keys = files.upload()\n",
        "\n",
        "with open(list(license_keys.keys())[0]) as f:\n",
        "    license_keys = json.load(f)\n",
        "\n",
        "# Defining license key-value pairs as local variables\n",
        "locals().update(license_keys)\n",
        "\n",
        "# Adding license key-value pairs to environment variables\n",
        "os.environ.update(license_keys)"
      ]
    },
    {
      "cell_type": "code",
      "execution_count": 2,
      "metadata": {
        "id": "saeJ8JFqt3Dg",
        "outputId": "692a0b03-cd28-4983-942a-429342cfcbf7",
        "colab": {
          "base_uri": "https://localhost:8080/"
        }
      },
      "outputs": [
        {
          "output_type": "stream",
          "name": "stdout",
          "text": [
            "\u001b[K     |████████████████████████████████| 212.4 MB 52 kB/s \n",
            "\u001b[K     |████████████████████████████████| 641 kB 42.2 MB/s \n",
            "\u001b[K     |████████████████████████████████| 198 kB 63.9 MB/s \n",
            "\u001b[?25h  Building wheel for pyspark (setup.py) ... \u001b[?25l\u001b[?25hdone\n",
            "\u001b[K     |████████████████████████████████| 281 kB 5.2 MB/s \n",
            "\u001b[K     |████████████████████████████████| 95 kB 2.3 MB/s \n",
            "\u001b[K     |████████████████████████████████| 66 kB 4.3 MB/s \n",
            "\u001b[K     |████████████████████████████████| 1.6 MB 46.7 MB/s \n",
            "\u001b[?25h"
          ]
        }
      ],
      "source": [
        "# Installing pyspark and spark-nlp\n",
        "! pip install --upgrade -q pyspark==3.1.2 spark-nlp==$PUBLIC_VERSION\n",
        "\n",
        "# Installing Spark NLP Healthcare\n",
        "! pip install --upgrade -q spark-nlp-jsl==$JSL_VERSION  --extra-index-url https://pypi.johnsnowlabs.com/$SECRET\n",
        "\n",
        "# Installing Spark NLP Display Library for visualization\n",
        "! pip install -q spark-nlp-display"
      ]
    },
    {
      "cell_type": "code",
      "execution_count": 3,
      "metadata": {
        "id": "ziwjuhAV7DYH",
        "colab": {
          "base_uri": "https://localhost:8080/",
          "height": 254
        },
        "outputId": "8bda2719-791b-4567-b2f4-c07021593552"
      },
      "outputs": [
        {
          "output_type": "stream",
          "name": "stdout",
          "text": [
            "Spark NLP Version : 4.2.0\n",
            "Spark NLP_JSL Version : 4.2.0\n"
          ]
        },
        {
          "output_type": "execute_result",
          "data": {
            "text/plain": [
              "<pyspark.sql.session.SparkSession at 0x7f9ac6bb9b50>"
            ],
            "text/html": [
              "\n",
              "            <div>\n",
              "                <p><b>SparkSession - in-memory</b></p>\n",
              "                \n",
              "        <div>\n",
              "            <p><b>SparkContext</b></p>\n",
              "\n",
              "            <p><a href=\"http://767a2c912c42:4040\">Spark UI</a></p>\n",
              "\n",
              "            <dl>\n",
              "              <dt>Version</dt>\n",
              "                <dd><code>v3.1.2</code></dd>\n",
              "              <dt>Master</dt>\n",
              "                <dd><code>local[*]</code></dd>\n",
              "              <dt>AppName</dt>\n",
              "                <dd><code>Spark NLP Licensed</code></dd>\n",
              "            </dl>\n",
              "        </div>\n",
              "        \n",
              "            </div>\n",
              "        "
            ]
          },
          "metadata": {},
          "execution_count": 3
        }
      ],
      "source": [
        "import json\n",
        "import os\n",
        "\n",
        "import sparknlp\n",
        "import sparknlp_jsl\n",
        "\n",
        "from sparknlp.base import *\n",
        "from sparknlp.annotator import *\n",
        "from sparknlp_jsl.annotator import *\n",
        "\n",
        "from pyspark.sql import SparkSession\n",
        "from pyspark.sql import functions as F\n",
        "from pyspark.ml import Pipeline,PipelineModel\n",
        "from pyspark.sql.types import StringType\n",
        "\n",
        "import pandas as pd\n",
        "pd.set_option('display.max_colwidth', 200)\n",
        "\n",
        "import warnings\n",
        "warnings.filterwarnings('ignore')\n",
        "\n",
        "params = {\"spark.driver.memory\":\"16G\", \n",
        "          \"spark.kryoserializer.buffer.max\":\"2000M\", \n",
        "          \"spark.driver.maxResultSize\":\"2000M\"} \n",
        "\n",
        "print(\"Spark NLP Version :\", sparknlp.version())\n",
        "print(\"Spark NLP_JSL Version :\", sparknlp_jsl.version())\n",
        "\n",
        "spark = sparknlp_jsl.start(license_keys['SECRET'],params=params)\n",
        "\n",
        "spark"
      ]
    },
    {
      "cell_type": "code",
      "execution_count": 4,
      "metadata": {
        "id": "sNs3kOKMVK2Z"
      },
      "outputs": [],
      "source": [
        "# if you want to start the session with custom params as in start function above\n",
        "from pyspark.sql import SparkSession\n",
        "\n",
        "def start(SECRET):\n",
        "    builder = SparkSession.builder \\\n",
        "        .appName(\"Spark NLP Licensed\") \\\n",
        "        .master(\"local[*]\") \\\n",
        "        .config(\"spark.driver.memory\", \"16G\") \\\n",
        "        .config(\"spark.serializer\", \"org.apache.spark.serializer.KryoSerializer\") \\\n",
        "        .config(\"spark.kryoserializer.buffer.max\", \"2000M\") \\\n",
        "        .config(\"spark.jars.packages\", \"com.johnsnowlabs.nlp:spark-nlp_2.12:\"+PUBLIC_VERSION) \\\n",
        "        .config(\"spark.jars\", \"https://pypi.johnsnowlabs.com/\"+SECRET+\"/spark-nlp-jsl-\"+JSL_VERSION+\".jar\")\n",
        "      \n",
        "    return builder.getOrCreate()\n",
        "\n",
        "#spark = start(SECRET)"
      ]
    },
    {
      "cell_type": "markdown",
      "metadata": {
        "id": "AMU4sAJQ0Rhs"
      },
      "source": [
        "## Zero-Shot Clinical NER Pipeline\n",
        "\n",
        "Now we will create a pipeline for Zero-Shot NER model with only `documentAssembler`, `sentenceDetector`, `tokenizer`, `zero_shot_ner` and `ner_converter` stages. As you can see, we don't use any embeddings model, because it is already included in the model. \n",
        "\n",
        "Only the thing that you need to do is create meaningful definitions for the entities that you want to extract. For example; we want to detect `PROBLEM`, `DRUG`, `PATIENT_AGE` and  `ADMISSION_DATE` entities, so we created a dictionary with the questions for detecting these entities and the labels that we want to see in the result. Then we provided this dictionary to the model by using `setEntityDefinitions` parameter. \n"
      ]
    },
    {
      "cell_type": "code",
      "execution_count": 5,
      "metadata": {
        "id": "DEa5SITBxmY0",
        "colab": {
          "base_uri": "https://localhost:8080/"
        },
        "outputId": "837c824d-3ceb-4c88-a0f9-c35e7e3ffad8"
      },
      "outputs": [
        {
          "output_type": "stream",
          "name": "stdout",
          "text": [
            "zero_shot_ner_roberta download started this may take some time.\n",
            "[OK!]\n"
          ]
        }
      ],
      "source": [
        "documentAssembler = DocumentAssembler() \\\n",
        "    .setInputCol(\"text\") \\\n",
        "    .setOutputCol(\"document\")\n",
        "\n",
        "sentenceDetector = SentenceDetector() \\\n",
        "    .setInputCols([\"document\"]) \\\n",
        "    .setOutputCol(\"sentence\")\n",
        "\n",
        "tokenizer = Tokenizer() \\\n",
        "    .setInputCols([\"sentence\"]) \\\n",
        "    .setOutputCol(\"token\")\n",
        "    \n",
        "zero_shot_ner = ZeroShotNerModel.pretrained(\"zero_shot_ner_roberta\", \"en\", \"clinical/models\")\\\n",
        "    .setEntityDefinitions(\n",
        "        {\n",
        "            \"PROBLEM\": [\"What is the disease?\", \"What is his symptom?\", \"What is her disease?\", \"What is his disease?\", \n",
        "                        \"What is the problem?\" ,\"What does a patient suffer\", 'What was the reason that the patient is admitted to the clinic?'],\n",
        "            \"DRUG\": [\"Which drug?\", \"Which is the drug?\", \"What is the drug?\", \"Which drug does he use?\", \"Which drug does she use?\", \"Which drug do I use?\", \"Which drug is prescribed for a symptom?\"],\n",
        "            \"ADMISSION_DATE\": [\"When did patient admitted to a clinic?\"],\n",
        "            \"PATIENT_AGE\": [\"How old is the patient?\",'What is the gae of the patient?']\n",
        "        })\\\n",
        "    .setInputCols([\"sentence\", \"token\"])\\\n",
        "    .setOutputCol(\"zero_shot_ner\")\\\n",
        "    .setPredictionThreshold(0.1) # default 0.01\n",
        "\n",
        "ner_converter = sparknlp.annotators.NerConverter()\\\n",
        "    .setInputCols([\"sentence\", \"token\", \"zero_shot_ner\"])\\\n",
        "    .setOutputCol(\"ner_chunk\")\\\n",
        "\n",
        "pipeline = Pipeline(stages = [\n",
        "    documentAssembler, \n",
        "    sentenceDetector, \n",
        "    tokenizer, \n",
        "    zero_shot_ner, \n",
        "    ner_converter])\n",
        "\n",
        "zero_shot_ner_model = pipeline.fit(spark.createDataFrame([[\"\"]]).toDF(\"text\"))"
      ]
    },
    {
      "cell_type": "code",
      "execution_count": 6,
      "metadata": {
        "colab": {
          "base_uri": "https://localhost:8080/"
        },
        "id": "rPO8wgprvai_",
        "outputId": "b11291d5-4e91-40dc-fbf1-2946f00e120e"
      },
      "outputs": [
        {
          "output_type": "execute_result",
          "data": {
            "text/plain": [
              "{Param(parent='ZeroShotRobertaNer_5d06c0297d21', name='ignoreEntities', doc='List of entities to ignore'): [],\n",
              " Param(parent='ZeroShotRobertaNer_5d06c0297d21', name='predictionThreshold', doc='Minimal confidence score to encode an entity (default is 0.1)'): 0.1,\n",
              " Param(parent='ZeroShotRobertaNer_5d06c0297d21', name='lazyAnnotator', doc='Whether this AnnotatorModel acts as lazy in RecursivePipelines'): False,\n",
              " Param(parent='ZeroShotRobertaNer_5d06c0297d21', name='batchSize', doc='Size of every batch'): 8,\n",
              " Param(parent='ZeroShotRobertaNer_5d06c0297d21', name='maxSentenceLength', doc='Max sentence length to process'): 512,\n",
              " Param(parent='ZeroShotRobertaNer_5d06c0297d21', name='caseSensitive', doc='whether to ignore case in tokens for embeddings matching'): True,\n",
              " Param(parent='ZeroShotRobertaNer_5d06c0297d21', name='inputCols', doc='previous annotations columns, if renamed'): ['sentence',\n",
              "  'token'],\n",
              " Param(parent='ZeroShotRobertaNer_5d06c0297d21', name='outputCol', doc='output annotation column. can be left default.'): 'zero_shot_ner'}"
            ]
          },
          "metadata": {},
          "execution_count": 6
        }
      ],
      "source": [
        "zero_shot_ner.extractParamMap()"
      ]
    },
    {
      "cell_type": "code",
      "execution_count": 7,
      "metadata": {
        "colab": {
          "base_uri": "https://localhost:8080/"
        },
        "id": "gGjoRR5Bvj-U",
        "outputId": "4f11fd22-3e16-40af-d896-5dce82f5114c"
      },
      "outputs": [
        {
          "output_type": "execute_result",
          "data": {
            "text/plain": [
              "0.1"
            ]
          },
          "metadata": {},
          "execution_count": 7
        }
      ],
      "source": [
        "zero_shot_ner.getPredictionThreshold()"
      ]
    },
    {
      "cell_type": "code",
      "source": [
        "text_list = [\"The doctor pescribed Majezik for my severe headache.\",\n",
        "             \"The patient was admitted to the hospital for his colon cancer.\",\n",
        "             \"27 years old patient was admitted to clinic on Sep 1st by Dr. X for a right-sided pleural effusion for thoracentesis.\"\n",
        "            ]\n",
        "\n",
        "data = spark.createDataFrame(text_list, StringType()).toDF(\"text\")\n",
        "\n",
        "results = zero_shot_ner_model.transform(data)"
      ],
      "metadata": {
        "id": "ZrZgkyUfxb-j"
      },
      "execution_count": 8,
      "outputs": []
    },
    {
      "cell_type": "code",
      "execution_count": 9,
      "metadata": {
        "colab": {
          "base_uri": "https://localhost:8080/"
        },
        "id": "DHC3kvfIF2tm",
        "outputId": "59dd7d09-05ec-4238-9db9-0d7bf567df87"
      },
      "outputs": [
        {
          "output_type": "stream",
          "name": "stdout",
          "text": [
            "+--------------------+--------------------+--------------------+--------------------+--------------------+--------------------+\n",
            "|                text|            document|            sentence|               token|       zero_shot_ner|           ner_chunk|\n",
            "+--------------------+--------------------+--------------------+--------------------+--------------------+--------------------+\n",
            "|The doctor pescri...|[{document, 0, 51...|[{document, 0, 51...|[{token, 0, 2, Th...|[{named_entity, 0...|[{chunk, 21, 27, ...|\n",
            "|The patient was a...|[{document, 0, 61...|[{document, 0, 61...|[{token, 0, 2, Th...|[{named_entity, 0...|[{chunk, 49, 60, ...|\n",
            "|27 years old pati...|[{document, 0, 11...|[{document, 0, 11...|[{token, 0, 1, 27...|[{named_entity, 0...|[{chunk, 0, 11, 2...|\n",
            "+--------------------+--------------------+--------------------+--------------------+--------------------+--------------------+\n",
            "\n"
          ]
        }
      ],
      "source": [
        "results.show()"
      ]
    },
    {
      "cell_type": "markdown",
      "source": [
        "Lets check the NER model results."
      ],
      "metadata": {
        "id": "MsDuQg95s5Qf"
      }
    },
    {
      "cell_type": "code",
      "execution_count": 10,
      "metadata": {
        "colab": {
          "base_uri": "https://localhost:8080/"
        },
        "id": "OGBHfjMVUoCu",
        "outputId": "ffde5720-addb-46cd-b4e6-2cc247eea4e6"
      },
      "outputs": [
        {
          "output_type": "stream",
          "name": "stdout",
          "text": [
            "+-------------+----------------+--------+-----+---+----------+---------------------------------------------------------------+\n",
            "|word         |result          |sentence|begin|end|confidence|question                                                       |\n",
            "+-------------+----------------+--------+-----+---+----------+---------------------------------------------------------------+\n",
            "|The          |O               |0       |0    |2  |null      |null                                                           |\n",
            "|doctor       |O               |0       |4    |9  |null      |null                                                           |\n",
            "|pescribed    |O               |0       |11   |19 |null      |null                                                           |\n",
            "|Majezik      |B-DRUG          |0       |21   |27 |0.64671576|Which drug is prescribed for a symptom?                        |\n",
            "|for          |O               |0       |29   |31 |null      |null                                                           |\n",
            "|my           |O               |0       |33   |34 |null      |null                                                           |\n",
            "|severe       |B-PROBLEM       |0       |36   |41 |0.5526346 |What is the problem?                                           |\n",
            "|headache     |I-PROBLEM       |0       |43   |50 |0.5526346 |What is the problem?                                           |\n",
            "|.            |O               |0       |51   |51 |null      |null                                                           |\n",
            "|The          |O               |0       |0    |2  |null      |null                                                           |\n",
            "|patient      |O               |0       |4    |10 |null      |null                                                           |\n",
            "|was          |O               |0       |12   |14 |null      |null                                                           |\n",
            "|admitted     |O               |0       |16   |23 |null      |null                                                           |\n",
            "|to           |O               |0       |25   |26 |null      |null                                                           |\n",
            "|the          |O               |0       |28   |30 |null      |null                                                           |\n",
            "|hospital     |O               |0       |32   |39 |null      |null                                                           |\n",
            "|for          |O               |0       |41   |43 |null      |null                                                           |\n",
            "|his          |O               |0       |45   |47 |null      |null                                                           |\n",
            "|colon        |B-PROBLEM       |0       |49   |53 |0.8898498 |What is his disease?                                           |\n",
            "|cancer       |I-PROBLEM       |0       |55   |60 |0.8898498 |What is his disease?                                           |\n",
            "|.            |O               |0       |61   |61 |null      |null                                                           |\n",
            "|27           |B-PATIENT_AGE   |0       |0    |1  |0.6943085 |How old is the patient?                                        |\n",
            "|years        |I-PATIENT_AGE   |0       |3    |7  |0.6943085 |How old is the patient?                                        |\n",
            "|old          |I-PATIENT_AGE   |0       |9    |11 |0.6943085 |How old is the patient?                                        |\n",
            "|patient      |O               |0       |13   |19 |null      |null                                                           |\n",
            "|was          |O               |0       |21   |23 |null      |null                                                           |\n",
            "|admitted     |O               |0       |25   |32 |null      |null                                                           |\n",
            "|to           |O               |0       |34   |35 |null      |null                                                           |\n",
            "|clinic       |O               |0       |37   |42 |null      |null                                                           |\n",
            "|on           |O               |0       |44   |45 |null      |null                                                           |\n",
            "|Sep          |B-ADMISSION_DATE|0       |47   |49 |0.95646095|When did patient admitted to a clinic?                         |\n",
            "|1st          |I-ADMISSION_DATE|0       |51   |53 |0.95646095|When did patient admitted to a clinic?                         |\n",
            "|by           |O               |0       |55   |56 |null      |null                                                           |\n",
            "|Dr           |O               |0       |58   |59 |null      |null                                                           |\n",
            "|.            |O               |0       |60   |60 |null      |null                                                           |\n",
            "|X            |O               |0       |62   |62 |null      |null                                                           |\n",
            "|for          |O               |0       |64   |66 |null      |null                                                           |\n",
            "|a            |B-PROBLEM       |0       |68   |68 |0.50026613|What was the reason that the patient is admitted to the clinic?|\n",
            "|right-sided  |I-PROBLEM       |0       |70   |80 |0.50026613|What was the reason that the patient is admitted to the clinic?|\n",
            "|pleural      |I-PROBLEM       |0       |82   |88 |0.50026613|What was the reason that the patient is admitted to the clinic?|\n",
            "|effusion     |I-PROBLEM       |0       |90   |97 |0.50026613|What was the reason that the patient is admitted to the clinic?|\n",
            "|for          |I-PROBLEM       |0       |99   |101|0.50026613|What was the reason that the patient is admitted to the clinic?|\n",
            "|thoracentesis|I-PROBLEM       |0       |103  |115|0.50026613|What was the reason that the patient is admitted to the clinic?|\n",
            "|.            |O               |0       |116  |116|null      |null                                                           |\n",
            "+-------------+----------------+--------+-----+---+----------+---------------------------------------------------------------+\n",
            "\n"
          ]
        }
      ],
      "source": [
        "results\\\n",
        "    .selectExpr(\"explode(zero_shot_ner) AS entity\")\\\n",
        "    .select(\n",
        "        \"entity.metadata.word\",    \n",
        "        \"entity.result\",    \n",
        "        \"entity.metadata.sentence\",\n",
        "        \"entity.begin\",\n",
        "        \"entity.end\",\n",
        "        \"entity.metadata.confidence\",\n",
        "        \"entity.metadata.question\")\\\n",
        "    .show(100, truncate=False)"
      ]
    },
    {
      "cell_type": "code",
      "source": [
        "results.select(F.explode(F.arrays_zip(results.token.result,\n",
        "                                      results.zero_shot_ner.result, \n",
        "                                      results.zero_shot_ner.metadata,\n",
        "                                      results.zero_shot_ner.begin, \n",
        "                                      results.zero_shot_ner.end)).alias(\"cols\"))\\\n",
        "       .select(F.expr(\"cols['0']\").alias(\"token\"),\n",
        "               F.expr(\"cols['1']\").alias(\"ner_label\"),\n",
        "               F.expr(\"cols['2']['sentence']\").alias(\"sentence\"),\n",
        "               F.expr(\"cols['3']\").alias(\"begin\"),\n",
        "               F.expr(\"cols['4']\").alias(\"end\"),\n",
        "               F.expr(\"cols['2']['confidence']\").alias(\"confidence\")).show(50, truncate=100)"
      ],
      "metadata": {
        "colab": {
          "base_uri": "https://localhost:8080/"
        },
        "id": "fSsq2qTSX2yd",
        "outputId": "c2142f1e-cdec-4aa4-e987-e6115303228e"
      },
      "execution_count": 11,
      "outputs": [
        {
          "output_type": "stream",
          "name": "stdout",
          "text": [
            "+-------------+----------------+--------+-----+---+----------+\n",
            "|        token|       ner_label|sentence|begin|end|confidence|\n",
            "+-------------+----------------+--------+-----+---+----------+\n",
            "|          The|               O|       0|    0|  2|      null|\n",
            "|       doctor|               O|       0|    4|  9|      null|\n",
            "|    pescribed|               O|       0|   11| 19|      null|\n",
            "|      Majezik|          B-DRUG|       0|   21| 27|0.64671576|\n",
            "|          for|               O|       0|   29| 31|      null|\n",
            "|           my|               O|       0|   33| 34|      null|\n",
            "|       severe|       B-PROBLEM|       0|   36| 41| 0.5526346|\n",
            "|     headache|       I-PROBLEM|       0|   43| 50| 0.5526346|\n",
            "|            .|               O|       0|   51| 51|      null|\n",
            "|          The|               O|       0|    0|  2|      null|\n",
            "|      patient|               O|       0|    4| 10|      null|\n",
            "|          was|               O|       0|   12| 14|      null|\n",
            "|     admitted|               O|       0|   16| 23|      null|\n",
            "|           to|               O|       0|   25| 26|      null|\n",
            "|          the|               O|       0|   28| 30|      null|\n",
            "|     hospital|               O|       0|   32| 39|      null|\n",
            "|          for|               O|       0|   41| 43|      null|\n",
            "|          his|               O|       0|   45| 47|      null|\n",
            "|        colon|       B-PROBLEM|       0|   49| 53| 0.8898498|\n",
            "|       cancer|       I-PROBLEM|       0|   55| 60| 0.8898498|\n",
            "|            .|               O|       0|   61| 61|      null|\n",
            "|           27|   B-PATIENT_AGE|       0|    0|  1| 0.6943085|\n",
            "|        years|   I-PATIENT_AGE|       0|    3|  7| 0.6943085|\n",
            "|          old|   I-PATIENT_AGE|       0|    9| 11| 0.6943085|\n",
            "|      patient|               O|       0|   13| 19|      null|\n",
            "|          was|               O|       0|   21| 23|      null|\n",
            "|     admitted|               O|       0|   25| 32|      null|\n",
            "|           to|               O|       0|   34| 35|      null|\n",
            "|       clinic|               O|       0|   37| 42|      null|\n",
            "|           on|               O|       0|   44| 45|      null|\n",
            "|          Sep|B-ADMISSION_DATE|       0|   47| 49|0.95646095|\n",
            "|          1st|I-ADMISSION_DATE|       0|   51| 53|0.95646095|\n",
            "|           by|               O|       0|   55| 56|      null|\n",
            "|           Dr|               O|       0|   58| 59|      null|\n",
            "|            .|               O|       0|   60| 60|      null|\n",
            "|            X|               O|       0|   62| 62|      null|\n",
            "|          for|               O|       0|   64| 66|      null|\n",
            "|            a|       B-PROBLEM|       0|   68| 68|0.50026613|\n",
            "|  right-sided|       I-PROBLEM|       0|   70| 80|0.50026613|\n",
            "|      pleural|       I-PROBLEM|       0|   82| 88|0.50026613|\n",
            "|     effusion|       I-PROBLEM|       0|   90| 97|0.50026613|\n",
            "|          for|       I-PROBLEM|       0|   99|101|0.50026613|\n",
            "|thoracentesis|       I-PROBLEM|       0|  103|115|0.50026613|\n",
            "|            .|               O|       0|  116|116|      null|\n",
            "+-------------+----------------+--------+-----+---+----------+\n",
            "\n"
          ]
        }
      ]
    },
    {
      "cell_type": "markdown",
      "source": [
        "Now we will check the NER chunks."
      ],
      "metadata": {
        "id": "z7iMeSens9XU"
      }
    },
    {
      "cell_type": "code",
      "execution_count": 12,
      "metadata": {
        "colab": {
          "base_uri": "https://localhost:8080/"
        },
        "id": "5uBnSe0--_Tn",
        "outputId": "7ec7ab72-51c6-4d1b-c0ff-25fd9f6f266f"
      },
      "outputs": [
        {
          "output_type": "stream",
          "name": "stdout",
          "text": [
            "+------------------------------------------------------------------------------------------------------------------------------------------------+\n",
            "|col                                                                                                                                             |\n",
            "+------------------------------------------------------------------------------------------------------------------------------------------------+\n",
            "|{chunk, 21, 27, Majezik, {entity -> DRUG, sentence -> 0, chunk -> 0, confidence -> 0.64671576}, []}                                             |\n",
            "|{chunk, 36, 50, severe headache, {entity -> PROBLEM, sentence -> 0, chunk -> 1, confidence -> 0.5526346}, []}                                   |\n",
            "|{chunk, 49, 60, colon cancer, {entity -> PROBLEM, sentence -> 0, chunk -> 0, confidence -> 0.8898498}, []}                                      |\n",
            "|{chunk, 0, 11, 27 years old, {entity -> PATIENT_AGE, sentence -> 0, chunk -> 0, confidence -> 0.6943085}, []}                                   |\n",
            "|{chunk, 47, 53, Sep 1st, {entity -> ADMISSION_DATE, sentence -> 0, chunk -> 1, confidence -> 0.95646095}, []}                                   |\n",
            "|{chunk, 68, 115, a right-sided pleural effusion for thoracentesis, {entity -> PROBLEM, sentence -> 0, chunk -> 2, confidence -> 0.50026613}, []}|\n",
            "+------------------------------------------------------------------------------------------------------------------------------------------------+\n",
            "\n"
          ]
        }
      ],
      "source": [
        "results.selectExpr(\"explode(ner_chunk)\").show(100, truncate=False)"
      ]
    },
    {
      "cell_type": "code",
      "execution_count": 13,
      "metadata": {
        "colab": {
          "base_uri": "https://localhost:8080/"
        },
        "id": "uzkwbP21ydAK",
        "outputId": "515dc8a9-3476-46c6-b660-83e47bac3ad5"
      },
      "outputs": [
        {
          "output_type": "stream",
          "name": "stdout",
          "text": [
            "+------------------------------------------------+--------------+----------+\n",
            "|                                           chunk|     ner_label|confidence|\n",
            "+------------------------------------------------+--------------+----------+\n",
            "|                                         Majezik|          DRUG|0.64671576|\n",
            "|                                 severe headache|       PROBLEM| 0.5526346|\n",
            "|                                    colon cancer|       PROBLEM| 0.8898498|\n",
            "|                                    27 years old|   PATIENT_AGE| 0.6943085|\n",
            "|                                         Sep 1st|ADMISSION_DATE|0.95646095|\n",
            "|a right-sided pleural effusion for thoracentesis|       PROBLEM|0.50026613|\n",
            "+------------------------------------------------+--------------+----------+\n",
            "\n"
          ]
        }
      ],
      "source": [
        "results.select(F.explode(F.arrays_zip(results.ner_chunk.result,\n",
        "                                      results.ner_chunk.metadata)).alias(\"cols\"))\\\n",
        "       .select(F.expr(\"cols['0']\").alias(\"chunk\"),\n",
        "               F.expr(\"cols['1']['entity']\").alias(\"ner_label\"),\n",
        "               F.expr(\"cols['1']['confidence']\").alias(\"confidence\")).show(50, truncate=100)"
      ]
    },
    {
      "cell_type": "markdown",
      "source": [
        "## LightPipelines"
      ],
      "metadata": {
        "id": "loYjPzwKx5zW"
      }
    },
    {
      "cell_type": "code",
      "execution_count": 14,
      "metadata": {
        "colab": {
          "base_uri": "https://localhost:8080/",
          "height": 198
        },
        "id": "Z5q0BojoAsu3",
        "outputId": "24ca80bd-e7d9-4189-ea04-52256ee71504"
      },
      "outputs": [
        {
          "output_type": "stream",
          "name": "stdout",
          "text": [
            "27 years old patient was admitted to clinic on Sep 1st by Dr. X for a right-sided pleural effusion for thoracentesis. \n",
            "\n"
          ]
        },
        {
          "output_type": "execute_result",
          "data": {
            "text/plain": [
              "                                             chunks  begin  end sentence_id  \\\n",
              "0                                      27 years old      0   11           0   \n",
              "1                                           Sep 1st     47   53           0   \n",
              "2  a right-sided pleural effusion for thoracentesis     68  115           0   \n",
              "\n",
              "         entities  \n",
              "0     PATIENT_AGE  \n",
              "1  ADMISSION_DATE  \n",
              "2         PROBLEM  "
            ],
            "text/html": [
              "\n",
              "  <div id=\"df-940caa8a-d156-460b-804d-607ae0d0f843\">\n",
              "    <div class=\"colab-df-container\">\n",
              "      <div>\n",
              "<style scoped>\n",
              "    .dataframe tbody tr th:only-of-type {\n",
              "        vertical-align: middle;\n",
              "    }\n",
              "\n",
              "    .dataframe tbody tr th {\n",
              "        vertical-align: top;\n",
              "    }\n",
              "\n",
              "    .dataframe thead th {\n",
              "        text-align: right;\n",
              "    }\n",
              "</style>\n",
              "<table border=\"1\" class=\"dataframe\">\n",
              "  <thead>\n",
              "    <tr style=\"text-align: right;\">\n",
              "      <th></th>\n",
              "      <th>chunks</th>\n",
              "      <th>begin</th>\n",
              "      <th>end</th>\n",
              "      <th>sentence_id</th>\n",
              "      <th>entities</th>\n",
              "    </tr>\n",
              "  </thead>\n",
              "  <tbody>\n",
              "    <tr>\n",
              "      <th>0</th>\n",
              "      <td>27 years old</td>\n",
              "      <td>0</td>\n",
              "      <td>11</td>\n",
              "      <td>0</td>\n",
              "      <td>PATIENT_AGE</td>\n",
              "    </tr>\n",
              "    <tr>\n",
              "      <th>1</th>\n",
              "      <td>Sep 1st</td>\n",
              "      <td>47</td>\n",
              "      <td>53</td>\n",
              "      <td>0</td>\n",
              "      <td>ADMISSION_DATE</td>\n",
              "    </tr>\n",
              "    <tr>\n",
              "      <th>2</th>\n",
              "      <td>a right-sided pleural effusion for thoracentesis</td>\n",
              "      <td>68</td>\n",
              "      <td>115</td>\n",
              "      <td>0</td>\n",
              "      <td>PROBLEM</td>\n",
              "    </tr>\n",
              "  </tbody>\n",
              "</table>\n",
              "</div>\n",
              "      <button class=\"colab-df-convert\" onclick=\"convertToInteractive('df-940caa8a-d156-460b-804d-607ae0d0f843')\"\n",
              "              title=\"Convert this dataframe to an interactive table.\"\n",
              "              style=\"display:none;\">\n",
              "        \n",
              "  <svg xmlns=\"http://www.w3.org/2000/svg\" height=\"24px\"viewBox=\"0 0 24 24\"\n",
              "       width=\"24px\">\n",
              "    <path d=\"M0 0h24v24H0V0z\" fill=\"none\"/>\n",
              "    <path d=\"M18.56 5.44l.94 2.06.94-2.06 2.06-.94-2.06-.94-.94-2.06-.94 2.06-2.06.94zm-11 1L8.5 8.5l.94-2.06 2.06-.94-2.06-.94L8.5 2.5l-.94 2.06-2.06.94zm10 10l.94 2.06.94-2.06 2.06-.94-2.06-.94-.94-2.06-.94 2.06-2.06.94z\"/><path d=\"M17.41 7.96l-1.37-1.37c-.4-.4-.92-.59-1.43-.59-.52 0-1.04.2-1.43.59L10.3 9.45l-7.72 7.72c-.78.78-.78 2.05 0 2.83L4 21.41c.39.39.9.59 1.41.59.51 0 1.02-.2 1.41-.59l7.78-7.78 2.81-2.81c.8-.78.8-2.07 0-2.86zM5.41 20L4 18.59l7.72-7.72 1.47 1.35L5.41 20z\"/>\n",
              "  </svg>\n",
              "      </button>\n",
              "      \n",
              "  <style>\n",
              "    .colab-df-container {\n",
              "      display:flex;\n",
              "      flex-wrap:wrap;\n",
              "      gap: 12px;\n",
              "    }\n",
              "\n",
              "    .colab-df-convert {\n",
              "      background-color: #E8F0FE;\n",
              "      border: none;\n",
              "      border-radius: 50%;\n",
              "      cursor: pointer;\n",
              "      display: none;\n",
              "      fill: #1967D2;\n",
              "      height: 32px;\n",
              "      padding: 0 0 0 0;\n",
              "      width: 32px;\n",
              "    }\n",
              "\n",
              "    .colab-df-convert:hover {\n",
              "      background-color: #E2EBFA;\n",
              "      box-shadow: 0px 1px 2px rgba(60, 64, 67, 0.3), 0px 1px 3px 1px rgba(60, 64, 67, 0.15);\n",
              "      fill: #174EA6;\n",
              "    }\n",
              "\n",
              "    [theme=dark] .colab-df-convert {\n",
              "      background-color: #3B4455;\n",
              "      fill: #D2E3FC;\n",
              "    }\n",
              "\n",
              "    [theme=dark] .colab-df-convert:hover {\n",
              "      background-color: #434B5C;\n",
              "      box-shadow: 0px 1px 3px 1px rgba(0, 0, 0, 0.15);\n",
              "      filter: drop-shadow(0px 1px 2px rgba(0, 0, 0, 0.3));\n",
              "      fill: #FFFFFF;\n",
              "    }\n",
              "  </style>\n",
              "\n",
              "      <script>\n",
              "        const buttonEl =\n",
              "          document.querySelector('#df-940caa8a-d156-460b-804d-607ae0d0f843 button.colab-df-convert');\n",
              "        buttonEl.style.display =\n",
              "          google.colab.kernel.accessAllowed ? 'block' : 'none';\n",
              "\n",
              "        async function convertToInteractive(key) {\n",
              "          const element = document.querySelector('#df-940caa8a-d156-460b-804d-607ae0d0f843');\n",
              "          const dataTable =\n",
              "            await google.colab.kernel.invokeFunction('convertToInteractive',\n",
              "                                                     [key], {});\n",
              "          if (!dataTable) return;\n",
              "\n",
              "          const docLinkHtml = 'Like what you see? Visit the ' +\n",
              "            '<a target=\"_blank\" href=https://colab.research.google.com/notebooks/data_table.ipynb>data table notebook</a>'\n",
              "            + ' to learn more about interactive tables.';\n",
              "          element.innerHTML = '';\n",
              "          dataTable['output_type'] = 'display_data';\n",
              "          await google.colab.output.renderOutput(dataTable, element);\n",
              "          const docLink = document.createElement('div');\n",
              "          docLink.innerHTML = docLinkHtml;\n",
              "          element.appendChild(docLink);\n",
              "        }\n",
              "      </script>\n",
              "    </div>\n",
              "  </div>\n",
              "  "
            ]
          },
          "metadata": {},
          "execution_count": 14
        }
      ],
      "source": [
        "# fullAnnotate in LightPipeline\n",
        "print (text_list[-1], \"\\n\")\n",
        "\n",
        "light_model = LightPipeline(zero_shot_ner_model)\n",
        "light_result = light_model.fullAnnotate(text_list[-1])\n",
        "\n",
        "chunks = []\n",
        "entities = []\n",
        "sentence= []\n",
        "begin = []\n",
        "end = []\n",
        "\n",
        "for n in light_result[0]['ner_chunk']:\n",
        "        \n",
        "    begin.append(n.begin)\n",
        "    end.append(n.end)\n",
        "    chunks.append(n.result)\n",
        "    entities.append(n.metadata['entity']) \n",
        "    sentence.append(n.metadata['sentence'])\n",
        "    \n",
        "    \n",
        "\n",
        "df_clinical = pd.DataFrame({'chunks':chunks, 'begin': begin, 'end':end, \n",
        "                   'sentence_id':sentence, 'entities':entities})\n",
        "\n",
        "df_clinical.head(20)"
      ]
    },
    {
      "cell_type": "code",
      "execution_count": 15,
      "metadata": {
        "colab": {
          "base_uri": "https://localhost:8080/"
        },
        "id": "-r7yfZitmbPT",
        "outputId": "97daa8f2-b8dd-4222-e237-2727c72bc68d"
      },
      "outputs": [
        {
          "output_type": "execute_result",
          "data": {
            "text/plain": [
              "{'zero_shot_ner': [Annotation(named_entity, 0, 1, B-PATIENT_AGE, {'sentence': '0', 'word': '27', 'confidence': '0.6943085', 'question': 'How old is the patient?'}),\n",
              "  Annotation(named_entity, 3, 7, I-PATIENT_AGE, {'sentence': '0', 'word': 'years', 'confidence': '0.6943085', 'question': 'How old is the patient?'}),\n",
              "  Annotation(named_entity, 9, 11, I-PATIENT_AGE, {'sentence': '0', 'word': 'old', 'confidence': '0.6943085', 'question': 'How old is the patient?'}),\n",
              "  Annotation(named_entity, 13, 19, O, {'sentence': '0', 'word': 'patient'}),\n",
              "  Annotation(named_entity, 21, 23, O, {'sentence': '0', 'word': 'was'}),\n",
              "  Annotation(named_entity, 25, 32, O, {'sentence': '0', 'word': 'admitted'}),\n",
              "  Annotation(named_entity, 34, 35, O, {'sentence': '0', 'word': 'to'}),\n",
              "  Annotation(named_entity, 37, 42, O, {'sentence': '0', 'word': 'clinic'}),\n",
              "  Annotation(named_entity, 44, 45, O, {'sentence': '0', 'word': 'on'}),\n",
              "  Annotation(named_entity, 47, 49, B-ADMISSION_DATE, {'sentence': '0', 'word': 'Sep', 'confidence': '0.95646095', 'question': 'When did patient admitted to a clinic?'}),\n",
              "  Annotation(named_entity, 51, 53, I-ADMISSION_DATE, {'sentence': '0', 'word': '1st', 'confidence': '0.95646095', 'question': 'When did patient admitted to a clinic?'}),\n",
              "  Annotation(named_entity, 55, 56, O, {'sentence': '0', 'word': 'by'}),\n",
              "  Annotation(named_entity, 58, 59, O, {'sentence': '0', 'word': 'Dr'}),\n",
              "  Annotation(named_entity, 60, 60, O, {'sentence': '0', 'word': '.'}),\n",
              "  Annotation(named_entity, 62, 62, O, {'sentence': '0', 'word': 'X'}),\n",
              "  Annotation(named_entity, 64, 66, O, {'sentence': '0', 'word': 'for'}),\n",
              "  Annotation(named_entity, 68, 68, B-PROBLEM, {'sentence': '0', 'word': 'a', 'confidence': '0.50026613', 'question': 'What was the reason that the patient is admitted to the clinic?'}),\n",
              "  Annotation(named_entity, 70, 80, I-PROBLEM, {'sentence': '0', 'word': 'right-sided', 'confidence': '0.50026613', 'question': 'What was the reason that the patient is admitted to the clinic?'}),\n",
              "  Annotation(named_entity, 82, 88, I-PROBLEM, {'sentence': '0', 'word': 'pleural', 'confidence': '0.50026613', 'question': 'What was the reason that the patient is admitted to the clinic?'}),\n",
              "  Annotation(named_entity, 90, 97, I-PROBLEM, {'sentence': '0', 'word': 'effusion', 'confidence': '0.50026613', 'question': 'What was the reason that the patient is admitted to the clinic?'}),\n",
              "  Annotation(named_entity, 99, 101, I-PROBLEM, {'sentence': '0', 'word': 'for', 'confidence': '0.50026613', 'question': 'What was the reason that the patient is admitted to the clinic?'}),\n",
              "  Annotation(named_entity, 103, 115, I-PROBLEM, {'sentence': '0', 'word': 'thoracentesis', 'confidence': '0.50026613', 'question': 'What was the reason that the patient is admitted to the clinic?'}),\n",
              "  Annotation(named_entity, 116, 116, O, {'sentence': '0', 'word': '.'})],\n",
              " 'document': [Annotation(document, 0, 116, 27 years old patient was admitted to clinic on Sep 1st by Dr. X for a right-sided pleural effusion for thoracentesis., {})],\n",
              " 'ner_chunk': [Annotation(chunk, 0, 11, 27 years old, {'entity': 'PATIENT_AGE', 'sentence': '0', 'chunk': '0', 'confidence': '0.6943085'}),\n",
              "  Annotation(chunk, 47, 53, Sep 1st, {'entity': 'ADMISSION_DATE', 'sentence': '0', 'chunk': '1', 'confidence': '0.95646095'}),\n",
              "  Annotation(chunk, 68, 115, a right-sided pleural effusion for thoracentesis, {'entity': 'PROBLEM', 'sentence': '0', 'chunk': '2', 'confidence': '0.50026613'})],\n",
              " 'token': [Annotation(token, 0, 1, 27, {'sentence': '0'}),\n",
              "  Annotation(token, 3, 7, years, {'sentence': '0'}),\n",
              "  Annotation(token, 9, 11, old, {'sentence': '0'}),\n",
              "  Annotation(token, 13, 19, patient, {'sentence': '0'}),\n",
              "  Annotation(token, 21, 23, was, {'sentence': '0'}),\n",
              "  Annotation(token, 25, 32, admitted, {'sentence': '0'}),\n",
              "  Annotation(token, 34, 35, to, {'sentence': '0'}),\n",
              "  Annotation(token, 37, 42, clinic, {'sentence': '0'}),\n",
              "  Annotation(token, 44, 45, on, {'sentence': '0'}),\n",
              "  Annotation(token, 47, 49, Sep, {'sentence': '0'}),\n",
              "  Annotation(token, 51, 53, 1st, {'sentence': '0'}),\n",
              "  Annotation(token, 55, 56, by, {'sentence': '0'}),\n",
              "  Annotation(token, 58, 59, Dr, {'sentence': '0'}),\n",
              "  Annotation(token, 60, 60, ., {'sentence': '0'}),\n",
              "  Annotation(token, 62, 62, X, {'sentence': '0'}),\n",
              "  Annotation(token, 64, 66, for, {'sentence': '0'}),\n",
              "  Annotation(token, 68, 68, a, {'sentence': '0'}),\n",
              "  Annotation(token, 70, 80, right-sided, {'sentence': '0'}),\n",
              "  Annotation(token, 82, 88, pleural, {'sentence': '0'}),\n",
              "  Annotation(token, 90, 97, effusion, {'sentence': '0'}),\n",
              "  Annotation(token, 99, 101, for, {'sentence': '0'}),\n",
              "  Annotation(token, 103, 115, thoracentesis, {'sentence': '0'}),\n",
              "  Annotation(token, 116, 116, ., {'sentence': '0'})],\n",
              " 'sentence': [Annotation(document, 0, 116, 27 years old patient was admitted to clinic on Sep 1st by Dr. X for a right-sided pleural effusion for thoracentesis., {'sentence': '0'})]}"
            ]
          },
          "metadata": {},
          "execution_count": 15
        }
      ],
      "source": [
        "light_result[0]"
      ]
    },
    {
      "cell_type": "markdown",
      "source": [
        "### NER Visualizer\n",
        "\n",
        "For saving the visualization result as html, provide `save_path` parameter in the display function."
      ],
      "metadata": {
        "id": "iQ1KUzkryBvz"
      }
    },
    {
      "cell_type": "code",
      "execution_count": 16,
      "metadata": {
        "colab": {
          "base_uri": "https://localhost:8080/",
          "height": 301
        },
        "id": "Jh1zoknFybBO",
        "outputId": "d076106a-ab27-4054-e2f2-e0a72c553249"
      },
      "outputs": [
        {
          "output_type": "display_data",
          "data": {
            "text/plain": [
              "<IPython.core.display.HTML object>"
            ],
            "text/html": [
              "\n",
              "<style>\n",
              "    @import url('https://fonts.googleapis.com/css2?family=Montserrat:wght@300;400;500;600;700&display=swap');\n",
              "    @import url('https://fonts.googleapis.com/css2?family=Vistol Regular:wght@300;400;500;600;700&display=swap');\n",
              "    \n",
              "    .spark-nlp-display-scroll-entities {\n",
              "        border: 1px solid #E7EDF0;\n",
              "        border-radius: 3px;\n",
              "        text-align: justify;\n",
              "        \n",
              "    }\n",
              "    .spark-nlp-display-scroll-entities span {  \n",
              "        font-size: 14px;\n",
              "        line-height: 24px;\n",
              "        color: #536B76;\n",
              "        font-family: 'Montserrat', sans-serif !important;\n",
              "    }\n",
              "    \n",
              "    .spark-nlp-display-entity-wrapper{\n",
              "    \n",
              "        display: inline-grid;\n",
              "        text-align: center;\n",
              "        border-radius: 4px;\n",
              "        margin: 0 2px 5px 2px;\n",
              "        padding: 1px\n",
              "    }\n",
              "    .spark-nlp-display-entity-name{\n",
              "        font-size: 14px;\n",
              "        line-height: 24px;\n",
              "        font-family: 'Montserrat', sans-serif !important;\n",
              "        \n",
              "        background: #f1f2f3;\n",
              "        border-width: medium;\n",
              "        text-align: center;\n",
              "        \n",
              "        font-weight: 400;\n",
              "        \n",
              "        border-radius: 5px;\n",
              "        padding: 2px 5px;\n",
              "        display: block;\n",
              "        margin: 3px 2px;\n",
              "    \n",
              "    }\n",
              "    .spark-nlp-display-entity-type{\n",
              "        font-size: 14px;\n",
              "        line-height: 24px;\n",
              "        color: #ffffff;\n",
              "        font-family: 'Montserrat', sans-serif !important;\n",
              "        \n",
              "        text-transform: uppercase;\n",
              "        \n",
              "        font-weight: 500;\n",
              "\n",
              "        display: block;\n",
              "        padding: 3px 5px;\n",
              "    }\n",
              "    \n",
              "    .spark-nlp-display-entity-resolution{\n",
              "        font-size: 14px;\n",
              "        line-height: 24px;\n",
              "        color: #ffffff;\n",
              "        font-family: 'Vistol Regular', sans-serif !important;\n",
              "        \n",
              "        text-transform: uppercase;\n",
              "        \n",
              "        font-weight: 500;\n",
              "\n",
              "        display: block;\n",
              "        padding: 3px 5px;\n",
              "    }\n",
              "    \n",
              "    .spark-nlp-display-others{\n",
              "        font-size: 14px;\n",
              "        line-height: 24px;\n",
              "        font-family: 'Montserrat', sans-serif !important;\n",
              "        \n",
              "        font-weight: 400;\n",
              "    }\n",
              "\n",
              "</style>\n",
              " <span class=\"spark-nlp-display-others\" style=\"background-color: white\">The doctor pescribed </span><span class=\"spark-nlp-display-entity-wrapper\" style=\"background-color: #8B668B\"><span class=\"spark-nlp-display-entity-name\">Majezik </span><span class=\"spark-nlp-display-entity-type\">DRUG</span></span><span class=\"spark-nlp-display-others\" style=\"background-color: white\"> for my </span><span class=\"spark-nlp-display-entity-wrapper\" style=\"background-color: #800080\"><span class=\"spark-nlp-display-entity-name\">severe headache </span><span class=\"spark-nlp-display-entity-type\">PROBLEM</span></span><span class=\"spark-nlp-display-others\" style=\"background-color: white\">.</span></div>"
            ]
          },
          "metadata": {}
        },
        {
          "output_type": "display_data",
          "data": {
            "text/plain": [
              "<IPython.core.display.HTML object>"
            ],
            "text/html": [
              "\n",
              "<style>\n",
              "    @import url('https://fonts.googleapis.com/css2?family=Montserrat:wght@300;400;500;600;700&display=swap');\n",
              "    @import url('https://fonts.googleapis.com/css2?family=Vistol Regular:wght@300;400;500;600;700&display=swap');\n",
              "    \n",
              "    .spark-nlp-display-scroll-entities {\n",
              "        border: 1px solid #E7EDF0;\n",
              "        border-radius: 3px;\n",
              "        text-align: justify;\n",
              "        \n",
              "    }\n",
              "    .spark-nlp-display-scroll-entities span {  \n",
              "        font-size: 14px;\n",
              "        line-height: 24px;\n",
              "        color: #536B76;\n",
              "        font-family: 'Montserrat', sans-serif !important;\n",
              "    }\n",
              "    \n",
              "    .spark-nlp-display-entity-wrapper{\n",
              "    \n",
              "        display: inline-grid;\n",
              "        text-align: center;\n",
              "        border-radius: 4px;\n",
              "        margin: 0 2px 5px 2px;\n",
              "        padding: 1px\n",
              "    }\n",
              "    .spark-nlp-display-entity-name{\n",
              "        font-size: 14px;\n",
              "        line-height: 24px;\n",
              "        font-family: 'Montserrat', sans-serif !important;\n",
              "        \n",
              "        background: #f1f2f3;\n",
              "        border-width: medium;\n",
              "        text-align: center;\n",
              "        \n",
              "        font-weight: 400;\n",
              "        \n",
              "        border-radius: 5px;\n",
              "        padding: 2px 5px;\n",
              "        display: block;\n",
              "        margin: 3px 2px;\n",
              "    \n",
              "    }\n",
              "    .spark-nlp-display-entity-type{\n",
              "        font-size: 14px;\n",
              "        line-height: 24px;\n",
              "        color: #ffffff;\n",
              "        font-family: 'Montserrat', sans-serif !important;\n",
              "        \n",
              "        text-transform: uppercase;\n",
              "        \n",
              "        font-weight: 500;\n",
              "\n",
              "        display: block;\n",
              "        padding: 3px 5px;\n",
              "    }\n",
              "    \n",
              "    .spark-nlp-display-entity-resolution{\n",
              "        font-size: 14px;\n",
              "        line-height: 24px;\n",
              "        color: #ffffff;\n",
              "        font-family: 'Vistol Regular', sans-serif !important;\n",
              "        \n",
              "        text-transform: uppercase;\n",
              "        \n",
              "        font-weight: 500;\n",
              "\n",
              "        display: block;\n",
              "        padding: 3px 5px;\n",
              "    }\n",
              "    \n",
              "    .spark-nlp-display-others{\n",
              "        font-size: 14px;\n",
              "        line-height: 24px;\n",
              "        font-family: 'Montserrat', sans-serif !important;\n",
              "        \n",
              "        font-weight: 400;\n",
              "    }\n",
              "\n",
              "</style>\n",
              " <span class=\"spark-nlp-display-others\" style=\"background-color: white\">The patient was admitted to the hospital for his </span><span class=\"spark-nlp-display-entity-wrapper\" style=\"background-color: #800080\"><span class=\"spark-nlp-display-entity-name\">colon cancer </span><span class=\"spark-nlp-display-entity-type\">PROBLEM</span></span><span class=\"spark-nlp-display-others\" style=\"background-color: white\">.</span></div>"
            ]
          },
          "metadata": {}
        },
        {
          "output_type": "display_data",
          "data": {
            "text/plain": [
              "<IPython.core.display.HTML object>"
            ],
            "text/html": [
              "\n",
              "<style>\n",
              "    @import url('https://fonts.googleapis.com/css2?family=Montserrat:wght@300;400;500;600;700&display=swap');\n",
              "    @import url('https://fonts.googleapis.com/css2?family=Vistol Regular:wght@300;400;500;600;700&display=swap');\n",
              "    \n",
              "    .spark-nlp-display-scroll-entities {\n",
              "        border: 1px solid #E7EDF0;\n",
              "        border-radius: 3px;\n",
              "        text-align: justify;\n",
              "        \n",
              "    }\n",
              "    .spark-nlp-display-scroll-entities span {  \n",
              "        font-size: 14px;\n",
              "        line-height: 24px;\n",
              "        color: #536B76;\n",
              "        font-family: 'Montserrat', sans-serif !important;\n",
              "    }\n",
              "    \n",
              "    .spark-nlp-display-entity-wrapper{\n",
              "    \n",
              "        display: inline-grid;\n",
              "        text-align: center;\n",
              "        border-radius: 4px;\n",
              "        margin: 0 2px 5px 2px;\n",
              "        padding: 1px\n",
              "    }\n",
              "    .spark-nlp-display-entity-name{\n",
              "        font-size: 14px;\n",
              "        line-height: 24px;\n",
              "        font-family: 'Montserrat', sans-serif !important;\n",
              "        \n",
              "        background: #f1f2f3;\n",
              "        border-width: medium;\n",
              "        text-align: center;\n",
              "        \n",
              "        font-weight: 400;\n",
              "        \n",
              "        border-radius: 5px;\n",
              "        padding: 2px 5px;\n",
              "        display: block;\n",
              "        margin: 3px 2px;\n",
              "    \n",
              "    }\n",
              "    .spark-nlp-display-entity-type{\n",
              "        font-size: 14px;\n",
              "        line-height: 24px;\n",
              "        color: #ffffff;\n",
              "        font-family: 'Montserrat', sans-serif !important;\n",
              "        \n",
              "        text-transform: uppercase;\n",
              "        \n",
              "        font-weight: 500;\n",
              "\n",
              "        display: block;\n",
              "        padding: 3px 5px;\n",
              "    }\n",
              "    \n",
              "    .spark-nlp-display-entity-resolution{\n",
              "        font-size: 14px;\n",
              "        line-height: 24px;\n",
              "        color: #ffffff;\n",
              "        font-family: 'Vistol Regular', sans-serif !important;\n",
              "        \n",
              "        text-transform: uppercase;\n",
              "        \n",
              "        font-weight: 500;\n",
              "\n",
              "        display: block;\n",
              "        padding: 3px 5px;\n",
              "    }\n",
              "    \n",
              "    .spark-nlp-display-others{\n",
              "        font-size: 14px;\n",
              "        line-height: 24px;\n",
              "        font-family: 'Montserrat', sans-serif !important;\n",
              "        \n",
              "        font-weight: 400;\n",
              "    }\n",
              "\n",
              "</style>\n",
              " <span class=\"spark-nlp-display-entity-wrapper\" style=\"background-color: #612F83\"><span class=\"spark-nlp-display-entity-name\">27 years old </span><span class=\"spark-nlp-display-entity-type\">PATIENT_AGE</span></span><span class=\"spark-nlp-display-others\" style=\"background-color: white\"> patient was admitted to clinic on </span><span class=\"spark-nlp-display-entity-wrapper\" style=\"background-color: #8F4FBB\"><span class=\"spark-nlp-display-entity-name\">Sep 1st </span><span class=\"spark-nlp-display-entity-type\">ADMISSION_DATE</span></span><span class=\"spark-nlp-display-others\" style=\"background-color: white\"> by Dr. X for </span><span class=\"spark-nlp-display-entity-wrapper\" style=\"background-color: #800080\"><span class=\"spark-nlp-display-entity-name\">a right-sided pleural effusion for thoracentesis </span><span class=\"spark-nlp-display-entity-type\">PROBLEM</span></span><span class=\"spark-nlp-display-others\" style=\"background-color: white\">.</span></div>"
            ]
          },
          "metadata": {}
        }
      ],
      "source": [
        "from sparknlp_display import NerVisualizer\n",
        "\n",
        "visualiser = NerVisualizer()\n",
        "\n",
        "for i in text_list:\n",
        "\n",
        "    light_result = light_model.fullAnnotate(i)\n",
        "    visualiser.display(light_result[0], label_col='ner_chunk', document_col='document')\n",
        "\n",
        "    # Change color of an entity label\n",
        "    # visualiser.set_label_colors({'PROBLEM':'#008080', 'DRUG':'#800080', 'PATIENT_AGE':'#808080'})\n",
        "    # visualiser.display(light_result[0], label_col='ner_chunk')\n",
        "\n",
        "\n",
        "    # Set label filter\n",
        "    # visualiser.display(light_result[0], label_col='ner_chunk', document_col='document',labels=['PROBLEM'])"
      ]
    },
    {
      "cell_type": "markdown",
      "source": [
        "# Save the Model and Load from Disc\n",
        "\n",
        "Now we will save the Zero-Shot NER model and then we will be able to use this model without definitions. So our model will have the same labels that we defined before. "
      ],
      "metadata": {
        "id": "v4usFfBpim8c"
      }
    },
    {
      "cell_type": "code",
      "source": [
        "# save model\n",
        "\n",
        "zero_shot_ner.write().overwrite().save(\"zero_shot_ner_model\")"
      ],
      "metadata": {
        "id": "aPxRlyrxjFEr"
      },
      "execution_count": 17,
      "outputs": []
    },
    {
      "cell_type": "code",
      "source": [
        "# load from disc and create a new pipeline\n",
        "\n",
        "zero_shot_ner_local = ZeroShotNerModel.load(\"zero_shot_ner_model\")\\\n",
        "    .setInputCols([\"sentence\", \"token\"])\\\n",
        "    .setOutputCol(\"zero_shot_ner\")\n",
        "\n",
        "ner_converter_local = sparknlp.annotators.NerConverter()\\\n",
        "    .setInputCols([\"sentence\", \"token\", \"zero_shot_ner\"])\\\n",
        "    .setOutputCol(\"ner_chunk\")\\\n",
        "\n",
        "pipeline_local = Pipeline(stages = [\n",
        "    documentAssembler, \n",
        "    sentenceDetector, \n",
        "    tokenizer, \n",
        "    zero_shot_ner_local, \n",
        "    ner_converter_local])\n",
        "\n",
        "zero_shot_ner_model_local = pipeline_local.fit(spark.createDataFrame([[\"\"]]).toDF(\"text\"))"
      ],
      "metadata": {
        "id": "m7bUl8gHjTR9"
      },
      "execution_count": 18,
      "outputs": []
    },
    {
      "cell_type": "code",
      "source": [
        "# check the results\n",
        "\n",
        "local_results = zero_shot_ner_model_local.transform(data)\n",
        "\n",
        "local_results.select(F.explode(F.arrays_zip(local_results.ner_chunk.result,\n",
        "                                            local_results.ner_chunk.metadata)).alias(\"cols\"))\\\n",
        "             .select(F.expr(\"cols['0']\").alias(\"chunk\"),\n",
        "                     F.expr(\"cols['1']['entity']\").alias(\"ner_label\"),\n",
        "                     F.expr(\"cols['1']['confidence']\").alias(\"confidence\")).show(50, truncate=100)"
      ],
      "metadata": {
        "colab": {
          "base_uri": "https://localhost:8080/"
        },
        "id": "Y37SgXCUj05u",
        "outputId": "70875c0f-8fe6-48ac-8223-fe4f83a45c7b"
      },
      "execution_count": 19,
      "outputs": [
        {
          "output_type": "stream",
          "name": "stdout",
          "text": [
            "+------------------------------------------------+--------------+----------+\n",
            "|                                           chunk|     ner_label|confidence|\n",
            "+------------------------------------------------+--------------+----------+\n",
            "|                                         Majezik|          DRUG|0.64671576|\n",
            "|                                 severe headache|       PROBLEM| 0.5526346|\n",
            "|                                    colon cancer|       PROBLEM| 0.8898498|\n",
            "|                                    27 years old|   PATIENT_AGE| 0.6943085|\n",
            "|                                         Sep 1st|ADMISSION_DATE|0.95646095|\n",
            "|a right-sided pleural effusion for thoracentesis|       PROBLEM|0.50026613|\n",
            "+------------------------------------------------+--------------+----------+\n",
            "\n"
          ]
        }
      ]
    },
    {
      "cell_type": "markdown",
      "source": [
        "# NER Question Generator\n",
        "\n",
        "`NerQuestionGenerator` annotator helps you build questions on the fly using 2 entities from different labels (preferably a subject and a verb). For example, let's suppose you have an NER model, able to detect `PATIENT`and `ADMISSION` in the following text:\n",
        "\n",
        "`John Smith was admitted Sep 3rd to Mayo Clinic`\n",
        "- PATIENT: `John Smith`\n",
        "- ADMISSION: `was admitted`\n",
        "\n",
        "You can add the following annotator to construct questions using PATIENT and ADMISSION:\n",
        "\n",
        "```python\n",
        "# setEntities1 says which entity from NER goes first in the question\n",
        "# setEntities2 says which entity from NER goes second in the question\n",
        "# setQuestionMark to True adds a '?' at the end of the sentence (after entity 2)\n",
        "# To sum up, the pattern is     [QUESTIONPRONOUN] [ENTITY1] [ENTITY2] [QUESTIONMARK]\n",
        "\n",
        "qagenerator = NerQuestionGenerator()\\\n",
        "  .setInputCols([\"ner_chunk\"])\\\n",
        "  .setOutputCol(\"question\")\\\n",
        "  .setQuestionMark(True)\\\n",
        "  .setQuestionPronoun(\"When\")\\\n",
        "  .setStrategyType(\"Paired\")\\\n",
        "  .setEntities1([\"PATIENT\"])\\\n",
        "  .setEntities2([\"ADMISSION\"])\n",
        "```\n",
        "In the column `question` you will find: `When John Smith was admitted?`. Likewise you could have `Where` or any other question pronoun you may need.\n",
        "\n",
        "You can use those questions in a QuestionAnsweringModel or ZeroShotNER (any model which requires a question as an input. Let's see the case of QA.\n",
        "\n",
        "```python\n",
        "qa = BertForQuestionAnswering.pretrained(\"bert_qa_spanbert_finetuned_squadv1\",\"en\") \\\n",
        "  .setInputCols([\"question\", \"document\"]) \\\n",
        "  .setOutputCol(\"answer\") \\\n",
        "  .setCaseSensitive(True)\n",
        "```\n",
        "The result will be:\n",
        "\n",
        "```bash\n",
        "+--------------------------------------------------------+-----------------------------+\n",
        "|question                                                |answer                       |\n",
        "+--------------------------------------------------------+-----------------------------+\n",
        "|[{document, 0, 25, When John Smith was admitted ? ...}] |[{chunk, 0, 8, Sep 3rd ...}] |\n",
        "+--------------------------------------------------------+-----------------------------+\n",
        "```\n",
        "Strategies:\n",
        "- Paired: First chunk of Entity 1 will be grouped with first chunk of Entity 2, second with second, third with third, etc (one-vs-one)\n",
        "- Combined: A more flexible strategy to be used in case the number of chukns in Entity 1 is not aligned with the number of chunks in Entityt 2. The first chunk from Entity 1 will be grouped with all chunks in Entity 2, the second chunk in Entity 1 with again be grouped with all the chunks in Entity 2, etc (one-vs-all)."
      ],
      "metadata": {
        "id": "-NLzSek7RKwQ"
      }
    },
    {
      "cell_type": "code",
      "source": [],
      "metadata": {
        "id": "ooiYX8wuRLTX"
      },
      "execution_count": null,
      "outputs": []
    }
  ],
  "metadata": {
    "colab": {
      "collapsed_sections": [],
      "provenance": [],
      "machine_shape": "hm"
    },
    "kernelspec": {
      "display_name": "Python 3 (ipykernel)",
      "language": "python",
      "name": "python3"
    },
    "language_info": {
      "codemirror_mode": {
        "name": "ipython",
        "version": 3
      },
      "file_extension": ".py",
      "mimetype": "text/x-python",
      "name": "python",
      "nbconvert_exporter": "python",
      "pygments_lexer": "ipython3",
      "version": "3.9.1"
    }
  },
  "nbformat": 4,
  "nbformat_minor": 0
}
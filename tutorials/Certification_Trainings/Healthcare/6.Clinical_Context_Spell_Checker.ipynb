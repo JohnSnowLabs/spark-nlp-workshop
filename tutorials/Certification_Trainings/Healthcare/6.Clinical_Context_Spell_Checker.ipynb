{
 "cells": [
  {
   "cell_type": "markdown",
   "metadata": {},
   "source": [
    "![JohnSnowLabs](https://nlp.johnsnowlabs.com/assets/images/logo.png)"
   ]
  },
  {
   "cell_type": "markdown",
   "metadata": {},
   "source": [
    "[![Open In Colab](https://colab.research.google.com/assets/colab-badge.svg)](https://colab.research.google.com/github/JohnSnowLabs/spark-nlp-workshop/blob/master/tutorials/Certification_Trainings/Healthcare/6.Clinical_Context_Spell_Checker.ipynb)"
   ]
  },
  {
   "cell_type": "markdown",
   "metadata": {},
   "source": [
    "<H1> Context Spell Checker - Medical </H1>\n"
   ]
  },
  {
   "cell_type": "code",
   "execution_count": 1,
   "metadata": {},
   "outputs": [],
   "source": [
    "import json\n",
    "\n",
    "with open('workshop_license_keys_Aug2020.json') as f:\n",
    "    license_keys = json.load(f)\n",
    "\n",
    "license_keys.keys()\n"
   ]
  },
  {
   "cell_type": "code",
   "execution_count": null,
   "metadata": {},
   "outputs": [],
   "source": [
    "license_keys['JSL_VERSION']"
   ]
  },
  {
   "cell_type": "code",
   "execution_count": null,
   "metadata": {},
   "outputs": [],
   "source": [
    "import os\n",
    "\n",
    "# Install java\n",
    "! apt-get install -y openjdk-8-jdk-headless -qq > /dev/null\n",
    "os.environ[\"JAVA_HOME\"] = \"/usr/lib/jvm/java-8-openjdk-amd64\"\n",
    "os.environ[\"PATH\"] = os.environ[\"JAVA_HOME\"] + \"/bin:\" + os.environ[\"PATH\"]\n",
    "! java -version\n",
    "\n",
    "secret = license_keys['SECRET']\n",
    "\n",
    "os.environ['SPARK_NLP_LICENSE'] = license_keys['SPARK_NLP_LICENSE']\n",
    "os.environ['SPARK_OCR_LICENSE'] = license_keys['SPARK_OCR_LICENSE']\n",
    "os.environ['AWS_ACCESS_KEY_ID']= license_keys['AWS_ACCESS_KEY_ID']\n",
    "os.environ['AWS_SECRET_ACCESS_KEY'] = license_keys['AWS_SECRET_ACCESS_KEY']\n",
    "jsl_version = license_keys['JSL_VERSION']\n",
    "version = license_keys['PUBLIC_VERSION']\n",
    "\n",
    "! pip install --ignore-installed -q pyspark==2.4.4\n",
    "\n",
    "! python -m pip install --upgrade spark-nlp-jsl==$jsl_version  --extra-index-url https://pypi.johnsnowlabs.com/$secret\n",
    "\n",
    "! pip install --ignore-installed -q spark-nlp==$version\n",
    "\n",
    "import sparknlp\n",
    "\n",
    "print (sparknlp.version())\n",
    "\n",
    "import json\n",
    "import os\n",
    "from pyspark.ml import Pipeline\n",
    "from pyspark.sql import SparkSession\n",
    "\n",
    "\n",
    "from sparknlp.annotator import *\n",
    "from sparknlp_jsl.annotator import *\n",
    "from sparknlp.base import *\n",
    "import sparknlp_jsl\n",
    "\n",
    "spark = sparknlp_jsl.start(secret)"
   ]
  },
  {
   "cell_type": "code",
   "execution_count": 3,
   "metadata": {
    "scrolled": true
   },
   "outputs": [
    {
     "name": "stdout",
     "output_type": "stream",
     "text": [
      "com.johnsnowlabs.nlp.DocumentAssembler\n",
      "com.johnsnowlabs.nlp.annotators.RecursiveTokenizer\n",
      "spellcheck_clinical download started this may take some time.\n",
      "com.johnsnowlabs.nlp.pretrained.PythonResourceDownloader.getDownloadSize\n",
      "Approximate size to download 145 MB\n",
      "[ | ]com.johnsnowlabs.nlp.pretrained.PythonResourceDownloader.downloadModel\n",
      "[OK!]\n"
     ]
    }
   ],
   "source": [
    "documentAssembler = DocumentAssembler()\\\n",
    "  .setInputCol(\"text\")\\\n",
    "  .setOutputCol(\"document\")\n",
    "\n",
    "tokenizer = RecursiveTokenizer()\\\n",
    "  .setInputCols([\"document\"])\\\n",
    "  .setOutputCol(\"token\")\\\n",
    "  .setPrefixes([\"\\\"\", \"(\", \"[\", \"\\n\"])\\\n",
    "  .setSuffixes([\".\", \",\", \"?\", \")\",\"!\", \"'s\"])\n",
    "\n",
    "spellModel = ContextSpellCheckerModel\\\n",
    "    .pretrained('spellcheck_clinical', 'en', 'clinical/models')\\\n",
    "    .setInputCols(\"token\")\\\n",
    "    .setOutputCol(\"checked\")"
   ]
  },
  {
   "cell_type": "code",
   "execution_count": 4,
   "metadata": {
    "scrolled": true
   },
   "outputs": [
    {
     "name": "stdout",
     "output_type": "stream",
     "text": [
      "com.johnsnowlabs.nlp.Finisher\n",
      "org.apache.spark.ml.PipelineModel\n",
      "com.johnsnowlabs.nlp.LightPipeline\n"
     ]
    }
   ],
   "source": [
    "finisher = Finisher()\\\n",
    "    .setInputCols(\"checked\")\n",
    "\n",
    "pipeline = Pipeline(\n",
    "    stages = [\n",
    "    documentAssembler,\n",
    "    tokenizer,\n",
    "    spellModel,\n",
    "    finisher\n",
    "  ])\n",
    "\n",
    "empty_ds = spark.createDataFrame([[\"\"]]).toDF(\"text\")\n",
    "lp = LightPipeline(pipeline.fit(empty_ds))"
   ]
  },
  {
   "cell_type": "markdown",
   "metadata": {},
   "source": [
    "Ok!, at this point we have our spell checking pipeline as expected. Let's see what we can do with it, see these errors,\n",
    "\n",
    "_\n",
    "__Witth__ the __hell__ of __phisical__ __terapy__ the patient was __imbulated__ and on posoperative, the __impatient__ tolerating a post __curgical__ soft diet._\n",
    "\n",
    "_With __paint__ __wel__ controlled on __orall__ pain medications, she was discharged __too__ __reihabilitation__ __facilitay__._\n",
    "\n",
    "_She is to also call the __ofice__ if she has any __ever__ greater than 101, or __leeding__ __form__ the surgical wounds._\n",
    "\n",
    "_Abdomen is __sort__, nontender, and __nonintended__._\n",
    "\n",
    "_Patient not showing pain or any __wealth__ problems._\n",
    "            \n",
    "_No __cute__ distress_\n",
    "\n",
    "Check that some of the errors are valid English words, only by considering the context the right choice can be made."
   ]
  },
  {
   "cell_type": "code",
   "execution_count": 5,
   "metadata": {},
   "outputs": [
    {
     "data": {
      "text/plain": [
       "[{'checked': ['With',\n",
       "   'the',\n",
       "   'help',\n",
       "   'of',\n",
       "   'physical',\n",
       "   'therapy',\n",
       "   'the',\n",
       "   'patient',\n",
       "   'was',\n",
       "   'ambulated',\n",
       "   'and',\n",
       "   'on',\n",
       "   'postoperative',\n",
       "   ',',\n",
       "   'the',\n",
       "   'patient',\n",
       "   'tolerating',\n",
       "   'a',\n",
       "   'post',\n",
       "   'surgical',\n",
       "   'soft',\n",
       "   'diet',\n",
       "   '.']},\n",
       " {'checked': ['With',\n",
       "   'pain',\n",
       "   'well',\n",
       "   'controlled',\n",
       "   'on',\n",
       "   'oral',\n",
       "   'pain',\n",
       "   'medications',\n",
       "   ',',\n",
       "   'she',\n",
       "   'was',\n",
       "   'discharged',\n",
       "   'to',\n",
       "   'rehabilitation',\n",
       "   'facility',\n",
       "   '.']},\n",
       " {'checked': ['She',\n",
       "   'is',\n",
       "   'to',\n",
       "   'also',\n",
       "   'call',\n",
       "   'the',\n",
       "   'office',\n",
       "   'if',\n",
       "   'she',\n",
       "   'has',\n",
       "   'any',\n",
       "   'fever',\n",
       "   'greater',\n",
       "   'than',\n",
       "   '101',\n",
       "   ',',\n",
       "   'or',\n",
       "   'bleeding',\n",
       "   'from',\n",
       "   'the',\n",
       "   'surgical',\n",
       "   'wounds',\n",
       "   '.']},\n",
       " {'checked': ['Abdomen',\n",
       "   'is',\n",
       "   'soft',\n",
       "   ',',\n",
       "   'nontender',\n",
       "   ',',\n",
       "   'and',\n",
       "   'nondistended',\n",
       "   '.']},\n",
       " {'checked': ['Patient',\n",
       "   'not',\n",
       "   'showing',\n",
       "   'pain',\n",
       "   'or',\n",
       "   'any',\n",
       "   'health',\n",
       "   'problems',\n",
       "   '.']},\n",
       " {'checked': ['No', 'acute', 'distress']}]"
      ]
     },
     "execution_count": 5,
     "metadata": {},
     "output_type": "execute_result"
    }
   ],
   "source": [
    "# check for the different occurrences of the word \"siter\"\n",
    "example1 = [\"Witth the hell of phisical terapy the patient was imbulated and on posoperative, the impatient tolerating a post curgical soft diet.\",\n",
    "            \"With paint wel controlled on orall pain medications, she was discharged too reihabilitation facilitay.\",\n",
    "            \"She is to also call the ofice if she has any ever greater than 101, or leeding form the surgical wounds.\",\n",
    "            \"Abdomen is sort, nontender, and nonintended.\",\n",
    "            \"Patient not showing pain or any wealth problems.\",\n",
    "            \"No cute distress\"\n",
    "            \n",
    "]\n",
    "lp.annotate(example1)"
   ]
  },
  {
   "cell_type": "code",
   "execution_count": null,
   "metadata": {},
   "outputs": [],
   "source": []
  }
 ],
 "metadata": {
  "kernelspec": {
   "display_name": "Python 3",
   "language": "python",
   "name": "python3"
  },
  "language_info": {
   "codemirror_mode": {
    "name": "ipython",
    "version": 3
   },
   "file_extension": ".py",
   "mimetype": "text/x-python",
   "name": "python",
   "nbconvert_exporter": "python",
   "pygments_lexer": "ipython3",
   "version": "3.7.4"
  }
 },
 "nbformat": 4,
 "nbformat_minor": 4
}

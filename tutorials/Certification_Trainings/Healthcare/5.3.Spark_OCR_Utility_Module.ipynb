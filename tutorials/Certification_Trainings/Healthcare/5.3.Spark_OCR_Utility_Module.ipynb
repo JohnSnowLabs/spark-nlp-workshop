{
 "cells": [
  {
   "cell_type": "markdown",
   "metadata": {
    "id": "Fztwcb2gheTG"
   },
   "source": [
    "![JohnSnowLabs](https://nlp.johnsnowlabs.com/assets/images/logo.png)"
   ]
  },
  {
   "cell_type": "markdown",
   "metadata": {
    "id": "bWTEVKq4wdfg"
   },
   "source": [
    "[![Open In Colab](https://colab.research.google.com/assets/colab-badge.svg)](https://colab.research.google.com/github/JohnSnowLabs/spark-nlp-workshop/blob/master/tutorials/Certification_Trainings/Healthcare/5.3.Spark_OCR_Utility_Module.ipynb)"
   ]
  },
  {
   "cell_type": "markdown",
   "metadata": {
    "id": "Gy9vovg7aIAX"
   },
   "source": [
    "# Setup"
   ]
  },
  {
   "cell_type": "code",
   "execution_count": null,
   "metadata": {
    "id": "MVf_2iqGIJ4B"
   },
   "outputs": [],
   "source": [
    "import json\n",
    "import os\n",
    "\n",
    "from google.colab import files\n",
    "\n",
    "if 'spark_jsl.json' not in os.listdir():\n",
    "  license_keys = files.upload()\n",
    "  os.rename(list(license_keys.keys())[0], 'spark_jsl.json')\n",
    "\n",
    "with open('spark_jsl.json') as f:\n",
    "    license_keys = json.load(f)\n",
    "\n",
    "# Defining license key-value pairs as local variables\n",
    "locals().update(license_keys)\n",
    "os.environ.update(license_keys)"
   ]
  },
  {
   "cell_type": "code",
   "execution_count": null,
   "metadata": {
    "colab": {
     "base_uri": "https://localhost:8080/"
    },
    "executionInfo": {
     "elapsed": 9,
     "status": "ok",
     "timestamp": 1681840598888,
     "user": {
      "displayName": "Monster C",
      "userId": "08787989274818793476"
     },
     "user_tz": -180
    },
    "id": "-j76GOlFwlT3",
    "outputId": "e1cabf57-ae2c-475f-e126-e59c34f8963e"
   },
   "outputs": [],
   "source": [
    "license_keys.keys()"
   ]
  },
  {
   "cell_type": "code",
   "execution_count": null,
   "metadata": {
    "id": "H5-MCAzrwrbr"
   },
   "outputs": [],
   "source": [
    "# Installing Spark OCR\n",
    "! pip install --upgrade -q spark-ocr==$OCR_VERSION --extra-index-url=https://pypi.johnsnowlabs.com/$SPARK_OCR_SECRET \n",
    "\n",
    "# Installing pyspark and spark-nlp\n",
    "! pip install --upgrade -q pyspark==3.2.1 spark-nlp==$PUBLIC_VERSION\n",
    "\n",
    "# Installing Spark NLP Healthcare\n",
    "! pip install --upgrade -q spark-nlp-jsl==$JSL_VERSION  --extra-index-url https://pypi.johnsnowlabs.com/$SECRET"
   ]
  },
  {
   "cell_type": "markdown",
   "metadata": {
    "id": "X31h1agcPBrh"
   },
   "source": [
    "<b><h1><font color='darkred'>!!! ATTENTION !!! </font><h1><b>\n",
    "\n",
    "<b>After running previous cell, <font color='darkred'>RESTART the COLAB RUNTIME </font> and go ahead.<b>"
   ]
  },
  {
   "cell_type": "code",
   "execution_count": null,
   "metadata": {
    "id": "vB8RGlhAxosk",
    "executionInfo": {
     "status": "ok",
     "timestamp": 1681840700139,
     "user_tz": -180,
     "elapsed": 4,
     "user": {
      "displayName": "Monster C",
      "userId": "08787989274818793476"
     }
    }
   },
   "outputs": [],
   "source": [
    "import json\n",
    "import os\n",
    "\n",
    "from google.colab import files\n",
    "\n",
    "if 'spark_jsl.json' not in os.listdir():\n",
    "  license_keys = files.upload()\n",
    "  os.rename(list(license_keys.keys())[0], 'spark_jsl.json')\n",
    "\n",
    "with open('spark_jsl.json') as f:\n",
    "    license_keys = json.load(f)\n",
    "\n",
    "# Defining license key-value pairs as local variables\n",
    "locals().update(license_keys),\n",
    "os.environ.update(license_keys)"
   ]
  },
  {
   "cell_type": "code",
   "execution_count": null,
   "metadata": {
    "colab": {
     "base_uri": "https://localhost:8080/",
     "height": 313
    },
    "executionInfo": {
     "elapsed": 71428,
     "status": "ok",
     "timestamp": 1681840771564,
     "user": {
      "displayName": "Monster C",
      "userId": "08787989274818793476"
     },
     "user_tz": -180
    },
    "id": "qK5UBzv7nHOe",
    "outputId": "8608a290-b022-42c8-ea9d-85c6018f75d8"
   },
   "outputs": [],
   "source": [
    "import sys\n",
    "import os\n",
    "import base64\n",
    "import pkg_resources\n",
    "import pandas as pd\n",
    "import xml.etree.ElementTree as ET\n",
    "from lxml import etree\n",
    "import matplotlib.pyplot as plt\n",
    "from IPython.display import Image \n",
    "from PIL import Image, ImageFont, ImageDraw, ImageEnhance\n",
    "import re\n",
    "\n",
    "import sparknlp\n",
    "import sparknlp_jsl\n",
    "\n",
    "from sparknlp.base import *\n",
    "from sparknlp.annotator import *\n",
    "from sparknlp_jsl.annotator import *\n",
    "\n",
    "from pyspark.sql import SparkSession\n",
    "from pyspark.sql import functions as F\n",
    "from pyspark.ml import Pipeline, PipelineModel\n",
    "\n",
    "import sparkocr\n",
    "from sparkocr import start\n",
    "from sparkocr.enums import *\n",
    "from sparkocr.utils import display_images\n",
    "from sparkocr.transformers import *\n",
    "from sparkocr.enums import *\n",
    "from sparkocr.utils import display_image, display_images, to_pil_image\n",
    "from sparkocr.metrics import score\n",
    "\n",
    "spark = sparkocr.start(secret=SPARK_OCR_SECRET, \n",
    "                       nlp_version=PUBLIC_VERSION,\n",
    "                       nlp_secret=SECRET,\n",
    "                       nlp_internal=JSL_VERSION\n",
    "                       )\n",
    "spark"
   ]
  },
  {
   "cell_type": "code",
   "execution_count": null,
   "metadata": {
    "colab": {
     "base_uri": "https://localhost:8080/"
    },
    "executionInfo": {
     "elapsed": 1031,
     "status": "ok",
     "timestamp": 1681840832199,
     "user": {
      "displayName": "Monster C",
      "userId": "08787989274818793476"
     },
     "user_tz": -180
    },
    "id": "dP1E8UB2bYpX",
    "outputId": "d61ae437-a1a0-4428-9c14-3c3126d4da65"
   },
   "outputs": [],
   "source": [
    "spark.conf.set(\"spark.sql.legacy.allowUntypedScalaUDF\", True)\n",
    "print(spark.conf.get(\"spark.sql.legacy.allowUntypedScalaUDF\"))"
   ]
  },
  {
   "cell_type": "code",
   "execution_count": null,
   "metadata": {
    "id": "k5akzeRoysm9",
    "executionInfo": {
     "status": "ok",
     "timestamp": 1681840833178,
     "user_tz": -180,
     "elapsed": 6,
     "user": {
      "displayName": "Monster C",
      "userId": "08787989274818793476"
     }
    }
   },
   "outputs": [],
   "source": [
    "!wget -q https://raw.githubusercontent.com/JohnSnowLabs/spark-nlp-workshop/master/tutorials/Certification_Trainings/Healthcare/data/ocr/MT_OCR_00.pdf -P content/"
   ]
  },
  {
   "cell_type": "markdown",
   "metadata": {
    "id": "qpYjpwmk_qaH"
   },
   "source": [
    "# NER Pipeline"
   ]
  },
  {
   "cell_type": "code",
   "execution_count": null,
   "metadata": {
    "colab": {
     "base_uri": "https://localhost:8080/"
    },
    "executionInfo": {
     "elapsed": 122287,
     "status": "ok",
     "timestamp": 1681840955461,
     "user": {
      "displayName": "Monster C",
      "userId": "08787989274818793476"
     },
     "user_tz": -180
    },
    "id": "PEWOV-1MEUt0",
    "outputId": "ad55f7f4-355a-46eb-ec37-7c3430b57825"
   },
   "outputs": [],
   "source": [
    "document_assembler = DocumentAssembler() \\\n",
    "    .setInputCol(\"text\") \\\n",
    "    .setOutputCol(\"document\")\n",
    "\n",
    "# Sentence Detector annotator, processes various sentences per line\n",
    "sentence_detector = SentenceDetector() \\\n",
    "    .setInputCols([\"document\"]) \\\n",
    "    .setOutputCol(\"sentence\")\n",
    "\n",
    "tokenizer = Tokenizer() \\\n",
    "    .setInputCols([\"sentence\"]) \\\n",
    "    .setOutputCol(\"token\")\n",
    "\n",
    "# Clinical word embeddings\n",
    "word_embeddings = WordEmbeddingsModel.pretrained(\"embeddings_clinical\", \"en\", \"clinical/models\") \\\n",
    "    .setInputCols([\"sentence\", \"token\"]) \\\n",
    "    .setOutputCol(\"embeddings\")\n",
    "\n",
    "clinical_ner = MedicalNerModel.pretrained(\"ner_clinical\", \"en\", \"clinical/models\") \\\n",
    "    .setInputCols([\"sentence\", \"token\", \"embeddings\"]) \\\n",
    "    .setOutputCol(\"clinical_ner\")\n",
    "\n",
    "clinical_ner_converter = NerConverterInternal() \\\n",
    "    .setInputCols([\"sentence\", \"token\", \"clinical_ner\"]) \\\n",
    "    .setOutputCol(\"clinical_ner_chunk\") \\\n",
    "    .setBlackList([\"TREATMENT\"])\n",
    "\n",
    "posology_ner = MedicalNerModel.pretrained(\"ner_posology_large\", \"en\", \"clinical/models\") \\\n",
    "    .setInputCols([\"sentence\", \"token\", \"embeddings\"]) \\\n",
    "    .setOutputCol(\"posology_ner\")\n",
    "\n",
    "posology_ner_converter = NerConverterInternal() \\\n",
    "    .setInputCols([\"sentence\", \"token\", \"posology_ner\"]) \\\n",
    "    .setOutputCol(\"posology_ner_chunk\") \n",
    "\n",
    "deid_ner = MedicalNerModel.pretrained(\"ner_deid_subentity_augmented\", \"en\", \"clinical/models\") \\\n",
    "    .setInputCols([\"sentence\", \"token\", \"embeddings\"]) \\\n",
    "    .setOutputCol(\"deid_ner\")\n",
    "\n",
    "deid_ner_converter = NerConverterInternal() \\\n",
    "    .setInputCols([\"sentence\", \"token\", \"deid_ner\"]) \\\n",
    "    .setOutputCol(\"deid_ner_chunk\") \n",
    "\n",
    "chunk_merger = ChunkMergeApproach()\\\n",
    "    .setInputCols([\"clinical_ner_chunk\", \"posology_ner_chunk\", \"deid_ner_chunk\"])\\\n",
    "    .setOutputCol(\"merged_chunk\")\n",
    "\n",
    "nlp_pipeline = Pipeline(stages=[\n",
    "        document_assembler,\n",
    "        sentence_detector,\n",
    "        tokenizer,\n",
    "        word_embeddings,\n",
    "        clinical_ner,\n",
    "        clinical_ner_converter,\n",
    "        posology_ner,\n",
    "        posology_ner_converter,\n",
    "        deid_ner,\n",
    "        deid_ner_converter,\n",
    "        chunk_merger\n",
    "    ])\n",
    "empty_data = spark.createDataFrame([[\"\"]]).toDF(\"text\")\n",
    "nlp_model = nlp_pipeline.fit(empty_data)"
   ]
  },
  {
   "cell_type": "markdown",
   "metadata": {
    "id": "jS-T9jXsJm0b"
   },
   "source": [
    "# Module"
   ]
  },
  {
   "cell_type": "code",
   "execution_count": null,
   "metadata": {
    "id": "6Eh0uX-ZZLVj",
    "executionInfo": {
     "status": "ok",
     "timestamp": 1681840955462,
     "user_tz": -180,
     "elapsed": 7,
     "user": {
      "displayName": "Monster C",
      "userId": "08787989274818793476"
     }
    }
   },
   "outputs": [],
   "source": [
    "from sparknlp_jsl.utils.ocr_nlp_processor import ocr_entity_processor"
   ]
  },
  {
   "cell_type": "markdown",
   "metadata": {
    "id": "-TJLOR99mL1i"
   },
   "source": [
    "### Description of the labels\n",
    "\n",
    "+ file_path = path to pdf file\n",
    "+ ner_pipeline = fitted NER pipeline, \n",
    "+ chunk_col = output col name of the NER pipeline, \n",
    "+ style = type of the process, \n",
    "+ save_path = path to save file, \n",
    "+ label= if True, labels show up \n",
    "+ label_color = color of the label \n",
    "+ display_result = show output\n",
    "+ black_list = labels that will be banded over (like PHI). Each label will be banded over with the assigned color.\n"
   ]
  },
  {
   "cell_type": "markdown",
   "metadata": {
    "id": "2NUNtzd2yfCX"
   },
   "source": [
    "### Black Box"
   ]
  },
  {
   "cell_type": "code",
   "execution_count": null,
   "metadata": {
    "colab": {
     "base_uri": "https://localhost:8080/"
    },
    "executionInfo": {
     "elapsed": 49672,
     "status": "ok",
     "timestamp": 1681841005129,
     "user": {
      "displayName": "Monster C",
      "userId": "08787989274818793476"
     },
     "user_tz": -180
    },
    "id": "nldJBq9rLjwU",
    "outputId": "4dd8ef00-bc95-4d32-a4ab-03c1d4ba8dfe"
   },
   "outputs": [],
   "source": [
    "# Black Band without display\n",
    "\n",
    "path='content/*.pdf'\n",
    "box = \"black_band\"\n",
    "\n",
    "# black_band\n",
    "ocr_entity_processor(spark=spark,\n",
    "                    file_path = path, \n",
    "                    ner_pipeline = nlp_model, \n",
    "                    chunk_col = \"merged_chunk\", \n",
    "                    style = box, \n",
    "                    save_dir = \"black_band\", \n",
    "                    label= True, \n",
    "                    label_color = \"red\", \n",
    "                    display_result = False)"
   ]
  },
  {
   "cell_type": "code",
   "execution_count": null,
   "metadata": {
    "colab": {
     "base_uri": "https://localhost:8080/",
     "height": 1000
    },
    "executionInfo": {
     "elapsed": 27552,
     "status": "ok",
     "timestamp": 1681841032678,
     "user": {
      "displayName": "Monster C",
      "userId": "08787989274818793476"
     },
     "user_tz": -180
    },
    "id": "XY8chSN4HwYi",
    "outputId": "cf351aa5-d95c-44dd-e48f-95e2dd88c0f6"
   },
   "outputs": [],
   "source": [
    "# black_band with labels\n",
    "\n",
    "path='content/*.pdf'\n",
    "box = \"black_band\"\n",
    "\n",
    "ocr_entity_processor(spark=spark,\n",
    "                     file_path=path, \n",
    "                     ner_pipeline = nlp_model, \n",
    "                     chunk_col = \"merged_chunk\", \n",
    "                     style = box, \n",
    "                     save_dir = \"black_band\", \n",
    "                     label= True, label_color = \"red\", \n",
    "                     display_result = True)"
   ]
  },
  {
   "cell_type": "code",
   "execution_count": null,
   "metadata": {
    "id": "hmP0JQVUwEw2",
    "colab": {
     "base_uri": "https://localhost:8080/",
     "height": 1000
    },
    "executionInfo": {
     "status": "ok",
     "timestamp": 1681841058559,
     "user_tz": -180,
     "elapsed": 25889,
     "user": {
      "displayName": "Monster C",
      "userId": "08787989274818793476"
     }
    },
    "outputId": "efc0603c-6aaf-4b6d-a7a9-1a09076539b1"
   },
   "outputs": [],
   "source": [
    "# black_band without labels\n",
    "\n",
    "path='content/*.pdf'\n",
    "box = \"black_band\"\n",
    "\n",
    "ocr_entity_processor(spark=spark,\n",
    "                    file_path=path, \n",
    "                    ner_pipeline = nlp_model, \n",
    "                    chunk_col = \"merged_chunk\", \n",
    "                    style = box, \n",
    "                    save_dir = \"black_band\", \n",
    "                    label= False, \n",
    "                    label_color = \"red\", \n",
    "                    display_result = True)"
   ]
  },
  {
   "cell_type": "markdown",
   "metadata": {
    "id": "3pcqxEe_yiCD"
   },
   "source": [
    "### Colored Box"
   ]
  },
  {
   "cell_type": "code",
   "execution_count": null,
   "metadata": {
    "colab": {
     "base_uri": "https://localhost:8080/",
     "height": 1000
    },
    "executionInfo": {
     "elapsed": 27873,
     "status": "ok",
     "timestamp": 1681841086427,
     "user": {
      "displayName": "Monster C",
      "userId": "08787989274818793476"
     },
     "user_tz": -180
    },
    "id": "b_fK194BicX_",
    "outputId": "c66487ad-291e-4fc1-ef7a-5daf5c6fc303"
   },
   "outputs": [],
   "source": [
    "# BB with labels and black list\n",
    "\n",
    "path='content/*.pdf'\n",
    "box = \"bounding_box\"\n",
    "\n",
    "ocr_entity_processor(spark=spark,\n",
    "                     file_path=path, \n",
    "                    ner_pipeline = nlp_model, \n",
    "                    chunk_col = \"merged_chunk\", \n",
    "                    black_list = [\"AGE\", \"DAte\", \"PATIENT\"],\n",
    "                    style = box, \n",
    "                    save_dir = \"colored_box\", \n",
    "                    label= True, \n",
    "                    label_color = \"red\", \n",
    "                    color_chart_path = \"label_colors.png\", \n",
    "                    display_result=True)"
   ]
  },
  {
   "cell_type": "code",
   "execution_count": null,
   "metadata": {
    "id": "8KxqWDkqahGD",
    "colab": {
     "base_uri": "https://localhost:8080/",
     "height": 1000
    },
    "executionInfo": {
     "status": "ok",
     "timestamp": 1681841114087,
     "user_tz": -180,
     "elapsed": 27675,
     "user": {
      "displayName": "Monster C",
      "userId": "08787989274818793476"
     }
    },
    "outputId": "24e01959-6338-4c9d-ea46-e90d44864243"
   },
   "outputs": [],
   "source": [
    "# BB with black list and without labels\n",
    "\n",
    "path='content/*.pdf'\n",
    "box = \"bounding_box\"\n",
    "\n",
    "ocr_entity_processor(spark=spark,\n",
    "                     file_path=path, \n",
    "                    ner_pipeline = nlp_model, \n",
    "                    chunk_col = \"merged_chunk\", \n",
    "                    black_list = [\"AGE\", \"DAte\", \"PATIENT\"],\n",
    "                    style = box, \n",
    "                    save_dir = \"colored_box\", \n",
    "                    label= False, \n",
    "                    label_color = \"red\", \n",
    "                    color_chart_path = \"label_colors.png\", \n",
    "                    display_result=True)"
   ]
  },
  {
   "cell_type": "code",
   "execution_count": null,
   "metadata": {
    "colab": {
     "base_uri": "https://localhost:8080/"
    },
    "executionInfo": {
     "elapsed": 21593,
     "status": "ok",
     "timestamp": 1681841135673,
     "user": {
      "displayName": "Monster C",
      "userId": "08787989274818793476"
     },
     "user_tz": -180
    },
    "id": "_UlzVYqXvHeV",
    "outputId": "b1e9632b-7cf1-4415-b2a3-f8d597c59bbd"
   },
   "outputs": [],
   "source": [
    "# BB without display\n",
    "\n",
    "path='content/*.pdf'\n",
    "box = \"bounding_box\"\n",
    "\n",
    "ocr_entity_processor(spark=spark,\n",
    "                     file_path=path, \n",
    "                    ner_pipeline = nlp_model, \n",
    "                    chunk_col = \"merged_chunk\", \n",
    "                    black_list = [\"AGE\", \"DAte\", \"PATIENT\"],\n",
    "                    style = box, \n",
    "                    save_dir = \"colored_box\", \n",
    "                    label= True, \n",
    "                    label_color = \"red\", \n",
    "                    color_chart_path = \"label_colors.png\", \n",
    "                    display_result=False)"
   ]
  },
  {
   "cell_type": "code",
   "execution_count": null,
   "metadata": {
    "id": "0SpgKZLdyoV-",
    "colab": {
     "base_uri": "https://localhost:8080/",
     "height": 1000
    },
    "executionInfo": {
     "status": "ok",
     "timestamp": 1681841158935,
     "user_tz": -180,
     "elapsed": 23265,
     "user": {
      "displayName": "Monster C",
      "userId": "08787989274818793476"
     }
    },
    "outputId": "7a4459a5-b01a-4c7e-ac63-030879770cfa"
   },
   "outputs": [],
   "source": [
    "# BB without black list\n",
    "\n",
    "path='content/*.pdf'\n",
    "box = \"bounding_box\"\n",
    "\n",
    "ocr_entity_processor(spark=spark,\n",
    "                     file_path=path, \n",
    "                    ner_pipeline = nlp_model, \n",
    "                    chunk_col = \"merged_chunk\", \n",
    "                    style = box, \n",
    "                    save_dir = \"colored_box\", \n",
    "                    label= True, \n",
    "                    label_color = \"red\", \n",
    "                    color_chart_path = \"label_colors.png\", \n",
    "                    display_result=True)"
   ]
  },
  {
   "cell_type": "code",
   "execution_count": null,
   "metadata": {
    "id": "YxPAJ1u0lbje",
    "colab": {
     "base_uri": "https://localhost:8080/",
     "height": 1000
    },
    "executionInfo": {
     "status": "ok",
     "timestamp": 1681841182404,
     "user_tz": -180,
     "elapsed": 23476,
     "user": {
      "displayName": "Monster C",
      "userId": "08787989274818793476"
     }
    },
    "outputId": "b2ef7354-020e-4bd4-8220-df793ca3e43e"
   },
   "outputs": [],
   "source": [
    "# BB change label color \n",
    "\n",
    "path='content/*.pdf'\n",
    "box = \"bounding_box\"\n",
    "\n",
    "ocr_entity_processor(spark=spark,\n",
    "                     file_path=path, \n",
    "                    ner_pipeline = nlp_model, \n",
    "                    chunk_col = \"merged_chunk\", \n",
    "                    black_list = [\"AGE\", \"DATE\", \"PATIENT\"],\n",
    "                    style = box, \n",
    "                    save_dir = \"colored_box\", \n",
    "                    label= True, \n",
    "                    label_color = \"purple\", \n",
    "                    color_chart_path = \"label_colors.png\", \n",
    "                    display_result=True)"
   ]
  },
  {
   "cell_type": "markdown",
   "metadata": {
    "id": "9c2ieU57ymNf"
   },
   "source": [
    "### Highlighted Box"
   ]
  },
  {
   "cell_type": "code",
   "execution_count": null,
   "metadata": {
    "colab": {
     "base_uri": "https://localhost:8080/",
     "height": 1000
    },
    "executionInfo": {
     "elapsed": 21516,
     "status": "ok",
     "timestamp": 1681841203913,
     "user": {
      "displayName": "Monster C",
      "userId": "08787989274818793476"
     },
     "user_tz": -180
    },
    "id": "kD6A9D3k86NZ",
    "outputId": "f366cf9f-7176-4074-e36b-f20fd5538416"
   },
   "outputs": [],
   "source": [
    "# Highlight with labels and black_list\n",
    "\n",
    "path='content/*.pdf'\n",
    "box = \"highlight\"\n",
    "\n",
    "ocr_entity_processor(spark=spark,\n",
    "                     file_path=path, \n",
    "                    ner_pipeline = nlp_model, \n",
    "                    chunk_col = \"merged_chunk\", \n",
    "                    black_list = [\"AGE\", \"DATE\", \"PATIENT\"],\n",
    "                    style = box, \n",
    "                    save_dir = \"colored_box\", \n",
    "                    label= True, \n",
    "                    label_color = \"red\", \n",
    "                    color_chart_path = \"label_colors.png\", \n",
    "                    display_result=True)"
   ]
  },
  {
   "cell_type": "code",
   "execution_count": null,
   "metadata": {
    "id": "ZXnARjpsvvJY",
    "colab": {
     "base_uri": "https://localhost:8080/",
     "height": 1000
    },
    "executionInfo": {
     "status": "ok",
     "timestamp": 1681841230760,
     "user_tz": -180,
     "elapsed": 26864,
     "user": {
      "displayName": "Monster C",
      "userId": "08787989274818793476"
     }
    },
    "outputId": "ae9a7dcc-d9b4-4682-ffa7-6c4db05a20b7"
   },
   "outputs": [],
   "source": [
    "# Highlight without labels and with black_list\n",
    "\n",
    "path='content/*.pdf'\n",
    "box = \"highlight\"\n",
    "\n",
    "ocr_entity_processor(spark=spark,\n",
    "                     file_path=path, \n",
    "                    ner_pipeline = nlp_model, \n",
    "                    chunk_col = \"merged_chunk\", \n",
    "                    black_list = [\"AGE\", \"DAte\", \"PATIENT\"],\n",
    "                    style = box, \n",
    "                    save_dir = \"colored_box\", \n",
    "                    label= False, \n",
    "                    label_color = \"red\", \n",
    "                    color_chart_path = \"label_colors.png\", \n",
    "                    display_result=True)"
   ]
  },
  {
   "cell_type": "code",
   "execution_count": null,
   "metadata": {
    "id": "IAhQ-1Cfw-0f",
    "colab": {
     "base_uri": "https://localhost:8080/",
     "height": 1000
    },
    "executionInfo": {
     "status": "ok",
     "timestamp": 1681841260214,
     "user_tz": -180,
     "elapsed": 29467,
     "user": {
      "displayName": "Monster C",
      "userId": "08787989274818793476"
     }
    },
    "outputId": "390f68f6-7659-49b2-e6bf-6e0d3f57ea37"
   },
   "outputs": [],
   "source": [
    "# Highlight with labels and without black_list\n",
    "\n",
    "path='content/*.pdf'\n",
    "box = \"highlight\"\n",
    "\n",
    "ocr_entity_processor(spark=spark,\n",
    "                     file_path=path, \n",
    "                    ner_pipeline = nlp_model, \n",
    "                    chunk_col = \"merged_chunk\", \n",
    "                    style = box, \n",
    "                    save_dir = \"colored_box\", \n",
    "                    label= True, \n",
    "                    label_color = \"red\", \n",
    "                    color_chart_path = \"label_colors.png\", \n",
    "                    display_result=True)"
   ]
  },
  {
   "cell_type": "code",
   "execution_count": null,
   "metadata": {
    "colab": {
     "base_uri": "https://localhost:8080/"
    },
    "executionInfo": {
     "elapsed": 18425,
     "status": "ok",
     "timestamp": 1681841278621,
     "user": {
      "displayName": "Monster C",
      "userId": "08787989274818793476"
     },
     "user_tz": -180
    },
    "id": "ta3h-_VUhMEH",
    "outputId": "65a290e6-1123-48c8-d344-329cb22caf53"
   },
   "outputs": [],
   "source": [
    "# Highlight without display\n",
    "\n",
    "path='content/*.pdf'\n",
    "box = \"highlight\"\n",
    "\n",
    "ocr_entity_processor(spark=spark,\n",
    "                     file_path=path, \n",
    "                    ner_pipeline = nlp_model, \n",
    "                    chunk_col = \"merged_chunk\", \n",
    "                    black_list = [\"AGE\", \"DAte\", \"PATIENT\"],\n",
    "                    style = box, \n",
    "                    save_dir = \"colored_box\", \n",
    "                    label= True, \n",
    "                    label_color = \"red\", \n",
    "                    color_chart_path = \"label_colors.png\", \n",
    "                    display_result=False)"
   ]
  },
  {
   "cell_type": "code",
   "execution_count": null,
   "metadata": {
    "id": "8MnvS1Y9_D-0",
    "colab": {
     "base_uri": "https://localhost:8080/",
     "height": 1000
    },
    "executionInfo": {
     "status": "ok",
     "timestamp": 1681841305762,
     "user_tz": -180,
     "elapsed": 27146,
     "user": {
      "displayName": "Monster C",
      "userId": "08787989274818793476"
     }
    },
    "outputId": "2ff7508e-0a70-47f3-f26f-7db2fef6f140"
   },
   "outputs": [],
   "source": [
    "# Highlight change label color \n",
    "\n",
    "path='content/*.pdf'\n",
    "box = \"highlight\"\n",
    "\n",
    "ocr_entity_processor(spark=spark,\n",
    "                     file_path=path, \n",
    "                    ner_pipeline = nlp_model, \n",
    "                    chunk_col = \"merged_chunk\", \n",
    "                    black_list = [\"AGE\", \"DAte\", \"PATIENT\"],\n",
    "                    style = box, \n",
    "                    save_dir = \"colored_box\", \n",
    "                    label= True, \n",
    "                    label_color = \"purple\", \n",
    "                    color_chart_path = \"label_colors.png\", \n",
    "                    display_result=True)"
   ]
  }
 ],
 "metadata": {
  "accelerator": "TPU",
  "colab": {
   "machine_shape": "hm",
   "provenance": [],
   "toc_visible": true
  },
  "gpuClass": "standard",
  "kernelspec": {
   "display_name": "Python 3",
   "name": "python3"
  },
  "language_info": {
   "name": "python"
  }
 },
 "nbformat": 4,
 "nbformat_minor": 0
}
{
 "cells": [
  {
   "cell_type": "markdown",
   "metadata": {
    "id": "Fztwcb2gheTG"
   },
   "source": [
    "![JohnSnowLabs](https://nlp.johnsnowlabs.com/assets/images/logo.png)"
   ]
  },
  {
   "cell_type": "markdown",
   "metadata": {
    "id": "bWTEVKq4wdfg"
   },
   "source": [
    "[![Open In Colab](https://colab.research.google.com/assets/colab-badge.svg)](https://colab.research.google.com/github/JohnSnowLabs/spark-nlp-workshop/blob/master/tutorials/Certification_Trainings/Healthcare/5.3.Spark_OCR_Utility_Module.ipynb)"
   ]
  },
  {
   "cell_type": "markdown",
   "metadata": {
    "id": "Gy9vovg7aIAX"
   },
   "source": [
    "# Setup"
   ]
  },
  {
   "cell_type": "code",
   "execution_count": null,
   "metadata": {
    "id": "MVf_2iqGIJ4B"
   },
   "outputs": [],
   "source": [
    "import json\n",
    "import os\n",
    "\n",
    "from google.colab import files\n",
    "\n",
    "if 'spark_jsl.json' not in os.listdir():\n",
    "  license_keys = files.upload()\n",
    "  os.rename(list(license_keys.keys())[0], 'spark_jsl.json')\n",
    "\n",
    "with open('spark_jsl.json') as f:\n",
    "    license_keys = json.load(f)\n",
    "\n",
    "# Defining license key-value pairs as local variables\n",
    "locals().update(license_keys)\n",
    "os.environ.update(license_keys)"
   ]
  },
  {
   "cell_type": "code",
   "execution_count": null,
   "metadata": {
    "colab": {
     "base_uri": "https://localhost:8080/"
    },
    "executionInfo": {
     "elapsed": 8,
     "status": "ok",
     "timestamp": 1672767567671,
     "user": {
      "displayName": "Monster C",
      "userId": "08787989274818793476"
     },
     "user_tz": -180
    },
    "id": "-j76GOlFwlT3",
    "outputId": "a1cfd9f1-23a1-4a65-d8b0-66e96ba75c8b"
   },
   "outputs": [],
   "source": [
    "license_keys.keys()"
   ]
  },
  {
   "cell_type": "code",
   "execution_count": null,
   "metadata": {
    "id": "H5-MCAzrwrbr"
   },
   "outputs": [],
   "source": [
    "# Installing pyspark and spark-nlp\n",
    "! pip install --upgrade -q pyspark==3.2.1 spark-nlp==$PUBLIC_VERSION\n",
    "\n",
    "# Installing Spark NLP Healthcare\n",
    "! pip install --upgrade -q spark-nlp-jsl==$JSL_VERSION  --extra-index-url https://pypi.johnsnowlabs.com/$SECRET\n",
    "\n",
    "# Installing Spark OCR\n",
    "! pip install --upgrade -q spark-ocr==$OCR_VERSION --extra-index-url=https://pypi.johnsnowlabs.com/$SPARK_OCR_SECRET "
   ]
  },
  {
   "cell_type": "markdown",
   "metadata": {
    "id": "X31h1agcPBrh"
   },
   "source": [
    "<b><h1><font color='darkred'>!!! ATTENTION !!! </font><h1><b>\n",
    "\n",
    "<b>After running previous cell, <font color='darkred'>RESTART the COLAB RUNTIME </font> and go ahead.<b>"
   ]
  },
  {
   "cell_type": "code",
   "execution_count": null,
   "metadata": {
    "id": "vB8RGlhAxosk",
    "executionInfo": {
     "status": "ok",
     "timestamp": 1672768031818,
     "user_tz": -180,
     "elapsed": 4,
     "user": {
      "displayName": "Monster C",
      "userId": "08787989274818793476"
     }
    }
   },
   "outputs": [],
   "source": [
    "import json\n",
    "import os\n",
    "\n",
    "from google.colab import files\n",
    "\n",
    "if 'spark_jsl.json' not in os.listdir():\n",
    "  license_keys = files.upload()\n",
    "  os.rename(list(license_keys.keys())[0], 'spark_jsl.json')\n",
    "\n",
    "with open('spark_jsl.json') as f:\n",
    "    license_keys = json.load(f)\n",
    "\n",
    "# Defining license key-value pairs as local variables\n",
    "locals().update(license_keys),\n",
    "os.environ.update(license_keys)"
   ]
  },
  {
   "cell_type": "code",
   "execution_count": null,
   "metadata": {
    "colab": {
     "base_uri": "https://localhost:8080/",
     "height": 313
    },
    "executionInfo": {
     "elapsed": 42255,
     "status": "ok",
     "timestamp": 1672768074070,
     "user": {
      "displayName": "Monster C",
      "userId": "08787989274818793476"
     },
     "user_tz": -180
    },
    "id": "qK5UBzv7nHOe",
    "outputId": "5bf7306a-7b19-45aa-bb8a-b2d8a30cdde8"
   },
   "outputs": [],
   "source": [
    "import sys\n",
    "import os\n",
    "import base64\n",
    "import pkg_resources\n",
    "import pandas as pd\n",
    "import xml.etree.ElementTree as ET\n",
    "from lxml import etree\n",
    "import matplotlib.pyplot as plt\n",
    "from IPython.display import Image \n",
    "from PIL import Image, ImageFont, ImageDraw, ImageEnhance\n",
    "import re\n",
    "\n",
    "import sparknlp\n",
    "import sparknlp_jsl\n",
    "\n",
    "from sparknlp.base import *\n",
    "from sparknlp.annotator import *\n",
    "from sparknlp_jsl.annotator import *\n",
    "\n",
    "from pyspark.sql import SparkSession\n",
    "from pyspark.sql import functions as F\n",
    "from pyspark.ml import Pipeline, PipelineModel\n",
    "\n",
    "import sparkocr\n",
    "from sparkocr import start\n",
    "from sparkocr.enums import *\n",
    "from sparkocr.utils import display_images\n",
    "from sparkocr.transformers import *\n",
    "from sparkocr.enums import *\n",
    "from sparkocr.utils import display_image, display_images, to_pil_image\n",
    "from sparkocr.metrics import score\n",
    "\n",
    "spark = sparkocr.start(secret=SPARK_OCR_SECRET, \n",
    "                       nlp_version=PUBLIC_VERSION,\n",
    "                       nlp_secret=SECRET,\n",
    "                       nlp_internal=JSL_VERSION\n",
    "                       )\n",
    "spark"
   ]
  },
  {
   "cell_type": "code",
   "execution_count": null,
   "metadata": {
    "colab": {
     "base_uri": "https://localhost:8080/"
    },
    "executionInfo": {
     "elapsed": 268,
     "status": "ok",
     "timestamp": 1672768131956,
     "user": {
      "displayName": "Monster C",
      "userId": "08787989274818793476"
     },
     "user_tz": -180
    },
    "id": "dP1E8UB2bYpX",
    "outputId": "31cd41e5-0082-40ce-a615-d5c84b5af34e"
   },
   "outputs": [],
   "source": [
    "spark.conf.set(\"spark.sql.legacy.allowUntypedScalaUDF\", True)\n",
    "print(spark.conf.get(\"spark.sql.legacy.allowUntypedScalaUDF\"))"
   ]
  },
  {
   "cell_type": "code",
   "execution_count": null,
   "metadata": {
    "id": "k5akzeRoysm9",
    "executionInfo": {
     "status": "ok",
     "timestamp": 1672768133418,
     "user_tz": -180,
     "elapsed": 441,
     "user": {
      "displayName": "Monster C",
      "userId": "08787989274818793476"
     }
    }
   },
   "outputs": [],
   "source": [
    "!wget -q https://raw.githubusercontent.com/JohnSnowLabs/spark-nlp-workshop/master/tutorials/Certification_Trainings/Healthcare/data/ocr/MT_OCR_00.pdf -P content/"
   ]
  },
  {
   "cell_type": "markdown",
   "metadata": {
    "id": "qpYjpwmk_qaH"
   },
   "source": [
    "# NER Pipeline"
   ]
  },
  {
   "cell_type": "code",
   "execution_count": null,
   "metadata": {
    "colab": {
     "base_uri": "https://localhost:8080/"
    },
    "executionInfo": {
     "elapsed": 88274,
     "status": "ok",
     "timestamp": 1672768248285,
     "user": {
      "displayName": "Monster C",
      "userId": "08787989274818793476"
     },
     "user_tz": -180
    },
    "id": "PEWOV-1MEUt0",
    "outputId": "422e7bf3-4991-4450-e865-cd2310000dcc"
   },
   "outputs": [],
   "source": [
    "document_assembler = DocumentAssembler() \\\n",
    "    .setInputCol(\"text\") \\\n",
    "    .setOutputCol(\"document\")\n",
    "\n",
    "# Sentence Detector annotator, processes various sentences per line\n",
    "sentence_detector = SentenceDetector() \\\n",
    "    .setInputCols([\"document\"]) \\\n",
    "    .setOutputCol(\"sentence\")\n",
    "\n",
    "tokenizer = Tokenizer() \\\n",
    "    .setInputCols([\"sentence\"]) \\\n",
    "    .setOutputCol(\"token\")\n",
    "\n",
    "# Clinical word embeddings\n",
    "word_embeddings = WordEmbeddingsModel.pretrained(\"embeddings_clinical\", \"en\", \"clinical/models\") \\\n",
    "    .setInputCols([\"sentence\", \"token\"]) \\\n",
    "    .setOutputCol(\"embeddings\")\n",
    "\n",
    "clinical_ner = MedicalNerModel.pretrained(\"ner_clinical\", \"en\", \"clinical/models\") \\\n",
    "    .setInputCols([\"sentence\", \"token\", \"embeddings\"]) \\\n",
    "    .setOutputCol(\"clinical_ner\")\n",
    "\n",
    "clinical_ner_converter = NerConverterInternal() \\\n",
    "    .setInputCols([\"sentence\", \"token\", \"clinical_ner\"]) \\\n",
    "    .setOutputCol(\"clinical_ner_chunk\") \\\n",
    "    .setBlackList([\"TREATMENT\"])\n",
    "\n",
    "posology_ner = MedicalNerModel.pretrained(\"ner_posology_large\", \"en\", \"clinical/models\") \\\n",
    "    .setInputCols([\"sentence\", \"token\", \"embeddings\"]) \\\n",
    "    .setOutputCol(\"posology_ner\")\n",
    "\n",
    "posology_ner_converter = NerConverterInternal() \\\n",
    "    .setInputCols([\"sentence\", \"token\", \"posology_ner\"]) \\\n",
    "    .setOutputCol(\"posology_ner_chunk\") \n",
    "\n",
    "deid_ner = MedicalNerModel.pretrained(\"ner_deid_subentity_augmented\", \"en\", \"clinical/models\") \\\n",
    "    .setInputCols([\"sentence\", \"token\", \"embeddings\"]) \\\n",
    "    .setOutputCol(\"deid_ner\")\n",
    "\n",
    "deid_ner_converter = NerConverterInternal() \\\n",
    "    .setInputCols([\"sentence\", \"token\", \"deid_ner\"]) \\\n",
    "    .setOutputCol(\"deid_ner_chunk\") \n",
    "\n",
    "chunk_merger = ChunkMergeApproach()\\\n",
    "    .setInputCols([\"clinical_ner_chunk\", \"posology_ner_chunk\", \"deid_ner_chunk\"])\\\n",
    "    .setOutputCol(\"merged_chunk\")\n",
    "\n",
    "nlp_pipeline = Pipeline(stages=[\n",
    "        document_assembler,\n",
    "        sentence_detector,\n",
    "        tokenizer,\n",
    "        word_embeddings,\n",
    "        clinical_ner,\n",
    "        clinical_ner_converter,\n",
    "        posology_ner,\n",
    "        posology_ner_converter,\n",
    "        deid_ner,\n",
    "        deid_ner_converter,\n",
    "        chunk_merger\n",
    "    ])\n",
    "empty_data = spark.createDataFrame([[\"\"]]).toDF(\"text\")\n",
    "nlp_model = nlp_pipeline.fit(empty_data)"
   ]
  },
  {
   "cell_type": "markdown",
   "metadata": {
    "id": "jS-T9jXsJm0b"
   },
   "source": [
    "# Module"
   ]
  },
  {
   "cell_type": "code",
   "execution_count": null,
   "metadata": {
    "id": "6Eh0uX-ZZLVj",
    "executionInfo": {
     "status": "ok",
     "timestamp": 1672768255542,
     "user_tz": -180,
     "elapsed": 384,
     "user": {
      "displayName": "Monster C",
      "userId": "08787989274818793476"
     }
    }
   },
   "outputs": [],
   "source": [
    "from sparknlp_jsl.utils.ocr_nlp_processor import ocr_entity_processor"
   ]
  },
  {
   "cell_type": "markdown",
   "metadata": {
    "id": "-TJLOR99mL1i"
   },
   "source": [
    "### Description of the labels\n",
    "\n",
    "+ file_path = path to pdf file\n",
    "+ ner_pipeline = fitted NER pipeline, \n",
    "+ chunk_col = output col name of the NER pipeline, \n",
    "+ style = type of the process, \n",
    "+ save_path = path to save file, \n",
    "+ label= if True, labels show up \n",
    "+ label_color = color of the label \n",
    "+ display_result = show output\n",
    "+ black_list = labels that will be banded over (like PHI). Each label will be banded over with the assigned color.\n"
   ]
  },
  {
   "cell_type": "markdown",
   "metadata": {
    "id": "2NUNtzd2yfCX"
   },
   "source": [
    "### Black Box"
   ]
  },
  {
   "cell_type": "code",
   "execution_count": null,
   "metadata": {
    "colab": {
     "base_uri": "https://localhost:8080/"
    },
    "executionInfo": {
     "elapsed": 20411,
     "status": "ok",
     "timestamp": 1672768277032,
     "user": {
      "displayName": "Monster C",
      "userId": "08787989274818793476"
     },
     "user_tz": -180
    },
    "id": "nldJBq9rLjwU",
    "outputId": "5ef49984-d635-4bf5-c709-d44580f890eb"
   },
   "outputs": [],
   "source": [
    "# Black Band without display\n",
    "\n",
    "path='content/*.pdf'\n",
    "box = \"black_band\"\n",
    "\n",
    "# black_band\n",
    "ocr_entity_processor(spark=spark,\n",
    "                    file_path = path, \n",
    "                    ner_pipeline = nlp_model, \n",
    "                    chunk_col = \"merged_chunk\", \n",
    "                    style = box, \n",
    "                    save_dir = \"black_band\", \n",
    "                    label= True, \n",
    "                    label_color = \"red\", \n",
    "                    display_result = False)"
   ]
  },
  {
   "cell_type": "code",
   "execution_count": null,
   "metadata": {
    "colab": {
     "base_uri": "https://localhost:8080/",
     "height": 1000
    },
    "executionInfo": {
     "elapsed": 15401,
     "status": "ok",
     "timestamp": 1672768293475,
     "user": {
      "displayName": "Monster C",
      "userId": "08787989274818793476"
     },
     "user_tz": -180
    },
    "id": "XY8chSN4HwYi",
    "outputId": "f271d85b-86bc-406c-8ce9-621b86cd71f6"
   },
   "outputs": [],
   "source": [
    "# black_band with labels\n",
    "\n",
    "path='content/*.pdf'\n",
    "box = \"black_band\"\n",
    "\n",
    "ocr_entity_processor(spark=spark,\n",
    "                     file_path=path, \n",
    "                     ner_pipeline = nlp_model, \n",
    "                     chunk_col = \"merged_chunk\", \n",
    "                     style = box, \n",
    "                     save_dir = \"black_band\", \n",
    "                     label= True, label_color = \"red\", \n",
    "                     display_result = True)"
   ]
  },
  {
   "cell_type": "code",
   "execution_count": null,
   "metadata": {
    "id": "hmP0JQVUwEw2",
    "colab": {
     "base_uri": "https://localhost:8080/",
     "height": 1000
    },
    "executionInfo": {
     "status": "ok",
     "timestamp": 1672768319534,
     "user_tz": -180,
     "elapsed": 14615,
     "user": {
      "displayName": "Monster C",
      "userId": "08787989274818793476"
     }
    },
    "outputId": "1755070d-7425-467b-e1fd-6f1fb50d2ff7"
   },
   "outputs": [],
   "source": [
    "# black_band without labels\n",
    "\n",
    "path='content/*.pdf'\n",
    "box = \"black_band\"\n",
    "\n",
    "ocr_entity_processor(spark=spark,\n",
    "                    file_path=path, \n",
    "                    ner_pipeline = nlp_model, \n",
    "                    chunk_col = \"merged_chunk\", \n",
    "                    style = box, \n",
    "                    save_dir = \"black_band\", \n",
    "                    label= False, \n",
    "                    label_color = \"red\", \n",
    "                    display_result = True)"
   ]
  },
  {
   "cell_type": "markdown",
   "metadata": {
    "id": "3pcqxEe_yiCD"
   },
   "source": [
    "### Colored Box"
   ]
  },
  {
   "cell_type": "code",
   "execution_count": null,
   "metadata": {
    "colab": {
     "base_uri": "https://localhost:8080/",
     "height": 1000
    },
    "executionInfo": {
     "elapsed": 12844,
     "status": "ok",
     "timestamp": 1672768332370,
     "user": {
      "displayName": "Monster C",
      "userId": "08787989274818793476"
     },
     "user_tz": -180
    },
    "id": "b_fK194BicX_",
    "outputId": "8f0b7ecd-c967-44d8-c641-2cd3d55b622f"
   },
   "outputs": [],
   "source": [
    "# BB with labels and black list\n",
    "\n",
    "path='content/*.pdf'\n",
    "box = \"bounding_box\"\n",
    "\n",
    "ocr_entity_processor(spark=spark,\n",
    "                     file_path=path, \n",
    "                    ner_pipeline = nlp_model, \n",
    "                    chunk_col = \"merged_chunk\", \n",
    "                    black_list = [\"AGE\", \"DAte\", \"PATIENT\"],\n",
    "                    style = box, \n",
    "                    save_dir = \"colored_box\", \n",
    "                    label= True, \n",
    "                    label_color = \"red\", \n",
    "                    color_chart_path = \"label_colors.png\", \n",
    "                    display_result=True)"
   ]
  },
  {
   "cell_type": "code",
   "execution_count": null,
   "metadata": {
    "id": "8KxqWDkqahGD",
    "colab": {
     "base_uri": "https://localhost:8080/",
     "height": 1000
    },
    "executionInfo": {
     "status": "ok",
     "timestamp": 1672768345481,
     "user_tz": -180,
     "elapsed": 13127,
     "user": {
      "displayName": "Monster C",
      "userId": "08787989274818793476"
     }
    },
    "outputId": "352d268a-efef-4869-9473-3f56fac5d14b"
   },
   "outputs": [],
   "source": [
    "# BB with black list and without labels\n",
    "\n",
    "path='content/*.pdf'\n",
    "box = \"bounding_box\"\n",
    "\n",
    "ocr_entity_processor(spark=spark,\n",
    "                     file_path=path, \n",
    "                    ner_pipeline = nlp_model, \n",
    "                    chunk_col = \"merged_chunk\", \n",
    "                    black_list = [\"AGE\", \"DAte\", \"PATIENT\"],\n",
    "                    style = box, \n",
    "                    save_dir = \"colored_box\", \n",
    "                    label= False, \n",
    "                    label_color = \"red\", \n",
    "                    color_chart_path = \"label_colors.png\", \n",
    "                    display_result=True)"
   ]
  },
  {
   "cell_type": "code",
   "execution_count": null,
   "metadata": {
    "colab": {
     "base_uri": "https://localhost:8080/"
    },
    "executionInfo": {
     "elapsed": 10003,
     "status": "ok",
     "timestamp": 1672768355468,
     "user": {
      "displayName": "Monster C",
      "userId": "08787989274818793476"
     },
     "user_tz": -180
    },
    "id": "_UlzVYqXvHeV",
    "outputId": "5168b27d-9c4d-4dad-cd16-e5bf989515ef"
   },
   "outputs": [],
   "source": [
    "# BB without display\n",
    "\n",
    "path='content/*.pdf'\n",
    "box = \"bounding_box\"\n",
    "\n",
    "ocr_entity_processor(spark=spark,\n",
    "                     file_path=path, \n",
    "                    ner_pipeline = nlp_model, \n",
    "                    chunk_col = \"merged_chunk\", \n",
    "                    black_list = [\"AGE\", \"DAte\", \"PATIENT\"],\n",
    "                    style = box, \n",
    "                    save_dir = \"colored_box\", \n",
    "                    label= True, \n",
    "                    label_color = \"red\", \n",
    "                    color_chart_path = \"label_colors.png\", \n",
    "                    display_result=False)"
   ]
  },
  {
   "cell_type": "code",
   "execution_count": null,
   "metadata": {
    "id": "0SpgKZLdyoV-",
    "colab": {
     "base_uri": "https://localhost:8080/",
     "height": 1000
    },
    "executionInfo": {
     "status": "ok",
     "timestamp": 1672768370090,
     "user_tz": -180,
     "elapsed": 14635,
     "user": {
      "displayName": "Monster C",
      "userId": "08787989274818793476"
     }
    },
    "outputId": "e938db8c-faa3-421f-be9e-22422542b8b5"
   },
   "outputs": [],
   "source": [
    "# BB without black list\n",
    "\n",
    "path='content/*.pdf'\n",
    "box = \"bounding_box\"\n",
    "\n",
    "ocr_entity_processor(spark=spark,\n",
    "                     file_path=path, \n",
    "                    ner_pipeline = nlp_model, \n",
    "                    chunk_col = \"merged_chunk\", \n",
    "                    style = box, \n",
    "                    save_dir = \"colored_box\", \n",
    "                    label= True, \n",
    "                    label_color = \"red\", \n",
    "                    color_chart_path = \"label_colors.png\", \n",
    "                    display_result=True)"
   ]
  },
  {
   "cell_type": "code",
   "execution_count": null,
   "metadata": {
    "id": "YxPAJ1u0lbje",
    "colab": {
     "base_uri": "https://localhost:8080/",
     "height": 1000
    },
    "executionInfo": {
     "status": "ok",
     "timestamp": 1672768382292,
     "user_tz": -180,
     "elapsed": 12220,
     "user": {
      "displayName": "Monster C",
      "userId": "08787989274818793476"
     }
    },
    "outputId": "976f524d-ba38-4807-a0fe-22e724d3845e"
   },
   "outputs": [],
   "source": [
    "# BB change label color \n",
    "\n",
    "path='content/*.pdf'\n",
    "box = \"bounding_box\"\n",
    "\n",
    "ocr_entity_processor(spark=spark,\n",
    "                     file_path=path, \n",
    "                    ner_pipeline = nlp_model, \n",
    "                    chunk_col = \"merged_chunk\", \n",
    "                    black_list = [\"AGE\", \"DATE\", \"PATIENT\"],\n",
    "                    style = box, \n",
    "                    save_dir = \"colored_box\", \n",
    "                    label= True, \n",
    "                    label_color = \"purple\", \n",
    "                    color_chart_path = \"label_colors.png\", \n",
    "                    display_result=True)"
   ]
  },
  {
   "cell_type": "markdown",
   "metadata": {
    "id": "9c2ieU57ymNf"
   },
   "source": [
    "### Highlighted Box"
   ]
  },
  {
   "cell_type": "code",
   "execution_count": null,
   "metadata": {
    "colab": {
     "base_uri": "https://localhost:8080/",
     "height": 1000
    },
    "executionInfo": {
     "elapsed": 13547,
     "status": "ok",
     "timestamp": 1672768395820,
     "user": {
      "displayName": "Monster C",
      "userId": "08787989274818793476"
     },
     "user_tz": -180
    },
    "id": "kD6A9D3k86NZ",
    "outputId": "4052ee36-d990-4f13-853f-36f076c30d35"
   },
   "outputs": [],
   "source": [
    "# Highlight with labels and black_list\n",
    "\n",
    "path='content/*.pdf'\n",
    "box = \"highlight\"\n",
    "\n",
    "ocr_entity_processor(spark=spark,\n",
    "                     file_path=path, \n",
    "                    ner_pipeline = nlp_model, \n",
    "                    chunk_col = \"merged_chunk\", \n",
    "                    black_list = [\"AGE\", \"DATE\", \"PATIENT\"],\n",
    "                    style = box, \n",
    "                    save_dir = \"colored_box\", \n",
    "                    label= True, \n",
    "                    label_color = \"red\", \n",
    "                    color_chart_path = \"label_colors.png\", \n",
    "                    display_result=True)"
   ]
  },
  {
   "cell_type": "code",
   "execution_count": null,
   "metadata": {
    "id": "ZXnARjpsvvJY",
    "colab": {
     "base_uri": "https://localhost:8080/",
     "height": 1000
    },
    "executionInfo": {
     "status": "ok",
     "timestamp": 1672768409988,
     "user_tz": -180,
     "elapsed": 14184,
     "user": {
      "displayName": "Monster C",
      "userId": "08787989274818793476"
     }
    },
    "outputId": "86fd6937-efa6-41b5-9efa-faf937d6a152"
   },
   "outputs": [],
   "source": [
    "# Highlight without labels and with black_list\n",
    "\n",
    "path='content/*.pdf'\n",
    "box = \"highlight\"\n",
    "\n",
    "ocr_entity_processor(spark=spark,\n",
    "                     file_path=path, \n",
    "                    ner_pipeline = nlp_model, \n",
    "                    chunk_col = \"merged_chunk\", \n",
    "                    black_list = [\"AGE\", \"DAte\", \"PATIENT\"],\n",
    "                    style = box, \n",
    "                    save_dir = \"colored_box\", \n",
    "                    label= False, \n",
    "                    label_color = \"red\", \n",
    "                    color_chart_path = \"label_colors.png\", \n",
    "                    display_result=True)"
   ]
  },
  {
   "cell_type": "code",
   "execution_count": null,
   "metadata": {
    "id": "IAhQ-1Cfw-0f",
    "colab": {
     "base_uri": "https://localhost:8080/",
     "height": 1000
    },
    "executionInfo": {
     "status": "ok",
     "timestamp": 1672768422256,
     "user_tz": -180,
     "elapsed": 12286,
     "user": {
      "displayName": "Monster C",
      "userId": "08787989274818793476"
     }
    },
    "outputId": "ca360bce-67f1-4aec-f260-a582742032d6"
   },
   "outputs": [],
   "source": [
    "# Highlight with labels and without black_list\n",
    "\n",
    "path='content/*.pdf'\n",
    "box = \"highlight\"\n",
    "\n",
    "ocr_entity_processor(spark=spark,\n",
    "                     file_path=path, \n",
    "                    ner_pipeline = nlp_model, \n",
    "                    chunk_col = \"merged_chunk\", \n",
    "                    style = box, \n",
    "                    save_dir = \"colored_box\", \n",
    "                    label= True, \n",
    "                    label_color = \"red\", \n",
    "                    color_chart_path = \"label_colors.png\", \n",
    "                    display_result=True)"
   ]
  },
  {
   "cell_type": "code",
   "execution_count": null,
   "metadata": {
    "colab": {
     "base_uri": "https://localhost:8080/"
    },
    "executionInfo": {
     "elapsed": 8310,
     "status": "ok",
     "timestamp": 1672768430550,
     "user": {
      "displayName": "Monster C",
      "userId": "08787989274818793476"
     },
     "user_tz": -180
    },
    "id": "ta3h-_VUhMEH",
    "outputId": "79bdb046-9503-4bb0-d829-3d7415368aee"
   },
   "outputs": [],
   "source": [
    "# Highlight without display\n",
    "\n",
    "path='content/*.pdf'\n",
    "box = \"highlight\"\n",
    "\n",
    "ocr_entity_processor(spark=spark,\n",
    "                     file_path=path, \n",
    "                    ner_pipeline = nlp_model, \n",
    "                    chunk_col = \"merged_chunk\", \n",
    "                    black_list = [\"AGE\", \"DAte\", \"PATIENT\"],\n",
    "                    style = box, \n",
    "                    save_dir = \"colored_box\", \n",
    "                    label= True, \n",
    "                    label_color = \"red\", \n",
    "                    color_chart_path = \"label_colors.png\", \n",
    "                    display_result=False)"
   ]
  },
  {
   "cell_type": "code",
   "execution_count": null,
   "metadata": {
    "id": "8MnvS1Y9_D-0",
    "colab": {
     "base_uri": "https://localhost:8080/",
     "height": 1000
    },
    "executionInfo": {
     "status": "ok",
     "timestamp": 1672768456972,
     "user_tz": -180,
     "elapsed": 26434,
     "user": {
      "displayName": "Monster C",
      "userId": "08787989274818793476"
     }
    },
    "outputId": "682bd4e6-2a06-4516-c9da-d8daa1e86c2c"
   },
   "outputs": [],
   "source": [
    "# Highlight change label color \n",
    "\n",
    "path='content/*.pdf'\n",
    "box = \"highlight\"\n",
    "\n",
    "ocr_entity_processor(spark=spark,\n",
    "                     file_path=path, \n",
    "                    ner_pipeline = nlp_model, \n",
    "                    chunk_col = \"merged_chunk\", \n",
    "                    black_list = [\"AGE\", \"DAte\", \"PATIENT\"],\n",
    "                    style = box, \n",
    "                    save_dir = \"colored_box\", \n",
    "                    label= True, \n",
    "                    label_color = \"purple\", \n",
    "                    color_chart_path = \"label_colors.png\", \n",
    "                    display_result=True)"
   ]
  }
 ],
 "metadata": {
  "accelerator": "TPU",
  "colab": {
   "machine_shape": "hm",
   "provenance": []
  },
  "gpuClass": "standard",
  "kernelspec": {
   "display_name": "Python 3",
   "name": "python3"
  },
  "language_info": {
   "name": "python"
  }
 },
 "nbformat": 4,
 "nbformat_minor": 0
}
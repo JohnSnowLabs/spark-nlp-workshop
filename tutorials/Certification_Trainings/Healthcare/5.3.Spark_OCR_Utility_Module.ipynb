{
 "cells": [
  {
   "cell_type": "markdown",
   "metadata": {
    "id": "Fztwcb2gheTG"
   },
   "source": [
    "![JohnSnowLabs](https://nlp.johnsnowlabs.com/assets/images/logo.png)"
   ]
  },
  {
   "cell_type": "markdown",
   "metadata": {
    "id": "bWTEVKq4wdfg"
   },
   "source": [
    "[![Open In Colab](https://colab.research.google.com/assets/colab-badge.svg)](https://colab.research.google.com/github/JohnSnowLabs/spark-nlp-workshop/blob/master/tutorials/Certification_Trainings/Healthcare/5.3.Spark_OCR_Utility_Module.ipynb)"
   ]
  },
  {
   "cell_type": "markdown",
   "metadata": {
    "id": "Gy9vovg7aIAX"
   },
   "source": [
    "# Setup"
   ]
  },
  {
   "cell_type": "code",
   "execution_count": null,
   "metadata": {
    "id": "MVf_2iqGIJ4B"
   },
   "outputs": [],
   "source": [
    "import json\n",
    "import os\n",
    "\n",
    "from google.colab import files\n",
    "\n",
    "if 'spark_jsl.json' not in os.listdir():\n",
    "  license_keys = files.upload()\n",
    "  os.rename(list(license_keys.keys())[0], 'spark_jsl.json')\n",
    "\n",
    "with open('spark_jsl.json') as f:\n",
    "    license_keys = json.load(f)\n",
    "\n",
    "# Defining license key-value pairs as local variables\n",
    "locals().update(license_keys)\n",
    "os.environ.update(license_keys)"
   ]
  },
  {
   "cell_type": "code",
   "execution_count": null,
   "metadata": {
    "colab": {
     "base_uri": "https://localhost:8080/"
    },
    "executionInfo": {
     "elapsed": 1723,
     "status": "ok",
     "timestamp": 1669990043950,
     "user": {
      "displayName": "Monster C",
      "userId": "08787989274818793476"
     },
     "user_tz": -180
    },
    "id": "-j76GOlFwlT3",
    "outputId": "fb2443a1-582d-41fa-adde-834574cdf979"
   },
   "outputs": [],
   "source": [
    "license_keys.keys()"
   ]
  },
  {
   "cell_type": "code",
   "execution_count": null,
   "metadata": {
    "id": "9s7fPgdVQkoE"
   },
   "outputs": [],
   "source": [
    "# Installing Spark OCR\n",
    "! pip install --upgrade -q spark-ocr==$OCR_VERSION --extra-index-url=https://pypi.johnsnowlabs.com/$SPARK_OCR_SECRET "
   ]
  },
  {
   "cell_type": "code",
   "execution_count": null,
   "metadata": {
    "id": "H5-MCAzrwrbr"
   },
   "outputs": [],
   "source": [
    "# Installing pyspark and spark-nlp\n",
    "! pip install --upgrade -q pyspark==3.2.1 spark-nlp==$PUBLIC_VERSION\n",
    "\n",
    "# Installing Spark NLP Healthcare\n",
    "! pip install --upgrade -q spark-nlp-jsl==$JSL_VERSION  --extra-index-url https://pypi.johnsnowlabs.com/$SECRET"
   ]
  },
  {
   "cell_type": "markdown",
   "metadata": {
    "id": "X31h1agcPBrh"
   },
   "source": [
    "<b><h1><font color='darkred'>!!! ATTENTION !!! </font><h1><b>\n",
    "\n",
    "<b>After running previous cell, <font color='darkred'>RESTART the COLAB RUNTIME </font> and go ahead.<b>"
   ]
  },
  {
   "cell_type": "code",
   "execution_count": null,
   "metadata": {
    "executionInfo": {
     "elapsed": 6,
     "status": "ok",
     "timestamp": 1669990155390,
     "user": {
      "displayName": "Monster C",
      "userId": "08787989274818793476"
     },
     "user_tz": -180
    },
    "id": "vB8RGlhAxosk"
   },
   "outputs": [],
   "source": [
    "import json\n",
    "import os\n",
    "\n",
    "from google.colab import files\n",
    "\n",
    "if 'spark_jsl.json' not in os.listdir():\n",
    "  license_keys = files.upload()\n",
    "  os.rename(list(license_keys.keys())[0], 'spark_jsl.json')\n",
    "\n",
    "with open('spark_jsl.json') as f:\n",
    "    license_keys = json.load(f)\n",
    "\n",
    "# Defining license key-value pairs as local variables\n",
    "locals().update(license_keys),\n",
    "os.environ.update(license_keys)"
   ]
  },
  {
   "cell_type": "code",
   "execution_count": null,
   "metadata": {
    "colab": {
     "base_uri": "https://localhost:8080/",
     "height": 313
    },
    "executionInfo": {
     "elapsed": 49359,
     "status": "ok",
     "timestamp": 1669990204745,
     "user": {
      "displayName": "Monster C",
      "userId": "08787989274818793476"
     },
     "user_tz": -180
    },
    "id": "qK5UBzv7nHOe",
    "outputId": "937b5562-6846-437a-d08b-cb7dce58f0b1"
   },
   "outputs": [],
   "source": [
    "import sys\n",
    "import os\n",
    "import base64\n",
    "import pkg_resources\n",
    "import pandas as pd\n",
    "import xml.etree.ElementTree as ET\n",
    "from lxml import etree\n",
    "import matplotlib.pyplot as plt\n",
    "from IPython.display import Image \n",
    "from PIL import Image, ImageFont, ImageDraw, ImageEnhance\n",
    "import re\n",
    "\n",
    "import sparknlp\n",
    "import sparknlp_jsl\n",
    "\n",
    "from sparknlp.base import *\n",
    "from sparknlp.annotator import *\n",
    "from sparknlp_jsl.annotator import *\n",
    "\n",
    "from pyspark.sql import SparkSession\n",
    "from pyspark.sql import functions as F\n",
    "from pyspark.ml import Pipeline, PipelineModel\n",
    "\n",
    "import sparkocr\n",
    "from sparkocr import start\n",
    "from sparkocr.enums import *\n",
    "from sparkocr.utils import display_images\n",
    "from sparkocr.transformers import *\n",
    "from sparkocr.enums import *\n",
    "from sparkocr.utils import display_image, display_images, to_pil_image\n",
    "from sparkocr.metrics import score\n",
    "\n",
    "spark = sparkocr.start(secret=SPARK_OCR_SECRET, \n",
    "                       nlp_version=PUBLIC_VERSION,\n",
    "                       nlp_secret=SECRET,\n",
    "                       nlp_internal=JSL_VERSION\n",
    "                       )\n",
    "spark"
   ]
  },
  {
   "cell_type": "code",
   "execution_count": null,
   "metadata": {
    "colab": {
     "base_uri": "https://localhost:8080/"
    },
    "executionInfo": {
     "elapsed": 8,
     "status": "ok",
     "timestamp": 1669990204745,
     "user": {
      "displayName": "Monster C",
      "userId": "08787989274818793476"
     },
     "user_tz": -180
    },
    "id": "dP1E8UB2bYpX",
    "outputId": "abdf59b3-3895-44cb-e4ed-395792ab3014"
   },
   "outputs": [],
   "source": [
    "spark.conf.set(\"spark.sql.legacy.allowUntypedScalaUDF\", True)\n",
    "print(spark.conf.get(\"spark.sql.legacy.allowUntypedScalaUDF\"))"
   ]
  },
  {
   "cell_type": "code",
   "execution_count": null,
   "metadata": {
    "executionInfo": {
     "elapsed": 8,
     "status": "ok",
     "timestamp": 1669990204746,
     "user": {
      "displayName": "Monster C",
      "userId": "08787989274818793476"
     },
     "user_tz": -180
    },
    "id": "k5akzeRoysm9"
   },
   "outputs": [],
   "source": [
    "!wget -q https://raw.githubusercontent.com/JohnSnowLabs/spark-nlp-workshop/master/tutorials/Certification_Trainings/Healthcare/data/ocr/MT_00.pdf -P content/"
   ]
  },
  {
   "cell_type": "markdown",
   "metadata": {
    "id": "qpYjpwmk_qaH"
   },
   "source": [
    "# NER Pipeline"
   ]
  },
  {
   "cell_type": "code",
   "execution_count": null,
   "metadata": {
    "colab": {
     "base_uri": "https://localhost:8080/"
    },
    "executionInfo": {
     "elapsed": 75017,
     "status": "ok",
     "timestamp": 1669990283028,
     "user": {
      "displayName": "Monster C",
      "userId": "08787989274818793476"
     },
     "user_tz": -180
    },
    "id": "PEWOV-1MEUt0",
    "outputId": "5a775f45-b3d0-497d-d0ac-76f4ee27aa1b"
   },
   "outputs": [],
   "source": [
    "document_assembler = DocumentAssembler() \\\n",
    "    .setInputCol(\"text\") \\\n",
    "    .setOutputCol(\"document\")\n",
    "\n",
    "# Sentence Detector annotator, processes various sentences per line\n",
    "sentence_detector = SentenceDetector() \\\n",
    "    .setInputCols([\"document\"]) \\\n",
    "    .setOutputCol(\"sentence\")\n",
    "\n",
    "tokenizer = Tokenizer() \\\n",
    "    .setInputCols([\"sentence\"]) \\\n",
    "    .setOutputCol(\"token\")\n",
    "\n",
    "# Clinical word embeddings\n",
    "word_embeddings = WordEmbeddingsModel.pretrained(\"embeddings_clinical\", \"en\", \"clinical/models\") \\\n",
    "    .setInputCols([\"sentence\", \"token\"]) \\\n",
    "    .setOutputCol(\"embeddings\")\n",
    "\n",
    "clinical_ner = MedicalNerModel.pretrained(\"ner_clinical\", \"en\", \"clinical/models\") \\\n",
    "    .setInputCols([\"sentence\", \"token\", \"embeddings\"]) \\\n",
    "    .setOutputCol(\"clinical_ner\")\n",
    "\n",
    "clinical_ner_converter = NerConverterInternal() \\\n",
    "    .setInputCols([\"sentence\", \"token\", \"clinical_ner\"]) \\\n",
    "    .setOutputCol(\"clinical_ner_chunk\") \\\n",
    "    .setBlackList([\"TREATMENT\"])\n",
    "\n",
    "posology_ner = MedicalNerModel.pretrained(\"ner_posology_large\", \"en\", \"clinical/models\") \\\n",
    "    .setInputCols([\"sentence\", \"token\", \"embeddings\"]) \\\n",
    "    .setOutputCol(\"posology_ner\")\n",
    "\n",
    "posology_ner_converter = NerConverterInternal() \\\n",
    "    .setInputCols([\"sentence\", \"token\", \"posology_ner\"]) \\\n",
    "    .setOutputCol(\"posology_ner_chunk\") \n",
    "\n",
    "deid_ner = MedicalNerModel.pretrained(\"ner_deid_subentity_augmented\", \"en\", \"clinical/models\") \\\n",
    "    .setInputCols([\"sentence\", \"token\", \"embeddings\"]) \\\n",
    "    .setOutputCol(\"deid_ner\")\n",
    "\n",
    "deid_ner_converter = NerConverterInternal() \\\n",
    "    .setInputCols([\"sentence\", \"token\", \"deid_ner\"]) \\\n",
    "    .setOutputCol(\"deid_ner_chunk\") \n",
    "\n",
    "chunk_merger = ChunkMergeApproach()\\\n",
    "    .setInputCols([\"clinical_ner_chunk\", \"posology_ner_chunk\", \"deid_ner_chunk\"])\\\n",
    "    .setOutputCol(\"merged_chunk\")\n",
    "\n",
    "nlp_pipeline = Pipeline(stages=[\n",
    "        document_assembler,\n",
    "        sentence_detector,\n",
    "        tokenizer,\n",
    "        word_embeddings,\n",
    "        clinical_ner,\n",
    "        clinical_ner_converter,\n",
    "        posology_ner,\n",
    "        posology_ner_converter,\n",
    "        deid_ner,\n",
    "        deid_ner_converter,\n",
    "        chunk_merger\n",
    "    ])\n",
    "empty_data = spark.createDataFrame([[\"\"]]).toDF(\"text\")\n",
    "nlp_model = nlp_pipeline.fit(empty_data)"
   ]
  },
  {
   "cell_type": "markdown",
   "metadata": {
    "id": "jS-T9jXsJm0b"
   },
   "source": [
    "# Module"
   ]
  },
  {
   "cell_type": "code",
   "execution_count": null,
   "metadata": {
    "executionInfo": {
     "elapsed": 271,
     "status": "ok",
     "timestamp": 1669990306134,
     "user": {
      "displayName": "Monster C",
      "userId": "08787989274818793476"
     },
     "user_tz": -180
    },
    "id": "6Eh0uX-ZZLVj"
   },
   "outputs": [],
   "source": [
    "from sparknlp_jsl.utils.ocr_nlp_processor import ocr_entity_processor"
   ]
  },
  {
   "cell_type": "markdown",
   "metadata": {
    "id": "-TJLOR99mL1i"
   },
   "source": [
    "### Description of the labels\n",
    "\n",
    "+ file_path = path to pdf file\n",
    "+ ner_pipeline = fitted NER pipeline, \n",
    "+ chunk_col = output col name of the NER pipeline, \n",
    "+ style = type of the process, \n",
    "+ save_path = path to save file, \n",
    "+ label= if True, labels show up \n",
    "+ label_color = color of the label \n",
    "+ display_result = show output\n",
    "+ black_list = labels that will be banded over (like PHI). Each label will be banded over with the assigned color.\n"
   ]
  },
  {
   "cell_type": "markdown",
   "metadata": {
    "id": "2NUNtzd2yfCX"
   },
   "source": [
    "### Black Box"
   ]
  },
  {
   "cell_type": "code",
   "execution_count": null,
   "metadata": {
    "colab": {
     "base_uri": "https://localhost:8080/"
    },
    "executionInfo": {
     "elapsed": 43500,
     "status": "ok",
     "timestamp": 1669990351655,
     "user": {
      "displayName": "Monster C",
      "userId": "08787989274818793476"
     },
     "user_tz": -180
    },
    "id": "nldJBq9rLjwU",
    "outputId": "c557b688-0c99-4365-b9ec-c2aa0856aa07"
   },
   "outputs": [],
   "source": [
    "# Black Band without display\n",
    "\n",
    "path='content/*.pdf'\n",
    "box = \"black_band\"\n",
    "\n",
    "# black_band\n",
    "ocr_entity_processor(spark=spark,\n",
    "                    file_path = path, \n",
    "                    ner_pipeline = nlp_model, \n",
    "                    chunk_col = \"merged_chunk\", \n",
    "                    style = box, \n",
    "                    save_dir = \"black_band\", \n",
    "                    label= True, \n",
    "                    label_color = \"red\", \n",
    "                    display_result = False)"
   ]
  },
  {
   "cell_type": "code",
   "execution_count": null,
   "metadata": {
    "colab": {
     "base_uri": "https://localhost:8080/",
     "height": 1000
    },
    "executionInfo": {
     "elapsed": 43767,
     "status": "ok",
     "timestamp": 1669990395418,
     "user": {
      "displayName": "Monster C",
      "userId": "08787989274818793476"
     },
     "user_tz": -180
    },
    "id": "XY8chSN4HwYi",
    "outputId": "aa41674b-83ba-4013-ad86-0e33571875d2"
   },
   "outputs": [],
   "source": [
    "# black_band with labels\n",
    "\n",
    "path='content/*.pdf'\n",
    "box = \"black_band\"\n",
    "\n",
    "ocr_entity_processor(spark=spark,\n",
    "                     file_path=path, \n",
    "                     ner_pipeline = nlp_model, \n",
    "                     chunk_col = \"merged_chunk\", \n",
    "                     style = box, \n",
    "                     save_dir = \"black_band\", \n",
    "                     label= True, label_color = \"red\", \n",
    "                     display_result = True)"
   ]
  },
  {
   "cell_type": "code",
   "execution_count": null,
   "metadata": {
    "colab": {
     "base_uri": "https://localhost:8080/",
     "height": 1000
    },
    "executionInfo": {
     "elapsed": 39075,
     "status": "ok",
     "timestamp": 1669990434480,
     "user": {
      "displayName": "Monster C",
      "userId": "08787989274818793476"
     },
     "user_tz": -180
    },
    "id": "hmP0JQVUwEw2",
    "outputId": "99ab758a-a35d-40f2-97c3-b584e25f31e4"
   },
   "outputs": [],
   "source": [
    "# black_band without labels\n",
    "\n",
    "path='content/*.pdf'\n",
    "box = \"black_band\"\n",
    "\n",
    "ocr_entity_processor(spark=spark,\n",
    "                    file_path=path, \n",
    "                    ner_pipeline = nlp_model, \n",
    "                    chunk_col = \"merged_chunk\", \n",
    "                    style = box, \n",
    "                    save_dir = \"black_band\", \n",
    "                    label= False, \n",
    "                    label_color = \"red\", \n",
    "                    display_result = True)"
   ]
  },
  {
   "cell_type": "markdown",
   "metadata": {
    "id": "3pcqxEe_yiCD"
   },
   "source": [
    "### Colored Box"
   ]
  },
  {
   "cell_type": "code",
   "execution_count": null,
   "metadata": {
    "colab": {
     "base_uri": "https://localhost:8080/",
     "height": 1000
    },
    "executionInfo": {
     "elapsed": 46688,
     "status": "ok",
     "timestamp": 1669990481157,
     "user": {
      "displayName": "Monster C",
      "userId": "08787989274818793476"
     },
     "user_tz": -180
    },
    "id": "b_fK194BicX_",
    "outputId": "4893f842-0c04-4d17-8ea0-81d4aa3dc555"
   },
   "outputs": [],
   "source": [
    "# BB with labels and black list\n",
    "\n",
    "path='content/*.pdf'\n",
    "box = \"bounding_box\"\n",
    "\n",
    "ocr_entity_processor(spark=spark,\n",
    "                     file_path=path, \n",
    "                    ner_pipeline = nlp_model, \n",
    "                    chunk_col = \"merged_chunk\", \n",
    "                    black_list = [\"AGE\", \"DAte\", \"PATIENT\"],\n",
    "                    style = box, \n",
    "                    save_dir = \"colored_box\", \n",
    "                    label= True, \n",
    "                    label_color = \"red\", \n",
    "                    color_chart_path = \"label_colors.png\", \n",
    "                    display_result=True)"
   ]
  },
  {
   "cell_type": "code",
   "execution_count": null,
   "metadata": {
    "colab": {
     "base_uri": "https://localhost:8080/",
     "height": 1000
    },
    "executionInfo": {
     "elapsed": 45596,
     "status": "ok",
     "timestamp": 1669990526745,
     "user": {
      "displayName": "Monster C",
      "userId": "08787989274818793476"
     },
     "user_tz": -180
    },
    "id": "8KxqWDkqahGD",
    "outputId": "68387b32-f252-4a71-efa3-7ea64399f6fa"
   },
   "outputs": [],
   "source": [
    "# BB with black list and without labels\n",
    "\n",
    "path='content/*.pdf'\n",
    "box = \"bounding_box\"\n",
    "\n",
    "ocr_entity_processor(spark=spark,\n",
    "                     file_path=path, \n",
    "                    ner_pipeline = nlp_model, \n",
    "                    chunk_col = \"merged_chunk\", \n",
    "                    black_list = [\"AGE\", \"DAte\", \"PATIENT\"],\n",
    "                    style = box, \n",
    "                    save_dir = \"colored_box\", \n",
    "                    label= False, \n",
    "                    label_color = \"red\", \n",
    "                    color_chart_path = \"label_colors.png\", \n",
    "                    display_result=True)"
   ]
  },
  {
   "cell_type": "code",
   "execution_count": null,
   "metadata": {
    "colab": {
     "base_uri": "https://localhost:8080/"
    },
    "executionInfo": {
     "elapsed": 16828,
     "status": "ok",
     "timestamp": 1669990543568,
     "user": {
      "displayName": "Monster C",
      "userId": "08787989274818793476"
     },
     "user_tz": -180
    },
    "id": "_UlzVYqXvHeV",
    "outputId": "38836612-c7c6-4e02-95e7-ef8ac2785fac"
   },
   "outputs": [],
   "source": [
    "# BB without display\n",
    "\n",
    "path='content/*.pdf'\n",
    "box = \"bounding_box\"\n",
    "\n",
    "ocr_entity_processor(spark=spark,\n",
    "                     file_path=path, \n",
    "                    ner_pipeline = nlp_model, \n",
    "                    chunk_col = \"merged_chunk\", \n",
    "                    black_list = [\"AGE\", \"DAte\", \"PATIENT\"],\n",
    "                    style = box, \n",
    "                    save_dir = \"colored_box\", \n",
    "                    label= True, \n",
    "                    label_color = \"red\", \n",
    "                    color_chart_path = \"label_colors.png\", \n",
    "                    display_result=False)"
   ]
  },
  {
   "cell_type": "code",
   "execution_count": null,
   "metadata": {
    "colab": {
     "base_uri": "https://localhost:8080/",
     "height": 1000
    },
    "executionInfo": {
     "elapsed": 45524,
     "status": "ok",
     "timestamp": 1669990589081,
     "user": {
      "displayName": "Monster C",
      "userId": "08787989274818793476"
     },
     "user_tz": -180
    },
    "id": "0SpgKZLdyoV-",
    "outputId": "83bc83af-f41c-4d9d-8d8f-44bb3fc4e3af"
   },
   "outputs": [],
   "source": [
    "# BB without black list\n",
    "\n",
    "path='content/*.pdf'\n",
    "box = \"bounding_box\"\n",
    "\n",
    "ocr_entity_processor(spark=spark,\n",
    "                     file_path=path, \n",
    "                    ner_pipeline = nlp_model, \n",
    "                    chunk_col = \"merged_chunk\", \n",
    "                    style = box, \n",
    "                    save_dir = \"colored_box\", \n",
    "                    label= True, \n",
    "                    label_color = \"red\", \n",
    "                    color_chart_path = \"label_colors.png\", \n",
    "                    display_result=True)"
   ]
  },
  {
   "cell_type": "code",
   "execution_count": null,
   "metadata": {
    "colab": {
     "base_uri": "https://localhost:8080/",
     "height": 1000
    },
    "executionInfo": {
     "elapsed": 36888,
     "status": "ok",
     "timestamp": 1669990625962,
     "user": {
      "displayName": "Monster C",
      "userId": "08787989274818793476"
     },
     "user_tz": -180
    },
    "id": "YxPAJ1u0lbje",
    "outputId": "da18ae54-0b43-4278-f217-8c99ad83fe53"
   },
   "outputs": [],
   "source": [
    "# BB label color test\n",
    "\n",
    "path='content/*.pdf'\n",
    "box = \"bounding_box\"\n",
    "\n",
    "ocr_entity_processor(spark=spark,\n",
    "                     file_path=path, \n",
    "                    ner_pipeline = nlp_model, \n",
    "                    chunk_col = \"merged_chunk\", \n",
    "                    black_list = [\"AGE\", \"DATE\", \"PATIENT\"],\n",
    "                    style = box, \n",
    "                    save_dir = \"colored_box\", \n",
    "                    label= True, \n",
    "                    label_color = \"red\", \n",
    "                    color_chart_path = \"label_colors.png\", \n",
    "                    display_result=True)"
   ]
  },
  {
   "cell_type": "markdown",
   "metadata": {
    "id": "9c2ieU57ymNf"
   },
   "source": [
    "### Highlighted Box"
   ]
  },
  {
   "cell_type": "code",
   "execution_count": null,
   "metadata": {
    "colab": {
     "base_uri": "https://localhost:8080/",
     "height": 1000
    },
    "executionInfo": {
     "elapsed": 40678,
     "status": "ok",
     "timestamp": 1669990666622,
     "user": {
      "displayName": "Monster C",
      "userId": "08787989274818793476"
     },
     "user_tz": -180
    },
    "id": "kD6A9D3k86NZ",
    "outputId": "e1e3f3d4-cfb7-4c87-ed63-deb336b3b75a"
   },
   "outputs": [],
   "source": [
    "# Highlight with labels and black_list\n",
    "\n",
    "path='content/*.pdf'\n",
    "box = \"highlight\"\n",
    "\n",
    "ocr_entity_processor(spark=spark,\n",
    "                     file_path=path, \n",
    "                    ner_pipeline = nlp_model, \n",
    "                    chunk_col = \"merged_chunk\", \n",
    "                    black_list = [\"AGE\", \"DATE\", \"PATIENT\"],\n",
    "                    style = box, \n",
    "                    save_dir = \"colored_box\", \n",
    "                    label= True, \n",
    "                    label_color = \"red\", \n",
    "                    color_chart_path = \"label_colors.png\", \n",
    "                    display_result=True)"
   ]
  },
  {
   "cell_type": "code",
   "execution_count": null,
   "metadata": {
    "colab": {
     "base_uri": "https://localhost:8080/",
     "height": 1000
    },
    "executionInfo": {
     "elapsed": 39645,
     "status": "ok",
     "timestamp": 1669990706252,
     "user": {
      "displayName": "Monster C",
      "userId": "08787989274818793476"
     },
     "user_tz": -180
    },
    "id": "ZXnARjpsvvJY",
    "outputId": "52b9a945-aee7-4d61-9422-f1f9413f1023"
   },
   "outputs": [],
   "source": [
    "# Highlight without labels and with black_list\n",
    "\n",
    "path='content/*.pdf'\n",
    "box = \"highlight\"\n",
    "\n",
    "ocr_entity_processor(spark=spark,\n",
    "                     file_path=path, \n",
    "                    ner_pipeline = nlp_model, \n",
    "                    chunk_col = \"merged_chunk\", \n",
    "                    black_list = [\"AGE\", \"DAte\", \"PATIENT\"],\n",
    "                    style = box, \n",
    "                    save_dir = \"colored_box\", \n",
    "                    label= False, \n",
    "                    label_color = \"red\", \n",
    "                    color_chart_path = \"label_colors.png\", \n",
    "                    display_result=True)"
   ]
  },
  {
   "cell_type": "code",
   "execution_count": null,
   "metadata": {
    "colab": {
     "base_uri": "https://localhost:8080/",
     "height": 1000
    },
    "executionInfo": {
     "elapsed": 41093,
     "status": "ok",
     "timestamp": 1669990747320,
     "user": {
      "displayName": "Monster C",
      "userId": "08787989274818793476"
     },
     "user_tz": -180
    },
    "id": "IAhQ-1Cfw-0f",
    "outputId": "8ea8a171-d687-4c82-b8c5-ac0513e165ec"
   },
   "outputs": [],
   "source": [
    "# Highlight with labels and without black_list\n",
    "\n",
    "path='content/*.pdf'\n",
    "box = \"highlight\"\n",
    "\n",
    "ocr_entity_processor(spark=spark,\n",
    "                     file_path=path, \n",
    "                    ner_pipeline = nlp_model, \n",
    "                    chunk_col = \"merged_chunk\", \n",
    "                    style = box, \n",
    "                    save_dir = \"colored_box\", \n",
    "                    label= True, \n",
    "                    label_color = \"red\", \n",
    "                    color_chart_path = \"label_colors.png\", \n",
    "                    display_result=True)"
   ]
  },
  {
   "cell_type": "code",
   "execution_count": null,
   "metadata": {
    "colab": {
     "base_uri": "https://localhost:8080/"
    },
    "executionInfo": {
     "elapsed": 30671,
     "status": "ok",
     "timestamp": 1669990777972,
     "user": {
      "displayName": "Monster C",
      "userId": "08787989274818793476"
     },
     "user_tz": -180
    },
    "id": "ta3h-_VUhMEH",
    "outputId": "8f9067c7-4c7d-494e-c17b-d4d214aaf9aa"
   },
   "outputs": [],
   "source": [
    "# Highlight without display\n",
    "\n",
    "path='content/*.pdf'\n",
    "box = \"highlight\"\n",
    "\n",
    "ocr_entity_processor(spark=spark,\n",
    "                     file_path=path, \n",
    "                    ner_pipeline = nlp_model, \n",
    "                    chunk_col = \"merged_chunk\", \n",
    "                    black_list = [\"AGE\", \"DAte\", \"PATIENT\"],\n",
    "                    style = box, \n",
    "                    save_dir = \"colored_box\", \n",
    "                    label= True, \n",
    "                    label_color = \"red\", \n",
    "                    color_chart_path = \"label_colors.png\", \n",
    "                    display_result=False)"
   ]
  },
  {
   "cell_type": "code",
   "execution_count": null,
   "metadata": {
    "colab": {
     "base_uri": "https://localhost:8080/",
     "height": 1000
    },
    "executionInfo": {
     "elapsed": 42941,
     "status": "ok",
     "timestamp": 1669990820899,
     "user": {
      "displayName": "Monster C",
      "userId": "08787989274818793476"
     },
     "user_tz": -180
    },
    "id": "8MnvS1Y9_D-0",
    "outputId": "963fcd82-edb7-4924-a2a7-5d5b8a49ebb5"
   },
   "outputs": [],
   "source": [
    "# Highlight label color test\n",
    "\n",
    "path='content/*.pdf'\n",
    "box = \"highlight\"\n",
    "\n",
    "ocr_entity_processor(spark=spark,\n",
    "                     file_path=path, \n",
    "                    ner_pipeline = nlp_model, \n",
    "                    chunk_col = \"merged_chunk\", \n",
    "                    black_list = [\"AGE\", \"DAte\", \"PATIENT\"],\n",
    "                    style = box, \n",
    "                    save_dir = \"colored_box\", \n",
    "                    label= True, \n",
    "                    label_color = \"red\", \n",
    "                    color_chart_path = \"label_colors.png\", \n",
    "                    display_result=True)"
   ]
  }
 ],
 "metadata": {
  "accelerator": "TPU",
  "colab": {
   "machine_shape": "hm",
   "provenance": [],
   "toc_visible": true
  },
  "gpuClass": "standard",
  "kernelspec": {
   "display_name": "Python 3",
   "name": "python3"
  },
  "language_info": {
   "name": "python"
  }
 },
 "nbformat": 4,
 "nbformat_minor": 0
}
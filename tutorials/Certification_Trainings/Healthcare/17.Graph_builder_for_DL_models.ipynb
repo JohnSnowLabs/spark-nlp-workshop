{
  "nbformat": 4,
  "nbformat_minor": 0,
  "metadata": {
    "colab": {
      "name": "17.Graph_builder_for_DL_models.ipynb",
      "provenance": [],
      "collapsed_sections": []
    },
    "kernelspec": {
      "display_name": "Python 3",
      "language": "python",
      "name": "python3"
    },
    "language_info": {
      "codemirror_mode": {
        "name": "ipython",
        "version": 3
      },
      "file_extension": ".py",
      "mimetype": "text/x-python",
      "name": "python",
      "nbconvert_exporter": "python",
      "pygments_lexer": "ipython3",
      "version": "3.7.4"
    }
  },
  "cells": [
    {
      "cell_type": "markdown",
      "metadata": {
        "id": "5bHs35r8vp4O"
      },
      "source": [
        "![JohnSnowLabs](https://nlp.johnsnowlabs.com/assets/images/logo.png)"
      ]
    },
    {
      "cell_type": "markdown",
      "metadata": {
        "id": "bpXE1HYWvwIP"
      },
      "source": [
        "[![Open In Colab](https://colab.research.google.com/assets/colab-badge.svg)](https://colab.research.google.com/github/JohnSnowLabs/spark-nlp-workshop/blob/master/tutorials/Certification_Trainings/Healthcare/17.Graph_builder_for_DL_models.ipynb)"
      ]
    },
    {
      "cell_type": "code",
      "metadata": {
        "id": "LPvDMna9-lEA"
      },
      "source": [
        "import json, os\n",
        "\n",
        "from google.colab import files\n",
        "\n",
        "license_keys = files.upload()\n",
        "\n",
        "with open(list(license_keys.keys())[0]) as f:\n",
        "    license_keys = json.load(f)\n",
        "\n",
        "# Defining license key-value pairs as local variables\n",
        "locals().update(license_keys)\n",
        "\n",
        "# Adding license key-value pairs to environment variables\n",
        "os.environ.update(license_keys)"
      ],
      "execution_count": null,
      "outputs": []
    },
    {
      "cell_type": "code",
      "metadata": {
        "id": "Mqav-nsJOPkO"
      },
      "source": [
        "# Installing pyspark and spark-nlp\n",
        "! pip install --upgrade -q pyspark==3.1.2 spark-nlp==$PUBLIC_VERSION\n",
        "\n",
        "# Installing Spark NLP Healthcare\n",
        "! pip install --upgrade -q spark-nlp-jsl==$JSL_VERSION  --extra-index-url https://pypi.johnsnowlabs.com/$SECRET"
      ],
      "execution_count": null,
      "outputs": []
    },
    {
      "cell_type": "code",
      "metadata": {
        "id": "WEreWOOOtANE"
      },
      "source": [
        "from sparknlp_jsl.training import tf_graph\n",
        "\n",
        "\n",
        "# before sparknlp_jsl 3.2.1 version run the code below\n",
        "# %tensorflow_version 1.x"
      ],
      "execution_count": null,
      "outputs": []
    },
    {
      "cell_type": "code",
      "metadata": {
        "colab": {
          "base_uri": "https://localhost:8080/"
        },
        "id": "JN0iIGRAtI_w",
        "outputId": "aba910d0-d1d7-4d4b-e2f7-492a7a36ee48"
      },
      "source": [
        "tf_graph.get_models()\n"
      ],
      "execution_count": null,
      "outputs": [
        {
          "output_type": "execute_result",
          "data": {
            "text/plain": [
              "['ner_dl', 'generic_classifier', 'assertion_dl', 'relation_extraction']"
            ]
          },
          "metadata": {},
          "execution_count": 5
        }
      ]
    },
    {
      "cell_type": "code",
      "metadata": {
        "colab": {
          "base_uri": "https://localhost:8080/"
        },
        "id": "2b0M2oYqEBHW",
        "outputId": "20d02bf2-6d7d-486e-d2dd-7004f050c118"
      },
      "source": [
        "!pip install -q tensorflow_addons"
      ],
      "execution_count": null,
      "outputs": [
        {
          "output_type": "stream",
          "name": "stdout",
          "text": [
            "\u001b[?25l\r\u001b[K     |▎                               | 10 kB 26.1 MB/s eta 0:00:01\r\u001b[K     |▋                               | 20 kB 29.3 MB/s eta 0:00:01\r\u001b[K     |▉                               | 30 kB 20.1 MB/s eta 0:00:01\r\u001b[K     |█▏                              | 40 kB 17.2 MB/s eta 0:00:01\r\u001b[K     |█▌                              | 51 kB 6.9 MB/s eta 0:00:01\r\u001b[K     |█▊                              | 61 kB 7.3 MB/s eta 0:00:01\r\u001b[K     |██                              | 71 kB 6.7 MB/s eta 0:00:01\r\u001b[K     |██▍                             | 81 kB 7.5 MB/s eta 0:00:01\r\u001b[K     |██▋                             | 92 kB 7.8 MB/s eta 0:00:01\r\u001b[K     |███                             | 102 kB 6.6 MB/s eta 0:00:01\r\u001b[K     |███▎                            | 112 kB 6.6 MB/s eta 0:00:01\r\u001b[K     |███▌                            | 122 kB 6.6 MB/s eta 0:00:01\r\u001b[K     |███▉                            | 133 kB 6.6 MB/s eta 0:00:01\r\u001b[K     |████▏                           | 143 kB 6.6 MB/s eta 0:00:01\r\u001b[K     |████▍                           | 153 kB 6.6 MB/s eta 0:00:01\r\u001b[K     |████▊                           | 163 kB 6.6 MB/s eta 0:00:01\r\u001b[K     |█████                           | 174 kB 6.6 MB/s eta 0:00:01\r\u001b[K     |█████▎                          | 184 kB 6.6 MB/s eta 0:00:01\r\u001b[K     |█████▋                          | 194 kB 6.6 MB/s eta 0:00:01\r\u001b[K     |██████                          | 204 kB 6.6 MB/s eta 0:00:01\r\u001b[K     |██████▏                         | 215 kB 6.6 MB/s eta 0:00:01\r\u001b[K     |██████▌                         | 225 kB 6.6 MB/s eta 0:00:01\r\u001b[K     |██████▉                         | 235 kB 6.6 MB/s eta 0:00:01\r\u001b[K     |███████                         | 245 kB 6.6 MB/s eta 0:00:01\r\u001b[K     |███████▍                        | 256 kB 6.6 MB/s eta 0:00:01\r\u001b[K     |███████▊                        | 266 kB 6.6 MB/s eta 0:00:01\r\u001b[K     |████████                        | 276 kB 6.6 MB/s eta 0:00:01\r\u001b[K     |████████▎                       | 286 kB 6.6 MB/s eta 0:00:01\r\u001b[K     |████████▋                       | 296 kB 6.6 MB/s eta 0:00:01\r\u001b[K     |████████▉                       | 307 kB 6.6 MB/s eta 0:00:01\r\u001b[K     |█████████▏                      | 317 kB 6.6 MB/s eta 0:00:01\r\u001b[K     |█████████▌                      | 327 kB 6.6 MB/s eta 0:00:01\r\u001b[K     |█████████▊                      | 337 kB 6.6 MB/s eta 0:00:01\r\u001b[K     |██████████                      | 348 kB 6.6 MB/s eta 0:00:01\r\u001b[K     |██████████▍                     | 358 kB 6.6 MB/s eta 0:00:01\r\u001b[K     |██████████▋                     | 368 kB 6.6 MB/s eta 0:00:01\r\u001b[K     |███████████                     | 378 kB 6.6 MB/s eta 0:00:01\r\u001b[K     |███████████▎                    | 389 kB 6.6 MB/s eta 0:00:01\r\u001b[K     |███████████▌                    | 399 kB 6.6 MB/s eta 0:00:01\r\u001b[K     |███████████▉                    | 409 kB 6.6 MB/s eta 0:00:01\r\u001b[K     |████████████▏                   | 419 kB 6.6 MB/s eta 0:00:01\r\u001b[K     |████████████▍                   | 430 kB 6.6 MB/s eta 0:00:01\r\u001b[K     |████████████▊                   | 440 kB 6.6 MB/s eta 0:00:01\r\u001b[K     |█████████████                   | 450 kB 6.6 MB/s eta 0:00:01\r\u001b[K     |█████████████▎                  | 460 kB 6.6 MB/s eta 0:00:01\r\u001b[K     |█████████████▋                  | 471 kB 6.6 MB/s eta 0:00:01\r\u001b[K     |██████████████                  | 481 kB 6.6 MB/s eta 0:00:01\r\u001b[K     |██████████████▏                 | 491 kB 6.6 MB/s eta 0:00:01\r\u001b[K     |██████████████▌                 | 501 kB 6.6 MB/s eta 0:00:01\r\u001b[K     |██████████████▉                 | 512 kB 6.6 MB/s eta 0:00:01\r\u001b[K     |███████████████                 | 522 kB 6.6 MB/s eta 0:00:01\r\u001b[K     |███████████████▍                | 532 kB 6.6 MB/s eta 0:00:01\r\u001b[K     |███████████████▊                | 542 kB 6.6 MB/s eta 0:00:01\r\u001b[K     |████████████████                | 552 kB 6.6 MB/s eta 0:00:01\r\u001b[K     |████████████████▎               | 563 kB 6.6 MB/s eta 0:00:01\r\u001b[K     |████████████████▋               | 573 kB 6.6 MB/s eta 0:00:01\r\u001b[K     |████████████████▉               | 583 kB 6.6 MB/s eta 0:00:01\r\u001b[K     |█████████████████▏              | 593 kB 6.6 MB/s eta 0:00:01\r\u001b[K     |█████████████████▌              | 604 kB 6.6 MB/s eta 0:00:01\r\u001b[K     |█████████████████▊              | 614 kB 6.6 MB/s eta 0:00:01\r\u001b[K     |██████████████████              | 624 kB 6.6 MB/s eta 0:00:01\r\u001b[K     |██████████████████▍             | 634 kB 6.6 MB/s eta 0:00:01\r\u001b[K     |██████████████████▋             | 645 kB 6.6 MB/s eta 0:00:01\r\u001b[K     |███████████████████             | 655 kB 6.6 MB/s eta 0:00:01\r\u001b[K     |███████████████████▎            | 665 kB 6.6 MB/s eta 0:00:01\r\u001b[K     |███████████████████▌            | 675 kB 6.6 MB/s eta 0:00:01\r\u001b[K     |███████████████████▉            | 686 kB 6.6 MB/s eta 0:00:01\r\u001b[K     |████████████████████▏           | 696 kB 6.6 MB/s eta 0:00:01\r\u001b[K     |████████████████████▍           | 706 kB 6.6 MB/s eta 0:00:01\r\u001b[K     |████████████████████▊           | 716 kB 6.6 MB/s eta 0:00:01\r\u001b[K     |█████████████████████           | 727 kB 6.6 MB/s eta 0:00:01\r\u001b[K     |█████████████████████▎          | 737 kB 6.6 MB/s eta 0:00:01\r\u001b[K     |█████████████████████▋          | 747 kB 6.6 MB/s eta 0:00:01\r\u001b[K     |██████████████████████          | 757 kB 6.6 MB/s eta 0:00:01\r\u001b[K     |██████████████████████▏         | 768 kB 6.6 MB/s eta 0:00:01\r\u001b[K     |██████████████████████▌         | 778 kB 6.6 MB/s eta 0:00:01\r\u001b[K     |██████████████████████▉         | 788 kB 6.6 MB/s eta 0:00:01\r\u001b[K     |███████████████████████         | 798 kB 6.6 MB/s eta 0:00:01\r\u001b[K     |███████████████████████▍        | 808 kB 6.6 MB/s eta 0:00:01\r\u001b[K     |███████████████████████▊        | 819 kB 6.6 MB/s eta 0:00:01\r\u001b[K     |████████████████████████        | 829 kB 6.6 MB/s eta 0:00:01\r\u001b[K     |████████████████████████▎       | 839 kB 6.6 MB/s eta 0:00:01\r\u001b[K     |████████████████████████▋       | 849 kB 6.6 MB/s eta 0:00:01\r\u001b[K     |████████████████████████▉       | 860 kB 6.6 MB/s eta 0:00:01\r\u001b[K     |█████████████████████████▏      | 870 kB 6.6 MB/s eta 0:00:01\r\u001b[K     |█████████████████████████▍      | 880 kB 6.6 MB/s eta 0:00:01\r\u001b[K     |█████████████████████████▊      | 890 kB 6.6 MB/s eta 0:00:01\r\u001b[K     |██████████████████████████      | 901 kB 6.6 MB/s eta 0:00:01\r\u001b[K     |██████████████████████████▎     | 911 kB 6.6 MB/s eta 0:00:01\r\u001b[K     |██████████████████████████▋     | 921 kB 6.6 MB/s eta 0:00:01\r\u001b[K     |███████████████████████████     | 931 kB 6.6 MB/s eta 0:00:01\r\u001b[K     |███████████████████████████▏    | 942 kB 6.6 MB/s eta 0:00:01\r\u001b[K     |███████████████████████████▌    | 952 kB 6.6 MB/s eta 0:00:01\r\u001b[K     |███████████████████████████▉    | 962 kB 6.6 MB/s eta 0:00:01\r\u001b[K     |████████████████████████████    | 972 kB 6.6 MB/s eta 0:00:01\r\u001b[K     |████████████████████████████▍   | 983 kB 6.6 MB/s eta 0:00:01\r\u001b[K     |████████████████████████████▊   | 993 kB 6.6 MB/s eta 0:00:01\r\u001b[K     |█████████████████████████████   | 1.0 MB 6.6 MB/s eta 0:00:01\r\u001b[K     |█████████████████████████████▎  | 1.0 MB 6.6 MB/s eta 0:00:01\r\u001b[K     |█████████████████████████████▋  | 1.0 MB 6.6 MB/s eta 0:00:01\r\u001b[K     |█████████████████████████████▉  | 1.0 MB 6.6 MB/s eta 0:00:01\r\u001b[K     |██████████████████████████████▏ | 1.0 MB 6.6 MB/s eta 0:00:01\r\u001b[K     |██████████████████████████████▌ | 1.1 MB 6.6 MB/s eta 0:00:01\r\u001b[K     |██████████████████████████████▊ | 1.1 MB 6.6 MB/s eta 0:00:01\r\u001b[K     |███████████████████████████████ | 1.1 MB 6.6 MB/s eta 0:00:01\r\u001b[K     |███████████████████████████████▍| 1.1 MB 6.6 MB/s eta 0:00:01\r\u001b[K     |███████████████████████████████▋| 1.1 MB 6.6 MB/s eta 0:00:01\r\u001b[K     |████████████████████████████████| 1.1 MB 6.6 MB/s eta 0:00:01\r\u001b[K     |████████████████████████████████| 1.1 MB 6.6 MB/s \n",
            "\u001b[?25h"
          ]
        }
      ]
    },
    {
      "cell_type": "markdown",
      "metadata": {
        "id": "PmLZFHewvapj"
      },
      "source": [
        "## NER_DL"
      ]
    },
    {
      "cell_type": "code",
      "metadata": {
        "colab": {
          "base_uri": "https://localhost:8080/"
        },
        "id": "FNW8EJ-ht7-4",
        "outputId": "73795cfe-45fc-4f79-cbe6-6df4ea4668a7"
      },
      "source": [
        "tf_graph.print_model_params(\"ner_dl\")"
      ],
      "execution_count": null,
      "outputs": [
        {
          "output_type": "stream",
          "name": "stdout",
          "text": [
            "ner_dl parameters.\n",
            "Parameter            Required   Default value        Description\n",
            "ntags                yes        -                    Number of tags.\n",
            "embeddings_dim       no         200                  Embeddings dimension.\n",
            "nchars               no         100                  Number of chars.\n",
            "lstm_size            no         128                  Number of LSTM units.\n",
            "gpu_device           no         0                    Device for training.\n",
            "is_medical           no         0                    Build a Medical Ner graph.\n"
          ]
        }
      ]
    },
    {
      "cell_type": "code",
      "metadata": {
        "id": "jPOjkADCt9U8",
        "colab": {
          "base_uri": "https://localhost:8080/"
        },
        "outputId": "8bd73ede-5639-4f7c-aaad-4b3bdf780345"
      },
      "source": [
        "tf_graph.build(\"ner_dl\",build_params={\"embeddings_dim\": 200, \"nchars\": 80, \"ntags\": 12, \"is_medical\": 1}, model_location=\"./medical_ner_graphs\", model_filename=\"auto\")"
      ],
      "execution_count": null,
      "outputs": [
        {
          "output_type": "stream",
          "name": "stderr",
          "text": [
            "/usr/local/lib/python3.7/dist-packages/tensorflow/python/keras/engine/base_layer_v1.py:1702: UserWarning: `layer.add_variable` is deprecated and will be removed in a future version. Please use `layer.add_weight` method instead.\n",
            "  warnings.warn('`layer.add_variable` is deprecated and '\n",
            "/usr/local/lib/python3.7/dist-packages/tensorflow_addons/text/crf.py:546: UserWarning: CRF decoding models have serialization issues in TF >=2.5 . Please see isse #2476\n",
            "  \"CRF decoding models have serialization issues in TF >=2.5 . Please see isse #2476\"\n"
          ]
        },
        {
          "output_type": "stream",
          "name": "stdout",
          "text": [
            "ner_dl graph exported to ./medical_ner_graphs/blstm_12_200_128_80.pb\n"
          ]
        }
      ]
    },
    {
      "cell_type": "markdown",
      "metadata": {
        "id": "peKE7_zLvdwg"
      },
      "source": [
        "## AssertionDL"
      ]
    },
    {
      "cell_type": "code",
      "metadata": {
        "colab": {
          "base_uri": "https://localhost:8080/"
        },
        "id": "92En8saVuGRk",
        "outputId": "dc29e2ce-5241-40fa-f24b-6041d7de7b28"
      },
      "source": [
        "tf_graph.print_model_params(\"assertion_dl\")\n"
      ],
      "execution_count": null,
      "outputs": [
        {
          "output_type": "stream",
          "name": "stdout",
          "text": [
            "assertion_dl parameters.\n",
            "Parameter            Required   Default value        Description\n",
            "max_seq_len          no         250                  Maximum sequence length.\n",
            "feat_size            no         200                  Feature size.\n",
            "n_classes            yes        -                    Number of classes.\n",
            "device               no         /cpu:0               Device for training.\n",
            "n_hidden             no         34                   Number of hidden units.\n"
          ]
        }
      ]
    },
    {
      "cell_type": "code",
      "metadata": {
        "id": "FZ0aQhKnuxxC",
        "colab": {
          "base_uri": "https://localhost:8080/"
        },
        "outputId": "6acc4d88-f537-43b8-f05d-3a4479e6c6b8"
      },
      "source": [
        "tf_graph.build(\"assertion_dl\",build_params={\"n_classes\": 10}, model_location=\"/tmp\", model_filename=\"auto\")"
      ],
      "execution_count": null,
      "outputs": [
        {
          "output_type": "stream",
          "name": "stdout",
          "text": [
            "Device mapping: no known devices.\n"
          ]
        },
        {
          "output_type": "stream",
          "name": "stderr",
          "text": [
            "/usr/local/lib/python3.7/dist-packages/tensorflow/python/keras/layers/legacy_rnn/rnn_cell_impl.py:715: UserWarning: `tf.nn.rnn_cell.BasicLSTMCell` is deprecated and will be removed in a future version. This class is equivalent as `tf.keras.layers.LSTMCell`, and will be replaced by that in Tensorflow 2.0.\n",
            "  warnings.warn(\"`tf.nn.rnn_cell.BasicLSTMCell` is deprecated and will be \"\n",
            "/usr/local/lib/python3.7/dist-packages/tensorflow/python/keras/engine/base_layer_v1.py:1702: UserWarning: `layer.add_variable` is deprecated and will be removed in a future version. Please use `layer.add_weight` method instead.\n",
            "  warnings.warn('`layer.add_variable` is deprecated and '\n"
          ]
        },
        {
          "output_type": "stream",
          "name": "stdout",
          "text": [
            "assertion_dl graph exported to /tmp/blstm_34_32_30_200_10.pb\n"
          ]
        }
      ]
    },
    {
      "cell_type": "markdown",
      "metadata": {
        "id": "DUb9viOAvgcj"
      },
      "source": [
        "## GenericClassifier"
      ]
    },
    {
      "cell_type": "code",
      "metadata": {
        "colab": {
          "base_uri": "https://localhost:8080/"
        },
        "id": "u9pi5wt9uzDM",
        "outputId": "e42c3c23-ad9e-454f-8373-2851d801bc33"
      },
      "source": [
        "tf_graph.print_model_params(\"generic_classifier\")"
      ],
      "execution_count": null,
      "outputs": [
        {
          "output_type": "stream",
          "name": "stdout",
          "text": [
            "generic_classifier parameters.\n",
            "Parameter            Required   Default value        Description\n",
            "hidden_layers        no         [200]                List of integers indicating the size of each hidden layer. For example: [100, 200, 300].\n",
            "input_dim            yes        -                    Input dimension.\n",
            "output_dim           yes        -                    Output dimension.\n",
            "hidden_act           no         relu                 Activation function of hidden layers: relu, sigmoid, tanh or linear.\n",
            "hidden_act_l2        no         0                    L2 regularization of hidden layer activations. Boolean (0 or 1).\n",
            "hidden_weights_l2    no         0                    L2 regularization of hidden layer weights. Boolean (0 or 1).\n",
            "batch_norm           no         0                    Batch normalization. Boolean (0 or 1).\n"
          ]
        }
      ]
    },
    {
      "cell_type": "code",
      "metadata": {
        "colab": {
          "base_uri": "https://localhost:8080/"
        },
        "id": "ZGJTbbjvvO-P",
        "outputId": "d366ab05-6875-4690-abbb-b4f6ad98afde"
      },
      "source": [
        "tf_graph.build(\"generic_classifier\",build_params={\"input_dim\": 100, \"output_dim\": 10, \"hidden_layers\": [300, 200, 100], \"hidden_act\": \"tanh\"}, model_location=\"/tmp\", model_filename=\"auto\")"
      ],
      "execution_count": null,
      "outputs": [
        {
          "output_type": "stream",
          "name": "stdout",
          "text": [
            "generic_classifier graph exported to /tmp/gcl.100.10.pb\n"
          ]
        }
      ]
    },
    {
      "cell_type": "markdown",
      "metadata": {
        "id": "hVJ4-hNHvjVU"
      },
      "source": [
        "## RelationExtraction"
      ]
    },
    {
      "cell_type": "code",
      "metadata": {
        "colab": {
          "base_uri": "https://localhost:8080/"
        },
        "id": "ib9kczwzvQkQ",
        "outputId": "39b94a48-05d2-4bf4-bc8a-c12b5de861e6"
      },
      "source": [
        "tf_graph.print_model_params(\"relation_extraction\")"
      ],
      "execution_count": null,
      "outputs": [
        {
          "output_type": "stream",
          "name": "stdout",
          "text": [
            "relation_extraction parameters.\n",
            "Parameter            Required   Default value        Description\n",
            "hidden_layers        no         [200]                List of integers indicating the size of each hidden layer. For example: [100, 200, 300].\n",
            "input_dim            yes        -                    Input dimension.\n",
            "output_dim           yes        -                    Output dimension.\n",
            "hidden_act           no         relu                 Activation function of hidden layers: relu, sigmoid, tanh or linear.\n",
            "hidden_act_l2        no         0                    L2 regularization of hidden layer activations. Boolean (0 or 1).\n",
            "hidden_weights_l2    no         0                    L2 regularization of hidden layer weights. Boolean (0 or 1).\n",
            "batch_norm           no         0                    Batch normalization. Boolean (0 or 1).\n"
          ]
        }
      ]
    },
    {
      "cell_type": "code",
      "metadata": {
        "colab": {
          "base_uri": "https://localhost:8080/"
        },
        "id": "uoa_et-YvTmc",
        "outputId": "747191fb-22be-4cd1-eb78-257b1b087396"
      },
      "source": [
        "tf_graph.build(\"relation_extraction\",build_params={\"input_dim\": 6000, \"output_dim\": 3, 'batch_norm':1, \"hidden_layers\": [300, 200], \"hidden_act\": \"relu\", 'hidden_act_l2':1}, model_location=\".\", model_filename=\"re_with_BN\")"
      ],
      "execution_count": null,
      "outputs": [
        {
          "output_type": "stream",
          "name": "stdout",
          "text": [
            "relation_extraction graph exported to ./re_with_BN\n"
          ]
        }
      ]
    }
  ]
}
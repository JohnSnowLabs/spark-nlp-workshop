{
  "cells": [
    {
      "cell_type": "markdown",
      "metadata": {
        "id": "JWCwiy5flBq7"
      },
      "source": [
        "![JohnSnowLabs](https://nlp.johnsnowlabs.com/assets/images/logo.png)\n"
      ]
    },
    {
      "attachments": {},
      "cell_type": "markdown",
      "metadata": {
        "id": "WwQqbVm4r_hV"
      },
      "source": [
        "[![Open In Colab](https://colab.research.google.com/assets/colab-badge.svg)](https://colab.research.google.com/github/JohnSnowLabs/spark-nlp-workshop/blob/master/tutorials/Certification_Trainings/Healthcare/33.1.Medical_Text_Generation.ipynb)\n"
      ]
    },
    {
      "cell_type": "markdown",
      "metadata": {
        "id": "5hzypXmUlNYC"
      },
      "source": [
        "# **Medical Text Generation**"
      ]
    },
    {
      "cell_type": "markdown",
      "metadata": {
        "id": "cR1mia8SxJVA"
      },
      "source": [
        "MedicalTextGenerator uses the basic BioGPT model to perform various tasks related to medical text abstraction. With this annotator, a user can provide a prompt and context and instruct the system to perform a specific task, such as explaining why a patient may have a particular disease or paraphrasing the context more directly. In addition, this annotator can create a clinical note for a cancer patient using the given keywords or write medical texts based on introductory sentences. The BioGPT model is trained on large volumes of medical data allowing it to identify and extract the most relevant information from the text provided.\n",
        "\n",
        "\n",
        "Available models can be found at the [Models Hub](https://nlp.johnsnowlabs.com/models?annotator=MedicalTextGenerator).\n"
      ]
    },
    {
      "cell_type": "markdown",
      "metadata": {
        "id": "okhT7AcXxben"
      },
      "source": [
        "## Colab Setup"
      ]
    },
    {
      "cell_type": "markdown",
      "metadata": {
        "id": "G7dOaR_TlgE-"
      },
      "source": [
        "📌To run this yourself, you will need to upload your license keys to the notebook. Just Run The Cell Below in order to do that. Also You can open the file explorer on the left side of the screen and upload `license_keys.json` to the folder that opens.\n",
        "Otherwise, you can look at the example outputs at the bottom of the notebook."
      ]
    },
    {
      "cell_type": "code",
      "execution_count": null,
      "metadata": {
        "id": "tQLe_InJtnzA"
      },
      "outputs": [],
      "source": [
        "import json\n",
        "import os\n",
        "\n",
        "from google.colab import files\n",
        "\n",
        "if 'spark_jsl.json' not in os.listdir():\n",
        "  license_keys = files.upload()\n",
        "  os.rename(list(license_keys.keys())[0], 'spark_jsl.json')\n",
        "\n",
        "with open('spark_jsl.json') as f:\n",
        "    license_keys = json.load(f)\n",
        "\n",
        "# Defining license key-value pairs as local variables\n",
        "locals().update(license_keys)\n",
        "os.environ.update(license_keys)"
      ]
    },
    {
      "cell_type": "code",
      "execution_count": null,
      "metadata": {
        "id": "Jjj9gCdWMXyF"
      },
      "outputs": [],
      "source": [
        "# Installing pyspark and spark-nlp\n",
        "! pip install --upgrade -q pyspark==3.1.2  spark-nlp==$PUBLIC_VERSION\n",
        "\n",
        "# Installing Spark NLP Healthcare\n",
        "! pip install --upgrade -q spark-nlp-jsl==$JSL_VERSION  --extra-index-url https://pypi.johnsnowlabs.com/$SECRET\n",
        "\n",
        "# Installing Spark NLP Display Library for visualization\n",
        "! pip install -q spark-nlp-display"
      ]
    },
    {
      "cell_type": "code",
      "execution_count": null,
      "metadata": {
        "colab": {
          "base_uri": "https://localhost:8080/",
          "height": 253
        },
        "id": "L1LFkCjFMyxi",
        "outputId": "f9f62226-09b0-4716-ed1b-90e212f5d5b2"
      },
      "outputs": [
        {
          "name": "stdout",
          "output_type": "stream",
          "text": [
            "Spark NLP Version : 4.3.2\n",
            "Spark NLP_JSL Version : 4.4.0\n"
          ]
        },
        {
          "data": {
            "text/html": [
              "\n",
              "            <div>\n",
              "                <p><b>SparkSession - in-memory</b></p>\n",
              "                \n",
              "        <div>\n",
              "            <p><b>SparkContext</b></p>\n",
              "\n",
              "            <p><a href=\"http://e34c16b09127:4040\">Spark UI</a></p>\n",
              "\n",
              "            <dl>\n",
              "              <dt>Version</dt>\n",
              "                <dd><code>v3.1.2</code></dd>\n",
              "              <dt>Master</dt>\n",
              "                <dd><code>local[*]</code></dd>\n",
              "              <dt>AppName</dt>\n",
              "                <dd><code>Spark NLP Licensed</code></dd>\n",
              "            </dl>\n",
              "        </div>\n",
              "        \n",
              "            </div>\n",
              "        "
            ],
            "text/plain": [
              "<pyspark.sql.session.SparkSession at 0x7fa9d99dcf70>"
            ]
          },
          "execution_count": 3,
          "metadata": {},
          "output_type": "execute_result"
        }
      ],
      "source": [
        "import json\n",
        "import os\n",
        "\n",
        "from pyspark.ml import Pipeline, PipelineModel\n",
        "from pyspark.sql import SparkSession\n",
        "\n",
        "import sparknlp\n",
        "import sparknlp_jsl\n",
        "\n",
        "from sparknlp.annotator import *\n",
        "from sparknlp_jsl.annotator import *\n",
        "from sparknlp.base import *\n",
        "from sparknlp.util import *\n",
        "from sparknlp.pretrained import ResourceDownloader\n",
        "from pyspark.sql import functions as F\n",
        "\n",
        "import pandas as pd\n",
        "\n",
        "pd.set_option('display.max_columns', None)  \n",
        "pd.set_option('display.expand_frame_repr', False)\n",
        "pd.set_option('max_colwidth', None)\n",
        "\n",
        "import string\n",
        "import numpy as np\n",
        "\n",
        "params = {\"spark.driver.memory\":\"16G\",\n",
        "          \"spark.kryoserializer.buffer.max\":\"2000M\",\n",
        "          \"spark.serializer\": \"org.apache.spark.serializer.KryoSerializer\",\n",
        "          \"spark.driver.maxResultSize\":\"2000M\"}\n",
        "\n",
        "spark = sparknlp_jsl.start(license_keys['SECRET'], params=params)\n",
        "\n",
        "print (\"Spark NLP Version :\", sparknlp.version())\n",
        "print (\"Spark NLP_JSL Version :\", sparknlp_jsl.version())\n",
        "\n",
        "spark"
      ]
    },
    {
      "cell_type": "markdown",
      "metadata": {
        "id": "7Nv8ISD_ltNo"
      },
      "source": [
        "# 🔎 MODELS"
      ]
    },
    {
      "cell_type": "markdown",
      "metadata": {
        "id": "7ymKYxvOVI89"
      },
      "source": [
        "<div align=\"center\">\n",
        "\n",
        "| **Index** | **Text Generator Models**        |\n",
        "|---------------|----------------------|\n",
        "| 1        |  [text_generator_biomedical_biogpt_base](https://nlp.johnsnowlabs.com/2023/04/03/text_generator_biomedical_biogpt_base_en.html)     |\n",
        "| 2      | [text_generator_generic_jsl_base](https://nlp.johnsnowlabs.com/2023/04/03/text_generator_generic_jsl_base_en.html)    |\n",
        "| 3      | [text_generator_generic_flan_base](https://nlp.johnsnowlabs.com/2023/04/03/text_generator_generic_flan_base_en.html)    |\n",
        "| 4      | [text_generator_generic_flan_t5_large](https://nlp.johnsnowlabs.com/2023/04/04/text_generator_generic_flan_t5_large_en.html)    |\n",
        "\n",
        "\n",
        "</div>"
      ]
    },
    {
      "cell_type": "markdown",
      "metadata": {
        "id": "EUP83I58lxPD"
      },
      "source": [
        "## 📑  **text_generator_biomedical_biogpt_base**\n",
        "\n",
        "This model is a BioGPT (LLM) based text generation model that is finetuned with biomedical datasets (Pubmed abstracts) by John Snow Labs.  Given a few tokens as an intro, it can generate human-like, conceptually meaningful texts  up to 1024 tokens given an input text (max 1024 tokens)."
      ]
    },
    {
      "cell_type": "code",
      "execution_count": null,
      "metadata": {
        "colab": {
          "base_uri": "https://localhost:8080/"
        },
        "id": "zb26jOqQdoQh",
        "outputId": "b3bb9ec8-07fc-4fd7-9cf6-317bb1b70945"
      },
      "outputs": [
        {
          "name": "stdout",
          "output_type": "stream",
          "text": [
            "text_generator_biomedical_biogpt_base download started this may take some time.\n",
            "[OK!]\n"
          ]
        }
      ],
      "source": [
        "document_assembler = DocumentAssembler()\\\n",
        "    .setInputCol(\"prompt\")\\\n",
        "    .setOutputCol(\"document_prompt\")\n",
        "\n",
        "med_text_generator  = MedicalTextGenerator.pretrained(\"text_generator_biomedical_biogpt_base\", \"en\", \"clinical/models\")\\\n",
        "    .setInputCols(\"document_prompt\")\\\n",
        "    .setOutputCol(\"answer\")\\\n",
        "    .setMaxNewTokens(256)\\\n",
        "    .setDoSample(True)\\\n",
        "    .setTopK(3)\\\n",
        "    .setRandomSeed(40)\n",
        "\n",
        "pipeline = Pipeline(stages=[document_assembler, med_text_generator])\n",
        "\n",
        "model = pipeline.fit(spark.createDataFrame([[\"\"]]).toDF(\"prompt\"))"
      ]
    },
    {
      "cell_type": "code",
      "execution_count": null,
      "metadata": {
        "colab": {
          "base_uri": "https://localhost:8080/"
        },
        "id": "2r6gRCtnpFMi",
        "outputId": "e3c60df1-f145-4eb3-a074-e7439e06158c"
      },
      "outputs": [
        {
          "name": "stdout",
          "output_type": "stream",
          "text": [
            "+-------------------------------------------------------------------------------------------------------------------------------------------------------------------------------------------------------------------------------------------------------------------------------------------------------------------------------------------------------------------------------------------------------------------------------------------------------------------------------------------------------------------------------------------------------------------------------------------------------------------------------------------------------------------------------------------------------------------------------------+\n",
            "|result                                                                                                                                                                                                                                                                                                                                                                                                                                                                                                                                                                                                                                                                                                                               |\n",
            "+-------------------------------------------------------------------------------------------------------------------------------------------------------------------------------------------------------------------------------------------------------------------------------------------------------------------------------------------------------------------------------------------------------------------------------------------------------------------------------------------------------------------------------------------------------------------------------------------------------------------------------------------------------------------------------------------------------------------------------------+\n",
            "|[The patient is admitted to the clinic with a severe back pain and we found a large mass in the left paravertebral region. The mass was removed surgically and the histopathological examination revealed a schwannoma. The patient was discharged on the 10th postoperative day. A case of a giant retroperitoneal schwannoma. Schwannomas are benign tumors that arise from Schwann cells. They are usually found in the head and neck region, but they can also occur in the retroperitoneum. We present a case of a giant retroperitoneal schwannoma in a young woman. The patient was admitted to the clinic with a complaint of abdominal pain. The patient was diagnosed with a retroperitoneal mass and was operated on. The]|\n",
            "+-------------------------------------------------------------------------------------------------------------------------------------------------------------------------------------------------------------------------------------------------------------------------------------------------------------------------------------------------------------------------------------------------------------------------------------------------------------------------------------------------------------------------------------------------------------------------------------------------------------------------------------------------------------------------------------------------------------------------------------+\n",
            "\n"
          ]
        }
      ],
      "source": [
        "data = spark.createDataFrame([['The patient is admitted to the clinic with a severe back pain and we']]).toDF(\"prompt\")\n",
        "\n",
        "result = pipeline.fit(data).transform(data)\n",
        "\n",
        "result.select(\"answer.result\").show(truncate=False)"
      ]
    },
    {
      "cell_type": "markdown",
      "metadata": {
        "id": "4GjbnXm0ghO7"
      },
      "source": [
        "### **📍 LightPipelines**"
      ]
    },
    {
      "cell_type": "code",
      "execution_count": null,
      "metadata": {
        "id": "iKkS0XACWiit"
      },
      "outputs": [],
      "source": [
        "text = [\"COVID-19\",\n",
        "        \"SARS-CoV-2\",\n",
        "        \"Asthma is a chronic respiratory disease characterized by\"]\n",
        "\n",
        "light_model = LightPipeline(model)\n",
        "light_result = light_model.annotate(text)"
      ]
    },
    {
      "cell_type": "code",
      "execution_count": null,
      "metadata": {
        "colab": {
          "base_uri": "https://localhost:8080/"
        },
        "id": "WER8CYY1WigZ",
        "outputId": "4dba6b0c-0ac0-4713-e23b-bffbbeff92cd"
      },
      "outputs": [
        {
          "name": "stdout",
          "output_type": "stream",
          "text": [
            "➤ Document 1: \n",
            "COVID-19\n",
            "\n",
            "\n",
            "➤ Answer 1: \n",
            "COVID - 19: A Review of the Clinical Presentation. COVID - 19 is caused by the novel SARS - CoV - 2 virus. The virus has\n",
            "spread worldwide and has been declared a pandemic by the World Health Organization. The disease is characterized by\n",
            "fever, cough, shortness of breath, and fatigue. In the United States and Europe, the disease has been associated with a\n",
            "high case fatality rate. Although COVID  related mortality has been reported in the United States, there have also\n",
            "recently occurred in Europe. The clinical presentation of COVID  19 has changed dramatically over recent months and has\n",
            "been associated primarily in the setting in patients with preexisting comorbidities. The purpose for this review is to\n",
            "provide an overview of the clinical presentation of COVID  related illness., including the epidemiology, clinical\n",
            "presentation, and treatment of the disease., in addition the potential mechanisms by how this may affect patient\n",
            "management, and the potential impact this disease will pose for the future healthcare system. The Role of the Immune\n",
            "Microglia - Macrophage - Brain Axis in the Pathogenesis of Alzheimer &apos;s Disease. Alzheimer &apos;s disease ( AD )\n",
            "is a neurodegenerative disorder characterized by progressive cognitive decline and memory loss. The pathogenesis of AD\n",
            "is complex and involves multiple pathways and molecular mechanisms. ( 1 ) The immune system\n",
            "\n",
            "\n",
            "➤ Document 2: \n",
            "SARS-CoV-2\n",
            "\n",
            "\n",
            "➤ Answer 2: \n",
            "SARS - CoV - 2 RNA detection and antibody response in patients with severe acute respiratory syndrome. BACKGROUND: The\n",
            "coronavirus disease 2019 ( COVID - 19 ) pandemic caused the largest number of deaths worldwide in a single year. In\n",
            "order not be left to fear of the virus, the World Health Assembly declared COVID - 19 an epidemic in January 2019, and\n",
            "the government issued a public emergency plan on April 6, 2020 to stop the spread and to reduce further the impact on\n",
            "health systems worldwide by 2020. The aim of this review article is to summarize the results on detection methods and\n",
            "antibody response to SARS - CoV - 2 in patients with severe acute respiratory syndrome ( SARS ), which will provide a\n",
            "basis for further research. FINDINGS: SARS CoV 2 has the highest homology with SARS - CoV. The detection methods of SARS\n",
            "- CoV - 2 are based on nucleic acid amplification, such as real - time reverse transcription polymerase chain reaction (\n",
            "RT - PCR ), and serological methods, such as enzyme - linked immunosorbent assay ( ELISA ) and enzyme - linked\n",
            "immunofiltration assay ( EIFA ). The results of serological tests are mainly based in antibody detection, such as\n",
            "indirect immunofluorescence assay ( IFA ), enzyme - linked immunosorbent assay ( ELISA ), and enzyme - linked\n",
            "immunoadsorption test ( EIAT ).\n",
            "\n",
            "\n",
            "➤ Document 3: \n",
            "Asthma is a chronic respiratory disease characterized by\n",
            "\n",
            "\n",
            "➤ Answer 3: \n",
            "Asthma is a chronic respiratory disease characterized by reversible airway obstruction. The prevalence of asthma is\n",
            "rising, especially in the developed nations. &quot; The disease can have a significant impact on the lives of children.\n",
            "It has also become increasingly important to understand the pathophysiology of asthma. ( ABSTRACT TRUNDS: Asthma\n",
            "prevalence in childhood and adolescence is increasing in the developed nations. The pathophysiology of asthma is complex\n",
            "and involves the immune system, the airway epithelium, and the autonomic nervous system. The disease has been recognized\n",
            "for more over 50 yrs and the treatment has improved significantly. The disease is now recognized as a chronic\n",
            "inflammatory disease of the airways and is characterized by airway hyperresponsiveness ( AHR ). The disease is\n",
            "associated with airway remodeling and airway inflammation. The disease is associated with increased morbidity and\n",
            "mortality. The disease is also associated with a significant socioeconomic burden. &quot; The role of the autonomic\n",
            "nervous system in asthma. Asthma is a chronic inflammatory disease of airway walls. Asthma is characterized not just in\n",
            "terms of airway obstruction but also in terms of airway hyperresponsiveness ( AHR ). AHR is a hallmark of this\n",
            "inflammatory condition. AHR in asthmatic patients is often associated with increased airway wall inflammation, which is\n",
            "characterized by increased number, activity of eosinophils in the airway wall, and increased expression of the\n",
            "\n",
            "\n"
          ]
        }
      ],
      "source": [
        "import textwrap\n",
        "\n",
        "for i in range(len(light_result)):\n",
        "    document_text = textwrap.fill(light_result[i]['document_prompt'][0], width=120)\n",
        "    summary_text = textwrap.fill(light_result[i]['answer'][0], width=120)\n",
        "    \n",
        "    print(\"➤ Document {}: \\n{}\".format(i+1, document_text))\n",
        "    print(\"\\n\")\n",
        "    print(\"➤ Answer {}: \\n{}\".format(i+1, summary_text))\n",
        "    print(\"\\n\")"
      ]
    }
  ],
  "metadata": {
    "accelerator": "GPU",
    "colab": {
      "machine_shape": "hm",
      "provenance": []
    },
    "gpuClass": "standard",
    "kernelspec": {
      "display_name": "Python 3",
      "name": "python3"
    },
    "language_info": {
      "name": "python"
    }
  },
  "nbformat": 4,
  "nbformat_minor": 0
}

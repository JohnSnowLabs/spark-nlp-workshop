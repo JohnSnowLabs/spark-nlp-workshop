{
 "cells": [
  {
   "cell_type": "markdown",
   "metadata": {
    "id": "PXzooPBq7ICh"
   },
   "source": [
    "![JohnSnowLabs](https://nlp.johnsnowlabs.com/assets/images/logo.png)"
   ]
  },
  {
   "cell_type": "markdown",
   "metadata": {
    "id": "sQFJ6aT4nfhw"
   },
   "source": [
    "[![Open In Colab](https://colab.research.google.com/assets/colab-badge.svg)](https://colab.research.google.com/github/JohnSnowLabs/spark-nlp-workshop/blob/master/tutorials/Certification_Trainings/Healthcare/7.Clinical_NER_Chunk_Merger.ipynb)"
   ]
  },
  {
   "cell_type": "markdown",
   "metadata": {
    "id": "8zIZE0c_7ICk"
   },
   "source": [
    "# 7. Clinical NER Chunk Merger"
   ]
  },
  {
   "cell_type": "code",
   "execution_count": null,
   "metadata": {
    "colab": {
     "base_uri": "https://localhost:8080/",
     "height": 73,
     "resources": {
      "http://localhost:8080/nbextensions/google.colab/files.js": {
       "data": "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",
       "headers": [
        [
         "content-type",
         "application/javascript"
        ]
       ],
       "ok": true,
       "status": 200,
       "status_text": ""
      }
     }
    },
    "executionInfo": {
     "elapsed": 14877,
     "status": "ok",
     "timestamp": 1639427983364,
     "user": {
      "displayName": "Ahmet Emin Tek",
      "photoUrl": "https://lh3.googleusercontent.com/a/default-user=s64",
      "userId": "14855809472179427810"
     },
     "user_tz": -180
    },
    "id": "MdE588BiY3z1",
    "outputId": "9fa825e7-72e1-4aa1-bd00-6e0305d30a1c"
   },
   "outputs": [],
   "source": [
    "import json\n",
    "\n",
    "from google.colab import files\n",
    "\n",
    "license_keys = files.upload()\n",
    "\n",
    "with open(list(license_keys.keys())[0]) as f:\n",
    "    license_keys = json.load(f)\n",
    "\n",
    "# Defining license key-value pairs as local variables\n",
    "locals().update(license_keys)\n",
    "\n",
    "# Adding license key-value pairs to environment variables\n",
    "import os\n",
    "os.environ.update(license_keys)"
   ]
  },
  {
   "cell_type": "code",
   "execution_count": null,
   "metadata": {
    "colab": {
     "base_uri": "https://localhost:8080/"
    },
    "executionInfo": {
     "elapsed": 47154,
     "status": "ok",
     "timestamp": 1639428050489,
     "user": {
      "displayName": "Ahmet Emin Tek",
      "photoUrl": "https://lh3.googleusercontent.com/a/default-user=s64",
      "userId": "14855809472179427810"
     },
     "user_tz": -180
    },
    "id": "RQAa_8kUXEvh",
    "outputId": "b06a3e51-a482-400b-c3de-077b337fcbc7"
   },
   "outputs": [],
   "source": [
    "# Installing pyspark and spark-nlp\n",
    "! pip install --upgrade -q pyspark==3.1.2 spark-nlp==$PUBLIC_VERSION\n",
    "\n",
    "# Installing Spark NLP Healthcare\n",
    "! pip install --upgrade -q spark-nlp-jsl==$JSL_VERSION  --extra-index-url https://pypi.johnsnowlabs.com/$SECRET"
   ]
  },
  {
   "cell_type": "code",
   "execution_count": 3,
   "metadata": {
    "colab": {
     "base_uri": "https://localhost:8080/"
    },
    "executionInfo": {
     "elapsed": 22425,
     "status": "ok",
     "timestamp": 1639428098916,
     "user": {
      "displayName": "Ahmet Emin Tek",
      "photoUrl": "https://lh3.googleusercontent.com/a/default-user=s64",
      "userId": "14855809472179427810"
     },
     "user_tz": -180
    },
    "id": "TTVtJh6oW1EY",
    "outputId": "00e49d9c-ada8-449f-aaea-64365dbd9719"
   },
   "outputs": [
    {
     "name": "stdout",
     "output_type": "stream",
     "text": [
      "3.3.4\n",
      "3.3.4\n"
     ]
    }
   ],
   "source": [
    "import json\n",
    "import os\n",
    "from pyspark.ml import Pipeline,PipelineModel\n",
    "from pyspark.sql import SparkSession\n",
    "\n",
    "from sparknlp.annotator import *\n",
    "from sparknlp_jsl.annotator import *\n",
    "from sparknlp.base import *\n",
    "import sparknlp_jsl\n",
    "import sparknlp\n",
    "\n",
    "import pandas as pd\n",
    "\n",
    "params = {\"spark.driver.memory\":\"16G\",\n",
    "\"spark.kryoserializer.buffer.max\":\"2000M\",\n",
    "\"spark.driver.maxResultSize\":\"2000M\"}\n",
    "\n",
    "spark = sparknlp_jsl.start(license_keys['SECRET'],params=params)\n",
    "\n",
    "print (sparknlp.version())\n",
    "print (sparknlp_jsl.version())"
   ]
  },
  {
   "cell_type": "code",
   "execution_count": null,
   "metadata": {
    "id": "hx2jxxCaVlOV"
   },
   "outputs": [],
   "source": [
    " # if you want to start the session with custom params as in start function above\n",
    "\n",
    "def start(secret):\n",
    "    builder = SparkSession.builder \\\n",
    "        .appName(\"Spark NLP Licensed\") \\\n",
    "        .master(\"local[*]\") \\\n",
    "        .config(\"spark.driver.memory\", \"16G\") \\\n",
    "        .config(\"spark.serializer\", \"org.apache.spark.serializer.KryoSerializer\") \\\n",
    "        .config(\"spark.kryoserializer.buffer.max\", \"2000M\") \\\n",
    "        .config(\"spark.jars.packages\", \"com.johnsnowlabs.nlp:spark-nlp_2.11:\"+version) \\\n",
    "        .config(\"spark.jars\", \"https://pypi.johnsnowlabs.com/\"+secret+\"/spark-nlp-jsl-\"+jsl_version+\".jar\")\n",
    "      \n",
    "    return builder.getOrCreate()\n",
    "\n",
    "\n",
    "#spark = start(secret)"
   ]
  },
  {
   "cell_type": "code",
   "execution_count": null,
   "metadata": {
    "colab": {
     "base_uri": "https://localhost:8080/",
     "height": 216
    },
    "id": "7zP-9FcXVzx7",
    "outputId": "6d355502-fa28-4247-9dc2-6b104f85abf4"
   },
   "outputs": [
    {
     "data": {
      "text/html": [
       "\n",
       "            <div>\n",
       "                <p><b>SparkSession - in-memory</b></p>\n",
       "                \n",
       "        <div>\n",
       "            <p><b>SparkContext</b></p>\n",
       "\n",
       "            <p><a href=\"http://663d04b1f8f8:4040\">Spark UI</a></p>\n",
       "\n",
       "            <dl>\n",
       "              <dt>Version</dt>\n",
       "                <dd><code>v3.1.2</code></dd>\n",
       "              <dt>Master</dt>\n",
       "                <dd><code>local[*]</code></dd>\n",
       "              <dt>AppName</dt>\n",
       "                <dd><code>Spark NLP Licensed</code></dd>\n",
       "            </dl>\n",
       "        </div>\n",
       "        \n",
       "            </div>\n",
       "        "
      ],
      "text/plain": [
       "<pyspark.sql.session.SparkSession at 0x7f71d24bbcd0>"
      ]
     },
     "execution_count": 5,
     "metadata": {},
     "output_type": "execute_result"
    }
   ],
   "source": [
    "spark"
   ]
  },
  {
   "cell_type": "code",
   "execution_count": 6,
   "metadata": {
    "colab": {
     "base_uri": "https://localhost:8080/"
    },
    "executionInfo": {
     "elapsed": 3196,
     "status": "ok",
     "timestamp": 1639428901762,
     "user": {
      "displayName": "Ahmet Emin Tek",
      "photoUrl": "https://lh3.googleusercontent.com/a/default-user=s64",
      "userId": "14855809472179427810"
     },
     "user_tz": -180
    },
    "id": "1zgsiTxjaiMd",
    "outputId": "c8581e51-6cbb-47a2-c170-80de276b3acd"
   },
   "outputs": [
    {
     "name": "stdout",
     "output_type": "stream",
     "text": [
      "+---+--------------------------------------------------+\n",
      "| id|                                              text|\n",
      "+---+--------------------------------------------------+\n",
      "|  1|A 63 years old man presents to the hospital wit...|\n",
      "+---+--------------------------------------------------+\n",
      "\n"
     ]
    }
   ],
   "source": [
    "# Sample data\n",
    "data_chunk_merge = spark.createDataFrame([\n",
    "  (1,\"\"\"A 63 years old man presents to the hospital with a history of recurrent infections that include cellulitis, pneumonias, and upper respiratory tract infections. He reports subjective fevers at home along with unintentional weight loss and occasional night sweats. The patient has a remote history of arthritis, which was diagnosed approximately 20 years ago and treated intermittently with methotrexate (MTX) and prednisone. On physical exam, he is found to be febrile at 102°F, rather cachectic, pale, and have hepatosplenomegaly. Several swollen joints that are tender to palpation and have decreased range of motion are also present. His laboratory values show pancytopenia with the most severe deficiency in neutrophils.\n",
    "\"\"\")]).toDF(\"id\",\"text\")\n",
    "\n",
    "data_chunk_merge.show(truncate=50)"
   ]
  },
  {
   "cell_type": "code",
   "execution_count": 5,
   "metadata": {
    "colab": {
     "base_uri": "https://localhost:8080/"
    },
    "executionInfo": {
     "elapsed": 28749,
     "status": "ok",
     "timestamp": 1639428890127,
     "user": {
      "displayName": "Ahmet Emin Tek",
      "photoUrl": "https://lh3.googleusercontent.com/a/default-user=s64",
      "userId": "14855809472179427810"
     },
     "user_tz": -180
    },
    "id": "r2Yr96wrWPUH",
    "outputId": "00bb6e6b-8b82-4264-b176-3921cecc80b6"
   },
   "outputs": [
    {
     "name": "stdout",
     "output_type": "stream",
     "text": [
      "embeddings_clinical download started this may take some time.\n",
      "Approximate size to download 1.6 GB\n",
      "[OK!]\n",
      "ner_deid_large download started this may take some time.\n",
      "Approximate size to download 14.1 MB\n",
      "[OK!]\n",
      "ner_jsl download started this may take some time.\n",
      "Approximate size to download 14.5 MB\n",
      "[OK!]\n"
     ]
    }
   ],
   "source": [
    "# Annotator that transforms a text column from dataframe into an Annotation ready for NLP\n",
    "\n",
    "documentAssembler = DocumentAssembler()\\\n",
    "  .setInputCol(\"text\")\\\n",
    "  .setOutputCol(\"document\")\n",
    "\n",
    "# Sentence Detector annotator, processes various sentences per line\n",
    "sentenceDetector = SentenceDetector()\\\n",
    "  .setInputCols([\"document\"])\\\n",
    "  .setOutputCol(\"sentence\")\n",
    "\n",
    "# Tokenizer splits words in a relevant format for NLP\n",
    "tokenizer = Tokenizer()\\\n",
    "  .setInputCols([\"sentence\"])\\\n",
    "  .setOutputCol(\"token\")\n",
    "\n",
    "# Clinical word embeddings trained on PubMED dataset\n",
    "word_embeddings = WordEmbeddingsModel.pretrained(\"embeddings_clinical\", \"en\", \"clinical/models\")\\\n",
    "  .setInputCols([\"sentence\", \"token\"])\\\n",
    "  .setOutputCol(\"embeddings\")\n",
    "\n",
    "# NER model trained on i2b2 (sampled from MIMIC) dataset\n",
    "clinical_ner = MedicalNerModel.pretrained(\"ner_deid_large\", \"en\", \"clinical/models\") \\\n",
    "  .setInputCols([\"sentence\", \"token\", \"embeddings\"]) \\\n",
    "  .setOutputCol(\"clinical_ner\")\n",
    "\n",
    "clinical_ner_converter = NerConverter() \\\n",
    "  .setInputCols([\"sentence\", \"token\", \"clinical_ner\"]) \\\n",
    "  .setOutputCol(\"clinical_ner_chunk\")\n",
    "\n",
    "# internal clinical NER (general terms)\n",
    "jsl_ner = MedicalNerModel.pretrained(\"ner_jsl\", \"en\", \"clinical/models\") \\\n",
    "  .setInputCols([\"sentence\", \"token\", \"embeddings\"]) \\\n",
    "  .setOutputCol(\"jsl_ner\")\n",
    "\n",
    "jsl_ner_converter = NerConverter() \\\n",
    "  .setInputCols([\"sentence\", \"token\", \"jsl_ner\"]) \\\n",
    "  .setOutputCol(\"jsl_ner_chunk\")\n",
    "\n",
    "# merge ner_chunks by prioritizing the overlapping indices (chunks with longer lengths and highest information will be kept from each ner model)\n",
    "chunk_merger = ChunkMergeApproach()\\\n",
    "  .setInputCols('clinical_ner_chunk', \"jsl_ner_chunk\")\\\n",
    "  .setOutputCol('merged_ner_chunk')\n",
    "\n",
    "# merge ner_chunks regardess of overlapping indices \n",
    "# only works with 2.7 and later \n",
    "chunk_merger_NonOverlapped = ChunkMergeApproach()\\\n",
    "  .setInputCols('clinical_ner_chunk', \"jsl_ner_chunk\")\\\n",
    "  .setOutputCol('nonOverlapped_ner_chunk')\\\n",
    "  .setMergeOverlapping(False)\n",
    "\n",
    "\n",
    "nlpPipeline = Pipeline(stages=[\n",
    "    documentAssembler, \n",
    "    sentenceDetector,\n",
    "    tokenizer,\n",
    "    word_embeddings,\n",
    "    clinical_ner,\n",
    "    clinical_ner_converter,\n",
    "    jsl_ner,\n",
    "    jsl_ner_converter,\n",
    "    chunk_merger,\n",
    "    chunk_merger_NonOverlapped])\n",
    "\n",
    "empty_data = spark.createDataFrame([[\"\"]]).toDF(\"text\")\n",
    "\n",
    "model = nlpPipeline.fit(empty_data)\n"
   ]
  },
  {
   "cell_type": "code",
   "execution_count": 7,
   "metadata": {
    "executionInfo": {
     "elapsed": 2039,
     "status": "ok",
     "timestamp": 1639428910499,
     "user": {
      "displayName": "Ahmet Emin Tek",
      "photoUrl": "https://lh3.googleusercontent.com/a/default-user=s64",
      "userId": "14855809472179427810"
     },
     "user_tz": -180
    },
    "id": "JMI6QDcunfjI"
   },
   "outputs": [],
   "source": [
    "merged_data = model.transform(data_chunk_merge).cache()"
   ]
  },
  {
   "cell_type": "code",
   "execution_count": 9,
   "metadata": {
    "colab": {
     "base_uri": "https://localhost:8080/"
    },
    "executionInfo": {
     "elapsed": 8385,
     "status": "ok",
     "timestamp": 1639428955044,
     "user": {
      "displayName": "Ahmet Emin Tek",
      "photoUrl": "https://lh3.googleusercontent.com/a/default-user=s64",
      "userId": "14855809472179427810"
     },
     "user_tz": -180
    },
    "id": "h3zcTo_GgHoO",
    "outputId": "7d8bb5b5-596d-4fde-c90f-390e1b1a0118"
   },
   "outputs": [
    {
     "name": "stdout",
     "output_type": "stream",
     "text": [
      "+---+-----+---+----------------------------------+-------------------------+\n",
      "| id|begin|end|                             chunk|                   entity|\n",
      "+---+-----+---+----------------------------------+-------------------------+\n",
      "|  1|    2| 13|                      63 years old|                      Age|\n",
      "|  1|   15| 17|                               man|                   Gender|\n",
      "|  1|   35| 42|                          hospital|            Clinical_Dept|\n",
      "|  1|   62| 70|                         recurrent|                 Modifier|\n",
      "|  1|   72| 81|                        infections|Disease_Syndrome_Disorder|\n",
      "|  1|   96|105|                        cellulitis|Disease_Syndrome_Disorder|\n",
      "|  1|  108|117|                        pneumonias|Disease_Syndrome_Disorder|\n",
      "|  1|  124|157|upper respiratory tract infections|Disease_Syndrome_Disorder|\n",
      "|  1|  160|161|                                He|                   Gender|\n",
      "|  1|  171|180|                        subjective|                 Modifier|\n",
      "|  1|  182|187|                            fevers|               VS_Finding|\n",
      "|  1|  208|232|         unintentional weight loss|                  Symptom|\n",
      "|  1|  238|247|                        occasional|                 Modifier|\n",
      "|  1|  249|260|                      night sweats|                  Symptom|\n",
      "|  1|  299|307|                         arthritis|Disease_Syndrome_Disorder|\n",
      "|  1|  344|355|                      20 years ago|             RelativeDate|\n",
      "|  1|  389|400|                      methotrexate|          Drug_Ingredient|\n",
      "|  1|  403|405|                               MTX|          Drug_Ingredient|\n",
      "|  1|  412|421|                        prednisone|          Drug_Ingredient|\n",
      "|  1|  442|443|                                he|                   Gender|\n",
      "|  1|  460|466|                           febrile|               VS_Finding|\n",
      "|  1|  485|493|                         cachectic|                  Symptom|\n",
      "|  1|  496|499|                              pale|                  Symptom|\n",
      "|  1|  511|528|                hepatosplenomegaly|                  Symptom|\n",
      "|  1|  531|537|                           Several|                 Modifier|\n",
      "|  1|  539|552|                    swollen joints|                  Symptom|\n",
      "|  1|  563|568|                            tender|                  Symptom|\n",
      "|  1|  592|616|         decreased range of motion|                  Symptom|\n",
      "|  1|  636|638|                               His|                   Gender|\n",
      "|  1|  663|674|                      pancytopenia|Disease_Syndrome_Disorder|\n",
      "|  1|  690|695|                            severe|                 Modifier|\n",
      "|  1|  697|721|         deficiency in neutrophils|Disease_Syndrome_Disorder|\n",
      "+---+-----+---+----------------------------------+-------------------------+\n",
      "\n"
     ]
    }
   ],
   "source": [
    "from pyspark.sql import functions as F\n",
    "\n",
    "result_df = merged_data.select('id',F.explode('merged_ner_chunk').alias(\"cols\")) \\\n",
    "                       .select('id',F.expr(\"cols.begin\").alias(\"begin\"),\n",
    "                               F.expr(\"cols.end\").alias(\"end\"),\n",
    "                               F.expr(\"cols.result\").alias(\"chunk\"),\n",
    "                               F.expr(\"cols.metadata.entity\").alias(\"entity\"))\n",
    "\n",
    "result_df.show(50, truncate=100)"
   ]
  },
  {
   "cell_type": "markdown",
   "metadata": {
    "id": "6YwHxwQnIqgF"
   },
   "source": [
    "## NonOverlapped Chunk\n",
    "\n",
    "all the entities form each ner model will be returned one by one"
   ]
  },
  {
   "cell_type": "code",
   "execution_count": 10,
   "metadata": {
    "colab": {
     "base_uri": "https://localhost:8080/"
    },
    "executionInfo": {
     "elapsed": 777,
     "status": "ok",
     "timestamp": 1639429003755,
     "user": {
      "displayName": "Ahmet Emin Tek",
      "photoUrl": "https://lh3.googleusercontent.com/a/default-user=s64",
      "userId": "14855809472179427810"
     },
     "user_tz": -180
    },
    "id": "-GLlnbuUIuY4",
    "outputId": "9c6004ae-7bbd-4305-ff41-23fdb158b5c6"
   },
   "outputs": [
    {
     "name": "stdout",
     "output_type": "stream",
     "text": [
      "+---+-----+---+----------------------------------+-------------------------+\n",
      "| id|begin|end|                             chunk|                   entity|\n",
      "+---+-----+---+----------------------------------+-------------------------+\n",
      "|  1|    2| 13|                      63 years old|                      Age|\n",
      "|  1|    2|  3|                                63|                      AGE|\n",
      "|  1|   15| 17|                               man|                   Gender|\n",
      "|  1|   35| 42|                          hospital|            Clinical_Dept|\n",
      "|  1|   62| 70|                         recurrent|                 Modifier|\n",
      "|  1|   72| 81|                        infections|Disease_Syndrome_Disorder|\n",
      "|  1|   96|105|                        cellulitis|Disease_Syndrome_Disorder|\n",
      "|  1|  108|117|                        pneumonias|Disease_Syndrome_Disorder|\n",
      "|  1|  124|157|upper respiratory tract infections|Disease_Syndrome_Disorder|\n",
      "|  1|  160|161|                                He|                   Gender|\n",
      "|  1|  171|180|                        subjective|                 Modifier|\n",
      "|  1|  182|187|                            fevers|               VS_Finding|\n",
      "|  1|  208|232|         unintentional weight loss|                  Symptom|\n",
      "|  1|  238|247|                        occasional|                 Modifier|\n",
      "|  1|  249|260|                      night sweats|                  Symptom|\n",
      "|  1|  299|307|                         arthritis|Disease_Syndrome_Disorder|\n",
      "|  1|  344|355|                      20 years ago|             RelativeDate|\n",
      "|  1|  389|400|                      methotrexate|          Drug_Ingredient|\n",
      "|  1|  403|405|                               MTX|          Drug_Ingredient|\n",
      "|  1|  412|421|                        prednisone|          Drug_Ingredient|\n",
      "|  1|  442|443|                                he|                   Gender|\n",
      "|  1|  460|466|                           febrile|               VS_Finding|\n",
      "|  1|  485|493|                         cachectic|                  Symptom|\n",
      "|  1|  496|499|                              pale|                  Symptom|\n",
      "|  1|  511|528|                hepatosplenomegaly|                  Symptom|\n",
      "|  1|  531|537|                           Several|                 Modifier|\n",
      "|  1|  539|552|                    swollen joints|                  Symptom|\n",
      "|  1|  563|568|                            tender|                  Symptom|\n",
      "|  1|  592|616|         decreased range of motion|                  Symptom|\n",
      "|  1|  636|638|                               His|                   Gender|\n",
      "|  1|  663|674|                      pancytopenia|Disease_Syndrome_Disorder|\n",
      "|  1|  690|695|                            severe|                 Modifier|\n",
      "|  1|  697|721|         deficiency in neutrophils|Disease_Syndrome_Disorder|\n",
      "+---+-----+---+----------------------------------+-------------------------+\n",
      "\n"
     ]
    }
   ],
   "source": [
    "from pyspark.sql import functions as F\n",
    "\n",
    "result_df2 = merged_data.select('id',F.explode('nonOverlapped_ner_chunk').alias(\"cols\")) \\\n",
    "                        .select('id',F.expr(\"cols.begin\").alias(\"begin\"),\n",
    "                                F.expr(\"cols.end\").alias(\"end\"),\n",
    "                                F.expr(\"cols.result\").alias(\"chunk\"),\n",
    "                                F.expr(\"cols.metadata.entity\").alias(\"entity\"))\n",
    "\n",
    "result_df2.show(50, truncate=100)\n"
   ]
  },
  {
   "cell_type": "markdown",
   "metadata": {
    "id": "RRHkcM3xEkUo"
   },
   "source": [
    "### ChunkMergeApproach to admit N input cols \n",
    "We can feed the ChunkMergerApproach more than 2 chunks, also, we can filter out the entities that we don't want to get from the ChunkMergeApproach using `setBlackList` parameter."
   ]
  },
  {
   "cell_type": "code",
   "execution_count": null,
   "metadata": {
    "id": "3V33H6xhEo2C"
   },
   "outputs": [],
   "source": [
    "import json\n",
    "\n",
    "!mkdir data"
   ]
  },
  {
   "cell_type": "code",
   "execution_count": null,
   "metadata": {
    "id": "OxamRim-hwFZ"
   },
   "outputs": [],
   "source": [
    "sample_text = \"\"\"A 28 year old female with a history of gestational diabetes mellitus diagnosed eight years prior to \n",
    "presentation and subsequent type two diabetes mellitus ( T2DM ), one prior episode of HTG-induced pancreatitis \n",
    "three years prior to presentation , associated with an acute hepatitis , and obesity with a body mass index \n",
    "( BMI ) of 33.5 kg/m2 , presented with a one-week history of polyuria , polydipsia , poor appetite , and vomiting.\n",
    "Two weeks prior to presentation , she was treated with a five-day course of amoxicillin for a respiratory tract infection . \n",
    "She was on metformin , glipizide , and dapagliflozin for T2DM and atorvastatin and gemfibrozil for HTG . \n",
    "She had been on dapagliflozin for six months at the time of presentation . Physical examination on presentation was \n",
    "significant for dry oral mucosa ; significantly , her abdominal examination was benign with no tenderness , guarding , \n",
    "or rigidity . Pertinent laboratory findings on admission were : serum glucose 111 mg/dl , bicarbonate 18 mmol/l , \n",
    "anion gap 20 , creatinine 0.4 mg/dL , triglycerides 508 mg/dL , total cholesterol 122 mg/dL , glycated hemoglobin \n",
    "( HbA1c ) 10% , and venous pH 7.27 . Serum lipase was normal at 43 U/L . Serum acetone levels could not be assessed \n",
    "as blood samples kept hemolyzing due to significant lipemia .\n",
    "The patient was initially admitted for starvation ketosis , as she reported poor oral intake for three days prior \n",
    "to admission . However , serum chemistry obtained six hours after presentation revealed her glucose was 186 mg/dL , \n",
    "the anion gap was still elevated at 21 , serum bicarbonate was 16 mmol/L , triglyceride level peaked at 2050 mg/dL , \n",
    "and lipase was 52 U/L .\n",
    " β-hydroxybutyrate level was obtained and found to be elevated at 5.29 mmol/L - the original sample was centrifuged \n",
    " and the chylomicron layer removed prior to analysis due to interference from turbidity caused by lipemia again . \n",
    " The patient was treated with an insulin drip for euDKA and HTG with a reduction in the anion gap to 13 and triglycerides \n",
    " to 1400 mg/dL , within 24 hours .\n",
    " Twenty days ago.\n",
    " Her euDKA was thought to be precipitated by her respiratory tract infection in the setting of SGLT2 inhibitor use . \n",
    " At birth the typical boy is growing slightly faster than the typical girl, but the velocities become equal at about \n",
    " seven months, and then the girl grows faster until four years. \n",
    " From then until adolescence no differences in velocity \n",
    " can be detected. 21-02-2020 \n",
    "21/04/2020\n",
    "\"\"\""
   ]
  },
  {
   "cell_type": "code",
   "execution_count": null,
   "metadata": {
    "id": "yyQ67FlTEpal"
   },
   "outputs": [],
   "source": [
    "# Defining ContextualParser for feeding ChunkMergerApproach\n",
    "\n",
    "#defining rules\n",
    "date = {\n",
    "  \"entity\": \"Parser_Date\",\n",
    "  \"ruleScope\": \"sentence\",\n",
    "  \"regex\": \"\\\\d{1,2}[\\\\/\\\\-\\\\:]{1}(\\\\d{1,2}[\\\\/\\\\-\\\\:]{1}){0,1}\\\\d{2,4}\",\n",
    "  \"valuesDefinition\":[],\n",
    "  \"prefix\": [],\n",
    "  \"suffix\": [],\n",
    "  \"contextLength\": 150,\n",
    "  \"context\": []\n",
    "}\n",
    "\n",
    "\n",
    "with open('data/date.json', 'w') as f:\n",
    "    json.dump(date, f)\n",
    "\n",
    "\n",
    "age = {\n",
    "  \"entity\": \"Parser_Age\",\n",
    "  \"ruleScope\": \"sentence\",\n",
    "  \"matchScope\":\"token\",\n",
    "  \"regex\" : \"^[1][0-9][0-9]|[1-9][0-9]|[1-9]$\",\n",
    "  \"prefix\":[\"age of\", \"age\"],\n",
    "  \"suffix\": [\"-years-old\",\n",
    "             \"years-old\",\n",
    "             \"-year-old\",\n",
    "             \"-months-old\",\n",
    "             \"-month-old\",\n",
    "             \"-months-old\",\n",
    "             \"-day-old\",\n",
    "             \"-days-old\",\n",
    "             \"month old\",\n",
    "             \"days old\",\n",
    "             \"year old\",\n",
    "             \"years old\", \n",
    "             \"years\",\n",
    "             \"year\", \n",
    "             \"months\", \n",
    "             \"old\"\n",
    "              ],\n",
    "  \"contextLength\": 25,\n",
    "  \"context\": [],\n",
    "  \"contextException\": [\"ago\"],\n",
    "  \"exceptionDistance\": 10\n",
    "}\n",
    "\n",
    "with open(\"data/age.json\", 'w') as f:\n",
    "  json.dump(age, f)\n",
    "\n"
   ]
  },
  {
   "cell_type": "markdown",
   "metadata": {
    "id": "_o_ycAgYf46P"
   },
   "source": [
    "Using two ContextualParserApproach models and NER model in the same pipeline and merging by ChunkMergeApproach"
   ]
  },
  {
   "cell_type": "code",
   "execution_count": null,
   "metadata": {
    "colab": {
     "base_uri": "https://localhost:8080/"
    },
    "executionInfo": {
     "elapsed": 11661,
     "status": "ok",
     "timestamp": 1638987886967,
     "user": {
      "displayName": "Ahmet Emin Tek",
      "photoUrl": "https://lh3.googleusercontent.com/a/default-user=s64",
      "userId": "14855809472179427810"
     },
     "user_tz": -180
    },
    "id": "747Y7h-2EpX_",
    "outputId": "c4025273-7832-452d-d7ed-768d58c5e841"
   },
   "outputs": [
    {
     "name": "stdout",
     "output_type": "stream",
     "text": [
      "embeddings_clinical download started this may take some time.\n",
      "Approximate size to download 1.6 GB\n",
      "[OK!]\n",
      "ner_deid_large download started this may take some time.\n",
      "Approximate size to download 14.1 MB\n",
      "[OK!]\n"
     ]
    }
   ],
   "source": [
    "documentAssembler = DocumentAssembler()\\\n",
    "  .setInputCol(\"text\")\\\n",
    "  .setOutputCol(\"document\")\n",
    "\n",
    "# Sentence Detector annotator, processes various sentences per line\n",
    "sentenceDetector = SentenceDetector()\\\n",
    "  .setInputCols([\"document\"])\\\n",
    "  .setOutputCol(\"sentence\")\n",
    "\n",
    "# Tokenizer splits words in a relevant format for NLP\n",
    "tokenizer = Tokenizer()\\\n",
    "  .setInputCols([\"sentence\"])\\\n",
    "  .setOutputCol(\"token\")\n",
    "\n",
    "# Contextual parser for age \n",
    "age_contextual_parser = ContextualParserApproach() \\\n",
    "  .setInputCols([\"sentence\", \"token\"]) \\\n",
    "  .setOutputCol(\"entity_age\") \\\n",
    "  .setJsonPath(\"data/age.json\") \\\n",
    "  .setCaseSensitive(False) \\\n",
    "  .setContextMatch(False)\\\n",
    "  .setPrefixAndSuffixMatch(False)\n",
    "\n",
    "chunks_age= ChunkConverter()\\\n",
    "  .setInputCols(\"entity_age\")\\\n",
    "  .setOutputCol(\"chunk_age\")\n",
    "\n",
    "# Contextual parser for date\n",
    "date_contextual_parser = ContextualParserApproach() \\\n",
    "  .setInputCols([\"sentence\", \"token\"]) \\\n",
    "  .setOutputCol(\"entity_date\") \\\n",
    "  .setJsonPath(\"data/date.json\") \\\n",
    "  .setCaseSensitive(False) \\\n",
    "  .setContextMatch(False)\\\n",
    "  .setPrefixAndSuffixMatch(False)\n",
    "\n",
    "chunks_date = ChunkConverter().setInputCols(\"entity_date\").setOutputCol(\"chunk_date\")\n",
    "\n",
    "# Clinical word embeddings \n",
    "word_embeddings = WordEmbeddingsModel.pretrained(\"embeddings_clinical\", \"en\", \"clinical/models\")\\\n",
    "  .setInputCols([\"sentence\", \"token\"])\\\n",
    "  .setOutputCol(\"embeddings\")\n",
    "\n",
    "# Extracting entities by ner_deid_large\n",
    "ner_model = MedicalNerModel.pretrained(\"ner_deid_large\",\"en\",\"clinical/models\") \\\n",
    "  .setInputCols(\"sentence\",\"token\",\"embeddings\") \\\n",
    "  .setOutputCol(\"ner\")\n",
    "\n",
    "ner_converter= NerConverter()\\\n",
    "  .setInputCols([\"sentence\", \"token\", \"ner\"])\\\n",
    "  .setOutputCol(\"ner_chunk\")\\\n",
    "  .setWhiteList([\"DATE\", \"AGE\"])\n",
    "\n",
    "# Chunkmerger; prioritize age_contextual_parser\n",
    "parser_based_merge= ChunkMergeApproach()\\\n",
    "  .setInputCols([\"chunk_age\", \"chunk_date\", \"ner_chunk\"])\\\n",
    "  .setOutputCol(\"merged_chunks\")\n",
    "\n",
    "# Chunkmerger; prioritize ner_chunk\n",
    "ner_based_merge= ChunkMergeApproach()\\\n",
    "  .setInputCols([\"ner_chunk\", \"chunk_age\", \"chunk_date\"])\\\n",
    "  .setOutputCol(\"merged_chunks_2\")\n",
    "\n",
    "# Using black list for limiting the entity types that will be extracted\n",
    "limited_merge= ChunkMergeApproach()\\\n",
    "  .setInputCols([\"ner_chunk\", \"chunk_age\", \"chunk_date\"])\\\n",
    "  .setOutputCol(\"merged_chunks_black_list\")\\\n",
    "  .setBlackList([\"DATE\", \"Parser_Date\"]) # this will block the dates. \n",
    "\n",
    "pipeline= Pipeline(stages=[\n",
    "                           documentAssembler,\n",
    "                           sentenceDetector,\n",
    "                           tokenizer,\n",
    "                           age_contextual_parser,\n",
    "                           chunks_age,\n",
    "                           date_contextual_parser,\n",
    "                           chunks_date,\n",
    "                           word_embeddings,\n",
    "                           ner_model,\n",
    "                           ner_converter,\n",
    "                           parser_based_merge,\n",
    "                           ner_based_merge,\n",
    "                           limited_merge\n",
    "])\n",
    "\n",
    "empty_df= spark.createDataFrame([[\"\"]]).toDF(\"text\")\n",
    "model= pipeline.fit(empty_df)\n",
    "\n",
    "\n",
    "lmodel= LightPipeline(model)\n",
    "lresult= lmodel.fullAnnotate(sample_text)[0]\n"
   ]
  },
  {
   "cell_type": "code",
   "execution_count": null,
   "metadata": {
    "colab": {
     "base_uri": "https://localhost:8080/"
    },
    "executionInfo": {
     "elapsed": 381,
     "status": "ok",
     "timestamp": 1638987889793,
     "user": {
      "displayName": "Ahmet Emin Tek",
      "photoUrl": "https://lh3.googleusercontent.com/a/default-user=s64",
      "userId": "14855809472179427810"
     },
     "user_tz": -180
    },
    "id": "gVAEetRLfwO7",
    "outputId": "c7ef7286-0fb4-4e80-a1de-1ab0c57ac5bd"
   },
   "outputs": [
    {
     "data": {
      "text/plain": [
       "dict_keys(['chunk_age', 'document', 'ner_chunk', 'token', 'entity_date', 'ner', 'merged_chunks_2', 'entity_age', 'merged_chunks_black_list', 'embeddings', 'chunk_date', 'sentence', 'merged_chunks'])"
      ]
     },
     "execution_count": 13,
     "metadata": {},
     "output_type": "execute_result"
    }
   ],
   "source": [
    "lresult.keys()"
   ]
  },
  {
   "cell_type": "markdown",
   "metadata": {
    "id": "hJSfWfcliXdw"
   },
   "source": [
    "If there is an overlap among the input entity types, ChunkMergerApproach model prioritizes the leftmost input. <br/>\n",
    "\n",
    "At the 'parser_based_merge', we gave the contextual parser's chunks firstly. Therefore, 'parser_based_merge' prioritized the \"Parser_Age\" and \"Parser_Date\" entities over the \"AGE\" and \"DATE\" entity types that comes from NER model. <br/>\n",
    "\n",
    "At the 'ner_based_merge', we gave the Ner model's inputs firstly, thus 'ner_based_merge' prioritized the \"AGE\" and \"DATE\" entities over the \"Parser_Age\" and \"Parser_Date\".  <br/>\n",
    "\n",
    "At the limited_merge, we excluded \"DATE\" and \"Parser_Date\" entity types.\n",
    "\n",
    "Let's compare the results of these ChunkMergeApproach below:"
   ]
  },
  {
   "cell_type": "code",
   "execution_count": null,
   "metadata": {
    "colab": {
     "base_uri": "https://localhost:8080/",
     "height": 142
    },
    "executionInfo": {
     "elapsed": 493,
     "status": "ok",
     "timestamp": 1638987926600,
     "user": {
      "displayName": "Ahmet Emin Tek",
      "photoUrl": "https://lh3.googleusercontent.com/a/default-user=s64",
      "userId": "14855809472179427810"
     },
     "user_tz": -180
    },
    "id": "GFxiZuPpEpVe",
    "outputId": "32f6d983-0b37-4dd1-ab75-85d1152dd84a"
   },
   "outputs": [
    {
     "data": {
      "text/html": [
       "<div>\n",
       "<style scoped>\n",
       "    .dataframe tbody tr th:only-of-type {\n",
       "        vertical-align: middle;\n",
       "    }\n",
       "\n",
       "    .dataframe tbody tr th {\n",
       "        vertical-align: top;\n",
       "    }\n",
       "\n",
       "    .dataframe thead th {\n",
       "        text-align: right;\n",
       "    }\n",
       "</style>\n",
       "<table border=\"1\" class=\"dataframe\">\n",
       "  <thead>\n",
       "    <tr style=\"text-align: right;\">\n",
       "      <th></th>\n",
       "      <th>chunk</th>\n",
       "      <th>parser_based_merged_entity</th>\n",
       "      <th>ner_based_merged_entity</th>\n",
       "    </tr>\n",
       "  </thead>\n",
       "  <tbody>\n",
       "    <tr>\n",
       "      <th>0</th>\n",
       "      <td>28</td>\n",
       "      <td>Parser_Age</td>\n",
       "      <td>AGE</td>\n",
       "    </tr>\n",
       "    <tr>\n",
       "      <th>1</th>\n",
       "      <td>21-02-2020</td>\n",
       "      <td>Parser_Date</td>\n",
       "      <td>DATE</td>\n",
       "    </tr>\n",
       "    <tr>\n",
       "      <th>2</th>\n",
       "      <td>21/04/2020</td>\n",
       "      <td>Parser_Date</td>\n",
       "      <td>DATE</td>\n",
       "    </tr>\n",
       "  </tbody>\n",
       "</table>\n",
       "</div>"
      ],
      "text/plain": [
       "        chunk parser_based_merged_entity ner_based_merged_entity\n",
       "0          28                 Parser_Age                     AGE\n",
       "1  21-02-2020                Parser_Date                    DATE\n",
       "2  21/04/2020                Parser_Date                    DATE"
      ]
     },
     "execution_count": 14,
     "metadata": {},
     "output_type": "execute_result"
    }
   ],
   "source": [
    "chunk= []\n",
    "parser_based_merge= []\n",
    "ner_based_merge= []\n",
    "\n",
    "for i, k in list(zip(lresult[\"merged_chunks\"], list(lresult[\"merged_chunks_2\"],))):\n",
    "  parser_based_merge.append(i.metadata[\"entity\"])\n",
    "  ner_based_merge.append(k.metadata[\"entity\"])\n",
    "  chunk.append(i.result)\n",
    "\n",
    "df= pd.DataFrame({\"chunk\": chunk,\"parser_based_merged_entity\": parser_based_merge, \"ner_based_merged_entity\": ner_based_merge})\n",
    "df.head()"
   ]
  },
  {
   "cell_type": "markdown",
   "metadata": {
    "id": "JojNm1cujUl0"
   },
   "source": [
    "`.setBlackList()` applied results:"
   ]
  },
  {
   "cell_type": "code",
   "execution_count": null,
   "metadata": {
    "colab": {
     "base_uri": "https://localhost:8080/",
     "height": 80
    },
    "executionInfo": {
     "elapsed": 6,
     "status": "ok",
     "timestamp": 1638987930142,
     "user": {
      "displayName": "Ahmet Emin Tek",
      "photoUrl": "https://lh3.googleusercontent.com/a/default-user=s64",
      "userId": "14855809472179427810"
     },
     "user_tz": -180
    },
    "id": "h5V3OqFoEpSm",
    "outputId": "0fdcd80d-6643-47e0-f87e-af9bee327461"
   },
   "outputs": [
    {
     "data": {
      "text/html": [
       "<div>\n",
       "<style scoped>\n",
       "    .dataframe tbody tr th:only-of-type {\n",
       "        vertical-align: middle;\n",
       "    }\n",
       "\n",
       "    .dataframe tbody tr th {\n",
       "        vertical-align: top;\n",
       "    }\n",
       "\n",
       "    .dataframe thead th {\n",
       "        text-align: right;\n",
       "    }\n",
       "</style>\n",
       "<table border=\"1\" class=\"dataframe\">\n",
       "  <thead>\n",
       "    <tr style=\"text-align: right;\">\n",
       "      <th></th>\n",
       "      <th>chunk</th>\n",
       "      <th>limited_entity</th>\n",
       "    </tr>\n",
       "  </thead>\n",
       "  <tbody>\n",
       "    <tr>\n",
       "      <th>0</th>\n",
       "      <td>28</td>\n",
       "      <td>AGE</td>\n",
       "    </tr>\n",
       "  </tbody>\n",
       "</table>\n",
       "</div>"
      ],
      "text/plain": [
       "  chunk limited_entity\n",
       "0    28            AGE"
      ]
     },
     "execution_count": 15,
     "metadata": {},
     "output_type": "execute_result"
    }
   ],
   "source": [
    "chunk= []\n",
    "limited_merge_entity= []\n",
    "\n",
    "for i in list(lresult[\"merged_chunks_black_list\"]):\n",
    "  chunk.append(i.result)\n",
    "  limited_merge_entity.append(i.metadata[\"entity\"])\n",
    "\n",
    "df= pd.DataFrame({\"chunk\": chunk, \"limited_entity\": limited_merge_entity }) \n",
    "df.head()"
   ]
  }
 ],
 "metadata": {
  "colab": {
   "collapsed_sections": [],
   "name": "7.Clinical_NER_Chunk_Merger.ipynb",
   "provenance": [
    {
     "file_id": "https://github.com/JohnSnowLabs/spark-nlp-workshop/blob/master/tutorials/Certification_Trainings/Healthcare/7.Clinical_NER_Chunk_Merger.ipynb",
     "timestamp": 1638205185149
    }
   ],
   "toc_visible": true
  },
  "kernelspec": {
   "display_name": "Python 3 (ipykernel)",
   "language": "python",
   "name": "python3"
  },
  "language_info": {
   "codemirror_mode": {
    "name": "ipython",
    "version": 3
   },
   "file_extension": ".py",
   "mimetype": "text/x-python",
   "name": "python",
   "nbconvert_exporter": "python",
   "pygments_lexer": "ipython3",
   "version": "3.7.6"
  }
 },
 "nbformat": 4,
 "nbformat_minor": 1
}

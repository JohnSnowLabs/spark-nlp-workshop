{
  "nbformat": 4,
  "nbformat_minor": 0,
  "metadata": {
    "colab": {
      "name": "3.1.Clinical_Entity_Resolvers.ipynb adlı dosyanın kopyası",
      "provenance": [],
      "collapsed_sections": []
    },
    "kernelspec": {
      "display_name": "Python 3",
      "language": "python",
      "name": "python3"
    },
    "language_info": {
      "codemirror_mode": {
        "name": "ipython",
        "version": 3
      },
      "file_extension": ".py",
      "mimetype": "text/x-python",
      "name": "python",
      "nbconvert_exporter": "python",
      "pygments_lexer": "ipython3",
      "version": "3.7.4"
    }
  },
  "cells": [
    {
      "cell_type": "markdown",
      "metadata": {
        "id": "I08sFJYCxR0Z"
      },
      "source": [
        "![JohnSnowLabs](https://nlp.johnsnowlabs.com/assets/images/logo.png)"
      ]
    },
    {
      "cell_type": "markdown",
      "metadata": {
        "id": "TFt3I9CgrOq5"
      },
      "source": [
        "[![Open In Colab](https://colab.research.google.com/assets/colab-badge.svg)](https://colab.research.google.com/github/JohnSnowLabs/spark-nlp-workshop/blob/master/tutorials/Certification_Trainings/Healthcare/3.1.Clinical_Entity_Resolvers_ChunkEntityResolver.ipynb)"
      ]
    },
    {
      "cell_type": "markdown",
      "metadata": {
        "id": "Niy3mZAjoayg"
      },
      "source": [
        "# Clinical Entity Resolvers (ChunkEntityResolver)"
      ]
    },
    {
      "cell_type": "markdown",
      "metadata": {
        "id": "okhT7AcXxben"
      },
      "source": [
        "## Colab Setup"
      ]
    },
    {
      "cell_type": "code",
      "metadata": {
        "id": "9xoslgNepLhZ"
      },
      "source": [
        "import json\n",
        "\n",
        "from google.colab import files\n",
        "\n",
        "license_keys = files.upload()\n",
        "\n",
        "with open(list(license_keys.keys())[0]) as f:\n",
        "    license_keys = json.load(f)"
      ],
      "execution_count": null,
      "outputs": []
    },
    {
      "cell_type": "code",
      "metadata": {
        "id": "M7fW73XyFTKI"
      },
      "source": [
        "%%capture\n",
        "for k,v in license_keys.items(): \n",
        "    %set_env $k=$v\n",
        "\n",
        "!wget https://raw.githubusercontent.com/JohnSnowLabs/spark-nlp-workshop/master/jsl_colab_setup.sh\n",
        "!bash jsl_colab_setup.sh -p 2.4.4\n",
        "\n",
        "! pip install spark-nlp-display"
      ],
      "execution_count": null,
      "outputs": []
    },
    {
      "cell_type": "code",
      "metadata": {
        "id": "uS5LtVO6pWo6",
        "colab": {
          "base_uri": "https://localhost:8080/"
        },
        "outputId": "ec4bda7f-ead2-4db7-9b29-8e990e40b33a"
      },
      "source": [
        "import json\n",
        "import sys, os, time\n",
        "from pyspark.ml import Pipeline,PipelineModel\n",
        "from pyspark.sql import SparkSession\n",
        "\n",
        "from sparknlp.base import *\n",
        "from sparknlp.annotator import *\n",
        "from sparknlp_jsl.annotator import *\n",
        "import sparknlp_jsl\n",
        "import sparknlp\n",
        "\n",
        "from sparknlp.util import *\n",
        "from sparknlp.pretrained import ResourceDownloader\n",
        "from pyspark.sql import functions as F\n",
        "\n",
        "params = {\"spark.driver.memory\":\"16G\",\n",
        "\"spark.kryoserializer.buffer.max\":\"2000M\",\n",
        "\"spark.driver.maxResultSize\":\"2000M\"}\n",
        "\n",
        "spark = sparknlp_jsl.start(license_keys['SECRET'],params=params)\n",
        "\n",
        "print (sparknlp.version())\n",
        "print (sparknlp_jsl.version())"
      ],
      "execution_count": null,
      "outputs": [
        {
          "output_type": "stream",
          "text": [
            "2.7.4\n",
            "2.7.6\n"
          ],
          "name": "stdout"
        }
      ]
    },
    {
      "cell_type": "code",
      "metadata": {
        "id": "V1wrGrq0GClP",
        "colab": {
          "base_uri": "https://localhost:8080/",
          "height": 216
        },
        "outputId": "54cb651e-dfa3-4ead-d592-0b2ad055c73f"
      },
      "source": [
        "spark"
      ],
      "execution_count": null,
      "outputs": [
        {
          "output_type": "execute_result",
          "data": {
            "text/html": [
              "\n",
              "            <div>\n",
              "                <p><b>SparkSession - in-memory</b></p>\n",
              "                \n",
              "        <div>\n",
              "            <p><b>SparkContext</b></p>\n",
              "\n",
              "            <p><a href=\"http://d142c1425d82:4040\">Spark UI</a></p>\n",
              "\n",
              "            <dl>\n",
              "              <dt>Version</dt>\n",
              "                <dd><code>v2.4.4</code></dd>\n",
              "              <dt>Master</dt>\n",
              "                <dd><code>local[*]</code></dd>\n",
              "              <dt>AppName</dt>\n",
              "                <dd><code>Spark NLP Licensed</code></dd>\n",
              "            </dl>\n",
              "        </div>\n",
              "        \n",
              "            </div>\n",
              "        "
            ],
            "text/plain": [
              "<pyspark.sql.session.SparkSession at 0x7f584962f250>"
            ]
          },
          "metadata": {
            "tags": []
          },
          "execution_count": 4
        }
      ]
    },
    {
      "cell_type": "markdown",
      "metadata": {
        "id": "AMU4sAJQ0Rhs"
      },
      "source": [
        "# Clinical Resolvers"
      ]
    },
    {
      "cell_type": "markdown",
      "metadata": {
        "id": "7W1pKQfb_BGi"
      },
      "source": [
        "![image.png](data:image/png;base64,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)"
      ]
    },
    {
      "cell_type": "markdown",
      "metadata": {
        "id": "ne8BHjBjU6nN"
      },
      "source": [
        "## Entity Resolvers for ICD-10"
      ]
    },
    {
      "cell_type": "markdown",
      "metadata": {
        "id": "RYB-ZiRUgGYI"
      },
      "source": [
        "A common NLP problem in biomedical aplications is to identify the presence of clinical entities in a given text. This clinical entities could be diseases, symptoms, drugs, results of clinical investigations or others.\n",
        "\n",
        "Other than providing the code in the \"result\" field it provides more metadata about the matching process:\n",
        "\n",
        "- target_text -> Text to resolve\n",
        "- resolved_text -> Best match text\n",
        "- confidence -> Relative confidence for the top match (distance to probability)\n",
        "- confidence_ratio -> Relative confidence for the top match. TopMatchConfidence / SecondMatchConfidence\n",
        "- alternative_codes -> List of other plausible codes (in the KNN neighborhood)\n",
        "- alternative_confidence_ratios -> Rest of confidence ratios\n",
        "- all_k_results -> All resolved codes for metrics calculation purposes\n",
        "- sentence -> SentenceId\n",
        "- chunk -> ChunkId"
      ]
    },
    {
      "cell_type": "markdown",
      "metadata": {
        "id": "2boadIMbhoCd"
      },
      "source": [
        "### Clinical NER Pipeline creation"
      ]
    },
    {
      "cell_type": "code",
      "metadata": {
        "id": "XsXx7JxPVSWP",
        "colab": {
          "base_uri": "https://localhost:8080/"
        },
        "outputId": "d59012e1-522c-4eda-e698-fb2294127ab5"
      },
      "source": [
        "# Annotator that transforms a text column from dataframe into an Annotation ready for NLP\n",
        "documentAssembler = DocumentAssembler()\\\n",
        "    .setInputCol(\"text\")\\\n",
        "    .setOutputCol(\"document\")\n",
        "\n",
        "# Sentence Detector DL annotator, processes various sentences per line\n",
        "sentenceDetectorDL = SentenceDetectorDLModel\\\n",
        "    .pretrained(\"sentence_detector_dl_healthcare\", \"en\", 'clinical/models') \\\n",
        "    .setInputCols([\"document\"]) \\\n",
        "    .setOutputCol(\"sentence\")\n",
        "\n",
        "# Tokenizer splits words in a relevant format for NLP\n",
        "tokenizer = Tokenizer()\\\n",
        "    .setInputCols([\"sentence\"])\\\n",
        "    .setOutputCol(\"raw_token\")\\\n",
        "\n",
        "# Tokenizer splits words in a relevant format for NLP\n",
        "stopwords = StopWordsCleaner()\\\n",
        "    .setInputCols([\"raw_token\"])\\\n",
        "    .setOutputCol(\"token\")\n",
        "  "
      ],
      "execution_count": null,
      "outputs": [
        {
          "output_type": "stream",
          "text": [
            "sentence_detector_dl_healthcare download started this may take some time.\n",
            "Approximate size to download 363.9 KB\n",
            "[OK!]\n"
          ],
          "name": "stdout"
        }
      ]
    },
    {
      "cell_type": "markdown",
      "metadata": {
        "id": "F4qEq7cogdtR"
      },
      "source": [
        "The fourth annotator in the pipeline is \"WordEmbeddingsModel\". We will download a pretrained model available from \"clinical/models\" named \"embeddings_clinical\".\n",
        "\n",
        "When running this cell your are advised to be patient.\n",
        "\n",
        "First time you call this pretrained model it needs to be downloaded in your local.\n",
        "\n",
        "The model size is about will download the embeddings_clinical corpus it takes a while.\n",
        "\n",
        "The size is about 1.7Gb and will be saved typically in your home folder as\n",
        "\n",
        "`~HOMEFOLDER/cached_models/ embeddings_clinical_en_2.0.2_2.4_1558454742956`\n",
        "\n",
        "Next times you call it the model is loaded from your cached copy but even in that case it needs to be indexed each time so expect waiting up to 5 minutes (depending on your machine)"
      ]
    },
    {
      "cell_type": "code",
      "metadata": {
        "id": "H1vxrcMVgm55",
        "colab": {
          "base_uri": "https://localhost:8080/"
        },
        "outputId": "fccb4002-3153-480e-f324-db14a91c8e2b"
      },
      "source": [
        "# WordEmbeddingsModel pretrained \"embeddings_clinical\" includes a model of 1.7Gb that needs to be downloaded\n",
        "\n",
        "word_embeddings = WordEmbeddingsModel.pretrained(\"embeddings_clinical\", \"en\", \"clinical/models\")\\\n",
        "    .setInputCols([\"sentence\", \"token\"])\\\n",
        "    .setOutputCol(\"embeddings\")\n",
        "  "
      ],
      "execution_count": null,
      "outputs": [
        {
          "output_type": "stream",
          "text": [
            "embeddings_clinical download started this may take some time.\n",
            "Approximate size to download 1.6 GB\n",
            "[OK!]\n"
          ],
          "name": "stdout"
        }
      ]
    },
    {
      "cell_type": "markdown",
      "metadata": {
        "id": "i0by2rhcgp5L"
      },
      "source": [
        "The fifth and final annotator in our NER pipeline is the pretrained `ner_clinical` NerDLModel avaliable from \"clinical/models\". It requires as input the \"sentence\", \"token\" and \"embeddings\" (clinical embeddings pretrained model) and will classify each token in four categories:\n",
        "\n",
        "- `PROBLEM`: for patient problems\n",
        "\n",
        "- `TEST`: for tests, labs, etc.\n",
        "\n",
        "- `TREATMENT`: for treatments, medicines, etc.\n",
        "\n",
        "- `OTHER`: for the rest of tokens.\n",
        "\n",
        "In order to split those identified NER that are consecutive, the B prefix (as B-PROBLEM) will be used at the first token of each NER. The I prefix (as I-PROBLEM) will be used for the rest of tokens inside the NER."
      ]
    },
    {
      "cell_type": "code",
      "metadata": {
        "id": "uDjjiX6QaRwv",
        "colab": {
          "base_uri": "https://localhost:8080/"
        },
        "outputId": "d76f13a5-e889-4f73-9173-cc95affb1e38"
      },
      "source": [
        "# Named Entity Recognition for clinical concepts.\n",
        "\n",
        "clinical_ner = NerDLModel.pretrained(\"ner_clinical\", \"en\", \"clinical/models\") \\\n",
        "    .setInputCols([\"sentence\", \"token\", \"embeddings\"]) \\\n",
        "    .setOutputCol(\"ner\")\n",
        "\n",
        "ner_converter = NerConverter() \\\n",
        "    .setInputCols([\"sentence\", \"token\", \"ner\"]) \\\n",
        "    .setOutputCol(\"ner_chunk\")\n"
      ],
      "execution_count": null,
      "outputs": [
        {
          "output_type": "stream",
          "text": [
            "ner_clinical download started this may take some time.\n",
            "Approximate size to download 13.9 MB\n",
            "[OK!]\n"
          ],
          "name": "stdout"
        }
      ]
    },
    {
      "cell_type": "markdown",
      "metadata": {
        "id": "Xs06Ht7ahW5c"
      },
      "source": [
        "### Define the NER pipeline\n",
        "\n",
        "Now we will define the actual pipeline that puts together the annotators we have created."
      ]
    },
    {
      "cell_type": "code",
      "metadata": {
        "id": "oBRouQyLVbDn"
      },
      "source": [
        "# Build up the pipeline\n",
        "\n",
        "pipeline_ner = Pipeline(\n",
        "    stages = [\n",
        "        documentAssembler,\n",
        "        sentenceDetectorDL,\n",
        "        tokenizer,\n",
        "        stopwords,\n",
        "        word_embeddings,\n",
        "        clinical_ner,\n",
        "        ner_converter\n",
        "  ])"
      ],
      "execution_count": null,
      "outputs": []
    },
    {
      "cell_type": "markdown",
      "metadata": {
        "id": "B7KVjaN5hwCZ"
      },
      "source": [
        "### Create a SparkDataFrame with the content\n",
        "\n",
        "Now we will create a sample Spark dataframe with our clinical note example.\n",
        "\n",
        "In this example we are working over a unique clinical note. In production environments a table with several of those clinical notes could be distributed in a cluster and be run in large scale systems."
      ]
    },
    {
      "cell_type": "code",
      "metadata": {
        "id": "OP0I7ELJ0his"
      },
      "source": [
        "clinical_note = (\n",
        "    'A 28-year-old female with a history of gestational diabetes mellitus diagnosed eight years '\n",
        "    'prior to presentation and subsequent type two diabetes mellitus (T2DM), one prior '\n",
        "    'episode of HTG-induced pancreatitis three years prior to presentation, associated '\n",
        "    'with an acute hepatitis, and obesity with a body mass index (BMI) of 33.5 kg/m2, '\n",
        "    'presented with a one-week history of polyuria, polydipsia, poor appetite, and vomiting. '\n",
        "    'Two weeks prior to presentation, she was treated with a five-day course of amoxicillin '\n",
        "    'for a respiratory tract infection. She was on metformin, glipizide, and dapagliflozin '\n",
        "    'for T2DM and atorvastatin and gemfibrozil for HTG. She had been on dapagliflozin for six months '\n",
        "    'at the time of presentation. Physical examination on presentation was significant for dry oral mucosa; '\n",
        "    'significantly, her abdominal examination was benign with no tenderness, guarding, or rigidity. Pertinent '\n",
        "    'laboratory findings on admission were: serum glucose 111 mg/dl, bicarbonate 18 mmol/l, anion gap 20, '\n",
        "    'creatinine 0.4 mg/dL, triglycerides 508 mg/dL, total cholesterol 122 mg/dL, glycated hemoglobin (HbA1c) '\n",
        "    '10%, and venous pH 7.27. Serum lipase was normal at 43 U/L. Serum acetone levels could not be assessed '\n",
        "    'as blood samples kept hemolyzing due to significant lipemia. The patient was initially admitted for '\n",
        "    'starvation ketosis, as she reported poor oral intake for three days prior to admission. However, '\n",
        "    'serum chemistry obtained six hours after presentation revealed her glucose was 186 mg/dL, the anion gap '\n",
        "    'was still elevated at 21, serum bicarbonate was 16 mmol/L, triglyceride level peaked at 2050 mg/dL, and '\n",
        "    'lipase was 52 U/L. The β-hydroxybutyrate level was obtained and found to be elevated at 5.29 mmol/L - '\n",
        "    'the original sample was centrifuged and the chylomicron layer removed prior to analysis due to '\n",
        "    'interference from turbidity caused by lipemia again. The patient was treated with an insulin drip '\n",
        "    'for euDKA and HTG with a reduction in the anion gap to 13 and triglycerides to 1400 mg/dL, within '\n",
        "    '24 hours. Her euDKA was thought to be precipitated by her respiratory tract infection in the setting '\n",
        "    'of SGLT2 inhibitor use. The patient was seen by the endocrinology service and she was discharged on '\n",
        "    '40 units of insulin glargine at night, 12 units of insulin lispro with meals, and metformin 1000 mg '\n",
        "    'two times a day. It was determined that all SGLT2 inhibitors should be discontinued indefinitely. She '\n",
        "    'had close follow-up with endocrinology post discharge.'\n",
        ")\n",
        "\n",
        "\n",
        "data_ner = spark.createDataFrame([[clinical_note]]).toDF(\"text\")"
      ],
      "execution_count": null,
      "outputs": []
    },
    {
      "cell_type": "code",
      "metadata": {
        "id": "WUwTHgazh6q2",
        "colab": {
          "base_uri": "https://localhost:8080/"
        },
        "outputId": "b46648de-3c01-4f60-e583-822d6465ced6"
      },
      "source": [
        "data_ner.show(truncate = 100)\n"
      ],
      "execution_count": null,
      "outputs": [
        {
          "output_type": "stream",
          "text": [
            "+----------------------------------------------------------------------------------------------------+\n",
            "|                                                                                                text|\n",
            "+----------------------------------------------------------------------------------------------------+\n",
            "|A 28-year-old female with a history of gestational diabetes mellitus diagnosed eight years prior ...|\n",
            "+----------------------------------------------------------------------------------------------------+\n",
            "\n"
          ],
          "name": "stdout"
        }
      ]
    },
    {
      "cell_type": "markdown",
      "metadata": {
        "id": "7-W5pM5miMcx"
      },
      "source": [
        "### Transform / annotate the clinical note using the model.\n",
        "\n",
        "In order to process the data with the new created model we have two options.\n",
        "\n",
        "The first one would be to use the model to transform our clinical note by the command:\n",
        "\n",
        "`output = model_ner.transform(data_ner)`\n",
        "\n",
        "That would save in a Spark DataFrame (output) the resuls of running the model over the clinical note.\n",
        "\n",
        "However for small tests like this or for real-time request a LightPipelines is a simpler way of managing the data. It will return a dictionary (instead of a Spark DataFrame) with the results of the transformation\n",
        "\n",
        "We will create a light_pipeline_ner using our model_ner and then will annotate the clinical_note using this light_pipeline."
      ]
    },
    {
      "cell_type": "code",
      "metadata": {
        "id": "ILwJzJmgiLkI"
      },
      "source": [
        "model = pipeline_ner.fit(data_ner)\n",
        "\n",
        "light_pipeline = LightPipeline(model)\n",
        "light_data = light_pipeline.annotate(clinical_note)"
      ],
      "execution_count": null,
      "outputs": []
    },
    {
      "cell_type": "code",
      "metadata": {
        "id": "jlC6H8MYWO6P",
        "colab": {
          "base_uri": "https://localhost:8080/"
        },
        "outputId": "71b11fae-12aa-47d5-b746-671d0433bbc1"
      },
      "source": [
        "light_data.keys()"
      ],
      "execution_count": null,
      "outputs": [
        {
          "output_type": "execute_result",
          "data": {
            "text/plain": [
              "dict_keys(['document', 'ner_chunk', 'raw_token', 'token', 'ner', 'embeddings', 'sentence'])"
            ]
          },
          "metadata": {
            "tags": []
          },
          "execution_count": 12
        }
      ]
    },
    {
      "cell_type": "markdown",
      "metadata": {
        "id": "4Iw3K9JQiWwQ"
      },
      "source": [
        "Now we have a dictionaty (light_data) that contains the results of running the NER pipeline over our clinical note.\n",
        "\n",
        "It contains the original document:"
      ]
    },
    {
      "cell_type": "code",
      "metadata": {
        "id": "mtFmN3YtiV08",
        "colab": {
          "base_uri": "https://localhost:8080/",
          "height": 53
        },
        "outputId": "461a893d-3bfc-4cab-d327-2e41c6f14111"
      },
      "source": [
        "light_data['document'][0][0:100]\n"
      ],
      "execution_count": null,
      "outputs": [
        {
          "output_type": "execute_result",
          "data": {
            "application/vnd.google.colaboratory.intrinsic+json": {
              "type": "string"
            },
            "text/plain": [
              "'A 28-year-old female with a history of gestational diabetes mellitus diagnosed eight years prior to '"
            ]
          },
          "metadata": {
            "tags": []
          },
          "execution_count": 13
        }
      ]
    },
    {
      "cell_type": "code",
      "metadata": {
        "id": "uWVU0ZXJifuL",
        "colab": {
          "base_uri": "https://localhost:8080/"
        },
        "outputId": "86633380-1722-4044-e6bd-2a2ea094649c"
      },
      "source": [
        "print(\"Number of sentences: {}\".format(len(light_data['sentence'])))\n",
        "print(\"\")\n",
        "for i in range(5):\n",
        "    print(\"Sentence {}: {}\".format(i, light_data['sentence'][i]))"
      ],
      "execution_count": null,
      "outputs": [
        {
          "output_type": "stream",
          "text": [
            "Number of sentences: 16\n",
            "\n",
            "Sentence 0: A 28-year-old female with a history of gestational diabetes mellitus diagnosed eight years prior to presentation and subsequent type two diabetes mellitus (T2DM), one prior episode of HTG-induced pancreatitis three years prior to presentation, associated with an acute hepatitis, and obesity with a body mass index (BMI) of 33.5 kg/m2, presented with a one-week history of polyuria, polydipsia, poor appetite, and vomiting.\n",
            "Sentence 1: Two weeks prior to presentation, she was treated with a five-day course of amoxicillin for a respiratory tract infection.\n",
            "Sentence 2: She was on metformin, glipizide, and dapagliflozin for T2DM and atorvastatin and gemfibrozil for HTG.\n",
            "Sentence 3: She had been on dapagliflozin for six months at the time of presentation.\n",
            "Sentence 4: Physical examination on presentation was significant for dry oral mucosa; significantly, her abdominal examination was benign with no tenderness, guarding, or rigidity.\n"
          ],
          "name": "stdout"
        }
      ]
    },
    {
      "cell_type": "code",
      "metadata": {
        "id": "YlllypNuijnH",
        "colab": {
          "base_uri": "https://localhost:8080/"
        },
        "outputId": "f684c8ec-193e-4502-9d44-2be33c1db49d"
      },
      "source": [
        "print(\"Number of tokens: {}\".format(len(light_data['token'])))\n",
        "print(\"\")\n",
        "for i in range(25):\n",
        "    print(\"Token {}: {} ---> ({})\".format(i, light_data['token'][i], light_data['ner'][i]))\n",
        "print(\"...\")"
      ],
      "execution_count": null,
      "outputs": [
        {
          "output_type": "stream",
          "text": [
            "Number of tokens: 299\n",
            "\n",
            "Token 0: 28-year-old ---> (O)\n",
            "Token 1: female ---> (O)\n",
            "Token 2: history ---> (O)\n",
            "Token 3: gestational ---> (B-PROBLEM)\n",
            "Token 4: diabetes ---> (I-PROBLEM)\n",
            "Token 5: mellitus ---> (I-PROBLEM)\n",
            "Token 6: diagnosed ---> (O)\n",
            "Token 7: eight ---> (O)\n",
            "Token 8: years ---> (O)\n",
            "Token 9: prior ---> (O)\n",
            "Token 10: presentation ---> (O)\n",
            "Token 11: subsequent ---> (O)\n",
            "Token 12: type ---> (B-PROBLEM)\n",
            "Token 13: two ---> (I-PROBLEM)\n",
            "Token 14: diabetes ---> (I-PROBLEM)\n",
            "Token 15: mellitus ---> (I-PROBLEM)\n",
            "Token 16: ( ---> (O)\n",
            "Token 17: T2DM ---> (B-PROBLEM)\n",
            "Token 18: ), ---> (O)\n",
            "Token 19: one ---> (B-PROBLEM)\n",
            "Token 20: prior ---> (I-PROBLEM)\n",
            "Token 21: episode ---> (I-PROBLEM)\n",
            "Token 22: HTG-induced ---> (I-PROBLEM)\n",
            "Token 23: pancreatitis ---> (I-PROBLEM)\n",
            "Token 24: three ---> (O)\n",
            "...\n"
          ],
          "name": "stdout"
        }
      ]
    },
    {
      "cell_type": "markdown",
      "metadata": {
        "id": "yibMbKlbi8fx"
      },
      "source": [
        "Lets apply some HTML formating to see the results of the pipeline in a nicer layout:\n",
        "\n"
      ]
    },
    {
      "cell_type": "code",
      "metadata": {
        "id": "DMWJotNDM9GN",
        "colab": {
          "base_uri": "https://localhost:8080/",
          "height": 852
        },
        "outputId": "2f848be3-7f02-466b-9a68-328195aab6b8"
      },
      "source": [
        "light_result = light_pipeline.fullAnnotate(clinical_note)\n",
        "\n",
        "from sparknlp_display import NerVisualizer\n",
        "\n",
        "visualiser = NerVisualizer()\n",
        "\n",
        "#visualiser.display(light_result[0], label_col='entities', document_col='document')\n",
        "\n",
        "# Change color of an entity label\n",
        "\n",
        "visualiser.set_label_colors({'PROBLEM':'#008080', 'TEST':'#800080', 'TREATMENT':'#808080'})\n",
        "visualiser.display(light_result[0], label_col='ner_chunk')\n",
        "\n",
        "# Set label filter\n",
        "\n",
        "# visualiser.display(light_result, label_col='ner_chunk', document_col='document',\n",
        "                   #labels=['PROBLEM','TEST'])"
      ],
      "execution_count": null,
      "outputs": [
        {
          "output_type": "display_data",
          "data": {
            "text/html": [
              "\n",
              "<style>\n",
              "    @import url('https://fonts.googleapis.com/css2?family=Montserrat:wght@300;400;500;600;700&display=swap');\n",
              "    @import url('https://fonts.googleapis.com/css2?family=Vistol Regular:wght@300;400;500;600;700&display=swap');\n",
              "    \n",
              "    .spark-nlp-display-scroll-entities {\n",
              "        border: 1px solid #E7EDF0;\n",
              "        border-radius: 3px;\n",
              "        text-align: justify;\n",
              "        \n",
              "    }\n",
              "    .spark-nlp-display-scroll-entities span {  \n",
              "        font-size: 14px;\n",
              "        line-height: 24px;\n",
              "        color: #536B76;\n",
              "        font-family: 'Montserrat', sans-serif !important;\n",
              "    }\n",
              "    \n",
              "    .spark-nlp-display-entity-wrapper{\n",
              "    \n",
              "        display: inline-grid;\n",
              "        text-align: center;\n",
              "        border-radius: 4px;\n",
              "        margin: 0 2px 5px 2px;\n",
              "        padding: 1px\n",
              "    }\n",
              "    .spark-nlp-display-entity-name{\n",
              "        font-size: 14px;\n",
              "        line-height: 24px;\n",
              "        font-family: 'Montserrat', sans-serif !important;\n",
              "        \n",
              "        background: #f1f2f3;\n",
              "        border-width: medium;\n",
              "        text-align: center;\n",
              "        \n",
              "        font-weight: 400;\n",
              "        \n",
              "        border-radius: 5px;\n",
              "        padding: 2px 5px;\n",
              "        display: block;\n",
              "        margin: 3px 2px;\n",
              "    \n",
              "    }\n",
              "    .spark-nlp-display-entity-type{\n",
              "        font-size: 14px;\n",
              "        line-height: 24px;\n",
              "        color: #ffffff;\n",
              "        font-family: 'Montserrat', sans-serif !important;\n",
              "        \n",
              "        text-transform: uppercase;\n",
              "        \n",
              "        font-weight: 500;\n",
              "\n",
              "        display: block;\n",
              "        padding: 3px 5px;\n",
              "    }\n",
              "    \n",
              "    .spark-nlp-display-entity-resolution{\n",
              "        font-size: 14px;\n",
              "        line-height: 24px;\n",
              "        color: #ffffff;\n",
              "        font-family: 'Vistol Regular', sans-serif !important;\n",
              "        \n",
              "        text-transform: uppercase;\n",
              "        \n",
              "        font-weight: 500;\n",
              "\n",
              "        display: block;\n",
              "        padding: 3px 5px;\n",
              "    }\n",
              "    \n",
              "    .spark-nlp-display-others{\n",
              "        font-size: 14px;\n",
              "        line-height: 24px;\n",
              "        font-family: 'Montserrat', sans-serif !important;\n",
              "        \n",
              "        font-weight: 400;\n",
              "    }\n",
              "\n",
              "</style>\n",
              " <span class=\"spark-nlp-display-others\" style=\"background-color: white\">A 28-year-old female with a history of </span><span class=\"spark-nlp-display-entity-wrapper\" style=\"background-color: #008080\"><span class=\"spark-nlp-display-entity-name\">gestational diabetes mellitus </span><span class=\"spark-nlp-display-entity-type\">PROBLEM</span></span><span class=\"spark-nlp-display-others\" style=\"background-color: white\"> diagnosed eight years prior to presentation and subsequent </span><span class=\"spark-nlp-display-entity-wrapper\" style=\"background-color: #008080\"><span class=\"spark-nlp-display-entity-name\">type two diabetes mellitus </span><span class=\"spark-nlp-display-entity-type\">PROBLEM</span></span><span class=\"spark-nlp-display-others\" style=\"background-color: white\"> (</span><span class=\"spark-nlp-display-entity-wrapper\" style=\"background-color: #008080\"><span class=\"spark-nlp-display-entity-name\">T2DM </span><span class=\"spark-nlp-display-entity-type\">PROBLEM</span></span><span class=\"spark-nlp-display-others\" style=\"background-color: white\">), </span><span class=\"spark-nlp-display-entity-wrapper\" style=\"background-color: #008080\"><span class=\"spark-nlp-display-entity-name\">one prior episode of HTG-induced pancreatitis </span><span class=\"spark-nlp-display-entity-type\">PROBLEM</span></span><span class=\"spark-nlp-display-others\" style=\"background-color: white\"> three years prior to presentation, </span><span class=\"spark-nlp-display-entity-wrapper\" style=\"background-color: #008080\"><span class=\"spark-nlp-display-entity-name\">associated with an acute hepatitis </span><span class=\"spark-nlp-display-entity-type\">PROBLEM</span></span><span class=\"spark-nlp-display-others\" style=\"background-color: white\">, and </span><span class=\"spark-nlp-display-entity-wrapper\" style=\"background-color: #008080\"><span class=\"spark-nlp-display-entity-name\">obesity with a body mass </span><span class=\"spark-nlp-display-entity-type\">PROBLEM</span></span><span class=\"spark-nlp-display-others\" style=\"background-color: white\"> index (BMI) of 33.5 kg/m2, presented with a one-week history of </span><span class=\"spark-nlp-display-entity-wrapper\" style=\"background-color: #008080\"><span class=\"spark-nlp-display-entity-name\">polyuria </span><span class=\"spark-nlp-display-entity-type\">PROBLEM</span></span><span class=\"spark-nlp-display-others\" style=\"background-color: white\">, </span><span class=\"spark-nlp-display-entity-wrapper\" style=\"background-color: #008080\"><span class=\"spark-nlp-display-entity-name\">polydipsia </span><span class=\"spark-nlp-display-entity-type\">PROBLEM</span></span><span class=\"spark-nlp-display-others\" style=\"background-color: white\">, </span><span class=\"spark-nlp-display-entity-wrapper\" style=\"background-color: #008080\"><span class=\"spark-nlp-display-entity-name\">poor appetite </span><span class=\"spark-nlp-display-entity-type\">PROBLEM</span></span><span class=\"spark-nlp-display-others\" style=\"background-color: white\">, and </span><span class=\"spark-nlp-display-entity-wrapper\" style=\"background-color: #008080\"><span class=\"spark-nlp-display-entity-name\">vomiting </span><span class=\"spark-nlp-display-entity-type\">PROBLEM</span></span><span class=\"spark-nlp-display-others\" style=\"background-color: white\">. Two weeks prior to presentation, she was treated with a </span><span class=\"spark-nlp-display-entity-wrapper\" style=\"background-color: #008080\"><span class=\"spark-nlp-display-entity-name\">five-day course of amoxicillin for a respiratory tract infection </span><span class=\"spark-nlp-display-entity-type\">PROBLEM</span></span><span class=\"spark-nlp-display-others\" style=\"background-color: white\">. She was on </span><span class=\"spark-nlp-display-entity-wrapper\" style=\"background-color: #808080\"><span class=\"spark-nlp-display-entity-name\">metformin </span><span class=\"spark-nlp-display-entity-type\">TREATMENT</span></span><span class=\"spark-nlp-display-others\" style=\"background-color: white\">, </span><span class=\"spark-nlp-display-entity-wrapper\" style=\"background-color: #808080\"><span class=\"spark-nlp-display-entity-name\">glipizide </span><span class=\"spark-nlp-display-entity-type\">TREATMENT</span></span><span class=\"spark-nlp-display-others\" style=\"background-color: white\">, and </span><span class=\"spark-nlp-display-entity-wrapper\" style=\"background-color: #808080\"><span class=\"spark-nlp-display-entity-name\">dapagliflozin </span><span class=\"spark-nlp-display-entity-type\">TREATMENT</span></span><span class=\"spark-nlp-display-others\" style=\"background-color: white\"> for </span><span class=\"spark-nlp-display-entity-wrapper\" style=\"background-color: #008080\"><span class=\"spark-nlp-display-entity-name\">T2DM </span><span class=\"spark-nlp-display-entity-type\">PROBLEM</span></span><span class=\"spark-nlp-display-others\" style=\"background-color: white\"> and </span><span class=\"spark-nlp-display-entity-wrapper\" style=\"background-color: #808080\"><span class=\"spark-nlp-display-entity-name\">atorvastatin and gemfibrozil </span><span class=\"spark-nlp-display-entity-type\">TREATMENT</span></span><span class=\"spark-nlp-display-others\" style=\"background-color: white\"> for </span><span class=\"spark-nlp-display-entity-wrapper\" style=\"background-color: #008080\"><span class=\"spark-nlp-display-entity-name\">HTG </span><span class=\"spark-nlp-display-entity-type\">PROBLEM</span></span><span class=\"spark-nlp-display-others\" style=\"background-color: white\">. She had been on </span><span class=\"spark-nlp-display-entity-wrapper\" style=\"background-color: #808080\"><span class=\"spark-nlp-display-entity-name\">dapagliflozin </span><span class=\"spark-nlp-display-entity-type\">TREATMENT</span></span><span class=\"spark-nlp-display-others\" style=\"background-color: white\"> for six months at the time of presentation. </span><span class=\"spark-nlp-display-entity-wrapper\" style=\"background-color: #800080\"><span class=\"spark-nlp-display-entity-name\">Physical examination </span><span class=\"spark-nlp-display-entity-type\">TEST</span></span><span class=\"spark-nlp-display-others\" style=\"background-color: white\"> on presentation was </span><span class=\"spark-nlp-display-entity-wrapper\" style=\"background-color: #008080\"><span class=\"spark-nlp-display-entity-name\">significant for dry oral mucosa </span><span class=\"spark-nlp-display-entity-type\">PROBLEM</span></span><span class=\"spark-nlp-display-others\" style=\"background-color: white\">; significantly, her </span><span class=\"spark-nlp-display-entity-wrapper\" style=\"background-color: #800080\"><span class=\"spark-nlp-display-entity-name\">abdominal examination </span><span class=\"spark-nlp-display-entity-type\">TEST</span></span><span class=\"spark-nlp-display-others\" style=\"background-color: white\"> was benign with no </span><span class=\"spark-nlp-display-entity-wrapper\" style=\"background-color: #008080\"><span class=\"spark-nlp-display-entity-name\">tenderness </span><span class=\"spark-nlp-display-entity-type\">PROBLEM</span></span><span class=\"spark-nlp-display-others\" style=\"background-color: white\">, </span><span class=\"spark-nlp-display-entity-wrapper\" style=\"background-color: #008080\"><span class=\"spark-nlp-display-entity-name\">guarding </span><span class=\"spark-nlp-display-entity-type\">PROBLEM</span></span><span class=\"spark-nlp-display-others\" style=\"background-color: white\">, or </span><span class=\"spark-nlp-display-entity-wrapper\" style=\"background-color: #008080\"><span class=\"spark-nlp-display-entity-name\">rigidity </span><span class=\"spark-nlp-display-entity-type\">PROBLEM</span></span><span class=\"spark-nlp-display-others\" style=\"background-color: white\">. Pertinent laboratory findings on admission were: </span><span class=\"spark-nlp-display-entity-wrapper\" style=\"background-color: #800080\"><span class=\"spark-nlp-display-entity-name\">serum glucose </span><span class=\"spark-nlp-display-entity-type\">TEST</span></span><span class=\"spark-nlp-display-others\" style=\"background-color: white\"> 111 mg/dl, </span><span class=\"spark-nlp-display-entity-wrapper\" style=\"background-color: #800080\"><span class=\"spark-nlp-display-entity-name\">bicarbonate </span><span class=\"spark-nlp-display-entity-type\">TEST</span></span><span class=\"spark-nlp-display-others\" style=\"background-color: white\"> 18 mmol/l, </span><span class=\"spark-nlp-display-entity-wrapper\" style=\"background-color: #800080\"><span class=\"spark-nlp-display-entity-name\">anion gap </span><span class=\"spark-nlp-display-entity-type\">TEST</span></span><span class=\"spark-nlp-display-others\" style=\"background-color: white\"> 20, </span><span class=\"spark-nlp-display-entity-wrapper\" style=\"background-color: #800080\"><span class=\"spark-nlp-display-entity-name\">creatinine </span><span class=\"spark-nlp-display-entity-type\">TEST</span></span><span class=\"spark-nlp-display-others\" style=\"background-color: white\"> 0.4 mg/dL, </span><span class=\"spark-nlp-display-entity-wrapper\" style=\"background-color: #800080\"><span class=\"spark-nlp-display-entity-name\">triglycerides </span><span class=\"spark-nlp-display-entity-type\">TEST</span></span><span class=\"spark-nlp-display-others\" style=\"background-color: white\"> 508 mg/dL, </span><span class=\"spark-nlp-display-entity-wrapper\" style=\"background-color: #800080\"><span class=\"spark-nlp-display-entity-name\">total cholesterol </span><span class=\"spark-nlp-display-entity-type\">TEST</span></span><span class=\"spark-nlp-display-others\" style=\"background-color: white\"> 122 mg/dL, </span><span class=\"spark-nlp-display-entity-wrapper\" style=\"background-color: #800080\"><span class=\"spark-nlp-display-entity-name\">glycated hemoglobin </span><span class=\"spark-nlp-display-entity-type\">TEST</span></span><span class=\"spark-nlp-display-others\" style=\"background-color: white\"> (</span><span class=\"spark-nlp-display-entity-wrapper\" style=\"background-color: #800080\"><span class=\"spark-nlp-display-entity-name\">HbA1c </span><span class=\"spark-nlp-display-entity-type\">TEST</span></span><span class=\"spark-nlp-display-others\" style=\"background-color: white\">) 10%, and </span><span class=\"spark-nlp-display-entity-wrapper\" style=\"background-color: #800080\"><span class=\"spark-nlp-display-entity-name\">venous pH </span><span class=\"spark-nlp-display-entity-type\">TEST</span></span><span class=\"spark-nlp-display-others\" style=\"background-color: white\"> 7.27. </span><span class=\"spark-nlp-display-entity-wrapper\" style=\"background-color: #800080\"><span class=\"spark-nlp-display-entity-name\">Serum lipase </span><span class=\"spark-nlp-display-entity-type\">TEST</span></span><span class=\"spark-nlp-display-others\" style=\"background-color: white\"> was normal at 43 </span><span class=\"spark-nlp-display-entity-wrapper\" style=\"background-color: #800080\"><span class=\"spark-nlp-display-entity-name\">U/L </span><span class=\"spark-nlp-display-entity-type\">TEST</span></span><span class=\"spark-nlp-display-others\" style=\"background-color: white\">. </span><span class=\"spark-nlp-display-entity-wrapper\" style=\"background-color: #800080\"><span class=\"spark-nlp-display-entity-name\">Serum acetone levels </span><span class=\"spark-nlp-display-entity-type\">TEST</span></span><span class=\"spark-nlp-display-others\" style=\"background-color: white\"> could not be assessed as </span><span class=\"spark-nlp-display-entity-wrapper\" style=\"background-color: #800080\"><span class=\"spark-nlp-display-entity-name\">blood samples </span><span class=\"spark-nlp-display-entity-type\">TEST</span></span><span class=\"spark-nlp-display-others\" style=\"background-color: white\"> kept hemolyzing due to </span><span class=\"spark-nlp-display-entity-wrapper\" style=\"background-color: #008080\"><span class=\"spark-nlp-display-entity-name\">significant lipemia </span><span class=\"spark-nlp-display-entity-type\">PROBLEM</span></span><span class=\"spark-nlp-display-others\" style=\"background-color: white\">. The patient was </span><span class=\"spark-nlp-display-entity-wrapper\" style=\"background-color: #008080\"><span class=\"spark-nlp-display-entity-name\">initially admitted for starvation ketosis </span><span class=\"spark-nlp-display-entity-type\">PROBLEM</span></span><span class=\"spark-nlp-display-others\" style=\"background-color: white\">, as she reported </span><span class=\"spark-nlp-display-entity-wrapper\" style=\"background-color: #008080\"><span class=\"spark-nlp-display-entity-name\">poor oral intake </span><span class=\"spark-nlp-display-entity-type\">PROBLEM</span></span><span class=\"spark-nlp-display-others\" style=\"background-color: white\"> for three days prior to admission. However, </span><span class=\"spark-nlp-display-entity-wrapper\" style=\"background-color: #800080\"><span class=\"spark-nlp-display-entity-name\">serum chemistry </span><span class=\"spark-nlp-display-entity-type\">TEST</span></span><span class=\"spark-nlp-display-others\" style=\"background-color: white\"> obtained six hours after presentation revealed her </span><span class=\"spark-nlp-display-entity-wrapper\" style=\"background-color: #800080\"><span class=\"spark-nlp-display-entity-name\">glucose </span><span class=\"spark-nlp-display-entity-type\">TEST</span></span><span class=\"spark-nlp-display-others\" style=\"background-color: white\"> was 186 mg/dL, the </span><span class=\"spark-nlp-display-entity-wrapper\" style=\"background-color: #800080\"><span class=\"spark-nlp-display-entity-name\">anion gap </span><span class=\"spark-nlp-display-entity-type\">TEST</span></span><span class=\"spark-nlp-display-others\" style=\"background-color: white\"> was still </span><span class=\"spark-nlp-display-entity-wrapper\" style=\"background-color: #008080\"><span class=\"spark-nlp-display-entity-name\">elevated </span><span class=\"spark-nlp-display-entity-type\">PROBLEM</span></span><span class=\"spark-nlp-display-others\" style=\"background-color: white\"> at 21, </span><span class=\"spark-nlp-display-entity-wrapper\" style=\"background-color: #800080\"><span class=\"spark-nlp-display-entity-name\">serum bicarbonate </span><span class=\"spark-nlp-display-entity-type\">TEST</span></span><span class=\"spark-nlp-display-others\" style=\"background-color: white\"> was 16 mmol/L, </span><span class=\"spark-nlp-display-entity-wrapper\" style=\"background-color: #800080\"><span class=\"spark-nlp-display-entity-name\">triglyceride level </span><span class=\"spark-nlp-display-entity-type\">TEST</span></span><span class=\"spark-nlp-display-others\" style=\"background-color: white\"> peaked at 2050 mg/dL, and </span><span class=\"spark-nlp-display-entity-wrapper\" style=\"background-color: #800080\"><span class=\"spark-nlp-display-entity-name\">lipase </span><span class=\"spark-nlp-display-entity-type\">TEST</span></span><span class=\"spark-nlp-display-others\" style=\"background-color: white\"> was 52 </span><span class=\"spark-nlp-display-entity-wrapper\" style=\"background-color: #800080\"><span class=\"spark-nlp-display-entity-name\">U/L </span><span class=\"spark-nlp-display-entity-type\">TEST</span></span><span class=\"spark-nlp-display-others\" style=\"background-color: white\">. The </span><span class=\"spark-nlp-display-entity-wrapper\" style=\"background-color: #800080\"><span class=\"spark-nlp-display-entity-name\">β-hydroxybutyrate level </span><span class=\"spark-nlp-display-entity-type\">TEST</span></span><span class=\"spark-nlp-display-others\" style=\"background-color: white\"> was obtained and found to be </span><span class=\"spark-nlp-display-entity-wrapper\" style=\"background-color: #008080\"><span class=\"spark-nlp-display-entity-name\">elevated </span><span class=\"spark-nlp-display-entity-type\">PROBLEM</span></span><span class=\"spark-nlp-display-others\" style=\"background-color: white\"> at 5.29 mmol/L - the original sample was centrifuged and the chylomicron layer removed </span><span class=\"spark-nlp-display-entity-wrapper\" style=\"background-color: #800080\"><span class=\"spark-nlp-display-entity-name\">prior to analysis </span><span class=\"spark-nlp-display-entity-type\">TEST</span></span><span class=\"spark-nlp-display-others\" style=\"background-color: white\"> due to </span><span class=\"spark-nlp-display-entity-wrapper\" style=\"background-color: #008080\"><span class=\"spark-nlp-display-entity-name\">interference from turbidity </span><span class=\"spark-nlp-display-entity-type\">PROBLEM</span></span><span class=\"spark-nlp-display-others\" style=\"background-color: white\"> caused by </span><span class=\"spark-nlp-display-entity-wrapper\" style=\"background-color: #008080\"><span class=\"spark-nlp-display-entity-name\">lipemia </span><span class=\"spark-nlp-display-entity-type\">PROBLEM</span></span><span class=\"spark-nlp-display-others\" style=\"background-color: white\"> again. The patient was treated with an </span><span class=\"spark-nlp-display-entity-wrapper\" style=\"background-color: #808080\"><span class=\"spark-nlp-display-entity-name\">insulin drip for euDKA and HTG with a reduction in the anion gap </span><span class=\"spark-nlp-display-entity-type\">TREATMENT</span></span><span class=\"spark-nlp-display-others\" style=\"background-color: white\"> to 13 and </span><span class=\"spark-nlp-display-entity-wrapper\" style=\"background-color: #800080\"><span class=\"spark-nlp-display-entity-name\">triglycerides </span><span class=\"spark-nlp-display-entity-type\">TEST</span></span><span class=\"spark-nlp-display-others\" style=\"background-color: white\"> to 1400 mg/dL, within 24 hours. Her euDKA was thought to be </span><span class=\"spark-nlp-display-entity-wrapper\" style=\"background-color: #008080\"><span class=\"spark-nlp-display-entity-name\">precipitated by her respiratory tract infection </span><span class=\"spark-nlp-display-entity-type\">PROBLEM</span></span><span class=\"spark-nlp-display-others\" style=\"background-color: white\"> in the setting of </span><span class=\"spark-nlp-display-entity-wrapper\" style=\"background-color: #808080\"><span class=\"spark-nlp-display-entity-name\">SGLT2 inhibitor </span><span class=\"spark-nlp-display-entity-type\">TREATMENT</span></span><span class=\"spark-nlp-display-others\" style=\"background-color: white\"> use. The patient was seen by the endocrinology service and she was discharged on 40 units of </span><span class=\"spark-nlp-display-entity-wrapper\" style=\"background-color: #808080\"><span class=\"spark-nlp-display-entity-name\">insulin glargine </span><span class=\"spark-nlp-display-entity-type\">TREATMENT</span></span><span class=\"spark-nlp-display-others\" style=\"background-color: white\"> at night, 12 units of </span><span class=\"spark-nlp-display-entity-wrapper\" style=\"background-color: #808080\"><span class=\"spark-nlp-display-entity-name\">insulin lispro with meals </span><span class=\"spark-nlp-display-entity-type\">TREATMENT</span></span><span class=\"spark-nlp-display-others\" style=\"background-color: white\">, and </span><span class=\"spark-nlp-display-entity-wrapper\" style=\"background-color: #808080\"><span class=\"spark-nlp-display-entity-name\">metformin </span><span class=\"spark-nlp-display-entity-type\">TREATMENT</span></span><span class=\"spark-nlp-display-others\" style=\"background-color: white\"> 1000 mg two times a day. It was determined that all </span><span class=\"spark-nlp-display-entity-wrapper\" style=\"background-color: #808080\"><span class=\"spark-nlp-display-entity-name\">SGLT2 inhibitors </span><span class=\"spark-nlp-display-entity-type\">TREATMENT</span></span><span class=\"spark-nlp-display-others\" style=\"background-color: white\"> should be discontinued indefinitely. She had close follow-up with endocrinology post discharge.</span></div>"
            ],
            "text/plain": [
              "<IPython.core.display.HTML object>"
            ]
          },
          "metadata": {
            "tags": []
          }
        }
      ]
    },
    {
      "cell_type": "markdown",
      "metadata": {
        "id": "z4nyb0HNjo74"
      },
      "source": [
        "##  ICD10 background info\n",
        "\n",
        "ICD-10-CM vs. ICD-10-PCS\n",
        "\n",
        "With the transition to ICD-10, in the United States, ICD-9 codes are segmented into ICD-10-CM and ICD-10-PCS codes. **The \"CM\" in ICD-10-CM codes stands for clinical modification**; ICD-10-CM codes were developed by the Centers for Disease Control and Prevention in conjunction with the National Center for Health Statistics (NCHS), for outpatient medical coding and reporting in the United States, as published by the World Health Organization (WHO).\n",
        "\n",
        "**The \"PCS\" in ICD-10-PCS codes stands for the procedural classification system**. ICD-10-PCS is a completely separate medical coding system from ICD-10-CM, containing an additional 87,000 codes for use ONLY in United States inpatient, hospital settings. The procedure classification system (ICD-10-PCS) was developed by the Centers for Medicare and Medicaid Services (CMS) in conjunction with 3M Health Information Management (HIM).\n",
        "\n",
        "ICD-10-CM codes add increased specificity to their ICD-9 predecessors, growing to five times the number of codes as the present system; a total of 68,000 clinical modification diagnosis codes. *ICD-10-CM codes provide the ability to track and reveal more information about the quality of healthcare, allowing healthcare providers to better understand medical complications, better design treatment and care, and better comprehend and determine the outcome of care.*\n",
        "\n",
        "ICD-10-PCS is used only for inpatient, hospital settings in the United States, and is meant to replace volume 3 of ICD-9 for facility reporting of inpatient procedures. Due to the rapid and constant state of flux in medical procedures and technology, ICD-10-PCS was developed to accommodate the changing landscape. Common procedures, lab tests, and educational sessions that are not unique to the inpatient, hospital setting have been omitted from ICD-10-PCS.\n",
        "\n",
        "ICD-10 is confusing enough when you’re trying to digest the differences between ICD-9 and ICD-10, but there are also different types of ICD-10 codes that providers should be aware of.\n",
        "\n",
        "\n",
        "**Primary difference between ICD-10-CM and ICD-10-PCS**\n",
        "\n",
        "When most people talk about ICD-10, they are referring to ICD-10CM. This is the code set for diagnosis coding and is used for all healthcare settings in the United States. ICD-10PCS, on the other hand, is used in hospital inpatient settings for inpatient procedure coding.\n",
        "\n",
        "ICD-10-CM breakdown\n",
        "\n",
        "- Approximately 68,000 codes\n",
        "- 3–7 alphanumeric characters\n",
        "- Facilitates timely processing of claims\n",
        "\n",
        "\n",
        "ICD-10-PCS breakdown\n",
        "\n",
        "- Will replace ICD-9-CM for hospital inpatient use only. \n",
        "- ICD-10-PCS will not replace CPT codes used by physicians. According to HealthCare Information Management, Inc. (HCIM), “Its only intention is to identify inpatient facility services in a way not directly related to physician work, but directed towards allocation of hospital services.”\n",
        "\n",
        "- 7 alphanumeric characters\n",
        "\n",
        "ICD-10-PCS is very different from ICD-9-CM procedure coding due to its ability to be more specific and accurate. “This becomes increasingly important when assessing and tracking the quality of medical processes and outcomes, and compiling statistics that are valuable tools for research,” according to HCIM.\n"
      ]
    },
    {
      "cell_type": "markdown",
      "metadata": {
        "id": "96aZqpsGA5dk"
      },
      "source": [
        "![image.png](data:image/png;base64,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)"
      ]
    },
    {
      "cell_type": "markdown",
      "metadata": {
        "id": "UvSMGFgAA_UR"
      },
      "source": [
        "\n",
        "## ICD10 coding Pipeline creation.\n",
        "\n",
        "We will now create a new pipeline that from each of these problems will try to assign an ICD10 base on the content, the wordembeddings and some pretrained models for ICD10 annotation.\n",
        "\n",
        "The architecture of this new pipeline will be as follows:\n",
        "\n",
        "- DocumentAssembler (text -> document)\n",
        "\n",
        "- SentenceDetector (document -> sentence)\n",
        "\n",
        "- Tokenizer (sentence -> token)\n",
        "\n",
        "- WordEmbeddingsModel ([sentence, token] -> embeddings)\n",
        "\n",
        "- NerDLModel ([sentence, token, embeddings] -> ner)\n",
        "\n",
        "- NerConverter ([\"sentence, token, ner] -> ner_chunk\n",
        "\n",
        "- ChunkTokenizer (ner_chunk -> ner_chunk_tokenized)\n",
        "\n",
        "- ICD10CMEntityResolverModel ([ner_chunk_tokenized, embeddings] -> resolution)\n",
        "\n",
        "- ICD10PCSEntityResolverModel ([ner_chunk_tokenized, embeddings] -> resolution)\n",
        "\n",
        "So from a text we end having a list of Named Entities (ner_chunk) and their ICD10 codes (resolution)\n",
        "\n",
        "Most of the annotators in this pipeline have been already created for the previous pipeline, but we need to create four additional annotators: NerConverter, ChunkEmbeddigns, EntityResolverModel for ICD10CM and EntityResolverModel for ICD10PCS.\n",
        "\n",
        "Now we define the new pipeline\n",
        "\n",
        "\n"
      ]
    },
    {
      "cell_type": "code",
      "metadata": {
        "id": "Z9UyX1Tx-vA0",
        "colab": {
          "base_uri": "https://localhost:8080/"
        },
        "outputId": "16ea1d47-0fb4-47b4-a5d9-7f1cc110c49f"
      },
      "source": [
        "# Named Entity Recognition concepts parser, transforms entities into CHUNKS (required for next step: assertion status)\n",
        "\n",
        "ner_converter = NerConverterInternal() \\\n",
        "    .setInputCols([\"sentence\", \"token\", \"ner\"]) \\\n",
        "    .setOutputCol(\"ner_chunk\")\\\n",
        "    .setWhiteList(['PROBLEM'])\\\n",
        "    .setPreservePosition(False)\n",
        "\n",
        "chunk_embeddings = ChunkEmbeddings()\\\n",
        "    .setInputCols(\"ner_chunk\", \"embeddings\")\\\n",
        "    .setOutputCol(\"chunk_embeddings\")\n",
        "\n",
        "# ICD resolution model\n",
        "\n",
        "icd10cm_resolution = ChunkEntityResolverModel.pretrained(\"chunkresolve_icd10cm_clinical\", \"en\", \"clinical/models\") \\\n",
        "    .setInputCols([\"token\", \"chunk_embeddings\"]) \\\n",
        "    .setOutputCol(\"icd10cm_code\") \\\n",
        "    .setDistanceFunction(\"COSINE\") \\\n",
        "    .setNeighbours(5)\n",
        "\n",
        "#   .setDistanceFunction(\"EUCLIDEAN\")"
      ],
      "execution_count": null,
      "outputs": [
        {
          "output_type": "stream",
          "text": [
            "chunkresolve_icd10cm_clinical download started this may take some time.\n",
            "Approximate size to download 166.3 MB\n",
            "[OK!]\n"
          ],
          "name": "stdout"
        }
      ]
    },
    {
      "cell_type": "markdown",
      "metadata": {
        "id": "6PcrV321E5mJ"
      },
      "source": [
        "`setPreservePosition(True)` takes exactly the original indices (under some tokenization conditions it might include some undesires chars like `\")\",\"]\"...)`\n",
        "\n",
        "`setPreservePosition(False)` takes adjusted indices based on substring indexingOf the first (for begin) and last (for end) tokens\n",
        "\n",
        "also with internal we can use the `greedyMode` which will marge consecutive entities of same type regardless of b-boundaries"
      ]
    },
    {
      "cell_type": "code",
      "metadata": {
        "id": "mj7oL8Q1kdRK"
      },
      "source": [
        "sentenceDetector = SentenceDetector()\\\n",
        "    .setInputCols([\"document\"])\\\n",
        "    .setOutputCol(\"sentence\")\\\n",
        "    \n",
        "pipeline_icd10 = Pipeline(\n",
        "    stages = [\n",
        "    documentAssembler,\n",
        "    sentenceDetector,\n",
        "    tokenizer,\n",
        "    stopwords,\n",
        "    word_embeddings,\n",
        "    clinical_ner,\n",
        "    ner_converter,\n",
        "    chunk_embeddings,\n",
        "    icd10cm_resolution\n",
        "  ])\n",
        "\n",
        "model_icd10 = pipeline_icd10.fit(data_ner)\n"
      ],
      "execution_count": null,
      "outputs": []
    },
    {
      "cell_type": "code",
      "metadata": {
        "id": "M-xhO4-Mkw4T"
      },
      "source": [
        "light_pipeline_icd10 = LightPipeline(model_icd10)\n"
      ],
      "execution_count": null,
      "outputs": []
    },
    {
      "cell_type": "code",
      "metadata": {
        "id": "QboxyjzjlAth",
        "colab": {
          "base_uri": "https://localhost:8080/",
          "height": 213
        },
        "outputId": "eb405692-95d8-4f59-bbc0-6c7834aa9d2a"
      },
      "source": [
        "text = light_data['document'][0]\n",
        "\n",
        "text"
      ],
      "execution_count": null,
      "outputs": [
        {
          "output_type": "execute_result",
          "data": {
            "application/vnd.google.colaboratory.intrinsic+json": {
              "type": "string"
            },
            "text/plain": [
              "'A 28-year-old female with a history of gestational diabetes mellitus diagnosed eight years prior to presentation and subsequent type two diabetes mellitus (T2DM), one prior episode of HTG-induced pancreatitis three years prior to presentation, associated with an acute hepatitis, and obesity with a body mass index (BMI) of 33.5 kg/m2, presented with a one-week history of polyuria, polydipsia, poor appetite, and vomiting. Two weeks prior to presentation, she was treated with a five-day course of amoxicillin for a respiratory tract infection. She was on metformin, glipizide, and dapagliflozin for T2DM and atorvastatin and gemfibrozil for HTG. She had been on dapagliflozin for six months at the time of presentation. Physical examination on presentation was significant for dry oral mucosa; significantly, her abdominal examination was benign with no tenderness, guarding, or rigidity. Pertinent laboratory findings on admission were: serum glucose 111 mg/dl, bicarbonate 18 mmol/l, anion gap 20, creatinine 0.4 mg/dL, triglycerides 508 mg/dL, total cholesterol 122 mg/dL, glycated hemoglobin (HbA1c) 10%, and venous pH 7.27. Serum lipase was normal at 43 U/L. Serum acetone levels could not be assessed as blood samples kept hemolyzing due to significant lipemia. The patient was initially admitted for starvation ketosis, as she reported poor oral intake for three days prior to admission. However, serum chemistry obtained six hours after presentation revealed her glucose was 186 mg/dL, the anion gap was still elevated at 21, serum bicarbonate was 16 mmol/L, triglyceride level peaked at 2050 mg/dL, and lipase was 52 U/L. The β-hydroxybutyrate level was obtained and found to be elevated at 5.29 mmol/L - the original sample was centrifuged and the chylomicron layer removed prior to analysis due to interference from turbidity caused by lipemia again. The patient was treated with an insulin drip for euDKA and HTG with a reduction in the anion gap to 13 and triglycerides to 1400 mg/dL, within 24 hours. Her euDKA was thought to be precipitated by her respiratory tract infection in the setting of SGLT2 inhibitor use. The patient was seen by the endocrinology service and she was discharged on 40 units of insulin glargine at night, 12 units of insulin lispro with meals, and metformin 1000 mg two times a day. It was determined that all SGLT2 inhibitors should be discontinued indefinitely. She had close follow-up with endocrinology post discharge.'"
            ]
          },
          "metadata": {
            "tags": []
          },
          "execution_count": 20
        }
      ]
    },
    {
      "cell_type": "code",
      "metadata": {
        "id": "WXtMY_RQmd19"
      },
      "source": [
        "import pandas as pd\n",
        "\n",
        "light_result = light_pipeline_icd10.annotate(text)\n",
        "\n",
        "df = pd.DataFrame(list(zip(light_result['ner_chunk'], light_result['icd10cm_code'])),\n",
        "                  columns = ['Problem','ICD10-CM-Code'])"
      ],
      "execution_count": null,
      "outputs": []
    },
    {
      "cell_type": "code",
      "metadata": {
        "id": "wHtl40_qwmMW",
        "colab": {
          "base_uri": "https://localhost:8080/",
          "height": 197
        },
        "outputId": "3e100de8-f249-4781-a1fa-09bad16d049c"
      },
      "source": [
        "df.head()"
      ],
      "execution_count": null,
      "outputs": [
        {
          "output_type": "execute_result",
          "data": {
            "text/html": [
              "<div>\n",
              "<style scoped>\n",
              "    .dataframe tbody tr th:only-of-type {\n",
              "        vertical-align: middle;\n",
              "    }\n",
              "\n",
              "    .dataframe tbody tr th {\n",
              "        vertical-align: top;\n",
              "    }\n",
              "\n",
              "    .dataframe thead th {\n",
              "        text-align: right;\n",
              "    }\n",
              "</style>\n",
              "<table border=\"1\" class=\"dataframe\">\n",
              "  <thead>\n",
              "    <tr style=\"text-align: right;\">\n",
              "      <th></th>\n",
              "      <th>Problem</th>\n",
              "      <th>ICD10-CM-Code</th>\n",
              "    </tr>\n",
              "  </thead>\n",
              "  <tbody>\n",
              "    <tr>\n",
              "      <th>0</th>\n",
              "      <td>gestational diabetes mellitus</td>\n",
              "      <td>P702</td>\n",
              "    </tr>\n",
              "    <tr>\n",
              "      <th>1</th>\n",
              "      <td>type two diabetes mellitus</td>\n",
              "      <td>E1142</td>\n",
              "    </tr>\n",
              "    <tr>\n",
              "      <th>2</th>\n",
              "      <td>T2DM</td>\n",
              "      <td>E1121</td>\n",
              "    </tr>\n",
              "    <tr>\n",
              "      <th>3</th>\n",
              "      <td>one prior episode of HTG-induced pancreatitis</td>\n",
              "      <td>K860</td>\n",
              "    </tr>\n",
              "    <tr>\n",
              "      <th>4</th>\n",
              "      <td>associated with an acute hepatitis</td>\n",
              "      <td>B172</td>\n",
              "    </tr>\n",
              "  </tbody>\n",
              "</table>\n",
              "</div>"
            ],
            "text/plain": [
              "                                         Problem ICD10-CM-Code\n",
              "0                  gestational diabetes mellitus          P702\n",
              "1                     type two diabetes mellitus         E1142\n",
              "2                                           T2DM         E1121\n",
              "3  one prior episode of HTG-induced pancreatitis          K860\n",
              "4             associated with an acute hepatitis          B172"
            ]
          },
          "metadata": {
            "tags": []
          },
          "execution_count": 22
        }
      ]
    },
    {
      "cell_type": "code",
      "metadata": {
        "id": "ycCgwwain7qz"
      },
      "source": [
        "def get_icd10_codes (light_model, code, text):\n",
        "\n",
        "  full_light_result = light_model.fullAnnotate(text)\n",
        "\n",
        "  chunks = []\n",
        "  codes = []\n",
        "  begin = []\n",
        "  end = []\n",
        "  resolutions=[]\n",
        "\n",
        "  for chunk, code in zip(full_light_result[0]['ner_chunk'], full_light_result[0][code]):\n",
        "          \n",
        "      begin.append(chunk.begin)\n",
        "      end.append(chunk.end)\n",
        "      chunks.append(chunk.result)\n",
        "      codes.append(code.result) \n",
        "      resolutions.append(code.metadata['all_k_resolutions'])\n",
        "      \n",
        "  import pandas as pd\n",
        "\n",
        "  df = pd.DataFrame({'chunks':chunks, 'begin': begin, 'end':end, \n",
        "                    'code':codes,\n",
        "                    'resolutions':resolutions})\n",
        "\n",
        "  return df\n",
        "\n",
        "\n"
      ],
      "execution_count": null,
      "outputs": []
    },
    {
      "cell_type": "code",
      "metadata": {
        "id": "LNqsPX8rqL3r",
        "colab": {
          "base_uri": "https://localhost:8080/",
          "height": 797
        },
        "outputId": "117ee69e-2cd9-40d4-a75e-f62d3f5fdaa4"
      },
      "source": [
        "df = get_icd10_codes (light_pipeline_icd10, 'icd10cm_code', text)\n",
        "\n",
        "df"
      ],
      "execution_count": null,
      "outputs": [
        {
          "output_type": "execute_result",
          "data": {
            "text/html": [
              "<div>\n",
              "<style scoped>\n",
              "    .dataframe tbody tr th:only-of-type {\n",
              "        vertical-align: middle;\n",
              "    }\n",
              "\n",
              "    .dataframe tbody tr th {\n",
              "        vertical-align: top;\n",
              "    }\n",
              "\n",
              "    .dataframe thead th {\n",
              "        text-align: right;\n",
              "    }\n",
              "</style>\n",
              "<table border=\"1\" class=\"dataframe\">\n",
              "  <thead>\n",
              "    <tr style=\"text-align: right;\">\n",
              "      <th></th>\n",
              "      <th>chunks</th>\n",
              "      <th>begin</th>\n",
              "      <th>end</th>\n",
              "      <th>code</th>\n",
              "      <th>resolutions</th>\n",
              "    </tr>\n",
              "  </thead>\n",
              "  <tbody>\n",
              "    <tr>\n",
              "      <th>0</th>\n",
              "      <td>gestational diabetes mellitus</td>\n",
              "      <td>39</td>\n",
              "      <td>67</td>\n",
              "      <td>P702</td>\n",
              "      <td>Neonatal diabetes mellitus:::Type 2 diabetes m...</td>\n",
              "    </tr>\n",
              "    <tr>\n",
              "      <th>1</th>\n",
              "      <td>type two diabetes mellitus</td>\n",
              "      <td>128</td>\n",
              "      <td>153</td>\n",
              "      <td>E1142</td>\n",
              "      <td>Type 2 diabetes mellitus with diabetic polyneu...</td>\n",
              "    </tr>\n",
              "    <tr>\n",
              "      <th>2</th>\n",
              "      <td>T2DM</td>\n",
              "      <td>156</td>\n",
              "      <td>159</td>\n",
              "      <td>E1121</td>\n",
              "      <td>Type 2 diabetes mellitus with diabetic nephrop...</td>\n",
              "    </tr>\n",
              "    <tr>\n",
              "      <th>3</th>\n",
              "      <td>one prior episode of HTG-induced pancreatitis</td>\n",
              "      <td>163</td>\n",
              "      <td>207</td>\n",
              "      <td>K860</td>\n",
              "      <td>Alcohol-induced chronic pancreatitis:::Manic e...</td>\n",
              "    </tr>\n",
              "    <tr>\n",
              "      <th>4</th>\n",
              "      <td>associated with an acute hepatitis</td>\n",
              "      <td>244</td>\n",
              "      <td>277</td>\n",
              "      <td>B172</td>\n",
              "      <td>Acute hepatitis E:::Acute viral hepatitis, uns...</td>\n",
              "    </tr>\n",
              "    <tr>\n",
              "      <th>5</th>\n",
              "      <td>obesity with a body mass</td>\n",
              "      <td>284</td>\n",
              "      <td>307</td>\n",
              "      <td>E661</td>\n",
              "      <td>Drug-induced obesity:::Body mass index (BMI) 2...</td>\n",
              "    </tr>\n",
              "    <tr>\n",
              "      <th>6</th>\n",
              "      <td>polyuria</td>\n",
              "      <td>373</td>\n",
              "      <td>380</td>\n",
              "      <td>R358</td>\n",
              "      <td>Other polyuria:::Polydipsia:::Generalized edem...</td>\n",
              "    </tr>\n",
              "    <tr>\n",
              "      <th>7</th>\n",
              "      <td>polydipsia</td>\n",
              "      <td>383</td>\n",
              "      <td>392</td>\n",
              "      <td>R631</td>\n",
              "      <td>Polydipsia:::Anhedonia:::Galactorrhea</td>\n",
              "    </tr>\n",
              "    <tr>\n",
              "      <th>8</th>\n",
              "      <td>poor appetite</td>\n",
              "      <td>395</td>\n",
              "      <td>407</td>\n",
              "      <td>R630</td>\n",
              "      <td>Anorexia:::Nutritional deficiency, unspecified...</td>\n",
              "    </tr>\n",
              "    <tr>\n",
              "      <th>9</th>\n",
              "      <td>vomiting</td>\n",
              "      <td>414</td>\n",
              "      <td>421</td>\n",
              "      <td>R1114</td>\n",
              "      <td>Bilious vomiting:::Vomiting without nausea:::N...</td>\n",
              "    </tr>\n",
              "    <tr>\n",
              "      <th>10</th>\n",
              "      <td>five-day course of amoxicillin for a respirato...</td>\n",
              "      <td>480</td>\n",
              "      <td>543</td>\n",
              "      <td>J00</td>\n",
              "      <td>Acute nasopharyngitis [common cold]:::Neonatal...</td>\n",
              "    </tr>\n",
              "    <tr>\n",
              "      <th>11</th>\n",
              "      <td>T2DM</td>\n",
              "      <td>601</td>\n",
              "      <td>604</td>\n",
              "      <td>E1121</td>\n",
              "      <td>Type 2 diabetes mellitus with diabetic nephrop...</td>\n",
              "    </tr>\n",
              "    <tr>\n",
              "      <th>12</th>\n",
              "      <td>HTG</td>\n",
              "      <td>643</td>\n",
              "      <td>645</td>\n",
              "      <td>E781</td>\n",
              "      <td>Pure hyperglyceridemia:::Familial hypercholest...</td>\n",
              "    </tr>\n",
              "    <tr>\n",
              "      <th>13</th>\n",
              "      <td>significant for dry oral mucosa</td>\n",
              "      <td>763</td>\n",
              "      <td>793</td>\n",
              "      <td>K136</td>\n",
              "      <td>Irritative hyperplasia of oral mucosa:::Leukop...</td>\n",
              "    </tr>\n",
              "    <tr>\n",
              "      <th>14</th>\n",
              "      <td>tenderness</td>\n",
              "      <td>856</td>\n",
              "      <td>865</td>\n",
              "      <td>R10815</td>\n",
              "      <td>Periumbilic abdominal tenderness:::Epigastric ...</td>\n",
              "    </tr>\n",
              "    <tr>\n",
              "      <th>15</th>\n",
              "      <td>guarding</td>\n",
              "      <td>868</td>\n",
              "      <td>875</td>\n",
              "      <td>R1083</td>\n",
              "      <td>Colic:::Scrotal pain:::Dysuria:::Periumbilic a...</td>\n",
              "    </tr>\n",
              "    <tr>\n",
              "      <th>16</th>\n",
              "      <td>rigidity</td>\n",
              "      <td>881</td>\n",
              "      <td>888</td>\n",
              "      <td>R1935</td>\n",
              "      <td>Periumbilic abdominal rigidity:::Generalized a...</td>\n",
              "    </tr>\n",
              "    <tr>\n",
              "      <th>17</th>\n",
              "      <td>significant lipemia</td>\n",
              "      <td>1249</td>\n",
              "      <td>1267</td>\n",
              "      <td>E781</td>\n",
              "      <td>Pure hyperglyceridemia:::Postprocedural hypoin...</td>\n",
              "    </tr>\n",
              "    <tr>\n",
              "      <th>18</th>\n",
              "      <td>initially admitted for starvation ketosis</td>\n",
              "      <td>1286</td>\n",
              "      <td>1326</td>\n",
              "      <td>E1111</td>\n",
              "      <td>Type 2 diabetes mellitus with ketoacidosis wit...</td>\n",
              "    </tr>\n",
              "    <tr>\n",
              "      <th>19</th>\n",
              "      <td>poor oral intake</td>\n",
              "      <td>1345</td>\n",
              "      <td>1360</td>\n",
              "      <td>F5082</td>\n",
              "      <td>Avoidant/restrictive food intake disorder:::Nu...</td>\n",
              "    </tr>\n",
              "    <tr>\n",
              "      <th>20</th>\n",
              "      <td>elevated</td>\n",
              "      <td>1520</td>\n",
              "      <td>1527</td>\n",
              "      <td>E7841</td>\n",
              "      <td>Elevated Lipoprotein(a):::Elevated erythrocyte...</td>\n",
              "    </tr>\n",
              "    <tr>\n",
              "      <th>21</th>\n",
              "      <td>elevated</td>\n",
              "      <td>1690</td>\n",
              "      <td>1697</td>\n",
              "      <td>E7841</td>\n",
              "      <td>Elevated Lipoprotein(a):::Elevated erythrocyte...</td>\n",
              "    </tr>\n",
              "    <tr>\n",
              "      <th>22</th>\n",
              "      <td>interference from turbidity</td>\n",
              "      <td>1811</td>\n",
              "      <td>1837</td>\n",
              "      <td>M2656</td>\n",
              "      <td>Non-working side interference:::Fecal smearing...</td>\n",
              "    </tr>\n",
              "    <tr>\n",
              "      <th>23</th>\n",
              "      <td>lipemia</td>\n",
              "      <td>1849</td>\n",
              "      <td>1855</td>\n",
              "      <td>R81</td>\n",
              "      <td>Glycosuria:::Pure hyperglyceridemia:::Hyperchy...</td>\n",
              "    </tr>\n",
              "    <tr>\n",
              "      <th>24</th>\n",
              "      <td>precipitated by her respiratory tract infection</td>\n",
              "      <td>2045</td>\n",
              "      <td>2091</td>\n",
              "      <td>J989</td>\n",
              "      <td>Respiratory disorder, unspecified:::Acute naso...</td>\n",
              "    </tr>\n",
              "  </tbody>\n",
              "</table>\n",
              "</div>"
            ],
            "text/plain": [
              "                                               chunks  ...                                        resolutions\n",
              "0                       gestational diabetes mellitus  ...  Neonatal diabetes mellitus:::Type 2 diabetes m...\n",
              "1                          type two diabetes mellitus  ...  Type 2 diabetes mellitus with diabetic polyneu...\n",
              "2                                                T2DM  ...  Type 2 diabetes mellitus with diabetic nephrop...\n",
              "3       one prior episode of HTG-induced pancreatitis  ...  Alcohol-induced chronic pancreatitis:::Manic e...\n",
              "4                  associated with an acute hepatitis  ...  Acute hepatitis E:::Acute viral hepatitis, uns...\n",
              "5                            obesity with a body mass  ...  Drug-induced obesity:::Body mass index (BMI) 2...\n",
              "6                                            polyuria  ...  Other polyuria:::Polydipsia:::Generalized edem...\n",
              "7                                          polydipsia  ...              Polydipsia:::Anhedonia:::Galactorrhea\n",
              "8                                       poor appetite  ...  Anorexia:::Nutritional deficiency, unspecified...\n",
              "9                                            vomiting  ...  Bilious vomiting:::Vomiting without nausea:::N...\n",
              "10  five-day course of amoxicillin for a respirato...  ...  Acute nasopharyngitis [common cold]:::Neonatal...\n",
              "11                                               T2DM  ...  Type 2 diabetes mellitus with diabetic nephrop...\n",
              "12                                                HTG  ...  Pure hyperglyceridemia:::Familial hypercholest...\n",
              "13                    significant for dry oral mucosa  ...  Irritative hyperplasia of oral mucosa:::Leukop...\n",
              "14                                         tenderness  ...  Periumbilic abdominal tenderness:::Epigastric ...\n",
              "15                                           guarding  ...  Colic:::Scrotal pain:::Dysuria:::Periumbilic a...\n",
              "16                                           rigidity  ...  Periumbilic abdominal rigidity:::Generalized a...\n",
              "17                                significant lipemia  ...  Pure hyperglyceridemia:::Postprocedural hypoin...\n",
              "18          initially admitted for starvation ketosis  ...  Type 2 diabetes mellitus with ketoacidosis wit...\n",
              "19                                   poor oral intake  ...  Avoidant/restrictive food intake disorder:::Nu...\n",
              "20                                           elevated  ...  Elevated Lipoprotein(a):::Elevated erythrocyte...\n",
              "21                                           elevated  ...  Elevated Lipoprotein(a):::Elevated erythrocyte...\n",
              "22                        interference from turbidity  ...  Non-working side interference:::Fecal smearing...\n",
              "23                                            lipemia  ...  Glycosuria:::Pure hyperglyceridemia:::Hyperchy...\n",
              "24    precipitated by her respiratory tract infection  ...  Respiratory disorder, unspecified:::Acute naso...\n",
              "\n",
              "[25 rows x 5 columns]"
            ]
          },
          "metadata": {
            "tags": []
          },
          "execution_count": 24
        }
      ]
    },
    {
      "cell_type": "code",
      "metadata": {
        "id": "aUFk762VkzfS",
        "colab": {
          "base_uri": "https://localhost:8080/",
          "height": 1000
        },
        "outputId": "ea8be9f5-4ba7-42f9-b04e-627edc412ecd"
      },
      "source": [
        "output = model_icd10.transform(data_ner).cache()\n",
        "\n",
        "output.select(F.explode(F.arrays_zip(\"ner_chunk.result\",\"ner_chunk.metadata\",\n",
        "                                     \"icd10cm_code.result\",\"icd10cm_code.metadata\")).alias(\"icd10cm_result\")) \\\n",
        ".select(F.expr(\"icd10cm_result['0']\").alias(\"chunk\"),\n",
        "        F.expr(\"icd10cm_result['1'].entity\").alias(\"entity\"),\n",
        "        F.expr(\"icd10cm_result['3'].resolved_text\").alias(\"resolved_text\"),\n",
        "        F.expr(\"icd10cm_result['2']\").alias(\"code\"),\n",
        "        F.expr(\"icd10cm_result['3'].all_k_resolutions\").alias(\"cms\"))\\\n",
        ".distinct() \\\n",
        ".toPandas()\n"
      ],
      "execution_count": null,
      "outputs": [
        {
          "output_type": "execute_result",
          "data": {
            "text/html": [
              "<div>\n",
              "<style scoped>\n",
              "    .dataframe tbody tr th:only-of-type {\n",
              "        vertical-align: middle;\n",
              "    }\n",
              "\n",
              "    .dataframe tbody tr th {\n",
              "        vertical-align: top;\n",
              "    }\n",
              "\n",
              "    .dataframe thead th {\n",
              "        text-align: right;\n",
              "    }\n",
              "</style>\n",
              "<table border=\"1\" class=\"dataframe\">\n",
              "  <thead>\n",
              "    <tr style=\"text-align: right;\">\n",
              "      <th></th>\n",
              "      <th>chunk</th>\n",
              "      <th>entity</th>\n",
              "      <th>resolved_text</th>\n",
              "      <th>code</th>\n",
              "      <th>cms</th>\n",
              "    </tr>\n",
              "  </thead>\n",
              "  <tbody>\n",
              "    <tr>\n",
              "      <th>0</th>\n",
              "      <td>type two diabetes mellitus</td>\n",
              "      <td>PROBLEM</td>\n",
              "      <td>Type 2 diabetes mellitus with diabetic polyneu...</td>\n",
              "      <td>E1142</td>\n",
              "      <td>Type 2 diabetes mellitus with diabetic polyneu...</td>\n",
              "    </tr>\n",
              "    <tr>\n",
              "      <th>1</th>\n",
              "      <td>lipemia</td>\n",
              "      <td>PROBLEM</td>\n",
              "      <td>Glycosuria</td>\n",
              "      <td>R81</td>\n",
              "      <td>Glycosuria:::Pure hyperglyceridemia:::Hyperchy...</td>\n",
              "    </tr>\n",
              "    <tr>\n",
              "      <th>2</th>\n",
              "      <td>precipitated by her respiratory tract infection</td>\n",
              "      <td>PROBLEM</td>\n",
              "      <td>Respiratory disorder, unspecified</td>\n",
              "      <td>J989</td>\n",
              "      <td>Respiratory disorder, unspecified:::Acute naso...</td>\n",
              "    </tr>\n",
              "    <tr>\n",
              "      <th>3</th>\n",
              "      <td>initially admitted for starvation ketosis</td>\n",
              "      <td>PROBLEM</td>\n",
              "      <td>Type 2 diabetes mellitus with ketoacidosis wit...</td>\n",
              "      <td>E1111</td>\n",
              "      <td>Type 2 diabetes mellitus with ketoacidosis wit...</td>\n",
              "    </tr>\n",
              "    <tr>\n",
              "      <th>4</th>\n",
              "      <td>gestational diabetes mellitus</td>\n",
              "      <td>PROBLEM</td>\n",
              "      <td>Neonatal diabetes mellitus</td>\n",
              "      <td>P702</td>\n",
              "      <td>Neonatal diabetes mellitus:::Type 2 diabetes m...</td>\n",
              "    </tr>\n",
              "    <tr>\n",
              "      <th>5</th>\n",
              "      <td>vomiting</td>\n",
              "      <td>PROBLEM</td>\n",
              "      <td>Bilious vomiting</td>\n",
              "      <td>R1114</td>\n",
              "      <td>Bilious vomiting:::Vomiting without nausea:::N...</td>\n",
              "    </tr>\n",
              "    <tr>\n",
              "      <th>6</th>\n",
              "      <td>polydipsia</td>\n",
              "      <td>PROBLEM</td>\n",
              "      <td>Polydipsia</td>\n",
              "      <td>R631</td>\n",
              "      <td>Polydipsia:::Anhedonia:::Galactorrhea</td>\n",
              "    </tr>\n",
              "    <tr>\n",
              "      <th>7</th>\n",
              "      <td>elevated</td>\n",
              "      <td>PROBLEM</td>\n",
              "      <td>Elevated Lipoprotein(a)</td>\n",
              "      <td>E7841</td>\n",
              "      <td>Elevated Lipoprotein(a):::Elevated erythrocyte...</td>\n",
              "    </tr>\n",
              "    <tr>\n",
              "      <th>8</th>\n",
              "      <td>obesity with a body mass</td>\n",
              "      <td>PROBLEM</td>\n",
              "      <td>Drug-induced obesity</td>\n",
              "      <td>E661</td>\n",
              "      <td>Drug-induced obesity:::Body mass index (BMI) 2...</td>\n",
              "    </tr>\n",
              "    <tr>\n",
              "      <th>9</th>\n",
              "      <td>significant for dry oral mucosa</td>\n",
              "      <td>PROBLEM</td>\n",
              "      <td>Irritative hyperplasia of oral mucosa</td>\n",
              "      <td>K136</td>\n",
              "      <td>Irritative hyperplasia of oral mucosa:::Leukop...</td>\n",
              "    </tr>\n",
              "    <tr>\n",
              "      <th>10</th>\n",
              "      <td>poor appetite</td>\n",
              "      <td>PROBLEM</td>\n",
              "      <td>Anorexia</td>\n",
              "      <td>R630</td>\n",
              "      <td>Anorexia:::Nutritional deficiency, unspecified...</td>\n",
              "    </tr>\n",
              "    <tr>\n",
              "      <th>11</th>\n",
              "      <td>five-day course of amoxicillin for a respirato...</td>\n",
              "      <td>PROBLEM</td>\n",
              "      <td>Acute nasopharyngitis [common cold]</td>\n",
              "      <td>J00</td>\n",
              "      <td>Acute nasopharyngitis [common cold]:::Neonatal...</td>\n",
              "    </tr>\n",
              "    <tr>\n",
              "      <th>12</th>\n",
              "      <td>rigidity</td>\n",
              "      <td>PROBLEM</td>\n",
              "      <td>Periumbilic abdominal rigidity</td>\n",
              "      <td>R1935</td>\n",
              "      <td>Periumbilic abdominal rigidity:::Generalized a...</td>\n",
              "    </tr>\n",
              "    <tr>\n",
              "      <th>13</th>\n",
              "      <td>guarding</td>\n",
              "      <td>PROBLEM</td>\n",
              "      <td>Colic</td>\n",
              "      <td>R1083</td>\n",
              "      <td>Colic:::Scrotal pain:::Dysuria:::Periumbilic a...</td>\n",
              "    </tr>\n",
              "    <tr>\n",
              "      <th>14</th>\n",
              "      <td>associated with an acute hepatitis</td>\n",
              "      <td>PROBLEM</td>\n",
              "      <td>Acute hepatitis E</td>\n",
              "      <td>B172</td>\n",
              "      <td>Acute hepatitis E:::Acute viral hepatitis, uns...</td>\n",
              "    </tr>\n",
              "    <tr>\n",
              "      <th>15</th>\n",
              "      <td>poor oral intake</td>\n",
              "      <td>PROBLEM</td>\n",
              "      <td>Avoidant/restrictive food intake disorder</td>\n",
              "      <td>F5082</td>\n",
              "      <td>Avoidant/restrictive food intake disorder:::Nu...</td>\n",
              "    </tr>\n",
              "    <tr>\n",
              "      <th>16</th>\n",
              "      <td>tenderness</td>\n",
              "      <td>PROBLEM</td>\n",
              "      <td>Periumbilic abdominal tenderness</td>\n",
              "      <td>R10815</td>\n",
              "      <td>Periumbilic abdominal tenderness:::Epigastric ...</td>\n",
              "    </tr>\n",
              "    <tr>\n",
              "      <th>17</th>\n",
              "      <td>HTG</td>\n",
              "      <td>PROBLEM</td>\n",
              "      <td>Pure hyperglyceridemia</td>\n",
              "      <td>E781</td>\n",
              "      <td>Pure hyperglyceridemia:::Familial hypercholest...</td>\n",
              "    </tr>\n",
              "    <tr>\n",
              "      <th>18</th>\n",
              "      <td>polyuria</td>\n",
              "      <td>PROBLEM</td>\n",
              "      <td>Other polyuria</td>\n",
              "      <td>R358</td>\n",
              "      <td>Other polyuria:::Polydipsia:::Generalized edem...</td>\n",
              "    </tr>\n",
              "    <tr>\n",
              "      <th>19</th>\n",
              "      <td>one prior episode of HTG-induced pancreatitis</td>\n",
              "      <td>PROBLEM</td>\n",
              "      <td>Alcohol-induced chronic pancreatitis</td>\n",
              "      <td>K860</td>\n",
              "      <td>Alcohol-induced chronic pancreatitis:::Manic e...</td>\n",
              "    </tr>\n",
              "    <tr>\n",
              "      <th>20</th>\n",
              "      <td>interference from turbidity</td>\n",
              "      <td>PROBLEM</td>\n",
              "      <td>Non-working side interference</td>\n",
              "      <td>M2656</td>\n",
              "      <td>Non-working side interference:::Fecal smearing...</td>\n",
              "    </tr>\n",
              "    <tr>\n",
              "      <th>21</th>\n",
              "      <td>T2DM</td>\n",
              "      <td>PROBLEM</td>\n",
              "      <td>Type 2 diabetes mellitus with diabetic nephrop...</td>\n",
              "      <td>E1121</td>\n",
              "      <td>Type 2 diabetes mellitus with diabetic nephrop...</td>\n",
              "    </tr>\n",
              "    <tr>\n",
              "      <th>22</th>\n",
              "      <td>significant lipemia</td>\n",
              "      <td>PROBLEM</td>\n",
              "      <td>Pure hyperglyceridemia</td>\n",
              "      <td>E781</td>\n",
              "      <td>Pure hyperglyceridemia:::Postprocedural hypoin...</td>\n",
              "    </tr>\n",
              "  </tbody>\n",
              "</table>\n",
              "</div>"
            ],
            "text/plain": [
              "                                                chunk  ...                                                cms\n",
              "0                          type two diabetes mellitus  ...  Type 2 diabetes mellitus with diabetic polyneu...\n",
              "1                                             lipemia  ...  Glycosuria:::Pure hyperglyceridemia:::Hyperchy...\n",
              "2     precipitated by her respiratory tract infection  ...  Respiratory disorder, unspecified:::Acute naso...\n",
              "3           initially admitted for starvation ketosis  ...  Type 2 diabetes mellitus with ketoacidosis wit...\n",
              "4                       gestational diabetes mellitus  ...  Neonatal diabetes mellitus:::Type 2 diabetes m...\n",
              "5                                            vomiting  ...  Bilious vomiting:::Vomiting without nausea:::N...\n",
              "6                                          polydipsia  ...              Polydipsia:::Anhedonia:::Galactorrhea\n",
              "7                                            elevated  ...  Elevated Lipoprotein(a):::Elevated erythrocyte...\n",
              "8                            obesity with a body mass  ...  Drug-induced obesity:::Body mass index (BMI) 2...\n",
              "9                     significant for dry oral mucosa  ...  Irritative hyperplasia of oral mucosa:::Leukop...\n",
              "10                                      poor appetite  ...  Anorexia:::Nutritional deficiency, unspecified...\n",
              "11  five-day course of amoxicillin for a respirato...  ...  Acute nasopharyngitis [common cold]:::Neonatal...\n",
              "12                                           rigidity  ...  Periumbilic abdominal rigidity:::Generalized a...\n",
              "13                                           guarding  ...  Colic:::Scrotal pain:::Dysuria:::Periumbilic a...\n",
              "14                 associated with an acute hepatitis  ...  Acute hepatitis E:::Acute viral hepatitis, uns...\n",
              "15                                   poor oral intake  ...  Avoidant/restrictive food intake disorder:::Nu...\n",
              "16                                         tenderness  ...  Periumbilic abdominal tenderness:::Epigastric ...\n",
              "17                                                HTG  ...  Pure hyperglyceridemia:::Familial hypercholest...\n",
              "18                                           polyuria  ...  Other polyuria:::Polydipsia:::Generalized edem...\n",
              "19      one prior episode of HTG-induced pancreatitis  ...  Alcohol-induced chronic pancreatitis:::Manic e...\n",
              "20                        interference from turbidity  ...  Non-working side interference:::Fecal smearing...\n",
              "21                                               T2DM  ...  Type 2 diabetes mellitus with diabetic nephrop...\n",
              "22                                significant lipemia  ...  Pure hyperglyceridemia:::Postprocedural hypoin...\n",
              "\n",
              "[23 rows x 5 columns]"
            ]
          },
          "metadata": {
            "tags": []
          },
          "execution_count": 25
        }
      ]
    },
    {
      "cell_type": "code",
      "metadata": {
        "id": "ZCXjwUlLc3CF",
        "colab": {
          "base_uri": "https://localhost:8080/",
          "height": 107
        },
        "outputId": "ac50cef8-5f40-4e9c-ca1c-520d2288bb70"
      },
      "source": [
        "text = 'He has a starvation ketosis but nothing found for significant for dry oral mucosa'\n",
        "\n",
        "df = get_icd10_codes(light_pipeline_icd10, 'icd10cm_code', text)\n",
        "\n",
        "df"
      ],
      "execution_count": null,
      "outputs": [
        {
          "output_type": "execute_result",
          "data": {
            "text/html": [
              "<div>\n",
              "<style scoped>\n",
              "    .dataframe tbody tr th:only-of-type {\n",
              "        vertical-align: middle;\n",
              "    }\n",
              "\n",
              "    .dataframe tbody tr th {\n",
              "        vertical-align: top;\n",
              "    }\n",
              "\n",
              "    .dataframe thead th {\n",
              "        text-align: right;\n",
              "    }\n",
              "</style>\n",
              "<table border=\"1\" class=\"dataframe\">\n",
              "  <thead>\n",
              "    <tr style=\"text-align: right;\">\n",
              "      <th></th>\n",
              "      <th>chunks</th>\n",
              "      <th>begin</th>\n",
              "      <th>end</th>\n",
              "      <th>code</th>\n",
              "      <th>resolutions</th>\n",
              "    </tr>\n",
              "  </thead>\n",
              "  <tbody>\n",
              "    <tr>\n",
              "      <th>0</th>\n",
              "      <td>starvation ketosis</td>\n",
              "      <td>9</td>\n",
              "      <td>26</td>\n",
              "      <td>E71121</td>\n",
              "      <td>Propionic acidemia:::Bartter's syndrome:::Hypo...</td>\n",
              "    </tr>\n",
              "    <tr>\n",
              "      <th>1</th>\n",
              "      <td>significant for dry oral mucosa</td>\n",
              "      <td>50</td>\n",
              "      <td>80</td>\n",
              "      <td>K136</td>\n",
              "      <td>Irritative hyperplasia of oral mucosa:::Leukop...</td>\n",
              "    </tr>\n",
              "  </tbody>\n",
              "</table>\n",
              "</div>"
            ],
            "text/plain": [
              "                            chunks  ...                                        resolutions\n",
              "0               starvation ketosis  ...  Propionic acidemia:::Bartter's syndrome:::Hypo...\n",
              "1  significant for dry oral mucosa  ...  Irritative hyperplasia of oral mucosa:::Leukop...\n",
              "\n",
              "[2 rows x 5 columns]"
            ]
          },
          "metadata": {
            "tags": []
          },
          "execution_count": 26
        }
      ]
    },
    {
      "cell_type": "markdown",
      "metadata": {
        "id": "aR87HGvadf4F"
      },
      "source": [
        "# RxNorm Resolver"
      ]
    },
    {
      "cell_type": "markdown",
      "metadata": {
        "id": "uvbXOw4ApJr9"
      },
      "source": [
        "`setAlternatives` : number of results to return in the metadata after sorting by last distance calculated\n",
        "\n",
        "`setNeighbours` : number of neighbours to consider in the KNN query to calculate WMD\n",
        "\n",
        "`setEnableLevenshtein`: whether or not to use Levenshtein character distance.\n",
        "\n",
        "`setDistanceWeights` : `[WMD, TFIDF, Jaccard, SorensenDice, JaroWinkler, Levenshtein]`"
      ]
    },
    {
      "cell_type": "code",
      "metadata": {
        "id": "Q1LuiKu2fGol",
        "colab": {
          "base_uri": "https://localhost:8080/"
        },
        "outputId": "fdaedf7b-9051-4c06-eb12-8d6f06c92058"
      },
      "source": [
        "ner_converter = NerConverterInternal() \\\n",
        "    .setInputCols([\"sentence\", \"token\", \"ner\"]) \\\n",
        "    .setOutputCol(\"greedy_chunk\")\\\n",
        "    .setWhiteList(['TREATMENT'])\n",
        "\n",
        "chunk_embeddings = ChunkEmbeddings()\\\n",
        "    .setInputCols(\"greedy_chunk\", \"embeddings\")\\\n",
        "    .setOutputCol(\"chunk_embeddings\")\n",
        "\n",
        "rxnorm_resolver1 = ChunkEntityResolverModel()\\\n",
        "    .pretrained('chunkresolve_rxnorm_sbd_clinical', 'en', \"clinical/models\")\\\n",
        "    .setEnableLevenshtein(True)\\\n",
        "    .setNeighbours(200)\\\n",
        "    .setAlternatives(5)\\\n",
        "    .setDistanceWeights([3,11,0,0,0,9])\\\n",
        "    .setInputCols('token', 'chunk_embeddings')\\\n",
        "    .setOutputCol('rxnorm_resolution')\\\n",
        "    .setPoolingStrategy(\"MAX\")\n",
        "\n",
        "pipeline_rx = Pipeline(\n",
        "    stages = [\n",
        "    documentAssembler,\n",
        "    sentenceDetector,\n",
        "    tokenizer,\n",
        "    stopwords,\n",
        "    word_embeddings,\n",
        "    clinical_ner,\n",
        "    ner_converter,\n",
        "    chunk_embeddings,\n",
        "    rxnorm_resolver1\n",
        "  ])\n",
        "\n",
        "model_rxnorm = pipeline_rx.fit(data_ner)\n"
      ],
      "execution_count": null,
      "outputs": [
        {
          "output_type": "stream",
          "text": [
            "chunkresolve_rxnorm_sbd_clinical download started this may take some time.\n",
            "Approximate size to download 17.9 MB\n",
            "[OK!]\n"
          ],
          "name": "stdout"
        }
      ]
    },
    {
      "cell_type": "code",
      "metadata": {
        "id": "WL1yWmFYdNKg",
        "colab": {
          "base_uri": "https://localhost:8080/",
          "height": 35
        },
        "outputId": "419a13d4-f3b3-4eb1-e636-331c1a2811a9"
      },
      "source": [
        "text"
      ],
      "execution_count": null,
      "outputs": [
        {
          "output_type": "execute_result",
          "data": {
            "application/vnd.google.colaboratory.intrinsic+json": {
              "type": "string"
            },
            "text/plain": [
              "'He has a starvation ketosis but nothing found for significant for dry oral mucosa'"
            ]
          },
          "metadata": {
            "tags": []
          },
          "execution_count": 28
        }
      ]
    },
    {
      "cell_type": "code",
      "metadata": {
        "id": "qoSJxz5phKt8",
        "colab": {
          "base_uri": "https://localhost:8080/"
        },
        "outputId": "af169f63-dfaf-4116-9b5d-f523cb617368"
      },
      "source": [
        "output = model_rxnorm.transform(data_ner)\n",
        "\n",
        "output.show()"
      ],
      "execution_count": null,
      "outputs": [
        {
          "output_type": "stream",
          "text": [
            "+--------------------+--------------------+--------------------+--------------------+--------------------+--------------------+--------------------+--------------------+--------------------+--------------------+\n",
            "|                text|            document|            sentence|           raw_token|               token|          embeddings|                 ner|        greedy_chunk|    chunk_embeddings|   rxnorm_resolution|\n",
            "+--------------------+--------------------+--------------------+--------------------+--------------------+--------------------+--------------------+--------------------+--------------------+--------------------+\n",
            "|A 28-year-old fem...|[[document, 0, 24...|[[document, 0, 42...|[[token, 0, 0, A,...|[[token, 2, 12, 2...|[[word_embeddings...|[[named_entity, 2...|[[chunk, 557, 565...|[[word_embeddings...|[[entity, 557, 56...|\n",
            "+--------------------+--------------------+--------------------+--------------------+--------------------+--------------------+--------------------+--------------------+--------------------+--------------------+\n",
            "\n"
          ],
          "name": "stdout"
        }
      ]
    },
    {
      "cell_type": "code",
      "metadata": {
        "id": "YMBGfX9OhIOR",
        "colab": {
          "base_uri": "https://localhost:8080/"
        },
        "outputId": "2af1d131-3196-4b32-8dab-4c333db97df4"
      },
      "source": [
        "output.columns"
      ],
      "execution_count": null,
      "outputs": [
        {
          "output_type": "execute_result",
          "data": {
            "text/plain": [
              "['text',\n",
              " 'document',\n",
              " 'sentence',\n",
              " 'raw_token',\n",
              " 'token',\n",
              " 'embeddings',\n",
              " 'ner',\n",
              " 'greedy_chunk',\n",
              " 'chunk_embeddings',\n",
              " 'rxnorm_resolution']"
            ]
          },
          "metadata": {
            "tags": []
          },
          "execution_count": 30
        }
      ]
    },
    {
      "cell_type": "code",
      "metadata": {
        "id": "ieHsK_QOhaiD",
        "colab": {
          "base_uri": "https://localhost:8080/"
        },
        "outputId": "2c31e6a4-b426-4014-ca81-94cd29e75780"
      },
      "source": [
        "output.select(F.explode(F.arrays_zip(\"greedy_chunk.result\",\"greedy_chunk.metadata\",\"rxnorm_resolution.result\",\"rxnorm_resolution.metadata\")).alias(\"rxnorm_result\")) \\\n",
        "    .select(F.expr(\"rxnorm_result['0']\").alias(\"chunk\"),\n",
        "            F.expr(\"rxnorm_result['1'].entity\").alias(\"entity\"),\n",
        "            F.expr(\"rxnorm_result['3'].all_k_resolutions\").alias(\"target_text\"),\n",
        "            F.expr(\"rxnorm_result['2']\").alias(\"code\"),\n",
        "            F.expr(\"rxnorm_result['3'].confidence\").alias('confidence')).show(truncate = 100)"
      ],
      "execution_count": null,
      "outputs": [
        {
          "output_type": "stream",
          "text": [
            "+----------------------------------------------------------------+---------+----------------------------------------------------------------------------------------------------+-------+----------+\n",
            "|                                                           chunk|   entity|                                                                                         target_text|   code|confidence|\n",
            "+----------------------------------------------------------------+---------+----------------------------------------------------------------------------------------------------+-------+----------+\n",
            "|                                                       metformin|TREATMENT|Metformin hydrochloride 500 MG Oral Tablet [Glucamet]:::Metformin hydrochloride 850 MG Oral Table...| 105376|    0.2067|\n",
            "|                                                       glipizide|TREATMENT|Glipizide 5 MG Oral Tablet [Minidiab]:::Glipizide 5 MG Oral Tablet [Glucotrol]:::Glipizide 5 MG O...| 105373|    0.2224|\n",
            "|                                                   dapagliflozin|TREATMENT|dapagliflozin 5 MG Oral Tablet [Farxiga]:::dapagliflozin 10 MG Oral Tablet [Farxiga]:::dapagliflo...|1486981|    0.3523|\n",
            "|                                    atorvastatin and gemfibrozil|TREATMENT|atorvastatin 10 MG Oral Tablet [Lipitor]:::atorvastatin 20 MG Oral Tablet [Lipitor]:::atorvastati...| 617314|    0.2166|\n",
            "|                                                   dapagliflozin|TREATMENT|dapagliflozin 5 MG Oral Tablet [Farxiga]:::dapagliflozin 10 MG Oral Tablet [Farxiga]:::dapagliflo...|1486981|    0.3523|\n",
            "|insulin drip for euDKA and HTG with a reduction in the anion gap|TREATMENT|insulin, regular, human 500 UNT/ML Injectable Solution [Humulin R]:::insulin, regular, human 500 ...| 351859|    0.2002|\n",
            "|                                                 SGLT2 inhibitor|TREATMENT|C1 esterase inhibitor (human) 500 UNT Injection [Cinryze]:::alpha 1-proteinase inhibitor, human 1...| 809871|    0.2044|\n",
            "|                                                insulin glargine|TREATMENT|Insulin Glargine 100 UNT/ML Pen Injector [Lantus]:::Insulin Glargine 300 UNT/ML Pen Injector [Tou...|1359856|    0.2265|\n",
            "|                                       insulin lispro with meals|TREATMENT|Insulin Lispro 100 UNT/ML Cartridge [Humalog]:::Insulin Lispro 200 UNT/ML Pen Injector [Humalog]:...|1652648|    0.2469|\n",
            "|                                                       metformin|TREATMENT|Metformin hydrochloride 500 MG Oral Tablet [Glucamet]:::Metformin hydrochloride 850 MG Oral Table...| 105376|    0.2067|\n",
            "|                                                SGLT2 inhibitors|TREATMENT|alpha 1-proteinase inhibitor, human 1 MG Injection [Prolastin]:::C1 esterase inhibitor (human) 50...|1661220|    0.2167|\n",
            "+----------------------------------------------------------------+---------+----------------------------------------------------------------------------------------------------+-------+----------+\n",
            "\n"
          ],
          "name": "stdout"
        }
      ]
    },
    {
      "cell_type": "code",
      "metadata": {
        "id": "ciXz7qRSj27-",
        "colab": {
          "base_uri": "https://localhost:8080/",
          "height": 53
        },
        "outputId": "45dc64bc-e279-43fb-a823-cf5d4e487f5e"
      },
      "source": [
        "text = 'The patient was prescribed 1 prozac 60mg (oral capsules) for 5 days after meals. He was seen by the endocrinology service and she was discharged on 40 units of insulin glargine at night , 12 units of insulin lispro with meals , and metformin 1000 mg two times a day.'\n",
        "text"
      ],
      "execution_count": null,
      "outputs": [
        {
          "output_type": "execute_result",
          "data": {
            "application/vnd.google.colaboratory.intrinsic+json": {
              "type": "string"
            },
            "text/plain": [
              "'The patient was prescribed 1 prozac 60mg (oral capsules) for 5 days after meals. He was seen by the endocrinology service and she was discharged on 40 units of insulin glargine at night , 12 units of insulin lispro with meals , and metformin 1000 mg two times a day.'"
            ]
          },
          "metadata": {
            "tags": []
          },
          "execution_count": 32
        }
      ]
    },
    {
      "cell_type": "markdown",
      "metadata": {
        "id": "ADj8U6C-kCCe"
      },
      "source": [
        "![image.png](data:image/png;base64,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)"
      ]
    },
    {
      "cell_type": "code",
      "metadata": {
        "id": "rEHmRLo_kBic"
      },
      "source": [
        "data_ner = spark.createDataFrame([[text]]).toDF(\"text\")"
      ],
      "execution_count": null,
      "outputs": []
    },
    {
      "cell_type": "code",
      "metadata": {
        "id": "yAY4yicSJ8LS"
      },
      "source": [
        "replace_dict = '''STRENGTH,DRUG\n",
        "FORM,DRUG\n",
        "ROUTE,DRUG\n",
        "DOSAGE,DRUG'''\n",
        "\n",
        "with open('replace_dict.csv', 'w') as f:\n",
        "    f.write(replace_dict)"
      ],
      "execution_count": null,
      "outputs": []
    },
    {
      "cell_type": "code",
      "metadata": {
        "id": "DJ-4jw12i_Pi",
        "colab": {
          "base_uri": "https://localhost:8080/"
        },
        "outputId": "d3dd24be-07e0-42f4-d96b-aa4901c4aaf7"
      },
      "source": [
        "posology_ner = NerDLModel.pretrained(\"ner_posology\", \"en\", \"clinical/models\") \\\n",
        "      .setInputCols([\"sentence\", \"token\", \"embeddings\"]) \\\n",
        "      .setOutputCol(\"ner\")\n",
        "\n",
        "ner_converter1 = NerConverterInternal() \\\n",
        "      .setInputCols([\"sentence\", \"token\", \"ner\"]) \\\n",
        "      .setOutputCol(\"ner_chunk\")\n",
        "\n",
        "chunk_merge = ChunkMergeApproach()\\\n",
        "      .setInputCols(\"ner_chunk\",\"ner_chunk\")\\\n",
        "      .setOutputCol(\"merged_chunk\")\\\n",
        "      .setReplaceDictResource(\"replace_dict.csv\",\"TEXT\", {\"delimiter\":\",\"})\n",
        "\n",
        "iob_tagger = IOBTagger()\\\n",
        "      .setInputCols(\"token\",\"merged_chunk\")\\\n",
        "      .setOutputCol(\"merged_ner\")\n",
        "\n",
        "ner_converter2 = NerConverterInternal() \\\n",
        "      .setInputCols([\"sentence\", \"token\", \"merged_ner\"]) \\\n",
        "      .setOutputCol(\"greedy_chunk\")\\\n",
        "      .setPreservePosition(False)\\\n",
        "      .setGreedyMode(True)\\\n",
        "      .setWhiteList(['DRUG'])\n",
        "\n",
        "posology_rx = Pipeline(\n",
        "    stages = [\n",
        "      documentAssembler,\n",
        "      sentenceDetector,\n",
        "      tokenizer,\n",
        "      stopwords,\n",
        "      word_embeddings,\n",
        "      posology_ner,\n",
        "      ner_converter1,\n",
        "      chunk_merge,\n",
        "      iob_tagger,\n",
        "      ner_converter2,\n",
        "      chunk_embeddings,\n",
        "      rxnorm_resolver1\n",
        "  ])\n",
        "\n",
        "model_rxnorm = posology_rx.fit(data_ner)\n",
        "\n",
        "output = model_rxnorm.transform(data_ner)\n",
        "\n",
        "output.select(F.explode(F.arrays_zip(\"greedy_chunk.result\",\"greedy_chunk.metadata\",\"rxnorm_resolution.result\",\"rxnorm_resolution.metadata\")).alias(\"rxnorm_result\")) \\\n",
        "    .select(F.expr(\"rxnorm_result['0']\").alias(\"chunk\"),\n",
        "            F.expr(\"rxnorm_result['1'].entity\").alias(\"entity\"),\n",
        "            F.expr(\"rxnorm_result['3'].all_k_resolutions\").alias(\"target_text\"),\n",
        "            F.expr(\"rxnorm_result['2']\").alias(\"code\"),\n",
        "            F.expr(\"rxnorm_result['3'].confidence\").alias(\"confidence\")).show(truncate = 100)"
      ],
      "execution_count": null,
      "outputs": [
        {
          "output_type": "stream",
          "text": [
            "ner_posology download started this may take some time.\n",
            "Approximate size to download 13.7 MB\n",
            "[OK!]\n",
            "+----------------------------+------+----------------------------------------------------------------------------------------------------+-------+----------+\n",
            "|                       chunk|entity|                                                                                         target_text|   code|confidence|\n",
            "+----------------------------+------+----------------------------------------------------------------------------------------------------+-------+----------+\n",
            "|               1 prozac 60mg|  DRUG|hydrocortisone acetate 18.5 MG/ML / Pramoxine hydrochloride 11.5 MG/ML Rectal Cream [Procort 1.85...|1115730|    0.2099|\n",
            "|               oral capsules|  DRUG|Hydrocortisone 5 MG Oral Tablet [Cortef]:::Nifedipine 5 MG Oral Capsule [Adalat]:::Triamcinolone ...| 208680|    0.2085|\n",
            "|40 units of insulin glargine|  DRUG|1.5 ML Insulin Glargine 300 UNT/ML Pen Injector [Toujeo]:::3 ML Insulin Glargine 100 UNT/ML Pen I...|1604544|    0.2743|\n",
            "|  12 units of insulin lispro|  DRUG|Insulin Lispro 100 UNT/ML Injectable Solution [Lispro PRC]:::0.5 UNT Doses 3 ML Insulin Lispro 10...| 615910|    0.3041|\n",
            "|           metformin 1000 mg|  DRUG|Metformin hydrochloride 500 MG Oral Tablet [Glucamet]:::Metformin hydrochloride 500 MG Oral Table...| 105376|    0.2324|\n",
            "+----------------------------+------+----------------------------------------------------------------------------------------------------+-------+----------+\n",
            "\n"
          ],
          "name": "stdout"
        }
      ]
    },
    {
      "cell_type": "markdown",
      "metadata": {
        "id": "iHK0ZQW7IBO5"
      },
      "source": [
        "## Pretrained RxNorm Resolver"
      ]
    },
    {
      "cell_type": "code",
      "metadata": {
        "id": "FEv2KfWzC5lV"
      },
      "source": [
        "output = model.transform(data_ner)"
      ],
      "execution_count": null,
      "outputs": []
    },
    {
      "cell_type": "code",
      "metadata": {
        "id": "yvEdl8eQIHtS",
        "colab": {
          "base_uri": "https://localhost:8080/"
        },
        "outputId": "f14d7512-9f13-4c0d-9be5-2b753ec01b93"
      },
      "source": [
        "output.columns"
      ],
      "execution_count": null,
      "outputs": [
        {
          "output_type": "execute_result",
          "data": {
            "text/plain": [
              "['text',\n",
              " 'document',\n",
              " 'sentence',\n",
              " 'raw_token',\n",
              " 'token',\n",
              " 'embeddings',\n",
              " 'ner',\n",
              " 'ner_chunk']"
            ]
          },
          "metadata": {
            "tags": []
          },
          "execution_count": 37
        }
      ]
    },
    {
      "cell_type": "code",
      "metadata": {
        "id": "WUc3luX1HCcD",
        "colab": {
          "base_uri": "https://localhost:8080/"
        },
        "outputId": "15b9f237-b8fa-4a55-ce19-d89c4fc34a29"
      },
      "source": [
        "posology_ner = NerDLModel.pretrained(\"ner_posology\", \"en\", \"clinical/models\") \\\n",
        "    .setInputCols([\"sentence\", \"token\", \"embeddings\"]) \\\n",
        "    .setOutputCol(\"ner\")\n",
        "\n",
        "ner_converter1 = NerConverter() \\\n",
        "    .setInputCols([\"sentence\", \"token\", \"ner\"]) \\\n",
        "    .setOutputCol(\"ner_chunk\")\n",
        "\n",
        "chunk_merge = ChunkMergeApproach()\\\n",
        "    .setInputCols(\"ner_chunk\",\"ner_chunk\")\\\n",
        "    .setOutputCol(\"merged_chunk\")\\\n",
        "    .setReplaceDictResource(\"replace_dict.csv\",\"TEXT\", {\"delimiter\":\",\"})\n",
        "\n",
        "iob_tagger = IOBTagger()\\\n",
        "    .setInputCols(\"token\",\"merged_chunk\")\\\n",
        "    .setOutputCol(\"merged_ner\")\n",
        "\n",
        "ner_converter2 = NerConverterInternal() \\\n",
        "    .setInputCols([\"sentence\", \"token\", \"merged_ner\"]) \\\n",
        "    .setOutputCol(\"greedy_chunk\")\\\n",
        "    .setPreservePosition(False)\\\n",
        "    .setGreedyMode(True)\\\n",
        "    .setWhiteList(['DRUG'])\n",
        "\n",
        "chunk_embeddings = ChunkEmbeddings()\\\n",
        "    .setInputCols(\"greedy_chunk\", \"embeddings\")\\\n",
        "    .setOutputCol(\"chunk_embeddings\")\n",
        "\n",
        "rxnorm_resolver1 = ChunkEntityResolverModel()\\\n",
        "    .pretrained('chunkresolve_rxnorm_sbd_clinical', 'en', \"clinical/models\")\\\n",
        "    .setEnableLevenshtein(True)\\\n",
        "    .setNeighbours(200)\\\n",
        "    .setAlternatives(5)\\\n",
        "    .setDistanceWeights([3,11,0,0,0,9])\\\n",
        "    .setInputCols('token', 'chunk_embeddings')\\\n",
        "    .setOutputCol('rxnorm_resolution')\\\n",
        "    .setPoolingStrategy(\"MAX\")\n",
        "\n",
        "\n",
        "posology_rx_pretrained = Pipeline(\n",
        "    stages = [\n",
        "      posology_ner,\n",
        "      ner_converter1,\n",
        "      chunk_merge,\n",
        "      iob_tagger,\n",
        "      ner_converter2,\n",
        "      chunk_embeddings,\n",
        "      rxnorm_resolver1\n",
        "  ])\n",
        "\n",
        "model_rxnorm_pretrained = posology_rx_pretrained.fit(output)\n"
      ],
      "execution_count": null,
      "outputs": [
        {
          "output_type": "stream",
          "text": [
            "ner_posology download started this may take some time.\n",
            "Approximate size to download 13.7 MB\n",
            "[OK!]\n",
            "chunkresolve_rxnorm_sbd_clinical download started this may take some time.\n",
            "Approximate size to download 17.9 MB\n",
            "[OK!]\n"
          ],
          "name": "stdout"
        }
      ]
    },
    {
      "cell_type": "code",
      "metadata": {
        "id": "ApG1_p0EhBav",
        "colab": {
          "base_uri": "https://localhost:8080/"
        },
        "outputId": "0552093a-b631-44d1-bf59-e4644860b6a7"
      },
      "source": [
        "model_rxnorm_pretrained.stages"
      ],
      "execution_count": null,
      "outputs": [
        {
          "output_type": "execute_result",
          "data": {
            "text/plain": [
              "[NerDLModel_d6171a6a5d57,\n",
              " NerConverter_99ab9c76aa38,\n",
              " MERGE_51b5f1810c81,\n",
              " IOBTagger_69e8717cc11b,\n",
              " NerConverterInternal_f2feae2206ad,\n",
              " ChunkEmbeddings_0c633f231bb5,\n",
              " ENTITY_ae05b6e181aa]"
            ]
          },
          "metadata": {
            "tags": []
          },
          "execution_count": 39
        }
      ]
    },
    {
      "cell_type": "code",
      "metadata": {
        "id": "0L5xoXd0LTK_"
      },
      "source": [
        "model_rxnorm_pretrained.save('saved_model_rxnorm_pretrained')"
      ],
      "execution_count": null,
      "outputs": []
    },
    {
      "cell_type": "code",
      "metadata": {
        "id": "NyLnFhqRp1EP"
      },
      "source": [
        "loaded_model_rxnorm_pretrained = PipelineModel.load ('saved_model_rxnorm_pretrained')"
      ],
      "execution_count": null,
      "outputs": []
    },
    {
      "cell_type": "code",
      "metadata": {
        "id": "cs0UZpOUqP82",
        "colab": {
          "base_uri": "https://localhost:8080/"
        },
        "outputId": "be2d6f95-0de5-41b6-adee-98cb3074f493"
      },
      "source": [
        "loaded_model_rxnorm_pretrained.stages"
      ],
      "execution_count": null,
      "outputs": [
        {
          "output_type": "execute_result",
          "data": {
            "text/plain": [
              "[NerDLModel_d6171a6a5d57,\n",
              " NerConverter_99ab9c76aa38,\n",
              " MERGE_51b5f1810c81,\n",
              " IOBTagger_69e8717cc11b,\n",
              " NerConverterInternal_f2feae2206ad,\n",
              " ChunkEmbeddings_0c633f231bb5,\n",
              " ENTITY_ae05b6e181aa]"
            ]
          },
          "metadata": {
            "tags": []
          },
          "execution_count": 42
        }
      ]
    },
    {
      "cell_type": "code",
      "metadata": {
        "id": "tZIaRoe8HTjY",
        "colab": {
          "base_uri": "https://localhost:8080/"
        },
        "outputId": "97bb0f5d-3967-44c8-b035-f1272d37377e"
      },
      "source": [
        "posology_rx_pretrained = Pipeline(\n",
        "    stages = [\n",
        "      documentAssembler,\n",
        "      sentenceDetector,\n",
        "      tokenizer,\n",
        "      stopwords,\n",
        "      word_embeddings,\n",
        "      loaded_model_rxnorm_pretrained\n",
        "  ])\n",
        "\n",
        "posology_rxnorm_pretrained = posology_rx_pretrained.fit(data_ner)\n",
        "\n",
        "pretrained_output = posology_rxnorm_pretrained.transform(data_ner)\n",
        "\n",
        "pretrained_output.select(F.explode(F.arrays_zip(\"greedy_chunk.result\",\"greedy_chunk.metadata\",\"rxnorm_resolution.result\",\"rxnorm_resolution.metadata\")).alias(\"rxnorm_result\")) \\\n",
        "    .select(F.expr(\"rxnorm_result['0']\").alias(\"chunk\"),\n",
        "            F.expr(\"rxnorm_result['1'].entity\").alias(\"entity\"),\n",
        "            F.expr(\"rxnorm_result['3'].all_k_resolutions\").alias(\"target_text\"),\n",
        "            F.expr(\"rxnorm_result['2']\").alias(\"code\"),\n",
        "            F.expr(\"rxnorm_result['3'].confidence\").alias(\"confidence\")).show(truncate = 100)"
      ],
      "execution_count": null,
      "outputs": [
        {
          "output_type": "stream",
          "text": [
            "+----------------------------+------+----------------------------------------------------------------------------------------------------+-------+----------+\n",
            "|                       chunk|entity|                                                                                         target_text|   code|confidence|\n",
            "+----------------------------+------+----------------------------------------------------------------------------------------------------+-------+----------+\n",
            "|               1 prozac 60mg|  DRUG|hydrocortisone acetate 18.5 MG/ML / Pramoxine hydrochloride 11.5 MG/ML Rectal Cream [Procort 1.85...|1115730|    0.2099|\n",
            "|               oral capsules|  DRUG|Hydrocortisone 5 MG Oral Tablet [Cortef]:::Nifedipine 5 MG Oral Capsule [Adalat]:::Triamcinolone ...| 208680|    0.2085|\n",
            "|40 units of insulin glargine|  DRUG|1.5 ML Insulin Glargine 300 UNT/ML Pen Injector [Toujeo]:::3 ML Insulin Glargine 100 UNT/ML Pen I...|1604544|    0.2743|\n",
            "|  12 units of insulin lispro|  DRUG|Insulin Lispro 100 UNT/ML Injectable Solution [Lispro PRC]:::0.5 UNT Doses 3 ML Insulin Lispro 10...| 615910|    0.3041|\n",
            "|           metformin 1000 mg|  DRUG|Metformin hydrochloride 500 MG Oral Tablet [Glucamet]:::Metformin hydrochloride 500 MG Oral Table...| 105376|    0.2324|\n",
            "+----------------------------+------+----------------------------------------------------------------------------------------------------+-------+----------+\n",
            "\n"
          ],
          "name": "stdout"
        }
      ]
    },
    {
      "cell_type": "code",
      "metadata": {
        "id": "zXLtzqdCE87y",
        "colab": {
          "base_uri": "https://localhost:8080/"
        },
        "outputId": "cb1e0817-a7f3-4830-8440-c5ea0eb5089d"
      },
      "source": [
        "loaded_rxnorm_pretrained = ResourceDownloader.downloadPipeline(\"ppl_posology_rxnorm\",\"en\",\"clinical/models\")\n",
        "\n",
        "loaded_rxnorm_pretrained.stages"
      ],
      "execution_count": null,
      "outputs": [
        {
          "output_type": "stream",
          "text": [
            "ppl_posology_rxnorm download started this may take some time.\n",
            "Approx size to download 31.7 MB\n",
            "[OK!]\n"
          ],
          "name": "stdout"
        },
        {
          "output_type": "execute_result",
          "data": {
            "text/plain": [
              "[NerDLModel_d6171a6a5d57,\n",
              " NerConverterInternal_39d476050b5d,\n",
              " MERGE_2274a966f789,\n",
              " IOBTagger_c379906d6b22,\n",
              " NerConverterInternal_a7b27b5fd264,\n",
              " ChunkEmbeddings_8d8fbc62b4fc,\n",
              " ENTITY_ae05b6e181aa]"
            ]
          },
          "metadata": {
            "tags": []
          },
          "execution_count": 44
        }
      ]
    },
    {
      "cell_type": "code",
      "metadata": {
        "id": "zHTMrCu5HBJF",
        "colab": {
          "base_uri": "https://localhost:8080/"
        },
        "outputId": "60a06e65-bb25-40de-cb67-c56033df47b7"
      },
      "source": [
        "posology_rx_pretrained = Pipeline(\n",
        "    stages = [\n",
        "      documentAssembler,\n",
        "      sentenceDetector,\n",
        "      tokenizer,\n",
        "      stopwords,\n",
        "      word_embeddings,\n",
        "      loaded_rxnorm_pretrained\n",
        "  ])\n",
        "\n",
        "posology_rxnorm_pretrained = posology_rx_pretrained.fit(data_ner)\n",
        "\n",
        "pretrained_output = posology_rxnorm_pretrained.transform(data_ner)\n",
        "\n",
        "pretrained_output.select(F.explode(F.arrays_zip(\"greedy_chunk.result\",\"greedy_chunk.metadata\",\"rxnorm_resolution.result\",\"rxnorm_resolution.metadata\")).alias(\"rxnorm_result\")) \\\n",
        "    .select(F.expr(\"rxnorm_result['0']\").alias(\"chunk\"),\n",
        "            F.expr(\"rxnorm_result['1'].entity\").alias(\"entity\"),\n",
        "            F.expr(\"rxnorm_result['3'].all_k_resolutions\").alias(\"target_text\"),\n",
        "            F.expr(\"rxnorm_result['2']\").alias(\"code\"),\n",
        "            F.expr(\"rxnorm_result['3'].confidence\").alias(\"confidence\")).show(truncate = 100)"
      ],
      "execution_count": null,
      "outputs": [
        {
          "output_type": "stream",
          "text": [
            "+----------------------------+------+----------------------------------------------------------------------------------------------------+-------+----------+\n",
            "|                       chunk|entity|                                                                                         target_text|   code|confidence|\n",
            "+----------------------------+------+----------------------------------------------------------------------------------------------------+-------+----------+\n",
            "|               1 prozac 60mg|  DRUG|hydrocortisone acetate 18.5 MG/ML / Pramoxine hydrochloride 11.5 MG/ML Rectal Cream [Procort 1.85...|1115730|    0.2099|\n",
            "|               oral capsules|  DRUG|Hydrocortisone 5 MG Oral Tablet [Cortef]:::Nifedipine 5 MG Oral Capsule [Adalat]:::Triamcinolone ...| 208680|    0.2085|\n",
            "|40 units of insulin glargine|  DRUG|1.5 ML Insulin Glargine 300 UNT/ML Pen Injector [Toujeo]:::3 ML Insulin Glargine 100 UNT/ML Pen I...|1604544|    0.2743|\n",
            "|  12 units of insulin lispro|  DRUG|Insulin Lispro 100 UNT/ML Injectable Solution [Lispro PRC]:::0.5 UNT Doses 3 ML Insulin Lispro 10...| 615910|    0.3041|\n",
            "|           metformin 1000 mg|  DRUG|Metformin hydrochloride 500 MG Oral Tablet [Glucamet]:::Metformin hydrochloride 500 MG Oral Table...| 105376|    0.2324|\n",
            "+----------------------------+------+----------------------------------------------------------------------------------------------------+-------+----------+\n",
            "\n"
          ],
          "name": "stdout"
        }
      ]
    },
    {
      "cell_type": "markdown",
      "metadata": {
        "id": "ZkaRMSjXiTpg"
      },
      "source": [
        "# ICD10 + RxNorm with multiple NERs"
      ]
    },
    {
      "cell_type": "code",
      "metadata": {
        "id": "Ji_40I45dhii"
      },
      "source": [
        "notes = [\n",
        "'Pentamidine 300 mg IV q . 36 hours , Pentamidine nasal wash 60 mg per 6 ml of sterile water q.d . , voriconazole 200 mg p.o . b.i.d . , acyclovir 400 mg p.o . b.i.d . , cyclosporine 50 mg p.o . b.i.d . , prednisone 60 mg p.o . q.d . , GCSF 480 mcg IV q.d . , Epogen 40,000 units subcu q . week , Protonix 40 mg q.d . , Simethicone 80 mg p.o . q . 8 , nitroglycerin paste 1 \" ; q . 4 h . p.r.n . , flunisolide nasal inhaler , 2 puffs q . 8 , OxyCodone 10-15 mg p.o . q . 6 p.r.n . , Sudafed 30 mg q . 6 p.o . p.r.n . , Fluconazole 2% cream b.i.d . to erythematous skin lesions , Ditropan 5 mg p.o . b.i.d . , Tylenol 650 mg p.o . q . 4 h . p.r.n . , Ambien 5-10 mg p.o . q . h.s . p.r.n . , Neurontin 100 mg q . a.m . , 200 mg q . p.m . , Aquaphor cream b.i.d . p.r.n . , Lotrimin 1% cream b.i.d . to feet , Dulcolax 5-10 mg p.o . q.d . p.r.n . , Phoslo 667 mg p.o . t.i.d . , Peridex 0.12% , 15 ml p.o . b.i.d . mouthwash , Benadryl 25-50 mg q . 4-6 h . p.r.n . pruritus , Sarna cream q.d . p.r.n . pruritus , Nystatin 5 ml p.o . q.i.d . swish and !',\n",
        "'Albuterol nebulizers 2.5 mg q.4h . and Atrovent nebulizers 0.5 mg q.4h . , please alternate albuterol and Atrovent ; Rocaltrol 0.25 mcg per NG tube q.d .; calcium carbonate 1250 mg per NG tube q.i.d .; vitamin B12 1000 mcg IM q . month , next dose is due Nov 18 ; diltiazem 60 mg per NG tube t.i.d .; ferrous sulfate 300 mg per NG t.i.d .; Haldol 5 mg IV q.h.s .; hydralazine 10 mg IV q.6h . p.r.n . hypertension ; lisinopril 10 mg per NG tube q.d .; Ativan 1 mg per NG tube q.h.s .; Lopressor 25 mg per NG tube t.i.d .; Zantac 150 mg per NG tube b.i.d .; multivitamin 10 ml per NG tube q.d .; Macrodantin 100 mg per NG tube q.i.d . x 10 days beginning on 11/3/00 .',\n",
        "'Tylenol 650 mg p.o . q . 4-6h p.r.n . headache or pain ; acyclovir 400 mg p.o . t.i.d .; acyclovir topical t.i.d . to be applied to lesion on corner of mouth ; Peridex 15 ml p.o . b.i.d .; Mycelex 1 troche p.o . t.i.d .; g-csf 404 mcg subcu q.d .; folic acid 1 mg p.o . q.d .; lorazepam 1-2 mg p.o . q . 4-6h p.r.n . nausea and vomiting ; Miracle Cream topical q.d . p.r.n . perianal irritation ; Eucerin Cream topical b.i.d .; Zantac 150 mg p.o . b.i.d .; Restoril 15-30 mg p.o . q . h.s . p.r.n . insomnia ; multivitamin 1 tablet p.o . q.d .; viscous lidocaine 15 ml p.o . q . 3h can be applied to corner of mouth or lips p.r.n . pain control .',\n",
        "'The patient\\'s incisions sternal and right leg were clean and healing well , normal sinus rhythm at 70-80 , with blood pressure 98-110/60 and patient was doing well , recovering , ambulating , tolerating regular diet and last hematocrit prior to discharge was 39% with a BUN and creatinine of 15 and 1.0 , prothrombin time level of 13.8 , chest X-ray prior to discharge showed small bilateral effusions with mild cardiomegaly and subsegmental atelectasis bibasilar and electrocardiogram showed normal sinus rhythm with left atrial enlargement and no acute ischemic changes on electrocardiogram .',\n",
        "'This is an 82 - year-old male with a history of prior tobacco use , hypertension , chronic renal insufficiency , COPD , gastritis , and TIA who initially presented to Braintree with a non-ST elevation MI and Guaiac positive stools , transferred to St . Margaret\\'s Center for Women & Infants for cardiac catheterization with PTCA to mid LAD lesion complicated by hypotension and bradycardia requiring Atropine , IV fluids and transient dopamine possibly secondary to vagal reaction , subsequently transferred to CCU for close monitoring , hemodynamically stable at the time of admission to the CCU .',\n",
        "'O2 95% on 3L NC mixed Quinn 82% genrl : in nad , resting comfortably heent : perrla ( 4->3 mm ) bilaterally , blind in right visual field , eomi , dry mm , ? thrush neck : no bruits cv : rrr , no m/r/g , faint s1/s2 pulm : cta bilaterally abd : midline scar ( from urostomy ) , nabs , soft , appears distended but patient denies , ostomy RLQ c/d/i , NT to palpation back : right flank urostomy tube , c/d/i , nt to palpation extr : no Gardner neuro : a , ox3 , wiggles toes bilaterally , unable to lift LE , 06-12 grip bilaterally w/ UE , decrease sensation to soft touch in left',\n",
        "'Is notable for an inferior myocardial infarction , restrictive and obstructive lung disease with an FEV1 of . 9 and FVC of 1.34 and a moderate at best response to bronchodilators , and a negative sestamibi scan in May , 1999 apart from a severe fixed inferolateral defect , systolic dysfunction with recent echocardiography revealing an LVID of 62 mm . and ejection fraction of 28 percent , moderate mitral regurgitation and mild-to-moderate aortic stenosis with a peak gradient of 33 and a mean gradient of 19 and a valve area of 1.4 cm . squared .',\n",
        "'This is a 47 - year-old male with a past medical history of type 2 diabetes , high cholesterol , hypertension , and coronary artery disease , status post percutaneous transluminal coronary angioplasty times two , who presented with acute coronary syndrome refractory to medical treatment and TNK , now status post Angio-Jet percutaneous transluminal coronary angioplasty and stent of proximal left anterior descending artery and percutaneous transluminal coronary angioplasty of first diagonal with intra-aortic balloon pump placement .',\n",
        "'Clinical progression of skin and sinus infection on maximal antimicrobial therapy continued , with emergence on November 20 of a new right-sided ptosis in association with a left homonymous hemianopsia , and fleeting confusion while febrile , prompting head MRI which revealed a large 5 x 2 x 4.3 cm region in the right occipital lobe of hemorrhage and edema , with dural and , likely , leptomeningeal enhancement in association with small foci in the right cerebellum and pons , concerning for early lesions of similar type .',\n",
        "'The patient had an echocardiogram on day two of admission , which revealed a mildly dilated left atrium , mild symmetric LVH , normal LV cavity size , mild region LV systolic dysfunction , arresting regional wall motion abnormality including focal apical hypokinesis , a normal right ventricular chamber size and free wall motion , a moderately dilated aortic root , a mildly dilated ascending aorta , normal aortic valve leaflet , normal mitral valve leaflet and no pericardial effusions .',\n",
        "'The patient is a 65-year-old man with refractory CLL , status post non-myeloblative stem cell transplant approximately nine months prior to admission , and status post prolonged recent Retelk County Medical Center stay for Acanthamoeba infection of skin and sinuses , complicated by ARS due to medication toxicity , as well as GVHD and recent CMV infection , readmitted for new fever , increasing creatinine , hepatomegaly and fluid surge spacing , in the setting of hyponatremia .',\n",
        "'Tylenol 650 mg p.o . q.4h . p.r.n . , Benadryl 25 mg p.o . q.h.s . p.r.n . , Colace 100 mg p.o . q.i.d . , Nortriptyline 25 mg p.o . q.h.s . , Simvastatin 10 mg p.o . q.h.s . , Metamucil one packet p.o . b.i.d . p.r.n . , Neurontin 300 mg p.o . t.i.d . , Levsinex 0.375 mg p.o . q.12h . , Lisinopril / hydrochlorothiazide 20/25 mg p.o . q.d . , hydrocortisone topical ointment to affected areas , MS Contin 30 mg p.o . b.i.d . , MSIR 15 to 30 mg p.o . q.4h . p.r.n . pain .',\n",
        "'Aspirin 325 q.d . ; albuterol nebs 2.5 mg q . 4h ; Colace 100 mg b.i.d . ; heparin 5,000 units subcu b.i.d . ; Synthroid 200 mcg q.d . ; Ocean Spray 2 sprays q . i.d . ; simvastatin 10 mg q . h.s . ; Flovent 220 mcg 2 puffs b.i.d . ; Zantac 150 b.i.d . ; nystatin ointment to the gluteal fold b.i.d . ; Lisinopril 20 mg q.d . ; Mestinon controlled release 180 q . h.s . ; Mestinon 30 mg q . 4h while awake ; prednisone 60 mg p.o . q . IM ; Atrovent nebs 0.5 mg q . i.d .',\n",
        "'An echocardiogram was obtained on 4-26 which showed concentric left ventricular hypertrophy with normal _____ left ventricular function , severe right ventricular dilatation with septal hypokinesis and flattening with a question of right ventricular apical clot raised with mild aortic stenosis , severe tricuspid regurgitation and increased pulmonary artery pressure of approximately 70 millimeters , consistent with fairly severe pulmonary hypertension .',\n",
        "'1 ) CV ( R ) finished amio IV load then started on po , agressive lytes ; although interrogation showed >100 episodes of VT ( as / x ) , pt prefers med therapy as opposed to ablation ( I ) enzymes mildly elevated but not actively ischemic ; lipids , ASA , statin , BB ; Adenosine thal 1/4 and echo 1/4 to look for signs of ischemia as active cause for VT ( P ) JVP at angle of jaw 1/4 -- > giving 20 Lasix ; dig level 1/4 1.3 -- > 1/2 dose as on Amio',\n",
        "'sodium 141 , potassium 3.5 , chloride 107 , bicarbonates 23.8 , BUN 23 , creatinine 1.1 , glucose 165 , PO2 377 , PCO2 32 , PH 7.50 , asomus 298 , toxic screen negative , white blood cell count 11.1 , hematocrit 39.6 , platelet count 137 , prothrombin time 25.2 , INR 4.3 , partial thromboplastin time 34.7 , urinalysis 1+ albumin , 0-5 high link caths , cervical spine negative , pelvis negative , lumbar spine ; negative , thoracic spine negative .',\n",
        "]"
      ],
      "execution_count": null,
      "outputs": []
    },
    {
      "cell_type": "code",
      "metadata": {
        "id": "rInAaHXWOaWj",
        "colab": {
          "base_uri": "https://localhost:8080/",
          "height": 1000
        },
        "outputId": "d09a9701-1d18-4011-b734-4c2168f46832"
      },
      "source": [
        "from IPython.core.display import display, HTML\n",
        "\n",
        "html_output=\"\"\n",
        "for i, d in enumerate(notes):\n",
        "    html_output += f'Note {i}:'\n",
        "    html_output +='<div style=\"border:2px solid #747474; background-color: #e3e3e3; margin: 5px; padding: 10px\">'\n",
        "    html_output += d\n",
        "    html_output += '</div><br/>'\n",
        "\n",
        "display(HTML(html_output))"
      ],
      "execution_count": null,
      "outputs": [
        {
          "output_type": "display_data",
          "data": {
            "text/html": [
              "Note 0:<div style=\"border:2px solid #747474; background-color: #e3e3e3; margin: 5px; padding: 10px\">Pentamidine 300 mg IV q . 36 hours , Pentamidine nasal wash 60 mg per 6 ml of sterile water q.d . , voriconazole 200 mg p.o . b.i.d . , acyclovir 400 mg p.o . b.i.d . , cyclosporine 50 mg p.o . b.i.d . , prednisone 60 mg p.o . q.d . , GCSF 480 mcg IV q.d . , Epogen 40,000 units subcu q . week , Protonix 40 mg q.d . , Simethicone 80 mg p.o . q . 8 , nitroglycerin paste 1 \" ; q . 4 h . p.r.n . , flunisolide nasal inhaler , 2 puffs q . 8 , OxyCodone 10-15 mg p.o . q . 6 p.r.n . , Sudafed 30 mg q . 6 p.o . p.r.n . , Fluconazole 2% cream b.i.d . to erythematous skin lesions , Ditropan 5 mg p.o . b.i.d . , Tylenol 650 mg p.o . q . 4 h . p.r.n . , Ambien 5-10 mg p.o . q . h.s . p.r.n . , Neurontin 100 mg q . a.m . , 200 mg q . p.m . , Aquaphor cream b.i.d . p.r.n . , Lotrimin 1% cream b.i.d . to feet , Dulcolax 5-10 mg p.o . q.d . p.r.n . , Phoslo 667 mg p.o . t.i.d . , Peridex 0.12% , 15 ml p.o . b.i.d . mouthwash , Benadryl 25-50 mg q . 4-6 h . p.r.n . pruritus , Sarna cream q.d . p.r.n . pruritus , Nystatin 5 ml p.o . q.i.d . swish and !</div><br/>Note 1:<div style=\"border:2px solid #747474; background-color: #e3e3e3; margin: 5px; padding: 10px\">Albuterol nebulizers 2.5 mg q.4h . and Atrovent nebulizers 0.5 mg q.4h . , please alternate albuterol and Atrovent ; Rocaltrol 0.25 mcg per NG tube q.d .; calcium carbonate 1250 mg per NG tube q.i.d .; vitamin B12 1000 mcg IM q . month , next dose is due Nov 18 ; diltiazem 60 mg per NG tube t.i.d .; ferrous sulfate 300 mg per NG t.i.d .; Haldol 5 mg IV q.h.s .; hydralazine 10 mg IV q.6h . p.r.n . hypertension ; lisinopril 10 mg per NG tube q.d .; Ativan 1 mg per NG tube q.h.s .; Lopressor 25 mg per NG tube t.i.d .; Zantac 150 mg per NG tube b.i.d .; multivitamin 10 ml per NG tube q.d .; Macrodantin 100 mg per NG tube q.i.d . x 10 days beginning on 11/3/00 .</div><br/>Note 2:<div style=\"border:2px solid #747474; background-color: #e3e3e3; margin: 5px; padding: 10px\">Tylenol 650 mg p.o . q . 4-6h p.r.n . headache or pain ; acyclovir 400 mg p.o . t.i.d .; acyclovir topical t.i.d . to be applied to lesion on corner of mouth ; Peridex 15 ml p.o . b.i.d .; Mycelex 1 troche p.o . t.i.d .; g-csf 404 mcg subcu q.d .; folic acid 1 mg p.o . q.d .; lorazepam 1-2 mg p.o . q . 4-6h p.r.n . nausea and vomiting ; Miracle Cream topical q.d . p.r.n . perianal irritation ; Eucerin Cream topical b.i.d .; Zantac 150 mg p.o . b.i.d .; Restoril 15-30 mg p.o . q . h.s . p.r.n . insomnia ; multivitamin 1 tablet p.o . q.d .; viscous lidocaine 15 ml p.o . q . 3h can be applied to corner of mouth or lips p.r.n . pain control .</div><br/>Note 3:<div style=\"border:2px solid #747474; background-color: #e3e3e3; margin: 5px; padding: 10px\">The patient's incisions sternal and right leg were clean and healing well , normal sinus rhythm at 70-80 , with blood pressure 98-110/60 and patient was doing well , recovering , ambulating , tolerating regular diet and last hematocrit prior to discharge was 39% with a BUN and creatinine of 15 and 1.0 , prothrombin time level of 13.8 , chest X-ray prior to discharge showed small bilateral effusions with mild cardiomegaly and subsegmental atelectasis bibasilar and electrocardiogram showed normal sinus rhythm with left atrial enlargement and no acute ischemic changes on electrocardiogram .</div><br/>Note 4:<div style=\"border:2px solid #747474; background-color: #e3e3e3; margin: 5px; padding: 10px\">This is an 82 - year-old male with a history of prior tobacco use , hypertension , chronic renal insufficiency , COPD , gastritis , and TIA who initially presented to Braintree with a non-ST elevation MI and Guaiac positive stools , transferred to St . Margaret's Center for Women & Infants for cardiac catheterization with PTCA to mid LAD lesion complicated by hypotension and bradycardia requiring Atropine , IV fluids and transient dopamine possibly secondary to vagal reaction , subsequently transferred to CCU for close monitoring , hemodynamically stable at the time of admission to the CCU .</div><br/>Note 5:<div style=\"border:2px solid #747474; background-color: #e3e3e3; margin: 5px; padding: 10px\">O2 95% on 3L NC mixed Quinn 82% genrl : in nad , resting comfortably heent : perrla ( 4->3 mm ) bilaterally , blind in right visual field , eomi , dry mm , ? thrush neck : no bruits cv : rrr , no m/r/g , faint s1/s2 pulm : cta bilaterally abd : midline scar ( from urostomy ) , nabs , soft , appears distended but patient denies , ostomy RLQ c/d/i , NT to palpation back : right flank urostomy tube , c/d/i , nt to palpation extr : no Gardner neuro : a , ox3 , wiggles toes bilaterally , unable to lift LE , 06-12 grip bilaterally w/ UE , decrease sensation to soft touch in left</div><br/>Note 6:<div style=\"border:2px solid #747474; background-color: #e3e3e3; margin: 5px; padding: 10px\">Is notable for an inferior myocardial infarction , restrictive and obstructive lung disease with an FEV1 of . 9 and FVC of 1.34 and a moderate at best response to bronchodilators , and a negative sestamibi scan in May , 1999 apart from a severe fixed inferolateral defect , systolic dysfunction with recent echocardiography revealing an LVID of 62 mm . and ejection fraction of 28 percent , moderate mitral regurgitation and mild-to-moderate aortic stenosis with a peak gradient of 33 and a mean gradient of 19 and a valve area of 1.4 cm . squared .</div><br/>Note 7:<div style=\"border:2px solid #747474; background-color: #e3e3e3; margin: 5px; padding: 10px\">This is a 47 - year-old male with a past medical history of type 2 diabetes , high cholesterol , hypertension , and coronary artery disease , status post percutaneous transluminal coronary angioplasty times two , who presented with acute coronary syndrome refractory to medical treatment and TNK , now status post Angio-Jet percutaneous transluminal coronary angioplasty and stent of proximal left anterior descending artery and percutaneous transluminal coronary angioplasty of first diagonal with intra-aortic balloon pump placement .</div><br/>Note 8:<div style=\"border:2px solid #747474; background-color: #e3e3e3; margin: 5px; padding: 10px\">Clinical progression of skin and sinus infection on maximal antimicrobial therapy continued , with emergence on November 20 of a new right-sided ptosis in association with a left homonymous hemianopsia , and fleeting confusion while febrile , prompting head MRI which revealed a large 5 x 2 x 4.3 cm region in the right occipital lobe of hemorrhage and edema , with dural and , likely , leptomeningeal enhancement in association with small foci in the right cerebellum and pons , concerning for early lesions of similar type .</div><br/>Note 9:<div style=\"border:2px solid #747474; background-color: #e3e3e3; margin: 5px; padding: 10px\">The patient had an echocardiogram on day two of admission , which revealed a mildly dilated left atrium , mild symmetric LVH , normal LV cavity size , mild region LV systolic dysfunction , arresting regional wall motion abnormality including focal apical hypokinesis , a normal right ventricular chamber size and free wall motion , a moderately dilated aortic root , a mildly dilated ascending aorta , normal aortic valve leaflet , normal mitral valve leaflet and no pericardial effusions .</div><br/>Note 10:<div style=\"border:2px solid #747474; background-color: #e3e3e3; margin: 5px; padding: 10px\">The patient is a 65-year-old man with refractory CLL , status post non-myeloblative stem cell transplant approximately nine months prior to admission , and status post prolonged recent Retelk County Medical Center stay for Acanthamoeba infection of skin and sinuses , complicated by ARS due to medication toxicity , as well as GVHD and recent CMV infection , readmitted for new fever , increasing creatinine , hepatomegaly and fluid surge spacing , in the setting of hyponatremia .</div><br/>Note 11:<div style=\"border:2px solid #747474; background-color: #e3e3e3; margin: 5px; padding: 10px\">Tylenol 650 mg p.o . q.4h . p.r.n . , Benadryl 25 mg p.o . q.h.s . p.r.n . , Colace 100 mg p.o . q.i.d . , Nortriptyline 25 mg p.o . q.h.s . , Simvastatin 10 mg p.o . q.h.s . , Metamucil one packet p.o . b.i.d . p.r.n . , Neurontin 300 mg p.o . t.i.d . , Levsinex 0.375 mg p.o . q.12h . , Lisinopril / hydrochlorothiazide 20/25 mg p.o . q.d . , hydrocortisone topical ointment to affected areas , MS Contin 30 mg p.o . b.i.d . , MSIR 15 to 30 mg p.o . q.4h . p.r.n . pain .</div><br/>Note 12:<div style=\"border:2px solid #747474; background-color: #e3e3e3; margin: 5px; padding: 10px\">Aspirin 325 q.d . ; albuterol nebs 2.5 mg q . 4h ; Colace 100 mg b.i.d . ; heparin 5,000 units subcu b.i.d . ; Synthroid 200 mcg q.d . ; Ocean Spray 2 sprays q . i.d . ; simvastatin 10 mg q . h.s . ; Flovent 220 mcg 2 puffs b.i.d . ; Zantac 150 b.i.d . ; nystatin ointment to the gluteal fold b.i.d . ; Lisinopril 20 mg q.d . ; Mestinon controlled release 180 q . h.s . ; Mestinon 30 mg q . 4h while awake ; prednisone 60 mg p.o . q . IM ; Atrovent nebs 0.5 mg q . i.d .</div><br/>Note 13:<div style=\"border:2px solid #747474; background-color: #e3e3e3; margin: 5px; padding: 10px\">An echocardiogram was obtained on 4-26 which showed concentric left ventricular hypertrophy with normal _____ left ventricular function , severe right ventricular dilatation with septal hypokinesis and flattening with a question of right ventricular apical clot raised with mild aortic stenosis , severe tricuspid regurgitation and increased pulmonary artery pressure of approximately 70 millimeters , consistent with fairly severe pulmonary hypertension .</div><br/>Note 14:<div style=\"border:2px solid #747474; background-color: #e3e3e3; margin: 5px; padding: 10px\">1 ) CV ( R ) finished amio IV load then started on po , agressive lytes ; although interrogation showed >100 episodes of VT ( as / x ) , pt prefers med therapy as opposed to ablation ( I ) enzymes mildly elevated but not actively ischemic ; lipids , ASA , statin , BB ; Adenosine thal 1/4 and echo 1/4 to look for signs of ischemia as active cause for VT ( P ) JVP at angle of jaw 1/4 -- > giving 20 Lasix ; dig level 1/4 1.3 -- > 1/2 dose as on Amio</div><br/>Note 15:<div style=\"border:2px solid #747474; background-color: #e3e3e3; margin: 5px; padding: 10px\">sodium 141 , potassium 3.5 , chloride 107 , bicarbonates 23.8 , BUN 23 , creatinine 1.1 , glucose 165 , PO2 377 , PCO2 32 , PH 7.50 , asomus 298 , toxic screen negative , white blood cell count 11.1 , hematocrit 39.6 , platelet count 137 , prothrombin time 25.2 , INR 4.3 , partial thromboplastin time 34.7 , urinalysis 1+ albumin , 0-5 high link caths , cervical spine negative , pelvis negative , lumbar spine ; negative , thoracic spine negative .</div><br/>"
            ],
            "text/plain": [
              "<IPython.core.display.HTML object>"
            ]
          },
          "metadata": {
            "tags": []
          }
        }
      ]
    },
    {
      "cell_type": "code",
      "metadata": {
        "id": "C4x5nlrIOffp",
        "colab": {
          "base_uri": "https://localhost:8080/"
        },
        "outputId": "26c79be7-77fd-4183-eec6-7011c84f6f0b"
      },
      "source": [
        "data = spark.createDataFrame([(i,n.lower()) for i,n in enumerate(notes)]).toDF('doc_id', 'text')\n",
        "\n",
        "data.show(truncate=50)"
      ],
      "execution_count": null,
      "outputs": [
        {
          "output_type": "stream",
          "text": [
            "+------+--------------------------------------------------+\n",
            "|doc_id|                                              text|\n",
            "+------+--------------------------------------------------+\n",
            "|     0|pentamidine 300 mg iv q . 36 hours , pentamidin...|\n",
            "|     1|albuterol nebulizers 2.5 mg q.4h . and atrovent...|\n",
            "|     2|tylenol 650 mg p.o . q . 4-6h p.r.n . headache ...|\n",
            "|     3|the patient's incisions sternal and right leg w...|\n",
            "|     4|this is an 82 - year-old male with a history of...|\n",
            "|     5|o2 95% on 3l nc mixed quinn 82% genrl : in nad ...|\n",
            "|     6|is notable for an inferior myocardial infarctio...|\n",
            "|     7|this is a 47 - year-old male with a past medica...|\n",
            "|     8|clinical progression of skin and sinus infectio...|\n",
            "|     9|the patient had an echocardiogram on day two of...|\n",
            "|    10|the patient is a 65-year-old man with refractor...|\n",
            "|    11|tylenol 650 mg p.o . q.4h . p.r.n . , benadryl ...|\n",
            "|    12|aspirin 325 q.d . ; albuterol nebs 2.5 mg q . 4...|\n",
            "|    13|an echocardiogram was obtained on 4-26 which sh...|\n",
            "|    14|1 ) cv ( r ) finished amio iv load then started...|\n",
            "|    15|sodium 141 , potassium 3.5 , chloride 107 , bic...|\n",
            "+------+--------------------------------------------------+\n",
            "\n"
          ],
          "name": "stdout"
        }
      ]
    },
    {
      "cell_type": "markdown",
      "metadata": {
        "id": "z9ERXdIpOxRB"
      },
      "source": [
        "let's build a SparkNLP pipeline with the following stages:\n",
        "\n",
        "`DocumentAssembler`: Entry annotator for our pipelines; it creates the data structure for the Annotation Framework\n",
        "\n",
        "`SentenceDetector`: Annotator to pragmatically separate complete sentences inside each document\n",
        "\n",
        "`Tokenizer`: Annotator to separate sentences in tokens (generally words)\n",
        "\n",
        "`StopWordsCleaner`: Annotator to remove words defined as StopWords in SparkML\n",
        "\n",
        "`WordEmbeddings`: Vectorization of word tokens, in this case using word embeddings trained from PubMed, ICD10 and other clinical resources.\n",
        "\n",
        "`ChunkEmbeddings`: Aggregates the WordEmbeddings for each NER Chunk\n",
        "\n",
        "`JSL NER + NerConverter`: This annotators return Chunks related to jsl_ner (generic ner) \n",
        "\n",
        "`Drug NER + NerConverter`: This annotators return Chunks related to drugs\n",
        "\n",
        "`ChunkEntityResolver`: Annotator that performs search for the KNNs, in this case trained from ICDO Histology Behavior."
      ]
    },
    {
      "cell_type": "code",
      "metadata": {
        "id": "DKBaRiGzQPkH",
        "colab": {
          "base_uri": "https://localhost:8080/"
        },
        "outputId": "96cb3c7e-7fd5-420e-c3bf-686d6023a87f"
      },
      "source": [
        "# Annotators responsible for the Cancer Genetics Entity Recognition task\n",
        "\n",
        "jslNer = NerDLModel.pretrained('ner_jsl', 'en', \"clinical/models\")\\\n",
        "    .setInputCols('sentence', 'token', 'embeddings')\\\n",
        "    .setOutputCol('ner_jsl')\n",
        "\n",
        "drugNer = NerDLModel.pretrained('ner_drugs', 'en', \"clinical/models\")\\\n",
        "    .setInputCols('sentence', 'token', 'embeddings')\\\n",
        "    .setOutputCol('ner_drug')"
      ],
      "execution_count": null,
      "outputs": [
        {
          "output_type": "stream",
          "text": [
            "ner_jsl download started this may take some time.\n",
            "Approximate size to download 14 MB\n",
            "[OK!]\n",
            "ner_drugs download started this may take some time.\n",
            "Approximate size to download 13.8 MB\n",
            "[OK!]\n"
          ],
          "name": "stdout"
        }
      ]
    },
    {
      "cell_type": "code",
      "metadata": {
        "id": "vKqP-pkGQ-Tv"
      },
      "source": [
        "\n",
        "#Converter annotators transform IOB tags into full chunks (sequence set of tokens) tagged with `entity` metadata\n",
        "\n",
        "jslConverter = NerConverter()\\\n",
        "    .setInputCols('sentence', 'token', 'ner_jsl')\\\n",
        "    .setOutputCol('chunk_jsl')\\\n",
        "    .setWhiteList([\"Diagnosis\"])\n",
        "\n",
        "drugConverter = NerConverter()\\\n",
        "    .setInputCols('sentence', 'token', 'ner_drug')\\\n",
        "    .setOutputCol('chunk_drug')"
      ],
      "execution_count": null,
      "outputs": []
    },
    {
      "cell_type": "code",
      "metadata": {
        "id": "j2Z7meiIRS30"
      },
      "source": [
        "\n",
        "#ChunkEmbeddings annotators aggregate embeddings for each token in the chunk\n",
        "\n",
        "jslChunkEmbeddings = ChunkEmbeddings()\\\n",
        "    .setInputCols('chunk_jsl', 'embeddings')\\\n",
        "    .setOutputCol('chunk_embs_jsl')\n",
        "\n",
        "drugChunkEmbeddings = ChunkEmbeddings()\\\n",
        "    .setInputCols('chunk_drug', 'embeddings')\\\n",
        "    .setOutputCol('chunk_embs_drug')"
      ],
      "execution_count": null,
      "outputs": []
    },
    {
      "cell_type": "code",
      "metadata": {
        "id": "1b62vB4qt33m",
        "colab": {
          "base_uri": "https://localhost:8080/"
        },
        "outputId": "00cc30d1-9fdb-41cb-c112-8774dacc428e"
      },
      "source": [
        "# Entity Resolution Pretrained Models\n",
        "\n",
        "icd10cmResolver2 = ChunkEntityResolverModel\\\n",
        "    .pretrained('chunkresolve_icd10cm_diseases_clinical', 'en', \"clinical/models\")\\\n",
        "    .setEnableLevenshtein(True)\\\n",
        "    .setNeighbours(200).setAlternatives(5).setDistanceWeights([3,3,2,0,0,7])\\\n",
        "    .setInputCols('token', 'chunk_embs_jsl')\\\n",
        "    .setOutputCol('icd10cm_resolution')\n",
        "\n",
        "rxnormResolver2 = ChunkEntityResolverModel()\\\n",
        "    .pretrained('chunkresolve_rxnorm_scd_clinical', 'en', \"clinical/models\")\\\n",
        "    .setEnableLevenshtein(True)\\\n",
        "    .setNeighbours(200).setAlternatives(5).setDistanceWeights([3,3,2,0,0,7])\\\n",
        "    .setInputCols('token', 'chunk_embs_drug')\\\n",
        "    .setOutputCol('rxnorm_resolution')\\"
      ],
      "execution_count": null,
      "outputs": [
        {
          "output_type": "stream",
          "text": [
            "chunkresolve_icd10cm_diseases_clinical download started this may take some time.\n",
            "Approximate size to download 100.7 MB\n",
            "[OK!]\n",
            "chunkresolve_rxnorm_scd_clinical download started this may take some time.\n",
            "Approximate size to download 28.6 MB\n",
            "[OK!]\n"
          ],
          "name": "stdout"
        }
      ]
    },
    {
      "cell_type": "code",
      "metadata": {
        "id": "f0EB751rUXw5"
      },
      "source": [
        "pipelineFull = Pipeline().setStages([\n",
        "    documentAssembler, \n",
        "    sentenceDetector, \n",
        "    tokenizer, \n",
        "    stopwords, \n",
        "    word_embeddings, \n",
        "    jslNer,\n",
        "    drugNer,\n",
        "    jslConverter,\n",
        "    drugConverter,\n",
        "    jslChunkEmbeddings, \n",
        "    drugChunkEmbeddings,\n",
        "    icd10cmResolver2,\n",
        "    rxnormResolver2\n",
        "])"
      ],
      "execution_count": null,
      "outputs": []
    },
    {
      "cell_type": "code",
      "metadata": {
        "id": "hmcAw9wsUagb"
      },
      "source": [
        "# Persisiting temporarily to keep DAG size and resource usage low (Word Embeddings are Resource Intensive)\n",
        "pipelineModelFull = pipelineFull.fit(data)\n",
        "\n",
        "output = pipelineModelFull.transform(data)"
      ],
      "execution_count": null,
      "outputs": []
    },
    {
      "cell_type": "code",
      "metadata": {
        "id": "DqfmMufdEHUN"
      },
      "source": [
        "output.write.mode(\"overwrite\").save(\"temp\")\n",
        "\n",
        "output = spark.read.load(\"temp\")"
      ],
      "execution_count": null,
      "outputs": []
    },
    {
      "cell_type": "code",
      "metadata": {
        "id": "w2AAKn_IEBLL",
        "colab": {
          "base_uri": "https://localhost:8080/"
        },
        "outputId": "3b221327-09be-4423-c982-0816b6b5080a"
      },
      "source": [
        "%%time\n",
        "output.show()"
      ],
      "execution_count": null,
      "outputs": [
        {
          "output_type": "stream",
          "text": [
            "+------+--------------------+--------------------+--------------------+--------------------+--------------------+--------------------+--------------------+--------------------+--------------------+--------------------+--------------------+--------------------+--------------------+--------------------+\n",
            "|doc_id|                text|            document|            sentence|           raw_token|               token|          embeddings|             ner_jsl|            ner_drug|           chunk_jsl|          chunk_drug|      chunk_embs_jsl|     chunk_embs_drug|  icd10cm_resolution|   rxnorm_resolution|\n",
            "+------+--------------------+--------------------+--------------------+--------------------+--------------------+--------------------+--------------------+--------------------+--------------------+--------------------+--------------------+--------------------+--------------------+--------------------+\n",
            "|     0|pentamidine 300 m...|[[document, 0, 10...|[[document, 0, 24...|[[token, 0, 10, p...|[[token, 0, 10, p...|[[word_embeddings...|[[named_entity, 0...|[[named_entity, 0...|                  []|[[chunk, 0, 10, p...|                  []|[[word_embeddings...|                  []|[[entity, 0, 10, ...|\n",
            "|     1|albuterol nebuliz...|[[document, 0, 66...|[[document, 0, 33...|[[token, 0, 8, al...|[[token, 0, 8, al...|[[word_embeddings...|[[named_entity, 0...|[[named_entity, 0...|[[chunk, 400, 411...|[[chunk, 0, 8, al...|[[word_embeddings...|[[word_embeddings...|[[entity, 400, 41...|[[entity, 0, 8, 1...|\n",
            "|     2|tylenol 650 mg p....|[[document, 0, 64...|[[document, 0, 19...|[[token, 0, 6, ty...|[[token, 0, 6, ty...|[[word_embeddings...|[[named_entity, 0...|[[named_entity, 0...|[[chunk, 499, 506...|[[chunk, 0, 6, ty...|[[word_embeddings...|[[word_embeddings...|[[entity, 499, 50...|[[entity, 0, 6, 3...|\n",
            "|     3|the patient's inc...|[[document, 0, 59...|[[document, 0, 59...|[[token, 0, 2, th...|[[token, 4, 12, p...|[[word_embeddings...|[[named_entity, 4...|[[named_entity, 4...|                  []|[[chunk, 278, 287...|                  []|[[word_embeddings...|                  []|[[entity, 278, 28...|\n",
            "|     4|this is an 82 - y...|[[document, 0, 59...|[[document, 0, 25...|[[token, 0, 3, th...|[[token, 11, 12, ...|[[word_embeddings...|[[named_entity, 1...|[[named_entity, 1...|[[chunk, 68, 79, ...|[[chunk, 400, 407...|[[word_embeddings...|[[word_embeddings...|[[entity, 68, 79,...|[[entity, 400, 40...|\n",
            "|     5|o2 95% on 3l nc m...|[[document, 0, 57...|[[document, 0, 57...|[[token, 0, 1, o2...|[[token, 0, 1, o2...|[[word_embeddings...|[[named_entity, 0...|[[named_entity, 0...|                  []|                  []|                  []|                  []|                  []|                  []|\n",
            "|     6|is notable for an...|[[document, 0, 54...|[[document, 0, 10...|[[token, 0, 1, is...|[[token, 3, 9, no...|[[word_embeddings...|[[named_entity, 3...|[[named_entity, 3...|[[chunk, 67, 103,...|                  []|[[word_embeddings...|                  []|[[entity, 67, 103...|                  []|\n",
            "|     7|this is a 47 - ye...|[[document, 0, 53...|[[document, 0, 53...|[[token, 0, 3, th...|[[token, 10, 11, ...|[[word_embeddings...|[[named_entity, 1...|[[named_entity, 1...|                  []|[[chunk, 83, 93, ...|                  []|[[word_embeddings...|                  []|[[entity, 83, 93,...|\n",
            "|     8|clinical progress...|[[document, 0, 52...|[[document, 0, 52...|[[token, 0, 7, cl...|[[token, 0, 7, cl...|[[word_embeddings...|[[named_entity, 0...|[[named_entity, 0...|                  []|                  []|                  []|                  []|                  []|                  []|\n",
            "|     9|the patient had a...|[[document, 0, 48...|[[document, 0, 48...|[[token, 0, 2, th...|[[token, 4, 10, p...|[[word_embeddings...|[[named_entity, 4...|[[named_entity, 4...|[[chunk, 439, 487...|                  []|[[word_embeddings...|                  []|[[entity, 439, 48...|                  []|\n",
            "|    10|the patient is a ...|[[document, 0, 48...|[[document, 0, 48...|[[token, 0, 2, th...|[[token, 4, 10, p...|[[word_embeddings...|[[named_entity, 4...|[[named_entity, 4...|[[chunk, 223, 264...|[[chunk, 397, 406...|[[word_embeddings...|[[word_embeddings...|[[entity, 223, 26...|[[entity, 397, 40...|\n",
            "|    11|tylenol 650 mg p....|[[document, 0, 47...|[[document, 0, 19...|[[token, 0, 6, ty...|[[token, 0, 6, ty...|[[word_embeddings...|[[named_entity, 0...|[[named_entity, 0...|                  []|[[chunk, 0, 6, ty...|                  []|[[word_embeddings...|                  []|[[entity, 0, 6, 3...|\n",
            "|    12|aspirin 325 q.d ....|[[document, 0, 46...|[[document, 0, 16...|[[token, 0, 6, as...|[[token, 0, 6, as...|[[word_embeddings...|[[named_entity, 0...|[[named_entity, 0...|                  []|[[chunk, 0, 6, as...|                  []|[[word_embeddings...|                  []|[[entity, 0, 6, 1...|\n",
            "|    13|an echocardiogram...|[[document, 0, 45...|[[document, 0, 45...|[[token, 0, 1, an...|[[token, 3, 16, e...|[[word_embeddings...|[[named_entity, 3...|[[named_entity, 3...|[[chunk, 432, 453...|                  []|[[word_embeddings...|                  []|[[entity, 432, 45...|                  []|\n",
            "|    14|1 ) cv ( r ) fini...|[[document, 0, 44...|[[document, 0, 72...|[[token, 0, 0, 1,...|[[token, 0, 0, 1,...|[[word_embeddings...|[[named_entity, 0...|[[named_entity, 0...|[[chunk, 230, 237...|[[chunk, 270, 278...|[[word_embeddings...|[[word_embeddings...|[[entity, 230, 23...|[[entity, 270, 27...|\n",
            "|    15|sodium 141 , pota...|[[document, 0, 44...|[[document, 0, 41...|[[token, 0, 5, so...|[[token, 0, 5, so...|[[word_embeddings...|[[named_entity, 0...|[[named_entity, 0...|                  []|[[chunk, 0, 5, so...|                  []|[[word_embeddings...|                  []|[[entity, 0, 5, 3...|\n",
            "+------+--------------------+--------------------+--------------------+--------------------+--------------------+--------------------+--------------------+--------------------+--------------------+--------------------+--------------------+--------------------+--------------------+--------------------+\n",
            "\n",
            "CPU times: user 12.6 ms, sys: 214 µs, total: 12.9 ms\n",
            "Wall time: 1.78 s\n"
          ],
          "name": "stdout"
        }
      ]
    },
    {
      "cell_type": "code",
      "metadata": {
        "id": "K_xJYRl3Dvc4"
      },
      "source": [
        "# lets see what would have happened if we hadn't persisted the pipeline at disk. \n",
        "output = pipelineModelFull.transform(data)"
      ],
      "execution_count": null,
      "outputs": []
    },
    {
      "cell_type": "code",
      "metadata": {
        "id": "gAtS93JRU9t5",
        "colab": {
          "base_uri": "https://localhost:8080/"
        },
        "outputId": "8baca62d-ec91-401c-dcfe-c8b0b618978c"
      },
      "source": [
        "%%time\n",
        "output.show()\n",
        "## 2.4 vs 40 seconds for the first 20 rows (x20 faster)"
      ],
      "execution_count": null,
      "outputs": [
        {
          "output_type": "stream",
          "text": [
            "+------+--------------------+--------------------+--------------------+--------------------+--------------------+--------------------+--------------------+--------------------+--------------------+--------------------+--------------------+--------------------+--------------------+--------------------+\n",
            "|doc_id|                text|            document|            sentence|           raw_token|               token|          embeddings|             ner_jsl|            ner_drug|           chunk_jsl|          chunk_drug|      chunk_embs_jsl|     chunk_embs_drug|  icd10cm_resolution|   rxnorm_resolution|\n",
            "+------+--------------------+--------------------+--------------------+--------------------+--------------------+--------------------+--------------------+--------------------+--------------------+--------------------+--------------------+--------------------+--------------------+--------------------+\n",
            "|     0|pentamidine 300 m...|[[document, 0, 10...|[[document, 0, 24...|[[token, 0, 10, p...|[[token, 0, 10, p...|[[word_embeddings...|[[named_entity, 0...|[[named_entity, 0...|                  []|[[chunk, 0, 10, p...|                  []|[[word_embeddings...|                  []|[[entity, 0, 10, ...|\n",
            "|     1|albuterol nebuliz...|[[document, 0, 66...|[[document, 0, 33...|[[token, 0, 8, al...|[[token, 0, 8, al...|[[word_embeddings...|[[named_entity, 0...|[[named_entity, 0...|[[chunk, 400, 411...|[[chunk, 0, 8, al...|[[word_embeddings...|[[word_embeddings...|[[entity, 400, 41...|[[entity, 0, 8, 1...|\n",
            "|     2|tylenol 650 mg p....|[[document, 0, 64...|[[document, 0, 19...|[[token, 0, 6, ty...|[[token, 0, 6, ty...|[[word_embeddings...|[[named_entity, 0...|[[named_entity, 0...|[[chunk, 499, 506...|[[chunk, 0, 6, ty...|[[word_embeddings...|[[word_embeddings...|[[entity, 499, 50...|[[entity, 0, 6, 3...|\n",
            "|     3|the patient's inc...|[[document, 0, 59...|[[document, 0, 59...|[[token, 0, 2, th...|[[token, 4, 12, p...|[[word_embeddings...|[[named_entity, 4...|[[named_entity, 4...|                  []|[[chunk, 278, 287...|                  []|[[word_embeddings...|                  []|[[entity, 278, 28...|\n",
            "|     4|this is an 82 - y...|[[document, 0, 59...|[[document, 0, 25...|[[token, 0, 3, th...|[[token, 11, 12, ...|[[word_embeddings...|[[named_entity, 1...|[[named_entity, 1...|[[chunk, 68, 79, ...|[[chunk, 400, 407...|[[word_embeddings...|[[word_embeddings...|[[entity, 68, 79,...|[[entity, 400, 40...|\n",
            "|     5|o2 95% on 3l nc m...|[[document, 0, 57...|[[document, 0, 57...|[[token, 0, 1, o2...|[[token, 0, 1, o2...|[[word_embeddings...|[[named_entity, 0...|[[named_entity, 0...|                  []|                  []|                  []|                  []|                  []|                  []|\n",
            "|     6|is notable for an...|[[document, 0, 54...|[[document, 0, 10...|[[token, 0, 1, is...|[[token, 3, 9, no...|[[word_embeddings...|[[named_entity, 3...|[[named_entity, 3...|[[chunk, 67, 103,...|                  []|[[word_embeddings...|                  []|[[entity, 67, 103...|                  []|\n",
            "|     7|this is a 47 - ye...|[[document, 0, 53...|[[document, 0, 53...|[[token, 0, 3, th...|[[token, 10, 11, ...|[[word_embeddings...|[[named_entity, 1...|[[named_entity, 1...|                  []|[[chunk, 83, 93, ...|                  []|[[word_embeddings...|                  []|[[entity, 83, 93,...|\n",
            "|     8|clinical progress...|[[document, 0, 52...|[[document, 0, 52...|[[token, 0, 7, cl...|[[token, 0, 7, cl...|[[word_embeddings...|[[named_entity, 0...|[[named_entity, 0...|                  []|                  []|                  []|                  []|                  []|                  []|\n",
            "|     9|the patient had a...|[[document, 0, 48...|[[document, 0, 48...|[[token, 0, 2, th...|[[token, 4, 10, p...|[[word_embeddings...|[[named_entity, 4...|[[named_entity, 4...|[[chunk, 439, 487...|                  []|[[word_embeddings...|                  []|[[entity, 439, 48...|                  []|\n",
            "|    10|the patient is a ...|[[document, 0, 48...|[[document, 0, 48...|[[token, 0, 2, th...|[[token, 4, 10, p...|[[word_embeddings...|[[named_entity, 4...|[[named_entity, 4...|[[chunk, 223, 264...|[[chunk, 397, 406...|[[word_embeddings...|[[word_embeddings...|[[entity, 223, 26...|[[entity, 397, 40...|\n",
            "|    11|tylenol 650 mg p....|[[document, 0, 47...|[[document, 0, 19...|[[token, 0, 6, ty...|[[token, 0, 6, ty...|[[word_embeddings...|[[named_entity, 0...|[[named_entity, 0...|                  []|[[chunk, 0, 6, ty...|                  []|[[word_embeddings...|                  []|[[entity, 0, 6, 3...|\n",
            "|    12|aspirin 325 q.d ....|[[document, 0, 46...|[[document, 0, 16...|[[token, 0, 6, as...|[[token, 0, 6, as...|[[word_embeddings...|[[named_entity, 0...|[[named_entity, 0...|                  []|[[chunk, 0, 6, as...|                  []|[[word_embeddings...|                  []|[[entity, 0, 6, 1...|\n",
            "|    13|an echocardiogram...|[[document, 0, 45...|[[document, 0, 45...|[[token, 0, 1, an...|[[token, 3, 16, e...|[[word_embeddings...|[[named_entity, 3...|[[named_entity, 3...|[[chunk, 432, 453...|                  []|[[word_embeddings...|                  []|[[entity, 432, 45...|                  []|\n",
            "|    14|1 ) cv ( r ) fini...|[[document, 0, 44...|[[document, 0, 72...|[[token, 0, 0, 1,...|[[token, 0, 0, 1,...|[[word_embeddings...|[[named_entity, 0...|[[named_entity, 0...|[[chunk, 230, 237...|[[chunk, 270, 278...|[[word_embeddings...|[[word_embeddings...|[[entity, 230, 23...|[[entity, 270, 27...|\n",
            "|    15|sodium 141 , pota...|[[document, 0, 44...|[[document, 0, 41...|[[token, 0, 5, so...|[[token, 0, 5, so...|[[word_embeddings...|[[named_entity, 0...|[[named_entity, 0...|                  []|[[chunk, 0, 5, so...|                  []|[[word_embeddings...|                  []|[[entity, 0, 5, 3...|\n",
            "+------+--------------------+--------------------+--------------------+--------------------+--------------------+--------------------+--------------------+--------------------+--------------------+--------------------+--------------------+--------------------+--------------------+--------------------+\n",
            "\n",
            "CPU times: user 200 ms, sys: 22.9 ms, total: 223 ms\n",
            "Wall time: 40 s\n"
          ],
          "name": "stdout"
        }
      ]
    },
    {
      "cell_type": "code",
      "metadata": {
        "id": "1mebmO-eVjHT"
      },
      "source": [
        "def quick_metadata_analysis(df, doc_field, chunk_field, code_fields):\n",
        "    code_res_meta = \", \".join([f\"{cf}.metadata\" for cf in code_fields])\n",
        "    expression = f\"explode(arrays_zip({chunk_field}.begin, {chunk_field}.end, {chunk_field}.result, {chunk_field}.metadata, \"+code_res_meta+\")) as a\"\n",
        "    top_n_rest = [(f\"float(a['{i+4}'].confidence) as {(cf.split('_')[0])}_conf\",\n",
        "                    f\"arrays_zip(split(a['{i+4}'].all_k_results,':::'),split(a['{i+4}'].all_k_resolutions,':::')) as {cf.split('_')[0]+'_opts'}\")\n",
        "                    for i, cf in enumerate(code_fields)]\n",
        "    top_n_rest_args = []\n",
        "    for tr in top_n_rest:\n",
        "        for t in tr:\n",
        "            top_n_rest_args.append(t)\n",
        "    return df.selectExpr(doc_field, expression) \\\n",
        "        .orderBy('doc_id', F.expr(\"a['0']\"), F.expr(\"a['1']\"))\\\n",
        "        .selectExpr(f\"concat_ws('::',{doc_field},a['0'],a['1']) as coords\", \"a['2'] as chunk\",\"a['3'].entity as entity\", *top_n_rest_args)"
      ],
      "execution_count": null,
      "outputs": []
    },
    {
      "cell_type": "code",
      "metadata": {
        "id": "kR95WIFuVlDz"
      },
      "source": [
        "icd10cm_analysis = quick_metadata_analysis(output, 'doc_id', 'chunk_jsl',['icd10cm_resolution']).toPandas()"
      ],
      "execution_count": null,
      "outputs": []
    },
    {
      "cell_type": "code",
      "metadata": {
        "id": "GtgPTgcAVmoT"
      },
      "source": [
        "rxnorm_analysis = \\\n",
        "quick_metadata_analysis(output, 'doc_id', 'chunk_drug',['rxnorm_resolution']).toPandas()"
      ],
      "execution_count": null,
      "outputs": []
    },
    {
      "cell_type": "code",
      "metadata": {
        "id": "yxKKXh5FW92K"
      },
      "source": [
        "pd.set_option('display.max_colwidth', 250)\n",
        "pd.set_option('display.max_rows', 500)"
      ],
      "execution_count": null,
      "outputs": []
    },
    {
      "cell_type": "code",
      "metadata": {
        "id": "Wd3_1oqkWyFb",
        "colab": {
          "base_uri": "https://localhost:8080/",
          "height": 754
        },
        "outputId": "52a75874-de6d-4da9-cfed-9e1a35e3aff2"
      },
      "source": [
        "icd10cm_analysis[icd10cm_analysis.icd10cm_conf>0.4]"
      ],
      "execution_count": null,
      "outputs": [
        {
          "output_type": "execute_result",
          "data": {
            "text/html": [
              "<div>\n",
              "<style scoped>\n",
              "    .dataframe tbody tr th:only-of-type {\n",
              "        vertical-align: middle;\n",
              "    }\n",
              "\n",
              "    .dataframe tbody tr th {\n",
              "        vertical-align: top;\n",
              "    }\n",
              "\n",
              "    .dataframe thead th {\n",
              "        text-align: right;\n",
              "    }\n",
              "</style>\n",
              "<table border=\"1\" class=\"dataframe\">\n",
              "  <thead>\n",
              "    <tr style=\"text-align: right;\">\n",
              "      <th></th>\n",
              "      <th>coords</th>\n",
              "      <th>chunk</th>\n",
              "      <th>entity</th>\n",
              "      <th>icd10cm_conf</th>\n",
              "      <th>icd10cm_opts</th>\n",
              "    </tr>\n",
              "  </thead>\n",
              "  <tbody>\n",
              "    <tr>\n",
              "      <th>1</th>\n",
              "      <td>2::499::506</td>\n",
              "      <td>insomnia</td>\n",
              "      <td>Diagnosis</td>\n",
              "      <td>0.9050</td>\n",
              "      <td>[(G4700, Insomnia, unspecified), (G4709, Other insomnia), (F5102, Adjustment insomnia), (F5101, Primary insomnia), (F5109, Other insomnia not due to a substance or known physiological condition)]</td>\n",
              "    </tr>\n",
              "    <tr>\n",
              "      <th>4</th>\n",
              "      <td>4::120::128</td>\n",
              "      <td>gastritis</td>\n",
              "      <td>Diagnosis</td>\n",
              "      <td>0.4680</td>\n",
              "      <td>[(K2970, Gastritis, unspecified, without bleeding), (B9681, Helicobacter pylori [H. pylori] as the cause of diseases classified elsewhere), (K2900, Acute gastritis without bleeding), (A084, Viral intestinal infection, unspecified), (K2960, Other ...</td>\n",
              "    </tr>\n",
              "    <tr>\n",
              "      <th>5</th>\n",
              "      <td>6::67::103</td>\n",
              "      <td>obstructive lung disease with an fev1</td>\n",
              "      <td>Diagnosis</td>\n",
              "      <td>0.4564</td>\n",
              "      <td>[(J670, Farmer's lung), (J984, Other disorders of lung), (J449, Chronic obstructive pulmonary disease, unspecified), (J849, Interstitial pulmonary disease, unspecified), (J440, Chronic obstructive pulmonary disease with acute lower respiratory in...</td>\n",
              "    </tr>\n",
              "    <tr>\n",
              "      <th>7</th>\n",
              "      <td>6::274::293</td>\n",
              "      <td>systolic dysfunction</td>\n",
              "      <td>Diagnosis</td>\n",
              "      <td>0.8329</td>\n",
              "      <td>[(I519, Heart disease, unspecified), (I5040, Unspecified combined systolic (congestive) and diastolic (congestive) heart failure), (I5020, Unspecified systolic (congestive) heart failure), (N522, Drug-induced erectile dysfunction), (F5221, Male e...</td>\n",
              "    </tr>\n",
              "    <tr>\n",
              "      <th>9</th>\n",
              "      <td>10::223::264</td>\n",
              "      <td>acanthamoeba infection of skin and sinuses</td>\n",
              "      <td>Diagnosis</td>\n",
              "      <td>0.4519</td>\n",
              "      <td>[(L089, Local infection of the skin and subcutaneous tissue, unspecified), (B6010, Acanthamebiasis, unspecified), (A311, Cutaneous mycobacterial infection), (B383, Cutaneous coccidioidomycosis), (L080, Pyoderma)]</td>\n",
              "    </tr>\n",
              "    <tr>\n",
              "      <th>11</th>\n",
              "      <td>10::410::445</td>\n",
              "      <td>hepatomegaly and fluid surge spacing</td>\n",
              "      <td>Diagnosis</td>\n",
              "      <td>0.4627</td>\n",
              "      <td>[(E8779, Other fluid overload), (E860, Dehydration), (E8770, Fluid overload, unspecified), (I313, Pericardial effusion (noninflammatory)), (J811, Chronic pulmonary edema)]</td>\n",
              "    </tr>\n",
              "    <tr>\n",
              "      <th>12</th>\n",
              "      <td>10::456::478</td>\n",
              "      <td>setting of hyponatremia</td>\n",
              "      <td>Diagnosis</td>\n",
              "      <td>0.9990</td>\n",
              "      <td>[(E871, Hypo-osmolality and hyponatremia), (I953, Hypotension of hemodialysis), (I952, Hypotension due to drugs), (E870, Hyperosmolality and hypernatremia), (J9602, Acute respiratory failure with hypercapnia)]</td>\n",
              "    </tr>\n",
              "    <tr>\n",
              "      <th>15</th>\n",
              "      <td>14::323::330</td>\n",
              "      <td>ischemia</td>\n",
              "      <td>Diagnosis</td>\n",
              "      <td>0.8969</td>\n",
              "      <td>[(G450, Vertebro-basilar artery syndrome), (N280, Ischemia and infarction of kidney), (H3582, Retinal ischemia), (I6782, Cerebral ischemia), (I248, Other forms of acute ischemic heart disease)]</td>\n",
              "    </tr>\n",
              "  </tbody>\n",
              "</table>\n",
              "</div>"
            ],
            "text/plain": [
              "          coords  ...                                                                                                                                                                                                                                               icd10cm_opts\n",
              "1    2::499::506  ...                                                        [(G4700, Insomnia, unspecified), (G4709, Other insomnia), (F5102, Adjustment insomnia), (F5101, Primary insomnia), (F5109, Other insomnia not due to a substance or known physiological condition)]\n",
              "4    4::120::128  ...  [(K2970, Gastritis, unspecified, without bleeding), (B9681, Helicobacter pylori [H. pylori] as the cause of diseases classified elsewhere), (K2900, Acute gastritis without bleeding), (A084, Viral intestinal infection, unspecified), (K2960, Other ...\n",
              "5     6::67::103  ...  [(J670, Farmer's lung), (J984, Other disorders of lung), (J449, Chronic obstructive pulmonary disease, unspecified), (J849, Interstitial pulmonary disease, unspecified), (J440, Chronic obstructive pulmonary disease with acute lower respiratory in...\n",
              "7    6::274::293  ...  [(I519, Heart disease, unspecified), (I5040, Unspecified combined systolic (congestive) and diastolic (congestive) heart failure), (I5020, Unspecified systolic (congestive) heart failure), (N522, Drug-induced erectile dysfunction), (F5221, Male e...\n",
              "9   10::223::264  ...                                       [(L089, Local infection of the skin and subcutaneous tissue, unspecified), (B6010, Acanthamebiasis, unspecified), (A311, Cutaneous mycobacterial infection), (B383, Cutaneous coccidioidomycosis), (L080, Pyoderma)]\n",
              "11  10::410::445  ...                                                                                [(E8779, Other fluid overload), (E860, Dehydration), (E8770, Fluid overload, unspecified), (I313, Pericardial effusion (noninflammatory)), (J811, Chronic pulmonary edema)]\n",
              "12  10::456::478  ...                                          [(E871, Hypo-osmolality and hyponatremia), (I953, Hypotension of hemodialysis), (I952, Hypotension due to drugs), (E870, Hyperosmolality and hypernatremia), (J9602, Acute respiratory failure with hypercapnia)]\n",
              "15  14::323::330  ...                                                          [(G450, Vertebro-basilar artery syndrome), (N280, Ischemia and infarction of kidney), (H3582, Retinal ischemia), (I6782, Cerebral ischemia), (I248, Other forms of acute ischemic heart disease)]\n",
              "\n",
              "[8 rows x 5 columns]"
            ]
          },
          "metadata": {
            "tags": []
          },
          "execution_count": 63
        }
      ]
    },
    {
      "cell_type": "code",
      "metadata": {
        "id": "cF4I90A3W_GU",
        "colab": {
          "base_uri": "https://localhost:8080/",
          "height": 1000
        },
        "outputId": "81a2487c-a25b-4fc2-d6d9-288517de494d"
      },
      "source": [
        "rxnorm_analysis[rxnorm_analysis.rxnorm_conf>0.4].head(20)"
      ],
      "execution_count": null,
      "outputs": [
        {
          "output_type": "execute_result",
          "data": {
            "text/html": [
              "<div>\n",
              "<style scoped>\n",
              "    .dataframe tbody tr th:only-of-type {\n",
              "        vertical-align: middle;\n",
              "    }\n",
              "\n",
              "    .dataframe tbody tr th {\n",
              "        vertical-align: top;\n",
              "    }\n",
              "\n",
              "    .dataframe thead th {\n",
              "        text-align: right;\n",
              "    }\n",
              "</style>\n",
              "<table border=\"1\" class=\"dataframe\">\n",
              "  <thead>\n",
              "    <tr style=\"text-align: right;\">\n",
              "      <th></th>\n",
              "      <th>coords</th>\n",
              "      <th>chunk</th>\n",
              "      <th>entity</th>\n",
              "      <th>rxnorm_conf</th>\n",
              "      <th>rxnorm_opts</th>\n",
              "    </tr>\n",
              "  </thead>\n",
              "  <tbody>\n",
              "    <tr>\n",
              "      <th>0</th>\n",
              "      <td>0::0::10</td>\n",
              "      <td>pentamidine</td>\n",
              "      <td>DrugChem</td>\n",
              "      <td>0.5925</td>\n",
              "      <td>[(861601, Pentamidine Isethionate 300 MG Injection), (861597, Pentamidine Isethionate 50 MG/ML Inhalation Solution), (755627, Chloroquine 5 MG/ML Oral Solution), (855624, Dibromopropamidine isethionate 1 MG/ML Ophthalmic Solution), (1119497, chlo...</td>\n",
              "    </tr>\n",
              "    <tr>\n",
              "      <th>1</th>\n",
              "      <td>0::37::47</td>\n",
              "      <td>pentamidine</td>\n",
              "      <td>DrugChem</td>\n",
              "      <td>0.5925</td>\n",
              "      <td>[(861601, Pentamidine Isethionate 300 MG Injection), (861597, Pentamidine Isethionate 50 MG/ML Inhalation Solution), (755627, Chloroquine 5 MG/ML Oral Solution), (855624, Dibromopropamidine isethionate 1 MG/ML Ophthalmic Solution), (1119497, chlo...</td>\n",
              "    </tr>\n",
              "    <tr>\n",
              "      <th>55</th>\n",
              "      <td>3::278::287</td>\n",
              "      <td>creatinine</td>\n",
              "      <td>DrugChem</td>\n",
              "      <td>0.9996</td>\n",
              "      <td>[(849628, Creatinine 800 MG Oral Capsule), (252180, Urea 10 MG/ML Topical Lotion), (424168, Urea 30 MG/ML Topical Lotion), (251705, Urea 20 MG/ML Topical Lotion), (245052, Urea 200 MG/ML Oral Solution)]</td>\n",
              "    </tr>\n",
              "    <tr>\n",
              "      <th>58</th>\n",
              "      <td>7::83::93</td>\n",
              "      <td>cholesterol</td>\n",
              "      <td>DrugChem</td>\n",
              "      <td>0.5609</td>\n",
              "      <td>[(2104173, beta Sitosterol 35 MG Oral Tablet), (832876, phytosterol esters 500 MG Oral Capsule), (637208, phytosterol esters 650 MG Oral Capsule), (411217, Lecithin 228 MG Oral Capsule), (1737442, amphotericin B lipid complex 5 MG/ML Injection)]</td>\n",
              "    </tr>\n",
              "    <tr>\n",
              "      <th>59</th>\n",
              "      <td>10::397::406</td>\n",
              "      <td>creatinine</td>\n",
              "      <td>DrugChem</td>\n",
              "      <td>0.9996</td>\n",
              "      <td>[(849628, Creatinine 800 MG Oral Capsule), (252180, Urea 10 MG/ML Topical Lotion), (424168, Urea 30 MG/ML Topical Lotion), (251705, Urea 20 MG/ML Topical Lotion), (245052, Urea 200 MG/ML Oral Solution)]</td>\n",
              "    </tr>\n",
              "    <tr>\n",
              "      <th>83</th>\n",
              "      <td>12::328::335</td>\n",
              "      <td>mestinon</td>\n",
              "      <td>DrugChem</td>\n",
              "      <td>0.4385</td>\n",
              "      <td>[(2099309, moxetumomab pasudotox-tdfk 1 MG Injection), (886677, Clidinium bromide 2.5 MG Oral Capsule), (415693, Heparinoids 0.1 UNT/MG Topical Gel), (204558, Peptide Hydrolases 82 UNT/MG Topical Ointment), (1659998, ANTI-INHIBITOR COAGULANT COMP...</td>\n",
              "    </tr>\n",
              "    <tr>\n",
              "      <th>84</th>\n",
              "      <td>12::372::379</td>\n",
              "      <td>mestinon</td>\n",
              "      <td>DrugChem</td>\n",
              "      <td>0.4385</td>\n",
              "      <td>[(2099309, moxetumomab pasudotox-tdfk 1 MG Injection), (886677, Clidinium bromide 2.5 MG Oral Capsule), (415693, Heparinoids 0.1 UNT/MG Topical Gel), (204558, Peptide Hydrolases 82 UNT/MG Topical Ointment), (1659998, ANTI-INHIBITOR COAGULANT COMP...</td>\n",
              "    </tr>\n",
              "    <tr>\n",
              "      <th>92</th>\n",
              "      <td>15::73::82</td>\n",
              "      <td>creatinine</td>\n",
              "      <td>DrugChem</td>\n",
              "      <td>0.9996</td>\n",
              "      <td>[(849628, Creatinine 800 MG Oral Capsule), (252180, Urea 10 MG/ML Topical Lotion), (424168, Urea 30 MG/ML Topical Lotion), (251705, Urea 20 MG/ML Topical Lotion), (245052, Urea 200 MG/ML Oral Solution)]</td>\n",
              "    </tr>\n",
              "  </tbody>\n",
              "</table>\n",
              "</div>"
            ],
            "text/plain": [
              "          coords  ...                                                                                                                                                                                                                                                rxnorm_opts\n",
              "0       0::0::10  ...  [(861601, Pentamidine Isethionate 300 MG Injection), (861597, Pentamidine Isethionate 50 MG/ML Inhalation Solution), (755627, Chloroquine 5 MG/ML Oral Solution), (855624, Dibromopropamidine isethionate 1 MG/ML Ophthalmic Solution), (1119497, chlo...\n",
              "1      0::37::47  ...  [(861601, Pentamidine Isethionate 300 MG Injection), (861597, Pentamidine Isethionate 50 MG/ML Inhalation Solution), (755627, Chloroquine 5 MG/ML Oral Solution), (855624, Dibromopropamidine isethionate 1 MG/ML Ophthalmic Solution), (1119497, chlo...\n",
              "55   3::278::287  ...                                                 [(849628, Creatinine 800 MG Oral Capsule), (252180, Urea 10 MG/ML Topical Lotion), (424168, Urea 30 MG/ML Topical Lotion), (251705, Urea 20 MG/ML Topical Lotion), (245052, Urea 200 MG/ML Oral Solution)]\n",
              "58     7::83::93  ...      [(2104173, beta Sitosterol 35 MG Oral Tablet), (832876, phytosterol esters 500 MG Oral Capsule), (637208, phytosterol esters 650 MG Oral Capsule), (411217, Lecithin 228 MG Oral Capsule), (1737442, amphotericin B lipid complex 5 MG/ML Injection)]\n",
              "59  10::397::406  ...                                                 [(849628, Creatinine 800 MG Oral Capsule), (252180, Urea 10 MG/ML Topical Lotion), (424168, Urea 30 MG/ML Topical Lotion), (251705, Urea 20 MG/ML Topical Lotion), (245052, Urea 200 MG/ML Oral Solution)]\n",
              "83  12::328::335  ...  [(2099309, moxetumomab pasudotox-tdfk 1 MG Injection), (886677, Clidinium bromide 2.5 MG Oral Capsule), (415693, Heparinoids 0.1 UNT/MG Topical Gel), (204558, Peptide Hydrolases 82 UNT/MG Topical Ointment), (1659998, ANTI-INHIBITOR COAGULANT COMP...\n",
              "84  12::372::379  ...  [(2099309, moxetumomab pasudotox-tdfk 1 MG Injection), (886677, Clidinium bromide 2.5 MG Oral Capsule), (415693, Heparinoids 0.1 UNT/MG Topical Gel), (204558, Peptide Hydrolases 82 UNT/MG Topical Ointment), (1659998, ANTI-INHIBITOR COAGULANT COMP...\n",
              "92    15::73::82  ...                                                 [(849628, Creatinine 800 MG Oral Capsule), (252180, Urea 10 MG/ML Topical Lotion), (424168, Urea 30 MG/ML Topical Lotion), (251705, Urea 20 MG/ML Topical Lotion), (245052, Urea 200 MG/ML Oral Solution)]\n",
              "\n",
              "[8 rows x 5 columns]"
            ]
          },
          "metadata": {
            "tags": []
          },
          "execution_count": 64
        }
      ]
    },
    {
      "cell_type": "markdown",
      "metadata": {
        "id": "sx-lDFW1eVVw"
      },
      "source": [
        "\n",
        "# Snomed Resolver"
      ]
    },
    {
      "cell_type": "code",
      "metadata": {
        "id": "bVBGOeU7xKUu",
        "colab": {
          "base_uri": "https://localhost:8080/"
        },
        "outputId": "be633623-7222-41c4-9bc8-f010c7ac75c8"
      },
      "source": [
        "snomed_ner_converter = NerConverterInternal() \\\n",
        "    .setInputCols([\"sentence\", \"token\", \"ner\"]) \\\n",
        "    .setOutputCol(\"greedy_chunk\")\\\n",
        "    .setWhiteList(['PROBLEM','TEST'])\n",
        "\n",
        "chunk_embeddings = ChunkEmbeddings()\\\n",
        "    .setInputCols('greedy_chunk', 'embeddings')\\\n",
        "    .setOutputCol('chunk_embeddings')\n",
        "\n",
        "snomed_resolver = ChunkEntityResolverModel\\\n",
        "    .pretrained(\"chunkresolve_snomed_findings_clinical\",\"en\",\"clinical/models\")\\\n",
        "    .setInputCols(\"token\",\"chunk_embeddings\")\\\n",
        "    .setOutputCol(\"snomed_resolution\")\n",
        "\n",
        "\n",
        "pipeline_snomed = Pipeline(\n",
        "    stages = [\n",
        "      documentAssembler,\n",
        "      sentenceDetector,\n",
        "      tokenizer,\n",
        "      stopwords,\n",
        "      word_embeddings,\n",
        "      clinical_ner,\n",
        "      snomed_ner_converter,\n",
        "      chunk_embeddings,\n",
        "      snomed_resolver\n",
        "  ])\n",
        "\n",
        "model_snomed = pipeline_snomed.fit(data)\n"
      ],
      "execution_count": null,
      "outputs": [
        {
          "output_type": "stream",
          "text": [
            "chunkresolve_snomed_findings_clinical download started this may take some time.\n",
            "Approximate size to download 162.6 MB\n",
            "[OK!]\n"
          ],
          "name": "stdout"
        }
      ]
    },
    {
      "cell_type": "code",
      "metadata": {
        "id": "q1y69kCpzwRz"
      },
      "source": [
        "snomed_output = model_snomed.transform(data)\n",
        "\n",
        "snomed_output.write.mode(\"overwrite\").save(\"snomed_temp\")\n",
        "\n",
        "snomed_output = spark.read.load(\"snomed_temp\")"
      ],
      "execution_count": null,
      "outputs": []
    },
    {
      "cell_type": "code",
      "metadata": {
        "id": "gFUIxOQruofR",
        "colab": {
          "base_uri": "https://localhost:8080/"
        },
        "outputId": "872854f1-6324-41a6-86b1-b5db770b84de"
      },
      "source": [
        "snomed_output.select(F.explode(F.arrays_zip(\"greedy_chunk.result\",\"greedy_chunk.metadata\",\"snomed_resolution.result\",\"snomed_resolution.metadata\")).alias(\"snomed_result\")) \\\n",
        "    .select(F.expr(\"snomed_result['0']\").alias(\"chunk\"),\n",
        "            F.expr(\"snomed_result['1'].entity\").alias(\"entity\"),\n",
        "            F.expr(\"snomed_result['3'].all_k_resolutions\").alias(\"target_text\"),\n",
        "            F.expr(\"snomed_result['2']\").alias(\"code\"),\n",
        "            F.expr(\"snomed_result['3'].confidence\").alias(\"confidence\")).show(truncate = 100)"
      ],
      "execution_count": null,
      "outputs": [
        {
          "output_type": "stream",
          "text": [
            "+-----------------------------------------------------------------------------+-------+----------------------------------------------------------------------------------------------------+-----------------+----------+\n",
            "|                                                                        chunk| entity|                                                                                         target_text|             code|confidence|\n",
            "+-----------------------------------------------------------------------------+-------+----------------------------------------------------------------------------------------------------+-----------------+----------+\n",
            "|                                                    erythematous skin lesions|PROBLEM|Skin lesion:::Achromic skin lesions of pinta:::Scaly skin:::Skin constricture:::Cratered skin les...|         95324001|    0.0937|\n",
            "|                                                                     pruritus|PROBLEM|Pruritus:::Genital pruritus:::Postmenopausal pruritus:::Pruritus hiemalis:::Pruritus ani:::Anogen...|        418363000|    0.1394|\n",
            "|                                                                     pruritus|PROBLEM|Pruritus:::Genital pruritus:::Postmenopausal pruritus:::Pruritus hiemalis:::Pruritus ani:::Anogen...|        418363000|    0.1394|\n",
            "|                                                                 hypertension|PROBLEM|Hypertension:::Renovascular hypertension:::Idiopathic hypertension:::Venous hypertension:::Resist...|         38341003|    0.1019|\n",
            "|                                                             headache or pain|PROBLEM|Pain:::Headache:::Postchordotomy pain:::Throbbing pain:::Aching headache:::Postspinal headache:::...|         22253000|    0.0953|\n",
            "|                                                    lesion on corner of mouth|PROBLEM|Vesiculoerosive lesion:::Lesion of tongue:::Erythroleukoplakia of mouth:::Lesion of nose:::Lesion...|        708484008|    0.0578|\n",
            "|                                                          nausea and vomiting|PROBLEM|Nausea and vomiting:::Vomiting without nausea:::Nausea:::Intractable nausea and vomiting:::Vomiti...|         16932000|    0.0995|\n",
            "|                                                          perianal irritation|PROBLEM|Perineal irritation:::Vulval irritation:::Skin irritation:::Perianal pain:::Perianal itch:::Vagin...|        281639001|    0.0764|\n",
            "|                                                                     insomnia|PROBLEM|Insomnia:::Mood insomnia:::Nonorganic insomnia:::Persistent insomnia:::Psychophysiologic insomnia...|        193462001|    0.1198|\n",
            "|                                    patient's incisions sternal and right leg|PROBLEM|Laceration of right lower leg:::Varicose veins of right leg:::Stab wound of right lower leg:::Clo...|10963831000119103|    0.0526|\n",
            "|                                                               blood pressure|   TEST|Elevated blood pressure:::Abnormal blood pressure:::High blood pressure:::Low blood pressure:::No...|         24184005|    0.0480|\n",
            "|                                                                   hematocrit|   TEST|Hematocrit:::Stable hematocrit:::Precipitous drop in hematocrit:::Hematocrit - borderline high:::...|        365616005|    0.5722|\n",
            "|                                                           bun and creatinine|   TEST|Micropunctum lacrimale:::Creatinine in sample:::Serum creatinine normal:::Serum creatinine low:::...|         95505003|    0.1501|\n",
            "|                                                       prothrombin time level|   TEST|Prothrombin time low:::Prothrombin time increased:::Prothrombin time finding:::Prothrombin time n...|        165569003|    0.1356|\n",
            "|                                                                  chest x-ray|   TEST|Flat chest:::Rigid chest:::Chest hyperinflated:::Chest percussion tympanitic:::Chest mass:::Chest...|          3274008|    0.0560|\n",
            "|small bilateral effusions with mild cardiomegaly and subsegmental atelectasis|PROBLEM|Bilateral pleural effusion (disorder):::Effusion of joint of bilateral ankles:::Effusion of joint...|        425802001|    0.0501|\n",
            "|                                              bibasilar and electrocardiogram|   TEST|Electrocardiogram abnormal:::Electrocardiogram normal:::Electrocardiogram finding:::Electrocardio...|        102594003|    0.0703|\n",
            "|                                                      left atrial enlargement|PROBLEM|Left atrial enlargement:::Right atrial enlargement:::Left atrial hypertrophy:::Left atrial dilata...|   67741000119109|    0.1804|\n",
            "|                                  acute ischemic changes on electrocardiogram|PROBLEM|Postoperative electrocardiogram changes:::Acute ischemic renal failure:::Potential for acute isch...|        251144001|    0.1238|\n",
            "|                                                                 hypertension|PROBLEM|Hypertension:::Renovascular hypertension:::Idiopathic hypertension:::Venous hypertension:::Resist...|         38341003|    0.1019|\n",
            "+-----------------------------------------------------------------------------+-------+----------------------------------------------------------------------------------------------------+-----------------+----------+\n",
            "only showing top 20 rows\n",
            "\n"
          ],
          "name": "stdout"
        }
      ]
    },
    {
      "cell_type": "code",
      "metadata": {
        "id": "lHNSEZqFRijX"
      },
      "source": [
        "clinical_note = (\n",
        "    'A 28-year-old female with a history of gestational diabetes mellitus diagnosed eight years '\n",
        "    'prior to presentation and subsequent type two diabetes mellitus (T2DM), one prior '\n",
        "    'episode of HTG-induced pancreatitis three years prior to presentation, associated '\n",
        "    'with an acute hepatitis, and obesity with a body mass index (BMI) of 33.5 kg/m2, '\n",
        "    'presented with a one-week history of polyuria, polydipsia, poor appetite, and vomiting. '\n",
        "    'Two weeks prior to presentation, she was treated with a five-day course of amoxicillin '\n",
        "    'for a respiratory tract infection. She was on metformin, glipizide, and dapagliflozin '\n",
        "    'for T2DM and atorvastatin and gemfibrozil for HTG. She had been on dapagliflozin for six months '\n",
        "    'at the time of presentation. Physical examination on presentation was significant for dry oral mucosa; '\n",
        "    'significantly, her abdominal examination was benign with no tenderness, guarding, or rigidity. Pertinent '\n",
        "    'laboratory findings on admission were: serum glucose 111 mg/dl, bicarbonate 18 mmol/l, anion gap 20, '\n",
        "    'creatinine 0.4 mg/dL, triglycerides 508 mg/dL, total cholesterol 122 mg/dL, glycated hemoglobin (HbA1c) '\n",
        "    '10%, and venous pH 7.27. Serum lipase was normal at 43 U/L. Serum acetone levels could not be assessed '\n",
        "    'as blood samples kept hemolyzing due to significant lipemia. The patient was initially admitted for '\n",
        "    'starvation ketosis, as she reported poor oral intake for three days prior to admission. However, '\n",
        "    'serum chemistry obtained six hours after presentation revealed her glucose was 186 mg/dL, the anion gap '\n",
        "    'was still elevated at 21, serum bicarbonate was 16 mmol/L, triglyceride level peaked at 2050 mg/dL, and '\n",
        "    'lipase was 52 U/L. The β-hydroxybutyrate level was obtained and found to be elevated at 5.29 mmol/L - '\n",
        "    'the original sample was centrifuged and the chylomicron layer removed prior to analysis due to '\n",
        "    'interference from turbidity caused by lipemia again. The patient was treated with an insulin drip '\n",
        "    'for euDKA and HTG with a reduction in the anion gap to 13 and triglycerides to 1400 mg/dL, within '\n",
        "    '24 hours. Her euDKA was thought to be precipitated by her respiratory tract infection in the setting '\n",
        "    'of SGLT2 inhibitor use. The patient was seen by the endocrinology service and she was discharged on '\n",
        "    '40 units of insulin glargine at night, 12 units of insulin lispro with meals, and metformin 1000 mg '\n",
        "    'two times a day. It was determined that all SGLT2 inhibitors should be discontinued indefinitely. She '\n",
        "    'had close follow-up with endocrinology post discharge.'\n",
        ")\n",
        "\n",
        "data_ner = spark.createDataFrame([[clinical_note]]).toDF(\"text\")\n",
        "\n",
        "snomed_output = pipeline_snomed.fit(data_ner).transform(data_ner)\n"
      ],
      "execution_count": null,
      "outputs": []
    },
    {
      "cell_type": "code",
      "metadata": {
        "id": "uYPLrpVY52Xd",
        "colab": {
          "base_uri": "https://localhost:8080/"
        },
        "outputId": "98ab2601-208b-4387-ea17-e8bd475600ad"
      },
      "source": [
        "snomed_output.select(F.explode(F.arrays_zip(\"greedy_chunk.result\",\"greedy_chunk.metadata\",\"snomed_resolution.result\",\"snomed_resolution.metadata\")).alias(\"snomed_result\")) \\\n",
        "    .select(F.expr(\"snomed_result['0']\").alias(\"chunk\"),\n",
        "            F.expr(\"snomed_result['1'].entity\").alias(\"entity\"),\n",
        "            F.expr(\"snomed_result['3'].all_k_resolutions\").alias(\"target_text\"),\n",
        "            F.expr(\"snomed_result['2']\").alias(\"code\"),\n",
        "            F.expr(\"snomed_result['3'].confidence\").alias(\"distance\")).show(truncate = 100)"
      ],
      "execution_count": null,
      "outputs": [
        {
          "output_type": "stream",
          "text": [
            "+----------------------------------------------------------------+-------+----------------------------------------------------------------------------------------------------+---------------+--------+\n",
            "|                                                           chunk| entity|                                                                                         target_text|           code|distance|\n",
            "+----------------------------------------------------------------+-------+----------------------------------------------------------------------------------------------------+---------------+--------+\n",
            "|                                   gestational diabetes mellitus|PROBLEM|Gestational diabetes mellitus uncontrolled:::Postpancreatectomy diabetes mellitus:::Lipoatrophic ...|      472699005|  0.1872|\n",
            "|                                      type two diabetes mellitus|PROBLEM|Type 2 diabetes mellitus uncontrolled:::Brittle type 2 diabetes mellitus:::Type 1 diabetes mellit...|      443694000|  0.0571|\n",
            "|                                                            T2DM|PROBLEM|Prediabetes:::Lipidemia:::Obesity:::Hyperinsulinar obesity:::Hypotestosteronemia:::Obese:::Diabet...|      714628002|  0.1418|\n",
            "|                   one prior episode of HTG-induced pancreatitis|PROBLEM|Apoplectic pancreatitis (disorder):::Pancytopenia with pancreatitis (disorder):::Acute glomerulon...|         303002|  0.1066|\n",
            "|                              associated with an acute hepatitis|PROBLEM|Acute hepatitis B:::Acute hepatitis E:::Acute hepatitis C:::Acute toxic hepatitis:::Acute viral h...|       76795007|  0.0732|\n",
            "|                                        obesity with a body mass|PROBLEM|Lower body obesity:::Body mass index 30+ - obesity:::Upper body obesity:::Mass of body region:::M...|461341000124106|  0.0851|\n",
            "|                                                        polyuria|PROBLEM|Polyuria:::Polyphagia:::Micturition frequency and polyuria:::Hyposthenuria:::Pollakiuria:::Isosth...|       28442001|  0.5651|\n",
            "|                                                      polydipsia|PROBLEM|Polyuria:::Polyphagia:::Adipsia:::Anorexia:::Aphagia:::Ageusia:::Abulia:::Hyposthenuria:::Pollaki...|       28442001|  0.0841|\n",
            "|                                                   poor appetite|PROBLEM|Poor appetite:::Increased appetite:::Altered appetite:::Voracious appetite:::Appetite normal:::Ap...|       64379006|  0.3088|\n",
            "|                                                        vomiting|PROBLEM|Vomiting:::Vomiting blood:::Projectile vomiting:::Vomiting food:::Bilious vomiting:::Intermittent...|      422400008|  0.1255|\n",
            "|five-day course of amoxicillin for a respiratory tract infection|PROBLEM|Lower respiratory tract infection:::Upper respiratory tract infection:::Postoperative lower respi...|       50417007|  0.0987|\n",
            "|                                                            T2DM|PROBLEM|Prediabetes:::Lipidemia:::Obesity:::Hyperinsulinar obesity:::Hypotestosteronemia:::Obese:::Diabet...|      714628002|  0.1418|\n",
            "|                                                             HTG|PROBLEM|Hyperapobetalipoproteinemia:::Hypertriglyceridemia:::Hyperalphalipoproteinemia:::Lipidemia:::Hype...|      238040008|  0.1373|\n",
            "|                                            Physical examination|   TEST|Physical altercation:::Physical finding:::General physical observation:::Physical impairment:::Ph...|      248005005|  0.0786|\n",
            "|                                 significant for dry oral mucosa|PROBLEM|Oral mucosa finding:::Oral mucosa normal:::Leucoplakia of oral mucosa:::Erosion of oral mucosa:::...|      249400000|  0.0672|\n",
            "|                                           abdominal examination|   TEST|On examination - abdominal scar:::On examination - abdominal breathing:::On examination - abdomin...|      163189007|  0.0542|\n",
            "|                                                      tenderness|PROBLEM|Tenderness:::Periumbilical tenderness:::Abdominal tenderness:::Genitourinary tenderness:::Muscle ...|      247348008|  0.1255|\n",
            "|                                                        guarding|PROBLEM|Abdominal guarding:::Guarding of epigastrium:::Guarding of hypogastrium:::Abdominal voluntary gua...|      249545003|  0.2271|\n",
            "|                                                        rigidity|PROBLEM|Nuchal rigidity:::Catatonic rigidity:::Decerebrate rigidity:::Diffuse rigidity:::Cogwheel rigidit...|      405947006|  0.0916|\n",
            "|                                                   serum glucose|   TEST|Glucose concentration:::Glucose level:::Blood glucose normal:::Blood glucose level:::Blood glucos...|      365657003|  0.0705|\n",
            "+----------------------------------------------------------------+-------+----------------------------------------------------------------------------------------------------+---------------+--------+\n",
            "only showing top 20 rows\n",
            "\n"
          ],
          "name": "stdout"
        }
      ]
    },
    {
      "cell_type": "markdown",
      "metadata": {
        "id": "VtDWAlnDList"
      },
      "source": [
        "# SentenceEntity Resolver with BioBert Sentence Embeddings (s-Bert) finetuned on MedNLI (requires Spark NLP 2.6.5 and Spark NLP JSL 2.7.1)\n",
        "\n",
        "### **Warning**: **If you get an error related to Java port not found 55, it is probably because that the Colab memory cannot handle the model and the Spark session died. In that case, try on a larger machine or restart the kernel at the top and then come back here and rerun. **\n"
      ]
    },
    {
      "cell_type": "markdown",
      "metadata": {
        "id": "bhtV-whv9Tbx"
      },
      "source": [
        "- sbiobertresolve_icd10cm \n",
        "- sbiobertresolve_icd10cm_augmented\n",
        "- sbiobertresolve_icd10pcs\n",
        "- sbiobertresolve_snomed_findings (with clinical_findings concepts from CT version)\n",
        "- sbiobertresolve_snomed_findings_int  (with clinical_findings concepts from INT version)\n",
        "- sbiobertresolve_snomed_auxConcepts (with Morph Abnormality, Procedure, Substance, Physical Object, Body Structure concepts from CT version)\n",
        "- sbiobertresolve_snomed_auxConcepts_int  (with Morph Abnormality, Procedure, Substance, Physical Object, Body Structure concepts from INT version)\n",
        "- sbiobertresolve_rxnorm\n",
        "- sbiobertresolve_rxcui\n",
        "- sbiobertresolve_icdo\n",
        "- sbiobertresolve_cpt"
      ]
    },
    {
      "cell_type": "code",
      "metadata": {
        "colab": {
          "base_uri": "https://localhost:8080/"
        },
        "id": "Ap4vXNTC7MST",
        "outputId": "70e3c2f0-7ead-4409-a90a-6cf3d301bd96"
      },
      "source": [
        "documentAssembler = DocumentAssembler()\\\n",
        "      .setInputCol(\"text\")\\\n",
        "      .setOutputCol(\"document\")\n",
        "\n",
        "sentenceDetector = SentenceDetectorDLModel.pretrained()\\\n",
        "      .setInputCols([\"document\"])\\\n",
        "      .setOutputCol(\"sentence\")\n",
        "\n",
        "tokenizer = Tokenizer()\\\n",
        "      .setInputCols([\"sentence\"])\\\n",
        "      .setOutputCol(\"token\")\\\n",
        "\n",
        "word_embeddings = WordEmbeddingsModel.pretrained(\"embeddings_clinical\", \"en\", \"clinical/models\")\\\n",
        "      .setInputCols([\"sentence\", \"token\"])\\\n",
        "      .setOutputCol(\"embeddings\")\n",
        "\n",
        "clinical_ner = NerDLModel.pretrained(\"ner_clinical_large\", \"en\", \"clinical/models\") \\\n",
        "      .setInputCols([\"sentence\", \"token\", \"embeddings\"]) \\\n",
        "      .setOutputCol(\"ner\")\n",
        "\n",
        "ner_converter = NerConverter() \\\n",
        "      .setInputCols([\"sentence\", \"token\", \"ner\"]) \\\n",
        "      .setOutputCol(\"ner_chunk\")\\\n",
        "\n",
        "c2doc = Chunk2Doc().setInputCols(\"ner_chunk\").setOutputCol(\"ner_chunk_doc\") \n",
        "\n",
        "sbert_embedder = BertSentenceEmbeddings.pretrained(\"sbiobert_base_cased_mli\",'en','clinical/models')\\\n",
        "      .setInputCols([\"ner_chunk_doc\"])\\\n",
        "      .setOutputCol(\"sbert_embeddings\")\n"
      ],
      "execution_count": null,
      "outputs": [
        {
          "output_type": "stream",
          "text": [
            "sentence_detector_dl download started this may take some time.\n",
            "Approximate size to download 354.6 KB\n",
            "[OK!]\n",
            "embeddings_clinical download started this may take some time.\n",
            "Approximate size to download 1.6 GB\n",
            "[OK!]\n",
            "ner_clinical_large download started this may take some time.\n",
            "Approximate size to download 13.9 MB\n",
            "[OK!]\n",
            "sbiobert_base_cased_mli download started this may take some time.\n",
            "Approximate size to download 384.3 MB\n",
            "[OK!]\n"
          ],
          "name": "stdout"
        }
      ]
    },
    {
      "cell_type": "markdown",
      "metadata": {
        "id": "kqZRyJoC_-Fp"
      },
      "source": [
        "### SNOMED INT (S-Bert)"
      ]
    },
    {
      "cell_type": "code",
      "metadata": {
        "colab": {
          "base_uri": "https://localhost:8080/"
        },
        "id": "56LCu2aE_9Lb",
        "outputId": "c17c6047-fb3d-4d83-fc23-d688fd208e12"
      },
      "source": [
        "snomed_resolution_int = SentenceEntityResolverModel.pretrained(\"sbiobertresolve_snomed_findings_int\", \"en\", \"clinical/models\") \\\n",
        "    .setInputCols([\"sbert_embeddings\"]) \\\n",
        "    .setOutputCol(\"snomed_code_int\")\n",
        "  \n",
        "pipeline_snomed_int = Pipeline(\n",
        "    stages = [\n",
        "      documentAssembler,\n",
        "      sentenceDetector,\n",
        "      tokenizer,\n",
        "      word_embeddings,\n",
        "      clinical_ner,\n",
        "      ner_converter,\n",
        "      c2doc,\n",
        "      sbert_embedder,\n",
        "      snomed_resolution_int\n",
        "  ])\n",
        "\n",
        "snomed_output_int = pipeline_snomed_int.fit(data_ner).transform(data_ner)"
      ],
      "execution_count": null,
      "outputs": [
        {
          "output_type": "stream",
          "text": [
            "sbiobertresolve_snomed_findings_int download started this may take some time.\n",
            "Approximate size to download 517.4 MB\n",
            "[OK!]\n"
          ],
          "name": "stdout"
        }
      ]
    },
    {
      "cell_type": "code",
      "metadata": {
        "id": "5hRn9DalVhh0",
        "colab": {
          "base_uri": "https://localhost:8080/"
        },
        "outputId": "7dabc22d-8f93-43f2-ea28-5e4c0820dbad"
      },
      "source": [
        "snomed_output_int.select(F.explode(F.arrays_zip(\"ner_chunk.result\",\"ner_chunk.metadata\",\"snomed_code_int.result\",\"snomed_code_int.metadata\")).alias(\"snomed_result\")) \\\n",
        "    .select(F.expr(\"snomed_result['0']\").alias(\"chunk\"),\n",
        "            F.expr(\"snomed_result['1'].entity\").alias(\"entity\"),\n",
        "            F.expr(\"snomed_result['3'].all_k_resolutions\").alias(\"target_text\"),\n",
        "            F.expr(\"snomed_result['2']\").alias(\"snomed_code\"),\n",
        "            F.expr(\"snomed_result['3'].confidence\").alias(\"distance\")).show(truncate = 100)"
      ],
      "execution_count": null,
      "outputs": [
        {
          "output_type": "stream",
          "text": [
            "+-------------------------------------+---------+----------------------------------------------------------------------------------------------------+-----------+--------+\n",
            "|                                chunk|   entity|                                                                                         target_text|snomed_code|distance|\n",
            "+-------------------------------------+---------+----------------------------------------------------------------------------------------------------+-----------+--------+\n",
            "|        gestational diabetes mellitus|  PROBLEM|ureterocele - acquired:::gestational diabetes mellitus:::glomus tumour:::faeces colour finding:::...|  197822006|  0.3291|\n",
            "|subsequent type two diabetes mellitus|  PROBLEM|pre-existing type 2 diabetes mellitus:::disorder due to type 2 diabetes mellitus:::type 2 diabete...|  199230006|  0.1294|\n",
            "|                                 T2DM|  PROBLEM|type 2 diabetes mellitus:::pre-existing type 2 diabetes mellitus:::type i diabetes mellitus with ...|   44054006|  0.1900|\n",
            "|             HTG-induced pancreatitis|  PROBLEM|alcohol-induced pancreatitis:::drug-induced acute pancreatitis:::alcohol-induced acute pancreatit...|  445507008|  0.1257|\n",
            "|                   an acute hepatitis|  PROBLEM|acute hepatitis:::acute infectious hepatitis:::hepatitis d superinfection of hepatitis b carrier:...|   37871000|  0.4490|\n",
            "|                              obesity|  PROBLEM|morbid obesity:::fat pad syndrome:::disorder of metabolism nos:::maternal obesity syndrome:::obes...|  238136002|  0.3211|\n",
            "|                    a body mass index|  PROBLEM|respiratory symptoms nos:::finding of body mass index:::mass of body region:::o/e - dead - condit...|  139218003|  0.3884|\n",
            "|                                  BMI|     TEST|respiratory symptoms nos:::finding of body mass index:::other disorders of metabolism:::simple ob...|  139218003|  0.4495|\n",
            "|                             polyuria|  PROBLEM|o/e - hypothermia:::polyuria:::polyuric state:::micturition frequency and polyuria:::saccharopinu...|  141496003|  0.4995|\n",
            "|                           polydipsia|  PROBLEM|born after multiple pregnancy:::psychogenic polydipsia:::polyhydramnios:::oligohydramnios:::feto-...|  157053003|  0.9948|\n",
            "|                        poor appetite|  PROBLEM|observation of skin texture:::poor nutrition:::feeding poor:::loss of appetite:::bad taste in mou...|  271814001|  0.2175|\n",
            "|                             vomiting|  PROBLEM|vomiting:::no vomiting:::c/o - vomiting:::intermittent vomiting:::nausea nos:::vomit odour nos:::...|  422400008|  0.3263|\n",
            "|                          amoxicillin|TREATMENT|oxalate nephropathy, type ii:::o/e - suprasternal recession:::symptoms: [genitourinary] or [urina...|   36932006|  0.1758|\n",
            "|        a respiratory tract infection|  PROBLEM|respiratory tract infection:::bacterial respiratory infection:::upper respiratory infection:::res...|  275498002|  0.6345|\n",
            "|                            metformin|TREATMENT|hyperemia of eye:::metabolic finding:::leydig cell neoplasm of testis:::poisoning by metformin:::...|  781682005|  0.1563|\n",
            "|                            glipizide|TREATMENT|wrist joint prosthesis present:::glibenclamide adverse reaction:::icca syndrome:::insomnia caused...|  763646004|  0.0933|\n",
            "|                        dapagliflozin|TREATMENT|human immunodeficiency virus 2 antibody positive and human immunodeficiency virus 1 antibody cros...|  719789000|  0.5648|\n",
            "|                                 T2DM|  PROBLEM|type 2 diabetes mellitus:::pre-existing type 2 diabetes mellitus:::type i diabetes mellitus with ...|   44054006|  0.1900|\n",
            "|                         atorvastatin|TREATMENT|sodomy:::aspirin therapy location:::aspirin therapy finding:::sibling rivalry:::cytochrome p450 f...|   31997002|  0.3837|\n",
            "|                          gemfibrozil|TREATMENT|electrolyte anion adverse reaction:::allergy to doxepin:::accidental laceration of a blood vessel...|  293412005|  0.1774|\n",
            "+-------------------------------------+---------+----------------------------------------------------------------------------------------------------+-----------+--------+\n",
            "only showing top 20 rows\n",
            "\n"
          ],
          "name": "stdout"
        }
      ]
    },
    {
      "cell_type": "markdown",
      "metadata": {
        "id": "3qqrNqMOAL1v"
      },
      "source": [
        "### ICD10CM (S-Bert)"
      ]
    },
    {
      "cell_type": "code",
      "metadata": {
        "id": "Skt3JHf8LjJ-",
        "colab": {
          "base_uri": "https://localhost:8080/"
        },
        "outputId": "9b9980a0-6f00-4edd-a053-385a89a68b8c"
      },
      "source": [
        "icd10cm_resolver = SentenceEntityResolverModel.pretrained(\"sbiobertresolve_icd10cm\",\"en\", \"clinical/models\") \\\n",
        "      .setInputCols([\"ner_chunk\", \"sbert_embeddings\"]) \\\n",
        "      .setOutputCol(\"icd10cm_code\")\\\n",
        "      .setDistanceFunction(\"EUCLIDEAN\")\n",
        "  \n",
        "sbert_pipeline_icd10cm = Pipeline(\n",
        "    stages = [\n",
        "        documentAssembler,\n",
        "        sentenceDetector,\n",
        "        tokenizer,\n",
        "        word_embeddings,\n",
        "        clinical_ner,\n",
        "        ner_converter,\n",
        "        c2doc,\n",
        "        sbert_embedder,\n",
        "        icd10cm_resolver])"
      ],
      "execution_count": null,
      "outputs": [
        {
          "output_type": "stream",
          "text": [
            "sbiobertresolve_icd10cm download started this may take some time.\n",
            "Approximate size to download 201 MB\n",
            "[OK!]\n"
          ],
          "name": "stdout"
        }
      ]
    },
    {
      "cell_type": "code",
      "metadata": {
        "id": "hLKJx-OtLpMf",
        "colab": {
          "base_uri": "https://localhost:8080/"
        },
        "outputId": "b26a7b67-02a2-475e-8cf2-286d6c775fa0"
      },
      "source": [
        "text = 'This is an 82 - year-old male with a history of prior tobacco use , hypertension , chronic renal insufficiency , COPD , gastritis , and TIA who initially presented to Braintree with a non-ST elevation MI and Guaiac positive stools , transferred to St . Margaret\\'s Center for Women & Infants for cardiac catheterization with PTCA to mid LAD lesion complicated by hypotension and bradycardia requiring Atropine , IV fluids and transient dopamine possibly secondary to vagal reaction , subsequently transferred to CCU for close monitoring , hemodynamically stable at the time of admission to the CCU .'\n",
        "\n",
        "data_ner = spark.createDataFrame([[text]]).toDF(\"text\")\n",
        "\n",
        "sbert_models = sbert_pipeline_icd10cm.fit(data_ner)\n",
        "\n",
        "sbert_outputs = sbert_models.transform(data_ner)\n",
        "\n",
        "from pyspark.sql import functions as F\n",
        "\n",
        "icd10cm_sdf = sbert_outputs.select(F.explode(F.arrays_zip(\"ner_chunk.result\",\"ner_chunk.metadata\",\"icd10cm_code.result\",\"icd10cm_code.metadata\",\"ner_chunk.begin\",\"ner_chunk.end\")).alias(\"icd10cm_code\")) \\\n",
        "    .select(F.expr(\"icd10cm_code['0']\").alias(\"chunk\"),\n",
        "            F.expr(\"icd10cm_code['4']\").alias(\"begin\"),\n",
        "            F.expr(\"icd10cm_code['5']\").alias(\"end\"),\n",
        "            F.expr(\"icd10cm_code['1'].entity\").alias(\"entity\"),\n",
        "            F.expr(\"icd10cm_code['2']\").alias(\"code\"),\n",
        "            F.expr(\"icd10cm_code['3'].confidence\").alias(\"confidence\"),\n",
        "            F.expr(\"icd10cm_code['3'].all_k_resolutions\").alias(\"all_k_resolutions\"),\n",
        "            F.expr(\"icd10cm_code['3'].all_k_results\").alias(\"all_k_codes\"))\n",
        "\n",
        "icd10cm_sdf.show(10)\n"
      ],
      "execution_count": null,
      "outputs": [
        {
          "output_type": "stream",
          "text": [
            "+--------------------+-----+---+---------+------+----------+--------------------+--------------------+\n",
            "|               chunk|begin|end|   entity|  code|confidence|   all_k_resolutions|         all_k_codes|\n",
            "+--------------------+-----+---+---------+------+----------+--------------------+--------------------+\n",
            "|        hypertension|   68| 79|  PROBLEM|  I150|    0.2606|Renovascular hype...|I150:::K766:::I10...|\n",
            "|chronic renal ins...|   83|109|  PROBLEM|  N186|    0.2059|End stage renal d...|N186:::D631:::P96...|\n",
            "|                COPD|  113|116|  PROBLEM| I2781|    0.2132|Cor pulmonale (ch...|I2781:::J449:::J4...|\n",
            "|           gastritis|  120|128|  PROBLEM| K5281|    0.1425|Eosinophilic gast...|K5281:::K140:::K9...|\n",
            "|                 TIA|  136|138|  PROBLEM|  G459|    0.1152|Transient cerebra...|G459:::I639:::T79...|\n",
            "|a non-ST elevatio...|  182|202|  PROBLEM|  I214|    0.0889|Non-ST elevation ...|I214:::I256:::M62...|\n",
            "|Guaiac positive s...|  208|229|  PROBLEM|  K626|    0.0631|Ulcer of anus and...|K626:::K380:::R15...|\n",
            "|cardiac catheteri...|  295|317|     TEST|  Z950|    0.2549|Presence of cardi...|Z950:::Z95811:::I...|\n",
            "|                PTCA|  324|327|TREATMENT| Z9861|    0.1268|Coronary angiopla...|Z9861:::Z9862:::I...|\n",
            "|      mid LAD lesion|  332|345|  PROBLEM|L02424|    0.1117|Furuncle of left ...|L02424:::Q202:::L...|\n",
            "+--------------------+-----+---+---------+------+----------+--------------------+--------------------+\n",
            "only showing top 10 rows\n",
            "\n"
          ],
          "name": "stdout"
        }
      ]
    },
    {
      "cell_type": "code",
      "metadata": {
        "id": "Abxq_dIIGrRc"
      },
      "source": [
        "sbert_models = sbert_pipeline_icd10cm.fit(data_ner)\n",
        "\n",
        "light_pipeline = LightPipeline(sbert_models)\n",
        "\n",
        "light_data_icd = light_pipeline.fullAnnotate(text)"
      ],
      "execution_count": null,
      "outputs": []
    },
    {
      "cell_type": "code",
      "metadata": {
        "id": "6AEEVu8pL-jE",
        "colab": {
          "base_uri": "https://localhost:8080/",
          "height": 457
        },
        "outputId": "5786033c-9091-405e-f191-6419486c5bde"
      },
      "source": [
        "from sparknlp_display import NerVisualizer\n",
        "\n",
        "visualiser = NerVisualizer()\n",
        "\n",
        "# Change color of an entity label\n",
        "visualiser.set_label_colors({'PROBLEM':'#008080', 'TEST':'#800080', 'TREATMENT':'#806080'})\n",
        "\n",
        "# Set label filter\n",
        "#visualiser.display(ppres, label_col='ner_chunk', labels=['PER'])\n",
        "\n",
        "visualiser.display(light_data_icd[0], label_col='ner_chunk', document_col='document')\n"
      ],
      "execution_count": null,
      "outputs": [
        {
          "output_type": "display_data",
          "data": {
            "text/html": [
              "\n",
              "<style>\n",
              "    @import url('https://fonts.googleapis.com/css2?family=Montserrat:wght@300;400;500;600;700&display=swap');\n",
              "    @import url('https://fonts.googleapis.com/css2?family=Vistol Regular:wght@300;400;500;600;700&display=swap');\n",
              "    \n",
              "    .spark-nlp-display-scroll-entities {\n",
              "        border: 1px solid #E7EDF0;\n",
              "        border-radius: 3px;\n",
              "        text-align: justify;\n",
              "        \n",
              "    }\n",
              "    .spark-nlp-display-scroll-entities span {  \n",
              "        font-size: 14px;\n",
              "        line-height: 24px;\n",
              "        color: #536B76;\n",
              "        font-family: 'Montserrat', sans-serif !important;\n",
              "    }\n",
              "    \n",
              "    .spark-nlp-display-entity-wrapper{\n",
              "    \n",
              "        display: inline-grid;\n",
              "        text-align: center;\n",
              "        border-radius: 4px;\n",
              "        margin: 0 2px 5px 2px;\n",
              "        padding: 1px\n",
              "    }\n",
              "    .spark-nlp-display-entity-name{\n",
              "        font-size: 14px;\n",
              "        line-height: 24px;\n",
              "        font-family: 'Montserrat', sans-serif !important;\n",
              "        \n",
              "        background: #f1f2f3;\n",
              "        border-width: medium;\n",
              "        text-align: center;\n",
              "        \n",
              "        font-weight: 400;\n",
              "        \n",
              "        border-radius: 5px;\n",
              "        padding: 2px 5px;\n",
              "        display: block;\n",
              "        margin: 3px 2px;\n",
              "    \n",
              "    }\n",
              "    .spark-nlp-display-entity-type{\n",
              "        font-size: 14px;\n",
              "        line-height: 24px;\n",
              "        color: #ffffff;\n",
              "        font-family: 'Montserrat', sans-serif !important;\n",
              "        \n",
              "        text-transform: uppercase;\n",
              "        \n",
              "        font-weight: 500;\n",
              "\n",
              "        display: block;\n",
              "        padding: 3px 5px;\n",
              "    }\n",
              "    \n",
              "    .spark-nlp-display-entity-resolution{\n",
              "        font-size: 14px;\n",
              "        line-height: 24px;\n",
              "        color: #ffffff;\n",
              "        font-family: 'Vistol Regular', sans-serif !important;\n",
              "        \n",
              "        text-transform: uppercase;\n",
              "        \n",
              "        font-weight: 500;\n",
              "\n",
              "        display: block;\n",
              "        padding: 3px 5px;\n",
              "    }\n",
              "    \n",
              "    .spark-nlp-display-others{\n",
              "        font-size: 14px;\n",
              "        line-height: 24px;\n",
              "        font-family: 'Montserrat', sans-serif !important;\n",
              "        \n",
              "        font-weight: 400;\n",
              "    }\n",
              "\n",
              "</style>\n",
              " <span class=\"spark-nlp-display-others\" style=\"background-color: white\">This is an 82 - year-old male with a history of prior tobacco use , </span><span class=\"spark-nlp-display-entity-wrapper\" style=\"background-color: #008080\"><span class=\"spark-nlp-display-entity-name\">hypertension </span><span class=\"spark-nlp-display-entity-type\">PROBLEM</span></span><span class=\"spark-nlp-display-others\" style=\"background-color: white\"> , </span><span class=\"spark-nlp-display-entity-wrapper\" style=\"background-color: #008080\"><span class=\"spark-nlp-display-entity-name\">chronic renal insufficiency </span><span class=\"spark-nlp-display-entity-type\">PROBLEM</span></span><span class=\"spark-nlp-display-others\" style=\"background-color: white\"> , </span><span class=\"spark-nlp-display-entity-wrapper\" style=\"background-color: #008080\"><span class=\"spark-nlp-display-entity-name\">COPD </span><span class=\"spark-nlp-display-entity-type\">PROBLEM</span></span><span class=\"spark-nlp-display-others\" style=\"background-color: white\"> , </span><span class=\"spark-nlp-display-entity-wrapper\" style=\"background-color: #008080\"><span class=\"spark-nlp-display-entity-name\">gastritis </span><span class=\"spark-nlp-display-entity-type\">PROBLEM</span></span><span class=\"spark-nlp-display-others\" style=\"background-color: white\"> , and </span><span class=\"spark-nlp-display-entity-wrapper\" style=\"background-color: #008080\"><span class=\"spark-nlp-display-entity-name\">TIA </span><span class=\"spark-nlp-display-entity-type\">PROBLEM</span></span><span class=\"spark-nlp-display-others\" style=\"background-color: white\"> who initially presented to Braintree with </span><span class=\"spark-nlp-display-entity-wrapper\" style=\"background-color: #008080\"><span class=\"spark-nlp-display-entity-name\">a non-ST elevation MI </span><span class=\"spark-nlp-display-entity-type\">PROBLEM</span></span><span class=\"spark-nlp-display-others\" style=\"background-color: white\"> and </span><span class=\"spark-nlp-display-entity-wrapper\" style=\"background-color: #008080\"><span class=\"spark-nlp-display-entity-name\">Guaiac positive stools </span><span class=\"spark-nlp-display-entity-type\">PROBLEM</span></span><span class=\"spark-nlp-display-others\" style=\"background-color: white\"> , transferred to St . Margaret's Center for Women & Infants for </span><span class=\"spark-nlp-display-entity-wrapper\" style=\"background-color: #800080\"><span class=\"spark-nlp-display-entity-name\">cardiac catheterization </span><span class=\"spark-nlp-display-entity-type\">TEST</span></span><span class=\"spark-nlp-display-others\" style=\"background-color: white\"> with </span><span class=\"spark-nlp-display-entity-wrapper\" style=\"background-color: #806080\"><span class=\"spark-nlp-display-entity-name\">PTCA </span><span class=\"spark-nlp-display-entity-type\">TREATMENT</span></span><span class=\"spark-nlp-display-others\" style=\"background-color: white\"> to </span><span class=\"spark-nlp-display-entity-wrapper\" style=\"background-color: #008080\"><span class=\"spark-nlp-display-entity-name\">mid LAD lesion </span><span class=\"spark-nlp-display-entity-type\">PROBLEM</span></span><span class=\"spark-nlp-display-others\" style=\"background-color: white\"> complicated by </span><span class=\"spark-nlp-display-entity-wrapper\" style=\"background-color: #008080\"><span class=\"spark-nlp-display-entity-name\">hypotension </span><span class=\"spark-nlp-display-entity-type\">PROBLEM</span></span><span class=\"spark-nlp-display-others\" style=\"background-color: white\"> and </span><span class=\"spark-nlp-display-entity-wrapper\" style=\"background-color: #008080\"><span class=\"spark-nlp-display-entity-name\">bradycardia </span><span class=\"spark-nlp-display-entity-type\">PROBLEM</span></span><span class=\"spark-nlp-display-others\" style=\"background-color: white\"> requiring </span><span class=\"spark-nlp-display-entity-wrapper\" style=\"background-color: #806080\"><span class=\"spark-nlp-display-entity-name\">Atropine </span><span class=\"spark-nlp-display-entity-type\">TREATMENT</span></span><span class=\"spark-nlp-display-others\" style=\"background-color: white\"> , </span><span class=\"spark-nlp-display-entity-wrapper\" style=\"background-color: #806080\"><span class=\"spark-nlp-display-entity-name\">IV fluids </span><span class=\"spark-nlp-display-entity-type\">TREATMENT</span></span><span class=\"spark-nlp-display-others\" style=\"background-color: white\"> and </span><span class=\"spark-nlp-display-entity-wrapper\" style=\"background-color: #806080\"><span class=\"spark-nlp-display-entity-name\">transient dopamine </span><span class=\"spark-nlp-display-entity-type\">TREATMENT</span></span><span class=\"spark-nlp-display-others\" style=\"background-color: white\"> possibly secondary to </span><span class=\"spark-nlp-display-entity-wrapper\" style=\"background-color: #008080\"><span class=\"spark-nlp-display-entity-name\">vagal reaction </span><span class=\"spark-nlp-display-entity-type\">PROBLEM</span></span><span class=\"spark-nlp-display-others\" style=\"background-color: white\"> , subsequently transferred to CCU for </span><span class=\"spark-nlp-display-entity-wrapper\" style=\"background-color: #800080\"><span class=\"spark-nlp-display-entity-name\">close monitoring </span><span class=\"spark-nlp-display-entity-type\">TEST</span></span><span class=\"spark-nlp-display-others\" style=\"background-color: white\"> , hemodynamically stable at the time of admission to the CCU .</span></div>"
            ],
            "text/plain": [
              "<IPython.core.display.HTML object>"
            ]
          },
          "metadata": {
            "tags": []
          }
        }
      ]
    },
    {
      "cell_type": "code",
      "metadata": {
        "id": "H0U0R9StHouF",
        "colab": {
          "base_uri": "https://localhost:8080/",
          "height": 1000
        },
        "outputId": "7765981d-9fa5-42fa-eafb-f62736cf0803"
      },
      "source": [
        "from sparknlp_display import EntityResolverVisualizer\n",
        "\n",
        "vis = EntityResolverVisualizer()\n",
        "\n",
        "vis.set_label_colors({'PROBLEM':'#008080', 'TEST':'#800080', 'TREATMENT':'#806080'})\n",
        "\n",
        "vis.display(light_data_icd[0], 'ner_chunk', 'icd10cm_code')\n"
      ],
      "execution_count": null,
      "outputs": [
        {
          "output_type": "display_data",
          "data": {
            "text/html": [
              "\n",
              "<style>\n",
              "    @import url('https://fonts.googleapis.com/css2?family=Montserrat:wght@300;400;500;600;700&display=swap');\n",
              "    @import url('https://fonts.googleapis.com/css2?family=Vistol Regular:wght@300;400;500;600;700&display=swap');\n",
              "    \n",
              "    .spark-nlp-display-scroll-entities {\n",
              "        border: 1px solid #E7EDF0;\n",
              "        border-radius: 3px;\n",
              "        text-align: justify;\n",
              "        \n",
              "    }\n",
              "    .spark-nlp-display-scroll-entities span {  \n",
              "        font-size: 14px;\n",
              "        line-height: 24px;\n",
              "        color: #536B76;\n",
              "        font-family: 'Montserrat', sans-serif !important;\n",
              "    }\n",
              "    \n",
              "    .spark-nlp-display-entity-wrapper{\n",
              "    \n",
              "        display: inline-grid;\n",
              "        text-align: center;\n",
              "        border-radius: 4px;\n",
              "        margin: 0 2px 5px 2px;\n",
              "        padding: 1px\n",
              "    }\n",
              "    .spark-nlp-display-entity-name{\n",
              "        font-size: 14px;\n",
              "        line-height: 24px;\n",
              "        font-family: 'Montserrat', sans-serif !important;\n",
              "        \n",
              "        background: #f1f2f3;\n",
              "        border-width: medium;\n",
              "        text-align: center;\n",
              "        \n",
              "        font-weight: 400;\n",
              "        \n",
              "        border-radius: 5px;\n",
              "        padding: 2px 5px;\n",
              "        display: block;\n",
              "        margin: 3px 2px;\n",
              "    \n",
              "    }\n",
              "    .spark-nlp-display-entity-type{\n",
              "        font-size: 14px;\n",
              "        line-height: 24px;\n",
              "        color: #ffffff;\n",
              "        font-family: 'Montserrat', sans-serif !important;\n",
              "        \n",
              "        text-transform: uppercase;\n",
              "        \n",
              "        font-weight: 500;\n",
              "\n",
              "        display: block;\n",
              "        padding: 3px 5px;\n",
              "    }\n",
              "    \n",
              "    .spark-nlp-display-entity-resolution{\n",
              "        font-size: 14px;\n",
              "        line-height: 24px;\n",
              "        color: #ffffff;\n",
              "        font-family: 'Vistol Regular', sans-serif !important;\n",
              "        \n",
              "        text-transform: uppercase;\n",
              "        \n",
              "        font-weight: 500;\n",
              "\n",
              "        display: block;\n",
              "        padding: 3px 5px;\n",
              "    }\n",
              "    \n",
              "    .spark-nlp-display-others{\n",
              "        font-size: 14px;\n",
              "        line-height: 24px;\n",
              "        font-family: 'Montserrat', sans-serif !important;\n",
              "        \n",
              "        font-weight: 400;\n",
              "    }\n",
              "\n",
              "</style>\n",
              " <span class=\"spark-nlp-display-others\" style=\"background-color: white\">This is an 82 - year-old male with a history of prior tobacco use , </span><span class=\"spark-nlp-display-entity-wrapper\" style=\"background-color: #008080B3\"><span class=\"spark-nlp-display-entity-name\">hypertension </span><span class=\"spark-nlp-display-entity-type\">PROBLEM</span><span class=\"spark-nlp-display-entity-resolution\" style=\"background-color: #008080FF\">I150 </span><span class=\"spark-nlp-display-entity-resolution\" style=\"background-color: #008080CC\">Renovascular hypertension</span></span><span class=\"spark-nlp-display-others\" style=\"background-color: white\"> , </span><span class=\"spark-nlp-display-entity-wrapper\" style=\"background-color: #008080B3\"><span class=\"spark-nlp-display-entity-name\">chronic renal insufficiency </span><span class=\"spark-nlp-display-entity-type\">PROBLEM</span><span class=\"spark-nlp-display-entity-resolution\" style=\"background-color: #008080FF\">N186 </span><span class=\"spark-nlp-display-entity-resolution\" style=\"background-color: #008080CC\">End stage renal disease</span></span><span class=\"spark-nlp-display-others\" style=\"background-color: white\"> , </span><span class=\"spark-nlp-display-entity-wrapper\" style=\"background-color: #008080B3\"><span class=\"spark-nlp-display-entity-name\">COPD </span><span class=\"spark-nlp-display-entity-type\">PROBLEM</span><span class=\"spark-nlp-display-entity-resolution\" style=\"background-color: #008080FF\">I2781 </span><span class=\"spark-nlp-display-entity-resolution\" style=\"background-color: #008080CC\">Cor pulmonale (chronic)</span></span><span class=\"spark-nlp-display-others\" style=\"background-color: white\"> , </span><span class=\"spark-nlp-display-entity-wrapper\" style=\"background-color: #008080B3\"><span class=\"spark-nlp-display-entity-name\">gastritis </span><span class=\"spark-nlp-display-entity-type\">PROBLEM</span><span class=\"spark-nlp-display-entity-resolution\" style=\"background-color: #008080FF\">K5281 </span><span class=\"spark-nlp-display-entity-resolution\" style=\"background-color: #008080CC\">Eosinophilic gastritis or gastroenteritis</span></span><span class=\"spark-nlp-display-others\" style=\"background-color: white\"> , and </span><span class=\"spark-nlp-display-entity-wrapper\" style=\"background-color: #008080B3\"><span class=\"spark-nlp-display-entity-name\">TIA </span><span class=\"spark-nlp-display-entity-type\">PROBLEM</span><span class=\"spark-nlp-display-entity-resolution\" style=\"background-color: #008080FF\">G459 </span><span class=\"spark-nlp-display-entity-resolution\" style=\"background-color: #008080CC\">Transient cerebral ischemic attack, unspecified</span></span><span class=\"spark-nlp-display-others\" style=\"background-color: white\"> who initially presented to Braintree with </span><span class=\"spark-nlp-display-entity-wrapper\" style=\"background-color: #008080B3\"><span class=\"spark-nlp-display-entity-name\">a non-ST elevation MI </span><span class=\"spark-nlp-display-entity-type\">PROBLEM</span><span class=\"spark-nlp-display-entity-resolution\" style=\"background-color: #008080FF\">I214 </span><span class=\"spark-nlp-display-entity-resolution\" style=\"background-color: #008080CC\">Non-ST elevation (NSTEMI) myocardial infarction</span></span><span class=\"spark-nlp-display-others\" style=\"background-color: white\"> and </span><span class=\"spark-nlp-display-entity-wrapper\" style=\"background-color: #008080B3\"><span class=\"spark-nlp-display-entity-name\">Guaiac positive stools </span><span class=\"spark-nlp-display-entity-type\">PROBLEM</span><span class=\"spark-nlp-display-entity-resolution\" style=\"background-color: #008080FF\">K626 </span><span class=\"spark-nlp-display-entity-resolution\" style=\"background-color: #008080CC\">Ulcer of anus and rectum</span></span><span class=\"spark-nlp-display-others\" style=\"background-color: white\"> , transferred to St . Margaret's Center for Women & Infants for </span><span class=\"spark-nlp-display-entity-wrapper\" style=\"background-color: #800080B3\"><span class=\"spark-nlp-display-entity-name\">cardiac catheterization </span><span class=\"spark-nlp-display-entity-type\">TEST</span><span class=\"spark-nlp-display-entity-resolution\" style=\"background-color: #800080FF\">Z950 </span><span class=\"spark-nlp-display-entity-resolution\" style=\"background-color: #800080CC\">Presence of cardiac pacemaker</span></span><span class=\"spark-nlp-display-others\" style=\"background-color: white\"> with </span><span class=\"spark-nlp-display-entity-wrapper\" style=\"background-color: #806080B3\"><span class=\"spark-nlp-display-entity-name\">PTCA </span><span class=\"spark-nlp-display-entity-type\">TREATMENT</span><span class=\"spark-nlp-display-entity-resolution\" style=\"background-color: #806080FF\">Z9861 </span><span class=\"spark-nlp-display-entity-resolution\" style=\"background-color: #806080CC\">Coronary angioplasty status</span></span><span class=\"spark-nlp-display-others\" style=\"background-color: white\"> to </span><span class=\"spark-nlp-display-entity-wrapper\" style=\"background-color: #008080B3\"><span class=\"spark-nlp-display-entity-name\">mid LAD lesion </span><span class=\"spark-nlp-display-entity-type\">PROBLEM</span><span class=\"spark-nlp-display-entity-resolution\" style=\"background-color: #008080FF\">L02424 </span><span class=\"spark-nlp-display-entity-resolution\" style=\"background-color: #008080CC\">Furuncle of left upper limb</span></span><span class=\"spark-nlp-display-others\" style=\"background-color: white\"> complicated by </span><span class=\"spark-nlp-display-entity-wrapper\" style=\"background-color: #008080B3\"><span class=\"spark-nlp-display-entity-name\">hypotension </span><span class=\"spark-nlp-display-entity-type\">PROBLEM</span><span class=\"spark-nlp-display-entity-resolution\" style=\"background-color: #008080FF\">I951 </span><span class=\"spark-nlp-display-entity-resolution\" style=\"background-color: #008080CC\">Orthostatic hypotension</span></span><span class=\"spark-nlp-display-others\" style=\"background-color: white\"> and </span><span class=\"spark-nlp-display-entity-wrapper\" style=\"background-color: #008080B3\"><span class=\"spark-nlp-display-entity-name\">bradycardia </span><span class=\"spark-nlp-display-entity-type\">PROBLEM</span><span class=\"spark-nlp-display-entity-resolution\" style=\"background-color: #008080FF\">I959 </span><span class=\"spark-nlp-display-entity-resolution\" style=\"background-color: #008080CC\">Hypotension, unspecified</span></span><span class=\"spark-nlp-display-others\" style=\"background-color: white\"> requiring </span><span class=\"spark-nlp-display-entity-wrapper\" style=\"background-color: #806080B3\"><span class=\"spark-nlp-display-entity-name\">Atropine </span><span class=\"spark-nlp-display-entity-type\">TREATMENT</span><span class=\"spark-nlp-display-entity-resolution\" style=\"background-color: #806080FF\">R430 </span><span class=\"spark-nlp-display-entity-resolution\" style=\"background-color: #806080CC\">Anosmia</span></span><span class=\"spark-nlp-display-others\" style=\"background-color: white\"> , </span><span class=\"spark-nlp-display-entity-wrapper\" style=\"background-color: #806080B3\"><span class=\"spark-nlp-display-entity-name\">IV fluids </span><span class=\"spark-nlp-display-entity-type\">TREATMENT</span><span class=\"spark-nlp-display-entity-resolution\" style=\"background-color: #806080FF\">Y640 </span><span class=\"spark-nlp-display-entity-resolution\" style=\"background-color: #806080CC\">Contaminated medical or biological substance, transfused or infused</span></span><span class=\"spark-nlp-display-others\" style=\"background-color: white\"> and </span><span class=\"spark-nlp-display-entity-wrapper\" style=\"background-color: #806080B3\"><span class=\"spark-nlp-display-entity-name\">transient dopamine </span><span class=\"spark-nlp-display-entity-type\">TREATMENT</span><span class=\"spark-nlp-display-entity-resolution\" style=\"background-color: #806080FF\">R404 </span><span class=\"spark-nlp-display-entity-resolution\" style=\"background-color: #806080CC\">Transient alteration of awareness</span></span><span class=\"spark-nlp-display-others\" style=\"background-color: white\"> possibly secondary to </span><span class=\"spark-nlp-display-entity-wrapper\" style=\"background-color: #008080B3\"><span class=\"spark-nlp-display-entity-name\">vagal reaction </span><span class=\"spark-nlp-display-entity-type\">PROBLEM</span><span class=\"spark-nlp-display-entity-resolution\" style=\"background-color: #008080FF\">R253 </span><span class=\"spark-nlp-display-entity-resolution\" style=\"background-color: #008080CC\">Fasciculation</span></span><span class=\"spark-nlp-display-others\" style=\"background-color: white\"> , subsequently transferred to CCU for </span><span class=\"spark-nlp-display-entity-wrapper\" style=\"background-color: #800080B3\"><span class=\"spark-nlp-display-entity-name\">close monitoring </span><span class=\"spark-nlp-display-entity-type\">TEST</span><span class=\"spark-nlp-display-entity-resolution\" style=\"background-color: #800080FF\">W170XXS </span><span class=\"spark-nlp-display-entity-resolution\" style=\"background-color: #800080CC\">Fall into well, sequela</span></span><span class=\"spark-nlp-display-others\" style=\"background-color: white\"> , hemodynamically stable at the time of admission to the CCU .</span></div>"
            ],
            "text/plain": [
              "<IPython.core.display.HTML object>"
            ]
          },
          "metadata": {
            "tags": []
          }
        }
      ]
    }
  ]
}
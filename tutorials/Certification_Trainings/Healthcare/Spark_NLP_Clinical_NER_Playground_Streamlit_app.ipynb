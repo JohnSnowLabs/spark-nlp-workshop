{
  "nbformat": 4,
  "nbformat_minor": 0,
  "metadata": {
    "colab": {
      "name": "Spark_NLP_Clinical_NER_Playground_Streamlit_app.ipynb",
      "provenance": [],
      "collapsed_sections": []
    },
    "kernelspec": {
      "display_name": "Python 3",
      "language": "python",
      "name": "python3"
    },
    "language_info": {
      "codemirror_mode": {
        "name": "ipython",
        "version": 3
      },
      "file_extension": ".py",
      "mimetype": "text/x-python",
      "name": "python",
      "nbconvert_exporter": "python",
      "pygments_lexer": "ipython3",
      "version": "3.9.1"
    },
    "accelerator": "GPU"
  },
  "cells": [
    {
      "cell_type": "markdown",
      "metadata": {
        "id": "I08sFJYCxR0Z"
      },
      "source": [
        "![JohnSnowLabs](https://nlp.johnsnowlabs.com/assets/images/logo.png)"
      ]
    },
    {
      "cell_type": "markdown",
      "metadata": {
        "id": "FwJ-P56kq6FU"
      },
      "source": [
        "[![Open In Colab](https://colab.research.google.com/assets/colab-badge.svg)](https://colab.research.google.com/github/JohnSnowLabs/spark-nlp-workshop/blob/master/tutorials/Certification_Trainings/Healthcare/Spark_NLP_Clinical_NER_Playground_Streamlit_app.ipynb)"
      ]
    },
    {
      "cell_type": "markdown",
      "metadata": {
        "id": "Niy3mZAjoayg"
      },
      "source": [
        "# Spark NLP Clinical NER Playground - Streamlit app\n",
        "\n"
      ]
    },
    {
      "cell_type": "markdown",
      "metadata": {
        "id": "59fnzmouxAsk"
      },
      "source": [
        "### run the following the cell and upload your license keys"
      ]
    },
    {
      "cell_type": "code",
      "metadata": {
        "id": "hrrCNWTNCrDj"
      },
      "source": [
        "import json, os\n",
        "from google.colab import files\n",
        "\n",
        "license_keys = files.upload()\n",
        "\n",
        "with open(list(license_keys.keys())[0]) as f:\n",
        "    license_keys = json.load(f)\n",
        "\n",
        "# Defining license key-value pairs as local variables\n",
        "locals().update(license_keys)\n",
        "\n",
        "# Adding license key-value pairs to environment variables\n",
        "os.environ.update(license_keys)"
      ],
      "execution_count": null,
      "outputs": []
    },
    {
      "cell_type": "markdown",
      "metadata": {
        "id": "CiBhF8scC-fv"
      },
      "source": [
        "### run the following cells and click on the ***ngrok url*** printed at the end (it may take a few minutes to load everything). It will open up a new tab on your browser to let you start play with the stremalit app."
      ]
    },
    {
      "cell_type": "code",
      "metadata": {
        "id": "oE524wNBxCqJ"
      },
      "source": [
        "%%capture\n",
        "\n",
        "# Installing pyspark and spark-nlp\n",
        "! pip install --upgrade -q pyspark==3.1.2 spark-nlp==$PUBLIC_VERSION\n",
        "\n",
        "# Installing Spark NLP Healthcare\n",
        "! pip install --upgrade -q spark-nlp-jsl==$JSL_VERSION  --extra-index-url https://pypi.johnsnowlabs.com/$SECRET\n",
        "\n",
        "! pip install spark-nlp-display\n",
        "! pip install streamlit\n",
        "! pip install pyngrok\n"
      ],
      "execution_count": null,
      "outputs": []
    },
    {
      "cell_type": "code",
      "metadata": {
        "id": "yFLcEPoAPB48"
      },
      "source": [
        "!wget https://raw.githubusercontent.com/JohnSnowLabs/spark-nlp-workshop/master/tutorials/streamlit_notebooks/healthcare/sparknlp_ner_playground.py\n",
        "\n",
        "!streamlit run /content/sparknlp_ner_playground.py&>/dev/null&\n",
        "\n",
        "import time\n",
        "\n",
        "time.sleep(3)\n",
        "\n",
        "from pyngrok import ngrok\n",
        "\n",
        "public_url = ngrok.connect(addr='8501')\n",
        "\n",
        "print (public_url)"
      ],
      "execution_count": null,
      "outputs": []
    },
    {
      "cell_type": "markdown",
      "metadata": {
        "id": "cUyjgZ4_BHhF"
      },
      "source": [
        "### if you want to kill the ngrok session and restart"
      ]
    },
    {
      "cell_type": "code",
      "metadata": {
        "colab": {
          "base_uri": "https://localhost:8080/"
        },
        "id": "WplRTfsgBOgQ",
        "outputId": "4ddd0181-eb61-4aa6-94a8-f3235b354042"
      },
      "source": [
        "!killall ngrok\n",
        "\n",
        "public_url = ngrok.connect(addr='8501')\n",
        "\n",
        "print (public_url)"
      ],
      "execution_count": null,
      "outputs": [
        {
          "output_type": "stream",
          "name": "stdout",
          "text": [
            "NgrokTunnel: \"http://dd50-34-121-238-255.ngrok.io\" -> \"http://localhost:8501\"\n"
          ]
        }
      ]
    }
  ]
}
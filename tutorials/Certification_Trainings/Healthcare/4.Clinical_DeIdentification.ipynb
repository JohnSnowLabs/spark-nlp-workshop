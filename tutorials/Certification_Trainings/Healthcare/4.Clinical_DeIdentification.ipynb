{
  "cells": [
    {
      "cell_type": "markdown",
      "metadata": {
        "id": "I08sFJYCxR0Z"
      },
      "source": [
        "![JohnSnowLabs](https://nlp.johnsnowlabs.com/assets/images/logo.png)"
      ]
    },
    {
      "cell_type": "markdown",
      "metadata": {
        "id": "LKI5K1wQrSe9"
      },
      "source": [
        "[![Open In Colab](https://colab.research.google.com/assets/colab-badge.svg)](https://colab.research.google.com/github/JohnSnowLabs/spark-nlp-workshop/blob/master/tutorials/Certification_Trainings/Healthcare/4.Clinical_DeIdentification.ipynb)\n"
      ]
    },
    {
      "cell_type": "markdown",
      "metadata": {
        "id": "Niy3mZAjoayg"
      },
      "source": [
        "# Clinical Deidentification"
      ]
    },
    {
      "cell_type": "markdown",
      "metadata": {
        "id": "okhT7AcXxben"
      },
      "source": [
        "## Colab Setup"
      ]
    },
    {
      "cell_type": "code",
      "execution_count": null,
      "metadata": {
        "id": "I8Ytt2LLp2rj"
      },
      "outputs": [],
      "source": [
        "import json\n",
        "\n",
        "from google.colab import files\n",
        "\n",
        "license_keys = files.upload()\n",
        "\n",
        "with open(list(license_keys.keys())[0]) as f:\n",
        "    license_keys = json.load(f)\n",
        "\n",
        "# Defining license key-value pairs as local variables\n",
        "locals().update(license_keys)\n",
        "\n",
        "# Adding license key-value pairs to environment variables\n",
        "import os\n",
        "os.environ.update(license_keys)"
      ]
    },
    {
      "cell_type": "code",
      "execution_count": null,
      "metadata": {
        "id": "Uq0mPLNNLuSy",
        "scrolled": true
      },
      "outputs": [],
      "source": [
        "# Installing pyspark and spark-nlp\n",
        "! pip install --upgrade -q pyspark==3.1.2 spark-nlp==$PUBLIC_VERSION\n",
        "\n",
        "# Installing Spark NLP Healthcare\n",
        "! pip install --upgrade -q spark-nlp-jsl==$JSL_VERSION  --extra-index-url https://pypi.johnsnowlabs.com/$SECRET"
      ]
    },
    {
      "cell_type": "code",
      "execution_count": null,
      "metadata": {
        "colab": {
          "base_uri": "https://localhost:8080/"
        },
        "id": "iUNHVaSdL0tO",
        "outputId": "dea17f29-325a-4c44-c3e4-c2f318f7eec6"
      },
      "outputs": [
        {
          "output_type": "stream",
          "name": "stdout",
          "text": [
            "Spark NLP Version : 3.4.1\n",
            "Spark NLP_JSL Version : 3.4.1\n"
          ]
        }
      ],
      "source": [
        "import json\n",
        "import os\n",
        "from pyspark.ml import Pipeline, PipelineModel\n",
        "from pyspark.sql import SparkSession\n",
        "\n",
        "from sparknlp.annotator import *\n",
        "from sparknlp_jsl.annotator import *\n",
        "from sparknlp.base import *\n",
        "import sparknlp_jsl\n",
        "import sparknlp\n",
        "\n",
        "from sparknlp.util import *\n",
        "from sparknlp.pretrained import ResourceDownloader\n",
        "from pyspark.sql import functions as F\n",
        "\n",
        "import pandas as pd\n",
        "\n",
        "pd.set_option('display.max_columns', None)  \n",
        "pd.set_option('display.expand_frame_repr', False)\n",
        "pd.set_option('max_colwidth', None)\n",
        "\n",
        "import string\n",
        "import numpy as np\n",
        "\n",
        "params = {\"spark.driver.memory\":\"16G\",\n",
        "          \"spark.kryoserializer.buffer.max\":\"2000M\",\n",
        "          \"spark.driver.maxResultSize\":\"2000M\"}\n",
        "\n",
        "spark = sparknlp_jsl.start(secret = SECRET, params=params)\n",
        "\n",
        "print (\"Spark NLP Version :\", sparknlp.version())\n",
        "print (\"Spark NLP_JSL Version :\", sparknlp_jsl.version())"
      ]
    },
    {
      "cell_type": "code",
      "execution_count": null,
      "metadata": {
        "id": "VtLIEJtPf88T"
      },
      "outputs": [],
      "source": [
        "# if you want to start the session with custom params as in start function above\n",
        "from pyspark.sql import SparkSession\n",
        "\n",
        "def start(SECRET):\n",
        "    builder = SparkSession.builder \\\n",
        "        .appName(\"Spark NLP Licensed\") \\\n",
        "        .master(\"local[*]\") \\\n",
        "        .config(\"spark.driver.memory\", \"16G\") \\\n",
        "        .config(\"spark.serializer\", \"org.apache.spark.serializer.KryoSerializer\") \\\n",
        "        .config(\"spark.kryoserializer.buffer.max\", \"2000M\") \\\n",
        "        .config(\"spark.jars.packages\", \"com.johnsnowlabs.nlp:spark-nlp_2.12:\"+PUBLIC_VERSION) \\\n",
        "        .config(\"spark.jars\", \"https://pypi.johnsnowlabs.com/\"+SECRET+\"/spark-nlp-jsl-\"+JSL_VERSION+\".jar\")\n",
        "      \n",
        "    return builder.getOrCreate()\n",
        "\n",
        "#spark = start(SECRET)"
      ]
    },
    {
      "cell_type": "code",
      "execution_count": null,
      "metadata": {
        "colab": {
          "base_uri": "https://localhost:8080/",
          "height": 216
        },
        "id": "V1wrGrq0GClP",
        "outputId": "e7ecbe6d-2237-436e-8d88-0e8043745fd4"
      },
      "outputs": [
        {
          "output_type": "execute_result",
          "data": {
            "text/html": [
              "\n",
              "            <div>\n",
              "                <p><b>SparkSession - in-memory</b></p>\n",
              "                \n",
              "        <div>\n",
              "            <p><b>SparkContext</b></p>\n",
              "\n",
              "            <p><a href=\"http://39a2e81fc69d:4040\">Spark UI</a></p>\n",
              "\n",
              "            <dl>\n",
              "              <dt>Version</dt>\n",
              "                <dd><code>v3.1.2</code></dd>\n",
              "              <dt>Master</dt>\n",
              "                <dd><code>local[*]</code></dd>\n",
              "              <dt>AppName</dt>\n",
              "                <dd><code>Spark NLP Licensed</code></dd>\n",
              "            </dl>\n",
              "        </div>\n",
              "        \n",
              "            </div>\n",
              "        "
            ],
            "text/plain": [
              "<pyspark.sql.session.SparkSession at 0x7f2ef1dfa810>"
            ]
          },
          "metadata": {},
          "execution_count": 4
        }
      ],
      "source": [
        "spark"
      ]
    },
    {
      "cell_type": "markdown",
      "metadata": {
        "id": "rFQifkFYihOc"
      },
      "source": [
        "# Deidentification Model"
      ]
    },
    {
      "cell_type": "markdown",
      "metadata": {
        "id": "2eY0jM7kf88f"
      },
      "source": [
        "Protected Health Information: \n",
        "- individual’s past, present, or future physical or mental health or condition\n",
        "- provision of health care to the individual\n",
        "- past, present, or future payment for the health care \n",
        "\n",
        "Protected health information includes many common identifiers (e.g., name, address, birth date, Social Security Number) when they can be associated with the health information."
      ]
    },
    {
      "cell_type": "markdown",
      "metadata": {
        "id": "ZKln9C7Ef88f"
      },
      "source": [
        "Load NER pipeline to identify protected entities:"
      ]
    },
    {
      "cell_type": "code",
      "execution_count": null,
      "metadata": {
        "colab": {
          "base_uri": "https://localhost:8080/"
        },
        "id": "qHzG7Wvhgcex",
        "outputId": "09aa5aef-9c58-4770-c373-d5177494c8a7"
      },
      "outputs": [
        {
          "output_type": "stream",
          "name": "stdout",
          "text": [
            "embeddings_clinical download started this may take some time.\n",
            "Approximate size to download 1.6 GB\n",
            "[OK!]\n",
            "ner_deid_generic_augmented download started this may take some time.\n",
            "Approximate size to download 13.8 MB\n",
            "[OK!]\n"
          ]
        }
      ],
      "source": [
        "documentAssembler = DocumentAssembler()\\\n",
        "      .setInputCol(\"text\")\\\n",
        "      .setOutputCol(\"document\")\n",
        "\n",
        "# Sentence Detector annotator, processes various sentences per line\n",
        "\n",
        "sentenceDetector = SentenceDetector()\\\n",
        "      .setInputCols([\"document\"])\\\n",
        "      .setOutputCol(\"sentence\")\n",
        "\n",
        "# Tokenizer splits words in a relevant format for NLP\n",
        "\n",
        "tokenizer = Tokenizer()\\\n",
        "      .setInputCols([\"sentence\"])\\\n",
        "      .setOutputCol(\"token\")\n",
        "\n",
        "# Clinical word embeddings trained on PubMED dataset\n",
        "\n",
        "word_embeddings = WordEmbeddingsModel.pretrained(\"embeddings_clinical\", \"en\", \"clinical/models\")\\\n",
        "      .setInputCols([\"sentence\", \"token\"])\\\n",
        "      .setOutputCol(\"embeddings\")\n",
        "\n",
        "# NER model trained on n2c2 (de-identification and Heart Disease Risk Factors Challenge) datasets)\n",
        "\n",
        "clinical_ner = MedicalNerModel.pretrained(\"ner_deid_generic_augmented\", \"en\", \"clinical/models\") \\\n",
        "      .setInputCols([\"sentence\", \"token\", \"embeddings\"]) \\\n",
        "      .setOutputCol(\"ner\")\n",
        "\n",
        "ner_converter = NerConverterInternal()\\\n",
        "      .setInputCols([\"sentence\", \"token\", \"ner\"])\\\n",
        "      .setOutputCol(\"ner_chunk\")\n",
        "\n",
        "nlpPipeline = Pipeline(stages=[\n",
        "      documentAssembler, \n",
        "      sentenceDetector,\n",
        "      tokenizer,\n",
        "      word_embeddings,\n",
        "      clinical_ner,\n",
        "      ner_converter])\n",
        "\n",
        "empty_data = spark.createDataFrame([[\"\"]]).toDF(\"text\")\n",
        "\n",
        "model = nlpPipeline.fit(empty_data)"
      ]
    },
    {
      "cell_type": "markdown",
      "metadata": {
        "id": "woAJhVv6f88m"
      },
      "source": [
        "### Pretrained NER models extracts:\n",
        "\n",
        "- Name\n",
        "- Profession\n",
        "- Age\n",
        "- Date\n",
        "- Contact(Telephone numbers, FAX numbers, Email addresses)\n",
        "- Location (Address, City, Postal code, Hospital Name, Employment information)\n",
        "- Id (Social Security numbers, Medical record numbers, Internet protocol addresses)"
      ]
    },
    {
      "cell_type": "code",
      "execution_count": null,
      "metadata": {
        "id": "Fxdh4CBBf88n"
      },
      "outputs": [],
      "source": [
        "text ='''\n",
        "Record date : 2093-01-13 , David Hale , M.D . , Name : Hendrickson Ora , MR # 7194334 Date : 01/13/93 . PCP : Oliveira , 25 years-old , Record date : 2079-11-09 . Cocke County Baptist Hospital , 0295 Keats Street , Phone (302) 786-5227 .\n",
        "'''"
      ]
    },
    {
      "cell_type": "code",
      "execution_count": null,
      "metadata": {
        "id": "AE7cILT6f88q"
      },
      "outputs": [],
      "source": [
        "result = model.transform(spark.createDataFrame([[text]]).toDF(\"text\"))"
      ]
    },
    {
      "cell_type": "code",
      "execution_count": null,
      "metadata": {
        "id": "5cxcMyvLf88u"
      },
      "outputs": [],
      "source": [
        "result_df = result.select(F.explode(F.arrays_zip('token.result', 'ner.result')).alias(\"cols\")) \\\n",
        "                  .select(F.expr(\"cols['0']\").alias(\"token\"),\n",
        "                          F.expr(\"cols['1']\").alias(\"ner_label\"))"
      ]
    },
    {
      "cell_type": "code",
      "execution_count": null,
      "metadata": {
        "colab": {
          "base_uri": "https://localhost:8080/"
        },
        "id": "Nunb_ZZpar4q",
        "outputId": "d6f12084-0007-49b5-b9ba-2556ff6955e4"
      },
      "outputs": [
        {
          "output_type": "stream",
          "name": "stdout",
          "text": [
            "+----------+-----+\n",
            "|ner_label |count|\n",
            "+----------+-----+\n",
            "|O         |29   |\n",
            "|I-LOCATION|5    |\n",
            "|B-DATE    |3    |\n",
            "|B-NAME    |3    |\n",
            "|I-CONTACT |3    |\n",
            "|I-NAME    |2    |\n",
            "|B-LOCATION|2    |\n",
            "|B-ID      |1    |\n",
            "|B-CONTACT |1    |\n",
            "|B-AGE     |1    |\n",
            "+----------+-----+\n",
            "\n"
          ]
        }
      ],
      "source": [
        "result_df.select(\"token\", \"ner_label\").groupBy('ner_label').count().orderBy('count', ascending=False).show(truncate=False)"
      ]
    },
    {
      "cell_type": "markdown",
      "metadata": {
        "id": "DJvt31qlf880"
      },
      "source": [
        "### Check extracted sensetive entities"
      ]
    },
    {
      "cell_type": "code",
      "execution_count": null,
      "metadata": {
        "colab": {
          "base_uri": "https://localhost:8080/"
        },
        "id": "fLuOc_dQa9as",
        "outputId": "b3bc0752-f7bb-4e09-fd6d-5a39d52be6e1"
      },
      "outputs": [
        {
          "output_type": "stream",
          "name": "stdout",
          "text": [
            "+-----------------------------+---------+\n",
            "|chunk                        |ner_label|\n",
            "+-----------------------------+---------+\n",
            "|2093-01-13                   |DATE     |\n",
            "|David Hale                   |NAME     |\n",
            "|Hendrickson Ora              |NAME     |\n",
            "|7194334                      |ID       |\n",
            "|01/13/93                     |DATE     |\n",
            "|Oliveira                     |NAME     |\n",
            "|25                           |AGE      |\n",
            "|2079-11-09                   |DATE     |\n",
            "|Cocke County Baptist Hospital|LOCATION |\n",
            "|0295 Keats Street            |LOCATION |\n",
            "|(302) 786-5227               |CONTACT  |\n",
            "+-----------------------------+---------+\n",
            "\n"
          ]
        }
      ],
      "source": [
        "result.select(F.explode(F.arrays_zip('ner_chunk.result', 'ner_chunk.metadata')).alias(\"cols\")) \\\n",
        "      .select(F.expr(\"cols['0']\").alias(\"chunk\"),\n",
        "              F.expr(\"cols['1']['entity']\").alias(\"ner_label\")).show(truncate=False)"
      ]
    },
    {
      "cell_type": "markdown",
      "metadata": {
        "id": "EkD3zogqf89Q"
      },
      "source": [
        "### Excluding entities from deidentification"
      ]
    },
    {
      "cell_type": "markdown",
      "metadata": {
        "id": "my04HL3rf89Q"
      },
      "source": [
        "Sometimes we need to leave some entities in the text, for example, if we want to analyze the frequency of the disease by the hospital. In this case, we need to use parameter **`setWhiteList()`** to modify `ner_chunk` output. This parameter having using a list of entities type to deidentify as an input. So, if we want to leave the location in the list we need to remove this tag from the list:"
      ]
    },
    {
      "cell_type": "code",
      "execution_count": null,
      "metadata": {
        "id": "3Bj066u9f89R"
      },
      "outputs": [],
      "source": [
        "ner_converter = NerConverterInternal()\\\n",
        "    .setInputCols([\"sentence\", \"token\", \"ner\"])\\\n",
        "    .setOutputCol(\"ner_chunk\") \\\n",
        "    .setWhiteList(['NAME', 'PROFESSION', 'ID', 'AGE', 'DATE'])\n",
        "\n",
        "nlpPipeline = Pipeline(stages=[\n",
        "    documentAssembler, \n",
        "    sentenceDetector,\n",
        "    tokenizer,\n",
        "    word_embeddings,\n",
        "    clinical_ner,\n",
        "    ner_converter])\n",
        "\n",
        "empty_data = spark.createDataFrame([[\"\"]]).toDF(\"text\")\n",
        "\n",
        "model_with_white_list = nlpPipeline.fit(empty_data)"
      ]
    },
    {
      "cell_type": "code",
      "execution_count": null,
      "metadata": {
        "id": "oWNZR2trf89U"
      },
      "outputs": [],
      "source": [
        "result_with_white_list = model_with_white_list.transform(spark.createDataFrame([[text]]).toDF(\"text\"))"
      ]
    },
    {
      "cell_type": "code",
      "execution_count": null,
      "metadata": {
        "colab": {
          "base_uri": "https://localhost:8080/"
        },
        "id": "u37rm6C3bePi",
        "outputId": "e4295063-67e2-49ad-e3e6-93e90be39b28"
      },
      "outputs": [
        {
          "output_type": "stream",
          "name": "stdout",
          "text": [
            "All Labels :\n",
            "+-----------------------------+---------+\n",
            "|chunk                        |ner_label|\n",
            "+-----------------------------+---------+\n",
            "|2093-01-13                   |DATE     |\n",
            "|David Hale                   |NAME     |\n",
            "|Hendrickson Ora              |NAME     |\n",
            "|7194334                      |ID       |\n",
            "|01/13/93                     |DATE     |\n",
            "|Oliveira                     |NAME     |\n",
            "|25                           |AGE      |\n",
            "|2079-11-09                   |DATE     |\n",
            "|Cocke County Baptist Hospital|LOCATION |\n",
            "|0295 Keats Street            |LOCATION |\n",
            "|(302) 786-5227               |CONTACT  |\n",
            "+-----------------------------+---------+\n",
            "\n",
            "WhiteListed Labels: \n",
            "+---------------+---------+\n",
            "|chunk          |ner_label|\n",
            "+---------------+---------+\n",
            "|2093-01-13     |DATE     |\n",
            "|David Hale     |NAME     |\n",
            "|Hendrickson Ora|NAME     |\n",
            "|7194334        |ID       |\n",
            "|01/13/93       |DATE     |\n",
            "|Oliveira       |NAME     |\n",
            "|25             |AGE      |\n",
            "|2079-11-09     |DATE     |\n",
            "+---------------+---------+\n",
            "\n"
          ]
        }
      ],
      "source": [
        "print(\"All Labels :\")\n",
        "result.select(F.explode(F.arrays_zip('ner_chunk.result', 'ner_chunk.metadata')).alias(\"cols\")) \\\n",
        "      .select(F.expr(\"cols['0']\").alias(\"chunk\"),\n",
        "              F.expr(\"cols['1']['entity']\").alias(\"ner_label\")).show(truncate=False)\n",
        "\n",
        "print(\"WhiteListed Labels: \")\n",
        "result_with_white_list.select(F.explode(F.arrays_zip('ner_chunk.result', 'ner_chunk.metadata')).alias(\"cols\")) \\\n",
        "                      .select(F.expr(\"cols['0']\").alias(\"chunk\"),\n",
        "                              F.expr(\"cols['1']['entity']\").alias(\"ner_label\")).show(truncate=False)"
      ]
    },
    {
      "cell_type": "markdown",
      "metadata": {
        "id": "rckvYUKVf89b"
      },
      "source": [
        "## Masking and Obfuscation"
      ]
    },
    {
      "cell_type": "markdown",
      "metadata": {
        "id": "HLt9SFX5f89b"
      },
      "source": [
        "### Replace this enitites with Tags"
      ]
    },
    {
      "cell_type": "code",
      "execution_count": null,
      "metadata": {
        "id": "WaFe5bZzhEXT"
      },
      "outputs": [],
      "source": [
        "ner_converter = NerConverterInternal()\\\n",
        "      .setInputCols([\"sentence\", \"token\", \"ner\"])\\\n",
        "      .setOutputCol(\"ner_chunk\") \n",
        "\n",
        "deidentification = DeIdentification() \\\n",
        "      .setInputCols([\"sentence\", \"token\", \"ner_chunk\"]) \\\n",
        "      .setOutputCol(\"deidentified\") \\\n",
        "      .setMode(\"mask\")\\\n",
        "      .setReturnEntityMappings(True) #  return a new column to save the mappings between the mask/obfuscated entities and original entities.\n",
        "      #.setMappingsColumn(\"MappingCol\") # change the name of the column, 'aux' is default\n",
        "\n",
        "deidPipeline = Pipeline(stages=[\n",
        "      documentAssembler, \n",
        "      sentenceDetector,\n",
        "      tokenizer,\n",
        "      word_embeddings,\n",
        "      clinical_ner,\n",
        "      ner_converter,\n",
        "      deidentification])\n",
        "\n",
        "empty_data = spark.createDataFrame([[\"\"]]).toDF(\"text\")\n",
        "\n",
        "model_deid = deidPipeline.fit(empty_data)"
      ]
    },
    {
      "cell_type": "code",
      "execution_count": null,
      "metadata": {
        "id": "CZ3QgzH2AD-h"
      },
      "outputs": [],
      "source": [
        "result = model_deid.transform(spark.createDataFrame([[text]]).toDF(\"text\"))"
      ]
    },
    {
      "cell_type": "code",
      "execution_count": null,
      "metadata": {
        "colab": {
          "base_uri": "https://localhost:8080/"
        },
        "id": "JR12_5hPdkg5",
        "outputId": "a2701166-9344-498a-a61f-01d69d428726"
      },
      "outputs": [
        {
          "output_type": "stream",
          "name": "stdout",
          "text": [
            "+--------------------+--------------------+--------------------+--------------------+--------------------+--------------------+--------------------+--------------------+--------------------+\n",
            "|                text|            document|            sentence|               token|          embeddings|                 ner|           ner_chunk|        deidentified|                 aux|\n",
            "+--------------------+--------------------+--------------------+--------------------+--------------------+--------------------+--------------------+--------------------+--------------------+\n",
            "|\n",
            "Record date : 20...|[{document, 0, 23...|[{document, 1, 45...|[{token, 1, 6, Re...|[{word_embeddings...|[{named_entity, 1...|[{chunk, 15, 24, ...|[{document, 0, 36...|[{chunk, 14, 19, ...|\n",
            "+--------------------+--------------------+--------------------+--------------------+--------------------+--------------------+--------------------+--------------------+--------------------+\n",
            "\n"
          ]
        }
      ],
      "source": [
        "result.show()"
      ]
    },
    {
      "cell_type": "code",
      "execution_count": null,
      "metadata": {
        "colab": {
          "base_uri": "https://localhost:8080/",
          "height": 173
        },
        "id": "sI1C9hJzbyl3",
        "outputId": "904fc6b9-bba2-456b-ed4b-21c62f088cb1"
      },
      "outputs": [
        {
          "output_type": "execute_result",
          "data": {
            "text/html": [
              "\n",
              "  <div id=\"df-9769117d-8724-4e60-9fc6-3132f4dbf44f\">\n",
              "    <div class=\"colab-df-container\">\n",
              "      <div>\n",
              "<style scoped>\n",
              "    .dataframe tbody tr th:only-of-type {\n",
              "        vertical-align: middle;\n",
              "    }\n",
              "\n",
              "    .dataframe tbody tr th {\n",
              "        vertical-align: top;\n",
              "    }\n",
              "\n",
              "    .dataframe thead th {\n",
              "        text-align: right;\n",
              "    }\n",
              "</style>\n",
              "<table border=\"1\" class=\"dataframe\">\n",
              "  <thead>\n",
              "    <tr style=\"text-align: right;\">\n",
              "      <th></th>\n",
              "      <th>sentence</th>\n",
              "      <th>deidentified</th>\n",
              "    </tr>\n",
              "  </thead>\n",
              "  <tbody>\n",
              "    <tr>\n",
              "      <th>0</th>\n",
              "      <td>Record date : 2093-01-13 , David Hale , M.D .</td>\n",
              "      <td>Record date : &lt;DATE&gt; , &lt;NAME&gt; , M.D .</td>\n",
              "    </tr>\n",
              "    <tr>\n",
              "      <th>1</th>\n",
              "      <td>, Name : Hendrickson Ora , MR # 7194334 Date : 01/13/93 .</td>\n",
              "      <td>, Name : &lt;NAME&gt; , MR # &lt;ID&gt; Date : &lt;DATE&gt; .</td>\n",
              "    </tr>\n",
              "    <tr>\n",
              "      <th>2</th>\n",
              "      <td>PCP : Oliveira , 25 years-old , Record date : 2079-11-09 .</td>\n",
              "      <td>PCP : &lt;NAME&gt; , &lt;AGE&gt; years-old , Record date : &lt;DATE&gt; .</td>\n",
              "    </tr>\n",
              "    <tr>\n",
              "      <th>3</th>\n",
              "      <td>Cocke County Baptist Hospital , 0295 Keats Street , Phone (302) 786-5227 .</td>\n",
              "      <td>&lt;LOCATION&gt; , &lt;LOCATION&gt; , Phone &lt;CONTACT&gt; .</td>\n",
              "    </tr>\n",
              "  </tbody>\n",
              "</table>\n",
              "</div>\n",
              "      <button class=\"colab-df-convert\" onclick=\"convertToInteractive('df-9769117d-8724-4e60-9fc6-3132f4dbf44f')\"\n",
              "              title=\"Convert this dataframe to an interactive table.\"\n",
              "              style=\"display:none;\">\n",
              "        \n",
              "  <svg xmlns=\"http://www.w3.org/2000/svg\" height=\"24px\"viewBox=\"0 0 24 24\"\n",
              "       width=\"24px\">\n",
              "    <path d=\"M0 0h24v24H0V0z\" fill=\"none\"/>\n",
              "    <path d=\"M18.56 5.44l.94 2.06.94-2.06 2.06-.94-2.06-.94-.94-2.06-.94 2.06-2.06.94zm-11 1L8.5 8.5l.94-2.06 2.06-.94-2.06-.94L8.5 2.5l-.94 2.06-2.06.94zm10 10l.94 2.06.94-2.06 2.06-.94-2.06-.94-.94-2.06-.94 2.06-2.06.94z\"/><path d=\"M17.41 7.96l-1.37-1.37c-.4-.4-.92-.59-1.43-.59-.52 0-1.04.2-1.43.59L10.3 9.45l-7.72 7.72c-.78.78-.78 2.05 0 2.83L4 21.41c.39.39.9.59 1.41.59.51 0 1.02-.2 1.41-.59l7.78-7.78 2.81-2.81c.8-.78.8-2.07 0-2.86zM5.41 20L4 18.59l7.72-7.72 1.47 1.35L5.41 20z\"/>\n",
              "  </svg>\n",
              "      </button>\n",
              "      \n",
              "  <style>\n",
              "    .colab-df-container {\n",
              "      display:flex;\n",
              "      flex-wrap:wrap;\n",
              "      gap: 12px;\n",
              "    }\n",
              "\n",
              "    .colab-df-convert {\n",
              "      background-color: #E8F0FE;\n",
              "      border: none;\n",
              "      border-radius: 50%;\n",
              "      cursor: pointer;\n",
              "      display: none;\n",
              "      fill: #1967D2;\n",
              "      height: 32px;\n",
              "      padding: 0 0 0 0;\n",
              "      width: 32px;\n",
              "    }\n",
              "\n",
              "    .colab-df-convert:hover {\n",
              "      background-color: #E2EBFA;\n",
              "      box-shadow: 0px 1px 2px rgba(60, 64, 67, 0.3), 0px 1px 3px 1px rgba(60, 64, 67, 0.15);\n",
              "      fill: #174EA6;\n",
              "    }\n",
              "\n",
              "    [theme=dark] .colab-df-convert {\n",
              "      background-color: #3B4455;\n",
              "      fill: #D2E3FC;\n",
              "    }\n",
              "\n",
              "    [theme=dark] .colab-df-convert:hover {\n",
              "      background-color: #434B5C;\n",
              "      box-shadow: 0px 1px 3px 1px rgba(0, 0, 0, 0.15);\n",
              "      filter: drop-shadow(0px 1px 2px rgba(0, 0, 0, 0.3));\n",
              "      fill: #FFFFFF;\n",
              "    }\n",
              "  </style>\n",
              "\n",
              "      <script>\n",
              "        const buttonEl =\n",
              "          document.querySelector('#df-9769117d-8724-4e60-9fc6-3132f4dbf44f button.colab-df-convert');\n",
              "        buttonEl.style.display =\n",
              "          google.colab.kernel.accessAllowed ? 'block' : 'none';\n",
              "\n",
              "        async function convertToInteractive(key) {\n",
              "          const element = document.querySelector('#df-9769117d-8724-4e60-9fc6-3132f4dbf44f');\n",
              "          const dataTable =\n",
              "            await google.colab.kernel.invokeFunction('convertToInteractive',\n",
              "                                                     [key], {});\n",
              "          if (!dataTable) return;\n",
              "\n",
              "          const docLinkHtml = 'Like what you see? Visit the ' +\n",
              "            '<a target=\"_blank\" href=https://colab.research.google.com/notebooks/data_table.ipynb>data table notebook</a>'\n",
              "            + ' to learn more about interactive tables.';\n",
              "          element.innerHTML = '';\n",
              "          dataTable['output_type'] = 'display_data';\n",
              "          await google.colab.output.renderOutput(dataTable, element);\n",
              "          const docLink = document.createElement('div');\n",
              "          docLink.innerHTML = docLinkHtml;\n",
              "          element.appendChild(docLink);\n",
              "        }\n",
              "      </script>\n",
              "    </div>\n",
              "  </div>\n",
              "  "
            ],
            "text/plain": [
              "                                                                     sentence                                             deidentified\n",
              "0                               Record date : 2093-01-13 , David Hale , M.D .                    Record date : <DATE> , <NAME> , M.D .\n",
              "1                   , Name : Hendrickson Ora , MR # 7194334 Date : 01/13/93 .              , Name : <NAME> , MR # <ID> Date : <DATE> .\n",
              "2                  PCP : Oliveira , 25 years-old , Record date : 2079-11-09 .  PCP : <NAME> , <AGE> years-old , Record date : <DATE> .\n",
              "3  Cocke County Baptist Hospital , 0295 Keats Street , Phone (302) 786-5227 .              <LOCATION> , <LOCATION> , Phone <CONTACT> ."
            ]
          },
          "metadata": {},
          "execution_count": 17
        }
      ],
      "source": [
        "result.select(F.explode(F.arrays_zip('sentence.result', 'deidentified.result')).alias(\"cols\")) \\\n",
        "      .select(F.expr(\"cols['0']\").alias(\"sentence\"), F.expr(\"cols['1']\").alias(\"deidentified\")).toPandas()"
      ]
    },
    {
      "cell_type": "markdown",
      "source": [
        "We have three modes to mask the entities in the Deidentification annotator. You can select the modes using the `.setMaskingPolicy()` parameter. The methods are the followings:\n",
        "\n",
        "**“entity_labels”**: Mask with the entity type of that chunk. (default) <br/>\n",
        "**“same_length_chars”**: Mask the deid entities with same length of asterix ( * ) with brackets ( [ , ] ) on both end. <br/>\n",
        "**“fixed_length_chars”**: Mask the deid entities with a fixed length of asterix ( * ). The length is setting up using the `setFixedMaskLength()` method. <br/>\n",
        "Let's try each of these and compare the results. "
      ],
      "metadata": {
        "id": "GHx17rSxOPeJ"
      }
    },
    {
      "cell_type": "code",
      "source": [
        "#deid model with \"entity_labels\"\n",
        "deid_entity_labels= DeIdentification()\\\n",
        "      .setInputCols([\"sentence\", \"token\", \"ner_chunk\"])\\\n",
        "      .setOutputCol(\"deid_entity_label\")\\\n",
        "      .setMode(\"mask\")\\\n",
        "      .setReturnEntityMappings(True)\\\n",
        "      .setMaskingPolicy(\"entity_labels\")\n",
        "\n",
        "#deid model with \"same_length_chars\"\n",
        "deid_same_length= DeIdentification()\\\n",
        "      .setInputCols([\"sentence\", \"token\", \"ner_chunk\"])\\\n",
        "      .setOutputCol(\"deid_same_length\")\\\n",
        "      .setMode(\"mask\")\\\n",
        "      .setReturnEntityMappings(True)\\\n",
        "      .setMaskingPolicy(\"same_length_chars\")\n",
        "\n",
        "#deid model with \"fixed_length_chars\"\n",
        "deid_fixed_length= DeIdentification()\\\n",
        "      .setInputCols([\"sentence\", \"token\", \"ner_chunk\"])\\\n",
        "      .setOutputCol(\"deid_fixed_length\")\\\n",
        "      .setMode(\"mask\")\\\n",
        "      .setReturnEntityMappings(True)\\\n",
        "      .setMaskingPolicy(\"fixed_length_chars\")\\\n",
        "      .setFixedMaskLength(4)\n",
        "\n",
        "\n",
        "deidPipeline = Pipeline(stages=[\n",
        "      documentAssembler, \n",
        "      sentenceDetector,\n",
        "      tokenizer,\n",
        "      word_embeddings,\n",
        "      clinical_ner,\n",
        "      ner_converter,\n",
        "      deid_entity_labels,\n",
        "      deid_same_length,\n",
        "      deid_fixed_length])\n",
        "\n",
        "\n",
        "empty_data = spark.createDataFrame([[\"\"]]).toDF(\"text\")\n",
        "model_deid = deidPipeline.fit(empty_data)"
      ],
      "metadata": {
        "id": "ULCxSmu6OIcE"
      },
      "execution_count": null,
      "outputs": []
    },
    {
      "cell_type": "code",
      "source": [
        "policy_result = model_deid.transform(spark.createDataFrame([[text]]).toDF(\"text\"))"
      ],
      "metadata": {
        "id": "i0dOky9hOIV4"
      },
      "execution_count": null,
      "outputs": []
    },
    {
      "cell_type": "code",
      "source": [
        "policy_result.show()"
      ],
      "metadata": {
        "colab": {
          "base_uri": "https://localhost:8080/"
        },
        "id": "SpGRUvM7OINj",
        "outputId": "f352b270-478f-4d7c-f264-cf5eb4f07643"
      },
      "execution_count": null,
      "outputs": [
        {
          "output_type": "stream",
          "name": "stdout",
          "text": [
            "+--------------------+--------------------+--------------------+--------------------+--------------------+--------------------+--------------------+--------------------+--------------------+--------------------+--------------------+\n",
            "|                text|            document|            sentence|               token|          embeddings|                 ner|           ner_chunk|   deid_entity_label|                 aux|    deid_same_length|   deid_fixed_length|\n",
            "+--------------------+--------------------+--------------------+--------------------+--------------------+--------------------+--------------------+--------------------+--------------------+--------------------+--------------------+\n",
            "|\n",
            "Record date : 20...|[{document, 0, 23...|[{document, 1, 45...|[{token, 1, 6, Re...|[{word_embeddings...|[{named_entity, 1...|[{chunk, 15, 24, ...|[{document, 0, 36...|[{chunk, 14, 17, ...|[{document, 0, 44...|[{document, 0, 32...|\n",
            "+--------------------+--------------------+--------------------+--------------------+--------------------+--------------------+--------------------+--------------------+--------------------+--------------------+--------------------+\n",
            "\n"
          ]
        }
      ]
    },
    {
      "cell_type": "code",
      "source": [
        "policy_result.select(F.explode(F.arrays_zip('sentence.result', 'deid_entity_label.result', 'deid_same_length.result', 'deid_fixed_length.result')).alias(\"cols\")) \\\n",
        "             .select(F.expr(\"cols['0']\").alias(\"sentence\"),\n",
        "                     F.expr(\"cols['1']\").alias(\"deid_entity_label\"),\n",
        "                     F.expr(\"cols['2']\").alias(\"deid_same_length\"),\n",
        "                     F.expr(\"cols['3']\").alias(\"deid_fixed_length\")).toPandas()"
      ],
      "metadata": {
        "colab": {
          "base_uri": "https://localhost:8080/",
          "height": 285
        },
        "id": "AKXgnr8EOW3j",
        "outputId": "d9062d5d-4321-4383-f0a0-bf301e64f998"
      },
      "execution_count": null,
      "outputs": [
        {
          "output_type": "execute_result",
          "data": {
            "text/html": [
              "\n",
              "  <div id=\"df-9a057795-bca5-468d-af6a-c1143a9bf3cd\">\n",
              "    <div class=\"colab-df-container\">\n",
              "      <div>\n",
              "<style scoped>\n",
              "    .dataframe tbody tr th:only-of-type {\n",
              "        vertical-align: middle;\n",
              "    }\n",
              "\n",
              "    .dataframe tbody tr th {\n",
              "        vertical-align: top;\n",
              "    }\n",
              "\n",
              "    .dataframe thead th {\n",
              "        text-align: right;\n",
              "    }\n",
              "</style>\n",
              "<table border=\"1\" class=\"dataframe\">\n",
              "  <thead>\n",
              "    <tr style=\"text-align: right;\">\n",
              "      <th></th>\n",
              "      <th>sentence</th>\n",
              "      <th>deid_entity_label</th>\n",
              "      <th>deid_same_length</th>\n",
              "      <th>deid_fixed_length</th>\n",
              "    </tr>\n",
              "  </thead>\n",
              "  <tbody>\n",
              "    <tr>\n",
              "      <th>0</th>\n",
              "      <td>Record date : 2093-01-13 , David Hale , M.D .</td>\n",
              "      <td>Record date : &lt;DATE&gt; , &lt;NAME&gt; , M.D .</td>\n",
              "      <td>Record date : [********] , [********] , M.D .</td>\n",
              "      <td>Record date : **** , **** , M.D .</td>\n",
              "    </tr>\n",
              "    <tr>\n",
              "      <th>1</th>\n",
              "      <td>, Name : Hendrickson Ora , MR # 7194334 Date : 01/13/93 .</td>\n",
              "      <td>, Name : &lt;NAME&gt; , MR # &lt;ID&gt; Date : &lt;DATE&gt; .</td>\n",
              "      <td>, Name : [*************] , MR # [*****] Date : [******] .</td>\n",
              "      <td>, Name : **** , MR # **** Date : **** .</td>\n",
              "    </tr>\n",
              "    <tr>\n",
              "      <th>2</th>\n",
              "      <td>PCP : Oliveira , 25 years-old , Record date : 2079-11-09 .</td>\n",
              "      <td>PCP : &lt;NAME&gt; , &lt;AGE&gt; years-old , Record date : &lt;DATE&gt; .</td>\n",
              "      <td>PCP : [******] , ** years-old , Record date : [********] .</td>\n",
              "      <td>PCP : **** , **** years-old , Record date : **** .</td>\n",
              "    </tr>\n",
              "    <tr>\n",
              "      <th>3</th>\n",
              "      <td>Cocke County Baptist Hospital , 0295 Keats Street , Phone (302) 786-5227 .</td>\n",
              "      <td>&lt;LOCATION&gt; , &lt;LOCATION&gt; , Phone &lt;CONTACT&gt; .</td>\n",
              "      <td>[***************************] , [***************] , Phone [************] .</td>\n",
              "      <td>**** , **** , Phone **** .</td>\n",
              "    </tr>\n",
              "  </tbody>\n",
              "</table>\n",
              "</div>\n",
              "      <button class=\"colab-df-convert\" onclick=\"convertToInteractive('df-9a057795-bca5-468d-af6a-c1143a9bf3cd')\"\n",
              "              title=\"Convert this dataframe to an interactive table.\"\n",
              "              style=\"display:none;\">\n",
              "        \n",
              "  <svg xmlns=\"http://www.w3.org/2000/svg\" height=\"24px\"viewBox=\"0 0 24 24\"\n",
              "       width=\"24px\">\n",
              "    <path d=\"M0 0h24v24H0V0z\" fill=\"none\"/>\n",
              "    <path d=\"M18.56 5.44l.94 2.06.94-2.06 2.06-.94-2.06-.94-.94-2.06-.94 2.06-2.06.94zm-11 1L8.5 8.5l.94-2.06 2.06-.94-2.06-.94L8.5 2.5l-.94 2.06-2.06.94zm10 10l.94 2.06.94-2.06 2.06-.94-2.06-.94-.94-2.06-.94 2.06-2.06.94z\"/><path d=\"M17.41 7.96l-1.37-1.37c-.4-.4-.92-.59-1.43-.59-.52 0-1.04.2-1.43.59L10.3 9.45l-7.72 7.72c-.78.78-.78 2.05 0 2.83L4 21.41c.39.39.9.59 1.41.59.51 0 1.02-.2 1.41-.59l7.78-7.78 2.81-2.81c.8-.78.8-2.07 0-2.86zM5.41 20L4 18.59l7.72-7.72 1.47 1.35L5.41 20z\"/>\n",
              "  </svg>\n",
              "      </button>\n",
              "      \n",
              "  <style>\n",
              "    .colab-df-container {\n",
              "      display:flex;\n",
              "      flex-wrap:wrap;\n",
              "      gap: 12px;\n",
              "    }\n",
              "\n",
              "    .colab-df-convert {\n",
              "      background-color: #E8F0FE;\n",
              "      border: none;\n",
              "      border-radius: 50%;\n",
              "      cursor: pointer;\n",
              "      display: none;\n",
              "      fill: #1967D2;\n",
              "      height: 32px;\n",
              "      padding: 0 0 0 0;\n",
              "      width: 32px;\n",
              "    }\n",
              "\n",
              "    .colab-df-convert:hover {\n",
              "      background-color: #E2EBFA;\n",
              "      box-shadow: 0px 1px 2px rgba(60, 64, 67, 0.3), 0px 1px 3px 1px rgba(60, 64, 67, 0.15);\n",
              "      fill: #174EA6;\n",
              "    }\n",
              "\n",
              "    [theme=dark] .colab-df-convert {\n",
              "      background-color: #3B4455;\n",
              "      fill: #D2E3FC;\n",
              "    }\n",
              "\n",
              "    [theme=dark] .colab-df-convert:hover {\n",
              "      background-color: #434B5C;\n",
              "      box-shadow: 0px 1px 3px 1px rgba(0, 0, 0, 0.15);\n",
              "      filter: drop-shadow(0px 1px 2px rgba(0, 0, 0, 0.3));\n",
              "      fill: #FFFFFF;\n",
              "    }\n",
              "  </style>\n",
              "\n",
              "      <script>\n",
              "        const buttonEl =\n",
              "          document.querySelector('#df-9a057795-bca5-468d-af6a-c1143a9bf3cd button.colab-df-convert');\n",
              "        buttonEl.style.display =\n",
              "          google.colab.kernel.accessAllowed ? 'block' : 'none';\n",
              "\n",
              "        async function convertToInteractive(key) {\n",
              "          const element = document.querySelector('#df-9a057795-bca5-468d-af6a-c1143a9bf3cd');\n",
              "          const dataTable =\n",
              "            await google.colab.kernel.invokeFunction('convertToInteractive',\n",
              "                                                     [key], {});\n",
              "          if (!dataTable) return;\n",
              "\n",
              "          const docLinkHtml = 'Like what you see? Visit the ' +\n",
              "            '<a target=\"_blank\" href=https://colab.research.google.com/notebooks/data_table.ipynb>data table notebook</a>'\n",
              "            + ' to learn more about interactive tables.';\n",
              "          element.innerHTML = '';\n",
              "          dataTable['output_type'] = 'display_data';\n",
              "          await google.colab.output.renderOutput(dataTable, element);\n",
              "          const docLink = document.createElement('div');\n",
              "          docLink.innerHTML = docLinkHtml;\n",
              "          element.appendChild(docLink);\n",
              "        }\n",
              "      </script>\n",
              "    </div>\n",
              "  </div>\n",
              "  "
            ],
            "text/plain": [
              "                                                                     sentence                                        deid_entity_label                                                            deid_same_length                                   deid_fixed_length\n",
              "0                               Record date : 2093-01-13 , David Hale , M.D .                    Record date : <DATE> , <NAME> , M.D .                               Record date : [********] , [********] , M.D .                   Record date : **** , **** , M.D .\n",
              "1                   , Name : Hendrickson Ora , MR # 7194334 Date : 01/13/93 .              , Name : <NAME> , MR # <ID> Date : <DATE> .                   , Name : [*************] , MR # [*****] Date : [******] .             , Name : **** , MR # **** Date : **** .\n",
              "2                  PCP : Oliveira , 25 years-old , Record date : 2079-11-09 .  PCP : <NAME> , <AGE> years-old , Record date : <DATE> .                  PCP : [******] , ** years-old , Record date : [********] .  PCP : **** , **** years-old , Record date : **** .\n",
              "3  Cocke County Baptist Hospital , 0295 Keats Street , Phone (302) 786-5227 .              <LOCATION> , <LOCATION> , Phone <CONTACT> .  [***************************] , [***************] , Phone [************] .                          **** , **** , Phone **** ."
            ]
          },
          "metadata": {},
          "execution_count": 21
        }
      ]
    },
    {
      "cell_type": "markdown",
      "metadata": {
        "id": "yxv9bu4Ifweb"
      },
      "source": [
        "### Mapping Column"
      ]
    },
    {
      "cell_type": "code",
      "execution_count": null,
      "metadata": {
        "colab": {
          "base_uri": "https://localhost:8080/"
        },
        "id": "zcaXaxRFd-n6",
        "outputId": "cfb076bc-f2c6-4133-d58b-fd2d8f2439f3"
      },
      "outputs": [
        {
          "output_type": "stream",
          "name": "stdout",
          "text": [
            "+-------------------------------------------------------------------------------------------------------------------------------------------------------------------------------------------------------------------------------------------------------------------------------------------------------------------------------------------------------------------------------------------------------------------------------------------------------------------------------------------------------------------------------------------------------------------------------------------------------------------------------------------------------------------------------------------------------------------------------------------------------------------------------------------------------------------------------------------------------------------------------------------------------------------------------------------------------------------------------------------------------------------------------------------------------------------------------------------------------------------------------------------------------------------------------------------------------------------------------------------------------------------------------------------------------------------------------------------------------------------------------------------------------------------------------------------------------------------------------------------------------------------------------------------------------------------------------------------------------------------------------------------------------------------------------------------------------------------------------------------------------------------------------------------------------------------------------------------------------------------------------------------------------------------------------------------------------------------------------------------------------------------------------------------------------------------------------------------------------------------------------------------------------------------------------------------------------------------------------------------------------------------------------------------------------------------------------------------------+\n",
            "|aux                                                                                                                                                                                                                                                                                                                                                                                                                                                                                                                                                                                                                                                                                                                                                                                                                                                                                                                                                                                                                                                                                                                                                                                                                                                                                                                                                                                                                                                                                                                                                                                                                                                                                                                                                                                                                                                                                                                                                                                                                                                                                                                                                                                                                                                                                                                                              |\n",
            "+-------------------------------------------------------------------------------------------------------------------------------------------------------------------------------------------------------------------------------------------------------------------------------------------------------------------------------------------------------------------------------------------------------------------------------------------------------------------------------------------------------------------------------------------------------------------------------------------------------------------------------------------------------------------------------------------------------------------------------------------------------------------------------------------------------------------------------------------------------------------------------------------------------------------------------------------------------------------------------------------------------------------------------------------------------------------------------------------------------------------------------------------------------------------------------------------------------------------------------------------------------------------------------------------------------------------------------------------------------------------------------------------------------------------------------------------------------------------------------------------------------------------------------------------------------------------------------------------------------------------------------------------------------------------------------------------------------------------------------------------------------------------------------------------------------------------------------------------------------------------------------------------------------------------------------------------------------------------------------------------------------------------------------------------------------------------------------------------------------------------------------------------------------------------------------------------------------------------------------------------------------------------------------------------------------------------------------------------------+\n",
            "|[{chunk, 14, 19, <DATE>, {originalChunk -> 2093-01-13, chunk -> 0, beginOriginalChunk -> 15, confidence -> 1.0, ner_source -> ner_chunk, entity -> DATE, endOriginalChunk -> 24, sentence -> 0}, []}, {chunk, 23, 28, <NAME>, {originalChunk -> David Hale, chunk -> 1, beginOriginalChunk -> 28, confidence -> 0.8414, ner_source -> ner_chunk, entity -> NAME, endOriginalChunk -> 37, sentence -> 0}, []}, {chunk, 46, 51, <NAME>, {originalChunk -> Hendrickson Ora, chunk -> 2, beginOriginalChunk -> 56, confidence -> 0.8069, ner_source -> ner_chunk, entity -> NAME, endOriginalChunk -> 70, sentence -> 1}, []}, {chunk, 60, 63, <ID>, {originalChunk -> 7194334, chunk -> 3, beginOriginalChunk -> 79, confidence -> 0.9962, ner_source -> ner_chunk, entity -> ID, endOriginalChunk -> 85, sentence -> 1}, []}, {chunk, 72, 77, <DATE>, {originalChunk -> 01/13/93, chunk -> 4, beginOriginalChunk -> 94, confidence -> 0.9992, ner_source -> ner_chunk, entity -> DATE, endOriginalChunk -> 101, sentence -> 1}, []}, {chunk, 86, 91, <NAME>, {originalChunk -> Oliveira, chunk -> 5, beginOriginalChunk -> 111, confidence -> 0.9838, ner_source -> ner_chunk, entity -> NAME, endOriginalChunk -> 118, sentence -> 2}, []}, {chunk, 95, 99, <AGE>, {originalChunk -> 25, chunk -> 6, beginOriginalChunk -> 122, confidence -> 0.6417, ner_source -> ner_chunk, entity -> AGE, endOriginalChunk -> 123, sentence -> 2}, []}, {chunk, 127, 132, <DATE>, {originalChunk -> 2079-11-09, chunk -> 7, beginOriginalChunk -> 151, confidence -> 0.9998, ner_source -> ner_chunk, entity -> DATE, endOriginalChunk -> 160, sentence -> 2}, []}, {chunk, 135, 144, <LOCATION>, {originalChunk -> Cocke County Baptist Hospital, chunk -> 8, beginOriginalChunk -> 164, confidence -> 0.97775, ner_source -> ner_chunk, entity -> LOCATION, endOriginalChunk -> 192, sentence -> 3}, []}, {chunk, 148, 157, <LOCATION>, {originalChunk -> 0295 Keats Street, chunk -> 9, beginOriginalChunk -> 196, confidence -> 0.9872, ner_source -> ner_chunk, entity -> LOCATION, endOriginalChunk -> 212, sentence -> 3}, []}, {chunk, 167, 175, <CONTACT>, {originalChunk -> (302) 786-5227, chunk -> 10, beginOriginalChunk -> 222, confidence -> 0.98945, ner_source -> ner_chunk, entity -> CONTACT, endOriginalChunk -> 235, sentence -> 3}, []}]|\n",
            "+-------------------------------------------------------------------------------------------------------------------------------------------------------------------------------------------------------------------------------------------------------------------------------------------------------------------------------------------------------------------------------------------------------------------------------------------------------------------------------------------------------------------------------------------------------------------------------------------------------------------------------------------------------------------------------------------------------------------------------------------------------------------------------------------------------------------------------------------------------------------------------------------------------------------------------------------------------------------------------------------------------------------------------------------------------------------------------------------------------------------------------------------------------------------------------------------------------------------------------------------------------------------------------------------------------------------------------------------------------------------------------------------------------------------------------------------------------------------------------------------------------------------------------------------------------------------------------------------------------------------------------------------------------------------------------------------------------------------------------------------------------------------------------------------------------------------------------------------------------------------------------------------------------------------------------------------------------------------------------------------------------------------------------------------------------------------------------------------------------------------------------------------------------------------------------------------------------------------------------------------------------------------------------------------------------------------------------------------------+\n",
            "\n"
          ]
        }
      ],
      "source": [
        "result.select(\"aux\").show(truncate=False)"
      ]
    },
    {
      "cell_type": "code",
      "execution_count": null,
      "metadata": {
        "colab": {
          "base_uri": "https://localhost:8080/"
        },
        "id": "rF1YR12bb7U3",
        "outputId": "cabdd999-b98b-4224-9608-047ad359057a"
      },
      "outputs": [
        {
          "output_type": "stream",
          "name": "stdout",
          "text": [
            "+-----------------------------+----------+--------+----------+----------+--------+\n",
            "|chunk                        |beginChunk|endChunk|label     |beginLabel|endLabel|\n",
            "+-----------------------------+----------+--------+----------+----------+--------+\n",
            "|2093-01-13                   |15        |24      |<DATE>    |14        |19      |\n",
            "|David Hale                   |28        |37      |<NAME>    |23        |28      |\n",
            "|Hendrickson Ora              |56        |70      |<NAME>    |46        |51      |\n",
            "|7194334                      |79        |85      |<ID>      |60        |63      |\n",
            "|01/13/93                     |94        |101     |<DATE>    |72        |77      |\n",
            "|Oliveira                     |111       |118     |<NAME>    |86        |91      |\n",
            "|25                           |122       |123     |<AGE>     |95        |99      |\n",
            "|2079-11-09                   |151       |160     |<DATE>    |127       |132     |\n",
            "|Cocke County Baptist Hospital|164       |192     |<LOCATION>|135       |144     |\n",
            "|0295 Keats Street            |196       |212     |<LOCATION>|148       |157     |\n",
            "|(302) 786-5227               |222       |235     |<CONTACT> |167       |175     |\n",
            "+-----------------------------+----------+--------+----------+----------+--------+\n",
            "\n"
          ]
        }
      ],
      "source": [
        "result.select(F.explode(F.arrays_zip('aux.metadata', 'aux.result', 'aux.begin', 'aux.end')).alias(\"cols\")) \\\n",
        "      .select(F.expr(\"cols['0']['originalChunk']\").alias(\"chunk\"),\n",
        "              F.expr(\"cols['0']['beginOriginalChunk']\").alias(\"beginChunk\"),\n",
        "              F.expr(\"cols['0']['endOriginalChunk']\").alias(\"endChunk\"),\n",
        "              F.expr(\"cols['1']\").alias(\"label\"),\n",
        "              F.expr(\"cols['2']\").alias(\"beginLabel\"),\n",
        "              F.expr(\"cols['3']\").alias(\"endLabel\")).show(truncate=False)"
      ]
    },
    {
      "cell_type": "markdown",
      "metadata": {
        "id": "Kz7YLxOlpJPQ"
      },
      "source": [
        "## Reidentification\n",
        "\n",
        "We can use `ReIdentification` annotator to go back to the original sentence."
      ]
    },
    {
      "cell_type": "code",
      "execution_count": null,
      "metadata": {
        "id": "7HMTqWaApIw3"
      },
      "outputs": [],
      "source": [
        "reIdentification = ReIdentification()\\\n",
        "     .setInputCols([\"aux\",\"deidentified\"])\\\n",
        "     .setOutputCol(\"original\")"
      ]
    },
    {
      "cell_type": "code",
      "execution_count": null,
      "metadata": {
        "id": "Etn6kW6hqJGx"
      },
      "outputs": [],
      "source": [
        "reid_result = reIdentification.transform(result)"
      ]
    },
    {
      "cell_type": "code",
      "execution_count": null,
      "metadata": {
        "colab": {
          "base_uri": "https://localhost:8080/"
        },
        "id": "vGLfKOGGqSwy",
        "outputId": "4b436ac4-3754-4938-dd12-86a7cded8b70"
      },
      "outputs": [
        {
          "output_type": "stream",
          "name": "stdout",
          "text": [
            "+--------------------+--------------------+--------------------+--------------------+--------------------+--------------------+--------------------+--------------------+--------------------+--------------------+\n",
            "|                text|            document|            sentence|               token|          embeddings|                 ner|           ner_chunk|        deidentified|                 aux|            original|\n",
            "+--------------------+--------------------+--------------------+--------------------+--------------------+--------------------+--------------------+--------------------+--------------------+--------------------+\n",
            "|\n",
            "Record date : 20...|[{document, 0, 23...|[{document, 1, 45...|[{token, 1, 6, Re...|[{word_embeddings...|[{named_entity, 1...|[{chunk, 15, 24, ...|[{document, 0, 36...|[{chunk, 14, 19, ...|[{document, 1, 45...|\n",
            "+--------------------+--------------------+--------------------+--------------------+--------------------+--------------------+--------------------+--------------------+--------------------+--------------------+\n",
            "\n"
          ]
        }
      ],
      "source": [
        "reid_result.show()"
      ]
    },
    {
      "cell_type": "code",
      "execution_count": null,
      "metadata": {
        "colab": {
          "base_uri": "https://localhost:8080/"
        },
        "id": "cfhFb1aOcFgI",
        "outputId": "75819b0f-e3bd-466c-ca69-6254a3b390a3"
      },
      "outputs": [
        {
          "output_type": "stream",
          "name": "stdout",
          "text": [
            "\n",
            "Record date : 2093-01-13 , David Hale , M.D . , Name : Hendrickson Ora , MR # 7194334 Date : 01/13/93 . PCP : Oliveira , 25 years-old , Record date : 2079-11-09 . Cocke County Baptist Hospital , 0295 Keats Street , Phone (302) 786-5227 .\n",
            "\n",
            "+--------------------------------------------------------------------------------------------------------------------------------------------------------------------------------------------------------------------------------------------------+\n",
            "|result                                                                                                                                                                                                                                            |\n",
            "+--------------------------------------------------------------------------------------------------------------------------------------------------------------------------------------------------------------------------------------------------+\n",
            "|[Record date : 2093-01-13 , David Hale , M.D ., , Name : Hendrickson Ora , MR # 7194334 Date : 01/13/93 ., PCP : Oliveira , 25 years-old , Record date : 2079-11-09 ., Cocke County Baptist Hospital , 0295 Keats Street , Phone (302) 786-5227 .]|\n",
            "+--------------------------------------------------------------------------------------------------------------------------------------------------------------------------------------------------------------------------------------------------+\n",
            "\n"
          ]
        }
      ],
      "source": [
        "print(text)\n",
        "\n",
        "reid_result.select('original.result').show(truncate=False)"
      ]
    },
    {
      "cell_type": "markdown",
      "metadata": {
        "id": "OSKDCxV0NEJc"
      },
      "source": [
        "## Using multiple NER in the same pipeline"
      ]
    },
    {
      "cell_type": "code",
      "execution_count": null,
      "metadata": {
        "colab": {
          "base_uri": "https://localhost:8080/"
        },
        "id": "7lF9lrIWNJMi",
        "outputId": "969232e1-2863-4931-b139-05cc3e54ce02"
      },
      "outputs": [
        {
          "output_type": "stream",
          "name": "stdout",
          "text": [
            "embeddings_clinical download started this may take some time.\n",
            "Approximate size to download 1.6 GB\n",
            "[OK!]\n",
            "ner_deid_generic_augmented download started this may take some time.\n",
            "Approximate size to download 13.8 MB\n",
            "[OK!]\n",
            "ner_deid_subentity_augmented download started this may take some time.\n",
            "Approximate size to download 14 MB\n",
            "[OK!]\n"
          ]
        }
      ],
      "source": [
        "from sparknlp_jsl.annotator import *\n",
        "\n",
        "documentAssembler = DocumentAssembler()\\\n",
        "      .setInputCol(\"text\")\\\n",
        "      .setOutputCol(\"document\")\n",
        "\n",
        "sentenceDetector = SentenceDetector()\\\n",
        "      .setInputCols([\"document\"])\\\n",
        "      .setOutputCol(\"sentence\")\n",
        "\n",
        "tokenizer = Tokenizer()\\\n",
        "      .setInputCols([\"sentence\"])\\\n",
        "      .setOutputCol(\"token\")\n",
        "\n",
        "word_embeddings = WordEmbeddingsModel.pretrained(\"embeddings_clinical\", \"en\", \"clinical/models\")\\\n",
        "      .setInputCols([\"sentence\", \"token\"])\\\n",
        "      .setOutputCol(\"embeddings\")\n",
        "\n",
        "deid_ner = MedicalNerModel.pretrained(\"ner_deid_generic_augmented\", \"en\", \"clinical/models\") \\\n",
        "      .setInputCols([\"sentence\", \"token\", \"embeddings\"]) \\\n",
        "      .setOutputCol(\"ner_generic\")\n",
        "\n",
        "ner_converter = NerConverter()\\\n",
        "      .setInputCols([\"sentence\", \"token\", \"ner_generic\"])\\\n",
        "      .setOutputCol(\"ner_generic_chunk\")\\\n",
        "      .setWhiteList(['ID', 'DATE', 'AGE', 'NAME', 'PROFESSION'])# CONTACT and LOCATION is removed\n",
        "\n",
        "deid_ner_enriched = MedicalNerModel.pretrained(\"ner_deid_subentity_augmented\", \"en\", \"clinical/models\") \\\n",
        "      .setInputCols([\"sentence\", \"token\", \"embeddings\"]) \\\n",
        "      .setOutputCol(\"ner_subentity\")\n",
        "\n",
        "ner_converter_enriched = NerConverter() \\\n",
        "      .setInputCols([\"sentence\", \"token\", \"ner_subentity\"]) \\\n",
        "      .setOutputCol(\"ner_subentity_chunk\")\\\n",
        "      .setWhiteList(['COUNTRY', 'CITY', 'HOSPITAL', 'STATE', 'STREET', 'ZIP'])\n",
        "      # we can also add PATIENT and DOCTOR entities and remove NAME entity from the other NER model\n",
        "\n",
        "chunk_merge = ChunkMergeApproach()\\\n",
        "      .setInputCols(\"ner_subentity_chunk\",\"ner_generic_chunk\")\\\n",
        "      .setOutputCol(\"deid_merged_chunk\")\n",
        "\n",
        "deidentification = DeIdentification() \\\n",
        "      .setInputCols([\"sentence\", \"token\", \"deid_merged_chunk\"]) \\\n",
        "      .setOutputCol(\"deidentified\") \\\n",
        "      .setMode(\"mask\")\\\n",
        "      .setIgnoreRegex(True)\n",
        "\n",
        "\n",
        "nlpPipeline = Pipeline(stages=[\n",
        "      documentAssembler, \n",
        "      sentenceDetector,\n",
        "      tokenizer,\n",
        "      word_embeddings,\n",
        "      deid_ner,\n",
        "      ner_converter,\n",
        "      deid_ner_enriched,\n",
        "      ner_converter_enriched,\n",
        "      chunk_merge,\n",
        "      deidentification])\n",
        "\n",
        "empty_data = spark.createDataFrame([[\"\"]]).toDF(\"text\")\n",
        "\n",
        "model = nlpPipeline.fit(empty_data)"
      ]
    },
    {
      "cell_type": "code",
      "execution_count": null,
      "metadata": {
        "id": "b2rR2tTgP5N5"
      },
      "outputs": [],
      "source": [
        "text ='''\n",
        "Record date : 2093-01-13 , David Hale , M.D . , Name : Hendrickson Ora , MR # 7194334 Date : 01/13/93 . PCP : Oliveira , 25 years-old , Record date : 2079-11-09 . Cocke County Baptist Hospital , 0295 Keats Street , Phone 302-786-5227.\n",
        "'''"
      ]
    },
    {
      "cell_type": "code",
      "execution_count": null,
      "metadata": {
        "colab": {
          "base_uri": "https://localhost:8080/"
        },
        "id": "ByIjftyJd8iP",
        "outputId": "3e35594a-3bfb-43d1-c2b4-e9bcb060b041"
      },
      "outputs": [
        {
          "output_type": "stream",
          "name": "stdout",
          "text": [
            "+---------------+---------+\n",
            "|chunk          |ner_label|\n",
            "+---------------+---------+\n",
            "|2093-01-13     |DATE     |\n",
            "|David Hale     |NAME     |\n",
            "|Hendrickson Ora|NAME     |\n",
            "|7194334        |ID       |\n",
            "|01/13/93       |DATE     |\n",
            "|Oliveira       |NAME     |\n",
            "|25             |AGE      |\n",
            "|2079-11-09     |DATE     |\n",
            "+---------------+---------+\n",
            "\n"
          ]
        }
      ],
      "source": [
        "result = model.transform(spark.createDataFrame([[text]]).toDF(\"text\"))\n",
        "\n",
        "# ner_deid_generic_augmented\n",
        "result.select(F.explode(F.arrays_zip('ner_generic_chunk.result', 'ner_generic_chunk.metadata')).alias(\"cols\")) \\\n",
        "      .select(F.expr(\"cols['0']\").alias(\"chunk\"),\n",
        "              F.expr(\"cols['1']['entity']\").alias(\"ner_label\")).show(truncate=False)"
      ]
    },
    {
      "cell_type": "code",
      "execution_count": null,
      "metadata": {
        "colab": {
          "base_uri": "https://localhost:8080/"
        },
        "id": "aKn2yotweUTS",
        "outputId": "be050192-3d5c-4077-fe6c-9ce17eb4755c"
      },
      "outputs": [
        {
          "output_type": "stream",
          "name": "stdout",
          "text": [
            "+-----------------------------+---------+\n",
            "|chunk                        |ner_label|\n",
            "+-----------------------------+---------+\n",
            "|Cocke County Baptist Hospital|HOSPITAL |\n",
            "|0295 Keats Street            |STREET   |\n",
            "+-----------------------------+---------+\n",
            "\n"
          ]
        }
      ],
      "source": [
        "# ner_deid_subentity_augmented\n",
        "result.select(F.explode(F.arrays_zip('ner_subentity_chunk.result', 'ner_subentity_chunk.metadata')).alias(\"cols\")) \\\n",
        "      .select(F.expr(\"cols['0']\").alias(\"chunk\"),\n",
        "              F.expr(\"cols['1']['entity']\").alias(\"ner_label\")).show(truncate=False)"
      ]
    },
    {
      "cell_type": "code",
      "execution_count": null,
      "metadata": {
        "colab": {
          "base_uri": "https://localhost:8080/"
        },
        "id": "ILAeyE39rudh",
        "outputId": "05ea57fd-868e-4322-cec3-290a904130b4"
      },
      "outputs": [
        {
          "output_type": "stream",
          "name": "stdout",
          "text": [
            "+-----------------------------+---------+\n",
            "|chunk                        |ner_label|\n",
            "+-----------------------------+---------+\n",
            "|2093-01-13                   |DATE     |\n",
            "|David Hale                   |NAME     |\n",
            "|Hendrickson Ora              |NAME     |\n",
            "|7194334                      |ID       |\n",
            "|01/13/93                     |DATE     |\n",
            "|Oliveira                     |NAME     |\n",
            "|25                           |AGE      |\n",
            "|2079-11-09                   |DATE     |\n",
            "|Cocke County Baptist Hospital|HOSPITAL |\n",
            "|0295 Keats Street            |STREET   |\n",
            "+-----------------------------+---------+\n",
            "\n"
          ]
        }
      ],
      "source": [
        "# merged chunk\n",
        "result.select(F.explode(F.arrays_zip('deid_merged_chunk.result', 'deid_merged_chunk.metadata')).alias(\"cols\")) \\\n",
        "      .select(F.expr(\"cols['0']\").alias(\"chunk\"),\n",
        "              F.expr(\"cols['1']['entity']\").alias(\"ner_label\")).show(truncate=False)"
      ]
    },
    {
      "cell_type": "code",
      "execution_count": null,
      "metadata": {
        "colab": {
          "base_uri": "https://localhost:8080/",
          "height": 173
        },
        "id": "6dheTxaJeYg9",
        "outputId": "e2ba2762-6e3d-41ea-ef11-9e242c8a27bc"
      },
      "outputs": [
        {
          "output_type": "execute_result",
          "data": {
            "text/html": [
              "\n",
              "  <div id=\"df-3621153b-59fc-4ce1-9ea4-590686d203d1\">\n",
              "    <div class=\"colab-df-container\">\n",
              "      <div>\n",
              "<style scoped>\n",
              "    .dataframe tbody tr th:only-of-type {\n",
              "        vertical-align: middle;\n",
              "    }\n",
              "\n",
              "    .dataframe tbody tr th {\n",
              "        vertical-align: top;\n",
              "    }\n",
              "\n",
              "    .dataframe thead th {\n",
              "        text-align: right;\n",
              "    }\n",
              "</style>\n",
              "<table border=\"1\" class=\"dataframe\">\n",
              "  <thead>\n",
              "    <tr style=\"text-align: right;\">\n",
              "      <th></th>\n",
              "      <th>sentence</th>\n",
              "      <th>deidentified</th>\n",
              "    </tr>\n",
              "  </thead>\n",
              "  <tbody>\n",
              "    <tr>\n",
              "      <th>0</th>\n",
              "      <td>Record date : 2093-01-13 , David Hale , M.D .</td>\n",
              "      <td>Record date : &lt;DATE&gt; , &lt;NAME&gt; , M.D .</td>\n",
              "    </tr>\n",
              "    <tr>\n",
              "      <th>1</th>\n",
              "      <td>, Name : Hendrickson Ora , MR # 7194334 Date : 01/13/93 .</td>\n",
              "      <td>, Name : &lt;NAME&gt; , MR # &lt;ID&gt; Date : &lt;DATE&gt; .</td>\n",
              "    </tr>\n",
              "    <tr>\n",
              "      <th>2</th>\n",
              "      <td>PCP : Oliveira , 25 years-old , Record date : 2079-11-09 .</td>\n",
              "      <td>PCP : &lt;NAME&gt; , &lt;AGE&gt; years-old , Record date : &lt;DATE&gt; .</td>\n",
              "    </tr>\n",
              "    <tr>\n",
              "      <th>3</th>\n",
              "      <td>Cocke County Baptist Hospital , 0295 Keats Street , Phone 302-786-5227.</td>\n",
              "      <td>&lt;HOSPITAL&gt; , &lt;STREET&gt; , Phone 302-786-5227.</td>\n",
              "    </tr>\n",
              "  </tbody>\n",
              "</table>\n",
              "</div>\n",
              "      <button class=\"colab-df-convert\" onclick=\"convertToInteractive('df-3621153b-59fc-4ce1-9ea4-590686d203d1')\"\n",
              "              title=\"Convert this dataframe to an interactive table.\"\n",
              "              style=\"display:none;\">\n",
              "        \n",
              "  <svg xmlns=\"http://www.w3.org/2000/svg\" height=\"24px\"viewBox=\"0 0 24 24\"\n",
              "       width=\"24px\">\n",
              "    <path d=\"M0 0h24v24H0V0z\" fill=\"none\"/>\n",
              "    <path d=\"M18.56 5.44l.94 2.06.94-2.06 2.06-.94-2.06-.94-.94-2.06-.94 2.06-2.06.94zm-11 1L8.5 8.5l.94-2.06 2.06-.94-2.06-.94L8.5 2.5l-.94 2.06-2.06.94zm10 10l.94 2.06.94-2.06 2.06-.94-2.06-.94-.94-2.06-.94 2.06-2.06.94z\"/><path d=\"M17.41 7.96l-1.37-1.37c-.4-.4-.92-.59-1.43-.59-.52 0-1.04.2-1.43.59L10.3 9.45l-7.72 7.72c-.78.78-.78 2.05 0 2.83L4 21.41c.39.39.9.59 1.41.59.51 0 1.02-.2 1.41-.59l7.78-7.78 2.81-2.81c.8-.78.8-2.07 0-2.86zM5.41 20L4 18.59l7.72-7.72 1.47 1.35L5.41 20z\"/>\n",
              "  </svg>\n",
              "      </button>\n",
              "      \n",
              "  <style>\n",
              "    .colab-df-container {\n",
              "      display:flex;\n",
              "      flex-wrap:wrap;\n",
              "      gap: 12px;\n",
              "    }\n",
              "\n",
              "    .colab-df-convert {\n",
              "      background-color: #E8F0FE;\n",
              "      border: none;\n",
              "      border-radius: 50%;\n",
              "      cursor: pointer;\n",
              "      display: none;\n",
              "      fill: #1967D2;\n",
              "      height: 32px;\n",
              "      padding: 0 0 0 0;\n",
              "      width: 32px;\n",
              "    }\n",
              "\n",
              "    .colab-df-convert:hover {\n",
              "      background-color: #E2EBFA;\n",
              "      box-shadow: 0px 1px 2px rgba(60, 64, 67, 0.3), 0px 1px 3px 1px rgba(60, 64, 67, 0.15);\n",
              "      fill: #174EA6;\n",
              "    }\n",
              "\n",
              "    [theme=dark] .colab-df-convert {\n",
              "      background-color: #3B4455;\n",
              "      fill: #D2E3FC;\n",
              "    }\n",
              "\n",
              "    [theme=dark] .colab-df-convert:hover {\n",
              "      background-color: #434B5C;\n",
              "      box-shadow: 0px 1px 3px 1px rgba(0, 0, 0, 0.15);\n",
              "      filter: drop-shadow(0px 1px 2px rgba(0, 0, 0, 0.3));\n",
              "      fill: #FFFFFF;\n",
              "    }\n",
              "  </style>\n",
              "\n",
              "      <script>\n",
              "        const buttonEl =\n",
              "          document.querySelector('#df-3621153b-59fc-4ce1-9ea4-590686d203d1 button.colab-df-convert');\n",
              "        buttonEl.style.display =\n",
              "          google.colab.kernel.accessAllowed ? 'block' : 'none';\n",
              "\n",
              "        async function convertToInteractive(key) {\n",
              "          const element = document.querySelector('#df-3621153b-59fc-4ce1-9ea4-590686d203d1');\n",
              "          const dataTable =\n",
              "            await google.colab.kernel.invokeFunction('convertToInteractive',\n",
              "                                                     [key], {});\n",
              "          if (!dataTable) return;\n",
              "\n",
              "          const docLinkHtml = 'Like what you see? Visit the ' +\n",
              "            '<a target=\"_blank\" href=https://colab.research.google.com/notebooks/data_table.ipynb>data table notebook</a>'\n",
              "            + ' to learn more about interactive tables.';\n",
              "          element.innerHTML = '';\n",
              "          dataTable['output_type'] = 'display_data';\n",
              "          await google.colab.output.renderOutput(dataTable, element);\n",
              "          const docLink = document.createElement('div');\n",
              "          docLink.innerHTML = docLinkHtml;\n",
              "          element.appendChild(docLink);\n",
              "        }\n",
              "      </script>\n",
              "    </div>\n",
              "  </div>\n",
              "  "
            ],
            "text/plain": [
              "                                                                  sentence                                             deidentified\n",
              "0                            Record date : 2093-01-13 , David Hale , M.D .                    Record date : <DATE> , <NAME> , M.D .\n",
              "1                , Name : Hendrickson Ora , MR # 7194334 Date : 01/13/93 .              , Name : <NAME> , MR # <ID> Date : <DATE> .\n",
              "2               PCP : Oliveira , 25 years-old , Record date : 2079-11-09 .  PCP : <NAME> , <AGE> years-old , Record date : <DATE> .\n",
              "3  Cocke County Baptist Hospital , 0295 Keats Street , Phone 302-786-5227.              <HOSPITAL> , <STREET> , Phone 302-786-5227."
            ]
          },
          "metadata": {},
          "execution_count": 34
        }
      ],
      "source": [
        "result.select(F.explode(F.arrays_zip('sentence.result', 'deidentified.result')).alias(\"cols\")) \\\n",
        "      .select(F.expr(\"cols['0']\").alias(\"sentence\"),\n",
        "              F.expr(\"cols['1']\").alias(\"deidentified\")).toPandas()"
      ]
    },
    {
      "cell_type": "markdown",
      "metadata": {
        "id": "1MvCZkTyN0rQ"
      },
      "source": [
        "### Enriching with Regex and Override NER\n",
        "\n",
        "\n"
      ]
    },
    {
      "cell_type": "code",
      "execution_count": null,
      "metadata": {
        "id": "v3ws_gQRQ5FS"
      },
      "outputs": [],
      "source": [
        "# PHONE\n",
        "\n",
        "deidentification = DeIdentification()\\\n",
        "    .setInputCols([\"sentence\", \"token\", \"deid_merged_chunk\"])\\\n",
        "    .setOutputCol(\"deidentified\")\\\n",
        "    .setMode(\"mask\") \\\n",
        "    .setRegexOverride(True)\n",
        "\n",
        "pipeline = Pipeline(stages=[\n",
        "    nlpPipeline, \n",
        "    deidentification\n",
        "])\n",
        "\n",
        "model_default_rgx = pipeline.fit(empty_data)"
      ]
    },
    {
      "cell_type": "code",
      "execution_count": null,
      "metadata": {
        "colab": {
          "base_uri": "https://localhost:8080/",
          "height": 173
        },
        "id": "tTKB14F7hX6a",
        "outputId": "fd6198ff-423d-4981-b4c4-3530fc4fadc8"
      },
      "outputs": [
        {
          "output_type": "execute_result",
          "data": {
            "text/html": [
              "\n",
              "  <div id=\"df-84de7b3d-932b-4c4d-91ce-284a788ef7d2\">\n",
              "    <div class=\"colab-df-container\">\n",
              "      <div>\n",
              "<style scoped>\n",
              "    .dataframe tbody tr th:only-of-type {\n",
              "        vertical-align: middle;\n",
              "    }\n",
              "\n",
              "    .dataframe tbody tr th {\n",
              "        vertical-align: top;\n",
              "    }\n",
              "\n",
              "    .dataframe thead th {\n",
              "        text-align: right;\n",
              "    }\n",
              "</style>\n",
              "<table border=\"1\" class=\"dataframe\">\n",
              "  <thead>\n",
              "    <tr style=\"text-align: right;\">\n",
              "      <th></th>\n",
              "      <th>sentence</th>\n",
              "      <th>deidentified</th>\n",
              "    </tr>\n",
              "  </thead>\n",
              "  <tbody>\n",
              "    <tr>\n",
              "      <th>0</th>\n",
              "      <td>Record date : 2093-01-13 , David Hale , M.D .</td>\n",
              "      <td>Record date : &lt;DATE&gt; , &lt;NAME&gt; , M.D .</td>\n",
              "    </tr>\n",
              "    <tr>\n",
              "      <th>1</th>\n",
              "      <td>, Name : Hendrickson Ora , MR # 7194334 Date : 01/13/93 .</td>\n",
              "      <td>, Name : &lt;NAME&gt; , MR # &lt;PHONE&gt; Date : &lt;DATE&gt; .</td>\n",
              "    </tr>\n",
              "    <tr>\n",
              "      <th>2</th>\n",
              "      <td>PCP : Oliveira , 25 years-old , Record date : 2079-11-09 .</td>\n",
              "      <td>PCP : &lt;NAME&gt; , &lt;AGE&gt; years-old , Record date : &lt;DATE&gt; .</td>\n",
              "    </tr>\n",
              "    <tr>\n",
              "      <th>3</th>\n",
              "      <td>Cocke County Baptist Hospital , 0295 Keats Street , Phone 302-786-5227.</td>\n",
              "      <td>&lt;HOSPITAL&gt; , &lt;STREET&gt; , Phone &lt;PHONE&gt;.</td>\n",
              "    </tr>\n",
              "  </tbody>\n",
              "</table>\n",
              "</div>\n",
              "      <button class=\"colab-df-convert\" onclick=\"convertToInteractive('df-84de7b3d-932b-4c4d-91ce-284a788ef7d2')\"\n",
              "              title=\"Convert this dataframe to an interactive table.\"\n",
              "              style=\"display:none;\">\n",
              "        \n",
              "  <svg xmlns=\"http://www.w3.org/2000/svg\" height=\"24px\"viewBox=\"0 0 24 24\"\n",
              "       width=\"24px\">\n",
              "    <path d=\"M0 0h24v24H0V0z\" fill=\"none\"/>\n",
              "    <path d=\"M18.56 5.44l.94 2.06.94-2.06 2.06-.94-2.06-.94-.94-2.06-.94 2.06-2.06.94zm-11 1L8.5 8.5l.94-2.06 2.06-.94-2.06-.94L8.5 2.5l-.94 2.06-2.06.94zm10 10l.94 2.06.94-2.06 2.06-.94-2.06-.94-.94-2.06-.94 2.06-2.06.94z\"/><path d=\"M17.41 7.96l-1.37-1.37c-.4-.4-.92-.59-1.43-.59-.52 0-1.04.2-1.43.59L10.3 9.45l-7.72 7.72c-.78.78-.78 2.05 0 2.83L4 21.41c.39.39.9.59 1.41.59.51 0 1.02-.2 1.41-.59l7.78-7.78 2.81-2.81c.8-.78.8-2.07 0-2.86zM5.41 20L4 18.59l7.72-7.72 1.47 1.35L5.41 20z\"/>\n",
              "  </svg>\n",
              "      </button>\n",
              "      \n",
              "  <style>\n",
              "    .colab-df-container {\n",
              "      display:flex;\n",
              "      flex-wrap:wrap;\n",
              "      gap: 12px;\n",
              "    }\n",
              "\n",
              "    .colab-df-convert {\n",
              "      background-color: #E8F0FE;\n",
              "      border: none;\n",
              "      border-radius: 50%;\n",
              "      cursor: pointer;\n",
              "      display: none;\n",
              "      fill: #1967D2;\n",
              "      height: 32px;\n",
              "      padding: 0 0 0 0;\n",
              "      width: 32px;\n",
              "    }\n",
              "\n",
              "    .colab-df-convert:hover {\n",
              "      background-color: #E2EBFA;\n",
              "      box-shadow: 0px 1px 2px rgba(60, 64, 67, 0.3), 0px 1px 3px 1px rgba(60, 64, 67, 0.15);\n",
              "      fill: #174EA6;\n",
              "    }\n",
              "\n",
              "    [theme=dark] .colab-df-convert {\n",
              "      background-color: #3B4455;\n",
              "      fill: #D2E3FC;\n",
              "    }\n",
              "\n",
              "    [theme=dark] .colab-df-convert:hover {\n",
              "      background-color: #434B5C;\n",
              "      box-shadow: 0px 1px 3px 1px rgba(0, 0, 0, 0.15);\n",
              "      filter: drop-shadow(0px 1px 2px rgba(0, 0, 0, 0.3));\n",
              "      fill: #FFFFFF;\n",
              "    }\n",
              "  </style>\n",
              "\n",
              "      <script>\n",
              "        const buttonEl =\n",
              "          document.querySelector('#df-84de7b3d-932b-4c4d-91ce-284a788ef7d2 button.colab-df-convert');\n",
              "        buttonEl.style.display =\n",
              "          google.colab.kernel.accessAllowed ? 'block' : 'none';\n",
              "\n",
              "        async function convertToInteractive(key) {\n",
              "          const element = document.querySelector('#df-84de7b3d-932b-4c4d-91ce-284a788ef7d2');\n",
              "          const dataTable =\n",
              "            await google.colab.kernel.invokeFunction('convertToInteractive',\n",
              "                                                     [key], {});\n",
              "          if (!dataTable) return;\n",
              "\n",
              "          const docLinkHtml = 'Like what you see? Visit the ' +\n",
              "            '<a target=\"_blank\" href=https://colab.research.google.com/notebooks/data_table.ipynb>data table notebook</a>'\n",
              "            + ' to learn more about interactive tables.';\n",
              "          element.innerHTML = '';\n",
              "          dataTable['output_type'] = 'display_data';\n",
              "          await google.colab.output.renderOutput(dataTable, element);\n",
              "          const docLink = document.createElement('div');\n",
              "          docLink.innerHTML = docLinkHtml;\n",
              "          element.appendChild(docLink);\n",
              "        }\n",
              "      </script>\n",
              "    </div>\n",
              "  </div>\n",
              "  "
            ],
            "text/plain": [
              "                                                                  sentence                                             deidentified\n",
              "0                            Record date : 2093-01-13 , David Hale , M.D .                    Record date : <DATE> , <NAME> , M.D .\n",
              "1                , Name : Hendrickson Ora , MR # 7194334 Date : 01/13/93 .           , Name : <NAME> , MR # <PHONE> Date : <DATE> .\n",
              "2               PCP : Oliveira , 25 years-old , Record date : 2079-11-09 .  PCP : <NAME> , <AGE> years-old , Record date : <DATE> .\n",
              "3  Cocke County Baptist Hospital , 0295 Keats Street , Phone 302-786-5227.                   <HOSPITAL> , <STREET> , Phone <PHONE>."
            ]
          },
          "metadata": {},
          "execution_count": 36
        }
      ],
      "source": [
        "result = model_default_rgx.transform(spark.createDataFrame([[text]]).toDF(\"text\"))\n",
        "\n",
        "result.select(F.explode(F.arrays_zip('sentence.result', 'deidentified.result')).alias(\"cols\")) \\\n",
        "      .select(F.expr(\"cols['0']\").alias(\"sentence\"), F.expr(\"cols['1']\").alias(\"deidentified\")).toPandas()"
      ]
    },
    {
      "cell_type": "code",
      "execution_count": null,
      "metadata": {
        "colab": {
          "base_uri": "https://localhost:8080/"
        },
        "id": "CK0s144yN7Tp",
        "outputId": "0efdde79-9792-4695-a0f1-d6fa37edfc5a"
      },
      "outputs": [
        {
          "output_type": "stream",
          "name": "stdout",
          "text": [
            "NUMBER ([0-9]{2})\n",
            "NUMBER (\\d{7})\n"
          ]
        }
      ],
      "source": [
        "rgx = '''NUMBER ([0-9]{2})\n",
        "NUMBER (\\d{7})''' \n",
        "\n",
        "with open(\"./custom_regex.txt\", \"w\") as f:\n",
        "  f.write(rgx)\n",
        "\n",
        "f = open(\"./custom_regex.txt\", \"r\")\n",
        "\n",
        "print(f.read())"
      ]
    },
    {
      "cell_type": "markdown",
      "metadata": {
        "id": "Z771fExYOgiW"
      },
      "source": [
        "We see that two entities  have conflict between the regex and the NER. NER has the priroty as a default. We can change this `setRegexOverride` param "
      ]
    },
    {
      "cell_type": "code",
      "execution_count": null,
      "metadata": {
        "id": "J8fl19b2OY1-"
      },
      "outputs": [],
      "source": [
        "deidentification_rgx = DeIdentification()\\\n",
        "    .setInputCols([\"sentence\", \"token\", \"deid_merged_chunk\"])\\\n",
        "    .setOutputCol(\"deidentified\")\\\n",
        "    .setMode(\"mask\") \\\n",
        "    .setRegexPatternsDictionary(\"./custom_regex.txt\")\\\n",
        "    .setRegexOverride(True)\n",
        "\n",
        "\n",
        "nlpPipeline_rgx = Pipeline(stages=[\n",
        "    documentAssembler, \n",
        "    sentenceDetector,\n",
        "    tokenizer,\n",
        "    word_embeddings,\n",
        "    deid_ner,\n",
        "    ner_converter,\n",
        "    deid_ner_enriched,\n",
        "    ner_converter_enriched,\n",
        "    chunk_merge,\n",
        "    deidentification_rgx])\n",
        "\n",
        "empty_data = spark.createDataFrame([[\"\"]]).toDF(\"text\")\n",
        "\n",
        "model_rgx = nlpPipeline_rgx.fit(empty_data)"
      ]
    },
    {
      "cell_type": "code",
      "execution_count": null,
      "metadata": {
        "colab": {
          "base_uri": "https://localhost:8080/",
          "height": 265
        },
        "id": "tifAsxnFiiWg",
        "outputId": "37c215da-27a1-4a91-c86e-da661fd142fb"
      },
      "outputs": [
        {
          "output_type": "execute_result",
          "data": {
            "text/html": [
              "\n",
              "  <div id=\"df-d851e582-a34c-468a-98f7-d94473f7d632\">\n",
              "    <div class=\"colab-df-container\">\n",
              "      <div>\n",
              "<style scoped>\n",
              "    .dataframe tbody tr th:only-of-type {\n",
              "        vertical-align: middle;\n",
              "    }\n",
              "\n",
              "    .dataframe tbody tr th {\n",
              "        vertical-align: top;\n",
              "    }\n",
              "\n",
              "    .dataframe thead th {\n",
              "        text-align: right;\n",
              "    }\n",
              "</style>\n",
              "<table border=\"1\" class=\"dataframe\">\n",
              "  <thead>\n",
              "    <tr style=\"text-align: right;\">\n",
              "      <th></th>\n",
              "      <th>sentence</th>\n",
              "      <th>deidentified</th>\n",
              "    </tr>\n",
              "  </thead>\n",
              "  <tbody>\n",
              "    <tr>\n",
              "      <th>0</th>\n",
              "      <td>Record date : 2093-01-13 , David Hale , M.D .</td>\n",
              "      <td>Record date : &lt;DATE&gt; , &lt;NAME&gt; , M.D .</td>\n",
              "    </tr>\n",
              "    <tr>\n",
              "      <th>1</th>\n",
              "      <td>, Name : Hendrickson , Ora MR .</td>\n",
              "      <td>, Name : &lt;NAME&gt;</td>\n",
              "    </tr>\n",
              "    <tr>\n",
              "      <th>2</th>\n",
              "      <td># 7194334 Date : 01/13/93 PCP : Oliveira , 25 years-old , Record date : 2079-11-09 .</td>\n",
              "      <td># &lt;NUMBER&gt; Date : &lt;DATE&gt; PCP : &lt;NAME&gt; , &lt;NUMBER&gt; years-old , Record date : &lt;DATE&gt; .</td>\n",
              "    </tr>\n",
              "    <tr>\n",
              "      <th>3</th>\n",
              "      <td>Cocke County Baptist Hospital .</td>\n",
              "      <td>&lt;HOSPITAL&gt;</td>\n",
              "    </tr>\n",
              "    <tr>\n",
              "      <th>4</th>\n",
              "      <td>0295 Keats Street.</td>\n",
              "      <td>&lt;STREET&gt;</td>\n",
              "    </tr>\n",
              "  </tbody>\n",
              "</table>\n",
              "</div>\n",
              "      <button class=\"colab-df-convert\" onclick=\"convertToInteractive('df-d851e582-a34c-468a-98f7-d94473f7d632')\"\n",
              "              title=\"Convert this dataframe to an interactive table.\"\n",
              "              style=\"display:none;\">\n",
              "        \n",
              "  <svg xmlns=\"http://www.w3.org/2000/svg\" height=\"24px\"viewBox=\"0 0 24 24\"\n",
              "       width=\"24px\">\n",
              "    <path d=\"M0 0h24v24H0V0z\" fill=\"none\"/>\n",
              "    <path d=\"M18.56 5.44l.94 2.06.94-2.06 2.06-.94-2.06-.94-.94-2.06-.94 2.06-2.06.94zm-11 1L8.5 8.5l.94-2.06 2.06-.94-2.06-.94L8.5 2.5l-.94 2.06-2.06.94zm10 10l.94 2.06.94-2.06 2.06-.94-2.06-.94-.94-2.06-.94 2.06-2.06.94z\"/><path d=\"M17.41 7.96l-1.37-1.37c-.4-.4-.92-.59-1.43-.59-.52 0-1.04.2-1.43.59L10.3 9.45l-7.72 7.72c-.78.78-.78 2.05 0 2.83L4 21.41c.39.39.9.59 1.41.59.51 0 1.02-.2 1.41-.59l7.78-7.78 2.81-2.81c.8-.78.8-2.07 0-2.86zM5.41 20L4 18.59l7.72-7.72 1.47 1.35L5.41 20z\"/>\n",
              "  </svg>\n",
              "      </button>\n",
              "      \n",
              "  <style>\n",
              "    .colab-df-container {\n",
              "      display:flex;\n",
              "      flex-wrap:wrap;\n",
              "      gap: 12px;\n",
              "    }\n",
              "\n",
              "    .colab-df-convert {\n",
              "      background-color: #E8F0FE;\n",
              "      border: none;\n",
              "      border-radius: 50%;\n",
              "      cursor: pointer;\n",
              "      display: none;\n",
              "      fill: #1967D2;\n",
              "      height: 32px;\n",
              "      padding: 0 0 0 0;\n",
              "      width: 32px;\n",
              "    }\n",
              "\n",
              "    .colab-df-convert:hover {\n",
              "      background-color: #E2EBFA;\n",
              "      box-shadow: 0px 1px 2px rgba(60, 64, 67, 0.3), 0px 1px 3px 1px rgba(60, 64, 67, 0.15);\n",
              "      fill: #174EA6;\n",
              "    }\n",
              "\n",
              "    [theme=dark] .colab-df-convert {\n",
              "      background-color: #3B4455;\n",
              "      fill: #D2E3FC;\n",
              "    }\n",
              "\n",
              "    [theme=dark] .colab-df-convert:hover {\n",
              "      background-color: #434B5C;\n",
              "      box-shadow: 0px 1px 3px 1px rgba(0, 0, 0, 0.15);\n",
              "      filter: drop-shadow(0px 1px 2px rgba(0, 0, 0, 0.3));\n",
              "      fill: #FFFFFF;\n",
              "    }\n",
              "  </style>\n",
              "\n",
              "      <script>\n",
              "        const buttonEl =\n",
              "          document.querySelector('#df-d851e582-a34c-468a-98f7-d94473f7d632 button.colab-df-convert');\n",
              "        buttonEl.style.display =\n",
              "          google.colab.kernel.accessAllowed ? 'block' : 'none';\n",
              "\n",
              "        async function convertToInteractive(key) {\n",
              "          const element = document.querySelector('#df-d851e582-a34c-468a-98f7-d94473f7d632');\n",
              "          const dataTable =\n",
              "            await google.colab.kernel.invokeFunction('convertToInteractive',\n",
              "                                                     [key], {});\n",
              "          if (!dataTable) return;\n",
              "\n",
              "          const docLinkHtml = 'Like what you see? Visit the ' +\n",
              "            '<a target=\"_blank\" href=https://colab.research.google.com/notebooks/data_table.ipynb>data table notebook</a>'\n",
              "            + ' to learn more about interactive tables.';\n",
              "          element.innerHTML = '';\n",
              "          dataTable['output_type'] = 'display_data';\n",
              "          await google.colab.output.renderOutput(dataTable, element);\n",
              "          const docLink = document.createElement('div');\n",
              "          docLink.innerHTML = docLinkHtml;\n",
              "          element.appendChild(docLink);\n",
              "        }\n",
              "      </script>\n",
              "    </div>\n",
              "  </div>\n",
              "  "
            ],
            "text/plain": [
              "                                                                               sentence                                                                         deidentified\n",
              "0                                         Record date : 2093-01-13 , David Hale , M.D .                                                Record date : <DATE> , <NAME> , M.D .\n",
              "1                                                       , Name : Hendrickson , Ora MR .                                                                      , Name : <NAME>\n",
              "2  # 7194334 Date : 01/13/93 PCP : Oliveira , 25 years-old , Record date : 2079-11-09 .  # <NUMBER> Date : <DATE> PCP : <NAME> , <NUMBER> years-old , Record date : <DATE> .\n",
              "3                                                       Cocke County Baptist Hospital .                                                                           <HOSPITAL>\n",
              "4                                                                    0295 Keats Street.                                                                             <STREET>"
            ]
          },
          "metadata": {},
          "execution_count": 39
        }
      ],
      "source": [
        "text ='''Record date : 2093-01-13 , David Hale , M.D . , Name : Hendrickson , Ora MR . # 7194334 Date : 01/13/93 PCP : Oliveira , 25 years-old , Record date : 2079-11-09 . Cocke County Baptist Hospital . 0295 Keats Street.'''\n",
        "\n",
        "result = model_rgx.transform(spark.createDataFrame([[text]]).toDF(\"text\"))\n",
        "result.select(F.explode(F.arrays_zip('sentence.result', 'deidentified.result')).alias(\"cols\")) \\\n",
        "      .select(F.expr(\"cols['0']\").alias(\"sentence\"), F.expr(\"cols['1']\").alias(\"deidentified\")).toPandas()"
      ]
    },
    {
      "cell_type": "markdown",
      "source": [
        "`.setBlackList()` parameter so that not deidentifiy the labels that are specified in the list. This parameter filters just the detected Regex Entities.  "
      ],
      "metadata": {
        "id": "0mkstH6JIuQr"
      }
    },
    {
      "cell_type": "code",
      "source": [
        "ner_converter = NerConverterInternal()\\\n",
        "      .setInputCols([\"sentence\", \"token\", \"ner\"])\\\n",
        "      .setOutputCol(\"ner_chunk\")\\\n",
        "      .setWhiteList([\"NAME\", \"LOCATION\"])\n",
        "\n",
        "# DATE, PHONE, URL, EMAIL, ZIP, DATE, SSN, PASSPORT, DLN, NPI, C_CARD, EMAIL, IBAN, DEA\n",
        "deidentification = DeIdentification() \\\n",
        "      .setInputCols([\"sentence\", \"token\", \"ner_chunk\"]) \\\n",
        "      .setOutputCol(\"deidentified\") \\\n",
        "      .setMode(\"mask\")\\\n",
        "      .setRegexOverride(True)\\\n",
        "      .setBlackList([\"DATE\", \"PHONE\"])\n",
        "\n",
        "deidPipeline = Pipeline(stages=[\n",
        "      documentAssembler, \n",
        "      sentenceDetector,\n",
        "      tokenizer,\n",
        "      word_embeddings,\n",
        "      clinical_ner,\n",
        "      ner_converter,\n",
        "      deidentification])\n",
        "\n",
        "empty_data = spark.createDataFrame([[\"\"]]).toDF(\"text\")\n",
        "\n",
        "model_deid = deidPipeline.fit(empty_data)"
      ],
      "metadata": {
        "id": "eKuVjZDlIsG7"
      },
      "execution_count": null,
      "outputs": []
    },
    {
      "cell_type": "code",
      "source": [
        "text ='''\n",
        "Record date : 2093-01-13 , David Hale , M.D . , Name : Hendrickson , Ora MR . # 7194334 Date : 01/13/93 PCP : Oliveira , 25 years-old , Record date : 2079-11-09 . Cocke County Baptist Hospital . 0295 Keats Street. Phone (302) 786-5227.\n",
        "'''\n",
        "result = model_deid.transform(spark.createDataFrame([[text]]).toDF(\"text\"))"
      ],
      "metadata": {
        "id": "8M49yTi8Ir9n"
      },
      "execution_count": null,
      "outputs": []
    },
    {
      "cell_type": "code",
      "source": [
        "result.select(F.explode(F.arrays_zip('sentence.result', 'deidentified.result')).alias(\"cols\")) \\\n",
        "      .select(F.expr(\"cols['0']\").alias(\"sentence\"), F.expr(\"cols['1']\").alias(\"deidentified\")).toPandas()"
      ],
      "metadata": {
        "colab": {
          "base_uri": "https://localhost:8080/",
          "height": 296
        },
        "id": "nSYNou-aIr4o",
        "outputId": "1bb804a7-7e62-41c5-d2b6-f6df975d975b"
      },
      "execution_count": null,
      "outputs": [
        {
          "output_type": "execute_result",
          "data": {
            "text/html": [
              "\n",
              "  <div id=\"df-7bb3221e-2dcb-4021-b521-2f5bf4356589\">\n",
              "    <div class=\"colab-df-container\">\n",
              "      <div>\n",
              "<style scoped>\n",
              "    .dataframe tbody tr th:only-of-type {\n",
              "        vertical-align: middle;\n",
              "    }\n",
              "\n",
              "    .dataframe tbody tr th {\n",
              "        vertical-align: top;\n",
              "    }\n",
              "\n",
              "    .dataframe thead th {\n",
              "        text-align: right;\n",
              "    }\n",
              "</style>\n",
              "<table border=\"1\" class=\"dataframe\">\n",
              "  <thead>\n",
              "    <tr style=\"text-align: right;\">\n",
              "      <th></th>\n",
              "      <th>sentence</th>\n",
              "      <th>deidentified</th>\n",
              "    </tr>\n",
              "  </thead>\n",
              "  <tbody>\n",
              "    <tr>\n",
              "      <th>0</th>\n",
              "      <td>Record date : 2093-01-13 , David Hale , M.D .</td>\n",
              "      <td>Record date : 2093-01-13 , &lt;NAME&gt; , M.D .</td>\n",
              "    </tr>\n",
              "    <tr>\n",
              "      <th>1</th>\n",
              "      <td>, Name : Hendrickson , Ora MR .</td>\n",
              "      <td>, Name : &lt;NAME&gt;</td>\n",
              "    </tr>\n",
              "    <tr>\n",
              "      <th>2</th>\n",
              "      <td># 7194334 Date : 01/13/93 PCP : Oliveira , 25 years-old , Record date : 2079-11-09 .</td>\n",
              "      <td># 7194334 Date : 01/13/93 PCP : &lt;NAME&gt; , 25 years-old , Record date : 2079-11-09 .</td>\n",
              "    </tr>\n",
              "    <tr>\n",
              "      <th>3</th>\n",
              "      <td>Cocke County Baptist Hospital .</td>\n",
              "      <td>&lt;LOCATION&gt;</td>\n",
              "    </tr>\n",
              "    <tr>\n",
              "      <th>4</th>\n",
              "      <td>0295 Keats Street.</td>\n",
              "      <td>&lt;LOCATION&gt;</td>\n",
              "    </tr>\n",
              "    <tr>\n",
              "      <th>5</th>\n",
              "      <td>Phone (302) 786-5227.</td>\n",
              "      <td>Phone (302) 786-5227.</td>\n",
              "    </tr>\n",
              "  </tbody>\n",
              "</table>\n",
              "</div>\n",
              "      <button class=\"colab-df-convert\" onclick=\"convertToInteractive('df-7bb3221e-2dcb-4021-b521-2f5bf4356589')\"\n",
              "              title=\"Convert this dataframe to an interactive table.\"\n",
              "              style=\"display:none;\">\n",
              "        \n",
              "  <svg xmlns=\"http://www.w3.org/2000/svg\" height=\"24px\"viewBox=\"0 0 24 24\"\n",
              "       width=\"24px\">\n",
              "    <path d=\"M0 0h24v24H0V0z\" fill=\"none\"/>\n",
              "    <path d=\"M18.56 5.44l.94 2.06.94-2.06 2.06-.94-2.06-.94-.94-2.06-.94 2.06-2.06.94zm-11 1L8.5 8.5l.94-2.06 2.06-.94-2.06-.94L8.5 2.5l-.94 2.06-2.06.94zm10 10l.94 2.06.94-2.06 2.06-.94-2.06-.94-.94-2.06-.94 2.06-2.06.94z\"/><path d=\"M17.41 7.96l-1.37-1.37c-.4-.4-.92-.59-1.43-.59-.52 0-1.04.2-1.43.59L10.3 9.45l-7.72 7.72c-.78.78-.78 2.05 0 2.83L4 21.41c.39.39.9.59 1.41.59.51 0 1.02-.2 1.41-.59l7.78-7.78 2.81-2.81c.8-.78.8-2.07 0-2.86zM5.41 20L4 18.59l7.72-7.72 1.47 1.35L5.41 20z\"/>\n",
              "  </svg>\n",
              "      </button>\n",
              "      \n",
              "  <style>\n",
              "    .colab-df-container {\n",
              "      display:flex;\n",
              "      flex-wrap:wrap;\n",
              "      gap: 12px;\n",
              "    }\n",
              "\n",
              "    .colab-df-convert {\n",
              "      background-color: #E8F0FE;\n",
              "      border: none;\n",
              "      border-radius: 50%;\n",
              "      cursor: pointer;\n",
              "      display: none;\n",
              "      fill: #1967D2;\n",
              "      height: 32px;\n",
              "      padding: 0 0 0 0;\n",
              "      width: 32px;\n",
              "    }\n",
              "\n",
              "    .colab-df-convert:hover {\n",
              "      background-color: #E2EBFA;\n",
              "      box-shadow: 0px 1px 2px rgba(60, 64, 67, 0.3), 0px 1px 3px 1px rgba(60, 64, 67, 0.15);\n",
              "      fill: #174EA6;\n",
              "    }\n",
              "\n",
              "    [theme=dark] .colab-df-convert {\n",
              "      background-color: #3B4455;\n",
              "      fill: #D2E3FC;\n",
              "    }\n",
              "\n",
              "    [theme=dark] .colab-df-convert:hover {\n",
              "      background-color: #434B5C;\n",
              "      box-shadow: 0px 1px 3px 1px rgba(0, 0, 0, 0.15);\n",
              "      filter: drop-shadow(0px 1px 2px rgba(0, 0, 0, 0.3));\n",
              "      fill: #FFFFFF;\n",
              "    }\n",
              "  </style>\n",
              "\n",
              "      <script>\n",
              "        const buttonEl =\n",
              "          document.querySelector('#df-7bb3221e-2dcb-4021-b521-2f5bf4356589 button.colab-df-convert');\n",
              "        buttonEl.style.display =\n",
              "          google.colab.kernel.accessAllowed ? 'block' : 'none';\n",
              "\n",
              "        async function convertToInteractive(key) {\n",
              "          const element = document.querySelector('#df-7bb3221e-2dcb-4021-b521-2f5bf4356589');\n",
              "          const dataTable =\n",
              "            await google.colab.kernel.invokeFunction('convertToInteractive',\n",
              "                                                     [key], {});\n",
              "          if (!dataTable) return;\n",
              "\n",
              "          const docLinkHtml = 'Like what you see? Visit the ' +\n",
              "            '<a target=\"_blank\" href=https://colab.research.google.com/notebooks/data_table.ipynb>data table notebook</a>'\n",
              "            + ' to learn more about interactive tables.';\n",
              "          element.innerHTML = '';\n",
              "          dataTable['output_type'] = 'display_data';\n",
              "          await google.colab.output.renderOutput(dataTable, element);\n",
              "          const docLink = document.createElement('div');\n",
              "          docLink.innerHTML = docLinkHtml;\n",
              "          element.appendChild(docLink);\n",
              "        }\n",
              "      </script>\n",
              "    </div>\n",
              "  </div>\n",
              "  "
            ],
            "text/plain": [
              "                                                                               sentence                                                                        deidentified\n",
              "0                                         Record date : 2093-01-13 , David Hale , M.D .                                           Record date : 2093-01-13 , <NAME> , M.D .\n",
              "1                                                       , Name : Hendrickson , Ora MR .                                                                     , Name : <NAME>\n",
              "2  # 7194334 Date : 01/13/93 PCP : Oliveira , 25 years-old , Record date : 2079-11-09 .  # 7194334 Date : 01/13/93 PCP : <NAME> , 25 years-old , Record date : 2079-11-09 .\n",
              "3                                                       Cocke County Baptist Hospital .                                                                          <LOCATION>\n",
              "4                                                                    0295 Keats Street.                                                                          <LOCATION>\n",
              "5                                                                 Phone (302) 786-5227.                                                               Phone (302) 786-5227."
            ]
          },
          "metadata": {},
          "execution_count": 42
        }
      ]
    },
    {
      "cell_type": "markdown",
      "metadata": {
        "id": "HJokGuGxf89k"
      },
      "source": [
        "## Obfuscation mode"
      ]
    },
    {
      "cell_type": "markdown",
      "metadata": {
        "id": "KG0Bvua7f89l"
      },
      "source": [
        "In the obfuscation mode **DeIdentificationModel** will replace sensetive entities with random values of the same type. \n"
      ]
    },
    {
      "cell_type": "code",
      "execution_count": null,
      "metadata": {
        "id": "TOYTW3ryTVOI"
      },
      "outputs": [],
      "source": [
        "obs_lines = \"\"\"Marvin MARSHALL#PATIENT\n",
        "Hubert GROGAN#PATIENT\n",
        "ALTHEA COLBURN#PATIENT\n",
        "Kalil AMIN#PATIENT\n",
        "Inci FOUNTAIN#PATIENT\n",
        "Ekaterina Rosa#DOCTOR\n",
        "Rudiger Chao#DOCTOR\n",
        "COLLETTE KOHLER#DOCTOR\n",
        "Mufi HIGGS#DOCTOR\"\"\"\n",
        "\n",
        "\n",
        "with open ('obfuscation.txt', 'w') as f:\n",
        "  f.write(obs_lines)"
      ]
    },
    {
      "cell_type": "code",
      "execution_count": null,
      "metadata": {
        "colab": {
          "base_uri": "https://localhost:8080/"
        },
        "id": "s6OKIrTUSz0O",
        "outputId": "850ca8c7-249d-462c-c48e-88c4d39db5ab"
      },
      "outputs": [
        {
          "output_type": "stream",
          "name": "stdout",
          "text": [
            "ner_deid_subentity_augmented download started this may take some time.\n",
            "Approximate size to download 14 MB\n",
            "[OK!]\n"
          ]
        }
      ],
      "source": [
        "deid_ner = MedicalNerModel.pretrained(\"ner_deid_subentity_augmented\", \"en\", \"clinical/models\") \\\n",
        "      .setInputCols([\"sentence\", \"token\", \"embeddings\"]) \\\n",
        "      .setOutputCol(\"ner\")\n",
        "\n",
        "ner_converter = NerConverterInternal()\\\n",
        "      .setInputCols([\"sentence\", \"token\", \"ner\"])\\\n",
        "      .setOutputCol(\"ner_chunk\")\n",
        "\n",
        "obfuscation = DeIdentification()\\\n",
        "      .setInputCols([\"sentence\", \"token\", \"ner_chunk\"]) \\\n",
        "      .setOutputCol(\"deidentified\") \\\n",
        "      .setMode(\"obfuscate\")\\\n",
        "      .setObfuscateDate(True)\\\n",
        "      # .setObfuscateRefFile('obfuscation.txt')\\\n",
        "      #.setObfuscateRefSource(\"both\") #default: \"faker\"\n",
        "\n",
        "pipeline = Pipeline(stages=[\n",
        "      documentAssembler, \n",
        "      sentenceDetector,\n",
        "      tokenizer,\n",
        "      word_embeddings,\n",
        "      deid_ner,\n",
        "      ner_converter,\n",
        "      obfuscation\n",
        "])\n",
        "\n",
        "obfuscation_model = pipeline.fit(empty_data)"
      ]
    },
    {
      "cell_type": "code",
      "source": [
        "text ='''\n",
        "Record date : 2093-01-13 , David Hale , M.D . , Name : Hendrickson , Ora MR # 7194334 Date : 01/13/93 . Patient : Oliveira, 25 years-old , Record date : 2079-11-09 . Cocke County Baptist Hospital . 0295 Keats Street\n",
        "'''\n",
        "\n",
        "result = obfuscation_model.transform(spark.createDataFrame([[text]]).toDF(\"text\"))\n",
        "\n",
        "result.select(F.explode(F.arrays_zip('sentence.result', 'deidentified.result')).alias(\"cols\")) \\\n",
        "      .select(F.expr(\"cols['0']\").alias(\"sentence\"), F.expr(\"cols['1']\").alias(\"deidentified\")).toPandas()"
      ],
      "metadata": {
        "colab": {
          "base_uri": "https://localhost:8080/",
          "height": 204
        },
        "id": "dW2y14eCpm2A",
        "outputId": "f82502f3-0b1f-4d2d-fd18-8f2e083c7113"
      },
      "execution_count": null,
      "outputs": [
        {
          "output_type": "execute_result",
          "data": {
            "text/html": [
              "\n",
              "  <div id=\"df-2df5df80-49cd-4e54-a667-45957b78e861\">\n",
              "    <div class=\"colab-df-container\">\n",
              "      <div>\n",
              "<style scoped>\n",
              "    .dataframe tbody tr th:only-of-type {\n",
              "        vertical-align: middle;\n",
              "    }\n",
              "\n",
              "    .dataframe tbody tr th {\n",
              "        vertical-align: top;\n",
              "    }\n",
              "\n",
              "    .dataframe thead th {\n",
              "        text-align: right;\n",
              "    }\n",
              "</style>\n",
              "<table border=\"1\" class=\"dataframe\">\n",
              "  <thead>\n",
              "    <tr style=\"text-align: right;\">\n",
              "      <th></th>\n",
              "      <th>sentence</th>\n",
              "      <th>deidentified</th>\n",
              "    </tr>\n",
              "  </thead>\n",
              "  <tbody>\n",
              "    <tr>\n",
              "      <th>0</th>\n",
              "      <td>Record date : 2093-01-13 , David Hale , M.D .</td>\n",
              "      <td>Record date : 2093-02-12 , Dr Alethea Dick , M.D .</td>\n",
              "    </tr>\n",
              "    <tr>\n",
              "      <th>1</th>\n",
              "      <td>, Name : Hendrickson , Ora MR # 7194334 Date : 01/13/93 .</td>\n",
              "      <td>, Name : Yates Poling MR # F3109487 Date : 11-25-1997 .</td>\n",
              "    </tr>\n",
              "    <tr>\n",
              "      <th>2</th>\n",
              "      <td>Patient : Oliveira, 25 years-old , Record date : 2079-11-09 .</td>\n",
              "      <td>Patient : Victor Muscat, 22 years-old , Record date : 2079-12-04 .</td>\n",
              "    </tr>\n",
              "    <tr>\n",
              "      <th>3</th>\n",
              "      <td>Cocke County Baptist Hospital .</td>\n",
              "      <td>KAISER FND HOSP - HAYWARD/FREMONT</td>\n",
              "    </tr>\n",
              "    <tr>\n",
              "      <th>4</th>\n",
              "      <td>0295 Keats Street</td>\n",
              "      <td>909 west 1st street</td>\n",
              "    </tr>\n",
              "  </tbody>\n",
              "</table>\n",
              "</div>\n",
              "      <button class=\"colab-df-convert\" onclick=\"convertToInteractive('df-2df5df80-49cd-4e54-a667-45957b78e861')\"\n",
              "              title=\"Convert this dataframe to an interactive table.\"\n",
              "              style=\"display:none;\">\n",
              "        \n",
              "  <svg xmlns=\"http://www.w3.org/2000/svg\" height=\"24px\"viewBox=\"0 0 24 24\"\n",
              "       width=\"24px\">\n",
              "    <path d=\"M0 0h24v24H0V0z\" fill=\"none\"/>\n",
              "    <path d=\"M18.56 5.44l.94 2.06.94-2.06 2.06-.94-2.06-.94-.94-2.06-.94 2.06-2.06.94zm-11 1L8.5 8.5l.94-2.06 2.06-.94-2.06-.94L8.5 2.5l-.94 2.06-2.06.94zm10 10l.94 2.06.94-2.06 2.06-.94-2.06-.94-.94-2.06-.94 2.06-2.06.94z\"/><path d=\"M17.41 7.96l-1.37-1.37c-.4-.4-.92-.59-1.43-.59-.52 0-1.04.2-1.43.59L10.3 9.45l-7.72 7.72c-.78.78-.78 2.05 0 2.83L4 21.41c.39.39.9.59 1.41.59.51 0 1.02-.2 1.41-.59l7.78-7.78 2.81-2.81c.8-.78.8-2.07 0-2.86zM5.41 20L4 18.59l7.72-7.72 1.47 1.35L5.41 20z\"/>\n",
              "  </svg>\n",
              "      </button>\n",
              "      \n",
              "  <style>\n",
              "    .colab-df-container {\n",
              "      display:flex;\n",
              "      flex-wrap:wrap;\n",
              "      gap: 12px;\n",
              "    }\n",
              "\n",
              "    .colab-df-convert {\n",
              "      background-color: #E8F0FE;\n",
              "      border: none;\n",
              "      border-radius: 50%;\n",
              "      cursor: pointer;\n",
              "      display: none;\n",
              "      fill: #1967D2;\n",
              "      height: 32px;\n",
              "      padding: 0 0 0 0;\n",
              "      width: 32px;\n",
              "    }\n",
              "\n",
              "    .colab-df-convert:hover {\n",
              "      background-color: #E2EBFA;\n",
              "      box-shadow: 0px 1px 2px rgba(60, 64, 67, 0.3), 0px 1px 3px 1px rgba(60, 64, 67, 0.15);\n",
              "      fill: #174EA6;\n",
              "    }\n",
              "\n",
              "    [theme=dark] .colab-df-convert {\n",
              "      background-color: #3B4455;\n",
              "      fill: #D2E3FC;\n",
              "    }\n",
              "\n",
              "    [theme=dark] .colab-df-convert:hover {\n",
              "      background-color: #434B5C;\n",
              "      box-shadow: 0px 1px 3px 1px rgba(0, 0, 0, 0.15);\n",
              "      filter: drop-shadow(0px 1px 2px rgba(0, 0, 0, 0.3));\n",
              "      fill: #FFFFFF;\n",
              "    }\n",
              "  </style>\n",
              "\n",
              "      <script>\n",
              "        const buttonEl =\n",
              "          document.querySelector('#df-2df5df80-49cd-4e54-a667-45957b78e861 button.colab-df-convert');\n",
              "        buttonEl.style.display =\n",
              "          google.colab.kernel.accessAllowed ? 'block' : 'none';\n",
              "\n",
              "        async function convertToInteractive(key) {\n",
              "          const element = document.querySelector('#df-2df5df80-49cd-4e54-a667-45957b78e861');\n",
              "          const dataTable =\n",
              "            await google.colab.kernel.invokeFunction('convertToInteractive',\n",
              "                                                     [key], {});\n",
              "          if (!dataTable) return;\n",
              "\n",
              "          const docLinkHtml = 'Like what you see? Visit the ' +\n",
              "            '<a target=\"_blank\" href=https://colab.research.google.com/notebooks/data_table.ipynb>data table notebook</a>'\n",
              "            + ' to learn more about interactive tables.';\n",
              "          element.innerHTML = '';\n",
              "          dataTable['output_type'] = 'display_data';\n",
              "          await google.colab.output.renderOutput(dataTable, element);\n",
              "          const docLink = document.createElement('div');\n",
              "          docLink.innerHTML = docLinkHtml;\n",
              "          element.appendChild(docLink);\n",
              "        }\n",
              "      </script>\n",
              "    </div>\n",
              "  </div>\n",
              "  "
            ],
            "text/plain": [
              "                                                        sentence                                                        deidentified\n",
              "0                  Record date : 2093-01-13 , David Hale , M.D .                  Record date : 2093-02-12 , Dr Alethea Dick , M.D .\n",
              "1      , Name : Hendrickson , Ora MR # 7194334 Date : 01/13/93 .             , Name : Yates Poling MR # F3109487 Date : 11-25-1997 .\n",
              "2  Patient : Oliveira, 25 years-old , Record date : 2079-11-09 .  Patient : Victor Muscat, 22 years-old , Record date : 2079-12-04 .\n",
              "3                                Cocke County Baptist Hospital .                                   KAISER FND HOSP - HAYWARD/FREMONT\n",
              "4                                              0295 Keats Street                                                 909 west 1st street"
            ]
          },
          "metadata": {},
          "execution_count": 45
        }
      ]
    },
    {
      "cell_type": "code",
      "execution_count": null,
      "metadata": {
        "colab": {
          "base_uri": "https://localhost:8080/"
        },
        "id": "lkQ4ojPftJh0",
        "outputId": "293976d9-77e4-4eec-aa0a-680f1a6e0a98"
      },
      "outputs": [
        {
          "output_type": "execute_result",
          "data": {
            "text/plain": [
              "[Row(ner_chunk=[Row(annotatorType='chunk', begin=15, end=24, result='2093-01-13', metadata={'sentence': '0', 'chunk': '0', 'ner_source': 'ner_chunk', 'entity': 'DATE', 'confidence': '1.0'}, embeddings=[]), Row(annotatorType='chunk', begin=28, end=37, result='David Hale', metadata={'sentence': '0', 'chunk': '1', 'ner_source': 'ner_chunk', 'entity': 'DOCTOR', 'confidence': '0.86915'}, embeddings=[]), Row(annotatorType='chunk', begin=56, end=72, result='Hendrickson , Ora', metadata={'sentence': '1', 'chunk': '2', 'ner_source': 'ner_chunk', 'entity': 'PATIENT', 'confidence': '0.94600004'}, embeddings=[]), Row(annotatorType='chunk', begin=79, end=85, result='7194334', metadata={'sentence': '1', 'chunk': '3', 'ner_source': 'ner_chunk', 'entity': 'MEDICALRECORD', 'confidence': '0.998'}, embeddings=[]), Row(annotatorType='chunk', begin=94, end=101, result='01/13/93', metadata={'sentence': '1', 'chunk': '4', 'ner_source': 'ner_chunk', 'entity': 'DATE', 'confidence': '0.9901'}, embeddings=[]), Row(annotatorType='chunk', begin=115, end=122, result='Oliveira', metadata={'sentence': '2', 'chunk': '5', 'ner_source': 'ner_chunk', 'entity': 'PATIENT', 'confidence': '0.9991'}, embeddings=[]), Row(annotatorType='chunk', begin=125, end=126, result='25', metadata={'sentence': '2', 'chunk': '6', 'ner_source': 'ner_chunk', 'entity': 'AGE', 'confidence': '0.9855'}, embeddings=[]), Row(annotatorType='chunk', begin=154, end=163, result='2079-11-09', metadata={'sentence': '2', 'chunk': '7', 'ner_source': 'ner_chunk', 'entity': 'DATE', 'confidence': '0.9448'}, embeddings=[]), Row(annotatorType='chunk', begin=167, end=197, result='Cocke County Baptist Hospital .', metadata={'sentence': '3', 'chunk': '8', 'ner_source': 'ner_chunk', 'entity': 'HOSPITAL', 'confidence': '0.76782'}, embeddings=[]), Row(annotatorType='chunk', begin=199, end=215, result='0295 Keats Street', metadata={'sentence': '4', 'chunk': '9', 'ner_source': 'ner_chunk', 'entity': 'STREET', 'confidence': '0.57596666'}, embeddings=[])])]"
            ]
          },
          "metadata": {},
          "execution_count": 46
        }
      ],
      "source": [
        "result.select(\"ner_chunk\").collect()"
      ]
    },
    {
      "cell_type": "code",
      "execution_count": null,
      "metadata": {
        "colab": {
          "base_uri": "https://localhost:8080/",
          "height": 204
        },
        "id": "bv42DZOxi-lP",
        "outputId": "b04aa447-76f7-4f75-a988-9d6ba706592b"
      },
      "outputs": [
        {
          "output_type": "execute_result",
          "data": {
            "text/html": [
              "\n",
              "  <div id=\"df-52a8609f-cedc-4746-830a-9d4b60c1e8fe\">\n",
              "    <div class=\"colab-df-container\">\n",
              "      <div>\n",
              "<style scoped>\n",
              "    .dataframe tbody tr th:only-of-type {\n",
              "        vertical-align: middle;\n",
              "    }\n",
              "\n",
              "    .dataframe tbody tr th {\n",
              "        vertical-align: top;\n",
              "    }\n",
              "\n",
              "    .dataframe thead th {\n",
              "        text-align: right;\n",
              "    }\n",
              "</style>\n",
              "<table border=\"1\" class=\"dataframe\">\n",
              "  <thead>\n",
              "    <tr style=\"text-align: right;\">\n",
              "      <th></th>\n",
              "      <th>sentence</th>\n",
              "      <th>deidentified</th>\n",
              "    </tr>\n",
              "  </thead>\n",
              "  <tbody>\n",
              "    <tr>\n",
              "      <th>0</th>\n",
              "      <td>Record date : 2093-01-13 , David Hale , M.D .</td>\n",
              "      <td>Record date : 2093-01-26 , Mufi HIGGS , M.D .</td>\n",
              "    </tr>\n",
              "    <tr>\n",
              "      <th>1</th>\n",
              "      <td>, Name : Hendrickson , Ora MR # 7194334 Date : 01/13/93 .</td>\n",
              "      <td>, Name : Inci FOUNTAIN MR # &lt;MEDICALRECORD&gt; Date : 11-07-1989 .</td>\n",
              "    </tr>\n",
              "    <tr>\n",
              "      <th>2</th>\n",
              "      <td>Patient : Oliveira, 25 years-old , Record date : 2079-11-09 .</td>\n",
              "      <td>Patient : ALTHEA COLBURN, &lt;AGE&gt; years-old , Record date : 2079-11-13 .</td>\n",
              "    </tr>\n",
              "    <tr>\n",
              "      <th>3</th>\n",
              "      <td>Cocke County Baptist Hospital .</td>\n",
              "      <td>&lt;HOSPITAL&gt;</td>\n",
              "    </tr>\n",
              "    <tr>\n",
              "      <th>4</th>\n",
              "      <td>0295 Keats Street</td>\n",
              "      <td>&lt;STREET&gt;</td>\n",
              "    </tr>\n",
              "  </tbody>\n",
              "</table>\n",
              "</div>\n",
              "      <button class=\"colab-df-convert\" onclick=\"convertToInteractive('df-52a8609f-cedc-4746-830a-9d4b60c1e8fe')\"\n",
              "              title=\"Convert this dataframe to an interactive table.\"\n",
              "              style=\"display:none;\">\n",
              "        \n",
              "  <svg xmlns=\"http://www.w3.org/2000/svg\" height=\"24px\"viewBox=\"0 0 24 24\"\n",
              "       width=\"24px\">\n",
              "    <path d=\"M0 0h24v24H0V0z\" fill=\"none\"/>\n",
              "    <path d=\"M18.56 5.44l.94 2.06.94-2.06 2.06-.94-2.06-.94-.94-2.06-.94 2.06-2.06.94zm-11 1L8.5 8.5l.94-2.06 2.06-.94-2.06-.94L8.5 2.5l-.94 2.06-2.06.94zm10 10l.94 2.06.94-2.06 2.06-.94-2.06-.94-.94-2.06-.94 2.06-2.06.94z\"/><path d=\"M17.41 7.96l-1.37-1.37c-.4-.4-.92-.59-1.43-.59-.52 0-1.04.2-1.43.59L10.3 9.45l-7.72 7.72c-.78.78-.78 2.05 0 2.83L4 21.41c.39.39.9.59 1.41.59.51 0 1.02-.2 1.41-.59l7.78-7.78 2.81-2.81c.8-.78.8-2.07 0-2.86zM5.41 20L4 18.59l7.72-7.72 1.47 1.35L5.41 20z\"/>\n",
              "  </svg>\n",
              "      </button>\n",
              "      \n",
              "  <style>\n",
              "    .colab-df-container {\n",
              "      display:flex;\n",
              "      flex-wrap:wrap;\n",
              "      gap: 12px;\n",
              "    }\n",
              "\n",
              "    .colab-df-convert {\n",
              "      background-color: #E8F0FE;\n",
              "      border: none;\n",
              "      border-radius: 50%;\n",
              "      cursor: pointer;\n",
              "      display: none;\n",
              "      fill: #1967D2;\n",
              "      height: 32px;\n",
              "      padding: 0 0 0 0;\n",
              "      width: 32px;\n",
              "    }\n",
              "\n",
              "    .colab-df-convert:hover {\n",
              "      background-color: #E2EBFA;\n",
              "      box-shadow: 0px 1px 2px rgba(60, 64, 67, 0.3), 0px 1px 3px 1px rgba(60, 64, 67, 0.15);\n",
              "      fill: #174EA6;\n",
              "    }\n",
              "\n",
              "    [theme=dark] .colab-df-convert {\n",
              "      background-color: #3B4455;\n",
              "      fill: #D2E3FC;\n",
              "    }\n",
              "\n",
              "    [theme=dark] .colab-df-convert:hover {\n",
              "      background-color: #434B5C;\n",
              "      box-shadow: 0px 1px 3px 1px rgba(0, 0, 0, 0.15);\n",
              "      filter: drop-shadow(0px 1px 2px rgba(0, 0, 0, 0.3));\n",
              "      fill: #FFFFFF;\n",
              "    }\n",
              "  </style>\n",
              "\n",
              "      <script>\n",
              "        const buttonEl =\n",
              "          document.querySelector('#df-52a8609f-cedc-4746-830a-9d4b60c1e8fe button.colab-df-convert');\n",
              "        buttonEl.style.display =\n",
              "          google.colab.kernel.accessAllowed ? 'block' : 'none';\n",
              "\n",
              "        async function convertToInteractive(key) {\n",
              "          const element = document.querySelector('#df-52a8609f-cedc-4746-830a-9d4b60c1e8fe');\n",
              "          const dataTable =\n",
              "            await google.colab.kernel.invokeFunction('convertToInteractive',\n",
              "                                                     [key], {});\n",
              "          if (!dataTable) return;\n",
              "\n",
              "          const docLinkHtml = 'Like what you see? Visit the ' +\n",
              "            '<a target=\"_blank\" href=https://colab.research.google.com/notebooks/data_table.ipynb>data table notebook</a>'\n",
              "            + ' to learn more about interactive tables.';\n",
              "          element.innerHTML = '';\n",
              "          dataTable['output_type'] = 'display_data';\n",
              "          await google.colab.output.renderOutput(dataTable, element);\n",
              "          const docLink = document.createElement('div');\n",
              "          docLink.innerHTML = docLinkHtml;\n",
              "          element.appendChild(docLink);\n",
              "        }\n",
              "      </script>\n",
              "    </div>\n",
              "  </div>\n",
              "  "
            ],
            "text/plain": [
              "                                                        sentence                                                            deidentified\n",
              "0                  Record date : 2093-01-13 , David Hale , M.D .                           Record date : 2093-01-26 , Mufi HIGGS , M.D .\n",
              "1      , Name : Hendrickson , Ora MR # 7194334 Date : 01/13/93 .         , Name : Inci FOUNTAIN MR # <MEDICALRECORD> Date : 11-07-1989 .\n",
              "2  Patient : Oliveira, 25 years-old , Record date : 2079-11-09 .  Patient : ALTHEA COLBURN, <AGE> years-old , Record date : 2079-11-13 .\n",
              "3                                Cocke County Baptist Hospital .                                                              <HOSPITAL>\n",
              "4                                              0295 Keats Street                                                                <STREET>"
            ]
          },
          "metadata": {},
          "execution_count": 47
        }
      ],
      "source": [
        "obfuscation = DeIdentification()\\\n",
        "      .setInputCols([\"sentence\", \"token\", \"ner_chunk\"]) \\\n",
        "      .setOutputCol(\"deidentified\") \\\n",
        "      .setMode(\"obfuscate\")\\\n",
        "      .setObfuscateDate(True)\\\n",
        "      .setObfuscateRefFile('obfuscation.txt')\\\n",
        "      .setObfuscateRefSource(\"file\")\n",
        "\n",
        "pipeline = Pipeline(stages=[\n",
        "      documentAssembler, \n",
        "      sentenceDetector,\n",
        "      tokenizer,\n",
        "      word_embeddings,\n",
        "      deid_ner,\n",
        "      ner_converter,\n",
        "      obfuscation\n",
        "])\n",
        "\n",
        "obfuscation_model = pipeline.fit(empty_data)      \n",
        "      \n",
        "      \n",
        "result = obfuscation_model.transform(spark.createDataFrame([[text]]).toDF(\"text\"))\n",
        "\n",
        "result.select(F.explode(F.arrays_zip('sentence.result', 'deidentified.result')).alias(\"cols\")) \\\n",
        ".select(F.expr(\"cols['0']\").alias(\"sentence\"), F.expr(\"cols['1']\").alias(\"deidentified\")).toPandas()"
      ]
    },
    {
      "cell_type": "markdown",
      "metadata": {
        "id": "9vL7_bDHWZw8"
      },
      "source": [
        "## Faker mode"
      ]
    },
    {
      "cell_type": "markdown",
      "metadata": {
        "id": "sE0P0vXWuJAS"
      },
      "source": [
        "The faker module allow to the user to use a set of fake entities that are in the memory of the spark-nlp-internal. You can setting up this module using the the following property setObfuscateRefSource('faker').\n",
        "\n",
        "If we select the setObfuscateRefSource('both') then we choose randomly the entities using the faker and the fakes entities from the obfuscateRefFile.\n",
        "\n",
        "\n",
        "The entities that are allowed right now are the followings:\n",
        "\n",
        "* Location\n",
        "* Location-other\n",
        "* Hospital\n",
        "* City\n",
        "* State\n",
        "* Zip\n",
        "* Country\n",
        "* Contact\n",
        "* Username\n",
        "* Phone\n",
        "* Fax\n",
        "* Url\n",
        "* Email\n",
        "* Profession\n",
        "* Name\n",
        "* Doctor\n",
        "* Patient\n",
        "* Id\n",
        "* Idnum\n",
        "* Bioid\n",
        "* Age\n",
        "* Organization\n",
        "* Healthplan\n",
        "* Medicalrecord\n",
        "* Ssn\n",
        "* Passport\n",
        "* DLN\n",
        "* NPI\n",
        "* C_card\n",
        "* IBAN\n",
        "* DEA\n",
        "* Device\n",
        "\n",
        "\n"
      ]
    },
    {
      "cell_type": "code",
      "execution_count": null,
      "metadata": {
        "id": "w5P97F6jVkNB"
      },
      "outputs": [],
      "source": [
        "obfuscation = DeIdentification()\\\n",
        "      .setInputCols([\"sentence\", \"token\", \"ner_chunk\"]) \\\n",
        "      .setOutputCol(\"deidentified\") \\\n",
        "      .setMode(\"obfuscate\")\\\n",
        "      .setObfuscateDate(True)\\\n",
        "      .setObfuscateRefSource(\"faker\") \\\n",
        "\n",
        "pipeline = Pipeline(stages=[\n",
        "      documentAssembler, \n",
        "      sentenceDetector,\n",
        "      tokenizer,\n",
        "      word_embeddings,\n",
        "      deid_ner,\n",
        "      ner_converter,\n",
        "      obfuscation\n",
        "])\n",
        "\n",
        "obfuscation_model = pipeline.fit(empty_data)"
      ]
    },
    {
      "cell_type": "code",
      "execution_count": null,
      "metadata": {
        "colab": {
          "base_uri": "https://localhost:8080/",
          "height": 204
        },
        "id": "lf6OBIjvjWFd",
        "outputId": "847a9a6f-4f0e-4e54-e333-c0f4f973f45f"
      },
      "outputs": [
        {
          "output_type": "execute_result",
          "data": {
            "text/html": [
              "\n",
              "  <div id=\"df-9c0e8e1c-bd1c-45aa-8d8c-fa36b38a2f8f\">\n",
              "    <div class=\"colab-df-container\">\n",
              "      <div>\n",
              "<style scoped>\n",
              "    .dataframe tbody tr th:only-of-type {\n",
              "        vertical-align: middle;\n",
              "    }\n",
              "\n",
              "    .dataframe tbody tr th {\n",
              "        vertical-align: top;\n",
              "    }\n",
              "\n",
              "    .dataframe thead th {\n",
              "        text-align: right;\n",
              "    }\n",
              "</style>\n",
              "<table border=\"1\" class=\"dataframe\">\n",
              "  <thead>\n",
              "    <tr style=\"text-align: right;\">\n",
              "      <th></th>\n",
              "      <th>sentence</th>\n",
              "      <th>deidentified</th>\n",
              "    </tr>\n",
              "  </thead>\n",
              "  <tbody>\n",
              "    <tr>\n",
              "      <th>0</th>\n",
              "      <td>Record date : 2093-01-13 , David Hale , M.D .</td>\n",
              "      <td>Record date : 2093-01-20 , Dr Ritchie Schmitt , M.D .</td>\n",
              "    </tr>\n",
              "    <tr>\n",
              "      <th>1</th>\n",
              "      <td>, Name : Hendrickson , Ora MR # 7194334 Date : 01/13/93 .</td>\n",
              "      <td>, Name : Vaughn Dimmer MR # K3314275 Date : 04-01-2005 .</td>\n",
              "    </tr>\n",
              "    <tr>\n",
              "      <th>2</th>\n",
              "      <td>Patient : Oliveira, 25 years-old , Record date : 2079-11-09 .</td>\n",
              "      <td>Patient : Christy Draft, 18 years-old , Record date : 2079-12-30 .</td>\n",
              "    </tr>\n",
              "    <tr>\n",
              "      <th>3</th>\n",
              "      <td>Cocke County Baptist Hospital .</td>\n",
              "      <td>VALIR REHABILITATION HOSPITAL OF OKC</td>\n",
              "    </tr>\n",
              "    <tr>\n",
              "      <th>4</th>\n",
              "      <td>0295 Keats Street</td>\n",
              "      <td>Reyes Católicos 75</td>\n",
              "    </tr>\n",
              "  </tbody>\n",
              "</table>\n",
              "</div>\n",
              "      <button class=\"colab-df-convert\" onclick=\"convertToInteractive('df-9c0e8e1c-bd1c-45aa-8d8c-fa36b38a2f8f')\"\n",
              "              title=\"Convert this dataframe to an interactive table.\"\n",
              "              style=\"display:none;\">\n",
              "        \n",
              "  <svg xmlns=\"http://www.w3.org/2000/svg\" height=\"24px\"viewBox=\"0 0 24 24\"\n",
              "       width=\"24px\">\n",
              "    <path d=\"M0 0h24v24H0V0z\" fill=\"none\"/>\n",
              "    <path d=\"M18.56 5.44l.94 2.06.94-2.06 2.06-.94-2.06-.94-.94-2.06-.94 2.06-2.06.94zm-11 1L8.5 8.5l.94-2.06 2.06-.94-2.06-.94L8.5 2.5l-.94 2.06-2.06.94zm10 10l.94 2.06.94-2.06 2.06-.94-2.06-.94-.94-2.06-.94 2.06-2.06.94z\"/><path d=\"M17.41 7.96l-1.37-1.37c-.4-.4-.92-.59-1.43-.59-.52 0-1.04.2-1.43.59L10.3 9.45l-7.72 7.72c-.78.78-.78 2.05 0 2.83L4 21.41c.39.39.9.59 1.41.59.51 0 1.02-.2 1.41-.59l7.78-7.78 2.81-2.81c.8-.78.8-2.07 0-2.86zM5.41 20L4 18.59l7.72-7.72 1.47 1.35L5.41 20z\"/>\n",
              "  </svg>\n",
              "      </button>\n",
              "      \n",
              "  <style>\n",
              "    .colab-df-container {\n",
              "      display:flex;\n",
              "      flex-wrap:wrap;\n",
              "      gap: 12px;\n",
              "    }\n",
              "\n",
              "    .colab-df-convert {\n",
              "      background-color: #E8F0FE;\n",
              "      border: none;\n",
              "      border-radius: 50%;\n",
              "      cursor: pointer;\n",
              "      display: none;\n",
              "      fill: #1967D2;\n",
              "      height: 32px;\n",
              "      padding: 0 0 0 0;\n",
              "      width: 32px;\n",
              "    }\n",
              "\n",
              "    .colab-df-convert:hover {\n",
              "      background-color: #E2EBFA;\n",
              "      box-shadow: 0px 1px 2px rgba(60, 64, 67, 0.3), 0px 1px 3px 1px rgba(60, 64, 67, 0.15);\n",
              "      fill: #174EA6;\n",
              "    }\n",
              "\n",
              "    [theme=dark] .colab-df-convert {\n",
              "      background-color: #3B4455;\n",
              "      fill: #D2E3FC;\n",
              "    }\n",
              "\n",
              "    [theme=dark] .colab-df-convert:hover {\n",
              "      background-color: #434B5C;\n",
              "      box-shadow: 0px 1px 3px 1px rgba(0, 0, 0, 0.15);\n",
              "      filter: drop-shadow(0px 1px 2px rgba(0, 0, 0, 0.3));\n",
              "      fill: #FFFFFF;\n",
              "    }\n",
              "  </style>\n",
              "\n",
              "      <script>\n",
              "        const buttonEl =\n",
              "          document.querySelector('#df-9c0e8e1c-bd1c-45aa-8d8c-fa36b38a2f8f button.colab-df-convert');\n",
              "        buttonEl.style.display =\n",
              "          google.colab.kernel.accessAllowed ? 'block' : 'none';\n",
              "\n",
              "        async function convertToInteractive(key) {\n",
              "          const element = document.querySelector('#df-9c0e8e1c-bd1c-45aa-8d8c-fa36b38a2f8f');\n",
              "          const dataTable =\n",
              "            await google.colab.kernel.invokeFunction('convertToInteractive',\n",
              "                                                     [key], {});\n",
              "          if (!dataTable) return;\n",
              "\n",
              "          const docLinkHtml = 'Like what you see? Visit the ' +\n",
              "            '<a target=\"_blank\" href=https://colab.research.google.com/notebooks/data_table.ipynb>data table notebook</a>'\n",
              "            + ' to learn more about interactive tables.';\n",
              "          element.innerHTML = '';\n",
              "          dataTable['output_type'] = 'display_data';\n",
              "          await google.colab.output.renderOutput(dataTable, element);\n",
              "          const docLink = document.createElement('div');\n",
              "          docLink.innerHTML = docLinkHtml;\n",
              "          element.appendChild(docLink);\n",
              "        }\n",
              "      </script>\n",
              "    </div>\n",
              "  </div>\n",
              "  "
            ],
            "text/plain": [
              "                                                        sentence                                                        deidentified\n",
              "0                  Record date : 2093-01-13 , David Hale , M.D .               Record date : 2093-01-20 , Dr Ritchie Schmitt , M.D .\n",
              "1      , Name : Hendrickson , Ora MR # 7194334 Date : 01/13/93 .            , Name : Vaughn Dimmer MR # K3314275 Date : 04-01-2005 .\n",
              "2  Patient : Oliveira, 25 years-old , Record date : 2079-11-09 .  Patient : Christy Draft, 18 years-old , Record date : 2079-12-30 .\n",
              "3                                Cocke County Baptist Hospital .                                VALIR REHABILITATION HOSPITAL OF OKC\n",
              "4                                              0295 Keats Street                                                  Reyes Católicos 75"
            ]
          },
          "metadata": {},
          "execution_count": 49
        }
      ],
      "source": [
        "text ='''\n",
        "Record date : 2093-01-13 , David Hale , M.D . , Name : Hendrickson , Ora MR # 7194334 Date : 01/13/93 . Patient : Oliveira, 25 years-old , Record date : 2079-11-09 . Cocke County Baptist Hospital . 0295 Keats Street\n",
        "'''\n",
        "\n",
        "result = obfuscation_model.transform(spark.createDataFrame([[text]]).toDF(\"text\"))\n",
        "\n",
        "result.select(F.explode(F.arrays_zip('sentence.result', 'deidentified.result')).alias(\"cols\")) \\\n",
        ".select(F.expr(\"cols['0']\").alias(\"sentence\"), F.expr(\"cols['1']\").alias(\"deidentified\")).toPandas()"
      ]
    },
    {
      "cell_type": "markdown",
      "metadata": {
        "id": "9jAMC21Hf89v"
      },
      "source": [
        "## Use full pipeline in the Light model"
      ]
    },
    {
      "cell_type": "code",
      "execution_count": null,
      "metadata": {
        "colab": {
          "base_uri": "https://localhost:8080/"
        },
        "id": "q4mg2R-yW4nz",
        "outputId": "c2b8baea-f95d-43d9-9816-c8675d78c581"
      },
      "outputs": [
        {
          "output_type": "execute_result",
          "data": {
            "text/plain": [
              "['Record date : <DATE> , <NAME> , M.D .',\n",
              " ', Name : <NAME> MR # <ID> Date : <DATE> .',\n",
              " 'Patient : <NAME>, <AGE> years-old , Record date : <DATE> .',\n",
              " '<HOSPITAL>',\n",
              " '<STREET>']"
            ]
          },
          "metadata": {},
          "execution_count": 50
        }
      ],
      "source": [
        "light_model = LightPipeline(model)\n",
        "annotated_text = light_model.annotate(text)\n",
        "annotated_text['deidentified']"
      ]
    },
    {
      "cell_type": "code",
      "execution_count": null,
      "metadata": {
        "colab": {
          "base_uri": "https://localhost:8080/"
        },
        "id": "rGALkSGQjf4h",
        "outputId": "9a477131-5c9d-4489-982f-8e6f12badf2a"
      },
      "outputs": [
        {
          "output_type": "execute_result",
          "data": {
            "text/plain": [
              "['Record date : 2093-01-20 , Dr Ritchie Schmitt , M.D .',\n",
              " ', Name : Vaughn Dimmer MR # K3314275 Date : 04-01-2005 .',\n",
              " 'Patient : Christy Draft, 18 years-old , Record date : 2079-12-23 .',\n",
              " 'VALIR REHABILITATION HOSPITAL OF OKC',\n",
              " 'Reyes Católicos 75']"
            ]
          },
          "metadata": {},
          "execution_count": 51
        }
      ],
      "source": [
        "obf_light_model = LightPipeline(obfuscation_model)\n",
        "annotated_text = obf_light_model.annotate(text)\n",
        "annotated_text['deidentified']"
      ]
    },
    {
      "cell_type": "markdown",
      "metadata": {
        "id": "zwM9GsKnXPOg"
      },
      "source": [
        "# Structured Deidentification"
      ]
    },
    {
      "cell_type": "code",
      "execution_count": null,
      "metadata": {
        "colab": {
          "base_uri": "https://localhost:8080/"
        },
        "id": "JLY-pfeYXQAY",
        "outputId": "86ae03b8-298a-40a7-a1f4-a015730af42e"
      },
      "outputs": [
        {
          "output_type": "stream",
          "name": "stdout",
          "text": [
            "+---------------+----------+---+----------------------------------------------------+-------+--------------+---+---+\n",
            "|NAME           |DOB       |AGE|ADDRESS                                             |ZIPCODE|TEL           |SBP|DBP|\n",
            "+---------------+----------+---+----------------------------------------------------+-------+--------------+---+---+\n",
            "|Cecilia Chapman|04/02/1935|83 |711-2880 Nulla St. Mankato Mississippi              |69200  |(257) 563-7401|101|42 |\n",
            "|Iris Watson    |03/10/2009|9  |P.O. Box 283 8562 Fusce Rd. Frederick Nebraska      |20620  |(372) 587-2335|159|122|\n",
            "|Bryar Pitts    |11/01/1921|98 |5543 Aliquet St. Fort Dodge GA                      |20783  |(717) 450-4729|149|52 |\n",
            "|Theodore Lowe  |13/02/2002|16 |Ap #867-859 Sit Rd. Azusa New York                  |39531  |(793) 151-6230|134|115|\n",
            "|Calista Wise   |20/08/1942|76 |7292 Dictum Av. San Antonio MI                      |47096  |(492) 709-6392|139|78 |\n",
            "|Kyla Olsen     |12/05/1973|45 |Ap #651-8679 Sodales Av. Tamuning PA                |10855  |(654) 393-5734|120|112|\n",
            "|Forrest Ray    |11/01/1991|27 |191-103 Integer Rd. Corona New Mexico               |8219   |(404) 960-3807|143|126|\n",
            "|Hiroko Potter  |18/11/1937|81 |P.O. Box 887 2508 Dolor. Av. Muskegon KY            |12482  |(314) 244-6306|147|75 |\n",
            "|Celeste Slater |12/05/1980|38 |606-3727 Ullamcorper. Street Roseville NH           |11523  |(786) 713-8616|147|123|\n",
            "|Nyssa Vazquez  |24/09/1956|62 |511-5762 At Rd. Chelsea MI                          |67708  |(947) 278-5929|129|50 |\n",
            "|Lawrence Moreno|26/12/1906|112|935-9940 Tortor. Street Santa Rosa MN               |98804  |(684) 579-1879|133|102|\n",
            "|Ina Moran      |26/10/1983|35 |P.O. Box 929 4189 Nunc Road Lebanon KY              |69409  |(389) 737-2852|101|67 |\n",
            "|Aaron Hawkins  |26/09/2009|9  |5587 Nunc. Avenue Erie Rhode Island                 |24975  |(660) 663-4518|87 |81 |\n",
            "|Hedy Greene    |03/10/1920|98 |Ap #696-3279 Viverra. Avenue Latrobe DE             |38100  |(608) 265-2215|128|123|\n",
            "|Melvin Porter  |14/08/1911|107|P.O. Box 132 1599 Curabitur Rd. Bandera South Dakota|45149  |(959) 119-8364|83 |43 |\n",
            "|Keefe Sellers  |16/05/1937|81 |347-7666 Iaculis St. Woodruff SC                    |49854  |(468) 353-2641|148|109|\n",
            "|Joan Romero    |08/12/2004|14 |666-4366 Lacinia Avenue Idaho Falls Ohio            |19253  |(248) 675-4007|75 |53 |\n",
            "|Davis Patrick  |09/01/1956|63 |P.O. Box 147 2546 Sociosqu Rd. Bethlehem Utah       |2913   |(939) 353-1107|142|62 |\n",
            "|Leilani Boyer  |18/10/1934|84 |557-6308 Lacinia Road San Bernardino ND             |9289   |(570) 873-7090|137|48 |\n",
            "|Colby Bernard  |02/10/1905|113|Ap #285-7193 Ullamcorper Avenue Amesbury HI         |93373  |(302) 259-2375|84 |41 |\n",
            "+---------------+----------+---+----------------------------------------------------+-------+--------------+---+---+\n",
            "only showing top 20 rows\n",
            "\n"
          ]
        }
      ],
      "source": [
        "!wget -q https://raw.githubusercontent.com/JohnSnowLabs/spark-nlp-workshop/master/tutorials/Certification_Trainings/Healthcare/data/hipaa-table-001.txt\n",
        "\n",
        "df = spark.read.format(\"csv\") \\\n",
        "    .option(\"sep\", \"\\t\") \\\n",
        "    .option(\"inferSchema\", \"true\") \\\n",
        "    .option(\"header\", \"true\") \\\n",
        "    .load(\"hipaa-table-001.txt\")\n",
        "\n",
        "df = df.withColumnRenamed(\"PATIENT\",\"NAME\")\n",
        "df.show(truncate=False)"
      ]
    },
    {
      "cell_type": "code",
      "execution_count": null,
      "metadata": {
        "id": "F9bl5oo0ZhD_"
      },
      "outputs": [],
      "source": [
        "from sparknlp_jsl.structured_deidentification import StructuredDeidentification"
      ]
    },
    {
      "cell_type": "code",
      "execution_count": null,
      "metadata": {
        "colab": {
          "base_uri": "https://localhost:8080/"
        },
        "id": "PQ84IQTGcFAd",
        "outputId": "f2698efa-6b7a-4cd3-f945-d754409434cf"
      },
      "outputs": [
        {
          "output_type": "stream",
          "name": "stdout",
          "text": [
            "+-----------------+----------+----+----------------------------------------------------+-------+--------------+---+---+\n",
            "|NAME             |DOB       |AGE |ADDRESS                                             |ZIPCODE|TEL           |SBP|DBP|\n",
            "+-----------------+----------+----+----------------------------------------------------+-------+--------------+---+---+\n",
            "|[Romelia Peals]  |04/02/1935|[16]|711-2880 Nulla St. Mankato Mississippi              |69200  |(257) 563-7401|101|42 |\n",
            "|[Betha Brink]    |03/10/2009|[29]|P.O. Box 283 8562 Fusce Rd. Frederick Nebraska      |20620  |(372) 587-2335|159|122|\n",
            "|[Chalmers Rend]  |11/01/1921|[17]|5543 Aliquet St. Fort Dodge GA                      |20783  |(717) 450-4729|149|52 |\n",
            "|[Neale Pilon]    |13/02/2002|[89]|Ap #867-859 Sit Rd. Azusa New York                  |39531  |(793) 151-6230|134|115|\n",
            "|[Rosana Railing] |20/08/1942|[44]|7292 Dictum Av. San Antonio MI                      |47096  |(492) 709-6392|139|78 |\n",
            "|[London Posey]   |12/05/1973|[53]|Ap #651-8679 Sodales Av. Tamuning PA                |10855  |(654) 393-5734|120|112|\n",
            "|[Reyes Merchant] |11/01/1991|[39]|191-103 Integer Rd. Corona New Mexico               |8219   |(404) 960-3807|143|126|\n",
            "|[Iline Clinch]   |18/11/1937|[6] |P.O. Box 887 2508 Dolor. Av. Muskegon KY            |12482  |(314) 244-6306|147|75 |\n",
            "|[Mcneil Lamprey] |12/05/1980|[16]|606-3727 Ullamcorper. Street Roseville NH           |11523  |(786) 713-8616|147|123|\n",
            "|[Haywood Go]     |24/09/1956|[51]|511-5762 At Rd. Chelsea MI                          |67708  |(947) 278-5929|129|50 |\n",
            "|[Learta Curio]   |26/12/1906|[7] |935-9940 Tortor. Street Santa Rosa MN               |98804  |(684) 579-1879|133|102|\n",
            "|[Annabel Norton] |26/10/1983|[39]|P.O. Box 929 4189 Nunc Road Lebanon KY              |69409  |(389) 737-2852|101|67 |\n",
            "|[Wilmon Gang]    |26/09/2009|[29]|5587 Nunc. Avenue Erie Rhode Island                 |24975  |(660) 663-4518|87 |81 |\n",
            "|[Placido Barbone]|03/10/1920|[17]|Ap #696-3279 Viverra. Avenue Latrobe DE             |38100  |(608) 265-2215|128|123|\n",
            "|[Zelphia Hall]   |14/08/1911|[61]|P.O. Box 132 1599 Curabitur Rd. Bandera South Dakota|45149  |(959) 119-8364|83 |43 |\n",
            "|[Patsy Comer]    |16/05/1937|[6] |347-7666 Iaculis St. Woodruff SC                    |49854  |(468) 353-2641|148|109|\n",
            "|[Aldean Calico]  |08/12/2004|[52]|666-4366 Lacinia Avenue Idaho Falls Ohio            |19253  |(248) 675-4007|75 |53 |\n",
            "|[Patton Gay]     |09/01/1956|[89]|P.O. Box 147 2546 Sociosqu Rd. Bethlehem Utah       |2913   |(939) 353-1107|142|62 |\n",
            "|[Jewel Pilar]    |18/10/1934|[84]|557-6308 Lacinia Road San Bernardino ND             |9289   |(570) 873-7090|137|48 |\n",
            "|[Lin Hammersmith]|02/10/1905|[51]|Ap #285-7193 Ullamcorper Avenue Amesbury HI         |93373  |(302) 259-2375|84 |41 |\n",
            "+-----------------+----------+----+----------------------------------------------------+-------+--------------+---+---+\n",
            "only showing top 20 rows\n",
            "\n"
          ]
        }
      ],
      "source": [
        "obfuscator = StructuredDeidentification(spark,{\"NAME\":\"PATIENT\",\"AGE\":\"AGE\"}, obfuscateRefSource = \"faker\")\n",
        "obfuscator_df = obfuscator.obfuscateColumns(df)\n",
        "obfuscator_df.show(truncate=False)"
      ]
    },
    {
      "cell_type": "code",
      "execution_count": null,
      "metadata": {
        "id": "-GmMv8T-I0CX"
      },
      "outputs": [],
      "source": [
        "obfuscator_unique_ref_test = '''Will Perry#PATIENT\n",
        "John Smith#PATIENT\n",
        "Marvin MARSHALL#PATIENT\n",
        "Hubert GROGAN#PATIENT\n",
        "ALTHEA COLBURN#PATIENT\n",
        "Kalil AMIN#PATIENT\n",
        "Inci FOUNTAIN#PATIENT\n",
        "Jackson WILLE#PATIENT\n",
        "Jack SANTOS#PATIENT\n",
        "Mahmood ALBURN#PATIENT\n",
        "Marnie MELINGTON#PATIENT\n",
        "Aysha GHAZI#PATIENT\n",
        "Maryland CODER#PATIENT\n",
        "Darene GEORGIOUS#PATIENT\n",
        "Shelly WELLBECK#PATIENT\n",
        "Min Kun JAE#PATIENT\n",
        "Thomson THOMAS#PATIENT\n",
        "Christian SUDDINBURG#PATIENT\n",
        "Aberdeen#CITY\n",
        "Louisburg St#STREET\n",
        "France#LOC\n",
        "Nick Riviera#DOCTOR\n",
        "5552312#PHONE\n",
        "St James Hospital#HOSPITAL\n",
        "Calle del Libertador#ADDRESS\n",
        "111#ID\n",
        "Will#DOCTOR\n",
        "20#AGE\n",
        "30#AGE\n",
        "40#AGE\n",
        "50#AGE\n",
        "60#AGE\n",
        "'''\n",
        "\n",
        "with open('obfuscator_unique_ref_test.txt', 'w') as f:\n",
        "  f.write(obfuscator_unique_ref_test)"
      ]
    },
    {
      "cell_type": "code",
      "execution_count": null,
      "metadata": {
        "colab": {
          "base_uri": "https://localhost:8080/"
        },
        "id": "PTwdR034I70n",
        "outputId": "b439487e-49f3-4d6d-902e-b83048d6565a"
      },
      "outputs": [
        {
          "output_type": "stream",
          "name": "stdout",
          "text": [
            "+------------------+----+\n",
            "|NAME              |AGE |\n",
            "+------------------+----+\n",
            "|[Inci FOUNTAIN]   |[60]|\n",
            "|[Jack SANTOS]     |[30]|\n",
            "|[Darene GEORGIOUS]|[30]|\n",
            "|[Shelly WELLBECK] |[40]|\n",
            "|[Hubert GROGAN]   |[40]|\n",
            "|[Kalil AMIN]      |[40]|\n",
            "|[ALTHEA COLBURN]  |[60]|\n",
            "|[Thomson THOMAS]  |[60]|\n",
            "|[Jack SANTOS]     |[60]|\n",
            "|[Will Perry]      |[20]|\n",
            "|[Jackson WILLE]   |[60]|\n",
            "|[Shelly WELLBECK] |[40]|\n",
            "|[Kalil AMIN]      |[30]|\n",
            "|[Marnie MELINGTON]|[30]|\n",
            "|[Min Kun JAE]     |[30]|\n",
            "|[Marvin MARSHALL] |[60]|\n",
            "|[Marvin MARSHALL] |[50]|\n",
            "|[Min Kun JAE]     |[30]|\n",
            "|[Maryland CODER]  |[20]|\n",
            "|[Marnie MELINGTON]|[20]|\n",
            "+------------------+----+\n",
            "only showing top 20 rows\n",
            "\n"
          ]
        }
      ],
      "source": [
        "# obfuscateRefSource = \"file\"\n",
        "\n",
        "obfuscator = StructuredDeidentification(spark,{\"NAME\":\"PATIENT\",\"AGE\":\"AGE\"}, \n",
        "                                        obfuscateRefFile = \"/content/obfuscator_unique_ref_test.txt\",\n",
        "                                        obfuscateRefSource = \"file\",\n",
        "                                        columnsSeed={\"NAME\": 23, \"AGE\": 23})\n",
        "obfuscator_df = obfuscator.obfuscateColumns(df)\n",
        "obfuscator_df.select(\"NAME\",\"AGE\").show(truncate=False)"
      ]
    },
    {
      "cell_type": "markdown",
      "metadata": {
        "id": "w8tW5fFafQmL"
      },
      "source": [
        "We can **shift n days** in the structured deidentification through \"days\" parameter when the column is a Date."
      ]
    },
    {
      "cell_type": "code",
      "execution_count": null,
      "metadata": {
        "colab": {
          "base_uri": "https://localhost:8080/"
        },
        "id": "iBzoNufMfYCn",
        "outputId": "47bd22cf-5611-4da6-a908-e62308acc749"
      },
      "outputs": [
        {
          "output_type": "stream",
          "name": "stdout",
          "text": [
            "+-------------+----------+-----------------------+---+----------------+\n",
            "|NAME         |DOB       |ADDRESS                |SBP|TEL             |\n",
            "+-------------+----------+-----------------------+---+----------------+\n",
            "|Juan García  |13/02/1977|711 Nulla St.          |140|673 431234      |\n",
            "|Will Smith   |23/02/1977|1 Green Avenue.        |140|+23 (673) 431234|\n",
            "|Pedro Ximénez|11/04/1900|Calle del Libertador, 7|100|912 345623      |\n",
            "+-------------+----------+-----------------------+---+----------------+\n",
            "\n"
          ]
        }
      ],
      "source": [
        "df = spark.createDataFrame([\n",
        "            [\"Juan García\", \"13/02/1977\", \"711 Nulla St.\", \"140\", \"673 431234\"],\n",
        "            [\"Will Smith\", \"23/02/1977\", \"1 Green Avenue.\", \"140\", \"+23 (673) 431234\"],\n",
        "            [\"Pedro Ximénez\", \"11/04/1900\", \"Calle del Libertador, 7\", \"100\", \"912 345623\"]\n",
        "        ]).toDF(\"NAME\", \"DOB\", \"ADDRESS\", \"SBP\", \"TEL\")\n",
        "df.show(truncate=False)"
      ]
    },
    {
      "cell_type": "code",
      "execution_count": null,
      "metadata": {
        "id": "Fez0Rqq_fX3C"
      },
      "outputs": [],
      "source": [
        "obfuscator = StructuredDeidentification(spark=spark, columns={\"NAME\": \"ID\", \"DOB\": \"DATE\"},\n",
        "                                                      columnsSeed={\"NAME\": 23, \"DOB\": 23},\n",
        "                                                      obfuscateRefSource=\"faker\",\n",
        "                                                      days=5\n",
        "                                         )"
      ]
    },
    {
      "cell_type": "code",
      "execution_count": null,
      "metadata": {
        "colab": {
          "base_uri": "https://localhost:8080/"
        },
        "id": "HgNuMKhngFq2",
        "outputId": "1043ab86-d276-4b72-a629-0bde0ffb197b"
      },
      "outputs": [
        {
          "output_type": "stream",
          "name": "stdout",
          "text": [
            "+----------+------------+-----------------------+---+----------------+\n",
            "|NAME      |DOB         |ADDRESS                |SBP|TEL             |\n",
            "+----------+------------+-----------------------+---+----------------+\n",
            "|[N2649912]|[18/02/1977]|711 Nulla St.          |140|673 431234      |\n",
            "|[W466004] |[28/02/1977]|1 Green Avenue.        |140|+23 (673) 431234|\n",
            "|[M403810] |[16/04/1900]|Calle del Libertador, 7|100|912 345623      |\n",
            "+----------+------------+-----------------------+---+----------------+\n",
            "\n"
          ]
        }
      ],
      "source": [
        "result = obfuscator.obfuscateColumns(df)\n",
        "result.show(truncate=False)"
      ]
    },
    {
      "cell_type": "markdown",
      "metadata": {
        "id": "vI2Lkwf5zuUm"
      },
      "source": [
        "# Pretrained Deidentification Pipeline\n",
        "\n",
        "This pipeline can be used to deidentify PHI information from medical texts. The PHI information will be masked and obfuscated in the resulting text. The pipeline can mask and obfuscate `AGE`, `CONTACT`, `DATE`, `ID`, `LOCATION`, `NAME`, `PROFESSION`, `CITY`, `COUNTRY`, `DOCTOR`, `HOSPITAL`, `IDNUM`, `MEDICALRECORD`, `ORGANIZATION`, `PATIENT`, `PHONE`, `PROFESSION`, `STREET`, `USERNAME`, `ZIP`, `ACCOUNT`, `LICENSE`, `VIN`, `SSN`, `DLN`, `PLATE`, `IPADDR` entities."
      ]
    },
    {
      "cell_type": "code",
      "execution_count": null,
      "metadata": {
        "colab": {
          "base_uri": "https://localhost:8080/"
        },
        "id": "hQu0sQ6Tz1Fd",
        "outputId": "66b62f4f-fbff-49dd-bae3-6d1dcf80de10"
      },
      "outputs": [
        {
          "output_type": "stream",
          "name": "stdout",
          "text": [
            "clinical_deidentification download started this may take some time.\n",
            "Approx size to download 1.6 GB\n",
            "[OK!]\n"
          ]
        }
      ],
      "source": [
        "from sparknlp.pretrained import PretrainedPipeline\n",
        "\n",
        "deid_pipeline = PretrainedPipeline(\"clinical_deidentification\", \"en\", \"clinical/models\")"
      ]
    },
    {
      "cell_type": "code",
      "execution_count": null,
      "metadata": {
        "colab": {
          "base_uri": "https://localhost:8080/"
        },
        "id": "J7W8O9R2V8tE",
        "outputId": "fb51d348-d2de-412c-d187-7ac9bec450c6"
      },
      "outputs": [
        {
          "output_type": "execute_result",
          "data": {
            "text/plain": [
              "[DocumentAssembler_2509285f8a0f,\n",
              " SentenceDetector_db0a160bb4d4,\n",
              " REGEX_TOKENIZER_94fc5e639638,\n",
              " WORD_EMBEDDINGS_MODEL_9004b1d00302,\n",
              " MedicalNerModel_e8178a1262cc,\n",
              " NerConverter_9e62bb444e0a,\n",
              " MedicalNerModel_cb1ebd97c79c,\n",
              " NerConverter_c313861762e4,\n",
              " MERGE_c06486f91013,\n",
              " CONTEXTUAL-PARSER_87713da38b58,\n",
              " CONTEXTUAL-PARSER_96852c232651,\n",
              " CONTEXTUAL-PARSER_bbcaf87387ca,\n",
              " CONTEXTUAL-PARSER_dd32d8efd473,\n",
              " CONTEXTUAL-PARSER_caef3d923e36,\n",
              " CONTEXTUAL-PARSER_6b0c72897599,\n",
              " CONTEXTUAL-PARSER_e6dcfd75e1dd,\n",
              " CONTEXTUAL-PARSER_f44057b6b345,\n",
              " MERGE_d56f620cc959,\n",
              " MERGE_99df3ccba9e9,\n",
              " DE-IDENTIFICATION_b3194644f894,\n",
              " DE-IDENTIFICATION_a8075b1258f5,\n",
              " DE-IDENTIFICATION_2c88749d221a,\n",
              " DE-IDENTIFICATION_d1cc08d10ca2,\n",
              " Finisher_e0e20073cfcd]"
            ]
          },
          "metadata": {},
          "execution_count": 44
        }
      ],
      "source": [
        "deid_pipeline.model.stages"
      ]
    },
    {
      "cell_type": "code",
      "execution_count": null,
      "metadata": {
        "colab": {
          "base_uri": "https://localhost:8080/"
        },
        "id": "3fYhKkfv0bZ0",
        "outputId": "44971c1e-0954-4ec8-f8b7-1ef6db063228"
      },
      "outputs": [
        {
          "output_type": "execute_result",
          "data": {
            "text/plain": [
              "dict_keys(['masked', 'obfuscated', 'ner_chunk', 'masked_fixed_length_chars', 'sentence', 'masked_with_chars'])"
            ]
          },
          "metadata": {},
          "execution_count": 45
        }
      ],
      "source": [
        "deid_res.keys()"
      ]
    },
    {
      "cell_type": "code",
      "source": [
        "text= \"\"\"Name : Hendrickson, Ora, Record date: 2093-01-13, Age: 25, # 719435. Dr. John Green, ID: 1231511863, IP 203.120.223.13. He is a 60-year-old male was admitted to the Day Hospital for cystectomy on 01/13/93. Patient's VIN : 1HGBH41JXMN109286, SSN #333-44-6666, Driver's license no:A334455B. Phone (302) 786-5227, 0295 Keats Street, San Francisco, E-MAIL: smith@gmail.com\"\"\""
      ],
      "metadata": {
        "id": "tUo4PG4APG7M"
      },
      "execution_count": null,
      "outputs": []
    },
    {
      "cell_type": "code",
      "source": [
        "deid_res= deid_pipeline.annotate(text)"
      ],
      "metadata": {
        "id": "qKxhE_2_gB_9"
      },
      "execution_count": null,
      "outputs": []
    },
    {
      "cell_type": "code",
      "source": [
        "pd.set_option(\"display.max_colwidth\", 100)\n",
        "\n",
        "df= pd.DataFrame(list(zip(deid_res[\"sentence\"], deid_res[\"masked\"],\n",
        "                          deid_res[\"masked_with_chars\"], deid_res[\"masked_fixed_length_chars\"], deid_res[\"obfuscated\"])),\n",
        "                 columns= [\"Sentence\", \"Masked\", \"Masked with Chars\", \"Masked with Fixed Chars\", \"Obfuscated\"])\n",
        "\n",
        "df"
      ],
      "metadata": {
        "colab": {
          "base_uri": "https://localhost:8080/",
          "height": 435
        },
        "id": "GyMU5j6YfL5b",
        "outputId": "18eb2709-bbff-4f79-a64e-56bb23d33dcf"
      },
      "execution_count": null,
      "outputs": [
        {
          "output_type": "execute_result",
          "data": {
            "text/html": [
              "\n",
              "  <div id=\"df-f187e2be-e318-4cb4-88d6-f58c94c770a2\">\n",
              "    <div class=\"colab-df-container\">\n",
              "      <div>\n",
              "<style scoped>\n",
              "    .dataframe tbody tr th:only-of-type {\n",
              "        vertical-align: middle;\n",
              "    }\n",
              "\n",
              "    .dataframe tbody tr th {\n",
              "        vertical-align: top;\n",
              "    }\n",
              "\n",
              "    .dataframe thead th {\n",
              "        text-align: right;\n",
              "    }\n",
              "</style>\n",
              "<table border=\"1\" class=\"dataframe\">\n",
              "  <thead>\n",
              "    <tr style=\"text-align: right;\">\n",
              "      <th></th>\n",
              "      <th>Sentence</th>\n",
              "      <th>Masked</th>\n",
              "      <th>Masked with Chars</th>\n",
              "      <th>Masked with Fixed Chars</th>\n",
              "      <th>Obfuscated</th>\n",
              "    </tr>\n",
              "  </thead>\n",
              "  <tbody>\n",
              "    <tr>\n",
              "      <th>0</th>\n",
              "      <td>Name : Hendrickson, Ora, Record date: 2093-01-13, Age: 25, # 719435.</td>\n",
              "      <td>Name : &lt;PATIENT&gt;, Record date: &lt;DATE&gt;, Age: &lt;AGE&gt;, # &lt;ZIP&gt;.</td>\n",
              "      <td>Name : [**************], Record date: [********], Age: **, # [****].</td>\n",
              "      <td>Name : ****, Record date: ****, Age: ****, # ****.</td>\n",
              "      <td>Name : Jona Flowers, Record date: 2093-01-18, Age: 86, # P6310282.</td>\n",
              "    </tr>\n",
              "    <tr>\n",
              "      <th>1</th>\n",
              "      <td>Dr. John Green, ID: 1231511863, IP 203.120.223.13.</td>\n",
              "      <td>Dr. &lt;DOCTOR&gt;, ID&lt;IDNUM&gt;, IP &lt;IPADDR&gt;.</td>\n",
              "      <td>Dr. [********], ID[**********], IP [************].</td>\n",
              "      <td>Dr. ****, ID****, IP ****.</td>\n",
              "      <td>Dr. Dr Orlena Caprice, IDHS:6828076, IP 444.444.444.444.</td>\n",
              "    </tr>\n",
              "    <tr>\n",
              "      <th>2</th>\n",
              "      <td>He is a 60-year-old male was admitted to the Day Hospital for cystectomy on 01/13/93.</td>\n",
              "      <td>He is a &lt;AGE&gt; male was admitted to the &lt;HOSPITAL&gt; for cystectomy on &lt;DATE&gt;.</td>\n",
              "      <td>He is a [*********] male was admitted to the [**********] for cystectomy on [******].</td>\n",
              "      <td>He is a **** male was admitted to the **** for cystectomy on ****.</td>\n",
              "      <td>He is a 2 male was admitted to the BROOKE ARMY MEDICAL CENTER for cystectomy on 10-25-1974.</td>\n",
              "    </tr>\n",
              "    <tr>\n",
              "      <th>3</th>\n",
              "      <td>Patient's VIN : 1HGBH41JXMN109286, SSN #333-44-6666, Driver's license no:A334455B.</td>\n",
              "      <td>Patient's VIN : &lt;VIN&gt;, SSN &lt;SSN&gt;, Driver's license &lt;DLN&gt;.</td>\n",
              "      <td>Patient's VIN : [***************], SSN [**********], Driver's license [*********].</td>\n",
              "      <td>Patient's VIN : ****, SSN ****, Driver's license ****.</td>\n",
              "      <td>Patient's VIN : 1AAAA00AAAA111000, SSN 999-37-3986, Driver's license S99934770.</td>\n",
              "    </tr>\n",
              "    <tr>\n",
              "      <th>4</th>\n",
              "      <td>Phone (302) 786-5227, 0295 Keats Street, San Francisco, E-MAIL: smith@gmail.com</td>\n",
              "      <td>Phone &lt;PHONE&gt;, &lt;STREET&gt;, &lt;CITY&gt;, E-MAIL: &lt;EMAIL&gt;</td>\n",
              "      <td>Phone [************], [***************], [***********], E-MAIL: [*************]</td>\n",
              "      <td>Phone ****, ****, ****, E-MAIL: ****</td>\n",
              "      <td>Phone 773 553 069, 15790 paul vega md dr, Kankakee, E-MAIL: Hildreth@google.com</td>\n",
              "    </tr>\n",
              "  </tbody>\n",
              "</table>\n",
              "</div>\n",
              "      <button class=\"colab-df-convert\" onclick=\"convertToInteractive('df-f187e2be-e318-4cb4-88d6-f58c94c770a2')\"\n",
              "              title=\"Convert this dataframe to an interactive table.\"\n",
              "              style=\"display:none;\">\n",
              "        \n",
              "  <svg xmlns=\"http://www.w3.org/2000/svg\" height=\"24px\"viewBox=\"0 0 24 24\"\n",
              "       width=\"24px\">\n",
              "    <path d=\"M0 0h24v24H0V0z\" fill=\"none\"/>\n",
              "    <path d=\"M18.56 5.44l.94 2.06.94-2.06 2.06-.94-2.06-.94-.94-2.06-.94 2.06-2.06.94zm-11 1L8.5 8.5l.94-2.06 2.06-.94-2.06-.94L8.5 2.5l-.94 2.06-2.06.94zm10 10l.94 2.06.94-2.06 2.06-.94-2.06-.94-.94-2.06-.94 2.06-2.06.94z\"/><path d=\"M17.41 7.96l-1.37-1.37c-.4-.4-.92-.59-1.43-.59-.52 0-1.04.2-1.43.59L10.3 9.45l-7.72 7.72c-.78.78-.78 2.05 0 2.83L4 21.41c.39.39.9.59 1.41.59.51 0 1.02-.2 1.41-.59l7.78-7.78 2.81-2.81c.8-.78.8-2.07 0-2.86zM5.41 20L4 18.59l7.72-7.72 1.47 1.35L5.41 20z\"/>\n",
              "  </svg>\n",
              "      </button>\n",
              "      \n",
              "  <style>\n",
              "    .colab-df-container {\n",
              "      display:flex;\n",
              "      flex-wrap:wrap;\n",
              "      gap: 12px;\n",
              "    }\n",
              "\n",
              "    .colab-df-convert {\n",
              "      background-color: #E8F0FE;\n",
              "      border: none;\n",
              "      border-radius: 50%;\n",
              "      cursor: pointer;\n",
              "      display: none;\n",
              "      fill: #1967D2;\n",
              "      height: 32px;\n",
              "      padding: 0 0 0 0;\n",
              "      width: 32px;\n",
              "    }\n",
              "\n",
              "    .colab-df-convert:hover {\n",
              "      background-color: #E2EBFA;\n",
              "      box-shadow: 0px 1px 2px rgba(60, 64, 67, 0.3), 0px 1px 3px 1px rgba(60, 64, 67, 0.15);\n",
              "      fill: #174EA6;\n",
              "    }\n",
              "\n",
              "    [theme=dark] .colab-df-convert {\n",
              "      background-color: #3B4455;\n",
              "      fill: #D2E3FC;\n",
              "    }\n",
              "\n",
              "    [theme=dark] .colab-df-convert:hover {\n",
              "      background-color: #434B5C;\n",
              "      box-shadow: 0px 1px 3px 1px rgba(0, 0, 0, 0.15);\n",
              "      filter: drop-shadow(0px 1px 2px rgba(0, 0, 0, 0.3));\n",
              "      fill: #FFFFFF;\n",
              "    }\n",
              "  </style>\n",
              "\n",
              "      <script>\n",
              "        const buttonEl =\n",
              "          document.querySelector('#df-f187e2be-e318-4cb4-88d6-f58c94c770a2 button.colab-df-convert');\n",
              "        buttonEl.style.display =\n",
              "          google.colab.kernel.accessAllowed ? 'block' : 'none';\n",
              "\n",
              "        async function convertToInteractive(key) {\n",
              "          const element = document.querySelector('#df-f187e2be-e318-4cb4-88d6-f58c94c770a2');\n",
              "          const dataTable =\n",
              "            await google.colab.kernel.invokeFunction('convertToInteractive',\n",
              "                                                     [key], {});\n",
              "          if (!dataTable) return;\n",
              "\n",
              "          const docLinkHtml = 'Like what you see? Visit the ' +\n",
              "            '<a target=\"_blank\" href=https://colab.research.google.com/notebooks/data_table.ipynb>data table notebook</a>'\n",
              "            + ' to learn more about interactive tables.';\n",
              "          element.innerHTML = '';\n",
              "          dataTable['output_type'] = 'display_data';\n",
              "          await google.colab.output.renderOutput(dataTable, element);\n",
              "          const docLink = document.createElement('div');\n",
              "          docLink.innerHTML = docLinkHtml;\n",
              "          element.appendChild(docLink);\n",
              "        }\n",
              "      </script>\n",
              "    </div>\n",
              "  </div>\n",
              "  "
            ],
            "text/plain": [
              "                                                                                Sentence                                                                       Masked                                                                      Masked with Chars                                             Masked with Fixed Chars                                                                                   Obfuscated\n",
              "0                   Name : Hendrickson, Ora, Record date: 2093-01-13, Age: 25, # 719435.                  Name : <PATIENT>, Record date: <DATE>, Age: <AGE>, # <ZIP>.                   Name : [**************], Record date: [********], Age: **, # [****].                  Name : ****, Record date: ****, Age: ****, # ****.                           Name : Jona Flowers, Record date: 2093-01-18, Age: 86, # P6310282.\n",
              "1                                     Dr. John Green, ID: 1231511863, IP 203.120.223.13.                                        Dr. <DOCTOR>, ID<IDNUM>, IP <IPADDR>.                                     Dr. [********], ID[**********], IP [************].                                          Dr. ****, ID****, IP ****.                                     Dr. Dr Orlena Caprice, IDHS:6828076, IP 444.444.444.444.\n",
              "2  He is a 60-year-old male was admitted to the Day Hospital for cystectomy on 01/13/93.  He is a <AGE> male was admitted to the <HOSPITAL> for cystectomy on <DATE>.  He is a [*********] male was admitted to the [**********] for cystectomy on [******].  He is a **** male was admitted to the **** for cystectomy on ****.  He is a 2 male was admitted to the BROOKE ARMY MEDICAL CENTER for cystectomy on 10-25-1974.\n",
              "3     Patient's VIN : 1HGBH41JXMN109286, SSN #333-44-6666, Driver's license no:A334455B.                    Patient's VIN : <VIN>, SSN <SSN>, Driver's license <DLN>.     Patient's VIN : [***************], SSN [**********], Driver's license [*********].              Patient's VIN : ****, SSN ****, Driver's license ****.              Patient's VIN : 1AAAA00AAAA111000, SSN 999-37-3986, Driver's license S99934770.\n",
              "4        Phone (302) 786-5227, 0295 Keats Street, San Francisco, E-MAIL: smith@gmail.com                             Phone <PHONE>, <STREET>, <CITY>, E-MAIL: <EMAIL>        Phone [************], [***************], [***********], E-MAIL: [*************]                                Phone ****, ****, ****, E-MAIL: ****              Phone 773 553 069, 15790 paul vega md dr, Kankakee, E-MAIL: Hildreth@google.com"
            ]
          },
          "metadata": {},
          "execution_count": 48
        }
      ]
    }
  ],
  "metadata": {
    "colab": {
      "collapsed_sections": [],
      "name": "Copy_4_Clinical_DeIdentification.ipynb",
      "provenance": [],
      "toc_visible": true
    },
    "kernelspec": {
      "display_name": "Python 3 (ipykernel)",
      "language": "python",
      "name": "python3"
    },
    "language_info": {
      "codemirror_mode": {
        "name": "ipython",
        "version": 3
      },
      "file_extension": ".py",
      "mimetype": "text/x-python",
      "name": "python",
      "nbconvert_exporter": "python",
      "pygments_lexer": "ipython3",
      "version": "3.9.1"
    }
  },
  "nbformat": 4,
  "nbformat_minor": 0
}
{
 "cells": [
  {
   "cell_type": "markdown",
   "metadata": {
    "id": "I08sFJYCxR0Z"
   },
   "source": [
    "![JohnSnowLabs](https://nlp.johnsnowlabs.com/assets/images/logo.png)"
   ]
  },
  {
   "cell_type": "markdown",
   "metadata": {
    "id": "LKI5K1wQrSe9"
   },
   "source": [
    "[![Open In Colab](https://colab.research.google.com/assets/colab-badge.svg)](https://colab.research.google.com/github/JohnSnowLabs/spark-nlp-workshop/blob/master/tutorials/Certification_Trainings/Healthcare/4.Clinical_DeIdentification.ipynb)\n"
   ]
  },
  {
   "cell_type": "markdown",
   "metadata": {
    "id": "Niy3mZAjoayg"
   },
   "source": [
    "# Clinical Deidentification"
   ]
  },
  {
   "cell_type": "markdown",
   "metadata": {
    "id": "okhT7AcXxben"
   },
   "source": [
    "## Colab Setup"
   ]
  },
  {
   "cell_type": "code",
   "execution_count": null,
   "metadata": {
    "id": "I8Ytt2LLp2rj"
   },
   "outputs": [],
   "source": [
    "import json\n",
    "\n",
    "from google.colab import files\n",
    "\n",
    "license_keys = files.upload()\n",
    "\n",
    "with open(list(license_keys.keys())[0]) as f:\n",
    "    license_keys = json.load(f)\n",
    "\n",
    "# Defining license key-value pairs as local variables\n",
    "locals().update(license_keys)\n",
    "\n",
    "# Adding license key-value pairs to environment variables\n",
    "import os\n",
    "os.environ.update(license_keys)"
   ]
  },
  {
   "cell_type": "code",
   "execution_count": null,
   "metadata": {
    "id": "Uq0mPLNNLuSy",
    "scrolled": true
   },
   "outputs": [],
   "source": [
    "# Installing pyspark and spark-nlp\n",
    "! pip install --upgrade -q pyspark==3.1.2 spark-nlp==$PUBLIC_VERSION\n",
    "\n",
    "# Installing Spark NLP Healthcare\n",
    "! pip install --upgrade -q spark-nlp-jsl==$JSL_VERSION  --extra-index-url https://pypi.johnsnowlabs.com/$SECRET"
   ]
  },
  {
   "cell_type": "code",
   "execution_count": null,
   "metadata": {
    "colab": {
     "base_uri": "https://localhost:8080/"
    },
    "id": "iUNHVaSdL0tO",
    "outputId": "dea17f29-325a-4c44-c3e4-c2f318f7eec6"
   },
   "outputs": [],
   "source": [
    "import json\n",
    "import os\n",
    "from pyspark.ml import Pipeline, PipelineModel\n",
    "from pyspark.sql import SparkSession\n",
    "\n",
    "from sparknlp.annotator import *\n",
    "from sparknlp_jsl.annotator import *\n",
    "from sparknlp.base import *\n",
    "import sparknlp_jsl\n",
    "import sparknlp\n",
    "\n",
    "from sparknlp.util import *\n",
    "from sparknlp.pretrained import ResourceDownloader\n",
    "from pyspark.sql import functions as F\n",
    "\n",
    "import pandas as pd\n",
    "\n",
    "pd.set_option('display.max_columns', None)  \n",
    "pd.set_option('display.expand_frame_repr', False)\n",
    "pd.set_option('max_colwidth', None)\n",
    "\n",
    "import string\n",
    "import numpy as np\n",
    "\n",
    "params = {\"spark.driver.memory\":\"16G\",\n",
    "          \"spark.kryoserializer.buffer.max\":\"2000M\",\n",
    "          \"spark.driver.maxResultSize\":\"2000M\"}\n",
    "\n",
    "spark = sparknlp_jsl.start(secret = SECRET, params=params)\n",
    "\n",
    "print (\"Spark NLP Version :\", sparknlp.version())\n",
    "print (\"Spark NLP_JSL Version :\", sparknlp_jsl.version())"
   ]
  },
  {
   "cell_type": "code",
   "execution_count": null,
   "metadata": {
    "id": "VtLIEJtPf88T"
   },
   "outputs": [],
   "source": [
    "# if you want to start the session with custom params as in start function above\n",
    "from pyspark.sql import SparkSession\n",
    "\n",
    "def start(SECRET):\n",
    "    builder = SparkSession.builder \\\n",
    "        .appName(\"Spark NLP Licensed\") \\\n",
    "        .master(\"local[*]\") \\\n",
    "        .config(\"spark.driver.memory\", \"16G\") \\\n",
    "        .config(\"spark.serializer\", \"org.apache.spark.serializer.KryoSerializer\") \\\n",
    "        .config(\"spark.kryoserializer.buffer.max\", \"2000M\") \\\n",
    "        .config(\"spark.jars.packages\", \"com.johnsnowlabs.nlp:spark-nlp_2.12:\"+PUBLIC_VERSION) \\\n",
    "        .config(\"spark.jars\", \"https://pypi.johnsnowlabs.com/\"+SECRET+\"/spark-nlp-jsl-\"+JSL_VERSION+\".jar\")\n",
    "      \n",
    "    return builder.getOrCreate()\n",
    "\n",
    "#spark = start(SECRET)"
   ]
  },
  {
   "cell_type": "code",
   "execution_count": null,
   "metadata": {
    "colab": {
     "base_uri": "https://localhost:8080/",
     "height": 216
    },
    "id": "V1wrGrq0GClP",
    "outputId": "e7ecbe6d-2237-436e-8d88-0e8043745fd4"
   },
   "outputs": [],
   "source": [
    "spark"
   ]
  },
  {
   "cell_type": "markdown",
   "metadata": {
    "id": "rFQifkFYihOc"
   },
   "source": [
    "# Deidentification Model"
   ]
  },
  {
   "cell_type": "markdown",
   "metadata": {
    "id": "2eY0jM7kf88f"
   },
   "source": [
    "Protected Health Information: \n",
    "- individual’s past, present, or future physical or mental health or condition\n",
    "- provision of health care to the individual\n",
    "- past, present, or future payment for the health care \n",
    "\n",
    "Protected health information includes many common identifiers (e.g., name, address, birth date, Social Security Number) when they can be associated with the health information."
   ]
  },
  {
   "cell_type": "markdown",
   "metadata": {
    "id": "ZKln9C7Ef88f"
   },
   "source": [
    "Load NER pipeline to identify protected entities:"
   ]
  },
  {
   "cell_type": "code",
   "execution_count": null,
   "metadata": {
    "colab": {
     "base_uri": "https://localhost:8080/"
    },
    "id": "qHzG7Wvhgcex",
    "outputId": "09aa5aef-9c58-4770-c373-d5177494c8a7"
   },
   "outputs": [],
   "source": [
    "documentAssembler = DocumentAssembler()\\\n",
    "      .setInputCol(\"text\")\\\n",
    "      .setOutputCol(\"document\")\n",
    "\n",
    "# Sentence Detector annotator, processes various sentences per line\n",
    "\n",
    "sentenceDetector = SentenceDetector()\\\n",
    "      .setInputCols([\"document\"])\\\n",
    "      .setOutputCol(\"sentence\")\n",
    "\n",
    "# Tokenizer splits words in a relevant format for NLP\n",
    "\n",
    "tokenizer = Tokenizer()\\\n",
    "      .setInputCols([\"sentence\"])\\\n",
    "      .setOutputCol(\"token\")\n",
    "\n",
    "# Clinical word embeddings trained on PubMED dataset\n",
    "\n",
    "word_embeddings = WordEmbeddingsModel.pretrained(\"embeddings_clinical\", \"en\", \"clinical/models\")\\\n",
    "      .setInputCols([\"sentence\", \"token\"])\\\n",
    "      .setOutputCol(\"embeddings\")\n",
    "\n",
    "# NER model trained on n2c2 (de-identification and Heart Disease Risk Factors Challenge) datasets)\n",
    "\n",
    "clinical_ner = MedicalNerModel.pretrained(\"ner_deid_generic_augmented\", \"en\", \"clinical/models\") \\\n",
    "      .setInputCols([\"sentence\", \"token\", \"embeddings\"]) \\\n",
    "      .setOutputCol(\"ner\")\n",
    "\n",
    "ner_converter = NerConverterInternal()\\\n",
    "      .setInputCols([\"sentence\", \"token\", \"ner\"])\\\n",
    "      .setOutputCol(\"ner_chunk\")\n",
    "\n",
    "nlpPipeline = Pipeline(stages=[\n",
    "      documentAssembler, \n",
    "      sentenceDetector,\n",
    "      tokenizer,\n",
    "      word_embeddings,\n",
    "      clinical_ner,\n",
    "      ner_converter])\n",
    "\n",
    "empty_data = spark.createDataFrame([[\"\"]]).toDF(\"text\")\n",
    "\n",
    "model = nlpPipeline.fit(empty_data)"
   ]
  },
  {
   "cell_type": "markdown",
   "metadata": {
    "id": "woAJhVv6f88m"
   },
   "source": [
    "### Pretrained NER models extracts:\n",
    "\n",
    "- Name\n",
    "- Profession\n",
    "- Age\n",
    "- Date\n",
    "- Contact(Telephone numbers, FAX numbers, Email addresses)\n",
    "- Location (Address, City, Postal code, Hospital Name, Employment information)\n",
    "- Id (Social Security numbers, Medical record numbers, Internet protocol addresses)"
   ]
  },
  {
   "cell_type": "code",
   "execution_count": null,
   "metadata": {
    "id": "Fxdh4CBBf88n"
   },
   "outputs": [],
   "source": [
    "text ='''\n",
    "Record date : 2093-01-13 , David Hale , M.D . , Name : Hendrickson Ora , MR # 7194334 Date : 01/13/93 . PCP : Oliveira , 25 years-old , Record date : 2079-11-09 . Cocke County Baptist Hospital , 0295 Keats Street , Phone (302) 786-5227 .\n",
    "'''"
   ]
  },
  {
   "cell_type": "code",
   "execution_count": null,
   "metadata": {
    "id": "AE7cILT6f88q"
   },
   "outputs": [],
   "source": [
    "result = model.transform(spark.createDataFrame([[text]]).toDF(\"text\"))"
   ]
  },
  {
   "cell_type": "code",
   "execution_count": null,
   "metadata": {
    "id": "5cxcMyvLf88u"
   },
   "outputs": [],
   "source": [
    "result_df = result.select(F.explode(F.arrays_zip('token.result', 'ner.result')).alias(\"cols\")) \\\n",
    "                  .select(F.expr(\"cols['0']\").alias(\"token\"),\n",
    "                          F.expr(\"cols['1']\").alias(\"ner_label\"))"
   ]
  },
  {
   "cell_type": "code",
   "execution_count": null,
   "metadata": {
    "colab": {
     "base_uri": "https://localhost:8080/"
    },
    "id": "Nunb_ZZpar4q",
    "outputId": "d6f12084-0007-49b5-b9ba-2556ff6955e4"
   },
   "outputs": [],
   "source": [
    "result_df.select(\"token\", \"ner_label\").groupBy('ner_label').count().orderBy('count', ascending=False).show(truncate=False)"
   ]
  },
  {
   "cell_type": "markdown",
   "metadata": {
    "id": "DJvt31qlf880"
   },
   "source": [
    "### Check extracted sensetive entities"
   ]
  },
  {
   "cell_type": "code",
   "execution_count": null,
   "metadata": {
    "colab": {
     "base_uri": "https://localhost:8080/"
    },
    "id": "fLuOc_dQa9as",
    "outputId": "b3bc0752-f7bb-4e09-fd6d-5a39d52be6e1"
   },
   "outputs": [],
   "source": [
    "result.select(F.explode(F.arrays_zip('ner_chunk.result', 'ner_chunk.metadata')).alias(\"cols\")) \\\n",
    "      .select(F.expr(\"cols['0']\").alias(\"chunk\"),\n",
    "              F.expr(\"cols['1']['entity']\").alias(\"ner_label\")).show(truncate=False)"
   ]
  },
  {
   "cell_type": "markdown",
   "metadata": {
    "id": "EkD3zogqf89Q"
   },
   "source": [
    "### Excluding entities from deidentification"
   ]
  },
  {
   "cell_type": "markdown",
   "metadata": {
    "id": "my04HL3rf89Q"
   },
   "source": [
    "Sometimes we need to leave some entities in the text, for example, if we want to analyze the frequency of the disease by the hospital. In this case, we need to use parameter **`setWhiteList()`** to modify `ner_chunk` output. This parameter having using a list of entities type to deidentify as an input. So, if we want to leave the location in the list we need to remove this tag from the list:"
   ]
  },
  {
   "cell_type": "code",
   "execution_count": null,
   "metadata": {
    "id": "3Bj066u9f89R"
   },
   "outputs": [],
   "source": [
    "ner_converter = NerConverterInternal()\\\n",
    "    .setInputCols([\"sentence\", \"token\", \"ner\"])\\\n",
    "    .setOutputCol(\"ner_chunk\") \\\n",
    "    .setWhiteList(['NAME', 'PROFESSION', 'ID', 'AGE', 'DATE'])\n",
    "\n",
    "nlpPipeline = Pipeline(stages=[\n",
    "    documentAssembler, \n",
    "    sentenceDetector,\n",
    "    tokenizer,\n",
    "    word_embeddings,\n",
    "    clinical_ner,\n",
    "    ner_converter])\n",
    "\n",
    "empty_data = spark.createDataFrame([[\"\"]]).toDF(\"text\")\n",
    "\n",
    "model_with_white_list = nlpPipeline.fit(empty_data)"
   ]
  },
  {
   "cell_type": "code",
   "execution_count": null,
   "metadata": {
    "id": "oWNZR2trf89U"
   },
   "outputs": [],
   "source": [
    "result_with_white_list = model_with_white_list.transform(spark.createDataFrame([[text]]).toDF(\"text\"))"
   ]
  },
  {
   "cell_type": "code",
   "execution_count": null,
   "metadata": {
    "colab": {
     "base_uri": "https://localhost:8080/"
    },
    "id": "u37rm6C3bePi",
    "outputId": "e4295063-67e2-49ad-e3e6-93e90be39b28"
   },
   "outputs": [],
   "source": [
    "print(\"All Labels :\")\n",
    "result.select(F.explode(F.arrays_zip('ner_chunk.result', 'ner_chunk.metadata')).alias(\"cols\")) \\\n",
    "      .select(F.expr(\"cols['0']\").alias(\"chunk\"),\n",
    "              F.expr(\"cols['1']['entity']\").alias(\"ner_label\")).show(truncate=False)\n",
    "\n",
    "print(\"WhiteListed Labels: \")\n",
    "result_with_white_list.select(F.explode(F.arrays_zip('ner_chunk.result', 'ner_chunk.metadata')).alias(\"cols\")) \\\n",
    "                      .select(F.expr(\"cols['0']\").alias(\"chunk\"),\n",
    "                              F.expr(\"cols['1']['entity']\").alias(\"ner_label\")).show(truncate=False)"
   ]
  },
  {
   "cell_type": "markdown",
   "metadata": {
    "id": "rckvYUKVf89b"
   },
   "source": [
    "## Masking and Obfuscation"
   ]
  },
  {
   "cell_type": "markdown",
   "metadata": {
    "id": "HLt9SFX5f89b"
   },
   "source": [
    "### Replace this enitites with Tags"
   ]
  },
  {
   "cell_type": "code",
   "execution_count": null,
   "metadata": {
    "id": "WaFe5bZzhEXT"
   },
   "outputs": [],
   "source": [
    "ner_converter = NerConverterInternal()\\\n",
    "      .setInputCols([\"sentence\", \"token\", \"ner\"])\\\n",
    "      .setOutputCol(\"ner_chunk\") \n",
    "\n",
    "deidentification = DeIdentification() \\\n",
    "      .setInputCols([\"sentence\", \"token\", \"ner_chunk\"]) \\\n",
    "      .setOutputCol(\"deidentified\") \\\n",
    "      .setMode(\"mask\")\\\n",
    "      .setReturnEntityMappings(True) #  return a new column to save the mappings between the mask/obfuscated entities and original entities.\n",
    "      #.setMappingsColumn(\"MappingCol\") # change the name of the column, 'aux' is default\n",
    "\n",
    "deidPipeline = Pipeline(stages=[\n",
    "      documentAssembler, \n",
    "      sentenceDetector,\n",
    "      tokenizer,\n",
    "      word_embeddings,\n",
    "      clinical_ner,\n",
    "      ner_converter,\n",
    "      deidentification])\n",
    "\n",
    "empty_data = spark.createDataFrame([[\"\"]]).toDF(\"text\")\n",
    "\n",
    "model_deid = deidPipeline.fit(empty_data)"
   ]
  },
  {
   "cell_type": "code",
   "execution_count": null,
   "metadata": {
    "id": "CZ3QgzH2AD-h"
   },
   "outputs": [],
   "source": [
    "result = model_deid.transform(spark.createDataFrame([[text]]).toDF(\"text\"))"
   ]
  },
  {
   "cell_type": "code",
   "execution_count": null,
   "metadata": {
    "colab": {
     "base_uri": "https://localhost:8080/"
    },
    "id": "JR12_5hPdkg5",
    "outputId": "a2701166-9344-498a-a61f-01d69d428726"
   },
   "outputs": [],
   "source": [
    "result.show()"
   ]
  },
  {
   "cell_type": "code",
   "execution_count": null,
   "metadata": {
    "colab": {
     "base_uri": "https://localhost:8080/",
     "height": 173
    },
    "id": "sI1C9hJzbyl3",
    "outputId": "904fc6b9-bba2-456b-ed4b-21c62f088cb1"
   },
   "outputs": [],
   "source": [
    "result.select(F.explode(F.arrays_zip('sentence.result', 'deidentified.result')).alias(\"cols\")) \\\n",
    "      .select(F.expr(\"cols['0']\").alias(\"sentence\"), F.expr(\"cols['1']\").alias(\"deidentified\")).toPandas()"
   ]
  },
  {
   "cell_type": "markdown",
   "source": [
    "We have three modes to mask the entities in the Deidentification annotator. You can select the modes using the `.setMaskingPolicy()` parameter. The methods are the followings:\n",
    "\n",
    "**“entity_labels”**: Mask with the entity type of that chunk. (default) <br/>\n",
    "**“same_length_chars”**: Mask the deid entities with same length of asterix ( * ) with brackets ( [ , ] ) on both end. <br/>\n",
    "**“fixed_length_chars”**: Mask the deid entities with a fixed length of asterix ( * ). The length is setting up using the `setFixedMaskLength()` method. <br/>\n",
    "Let's try each of these and compare the results. "
   ],
   "metadata": {
    "id": "GHx17rSxOPeJ"
   }
  },
  {
   "cell_type": "code",
   "source": [
    "#deid model with \"entity_labels\"\n",
    "deid_entity_labels= DeIdentification()\\\n",
    "      .setInputCols([\"sentence\", \"token\", \"ner_chunk\"])\\\n",
    "      .setOutputCol(\"deid_entity_label\")\\\n",
    "      .setMode(\"mask\")\\\n",
    "      .setReturnEntityMappings(True)\\\n",
    "      .setMaskingPolicy(\"entity_labels\")\n",
    "\n",
    "#deid model with \"same_length_chars\"\n",
    "deid_same_length= DeIdentification()\\\n",
    "      .setInputCols([\"sentence\", \"token\", \"ner_chunk\"])\\\n",
    "      .setOutputCol(\"deid_same_length\")\\\n",
    "      .setMode(\"mask\")\\\n",
    "      .setReturnEntityMappings(True)\\\n",
    "      .setMaskingPolicy(\"same_length_chars\")\n",
    "\n",
    "#deid model with \"fixed_length_chars\"\n",
    "deid_fixed_length= DeIdentification()\\\n",
    "      .setInputCols([\"sentence\", \"token\", \"ner_chunk\"])\\\n",
    "      .setOutputCol(\"deid_fixed_length\")\\\n",
    "      .setMode(\"mask\")\\\n",
    "      .setReturnEntityMappings(True)\\\n",
    "      .setMaskingPolicy(\"fixed_length_chars\")\\\n",
    "      .setFixedMaskLength(4)\n",
    "\n",
    "\n",
    "deidPipeline = Pipeline(stages=[\n",
    "      documentAssembler, \n",
    "      sentenceDetector,\n",
    "      tokenizer,\n",
    "      word_embeddings,\n",
    "      clinical_ner,\n",
    "      ner_converter,\n",
    "      deid_entity_labels,\n",
    "      deid_same_length,\n",
    "      deid_fixed_length])\n",
    "\n",
    "\n",
    "empty_data = spark.createDataFrame([[\"\"]]).toDF(\"text\")\n",
    "model_deid = deidPipeline.fit(empty_data)"
   ],
   "metadata": {
    "id": "ULCxSmu6OIcE"
   },
   "execution_count": null,
   "outputs": []
  },
  {
   "cell_type": "code",
   "source": [
    "policy_result = model_deid.transform(spark.createDataFrame([[text]]).toDF(\"text\"))"
   ],
   "metadata": {
    "id": "i0dOky9hOIV4"
   },
   "execution_count": null,
   "outputs": []
  },
  {
   "cell_type": "code",
   "source": [
    "policy_result.show()"
   ],
   "metadata": {
    "colab": {
     "base_uri": "https://localhost:8080/"
    },
    "id": "SpGRUvM7OINj",
    "outputId": "f352b270-478f-4d7c-f264-cf5eb4f07643"
   },
   "execution_count": null,
   "outputs": []
  },
  {
   "cell_type": "code",
   "source": [
    "policy_result.select(F.explode(F.arrays_zip('sentence.result', 'deid_entity_label.result', 'deid_same_length.result', 'deid_fixed_length.result')).alias(\"cols\")) \\\n",
    "             .select(F.expr(\"cols['0']\").alias(\"sentence\"),\n",
    "                     F.expr(\"cols['1']\").alias(\"deid_entity_label\"),\n",
    "                     F.expr(\"cols['2']\").alias(\"deid_same_length\"),\n",
    "                     F.expr(\"cols['3']\").alias(\"deid_fixed_length\")).toPandas()"
   ],
   "metadata": {
    "colab": {
     "base_uri": "https://localhost:8080/",
     "height": 285
    },
    "id": "AKXgnr8EOW3j",
    "outputId": "d9062d5d-4321-4383-f0a0-bf301e64f998"
   },
   "execution_count": null,
   "outputs": []
  },
  {
   "cell_type": "markdown",
   "metadata": {
    "id": "yxv9bu4Ifweb"
   },
   "source": [
    "### Mapping Column"
   ]
  },
  {
   "cell_type": "code",
   "execution_count": null,
   "metadata": {
    "colab": {
     "base_uri": "https://localhost:8080/"
    },
    "id": "zcaXaxRFd-n6",
    "outputId": "cfb076bc-f2c6-4133-d58b-fd2d8f2439f3"
   },
   "outputs": [],
   "source": [
    "result.select(\"aux\").show(truncate=False)"
   ]
  },
  {
   "cell_type": "code",
   "execution_count": null,
   "metadata": {
    "colab": {
     "base_uri": "https://localhost:8080/"
    },
    "id": "rF1YR12bb7U3",
    "outputId": "cabdd999-b98b-4224-9608-047ad359057a"
   },
   "outputs": [],
   "source": [
    "result.select(F.explode(F.arrays_zip('aux.metadata', 'aux.result', 'aux.begin', 'aux.end')).alias(\"cols\")) \\\n",
    "      .select(F.expr(\"cols['0']['originalChunk']\").alias(\"chunk\"),\n",
    "              F.expr(\"cols['0']['beginOriginalChunk']\").alias(\"beginChunk\"),\n",
    "              F.expr(\"cols['0']['endOriginalChunk']\").alias(\"endChunk\"),\n",
    "              F.expr(\"cols['1']\").alias(\"label\"),\n",
    "              F.expr(\"cols['2']\").alias(\"beginLabel\"),\n",
    "              F.expr(\"cols['3']\").alias(\"endLabel\")).show(truncate=False)"
   ]
  },
  {
   "cell_type": "markdown",
   "metadata": {
    "id": "Kz7YLxOlpJPQ"
   },
   "source": [
    "## Reidentification\n",
    "\n",
    "We can use `ReIdentification` annotator to go back to the original sentence."
   ]
  },
  {
   "cell_type": "code",
   "execution_count": null,
   "metadata": {
    "id": "7HMTqWaApIw3"
   },
   "outputs": [],
   "source": [
    "reIdentification = ReIdentification()\\\n",
    "     .setInputCols([\"aux\",\"deidentified\"])\\\n",
    "     .setOutputCol(\"original\")"
   ]
  },
  {
   "cell_type": "code",
   "execution_count": null,
   "metadata": {
    "id": "Etn6kW6hqJGx"
   },
   "outputs": [],
   "source": [
    "reid_result = reIdentification.transform(result)"
   ]
  },
  {
   "cell_type": "code",
   "execution_count": null,
   "metadata": {
    "colab": {
     "base_uri": "https://localhost:8080/"
    },
    "id": "vGLfKOGGqSwy",
    "outputId": "4b436ac4-3754-4938-dd12-86a7cded8b70"
   },
   "outputs": [],
   "source": [
    "reid_result.show()"
   ]
  },
  {
   "cell_type": "code",
   "execution_count": null,
   "metadata": {
    "colab": {
     "base_uri": "https://localhost:8080/"
    },
    "id": "cfhFb1aOcFgI",
    "outputId": "75819b0f-e3bd-466c-ca69-6254a3b390a3"
   },
   "outputs": [],
   "source": [
    "print(text)\n",
    "\n",
    "reid_result.select('original.result').show(truncate=False)"
   ]
  },
  {
   "cell_type": "markdown",
   "metadata": {
    "id": "OSKDCxV0NEJc"
   },
   "source": [
    "## Using multiple NER in the same pipeline"
   ]
  },
  {
   "cell_type": "code",
   "execution_count": null,
   "metadata": {
    "colab": {
     "base_uri": "https://localhost:8080/"
    },
    "id": "7lF9lrIWNJMi",
    "outputId": "969232e1-2863-4931-b139-05cc3e54ce02"
   },
   "outputs": [],
   "source": [
    "from sparknlp_jsl.annotator import *\n",
    "\n",
    "documentAssembler = DocumentAssembler()\\\n",
    "      .setInputCol(\"text\")\\\n",
    "      .setOutputCol(\"document\")\n",
    "\n",
    "sentenceDetector = SentenceDetector()\\\n",
    "      .setInputCols([\"document\"])\\\n",
    "      .setOutputCol(\"sentence\")\n",
    "\n",
    "tokenizer = Tokenizer()\\\n",
    "      .setInputCols([\"sentence\"])\\\n",
    "      .setOutputCol(\"token\")\n",
    "\n",
    "word_embeddings = WordEmbeddingsModel.pretrained(\"embeddings_clinical\", \"en\", \"clinical/models\")\\\n",
    "      .setInputCols([\"sentence\", \"token\"])\\\n",
    "      .setOutputCol(\"embeddings\")\n",
    "\n",
    "deid_ner = MedicalNerModel.pretrained(\"ner_deid_generic_augmented\", \"en\", \"clinical/models\") \\\n",
    "      .setInputCols([\"sentence\", \"token\", \"embeddings\"]) \\\n",
    "      .setOutputCol(\"ner_generic\")\n",
    "\n",
    "ner_converter = NerConverter()\\\n",
    "      .setInputCols([\"sentence\", \"token\", \"ner_generic\"])\\\n",
    "      .setOutputCol(\"ner_generic_chunk\")\\\n",
    "      .setWhiteList(['ID', 'DATE', 'AGE', 'NAME', 'PROFESSION'])# CONTACT and LOCATION is removed\n",
    "\n",
    "deid_ner_enriched = MedicalNerModel.pretrained(\"ner_deid_subentity_augmented\", \"en\", \"clinical/models\") \\\n",
    "      .setInputCols([\"sentence\", \"token\", \"embeddings\"]) \\\n",
    "      .setOutputCol(\"ner_subentity\")\n",
    "\n",
    "ner_converter_enriched = NerConverter() \\\n",
    "      .setInputCols([\"sentence\", \"token\", \"ner_subentity\"]) \\\n",
    "      .setOutputCol(\"ner_subentity_chunk\")\\\n",
    "      .setWhiteList(['COUNTRY', 'CITY', 'HOSPITAL', 'STATE', 'STREET', 'ZIP'])\n",
    "      # we can also add PATIENT and DOCTOR entities and remove NAME entity from the other NER model\n",
    "\n",
    "chunk_merge = ChunkMergeApproach()\\\n",
    "      .setInputCols(\"ner_subentity_chunk\",\"ner_generic_chunk\")\\\n",
    "      .setOutputCol(\"deid_merged_chunk\")\n",
    "\n",
    "deidentification = DeIdentification() \\\n",
    "      .setInputCols([\"sentence\", \"token\", \"deid_merged_chunk\"]) \\\n",
    "      .setOutputCol(\"deidentified\") \\\n",
    "      .setMode(\"mask\")\\\n",
    "      .setIgnoreRegex(True)\n",
    "\n",
    "\n",
    "nlpPipeline = Pipeline(stages=[\n",
    "      documentAssembler, \n",
    "      sentenceDetector,\n",
    "      tokenizer,\n",
    "      word_embeddings,\n",
    "      deid_ner,\n",
    "      ner_converter,\n",
    "      deid_ner_enriched,\n",
    "      ner_converter_enriched,\n",
    "      chunk_merge,\n",
    "      deidentification])\n",
    "\n",
    "empty_data = spark.createDataFrame([[\"\"]]).toDF(\"text\")\n",
    "\n",
    "model = nlpPipeline.fit(empty_data)"
   ]
  },
  {
   "cell_type": "code",
   "execution_count": null,
   "metadata": {
    "id": "b2rR2tTgP5N5"
   },
   "outputs": [],
   "source": [
    "text ='''\n",
    "Record date : 2093-01-13 , David Hale , M.D . , Name : Hendrickson Ora , MR # 7194334 Date : 01/13/93 . PCP : Oliveira , 25 years-old , Record date : 2079-11-09 . Cocke County Baptist Hospital , 0295 Keats Street , Phone 302-786-5227.\n",
    "'''"
   ]
  },
  {
   "cell_type": "code",
   "execution_count": null,
   "metadata": {
    "colab": {
     "base_uri": "https://localhost:8080/"
    },
    "id": "ByIjftyJd8iP",
    "outputId": "3e35594a-3bfb-43d1-c2b4-e9bcb060b041"
   },
   "outputs": [],
   "source": [
    "result = model.transform(spark.createDataFrame([[text]]).toDF(\"text\"))\n",
    "\n",
    "# ner_deid_generic_augmented\n",
    "result.select(F.explode(F.arrays_zip('ner_generic_chunk.result', 'ner_generic_chunk.metadata')).alias(\"cols\")) \\\n",
    "      .select(F.expr(\"cols['0']\").alias(\"chunk\"),\n",
    "              F.expr(\"cols['1']['entity']\").alias(\"ner_label\")).show(truncate=False)"
   ]
  },
  {
   "cell_type": "code",
   "execution_count": null,
   "metadata": {
    "colab": {
     "base_uri": "https://localhost:8080/"
    },
    "id": "aKn2yotweUTS",
    "outputId": "be050192-3d5c-4077-fe6c-9ce17eb4755c"
   },
   "outputs": [],
   "source": [
    "# ner_deid_subentity_augmented\n",
    "result.select(F.explode(F.arrays_zip('ner_subentity_chunk.result', 'ner_subentity_chunk.metadata')).alias(\"cols\")) \\\n",
    "      .select(F.expr(\"cols['0']\").alias(\"chunk\"),\n",
    "              F.expr(\"cols['1']['entity']\").alias(\"ner_label\")).show(truncate=False)"
   ]
  },
  {
   "cell_type": "code",
   "execution_count": null,
   "metadata": {
    "colab": {
     "base_uri": "https://localhost:8080/"
    },
    "id": "ILAeyE39rudh",
    "outputId": "05ea57fd-868e-4322-cec3-290a904130b4"
   },
   "outputs": [],
   "source": [
    "# merged chunk\n",
    "result.select(F.explode(F.arrays_zip('deid_merged_chunk.result', 'deid_merged_chunk.metadata')).alias(\"cols\")) \\\n",
    "      .select(F.expr(\"cols['0']\").alias(\"chunk\"),\n",
    "              F.expr(\"cols['1']['entity']\").alias(\"ner_label\")).show(truncate=False)"
   ]
  },
  {
   "cell_type": "code",
   "execution_count": null,
   "metadata": {
    "colab": {
     "base_uri": "https://localhost:8080/",
     "height": 173
    },
    "id": "6dheTxaJeYg9",
    "outputId": "e2ba2762-6e3d-41ea-ef11-9e242c8a27bc"
   },
   "outputs": [],
   "source": [
    "result.select(F.explode(F.arrays_zip('sentence.result', 'deidentified.result')).alias(\"cols\")) \\\n",
    "      .select(F.expr(\"cols['0']\").alias(\"sentence\"),\n",
    "              F.expr(\"cols['1']\").alias(\"deidentified\")).toPandas()"
   ]
  },
  {
   "cell_type": "markdown",
   "metadata": {
    "id": "1MvCZkTyN0rQ"
   },
   "source": [
    "### Enriching with Regex and Override NER\n",
    "\n",
    "\n"
   ]
  },
  {
   "cell_type": "code",
   "execution_count": null,
   "metadata": {
    "id": "v3ws_gQRQ5FS"
   },
   "outputs": [],
   "source": [
    "# PHONE\n",
    "\n",
    "deidentification = DeIdentification()\\\n",
    "    .setInputCols([\"sentence\", \"token\", \"deid_merged_chunk\"])\\\n",
    "    .setOutputCol(\"deidentified\")\\\n",
    "    .setMode(\"mask\") \\\n",
    "    .setRegexOverride(True)\n",
    "\n",
    "pipeline = Pipeline(stages=[\n",
    "    nlpPipeline, \n",
    "    deidentification\n",
    "])\n",
    "\n",
    "model_default_rgx = pipeline.fit(empty_data)"
   ]
  },
  {
   "cell_type": "code",
   "execution_count": null,
   "metadata": {
    "colab": {
     "base_uri": "https://localhost:8080/",
     "height": 173
    },
    "id": "tTKB14F7hX6a",
    "outputId": "fd6198ff-423d-4981-b4c4-3530fc4fadc8"
   },
   "outputs": [],
   "source": [
    "result = model_default_rgx.transform(spark.createDataFrame([[text]]).toDF(\"text\"))\n",
    "\n",
    "result.select(F.explode(F.arrays_zip('sentence.result', 'deidentified.result')).alias(\"cols\")) \\\n",
    "      .select(F.expr(\"cols['0']\").alias(\"sentence\"), F.expr(\"cols['1']\").alias(\"deidentified\")).toPandas()"
   ]
  },
  {
   "cell_type": "code",
   "execution_count": null,
   "metadata": {
    "colab": {
     "base_uri": "https://localhost:8080/"
    },
    "id": "CK0s144yN7Tp",
    "outputId": "0efdde79-9792-4695-a0f1-d6fa37edfc5a"
   },
   "outputs": [],
   "source": [
    "rgx = '''NUMBER ([0-9]{2})\n",
    "NUMBER (\\d{7})''' \n",
    "\n",
    "with open(\"./custom_regex.txt\", \"w\") as f:\n",
    "  f.write(rgx)\n",
    "\n",
    "f = open(\"./custom_regex.txt\", \"r\")\n",
    "\n",
    "print(f.read())"
   ]
  },
  {
   "cell_type": "markdown",
   "metadata": {
    "id": "Z771fExYOgiW"
   },
   "source": [
    "We see that two entities  have conflict between the regex and the NER. NER has the priroty as a default. We can change this `setRegexOverride` param "
   ]
  },
  {
   "cell_type": "code",
   "execution_count": null,
   "metadata": {
    "id": "J8fl19b2OY1-"
   },
   "outputs": [],
   "source": [
    "deidentification_rgx = DeIdentification()\\\n",
    "    .setInputCols([\"sentence\", \"token\", \"deid_merged_chunk\"])\\\n",
    "    .setOutputCol(\"deidentified\")\\\n",
    "    .setMode(\"mask\") \\\n",
    "    .setRegexPatternsDictionary(\"./custom_regex.txt\")\\\n",
    "    .setRegexOverride(True)\n",
    "\n",
    "\n",
    "nlpPipeline_rgx = Pipeline(stages=[\n",
    "    documentAssembler, \n",
    "    sentenceDetector,\n",
    "    tokenizer,\n",
    "    word_embeddings,\n",
    "    deid_ner,\n",
    "    ner_converter,\n",
    "    deid_ner_enriched,\n",
    "    ner_converter_enriched,\n",
    "    chunk_merge,\n",
    "    deidentification_rgx])\n",
    "\n",
    "empty_data = spark.createDataFrame([[\"\"]]).toDF(\"text\")\n",
    "\n",
    "model_rgx = nlpPipeline_rgx.fit(empty_data)"
   ]
  },
  {
   "cell_type": "code",
   "execution_count": null,
   "metadata": {
    "colab": {
     "base_uri": "https://localhost:8080/",
     "height": 265
    },
    "id": "tifAsxnFiiWg",
    "outputId": "37c215da-27a1-4a91-c86e-da661fd142fb"
   },
   "outputs": [],
   "source": [
    "text ='''Record date : 2093-01-13 , David Hale , M.D . , Name : Hendrickson , Ora MR . # 7194334 Date : 01/13/93 PCP : Oliveira , 25 years-old , Record date : 2079-11-09 . Cocke County Baptist Hospital . 0295 Keats Street.'''\n",
    "\n",
    "result = model_rgx.transform(spark.createDataFrame([[text]]).toDF(\"text\"))\n",
    "result.select(F.explode(F.arrays_zip('sentence.result', 'deidentified.result')).alias(\"cols\")) \\\n",
    "      .select(F.expr(\"cols['0']\").alias(\"sentence\"), F.expr(\"cols['1']\").alias(\"deidentified\")).toPandas()"
   ]
  },
  {
   "cell_type": "markdown",
   "source": [
    "`.setBlackList()` parameter so that not deidentifiy the labels that are specified in the list. This parameter filters just the detected Regex Entities.  "
   ],
   "metadata": {
    "id": "0mkstH6JIuQr"
   }
  },
  {
   "cell_type": "code",
   "source": [
    "ner_converter = NerConverterInternal()\\\n",
    "      .setInputCols([\"sentence\", \"token\", \"ner\"])\\\n",
    "      .setOutputCol(\"ner_chunk\")\\\n",
    "      .setWhiteList([\"NAME\", \"LOCATION\"])\n",
    "\n",
    "# DATE, PHONE, URL, EMAIL, ZIP, DATE, SSN, PASSPORT, DLN, NPI, C_CARD, EMAIL, IBAN, DEA\n",
    "deidentification = DeIdentification() \\\n",
    "      .setInputCols([\"sentence\", \"token\", \"ner_chunk\"]) \\\n",
    "      .setOutputCol(\"deidentified\") \\\n",
    "      .setMode(\"mask\")\\\n",
    "      .setRegexOverride(True)\\\n",
    "      .setBlackList([\"DATE\", \"PHONE\"])\n",
    "\n",
    "deidPipeline = Pipeline(stages=[\n",
    "      documentAssembler, \n",
    "      sentenceDetector,\n",
    "      tokenizer,\n",
    "      word_embeddings,\n",
    "      clinical_ner,\n",
    "      ner_converter,\n",
    "      deidentification])\n",
    "\n",
    "empty_data = spark.createDataFrame([[\"\"]]).toDF(\"text\")\n",
    "\n",
    "model_deid = deidPipeline.fit(empty_data)"
   ],
   "metadata": {
    "id": "eKuVjZDlIsG7"
   },
   "execution_count": null,
   "outputs": []
  },
  {
   "cell_type": "code",
   "source": [
    "text ='''\n",
    "Record date : 2093-01-13 , David Hale , M.D . , Name : Hendrickson , Ora MR . # 7194334 Date : 01/13/93 PCP : Oliveira , 25 years-old , Record date : 2079-11-09 . Cocke County Baptist Hospital . 0295 Keats Street. Phone (302) 786-5227.\n",
    "'''\n",
    "result = model_deid.transform(spark.createDataFrame([[text]]).toDF(\"text\"))"
   ],
   "metadata": {
    "id": "8M49yTi8Ir9n"
   },
   "execution_count": null,
   "outputs": []
  },
  {
   "cell_type": "code",
   "source": [
    "result.select(F.explode(F.arrays_zip('sentence.result', 'deidentified.result')).alias(\"cols\")) \\\n",
    "      .select(F.expr(\"cols['0']\").alias(\"sentence\"), F.expr(\"cols['1']\").alias(\"deidentified\")).toPandas()"
   ],
   "metadata": {
    "colab": {
     "base_uri": "https://localhost:8080/",
     "height": 296
    },
    "id": "nSYNou-aIr4o",
    "outputId": "1bb804a7-7e62-41c5-d2b6-f6df975d975b"
   },
   "execution_count": null,
   "outputs": []
  },
  {
   "cell_type": "markdown",
   "metadata": {
    "id": "HJokGuGxf89k"
   },
   "source": [
    "## Obfuscation mode"
   ]
  },
  {
   "cell_type": "markdown",
   "metadata": {
    "id": "KG0Bvua7f89l"
   },
   "source": [
    "In the obfuscation mode **DeIdentificationModel** will replace sensetive entities with random values of the same type. \n"
   ]
  },
  {
   "cell_type": "code",
   "execution_count": null,
   "metadata": {
    "id": "TOYTW3ryTVOI"
   },
   "outputs": [],
   "source": [
    "obs_lines = \"\"\"Marvin MARSHALL#PATIENT\n",
    "Hubert GROGAN#PATIENT\n",
    "ALTHEA COLBURN#PATIENT\n",
    "Kalil AMIN#PATIENT\n",
    "Inci FOUNTAIN#PATIENT\n",
    "Ekaterina Rosa#DOCTOR\n",
    "Rudiger Chao#DOCTOR\n",
    "COLLETTE KOHLER#DOCTOR\n",
    "Mufi HIGGS#DOCTOR\"\"\"\n",
    "\n",
    "\n",
    "with open ('obfuscation.txt', 'w') as f:\n",
    "  f.write(obs_lines)"
   ]
  },
  {
   "cell_type": "code",
   "execution_count": null,
   "metadata": {
    "colab": {
     "base_uri": "https://localhost:8080/"
    },
    "id": "s6OKIrTUSz0O",
    "outputId": "850ca8c7-249d-462c-c48e-88c4d39db5ab"
   },
   "outputs": [],
   "source": [
    "deid_ner = MedicalNerModel.pretrained(\"ner_deid_subentity_augmented\", \"en\", \"clinical/models\") \\\n",
    "      .setInputCols([\"sentence\", \"token\", \"embeddings\"]) \\\n",
    "      .setOutputCol(\"ner\")\n",
    "\n",
    "ner_converter = NerConverterInternal()\\\n",
    "      .setInputCols([\"sentence\", \"token\", \"ner\"])\\\n",
    "      .setOutputCol(\"ner_chunk\")\n",
    "\n",
    "obfuscation = DeIdentification()\\\n",
    "      .setInputCols([\"sentence\", \"token\", \"ner_chunk\"]) \\\n",
    "      .setOutputCol(\"deidentified\") \\\n",
    "      .setMode(\"obfuscate\")\\\n",
    "      .setObfuscateDate(True)\\\n",
    "      # .setObfuscateRefFile('obfuscation.txt')\\\n",
    "      #.setObfuscateRefSource(\"both\") #default: \"faker\"\n",
    "\n",
    "pipeline = Pipeline(stages=[\n",
    "      documentAssembler, \n",
    "      sentenceDetector,\n",
    "      tokenizer,\n",
    "      word_embeddings,\n",
    "      deid_ner,\n",
    "      ner_converter,\n",
    "      obfuscation\n",
    "])\n",
    "\n",
    "obfuscation_model = pipeline.fit(empty_data)"
   ]
  },
  {
   "cell_type": "code",
   "source": [
    "text ='''\n",
    "Record date : 2093-01-13 , David Hale , M.D . , Name : Hendrickson , Ora MR # 7194334 Date : 01/13/93 . Patient : Oliveira, 25 years-old , Record date : 2079-11-09 . Cocke County Baptist Hospital . 0295 Keats Street\n",
    "'''\n",
    "\n",
    "result = obfuscation_model.transform(spark.createDataFrame([[text]]).toDF(\"text\"))\n",
    "\n",
    "result.select(F.explode(F.arrays_zip('sentence.result', 'deidentified.result')).alias(\"cols\")) \\\n",
    "      .select(F.expr(\"cols['0']\").alias(\"sentence\"), F.expr(\"cols['1']\").alias(\"deidentified\")).toPandas()"
   ],
   "metadata": {
    "colab": {
     "base_uri": "https://localhost:8080/",
     "height": 204
    },
    "id": "dW2y14eCpm2A",
    "outputId": "f82502f3-0b1f-4d2d-fd18-8f2e083c7113"
   },
   "execution_count": null,
   "outputs": []
  },
  {
   "cell_type": "code",
   "execution_count": null,
   "metadata": {
    "colab": {
     "base_uri": "https://localhost:8080/"
    },
    "id": "lkQ4ojPftJh0",
    "outputId": "293976d9-77e4-4eec-aa0a-680f1a6e0a98"
   },
   "outputs": [],
   "source": [
    "result.select(\"ner_chunk\").collect()"
   ]
  },
  {
   "cell_type": "code",
   "execution_count": null,
   "metadata": {
    "colab": {
     "base_uri": "https://localhost:8080/",
     "height": 204
    },
    "id": "bv42DZOxi-lP",
    "outputId": "b04aa447-76f7-4f75-a988-9d6ba706592b"
   },
   "outputs": [],
   "source": [
    "obfuscation = DeIdentification()\\\n",
    "      .setInputCols([\"sentence\", \"token\", \"ner_chunk\"]) \\\n",
    "      .setOutputCol(\"deidentified\") \\\n",
    "      .setMode(\"obfuscate\")\\\n",
    "      .setObfuscateDate(True)\\\n",
    "      .setObfuscateRefFile('obfuscation.txt')\\\n",
    "      .setObfuscateRefSource(\"file\")\n",
    "\n",
    "pipeline = Pipeline(stages=[\n",
    "      documentAssembler, \n",
    "      sentenceDetector,\n",
    "      tokenizer,\n",
    "      word_embeddings,\n",
    "      deid_ner,\n",
    "      ner_converter,\n",
    "      obfuscation\n",
    "])\n",
    "\n",
    "obfuscation_model = pipeline.fit(empty_data)      \n",
    "      \n",
    "      \n",
    "result = obfuscation_model.transform(spark.createDataFrame([[text]]).toDF(\"text\"))\n",
    "\n",
    "result.select(F.explode(F.arrays_zip('sentence.result', 'deidentified.result')).alias(\"cols\")) \\\n",
    ".select(F.expr(\"cols['0']\").alias(\"sentence\"), F.expr(\"cols['1']\").alias(\"deidentified\")).toPandas()"
   ]
  },
  {
   "cell_type": "markdown",
   "metadata": {
    "id": "9vL7_bDHWZw8"
   },
   "source": [
    "## Faker mode"
   ]
  },
  {
   "cell_type": "markdown",
   "metadata": {
    "id": "sE0P0vXWuJAS"
   },
   "source": [
    "The faker module allow to the user to use a set of fake entities that are in the memory of the spark-nlp-internal. You can setting up this module using the the following property setObfuscateRefSource('faker').\n",
    "\n",
    "If we select the setObfuscateRefSource('both') then we choose randomly the entities using the faker and the fakes entities from the obfuscateRefFile.\n",
    "\n",
    "\n",
    "The entities that are allowed right now are the followings:\n",
    "\n",
    "* Location\n",
    "* Location-other\n",
    "* Hospital\n",
    "* City\n",
    "* State\n",
    "* Zip\n",
    "* Country\n",
    "* Contact\n",
    "* Username\n",
    "* Phone\n",
    "* Fax\n",
    "* Url\n",
    "* Email\n",
    "* Profession\n",
    "* Name\n",
    "* Doctor\n",
    "* Patient\n",
    "* Id\n",
    "* Idnum\n",
    "* Bioid\n",
    "* Age\n",
    "* Organization\n",
    "* Healthplan\n",
    "* Medicalrecord\n",
    "* Ssn\n",
    "* Passport\n",
    "* DLN\n",
    "* NPI\n",
    "* C_card\n",
    "* IBAN\n",
    "* DEA\n",
    "* Device\n",
    "\n",
    "\n"
   ]
  },
  {
   "cell_type": "code",
   "execution_count": null,
   "metadata": {
    "id": "w5P97F6jVkNB"
   },
   "outputs": [],
   "source": [
    "obfuscation = DeIdentification()\\\n",
    "      .setInputCols([\"sentence\", \"token\", \"ner_chunk\"]) \\\n",
    "      .setOutputCol(\"deidentified\") \\\n",
    "      .setMode(\"obfuscate\")\\\n",
    "      .setObfuscateDate(True)\\\n",
    "      .setObfuscateRefSource(\"faker\") \\\n",
    "\n",
    "pipeline = Pipeline(stages=[\n",
    "      documentAssembler, \n",
    "      sentenceDetector,\n",
    "      tokenizer,\n",
    "      word_embeddings,\n",
    "      deid_ner,\n",
    "      ner_converter,\n",
    "      obfuscation\n",
    "])\n",
    "\n",
    "obfuscation_model = pipeline.fit(empty_data)"
   ]
  },
  {
   "cell_type": "code",
   "execution_count": null,
   "metadata": {
    "colab": {
     "base_uri": "https://localhost:8080/",
     "height": 204
    },
    "id": "lf6OBIjvjWFd",
    "outputId": "847a9a6f-4f0e-4e54-e333-c0f4f973f45f"
   },
   "outputs": [],
   "source": [
    "text ='''\n",
    "Record date : 2093-01-13 , David Hale , M.D . , Name : Hendrickson , Ora MR # 7194334 Date : 01/13/93 . Patient : Oliveira, 25 years-old , Record date : 2079-11-09 . Cocke County Baptist Hospital . 0295 Keats Street\n",
    "'''\n",
    "\n",
    "result = obfuscation_model.transform(spark.createDataFrame([[text]]).toDF(\"text\"))\n",
    "\n",
    "result.select(F.explode(F.arrays_zip('sentence.result', 'deidentified.result')).alias(\"cols\")) \\\n",
    ".select(F.expr(\"cols['0']\").alias(\"sentence\"), F.expr(\"cols['1']\").alias(\"deidentified\")).toPandas()"
   ]
  },
  {
   "cell_type": "markdown",
   "metadata": {
    "id": "9jAMC21Hf89v"
   },
   "source": [
    "## Use full pipeline in the Light model"
   ]
  },
  {
   "cell_type": "code",
   "execution_count": null,
   "metadata": {
    "colab": {
     "base_uri": "https://localhost:8080/"
    },
    "id": "q4mg2R-yW4nz",
    "outputId": "c2b8baea-f95d-43d9-9816-c8675d78c581"
   },
   "outputs": [],
   "source": [
    "light_model = LightPipeline(model)\n",
    "annotated_text = light_model.annotate(text)\n",
    "annotated_text['deidentified']"
   ]
  },
  {
   "cell_type": "code",
   "execution_count": null,
   "metadata": {
    "colab": {
     "base_uri": "https://localhost:8080/"
    },
    "id": "rGALkSGQjf4h",
    "outputId": "9a477131-5c9d-4489-982f-8e6f12badf2a"
   },
   "outputs": [],
   "source": [
    "obf_light_model = LightPipeline(obfuscation_model)\n",
    "annotated_text = obf_light_model.annotate(text)\n",
    "annotated_text['deidentified']"
   ]
  },
  {
   "cell_type": "markdown",
   "metadata": {
    "id": "zwM9GsKnXPOg"
   },
   "source": [
    "# Structured Deidentification"
   ]
  },
  {
   "cell_type": "code",
   "execution_count": null,
   "metadata": {
    "colab": {
     "base_uri": "https://localhost:8080/"
    },
    "id": "JLY-pfeYXQAY",
    "outputId": "86ae03b8-298a-40a7-a1f4-a015730af42e"
   },
   "outputs": [],
   "source": [
    "!wget -q https://raw.githubusercontent.com/JohnSnowLabs/spark-nlp-workshop/master/tutorials/Certification_Trainings/Healthcare/data/hipaa-table-001.txt\n",
    "\n",
    "df = spark.read.format(\"csv\") \\\n",
    "    .option(\"sep\", \"\\t\") \\\n",
    "    .option(\"inferSchema\", \"true\") \\\n",
    "    .option(\"header\", \"true\") \\\n",
    "    .load(\"hipaa-table-001.txt\")\n",
    "\n",
    "df = df.withColumnRenamed(\"PATIENT\",\"NAME\")\n",
    "df.show(truncate=False)"
   ]
  },
  {
   "cell_type": "code",
   "execution_count": null,
   "metadata": {
    "id": "F9bl5oo0ZhD_"
   },
   "outputs": [],
   "source": [
    "from sparknlp_jsl.structured_deidentification import StructuredDeidentification"
   ]
  },
  {
   "cell_type": "code",
   "execution_count": null,
   "metadata": {
    "colab": {
     "base_uri": "https://localhost:8080/"
    },
    "id": "PQ84IQTGcFAd",
    "outputId": "f2698efa-6b7a-4cd3-f945-d754409434cf"
   },
   "outputs": [],
   "source": [
    "obfuscator = StructuredDeidentification(spark,{\"NAME\":\"PATIENT\",\"AGE\":\"AGE\"}, obfuscateRefSource = \"faker\")\n",
    "obfuscator_df = obfuscator.obfuscateColumns(df)\n",
    "obfuscator_df.show(truncate=False)"
   ]
  },
  {
   "cell_type": "code",
   "execution_count": null,
   "metadata": {
    "id": "-GmMv8T-I0CX"
   },
   "outputs": [],
   "source": [
    "obfuscator_unique_ref_test = '''Will Perry#PATIENT\n",
    "John Smith#PATIENT\n",
    "Marvin MARSHALL#PATIENT\n",
    "Hubert GROGAN#PATIENT\n",
    "ALTHEA COLBURN#PATIENT\n",
    "Kalil AMIN#PATIENT\n",
    "Inci FOUNTAIN#PATIENT\n",
    "Jackson WILLE#PATIENT\n",
    "Jack SANTOS#PATIENT\n",
    "Mahmood ALBURN#PATIENT\n",
    "Marnie MELINGTON#PATIENT\n",
    "Aysha GHAZI#PATIENT\n",
    "Maryland CODER#PATIENT\n",
    "Darene GEORGIOUS#PATIENT\n",
    "Shelly WELLBECK#PATIENT\n",
    "Min Kun JAE#PATIENT\n",
    "Thomson THOMAS#PATIENT\n",
    "Christian SUDDINBURG#PATIENT\n",
    "Aberdeen#CITY\n",
    "Louisburg St#STREET\n",
    "France#LOC\n",
    "Nick Riviera#DOCTOR\n",
    "5552312#PHONE\n",
    "St James Hospital#HOSPITAL\n",
    "Calle del Libertador#ADDRESS\n",
    "111#ID\n",
    "Will#DOCTOR\n",
    "20#AGE\n",
    "30#AGE\n",
    "40#AGE\n",
    "50#AGE\n",
    "60#AGE\n",
    "'''\n",
    "\n",
    "with open('obfuscator_unique_ref_test.txt', 'w') as f:\n",
    "  f.write(obfuscator_unique_ref_test)"
   ]
  },
  {
   "cell_type": "code",
   "execution_count": null,
   "metadata": {
    "colab": {
     "base_uri": "https://localhost:8080/"
    },
    "id": "PTwdR034I70n",
    "outputId": "b439487e-49f3-4d6d-902e-b83048d6565a"
   },
   "outputs": [],
   "source": [
    "# obfuscateRefSource = \"file\"\n",
    "\n",
    "obfuscator = StructuredDeidentification(spark,{\"NAME\":\"PATIENT\",\"AGE\":\"AGE\"}, \n",
    "                                        obfuscateRefFile = \"/content/obfuscator_unique_ref_test.txt\",\n",
    "                                        obfuscateRefSource = \"file\",\n",
    "                                        columnsSeed={\"NAME\": 23, \"AGE\": 23})\n",
    "obfuscator_df = obfuscator.obfuscateColumns(df)\n",
    "obfuscator_df.select(\"NAME\",\"AGE\").show(truncate=False)"
   ]
  },
  {
   "cell_type": "markdown",
   "metadata": {
    "id": "w8tW5fFafQmL"
   },
   "source": [
    "We can **shift n days** in the structured deidentification through \"days\" parameter when the column is a Date."
   ]
  },
  {
   "cell_type": "code",
   "execution_count": null,
   "metadata": {
    "colab": {
     "base_uri": "https://localhost:8080/"
    },
    "id": "iBzoNufMfYCn",
    "outputId": "47bd22cf-5611-4da6-a908-e62308acc749"
   },
   "outputs": [],
   "source": [
    "df = spark.createDataFrame([\n",
    "            [\"Juan García\", \"13/02/1977\", \"711 Nulla St.\", \"140\", \"673 431234\"],\n",
    "            [\"Will Smith\", \"23/02/1977\", \"1 Green Avenue.\", \"140\", \"+23 (673) 431234\"],\n",
    "            [\"Pedro Ximénez\", \"11/04/1900\", \"Calle del Libertador, 7\", \"100\", \"912 345623\"]\n",
    "        ]).toDF(\"NAME\", \"DOB\", \"ADDRESS\", \"SBP\", \"TEL\")\n",
    "df.show(truncate=False)"
   ]
  },
  {
   "cell_type": "code",
   "execution_count": null,
   "metadata": {
    "id": "Fez0Rqq_fX3C"
   },
   "outputs": [],
   "source": [
    "obfuscator = StructuredDeidentification(spark=spark, columns={\"NAME\": \"ID\", \"DOB\": \"DATE\"},\n",
    "                                                      columnsSeed={\"NAME\": 23, \"DOB\": 23},\n",
    "                                                      obfuscateRefSource=\"faker\",\n",
    "                                                      days=5\n",
    "                                         )"
   ]
  },
  {
   "cell_type": "code",
   "execution_count": null,
   "metadata": {
    "colab": {
     "base_uri": "https://localhost:8080/"
    },
    "id": "HgNuMKhngFq2",
    "outputId": "1043ab86-d276-4b72-a629-0bde0ffb197b"
   },
   "outputs": [],
   "source": [
    "result = obfuscator.obfuscateColumns(df)\n",
    "result.show(truncate=False)"
   ]
  },
  {
   "cell_type": "markdown",
   "metadata": {
    "id": "vI2Lkwf5zuUm"
   },
   "source": [
    "# Pretrained Deidentification Pipeline\n",
    "\n",
    "This pipeline can be used to deidentify PHI information from medical texts. The PHI information will be masked and obfuscated in the resulting text. The pipeline can mask and obfuscate `AGE`, `CONTACT`, `DATE`, `ID`, `LOCATION`, `NAME`, `PROFESSION`, `CITY`, `COUNTRY`, `DOCTOR`, `HOSPITAL`, `IDNUM`, `MEDICALRECORD`, `ORGANIZATION`, `PATIENT`, `PHONE`, `PROFESSION`, `STREET`, `USERNAME`, `ZIP`, `ACCOUNT`, `LICENSE`, `VIN`, `SSN`, `DLN`, `PLATE`, `IPADDR` entities."
   ]
  },
  {
   "cell_type": "code",
   "execution_count": null,
   "metadata": {
    "colab": {
     "base_uri": "https://localhost:8080/"
    },
    "id": "hQu0sQ6Tz1Fd",
    "outputId": "66b62f4f-fbff-49dd-bae3-6d1dcf80de10"
   },
   "outputs": [],
   "source": [
    "from sparknlp.pretrained import PretrainedPipeline\n",
    "\n",
    "deid_pipeline = PretrainedPipeline(\"clinical_deidentification\", \"en\", \"clinical/models\")"
   ]
  },
  {
   "cell_type": "code",
   "execution_count": null,
   "metadata": {
    "colab": {
     "base_uri": "https://localhost:8080/"
    },
    "id": "J7W8O9R2V8tE",
    "outputId": "fb51d348-d2de-412c-d187-7ac9bec450c6"
   },
   "outputs": [],
   "source": [
    "deid_pipeline.model.stages"
   ]
  },
  {
   "cell_type": "code",
   "execution_count": null,
   "metadata": {
    "colab": {
     "base_uri": "https://localhost:8080/"
    },
    "id": "3fYhKkfv0bZ0",
    "outputId": "44971c1e-0954-4ec8-f8b7-1ef6db063228"
   },
   "outputs": [],
   "source": [
    "deid_res.keys()"
   ]
  },
  {
   "cell_type": "code",
   "source": [
    "text= \"\"\"Name : Hendrickson, Ora, Record date: 2093-01-13, Age: 25, # 719435. Dr. John Green, ID: 1231511863, IP 203.120.223.13. He is a 60-year-old male was admitted to the Day Hospital for cystectomy on 01/13/93. Patient's VIN : 1HGBH41JXMN109286, SSN #333-44-6666, Driver's license no:A334455B. Phone (302) 786-5227, 0295 Keats Street, San Francisco, E-MAIL: smith@gmail.com\"\"\""
   ],
   "metadata": {
    "id": "tUo4PG4APG7M"
   },
   "execution_count": null,
   "outputs": []
  },
  {
   "cell_type": "code",
   "source": [
    "deid_res= deid_pipeline.annotate(text)"
   ],
   "metadata": {
    "id": "qKxhE_2_gB_9"
   },
   "execution_count": null,
   "outputs": []
  },
  {
   "cell_type": "code",
   "source": [
    "pd.set_option(\"display.max_colwidth\", 100)\n",
    "\n",
    "df= pd.DataFrame(list(zip(deid_res[\"sentence\"], deid_res[\"masked\"],\n",
    "                          deid_res[\"masked_with_chars\"], deid_res[\"masked_fixed_length_chars\"], deid_res[\"obfuscated\"])),\n",
    "                 columns= [\"Sentence\", \"Masked\", \"Masked with Chars\", \"Masked with Fixed Chars\", \"Obfuscated\"])\n",
    "\n",
    "df"
   ],
   "metadata": {
    "colab": {
     "base_uri": "https://localhost:8080/",
     "height": 435
    },
    "id": "GyMU5j6YfL5b",
    "outputId": "18eb2709-bbff-4f79-a64e-56bb23d33dcf"
   },
   "execution_count": null,
   "outputs": []
  }
 ],
 "metadata": {
  "colab": {
   "collapsed_sections": [],
   "name": "Copy_4_Clinical_DeIdentification.ipynb",
   "provenance": [],
   "toc_visible": true
  },
  "kernelspec": {
   "display_name": "Python 3 (ipykernel)",
   "language": "python",
   "name": "python3"
  },
  "language_info": {
   "codemirror_mode": {
    "name": "ipython",
    "version": 3
   },
   "file_extension": ".py",
   "mimetype": "text/x-python",
   "name": "python",
   "nbconvert_exporter": "python",
   "pygments_lexer": "ipython3",
   "version": "3.9.1"
  }
 },
 "nbformat": 4,
 "nbformat_minor": 0
}
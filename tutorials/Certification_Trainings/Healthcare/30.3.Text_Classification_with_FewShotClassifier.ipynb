{
  "nbformat": 4,
  "nbformat_minor": 0,
  "metadata": {
    "colab": {
      "provenance": [],
      "toc_visible": true
    },
    "kernelspec": {
      "name": "python3",
      "display_name": "Python 3"
    },
    "language_info": {
      "name": "python"
    }
  },
  "cells": [
    {
      "cell_type": "markdown",
      "source": [
        "![JohnSnowLabs](https://nlp.johnsnowlabs.com/assets/images/logo.png)"
      ],
      "metadata": {
        "id": "6Qgd5xWnMdsd"
      }
    },
    {
      "cell_type": "markdown",
      "source": [
        "[![Open In Colab](https://colab.research.google.com/assets/colab-badge.svg)](https://colab.research.google.com/github/JohnSnowLabs/spark-nlp-workshop/blob/master/tutorials/Certification_Trainings/Healthcare/30.3.Text_Classification_with_FewShotClassifier.ipynb)"
      ],
      "metadata": {
        "id": "FuGSpXW0Mfjq"
      }
    },
    {
      "cell_type": "markdown",
      "source": [
        "# Colab Setup"
      ],
      "metadata": {
        "id": "iR4fFUHvd8Ee"
      }
    },
    {
      "cell_type": "code",
      "source": [
        "import json, os\n",
        "from google.colab import files\n",
        "\n",
        "if 'spark_jsl.json' not in os.listdir():\n",
        "  license_keys = files.upload()\n",
        "  os.rename(list(license_keys.keys())[0], 'spark_jsl.json')\n",
        "\n",
        "with open('spark_jsl.json') as f:\n",
        "    license_keys = json.load(f)\n",
        "\n",
        "# Defining license key-value pairs as local variables\n",
        "locals().update(license_keys)\n",
        "os.environ.update(license_keys)"
      ],
      "metadata": {
        "id": "uBvdRDKw9Kvj"
      },
      "execution_count": null,
      "outputs": []
    },
    {
      "cell_type": "code",
      "source": [
        "# Installing pyspark and spark-nlp\n",
        "! pip install --upgrade -q pyspark==3.1.2  spark-nlp==$PUBLIC_VERSION\n",
        "\n",
        "# Installing Spark NLP Healthcare\n",
        "! pip install --upgrade -q spark-nlp-jsl==$JSL_VERSION  --extra-index-url https://pypi.johnsnowlabs.com/$SECRET\n",
        "\n",
        "# Installing Spark NLP Display Library for visualization\n",
        "! pip install -q spark-nlp-display\n",
        "\n",
        "# Installing tensorflow-addons\n",
        "! pip install -q tensorflow-addons"
      ],
      "metadata": {
        "id": "pMr-Ad0Baq4d"
      },
      "execution_count": 2,
      "outputs": []
    },
    {
      "cell_type": "code",
      "source": [
        "import json\n",
        "import os\n",
        "\n",
        "import sparknlp\n",
        "import sparknlp_jsl\n",
        "\n",
        "from sparknlp.base import *\n",
        "from sparknlp.common import *\n",
        "from sparknlp.training import *\n",
        "from sparknlp.annotator import *\n",
        "\n",
        "from sparknlp_jsl.base import *\n",
        "from sparknlp_jsl.annotator import *\n",
        "\n",
        "from pyspark.sql import SparkSession\n",
        "\n",
        "from sklearn.metrics import classification_report\n",
        "import pandas as pd\n",
        "\n",
        "params = {\"spark.driver.memory\":\"16G\",\n",
        "          \"spark.driver.maxResultSize\":\"2000M\",\n",
        "          \"spark.kryoserializer.buffer.max\":\"2000M\",\n",
        "          \"spark.serializer\":\"org.apache.spark.serializer.KryoSerializer\"\n",
        "          }\n",
        "\n",
        "spark = sparknlp_jsl.start(secret = license_keys[\"SECRET\"], params=params)\n",
        "\n",
        "print (\"Spark NLP Version :\", sparknlp.version())\n",
        "print (\"Spark NLP_JSL Version :\", sparknlp_jsl.version())\n",
        "\n",
        "spark"
      ],
      "metadata": {
        "id": "8BIjbtiucsx0",
        "colab": {
          "base_uri": "https://localhost:8080/",
          "height": 258
        },
        "outputId": "9ae52c18-cc0f-4974-8477-8eedecb68847"
      },
      "execution_count": 3,
      "outputs": [
        {
          "output_type": "stream",
          "name": "stdout",
          "text": [
            "Spark NLP Version : 5.0.0\n",
            "Spark NLP_JSL Version : 5.0.0\n"
          ]
        },
        {
          "output_type": "execute_result",
          "data": {
            "text/plain": [
              "<pyspark.sql.session.SparkSession at 0x7f8d28c3aa10>"
            ],
            "text/html": [
              "\n",
              "            <div>\n",
              "                <p><b>SparkSession - in-memory</b></p>\n",
              "                \n",
              "        <div>\n",
              "            <p><b>SparkContext</b></p>\n",
              "\n",
              "            <p><a href=\"http://dac64d371d0b:4040\">Spark UI</a></p>\n",
              "\n",
              "            <dl>\n",
              "              <dt>Version</dt>\n",
              "                <dd><code>v3.1.2</code></dd>\n",
              "              <dt>Master</dt>\n",
              "                <dd><code>local[*]</code></dd>\n",
              "              <dt>AppName</dt>\n",
              "                <dd><code>Spark NLP Licensed</code></dd>\n",
              "            </dl>\n",
              "        </div>\n",
              "        \n",
              "            </div>\n",
              "        "
            ]
          },
          "metadata": {},
          "execution_count": 3
        }
      ]
    },
    {
      "cell_type": "markdown",
      "source": [
        "# Few Shot Classification"
      ],
      "metadata": {
        "id": "-b5g8T8PC5CO"
      }
    },
    {
      "cell_type": "markdown",
      "source": [
        "The `FewShotClassifierApproach` and `FewShotClassifierModel` annotators are new additions to the set of annotators available in the NLP library. These annotators specifically target few-shot classification tasks, which involve training a model to make accurate predictions with limited labeled data.\n",
        "\n",
        "These new annotators provide a valuable capability for handling scenarios where labeled data is scarce or expensive to obtain. By effectively utilizing limited labeled examples, the few-shot classification approach enables the creation of models that can generalize and classify new instances accurately, even with minimal training data.\n",
        "\n",
        "The FewShotClassifier is designed to process sentence embeddings as input. It generates category annotations, providing labels along with confidence scores that range from 0 to 1. Input annotation types supported by this model include `SENTENCE_EMBEDDINGS`, while the output annotation type is `CATEGORY`."
      ],
      "metadata": {
        "id": "ehEmX2X3NexI"
      }
    },
    {
      "cell_type": "code",
      "source": [
        "data = [\n",
        "    [\"ADE_positive\", 'Both PAN and methotrexate have been independently demonstrated to cause sensorineural hearing loss.'],\n",
        "    [\"ADE_positive\", 'Increased lash length, thickness, and pigmentation are well-documented side effects of prostaglandin analog glaucoma drops.'],\n",
        "    [\"ADE_positive\", 'We reviewed the records of 3 patients with lymphoproliferative disorders who experienced acute coronary syndromes associated with their initial infusion of rituximab.'],\n",
        "    [\"ADE_positive\", 'A 58-year-old woman with rheumatoid arthritis (RA) developed fever, skin eruptions, leukocytopenia, and thrombocytopenia, 3 weeks after treatment with sulfasalazine.'],\n",
        "    [\"ADE_positive\", 'Adrenal suppression in a fetus due to administration of methylprednisolone has hitherto been rarely published.'],\n",
        "    [\"ADE_negative\", 'Serum concentration of cerivastatin at 6 h after taking the last dose (0.15 mg) was 8062.5 ng/L, which was almost 5.7 times higher than that of normal persons.'],\n",
        "    [\"ADE_negative\", 'The usual treatment includes quick relief bronchodilator medications of the sympathomimetic class and controller medications that may include the long-acting inhaled bronchodilator salmeterol.'],\n",
        "    [\"ADE_negative\", 'Pathogenic mechanisms for the development of pseudomembranous colitis and the epidemiology of this condition in patients with AIDS are discussed.'],\n",
        "    [\"ADE_negative\", 'On the basis of the clinico-radiologic presentation, a pulmonary hemorrhage was likely to occur; so to clarify the origin of this process, a complete serologic examination was performed but all the antibodies were negative.'],\n",
        "    [\"ADE_negative\", 'I report a patient who developed the syndrome during treatment for schizophrenia with the antipsychotic agent molindone hydrochloride.']\n",
        "]"
      ],
      "metadata": {
        "id": "jwrBclWKXHwK"
      },
      "execution_count": 37,
      "outputs": []
    },
    {
      "cell_type": "code",
      "execution_count": 38,
      "metadata": {
        "id": "c446a284-9507-4c64-a023-f7099b0f36d8",
        "colab": {
          "base_uri": "https://localhost:8080/"
        },
        "outputId": "f7564ea2-3df3-4183-94c5-4e39ca7a7650"
      },
      "outputs": [
        {
          "output_type": "stream",
          "name": "stdout",
          "text": [
            "+------------+----------------------------------------------------------------------------------------------------+\n",
            "|       label|                                                                                                text|\n",
            "+------------+----------------------------------------------------------------------------------------------------+\n",
            "|ADE_positive| Both PAN and methotrexate have been independently demonstrated to cause sensorineural hearing loss.|\n",
            "|ADE_positive|Increased lash length, thickness, and pigmentation are well-documented side effects of prostaglan...|\n",
            "|ADE_positive|We reviewed the records of 3 patients with lymphoproliferative disorders who experienced acute co...|\n",
            "|ADE_positive|A 58-year-old woman with rheumatoid arthritis (RA) developed fever, skin eruptions, leukocytopeni...|\n",
            "|ADE_positive|Adrenal suppression in a fetus due to administration of methylprednisolone has hitherto been rare...|\n",
            "|ADE_negative|Serum concentration of cerivastatin at 6 h after taking the last dose (0.15 mg) was 8062.5 ng/L, ...|\n",
            "|ADE_negative|The usual treatment includes quick relief bronchodilator medications of the sympathomimetic class...|\n",
            "|ADE_negative|Pathogenic mechanisms for the development of pseudomembranous colitis and the epidemiology of thi...|\n",
            "|ADE_negative|On the basis of the clinico-radiologic presentation, a pulmonary hemorrhage was likely to occur; ...|\n",
            "|ADE_negative|I report a patient who developed the syndrome during treatment for schizophrenia with the antipsy...|\n",
            "+------------+----------------------------------------------------------------------------------------------------+\n",
            "\n"
          ]
        }
      ],
      "source": [
        "train_data = spark.createDataFrame(data).toDF(\"label\",\"text\")\n",
        "train_data.show(truncate=100)"
      ]
    },
    {
      "cell_type": "code",
      "execution_count": 43,
      "metadata": {
        "id": "c7e1534d-d23d-4dde-8e72-1b20153035e7",
        "colab": {
          "base_uri": "https://localhost:8080/"
        },
        "outputId": "66267c41-1817-44d5-9a67-c9d9d32f17ca"
      },
      "outputs": [
        {
          "output_type": "stream",
          "name": "stdout",
          "text": [
            "sbiobert_base_cased_mli download started this may take some time.\n",
            "Approximate size to download 384.3 MB\n",
            "[OK!]\n"
          ]
        }
      ],
      "source": [
        "document_asm = DocumentAssembler()\\\n",
        "    .setInputCol(\"text\")\\\n",
        "    .setOutputCol(\"sentence\")\n",
        "\n",
        "sentence_embeddings = BertSentenceEmbeddings\\\n",
        ".pretrained(\"sbiobert_base_cased_mli\",\"en\",\"clinical/models\")\\\n",
        "    .setInputCols([\"sentence\"])\\\n",
        "    .setOutputCol(\"sentence_embeddings\")\n",
        "\n",
        "graph_builder = TFGraphBuilder()\\\n",
        "    .setModelName(\"fewshot_classifier\")\\\n",
        "    .setInputCols([\"sentence_embeddings\"]) \\\n",
        "    .setLabelColumn(\"label\")\\\n",
        "    .setGraphFolder(\"/tmp\")\\\n",
        "    .setGraphFile(\"log_reg_graph.pb\")\\\n",
        "\n",
        "few_shot_approach = FewShotClassifierApproach()\\\n",
        "    .setLabelColumn(\"label\")\\\n",
        "    .setInputCols([\"sentence_embeddings\"])\\\n",
        "    .setOutputCol(\"prediction\")\\\n",
        "    .setModelFile(f\"/tmp/log_reg_graph.pb\")\\\n",
        "    .setEpochsNumber(10)\\\n",
        "    .setBatchSize(1)\\\n",
        "    .setLearningRate(0.001)\n",
        "\n",
        "pipeline = Pipeline(\n",
        "    stages=[\n",
        "        document_asm,\n",
        "        sentence_embeddings,\n",
        "        graph_builder,\n",
        "        few_shot_approach\n",
        "    ])"
      ]
    },
    {
      "cell_type": "code",
      "execution_count": 44,
      "metadata": {
        "id": "b67e226a-633a-4569-9613-0a7787b65f40",
        "colab": {
          "base_uri": "https://localhost:8080/"
        },
        "outputId": "825d7601-b918-4f9c-d41f-8eb164e0174f"
      },
      "outputs": [
        {
          "output_type": "stream",
          "name": "stdout",
          "text": [
            "TF Graph Builder configuration:\n",
            "Model name: fewshot_classifier\n",
            "Graph folder: /tmp\n",
            "Graph file name: log_reg_graph.pb\n",
            "Build params: {'input_dim': 768, 'output_dim': 2, 'hidden_layers': [], 'output_act': 'sigmoid'}\n",
            "fewshot_classifier graph exported to /tmp/log_reg_graph.pb\n",
            "CPU times: user 571 ms, sys: 41.8 ms, total: 612 ms\n",
            "Wall time: 20.6 s\n"
          ]
        }
      ],
      "source": [
        "%%time\n",
        "model = pipeline.fit(train_data)"
      ]
    },
    {
      "cell_type": "code",
      "execution_count": 45,
      "metadata": {
        "id": "7ceb7a0a-31ed-4763-a314-fd3dbc19db75"
      },
      "outputs": [],
      "source": [
        "model.stages[-1].write().overwrite().save(\"/tmp/few_shot_model\")"
      ]
    },
    {
      "cell_type": "code",
      "execution_count": 46,
      "metadata": {
        "id": "826cb97b-25ac-4f3c-b927-6cd1deb6d2f0"
      },
      "outputs": [],
      "source": [
        "few_shot_model = sparknlp_jsl.annotators.FewShotClassifierModel.load(\"/tmp/few_shot_model\")"
      ]
    },
    {
      "cell_type": "markdown",
      "source": [
        "## with LightPipeline"
      ],
      "metadata": {
        "id": "lGmkN7YJ8yA9"
      }
    },
    {
      "cell_type": "code",
      "execution_count": 47,
      "metadata": {
        "id": "9a8a6b0f-e3a1-4dbc-bf5c-bfa8a9cbe510"
      },
      "outputs": [],
      "source": [
        "lpipeline = LightPipeline(Pipeline(\n",
        "                stages=[\n",
        "                    document_asm,\n",
        "                    sentence_embeddings,\n",
        "                    few_shot_model.setMultiClass(False)\n",
        "                ]).fit(train_data))"
      ]
    },
    {
      "cell_type": "code",
      "execution_count": 51,
      "metadata": {
        "id": "4d676717-7ba2-4653-9688-bdb327b6dcdd"
      },
      "outputs": [],
      "source": [
        "tests = ['Bleomycin pneumonitis potentiated by oxygen administration.',\n",
        "         'Enzymes derived from two different bacterial sources (Escherichia coli and Erwinia carotovora) are in common use.',\n",
        "         'These cases and others quoted indicate that dependence on pressurized aerosol bronchodilators can and does occur in young people.',\n",
        "         'PVT during chemotherapy in children is a rare event and appears to be closely related to intensive chemotherapy containing busulfan and to be associated with HVOD.',\n",
        "         ]"
      ]
    },
    {
      "cell_type": "code",
      "execution_count": 52,
      "metadata": {
        "id": "8ddc3469-75c8-4020-9970-7eca8c9a5e7a",
        "colab": {
          "base_uri": "https://localhost:8080/"
        },
        "outputId": "34c4ca8b-2821-4e9d-be6b-9a09940dccda"
      },
      "outputs": [
        {
          "output_type": "stream",
          "name": "stdout",
          "text": [
            "0 {'sentence': [Annotation(document, 0, 58, Bleomycin pneumonitis potentiated by oxygen administration., {}, [])], 'sentence_embeddings': [Annotation(sentence_embeddings, 0, 58, Bleomycin pneumonitis potentiated by oxygen administration., {'sentence': '0', 'token': 'Bleomycin pneumonitis potentiated by oxygen administration.', 'pieceId': '-1', 'isWordStart': 'true'}, [])], 'prediction': [Annotation(category, 0, 0, ADE_positive, {'confidence': '0.4356895'}, [])]}\n",
            "1 {'sentence': [Annotation(document, 0, 112, Enzymes derived from two different bacterial sources (Escherichia coli and Erwinia carotovora) are in common use., {}, [])], 'sentence_embeddings': [Annotation(sentence_embeddings, 0, 112, Enzymes derived from two different bacterial sources (Escherichia coli and Erwinia carotovora) are in common use., {'sentence': '0', 'token': 'Enzymes derived from two different bacterial sources (Escherichia coli and Erwinia carotovora) are in common use.', 'pieceId': '-1', 'isWordStart': 'true'}, [])], 'prediction': [Annotation(category, 0, 0, ADE_negative, {'confidence': '0.6639786'}, [])]}\n",
            "2 {'sentence': [Annotation(document, 0, 128, These cases and others quoted indicate that dependence on pressurized aerosol bronchodilators can and does occur in young people., {}, [])], 'sentence_embeddings': [Annotation(sentence_embeddings, 0, 128, These cases and others quoted indicate that dependence on pressurized aerosol bronchodilators can and does occur in young people., {'sentence': '0', 'token': 'These cases and others quoted indicate that dependence on pressurized aerosol bronchodilators can and does occur in young people.', 'pieceId': '-1', 'isWordStart': 'true'}, [])], 'prediction': [Annotation(category, 0, 0, ADE_negative, {'confidence': '0.43239337'}, [])]}\n",
            "3 {'sentence': [Annotation(document, 0, 162, PVT during chemotherapy in children is a rare event and appears to be closely related to intensive chemotherapy containing busulfan and to be associated with HVOD., {}, [])], 'sentence_embeddings': [Annotation(sentence_embeddings, 0, 162, PVT during chemotherapy in children is a rare event and appears to be closely related to intensive chemotherapy containing busulfan and to be associated with HVOD., {'sentence': '0', 'token': 'PVT during chemotherapy in children is a rare event and appears to be closely related to intensive chemotherapy containing busulfan and to be associated with HVOD.', 'pieceId': '-1', 'isWordStart': 'true'}, [])], 'prediction': [Annotation(category, 0, 0, ADE_negative, {'confidence': '0.6044256'}, [])]}\n"
          ]
        }
      ],
      "source": [
        "for i, r in enumerate(lpipeline.fullAnnotate(tests)):\n",
        "    print(i, r)\n"
      ]
    },
    {
      "cell_type": "code",
      "source": [
        "for i, r in enumerate(lpipeline.fullAnnotate(tests)):\n",
        "    print(i ,r[\"prediction\"][0].result)"
      ],
      "metadata": {
        "id": "48HvjAKfZ75U",
        "colab": {
          "base_uri": "https://localhost:8080/"
        },
        "outputId": "9fa55553-db42-4fb0-dc04-5afefba5fee3"
      },
      "execution_count": 53,
      "outputs": [
        {
          "output_type": "stream",
          "name": "stdout",
          "text": [
            "0 ADE_positive\n",
            "1 ADE_negative\n",
            "2 ADE_negative\n",
            "3 ADE_negative\n"
          ]
        }
      ]
    },
    {
      "cell_type": "code",
      "source": [
        "for i, r in enumerate(lpipeline.fullAnnotate(tests)):\n",
        "    print(i ,r[\"prediction\"][0],r[\"sentence\"][0].result )"
      ],
      "metadata": {
        "colab": {
          "base_uri": "https://localhost:8080/"
        },
        "id": "rfdkSntdJMTN",
        "outputId": "24957795-27da-4131-f5a3-5e68e3378390"
      },
      "execution_count": 55,
      "outputs": [
        {
          "output_type": "stream",
          "name": "stdout",
          "text": [
            "0 Annotation(category, 0, 0, ADE_positive, {'confidence': '0.4356895'}, []) Bleomycin pneumonitis potentiated by oxygen administration.\n",
            "1 Annotation(category, 0, 0, ADE_negative, {'confidence': '0.6639786'}, []) Enzymes derived from two different bacterial sources (Escherichia coli and Erwinia carotovora) are in common use.\n",
            "2 Annotation(category, 0, 0, ADE_negative, {'confidence': '0.43239337'}, []) These cases and others quoted indicate that dependence on pressurized aerosol bronchodilators can and does occur in young people.\n",
            "3 Annotation(category, 0, 0, ADE_negative, {'confidence': '0.6044256'}, []) PVT during chemotherapy in children is a rare event and appears to be closely related to intensive chemotherapy containing busulfan and to be associated with HVOD.\n"
          ]
        }
      ]
    },
    {
      "cell_type": "code",
      "source": [
        "lpipeline.fullAnnotate('After 1 week of nefazodone therapy the patient experienced headache, confusion, and \"gray areas\" in her vision, without abnormal ophthalmologic findings.')"
      ],
      "metadata": {
        "id": "gEqjSREg2aX7",
        "colab": {
          "base_uri": "https://localhost:8080/"
        },
        "outputId": "b16db4f6-0810-4a3c-ce70-b89188d362b0"
      },
      "execution_count": 16,
      "outputs": [
        {
          "output_type": "execute_result",
          "data": {
            "text/plain": [
              "[{'sentence': [Annotation(document, 0, 152, After 1 week of nefazodone therapy the patient experienced headache, confusion, and \"gray areas\" in her vision, without abnormal ophthalmologic findings., {}, [])],\n",
              "  'sentence_embeddings': [Annotation(sentence_embeddings, 0, 152, After 1 week of nefazodone therapy the patient experienced headache, confusion, and \"gray areas\" in her vision, without abnormal ophthalmologic findings., {'sentence': '0', 'token': 'After 1 week of nefazodone therapy the patient experienced headache, confusion, and \"gray areas\" in her vision, without abnormal ophthalmologic findings.', 'pieceId': '-1', 'isWordStart': 'true'}, [])],\n",
              "  'prediction': [Annotation(category, 0, 0, ADE_positive, {'confidence': '0.68922853'}, [])]}]"
            ]
          },
          "metadata": {},
          "execution_count": 16
        }
      ]
    },
    {
      "cell_type": "code",
      "execution_count": 17,
      "metadata": {
        "id": "47967a44-8c3f-46db-92fb-7baf80937862"
      },
      "outputs": [],
      "source": [
        "lpipeline_multi = LightPipeline(Pipeline(\n",
        "                      stages=[\n",
        "                          document_asm,\n",
        "                          sentence_embeddings,\n",
        "                          few_shot_model.setMultiClass(True)\n",
        "                      ]).fit(train_data))"
      ]
    },
    {
      "cell_type": "code",
      "execution_count": 18,
      "metadata": {
        "id": "c64cd5cf-a2e3-4671-b56f-bf6d9d383208",
        "colab": {
          "base_uri": "https://localhost:8080/"
        },
        "outputId": "f8620072-cd22-4a42-a3c4-84734a97d36c"
      },
      "outputs": [
        {
          "output_type": "stream",
          "name": "stdout",
          "text": [
            "0 {'sentence': [Annotation(document, 0, 58, Bleomycin pneumonitis potentiated by oxygen administration., {}, [])], 'sentence_embeddings': [Annotation(sentence_embeddings, 0, 58, Bleomycin pneumonitis potentiated by oxygen administration., {'sentence': '0', 'token': 'Bleomycin pneumonitis potentiated by oxygen administration.', 'pieceId': '-1', 'isWordStart': 'true'}, [])], 'prediction': [Annotation(category, 0, 0, ADE_negative, {'confidence': '0.581476'}, []), Annotation(category, 0, 0, ADE_positive, {'confidence': '0.57893157'}, [])]}\n",
            "1 {'sentence': [Annotation(document, 0, 112, Enzymes derived from two different bacterial sources (Escherichia coli and Erwinia carotovora) are in common use., {}, [])], 'sentence_embeddings': [Annotation(sentence_embeddings, 0, 112, Enzymes derived from two different bacterial sources (Escherichia coli and Erwinia carotovora) are in common use., {'sentence': '0', 'token': 'Enzymes derived from two different bacterial sources (Escherichia coli and Erwinia carotovora) are in common use.', 'pieceId': '-1', 'isWordStart': 'true'}, [])], 'prediction': [Annotation(category, 0, 0, ADE_negative, {'confidence': '0.63793814'}, []), Annotation(category, 0, 0, ADE_positive, {'confidence': '0.5811099'}, [])]}\n",
            "2 {'sentence': [Annotation(document, 0, 128, These cases and others quoted indicate that dependence on pressurized aerosol bronchodilators can and does occur in young people., {}, [])], 'sentence_embeddings': [Annotation(sentence_embeddings, 0, 128, These cases and others quoted indicate that dependence on pressurized aerosol bronchodilators can and does occur in young people., {'sentence': '0', 'token': 'These cases and others quoted indicate that dependence on pressurized aerosol bronchodilators can and does occur in young people.', 'pieceId': '-1', 'isWordStart': 'true'}, [])], 'prediction': [Annotation(category, 0, 0, ADE_negative, {'confidence': '0.5904401'}, []), Annotation(category, 0, 0, ADE_positive, {'confidence': '0.29843384'}, [])]}\n",
            "3 {'sentence': [Annotation(document, 0, 162, PVT during chemotherapy in children is a rare event and appears to be closely related to intensive chemotherapy containing busulfan and to be associated with HVOD., {}, [])], 'sentence_embeddings': [Annotation(sentence_embeddings, 0, 162, PVT during chemotherapy in children is a rare event and appears to be closely related to intensive chemotherapy containing busulfan and to be associated with HVOD., {'sentence': '0', 'token': 'PVT during chemotherapy in children is a rare event and appears to be closely related to intensive chemotherapy containing busulfan and to be associated with HVOD.', 'pieceId': '-1', 'isWordStart': 'true'}, [])], 'prediction': [Annotation(category, 0, 0, ADE_negative, {'confidence': '0.55433303'}, []), Annotation(category, 0, 0, ADE_positive, {'confidence': '0.39507768'}, [])]}\n"
          ]
        }
      ],
      "source": [
        "for i, r in enumerate(lpipeline_multi.fullAnnotate(tests)):\n",
        "    print(i,r)\n"
      ]
    },
    {
      "cell_type": "code",
      "source": [
        "for i, r in enumerate(lpipeline_multi.fullAnnotate(tests)):\n",
        "    print(i, r[\"prediction\"])\n"
      ],
      "metadata": {
        "id": "JLgk4o5Vcsr9",
        "colab": {
          "base_uri": "https://localhost:8080/"
        },
        "outputId": "fa29139b-55e2-4dab-843d-f52807ee342f"
      },
      "execution_count": 19,
      "outputs": [
        {
          "output_type": "stream",
          "name": "stdout",
          "text": [
            "0 [Annotation(category, 0, 0, ADE_negative, {'confidence': '0.581476'}, []), Annotation(category, 0, 0, ADE_positive, {'confidence': '0.57893157'}, [])]\n",
            "1 [Annotation(category, 0, 0, ADE_negative, {'confidence': '0.63793814'}, []), Annotation(category, 0, 0, ADE_positive, {'confidence': '0.5811099'}, [])]\n",
            "2 [Annotation(category, 0, 0, ADE_negative, {'confidence': '0.5904401'}, []), Annotation(category, 0, 0, ADE_positive, {'confidence': '0.29843384'}, [])]\n",
            "3 [Annotation(category, 0, 0, ADE_negative, {'confidence': '0.55433303'}, []), Annotation(category, 0, 0, ADE_positive, {'confidence': '0.39507768'}, [])]\n"
          ]
        }
      ]
    },
    {
      "cell_type": "code",
      "source": [
        "lpipeline_multi.fullAnnotate('After 1 week of nefazodone therapy the patient experienced headache, confusion, and \"gray areas\" in her vision, without abnormal ophthalmologic findings.')"
      ],
      "metadata": {
        "id": "g-lChKd8ozN9",
        "colab": {
          "base_uri": "https://localhost:8080/"
        },
        "outputId": "e36940d4-981b-4eb7-8984-8b289a0b3d7d"
      },
      "execution_count": 20,
      "outputs": [
        {
          "output_type": "execute_result",
          "data": {
            "text/plain": [
              "[{'sentence': [Annotation(document, 0, 152, After 1 week of nefazodone therapy the patient experienced headache, confusion, and \"gray areas\" in her vision, without abnormal ophthalmologic findings., {}, [])],\n",
              "  'sentence_embeddings': [Annotation(sentence_embeddings, 0, 152, After 1 week of nefazodone therapy the patient experienced headache, confusion, and \"gray areas\" in her vision, without abnormal ophthalmologic findings., {'sentence': '0', 'token': 'After 1 week of nefazodone therapy the patient experienced headache, confusion, and \"gray areas\" in her vision, without abnormal ophthalmologic findings.', 'pieceId': '-1', 'isWordStart': 'true'}, [])],\n",
              "  'prediction': [Annotation(category, 0, 0, ADE_negative, {'confidence': '0.35451746'}, []),\n",
              "   Annotation(category, 0, 0, ADE_positive, {'confidence': '0.68922853'}, [])]}]"
            ]
          },
          "metadata": {},
          "execution_count": 20
        }
      ]
    },
    {
      "cell_type": "markdown",
      "source": [
        "## with transform"
      ],
      "metadata": {
        "id": "mKAE5_7U0vLJ"
      }
    },
    {
      "cell_type": "code",
      "source": [
        "test_data = spark.createDataFrame([\n",
        "    ['After 1 week of nefazodone therapy the patient experienced headache, confusion, and \"gray areas\" in her vision, without abnormal ophthalmologic findings.'],\n",
        "    ['Possible linkage of amprenavir with intracranial bleeding in an HIV-infected hemophiliac.'],\n",
        "    ['Results Radiographic responses to sirolimus were observed in all patients.'],\n",
        "    ['Obtaining appropriate cultures can be critical in making the diagnosis and directing treatment.']\n",
        "]).toDF(\"text\")"
      ],
      "metadata": {
        "id": "OE8iwPeg0xaj"
      },
      "execution_count": 21,
      "outputs": []
    },
    {
      "cell_type": "code",
      "source": [
        "result = model.transform(test_data)\n",
        "\n",
        "result.select(\"text\",\"prediction\").show(truncate=False)"
      ],
      "metadata": {
        "id": "WqbOZAQb0_Ua",
        "colab": {
          "base_uri": "https://localhost:8080/"
        },
        "outputId": "e467adff-abb7-419e-c20b-03fe0b8e4fe3"
      },
      "execution_count": 22,
      "outputs": [
        {
          "output_type": "stream",
          "name": "stdout",
          "text": [
            "+---------------------------------------------------------------------------------------------------------------------------------------------------------+----------------------------------------------------------------+\n",
            "|text                                                                                                                                                     |prediction                                                      |\n",
            "+---------------------------------------------------------------------------------------------------------------------------------------------------------+----------------------------------------------------------------+\n",
            "|After 1 week of nefazodone therapy the patient experienced headache, confusion, and \"gray areas\" in her vision, without abnormal ophthalmologic findings.|[{category, 0, 0, ADE_positive, {confidence -> 0.6892285}, []}] |\n",
            "|Possible linkage of amprenavir with intracranial bleeding in an HIV-infected hemophiliac.                                                                |[{category, 0, 0, ADE_negative, {confidence -> 0.5530857}, []}] |\n",
            "|Results Radiographic responses to sirolimus were observed in all patients.                                                                               |[{category, 0, 0, ADE_negative, {confidence -> 0.5999834}, []}] |\n",
            "|Obtaining appropriate cultures can be critical in making the diagnosis and directing treatment.                                                          |[{category, 0, 0, ADE_negative, {confidence -> 0.63518995}, []}]|\n",
            "+---------------------------------------------------------------------------------------------------------------------------------------------------------+----------------------------------------------------------------+\n",
            "\n"
          ]
        }
      ]
    },
    {
      "cell_type": "code",
      "source": [
        "model_multi = Pipeline(\n",
        "                  stages=[\n",
        "                      document_asm,\n",
        "                      sentence_embeddings,\n",
        "                      few_shot_model.setMultiClass(True)\n",
        "                  ]).fit(train_data)\n",
        "\n",
        "result_2 = model_multi.transform(test_data)\n",
        "\n",
        "result_2.select(\"text\",\"prediction\").show(truncate=False)"
      ],
      "metadata": {
        "id": "gZlArfZL1Jrz",
        "colab": {
          "base_uri": "https://localhost:8080/"
        },
        "outputId": "5f853284-9e4f-475c-9479-a6446509789a"
      },
      "execution_count": 23,
      "outputs": [
        {
          "output_type": "stream",
          "name": "stdout",
          "text": [
            "+---------------------------------------------------------------------------------------------------------------------------------------------------------+--------------------------------------------------------------------------------------------------------------------------------+\n",
            "|text                                                                                                                                                     |prediction                                                                                                                      |\n",
            "+---------------------------------------------------------------------------------------------------------------------------------------------------------+--------------------------------------------------------------------------------------------------------------------------------+\n",
            "|After 1 week of nefazodone therapy the patient experienced headache, confusion, and \"gray areas\" in her vision, without abnormal ophthalmologic findings.|[{category, 0, 0, ADE_negative, {confidence -> 0.35451752}, []}, {category, 0, 0, ADE_positive, {confidence -> 0.6892285}, []}] |\n",
            "|Possible linkage of amprenavir with intracranial bleeding in an HIV-infected hemophiliac.                                                                |[{category, 0, 0, ADE_negative, {confidence -> 0.5530857}, []}, {category, 0, 0, ADE_positive, {confidence -> 0.51891696}, []}] |\n",
            "|Results Radiographic responses to sirolimus were observed in all patients.                                                                               |[{category, 0, 0, ADE_negative, {confidence -> 0.5999834}, []}, {category, 0, 0, ADE_positive, {confidence -> 0.24685171}, []}] |\n",
            "|Obtaining appropriate cultures can be critical in making the diagnosis and directing treatment.                                                          |[{category, 0, 0, ADE_negative, {confidence -> 0.63518995}, []}, {category, 0, 0, ADE_positive, {confidence -> 0.32409805}, []}]|\n",
            "+---------------------------------------------------------------------------------------------------------------------------------------------------------+--------------------------------------------------------------------------------------------------------------------------------+\n",
            "\n"
          ]
        }
      ]
    },
    {
      "cell_type": "markdown",
      "source": [
        "## with word embeddins"
      ],
      "metadata": {
        "id": "zMr2oIa1CXLh"
      }
    },
    {
      "cell_type": "code",
      "source": [
        "tokenizer = Tokenizer() \\\n",
        "    .setInputCols([\"sentence\"]) \\\n",
        "    .setOutputCol(\"token\")\n",
        "\n",
        "word_embeddings = WordEmbeddingsModel.pretrained(\"embeddings_clinical\",\"en\",\"clinical/models\")\\\n",
        "    .setInputCols([\"sentence\",\"token\"])\\\n",
        "    .setOutputCol(\"word_embeddings\")\n",
        "\n",
        "sentence_embeddings = SentenceEmbeddings() \\\n",
        "    .setInputCols([\"sentence\", \"word_embeddings\"]) \\\n",
        "    .setOutputCol(\"sentence_embeddings\") \\\n",
        "    .setPoolingStrategy(\"AVERAGE\")\n",
        "\n",
        "pipeline = Pipeline(\n",
        "    stages=[\n",
        "        document_asm,\n",
        "        tokenizer,\n",
        "        word_embeddings,\n",
        "        sentence_embeddings,\n",
        "        few_shot_approach\n",
        "    ])\n",
        "\n",
        "model = pipeline.fit(spark.createDataFrame([[\"\",\"\"]]).toDF(\"label\",\"text\"))\n",
        "\n",
        "lpipeline = LightPipeline(model)"
      ],
      "metadata": {
        "id": "vhJ1FZ4_CWxf",
        "colab": {
          "base_uri": "https://localhost:8080/"
        },
        "outputId": "cdd9bf7d-ee9d-4ad3-e19f-d043504925c0"
      },
      "execution_count": 26,
      "outputs": [
        {
          "output_type": "stream",
          "name": "stdout",
          "text": [
            "embeddings_clinical download started this may take some time.\n",
            "Approximate size to download 1.6 GB\n",
            "[OK!]\n"
          ]
        }
      ]
    },
    {
      "cell_type": "code",
      "source": [
        "lpipeline.fullAnnotate('Nephrotic syndrome associated with interferon-beta-1b therapy for multiple sclerosis.')"
      ],
      "metadata": {
        "id": "SR2IEqj4iWTg",
        "colab": {
          "base_uri": "https://localhost:8080/"
        },
        "outputId": "d7aadf06-9b80-4bcf-94d9-9e124b078404"
      },
      "execution_count": 27,
      "outputs": [
        {
          "output_type": "execute_result",
          "data": {
            "text/plain": [
              "[{'word_embeddings': [Annotation(word_embeddings, 0, 8, Nephrotic, {'isOOV': 'false', 'pieceId': '-1', 'isWordStart': 'true', 'token': 'Nephrotic', 'sentence': '0'}, []),\n",
              "   Annotation(word_embeddings, 10, 17, syndrome, {'isOOV': 'false', 'pieceId': '-1', 'isWordStart': 'true', 'token': 'syndrome', 'sentence': '0'}, []),\n",
              "   Annotation(word_embeddings, 19, 28, associated, {'isOOV': 'false', 'pieceId': '-1', 'isWordStart': 'true', 'token': 'associated', 'sentence': '0'}, []),\n",
              "   Annotation(word_embeddings, 30, 33, with, {'isOOV': 'false', 'pieceId': '-1', 'isWordStart': 'true', 'token': 'with', 'sentence': '0'}, []),\n",
              "   Annotation(word_embeddings, 35, 52, interferon-beta-1b, {'isOOV': 'false', 'pieceId': '-1', 'isWordStart': 'true', 'token': 'interferon-beta-1b', 'sentence': '0'}, []),\n",
              "   Annotation(word_embeddings, 54, 60, therapy, {'isOOV': 'false', 'pieceId': '-1', 'isWordStart': 'true', 'token': 'therapy', 'sentence': '0'}, []),\n",
              "   Annotation(word_embeddings, 62, 64, for, {'isOOV': 'false', 'pieceId': '-1', 'isWordStart': 'true', 'token': 'for', 'sentence': '0'}, []),\n",
              "   Annotation(word_embeddings, 66, 73, multiple, {'isOOV': 'false', 'pieceId': '-1', 'isWordStart': 'true', 'token': 'multiple', 'sentence': '0'}, []),\n",
              "   Annotation(word_embeddings, 75, 83, sclerosis, {'isOOV': 'false', 'pieceId': '-1', 'isWordStart': 'true', 'token': 'sclerosis', 'sentence': '0'}, []),\n",
              "   Annotation(word_embeddings, 84, 84, ., {'isOOV': 'false', 'pieceId': '-1', 'isWordStart': 'true', 'token': '.', 'sentence': '0'}, [])],\n",
              "  'prediction': [Annotation(category, 0, 0, , {'confidence': '0.46556792'}, [])],\n",
              "  'sentence_embeddings': [Annotation(sentence_embeddings, 0, 84, Nephrotic syndrome associated with interferon-beta-1b therapy for multiple sclerosis., {'sentence': '0', 'token': 'Nephrotic syndrome associated with interferon-beta-1b therapy for multiple sclerosis.', 'pieceId': '-1', 'isWordStart': 'true'}, [])],\n",
              "  'token': [Annotation(token, 0, 8, Nephrotic, {'sentence': '0'}, []),\n",
              "   Annotation(token, 10, 17, syndrome, {'sentence': '0'}, []),\n",
              "   Annotation(token, 19, 28, associated, {'sentence': '0'}, []),\n",
              "   Annotation(token, 30, 33, with, {'sentence': '0'}, []),\n",
              "   Annotation(token, 35, 52, interferon-beta-1b, {'sentence': '0'}, []),\n",
              "   Annotation(token, 54, 60, therapy, {'sentence': '0'}, []),\n",
              "   Annotation(token, 62, 64, for, {'sentence': '0'}, []),\n",
              "   Annotation(token, 66, 73, multiple, {'sentence': '0'}, []),\n",
              "   Annotation(token, 75, 83, sclerosis, {'sentence': '0'}, []),\n",
              "   Annotation(token, 84, 84, ., {'sentence': '0'}, [])],\n",
              "  'sentence': [Annotation(document, 0, 84, Nephrotic syndrome associated with interferon-beta-1b therapy for multiple sclerosis., {}, [])]}]"
            ]
          },
          "metadata": {},
          "execution_count": 27
        }
      ]
    },
    {
      "cell_type": "markdown",
      "source": [
        "# MTSamples Dataset"
      ],
      "metadata": {
        "id": "UajnaTzbDp7c"
      }
    },
    {
      "cell_type": "code",
      "execution_count": 4,
      "metadata": {
        "id": "CHPqy3NeZMWW"
      },
      "outputs": [],
      "source": [
        "!wget -q https://raw.githubusercontent.com/JohnSnowLabs/spark-nlp-workshop/master/tutorials/Certification_Trainings/Healthcare/data/mtsamples_classifier.csv"
      ]
    },
    {
      "cell_type": "code",
      "execution_count": 5,
      "metadata": {
        "id": "44eb4f5f-9065-4512-aad6-2afc89f74220",
        "colab": {
          "base_uri": "https://localhost:8080/"
        },
        "outputId": "c39cd16e-e2d8-413f-8fc5-eff67c03206a"
      },
      "outputs": [
        {
          "output_type": "stream",
          "name": "stdout",
          "text": [
            "+----------------+----------------------------------------------------------------------------------------------------+\n",
            "|        category|                                                                                                text|\n",
            "+----------------+----------------------------------------------------------------------------------------------------+\n",
            "|Gastroenterology| PROCEDURES PERFORMED: Colonoscopy. INDICATIONS: Renewed symptoms likely consistent with active f...|\n",
            "|Gastroenterology| OPERATION 1. Ivor-Lewis esophagogastrectomy. 2. Feeding jejunostomy. 3. Placement of two right-s...|\n",
            "|Gastroenterology| PREOPERATIVE DIAGNOSES: 1. Gastroesophageal reflux disease. 2. Chronic dyspepsia. POSTOPERATIVE ...|\n",
            "|Gastroenterology| PROCEDURE: Colonoscopy. PREOPERATIVE DIAGNOSES: Rectal bleeding and perirectal abscess. POSTOPER...|\n",
            "|Gastroenterology| PREOPERATIVE DIAGNOSIS: Right colon tumor. POSTOPERATIVE DIAGNOSES: 1. Right colon cancer. 2. As...|\n",
            "|Gastroenterology| PREOPERATIVE DIAGNOSIS (ES): 1. Cholelithiasis. 2. Cholecystitis. POSTOPERATIVE DIAGNOSIS (ES): ...|\n",
            "|Gastroenterology| The patient was taken to the GI lab and placed in the left lateral supine position. Continuous p...|\n",
            "|Gastroenterology| PREOPERATIVE DIAGNOSIS: Gastrostomy (gastrocutaneous fistula). POSTOPERATIVE DIAGNOSIS: Gastrost...|\n",
            "|Gastroenterology| PREOPERATIVE DIAGNOSIS: Acute acalculous cholecystitis. POSTOPERATIVE DIAGNOSIS: Acute hemorrhag...|\n",
            "|Gastroenterology| HISTORY OF PRESENT ILLNESS: This is a 10-year-old who was found with biliary atresia and underwe...|\n",
            "+----------------+----------------------------------------------------------------------------------------------------+\n",
            "only showing top 10 rows\n",
            "\n"
          ]
        }
      ],
      "source": [
        "spark_df = spark.read.csv(\"mtsamples_classifier.csv\", header = True)\n",
        "\n",
        "spark_df.show(10,truncate=100)"
      ]
    },
    {
      "cell_type": "code",
      "execution_count": 6,
      "metadata": {
        "id": "241bd286-350c-421e-92f4-a80164ed2dc1",
        "colab": {
          "base_uri": "https://localhost:8080/"
        },
        "outputId": "495eaa1f-2f8f-4d81-c4c8-4ea6bc7f7745"
      },
      "outputs": [
        {
          "output_type": "stream",
          "name": "stdout",
          "text": [
            "+----------------+-----+\n",
            "|        category|count|\n",
            "+----------------+-----+\n",
            "|         Urology|  115|\n",
            "|       Neurology|  143|\n",
            "|      Orthopedic|  223|\n",
            "|Gastroenterology|  157|\n",
            "+----------------+-----+\n",
            "\n"
          ]
        }
      ],
      "source": [
        "spark_df.groupBy(\"category\").count().show()"
      ]
    },
    {
      "cell_type": "code",
      "execution_count": 10,
      "metadata": {
        "id": "db12fe42-90b6-434d-852a-ea86cad9a963",
        "colab": {
          "base_uri": "https://localhost:8080/"
        },
        "outputId": "f10df361-596d-49cc-9af1-43eacb47be41"
      },
      "outputs": [
        {
          "output_type": "stream",
          "name": "stdout",
          "text": [
            "trainingData_with_embeddings:        536\n",
            "testData_with_embeddings:            102\n",
            "trainingData_part1_with_embeddings:  280\n"
          ]
        }
      ],
      "source": [
        "(trainingData, testData) = spark_df.randomSplit([0.8, 0.2], seed = 42)\n",
        "(trainingData_part1, trainingData_part2) = trainingData.randomSplit([0.5, 0.5], seed = 42)\n",
        "\n",
        "print(\"trainingData_with_embeddings:       \",trainingData.count())\n",
        "print(\"testData_with_embeddings:           \",testData.count())\n",
        "print(\"trainingData_part1_with_embeddings: \",trainingData_part1.count())"
      ]
    },
    {
      "cell_type": "markdown",
      "metadata": {
        "id": "RcQPzSbOVOpn"
      },
      "source": [
        "We will extract [sbiobert_base_cased_mli](https://nlp.johnsnowlabs.com/2020/11/27/sbiobert_base_cased_mli_en.html) embeddings which has 768 dimension output and use this embeddings in the model training."
      ]
    },
    {
      "cell_type": "code",
      "execution_count": 11,
      "metadata": {
        "colab": {
          "base_uri": "https://localhost:8080/"
        },
        "id": "e7pupvygW4Eq",
        "outputId": "2a6d33b0-dd64-4b2a-b237-00572872e6bf"
      },
      "outputs": [
        {
          "output_type": "stream",
          "name": "stdout",
          "text": [
            "sbiobert_base_cased_mli download started this may take some time.\n",
            "Approximate size to download 384.3 MB\n",
            "[OK!]\n"
          ]
        }
      ],
      "source": [
        "document_assembler = DocumentAssembler()\\\n",
        "    .setInputCol(\"text\")\\\n",
        "    .setOutputCol(\"document\")\n",
        "\n",
        "bert_sent = BertSentenceEmbeddings.pretrained(\"sbiobert_base_cased_mli\", 'en','clinical/models')\\\n",
        "    .setInputCols([\"document\"])\\\n",
        "    .setOutputCol(\"sentence_embeddings\")\n",
        "\n",
        "embeddings_pipeline = Pipeline(\n",
        "    stages = [document_assembler,\n",
        "              bert_sent])"
      ]
    },
    {
      "cell_type": "code",
      "execution_count": 12,
      "metadata": {
        "colab": {
          "base_uri": "https://localhost:8080/"
        },
        "id": "A-_AaTGCW4Eq",
        "outputId": "200af948-a8da-4d1d-ca50-c0ea37b67fbc"
      },
      "outputs": [
        {
          "output_type": "stream",
          "name": "stdout",
          "text": [
            "+------------------------------------------------------------+----------------+------------------------------------------------------------+\n",
            "|                                                        text|        category|                                         sentence_embeddings|\n",
            "+------------------------------------------------------------+----------------+------------------------------------------------------------+\n",
            "| ADMISSION DIAGNOSIS: Symptomatic cholelithiasis. DISCHAR...|Gastroenterology|[{sentence_embeddings, 0, 2228,  ADMISSION DIAGNOSIS: Sym...|\n",
            "| ADMITTING DIAGNOSES: Hiatal hernia, gastroesophageal ref...|Gastroenterology|[{sentence_embeddings, 0, 3237,  ADMITTING DIAGNOSES: Hia...|\n",
            "+------------------------------------------------------------+----------------+------------------------------------------------------------+\n",
            "only showing top 2 rows\n",
            "\n"
          ]
        }
      ],
      "source": [
        "trainingData_with_embeddings = embeddings_pipeline.fit(trainingData).transform(trainingData)\\\n",
        "                                                  .select(\"text\",\"category\",\"sentence_embeddings\")\n",
        "\n",
        "trainingData_with_embeddings.show(2,truncate=60)"
      ]
    },
    {
      "cell_type": "code",
      "execution_count": 13,
      "metadata": {
        "colab": {
          "base_uri": "https://localhost:8080/"
        },
        "id": "sGAKs2o0W4Eq",
        "outputId": "89c8b983-ae29-45be-d59a-a91f9e3526fd"
      },
      "outputs": [
        {
          "output_type": "stream",
          "name": "stdout",
          "text": [
            "+------------------------------------------------------------+----------------+------------------------------------------------------------+\n",
            "|                                                        text|        category|                                         sentence_embeddings|\n",
            "+------------------------------------------------------------+----------------+------------------------------------------------------------+\n",
            "| ADMITTING DIAGNOSIS: Gastrointestinal bleed. HISTORY OF ...|Gastroenterology|[{sentence_embeddings, 0, 3978,  ADMITTING DIAGNOSIS: Gas...|\n",
            "| CHIEF COMPLAINT: Dysphagia and hematemesis while vomitin...|Gastroenterology|[{sentence_embeddings, 0, 6515,  CHIEF COMPLAINT: Dysphag...|\n",
            "+------------------------------------------------------------+----------------+------------------------------------------------------------+\n",
            "only showing top 2 rows\n",
            "\n"
          ]
        }
      ],
      "source": [
        "testData_with_embeddings = embeddings_pipeline.fit(testData).transform(testData)\\\n",
        "                                                  .select(\"text\",\"category\",\"sentence_embeddings\")\n",
        "\n",
        "testData_with_embeddings.show(2,truncate=60)"
      ]
    },
    {
      "cell_type": "code",
      "source": [
        "trainingData_part1_with_embeddings = embeddings_pipeline.fit(trainingData_part1).transform(trainingData_part1)\\\n",
        "                                                  .select(\"text\",\"category\",\"sentence_embeddings\")\n",
        "\n",
        "trainingData_part2_with_embeddings = embeddings_pipeline.fit(trainingData_part2).transform(trainingData_part2)\\\n",
        "                                                  .select(\"text\",\"category\",\"sentence_embeddings\")"
      ],
      "metadata": {
        "id": "LzWT86oXKXkI"
      },
      "execution_count": 14,
      "outputs": []
    },
    {
      "cell_type": "markdown",
      "metadata": {
        "id": "NqYpg6-dW4Eq"
      },
      "source": [
        "### ClassifierDL"
      ]
    },
    {
      "cell_type": "code",
      "execution_count": 15,
      "metadata": {
        "id": "WiR3GJpbW4Eq"
      },
      "outputs": [],
      "source": [
        "log_folder=\"classifier_dl_logs_bert\""
      ]
    },
    {
      "cell_type": "code",
      "execution_count": 16,
      "metadata": {
        "id": "vkb4PlGsW4Eq"
      },
      "outputs": [],
      "source": [
        "classifier_dl = ClassifierDLApproach()\\\n",
        "        .setInputCols([\"sentence_embeddings\"])\\\n",
        "        .setOutputCol(\"prediction_class\")\\\n",
        "        .setLabelColumn(\"category\")\\\n",
        "        .setBatchSize(8)\\\n",
        "        .setMaxEpochs(10)\\\n",
        "        .setLr(0.002)\\\n",
        "        .setDropout(0.1)\\\n",
        "        .setEnableOutputLogs(True)\\\n",
        "        .setOutputLogsPath(log_folder)\n",
        "\n",
        "classifier_dl_pipeline = Pipeline(stages=[classifier_dl])"
      ]
    },
    {
      "cell_type": "code",
      "execution_count": 17,
      "metadata": {
        "id": "WG0-PJA2W4Eq",
        "colab": {
          "base_uri": "https://localhost:8080/"
        },
        "outputId": "52e30b4a-38b4-4ff9-b2be-9cb2d05945f0"
      },
      "outputs": [
        {
          "output_type": "stream",
          "name": "stdout",
          "text": [
            "CPU times: user 3.85 s, sys: 493 ms, total: 4.34 s\n",
            "Wall time: 10min 57s\n"
          ]
        }
      ],
      "source": [
        "%%time\n",
        "clfDL_model_bert = classifier_dl_pipeline.fit(trainingData_with_embeddings)"
      ]
    },
    {
      "cell_type": "code",
      "execution_count": 23,
      "metadata": {
        "colab": {
          "base_uri": "https://localhost:8080/"
        },
        "id": "B_29_8JBW4Eq",
        "outputId": "0c21690f-059a-4355-b84b-b03a12483603"
      },
      "outputs": [
        {
          "output_type": "stream",
          "name": "stdout",
          "text": [
            "                  precision    recall  f1-score   support\n",
            "\n",
            "Gastroenterology       0.88      0.88      0.88        25\n",
            "       Neurology       0.75      0.82      0.78        22\n",
            "      Orthopedic       0.85      0.80      0.82        35\n",
            "         Urology       0.90      0.90      0.90        20\n",
            "\n",
            "        accuracy                           0.84       102\n",
            "       macro avg       0.84      0.85      0.85       102\n",
            "    weighted avg       0.85      0.84      0.84       102\n",
            "\n"
          ]
        }
      ],
      "source": [
        "preds = clfDL_model_bert.transform(testData_with_embeddings)\n",
        "\n",
        "preds_df = preds.select(\"category\",\"text\",\"prediction_class.result\").toPandas()\n",
        "preds_df[\"result\"] = preds_df[\"result\"].apply(lambda x : x[0])\n",
        "\n",
        "print(classification_report(preds_df[\"category\"], preds_df[\"result\"]))"
      ]
    },
    {
      "cell_type": "code",
      "source": [
        "results_df = pd.DataFrame(columns=[\"macro-f1-score\",\"weighted-f1-score\",\"accuracy\"])\n",
        "\n",
        "res = classification_report(preds_df[\"category\"], preds_df[\"result\"], output_dict=True)\n",
        "results_df.loc[\"ClassifierDL_full_Data\"] = [res[\"macro avg\"][\"f1-score\"], res[\"weighted avg\"][\"f1-score\"], res[\"accuracy\"]]"
      ],
      "metadata": {
        "id": "qDnPLheTi_RL"
      },
      "execution_count": 24,
      "outputs": []
    },
    {
      "cell_type": "code",
      "source": [
        "results_df"
      ],
      "metadata": {
        "colab": {
          "base_uri": "https://localhost:8080/",
          "height": 81
        },
        "id": "r5zaLGTJQVb3",
        "outputId": "df16debc-75ff-4e4a-be10-893cfabf2219"
      },
      "execution_count": 25,
      "outputs": [
        {
          "output_type": "execute_result",
          "data": {
            "text/plain": [
              "                        macro-f1-score  weighted-f1-score  accuracy\n",
              "ClassifierDL_full_Data        0.846535           0.843538  0.843137"
            ],
            "text/html": [
              "\n",
              "\n",
              "  <div id=\"df-ed1a6ccc-d8e6-4797-89e7-a043801caf6c\">\n",
              "    <div class=\"colab-df-container\">\n",
              "      <div>\n",
              "<style scoped>\n",
              "    .dataframe tbody tr th:only-of-type {\n",
              "        vertical-align: middle;\n",
              "    }\n",
              "\n",
              "    .dataframe tbody tr th {\n",
              "        vertical-align: top;\n",
              "    }\n",
              "\n",
              "    .dataframe thead th {\n",
              "        text-align: right;\n",
              "    }\n",
              "</style>\n",
              "<table border=\"1\" class=\"dataframe\">\n",
              "  <thead>\n",
              "    <tr style=\"text-align: right;\">\n",
              "      <th></th>\n",
              "      <th>macro-f1-score</th>\n",
              "      <th>weighted-f1-score</th>\n",
              "      <th>accuracy</th>\n",
              "    </tr>\n",
              "  </thead>\n",
              "  <tbody>\n",
              "    <tr>\n",
              "      <th>ClassifierDL_full_Data</th>\n",
              "      <td>0.846535</td>\n",
              "      <td>0.843538</td>\n",
              "      <td>0.843137</td>\n",
              "    </tr>\n",
              "  </tbody>\n",
              "</table>\n",
              "</div>\n",
              "      <button class=\"colab-df-convert\" onclick=\"convertToInteractive('df-ed1a6ccc-d8e6-4797-89e7-a043801caf6c')\"\n",
              "              title=\"Convert this dataframe to an interactive table.\"\n",
              "              style=\"display:none;\">\n",
              "\n",
              "  <svg xmlns=\"http://www.w3.org/2000/svg\" height=\"24px\"viewBox=\"0 0 24 24\"\n",
              "       width=\"24px\">\n",
              "    <path d=\"M0 0h24v24H0V0z\" fill=\"none\"/>\n",
              "    <path d=\"M18.56 5.44l.94 2.06.94-2.06 2.06-.94-2.06-.94-.94-2.06-.94 2.06-2.06.94zm-11 1L8.5 8.5l.94-2.06 2.06-.94-2.06-.94L8.5 2.5l-.94 2.06-2.06.94zm10 10l.94 2.06.94-2.06 2.06-.94-2.06-.94-.94-2.06-.94 2.06-2.06.94z\"/><path d=\"M17.41 7.96l-1.37-1.37c-.4-.4-.92-.59-1.43-.59-.52 0-1.04.2-1.43.59L10.3 9.45l-7.72 7.72c-.78.78-.78 2.05 0 2.83L4 21.41c.39.39.9.59 1.41.59.51 0 1.02-.2 1.41-.59l7.78-7.78 2.81-2.81c.8-.78.8-2.07 0-2.86zM5.41 20L4 18.59l7.72-7.72 1.47 1.35L5.41 20z\"/>\n",
              "  </svg>\n",
              "      </button>\n",
              "\n",
              "\n",
              "\n",
              "    <div id=\"df-614d605b-cbc6-402c-9398-33bdc6c6c8b1\">\n",
              "      <button class=\"colab-df-quickchart\" onclick=\"quickchart('df-614d605b-cbc6-402c-9398-33bdc6c6c8b1')\"\n",
              "              title=\"Suggest charts.\"\n",
              "              style=\"display:none;\">\n",
              "\n",
              "<svg xmlns=\"http://www.w3.org/2000/svg\" height=\"24px\"viewBox=\"0 0 24 24\"\n",
              "     width=\"24px\">\n",
              "    <g>\n",
              "        <path d=\"M19 3H5c-1.1 0-2 .9-2 2v14c0 1.1.9 2 2 2h14c1.1 0 2-.9 2-2V5c0-1.1-.9-2-2-2zM9 17H7v-7h2v7zm4 0h-2V7h2v10zm4 0h-2v-4h2v4z\"/>\n",
              "    </g>\n",
              "</svg>\n",
              "      </button>\n",
              "    </div>\n",
              "\n",
              "<style>\n",
              "  .colab-df-quickchart {\n",
              "    background-color: #E8F0FE;\n",
              "    border: none;\n",
              "    border-radius: 50%;\n",
              "    cursor: pointer;\n",
              "    display: none;\n",
              "    fill: #1967D2;\n",
              "    height: 32px;\n",
              "    padding: 0 0 0 0;\n",
              "    width: 32px;\n",
              "  }\n",
              "\n",
              "  .colab-df-quickchart:hover {\n",
              "    background-color: #E2EBFA;\n",
              "    box-shadow: 0px 1px 2px rgba(60, 64, 67, 0.3), 0px 1px 3px 1px rgba(60, 64, 67, 0.15);\n",
              "    fill: #174EA6;\n",
              "  }\n",
              "\n",
              "  [theme=dark] .colab-df-quickchart {\n",
              "    background-color: #3B4455;\n",
              "    fill: #D2E3FC;\n",
              "  }\n",
              "\n",
              "  [theme=dark] .colab-df-quickchart:hover {\n",
              "    background-color: #434B5C;\n",
              "    box-shadow: 0px 1px 3px 1px rgba(0, 0, 0, 0.15);\n",
              "    filter: drop-shadow(0px 1px 2px rgba(0, 0, 0, 0.3));\n",
              "    fill: #FFFFFF;\n",
              "  }\n",
              "</style>\n",
              "\n",
              "    <script>\n",
              "      async function quickchart(key) {\n",
              "        const containerElement = document.querySelector('#' + key);\n",
              "        const charts = await google.colab.kernel.invokeFunction(\n",
              "            'suggestCharts', [key], {});\n",
              "      }\n",
              "    </script>\n",
              "\n",
              "      <script>\n",
              "\n",
              "function displayQuickchartButton(domScope) {\n",
              "  let quickchartButtonEl =\n",
              "    domScope.querySelector('#df-614d605b-cbc6-402c-9398-33bdc6c6c8b1 button.colab-df-quickchart');\n",
              "  quickchartButtonEl.style.display =\n",
              "    google.colab.kernel.accessAllowed ? 'block' : 'none';\n",
              "}\n",
              "\n",
              "        displayQuickchartButton(document);\n",
              "      </script>\n",
              "      <style>\n",
              "    .colab-df-container {\n",
              "      display:flex;\n",
              "      flex-wrap:wrap;\n",
              "      gap: 12px;\n",
              "    }\n",
              "\n",
              "    .colab-df-convert {\n",
              "      background-color: #E8F0FE;\n",
              "      border: none;\n",
              "      border-radius: 50%;\n",
              "      cursor: pointer;\n",
              "      display: none;\n",
              "      fill: #1967D2;\n",
              "      height: 32px;\n",
              "      padding: 0 0 0 0;\n",
              "      width: 32px;\n",
              "    }\n",
              "\n",
              "    .colab-df-convert:hover {\n",
              "      background-color: #E2EBFA;\n",
              "      box-shadow: 0px 1px 2px rgba(60, 64, 67, 0.3), 0px 1px 3px 1px rgba(60, 64, 67, 0.15);\n",
              "      fill: #174EA6;\n",
              "    }\n",
              "\n",
              "    [theme=dark] .colab-df-convert {\n",
              "      background-color: #3B4455;\n",
              "      fill: #D2E3FC;\n",
              "    }\n",
              "\n",
              "    [theme=dark] .colab-df-convert:hover {\n",
              "      background-color: #434B5C;\n",
              "      box-shadow: 0px 1px 3px 1px rgba(0, 0, 0, 0.15);\n",
              "      filter: drop-shadow(0px 1px 2px rgba(0, 0, 0, 0.3));\n",
              "      fill: #FFFFFF;\n",
              "    }\n",
              "  </style>\n",
              "\n",
              "      <script>\n",
              "        const buttonEl =\n",
              "          document.querySelector('#df-ed1a6ccc-d8e6-4797-89e7-a043801caf6c button.colab-df-convert');\n",
              "        buttonEl.style.display =\n",
              "          google.colab.kernel.accessAllowed ? 'block' : 'none';\n",
              "\n",
              "        async function convertToInteractive(key) {\n",
              "          const element = document.querySelector('#df-ed1a6ccc-d8e6-4797-89e7-a043801caf6c');\n",
              "          const dataTable =\n",
              "            await google.colab.kernel.invokeFunction('convertToInteractive',\n",
              "                                                     [key], {});\n",
              "          if (!dataTable) return;\n",
              "\n",
              "          const docLinkHtml = 'Like what you see? Visit the ' +\n",
              "            '<a target=\"_blank\" href=https://colab.research.google.com/notebooks/data_table.ipynb>data table notebook</a>'\n",
              "            + ' to learn more about interactive tables.';\n",
              "          element.innerHTML = '';\n",
              "          dataTable['output_type'] = 'display_data';\n",
              "          await google.colab.output.renderOutput(dataTable, element);\n",
              "          const docLink = document.createElement('div');\n",
              "          docLink.innerHTML = docLinkHtml;\n",
              "          element.appendChild(docLink);\n",
              "        }\n",
              "      </script>\n",
              "    </div>\n",
              "  </div>\n"
            ]
          },
          "metadata": {},
          "execution_count": 25
        }
      ]
    },
    {
      "cell_type": "markdown",
      "metadata": {
        "id": "CD2LW9yVOKz_"
      },
      "source": [
        "### ClassifierDL partial"
      ]
    },
    {
      "cell_type": "code",
      "execution_count": 26,
      "metadata": {
        "id": "KWcGQLleOKz_"
      },
      "outputs": [],
      "source": [
        "log_folder=\"classifier_dl_logs_bert\""
      ]
    },
    {
      "cell_type": "code",
      "execution_count": 27,
      "metadata": {
        "id": "1WNH-l1yOKz_"
      },
      "outputs": [],
      "source": [
        "classifier_dl = ClassifierDLApproach()\\\n",
        "        .setInputCols([\"sentence_embeddings\"])\\\n",
        "        .setOutputCol(\"prediction_class\")\\\n",
        "        .setLabelColumn(\"category\")\\\n",
        "        .setBatchSize(8)\\\n",
        "        .setMaxEpochs(10)\\\n",
        "        .setLr(0.002)\\\n",
        "        .setDropout(0.1)\\\n",
        "        .setEnableOutputLogs(True)\\\n",
        "        .setOutputLogsPath(log_folder)\n",
        "\n",
        "classifier_dl_pipeline = Pipeline(stages=[classifier_dl])"
      ]
    },
    {
      "cell_type": "code",
      "execution_count": 28,
      "metadata": {
        "colab": {
          "base_uri": "https://localhost:8080/"
        },
        "id": "LoSwhxLwOKz_",
        "outputId": "e328031d-d205-4812-c4b2-9b076af513a4"
      },
      "outputs": [
        {
          "output_type": "stream",
          "name": "stdout",
          "text": [
            "CPU times: user 1.94 s, sys: 214 ms, total: 2.15 s\n",
            "Wall time: 5min 44s\n"
          ]
        }
      ],
      "source": [
        "%%time\n",
        "\n",
        "clfDL_model_bert = classifier_dl_pipeline.fit(trainingData_part1_with_embeddings)"
      ]
    },
    {
      "cell_type": "code",
      "execution_count": 29,
      "metadata": {
        "colab": {
          "base_uri": "https://localhost:8080/"
        },
        "id": "jCrRUmAJOK0A",
        "outputId": "f6c97ea9-c5da-4749-b94b-814887a7362a"
      },
      "outputs": [
        {
          "output_type": "stream",
          "name": "stdout",
          "text": [
            "                  precision    recall  f1-score   support\n",
            "\n",
            "Gastroenterology       0.81      0.88      0.85        25\n",
            "       Neurology       0.79      0.86      0.83        22\n",
            "      Orthopedic       0.88      0.86      0.87        35\n",
            "         Urology       0.88      0.75      0.81        20\n",
            "\n",
            "        accuracy                           0.84       102\n",
            "       macro avg       0.84      0.84      0.84       102\n",
            "    weighted avg       0.85      0.84      0.84       102\n",
            "\n"
          ]
        }
      ],
      "source": [
        "preds = clfDL_model_bert.transform(testData_with_embeddings)\n",
        "\n",
        "preds_df = preds.select(\"category\",\"text\",\"prediction_class.result\").toPandas()\n",
        "preds_df[\"result\"] = preds_df[\"result\"].apply(lambda x : x[0])\n",
        "\n",
        "print (classification_report(preds_df[\"category\"], preds_df[\"result\"]))"
      ]
    },
    {
      "cell_type": "code",
      "source": [
        "res = classification_report(preds_df[\"category\"], preds_df[\"result\"], output_dict=True)\n",
        "results_df.loc[\"ClassifierDL_partial_Data\"] = [res[\"macro avg\"][\"f1-score\"], res[\"weighted avg\"][\"f1-score\"], res[\"accuracy\"]]"
      ],
      "metadata": {
        "id": "79ZRC0LROK0A"
      },
      "execution_count": 30,
      "outputs": []
    },
    {
      "cell_type": "code",
      "source": [
        "results_df"
      ],
      "metadata": {
        "colab": {
          "base_uri": "https://localhost:8080/",
          "height": 112
        },
        "id": "OhjPiQ3lg2PC",
        "outputId": "9cb120b5-2c1a-4863-9356-8b192b7d4654"
      },
      "execution_count": 31,
      "outputs": [
        {
          "output_type": "execute_result",
          "data": {
            "text/plain": [
              "                           macro-f1-score  weighted-f1-score  accuracy\n",
              "ClassifierDL_full_Data           0.846535           0.843538  0.843137\n",
              "ClassifierDL_partial_Data        0.838154           0.842929  0.843137"
            ],
            "text/html": [
              "\n",
              "\n",
              "  <div id=\"df-edbf496e-c038-46de-a043-152ff91170d8\">\n",
              "    <div class=\"colab-df-container\">\n",
              "      <div>\n",
              "<style scoped>\n",
              "    .dataframe tbody tr th:only-of-type {\n",
              "        vertical-align: middle;\n",
              "    }\n",
              "\n",
              "    .dataframe tbody tr th {\n",
              "        vertical-align: top;\n",
              "    }\n",
              "\n",
              "    .dataframe thead th {\n",
              "        text-align: right;\n",
              "    }\n",
              "</style>\n",
              "<table border=\"1\" class=\"dataframe\">\n",
              "  <thead>\n",
              "    <tr style=\"text-align: right;\">\n",
              "      <th></th>\n",
              "      <th>macro-f1-score</th>\n",
              "      <th>weighted-f1-score</th>\n",
              "      <th>accuracy</th>\n",
              "    </tr>\n",
              "  </thead>\n",
              "  <tbody>\n",
              "    <tr>\n",
              "      <th>ClassifierDL_full_Data</th>\n",
              "      <td>0.846535</td>\n",
              "      <td>0.843538</td>\n",
              "      <td>0.843137</td>\n",
              "    </tr>\n",
              "    <tr>\n",
              "      <th>ClassifierDL_partial_Data</th>\n",
              "      <td>0.838154</td>\n",
              "      <td>0.842929</td>\n",
              "      <td>0.843137</td>\n",
              "    </tr>\n",
              "  </tbody>\n",
              "</table>\n",
              "</div>\n",
              "      <button class=\"colab-df-convert\" onclick=\"convertToInteractive('df-edbf496e-c038-46de-a043-152ff91170d8')\"\n",
              "              title=\"Convert this dataframe to an interactive table.\"\n",
              "              style=\"display:none;\">\n",
              "\n",
              "  <svg xmlns=\"http://www.w3.org/2000/svg\" height=\"24px\"viewBox=\"0 0 24 24\"\n",
              "       width=\"24px\">\n",
              "    <path d=\"M0 0h24v24H0V0z\" fill=\"none\"/>\n",
              "    <path d=\"M18.56 5.44l.94 2.06.94-2.06 2.06-.94-2.06-.94-.94-2.06-.94 2.06-2.06.94zm-11 1L8.5 8.5l.94-2.06 2.06-.94-2.06-.94L8.5 2.5l-.94 2.06-2.06.94zm10 10l.94 2.06.94-2.06 2.06-.94-2.06-.94-.94-2.06-.94 2.06-2.06.94z\"/><path d=\"M17.41 7.96l-1.37-1.37c-.4-.4-.92-.59-1.43-.59-.52 0-1.04.2-1.43.59L10.3 9.45l-7.72 7.72c-.78.78-.78 2.05 0 2.83L4 21.41c.39.39.9.59 1.41.59.51 0 1.02-.2 1.41-.59l7.78-7.78 2.81-2.81c.8-.78.8-2.07 0-2.86zM5.41 20L4 18.59l7.72-7.72 1.47 1.35L5.41 20z\"/>\n",
              "  </svg>\n",
              "      </button>\n",
              "\n",
              "\n",
              "\n",
              "    <div id=\"df-91b18163-1693-4dd7-a312-e2b3e0d14f1c\">\n",
              "      <button class=\"colab-df-quickchart\" onclick=\"quickchart('df-91b18163-1693-4dd7-a312-e2b3e0d14f1c')\"\n",
              "              title=\"Suggest charts.\"\n",
              "              style=\"display:none;\">\n",
              "\n",
              "<svg xmlns=\"http://www.w3.org/2000/svg\" height=\"24px\"viewBox=\"0 0 24 24\"\n",
              "     width=\"24px\">\n",
              "    <g>\n",
              "        <path d=\"M19 3H5c-1.1 0-2 .9-2 2v14c0 1.1.9 2 2 2h14c1.1 0 2-.9 2-2V5c0-1.1-.9-2-2-2zM9 17H7v-7h2v7zm4 0h-2V7h2v10zm4 0h-2v-4h2v4z\"/>\n",
              "    </g>\n",
              "</svg>\n",
              "      </button>\n",
              "    </div>\n",
              "\n",
              "<style>\n",
              "  .colab-df-quickchart {\n",
              "    background-color: #E8F0FE;\n",
              "    border: none;\n",
              "    border-radius: 50%;\n",
              "    cursor: pointer;\n",
              "    display: none;\n",
              "    fill: #1967D2;\n",
              "    height: 32px;\n",
              "    padding: 0 0 0 0;\n",
              "    width: 32px;\n",
              "  }\n",
              "\n",
              "  .colab-df-quickchart:hover {\n",
              "    background-color: #E2EBFA;\n",
              "    box-shadow: 0px 1px 2px rgba(60, 64, 67, 0.3), 0px 1px 3px 1px rgba(60, 64, 67, 0.15);\n",
              "    fill: #174EA6;\n",
              "  }\n",
              "\n",
              "  [theme=dark] .colab-df-quickchart {\n",
              "    background-color: #3B4455;\n",
              "    fill: #D2E3FC;\n",
              "  }\n",
              "\n",
              "  [theme=dark] .colab-df-quickchart:hover {\n",
              "    background-color: #434B5C;\n",
              "    box-shadow: 0px 1px 3px 1px rgba(0, 0, 0, 0.15);\n",
              "    filter: drop-shadow(0px 1px 2px rgba(0, 0, 0, 0.3));\n",
              "    fill: #FFFFFF;\n",
              "  }\n",
              "</style>\n",
              "\n",
              "    <script>\n",
              "      async function quickchart(key) {\n",
              "        const containerElement = document.querySelector('#' + key);\n",
              "        const charts = await google.colab.kernel.invokeFunction(\n",
              "            'suggestCharts', [key], {});\n",
              "      }\n",
              "    </script>\n",
              "\n",
              "      <script>\n",
              "\n",
              "function displayQuickchartButton(domScope) {\n",
              "  let quickchartButtonEl =\n",
              "    domScope.querySelector('#df-91b18163-1693-4dd7-a312-e2b3e0d14f1c button.colab-df-quickchart');\n",
              "  quickchartButtonEl.style.display =\n",
              "    google.colab.kernel.accessAllowed ? 'block' : 'none';\n",
              "}\n",
              "\n",
              "        displayQuickchartButton(document);\n",
              "      </script>\n",
              "      <style>\n",
              "    .colab-df-container {\n",
              "      display:flex;\n",
              "      flex-wrap:wrap;\n",
              "      gap: 12px;\n",
              "    }\n",
              "\n",
              "    .colab-df-convert {\n",
              "      background-color: #E8F0FE;\n",
              "      border: none;\n",
              "      border-radius: 50%;\n",
              "      cursor: pointer;\n",
              "      display: none;\n",
              "      fill: #1967D2;\n",
              "      height: 32px;\n",
              "      padding: 0 0 0 0;\n",
              "      width: 32px;\n",
              "    }\n",
              "\n",
              "    .colab-df-convert:hover {\n",
              "      background-color: #E2EBFA;\n",
              "      box-shadow: 0px 1px 2px rgba(60, 64, 67, 0.3), 0px 1px 3px 1px rgba(60, 64, 67, 0.15);\n",
              "      fill: #174EA6;\n",
              "    }\n",
              "\n",
              "    [theme=dark] .colab-df-convert {\n",
              "      background-color: #3B4455;\n",
              "      fill: #D2E3FC;\n",
              "    }\n",
              "\n",
              "    [theme=dark] .colab-df-convert:hover {\n",
              "      background-color: #434B5C;\n",
              "      box-shadow: 0px 1px 3px 1px rgba(0, 0, 0, 0.15);\n",
              "      filter: drop-shadow(0px 1px 2px rgba(0, 0, 0, 0.3));\n",
              "      fill: #FFFFFF;\n",
              "    }\n",
              "  </style>\n",
              "\n",
              "      <script>\n",
              "        const buttonEl =\n",
              "          document.querySelector('#df-edbf496e-c038-46de-a043-152ff91170d8 button.colab-df-convert');\n",
              "        buttonEl.style.display =\n",
              "          google.colab.kernel.accessAllowed ? 'block' : 'none';\n",
              "\n",
              "        async function convertToInteractive(key) {\n",
              "          const element = document.querySelector('#df-edbf496e-c038-46de-a043-152ff91170d8');\n",
              "          const dataTable =\n",
              "            await google.colab.kernel.invokeFunction('convertToInteractive',\n",
              "                                                     [key], {});\n",
              "          if (!dataTable) return;\n",
              "\n",
              "          const docLinkHtml = 'Like what you see? Visit the ' +\n",
              "            '<a target=\"_blank\" href=https://colab.research.google.com/notebooks/data_table.ipynb>data table notebook</a>'\n",
              "            + ' to learn more about interactive tables.';\n",
              "          element.innerHTML = '';\n",
              "          dataTable['output_type'] = 'display_data';\n",
              "          await google.colab.output.renderOutput(dataTable, element);\n",
              "          const docLink = document.createElement('div');\n",
              "          docLink.innerHTML = docLinkHtml;\n",
              "          element.appendChild(docLink);\n",
              "        }\n",
              "      </script>\n",
              "    </div>\n",
              "  </div>\n"
            ]
          },
          "metadata": {},
          "execution_count": 31
        }
      ]
    },
    {
      "cell_type": "markdown",
      "source": [
        "## Few Shot partial"
      ],
      "metadata": {
        "id": "Pi2MnMtnOBqX"
      }
    },
    {
      "cell_type": "code",
      "source": [
        "graph_builder = TFGraphBuilder()\\\n",
        "    .setModelName(\"fewshot_classifier\")\\\n",
        "    .setInputCols([\"sentence_embeddings\"]) \\\n",
        "    .setLabelColumn(\"category\")\\\n",
        "    .setGraphFolder(\"/tmp\")\\\n",
        "    .setGraphFile(\"log_reg_graph.pb\")\\\n",
        "\n",
        "few_shot_approach = FewShotClassifierApproach()\\\n",
        "    .setLabelColumn(\"category\")\\\n",
        "    .setInputCols([\"sentence_embeddings\"])\\\n",
        "    .setOutputCol(\"prediction\")\\\n",
        "    .setModelFile(f\"/tmp/log_reg_graph.pb\")\\\n",
        "    .setEpochsNumber(10)\\\n",
        "    .setBatchSize(1)\\\n",
        "    .setLearningRate(0.001)\n",
        "\n",
        "pipeline = Pipeline(\n",
        "    stages=[\n",
        "        graph_builder,\n",
        "        few_shot_approach\n",
        "    ])"
      ],
      "metadata": {
        "id": "7X9CmpqnEPy5"
      },
      "execution_count": 43,
      "outputs": []
    },
    {
      "cell_type": "code",
      "source": [
        "%%time\n",
        "model = pipeline.fit(trainingData_part1_with_embeddings)"
      ],
      "metadata": {
        "colab": {
          "base_uri": "https://localhost:8080/"
        },
        "id": "xtlyno7Za2Pf",
        "outputId": "83966587-ee0f-436a-c4da-5a0165a0f1d9"
      },
      "execution_count": 44,
      "outputs": [
        {
          "output_type": "stream",
          "name": "stdout",
          "text": [
            "TF Graph Builder configuration:\n",
            "Model name: fewshot_classifier\n",
            "Graph folder: /tmp/\n",
            "Graph file name: log_reg_graph.pb\n",
            "Build params: {'input_dim': 768, 'output_dim': 4, 'hidden_layers': [], 'output_act': 'sigmoid'}\n",
            "fewshot_classifier graph exported to /tmp//log_reg_graph.pb\n",
            "CPU times: user 3.7 s, sys: 391 ms, total: 4.09 s\n",
            "Wall time: 9min 40s\n"
          ]
        }
      ]
    },
    {
      "cell_type": "code",
      "execution_count": 45,
      "metadata": {
        "id": "2tNX9qDqG1Ul"
      },
      "outputs": [],
      "source": [
        "preds = model.transform(testData_with_embeddings)"
      ]
    },
    {
      "cell_type": "code",
      "execution_count": 36,
      "metadata": {
        "id": "uGFN40ju9oaB",
        "colab": {
          "base_uri": "https://localhost:8080/"
        },
        "outputId": "942049b8-7758-4bef-edb8-8d4c418345a8"
      },
      "outputs": [
        {
          "output_type": "stream",
          "name": "stdout",
          "text": [
            "                  precision    recall  f1-score   support\n",
            "\n",
            "Gastroenterology       0.88      0.92      0.90        25\n",
            "       Neurology       0.81      0.77      0.79        22\n",
            "      Orthopedic       0.91      0.89      0.90        35\n",
            "         Urology       0.86      0.90      0.88        20\n",
            "\n",
            "        accuracy                           0.87       102\n",
            "       macro avg       0.87      0.87      0.87       102\n",
            "    weighted avg       0.87      0.87      0.87       102\n",
            "\n"
          ]
        }
      ],
      "source": [
        "from sklearn.metrics import  classification_report\n",
        "\n",
        "preds_df = preds.select(\"category\",\"text\",\"prediction.result\").toPandas()\n",
        "preds_df[\"result\"] = preds_df[\"result\"].apply(lambda x : x[0])\n",
        "\n",
        "print (classification_report(preds_df[\"category\"], preds_df[\"result\"]))"
      ]
    },
    {
      "cell_type": "code",
      "source": [
        "res = classification_report(preds_df[\"category\"], preds_df[\"result\"], output_dict=True)\n",
        "results_df.loc[\"FewShot_partial_Data\"] = [res[\"macro avg\"][\"f1-score\"], res[\"weighted avg\"][\"f1-score\"], res[\"accuracy\"]]"
      ],
      "metadata": {
        "id": "kJN3UlasDR4K"
      },
      "execution_count": 37,
      "outputs": []
    },
    {
      "cell_type": "code",
      "source": [
        "results_df"
      ],
      "metadata": {
        "colab": {
          "base_uri": "https://localhost:8080/",
          "height": 143
        },
        "id": "ol94TOHFlC6m",
        "outputId": "beb6bace-5ede-403a-84c6-caba9f61c5c6"
      },
      "execution_count": 38,
      "outputs": [
        {
          "output_type": "execute_result",
          "data": {
            "text/plain": [
              "                           macro-f1-score  weighted-f1-score  accuracy\n",
              "ClassifierDL_full_Data           0.846535           0.843538  0.843137\n",
              "ClassifierDL_partial_Data        0.838154           0.842929  0.843137\n",
              "FewShot_partial_Data             0.867314           0.872104  0.872549"
            ],
            "text/html": [
              "\n",
              "\n",
              "  <div id=\"df-d802533c-d013-41d7-a852-35c76fb4c4ee\">\n",
              "    <div class=\"colab-df-container\">\n",
              "      <div>\n",
              "<style scoped>\n",
              "    .dataframe tbody tr th:only-of-type {\n",
              "        vertical-align: middle;\n",
              "    }\n",
              "\n",
              "    .dataframe tbody tr th {\n",
              "        vertical-align: top;\n",
              "    }\n",
              "\n",
              "    .dataframe thead th {\n",
              "        text-align: right;\n",
              "    }\n",
              "</style>\n",
              "<table border=\"1\" class=\"dataframe\">\n",
              "  <thead>\n",
              "    <tr style=\"text-align: right;\">\n",
              "      <th></th>\n",
              "      <th>macro-f1-score</th>\n",
              "      <th>weighted-f1-score</th>\n",
              "      <th>accuracy</th>\n",
              "    </tr>\n",
              "  </thead>\n",
              "  <tbody>\n",
              "    <tr>\n",
              "      <th>ClassifierDL_full_Data</th>\n",
              "      <td>0.846535</td>\n",
              "      <td>0.843538</td>\n",
              "      <td>0.843137</td>\n",
              "    </tr>\n",
              "    <tr>\n",
              "      <th>ClassifierDL_partial_Data</th>\n",
              "      <td>0.838154</td>\n",
              "      <td>0.842929</td>\n",
              "      <td>0.843137</td>\n",
              "    </tr>\n",
              "    <tr>\n",
              "      <th>FewShot_partial_Data</th>\n",
              "      <td>0.867314</td>\n",
              "      <td>0.872104</td>\n",
              "      <td>0.872549</td>\n",
              "    </tr>\n",
              "  </tbody>\n",
              "</table>\n",
              "</div>\n",
              "      <button class=\"colab-df-convert\" onclick=\"convertToInteractive('df-d802533c-d013-41d7-a852-35c76fb4c4ee')\"\n",
              "              title=\"Convert this dataframe to an interactive table.\"\n",
              "              style=\"display:none;\">\n",
              "\n",
              "  <svg xmlns=\"http://www.w3.org/2000/svg\" height=\"24px\"viewBox=\"0 0 24 24\"\n",
              "       width=\"24px\">\n",
              "    <path d=\"M0 0h24v24H0V0z\" fill=\"none\"/>\n",
              "    <path d=\"M18.56 5.44l.94 2.06.94-2.06 2.06-.94-2.06-.94-.94-2.06-.94 2.06-2.06.94zm-11 1L8.5 8.5l.94-2.06 2.06-.94-2.06-.94L8.5 2.5l-.94 2.06-2.06.94zm10 10l.94 2.06.94-2.06 2.06-.94-2.06-.94-.94-2.06-.94 2.06-2.06.94z\"/><path d=\"M17.41 7.96l-1.37-1.37c-.4-.4-.92-.59-1.43-.59-.52 0-1.04.2-1.43.59L10.3 9.45l-7.72 7.72c-.78.78-.78 2.05 0 2.83L4 21.41c.39.39.9.59 1.41.59.51 0 1.02-.2 1.41-.59l7.78-7.78 2.81-2.81c.8-.78.8-2.07 0-2.86zM5.41 20L4 18.59l7.72-7.72 1.47 1.35L5.41 20z\"/>\n",
              "  </svg>\n",
              "      </button>\n",
              "\n",
              "\n",
              "\n",
              "    <div id=\"df-41518f20-e95a-41e7-a25c-a0cdd7e9f3af\">\n",
              "      <button class=\"colab-df-quickchart\" onclick=\"quickchart('df-41518f20-e95a-41e7-a25c-a0cdd7e9f3af')\"\n",
              "              title=\"Suggest charts.\"\n",
              "              style=\"display:none;\">\n",
              "\n",
              "<svg xmlns=\"http://www.w3.org/2000/svg\" height=\"24px\"viewBox=\"0 0 24 24\"\n",
              "     width=\"24px\">\n",
              "    <g>\n",
              "        <path d=\"M19 3H5c-1.1 0-2 .9-2 2v14c0 1.1.9 2 2 2h14c1.1 0 2-.9 2-2V5c0-1.1-.9-2-2-2zM9 17H7v-7h2v7zm4 0h-2V7h2v10zm4 0h-2v-4h2v4z\"/>\n",
              "    </g>\n",
              "</svg>\n",
              "      </button>\n",
              "    </div>\n",
              "\n",
              "<style>\n",
              "  .colab-df-quickchart {\n",
              "    background-color: #E8F0FE;\n",
              "    border: none;\n",
              "    border-radius: 50%;\n",
              "    cursor: pointer;\n",
              "    display: none;\n",
              "    fill: #1967D2;\n",
              "    height: 32px;\n",
              "    padding: 0 0 0 0;\n",
              "    width: 32px;\n",
              "  }\n",
              "\n",
              "  .colab-df-quickchart:hover {\n",
              "    background-color: #E2EBFA;\n",
              "    box-shadow: 0px 1px 2px rgba(60, 64, 67, 0.3), 0px 1px 3px 1px rgba(60, 64, 67, 0.15);\n",
              "    fill: #174EA6;\n",
              "  }\n",
              "\n",
              "  [theme=dark] .colab-df-quickchart {\n",
              "    background-color: #3B4455;\n",
              "    fill: #D2E3FC;\n",
              "  }\n",
              "\n",
              "  [theme=dark] .colab-df-quickchart:hover {\n",
              "    background-color: #434B5C;\n",
              "    box-shadow: 0px 1px 3px 1px rgba(0, 0, 0, 0.15);\n",
              "    filter: drop-shadow(0px 1px 2px rgba(0, 0, 0, 0.3));\n",
              "    fill: #FFFFFF;\n",
              "  }\n",
              "</style>\n",
              "\n",
              "    <script>\n",
              "      async function quickchart(key) {\n",
              "        const containerElement = document.querySelector('#' + key);\n",
              "        const charts = await google.colab.kernel.invokeFunction(\n",
              "            'suggestCharts', [key], {});\n",
              "      }\n",
              "    </script>\n",
              "\n",
              "      <script>\n",
              "\n",
              "function displayQuickchartButton(domScope) {\n",
              "  let quickchartButtonEl =\n",
              "    domScope.querySelector('#df-41518f20-e95a-41e7-a25c-a0cdd7e9f3af button.colab-df-quickchart');\n",
              "  quickchartButtonEl.style.display =\n",
              "    google.colab.kernel.accessAllowed ? 'block' : 'none';\n",
              "}\n",
              "\n",
              "        displayQuickchartButton(document);\n",
              "      </script>\n",
              "      <style>\n",
              "    .colab-df-container {\n",
              "      display:flex;\n",
              "      flex-wrap:wrap;\n",
              "      gap: 12px;\n",
              "    }\n",
              "\n",
              "    .colab-df-convert {\n",
              "      background-color: #E8F0FE;\n",
              "      border: none;\n",
              "      border-radius: 50%;\n",
              "      cursor: pointer;\n",
              "      display: none;\n",
              "      fill: #1967D2;\n",
              "      height: 32px;\n",
              "      padding: 0 0 0 0;\n",
              "      width: 32px;\n",
              "    }\n",
              "\n",
              "    .colab-df-convert:hover {\n",
              "      background-color: #E2EBFA;\n",
              "      box-shadow: 0px 1px 2px rgba(60, 64, 67, 0.3), 0px 1px 3px 1px rgba(60, 64, 67, 0.15);\n",
              "      fill: #174EA6;\n",
              "    }\n",
              "\n",
              "    [theme=dark] .colab-df-convert {\n",
              "      background-color: #3B4455;\n",
              "      fill: #D2E3FC;\n",
              "    }\n",
              "\n",
              "    [theme=dark] .colab-df-convert:hover {\n",
              "      background-color: #434B5C;\n",
              "      box-shadow: 0px 1px 3px 1px rgba(0, 0, 0, 0.15);\n",
              "      filter: drop-shadow(0px 1px 2px rgba(0, 0, 0, 0.3));\n",
              "      fill: #FFFFFF;\n",
              "    }\n",
              "  </style>\n",
              "\n",
              "      <script>\n",
              "        const buttonEl =\n",
              "          document.querySelector('#df-d802533c-d013-41d7-a852-35c76fb4c4ee button.colab-df-convert');\n",
              "        buttonEl.style.display =\n",
              "          google.colab.kernel.accessAllowed ? 'block' : 'none';\n",
              "\n",
              "        async function convertToInteractive(key) {\n",
              "          const element = document.querySelector('#df-d802533c-d013-41d7-a852-35c76fb4c4ee');\n",
              "          const dataTable =\n",
              "            await google.colab.kernel.invokeFunction('convertToInteractive',\n",
              "                                                     [key], {});\n",
              "          if (!dataTable) return;\n",
              "\n",
              "          const docLinkHtml = 'Like what you see? Visit the ' +\n",
              "            '<a target=\"_blank\" href=https://colab.research.google.com/notebooks/data_table.ipynb>data table notebook</a>'\n",
              "            + ' to learn more about interactive tables.';\n",
              "          element.innerHTML = '';\n",
              "          dataTable['output_type'] = 'display_data';\n",
              "          await google.colab.output.renderOutput(dataTable, element);\n",
              "          const docLink = document.createElement('div');\n",
              "          docLink.innerHTML = docLinkHtml;\n",
              "          element.appendChild(docLink);\n",
              "        }\n",
              "      </script>\n",
              "    </div>\n",
              "  </div>\n"
            ]
          },
          "metadata": {},
          "execution_count": 38
        }
      ]
    }
  ]
}
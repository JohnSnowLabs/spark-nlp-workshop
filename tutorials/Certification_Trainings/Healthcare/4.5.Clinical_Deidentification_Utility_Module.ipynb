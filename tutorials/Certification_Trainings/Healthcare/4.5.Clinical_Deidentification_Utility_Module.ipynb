{
  "cells": [
    {
      "cell_type": "markdown",
      "source": [
        "![JohnSnowLabs](https://nlp.johnsnowlabs.com/assets/images/logo.png)"
      ],
      "metadata": {
        "id": "uaBopjb7IIuk"
      },
      "id": "uaBopjb7IIuk"
    },
    {
      "cell_type": "markdown",
      "source": [
        "[![Open In Colab](https://colab.research.google.com/assets/colab-badge.svg)](https://colab.research.google.com/github/JohnSnowLabs/spark-nlp-workshop/blob/master/tutorials/Certification_Trainings/Healthcare/4.5.Clinical_Deidentification_Utility_Module.ipynb)"
      ],
      "metadata": {
        "id": "bbyFtQSnIKLp"
      },
      "id": "bbyFtQSnIKLp"
    },
    {
      "cell_type": "markdown",
      "source": [
        "# Setup"
      ],
      "metadata": {
        "id": "bY2Jon7aKGDy"
      },
      "id": "bY2Jon7aKGDy"
    },
    {
      "cell_type": "code",
      "execution_count": null,
      "id": "2f228566-f761-4e7c-a1d5-871fa76a367c",
      "metadata": {
        "scrolled": true,
        "tags": [],
        "id": "2f228566-f761-4e7c-a1d5-871fa76a367c"
      },
      "outputs": [],
      "source": [
        "import json\n",
        "import os\n",
        "\n",
        "from google.colab import files\n",
        "\n",
        "license_keys = files.upload()\n",
        "\n",
        "with open(list(license_keys.keys())[0]) as f:\n",
        "    license_keys = json.load(f)\n",
        "\n",
        "# Defining license key-value pairs as local variables\n",
        "locals().update(license_keys)\n",
        "\n",
        "# Adding license key-value pairs to environment variables\n",
        "os.environ.update(license_keys)"
      ]
    },
    {
      "cell_type": "code",
      "source": [
        "# Installing pyspark and spark-nlp\n",
        "! pip install --upgrade -q pyspark==3.1.2 spark-nlp==$PUBLIC_VERSION\n",
        "\n",
        "# Installing Spark NLP Healthcare\n",
        "! pip install --upgrade -q spark-nlp-jsl==$JSL_VERSION  --extra-index-url https://pypi.johnsnowlabs.com/$SECRET\n",
        "\n",
        "# Installing Spark NLP Display Library for visualization\n",
        "! pip install --upgrade -q spark-nlp-display"
      ],
      "metadata": {
        "id": "QyF_E869SE9X"
      },
      "id": "QyF_E869SE9X",
      "execution_count": null,
      "outputs": []
    },
    {
      "cell_type": "code",
      "source": [
        "import json\n",
        "import os\n",
        "from pyspark.ml import Pipeline, PipelineModel\n",
        "from pyspark.sql import SparkSession\n",
        "from pyspark.sql import functions as F\n",
        "\n",
        "from sparknlp.annotator import *\n",
        "from sparknlp_jsl.annotator import *\n",
        "from sparknlp.base import *\n",
        "import sparknlp_jsl\n",
        "import sparknlp\n",
        "import pandas as pd\n",
        "\n",
        "import warnings\n",
        "warnings.filterwarnings('ignore')\n",
        "\n",
        "params = {\"spark.driver.memory\":\"16G\", \n",
        "          \"spark.kryoserializer.buffer.max\":\"2000M\", \n",
        "          \"spark.driver.maxResultSize\":\"2000M\"} \n",
        "\n",
        "print (\"Spark NLP Version :\", sparknlp.version())\n",
        "print (\"Spark NLP_JSL Version :\", sparknlp_jsl.version())\n",
        "\n",
        "\n",
        "spark = sparknlp_jsl.start(license_keys['SECRET'],params=params)\n",
        "\n",
        "spark"
      ],
      "metadata": {
        "colab": {
          "base_uri": "https://localhost:8080/",
          "height": 250
        },
        "id": "lkEtzMchSHnH",
        "outputId": "7ab4e6a7-47c2-4050-cfb5-f45be651f34e"
      },
      "id": "lkEtzMchSHnH",
      "execution_count": 5,
      "outputs": [
        {
          "output_type": "stream",
          "name": "stdout",
          "text": [
            "Spark NLP Version : 4.3.0\n",
            "Spark NLP_JSL Version : 4.3.0\n"
          ]
        },
        {
          "output_type": "execute_result",
          "data": {
            "text/plain": [
              "<pyspark.sql.session.SparkSession at 0x7f8f7750ac70>"
            ],
            "text/html": [
              "\n",
              "            <div>\n",
              "                <p><b>SparkSession - in-memory</b></p>\n",
              "                \n",
              "        <div>\n",
              "            <p><b>SparkContext</b></p>\n",
              "\n",
              "            <p><a href=\"http://c88edc458364:4040\">Spark UI</a></p>\n",
              "\n",
              "            <dl>\n",
              "              <dt>Version</dt>\n",
              "                <dd><code>v3.1.2</code></dd>\n",
              "              <dt>Master</dt>\n",
              "                <dd><code>local[*]</code></dd>\n",
              "              <dt>AppName</dt>\n",
              "                <dd><code>Spark NLP Licensed</code></dd>\n",
              "            </dl>\n",
              "        </div>\n",
              "        \n",
              "            </div>\n",
              "        "
            ]
          },
          "metadata": {},
          "execution_count": 5
        }
      ]
    },
    {
      "cell_type": "markdown",
      "source": [
        "# Module"
      ],
      "metadata": {
        "id": "Gp7HROWvKJAW"
      },
      "id": "Gp7HROWvKJAW"
    },
    {
      "cell_type": "markdown",
      "source": [
        "Description of Parameters: <br/>\n",
        "\n",
        "\n",
        "---\n",
        "\n",
        "\n",
        "\n",
        "---\n",
        "\n",
        "\n",
        "`custom_pipeline` : Sparknlp PipelineModel, optional\n",
        "            custom PipelineModel to be used for deidentification, by default None <br/>\n",
        "        `ner_chunk` : str, optional\n",
        "            final chunk column name of custom pipeline that will be deidentified, by default \"ner_chunk\" <br/>\n",
        "        `fields` : dict, optional\n",
        "            fields to be deidentified and their deidentification modes, by default {\"text\": \"mask\"} <br/>\n",
        "        `sentence` : str, optional\n",
        "            sentence column name of the given custom pipeline, by default \"sentence\" <br/>\n",
        "        `token` : str, optional\n",
        "            token column name of the given custom pipeline, by default \"token\" <br/>\n",
        "        `document` : str, optional\n",
        "            document column name of the given custom pipeline, by default \"document\" <br/>\n",
        "        `masking_policy` : str, optional\n",
        "            masking policy, by default \"entity_labels\" <br/>\n",
        "        `fixed_mask_length` : int, optional\n",
        "            fixed mask length, by default 4 <br/>\n",
        "        `obfuscate_date` : bool, optional\n",
        "            obfuscate date, by default True <br/>\n",
        "        `obfuscate_ref_source` : str, optional\n",
        "            obfuscate reference source, by default \"faker\" <br/>\n",
        "        `obfuscate_ref_file_path` : str, optional\n",
        "            obfuscate reference file path, by default None <br/>\n",
        "        `age_group_obfuscation` : bool, optional\n",
        "            age group obfuscation, by default False <br/>\n",
        "        `age_ranges` : list, optional\n",
        "            age ranges for obfuscation, by default [1, 4, 12, 20, 40, 60, 80] <br/>\n",
        "        `shift_days` : bool, optional\n",
        "            shift days, by default False <br/>\n",
        "        `number_of_days` : int, optional\n",
        "            number of days, by default None <br/>\n",
        "        `documentHashCoder_col_name` : str, optional\n",
        "            document hash coder column name, by default \"documentHash\" <br/>\n",
        "        `date_tag` : str, optional\n",
        "            date tag, by default \"DATE\" <br/>\n",
        "        `language` : str, optional\n",
        "            language, by default \"en\" <br/>\n",
        "        `region` : str, optional\n",
        "            region, by default \"us\" <br/>\n",
        "        `unnormalized_date` : bool, optional\n",
        "            unnormalized date, by default False <br/>\n",
        "        `unnormalized_mode` : str, optional\n",
        "            unnormalized mode, by default \"mask\" <br/>\n",
        "        `id_column_name` : str, optional\n",
        "            ID column name, by default \"id\" <br/>\n",
        "        `date_shift_column_name` : str, optional\n",
        "            date shift column name, by default \"date_shift\" <br/>\n",
        "        `separator` : str, optional\n",
        "            separator of input csv file, by default \"\\t\" <br/> \n",
        "        `input_file_path` : str, optional\n",
        "            input file path, by default None <br/>\n",
        "        `output_file_path` : str, optional\n",
        "            output file path, by default 'deidentified.csv'"
      ],
      "metadata": {
        "id": "TXG4aUNnNaiD"
      },
      "id": "TXG4aUNnNaiD"
    },
    {
      "cell_type": "markdown",
      "source": [
        "Returns\n",
        "\n",
        "\n",
        "---\n",
        "\n",
        "Spark DataFrame: Spark DataFrame with deidentified text <br/>\n",
        "csv/json file: A deidentified file."
      ],
      "metadata": {
        "id": "k1VfjOE3QILp"
      },
      "id": "k1VfjOE3QILp"
    },
    {
      "cell_type": "code",
      "execution_count": null,
      "id": "aa341709-5099-41ae-b93a-7981d3d4be20",
      "metadata": {
        "id": "aa341709-5099-41ae-b93a-7981d3d4be20"
      },
      "outputs": [],
      "source": [
        "#sample data\n",
        "text ='''\n",
        "Record date : 2093-01-13 , David Hale , M.D . , Name : Hendrickson Ora , MR # 7194334 Date : 01/13/93 . PCP : Oliveira , 25 years-old , Record date : 2079-11-09 . Cocke County Baptist Hospital , 0295 Keats Street , Phone 55-555-5555 .\n",
        "'''\n",
        "\n",
        "df= spark.createDataFrame([[text]]).toDF(\"text\")"
      ]
    },
    {
      "cell_type": "code",
      "source": [
        "df_pd= df.toPandas()\n",
        "df_pd.to_csv(\"deid_data.csv\", index=False)"
      ],
      "metadata": {
        "id": "3x88tenHPiLo"
      },
      "id": "3x88tenHPiLo",
      "execution_count": null,
      "outputs": []
    },
    {
      "cell_type": "markdown",
      "id": "c0aca490-e7b3-4c0e-b4ad-efb7d682a327",
      "metadata": {
        "id": "c0aca490-e7b3-4c0e-b4ad-efb7d682a327"
      },
      "source": [
        "# With a custom pipeline"
      ]
    },
    {
      "cell_type": "markdown",
      "source": [
        "Sample custom pipeline with `ner_deid_generic_augmented` to detect PHI entities. "
      ],
      "metadata": {
        "id": "amaNuzMdLhyV"
      },
      "id": "amaNuzMdLhyV"
    },
    {
      "cell_type": "code",
      "execution_count": null,
      "id": "69201fae-274f-4d5e-99c8-24985e5feba0",
      "metadata": {
        "scrolled": true,
        "tags": [],
        "id": "69201fae-274f-4d5e-99c8-24985e5feba0",
        "outputId": "87cb4792-bd56-48e4-fcad-c3dbd4603da0",
        "colab": {
          "base_uri": "https://localhost:8080/"
        }
      },
      "outputs": [
        {
          "output_type": "stream",
          "name": "stdout",
          "text": [
            "embeddings_clinical download started this may take some time.\n",
            "Approximate size to download 1.6 GB\n",
            "[OK!]\n",
            "ner_deid_generic_augmented download started this may take some time.\n",
            "[OK!]\n"
          ]
        }
      ],
      "source": [
        "documentAssembler = DocumentAssembler()\\\n",
        "    .setInputCol(\"text\")\\\n",
        "    .setOutputCol(\"document\")\n",
        "\n",
        "sentenceDetector = SentenceDetector()\\\n",
        "    .setInputCols([\"document\"])\\\n",
        "    .setOutputCol(\"sentence\")\n",
        "\n",
        "tokenizer = Tokenizer()\\\n",
        "    .setInputCols([\"sentence\"])\\\n",
        "    .setOutputCol(\"token\")\n",
        "\n",
        "word_embeddings = WordEmbeddingsModel.pretrained(\"embeddings_clinical\", \"en\", \"clinical/models\")\\\n",
        "    .setInputCols([\"sentence\", \"token\"])\\\n",
        "    .setOutputCol(\"embeddings\")\n",
        "\n",
        "deid_ner = MedicalNerModel.pretrained(\"ner_deid_generic_augmented\", \"en\", \"clinical/models\") \\\n",
        "    .setInputCols([\"sentence\", \"token\", \"embeddings\"]) \\\n",
        "    .setOutputCol(\"ner\")\n",
        "\n",
        "ner_converter = NerConverterInternal()\\\n",
        "    .setInputCols([\"sentence\", \"token\", \"ner\"])\\\n",
        "    .setOutputCol(\"ner_chunk\")\\\n",
        "    .setWhiteList(['NAME', 'PROFESSION', 'ID', 'AGE', 'DATE'])\n",
        "\n",
        "nlpPipeline = Pipeline(stages=[\n",
        "      documentAssembler, \n",
        "      sentenceDetector,\n",
        "      tokenizer,\n",
        "      word_embeddings,\n",
        "      deid_ner,\n",
        "      ner_converter])\n",
        "\n",
        "empty_data = spark.createDataFrame([[\"\"]]).toDF(\"text\")\n",
        "\n",
        "model= nlpPipeline.fit(empty_data)"
      ]
    },
    {
      "cell_type": "markdown",
      "source": [
        "## Default parameters"
      ],
      "metadata": {
        "id": "Xxf8EYe-MmbA"
      },
      "id": "Xxf8EYe-MmbA"
    },
    {
      "cell_type": "code",
      "source": [
        "from sparknlp_jsl import deid"
      ],
      "metadata": {
        "id": "fHRG56LRxfmO"
      },
      "id": "fHRG56LRxfmO",
      "execution_count": null,
      "outputs": []
    },
    {
      "cell_type": "code",
      "source": [
        "# we need to feed the module with an active spark session\n",
        "deid_implementor= deid(spark)"
      ],
      "metadata": {
        "id": "yK-ddxprM4oz"
      },
      "id": "yK-ddxprM4oz",
      "execution_count": null,
      "outputs": []
    },
    {
      "cell_type": "code",
      "source": [
        "res= deid_implementor.deidentify(input_file_path=\"deid_data.csv\",\n",
        "                                 output_file_path=\"deidentified.csv\", \n",
        "                                 custom_pipeline=model)"
      ],
      "metadata": {
        "colab": {
          "base_uri": "https://localhost:8080/"
        },
        "id": "qZozwnLVM4Pq",
        "outputId": "ead9b19f-aeaa-4f50-c28d-ab9cabcba934"
      },
      "id": "qZozwnLVM4Pq",
      "execution_count": null,
      "outputs": [
        {
          "output_type": "stream",
          "name": "stdout",
          "text": [
            "Deidentification process of the 'text' field has begun...\n",
            "Deidentification process of the 'text' field was completed...\n",
            "Deidentifcation successfully completed and the results saved as 'deidentified.csv' !\n"
          ]
        }
      ]
    },
    {
      "cell_type": "code",
      "source": [
        "res.show(truncate=70)"
      ],
      "metadata": {
        "colab": {
          "base_uri": "https://localhost:8080/"
        },
        "id": "v_tr4YZpMlql",
        "outputId": "60f11b79-7937-4359-b2a3-2689df0d67a9"
      },
      "id": "v_tr4YZpMlql",
      "execution_count": null,
      "outputs": [
        {
          "output_type": "stream",
          "name": "stdout",
          "text": [
            "+---+----------------------------------------------------------------------+----------------------------------------------------------------------+\n",
            "| ID|                                                                  text|                                                     text_deidentified|\n",
            "+---+----------------------------------------------------------------------+----------------------------------------------------------------------+\n",
            "|  0|                                                                     \"|                                                                     \"|\n",
            "|  1|Record date : 2093-01-13 , David Hale , M.D . , Name : Hendrickson ...|Record date : <DATE> , <NAME> , M.D . , Name : <NAME> , MR # <ID> D...|\n",
            "|  2|                                                                     \"|                                                                     \"|\n",
            "+---+----------------------------------------------------------------------+----------------------------------------------------------------------+\n",
            "\n"
          ]
        }
      ]
    },
    {
      "cell_type": "code",
      "source": [
        "#checking saved output file\n",
        "import pandas as pd\n",
        "res_data= pd.read_csv(\"deidentified.csv\")\n",
        "res_data.head()"
      ],
      "metadata": {
        "colab": {
          "base_uri": "https://localhost:8080/",
          "height": 142
        },
        "id": "FeoeISmMRFny",
        "outputId": "4038eeb2-d9a9-4503-ecf2-118ed9067838"
      },
      "id": "FeoeISmMRFny",
      "execution_count": null,
      "outputs": [
        {
          "output_type": "execute_result",
          "data": {
            "text/plain": [
              "   ID                                               text  \\\n",
              "0   0                                                  \"   \n",
              "1   1  Record date : 2093-01-13 , David Hale , M.D . ...   \n",
              "2   2                                                  \"   \n",
              "\n",
              "                                   text_deidentified  \n",
              "0                                                  \"  \n",
              "1  Record date : <DATE> , <NAME> , M.D . , Name :...  \n",
              "2                                                  \"  "
            ],
            "text/html": [
              "\n",
              "  <div id=\"df-2c01a58e-0009-441d-b898-749c9c92e5d1\">\n",
              "    <div class=\"colab-df-container\">\n",
              "      <div>\n",
              "<style scoped>\n",
              "    .dataframe tbody tr th:only-of-type {\n",
              "        vertical-align: middle;\n",
              "    }\n",
              "\n",
              "    .dataframe tbody tr th {\n",
              "        vertical-align: top;\n",
              "    }\n",
              "\n",
              "    .dataframe thead th {\n",
              "        text-align: right;\n",
              "    }\n",
              "</style>\n",
              "<table border=\"1\" class=\"dataframe\">\n",
              "  <thead>\n",
              "    <tr style=\"text-align: right;\">\n",
              "      <th></th>\n",
              "      <th>ID</th>\n",
              "      <th>text</th>\n",
              "      <th>text_deidentified</th>\n",
              "    </tr>\n",
              "  </thead>\n",
              "  <tbody>\n",
              "    <tr>\n",
              "      <th>0</th>\n",
              "      <td>0</td>\n",
              "      <td>\"</td>\n",
              "      <td>\"</td>\n",
              "    </tr>\n",
              "    <tr>\n",
              "      <th>1</th>\n",
              "      <td>1</td>\n",
              "      <td>Record date : 2093-01-13 , David Hale , M.D . ...</td>\n",
              "      <td>Record date : &lt;DATE&gt; , &lt;NAME&gt; , M.D . , Name :...</td>\n",
              "    </tr>\n",
              "    <tr>\n",
              "      <th>2</th>\n",
              "      <td>2</td>\n",
              "      <td>\"</td>\n",
              "      <td>\"</td>\n",
              "    </tr>\n",
              "  </tbody>\n",
              "</table>\n",
              "</div>\n",
              "      <button class=\"colab-df-convert\" onclick=\"convertToInteractive('df-2c01a58e-0009-441d-b898-749c9c92e5d1')\"\n",
              "              title=\"Convert this dataframe to an interactive table.\"\n",
              "              style=\"display:none;\">\n",
              "        \n",
              "  <svg xmlns=\"http://www.w3.org/2000/svg\" height=\"24px\"viewBox=\"0 0 24 24\"\n",
              "       width=\"24px\">\n",
              "    <path d=\"M0 0h24v24H0V0z\" fill=\"none\"/>\n",
              "    <path d=\"M18.56 5.44l.94 2.06.94-2.06 2.06-.94-2.06-.94-.94-2.06-.94 2.06-2.06.94zm-11 1L8.5 8.5l.94-2.06 2.06-.94-2.06-.94L8.5 2.5l-.94 2.06-2.06.94zm10 10l.94 2.06.94-2.06 2.06-.94-2.06-.94-.94-2.06-.94 2.06-2.06.94z\"/><path d=\"M17.41 7.96l-1.37-1.37c-.4-.4-.92-.59-1.43-.59-.52 0-1.04.2-1.43.59L10.3 9.45l-7.72 7.72c-.78.78-.78 2.05 0 2.83L4 21.41c.39.39.9.59 1.41.59.51 0 1.02-.2 1.41-.59l7.78-7.78 2.81-2.81c.8-.78.8-2.07 0-2.86zM5.41 20L4 18.59l7.72-7.72 1.47 1.35L5.41 20z\"/>\n",
              "  </svg>\n",
              "      </button>\n",
              "      \n",
              "  <style>\n",
              "    .colab-df-container {\n",
              "      display:flex;\n",
              "      flex-wrap:wrap;\n",
              "      gap: 12px;\n",
              "    }\n",
              "\n",
              "    .colab-df-convert {\n",
              "      background-color: #E8F0FE;\n",
              "      border: none;\n",
              "      border-radius: 50%;\n",
              "      cursor: pointer;\n",
              "      display: none;\n",
              "      fill: #1967D2;\n",
              "      height: 32px;\n",
              "      padding: 0 0 0 0;\n",
              "      width: 32px;\n",
              "    }\n",
              "\n",
              "    .colab-df-convert:hover {\n",
              "      background-color: #E2EBFA;\n",
              "      box-shadow: 0px 1px 2px rgba(60, 64, 67, 0.3), 0px 1px 3px 1px rgba(60, 64, 67, 0.15);\n",
              "      fill: #174EA6;\n",
              "    }\n",
              "\n",
              "    [theme=dark] .colab-df-convert {\n",
              "      background-color: #3B4455;\n",
              "      fill: #D2E3FC;\n",
              "    }\n",
              "\n",
              "    [theme=dark] .colab-df-convert:hover {\n",
              "      background-color: #434B5C;\n",
              "      box-shadow: 0px 1px 3px 1px rgba(0, 0, 0, 0.15);\n",
              "      filter: drop-shadow(0px 1px 2px rgba(0, 0, 0, 0.3));\n",
              "      fill: #FFFFFF;\n",
              "    }\n",
              "  </style>\n",
              "\n",
              "      <script>\n",
              "        const buttonEl =\n",
              "          document.querySelector('#df-2c01a58e-0009-441d-b898-749c9c92e5d1 button.colab-df-convert');\n",
              "        buttonEl.style.display =\n",
              "          google.colab.kernel.accessAllowed ? 'block' : 'none';\n",
              "\n",
              "        async function convertToInteractive(key) {\n",
              "          const element = document.querySelector('#df-2c01a58e-0009-441d-b898-749c9c92e5d1');\n",
              "          const dataTable =\n",
              "            await google.colab.kernel.invokeFunction('convertToInteractive',\n",
              "                                                     [key], {});\n",
              "          if (!dataTable) return;\n",
              "\n",
              "          const docLinkHtml = 'Like what you see? Visit the ' +\n",
              "            '<a target=\"_blank\" href=https://colab.research.google.com/notebooks/data_table.ipynb>data table notebook</a>'\n",
              "            + ' to learn more about interactive tables.';\n",
              "          element.innerHTML = '';\n",
              "          dataTable['output_type'] = 'display_data';\n",
              "          await google.colab.output.renderOutput(dataTable, element);\n",
              "          const docLink = document.createElement('div');\n",
              "          docLink.innerHTML = docLinkHtml;\n",
              "          element.appendChild(docLink);\n",
              "        }\n",
              "      </script>\n",
              "    </div>\n",
              "  </div>\n",
              "  "
            ]
          },
          "metadata": {},
          "execution_count": 22
        }
      ]
    },
    {
      "cell_type": "markdown",
      "id": "6f496f91-9d58-4b2d-83dd-ed0de657460c",
      "metadata": {
        "id": "6f496f91-9d58-4b2d-83dd-ed0de657460c"
      },
      "source": [
        "## Mask options \n"
      ]
    },
    {
      "cell_type": "markdown",
      "source": [
        "### same_length_chars"
      ],
      "metadata": {
        "id": "PiV_Sdg0Qq1M"
      },
      "id": "PiV_Sdg0Qq1M"
    },
    {
      "cell_type": "code",
      "execution_count": null,
      "id": "ec551f0f-c4fc-4087-b83b-683070017fe1",
      "metadata": {
        "scrolled": true,
        "tags": [],
        "id": "ec551f0f-c4fc-4087-b83b-683070017fe1",
        "outputId": "79fd220a-b1cd-4173-fd12-07ec2cf88dff",
        "colab": {
          "base_uri": "https://localhost:8080/"
        }
      },
      "outputs": [
        {
          "output_type": "stream",
          "name": "stdout",
          "text": [
            "Deidentification process of the 'text' field has begun...\n",
            "Deidentification process of the 'text' field was completed...\n",
            "Deidentifcation successfully completed and the results saved as 'deidentified.csv' !\n"
          ]
        }
      ],
      "source": [
        "res= deid_implementor.deidentify(input_file_path=\"deid_data.csv\",\n",
        "                                output_file_path=\"deidentified.csv\",\n",
        "                                custom_pipeline=model,\n",
        "                                fields={\"text\": \"mask\"}, masking_policy=\"same_length_chars\")"
      ]
    },
    {
      "cell_type": "code",
      "execution_count": null,
      "id": "105724c1-4803-473a-9fcd-83ef3460fd96",
      "metadata": {
        "id": "105724c1-4803-473a-9fcd-83ef3460fd96",
        "outputId": "77569a83-e350-44c2-d0f8-4e9052fc989d",
        "colab": {
          "base_uri": "https://localhost:8080/"
        }
      },
      "outputs": [
        {
          "output_type": "stream",
          "name": "stdout",
          "text": [
            "+---+----------------------------------------------------------------------+----------------------------------------------------------------------+\n",
            "| ID|                                                                  text|                                                     text_deidentified|\n",
            "+---+----------------------------------------------------------------------+----------------------------------------------------------------------+\n",
            "|  0|                                                                     \"|                                                                     \"|\n",
            "|  1|Record date : 2093-01-13 , David Hale , M.D . , Name : Hendrickson ...|Record date : [********] , [********] , M.D . , Name : [***********...|\n",
            "|  2|                                                                     \"|                                                                     \"|\n",
            "+---+----------------------------------------------------------------------+----------------------------------------------------------------------+\n",
            "\n"
          ]
        }
      ],
      "source": [
        "res.show(truncate=70)"
      ]
    },
    {
      "cell_type": "markdown",
      "id": "b8324fef-246d-4731-be94-fbe818bcc3de",
      "metadata": {
        "id": "b8324fef-246d-4731-be94-fbe818bcc3de"
      },
      "source": [
        "### fixed_length_chars"
      ]
    },
    {
      "cell_type": "code",
      "execution_count": null,
      "id": "3e21fe0b-fa7d-42d6-94c0-fc437583cae5",
      "metadata": {
        "id": "3e21fe0b-fa7d-42d6-94c0-fc437583cae5",
        "outputId": "691f49b0-3e20-483b-b362-c5e01c2a3f37",
        "colab": {
          "base_uri": "https://localhost:8080/"
        }
      },
      "outputs": [
        {
          "output_type": "stream",
          "name": "stdout",
          "text": [
            "Deidentification process of the 'text' field has begun...\n",
            "Deidentification process of the 'text' field was completed...\n",
            "Deidentifcation successfully completed and the results saved as 'deidentified.csv' !\n"
          ]
        }
      ],
      "source": [
        "res= deid_implementor.deidentify(input_file_path=\"deid_data.csv\",\n",
        "                                output_file_path=\"deidentified.csv\",\n",
        "                                custom_pipeline=model,\n",
        "                                fields={\"text\": \"mask\"}, masking_policy=\"fixed_length_chars\", fixed_mask_length=2)"
      ]
    },
    {
      "cell_type": "code",
      "execution_count": null,
      "id": "772513fd-01a7-4c6e-afb1-1863ac863636",
      "metadata": {
        "id": "772513fd-01a7-4c6e-afb1-1863ac863636",
        "outputId": "43f1b12e-bdd4-46e7-8727-bf6caacef419",
        "colab": {
          "base_uri": "https://localhost:8080/"
        }
      },
      "outputs": [
        {
          "output_type": "stream",
          "name": "stdout",
          "text": [
            "+---+----------------------------------------------------------------------+----------------------------------------------------------------------+\n",
            "| ID|                                                                  text|                                                     text_deidentified|\n",
            "+---+----------------------------------------------------------------------+----------------------------------------------------------------------+\n",
            "|  0|                                                                     \"|                                                                     \"|\n",
            "|  1|Record date : 2093-01-13 , David Hale , M.D . , Name : Hendrickson ...|Record date : ** , ** , M.D . , Name : ** , MR # ** Date : ** . PCP...|\n",
            "|  2|                                                                     \"|                                                                     \"|\n",
            "+---+----------------------------------------------------------------------+----------------------------------------------------------------------+\n",
            "\n"
          ]
        }
      ],
      "source": [
        "res.show(truncate=70)"
      ]
    },
    {
      "cell_type": "markdown",
      "id": "c686e635-6b1c-470d-8cad-50a93ad2a5a0",
      "metadata": {
        "id": "c686e635-6b1c-470d-8cad-50a93ad2a5a0"
      },
      "source": [
        "### masking multiple columns"
      ]
    },
    {
      "cell_type": "code",
      "execution_count": null,
      "id": "3e5f5e7b-0c63-451d-9348-d1c6b2572c43",
      "metadata": {
        "id": "3e5f5e7b-0c63-451d-9348-d1c6b2572c43",
        "outputId": "b5c9e6a9-0563-4c1a-8c1d-302f8d6ef8fd",
        "colab": {
          "base_uri": "https://localhost:8080/",
          "height": 80
        }
      },
      "outputs": [
        {
          "output_type": "execute_result",
          "data": {
            "text/plain": [
              "                                                text  \\\n",
              "0  Record date : 2093-01-13 , David Hale , M.D . ...   \n",
              "\n",
              "                                              text_1  \n",
              "0  Date : 01/13/93 PCP : Oliveira , 25 years-old ...  "
            ],
            "text/html": [
              "\n",
              "  <div id=\"df-f8707a1c-fdcc-4d3e-b67f-1677067359c1\">\n",
              "    <div class=\"colab-df-container\">\n",
              "      <div>\n",
              "<style scoped>\n",
              "    .dataframe tbody tr th:only-of-type {\n",
              "        vertical-align: middle;\n",
              "    }\n",
              "\n",
              "    .dataframe tbody tr th {\n",
              "        vertical-align: top;\n",
              "    }\n",
              "\n",
              "    .dataframe thead th {\n",
              "        text-align: right;\n",
              "    }\n",
              "</style>\n",
              "<table border=\"1\" class=\"dataframe\">\n",
              "  <thead>\n",
              "    <tr style=\"text-align: right;\">\n",
              "      <th></th>\n",
              "      <th>text</th>\n",
              "      <th>text_1</th>\n",
              "    </tr>\n",
              "  </thead>\n",
              "  <tbody>\n",
              "    <tr>\n",
              "      <th>0</th>\n",
              "      <td>Record date : 2093-01-13 , David Hale , M.D . ...</td>\n",
              "      <td>Date : 01/13/93 PCP : Oliveira , 25 years-old ...</td>\n",
              "    </tr>\n",
              "  </tbody>\n",
              "</table>\n",
              "</div>\n",
              "      <button class=\"colab-df-convert\" onclick=\"convertToInteractive('df-f8707a1c-fdcc-4d3e-b67f-1677067359c1')\"\n",
              "              title=\"Convert this dataframe to an interactive table.\"\n",
              "              style=\"display:none;\">\n",
              "        \n",
              "  <svg xmlns=\"http://www.w3.org/2000/svg\" height=\"24px\"viewBox=\"0 0 24 24\"\n",
              "       width=\"24px\">\n",
              "    <path d=\"M0 0h24v24H0V0z\" fill=\"none\"/>\n",
              "    <path d=\"M18.56 5.44l.94 2.06.94-2.06 2.06-.94-2.06-.94-.94-2.06-.94 2.06-2.06.94zm-11 1L8.5 8.5l.94-2.06 2.06-.94-2.06-.94L8.5 2.5l-.94 2.06-2.06.94zm10 10l.94 2.06.94-2.06 2.06-.94-2.06-.94-.94-2.06-.94 2.06-2.06.94z\"/><path d=\"M17.41 7.96l-1.37-1.37c-.4-.4-.92-.59-1.43-.59-.52 0-1.04.2-1.43.59L10.3 9.45l-7.72 7.72c-.78.78-.78 2.05 0 2.83L4 21.41c.39.39.9.59 1.41.59.51 0 1.02-.2 1.41-.59l7.78-7.78 2.81-2.81c.8-.78.8-2.07 0-2.86zM5.41 20L4 18.59l7.72-7.72 1.47 1.35L5.41 20z\"/>\n",
              "  </svg>\n",
              "      </button>\n",
              "      \n",
              "  <style>\n",
              "    .colab-df-container {\n",
              "      display:flex;\n",
              "      flex-wrap:wrap;\n",
              "      gap: 12px;\n",
              "    }\n",
              "\n",
              "    .colab-df-convert {\n",
              "      background-color: #E8F0FE;\n",
              "      border: none;\n",
              "      border-radius: 50%;\n",
              "      cursor: pointer;\n",
              "      display: none;\n",
              "      fill: #1967D2;\n",
              "      height: 32px;\n",
              "      padding: 0 0 0 0;\n",
              "      width: 32px;\n",
              "    }\n",
              "\n",
              "    .colab-df-convert:hover {\n",
              "      background-color: #E2EBFA;\n",
              "      box-shadow: 0px 1px 2px rgba(60, 64, 67, 0.3), 0px 1px 3px 1px rgba(60, 64, 67, 0.15);\n",
              "      fill: #174EA6;\n",
              "    }\n",
              "\n",
              "    [theme=dark] .colab-df-convert {\n",
              "      background-color: #3B4455;\n",
              "      fill: #D2E3FC;\n",
              "    }\n",
              "\n",
              "    [theme=dark] .colab-df-convert:hover {\n",
              "      background-color: #434B5C;\n",
              "      box-shadow: 0px 1px 3px 1px rgba(0, 0, 0, 0.15);\n",
              "      filter: drop-shadow(0px 1px 2px rgba(0, 0, 0, 0.3));\n",
              "      fill: #FFFFFF;\n",
              "    }\n",
              "  </style>\n",
              "\n",
              "      <script>\n",
              "        const buttonEl =\n",
              "          document.querySelector('#df-f8707a1c-fdcc-4d3e-b67f-1677067359c1 button.colab-df-convert');\n",
              "        buttonEl.style.display =\n",
              "          google.colab.kernel.accessAllowed ? 'block' : 'none';\n",
              "\n",
              "        async function convertToInteractive(key) {\n",
              "          const element = document.querySelector('#df-f8707a1c-fdcc-4d3e-b67f-1677067359c1');\n",
              "          const dataTable =\n",
              "            await google.colab.kernel.invokeFunction('convertToInteractive',\n",
              "                                                     [key], {});\n",
              "          if (!dataTable) return;\n",
              "\n",
              "          const docLinkHtml = 'Like what you see? Visit the ' +\n",
              "            '<a target=\"_blank\" href=https://colab.research.google.com/notebooks/data_table.ipynb>data table notebook</a>'\n",
              "            + ' to learn more about interactive tables.';\n",
              "          element.innerHTML = '';\n",
              "          dataTable['output_type'] = 'display_data';\n",
              "          await google.colab.output.renderOutput(dataTable, element);\n",
              "          const docLink = document.createElement('div');\n",
              "          docLink.innerHTML = docLinkHtml;\n",
              "          element.appendChild(docLink);\n",
              "        }\n",
              "      </script>\n",
              "    </div>\n",
              "  </div>\n",
              "  "
            ]
          },
          "metadata": {},
          "execution_count": 34
        }
      ],
      "source": [
        "text= \"\"\"Record date : 2093-01-13 , David Hale , M.D . , Name : Hendrickson , Ora MR .\"\"\"\n",
        "text_1= \"\"\"Date : 01/13/93 PCP : Oliveira , 25 years-old , Record date : 2079-11-09 \"\"\"\n",
        "df= spark.createDataFrame([[text, text_1]]).toDF(\"text\", \"text_1\")\n",
        "\n",
        "df_pd= df.toPandas()\n",
        "df_pd.to_csv(\"deid_multiple_data.csv\", index=False)\n",
        "df_pd.head()"
      ]
    },
    {
      "cell_type": "code",
      "execution_count": null,
      "id": "d85e001f-400b-4b79-9d52-5926f9aace36",
      "metadata": {
        "id": "d85e001f-400b-4b79-9d52-5926f9aace36",
        "outputId": "3e275dcd-4377-4c85-b90b-46a726e1f77b",
        "colab": {
          "base_uri": "https://localhost:8080/"
        }
      },
      "outputs": [
        {
          "output_type": "stream",
          "name": "stdout",
          "text": [
            "Deidentification process of the 'text' field has begun...\n",
            "Deidentification process of the 'text' field was completed...\n",
            "Deidentification process of the 'text_1' field has begun...\n",
            "Deidentification process of the 'text_1' field was completed...\n",
            "Deidentifcation successfully completed and the results saved as 'deidentified.csv' !\n"
          ]
        }
      ],
      "source": [
        "res= deid_implementor.deidentify(input_file_path=\"deid_multiple_data.csv\",\n",
        "                                output_file_path=\"deidentified.csv\",\n",
        "                                custom_pipeline=model,\n",
        "                                fields={\"text\": \"mask\", \"text_1\":\"obfuscate\"}, masking_policy=\"fixed_length_chars\", \n",
        "                                fixed_mask_length=2, separator=\",\")"
      ]
    },
    {
      "cell_type": "code",
      "execution_count": null,
      "id": "a5c615cf-a5ce-49cf-8a44-65c8955dbc36",
      "metadata": {
        "id": "a5c615cf-a5ce-49cf-8a44-65c8955dbc36",
        "outputId": "88a4cfbd-086a-49a2-bd7b-c6d2330f3d72",
        "colab": {
          "base_uri": "https://localhost:8080/"
        }
      },
      "outputs": [
        {
          "output_type": "stream",
          "name": "stdout",
          "text": [
            "+---+----------------------------------------------------------------------+----------------------------------------------+----------------------------------------------------------------------+----------------------------------------------------------------------+\n",
            "| ID|                                                                  text|                             text_deidentified|                                                                text_1|                                                   text_1_deidentified|\n",
            "+---+----------------------------------------------------------------------+----------------------------------------------+----------------------------------------------------------------------+----------------------------------------------------------------------+\n",
            "|  0|Record date : 2093-01-13 , David Hale , M.D . , Name : Hendrickson ...|Record date : ** , ** , M.D . , Name : ** MR .|Date : 01/13/93 PCP : Oliveira , 25 years-old , Record date : 2079-...|Date : 10-16-1991 PCP : Alveda Castles , 26 years-old , Record date...|\n",
            "+---+----------------------------------------------------------------------+----------------------------------------------+----------------------------------------------------------------------+----------------------------------------------------------------------+\n",
            "\n"
          ]
        }
      ],
      "source": [
        "res.show(truncate=70)"
      ]
    },
    {
      "cell_type": "markdown",
      "id": "f3d4e399-0ae4-441d-bc03-2040e65f8181",
      "metadata": {
        "id": "f3d4e399-0ae4-441d-bc03-2040e65f8181"
      },
      "source": [
        "## Obfuscate Options"
      ]
    },
    {
      "cell_type": "markdown",
      "source": [
        "### obfuscate_ref_source=\"file\""
      ],
      "metadata": {
        "id": "Qr54LYqETovR"
      },
      "id": "Qr54LYqETovR"
    },
    {
      "cell_type": "code",
      "source": [
        "obs_lines = \"\"\"Marvin MARSHALL#NAME\n",
        "Hubert GROGAN#NAME\n",
        "ALTHEA COLBURN#NAME\n",
        "Kalil AMIN#NAME\n",
        "Inci FOUNTAIN#NAME\n",
        "Ekaterina Rosa#DOCTOR\n",
        "Rudiger Chao#DOCTOR\n",
        "COLLETTE KOHLER#DOCTOR\n",
        "Mufi HIGGS#DOCTOR\"\"\"\n",
        "\n",
        "\n",
        "with open ('obfuscation.txt', 'w') as f:\n",
        "  f.write(obs_lines)"
      ],
      "metadata": {
        "id": "ysKMVf2sTt-L"
      },
      "id": "ysKMVf2sTt-L",
      "execution_count": null,
      "outputs": []
    },
    {
      "cell_type": "code",
      "source": [
        "text= \"\"\"Name of the patient is Leah Shannon. \n",
        "Her pps number is 1234567. \n",
        "\"\"\"\n",
        "\n",
        "df= spark.createDataFrame([[text]]).toDF(\"text\")\n",
        "df_pd= df.toPandas()\n",
        "df_pd.to_csv(\"deid_obfs_data.csv\", index=False)"
      ],
      "metadata": {
        "id": "YF3kzLRDUQ3i"
      },
      "id": "YF3kzLRDUQ3i",
      "execution_count": null,
      "outputs": []
    },
    {
      "cell_type": "code",
      "execution_count": null,
      "id": "4fa656da-8090-4546-acc4-13c328aa8769",
      "metadata": {
        "id": "4fa656da-8090-4546-acc4-13c328aa8769",
        "outputId": "dcb7b31d-0d3d-456a-b6d8-f4014d194e14",
        "colab": {
          "base_uri": "https://localhost:8080/"
        }
      },
      "outputs": [
        {
          "output_type": "stream",
          "name": "stdout",
          "text": [
            "Deidentification process of the 'text' field has begun...\n",
            "Deidentification process of the 'text' field was completed...\n",
            "Deidentifcation successfully completed and the results saved as 'deidentified.csv' !\n"
          ]
        }
      ],
      "source": [
        "res= deid_implementor.deidentify(input_file_path=\"deid_obfs_data.csv\",\n",
        "                                output_file_path=\"deidentified.csv\",\n",
        "                                custom_pipeline=model,\n",
        "                                fields={\"text\": \"obfuscate\"}, obfuscate_ref_source=\"file\",\n",
        "                                obfuscate_ref_file_path=\"obfuscation.txt\")"
      ]
    },
    {
      "cell_type": "code",
      "execution_count": null,
      "id": "f869c051-261a-4286-acc5-019842c5be22",
      "metadata": {
        "id": "f869c051-261a-4286-acc5-019842c5be22",
        "outputId": "5414dc3f-0b53-4d8f-fafc-5b6521498b46",
        "colab": {
          "base_uri": "https://localhost:8080/"
        }
      },
      "outputs": [
        {
          "output_type": "stream",
          "name": "stdout",
          "text": [
            "+---+-------------------------------------+-------------------------------------+\n",
            "|ID |text                                 |text_deidentified                    |\n",
            "+---+-------------------------------------+-------------------------------------+\n",
            "|0  |Name of the patient is Leah Shannon. |Name of the patient is Hubert GROGAN.|\n",
            "|1  |Her pps number is 1234567.           |Her pps number is <ID>.              |\n",
            "|2  |\"                                    |\"                                    |\n",
            "+---+-------------------------------------+-------------------------------------+\n",
            "\n"
          ]
        }
      ],
      "source": [
        "res.show(truncate=False)"
      ]
    },
    {
      "cell_type": "markdown",
      "id": "b40a41d1-3472-40db-99e1-9430aa3d4fbf",
      "metadata": {
        "id": "b40a41d1-3472-40db-99e1-9430aa3d4fbf"
      },
      "source": [
        "### obfuscate_ref_source=both"
      ]
    },
    {
      "cell_type": "code",
      "execution_count": null,
      "id": "67ae99c3-5aeb-4631-8780-da489e53a70e",
      "metadata": {
        "id": "67ae99c3-5aeb-4631-8780-da489e53a70e",
        "outputId": "fc453f81-6afb-4085-ff6c-a6d6965c26e2",
        "colab": {
          "base_uri": "https://localhost:8080/"
        }
      },
      "outputs": [
        {
          "output_type": "stream",
          "name": "stdout",
          "text": [
            "Deidentification process of the 'text' field has begun...\n",
            "Deidentification process of the 'text' field was completed...\n",
            "Deidentifcation successfully completed and the results saved as 'deidentified.csv' !\n"
          ]
        }
      ],
      "source": [
        "res= deid_implementor.deidentify(input_file_path=\"deid_obfs_data.csv\",\n",
        "                                output_file_path=\"deidentified.csv\",\n",
        "                                custom_pipeline=model,\n",
        "                                fields={\"text\": \"obfuscate\"}, obfuscate_ref_source=\"both\",\n",
        "                                obfuscate_ref_file_path=\"obfuscation.txt\")"
      ]
    },
    {
      "cell_type": "code",
      "execution_count": null,
      "id": "e339d615-08a9-4507-88d3-cf712d101821",
      "metadata": {
        "id": "e339d615-08a9-4507-88d3-cf712d101821",
        "outputId": "c17afb23-4f04-4f9f-c9b4-f6b02b19a880",
        "colab": {
          "base_uri": "https://localhost:8080/"
        }
      },
      "outputs": [
        {
          "output_type": "stream",
          "name": "stdout",
          "text": [
            "+---+-------------------------------------+-------------------------------------+\n",
            "| ID|                                 text|                    text_deidentified|\n",
            "+---+-------------------------------------+-------------------------------------+\n",
            "|  0|Name of the patient is Leah Shannon. |Name of the patient is Wyvonna Boeck.|\n",
            "|  1|          Her pps number is 1234567. |          Her pps number is B1562817.|\n",
            "|  2|                                    \"|                                    \"|\n",
            "+---+-------------------------------------+-------------------------------------+\n",
            "\n"
          ]
        }
      ],
      "source": [
        "res.show(truncate=70)"
      ]
    },
    {
      "cell_type": "markdown",
      "id": "0b123c35-84ab-45be-9137-46a63e44791e",
      "metadata": {
        "id": "0b123c35-84ab-45be-9137-46a63e44791e"
      },
      "source": [
        "### obfuscate_ref_source=faker "
      ]
    },
    {
      "cell_type": "code",
      "execution_count": null,
      "id": "b9dc81bd-0f0f-41c2-b10a-8d6af8a818df",
      "metadata": {
        "id": "b9dc81bd-0f0f-41c2-b10a-8d6af8a818df",
        "outputId": "8e774a82-8646-4a36-e223-a5eb0530fc1d",
        "colab": {
          "base_uri": "https://localhost:8080/"
        }
      },
      "outputs": [
        {
          "output_type": "stream",
          "name": "stdout",
          "text": [
            "Deidentification process of the 'text' field has begun...\n",
            "Deidentification process of the 'text' field was completed...\n",
            "Deidentifcation successfully completed and the results saved as 'deidentified.csv' !\n"
          ]
        }
      ],
      "source": [
        "res= deid_implementor.deidentify(input_file_path=\"deid_data.csv\",\n",
        "                                output_file_path=\"deidentified.csv\",\n",
        "                                custom_pipeline=model, obfuscate_date=True,\n",
        "                                fields={\"text\": \"obfuscate\"})\n"
      ]
    },
    {
      "cell_type": "code",
      "execution_count": null,
      "id": "8c51740e-dc93-404b-acf7-e97ba2e9c0b0",
      "metadata": {
        "id": "8c51740e-dc93-404b-acf7-e97ba2e9c0b0",
        "outputId": "f77cfee8-e02f-4ca7-c621-07b333501ff6",
        "colab": {
          "base_uri": "https://localhost:8080/"
        }
      },
      "outputs": [
        {
          "output_type": "stream",
          "name": "stdout",
          "text": [
            "+---+----------------------------------------------------------------------+----------------------------------------------------------------------+\n",
            "| ID|                                                                  text|                                                     text_deidentified|\n",
            "+---+----------------------------------------------------------------------+----------------------------------------------------------------------+\n",
            "|  0|                                                                     \"|                                                                     \"|\n",
            "|  1|Record date : 2093-01-13 , David Hale , M.D . , Name : Hendrickson ...|Record date : 2093-02-17 , Lyndol Jain , M.D . , Name : Lesly Fly ,...|\n",
            "|  2|                                                                     \"|                                                                     \"|\n",
            "+---+----------------------------------------------------------------------+----------------------------------------------------------------------+\n",
            "\n"
          ]
        }
      ],
      "source": [
        "res.show(truncate=70)"
      ]
    },
    {
      "cell_type": "markdown",
      "id": "72da3ed7-0857-49ab-9dc2-9e3046ecd766",
      "metadata": {
        "id": "72da3ed7-0857-49ab-9dc2-9e3046ecd766"
      },
      "source": [
        "### age groups obfuscation"
      ]
    },
    {
      "cell_type": "code",
      "source": [
        "# Example data\n",
        "dates = [\n",
        "'1 year old baby',\n",
        "'4 year old kids',\n",
        "'A 15 year old female with',\n",
        "'Record date: 2093-01-13, Age: 25',\n",
        "'Patient is 45 years-old',\n",
        "'He is 65 years-old male'\n",
        "]\n",
        "from pyspark.sql.types import StringType\n",
        "df_dates = spark.createDataFrame(dates,StringType()).toDF('text')\n",
        "\n",
        "pd_df_dates= df_dates.toPandas()\n",
        "pd_df_dates.to_csv(\"deid_age_group.csv\", index=False)"
      ],
      "metadata": {
        "id": "P8Ntd_dmYXof"
      },
      "id": "P8Ntd_dmYXof",
      "execution_count": null,
      "outputs": []
    },
    {
      "cell_type": "code",
      "execution_count": null,
      "id": "5dec093a-cf1b-41e5-9e50-55b251f6adc8",
      "metadata": {
        "id": "5dec093a-cf1b-41e5-9e50-55b251f6adc8",
        "outputId": "d8468762-c910-4ed3-e3fa-80db1d458778",
        "colab": {
          "base_uri": "https://localhost:8080/"
        }
      },
      "outputs": [
        {
          "output_type": "stream",
          "name": "stdout",
          "text": [
            "Deidentification process of the 'text' field has begun...\n",
            "Deidentification process of the 'text' field was completed...\n",
            "Deidentifcation successfully completed and the results saved as 'deidentified.csv' !\n"
          ]
        }
      ],
      "source": [
        "res= deid_implementor.deidentify(input_file_path=\"deid_age_group.csv\",\n",
        "                                                output_file_path=\"deidentified.csv\",\n",
        "                                                custom_pipeline=model,\n",
        "                                                fields={\"text\": \"obfuscate\"},\n",
        "                                                age_group_obfuscation=True, age_ranges=[1, 4, 12, 20, 40, 60, 80])"
      ]
    },
    {
      "cell_type": "code",
      "execution_count": null,
      "id": "36539514-809a-4fa1-9deb-352a0ebd1ed3",
      "metadata": {
        "id": "36539514-809a-4fa1-9deb-352a0ebd1ed3",
        "outputId": "06432dad-63e8-4bc0-e539-e695fc9372d9",
        "colab": {
          "base_uri": "https://localhost:8080/"
        }
      },
      "outputs": [
        {
          "output_type": "stream",
          "name": "stdout",
          "text": [
            "+---+--------------------------------+--------------------------------+\n",
            "|ID |text                            |text_deidentified               |\n",
            "+---+--------------------------------+--------------------------------+\n",
            "|0  |1 year old baby                 |2 year old baby                 |\n",
            "|1  |4 year old kids                 |6 year old kids                 |\n",
            "|2  |A 15 year old female with       |A 17 year old female with       |\n",
            "|3  |Record date: 2093-01-13, Age: 25|Record date: 2093-01-14, Age: 38|\n",
            "|4  |Patient is 45 years-old         |Patient is 59 years-old         |\n",
            "|5  |He is 65 years-old male         |He is 60 years-old male         |\n",
            "+---+--------------------------------+--------------------------------+\n",
            "\n"
          ]
        }
      ],
      "source": [
        "res.show(truncate=False)"
      ]
    },
    {
      "cell_type": "markdown",
      "id": "88c297af-e57a-4199-ac05-0665e7f9dc78",
      "metadata": {
        "id": "88c297af-e57a-4199-ac05-0665e7f9dc78"
      },
      "source": [
        "### shifting days according to the ID column"
      ]
    },
    {
      "cell_type": "code",
      "execution_count": null,
      "id": "fe41fd52-1ec3-4cf4-a0c2-75333ec53ea2",
      "metadata": {
        "id": "fe41fd52-1ec3-4cf4-a0c2-75333ec53ea2",
        "outputId": "7d9c8efb-b684-438a-e12c-d8e0313cdc7c",
        "colab": {
          "base_uri": "https://localhost:8080/"
        }
      },
      "outputs": [
        {
          "output_type": "stream",
          "name": "stdout",
          "text": [
            "+---------+----------------------------------------+\n",
            "|patientID|text                                    |\n",
            "+---------+----------------------------------------+\n",
            "|A001     |Chris Brown was discharged on 10/02/2022|\n",
            "|A001     |Mark White was discharged on 02/28/2020 |\n",
            "|A002     |John was discharged on 03/15/2022       |\n",
            "|A002     |John Moore was discharged on 12/31/2022 |\n",
            "+---------+----------------------------------------+\n",
            "\n"
          ]
        }
      ],
      "source": [
        "import pandas as pd\n",
        "data = pd.DataFrame(\n",
        "    {'patientID' : ['A001', 'A001', 'A002', 'A002'],\n",
        "     'text' : ['Chris Brown was discharged on 10/02/2022', \n",
        "               'Mark White was discharged on 02/28/2020', \n",
        "               'John was discharged on 03/15/2022',\n",
        "               'John Moore was discharged on 12/31/2022'\n",
        "              ]\n",
        "    }\n",
        ")\n",
        "\n",
        "my_input_df = spark.createDataFrame(data)\n",
        "\n",
        "my_input_df.show(truncate = False)"
      ]
    },
    {
      "cell_type": "code",
      "execution_count": null,
      "id": "cf4af6b3-82e9-4194-b04c-a2b9f81b7cfe",
      "metadata": {
        "id": "cf4af6b3-82e9-4194-b04c-a2b9f81b7cfe"
      },
      "outputs": [],
      "source": [
        "df_pd= my_input_df.toPandas()\n",
        "df_pd.to_csv(\"deid_id_data.csv\", index=False)"
      ]
    },
    {
      "cell_type": "markdown",
      "source": [
        "Custom pipeline with `DocumentHashCoder()`. "
      ],
      "metadata": {
        "id": "W4zBHBsuZT1I"
      },
      "id": "W4zBHBsuZT1I"
    },
    {
      "cell_type": "code",
      "execution_count": null,
      "id": "bafbafc6-fec9-47f2-9184-b4a0c55918b3",
      "metadata": {
        "scrolled": true,
        "tags": [],
        "id": "bafbafc6-fec9-47f2-9184-b4a0c55918b3",
        "outputId": "d863ac7d-1aa8-47e4-847c-15c44a49a576",
        "colab": {
          "base_uri": "https://localhost:8080/"
        }
      },
      "outputs": [
        {
          "output_type": "stream",
          "name": "stdout",
          "text": [
            "embeddings_clinical download started this may take some time.\n",
            "Approximate size to download 1.6 GB\n",
            "[OK!]\n",
            "ner_deid_subentity_augmented download started this may take some time.\n",
            "[OK!]\n"
          ]
        }
      ],
      "source": [
        "documentAssembler = DocumentAssembler()\\\n",
        "    .setInputCol(\"text\")\\\n",
        "    .setOutputCol(\"document\")\n",
        "\n",
        "documentHasher = DocumentHashCoder()\\\n",
        "    .setInputCols(\"document\")\\\n",
        "    .setOutputCol(\"document2\")\\\n",
        "    .setPatientIdColumn(\"patientID\")\\\n",
        "    .setRangeDays(100)\\\n",
        "    .setNewDateShift(\"shift_days\")\\\n",
        "    .setSeed(100)\n",
        "\n",
        "tokenizer = Tokenizer()\\\n",
        "    .setInputCols([\"document2\"])\\\n",
        "    .setOutputCol(\"token\")\n",
        "\n",
        "embeddings = WordEmbeddingsModel.pretrained(\"embeddings_clinical\", \"en\", \"clinical/models\")\\\n",
        "    .setInputCols([\"document2\", \"token\"])\\\n",
        "    .setOutputCol(\"word_embeddings\")\n",
        "\n",
        "clinical_ner = MedicalNerModel\\\n",
        "    .pretrained(\"ner_deid_subentity_augmented\", \"en\", \"clinical/models\")\\\n",
        "    .setInputCols([\"document2\",\"token\", \"word_embeddings\"])\\\n",
        "    .setOutputCol(\"ner\")\n",
        "\n",
        "ner_converter = NerConverterInternal()\\\n",
        "    .setInputCols([\"document2\", \"token\", \"ner\"])\\\n",
        "    .setOutputCol(\"ner_chunk\")\n",
        "\n",
        "    \n",
        "nlpPipeline = Pipeline().setStages([\n",
        "    documentAssembler,\n",
        "    documentHasher,\n",
        "    tokenizer,\n",
        "    embeddings,\n",
        "    clinical_ner,\n",
        "    ner_converter])\n",
        "\n",
        "empty_data = spark.createDataFrame([[\"\", \"\"]]).toDF(\"text\", \"patientID\")\n",
        "\n",
        "pipeline_model = nlpPipeline.fit(empty_data)"
      ]
    },
    {
      "cell_type": "code",
      "execution_count": null,
      "id": "477aca34-b392-4dae-946a-4e59e21c6240",
      "metadata": {
        "scrolled": true,
        "tags": [],
        "id": "477aca34-b392-4dae-946a-4e59e21c6240",
        "outputId": "d79bd490-fd1e-437b-c7ef-e4d7ba5128ff",
        "colab": {
          "base_uri": "https://localhost:8080/"
        }
      },
      "outputs": [
        {
          "output_type": "stream",
          "name": "stdout",
          "text": [
            "Deidentification process of the 'text' field has begun...\n",
            "Deidentification process of the 'text' field was completed...\n",
            "Deidentifcation successfully completed and the results saved as 'deidentified.csv' !\n"
          ]
        }
      ],
      "source": [
        "res= deid_implementor.deidentify(input_file_path=\"deid_id_data.csv\",\n",
        "                                                output_file_path=\"deidentified.csv\",\n",
        "                                                custom_pipeline=pipeline_model,\n",
        "                                                fields={\"text\": \"obfuscate\"},\n",
        "                                                shift_days=True,\n",
        "                                                obfuscate_date=True, \n",
        "                                                ner_chunk=\"ner_chunk\",\n",
        "                                                token=\"token\",\n",
        "                                                documentHashCoder_col_name=\"document2\",\n",
        "                                                separator=\",\",\n",
        "                                                unnormalized_date=False\n",
        "                                                )"
      ]
    },
    {
      "cell_type": "code",
      "execution_count": null,
      "id": "506b4f84-972e-4efb-8ecc-963017ba1a5a",
      "metadata": {
        "id": "506b4f84-972e-4efb-8ecc-963017ba1a5a",
        "outputId": "9b124b8c-3944-477a-8d31-0572f86c2370",
        "colab": {
          "base_uri": "https://localhost:8080/"
        }
      },
      "outputs": [
        {
          "output_type": "stream",
          "name": "stdout",
          "text": [
            "+---+----------------------------------------+-------------------------------------------+\n",
            "|ID |text                                    |text_deidentified                          |\n",
            "+---+----------------------------------------+-------------------------------------------+\n",
            "|0  |Chris Brown was discharged on 10/02/2022|Renna Maillard was discharged on 09/27/2022|\n",
            "|1  |Mark White was discharged on 02/28/2020 |Arch Macleod was discharged on 02/23/2020  |\n",
            "|2  |John was discharged on 03/15/2022       |Jolinda Serum was discharged on 04/13/2022 |\n",
            "|3  |John Moore was discharged on 12/31/2022 |Erika Billet was discharged on 01/29/2023  |\n",
            "+---+----------------------------------------+-------------------------------------------+\n",
            "\n"
          ]
        }
      ],
      "source": [
        "res.show(truncate=False)"
      ]
    },
    {
      "cell_type": "markdown",
      "id": "368b319b-6a86-4e8b-8ecf-2738f7fa1b94",
      "metadata": {
        "id": "368b319b-6a86-4e8b-8ecf-2738f7fa1b94"
      },
      "source": [
        "### shifting days according to specified values"
      ]
    },
    {
      "cell_type": "code",
      "execution_count": null,
      "id": "192051fa-e915-4cd2-8ce3-e65e9c0f23e7",
      "metadata": {
        "id": "192051fa-e915-4cd2-8ce3-e65e9c0f23e7",
        "outputId": "cb79cbb8-9c83-4791-901b-13ba4de0998d",
        "colab": {
          "base_uri": "https://localhost:8080/"
        }
      },
      "outputs": [
        {
          "output_type": "stream",
          "name": "stdout",
          "text": [
            "+---------+----------------------------------------+---------+\n",
            "|patientID|text                                    |dateshift|\n",
            "+---------+----------------------------------------+---------+\n",
            "|A001     |Chris Brown was discharged on 10/02/2022|10       |\n",
            "|A002     |Mark White was discharged on 03/01/2020 |-2       |\n",
            "|A003     |John was discharged on 03/15/2022       |30       |\n",
            "|A004     |John Moore was discharged on 12/31/2022 |-8       |\n",
            "+---------+----------------------------------------+---------+\n",
            "\n"
          ]
        }
      ],
      "source": [
        "data = pd.DataFrame(\n",
        "    {'patientID' : ['A001', 'A002', 'A003', 'A004'],\n",
        "     'text' : ['Chris Brown was discharged on 10/02/2022', \n",
        "               'Mark White was discharged on 03/01/2020', \n",
        "               'John was discharged on 03/15/2022',\n",
        "               'John Moore was discharged on 12/31/2022'\n",
        "              ],\n",
        "     'dateshift' : ['10', '-2', '30', '-8']\n",
        "    }\n",
        ")\n",
        "\n",
        "my_input_df = spark.createDataFrame(data)\n",
        "\n",
        "my_input_df.show(truncate=False)"
      ]
    },
    {
      "cell_type": "code",
      "execution_count": null,
      "id": "571108db-7c92-477a-9dc2-78b56fb147d7",
      "metadata": {
        "id": "571108db-7c92-477a-9dc2-78b56fb147d7"
      },
      "outputs": [],
      "source": [
        "df_pd= my_input_df.toPandas()\n",
        "df_pd.to_csv(\"deid_specific_data.csv\", index=False)"
      ]
    },
    {
      "cell_type": "code",
      "execution_count": null,
      "id": "56fddf76-6c5c-48a6-b2b3-da2a7636d841",
      "metadata": {
        "scrolled": true,
        "tags": [],
        "id": "56fddf76-6c5c-48a6-b2b3-da2a7636d841",
        "outputId": "015075b2-b26a-4db8-b87c-7604446560a3",
        "colab": {
          "base_uri": "https://localhost:8080/"
        }
      },
      "outputs": [
        {
          "output_type": "stream",
          "name": "stdout",
          "text": [
            "embeddings_clinical download started this may take some time.\n",
            "Approximate size to download 1.6 GB\n",
            "[OK!]\n",
            "ner_deid_subentity_augmented download started this may take some time.\n",
            "[OK!]\n"
          ]
        }
      ],
      "source": [
        "documentAssembler = DocumentAssembler()\\\n",
        "    .setInputCol(\"text\")\\\n",
        "    .setOutputCol(\"document\")\n",
        "\n",
        "documentHasher = DocumentHashCoder()\\\n",
        "    .setInputCols(\"document\")\\\n",
        "    .setOutputCol(\"document2\")\\\n",
        "    .setDateShiftColumn(\"dateshift\")\\\n",
        "\n",
        "tokenizer = Tokenizer()\\\n",
        "    .setInputCols([\"document2\"])\\\n",
        "    .setOutputCol(\"token\")\n",
        "\n",
        "embeddings = WordEmbeddingsModel.pretrained(\"embeddings_clinical\", \"en\", \"clinical/models\")\\\n",
        "    .setInputCols([\"document2\", \"token\"])\\\n",
        "    .setOutputCol(\"word_embeddings\")\n",
        "\n",
        "clinical_ner = MedicalNerModel\\\n",
        "    .pretrained(\"ner_deid_subentity_augmented\", \"en\", \"clinical/models\")\\\n",
        "    .setInputCols([\"document2\",\"token\", \"word_embeddings\"])\\\n",
        "    .setOutputCol(\"ner\")\n",
        "\n",
        "ner_converter = NerConverterInternal()\\\n",
        "    .setInputCols([\"document2\", \"token\", \"ner\"])\\\n",
        "    .setOutputCol(\"ner_chunk\")\n",
        "\n",
        "nlpPipeline = Pipeline().setStages([\n",
        "    documentAssembler,\n",
        "    documentHasher,\n",
        "    tokenizer,\n",
        "    embeddings,\n",
        "    clinical_ner,\n",
        "    ner_converter\n",
        "    \n",
        "])\n",
        "\n",
        "empty_data = spark.createDataFrame([[\"\", \"\", \"\"]]).toDF(\"patientID\",\"text\", \"dateshift\")\n",
        "\n",
        "pipeline_col_model = nlpPipeline.fit(empty_data)"
      ]
    },
    {
      "cell_type": "code",
      "execution_count": null,
      "id": "a604518f-8149-46ea-8a1d-2d6cbc92a74e",
      "metadata": {
        "scrolled": true,
        "tags": [],
        "id": "a604518f-8149-46ea-8a1d-2d6cbc92a74e",
        "outputId": "577e7a6d-6530-470c-e38e-c5454cfe5050",
        "colab": {
          "base_uri": "https://localhost:8080/"
        }
      },
      "outputs": [
        {
          "output_type": "stream",
          "name": "stdout",
          "text": [
            "Deidentification process of the 'text' field has begun...\n",
            "Deidentification process of the 'text' field was completed...\n",
            "Deidentifcation successfully completed and the results saved as 'deidentified.csv' !\n"
          ]
        }
      ],
      "source": [
        "res= deid_implementor.deidentify(input_file_path=\"deid_specific_data.csv\",\n",
        "                                                separator=\",\",\n",
        "                                                output_file_path=\"deidentified.csv\",\n",
        "                                                custom_pipeline=pipeline_col_model,\n",
        "                                                fields={\"text\": \"obfuscate\"},\n",
        "                                                shift_days=True,\n",
        "                                                obfuscate_date=True, \n",
        "                                                ner_chunk=\"ner_chunk\",\n",
        "                                                token=\"token\",\n",
        "                                                documentHashCoder_col_name=\"document2\")"
      ]
    },
    {
      "cell_type": "code",
      "execution_count": null,
      "id": "32fe94b9-12fb-4a16-ba20-090a827e3c58",
      "metadata": {
        "id": "32fe94b9-12fb-4a16-ba20-090a827e3c58",
        "outputId": "8186f6eb-1b65-450f-a6a9-c6266c9b9def",
        "colab": {
          "base_uri": "https://localhost:8080/"
        }
      },
      "outputs": [
        {
          "output_type": "stream",
          "name": "stdout",
          "text": [
            "+---+----------------------------------------+--------------------------------------------+\n",
            "|ID |text                                    |text_deidentified                           |\n",
            "+---+----------------------------------------+--------------------------------------------+\n",
            "|0  |Chris Brown was discharged on 10/02/2022|Lera Holm was discharged on 10/12/2022      |\n",
            "|1  |Mark White was discharged on 03/01/2020 |Erie Greet was discharged on 02/28/2020     |\n",
            "|2  |John was discharged on 03/15/2022       |Jerilyn Patrick was discharged on 04/14/2022|\n",
            "|3  |John Moore was discharged on 12/31/2022 |Ricke Amabile was discharged on 12/23/2022  |\n",
            "+---+----------------------------------------+--------------------------------------------+\n",
            "\n"
          ]
        }
      ],
      "source": [
        "res.show(truncate=False)"
      ]
    },
    {
      "cell_type": "markdown",
      "id": "3df91aeb-681f-468e-ac67-67020093959e",
      "metadata": {
        "id": "3df91aeb-681f-468e-ac67-67020093959e"
      },
      "source": [
        "### unnormalized date formats"
      ]
    },
    {
      "cell_type": "code",
      "execution_count": null,
      "id": "12edc84b-f9e7-4bc9-b92f-b8785f84d012",
      "metadata": {
        "id": "12edc84b-f9e7-4bc9-b92f-b8785f84d012",
        "outputId": "a62b40d8-b456-4d99-87d8-62a62e18fcdb",
        "colab": {
          "base_uri": "https://localhost:8080/"
        }
      },
      "outputs": [
        {
          "output_type": "stream",
          "name": "stdout",
          "text": [
            "+---------+----------------------------------------+---------+\n",
            "|patientID|text                                    |dateshift|\n",
            "+---------+----------------------------------------+---------+\n",
            "|A001     |Chris Brown was discharged on 10/02/2022|-5       |\n",
            "|A001     |Mark White was discharged on 02/28/2020 |-2       |\n",
            "|A002     |John was discharged on 03Apr2022        |10       |\n",
            "|A002     |John Moore was discharged on 12/31/2022 |20       |\n",
            "+---------+----------------------------------------+---------+\n",
            "\n"
          ]
        }
      ],
      "source": [
        "import pandas as pd\n",
        "\n",
        "data = pd.DataFrame(\n",
        "    {'patientID' : ['A001', 'A001', 'A002', 'A002'],\n",
        "     'text' : ['Chris Brown was discharged on 10/02/2022', \n",
        "               'Mark White was discharged on 02/28/2020', \n",
        "               'John was discharged on 03Apr2022',          # check this\n",
        "               'John Moore was discharged on 12/31/2022'\n",
        "              ],\n",
        "     'dateshift' : ['-5', '-2', '10', '20']\n",
        "    }\n",
        ")\n",
        "\n",
        "\n",
        "my_input_df = spark.createDataFrame(data)\n",
        "\n",
        "my_input_df.show(truncate=False)"
      ]
    },
    {
      "cell_type": "code",
      "execution_count": null,
      "id": "a186c14e-ce61-4f7e-a09d-5f8a46eb41e7",
      "metadata": {
        "id": "a186c14e-ce61-4f7e-a09d-5f8a46eb41e7"
      },
      "outputs": [],
      "source": [
        "df_pd= my_input_df.toPandas()\n",
        "df_pd.to_csv(\"deid_unnormalized_data.csv\", index=False)"
      ]
    },
    {
      "cell_type": "code",
      "execution_count": null,
      "id": "9b9b44f2-779f-40a4-95f7-543fc572ad96",
      "metadata": {
        "scrolled": true,
        "tags": [],
        "id": "9b9b44f2-779f-40a4-95f7-543fc572ad96",
        "outputId": "8ecd7747-dce2-4cb9-aa17-0e46cdd49c16",
        "colab": {
          "base_uri": "https://localhost:8080/"
        }
      },
      "outputs": [
        {
          "output_type": "stream",
          "name": "stdout",
          "text": [
            "embeddings_clinical download started this may take some time.\n",
            "Approximate size to download 1.6 GB\n",
            "[OK!]\n",
            "ner_deid_subentity_augmented download started this may take some time.\n",
            "[OK!]\n"
          ]
        }
      ],
      "source": [
        "documentAssembler = DocumentAssembler()\\\n",
        "    .setInputCol(\"text\")\\\n",
        "    .setOutputCol(\"document\")\n",
        "\n",
        "documentHasher = DocumentHashCoder()\\\n",
        "    .setInputCols(\"document\")\\\n",
        "    .setOutputCol(\"document2\")\\\n",
        "    .setDateShiftColumn(\"dateshift\")\\\n",
        "\n",
        "tokenizer = Tokenizer()\\\n",
        "    .setInputCols([\"document2\"])\\\n",
        "    .setOutputCol(\"token\")\n",
        "\n",
        "embeddings = WordEmbeddingsModel.pretrained(\"embeddings_clinical\", \"en\", \"clinical/models\")\\\n",
        "    .setInputCols([\"document2\", \"token\"])\\\n",
        "    .setOutputCol(\"word_embeddings\")\n",
        "\n",
        "clinical_ner = MedicalNerModel\\\n",
        "    .pretrained(\"ner_deid_subentity_augmented\", \"en\", \"clinical/models\")\\\n",
        "    .setInputCols([\"document2\",\"token\", \"word_embeddings\"])\\\n",
        "    .setOutputCol(\"ner\")\n",
        "\n",
        "ner_converter = NerConverterInternal()\\\n",
        "    .setInputCols([\"document2\", \"token\", \"ner\"])\\\n",
        "    .setOutputCol(\"ner_chunk\")\n",
        "\n",
        "nlpPipeline = Pipeline().setStages([\n",
        "    documentAssembler,\n",
        "    documentHasher,\n",
        "    tokenizer,\n",
        "    embeddings,\n",
        "    clinical_ner,\n",
        "    ner_converter    \n",
        "])\n",
        "\n",
        "empty_data = spark.createDataFrame([[\"\", \"\", \"\"]]).toDF(\"patientID\",\"text\", \"dateshift\")\n",
        "\n",
        "model = nlpPipeline.fit(empty_data)"
      ]
    },
    {
      "cell_type": "code",
      "execution_count": null,
      "id": "f2ba23c4-5cf7-444b-b253-e2f8163b75e1",
      "metadata": {
        "scrolled": true,
        "tags": [],
        "id": "f2ba23c4-5cf7-444b-b253-e2f8163b75e1",
        "outputId": "aa312813-3540-49c9-ac7f-e9764632a3a7",
        "colab": {
          "base_uri": "https://localhost:8080/"
        }
      },
      "outputs": [
        {
          "output_type": "stream",
          "name": "stdout",
          "text": [
            "Deidentification process of the 'text' field has begun...\n",
            "Deidentification process of the 'text' field was completed...\n",
            "Deidentifcation successfully completed and the results saved as 'deidentified.csv' !\n"
          ]
        }
      ],
      "source": [
        "res= deid_implementor.deidentify(input_file_path=\"deid_unnormalized_data.csv\",\n",
        "                                                output_file_path=\"deidentified.csv\",\n",
        "                                                custom_pipeline=model,\n",
        "                                                fields={\"text\": \"obfuscate\"},\n",
        "                                                shift_days=True,\n",
        "                                                obfuscate_date=True, \n",
        "                                                ner_chunk=\"ner_chunk\",\n",
        "                                                token=\"token\",\n",
        "                                                documentHashCoder_col_name=\"document2\",\n",
        "                                                separator=\",\",\n",
        "                                                unnormalized_date=True,\n",
        "                                                unnormalized_mode=\"mask\"\n",
        "                                                )"
      ]
    },
    {
      "cell_type": "code",
      "execution_count": null,
      "id": "2cda1462-9605-44f0-9d66-8efa761679b2",
      "metadata": {
        "id": "2cda1462-9605-44f0-9d66-8efa761679b2",
        "outputId": "d3b82498-8618-4a4d-ace4-5a74dabaf4d2",
        "colab": {
          "base_uri": "https://localhost:8080/"
        }
      },
      "outputs": [
        {
          "output_type": "stream",
          "name": "stdout",
          "text": [
            "+---+----------------------------------------+----------------------------------------------+\n",
            "|ID |text                                    |text_deidentified                             |\n",
            "+---+----------------------------------------+----------------------------------------------+\n",
            "|0  |Chris Brown was discharged on 10/02/2022|Nadine Conception was discharged on 09/27/2022|\n",
            "|1  |Mark White was discharged on 02/28/2020 |Alise Res was discharged on 02/26/2020        |\n",
            "|2  |John was discharged on 03Apr2022        |Jilda Jasmine was discharged on <DATE>        |\n",
            "|3  |John Moore was discharged on 12/31/2022 |Valeen Share was discharged on 01/20/2023     |\n",
            "+---+----------------------------------------+----------------------------------------------+\n",
            "\n"
          ]
        }
      ],
      "source": [
        "res.show(truncate=False)"
      ]
    },
    {
      "cell_type": "markdown",
      "id": "73a4ff14-b5eb-4e48-8659-4c0be03a2318",
      "metadata": {
        "id": "73a4ff14-b5eb-4e48-8659-4c0be03a2318"
      },
      "source": [
        "**unnormalized_mode=\"obfuscate\"**"
      ]
    },
    {
      "cell_type": "code",
      "execution_count": null,
      "id": "f79238e6-d0a6-4add-894f-4d1d75e6460f",
      "metadata": {
        "id": "f79238e6-d0a6-4add-894f-4d1d75e6460f",
        "outputId": "75eff13d-693a-4385-bed9-2f104db49843",
        "colab": {
          "base_uri": "https://localhost:8080/"
        }
      },
      "outputs": [
        {
          "output_type": "stream",
          "name": "stdout",
          "text": [
            "Deidentification process of the 'text' field has begun...\n",
            "Deidentification process of the 'text' field was completed...\n",
            "Deidentifcation successfully completed and the results saved as 'deidentified1.csv' !\n"
          ]
        }
      ],
      "source": [
        "res= deid_implementor.deidentify(input_file_path=\"deid_unnormalized_data.csv\",\n",
        "                                                output_file_path=\"deidentified1.csv\",\n",
        "                                                custom_pipeline=model,\n",
        "                                                fields={\"text\": \"obfuscate\"},\n",
        "                                                shift_days=True,\n",
        "                                                obfuscate_date=True, \n",
        "                                                ner_chunk=\"ner_chunk\",\n",
        "                                                token=\"token\",\n",
        "                                                documentHashCoder_col_name=\"document2\",\n",
        "                                                separator=\",\",\n",
        "                                                unnormalized_date=True,\n",
        "                                                unnormalized_mode=\"obfuscate\"\n",
        "                                                )"
      ]
    },
    {
      "cell_type": "code",
      "execution_count": null,
      "id": "82fa23cd-85fc-4351-b116-40dcab242fe9",
      "metadata": {
        "id": "82fa23cd-85fc-4351-b116-40dcab242fe9",
        "outputId": "1aae1894-3fd3-4812-a62c-74ddbb79adf6",
        "colab": {
          "base_uri": "https://localhost:8080/"
        }
      },
      "outputs": [
        {
          "output_type": "stream",
          "name": "stdout",
          "text": [
            "+---+----------------------------------------+--------------------------------------------+\n",
            "|ID |text                                    |text_deidentified                           |\n",
            "+---+----------------------------------------+--------------------------------------------+\n",
            "|0  |Chris Brown was discharged on 10/02/2022|Eustacio Flavin was discharged on 09/27/2022|\n",
            "|1  |Mark White was discharged on 02/28/2020 |Delma Apgar was discharged on 02/26/2020    |\n",
            "|2  |John was discharged on 03Apr2022        |Shellie Barth was discharged on 08-23-1991  |\n",
            "|3  |John Moore was discharged on 12/31/2022 |Hardy Pagan was discharged on 01/20/2023    |\n",
            "+---+----------------------------------------+--------------------------------------------+\n",
            "\n"
          ]
        }
      ],
      "source": [
        "res.show(truncate=False)"
      ]
    },
    {
      "cell_type": "markdown",
      "id": "753d7bc4-a57a-4c20-a993-d84834237329",
      "metadata": {
        "id": "753d7bc4-a57a-4c20-a993-d84834237329"
      },
      "source": [
        "# With no custom pipeline"
      ]
    },
    {
      "cell_type": "markdown",
      "source": [
        "### Default parameters"
      ],
      "metadata": {
        "id": "SPGM7S0Pa9_4"
      },
      "id": "SPGM7S0Pa9_4"
    },
    {
      "cell_type": "code",
      "source": [
        "res= deid_implementor.deidentify(input_file_path=\"deid_data.csv\",\n",
        "                                 output_file_path=\"deidentified.csv\")"
      ],
      "metadata": {
        "colab": {
          "base_uri": "https://localhost:8080/"
        },
        "id": "ZHlc6Kx0agm2",
        "outputId": "a26ea40e-ca14-4aa6-c933-e2d70a38d15b"
      },
      "id": "ZHlc6Kx0agm2",
      "execution_count": null,
      "outputs": [
        {
          "output_type": "stream",
          "name": "stdout",
          "text": [
            "clinical_deidentification download started this may take some time.\n",
            "Approx size to download 1.6 GB\n",
            "[OK!]\n",
            "Deidentification process of the 'text' field has begun...\n",
            "deidentification process of the 'text' field was completed...\n",
            "Deidentifcation successfully completed and the results saved as 'deidentified.csv' !\n"
          ]
        }
      ]
    },
    {
      "cell_type": "code",
      "source": [
        "res.show(truncate=70)"
      ],
      "metadata": {
        "colab": {
          "base_uri": "https://localhost:8080/"
        },
        "id": "EHE7G9fNagi9",
        "outputId": "361c0ae7-5b21-4b9d-c0e9-035d747a10ac"
      },
      "id": "EHE7G9fNagi9",
      "execution_count": null,
      "outputs": [
        {
          "output_type": "stream",
          "name": "stdout",
          "text": [
            "+---+----------------------------------------------------------------------+----------------------------------------------------------------------+\n",
            "| ID|                                                         text_original|                                                             text_deid|\n",
            "+---+----------------------------------------------------------------------+----------------------------------------------------------------------+\n",
            "|  0|                                                                     \"|                                                                     \"|\n",
            "|  1|Record date : 2093-01-13 , David Hale , M.D . , Name : Hendrickson ...|Record date : <DATE> , <DOCTOR> , M.D . , Name : <PATIENT> , MR # <...|\n",
            "|  2|                                                                     \"|                                                                     \"|\n",
            "+---+----------------------------------------------------------------------+----------------------------------------------------------------------+\n",
            "\n"
          ]
        }
      ]
    },
    {
      "cell_type": "markdown",
      "id": "05063878-7193-4239-91d5-adb3e173f877",
      "metadata": {
        "tags": [],
        "id": "05063878-7193-4239-91d5-adb3e173f877"
      },
      "source": [
        "### Mask options"
      ]
    },
    {
      "cell_type": "markdown",
      "id": "9d0ed78e-3397-4add-a450-03e448e60b19",
      "metadata": {
        "id": "9d0ed78e-3397-4add-a450-03e448e60b19"
      },
      "source": [
        "#### entity_labels"
      ]
    },
    {
      "cell_type": "code",
      "execution_count": null,
      "id": "fd35309b-6a8e-4229-81e5-7d4ad0f2bd78",
      "metadata": {
        "scrolled": true,
        "tags": [],
        "id": "fd35309b-6a8e-4229-81e5-7d4ad0f2bd78",
        "outputId": "26ce1dc3-cf7e-4bfe-aec6-7f4772d01018",
        "colab": {
          "base_uri": "https://localhost:8080/"
        }
      },
      "outputs": [
        {
          "output_type": "stream",
          "name": "stdout",
          "text": [
            "clinical_deidentification download started this may take some time.\n",
            "Approx size to download 1.6 GB\n",
            "[OK!]\n",
            "Deidentification process of the 'text' field has begun...\n",
            "deidentification process of the 'text' field was completed...\n",
            "Deidentifcation successfully completed and the results saved as 'deidentified.csv' !\n"
          ]
        }
      ],
      "source": [
        "res= deid_implementor.deidentify(input_file_path=\"deid_data.csv\",\n",
        "                                output_file_path=\"deidentified.csv\",\n",
        "                                fields={\"text\": \"mask\"}, masking_policy=\"entity_labels\")"
      ]
    },
    {
      "cell_type": "code",
      "execution_count": null,
      "id": "1ecfcf04-674b-4a74-83d2-14d2c781ad02",
      "metadata": {
        "id": "1ecfcf04-674b-4a74-83d2-14d2c781ad02",
        "outputId": "36c4adab-093f-4af5-d271-079075f43e9b",
        "colab": {
          "base_uri": "https://localhost:8080/"
        }
      },
      "outputs": [
        {
          "output_type": "stream",
          "name": "stdout",
          "text": [
            "+---+----------------------------------------------------------------------+----------------------------------------------------------------------+\n",
            "| ID|                                                         text_original|                                                             text_deid|\n",
            "+---+----------------------------------------------------------------------+----------------------------------------------------------------------+\n",
            "|  0|                                                                     \"|                                                                     \"|\n",
            "|  1|Record date : 2093-01-13 , David Hale , M.D . , Name : Hendrickson ...|Record date : <DATE> , <DOCTOR> , M.D . , Name : <PATIENT> , MR # <...|\n",
            "|  2|                                                                     \"|                                                                     \"|\n",
            "+---+----------------------------------------------------------------------+----------------------------------------------------------------------+\n",
            "\n"
          ]
        }
      ],
      "source": [
        "res.show(truncate=70)"
      ]
    },
    {
      "cell_type": "markdown",
      "id": "3339fc4e-a60c-48be-9983-d949bf7fd58a",
      "metadata": {
        "id": "3339fc4e-a60c-48be-9983-d949bf7fd58a"
      },
      "source": [
        "#### fixed_length_chars"
      ]
    },
    {
      "cell_type": "code",
      "execution_count": null,
      "id": "b677b693-9615-4d9b-b035-c1dcbb9b8f02",
      "metadata": {
        "scrolled": true,
        "tags": [],
        "id": "b677b693-9615-4d9b-b035-c1dcbb9b8f02",
        "outputId": "05ccc4ee-5011-4460-e5c5-b0bb4ab2afc1",
        "colab": {
          "base_uri": "https://localhost:8080/"
        }
      },
      "outputs": [
        {
          "output_type": "stream",
          "name": "stdout",
          "text": [
            "clinical_deidentification download started this may take some time.\n",
            "Approx size to download 1.6 GB\n",
            "[OK!]\n",
            "Deidentification process of the 'text' field has begun...\n",
            "deidentification process of the 'text' field was completed...\n",
            "Deidentifcation successfully completed and the results saved as 'deidentified.csv' !\n"
          ]
        }
      ],
      "source": [
        "res= deid_implementor.deidentify(input_file_path=\"deid_data.csv\",\n",
        "                                output_file_path=\"deidentified.csv\",\n",
        "                                fields={\"text\": \"mask\"},\n",
        "                                masking_policy=\"fixed_length_chars\",\n",
        "                                fixed_mask_length=2)"
      ]
    },
    {
      "cell_type": "code",
      "execution_count": null,
      "id": "69a08edd-778a-4380-8ab5-24f5eff5af5c",
      "metadata": {
        "id": "69a08edd-778a-4380-8ab5-24f5eff5af5c",
        "outputId": "aad92e0c-d3a0-4f2b-c197-ab43984d168a",
        "colab": {
          "base_uri": "https://localhost:8080/"
        }
      },
      "outputs": [
        {
          "output_type": "stream",
          "name": "stdout",
          "text": [
            "+---+----------------------------------------------------------------------+----------------------------------------------------------------------+\n",
            "| ID|                                                         text_original|                                                             text_deid|\n",
            "+---+----------------------------------------------------------------------+----------------------------------------------------------------------+\n",
            "|  0|                                                                     \"|                                                                     \"|\n",
            "|  1|Record date : 2093-01-13 , David Hale , M.D . , Name : Hendrickson ...|Record date : ** , ** , M.D . , Name : ** , MR # ** Date : ** . PCP...|\n",
            "|  2|                                                                     \"|                                                                     \"|\n",
            "+---+----------------------------------------------------------------------+----------------------------------------------------------------------+\n",
            "\n"
          ]
        }
      ],
      "source": [
        "res.show(truncate=70)"
      ]
    },
    {
      "cell_type": "markdown",
      "id": "585c4420-bc3b-4d04-aa72-c4a27d166117",
      "metadata": {
        "id": "585c4420-bc3b-4d04-aa72-c4a27d166117"
      },
      "source": [
        "#### same_length_chars"
      ]
    },
    {
      "cell_type": "code",
      "execution_count": null,
      "id": "f4a3bb55-78e7-4c22-84a8-c439cf5c3a3b",
      "metadata": {
        "scrolled": true,
        "tags": [],
        "id": "f4a3bb55-78e7-4c22-84a8-c439cf5c3a3b",
        "outputId": "14e0c792-86ec-4c57-caac-6cabb72a7c21",
        "colab": {
          "base_uri": "https://localhost:8080/"
        }
      },
      "outputs": [
        {
          "output_type": "stream",
          "name": "stdout",
          "text": [
            "clinical_deidentification download started this may take some time.\n",
            "Approx size to download 1.6 GB\n",
            "[OK!]\n",
            "Deidentification process of the 'text' field has begun...\n",
            "deidentification process of the 'text' field was completed...\n",
            "Deidentifcation successfully completed and the results saved as 'deidentified.csv' !\n"
          ]
        }
      ],
      "source": [
        "res= deid_implementor.deidentify(input_file_path=\"deid_data.csv\",\n",
        "                                output_file_path=\"deidentified.csv\",\n",
        "                                fields={\"text\": \"mask\"},\n",
        "                                masking_policy=\"same_length_chars\")"
      ]
    },
    {
      "cell_type": "code",
      "execution_count": null,
      "id": "e755940a-23d6-420b-9e8f-d459c86e05d7",
      "metadata": {
        "id": "e755940a-23d6-420b-9e8f-d459c86e05d7",
        "outputId": "3b1738fd-3c82-4877-83fa-393cb47db490",
        "colab": {
          "base_uri": "https://localhost:8080/"
        }
      },
      "outputs": [
        {
          "output_type": "stream",
          "name": "stdout",
          "text": [
            "+---+----------------------------------------------------------------------+----------------------------------------------------------------------+\n",
            "| ID|                                                         text_original|                                                             text_deid|\n",
            "+---+----------------------------------------------------------------------+----------------------------------------------------------------------+\n",
            "|  0|                                                                     \"|                                                                     \"|\n",
            "|  1|Record date : 2093-01-13 , David Hale , M.D . , Name : Hendrickson ...|Record date : [********] , [********] , M.D . , Name : [***********...|\n",
            "|  2|                                                                     \"|                                                                     \"|\n",
            "+---+----------------------------------------------------------------------+----------------------------------------------------------------------+\n",
            "\n"
          ]
        }
      ],
      "source": [
        "res.show(truncate=70)"
      ]
    },
    {
      "cell_type": "markdown",
      "id": "bfe210e5-13b3-44d9-93e2-7ff808f7397c",
      "metadata": {
        "id": "bfe210e5-13b3-44d9-93e2-7ff808f7397c"
      },
      "source": [
        "### Obfuscate option"
      ]
    },
    {
      "cell_type": "code",
      "execution_count": null,
      "id": "53b64ca8-2f5b-4342-809f-3812f6dda2bd",
      "metadata": {
        "scrolled": true,
        "tags": [],
        "id": "53b64ca8-2f5b-4342-809f-3812f6dda2bd",
        "outputId": "7957aa57-f1b6-45e1-9d46-2910d8b9ee01",
        "colab": {
          "base_uri": "https://localhost:8080/"
        }
      },
      "outputs": [
        {
          "output_type": "stream",
          "name": "stdout",
          "text": [
            "clinical_deidentification download started this may take some time.\n",
            "Approx size to download 1.6 GB\n",
            "[OK!]\n",
            "Deidentification process of the 'text' field has begun...\n",
            "deidentification process of the 'text' field was completed...\n",
            "Deidentifcation successfully completed and the results saved as 'deidentified.csv' !\n"
          ]
        }
      ],
      "source": [
        "res= deid_implementor.deidentify(input_file_path=\"deid_data.csv\",\n",
        "                                output_file_path=\"deidentified.csv\",\n",
        "                                separator=\"\\t\",\n",
        "                                fields={\"text\": \"obfuscate\"},\n",
        "                                unnormalized_date=False)"
      ]
    },
    {
      "cell_type": "code",
      "execution_count": null,
      "id": "0619a926-04ac-4a5b-b432-2f8969b015f6",
      "metadata": {
        "id": "0619a926-04ac-4a5b-b432-2f8969b015f6",
        "outputId": "2534ca37-3250-401a-d8ed-38049e229e2f",
        "colab": {
          "base_uri": "https://localhost:8080/"
        }
      },
      "outputs": [
        {
          "output_type": "stream",
          "name": "stdout",
          "text": [
            "+---+----------------------------------------------------------------------+----------------------------------------------------------------------+\n",
            "| ID|                                                         text_original|                                                             text_deid|\n",
            "+---+----------------------------------------------------------------------+----------------------------------------------------------------------+\n",
            "|  0|                                                                     \"|                                                                     \"|\n",
            "|  1|Record date : 2093-01-13 , David Hale , M.D . , Name : Hendrickson ...|Record date : 2093-01-27 , Dr Pat Bodily , M.D . , Name : Shirleen ...|\n",
            "|  1|Record date : 2093-01-13 , David Hale , M.D . , Name : Hendrickson ...|       PCP : Lamont Lineman , 35years-old , Record date : 2079-12-25 .|\n",
            "|  1|Record date : 2093-01-13 , David Hale , M.D . , Name : Hendrickson ...|RENOWN SOUTH MEADOWS MEDICAL CENTER , 98 Spruce St , Phone 519-215-...|\n",
            "|  2|                                                                     \"|                                                                     \"|\n",
            "+---+----------------------------------------------------------------------+----------------------------------------------------------------------+\n",
            "\n"
          ]
        }
      ],
      "source": [
        "res.show(truncate=70) "
      ]
    },
    {
      "cell_type": "markdown",
      "id": "28e027b7-be89-4ac0-85da-b4de9a7e481a",
      "metadata": {
        "id": "28e027b7-be89-4ac0-85da-b4de9a7e481a"
      },
      "source": [
        "#### age groups obfuscation"
      ]
    },
    {
      "cell_type": "code",
      "execution_count": null,
      "id": "b809769c-9460-45a8-8828-c4028cf2f61d",
      "metadata": {
        "scrolled": true,
        "tags": [],
        "id": "b809769c-9460-45a8-8828-c4028cf2f61d",
        "outputId": "e9d2c8a7-5a73-45a3-c2aa-233ac0d331ed",
        "colab": {
          "base_uri": "https://localhost:8080/"
        }
      },
      "outputs": [
        {
          "output_type": "stream",
          "name": "stdout",
          "text": [
            "clinical_deidentification download started this may take some time.\n",
            "Approx size to download 1.6 GB\n",
            "[OK!]\n",
            "Deidentification process of the 'text' field has begun...\n",
            "deidentification process of the 'text' field was completed...\n",
            "Deidentifcation successfully completed and the results saved as 'deidentified.csv' !\n"
          ]
        }
      ],
      "source": [
        "res= deid_implementor.deidentify(input_file_path=\"deid_age_group.csv\",\n",
        "                                                output_file_path=\"deidentified.csv\",\n",
        "                                                fields={\"text\": \"obfuscate\"},\n",
        "                                                age_group_obfuscation=True, age_ranges=[1, 4, 12, 20, 40, 60, 80])"
      ]
    },
    {
      "cell_type": "code",
      "execution_count": null,
      "id": "c6777c7b-3caa-4cdf-b2c5-484f9459a403",
      "metadata": {
        "id": "c6777c7b-3caa-4cdf-b2c5-484f9459a403",
        "outputId": "6dc6fd8d-528b-4b20-c8e0-e67bb57f1773",
        "colab": {
          "base_uri": "https://localhost:8080/"
        }
      },
      "outputs": [
        {
          "output_type": "stream",
          "name": "stdout",
          "text": [
            "+---+--------------------------------+--------------------------------+\n",
            "| ID|                   text_original|                       text_deid|\n",
            "+---+--------------------------------+--------------------------------+\n",
            "|  0|                 1 year old baby|                  3year old baby|\n",
            "|  1|                 4 year old kids|                  8year old kids|\n",
            "|  2|       A 15 year old female with|        A 16year old female with|\n",
            "|  3|Record date: 2093-01-13, Age: 25|Record date: 2093-01-25, Age: 35|\n",
            "|  4|         Patient is 45 years-old|          Patient is 40years-old|\n",
            "|  5|         He is 65 years-old male|          He is 67years-old male|\n",
            "+---+--------------------------------+--------------------------------+\n",
            "\n"
          ]
        }
      ],
      "source": [
        "res.show(truncate=70)"
      ]
    },
    {
      "cell_type": "markdown",
      "id": "623c2c68-788b-4f45-be82-9662bf595acb",
      "metadata": {
        "id": "623c2c68-788b-4f45-be82-9662bf595acb"
      },
      "source": [
        "#### shifting days"
      ]
    },
    {
      "cell_type": "code",
      "execution_count": null,
      "id": "3ad9058e-b33f-4489-b4e4-ebca4ff0485c",
      "metadata": {
        "id": "3ad9058e-b33f-4489-b4e4-ebca4ff0485c",
        "outputId": "e2e0c401-7db1-4e22-de99-c12229461bdb",
        "colab": {
          "base_uri": "https://localhost:8080/"
        }
      },
      "outputs": [
        {
          "output_type": "stream",
          "name": "stdout",
          "text": [
            "+---------+----------------------------------------+\n",
            "|patientID|text                                    |\n",
            "+---------+----------------------------------------+\n",
            "|A001     |Chris Brown was discharged on 10/02/2022|\n",
            "|A002     |Mark White was discharged on 03/01/2020 |\n",
            "|A003     |John was discharged on 03/15/2022       |\n",
            "|A004     |John Moore was discharged on 12/31/2022 |\n",
            "+---------+----------------------------------------+\n",
            "\n"
          ]
        }
      ],
      "source": [
        "data = pd.DataFrame(\n",
        "    {'patientID' : ['A001', 'A002', 'A003', 'A004'],\n",
        "     'text' : ['Chris Brown was discharged on 10/02/2022', \n",
        "               'Mark White was discharged on 03/01/2020', \n",
        "               'John was discharged on 03/15/2022',\n",
        "               'John Moore was discharged on 12/31/2022'\n",
        "              ]\n",
        "    }\n",
        ")\n",
        "\n",
        "my_input_df = spark.createDataFrame(data)\n",
        "df_pd= my_input_df.toPandas()\n",
        "df_pd.to_csv(\"shift_days_data.csv\", index=False)\n",
        "\n",
        "my_input_df.show(truncate=False)"
      ]
    },
    {
      "cell_type": "code",
      "execution_count": null,
      "id": "fa3cff25-01be-4001-a8c2-e5c0668d22db",
      "metadata": {
        "scrolled": true,
        "tags": [],
        "id": "fa3cff25-01be-4001-a8c2-e5c0668d22db",
        "outputId": "40bed6b7-5114-42b2-8993-0b2a83c8c875",
        "colab": {
          "base_uri": "https://localhost:8080/"
        }
      },
      "outputs": [
        {
          "output_type": "stream",
          "name": "stdout",
          "text": [
            "clinical_deidentification download started this may take some time.\n",
            "Approx size to download 1.6 GB\n",
            "[OK!]\n",
            "Deidentification process of the 'text' field has begun...\n",
            "deidentification process of the 'text' field was completed...\n",
            "Deidentifcation successfully completed and the results saved as 'deidentified.csv' !\n"
          ]
        }
      ],
      "source": [
        "res= deid_implementor.deidentify(input_file_path=\"shift_days_data.csv\",\n",
        "                                                output_file_path=\"deidentified.csv\",\n",
        "                                                fields={\"text\": \"obfuscate\"},\n",
        "                                                shift_days=True,\n",
        "                                                obfuscate_date=True, \n",
        "                                                separator=\",\",\n",
        "                                                number_of_days=2)"
      ]
    },
    {
      "cell_type": "code",
      "execution_count": null,
      "id": "544e1d46-a7ba-4adf-861b-b8e9b725802c",
      "metadata": {
        "id": "544e1d46-a7ba-4adf-861b-b8e9b725802c",
        "outputId": "271f0457-2e8c-4d1d-a937-6715e43cd0db",
        "colab": {
          "base_uri": "https://localhost:8080/"
        }
      },
      "outputs": [
        {
          "output_type": "stream",
          "name": "stdout",
          "text": [
            "+---+----------------------------------------+------------------------------------------+\n",
            "|ID |text_original                           |text_deid                                 |\n",
            "+---+----------------------------------------+------------------------------------------+\n",
            "|0  |Chris Brown was discharged on 10/02/2022|Dotty Neat was discharged on 10/04/2022   |\n",
            "|1  |Mark White was discharged on 03/01/2020 |Jennings Abt was discharged on 03/03/2020 |\n",
            "|2  |John was discharged on 03/15/2022       |Bolling Kells was discharged on 03/17/2022|\n",
            "|3  |John Moore was discharged on 12/31/2022 |Ellender Rom was discharged on 01/02/2023 |\n",
            "+---+----------------------------------------+------------------------------------------+\n",
            "\n"
          ]
        }
      ],
      "source": [
        "res.show(truncate=False)"
      ]
    },
    {
      "cell_type": "markdown",
      "id": "e9cc0379-64e7-48ff-96cc-461e98f49f48",
      "metadata": {
        "id": "e9cc0379-64e7-48ff-96cc-461e98f49f48"
      },
      "source": [
        "#### unnormalized date formats"
      ]
    },
    {
      "cell_type": "code",
      "execution_count": null,
      "id": "66d446d3-c3ef-48a3-b1c4-a0a065bea8ff",
      "metadata": {
        "scrolled": true,
        "tags": [],
        "id": "66d446d3-c3ef-48a3-b1c4-a0a065bea8ff",
        "outputId": "c8aead71-6e5b-48b8-bb18-4bfe58ad0db0",
        "colab": {
          "base_uri": "https://localhost:8080/"
        }
      },
      "outputs": [
        {
          "output_type": "stream",
          "name": "stdout",
          "text": [
            "clinical_deidentification download started this may take some time.\n",
            "Approx size to download 1.6 GB\n",
            "[OK!]\n",
            "Deidentification process of the 'text' field has begun...\n",
            "deidentification process of the 'text' field was completed...\n",
            "Deidentifcation successfully completed and the results saved as 'deidentified.csv' !\n"
          ]
        }
      ],
      "source": [
        "res= deid_implementor.deidentify(input_file_path=\"deid_unnormalized_data.csv\",\n",
        "                                                output_file_path=\"deidentified.csv\",\n",
        "                                                fields={\"text\": \"obfuscate\"},\n",
        "                                                shift_days=True,\n",
        "                                                obfuscate_date=True, \n",
        "                                                separator=\",\",\n",
        "                                                unnormalized_date=True,\n",
        "                                                unnormalized_mode=\"obfuscate\"\n",
        "                                                )"
      ]
    },
    {
      "cell_type": "code",
      "execution_count": null,
      "id": "179bcfec-6625-4569-bc28-17fe718c6937",
      "metadata": {
        "id": "179bcfec-6625-4569-bc28-17fe718c6937",
        "outputId": "64e87876-685f-4821-c63e-e0ae809290fa",
        "colab": {
          "base_uri": "https://localhost:8080/"
        }
      },
      "outputs": [
        {
          "output_type": "stream",
          "name": "stdout",
          "text": [
            "+---+----------------------------------------+------------------------------------------+\n",
            "|ID |text_original                           |text_deid                                 |\n",
            "+---+----------------------------------------+------------------------------------------+\n",
            "|0  |Chris Brown was discharged on 10/02/2022|Dotty Neat was discharged on 10/04/2022   |\n",
            "|1  |Mark White was discharged on 02/28/2020 |Jennings Abt was discharged on 03/01/2020 |\n",
            "|2  |John was discharged on 03Apr2022        |Bolling Kells was discharged on 11-02-2001|\n",
            "|3  |John Moore was discharged on 12/31/2022 |Ellender Rom was discharged on 01/02/2023 |\n",
            "+---+----------------------------------------+------------------------------------------+\n",
            "\n"
          ]
        }
      ],
      "source": [
        "res.show(truncate=False)"
      ]
    },
    {
      "cell_type": "markdown",
      "source": [
        "**unnormalized_mode=\"mask\"**"
      ],
      "metadata": {
        "id": "LAUiZZRqFQAC"
      },
      "id": "LAUiZZRqFQAC"
    },
    {
      "cell_type": "code",
      "execution_count": null,
      "id": "a0cee4af-6e75-4ab2-b2e5-42aee64fb3f8",
      "metadata": {
        "scrolled": true,
        "tags": [],
        "id": "a0cee4af-6e75-4ab2-b2e5-42aee64fb3f8",
        "outputId": "cf30db94-2923-4f41-de5f-4d28922c6be3",
        "colab": {
          "base_uri": "https://localhost:8080/"
        }
      },
      "outputs": [
        {
          "output_type": "stream",
          "name": "stdout",
          "text": [
            "clinical_deidentification download started this may take some time.\n",
            "Approx size to download 1.6 GB\n",
            "[OK!]\n",
            "Deidentification process of the 'text' field has begun...\n",
            "deidentification process of the 'text' field was completed...\n",
            "Deidentifcation successfully completed and the results saved as 'deidentified.csv' !\n"
          ]
        }
      ],
      "source": [
        "res= deid_implementor.deidentify(input_file_path=\"deid_unnormalized_data.csv\",\n",
        "                                                output_file_path=\"deidentified.csv\",\n",
        "                                                fields={\"text\": \"obfuscate\"},\n",
        "                                                shift_days=True,\n",
        "                                                obfuscate_date=True, \n",
        "                                                separator=\",\",\n",
        "                                                unnormalized_date=True,\n",
        "                                                unnormalized_mode=\"mask\"\n",
        "                                                )"
      ]
    },
    {
      "cell_type": "code",
      "execution_count": null,
      "id": "65e37f91-5bf4-4db9-ab33-26cb1b7438fc",
      "metadata": {
        "id": "65e37f91-5bf4-4db9-ab33-26cb1b7438fc",
        "outputId": "2453fe65-e248-41c2-c4a2-b84000aca1b2",
        "colab": {
          "base_uri": "https://localhost:8080/"
        }
      },
      "outputs": [
        {
          "output_type": "stream",
          "name": "stdout",
          "text": [
            "+---+----------------------------------------+-----------------------------------------+\n",
            "|ID |text_original                           |text_deid                                |\n",
            "+---+----------------------------------------+-----------------------------------------+\n",
            "|0  |Chris Brown was discharged on 10/02/2022|Dotty Neat was discharged on 10/04/2022  |\n",
            "|1  |Mark White was discharged on 02/28/2020 |Jennings Abt was discharged on 03/01/2020|\n",
            "|2  |John was discharged on 03Apr2022        |Bolling Kells was discharged on <DATE>   |\n",
            "|3  |John Moore was discharged on 12/31/2022 |Ellender Rom was discharged on 01/02/2023|\n",
            "+---+----------------------------------------+-----------------------------------------+\n",
            "\n"
          ]
        }
      ],
      "source": [
        "res.show(truncate=False)"
      ]
    },
    {
      "cell_type": "markdown",
      "id": "aa5f5af0-ad93-4542-b86c-85128718a374",
      "metadata": {
        "id": "aa5f5af0-ad93-4542-b86c-85128718a374"
      },
      "source": [
        "# Structured Deidentification"
      ]
    },
    {
      "cell_type": "code",
      "source": [
        "#sample data\n",
        "!wget -q https://raw.githubusercontent.com/JohnSnowLabs/spark-nlp-workshop/master/tutorials/Certification_Trainings/Healthcare/data/hipaa-table-001.txt\n",
        "\n",
        "df = spark.read.format(\"csv\") \\\n",
        "    .option(\"sep\", \"\\t\") \\\n",
        "    .option(\"inferSchema\", \"true\") \\\n",
        "    .option(\"header\", \"true\") \\\n",
        "    .load(\"hipaa-table-001.txt\")\n",
        "\n",
        "df = df.withColumnRenamed(\"PATIENT\",\"NAME\")\n",
        "df.show(truncate=False)"
      ],
      "metadata": {
        "colab": {
          "base_uri": "https://localhost:8080/"
        },
        "id": "GBf31JxQFlQN",
        "outputId": "bbef4a81-d095-4932-c604-797eff7c54eb"
      },
      "id": "GBf31JxQFlQN",
      "execution_count": null,
      "outputs": [
        {
          "output_type": "stream",
          "name": "stdout",
          "text": [
            "+---------------+----------+---+----------------------------------------------------+-------+--------------+---+---+\n",
            "|NAME           |DOB       |AGE|ADDRESS                                             |ZIPCODE|TEL           |SBP|DBP|\n",
            "+---------------+----------+---+----------------------------------------------------+-------+--------------+---+---+\n",
            "|Cecilia Chapman|04/02/1935|83 |711-2880 Nulla St. Mankato Mississippi              |69200  |(257) 563-7401|101|42 |\n",
            "|Iris Watson    |03/10/2009|9  |P.O. Box 283 8562 Fusce Rd. Frederick Nebraska      |20620  |(372) 587-2335|159|122|\n",
            "|Bryar Pitts    |11/01/1921|98 |5543 Aliquet St. Fort Dodge GA                      |20783  |(717) 450-4729|149|52 |\n",
            "|Theodore Lowe  |13/02/2002|16 |Ap #867-859 Sit Rd. Azusa New York                  |39531  |(793) 151-6230|134|115|\n",
            "|Calista Wise   |20/08/1942|76 |7292 Dictum Av. San Antonio MI                      |47096  |(492) 709-6392|139|78 |\n",
            "|Kyla Olsen     |12/05/1973|45 |Ap #651-8679 Sodales Av. Tamuning PA                |10855  |(654) 393-5734|120|112|\n",
            "|Forrest Ray    |11/01/1991|27 |191-103 Integer Rd. Corona New Mexico               |8219   |(404) 960-3807|143|126|\n",
            "|Hiroko Potter  |18/11/1937|81 |P.O. Box 887 2508 Dolor. Av. Muskegon KY            |12482  |(314) 244-6306|147|75 |\n",
            "|Celeste Slater |12/05/1980|38 |606-3727 Ullamcorper. Street Roseville NH           |11523  |(786) 713-8616|147|123|\n",
            "|Nyssa Vazquez  |24/09/1956|62 |511-5762 At Rd. Chelsea MI                          |67708  |(947) 278-5929|129|50 |\n",
            "|Lawrence Moreno|26/12/1906|112|935-9940 Tortor. Street Santa Rosa MN               |98804  |(684) 579-1879|133|102|\n",
            "|Ina Moran      |26/10/1983|35 |P.O. Box 929 4189 Nunc Road Lebanon KY              |69409  |(389) 737-2852|101|67 |\n",
            "|Aaron Hawkins  |26/09/2009|9  |5587 Nunc. Avenue Erie Rhode Island                 |24975  |(660) 663-4518|87 |81 |\n",
            "|Hedy Greene    |03/10/1920|98 |Ap #696-3279 Viverra. Avenue Latrobe DE             |38100  |(608) 265-2215|128|123|\n",
            "|Melvin Porter  |14/08/1911|107|P.O. Box 132 1599 Curabitur Rd. Bandera South Dakota|45149  |(959) 119-8364|83 |43 |\n",
            "|Keefe Sellers  |16/05/1937|81 |347-7666 Iaculis St. Woodruff SC                    |49854  |(468) 353-2641|148|109|\n",
            "|Joan Romero    |08/12/2004|14 |666-4366 Lacinia Avenue Idaho Falls Ohio            |19253  |(248) 675-4007|75 |53 |\n",
            "|Davis Patrick  |09/01/1956|63 |P.O. Box 147 2546 Sociosqu Rd. Bethlehem Utah       |2913   |(939) 353-1107|142|62 |\n",
            "|Leilani Boyer  |18/10/1934|84 |557-6308 Lacinia Road San Bernardino ND             |9289   |(570) 873-7090|137|48 |\n",
            "|Colby Bernard  |02/10/1905|113|Ap #285-7193 Ullamcorper Avenue Amesbury HI         |93373  |(302) 259-2375|84 |41 |\n",
            "+---------------+----------+---+----------------------------------------------------+-------+--------------+---+---+\n",
            "only showing top 20 rows\n",
            "\n"
          ]
        }
      ]
    },
    {
      "cell_type": "code",
      "source": [
        "df_pd= df.toPandas()\n",
        "df_pd.to_csv(\"deid_structured_data.csv\", index=False)"
      ],
      "metadata": {
        "id": "OKp92mbyFrCz"
      },
      "id": "OKp92mbyFrCz",
      "execution_count": null,
      "outputs": []
    },
    {
      "cell_type": "markdown",
      "id": "bfc841f6-4bc8-4a7c-9cf4-fc32f17afd67",
      "metadata": {
        "id": "bfc841f6-4bc8-4a7c-9cf4-fc32f17afd67"
      },
      "source": [
        "## Default parameters"
      ]
    },
    {
      "cell_type": "code",
      "execution_count": null,
      "id": "91dd6ea7-622d-45b6-aa7a-cb81febb6b3e",
      "metadata": {
        "id": "91dd6ea7-622d-45b6-aa7a-cb81febb6b3e",
        "outputId": "022be25d-b7b4-4c52-daf0-6a1ad1f44110",
        "colab": {
          "base_uri": "https://localhost:8080/"
        }
      },
      "outputs": [
        {
          "output_type": "stream",
          "name": "stdout",
          "text": [
            "Deidentifcation successfully completed and the results saved as 'deidentified.csv' !\n"
          ]
        }
      ],
      "source": [
        "res= deid_implementor.structured_deidentifier(input_file_path=\"deid_structured_data.csv\")"
      ]
    },
    {
      "cell_type": "code",
      "execution_count": null,
      "id": "2fb6a2d1-eec5-472a-bdff-5e08f31eb076",
      "metadata": {
        "id": "2fb6a2d1-eec5-472a-bdff-5e08f31eb076",
        "outputId": "9e21a20e-4d91-4c12-a683-50962513cb47",
        "colab": {
          "base_uri": "https://localhost:8080/"
        }
      },
      "outputs": [
        {
          "output_type": "stream",
          "name": "stdout",
          "text": [
            "+-----------------+----------+----+--------------------+-------+--------------+---+---+\n",
            "|             NAME|       DOB| AGE|             ADDRESS|ZIPCODE|           TEL|SBP|DBP|\n",
            "+-----------------+----------+----+--------------------+-------+--------------+---+---+\n",
            "|     [Angela Guy]|04/02/1935|[60]|711-2880 Nulla St...|  69200|(257) 563-7401|101| 42|\n",
            "| [Lynnie Infield]|03/10/2009| [8]|P.O. Box 283 8562...|  20620|(372) 587-2335|159|122|\n",
            "|  [Crawford Noon]|11/01/1921|[60]|5543 Aliquet St. ...|  20783|(717) 450-4729|149| 52|\n",
            "|[Hiawatha Border]|13/02/2002|[18]|Ap #867-859 Sit R...|  39531|(793) 151-6230|134|115|\n",
            "|     [Elon Pitts]|20/08/1942|[60]|7292 Dictum Av. S...|  47096|(492) 709-6392|139| 78|\n",
            "|    [Palma Sours]|12/05/1973|[42]|Ap #651-8679 Soda...|  10855|(654) 393-5734|120|112|\n",
            "|  [Juline Citrin]|11/01/1991|[20]|191-103 Integer R...|   8219|(404) 960-3807|143|126|\n",
            "|  [Josiah Stamps]|18/11/1937|[60]|P.O. Box 887 2508...|  12482|(314) 244-6306|147| 75|\n",
            "| [Augustina Song]|12/05/1980|[21]|606-3727 Ullamcor...|  11523|(786) 713-8616|147|123|\n",
            "|  [Lindbergh Fey]|24/09/1956|[60]|511-5762 At Rd. C...|  67708|(947) 278-5929|129| 50|\n",
            "| [Hillary Spring]|26/12/1906|[60]|935-9940 Tortor. ...|  98804|(684) 579-1879|133|102|\n",
            "|     [Barth Kyle]|26/10/1983|[39]|P.O. Box 929 4189...|  69409|(389) 737-2852|101| 67|\n",
            "|       [Luke Jay]|26/09/2009| [8]|5587 Nunc. Avenue...|  24975|(660) 663-4518| 87| 81|\n",
            "|     [Ariel Null]|03/10/1920|[60]|Ap #696-3279 Vive...|  38100|(608) 265-2215|128|123|\n",
            "|    [Cheron Chow]|14/08/1911|[60]|P.O. Box 132 1599...|  45149|(959) 119-8364| 83| 43|\n",
            "|    [Julian Barb]|16/05/1937|[60]|347-7666 Iaculis ...|  49854|(468) 353-2641|148|109|\n",
            "|[Gasper Mcgregor]|08/12/2004|[16]|666-4366 Lacinia ...|  19253|(248) 675-4007| 75| 53|\n",
            "|     [Sallie Neu]|09/01/1956|[60]|P.O. Box 147 2546...|   2913|(939) 353-1107|142| 62|\n",
            "|    [Sharon Dear]|18/10/1934|[60]|557-6308 Lacinia ...|   9289|(570) 873-7090|137| 48|\n",
            "| [Glennda Gasser]|02/10/1905|[60]|Ap #285-7193 Ulla...|  93373|(302) 259-2375| 84| 41|\n",
            "+-----------------+----------+----+--------------------+-------+--------------+---+---+\n",
            "only showing top 20 rows\n",
            "\n"
          ]
        }
      ],
      "source": [
        "res.show()"
      ]
    },
    {
      "cell_type": "markdown",
      "id": "aba6745f-a6e5-455a-a4b3-6cd334514242",
      "metadata": {
        "id": "aba6745f-a6e5-455a-a4b3-6cd334514242"
      },
      "source": [
        "## ref_source=File"
      ]
    },
    {
      "cell_type": "code",
      "source": [
        "obfuscator_unique_ref_test = '''Will Perry#PATIENT\n",
        "John Smith#PATIENT\n",
        "Marvin MARSHALL#PATIENT\n",
        "Hubert GROGAN#PATIENT\n",
        "ALTHEA COLBURN#PATIENT\n",
        "Kalil AMIN#PATIENT\n",
        "Inci FOUNTAIN#PATIENT\n",
        "Jackson WILLE#PATIENT\n",
        "Jack SANTOS#PATIENT\n",
        "Mahmood ALBURN#PATIENT\n",
        "Marnie MELINGTON#PATIENT\n",
        "Aysha GHAZI#PATIENT\n",
        "Maryland CODER#PATIENT\n",
        "Darene GEORGIOUS#PATIENT\n",
        "Shelly WELLBECK#PATIENT\n",
        "Min Kun JAE#PATIENT\n",
        "Thomson THOMAS#PATIENT\n",
        "Christian SUDDINBURG#PATIENT\n",
        "Aberdeen#CITY\n",
        "Louisburg St#STREET\n",
        "France#LOC\n",
        "Nick Riviera#DOCTOR\n",
        "5552312#PHONE\n",
        "St James Hospital#HOSPITAL\n",
        "Calle del Libertador#ADDRESS\n",
        "111#ID\n",
        "Will#DOCTOR\n",
        "20#AGE\n",
        "30#AGE\n",
        "40#AGE\n",
        "50#AGE\n",
        "60#AGE\n",
        "'''\n",
        "\n",
        "with open('obfuscator_unique_ref_test.txt', 'w') as f:\n",
        "  f.write(obfuscator_unique_ref_test)"
      ],
      "metadata": {
        "id": "nq4Ow6jvGEHB"
      },
      "id": "nq4Ow6jvGEHB",
      "execution_count": null,
      "outputs": []
    },
    {
      "cell_type": "code",
      "execution_count": null,
      "id": "0c365708-8870-47c8-87e1-50bd72e3741e",
      "metadata": {
        "id": "0c365708-8870-47c8-87e1-50bd72e3741e",
        "outputId": "7ee9f130-1bfe-4d1d-a57f-053b3a7a4018",
        "colab": {
          "base_uri": "https://localhost:8080/"
        }
      },
      "outputs": [
        {
          "output_type": "stream",
          "name": "stdout",
          "text": [
            "Deidentifcation successfully completed and the results saved as 'deidentified.csv' !\n"
          ]
        }
      ],
      "source": [
        "res= deid_implementor.structured_deidentifier(input_file_path= \"deid_structured_data.csv\",\n",
        "                                              ref_source=\"file\", \n",
        "                                              columns_dict={'NAME': 'PATIENT', 'AGE': 'AGE'},\n",
        "                                              columns_seed={\"NAME\": 23, \"AGE\": 23}, \n",
        "                                              obfuscateRefFile=\"obfuscator_unique_ref_test.txt\")"
      ]
    },
    {
      "cell_type": "code",
      "execution_count": null,
      "id": "03f4fc62-d513-42ab-8d41-22bf59136040",
      "metadata": {
        "id": "03f4fc62-d513-42ab-8d41-22bf59136040",
        "outputId": "33ff4eaa-32b3-48c5-ba47-4600340971db",
        "colab": {
          "base_uri": "https://localhost:8080/"
        }
      },
      "outputs": [
        {
          "output_type": "stream",
          "name": "stdout",
          "text": [
            "+------------------+----------+----+--------------------+-------+--------------+---+---+\n",
            "|              NAME|       DOB| AGE|             ADDRESS|ZIPCODE|           TEL|SBP|DBP|\n",
            "+------------------+----------+----+--------------------+-------+--------------+---+---+\n",
            "|   [Inci FOUNTAIN]|04/02/1935|[60]|711-2880 Nulla St...|  69200|(257) 563-7401|101| 42|\n",
            "|     [Jack SANTOS]|03/10/2009|[30]|P.O. Box 283 8562...|  20620|(372) 587-2335|159|122|\n",
            "|[Darene GEORGIOUS]|11/01/1921|[30]|5543 Aliquet St. ...|  20783|(717) 450-4729|149| 52|\n",
            "| [Shelly WELLBECK]|13/02/2002|[40]|Ap #867-859 Sit R...|  39531|(793) 151-6230|134|115|\n",
            "|   [Hubert GROGAN]|20/08/1942|[40]|7292 Dictum Av. S...|  47096|(492) 709-6392|139| 78|\n",
            "|      [Kalil AMIN]|12/05/1973|[40]|Ap #651-8679 Soda...|  10855|(654) 393-5734|120|112|\n",
            "|  [ALTHEA COLBURN]|11/01/1991|[60]|191-103 Integer R...|   8219|(404) 960-3807|143|126|\n",
            "|  [Thomson THOMAS]|18/11/1937|[60]|P.O. Box 887 2508...|  12482|(314) 244-6306|147| 75|\n",
            "|     [Jack SANTOS]|12/05/1980|[60]|606-3727 Ullamcor...|  11523|(786) 713-8616|147|123|\n",
            "|      [Will Perry]|24/09/1956|[20]|511-5762 At Rd. C...|  67708|(947) 278-5929|129| 50|\n",
            "|   [Jackson WILLE]|26/12/1906|[60]|935-9940 Tortor. ...|  98804|(684) 579-1879|133|102|\n",
            "| [Shelly WELLBECK]|26/10/1983|[40]|P.O. Box 929 4189...|  69409|(389) 737-2852|101| 67|\n",
            "|      [Kalil AMIN]|26/09/2009|[30]|5587 Nunc. Avenue...|  24975|(660) 663-4518| 87| 81|\n",
            "|[Marnie MELINGTON]|03/10/1920|[30]|Ap #696-3279 Vive...|  38100|(608) 265-2215|128|123|\n",
            "|     [Min Kun JAE]|14/08/1911|[30]|P.O. Box 132 1599...|  45149|(959) 119-8364| 83| 43|\n",
            "| [Marvin MARSHALL]|16/05/1937|[60]|347-7666 Iaculis ...|  49854|(468) 353-2641|148|109|\n",
            "| [Marvin MARSHALL]|08/12/2004|[50]|666-4366 Lacinia ...|  19253|(248) 675-4007| 75| 53|\n",
            "|     [Min Kun JAE]|09/01/1956|[30]|P.O. Box 147 2546...|   2913|(939) 353-1107|142| 62|\n",
            "|  [Maryland CODER]|18/10/1934|[20]|557-6308 Lacinia ...|   9289|(570) 873-7090|137| 48|\n",
            "|[Marnie MELINGTON]|02/10/1905|[20]|Ap #285-7193 Ulla...|  93373|(302) 259-2375| 84| 41|\n",
            "+------------------+----------+----+--------------------+-------+--------------+---+---+\n",
            "only showing top 20 rows\n",
            "\n"
          ]
        }
      ],
      "source": [
        "res.show()"
      ]
    },
    {
      "cell_type": "markdown",
      "id": "48155ef4-fe14-4372-8d2b-9cda5086acc2",
      "metadata": {
        "id": "48155ef4-fe14-4372-8d2b-9cda5086acc2"
      },
      "source": [
        "## shift days"
      ]
    },
    {
      "cell_type": "code",
      "execution_count": null,
      "id": "01cef8d9-982f-41f3-91a6-2808942b267d",
      "metadata": {
        "id": "01cef8d9-982f-41f3-91a6-2808942b267d",
        "outputId": "11183684-90a9-4b7b-c2b0-a572063a5d4c",
        "colab": {
          "base_uri": "https://localhost:8080/",
          "height": 142
        }
      },
      "outputs": [
        {
          "output_type": "execute_result",
          "data": {
            "text/plain": [
              "            NAME         DOB                  ADDRESS  SBP               TEL\n",
              "0    Juan García  13/02/1977            711 Nulla St.  140        673 431234\n",
              "1     Will Smith  23/02/1977          1 Green Avenue.  140  +23 (673) 431234\n",
              "2  Pedro Ximénez  11/04/1900  Calle del Libertador, 7  100        912 345623"
            ],
            "text/html": [
              "\n",
              "  <div id=\"df-c038b441-be9d-4373-b1b1-aa9060a36056\">\n",
              "    <div class=\"colab-df-container\">\n",
              "      <div>\n",
              "<style scoped>\n",
              "    .dataframe tbody tr th:only-of-type {\n",
              "        vertical-align: middle;\n",
              "    }\n",
              "\n",
              "    .dataframe tbody tr th {\n",
              "        vertical-align: top;\n",
              "    }\n",
              "\n",
              "    .dataframe thead th {\n",
              "        text-align: right;\n",
              "    }\n",
              "</style>\n",
              "<table border=\"1\" class=\"dataframe\">\n",
              "  <thead>\n",
              "    <tr style=\"text-align: right;\">\n",
              "      <th></th>\n",
              "      <th>NAME</th>\n",
              "      <th>DOB</th>\n",
              "      <th>ADDRESS</th>\n",
              "      <th>SBP</th>\n",
              "      <th>TEL</th>\n",
              "    </tr>\n",
              "  </thead>\n",
              "  <tbody>\n",
              "    <tr>\n",
              "      <th>0</th>\n",
              "      <td>Juan García</td>\n",
              "      <td>13/02/1977</td>\n",
              "      <td>711 Nulla St.</td>\n",
              "      <td>140</td>\n",
              "      <td>673 431234</td>\n",
              "    </tr>\n",
              "    <tr>\n",
              "      <th>1</th>\n",
              "      <td>Will Smith</td>\n",
              "      <td>23/02/1977</td>\n",
              "      <td>1 Green Avenue.</td>\n",
              "      <td>140</td>\n",
              "      <td>+23 (673) 431234</td>\n",
              "    </tr>\n",
              "    <tr>\n",
              "      <th>2</th>\n",
              "      <td>Pedro Ximénez</td>\n",
              "      <td>11/04/1900</td>\n",
              "      <td>Calle del Libertador, 7</td>\n",
              "      <td>100</td>\n",
              "      <td>912 345623</td>\n",
              "    </tr>\n",
              "  </tbody>\n",
              "</table>\n",
              "</div>\n",
              "      <button class=\"colab-df-convert\" onclick=\"convertToInteractive('df-c038b441-be9d-4373-b1b1-aa9060a36056')\"\n",
              "              title=\"Convert this dataframe to an interactive table.\"\n",
              "              style=\"display:none;\">\n",
              "        \n",
              "  <svg xmlns=\"http://www.w3.org/2000/svg\" height=\"24px\"viewBox=\"0 0 24 24\"\n",
              "       width=\"24px\">\n",
              "    <path d=\"M0 0h24v24H0V0z\" fill=\"none\"/>\n",
              "    <path d=\"M18.56 5.44l.94 2.06.94-2.06 2.06-.94-2.06-.94-.94-2.06-.94 2.06-2.06.94zm-11 1L8.5 8.5l.94-2.06 2.06-.94-2.06-.94L8.5 2.5l-.94 2.06-2.06.94zm10 10l.94 2.06.94-2.06 2.06-.94-2.06-.94-.94-2.06-.94 2.06-2.06.94z\"/><path d=\"M17.41 7.96l-1.37-1.37c-.4-.4-.92-.59-1.43-.59-.52 0-1.04.2-1.43.59L10.3 9.45l-7.72 7.72c-.78.78-.78 2.05 0 2.83L4 21.41c.39.39.9.59 1.41.59.51 0 1.02-.2 1.41-.59l7.78-7.78 2.81-2.81c.8-.78.8-2.07 0-2.86zM5.41 20L4 18.59l7.72-7.72 1.47 1.35L5.41 20z\"/>\n",
              "  </svg>\n",
              "      </button>\n",
              "      \n",
              "  <style>\n",
              "    .colab-df-container {\n",
              "      display:flex;\n",
              "      flex-wrap:wrap;\n",
              "      gap: 12px;\n",
              "    }\n",
              "\n",
              "    .colab-df-convert {\n",
              "      background-color: #E8F0FE;\n",
              "      border: none;\n",
              "      border-radius: 50%;\n",
              "      cursor: pointer;\n",
              "      display: none;\n",
              "      fill: #1967D2;\n",
              "      height: 32px;\n",
              "      padding: 0 0 0 0;\n",
              "      width: 32px;\n",
              "    }\n",
              "\n",
              "    .colab-df-convert:hover {\n",
              "      background-color: #E2EBFA;\n",
              "      box-shadow: 0px 1px 2px rgba(60, 64, 67, 0.3), 0px 1px 3px 1px rgba(60, 64, 67, 0.15);\n",
              "      fill: #174EA6;\n",
              "    }\n",
              "\n",
              "    [theme=dark] .colab-df-convert {\n",
              "      background-color: #3B4455;\n",
              "      fill: #D2E3FC;\n",
              "    }\n",
              "\n",
              "    [theme=dark] .colab-df-convert:hover {\n",
              "      background-color: #434B5C;\n",
              "      box-shadow: 0px 1px 3px 1px rgba(0, 0, 0, 0.15);\n",
              "      filter: drop-shadow(0px 1px 2px rgba(0, 0, 0, 0.3));\n",
              "      fill: #FFFFFF;\n",
              "    }\n",
              "  </style>\n",
              "\n",
              "      <script>\n",
              "        const buttonEl =\n",
              "          document.querySelector('#df-c038b441-be9d-4373-b1b1-aa9060a36056 button.colab-df-convert');\n",
              "        buttonEl.style.display =\n",
              "          google.colab.kernel.accessAllowed ? 'block' : 'none';\n",
              "\n",
              "        async function convertToInteractive(key) {\n",
              "          const element = document.querySelector('#df-c038b441-be9d-4373-b1b1-aa9060a36056');\n",
              "          const dataTable =\n",
              "            await google.colab.kernel.invokeFunction('convertToInteractive',\n",
              "                                                     [key], {});\n",
              "          if (!dataTable) return;\n",
              "\n",
              "          const docLinkHtml = 'Like what you see? Visit the ' +\n",
              "            '<a target=\"_blank\" href=https://colab.research.google.com/notebooks/data_table.ipynb>data table notebook</a>'\n",
              "            + ' to learn more about interactive tables.';\n",
              "          element.innerHTML = '';\n",
              "          dataTable['output_type'] = 'display_data';\n",
              "          await google.colab.output.renderOutput(dataTable, element);\n",
              "          const docLink = document.createElement('div');\n",
              "          docLink.innerHTML = docLinkHtml;\n",
              "          element.appendChild(docLink);\n",
              "        }\n",
              "      </script>\n",
              "    </div>\n",
              "  </div>\n",
              "  "
            ]
          },
          "metadata": {},
          "execution_count": 61
        }
      ],
      "source": [
        "# We can shift n days in the structured deidentification through \"days\" parameter when the column is a Date.\n",
        "\n",
        "df = spark.createDataFrame([\n",
        "            [\"Juan García\", \"13/02/1977\", \"711 Nulla St.\", \"140\", \"673 431234\"],\n",
        "            [\"Will Smith\", \"23/02/1977\", \"1 Green Avenue.\", \"140\", \"+23 (673) 431234\"],\n",
        "            [\"Pedro Ximénez\", \"11/04/1900\", \"Calle del Libertador, 7\", \"100\", \"912 345623\"]\n",
        "        ]).toDF(\"NAME\", \"DOB\", \"ADDRESS\", \"SBP\", \"TEL\")\n",
        "\n",
        "df_pd= df.toPandas()\n",
        "df_pd.to_csv(\"deid_dayshift_structured_data.csv\", index=False)\n",
        "df_pd.head()"
      ]
    },
    {
      "cell_type": "code",
      "execution_count": null,
      "id": "c4789c7e-410a-47c7-963b-b142ad4f69e6",
      "metadata": {
        "id": "c4789c7e-410a-47c7-963b-b142ad4f69e6",
        "outputId": "476849d1-ba8e-4928-89bb-d45092dcdb49",
        "colab": {
          "base_uri": "https://localhost:8080/"
        }
      },
      "outputs": [
        {
          "output_type": "stream",
          "name": "stdout",
          "text": [
            "Deidentifcation successfully completed and the results saved as 'deidentified.csv' !\n"
          ]
        }
      ],
      "source": [
        "res= deid_implementor.structured_deidentifier(input_file_path= \"deid_dayshift_structured_data.csv\",\n",
        "                                              columns_dict= {\"NAME\": \"ID\", \"DOB\": \"DATE\"},\n",
        "                                              columns_seed= {\"NAME\": 23, \"DOB\": 23},\n",
        "                                              ref_source=\"faker\",\n",
        "                                              shift_days= 5\n",
        "                                             )"
      ]
    },
    {
      "cell_type": "code",
      "execution_count": null,
      "id": "db013741-9710-415f-b1ef-b6870ed814cd",
      "metadata": {
        "id": "db013741-9710-415f-b1ef-b6870ed814cd",
        "outputId": "8c62d93a-ffbb-437e-a518-47605ce38c04"
      },
      "outputs": [
        {
          "name": "stdout",
          "output_type": "stream",
          "text": [
            "+----------+------------+--------------------+---+----------------+\n",
            "|      NAME|         DOB|             ADDRESS|SBP|             TEL|\n",
            "+----------+------------+--------------------+---+----------------+\n",
            "|[N2649912]|[18/02/1977]|       711 Nulla St.|140|      673 431234|\n",
            "| [W466004]|[28/02/1977]|     1 Green Avenue.|140|+23 (673) 431234|\n",
            "| [M403810]|[16/04/1900]|Calle del Liberta...|100|      912 345623|\n",
            "+----------+------------+--------------------+---+----------------+\n",
            "\n"
          ]
        }
      ],
      "source": [
        "res.show()"
      ]
    }
  ],
  "metadata": {
    "kernelspec": {
      "display_name": "aet-base-work-python3",
      "language": "python",
      "name": "aet-base-work"
    },
    "language_info": {
      "codemirror_mode": {
        "name": "ipython",
        "version": 3
      },
      "file_extension": ".py",
      "mimetype": "text/x-python",
      "name": "python",
      "nbconvert_exporter": "python",
      "pygments_lexer": "ipython3",
      "version": "3.8.13"
    },
    "toc-autonumbering": true,
    "colab": {
      "provenance": [],
      "toc_visible": true
    }
  },
  "nbformat": 4,
  "nbformat_minor": 5
}
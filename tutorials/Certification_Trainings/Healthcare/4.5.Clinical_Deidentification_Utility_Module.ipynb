{
  "cells": [
    {
      "cell_type": "markdown",
      "source": [
        "![JohnSnowLabs](https://nlp.johnsnowlabs.com/assets/images/logo.png)"
      ],
      "metadata": {
        "id": "uaBopjb7IIuk"
      },
      "id": "uaBopjb7IIuk"
    },
    {
      "cell_type": "markdown",
      "source": [
        "[![Open In Colab](https://colab.research.google.com/assets/colab-badge.svg)](https://colab.research.google.com/github/JohnSnowLabs/spark-nlp-workshop/blob/master/tutorials/Certification_Trainings/Healthcare/4.5.Clinical_Deidentification_Utility_Module.ipynb)"
      ],
      "metadata": {
        "id": "bbyFtQSnIKLp"
      },
      "id": "bbyFtQSnIKLp"
    },
    {
      "cell_type": "markdown",
      "source": [
        "# Setup"
      ],
      "metadata": {
        "id": "bY2Jon7aKGDy"
      },
      "id": "bY2Jon7aKGDy"
    },
    {
      "cell_type": "code",
      "execution_count": null,
      "id": "2f228566-f761-4e7c-a1d5-871fa76a367c",
      "metadata": {
        "scrolled": true,
        "tags": [],
        "id": "2f228566-f761-4e7c-a1d5-871fa76a367c"
      },
      "outputs": [],
      "source": [
        "import json\n",
        "import os\n",
        "\n",
        "from google.colab import files\n",
        "\n",
        "license_keys = files.upload()\n",
        "\n",
        "with open(list(license_keys.keys())[0]) as f:\n",
        "    license_keys = json.load(f)\n",
        "\n",
        "# Defining license key-value pairs as local variables\n",
        "locals().update(license_keys)\n",
        "\n",
        "# Adding license key-value pairs to environment variables\n",
        "os.environ.update(license_keys)"
      ]
    },
    {
      "cell_type": "code",
      "source": [
        "# Installing pyspark and spark-nlp\n",
        "! pip install --upgrade -q pyspark==3.1.2 spark-nlp==$PUBLIC_VERSION\n",
        "\n",
        "# Installing Spark NLP Healthcare\n",
        "! pip install --upgrade -q spark-nlp-jsl==$JSL_VERSION  --extra-index-url https://pypi.johnsnowlabs.com/$SECRET\n",
        "\n",
        "# Installing Spark NLP Display Library for visualization\n",
        "! pip install --upgrade -q spark-nlp-display"
      ],
      "metadata": {
        "id": "QyF_E869SE9X"
      },
      "id": "QyF_E869SE9X",
      "execution_count": null,
      "outputs": []
    },
    {
      "cell_type": "code",
      "source": [
        "import json\n",
        "import os\n",
        "from pyspark.ml import Pipeline, PipelineModel\n",
        "from pyspark.sql import SparkSession\n",
        "from pyspark.sql import functions as F\n",
        "\n",
        "from sparknlp.annotator import *\n",
        "from sparknlp_jsl.annotator import *\n",
        "from sparknlp.base import *\n",
        "import sparknlp_jsl\n",
        "import sparknlp\n",
        "import pandas as pd\n",
        "\n",
        "import warnings\n",
        "warnings.filterwarnings('ignore')\n",
        "\n",
        "params = {\"spark.driver.memory\":\"16G\", \n",
        "          \"spark.kryoserializer.buffer.max\":\"2000M\", \n",
        "          \"spark.driver.maxResultSize\":\"2000M\"} \n",
        "\n",
        "print (\"Spark NLP Version :\", sparknlp.version())\n",
        "print (\"Spark NLP_JSL Version :\", sparknlp_jsl.version())\n",
        "\n",
        "\n",
        "spark = sparknlp_jsl.start(license_keys['SECRET'],params=params)\n",
        "\n",
        "spark"
      ],
      "metadata": {
        "colab": {
          "base_uri": "https://localhost:8080/",
          "height": 250
        },
        "id": "lkEtzMchSHnH",
        "outputId": "d96ac06b-0416-4e55-cdcb-cd8793289c82"
      },
      "id": "lkEtzMchSHnH",
      "execution_count": 3,
      "outputs": [
        {
          "output_type": "stream",
          "name": "stdout",
          "text": [
            "Spark NLP Version : 4.3.0\n",
            "Spark NLP_JSL Version : 4.3.0\n"
          ]
        },
        {
          "output_type": "execute_result",
          "data": {
            "text/plain": [
              "<pyspark.sql.session.SparkSession at 0x7f95d139c1c0>"
            ],
            "text/html": [
              "\n",
              "            <div>\n",
              "                <p><b>SparkSession - in-memory</b></p>\n",
              "                \n",
              "        <div>\n",
              "            <p><b>SparkContext</b></p>\n",
              "\n",
              "            <p><a href=\"http://f69d9536dee0:4040\">Spark UI</a></p>\n",
              "\n",
              "            <dl>\n",
              "              <dt>Version</dt>\n",
              "                <dd><code>v3.1.2</code></dd>\n",
              "              <dt>Master</dt>\n",
              "                <dd><code>local[*]</code></dd>\n",
              "              <dt>AppName</dt>\n",
              "                <dd><code>Spark NLP Licensed</code></dd>\n",
              "            </dl>\n",
              "        </div>\n",
              "        \n",
              "            </div>\n",
              "        "
            ]
          },
          "metadata": {},
          "execution_count": 3
        }
      ]
    },
    {
      "cell_type": "markdown",
      "source": [
        "# Module"
      ],
      "metadata": {
        "id": "Gp7HROWvKJAW"
      },
      "id": "Gp7HROWvKJAW"
    },
    {
      "cell_type": "markdown",
      "source": [
        "Description of Parameters: <br/>\n",
        "\n",
        "\n",
        "---\n",
        "\n",
        "\n",
        "\n",
        "---\n",
        "\n",
        "\n",
        "`custom_pipeline` : Sparknlp PipelineModel, optional\n",
        "            custom PipelineModel to be used for deidentification, by default None <br/>\n",
        "        `ner_chunk` : str, optional\n",
        "            final chunk column name of custom pipeline that will be deidentified, by default \"ner_chunk\" <br/>\n",
        "        `fields` : dict, optional\n",
        "            fields to be deidentified and their deidentification modes, by default {\"text\": \"mask\"} <br/>\n",
        "        `sentence` : str, optional\n",
        "            sentence column name of the given custom pipeline, by default \"sentence\" <br/>\n",
        "        `token` : str, optional\n",
        "            token column name of the given custom pipeline, by default \"token\" <br/>\n",
        "        `document` : str, optional\n",
        "            document column name of the given custom pipeline, by default \"document\" <br/>\n",
        "        `masking_policy` : str, optional\n",
        "            masking policy, by default \"entity_labels\" <br/>\n",
        "        `fixed_mask_length` : int, optional\n",
        "            fixed mask length, by default 4 <br/>\n",
        "        `obfuscate_date` : bool, optional\n",
        "            obfuscate date, by default True <br/>\n",
        "        `obfuscate_ref_source` : str, optional\n",
        "            obfuscate reference source, by default \"faker\" <br/>\n",
        "        `obfuscate_ref_file_path` : str, optional\n",
        "            obfuscate reference file path, by default None <br/>\n",
        "        `age_group_obfuscation` : bool, optional\n",
        "            age group obfuscation, by default False <br/>\n",
        "        `age_ranges` : list, optional\n",
        "            age ranges for obfuscation, by default [1, 4, 12, 20, 40, 60, 80] <br/>\n",
        "        `shift_days` : bool, optional\n",
        "            shift days, by default False <br/>\n",
        "        `number_of_days` : int, optional\n",
        "            number of days, by default None <br/>\n",
        "        `documentHashCoder_col_name` : str, optional\n",
        "            document hash coder column name, by default \"documentHash\" <br/>\n",
        "        `date_tag` : str, optional\n",
        "            date tag, by default \"DATE\" <br/>\n",
        "        `language` : str, optional\n",
        "            language, by default \"en\" <br/>\n",
        "        `region` : str, optional\n",
        "            region, by default \"us\" <br/>\n",
        "        `unnormalized_date` : bool, optional\n",
        "            unnormalized date, by default False <br/>\n",
        "        `unnormalized_mode` : str, optional\n",
        "            unnormalized mode, by default \"mask\" <br/>\n",
        "        `id_column_name` : str, optional\n",
        "            ID column name, by default \"id\" <br/>\n",
        "        `date_shift_column_name` : str, optional\n",
        "            date shift column name, by default \"date_shift\" <br/>\n",
        "        `separator` : str, optional\n",
        "            separator of input csv file, by default \"\\t\" <br/> \n",
        "        `input_file_path` : str, optional\n",
        "            input file path, by default None <br/>\n",
        "        `output_file_path` : str, optional\n",
        "            output file path, by default 'deidentified.csv'"
      ],
      "metadata": {
        "id": "TXG4aUNnNaiD"
      },
      "id": "TXG4aUNnNaiD"
    },
    {
      "cell_type": "markdown",
      "source": [
        "Returns\n",
        "\n",
        "\n",
        "---\n",
        "\n",
        "Spark DataFrame: Spark DataFrame with deidentified text <br/>\n",
        "csv/json file: A deidentified file."
      ],
      "metadata": {
        "id": "k1VfjOE3QILp"
      },
      "id": "k1VfjOE3QILp"
    },
    {
      "cell_type": "code",
      "execution_count": 4,
      "id": "aa341709-5099-41ae-b93a-7981d3d4be20",
      "metadata": {
        "id": "aa341709-5099-41ae-b93a-7981d3d4be20"
      },
      "outputs": [],
      "source": [
        "#sample data\n",
        "text ='''\n",
        "Record date : 2093-01-13 , David Hale , M.D . , Name : Hendrickson Ora , MR # 7194334 Date : 01/13/93 . PCP : Oliveira , 25 years-old , Record date : 2079-11-09 . Cocke County Baptist Hospital , 0295 Keats Street , Phone 55-555-5555 .\n",
        "'''\n",
        "\n",
        "df= spark.createDataFrame([[text]]).toDF(\"text\")"
      ]
    },
    {
      "cell_type": "code",
      "source": [
        "df_pd= df.toPandas()\n",
        "df_pd.to_csv(\"deid_data.csv\", index=False)"
      ],
      "metadata": {
        "id": "3x88tenHPiLo"
      },
      "id": "3x88tenHPiLo",
      "execution_count": 5,
      "outputs": []
    },
    {
      "cell_type": "markdown",
      "id": "c0aca490-e7b3-4c0e-b4ad-efb7d682a327",
      "metadata": {
        "id": "c0aca490-e7b3-4c0e-b4ad-efb7d682a327"
      },
      "source": [
        "# With a custom pipeline"
      ]
    },
    {
      "cell_type": "markdown",
      "source": [
        "Sample custom pipeline with `ner_deid_generic_augmented` to detect PHI entities. "
      ],
      "metadata": {
        "id": "amaNuzMdLhyV"
      },
      "id": "amaNuzMdLhyV"
    },
    {
      "cell_type": "code",
      "execution_count": 6,
      "id": "69201fae-274f-4d5e-99c8-24985e5feba0",
      "metadata": {
        "scrolled": true,
        "tags": [],
        "id": "69201fae-274f-4d5e-99c8-24985e5feba0",
        "outputId": "7df41b08-68c5-41d2-a399-4e16299481ee",
        "colab": {
          "base_uri": "https://localhost:8080/"
        }
      },
      "outputs": [
        {
          "output_type": "stream",
          "name": "stdout",
          "text": [
            "embeddings_clinical download started this may take some time.\n",
            "Approximate size to download 1.6 GB\n",
            "[OK!]\n",
            "ner_deid_generic_augmented download started this may take some time.\n",
            "[OK!]\n"
          ]
        }
      ],
      "source": [
        "documentAssembler = DocumentAssembler()\\\n",
        "    .setInputCol(\"text\")\\\n",
        "    .setOutputCol(\"document\")\n",
        "\n",
        "sentenceDetector = SentenceDetector()\\\n",
        "    .setInputCols([\"document\"])\\\n",
        "    .setOutputCol(\"sentence\")\n",
        "\n",
        "tokenizer = Tokenizer()\\\n",
        "    .setInputCols([\"sentence\"])\\\n",
        "    .setOutputCol(\"token\")\n",
        "\n",
        "word_embeddings = WordEmbeddingsModel.pretrained(\"embeddings_clinical\", \"en\", \"clinical/models\")\\\n",
        "    .setInputCols([\"sentence\", \"token\"])\\\n",
        "    .setOutputCol(\"embeddings\")\n",
        "\n",
        "deid_ner = MedicalNerModel.pretrained(\"ner_deid_generic_augmented\", \"en\", \"clinical/models\") \\\n",
        "    .setInputCols([\"sentence\", \"token\", \"embeddings\"]) \\\n",
        "    .setOutputCol(\"ner\")\n",
        "\n",
        "ner_converter = NerConverterInternal()\\\n",
        "    .setInputCols([\"sentence\", \"token\", \"ner\"])\\\n",
        "    .setOutputCol(\"ner_chunk\")\\\n",
        "    .setWhiteList(['NAME', 'PROFESSION', 'ID', 'AGE', 'DATE'])\n",
        "\n",
        "nlpPipeline = Pipeline(stages=[\n",
        "      documentAssembler, \n",
        "      sentenceDetector,\n",
        "      tokenizer,\n",
        "      word_embeddings,\n",
        "      deid_ner,\n",
        "      ner_converter])\n",
        "\n",
        "empty_data = spark.createDataFrame([[\"\"]]).toDF(\"text\")\n",
        "\n",
        "model= nlpPipeline.fit(empty_data)"
      ]
    },
    {
      "cell_type": "markdown",
      "source": [
        "## Default parameters"
      ],
      "metadata": {
        "id": "Xxf8EYe-MmbA"
      },
      "id": "Xxf8EYe-MmbA"
    },
    {
      "cell_type": "code",
      "source": [
        "from sparknlp_jsl import Deid"
      ],
      "metadata": {
        "id": "fHRG56LRxfmO"
      },
      "id": "fHRG56LRxfmO",
      "execution_count": 7,
      "outputs": []
    },
    {
      "cell_type": "code",
      "source": [
        "# we need to feed the module with an active spark session\n",
        "deid_implementor= Deid(spark)"
      ],
      "metadata": {
        "id": "yK-ddxprM4oz"
      },
      "id": "yK-ddxprM4oz",
      "execution_count": 8,
      "outputs": []
    },
    {
      "cell_type": "code",
      "source": [
        "res= deid_implementor.deidentify(input_file_path=\"deid_data.csv\",\n",
        "                                 output_file_path=\"deidentified.csv\", \n",
        "                                 custom_pipeline=model)"
      ],
      "metadata": {
        "colab": {
          "base_uri": "https://localhost:8080/"
        },
        "id": "qZozwnLVM4Pq",
        "outputId": "78cdb8a5-4421-48d4-e1b2-44ec29dc5961"
      },
      "id": "qZozwnLVM4Pq",
      "execution_count": 9,
      "outputs": [
        {
          "output_type": "stream",
          "name": "stdout",
          "text": [
            "Deidentification process of the 'text' field has begun...\n",
            "Deidentification process of the 'text' field was completed...\n",
            "Deidentifcation successfully completed and the results saved as 'deidentified.csv' !\n"
          ]
        }
      ]
    },
    {
      "cell_type": "code",
      "source": [
        "res.show(truncate=70)"
      ],
      "metadata": {
        "id": "v_tr4YZpMlql",
        "colab": {
          "base_uri": "https://localhost:8080/"
        },
        "outputId": "a6d28692-e2c1-47a4-c6a8-8b949ec7d3e4"
      },
      "id": "v_tr4YZpMlql",
      "execution_count": 10,
      "outputs": [
        {
          "output_type": "stream",
          "name": "stdout",
          "text": [
            "+---+----------------------------------------------------------------------+----------------------------------------------------------------------+\n",
            "| ID|                                                                  text|                                                     text_deidentified|\n",
            "+---+----------------------------------------------------------------------+----------------------------------------------------------------------+\n",
            "|  0|                                                                     \"|                                                                     \"|\n",
            "|  1|Record date : 2093-01-13 , David Hale , M.D . , Name : Hendrickson ...|Record date : <DATE> , <NAME> , M.D . , Name : <NAME> , MR # <ID> D...|\n",
            "|  2|                                                                     \"|                                                                     \"|\n",
            "+---+----------------------------------------------------------------------+----------------------------------------------------------------------+\n",
            "\n"
          ]
        }
      ]
    },
    {
      "cell_type": "code",
      "source": [
        "#checking saved output file\n",
        "import pandas as pd\n",
        "res_data= pd.read_csv(\"deidentified.csv\")\n",
        "res_data.head()"
      ],
      "metadata": {
        "id": "FeoeISmMRFny",
        "colab": {
          "base_uri": "https://localhost:8080/",
          "height": 142
        },
        "outputId": "db89f9eb-88d3-4fc3-8a42-6fa02424699a"
      },
      "id": "FeoeISmMRFny",
      "execution_count": 11,
      "outputs": [
        {
          "output_type": "execute_result",
          "data": {
            "text/plain": [
              "   ID                                               text  \\\n",
              "0   0                                                  \"   \n",
              "1   1  Record date : 2093-01-13 , David Hale , M.D . ...   \n",
              "2   2                                                  \"   \n",
              "\n",
              "                                   text_deidentified  \n",
              "0                                                  \"  \n",
              "1  Record date : <DATE> , <NAME> , M.D . , Name :...  \n",
              "2                                                  \"  "
            ],
            "text/html": [
              "\n",
              "  <div id=\"df-be0e8f33-7201-4442-8f52-1a0923d1d877\">\n",
              "    <div class=\"colab-df-container\">\n",
              "      <div>\n",
              "<style scoped>\n",
              "    .dataframe tbody tr th:only-of-type {\n",
              "        vertical-align: middle;\n",
              "    }\n",
              "\n",
              "    .dataframe tbody tr th {\n",
              "        vertical-align: top;\n",
              "    }\n",
              "\n",
              "    .dataframe thead th {\n",
              "        text-align: right;\n",
              "    }\n",
              "</style>\n",
              "<table border=\"1\" class=\"dataframe\">\n",
              "  <thead>\n",
              "    <tr style=\"text-align: right;\">\n",
              "      <th></th>\n",
              "      <th>ID</th>\n",
              "      <th>text</th>\n",
              "      <th>text_deidentified</th>\n",
              "    </tr>\n",
              "  </thead>\n",
              "  <tbody>\n",
              "    <tr>\n",
              "      <th>0</th>\n",
              "      <td>0</td>\n",
              "      <td>\"</td>\n",
              "      <td>\"</td>\n",
              "    </tr>\n",
              "    <tr>\n",
              "      <th>1</th>\n",
              "      <td>1</td>\n",
              "      <td>Record date : 2093-01-13 , David Hale , M.D . ...</td>\n",
              "      <td>Record date : &lt;DATE&gt; , &lt;NAME&gt; , M.D . , Name :...</td>\n",
              "    </tr>\n",
              "    <tr>\n",
              "      <th>2</th>\n",
              "      <td>2</td>\n",
              "      <td>\"</td>\n",
              "      <td>\"</td>\n",
              "    </tr>\n",
              "  </tbody>\n",
              "</table>\n",
              "</div>\n",
              "      <button class=\"colab-df-convert\" onclick=\"convertToInteractive('df-be0e8f33-7201-4442-8f52-1a0923d1d877')\"\n",
              "              title=\"Convert this dataframe to an interactive table.\"\n",
              "              style=\"display:none;\">\n",
              "        \n",
              "  <svg xmlns=\"http://www.w3.org/2000/svg\" height=\"24px\"viewBox=\"0 0 24 24\"\n",
              "       width=\"24px\">\n",
              "    <path d=\"M0 0h24v24H0V0z\" fill=\"none\"/>\n",
              "    <path d=\"M18.56 5.44l.94 2.06.94-2.06 2.06-.94-2.06-.94-.94-2.06-.94 2.06-2.06.94zm-11 1L8.5 8.5l.94-2.06 2.06-.94-2.06-.94L8.5 2.5l-.94 2.06-2.06.94zm10 10l.94 2.06.94-2.06 2.06-.94-2.06-.94-.94-2.06-.94 2.06-2.06.94z\"/><path d=\"M17.41 7.96l-1.37-1.37c-.4-.4-.92-.59-1.43-.59-.52 0-1.04.2-1.43.59L10.3 9.45l-7.72 7.72c-.78.78-.78 2.05 0 2.83L4 21.41c.39.39.9.59 1.41.59.51 0 1.02-.2 1.41-.59l7.78-7.78 2.81-2.81c.8-.78.8-2.07 0-2.86zM5.41 20L4 18.59l7.72-7.72 1.47 1.35L5.41 20z\"/>\n",
              "  </svg>\n",
              "      </button>\n",
              "      \n",
              "  <style>\n",
              "    .colab-df-container {\n",
              "      display:flex;\n",
              "      flex-wrap:wrap;\n",
              "      gap: 12px;\n",
              "    }\n",
              "\n",
              "    .colab-df-convert {\n",
              "      background-color: #E8F0FE;\n",
              "      border: none;\n",
              "      border-radius: 50%;\n",
              "      cursor: pointer;\n",
              "      display: none;\n",
              "      fill: #1967D2;\n",
              "      height: 32px;\n",
              "      padding: 0 0 0 0;\n",
              "      width: 32px;\n",
              "    }\n",
              "\n",
              "    .colab-df-convert:hover {\n",
              "      background-color: #E2EBFA;\n",
              "      box-shadow: 0px 1px 2px rgba(60, 64, 67, 0.3), 0px 1px 3px 1px rgba(60, 64, 67, 0.15);\n",
              "      fill: #174EA6;\n",
              "    }\n",
              "\n",
              "    [theme=dark] .colab-df-convert {\n",
              "      background-color: #3B4455;\n",
              "      fill: #D2E3FC;\n",
              "    }\n",
              "\n",
              "    [theme=dark] .colab-df-convert:hover {\n",
              "      background-color: #434B5C;\n",
              "      box-shadow: 0px 1px 3px 1px rgba(0, 0, 0, 0.15);\n",
              "      filter: drop-shadow(0px 1px 2px rgba(0, 0, 0, 0.3));\n",
              "      fill: #FFFFFF;\n",
              "    }\n",
              "  </style>\n",
              "\n",
              "      <script>\n",
              "        const buttonEl =\n",
              "          document.querySelector('#df-be0e8f33-7201-4442-8f52-1a0923d1d877 button.colab-df-convert');\n",
              "        buttonEl.style.display =\n",
              "          google.colab.kernel.accessAllowed ? 'block' : 'none';\n",
              "\n",
              "        async function convertToInteractive(key) {\n",
              "          const element = document.querySelector('#df-be0e8f33-7201-4442-8f52-1a0923d1d877');\n",
              "          const dataTable =\n",
              "            await google.colab.kernel.invokeFunction('convertToInteractive',\n",
              "                                                     [key], {});\n",
              "          if (!dataTable) return;\n",
              "\n",
              "          const docLinkHtml = 'Like what you see? Visit the ' +\n",
              "            '<a target=\"_blank\" href=https://colab.research.google.com/notebooks/data_table.ipynb>data table notebook</a>'\n",
              "            + ' to learn more about interactive tables.';\n",
              "          element.innerHTML = '';\n",
              "          dataTable['output_type'] = 'display_data';\n",
              "          await google.colab.output.renderOutput(dataTable, element);\n",
              "          const docLink = document.createElement('div');\n",
              "          docLink.innerHTML = docLinkHtml;\n",
              "          element.appendChild(docLink);\n",
              "        }\n",
              "      </script>\n",
              "    </div>\n",
              "  </div>\n",
              "  "
            ]
          },
          "metadata": {},
          "execution_count": 11
        }
      ]
    },
    {
      "cell_type": "markdown",
      "id": "6f496f91-9d58-4b2d-83dd-ed0de657460c",
      "metadata": {
        "id": "6f496f91-9d58-4b2d-83dd-ed0de657460c"
      },
      "source": [
        "## Mask options \n"
      ]
    },
    {
      "cell_type": "markdown",
      "source": [
        "### same_length_chars"
      ],
      "metadata": {
        "id": "PiV_Sdg0Qq1M"
      },
      "id": "PiV_Sdg0Qq1M"
    },
    {
      "cell_type": "code",
      "execution_count": 12,
      "id": "ec551f0f-c4fc-4087-b83b-683070017fe1",
      "metadata": {
        "scrolled": true,
        "tags": [],
        "id": "ec551f0f-c4fc-4087-b83b-683070017fe1",
        "colab": {
          "base_uri": "https://localhost:8080/"
        },
        "outputId": "2774d27d-b418-47f1-922c-37173b72dadb"
      },
      "outputs": [
        {
          "output_type": "stream",
          "name": "stdout",
          "text": [
            "Deidentification process of the 'text' field has begun...\n",
            "Deidentification process of the 'text' field was completed...\n",
            "Deidentifcation successfully completed and the results saved as 'deidentified.csv' !\n"
          ]
        }
      ],
      "source": [
        "res= deid_implementor.deidentify(input_file_path=\"deid_data.csv\",\n",
        "                                output_file_path=\"deidentified.csv\",\n",
        "                                custom_pipeline=model,\n",
        "                                fields={\"text\": \"mask\"}, masking_policy=\"same_length_chars\")"
      ]
    },
    {
      "cell_type": "code",
      "execution_count": 13,
      "id": "105724c1-4803-473a-9fcd-83ef3460fd96",
      "metadata": {
        "id": "105724c1-4803-473a-9fcd-83ef3460fd96",
        "colab": {
          "base_uri": "https://localhost:8080/"
        },
        "outputId": "98dd322f-690c-49db-def9-d8b025ade2f4"
      },
      "outputs": [
        {
          "output_type": "stream",
          "name": "stdout",
          "text": [
            "+---+----------------------------------------------------------------------+----------------------------------------------------------------------+\n",
            "| ID|                                                                  text|                                                     text_deidentified|\n",
            "+---+----------------------------------------------------------------------+----------------------------------------------------------------------+\n",
            "|  0|                                                                     \"|                                                                     \"|\n",
            "|  1|Record date : 2093-01-13 , David Hale , M.D . , Name : Hendrickson ...|Record date : [********] , [********] , M.D . , Name : [***********...|\n",
            "|  2|                                                                     \"|                                                                     \"|\n",
            "+---+----------------------------------------------------------------------+----------------------------------------------------------------------+\n",
            "\n"
          ]
        }
      ],
      "source": [
        "res.show(truncate=70)"
      ]
    },
    {
      "cell_type": "markdown",
      "id": "b8324fef-246d-4731-be94-fbe818bcc3de",
      "metadata": {
        "id": "b8324fef-246d-4731-be94-fbe818bcc3de"
      },
      "source": [
        "### fixed_length_chars"
      ]
    },
    {
      "cell_type": "code",
      "execution_count": 14,
      "id": "3e21fe0b-fa7d-42d6-94c0-fc437583cae5",
      "metadata": {
        "id": "3e21fe0b-fa7d-42d6-94c0-fc437583cae5",
        "colab": {
          "base_uri": "https://localhost:8080/"
        },
        "outputId": "5c8e52f2-8df8-4074-c5e1-28569336bc35"
      },
      "outputs": [
        {
          "output_type": "stream",
          "name": "stdout",
          "text": [
            "Deidentification process of the 'text' field has begun...\n",
            "Deidentification process of the 'text' field was completed...\n",
            "Deidentifcation successfully completed and the results saved as 'deidentified.csv' !\n"
          ]
        }
      ],
      "source": [
        "res= deid_implementor.deidentify(input_file_path=\"deid_data.csv\",\n",
        "                                output_file_path=\"deidentified.csv\",\n",
        "                                custom_pipeline=model,\n",
        "                                fields={\"text\": \"mask\"}, masking_policy=\"fixed_length_chars\", fixed_mask_length=2)"
      ]
    },
    {
      "cell_type": "code",
      "execution_count": 15,
      "id": "772513fd-01a7-4c6e-afb1-1863ac863636",
      "metadata": {
        "id": "772513fd-01a7-4c6e-afb1-1863ac863636",
        "colab": {
          "base_uri": "https://localhost:8080/"
        },
        "outputId": "81b850d3-ee4b-4edf-8efc-f9803a309617"
      },
      "outputs": [
        {
          "output_type": "stream",
          "name": "stdout",
          "text": [
            "+---+----------------------------------------------------------------------+----------------------------------------------------------------------+\n",
            "| ID|                                                                  text|                                                     text_deidentified|\n",
            "+---+----------------------------------------------------------------------+----------------------------------------------------------------------+\n",
            "|  0|                                                                     \"|                                                                     \"|\n",
            "|  1|Record date : 2093-01-13 , David Hale , M.D . , Name : Hendrickson ...|Record date : ** , ** , M.D . , Name : ** , MR # ** Date : ** . PCP...|\n",
            "|  2|                                                                     \"|                                                                     \"|\n",
            "+---+----------------------------------------------------------------------+----------------------------------------------------------------------+\n",
            "\n"
          ]
        }
      ],
      "source": [
        "res.show(truncate=70)"
      ]
    },
    {
      "cell_type": "markdown",
      "id": "c686e635-6b1c-470d-8cad-50a93ad2a5a0",
      "metadata": {
        "id": "c686e635-6b1c-470d-8cad-50a93ad2a5a0"
      },
      "source": [
        "### masking multiple columns"
      ]
    },
    {
      "cell_type": "code",
      "execution_count": 16,
      "id": "3e5f5e7b-0c63-451d-9348-d1c6b2572c43",
      "metadata": {
        "id": "3e5f5e7b-0c63-451d-9348-d1c6b2572c43",
        "colab": {
          "base_uri": "https://localhost:8080/",
          "height": 80
        },
        "outputId": "4ea2c38c-b36c-471f-e435-ee55d697c092"
      },
      "outputs": [
        {
          "output_type": "execute_result",
          "data": {
            "text/plain": [
              "                                                text  \\\n",
              "0  Record date : 2093-01-13 , David Hale , M.D . ...   \n",
              "\n",
              "                                              text_1  \n",
              "0  Date : 01/13/93 PCP : Oliveira , 25 years-old ...  "
            ],
            "text/html": [
              "\n",
              "  <div id=\"df-154710d2-2b3e-4b7e-ac02-77d7b064fce1\">\n",
              "    <div class=\"colab-df-container\">\n",
              "      <div>\n",
              "<style scoped>\n",
              "    .dataframe tbody tr th:only-of-type {\n",
              "        vertical-align: middle;\n",
              "    }\n",
              "\n",
              "    .dataframe tbody tr th {\n",
              "        vertical-align: top;\n",
              "    }\n",
              "\n",
              "    .dataframe thead th {\n",
              "        text-align: right;\n",
              "    }\n",
              "</style>\n",
              "<table border=\"1\" class=\"dataframe\">\n",
              "  <thead>\n",
              "    <tr style=\"text-align: right;\">\n",
              "      <th></th>\n",
              "      <th>text</th>\n",
              "      <th>text_1</th>\n",
              "    </tr>\n",
              "  </thead>\n",
              "  <tbody>\n",
              "    <tr>\n",
              "      <th>0</th>\n",
              "      <td>Record date : 2093-01-13 , David Hale , M.D . ...</td>\n",
              "      <td>Date : 01/13/93 PCP : Oliveira , 25 years-old ...</td>\n",
              "    </tr>\n",
              "  </tbody>\n",
              "</table>\n",
              "</div>\n",
              "      <button class=\"colab-df-convert\" onclick=\"convertToInteractive('df-154710d2-2b3e-4b7e-ac02-77d7b064fce1')\"\n",
              "              title=\"Convert this dataframe to an interactive table.\"\n",
              "              style=\"display:none;\">\n",
              "        \n",
              "  <svg xmlns=\"http://www.w3.org/2000/svg\" height=\"24px\"viewBox=\"0 0 24 24\"\n",
              "       width=\"24px\">\n",
              "    <path d=\"M0 0h24v24H0V0z\" fill=\"none\"/>\n",
              "    <path d=\"M18.56 5.44l.94 2.06.94-2.06 2.06-.94-2.06-.94-.94-2.06-.94 2.06-2.06.94zm-11 1L8.5 8.5l.94-2.06 2.06-.94-2.06-.94L8.5 2.5l-.94 2.06-2.06.94zm10 10l.94 2.06.94-2.06 2.06-.94-2.06-.94-.94-2.06-.94 2.06-2.06.94z\"/><path d=\"M17.41 7.96l-1.37-1.37c-.4-.4-.92-.59-1.43-.59-.52 0-1.04.2-1.43.59L10.3 9.45l-7.72 7.72c-.78.78-.78 2.05 0 2.83L4 21.41c.39.39.9.59 1.41.59.51 0 1.02-.2 1.41-.59l7.78-7.78 2.81-2.81c.8-.78.8-2.07 0-2.86zM5.41 20L4 18.59l7.72-7.72 1.47 1.35L5.41 20z\"/>\n",
              "  </svg>\n",
              "      </button>\n",
              "      \n",
              "  <style>\n",
              "    .colab-df-container {\n",
              "      display:flex;\n",
              "      flex-wrap:wrap;\n",
              "      gap: 12px;\n",
              "    }\n",
              "\n",
              "    .colab-df-convert {\n",
              "      background-color: #E8F0FE;\n",
              "      border: none;\n",
              "      border-radius: 50%;\n",
              "      cursor: pointer;\n",
              "      display: none;\n",
              "      fill: #1967D2;\n",
              "      height: 32px;\n",
              "      padding: 0 0 0 0;\n",
              "      width: 32px;\n",
              "    }\n",
              "\n",
              "    .colab-df-convert:hover {\n",
              "      background-color: #E2EBFA;\n",
              "      box-shadow: 0px 1px 2px rgba(60, 64, 67, 0.3), 0px 1px 3px 1px rgba(60, 64, 67, 0.15);\n",
              "      fill: #174EA6;\n",
              "    }\n",
              "\n",
              "    [theme=dark] .colab-df-convert {\n",
              "      background-color: #3B4455;\n",
              "      fill: #D2E3FC;\n",
              "    }\n",
              "\n",
              "    [theme=dark] .colab-df-convert:hover {\n",
              "      background-color: #434B5C;\n",
              "      box-shadow: 0px 1px 3px 1px rgba(0, 0, 0, 0.15);\n",
              "      filter: drop-shadow(0px 1px 2px rgba(0, 0, 0, 0.3));\n",
              "      fill: #FFFFFF;\n",
              "    }\n",
              "  </style>\n",
              "\n",
              "      <script>\n",
              "        const buttonEl =\n",
              "          document.querySelector('#df-154710d2-2b3e-4b7e-ac02-77d7b064fce1 button.colab-df-convert');\n",
              "        buttonEl.style.display =\n",
              "          google.colab.kernel.accessAllowed ? 'block' : 'none';\n",
              "\n",
              "        async function convertToInteractive(key) {\n",
              "          const element = document.querySelector('#df-154710d2-2b3e-4b7e-ac02-77d7b064fce1');\n",
              "          const dataTable =\n",
              "            await google.colab.kernel.invokeFunction('convertToInteractive',\n",
              "                                                     [key], {});\n",
              "          if (!dataTable) return;\n",
              "\n",
              "          const docLinkHtml = 'Like what you see? Visit the ' +\n",
              "            '<a target=\"_blank\" href=https://colab.research.google.com/notebooks/data_table.ipynb>data table notebook</a>'\n",
              "            + ' to learn more about interactive tables.';\n",
              "          element.innerHTML = '';\n",
              "          dataTable['output_type'] = 'display_data';\n",
              "          await google.colab.output.renderOutput(dataTable, element);\n",
              "          const docLink = document.createElement('div');\n",
              "          docLink.innerHTML = docLinkHtml;\n",
              "          element.appendChild(docLink);\n",
              "        }\n",
              "      </script>\n",
              "    </div>\n",
              "  </div>\n",
              "  "
            ]
          },
          "metadata": {},
          "execution_count": 16
        }
      ],
      "source": [
        "text= \"\"\"Record date : 2093-01-13 , David Hale , M.D . , Name : Hendrickson , Ora MR .\"\"\"\n",
        "text_1= \"\"\"Date : 01/13/93 PCP : Oliveira , 25 years-old , Record date : 2079-11-09 \"\"\"\n",
        "df= spark.createDataFrame([[text, text_1]]).toDF(\"text\", \"text_1\")\n",
        "\n",
        "df_pd= df.toPandas()\n",
        "df_pd.to_csv(\"deid_multiple_data.csv\", index=False)\n",
        "df_pd.head()"
      ]
    },
    {
      "cell_type": "code",
      "execution_count": 17,
      "id": "d85e001f-400b-4b79-9d52-5926f9aace36",
      "metadata": {
        "id": "d85e001f-400b-4b79-9d52-5926f9aace36",
        "colab": {
          "base_uri": "https://localhost:8080/"
        },
        "outputId": "d94cb0d0-e8cd-41e8-b183-dc09933a9853"
      },
      "outputs": [
        {
          "output_type": "stream",
          "name": "stdout",
          "text": [
            "Deidentification process of the 'text' field has begun...\n",
            "Deidentification process of the 'text' field was completed...\n",
            "Deidentification process of the 'text_1' field has begun...\n",
            "Deidentification process of the 'text_1' field was completed...\n",
            "Deidentifcation successfully completed and the results saved as 'deidentified.csv' !\n"
          ]
        }
      ],
      "source": [
        "res= deid_implementor.deidentify(input_file_path=\"deid_multiple_data.csv\",\n",
        "                                output_file_path=\"deidentified.csv\",\n",
        "                                custom_pipeline=model,\n",
        "                                fields={\"text\": \"mask\", \"text_1\":\"obfuscate\"}, masking_policy=\"fixed_length_chars\", \n",
        "                                fixed_mask_length=2, separator=\",\")"
      ]
    },
    {
      "cell_type": "code",
      "execution_count": 18,
      "id": "a5c615cf-a5ce-49cf-8a44-65c8955dbc36",
      "metadata": {
        "id": "a5c615cf-a5ce-49cf-8a44-65c8955dbc36",
        "colab": {
          "base_uri": "https://localhost:8080/"
        },
        "outputId": "85d70db8-63ed-4163-f00a-270c2300eb12"
      },
      "outputs": [
        {
          "output_type": "stream",
          "name": "stdout",
          "text": [
            "+---+----------------------------------------------------------------------+----------------------------------------------+----------------------------------------------------------------------+----------------------------------------------------------------------+\n",
            "| ID|                                                                  text|                             text_deidentified|                                                                text_1|                                                   text_1_deidentified|\n",
            "+---+----------------------------------------------------------------------+----------------------------------------------+----------------------------------------------------------------------+----------------------------------------------------------------------+\n",
            "|  0|Record date : 2093-01-13 , David Hale , M.D . , Name : Hendrickson ...|Record date : ** , ** , M.D . , Name : ** MR .|Date : 01/13/93 PCP : Oliveira , 25 years-old , Record date : 2079-...|Date : 10-05-1982 PCP : Phill Poche , 22 years-old , Record date : ...|\n",
            "+---+----------------------------------------------------------------------+----------------------------------------------+----------------------------------------------------------------------+----------------------------------------------------------------------+\n",
            "\n"
          ]
        }
      ],
      "source": [
        "res.show(truncate=70)"
      ]
    },
    {
      "cell_type": "markdown",
      "id": "f3d4e399-0ae4-441d-bc03-2040e65f8181",
      "metadata": {
        "id": "f3d4e399-0ae4-441d-bc03-2040e65f8181"
      },
      "source": [
        "## Obfuscate Options"
      ]
    },
    {
      "cell_type": "markdown",
      "source": [
        "### obfuscate_ref_source=\"file\""
      ],
      "metadata": {
        "id": "Qr54LYqETovR"
      },
      "id": "Qr54LYqETovR"
    },
    {
      "cell_type": "code",
      "source": [
        "obs_lines = \"\"\"Marvin MARSHALL#NAME\n",
        "Hubert GROGAN#NAME\n",
        "ALTHEA COLBURN#NAME\n",
        "Kalil AMIN#NAME\n",
        "Inci FOUNTAIN#NAME\n",
        "Ekaterina Rosa#DOCTOR\n",
        "Rudiger Chao#DOCTOR\n",
        "COLLETTE KOHLER#DOCTOR\n",
        "Mufi HIGGS#DOCTOR\"\"\"\n",
        "\n",
        "\n",
        "with open ('obfuscation.txt', 'w') as f:\n",
        "  f.write(obs_lines)"
      ],
      "metadata": {
        "id": "ysKMVf2sTt-L"
      },
      "id": "ysKMVf2sTt-L",
      "execution_count": 19,
      "outputs": []
    },
    {
      "cell_type": "code",
      "source": [
        "text= \"\"\"Name of the patient is Leah Shannon. \n",
        "Her pps number is 1234567. \n",
        "\"\"\"\n",
        "\n",
        "df= spark.createDataFrame([[text]]).toDF(\"text\")\n",
        "df_pd= df.toPandas()\n",
        "df_pd.to_csv(\"deid_obfs_data.csv\", index=False)"
      ],
      "metadata": {
        "id": "YF3kzLRDUQ3i"
      },
      "id": "YF3kzLRDUQ3i",
      "execution_count": 20,
      "outputs": []
    },
    {
      "cell_type": "code",
      "execution_count": 21,
      "id": "4fa656da-8090-4546-acc4-13c328aa8769",
      "metadata": {
        "id": "4fa656da-8090-4546-acc4-13c328aa8769",
        "colab": {
          "base_uri": "https://localhost:8080/"
        },
        "outputId": "e7ccfbd4-1ff8-4b71-d393-7c0b674cb360"
      },
      "outputs": [
        {
          "output_type": "stream",
          "name": "stdout",
          "text": [
            "Deidentification process of the 'text' field has begun...\n",
            "Deidentification process of the 'text' field was completed...\n",
            "Deidentifcation successfully completed and the results saved as 'deidentified.csv' !\n"
          ]
        }
      ],
      "source": [
        "res= deid_implementor.deidentify(input_file_path=\"deid_obfs_data.csv\",\n",
        "                                output_file_path=\"deidentified.csv\",\n",
        "                                custom_pipeline=model,\n",
        "                                fields={\"text\": \"obfuscate\"}, obfuscate_ref_source=\"file\",\n",
        "                                obfuscate_ref_file_path=\"obfuscation.txt\")"
      ]
    },
    {
      "cell_type": "code",
      "execution_count": 22,
      "id": "f869c051-261a-4286-acc5-019842c5be22",
      "metadata": {
        "id": "f869c051-261a-4286-acc5-019842c5be22",
        "colab": {
          "base_uri": "https://localhost:8080/"
        },
        "outputId": "fad4c73b-869f-43fb-87e2-410b63755767"
      },
      "outputs": [
        {
          "output_type": "stream",
          "name": "stdout",
          "text": [
            "+---+-------------------------------------+-------------------------------------+\n",
            "|ID |text                                 |text_deidentified                    |\n",
            "+---+-------------------------------------+-------------------------------------+\n",
            "|0  |Name of the patient is Leah Shannon. |Name of the patient is Inci FOUNTAIN.|\n",
            "|1  |Her pps number is 1234567.           |Her pps number is <ID>.              |\n",
            "|2  |\"                                    |\"                                    |\n",
            "+---+-------------------------------------+-------------------------------------+\n",
            "\n"
          ]
        }
      ],
      "source": [
        "res.show(truncate=False)"
      ]
    },
    {
      "cell_type": "markdown",
      "id": "b40a41d1-3472-40db-99e1-9430aa3d4fbf",
      "metadata": {
        "id": "b40a41d1-3472-40db-99e1-9430aa3d4fbf"
      },
      "source": [
        "### obfuscate_ref_source=both"
      ]
    },
    {
      "cell_type": "code",
      "execution_count": 23,
      "id": "67ae99c3-5aeb-4631-8780-da489e53a70e",
      "metadata": {
        "id": "67ae99c3-5aeb-4631-8780-da489e53a70e",
        "colab": {
          "base_uri": "https://localhost:8080/"
        },
        "outputId": "fee9d6a7-bb80-45fc-d45c-12eb716a6a0f"
      },
      "outputs": [
        {
          "output_type": "stream",
          "name": "stdout",
          "text": [
            "Deidentification process of the 'text' field has begun...\n",
            "Deidentification process of the 'text' field was completed...\n",
            "Deidentifcation successfully completed and the results saved as 'deidentified.csv' !\n"
          ]
        }
      ],
      "source": [
        "res= deid_implementor.deidentify(input_file_path=\"deid_obfs_data.csv\",\n",
        "                                output_file_path=\"deidentified.csv\",\n",
        "                                custom_pipeline=model,\n",
        "                                fields={\"text\": \"obfuscate\"}, obfuscate_ref_source=\"both\",\n",
        "                                obfuscate_ref_file_path=\"obfuscation.txt\")"
      ]
    },
    {
      "cell_type": "code",
      "execution_count": 24,
      "id": "e339d615-08a9-4507-88d3-cf712d101821",
      "metadata": {
        "id": "e339d615-08a9-4507-88d3-cf712d101821",
        "colab": {
          "base_uri": "https://localhost:8080/"
        },
        "outputId": "1a8e9ce7-9fe2-4ff0-a8ca-092185c914a9"
      },
      "outputs": [
        {
          "output_type": "stream",
          "name": "stdout",
          "text": [
            "+---+-------------------------------------+------------------------------------+\n",
            "| ID|                                 text|                   text_deidentified|\n",
            "+---+-------------------------------------+------------------------------------+\n",
            "|  0|Name of the patient is Leah Shannon. |Name of the patient is Althia Savoy.|\n",
            "|  1|          Her pps number is 1234567. |         Her pps number is G3632562.|\n",
            "|  2|                                    \"|                                   \"|\n",
            "+---+-------------------------------------+------------------------------------+\n",
            "\n"
          ]
        }
      ],
      "source": [
        "res.show(truncate=70)"
      ]
    },
    {
      "cell_type": "markdown",
      "id": "0b123c35-84ab-45be-9137-46a63e44791e",
      "metadata": {
        "id": "0b123c35-84ab-45be-9137-46a63e44791e"
      },
      "source": [
        "### obfuscate_ref_source=faker "
      ]
    },
    {
      "cell_type": "code",
      "execution_count": 25,
      "id": "b9dc81bd-0f0f-41c2-b10a-8d6af8a818df",
      "metadata": {
        "id": "b9dc81bd-0f0f-41c2-b10a-8d6af8a818df",
        "colab": {
          "base_uri": "https://localhost:8080/"
        },
        "outputId": "0579f41e-f19a-47ed-b3f2-b26b36f52ff8"
      },
      "outputs": [
        {
          "output_type": "stream",
          "name": "stdout",
          "text": [
            "Deidentification process of the 'text' field has begun...\n",
            "Deidentification process of the 'text' field was completed...\n",
            "Deidentifcation successfully completed and the results saved as 'deidentified.csv' !\n"
          ]
        }
      ],
      "source": [
        "res= deid_implementor.deidentify(input_file_path=\"deid_data.csv\",\n",
        "                                output_file_path=\"deidentified.csv\",\n",
        "                                custom_pipeline=model, obfuscate_date=True,\n",
        "                                fields={\"text\": \"obfuscate\"})\n"
      ]
    },
    {
      "cell_type": "code",
      "execution_count": 26,
      "id": "8c51740e-dc93-404b-acf7-e97ba2e9c0b0",
      "metadata": {
        "id": "8c51740e-dc93-404b-acf7-e97ba2e9c0b0",
        "colab": {
          "base_uri": "https://localhost:8080/"
        },
        "outputId": "0423c06e-76ac-47ef-fe6a-82275474db91"
      },
      "outputs": [
        {
          "output_type": "stream",
          "name": "stdout",
          "text": [
            "+---+----------------------------------------------------------------------+----------------------------------------------------------------------+\n",
            "| ID|                                                                  text|                                                     text_deidentified|\n",
            "+---+----------------------------------------------------------------------+----------------------------------------------------------------------+\n",
            "|  0|                                                                     \"|                                                                     \"|\n",
            "|  1|Record date : 2093-01-13 , David Hale , M.D . , Name : Hendrickson ...|Record date : 2093-01-24 , Melodee Cook , M.D . , Name : Suzen Ly ,...|\n",
            "|  2|                                                                     \"|                                                                     \"|\n",
            "+---+----------------------------------------------------------------------+----------------------------------------------------------------------+\n",
            "\n"
          ]
        }
      ],
      "source": [
        "res.show(truncate=70)"
      ]
    },
    {
      "cell_type": "markdown",
      "id": "72da3ed7-0857-49ab-9dc2-9e3046ecd766",
      "metadata": {
        "id": "72da3ed7-0857-49ab-9dc2-9e3046ecd766"
      },
      "source": [
        "### age groups obfuscation"
      ]
    },
    {
      "cell_type": "code",
      "source": [
        "# Example data\n",
        "dates = [\n",
        "'1 year old baby',\n",
        "'4 year old kids',\n",
        "'A 15 year old female with',\n",
        "'Record date: 2093-01-13, Age: 25',\n",
        "'Patient is 45 years-old',\n",
        "'He is 65 years-old male'\n",
        "]\n",
        "from pyspark.sql.types import StringType\n",
        "df_dates = spark.createDataFrame(dates,StringType()).toDF('text')\n",
        "\n",
        "pd_df_dates= df_dates.toPandas()\n",
        "pd_df_dates.to_csv(\"deid_age_group.csv\", index=False)"
      ],
      "metadata": {
        "id": "P8Ntd_dmYXof"
      },
      "id": "P8Ntd_dmYXof",
      "execution_count": 27,
      "outputs": []
    },
    {
      "cell_type": "code",
      "execution_count": 28,
      "id": "5dec093a-cf1b-41e5-9e50-55b251f6adc8",
      "metadata": {
        "id": "5dec093a-cf1b-41e5-9e50-55b251f6adc8",
        "colab": {
          "base_uri": "https://localhost:8080/"
        },
        "outputId": "e6bd7961-8dcf-46bc-9aa5-9932c07b7398"
      },
      "outputs": [
        {
          "output_type": "stream",
          "name": "stdout",
          "text": [
            "Deidentification process of the 'text' field has begun...\n",
            "Deidentification process of the 'text' field was completed...\n",
            "Deidentifcation successfully completed and the results saved as 'deidentified.csv' !\n"
          ]
        }
      ],
      "source": [
        "res= deid_implementor.deidentify(input_file_path=\"deid_age_group.csv\",\n",
        "                                                output_file_path=\"deidentified.csv\",\n",
        "                                                custom_pipeline=model,\n",
        "                                                fields={\"text\": \"obfuscate\"},\n",
        "                                                age_group_obfuscation=True, age_ranges=[1, 4, 12, 20, 40, 60, 80])"
      ]
    },
    {
      "cell_type": "code",
      "execution_count": 29,
      "id": "36539514-809a-4fa1-9deb-352a0ebd1ed3",
      "metadata": {
        "id": "36539514-809a-4fa1-9deb-352a0ebd1ed3",
        "colab": {
          "base_uri": "https://localhost:8080/"
        },
        "outputId": "8a7da940-cfdd-4607-fa67-40e9138509ac"
      },
      "outputs": [
        {
          "output_type": "stream",
          "name": "stdout",
          "text": [
            "+---+--------------------------------+--------------------------------+\n",
            "|ID |text                            |text_deidentified               |\n",
            "+---+--------------------------------+--------------------------------+\n",
            "|0  |1 year old baby                 |2 year old baby                 |\n",
            "|1  |4 year old kids                 |10 year old kids                |\n",
            "|2  |A 15 year old female with       |A 17 year old female with       |\n",
            "|3  |Record date: 2093-01-13, Age: 25|Record date: 2093-02-27, Age: 24|\n",
            "|4  |Patient is 45 years-old         |Patient is 58 years-old         |\n",
            "|5  |He is 65 years-old male         |He is 60 years-old male         |\n",
            "+---+--------------------------------+--------------------------------+\n",
            "\n"
          ]
        }
      ],
      "source": [
        "res.show(truncate=False)"
      ]
    },
    {
      "cell_type": "markdown",
      "id": "88c297af-e57a-4199-ac05-0665e7f9dc78",
      "metadata": {
        "id": "88c297af-e57a-4199-ac05-0665e7f9dc78"
      },
      "source": [
        "### shifting days according to the ID column"
      ]
    },
    {
      "cell_type": "code",
      "execution_count": 30,
      "id": "fe41fd52-1ec3-4cf4-a0c2-75333ec53ea2",
      "metadata": {
        "id": "fe41fd52-1ec3-4cf4-a0c2-75333ec53ea2",
        "colab": {
          "base_uri": "https://localhost:8080/"
        },
        "outputId": "303daee2-61a2-4330-ba86-8747664b471a"
      },
      "outputs": [
        {
          "output_type": "stream",
          "name": "stdout",
          "text": [
            "+---------+----------------------------------------+\n",
            "|patientID|text                                    |\n",
            "+---------+----------------------------------------+\n",
            "|A001     |Chris Brown was discharged on 10/02/2022|\n",
            "|A001     |Mark White was discharged on 02/28/2020 |\n",
            "|A002     |John was discharged on 03/15/2022       |\n",
            "|A002     |John Moore was discharged on 12/31/2022 |\n",
            "+---------+----------------------------------------+\n",
            "\n"
          ]
        }
      ],
      "source": [
        "import pandas as pd\n",
        "data = pd.DataFrame(\n",
        "    {'patientID' : ['A001', 'A001', 'A002', 'A002'],\n",
        "     'text' : ['Chris Brown was discharged on 10/02/2022', \n",
        "               'Mark White was discharged on 02/28/2020', \n",
        "               'John was discharged on 03/15/2022',\n",
        "               'John Moore was discharged on 12/31/2022'\n",
        "              ]\n",
        "    }\n",
        ")\n",
        "\n",
        "my_input_df = spark.createDataFrame(data)\n",
        "\n",
        "my_input_df.show(truncate = False)"
      ]
    },
    {
      "cell_type": "code",
      "execution_count": 31,
      "id": "cf4af6b3-82e9-4194-b04c-a2b9f81b7cfe",
      "metadata": {
        "id": "cf4af6b3-82e9-4194-b04c-a2b9f81b7cfe"
      },
      "outputs": [],
      "source": [
        "df_pd= my_input_df.toPandas()\n",
        "df_pd.to_csv(\"deid_id_data.csv\", index=False)"
      ]
    },
    {
      "cell_type": "markdown",
      "source": [
        "Custom pipeline with `DocumentHashCoder()`. "
      ],
      "metadata": {
        "id": "W4zBHBsuZT1I"
      },
      "id": "W4zBHBsuZT1I"
    },
    {
      "cell_type": "code",
      "execution_count": 32,
      "id": "bafbafc6-fec9-47f2-9184-b4a0c55918b3",
      "metadata": {
        "scrolled": true,
        "tags": [],
        "id": "bafbafc6-fec9-47f2-9184-b4a0c55918b3",
        "outputId": "12921546-82ac-4515-bae3-79903ef15890",
        "colab": {
          "base_uri": "https://localhost:8080/"
        }
      },
      "outputs": [
        {
          "output_type": "stream",
          "name": "stdout",
          "text": [
            "embeddings_clinical download started this may take some time.\n",
            "Approximate size to download 1.6 GB\n",
            "[OK!]\n",
            "ner_deid_subentity_augmented download started this may take some time.\n",
            "[OK!]\n"
          ]
        }
      ],
      "source": [
        "documentAssembler = DocumentAssembler()\\\n",
        "    .setInputCol(\"text\")\\\n",
        "    .setOutputCol(\"document\")\n",
        "\n",
        "documentHasher = DocumentHashCoder()\\\n",
        "    .setInputCols(\"document\")\\\n",
        "    .setOutputCol(\"document2\")\\\n",
        "    .setPatientIdColumn(\"patientID\")\\\n",
        "    .setRangeDays(100)\\\n",
        "    .setNewDateShift(\"shift_days\")\\\n",
        "    .setSeed(100)\n",
        "\n",
        "tokenizer = Tokenizer()\\\n",
        "    .setInputCols([\"document2\"])\\\n",
        "    .setOutputCol(\"token\")\n",
        "\n",
        "embeddings = WordEmbeddingsModel.pretrained(\"embeddings_clinical\", \"en\", \"clinical/models\")\\\n",
        "    .setInputCols([\"document2\", \"token\"])\\\n",
        "    .setOutputCol(\"word_embeddings\")\n",
        "\n",
        "clinical_ner = MedicalNerModel\\\n",
        "    .pretrained(\"ner_deid_subentity_augmented\", \"en\", \"clinical/models\")\\\n",
        "    .setInputCols([\"document2\",\"token\", \"word_embeddings\"])\\\n",
        "    .setOutputCol(\"ner\")\n",
        "\n",
        "ner_converter = NerConverterInternal()\\\n",
        "    .setInputCols([\"document2\", \"token\", \"ner\"])\\\n",
        "    .setOutputCol(\"ner_chunk\")\n",
        "\n",
        "    \n",
        "nlpPipeline = Pipeline().setStages([\n",
        "    documentAssembler,\n",
        "    documentHasher,\n",
        "    tokenizer,\n",
        "    embeddings,\n",
        "    clinical_ner,\n",
        "    ner_converter])\n",
        "\n",
        "empty_data = spark.createDataFrame([[\"\", \"\"]]).toDF(\"text\", \"patientID\")\n",
        "\n",
        "pipeline_model = nlpPipeline.fit(empty_data)"
      ]
    },
    {
      "cell_type": "code",
      "execution_count": 33,
      "id": "477aca34-b392-4dae-946a-4e59e21c6240",
      "metadata": {
        "scrolled": true,
        "tags": [],
        "id": "477aca34-b392-4dae-946a-4e59e21c6240",
        "outputId": "2cac3869-6884-488e-caa9-e2a5828ad46c",
        "colab": {
          "base_uri": "https://localhost:8080/"
        }
      },
      "outputs": [
        {
          "output_type": "stream",
          "name": "stdout",
          "text": [
            "Deidentification process of the 'text' field has begun...\n",
            "Deidentification process of the 'text' field was completed...\n",
            "Deidentifcation successfully completed and the results saved as 'deidentified.csv' !\n"
          ]
        }
      ],
      "source": [
        "res= deid_implementor.deidentify(input_file_path=\"deid_id_data.csv\",\n",
        "                                                output_file_path=\"deidentified.csv\",\n",
        "                                                custom_pipeline=pipeline_model,\n",
        "                                                fields={\"text\": \"obfuscate\"},\n",
        "                                                shift_days=True,\n",
        "                                                obfuscate_date=True, \n",
        "                                                ner_chunk=\"ner_chunk\",\n",
        "                                                token=\"token\",\n",
        "                                                documentHashCoder_col_name=\"document2\",\n",
        "                                                separator=\",\",\n",
        "                                                unnormalized_date=False\n",
        "                                                )"
      ]
    },
    {
      "cell_type": "code",
      "execution_count": 34,
      "id": "506b4f84-972e-4efb-8ecc-963017ba1a5a",
      "metadata": {
        "id": "506b4f84-972e-4efb-8ecc-963017ba1a5a",
        "colab": {
          "base_uri": "https://localhost:8080/"
        },
        "outputId": "6caa6bd2-aee2-475c-f3f5-ea6387d96754"
      },
      "outputs": [
        {
          "output_type": "stream",
          "name": "stdout",
          "text": [
            "+---+----------------------------------------+--------------------------------------------+\n",
            "|ID |text                                    |text_deidentified                           |\n",
            "+---+----------------------------------------+--------------------------------------------+\n",
            "|0  |Chris Brown was discharged on 10/02/2022|Joenathan Laos was discharged on 09/27/2022 |\n",
            "|1  |Mark White was discharged on 02/28/2020 |Dail Mazzoni was discharged on 02/23/2020   |\n",
            "|2  |John was discharged on 03/15/2022       |Guinevere Shank was discharged on 04/13/2022|\n",
            "|3  |John Moore was discharged on 12/31/2022 |Sheron Gay was discharged on 01/29/2023     |\n",
            "+---+----------------------------------------+--------------------------------------------+\n",
            "\n"
          ]
        }
      ],
      "source": [
        "res.show(truncate=False)"
      ]
    },
    {
      "cell_type": "markdown",
      "id": "368b319b-6a86-4e8b-8ecf-2738f7fa1b94",
      "metadata": {
        "id": "368b319b-6a86-4e8b-8ecf-2738f7fa1b94"
      },
      "source": [
        "### shifting days according to specified values"
      ]
    },
    {
      "cell_type": "code",
      "execution_count": 35,
      "id": "192051fa-e915-4cd2-8ce3-e65e9c0f23e7",
      "metadata": {
        "id": "192051fa-e915-4cd2-8ce3-e65e9c0f23e7",
        "colab": {
          "base_uri": "https://localhost:8080/"
        },
        "outputId": "2c9df6b1-d7e1-4aa5-8dc6-ec1ac5e799a1"
      },
      "outputs": [
        {
          "output_type": "stream",
          "name": "stdout",
          "text": [
            "+---------+----------------------------------------+---------+\n",
            "|patientID|text                                    |dateshift|\n",
            "+---------+----------------------------------------+---------+\n",
            "|A001     |Chris Brown was discharged on 10/02/2022|10       |\n",
            "|A002     |Mark White was discharged on 03/01/2020 |-2       |\n",
            "|A003     |John was discharged on 03/15/2022       |30       |\n",
            "|A004     |John Moore was discharged on 12/31/2022 |-8       |\n",
            "+---------+----------------------------------------+---------+\n",
            "\n"
          ]
        }
      ],
      "source": [
        "data = pd.DataFrame(\n",
        "    {'patientID' : ['A001', 'A002', 'A003', 'A004'],\n",
        "     'text' : ['Chris Brown was discharged on 10/02/2022', \n",
        "               'Mark White was discharged on 03/01/2020', \n",
        "               'John was discharged on 03/15/2022',\n",
        "               'John Moore was discharged on 12/31/2022'\n",
        "              ],\n",
        "     'dateshift' : ['10', '-2', '30', '-8']\n",
        "    }\n",
        ")\n",
        "\n",
        "my_input_df = spark.createDataFrame(data)\n",
        "\n",
        "my_input_df.show(truncate=False)"
      ]
    },
    {
      "cell_type": "code",
      "execution_count": 36,
      "id": "571108db-7c92-477a-9dc2-78b56fb147d7",
      "metadata": {
        "id": "571108db-7c92-477a-9dc2-78b56fb147d7"
      },
      "outputs": [],
      "source": [
        "df_pd= my_input_df.toPandas()\n",
        "df_pd.to_csv(\"deid_specific_data.csv\", index=False)"
      ]
    },
    {
      "cell_type": "code",
      "execution_count": 37,
      "id": "56fddf76-6c5c-48a6-b2b3-da2a7636d841",
      "metadata": {
        "scrolled": true,
        "tags": [],
        "id": "56fddf76-6c5c-48a6-b2b3-da2a7636d841",
        "colab": {
          "base_uri": "https://localhost:8080/"
        },
        "outputId": "24a2907b-892f-4afb-ab5f-f5cadf0b8f61"
      },
      "outputs": [
        {
          "output_type": "stream",
          "name": "stdout",
          "text": [
            "embeddings_clinical download started this may take some time.\n",
            "Approximate size to download 1.6 GB\n",
            "[OK!]\n",
            "ner_deid_subentity_augmented download started this may take some time.\n",
            "[OK!]\n"
          ]
        }
      ],
      "source": [
        "documentAssembler = DocumentAssembler()\\\n",
        "    .setInputCol(\"text\")\\\n",
        "    .setOutputCol(\"document\")\n",
        "\n",
        "documentHasher = DocumentHashCoder()\\\n",
        "    .setInputCols(\"document\")\\\n",
        "    .setOutputCol(\"document2\")\\\n",
        "    .setDateShiftColumn(\"dateshift\")\\\n",
        "\n",
        "tokenizer = Tokenizer()\\\n",
        "    .setInputCols([\"document2\"])\\\n",
        "    .setOutputCol(\"token\")\n",
        "\n",
        "embeddings = WordEmbeddingsModel.pretrained(\"embeddings_clinical\", \"en\", \"clinical/models\")\\\n",
        "    .setInputCols([\"document2\", \"token\"])\\\n",
        "    .setOutputCol(\"word_embeddings\")\n",
        "\n",
        "clinical_ner = MedicalNerModel\\\n",
        "    .pretrained(\"ner_deid_subentity_augmented\", \"en\", \"clinical/models\")\\\n",
        "    .setInputCols([\"document2\",\"token\", \"word_embeddings\"])\\\n",
        "    .setOutputCol(\"ner\")\n",
        "\n",
        "ner_converter = NerConverterInternal()\\\n",
        "    .setInputCols([\"document2\", \"token\", \"ner\"])\\\n",
        "    .setOutputCol(\"ner_chunk\")\n",
        "\n",
        "nlpPipeline = Pipeline().setStages([\n",
        "    documentAssembler,\n",
        "    documentHasher,\n",
        "    tokenizer,\n",
        "    embeddings,\n",
        "    clinical_ner,\n",
        "    ner_converter\n",
        "    \n",
        "])\n",
        "\n",
        "empty_data = spark.createDataFrame([[\"\", \"\", \"\"]]).toDF(\"patientID\",\"text\", \"dateshift\")\n",
        "\n",
        "pipeline_col_model = nlpPipeline.fit(empty_data)"
      ]
    },
    {
      "cell_type": "code",
      "execution_count": 38,
      "id": "a604518f-8149-46ea-8a1d-2d6cbc92a74e",
      "metadata": {
        "scrolled": true,
        "tags": [],
        "id": "a604518f-8149-46ea-8a1d-2d6cbc92a74e",
        "colab": {
          "base_uri": "https://localhost:8080/"
        },
        "outputId": "a4f2d972-ebb7-45fa-d827-af39e50ea1df"
      },
      "outputs": [
        {
          "output_type": "stream",
          "name": "stdout",
          "text": [
            "Deidentification process of the 'text' field has begun...\n",
            "Deidentification process of the 'text' field was completed...\n",
            "Deidentifcation successfully completed and the results saved as 'deidentified.csv' !\n"
          ]
        }
      ],
      "source": [
        "res= deid_implementor.deidentify(input_file_path=\"deid_specific_data.csv\",\n",
        "                                                separator=\",\",\n",
        "                                                output_file_path=\"deidentified.csv\",\n",
        "                                                custom_pipeline=pipeline_col_model,\n",
        "                                                fields={\"text\": \"obfuscate\"},\n",
        "                                                shift_days=True,\n",
        "                                                obfuscate_date=True, \n",
        "                                                ner_chunk=\"ner_chunk\",\n",
        "                                                token=\"token\",\n",
        "                                                documentHashCoder_col_name=\"document2\")"
      ]
    },
    {
      "cell_type": "code",
      "execution_count": 39,
      "id": "32fe94b9-12fb-4a16-ba20-090a827e3c58",
      "metadata": {
        "id": "32fe94b9-12fb-4a16-ba20-090a827e3c58",
        "colab": {
          "base_uri": "https://localhost:8080/"
        },
        "outputId": "555fa39d-705f-4a4e-8c13-429827d8ca98"
      },
      "outputs": [
        {
          "output_type": "stream",
          "name": "stdout",
          "text": [
            "+---+----------------------------------------+-------------------------------------------+\n",
            "|ID |text                                    |text_deidentified                          |\n",
            "+---+----------------------------------------+-------------------------------------------+\n",
            "|0  |Chris Brown was discharged on 10/02/2022|Liberty Stager was discharged on 10/12/2022|\n",
            "|1  |Mark White was discharged on 03/01/2020 |Eather Conger was discharged on 02/28/2020 |\n",
            "|2  |John was discharged on 03/15/2022       |Louie Bridges was discharged on 04/14/2022 |\n",
            "|3  |John Moore was discharged on 12/31/2022 |Bohdan Dach was discharged on 12/23/2022   |\n",
            "+---+----------------------------------------+-------------------------------------------+\n",
            "\n"
          ]
        }
      ],
      "source": [
        "res.show(truncate=False)"
      ]
    },
    {
      "cell_type": "markdown",
      "id": "3df91aeb-681f-468e-ac67-67020093959e",
      "metadata": {
        "id": "3df91aeb-681f-468e-ac67-67020093959e"
      },
      "source": [
        "### unnormalized date formats"
      ]
    },
    {
      "cell_type": "code",
      "execution_count": 40,
      "id": "12edc84b-f9e7-4bc9-b92f-b8785f84d012",
      "metadata": {
        "id": "12edc84b-f9e7-4bc9-b92f-b8785f84d012",
        "colab": {
          "base_uri": "https://localhost:8080/"
        },
        "outputId": "9b4835ce-3afe-4c59-ca4a-71756823580d"
      },
      "outputs": [
        {
          "output_type": "stream",
          "name": "stdout",
          "text": [
            "+---------+----------------------------------------+---------+\n",
            "|patientID|text                                    |dateshift|\n",
            "+---------+----------------------------------------+---------+\n",
            "|A001     |Chris Brown was discharged on 10/02/2022|-5       |\n",
            "|A001     |Mark White was discharged on 02/28/2020 |-2       |\n",
            "|A002     |John was discharged on 03Apr2022        |10       |\n",
            "|A002     |John Moore was discharged on 12/31/2022 |20       |\n",
            "+---------+----------------------------------------+---------+\n",
            "\n"
          ]
        }
      ],
      "source": [
        "import pandas as pd\n",
        "\n",
        "data = pd.DataFrame(\n",
        "    {'patientID' : ['A001', 'A001', 'A002', 'A002'],\n",
        "     'text' : ['Chris Brown was discharged on 10/02/2022', \n",
        "               'Mark White was discharged on 02/28/2020', \n",
        "               'John was discharged on 03Apr2022',          # check this\n",
        "               'John Moore was discharged on 12/31/2022'\n",
        "              ],\n",
        "     'dateshift' : ['-5', '-2', '10', '20']\n",
        "    }\n",
        ")\n",
        "\n",
        "\n",
        "my_input_df = spark.createDataFrame(data)\n",
        "\n",
        "my_input_df.show(truncate=False)"
      ]
    },
    {
      "cell_type": "code",
      "execution_count": 41,
      "id": "a186c14e-ce61-4f7e-a09d-5f8a46eb41e7",
      "metadata": {
        "id": "a186c14e-ce61-4f7e-a09d-5f8a46eb41e7"
      },
      "outputs": [],
      "source": [
        "df_pd= my_input_df.toPandas()\n",
        "df_pd.to_csv(\"deid_unnormalized_data.csv\", index=False)"
      ]
    },
    {
      "cell_type": "code",
      "execution_count": 42,
      "id": "9b9b44f2-779f-40a4-95f7-543fc572ad96",
      "metadata": {
        "scrolled": true,
        "tags": [],
        "id": "9b9b44f2-779f-40a4-95f7-543fc572ad96",
        "colab": {
          "base_uri": "https://localhost:8080/"
        },
        "outputId": "d581fc1e-6474-4500-b573-4ef820afaf93"
      },
      "outputs": [
        {
          "output_type": "stream",
          "name": "stdout",
          "text": [
            "embeddings_clinical download started this may take some time.\n",
            "Approximate size to download 1.6 GB\n",
            "[OK!]\n",
            "ner_deid_subentity_augmented download started this may take some time.\n",
            "[OK!]\n"
          ]
        }
      ],
      "source": [
        "documentAssembler = DocumentAssembler()\\\n",
        "    .setInputCol(\"text\")\\\n",
        "    .setOutputCol(\"document\")\n",
        "\n",
        "documentHasher = DocumentHashCoder()\\\n",
        "    .setInputCols(\"document\")\\\n",
        "    .setOutputCol(\"document2\")\\\n",
        "    .setDateShiftColumn(\"dateshift\")\\\n",
        "\n",
        "tokenizer = Tokenizer()\\\n",
        "    .setInputCols([\"document2\"])\\\n",
        "    .setOutputCol(\"token\")\n",
        "\n",
        "embeddings = WordEmbeddingsModel.pretrained(\"embeddings_clinical\", \"en\", \"clinical/models\")\\\n",
        "    .setInputCols([\"document2\", \"token\"])\\\n",
        "    .setOutputCol(\"word_embeddings\")\n",
        "\n",
        "clinical_ner = MedicalNerModel\\\n",
        "    .pretrained(\"ner_deid_subentity_augmented\", \"en\", \"clinical/models\")\\\n",
        "    .setInputCols([\"document2\",\"token\", \"word_embeddings\"])\\\n",
        "    .setOutputCol(\"ner\")\n",
        "\n",
        "ner_converter = NerConverterInternal()\\\n",
        "    .setInputCols([\"document2\", \"token\", \"ner\"])\\\n",
        "    .setOutputCol(\"ner_chunk\")\n",
        "\n",
        "nlpPipeline = Pipeline().setStages([\n",
        "    documentAssembler,\n",
        "    documentHasher,\n",
        "    tokenizer,\n",
        "    embeddings,\n",
        "    clinical_ner,\n",
        "    ner_converter    \n",
        "])\n",
        "\n",
        "empty_data = spark.createDataFrame([[\"\", \"\", \"\"]]).toDF(\"patientID\",\"text\", \"dateshift\")\n",
        "\n",
        "model = nlpPipeline.fit(empty_data)"
      ]
    },
    {
      "cell_type": "code",
      "execution_count": 43,
      "id": "f2ba23c4-5cf7-444b-b253-e2f8163b75e1",
      "metadata": {
        "scrolled": true,
        "tags": [],
        "id": "f2ba23c4-5cf7-444b-b253-e2f8163b75e1",
        "colab": {
          "base_uri": "https://localhost:8080/"
        },
        "outputId": "1c33ea65-6626-4eaa-8949-bbbda9ec1cf5"
      },
      "outputs": [
        {
          "output_type": "stream",
          "name": "stdout",
          "text": [
            "Deidentification process of the 'text' field has begun...\n",
            "Deidentification process of the 'text' field was completed...\n",
            "Deidentifcation successfully completed and the results saved as 'deidentified.csv' !\n"
          ]
        }
      ],
      "source": [
        "res= deid_implementor.deidentify(input_file_path=\"deid_unnormalized_data.csv\",\n",
        "                                                output_file_path=\"deidentified.csv\",\n",
        "                                                custom_pipeline=model,\n",
        "                                                fields={\"text\": \"obfuscate\"},\n",
        "                                                shift_days=True,\n",
        "                                                obfuscate_date=True, \n",
        "                                                ner_chunk=\"ner_chunk\",\n",
        "                                                token=\"token\",\n",
        "                                                documentHashCoder_col_name=\"document2\",\n",
        "                                                separator=\",\",\n",
        "                                                unnormalized_date=True,\n",
        "                                                unnormalized_mode=\"mask\"\n",
        "                                                )"
      ]
    },
    {
      "cell_type": "code",
      "execution_count": 44,
      "id": "2cda1462-9605-44f0-9d66-8efa761679b2",
      "metadata": {
        "id": "2cda1462-9605-44f0-9d66-8efa761679b2",
        "colab": {
          "base_uri": "https://localhost:8080/"
        },
        "outputId": "22812cd9-b703-434c-bbc7-a4de150ecd21"
      },
      "outputs": [
        {
          "output_type": "stream",
          "name": "stdout",
          "text": [
            "+---+----------------------------------------+--------------------------------------------+\n",
            "|ID |text                                    |text_deidentified                           |\n",
            "+---+----------------------------------------+--------------------------------------------+\n",
            "|0  |Chris Brown was discharged on 10/02/2022|Chalmer Norfolk was discharged on 09/27/2022|\n",
            "|1  |Mark White was discharged on 02/28/2020 |Henderson Bias was discharged on 02/26/2020 |\n",
            "|2  |John was discharged on 03Apr2022        |Ellan Ditty was discharged on <DATE>        |\n",
            "|3  |John Moore was discharged on 12/31/2022 |Malen Chance was discharged on 01/20/2023   |\n",
            "+---+----------------------------------------+--------------------------------------------+\n",
            "\n"
          ]
        }
      ],
      "source": [
        "res.show(truncate=False)"
      ]
    },
    {
      "cell_type": "markdown",
      "id": "73a4ff14-b5eb-4e48-8659-4c0be03a2318",
      "metadata": {
        "id": "73a4ff14-b5eb-4e48-8659-4c0be03a2318"
      },
      "source": [
        "**unnormalized_mode=\"obfuscate\"**"
      ]
    },
    {
      "cell_type": "code",
      "execution_count": 45,
      "id": "f79238e6-d0a6-4add-894f-4d1d75e6460f",
      "metadata": {
        "id": "f79238e6-d0a6-4add-894f-4d1d75e6460f",
        "colab": {
          "base_uri": "https://localhost:8080/"
        },
        "outputId": "ff3a7fa4-93f8-4707-d0db-d01e835eb894"
      },
      "outputs": [
        {
          "output_type": "stream",
          "name": "stdout",
          "text": [
            "Deidentification process of the 'text' field has begun...\n",
            "Deidentification process of the 'text' field was completed...\n",
            "Deidentifcation successfully completed and the results saved as 'deidentified1.csv' !\n"
          ]
        }
      ],
      "source": [
        "res= deid_implementor.deidentify(input_file_path=\"deid_unnormalized_data.csv\",\n",
        "                                                output_file_path=\"deidentified1.csv\",\n",
        "                                                custom_pipeline=model,\n",
        "                                                fields={\"text\": \"obfuscate\"},\n",
        "                                                shift_days=True,\n",
        "                                                obfuscate_date=True, \n",
        "                                                ner_chunk=\"ner_chunk\",\n",
        "                                                token=\"token\",\n",
        "                                                documentHashCoder_col_name=\"document2\",\n",
        "                                                separator=\",\",\n",
        "                                                unnormalized_date=True,\n",
        "                                                unnormalized_mode=\"obfuscate\"\n",
        "                                                )"
      ]
    },
    {
      "cell_type": "code",
      "execution_count": 46,
      "id": "82fa23cd-85fc-4351-b116-40dcab242fe9",
      "metadata": {
        "id": "82fa23cd-85fc-4351-b116-40dcab242fe9",
        "colab": {
          "base_uri": "https://localhost:8080/"
        },
        "outputId": "cf33682f-967d-4de1-8aab-dc690fba9ab1"
      },
      "outputs": [
        {
          "output_type": "stream",
          "name": "stdout",
          "text": [
            "+---+----------------------------------------+---------------------------------------------+\n",
            "|ID |text                                    |text_deidentified                            |\n",
            "+---+----------------------------------------+---------------------------------------------+\n",
            "|0  |Chris Brown was discharged on 10/02/2022|Laurance Stare was discharged on 09/27/2022  |\n",
            "|1  |Mark White was discharged on 02/28/2020 |Montez Anna was discharged on 02/26/2020     |\n",
            "|2  |John was discharged on 03Apr2022        |Rosamaria Primes was discharged on 07-07-1972|\n",
            "|3  |John Moore was discharged on 12/31/2022 |Hallie Lily was discharged on 01/20/2023     |\n",
            "+---+----------------------------------------+---------------------------------------------+\n",
            "\n"
          ]
        }
      ],
      "source": [
        "res.show(truncate=False)"
      ]
    },
    {
      "cell_type": "markdown",
      "id": "753d7bc4-a57a-4c20-a993-d84834237329",
      "metadata": {
        "id": "753d7bc4-a57a-4c20-a993-d84834237329"
      },
      "source": [
        "# With no custom pipeline"
      ]
    },
    {
      "cell_type": "markdown",
      "source": [
        "### Default parameters"
      ],
      "metadata": {
        "id": "SPGM7S0Pa9_4"
      },
      "id": "SPGM7S0Pa9_4"
    },
    {
      "cell_type": "code",
      "source": [
        "res= deid_implementor.deidentify(input_file_path=\"deid_data.csv\",\n",
        "                                 output_file_path=\"deidentified.csv\")"
      ],
      "metadata": {
        "id": "ZHlc6Kx0agm2",
        "colab": {
          "base_uri": "https://localhost:8080/"
        },
        "outputId": "bc739bd0-e66f-4038-9508-7cbfb43b61c6"
      },
      "id": "ZHlc6Kx0agm2",
      "execution_count": 47,
      "outputs": [
        {
          "output_type": "stream",
          "name": "stdout",
          "text": [
            "clinical_deidentification download started this may take some time.\n",
            "Approx size to download 1.6 GB\n",
            "[OK!]\n",
            "Deidentification process of the 'text' field has begun...\n",
            "deidentification process of the 'text' field was completed...\n",
            "Deidentifcation successfully completed and the results saved as 'deidentified.csv' !\n"
          ]
        }
      ]
    },
    {
      "cell_type": "code",
      "source": [
        "res.show(truncate=70)"
      ],
      "metadata": {
        "id": "EHE7G9fNagi9",
        "colab": {
          "base_uri": "https://localhost:8080/"
        },
        "outputId": "c2778889-8da4-44fa-e2c7-6eeb96e3be03"
      },
      "id": "EHE7G9fNagi9",
      "execution_count": 48,
      "outputs": [
        {
          "output_type": "stream",
          "name": "stdout",
          "text": [
            "+---+----------------------------------------------------------------------+----------------------------------------------------------------------+\n",
            "| ID|                                                         text_original|                                                             text_deid|\n",
            "+---+----------------------------------------------------------------------+----------------------------------------------------------------------+\n",
            "|  0|                                                                     \"|                                                                     \"|\n",
            "|  1|Record date : 2093-01-13 , David Hale , M.D . , Name : Hendrickson ...|Record date : <DATE> , <DOCTOR> , M.D . , Name : <PATIENT> , MR # <...|\n",
            "|  2|                                                                     \"|                                                                     \"|\n",
            "+---+----------------------------------------------------------------------+----------------------------------------------------------------------+\n",
            "\n"
          ]
        }
      ]
    },
    {
      "cell_type": "markdown",
      "id": "05063878-7193-4239-91d5-adb3e173f877",
      "metadata": {
        "tags": [],
        "id": "05063878-7193-4239-91d5-adb3e173f877"
      },
      "source": [
        "### Mask options"
      ]
    },
    {
      "cell_type": "markdown",
      "id": "9d0ed78e-3397-4add-a450-03e448e60b19",
      "metadata": {
        "id": "9d0ed78e-3397-4add-a450-03e448e60b19"
      },
      "source": [
        "#### entity_labels"
      ]
    },
    {
      "cell_type": "code",
      "execution_count": 49,
      "id": "fd35309b-6a8e-4229-81e5-7d4ad0f2bd78",
      "metadata": {
        "scrolled": true,
        "tags": [],
        "id": "fd35309b-6a8e-4229-81e5-7d4ad0f2bd78",
        "colab": {
          "base_uri": "https://localhost:8080/"
        },
        "outputId": "726a45a9-53b9-4717-87a4-abee6037a7c5"
      },
      "outputs": [
        {
          "output_type": "stream",
          "name": "stdout",
          "text": [
            "clinical_deidentification download started this may take some time.\n",
            "Approx size to download 1.6 GB\n",
            "[OK!]\n",
            "Deidentification process of the 'text' field has begun...\n",
            "deidentification process of the 'text' field was completed...\n",
            "Deidentifcation successfully completed and the results saved as 'deidentified.csv' !\n"
          ]
        }
      ],
      "source": [
        "res= deid_implementor.deidentify(input_file_path=\"deid_data.csv\",\n",
        "                                output_file_path=\"deidentified.csv\",\n",
        "                                fields={\"text\": \"mask\"}, masking_policy=\"entity_labels\")"
      ]
    },
    {
      "cell_type": "code",
      "execution_count": 50,
      "id": "1ecfcf04-674b-4a74-83d2-14d2c781ad02",
      "metadata": {
        "id": "1ecfcf04-674b-4a74-83d2-14d2c781ad02",
        "colab": {
          "base_uri": "https://localhost:8080/"
        },
        "outputId": "c01c993b-4efd-4448-f469-7d70491930a0"
      },
      "outputs": [
        {
          "output_type": "stream",
          "name": "stdout",
          "text": [
            "+---+----------------------------------------------------------------------+----------------------------------------------------------------------+\n",
            "| ID|                                                         text_original|                                                             text_deid|\n",
            "+---+----------------------------------------------------------------------+----------------------------------------------------------------------+\n",
            "|  0|                                                                     \"|                                                                     \"|\n",
            "|  1|Record date : 2093-01-13 , David Hale , M.D . , Name : Hendrickson ...|Record date : <DATE> , <DOCTOR> , M.D . , Name : <PATIENT> , MR # <...|\n",
            "|  2|                                                                     \"|                                                                     \"|\n",
            "+---+----------------------------------------------------------------------+----------------------------------------------------------------------+\n",
            "\n"
          ]
        }
      ],
      "source": [
        "res.show(truncate=70)"
      ]
    },
    {
      "cell_type": "markdown",
      "id": "3339fc4e-a60c-48be-9983-d949bf7fd58a",
      "metadata": {
        "id": "3339fc4e-a60c-48be-9983-d949bf7fd58a"
      },
      "source": [
        "#### fixed_length_chars"
      ]
    },
    {
      "cell_type": "code",
      "execution_count": 51,
      "id": "b677b693-9615-4d9b-b035-c1dcbb9b8f02",
      "metadata": {
        "scrolled": true,
        "tags": [],
        "id": "b677b693-9615-4d9b-b035-c1dcbb9b8f02",
        "colab": {
          "base_uri": "https://localhost:8080/"
        },
        "outputId": "dcb01ca8-52c0-48c2-b6cb-acdcab4c91aa"
      },
      "outputs": [
        {
          "output_type": "stream",
          "name": "stdout",
          "text": [
            "clinical_deidentification download started this may take some time.\n",
            "Approx size to download 1.6 GB\n",
            "[OK!]\n",
            "Deidentification process of the 'text' field has begun...\n",
            "deidentification process of the 'text' field was completed...\n",
            "Deidentifcation successfully completed and the results saved as 'deidentified.csv' !\n"
          ]
        }
      ],
      "source": [
        "res= deid_implementor.deidentify(input_file_path=\"deid_data.csv\",\n",
        "                                output_file_path=\"deidentified.csv\",\n",
        "                                fields={\"text\": \"mask\"},\n",
        "                                masking_policy=\"fixed_length_chars\",\n",
        "                                fixed_mask_length=2)"
      ]
    },
    {
      "cell_type": "code",
      "execution_count": 52,
      "id": "69a08edd-778a-4380-8ab5-24f5eff5af5c",
      "metadata": {
        "id": "69a08edd-778a-4380-8ab5-24f5eff5af5c",
        "colab": {
          "base_uri": "https://localhost:8080/"
        },
        "outputId": "54754c06-2beb-4872-fd10-aff73fea4ee5"
      },
      "outputs": [
        {
          "output_type": "stream",
          "name": "stdout",
          "text": [
            "+---+----------------------------------------------------------------------+----------------------------------------------------------------------+\n",
            "| ID|                                                         text_original|                                                             text_deid|\n",
            "+---+----------------------------------------------------------------------+----------------------------------------------------------------------+\n",
            "|  0|                                                                     \"|                                                                     \"|\n",
            "|  1|Record date : 2093-01-13 , David Hale , M.D . , Name : Hendrickson ...|Record date : ** , ** , M.D . , Name : ** , MR # ** Date : ** . PCP...|\n",
            "|  2|                                                                     \"|                                                                     \"|\n",
            "+---+----------------------------------------------------------------------+----------------------------------------------------------------------+\n",
            "\n"
          ]
        }
      ],
      "source": [
        "res.show(truncate=70)"
      ]
    },
    {
      "cell_type": "markdown",
      "id": "585c4420-bc3b-4d04-aa72-c4a27d166117",
      "metadata": {
        "id": "585c4420-bc3b-4d04-aa72-c4a27d166117"
      },
      "source": [
        "#### same_length_chars"
      ]
    },
    {
      "cell_type": "code",
      "execution_count": 53,
      "id": "f4a3bb55-78e7-4c22-84a8-c439cf5c3a3b",
      "metadata": {
        "scrolled": true,
        "tags": [],
        "id": "f4a3bb55-78e7-4c22-84a8-c439cf5c3a3b",
        "colab": {
          "base_uri": "https://localhost:8080/"
        },
        "outputId": "95300e80-0c70-49ef-a964-d581d519c0db"
      },
      "outputs": [
        {
          "output_type": "stream",
          "name": "stdout",
          "text": [
            "clinical_deidentification download started this may take some time.\n",
            "Approx size to download 1.6 GB\n",
            "[OK!]\n",
            "Deidentification process of the 'text' field has begun...\n",
            "deidentification process of the 'text' field was completed...\n",
            "Deidentifcation successfully completed and the results saved as 'deidentified.csv' !\n"
          ]
        }
      ],
      "source": [
        "res= deid_implementor.deidentify(input_file_path=\"deid_data.csv\",\n",
        "                                output_file_path=\"deidentified.csv\",\n",
        "                                fields={\"text\": \"mask\"},\n",
        "                                masking_policy=\"same_length_chars\")"
      ]
    },
    {
      "cell_type": "code",
      "execution_count": 54,
      "id": "e755940a-23d6-420b-9e8f-d459c86e05d7",
      "metadata": {
        "id": "e755940a-23d6-420b-9e8f-d459c86e05d7",
        "colab": {
          "base_uri": "https://localhost:8080/"
        },
        "outputId": "572d1f1d-7a7a-476e-e3b9-4ea31fcb7819"
      },
      "outputs": [
        {
          "output_type": "stream",
          "name": "stdout",
          "text": [
            "+---+----------------------------------------------------------------------+----------------------------------------------------------------------+\n",
            "| ID|                                                         text_original|                                                             text_deid|\n",
            "+---+----------------------------------------------------------------------+----------------------------------------------------------------------+\n",
            "|  0|                                                                     \"|                                                                     \"|\n",
            "|  1|Record date : 2093-01-13 , David Hale , M.D . , Name : Hendrickson ...|Record date : [********] , [********] , M.D . , Name : [***********...|\n",
            "|  2|                                                                     \"|                                                                     \"|\n",
            "+---+----------------------------------------------------------------------+----------------------------------------------------------------------+\n",
            "\n"
          ]
        }
      ],
      "source": [
        "res.show(truncate=70)"
      ]
    },
    {
      "cell_type": "markdown",
      "id": "bfe210e5-13b3-44d9-93e2-7ff808f7397c",
      "metadata": {
        "id": "bfe210e5-13b3-44d9-93e2-7ff808f7397c"
      },
      "source": [
        "### Obfuscate option"
      ]
    },
    {
      "cell_type": "code",
      "execution_count": 55,
      "id": "53b64ca8-2f5b-4342-809f-3812f6dda2bd",
      "metadata": {
        "scrolled": true,
        "tags": [],
        "id": "53b64ca8-2f5b-4342-809f-3812f6dda2bd",
        "colab": {
          "base_uri": "https://localhost:8080/"
        },
        "outputId": "7140814c-ec8f-4483-8ce7-8caff3188dba"
      },
      "outputs": [
        {
          "output_type": "stream",
          "name": "stdout",
          "text": [
            "clinical_deidentification download started this may take some time.\n",
            "Approx size to download 1.6 GB\n",
            "[OK!]\n",
            "Deidentification process of the 'text' field has begun...\n",
            "deidentification process of the 'text' field was completed...\n",
            "Deidentifcation successfully completed and the results saved as 'deidentified.csv' !\n"
          ]
        }
      ],
      "source": [
        "res= deid_implementor.deidentify(input_file_path=\"deid_data.csv\",\n",
        "                                output_file_path=\"deidentified.csv\",\n",
        "                                separator=\"\\t\",\n",
        "                                fields={\"text\": \"obfuscate\"},\n",
        "                                unnormalized_date=False)"
      ]
    },
    {
      "cell_type": "code",
      "execution_count": 56,
      "id": "0619a926-04ac-4a5b-b432-2f8969b015f6",
      "metadata": {
        "id": "0619a926-04ac-4a5b-b432-2f8969b015f6",
        "colab": {
          "base_uri": "https://localhost:8080/"
        },
        "outputId": "119546be-c42d-4f1a-c205-c095d748a552"
      },
      "outputs": [
        {
          "output_type": "stream",
          "name": "stdout",
          "text": [
            "+---+----------------------------------------------------------------------+----------------------------------------------------------------------+\n",
            "| ID|                                                         text_original|                                                             text_deid|\n",
            "+---+----------------------------------------------------------------------+----------------------------------------------------------------------+\n",
            "|  0|                                                                     \"|                                                                     \"|\n",
            "|  1|Record date : 2093-01-13 , David Hale , M.D . , Name : Hendrickson ...|Record date : 2093-02-12 , Dr Pat Bodily , M.D . , Name : Shirleen ...|\n",
            "|  1|Record date : 2093-01-13 , David Hale , M.D . , Name : Hendrickson ...|       PCP : Lamont Lineman , 35years-old , Record date : 2080-01-08 .|\n",
            "|  1|Record date : 2093-01-13 , David Hale , M.D . , Name : Hendrickson ...|RENOWN SOUTH MEADOWS MEDICAL CENTER , 98 Spruce St , Phone 519-215-...|\n",
            "|  2|                                                                     \"|                                                                     \"|\n",
            "+---+----------------------------------------------------------------------+----------------------------------------------------------------------+\n",
            "\n"
          ]
        }
      ],
      "source": [
        "res.show(truncate=70) "
      ]
    },
    {
      "cell_type": "markdown",
      "id": "28e027b7-be89-4ac0-85da-b4de9a7e481a",
      "metadata": {
        "id": "28e027b7-be89-4ac0-85da-b4de9a7e481a"
      },
      "source": [
        "#### age groups obfuscation"
      ]
    },
    {
      "cell_type": "code",
      "execution_count": 57,
      "id": "b809769c-9460-45a8-8828-c4028cf2f61d",
      "metadata": {
        "scrolled": true,
        "tags": [],
        "id": "b809769c-9460-45a8-8828-c4028cf2f61d",
        "colab": {
          "base_uri": "https://localhost:8080/"
        },
        "outputId": "6b3437e6-e582-47ff-9634-48b9cec54748"
      },
      "outputs": [
        {
          "output_type": "stream",
          "name": "stdout",
          "text": [
            "clinical_deidentification download started this may take some time.\n",
            "Approx size to download 1.6 GB\n",
            "[OK!]\n",
            "Deidentification process of the 'text' field has begun...\n",
            "deidentification process of the 'text' field was completed...\n",
            "Deidentifcation successfully completed and the results saved as 'deidentified.csv' !\n"
          ]
        }
      ],
      "source": [
        "res= deid_implementor.deidentify(input_file_path=\"deid_age_group.csv\",\n",
        "                                                output_file_path=\"deidentified.csv\",\n",
        "                                                fields={\"text\": \"obfuscate\"},\n",
        "                                                age_group_obfuscation=True, age_ranges=[1, 4, 12, 20, 40, 60, 80])"
      ]
    },
    {
      "cell_type": "code",
      "execution_count": 58,
      "id": "c6777c7b-3caa-4cdf-b2c5-484f9459a403",
      "metadata": {
        "id": "c6777c7b-3caa-4cdf-b2c5-484f9459a403",
        "colab": {
          "base_uri": "https://localhost:8080/"
        },
        "outputId": "9d863df5-9227-479c-f3aa-a9d60e1da5fb"
      },
      "outputs": [
        {
          "output_type": "stream",
          "name": "stdout",
          "text": [
            "+---+--------------------------------+--------------------------------+\n",
            "| ID|                   text_original|                       text_deid|\n",
            "+---+--------------------------------+--------------------------------+\n",
            "|  0|                 1 year old baby|                  3year old baby|\n",
            "|  1|                 4 year old kids|                  8year old kids|\n",
            "|  2|       A 15 year old female with|        A 16year old female with|\n",
            "|  3|Record date: 2093-01-13, Age: 25|Record date: 2093-01-27, Age: 35|\n",
            "|  4|         Patient is 45 years-old|          Patient is 40years-old|\n",
            "|  5|         He is 65 years-old male|          He is 67years-old male|\n",
            "+---+--------------------------------+--------------------------------+\n",
            "\n"
          ]
        }
      ],
      "source": [
        "res.show(truncate=70)"
      ]
    },
    {
      "cell_type": "markdown",
      "id": "623c2c68-788b-4f45-be82-9662bf595acb",
      "metadata": {
        "id": "623c2c68-788b-4f45-be82-9662bf595acb"
      },
      "source": [
        "#### shifting days"
      ]
    },
    {
      "cell_type": "code",
      "execution_count": 59,
      "id": "3ad9058e-b33f-4489-b4e4-ebca4ff0485c",
      "metadata": {
        "id": "3ad9058e-b33f-4489-b4e4-ebca4ff0485c",
        "colab": {
          "base_uri": "https://localhost:8080/"
        },
        "outputId": "66be8f3b-3e67-4a96-c743-7580bf953249"
      },
      "outputs": [
        {
          "output_type": "stream",
          "name": "stdout",
          "text": [
            "+---------+----------------------------------------+\n",
            "|patientID|text                                    |\n",
            "+---------+----------------------------------------+\n",
            "|A001     |Chris Brown was discharged on 10/02/2022|\n",
            "|A002     |Mark White was discharged on 03/01/2020 |\n",
            "|A003     |John was discharged on 03/15/2022       |\n",
            "|A004     |John Moore was discharged on 12/31/2022 |\n",
            "+---------+----------------------------------------+\n",
            "\n"
          ]
        }
      ],
      "source": [
        "data = pd.DataFrame(\n",
        "    {'patientID' : ['A001', 'A002', 'A003', 'A004'],\n",
        "     'text' : ['Chris Brown was discharged on 10/02/2022', \n",
        "               'Mark White was discharged on 03/01/2020', \n",
        "               'John was discharged on 03/15/2022',\n",
        "               'John Moore was discharged on 12/31/2022'\n",
        "              ]\n",
        "    }\n",
        ")\n",
        "\n",
        "my_input_df = spark.createDataFrame(data)\n",
        "df_pd= my_input_df.toPandas()\n",
        "df_pd.to_csv(\"shift_days_data.csv\", index=False)\n",
        "\n",
        "my_input_df.show(truncate=False)"
      ]
    },
    {
      "cell_type": "code",
      "execution_count": 60,
      "id": "fa3cff25-01be-4001-a8c2-e5c0668d22db",
      "metadata": {
        "scrolled": true,
        "tags": [],
        "id": "fa3cff25-01be-4001-a8c2-e5c0668d22db",
        "colab": {
          "base_uri": "https://localhost:8080/"
        },
        "outputId": "6861cc49-e1ed-475a-ed51-55e714ea26ea"
      },
      "outputs": [
        {
          "output_type": "stream",
          "name": "stdout",
          "text": [
            "clinical_deidentification download started this may take some time.\n",
            "Approx size to download 1.6 GB\n",
            "[OK!]\n",
            "Deidentification process of the 'text' field has begun...\n",
            "deidentification process of the 'text' field was completed...\n",
            "Deidentifcation successfully completed and the results saved as 'deidentified.csv' !\n"
          ]
        }
      ],
      "source": [
        "res= deid_implementor.deidentify(input_file_path=\"shift_days_data.csv\",\n",
        "                                                output_file_path=\"deidentified.csv\",\n",
        "                                                fields={\"text\": \"obfuscate\"},\n",
        "                                                shift_days=True,\n",
        "                                                obfuscate_date=True, \n",
        "                                                separator=\",\",\n",
        "                                                number_of_days=2)"
      ]
    },
    {
      "cell_type": "code",
      "execution_count": 61,
      "id": "544e1d46-a7ba-4adf-861b-b8e9b725802c",
      "metadata": {
        "id": "544e1d46-a7ba-4adf-861b-b8e9b725802c",
        "colab": {
          "base_uri": "https://localhost:8080/"
        },
        "outputId": "2245fa0d-61f3-4e23-f5e1-95d458411cbd"
      },
      "outputs": [
        {
          "output_type": "stream",
          "name": "stdout",
          "text": [
            "+---+----------------------------------------+------------------------------------------+\n",
            "|ID |text_original                           |text_deid                                 |\n",
            "+---+----------------------------------------+------------------------------------------+\n",
            "|0  |Chris Brown was discharged on 10/02/2022|Dotty Neat was discharged on 10/04/2022   |\n",
            "|1  |Mark White was discharged on 03/01/2020 |Jennings Abt was discharged on 03/03/2020 |\n",
            "|2  |John was discharged on 03/15/2022       |Bolling Kells was discharged on 03/17/2022|\n",
            "|3  |John Moore was discharged on 12/31/2022 |Ellender Rom was discharged on 01/02/2023 |\n",
            "+---+----------------------------------------+------------------------------------------+\n",
            "\n"
          ]
        }
      ],
      "source": [
        "res.show(truncate=False)"
      ]
    },
    {
      "cell_type": "markdown",
      "id": "e9cc0379-64e7-48ff-96cc-461e98f49f48",
      "metadata": {
        "id": "e9cc0379-64e7-48ff-96cc-461e98f49f48"
      },
      "source": [
        "#### unnormalized date formats"
      ]
    },
    {
      "cell_type": "code",
      "execution_count": 62,
      "id": "66d446d3-c3ef-48a3-b1c4-a0a065bea8ff",
      "metadata": {
        "scrolled": true,
        "tags": [],
        "id": "66d446d3-c3ef-48a3-b1c4-a0a065bea8ff",
        "colab": {
          "base_uri": "https://localhost:8080/"
        },
        "outputId": "6322a820-6901-48e6-b4c5-f90ace6b86e3"
      },
      "outputs": [
        {
          "output_type": "stream",
          "name": "stdout",
          "text": [
            "clinical_deidentification download started this may take some time.\n",
            "Approx size to download 1.6 GB\n",
            "[OK!]\n",
            "Deidentification process of the 'text' field has begun...\n",
            "deidentification process of the 'text' field was completed...\n",
            "Deidentifcation successfully completed and the results saved as 'deidentified.csv' !\n"
          ]
        }
      ],
      "source": [
        "res= deid_implementor.deidentify(input_file_path=\"deid_unnormalized_data.csv\",\n",
        "                                                output_file_path=\"deidentified.csv\",\n",
        "                                                fields={\"text\": \"obfuscate\"},\n",
        "                                                shift_days=True,\n",
        "                                                obfuscate_date=True, \n",
        "                                                separator=\",\",\n",
        "                                                unnormalized_date=True,\n",
        "                                                unnormalized_mode=\"obfuscate\"\n",
        "                                                )"
      ]
    },
    {
      "cell_type": "code",
      "execution_count": 63,
      "id": "179bcfec-6625-4569-bc28-17fe718c6937",
      "metadata": {
        "id": "179bcfec-6625-4569-bc28-17fe718c6937",
        "colab": {
          "base_uri": "https://localhost:8080/"
        },
        "outputId": "71407d9b-013c-4c44-e0ab-d8157499380d"
      },
      "outputs": [
        {
          "output_type": "stream",
          "name": "stdout",
          "text": [
            "+---+----------------------------------------+------------------------------------------+\n",
            "|ID |text_original                           |text_deid                                 |\n",
            "+---+----------------------------------------+------------------------------------------+\n",
            "|0  |Chris Brown was discharged on 10/02/2022|Dotty Neat was discharged on 10/04/2022   |\n",
            "|1  |Mark White was discharged on 02/28/2020 |Jennings Abt was discharged on 03/01/2020 |\n",
            "|2  |John was discharged on 03Apr2022        |Bolling Kells was discharged on 11-02-2001|\n",
            "|3  |John Moore was discharged on 12/31/2022 |Ellender Rom was discharged on 01/02/2023 |\n",
            "+---+----------------------------------------+------------------------------------------+\n",
            "\n"
          ]
        }
      ],
      "source": [
        "res.show(truncate=False)"
      ]
    },
    {
      "cell_type": "markdown",
      "source": [
        "**unnormalized_mode=\"mask\"**"
      ],
      "metadata": {
        "id": "LAUiZZRqFQAC"
      },
      "id": "LAUiZZRqFQAC"
    },
    {
      "cell_type": "code",
      "execution_count": 64,
      "id": "a0cee4af-6e75-4ab2-b2e5-42aee64fb3f8",
      "metadata": {
        "scrolled": true,
        "tags": [],
        "id": "a0cee4af-6e75-4ab2-b2e5-42aee64fb3f8",
        "colab": {
          "base_uri": "https://localhost:8080/"
        },
        "outputId": "ddcfbd14-5333-4301-9230-7fa4cb60768c"
      },
      "outputs": [
        {
          "output_type": "stream",
          "name": "stdout",
          "text": [
            "clinical_deidentification download started this may take some time.\n",
            "Approx size to download 1.6 GB\n",
            "[OK!]\n",
            "Deidentification process of the 'text' field has begun...\n",
            "deidentification process of the 'text' field was completed...\n",
            "Deidentifcation successfully completed and the results saved as 'deidentified.csv' !\n"
          ]
        }
      ],
      "source": [
        "res= deid_implementor.deidentify(input_file_path=\"deid_unnormalized_data.csv\",\n",
        "                                                output_file_path=\"deidentified.csv\",\n",
        "                                                fields={\"text\": \"obfuscate\"},\n",
        "                                                shift_days=True,\n",
        "                                                obfuscate_date=True, \n",
        "                                                separator=\",\",\n",
        "                                                unnormalized_date=True,\n",
        "                                                unnormalized_mode=\"mask\"\n",
        "                                                )"
      ]
    },
    {
      "cell_type": "code",
      "execution_count": 65,
      "id": "65e37f91-5bf4-4db9-ab33-26cb1b7438fc",
      "metadata": {
        "id": "65e37f91-5bf4-4db9-ab33-26cb1b7438fc",
        "colab": {
          "base_uri": "https://localhost:8080/"
        },
        "outputId": "cb69969c-545e-474e-b70d-738bc837e4f4"
      },
      "outputs": [
        {
          "output_type": "stream",
          "name": "stdout",
          "text": [
            "+---+----------------------------------------+-----------------------------------------+\n",
            "|ID |text_original                           |text_deid                                |\n",
            "+---+----------------------------------------+-----------------------------------------+\n",
            "|0  |Chris Brown was discharged on 10/02/2022|Dotty Neat was discharged on 10/04/2022  |\n",
            "|1  |Mark White was discharged on 02/28/2020 |Jennings Abt was discharged on 03/01/2020|\n",
            "|2  |John was discharged on 03Apr2022        |Bolling Kells was discharged on <DATE>   |\n",
            "|3  |John Moore was discharged on 12/31/2022 |Ellender Rom was discharged on 01/02/2023|\n",
            "+---+----------------------------------------+-----------------------------------------+\n",
            "\n"
          ]
        }
      ],
      "source": [
        "res.show(truncate=False)"
      ]
    },
    {
      "cell_type": "markdown",
      "id": "aa5f5af0-ad93-4542-b86c-85128718a374",
      "metadata": {
        "id": "aa5f5af0-ad93-4542-b86c-85128718a374"
      },
      "source": [
        "# Structured Deidentification"
      ]
    },
    {
      "cell_type": "code",
      "source": [
        "#sample data\n",
        "!wget -q https://raw.githubusercontent.com/JohnSnowLabs/spark-nlp-workshop/master/tutorials/Certification_Trainings/Healthcare/data/hipaa-table-001.txt\n",
        "\n",
        "df = spark.read.format(\"csv\") \\\n",
        "    .option(\"sep\", \"\\t\") \\\n",
        "    .option(\"inferSchema\", \"true\") \\\n",
        "    .option(\"header\", \"true\") \\\n",
        "    .load(\"hipaa-table-001.txt\")\n",
        "\n",
        "df = df.withColumnRenamed(\"PATIENT\",\"NAME\")\n",
        "df.show(truncate=False)"
      ],
      "metadata": {
        "id": "GBf31JxQFlQN",
        "colab": {
          "base_uri": "https://localhost:8080/"
        },
        "outputId": "7577fcfa-71ad-47dd-8bfc-42608047f7dc"
      },
      "id": "GBf31JxQFlQN",
      "execution_count": 66,
      "outputs": [
        {
          "output_type": "stream",
          "name": "stdout",
          "text": [
            "+---------------+----------+---+----------------------------------------------------+-------+--------------+---+---+\n",
            "|NAME           |DOB       |AGE|ADDRESS                                             |ZIPCODE|TEL           |SBP|DBP|\n",
            "+---------------+----------+---+----------------------------------------------------+-------+--------------+---+---+\n",
            "|Cecilia Chapman|04/02/1935|83 |711-2880 Nulla St. Mankato Mississippi              |69200  |(257) 563-7401|101|42 |\n",
            "|Iris Watson    |03/10/2009|9  |P.O. Box 283 8562 Fusce Rd. Frederick Nebraska      |20620  |(372) 587-2335|159|122|\n",
            "|Bryar Pitts    |11/01/1921|98 |5543 Aliquet St. Fort Dodge GA                      |20783  |(717) 450-4729|149|52 |\n",
            "|Theodore Lowe  |13/02/2002|16 |Ap #867-859 Sit Rd. Azusa New York                  |39531  |(793) 151-6230|134|115|\n",
            "|Calista Wise   |20/08/1942|76 |7292 Dictum Av. San Antonio MI                      |47096  |(492) 709-6392|139|78 |\n",
            "|Kyla Olsen     |12/05/1973|45 |Ap #651-8679 Sodales Av. Tamuning PA                |10855  |(654) 393-5734|120|112|\n",
            "|Forrest Ray    |11/01/1991|27 |191-103 Integer Rd. Corona New Mexico               |8219   |(404) 960-3807|143|126|\n",
            "|Hiroko Potter  |18/11/1937|81 |P.O. Box 887 2508 Dolor. Av. Muskegon KY            |12482  |(314) 244-6306|147|75 |\n",
            "|Celeste Slater |12/05/1980|38 |606-3727 Ullamcorper. Street Roseville NH           |11523  |(786) 713-8616|147|123|\n",
            "|Nyssa Vazquez  |24/09/1956|62 |511-5762 At Rd. Chelsea MI                          |67708  |(947) 278-5929|129|50 |\n",
            "|Lawrence Moreno|26/12/1906|112|935-9940 Tortor. Street Santa Rosa MN               |98804  |(684) 579-1879|133|102|\n",
            "|Ina Moran      |26/10/1983|35 |P.O. Box 929 4189 Nunc Road Lebanon KY              |69409  |(389) 737-2852|101|67 |\n",
            "|Aaron Hawkins  |26/09/2009|9  |5587 Nunc. Avenue Erie Rhode Island                 |24975  |(660) 663-4518|87 |81 |\n",
            "|Hedy Greene    |03/10/1920|98 |Ap #696-3279 Viverra. Avenue Latrobe DE             |38100  |(608) 265-2215|128|123|\n",
            "|Melvin Porter  |14/08/1911|107|P.O. Box 132 1599 Curabitur Rd. Bandera South Dakota|45149  |(959) 119-8364|83 |43 |\n",
            "|Keefe Sellers  |16/05/1937|81 |347-7666 Iaculis St. Woodruff SC                    |49854  |(468) 353-2641|148|109|\n",
            "|Joan Romero    |08/12/2004|14 |666-4366 Lacinia Avenue Idaho Falls Ohio            |19253  |(248) 675-4007|75 |53 |\n",
            "|Davis Patrick  |09/01/1956|63 |P.O. Box 147 2546 Sociosqu Rd. Bethlehem Utah       |2913   |(939) 353-1107|142|62 |\n",
            "|Leilani Boyer  |18/10/1934|84 |557-6308 Lacinia Road San Bernardino ND             |9289   |(570) 873-7090|137|48 |\n",
            "|Colby Bernard  |02/10/1905|113|Ap #285-7193 Ullamcorper Avenue Amesbury HI         |93373  |(302) 259-2375|84 |41 |\n",
            "+---------------+----------+---+----------------------------------------------------+-------+--------------+---+---+\n",
            "only showing top 20 rows\n",
            "\n"
          ]
        }
      ]
    },
    {
      "cell_type": "code",
      "source": [
        "df_pd= df.toPandas()\n",
        "df_pd.to_csv(\"deid_structured_data.csv\", index=False)"
      ],
      "metadata": {
        "id": "OKp92mbyFrCz"
      },
      "id": "OKp92mbyFrCz",
      "execution_count": 67,
      "outputs": []
    },
    {
      "cell_type": "markdown",
      "id": "bfc841f6-4bc8-4a7c-9cf4-fc32f17afd67",
      "metadata": {
        "id": "bfc841f6-4bc8-4a7c-9cf4-fc32f17afd67"
      },
      "source": [
        "## Default parameters"
      ]
    },
    {
      "cell_type": "code",
      "execution_count": 68,
      "id": "91dd6ea7-622d-45b6-aa7a-cb81febb6b3e",
      "metadata": {
        "id": "91dd6ea7-622d-45b6-aa7a-cb81febb6b3e",
        "colab": {
          "base_uri": "https://localhost:8080/"
        },
        "outputId": "c86d21ee-03b6-41ba-b595-967dc4155294"
      },
      "outputs": [
        {
          "output_type": "stream",
          "name": "stdout",
          "text": [
            "Deidentifcation successfully completed and the results saved as 'deidentified.csv' !\n"
          ]
        }
      ],
      "source": [
        "res= deid_implementor.structured_deidentifier(input_file_path=\"deid_structured_data.csv\")"
      ]
    },
    {
      "cell_type": "code",
      "execution_count": 69,
      "id": "2fb6a2d1-eec5-472a-bdff-5e08f31eb076",
      "metadata": {
        "id": "2fb6a2d1-eec5-472a-bdff-5e08f31eb076",
        "colab": {
          "base_uri": "https://localhost:8080/"
        },
        "outputId": "4d8af776-6444-41f1-f127-299e703071d3"
      },
      "outputs": [
        {
          "output_type": "stream",
          "name": "stdout",
          "text": [
            "+-------------------+----------+----+--------------------+-------+--------------+---+---+\n",
            "|               NAME|       DOB| AGE|             ADDRESS|ZIPCODE|           TEL|SBP|DBP|\n",
            "+-------------------+----------+----+--------------------+-------+--------------+---+---+\n",
            "|   [Romeo Handsome]|04/02/1935|[60]|711-2880 Nulla St...|  69200|(257) 563-7401|101| 42|\n",
            "|        [Otis Ruck]|03/10/2009| [7]|P.O. Box 283 8562...|  20620|(372) 587-2335|159|122|\n",
            "|     [Vilinda Hess]|11/01/1921|[60]|5543 Aliquet St. ...|  20783|(717) 450-4729|149| 52|\n",
            "|  [Thomasena Sears]|13/02/2002|[13]|Ap #867-859 Sit R...|  39531|(793) 151-6230|134|115|\n",
            "|    [Maryjo Graham]|20/08/1942|[60]|7292 Dictum Av. S...|  47096|(492) 709-6392|139| 78|\n",
            "|    [Mauricio Lana]|12/05/1973|[58]|Ap #651-8679 Soda...|  10855|(654) 393-5734|120|112|\n",
            "|     [Vertis Oscar]|11/01/1991|[35]|191-103 Integer R...|   8219|(404) 960-3807|143|126|\n",
            "|    [Mcdonald Hams]|18/11/1937|[60]|P.O. Box 887 2508...|  12482|(314) 244-6306|147| 75|\n",
            "|      [Evalene Aas]|12/05/1980|[37]|606-3727 Ullamcor...|  11523|(786) 713-8616|147|123|\n",
            "|[Willette Porteous]|24/09/1956|[60]|511-5762 At Rd. C...|  67708|(947) 278-5929|129| 50|\n",
            "|     [Kerrie Colla]|26/12/1906|[60]|935-9940 Tortor. ...|  98804|(684) 579-1879|133|102|\n",
            "|  [Creston Costain]|26/10/1983|[36]|P.O. Box 929 4189...|  69409|(389) 737-2852|101| 67|\n",
            "|     [Carley Kubas]|26/09/2009| [7]|5587 Nunc. Avenue...|  24975|(660) 663-4518| 87| 81|\n",
            "|       [Arvid Oven]|03/10/1920|[60]|Ap #696-3279 Vive...|  38100|(608) 265-2215|128|123|\n",
            "|   [Harlene Heater]|14/08/1911|[60]|P.O. Box 132 1599...|  45149|(959) 119-8364| 83| 43|\n",
            "|    [Searcy Spells]|16/05/1937|[60]|347-7666 Iaculis ...|  49854|(468) 353-2641|148|109|\n",
            "|    [Daryll Shaver]|08/12/2004|[18]|666-4366 Lacinia ...|  19253|(248) 675-4007| 75| 53|\n",
            "|  [Jestine Bellini]|09/01/1956|[60]|P.O. Box 147 2546...|   2913|(939) 353-1107|142| 62|\n",
            "|    [Amadeo Bowels]|18/10/1934|[60]|557-6308 Lacinia ...|   9289|(570) 873-7090|137| 48|\n",
            "|          [Tova Le]|02/10/1905|[60]|Ap #285-7193 Ulla...|  93373|(302) 259-2375| 84| 41|\n",
            "+-------------------+----------+----+--------------------+-------+--------------+---+---+\n",
            "only showing top 20 rows\n",
            "\n"
          ]
        }
      ],
      "source": [
        "res.show()"
      ]
    },
    {
      "cell_type": "markdown",
      "id": "aba6745f-a6e5-455a-a4b3-6cd334514242",
      "metadata": {
        "id": "aba6745f-a6e5-455a-a4b3-6cd334514242"
      },
      "source": [
        "## ref_source=File"
      ]
    },
    {
      "cell_type": "code",
      "source": [
        "obfuscator_unique_ref_test = '''Will Perry#PATIENT\n",
        "John Smith#PATIENT\n",
        "Marvin MARSHALL#PATIENT\n",
        "Hubert GROGAN#PATIENT\n",
        "ALTHEA COLBURN#PATIENT\n",
        "Kalil AMIN#PATIENT\n",
        "Inci FOUNTAIN#PATIENT\n",
        "Jackson WILLE#PATIENT\n",
        "Jack SANTOS#PATIENT\n",
        "Mahmood ALBURN#PATIENT\n",
        "Marnie MELINGTON#PATIENT\n",
        "Aysha GHAZI#PATIENT\n",
        "Maryland CODER#PATIENT\n",
        "Darene GEORGIOUS#PATIENT\n",
        "Shelly WELLBECK#PATIENT\n",
        "Min Kun JAE#PATIENT\n",
        "Thomson THOMAS#PATIENT\n",
        "Christian SUDDINBURG#PATIENT\n",
        "Aberdeen#CITY\n",
        "Louisburg St#STREET\n",
        "France#LOC\n",
        "Nick Riviera#DOCTOR\n",
        "5552312#PHONE\n",
        "St James Hospital#HOSPITAL\n",
        "Calle del Libertador#ADDRESS\n",
        "111#ID\n",
        "Will#DOCTOR\n",
        "20#AGE\n",
        "30#AGE\n",
        "40#AGE\n",
        "50#AGE\n",
        "60#AGE\n",
        "'''\n",
        "\n",
        "with open('obfuscator_unique_ref_test.txt', 'w') as f:\n",
        "  f.write(obfuscator_unique_ref_test)"
      ],
      "metadata": {
        "id": "nq4Ow6jvGEHB"
      },
      "id": "nq4Ow6jvGEHB",
      "execution_count": 70,
      "outputs": []
    },
    {
      "cell_type": "code",
      "execution_count": 71,
      "id": "0c365708-8870-47c8-87e1-50bd72e3741e",
      "metadata": {
        "id": "0c365708-8870-47c8-87e1-50bd72e3741e",
        "colab": {
          "base_uri": "https://localhost:8080/"
        },
        "outputId": "bf91c824-88d1-4efe-84a4-9185b8153916"
      },
      "outputs": [
        {
          "output_type": "stream",
          "name": "stdout",
          "text": [
            "Deidentifcation successfully completed and the results saved as 'deidentified.csv' !\n"
          ]
        }
      ],
      "source": [
        "res= deid_implementor.structured_deidentifier(input_file_path= \"deid_structured_data.csv\",\n",
        "                                              ref_source=\"file\", \n",
        "                                              columns_dict={'NAME': 'PATIENT', 'AGE': 'AGE'},\n",
        "                                              columns_seed={\"NAME\": 23, \"AGE\": 23}, \n",
        "                                              obfuscateRefFile=\"obfuscator_unique_ref_test.txt\")"
      ]
    },
    {
      "cell_type": "code",
      "execution_count": 72,
      "id": "03f4fc62-d513-42ab-8d41-22bf59136040",
      "metadata": {
        "id": "03f4fc62-d513-42ab-8d41-22bf59136040",
        "colab": {
          "base_uri": "https://localhost:8080/"
        },
        "outputId": "4516ed7e-4ac8-4cc9-ff67-361c9b132cd0"
      },
      "outputs": [
        {
          "output_type": "stream",
          "name": "stdout",
          "text": [
            "+------------------+----------+----+--------------------+-------+--------------+---+---+\n",
            "|              NAME|       DOB| AGE|             ADDRESS|ZIPCODE|           TEL|SBP|DBP|\n",
            "+------------------+----------+----+--------------------+-------+--------------+---+---+\n",
            "|   [Inci FOUNTAIN]|04/02/1935|[60]|711-2880 Nulla St...|  69200|(257) 563-7401|101| 42|\n",
            "|     [Jack SANTOS]|03/10/2009|[30]|P.O. Box 283 8562...|  20620|(372) 587-2335|159|122|\n",
            "|[Darene GEORGIOUS]|11/01/1921|[30]|5543 Aliquet St. ...|  20783|(717) 450-4729|149| 52|\n",
            "| [Shelly WELLBECK]|13/02/2002|[40]|Ap #867-859 Sit R...|  39531|(793) 151-6230|134|115|\n",
            "|   [Hubert GROGAN]|20/08/1942|[40]|7292 Dictum Av. S...|  47096|(492) 709-6392|139| 78|\n",
            "|      [Kalil AMIN]|12/05/1973|[40]|Ap #651-8679 Soda...|  10855|(654) 393-5734|120|112|\n",
            "|  [ALTHEA COLBURN]|11/01/1991|[60]|191-103 Integer R...|   8219|(404) 960-3807|143|126|\n",
            "|  [Thomson THOMAS]|18/11/1937|[60]|P.O. Box 887 2508...|  12482|(314) 244-6306|147| 75|\n",
            "|     [Jack SANTOS]|12/05/1980|[60]|606-3727 Ullamcor...|  11523|(786) 713-8616|147|123|\n",
            "|      [Will Perry]|24/09/1956|[20]|511-5762 At Rd. C...|  67708|(947) 278-5929|129| 50|\n",
            "|   [Jackson WILLE]|26/12/1906|[60]|935-9940 Tortor. ...|  98804|(684) 579-1879|133|102|\n",
            "| [Shelly WELLBECK]|26/10/1983|[40]|P.O. Box 929 4189...|  69409|(389) 737-2852|101| 67|\n",
            "|      [Kalil AMIN]|26/09/2009|[30]|5587 Nunc. Avenue...|  24975|(660) 663-4518| 87| 81|\n",
            "|[Marnie MELINGTON]|03/10/1920|[30]|Ap #696-3279 Vive...|  38100|(608) 265-2215|128|123|\n",
            "|     [Min Kun JAE]|14/08/1911|[30]|P.O. Box 132 1599...|  45149|(959) 119-8364| 83| 43|\n",
            "| [Marvin MARSHALL]|16/05/1937|[60]|347-7666 Iaculis ...|  49854|(468) 353-2641|148|109|\n",
            "| [Marvin MARSHALL]|08/12/2004|[50]|666-4366 Lacinia ...|  19253|(248) 675-4007| 75| 53|\n",
            "|     [Min Kun JAE]|09/01/1956|[30]|P.O. Box 147 2546...|   2913|(939) 353-1107|142| 62|\n",
            "|  [Maryland CODER]|18/10/1934|[20]|557-6308 Lacinia ...|   9289|(570) 873-7090|137| 48|\n",
            "|[Marnie MELINGTON]|02/10/1905|[20]|Ap #285-7193 Ulla...|  93373|(302) 259-2375| 84| 41|\n",
            "+------------------+----------+----+--------------------+-------+--------------+---+---+\n",
            "only showing top 20 rows\n",
            "\n"
          ]
        }
      ],
      "source": [
        "res.show()"
      ]
    },
    {
      "cell_type": "markdown",
      "id": "48155ef4-fe14-4372-8d2b-9cda5086acc2",
      "metadata": {
        "id": "48155ef4-fe14-4372-8d2b-9cda5086acc2"
      },
      "source": [
        "## shift days"
      ]
    },
    {
      "cell_type": "code",
      "execution_count": 73,
      "id": "01cef8d9-982f-41f3-91a6-2808942b267d",
      "metadata": {
        "id": "01cef8d9-982f-41f3-91a6-2808942b267d",
        "colab": {
          "base_uri": "https://localhost:8080/",
          "height": 142
        },
        "outputId": "e13f4e0b-d58b-4d12-ce17-164431769c64"
      },
      "outputs": [
        {
          "output_type": "execute_result",
          "data": {
            "text/plain": [
              "            NAME         DOB                  ADDRESS  SBP               TEL\n",
              "0    Juan García  13/02/1977            711 Nulla St.  140        673 431234\n",
              "1     Will Smith  23/02/1977          1 Green Avenue.  140  +23 (673) 431234\n",
              "2  Pedro Ximénez  11/04/1900  Calle del Libertador, 7  100        912 345623"
            ],
            "text/html": [
              "\n",
              "  <div id=\"df-3a8930db-21d7-44cb-8f46-699f319f63e8\">\n",
              "    <div class=\"colab-df-container\">\n",
              "      <div>\n",
              "<style scoped>\n",
              "    .dataframe tbody tr th:only-of-type {\n",
              "        vertical-align: middle;\n",
              "    }\n",
              "\n",
              "    .dataframe tbody tr th {\n",
              "        vertical-align: top;\n",
              "    }\n",
              "\n",
              "    .dataframe thead th {\n",
              "        text-align: right;\n",
              "    }\n",
              "</style>\n",
              "<table border=\"1\" class=\"dataframe\">\n",
              "  <thead>\n",
              "    <tr style=\"text-align: right;\">\n",
              "      <th></th>\n",
              "      <th>NAME</th>\n",
              "      <th>DOB</th>\n",
              "      <th>ADDRESS</th>\n",
              "      <th>SBP</th>\n",
              "      <th>TEL</th>\n",
              "    </tr>\n",
              "  </thead>\n",
              "  <tbody>\n",
              "    <tr>\n",
              "      <th>0</th>\n",
              "      <td>Juan García</td>\n",
              "      <td>13/02/1977</td>\n",
              "      <td>711 Nulla St.</td>\n",
              "      <td>140</td>\n",
              "      <td>673 431234</td>\n",
              "    </tr>\n",
              "    <tr>\n",
              "      <th>1</th>\n",
              "      <td>Will Smith</td>\n",
              "      <td>23/02/1977</td>\n",
              "      <td>1 Green Avenue.</td>\n",
              "      <td>140</td>\n",
              "      <td>+23 (673) 431234</td>\n",
              "    </tr>\n",
              "    <tr>\n",
              "      <th>2</th>\n",
              "      <td>Pedro Ximénez</td>\n",
              "      <td>11/04/1900</td>\n",
              "      <td>Calle del Libertador, 7</td>\n",
              "      <td>100</td>\n",
              "      <td>912 345623</td>\n",
              "    </tr>\n",
              "  </tbody>\n",
              "</table>\n",
              "</div>\n",
              "      <button class=\"colab-df-convert\" onclick=\"convertToInteractive('df-3a8930db-21d7-44cb-8f46-699f319f63e8')\"\n",
              "              title=\"Convert this dataframe to an interactive table.\"\n",
              "              style=\"display:none;\">\n",
              "        \n",
              "  <svg xmlns=\"http://www.w3.org/2000/svg\" height=\"24px\"viewBox=\"0 0 24 24\"\n",
              "       width=\"24px\">\n",
              "    <path d=\"M0 0h24v24H0V0z\" fill=\"none\"/>\n",
              "    <path d=\"M18.56 5.44l.94 2.06.94-2.06 2.06-.94-2.06-.94-.94-2.06-.94 2.06-2.06.94zm-11 1L8.5 8.5l.94-2.06 2.06-.94-2.06-.94L8.5 2.5l-.94 2.06-2.06.94zm10 10l.94 2.06.94-2.06 2.06-.94-2.06-.94-.94-2.06-.94 2.06-2.06.94z\"/><path d=\"M17.41 7.96l-1.37-1.37c-.4-.4-.92-.59-1.43-.59-.52 0-1.04.2-1.43.59L10.3 9.45l-7.72 7.72c-.78.78-.78 2.05 0 2.83L4 21.41c.39.39.9.59 1.41.59.51 0 1.02-.2 1.41-.59l7.78-7.78 2.81-2.81c.8-.78.8-2.07 0-2.86zM5.41 20L4 18.59l7.72-7.72 1.47 1.35L5.41 20z\"/>\n",
              "  </svg>\n",
              "      </button>\n",
              "      \n",
              "  <style>\n",
              "    .colab-df-container {\n",
              "      display:flex;\n",
              "      flex-wrap:wrap;\n",
              "      gap: 12px;\n",
              "    }\n",
              "\n",
              "    .colab-df-convert {\n",
              "      background-color: #E8F0FE;\n",
              "      border: none;\n",
              "      border-radius: 50%;\n",
              "      cursor: pointer;\n",
              "      display: none;\n",
              "      fill: #1967D2;\n",
              "      height: 32px;\n",
              "      padding: 0 0 0 0;\n",
              "      width: 32px;\n",
              "    }\n",
              "\n",
              "    .colab-df-convert:hover {\n",
              "      background-color: #E2EBFA;\n",
              "      box-shadow: 0px 1px 2px rgba(60, 64, 67, 0.3), 0px 1px 3px 1px rgba(60, 64, 67, 0.15);\n",
              "      fill: #174EA6;\n",
              "    }\n",
              "\n",
              "    [theme=dark] .colab-df-convert {\n",
              "      background-color: #3B4455;\n",
              "      fill: #D2E3FC;\n",
              "    }\n",
              "\n",
              "    [theme=dark] .colab-df-convert:hover {\n",
              "      background-color: #434B5C;\n",
              "      box-shadow: 0px 1px 3px 1px rgba(0, 0, 0, 0.15);\n",
              "      filter: drop-shadow(0px 1px 2px rgba(0, 0, 0, 0.3));\n",
              "      fill: #FFFFFF;\n",
              "    }\n",
              "  </style>\n",
              "\n",
              "      <script>\n",
              "        const buttonEl =\n",
              "          document.querySelector('#df-3a8930db-21d7-44cb-8f46-699f319f63e8 button.colab-df-convert');\n",
              "        buttonEl.style.display =\n",
              "          google.colab.kernel.accessAllowed ? 'block' : 'none';\n",
              "\n",
              "        async function convertToInteractive(key) {\n",
              "          const element = document.querySelector('#df-3a8930db-21d7-44cb-8f46-699f319f63e8');\n",
              "          const dataTable =\n",
              "            await google.colab.kernel.invokeFunction('convertToInteractive',\n",
              "                                                     [key], {});\n",
              "          if (!dataTable) return;\n",
              "\n",
              "          const docLinkHtml = 'Like what you see? Visit the ' +\n",
              "            '<a target=\"_blank\" href=https://colab.research.google.com/notebooks/data_table.ipynb>data table notebook</a>'\n",
              "            + ' to learn more about interactive tables.';\n",
              "          element.innerHTML = '';\n",
              "          dataTable['output_type'] = 'display_data';\n",
              "          await google.colab.output.renderOutput(dataTable, element);\n",
              "          const docLink = document.createElement('div');\n",
              "          docLink.innerHTML = docLinkHtml;\n",
              "          element.appendChild(docLink);\n",
              "        }\n",
              "      </script>\n",
              "    </div>\n",
              "  </div>\n",
              "  "
            ]
          },
          "metadata": {},
          "execution_count": 73
        }
      ],
      "source": [
        "# We can shift n days in the structured deidentification through \"days\" parameter when the column is a Date.\n",
        "\n",
        "df = spark.createDataFrame([\n",
        "            [\"Juan García\", \"13/02/1977\", \"711 Nulla St.\", \"140\", \"673 431234\"],\n",
        "            [\"Will Smith\", \"23/02/1977\", \"1 Green Avenue.\", \"140\", \"+23 (673) 431234\"],\n",
        "            [\"Pedro Ximénez\", \"11/04/1900\", \"Calle del Libertador, 7\", \"100\", \"912 345623\"]\n",
        "        ]).toDF(\"NAME\", \"DOB\", \"ADDRESS\", \"SBP\", \"TEL\")\n",
        "\n",
        "df_pd= df.toPandas()\n",
        "df_pd.to_csv(\"deid_dayshift_structured_data.csv\", index=False)\n",
        "df_pd.head()"
      ]
    },
    {
      "cell_type": "code",
      "execution_count": 74,
      "id": "c4789c7e-410a-47c7-963b-b142ad4f69e6",
      "metadata": {
        "id": "c4789c7e-410a-47c7-963b-b142ad4f69e6",
        "colab": {
          "base_uri": "https://localhost:8080/"
        },
        "outputId": "00c3ac8a-1ea3-4463-d2dc-591d8111a080"
      },
      "outputs": [
        {
          "output_type": "stream",
          "name": "stdout",
          "text": [
            "Deidentifcation successfully completed and the results saved as 'deidentified.csv' !\n"
          ]
        }
      ],
      "source": [
        "res= deid_implementor.structured_deidentifier(input_file_path= \"deid_dayshift_structured_data.csv\",\n",
        "                                              columns_dict= {\"NAME\": \"ID\", \"DOB\": \"DATE\"},\n",
        "                                              columns_seed= {\"NAME\": 23, \"DOB\": 23},\n",
        "                                              ref_source=\"faker\",\n",
        "                                              shift_days= 5\n",
        "                                             )"
      ]
    },
    {
      "cell_type": "code",
      "execution_count": 75,
      "id": "db013741-9710-415f-b1ef-b6870ed814cd",
      "metadata": {
        "id": "db013741-9710-415f-b1ef-b6870ed814cd",
        "colab": {
          "base_uri": "https://localhost:8080/"
        },
        "outputId": "4a57855d-1175-47d9-d67f-55e5037d4399"
      },
      "outputs": [
        {
          "output_type": "stream",
          "name": "stdout",
          "text": [
            "+----------+------------+--------------------+---+----------------+\n",
            "|      NAME|         DOB|             ADDRESS|SBP|             TEL|\n",
            "+----------+------------+--------------------+---+----------------+\n",
            "|[N2649912]|[18/02/1977]|       711 Nulla St.|140|      673 431234|\n",
            "| [W466004]|[28/02/1977]|     1 Green Avenue.|140|+23 (673) 431234|\n",
            "| [M403810]|[16/04/1900]|Calle del Liberta...|100|      912 345623|\n",
            "+----------+------------+--------------------+---+----------------+\n",
            "\n"
          ]
        }
      ],
      "source": [
        "res.show()"
      ]
    }
  ],
  "metadata": {
    "kernelspec": {
      "display_name": "aet-base-work-python3",
      "language": "python",
      "name": "aet-base-work"
    },
    "language_info": {
      "codemirror_mode": {
        "name": "ipython",
        "version": 3
      },
      "file_extension": ".py",
      "mimetype": "text/x-python",
      "name": "python",
      "nbconvert_exporter": "python",
      "pygments_lexer": "ipython3",
      "version": "3.8.13"
    },
    "toc-autonumbering": true,
    "colab": {
      "provenance": [],
      "toc_visible": true
    }
  },
  "nbformat": 4,
  "nbformat_minor": 5
}
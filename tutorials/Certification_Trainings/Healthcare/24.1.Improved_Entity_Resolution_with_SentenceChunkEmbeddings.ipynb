{
  "nbformat": 4,
  "nbformat_minor": 0,
  "metadata": {
    "kernelspec": {
      "display_name": "Environment (conda_tensorflow_p36)",
      "language": "python",
      "name": "conda_tensorflow_p36"
    },
    "language_info": {
      "codemirror_mode": {
        "name": "ipython",
        "version": 3
      },
      "file_extension": ".py",
      "mimetype": "text/x-python",
      "name": "python",
      "nbconvert_exporter": "python",
      "pygments_lexer": "ipython3",
      "version": "3.6.10"
    },
    "colab": {
      "name": "Improved_Entity_Resolution_with_SentenceChunkEmbeddings.ipynb",
      "provenance": [],
      "collapsed_sections": []
    }
  },
  "cells": [
    {
      "cell_type": "markdown",
      "metadata": {
        "id": "RFzUJmnvcZXp"
      },
      "source": [
        "![JohnSnowLabs](https://nlp.johnsnowlabs.com/assets/images/logo.png)"
      ]
    },
    {
      "cell_type": "markdown",
      "metadata": {
        "id": "LMYI4oeBcaqt"
      },
      "source": [
        "[![Open In Colab](https://colab.research.google.com/assets/colab-badge.svg)](https://colab.research.google.com/github/JohnSnowLabs/spark-nlp-workshop/blob/master/tutorials/Certification_Trainings/Healthcare/24.1.Improved_Entity_Resolution_with_SentenceChunkEmbeddings.ipynb)"
      ]
    },
    {
      "cell_type": "markdown",
      "metadata": {
        "id": "fptHuW7RbUQj"
      },
      "source": [
        "# 24.1 Improved_Entity_Resolution_with_SentenceChunkEmbeddings\n",
        "\n",
        "Enrich embeddings of chunks to get more accurate resolution results\n"
      ]
    },
    {
      "cell_type": "code",
      "metadata": {
        "colab": {
          "resources": {
            "http://localhost:8080/nbextensions/google.colab/files.js": {
              "data": "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",
              "ok": true,
              "headers": [
                [
                  "content-type",
                  "application/javascript"
                ]
              ],
              "status": 200,
              "status_text": ""
            }
          },
          "base_uri": "https://localhost:8080/",
          "height": 72
        },
        "id": "Ok8nW-zTbUQm",
        "outputId": "6a15db32-d019-4320-bc9b-f9bc5f214d60"
      },
      "source": [
        "import json\n",
        "\n",
        "from google.colab import files\n",
        "\n",
        "license_keys = files.upload()\n",
        "\n",
        "with open(list(license_keys.keys())[0]) as f:\n",
        "    license_keys = json.load(f)"
      ],
      "execution_count": 1,
      "outputs": [
        {
          "output_type": "display_data",
          "data": {
            "text/html": [
              "\n",
              "     <input type=\"file\" id=\"files-4f1de76d-8737-411c-a439-cc409f74b667\" name=\"files[]\" multiple disabled\n",
              "        style=\"border:none\" />\n",
              "     <output id=\"result-4f1de76d-8737-411c-a439-cc409f74b667\">\n",
              "      Upload widget is only available when the cell has been executed in the\n",
              "      current browser session. Please rerun this cell to enable.\n",
              "      </output>\n",
              "      <script src=\"/nbextensions/google.colab/files.js\"></script> "
            ],
            "text/plain": [
              "<IPython.core.display.HTML object>"
            ]
          },
          "metadata": {
            "tags": []
          }
        },
        {
          "output_type": "stream",
          "text": [
            "Saving jsl_keys.json to jsl_keys (3).json\n"
          ],
          "name": "stdout"
        }
      ]
    },
    {
      "cell_type": "code",
      "metadata": {
        "id": "caKQDtZTcCRl"
      },
      "source": [
        "%%capture\n",
        "for k,v in license_keys.items(): \n",
        "    %set_env $k=$v\n",
        "\n",
        "!wget https://raw.githubusercontent.com/JohnSnowLabs/spark-nlp-workshop/master/jsl_colab_setup.sh\n",
        "!bash jsl_colab_setup.sh"
      ],
      "execution_count": 2,
      "outputs": []
    },
    {
      "cell_type": "code",
      "metadata": {
        "colab": {
          "base_uri": "https://localhost:8080/"
        },
        "id": "AmqlulOmc_ek",
        "outputId": "f781bfd3-6472-43d7-ad36-1d7f85e03c26"
      },
      "source": [
        "import json\n",
        "import os\n",
        "import pandas as pd\n",
        "from pyspark.ml import Pipeline, PipelineModel\n",
        "from pyspark.sql import SparkSession\n",
        "\n",
        "from sparknlp.annotator import *\n",
        "from sparknlp_jsl.annotator import *\n",
        "from sparknlp.base import *\n",
        "from sparknlp.util import *\n",
        "import sparknlp_jsl\n",
        "import sparknlp\n",
        "\n",
        "from sparknlp.pretrained import ResourceDownloader\n",
        "from pyspark.sql import functions as F\n",
        "\n",
        "params = {\"spark.driver.memory\":\"16G\",\n",
        "\"spark.kryoserializer.buffer.max\":\"2000M\",\n",
        "\"spark.driver.maxResultSize\":\"2000M\"}\n",
        "\n",
        "spark = sparknlp_jsl.start(license_keys['SECRET'],params=params)\n",
        "\n",
        "print (\"Spark NLP Version :\", sparknlp.version())\n",
        "print (\"Spark NLP_JSL Version :\", sparknlp_jsl.version())"
      ],
      "execution_count": 3,
      "outputs": [
        {
          "output_type": "stream",
          "text": [
            "Spark NLP Version : 3.2.1\n",
            "Spark NLP_JSL Version : 3.2.0rc3\n"
          ],
          "name": "stdout"
        }
      ]
    },
    {
      "cell_type": "markdown",
      "metadata": {
        "id": "imEen4VBdCX3"
      },
      "source": [
        "<h1>!!! Warning !!!</h1>\n",
        "\n",
        "**If you get an error related to Java port not found 55, it is probably because that the Colab memory cannot handle the model and the Spark session died. In that case, try on a larger machine or restart the kernel at the top and then come back here and rerun.**"
      ]
    },
    {
      "cell_type": "markdown",
      "metadata": {
        "id": "oUDMS8M5bUQo"
      },
      "source": [
        "## ICD10 CM Resolver Pipeline"
      ]
    },
    {
      "cell_type": "code",
      "metadata": {
        "scrolled": true,
        "colab": {
          "base_uri": "https://localhost:8080/"
        },
        "id": "m5HNGT33bUQo",
        "outputId": "c34731bd-83f6-4a21-bed6-141ad74bfea4"
      },
      "source": [
        "documenter = DocumentAssembler()\\\n",
        "    .setInputCol(\"text\")\\\n",
        "    .setOutputCol(\"documents\")\n",
        "    \n",
        "sentence_detector = SentenceDetector()\\\n",
        "    .setInputCols(\"documents\")\\\n",
        "    .setOutputCol(\"sentences\")\n",
        "    \n",
        "tokenizer = Tokenizer()\\\n",
        "    .setInputCols(\"sentences\")\\\n",
        "    .setOutputCol(\"token\")\n",
        "    \n",
        "embeddings = WordEmbeddingsModel()\\\n",
        "    .pretrained(\"embeddings_clinical\", 'en', 'clinical/models')\\\n",
        "    .setInputCols([\"sentences\",\"token\"])\\\n",
        "    .setOutputCol(\"embeddings\")\n",
        "    \n",
        "ner = MedicalNerModel()\\\n",
        "    .pretrained(\"ner_jsl_greedy\", \"en\", \"clinical/models\")\\\n",
        "    .setInputCols(\"sentences\", \"token\",\"embeddings\")\\\n",
        "    .setOutputCol(\"ner\")\n",
        "    \n",
        "ner_converter = NerConverter()\\\n",
        "    .setInputCols(\"sentences\", \"token\", \"ner\")\\\n",
        "    .setOutputCol(\"ner_chunk\").setWhiteList(['Symptom', 'Diabetes', 'Disease_Syndrome_Disorder',\n",
        "                                            'Oncological', 'Injury_or_Poisoning'])\n",
        "\n",
        "#Get average sentence-chunk Bert embeddings\n",
        "sentence_chunk_embeddings = BertSentenceChunkEmbeddings\\\n",
        "    .pretrained(\"sbiobert_base_cased_mli\", \"en\", \"clinical/models\")\\\n",
        "    .setInputCols([\"sentences\", \"ner_chunk\"])\\\n",
        "    .setOutputCol(\"sentence_chunk_embeddings\").setChunkWeight(0.5) #default : 0.5\n",
        "\n",
        "resolver = SentenceEntityResolverModel.pretrained('sbiobertresolve_icd10cm', 'en', 'clinical/models')\\\n",
        "            .setInputCols([\"ner_chunk\", \"sentence_chunk_embeddings\"]) \\\n",
        "            .setOutputCol(\"resolution\")\\\n",
        "            .setDistanceFunction(\"EUCLIDEAN\")\n",
        "\n",
        "def create_pipeline_model():\n",
        "    pipeline = Pipeline().setStages(\n",
        "    [\n",
        "        documenter,\n",
        "        sentence_detector, \n",
        "        tokenizer, \n",
        "        embeddings, \n",
        "        ner, \n",
        "        ner_converter, \n",
        "        sentence_chunk_embeddings,\n",
        "        resolver\n",
        "    ])\n",
        "    \n",
        "    return LightPipeline(pipeline.fit(spark.createDataFrame([['']]).toDF(\"text\")))\n",
        "\n",
        "l_model = create_pipeline_model()"
      ],
      "execution_count": 4,
      "outputs": [
        {
          "output_type": "stream",
          "text": [
            "embeddings_clinical download started this may take some time.\n",
            "Approximate size to download 1.6 GB\n",
            "[OK!]\n",
            "ner_jsl_greedy download started this may take some time.\n",
            "Approximate size to download 14.5 MB\n",
            "[OK!]\n",
            "sbiobert_base_cased_mli download started this may take some time.\n",
            "Approximate size to download 384.3 MB\n",
            "[OK!]\n",
            "sbiobertresolve_icd10cm download started this may take some time.\n",
            "Approximate size to download 199 MB\n",
            "[OK!]\n"
          ],
          "name": "stdout"
        }
      ]
    },
    {
      "cell_type": "markdown",
      "metadata": {
        "id": "ZWW9uvTObUQp"
      },
      "source": [
        "**Helper function to process output**"
      ]
    },
    {
      "cell_type": "code",
      "metadata": {
        "id": "N4oalBxkbUQq"
      },
      "source": [
        "import pandas as pd\n",
        "pd.set_option('display.max_colwidth', None)\n",
        "\n",
        "def print_result(res):\n",
        "    def get_res(col):\n",
        "        dists = col.metadata['all_k_cosine_distances'].split(':::')[:5]\n",
        "        resos = col.metadata['all_k_resolutions'].split(':::')[:5]\n",
        "        reses = col.metadata['all_k_results'].split(':::')[:5]\n",
        "        return pd.DataFrame({'code': reses, 'resolutions': resos , 'dist': dists})\n",
        "    df_arr = []\n",
        "    for chunk, resol in zip(res['ner_chunk'], res['resolution']):        \n",
        "        t_df = get_res(resol)\n",
        "        t_df['chunk'] = chunk.result\n",
        "        t_df['entity'] = chunk.metadata['entity']\n",
        "        \n",
        "        df_arr.append(t_df)\n",
        "        \n",
        "    return pd.concat(df_arr, axis=0) \n"
      ],
      "execution_count": 5,
      "outputs": []
    },
    {
      "cell_type": "markdown",
      "metadata": {
        "id": "1AHKLdQRbUQq"
      },
      "source": [
        "**Explanation:**\n",
        "\n",
        "Even though the chunk itself does not specify right leg, we can still get that information from surrounding text\n",
        "\n",
        "The \"setChunkWeight\" parameter has a default value of 0.5 - meaning taking equal representation of the cunk and sentence. Setting it to 1.0 would mean discarding the context information completely and only relying on the chunk, while a value of 0.0 would mean only relying on information in the sentence, not the chunk.\n",
        "\n",
        "**Looking at top 5 results for analysis**"
      ]
    },
    {
      "cell_type": "code",
      "metadata": {
        "colab": {
          "base_uri": "https://localhost:8080/",
          "height": 204
        },
        "id": "2aXjoz4EbUQr",
        "outputId": "9ea2053f-bddc-417c-d868-7f46668029ba"
      },
      "source": [
        "sentence_chunk_embeddings.setChunkWeight(0.5)\n",
        "l_model = create_pipeline_model()\n",
        "\n",
        "text = \"She complains of pain in right leg.\"\n",
        "\n",
        "result = l_model.fullAnnotate(text)[0]\n",
        "\n",
        "print_result(result)"
      ],
      "execution_count": 6,
      "outputs": [
        {
          "output_type": "execute_result",
          "data": {
            "text/html": [
              "<div>\n",
              "<style scoped>\n",
              "    .dataframe tbody tr th:only-of-type {\n",
              "        vertical-align: middle;\n",
              "    }\n",
              "\n",
              "    .dataframe tbody tr th {\n",
              "        vertical-align: top;\n",
              "    }\n",
              "\n",
              "    .dataframe thead th {\n",
              "        text-align: right;\n",
              "    }\n",
              "</style>\n",
              "<table border=\"1\" class=\"dataframe\">\n",
              "  <thead>\n",
              "    <tr style=\"text-align: right;\">\n",
              "      <th></th>\n",
              "      <th>code</th>\n",
              "      <th>resolutions</th>\n",
              "      <th>dist</th>\n",
              "      <th>chunk</th>\n",
              "      <th>entity</th>\n",
              "    </tr>\n",
              "  </thead>\n",
              "  <tbody>\n",
              "    <tr>\n",
              "      <th>0</th>\n",
              "      <td>M79661</td>\n",
              "      <td>Pain in right lower leg</td>\n",
              "      <td>0.0698</td>\n",
              "      <td>pain</td>\n",
              "      <td>Symptom</td>\n",
              "    </tr>\n",
              "    <tr>\n",
              "      <th>1</th>\n",
              "      <td>R072</td>\n",
              "      <td>Precordial pain</td>\n",
              "      <td>0.0708</td>\n",
              "      <td>pain</td>\n",
              "      <td>Symptom</td>\n",
              "    </tr>\n",
              "    <tr>\n",
              "      <th>2</th>\n",
              "      <td>R1031</td>\n",
              "      <td>Right lower quadrant pain</td>\n",
              "      <td>0.0737</td>\n",
              "      <td>pain</td>\n",
              "      <td>Symptom</td>\n",
              "    </tr>\n",
              "    <tr>\n",
              "      <th>3</th>\n",
              "      <td>R1011</td>\n",
              "      <td>Right upper quadrant pain</td>\n",
              "      <td>0.0721</td>\n",
              "      <td>pain</td>\n",
              "      <td>Symptom</td>\n",
              "    </tr>\n",
              "    <tr>\n",
              "      <th>4</th>\n",
              "      <td>R1033</td>\n",
              "      <td>Periumbilical pain</td>\n",
              "      <td>0.0783</td>\n",
              "      <td>pain</td>\n",
              "      <td>Symptom</td>\n",
              "    </tr>\n",
              "  </tbody>\n",
              "</table>\n",
              "</div>"
            ],
            "text/plain": [
              "     code                resolutions    dist chunk   entity\n",
              "0  M79661    Pain in right lower leg  0.0698  pain  Symptom\n",
              "1    R072            Precordial pain  0.0708  pain  Symptom\n",
              "2   R1031  Right lower quadrant pain  0.0737  pain  Symptom\n",
              "3   R1011  Right upper quadrant pain  0.0721  pain  Symptom\n",
              "4   R1033         Periumbilical pain  0.0783  pain  Symptom"
            ]
          },
          "metadata": {
            "tags": []
          },
          "execution_count": 6
        }
      ]
    },
    {
      "cell_type": "markdown",
      "metadata": {
        "id": "NU3w4GeMbUQs"
      },
      "source": [
        "Relying only on chunk - we get less specific results"
      ]
    },
    {
      "cell_type": "code",
      "metadata": {
        "scrolled": true,
        "colab": {
          "base_uri": "https://localhost:8080/",
          "height": 204
        },
        "id": "3ZXwYePebUQt",
        "outputId": "5dcde6e1-7e29-4e19-c1c1-44f87fd29992"
      },
      "source": [
        "sentence_chunk_embeddings.setChunkWeight(1.0)\n",
        "l_model = create_pipeline_model()\n",
        "\n",
        "text = \"She complains of pain in right leg.\"\n",
        "\n",
        "result = l_model.fullAnnotate(text)[0]\n",
        "\n",
        "print_result(result)"
      ],
      "execution_count": 7,
      "outputs": [
        {
          "output_type": "execute_result",
          "data": {
            "text/html": [
              "<div>\n",
              "<style scoped>\n",
              "    .dataframe tbody tr th:only-of-type {\n",
              "        vertical-align: middle;\n",
              "    }\n",
              "\n",
              "    .dataframe tbody tr th {\n",
              "        vertical-align: top;\n",
              "    }\n",
              "\n",
              "    .dataframe thead th {\n",
              "        text-align: right;\n",
              "    }\n",
              "</style>\n",
              "<table border=\"1\" class=\"dataframe\">\n",
              "  <thead>\n",
              "    <tr style=\"text-align: right;\">\n",
              "      <th></th>\n",
              "      <th>code</th>\n",
              "      <th>resolutions</th>\n",
              "      <th>dist</th>\n",
              "      <th>chunk</th>\n",
              "      <th>entity</th>\n",
              "    </tr>\n",
              "  </thead>\n",
              "  <tbody>\n",
              "    <tr>\n",
              "      <th>0</th>\n",
              "      <td>R072</td>\n",
              "      <td>Precordial pain</td>\n",
              "      <td>0.0795</td>\n",
              "      <td>pain</td>\n",
              "      <td>Symptom</td>\n",
              "    </tr>\n",
              "    <tr>\n",
              "      <th>1</th>\n",
              "      <td>R6884</td>\n",
              "      <td>Jaw pain</td>\n",
              "      <td>0.0799</td>\n",
              "      <td>pain</td>\n",
              "      <td>Symptom</td>\n",
              "    </tr>\n",
              "    <tr>\n",
              "      <th>2</th>\n",
              "      <td>R1033</td>\n",
              "      <td>Periumbilical pain</td>\n",
              "      <td>0.0825</td>\n",
              "      <td>pain</td>\n",
              "      <td>Symptom</td>\n",
              "    </tr>\n",
              "    <tr>\n",
              "      <th>3</th>\n",
              "      <td>R141</td>\n",
              "      <td>Gas pain</td>\n",
              "      <td>0.0884</td>\n",
              "      <td>pain</td>\n",
              "      <td>Symptom</td>\n",
              "    </tr>\n",
              "    <tr>\n",
              "      <th>4</th>\n",
              "      <td>R0782</td>\n",
              "      <td>Intercostal pain</td>\n",
              "      <td>0.0919</td>\n",
              "      <td>pain</td>\n",
              "      <td>Symptom</td>\n",
              "    </tr>\n",
              "  </tbody>\n",
              "</table>\n",
              "</div>"
            ],
            "text/plain": [
              "    code         resolutions    dist chunk   entity\n",
              "0   R072     Precordial pain  0.0795  pain  Symptom\n",
              "1  R6884            Jaw pain  0.0799  pain  Symptom\n",
              "2  R1033  Periumbilical pain  0.0825  pain  Symptom\n",
              "3   R141            Gas pain  0.0884  pain  Symptom\n",
              "4  R0782    Intercostal pain  0.0919  pain  Symptom"
            ]
          },
          "metadata": {
            "tags": []
          },
          "execution_count": 7
        }
      ]
    },
    {
      "cell_type": "markdown",
      "metadata": {
        "id": "acxGA_F2bUQt"
      },
      "source": [
        "Using the entire sentence to get embedding"
      ]
    },
    {
      "cell_type": "code",
      "metadata": {
        "colab": {
          "base_uri": "https://localhost:8080/",
          "height": 204
        },
        "id": "d3cN1yQAbUQt",
        "outputId": "39ada1b4-f759-4ba9-9612-e759f9891e4f"
      },
      "source": [
        "sentence_chunk_embeddings.setChunkWeight(0.0)\n",
        "l_model = create_pipeline_model()\n",
        "\n",
        "text = \"She complains of pain in right leg.\"\n",
        "\n",
        "result = l_model.fullAnnotate(text)[0]\n",
        "\n",
        "print_result(result)"
      ],
      "execution_count": 8,
      "outputs": [
        {
          "output_type": "execute_result",
          "data": {
            "text/html": [
              "<div>\n",
              "<style scoped>\n",
              "    .dataframe tbody tr th:only-of-type {\n",
              "        vertical-align: middle;\n",
              "    }\n",
              "\n",
              "    .dataframe tbody tr th {\n",
              "        vertical-align: top;\n",
              "    }\n",
              "\n",
              "    .dataframe thead th {\n",
              "        text-align: right;\n",
              "    }\n",
              "</style>\n",
              "<table border=\"1\" class=\"dataframe\">\n",
              "  <thead>\n",
              "    <tr style=\"text-align: right;\">\n",
              "      <th></th>\n",
              "      <th>code</th>\n",
              "      <th>resolutions</th>\n",
              "      <th>dist</th>\n",
              "      <th>chunk</th>\n",
              "      <th>entity</th>\n",
              "    </tr>\n",
              "  </thead>\n",
              "  <tbody>\n",
              "    <tr>\n",
              "      <th>0</th>\n",
              "      <td>M79661</td>\n",
              "      <td>Pain in right lower leg</td>\n",
              "      <td>0.0914</td>\n",
              "      <td>pain</td>\n",
              "      <td>Symptom</td>\n",
              "    </tr>\n",
              "    <tr>\n",
              "      <th>1</th>\n",
              "      <td>I83811</td>\n",
              "      <td>Varicose veins of right lower extremity with pain</td>\n",
              "      <td>0.0989</td>\n",
              "      <td>pain</td>\n",
              "      <td>Symptom</td>\n",
              "    </tr>\n",
              "    <tr>\n",
              "      <th>2</th>\n",
              "      <td>M79604</td>\n",
              "      <td>Pain in right leg</td>\n",
              "      <td>0.0984</td>\n",
              "      <td>pain</td>\n",
              "      <td>Symptom</td>\n",
              "    </tr>\n",
              "    <tr>\n",
              "      <th>3</th>\n",
              "      <td>M79651</td>\n",
              "      <td>Pain in right thigh</td>\n",
              "      <td>0.1039</td>\n",
              "      <td>pain</td>\n",
              "      <td>Symptom</td>\n",
              "    </tr>\n",
              "    <tr>\n",
              "      <th>4</th>\n",
              "      <td>R1011</td>\n",
              "      <td>Right upper quadrant pain</td>\n",
              "      <td>0.1049</td>\n",
              "      <td>pain</td>\n",
              "      <td>Symptom</td>\n",
              "    </tr>\n",
              "  </tbody>\n",
              "</table>\n",
              "</div>"
            ],
            "text/plain": [
              "     code                                        resolutions  ... chunk   entity\n",
              "0  M79661                            Pain in right lower leg  ...  pain  Symptom\n",
              "1  I83811  Varicose veins of right lower extremity with pain  ...  pain  Symptom\n",
              "2  M79604                                  Pain in right leg  ...  pain  Symptom\n",
              "3  M79651                                Pain in right thigh  ...  pain  Symptom\n",
              "4   R1011                          Right upper quadrant pain  ...  pain  Symptom\n",
              "\n",
              "[5 rows x 5 columns]"
            ]
          },
          "metadata": {
            "tags": []
          },
          "execution_count": 8
        }
      ]
    },
    {
      "cell_type": "markdown",
      "metadata": {
        "id": "-IPN-EwIbUQu"
      },
      "source": [
        "More elaborate example"
      ]
    },
    {
      "cell_type": "code",
      "metadata": {
        "scrolled": true,
        "colab": {
          "base_uri": "https://localhost:8080/",
          "height": 979
        },
        "id": "J_h7fpcCbUQu",
        "outputId": "72440fed-2ba4-4d4a-a7ac-54f40de57c0e"
      },
      "source": [
        "\n",
        "\n",
        "sentence_chunk_embeddings.setChunkWeight(0.5)\n",
        "l_model = create_pipeline_model()\n",
        "\n",
        "text = \"\"\"A 20 year old female patient badly tripped while going down stairs. She complains of right leg pain. \n",
        "Her x-ray showed right hip fracture. Hair line fractures also seen on the left knee joint.\n",
        "She also suffered from trauma and slight injury on the head.\n",
        "\n",
        "OTHER CONDITIONS: She was also recently diagnosed with diabetes, which is of type 2.\n",
        "\"\"\"\n",
        "\n",
        "result = l_model.fullAnnotate(text)[0]\n",
        "\n",
        "print_result(result)"
      ],
      "execution_count": 9,
      "outputs": [
        {
          "output_type": "execute_result",
          "data": {
            "text/html": [
              "<div>\n",
              "<style scoped>\n",
              "    .dataframe tbody tr th:only-of-type {\n",
              "        vertical-align: middle;\n",
              "    }\n",
              "\n",
              "    .dataframe tbody tr th {\n",
              "        vertical-align: top;\n",
              "    }\n",
              "\n",
              "    .dataframe thead th {\n",
              "        text-align: right;\n",
              "    }\n",
              "</style>\n",
              "<table border=\"1\" class=\"dataframe\">\n",
              "  <thead>\n",
              "    <tr style=\"text-align: right;\">\n",
              "      <th></th>\n",
              "      <th>code</th>\n",
              "      <th>resolutions</th>\n",
              "      <th>dist</th>\n",
              "      <th>chunk</th>\n",
              "      <th>entity</th>\n",
              "    </tr>\n",
              "  </thead>\n",
              "  <tbody>\n",
              "    <tr>\n",
              "      <th>0</th>\n",
              "      <td>M79661</td>\n",
              "      <td>Pain in right lower leg</td>\n",
              "      <td>0.0667</td>\n",
              "      <td>leg pain</td>\n",
              "      <td>Symptom</td>\n",
              "    </tr>\n",
              "    <tr>\n",
              "      <th>1</th>\n",
              "      <td>R1031</td>\n",
              "      <td>Right lower quadrant pain</td>\n",
              "      <td>0.0706</td>\n",
              "      <td>leg pain</td>\n",
              "      <td>Symptom</td>\n",
              "    </tr>\n",
              "    <tr>\n",
              "      <th>2</th>\n",
              "      <td>R1012</td>\n",
              "      <td>Left upper quadrant pain</td>\n",
              "      <td>0.0705</td>\n",
              "      <td>leg pain</td>\n",
              "      <td>Symptom</td>\n",
              "    </tr>\n",
              "    <tr>\n",
              "      <th>3</th>\n",
              "      <td>I83811</td>\n",
              "      <td>Varicose veins of right lower extremity with pain</td>\n",
              "      <td>0.0795</td>\n",
              "      <td>leg pain</td>\n",
              "      <td>Symptom</td>\n",
              "    </tr>\n",
              "    <tr>\n",
              "      <th>4</th>\n",
              "      <td>G546</td>\n",
              "      <td>Phantom limb syndrome with pain</td>\n",
              "      <td>0.0776</td>\n",
              "      <td>leg pain</td>\n",
              "      <td>Symptom</td>\n",
              "    </tr>\n",
              "    <tr>\n",
              "      <th>0</th>\n",
              "      <td>M84451S</td>\n",
              "      <td>Pathological fracture, right femur, sequela</td>\n",
              "      <td>0.1119</td>\n",
              "      <td>hip fracture</td>\n",
              "      <td>Injury_or_Poisoning</td>\n",
              "    </tr>\n",
              "    <tr>\n",
              "      <th>1</th>\n",
              "      <td>M84351S</td>\n",
              "      <td>Stress fracture, right femur, sequela</td>\n",
              "      <td>0.1301</td>\n",
              "      <td>hip fracture</td>\n",
              "      <td>Injury_or_Poisoning</td>\n",
              "    </tr>\n",
              "    <tr>\n",
              "      <th>2</th>\n",
              "      <td>M84459P</td>\n",
              "      <td>Pathological fracture, hip, unspecified, subsequent encounter for fracture with malunion</td>\n",
              "      <td>0.1430</td>\n",
              "      <td>hip fracture</td>\n",
              "      <td>Injury_or_Poisoning</td>\n",
              "    </tr>\n",
              "    <tr>\n",
              "      <th>3</th>\n",
              "      <td>M84451A</td>\n",
              "      <td>Pathological fracture, right femur, initial encounter for fracture</td>\n",
              "      <td>0.1392</td>\n",
              "      <td>hip fracture</td>\n",
              "      <td>Injury_or_Poisoning</td>\n",
              "    </tr>\n",
              "    <tr>\n",
              "      <th>4</th>\n",
              "      <td>M84421S</td>\n",
              "      <td>Pathological fracture, right humerus, sequela</td>\n",
              "      <td>0.1463</td>\n",
              "      <td>hip fracture</td>\n",
              "      <td>Injury_or_Poisoning</td>\n",
              "    </tr>\n",
              "    <tr>\n",
              "      <th>0</th>\n",
              "      <td>S92592P</td>\n",
              "      <td>Other fracture of left lesser toe(s), subsequent encounter for fracture with malunion</td>\n",
              "      <td>0.1789</td>\n",
              "      <td>Hair line fractures</td>\n",
              "      <td>Injury_or_Poisoning</td>\n",
              "    </tr>\n",
              "    <tr>\n",
              "      <th>1</th>\n",
              "      <td>M84478P</td>\n",
              "      <td>Pathological fracture, left toe(s), subsequent encounter for fracture with malunion</td>\n",
              "      <td>0.1770</td>\n",
              "      <td>Hair line fractures</td>\n",
              "      <td>Injury_or_Poisoning</td>\n",
              "    </tr>\n",
              "    <tr>\n",
              "      <th>2</th>\n",
              "      <td>S82292P</td>\n",
              "      <td>Other fracture of shaft of left tibia, subsequent encounter for closed fracture with malunion</td>\n",
              "      <td>0.1838</td>\n",
              "      <td>Hair line fractures</td>\n",
              "      <td>Injury_or_Poisoning</td>\n",
              "    </tr>\n",
              "    <tr>\n",
              "      <th>3</th>\n",
              "      <td>S92912P</td>\n",
              "      <td>Unspecified fracture of left toe(s), subsequent encounter for fracture with malunion</td>\n",
              "      <td>0.1872</td>\n",
              "      <td>Hair line fractures</td>\n",
              "      <td>Injury_or_Poisoning</td>\n",
              "    </tr>\n",
              "    <tr>\n",
              "      <th>4</th>\n",
              "      <td>S42033S</td>\n",
              "      <td>Displaced fracture of lateral end of unspecified clavicle, sequela</td>\n",
              "      <td>0.1855</td>\n",
              "      <td>Hair line fractures</td>\n",
              "      <td>Injury_or_Poisoning</td>\n",
              "    </tr>\n",
              "    <tr>\n",
              "      <th>0</th>\n",
              "      <td>S0083XS</td>\n",
              "      <td>Contusion of other part of head, sequela</td>\n",
              "      <td>0.1334</td>\n",
              "      <td>trauma</td>\n",
              "      <td>Injury_or_Poisoning</td>\n",
              "    </tr>\n",
              "    <tr>\n",
              "      <th>1</th>\n",
              "      <td>S0083XD</td>\n",
              "      <td>Contusion of other part of head, subsequent encounter</td>\n",
              "      <td>0.1598</td>\n",
              "      <td>trauma</td>\n",
              "      <td>Injury_or_Poisoning</td>\n",
              "    </tr>\n",
              "    <tr>\n",
              "      <th>2</th>\n",
              "      <td>S078XXS</td>\n",
              "      <td>Crushing injury of other parts of head, sequela</td>\n",
              "      <td>0.1615</td>\n",
              "      <td>trauma</td>\n",
              "      <td>Injury_or_Poisoning</td>\n",
              "    </tr>\n",
              "    <tr>\n",
              "      <th>3</th>\n",
              "      <td>S0093XS</td>\n",
              "      <td>Contusion of unspecified part of head, sequela</td>\n",
              "      <td>0.1703</td>\n",
              "      <td>trauma</td>\n",
              "      <td>Injury_or_Poisoning</td>\n",
              "    </tr>\n",
              "    <tr>\n",
              "      <th>4</th>\n",
              "      <td>T148XXD</td>\n",
              "      <td>Other injury of unspecified body region, subsequent encounter</td>\n",
              "      <td>0.1701</td>\n",
              "      <td>trauma</td>\n",
              "      <td>Injury_or_Poisoning</td>\n",
              "    </tr>\n",
              "    <tr>\n",
              "      <th>0</th>\n",
              "      <td>S0080XD</td>\n",
              "      <td>Unspecified superficial injury of other part of head, subsequent encounter</td>\n",
              "      <td>0.1500</td>\n",
              "      <td>slight injury</td>\n",
              "      <td>Injury_or_Poisoning</td>\n",
              "    </tr>\n",
              "    <tr>\n",
              "      <th>1</th>\n",
              "      <td>S0080XS</td>\n",
              "      <td>Unspecified superficial injury of other part of head, sequela</td>\n",
              "      <td>0.1507</td>\n",
              "      <td>slight injury</td>\n",
              "      <td>Injury_or_Poisoning</td>\n",
              "    </tr>\n",
              "    <tr>\n",
              "      <th>2</th>\n",
              "      <td>S0080XA</td>\n",
              "      <td>Unspecified superficial injury of other part of head, initial encounter</td>\n",
              "      <td>0.1572</td>\n",
              "      <td>slight injury</td>\n",
              "      <td>Injury_or_Poisoning</td>\n",
              "    </tr>\n",
              "    <tr>\n",
              "      <th>3</th>\n",
              "      <td>S0090XD</td>\n",
              "      <td>Unspecified superficial injury of unspecified part of head, subsequent encounter</td>\n",
              "      <td>0.1697</td>\n",
              "      <td>slight injury</td>\n",
              "      <td>Injury_or_Poisoning</td>\n",
              "    </tr>\n",
              "    <tr>\n",
              "      <th>4</th>\n",
              "      <td>S1080XS</td>\n",
              "      <td>Unspecified superficial injury of other specified part of neck, sequela</td>\n",
              "      <td>0.1750</td>\n",
              "      <td>slight injury</td>\n",
              "      <td>Injury_or_Poisoning</td>\n",
              "    </tr>\n",
              "    <tr>\n",
              "      <th>0</th>\n",
              "      <td>E1169</td>\n",
              "      <td>Type 2 diabetes mellitus with other specified complication</td>\n",
              "      <td>0.1062</td>\n",
              "      <td>diabetes</td>\n",
              "      <td>Diabetes</td>\n",
              "    </tr>\n",
              "    <tr>\n",
              "      <th>1</th>\n",
              "      <td>E0969</td>\n",
              "      <td>Drug or chemical induced diabetes mellitus with other specified complication</td>\n",
              "      <td>0.1087</td>\n",
              "      <td>diabetes</td>\n",
              "      <td>Diabetes</td>\n",
              "    </tr>\n",
              "    <tr>\n",
              "      <th>2</th>\n",
              "      <td>E118</td>\n",
              "      <td>Type 2 diabetes mellitus with unspecified complications</td>\n",
              "      <td>0.1185</td>\n",
              "      <td>diabetes</td>\n",
              "      <td>Diabetes</td>\n",
              "    </tr>\n",
              "    <tr>\n",
              "      <th>3</th>\n",
              "      <td>E098</td>\n",
              "      <td>Drug or chemical induced diabetes mellitus with unspecified complications</td>\n",
              "      <td>0.1273</td>\n",
              "      <td>diabetes</td>\n",
              "      <td>Diabetes</td>\n",
              "    </tr>\n",
              "    <tr>\n",
              "      <th>4</th>\n",
              "      <td>E1069</td>\n",
              "      <td>Type 1 diabetes mellitus with other specified complication</td>\n",
              "      <td>0.1192</td>\n",
              "      <td>diabetes</td>\n",
              "      <td>Diabetes</td>\n",
              "    </tr>\n",
              "  </tbody>\n",
              "</table>\n",
              "</div>"
            ],
            "text/plain": [
              "      code  ...               entity\n",
              "0   M79661  ...              Symptom\n",
              "1    R1031  ...              Symptom\n",
              "2    R1012  ...              Symptom\n",
              "3   I83811  ...              Symptom\n",
              "4     G546  ...              Symptom\n",
              "0  M84451S  ...  Injury_or_Poisoning\n",
              "1  M84351S  ...  Injury_or_Poisoning\n",
              "2  M84459P  ...  Injury_or_Poisoning\n",
              "3  M84451A  ...  Injury_or_Poisoning\n",
              "4  M84421S  ...  Injury_or_Poisoning\n",
              "0  S92592P  ...  Injury_or_Poisoning\n",
              "1  M84478P  ...  Injury_or_Poisoning\n",
              "2  S82292P  ...  Injury_or_Poisoning\n",
              "3  S92912P  ...  Injury_or_Poisoning\n",
              "4  S42033S  ...  Injury_or_Poisoning\n",
              "0  S0083XS  ...  Injury_or_Poisoning\n",
              "1  S0083XD  ...  Injury_or_Poisoning\n",
              "2  S078XXS  ...  Injury_or_Poisoning\n",
              "3  S0093XS  ...  Injury_or_Poisoning\n",
              "4  T148XXD  ...  Injury_or_Poisoning\n",
              "0  S0080XD  ...  Injury_or_Poisoning\n",
              "1  S0080XS  ...  Injury_or_Poisoning\n",
              "2  S0080XA  ...  Injury_or_Poisoning\n",
              "3  S0090XD  ...  Injury_or_Poisoning\n",
              "4  S1080XS  ...  Injury_or_Poisoning\n",
              "0    E1169  ...             Diabetes\n",
              "1    E0969  ...             Diabetes\n",
              "2     E118  ...             Diabetes\n",
              "3     E098  ...             Diabetes\n",
              "4    E1069  ...             Diabetes\n",
              "\n",
              "[30 rows x 5 columns]"
            ]
          },
          "metadata": {
            "tags": []
          },
          "execution_count": 9
        }
      ]
    },
    {
      "cell_type": "markdown",
      "metadata": {
        "id": "Qui5q37-bUQv"
      },
      "source": [
        "## CPT Resolver"
      ]
    },
    {
      "cell_type": "code",
      "metadata": {
        "colab": {
          "base_uri": "https://localhost:8080/"
        },
        "id": "5ZChwi16bUQv",
        "outputId": "5021aa8c-8a67-4563-ec76-2ec4b50810f7"
      },
      "source": [
        "resolver = SentenceEntityResolverModel.pretrained('sbiobertresolve_cpt_procedures_augmented', 'en', 'clinical/models')\\\n",
        "            .setInputCols([\"ner_chunk\", \"sentence_chunk_embeddings\"]) \\\n",
        "            .setOutputCol(\"resolution\")\\\n",
        "            .setDistanceFunction(\"EUCLIDEAN\")\n",
        "\n",
        "ner_converter.setWhiteList(['Procedure', 'Test'])"
      ],
      "execution_count": 10,
      "outputs": [
        {
          "output_type": "stream",
          "text": [
            "sbiobertresolve_cpt_procedures_augmented download started this may take some time.\n",
            "Approximate size to download 78.3 MB\n",
            "[OK!]\n"
          ],
          "name": "stdout"
        },
        {
          "output_type": "execute_result",
          "data": {
            "text/plain": [
              "NerConverter_aa29d6b756fa"
            ]
          },
          "metadata": {
            "tags": []
          },
          "execution_count": 10
        }
      ]
    },
    {
      "cell_type": "markdown",
      "metadata": {
        "id": "iQv_qQdOilnE"
      },
      "source": [
        "Using context to get specific results"
      ]
    },
    {
      "cell_type": "code",
      "metadata": {
        "colab": {
          "base_uri": "https://localhost:8080/",
          "height": 289
        },
        "id": "Yn_-5rdRbUQv",
        "outputId": "458be943-b84e-4f1b-ada1-b4210a666b6e"
      },
      "source": [
        "sentence_chunk_embeddings.setChunkWeight(0.5)\n",
        "l_model = create_pipeline_model()\n",
        "\n",
        "text = \"extraction of cyst in kidney\"\n",
        "\n",
        "result = l_model.fullAnnotate(text)[0]\n",
        "\n",
        "print_result(result)"
      ],
      "execution_count": 11,
      "outputs": [
        {
          "output_type": "execute_result",
          "data": {
            "text/html": [
              "<div>\n",
              "<style scoped>\n",
              "    .dataframe tbody tr th:only-of-type {\n",
              "        vertical-align: middle;\n",
              "    }\n",
              "\n",
              "    .dataframe tbody tr th {\n",
              "        vertical-align: top;\n",
              "    }\n",
              "\n",
              "    .dataframe thead th {\n",
              "        text-align: right;\n",
              "    }\n",
              "</style>\n",
              "<table border=\"1\" class=\"dataframe\">\n",
              "  <thead>\n",
              "    <tr style=\"text-align: right;\">\n",
              "      <th></th>\n",
              "      <th>code</th>\n",
              "      <th>resolutions</th>\n",
              "      <th>dist</th>\n",
              "      <th>chunk</th>\n",
              "      <th>entity</th>\n",
              "    </tr>\n",
              "  </thead>\n",
              "  <tbody>\n",
              "    <tr>\n",
              "      <th>0</th>\n",
              "      <td>50280</td>\n",
              "      <td>Decortication of cyst of kidney [Excision or unroofing of cyst(s) of kidney]</td>\n",
              "      <td>0.0877</td>\n",
              "      <td>extraction of cyst</td>\n",
              "      <td>Procedure</td>\n",
              "    </tr>\n",
              "    <tr>\n",
              "      <th>1</th>\n",
              "      <td>50290</td>\n",
              "      <td>Excision of perinephric cyst (procedure) [Excision of perinephric cyst]</td>\n",
              "      <td>0.1048</td>\n",
              "      <td>extraction of cyst</td>\n",
              "      <td>Procedure</td>\n",
              "    </tr>\n",
              "    <tr>\n",
              "      <th>2</th>\n",
              "      <td>50390</td>\n",
              "      <td>Therapeutic aspiration of renal cyst (procedure) [Aspiration and/or injection of renal cyst or pelvis by needle, percutaneous]</td>\n",
              "      <td>0.1151</td>\n",
              "      <td>extraction of cyst</td>\n",
              "      <td>Procedure</td>\n",
              "    </tr>\n",
              "    <tr>\n",
              "      <th>3</th>\n",
              "      <td>68020</td>\n",
              "      <td>Incision of conjunctiva with drainage of cyst (procedure) [Incision of conjunctiva, drainage of cyst]</td>\n",
              "      <td>0.1405</td>\n",
              "      <td>extraction of cyst</td>\n",
              "      <td>Procedure</td>\n",
              "    </tr>\n",
              "    <tr>\n",
              "      <th>4</th>\n",
              "      <td>62162</td>\n",
              "      <td>Excision of cyst of brain meninges (procedure) [Neuroendoscopy, intracranial; with fenestration or excision of colloid cyst, including placement of external ventricular catheter for drainage]</td>\n",
              "      <td>0.1788</td>\n",
              "      <td>extraction of cyst</td>\n",
              "      <td>Procedure</td>\n",
              "    </tr>\n",
              "  </tbody>\n",
              "</table>\n",
              "</div>"
            ],
            "text/plain": [
              "    code  ...     entity\n",
              "0  50280  ...  Procedure\n",
              "1  50290  ...  Procedure\n",
              "2  50390  ...  Procedure\n",
              "3  68020  ...  Procedure\n",
              "4  62162  ...  Procedure\n",
              "\n",
              "[5 rows x 5 columns]"
            ]
          },
          "metadata": {
            "tags": []
          },
          "execution_count": 11
        }
      ]
    },
    {
      "cell_type": "markdown",
      "metadata": {
        "id": "3VhoVBdWiqX6"
      },
      "source": [
        "Using ner chunk only - results are generic"
      ]
    },
    {
      "cell_type": "code",
      "metadata": {
        "colab": {
          "base_uri": "https://localhost:8080/",
          "height": 204
        },
        "id": "bZ2y4gNcbUQv",
        "outputId": "06143e1f-c29a-43af-c9ec-830e7cf2865f"
      },
      "source": [
        "sentence_chunk_embeddings.setChunkWeight(1.0)\n",
        "l_model = create_pipeline_model()\n",
        "\n",
        "text = \"extraction of cyst in kidney\"\n",
        "\n",
        "result = l_model.fullAnnotate(text)[0]\n",
        "\n",
        "print_result(result)"
      ],
      "execution_count": 12,
      "outputs": [
        {
          "output_type": "execute_result",
          "data": {
            "text/html": [
              "<div>\n",
              "<style scoped>\n",
              "    .dataframe tbody tr th:only-of-type {\n",
              "        vertical-align: middle;\n",
              "    }\n",
              "\n",
              "    .dataframe tbody tr th {\n",
              "        vertical-align: top;\n",
              "    }\n",
              "\n",
              "    .dataframe thead th {\n",
              "        text-align: right;\n",
              "    }\n",
              "</style>\n",
              "<table border=\"1\" class=\"dataframe\">\n",
              "  <thead>\n",
              "    <tr style=\"text-align: right;\">\n",
              "      <th></th>\n",
              "      <th>code</th>\n",
              "      <th>resolutions</th>\n",
              "      <th>dist</th>\n",
              "      <th>chunk</th>\n",
              "      <th>entity</th>\n",
              "    </tr>\n",
              "  </thead>\n",
              "  <tbody>\n",
              "    <tr>\n",
              "      <th>0</th>\n",
              "      <td>68020</td>\n",
              "      <td>Incision of conjunctiva with drainage of cyst (procedure) [Incision of conjunctiva, drainage of cyst]</td>\n",
              "      <td>0.1411</td>\n",
              "      <td>extraction of cyst</td>\n",
              "      <td>Procedure</td>\n",
              "    </tr>\n",
              "    <tr>\n",
              "      <th>1</th>\n",
              "      <td>50290</td>\n",
              "      <td>Excision of perinephric cyst (procedure) [Excision of perinephric cyst]</td>\n",
              "      <td>0.1537</td>\n",
              "      <td>extraction of cyst</td>\n",
              "      <td>Procedure</td>\n",
              "    </tr>\n",
              "    <tr>\n",
              "      <th>2</th>\n",
              "      <td>25145</td>\n",
              "      <td>Excision of sequestrum [Sequestrectomy (eg, for osteomyelitis or bone abscess), forearm and/or wrist]</td>\n",
              "      <td>0.1592</td>\n",
              "      <td>extraction of cyst</td>\n",
              "      <td>Procedure</td>\n",
              "    </tr>\n",
              "    <tr>\n",
              "      <th>3</th>\n",
              "      <td>60200</td>\n",
              "      <td>Excision of cyst of thyroid (procedure) [Excision of cyst or adenoma of thyroid, or transection of isthmus]</td>\n",
              "      <td>0.1679</td>\n",
              "      <td>extraction of cyst</td>\n",
              "      <td>Procedure</td>\n",
              "    </tr>\n",
              "    <tr>\n",
              "      <th>4</th>\n",
              "      <td>39200</td>\n",
              "      <td>Resection of mediastinal cyst [Resection of mediastinal cyst]</td>\n",
              "      <td>0.1678</td>\n",
              "      <td>extraction of cyst</td>\n",
              "      <td>Procedure</td>\n",
              "    </tr>\n",
              "  </tbody>\n",
              "</table>\n",
              "</div>"
            ],
            "text/plain": [
              "    code  ...     entity\n",
              "0  68020  ...  Procedure\n",
              "1  50290  ...  Procedure\n",
              "2  25145  ...  Procedure\n",
              "3  60200  ...  Procedure\n",
              "4  39200  ...  Procedure\n",
              "\n",
              "[5 rows x 5 columns]"
            ]
          },
          "metadata": {
            "tags": []
          },
          "execution_count": 12
        }
      ]
    },
    {
      "cell_type": "markdown",
      "metadata": {
        "id": "wnaDSQKti3pl"
      },
      "source": [
        "## RxNorm Resolver"
      ]
    },
    {
      "cell_type": "code",
      "metadata": {
        "colab": {
          "base_uri": "https://localhost:8080/"
        },
        "id": "pkcGnSldbUQw",
        "outputId": "1f348c26-46b4-40ce-d478-50d65168d456"
      },
      "source": [
        "resolver = SentenceEntityResolverModel.pretrained('sbiobertresolve_rxnorm', 'en', 'clinical/models')\\\n",
        "            .setInputCols([\"ner_chunk\", \"sentence_chunk_embeddings\"]) \\\n",
        "            .setOutputCol(\"resolution\")\\\n",
        "            .setDistanceFunction(\"EUCLIDEAN\")\n",
        "\n",
        "ner_converter.setWhiteList(['Drug'])"
      ],
      "execution_count": 13,
      "outputs": [
        {
          "output_type": "stream",
          "text": [
            "sbiobertresolve_rxnorm download started this may take some time.\n",
            "Approximate size to download 802.6 MB\n",
            "[OK!]\n"
          ],
          "name": "stdout"
        },
        {
          "output_type": "execute_result",
          "data": {
            "text/plain": [
              "NerConverter_aa29d6b756fa"
            ]
          },
          "metadata": {
            "tags": []
          },
          "execution_count": 13
        }
      ]
    },
    {
      "cell_type": "markdown",
      "metadata": {
        "id": "x4wZ7kkhjjwJ"
      },
      "source": [
        "Even though the chunk only contains drug name, we can still more accurate code by looking at the form of drug"
      ]
    },
    {
      "cell_type": "code",
      "metadata": {
        "colab": {
          "base_uri": "https://localhost:8080/",
          "height": 204
        },
        "id": "FmwCunLDbUQw",
        "outputId": "ca6b9abc-7e76-4533-83df-b5ce5774784b"
      },
      "source": [
        "sentence_chunk_embeddings.setChunkWeight(0.5)\n",
        "l_model = create_pipeline_model()\n",
        "\n",
        "text = \"rituximab in the form of injection\"\n",
        "\n",
        "result = l_model.fullAnnotate(text)[0]\n",
        "\n",
        "print_result(result)"
      ],
      "execution_count": 14,
      "outputs": [
        {
          "output_type": "execute_result",
          "data": {
            "text/html": [
              "<div>\n",
              "<style scoped>\n",
              "    .dataframe tbody tr th:only-of-type {\n",
              "        vertical-align: middle;\n",
              "    }\n",
              "\n",
              "    .dataframe tbody tr th {\n",
              "        vertical-align: top;\n",
              "    }\n",
              "\n",
              "    .dataframe thead th {\n",
              "        text-align: right;\n",
              "    }\n",
              "</style>\n",
              "<table border=\"1\" class=\"dataframe\">\n",
              "  <thead>\n",
              "    <tr style=\"text-align: right;\">\n",
              "      <th></th>\n",
              "      <th>code</th>\n",
              "      <th>resolutions</th>\n",
              "      <th>dist</th>\n",
              "      <th>chunk</th>\n",
              "      <th>entity</th>\n",
              "    </tr>\n",
              "  </thead>\n",
              "  <tbody>\n",
              "    <tr>\n",
              "      <th>0</th>\n",
              "      <td>1657861</td>\n",
              "      <td>rituximab injection</td>\n",
              "      <td>0.0268</td>\n",
              "      <td>rituximab</td>\n",
              "      <td>Drug</td>\n",
              "    </tr>\n",
              "    <tr>\n",
              "      <th>1</th>\n",
              "      <td>121191</td>\n",
              "      <td>rituximab</td>\n",
              "      <td>0.0460</td>\n",
              "      <td>rituximab</td>\n",
              "      <td>Drug</td>\n",
              "    </tr>\n",
              "    <tr>\n",
              "      <th>2</th>\n",
              "      <td>1657863</td>\n",
              "      <td>rituximab injection [rituxan]</td>\n",
              "      <td>0.0543</td>\n",
              "      <td>rituximab</td>\n",
              "      <td>Drug</td>\n",
              "    </tr>\n",
              "    <tr>\n",
              "      <th>3</th>\n",
              "      <td>1157967</td>\n",
              "      <td>rituximab injectable product</td>\n",
              "      <td>0.0548</td>\n",
              "      <td>rituximab</td>\n",
              "      <td>Drug</td>\n",
              "    </tr>\n",
              "    <tr>\n",
              "      <th>4</th>\n",
              "      <td>2273515</td>\n",
              "      <td>rituximab injection [ruxience]</td>\n",
              "      <td>0.0593</td>\n",
              "      <td>rituximab</td>\n",
              "      <td>Drug</td>\n",
              "    </tr>\n",
              "  </tbody>\n",
              "</table>\n",
              "</div>"
            ],
            "text/plain": [
              "      code                     resolutions    dist      chunk entity\n",
              "0  1657861             rituximab injection  0.0268  rituximab   Drug\n",
              "1   121191                       rituximab  0.0460  rituximab   Drug\n",
              "2  1657863   rituximab injection [rituxan]  0.0543  rituximab   Drug\n",
              "3  1157967    rituximab injectable product  0.0548  rituximab   Drug\n",
              "4  2273515  rituximab injection [ruxience]  0.0593  rituximab   Drug"
            ]
          },
          "metadata": {
            "tags": []
          },
          "execution_count": 14
        }
      ]
    },
    {
      "cell_type": "code",
      "metadata": {
        "colab": {
          "base_uri": "https://localhost:8080/",
          "height": 204
        },
        "id": "tGw8JL_gjNQL",
        "outputId": "10445bbe-fa0d-485f-d5be-5832cd51f8f3"
      },
      "source": [
        "sentence_chunk_embeddings.setChunkWeight(1.0)\n",
        "l_model = create_pipeline_model()\n",
        "\n",
        "text = \"rituximab in the form of injection\"\n",
        "\n",
        "result = l_model.fullAnnotate(text)[0]\n",
        "\n",
        "print_result(result)"
      ],
      "execution_count": 15,
      "outputs": [
        {
          "output_type": "execute_result",
          "data": {
            "text/html": [
              "<div>\n",
              "<style scoped>\n",
              "    .dataframe tbody tr th:only-of-type {\n",
              "        vertical-align: middle;\n",
              "    }\n",
              "\n",
              "    .dataframe tbody tr th {\n",
              "        vertical-align: top;\n",
              "    }\n",
              "\n",
              "    .dataframe thead th {\n",
              "        text-align: right;\n",
              "    }\n",
              "</style>\n",
              "<table border=\"1\" class=\"dataframe\">\n",
              "  <thead>\n",
              "    <tr style=\"text-align: right;\">\n",
              "      <th></th>\n",
              "      <th>code</th>\n",
              "      <th>resolutions</th>\n",
              "      <th>dist</th>\n",
              "      <th>chunk</th>\n",
              "      <th>entity</th>\n",
              "    </tr>\n",
              "  </thead>\n",
              "  <tbody>\n",
              "    <tr>\n",
              "      <th>0</th>\n",
              "      <td>121191</td>\n",
              "      <td>rituximab</td>\n",
              "      <td>0.0000</td>\n",
              "      <td>rituximab</td>\n",
              "      <td>Drug</td>\n",
              "    </tr>\n",
              "    <tr>\n",
              "      <th>1</th>\n",
              "      <td>1657861</td>\n",
              "      <td>rituximab injection</td>\n",
              "      <td>0.0451</td>\n",
              "      <td>rituximab</td>\n",
              "      <td>Drug</td>\n",
              "    </tr>\n",
              "    <tr>\n",
              "      <th>2</th>\n",
              "      <td>2105824</td>\n",
              "      <td>rituximab-abbs</td>\n",
              "      <td>0.0549</td>\n",
              "      <td>rituximab</td>\n",
              "      <td>Drug</td>\n",
              "    </tr>\n",
              "    <tr>\n",
              "      <th>3</th>\n",
              "      <td>226754</td>\n",
              "      <td>rituxan</td>\n",
              "      <td>0.0556</td>\n",
              "      <td>rituximab</td>\n",
              "      <td>Drug</td>\n",
              "    </tr>\n",
              "    <tr>\n",
              "      <th>4</th>\n",
              "      <td>318341</td>\n",
              "      <td>cetuximab</td>\n",
              "      <td>0.0675</td>\n",
              "      <td>rituximab</td>\n",
              "      <td>Drug</td>\n",
              "    </tr>\n",
              "  </tbody>\n",
              "</table>\n",
              "</div>"
            ],
            "text/plain": [
              "      code          resolutions    dist      chunk entity\n",
              "0   121191            rituximab  0.0000  rituximab   Drug\n",
              "1  1657861  rituximab injection  0.0451  rituximab   Drug\n",
              "2  2105824       rituximab-abbs  0.0549  rituximab   Drug\n",
              "3   226754              rituxan  0.0556  rituximab   Drug\n",
              "4   318341            cetuximab  0.0675  rituximab   Drug"
            ]
          },
          "metadata": {
            "tags": []
          },
          "execution_count": 15
        }
      ]
    },
    {
      "cell_type": "markdown",
      "metadata": {
        "id": "OCBjU4QPj8iA"
      },
      "source": [
        "## SNOMED Resolver"
      ]
    },
    {
      "cell_type": "code",
      "metadata": {
        "colab": {
          "base_uri": "https://localhost:8080/"
        },
        "id": "TWBZd5zBj_RI",
        "outputId": "72f7e686-31a9-4b0a-f69c-396912834d08"
      },
      "source": [
        "resolver = SentenceEntityResolverModel.pretrained(\"sbiobertresolve_snomed_findings\",\"en\", \"clinical/models\") \\\n",
        "      .setInputCols([\"ner_chunk\", \"sentence_chunk_embeddings\"]) \\\n",
        "      .setOutputCol(\"resolution\")\\\n",
        "      .setDistanceFunction(\"EUCLIDEAN\")\n",
        "\n",
        "ner_converter.setWhiteList(['Drug', 'Symptom', 'Diabetes', 'Disease_Syndrome_Disorder',\n",
        "                                            'Oncological', 'Injury_or_Poisoning', 'Procedure', 'Treatmentb'])"
      ],
      "execution_count": 16,
      "outputs": [
        {
          "output_type": "stream",
          "text": [
            "sbiobertresolve_snomed_findings download started this may take some time.\n",
            "Approximate size to download 1.3 GB\n",
            "[OK!]\n"
          ],
          "name": "stdout"
        },
        {
          "output_type": "execute_result",
          "data": {
            "text/plain": [
              "NerConverter_aa29d6b756fa"
            ]
          },
          "metadata": {
            "tags": []
          },
          "execution_count": 16
        }
      ]
    },
    {
      "cell_type": "code",
      "metadata": {
        "colab": {
          "base_uri": "https://localhost:8080/",
          "height": 979
        },
        "id": "1U8Op4BCrxvX",
        "outputId": "7419a17f-bddc-4b08-afe4-93d78f7b286a"
      },
      "source": [
        "\n",
        "sentence_chunk_embeddings.setChunkWeight(0.5)\n",
        "l_model = create_pipeline_model()\n",
        "\n",
        "text = \"\"\"A 20 year old female patient badly tripped while going down stairs. She complains of right leg pain. \n",
        "Her x-ray showed right hip fracture. Hair line fractures also seen on the left knee joint.\n",
        "She also suffered from trauma and slight injury on the head.\n",
        "\n",
        "OTHER CONDITIONS: She was also recently diagnosed with diabetes, which is of type 2.\n",
        "\n",
        "She we through \n",
        "\"\"\"\n",
        "\n",
        "result = l_model.fullAnnotate(text)[0]\n",
        "\n",
        "print_result(result)\n"
      ],
      "execution_count": 17,
      "outputs": [
        {
          "output_type": "execute_result",
          "data": {
            "text/html": [
              "<div>\n",
              "<style scoped>\n",
              "    .dataframe tbody tr th:only-of-type {\n",
              "        vertical-align: middle;\n",
              "    }\n",
              "\n",
              "    .dataframe tbody tr th {\n",
              "        vertical-align: top;\n",
              "    }\n",
              "\n",
              "    .dataframe thead th {\n",
              "        text-align: right;\n",
              "    }\n",
              "</style>\n",
              "<table border=\"1\" class=\"dataframe\">\n",
              "  <thead>\n",
              "    <tr style=\"text-align: right;\">\n",
              "      <th></th>\n",
              "      <th>code</th>\n",
              "      <th>resolutions</th>\n",
              "      <th>dist</th>\n",
              "      <th>chunk</th>\n",
              "      <th>entity</th>\n",
              "    </tr>\n",
              "  </thead>\n",
              "  <tbody>\n",
              "    <tr>\n",
              "      <th>0</th>\n",
              "      <td>203124006</td>\n",
              "      <td>leg pain</td>\n",
              "      <td>0.0395</td>\n",
              "      <td>leg pain</td>\n",
              "      <td>Symptom</td>\n",
              "    </tr>\n",
              "    <tr>\n",
              "      <th>1</th>\n",
              "      <td>316941000119108</td>\n",
              "      <td>pain of right lower leg</td>\n",
              "      <td>0.0525</td>\n",
              "      <td>leg pain</td>\n",
              "      <td>Symptom</td>\n",
              "    </tr>\n",
              "    <tr>\n",
              "      <th>2</th>\n",
              "      <td>12247531000119106</td>\n",
              "      <td>bilateral lower leg pain</td>\n",
              "      <td>0.0545</td>\n",
              "      <td>leg pain</td>\n",
              "      <td>Symptom</td>\n",
              "    </tr>\n",
              "    <tr>\n",
              "      <th>3</th>\n",
              "      <td>203127004</td>\n",
              "      <td>pain in leg</td>\n",
              "      <td>0.0580</td>\n",
              "      <td>leg pain</td>\n",
              "      <td>Symptom</td>\n",
              "    </tr>\n",
              "    <tr>\n",
              "      <th>4</th>\n",
              "      <td>5771000119106</td>\n",
              "      <td>phantom limb syndrome with pain</td>\n",
              "      <td>0.0576</td>\n",
              "      <td>leg pain</td>\n",
              "      <td>Symptom</td>\n",
              "    </tr>\n",
              "    <tr>\n",
              "      <th>0</th>\n",
              "      <td>208520007</td>\n",
              "      <td>hip fracture</td>\n",
              "      <td>0.0646</td>\n",
              "      <td>hip fracture</td>\n",
              "      <td>Injury_or_Poisoning</td>\n",
              "    </tr>\n",
              "    <tr>\n",
              "      <th>1</th>\n",
              "      <td>263225007</td>\n",
              "      <td>hip fracture</td>\n",
              "      <td>0.0646</td>\n",
              "      <td>hip fracture</td>\n",
              "      <td>Injury_or_Poisoning</td>\n",
              "    </tr>\n",
              "    <tr>\n",
              "      <th>2</th>\n",
              "      <td>11315041000119101</td>\n",
              "      <td>pathological fracture of right hip</td>\n",
              "      <td>0.0694</td>\n",
              "      <td>hip fracture</td>\n",
              "      <td>Injury_or_Poisoning</td>\n",
              "    </tr>\n",
              "    <tr>\n",
              "      <th>3</th>\n",
              "      <td>704063001</td>\n",
              "      <td>stress fracture of hip</td>\n",
              "      <td>0.0722</td>\n",
              "      <td>hip fracture</td>\n",
              "      <td>Injury_or_Poisoning</td>\n",
              "    </tr>\n",
              "    <tr>\n",
              "      <th>4</th>\n",
              "      <td>5913000</td>\n",
              "      <td>fracture of hip</td>\n",
              "      <td>0.0751</td>\n",
              "      <td>hip fracture</td>\n",
              "      <td>Injury_or_Poisoning</td>\n",
              "    </tr>\n",
              "    <tr>\n",
              "      <th>0</th>\n",
              "      <td>213547009</td>\n",
              "      <td>[x]fractures of other parts of lower leg</td>\n",
              "      <td>0.1586</td>\n",
              "      <td>Hair line fractures</td>\n",
              "      <td>Injury_or_Poisoning</td>\n",
              "    </tr>\n",
              "    <tr>\n",
              "      <th>1</th>\n",
              "      <td>403344005</td>\n",
              "      <td>hair shaft damage from bleaching (disorder)</td>\n",
              "      <td>0.1683</td>\n",
              "      <td>Hair line fractures</td>\n",
              "      <td>Injury_or_Poisoning</td>\n",
              "    </tr>\n",
              "    <tr>\n",
              "      <th>2</th>\n",
              "      <td>11306001000119107</td>\n",
              "      <td>pathological fracture of left clavicle</td>\n",
              "      <td>0.1791</td>\n",
              "      <td>Hair line fractures</td>\n",
              "      <td>Injury_or_Poisoning</td>\n",
              "    </tr>\n",
              "    <tr>\n",
              "      <th>3</th>\n",
              "      <td>771493007</td>\n",
              "      <td>fractures involving multiple regions of left upper limb (disorder)</td>\n",
              "      <td>0.1751</td>\n",
              "      <td>Hair line fractures</td>\n",
              "      <td>Injury_or_Poisoning</td>\n",
              "    </tr>\n",
              "    <tr>\n",
              "      <th>4</th>\n",
              "      <td>4478002</td>\n",
              "      <td>multiple fractures of upper and lower limbs (disorder)</td>\n",
              "      <td>0.1750</td>\n",
              "      <td>Hair line fractures</td>\n",
              "      <td>Injury_or_Poisoning</td>\n",
              "    </tr>\n",
              "    <tr>\n",
              "      <th>0</th>\n",
              "      <td>419945001</td>\n",
              "      <td>traumatic injury due to event</td>\n",
              "      <td>0.1076</td>\n",
              "      <td>trauma</td>\n",
              "      <td>Injury_or_Poisoning</td>\n",
              "    </tr>\n",
              "    <tr>\n",
              "      <th>1</th>\n",
              "      <td>417746004</td>\n",
              "      <td>traumatic injury</td>\n",
              "      <td>0.1153</td>\n",
              "      <td>trauma</td>\n",
              "      <td>Injury_or_Poisoning</td>\n",
              "    </tr>\n",
              "    <tr>\n",
              "      <th>2</th>\n",
              "      <td>781645001</td>\n",
              "      <td>injury to skin caused by trauma (finding)</td>\n",
              "      <td>0.1219</td>\n",
              "      <td>trauma</td>\n",
              "      <td>Injury_or_Poisoning</td>\n",
              "    </tr>\n",
              "    <tr>\n",
              "      <th>3</th>\n",
              "      <td>57029005</td>\n",
              "      <td>traumatic complication of injury</td>\n",
              "      <td>0.1197</td>\n",
              "      <td>trauma</td>\n",
              "      <td>Injury_or_Poisoning</td>\n",
              "    </tr>\n",
              "    <tr>\n",
              "      <th>4</th>\n",
              "      <td>82271004</td>\n",
              "      <td>injury of head region</td>\n",
              "      <td>0.1196</td>\n",
              "      <td>trauma</td>\n",
              "      <td>Injury_or_Poisoning</td>\n",
              "    </tr>\n",
              "    <tr>\n",
              "      <th>0</th>\n",
              "      <td>210043001</td>\n",
              "      <td>minor head injury</td>\n",
              "      <td>0.1235</td>\n",
              "      <td>slight injury</td>\n",
              "      <td>Injury_or_Poisoning</td>\n",
              "    </tr>\n",
              "    <tr>\n",
              "      <th>1</th>\n",
              "      <td>157327004</td>\n",
              "      <td>minor head injury</td>\n",
              "      <td>0.1235</td>\n",
              "      <td>slight injury</td>\n",
              "      <td>Injury_or_Poisoning</td>\n",
              "    </tr>\n",
              "    <tr>\n",
              "      <th>2</th>\n",
              "      <td>274164006</td>\n",
              "      <td>minor head injury</td>\n",
              "      <td>0.1235</td>\n",
              "      <td>slight injury</td>\n",
              "      <td>Injury_or_Poisoning</td>\n",
              "    </tr>\n",
              "    <tr>\n",
              "      <th>3</th>\n",
              "      <td>210018007</td>\n",
              "      <td>minor head injury</td>\n",
              "      <td>0.1235</td>\n",
              "      <td>slight injury</td>\n",
              "      <td>Injury_or_Poisoning</td>\n",
              "    </tr>\n",
              "    <tr>\n",
              "      <th>4</th>\n",
              "      <td>283025007</td>\n",
              "      <td>superficial injury of head</td>\n",
              "      <td>0.1186</td>\n",
              "      <td>slight injury</td>\n",
              "      <td>Injury_or_Poisoning</td>\n",
              "    </tr>\n",
              "    <tr>\n",
              "      <th>0</th>\n",
              "      <td>8801005</td>\n",
              "      <td>secondary diabetes mellitus</td>\n",
              "      <td>0.0727</td>\n",
              "      <td>diabetes</td>\n",
              "      <td>Diabetes</td>\n",
              "    </tr>\n",
              "    <tr>\n",
              "      <th>1</th>\n",
              "      <td>5368009</td>\n",
              "      <td>drug-induced diabetes mellitus</td>\n",
              "      <td>0.0747</td>\n",
              "      <td>diabetes</td>\n",
              "      <td>Diabetes</td>\n",
              "    </tr>\n",
              "    <tr>\n",
              "      <th>2</th>\n",
              "      <td>408544007</td>\n",
              "      <td>drug-induced diabetes mellitus</td>\n",
              "      <td>0.0747</td>\n",
              "      <td>diabetes</td>\n",
              "      <td>Diabetes</td>\n",
              "    </tr>\n",
              "    <tr>\n",
              "      <th>3</th>\n",
              "      <td>199230006</td>\n",
              "      <td>pre-existing type 2 diabetes mellitus (disorder)</td>\n",
              "      <td>0.0768</td>\n",
              "      <td>diabetes</td>\n",
              "      <td>Diabetes</td>\n",
              "    </tr>\n",
              "    <tr>\n",
              "      <th>4</th>\n",
              "      <td>82980005</td>\n",
              "      <td>anaemia of diabetes</td>\n",
              "      <td>0.0769</td>\n",
              "      <td>diabetes</td>\n",
              "      <td>Diabetes</td>\n",
              "    </tr>\n",
              "  </tbody>\n",
              "</table>\n",
              "</div>"
            ],
            "text/plain": [
              "                code  ...               entity\n",
              "0          203124006  ...              Symptom\n",
              "1    316941000119108  ...              Symptom\n",
              "2  12247531000119106  ...              Symptom\n",
              "3          203127004  ...              Symptom\n",
              "4      5771000119106  ...              Symptom\n",
              "0          208520007  ...  Injury_or_Poisoning\n",
              "1          263225007  ...  Injury_or_Poisoning\n",
              "2  11315041000119101  ...  Injury_or_Poisoning\n",
              "3          704063001  ...  Injury_or_Poisoning\n",
              "4            5913000  ...  Injury_or_Poisoning\n",
              "0          213547009  ...  Injury_or_Poisoning\n",
              "1          403344005  ...  Injury_or_Poisoning\n",
              "2  11306001000119107  ...  Injury_or_Poisoning\n",
              "3          771493007  ...  Injury_or_Poisoning\n",
              "4            4478002  ...  Injury_or_Poisoning\n",
              "0          419945001  ...  Injury_or_Poisoning\n",
              "1          417746004  ...  Injury_or_Poisoning\n",
              "2          781645001  ...  Injury_or_Poisoning\n",
              "3           57029005  ...  Injury_or_Poisoning\n",
              "4           82271004  ...  Injury_or_Poisoning\n",
              "0          210043001  ...  Injury_or_Poisoning\n",
              "1          157327004  ...  Injury_or_Poisoning\n",
              "2          274164006  ...  Injury_or_Poisoning\n",
              "3          210018007  ...  Injury_or_Poisoning\n",
              "4          283025007  ...  Injury_or_Poisoning\n",
              "0            8801005  ...             Diabetes\n",
              "1            5368009  ...             Diabetes\n",
              "2          408544007  ...             Diabetes\n",
              "3          199230006  ...             Diabetes\n",
              "4           82980005  ...             Diabetes\n",
              "\n",
              "[30 rows x 5 columns]"
            ]
          },
          "metadata": {
            "tags": []
          },
          "execution_count": 17
        }
      ]
    }
  ]
}
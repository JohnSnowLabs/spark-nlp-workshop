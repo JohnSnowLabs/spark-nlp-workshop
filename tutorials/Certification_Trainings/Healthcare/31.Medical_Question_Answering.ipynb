{
  "cells": [
    {
      "cell_type": "markdown",
      "metadata": {
        "id": "JWCwiy5flBq7"
      },
      "source": [
        "![JohnSnowLabs](https://nlp.johnsnowlabs.com/assets/images/logo.png)\n"
      ]
    },
    {
      "cell_type": "markdown",
      "metadata": {
        "id": "WwQqbVm4r_hV"
      },
      "source": [
        "[![Open In Colab](https://colab.research.google.com/assets/colab-badge.svg)](https://colab.research.google.com/github/JohnSnowLabs/spark-nlp-workshop/blob/master/tutorials/Certification_Trainings/Healthcare/31.Medical_Question_Answering.ipynb)\n"
      ]
    },
    {
      "cell_type": "markdown",
      "metadata": {
        "id": "5hzypXmUlNYC"
      },
      "source": [
        "# **Medical Question Answering**"
      ]
    },
    {
      "cell_type": "markdown",
      "metadata": {
        "id": "cR1mia8SxJVA"
      },
      "source": [
        "**Welcoming BioGPT (Generative Pre-Trained Transformer For Biomedical Text Generation and Mining) to Spark NLP**\n",
        "\n",
        "BioGPT is a domain-specific generative pre-trained Transformer language model for biomedical text generation and mining. BioGPT follows the Transformer language model backbone, and is pre-trained on 15M PubMed abstracts from scratch. Experiments demonstrate that BioGPT achieves better performance compared with baseline methods and other well-performing methods across all the tasks. Read more at [the official paper.](https://arxiv.org/abs/2210.10341)\n",
        "\n",
        "We ported BioGPT (`BioGPT-QA-PubMedQA-BioGPT`) into Spark NLP for Healthcare with better inference speed and memory optimization, that enable us to get 20x faster results with less memory compared to the HuggingFace version.\n"
      ]
    },
    {
      "cell_type": "markdown",
      "metadata": {
        "id": "okhT7AcXxben"
      },
      "source": [
        "## Colab Setup"
      ]
    },
    {
      "cell_type": "markdown",
      "metadata": {
        "id": "G7dOaR_TlgE-"
      },
      "source": [
        "📌To run this yourself, you will need to upload your license keys to the notebook. Just Run The Cell Below in order to do that. Also You can open the file explorer on the left side of the screen and upload `license_keys.json` to the folder that opens.\n",
        "Otherwise, you can look at the example outputs at the bottom of the notebook."
      ]
    },
    {
      "cell_type": "code",
      "execution_count": 3,
      "metadata": {
        "id": "tQLe_InJtnzA"
      },
      "outputs": [],
      "source": [
        "import json\n",
        "import os\n",
        "\n",
        "from google.colab import files\n",
        "\n",
        "if 'spark_jsl.json' not in os.listdir():\n",
        "  license_keys = files.upload()\n",
        "  os.rename(list(license_keys.keys())[0], 'spark_jsl.json')\n",
        "\n",
        "with open('spark_jsl.json') as f:\n",
        "    license_keys = json.load(f)\n",
        "\n",
        "# Defining license key-value pairs as local variables\n",
        "locals().update(license_keys)\n",
        "os.environ.update(license_keys)"
      ]
    },
    {
      "cell_type": "code",
      "execution_count": 4,
      "metadata": {
        "id": "JGkYS4CGtN87"
      },
      "outputs": [],
      "source": [
        "# Installing pyspark and spark-nlp\n",
        "! pip install --upgrade -q pyspark==3.3.0  spark-nlp==$PUBLIC_VERSION\n",
        "\n",
        "# Installing Spark NLP Healthcare\n",
        "! pip install --upgrade -q spark-nlp-jsl==$JSL_VERSION  --extra-index-url https://pypi.johnsnowlabs.com/$SECRET\n",
        "\n",
        "# Installing Spark NLP Display Library for visualization\n",
        "! pip install -q spark-nlp-display"
      ]
    },
    {
      "cell_type": "code",
      "execution_count": 5,
      "metadata": {
        "id": "iUNHVaSdL0tO",
        "colab": {
          "base_uri": "https://localhost:8080/",
          "height": 254
        },
        "outputId": "23b16f00-8b84-4437-f2b4-691ffa8baa4c"
      },
      "outputs": [
        {
          "output_type": "stream",
          "name": "stdout",
          "text": [
            "Spark NLP Version : 4.4.4\n",
            "Spark NLP_JSL Version : 4.4.4\n"
          ]
        },
        {
          "output_type": "execute_result",
          "data": {
            "text/plain": [
              "<pyspark.sql.session.SparkSession at 0x7fd647089960>"
            ],
            "text/html": [
              "\n",
              "            <div>\n",
              "                <p><b>SparkSession - in-memory</b></p>\n",
              "                \n",
              "        <div>\n",
              "            <p><b>SparkContext</b></p>\n",
              "\n",
              "            <p><a href=\"http://5f696d9fa5b0:4040\">Spark UI</a></p>\n",
              "\n",
              "            <dl>\n",
              "              <dt>Version</dt>\n",
              "                <dd><code>v3.3.0</code></dd>\n",
              "              <dt>Master</dt>\n",
              "                <dd><code>local[*]</code></dd>\n",
              "              <dt>AppName</dt>\n",
              "                <dd><code>Spark NLP Licensed</code></dd>\n",
              "            </dl>\n",
              "        </div>\n",
              "        \n",
              "            </div>\n",
              "        "
            ]
          },
          "metadata": {},
          "execution_count": 5
        }
      ],
      "source": [
        "import os\n",
        "import json\n",
        "\n",
        "import sparknlp\n",
        "import sparknlp_jsl\n",
        "\n",
        "from sparknlp.base import *\n",
        "from sparknlp.util import *\n",
        "from sparknlp.annotator import *\n",
        "from sparknlp_jsl.annotator import *\n",
        "from sparknlp.pretrained import ResourceDownloader\n",
        "\n",
        "from pyspark.sql import SparkSession\n",
        "from pyspark.sql import functions as F\n",
        "from pyspark.ml import Pipeline, PipelineModel\n",
        "\n",
        "import pandas as pd\n",
        "pd.set_option('display.max_columns', None)\n",
        "pd.set_option('display.expand_frame_repr', False)\n",
        "pd.set_option('max_colwidth', None)\n",
        "\n",
        "import string\n",
        "import numpy as np\n",
        "\n",
        "params = {\"spark.driver.memory\":\"16G\",\n",
        "          \"spark.kryoserializer.buffer.max\":\"2000M\",\n",
        "          \"spark.serializer\": \"org.apache.spark.serializer.KryoSerializer\",\n",
        "          \"spark.driver.maxResultSize\":\"2000M\"}\n",
        "\n",
        "spark = sparknlp_jsl.start(license_keys['SECRET'], params=params)\n",
        "\n",
        "print (\"Spark NLP Version :\", sparknlp.version())\n",
        "print (\"Spark NLP_JSL Version :\", sparknlp_jsl.version())\n",
        "\n",
        "spark"
      ]
    },
    {
      "cell_type": "markdown",
      "metadata": {
        "id": "7Nv8ISD_ltNo"
      },
      "source": [
        "# 🔎 MODELS"
      ]
    },
    {
      "cell_type": "markdown",
      "source": [
        "<div align=\"center\">\n",
        "\n",
        "| **Index** | **Question Answer Models**        |\n",
        "|---------------|----------------------|\n",
        "| 1        | [medical_qa_biogpt](https://nlp.johnsnowlabs.com/2023/05/17/medical_qa_biogpt_en.html)     |\n",
        "| 2          | [flan_t5_base_jsl_qa](https://nlp.johnsnowlabs.com/2023/05/15/flan_t5_base_jsl_qa_en.html)       |\n",
        "| 3          | [clinical_notes_qa_large](https://nlp.johnsnowlabs.com/2023/07/06/clinical_notes_qa_base.html)       |\n",
        "| 4          | [clinical_notes_qa_base](https://nlp.johnsnowlabs.com/2023/07/06/clinical_notes_qa_large.html)       |\n",
        "\n",
        "\n",
        "</div>"
      ],
      "metadata": {
        "id": "VtFUxRWCU_o6"
      }
    },
    {
      "cell_type": "markdown",
      "metadata": {
        "id": "EUP83I58lxPD"
      },
      "source": [
        "## [medical_qa_biogpt](https://nlp.johnsnowlabs.com/2023/03/09/medical_qa_biogpt_en.html)\n",
        "This model has been trained with medical documents and can generate two types of answers, `short` and `long`."
      ]
    },
    {
      "cell_type": "code",
      "execution_count": 4,
      "metadata": {
        "colab": {
          "base_uri": "https://localhost:8080/"
        },
        "id": "FY7jlMeXtq-G",
        "outputId": "1bc970d6-44bf-4dcb-d572-8b9d6d56af7c"
      },
      "outputs": [
        {
          "output_type": "stream",
          "name": "stdout",
          "text": [
            "+------------------------------------------------------------+------------------------------------------------------------+\n",
            "|                                                     context|                                                    question|\n",
            "+------------------------------------------------------------+------------------------------------------------------------+\n",
            "|We have previously reported the feasibility of diagnostic...|        Transgastric endoscopic splenectomy: is it possible?|\n",
            "|To evaluate the degree to which histologic chorioamnionit...|Does histologic chorioamnionitis correspond to clinical c...|\n",
            "|In patients with Los Angeles (LA) grade C or D oesophagit...|Is there an optimal time of acid suppression for maximal ...|\n",
            "+------------------------------------------------------------+------------------------------------------------------------+\n",
            "\n"
          ]
        }
      ],
      "source": [
        "paper_abstract = [\n",
        "    \"We have previously reported the feasibility of diagnostic and therapeutic peritoneoscopy including liver biopsy, gastrojejunostomy, and tubal ligation by an oral transgastric approach. We present results of per-oral transgastric splenectomy in a porcine model. The goal of this study was to determine the technical feasibility of per-oral transgastric splenectomy using a flexible endoscope. We performed acute experiments on 50-kg pigs. All animals were fed liquids for 3 days prior to procedure. The procedures were performed under general anesthesia with endotracheal intubation. The flexible endoscope was passed per orally into the stomach and puncture of the gastric wall was performed with a needle knife. The puncture was extended to create a 1.5-cm incision using a pull-type sphincterotome, and a double-channel endoscope was advanced into the peritoneal cavity. The peritoneal cavity was insufflated with air through the endoscope. The spleen was visualized. The splenic vessels were ligated with endoscopic loops and clips, and then mesentery was dissected using electrocautery. Endoscopic splenectomy was performed on six pigs. There were no complications during gastric incision and entrance into the peritoneal cavity. Visualization of the spleen and other intraperitoneal organs was very good. Ligation of the splenic vessels and mobilization of the spleen were achieved using commercially available devices and endoscopic accessories.\",\n",
        "    \"To evaluate the degree to which histologic chorioamnionitis, a frequent finding in placentas submitted for histopathologic evaluation, correlates with clinical indicators of infection in the mother. A retrospective review was performed on 52 cases with a histologic diagnosis of acute chorioamnionitis from 2,051 deliveries at University Hospital, Newark, from January 2003 to July 2003. Third-trimester placentas without histologic chorioamnionitis (n = 52) served as controls. Cases and controls were selected sequentially. Maternal medical records were reviewed for indicators of maternal infection. Histologic chorioamnionitis was significantly associated with the usage of antibiotics (p = 0.0095) and a higher mean white blood cell count (p = 0.018). The presence of 1 or more clinical indicators was significantly associated with the presence of histologic chorioamnionitis (p = 0.019).\",\n",
        "    \"In patients with Los Angeles (LA) grade C or D oesophagitis, a positive relationship has been established between the duration of intragastric acid suppression and healing.AIM: To determine whether there is an apparent optimal time of intragastric acid suppression for maximal healing of reflux oesophagitis. Post hoc analysis of data from a proof-of-concept, double-blind, randomized study of 134 adult patients treated with esomeprazole (10 or 40 mg od for 4 weeks) for LA grade C or D oesophagitis. A curve was fitted to pooled 24-h intragastric pH (day 5) and endoscopically assessed healing (4 weeks) data using piecewise quadratic logistic regression. Maximal reflux oesophagitis healing rates were achieved when intragastric pH>4 was achieved for approximately 50-70% (12-17 h) of the 24-h period. Acid suppression above this threshold did not yield further increases in healing rates.\"\n",
        "                  ]\n",
        "\n",
        "question = [\n",
        "    \"Transgastric endoscopic splenectomy: is it possible?\",\n",
        "    \"Does histologic chorioamnionitis correspond to clinical chorioamnionitis?\",\n",
        "    \"Is there an optimal time of acid suppression for maximal healing?\"\n",
        "          ]\n",
        "\n",
        "data = spark.createDataFrame(\n",
        "    [\n",
        "        [paper_abstract[0],  question[0]],\n",
        "        [paper_abstract[1],  question[1]],\n",
        "        [paper_abstract[2],  question[2]],\n",
        "    ]\n",
        ").toDF(\"context\",\"question\")\n",
        "\n",
        "data.show(truncate = 60)"
      ]
    },
    {
      "cell_type": "markdown",
      "metadata": {
        "id": "C0N6wrU0rgSg"
      },
      "source": [
        "### **Short answer**"
      ]
    },
    {
      "cell_type": "markdown",
      "metadata": {
        "id": "yz9TfQ5RfIzc"
      },
      "source": [
        " `Short` answers usually consist of brief and concise responses such as \"yes\" or \"no\", and they are typically given as yes/no responses to do/does, is/are, or other question words."
      ]
    },
    {
      "cell_type": "code",
      "execution_count": 5,
      "metadata": {
        "id": "QUanLWZ0qy7N",
        "colab": {
          "base_uri": "https://localhost:8080/"
        },
        "outputId": "e0c0ec69-da21-45f8-8324-e6d3cb37a8f8"
      },
      "outputs": [
        {
          "output_type": "stream",
          "name": "stdout",
          "text": [
            "medical_qa_biogpt download started this may take some time.\n",
            "[OK!]\n"
          ]
        }
      ],
      "source": [
        "document_assembler = MultiDocumentAssembler()\\\n",
        "    .setInputCols(\"question\", \"context\")\\\n",
        "    .setOutputCols(\"document_question\", \"document_context\")\n",
        "\n",
        "med_qa = MedicalQuestionAnswering.pretrained(\"medical_qa_biogpt\",\"en\",\"clinical/models\")\\\n",
        "    .setInputCols([\"document_question\", \"document_context\"])\\\n",
        "    .setOutputCol(\"answer\")\\\n",
        "    .setMaxNewTokens(30)\\\n",
        "    .setTopK(1)\\\n",
        "    .setQuestionType(\"short\") # \"long\"\n",
        "\n",
        "pipeline = Pipeline(stages=[document_assembler, med_qa])\n",
        "\n",
        "empty_data = spark.createDataFrame([[\"\",\"\"]]).toDF(\"question\", \"context\")\n",
        "\n",
        "model = pipeline.fit(empty_data)"
      ]
    },
    {
      "cell_type": "code",
      "execution_count": 6,
      "metadata": {
        "id": "iqNPhW3AVeul",
        "colab": {
          "base_uri": "https://localhost:8080/"
        },
        "outputId": "4af91422-1868-4da8-8758-9b1e94a98a77"
      },
      "outputs": [
        {
          "output_type": "stream",
          "name": "stdout",
          "text": [
            "+---------------------------------------------------------------------------+------------+\n",
            "|Question                                                                   |Short_Answer|\n",
            "+---------------------------------------------------------------------------+------------+\n",
            "|[Transgastric endoscopic splenectomy: is it possible?]                     |[yes]       |\n",
            "|[Does histologic chorioamnionitis correspond to clinical chorioamnionitis?]|[yes]       |\n",
            "|[Is there an optimal time of acid suppression for maximal healing?]        |[no]        |\n",
            "+---------------------------------------------------------------------------+------------+\n",
            "\n"
          ]
        }
      ],
      "source": [
        "model.transform(data)\\\n",
        "  .selectExpr(\"document_question.result as Question\", \"answer.result as Short_Answer\")\\\n",
        "  .show(truncate=False)"
      ]
    },
    {
      "cell_type": "markdown",
      "metadata": {
        "id": "qrssZMYozT_U"
      },
      "source": [
        "**LightPipelines**"
      ]
    },
    {
      "cell_type": "code",
      "execution_count": 7,
      "metadata": {
        "id": "sT_PHXXTxtV3",
        "colab": {
          "base_uri": "https://localhost:8080/"
        },
        "outputId": "fc6edfe4-551d-4f9a-82ab-54640b8ddc35"
      },
      "outputs": [
        {
          "output_type": "execute_result",
          "data": {
            "text/plain": [
              "[{'document_question': ['Transgastric endoscopic splenectomy: is it possible?'],\n",
              "  'document_context': ['We have previously reported the feasibility of diagnostic and therapeutic peritoneoscopy including liver biopsy, gastrojejunostomy, and tubal ligation by an oral transgastric approach. We present results of per-oral transgastric splenectomy in a porcine model. The goal of this study was to determine the technical feasibility of per-oral transgastric splenectomy using a flexible endoscope. We performed acute experiments on 50-kg pigs. All animals were fed liquids for 3 days prior to procedure. The procedures were performed under general anesthesia with endotracheal intubation. The flexible endoscope was passed per orally into the stomach and puncture of the gastric wall was performed with a needle knife. The puncture was extended to create a 1.5-cm incision using a pull-type sphincterotome, and a double-channel endoscope was advanced into the peritoneal cavity. The peritoneal cavity was insufflated with air through the endoscope. The spleen was visualized. The splenic vessels were ligated with endoscopic loops and clips, and then mesentery was dissected using electrocautery. Endoscopic splenectomy was performed on six pigs. There were no complications during gastric incision and entrance into the peritoneal cavity. Visualization of the spleen and other intraperitoneal organs was very good. Ligation of the splenic vessels and mobilization of the spleen were achieved using commercially available devices and endoscopic accessories.'],\n",
              "  'answer': ['yes']}]"
            ]
          },
          "metadata": {},
          "execution_count": 7
        }
      ],
      "source": [
        "context =\"We have previously reported the feasibility of diagnostic and therapeutic peritoneoscopy including liver biopsy, gastrojejunostomy, and tubal ligation by an oral transgastric approach. We present results of per-oral transgastric splenectomy in a porcine model. The goal of this study was to determine the technical feasibility of per-oral transgastric splenectomy using a flexible endoscope. We performed acute experiments on 50-kg pigs. All animals were fed liquids for 3 days prior to procedure. The procedures were performed under general anesthesia with endotracheal intubation. The flexible endoscope was passed per orally into the stomach and puncture of the gastric wall was performed with a needle knife. The puncture was extended to create a 1.5-cm incision using a pull-type sphincterotome, and a double-channel endoscope was advanced into the peritoneal cavity. The peritoneal cavity was insufflated with air through the endoscope. The spleen was visualized. The splenic vessels were ligated with endoscopic loops and clips, and then mesentery was dissected using electrocautery. Endoscopic splenectomy was performed on six pigs. There were no complications during gastric incision and entrance into the peritoneal cavity. Visualization of the spleen and other intraperitoneal organs was very good. Ligation of the splenic vessels and mobilization of the spleen were achieved using commercially available devices and endoscopic accessories.\"\n",
        "question = \"Transgastric endoscopic splenectomy: is it possible?\"\n",
        "\n",
        "light_model = LightPipeline(model)\n",
        "\n",
        "light_result = light_model.annotate([question],[context])\n",
        "\n",
        "light_result"
      ]
    },
    {
      "cell_type": "code",
      "execution_count": 8,
      "metadata": {
        "colab": {
          "base_uri": "https://localhost:8080/"
        },
        "id": "rv8i66Edy7TT",
        "outputId": "7410d445-b035-4071-9e4c-831e77b17bf8"
      },
      "outputs": [
        {
          "output_type": "execute_result",
          "data": {
            "text/plain": [
              "['yes']"
            ]
          },
          "metadata": {},
          "execution_count": 8
        }
      ],
      "source": [
        "light_result[0][\"answer\"]"
      ]
    },
    {
      "cell_type": "markdown",
      "metadata": {
        "id": "mVpgshECrlpA"
      },
      "source": [
        "### **Long answer**\n",
        "A `long` answer is a response that goes into more detail and provides a more comprehensive explanation than a `short` answer. `Long` answers typically involve more elaboration, examples, and supporting evidence to provide a thorough understanding of a particular topic or question."
      ]
    },
    {
      "cell_type": "code",
      "execution_count": 9,
      "metadata": {
        "colab": {
          "base_uri": "https://localhost:8080/"
        },
        "id": "qnIGlNRerntz",
        "outputId": "16541373-5187-4a5c-ec1a-f78a1c8afcfe"
      },
      "outputs": [
        {
          "output_type": "stream",
          "name": "stdout",
          "text": [
            "medical_qa_biogpt download started this may take some time.\n",
            "[OK!]\n"
          ]
        }
      ],
      "source": [
        "document_assembler = MultiDocumentAssembler()\\\n",
        "    .setInputCols(\"question\", \"context\")\\\n",
        "    .setOutputCols(\"document_question\", \"document_context\")\n",
        "\n",
        "med_qa = MedicalQuestionAnswering.pretrained(\"medical_qa_biogpt\",\"en\",\"clinical/models\")\\\n",
        "    .setInputCols([\"document_question\", \"document_context\"])\\\n",
        "    .setOutputCol(\"answer\")\\\n",
        "    .setMaxNewTokens(30)\\\n",
        "    .setTopK(1)\\\n",
        "    .setQuestionType(\"long\") # \"short\"\n",
        "\n",
        "pipeline = Pipeline(stages=[document_assembler, med_qa])\n",
        "\n",
        "empty_data = spark.createDataFrame([[\"\"]]).toDF(\"text\")\n",
        "\n",
        "model = pipeline.fit(empty_data)"
      ]
    },
    {
      "cell_type": "code",
      "execution_count": 10,
      "metadata": {
        "colab": {
          "base_uri": "https://localhost:8080/"
        },
        "id": "j9-RNHXxSJ9u",
        "outputId": "d8921b94-3fcf-42e0-d7b9-4608cb9f1032"
      },
      "outputs": [
        {
          "output_type": "stream",
          "name": "stdout",
          "text": [
            "+---------------------------------------------------------------------------+--------------------------------------------------------------------------------------------------------------------------------------------------------------------------------------------------------+\n",
            "|Question                                                                   |Long_Answer                                                                                                                                                                                             |\n",
            "+---------------------------------------------------------------------------+--------------------------------------------------------------------------------------------------------------------------------------------------------------------------------------------------------+\n",
            "|[Transgastric endoscopic splenectomy: is it possible?]                     |[per - oral transgastric splenectomy was technically feasible in a porcine model. further studies are necessary to determine the safety and efficacy of this procedure in]                              |\n",
            "|[Does histologic chorioamnionitis correspond to clinical chorioamnionitis?]|[histologic chorioamnionitis is significantly associated with indicators of maternal infection. histologic chorioamnionitis may be a useful adjunct to clinical indicators in the diagnosis of maternal]|\n",
            "|[Is there an optimal time of acid suppression for maximal healing?]        |[in patients with reflux oesophagitis, maximal healing rates are obtained when intragastric pH is achieved for approximately 50 - 70 % ( 12 - 17 h )]                                                   |\n",
            "+---------------------------------------------------------------------------+--------------------------------------------------------------------------------------------------------------------------------------------------------------------------------------------------------+\n",
            "\n"
          ]
        }
      ],
      "source": [
        "model.transform(data)\\\n",
        "  .selectExpr(\"document_question.result as Question\", \"answer.result as Long_Answer\")\\\n",
        "  .show(truncate=False)"
      ]
    },
    {
      "cell_type": "markdown",
      "metadata": {
        "id": "GkZQyrhEzXxO"
      },
      "source": [
        "**LightPipelines**"
      ]
    },
    {
      "cell_type": "code",
      "execution_count": 11,
      "metadata": {
        "colab": {
          "base_uri": "https://localhost:8080/"
        },
        "id": "5jQrB4dmzYI4",
        "outputId": "bc68c373-2549-4d57-8d73-04086e79c57b"
      },
      "outputs": [
        {
          "output_type": "execute_result",
          "data": {
            "text/plain": [
              "[{'document_question': ['Transgastric endoscopic splenectomy: is it possible?'],\n",
              "  'document_context': ['We have previously reported the feasibility of diagnostic and therapeutic peritoneoscopy including liver biopsy, gastrojejunostomy, and tubal ligation by an oral transgastric approach. We present results of per-oral transgastric splenectomy in a porcine model. The goal of this study was to determine the technical feasibility of per-oral transgastric splenectomy using a flexible endoscope. We performed acute experiments on 50-kg pigs. All animals were fed liquids for 3 days prior to procedure. The procedures were performed under general anesthesia with endotracheal intubation. The flexible endoscope was passed per orally into the stomach and puncture of the gastric wall was performed with a needle knife. The puncture was extended to create a 1.5-cm incision using a pull-type sphincterotome, and a double-channel endoscope was advanced into the peritoneal cavity. The peritoneal cavity was insufflated with air through the endoscope. The spleen was visualized. The splenic vessels were ligated with endoscopic loops and clips, and then mesentery was dissected using electrocautery. Endoscopic splenectomy was performed on six pigs. There were no complications during gastric incision and entrance into the peritoneal cavity. Visualization of the spleen and other intraperitoneal organs was very good. Ligation of the splenic vessels and mobilization of the spleen were achieved using commercially available devices and endoscopic accessories.'],\n",
              "  'answer': ['per - oral transgastric splenectomy was technically feasible in a porcine model. further studies are necessary to determine the safety and efficacy of this procedure in']}]"
            ]
          },
          "metadata": {},
          "execution_count": 11
        }
      ],
      "source": [
        "context =\"We have previously reported the feasibility of diagnostic and therapeutic peritoneoscopy including liver biopsy, gastrojejunostomy, and tubal ligation by an oral transgastric approach. We present results of per-oral transgastric splenectomy in a porcine model. The goal of this study was to determine the technical feasibility of per-oral transgastric splenectomy using a flexible endoscope. We performed acute experiments on 50-kg pigs. All animals were fed liquids for 3 days prior to procedure. The procedures were performed under general anesthesia with endotracheal intubation. The flexible endoscope was passed per orally into the stomach and puncture of the gastric wall was performed with a needle knife. The puncture was extended to create a 1.5-cm incision using a pull-type sphincterotome, and a double-channel endoscope was advanced into the peritoneal cavity. The peritoneal cavity was insufflated with air through the endoscope. The spleen was visualized. The splenic vessels were ligated with endoscopic loops and clips, and then mesentery was dissected using electrocautery. Endoscopic splenectomy was performed on six pigs. There were no complications during gastric incision and entrance into the peritoneal cavity. Visualization of the spleen and other intraperitoneal organs was very good. Ligation of the splenic vessels and mobilization of the spleen were achieved using commercially available devices and endoscopic accessories.\"\n",
        "question = \"Transgastric endoscopic splenectomy: is it possible?\"\n",
        "\n",
        "light_model = LightPipeline(model)\n",
        "\n",
        "light_result = light_model.annotate([question],[context])\n",
        "\n",
        "light_result"
      ]
    },
    {
      "cell_type": "code",
      "execution_count": 12,
      "metadata": {
        "colab": {
          "base_uri": "https://localhost:8080/"
        },
        "id": "4gAvcFCvzlcV",
        "outputId": "08e6c821-9f05-40e4-cf2a-7d045f23be21"
      },
      "outputs": [
        {
          "output_type": "execute_result",
          "data": {
            "text/plain": [
              "['per - oral transgastric splenectomy was technically feasible in a porcine model. further studies are necessary to determine the safety and efficacy of this procedure in']"
            ]
          },
          "metadata": {},
          "execution_count": 12
        }
      ],
      "source": [
        "light_result[0][\"answer\"]"
      ]
    },
    {
      "cell_type": "markdown",
      "metadata": {
        "id": "hmC41bkfy-Fq"
      },
      "source": [
        "## [flan_t5_base_jsl_qa](https://nlp.johnsnowlabs.com/2023/05/15/flan_t5_base_jsl_qa_en.html)\n",
        "\n",
        "The flan_t5_base_jsl_qa model is designed to work seamlessly with the MedicalQuestionAnswering annotator. This model provides a powerful and efficient solution for accurately answering medical questions and delivering insightful information in the medical domain."
      ]
    },
    {
      "cell_type": "code",
      "execution_count": 13,
      "metadata": {
        "colab": {
          "base_uri": "https://localhost:8080/"
        },
        "outputId": "29860404-0e36-4457-8f8e-22c16caa1cf8",
        "id": "e38fnfDJy-Fr"
      },
      "outputs": [
        {
          "output_type": "stream",
          "name": "stdout",
          "text": [
            "flan_t5_base_jsl_qa download started this may take some time.\n",
            "[OK!]\n"
          ]
        }
      ],
      "source": [
        "document_assembler = MultiDocumentAssembler()\\\n",
        "    .setInputCols(\"question\", \"context\")\\\n",
        "    .setOutputCols(\"document_question\", \"document_context\")\n",
        "\n",
        "med_qa = MedicalQuestionAnswering.pretrained(\"flan_t5_base_jsl_qa\",\"en\",\"clinical/models\")\\\n",
        "    .setInputCols([\"document_question\", \"document_context\"])\\\n",
        "    .setCustomPrompt(\"Question: {QUESTION}. Context: {DOCUMENT} \")\\\n",
        "    .setMaxNewTokens(70)\\\n",
        "    .setTopK(1)\\\n",
        "    .setOutputCol(\"answer\")\\\n",
        "    .setQuestionType(\"short\")\n",
        "\n",
        "pipeline = Pipeline(stages=[document_assembler, med_qa])\n",
        "\n",
        "empty_data = spark.createDataFrame([[\"\",\"\"]]).toDF(\"question\", \"context\")\n",
        "\n",
        "model = pipeline.fit(empty_data)"
      ]
    },
    {
      "cell_type": "markdown",
      "metadata": {
        "id": "VEgslnmTy-Fs"
      },
      "source": [
        "**LightPipelines**"
      ]
    },
    {
      "cell_type": "code",
      "execution_count": 14,
      "metadata": {
        "colab": {
          "base_uri": "https://localhost:8080/"
        },
        "outputId": "f6f67d5f-11b6-4ff0-b4b6-bba969f0bb24",
        "id": "Uk9rZE8Ky-Fs"
      },
      "outputs": [
        {
          "output_type": "execute_result",
          "data": {
            "text/plain": [
              "[{'document_question': ['How is transgastric endoscopic performed?'],\n",
              "  'document_context': ['We have previously reported the feasibility of diagnostic and therapeutic peritoneoscopy including liver biopsy, gastrojejunostomy, and tubal ligation by an oral transgastric approach. We present results of per-oral transgastric splenectomy in a porcine model. The goal of this study was to determine the technical feasibility of per-oral transgastric splenectomy using a flexible endoscope. We performed acute experiments on 50-kg pigs. All animals were fed liquids for 3 days prior to procedure. The procedures were performed under general anesthesia with endotracheal intubation. The flexible endoscope was passed per orally into the stomach and puncture of the gastric wall was performed with a needle knife. The puncture was extended to create a 1.5-cm incision using a pull-type sphincterotome, and a double-channel endoscope was advanced into the peritoneal cavity. The peritoneal cavity was insufflated with air through the endoscope. The spleen was visualized. The splenic vessels were ligated with endoscopic loops and clips, and then mesentery was dissected using electrocautery. Endoscopic splenectomy was performed on six pigs. There were no complications during gastric incision and entrance into the peritoneal cavity. Visualization of the spleen and other intraperitoneal organs was very good. Ligation of the splenic vessels and mobilization of the spleen were achieved using commercially available devices and endoscopic accessories.'],\n",
              "  'answer': ['Transgastric endoscopic surgery is a type of surgery that involves removing the obstructions from the heart and lungs. It involves removing the trachea, a small artery, and a small sphincter. The trachea is then removed and the sphincter is removed.']}]"
            ]
          },
          "metadata": {},
          "execution_count": 14
        }
      ],
      "source": [
        "context =\"We have previously reported the feasibility of diagnostic and therapeutic peritoneoscopy including liver biopsy, gastrojejunostomy, and tubal ligation by an oral transgastric approach. We present results of per-oral transgastric splenectomy in a porcine model. The goal of this study was to determine the technical feasibility of per-oral transgastric splenectomy using a flexible endoscope. We performed acute experiments on 50-kg pigs. All animals were fed liquids for 3 days prior to procedure. The procedures were performed under general anesthesia with endotracheal intubation. The flexible endoscope was passed per orally into the stomach and puncture of the gastric wall was performed with a needle knife. The puncture was extended to create a 1.5-cm incision using a pull-type sphincterotome, and a double-channel endoscope was advanced into the peritoneal cavity. The peritoneal cavity was insufflated with air through the endoscope. The spleen was visualized. The splenic vessels were ligated with endoscopic loops and clips, and then mesentery was dissected using electrocautery. Endoscopic splenectomy was performed on six pigs. There were no complications during gastric incision and entrance into the peritoneal cavity. Visualization of the spleen and other intraperitoneal organs was very good. Ligation of the splenic vessels and mobilization of the spleen were achieved using commercially available devices and endoscopic accessories.\"\n",
        "question = \"How is transgastric endoscopic performed?\"\n",
        "\n",
        "light_model = LightPipeline(model)\n",
        "\n",
        "light_result = light_model.annotate([question],[context])\n",
        "\n",
        "light_result"
      ]
    },
    {
      "cell_type": "markdown",
      "source": [
        "## clinical_notes_qa_base"
      ],
      "metadata": {
        "id": "NkL_KmCRlXm8"
      }
    },
    {
      "cell_type": "code",
      "source": [
        "document_assembler = MultiDocumentAssembler()\\\n",
        "    .setInputCols(\"question\", \"context\")\\\n",
        "    .setOutputCols(\"document_question\", \"document_context\")\n",
        "\n",
        "med_qa  = sparknlp_jsl.annotators.MedicalQuestionAnswering()\\\n",
        "    .pretrained(\"clinical_notes_qa_base\", \"en\", \"clinical/models\")\\\n",
        "    .setInputCols([\"document_question\", \"document_context\"])\\\n",
        "    .setCustomPrompt(\"Context: {context} \\n Question: {question} \\n Answer: \")\\\n",
        "    .setOutputCol(\"answer\")\\\n",
        "\n",
        "pipeline = Pipeline(stages=[document_assembler, med_qa])\n",
        "\n",
        "note_text = \"I am asked to see the patient today with ongoing issues around her diabetic control. We have been fairly aggressively, downwardly adjusting her insulins, both the Lantus insulin, which we had been giving at night as well as her sliding scale Humalog insulin prior to meals. Despite frequent decreases in her insulin regimen, she continues to have somewhat low blood glucoses, most notably in the morning when the glucoses have been in the 70s despite decreasing her Lantus insulin from around 84 units down to 60 units, which is a considerable change. What I cannot explain is why her glucoses have not really climbed at all despite the decrease in insulin. The staff reports to me that her appetite is good and that she is eating as well as ever. I talked to Anna today. She feels a little fatigued. Otherwise, she is doing well.\"\n",
        "\n",
        "question = \"How much has the Lantus insulin dosage been reduced?\"\n",
        "\n",
        "empty_data = spark.createDataFrame([[\"\"]]).toDF(\"text\")\n",
        "\n",
        "model = pipeline.fit(empty_data)\n",
        "\n",
        "data = spark.createDataFrame([[question, note_text]]).toDF(\"question\", \"context\")\n",
        "\n",
        "result = model.transform(data)"
      ],
      "metadata": {
        "id": "w_CuvEZ_lYgz",
        "outputId": "bda1c83a-affd-4982-9a0d-9ccf4317d67c",
        "colab": {
          "base_uri": "https://localhost:8080/"
        }
      },
      "execution_count": 6,
      "outputs": [
        {
          "output_type": "stream",
          "name": "stdout",
          "text": [
            "clinical_notes_qa_base download started this may take some time.\n",
            "[OK!]\n"
          ]
        }
      ]
    },
    {
      "cell_type": "code",
      "source": [
        "result.selectExpr(\"document_question.result as Question\", \"answer.result as Answer\")\\\n",
        "  .show(truncate=False)"
      ],
      "metadata": {
        "id": "AiBeLrIoldUd",
        "outputId": "c539a21d-4eb3-47dc-9694-f77eda83c265",
        "colab": {
          "base_uri": "https://localhost:8080/"
        }
      },
      "execution_count": 7,
      "outputs": [
        {
          "output_type": "stream",
          "name": "stdout",
          "text": [
            "+------------------------------------------------------+-----------------------------------------------------------------------------------+\n",
            "|Question                                              |Answer                                                                             |\n",
            "+------------------------------------------------------+-----------------------------------------------------------------------------------+\n",
            "|[How much has the Lantus insulin dosage been reduced?]|[The Lantus insulin dosage has been reduced from around 84 units down to 60 units.]|\n",
            "+------------------------------------------------------+-----------------------------------------------------------------------------------+\n",
            "\n"
          ]
        }
      ]
    },
    {
      "cell_type": "code",
      "source": [
        "context =\"I am asked to see the patient today with ongoing issues around her diabetic control. We have been fairly aggressively, downwardly adjusting her insulins, both the Lantus insulin, which we had been giving at night as well as her sliding scale Humalog insulin prior to meals. Despite frequent decreases in her insulin regimen, she continues to have somewhat low blood glucoses, most notably in the morning when the glucoses have been in the 70s despite decreasing her Lantus insulin from around 84 units down to 60 units, which is a considerable change. What I cannot explain is why her glucoses have not really climbed at all despite the decrease in insulin. The staff reports to me that her appetite is good and that she is eating as well as ever. I talked to Anna today. She feels a little fatigued. Otherwise, she is doing well.\"\n",
        "question = \"How much has the Lantus insulin dosage been reduced?\"\n",
        "\n",
        "light_model = LightPipeline(model)\n",
        "\n",
        "light_result = light_model.annotate([question],[context])\n",
        "\n",
        "light_result"
      ],
      "metadata": {
        "id": "KrzPgNYWlfR0",
        "outputId": "e5d1a142-7a41-4762-b15d-7e52aaaf1500",
        "colab": {
          "base_uri": "https://localhost:8080/"
        }
      },
      "execution_count": 8,
      "outputs": [
        {
          "output_type": "execute_result",
          "data": {
            "text/plain": [
              "[{'document_question': ['How much has the Lantus insulin dosage been reduced?'],\n",
              "  'document_context': ['I am asked to see the patient today with ongoing issues around her diabetic control. We have been fairly aggressively, downwardly adjusting her insulins, both the Lantus insulin, which we had been giving at night as well as her sliding scale Humalog insulin prior to meals. Despite frequent decreases in her insulin regimen, she continues to have somewhat low blood glucoses, most notably in the morning when the glucoses have been in the 70s despite decreasing her Lantus insulin from around 84 units down to 60 units, which is a considerable change. What I cannot explain is why her glucoses have not really climbed at all despite the decrease in insulin. The staff reports to me that her appetite is good and that she is eating as well as ever. I talked to Anna today. She feels a little fatigued. Otherwise, she is doing well.'],\n",
              "  'answer': ['The Lantus insulin dosage has been reduced from around 84 units down to 60 units.']}]"
            ]
          },
          "metadata": {},
          "execution_count": 8
        }
      ]
    },
    {
      "cell_type": "markdown",
      "source": [
        "## clinical_notes_qa_large"
      ],
      "metadata": {
        "id": "H7019sfllNG1"
      }
    },
    {
      "cell_type": "code",
      "source": [
        "document_assembler = MultiDocumentAssembler()\\\n",
        "    .setInputCols(\"question\", \"context\")\\\n",
        "    .setOutputCols(\"document_question\", \"document_context\")\n",
        "\n",
        "med_qa  = sparknlp_jsl.annotators.MedicalQuestionAnswering()\\\n",
        "    .pretrained(\"clinical_notes_qa_large\", \"en\", \"clinical/models\")\\\n",
        "    .setInputCols([\"document_question\", \"document_context\"])\\\n",
        "    .setCustomPrompt(\"Context: {context} \\n Question: {question} \\n Answer: \")\\\n",
        "    .setOutputCol(\"answer\")\\\n",
        "\n",
        "pipeline = Pipeline(stages=[document_assembler, med_qa])\n",
        "\n",
        "note_text = \"his is a 14-month-old with history of chronic recurrent episodes of otitis media, totalling 6 bouts, requiring antibiotics since birth. There is also associated chronic nasal congestion. There had been no bouts of spontaneous tympanic membrane perforation, but there had been elevations of temperature up to 102 during the acute infection. He is being admitted at this time for myringotomy and tube insertion under general facemask anesthesia.\"\n",
        "\n",
        "question = \"How many bouts of otitis media has the patient experienced?\"\n",
        "\n",
        "empty_data = spark.createDataFrame([[\"\"]]).toDF(\"text\")\n",
        "\n",
        "model = pipeline.fit(empty_data)\n",
        "\n",
        "data = spark.createDataFrame([[question, note_text]]).toDF(\"question\", \"context\")\n",
        "\n",
        "result = model.transform(data)"
      ],
      "metadata": {
        "id": "qnGLbYkGlMHJ",
        "outputId": "25356253-6ff6-490d-e83d-f072ed55bb4f",
        "colab": {
          "base_uri": "https://localhost:8080/"
        }
      },
      "execution_count": 9,
      "outputs": [
        {
          "output_type": "stream",
          "name": "stdout",
          "text": [
            "clinical_notes_qa_large download started this may take some time.\n",
            "[OK!]\n"
          ]
        }
      ]
    },
    {
      "cell_type": "code",
      "source": [
        "result.selectExpr(\"document_question.result as Question\", \"answer.result as Answer\")\\\n",
        "  .show(truncate=False)"
      ],
      "metadata": {
        "id": "6G5Kjv5PlS64",
        "outputId": "bc1e6839-a6bd-4b4b-d0f9-c2eb348e00b7",
        "colab": {
          "base_uri": "https://localhost:8080/"
        }
      },
      "execution_count": 10,
      "outputs": [
        {
          "output_type": "stream",
          "name": "stdout",
          "text": [
            "+-------------------------------------------------------------+------------------------------------------------------+\n",
            "|Question                                                     |Answer                                                |\n",
            "+-------------------------------------------------------------+------------------------------------------------------+\n",
            "|[How many bouts of otitis media has the patient experienced?]|[The patient has experienced 6 bouts of otitis media.]|\n",
            "+-------------------------------------------------------------+------------------------------------------------------+\n",
            "\n"
          ]
        }
      ]
    },
    {
      "cell_type": "code",
      "source": [
        "context =\"his is a 14-month-old with history of chronic recurrent episodes of otitis media, totalling 6 bouts, requiring antibiotics since birth. There is also associated chronic nasal congestion. There had been no bouts of spontaneous tympanic membrane perforation, but there had been elevations of temperature up to 102 during the acute infection. He is being admitted at this time for myringotomy and tube insertion under general facemask anesthesia.\"\n",
        "question = \"How many bouts of otitis media has the patient experienced?\"\n",
        "\n",
        "light_model = LightPipeline(model)\n",
        "\n",
        "light_result = light_model.annotate([question],[context])\n",
        "\n",
        "light_result"
      ],
      "metadata": {
        "id": "Z3j66HXVlU39",
        "outputId": "f2c14d06-43d8-4f67-d3aa-cfa9c34a327b",
        "colab": {
          "base_uri": "https://localhost:8080/"
        }
      },
      "execution_count": 11,
      "outputs": [
        {
          "output_type": "execute_result",
          "data": {
            "text/plain": [
              "[{'document_question': ['How many bouts of otitis media has the patient experienced?'],\n",
              "  'document_context': ['his is a 14-month-old with history of chronic recurrent episodes of otitis media, totalling 6 bouts, requiring antibiotics since birth. There is also associated chronic nasal congestion. There had been no bouts of spontaneous tympanic membrane perforation, but there had been elevations of temperature up to 102 during the acute infection. He is being admitted at this time for myringotomy and tube insertion under general facemask anesthesia.'],\n",
              "  'answer': ['The patient has experienced 6 bouts of otitis media.']}]"
            ]
          },
          "metadata": {},
          "execution_count": 11
        }
      ]
    }
  ],
  "metadata": {
    "colab": {
      "machine_shape": "hm",
      "provenance": [],
      "gpuType": "V100"
    },
    "gpuClass": "standard",
    "kernelspec": {
      "display_name": "Python 3",
      "name": "python3"
    },
    "language_info": {
      "name": "python"
    }
  },
  "nbformat": 4,
  "nbformat_minor": 0
}
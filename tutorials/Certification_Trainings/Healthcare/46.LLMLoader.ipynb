{
  "cells": [
    {
      "cell_type": "markdown",
      "metadata": {
        "id": "fDqxs6BQJ3uN"
      },
      "source": [
        "![JohnSnowLabs](https://nlp.johnsnowlabs.com/assets/images/logo.png)"
      ]
    },
    {
      "cell_type": "markdown",
      "metadata": {
        "id": "gHuWRMttJ6Je"
      },
      "source": [
        "[![Open In Colab](https://colab.research.google.com/assets/colab-badge.svg)](https://colab.research.google.com/github/JohnSnowLabs/spark-nlp-workshop/blob/master/tutorials/Certification_Trainings/Healthcare/46.LLMLoader.ipynb)"
      ]
    },
    {
      "cell_type": "markdown",
      "metadata": {
        "id": "X_I1GNjBERqK"
      },
      "source": [
        "# LLMLoader\n",
        "\n"
      ]
    },
    {
      "cell_type": "markdown",
      "metadata": {
        "id": "WBx5D1RHKlNM"
      },
      "source": [
        "LLMLoader is designed to interact with a LLMs that are converted into gguf format. This module allows using John Snow Labs' licensed LLMs at various sizes that are finetuned on medical context for certain tasks. It provides various methods for setting parameters, loading models, generating text, and retrieving metadata. The LLMLoader includes methods for setting various parameters such as input prefix, suffix, cache prompt, number of tokens to predict, sampling techniques, temperature, penalties, and more. Overall, the LLMLoader provides a flexible and extensible framework for interacting with language models in a Python and Scala environment using PySpark and Java."
      ]
    },
    {
      "cell_type": "markdown",
      "metadata": {
        "id": "okhT7AcXxben"
      },
      "source": [
        "## Colab Setup"
      ]
    },
    {
      "cell_type": "code",
      "execution_count": null,
      "metadata": {
        "id": "UPYaQizloMiq"
      },
      "outputs": [],
      "source": [
        "import json, os\n",
        "from google.colab import files\n",
        "\n",
        "if 'spark_jsl.json' not in os.listdir():\n",
        "  license_keys = files.upload()\n",
        "  os.rename(list(license_keys.keys())[0], 'spark_jsl.json')\n",
        "\n",
        "with open('spark_jsl.json') as f:\n",
        "    license_keys = json.load(f)\n",
        "\n",
        "# Defining license key-value pairs as local variables\n",
        "locals().update(license_keys)\n",
        "os.environ.update(license_keys)"
      ]
    },
    {
      "cell_type": "code",
      "execution_count": null,
      "metadata": {
        "id": "jphatV_n_u-T"
      },
      "outputs": [],
      "source": [
        "# Installing pyspark and spark-nlp\n",
        "! pip install --upgrade -q pyspark==3.4.1 spark-nlp==$PUBLIC_VERSION\n",
        "\n",
        "# Installing Spark NLP Healthcare\n",
        "! pip install --upgrade -q spark-nlp-jsl==$JSL_VERSION  --extra-index-url https://pypi.johnsnowlabs.com/$SECRET\n",
        "\n",
        "# Installing Spark NLP Display Library for visualization\n",
        "! pip install -q spark-nlp-display"
      ]
    },
    {
      "cell_type": "code",
      "execution_count": 3,
      "metadata": {
        "colab": {
          "base_uri": "https://localhost:8080/",
          "height": 254
        },
        "id": "kMtWWqFBAMVW",
        "outputId": "11128351-edb4-4f87-d96f-1d473dc19591"
      },
      "outputs": [
        {
          "output_type": "stream",
          "name": "stdout",
          "text": [
            "Spark NLP Version : 5.4.0\n",
            "Spark NLP_JSL Version : 5.4.0\n"
          ]
        },
        {
          "output_type": "execute_result",
          "data": {
            "text/plain": [
              "<pyspark.sql.session.SparkSession at 0x7a1ea6039ff0>"
            ],
            "text/html": [
              "\n",
              "            <div>\n",
              "                <p><b>SparkSession - in-memory</b></p>\n",
              "                \n",
              "        <div>\n",
              "            <p><b>SparkContext</b></p>\n",
              "\n",
              "            <p><a href=\"http://b7bc1c5b80d2:4040\">Spark UI</a></p>\n",
              "\n",
              "            <dl>\n",
              "              <dt>Version</dt>\n",
              "                <dd><code>v3.4.1</code></dd>\n",
              "              <dt>Master</dt>\n",
              "                <dd><code>local[*]</code></dd>\n",
              "              <dt>AppName</dt>\n",
              "                <dd><code>Spark NLP Licensed</code></dd>\n",
              "            </dl>\n",
              "        </div>\n",
              "        \n",
              "            </div>\n",
              "        "
            ]
          },
          "metadata": {},
          "execution_count": 3
        }
      ],
      "source": [
        "import json\n",
        "import os\n",
        "\n",
        "import sparknlp\n",
        "import sparknlp_jsl\n",
        "\n",
        "from sparknlp.base import *\n",
        "from sparknlp.annotator import *\n",
        "from sparknlp_jsl.annotator import *\n",
        "\n",
        "from pyspark.ml import Pipeline,PipelineModel\n",
        "from pyspark.sql import SparkSession\n",
        "\n",
        "import warnings\n",
        "warnings.filterwarnings('ignore')\n",
        "\n",
        "params = {\"spark.driver.memory\":\"16G\",\n",
        "          \"spark.kryoserializer.buffer.max\":\"2000M\",\n",
        "          \"spark.driver.maxResultSize\":\"2000M\"}\n",
        "\n",
        "spark = sparknlp_jsl.start(license_keys['SECRET'],params=params)\n",
        "\n",
        "print(\"Spark NLP Version :\", sparknlp.version())\n",
        "print(\"Spark NLP_JSL Version :\", sparknlp_jsl.version())\n",
        "\n",
        "spark"
      ]
    },
    {
      "cell_type": "markdown",
      "metadata": {
        "id": "iel7cvOYKZHf"
      },
      "source": [
        "# Pretrained Models"
      ]
    },
    {
      "cell_type": "markdown",
      "metadata": {
        "id": "zNEareAzLXPy"
      },
      "source": [
        "\n",
        "\n",
        "| Model Name              | Description |\n",
        "|-------------------------|-------------|\n",
        "|[JSL_MedS_q16_v1](https://nlp.johnsnowlabs.com/2024/07/12/jsl_meds_q16_v1_en.html)      | This LLM model is trained to perform Summarization and Q&A based on a given context |\n",
        "|[JSL_MedS_q8_v1](https://nlp.johnsnowlabs.com/2024/07/12/jsl_meds_q8_v1_en.html)       | This LLM model is trained to perform Summarization and Q&A based on a given context |\n",
        "|[JSL_MedS_q4_v1](https://nlp.johnsnowlabs.com/2024/07/12/jsl_meds_q4_v1_en.html)       | This LLM model is trained to perform Summarization and Q&A based on a given context |\n",
        "|[JSL_MedM_q16_v1](https://nlp.johnsnowlabs.com/2024/07/12/jsl_medm_q16_v1_en.html)      | This LLM model is trained to perform Q&A, Summarization, RAG, and Chat |\n",
        "|[JSL_MedM_q8_v1](https://nlp.johnsnowlabs.com/2024/07/12/jsl_medm_q8_v1_en.html)       | This LLM model is trained to perform Q&A, Summarization, RAG, and Chat |\n",
        "|[JSL_MedM_q4_v1](https://nlp.johnsnowlabs.com/2024/07/12/jsl_medm_q4_v1_en.html)       | This LLM model is trained to perform Q&A, Summarization, RAG, and Chat |\n",
        "|[JSL_MedSNer_ZS_q16_v1](https://nlp.johnsnowlabs.com/2024/07/12/jsl_medsner_zh_q16_en.html)| This LLM model is trained to extract and link entities in a document |\n",
        "|[JSL_MedSNer_ZS_q8_v1](https://nlp.johnsnowlabs.com/2024/07/12/jsl_medsner_zh_q8_en.html) | This LLM model is trained to extract and link entities in a document |\n",
        "|[JSL_MedSNer_ZS_q4_v1](https://nlp.johnsnowlabs.com/2024/07/12/jsl_medsner_zh_q4_en.html) | This LLM model is trained to extract and link entities in a document |\n",
        "\n",
        "\n",
        "We recommend using 8b quantised versions of the models as the qualitative performance difference between q16 and q8 versions is very negligible."
      ]
    },
    {
      "cell_type": "markdown",
      "source": [
        "## JSL_MedS\n",
        "\n",
        "\n",
        "This LLM model is trained to perform Summarization and Q&A based on a given context."
      ],
      "metadata": {
        "id": "E1pk6PsjqfxL"
      }
    },
    {
      "cell_type": "code",
      "source": [
        "from sparknlp_jsl.llm import LLMLoader\n",
        "\n",
        "llm_loader_pretrained = LLMLoader(spark).pretrained(\"jsl_meds_q8_v1\", \"en\", \"clinical/models\")"
      ],
      "metadata": {
        "id": "Bzbsv7oNqdya"
      },
      "execution_count": 6,
      "outputs": []
    },
    {
      "cell_type": "code",
      "source": [
        "ptompt = \"\"\"\n",
        "Based on the following text, what age group is most susceptible to breast cancer?\n",
        "\n",
        "## Text:\n",
        "The exact cause of breast cancer is unknown. However, several risk factors can increase your likelihood of developing breast cancer, such as:\n",
        "- A personal or family history of breast cancer\n",
        "- A genetic mutation, such as BRCA1 or BRCA2\n",
        "- Exposure to radiation\n",
        "- Age (most commonly occurring in women over 50)\n",
        "- Early onset of menstruation or late menopause\n",
        "- Obesity\n",
        "- Hormonal factors, such as taking hormone replacement therapy\n",
        "\"\"\"\n",
        "\n",
        "response = llm_loader_pretrained.generate(ptompt)"
      ],
      "metadata": {
        "id": "tKqPd3fpvSk5"
      },
      "execution_count": null,
      "outputs": []
    },
    {
      "cell_type": "code",
      "source": [
        "response"
      ],
      "metadata": {
        "id": "PzAyfaJuPf-D",
        "colab": {
          "base_uri": "https://localhost:8080/",
          "height": 36
        },
        "outputId": "ec49e33b-93a1-484a-a0e7-2eff5d610951"
      },
      "execution_count": 9,
      "outputs": [
        {
          "output_type": "execute_result",
          "data": {
            "text/plain": [
              "' The age group most susceptible to breast cancer, as mentioned in the text, is women over the age of 50.'"
            ],
            "application/vnd.google.colaboratory.intrinsic+json": {
              "type": "string"
            }
          },
          "metadata": {},
          "execution_count": 9
        }
      ]
    },
    {
      "cell_type": "markdown",
      "source": [
        "## JSL_MedM\n",
        "\n",
        "\n",
        "This LLM model is trained to perform Q&A, Summarization, RAG, and Chat."
      ],
      "metadata": {
        "id": "JvfoVr3yqmfE"
      }
    },
    {
      "cell_type": "code",
      "source": [
        "from sparknlp_jsl.llm import LLMLoader\n",
        "\n",
        "llm_loader_pretrained = LLMLoader(spark).pretrained(\"jsl_medm_q8_v1\", \"en\", \"clinical/models\")"
      ],
      "metadata": {
        "id": "WUB6Q5z4wecF"
      },
      "execution_count": 8,
      "outputs": []
    },
    {
      "cell_type": "code",
      "source": [
        "ptompt = \"\"\"\n",
        "A 23-year-old pregnant woman at 22 weeks gestation presents with burning upon urination. She states it started 1 day ago and has been worsening despite drinking more water and taking cranberry extract. She otherwise feels well and is followed by a doctor for her pregnancy. Her temperature is 97.7°F (36.5°C), blood pressure is 122/77 mmHg, pulse is 80/min, respirations are 19/min, and oxygen saturation is 98% on room air. Physical exam is notable for an absence of costovertebral angle tenderness and a gravid uterus.\n",
        "Which of the following is the best treatment for this patient?\n",
        "A: Ampicillin\n",
        "B: Ceftriaxone\n",
        "C: Ciprofloxacin\n",
        "D: Doxycycline\n",
        "E: Nitrofurantoin\n",
        "\"\"\"\n",
        "\n",
        "response = llm_loader_pretrained.generate(ptompt)"
      ],
      "metadata": {
        "id": "nw3jUHswwfuE"
      },
      "execution_count": null,
      "outputs": []
    },
    {
      "cell_type": "code",
      "source": [
        "print(response)"
      ],
      "metadata": {
        "colab": {
          "base_uri": "https://localhost:8080/"
        },
        "id": "13Tm_CqW47EM",
        "outputId": "f4004474-620c-4abd-9c7b-eba9ca2e969e"
      },
      "execution_count": 11,
      "outputs": [
        {
          "output_type": "stream",
          "name": "stdout",
          "text": [
            "The correct answer is E: Nitrofurantoin.\n",
            "\n",
            "The patient is 22 weeks pregnant and has symptoms of burning upon urination, which is a common symptom of urinary tract infection (UTI). Nitrofurantoin is a first-line antibiotic for uncomplicated UTI in pregnant women.\n"
          ]
        }
      ]
    },
    {
      "cell_type": "code",
      "source": [
        "### Output:\n",
        "\"\"\"The correct answer is E: Nitrofurantoin.\n",
        "\n",
        "The patient is presenting with symptoms of urinary tract infection (UTI), which is common during pregnancy. Nitrofurantoin is a first-line antibiotic for uncomplicated UTI during pregnancy. It is safe and effective in treating UTI during pregnancy and has been used for many years without any adverse effects on the fetus.\n",
        "\"\"\""
      ],
      "metadata": {
        "id": "99_pk-PUPaHI"
      },
      "execution_count": null,
      "outputs": []
    },
    {
      "cell_type": "markdown",
      "source": [
        "## JSL_MedSNer\n",
        "\n",
        "\n",
        "This LLM model is trained to extract and link entities in a document.\n",
        "Users needs to define an input schema as explained in the example section.\n",
        "Drug is defined as a list which tells the model that there could be multiple drugs in the document and it has to extract all of them.\n",
        "Each drug has properties like \"name\" and \"reaction\". Since \"name\" is only one, it is a string, but there could be multiple reactions, hence it is a list.\n",
        "Similarly, users can define any schema for any type of entity."
      ],
      "metadata": {
        "id": "v2M2uLwrqk2I"
      }
    },
    {
      "cell_type": "code",
      "source": [
        "from sparknlp_jsl.llm import LLMLoader\n",
        "\n",
        "llm_loader_pretrained = LLMLoader(spark).pretrained(\"jsl_medner_zs_q16\", \"en\", \"clinical/models\")"
      ],
      "metadata": {
        "id": "kE5mA4J8wLnx"
      },
      "execution_count": 12,
      "outputs": []
    },
    {
      "cell_type": "code",
      "source": [
        "ptompt = \"\"\"\n",
        "### Template:\n",
        "{\n",
        "    \"drugs\": [\n",
        "        {\n",
        "            \"name\": \"\",\n",
        "            \"reactions\": []\n",
        "        }\n",
        "    ]\n",
        "}\n",
        "### Text:\n",
        "I feel a bit drowsy & have a little blurred vision , and some gastric problems .\n",
        "I 've been on Arthrotec 50 for over 10 years on and off , only taking it when I needed it .\n",
        "Due to my arthritis getting progressively worse , to the point where I am in tears with the agony.\n",
        "Gp 's started me on 75 twice a day and I have to take it every day for the next month to see how I get on , here goes .\n",
        "So far its been very good , pains almost gone , but I feel a bit weird , did n't have that when on 50.\n",
        "\"\"\"\n",
        "\n",
        "response = llm_loader_pretrained.generate(ptompt)"
      ],
      "metadata": {
        "id": "0RrcK9JvwTIj"
      },
      "execution_count": 13,
      "outputs": []
    },
    {
      "cell_type": "code",
      "source": [
        "response"
      ],
      "metadata": {
        "id": "lqdALRQ8zXCY"
      },
      "execution_count": null,
      "outputs": []
    },
    {
      "cell_type": "code",
      "source": [
        "print(response)"
      ],
      "metadata": {
        "id": "K6tO9PAG20bp"
      },
      "execution_count": null,
      "outputs": []
    },
    {
      "cell_type": "code",
      "source": [
        "####### Model: JSL_MedSNer_ZS_q16_v1\n",
        "### Output:\n",
        "\"\"\"\n",
        "{\n",
        "    \"drugs\": [\n",
        "        {\n",
        "            \"name\": \"Arthrotec\",\n",
        "            \"reactions\": [\n",
        "                \"drowsy\",\n",
        "                \"blurred vision\",\n",
        "                \"gastric problems\"\n",
        "            ]\n",
        "        }\n",
        "    ]\n",
        "}\n",
        "\"\"\""
      ],
      "metadata": {
        "id": "VwALcPrAPeek"
      },
      "execution_count": null,
      "outputs": []
    }
  ],
  "metadata": {
    "colab": {
      "toc_visible": true,
      "provenance": [],
      "machine_shape": "hm",
      "gpuType": "T4"
    },
    "kernelspec": {
      "display_name": "Python 3",
      "name": "python3"
    },
    "language_info": {
      "name": "python"
    },
    "accelerator": "GPU"
  },
  "nbformat": 4,
  "nbformat_minor": 0
}
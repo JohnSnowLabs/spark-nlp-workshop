{
  "cells": [
    {
      "cell_type": "markdown",
      "metadata": {
        "id": "I08sFJYCxR0Z"
      },
      "source": [
        "![JohnSnowLabs](https://nlp.johnsnowlabs.com/assets/images/logo.png)"
      ]
    },
    {
      "cell_type": "markdown",
      "metadata": {
        "id": "FwJ-P56kq6FU"
      },
      "source": [
        "[![Open In Colab](https://colab.research.google.com/assets/colab-badge.svg)](https://colab.research.google.com/github/JohnSnowLabs/spark-nlp-workshop/blob/master/tutorials/Certification_Trainings/Healthcare/10.4.Resume_RelationExtractionApproach_Training.ipynb)"
      ]
    },
    {
      "cell_type": "markdown",
      "metadata": {
        "id": "7ztGkR5mb6zN"
      },
      "source": [
        "# 10.4 Resume RelationExtractionApproach Model Training\n",
        "\n",
        "Steps:\n",
        "- Train a new model for a few epochs.\n",
        "- Load the same model and train for more epochs on the same taxnonomy, and evaluate.\n",
        "- Train a model already trained on a different dataset."
      ]
    },
    {
      "cell_type": "markdown",
      "metadata": {
        "id": "0OWLAeE2tl9T"
      },
      "source": [
        "## Healthcare NLP for Data Scientists Course\n",
        "\n",
        "If you are not familiar with the components in this notebook, you can check [Healthcare NLP for Data Scientists Udemy Course](https://www.udemy.com/course/healthcare-nlp-for-data-scientists/) and the [MOOC Notebooks](https://github.com/JohnSnowLabs/spark-nlp-workshop/tree/master/Spark_NLP_Udemy_MOOC/Healthcare_NLP) for each components."
      ]
    },
    {
      "cell_type": "markdown",
      "metadata": {
        "id": "-68NMdHxJIco"
      },
      "source": [
        "## Colab Setup"
      ]
    },
    {
      "cell_type": "code",
      "execution_count": null,
      "metadata": {
        "id": "h9Mn1PNTNJTq"
      },
      "outputs": [],
      "source": [
        "import json\n",
        "import os\n",
        "\n",
        "from google.colab import files\n",
        "\n",
        "if 'spark_jsl.json' not in os.listdir():\n",
        "  license_keys = files.upload()\n",
        "  os.rename(list(license_keys.keys())[0], 'spark_jsl.json')\n",
        "\n",
        "with open('spark_jsl.json') as f:\n",
        "    license_keys = json.load(f)\n",
        "\n",
        "# Defining license key-value pairs as local variables\n",
        "locals().update(license_keys)\n",
        "os.environ.update(license_keys)"
      ]
    },
    {
      "cell_type": "code",
      "execution_count": null,
      "metadata": {
        "id": "yvHraBK7b-LU"
      },
      "outputs": [],
      "source": [
        "# Installing pyspark and spark-nlp\n",
        "! pip install --upgrade -q pyspark==3.4.1 spark-nlp==$PUBLIC_VERSION\n",
        "\n",
        "# Installing Spark NLP Healthcare\n",
        "! pip install --upgrade -q spark-nlp-jsl==$JSL_VERSION  --extra-index-url https://pypi.johnsnowlabs.com/$SECRET\n",
        "\n",
        "# Installing Spark NLP Display Library for visualization\n",
        "! pip install -q spark-nlp-display"
      ]
    },
    {
      "cell_type": "code",
      "execution_count": 3,
      "metadata": {
        "colab": {
          "base_uri": "https://localhost:8080/",
          "height": 258
        },
        "id": "1t5Kp93GcH7z",
        "outputId": "3fa99d87-894a-4d68-db06-8acc520da6e1"
      },
      "outputs": [
        {
          "output_type": "stream",
          "name": "stdout",
          "text": [
            "Spark NLP Version : 6.1.3\n",
            "Spark NLP_JSL Version : 6.1.1\n"
          ]
        },
        {
          "output_type": "execute_result",
          "data": {
            "text/plain": [
              "<pyspark.sql.session.SparkSession at 0x7d400fd015b0>"
            ],
            "text/html": [
              "\n",
              "            <div>\n",
              "                <p><b>SparkSession - in-memory</b></p>\n",
              "                \n",
              "        <div>\n",
              "            <p><b>SparkContext</b></p>\n",
              "\n",
              "            <p><a href=\"http://b212831f6387:4040\">Spark UI</a></p>\n",
              "\n",
              "            <dl>\n",
              "              <dt>Version</dt>\n",
              "                <dd><code>v3.4.1</code></dd>\n",
              "              <dt>Master</dt>\n",
              "                <dd><code>local[*]</code></dd>\n",
              "              <dt>AppName</dt>\n",
              "                <dd><code>Spark NLP Licensed</code></dd>\n",
              "            </dl>\n",
              "        </div>\n",
              "        \n",
              "            </div>\n",
              "        "
            ]
          },
          "metadata": {},
          "execution_count": 3
        }
      ],
      "source": [
        "import json\n",
        "import os\n",
        "\n",
        "import sparknlp\n",
        "import sparknlp_jsl\n",
        "\n",
        "from sparknlp.base import *\n",
        "from sparknlp.annotator import *\n",
        "from sparknlp_jsl.annotator import *\n",
        "\n",
        "from pyspark.ml import Pipeline,PipelineModel\n",
        "from pyspark.sql import SparkSession\n",
        "import pyspark.sql.functions as F\n",
        "import pyspark.sql.types as T\n",
        "\n",
        "import warnings\n",
        "warnings.filterwarnings('ignore')\n",
        "\n",
        "params = {\"spark.driver.memory\":\"16G\", # Amount of memory to use for the driver process, i.e. where SparkContext is initialized\n",
        "          \"spark.kryoserializer.buffer.max\":\"2000M\", # Maximum allowable size of Kryo serialization buffer, in MiB unless otherwise specified.\n",
        "          \"spark.driver.maxResultSize\":\"2000M\"} # Limit of total size of serialized results of all partitions for each Spark action (e.g. collect) in bytes.\n",
        "                                                # Should be at least 1M, or 0 for unlimited.\n",
        "\n",
        "spark = sparknlp_jsl.start(license_keys['SECRET'],params=params)\n",
        "\n",
        "print (\"Spark NLP Version :\", sparknlp.version())\n",
        "print (\"Spark NLP_JSL Version :\", sparknlp_jsl.version())\n",
        "\n",
        "spark"
      ]
    },
    {
      "cell_type": "markdown",
      "metadata": {
        "id": "bfT1AaKvOG4J"
      },
      "source": [
        "## Download Data for Training (NCBI Disease Dataset)"
      ]
    },
    {
      "cell_type": "code",
      "execution_count": 4,
      "metadata": {
        "id": "cEYXlTzbPMB7"
      },
      "outputs": [],
      "source": [
        "!wget -q https://raw.githubusercontent.com/JohnSnowLabs/spark-nlp-workshop/master/tutorials/Certification_Trainings/Healthcare/data/i2b2_clinical_rel_dataset.csv"
      ]
    },
    {
      "cell_type": "code",
      "execution_count": 5,
      "metadata": {
        "colab": {
          "base_uri": "https://localhost:8080/"
        },
        "id": "rYLFjUJLEMsN",
        "outputId": "5a7eaa24-cfb5-48f3-e091-2a6123303d67"
      },
      "outputs": [
        {
          "output_type": "stream",
          "name": "stdout",
          "text": [
            "+--------------------+-------------+-------------+------------+------------+--------------------+--------------------+---------+---------+-----+-------+\n",
            "|            sentence|firstCharEnt1|firstCharEnt2|lastCharEnt1|lastCharEnt2|              chunk1|              chunk2|   label1|   label2|  rel|dataset|\n",
            "+--------------------+-------------+-------------+------------+------------+--------------------+--------------------+---------+---------+-----+-------+\n",
            "|VITAL SIGNS - Tem...|           49|           75|          64|          84|    respiratory rate|          saturation|     test|     test|    O|   test|\n",
            "|No lotions , crea...|            3|           34|           9|          42|             lotions|           incisions|treatment|  problem|TrNAP|   test|\n",
            "|Because of expect...|           11|           58|          54|          68|expected long ter...|         a picc line|treatment|treatment|    O|  train|\n",
            "|She states this l...|           16|           82|          31|          92|    light-headedness|         diaphoresis|  problem|  problem|  PIP|  train|\n",
            "|Initial electroca...|          196|          145|         239|         176|an inferior and r...|1-mm st depressio...|  problem|  problem|  PIP|   test|\n",
            "|Abdominal ultraso...|            1|           54|          20|          71|abdominal ultrasound|  gallbladder sludge|     test|  problem| TeRP|   test|\n",
            "|At that time he w...|           99|          139|         133|         173|ir placement of a...|his abdominopelvi...|treatment|  problem| TrAP|   test|\n",
            "|He was transferre...|          143|          195|         154|         213|        reintubation| worsening pneumonia|treatment|  problem| TrAP|   test|\n",
            "|5) Anemia - previ...|           12|           35|          23|          47|        previous w/u|       elev ferritin|     test|  problem| TeRP|   test|\n",
            "|The patient &apos...|          161|          149|         179|         156| po pain medications|            his pain|treatment|  problem| TrAP|  train|\n",
            "+--------------------+-------------+-------------+------------+------------+--------------------+--------------------+---------+---------+-----+-------+\n",
            "only showing top 10 rows\n",
            "\n"
          ]
        }
      ],
      "source": [
        "data = spark.read.option(\"header\",\"true\").format(\"csv\").load(\"i2b2_clinical_rel_dataset.csv\")\n",
        "\n",
        "data = data.select( 'sentence','firstCharEnt1','firstCharEnt2','lastCharEnt1','lastCharEnt2', \"chunk1\", \"chunk2\", \"label1\", \"label2\",'rel','dataset')\n",
        "\n",
        "data.show(10)\n",
        "\n",
        "# you only need these columns>> 'sentence','firstCharEnt1','firstCharEnt2','lastCharEnt1','lastCharEnt2', \"chunk1\", \"chunk2\", \"label1\", \"label2\",'rel'\n",
        "# ('dataset' column is optional)"
      ]
    },
    {
      "cell_type": "code",
      "execution_count": 6,
      "metadata": {
        "colab": {
          "base_uri": "https://localhost:8080/"
        },
        "id": "OarAr_EryZDe",
        "outputId": "3220fe08-b5fe-4761-a2d7-bbb16f7e8b11"
      },
      "outputs": [
        {
          "output_type": "stream",
          "name": "stdout",
          "text": [
            "+-------+-----+\n",
            "|dataset|count|\n",
            "+-------+-----+\n",
            "|  train|  350|\n",
            "|   test|  650|\n",
            "+-------+-----+\n",
            "\n"
          ]
        }
      ],
      "source": [
        "data.groupby('dataset').count().show()"
      ]
    },
    {
      "cell_type": "code",
      "execution_count": 7,
      "metadata": {
        "colab": {
          "base_uri": "https://localhost:8080/"
        },
        "id": "jpxiJ2LZDhQv",
        "outputId": "ab2687f5-e154-4e5c-c44c-1ccdcc376cf6"
      },
      "outputs": [
        {
          "output_type": "stream",
          "name": "stdout",
          "text": [
            "+-----+-----+\n",
            "|  rel|count|\n",
            "+-----+-----+\n",
            "| TrIP|   14|\n",
            "| TrAP|  164|\n",
            "| TeCP|   26|\n",
            "|    O|  414|\n",
            "|TrNAP|   14|\n",
            "| TrCP|   28|\n",
            "|  PIP|  153|\n",
            "| TrWP|   11|\n",
            "| TeRP|  176|\n",
            "+-----+-----+\n",
            "\n"
          ]
        }
      ],
      "source": [
        "data.groupby('rel').count().show()"
      ]
    },
    {
      "cell_type": "code",
      "execution_count": 8,
      "metadata": {
        "id": "ftTRwQg1Mc1U"
      },
      "outputs": [],
      "source": [
        "from sparknlp_jsl.training import REDatasetHelper\n",
        "\n",
        "# map entity columns to dataset columns\n",
        "column_map = {\n",
        "    \"begin1\": \"firstCharEnt1\",\n",
        "    \"end1\": \"lastCharEnt1\",\n",
        "    \"begin2\": \"firstCharEnt2\",\n",
        "    \"end2\": \"lastCharEnt2\",\n",
        "    \"chunk1\": \"chunk1\",\n",
        "    \"chunk2\": \"chunk2\",\n",
        "    \"label1\": \"label1\",\n",
        "    \"label2\": \"label2\"\n",
        "}\n",
        "\n",
        "# apply preprocess function to dataframe\n",
        "data = REDatasetHelper(data).create_annotation_column(\n",
        "    column_map,\n",
        "    ner_column_name=\"train_ner_chunks\" # optional, default train_ner_chunks\n",
        ")"
      ]
    },
    {
      "cell_type": "code",
      "execution_count": 9,
      "metadata": {
        "id": "8YaD4vdTMo2l"
      },
      "outputs": [],
      "source": [
        "# add relation direction\n",
        "\n",
        "@F.udf(T.StringType())\n",
        "def encodeRelationDirection(rel, begin1, begin2):\n",
        "    if rel != \"O\":\n",
        "        if begin1 > begin2:\n",
        "            return \"leftwards\"\n",
        "        else:\n",
        "            return \"rightwards\"\n",
        "    else:\n",
        "        return \"both\"\n",
        "\n",
        "\n",
        "\n",
        "data = data.withColumn(\"rel_dir\", encodeRelationDirection(\"rel\", \"firstCharEnt1\", \"lastCharEnt2\"))\n",
        "\n",
        "train_data = data.where(\"dataset='train'\")\n",
        "test_data = data.where(\"dataset='test'\")"
      ]
    },
    {
      "cell_type": "markdown",
      "metadata": {
        "id": "AaTp5atqc_C-"
      },
      "source": [
        "## Split the test data into two parts:\n",
        "- We keep the first part separate and use it for training the model further, as it will be totally unseen data from the same taxonomy.\n",
        "\n",
        "- The second part will be used to testing and evaluating"
      ]
    },
    {
      "cell_type": "code",
      "execution_count": 10,
      "metadata": {
        "id": "D_gInTNZRhnC"
      },
      "outputs": [],
      "source": [
        "(test_data_1, test_data_2) = test_data.randomSplit([0.5, 0.5], seed = 100)"
      ]
    },
    {
      "cell_type": "markdown",
      "metadata": {
        "id": "WX2jO2FPRo6Q"
      },
      "source": [
        "## Train a new model, pause, and resume training on the same dataset."
      ]
    },
    {
      "cell_type": "markdown",
      "metadata": {
        "id": "d0cfKTrcI37q"
      },
      "source": [
        "### Create graph\n",
        "\n",
        "We will use `TFGraphBuilder` annotator which can be used to create graphs automatically in the model training pipeline.\n",
        "\n",
        "`TFGraphBuilder` inspects the data and creates the proper graph if a suitable version of TensorFlow is available. The graph is stored in the defined folder and loaded by the approach.\n",
        "\n",
        "You can also create a custom graph by using `tf_graph` module in Spark NLP for Healthcare."
      ]
    },
    {
      "cell_type": "code",
      "source": [
        "!pip install -q git+https://github.com/tensorflow/addons.git"
      ],
      "metadata": {
        "id": "1A6LCPMLxUPU"
      },
      "execution_count": null,
      "outputs": []
    },
    {
      "cell_type": "code",
      "execution_count": 12,
      "metadata": {
        "id": "qDYA5aEnfLtz"
      },
      "outputs": [],
      "source": [
        "from sparknlp_jsl.annotator import TFGraphBuilder\n",
        "\n",
        "graph_folder= \"./tf_graphs\"\n",
        "\n",
        "re_graph_builder = TFGraphBuilder()\\\n",
        "    .setModelName(\"relation_extraction\")\\\n",
        "    .setInputCols([\"embeddings\", \"pos_tags\", \"train_ner_chunks\", \"dependencies\"]) \\\n",
        "    .setLabelColumn(\"rel\")\\\n",
        "    .setGraphFolder(graph_folder)\\\n",
        "    .setGraphFile(\"re_graph.pb\")\\\n",
        "    .setHiddenLayers([300, 200])\\\n",
        "    .setHiddenAct(\"relu\")\\\n",
        "    .setHiddenActL2(True)\\\n",
        "    .setHiddenWeightsL2(False)\\\n",
        "    .setBatchNorm(False)"
      ]
    },
    {
      "cell_type": "markdown",
      "metadata": {
        "id": "u_T4EGRzqKp7"
      },
      "source": [
        "### Train for 100 epochs"
      ]
    },
    {
      "cell_type": "code",
      "execution_count": 13,
      "metadata": {
        "colab": {
          "base_uri": "https://localhost:8080/"
        },
        "id": "9bv8j-tgEMsX",
        "outputId": "26573f52-a7f4-4f66-d97e-0a001e2dc8e7"
      },
      "outputs": [
        {
          "output_type": "stream",
          "name": "stdout",
          "text": [
            "embeddings_clinical download started this may take some time.\n",
            "Approximate size to download 1.6 GB\n",
            "[OK!]\n",
            "pos_clinical download started this may take some time.\n",
            "Approximate size to download 1.5 MB\n",
            "[OK!]\n",
            "dependency_conllu download started this may take some time.\n",
            "Approximate size to download 16.7 MB\n",
            "[OK!]\n"
          ]
        }
      ],
      "source": [
        "documenter = DocumentAssembler()\\\n",
        "    .setInputCol(\"sentence\")\\\n",
        "    .setOutputCol(\"sentences\")\n",
        "\n",
        "tokenizer = Tokenizer()\\\n",
        "    .setInputCols([\"sentences\"])\\\n",
        "    .setOutputCol(\"tokens\")\\\n",
        "\n",
        "words_embedder = WordEmbeddingsModel()\\\n",
        "    .pretrained(\"embeddings_clinical\", \"en\", \"clinical/models\")\\\n",
        "    .setInputCols([\"sentences\", \"tokens\"])\\\n",
        "    .setOutputCol(\"embeddings\")\n",
        "\n",
        "pos_tagger = PerceptronModel()\\\n",
        "    .pretrained(\"pos_clinical\", \"en\", \"clinical/models\") \\\n",
        "    .setInputCols([\"sentences\", \"tokens\"])\\\n",
        "    .setOutputCol(\"pos_tags\")\n",
        "\n",
        "dependency_parser = DependencyParserModel()\\\n",
        "    .pretrained(\"dependency_conllu\", \"en\")\\\n",
        "    .setInputCols([\"sentences\", \"pos_tags\", \"tokens\"])\\\n",
        "    .setOutputCol(\"dependencies\")\n",
        "\n",
        "reApproach = RelationExtractionApproach()\\\n",
        "    .setInputCols([\"embeddings\", \"pos_tags\", \"train_ner_chunks\", \"dependencies\"])\\\n",
        "    .setOutputCol(\"relations\")\\\n",
        "    .setLabelColumn(\"rel\")\\\n",
        "    .setEpochsNumber(100)\\\n",
        "    .setBatchSize(200)\\\n",
        "    .setDropout(0.5)\\\n",
        "    .setLearningRate(0.005)\\\n",
        "    .setModelFile(f\"{graph_folder}/re_graph.pb\")\\\n",
        "    .setFixImbalance(True)\\\n",
        "    .setFromEntity(\"firstCharEnt1\", \"lastCharEnt1\", \"label1\")\\\n",
        "    .setToEntity(\"firstCharEnt2\", \"lastCharEnt2\", \"label2\")\\\n",
        "    .setOutputLogsPath('/content')\\\n",
        "    .setRelationDirectionCol(\"rel_dir\")\\\n",
        "    .setMaxSyntacticDistance(10)\n",
        "\n",
        "finisher = Finisher()\\\n",
        "    .setInputCols([\"relations\"])\\\n",
        "    .setOutputCols([\"relations_out\"])\\\n",
        "    .setCleanAnnotations(False)\\\n",
        "    .setValueSplitSymbol(\",\")\\\n",
        "    .setAnnotationSplitSymbol(\",\")\\\n",
        "    .setOutputAsArray(False)\n",
        "\n",
        "train_pipeline = Pipeline(stages=[\n",
        "    documenter,\n",
        "    tokenizer,\n",
        "    words_embedder,\n",
        "    pos_tagger,\n",
        "    dependency_parser,\n",
        "    re_graph_builder,\n",
        "    reApproach,\n",
        "    finisher\n",
        "])"
      ]
    },
    {
      "cell_type": "code",
      "execution_count": 14,
      "metadata": {
        "colab": {
          "base_uri": "https://localhost:8080/"
        },
        "id": "xxPmTN5KEXwq",
        "outputId": "91c949c6-cb4e-4a39-a375-7d70e5dc34f8"
      },
      "outputs": [
        {
          "output_type": "stream",
          "name": "stdout",
          "text": [
            "TF Graph Builder configuration:\n",
            "Model name: relation_extraction\n",
            "Graph folder: ./tf_graphs\n",
            "Graph file name: re_graph.pb\n",
            "Build params: {'input_dim': 1149, 'output_dim': 27, 'hidden_layers': [300, 200], 'hidden_act': 'relu', 'hidden_act_l2': True, 'hidden_weights_l2': False, 'batch_norm': False}\n",
            "relation_extraction graph exported to ./tf_graphs/re_graph.pb\n",
            "CPU times: user 5.63 s, sys: 1.42 s, total: 7.04 s\n",
            "Wall time: 24.8 s\n"
          ]
        }
      ],
      "source": [
        "%%time\n",
        "rel_model = train_pipeline.fit(train_data)"
      ]
    },
    {
      "cell_type": "code",
      "execution_count": 15,
      "metadata": {
        "id": "oIieSDdUgrZ1"
      },
      "outputs": [],
      "source": [
        "result_test = rel_model.transform(test_data_2)"
      ]
    },
    {
      "cell_type": "markdown",
      "metadata": {
        "id": "guC15OYd2Xqd"
      },
      "source": [
        "### Evaluate"
      ]
    },
    {
      "cell_type": "code",
      "execution_count": 16,
      "metadata": {
        "colab": {
          "base_uri": "https://localhost:8080/",
          "height": 207
        },
        "id": "e__MDBGl6i2l",
        "outputId": "50f8da5e-965d-4ebc-eb6c-4803db0ba9ca"
      },
      "outputs": [
        {
          "output_type": "execute_result",
          "data": {
            "text/plain": [
              "      rel  result\n",
              "210   PIP     [O]\n",
              "241     O     [O]\n",
              "100   PIP   [PIP]\n",
              "120  TrAP  [TrAP]\n",
              "278     O      []"
            ],
            "text/html": [
              "\n",
              "  <div id=\"df-7ad0b03b-bc5e-4c12-9176-f25c7a75ec31\" class=\"colab-df-container\">\n",
              "    <div>\n",
              "<style scoped>\n",
              "    .dataframe tbody tr th:only-of-type {\n",
              "        vertical-align: middle;\n",
              "    }\n",
              "\n",
              "    .dataframe tbody tr th {\n",
              "        vertical-align: top;\n",
              "    }\n",
              "\n",
              "    .dataframe thead th {\n",
              "        text-align: right;\n",
              "    }\n",
              "</style>\n",
              "<table border=\"1\" class=\"dataframe\">\n",
              "  <thead>\n",
              "    <tr style=\"text-align: right;\">\n",
              "      <th></th>\n",
              "      <th>rel</th>\n",
              "      <th>result</th>\n",
              "    </tr>\n",
              "  </thead>\n",
              "  <tbody>\n",
              "    <tr>\n",
              "      <th>210</th>\n",
              "      <td>PIP</td>\n",
              "      <td>[O]</td>\n",
              "    </tr>\n",
              "    <tr>\n",
              "      <th>241</th>\n",
              "      <td>O</td>\n",
              "      <td>[O]</td>\n",
              "    </tr>\n",
              "    <tr>\n",
              "      <th>100</th>\n",
              "      <td>PIP</td>\n",
              "      <td>[PIP]</td>\n",
              "    </tr>\n",
              "    <tr>\n",
              "      <th>120</th>\n",
              "      <td>TrAP</td>\n",
              "      <td>[TrAP]</td>\n",
              "    </tr>\n",
              "    <tr>\n",
              "      <th>278</th>\n",
              "      <td>O</td>\n",
              "      <td>[]</td>\n",
              "    </tr>\n",
              "  </tbody>\n",
              "</table>\n",
              "</div>\n",
              "    <div class=\"colab-df-buttons\">\n",
              "\n",
              "  <div class=\"colab-df-container\">\n",
              "    <button class=\"colab-df-convert\" onclick=\"convertToInteractive('df-7ad0b03b-bc5e-4c12-9176-f25c7a75ec31')\"\n",
              "            title=\"Convert this dataframe to an interactive table.\"\n",
              "            style=\"display:none;\">\n",
              "\n",
              "  <svg xmlns=\"http://www.w3.org/2000/svg\" height=\"24px\" viewBox=\"0 -960 960 960\">\n",
              "    <path d=\"M120-120v-720h720v720H120Zm60-500h600v-160H180v160Zm220 220h160v-160H400v160Zm0 220h160v-160H400v160ZM180-400h160v-160H180v160Zm440 0h160v-160H620v160ZM180-180h160v-160H180v160Zm440 0h160v-160H620v160Z\"/>\n",
              "  </svg>\n",
              "    </button>\n",
              "\n",
              "  <style>\n",
              "    .colab-df-container {\n",
              "      display:flex;\n",
              "      gap: 12px;\n",
              "    }\n",
              "\n",
              "    .colab-df-convert {\n",
              "      background-color: #E8F0FE;\n",
              "      border: none;\n",
              "      border-radius: 50%;\n",
              "      cursor: pointer;\n",
              "      display: none;\n",
              "      fill: #1967D2;\n",
              "      height: 32px;\n",
              "      padding: 0 0 0 0;\n",
              "      width: 32px;\n",
              "    }\n",
              "\n",
              "    .colab-df-convert:hover {\n",
              "      background-color: #E2EBFA;\n",
              "      box-shadow: 0px 1px 2px rgba(60, 64, 67, 0.3), 0px 1px 3px 1px rgba(60, 64, 67, 0.15);\n",
              "      fill: #174EA6;\n",
              "    }\n",
              "\n",
              "    .colab-df-buttons div {\n",
              "      margin-bottom: 4px;\n",
              "    }\n",
              "\n",
              "    [theme=dark] .colab-df-convert {\n",
              "      background-color: #3B4455;\n",
              "      fill: #D2E3FC;\n",
              "    }\n",
              "\n",
              "    [theme=dark] .colab-df-convert:hover {\n",
              "      background-color: #434B5C;\n",
              "      box-shadow: 0px 1px 3px 1px rgba(0, 0, 0, 0.15);\n",
              "      filter: drop-shadow(0px 1px 2px rgba(0, 0, 0, 0.3));\n",
              "      fill: #FFFFFF;\n",
              "    }\n",
              "  </style>\n",
              "\n",
              "    <script>\n",
              "      const buttonEl =\n",
              "        document.querySelector('#df-7ad0b03b-bc5e-4c12-9176-f25c7a75ec31 button.colab-df-convert');\n",
              "      buttonEl.style.display =\n",
              "        google.colab.kernel.accessAllowed ? 'block' : 'none';\n",
              "\n",
              "      async function convertToInteractive(key) {\n",
              "        const element = document.querySelector('#df-7ad0b03b-bc5e-4c12-9176-f25c7a75ec31');\n",
              "        const dataTable =\n",
              "          await google.colab.kernel.invokeFunction('convertToInteractive',\n",
              "                                                    [key], {});\n",
              "        if (!dataTable) return;\n",
              "\n",
              "        const docLinkHtml = 'Like what you see? Visit the ' +\n",
              "          '<a target=\"_blank\" href=https://colab.research.google.com/notebooks/data_table.ipynb>data table notebook</a>'\n",
              "          + ' to learn more about interactive tables.';\n",
              "        element.innerHTML = '';\n",
              "        dataTable['output_type'] = 'display_data';\n",
              "        await google.colab.output.renderOutput(dataTable, element);\n",
              "        const docLink = document.createElement('div');\n",
              "        docLink.innerHTML = docLinkHtml;\n",
              "        element.appendChild(docLink);\n",
              "      }\n",
              "    </script>\n",
              "  </div>\n",
              "\n",
              "\n",
              "    <div id=\"df-335c0063-dd05-4cfa-b3e2-59ba01e59cee\">\n",
              "      <button class=\"colab-df-quickchart\" onclick=\"quickchart('df-335c0063-dd05-4cfa-b3e2-59ba01e59cee')\"\n",
              "                title=\"Suggest charts\"\n",
              "                style=\"display:none;\">\n",
              "\n",
              "<svg xmlns=\"http://www.w3.org/2000/svg\" height=\"24px\"viewBox=\"0 0 24 24\"\n",
              "     width=\"24px\">\n",
              "    <g>\n",
              "        <path d=\"M19 3H5c-1.1 0-2 .9-2 2v14c0 1.1.9 2 2 2h14c1.1 0 2-.9 2-2V5c0-1.1-.9-2-2-2zM9 17H7v-7h2v7zm4 0h-2V7h2v10zm4 0h-2v-4h2v4z\"/>\n",
              "    </g>\n",
              "</svg>\n",
              "      </button>\n",
              "\n",
              "<style>\n",
              "  .colab-df-quickchart {\n",
              "      --bg-color: #E8F0FE;\n",
              "      --fill-color: #1967D2;\n",
              "      --hover-bg-color: #E2EBFA;\n",
              "      --hover-fill-color: #174EA6;\n",
              "      --disabled-fill-color: #AAA;\n",
              "      --disabled-bg-color: #DDD;\n",
              "  }\n",
              "\n",
              "  [theme=dark] .colab-df-quickchart {\n",
              "      --bg-color: #3B4455;\n",
              "      --fill-color: #D2E3FC;\n",
              "      --hover-bg-color: #434B5C;\n",
              "      --hover-fill-color: #FFFFFF;\n",
              "      --disabled-bg-color: #3B4455;\n",
              "      --disabled-fill-color: #666;\n",
              "  }\n",
              "\n",
              "  .colab-df-quickchart {\n",
              "    background-color: var(--bg-color);\n",
              "    border: none;\n",
              "    border-radius: 50%;\n",
              "    cursor: pointer;\n",
              "    display: none;\n",
              "    fill: var(--fill-color);\n",
              "    height: 32px;\n",
              "    padding: 0;\n",
              "    width: 32px;\n",
              "  }\n",
              "\n",
              "  .colab-df-quickchart:hover {\n",
              "    background-color: var(--hover-bg-color);\n",
              "    box-shadow: 0 1px 2px rgba(60, 64, 67, 0.3), 0 1px 3px 1px rgba(60, 64, 67, 0.15);\n",
              "    fill: var(--button-hover-fill-color);\n",
              "  }\n",
              "\n",
              "  .colab-df-quickchart-complete:disabled,\n",
              "  .colab-df-quickchart-complete:disabled:hover {\n",
              "    background-color: var(--disabled-bg-color);\n",
              "    fill: var(--disabled-fill-color);\n",
              "    box-shadow: none;\n",
              "  }\n",
              "\n",
              "  .colab-df-spinner {\n",
              "    border: 2px solid var(--fill-color);\n",
              "    border-color: transparent;\n",
              "    border-bottom-color: var(--fill-color);\n",
              "    animation:\n",
              "      spin 1s steps(1) infinite;\n",
              "  }\n",
              "\n",
              "  @keyframes spin {\n",
              "    0% {\n",
              "      border-color: transparent;\n",
              "      border-bottom-color: var(--fill-color);\n",
              "      border-left-color: var(--fill-color);\n",
              "    }\n",
              "    20% {\n",
              "      border-color: transparent;\n",
              "      border-left-color: var(--fill-color);\n",
              "      border-top-color: var(--fill-color);\n",
              "    }\n",
              "    30% {\n",
              "      border-color: transparent;\n",
              "      border-left-color: var(--fill-color);\n",
              "      border-top-color: var(--fill-color);\n",
              "      border-right-color: var(--fill-color);\n",
              "    }\n",
              "    40% {\n",
              "      border-color: transparent;\n",
              "      border-right-color: var(--fill-color);\n",
              "      border-top-color: var(--fill-color);\n",
              "    }\n",
              "    60% {\n",
              "      border-color: transparent;\n",
              "      border-right-color: var(--fill-color);\n",
              "    }\n",
              "    80% {\n",
              "      border-color: transparent;\n",
              "      border-right-color: var(--fill-color);\n",
              "      border-bottom-color: var(--fill-color);\n",
              "    }\n",
              "    90% {\n",
              "      border-color: transparent;\n",
              "      border-bottom-color: var(--fill-color);\n",
              "    }\n",
              "  }\n",
              "</style>\n",
              "\n",
              "      <script>\n",
              "        async function quickchart(key) {\n",
              "          const quickchartButtonEl =\n",
              "            document.querySelector('#' + key + ' button');\n",
              "          quickchartButtonEl.disabled = true;  // To prevent multiple clicks.\n",
              "          quickchartButtonEl.classList.add('colab-df-spinner');\n",
              "          try {\n",
              "            const charts = await google.colab.kernel.invokeFunction(\n",
              "                'suggestCharts', [key], {});\n",
              "          } catch (error) {\n",
              "            console.error('Error during call to suggestCharts:', error);\n",
              "          }\n",
              "          quickchartButtonEl.classList.remove('colab-df-spinner');\n",
              "          quickchartButtonEl.classList.add('colab-df-quickchart-complete');\n",
              "        }\n",
              "        (() => {\n",
              "          let quickchartButtonEl =\n",
              "            document.querySelector('#df-335c0063-dd05-4cfa-b3e2-59ba01e59cee button');\n",
              "          quickchartButtonEl.style.display =\n",
              "            google.colab.kernel.accessAllowed ? 'block' : 'none';\n",
              "        })();\n",
              "      </script>\n",
              "    </div>\n",
              "\n",
              "    </div>\n",
              "  </div>\n"
            ],
            "application/vnd.google.colaboratory.intrinsic+json": {
              "type": "dataframe",
              "summary": "{\n  \"name\": \"result_test_df\",\n  \"rows\": 5,\n  \"fields\": [\n    {\n      \"column\": \"rel\",\n      \"properties\": {\n        \"dtype\": \"string\",\n        \"num_unique_values\": 3,\n        \"samples\": [\n          \"PIP\",\n          \"O\",\n          \"TrAP\"\n        ],\n        \"semantic_type\": \"\",\n        \"description\": \"\"\n      }\n    },\n    {\n      \"column\": \"result\",\n      \"properties\": {\n        \"dtype\": \"object\",\n        \"semantic_type\": \"\",\n        \"description\": \"\"\n      }\n    }\n  ]\n}"
            }
          },
          "metadata": {},
          "execution_count": 16
        }
      ],
      "source": [
        "result_test_df = result_test.select('rel', 'relations.result').toPandas()\n",
        "result_test_df.sample(5)"
      ]
    },
    {
      "cell_type": "code",
      "execution_count": 17,
      "metadata": {
        "colab": {
          "base_uri": "https://localhost:8080/"
        },
        "id": "CGkCf8Xn6s2A",
        "outputId": "ad360c7d-318f-4fd8-ac7c-0e528bccd20f"
      },
      "outputs": [
        {
          "output_type": "stream",
          "name": "stdout",
          "text": [
            "              precision    recall  f1-score   support\n",
            "\n",
            "           O       0.56      0.89      0.69       133\n",
            "         PIP       0.65      0.67      0.66        45\n",
            "        TeCP       0.00      0.00      0.00         4\n",
            "        TeRP       0.79      0.17      0.29        63\n",
            "        TrAP       0.68      0.53      0.60        47\n",
            "        TrCP       0.00      0.00      0.00         9\n",
            "        TrIP       0.00      0.00      0.00         6\n",
            "       TrNAP       0.00      0.00      0.00         4\n",
            "        TrWP       0.00      0.00      0.00         3\n",
            "\n",
            "    accuracy                           0.59       314\n",
            "   macro avg       0.30      0.25      0.25       314\n",
            "weighted avg       0.59      0.59      0.53       314\n",
            "\n"
          ]
        }
      ],
      "source": [
        "from sklearn.metrics import classification_report\n",
        "\n",
        "pd_test_results = result_test_df.explode(\"result\").fillna(\"O\")\n",
        "\n",
        "print(classification_report(pd_test_results[\"rel\"], pd_test_results[\"result\"]))"
      ]
    },
    {
      "cell_type": "markdown",
      "metadata": {
        "id": "O5zV8T9zs0HV"
      },
      "source": [
        "### Save to disk"
      ]
    },
    {
      "cell_type": "code",
      "execution_count": 18,
      "metadata": {
        "id": "_4R8lYb7s1HU"
      },
      "outputs": [],
      "source": [
        "rel_model.stages[-2].write().overwrite().save('RE_model_30e')"
      ]
    },
    {
      "cell_type": "markdown",
      "metadata": {
        "id": "y_U4mQcXUTg7"
      },
      "source": [
        "### Train using the saved model on unseen dataset\n",
        "\n",
        "We use unseen data from the same taxonomy"
      ]
    },
    {
      "cell_type": "code",
      "execution_count": 19,
      "metadata": {
        "id": "dgFviuf5SBei"
      },
      "outputs": [],
      "source": [
        "reApproach_finetune = RelationExtractionApproach()\\\n",
        "    .setInputCols([\"embeddings\", \"pos_tags\", \"train_ner_chunks\", \"dependencies\"])\\\n",
        "    .setOutputCol(\"relations\")\\\n",
        "    .setLabelColumn(\"rel\")\\\n",
        "    .setEpochsNumber(100)\\\n",
        "    .setBatchSize(200)\\\n",
        "    .setDropout(0.5)\\\n",
        "    .setLearningRate(0.005)\\\n",
        "    .setFixImbalance(True)\\\n",
        "    .setFromEntity(\"firstCharEnt1\", \"lastCharEnt1\", \"label1\")\\\n",
        "    .setToEntity(\"firstCharEnt2\", \"lastCharEnt2\", \"label2\")\\\n",
        "    .setRelationDirectionCol(\"rel_dir\")\\\n",
        "    .setPretrainedModelPath(\"RE_model_30e\")\\\n",
        "    .setОverrideExistingLabels(False)\n",
        "\n",
        "finetune_pipeline = Pipeline(stages=[\n",
        "    documenter,\n",
        "    tokenizer,\n",
        "    words_embedder,\n",
        "    pos_tagger,\n",
        "    dependency_parser,\n",
        "    re_graph_builder,\n",
        "    reApproach_finetune,\n",
        "    finisher\n",
        "])"
      ]
    },
    {
      "cell_type": "code",
      "execution_count": 20,
      "metadata": {
        "colab": {
          "base_uri": "https://localhost:8080/"
        },
        "id": "SXbPrzHFyih3",
        "outputId": "d027aeb8-3a1e-4663-8dac-56da5000c275"
      },
      "outputs": [
        {
          "output_type": "stream",
          "name": "stdout",
          "text": [
            "TF Graph Builder configuration:\n",
            "Model name: relation_extraction\n",
            "Graph folder: ./tf_graphs\n",
            "Graph file name: re_graph.pb\n",
            "Build params: {'input_dim': 1149, 'output_dim': 27, 'hidden_layers': [300, 200], 'hidden_act': 'relu', 'hidden_act_l2': True, 'hidden_weights_l2': False, 'batch_norm': False}\n",
            "relation_extraction graph exported to ./tf_graphs/re_graph.pb\n",
            "CPU times: user 524 ms, sys: 33.2 ms, total: 557 ms\n",
            "Wall time: 7.39 s\n"
          ]
        }
      ],
      "source": [
        "%%time\n",
        "rel_model = finetune_pipeline.fit(test_data_1)"
      ]
    },
    {
      "cell_type": "code",
      "execution_count": 21,
      "metadata": {
        "id": "NK18o6fmyiiU"
      },
      "outputs": [],
      "source": [
        "result = rel_model.transform(test_data_2)"
      ]
    },
    {
      "cell_type": "markdown",
      "metadata": {
        "id": "GNduihulyiiV"
      },
      "source": [
        "### Evaluate"
      ]
    },
    {
      "cell_type": "code",
      "execution_count": 22,
      "metadata": {
        "colab": {
          "base_uri": "https://localhost:8080/",
          "height": 207
        },
        "id": "AwKoVX7s8678",
        "outputId": "87588536-beb2-44f3-c41d-351489de7de6"
      },
      "outputs": [
        {
          "output_type": "execute_result",
          "data": {
            "text/plain": [
              "      rel result\n",
              "104   PIP    [O]\n",
              "291     O    [O]\n",
              "288     O    [O]\n",
              "258     O    [O]\n",
              "144  TrAP     []"
            ],
            "text/html": [
              "\n",
              "  <div id=\"df-7d25ad3c-93ad-4482-9806-fa981dc40e2f\" class=\"colab-df-container\">\n",
              "    <div>\n",
              "<style scoped>\n",
              "    .dataframe tbody tr th:only-of-type {\n",
              "        vertical-align: middle;\n",
              "    }\n",
              "\n",
              "    .dataframe tbody tr th {\n",
              "        vertical-align: top;\n",
              "    }\n",
              "\n",
              "    .dataframe thead th {\n",
              "        text-align: right;\n",
              "    }\n",
              "</style>\n",
              "<table border=\"1\" class=\"dataframe\">\n",
              "  <thead>\n",
              "    <tr style=\"text-align: right;\">\n",
              "      <th></th>\n",
              "      <th>rel</th>\n",
              "      <th>result</th>\n",
              "    </tr>\n",
              "  </thead>\n",
              "  <tbody>\n",
              "    <tr>\n",
              "      <th>104</th>\n",
              "      <td>PIP</td>\n",
              "      <td>[O]</td>\n",
              "    </tr>\n",
              "    <tr>\n",
              "      <th>291</th>\n",
              "      <td>O</td>\n",
              "      <td>[O]</td>\n",
              "    </tr>\n",
              "    <tr>\n",
              "      <th>288</th>\n",
              "      <td>O</td>\n",
              "      <td>[O]</td>\n",
              "    </tr>\n",
              "    <tr>\n",
              "      <th>258</th>\n",
              "      <td>O</td>\n",
              "      <td>[O]</td>\n",
              "    </tr>\n",
              "    <tr>\n",
              "      <th>144</th>\n",
              "      <td>TrAP</td>\n",
              "      <td>[]</td>\n",
              "    </tr>\n",
              "  </tbody>\n",
              "</table>\n",
              "</div>\n",
              "    <div class=\"colab-df-buttons\">\n",
              "\n",
              "  <div class=\"colab-df-container\">\n",
              "    <button class=\"colab-df-convert\" onclick=\"convertToInteractive('df-7d25ad3c-93ad-4482-9806-fa981dc40e2f')\"\n",
              "            title=\"Convert this dataframe to an interactive table.\"\n",
              "            style=\"display:none;\">\n",
              "\n",
              "  <svg xmlns=\"http://www.w3.org/2000/svg\" height=\"24px\" viewBox=\"0 -960 960 960\">\n",
              "    <path d=\"M120-120v-720h720v720H120Zm60-500h600v-160H180v160Zm220 220h160v-160H400v160Zm0 220h160v-160H400v160ZM180-400h160v-160H180v160Zm440 0h160v-160H620v160ZM180-180h160v-160H180v160Zm440 0h160v-160H620v160Z\"/>\n",
              "  </svg>\n",
              "    </button>\n",
              "\n",
              "  <style>\n",
              "    .colab-df-container {\n",
              "      display:flex;\n",
              "      gap: 12px;\n",
              "    }\n",
              "\n",
              "    .colab-df-convert {\n",
              "      background-color: #E8F0FE;\n",
              "      border: none;\n",
              "      border-radius: 50%;\n",
              "      cursor: pointer;\n",
              "      display: none;\n",
              "      fill: #1967D2;\n",
              "      height: 32px;\n",
              "      padding: 0 0 0 0;\n",
              "      width: 32px;\n",
              "    }\n",
              "\n",
              "    .colab-df-convert:hover {\n",
              "      background-color: #E2EBFA;\n",
              "      box-shadow: 0px 1px 2px rgba(60, 64, 67, 0.3), 0px 1px 3px 1px rgba(60, 64, 67, 0.15);\n",
              "      fill: #174EA6;\n",
              "    }\n",
              "\n",
              "    .colab-df-buttons div {\n",
              "      margin-bottom: 4px;\n",
              "    }\n",
              "\n",
              "    [theme=dark] .colab-df-convert {\n",
              "      background-color: #3B4455;\n",
              "      fill: #D2E3FC;\n",
              "    }\n",
              "\n",
              "    [theme=dark] .colab-df-convert:hover {\n",
              "      background-color: #434B5C;\n",
              "      box-shadow: 0px 1px 3px 1px rgba(0, 0, 0, 0.15);\n",
              "      filter: drop-shadow(0px 1px 2px rgba(0, 0, 0, 0.3));\n",
              "      fill: #FFFFFF;\n",
              "    }\n",
              "  </style>\n",
              "\n",
              "    <script>\n",
              "      const buttonEl =\n",
              "        document.querySelector('#df-7d25ad3c-93ad-4482-9806-fa981dc40e2f button.colab-df-convert');\n",
              "      buttonEl.style.display =\n",
              "        google.colab.kernel.accessAllowed ? 'block' : 'none';\n",
              "\n",
              "      async function convertToInteractive(key) {\n",
              "        const element = document.querySelector('#df-7d25ad3c-93ad-4482-9806-fa981dc40e2f');\n",
              "        const dataTable =\n",
              "          await google.colab.kernel.invokeFunction('convertToInteractive',\n",
              "                                                    [key], {});\n",
              "        if (!dataTable) return;\n",
              "\n",
              "        const docLinkHtml = 'Like what you see? Visit the ' +\n",
              "          '<a target=\"_blank\" href=https://colab.research.google.com/notebooks/data_table.ipynb>data table notebook</a>'\n",
              "          + ' to learn more about interactive tables.';\n",
              "        element.innerHTML = '';\n",
              "        dataTable['output_type'] = 'display_data';\n",
              "        await google.colab.output.renderOutput(dataTable, element);\n",
              "        const docLink = document.createElement('div');\n",
              "        docLink.innerHTML = docLinkHtml;\n",
              "        element.appendChild(docLink);\n",
              "      }\n",
              "    </script>\n",
              "  </div>\n",
              "\n",
              "\n",
              "    <div id=\"df-740d0c10-3d7c-4aa7-865b-109db662f135\">\n",
              "      <button class=\"colab-df-quickchart\" onclick=\"quickchart('df-740d0c10-3d7c-4aa7-865b-109db662f135')\"\n",
              "                title=\"Suggest charts\"\n",
              "                style=\"display:none;\">\n",
              "\n",
              "<svg xmlns=\"http://www.w3.org/2000/svg\" height=\"24px\"viewBox=\"0 0 24 24\"\n",
              "     width=\"24px\">\n",
              "    <g>\n",
              "        <path d=\"M19 3H5c-1.1 0-2 .9-2 2v14c0 1.1.9 2 2 2h14c1.1 0 2-.9 2-2V5c0-1.1-.9-2-2-2zM9 17H7v-7h2v7zm4 0h-2V7h2v10zm4 0h-2v-4h2v4z\"/>\n",
              "    </g>\n",
              "</svg>\n",
              "      </button>\n",
              "\n",
              "<style>\n",
              "  .colab-df-quickchart {\n",
              "      --bg-color: #E8F0FE;\n",
              "      --fill-color: #1967D2;\n",
              "      --hover-bg-color: #E2EBFA;\n",
              "      --hover-fill-color: #174EA6;\n",
              "      --disabled-fill-color: #AAA;\n",
              "      --disabled-bg-color: #DDD;\n",
              "  }\n",
              "\n",
              "  [theme=dark] .colab-df-quickchart {\n",
              "      --bg-color: #3B4455;\n",
              "      --fill-color: #D2E3FC;\n",
              "      --hover-bg-color: #434B5C;\n",
              "      --hover-fill-color: #FFFFFF;\n",
              "      --disabled-bg-color: #3B4455;\n",
              "      --disabled-fill-color: #666;\n",
              "  }\n",
              "\n",
              "  .colab-df-quickchart {\n",
              "    background-color: var(--bg-color);\n",
              "    border: none;\n",
              "    border-radius: 50%;\n",
              "    cursor: pointer;\n",
              "    display: none;\n",
              "    fill: var(--fill-color);\n",
              "    height: 32px;\n",
              "    padding: 0;\n",
              "    width: 32px;\n",
              "  }\n",
              "\n",
              "  .colab-df-quickchart:hover {\n",
              "    background-color: var(--hover-bg-color);\n",
              "    box-shadow: 0 1px 2px rgba(60, 64, 67, 0.3), 0 1px 3px 1px rgba(60, 64, 67, 0.15);\n",
              "    fill: var(--button-hover-fill-color);\n",
              "  }\n",
              "\n",
              "  .colab-df-quickchart-complete:disabled,\n",
              "  .colab-df-quickchart-complete:disabled:hover {\n",
              "    background-color: var(--disabled-bg-color);\n",
              "    fill: var(--disabled-fill-color);\n",
              "    box-shadow: none;\n",
              "  }\n",
              "\n",
              "  .colab-df-spinner {\n",
              "    border: 2px solid var(--fill-color);\n",
              "    border-color: transparent;\n",
              "    border-bottom-color: var(--fill-color);\n",
              "    animation:\n",
              "      spin 1s steps(1) infinite;\n",
              "  }\n",
              "\n",
              "  @keyframes spin {\n",
              "    0% {\n",
              "      border-color: transparent;\n",
              "      border-bottom-color: var(--fill-color);\n",
              "      border-left-color: var(--fill-color);\n",
              "    }\n",
              "    20% {\n",
              "      border-color: transparent;\n",
              "      border-left-color: var(--fill-color);\n",
              "      border-top-color: var(--fill-color);\n",
              "    }\n",
              "    30% {\n",
              "      border-color: transparent;\n",
              "      border-left-color: var(--fill-color);\n",
              "      border-top-color: var(--fill-color);\n",
              "      border-right-color: var(--fill-color);\n",
              "    }\n",
              "    40% {\n",
              "      border-color: transparent;\n",
              "      border-right-color: var(--fill-color);\n",
              "      border-top-color: var(--fill-color);\n",
              "    }\n",
              "    60% {\n",
              "      border-color: transparent;\n",
              "      border-right-color: var(--fill-color);\n",
              "    }\n",
              "    80% {\n",
              "      border-color: transparent;\n",
              "      border-right-color: var(--fill-color);\n",
              "      border-bottom-color: var(--fill-color);\n",
              "    }\n",
              "    90% {\n",
              "      border-color: transparent;\n",
              "      border-bottom-color: var(--fill-color);\n",
              "    }\n",
              "  }\n",
              "</style>\n",
              "\n",
              "      <script>\n",
              "        async function quickchart(key) {\n",
              "          const quickchartButtonEl =\n",
              "            document.querySelector('#' + key + ' button');\n",
              "          quickchartButtonEl.disabled = true;  // To prevent multiple clicks.\n",
              "          quickchartButtonEl.classList.add('colab-df-spinner');\n",
              "          try {\n",
              "            const charts = await google.colab.kernel.invokeFunction(\n",
              "                'suggestCharts', [key], {});\n",
              "          } catch (error) {\n",
              "            console.error('Error during call to suggestCharts:', error);\n",
              "          }\n",
              "          quickchartButtonEl.classList.remove('colab-df-spinner');\n",
              "          quickchartButtonEl.classList.add('colab-df-quickchart-complete');\n",
              "        }\n",
              "        (() => {\n",
              "          let quickchartButtonEl =\n",
              "            document.querySelector('#df-740d0c10-3d7c-4aa7-865b-109db662f135 button');\n",
              "          quickchartButtonEl.style.display =\n",
              "            google.colab.kernel.accessAllowed ? 'block' : 'none';\n",
              "        })();\n",
              "      </script>\n",
              "    </div>\n",
              "\n",
              "    </div>\n",
              "  </div>\n"
            ],
            "application/vnd.google.colaboratory.intrinsic+json": {
              "type": "dataframe",
              "summary": "{\n  \"name\": \"result_test_df\",\n  \"rows\": 5,\n  \"fields\": [\n    {\n      \"column\": \"rel\",\n      \"properties\": {\n        \"dtype\": \"string\",\n        \"num_unique_values\": 3,\n        \"samples\": [\n          \"PIP\",\n          \"O\",\n          \"TrAP\"\n        ],\n        \"semantic_type\": \"\",\n        \"description\": \"\"\n      }\n    },\n    {\n      \"column\": \"result\",\n      \"properties\": {\n        \"dtype\": \"object\",\n        \"semantic_type\": \"\",\n        \"description\": \"\"\n      }\n    }\n  ]\n}"
            }
          },
          "metadata": {},
          "execution_count": 22
        }
      ],
      "source": [
        "result_test_df = result.select('rel', 'relations.result').toPandas()\n",
        "result_test_df.sample(5)"
      ]
    },
    {
      "cell_type": "code",
      "execution_count": 23,
      "metadata": {
        "colab": {
          "base_uri": "https://localhost:8080/"
        },
        "id": "WY4onNom9BGQ",
        "outputId": "4122ae53-5645-4c1c-f214-3db064e4158a"
      },
      "outputs": [
        {
          "output_type": "stream",
          "name": "stdout",
          "text": [
            "              precision    recall  f1-score   support\n",
            "\n",
            "           O       0.76      0.83      0.80       133\n",
            "         PIP       0.65      0.67      0.66        45\n",
            "        TeCP       0.00      0.00      0.00         4\n",
            "        TeRP       0.78      0.75      0.76        63\n",
            "        TrAP       0.77      0.77      0.77        47\n",
            "        TrCP       0.50      0.11      0.18         9\n",
            "        TrIP       0.33      0.33      0.33         6\n",
            "       TrNAP       0.33      0.25      0.29         4\n",
            "        TrWP       0.00      0.00      0.00         3\n",
            "\n",
            "    accuracy                           0.73       314\n",
            "   macro avg       0.46      0.41      0.42       314\n",
            "weighted avg       0.71      0.73      0.71       314\n",
            "\n"
          ]
        }
      ],
      "source": [
        "from sklearn.metrics import classification_report\n",
        "\n",
        "pd_test_results = result_test_df.explode(\"result\").fillna(\"O\")\n",
        "\n",
        "print(classification_report(pd_test_results[\"rel\"], pd_test_results[\"result\"]))"
      ]
    },
    {
      "cell_type": "markdown",
      "metadata": {
        "id": "G-YUHOvGyiiY"
      },
      "source": [
        "### Save to disk"
      ]
    },
    {
      "cell_type": "code",
      "execution_count": 24,
      "metadata": {
        "id": "Fsxtd5ciyiiY"
      },
      "outputs": [],
      "source": [
        "rel_model.stages[-2].write().overwrite().save('RE_model_finetuned')"
      ]
    },
    {
      "cell_type": "markdown",
      "metadata": {
        "id": "rw0jTK2RbMAi"
      },
      "source": [
        "## Now let's take a model trained on a different dataset (pretrained pipeline) and train on this dataset"
      ]
    },
    {
      "cell_type": "code",
      "execution_count": 25,
      "metadata": {
        "colab": {
          "base_uri": "https://localhost:8080/"
        },
        "id": "8WOaJeOy0RlE",
        "outputId": "86a78a03-05dc-47ac-eddf-91b5383a0147"
      },
      "outputs": [
        {
          "output_type": "stream",
          "name": "stdout",
          "text": [
            "re_clinical download started this may take some time.\n",
            "Approximate size to download 6 MB\n",
            "[OK!]\n"
          ]
        },
        {
          "output_type": "execute_result",
          "data": {
            "text/plain": [
              "['TrWP', 'TrNAP', 'TrCP', 'PIP', 'TeCP', 'TeRP', 'TrIP', 'TrAP', 'O']"
            ]
          },
          "metadata": {},
          "execution_count": 25
        }
      ],
      "source": [
        "clinical_re_Model = RelationExtractionModel()\\\n",
        "    .pretrained(\"re_clinical\", \"en\", 'clinical/models')\\\n",
        "    .setInputCols([\"embeddings\", \"pos_tags\", \"ner_chunks\", \"dependencies\"])\\\n",
        "    .setOutputCol(\"relations\")\n",
        "\n",
        "clinical_re_Model.getClasses()"
      ]
    },
    {
      "cell_type": "markdown",
      "metadata": {
        "id": "EL0NQ88ofMur"
      },
      "source": [
        "### Now train a model using this model as base"
      ]
    },
    {
      "cell_type": "code",
      "execution_count": 26,
      "metadata": {
        "id": "f-zM49XJbb2j"
      },
      "outputs": [],
      "source": [
        "reApproach_finetune = RelationExtractionApproach()\\\n",
        "    .setInputCols([\"embeddings\", \"pos_tags\", \"train_ner_chunks\", \"dependencies\"])\\\n",
        "    .setOutputCol(\"relations\")\\\n",
        "    .setLabelColumn(\"rel\")\\\n",
        "    .setEpochsNumber(200)\\\n",
        "    .setBatchSize(200)\\\n",
        "    .setDropout(0.5)\\\n",
        "    .setLearningRate(0.001)\\\n",
        "    .setFixImbalance(True)\\\n",
        "    .setFromEntity(\"firstCharEnt1\", \"lastCharEnt1\", \"label1\")\\\n",
        "    .setToEntity(\"firstCharEnt2\", \"lastCharEnt2\", \"label2\")\\\n",
        "    .setPretrainedModelPath(\"/root/cache_pretrained/re_clinical_en_2.5.5_2.4_1596928426753\")\\\n",
        "    .setОverrideExistingLabels(False)\n",
        "\n",
        "finetune_pipeline = Pipeline(stages=[\n",
        "    documenter,\n",
        "    tokenizer,\n",
        "    words_embedder,\n",
        "    pos_tagger,\n",
        "    dependency_parser,\n",
        "    re_graph_builder,\n",
        "    reApproach_finetune,\n",
        "    finisher\n",
        "])"
      ]
    },
    {
      "cell_type": "code",
      "execution_count": 27,
      "metadata": {
        "colab": {
          "base_uri": "https://localhost:8080/"
        },
        "id": "BmneS8z-1423",
        "outputId": "b41a6a9c-b068-41a9-e394-6636ebcba276"
      },
      "outputs": [
        {
          "output_type": "stream",
          "name": "stdout",
          "text": [
            "TF Graph Builder configuration:\n",
            "Model name: relation_extraction\n",
            "Graph folder: ./tf_graphs\n",
            "Graph file name: re_graph.pb\n",
            "Build params: {'input_dim': 1149, 'output_dim': 27, 'hidden_layers': [300, 200], 'hidden_act': 'relu', 'hidden_act_l2': True, 'hidden_weights_l2': False, 'batch_norm': False}\n",
            "relation_extraction graph exported to ./tf_graphs/re_graph.pb\n",
            "CPU times: user 531 ms, sys: 44.8 ms, total: 576 ms\n",
            "Wall time: 6.43 s\n"
          ]
        }
      ],
      "source": [
        "%%time\n",
        "rel_model = finetune_pipeline.fit(train_data)"
      ]
    },
    {
      "cell_type": "code",
      "execution_count": 28,
      "metadata": {
        "id": "R0CCBm8U142-"
      },
      "outputs": [],
      "source": [
        "result = rel_model.transform(test_data_2)"
      ]
    },
    {
      "cell_type": "markdown",
      "metadata": {
        "id": "J-kMkP8D142-"
      },
      "source": [
        "### Evaluate"
      ]
    },
    {
      "cell_type": "code",
      "execution_count": 29,
      "metadata": {
        "colab": {
          "base_uri": "https://localhost:8080/",
          "height": 207
        },
        "id": "9J4Fren49Ymz",
        "outputId": "b9b36b9c-51b7-4895-f218-29aecc6a4d59"
      },
      "outputs": [
        {
          "output_type": "execute_result",
          "data": {
            "text/plain": [
              "      rel   result\n",
              "279     O      [O]\n",
              "214     O  [TrNAP]\n",
              "54   TrAP   [TrAP]\n",
              "202  TrAP      [O]\n",
              "131  TrAP   [TrCP]"
            ],
            "text/html": [
              "\n",
              "  <div id=\"df-8d4f274b-0df8-4c7d-b744-44e28ae88e72\" class=\"colab-df-container\">\n",
              "    <div>\n",
              "<style scoped>\n",
              "    .dataframe tbody tr th:only-of-type {\n",
              "        vertical-align: middle;\n",
              "    }\n",
              "\n",
              "    .dataframe tbody tr th {\n",
              "        vertical-align: top;\n",
              "    }\n",
              "\n",
              "    .dataframe thead th {\n",
              "        text-align: right;\n",
              "    }\n",
              "</style>\n",
              "<table border=\"1\" class=\"dataframe\">\n",
              "  <thead>\n",
              "    <tr style=\"text-align: right;\">\n",
              "      <th></th>\n",
              "      <th>rel</th>\n",
              "      <th>result</th>\n",
              "    </tr>\n",
              "  </thead>\n",
              "  <tbody>\n",
              "    <tr>\n",
              "      <th>279</th>\n",
              "      <td>O</td>\n",
              "      <td>[O]</td>\n",
              "    </tr>\n",
              "    <tr>\n",
              "      <th>214</th>\n",
              "      <td>O</td>\n",
              "      <td>[TrNAP]</td>\n",
              "    </tr>\n",
              "    <tr>\n",
              "      <th>54</th>\n",
              "      <td>TrAP</td>\n",
              "      <td>[TrAP]</td>\n",
              "    </tr>\n",
              "    <tr>\n",
              "      <th>202</th>\n",
              "      <td>TrAP</td>\n",
              "      <td>[O]</td>\n",
              "    </tr>\n",
              "    <tr>\n",
              "      <th>131</th>\n",
              "      <td>TrAP</td>\n",
              "      <td>[TrCP]</td>\n",
              "    </tr>\n",
              "  </tbody>\n",
              "</table>\n",
              "</div>\n",
              "    <div class=\"colab-df-buttons\">\n",
              "\n",
              "  <div class=\"colab-df-container\">\n",
              "    <button class=\"colab-df-convert\" onclick=\"convertToInteractive('df-8d4f274b-0df8-4c7d-b744-44e28ae88e72')\"\n",
              "            title=\"Convert this dataframe to an interactive table.\"\n",
              "            style=\"display:none;\">\n",
              "\n",
              "  <svg xmlns=\"http://www.w3.org/2000/svg\" height=\"24px\" viewBox=\"0 -960 960 960\">\n",
              "    <path d=\"M120-120v-720h720v720H120Zm60-500h600v-160H180v160Zm220 220h160v-160H400v160Zm0 220h160v-160H400v160ZM180-400h160v-160H180v160Zm440 0h160v-160H620v160ZM180-180h160v-160H180v160Zm440 0h160v-160H620v160Z\"/>\n",
              "  </svg>\n",
              "    </button>\n",
              "\n",
              "  <style>\n",
              "    .colab-df-container {\n",
              "      display:flex;\n",
              "      gap: 12px;\n",
              "    }\n",
              "\n",
              "    .colab-df-convert {\n",
              "      background-color: #E8F0FE;\n",
              "      border: none;\n",
              "      border-radius: 50%;\n",
              "      cursor: pointer;\n",
              "      display: none;\n",
              "      fill: #1967D2;\n",
              "      height: 32px;\n",
              "      padding: 0 0 0 0;\n",
              "      width: 32px;\n",
              "    }\n",
              "\n",
              "    .colab-df-convert:hover {\n",
              "      background-color: #E2EBFA;\n",
              "      box-shadow: 0px 1px 2px rgba(60, 64, 67, 0.3), 0px 1px 3px 1px rgba(60, 64, 67, 0.15);\n",
              "      fill: #174EA6;\n",
              "    }\n",
              "\n",
              "    .colab-df-buttons div {\n",
              "      margin-bottom: 4px;\n",
              "    }\n",
              "\n",
              "    [theme=dark] .colab-df-convert {\n",
              "      background-color: #3B4455;\n",
              "      fill: #D2E3FC;\n",
              "    }\n",
              "\n",
              "    [theme=dark] .colab-df-convert:hover {\n",
              "      background-color: #434B5C;\n",
              "      box-shadow: 0px 1px 3px 1px rgba(0, 0, 0, 0.15);\n",
              "      filter: drop-shadow(0px 1px 2px rgba(0, 0, 0, 0.3));\n",
              "      fill: #FFFFFF;\n",
              "    }\n",
              "  </style>\n",
              "\n",
              "    <script>\n",
              "      const buttonEl =\n",
              "        document.querySelector('#df-8d4f274b-0df8-4c7d-b744-44e28ae88e72 button.colab-df-convert');\n",
              "      buttonEl.style.display =\n",
              "        google.colab.kernel.accessAllowed ? 'block' : 'none';\n",
              "\n",
              "      async function convertToInteractive(key) {\n",
              "        const element = document.querySelector('#df-8d4f274b-0df8-4c7d-b744-44e28ae88e72');\n",
              "        const dataTable =\n",
              "          await google.colab.kernel.invokeFunction('convertToInteractive',\n",
              "                                                    [key], {});\n",
              "        if (!dataTable) return;\n",
              "\n",
              "        const docLinkHtml = 'Like what you see? Visit the ' +\n",
              "          '<a target=\"_blank\" href=https://colab.research.google.com/notebooks/data_table.ipynb>data table notebook</a>'\n",
              "          + ' to learn more about interactive tables.';\n",
              "        element.innerHTML = '';\n",
              "        dataTable['output_type'] = 'display_data';\n",
              "        await google.colab.output.renderOutput(dataTable, element);\n",
              "        const docLink = document.createElement('div');\n",
              "        docLink.innerHTML = docLinkHtml;\n",
              "        element.appendChild(docLink);\n",
              "      }\n",
              "    </script>\n",
              "  </div>\n",
              "\n",
              "\n",
              "    <div id=\"df-bb516c6c-9c65-4c33-a2d3-bf733324472b\">\n",
              "      <button class=\"colab-df-quickchart\" onclick=\"quickchart('df-bb516c6c-9c65-4c33-a2d3-bf733324472b')\"\n",
              "                title=\"Suggest charts\"\n",
              "                style=\"display:none;\">\n",
              "\n",
              "<svg xmlns=\"http://www.w3.org/2000/svg\" height=\"24px\"viewBox=\"0 0 24 24\"\n",
              "     width=\"24px\">\n",
              "    <g>\n",
              "        <path d=\"M19 3H5c-1.1 0-2 .9-2 2v14c0 1.1.9 2 2 2h14c1.1 0 2-.9 2-2V5c0-1.1-.9-2-2-2zM9 17H7v-7h2v7zm4 0h-2V7h2v10zm4 0h-2v-4h2v4z\"/>\n",
              "    </g>\n",
              "</svg>\n",
              "      </button>\n",
              "\n",
              "<style>\n",
              "  .colab-df-quickchart {\n",
              "      --bg-color: #E8F0FE;\n",
              "      --fill-color: #1967D2;\n",
              "      --hover-bg-color: #E2EBFA;\n",
              "      --hover-fill-color: #174EA6;\n",
              "      --disabled-fill-color: #AAA;\n",
              "      --disabled-bg-color: #DDD;\n",
              "  }\n",
              "\n",
              "  [theme=dark] .colab-df-quickchart {\n",
              "      --bg-color: #3B4455;\n",
              "      --fill-color: #D2E3FC;\n",
              "      --hover-bg-color: #434B5C;\n",
              "      --hover-fill-color: #FFFFFF;\n",
              "      --disabled-bg-color: #3B4455;\n",
              "      --disabled-fill-color: #666;\n",
              "  }\n",
              "\n",
              "  .colab-df-quickchart {\n",
              "    background-color: var(--bg-color);\n",
              "    border: none;\n",
              "    border-radius: 50%;\n",
              "    cursor: pointer;\n",
              "    display: none;\n",
              "    fill: var(--fill-color);\n",
              "    height: 32px;\n",
              "    padding: 0;\n",
              "    width: 32px;\n",
              "  }\n",
              "\n",
              "  .colab-df-quickchart:hover {\n",
              "    background-color: var(--hover-bg-color);\n",
              "    box-shadow: 0 1px 2px rgba(60, 64, 67, 0.3), 0 1px 3px 1px rgba(60, 64, 67, 0.15);\n",
              "    fill: var(--button-hover-fill-color);\n",
              "  }\n",
              "\n",
              "  .colab-df-quickchart-complete:disabled,\n",
              "  .colab-df-quickchart-complete:disabled:hover {\n",
              "    background-color: var(--disabled-bg-color);\n",
              "    fill: var(--disabled-fill-color);\n",
              "    box-shadow: none;\n",
              "  }\n",
              "\n",
              "  .colab-df-spinner {\n",
              "    border: 2px solid var(--fill-color);\n",
              "    border-color: transparent;\n",
              "    border-bottom-color: var(--fill-color);\n",
              "    animation:\n",
              "      spin 1s steps(1) infinite;\n",
              "  }\n",
              "\n",
              "  @keyframes spin {\n",
              "    0% {\n",
              "      border-color: transparent;\n",
              "      border-bottom-color: var(--fill-color);\n",
              "      border-left-color: var(--fill-color);\n",
              "    }\n",
              "    20% {\n",
              "      border-color: transparent;\n",
              "      border-left-color: var(--fill-color);\n",
              "      border-top-color: var(--fill-color);\n",
              "    }\n",
              "    30% {\n",
              "      border-color: transparent;\n",
              "      border-left-color: var(--fill-color);\n",
              "      border-top-color: var(--fill-color);\n",
              "      border-right-color: var(--fill-color);\n",
              "    }\n",
              "    40% {\n",
              "      border-color: transparent;\n",
              "      border-right-color: var(--fill-color);\n",
              "      border-top-color: var(--fill-color);\n",
              "    }\n",
              "    60% {\n",
              "      border-color: transparent;\n",
              "      border-right-color: var(--fill-color);\n",
              "    }\n",
              "    80% {\n",
              "      border-color: transparent;\n",
              "      border-right-color: var(--fill-color);\n",
              "      border-bottom-color: var(--fill-color);\n",
              "    }\n",
              "    90% {\n",
              "      border-color: transparent;\n",
              "      border-bottom-color: var(--fill-color);\n",
              "    }\n",
              "  }\n",
              "</style>\n",
              "\n",
              "      <script>\n",
              "        async function quickchart(key) {\n",
              "          const quickchartButtonEl =\n",
              "            document.querySelector('#' + key + ' button');\n",
              "          quickchartButtonEl.disabled = true;  // To prevent multiple clicks.\n",
              "          quickchartButtonEl.classList.add('colab-df-spinner');\n",
              "          try {\n",
              "            const charts = await google.colab.kernel.invokeFunction(\n",
              "                'suggestCharts', [key], {});\n",
              "          } catch (error) {\n",
              "            console.error('Error during call to suggestCharts:', error);\n",
              "          }\n",
              "          quickchartButtonEl.classList.remove('colab-df-spinner');\n",
              "          quickchartButtonEl.classList.add('colab-df-quickchart-complete');\n",
              "        }\n",
              "        (() => {\n",
              "          let quickchartButtonEl =\n",
              "            document.querySelector('#df-bb516c6c-9c65-4c33-a2d3-bf733324472b button');\n",
              "          quickchartButtonEl.style.display =\n",
              "            google.colab.kernel.accessAllowed ? 'block' : 'none';\n",
              "        })();\n",
              "      </script>\n",
              "    </div>\n",
              "\n",
              "    </div>\n",
              "  </div>\n"
            ],
            "application/vnd.google.colaboratory.intrinsic+json": {
              "type": "dataframe",
              "summary": "{\n  \"name\": \"result_test_df\",\n  \"rows\": 5,\n  \"fields\": [\n    {\n      \"column\": \"rel\",\n      \"properties\": {\n        \"dtype\": \"category\",\n        \"num_unique_values\": 2,\n        \"samples\": [\n          \"TrAP\",\n          \"O\"\n        ],\n        \"semantic_type\": \"\",\n        \"description\": \"\"\n      }\n    },\n    {\n      \"column\": \"result\",\n      \"properties\": {\n        \"dtype\": \"object\",\n        \"semantic_type\": \"\",\n        \"description\": \"\"\n      }\n    }\n  ]\n}"
            }
          },
          "metadata": {},
          "execution_count": 29
        }
      ],
      "source": [
        "result_test_df = result.select('rel', 'relations.result').toPandas()\n",
        "result_test_df.sample(5)"
      ]
    },
    {
      "cell_type": "code",
      "execution_count": 30,
      "metadata": {
        "colab": {
          "base_uri": "https://localhost:8080/"
        },
        "id": "FQsHgm5u9Ye8",
        "outputId": "9d465abc-bab1-4e53-d6d5-2894499c1b24"
      },
      "outputs": [
        {
          "output_type": "stream",
          "name": "stdout",
          "text": [
            "              precision    recall  f1-score   support\n",
            "\n",
            "           O       0.66      0.86      0.75       133\n",
            "         PIP       0.69      0.40      0.51        45\n",
            "        TeCP       0.25      0.25      0.25         4\n",
            "        TeRP       0.73      0.70      0.72        63\n",
            "        TrAP       0.51      0.49      0.50        47\n",
            "        TrCP       0.00      0.00      0.00         9\n",
            "        TrIP       1.00      0.17      0.29         6\n",
            "       TrNAP       0.00      0.00      0.00         4\n",
            "        TrWP       0.00      0.00      0.00         3\n",
            "\n",
            "    accuracy                           0.64       314\n",
            "   macro avg       0.43      0.32      0.33       314\n",
            "weighted avg       0.63      0.64      0.62       314\n",
            "\n"
          ]
        }
      ],
      "source": [
        "from sklearn.metrics import classification_report\n",
        "\n",
        "pd_test_results = result_test_df.explode(\"result\").fillna(\"O\")\n",
        "\n",
        "print(classification_report(pd_test_results[\"rel\"], pd_test_results[\"result\"]))"
      ]
    },
    {
      "cell_type": "markdown",
      "metadata": {
        "id": "XD4dxFZ0142-"
      },
      "source": [
        "### Save to disk"
      ]
    },
    {
      "cell_type": "code",
      "execution_count": 31,
      "metadata": {
        "id": "E5NPkAuh142_"
      },
      "outputs": [],
      "source": [
        "rel_model.stages[-2].write().overwrite().save('RE_pretrained_model_finetuned')"
      ]
    }
  ],
  "metadata": {
    "colab": {
      "machine_shape": "hm",
      "provenance": []
    },
    "gpuClass": "standard",
    "kernelspec": {
      "display_name": "Python 3",
      "language": "python",
      "name": "python3"
    },
    "language_info": {
      "codemirror_mode": {
        "name": "ipython",
        "version": 3
      },
      "file_extension": ".py",
      "mimetype": "text/x-python",
      "name": "python",
      "nbconvert_exporter": "python",
      "pygments_lexer": "ipython3",
      "version": "3.7.6"
    }
  },
  "nbformat": 4,
  "nbformat_minor": 0
}
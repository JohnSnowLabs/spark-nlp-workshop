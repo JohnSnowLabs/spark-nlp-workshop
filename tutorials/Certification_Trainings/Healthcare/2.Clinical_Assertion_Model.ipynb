{
  "cells": [
    {
      "cell_type": "markdown",
      "metadata": {
        "id": "I08sFJYCxR0Z"
      },
      "source": [
        "![JohnSnowLabs](https://nlp.johnsnowlabs.com/assets/images/logo.png)"
      ]
    },
    {
      "cell_type": "markdown",
      "metadata": {
        "id": "MXZNJ2EirHSN"
      },
      "source": [
        "[![Open In Colab](https://colab.research.google.com/assets/colab-badge.svg)](https://colab.research.google.com/github/JohnSnowLabs/spark-nlp-workshop/blob/master/tutorials/Certification_Trainings/Healthcare/2.Clinical_Assertion_Model.ipynb)"
      ]
    },
    {
      "cell_type": "markdown",
      "metadata": {
        "id": "Niy3mZAjoayg"
      },
      "source": [
        "# Clinical Assertion Status Model \n",
        "\n",
        "\n",
        "The deep neural network architecture for assertion status detection in Spark NLP is based on a Bi-LSTM framework, and is a modified version of the architecture proposed by Federico Fancellu, Adam Lopez and Bonnie Webber ([Neural Networks For Negation Scope Detection](https://aclanthology.org/P16-1047.pdf)). Its goal is to classify the assertions made on given medical concepts as being present, absent, or possible in the patient, conditionally present in the patient under certain circumstances,\n",
        "hypothetically present in the patient at some future point, and\n",
        "mentioned in the patient report but associated with someoneelse.\n",
        "In the proposed implementation, input units depend on the\n",
        "target tokens (a named entity) and the neighboring words that\n",
        "are explicitly encoded as a sequence using word embeddings.\n",
        "Similar to paper mentioned above,  it is observed that that 95% of the scope tokens (neighboring words) fall in a window of 9 tokens to the left and 15\n",
        "to the right of the target tokens in the same dataset. Therefore, the same window size was implemented and it following parameters were used: learning\n",
        "rate 0.0012, dropout 0.05, batch size 64 and a maximum sentence length 250. The model has been implemented within\n",
        "Spark NLP as an annotator called AssertionDLModel. After\n",
        "training 20 epoch and measuring accuracy on the official test\n",
        "set, this implementation exceeds the latest state-of-the-art\n",
        "accuracy benchmarks as summarized as following table:\n",
        "\n",
        "|Assertion Label|Spark NLP|Latest Best|\n",
        "|-|-|-|\n",
        "|Absent       |0.944 |0.937|\n",
        "|Someone-else |0.904|0.869|\n",
        "|Conditional  |0.441|0.422|\n",
        "|Hypothetical |0.862|0.890|\n",
        "|Possible     |0.680|0.630|\n",
        "|Present      |0.953|0.957|\n",
        "|micro F1     |0.939|0.934|\n"
      ]
    },
    {
      "cell_type": "markdown",
      "metadata": {
        "id": "okhT7AcXxben"
      },
      "source": [
        "**Colab Setup**"
      ]
    },
    {
      "cell_type": "code",
      "execution_count": 1,
      "metadata": {
        "id": "UPYaQizloMiq",
        "outputId": "b5ee11de-247c-4a2e-e01a-823870461524",
        "colab": {
          "base_uri": "https://localhost:8080/",
          "height": 73
        }
      },
      "outputs": [
        {
          "output_type": "display_data",
          "data": {
            "text/plain": [
              "<IPython.core.display.HTML object>"
            ],
            "text/html": [
              "\n",
              "     <input type=\"file\" id=\"files-a584045a-de4f-4d41-adbe-951e92eef2fd\" name=\"files[]\" multiple disabled\n",
              "        style=\"border:none\" />\n",
              "     <output id=\"result-a584045a-de4f-4d41-adbe-951e92eef2fd\">\n",
              "      Upload widget is only available when the cell has been executed in the\n",
              "      current browser session. Please rerun this cell to enable.\n",
              "      </output>\n",
              "      <script>// Copyright 2017 Google LLC\n",
              "//\n",
              "// Licensed under the Apache License, Version 2.0 (the \"License\");\n",
              "// you may not use this file except in compliance with the License.\n",
              "// You may obtain a copy of the License at\n",
              "//\n",
              "//      http://www.apache.org/licenses/LICENSE-2.0\n",
              "//\n",
              "// Unless required by applicable law or agreed to in writing, software\n",
              "// distributed under the License is distributed on an \"AS IS\" BASIS,\n",
              "// WITHOUT WARRANTIES OR CONDITIONS OF ANY KIND, either express or implied.\n",
              "// See the License for the specific language governing permissions and\n",
              "// limitations under the License.\n",
              "\n",
              "/**\n",
              " * @fileoverview Helpers for google.colab Python module.\n",
              " */\n",
              "(function(scope) {\n",
              "function span(text, styleAttributes = {}) {\n",
              "  const element = document.createElement('span');\n",
              "  element.textContent = text;\n",
              "  for (const key of Object.keys(styleAttributes)) {\n",
              "    element.style[key] = styleAttributes[key];\n",
              "  }\n",
              "  return element;\n",
              "}\n",
              "\n",
              "// Max number of bytes which will be uploaded at a time.\n",
              "const MAX_PAYLOAD_SIZE = 100 * 1024;\n",
              "\n",
              "function _uploadFiles(inputId, outputId) {\n",
              "  const steps = uploadFilesStep(inputId, outputId);\n",
              "  const outputElement = document.getElementById(outputId);\n",
              "  // Cache steps on the outputElement to make it available for the next call\n",
              "  // to uploadFilesContinue from Python.\n",
              "  outputElement.steps = steps;\n",
              "\n",
              "  return _uploadFilesContinue(outputId);\n",
              "}\n",
              "\n",
              "// This is roughly an async generator (not supported in the browser yet),\n",
              "// where there are multiple asynchronous steps and the Python side is going\n",
              "// to poll for completion of each step.\n",
              "// This uses a Promise to block the python side on completion of each step,\n",
              "// then passes the result of the previous step as the input to the next step.\n",
              "function _uploadFilesContinue(outputId) {\n",
              "  const outputElement = document.getElementById(outputId);\n",
              "  const steps = outputElement.steps;\n",
              "\n",
              "  const next = steps.next(outputElement.lastPromiseValue);\n",
              "  return Promise.resolve(next.value.promise).then((value) => {\n",
              "    // Cache the last promise value to make it available to the next\n",
              "    // step of the generator.\n",
              "    outputElement.lastPromiseValue = value;\n",
              "    return next.value.response;\n",
              "  });\n",
              "}\n",
              "\n",
              "/**\n",
              " * Generator function which is called between each async step of the upload\n",
              " * process.\n",
              " * @param {string} inputId Element ID of the input file picker element.\n",
              " * @param {string} outputId Element ID of the output display.\n",
              " * @return {!Iterable<!Object>} Iterable of next steps.\n",
              " */\n",
              "function* uploadFilesStep(inputId, outputId) {\n",
              "  const inputElement = document.getElementById(inputId);\n",
              "  inputElement.disabled = false;\n",
              "\n",
              "  const outputElement = document.getElementById(outputId);\n",
              "  outputElement.innerHTML = '';\n",
              "\n",
              "  const pickedPromise = new Promise((resolve) => {\n",
              "    inputElement.addEventListener('change', (e) => {\n",
              "      resolve(e.target.files);\n",
              "    });\n",
              "  });\n",
              "\n",
              "  const cancel = document.createElement('button');\n",
              "  inputElement.parentElement.appendChild(cancel);\n",
              "  cancel.textContent = 'Cancel upload';\n",
              "  const cancelPromise = new Promise((resolve) => {\n",
              "    cancel.onclick = () => {\n",
              "      resolve(null);\n",
              "    };\n",
              "  });\n",
              "\n",
              "  // Wait for the user to pick the files.\n",
              "  const files = yield {\n",
              "    promise: Promise.race([pickedPromise, cancelPromise]),\n",
              "    response: {\n",
              "      action: 'starting',\n",
              "    }\n",
              "  };\n",
              "\n",
              "  cancel.remove();\n",
              "\n",
              "  // Disable the input element since further picks are not allowed.\n",
              "  inputElement.disabled = true;\n",
              "\n",
              "  if (!files) {\n",
              "    return {\n",
              "      response: {\n",
              "        action: 'complete',\n",
              "      }\n",
              "    };\n",
              "  }\n",
              "\n",
              "  for (const file of files) {\n",
              "    const li = document.createElement('li');\n",
              "    li.append(span(file.name, {fontWeight: 'bold'}));\n",
              "    li.append(span(\n",
              "        `(${file.type || 'n/a'}) - ${file.size} bytes, ` +\n",
              "        `last modified: ${\n",
              "            file.lastModifiedDate ? file.lastModifiedDate.toLocaleDateString() :\n",
              "                                    'n/a'} - `));\n",
              "    const percent = span('0% done');\n",
              "    li.appendChild(percent);\n",
              "\n",
              "    outputElement.appendChild(li);\n",
              "\n",
              "    const fileDataPromise = new Promise((resolve) => {\n",
              "      const reader = new FileReader();\n",
              "      reader.onload = (e) => {\n",
              "        resolve(e.target.result);\n",
              "      };\n",
              "      reader.readAsArrayBuffer(file);\n",
              "    });\n",
              "    // Wait for the data to be ready.\n",
              "    let fileData = yield {\n",
              "      promise: fileDataPromise,\n",
              "      response: {\n",
              "        action: 'continue',\n",
              "      }\n",
              "    };\n",
              "\n",
              "    // Use a chunked sending to avoid message size limits. See b/62115660.\n",
              "    let position = 0;\n",
              "    do {\n",
              "      const length = Math.min(fileData.byteLength - position, MAX_PAYLOAD_SIZE);\n",
              "      const chunk = new Uint8Array(fileData, position, length);\n",
              "      position += length;\n",
              "\n",
              "      const base64 = btoa(String.fromCharCode.apply(null, chunk));\n",
              "      yield {\n",
              "        response: {\n",
              "          action: 'append',\n",
              "          file: file.name,\n",
              "          data: base64,\n",
              "        },\n",
              "      };\n",
              "\n",
              "      let percentDone = fileData.byteLength === 0 ?\n",
              "          100 :\n",
              "          Math.round((position / fileData.byteLength) * 100);\n",
              "      percent.textContent = `${percentDone}% done`;\n",
              "\n",
              "    } while (position < fileData.byteLength);\n",
              "  }\n",
              "\n",
              "  // All done.\n",
              "  yield {\n",
              "    response: {\n",
              "      action: 'complete',\n",
              "    }\n",
              "  };\n",
              "}\n",
              "\n",
              "scope.google = scope.google || {};\n",
              "scope.google.colab = scope.google.colab || {};\n",
              "scope.google.colab._files = {\n",
              "  _uploadFiles,\n",
              "  _uploadFilesContinue,\n",
              "};\n",
              "})(self);\n",
              "</script> "
            ]
          },
          "metadata": {}
        },
        {
          "output_type": "stream",
          "name": "stdout",
          "text": [
            "Saving 4.2.0.spark_nlp_for_healthcare.json to 4.2.0.spark_nlp_for_healthcare.json\n"
          ]
        }
      ],
      "source": [
        "import json\n",
        "import os\n",
        "\n",
        "from google.colab import files\n",
        "\n",
        "if 'spark_jsl.json' not in os.listdir():\n",
        "  license_keys = files.upload()\n",
        "  os.rename(list(license_keys.keys())[0], 'spark_jsl.json')\n",
        "\n",
        "with open('spark_jsl.json') as f:\n",
        "    license_keys = json.load(f)\n",
        "\n",
        "# Defining license key-value pairs as local variables\n",
        "locals().update(license_keys)\n",
        "os.environ.update(license_keys)"
      ]
    },
    {
      "cell_type": "code",
      "execution_count": null,
      "metadata": {
        "id": "jphatV_n_u-T"
      },
      "outputs": [],
      "source": [
        "# Installing pyspark, nlu and spark-nlp\n",
        "! pip install --upgrade -q pyspark==3.1.2 nlu==4.0.1rc4 spark-nlp==$PUBLIC_VERSION\n",
        "\n",
        "# Installing Spark NLP Healthcare\n",
        "! pip install --upgrade -q spark-nlp-jsl==$JSL_VERSION  --extra-index-url https://pypi.johnsnowlabs.com/$SECRET\n",
        "\n",
        "# Installing Spark NLP Display Library for visualization\n",
        "! pip install -q spark-nlp-display"
      ]
    },
    {
      "cell_type": "code",
      "execution_count": 3,
      "metadata": {
        "id": "kMtWWqFBAMVW",
        "colab": {
          "base_uri": "https://localhost:8080/",
          "height": 254
        },
        "outputId": "6d16d611-b3b4-4b57-a506-2c277ce3b021"
      },
      "outputs": [
        {
          "output_type": "stream",
          "name": "stdout",
          "text": [
            "Spark NLP Version : 4.2.0\n",
            "Spark NLP_JSL Version : 4.2.0\n"
          ]
        },
        {
          "output_type": "execute_result",
          "data": {
            "text/plain": [
              "<pyspark.sql.session.SparkSession at 0x7fca29161850>"
            ],
            "text/html": [
              "\n",
              "            <div>\n",
              "                <p><b>SparkSession - in-memory</b></p>\n",
              "                \n",
              "        <div>\n",
              "            <p><b>SparkContext</b></p>\n",
              "\n",
              "            <p><a href=\"http://c3415eb4089a:4040\">Spark UI</a></p>\n",
              "\n",
              "            <dl>\n",
              "              <dt>Version</dt>\n",
              "                <dd><code>v3.1.2</code></dd>\n",
              "              <dt>Master</dt>\n",
              "                <dd><code>local[*]</code></dd>\n",
              "              <dt>AppName</dt>\n",
              "                <dd><code>Spark NLP Licensed</code></dd>\n",
              "            </dl>\n",
              "        </div>\n",
              "        \n",
              "            </div>\n",
              "        "
            ]
          },
          "metadata": {},
          "execution_count": 3
        }
      ],
      "source": [
        "import json\n",
        "import os\n",
        "\n",
        "from pyspark.ml import Pipeline,PipelineModel\n",
        "from pyspark.sql import SparkSession\n",
        "\n",
        "import nlu\n",
        "import sparknlp\n",
        "import sparknlp_jsl\n",
        "\n",
        "from sparknlp.base import *\n",
        "from sparknlp.annotator import *\n",
        "from sparknlp_jsl.annotator import *\n",
        "\n",
        "import pandas as pd\n",
        "\n",
        "import warnings\n",
        "warnings.filterwarnings('ignore')\n",
        "\n",
        "params = {\"spark.driver.memory\":\"16G\", \n",
        "          \"spark.kryoserializer.buffer.max\":\"2000M\", \n",
        "          \"spark.driver.maxResultSize\":\"2000M\"} \n",
        "\n",
        "spark = sparknlp_jsl.start(license_keys['SECRET'],params=params)\n",
        "\n",
        "print(\"Spark NLP Version :\", sparknlp.version())\n",
        "print(\"Spark NLP_JSL Version :\", sparknlp_jsl.version())\n",
        "\n",
        "spark"
      ]
    },
    {
      "cell_type": "code",
      "execution_count": 4,
      "metadata": {
        "id": "77mvgqSpS1Kz"
      },
      "outputs": [],
      "source": [
        "# if you want to start the session with custom params as in start function above\n",
        "from pyspark.sql import SparkSession\n",
        "\n",
        "def start(SECRET):\n",
        "    builder = SparkSession.builder \\\n",
        "        .appName(\"Spark NLP Licensed\") \\\n",
        "        .master(\"local[*]\") \\\n",
        "        .config(\"spark.driver.memory\", \"16G\") \\\n",
        "        .config(\"spark.serializer\", \"org.apache.spark.serializer.KryoSerializer\") \\\n",
        "        .config(\"spark.kryoserializer.buffer.max\", \"2000M\") \\\n",
        "        .config(\"spark.jars.packages\", \"com.johnsnowlabs.nlp:spark-nlp_2.12:\"+PUBLIC_VERSION) \\\n",
        "        .config(\"spark.jars\", \"https://pypi.johnsnowlabs.com/\"+SECRET+\"/spark-nlp-jsl-\"+JSL_VERSION+\".jar\")\n",
        "      \n",
        "    return builder.getOrCreate()\n",
        "\n",
        "#spark = start(SECRET)"
      ]
    },
    {
      "cell_type": "markdown",
      "metadata": {
        "id": "AMU4sAJQ0Rhs"
      },
      "source": [
        "# Clinical Assertion Models (with pretrained models)"
      ]
    },
    {
      "cell_type": "markdown",
      "metadata": {
        "id": "Kql2KmQ35H7H"
      },
      "source": [
        "|    | model_name              |Predicted Entities|\n",
        "|---:|:------------------------|-|\n",
        "|  1 | [assertion_dl](https://nlp.johnsnowlabs.com/2021/01/26/assertion_dl_en.html)            |Present, Absent, Possible, conditional, hypothetical, associated_with_someone_else|\n",
        "|  2 | [assertion_dl_biobert](https://nlp.johnsnowlabs.com/2021/01/26/assertion_dl_biobert_en.html)    |Present, Absent, Possible, conditional, hypothetical, associated_with_someone_else|\n",
        "|  3 | [assertion_dl_healthcare](https://nlp.johnsnowlabs.com/2020/09/23/assertion_dl_healthcare_en.html) |Present, Absent, Possible, conditional, hypothetical, associated_with_someone_else|\n",
        "|  4 | [assertion_dl_large](https://nlp.johnsnowlabs.com/2020/05/21/assertion_dl_large_en.html)      |Present, Absent, Possible, conditional, hypothetical, associated_with_someone_else|\n",
        "|  5 | [assertion_dl_radiology](https://nlp.johnsnowlabs.com/2021/03/18/assertion_dl_radiology_en.html)   |Confirmed, Suspected, Negative|\n",
        "|  6 | [assertion_jsl](https://nlp.johnsnowlabs.com/2021/07/24/assertion_jsl_en.html)           |Present, Absent, Possible, Planned, Someoneelse, Past, Family, Hypotetical|\n",
        "|  7 | [assertion_jsl_large](https://nlp.johnsnowlabs.com/2021/07/24/assertion_jsl_large_en.html)     |present, absent, possible, planned, someoneelse, past, hypothetical|\n",
        "|  8 |  [assertion_ml](https://nlp.johnsnowlabs.com/2020/01/30/assertion_ml_en.html) |Hypothetical, Present, Absent, Possible, Conditional, Associated_with_someone_else|\n",
        "|  9 | [assertion_dl_scope_L10R10](https://nlp.johnsnowlabs.com/2022/03/17/assertion_dl_scope_L10R10_en_3_0.html)| hypothetical, associated_with_someone_else, conditional, possible, absent, present|\n",
        "| 10 | [assertion_dl_biobert_scope_L10R10](https://nlp.johnsnowlabs.com/2022/03/24/assertion_dl_biobert_scope_L10R10_en_2_4.html)| hypothetical, associated_with_someone_else, conditional, possible, absent, present|\n",
        "| 11 | [assertion_jsl_augmented](https://nlp.johnsnowlabs.com/2022/09/15/assertion_jsl_augmented_en.html)| Present, Absent, Possible, Planned, Past, Family, Hypotetical, SomeoneElse|\n",
        "\n",
        "\n"
      ]
    },
    {
      "cell_type": "markdown",
      "source": [
        "\n",
        "\n",
        "### Oncology Assertion Models\n",
        "|    | model_name              |Predicted Entities|\n",
        "|---:|:------------------------|-|\n",
        "| 1 | **assertion_oncology_wip** | Medical_History, Family_History, Possible, Hypothetical_Or_Absent|\n",
        "| 2 | **assertion_oncology_problem_wip** |Present, Possible, Hypothetical, Absent, Family|\n",
        "| 3 | **assertion_oncology_treatment_wip** |Present, Planned, Past, Hypothetical, Absent|\n",
        "| 4 | **assertion_oncology_response_to_treatment_wip** |Present_Or_Past, Hypothetical_Or_Absent|\n",
        "| 5 | **assertion_oncology_test_binary_wip** |Present_Or_Past, Hypothetical_Or_Absent|\n",
        "| 6 | **assertion_oncology_smoking_status_wip** |Absent, Past, Present|\n",
        "| 7 | **assertion_oncology_family_history_wip** |Family_History, Other|\n",
        "| 8 | **assertion_oncology_demographic_binary_wip** |Patient, Someone_Else|"
      ],
      "metadata": {
        "id": "iDbKhFUkw8bt"
      }
    },
    {
      "cell_type": "markdown",
      "metadata": {
        "id": "voZj8-NSbe4j"
      },
      "source": [
        "### Pretrained `assertion_jsl_augmented` model"
      ]
    },
    {
      "cell_type": "code",
      "execution_count": 24,
      "metadata": {
        "colab": {
          "base_uri": "https://localhost:8080/"
        },
        "id": "DEa5SITBxmY0",
        "outputId": "413d20ad-a773-4a9e-e14b-916d938cf1d1"
      },
      "outputs": [
        {
          "output_type": "stream",
          "name": "stdout",
          "text": [
            "embeddings_clinical download started this may take some time.\n",
            "Approximate size to download 1.6 GB\n",
            "[OK!]\n",
            "ner_jsl download started this may take some time.\n",
            "[OK!]\n",
            "assertion_jsl_augmented download started this may take some time.\n",
            "[OK!]\n"
          ]
        }
      ],
      "source": [
        "# Annotator that transforms a text column from dataframe into an Annotation ready for NLP\n",
        "\n",
        "documentAssembler = DocumentAssembler()\\\n",
        "    .setInputCol(\"text\")\\\n",
        "    .setOutputCol(\"document\")\n",
        "\n",
        "# Sentence Detector annotator, processes various sentences per line\n",
        "sentenceDetector = SentenceDetector()\\\n",
        "    .setInputCols([\"document\"])\\\n",
        "    .setOutputCol(\"sentence\")\n",
        "\n",
        "# Tokenizer splits words in a relevant format for NLP\n",
        "tokenizer = Tokenizer()\\\n",
        "    .setInputCols([\"sentence\"])\\\n",
        "    .setOutputCol(\"token\")\n",
        "\n",
        "# Clinical word embeddings trained on PubMED dataset\n",
        "word_embeddings = WordEmbeddingsModel.pretrained(\"embeddings_clinical\", \"en\", \"clinical/models\")\\\n",
        "    .setInputCols([\"sentence\", \"token\"])\\\n",
        "    .setOutputCol(\"embeddings\")\n",
        "\n",
        "# NER model trained on i2b2 (sampled from MIMIC) dataset\n",
        "clinical_ner = MedicalNerModel.pretrained(\"ner_jsl\", \"en\", \"clinical/models\") \\\n",
        "    .setInputCols([\"sentence\", \"token\", \"embeddings\"]) \\\n",
        "    .setOutputCol(\"ner\")\\\n",
        "    #.setIncludeAllConfidenceScores(False)\n",
        "\n",
        "ner_converter = NerConverterInternal() \\\n",
        "    .setInputCols([\"sentence\", \"token\", \"ner\"]) \\\n",
        "    .setOutputCol(\"ner_chunk\")\\\n",
        "    .setWhiteList([\"SYMPTOM\",\"VS_FINDING\",\"DISEASE_SYNDROME_DISORDER\",\"ADMISSION_DISCHARGE\",\"PROCEDURE\"])\n",
        "\n",
        "# Assertion model trained on i2b2 (sampled from MIMIC) dataset\n",
        "clinical_assertion = AssertionDLModel.pretrained(\"assertion_jsl_augmented\", \"en\", \"clinical/models\") \\\n",
        "    .setInputCols([\"sentence\", \"ner_chunk\", \"embeddings\"]) \\\n",
        "    .setOutputCol(\"assertion\")\n",
        "    \n",
        "nlpPipeline = Pipeline(stages=[\n",
        "    documentAssembler, \n",
        "    sentenceDetector,\n",
        "    tokenizer,\n",
        "    word_embeddings,\n",
        "    clinical_ner,\n",
        "    ner_converter,\n",
        "    clinical_assertion\n",
        "    ])\n",
        "\n",
        "empty_data = spark.createDataFrame([[\"\"]]).toDF(\"text\")\n",
        "\n",
        "model = nlpPipeline.fit(empty_data)\n"
      ]
    },
    {
      "cell_type": "code",
      "execution_count": 25,
      "metadata": {
        "colab": {
          "base_uri": "https://localhost:8080/"
        },
        "id": "-Z232ubQeyTu",
        "outputId": "a0e3a5c4-47e4-45df-9f5d-8a90d91fe471"
      },
      "outputs": [
        {
          "output_type": "execute_result",
          "data": {
            "text/plain": [
              "{Param(parent='AssertionDLApproach_fe9570950e5f', name='lazyAnnotator', doc='Whether this AnnotatorModel acts as lazy in RecursivePipelines'): False,\n",
              " Param(parent='AssertionDLApproach_fe9570950e5f', name='label', doc='Column with one label per document'): 'label',\n",
              " Param(parent='AssertionDLApproach_fe9570950e5f', name='batchSize', doc='Size for each batch in the optimization process'): 64,\n",
              " Param(parent='AssertionDLApproach_fe9570950e5f', name='epochs', doc='Number of epochs for the optimization process'): 5,\n",
              " Param(parent='AssertionDLApproach_fe9570950e5f', name='learningRate', doc='Learning rate for the optimization process'): 0.0012,\n",
              " Param(parent='AssertionDLApproach_fe9570950e5f', name='dropout', doc='Dropout at the output of each layer'): 0.05,\n",
              " Param(parent='AssertionDLApproach_fe9570950e5f', name='maxSentLen', doc='Max length for an input sentence.'): 250,\n",
              " Param(parent='AssertionDLApproach_fe9570950e5f', name='includeConfidence', doc='whether to include confidence scores in annotation metadata'): False,\n",
              " Param(parent='AssertionDLApproach_fe9570950e5f', name='scopeWindow', doc='The scope window of the assertion expression'): [-1,\n",
              "  -1]}"
            ]
          },
          "metadata": {},
          "execution_count": 25
        }
      ],
      "source": [
        "AssertionDLApproach().extractParamMap()"
      ]
    },
    {
      "cell_type": "code",
      "execution_count": null,
      "metadata": {
        "id": "SMzVzklLw7B3"
      },
      "outputs": [],
      "source": [
        "# we also have a LogReg based Assertion Model.\n",
        "'''\n",
        "clinical_assertion_ml = AssertionLogRegModel.pretrained(\"assertion_ml\", \"en\", \"clinical/models\") \\\n",
        "    .setInputCols([\"sentence\", \"ner_chunk\", \"embeddings\"]) \\\n",
        "    .setOutputCol(\"assertion\")\n",
        "'''"
      ]
    },
    {
      "cell_type": "code",
      "source": [
        "text = \"\"\"\n",
        "GENERAL: He is an elderly gentleman in no acute distress. He is sitting up in bed eating his breakfast. He is alert and oriented and answering questions appropriately.\n",
        "HEENT: Sclerae show mild arcus senilis in the right. Left is clear. Pupils are equally round and reactive to light. Extraocular movements are intact. Oropharynx is clear.\n",
        "NECK: Supple. Trachea is midline. No jugular venous pressure distention is noted. No adenopathy in the cervical, supraclavicular, or axillary areas.\n",
        "ABDOMEN: Soft and nontender. There may be some fullness in the left upper quadrant, although I do not appreciate a true spleen with inspiration.\n",
        "EXTREMITIES: There is some edema, but no cyanosis and clubbing .\n",
        "IMPRESSION: At this time is refractory anemia, which is transfusion dependent. He is on B12, iron, folic acid, and Procrit. There are no sign or symptom of blood loss and a recent esophagogastroduodenoscopy, which was negative. His creatinine was 1. \n",
        "  My impression at this time is that he probably has an underlying myelodysplastic syndrome or bone marrow failure. His creatinine on this hospitalization was up slightly to 1.6 and this may contribute to his anemia.\n",
        "  At this time, my recommendation for the patient is that he undergoes further serologic evaluation with reticulocyte count, serum protein, and electrophoresis, LDH, B12, folate, erythropoietin level, and he should undergo a bone marrow aspiration and biopsy. \n",
        "  I have discussed the procedure in detail which the patient. I have discussed the risks, benefits, and successes of that treatment and usefulness of the bone marrow and predicting his cause of refractory anemia and further therapeutic interventions, which might be beneficial to him. \n",
        "  He is willing to proceed with the studies I have described to him. We will order an ultrasound of his abdomen because of the possible fullness of the spleen, and I will probably see him in follow up after this hospitalization.\n",
        "  As always, we greatly appreciate being able to participate in the care of your patient. We appreciate the consultation of the patient. \n",
        "\"\"\""
      ],
      "metadata": {
        "id": "Adsv1fRNYq4-"
      },
      "execution_count": 26,
      "outputs": []
    },
    {
      "cell_type": "code",
      "source": [
        "light_model = LightPipeline(model)\n",
        "\n",
        "light_result = light_model.fullAnnotate(text)[0]\n",
        "\n",
        "chunks=[]\n",
        "entities=[]\n",
        "status=[]\n",
        "confidence=[]\n",
        "\n",
        "for n,m in zip(light_result['ner_chunk'],light_result['assertion']):\n",
        "    \n",
        "    chunks.append(n.result)\n",
        "    entities.append(n.metadata['entity']) \n",
        "    status.append(m.result)\n",
        "    confidence.append(m.metadata['confidence'])\n",
        "        \n",
        "df = pd.DataFrame({'chunks':chunks, 'entities':entities, 'assertion':status, 'confidence':confidence})\n",
        "\n",
        "df"
      ],
      "metadata": {
        "id": "wkxKWB_gZlqz",
        "outputId": "ef6cd9bb-5889-4ab5-8ca3-b7ee5387ab02",
        "colab": {
          "base_uri": "https://localhost:8080/",
          "height": 708
        }
      },
      "execution_count": 27,
      "outputs": [
        {
          "output_type": "execute_result",
          "data": {
            "text/plain": [
              "                                chunks                   entities  \\\n",
              "0                             distress                    Symptom   \n",
              "1                        arcus senilis                    Symptom   \n",
              "2   jugular venous pressure distention                    Symptom   \n",
              "3                           adenopathy                    Symptom   \n",
              "4                            nontender                    Symptom   \n",
              "5                             fullness                    Symptom   \n",
              "6                                edema                    Symptom   \n",
              "7                             cyanosis                 VS_Finding   \n",
              "8                             clubbing                    Symptom   \n",
              "9                               anemia  Disease_Syndrome_Disorder   \n",
              "10                          blood loss                    Symptom   \n",
              "11          esophagogastroduodenoscopy                  Procedure   \n",
              "12            myelodysplastic syndrome  Disease_Syndrome_Disorder   \n",
              "13                 bone marrow failure  Disease_Syndrome_Disorder   \n",
              "14                     hospitalization        Admission_Discharge   \n",
              "15                              anemia  Disease_Syndrome_Disorder   \n",
              "16              bone marrow aspiration                  Procedure   \n",
              "17                              biopsy                  Procedure   \n",
              "18                              anemia  Disease_Syndrome_Disorder   \n",
              "19              fullness of the spleen                    Symptom   \n",
              "20                     hospitalization        Admission_Discharge   \n",
              "\n",
              "       assertion confidence  \n",
              "0         Absent        1.0  \n",
              "1           Past        1.0  \n",
              "2         Absent        1.0  \n",
              "3         Absent        1.0  \n",
              "4         Absent        1.0  \n",
              "5       Possible     0.9999  \n",
              "6        Present        1.0  \n",
              "7         Absent        1.0  \n",
              "8         Absent        1.0  \n",
              "9   Hypothetical     0.9758  \n",
              "10        Absent        1.0  \n",
              "11        Absent        1.0  \n",
              "12      Possible        1.0  \n",
              "13      Possible        1.0  \n",
              "14          Past     0.9999  \n",
              "15       Present        1.0  \n",
              "16       Planned        1.0  \n",
              "17       Planned        1.0  \n",
              "18  Hypothetical      0.999  \n",
              "19      Possible        1.0  \n",
              "20       Planned        1.0  "
            ],
            "text/html": [
              "\n",
              "  <div id=\"df-e2c6b4b1-f370-47ac-9bbf-8af6c0479fd3\">\n",
              "    <div class=\"colab-df-container\">\n",
              "      <div>\n",
              "<style scoped>\n",
              "    .dataframe tbody tr th:only-of-type {\n",
              "        vertical-align: middle;\n",
              "    }\n",
              "\n",
              "    .dataframe tbody tr th {\n",
              "        vertical-align: top;\n",
              "    }\n",
              "\n",
              "    .dataframe thead th {\n",
              "        text-align: right;\n",
              "    }\n",
              "</style>\n",
              "<table border=\"1\" class=\"dataframe\">\n",
              "  <thead>\n",
              "    <tr style=\"text-align: right;\">\n",
              "      <th></th>\n",
              "      <th>chunks</th>\n",
              "      <th>entities</th>\n",
              "      <th>assertion</th>\n",
              "      <th>confidence</th>\n",
              "    </tr>\n",
              "  </thead>\n",
              "  <tbody>\n",
              "    <tr>\n",
              "      <th>0</th>\n",
              "      <td>distress</td>\n",
              "      <td>Symptom</td>\n",
              "      <td>Absent</td>\n",
              "      <td>1.0</td>\n",
              "    </tr>\n",
              "    <tr>\n",
              "      <th>1</th>\n",
              "      <td>arcus senilis</td>\n",
              "      <td>Symptom</td>\n",
              "      <td>Past</td>\n",
              "      <td>1.0</td>\n",
              "    </tr>\n",
              "    <tr>\n",
              "      <th>2</th>\n",
              "      <td>jugular venous pressure distention</td>\n",
              "      <td>Symptom</td>\n",
              "      <td>Absent</td>\n",
              "      <td>1.0</td>\n",
              "    </tr>\n",
              "    <tr>\n",
              "      <th>3</th>\n",
              "      <td>adenopathy</td>\n",
              "      <td>Symptom</td>\n",
              "      <td>Absent</td>\n",
              "      <td>1.0</td>\n",
              "    </tr>\n",
              "    <tr>\n",
              "      <th>4</th>\n",
              "      <td>nontender</td>\n",
              "      <td>Symptom</td>\n",
              "      <td>Absent</td>\n",
              "      <td>1.0</td>\n",
              "    </tr>\n",
              "    <tr>\n",
              "      <th>5</th>\n",
              "      <td>fullness</td>\n",
              "      <td>Symptom</td>\n",
              "      <td>Possible</td>\n",
              "      <td>0.9999</td>\n",
              "    </tr>\n",
              "    <tr>\n",
              "      <th>6</th>\n",
              "      <td>edema</td>\n",
              "      <td>Symptom</td>\n",
              "      <td>Present</td>\n",
              "      <td>1.0</td>\n",
              "    </tr>\n",
              "    <tr>\n",
              "      <th>7</th>\n",
              "      <td>cyanosis</td>\n",
              "      <td>VS_Finding</td>\n",
              "      <td>Absent</td>\n",
              "      <td>1.0</td>\n",
              "    </tr>\n",
              "    <tr>\n",
              "      <th>8</th>\n",
              "      <td>clubbing</td>\n",
              "      <td>Symptom</td>\n",
              "      <td>Absent</td>\n",
              "      <td>1.0</td>\n",
              "    </tr>\n",
              "    <tr>\n",
              "      <th>9</th>\n",
              "      <td>anemia</td>\n",
              "      <td>Disease_Syndrome_Disorder</td>\n",
              "      <td>Hypothetical</td>\n",
              "      <td>0.9758</td>\n",
              "    </tr>\n",
              "    <tr>\n",
              "      <th>10</th>\n",
              "      <td>blood loss</td>\n",
              "      <td>Symptom</td>\n",
              "      <td>Absent</td>\n",
              "      <td>1.0</td>\n",
              "    </tr>\n",
              "    <tr>\n",
              "      <th>11</th>\n",
              "      <td>esophagogastroduodenoscopy</td>\n",
              "      <td>Procedure</td>\n",
              "      <td>Absent</td>\n",
              "      <td>1.0</td>\n",
              "    </tr>\n",
              "    <tr>\n",
              "      <th>12</th>\n",
              "      <td>myelodysplastic syndrome</td>\n",
              "      <td>Disease_Syndrome_Disorder</td>\n",
              "      <td>Possible</td>\n",
              "      <td>1.0</td>\n",
              "    </tr>\n",
              "    <tr>\n",
              "      <th>13</th>\n",
              "      <td>bone marrow failure</td>\n",
              "      <td>Disease_Syndrome_Disorder</td>\n",
              "      <td>Possible</td>\n",
              "      <td>1.0</td>\n",
              "    </tr>\n",
              "    <tr>\n",
              "      <th>14</th>\n",
              "      <td>hospitalization</td>\n",
              "      <td>Admission_Discharge</td>\n",
              "      <td>Past</td>\n",
              "      <td>0.9999</td>\n",
              "    </tr>\n",
              "    <tr>\n",
              "      <th>15</th>\n",
              "      <td>anemia</td>\n",
              "      <td>Disease_Syndrome_Disorder</td>\n",
              "      <td>Present</td>\n",
              "      <td>1.0</td>\n",
              "    </tr>\n",
              "    <tr>\n",
              "      <th>16</th>\n",
              "      <td>bone marrow aspiration</td>\n",
              "      <td>Procedure</td>\n",
              "      <td>Planned</td>\n",
              "      <td>1.0</td>\n",
              "    </tr>\n",
              "    <tr>\n",
              "      <th>17</th>\n",
              "      <td>biopsy</td>\n",
              "      <td>Procedure</td>\n",
              "      <td>Planned</td>\n",
              "      <td>1.0</td>\n",
              "    </tr>\n",
              "    <tr>\n",
              "      <th>18</th>\n",
              "      <td>anemia</td>\n",
              "      <td>Disease_Syndrome_Disorder</td>\n",
              "      <td>Hypothetical</td>\n",
              "      <td>0.999</td>\n",
              "    </tr>\n",
              "    <tr>\n",
              "      <th>19</th>\n",
              "      <td>fullness of the spleen</td>\n",
              "      <td>Symptom</td>\n",
              "      <td>Possible</td>\n",
              "      <td>1.0</td>\n",
              "    </tr>\n",
              "    <tr>\n",
              "      <th>20</th>\n",
              "      <td>hospitalization</td>\n",
              "      <td>Admission_Discharge</td>\n",
              "      <td>Planned</td>\n",
              "      <td>1.0</td>\n",
              "    </tr>\n",
              "  </tbody>\n",
              "</table>\n",
              "</div>\n",
              "      <button class=\"colab-df-convert\" onclick=\"convertToInteractive('df-e2c6b4b1-f370-47ac-9bbf-8af6c0479fd3')\"\n",
              "              title=\"Convert this dataframe to an interactive table.\"\n",
              "              style=\"display:none;\">\n",
              "        \n",
              "  <svg xmlns=\"http://www.w3.org/2000/svg\" height=\"24px\"viewBox=\"0 0 24 24\"\n",
              "       width=\"24px\">\n",
              "    <path d=\"M0 0h24v24H0V0z\" fill=\"none\"/>\n",
              "    <path d=\"M18.56 5.44l.94 2.06.94-2.06 2.06-.94-2.06-.94-.94-2.06-.94 2.06-2.06.94zm-11 1L8.5 8.5l.94-2.06 2.06-.94-2.06-.94L8.5 2.5l-.94 2.06-2.06.94zm10 10l.94 2.06.94-2.06 2.06-.94-2.06-.94-.94-2.06-.94 2.06-2.06.94z\"/><path d=\"M17.41 7.96l-1.37-1.37c-.4-.4-.92-.59-1.43-.59-.52 0-1.04.2-1.43.59L10.3 9.45l-7.72 7.72c-.78.78-.78 2.05 0 2.83L4 21.41c.39.39.9.59 1.41.59.51 0 1.02-.2 1.41-.59l7.78-7.78 2.81-2.81c.8-.78.8-2.07 0-2.86zM5.41 20L4 18.59l7.72-7.72 1.47 1.35L5.41 20z\"/>\n",
              "  </svg>\n",
              "      </button>\n",
              "      \n",
              "  <style>\n",
              "    .colab-df-container {\n",
              "      display:flex;\n",
              "      flex-wrap:wrap;\n",
              "      gap: 12px;\n",
              "    }\n",
              "\n",
              "    .colab-df-convert {\n",
              "      background-color: #E8F0FE;\n",
              "      border: none;\n",
              "      border-radius: 50%;\n",
              "      cursor: pointer;\n",
              "      display: none;\n",
              "      fill: #1967D2;\n",
              "      height: 32px;\n",
              "      padding: 0 0 0 0;\n",
              "      width: 32px;\n",
              "    }\n",
              "\n",
              "    .colab-df-convert:hover {\n",
              "      background-color: #E2EBFA;\n",
              "      box-shadow: 0px 1px 2px rgba(60, 64, 67, 0.3), 0px 1px 3px 1px rgba(60, 64, 67, 0.15);\n",
              "      fill: #174EA6;\n",
              "    }\n",
              "\n",
              "    [theme=dark] .colab-df-convert {\n",
              "      background-color: #3B4455;\n",
              "      fill: #D2E3FC;\n",
              "    }\n",
              "\n",
              "    [theme=dark] .colab-df-convert:hover {\n",
              "      background-color: #434B5C;\n",
              "      box-shadow: 0px 1px 3px 1px rgba(0, 0, 0, 0.15);\n",
              "      filter: drop-shadow(0px 1px 2px rgba(0, 0, 0, 0.3));\n",
              "      fill: #FFFFFF;\n",
              "    }\n",
              "  </style>\n",
              "\n",
              "      <script>\n",
              "        const buttonEl =\n",
              "          document.querySelector('#df-e2c6b4b1-f370-47ac-9bbf-8af6c0479fd3 button.colab-df-convert');\n",
              "        buttonEl.style.display =\n",
              "          google.colab.kernel.accessAllowed ? 'block' : 'none';\n",
              "\n",
              "        async function convertToInteractive(key) {\n",
              "          const element = document.querySelector('#df-e2c6b4b1-f370-47ac-9bbf-8af6c0479fd3');\n",
              "          const dataTable =\n",
              "            await google.colab.kernel.invokeFunction('convertToInteractive',\n",
              "                                                     [key], {});\n",
              "          if (!dataTable) return;\n",
              "\n",
              "          const docLinkHtml = 'Like what you see? Visit the ' +\n",
              "            '<a target=\"_blank\" href=https://colab.research.google.com/notebooks/data_table.ipynb>data table notebook</a>'\n",
              "            + ' to learn more about interactive tables.';\n",
              "          element.innerHTML = '';\n",
              "          dataTable['output_type'] = 'display_data';\n",
              "          await google.colab.output.renderOutput(dataTable, element);\n",
              "          const docLink = document.createElement('div');\n",
              "          docLink.innerHTML = docLinkHtml;\n",
              "          element.appendChild(docLink);\n",
              "        }\n",
              "      </script>\n",
              "    </div>\n",
              "  </div>\n",
              "  "
            ]
          },
          "metadata": {},
          "execution_count": 27
        }
      ]
    },
    {
      "cell_type": "code",
      "execution_count": 28,
      "metadata": {
        "colab": {
          "base_uri": "https://localhost:8080/",
          "height": 1000
        },
        "id": "_S4nrCllzSm_",
        "outputId": "452c007c-13b5-46f2-b9d1-51c7c81f0afb"
      },
      "outputs": [
        {
          "output_type": "display_data",
          "data": {
            "text/plain": [
              "<IPython.core.display.HTML object>"
            ],
            "text/html": [
              "\n",
              "<style>\n",
              "    @import url('https://fonts.googleapis.com/css2?family=Montserrat:wght@300;400;500;600;700&display=swap');\n",
              "    @import url('https://fonts.googleapis.com/css2?family=Vistol Regular:wght@300;400;500;600;700&display=swap');\n",
              "    \n",
              "    .spark-nlp-display-scroll-entities {\n",
              "        border: 1px solid #E7EDF0;\n",
              "        border-radius: 3px;\n",
              "        text-align: justify;\n",
              "        \n",
              "    }\n",
              "    .spark-nlp-display-scroll-entities span {  \n",
              "        font-size: 14px;\n",
              "        line-height: 24px;\n",
              "        color: #536B76;\n",
              "        font-family: 'Montserrat', sans-serif !important;\n",
              "    }\n",
              "    \n",
              "    .spark-nlp-display-entity-wrapper{\n",
              "    \n",
              "        display: inline-grid;\n",
              "        text-align: center;\n",
              "        border-radius: 4px;\n",
              "        margin: 0 2px 5px 2px;\n",
              "        padding: 1px\n",
              "    }\n",
              "    .spark-nlp-display-entity-name{\n",
              "        font-size: 14px;\n",
              "        line-height: 24px;\n",
              "        font-family: 'Montserrat', sans-serif !important;\n",
              "        \n",
              "        background: #f1f2f3;\n",
              "        border-width: medium;\n",
              "        text-align: center;\n",
              "        \n",
              "        font-weight: 400;\n",
              "        \n",
              "        border-radius: 5px;\n",
              "        padding: 2px 5px;\n",
              "        display: block;\n",
              "        margin: 3px 2px;\n",
              "    \n",
              "    }\n",
              "    .spark-nlp-display-entity-type{\n",
              "        font-size: 14px;\n",
              "        line-height: 24px;\n",
              "        color: #ffffff;\n",
              "        font-family: 'Montserrat', sans-serif !important;\n",
              "        \n",
              "        text-transform: uppercase;\n",
              "        \n",
              "        font-weight: 500;\n",
              "\n",
              "        display: block;\n",
              "        padding: 3px 5px;\n",
              "    }\n",
              "    \n",
              "    .spark-nlp-display-entity-resolution{\n",
              "        font-size: 14px;\n",
              "        line-height: 24px;\n",
              "        color: #ffffff;\n",
              "        font-family: 'Vistol Regular', sans-serif !important;\n",
              "        \n",
              "        text-transform: uppercase;\n",
              "        \n",
              "        font-weight: 500;\n",
              "\n",
              "        display: block;\n",
              "        padding: 3px 5px;\n",
              "    }\n",
              "    \n",
              "    .spark-nlp-display-others{\n",
              "        font-size: 14px;\n",
              "        line-height: 24px;\n",
              "        font-family: 'Montserrat', sans-serif !important;\n",
              "        \n",
              "        font-weight: 400;\n",
              "    }\n",
              "\n",
              "</style>\n",
              " <span class=\"spark-nlp-display-others\" style=\"background-color: white\"><br>GENERAL: He is an elderly gentleman in no acute </span><span class=\"spark-nlp-display-entity-wrapper\" style=\"background-color: #38C188B3\"><span class=\"spark-nlp-display-entity-name\">distress </span><span class=\"spark-nlp-display-entity-type\">Symptom</span><span class=\"spark-nlp-display-entity-resolution\" style=\"background-color: #38C188FF\">Absent </span></span><span class=\"spark-nlp-display-others\" style=\"background-color: white\">. He is sitting up in bed eating his breakfast. He is alert and oriented and answering questions appropriately.<br>HEENT: Sclerae show mild </span><span class=\"spark-nlp-display-entity-wrapper\" style=\"background-color: #38C188B3\"><span class=\"spark-nlp-display-entity-name\">arcus senilis </span><span class=\"spark-nlp-display-entity-type\">Symptom</span><span class=\"spark-nlp-display-entity-resolution\" style=\"background-color: #38C188FF\">Past </span></span><span class=\"spark-nlp-display-others\" style=\"background-color: white\"> in the right. Left is clear. Pupils are equally round and reactive to light. Extraocular movements are intact. Oropharynx is clear.<br>NECK: Supple. Trachea is midline. No </span><span class=\"spark-nlp-display-entity-wrapper\" style=\"background-color: #38C188B3\"><span class=\"spark-nlp-display-entity-name\">jugular venous pressure distention </span><span class=\"spark-nlp-display-entity-type\">Symptom</span><span class=\"spark-nlp-display-entity-resolution\" style=\"background-color: #38C188FF\">Absent </span></span><span class=\"spark-nlp-display-others\" style=\"background-color: white\"> is noted. No </span><span class=\"spark-nlp-display-entity-wrapper\" style=\"background-color: #38C188B3\"><span class=\"spark-nlp-display-entity-name\">adenopathy </span><span class=\"spark-nlp-display-entity-type\">Symptom</span><span class=\"spark-nlp-display-entity-resolution\" style=\"background-color: #38C188FF\">Absent </span></span><span class=\"spark-nlp-display-others\" style=\"background-color: white\"> in the cervical, supraclavicular, or axillary areas.<br>ABDOMEN: Soft and </span><span class=\"spark-nlp-display-entity-wrapper\" style=\"background-color: #38C188B3\"><span class=\"spark-nlp-display-entity-name\">nontender </span><span class=\"spark-nlp-display-entity-type\">Symptom</span><span class=\"spark-nlp-display-entity-resolution\" style=\"background-color: #38C188FF\">Absent </span></span><span class=\"spark-nlp-display-others\" style=\"background-color: white\">. There may be some </span><span class=\"spark-nlp-display-entity-wrapper\" style=\"background-color: #38C188B3\"><span class=\"spark-nlp-display-entity-name\">fullness </span><span class=\"spark-nlp-display-entity-type\">Symptom</span><span class=\"spark-nlp-display-entity-resolution\" style=\"background-color: #38C188FF\">Possible </span></span><span class=\"spark-nlp-display-others\" style=\"background-color: white\"> in the left upper quadrant, although I do not appreciate a true spleen with inspiration.<br>EXTREMITIES: There is some </span><span class=\"spark-nlp-display-entity-wrapper\" style=\"background-color: #38C188B3\"><span class=\"spark-nlp-display-entity-name\">edema </span><span class=\"spark-nlp-display-entity-type\">Symptom</span><span class=\"spark-nlp-display-entity-resolution\" style=\"background-color: #38C188FF\">Present </span></span><span class=\"spark-nlp-display-others\" style=\"background-color: white\">, but no </span><span class=\"spark-nlp-display-entity-wrapper\" style=\"background-color: #98B38AB3\"><span class=\"spark-nlp-display-entity-name\">cyanosis </span><span class=\"spark-nlp-display-entity-type\">VS_Finding</span><span class=\"spark-nlp-display-entity-resolution\" style=\"background-color: #98B38AFF\">Absent </span></span><span class=\"spark-nlp-display-others\" style=\"background-color: white\"> and </span><span class=\"spark-nlp-display-entity-wrapper\" style=\"background-color: #38C188B3\"><span class=\"spark-nlp-display-entity-name\">clubbing </span><span class=\"spark-nlp-display-entity-type\">Symptom</span><span class=\"spark-nlp-display-entity-resolution\" style=\"background-color: #38C188FF\">Absent </span></span><span class=\"spark-nlp-display-others\" style=\"background-color: white\"> .<br>IMPRESSION: At this time is refractory </span><span class=\"spark-nlp-display-entity-wrapper\" style=\"background-color: #3AAC70B3\"><span class=\"spark-nlp-display-entity-name\">anemia </span><span class=\"spark-nlp-display-entity-type\">Disease_Syndrome_Disorder</span><span class=\"spark-nlp-display-entity-resolution\" style=\"background-color: #3AAC70FF\">Hypothetical </span></span><span class=\"spark-nlp-display-others\" style=\"background-color: white\">, which is transfusion dependent. He is on B12, iron, folic acid, and Procrit. There are no sign or symptom of </span><span class=\"spark-nlp-display-entity-wrapper\" style=\"background-color: #38C188B3\"><span class=\"spark-nlp-display-entity-name\">blood loss </span><span class=\"spark-nlp-display-entity-type\">Symptom</span><span class=\"spark-nlp-display-entity-resolution\" style=\"background-color: #38C188FF\">Absent </span></span><span class=\"spark-nlp-display-others\" style=\"background-color: white\"> and a recent </span><span class=\"spark-nlp-display-entity-wrapper\" style=\"background-color: #B22BACB3\"><span class=\"spark-nlp-display-entity-name\">esophagogastroduodenoscopy </span><span class=\"spark-nlp-display-entity-type\">Procedure</span><span class=\"spark-nlp-display-entity-resolution\" style=\"background-color: #B22BACFF\">Absent </span></span><span class=\"spark-nlp-display-others\" style=\"background-color: white\">, which was negative. His creatinine was 1. <br>  My impression at this time is that he probably has an underlying </span><span class=\"spark-nlp-display-entity-wrapper\" style=\"background-color: #3AAC70B3\"><span class=\"spark-nlp-display-entity-name\">myelodysplastic syndrome </span><span class=\"spark-nlp-display-entity-type\">Disease_Syndrome_Disorder</span><span class=\"spark-nlp-display-entity-resolution\" style=\"background-color: #3AAC70FF\">Possible </span></span><span class=\"spark-nlp-display-others\" style=\"background-color: white\"> or </span><span class=\"spark-nlp-display-entity-wrapper\" style=\"background-color: #3AAC70B3\"><span class=\"spark-nlp-display-entity-name\">bone marrow failure </span><span class=\"spark-nlp-display-entity-type\">Disease_Syndrome_Disorder</span><span class=\"spark-nlp-display-entity-resolution\" style=\"background-color: #3AAC70FF\">Possible </span></span><span class=\"spark-nlp-display-others\" style=\"background-color: white\">. His creatinine on this </span><span class=\"spark-nlp-display-entity-wrapper\" style=\"background-color: #9D8010B3\"><span class=\"spark-nlp-display-entity-name\">hospitalization </span><span class=\"spark-nlp-display-entity-type\">Admission_Discharge</span><span class=\"spark-nlp-display-entity-resolution\" style=\"background-color: #9D8010FF\">Past </span></span><span class=\"spark-nlp-display-others\" style=\"background-color: white\"> was up slightly to 1.6 and this may contribute to his </span><span class=\"spark-nlp-display-entity-wrapper\" style=\"background-color: #3AAC70B3\"><span class=\"spark-nlp-display-entity-name\">anemia </span><span class=\"spark-nlp-display-entity-type\">Disease_Syndrome_Disorder</span><span class=\"spark-nlp-display-entity-resolution\" style=\"background-color: #3AAC70FF\">Present </span></span><span class=\"spark-nlp-display-others\" style=\"background-color: white\">.<br>  At this time, my recommendation for the patient is that he undergoes further serologic evaluation with reticulocyte count, serum protein, and electrophoresis, LDH, B12, folate, erythropoietin level, and he should undergo a </span><span class=\"spark-nlp-display-entity-wrapper\" style=\"background-color: #B22BACB3\"><span class=\"spark-nlp-display-entity-name\">bone marrow aspiration </span><span class=\"spark-nlp-display-entity-type\">Procedure</span><span class=\"spark-nlp-display-entity-resolution\" style=\"background-color: #B22BACFF\">Planned </span></span><span class=\"spark-nlp-display-others\" style=\"background-color: white\"> and </span><span class=\"spark-nlp-display-entity-wrapper\" style=\"background-color: #B22BACB3\"><span class=\"spark-nlp-display-entity-name\">biopsy </span><span class=\"spark-nlp-display-entity-type\">Procedure</span><span class=\"spark-nlp-display-entity-resolution\" style=\"background-color: #B22BACFF\">Planned </span></span><span class=\"spark-nlp-display-others\" style=\"background-color: white\">. <br>  I have discussed the procedure in detail which the patient. I have discussed the risks, benefits, and successes of that treatment and usefulness of the bone marrow and predicting his cause of refractory </span><span class=\"spark-nlp-display-entity-wrapper\" style=\"background-color: #3AAC70B3\"><span class=\"spark-nlp-display-entity-name\">anemia </span><span class=\"spark-nlp-display-entity-type\">Disease_Syndrome_Disorder</span><span class=\"spark-nlp-display-entity-resolution\" style=\"background-color: #3AAC70FF\">Hypothetical </span></span><span class=\"spark-nlp-display-others\" style=\"background-color: white\"> and further therapeutic interventions, which might be beneficial to him. <br>  He is willing to proceed with the studies I have described to him. We will order an ultrasound of his abdomen because of the possible </span><span class=\"spark-nlp-display-entity-wrapper\" style=\"background-color: #38C188B3\"><span class=\"spark-nlp-display-entity-name\">fullness of the spleen </span><span class=\"spark-nlp-display-entity-type\">Symptom</span><span class=\"spark-nlp-display-entity-resolution\" style=\"background-color: #38C188FF\">Possible </span></span><span class=\"spark-nlp-display-others\" style=\"background-color: white\">, and I will probably see him in follow up after this </span><span class=\"spark-nlp-display-entity-wrapper\" style=\"background-color: #9D8010B3\"><span class=\"spark-nlp-display-entity-name\">hospitalization </span><span class=\"spark-nlp-display-entity-type\">Admission_Discharge</span><span class=\"spark-nlp-display-entity-resolution\" style=\"background-color: #9D8010FF\">Planned </span></span><span class=\"spark-nlp-display-others\" style=\"background-color: white\">.<br>  As always, we greatly appreciate being able to participate in the care of your patient. We appreciate the consultation of the patient. <br></span></div>"
            ]
          },
          "metadata": {}
        }
      ],
      "source": [
        "light_model = LightPipeline(model)\n",
        "\n",
        "light_result = light_model.fullAnnotate(text)[0]\n",
        "\n",
        "from sparknlp_display import AssertionVisualizer\n",
        "\n",
        "vis = AssertionVisualizer()\n",
        "\n",
        "vis.set_label_colors({'TEST':'#008080', 'PROBLEM':'#800080'})\n",
        "\n",
        "vis.display(light_result, 'ner_chunk', 'assertion')"
      ]
    },
    {
      "cell_type": "code",
      "source": [
        "nlu.to_pretty_df(model,text,output_level='chunk').columns"
      ],
      "metadata": {
        "id": "ofNgYFb6a5Mp",
        "outputId": "ffeb9f4b-1259-4a8e-cb37-77e7c174aa65",
        "colab": {
          "base_uri": "https://localhost:8080/"
        }
      },
      "execution_count": 29,
      "outputs": [
        {
          "output_type": "execute_result",
          "data": {
            "text/plain": [
              "Index(['assertion', 'assertion_confidence', 'document', 'entities_ner_chunk',\n",
              "       'entities_ner_chunk_class', 'entities_ner_chunk_confidence',\n",
              "       'entities_ner_chunk_origin_chunk', 'entities_ner_chunk_origin_sentence',\n",
              "       'sentence_pragmatic', 'word_embedding_embeddings'],\n",
              "      dtype='object')"
            ]
          },
          "metadata": {},
          "execution_count": 29
        }
      ]
    },
    {
      "cell_type": "code",
      "source": [
        "cols = [\n",
        "     'entities_ner_chunk',\n",
        "     'entities_ner_chunk_class', \n",
        "     'assertion',\n",
        "     'assertion_confidence']\n",
        "     \n",
        "df = nlu.to_pretty_df(model,text,output_level='chunk')[cols].reset_index(drop=True)\n",
        "df\n"
      ],
      "metadata": {
        "id": "xzHYs1ipa752",
        "outputId": "dba496c0-df1f-4789-c6fb-010553759d2b",
        "colab": {
          "base_uri": "https://localhost:8080/",
          "height": 708
        }
      },
      "execution_count": 30,
      "outputs": [
        {
          "output_type": "execute_result",
          "data": {
            "text/plain": [
              "                    entities_ner_chunk   entities_ner_chunk_class  \\\n",
              "0                             distress                    Symptom   \n",
              "1                        arcus senilis                    Symptom   \n",
              "2   jugular venous pressure distention                    Symptom   \n",
              "3                           adenopathy                    Symptom   \n",
              "4                            nontender                    Symptom   \n",
              "5                             fullness                    Symptom   \n",
              "6                                edema                    Symptom   \n",
              "7                             cyanosis                 VS_Finding   \n",
              "8                             clubbing                    Symptom   \n",
              "9                               anemia  Disease_Syndrome_Disorder   \n",
              "10                          blood loss                    Symptom   \n",
              "11          esophagogastroduodenoscopy                  Procedure   \n",
              "12            myelodysplastic syndrome  Disease_Syndrome_Disorder   \n",
              "13                 bone marrow failure  Disease_Syndrome_Disorder   \n",
              "14                     hospitalization        Admission_Discharge   \n",
              "15                              anemia  Disease_Syndrome_Disorder   \n",
              "16              bone marrow aspiration                  Procedure   \n",
              "17                              biopsy                  Procedure   \n",
              "18                              anemia  Disease_Syndrome_Disorder   \n",
              "19              fullness of the spleen                    Symptom   \n",
              "20                     hospitalization        Admission_Discharge   \n",
              "\n",
              "       assertion assertion_confidence  \n",
              "0         Absent                  1.0  \n",
              "1           Past                  1.0  \n",
              "2         Absent                  1.0  \n",
              "3         Absent                  1.0  \n",
              "4         Absent                  1.0  \n",
              "5       Possible               0.9999  \n",
              "6        Present                  1.0  \n",
              "7         Absent                  1.0  \n",
              "8         Absent                  1.0  \n",
              "9   Hypothetical               0.9758  \n",
              "10        Absent                  1.0  \n",
              "11        Absent                  1.0  \n",
              "12      Possible                  1.0  \n",
              "13      Possible                  1.0  \n",
              "14          Past               0.9999  \n",
              "15       Present                  1.0  \n",
              "16       Planned                  1.0  \n",
              "17       Planned                  1.0  \n",
              "18  Hypothetical                0.999  \n",
              "19      Possible                  1.0  \n",
              "20       Planned                  1.0  "
            ],
            "text/html": [
              "\n",
              "  <div id=\"df-45471c9f-9475-4da3-a291-341d387cd823\">\n",
              "    <div class=\"colab-df-container\">\n",
              "      <div>\n",
              "<style scoped>\n",
              "    .dataframe tbody tr th:only-of-type {\n",
              "        vertical-align: middle;\n",
              "    }\n",
              "\n",
              "    .dataframe tbody tr th {\n",
              "        vertical-align: top;\n",
              "    }\n",
              "\n",
              "    .dataframe thead th {\n",
              "        text-align: right;\n",
              "    }\n",
              "</style>\n",
              "<table border=\"1\" class=\"dataframe\">\n",
              "  <thead>\n",
              "    <tr style=\"text-align: right;\">\n",
              "      <th></th>\n",
              "      <th>entities_ner_chunk</th>\n",
              "      <th>entities_ner_chunk_class</th>\n",
              "      <th>assertion</th>\n",
              "      <th>assertion_confidence</th>\n",
              "    </tr>\n",
              "  </thead>\n",
              "  <tbody>\n",
              "    <tr>\n",
              "      <th>0</th>\n",
              "      <td>distress</td>\n",
              "      <td>Symptom</td>\n",
              "      <td>Absent</td>\n",
              "      <td>1.0</td>\n",
              "    </tr>\n",
              "    <tr>\n",
              "      <th>1</th>\n",
              "      <td>arcus senilis</td>\n",
              "      <td>Symptom</td>\n",
              "      <td>Past</td>\n",
              "      <td>1.0</td>\n",
              "    </tr>\n",
              "    <tr>\n",
              "      <th>2</th>\n",
              "      <td>jugular venous pressure distention</td>\n",
              "      <td>Symptom</td>\n",
              "      <td>Absent</td>\n",
              "      <td>1.0</td>\n",
              "    </tr>\n",
              "    <tr>\n",
              "      <th>3</th>\n",
              "      <td>adenopathy</td>\n",
              "      <td>Symptom</td>\n",
              "      <td>Absent</td>\n",
              "      <td>1.0</td>\n",
              "    </tr>\n",
              "    <tr>\n",
              "      <th>4</th>\n",
              "      <td>nontender</td>\n",
              "      <td>Symptom</td>\n",
              "      <td>Absent</td>\n",
              "      <td>1.0</td>\n",
              "    </tr>\n",
              "    <tr>\n",
              "      <th>5</th>\n",
              "      <td>fullness</td>\n",
              "      <td>Symptom</td>\n",
              "      <td>Possible</td>\n",
              "      <td>0.9999</td>\n",
              "    </tr>\n",
              "    <tr>\n",
              "      <th>6</th>\n",
              "      <td>edema</td>\n",
              "      <td>Symptom</td>\n",
              "      <td>Present</td>\n",
              "      <td>1.0</td>\n",
              "    </tr>\n",
              "    <tr>\n",
              "      <th>7</th>\n",
              "      <td>cyanosis</td>\n",
              "      <td>VS_Finding</td>\n",
              "      <td>Absent</td>\n",
              "      <td>1.0</td>\n",
              "    </tr>\n",
              "    <tr>\n",
              "      <th>8</th>\n",
              "      <td>clubbing</td>\n",
              "      <td>Symptom</td>\n",
              "      <td>Absent</td>\n",
              "      <td>1.0</td>\n",
              "    </tr>\n",
              "    <tr>\n",
              "      <th>9</th>\n",
              "      <td>anemia</td>\n",
              "      <td>Disease_Syndrome_Disorder</td>\n",
              "      <td>Hypothetical</td>\n",
              "      <td>0.9758</td>\n",
              "    </tr>\n",
              "    <tr>\n",
              "      <th>10</th>\n",
              "      <td>blood loss</td>\n",
              "      <td>Symptom</td>\n",
              "      <td>Absent</td>\n",
              "      <td>1.0</td>\n",
              "    </tr>\n",
              "    <tr>\n",
              "      <th>11</th>\n",
              "      <td>esophagogastroduodenoscopy</td>\n",
              "      <td>Procedure</td>\n",
              "      <td>Absent</td>\n",
              "      <td>1.0</td>\n",
              "    </tr>\n",
              "    <tr>\n",
              "      <th>12</th>\n",
              "      <td>myelodysplastic syndrome</td>\n",
              "      <td>Disease_Syndrome_Disorder</td>\n",
              "      <td>Possible</td>\n",
              "      <td>1.0</td>\n",
              "    </tr>\n",
              "    <tr>\n",
              "      <th>13</th>\n",
              "      <td>bone marrow failure</td>\n",
              "      <td>Disease_Syndrome_Disorder</td>\n",
              "      <td>Possible</td>\n",
              "      <td>1.0</td>\n",
              "    </tr>\n",
              "    <tr>\n",
              "      <th>14</th>\n",
              "      <td>hospitalization</td>\n",
              "      <td>Admission_Discharge</td>\n",
              "      <td>Past</td>\n",
              "      <td>0.9999</td>\n",
              "    </tr>\n",
              "    <tr>\n",
              "      <th>15</th>\n",
              "      <td>anemia</td>\n",
              "      <td>Disease_Syndrome_Disorder</td>\n",
              "      <td>Present</td>\n",
              "      <td>1.0</td>\n",
              "    </tr>\n",
              "    <tr>\n",
              "      <th>16</th>\n",
              "      <td>bone marrow aspiration</td>\n",
              "      <td>Procedure</td>\n",
              "      <td>Planned</td>\n",
              "      <td>1.0</td>\n",
              "    </tr>\n",
              "    <tr>\n",
              "      <th>17</th>\n",
              "      <td>biopsy</td>\n",
              "      <td>Procedure</td>\n",
              "      <td>Planned</td>\n",
              "      <td>1.0</td>\n",
              "    </tr>\n",
              "    <tr>\n",
              "      <th>18</th>\n",
              "      <td>anemia</td>\n",
              "      <td>Disease_Syndrome_Disorder</td>\n",
              "      <td>Hypothetical</td>\n",
              "      <td>0.999</td>\n",
              "    </tr>\n",
              "    <tr>\n",
              "      <th>19</th>\n",
              "      <td>fullness of the spleen</td>\n",
              "      <td>Symptom</td>\n",
              "      <td>Possible</td>\n",
              "      <td>1.0</td>\n",
              "    </tr>\n",
              "    <tr>\n",
              "      <th>20</th>\n",
              "      <td>hospitalization</td>\n",
              "      <td>Admission_Discharge</td>\n",
              "      <td>Planned</td>\n",
              "      <td>1.0</td>\n",
              "    </tr>\n",
              "  </tbody>\n",
              "</table>\n",
              "</div>\n",
              "      <button class=\"colab-df-convert\" onclick=\"convertToInteractive('df-45471c9f-9475-4da3-a291-341d387cd823')\"\n",
              "              title=\"Convert this dataframe to an interactive table.\"\n",
              "              style=\"display:none;\">\n",
              "        \n",
              "  <svg xmlns=\"http://www.w3.org/2000/svg\" height=\"24px\"viewBox=\"0 0 24 24\"\n",
              "       width=\"24px\">\n",
              "    <path d=\"M0 0h24v24H0V0z\" fill=\"none\"/>\n",
              "    <path d=\"M18.56 5.44l.94 2.06.94-2.06 2.06-.94-2.06-.94-.94-2.06-.94 2.06-2.06.94zm-11 1L8.5 8.5l.94-2.06 2.06-.94-2.06-.94L8.5 2.5l-.94 2.06-2.06.94zm10 10l.94 2.06.94-2.06 2.06-.94-2.06-.94-.94-2.06-.94 2.06-2.06.94z\"/><path d=\"M17.41 7.96l-1.37-1.37c-.4-.4-.92-.59-1.43-.59-.52 0-1.04.2-1.43.59L10.3 9.45l-7.72 7.72c-.78.78-.78 2.05 0 2.83L4 21.41c.39.39.9.59 1.41.59.51 0 1.02-.2 1.41-.59l7.78-7.78 2.81-2.81c.8-.78.8-2.07 0-2.86zM5.41 20L4 18.59l7.72-7.72 1.47 1.35L5.41 20z\"/>\n",
              "  </svg>\n",
              "      </button>\n",
              "      \n",
              "  <style>\n",
              "    .colab-df-container {\n",
              "      display:flex;\n",
              "      flex-wrap:wrap;\n",
              "      gap: 12px;\n",
              "    }\n",
              "\n",
              "    .colab-df-convert {\n",
              "      background-color: #E8F0FE;\n",
              "      border: none;\n",
              "      border-radius: 50%;\n",
              "      cursor: pointer;\n",
              "      display: none;\n",
              "      fill: #1967D2;\n",
              "      height: 32px;\n",
              "      padding: 0 0 0 0;\n",
              "      width: 32px;\n",
              "    }\n",
              "\n",
              "    .colab-df-convert:hover {\n",
              "      background-color: #E2EBFA;\n",
              "      box-shadow: 0px 1px 2px rgba(60, 64, 67, 0.3), 0px 1px 3px 1px rgba(60, 64, 67, 0.15);\n",
              "      fill: #174EA6;\n",
              "    }\n",
              "\n",
              "    [theme=dark] .colab-df-convert {\n",
              "      background-color: #3B4455;\n",
              "      fill: #D2E3FC;\n",
              "    }\n",
              "\n",
              "    [theme=dark] .colab-df-convert:hover {\n",
              "      background-color: #434B5C;\n",
              "      box-shadow: 0px 1px 3px 1px rgba(0, 0, 0, 0.15);\n",
              "      filter: drop-shadow(0px 1px 2px rgba(0, 0, 0, 0.3));\n",
              "      fill: #FFFFFF;\n",
              "    }\n",
              "  </style>\n",
              "\n",
              "      <script>\n",
              "        const buttonEl =\n",
              "          document.querySelector('#df-45471c9f-9475-4da3-a291-341d387cd823 button.colab-df-convert');\n",
              "        buttonEl.style.display =\n",
              "          google.colab.kernel.accessAllowed ? 'block' : 'none';\n",
              "\n",
              "        async function convertToInteractive(key) {\n",
              "          const element = document.querySelector('#df-45471c9f-9475-4da3-a291-341d387cd823');\n",
              "          const dataTable =\n",
              "            await google.colab.kernel.invokeFunction('convertToInteractive',\n",
              "                                                     [key], {});\n",
              "          if (!dataTable) return;\n",
              "\n",
              "          const docLinkHtml = 'Like what you see? Visit the ' +\n",
              "            '<a target=\"_blank\" href=https://colab.research.google.com/notebooks/data_table.ipynb>data table notebook</a>'\n",
              "            + ' to learn more about interactive tables.';\n",
              "          element.innerHTML = '';\n",
              "          dataTable['output_type'] = 'display_data';\n",
              "          await google.colab.output.renderOutput(dataTable, element);\n",
              "          const docLink = document.createElement('div');\n",
              "          docLink.innerHTML = docLinkHtml;\n",
              "          element.appendChild(docLink);\n",
              "        }\n",
              "      </script>\n",
              "    </div>\n",
              "  </div>\n",
              "  "
            ]
          },
          "metadata": {},
          "execution_count": 30
        }
      ]
    },
    {
      "cell_type": "code",
      "execution_count": 31,
      "metadata": {
        "id": "OP0I7ELJ0his"
      },
      "outputs": [],
      "source": [
        "# Downloading sample datasets.\n",
        "! wget -q https://raw.githubusercontent.com/JohnSnowLabs/spark-nlp-workshop/master/tutorials/Certification_Trainings/Healthcare/data/mt_samples_10.csv"
      ]
    },
    {
      "cell_type": "code",
      "source": [
        "mt_samples_df = spark.createDataFrame(pd.read_csv(\"/content/mt_samples_10.csv\", sep=',', index_col=[\"index\"]).reset_index())\n",
        "                \n",
        "mt_samples_df.printSchema()"
      ],
      "metadata": {
        "id": "WJcaCtUvbC3H",
        "outputId": "e7b77d35-1ee6-4c12-9990-4bb15ed31e34",
        "colab": {
          "base_uri": "https://localhost:8080/"
        }
      },
      "execution_count": 32,
      "outputs": [
        {
          "output_type": "stream",
          "name": "stdout",
          "text": [
            "root\n",
            " |-- index: long (nullable = true)\n",
            " |-- text: string (nullable = true)\n",
            "\n"
          ]
        }
      ]
    },
    {
      "cell_type": "code",
      "source": [
        "mt_samples_df.show()"
      ],
      "metadata": {
        "id": "UFGHwBSxbDIp",
        "outputId": "f81315e5-a75d-4a16-9c49-ba8a6d009a4e",
        "colab": {
          "base_uri": "https://localhost:8080/"
        }
      },
      "execution_count": 33,
      "outputs": [
        {
          "output_type": "stream",
          "name": "stdout",
          "text": [
            "+-----+--------------------+\n",
            "|index|                text|\n",
            "+-----+--------------------+\n",
            "|    0|Sample Type / Med...|\n",
            "|    1|Sample Type / Med...|\n",
            "|    2|Sample Type / Med...|\n",
            "|    3|Sample Type / Med...|\n",
            "|    4|Sample Type / Med...|\n",
            "|    5|Sample Type / Med...|\n",
            "|    6|Sample Type / Med...|\n",
            "|    7|Sample Type / Med...|\n",
            "|    8|Sample Type / Med...|\n",
            "|    9|Sample Type / Med...|\n",
            "+-----+--------------------+\n",
            "\n"
          ]
        }
      ]
    },
    {
      "cell_type": "code",
      "source": [
        "result = model.transform(mt_samples_df)"
      ],
      "metadata": {
        "id": "zZqaQYV8bIRl"
      },
      "execution_count": 34,
      "outputs": []
    },
    {
      "cell_type": "code",
      "source": [
        "result.show()"
      ],
      "metadata": {
        "id": "qF9NT4LXbIsY",
        "outputId": "b2e3a27a-f908-4fcb-81b3-bc58d41efe4e",
        "colab": {
          "base_uri": "https://localhost:8080/"
        }
      },
      "execution_count": 35,
      "outputs": [
        {
          "output_type": "stream",
          "name": "stdout",
          "text": [
            "+-----+--------------------+--------------------+--------------------+--------------------+--------------------+--------------------+--------------------+--------------------+\n",
            "|index|                text|            document|            sentence|               token|          embeddings|                 ner|           ner_chunk|           assertion|\n",
            "+-----+--------------------+--------------------+--------------------+--------------------+--------------------+--------------------+--------------------+--------------------+\n",
            "|    0|Sample Type / Med...|[{document, 0, 54...|[{document, 0, 24...|[{token, 0, 5, Sa...|[{word_embeddings...|[{named_entity, 0...|[{chunk, 68, 76, ...|[{assertion, 68, ...|\n",
            "|    1|Sample Type / Med...|[{document, 0, 32...|[{document, 0, 26...|[{token, 0, 5, Sa...|[{word_embeddings...|[{named_entity, 0...|[{chunk, 68, 80, ...|[{assertion, 68, ...|\n",
            "|    2|Sample Type / Med...|[{document, 0, 42...|[{document, 0, 14...|[{token, 0, 5, Sa...|[{word_embeddings...|[{named_entity, 0...|[{chunk, 68, 73, ...|[{assertion, 68, ...|\n",
            "|    3|Sample Type / Med...|[{document, 0, 20...|[{document, 0, 29...|[{token, 0, 5, Sa...|[{word_embeddings...|[{named_entity, 0...|                  []|                  []|\n",
            "|    4|Sample Type / Med...|[{document, 0, 34...|[{document, 0, 11...|[{token, 0, 5, Sa...|[{word_embeddings...|[{named_entity, 0...|[{chunk, 102, 116...|[{assertion, 102,...|\n",
            "|    5|Sample Type / Med...|[{document, 0, 15...|[{document, 0, 28...|[{token, 0, 5, Sa...|[{word_embeddings...|[{named_entity, 0...|[{chunk, 1399, 14...|[{assertion, 1399...|\n",
            "|    6|Sample Type / Med...|[{document, 0, 25...|[{document, 0, 15...|[{token, 0, 5, Sa...|[{word_embeddings...|[{named_entity, 0...|[{chunk, 68, 73, ...|[{assertion, 68, ...|\n",
            "|    7|Sample Type / Med...|[{document, 0, 93...|[{document, 0, 19...|[{token, 0, 5, Sa...|[{word_embeddings...|[{named_entity, 0...|[{chunk, 1063, 10...|[{assertion, 1063...|\n",
            "|    8|Sample Type / Med...|[{document, 0, 20...|[{document, 0, 15...|[{token, 0, 5, Sa...|[{word_embeddings...|[{named_entity, 0...|[{chunk, 1019, 10...|[{assertion, 1019...|\n",
            "|    9|Sample Type / Med...|[{document, 0, 19...|[{document, 0, 15...|[{token, 0, 5, Sa...|[{word_embeddings...|[{named_entity, 0...|[{chunk, 68, 95, ...|[{assertion, 68, ...|\n",
            "+-----+--------------------+--------------------+--------------------+--------------------+--------------------+--------------------+--------------------+--------------------+\n",
            "\n"
          ]
        }
      ]
    },
    {
      "cell_type": "code",
      "source": [
        "result.select('sentence.result').take(1)"
      ],
      "metadata": {
        "id": "uFpsLxGCbMNc",
        "outputId": "636fe9ad-4f7c-4fbb-bb43-0ed47263701a",
        "colab": {
          "base_uri": "https://localhost:8080/"
        }
      },
      "execution_count": 36,
      "outputs": [
        {
          "output_type": "execute_result",
          "data": {
            "text/plain": [
              "[Row(result=['Sample Type / Medical Specialty:\\nHematology - Oncology\\nSample Name:\\nDischarge Summary - Mesothelioma - 1\\nDescription:\\nMesothelioma, pleural effusion, atrial fibrillation, anemia, ascites, esophageal reflux, and history of deep venous thrombosis.', '(Medical Transcription Sample Report)\\nPRINCIPAL DIAGNOSIS:\\nMesothelioma.', 'SECONDARY DIAGNOSES:\\nPleural effusion, atrial fibrillation, anemia, ascites, esophageal reflux, and history of deep venous thrombosis.', 'PROCEDURES', '1. On August 24, 2007, decortication of the lung with pleural biopsy and transpleural fluoroscopy.', '2. On August 20, 2007, thoracentesis.', '3. On August 31, 2007, Port-A-Cath placement.', 'HISTORY AND PHYSICAL:\\nThe patient is a 41-year-old Vietnamese female with a nonproductive cough that started last week.', 'She has had right-sided chest pain radiating to her back with fever starting yesterday.', 'She has a history of pericarditis and pericardectomy in May 2006 and developed cough with right-sided chest pain, and went to an urgent care center.', 'Chest x-ray revealed right-sided pleural effusion.', 'PAST MEDICAL HISTORY', '1. Pericardectomy.', '2. Pericarditis.', '2. Atrial fibrillation.', '4. RNCA with intracranial thrombolytic treatment.', '5 PTA of MCA.', '6. Mesenteric venous thrombosis.', '7. Pericardial window.', '8. Cholecystectomy.', '9. Left thoracentesis.', 'FAMILY HISTORY:\\nNo family history of coronary artery disease, CVA, diabetes, CHF or MI.', 'The patient has one family member, a sister, with history of cancer.', 'SOCIAL HISTORY:\\nShe is married.', 'Employed with the US Post Office.', 'She is a mother of three.', 'Denies tobacco, alcohol or illicit drug use.', 'MEDICATIONS', '1. Coumadin 1 mg daily.', 'Last INR was on Tuesday, August 14, 2007, and her INR was 2.3.', '2. Amiodarone 100 mg p.o. daily.', 'REVIEW OF SYSTEMS:\\nComplete review of systems negative except as in pulmonary as noted above.', 'The patient also reports occasional numbness and tingling of her left arm.', 'PHYSICAL EXAMINATION\\nVITAL SIGNS: Blood pressure 123/95, heart rate 83, respirations 20, temperature 97, and oxygen saturation 97%.', 'GENERAL: Positive nonproductive cough and pain with coughing.', 'HEENT: Pupils are equal and reactive to light and accommodation.', 'Tympanic membranes are clear.', 'NECK: Supple.', 'No lymphadenopathy.', 'No masses.', 'RESPIRATORY: Pleural friction rub is noted.', 'GI: Soft, nondistended, and nontender.', 'Positive bowel sounds.', 'No organomegaly.', 'EXTREMITIES: No edema, no clubbing, no cyanosis, no tenderness.', 'Full range of motion.', 'Normal pulses in all extremities.', 'SKIN: No breakdown or lesions.', 'No ulcers.', 'NEUROLOGIC: Grossly intact.', 'No focal deficits.', 'Awake, alert, and oriented to person, place, and time.', 'LABORATORY DATA:\\nLabs are pending.', 'HOSPITAL COURSE:\\nThe patient was admitted for a right-sided pleural effusion for thoracentesis on Monday by Dr. X. Her Coumadin was placed on hold.', 'A repeat echocardiogram was checked.', 'She was started on prophylaxis for DVT with Lovenox 40 mg subcutaneously.', 'Her history dated back to March 2005 when she first sought medical attention for evidence of pericarditis, which was treated with pericardial window in an outside hospital, at that time she was also found to have mesenteric pain and thrombosis, is now anticoagulated.', 'Her pericardial fluid was accumulated and she was seen by Dr. Y. At that time, she was recommended for pericardectomy, which was performed by Dr. Z. Review of her CT scan from March 2006 prior to her pericardectomy, already shows bilateral plural effusions.', 'The patient improved clinically after the pericardectomy with resolution of her symptoms.', 'Recently, she was readmitted to the hospital with chest pain and found to have bilateral pleural effusion, the right greater than the left.', 'CT of the chest also revealed a large mediastinal lymph node.', 'We reviewed the pathology obtained from the pericardectomy in March 2006, which was diagnostic of mesothelioma.', 'At this time, chest tube placement for drainage of the fluid occurred and thoracoscopy with fluid biopsies, which were performed, which revealed epithelioid malignant mesothelioma.', 'The patient was then stained with a PET CT, which showed extensive uptake in the chest, bilateral pleural pericardial effusions, and lymphadenopathy.', 'She also had acidic fluid, pectoral and intramammary lymph nodes and uptake in L4 with SUV of', '4. This was consistent with stage III disease.', 'Her repeat echocardiogram showed an ejection fraction of 45% to 49%.', 'She was transferred to Oncology service and started on chemotherapy on September 1, 2007 with cisplatin 75 mg/centimeter squared equaling 109 mg IV piggyback over 2 hours on September 1, 2007, Alimta 500 mg/ centimeter squared equaling 730 mg IV piggyback over 10 minutes.', 'This was all initiated after a Port-A-Cath was placed.', 'The chemotherapy was well tolerated and the patient was discharged the following day after discontinuing IV fluid and IV.', 'Her Port-A-Cath was packed with heparin according to protocol.', 'DISCHARGE MEDICATIONS:\\nZofran, Phenergan, Coumadin, and Lovenox, and Vicodin\\nDISCHARGE INSTRUCTIONS:\\nShe was instructed to followup with Dr. XYZ in the office to check her INR on Tuesday.', 'She was instructed to call if she had any other questions or concerns in the interim.', 'Keywords:\\nhematology - oncology, mesothelioma, pleural effusion, atrial fibrillation, anemia, ascites, esophageal reflux, deep venous thrombosis, port-a-cath placement, port a cath, iv piggyback, venous thrombosis, atrial, thrombosis, pericardial, lymphadenopathy, fluid, pericardectomy, chest, pleural,'])]"
            ]
          },
          "metadata": {},
          "execution_count": 36
        }
      ]
    },
    {
      "cell_type": "code",
      "source": [
        "result.select(F.explode(F.arrays_zip(result.ner_chunk.result,  \n",
        "                                     result.ner_chunk.begin, \n",
        "                                     result.ner_chunk.end, \n",
        "                                     result.ner_chunk.metadata, \n",
        "                                     result.assertion.result,\n",
        "                                     result.assertion.metadata)).alias(\"cols\")) \\\n",
        "      .select(F.expr(\"cols['0']\").alias(\"chunk\"),\n",
        "              F.expr(\"cols['1']\").alias(\"begin\"),\n",
        "              F.expr(\"cols['2']\").alias(\"end\"),\n",
        "              F.expr(\"cols['3']['entity']\").alias(\"ner_label\"),\n",
        "              F.expr(\"cols['3']['sentence']\").alias(\"sent_id\"),\n",
        "              F.expr(\"cols['4']\").alias(\"assertion\"),\n",
        "              F.expr(\"cols['5']['confidence']\").alias(\"confidence\") ).show(truncate=False)"
      ],
      "metadata": {
        "id": "2sXyYJsRbMR1",
        "outputId": "3ac7e8ad-ae5f-4705-e71a-78aa7e1cf94f",
        "colab": {
          "base_uri": "https://localhost:8080/"
        }
      },
      "execution_count": 37,
      "outputs": [
        {
          "output_type": "stream",
          "name": "stdout",
          "text": [
            "+-------------------------+-----+---+-------------------------+-------+---------+----------+\n",
            "|chunk                    |begin|end|ner_label                |sent_id|assertion|confidence|\n",
            "+-------------------------+-----+---+-------------------------+-------+---------+----------+\n",
            "|Discharge                |68   |76 |Admission_Discharge      |0      |Past     |1.0       |\n",
            "|pleural effusion         |132  |147|Disease_Syndrome_Disorder|0      |Present  |0.9904    |\n",
            "|anemia                   |171  |176|Disease_Syndrome_Disorder|0      |Present  |0.8993    |\n",
            "|ascites                  |179  |185|Disease_Syndrome_Disorder|0      |Present  |0.9992    |\n",
            "|esophageal reflux        |188  |204|Disease_Syndrome_Disorder|0      |Present  |1.0       |\n",
            "|deep venous thrombosis   |222  |243|Disease_Syndrome_Disorder|0      |Past     |1.0       |\n",
            "|Pleural effusion         |340  |355|Disease_Syndrome_Disorder|2      |Present  |1.0       |\n",
            "|anemia                   |379  |384|Disease_Syndrome_Disorder|2      |Present  |1.0       |\n",
            "|ascites                  |387  |393|Disease_Syndrome_Disorder|2      |Present  |1.0       |\n",
            "|esophageal reflux        |396  |412|Disease_Syndrome_Disorder|2      |Present  |1.0       |\n",
            "|deep venous thrombosis   |430  |451|Disease_Syndrome_Disorder|2      |Past     |1.0       |\n",
            "|decortication of the lung|488  |512|Procedure                |4      |Past     |1.0       |\n",
            "|pleural biopsy           |519  |532|Procedure                |4      |Past     |1.0       |\n",
            "|transpleural fluoroscopy |538  |561|Procedure                |4      |Past     |1.0       |\n",
            "|thoracentesis            |587  |599|Procedure                |5      |Past     |1.0       |\n",
            "|Port-A-Cath placement    |625  |645|Procedure                |6      |Past     |1.0       |\n",
            "|cough                    |738  |742|Symptom                  |7      |Past     |1.0       |\n",
            "|chest pain               |792  |801|Symptom                  |8      |Past     |1.0       |\n",
            "|fever                    |830  |834|VS_Finding               |8      |Present  |1.0       |\n",
            "|pericarditis             |877  |888|Disease_Syndrome_Disorder|9      |Present  |0.9999    |\n",
            "+-------------------------+-----+---+-------------------------+-------+---------+----------+\n",
            "only showing top 20 rows\n",
            "\n"
          ]
        }
      ]
    },
    {
      "cell_type": "markdown",
      "metadata": {
        "id": "dYN97Es2be4p"
      },
      "source": [
        "### Pretrained `assertion_dl_radiology` model"
      ]
    },
    {
      "cell_type": "code",
      "execution_count": 38,
      "metadata": {
        "colab": {
          "base_uri": "https://localhost:8080/"
        },
        "id": "YMl2QAeNbe4p",
        "outputId": "587eccce-2623-48f8-9c5f-6a4493d6416c"
      },
      "outputs": [
        {
          "output_type": "stream",
          "name": "stdout",
          "text": [
            "sentence_detector_dl_healthcare download started this may take some time.\n",
            "Approximate size to download 367.3 KB\n",
            "[OK!]\n",
            "embeddings_clinical download started this may take some time.\n",
            "Approximate size to download 1.6 GB\n",
            "[OK!]\n",
            "ner_radiology download started this may take some time.\n",
            "[OK!]\n",
            "assertion_dl_radiology download started this may take some time.\n",
            "[OK!]\n"
          ]
        }
      ],
      "source": [
        "documentAssembler = DocumentAssembler()\\\n",
        "    .setInputCol(\"text\")\\\n",
        "    .setOutputCol(\"document\")\n",
        "\n",
        "# Sentence Detector annotator, processes various sentences per line\n",
        "sentenceDetector = SentenceDetectorDLModel\\\n",
        "    .pretrained(\"sentence_detector_dl_healthcare\",\"en\",\"clinical/models\") \\\n",
        "    .setInputCols([\"document\"]) \\\n",
        "    .setOutputCol(\"sentence\")\n",
        "\n",
        "# Tokenizer splits words in a relevant format for NLP\n",
        "tokenizer = Tokenizer()\\\n",
        "    .setInputCols([\"sentence\"])\\\n",
        "    .setOutputCol(\"token\")\n",
        "\n",
        "# Clinical word embeddings trained on PubMED dataset\n",
        "word_embeddings = WordEmbeddingsModel.pretrained(\"embeddings_clinical\", \"en\", \"clinical/models\")\\\n",
        "    .setInputCols([\"sentence\", \"token\"])\\\n",
        "    .setOutputCol(\"embeddings\")\n",
        "\n",
        "# NER model for radiology\n",
        "radiology_ner = MedicalNerModel.pretrained(\"ner_radiology\", \"en\", \"clinical/models\") \\\n",
        "    .setInputCols([\"sentence\", \"token\", \"embeddings\"]) \\\n",
        "    .setOutputCol(\"ner\")\\\n",
        "    #.setIncludeAllConfidenceScores(False)\n",
        "\n",
        "ner_converter = NerConverter() \\\n",
        "    .setInputCols([\"sentence\", \"token\", \"ner\"]) \\\n",
        "    .setOutputCol(\"ner_chunk\")\\\n",
        "    .setWhiteList([\"ImagingFindings\"])\n",
        "\n",
        "# Assertion model trained on radiology dataset\n",
        "radiology_assertion = AssertionDLModel.pretrained(\"assertion_dl_radiology\", \"en\", \"clinical/models\") \\\n",
        "    .setInputCols([\"sentence\", \"ner_chunk\", \"embeddings\"]) \\\n",
        "    .setOutputCol(\"assertion\")\n",
        "\n",
        "nlpPipeline = Pipeline(stages=[\n",
        "    documentAssembler, \n",
        "    sentenceDetector,\n",
        "    tokenizer,\n",
        "    word_embeddings,\n",
        "    radiology_ner,\n",
        "    ner_converter,\n",
        "    radiology_assertion\n",
        "    ])\n",
        "\n",
        "empty_data = spark.createDataFrame([[\"\"]]).toDF(\"text\")\n",
        "radiologyAssertion_model = nlpPipeline.fit(empty_data)"
      ]
    },
    {
      "cell_type": "code",
      "execution_count": 39,
      "metadata": {
        "id": "Ehm7WwJrbe4r"
      },
      "outputs": [],
      "source": [
        "# A sample text from a radiology report\n",
        "\n",
        "text = \"\"\"No right-sided pleural effusion or pneumothorax is definitively seen and there are mildly displaced fractures of the left lateral 8th and likely 9th ribs.\"\"\""
      ]
    },
    {
      "cell_type": "code",
      "execution_count": 40,
      "metadata": {
        "id": "_1iCxtKjbe4s"
      },
      "outputs": [],
      "source": [
        "data = spark.createDataFrame([[text]]).toDF(\"text\")"
      ]
    },
    {
      "cell_type": "code",
      "execution_count": 41,
      "metadata": {
        "id": "lSpEvzDObe4s"
      },
      "outputs": [],
      "source": [
        "result = radiologyAssertion_model.transform(data)"
      ]
    },
    {
      "cell_type": "code",
      "source": [
        "result.select(F.explode(F.arrays_zip(result.ner_chunk.result, \n",
        "                                     result.ner_chunk.metadata, \n",
        "                                     result.assertion.result)).alias(\"cols\")) \\\n",
        "      .select(F.expr(\"cols['0']\").alias(\"chunk\"),\n",
        "              F.expr(\"cols['1']['entity']\").alias(\"ner_label\"),\n",
        "              F.expr(\"cols['1']['sentence']\").alias(\"sent_id\"),\n",
        "              F.expr(\"cols['2']\").alias(\"assertion\")).show(truncate=False)"
      ],
      "metadata": {
        "colab": {
          "base_uri": "https://localhost:8080/"
        },
        "id": "XL7-olcBTXQ0",
        "outputId": "a64a6aaf-4a9d-4694-abb0-89897c3b554c"
      },
      "execution_count": 42,
      "outputs": [
        {
          "output_type": "stream",
          "name": "stdout",
          "text": [
            "+-------------------+---------------+-------+---------+\n",
            "|chunk              |ner_label      |sent_id|assertion|\n",
            "+-------------------+---------------+-------+---------+\n",
            "|effusion           |ImagingFindings|0      |Negative |\n",
            "|pneumothorax       |ImagingFindings|0      |Negative |\n",
            "|displaced fractures|ImagingFindings|0      |Confirmed|\n",
            "+-------------------+---------------+-------+---------+\n",
            "\n"
          ]
        }
      ]
    },
    {
      "cell_type": "markdown",
      "metadata": {
        "id": "0vWIDpk50QfG"
      },
      "source": [
        "## Writing a generic Assertion + NER function"
      ]
    },
    {
      "cell_type": "code",
      "execution_count": 49,
      "metadata": {
        "id": "ltGPQYr60F6G"
      },
      "outputs": [],
      "source": [
        "def get_base_pipeline (embeddings = 'embeddings_clinical'):\n",
        "\n",
        "    documentAssembler = DocumentAssembler()\\\n",
        "        .setInputCol(\"text\")\\\n",
        "        .setOutputCol(\"document\")\n",
        "\n",
        "  # Sentence Detector annotator, processes various sentences per line\n",
        "    sentenceDetector = SentenceDetector()\\\n",
        "        .setInputCols([\"document\"])\\\n",
        "        .setOutputCol(\"sentence\")\n",
        "\n",
        "  # Tokenizer splits words in a relevant format for NLP\n",
        "    tokenizer = Tokenizer()\\\n",
        "        .setInputCols([\"sentence\"])\\\n",
        "        .setOutputCol(\"token\")\n",
        "\n",
        "  # Clinical word embeddings trained on PubMED dataset\n",
        "    word_embeddings = WordEmbeddingsModel.pretrained(embeddings, \"en\", \"clinical/models\")\\\n",
        "        .setInputCols([\"sentence\", \"token\"])\\\n",
        "        .setOutputCol(\"embeddings\")\n",
        "\n",
        "    base_pipeline = Pipeline(stages=[\n",
        "                        documentAssembler,\n",
        "                        sentenceDetector,\n",
        "                        tokenizer,\n",
        "                        word_embeddings])\n",
        "\n",
        "    return base_pipeline\n",
        "\n",
        "\n",
        "\n",
        "def get_clinical_assertion (embeddings, spark_df, nrows = 100, ner_model_name = 'ner_clinical', assertion_model_name=\"assertion_dl\"):\n",
        "\n",
        "  # NER model trained on i2b2 (sampled from MIMIC) dataset\n",
        "    loaded_ner_model = MedicalNerModel.pretrained(ner_model_name, \"en\", \"clinical/models\") \\\n",
        "        .setInputCols([\"sentence\", \"token\", \"embeddings\"]) \\\n",
        "        .setOutputCol(\"ner\")\n",
        "\n",
        "    ner_converter = NerConverter() \\\n",
        "        .setInputCols([\"sentence\", \"token\", \"ner\"]) \\\n",
        "        .setOutputCol(\"ner_chunk\")\n",
        "\n",
        "  # Assertion model trained on i2b2 (sampled from MIMIC) dataset\n",
        "  # coming from sparknlp_jsl.annotator !!\n",
        "    clinical_assertion = AssertionDLModel.pretrained(assertion_model_name, \"en\", \"clinical/models\") \\\n",
        "        .setInputCols([\"sentence\", \"ner_chunk\", \"embeddings\"]) \\\n",
        "        .setOutputCol(\"assertion\")\n",
        "      \n",
        "\n",
        "    base_model = get_base_pipeline (embeddings)\n",
        "\n",
        "    nlpPipeline = Pipeline(stages=[\n",
        "        base_model,\n",
        "        loaded_ner_model,\n",
        "        ner_converter,\n",
        "        clinical_assertion])\n",
        "\n",
        "    empty_data = spark.createDataFrame([[\"\"]]).toDF(\"text\")\n",
        "\n",
        "    model = nlpPipeline.fit(empty_data)\n",
        "\n",
        "    result = model.transform(spark_df.limit(nrows))\n",
        "\n",
        "    result = result.withColumn(\"id\", F.monotonically_increasing_id())\n",
        "\n",
        "    result_df = result.select(F.explode(F.arrays_zip(result.ner_chunk.result, \n",
        "                                                     result.ner_chunk.metadata, \n",
        "                                                     result.assertion.result,\n",
        "                                                     result.assertion.metadata)).alias(\"cols\")) \\\n",
        "                      .select(F.expr(\"cols['0']\").alias(\"chunk\"),\n",
        "                              F.expr(\"cols['1']['entity']\").alias(\"ner_label\"),\n",
        "                              F.expr(\"cols['2']\").alias(\"assertion\"),\n",
        "                              F.expr(\"cols['3']['confidence']\").alias(\"confidence\"))\\\n",
        "                      .filter(\"ner_label!='O'\")\n",
        "\n",
        "    return result_df"
      ]
    },
    {
      "cell_type": "code",
      "execution_count": 50,
      "metadata": {
        "colab": {
          "base_uri": "https://localhost:8080/"
        },
        "id": "V81zaAe13qLU",
        "outputId": "d0ddf939-3222-4f5b-dffb-f05407d1116c"
      },
      "outputs": [
        {
          "output_type": "stream",
          "name": "stdout",
          "text": [
            "ner_clinical_large download started this may take some time.\n",
            "[OK!]\n",
            "assertion_dl download started this may take some time.\n",
            "[OK!]\n",
            "embeddings_clinical download started this may take some time.\n",
            "Approximate size to download 1.6 GB\n",
            "[OK!]\n",
            "+----------------------------+---------+---------+----------+\n",
            "|                       chunk|ner_label|assertion|confidence|\n",
            "+----------------------------+---------+---------+----------+\n",
            "|                Mesothelioma|  PROBLEM|  present|    0.9996|\n",
            "|                Mesothelioma|  PROBLEM|  present|    0.9996|\n",
            "|            pleural effusion|  PROBLEM|  present|    0.9997|\n",
            "|         atrial fibrillation|  PROBLEM|  present|    0.9998|\n",
            "|                      anemia|  PROBLEM|  present|    0.9997|\n",
            "|                     ascites|  PROBLEM|  present|    0.9997|\n",
            "|           esophageal reflux|  PROBLEM|  present|    0.9998|\n",
            "|      deep venous thrombosis|  PROBLEM|  present|    0.9998|\n",
            "|                Mesothelioma|  PROBLEM|  present|    0.9992|\n",
            "|            Pleural effusion|  PROBLEM|  present|    0.9999|\n",
            "|         atrial fibrillation|  PROBLEM|  present|       1.0|\n",
            "|                      anemia|  PROBLEM|  present|    0.9999|\n",
            "|                     ascites|  PROBLEM|  present|    0.9999|\n",
            "|           esophageal reflux|  PROBLEM|  present|    0.9999|\n",
            "|      deep venous thrombosis|  PROBLEM|  present|    0.9993|\n",
            "|   decortication of the lung|TREATMENT|  present|       1.0|\n",
            "|              pleural biopsy|     TEST|  present|    0.9999|\n",
            "|    transpleural fluoroscopy|     TEST|  present|    0.9997|\n",
            "|               thoracentesis|TREATMENT|  present|    0.9998|\n",
            "|       Port-A-Cath placement|TREATMENT|  present|       1.0|\n",
            "|       a nonproductive cough|  PROBLEM|  present|    0.9972|\n",
            "|      right-sided chest pain|  PROBLEM|  present|    0.9998|\n",
            "|                       fever|  PROBLEM|  present|    0.9998|\n",
            "|                pericarditis|  PROBLEM|  present|    0.9998|\n",
            "|              pericardectomy|TREATMENT|  present|    0.9999|\n",
            "|                       cough|  PROBLEM|  present|    0.9996|\n",
            "|      right-sided chest pain|  PROBLEM|  present|    0.9998|\n",
            "|                 Chest x-ray|     TEST|  present|    0.9999|\n",
            "|right-sided pleural effusion|  PROBLEM|  present|    0.9999|\n",
            "|              Pericardectomy|TREATMENT|  present|    0.9985|\n",
            "+----------------------------+---------+---------+----------+\n",
            "only showing top 30 rows\n",
            "\n"
          ]
        }
      ],
      "source": [
        "embeddings = 'embeddings_clinical'\n",
        "\n",
        "ner_model_name = 'ner_clinical_large'\n",
        "\n",
        "nrows = 100\n",
        "\n",
        "ner_df = get_clinical_assertion (embeddings, mt_samples_df, nrows, ner_model_name)\n",
        "\n",
        "ner_df.show(30,truncate=50)"
      ]
    },
    {
      "cell_type": "code",
      "execution_count": 51,
      "metadata": {
        "colab": {
          "base_uri": "https://localhost:8080/"
        },
        "id": "LmLPlfCw5hh-",
        "outputId": "4184526a-bf8b-4643-ac87-57d776be7209"
      },
      "outputs": [
        {
          "output_type": "stream",
          "name": "stdout",
          "text": [
            "ner_posology download started this may take some time.\n",
            "[OK!]\n",
            "assertion_dl download started this may take some time.\n",
            "[OK!]\n",
            "embeddings_clinical download started this may take some time.\n",
            "Approximate size to download 1.6 GB\n",
            "[OK!]\n",
            "+----------------+---------+------------+----------+\n",
            "|           chunk|ner_label|   assertion|confidence|\n",
            "+----------------+---------+------------+----------+\n",
            "|        Coumadin|     DRUG|hypothetical|    0.8709|\n",
            "|            1 mg| STRENGTH| conditional|    0.7772|\n",
            "|           daily|FREQUENCY| conditional|    0.5086|\n",
            "|      Amiodarone|     DRUG|hypothetical|    0.8589|\n",
            "|          100 mg| STRENGTH|hypothetical|    0.6143|\n",
            "|             p.o|    ROUTE|hypothetical|    0.7991|\n",
            "|           daily|FREQUENCY|     present|    0.9074|\n",
            "|        Coumadin|     DRUG|     present|    0.9997|\n",
            "|         Lovenox|     DRUG|     present|    0.9994|\n",
            "|           40 mg| STRENGTH|     present|    0.9982|\n",
            "|  subcutaneously|    ROUTE|     present|    0.9871|\n",
            "|    chemotherapy|     DRUG|     present|    0.9999|\n",
            "|       cisplatin|     DRUG|     present|    0.9999|\n",
            "|75 mg/centimeter| STRENGTH|     present|    0.9998|\n",
            "|          109 mg| STRENGTH|     present|    0.9999|\n",
            "|              IV|    ROUTE|     present|    0.9999|\n",
            "|       piggyback|     DRUG|     present|    0.9999|\n",
            "|    over 2 hours| DURATION|     present|    0.9999|\n",
            "|       September|     DRUG|     present|       1.0|\n",
            "|          Alimta|     DRUG|     present|       1.0|\n",
            "+----------------+---------+------------+----------+\n",
            "only showing top 20 rows\n",
            "\n"
          ]
        }
      ],
      "source": [
        "embeddings = 'embeddings_clinical'\n",
        "\n",
        "ner_model_name = 'ner_posology'\n",
        "\n",
        "nrows = 100\n",
        "\n",
        "ner_df = get_clinical_assertion (embeddings, mt_samples_df, nrows, ner_model_name)\n",
        "\n",
        "ner_df.show()"
      ]
    },
    {
      "cell_type": "code",
      "execution_count": 52,
      "metadata": {
        "colab": {
          "base_uri": "https://localhost:8080/"
        },
        "id": "cQ9xeS3kwClE",
        "outputId": "55b25e9d-dbe7-48a0-8cf5-c93df6a14b55"
      },
      "outputs": [
        {
          "output_type": "stream",
          "name": "stdout",
          "text": [
            "ner_posology_greedy download started this may take some time.\n",
            "[OK!]\n",
            "assertion_dl download started this may take some time.\n",
            "[OK!]\n",
            "embeddings_clinical download started this may take some time.\n",
            "Approximate size to download 1.6 GB\n",
            "[OK!]\n",
            "+----------------+---------+---------+----------+\n",
            "|           chunk|ner_label|assertion|confidence|\n",
            "+----------------+---------+---------+----------+\n",
            "|capsule of Advil|     DRUG|   absent|    0.9855|\n",
            "+----------------+---------+---------+----------+\n",
            "\n"
          ]
        }
      ],
      "source": [
        "embeddings = 'embeddings_clinical'\n",
        "\n",
        "ner_model_name = 'ner_posology_greedy'\n",
        "\n",
        "entry_data = spark.createDataFrame([[\"The patient did not take a capsule of Advil.\"]]).toDF(\"text\")\n",
        "\n",
        "ner_df = get_clinical_assertion (embeddings, entry_data, nrows, ner_model_name)\n",
        "\n",
        "ner_df.show()"
      ]
    },
    {
      "cell_type": "code",
      "execution_count": 53,
      "metadata": {
        "colab": {
          "base_uri": "https://localhost:8080/"
        },
        "id": "djV_FKNtYcoP",
        "outputId": "f737dc72-6a30-45d0-e5ed-d404ea89b33f"
      },
      "outputs": [
        {
          "output_type": "stream",
          "name": "stdout",
          "text": [
            "ner_clinical download started this may take some time.\n",
            "[OK!]\n",
            "assertion_dl download started this may take some time.\n",
            "[OK!]\n",
            "embeddings_clinical download started this may take some time.\n",
            "Approximate size to download 1.6 GB\n",
            "[OK!]\n",
            "+-----+---------+---------+----------+\n",
            "|chunk|ner_label|assertion|confidence|\n",
            "+-----+---------+---------+----------+\n",
            "|fever|  PROBLEM|   absent|     0.998|\n",
            "+-----+---------+---------+----------+\n",
            "\n"
          ]
        }
      ],
      "source": [
        "embeddings = 'embeddings_clinical'\n",
        "\n",
        "ner_model_name = 'ner_clinical'\n",
        "\n",
        "entry_data = spark.createDataFrame([[\"The patient has no fever\"]]).toDF(\"text\")\n",
        "\n",
        "ner_df = get_clinical_assertion (embeddings, entry_data, nrows, ner_model_name)\n",
        "\n",
        "ner_df.show()"
      ]
    },
    {
      "cell_type": "code",
      "execution_count": 54,
      "metadata": {
        "id": "P87ScBcJqcNs"
      },
      "outputs": [],
      "source": [
        "def get_clinical_assertion_light (light_model, text):\n",
        "\n",
        "  light_result = light_model.fullAnnotate(text)[0]\n",
        "\n",
        "  chunks=[]\n",
        "  entities=[]\n",
        "  status=[]\n",
        "  confidence=[]\n",
        "\n",
        "  for n,m in zip(light_result['ner_chunk'],light_result['assertion']):\n",
        "      \n",
        "      chunks.append(n.result)\n",
        "      entities.append(n.metadata['entity']) \n",
        "      status.append(m.result)\n",
        "      confidence.append(m.metadata['confidence'])\n",
        "          \n",
        "  df = pd.DataFrame({'chunks':chunks, 'entities':entities, 'assertion':status,'confidence':confidence})\n",
        "\n",
        "  return df"
      ]
    },
    {
      "cell_type": "code",
      "execution_count": 56,
      "metadata": {
        "colab": {
          "base_uri": "https://localhost:8080/",
          "height": 238
        },
        "id": "GqKH9Mw98z4x",
        "outputId": "e8a22e99-21bf-4e29-e7a3-0e61137cdddd"
      },
      "outputs": [
        {
          "output_type": "execute_result",
          "data": {
            "text/plain": [
              "                                 entities_ner_chunk  \\\n",
              "0                                             fever   \n",
              "0                                       sore throat   \n",
              "0                                      stomach pain   \n",
              "0                                              pain   \n",
              "0  short of breath with climbing a flight of stairs   \n",
              "0                                         Alzheimer   \n",
              "\n",
              "    entities_ner_chunk_class     assertion assertion_confidence  \n",
              "0                 VS_Finding       Present                  1.0  \n",
              "0                    Symptom       Present                  1.0  \n",
              "0                    Symptom        Absent                  1.0  \n",
              "0                    Symptom  Hypothetical               0.9973  \n",
              "0                    Symptom       Present                  1.0  \n",
              "0  Disease_Syndrome_Disorder        Family               0.8136  "
            ],
            "text/html": [
              "\n",
              "  <div id=\"df-9c465b91-bdb3-4cc4-81ce-1913185d7f38\">\n",
              "    <div class=\"colab-df-container\">\n",
              "      <div>\n",
              "<style scoped>\n",
              "    .dataframe tbody tr th:only-of-type {\n",
              "        vertical-align: middle;\n",
              "    }\n",
              "\n",
              "    .dataframe tbody tr th {\n",
              "        vertical-align: top;\n",
              "    }\n",
              "\n",
              "    .dataframe thead th {\n",
              "        text-align: right;\n",
              "    }\n",
              "</style>\n",
              "<table border=\"1\" class=\"dataframe\">\n",
              "  <thead>\n",
              "    <tr style=\"text-align: right;\">\n",
              "      <th></th>\n",
              "      <th>entities_ner_chunk</th>\n",
              "      <th>entities_ner_chunk_class</th>\n",
              "      <th>assertion</th>\n",
              "      <th>assertion_confidence</th>\n",
              "    </tr>\n",
              "  </thead>\n",
              "  <tbody>\n",
              "    <tr>\n",
              "      <th>0</th>\n",
              "      <td>fever</td>\n",
              "      <td>VS_Finding</td>\n",
              "      <td>Present</td>\n",
              "      <td>1.0</td>\n",
              "    </tr>\n",
              "    <tr>\n",
              "      <th>0</th>\n",
              "      <td>sore throat</td>\n",
              "      <td>Symptom</td>\n",
              "      <td>Present</td>\n",
              "      <td>1.0</td>\n",
              "    </tr>\n",
              "    <tr>\n",
              "      <th>0</th>\n",
              "      <td>stomach pain</td>\n",
              "      <td>Symptom</td>\n",
              "      <td>Absent</td>\n",
              "      <td>1.0</td>\n",
              "    </tr>\n",
              "    <tr>\n",
              "      <th>0</th>\n",
              "      <td>pain</td>\n",
              "      <td>Symptom</td>\n",
              "      <td>Hypothetical</td>\n",
              "      <td>0.9973</td>\n",
              "    </tr>\n",
              "    <tr>\n",
              "      <th>0</th>\n",
              "      <td>short of breath with climbing a flight of stairs</td>\n",
              "      <td>Symptom</td>\n",
              "      <td>Present</td>\n",
              "      <td>1.0</td>\n",
              "    </tr>\n",
              "    <tr>\n",
              "      <th>0</th>\n",
              "      <td>Alzheimer</td>\n",
              "      <td>Disease_Syndrome_Disorder</td>\n",
              "      <td>Family</td>\n",
              "      <td>0.8136</td>\n",
              "    </tr>\n",
              "  </tbody>\n",
              "</table>\n",
              "</div>\n",
              "      <button class=\"colab-df-convert\" onclick=\"convertToInteractive('df-9c465b91-bdb3-4cc4-81ce-1913185d7f38')\"\n",
              "              title=\"Convert this dataframe to an interactive table.\"\n",
              "              style=\"display:none;\">\n",
              "        \n",
              "  <svg xmlns=\"http://www.w3.org/2000/svg\" height=\"24px\"viewBox=\"0 0 24 24\"\n",
              "       width=\"24px\">\n",
              "    <path d=\"M0 0h24v24H0V0z\" fill=\"none\"/>\n",
              "    <path d=\"M18.56 5.44l.94 2.06.94-2.06 2.06-.94-2.06-.94-.94-2.06-.94 2.06-2.06.94zm-11 1L8.5 8.5l.94-2.06 2.06-.94-2.06-.94L8.5 2.5l-.94 2.06-2.06.94zm10 10l.94 2.06.94-2.06 2.06-.94-2.06-.94-.94-2.06-.94 2.06-2.06.94z\"/><path d=\"M17.41 7.96l-1.37-1.37c-.4-.4-.92-.59-1.43-.59-.52 0-1.04.2-1.43.59L10.3 9.45l-7.72 7.72c-.78.78-.78 2.05 0 2.83L4 21.41c.39.39.9.59 1.41.59.51 0 1.02-.2 1.41-.59l7.78-7.78 2.81-2.81c.8-.78.8-2.07 0-2.86zM5.41 20L4 18.59l7.72-7.72 1.47 1.35L5.41 20z\"/>\n",
              "  </svg>\n",
              "      </button>\n",
              "      \n",
              "  <style>\n",
              "    .colab-df-container {\n",
              "      display:flex;\n",
              "      flex-wrap:wrap;\n",
              "      gap: 12px;\n",
              "    }\n",
              "\n",
              "    .colab-df-convert {\n",
              "      background-color: #E8F0FE;\n",
              "      border: none;\n",
              "      border-radius: 50%;\n",
              "      cursor: pointer;\n",
              "      display: none;\n",
              "      fill: #1967D2;\n",
              "      height: 32px;\n",
              "      padding: 0 0 0 0;\n",
              "      width: 32px;\n",
              "    }\n",
              "\n",
              "    .colab-df-convert:hover {\n",
              "      background-color: #E2EBFA;\n",
              "      box-shadow: 0px 1px 2px rgba(60, 64, 67, 0.3), 0px 1px 3px 1px rgba(60, 64, 67, 0.15);\n",
              "      fill: #174EA6;\n",
              "    }\n",
              "\n",
              "    [theme=dark] .colab-df-convert {\n",
              "      background-color: #3B4455;\n",
              "      fill: #D2E3FC;\n",
              "    }\n",
              "\n",
              "    [theme=dark] .colab-df-convert:hover {\n",
              "      background-color: #434B5C;\n",
              "      box-shadow: 0px 1px 3px 1px rgba(0, 0, 0, 0.15);\n",
              "      filter: drop-shadow(0px 1px 2px rgba(0, 0, 0, 0.3));\n",
              "      fill: #FFFFFF;\n",
              "    }\n",
              "  </style>\n",
              "\n",
              "      <script>\n",
              "        const buttonEl =\n",
              "          document.querySelector('#df-9c465b91-bdb3-4cc4-81ce-1913185d7f38 button.colab-df-convert');\n",
              "        buttonEl.style.display =\n",
              "          google.colab.kernel.accessAllowed ? 'block' : 'none';\n",
              "\n",
              "        async function convertToInteractive(key) {\n",
              "          const element = document.querySelector('#df-9c465b91-bdb3-4cc4-81ce-1913185d7f38');\n",
              "          const dataTable =\n",
              "            await google.colab.kernel.invokeFunction('convertToInteractive',\n",
              "                                                     [key], {});\n",
              "          if (!dataTable) return;\n",
              "\n",
              "          const docLinkHtml = 'Like what you see? Visit the ' +\n",
              "            '<a target=\"_blank\" href=https://colab.research.google.com/notebooks/data_table.ipynb>data table notebook</a>'\n",
              "            + ' to learn more about interactive tables.';\n",
              "          element.innerHTML = '';\n",
              "          dataTable['output_type'] = 'display_data';\n",
              "          await google.colab.output.renderOutput(dataTable, element);\n",
              "          const docLink = document.createElement('div');\n",
              "          docLink.innerHTML = docLinkHtml;\n",
              "          element.appendChild(docLink);\n",
              "        }\n",
              "      </script>\n",
              "    </div>\n",
              "  </div>\n",
              "  "
            ]
          },
          "metadata": {},
          "execution_count": 56
        }
      ],
      "source": [
        "clinical_text = \"\"\"\n",
        "Patient with severe fever and sore throat. \n",
        "He shows no stomach pain and he maintained on an epidural and PCA for pain control.\n",
        "He also became short of breath with climbing a flight of stairs.\n",
        "After CT, lung tumor located at the right lower lobe. Father with Alzheimer.\n",
        "\"\"\"\n",
        "\n",
        "light_model = LightPipeline(model)\n",
        "\n",
        "# get_clinical_assertion_light (light_model, clinical_text)\n",
        "\n",
        "cols = [\n",
        "     'entities_ner_chunk',\n",
        "     'entities_ner_chunk_class', \n",
        "     'assertion',\n",
        "     'assertion_confidence']\n",
        "     \n",
        "df = nlu.to_pretty_df(light_model,clinical_text, output_level='chunk')[cols]\n",
        "df"
      ]
    },
    {
      "cell_type": "markdown",
      "metadata": {
        "id": "qVeR4zew_urR"
      },
      "source": [
        "# Oncological Assertion Models"
      ]
    },
    {
      "cell_type": "markdown",
      "source": [
        "Oncology Assertion Models\n",
        "\n",
        "|    | model_name              |Predicted Entities|\n",
        "|---:|:------------------------|-|\n",
        "| 1 | [assertion_oncology_wip](https://nlp.johnsnowlabs.com/2022/10/11/assertion_oncology_wip_en.html) | Medical_History, Family_History, Possible, Hypothetical_Or_Absent|\n",
        "| 2 | [assertion_oncology_problem_wip](https://nlp.johnsnowlabs.com/2022/10/11/assertion_oncology_problem_wip_en.html) |Present, Possible, Hypothetical, Absent, Family|\n",
        "| 3 | [assertion_oncology_treatment_wip](https://nlp.johnsnowlabs.com/2022/10/11/assertion_oncology_treatment_binary_wip_en.html) |Present, Planned, Past, Hypothetical, Absent|\n",
        "| 3 | [assertion_oncology_treatment_wip]() |Present, Planned, Past, Hypothetical, Absent|\n",
        "| 4 | [assertion_oncology_response_to_treatment_wip](https://nlp.johnsnowlabs.com/2022/10/11/assertion_oncology_response_to_treatment_wip_en.html) |Present_Or_Past, Hypothetical_Or_Absent|\n",
        "| 5 | [assertion_oncology_test_binary_wip](https://nlp.johnsnowlabs.com/2022/10/01/assertion_oncology_test_binary_wip_en.html) |Present_Or_Past, Hypothetical_Or_Absent|\n",
        "| 6 | [assertion_oncology_smoking_status_wip](https://nlp.johnsnowlabs.com/2022/10/11/assertion_oncology_smoking_status_wip_en.html) |Absent, Past, Present|\n",
        "| 7 | [assertion_oncology_family_history_wip](https://nlp.johnsnowlabs.com/2022/10/11/assertion_oncology_family_history_wip_en.html) |Family_History, Other|\n",
        "| 8 | [assertion_oncology_demographic_binary_wip](https://nlp.johnsnowlabs.com/2022/10/11/assertion_oncology_demographic_binary_wip_en.html) |Patient, Someone_Else|"
      ],
      "metadata": {
        "id": "FNKJ3lfkc_N7"
      }
    },
    {
      "cell_type": "code",
      "execution_count": 57,
      "metadata": {
        "colab": {
          "base_uri": "https://localhost:8080/"
        },
        "id": "y1Ffv9qT_AYV",
        "outputId": "4873e8ed-a431-470f-84b7-b2991d9d9729"
      },
      "outputs": [
        {
          "output_type": "stream",
          "name": "stdout",
          "text": [
            "ner_oncology_wip download started this may take some time.\n",
            "[OK!]\n",
            "assertion_oncology_wip download started this may take some time.\n",
            "[OK!]\n",
            "embeddings_clinical download started this may take some time.\n",
            "Approximate size to download 1.6 GB\n",
            "[OK!]\n",
            "+------------------------+--------------------+------------+----------+\n",
            "|chunk                   |ner_label           |assertion   |confidence|\n",
            "+------------------------+--------------------+------------+----------+\n",
            "|Mesothelioma            |Cancer_Dx           |Present     |0.9885    |\n",
            "|Mesothelioma            |Cancer_Dx           |Hypothetical|0.981     |\n",
            "|August 24, 2007         |Date                |Past        |0.9726    |\n",
            "|decortication           |Cancer_Surgery      |Past        |0.994     |\n",
            "|lung                    |Site_Lung           |Past        |0.9453    |\n",
            "|pleural                 |Site_Other_Body_Part|Past        |0.9624    |\n",
            "|biopsy                  |Pathology_Test      |Past        |0.9979    |\n",
            "|transpleural fluoroscopy|Imaging_Test        |Past        |0.9979    |\n",
            "|August 20, 2007         |Date                |Past        |0.956     |\n",
            "|August 31, 2007         |Date                |Past        |0.9925    |\n",
            "|41-year-old             |Gender              |Present     |0.9986    |\n",
            "|Vietnamese              |Race_Ethnicity      |Present     |0.8024    |\n",
            "|female                  |Gender              |Present     |0.9772    |\n",
            "|started last week       |Relative_Date       |Present     |0.9831    |\n",
            "|She                     |Gender              |Present     |0.9992    |\n",
            "|her                     |Gender              |Present     |0.9944    |\n",
            "|She                     |Gender              |Present     |0.9993    |\n",
            "|pericardectomy          |Cancer_Surgery      |Past        |0.997     |\n",
            "|May 2006                |Date                |Past        |0.9971    |\n",
            "|Chest x-ray             |Imaging_Test        |Past        |0.9984    |\n",
            "+------------------------+--------------------+------------+----------+\n",
            "only showing top 20 rows\n",
            "\n"
          ]
        }
      ],
      "source": [
        "embeddings = 'embeddings_clinical'\n",
        "\n",
        "ner_model_name = 'ner_oncology_wip'\n",
        "\n",
        "assertion_model_name='assertion_oncology_wip'\n",
        "\n",
        "nrows = 100\n",
        "\n",
        "ner_df = get_clinical_assertion (embeddings, mt_samples_df, nrows, ner_model_name,assertion_model_name )\n",
        "\n",
        "ner_df.show(truncate = False)"
      ]
    },
    {
      "cell_type": "markdown",
      "metadata": {
        "id": "jECAdcYGcJJT"
      },
      "source": [
        "# Assertion Filterer\n",
        "AssertionFilterer will allow you to filter out the named entities by the list of acceptable assertion statuses. This annotator would be quite handy if you want to set a white list for the acceptable assertion statuses like present or conditional; and do not want absent conditions get out of your pipeline."
      ]
    },
    {
      "cell_type": "code",
      "execution_count": 58,
      "metadata": {
        "colab": {
          "base_uri": "https://localhost:8080/"
        },
        "id": "c8xRF4yScwP3",
        "outputId": "0a19f018-6137-41b8-bbb6-e09ca1e108bb"
      },
      "outputs": [
        {
          "output_type": "stream",
          "name": "stdout",
          "text": [
            "ner_clinical download started this may take some time.\n",
            "[OK!]\n",
            "assertion_dl download started this may take some time.\n",
            "[OK!]\n"
          ]
        }
      ],
      "source": [
        "clinical_ner = MedicalNerModel.pretrained(\"ner_clinical\", \"en\", \"clinical/models\") \\\n",
        "    .setInputCols([\"sentence\", \"token\", \"embeddings\"]) \\\n",
        "    .setOutputCol(\"ner\")\\\n",
        "    #.setIncludeAllConfidenceScores(False)\n",
        "\n",
        "ner_converter = NerConverter() \\\n",
        "    .setInputCols([\"sentence\", \"token\", \"ner\"]) \\\n",
        "    .setOutputCol(\"ner_chunk\")\n",
        "\n",
        "clinical_assertion = AssertionDLModel.pretrained(\"assertion_dl\", \"en\", \"clinical/models\") \\\n",
        "    .setInputCols([\"sentence\", \"ner_chunk\", \"embeddings\"]) \\\n",
        "    .setOutputCol(\"assertion\")\n",
        "\n",
        "assertion_filterer = AssertionFilterer()\\\n",
        "    .setInputCols(\"sentence\",\"ner_chunk\",\"assertion\")\\\n",
        "    .setOutputCol(\"assertion_filtered\")\\\n",
        "    .setWhiteList([\"present\"])\n",
        "\n",
        "nlpPipeline = Pipeline(stages=[\n",
        "      documentAssembler, \n",
        "      sentenceDetector,\n",
        "      tokenizer,\n",
        "      word_embeddings,\n",
        "      clinical_ner,\n",
        "      ner_converter,\n",
        "      clinical_assertion,\n",
        "      assertion_filterer\n",
        "    ])\n",
        "\n",
        "empty_data = spark.createDataFrame([[\"\"]]).toDF(\"text\")\n",
        "assertionFilter_model = nlpPipeline.fit(empty_data)"
      ]
    },
    {
      "cell_type": "code",
      "execution_count": 59,
      "metadata": {
        "colab": {
          "base_uri": "https://localhost:8080/"
        },
        "id": "KE6Qt20Sfqc-",
        "outputId": "3c4f18de-f799-402f-c951-35a05c4bddba"
      },
      "outputs": [
        {
          "output_type": "execute_result",
          "data": {
            "text/plain": [
              "dict_keys(['assertion_filtered', 'document', 'ner_chunk', 'assertion', 'token', 'ner', 'embeddings', 'sentence'])"
            ]
          },
          "metadata": {},
          "execution_count": 59
        }
      ],
      "source": [
        "text = 'Patient has a headache for the last 2 weeks, needs to get a head CT, and appears anxious when she walks fast. Alopecia noted. She denies pain.'\n",
        "\n",
        "light_model = LightPipeline(assertionFilter_model)\n",
        "light_result = light_model.annotate(text)\n",
        "\n",
        "light_result.keys()"
      ]
    },
    {
      "cell_type": "code",
      "execution_count": 60,
      "metadata": {
        "colab": {
          "base_uri": "https://localhost:8080/"
        },
        "id": "3gJfCLMHk0MV",
        "outputId": "7c692885-790b-4a87-8409-7b014ad17416"
      },
      "outputs": [
        {
          "output_type": "execute_result",
          "data": {
            "text/plain": [
              "[('a headache', 'present'),\n",
              " ('a head CT', 'present'),\n",
              " ('anxious', 'present'),\n",
              " ('Alopecia', 'present'),\n",
              " ('pain', 'absent')]"
            ]
          },
          "metadata": {},
          "execution_count": 60
        }
      ],
      "source": [
        "list(zip(light_result['ner_chunk'], light_result['assertion']))"
      ]
    },
    {
      "cell_type": "code",
      "execution_count": 61,
      "metadata": {
        "colab": {
          "base_uri": "https://localhost:8080/"
        },
        "id": "XjuVg_4N15y2",
        "outputId": "6b8f05da-4bd6-403f-e59c-9b2eb1b2b471"
      },
      "outputs": [
        {
          "output_type": "execute_result",
          "data": {
            "text/plain": [
              "['present']"
            ]
          },
          "metadata": {},
          "execution_count": 61
        }
      ],
      "source": [
        "assertion_filterer.getWhiteList()"
      ]
    },
    {
      "cell_type": "code",
      "execution_count": 62,
      "metadata": {
        "colab": {
          "base_uri": "https://localhost:8080/"
        },
        "id": "rpWfTJbsk7tp",
        "outputId": "457290f3-5de8-4f61-902e-c375d18fddb7"
      },
      "outputs": [
        {
          "output_type": "execute_result",
          "data": {
            "text/plain": [
              "['a headache', 'a head CT', 'anxious', 'Alopecia']"
            ]
          },
          "metadata": {},
          "execution_count": 62
        }
      ],
      "source": [
        "light_result['assertion_filtered']"
      ]
    },
    {
      "cell_type": "markdown",
      "metadata": {
        "id": "JjfUo0aTKFEL"
      },
      "source": [
        "# Train a custom Assertion Model"
      ]
    },
    {
      "cell_type": "code",
      "execution_count": 63,
      "metadata": {
        "id": "QPFTJxtlIKQT"
      },
      "outputs": [],
      "source": [
        "!wget -q https://raw.githubusercontent.com/JohnSnowLabs/spark-nlp-workshop/master/tutorials/Certification_Trainings/Healthcare/data/i2b2_assertion_sample_short.csv"
      ]
    },
    {
      "cell_type": "code",
      "execution_count": 64,
      "metadata": {
        "id": "llRofRtgLF7S"
      },
      "outputs": [],
      "source": [
        "import pandas as pd"
      ]
    },
    {
      "cell_type": "code",
      "execution_count": 65,
      "metadata": {
        "id": "hRFW3nyALHx0"
      },
      "outputs": [],
      "source": [
        "assertion_df = spark.read.option(\"header\", True).option(\"inferSchema\", \"True\").csv(\"i2b2_assertion_sample_short.csv\")"
      ]
    },
    {
      "cell_type": "code",
      "execution_count": 66,
      "metadata": {
        "colab": {
          "base_uri": "https://localhost:8080/"
        },
        "id": "TQn7bJZtL9uX",
        "outputId": "695e42d3-3a69-4ebe-c9d2-1ea9ca67da34"
      },
      "outputs": [
        {
          "output_type": "stream",
          "name": "stdout",
          "text": [
            "+-------------------------------------------------+-------------------+-------+-----+---+\n",
            "|                                             text|             target|  label|start|end|\n",
            "+-------------------------------------------------+-------------------+-------+-----+---+\n",
            "|She has no history of liver disease , hepatitis .|      liver disease| absent|    5|  6|\n",
            "|                         1. Undesired fertility .|undesired fertility|present|    1|  2|\n",
            "|                            3) STATUS POST FALL .|               fall|present|    3|  3|\n",
            "+-------------------------------------------------+-------------------+-------+-----+---+\n",
            "only showing top 3 rows\n",
            "\n"
          ]
        }
      ],
      "source": [
        "assertion_df.show(3, truncate=100)"
      ]
    },
    {
      "cell_type": "code",
      "execution_count": 67,
      "metadata": {
        "colab": {
          "base_uri": "https://localhost:8080/"
        },
        "id": "B6IuDZ9Qw7Cu",
        "outputId": "fcd6c346-86c5-4c02-b898-e9e465556980"
      },
      "outputs": [
        {
          "output_type": "stream",
          "name": "stdout",
          "text": [
            "Training Dataset Count: 721\n",
            "Test Dataset Count: 170\n"
          ]
        }
      ],
      "source": [
        "(training_data, test_data) = assertion_df.randomSplit([0.8, 0.2], seed = 100)\n",
        "print(\"Training Dataset Count: \" + str(training_data.count()))\n",
        "print(\"Test Dataset Count: \" + str(test_data.count()))"
      ]
    },
    {
      "cell_type": "code",
      "execution_count": 68,
      "metadata": {
        "colab": {
          "base_uri": "https://localhost:8080/"
        },
        "id": "fktQ3EbBZwo-",
        "outputId": "24dfce03-e918-4e54-a7d8-e8cbb7cdfd22"
      },
      "outputs": [
        {
          "output_type": "stream",
          "name": "stdout",
          "text": [
            "+-------+-----+\n",
            "|label  |count|\n",
            "+-------+-----+\n",
            "|present|546  |\n",
            "|absent |175  |\n",
            "+-------+-----+\n",
            "\n"
          ]
        }
      ],
      "source": [
        "training_data.groupBy('label').count().orderBy('count', ascending=False).show(truncate=False)"
      ]
    },
    {
      "cell_type": "code",
      "execution_count": 69,
      "metadata": {
        "colab": {
          "base_uri": "https://localhost:8080/"
        },
        "id": "UTNhwoSDLLVG",
        "outputId": "6a4117f6-3c68-4785-ec9d-7b1ae3ee0840"
      },
      "outputs": [
        {
          "output_type": "stream",
          "name": "stdout",
          "text": [
            "embeddings_clinical download started this may take some time.\n",
            "Approximate size to download 1.6 GB\n",
            "[OK!]\n"
          ]
        }
      ],
      "source": [
        "document = DocumentAssembler()\\\n",
        "    .setInputCol(\"text\")\\\n",
        "    .setOutputCol(\"document\")\n",
        "\n",
        "chunk = Doc2Chunk()\\\n",
        "    .setInputCols(\"document\")\\\n",
        "    .setOutputCol(\"chunk\")\\\n",
        "    .setChunkCol(\"target\")\\\n",
        "    .setStartCol(\"start\")\\\n",
        "    .setStartColByTokenIndex(True)\\\n",
        "    .setFailOnMissing(False)\\\n",
        "    .setLowerCase(True)\n",
        "\n",
        "token = Tokenizer()\\\n",
        "    .setInputCols(['document'])\\\n",
        "    .setOutputCol('token')\n",
        "\n",
        "embeddings = WordEmbeddingsModel.pretrained(\"embeddings_clinical\", \"en\", \"clinical/models\")\\\n",
        "    .setInputCols([\"document\", \"token\"])\\\n",
        "    .setOutputCol(\"embeddings\")\n"
      ]
    },
    {
      "cell_type": "markdown",
      "metadata": {
        "id": "Lkp7KmK6pv0-"
      },
      "source": [
        "We will transform our test data with a pipeline consisting of same steps with the pipeline which contains AssertionDLApproach.\n",
        "By doing this, we enable that test data will have same columns with training data in AssertionDLApproach. <br/>\n",
        "The goal of this implementation is enabling the usage of `setTestDataset()` parameter in AssertionDLApproach. "
      ]
    },
    {
      "cell_type": "code",
      "execution_count": 70,
      "metadata": {
        "id": "-7DScL2-uIOm"
      },
      "outputs": [],
      "source": [
        "clinical_assertion_pipeline = Pipeline(\n",
        "    stages = [\n",
        "    document,\n",
        "    chunk,\n",
        "    token,\n",
        "    embeddings])\n",
        "\n",
        "assertion_test_data = clinical_assertion_pipeline.fit(test_data).transform(test_data)"
      ]
    },
    {
      "cell_type": "code",
      "execution_count": 71,
      "metadata": {
        "colab": {
          "base_uri": "https://localhost:8080/"
        },
        "id": "nwuyumqGuHwY",
        "outputId": "7a841db3-2a4d-4d00-e582-b28117556573"
      },
      "outputs": [
        {
          "output_type": "execute_result",
          "data": {
            "text/plain": [
              "['text',\n",
              " 'target',\n",
              " 'label',\n",
              " 'start',\n",
              " 'end',\n",
              " 'document',\n",
              " 'chunk',\n",
              " 'token',\n",
              " 'embeddings']"
            ]
          },
          "metadata": {},
          "execution_count": 71
        }
      ],
      "source": [
        "assertion_test_data.columns"
      ]
    },
    {
      "cell_type": "markdown",
      "metadata": {
        "id": "aE-99quUsJ5V"
      },
      "source": [
        "We save the test data in parquet format to use in `AssertionDLApproach()`. "
      ]
    },
    {
      "cell_type": "code",
      "execution_count": 72,
      "metadata": {
        "id": "A3Hx0w05uQ7E"
      },
      "outputs": [],
      "source": [
        "assertion_test_data.write.parquet('i2b2_assertion_sample_test_data.parquet')"
      ]
    },
    {
      "cell_type": "markdown",
      "metadata": {
        "id": "uTishXbut1MS"
      },
      "source": [
        "## Graph setup"
      ]
    },
    {
      "cell_type": "code",
      "execution_count": null,
      "metadata": {
        "id": "1hTawAHemzGn"
      },
      "outputs": [],
      "source": [
        "!pip install -q tensorflow==2.7.0\n",
        "!pip install -q tensorflow-addons"
      ]
    },
    {
      "cell_type": "markdown",
      "metadata": {
        "id": "0ShZT8BBo4FY"
      },
      "source": [
        "We will use TFGraphBuilder annotator which can be used to create graphs in the model training pipeline. \n",
        "\n",
        "TFGraphBuilder inspects the data and creates the proper graph if a suitable version of TensorFlow (<= 2.7 ) is available. The graph is stored in the defined folder and loaded by the approach."
      ]
    },
    {
      "cell_type": "code",
      "execution_count": 74,
      "metadata": {
        "id": "ojPhRpo6o0xM"
      },
      "outputs": [],
      "source": [
        "from sparknlp_jsl.annotator import TFGraphBuilder"
      ]
    },
    {
      "cell_type": "code",
      "execution_count": 75,
      "metadata": {
        "id": "XhU0L1OXdaLN"
      },
      "outputs": [],
      "source": [
        "graph_folder= \"./tf_graphs\""
      ]
    },
    {
      "cell_type": "code",
      "execution_count": 76,
      "metadata": {
        "id": "miNgoTjio0mL"
      },
      "outputs": [],
      "source": [
        "assertion_graph_builder = TFGraphBuilder()\\\n",
        "    .setModelName(\"assertion_dl\")\\\n",
        "    .setInputCols([\"sentence\", \"token\", \"embeddings\"]) \\\n",
        "    .setLabelColumn(\"label\")\\\n",
        "    .setGraphFolder(graph_folder)\\\n",
        "    .setGraphFile(\"assertion_graph.pb\")\\\n",
        "    .setMaxSequenceLength(250)\\\n",
        "    .setHiddenUnitsNumber(25)"
      ]
    },
    {
      "cell_type": "code",
      "execution_count": null,
      "metadata": {
        "id": "zl1xBA65IZ2j"
      },
      "outputs": [],
      "source": [
        "'''\n",
        "# ready to use tf_graph\n",
        "\n",
        "!mkdir training_logs\n",
        "!mkdir assertion_tf_graph\n",
        "\n",
        "!wget -q https://raw.githubusercontent.com/JohnSnowLabs/spark-nlp-workshop/master/tutorials/Certification_Trainings/Healthcare/tf_graphs/blstm_34_32_30_200_2.pb -P /content/assertion_tf_graph\n",
        "'''"
      ]
    },
    {
      "cell_type": "code",
      "execution_count": null,
      "metadata": {
        "id": "RNzTsoSeXezx"
      },
      "outputs": [],
      "source": [
        "'''\n",
        "# create custom graph\n",
        "\n",
        "from sparknlp_jsl.training import tf_graph\n",
        "tf_graph.print_model_params(\"assertion_dl\")\n",
        "\n",
        "feat_size = 200\n",
        "n_classes = 6\n",
        "\n",
        "tf_graph.build(\"assertion_dl\",\n",
        "              build_params={\"n_classes\": n_classes},\n",
        "              model_location= \"./tf_graphs\", \n",
        "              model_filename=\"blstm_34_32_30_{}_{}.pb\".format(feat_size, n_classes))\n",
        "'''"
      ]
    },
    {
      "cell_type": "markdown",
      "metadata": {
        "id": "6D0Ng7nMUjJa"
      },
      "source": [
        "**Setting the Scope Window (Target Area) Dynamically in Assertion Status Detection Models**\n",
        "\n",
        "\n",
        "This parameter allows you to train the Assertion Status Models to focus on specific context windows when resolving the status of a NER chunk. The window is in format `[X,Y]` being `X` the number of tokens to consider on the left of the chunk, and `Y` the max number of tokens to consider on the right. Let’s take a look at what different windows mean:\n",
        "\n",
        "\n",
        "*   By default, the window is `[-1,-1]` which means that the Assertion Status will look at all of the tokens in the sentence/document (up to a maximum of tokens set in `setMaxSentLen()` ).\n",
        "*   `[0,0]` means “don’t pay attention to any token except the ner_chunk”, what basically is not considering any context for the Assertion resolution.\n",
        "*   `[9,15]` is what empirically seems to be the best baseline, meaning that we look up to 9 tokens on the left and 15 on the right of the ner chunk to understand the context and resolve the status.\n",
        "\n",
        "\n",
        "Check this [Scope Window Tuning Assertion Status Detection notebook](https://github.com/JohnSnowLabs/spark-nlp-workshop/blob/master/tutorials/Certification_Trainings/Healthcare/2.1.Scope_window_tuning_assertion_status_detection.ipynb)  that illustrates the effect of the different windows and how to properly fine-tune your AssertionDLModels to get the best of them.\n",
        "\n",
        "In our case, the best Scope Window is around [10,10]"
      ]
    },
    {
      "cell_type": "code",
      "execution_count": 77,
      "metadata": {
        "id": "qG2o6Yq2xk4N",
        "outputId": "a8141e68-aa28-4302-f301-d7750d7ccb8a",
        "colab": {
          "base_uri": "https://localhost:8080/",
          "height": 70
        }
      },
      "outputs": [
        {
          "output_type": "execute_result",
          "data": {
            "text/plain": [
              "'\\nIf .setTestDataset parameter is employed, raw test data cannot be fitted. .setTestDataset only works for dataframes which are correctly transformed\\nby a pipeline consisting of document, chunk, embeddings stages.\\n'"
            ],
            "application/vnd.google.colaboratory.intrinsic+json": {
              "type": "string"
            }
          },
          "metadata": {},
          "execution_count": 77
        }
      ],
      "source": [
        "scope_window = [10,10]\n",
        "\n",
        "assertionStatus = AssertionDLApproach()\\\n",
        "    .setLabelCol(\"label\")\\\n",
        "    .setInputCols(\"document\", \"chunk\", \"embeddings\")\\\n",
        "    .setOutputCol(\"assertion\")\\\n",
        "    .setBatchSize(128)\\\n",
        "    .setDropout(0.1)\\\n",
        "    .setLearningRate(0.001)\\\n",
        "    .setEpochs(15)\\\n",
        "    .setValidationSplit(0.2)\\\n",
        "    .setStartCol(\"start\")\\\n",
        "    .setEndCol(\"end\")\\\n",
        "    .setMaxSentLen(250)\\\n",
        "    .setIncludeConfidence(True)\\\n",
        "    .setEnableOutputLogs(True)\\\n",
        "    .setOutputLogsPath('training_logs/')\\\n",
        "    .setGraphFolder(graph_folder)\\\n",
        "    .setGraphFile(f\"{graph_folder}/assertion_graph.pb\")\\\n",
        "    .setTestDataset(path=\"/content/i2b2_assertion_sample_test_data.parquet\")\\\n",
        "    .setScopeWindow(scope_window)\n",
        "\n",
        "'''\n",
        "If .setTestDataset parameter is employed, raw test data cannot be fitted. .setTestDataset only works for dataframes which are correctly transformed\n",
        "by a pipeline consisting of document, chunk, embeddings stages.\n",
        "'''"
      ]
    },
    {
      "cell_type": "code",
      "execution_count": null,
      "metadata": {
        "id": "97ATs6a41jdE"
      },
      "outputs": [],
      "source": [
        "'''\n",
        "assertionStatus = AssertionLogRegApproach()\\\n",
        "    .setLabelCol(\"label\")\\\n",
        "    .setInputCols(\"document\", \"chunk\", \"embeddings\")\\\n",
        "    .setOutputCol(\"assertion\")\\\n",
        "    .setMaxIter(100) # default: 26\n",
        "'''"
      ]
    },
    {
      "cell_type": "code",
      "execution_count": 78,
      "metadata": {
        "id": "EKRL7Oy4MC1C"
      },
      "outputs": [],
      "source": [
        "clinical_assertion_pipeline = Pipeline(\n",
        "    stages = [\n",
        "    document,\n",
        "    chunk,\n",
        "    token,\n",
        "    embeddings,\n",
        "    assertion_graph_builder,\n",
        "    assertionStatus])"
      ]
    },
    {
      "cell_type": "code",
      "execution_count": 79,
      "metadata": {
        "colab": {
          "base_uri": "https://localhost:8080/"
        },
        "id": "Ei54XasnMU0U",
        "outputId": "c799da6e-5424-43d2-929c-035f5a6c805f"
      },
      "outputs": [
        {
          "output_type": "stream",
          "name": "stdout",
          "text": [
            "TF Graph Builder configuration:\n",
            "Model name: assertion_dl\n",
            "Graph folder: ./tf_graphs\n",
            "Graph file name: assertion_graph.pb\n",
            "Build params: {'n_classes': 2, 'feat_size': 200, 'max_seq_len': 250, 'n_hidden': 25}\n"
          ]
        },
        {
          "output_type": "stream",
          "name": "stderr",
          "text": [
            "WARNING:tensorflow:From /usr/local/lib/python3.7/dist-packages/tensorflow/python/compat/v2_compat.py:111: disable_resource_variables (from tensorflow.python.ops.variable_scope) is deprecated and will be removed in a future version.\n",
            "Instructions for updating:\n",
            "non-resource variables are not supported in the long term\n"
          ]
        },
        {
          "output_type": "stream",
          "name": "stdout",
          "text": [
            "Device mapping:\n",
            "/job:localhost/replica:0/task:0/device:GPU:0 -> device: 0, name: Tesla T4, pci bus id: 0000:00:04.0, compute capability: 7.5\n",
            "\n"
          ]
        },
        {
          "output_type": "stream",
          "name": "stderr",
          "text": [
            "WARNING:tensorflow:From /usr/local/lib/python3.7/dist-packages/sparknlp_jsl/_tf_graph_builders/tf2contrib/rnn.py:239: bidirectional_dynamic_rnn (from tensorflow.python.ops.rnn) is deprecated and will be removed in a future version.\n",
            "Instructions for updating:\n",
            "Please use `keras.layers.Bidirectional(keras.layers.RNN(cell))`, which is equivalent to this API\n",
            "WARNING:tensorflow:From /usr/local/lib/python3.7/dist-packages/tensorflow/python/ops/rnn.py:450: dynamic_rnn (from tensorflow.python.ops.rnn) is deprecated and will be removed in a future version.\n",
            "Instructions for updating:\n",
            "Please use `keras.layers.RNN(cell)`, which is equivalent to this API\n",
            "WARNING:tensorflow:From /usr/local/lib/python3.7/dist-packages/tensorflow/python/keras/layers/legacy_rnn/rnn_cell_impl.py:766: calling Zeros.__init__ (from tensorflow.python.ops.init_ops) with dtype is deprecated and will be removed in a future version.\n",
            "Instructions for updating:\n",
            "Call initializer instance with the dtype argument instead of passing it to the constructor\n"
          ]
        },
        {
          "output_type": "stream",
          "name": "stdout",
          "text": [
            "Device mapping:\n",
            "/job:localhost/replica:0/task:0/device:GPU:0 -> device: 0, name: Tesla T4, pci bus id: 0000:00:04.0, compute capability: 7.5\n",
            "\n",
            "assertion_dl graph exported to ./tf_graphs/assertion_graph.pb\n",
            "CPU times: user 11.8 s, sys: 1.06 s, total: 12.9 s\n",
            "Wall time: 2min 7s\n"
          ]
        }
      ],
      "source": [
        "%%time\n",
        "\n",
        "assertion_model = clinical_assertion_pipeline.fit(training_data)"
      ]
    },
    {
      "cell_type": "code",
      "source": [
        "## Checking the results"
      ],
      "metadata": {
        "id": "sQe1vZSceF-r"
      },
      "execution_count": 80,
      "outputs": []
    },
    {
      "cell_type": "markdown",
      "metadata": {
        "id": "30SmcTiSpnWa"
      },
      "source": [
        "Checking the results saved in the log file"
      ]
    },
    {
      "cell_type": "code",
      "execution_count": 81,
      "metadata": {
        "colab": {
          "base_uri": "https://localhost:8080/"
        },
        "id": "kOiu1vuspKut",
        "outputId": "d4c8db20-3b4d-4311-b1b9-a9a322d58c98"
      },
      "outputs": [
        {
          "output_type": "execute_result",
          "data": {
            "text/plain": [
              "['AssertionDLApproach_164794b35a27.log']"
            ]
          },
          "metadata": {},
          "execution_count": 81
        }
      ],
      "source": [
        "import os\n",
        "\n",
        "log_files = os.listdir(\"./training_logs\")\n",
        "log_files"
      ]
    },
    {
      "cell_type": "code",
      "execution_count": 82,
      "metadata": {
        "colab": {
          "base_uri": "https://localhost:8080/"
        },
        "id": "CcQV0-fIrJHz",
        "outputId": "50063e20-966d-4f3a-c54b-591b2de088c6"
      },
      "outputs": [
        {
          "output_type": "stream",
          "name": "stdout",
          "text": [
            "Name of the selected graph: ./tf_graphs/assertion_graph.pb\n",
            "Training started, trainExamples: 721\n",
            "\n",
            "\n",
            "Epoch: 0 started, learning rate: 0.001, dataset size: 577\n",
            "Done, 6.580729447 total training loss: 3.93294, avg training loss: 0.786588, batches: 5\n",
            "Quality on validation dataset (20.0%), validation examples = 144\n",
            "time to finish evaluation: 0.91s\n",
            "Total validation loss: 1.1309\tAvg validation loss: 0.5655\n",
            "label\t tp\t fp\t fn\t prec\t rec\t f1\n",
            "present\t 87\t 24\t 25\t 0.7837838\t 0.77678573\t 0.7802691\n",
            "absent\t 8\t 25\t 24\t 0.24242425\t 0.25\t 0.24615385\n",
            "tp: 95 fp: 49 fn: 49 labels: 2\n",
            "Macro-average\t prec: 0.513104, rec: 0.51339287, f1: 0.5132484\n",
            "Micro-average\t prec: 0.6597222, rec: 0.6597222, f1: 0.6597222\n",
            "\n",
            "\n",
            "Quality on test dataset: \n",
            "time to finish evaluation: 0.83s\n",
            "Total test loss: 1.2326\tAvg test loss: 0.6163\n",
            "label\t tp\t fp\t fn\t prec\t rec\t f1\n",
            "present\t 93\t 40\t 24\t 0.69924814\t 0.7948718\t 0.7440001\n",
            "absent\t 13\t 24\t 40\t 0.35135135\t 0.24528302\t 0.2888889\n",
            "tp: 106 fp: 64 fn: 64 labels: 2\n",
            "Macro-average\t prec: 0.5252997, rec: 0.5200774, f1: 0.5226755\n",
            "Micro-average\t prec: 0.62352943, rec: 0.62352943, f1: 0.62352943\n",
            "\n",
            "\n",
            "Epoch: 1 started, learning rate: 9.5E-4, dataset size: 577\n",
            "Done, 4.251736288 total training loss: 2.8585346, avg training loss: 0.5717069, batches: 5\n",
            "Quality on validation dataset (20.0%), validation examples = 144\n",
            "time to finish evaluation: 0.58s\n",
            "Total validation loss: 0.8679\tAvg validation loss: 0.4339\n",
            "label\t tp\t fp\t fn\t prec\t rec\t f1\n",
            "present\t 103\t 29\t 9\t 0.780303\t 0.91964287\t 0.8442623\n",
            "absent\t 3\t 9\t 29\t 0.25\t 0.09375\t 0.13636364\n",
            "tp: 106 fp: 38 fn: 38 labels: 2\n",
            "Macro-average\t prec: 0.5151515, rec: 0.50669646, f1: 0.510889\n",
            "Micro-average\t prec: 0.7361111, rec: 0.7361111, f1: 0.7361111\n",
            "\n",
            "\n",
            "Quality on test dataset: \n",
            "time to finish evaluation: 0.71s\n",
            "Total test loss: 1.4148\tAvg test loss: 0.7074\n",
            "label\t tp\t fp\t fn\t prec\t rec\t f1\n",
            "present\t 111\t 50\t 6\t 0.68944097\t 0.94871795\t 0.79856116\n",
            "absent\t 3\t 6\t 50\t 0.33333334\t 0.056603774\t 0.0967742\n",
            "tp: 114 fp: 56 fn: 56 labels: 2\n",
            "Macro-average\t prec: 0.51138717, rec: 0.5026609, f1: 0.50698644\n",
            "Micro-average\t prec: 0.67058825, rec: 0.67058825, f1: 0.67058825\n",
            "\n",
            "\n",
            "Epoch: 2 started, learning rate: 9.025E-4, dataset size: 577\n",
            "Done, 4.018928157 total training loss: 3.0118043, avg training loss: 0.60236084, batches: 5\n",
            "Quality on validation dataset (20.0%), validation examples = 144\n",
            "time to finish evaluation: 0.59s\n",
            "Total validation loss: 0.8572\tAvg validation loss: 0.4286\n",
            "label\t tp\t fp\t fn\t prec\t rec\t f1\n",
            "present\t 102\t 28\t 10\t 0.7846154\t 0.91071427\t 0.8429752\n",
            "absent\t 4\t 10\t 28\t 0.2857143\t 0.125\t 0.17391305\n",
            "tp: 106 fp: 38 fn: 38 labels: 2\n",
            "Macro-average\t prec: 0.53516483, rec: 0.51785713, f1: 0.52636874\n",
            "Micro-average\t prec: 0.7361111, rec: 0.7361111, f1: 0.7361111\n",
            "\n",
            "\n",
            "Quality on test dataset: \n",
            "time to finish evaluation: 0.77s\n",
            "Total test loss: 1.2643\tAvg test loss: 0.6321\n",
            "label\t tp\t fp\t fn\t prec\t rec\t f1\n",
            "present\t 111\t 50\t 6\t 0.68944097\t 0.94871795\t 0.79856116\n",
            "absent\t 3\t 6\t 50\t 0.33333334\t 0.056603774\t 0.0967742\n",
            "tp: 114 fp: 56 fn: 56 labels: 2\n",
            "Macro-average\t prec: 0.51138717, rec: 0.5026609, f1: 0.50698644\n",
            "Micro-average\t prec: 0.67058825, rec: 0.67058825, f1: 0.67058825\n",
            "\n",
            "\n",
            "Epoch: 3 started, learning rate: 8.57375E-4, dataset size: 577\n",
            "Done, 4.157220183 total training loss: 2.7619505, avg training loss: 0.5523901, batches: 5\n",
            "Quality on validation dataset (20.0%), validation examples = 144\n",
            "time to finish evaluation: 0.57s\n",
            "Total validation loss: 0.9591\tAvg validation loss: 0.4796\n",
            "label\t tp\t fp\t fn\t prec\t rec\t f1\n",
            "present\t 98\t 27\t 14\t 0.784\t 0.875\t 0.82700425\n",
            "absent\t 5\t 14\t 27\t 0.2631579\t 0.15625\t 0.19607842\n",
            "tp: 103 fp: 41 fn: 41 labels: 2\n",
            "Macro-average\t prec: 0.52357894, rec: 0.515625, f1: 0.51957154\n",
            "Micro-average\t prec: 0.7152778, rec: 0.7152778, f1: 0.7152778\n",
            "\n",
            "\n",
            "Quality on test dataset: \n",
            "time to finish evaluation: 0.72s\n",
            "Total test loss: 1.1585\tAvg test loss: 0.5793\n",
            "label\t tp\t fp\t fn\t prec\t rec\t f1\n",
            "present\t 107\t 45\t 10\t 0.70394737\t 0.9145299\t 0.795539\n",
            "absent\t 8\t 10\t 45\t 0.44444445\t 0.1509434\t 0.22535214\n",
            "tp: 115 fp: 55 fn: 55 labels: 2\n",
            "Macro-average\t prec: 0.5741959, rec: 0.53273666, f1: 0.55268985\n",
            "Micro-average\t prec: 0.6764706, rec: 0.6764706, f1: 0.6764706\n",
            "\n",
            "\n",
            "Epoch: 4 started, learning rate: 8.145062E-4, dataset size: 577\n",
            "Done, 4.103088625 total training loss: 2.7757924, avg training loss: 0.5551585, batches: 5\n",
            "Quality on validation dataset (20.0%), validation examples = 144\n",
            "time to finish evaluation: 0.58s\n",
            "Total validation loss: 0.9771\tAvg validation loss: 0.4885\n",
            "label\t tp\t fp\t fn\t prec\t rec\t f1\n",
            "present\t 98\t 26\t 14\t 0.7903226\t 0.875\t 0.8305085\n",
            "absent\t 6\t 14\t 26\t 0.3\t 0.1875\t 0.23076923\n",
            "tp: 104 fp: 40 fn: 40 labels: 2\n",
            "Macro-average\t prec: 0.5451613, rec: 0.53125, f1: 0.5381158\n",
            "Micro-average\t prec: 0.7222222, rec: 0.7222222, f1: 0.72222215\n",
            "\n",
            "\n",
            "Quality on test dataset: \n",
            "time to finish evaluation: 0.72s\n",
            "Total test loss: 1.1409\tAvg test loss: 0.5705\n",
            "label\t tp\t fp\t fn\t prec\t rec\t f1\n",
            "present\t 105\t 44\t 12\t 0.70469797\t 0.8974359\t 0.78947365\n",
            "absent\t 9\t 12\t 44\t 0.42857143\t 0.16981132\t 0.24324323\n",
            "tp: 114 fp: 56 fn: 56 labels: 2\n",
            "Macro-average\t prec: 0.5666347, rec: 0.53362364, f1: 0.549634\n",
            "Micro-average\t prec: 0.67058825, rec: 0.67058825, f1: 0.67058825\n",
            "\n",
            "\n",
            "Epoch: 5 started, learning rate: 7.7378086E-4, dataset size: 577\n",
            "Done, 4.197404592 total training loss: 2.6884596, avg training loss: 0.53769195, batches: 5\n",
            "Quality on validation dataset (20.0%), validation examples = 144\n",
            "time to finish evaluation: 0.58s\n",
            "Total validation loss: 0.8520\tAvg validation loss: 0.4260\n",
            "label\t tp\t fp\t fn\t prec\t rec\t f1\n",
            "present\t 102\t 27\t 10\t 0.7906977\t 0.91071427\t 0.84647304\n",
            "absent\t 5\t 10\t 27\t 0.33333334\t 0.15625\t 0.21276596\n",
            "tp: 107 fp: 37 fn: 37 labels: 2\n",
            "Macro-average\t prec: 0.56201553, rec: 0.53348213, f1: 0.5473773\n",
            "Micro-average\t prec: 0.7430556, rec: 0.7430556, f1: 0.7430556\n",
            "\n",
            "\n",
            "Quality on test dataset: \n",
            "time to finish evaluation: 0.72s\n",
            "Total test loss: 1.1229\tAvg test loss: 0.5614\n",
            "label\t tp\t fp\t fn\t prec\t rec\t f1\n",
            "present\t 111\t 48\t 6\t 0.6981132\t 0.94871795\t 0.8043478\n",
            "absent\t 5\t 6\t 48\t 0.45454547\t 0.094339624\t 0.15625\n",
            "tp: 116 fp: 54 fn: 54 labels: 2\n",
            "Macro-average\t prec: 0.57632935, rec: 0.5215288, f1: 0.5475613\n",
            "Micro-average\t prec: 0.68235296, rec: 0.68235296, f1: 0.68235296\n",
            "\n",
            "\n",
            "Epoch: 6 started, learning rate: 7.350918E-4, dataset size: 577\n",
            "Done, 4.021635788 total training loss: 2.6151695, avg training loss: 0.5230339, batches: 5\n",
            "Quality on validation dataset (20.0%), validation examples = 144\n",
            "time to finish evaluation: 0.56s\n",
            "Total validation loss: 0.8031\tAvg validation loss: 0.4015\n",
            "label\t tp\t fp\t fn\t prec\t rec\t f1\n",
            "present\t 103\t 28\t 9\t 0.78625953\t 0.91964287\t 0.84773666\n",
            "absent\t 4\t 9\t 28\t 0.30769232\t 0.125\t 0.17777778\n",
            "tp: 107 fp: 37 fn: 37 labels: 2\n",
            "Macro-average\t prec: 0.5469759, rec: 0.52232146, f1: 0.53436446\n",
            "Micro-average\t prec: 0.7430556, rec: 0.7430556, f1: 0.7430556\n",
            "\n",
            "\n",
            "Quality on test dataset: \n",
            "time to finish evaluation: 0.71s\n",
            "Total test loss: 1.1125\tAvg test loss: 0.5562\n",
            "label\t tp\t fp\t fn\t prec\t rec\t f1\n",
            "present\t 112\t 49\t 5\t 0.6956522\t 0.95726496\t 0.80575544\n",
            "absent\t 4\t 5\t 49\t 0.44444445\t 0.0754717\t 0.12903225\n",
            "tp: 116 fp: 54 fn: 54 labels: 2\n",
            "Macro-average\t prec: 0.57004833, rec: 0.5163683, f1: 0.54188216\n",
            "Micro-average\t prec: 0.68235296, rec: 0.68235296, f1: 0.68235296\n",
            "\n",
            "\n",
            "Epoch: 7 started, learning rate: 6.983372E-4, dataset size: 577\n",
            "Done, 4.102925753 total training loss: 2.4892437, avg training loss: 0.49784875, batches: 5\n",
            "Quality on validation dataset (20.0%), validation examples = 144\n",
            "time to finish evaluation: 0.56s\n",
            "Total validation loss: 0.7935\tAvg validation loss: 0.3968\n",
            "label\t tp\t fp\t fn\t prec\t rec\t f1\n",
            "present\t 102\t 27\t 10\t 0.7906977\t 0.91071427\t 0.84647304\n",
            "absent\t 5\t 10\t 27\t 0.33333334\t 0.15625\t 0.21276596\n",
            "tp: 107 fp: 37 fn: 37 labels: 2\n",
            "Macro-average\t prec: 0.56201553, rec: 0.53348213, f1: 0.5473773\n",
            "Micro-average\t prec: 0.7430556, rec: 0.7430556, f1: 0.7430556\n",
            "\n",
            "\n",
            "Quality on test dataset: \n",
            "time to finish evaluation: 0.78s\n",
            "Total test loss: 1.0478\tAvg test loss: 0.5239\n",
            "label\t tp\t fp\t fn\t prec\t rec\t f1\n",
            "present\t 110\t 45\t 7\t 0.7096774\t 0.94017094\t 0.8088235\n",
            "absent\t 8\t 7\t 45\t 0.53333336\t 0.1509434\t 0.23529412\n",
            "tp: 118 fp: 52 fn: 52 labels: 2\n",
            "Macro-average\t prec: 0.6215054, rec: 0.54555714, f1: 0.58106\n",
            "Micro-average\t prec: 0.69411767, rec: 0.69411767, f1: 0.69411767\n",
            "\n",
            "\n",
            "Epoch: 8 started, learning rate: 6.6342036E-4, dataset size: 577\n",
            "Done, 4.242372033 total training loss: 2.3723264, avg training loss: 0.47446528, batches: 5\n",
            "Quality on validation dataset (20.0%), validation examples = 144\n",
            "time to finish evaluation: 0.59s\n",
            "Total validation loss: 0.7830\tAvg validation loss: 0.3915\n",
            "label\t tp\t fp\t fn\t prec\t rec\t f1\n",
            "present\t 102\t 24\t 10\t 0.8095238\t 0.91071427\t 0.85714287\n",
            "absent\t 8\t 10\t 24\t 0.44444445\t 0.25\t 0.32000002\n",
            "tp: 110 fp: 34 fn: 34 labels: 2\n",
            "Macro-average\t prec: 0.6269841, rec: 0.58035713, f1: 0.60277027\n",
            "Micro-average\t prec: 0.7638889, rec: 0.7638889, f1: 0.7638889\n",
            "\n",
            "\n",
            "Quality on test dataset: \n",
            "time to finish evaluation: 0.69s\n",
            "Total test loss: 0.9725\tAvg test loss: 0.4862\n",
            "label\t tp\t fp\t fn\t prec\t rec\t f1\n",
            "present\t 110\t 40\t 7\t 0.73333335\t 0.94017094\t 0.82397\n",
            "absent\t 13\t 7\t 40\t 0.65\t 0.24528302\t 0.3561644\n",
            "tp: 123 fp: 47 fn: 47 labels: 2\n",
            "Macro-average\t prec: 0.69166666, rec: 0.592727, f1: 0.6383861\n",
            "Micro-average\t prec: 0.7235294, rec: 0.7235294, f1: 0.7235294\n",
            "\n",
            "\n",
            "Epoch: 9 started, learning rate: 6.302493E-4, dataset size: 577\n",
            "Done, 4.715855727 total training loss: 2.2648504, avg training loss: 0.4529701, batches: 5\n",
            "Quality on validation dataset (20.0%), validation examples = 144\n",
            "time to finish evaluation: 1.02s\n",
            "Total validation loss: 0.7332\tAvg validation loss: 0.3666\n",
            "label\t tp\t fp\t fn\t prec\t rec\t f1\n",
            "present\t 103\t 18\t 9\t 0.8512397\t 0.91964287\t 0.88412017\n",
            "absent\t 14\t 9\t 18\t 0.6086956\t 0.4375\t 0.5090909\n",
            "tp: 117 fp: 27 fn: 27 labels: 2\n",
            "Macro-average\t prec: 0.72996765, rec: 0.67857146, f1: 0.7033319\n",
            "Micro-average\t prec: 0.8125, rec: 0.8125, f1: 0.8125\n",
            "\n",
            "\n",
            "Quality on test dataset: \n",
            "time to finish evaluation: 0.83s\n",
            "Total test loss: 0.8973\tAvg test loss: 0.4487\n",
            "label\t tp\t fp\t fn\t prec\t rec\t f1\n",
            "present\t 110\t 34\t 7\t 0.7638889\t 0.94017094\t 0.8429119\n",
            "absent\t 19\t 7\t 34\t 0.7307692\t 0.35849056\t 0.48101264\n",
            "tp: 129 fp: 41 fn: 41 labels: 2\n",
            "Macro-average\t prec: 0.74732906, rec: 0.64933074, f1: 0.6948918\n",
            "Micro-average\t prec: 0.7588235, rec: 0.7588235, f1: 0.7588235\n",
            "\n",
            "\n",
            "Epoch: 10 started, learning rate: 5.9873686E-4, dataset size: 577\n",
            "Done, 3.981619052 total training loss: 2.090193, avg training loss: 0.4180386, batches: 5\n",
            "Quality on validation dataset (20.0%), validation examples = 144\n",
            "time to finish evaluation: 0.57s\n",
            "Total validation loss: 0.6847\tAvg validation loss: 0.3423\n",
            "label\t tp\t fp\t fn\t prec\t rec\t f1\n",
            "present\t 102\t 17\t 10\t 0.85714287\t 0.91071427\t 0.8831169\n",
            "absent\t 15\t 10\t 17\t 0.6\t 0.46875\t 0.52631575\n",
            "tp: 117 fp: 27 fn: 27 labels: 2\n",
            "Macro-average\t prec: 0.7285714, rec: 0.68973213, f1: 0.70862\n",
            "Micro-average\t prec: 0.8125, rec: 0.8125, f1: 0.8125\n",
            "\n",
            "\n",
            "Quality on test dataset: \n",
            "time to finish evaluation: 0.71s\n",
            "Total test loss: 0.8107\tAvg test loss: 0.4053\n",
            "label\t tp\t fp\t fn\t prec\t rec\t f1\n",
            "present\t 111\t 27\t 6\t 0.8043478\t 0.94871795\t 0.8705882\n",
            "absent\t 26\t 6\t 27\t 0.8125\t 0.49056605\t 0.6117647\n",
            "tp: 137 fp: 33 fn: 33 labels: 2\n",
            "Macro-average\t prec: 0.8084239, rec: 0.719642, f1: 0.7614538\n",
            "Micro-average\t prec: 0.80588233, rec: 0.80588233, f1: 0.8058823\n",
            "\n",
            "\n",
            "Epoch: 11 started, learning rate: 5.688E-4, dataset size: 577\n",
            "Done, 4.167393353 total training loss: 1.9308984, avg training loss: 0.3861797, batches: 5\n",
            "Quality on validation dataset (20.0%), validation examples = 144\n",
            "time to finish evaluation: 0.58s\n",
            "Total validation loss: 0.6373\tAvg validation loss: 0.3186\n",
            "label\t tp\t fp\t fn\t prec\t rec\t f1\n",
            "present\t 102\t 15\t 10\t 0.8717949\t 0.91071427\t 0.89082974\n",
            "absent\t 17\t 10\t 15\t 0.6296296\t 0.53125\t 0.5762712\n",
            "tp: 119 fp: 25 fn: 25 labels: 2\n",
            "Macro-average\t prec: 0.7507123, rec: 0.72098213, f1: 0.7355468\n",
            "Micro-average\t prec: 0.8263889, rec: 0.8263889, f1: 0.8263889\n",
            "\n",
            "\n",
            "Quality on test dataset: \n",
            "time to finish evaluation: 0.70s\n",
            "Total test loss: 0.7243\tAvg test loss: 0.3622\n",
            "label\t tp\t fp\t fn\t prec\t rec\t f1\n",
            "present\t 109\t 20\t 8\t 0.8449612\t 0.93162394\t 0.88617885\n",
            "absent\t 33\t 8\t 20\t 0.80487806\t 0.6226415\t 0.7021277\n",
            "tp: 142 fp: 28 fn: 28 labels: 2\n",
            "Macro-average\t prec: 0.82491964, rec: 0.77713275, f1: 0.8003135\n",
            "Micro-average\t prec: 0.8352941, rec: 0.8352941, f1: 0.8352941\n",
            "\n",
            "\n",
            "Epoch: 12 started, learning rate: 5.4036E-4, dataset size: 577\n",
            "Done, 4.17253004 total training loss: 1.7342473, avg training loss: 0.34684947, batches: 5\n",
            "Quality on validation dataset (20.0%), validation examples = 144\n",
            "time to finish evaluation: 0.58s\n",
            "Total validation loss: 0.5947\tAvg validation loss: 0.2974\n",
            "label\t tp\t fp\t fn\t prec\t rec\t f1\n",
            "present\t 102\t 12\t 10\t 0.8947368\t 0.91071427\t 0.9026548\n",
            "absent\t 20\t 10\t 12\t 0.6666667\t 0.625\t 0.6451613\n",
            "tp: 122 fp: 22 fn: 22 labels: 2\n",
            "Macro-average\t prec: 0.78070176, rec: 0.76785713, f1: 0.7742261\n",
            "Micro-average\t prec: 0.8472222, rec: 0.8472222, f1: 0.8472222\n",
            "\n",
            "\n",
            "Quality on test dataset: \n",
            "time to finish evaluation: 1.09s\n",
            "Total test loss: 0.6589\tAvg test loss: 0.3294\n",
            "label\t tp\t fp\t fn\t prec\t rec\t f1\n",
            "present\t 109\t 19\t 8\t 0.8515625\t 0.93162394\t 0.88979596\n",
            "absent\t 34\t 8\t 19\t 0.8095238\t 0.6415094\t 0.71578944\n",
            "tp: 143 fp: 27 fn: 27 labels: 2\n",
            "Macro-average\t prec: 0.83054316, rec: 0.7865667, f1: 0.807957\n",
            "Micro-average\t prec: 0.84117645, rec: 0.84117645, f1: 0.84117645\n",
            "\n",
            "\n",
            "Epoch: 13 started, learning rate: 5.13342E-4, dataset size: 577\n",
            "Done, 7.510971176 total training loss: 1.6113201, avg training loss: 0.32226402, batches: 5\n",
            "Quality on validation dataset (20.0%), validation examples = 144\n",
            "time to finish evaluation: 0.94s\n",
            "Total validation loss: 0.5713\tAvg validation loss: 0.2857\n",
            "label\t tp\t fp\t fn\t prec\t rec\t f1\n",
            "present\t 104\t 12\t 8\t 0.8965517\t 0.9285714\t 0.91228074\n",
            "absent\t 20\t 8\t 12\t 0.71428573\t 0.625\t 0.6666667\n",
            "tp: 124 fp: 20 fn: 20 labels: 2\n",
            "Macro-average\t prec: 0.8054187, rec: 0.77678573, f1: 0.7908431\n",
            "Micro-average\t prec: 0.8611111, rec: 0.8611111, f1: 0.8611111\n",
            "\n",
            "\n",
            "Quality on test dataset: \n",
            "time to finish evaluation: 1.06s\n",
            "Total test loss: 0.6158\tAvg test loss: 0.3079\n",
            "label\t tp\t fp\t fn\t prec\t rec\t f1\n",
            "present\t 108\t 18\t 9\t 0.85714287\t 0.9230769\t 0.8888889\n",
            "absent\t 35\t 9\t 18\t 0.79545456\t 0.6603774\t 0.72164947\n",
            "tp: 143 fp: 27 fn: 27 labels: 2\n",
            "Macro-average\t prec: 0.8262987, rec: 0.7917272, f1: 0.80864364\n",
            "Micro-average\t prec: 0.84117645, rec: 0.84117645, f1: 0.84117645\n",
            "\n",
            "\n",
            "Epoch: 14 started, learning rate: 4.8767487E-4, dataset size: 577\n",
            "Done, 5.704485703 total training loss: 1.4570476, avg training loss: 0.29140952, batches: 5\n",
            "Quality on validation dataset (20.0%), validation examples = 144\n",
            "time to finish evaluation: 0.57s\n",
            "Total validation loss: 0.5654\tAvg validation loss: 0.2827\n",
            "label\t tp\t fp\t fn\t prec\t rec\t f1\n",
            "present\t 100\t 8\t 12\t 0.9259259\t 0.89285713\t 0.90909094\n",
            "absent\t 24\t 12\t 8\t 0.6666667\t 0.75\t 0.7058823\n",
            "tp: 124 fp: 20 fn: 20 labels: 2\n",
            "Macro-average\t prec: 0.7962963, rec: 0.82142854, f1: 0.8086671\n",
            "Micro-average\t prec: 0.8611111, rec: 0.8611111, f1: 0.8611111\n",
            "\n",
            "\n",
            "Quality on test dataset: \n",
            "time to finish evaluation: 1.05s\n",
            "Total test loss: 0.5840\tAvg test loss: 0.2920\n",
            "label\t tp\t fp\t fn\t prec\t rec\t f1\n",
            "present\t 106\t 11\t 11\t 0.9059829\t 0.9059829\t 0.9059829\n",
            "absent\t 42\t 11\t 11\t 0.7924528\t 0.7924528\t 0.7924529\n",
            "tp: 148 fp: 22 fn: 22 labels: 2\n",
            "Macro-average\t prec: 0.8492179, rec: 0.8492179, f1: 0.8492179\n",
            "Micro-average\t prec: 0.87058824, rec: 0.87058824, f1: 0.87058824\n",
            "\n",
            "\n",
            "\n"
          ]
        }
      ],
      "source": [
        "with open(\"./training_logs/\"+log_files[0]) as log_file:\n",
        "    print(log_file.read())"
      ]
    },
    {
      "cell_type": "code",
      "execution_count": 83,
      "metadata": {
        "colab": {
          "base_uri": "https://localhost:8080/"
        },
        "id": "-k2WrFkRyQyP",
        "outputId": "b3d44c33-097a-4015-e924-9162c4482324"
      },
      "outputs": [
        {
          "output_type": "stream",
          "name": "stdout",
          "text": [
            "+-------+---------+\n",
            "|  label|   result|\n",
            "+-------+---------+\n",
            "|present|[present]|\n",
            "| absent|[present]|\n",
            "|present|[present]|\n",
            "|present|[present]|\n",
            "|present|[present]|\n",
            "|present|[present]|\n",
            "|present|[present]|\n",
            "|present|[present]|\n",
            "|present|[present]|\n",
            "|present|[present]|\n",
            "|present|[present]|\n",
            "|present|[present]|\n",
            "|present|[present]|\n",
            "|present|[present]|\n",
            "|present|[present]|\n",
            "|present|[present]|\n",
            "|present|[present]|\n",
            "|present|[present]|\n",
            "|present|[present]|\n",
            "|present|[present]|\n",
            "+-------+---------+\n",
            "only showing top 20 rows\n",
            "\n"
          ]
        }
      ],
      "source": [
        "preds = assertion_model.transform(test_data).select('label','assertion.result')\n",
        "\n",
        "preds.show()"
      ]
    },
    {
      "cell_type": "code",
      "execution_count": 84,
      "metadata": {
        "id": "4yI73lwG2xk5"
      },
      "outputs": [],
      "source": [
        "preds_df = preds.toPandas()"
      ]
    },
    {
      "cell_type": "code",
      "execution_count": 85,
      "metadata": {
        "colab": {
          "base_uri": "https://localhost:8080/",
          "height": 424
        },
        "id": "yRXZFGlQ3Z2U",
        "outputId": "8bb7619b-654a-4b7f-e11b-65f04cb9b901"
      },
      "outputs": [
        {
          "output_type": "execute_result",
          "data": {
            "text/plain": [
              "       label   result\n",
              "0    present  present\n",
              "1     absent  present\n",
              "2    present  present\n",
              "3    present  present\n",
              "4    present  present\n",
              "..       ...      ...\n",
              "165  present  present\n",
              "166   absent   absent\n",
              "167   absent   absent\n",
              "168   absent   absent\n",
              "169  present  present\n",
              "\n",
              "[170 rows x 2 columns]"
            ],
            "text/html": [
              "\n",
              "  <div id=\"df-8dcf172b-5eec-4a25-ac94-1eaa934cec48\">\n",
              "    <div class=\"colab-df-container\">\n",
              "      <div>\n",
              "<style scoped>\n",
              "    .dataframe tbody tr th:only-of-type {\n",
              "        vertical-align: middle;\n",
              "    }\n",
              "\n",
              "    .dataframe tbody tr th {\n",
              "        vertical-align: top;\n",
              "    }\n",
              "\n",
              "    .dataframe thead th {\n",
              "        text-align: right;\n",
              "    }\n",
              "</style>\n",
              "<table border=\"1\" class=\"dataframe\">\n",
              "  <thead>\n",
              "    <tr style=\"text-align: right;\">\n",
              "      <th></th>\n",
              "      <th>label</th>\n",
              "      <th>result</th>\n",
              "    </tr>\n",
              "  </thead>\n",
              "  <tbody>\n",
              "    <tr>\n",
              "      <th>0</th>\n",
              "      <td>present</td>\n",
              "      <td>present</td>\n",
              "    </tr>\n",
              "    <tr>\n",
              "      <th>1</th>\n",
              "      <td>absent</td>\n",
              "      <td>present</td>\n",
              "    </tr>\n",
              "    <tr>\n",
              "      <th>2</th>\n",
              "      <td>present</td>\n",
              "      <td>present</td>\n",
              "    </tr>\n",
              "    <tr>\n",
              "      <th>3</th>\n",
              "      <td>present</td>\n",
              "      <td>present</td>\n",
              "    </tr>\n",
              "    <tr>\n",
              "      <th>4</th>\n",
              "      <td>present</td>\n",
              "      <td>present</td>\n",
              "    </tr>\n",
              "    <tr>\n",
              "      <th>...</th>\n",
              "      <td>...</td>\n",
              "      <td>...</td>\n",
              "    </tr>\n",
              "    <tr>\n",
              "      <th>165</th>\n",
              "      <td>present</td>\n",
              "      <td>present</td>\n",
              "    </tr>\n",
              "    <tr>\n",
              "      <th>166</th>\n",
              "      <td>absent</td>\n",
              "      <td>absent</td>\n",
              "    </tr>\n",
              "    <tr>\n",
              "      <th>167</th>\n",
              "      <td>absent</td>\n",
              "      <td>absent</td>\n",
              "    </tr>\n",
              "    <tr>\n",
              "      <th>168</th>\n",
              "      <td>absent</td>\n",
              "      <td>absent</td>\n",
              "    </tr>\n",
              "    <tr>\n",
              "      <th>169</th>\n",
              "      <td>present</td>\n",
              "      <td>present</td>\n",
              "    </tr>\n",
              "  </tbody>\n",
              "</table>\n",
              "<p>170 rows × 2 columns</p>\n",
              "</div>\n",
              "      <button class=\"colab-df-convert\" onclick=\"convertToInteractive('df-8dcf172b-5eec-4a25-ac94-1eaa934cec48')\"\n",
              "              title=\"Convert this dataframe to an interactive table.\"\n",
              "              style=\"display:none;\">\n",
              "        \n",
              "  <svg xmlns=\"http://www.w3.org/2000/svg\" height=\"24px\"viewBox=\"0 0 24 24\"\n",
              "       width=\"24px\">\n",
              "    <path d=\"M0 0h24v24H0V0z\" fill=\"none\"/>\n",
              "    <path d=\"M18.56 5.44l.94 2.06.94-2.06 2.06-.94-2.06-.94-.94-2.06-.94 2.06-2.06.94zm-11 1L8.5 8.5l.94-2.06 2.06-.94-2.06-.94L8.5 2.5l-.94 2.06-2.06.94zm10 10l.94 2.06.94-2.06 2.06-.94-2.06-.94-.94-2.06-.94 2.06-2.06.94z\"/><path d=\"M17.41 7.96l-1.37-1.37c-.4-.4-.92-.59-1.43-.59-.52 0-1.04.2-1.43.59L10.3 9.45l-7.72 7.72c-.78.78-.78 2.05 0 2.83L4 21.41c.39.39.9.59 1.41.59.51 0 1.02-.2 1.41-.59l7.78-7.78 2.81-2.81c.8-.78.8-2.07 0-2.86zM5.41 20L4 18.59l7.72-7.72 1.47 1.35L5.41 20z\"/>\n",
              "  </svg>\n",
              "      </button>\n",
              "      \n",
              "  <style>\n",
              "    .colab-df-container {\n",
              "      display:flex;\n",
              "      flex-wrap:wrap;\n",
              "      gap: 12px;\n",
              "    }\n",
              "\n",
              "    .colab-df-convert {\n",
              "      background-color: #E8F0FE;\n",
              "      border: none;\n",
              "      border-radius: 50%;\n",
              "      cursor: pointer;\n",
              "      display: none;\n",
              "      fill: #1967D2;\n",
              "      height: 32px;\n",
              "      padding: 0 0 0 0;\n",
              "      width: 32px;\n",
              "    }\n",
              "\n",
              "    .colab-df-convert:hover {\n",
              "      background-color: #E2EBFA;\n",
              "      box-shadow: 0px 1px 2px rgba(60, 64, 67, 0.3), 0px 1px 3px 1px rgba(60, 64, 67, 0.15);\n",
              "      fill: #174EA6;\n",
              "    }\n",
              "\n",
              "    [theme=dark] .colab-df-convert {\n",
              "      background-color: #3B4455;\n",
              "      fill: #D2E3FC;\n",
              "    }\n",
              "\n",
              "    [theme=dark] .colab-df-convert:hover {\n",
              "      background-color: #434B5C;\n",
              "      box-shadow: 0px 1px 3px 1px rgba(0, 0, 0, 0.15);\n",
              "      filter: drop-shadow(0px 1px 2px rgba(0, 0, 0, 0.3));\n",
              "      fill: #FFFFFF;\n",
              "    }\n",
              "  </style>\n",
              "\n",
              "      <script>\n",
              "        const buttonEl =\n",
              "          document.querySelector('#df-8dcf172b-5eec-4a25-ac94-1eaa934cec48 button.colab-df-convert');\n",
              "        buttonEl.style.display =\n",
              "          google.colab.kernel.accessAllowed ? 'block' : 'none';\n",
              "\n",
              "        async function convertToInteractive(key) {\n",
              "          const element = document.querySelector('#df-8dcf172b-5eec-4a25-ac94-1eaa934cec48');\n",
              "          const dataTable =\n",
              "            await google.colab.kernel.invokeFunction('convertToInteractive',\n",
              "                                                     [key], {});\n",
              "          if (!dataTable) return;\n",
              "\n",
              "          const docLinkHtml = 'Like what you see? Visit the ' +\n",
              "            '<a target=\"_blank\" href=https://colab.research.google.com/notebooks/data_table.ipynb>data table notebook</a>'\n",
              "            + ' to learn more about interactive tables.';\n",
              "          element.innerHTML = '';\n",
              "          dataTable['output_type'] = 'display_data';\n",
              "          await google.colab.output.renderOutput(dataTable, element);\n",
              "          const docLink = document.createElement('div');\n",
              "          docLink.innerHTML = docLinkHtml;\n",
              "          element.appendChild(docLink);\n",
              "        }\n",
              "      </script>\n",
              "    </div>\n",
              "  </div>\n",
              "  "
            ]
          },
          "metadata": {},
          "execution_count": 85
        }
      ],
      "source": [
        "preds_df['result'] = preds_df['result'].apply(lambda x : x[0])\n",
        "preds_df"
      ]
    },
    {
      "cell_type": "code",
      "source": [
        "# We are going to use sklearn to evalute the results on test dataset\n",
        "from sklearn.metrics import classification_report\n",
        "\n",
        "print (classification_report( preds_df['label'], preds_df['result']))"
      ],
      "metadata": {
        "colab": {
          "base_uri": "https://localhost:8080/"
        },
        "id": "1hb1kyGAE0Gn",
        "outputId": "bfca5d8b-22ef-4681-8848-4fb30b099609"
      },
      "execution_count": 86,
      "outputs": [
        {
          "output_type": "stream",
          "name": "stdout",
          "text": [
            "              precision    recall  f1-score   support\n",
            "\n",
            "      absent       0.79      0.79      0.79        53\n",
            "     present       0.91      0.91      0.91       117\n",
            "\n",
            "    accuracy                           0.87       170\n",
            "   macro avg       0.85      0.85      0.85       170\n",
            "weighted avg       0.87      0.87      0.87       170\n",
            "\n"
          ]
        }
      ]
    },
    {
      "cell_type": "code",
      "execution_count": 87,
      "metadata": {
        "id": "atNaIlnP3gKr"
      },
      "outputs": [],
      "source": [
        "# save model\n",
        "assertion_model.stages[-1].write().overwrite().save('assertion_custom_model')"
      ]
    },
    {
      "cell_type": "markdown",
      "source": [
        "## Load saved model"
      ],
      "metadata": {
        "id": "ObVtthsied4l"
      }
    },
    {
      "cell_type": "code",
      "source": [
        "clinical_ner = MedicalNerModel.pretrained(\"ner_clinical\", \"en\", \"clinical/models\") \\\n",
        "    .setInputCols([\"sentence\", \"token\", \"embeddings\"]) \\\n",
        "    .setOutputCol(\"ner\")\n",
        "\n",
        "ner_converter = NerConverter() \\\n",
        "    .setInputCols([\"sentence\", \"token\", \"ner\"]) \\\n",
        "    .setOutputCol(\"ner_chunk\")\n",
        "\n",
        "clinical_assertion = AssertionDLModel.load(\"assertion_custom_model\") \\\n",
        "    .setInputCols([\"sentence\", \"ner_chunk\", \"embeddings\"]) \\\n",
        "    .setOutputCol(\"assertion\")\n",
        "    \n",
        "nlpPipeline = Pipeline(stages=[\n",
        "    documentAssembler, \n",
        "    sentenceDetector,\n",
        "    tokenizer,\n",
        "    word_embeddings,\n",
        "    clinical_ner,\n",
        "    ner_converter,\n",
        "    clinical_assertion\n",
        "    ])\n",
        "\n",
        "empty_data = spark.createDataFrame([[\"\"]]).toDF(\"text\")\n",
        "\n",
        "model = nlpPipeline.fit(empty_data)\n"
      ],
      "metadata": {
        "id": "19w8VSGHefOq",
        "outputId": "ae2d3f87-f512-4cf0-c498-e4c2d799df6f",
        "colab": {
          "base_uri": "https://localhost:8080/"
        }
      },
      "execution_count": 88,
      "outputs": [
        {
          "output_type": "stream",
          "name": "stdout",
          "text": [
            "ner_clinical download started this may take some time.\n",
            "[OK!]\n"
          ]
        }
      ]
    },
    {
      "cell_type": "code",
      "source": [
        "text = 'Patient has a headache for the last 2 weeks, needs to get a head CT, and appears anxious when she walks fast. No alopecia noted. She denies pain'\n",
        "\n",
        "light_model = LightPipeline(model)\n",
        "\n",
        "light_result = light_model.fullAnnotate(text)[0]\n",
        "\n",
        "print(text)\n",
        "\n",
        "chunks=[]\n",
        "entities=[]\n",
        "status=[]\n",
        "confidence=[]\n",
        "for n,m in zip(light_result['ner_chunk'],light_result['assertion']):\n",
        "    \n",
        "    chunks.append(n.result)\n",
        "    entities.append(n.metadata['entity']) \n",
        "    status.append(m.result)\n",
        "    confidence.append(m.metadata['confidence'])\n",
        "        \n",
        "df = pd.DataFrame({'chunks':chunks, 'entities':entities, 'assertion':status, 'confidence':confidence})\n",
        "\n",
        "df"
      ],
      "metadata": {
        "id": "TiYrWPuLemSh",
        "outputId": "f4ccc993-9159-4b09-f89d-42b64241a52b",
        "colab": {
          "base_uri": "https://localhost:8080/",
          "height": 244
        }
      },
      "execution_count": 89,
      "outputs": [
        {
          "output_type": "stream",
          "name": "stdout",
          "text": [
            "Patient has a headache for the last 2 weeks, needs to get a head CT, and appears anxious when she walks fast. No alopecia noted. She denies pain\n"
          ]
        },
        {
          "output_type": "execute_result",
          "data": {
            "text/plain": [
              "       chunks entities assertion confidence\n",
              "0  a headache  PROBLEM   present     0.9941\n",
              "1   a head CT     TEST   present     0.9977\n",
              "2     anxious  PROBLEM    absent     0.6463\n",
              "3    alopecia  PROBLEM    absent     0.9064\n",
              "4        pain  PROBLEM    absent     0.5731"
            ],
            "text/html": [
              "\n",
              "  <div id=\"df-b848ce3e-ab36-4d69-a097-73239accc5a4\">\n",
              "    <div class=\"colab-df-container\">\n",
              "      <div>\n",
              "<style scoped>\n",
              "    .dataframe tbody tr th:only-of-type {\n",
              "        vertical-align: middle;\n",
              "    }\n",
              "\n",
              "    .dataframe tbody tr th {\n",
              "        vertical-align: top;\n",
              "    }\n",
              "\n",
              "    .dataframe thead th {\n",
              "        text-align: right;\n",
              "    }\n",
              "</style>\n",
              "<table border=\"1\" class=\"dataframe\">\n",
              "  <thead>\n",
              "    <tr style=\"text-align: right;\">\n",
              "      <th></th>\n",
              "      <th>chunks</th>\n",
              "      <th>entities</th>\n",
              "      <th>assertion</th>\n",
              "      <th>confidence</th>\n",
              "    </tr>\n",
              "  </thead>\n",
              "  <tbody>\n",
              "    <tr>\n",
              "      <th>0</th>\n",
              "      <td>a headache</td>\n",
              "      <td>PROBLEM</td>\n",
              "      <td>present</td>\n",
              "      <td>0.9941</td>\n",
              "    </tr>\n",
              "    <tr>\n",
              "      <th>1</th>\n",
              "      <td>a head CT</td>\n",
              "      <td>TEST</td>\n",
              "      <td>present</td>\n",
              "      <td>0.9977</td>\n",
              "    </tr>\n",
              "    <tr>\n",
              "      <th>2</th>\n",
              "      <td>anxious</td>\n",
              "      <td>PROBLEM</td>\n",
              "      <td>absent</td>\n",
              "      <td>0.6463</td>\n",
              "    </tr>\n",
              "    <tr>\n",
              "      <th>3</th>\n",
              "      <td>alopecia</td>\n",
              "      <td>PROBLEM</td>\n",
              "      <td>absent</td>\n",
              "      <td>0.9064</td>\n",
              "    </tr>\n",
              "    <tr>\n",
              "      <th>4</th>\n",
              "      <td>pain</td>\n",
              "      <td>PROBLEM</td>\n",
              "      <td>absent</td>\n",
              "      <td>0.5731</td>\n",
              "    </tr>\n",
              "  </tbody>\n",
              "</table>\n",
              "</div>\n",
              "      <button class=\"colab-df-convert\" onclick=\"convertToInteractive('df-b848ce3e-ab36-4d69-a097-73239accc5a4')\"\n",
              "              title=\"Convert this dataframe to an interactive table.\"\n",
              "              style=\"display:none;\">\n",
              "        \n",
              "  <svg xmlns=\"http://www.w3.org/2000/svg\" height=\"24px\"viewBox=\"0 0 24 24\"\n",
              "       width=\"24px\">\n",
              "    <path d=\"M0 0h24v24H0V0z\" fill=\"none\"/>\n",
              "    <path d=\"M18.56 5.44l.94 2.06.94-2.06 2.06-.94-2.06-.94-.94-2.06-.94 2.06-2.06.94zm-11 1L8.5 8.5l.94-2.06 2.06-.94-2.06-.94L8.5 2.5l-.94 2.06-2.06.94zm10 10l.94 2.06.94-2.06 2.06-.94-2.06-.94-.94-2.06-.94 2.06-2.06.94z\"/><path d=\"M17.41 7.96l-1.37-1.37c-.4-.4-.92-.59-1.43-.59-.52 0-1.04.2-1.43.59L10.3 9.45l-7.72 7.72c-.78.78-.78 2.05 0 2.83L4 21.41c.39.39.9.59 1.41.59.51 0 1.02-.2 1.41-.59l7.78-7.78 2.81-2.81c.8-.78.8-2.07 0-2.86zM5.41 20L4 18.59l7.72-7.72 1.47 1.35L5.41 20z\"/>\n",
              "  </svg>\n",
              "      </button>\n",
              "      \n",
              "  <style>\n",
              "    .colab-df-container {\n",
              "      display:flex;\n",
              "      flex-wrap:wrap;\n",
              "      gap: 12px;\n",
              "    }\n",
              "\n",
              "    .colab-df-convert {\n",
              "      background-color: #E8F0FE;\n",
              "      border: none;\n",
              "      border-radius: 50%;\n",
              "      cursor: pointer;\n",
              "      display: none;\n",
              "      fill: #1967D2;\n",
              "      height: 32px;\n",
              "      padding: 0 0 0 0;\n",
              "      width: 32px;\n",
              "    }\n",
              "\n",
              "    .colab-df-convert:hover {\n",
              "      background-color: #E2EBFA;\n",
              "      box-shadow: 0px 1px 2px rgba(60, 64, 67, 0.3), 0px 1px 3px 1px rgba(60, 64, 67, 0.15);\n",
              "      fill: #174EA6;\n",
              "    }\n",
              "\n",
              "    [theme=dark] .colab-df-convert {\n",
              "      background-color: #3B4455;\n",
              "      fill: #D2E3FC;\n",
              "    }\n",
              "\n",
              "    [theme=dark] .colab-df-convert:hover {\n",
              "      background-color: #434B5C;\n",
              "      box-shadow: 0px 1px 3px 1px rgba(0, 0, 0, 0.15);\n",
              "      filter: drop-shadow(0px 1px 2px rgba(0, 0, 0, 0.3));\n",
              "      fill: #FFFFFF;\n",
              "    }\n",
              "  </style>\n",
              "\n",
              "      <script>\n",
              "        const buttonEl =\n",
              "          document.querySelector('#df-b848ce3e-ab36-4d69-a097-73239accc5a4 button.colab-df-convert');\n",
              "        buttonEl.style.display =\n",
              "          google.colab.kernel.accessAllowed ? 'block' : 'none';\n",
              "\n",
              "        async function convertToInteractive(key) {\n",
              "          const element = document.querySelector('#df-b848ce3e-ab36-4d69-a097-73239accc5a4');\n",
              "          const dataTable =\n",
              "            await google.colab.kernel.invokeFunction('convertToInteractive',\n",
              "                                                     [key], {});\n",
              "          if (!dataTable) return;\n",
              "\n",
              "          const docLinkHtml = 'Like what you see? Visit the ' +\n",
              "            '<a target=\"_blank\" href=https://colab.research.google.com/notebooks/data_table.ipynb>data table notebook</a>'\n",
              "            + ' to learn more about interactive tables.';\n",
              "          element.innerHTML = '';\n",
              "          dataTable['output_type'] = 'display_data';\n",
              "          await google.colab.output.renderOutput(dataTable, element);\n",
              "          const docLink = document.createElement('div');\n",
              "          docLink.innerHTML = docLinkHtml;\n",
              "          element.appendChild(docLink);\n",
              "        }\n",
              "      </script>\n",
              "    </div>\n",
              "  </div>\n",
              "  "
            ]
          },
          "metadata": {},
          "execution_count": 89
        }
      ]
    },
    {
      "cell_type": "code",
      "source": [],
      "metadata": {
        "id": "MmElHtsOenxt"
      },
      "execution_count": null,
      "outputs": []
    }
  ],
  "metadata": {
    "accelerator": "GPU",
    "colab": {
      "collapsed_sections": [],
      "provenance": []
    },
    "gpuClass": "standard",
    "kernelspec": {
      "display_name": "Python 3 (ipykernel)",
      "language": "python",
      "name": "python3"
    },
    "language_info": {
      "codemirror_mode": {
        "name": "ipython",
        "version": 3
      },
      "file_extension": ".py",
      "mimetype": "text/x-python",
      "name": "python",
      "nbconvert_exporter": "python",
      "pygments_lexer": "ipython3",
      "version": "3.7.6"
    }
  },
  "nbformat": 4,
  "nbformat_minor": 0
}
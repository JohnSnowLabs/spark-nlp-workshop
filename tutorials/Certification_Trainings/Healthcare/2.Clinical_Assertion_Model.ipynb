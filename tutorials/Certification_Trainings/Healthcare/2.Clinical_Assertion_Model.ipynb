{
  "nbformat": 4,
  "nbformat_minor": 0,
  "metadata": {
    "colab": {
      "name": "2.Clinical_Assertion_Model.ipynb",
      "provenance": [],
      "collapsed_sections": [],
      "toc_visible": true
    },
    "kernelspec": {
      "display_name": "Python 3",
      "language": "python",
      "name": "python3"
    },
    "language_info": {
      "codemirror_mode": {
        "name": "ipython",
        "version": 3
      },
      "file_extension": ".py",
      "mimetype": "text/x-python",
      "name": "python",
      "nbconvert_exporter": "python",
      "pygments_lexer": "ipython3",
      "version": "3.7.4"
    }
  },
  "cells": [
    {
      "cell_type": "markdown",
      "metadata": {
        "colab_type": "text",
        "id": "I08sFJYCxR0Z"
      },
      "source": [
        "![JohnSnowLabs](https://nlp.johnsnowlabs.com/assets/images/logo.png)"
      ]
    },
    {
      "cell_type": "markdown",
      "metadata": {
        "colab_type": "text",
        "id": "MXZNJ2EirHSN"
      },
      "source": [
        "[![Open In Colab](https://colab.research.google.com/assets/colab-badge.svg)](https://colab.research.google.com/github/JohnSnowLabs/spark-nlp-workshop/blob/master/tutorials/Certification_Trainings/Healthcare/2.Clinical_Assertion_Model.ipynb)"
      ]
    },
    {
      "cell_type": "markdown",
      "metadata": {
        "colab_type": "text",
        "id": "Niy3mZAjoayg"
      },
      "source": [
        "# Clinical Assertion Status Model"
      ]
    },
    {
      "cell_type": "markdown",
      "metadata": {
        "colab_type": "text",
        "id": "okhT7AcXxben"
      },
      "source": [
        "## Colab Setup"
      ]
    },
    {
      "cell_type": "code",
      "metadata": {
        "colab_type": "code",
        "id": "UPYaQizloMiq",
        "colab": {
          "base_uri": "https://localhost:8080/",
          "height": 54
        },
        "outputId": "d988b6c1-1c09-4ec9-dda6-0e85d473333d"
      },
      "source": [
        "import json\n",
        "\n",
        "with open('workshop_license_keys_Aug2020.json') as f:\n",
        "    license_keys = json.load(f)\n",
        "\n",
        "license_keys.keys()\n"
      ],
      "execution_count": 1,
      "outputs": [
        {
          "output_type": "execute_result",
          "data": {
            "text/plain": [
              "dict_keys(['JSL_VERSION', 'PUBLIC_VERSION', 'SECRET', 'SPARK_NLP_LICENSE', 'AWS_ACCESS_KEY_ID', 'AWS_SECRET_ACCESS_KEY', 'JSL_OCR_SECRET', 'SPARK_OCR_LICENSE'])"
            ]
          },
          "metadata": {
            "tags": []
          },
          "execution_count": 1
        }
      ]
    },
    {
      "cell_type": "code",
      "metadata": {
        "id": "tPmWbplmS1Kh",
        "colab_type": "code",
        "colab": {
          "base_uri": "https://localhost:8080/",
          "height": 35
        },
        "outputId": "62ca27d3-f386-44b1-c7c3-e923cf4fb31f"
      },
      "source": [
        "license_keys['JSL_VERSION']"
      ],
      "execution_count": 2,
      "outputs": [
        {
          "output_type": "execute_result",
          "data": {
            "application/vnd.google.colaboratory.intrinsic+json": {
              "type": "string"
            },
            "text/plain": [
              "'2.5.4rc3'"
            ]
          },
          "metadata": {
            "tags": []
          },
          "execution_count": 2
        }
      ]
    },
    {
      "cell_type": "code",
      "metadata": {
        "colab_type": "code",
        "id": "lVWnwqUyw7Bm",
        "colab": {
          "base_uri": "https://localhost:8080/",
          "height": 153
        },
        "outputId": "a98b117d-52c5-4f3a-f686-a4bf5e9240a5"
      },
      "source": [
        "# template for license_key.json\n",
        "\n",
        "{'JSL_VERSION':'jjj',\n",
        "'PUBLIC_VERSION':'vvv',\n",
        "'SECRET':\"xxx\",\n",
        "'SPARK_NLP_LICENSE': 'aaa',\n",
        "'JSL_OCR_LICENSE': 'bbb',\n",
        "'AWS_ACCESS_KEY_ID':\"ccc\",\n",
        "'AWS_SECRET_ACCESS_KEY':\"ddd\",\n",
        "'JSL_OCR_SECRET':\"eee\"}"
      ],
      "execution_count": 3,
      "outputs": [
        {
          "output_type": "execute_result",
          "data": {
            "text/plain": [
              "{'AWS_ACCESS_KEY_ID': 'ccc',\n",
              " 'AWS_SECRET_ACCESS_KEY': 'ddd',\n",
              " 'JSL_OCR_LICENSE': 'bbb',\n",
              " 'JSL_OCR_SECRET': 'eee',\n",
              " 'JSL_VERSION': 'jjj',\n",
              " 'PUBLIC_VERSION': 'vvv',\n",
              " 'SECRET': 'xxx',\n",
              " 'SPARK_NLP_LICENSE': 'aaa'}"
            ]
          },
          "metadata": {
            "tags": []
          },
          "execution_count": 3
        }
      ]
    },
    {
      "cell_type": "code",
      "metadata": {
        "colab_type": "code",
        "id": "xy-mE2aVxZjl",
        "colab": {}
      },
      "source": [
        "import os\n",
        "\n",
        "# Install java\n",
        "! apt-get install -y openjdk-8-jdk-headless -qq > /dev/null\n",
        "os.environ[\"JAVA_HOME\"] = \"/usr/lib/jvm/java-8-openjdk-amd64\"\n",
        "os.environ[\"PATH\"] = os.environ[\"JAVA_HOME\"] + \"/bin:\" + os.environ[\"PATH\"]\n",
        "! java -version\n",
        "\n",
        "secret = license_keys['SECRET']\n",
        "\n",
        "os.environ['SPARK_NLP_LICENSE'] = license_keys['SPARK_NLP_LICENSE']\n",
        "os.environ['SPARK_OCR_LICENSE'] = license_keys['SPARK_OCR_LICENSE']\n",
        "os.environ['AWS_ACCESS_KEY_ID']= license_keys['AWS_ACCESS_KEY_ID']\n",
        "os.environ['AWS_SECRET_ACCESS_KEY'] = license_keys['AWS_SECRET_ACCESS_KEY']\n",
        "jsl_version = license_keys['JSL_VERSION']\n",
        "version = license_keys['PUBLIC_VERSION']\n",
        "\n",
        "! pip install --ignore-installed -q pyspark==2.4.4\n",
        "\n",
        "! python -m pip install --upgrade spark-nlp-jsl==$jsl_version  --extra-index-url https://pypi.johnsnowlabs.com/$secret\n",
        "\n",
        "! pip install --ignore-installed -q spark-nlp==$version\n",
        "\n",
        "import sparknlp\n",
        "\n",
        "print (sparknlp.version())\n",
        "\n",
        "import json\n",
        "import os\n",
        "from pyspark.ml import Pipeline\n",
        "from pyspark.sql import SparkSession\n",
        "\n",
        "\n",
        "from sparknlp.annotator import *\n",
        "from sparknlp_jsl.annotator import *\n",
        "from sparknlp.base import *\n",
        "import sparknlp_jsl\n",
        "\n",
        "spark = sparknlp_jsl.start(secret)"
      ],
      "execution_count": null,
      "outputs": []
    },
    {
      "cell_type": "code",
      "metadata": {
        "id": "77mvgqSpS1Kz",
        "colab_type": "code",
        "colab": {}
      },
      "source": [
        "# if you want to start the session with custom params as in start function above\n",
        "def start(secret):\n",
        "    builder = SparkSession.builder \\\n",
        "        .appName(\"Spark NLP Licensed\") \\\n",
        "        .master(\"local[*]\") \\\n",
        "        .config(\"spark.driver.memory\", \"16G\") \\\n",
        "        .config(\"spark.serializer\", \"org.apache.spark.serializer.KryoSerializer\") \\\n",
        "        .config(\"spark.kryoserializer.buffer.max\", \"2000M\") \\\n",
        "        .config(\"spark.jars.packages\", \"com.johnsnowlabs.nlp:spark-nlp_2.11:\"+version) \\\n",
        "        .config(\"spark.jars\", \"https://pypi.johnsnowlabs.com/\"+secret+\"/spark-nlp-jsl-\"+jsl_version+\".jar\")\n",
        "      \n",
        "    return builder.getOrCreate()\n",
        "\n",
        "#spark = start(secret)"
      ],
      "execution_count": null,
      "outputs": []
    },
    {
      "cell_type": "code",
      "metadata": {
        "colab_type": "code",
        "id": "V1wrGrq0GClP",
        "colab": {
          "base_uri": "https://localhost:8080/",
          "height": 216
        },
        "outputId": "ca5ffde9-b70f-4541-e317-1cb12cfa6691"
      },
      "source": [
        "spark"
      ],
      "execution_count": null,
      "outputs": [
        {
          "output_type": "execute_result",
          "data": {
            "text/html": [
              "\n",
              "            <div>\n",
              "                <p><b>SparkSession - in-memory</b></p>\n",
              "                \n",
              "        <div>\n",
              "            <p><b>SparkContext</b></p>\n",
              "\n",
              "            <p><a href=\"http://system76-pc.home:4041\">Spark UI</a></p>\n",
              "\n",
              "            <dl>\n",
              "              <dt>Version</dt>\n",
              "                <dd><code>v2.4.4</code></dd>\n",
              "              <dt>Master</dt>\n",
              "                <dd><code>local[*]</code></dd>\n",
              "              <dt>AppName</dt>\n",
              "                <dd><code>Spark NLP Licensed</code></dd>\n",
              "            </dl>\n",
              "        </div>\n",
              "        \n",
              "            </div>\n",
              "        "
            ],
            "text/plain": [
              "<pyspark.sql.session.SparkSession at 0x7f248e8c8dd0>"
            ]
          },
          "metadata": {
            "tags": []
          },
          "execution_count": 7
        }
      ]
    },
    {
      "cell_type": "markdown",
      "metadata": {
        "colab_type": "text",
        "id": "AMU4sAJQ0Rhs"
      },
      "source": [
        "# Clinical Assertion Model (with pretrained models)"
      ]
    },
    {
      "cell_type": "code",
      "metadata": {
        "colab_type": "code",
        "id": "DEa5SITBxmY0",
        "colab": {
          "base_uri": "https://localhost:8080/",
          "height": 170
        },
        "outputId": "0299e5c8-e1ef-4910-fe1f-2b8488f6a36e"
      },
      "source": [
        "# Annotator that transforms a text column from dataframe into an Annotation ready for NLP\n",
        "\n",
        "from sparknlp_jsl.annotator import *\n",
        "\n",
        "documentAssembler = DocumentAssembler()\\\n",
        "  .setInputCol(\"text\")\\\n",
        "  .setOutputCol(\"document\")\n",
        "\n",
        "# Sentence Detector annotator, processes various sentences per line\n",
        "\n",
        "sentenceDetector = SentenceDetector()\\\n",
        "  .setInputCols([\"document\"])\\\n",
        "  .setOutputCol(\"sentence\")\n",
        "\n",
        "# Tokenizer splits words in a relevant format for NLP\n",
        "\n",
        "tokenizer = Tokenizer()\\\n",
        "  .setInputCols([\"sentence\"])\\\n",
        "  .setOutputCol(\"token\")\n",
        "\n",
        "# Clinical word embeddings trained on PubMED dataset\n",
        "word_embeddings = WordEmbeddingsModel.pretrained(\"embeddings_clinical\", \"en\", \"clinical/models\")\\\n",
        "  .setInputCols([\"sentence\", \"token\"])\\\n",
        "  .setOutputCol(\"embeddings\")\n",
        "\n",
        "# NER model trained on i2b2 (sampled from MIMIC) dataset\n",
        "clinical_ner = NerDLModel.pretrained(\"ner_clinical\", \"en\", \"clinical/models\") \\\n",
        "  .setInputCols([\"sentence\", \"token\", \"embeddings\"]) \\\n",
        "  .setOutputCol(\"ner\")\n",
        "\n",
        "ner_converter = NerConverter() \\\n",
        "  .setInputCols([\"sentence\", \"token\", \"ner\"]) \\\n",
        "  .setOutputCol(\"ner_chunk\")\n",
        "\n",
        "# Assertion model trained on i2b2 (sampled from MIMIC) dataset\n",
        "# coming from sparknlp_jsl.annotator !!\n",
        "clinical_assertion = AssertionDLModel.pretrained(\"assertion_dl\", \"en\", \"clinical/models\") \\\n",
        "    .setInputCols([\"sentence\", \"ner_chunk\", \"embeddings\"]) \\\n",
        "    .setOutputCol(\"assertion\")\n",
        "    \n",
        "nlpPipeline = Pipeline(stages=[\n",
        "    documentAssembler, \n",
        "    sentenceDetector,\n",
        "    tokenizer,\n",
        "    word_embeddings,\n",
        "    clinical_ner,\n",
        "    ner_converter,\n",
        "    clinical_assertion\n",
        "    ])\n",
        "\n",
        "empty_data = spark.createDataFrame([[\"\"]]).toDF(\"text\")\n",
        "\n",
        "model = nlpPipeline.fit(empty_data)\n"
      ],
      "execution_count": 5,
      "outputs": [
        {
          "output_type": "stream",
          "text": [
            "embeddings_clinical download started this may take some time.\n",
            "Approximate size to download 1.6 GB\n",
            "[OK!]\n",
            "ner_clinical download started this may take some time.\n",
            "Approximate size to download 13.8 MB\n",
            "[OK!]\n",
            "assertion_dl download started this may take some time.\n",
            "Approximate size to download 1.3 MB\n",
            "[OK!]\n"
          ],
          "name": "stdout"
        }
      ]
    },
    {
      "cell_type": "code",
      "metadata": {
        "colab_type": "code",
        "id": "SMzVzklLw7B3",
        "colab": {},
        "outputId": "bea4e78e-47b3-42fa-a463-78fe10d61764"
      },
      "source": [
        "# we also have a LogReg based Assertion Model.\n",
        "'''\n",
        "clinical_assertion_ml = AssertionLogRegModel.pretrained(\"assertion_ml\", \"en\", \"clinical/models\") \\\n",
        "    .setInputCols([\"sentence\", \"ner_chunk\", \"embeddings\"]) \\\n",
        "    .setOutputCol(\"assertion\")\n",
        "'''"
      ],
      "execution_count": null,
      "outputs": [
        {
          "output_type": "execute_result",
          "data": {
            "text/plain": [
              "'\\nclinical_assertion_ml = AssertionLogRegModel.pretrained(\"assertion_ml\", \"en\", \"clinical/models\")     .setInputCols([\"sentence\", \"ner_chunk\", \"embeddings\"])     .setOutputCol(\"assertion\")\\n'"
            ]
          },
          "metadata": {
            "tags": []
          },
          "execution_count": 9
        }
      ]
    },
    {
      "cell_type": "code",
      "metadata": {
        "id": "f2RPZMmbVeN3",
        "colab_type": "code",
        "colab": {
          "base_uri": "https://localhost:8080/",
          "height": 190
        },
        "outputId": "d00dd195-73d1-490c-e28c-f09ef41af732"
      },
      "source": [
        "import pandas as pd\n",
        "\n",
        "text = 'Patient has a headache for the last 2 weeks and appears anxious when she walks fast. No alopecia noted. She denies pain'\n",
        "\n",
        "print (text)\n",
        "\n",
        "light_model = LightPipeline(model)\n",
        "\n",
        "light_result = light_model.fullAnnotate(text)[0]\n",
        "\n",
        "chunks=[]\n",
        "entities=[]\n",
        "status=[]\n",
        "\n",
        "for n,m in zip(light_result['ner_chunk'],light_result['assertion']):\n",
        "    \n",
        "    chunks.append(n.result)\n",
        "    entities.append(n.metadata['entity']) \n",
        "    status.append(m.result)\n",
        "        \n",
        "df = pd.DataFrame({'chunks':chunks, 'entities':entities, 'assertion':status})\n",
        "\n",
        "df"
      ],
      "execution_count": 25,
      "outputs": [
        {
          "output_type": "stream",
          "text": [
            "Patient has a headache for the last 2 weeks and appears anxious when she walks fast. No alopecia noted. She denies pain\n"
          ],
          "name": "stdout"
        },
        {
          "output_type": "execute_result",
          "data": {
            "text/html": [
              "<div>\n",
              "<style scoped>\n",
              "    .dataframe tbody tr th:only-of-type {\n",
              "        vertical-align: middle;\n",
              "    }\n",
              "\n",
              "    .dataframe tbody tr th {\n",
              "        vertical-align: top;\n",
              "    }\n",
              "\n",
              "    .dataframe thead th {\n",
              "        text-align: right;\n",
              "    }\n",
              "</style>\n",
              "<table border=\"1\" class=\"dataframe\">\n",
              "  <thead>\n",
              "    <tr style=\"text-align: right;\">\n",
              "      <th></th>\n",
              "      <th>chunks</th>\n",
              "      <th>entities</th>\n",
              "      <th>assertion</th>\n",
              "    </tr>\n",
              "  </thead>\n",
              "  <tbody>\n",
              "    <tr>\n",
              "      <th>0</th>\n",
              "      <td>a headache</td>\n",
              "      <td>PROBLEM</td>\n",
              "      <td>present</td>\n",
              "    </tr>\n",
              "    <tr>\n",
              "      <th>1</th>\n",
              "      <td>anxious</td>\n",
              "      <td>PROBLEM</td>\n",
              "      <td>conditional</td>\n",
              "    </tr>\n",
              "    <tr>\n",
              "      <th>2</th>\n",
              "      <td>alopecia</td>\n",
              "      <td>PROBLEM</td>\n",
              "      <td>absent</td>\n",
              "    </tr>\n",
              "    <tr>\n",
              "      <th>3</th>\n",
              "      <td>pain</td>\n",
              "      <td>PROBLEM</td>\n",
              "      <td>absent</td>\n",
              "    </tr>\n",
              "  </tbody>\n",
              "</table>\n",
              "</div>"
            ],
            "text/plain": [
              "       chunks entities    assertion\n",
              "0  a headache  PROBLEM      present\n",
              "1     anxious  PROBLEM  conditional\n",
              "2    alopecia  PROBLEM       absent\n",
              "3        pain  PROBLEM       absent"
            ]
          },
          "metadata": {
            "tags": []
          },
          "execution_count": 25
        }
      ]
    },
    {
      "cell_type": "code",
      "metadata": {
        "colab_type": "code",
        "id": "OP0I7ELJ0his",
        "colab": {
          "base_uri": "https://localhost:8080/",
          "height": 204
        },
        "outputId": "2f34058c-f476-4371-d78e-9bb7b0bcab22"
      },
      "source": [
        "! wget \thttps://s3.amazonaws.com/auxdata.johnsnowlabs.com/public/resources/en/pubmed/pubmed_sample_text_small.csv\n"
      ],
      "execution_count": 6,
      "outputs": [
        {
          "output_type": "stream",
          "text": [
            "--2020-08-03 21:54:38--  https://s3.amazonaws.com/auxdata.johnsnowlabs.com/public/resources/en/pubmed/pubmed_sample_text_small.csv\n",
            "Resolving s3.amazonaws.com (s3.amazonaws.com)... 52.217.1.254\n",
            "Connecting to s3.amazonaws.com (s3.amazonaws.com)|52.217.1.254|:443... connected.\n",
            "HTTP request sent, awaiting response... 200 OK\n",
            "Length: 9363435 (8.9M) [text/csv]\n",
            "Saving to: ‘pubmed_sample_text_small.csv’\n",
            "\n",
            "pubmed_sample_text_ 100%[===================>]   8.93M  15.8MB/s    in 0.6s    \n",
            "\n",
            "2020-08-03 21:54:39 (15.8 MB/s) - ‘pubmed_sample_text_small.csv’ saved [9363435/9363435]\n",
            "\n"
          ],
          "name": "stdout"
        }
      ]
    },
    {
      "cell_type": "code",
      "metadata": {
        "colab_type": "code",
        "id": "Z9UyX1Tx-vA0",
        "colab": {
          "base_uri": "https://localhost:8080/",
          "height": 459
        },
        "outputId": "3c646dfc-1889-4368-fc1a-951998475e84"
      },
      "source": [
        "import pyspark.sql.functions as F\n",
        "\n",
        "pubMedDF = spark.read\\\n",
        "                .option(\"header\", \"true\")\\\n",
        "                .csv(\"pubmed_sample_text_small.csv\")\\\n",
        "                \n",
        "pubMedDF.show(truncate=50)"
      ],
      "execution_count": 7,
      "outputs": [
        {
          "output_type": "stream",
          "text": [
            "+--------------------------------------------------+\n",
            "|                                              text|\n",
            "+--------------------------------------------------+\n",
            "|The human KCNJ9 (Kir 3.3, GIRK3) is a member of...|\n",
            "|BACKGROUND: At present, it is one of the most i...|\n",
            "|OBJECTIVE: To investigate the relationship betw...|\n",
            "|Combined EEG/fMRI recording has been used to lo...|\n",
            "|Kohlschutter syndrome is a rare neurodegenerati...|\n",
            "|Statistical analysis of neuroimages is commonly...|\n",
            "|The synthetic DOX-LNA conjugate was characteriz...|\n",
            "|Our objective was to compare three different me...|\n",
            "|We conducted a phase II study to assess the eff...|\n",
            "|\"\"\"Monomeric sarcosine oxidase (MSOX) is a flav...|\n",
            "|We presented the tachinid fly Exorista japonica...|\n",
            "|The literature dealing with the water conductin...|\n",
            "|A novel approach to synthesize chitosan-O-isopr...|\n",
            "|An HPLC-ESI-MS-MS method has been developed for...|\n",
            "|The localizing and lateralizing values of eye a...|\n",
            "|OBJECTIVE: To evaluate the effectiveness and ac...|\n",
            "|For the construction of new combinatorial libra...|\n",
            "|We report the results of a screen for genetic a...|\n",
            "|Intraparenchymal pericatheter cyst is rarely re...|\n",
            "|It is known that patients with Klinefelter's sy...|\n",
            "+--------------------------------------------------+\n",
            "only showing top 20 rows\n",
            "\n"
          ],
          "name": "stdout"
        }
      ]
    },
    {
      "cell_type": "code",
      "metadata": {
        "colab_type": "code",
        "id": "7HdysGLU-xfP",
        "colab": {}
      },
      "source": [
        "result = model.transform(pubMedDF.limit(100))"
      ],
      "execution_count": 8,
      "outputs": []
    },
    {
      "cell_type": "code",
      "metadata": {
        "colab_type": "code",
        "id": "tjsXUCZaNcKb",
        "colab": {
          "base_uri": "https://localhost:8080/",
          "height": 479
        },
        "outputId": "5b96089f-4447-4a44-84a6-b5583e95343a"
      },
      "source": [
        "result.show()"
      ],
      "execution_count": 9,
      "outputs": [
        {
          "output_type": "stream",
          "text": [
            "+--------------------+--------------------+--------------------+--------------------+--------------------+--------------------+--------------------+--------------------+\n",
            "|                text|            document|            sentence|               token|          embeddings|                 ner|           ner_chunk|           assertion|\n",
            "+--------------------+--------------------+--------------------+--------------------+--------------------+--------------------+--------------------+--------------------+\n",
            "|The human KCNJ9 (...|[[document, 0, 95...|[[document, 0, 12...|[[token, 0, 2, Th...|[[word_embeddings...|[[named_entity, 0...|[[chunk, 17, 19, ...|[[assertion, 17, ...|\n",
            "|BACKGROUND: At pr...|[[document, 0, 14...|[[document, 0, 19...|[[token, 0, 9, BA...|[[word_embeddings...|[[named_entity, 0...|[[chunk, 67, 79, ...|[[assertion, 67, ...|\n",
            "|OBJECTIVE: To inv...|[[document, 0, 15...|[[document, 0, 30...|[[token, 0, 8, OB...|[[word_embeddings...|[[named_entity, 0...|[[chunk, 130, 152...|[[assertion, 130,...|\n",
            "|Combined EEG/fMRI...|[[document, 0, 16...|[[document, 0, 16...|[[token, 0, 7, Co...|[[word_embeddings...|[[named_entity, 0...|[[chunk, 9, 26, E...|[[assertion, 9, 2...|\n",
            "|Kohlschutter synd...|[[document, 0, 25...|[[document, 0, 20...|[[token, 0, 11, K...|[[word_embeddings...|[[named_entity, 0...|[[chunk, 0, 20, K...|[[assertion, 0, 2...|\n",
            "|Statistical analy...|[[document, 0, 10...|[[document, 0, 34...|[[token, 0, 10, S...|[[word_embeddings...|[[named_entity, 0...|[[chunk, 0, 34, S...|[[assertion, 0, 3...|\n",
            "|The synthetic DOX...|[[document, 0, 57...|[[document, 0, 10...|[[token, 0, 2, Th...|[[word_embeddings...|[[named_entity, 0...|[[chunk, 4, 30, s...|[[assertion, 4, 3...|\n",
            "|Our objective was...|[[document, 0, 24...|[[document, 0, 19...|[[token, 0, 2, Ou...|[[word_embeddings...|[[named_entity, 0...|[[chunk, 56, 80, ...|[[assertion, 56, ...|\n",
            "|We conducted a ph...|[[document, 0, 14...|[[document, 0, 24...|[[token, 0, 1, We...|[[word_embeddings...|[[named_entity, 0...|[[chunk, 13, 28, ...|[[assertion, 13, ...|\n",
            "|\"\"\"Monomeric sarc...|[[document, 0, 14...|[[document, 0, 14...|[[token, 0, 2, \"\"...|[[word_embeddings...|[[named_entity, 0...|[[chunk, 3, 36, M...|[[assertion, 3, 3...|\n",
            "|We presented the ...|[[document, 0, 12...|[[document, 0, 26...|[[token, 0, 1, We...|[[word_embeddings...|[[named_entity, 0...|[[chunk, 135, 178...|[[assertion, 135,...|\n",
            "|The literature de...|[[document, 0, 16...|[[document, 0, 13...|[[token, 0, 2, Th...|[[word_embeddings...|[[named_entity, 0...|[[chunk, 63, 83, ...|[[assertion, 63, ...|\n",
            "|A novel approach ...|[[document, 0, 64...|[[document, 0, 97...|[[token, 0, 0, A,...|[[word_embeddings...|[[named_entity, 0...|[[chunk, 99, 132,...|[[assertion, 99, ...|\n",
            "|An HPLC-ESI-MS-MS...|[[document, 0, 90...|[[document, 0, 24...|[[token, 0, 1, An...|[[word_embeddings...|[[named_entity, 0...|[[chunk, 0, 23, A...|[[assertion, 0, 2...|\n",
            "|The localizing an...|[[document, 0, 72...|[[document, 0, 12...|[[token, 0, 2, Th...|[[word_embeddings...|[[named_entity, 0...|[[chunk, 42, 98, ...|[[assertion, 42, ...|\n",
            "|OBJECTIVE: To eva...|[[document, 0, 13...|[[document, 0, 43...|[[token, 0, 8, OB...|[[word_embeddings...|[[named_entity, 0...|[[chunk, 62, 80, ...|[[assertion, 62, ...|\n",
            "|For the construct...|[[document, 0, 32...|[[document, 0, 20...|[[token, 0, 2, Fo...|[[word_embeddings...|[[named_entity, 0...|[[chunk, 24, 50, ...|[[assertion, 24, ...|\n",
            "|We report the res...|[[document, 0, 13...|[[document, 0, 38...|[[token, 0, 1, We...|[[word_embeddings...|[[named_entity, 0...|[[chunk, 25, 32, ...|[[assertion, 25, ...|\n",
            "|Intraparenchymal ...|[[document, 0, 10...|[[document, 0, 53...|[[token, 0, 15, I...|[[word_embeddings...|[[named_entity, 0...|[[chunk, 0, 33, I...|[[assertion, 0, 3...|\n",
            "|It is known that ...|[[document, 0, 34...|[[document, 0, 14...|[[token, 0, 1, It...|[[word_embeddings...|[[named_entity, 0...|[[chunk, 31, 52, ...|[[assertion, 31, ...|\n",
            "+--------------------+--------------------+--------------------+--------------------+--------------------+--------------------+--------------------+--------------------+\n",
            "only showing top 20 rows\n",
            "\n"
          ],
          "name": "stdout"
        }
      ]
    },
    {
      "cell_type": "code",
      "metadata": {
        "colab_type": "code",
        "id": "8OwYh1r6WU5B",
        "colab": {
          "base_uri": "https://localhost:8080/",
          "height": 88
        },
        "outputId": "d113e62b-9531-4fa6-bb5d-786ff441b9ab"
      },
      "source": [
        "result.select('sentence.result').take(3)"
      ],
      "execution_count": 12,
      "outputs": [
        {
          "output_type": "execute_result",
          "data": {
            "text/plain": [
              "[Row(result=['The human KCNJ9 (Kir 3.3, GIRK3) is a member of the G-protein-activated inwardly rectifying potassium (GIRK) channel family.', 'Here we describe the genomicorganization of the KCNJ9 locus on chromosome 1q21-23 as a candidate gene forType II diabetes mellitus in the Pima Indian population.', 'The gene spansapproximately 7.6 kb and contains one noncoding and two coding exons separated byapproximately 2.2 and approximately 2.6 kb introns, respectively.', 'We identified14 single nucleotide polymorphisms (SNPs), including one that predicts aVal366Ala substitution, and an 8 base-pair', '(bp) insertion/deletion.', 'Ourexpression studies revealed the presence of the transcript in various humantissues including pancreas, and two major insulin-responsive tissues: fat andskeletal muscle.', 'The characterization of the KCNJ9 gene should facilitate furtherstudies on the function of the KCNJ9 protein and allow evaluation of thepotential role of the locus in Type II diabetes.']),\n",
              " Row(result=['BACKGROUND: At present, it is one of the most important issues for the treatment of breast cancer to develop the standard therapy for patients previously treated with anthracyclines and taxanes.', 'With the objective of determining the usefulnessof vinorelbine monotherapy in patients with advanced or recurrent breast cancerafter standard therapy, we evaluated the efficacy and safety of vinorelbine inpatients previously treated with anthracyclines and taxanes.', 'METHODS: Vinorelbinewas administered at a dose level of 25 mg/m(2) intravenously on days 1 and 8 of a3 week cycle.', 'Patients were given three or more cycles in the absence of tumorprogression.', 'A maximum of nine cycles were administered.', 'RESULTS: The responserate in 50 evaluable patients was 20.0% (10 out of 50;', '95% confidence interval,10.0-33.7%).', 'Responders plus those who had minor response (MR) or no change (NC) accounted for 58.0% [10 partial responses (PRs) + one MR + 18 NCs out of 50].', 'TheKaplan-Meier estimate (50% point) of time to progression (TTP) was 115.0 days.The response rate in the visceral organs was 17.3% (nine PRs out of 52).', 'Themajor toxicity was myelosuppression, which was reversible and did not requirediscontinuation of treatment.', 'CONCLUSION: The results of this study show thatvinorelbine monotherapy is useful in patients with advanced or recurrent breastcancer previously exposed to both anthracyclines and taxanes.']),\n",
              " Row(result=['OBJECTIVE: To investigate the relationship between preoperative atrialfibrillation and early and late clinical outcomes following cardiac surgery.METHODS: A retrospective cohort including all consecutive coronary artery bypass graft and/or valve surgery patients between 1995 and 2005 was identified (n =9796).', 'No patient had a concomitant surgical AF ablation.', 'The association betweenpreoperative atrial fibrillation and in-hospital outcomes was examined.', 'We alsodetermined late death and cardiovascular-related re-hospitalization by linking toadministrative health databases.', 'Median follow-up was 2.9 years (maximum 11years).', 'RESULTS: The prevalence of preoperative atrial fibrillation was 11.3% (n = 1105), ranging from 7.2% in isolated CABG to 30% in valve surgery.', 'In-hospital mortality, stroke, and renal failure were more common in atrial fibrillationpatients (all p < 0.0001), although the association between atrial fibrillationand mortality was not statistically significant in multivariate logisticregression.', 'Longitudinal analyses showed that preoperative atrial fibrillationwas associated with decreased event-free survival (adjusted hazard ratio 1.55,95% confidence interval 1.42-1.70, p < 0.0001).', 'CONCLUSIONS: Preoperative atrial fibrillation is associated with increased late mortality and recurrentcardiovascular events post-cardiac surgery.', 'Effective management strategies foratrial fibrillation need to be explored and may provide an opportunity to improvethe long-term outcomes of cardiac surgical patients.'])]"
            ]
          },
          "metadata": {
            "tags": []
          },
          "execution_count": 12
        }
      ]
    },
    {
      "cell_type": "code",
      "metadata": {
        "colab_type": "code",
        "id": "5uBnSe0--_Tn",
        "colab": {
          "base_uri": "https://localhost:8080/",
          "height": 459
        },
        "outputId": "2adfa658-a6e9-4331-8501-b1ce1316bd9d"
      },
      "source": [
        "result.select(F.explode(F.arrays_zip('ner_chunk.result',  'ner_chunk.begin', 'ner_chunk.end', 'ner_chunk.metadata', 'assertion.result')).alias(\"cols\")) \\\n",
        ".select(F.expr(\"cols['0']\").alias(\"chunk\"),\n",
        "        F.expr(\"cols['1']\").alias(\"begin\"),\n",
        "        F.expr(\"cols['2']\").alias(\"end\"),\n",
        "        F.expr(\"cols['3']['entity']\").alias(\"ner_label\"),\n",
        "        F.expr(\"cols['3']['sentence']\").alias(\"sent_id\"),\n",
        "        F.expr(\"cols['4']\").alias(\"assertion\"),).show(truncate=False)\n"
      ],
      "execution_count": 11,
      "outputs": [
        {
          "output_type": "stream",
          "text": [
            "+---------------------------------------------+-----+---+---------+-------+---------+\n",
            "|chunk                                        |begin|end|ner_label|sent_id|assertion|\n",
            "+---------------------------------------------+-----+---+---------+-------+---------+\n",
            "|Kir                                          |17   |19 |TEST     |0      |present  |\n",
            "|GIRK3                                        |26   |30 |TEST     |0      |present  |\n",
            "|chromosome 1q21-23                           |188  |205|TREATMENT|1      |present  |\n",
            "|a candidate gene forType II diabetes mellitus|210  |254|PROBLEM  |1      |possible |\n",
            "|coding exons                                 |357  |368|TEST     |2      |absent   |\n",
            "|byapproximately                              |380  |394|TEST     |2      |present  |\n",
            "|introns                                      |425  |431|TEST     |2      |absent   |\n",
            "|single nucleotide polymorphisms (SNPs        |464  |500|PROBLEM  |3      |present  |\n",
            "|aVal366Ala substitution                      |532  |554|TREATMENT|3      |present  |\n",
            "|an 8 base-pair                               |561  |574|PROBLEM  |3      |present  |\n",
            "|bp)                                          |577  |579|TEST     |4      |present  |\n",
            "|Ourexpression studies                        |601  |621|TEST     |5      |present  |\n",
            "|The characterization of the KCNJ9 gene       |773  |810|TEST     |6      |present  |\n",
            "|furtherstudies                               |830  |843|TREATMENT|6      |present  |\n",
            "|KCNJ9 protein                                |868  |880|TEST     |6      |present  |\n",
            "|evaluation                                   |892  |901|TEST     |6      |present  |\n",
            "|Type II diabetes                             |940  |955|PROBLEM  |6      |present  |\n",
            "|the treatment                                |67   |79 |TREATMENT|0      |present  |\n",
            "|breast cancer                                |84   |96 |PROBLEM  |0      |present  |\n",
            "|anthracyclines                               |167  |180|TREATMENT|0      |present  |\n",
            "+---------------------------------------------+-----+---+---------+-------+---------+\n",
            "only showing top 20 rows\n",
            "\n"
          ],
          "name": "stdout"
        }
      ]
    },
    {
      "cell_type": "markdown",
      "metadata": {
        "colab_type": "text",
        "id": "0vWIDpk50QfG"
      },
      "source": [
        "## Writing a generic Assertion + NER function"
      ]
    },
    {
      "cell_type": "code",
      "metadata": {
        "colab_type": "code",
        "id": "ltGPQYr60F6G",
        "colab": {}
      },
      "source": [
        "from pyspark.sql.functions import monotonically_increasing_id\n",
        "\n",
        "\n",
        "def get_base_pipeline (embeddings = 'embeddings_clinical'):\n",
        "\n",
        "  documentAssembler = DocumentAssembler()\\\n",
        "    .setInputCol(\"text\")\\\n",
        "    .setOutputCol(\"document\")\n",
        "\n",
        "  # Sentence Detector annotator, processes various sentences per line\n",
        "\n",
        "  sentenceDetector = SentenceDetector()\\\n",
        "    .setInputCols([\"document\"])\\\n",
        "    .setOutputCol(\"sentence\")\n",
        "\n",
        "  # Tokenizer splits words in a relevant format for NLP\n",
        "\n",
        "  tokenizer = Tokenizer()\\\n",
        "    .setInputCols([\"sentence\"])\\\n",
        "    .setOutputCol(\"token\")\n",
        "\n",
        "  # Clinical word embeddings trained on PubMED dataset\n",
        "  word_embeddings = WordEmbeddingsModel.pretrained(embeddings, \"en\", \"clinical/models\")\\\n",
        "    .setInputCols([\"sentence\", \"token\"])\\\n",
        "    .setOutputCol(\"embeddings\")\n",
        "\n",
        "  empty_data = spark.createDataFrame([[\"\"]]).toDF(\"text\")\n",
        "\n",
        "  model = nlpPipeline.fit(empty_data)\n",
        "\n",
        "  return model\n",
        "\n",
        "\n",
        "\n",
        "def get_clinical_assertion (embeddings, spark_df, nrows = 100, model_name = 'ner_clinical'):\n",
        "\n",
        "  # NER model trained on i2b2 (sampled from MIMIC) dataset\n",
        "  loaded_ner_model = NerDLModel.pretrained(model_name, \"en\", \"clinical/models\") \\\n",
        "    .setInputCols([\"sentence\", \"token\", \"embeddings\"]) \\\n",
        "    .setOutputCol(\"ner\")\n",
        "\n",
        "  ner_converter = NerConverter() \\\n",
        "  .setInputCols([\"sentence\", \"token\", \"ner\"]) \\\n",
        "  .setOutputCol(\"ner_chunk\")\n",
        "\n",
        "  # Assertion model trained on i2b2 (sampled from MIMIC) dataset\n",
        "  # coming from sparknlp_jsl.annotator !!\n",
        "  clinical_assertion = AssertionDLModel.pretrained(\"assertion_dl\", \"en\", \"clinical/models\") \\\n",
        "      .setInputCols([\"sentence\", \"ner_chunk\", \"embeddings\"]) \\\n",
        "      .setOutputCol(\"assertion\")\n",
        "      \n",
        "\n",
        "  base_model = get_base_pipeline (embeddings)\n",
        "\n",
        "  nlpPipeline = Pipeline(stages=[\n",
        "      base_model,\n",
        "      loaded_ner_model,\n",
        "      ner_converter])\n",
        "\n",
        "  empty_data = spark.createDataFrame([[\"\"]]).toDF(\"text\")\n",
        "\n",
        "  model = nlpPipeline.fit(empty_data)\n",
        "\n",
        "  result = model.transform(spark_df.limit(nrows))\n",
        "\n",
        "  result = result.withColumn(\"id\", monotonically_increasing_id())\n",
        "\n",
        "  result_df = result.select(F.explode(F.arrays_zip('ner_chunk.result', 'ner_chunk.metadata', 'assertion.result')).alias(\"cols\")) \\\n",
        "  .select(F.expr(\"cols['0']\").alias(\"chunk\"),\n",
        "        F.expr(\"cols['1']['entity']\").alias(\"ner_label\"),\n",
        "        F.expr(\"cols['2']\").alias(\"assertion\"))\\\n",
        "        .filter(\"ner_label!='O'\")\n",
        "\n",
        "  return result_df"
      ],
      "execution_count": 26,
      "outputs": []
    },
    {
      "cell_type": "code",
      "metadata": {
        "colab_type": "code",
        "id": "V81zaAe13qLU",
        "colab": {
          "base_uri": "https://localhost:8080/",
          "height": 612
        },
        "outputId": "e23c2a71-ae0c-406c-b268-561be7aa59e0"
      },
      "source": [
        "embeddings = 'embeddings_clinical'\n",
        "\n",
        "model_name = 'ner_clinical'\n",
        "\n",
        "nrows = 100\n",
        "\n",
        "ner_df = get_clinical_assertion (embeddings, pubMedDF, nrows, model_name)\n",
        "\n",
        "ner_df.show()"
      ],
      "execution_count": 27,
      "outputs": [
        {
          "output_type": "stream",
          "text": [
            "ner_clinical download started this may take some time.\n",
            "Approximate size to download 13.8 MB\n",
            "[OK!]\n",
            "assertion_dl download started this may take some time.\n",
            "Approximate size to download 1.3 MB\n",
            "[OK!]\n",
            "embeddings_clinical download started this may take some time.\n",
            "Approximate size to download 1.6 GB\n",
            "[OK!]\n",
            "+--------------------+---------+---------+\n",
            "|               chunk|ner_label|assertion|\n",
            "+--------------------+---------+---------+\n",
            "|                 Kir|     TEST|  present|\n",
            "|               GIRK3|     TEST|  present|\n",
            "|  chromosome 1q21-23|TREATMENT|  present|\n",
            "|a candidate gene ...|  PROBLEM| possible|\n",
            "|        coding exons|     TEST|   absent|\n",
            "|     byapproximately|     TEST|  present|\n",
            "|             introns|     TEST|   absent|\n",
            "|single nucleotide...|  PROBLEM|  present|\n",
            "|aVal366Ala substi...|TREATMENT|  present|\n",
            "|      an 8 base-pair|  PROBLEM|  present|\n",
            "|                 bp)|     TEST|  present|\n",
            "|Ourexpression stu...|     TEST|  present|\n",
            "|The characterizat...|     TEST|  present|\n",
            "|      furtherstudies|TREATMENT|  present|\n",
            "|       KCNJ9 protein|     TEST|  present|\n",
            "|          evaluation|     TEST|  present|\n",
            "|    Type II diabetes|  PROBLEM|  present|\n",
            "|       the treatment|TREATMENT|  present|\n",
            "|       breast cancer|  PROBLEM|  present|\n",
            "|      anthracyclines|TREATMENT|  present|\n",
            "+--------------------+---------+---------+\n",
            "only showing top 20 rows\n",
            "\n"
          ],
          "name": "stdout"
        }
      ]
    },
    {
      "cell_type": "code",
      "metadata": {
        "colab_type": "code",
        "id": "LmLPlfCw5hh-",
        "colab": {
          "base_uri": "https://localhost:8080/",
          "height": 612
        },
        "outputId": "6a218a63-3fbe-437a-ab6e-7f44bbbf9359"
      },
      "source": [
        "embeddings = 'embeddings_clinical'\n",
        "\n",
        "model_name = 'ner_posology'\n",
        "\n",
        "nrows = 100\n",
        "\n",
        "ner_df = get_clinical_assertion (embeddings, pubMedDF, nrows, model_name)\n",
        "\n",
        "ner_df.show()"
      ],
      "execution_count": 28,
      "outputs": [
        {
          "output_type": "stream",
          "text": [
            "ner_posology download started this may take some time.\n",
            "Approximate size to download 13.7 MB\n",
            "[OK!]\n",
            "assertion_dl download started this may take some time.\n",
            "Approximate size to download 1.3 MB\n",
            "[OK!]\n",
            "embeddings_clinical download started this may take some time.\n",
            "Approximate size to download 1.6 GB\n",
            "[OK!]\n",
            "+----------------+---------+---------+\n",
            "|           chunk|ner_label|assertion|\n",
            "+----------------+---------+---------+\n",
            "|  anthracyclines|     DRUG|  present|\n",
            "|         taxanes|     DRUG|  present|\n",
            "|     vinorelbine|     DRUG|  present|\n",
            "|     vinorelbine|     DRUG|  present|\n",
            "|  anthracyclines|     DRUG|  present|\n",
            "|         taxanes|     DRUG| possible|\n",
            "|  Vinorelbinewas|     DRUG|  present|\n",
            "|       25 mg/m(2| STRENGTH|  present|\n",
            "|   intravenously|    ROUTE|  present|\n",
            "|         on days|FREQUENCY|  present|\n",
            "|tumorprogression|     DRUG|  present|\n",
            "| thatvinorelbine|     DRUG|  present|\n",
            "|  anthracyclines|     DRUG|  present|\n",
            "|         taxanes|     DRUG|   absent|\n",
            "| tetrazolium dye|     DRUG|  present|\n",
            "|             DOX|     DRUG|  present|\n",
            "|    trandolapril|     DRUG|  present|\n",
            "|        losartan|     DRUG|  present|\n",
            "|          3-week| DURATION|  present|\n",
            "|         placebo|     DRUG|  present|\n",
            "+----------------+---------+---------+\n",
            "only showing top 20 rows\n",
            "\n"
          ],
          "name": "stdout"
        }
      ]
    },
    {
      "cell_type": "code",
      "metadata": {
        "colab_type": "code",
        "id": "djV_FKNtYcoP",
        "colab": {
          "base_uri": "https://localhost:8080/",
          "height": 289
        },
        "outputId": "d1ceeeb6-b03d-4958-cbc6-62e6382851cd"
      },
      "source": [
        "embeddings = 'embeddings_clinical'\n",
        "\n",
        "model_name = 'ner_posology'\n",
        "\n",
        "entry_data = spark.createDataFrame([[\"The patient didn't take a capsule of Advil\"]]).toDF(\"text\")\n",
        "\n",
        "ner_df = get_clinical_assertion (embeddings, entry_data, nrows, model_name)\n",
        "\n",
        "ner_df.show()"
      ],
      "execution_count": 29,
      "outputs": [
        {
          "output_type": "stream",
          "text": [
            "ner_posology download started this may take some time.\n",
            "Approximate size to download 13.7 MB\n",
            "[OK!]\n",
            "assertion_dl download started this may take some time.\n",
            "Approximate size to download 1.3 MB\n",
            "[OK!]\n",
            "embeddings_clinical download started this may take some time.\n",
            "Approximate size to download 1.6 GB\n",
            "[OK!]\n",
            "+-------+---------+---------+\n",
            "|  chunk|ner_label|assertion|\n",
            "+-------+---------+---------+\n",
            "|capsule|     FORM|  present|\n",
            "|  Advil|     DRUG|     null|\n",
            "+-------+---------+---------+\n",
            "\n"
          ],
          "name": "stdout"
        }
      ]
    },
    {
      "cell_type": "code",
      "metadata": {
        "colab_type": "code",
        "id": "sbllagh66Q8X",
        "colab": {}
      },
      "source": [
        "import pandas as pd\n",
        "\n",
        "def get_clinical_assertion_light (light_model, text):\n",
        "\n",
        "  light_result = light_model.fullAnnotate(text)[0]\n",
        "\n",
        "  chunks=[]\n",
        "  entities=[]\n",
        "  status=[]\n",
        "\n",
        "  for n,m in zip(light_result['ner_chunk'],light_result['assertion']):\n",
        "      \n",
        "      chunks.append(n.result)\n",
        "      entities.append(n.metadata['entity']) \n",
        "      status.append(m.result)\n",
        "          \n",
        "  df = pd.DataFrame({'chunks':chunks, 'entities':entities, 'assertion':status})\n",
        "\n",
        "  return df"
      ],
      "execution_count": 30,
      "outputs": []
    },
    {
      "cell_type": "code",
      "metadata": {
        "colab_type": "code",
        "id": "GqKH9Mw98z4x",
        "colab": {
          "base_uri": "https://localhost:8080/",
          "height": 359
        },
        "outputId": "fe077e42-58e8-4034-d2be-117af6a53da6"
      },
      "source": [
        "clinical_text = \"\"\"\n",
        "Patient with severe fever and sore throat. \n",
        "He shows no stomach pain and he maintained on an epidural and PCA for pain control.\n",
        "He also became short of breath with climbing a flight of stairs.\n",
        "After CT, lung tumor located at the right lower lobe. Father with Alzheimer.\n",
        "\"\"\"\n",
        "\n",
        "light_model = LightPipeline(model)\n",
        "\n",
        "get_clinical_assertion_light (light_model, clinical_text)\n"
      ],
      "execution_count": 31,
      "outputs": [
        {
          "output_type": "execute_result",
          "data": {
            "text/html": [
              "<div>\n",
              "<style scoped>\n",
              "    .dataframe tbody tr th:only-of-type {\n",
              "        vertical-align: middle;\n",
              "    }\n",
              "\n",
              "    .dataframe tbody tr th {\n",
              "        vertical-align: top;\n",
              "    }\n",
              "\n",
              "    .dataframe thead th {\n",
              "        text-align: right;\n",
              "    }\n",
              "</style>\n",
              "<table border=\"1\" class=\"dataframe\">\n",
              "  <thead>\n",
              "    <tr style=\"text-align: right;\">\n",
              "      <th></th>\n",
              "      <th>chunks</th>\n",
              "      <th>entities</th>\n",
              "      <th>assertion</th>\n",
              "    </tr>\n",
              "  </thead>\n",
              "  <tbody>\n",
              "    <tr>\n",
              "      <th>0</th>\n",
              "      <td>severe fever</td>\n",
              "      <td>PROBLEM</td>\n",
              "      <td>present</td>\n",
              "    </tr>\n",
              "    <tr>\n",
              "      <th>1</th>\n",
              "      <td>sore throat</td>\n",
              "      <td>PROBLEM</td>\n",
              "      <td>present</td>\n",
              "    </tr>\n",
              "    <tr>\n",
              "      <th>2</th>\n",
              "      <td>stomach pain</td>\n",
              "      <td>PROBLEM</td>\n",
              "      <td>absent</td>\n",
              "    </tr>\n",
              "    <tr>\n",
              "      <th>3</th>\n",
              "      <td>an epidural</td>\n",
              "      <td>TREATMENT</td>\n",
              "      <td>present</td>\n",
              "    </tr>\n",
              "    <tr>\n",
              "      <th>4</th>\n",
              "      <td>PCA</td>\n",
              "      <td>TREATMENT</td>\n",
              "      <td>present</td>\n",
              "    </tr>\n",
              "    <tr>\n",
              "      <th>5</th>\n",
              "      <td>pain control</td>\n",
              "      <td>PROBLEM</td>\n",
              "      <td>present</td>\n",
              "    </tr>\n",
              "    <tr>\n",
              "      <th>6</th>\n",
              "      <td>short of breath</td>\n",
              "      <td>PROBLEM</td>\n",
              "      <td>conditional</td>\n",
              "    </tr>\n",
              "    <tr>\n",
              "      <th>7</th>\n",
              "      <td>CT</td>\n",
              "      <td>TEST</td>\n",
              "      <td>present</td>\n",
              "    </tr>\n",
              "    <tr>\n",
              "      <th>8</th>\n",
              "      <td>lung tumor</td>\n",
              "      <td>PROBLEM</td>\n",
              "      <td>present</td>\n",
              "    </tr>\n",
              "    <tr>\n",
              "      <th>9</th>\n",
              "      <td>Alzheimer</td>\n",
              "      <td>PROBLEM</td>\n",
              "      <td>associated_with_someone_else</td>\n",
              "    </tr>\n",
              "  </tbody>\n",
              "</table>\n",
              "</div>"
            ],
            "text/plain": [
              "            chunks   entities                     assertion\n",
              "0     severe fever    PROBLEM                       present\n",
              "1      sore throat    PROBLEM                       present\n",
              "2     stomach pain    PROBLEM                        absent\n",
              "3      an epidural  TREATMENT                       present\n",
              "4              PCA  TREATMENT                       present\n",
              "5     pain control    PROBLEM                       present\n",
              "6  short of breath    PROBLEM                   conditional\n",
              "7               CT       TEST                       present\n",
              "8       lung tumor    PROBLEM                       present\n",
              "9        Alzheimer    PROBLEM  associated_with_someone_else"
            ]
          },
          "metadata": {
            "tags": []
          },
          "execution_count": 31
        }
      ]
    },
    {
      "cell_type": "markdown",
      "metadata": {
        "colab_type": "text",
        "id": "PkZGkm_zSDUL"
      },
      "source": [
        "![image.png](data:image/png;base64,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)"
      ]
    },
    {
      "cell_type": "markdown",
      "metadata": {
        "colab_type": "text",
        "id": "qVeR4zew_urR"
      },
      "source": [
        "## Assertion with BioNLP (Cancer Genetics) NER"
      ]
    },
    {
      "cell_type": "code",
      "metadata": {
        "colab_type": "code",
        "id": "y1Ffv9qT_AYV",
        "colab": {
          "base_uri": "https://localhost:8080/",
          "height": 638
        },
        "outputId": "30421c1e-55e5-4682-eb53-d2d7543c66f8"
      },
      "source": [
        "embeddings = 'embeddings_clinical'\n",
        "\n",
        "model_name = 'ner_bionlp'\n",
        "\n",
        "nrows = 100\n",
        "\n",
        "ner_df = get_clinical_assertion (embeddings, pubMedDF, nrows, model_name)\n",
        "\n",
        "ner_df.show(truncate = False)"
      ],
      "execution_count": null,
      "outputs": [
        {
          "output_type": "stream",
          "text": [
            "ner_bionlp download started this may take some time.\n",
            "Approximate size to download 13.9 MB\n",
            "[OK!]\n",
            "assertion_dl download started this may take some time.\n",
            "Approximate size to download 1.3 MB\n",
            "[OK!]\n",
            "embeddings_clinical download started this may take some time.\n",
            "Approximate size to download 1.6 GB\n",
            "[OK!]\n",
            "+----------------------+--------------------+---------+\n",
            "|chunk                 |ner_label           |assertion|\n",
            "+----------------------+--------------------+---------+\n",
            "|human                 |Organism            |present  |\n",
            "|Kir 3.3               |Gene_or_gene_product|present  |\n",
            "|GIRK3                 |Gene_or_gene_product|present  |\n",
            "|potassium             |Simple_chemical     |possible |\n",
            "|GIRK                  |Gene_or_gene_product|absent   |\n",
            "|chromosome 1q21-23    |Cellular_component  |present  |\n",
            "|pancreas              |Organ               |absent   |\n",
            "|tissues               |Tissue              |present  |\n",
            "|fat andskeletal muscle|Tissue              |present  |\n",
            "|KCNJ9                 |Gene_or_gene_product|present  |\n",
            "|Type II               |Gene_or_gene_product|present  |\n",
            "|breast cancer         |Cancer              |present  |\n",
            "|patients              |Organism            |present  |\n",
            "|anthracyclines        |Simple_chemical     |present  |\n",
            "|taxanes               |Simple_chemical     |present  |\n",
            "|vinorelbine           |Simple_chemical     |present  |\n",
            "|patients              |Organism            |possible |\n",
            "|breast                |Cancer              |present  |\n",
            "|vinorelbine inpatients|Simple_chemical     |present  |\n",
            "|anthracyclines        |Simple_chemical     |present  |\n",
            "+----------------------+--------------------+---------+\n",
            "only showing top 20 rows\n",
            "\n"
          ],
          "name": "stdout"
        }
      ]
    },
    {
      "cell_type": "markdown",
      "metadata": {
        "colab_type": "text",
        "id": "JjfUo0aTKFEL"
      },
      "source": [
        "# Train a custom Assertion Model"
      ]
    },
    {
      "cell_type": "code",
      "metadata": {
        "colab_type": "code",
        "id": "CG2bcrVLKHzc",
        "colab": {
          "base_uri": "https://localhost:8080/",
          "height": 204
        },
        "outputId": "215d40cd-2156-45d0-b8cd-26570975794e"
      },
      "source": [
        "!wget https://s3.amazonaws.com/auxdata.johnsnowlabs.com/public/resources/en/ner/i2b2_assertion_sample.csv"
      ],
      "execution_count": 32,
      "outputs": [
        {
          "output_type": "stream",
          "text": [
            "--2020-08-03 22:08:38--  https://s3.amazonaws.com/auxdata.johnsnowlabs.com/public/resources/en/ner/i2b2_assertion_sample.csv\n",
            "Resolving s3.amazonaws.com (s3.amazonaws.com)... 52.217.44.246\n",
            "Connecting to s3.amazonaws.com (s3.amazonaws.com)|52.217.44.246|:443... connected.\n",
            "HTTP request sent, awaiting response... 200 OK\n",
            "Length: 141585 (138K) [text/csv]\n",
            "Saving to: ‘i2b2_assertion_sample.csv’\n",
            "\n",
            "i2b2_assertion_samp 100%[===================>] 138.27K   748KB/s    in 0.2s    \n",
            "\n",
            "2020-08-03 22:08:38 (748 KB/s) - ‘i2b2_assertion_sample.csv’ saved [141585/141585]\n",
            "\n"
          ],
          "name": "stdout"
        }
      ]
    },
    {
      "cell_type": "code",
      "metadata": {
        "colab_type": "code",
        "id": "llRofRtgLF7S",
        "colab": {}
      },
      "source": [
        "import pandas as pd"
      ],
      "execution_count": 33,
      "outputs": []
    },
    {
      "cell_type": "code",
      "metadata": {
        "colab_type": "code",
        "id": "hRFW3nyALHx0",
        "colab": {}
      },
      "source": [
        "\n",
        "assertion_df = spark.read.option(\"header\", True).option(\"inferSchema\", \"True\").csv(\"i2b2_assertion_sample.csv\")\n"
      ],
      "execution_count": 34,
      "outputs": []
    },
    {
      "cell_type": "code",
      "metadata": {
        "colab_type": "code",
        "id": "TQn7bJZtL9uX",
        "colab": {
          "base_uri": "https://localhost:8080/",
          "height": 170
        },
        "outputId": "f86ace12-4877-4bab-e426-e817ff7e7a71"
      },
      "source": [
        "assertion_df.show(3, truncate=100)"
      ],
      "execution_count": 35,
      "outputs": [
        {
          "output_type": "stream",
          "text": [
            "+-----------------------------------------------------------------------------+--------------------+-------+-----+---+\n",
            "|                                                                         text|              target|  label|start|end|\n",
            "+-----------------------------------------------------------------------------+--------------------+-------+-----+---+\n",
            "|Due to dye load required to assess the coronary disease were not visualized .|the coronary disease|present|    7|  9|\n",
            "|                            She has no history of liver disease , hepatitis .|       liver disease| absent|    5|  6|\n",
            "|                                                     1. Undesired fertility .| undesired fertility|present|    1|  2|\n",
            "+-----------------------------------------------------------------------------+--------------------+-------+-----+---+\n",
            "only showing top 3 rows\n",
            "\n"
          ],
          "name": "stdout"
        }
      ]
    },
    {
      "cell_type": "code",
      "metadata": {
        "colab_type": "code",
        "id": "B6IuDZ9Qw7Cu",
        "colab": {
          "base_uri": "https://localhost:8080/",
          "height": 51
        },
        "outputId": "b07e2284-db27-4153-9d1f-2be7cc7a9969"
      },
      "source": [
        "(training_data, test_data) = assertion_df.randomSplit([0.8, 0.2], seed = 100)\n",
        "print(\"Training Dataset Count: \" + str(training_data.count()))\n",
        "print(\"Test Dataset Count: \" + str(test_data.count()))"
      ],
      "execution_count": 36,
      "outputs": [
        {
          "output_type": "stream",
          "text": [
            "Training Dataset Count: 796\n",
            "Test Dataset Count: 204\n"
          ],
          "name": "stdout"
        }
      ]
    },
    {
      "cell_type": "code",
      "metadata": {
        "id": "fktQ3EbBZwo-",
        "colab_type": "code",
        "colab": {
          "base_uri": "https://localhost:8080/",
          "height": 204
        },
        "outputId": "c2b5d29b-47f3-4077-8f22-3363141d55f0"
      },
      "source": [
        "training_data.groupBy('label').count().orderBy('count', ascending=False).show(truncate=False)\n"
      ],
      "execution_count": 48,
      "outputs": [
        {
          "output_type": "stream",
          "text": [
            "+----------------------------+-----+\n",
            "|label                       |count|\n",
            "+----------------------------+-----+\n",
            "|present                     |529  |\n",
            "|absent                      |184  |\n",
            "|hypothetical                |37   |\n",
            "|possible                    |36   |\n",
            "|associated_with_someone_else|6    |\n",
            "|conditional                 |4    |\n",
            "+----------------------------+-----+\n",
            "\n"
          ],
          "name": "stdout"
        }
      ]
    },
    {
      "cell_type": "code",
      "metadata": {
        "colab_type": "code",
        "id": "UTNhwoSDLLVG",
        "colab": {
          "base_uri": "https://localhost:8080/",
          "height": 68
        },
        "outputId": "ce8af4bc-cf7c-4d6d-ea7b-cd601efd68f2"
      },
      "source": [
        "\n",
        "document = DocumentAssembler()\\\n",
        "    .setInputCol(\"text\")\\\n",
        "    .setOutputCol(\"document\")\n",
        "\n",
        "chunk = Doc2Chunk()\\\n",
        "    .setInputCols(\"document\")\\\n",
        "    .setOutputCol(\"chunk\")\\\n",
        "    .setChunkCol(\"target\")\\\n",
        "    .setStartCol(\"start\")\\\n",
        "    .setStartColByTokenIndex(True)\\\n",
        "    .setFailOnMissing(False)\\\n",
        "    .setLowerCase(True)\n",
        "\n",
        "token = Tokenizer()\\\n",
        "    .setInputCols(['document'])\\\n",
        "    .setOutputCol('token')\n",
        "\n",
        "embeddings = WordEmbeddingsModel.pretrained(\"embeddings_clinical\", \"en\", \"clinical/models\")\\\n",
        "      .setInputCols([\"document\", \"token\"])\\\n",
        "      .setOutputCol(\"embeddings\")\n"
      ],
      "execution_count": 37,
      "outputs": [
        {
          "output_type": "stream",
          "text": [
            "embeddings_clinical download started this may take some time.\n",
            "Approximate size to download 1.6 GB\n",
            "[OK!]\n"
          ],
          "name": "stdout"
        }
      ]
    },
    {
      "cell_type": "code",
      "metadata": {
        "id": "pJSHNTBMY-nn",
        "colab_type": "code",
        "colab": {}
      },
      "source": [
        "!mkdir training_logs\n",
        "!mkdir tf_graphs\n",
        "!wget -q https://raw.githubusercontent.com/JohnSnowLabs/spark-nlp-workshop/master/tutorials/Certification_Trainings/Healthcare/nerdl_graph/blstm_34_32_30_200_6.pb -P /content/tf_graphs"
      ],
      "execution_count": null,
      "outputs": []
    },
    {
      "cell_type": "code",
      "metadata": {
        "colab_type": "code",
        "id": "qG2o6Yq2xk4N",
        "colab": {}
      },
      "source": [
        "\n",
        "assertionStatus = AssertionDLApproach()\\\n",
        "    .setLabelCol(\"label\")\\\n",
        "    .setInputCols(\"document\", \"chunk\", \"embeddings\")\\\n",
        "    .setOutputCol(\"assertion\")\\\n",
        "    .setBatchSize(128)\\\n",
        "    .setDropout(0.1)\\\n",
        "    .setLearningRate(0.001)\\\n",
        "    .setEpochs(10)\\\n",
        "    .setValidationSplit(0.2)\\\n",
        "    .setStartCol(\"start\")\\\n",
        "    .setEndCol(\"end\")\\\n",
        "    .setMaxSentLen(250)\\\n",
        "  .setClasses(6)\\\n",
        ".setEnableOutputLogs(True)\\\n",
        ".setOutputLogsPath('training_logs/')\\\n",
        ".setGraphFolder('tf_graphs')\n",
        "\n",
        "# set this path to graphs if you have different nuber of classes other than 6. (use 2.1 Aseertion Model Graph generation notebook)"
      ],
      "execution_count": 57,
      "outputs": []
    },
    {
      "cell_type": "code",
      "metadata": {
        "colab_type": "code",
        "id": "97ATs6a41jdE",
        "colab": {}
      },
      "source": [
        "'''\n",
        "assertionStatus = AssertionLogRegApproach()\\\n",
        "    .setLabelCol(\"label\")\\\n",
        "    .setInputCols(\"document\", \"chunk\", \"embeddings\")\\\n",
        "    .setOutputCol(\"assertion\")\\\n",
        "    .setMaxIter(100) # default: 26\n",
        "'''"
      ],
      "execution_count": null,
      "outputs": []
    },
    {
      "cell_type": "code",
      "metadata": {
        "colab_type": "code",
        "id": "EKRL7Oy4MC1C",
        "colab": {}
      },
      "source": [
        "clinical_assertion_pipeline = Pipeline(\n",
        "    stages = [\n",
        "    document,\n",
        "    chunk,\n",
        "    token,\n",
        "    embeddings,\n",
        "    assertionStatus])"
      ],
      "execution_count": 58,
      "outputs": []
    },
    {
      "cell_type": "code",
      "metadata": {
        "colab_type": "code",
        "id": "Ei54XasnMU0U",
        "colab": {
          "base_uri": "https://localhost:8080/",
          "height": 51
        },
        "outputId": "60b4ed99-bc45-4254-df50-53445a59e2db"
      },
      "source": [
        "%%time\n",
        "\n",
        "assertion_model = clinical_assertion_pipeline.fit(training_data)"
      ],
      "execution_count": 59,
      "outputs": [
        {
          "output_type": "stream",
          "text": [
            "CPU times: user 76.5 ms, sys: 10.4 ms, total: 86.9 ms\n",
            "Wall time: 1min 48s\n"
          ],
          "name": "stdout"
        }
      ]
    },
    {
      "cell_type": "code",
      "metadata": {
        "id": "9qwIlVxXbqM7",
        "colab_type": "code",
        "colab": {
          "base_uri": "https://localhost:8080/",
          "height": 85
        },
        "outputId": "5ca299da-3b65-4694-cb49-603bedd78969"
      },
      "source": [
        "!cd training_logs && ls -lt"
      ],
      "execution_count": 64,
      "outputs": [
        {
          "output_type": "stream",
          "text": [
            "total 16\n",
            "-rw-r--r-- 1 root root 6572 Aug  3 22:24 AssertionDLApproach_e629423217f6.log\n",
            "-rw-r--r-- 1 root root 4023 Aug  3 22:19 AssertionDLApproach_313267aaaf3a.log\n",
            "-rw-r--r-- 1 root root  147 Aug  3 22:15 AssertionDLApproach_8018beedba14.log\n"
          ],
          "name": "stdout"
        }
      ]
    },
    {
      "cell_type": "code",
      "metadata": {
        "id": "6xaedlMnbuIX",
        "colab_type": "code",
        "colab": {
          "base_uri": "https://localhost:8080/",
          "height": 1000
        },
        "outputId": "44162bdf-979a-43b7-f376-99b414facaae"
      },
      "source": [
        "!cat training_logs/AssertionDLApproach_e629423217f6.log"
      ],
      "execution_count": 65,
      "outputs": [
        {
          "output_type": "stream",
          "text": [
            "Name of the selected graph: blstm_34_32_30_200_6.pb\n",
            "Training started, trainExamples: 796\n",
            "Epoch: 0 started, learning rate: 0.001, dataset size: 637\n",
            "Done, 10.594825538 loss: 6.1070685, batches: 5\n",
            "Quality on validation dataset (20.0%), validation examples = 159\n",
            "time to finish evaluation: 1.87s\n",
            "label\t tp\t fp\t fn\t prec\t rec\t f1\n",
            "absent\t 0\t 0\t 44\t 0.0\t 0.0\t 0.0\n",
            "present\t 98\t 61\t 0\t 0.6163522\t 1.0\t 0.7626459\n",
            "conditional\t 0\t 0\t 1\t 0.0\t 0.0\t 0.0\n",
            "associated_with_someone_else\t 0\t 0\t 3\t 0.0\t 0.0\t 0.0\n",
            "hypothetical\t 0\t 0\t 6\t 0.0\t 0.0\t 0.0\n",
            "possible\t 0\t 0\t 7\t 0.0\t 0.0\t 0.0\n",
            "tp: 98 fp: 61 fn: 61 labels: 6\n",
            "Macro-average\t prec: 0.102725364, rec: 0.16666667, f1: 0.12710765\n",
            "Micro-average\t prec: 0.6163522, rec: 0.6163522, f1: 0.6163522\n",
            "Epoch: 1 started, learning rate: 9.5E-4, dataset size: 637\n",
            "Done, 8.782994488 loss: 5.1900153, batches: 5\n",
            "Quality on validation dataset (20.0%), validation examples = 159\n",
            "time to finish evaluation: 1.63s\n",
            "label\t tp\t fp\t fn\t prec\t rec\t f1\n",
            "absent\t 0\t 0\t 44\t 0.0\t 0.0\t 0.0\n",
            "present\t 98\t 61\t 0\t 0.6163522\t 1.0\t 0.7626459\n",
            "conditional\t 0\t 0\t 1\t 0.0\t 0.0\t 0.0\n",
            "associated_with_someone_else\t 0\t 0\t 3\t 0.0\t 0.0\t 0.0\n",
            "hypothetical\t 0\t 0\t 6\t 0.0\t 0.0\t 0.0\n",
            "possible\t 0\t 0\t 7\t 0.0\t 0.0\t 0.0\n",
            "tp: 98 fp: 61 fn: 61 labels: 6\n",
            "Macro-average\t prec: 0.102725364, rec: 0.16666667, f1: 0.12710765\n",
            "Micro-average\t prec: 0.6163522, rec: 0.6163522, f1: 0.6163522\n",
            "Epoch: 2 started, learning rate: 9.025E-4, dataset size: 637\n",
            "Done, 8.678629755 loss: 4.831645, batches: 5\n",
            "Quality on validation dataset (20.0%), validation examples = 159\n",
            "time to finish evaluation: 1.46s\n",
            "label\t tp\t fp\t fn\t prec\t rec\t f1\n",
            "absent\t 0\t 0\t 44\t 0.0\t 0.0\t 0.0\n",
            "present\t 98\t 61\t 0\t 0.6163522\t 1.0\t 0.7626459\n",
            "conditional\t 0\t 0\t 1\t 0.0\t 0.0\t 0.0\n",
            "associated_with_someone_else\t 0\t 0\t 3\t 0.0\t 0.0\t 0.0\n",
            "hypothetical\t 0\t 0\t 6\t 0.0\t 0.0\t 0.0\n",
            "possible\t 0\t 0\t 7\t 0.0\t 0.0\t 0.0\n",
            "tp: 98 fp: 61 fn: 61 labels: 6\n",
            "Macro-average\t prec: 0.102725364, rec: 0.16666667, f1: 0.12710765\n",
            "Micro-average\t prec: 0.6163522, rec: 0.6163522, f1: 0.6163522\n",
            "Epoch: 3 started, learning rate: 8.57375E-4, dataset size: 637\n",
            "Done, 9.177628063 loss: 4.6590185, batches: 5\n",
            "Quality on validation dataset (20.0%), validation examples = 159\n",
            "time to finish evaluation: 1.45s\n",
            "label\t tp\t fp\t fn\t prec\t rec\t f1\n",
            "absent\t 0\t 0\t 44\t 0.0\t 0.0\t 0.0\n",
            "present\t 98\t 61\t 0\t 0.6163522\t 1.0\t 0.7626459\n",
            "conditional\t 0\t 0\t 1\t 0.0\t 0.0\t 0.0\n",
            "associated_with_someone_else\t 0\t 0\t 3\t 0.0\t 0.0\t 0.0\n",
            "hypothetical\t 0\t 0\t 6\t 0.0\t 0.0\t 0.0\n",
            "possible\t 0\t 0\t 7\t 0.0\t 0.0\t 0.0\n",
            "tp: 98 fp: 61 fn: 61 labels: 6\n",
            "Macro-average\t prec: 0.102725364, rec: 0.16666667, f1: 0.12710765\n",
            "Micro-average\t prec: 0.6163522, rec: 0.6163522, f1: 0.6163522\n",
            "Epoch: 4 started, learning rate: 8.145062E-4, dataset size: 637\n",
            "Done, 8.688434936 loss: 4.499833, batches: 5\n",
            "Quality on validation dataset (20.0%), validation examples = 159\n",
            "time to finish evaluation: 1.46s\n",
            "label\t tp\t fp\t fn\t prec\t rec\t f1\n",
            "absent\t 0\t 0\t 44\t 0.0\t 0.0\t 0.0\n",
            "present\t 98\t 61\t 0\t 0.6163522\t 1.0\t 0.7626459\n",
            "conditional\t 0\t 0\t 1\t 0.0\t 0.0\t 0.0\n",
            "associated_with_someone_else\t 0\t 0\t 3\t 0.0\t 0.0\t 0.0\n",
            "hypothetical\t 0\t 0\t 6\t 0.0\t 0.0\t 0.0\n",
            "possible\t 0\t 0\t 7\t 0.0\t 0.0\t 0.0\n",
            "tp: 98 fp: 61 fn: 61 labels: 6\n",
            "Macro-average\t prec: 0.102725364, rec: 0.16666667, f1: 0.12710765\n",
            "Micro-average\t prec: 0.6163522, rec: 0.6163522, f1: 0.6163522\n",
            "Epoch: 5 started, learning rate: 7.7378086E-4, dataset size: 637\n",
            "Done, 8.536566094 loss: 4.286913, batches: 5\n",
            "Quality on validation dataset (20.0%), validation examples = 159\n",
            "time to finish evaluation: 1.40s\n",
            "label\t tp\t fp\t fn\t prec\t rec\t f1\n",
            "absent\t 5\t 1\t 39\t 0.8333333\t 0.11363637\t 0.2\n",
            "present\t 98\t 55\t 0\t 0.6405229\t 1.0\t 0.78087646\n",
            "conditional\t 0\t 0\t 1\t 0.0\t 0.0\t 0.0\n",
            "associated_with_someone_else\t 0\t 0\t 3\t 0.0\t 0.0\t 0.0\n",
            "hypothetical\t 0\t 0\t 6\t 0.0\t 0.0\t 0.0\n",
            "possible\t 0\t 0\t 7\t 0.0\t 0.0\t 0.0\n",
            "tp: 103 fp: 56 fn: 56 labels: 6\n",
            "Macro-average\t prec: 0.2456427, rec: 0.18560606, f1: 0.21144535\n",
            "Micro-average\t prec: 0.6477987, rec: 0.6477987, f1: 0.6477987\n",
            "Epoch: 6 started, learning rate: 7.350918E-4, dataset size: 637\n",
            "Done, 8.409934495 loss: 4.0474305, batches: 5\n",
            "Quality on validation dataset (20.0%), validation examples = 159\n",
            "time to finish evaluation: 1.40s\n",
            "label\t tp\t fp\t fn\t prec\t rec\t f1\n",
            "absent\t 10\t 2\t 34\t 0.8333333\t 0.22727273\t 0.35714287\n",
            "present\t 97\t 50\t 1\t 0.65986395\t 0.9897959\t 0.79183674\n",
            "conditional\t 0\t 0\t 1\t 0.0\t 0.0\t 0.0\n",
            "associated_with_someone_else\t 0\t 0\t 3\t 0.0\t 0.0\t 0.0\n",
            "hypothetical\t 0\t 0\t 6\t 0.0\t 0.0\t 0.0\n",
            "possible\t 0\t 0\t 7\t 0.0\t 0.0\t 0.0\n",
            "tp: 107 fp: 52 fn: 52 labels: 6\n",
            "Macro-average\t prec: 0.2488662, rec: 0.20284478, f1: 0.2235111\n",
            "Micro-average\t prec: 0.672956, rec: 0.672956, f1: 0.672956\n",
            "Epoch: 7 started, learning rate: 6.983372E-4, dataset size: 637\n",
            "Done, 9.503097561 loss: 3.782543, batches: 5\n",
            "Quality on validation dataset (20.0%), validation examples = 159\n",
            "time to finish evaluation: 1.58s\n",
            "label\t tp\t fp\t fn\t prec\t rec\t f1\n",
            "absent\t 28\t 17\t 16\t 0.62222224\t 0.6363636\t 0.62921345\n",
            "present\t 88\t 26\t 10\t 0.7719298\t 0.8979592\t 0.83018863\n",
            "conditional\t 0\t 0\t 1\t 0.0\t 0.0\t 0.0\n",
            "associated_with_someone_else\t 0\t 0\t 3\t 0.0\t 0.0\t 0.0\n",
            "hypothetical\t 0\t 0\t 6\t 0.0\t 0.0\t 0.0\n",
            "possible\t 0\t 0\t 7\t 0.0\t 0.0\t 0.0\n",
            "tp: 116 fp: 43 fn: 43 labels: 6\n",
            "Macro-average\t prec: 0.23235868, rec: 0.25572047, f1: 0.24348047\n",
            "Micro-average\t prec: 0.7295597, rec: 0.7295597, f1: 0.7295597\n",
            "Epoch: 8 started, learning rate: 6.6342036E-4, dataset size: 637\n",
            "Done, 8.708996084 loss: 3.6849773, batches: 5\n",
            "Quality on validation dataset (20.0%), validation examples = 159\n",
            "time to finish evaluation: 1.43s\n",
            "label\t tp\t fp\t fn\t prec\t rec\t f1\n",
            "absent\t 25\t 11\t 19\t 0.6944444\t 0.5681818\t 0.625\n",
            "present\t 91\t 29\t 7\t 0.7583333\t 0.9285714\t 0.8348624\n",
            "conditional\t 0\t 0\t 1\t 0.0\t 0.0\t 0.0\n",
            "associated_with_someone_else\t 0\t 0\t 3\t 0.0\t 0.0\t 0.0\n",
            "hypothetical\t 2\t 1\t 4\t 0.6666667\t 0.33333334\t 0.44444448\n",
            "possible\t 0\t 0\t 7\t 0.0\t 0.0\t 0.0\n",
            "tp: 118 fp: 41 fn: 41 labels: 6\n",
            "Macro-average\t prec: 0.35324073, rec: 0.30501443, f1: 0.32736096\n",
            "Micro-average\t prec: 0.7421384, rec: 0.7421384, f1: 0.7421384\n",
            "Epoch: 9 started, learning rate: 6.302493E-4, dataset size: 637\n",
            "Done, 8.840226328 loss: 3.5904093, batches: 5\n",
            "Quality on validation dataset (20.0%), validation examples = 159\n",
            "time to finish evaluation: 1.43s\n",
            "label\t tp\t fp\t fn\t prec\t rec\t f1\n",
            "absent\t 17\t 3\t 27\t 0.85\t 0.38636363\t 0.53125\n",
            "present\t 96\t 43\t 2\t 0.6906475\t 0.97959185\t 0.8101266\n",
            "conditional\t 0\t 0\t 1\t 0.0\t 0.0\t 0.0\n",
            "associated_with_someone_else\t 0\t 0\t 3\t 0.0\t 0.0\t 0.0\n",
            "hypothetical\t 0\t 0\t 6\t 0.0\t 0.0\t 0.0\n",
            "possible\t 0\t 0\t 7\t 0.0\t 0.0\t 0.0\n",
            "tp: 113 fp: 46 fn: 46 labels: 6\n",
            "Macro-average\t prec: 0.25677457, rec: 0.22765924, f1: 0.24134196\n",
            "Micro-average\t prec: 0.7106918, rec: 0.7106918, f1: 0.7106918\n"
          ],
          "name": "stdout"
        }
      ]
    },
    {
      "cell_type": "code",
      "metadata": {
        "colab_type": "code",
        "id": "-k2WrFkRyQyP",
        "colab": {
          "base_uri": "https://localhost:8080/",
          "height": 459
        },
        "outputId": "2036170f-99ac-4295-c068-aefb07265fd7"
      },
      "source": [
        "preds = assertion_model.transform(test_data).select('label','assertion.result')\n",
        "\n",
        "preds.show()"
      ],
      "execution_count": 60,
      "outputs": [
        {
          "output_type": "stream",
          "text": [
            "+------------+---------+\n",
            "|       label|   result|\n",
            "+------------+---------+\n",
            "|     present|[present]|\n",
            "|    possible|[present]|\n",
            "|     present|[present]|\n",
            "|     present|[present]|\n",
            "|     present|[present]|\n",
            "|     present|[present]|\n",
            "|     present|[present]|\n",
            "|     present|[present]|\n",
            "|     present|[present]|\n",
            "|     present|[present]|\n",
            "|     present|[present]|\n",
            "|hypothetical|[present]|\n",
            "|     present|[present]|\n",
            "|     present|[present]|\n",
            "|     present|[present]|\n",
            "|     present|[present]|\n",
            "|     present|[present]|\n",
            "|     present|[present]|\n",
            "|hypothetical|[present]|\n",
            "|     present|[present]|\n",
            "+------------+---------+\n",
            "only showing top 20 rows\n",
            "\n"
          ],
          "name": "stdout"
        }
      ]
    },
    {
      "cell_type": "code",
      "metadata": {
        "colab_type": "code",
        "id": "4yI73lwG2xk5",
        "colab": {}
      },
      "source": [
        "preds_df = preds.toPandas()\n"
      ],
      "execution_count": 61,
      "outputs": []
    },
    {
      "cell_type": "code",
      "metadata": {
        "colab_type": "code",
        "id": "yRXZFGlQ3Z2U",
        "colab": {}
      },
      "source": [
        "preds_df['result'] = preds_df['result'].apply(lambda x : x[0])\n"
      ],
      "execution_count": 62,
      "outputs": []
    },
    {
      "cell_type": "code",
      "metadata": {
        "colab_type": "code",
        "id": "sYoEUlfU3cCU",
        "colab": {
          "base_uri": "https://localhost:8080/",
          "height": 292
        },
        "outputId": "869a9422-5484-4cd4-f427-adb762abac5c"
      },
      "source": [
        "# We are going to use sklearn to evalute the results on test dataset\n",
        "from sklearn.metrics import classification_report\n",
        "\n",
        "print (classification_report(preds_df['result'], preds_df['label']))"
      ],
      "execution_count": 63,
      "outputs": [
        {
          "output_type": "stream",
          "text": [
            "                              precision    recall  f1-score   support\n",
            "\n",
            "                      absent       0.45      0.83      0.59        24\n",
            "associated_with_someone_else       0.00      0.00      0.00         0\n",
            "                 conditional       0.00      0.00      0.00         0\n",
            "                hypothetical       0.00      0.00      0.00         2\n",
            "                    possible       0.00      0.00      0.00         0\n",
            "                     present       0.99      0.75      0.85       178\n",
            "\n",
            "                    accuracy                           0.75       204\n",
            "                   macro avg       0.24      0.26      0.24       204\n",
            "                weighted avg       0.91      0.75      0.81       204\n",
            "\n"
          ],
          "name": "stdout"
        },
        {
          "output_type": "stream",
          "text": [
            "/usr/local/lib/python3.6/dist-packages/sklearn/metrics/_classification.py:1272: UndefinedMetricWarning: Recall and F-score are ill-defined and being set to 0.0 in labels with no true samples. Use `zero_division` parameter to control this behavior.\n",
            "  _warn_prf(average, modifier, msg_start, len(result))\n"
          ],
          "name": "stderr"
        }
      ]
    },
    {
      "cell_type": "code",
      "metadata": {
        "colab_type": "code",
        "id": "atNaIlnP3gKr",
        "colab": {}
      },
      "source": [
        ""
      ],
      "execution_count": null,
      "outputs": []
    }
  ]
}
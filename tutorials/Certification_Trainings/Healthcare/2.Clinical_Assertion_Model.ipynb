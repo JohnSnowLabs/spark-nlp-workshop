{
  "cells": [
    {
      "cell_type": "markdown",
      "metadata": {
        "id": "I08sFJYCxR0Z"
      },
      "source": [
        "![JohnSnowLabs](https://nlp.johnsnowlabs.com/assets/images/logo.png)"
      ]
    },
    {
      "cell_type": "markdown",
      "metadata": {
        "id": "MXZNJ2EirHSN"
      },
      "source": [
        "[![Open In Colab](https://colab.research.google.com/assets/colab-badge.svg)](https://colab.research.google.com/github/JohnSnowLabs/spark-nlp-workshop/blob/master/tutorials/Certification_Trainings/Healthcare/2.Clinical_Assertion_Model.ipynb)"
      ]
    },
    {
      "cell_type": "markdown",
      "metadata": {
        "id": "Niy3mZAjoayg"
      },
      "source": [
        "# Clinical Assertion Status Model \n",
        "\n",
        "\n",
        "The deep neural network architecture for assertion status detection in Spark NLP is based on a Bi-LSTM framework, and is a modified version of the architecture proposed by Federico Fancellu, Adam Lopez and Bonnie Webber ([Neural Networks For Negation Scope Detection](https://aclanthology.org/P16-1047.pdf)). Its goal is to classify the assertions made on given medical concepts as being present, absent, or possible in the patient, conditionally present in the patient under certain circumstances,\n",
        "hypothetically present in the patient at some future point, and\n",
        "mentioned in the patient report but associated with someoneelse.\n",
        "In the proposed implementation, input units depend on the\n",
        "target tokens (a named entity) and the neighboring words that\n",
        "are explicitly encoded as a sequence using word embeddings.\n",
        "Similar to paper mentioned above,  it is observed that that 95% of the scope tokens (neighboring words) fall in a window of 9 tokens to the left and 15\n",
        "to the right of the target tokens in the same dataset. Therefore, the same window size was implemented and it following parameters were used: learning\n",
        "rate 0.0012, dropout 0.05, batch size 64 and a maximum sentence length 250. The model has been implemented within\n",
        "Spark NLP as an annotator called AssertionDLModel. After\n",
        "training 20 epoch and measuring accuracy on the official test\n",
        "set, this implementation exceeds the latest state-of-the-art\n",
        "accuracy benchmarks as summarized as following table:\n",
        "\n",
        "|Assertion Label|Spark NLP|Latest Best|\n",
        "|-|-|-|\n",
        "|Absent       |0.944 |0.937|\n",
        "|Someone-else |0.904|0.869|\n",
        "|Conditional  |0.441|0.422|\n",
        "|Hypothetical |0.862|0.890|\n",
        "|Possible     |0.680|0.630|\n",
        "|Present      |0.953|0.957|\n",
        "|micro F1     |0.939|0.934|\n"
      ]
    },
    {
      "cell_type": "markdown",
      "metadata": {
        "id": "okhT7AcXxben"
      },
      "source": [
        "**Colab Setup**"
      ]
    },
    {
      "cell_type": "code",
      "execution_count": null,
      "metadata": {
        "id": "UPYaQizloMiq"
      },
      "outputs": [],
      "source": [
        "import json\n",
        "import os\n",
        "\n",
        "from google.colab import files\n",
        "\n",
        "if 'spark_jsl.json' not in os.listdir():\n",
        "  license_keys = files.upload()\n",
        "  os.rename(list(license_keys.keys())[0], 'spark_jsl.json')\n",
        "\n",
        "with open('spark_jsl.json') as f:\n",
        "    license_keys = json.load(f)\n",
        "\n",
        "# Defining license key-value pairs as local variables\n",
        "locals().update(license_keys)\n",
        "os.environ.update(license_keys)"
      ]
    },
    {
      "cell_type": "code",
      "execution_count": null,
      "metadata": {
        "id": "jphatV_n_u-T"
      },
      "outputs": [],
      "source": [
        "# Installing pyspark, nlu and spark-nlp\n",
        "! pip install --upgrade -q pyspark==3.1.2 nlu==4.0.1rc2 spark-nlp==$PUBLIC_VERSION\n",
        "\n",
        "# Installing Spark NLP Healthcare\n",
        "! pip install --upgrade -q spark-nlp-jsl==$JSL_VERSION  --extra-index-url https://pypi.johnsnowlabs.com/$SECRET\n",
        "\n",
        "# Installing Spark NLP Display Library for visualization\n",
        "! pip install -q spark-nlp-display"
      ]
    },
    {
      "cell_type": "code",
      "execution_count": 3,
      "metadata": {
        "colab": {
          "base_uri": "https://localhost:8080/",
          "height": 258
        },
        "id": "kMtWWqFBAMVW",
        "outputId": "3931bda3-fd77-44f7-b937-1f669afb4f45"
      },
      "outputs": [
        {
          "name": "stdout",
          "output_type": "stream",
          "text": [
            "Spark NLP Version : 4.0.0\n",
            "Spark NLP_JSL Version : 4.0.0\n"
          ]
        },
        {
          "data": {
            "text/html": [
              "\n",
              "            <div>\n",
              "                <p><b>SparkSession - in-memory</b></p>\n",
              "                \n",
              "        <div>\n",
              "            <p><b>SparkContext</b></p>\n",
              "\n",
              "            <p><a href=\"http://78c8a31ec879:4040\">Spark UI</a></p>\n",
              "\n",
              "            <dl>\n",
              "              <dt>Version</dt>\n",
              "                <dd><code>v3.1.2</code></dd>\n",
              "              <dt>Master</dt>\n",
              "                <dd><code>local[*]</code></dd>\n",
              "              <dt>AppName</dt>\n",
              "                <dd><code>Spark NLP Licensed</code></dd>\n",
              "            </dl>\n",
              "        </div>\n",
              "        \n",
              "            </div>\n",
              "        "
            ],
            "text/plain": [
              "<pyspark.sql.session.SparkSession at 0x7f808a925910>"
            ]
          },
          "execution_count": 3,
          "metadata": {},
          "output_type": "execute_result"
        }
      ],
      "source": [
        "import json\n",
        "import os\n",
        "\n",
        "from pyspark.ml import Pipeline,PipelineModel\n",
        "from pyspark.sql import SparkSession\n",
        "\n",
        "import nlu\n",
        "import sparknlp\n",
        "import sparknlp_jsl\n",
        "\n",
        "from sparknlp.base import *\n",
        "from sparknlp.annotator import *\n",
        "from sparknlp_jsl.annotator import *\n",
        "\n",
        "import pandas as pd\n",
        "\n",
        "import warnings\n",
        "warnings.filterwarnings('ignore')\n",
        "\n",
        "params = {\"spark.driver.memory\":\"16G\", \n",
        "          \"spark.kryoserializer.buffer.max\":\"2000M\", \n",
        "          \"spark.driver.maxResultSize\":\"2000M\"} \n",
        "\n",
        "spark = sparknlp_jsl.start(license_keys['SECRET'],params=params)\n",
        "\n",
        "print(\"Spark NLP Version :\", sparknlp.version())\n",
        "print(\"Spark NLP_JSL Version :\", sparknlp_jsl.version())\n",
        "\n",
        "spark"
      ]
    },
    {
      "cell_type": "code",
      "execution_count": null,
      "metadata": {
        "id": "77mvgqSpS1Kz"
      },
      "outputs": [],
      "source": [
        "# if you want to start the session with custom params as in start function above\n",
        "from pyspark.sql import SparkSession\n",
        "\n",
        "def start(SECRET):\n",
        "    builder = SparkSession.builder \\\n",
        "        .appName(\"Spark NLP Licensed\") \\\n",
        "        .master(\"local[*]\") \\\n",
        "        .config(\"spark.driver.memory\", \"16G\") \\\n",
        "        .config(\"spark.serializer\", \"org.apache.spark.serializer.KryoSerializer\") \\\n",
        "        .config(\"spark.kryoserializer.buffer.max\", \"2000M\") \\\n",
        "        .config(\"spark.jars.packages\", \"com.johnsnowlabs.nlp:spark-nlp_2.12:\"+PUBLIC_VERSION) \\\n",
        "        .config(\"spark.jars\", \"https://pypi.johnsnowlabs.com/\"+SECRET+\"/spark-nlp-jsl-\"+JSL_VERSION+\".jar\")\n",
        "      \n",
        "    return builder.getOrCreate()\n",
        "\n",
        "#spark = start(SECRET)"
      ]
    },
    {
      "cell_type": "markdown",
      "metadata": {
        "id": "AMU4sAJQ0Rhs"
      },
      "source": [
        "# Clinical Assertion Models (with pretrained models)"
      ]
    },
    {
      "cell_type": "markdown",
      "metadata": {
        "id": "Kql2KmQ35H7H"
      },
      "source": [
        "|    | model_name              |Predicted Entities|\n",
        "|---:|:------------------------|-|\n",
        "|  1 | [assertion_dl](https://nlp.johnsnowlabs.com/2021/01/26/assertion_dl_en.html)            |Present, Absent, Possible, Planned, Someoneelse, Past, Family, None, Hypotetical|\n",
        "|  2 | [assertion_dl_biobert](https://nlp.johnsnowlabs.com/2021/01/26/assertion_dl_biobert_en.html)    |absent, present, conditional, associated_with_someone_else, hypothetical, possible|\n",
        "|  3 | [assertion_dl_healthcare](https://nlp.johnsnowlabs.com/2020/09/23/assertion_dl_healthcare_en.html) |absent, present, conditional, associated_with_someone_else, hypothetical, possible|\n",
        "|  4 | [assertion_dl_large](https://nlp.johnsnowlabs.com/2020/05/21/assertion_dl_large_en.html)      |hypothetical, present, absent, possible, conditional, associated_with_someone_else|\n",
        "|  5 | [assertion_dl_radiology](https://nlp.johnsnowlabs.com/2021/03/18/assertion_dl_radiology_en.html)   |Confirmed, Suspected, Negative|\n",
        "|  6 | [assertion_jsl](https://nlp.johnsnowlabs.com/2021/07/24/assertion_jsl_en.html)           |Present, Absent, Possible, Planned, Someoneelse, Past, Family, None, Hypotetical|\n",
        "|  7 | [assertion_jsl_large](https://nlp.johnsnowlabs.com/2021/07/24/assertion_jsl_large_en.html)     |present, absent, possible, planned, someoneelse, past|\n",
        "|  8 |  [assertion_ml](https://nlp.johnsnowlabs.com/2020/01/30/assertion_ml_en.html) |Hypothetical, Present, Absent, Possible, Conditional, Associated_with_someone_else|\n",
        "|  9 | [assertion_dl_scope_L10R10](https://nlp.johnsnowlabs.com/2022/03/17/assertion_dl_scope_L10R10_en_3_0.html)| hypothetical, associated_with_someone_else, conditional, possible, absent, present|\n",
        "| 10 | [assertion_dl_biobert_scope_L10R10](https://nlp.johnsnowlabs.com/2022/03/24/assertion_dl_biobert_scope_L10R10_en_2_4.html)| hypothetical, associated_with_someone_else, conditional, possible, absent, present|"
      ]
    },
    {
      "cell_type": "markdown",
      "metadata": {
        "id": "voZj8-NSbe4j"
      },
      "source": [
        "### Pretrained `assertion_dl` model"
      ]
    },
    {
      "cell_type": "code",
      "execution_count": 4,
      "metadata": {
        "colab": {
          "base_uri": "https://localhost:8080/"
        },
        "id": "DEa5SITBxmY0",
        "outputId": "49868635-e50d-4d9b-d516-ad9d9967fa92"
      },
      "outputs": [
        {
          "name": "stdout",
          "output_type": "stream",
          "text": [
            "embeddings_clinical download started this may take some time.\n",
            "Approximate size to download 1.6 GB\n",
            "[OK!]\n",
            "ner_clinical download started this may take some time.\n",
            "[OK!]\n",
            "assertion_dl download started this may take some time.\n",
            "[OK!]\n"
          ]
        }
      ],
      "source": [
        "# Annotator that transforms a text column from dataframe into an Annotation ready for NLP\n",
        "\n",
        "from sparknlp_jsl.annotator import *\n",
        "\n",
        "documentAssembler = DocumentAssembler()\\\n",
        "    .setInputCol(\"text\")\\\n",
        "    .setOutputCol(\"document\")\n",
        "\n",
        "# Sentence Detector annotator, processes various sentences per line\n",
        "sentenceDetector = SentenceDetector()\\\n",
        "    .setInputCols([\"document\"])\\\n",
        "    .setOutputCol(\"sentence\")\n",
        "\n",
        "# Tokenizer splits words in a relevant format for NLP\n",
        "tokenizer = Tokenizer()\\\n",
        "    .setInputCols([\"sentence\"])\\\n",
        "    .setOutputCol(\"token\")\n",
        "\n",
        "# Clinical word embeddings trained on PubMED dataset\n",
        "word_embeddings = WordEmbeddingsModel.pretrained(\"embeddings_clinical\", \"en\", \"clinical/models\")\\\n",
        "    .setInputCols([\"sentence\", \"token\"])\\\n",
        "    .setOutputCol(\"embeddings\")\n",
        "\n",
        "# NER model trained on i2b2 (sampled from MIMIC) dataset\n",
        "clinical_ner = MedicalNerModel.pretrained(\"ner_clinical\", \"en\", \"clinical/models\") \\\n",
        "    .setInputCols([\"sentence\", \"token\", \"embeddings\"]) \\\n",
        "    .setOutputCol(\"ner\")\\\n",
        "    #.setIncludeAllConfidenceScores(False)\n",
        "\n",
        "ner_converter = NerConverter() \\\n",
        "    .setInputCols([\"sentence\", \"token\", \"ner\"]) \\\n",
        "    .setOutputCol(\"ner_chunk\")\n",
        "\n",
        "# Assertion model trained on i2b2 (sampled from MIMIC) dataset\n",
        "# coming from sparknlp_jsl.annotator !!\n",
        "clinical_assertion = AssertionDLModel.pretrained(\"assertion_dl\", \"en\", \"clinical/models\") \\\n",
        "    .setInputCols([\"sentence\", \"ner_chunk\", \"embeddings\"]) \\\n",
        "    .setOutputCol(\"assertion\")\n",
        "    \n",
        "nlpPipeline = Pipeline(stages=[\n",
        "    documentAssembler, \n",
        "    sentenceDetector,\n",
        "    tokenizer,\n",
        "    word_embeddings,\n",
        "    clinical_ner,\n",
        "    ner_converter,\n",
        "    clinical_assertion\n",
        "    ])\n",
        "\n",
        "empty_data = spark.createDataFrame([[\"\"]]).toDF(\"text\")\n",
        "\n",
        "model = nlpPipeline.fit(empty_data)\n"
      ]
    },
    {
      "cell_type": "code",
      "execution_count": 5,
      "metadata": {
        "colab": {
          "base_uri": "https://localhost:8080/"
        },
        "id": "-Z232ubQeyTu",
        "outputId": "83eecd23-b99b-4c7b-ae2d-3556a39927f2"
      },
      "outputs": [
        {
          "data": {
            "text/plain": [
              "{Param(parent='AssertionDLApproach_965a126a8f72', name='batchSize', doc='Size for each batch in the optimization process'): 64,\n",
              " Param(parent='AssertionDLApproach_965a126a8f72', name='dropout', doc='Dropout at the output of each layer'): 0.05,\n",
              " Param(parent='AssertionDLApproach_965a126a8f72', name='epochs', doc='Number of epochs for the optimization process'): 5,\n",
              " Param(parent='AssertionDLApproach_965a126a8f72', name='includeConfidence', doc='whether to include confidence scores in annotation metadata'): False,\n",
              " Param(parent='AssertionDLApproach_965a126a8f72', name='label', doc='Column with one label per document'): 'label',\n",
              " Param(parent='AssertionDLApproach_965a126a8f72', name='lazyAnnotator', doc='Whether this AnnotatorModel acts as lazy in RecursivePipelines'): False,\n",
              " Param(parent='AssertionDLApproach_965a126a8f72', name='learningRate', doc='Learning rate for the optimization process'): 0.0012,\n",
              " Param(parent='AssertionDLApproach_965a126a8f72', name='maxSentLen', doc='Max length for an input sentence.'): 250,\n",
              " Param(parent='AssertionDLApproach_965a126a8f72', name='scopeWindow', doc='The scope window of the assertion expression'): [-1,\n",
              "  -1]}"
            ]
          },
          "execution_count": 5,
          "metadata": {},
          "output_type": "execute_result"
        }
      ],
      "source": [
        "AssertionDLApproach().extractParamMap()"
      ]
    },
    {
      "cell_type": "code",
      "execution_count": null,
      "metadata": {
        "id": "SMzVzklLw7B3"
      },
      "outputs": [],
      "source": [
        "# we also have a LogReg based Assertion Model.\n",
        "'''\n",
        "clinical_assertion_ml = AssertionLogRegModel.pretrained(\"assertion_ml\", \"en\", \"clinical/models\") \\\n",
        "    .setInputCols([\"sentence\", \"ner_chunk\", \"embeddings\"]) \\\n",
        "    .setOutputCol(\"assertion\")\n",
        "'''"
      ]
    },
    {
      "cell_type": "code",
      "execution_count": 6,
      "metadata": {
        "colab": {
          "base_uri": "https://localhost:8080/",
          "height": 244
        },
        "id": "f2RPZMmbVeN3",
        "outputId": "5932690b-d26c-41a1-9ac0-573d33ced58c"
      },
      "outputs": [
        {
          "name": "stdout",
          "output_type": "stream",
          "text": [
            "Patient has a headache for the last 2 weeks, needs to get a head CT, and appears anxious when she walks fast. No alopecia noted. She denies pain\n"
          ]
        },
        {
          "data": {
            "text/html": [
              "\n",
              "  <div id=\"df-b76ee5cf-61ed-43c1-9f4f-d7f95bd1ee7d\">\n",
              "    <div class=\"colab-df-container\">\n",
              "      <div>\n",
              "<style scoped>\n",
              "    .dataframe tbody tr th:only-of-type {\n",
              "        vertical-align: middle;\n",
              "    }\n",
              "\n",
              "    .dataframe tbody tr th {\n",
              "        vertical-align: top;\n",
              "    }\n",
              "\n",
              "    .dataframe thead th {\n",
              "        text-align: right;\n",
              "    }\n",
              "</style>\n",
              "<table border=\"1\" class=\"dataframe\">\n",
              "  <thead>\n",
              "    <tr style=\"text-align: right;\">\n",
              "      <th></th>\n",
              "      <th>chunks</th>\n",
              "      <th>entities</th>\n",
              "      <th>assertion</th>\n",
              "    </tr>\n",
              "  </thead>\n",
              "  <tbody>\n",
              "    <tr>\n",
              "      <th>0</th>\n",
              "      <td>a headache</td>\n",
              "      <td>PROBLEM</td>\n",
              "      <td>present</td>\n",
              "    </tr>\n",
              "    <tr>\n",
              "      <th>1</th>\n",
              "      <td>a head CT</td>\n",
              "      <td>TEST</td>\n",
              "      <td>present</td>\n",
              "    </tr>\n",
              "    <tr>\n",
              "      <th>2</th>\n",
              "      <td>anxious</td>\n",
              "      <td>PROBLEM</td>\n",
              "      <td>present</td>\n",
              "    </tr>\n",
              "    <tr>\n",
              "      <th>3</th>\n",
              "      <td>alopecia</td>\n",
              "      <td>PROBLEM</td>\n",
              "      <td>absent</td>\n",
              "    </tr>\n",
              "    <tr>\n",
              "      <th>4</th>\n",
              "      <td>pain</td>\n",
              "      <td>PROBLEM</td>\n",
              "      <td>absent</td>\n",
              "    </tr>\n",
              "  </tbody>\n",
              "</table>\n",
              "</div>\n",
              "      <button class=\"colab-df-convert\" onclick=\"convertToInteractive('df-b76ee5cf-61ed-43c1-9f4f-d7f95bd1ee7d')\"\n",
              "              title=\"Convert this dataframe to an interactive table.\"\n",
              "              style=\"display:none;\">\n",
              "        \n",
              "  <svg xmlns=\"http://www.w3.org/2000/svg\" height=\"24px\"viewBox=\"0 0 24 24\"\n",
              "       width=\"24px\">\n",
              "    <path d=\"M0 0h24v24H0V0z\" fill=\"none\"/>\n",
              "    <path d=\"M18.56 5.44l.94 2.06.94-2.06 2.06-.94-2.06-.94-.94-2.06-.94 2.06-2.06.94zm-11 1L8.5 8.5l.94-2.06 2.06-.94-2.06-.94L8.5 2.5l-.94 2.06-2.06.94zm10 10l.94 2.06.94-2.06 2.06-.94-2.06-.94-.94-2.06-.94 2.06-2.06.94z\"/><path d=\"M17.41 7.96l-1.37-1.37c-.4-.4-.92-.59-1.43-.59-.52 0-1.04.2-1.43.59L10.3 9.45l-7.72 7.72c-.78.78-.78 2.05 0 2.83L4 21.41c.39.39.9.59 1.41.59.51 0 1.02-.2 1.41-.59l7.78-7.78 2.81-2.81c.8-.78.8-2.07 0-2.86zM5.41 20L4 18.59l7.72-7.72 1.47 1.35L5.41 20z\"/>\n",
              "  </svg>\n",
              "      </button>\n",
              "      \n",
              "  <style>\n",
              "    .colab-df-container {\n",
              "      display:flex;\n",
              "      flex-wrap:wrap;\n",
              "      gap: 12px;\n",
              "    }\n",
              "\n",
              "    .colab-df-convert {\n",
              "      background-color: #E8F0FE;\n",
              "      border: none;\n",
              "      border-radius: 50%;\n",
              "      cursor: pointer;\n",
              "      display: none;\n",
              "      fill: #1967D2;\n",
              "      height: 32px;\n",
              "      padding: 0 0 0 0;\n",
              "      width: 32px;\n",
              "    }\n",
              "\n",
              "    .colab-df-convert:hover {\n",
              "      background-color: #E2EBFA;\n",
              "      box-shadow: 0px 1px 2px rgba(60, 64, 67, 0.3), 0px 1px 3px 1px rgba(60, 64, 67, 0.15);\n",
              "      fill: #174EA6;\n",
              "    }\n",
              "\n",
              "    [theme=dark] .colab-df-convert {\n",
              "      background-color: #3B4455;\n",
              "      fill: #D2E3FC;\n",
              "    }\n",
              "\n",
              "    [theme=dark] .colab-df-convert:hover {\n",
              "      background-color: #434B5C;\n",
              "      box-shadow: 0px 1px 3px 1px rgba(0, 0, 0, 0.15);\n",
              "      filter: drop-shadow(0px 1px 2px rgba(0, 0, 0, 0.3));\n",
              "      fill: #FFFFFF;\n",
              "    }\n",
              "  </style>\n",
              "\n",
              "      <script>\n",
              "        const buttonEl =\n",
              "          document.querySelector('#df-b76ee5cf-61ed-43c1-9f4f-d7f95bd1ee7d button.colab-df-convert');\n",
              "        buttonEl.style.display =\n",
              "          google.colab.kernel.accessAllowed ? 'block' : 'none';\n",
              "\n",
              "        async function convertToInteractive(key) {\n",
              "          const element = document.querySelector('#df-b76ee5cf-61ed-43c1-9f4f-d7f95bd1ee7d');\n",
              "          const dataTable =\n",
              "            await google.colab.kernel.invokeFunction('convertToInteractive',\n",
              "                                                     [key], {});\n",
              "          if (!dataTable) return;\n",
              "\n",
              "          const docLinkHtml = 'Like what you see? Visit the ' +\n",
              "            '<a target=\"_blank\" href=https://colab.research.google.com/notebooks/data_table.ipynb>data table notebook</a>'\n",
              "            + ' to learn more about interactive tables.';\n",
              "          element.innerHTML = '';\n",
              "          dataTable['output_type'] = 'display_data';\n",
              "          await google.colab.output.renderOutput(dataTable, element);\n",
              "          const docLink = document.createElement('div');\n",
              "          docLink.innerHTML = docLinkHtml;\n",
              "          element.appendChild(docLink);\n",
              "        }\n",
              "      </script>\n",
              "    </div>\n",
              "  </div>\n",
              "  "
            ],
            "text/plain": [
              "       chunks entities assertion\n",
              "0  a headache  PROBLEM   present\n",
              "1   a head CT     TEST   present\n",
              "2     anxious  PROBLEM   present\n",
              "3    alopecia  PROBLEM    absent\n",
              "4        pain  PROBLEM    absent"
            ]
          },
          "execution_count": 6,
          "metadata": {},
          "output_type": "execute_result"
        }
      ],
      "source": [
        "import pandas as pd\n",
        "\n",
        "text = 'Patient has a headache for the last 2 weeks, needs to get a head CT, and appears anxious when she walks fast. No alopecia noted. She denies pain'\n",
        "\n",
        "print (text)\n",
        "\n",
        "light_model = LightPipeline(model)\n",
        "\n",
        "light_result = light_model.fullAnnotate(text)[0]\n",
        "\n",
        "chunks=[]\n",
        "entities=[]\n",
        "status=[]\n",
        "\n",
        "for n,m in zip(light_result['ner_chunk'],light_result['assertion']):\n",
        "    \n",
        "    chunks.append(n.result)\n",
        "    entities.append(n.metadata['entity']) \n",
        "    status.append(m.result)\n",
        "        \n",
        "df = pd.DataFrame({'chunks':chunks, 'entities':entities, 'assertion':status})\n",
        "\n",
        "df"
      ]
    },
    {
      "cell_type": "code",
      "execution_count": 7,
      "metadata": {
        "colab": {
          "base_uri": "https://localhost:8080/"
        },
        "id": "FdniFKvYbw3q",
        "outputId": "c92b17d4-f8ef-4bb9-e6cf-799d9be2af88"
      },
      "outputs": [
        {
          "data": {
            "text/plain": [
              "Index(['index', 'assertion', 'assertion_confidence', 'document',\n",
              "       'entities_ner_chunk', 'entities_ner_chunk_class',\n",
              "       'entities_ner_chunk_confidence', 'entities_ner_chunk_origin_chunk',\n",
              "       'entities_ner_chunk_origin_sentence', 'sentence_pragmatic',\n",
              "       'word_embedding_embeddings'],\n",
              "      dtype='object')"
            ]
          },
          "execution_count": 7,
          "metadata": {},
          "output_type": "execute_result"
        }
      ],
      "source": [
        "text = 'Patient has a headache for the last 2 weeks, needs to get a head CT, and appears anxious when she walks fast. No alopecia noted. She denies pain'\n",
        "\n",
        "nlu.to_pretty_df(model,text,output_level='chunk').columns"
      ]
    },
    {
      "cell_type": "code",
      "execution_count": 8,
      "metadata": {
        "colab": {
          "base_uri": "https://localhost:8080/",
          "height": 206
        },
        "id": "hBwfuJy4YlUz",
        "outputId": "4b0996bb-1375-4dfe-845f-f27c4b421d14"
      },
      "outputs": [
        {
          "data": {
            "text/html": [
              "\n",
              "  <div id=\"df-ce066c8e-dfc9-485f-bc4e-12a72bae2951\">\n",
              "    <div class=\"colab-df-container\">\n",
              "      <div>\n",
              "<style scoped>\n",
              "    .dataframe tbody tr th:only-of-type {\n",
              "        vertical-align: middle;\n",
              "    }\n",
              "\n",
              "    .dataframe tbody tr th {\n",
              "        vertical-align: top;\n",
              "    }\n",
              "\n",
              "    .dataframe thead th {\n",
              "        text-align: right;\n",
              "    }\n",
              "</style>\n",
              "<table border=\"1\" class=\"dataframe\">\n",
              "  <thead>\n",
              "    <tr style=\"text-align: right;\">\n",
              "      <th></th>\n",
              "      <th>entities_ner_chunk</th>\n",
              "      <th>entities_ner_chunk_class</th>\n",
              "      <th>assertion</th>\n",
              "    </tr>\n",
              "  </thead>\n",
              "  <tbody>\n",
              "    <tr>\n",
              "      <th>0</th>\n",
              "      <td>a headache</td>\n",
              "      <td>PROBLEM</td>\n",
              "      <td>present</td>\n",
              "    </tr>\n",
              "    <tr>\n",
              "      <th>1</th>\n",
              "      <td>a head CT</td>\n",
              "      <td>TEST</td>\n",
              "      <td>present</td>\n",
              "    </tr>\n",
              "    <tr>\n",
              "      <th>2</th>\n",
              "      <td>anxious</td>\n",
              "      <td>PROBLEM</td>\n",
              "      <td>present</td>\n",
              "    </tr>\n",
              "    <tr>\n",
              "      <th>3</th>\n",
              "      <td>alopecia</td>\n",
              "      <td>PROBLEM</td>\n",
              "      <td>absent</td>\n",
              "    </tr>\n",
              "    <tr>\n",
              "      <th>4</th>\n",
              "      <td>pain</td>\n",
              "      <td>PROBLEM</td>\n",
              "      <td>absent</td>\n",
              "    </tr>\n",
              "  </tbody>\n",
              "</table>\n",
              "</div>\n",
              "      <button class=\"colab-df-convert\" onclick=\"convertToInteractive('df-ce066c8e-dfc9-485f-bc4e-12a72bae2951')\"\n",
              "              title=\"Convert this dataframe to an interactive table.\"\n",
              "              style=\"display:none;\">\n",
              "        \n",
              "  <svg xmlns=\"http://www.w3.org/2000/svg\" height=\"24px\"viewBox=\"0 0 24 24\"\n",
              "       width=\"24px\">\n",
              "    <path d=\"M0 0h24v24H0V0z\" fill=\"none\"/>\n",
              "    <path d=\"M18.56 5.44l.94 2.06.94-2.06 2.06-.94-2.06-.94-.94-2.06-.94 2.06-2.06.94zm-11 1L8.5 8.5l.94-2.06 2.06-.94-2.06-.94L8.5 2.5l-.94 2.06-2.06.94zm10 10l.94 2.06.94-2.06 2.06-.94-2.06-.94-.94-2.06-.94 2.06-2.06.94z\"/><path d=\"M17.41 7.96l-1.37-1.37c-.4-.4-.92-.59-1.43-.59-.52 0-1.04.2-1.43.59L10.3 9.45l-7.72 7.72c-.78.78-.78 2.05 0 2.83L4 21.41c.39.39.9.59 1.41.59.51 0 1.02-.2 1.41-.59l7.78-7.78 2.81-2.81c.8-.78.8-2.07 0-2.86zM5.41 20L4 18.59l7.72-7.72 1.47 1.35L5.41 20z\"/>\n",
              "  </svg>\n",
              "      </button>\n",
              "      \n",
              "  <style>\n",
              "    .colab-df-container {\n",
              "      display:flex;\n",
              "      flex-wrap:wrap;\n",
              "      gap: 12px;\n",
              "    }\n",
              "\n",
              "    .colab-df-convert {\n",
              "      background-color: #E8F0FE;\n",
              "      border: none;\n",
              "      border-radius: 50%;\n",
              "      cursor: pointer;\n",
              "      display: none;\n",
              "      fill: #1967D2;\n",
              "      height: 32px;\n",
              "      padding: 0 0 0 0;\n",
              "      width: 32px;\n",
              "    }\n",
              "\n",
              "    .colab-df-convert:hover {\n",
              "      background-color: #E2EBFA;\n",
              "      box-shadow: 0px 1px 2px rgba(60, 64, 67, 0.3), 0px 1px 3px 1px rgba(60, 64, 67, 0.15);\n",
              "      fill: #174EA6;\n",
              "    }\n",
              "\n",
              "    [theme=dark] .colab-df-convert {\n",
              "      background-color: #3B4455;\n",
              "      fill: #D2E3FC;\n",
              "    }\n",
              "\n",
              "    [theme=dark] .colab-df-convert:hover {\n",
              "      background-color: #434B5C;\n",
              "      box-shadow: 0px 1px 3px 1px rgba(0, 0, 0, 0.15);\n",
              "      filter: drop-shadow(0px 1px 2px rgba(0, 0, 0, 0.3));\n",
              "      fill: #FFFFFF;\n",
              "    }\n",
              "  </style>\n",
              "\n",
              "      <script>\n",
              "        const buttonEl =\n",
              "          document.querySelector('#df-ce066c8e-dfc9-485f-bc4e-12a72bae2951 button.colab-df-convert');\n",
              "        buttonEl.style.display =\n",
              "          google.colab.kernel.accessAllowed ? 'block' : 'none';\n",
              "\n",
              "        async function convertToInteractive(key) {\n",
              "          const element = document.querySelector('#df-ce066c8e-dfc9-485f-bc4e-12a72bae2951');\n",
              "          const dataTable =\n",
              "            await google.colab.kernel.invokeFunction('convertToInteractive',\n",
              "                                                     [key], {});\n",
              "          if (!dataTable) return;\n",
              "\n",
              "          const docLinkHtml = 'Like what you see? Visit the ' +\n",
              "            '<a target=\"_blank\" href=https://colab.research.google.com/notebooks/data_table.ipynb>data table notebook</a>'\n",
              "            + ' to learn more about interactive tables.';\n",
              "          element.innerHTML = '';\n",
              "          dataTable['output_type'] = 'display_data';\n",
              "          await google.colab.output.renderOutput(dataTable, element);\n",
              "          const docLink = document.createElement('div');\n",
              "          docLink.innerHTML = docLinkHtml;\n",
              "          element.appendChild(docLink);\n",
              "        }\n",
              "      </script>\n",
              "    </div>\n",
              "  </div>\n",
              "  "
            ],
            "text/plain": [
              "  entities_ner_chunk entities_ner_chunk_class assertion\n",
              "0         a headache                  PROBLEM   present\n",
              "1          a head CT                     TEST   present\n",
              "2            anxious                  PROBLEM   present\n",
              "3           alopecia                  PROBLEM    absent\n",
              "4               pain                  PROBLEM    absent"
            ]
          },
          "execution_count": 8,
          "metadata": {},
          "output_type": "execute_result"
        }
      ],
      "source": [
        "cols = [\n",
        "     'entities_ner_chunk',\n",
        "     'entities_ner_chunk_class', \n",
        "     'assertion',]\n",
        "     \n",
        "df = nlu.to_pretty_df(model,text,output_level='chunk')[cols]\n",
        "df\n"
      ]
    },
    {
      "cell_type": "code",
      "execution_count": 9,
      "metadata": {
        "colab": {
          "base_uri": "https://localhost:8080/",
          "height": 219
        },
        "id": "_S4nrCllzSm_",
        "outputId": "18f29e8e-9f23-40cd-8d0e-278e33262423"
      },
      "outputs": [
        {
          "data": {
            "text/html": [
              "\n",
              "<style>\n",
              "    @import url('https://fonts.googleapis.com/css2?family=Montserrat:wght@300;400;500;600;700&display=swap');\n",
              "    @import url('https://fonts.googleapis.com/css2?family=Vistol Regular:wght@300;400;500;600;700&display=swap');\n",
              "    \n",
              "    .spark-nlp-display-scroll-entities {\n",
              "        border: 1px solid #E7EDF0;\n",
              "        border-radius: 3px;\n",
              "        text-align: justify;\n",
              "        \n",
              "    }\n",
              "    .spark-nlp-display-scroll-entities span {  \n",
              "        font-size: 14px;\n",
              "        line-height: 24px;\n",
              "        color: #536B76;\n",
              "        font-family: 'Montserrat', sans-serif !important;\n",
              "    }\n",
              "    \n",
              "    .spark-nlp-display-entity-wrapper{\n",
              "    \n",
              "        display: inline-grid;\n",
              "        text-align: center;\n",
              "        border-radius: 4px;\n",
              "        margin: 0 2px 5px 2px;\n",
              "        padding: 1px\n",
              "    }\n",
              "    .spark-nlp-display-entity-name{\n",
              "        font-size: 14px;\n",
              "        line-height: 24px;\n",
              "        font-family: 'Montserrat', sans-serif !important;\n",
              "        \n",
              "        background: #f1f2f3;\n",
              "        border-width: medium;\n",
              "        text-align: center;\n",
              "        \n",
              "        font-weight: 400;\n",
              "        \n",
              "        border-radius: 5px;\n",
              "        padding: 2px 5px;\n",
              "        display: block;\n",
              "        margin: 3px 2px;\n",
              "    \n",
              "    }\n",
              "    .spark-nlp-display-entity-type{\n",
              "        font-size: 14px;\n",
              "        line-height: 24px;\n",
              "        color: #ffffff;\n",
              "        font-family: 'Montserrat', sans-serif !important;\n",
              "        \n",
              "        text-transform: uppercase;\n",
              "        \n",
              "        font-weight: 500;\n",
              "\n",
              "        display: block;\n",
              "        padding: 3px 5px;\n",
              "    }\n",
              "    \n",
              "    .spark-nlp-display-entity-resolution{\n",
              "        font-size: 14px;\n",
              "        line-height: 24px;\n",
              "        color: #ffffff;\n",
              "        font-family: 'Vistol Regular', sans-serif !important;\n",
              "        \n",
              "        text-transform: uppercase;\n",
              "        \n",
              "        font-weight: 500;\n",
              "\n",
              "        display: block;\n",
              "        padding: 3px 5px;\n",
              "    }\n",
              "    \n",
              "    .spark-nlp-display-others{\n",
              "        font-size: 14px;\n",
              "        line-height: 24px;\n",
              "        font-family: 'Montserrat', sans-serif !important;\n",
              "        \n",
              "        font-weight: 400;\n",
              "    }\n",
              "\n",
              "</style>\n",
              " <span class=\"spark-nlp-display-others\" style=\"background-color: white\">Patient has </span><span class=\"spark-nlp-display-entity-wrapper\" style=\"background-color: #800080B3\"><span class=\"spark-nlp-display-entity-name\">a headache </span><span class=\"spark-nlp-display-entity-type\">PROBLEM</span><span class=\"spark-nlp-display-entity-resolution\" style=\"background-color: #800080FF\">present </span></span><span class=\"spark-nlp-display-others\" style=\"background-color: white\"> for the last 2 weeks, needs to get </span><span class=\"spark-nlp-display-entity-wrapper\" style=\"background-color: #008080B3\"><span class=\"spark-nlp-display-entity-name\">a head CT </span><span class=\"spark-nlp-display-entity-type\">TEST</span><span class=\"spark-nlp-display-entity-resolution\" style=\"background-color: #008080FF\">present </span></span><span class=\"spark-nlp-display-others\" style=\"background-color: white\">, and appears </span><span class=\"spark-nlp-display-entity-wrapper\" style=\"background-color: #800080B3\"><span class=\"spark-nlp-display-entity-name\">anxious </span><span class=\"spark-nlp-display-entity-type\">PROBLEM</span><span class=\"spark-nlp-display-entity-resolution\" style=\"background-color: #800080FF\">present </span></span><span class=\"spark-nlp-display-others\" style=\"background-color: white\"> when she walks fast. No </span><span class=\"spark-nlp-display-entity-wrapper\" style=\"background-color: #800080B3\"><span class=\"spark-nlp-display-entity-name\">alopecia </span><span class=\"spark-nlp-display-entity-type\">PROBLEM</span><span class=\"spark-nlp-display-entity-resolution\" style=\"background-color: #800080FF\">absent </span></span><span class=\"spark-nlp-display-others\" style=\"background-color: white\"> noted. She denies </span><span class=\"spark-nlp-display-entity-wrapper\" style=\"background-color: #800080B3\"><span class=\"spark-nlp-display-entity-name\">pain </span><span class=\"spark-nlp-display-entity-type\">PROBLEM</span><span class=\"spark-nlp-display-entity-resolution\" style=\"background-color: #800080FF\">absent </span></span></div>"
            ],
            "text/plain": [
              "<IPython.core.display.HTML object>"
            ]
          },
          "metadata": {},
          "output_type": "display_data"
        }
      ],
      "source": [
        "light_model = LightPipeline(model)\n",
        "\n",
        "light_result = light_model.fullAnnotate(text)[0]\n",
        "\n",
        "from sparknlp_display import AssertionVisualizer\n",
        "\n",
        "vis = AssertionVisualizer()\n",
        "\n",
        "vis.set_label_colors({'TEST':'#008080', 'PROBLEM':'#800080'})\n",
        "\n",
        "vis.display(light_result, 'ner_chunk', 'assertion')"
      ]
    },
    {
      "cell_type": "code",
      "execution_count": 10,
      "metadata": {
        "id": "OP0I7ELJ0his"
      },
      "outputs": [],
      "source": [
        "! wget -q\thttps://s3.amazonaws.com/auxdata.johnsnowlabs.com/public/resources/en/pubmed/pubmed_sample_text_small.csv"
      ]
    },
    {
      "cell_type": "code",
      "execution_count": 11,
      "metadata": {
        "colab": {
          "base_uri": "https://localhost:8080/"
        },
        "id": "Z9UyX1Tx-vA0",
        "outputId": "edbf74b8-54a5-473b-b475-cf907293879a"
      },
      "outputs": [
        {
          "name": "stdout",
          "output_type": "stream",
          "text": [
            "+--------------------------------------------------+\n",
            "|                                              text|\n",
            "+--------------------------------------------------+\n",
            "|The human KCNJ9 (Kir 3.3, GIRK3) is a member of...|\n",
            "|BACKGROUND: At present, it is one of the most i...|\n",
            "|OBJECTIVE: To investigate the relationship betw...|\n",
            "|Combined EEG/fMRI recording has been used to lo...|\n",
            "|Kohlschutter syndrome is a rare neurodegenerati...|\n",
            "|Statistical analysis of neuroimages is commonly...|\n",
            "|The synthetic DOX-LNA conjugate was characteriz...|\n",
            "|Our objective was to compare three different me...|\n",
            "|We conducted a phase II study to assess the eff...|\n",
            "|\"\"\"Monomeric sarcosine oxidase (MSOX) is a flav...|\n",
            "|We presented the tachinid fly Exorista japonica...|\n",
            "|The literature dealing with the water conductin...|\n",
            "|A novel approach to synthesize chitosan-O-isopr...|\n",
            "|An HPLC-ESI-MS-MS method has been developed for...|\n",
            "|The localizing and lateralizing values of eye a...|\n",
            "|OBJECTIVE: To evaluate the effectiveness and ac...|\n",
            "|For the construction of new combinatorial libra...|\n",
            "|We report the results of a screen for genetic a...|\n",
            "|Intraparenchymal pericatheter cyst is rarely re...|\n",
            "|It is known that patients with Klinefelter's sy...|\n",
            "+--------------------------------------------------+\n",
            "only showing top 20 rows\n",
            "\n"
          ]
        }
      ],
      "source": [
        "import pyspark.sql.functions as F\n",
        "\n",
        "pubMedDF = spark.read\\\n",
        "                .option(\"header\", \"true\")\\\n",
        "                .csv(\"pubmed_sample_text_small.csv\")\\\n",
        "                \n",
        "pubMedDF.show(truncate=50)"
      ]
    },
    {
      "cell_type": "code",
      "execution_count": 12,
      "metadata": {
        "id": "7HdysGLU-xfP"
      },
      "outputs": [],
      "source": [
        "result = model.transform(pubMedDF.limit(100))"
      ]
    },
    {
      "cell_type": "code",
      "execution_count": 13,
      "metadata": {
        "colab": {
          "base_uri": "https://localhost:8080/"
        },
        "id": "tjsXUCZaNcKb",
        "outputId": "8f431602-1c82-469c-e951-0924d3cf923d"
      },
      "outputs": [
        {
          "name": "stdout",
          "output_type": "stream",
          "text": [
            "+--------------------+--------------------+--------------------+--------------------+--------------------+--------------------+--------------------+--------------------+\n",
            "|                text|            document|            sentence|               token|          embeddings|                 ner|           ner_chunk|           assertion|\n",
            "+--------------------+--------------------+--------------------+--------------------+--------------------+--------------------+--------------------+--------------------+\n",
            "|The human KCNJ9 (...|[{document, 0, 95...|[{document, 0, 12...|[{token, 0, 2, Th...|[{word_embeddings...|[{named_entity, 0...|[{chunk, 48, 106,...|[{assertion, 48, ...|\n",
            "|BACKGROUND: At pr...|[{document, 0, 14...|[{document, 0, 19...|[{token, 0, 9, BA...|[{word_embeddings...|[{named_entity, 0...|[{chunk, 67, 79, ...|[{assertion, 67, ...|\n",
            "|OBJECTIVE: To inv...|[{document, 0, 15...|[{document, 0, 30...|[{token, 0, 8, OB...|[{word_embeddings...|[{named_entity, 0...|[{chunk, 188, 231...|[{assertion, 188,...|\n",
            "|Combined EEG/fMRI...|[{document, 0, 16...|[{document, 0, 16...|[{token, 0, 7, Co...|[{word_embeddings...|[{named_entity, 0...|[{chunk, 0, 26, C...|[{assertion, 0, 2...|\n",
            "|Kohlschutter synd...|[{document, 0, 25...|[{document, 0, 20...|[{token, 0, 11, K...|[{word_embeddings...|[{named_entity, 0...|[{chunk, 0, 20, K...|[{assertion, 0, 2...|\n",
            "|Statistical analy...|[{document, 0, 10...|[{document, 0, 34...|[{token, 0, 10, S...|[{word_embeddings...|[{named_entity, 0...|[{chunk, 0, 34, S...|[{assertion, 0, 3...|\n",
            "|The synthetic DOX...|[{document, 0, 57...|[{document, 0, 10...|[{token, 0, 2, Th...|[{word_embeddings...|[{named_entity, 0...|[{chunk, 0, 30, T...|[{assertion, 0, 3...|\n",
            "|Our objective was...|[{document, 0, 24...|[{document, 0, 19...|[{token, 0, 2, Ou...|[{word_embeddings...|[{named_entity, 0...|[{chunk, 56, 80, ...|[{assertion, 56, ...|\n",
            "|We conducted a ph...|[{document, 0, 14...|[{document, 0, 24...|[{token, 0, 1, We...|[{word_embeddings...|[{named_entity, 0...|[{chunk, 13, 28, ...|[{assertion, 13, ...|\n",
            "|\"\"\"Monomeric sarc...|[{document, 0, 14...|[{document, 0, 14...|[{token, 0, 2, \"\"...|[{word_embeddings...|[{named_entity, 0...|[{chunk, 3, 36, M...|[{assertion, 3, 3...|\n",
            "|We presented the ...|[{document, 0, 12...|[{document, 0, 26...|[{token, 0, 1, We...|[{word_embeddings...|[{named_entity, 0...|[{chunk, 13, 46, ...|[{assertion, 13, ...|\n",
            "|The literature de...|[{document, 0, 16...|[{document, 0, 13...|[{token, 0, 2, Th...|[{word_embeddings...|[{named_entity, 0...|[{chunk, 154, 166...|[{assertion, 154,...|\n",
            "|A novel approach ...|[{document, 0, 64...|[{document, 0, 97...|[{token, 0, 0, A,...|[{word_embeddings...|[{named_entity, 0...|[{chunk, 99, 124,...|[{assertion, 99, ...|\n",
            "|An HPLC-ESI-MS-MS...|[{document, 0, 90...|[{document, 0, 24...|[{token, 0, 1, An...|[{word_embeddings...|[{named_entity, 0...|[{chunk, 0, 23, A...|[{assertion, 0, 2...|\n",
            "|The localizing an...|[{document, 0, 72...|[{document, 0, 12...|[{token, 0, 2, Th...|[{word_embeddings...|[{named_entity, 0...|[{chunk, 50, 70, ...|[{assertion, 50, ...|\n",
            "|OBJECTIVE: To eva...|[{document, 0, 13...|[{document, 0, 43...|[{token, 0, 8, OB...|[{word_embeddings...|[{named_entity, 0...|[{chunk, 154, 186...|[{assertion, 154,...|\n",
            "|For the construct...|[{document, 0, 32...|[{document, 0, 20...|[{token, 0, 2, Fo...|[{word_embeddings...|[{named_entity, 0...|[{chunk, 24, 50, ...|[{assertion, 24, ...|\n",
            "|We report the res...|[{document, 0, 13...|[{document, 0, 38...|[{token, 0, 1, We...|[{word_embeddings...|[{named_entity, 0...|[{chunk, 25, 32, ...|[{assertion, 25, ...|\n",
            "|Intraparenchymal ...|[{document, 0, 10...|[{document, 0, 53...|[{token, 0, 15, I...|[{word_embeddings...|[{named_entity, 0...|[{chunk, 0, 33, I...|[{assertion, 0, 3...|\n",
            "|It is known that ...|[{document, 0, 34...|[{document, 0, 14...|[{token, 0, 1, It...|[{word_embeddings...|[{named_entity, 0...|[{chunk, 31, 52, ...|[{assertion, 31, ...|\n",
            "+--------------------+--------------------+--------------------+--------------------+--------------------+--------------------+--------------------+--------------------+\n",
            "only showing top 20 rows\n",
            "\n"
          ]
        }
      ],
      "source": [
        "result.show()"
      ]
    },
    {
      "cell_type": "code",
      "execution_count": 14,
      "metadata": {
        "colab": {
          "base_uri": "https://localhost:8080/"
        },
        "id": "8OwYh1r6WU5B",
        "outputId": "7d68cc1d-e91a-4d2d-fa21-4600a35b4ae3"
      },
      "outputs": [
        {
          "data": {
            "text/plain": [
              "[Row(result=['The human KCNJ9 (Kir 3.3, GIRK3) is a member of the G-protein-activated inwardly rectifying potassium (GIRK) channel family.', 'Here we describe the genomicorganization of the KCNJ9 locus on chromosome 1q21-23 as a candidate gene forType II diabetes mellitus in the Pima Indian population.', 'The gene spansapproximately 7.6 kb and contains one noncoding and two coding exons separated byapproximately 2.2 and approximately 2.6 kb introns, respectively.', 'We identified14 single nucleotide polymorphisms (SNPs), including one that predicts aVal366Ala substitution, and an 8 base-pair', '(bp) insertion/deletion.', 'Ourexpression studies revealed the presence of the transcript in various humantissues including pancreas, and two major insulin-responsive tissues: fat andskeletal muscle.', 'The characterization of the KCNJ9 gene should facilitate furtherstudies on the function of the KCNJ9 protein and allow evaluation of thepotential role of the locus in Type II diabetes.'])]"
            ]
          },
          "execution_count": 14,
          "metadata": {},
          "output_type": "execute_result"
        }
      ],
      "source": [
        "result.select('sentence.result').take(1)"
      ]
    },
    {
      "cell_type": "code",
      "execution_count": 15,
      "metadata": {
        "colab": {
          "base_uri": "https://localhost:8080/"
        },
        "id": "5uBnSe0--_Tn",
        "outputId": "f988e382-affb-405c-99bf-924855e831b4"
      },
      "outputs": [
        {
          "name": "stdout",
          "output_type": "stream",
          "text": [
            "+-----------------------------------------------------------+-----+---+---------+-------+-----------+\n",
            "|chunk                                                      |begin|end|ner_label|sent_id|assertion  |\n",
            "+-----------------------------------------------------------+-----+---+---------+-------+-----------+\n",
            "|the G-protein-activated inwardly rectifying potassium (GIRK|48   |106|TREATMENT|0      |conditional|\n",
            "|the genomicorganization                                    |142  |164|TREATMENT|1      |present    |\n",
            "|a candidate gene forType II diabetes mellitus              |210  |254|PROBLEM  |1      |present    |\n",
            "|byapproximately                                            |380  |394|TREATMENT|2      |present    |\n",
            "|single nucleotide polymorphisms                            |464  |494|TREATMENT|3      |present    |\n",
            "|aVal366Ala substitution                                    |532  |554|PROBLEM  |3      |present    |\n",
            "|an 8 base-pair                                             |561  |574|PROBLEM  |3      |present    |\n",
            "|insertion/deletion                                         |581  |598|PROBLEM  |4      |present    |\n",
            "|Ourexpression studies                                      |601  |621|TEST     |5      |present    |\n",
            "|the transcript in various humantissues                     |648  |685|PROBLEM  |5      |present    |\n",
            "|fat andskeletal muscle                                     |749  |770|PROBLEM  |5      |possible   |\n",
            "|furtherstudies                                             |830  |843|PROBLEM  |6      |present    |\n",
            "|the KCNJ9 protein                                          |864  |880|TREATMENT|6      |present    |\n",
            "|evaluation                                                 |892  |901|TEST     |6      |possible   |\n",
            "|Type II diabetes                                           |940  |955|PROBLEM  |6      |present    |\n",
            "|the treatment                                              |67   |79 |TREATMENT|0      |present    |\n",
            "|breast cancer                                              |84   |96 |PROBLEM  |0      |present    |\n",
            "|the standard therapy                                       |109  |128|TREATMENT|0      |present    |\n",
            "|anthracyclines                                             |167  |180|TREATMENT|0      |present    |\n",
            "|taxanes                                                    |186  |192|TREATMENT|0      |present    |\n",
            "+-----------------------------------------------------------+-----+---+---------+-------+-----------+\n",
            "only showing top 20 rows\n",
            "\n"
          ]
        }
      ],
      "source": [
        "result.select(F.explode(F.arrays_zip(result.ner_chunk.result,  \n",
        "                                     result.ner_chunk.begin, \n",
        "                                     result.ner_chunk.end, \n",
        "                                     result.ner_chunk.metadata, \n",
        "                                     result.assertion.result)).alias(\"cols\")) \\\n",
        "      .select(F.expr(\"cols['0']\").alias(\"chunk\"),\n",
        "              F.expr(\"cols['1']\").alias(\"begin\"),\n",
        "              F.expr(\"cols['2']\").alias(\"end\"),\n",
        "              F.expr(\"cols['3']['entity']\").alias(\"ner_label\"),\n",
        "              F.expr(\"cols['3']['sentence']\").alias(\"sent_id\"),\n",
        "              F.expr(\"cols['4']\").alias(\"assertion\") ).show(truncate=False)\n"
      ]
    },
    {
      "cell_type": "markdown",
      "metadata": {
        "id": "dYN97Es2be4p"
      },
      "source": [
        "### Pretrained `assertion_dl_radiology` model"
      ]
    },
    {
      "cell_type": "code",
      "execution_count": 16,
      "metadata": {
        "colab": {
          "base_uri": "https://localhost:8080/"
        },
        "id": "YMl2QAeNbe4p",
        "outputId": "d8dc6b1f-d8dc-4559-eed3-99626fbb6038"
      },
      "outputs": [
        {
          "name": "stdout",
          "output_type": "stream",
          "text": [
            "sentence_detector_dl_healthcare download started this may take some time.\n",
            "Approximate size to download 367.3 KB\n",
            "[OK!]\n",
            "embeddings_clinical download started this may take some time.\n",
            "Approximate size to download 1.6 GB\n",
            "[OK!]\n",
            "ner_radiology download started this may take some time.\n",
            "[OK!]\n",
            "assertion_dl_radiology download started this may take some time.\n",
            "[OK!]\n"
          ]
        }
      ],
      "source": [
        "from sparknlp_jsl.annotator import *\n",
        "\n",
        "documentAssembler = DocumentAssembler()\\\n",
        "    .setInputCol(\"text\")\\\n",
        "    .setOutputCol(\"document\")\n",
        "\n",
        "# Sentence Detector annotator, processes various sentences per line\n",
        "sentenceDetector = SentenceDetectorDLModel\\\n",
        "    .pretrained(\"sentence_detector_dl_healthcare\",\"en\",\"clinical/models\") \\\n",
        "    .setInputCols([\"document\"]) \\\n",
        "    .setOutputCol(\"sentence\")\n",
        "\n",
        "# Tokenizer splits words in a relevant format for NLP\n",
        "tokenizer = Tokenizer()\\\n",
        "    .setInputCols([\"sentence\"])\\\n",
        "    .setOutputCol(\"token\")\n",
        "\n",
        "# Clinical word embeddings trained on PubMED dataset\n",
        "word_embeddings = WordEmbeddingsModel.pretrained(\"embeddings_clinical\", \"en\", \"clinical/models\")\\\n",
        "    .setInputCols([\"sentence\", \"token\"])\\\n",
        "    .setOutputCol(\"embeddings\")\n",
        "\n",
        "# NER model for radiology\n",
        "radiology_ner = MedicalNerModel.pretrained(\"ner_radiology\", \"en\", \"clinical/models\") \\\n",
        "    .setInputCols([\"sentence\", \"token\", \"embeddings\"]) \\\n",
        "    .setOutputCol(\"ner\")\\\n",
        "    #.setIncludeAllConfidenceScores(False)\n",
        "\n",
        "ner_converter = NerConverter() \\\n",
        "    .setInputCols([\"sentence\", \"token\", \"ner\"]) \\\n",
        "    .setOutputCol(\"ner_chunk\")\\\n",
        "    .setWhiteList([\"ImagingFindings\"])\n",
        "\n",
        "# Assertion model trained on radiology dataset\n",
        "# coming from sparknlp_jsl.annotator !!\n",
        "\n",
        "radiology_assertion = AssertionDLModel.pretrained(\"assertion_dl_radiology\", \"en\", \"clinical/models\") \\\n",
        "    .setInputCols([\"sentence\", \"ner_chunk\", \"embeddings\"]) \\\n",
        "    .setOutputCol(\"assertion\")\n",
        "\n",
        "nlpPipeline = Pipeline(stages=[\n",
        "    documentAssembler, \n",
        "    sentenceDetector,\n",
        "    tokenizer,\n",
        "    word_embeddings,\n",
        "    radiology_ner,\n",
        "    ner_converter,\n",
        "    radiology_assertion\n",
        "    ])\n",
        "\n",
        "empty_data = spark.createDataFrame([[\"\"]]).toDF(\"text\")\n",
        "radiologyAssertion_model = nlpPipeline.fit(empty_data)"
      ]
    },
    {
      "cell_type": "code",
      "execution_count": 17,
      "metadata": {
        "id": "Ehm7WwJrbe4r"
      },
      "outputs": [],
      "source": [
        "# A sample text from a radiology report\n",
        "\n",
        "text = \"\"\"No right-sided pleural effusion or pneumothorax is definitively seen and there are mildly displaced fractures of the left lateral 8th and likely 9th ribs.\"\"\""
      ]
    },
    {
      "cell_type": "code",
      "execution_count": 18,
      "metadata": {
        "id": "_1iCxtKjbe4s"
      },
      "outputs": [],
      "source": [
        "data = spark.createDataFrame([[text]]).toDF(\"text\")"
      ]
    },
    {
      "cell_type": "code",
      "execution_count": 19,
      "metadata": {
        "id": "lSpEvzDObe4s"
      },
      "outputs": [],
      "source": [
        "result = radiologyAssertion_model.transform(data)"
      ]
    },
    {
      "cell_type": "code",
      "execution_count": 20,
      "metadata": {
        "colab": {
          "base_uri": "https://localhost:8080/"
        },
        "id": "fGxRCsusbe4s",
        "outputId": "8e9b5f40-5721-450b-c441-8c778c381227"
      },
      "outputs": [
        {
          "name": "stdout",
          "output_type": "stream",
          "text": [
            "+-------------------+---------------+-------+---------+\n",
            "|chunk              |ner_label      |sent_id|assertion|\n",
            "+-------------------+---------------+-------+---------+\n",
            "|effusion           |ImagingFindings|0      |Negative |\n",
            "|pneumothorax       |ImagingFindings|0      |Negative |\n",
            "|displaced fractures|ImagingFindings|0      |Confirmed|\n",
            "+-------------------+---------------+-------+---------+\n",
            "\n"
          ]
        }
      ],
      "source": [
        "result.select(F.explode(F.arrays_zip(result.ner_chunk.result, \n",
        "                                     result.ner_chunk.metadata, \n",
        "                                     result.assertion.result)).alias(\"cols\")) \\\n",
        "      .select(F.expr(\"cols['0']\").alias(\"chunk\"),\n",
        "              F.expr(\"cols['1']['entity']\").alias(\"ner_label\"),\n",
        "              F.expr(\"cols['1']['sentence']\").alias(\"sent_id\"),\n",
        "              F.expr(\"cols['2']\").alias(\"assertion\")).show(truncate=False)"
      ]
    },
    {
      "cell_type": "markdown",
      "metadata": {
        "id": "0vWIDpk50QfG"
      },
      "source": [
        "## Writing a generic Assertion + NER function"
      ]
    },
    {
      "cell_type": "code",
      "execution_count": 21,
      "metadata": {
        "id": "ltGPQYr60F6G"
      },
      "outputs": [],
      "source": [
        "from pyspark.sql.functions import monotonically_increasing_id\n",
        "\n",
        "\n",
        "def get_base_pipeline (embeddings = 'embeddings_clinical'):\n",
        "\n",
        "    documentAssembler = DocumentAssembler()\\\n",
        "        .setInputCol(\"text\")\\\n",
        "        .setOutputCol(\"document\")\n",
        "\n",
        "  # Sentence Detector annotator, processes various sentences per line\n",
        "    sentenceDetector = SentenceDetector()\\\n",
        "        .setInputCols([\"document\"])\\\n",
        "        .setOutputCol(\"sentence\")\n",
        "\n",
        "  # Tokenizer splits words in a relevant format for NLP\n",
        "    tokenizer = Tokenizer()\\\n",
        "        .setInputCols([\"sentence\"])\\\n",
        "        .setOutputCol(\"token\")\n",
        "\n",
        "  # Clinical word embeddings trained on PubMED dataset\n",
        "    word_embeddings = WordEmbeddingsModel.pretrained(embeddings, \"en\", \"clinical/models\")\\\n",
        "        .setInputCols([\"sentence\", \"token\"])\\\n",
        "        .setOutputCol(\"embeddings\")\n",
        "\n",
        "    base_pipeline = Pipeline(stages=[\n",
        "                        documentAssembler,\n",
        "                        sentenceDetector,\n",
        "                        tokenizer,\n",
        "                        word_embeddings])\n",
        "\n",
        "    return base_pipeline\n",
        "\n",
        "\n",
        "\n",
        "def get_clinical_assertion (embeddings, spark_df, nrows = 100, model_name = 'ner_clinical'):\n",
        "\n",
        "  # NER model trained on i2b2 (sampled from MIMIC) dataset\n",
        "    loaded_ner_model = MedicalNerModel.pretrained(model_name, \"en\", \"clinical/models\") \\\n",
        "        .setInputCols([\"sentence\", \"token\", \"embeddings\"]) \\\n",
        "        .setOutputCol(\"ner\")\n",
        "\n",
        "    ner_converter = NerConverter() \\\n",
        "        .setInputCols([\"sentence\", \"token\", \"ner\"]) \\\n",
        "        .setOutputCol(\"ner_chunk\")\n",
        "\n",
        "  # Assertion model trained on i2b2 (sampled from MIMIC) dataset\n",
        "  # coming from sparknlp_jsl.annotator !!\n",
        "    clinical_assertion = AssertionDLModel.pretrained(\"assertion_dl\", \"en\", \"clinical/models\") \\\n",
        "        .setInputCols([\"sentence\", \"ner_chunk\", \"embeddings\"]) \\\n",
        "        .setOutputCol(\"assertion\")\n",
        "      \n",
        "\n",
        "    base_model = get_base_pipeline (embeddings)\n",
        "\n",
        "    nlpPipeline = Pipeline(stages=[\n",
        "        base_model,\n",
        "        loaded_ner_model,\n",
        "        ner_converter,\n",
        "        clinical_assertion])\n",
        "\n",
        "    empty_data = spark.createDataFrame([[\"\"]]).toDF(\"text\")\n",
        "\n",
        "    model = nlpPipeline.fit(empty_data)\n",
        "\n",
        "    result = model.transform(spark_df.limit(nrows))\n",
        "\n",
        "    result = result.withColumn(\"id\", monotonically_increasing_id())\n",
        "\n",
        "    result_df = result.select(F.explode(F.arrays_zip(result.ner_chunk.result, \n",
        "                                                     result.ner_chunk.metadata, \n",
        "                                                     result.assertion.result)).alias(\"cols\")) \\\n",
        "                      .select(F.expr(\"cols['0']\").alias(\"chunk\"),\n",
        "                              F.expr(\"cols['1']['entity']\").alias(\"ner_label\"),\n",
        "                              F.expr(\"cols['2']\").alias(\"assertion\"))\\\n",
        "                      .filter(\"ner_label!='O'\")\n",
        "\n",
        "    return result_df"
      ]
    },
    {
      "cell_type": "code",
      "execution_count": 22,
      "metadata": {
        "colab": {
          "base_uri": "https://localhost:8080/"
        },
        "id": "V81zaAe13qLU",
        "outputId": "5acc37ed-815f-4a2a-f046-38ed235779ed"
      },
      "outputs": [
        {
          "name": "stdout",
          "output_type": "stream",
          "text": [
            "ner_clinical_large download started this may take some time.\n",
            "[OK!]\n",
            "assertion_dl download started this may take some time.\n",
            "[OK!]\n",
            "embeddings_clinical download started this may take some time.\n",
            "Approximate size to download 1.6 GB\n",
            "[OK!]\n",
            "+--------------------------------------------------+---------+-----------+\n",
            "|                                             chunk|ner_label|  assertion|\n",
            "+--------------------------------------------------+---------+-----------+\n",
            "|the G-protein-activated inwardly rectifying pot...|TREATMENT|conditional|\n",
            "|                           the genomicorganization|TREATMENT|    present|\n",
            "|     a candidate gene forType II diabetes mellitus|  PROBLEM|    present|\n",
            "|                                   byapproximately|TREATMENT|    present|\n",
            "|                   single nucleotide polymorphisms|TREATMENT|    present|\n",
            "|                           aVal366Ala substitution|  PROBLEM|    present|\n",
            "|                                    an 8 base-pair|  PROBLEM|    present|\n",
            "|                                insertion/deletion|  PROBLEM|    present|\n",
            "|                             Ourexpression studies|     TEST|    present|\n",
            "|            the transcript in various humantissues|  PROBLEM|    present|\n",
            "|                            fat andskeletal muscle|  PROBLEM|   possible|\n",
            "|                                    furtherstudies|  PROBLEM|    present|\n",
            "|                                 the KCNJ9 protein|TREATMENT|    present|\n",
            "|                                        evaluation|     TEST|   possible|\n",
            "|                                  Type II diabetes|  PROBLEM|    present|\n",
            "|                                     the treatment|TREATMENT|    present|\n",
            "|                                     breast cancer|  PROBLEM|    present|\n",
            "|                              the standard therapy|TREATMENT|    present|\n",
            "|                                    anthracyclines|TREATMENT|    present|\n",
            "|                                           taxanes|TREATMENT|    present|\n",
            "|          the usefulnessof vinorelbine monotherapy|TREATMENT|    present|\n",
            "|advanced or recurrent breast cancerafter standa...|TREATMENT|   possible|\n",
            "|                                       vinorelbine|TREATMENT|    present|\n",
            "|                                    anthracyclines|TREATMENT|    present|\n",
            "|                                           taxanes|TREATMENT|    present|\n",
            "|                                    Vinorelbinewas|TREATMENT|     absent|\n",
            "|                                  tumorprogression|TREATMENT|    present|\n",
            "|                                               MR)|     TEST|     absent|\n",
            "|                                            change|  PROBLEM|     absent|\n",
            "|                                               NC)|     TEST|     absent|\n",
            "+--------------------------------------------------+---------+-----------+\n",
            "only showing top 30 rows\n",
            "\n"
          ]
        }
      ],
      "source": [
        "embeddings = 'embeddings_clinical'\n",
        "\n",
        "model_name = 'ner_clinical_large'\n",
        "\n",
        "nrows = 100\n",
        "\n",
        "ner_df = get_clinical_assertion (embeddings, pubMedDF, nrows, model_name)\n",
        "\n",
        "ner_df.show(30,truncate=50)"
      ]
    },
    {
      "cell_type": "code",
      "execution_count": 23,
      "metadata": {
        "colab": {
          "base_uri": "https://localhost:8080/"
        },
        "id": "LmLPlfCw5hh-",
        "outputId": "b0a1b099-c0e0-4de6-fa07-2b2658a6d99f"
      },
      "outputs": [
        {
          "name": "stdout",
          "output_type": "stream",
          "text": [
            "ner_posology download started this may take some time.\n",
            "[OK!]\n",
            "assertion_dl download started this may take some time.\n",
            "[OK!]\n",
            "embeddings_clinical download started this may take some time.\n",
            "Approximate size to download 1.6 GB\n",
            "[OK!]\n",
            "+----------------+---------+---------+\n",
            "|           chunk|ner_label|assertion|\n",
            "+----------------+---------+---------+\n",
            "|  anthracyclines|     DRUG|  present|\n",
            "|         taxanes|     DRUG|  present|\n",
            "|     vinorelbine|     DRUG|  present|\n",
            "|     vinorelbine|     DRUG|  present|\n",
            "|  anthracyclines|     DRUG|  present|\n",
            "|         taxanes|     DRUG|  present|\n",
            "|  Vinorelbinewas|     DRUG|   absent|\n",
            "|       25 mg/m(2| STRENGTH|  present|\n",
            "|   intravenously|    ROUTE|   absent|\n",
            "|         on days|FREQUENCY|  present|\n",
            "| thatvinorelbine|     DRUG|  present|\n",
            "|  anthracyclines|     DRUG|  present|\n",
            "|         taxanes|     DRUG|  present|\n",
            "|             DOX|     DRUG|   absent|\n",
            "|    trandolapril|     DRUG| possible|\n",
            "|        losartan|     DRUG|  present|\n",
            "|          3-week| DURATION|   absent|\n",
            "|         placebo|     DRUG|  present|\n",
            "|2 mgtrandolapril| STRENGTH|   absent|\n",
            "|           50 mg| STRENGTH| possible|\n",
            "+----------------+---------+---------+\n",
            "only showing top 20 rows\n",
            "\n"
          ]
        }
      ],
      "source": [
        "embeddings = 'embeddings_clinical'\n",
        "\n",
        "model_name = 'ner_posology'\n",
        "\n",
        "nrows = 100\n",
        "\n",
        "ner_df = get_clinical_assertion (embeddings, pubMedDF, nrows, model_name)\n",
        "\n",
        "ner_df.show()"
      ]
    },
    {
      "cell_type": "code",
      "execution_count": 24,
      "metadata": {
        "colab": {
          "base_uri": "https://localhost:8080/"
        },
        "id": "cQ9xeS3kwClE",
        "outputId": "aad59f2f-0059-437d-b830-4c7eda9ea1fc"
      },
      "outputs": [
        {
          "name": "stdout",
          "output_type": "stream",
          "text": [
            "ner_posology_greedy download started this may take some time.\n",
            "[OK!]\n",
            "assertion_dl download started this may take some time.\n",
            "[OK!]\n",
            "embeddings_clinical download started this may take some time.\n",
            "Approximate size to download 1.6 GB\n",
            "[OK!]\n",
            "+----------------+---------+---------+\n",
            "|           chunk|ner_label|assertion|\n",
            "+----------------+---------+---------+\n",
            "|capsule of Advil|     DRUG|   absent|\n",
            "+----------------+---------+---------+\n",
            "\n"
          ]
        }
      ],
      "source": [
        "embeddings = 'embeddings_clinical'\n",
        "\n",
        "model_name = 'ner_posology_greedy'\n",
        "\n",
        "entry_data = spark.createDataFrame([[\"The patient did not take a capsule of Advil.\"]]).toDF(\"text\")\n",
        "\n",
        "ner_df = get_clinical_assertion (embeddings, entry_data, nrows, model_name)\n",
        "\n",
        "ner_df.show()"
      ]
    },
    {
      "cell_type": "code",
      "execution_count": 25,
      "metadata": {
        "colab": {
          "base_uri": "https://localhost:8080/"
        },
        "id": "djV_FKNtYcoP",
        "outputId": "16e41fd2-33fa-40ba-b1ab-ed316f81c9fc"
      },
      "outputs": [
        {
          "name": "stdout",
          "output_type": "stream",
          "text": [
            "ner_clinical download started this may take some time.\n",
            "[OK!]\n",
            "assertion_dl download started this may take some time.\n",
            "[OK!]\n",
            "embeddings_clinical download started this may take some time.\n",
            "Approximate size to download 1.6 GB\n",
            "[OK!]\n",
            "+-----+---------+---------+\n",
            "|chunk|ner_label|assertion|\n",
            "+-----+---------+---------+\n",
            "|fever|  PROBLEM|   absent|\n",
            "+-----+---------+---------+\n",
            "\n"
          ]
        }
      ],
      "source": [
        "embeddings = 'embeddings_clinical'\n",
        "\n",
        "model_name = 'ner_clinical'\n",
        "\n",
        "entry_data = spark.createDataFrame([[\"The patient has no fever\"]]).toDF(\"text\")\n",
        "\n",
        "ner_df = get_clinical_assertion (embeddings, entry_data, nrows, model_name)\n",
        "\n",
        "ner_df.show()"
      ]
    },
    {
      "cell_type": "code",
      "execution_count": 26,
      "metadata": {
        "id": "P87ScBcJqcNs"
      },
      "outputs": [],
      "source": [
        "import pandas as pd\n",
        "\n",
        "def get_clinical_assertion_light (light_model, text):\n",
        "\n",
        "  light_result = light_model.fullAnnotate(text)[0]\n",
        "\n",
        "  chunks=[]\n",
        "  entities=[]\n",
        "  status=[]\n",
        "\n",
        "  for n,m in zip(light_result['ner_chunk'],light_result['assertion']):\n",
        "      \n",
        "      chunks.append(n.result)\n",
        "      entities.append(n.metadata['entity']) \n",
        "      status.append(m.result)\n",
        "          \n",
        "  df = pd.DataFrame({'chunks':chunks, 'entities':entities, 'assertion':status})\n",
        "\n",
        "  return df"
      ]
    },
    {
      "cell_type": "code",
      "execution_count": 27,
      "metadata": {
        "colab": {
          "base_uri": "https://localhost:8080/",
          "height": 363
        },
        "id": "GqKH9Mw98z4x",
        "outputId": "d4f1849a-54e2-4b08-a34d-f343491bda60"
      },
      "outputs": [
        {
          "data": {
            "text/html": [
              "\n",
              "  <div id=\"df-ed972d49-118e-4636-88db-f5e6c77ab39d\">\n",
              "    <div class=\"colab-df-container\">\n",
              "      <div>\n",
              "<style scoped>\n",
              "    .dataframe tbody tr th:only-of-type {\n",
              "        vertical-align: middle;\n",
              "    }\n",
              "\n",
              "    .dataframe tbody tr th {\n",
              "        vertical-align: top;\n",
              "    }\n",
              "\n",
              "    .dataframe thead th {\n",
              "        text-align: right;\n",
              "    }\n",
              "</style>\n",
              "<table border=\"1\" class=\"dataframe\">\n",
              "  <thead>\n",
              "    <tr style=\"text-align: right;\">\n",
              "      <th></th>\n",
              "      <th>entities_ner_chunk</th>\n",
              "      <th>entities_ner_chunk_class</th>\n",
              "      <th>assertion</th>\n",
              "    </tr>\n",
              "  </thead>\n",
              "  <tbody>\n",
              "    <tr>\n",
              "      <th>0</th>\n",
              "      <td>severe fever</td>\n",
              "      <td>PROBLEM</td>\n",
              "      <td>present</td>\n",
              "    </tr>\n",
              "    <tr>\n",
              "      <th>1</th>\n",
              "      <td>sore throat</td>\n",
              "      <td>PROBLEM</td>\n",
              "      <td>present</td>\n",
              "    </tr>\n",
              "    <tr>\n",
              "      <th>2</th>\n",
              "      <td>stomach pain</td>\n",
              "      <td>PROBLEM</td>\n",
              "      <td>absent</td>\n",
              "    </tr>\n",
              "    <tr>\n",
              "      <th>3</th>\n",
              "      <td>an epidural</td>\n",
              "      <td>TREATMENT</td>\n",
              "      <td>present</td>\n",
              "    </tr>\n",
              "    <tr>\n",
              "      <th>4</th>\n",
              "      <td>PCA</td>\n",
              "      <td>TREATMENT</td>\n",
              "      <td>present</td>\n",
              "    </tr>\n",
              "    <tr>\n",
              "      <th>5</th>\n",
              "      <td>pain control</td>\n",
              "      <td>PROBLEM</td>\n",
              "      <td>present</td>\n",
              "    </tr>\n",
              "    <tr>\n",
              "      <th>6</th>\n",
              "      <td>short of breath</td>\n",
              "      <td>PROBLEM</td>\n",
              "      <td>conditional</td>\n",
              "    </tr>\n",
              "    <tr>\n",
              "      <th>7</th>\n",
              "      <td>CT</td>\n",
              "      <td>TEST</td>\n",
              "      <td>present</td>\n",
              "    </tr>\n",
              "    <tr>\n",
              "      <th>8</th>\n",
              "      <td>lung tumor</td>\n",
              "      <td>PROBLEM</td>\n",
              "      <td>present</td>\n",
              "    </tr>\n",
              "    <tr>\n",
              "      <th>9</th>\n",
              "      <td>Alzheimer</td>\n",
              "      <td>PROBLEM</td>\n",
              "      <td>associated_with_someone_else</td>\n",
              "    </tr>\n",
              "  </tbody>\n",
              "</table>\n",
              "</div>\n",
              "      <button class=\"colab-df-convert\" onclick=\"convertToInteractive('df-ed972d49-118e-4636-88db-f5e6c77ab39d')\"\n",
              "              title=\"Convert this dataframe to an interactive table.\"\n",
              "              style=\"display:none;\">\n",
              "        \n",
              "  <svg xmlns=\"http://www.w3.org/2000/svg\" height=\"24px\"viewBox=\"0 0 24 24\"\n",
              "       width=\"24px\">\n",
              "    <path d=\"M0 0h24v24H0V0z\" fill=\"none\"/>\n",
              "    <path d=\"M18.56 5.44l.94 2.06.94-2.06 2.06-.94-2.06-.94-.94-2.06-.94 2.06-2.06.94zm-11 1L8.5 8.5l.94-2.06 2.06-.94-2.06-.94L8.5 2.5l-.94 2.06-2.06.94zm10 10l.94 2.06.94-2.06 2.06-.94-2.06-.94-.94-2.06-.94 2.06-2.06.94z\"/><path d=\"M17.41 7.96l-1.37-1.37c-.4-.4-.92-.59-1.43-.59-.52 0-1.04.2-1.43.59L10.3 9.45l-7.72 7.72c-.78.78-.78 2.05 0 2.83L4 21.41c.39.39.9.59 1.41.59.51 0 1.02-.2 1.41-.59l7.78-7.78 2.81-2.81c.8-.78.8-2.07 0-2.86zM5.41 20L4 18.59l7.72-7.72 1.47 1.35L5.41 20z\"/>\n",
              "  </svg>\n",
              "      </button>\n",
              "      \n",
              "  <style>\n",
              "    .colab-df-container {\n",
              "      display:flex;\n",
              "      flex-wrap:wrap;\n",
              "      gap: 12px;\n",
              "    }\n",
              "\n",
              "    .colab-df-convert {\n",
              "      background-color: #E8F0FE;\n",
              "      border: none;\n",
              "      border-radius: 50%;\n",
              "      cursor: pointer;\n",
              "      display: none;\n",
              "      fill: #1967D2;\n",
              "      height: 32px;\n",
              "      padding: 0 0 0 0;\n",
              "      width: 32px;\n",
              "    }\n",
              "\n",
              "    .colab-df-convert:hover {\n",
              "      background-color: #E2EBFA;\n",
              "      box-shadow: 0px 1px 2px rgba(60, 64, 67, 0.3), 0px 1px 3px 1px rgba(60, 64, 67, 0.15);\n",
              "      fill: #174EA6;\n",
              "    }\n",
              "\n",
              "    [theme=dark] .colab-df-convert {\n",
              "      background-color: #3B4455;\n",
              "      fill: #D2E3FC;\n",
              "    }\n",
              "\n",
              "    [theme=dark] .colab-df-convert:hover {\n",
              "      background-color: #434B5C;\n",
              "      box-shadow: 0px 1px 3px 1px rgba(0, 0, 0, 0.15);\n",
              "      filter: drop-shadow(0px 1px 2px rgba(0, 0, 0, 0.3));\n",
              "      fill: #FFFFFF;\n",
              "    }\n",
              "  </style>\n",
              "\n",
              "      <script>\n",
              "        const buttonEl =\n",
              "          document.querySelector('#df-ed972d49-118e-4636-88db-f5e6c77ab39d button.colab-df-convert');\n",
              "        buttonEl.style.display =\n",
              "          google.colab.kernel.accessAllowed ? 'block' : 'none';\n",
              "\n",
              "        async function convertToInteractive(key) {\n",
              "          const element = document.querySelector('#df-ed972d49-118e-4636-88db-f5e6c77ab39d');\n",
              "          const dataTable =\n",
              "            await google.colab.kernel.invokeFunction('convertToInteractive',\n",
              "                                                     [key], {});\n",
              "          if (!dataTable) return;\n",
              "\n",
              "          const docLinkHtml = 'Like what you see? Visit the ' +\n",
              "            '<a target=\"_blank\" href=https://colab.research.google.com/notebooks/data_table.ipynb>data table notebook</a>'\n",
              "            + ' to learn more about interactive tables.';\n",
              "          element.innerHTML = '';\n",
              "          dataTable['output_type'] = 'display_data';\n",
              "          await google.colab.output.renderOutput(dataTable, element);\n",
              "          const docLink = document.createElement('div');\n",
              "          docLink.innerHTML = docLinkHtml;\n",
              "          element.appendChild(docLink);\n",
              "        }\n",
              "      </script>\n",
              "    </div>\n",
              "  </div>\n",
              "  "
            ],
            "text/plain": [
              "  entities_ner_chunk entities_ner_chunk_class                     assertion\n",
              "0       severe fever                  PROBLEM                       present\n",
              "1        sore throat                  PROBLEM                       present\n",
              "2       stomach pain                  PROBLEM                        absent\n",
              "3        an epidural                TREATMENT                       present\n",
              "4                PCA                TREATMENT                       present\n",
              "5       pain control                  PROBLEM                       present\n",
              "6    short of breath                  PROBLEM                   conditional\n",
              "7                 CT                     TEST                       present\n",
              "8         lung tumor                  PROBLEM                       present\n",
              "9          Alzheimer                  PROBLEM  associated_with_someone_else"
            ]
          },
          "execution_count": 27,
          "metadata": {},
          "output_type": "execute_result"
        }
      ],
      "source": [
        "clinical_text = \"\"\"\n",
        "Patient with severe fever and sore throat. \n",
        "He shows no stomach pain and he maintained on an epidural and PCA for pain control.\n",
        "He also became short of breath with climbing a flight of stairs.\n",
        "After CT, lung tumor located at the right lower lobe. Father with Alzheimer.\n",
        "\"\"\"\n",
        "\n",
        "light_model = LightPipeline(model)\n",
        "\n",
        "# get_clinical_assertion_light (light_model, clinical_text)\n",
        "\n",
        "cols = [\n",
        "     'entities_ner_chunk',\n",
        "     'entities_ner_chunk_class', \n",
        "     'assertion',]\n",
        "     \n",
        "df = nlu.to_pretty_df(light_model,clinical_text, output_level='chunk')[cols]\n",
        "df"
      ]
    },
    {
      "cell_type": "markdown",
      "metadata": {
        "id": "qVeR4zew_urR"
      },
      "source": [
        "## Assertion with BioNLP (Cancer Genetics) NER"
      ]
    },
    {
      "cell_type": "code",
      "execution_count": 28,
      "metadata": {
        "colab": {
          "base_uri": "https://localhost:8080/"
        },
        "id": "y1Ffv9qT_AYV",
        "outputId": "b43f177d-98e7-4f12-c982-bb09de6f0dff"
      },
      "outputs": [
        {
          "name": "stdout",
          "output_type": "stream",
          "text": [
            "ner_bionlp download started this may take some time.\n",
            "[OK!]\n",
            "assertion_dl download started this may take some time.\n",
            "[OK!]\n",
            "embeddings_clinical download started this may take some time.\n",
            "Approximate size to download 1.6 GB\n",
            "[OK!]\n",
            "+----------------------+--------------------+-----------+\n",
            "|chunk                 |ner_label           |assertion  |\n",
            "+----------------------+--------------------+-----------+\n",
            "|human                 |Organism            |present    |\n",
            "|Kir 3.3               |Gene_or_gene_product|present    |\n",
            "|GIRK3                 |Gene_or_gene_product|present    |\n",
            "|potassium             |Simple_chemical     |conditional|\n",
            "|GIRK                  |Gene_or_gene_product|conditional|\n",
            "|chromosome 1q21-23    |Cellular_component  |present    |\n",
            "|pancreas              |Organ               |present    |\n",
            "|tissues               |Tissue              |possible   |\n",
            "|fat andskeletal muscle|Tissue              |possible   |\n",
            "|KCNJ9                 |Gene_or_gene_product|present    |\n",
            "|Type II               |Gene_or_gene_product|present    |\n",
            "|breast cancer         |Cancer              |present    |\n",
            "|patients              |Organism            |present    |\n",
            "|anthracyclines        |Simple_chemical     |present    |\n",
            "|taxanes               |Simple_chemical     |present    |\n",
            "|vinorelbine           |Simple_chemical     |present    |\n",
            "|patients              |Organism            |present    |\n",
            "|breast                |Cancer              |present    |\n",
            "|vinorelbine inpatients|Simple_chemical     |present    |\n",
            "|anthracyclines        |Simple_chemical     |present    |\n",
            "+----------------------+--------------------+-----------+\n",
            "only showing top 20 rows\n",
            "\n"
          ]
        }
      ],
      "source": [
        "embeddings = 'embeddings_clinical'\n",
        "\n",
        "model_name = 'ner_bionlp'\n",
        "\n",
        "nrows = 100\n",
        "\n",
        "ner_df = get_clinical_assertion (embeddings, pubMedDF, nrows, model_name)\n",
        "\n",
        "ner_df.show(truncate = False)"
      ]
    },
    {
      "cell_type": "markdown",
      "metadata": {
        "id": "jECAdcYGcJJT"
      },
      "source": [
        "# Assertion Filterer\n",
        "AssertionFilterer will allow you to filter out the named entities by the list of acceptable assertion statuses. This annotator would be quite handy if you want to set a white list for the acceptable assertion statuses like present or conditional; and do not want absent conditions get out of your pipeline."
      ]
    },
    {
      "cell_type": "code",
      "execution_count": 29,
      "metadata": {
        "colab": {
          "base_uri": "https://localhost:8080/"
        },
        "id": "c8xRF4yScwP3",
        "outputId": "c6695d5a-859c-4ef4-e0ff-595b81bc4892"
      },
      "outputs": [
        {
          "name": "stdout",
          "output_type": "stream",
          "text": [
            "ner_clinical download started this may take some time.\n",
            "[OK!]\n",
            "assertion_dl download started this may take some time.\n",
            "[OK!]\n"
          ]
        }
      ],
      "source": [
        "clinical_ner = MedicalNerModel.pretrained(\"ner_clinical\", \"en\", \"clinical/models\") \\\n",
        "    .setInputCols([\"sentence\", \"token\", \"embeddings\"]) \\\n",
        "    .setOutputCol(\"ner\")\\\n",
        "    #.setIncludeAllConfidenceScores(False)\n",
        "\n",
        "ner_converter = NerConverter() \\\n",
        "    .setInputCols([\"sentence\", \"token\", \"ner\"]) \\\n",
        "    .setOutputCol(\"ner_chunk\")\n",
        "\n",
        "clinical_assertion = AssertionDLModel.pretrained(\"assertion_dl\", \"en\", \"clinical/models\") \\\n",
        "    .setInputCols([\"sentence\", \"ner_chunk\", \"embeddings\"]) \\\n",
        "    .setOutputCol(\"assertion\")\n",
        "\n",
        "assertion_filterer = AssertionFilterer()\\\n",
        "    .setInputCols(\"sentence\",\"ner_chunk\",\"assertion\")\\\n",
        "    .setOutputCol(\"assertion_filtered\")\\\n",
        "    .setWhiteList([\"present\"])\n",
        "\n",
        "nlpPipeline = Pipeline(stages=[\n",
        "      documentAssembler, \n",
        "      sentenceDetector,\n",
        "      tokenizer,\n",
        "      word_embeddings,\n",
        "      clinical_ner,\n",
        "      ner_converter,\n",
        "      clinical_assertion,\n",
        "      assertion_filterer\n",
        "    ])\n",
        "\n",
        "empty_data = spark.createDataFrame([[\"\"]]).toDF(\"text\")\n",
        "assertionFilter_model = nlpPipeline.fit(empty_data)"
      ]
    },
    {
      "cell_type": "code",
      "execution_count": 30,
      "metadata": {
        "colab": {
          "base_uri": "https://localhost:8080/"
        },
        "id": "KE6Qt20Sfqc-",
        "outputId": "d1b8859f-1d4a-419e-8c9d-a16fd6dfea96"
      },
      "outputs": [
        {
          "data": {
            "text/plain": [
              "dict_keys(['assertion_filtered', 'document', 'ner_chunk', 'assertion', 'token', 'ner', 'embeddings', 'sentence'])"
            ]
          },
          "execution_count": 30,
          "metadata": {},
          "output_type": "execute_result"
        }
      ],
      "source": [
        "text = 'Patient has a headache for the last 2 weeks, needs to get a head CT, and appears anxious when she walks fast. Alopecia noted. She denies pain.'\n",
        "\n",
        "light_model = LightPipeline(assertionFilter_model)\n",
        "light_result = light_model.annotate(text)\n",
        "\n",
        "light_result.keys()"
      ]
    },
    {
      "cell_type": "code",
      "execution_count": 31,
      "metadata": {
        "colab": {
          "base_uri": "https://localhost:8080/"
        },
        "id": "3gJfCLMHk0MV",
        "outputId": "784ca992-2ef9-4e43-f787-fc1978f3868f"
      },
      "outputs": [
        {
          "data": {
            "text/plain": [
              "[('a headache', 'present'),\n",
              " ('a head CT', 'present'),\n",
              " ('anxious', 'present'),\n",
              " ('fast', 'present'),\n",
              " ('Alopecia', 'present'),\n",
              " ('pain', 'absent')]"
            ]
          },
          "execution_count": 31,
          "metadata": {},
          "output_type": "execute_result"
        }
      ],
      "source": [
        "list(zip(light_result['ner_chunk'], light_result['assertion']))"
      ]
    },
    {
      "cell_type": "code",
      "execution_count": 32,
      "metadata": {
        "colab": {
          "base_uri": "https://localhost:8080/"
        },
        "id": "XjuVg_4N15y2",
        "outputId": "096c0528-07af-4497-90a9-235305cad6e0"
      },
      "outputs": [
        {
          "data": {
            "text/plain": [
              "['present']"
            ]
          },
          "execution_count": 32,
          "metadata": {},
          "output_type": "execute_result"
        }
      ],
      "source": [
        "assertion_filterer.getWhiteList()"
      ]
    },
    {
      "cell_type": "code",
      "execution_count": 33,
      "metadata": {
        "colab": {
          "base_uri": "https://localhost:8080/"
        },
        "id": "rpWfTJbsk7tp",
        "outputId": "9a39aa9b-459c-4cf7-e62f-2c9706daf284"
      },
      "outputs": [
        {
          "data": {
            "text/plain": [
              "['a headache', 'a head CT', 'anxious', 'fast', 'Alopecia']"
            ]
          },
          "execution_count": 33,
          "metadata": {},
          "output_type": "execute_result"
        }
      ],
      "source": [
        "light_result['assertion_filtered']"
      ]
    },
    {
      "cell_type": "markdown",
      "metadata": {
        "id": "JjfUo0aTKFEL"
      },
      "source": [
        "# Train a custom Assertion Model"
      ]
    },
    {
      "cell_type": "code",
      "execution_count": 34,
      "metadata": {
        "id": "QPFTJxtlIKQT"
      },
      "outputs": [],
      "source": [
        "!wget -q https://raw.githubusercontent.com/JohnSnowLabs/spark-nlp-workshop/master/tutorials/Certification_Trainings/Healthcare/data/i2b2_assertion_sample_short.csv"
      ]
    },
    {
      "cell_type": "code",
      "execution_count": 35,
      "metadata": {
        "id": "llRofRtgLF7S"
      },
      "outputs": [],
      "source": [
        "import pandas as pd"
      ]
    },
    {
      "cell_type": "code",
      "execution_count": 36,
      "metadata": {
        "id": "hRFW3nyALHx0"
      },
      "outputs": [],
      "source": [
        "assertion_df = spark.read.option(\"header\", True).option(\"inferSchema\", \"True\").csv(\"i2b2_assertion_sample_short.csv\")"
      ]
    },
    {
      "cell_type": "code",
      "execution_count": 37,
      "metadata": {
        "colab": {
          "base_uri": "https://localhost:8080/"
        },
        "id": "TQn7bJZtL9uX",
        "outputId": "528687de-0ea8-4a4c-85b2-d09415132524"
      },
      "outputs": [
        {
          "name": "stdout",
          "output_type": "stream",
          "text": [
            "+-------------------------------------------------+-------------------+-------+-----+---+\n",
            "|                                             text|             target|  label|start|end|\n",
            "+-------------------------------------------------+-------------------+-------+-----+---+\n",
            "|She has no history of liver disease , hepatitis .|      liver disease| absent|    5|  6|\n",
            "|                         1. Undesired fertility .|undesired fertility|present|    1|  2|\n",
            "|                            3) STATUS POST FALL .|               fall|present|    3|  3|\n",
            "+-------------------------------------------------+-------------------+-------+-----+---+\n",
            "only showing top 3 rows\n",
            "\n"
          ]
        }
      ],
      "source": [
        "assertion_df.show(3, truncate=100)"
      ]
    },
    {
      "cell_type": "code",
      "execution_count": 38,
      "metadata": {
        "colab": {
          "base_uri": "https://localhost:8080/"
        },
        "id": "B6IuDZ9Qw7Cu",
        "outputId": "7e3c8bad-dcc8-49f0-c050-6e85695b55c7"
      },
      "outputs": [
        {
          "name": "stdout",
          "output_type": "stream",
          "text": [
            "Training Dataset Count: 721\n",
            "Test Dataset Count: 170\n"
          ]
        }
      ],
      "source": [
        "(training_data, test_data) = assertion_df.randomSplit([0.8, 0.2], seed = 100)\n",
        "print(\"Training Dataset Count: \" + str(training_data.count()))\n",
        "print(\"Test Dataset Count: \" + str(test_data.count()))"
      ]
    },
    {
      "cell_type": "code",
      "execution_count": 39,
      "metadata": {
        "colab": {
          "base_uri": "https://localhost:8080/"
        },
        "id": "fktQ3EbBZwo-",
        "outputId": "80e27008-acbc-478b-fb82-0aba4cca1296"
      },
      "outputs": [
        {
          "name": "stdout",
          "output_type": "stream",
          "text": [
            "+-------+-----+\n",
            "|label  |count|\n",
            "+-------+-----+\n",
            "|present|546  |\n",
            "|absent |175  |\n",
            "+-------+-----+\n",
            "\n"
          ]
        }
      ],
      "source": [
        "training_data.groupBy('label').count().orderBy('count', ascending=False).show(truncate=False)"
      ]
    },
    {
      "cell_type": "code",
      "execution_count": 40,
      "metadata": {
        "colab": {
          "base_uri": "https://localhost:8080/"
        },
        "id": "UTNhwoSDLLVG",
        "outputId": "149fc35e-f677-4e58-844b-4f3c430b3af3"
      },
      "outputs": [
        {
          "name": "stdout",
          "output_type": "stream",
          "text": [
            "embeddings_clinical download started this may take some time.\n",
            "Approximate size to download 1.6 GB\n",
            "[OK!]\n"
          ]
        }
      ],
      "source": [
        "document = DocumentAssembler()\\\n",
        "    .setInputCol(\"text\")\\\n",
        "    .setOutputCol(\"document\")\n",
        "\n",
        "chunk = Doc2Chunk()\\\n",
        "    .setInputCols(\"document\")\\\n",
        "    .setOutputCol(\"chunk\")\\\n",
        "    .setChunkCol(\"target\")\\\n",
        "    .setStartCol(\"start\")\\\n",
        "    .setStartColByTokenIndex(True)\\\n",
        "    .setFailOnMissing(False)\\\n",
        "    .setLowerCase(True)\n",
        "\n",
        "token = Tokenizer()\\\n",
        "    .setInputCols(['document'])\\\n",
        "    .setOutputCol('token')\n",
        "\n",
        "embeddings = WordEmbeddingsModel.pretrained(\"embeddings_clinical\", \"en\", \"clinical/models\")\\\n",
        "    .setInputCols([\"document\", \"token\"])\\\n",
        "    .setOutputCol(\"embeddings\")\n"
      ]
    },
    {
      "cell_type": "markdown",
      "metadata": {
        "id": "Lkp7KmK6pv0-"
      },
      "source": [
        "We will transform our test data with a pipeline consisting of same steps with the pipeline which contains AssertionDLApproach.\n",
        "By doing this, we enable that test data will have same columns with training data in AssertionDLApproach. <br/>\n",
        "The goal of this implementation is enabling the usage of `setTestDataset()` parameter in AssertionDLApproach. "
      ]
    },
    {
      "cell_type": "code",
      "execution_count": 41,
      "metadata": {
        "id": "-7DScL2-uIOm"
      },
      "outputs": [],
      "source": [
        "clinical_assertion_pipeline = Pipeline(\n",
        "    stages = [\n",
        "    document,\n",
        "    chunk,\n",
        "    token,\n",
        "    embeddings])\n",
        "\n",
        "assertion_test_data = clinical_assertion_pipeline.fit(test_data).transform(test_data)"
      ]
    },
    {
      "cell_type": "code",
      "execution_count": 42,
      "metadata": {
        "colab": {
          "base_uri": "https://localhost:8080/"
        },
        "id": "nwuyumqGuHwY",
        "outputId": "a6dd7720-15d0-404a-df67-6e866b178f67"
      },
      "outputs": [
        {
          "data": {
            "text/plain": [
              "['text',\n",
              " 'target',\n",
              " 'label',\n",
              " 'start',\n",
              " 'end',\n",
              " 'document',\n",
              " 'chunk',\n",
              " 'token',\n",
              " 'embeddings']"
            ]
          },
          "execution_count": 42,
          "metadata": {},
          "output_type": "execute_result"
        }
      ],
      "source": [
        "assertion_test_data.columns"
      ]
    },
    {
      "cell_type": "markdown",
      "metadata": {
        "id": "aE-99quUsJ5V"
      },
      "source": [
        "We save the test data in parquet format to use in `AssertionDLApproach()`. "
      ]
    },
    {
      "cell_type": "code",
      "execution_count": 43,
      "metadata": {
        "id": "A3Hx0w05uQ7E"
      },
      "outputs": [],
      "source": [
        "assertion_test_data.write.parquet('i2b2_assertion_sample_test_data.parquet')"
      ]
    },
    {
      "cell_type": "markdown",
      "metadata": {
        "id": "uTishXbut1MS"
      },
      "source": [
        "## Graph setup"
      ]
    },
    {
      "cell_type": "code",
      "execution_count": null,
      "metadata": {
        "id": "1hTawAHemzGn"
      },
      "outputs": [],
      "source": [
        "!pip install -q tensorflow==2.7.0\n",
        "!pip install -q tensorflow-addons"
      ]
    },
    {
      "cell_type": "markdown",
      "metadata": {
        "id": "0ShZT8BBo4FY"
      },
      "source": [
        "We will use TFGraphBuilder annotator which can be used to create graphs in the model training pipeline. \n",
        "\n",
        "TFGraphBuilder inspects the data and creates the proper graph if a suitable version of TensorFlow (<= 2.7 ) is available. The graph is stored in the defined folder and loaded by the approach."
      ]
    },
    {
      "cell_type": "code",
      "execution_count": 45,
      "metadata": {
        "id": "ojPhRpo6o0xM"
      },
      "outputs": [],
      "source": [
        "from sparknlp_jsl.annotator import TFGraphBuilder"
      ]
    },
    {
      "cell_type": "code",
      "execution_count": 46,
      "metadata": {
        "id": "XhU0L1OXdaLN"
      },
      "outputs": [],
      "source": [
        "graph_folder= \"./tf_graphs\""
      ]
    },
    {
      "cell_type": "code",
      "execution_count": 47,
      "metadata": {
        "id": "miNgoTjio0mL"
      },
      "outputs": [],
      "source": [
        "assertion_graph_builder = TFGraphBuilder()\\\n",
        "    .setModelName(\"assertion_dl\")\\\n",
        "    .setInputCols([\"sentence\", \"token\", \"embeddings\"]) \\\n",
        "    .setLabelColumn(\"label\")\\\n",
        "    .setGraphFolder(graph_folder)\\\n",
        "    .setGraphFile(\"assertion_graph.pb\")\\\n",
        "    .setMaxSequenceLength(250)\\\n",
        "    .setHiddenUnitsNumber(25)"
      ]
    },
    {
      "cell_type": "code",
      "execution_count": null,
      "metadata": {
        "id": "zl1xBA65IZ2j"
      },
      "outputs": [],
      "source": [
        "'''\n",
        "# ready to use tf_graph\n",
        "\n",
        "!mkdir training_logs\n",
        "!mkdir assertion_tf_graph\n",
        "\n",
        "!wget -q https://raw.githubusercontent.com/JohnSnowLabs/spark-nlp-workshop/master/tutorials/Certification_Trainings/Healthcare/tf_graphs/blstm_34_32_30_200_2.pb -P /content/assertion_tf_graph\n",
        "'''"
      ]
    },
    {
      "cell_type": "code",
      "execution_count": null,
      "metadata": {
        "id": "RNzTsoSeXezx"
      },
      "outputs": [],
      "source": [
        "'''\n",
        "# create custom graph\n",
        "\n",
        "from sparknlp_jsl.training import tf_graph\n",
        "tf_graph.print_model_params(\"assertion_dl\")\n",
        "\n",
        "feat_size = 200\n",
        "n_classes = 6\n",
        "\n",
        "tf_graph.build(\"assertion_dl\",\n",
        "              build_params={\"n_classes\": n_classes},\n",
        "              model_location= \"./tf_graphs\", \n",
        "              model_filename=\"blstm_34_32_30_{}_{}.pb\".format(feat_size, n_classes))\n",
        "'''"
      ]
    },
    {
      "cell_type": "markdown",
      "metadata": {
        "id": "6D0Ng7nMUjJa"
      },
      "source": [
        "**Setting the Scope Window (Target Area) Dynamically in Assertion Status Detection Models**\n",
        "\n",
        "\n",
        "This parameter allows you to train the Assertion Status Models to focus on specific context windows when resolving the status of a NER chunk. The window is in format `[X,Y]` being `X` the number of tokens to consider on the left of the chunk, and `Y` the max number of tokens to consider on the right. Let’s take a look at what different windows mean:\n",
        "\n",
        "\n",
        "*   By default, the window is `[-1,-1]` which means that the Assertion Status will look at all of the tokens in the sentence/document (up to a maximum of tokens set in `setMaxSentLen()` ).\n",
        "*   `[0,0]` means “don’t pay attention to any token except the ner_chunk”, what basically is not considering any context for the Assertion resolution.\n",
        "*   `[9,15]` is what empirically seems to be the best baseline, meaning that we look up to 9 tokens on the left and 15 on the right of the ner chunk to understand the context and resolve the status.\n",
        "\n",
        "\n",
        "Check this [Scope Window Tuning Assertion Status Detection notebook](https://github.com/JohnSnowLabs/spark-nlp-workshop/blob/master/tutorials/Certification_Trainings/Healthcare/2.1.Scope_window_tuning_assertion_status_detection.ipynb)  that illustrates the effect of the different windows and how to properly fine-tune your AssertionDLModels to get the best of them.\n",
        "\n",
        "In our case, the best Scope Window is around [10,10]"
      ]
    },
    {
      "cell_type": "code",
      "execution_count": 48,
      "metadata": {
        "colab": {
          "base_uri": "https://localhost:8080/",
          "height": 54
        },
        "id": "qG2o6Yq2xk4N",
        "outputId": "44e10774-1243-474a-a89c-c6dc5e51862d"
      },
      "outputs": [
        {
          "data": {
            "application/vnd.google.colaboratory.intrinsic+json": {
              "type": "string"
            },
            "text/plain": [
              "'\\nIf .setTestDataset parameter is employed, raw test data cannot be fitted. .setTestDataset only works for dataframes which are correctly transformed\\nby a pipeline consisting of document, chunk, embeddings stages.\\n'"
            ]
          },
          "execution_count": 48,
          "metadata": {},
          "output_type": "execute_result"
        }
      ],
      "source": [
        "scope_window = [10,10]\n",
        "\n",
        "assertionStatus = AssertionDLApproach()\\\n",
        "    .setLabelCol(\"label\")\\\n",
        "    .setInputCols(\"document\", \"chunk\", \"embeddings\")\\\n",
        "    .setOutputCol(\"assertion\")\\\n",
        "    .setBatchSize(128)\\\n",
        "    .setDropout(0.1)\\\n",
        "    .setLearningRate(0.001)\\\n",
        "    .setEpochs(15)\\\n",
        "    .setValidationSplit(0.2)\\\n",
        "    .setStartCol(\"start\")\\\n",
        "    .setEndCol(\"end\")\\\n",
        "    .setMaxSentLen(250)\\\n",
        "    .setEnableOutputLogs(True)\\\n",
        "    .setOutputLogsPath('training_logs/')\\\n",
        "    .setGraphFolder(graph_folder)\\\n",
        "    .setGraphFile(f\"{graph_folder}/assertion_graph.pb\")\\\n",
        "    .setTestDataset(path=\"/content/i2b2_assertion_sample_test_data.parquet\", read_as='SPARK', options={'format': 'parquet'})\\\n",
        "    .setScopeWindow(scope_window)\n",
        "\n",
        "'''\n",
        "If .setTestDataset parameter is employed, raw test data cannot be fitted. .setTestDataset only works for dataframes which are correctly transformed\n",
        "by a pipeline consisting of document, chunk, embeddings stages.\n",
        "'''"
      ]
    },
    {
      "cell_type": "code",
      "execution_count": null,
      "metadata": {
        "id": "97ATs6a41jdE"
      },
      "outputs": [],
      "source": [
        "'''\n",
        "assertionStatus = AssertionLogRegApproach()\\\n",
        "    .setLabelCol(\"label\")\\\n",
        "    .setInputCols(\"document\", \"chunk\", \"embeddings\")\\\n",
        "    .setOutputCol(\"assertion\")\\\n",
        "    .setMaxIter(100) # default: 26\n",
        "'''"
      ]
    },
    {
      "cell_type": "code",
      "execution_count": 49,
      "metadata": {
        "id": "EKRL7Oy4MC1C"
      },
      "outputs": [],
      "source": [
        "clinical_assertion_pipeline = Pipeline(\n",
        "    stages = [\n",
        "    document,\n",
        "    chunk,\n",
        "    token,\n",
        "    embeddings,\n",
        "    assertion_graph_builder,\n",
        "    assertionStatus])"
      ]
    },
    {
      "cell_type": "code",
      "execution_count": 50,
      "metadata": {
        "colab": {
          "base_uri": "https://localhost:8080/"
        },
        "id": "Ei54XasnMU0U",
        "outputId": "54a7d06a-f3c8-4a64-aa06-60d045ba3017"
      },
      "outputs": [
        {
          "name": "stdout",
          "output_type": "stream",
          "text": [
            "Medical Graph Builder configuration:\n",
            "Model name: assertion_dl\n",
            "Graph folder: ./tf_graphs\n",
            "Graph file name: assertion_graph.pb\n",
            "Build params: {'n_classes': 2, 'feat_size': 200, 'max_seq_len': 250, 'n_hidden': 25}\n",
            "WARNING:tensorflow:From /usr/local/lib/python3.7/dist-packages/tensorflow/python/compat/v2_compat.py:111: disable_resource_variables (from tensorflow.python.ops.variable_scope) is deprecated and will be removed in a future version.\n",
            "Instructions for updating:\n",
            "non-resource variables are not supported in the long term\n",
            "Device mapping:\n",
            "/job:localhost/replica:0/task:0/device:GPU:0 -> device: 0, name: Tesla P100-PCIE-16GB, pci bus id: 0000:00:04.0, compute capability: 6.0\n",
            "\n",
            "WARNING:tensorflow:From /usr/local/lib/python3.7/dist-packages/sparknlp_jsl/_tf_graph_builders/tf2contrib/rnn.py:239: bidirectional_dynamic_rnn (from tensorflow.python.ops.rnn) is deprecated and will be removed in a future version.\n",
            "Instructions for updating:\n",
            "Please use `keras.layers.Bidirectional(keras.layers.RNN(cell))`, which is equivalent to this API\n",
            "WARNING:tensorflow:From /usr/local/lib/python3.7/dist-packages/tensorflow/python/ops/rnn.py:450: dynamic_rnn (from tensorflow.python.ops.rnn) is deprecated and will be removed in a future version.\n",
            "Instructions for updating:\n",
            "Please use `keras.layers.RNN(cell)`, which is equivalent to this API\n",
            "WARNING:tensorflow:From /usr/local/lib/python3.7/dist-packages/tensorflow/python/keras/layers/legacy_rnn/rnn_cell_impl.py:766: calling Zeros.__init__ (from tensorflow.python.ops.init_ops) with dtype is deprecated and will be removed in a future version.\n",
            "Instructions for updating:\n",
            "Call initializer instance with the dtype argument instead of passing it to the constructor\n",
            "Device mapping:\n",
            "/job:localhost/replica:0/task:0/device:GPU:0 -> device: 0, name: Tesla P100-PCIE-16GB, pci bus id: 0000:00:04.0, compute capability: 6.0\n",
            "\n",
            "assertion_dl graph exported to ./tf_graphs/assertion_graph.pb\n",
            "CPU times: user 11.6 s, sys: 1.11 s, total: 12.7 s\n",
            "Wall time: 1min 58s\n"
          ]
        }
      ],
      "source": [
        "%%time\n",
        "\n",
        "assertion_model = clinical_assertion_pipeline.fit(training_data)"
      ]
    },
    {
      "cell_type": "markdown",
      "metadata": {
        "id": "30SmcTiSpnWa"
      },
      "source": [
        "Checking the results saved in the log file"
      ]
    },
    {
      "cell_type": "code",
      "execution_count": 51,
      "metadata": {
        "colab": {
          "base_uri": "https://localhost:8080/"
        },
        "id": "kOiu1vuspKut",
        "outputId": "914ed60d-0a3c-4d80-a1fa-1fb1ef8c1a0b"
      },
      "outputs": [
        {
          "data": {
            "text/plain": [
              "['AssertionDLApproach_d80fc8e0a7c2.log']"
            ]
          },
          "execution_count": 51,
          "metadata": {},
          "output_type": "execute_result"
        }
      ],
      "source": [
        "import os\n",
        "\n",
        "log_files = os.listdir(\"/content/training_logs\")\n",
        "log_files"
      ]
    },
    {
      "cell_type": "code",
      "execution_count": 52,
      "metadata": {
        "colab": {
          "base_uri": "https://localhost:8080/"
        },
        "id": "CcQV0-fIrJHz",
        "outputId": "1bb93d96-b4c2-44b1-e442-dfdd9ab4de8c"
      },
      "outputs": [
        {
          "name": "stdout",
          "output_type": "stream",
          "text": [
            "Name of the selected graph: ./tf_graphs/assertion_graph.pb\n",
            "Training started, trainExamples: 721\n",
            "\n",
            "\n",
            "Epoch: 0 started, learning rate: 0.001, dataset size: 577\n",
            "Done, 5.88557831 total training loss: 4.570156, avg training loss: 0.9140312, batches: 5\n",
            "Quality on validation dataset (20.0%), validation examples = 144\n",
            "time to finish evaluation: 1.09s\n",
            "Total validation loss: 1.4668\tAvg validation loss: 0.7334\n",
            "label\t tp\t fp\t fn\t prec\t rec\t f1\n",
            "present\t 58\t 18\t 46\t 0.7631579\t 0.5576923\t 0.64444447\n",
            "absent\t 22\t 46\t 18\t 0.32352942\t 0.55\t 0.40740743\n",
            "tp: 80 fp: 64 fn: 64 labels: 2\n",
            "Macro-average\t prec: 0.54334366, rec: 0.5538461, f1: 0.5485446\n",
            "Micro-average\t prec: 0.5555556, rec: 0.5555556, f1: 0.5555556\n",
            "\n",
            "\n",
            "Quality on test dataset: \n",
            "time to finish evaluation: 1.11s\n",
            "Total test loss: 1.3779\tAvg test loss: 0.6889\n",
            "label\t tp\t fp\t fn\t prec\t rec\t f1\n",
            "present\t 63\t 27\t 54\t 0.7\t 0.53846157\t 0.6086957\n",
            "absent\t 26\t 54\t 27\t 0.325\t 0.49056605\t 0.39097744\n",
            "tp: 89 fp: 81 fn: 81 labels: 2\n",
            "Macro-average\t prec: 0.5125, rec: 0.5145138, f1: 0.5135049\n",
            "Micro-average\t prec: 0.5235294, rec: 0.5235294, f1: 0.5235294\n",
            "\n",
            "\n",
            "Epoch: 1 started, learning rate: 9.5E-4, dataset size: 577\n",
            "Done, 4.548187259 total training loss: 3.1916869, avg training loss: 0.6383374, batches: 5\n",
            "Quality on validation dataset (20.0%), validation examples = 144\n",
            "time to finish evaluation: 0.98s\n",
            "Total validation loss: 1.5879\tAvg validation loss: 0.7940\n",
            "label\t tp\t fp\t fn\t prec\t rec\t f1\n",
            "present\t 95\t 34\t 9\t 0.7364341\t 0.91346157\t 0.8154506\n",
            "absent\t 6\t 9\t 34\t 0.4\t 0.15\t 0.21818182\n",
            "tp: 101 fp: 43 fn: 43 labels: 2\n",
            "Macro-average\t prec: 0.56821704, rec: 0.5317308, f1: 0.54936874\n",
            "Micro-average\t prec: 0.7013889, rec: 0.7013889, f1: 0.7013889\n",
            "\n",
            "\n",
            "Quality on test dataset: \n",
            "time to finish evaluation: 0.95s\n",
            "Total test loss: 1.3032\tAvg test loss: 0.6516\n",
            "label\t tp\t fp\t fn\t prec\t rec\t f1\n",
            "present\t 104\t 46\t 13\t 0.6933333\t 0.8888889\t 0.7790262\n",
            "absent\t 7\t 13\t 46\t 0.35\t 0.13207547\t 0.19178084\n",
            "tp: 111 fp: 59 fn: 59 labels: 2\n",
            "Macro-average\t prec: 0.52166665, rec: 0.5104822, f1: 0.51601386\n",
            "Micro-average\t prec: 0.65294117, rec: 0.65294117, f1: 0.65294117\n",
            "\n",
            "\n",
            "Epoch: 2 started, learning rate: 9.025E-4, dataset size: 577\n",
            "Done, 3.885939883 total training loss: 2.8515368, avg training loss: 0.5703074, batches: 5\n",
            "Quality on validation dataset (20.0%), validation examples = 144\n",
            "time to finish evaluation: 0.58s\n",
            "Total validation loss: 1.7401\tAvg validation loss: 0.8701\n",
            "label\t tp\t fp\t fn\t prec\t rec\t f1\n",
            "present\t 96\t 36\t 8\t 0.72727275\t 0.9230769\t 0.8135594\n",
            "absent\t 4\t 8\t 36\t 0.33333334\t 0.1\t 0.15384616\n",
            "tp: 100 fp: 44 fn: 44 labels: 2\n",
            "Macro-average\t prec: 0.53030306, rec: 0.51153845, f1: 0.5207518\n",
            "Micro-average\t prec: 0.6944444, rec: 0.6944444, f1: 0.6944444\n",
            "\n",
            "\n",
            "Quality on test dataset: \n",
            "time to finish evaluation: 0.86s\n",
            "Total test loss: 1.3970\tAvg test loss: 0.6985\n",
            "label\t tp\t fp\t fn\t prec\t rec\t f1\n",
            "present\t 109\t 49\t 8\t 0.6898734\t 0.93162394\t 0.79272723\n",
            "absent\t 4\t 8\t 49\t 0.33333334\t 0.0754717\t 0.12307692\n",
            "tp: 113 fp: 57 fn: 57 labels: 2\n",
            "Macro-average\t prec: 0.51160336, rec: 0.5035478, f1: 0.50754356\n",
            "Micro-average\t prec: 0.6647059, rec: 0.6647059, f1: 0.6647059\n",
            "\n",
            "\n",
            "Epoch: 3 started, learning rate: 8.57375E-4, dataset size: 577\n",
            "Done, 3.977479758 total training loss: 2.9020207, avg training loss: 0.58040416, batches: 5\n",
            "Quality on validation dataset (20.0%), validation examples = 144\n",
            "time to finish evaluation: 0.58s\n",
            "Total validation loss: 1.5684\tAvg validation loss: 0.7842\n",
            "label\t tp\t fp\t fn\t prec\t rec\t f1\n",
            "present\t 96\t 36\t 8\t 0.72727275\t 0.9230769\t 0.8135594\n",
            "absent\t 4\t 8\t 36\t 0.33333334\t 0.1\t 0.15384616\n",
            "tp: 100 fp: 44 fn: 44 labels: 2\n",
            "Macro-average\t prec: 0.53030306, rec: 0.51153845, f1: 0.5207518\n",
            "Micro-average\t prec: 0.6944444, rec: 0.6944444, f1: 0.6944444\n",
            "\n",
            "\n",
            "Quality on test dataset: \n",
            "time to finish evaluation: 0.71s\n",
            "Total test loss: 1.2818\tAvg test loss: 0.6409\n",
            "label\t tp\t fp\t fn\t prec\t rec\t f1\n",
            "present\t 109\t 47\t 8\t 0.69871795\t 0.93162394\t 0.7985348\n",
            "absent\t 6\t 8\t 47\t 0.42857143\t 0.11320755\t 0.17910448\n",
            "tp: 115 fp: 55 fn: 55 labels: 2\n",
            "Macro-average\t prec: 0.5636447, rec: 0.52241576, f1: 0.54224765\n",
            "Micro-average\t prec: 0.6764706, rec: 0.6764706, f1: 0.6764706\n",
            "\n",
            "\n",
            "Epoch: 4 started, learning rate: 8.145062E-4, dataset size: 577\n",
            "Done, 3.671040917 total training loss: 2.7859068, avg training loss: 0.55718136, batches: 5\n",
            "Quality on validation dataset (20.0%), validation examples = 144\n",
            "time to finish evaluation: 0.57s\n",
            "Total validation loss: 1.4213\tAvg validation loss: 0.7107\n",
            "label\t tp\t fp\t fn\t prec\t rec\t f1\n",
            "present\t 93\t 34\t 11\t 0.7322835\t 0.8942308\t 0.8051948\n",
            "absent\t 6\t 11\t 34\t 0.3529412\t 0.15\t 0.21052633\n",
            "tp: 99 fp: 45 fn: 45 labels: 2\n",
            "Macro-average\t prec: 0.5426123, rec: 0.5221154, f1: 0.53216654\n",
            "Micro-average\t prec: 0.6875, rec: 0.6875, f1: 0.6875\n",
            "\n",
            "\n",
            "Quality on test dataset: \n",
            "time to finish evaluation: 0.69s\n",
            "Total test loss: 1.1999\tAvg test loss: 0.6000\n",
            "label\t tp\t fp\t fn\t prec\t rec\t f1\n",
            "present\t 104\t 45\t 13\t 0.6979866\t 0.8888889\t 0.78195494\n",
            "absent\t 8\t 13\t 45\t 0.3809524\t 0.1509434\t 0.21621624\n",
            "tp: 112 fp: 58 fn: 58 labels: 2\n",
            "Macro-average\t prec: 0.5394695, rec: 0.5199162, f1: 0.5295124\n",
            "Micro-average\t prec: 0.65882355, rec: 0.65882355, f1: 0.65882355\n",
            "\n",
            "\n",
            "Epoch: 5 started, learning rate: 7.7378086E-4, dataset size: 577\n",
            "Done, 3.824730343 total training loss: 2.736381, avg training loss: 0.5472762, batches: 5\n",
            "Quality on validation dataset (20.0%), validation examples = 144\n",
            "time to finish evaluation: 0.57s\n",
            "Total validation loss: 1.3750\tAvg validation loss: 0.6875\n",
            "label\t tp\t fp\t fn\t prec\t rec\t f1\n",
            "present\t 92\t 33\t 12\t 0.736\t 0.88461536\t 0.80349344\n",
            "absent\t 7\t 12\t 33\t 0.36842105\t 0.175\t 0.23728813\n",
            "tp: 99 fp: 45 fn: 45 labels: 2\n",
            "Macro-average\t prec: 0.5522105, rec: 0.5298077, f1: 0.5407772\n",
            "Micro-average\t prec: 0.6875, rec: 0.6875, f1: 0.6875\n",
            "\n",
            "\n",
            "Quality on test dataset: \n",
            "time to finish evaluation: 0.69s\n",
            "Total test loss: 1.1781\tAvg test loss: 0.5891\n",
            "label\t tp\t fp\t fn\t prec\t rec\t f1\n",
            "present\t 104\t 43\t 13\t 0.707483\t 0.8888889\t 0.78787875\n",
            "absent\t 10\t 13\t 43\t 0.4347826\t 0.18867925\t 0.2631579\n",
            "tp: 114 fp: 56 fn: 56 labels: 2\n",
            "Macro-average\t prec: 0.5711328, rec: 0.5387841, f1: 0.554487\n",
            "Micro-average\t prec: 0.67058825, rec: 0.67058825, f1: 0.67058825\n",
            "\n",
            "\n",
            "Epoch: 6 started, learning rate: 7.350918E-4, dataset size: 577\n",
            "Done, 3.766534132 total training loss: 2.7056122, avg training loss: 0.54112244, batches: 5\n",
            "Quality on validation dataset (20.0%), validation examples = 144\n",
            "time to finish evaluation: 0.57s\n",
            "Total validation loss: 1.4064\tAvg validation loss: 0.7032\n",
            "label\t tp\t fp\t fn\t prec\t rec\t f1\n",
            "present\t 95\t 33\t 9\t 0.7421875\t 0.91346157\t 0.8189655\n",
            "absent\t 7\t 9\t 33\t 0.4375\t 0.175\t 0.25\n",
            "tp: 102 fp: 42 fn: 42 labels: 2\n",
            "Macro-average\t prec: 0.58984375, rec: 0.54423076, f1: 0.56612\n",
            "Micro-average\t prec: 0.7083333, rec: 0.7083333, f1: 0.7083334\n",
            "\n",
            "\n",
            "Quality on test dataset: \n",
            "time to finish evaluation: 0.70s\n",
            "Total test loss: 1.1757\tAvg test loss: 0.5879\n",
            "label\t tp\t fp\t fn\t prec\t rec\t f1\n",
            "present\t 106\t 45\t 11\t 0.70198673\t 0.9059829\t 0.7910448\n",
            "absent\t 8\t 11\t 45\t 0.42105263\t 0.1509434\t 0.22222222\n",
            "tp: 114 fp: 56 fn: 56 labels: 2\n",
            "Macro-average\t prec: 0.5615197, rec: 0.5284631, f1: 0.54449016\n",
            "Micro-average\t prec: 0.67058825, rec: 0.67058825, f1: 0.67058825\n",
            "\n",
            "\n",
            "Epoch: 7 started, learning rate: 6.983372E-4, dataset size: 577\n",
            "Done, 3.786550547 total training loss: 2.667628, avg training loss: 0.5335256, batches: 5\n",
            "Quality on validation dataset (20.0%), validation examples = 144\n",
            "time to finish evaluation: 0.57s\n",
            "Total validation loss: 1.4462\tAvg validation loss: 0.7231\n",
            "label\t tp\t fp\t fn\t prec\t rec\t f1\n",
            "present\t 96\t 34\t 8\t 0.73846155\t 0.9230769\t 0.82051283\n",
            "absent\t 6\t 8\t 34\t 0.42857143\t 0.15\t 0.22222222\n",
            "tp: 102 fp: 42 fn: 42 labels: 2\n",
            "Macro-average\t prec: 0.5835165, rec: 0.5365385, f1: 0.55904233\n",
            "Micro-average\t prec: 0.7083333, rec: 0.7083333, f1: 0.7083334\n",
            "\n",
            "\n",
            "Quality on test dataset: \n",
            "time to finish evaluation: 0.70s\n",
            "Total test loss: 1.1827\tAvg test loss: 0.5913\n",
            "label\t tp\t fp\t fn\t prec\t rec\t f1\n",
            "present\t 108\t 46\t 9\t 0.7012987\t 0.9230769\t 0.797048\n",
            "absent\t 7\t 9\t 46\t 0.4375\t 0.13207547\t 0.20289855\n",
            "tp: 115 fp: 55 fn: 55 labels: 2\n",
            "Macro-average\t prec: 0.56939936, rec: 0.5275762, f1: 0.5476905\n",
            "Micro-average\t prec: 0.6764706, rec: 0.6764706, f1: 0.6764706\n",
            "\n",
            "\n",
            "Epoch: 8 started, learning rate: 6.6342036E-4, dataset size: 577\n",
            "Done, 3.893851951 total training loss: 2.5926635, avg training loss: 0.5185327, batches: 5\n",
            "Quality on validation dataset (20.0%), validation examples = 144\n",
            "time to finish evaluation: 0.57s\n",
            "Total validation loss: 1.4412\tAvg validation loss: 0.7206\n",
            "label\t tp\t fp\t fn\t prec\t rec\t f1\n",
            "present\t 96\t 34\t 8\t 0.73846155\t 0.9230769\t 0.82051283\n",
            "absent\t 6\t 8\t 34\t 0.42857143\t 0.15\t 0.22222222\n",
            "tp: 102 fp: 42 fn: 42 labels: 2\n",
            "Macro-average\t prec: 0.5835165, rec: 0.5365385, f1: 0.55904233\n",
            "Micro-average\t prec: 0.7083333, rec: 0.7083333, f1: 0.7083334\n",
            "\n",
            "\n",
            "Quality on test dataset: \n",
            "time to finish evaluation: 0.69s\n",
            "Total test loss: 1.1661\tAvg test loss: 0.5830\n",
            "label\t tp\t fp\t fn\t prec\t rec\t f1\n",
            "present\t 109\t 46\t 8\t 0.7032258\t 0.93162394\t 0.8014706\n",
            "absent\t 7\t 8\t 46\t 0.46666667\t 0.13207547\t 0.20588237\n",
            "tp: 116 fp: 54 fn: 54 labels: 2\n",
            "Macro-average\t prec: 0.5849462, rec: 0.5318497, f1: 0.55713576\n",
            "Micro-average\t prec: 0.68235296, rec: 0.68235296, f1: 0.68235296\n",
            "\n",
            "\n",
            "Epoch: 9 started, learning rate: 6.302493E-4, dataset size: 577\n",
            "Done, 3.890189852 total training loss: 2.5122333, avg training loss: 0.50244665, batches: 5\n",
            "Quality on validation dataset (20.0%), validation examples = 144\n",
            "time to finish evaluation: 0.58s\n",
            "Total validation loss: 1.3883\tAvg validation loss: 0.6941\n",
            "label\t tp\t fp\t fn\t prec\t rec\t f1\n",
            "present\t 96\t 33\t 8\t 0.74418604\t 0.9230769\t 0.82403433\n",
            "absent\t 7\t 8\t 33\t 0.46666667\t 0.175\t 0.25454545\n",
            "tp: 103 fp: 41 fn: 41 labels: 2\n",
            "Macro-average\t prec: 0.6054264, rec: 0.54903847, f1: 0.5758554\n",
            "Micro-average\t prec: 0.7152778, rec: 0.7152778, f1: 0.7152778\n",
            "\n",
            "\n",
            "Quality on test dataset: \n",
            "time to finish evaluation: 0.70s\n",
            "Total test loss: 1.1224\tAvg test loss: 0.5612\n",
            "label\t tp\t fp\t fn\t prec\t rec\t f1\n",
            "present\t 109\t 45\t 8\t 0.7077922\t 0.93162394\t 0.80442804\n",
            "absent\t 8\t 8\t 45\t 0.5\t 0.1509434\t 0.23188406\n",
            "tp: 117 fp: 53 fn: 53 labels: 2\n",
            "Macro-average\t prec: 0.60389614, rec: 0.54128367, f1: 0.57087827\n",
            "Micro-average\t prec: 0.6882353, rec: 0.6882353, f1: 0.6882353\n",
            "\n",
            "\n",
            "Epoch: 10 started, learning rate: 5.9873686E-4, dataset size: 577\n",
            "Done, 3.920477461 total training loss: 2.4316804, avg training loss: 0.48633608, batches: 5\n",
            "Quality on validation dataset (20.0%), validation examples = 144\n",
            "time to finish evaluation: 0.59s\n",
            "Total validation loss: 1.3299\tAvg validation loss: 0.6650\n",
            "label\t tp\t fp\t fn\t prec\t rec\t f1\n",
            "present\t 96\t 33\t 8\t 0.74418604\t 0.9230769\t 0.82403433\n",
            "absent\t 7\t 8\t 33\t 0.46666667\t 0.175\t 0.25454545\n",
            "tp: 103 fp: 41 fn: 41 labels: 2\n",
            "Macro-average\t prec: 0.6054264, rec: 0.54903847, f1: 0.5758554\n",
            "Micro-average\t prec: 0.7152778, rec: 0.7152778, f1: 0.7152778\n",
            "\n",
            "\n",
            "Quality on test dataset: \n",
            "time to finish evaluation: 0.70s\n",
            "Total test loss: 1.0733\tAvg test loss: 0.5366\n",
            "label\t tp\t fp\t fn\t prec\t rec\t f1\n",
            "present\t 109\t 41\t 8\t 0.7266667\t 0.93162394\t 0.8164794\n",
            "absent\t 12\t 8\t 41\t 0.6\t 0.2264151\t 0.32876712\n",
            "tp: 121 fp: 49 fn: 49 labels: 2\n",
            "Macro-average\t prec: 0.66333336, rec: 0.57901955, f1: 0.6183154\n",
            "Micro-average\t prec: 0.7117647, rec: 0.7117647, f1: 0.7117647\n",
            "\n",
            "\n",
            "Epoch: 11 started, learning rate: 5.688E-4, dataset size: 577\n",
            "Done, 3.75253352 total training loss: 2.4274511, avg training loss: 0.48549023, batches: 5\n",
            "Quality on validation dataset (20.0%), validation examples = 144\n",
            "time to finish evaluation: 0.56s\n",
            "Total validation loss: 1.2917\tAvg validation loss: 0.6459\n",
            "label\t tp\t fp\t fn\t prec\t rec\t f1\n",
            "present\t 96\t 32\t 8\t 0.75\t 0.9230769\t 0.82758623\n",
            "absent\t 8\t 8\t 32\t 0.5\t 0.2\t 0.2857143\n",
            "tp: 104 fp: 40 fn: 40 labels: 2\n",
            "Macro-average\t prec: 0.625, rec: 0.56153846, f1: 0.5915721\n",
            "Micro-average\t prec: 0.7222222, rec: 0.7222222, f1: 0.72222215\n",
            "\n",
            "\n",
            "Quality on test dataset: \n",
            "time to finish evaluation: 0.70s\n",
            "Total test loss: 1.0252\tAvg test loss: 0.5126\n",
            "label\t tp\t fp\t fn\t prec\t rec\t f1\n",
            "present\t 109\t 40\t 8\t 0.7315436\t 0.93162394\t 0.81954885\n",
            "absent\t 13\t 8\t 40\t 0.61904764\t 0.24528302\t 0.35135138\n",
            "tp: 122 fp: 48 fn: 48 labels: 2\n",
            "Macro-average\t prec: 0.6752956, rec: 0.5884535, f1: 0.6288907\n",
            "Micro-average\t prec: 0.7176471, rec: 0.7176471, f1: 0.7176471\n",
            "\n",
            "\n",
            "Epoch: 12 started, learning rate: 5.4036E-4, dataset size: 577\n",
            "Done, 4.070262839 total training loss: 2.3146458, avg training loss: 0.46292916, batches: 5\n",
            "Quality on validation dataset (20.0%), validation examples = 144\n",
            "time to finish evaluation: 0.56s\n",
            "Total validation loss: 1.2566\tAvg validation loss: 0.6283\n",
            "label\t tp\t fp\t fn\t prec\t rec\t f1\n",
            "present\t 98\t 28\t 6\t 0.7777778\t 0.9423077\t 0.8521739\n",
            "absent\t 12\t 6\t 28\t 0.6666667\t 0.3\t 0.41379312\n",
            "tp: 110 fp: 34 fn: 34 labels: 2\n",
            "Macro-average\t prec: 0.7222222, rec: 0.62115383, f1: 0.6678861\n",
            "Micro-average\t prec: 0.7638889, rec: 0.7638889, f1: 0.7638889\n",
            "\n",
            "\n",
            "Quality on test dataset: \n",
            "time to finish evaluation: 0.70s\n",
            "Total test loss: 0.9675\tAvg test loss: 0.4838\n",
            "label\t tp\t fp\t fn\t prec\t rec\t f1\n",
            "present\t 110\t 38\t 7\t 0.7432432\t 0.94017094\t 0.8301886\n",
            "absent\t 15\t 7\t 38\t 0.6818182\t 0.28301886\t 0.39999998\n",
            "tp: 125 fp: 45 fn: 45 labels: 2\n",
            "Macro-average\t prec: 0.71253073, rec: 0.6115949, f1: 0.65821576\n",
            "Micro-average\t prec: 0.7352941, rec: 0.7352941, f1: 0.7352941\n",
            "\n",
            "\n",
            "Epoch: 13 started, learning rate: 5.13342E-4, dataset size: 577\n",
            "Done, 3.960552498 total training loss: 2.1924162, avg training loss: 0.43848324, batches: 5\n",
            "Quality on validation dataset (20.0%), validation examples = 144\n",
            "time to finish evaluation: 0.58s\n",
            "Total validation loss: 1.1959\tAvg validation loss: 0.5979\n",
            "label\t tp\t fp\t fn\t prec\t rec\t f1\n",
            "present\t 97\t 22\t 7\t 0.81512606\t 0.9326923\t 0.8699551\n",
            "absent\t 18\t 7\t 22\t 0.72\t 0.45\t 0.5538461\n",
            "tp: 115 fp: 29 fn: 29 labels: 2\n",
            "Macro-average\t prec: 0.76756305, rec: 0.69134617, f1: 0.72746366\n",
            "Micro-average\t prec: 0.7986111, rec: 0.7986111, f1: 0.7986111\n",
            "\n",
            "\n",
            "Quality on test dataset: \n",
            "time to finish evaluation: 0.69s\n",
            "Total test loss: 0.8954\tAvg test loss: 0.4477\n",
            "label\t tp\t fp\t fn\t prec\t rec\t f1\n",
            "present\t 110\t 34\t 7\t 0.7638889\t 0.94017094\t 0.8429119\n",
            "absent\t 19\t 7\t 34\t 0.7307692\t 0.35849056\t 0.48101264\n",
            "tp: 129 fp: 41 fn: 41 labels: 2\n",
            "Macro-average\t prec: 0.74732906, rec: 0.64933074, f1: 0.6948918\n",
            "Micro-average\t prec: 0.7588235, rec: 0.7588235, f1: 0.7588235\n",
            "\n",
            "\n",
            "Epoch: 14 started, learning rate: 4.8767487E-4, dataset size: 577\n",
            "Done, 3.937524083 total training loss: 1.9889888, avg training loss: 0.39779776, batches: 5\n",
            "Quality on validation dataset (20.0%), validation examples = 144\n",
            "time to finish evaluation: 0.59s\n",
            "Total validation loss: 1.0918\tAvg validation loss: 0.5459\n",
            "label\t tp\t fp\t fn\t prec\t rec\t f1\n",
            "present\t 98\t 19\t 6\t 0.83760685\t 0.9423077\t 0.88687783\n",
            "absent\t 21\t 6\t 19\t 0.7777778\t 0.525\t 0.6268657\n",
            "tp: 119 fp: 25 fn: 25 labels: 2\n",
            "Macro-average\t prec: 0.8076923, rec: 0.73365384, f1: 0.76889485\n",
            "Micro-average\t prec: 0.8263889, rec: 0.8263889, f1: 0.8263889\n",
            "\n",
            "\n",
            "Quality on test dataset: \n",
            "time to finish evaluation: 0.69s\n",
            "Total test loss: 0.8197\tAvg test loss: 0.4098\n",
            "label\t tp\t fp\t fn\t prec\t rec\t f1\n",
            "present\t 110\t 24\t 7\t 0.8208955\t 0.94017094\t 0.876494\n",
            "absent\t 29\t 7\t 24\t 0.8055556\t 0.5471698\t 0.6516854\n",
            "tp: 139 fp: 31 fn: 31 labels: 2\n",
            "Macro-average\t prec: 0.8132255, rec: 0.74367034, f1: 0.7768942\n",
            "Micro-average\t prec: 0.81764704, rec: 0.81764704, f1: 0.81764704\n",
            "\n",
            "\n",
            "\n"
          ]
        }
      ],
      "source": [
        "with open(\"/content/training_logs/\"+log_files[0]) as log_file:\n",
        "    print(log_file.read())"
      ]
    },
    {
      "cell_type": "code",
      "execution_count": 53,
      "metadata": {
        "colab": {
          "base_uri": "https://localhost:8080/"
        },
        "id": "-k2WrFkRyQyP",
        "outputId": "4e4d0cc9-044d-4667-a354-05bdc4fd6d3d"
      },
      "outputs": [
        {
          "name": "stdout",
          "output_type": "stream",
          "text": [
            "+-------+---------+\n",
            "|  label|   result|\n",
            "+-------+---------+\n",
            "|present|[present]|\n",
            "| absent|[present]|\n",
            "|present|[present]|\n",
            "|present|[present]|\n",
            "|present|[present]|\n",
            "|present|[present]|\n",
            "|present|[present]|\n",
            "|present|[present]|\n",
            "|present| [absent]|\n",
            "|present|[present]|\n",
            "|present|[present]|\n",
            "|present|[present]|\n",
            "|present|[present]|\n",
            "|present|[present]|\n",
            "|present|[present]|\n",
            "|present|[present]|\n",
            "|present|[present]|\n",
            "|present|[present]|\n",
            "|present|[present]|\n",
            "|present|[present]|\n",
            "+-------+---------+\n",
            "only showing top 20 rows\n",
            "\n"
          ]
        }
      ],
      "source": [
        "preds = assertion_model.transform(test_data).select('label','assertion.result')\n",
        "\n",
        "preds.show()"
      ]
    },
    {
      "cell_type": "code",
      "execution_count": 54,
      "metadata": {
        "id": "4yI73lwG2xk5"
      },
      "outputs": [],
      "source": [
        "preds_df = preds.toPandas()"
      ]
    },
    {
      "cell_type": "code",
      "execution_count": 55,
      "metadata": {
        "colab": {
          "base_uri": "https://localhost:8080/",
          "height": 424
        },
        "id": "yRXZFGlQ3Z2U",
        "outputId": "8fa191d8-49d7-49e3-9f05-fbc3d11723c6"
      },
      "outputs": [
        {
          "data": {
            "text/html": [
              "\n",
              "  <div id=\"df-2df46440-66cd-4600-8bc4-7a2884a51d05\">\n",
              "    <div class=\"colab-df-container\">\n",
              "      <div>\n",
              "<style scoped>\n",
              "    .dataframe tbody tr th:only-of-type {\n",
              "        vertical-align: middle;\n",
              "    }\n",
              "\n",
              "    .dataframe tbody tr th {\n",
              "        vertical-align: top;\n",
              "    }\n",
              "\n",
              "    .dataframe thead th {\n",
              "        text-align: right;\n",
              "    }\n",
              "</style>\n",
              "<table border=\"1\" class=\"dataframe\">\n",
              "  <thead>\n",
              "    <tr style=\"text-align: right;\">\n",
              "      <th></th>\n",
              "      <th>label</th>\n",
              "      <th>result</th>\n",
              "    </tr>\n",
              "  </thead>\n",
              "  <tbody>\n",
              "    <tr>\n",
              "      <th>0</th>\n",
              "      <td>present</td>\n",
              "      <td>present</td>\n",
              "    </tr>\n",
              "    <tr>\n",
              "      <th>1</th>\n",
              "      <td>absent</td>\n",
              "      <td>present</td>\n",
              "    </tr>\n",
              "    <tr>\n",
              "      <th>2</th>\n",
              "      <td>present</td>\n",
              "      <td>present</td>\n",
              "    </tr>\n",
              "    <tr>\n",
              "      <th>3</th>\n",
              "      <td>present</td>\n",
              "      <td>present</td>\n",
              "    </tr>\n",
              "    <tr>\n",
              "      <th>4</th>\n",
              "      <td>present</td>\n",
              "      <td>present</td>\n",
              "    </tr>\n",
              "    <tr>\n",
              "      <th>...</th>\n",
              "      <td>...</td>\n",
              "      <td>...</td>\n",
              "    </tr>\n",
              "    <tr>\n",
              "      <th>165</th>\n",
              "      <td>present</td>\n",
              "      <td>present</td>\n",
              "    </tr>\n",
              "    <tr>\n",
              "      <th>166</th>\n",
              "      <td>absent</td>\n",
              "      <td>absent</td>\n",
              "    </tr>\n",
              "    <tr>\n",
              "      <th>167</th>\n",
              "      <td>absent</td>\n",
              "      <td>absent</td>\n",
              "    </tr>\n",
              "    <tr>\n",
              "      <th>168</th>\n",
              "      <td>absent</td>\n",
              "      <td>absent</td>\n",
              "    </tr>\n",
              "    <tr>\n",
              "      <th>169</th>\n",
              "      <td>present</td>\n",
              "      <td>present</td>\n",
              "    </tr>\n",
              "  </tbody>\n",
              "</table>\n",
              "<p>170 rows × 2 columns</p>\n",
              "</div>\n",
              "      <button class=\"colab-df-convert\" onclick=\"convertToInteractive('df-2df46440-66cd-4600-8bc4-7a2884a51d05')\"\n",
              "              title=\"Convert this dataframe to an interactive table.\"\n",
              "              style=\"display:none;\">\n",
              "        \n",
              "  <svg xmlns=\"http://www.w3.org/2000/svg\" height=\"24px\"viewBox=\"0 0 24 24\"\n",
              "       width=\"24px\">\n",
              "    <path d=\"M0 0h24v24H0V0z\" fill=\"none\"/>\n",
              "    <path d=\"M18.56 5.44l.94 2.06.94-2.06 2.06-.94-2.06-.94-.94-2.06-.94 2.06-2.06.94zm-11 1L8.5 8.5l.94-2.06 2.06-.94-2.06-.94L8.5 2.5l-.94 2.06-2.06.94zm10 10l.94 2.06.94-2.06 2.06-.94-2.06-.94-.94-2.06-.94 2.06-2.06.94z\"/><path d=\"M17.41 7.96l-1.37-1.37c-.4-.4-.92-.59-1.43-.59-.52 0-1.04.2-1.43.59L10.3 9.45l-7.72 7.72c-.78.78-.78 2.05 0 2.83L4 21.41c.39.39.9.59 1.41.59.51 0 1.02-.2 1.41-.59l7.78-7.78 2.81-2.81c.8-.78.8-2.07 0-2.86zM5.41 20L4 18.59l7.72-7.72 1.47 1.35L5.41 20z\"/>\n",
              "  </svg>\n",
              "      </button>\n",
              "      \n",
              "  <style>\n",
              "    .colab-df-container {\n",
              "      display:flex;\n",
              "      flex-wrap:wrap;\n",
              "      gap: 12px;\n",
              "    }\n",
              "\n",
              "    .colab-df-convert {\n",
              "      background-color: #E8F0FE;\n",
              "      border: none;\n",
              "      border-radius: 50%;\n",
              "      cursor: pointer;\n",
              "      display: none;\n",
              "      fill: #1967D2;\n",
              "      height: 32px;\n",
              "      padding: 0 0 0 0;\n",
              "      width: 32px;\n",
              "    }\n",
              "\n",
              "    .colab-df-convert:hover {\n",
              "      background-color: #E2EBFA;\n",
              "      box-shadow: 0px 1px 2px rgba(60, 64, 67, 0.3), 0px 1px 3px 1px rgba(60, 64, 67, 0.15);\n",
              "      fill: #174EA6;\n",
              "    }\n",
              "\n",
              "    [theme=dark] .colab-df-convert {\n",
              "      background-color: #3B4455;\n",
              "      fill: #D2E3FC;\n",
              "    }\n",
              "\n",
              "    [theme=dark] .colab-df-convert:hover {\n",
              "      background-color: #434B5C;\n",
              "      box-shadow: 0px 1px 3px 1px rgba(0, 0, 0, 0.15);\n",
              "      filter: drop-shadow(0px 1px 2px rgba(0, 0, 0, 0.3));\n",
              "      fill: #FFFFFF;\n",
              "    }\n",
              "  </style>\n",
              "\n",
              "      <script>\n",
              "        const buttonEl =\n",
              "          document.querySelector('#df-2df46440-66cd-4600-8bc4-7a2884a51d05 button.colab-df-convert');\n",
              "        buttonEl.style.display =\n",
              "          google.colab.kernel.accessAllowed ? 'block' : 'none';\n",
              "\n",
              "        async function convertToInteractive(key) {\n",
              "          const element = document.querySelector('#df-2df46440-66cd-4600-8bc4-7a2884a51d05');\n",
              "          const dataTable =\n",
              "            await google.colab.kernel.invokeFunction('convertToInteractive',\n",
              "                                                     [key], {});\n",
              "          if (!dataTable) return;\n",
              "\n",
              "          const docLinkHtml = 'Like what you see? Visit the ' +\n",
              "            '<a target=\"_blank\" href=https://colab.research.google.com/notebooks/data_table.ipynb>data table notebook</a>'\n",
              "            + ' to learn more about interactive tables.';\n",
              "          element.innerHTML = '';\n",
              "          dataTable['output_type'] = 'display_data';\n",
              "          await google.colab.output.renderOutput(dataTable, element);\n",
              "          const docLink = document.createElement('div');\n",
              "          docLink.innerHTML = docLinkHtml;\n",
              "          element.appendChild(docLink);\n",
              "        }\n",
              "      </script>\n",
              "    </div>\n",
              "  </div>\n",
              "  "
            ],
            "text/plain": [
              "       label   result\n",
              "0    present  present\n",
              "1     absent  present\n",
              "2    present  present\n",
              "3    present  present\n",
              "4    present  present\n",
              "..       ...      ...\n",
              "165  present  present\n",
              "166   absent   absent\n",
              "167   absent   absent\n",
              "168   absent   absent\n",
              "169  present  present\n",
              "\n",
              "[170 rows x 2 columns]"
            ]
          },
          "execution_count": 55,
          "metadata": {},
          "output_type": "execute_result"
        }
      ],
      "source": [
        "preds_df['result'] = preds_df['result'].apply(lambda x : x[0])\n",
        "preds_df"
      ]
    },
    {
      "cell_type": "code",
      "execution_count": 56,
      "metadata": {
        "colab": {
          "base_uri": "https://localhost:8080/"
        },
        "id": "Je0RxEeRYxEd",
        "outputId": "b9dba8a1-bb9a-4691-ddbe-97fd1b086376"
      },
      "outputs": [
        {
          "name": "stdout",
          "output_type": "stream",
          "text": [
            "              precision    recall  f1-score   support\n",
            "\n",
            "      absent       0.78      0.55      0.64        53\n",
            "     present       0.82      0.93      0.87       117\n",
            "\n",
            "    accuracy                           0.81       170\n",
            "   macro avg       0.80      0.74      0.76       170\n",
            "weighted avg       0.81      0.81      0.80       170\n",
            "\n"
          ]
        }
      ],
      "source": [
        "# We are going to use sklearn to evalute the results on test dataset\n",
        "from sklearn.metrics import classification_report\n",
        "\n",
        "print (classification_report( preds_df['label'], preds_df['result']))"
      ]
    },
    {
      "cell_type": "code",
      "execution_count": null,
      "metadata": {
        "id": "atNaIlnP3gKr"
      },
      "outputs": [],
      "source": [
        "# save model\n",
        "assertion_model.stages[-1].write().overwrite().save('assertion_model')"
      ]
    }
  ],
  "metadata": {
    "accelerator": "GPU",
    "colab": {
      "collapsed_sections": [],
      "name": "2.Clinical_Assertion_Model.ipynb",
      "provenance": [],
      "toc_visible": true
    },
    "gpuClass": "standard",
    "kernelspec": {
      "display_name": "Python 3 (ipykernel)",
      "language": "python",
      "name": "python3"
    },
    "language_info": {
      "codemirror_mode": {
        "name": "ipython",
        "version": 3
      },
      "file_extension": ".py",
      "mimetype": "text/x-python",
      "name": "python",
      "nbconvert_exporter": "python",
      "pygments_lexer": "ipython3",
      "version": "3.7.6"
    }
  },
  "nbformat": 4,
  "nbformat_minor": 0
}

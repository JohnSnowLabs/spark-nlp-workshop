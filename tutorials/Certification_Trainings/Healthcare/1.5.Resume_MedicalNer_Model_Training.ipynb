{
 "cells": [
  {
   "cell_type": "markdown",
   "metadata": {
    "id": "I08sFJYCxR0Z"
   },
   "source": [
    "![JohnSnowLabs](https://nlp.johnsnowlabs.com/assets/images/logo.png)"
   ]
  },
  {
   "cell_type": "markdown",
   "metadata": {
    "id": "FwJ-P56kq6FU"
   },
   "source": [
    "[![Open In Colab](https://colab.research.google.com/assets/colab-badge.svg)](https://colab.research.google.com/github/JohnSnowLabs/spark-nlp-workshop/blob/master/tutorials/Certification_Trainings/Healthcare/1.5.Resume_MedicalNer_Model_Training.ipynb)"
   ]
  },
  {
   "cell_type": "markdown",
   "metadata": {
    "id": "7ztGkR5mb6zN"
   },
   "source": [
    "# 1.5 Resume MedicalNer Model Training\n",
    "\n",
    "Steps:\n",
    "- Train a new model for a few epochs.\n",
    "- Load the same model and train for more epochs, and check stats.\n",
    "- Train a model already trained on a different data"
   ]
  },
  {
   "cell_type": "markdown",
   "metadata": {
    "id": "-68NMdHxJIco"
   },
   "source": [
    "## Colab Setup"
   ]
  },
  {
   "cell_type": "code",
   "execution_count": 1,
   "metadata": {
    "colab": {
     "base_uri": "https://localhost:8080/",
     "height": 72,
     "resources": {
      "http://localhost:8080/nbextensions/google.colab/files.js": {
       "data": "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",
       "headers": [
        [
         "content-type",
         "application/javascript"
        ]
       ],
       "ok": true,
       "status": 200,
       "status_text": ""
      }
     }
    },
    "id": "h9Mn1PNTNJTq",
    "outputId": "de7ab46f-b11a-44fa-cc28-87bb7d71b035"
   },
   "outputs": [
    {
     "data": {
      "text/html": [
       "\n",
       "     <input type=\"file\" id=\"files-61449a83-48c8-4cc4-83f0-ce0ed76fefb9\" name=\"files[]\" multiple disabled\n",
       "        style=\"border:none\" />\n",
       "     <output id=\"result-61449a83-48c8-4cc4-83f0-ce0ed76fefb9\">\n",
       "      Upload widget is only available when the cell has been executed in the\n",
       "      current browser session. Please rerun this cell to enable.\n",
       "      </output>\n",
       "      <script src=\"/nbextensions/google.colab/files.js\"></script> "
      ],
      "text/plain": [
       "<IPython.core.display.HTML object>"
      ]
     },
     "metadata": {
      "tags": []
     },
     "output_type": "display_data"
    },
    {
     "name": "stdout",
     "output_type": "stream",
     "text": [
      "Saving jsl_keys.json to jsl_keys.json\n"
     ]
    }
   ],
   "source": [
    "import json\n",
    "\n",
    "from google.colab import files\n",
    "\n",
    "license_keys = files.upload()\n",
    "\n",
    "with open('jsl_keys.json') as f:\n",
    "    license_keys = json.load(f)"
   ]
  },
  {
   "cell_type": "code",
   "execution_count": 2,
   "metadata": {
    "id": "yvHraBK7b-LU"
   },
   "outputs": [],
   "source": [
    "\n",
    "%%capture\n",
    "for k,v in license_keys.items(): \n",
    "    %set_env $k=$v\n",
    "\n",
    "! wget https://raw.githubusercontent.com/JohnSnowLabs/spark-nlp-workshop/master/jsl_colab_setup.sh\n",
    "! bash jsl_colab_setup.sh -p 3.0.2 -s 3.1.2rc1\n",
    "\n",
    "! pip install spark-nlp-display\n",
    "\n",
    "# for Spark 2.4.x and Spark NLP 2.x, do the following\n",
    "# !wget -q https://raw.githubusercontent.com/JohnSnowLabs/spark-nlp-workshop/master/colab_setup.sh\n",
    "# !bash colab_setup.sh -p 2.4.x -s 2.7.x"
   ]
  },
  {
   "cell_type": "code",
   "execution_count": 3,
   "metadata": {
    "id": "wIp1yLCWNWsn"
   },
   "outputs": [],
   "source": [
    "# if you want to start the session with custom params as in start function above\n",
    "def start(secret):\n",
    "    builder = SparkSession.builder \\\n",
    "        .appName(\"Spark NLP Licensed\") \\\n",
    "        .master(\"local[*]\") \\\n",
    "        .config(\"spark.driver.memory\", \"16G\") \\\n",
    "        .config(\"spark.serializer\", \"org.apache.spark.serializer.KryoSerializer\") \\\n",
    "        .config(\"spark.kryoserializer.buffer.max\", \"2000M\") \\\n",
    "        .config(\"spark.jars.packages\", \"com.johnsnowlabs.nlp:spark-nlp_2.12:\"+version) \\\n",
    "        .config(\"spark.jars\", \"https://pypi.johnsnowlabs.com/\"+secret+\"/spark-nlp-jsl-\"+jsl_version+\".jar\")\n",
    "      \n",
    "    return builder.getOrCreate()\n",
    "\n",
    "#spark = start(secret)"
   ]
  },
  {
   "cell_type": "code",
   "execution_count": 4,
   "metadata": {
    "colab": {
     "base_uri": "https://localhost:8080/"
    },
    "id": "1t5Kp93GcH7z",
    "outputId": "60354fd4-74bf-4c58-c5c2-ff47013b2b77"
   },
   "outputs": [
    {
     "name": "stdout",
     "output_type": "stream",
     "text": [
      "Spark NLP Version : 3.1.2\n",
      "Spark NLP_JSL Version : 3.1.2\n"
     ]
    }
   ],
   "source": [
    "import json\n",
    "import os\n",
    "from pyspark.ml import Pipeline,PipelineModel\n",
    "from pyspark.sql import SparkSession\n",
    "\n",
    "from sparknlp.annotator import *\n",
    "from sparknlp_jsl.annotator import *\n",
    "from sparknlp.base import *\n",
    "import sparknlp_jsl\n",
    "import sparknlp\n",
    "\n",
    "params = {\"spark.driver.memory\":\"16G\",\n",
    "\"spark.kryoserializer.buffer.max\":\"2000M\",\n",
    "\"spark.driver.maxResultSize\":\"2000M\"}\n",
    "\n",
    "spark = sparknlp_jsl.start(license_keys['SECRET'],params=params)\n",
    "\n",
    "print (\"Spark NLP Version :\", sparknlp.version())\n",
    "print (\"Spark NLP_JSL Version :\", sparknlp_jsl.version())"
   ]
  },
  {
   "cell_type": "markdown",
   "metadata": {
    "id": "PeWhvSsHRXsf"
   },
   "source": [
    "## Download Clinical Word Embeddings for training"
   ]
  },
  {
   "cell_type": "code",
   "execution_count": 5,
   "metadata": {
    "colab": {
     "base_uri": "https://localhost:8080/"
    },
    "id": "Ua5dHNeyRWQc",
    "outputId": "34fcfc69-3fa3-4548-b378-be4d7389b2a2"
   },
   "outputs": [
    {
     "name": "stdout",
     "output_type": "stream",
     "text": [
      "embeddings_clinical download started this may take some time.\n",
      "Approximate size to download 1.6 GB\n",
      "[OK!]\n"
     ]
    }
   ],
   "source": [
    "clinical_embeddings = WordEmbeddingsModel.pretrained('embeddings_clinical', \"en\", \"clinical/models\")\\\n",
    "    .setInputCols([\"sentence\", \"token\"])\\\n",
    "    .setOutputCol(\"embeddings\")"
   ]
  },
  {
   "cell_type": "markdown",
   "metadata": {
    "id": "bfT1AaKvOG4J"
   },
   "source": [
    "## Download Data for Training (NCBI Disease Dataset)"
   ]
  },
  {
   "cell_type": "code",
   "execution_count": 6,
   "metadata": {
    "id": "KMOycTPUcty7"
   },
   "outputs": [],
   "source": [
    "!wget -q https://raw.githubusercontent.com/JohnSnowLabs/spark-nlp-workshop/master/tutorials/Certification_Trainings/Healthcare/data/NCBI_disease_official_test.conll\n",
    "!wget -q https://raw.githubusercontent.com/JohnSnowLabs/spark-nlp-workshop/master/tutorials/Certification_Trainings/Healthcare/data/NCBI_disease_official_train_dev.conll"
   ]
  },
  {
   "cell_type": "code",
   "execution_count": 7,
   "metadata": {
    "colab": {
     "base_uri": "https://localhost:8080/"
    },
    "id": "FetZIfagc-eh",
    "outputId": "17d42e95-6300-4aef-a041-76ad6c2cd97c"
   },
   "outputs": [
    {
     "name": "stdout",
     "output_type": "stream",
     "text": [
      "+--------------------+--------------------+--------------------+--------------------+--------------------+--------------------+\n",
      "|                text|            document|            sentence|               token|                 pos|               label|\n",
      "+--------------------+--------------------+--------------------+--------------------+--------------------+--------------------+\n",
      "|Identification of...|[[document, 0, 89...|[[document, 0, 89...|[[token, 0, 13, I...|[[pos, 0, 13, NN,...|[[named_entity, 0...|\n",
      "|The adenomatous p...|[[document, 0, 21...|[[document, 0, 21...|[[token, 0, 2, Th...|[[pos, 0, 2, NN, ...|[[named_entity, 0...|\n",
      "|Complex formation...|[[document, 0, 63...|[[document, 0, 63...|[[token, 0, 6, Co...|[[pos, 0, 6, NN, ...|[[named_entity, 0...|\n",
      "+--------------------+--------------------+--------------------+--------------------+--------------------+--------------------+\n",
      "only showing top 3 rows\n",
      "\n"
     ]
    }
   ],
   "source": [
    "from sparknlp.training import CoNLL\n",
    "\n",
    "training_data = CoNLL().readDataset(spark, 'NCBI_disease_official_train_dev.conll')\n",
    "\n",
    "training_data.show(3)"
   ]
  },
  {
   "cell_type": "code",
   "execution_count": 8,
   "metadata": {
    "colab": {
     "base_uri": "https://localhost:8080/"
    },
    "id": "Fm1bfPJidC9X",
    "outputId": "6ac98a41-bce3-4af1-b5fc-6dfed4a98916"
   },
   "outputs": [
    {
     "name": "stdout",
     "output_type": "stream",
     "text": [
      "+--------------------+--------------------+--------------------+--------------------+--------------------+--------------------+\n",
      "|                text|            document|            sentence|               token|                 pos|               label|\n",
      "+--------------------+--------------------+--------------------+--------------------+--------------------+--------------------+\n",
      "|Clustering of mis...|[[document, 0, 10...|[[document, 0, 10...|[[token, 0, 9, Cl...|[[pos, 0, 9, NN, ...|[[named_entity, 0...|\n",
      "|Ataxia - telangie...|[[document, 0, 13...|[[document, 0, 13...|[[token, 0, 5, At...|[[pos, 0, 5, NN, ...|[[named_entity, 0...|\n",
      "|The risk of cance...|[[document, 0, 15...|[[document, 0, 15...|[[token, 0, 2, Th...|[[pos, 0, 2, NN, ...|[[named_entity, 0...|\n",
      "+--------------------+--------------------+--------------------+--------------------+--------------------+--------------------+\n",
      "only showing top 3 rows\n",
      "\n"
     ]
    }
   ],
   "source": [
    "from sparknlp.training import CoNLL\n",
    "\n",
    "test_data = CoNLL().readDataset(spark, 'NCBI_disease_official_test.conll')\n",
    "\n",
    "test_data.show(3)"
   ]
  },
  {
   "cell_type": "code",
   "execution_count": 9,
   "metadata": {
    "id": "D_gInTNZRhnC"
   },
   "outputs": [],
   "source": [
    "# save the test data as parquet for easy testing\n",
    "clinical_embeddings.transform(test_data).write.parquet('test.parquet')"
   ]
  },
  {
   "cell_type": "markdown",
   "metadata": {
    "id": "WX2jO2FPRo6Q"
   },
   "source": [
    "## Train a new model, pause, and resume training on the same dataset."
   ]
  },
  {
   "cell_type": "markdown",
   "metadata": {
    "id": "tc2Uoh_YR3dA"
   },
   "source": [
    "### Create a graph"
   ]
  },
  {
   "cell_type": "code",
   "execution_count": null,
   "metadata": {
    "id": "WFzmo-JzRs3x"
   },
   "outputs": [],
   "source": [
    "from sparknlp_jsl.training import tf_graph\n",
    "%tensorflow_version 1.x\n",
    "tf_graph.print_model_params(\"ner_dl\")\n",
    "\n",
    "tf_graph.build(\"ner_dl\", build_params={\"embeddings_dim\": 200, \"nchars\": 128, \"ntags\": 12, \"is_medical\": 1}, model_location=\"./medical_ner_graphs\", model_filename=\"auto\")\n"
   ]
  },
  {
   "cell_type": "markdown",
   "metadata": {
    "id": "PT5pF7V7R69G"
   },
   "source": [
    "### Train for 2 epochs"
   ]
  },
  {
   "cell_type": "code",
   "execution_count": 11,
   "metadata": {
    "id": "X7J4j069R9ty"
   },
   "outputs": [],
   "source": [
    "nerTagger = MedicalNerApproach()\\\n",
    "      .setInputCols([\"sentence\", \"token\", \"embeddings\"])\\\n",
    "      .setLabelColumn(\"label\")\\\n",
    "      .setOutputCol(\"ner\")\\\n",
    "      .setMaxEpochs(2)\\\n",
    "      .setLr(0.003)\\\n",
    "      .setBatchSize(8)\\\n",
    "      .setRandomSeed(0)\\\n",
    "      .setVerbose(1)\\\n",
    "      .setEvaluationLogExtended(True) \\\n",
    "      .setEnableOutputLogs(True)\\\n",
    "      .setIncludeConfidence(True)\\\n",
    "      .setTestDataset('./test.parquet')\\\n",
    "      .setGraphFolder('./medical_ner_graphs')\\\n",
    "      .setOutputLogsPath('./ner_logs')\n",
    "\n",
    "ner_pipeline = Pipeline(stages=[\n",
    "      clinical_embeddings,\n",
    "      nerTagger\n",
    " ])"
   ]
  },
  {
   "cell_type": "code",
   "execution_count": 12,
   "metadata": {
    "colab": {
     "base_uri": "https://localhost:8080/"
    },
    "id": "u5Phv3rFSBR_",
    "outputId": "1492c4e9-8488-4596-effc-915a06755b4a"
   },
   "outputs": [
    {
     "name": "stdout",
     "output_type": "stream",
     "text": [
      "CPU times: user 2.78 s, sys: 280 ms, total: 3.06 s\n",
      "Wall time: 8min 52s\n"
     ]
    }
   ],
   "source": [
    "\n",
    "%%time\n",
    "ner_model = ner_pipeline.fit(training_data)\n"
   ]
  },
  {
   "cell_type": "code",
   "execution_count": 27,
   "metadata": {
    "colab": {
     "base_uri": "https://localhost:8080/"
    },
    "id": "sPZ2tmHFSBUy",
    "outputId": "598171f2-6a0a-4113-b9e7-36e8c951733e"
   },
   "outputs": [
    {
     "name": "stdout",
     "output_type": "stream",
     "text": [
      "Name of the selected graph: /content/./medical_ner_graphs/blstm_12_200_128_128.pb\n",
      "Training started - total epochs: 2 - lr: 0.003 - batch size: 8 - labels: 3 - chars: 84 - training examples: 6347\n",
      "\n",
      "\n",
      "Epoch 1/2 started, lr: 0.003, dataset size: 6347\n",
      "\n",
      "\n",
      "Epoch 1/2 - 214.52s - loss: 1841.0598 - batches: 795\n",
      "Quality on test dataset: \n",
      "time to finish evaluation: 14.19s\n",
      "label\t tp\t fp\t fn\t prec\t rec\t f1\n",
      "I-Disease\t 960\t 317\t 127\t 0.7517619\t 0.88316464\t 0.81218266\n",
      "B-Disease\t 771\t 181\t 189\t 0.80987394\t 0.803125\t 0.80648535\n",
      "tp: 1731 fp: 498 fn: 316 labels: 2\n",
      "Macro-average\t prec: 0.7808179, rec: 0.84314483, f1: 0.81078535\n",
      "Micro-average\t prec: 0.7765814, rec: 0.8456277, f1: 0.80963516\n",
      "\n",
      "\n",
      "Epoch 2/2 started, lr: 0.0029850747, dataset size: 6347\n",
      "\n",
      "\n",
      "Epoch 2/2 - 242.99s - loss: 754.204 - batches: 795\n",
      "Quality on test dataset: \n",
      "time to finish evaluation: 12.79s\n",
      "label\t tp\t fp\t fn\t prec\t rec\t f1\n",
      "I-Disease\t 953\t 152\t 134\t 0.86244345\t 0.87672496\t 0.86952555\n",
      "B-Disease\t 852\t 132\t 108\t 0.86585367\t 0.8875\t 0.8765433\n",
      "tp: 1805 fp: 284 fn: 242 labels: 2\n",
      "Macro-average\t prec: 0.86414856, rec: 0.8821125, f1: 0.8730381\n",
      "Micro-average\t prec: 0.8640498, rec: 0.88177824, f1: 0.872824\n"
     ]
    }
   ],
   "source": [
    "! cat ner_logs/MedicalNerApproach_372ae93d46cc.log"
   ]
  },
  {
   "cell_type": "markdown",
   "metadata": {
    "id": "qLKJpTfKWLwC"
   },
   "source": [
    "### Evaluate"
   ]
  },
  {
   "cell_type": "code",
   "execution_count": 14,
   "metadata": {
    "colab": {
     "base_uri": "https://localhost:8080/"
    },
    "id": "Ec5aux5DSBXE",
    "outputId": "225851f8-4927-4eec-9661-ef305f68ba6e"
   },
   "outputs": [
    {
     "name": "stdout",
     "output_type": "stream",
     "text": [
      "+-------+-----+-----+-----+-----+---------+------+------+\n",
      "| entity|   tp|   fp|   fn|total|precision|recall|    f1|\n",
      "+-------+-----+-----+-----+-----+---------+------+------+\n",
      "|Disease|832.0|152.0|123.0|955.0|   0.8455|0.8712|0.8582|\n",
      "+-------+-----+-----+-----+-----+---------+------+------+\n",
      "\n",
      "+------------------+\n",
      "|             macro|\n",
      "+------------------+\n",
      "|0.8581743166580712|\n",
      "+------------------+\n",
      "\n",
      "None\n",
      "+------------------+\n",
      "|             micro|\n",
      "+------------------+\n",
      "|0.8581743166580712|\n",
      "+------------------+\n",
      "\n",
      "None\n"
     ]
    }
   ],
   "source": [
    "from sparknlp_jsl.eval import NerDLMetrics\n",
    "import pyspark.sql.functions as F\n",
    "\n",
    "pred_df = ner_model.stages[1].transform(clinical_embeddings.transform(test_data))\n",
    "\n",
    "evaler = NerDLMetrics(mode=\"full_chunk\", dropO=True)\n",
    "\n",
    "eval_result = evaler.computeMetricsFromDF(pred_df.select(\"label\",\"ner\"), prediction_col=\"ner\", label_col=\"label\").cache()\n",
    "\n",
    "eval_result.withColumn(\"precision\", F.round(eval_result[\"precision\"],4))\\\n",
    "    .withColumn(\"recall\", F.round(eval_result[\"recall\"],4))\\\n",
    "    .withColumn(\"f1\", F.round(eval_result[\"f1\"],4)).show(100)\n",
    "\n",
    "print(eval_result.selectExpr(\"avg(f1) as macro\").show())\n",
    "print (eval_result.selectExpr(\"sum(f1*total) as sumprod\",\"sum(total) as sumtotal\").selectExpr(\"sumprod/sumtotal as micro\").show())"
   ]
  },
  {
   "cell_type": "markdown",
   "metadata": {
    "id": "77HQ3yYyT-RZ"
   },
   "source": [
    "### Save the model to disk"
   ]
  },
  {
   "cell_type": "code",
   "execution_count": 15,
   "metadata": {
    "id": "_KEUa1yaSBZW"
   },
   "outputs": [],
   "source": [
    "ner_model.stages[1].write().overwrite().save('models/NCBI_NER_2_epoch')"
   ]
  },
  {
   "cell_type": "markdown",
   "metadata": {
    "id": "y_U4mQcXUTg7"
   },
   "source": [
    "### Train using the saved model"
   ]
  },
  {
   "cell_type": "code",
   "execution_count": 16,
   "metadata": {
    "id": "dgFviuf5SBei"
   },
   "outputs": [],
   "source": [
    "\n",
    "nerTagger = MedicalNerApproach()\\\n",
    "      .setInputCols([\"sentence\", \"token\", \"embeddings\"])\\\n",
    "      .setLabelColumn(\"label\")\\\n",
    "      .setOutputCol(\"ner\")\\\n",
    "      .setMaxEpochs(2)\\\n",
    "      .setLr(0.003)\\\n",
    "      .setBatchSize(8)\\\n",
    "      .setRandomSeed(0)\\\n",
    "      .setVerbose(1)\\\n",
    "      .setEvaluationLogExtended(True) \\\n",
    "      .setEnableOutputLogs(True)\\\n",
    "      .setIncludeConfidence(True)\\\n",
    "      .setTestDataset('/content/test.parquet')\\\n",
    "      .setOutputLogsPath('ner_logs')\\\n",
    "      .setGraphFolder('medical_ner_graphs')\\\n",
    "      .setPretrainedModelPath(\"models/NCBI_NER_2_epoch\") ## load exisitng model\n",
    "    \n",
    "ner_pipeline = Pipeline(stages=[\n",
    "      clinical_embeddings,\n",
    "      nerTagger\n",
    " ])"
   ]
  },
  {
   "cell_type": "code",
   "execution_count": 17,
   "metadata": {
    "colab": {
     "base_uri": "https://localhost:8080/"
    },
    "id": "xVZGKEsKUSrS",
    "outputId": "69890813-c541-4e0b-d693-e5391f8dfdb4"
   },
   "outputs": [
    {
     "name": "stdout",
     "output_type": "stream",
     "text": [
      "CPU times: user 6.38 s, sys: 632 ms, total: 7.02 s\n",
      "Wall time: 20min 24s\n"
     ]
    }
   ],
   "source": [
    "\n",
    "%%time\n",
    "ner_model_retrained = ner_pipeline.fit(training_data)\n"
   ]
  },
  {
   "cell_type": "code",
   "execution_count": 25,
   "metadata": {
    "colab": {
     "base_uri": "https://localhost:8080/"
    },
    "id": "zVTfOVnIgwpP",
    "outputId": "7a46d242-8862-4c30-ee29-9f7e5ce9aa83"
   },
   "outputs": [
    {
     "name": "stdout",
     "output_type": "stream",
     "text": [
      "Name of the selected graph: pretrained graph\n",
      "Training started - total epochs: 5 - lr: 0.003 - batch size: 8 - labels: 3 - chars: 84 - training examples: 6347\n",
      "\n",
      "\n",
      "Epoch 1/5 started, lr: 0.003, dataset size: 6347\n",
      "\n",
      "\n",
      "Epoch 1/5 - 219.99s - loss: 594.5702 - batches: 795\n",
      "Quality on test dataset: \n",
      "time to finish evaluation: 13.01s\n",
      "label\t tp\t fp\t fn\t prec\t rec\t f1\n",
      "I-Disease\t 1013\t 274\t 74\t 0.7871018\t 0.93192273\t 0.853412\n",
      "B-Disease\t 844\t 200\t 116\t 0.8084291\t 0.87916666\t 0.8423153\n",
      "tp: 1857 fp: 474 fn: 190 labels: 2\n",
      "Macro-average\t prec: 0.7977655, rec: 0.9055447, f1: 0.8482451\n",
      "Micro-average\t prec: 0.7966538, rec: 0.90718126, f1: 0.84833264\n",
      "\n",
      "\n",
      "Epoch 2/5 started, lr: 0.0029850747, dataset size: 6347\n",
      "\n",
      "\n",
      "Epoch 2/5 - 223.11s - loss: 518.59485 - batches: 795\n",
      "Quality on test dataset: \n",
      "time to finish evaluation: 12.49s\n",
      "label\t tp\t fp\t fn\t prec\t rec\t f1\n",
      "I-Disease\t 919\t 106\t 168\t 0.89658535\t 0.84544617\t 0.87026507\n",
      "B-Disease\t 830\t 121\t 130\t 0.8727655\t 0.8645833\t 0.86865515\n",
      "tp: 1749 fp: 227 fn: 298 labels: 2\n",
      "Macro-average\t prec: 0.8846754, rec: 0.85501474, f1: 0.86959225\n",
      "Micro-average\t prec: 0.88512146, rec: 0.8544211, f1: 0.86950034\n",
      "\n",
      "\n",
      "Epoch 3/5 started, lr: 0.0029702971, dataset size: 6347\n",
      "\n",
      "\n",
      "Epoch 3/5 - 223.80s - loss: 463.44373 - batches: 795\n",
      "Quality on test dataset: \n",
      "time to finish evaluation: 12.30s\n",
      "label\t tp\t fp\t fn\t prec\t rec\t f1\n",
      "I-Disease\t 1000\t 240\t 87\t 0.8064516\t 0.9199632\t 0.85947573\n",
      "B-Disease\t 831\t 162\t 129\t 0.83685803\t 0.865625\t 0.85099846\n",
      "tp: 1831 fp: 402 fn: 216 labels: 2\n",
      "Macro-average\t prec: 0.8216548, rec: 0.89279413, f1: 0.8557486\n",
      "Micro-average\t prec: 0.8199731, rec: 0.89447975, f1: 0.85560745\n",
      "\n",
      "\n",
      "Epoch 4/5 started, lr: 0.002955665, dataset size: 6347\n",
      "\n",
      "\n",
      "Epoch 4/5 - 225.59s - loss: 413.78076 - batches: 795\n",
      "Quality on test dataset: \n",
      "time to finish evaluation: 12.40s\n",
      "label\t tp\t fp\t fn\t prec\t rec\t f1\n",
      "I-Disease\t 888\t 90\t 199\t 0.90797544\t 0.8169273\t 0.8600484\n",
      "B-Disease\t 830\t 106\t 130\t 0.8867521\t 0.8645833\t 0.8755275\n",
      "tp: 1718 fp: 196 fn: 329 labels: 2\n",
      "Macro-average\t prec: 0.8973638, rec: 0.84075534, f1: 0.8681377\n",
      "Micro-average\t prec: 0.89759666, rec: 0.83927697, f1: 0.8674577\n",
      "\n",
      "\n",
      "Epoch 5/5 started, lr: 0.0029411765, dataset size: 6347\n",
      "\n",
      "\n",
      "Epoch 5/5 - 236.94s - loss: 394.9373 - batches: 795\n",
      "Quality on test dataset: \n",
      "time to finish evaluation: 12.23s\n",
      "label\t tp\t fp\t fn\t prec\t rec\t f1\n",
      "I-Disease\t 958\t 135\t 129\t 0.8764867\t 0.88132477\t 0.87889904\n",
      "B-Disease\t 841\t 114\t 119\t 0.8806283\t 0.87604165\t 0.8783289\n",
      "tp: 1799 fp: 249 fn: 248 labels: 2\n",
      "Macro-average\t prec: 0.8785575, rec: 0.8786832, f1: 0.8786203\n",
      "Micro-average\t prec: 0.87841797, rec: 0.8788471, f1: 0.87863255\n"
     ]
    }
   ],
   "source": [
    "!cat ./ner_logs/MedicalNerApproach_11757a341252.log"
   ]
  },
  {
   "cell_type": "code",
   "execution_count": 19,
   "metadata": {
    "colab": {
     "base_uri": "https://localhost:8080/"
    },
    "id": "K_vg2Ajse6aZ",
    "outputId": "99b5ff9c-c571-40d5-be35-ef8cbd64e904"
   },
   "outputs": [
    {
     "name": "stdout",
     "output_type": "stream",
     "text": [
      "+-------+-----+-----+-----+-----+---------+------+------+\n",
      "| entity|   tp|   fp|   fn|total|precision|recall|    f1|\n",
      "+-------+-----+-----+-----+-----+---------+------+------+\n",
      "|Disease|825.0|126.0|130.0|955.0|   0.8675|0.8639|0.8657|\n",
      "+-------+-----+-----+-----+-----+---------+------+------+\n",
      "\n",
      "+------------------+\n",
      "|             macro|\n",
      "+------------------+\n",
      "|0.8656873032528857|\n",
      "+------------------+\n",
      "\n",
      "None\n",
      "+------------------+\n",
      "|             micro|\n",
      "+------------------+\n",
      "|0.8656873032528857|\n",
      "+------------------+\n",
      "\n",
      "None\n"
     ]
    }
   ],
   "source": [
    "from sparknlp_jsl.eval import NerDLMetrics\n",
    "import pyspark.sql.functions as F\n",
    "\n",
    "pred_df = ner_model_retrained.stages[1].transform(clinical_embeddings.transform(test_data))\n",
    "\n",
    "evaler = NerDLMetrics(mode=\"full_chunk\", dropO=True)\n",
    "\n",
    "eval_result = evaler.computeMetricsFromDF(pred_df.select(\"label\",\"ner\"), prediction_col=\"ner\", label_col=\"label\").cache()\n",
    "\n",
    "eval_result.withColumn(\"precision\", F.round(eval_result[\"precision\"],4))\\\n",
    "    .withColumn(\"recall\", F.round(eval_result[\"recall\"],4))\\\n",
    "    .withColumn(\"f1\", F.round(eval_result[\"f1\"],4)).show(100)\n",
    "\n",
    "print(eval_result.selectExpr(\"avg(f1) as macro\").show())\n",
    "print (eval_result.selectExpr(\"sum(f1*total) as sumprod\",\"sum(total) as sumtotal\").selectExpr(\"sumprod/sumtotal as micro\").show())"
   ]
  },
  {
   "cell_type": "markdown",
   "metadata": {
    "id": "rw0jTK2RbMAi"
   },
   "source": [
    "## Now let's take a model trained on a different dataset and train using new data"
   ]
  },
  {
   "cell_type": "code",
   "execution_count": 20,
   "metadata": {
    "colab": {
     "base_uri": "https://localhost:8080/"
    },
    "id": "U2eVAVhfUSt0",
    "outputId": "5dd39d46-be62-47b1-ed4c-6c9cf8d1c3d8"
   },
   "outputs": [
    {
     "name": "stdout",
     "output_type": "stream",
     "text": [
      "ner_jsl download started this may take some time.\n",
      "Approximate size to download 14.5 MB\n",
      "[OK!]\n"
     ]
    },
    {
     "data": {
      "text/plain": [
       "['O',\n",
       " 'B-Injury_or_Poisoning',\n",
       " 'B-Direction',\n",
       " 'B-Test',\n",
       " 'I-Route',\n",
       " 'B-Admission_Discharge',\n",
       " 'B-Death_Entity',\n",
       " 'I-Oxygen_Therapy',\n",
       " 'I-Drug_BrandName',\n",
       " 'B-Relationship_Status',\n",
       " 'B-Duration',\n",
       " 'I-Alcohol',\n",
       " 'I-Triglycerides',\n",
       " 'I-Date',\n",
       " 'B-Respiration',\n",
       " 'B-Hyperlipidemia',\n",
       " 'I-Test',\n",
       " 'B-Birth_Entity',\n",
       " 'I-VS_Finding',\n",
       " 'B-Age',\n",
       " 'I-Social_History_Header',\n",
       " 'B-Labour_Delivery',\n",
       " 'I-Medical_Device',\n",
       " 'B-Family_History_Header',\n",
       " 'B-BMI',\n",
       " 'I-Fetus_NewBorn',\n",
       " 'I-BMI',\n",
       " 'B-Temperature',\n",
       " 'I-Section_Header',\n",
       " 'I-Communicable_Disease',\n",
       " 'I-ImagingFindings',\n",
       " 'I-Psychological_Condition',\n",
       " 'I-Obesity',\n",
       " 'I-Sexually_Active_or_Sexual_Orientation',\n",
       " 'I-Modifier',\n",
       " 'B-Alcohol',\n",
       " 'I-Temperature',\n",
       " 'I-Vaccine',\n",
       " 'I-Symptom',\n",
       " 'B-Kidney_Disease',\n",
       " 'I-Pulse',\n",
       " 'B-Oncological',\n",
       " 'I-EKG_Findings',\n",
       " 'B-Medical_History_Header',\n",
       " 'I-Relationship_Status',\n",
       " 'I-Blood_Pressure',\n",
       " 'B-Cerebrovascular_Disease',\n",
       " 'I-Diabetes',\n",
       " 'B-Oxygen_Therapy',\n",
       " 'B-O2_Saturation',\n",
       " 'B-Psychological_Condition',\n",
       " 'B-Heart_Disease',\n",
       " 'I-Frequency',\n",
       " 'B-Employment',\n",
       " 'B-Obesity',\n",
       " 'B-Disease_Syndrome_Disorder',\n",
       " 'I-Oncological',\n",
       " 'B-Pregnancy',\n",
       " 'I-RelativeDate',\n",
       " 'I-Procedure',\n",
       " 'B-ImagingFindings',\n",
       " 'I-Overweight',\n",
       " 'B-Procedure',\n",
       " 'I-Labour_Delivery',\n",
       " 'B-Medical_Device',\n",
       " 'I-Family_History_Header',\n",
       " 'B-Race_Ethnicity',\n",
       " 'I-Hypertension',\n",
       " 'I-External_body_part_or_region',\n",
       " 'I-Imaging_Technique',\n",
       " 'I-Kidney_Disease',\n",
       " 'B-Section_Header',\n",
       " 'I-Medical_History_Header',\n",
       " 'I-Test_Result',\n",
       " 'I-Direction',\n",
       " 'I-Treatment',\n",
       " 'B-Symptom',\n",
       " 'I-Substance',\n",
       " 'B-Treatment',\n",
       " 'B-Substance',\n",
       " 'I-Clinical_Dept',\n",
       " 'I-Death_Entity',\n",
       " 'B-Route',\n",
       " 'B-Drug_Ingredient',\n",
       " 'I-LDL',\n",
       " 'I-Heart_Disease',\n",
       " 'I-Duration',\n",
       " 'B-Blood_Pressure',\n",
       " 'I-Respiration',\n",
       " 'B-Diet',\n",
       " 'I-Age',\n",
       " 'B-External_body_part_or_region',\n",
       " 'B-LDL',\n",
       " 'B-VS_Finding',\n",
       " 'I-O2_Saturation',\n",
       " 'I-Race_Ethnicity',\n",
       " 'I-Substance_Quantity',\n",
       " 'B-Allergen',\n",
       " 'B-EKG_Findings',\n",
       " 'B-Imaging_Technique',\n",
       " 'I-Diet',\n",
       " 'I-Gender',\n",
       " 'I-Allergen',\n",
       " 'B-Triglycerides',\n",
       " 'B-RelativeTime',\n",
       " 'I-Disease_Syndrome_Disorder',\n",
       " 'B-Gender',\n",
       " 'I-Injury_or_Poisoning',\n",
       " 'B-Pulse',\n",
       " 'I-Total_Cholesterol',\n",
       " 'B-Social_History_Header',\n",
       " 'I-Cerebrovascular_Disease',\n",
       " 'B-Substance_Quantity',\n",
       " 'B-Diabetes',\n",
       " 'I-Admission_Discharge',\n",
       " 'B-Modifier',\n",
       " 'B-Internal_organ_or_component',\n",
       " 'B-Clinical_Dept',\n",
       " 'I-Internal_organ_or_component',\n",
       " 'I-RelativeTime',\n",
       " 'I-Vital_Signs_Header',\n",
       " 'I-Hyperlipidemia',\n",
       " 'I-Smoking',\n",
       " 'I-Height',\n",
       " 'I-Drug_Ingredient',\n",
       " 'B-Form',\n",
       " 'I-Employment',\n",
       " 'B-Drug_BrandName',\n",
       " 'B-Strength',\n",
       " 'B-Fetus_NewBorn',\n",
       " 'B-RelativeDate',\n",
       " 'I-Weight',\n",
       " 'B-Height',\n",
       " 'B-Test_Result',\n",
       " 'B-Sexually_Active_or_Sexual_Orientation',\n",
       " 'B-Frequency',\n",
       " 'B-Time',\n",
       " 'I-Strength',\n",
       " 'B-Weight',\n",
       " 'B-Vaccine',\n",
       " 'I-Pregnancy',\n",
       " 'I-Form',\n",
       " 'B-Vital_Signs_Header',\n",
       " 'I-Dosage',\n",
       " 'I-Time',\n",
       " 'B-Communicable_Disease',\n",
       " 'B-Dosage',\n",
       " 'B-Overweight',\n",
       " 'B-Hypertension',\n",
       " 'B-HDL',\n",
       " 'B-Total_Cholesterol',\n",
       " 'I-HDL',\n",
       " 'B-Smoking',\n",
       " 'B-Date']"
      ]
     },
     "execution_count": 20,
     "metadata": {
      "tags": []
     },
     "output_type": "execute_result"
    }
   ],
   "source": [
    "jsl_ner = MedicalNerModel.pretrained('ner_jsl','en','clinical/models')\n",
    "\n",
    "jsl_ner.getClasses()"
   ]
  },
  {
   "cell_type": "markdown",
   "metadata": {
    "id": "EL0NQ88ofMur"
   },
   "source": [
    "### Now train a model using this model as base"
   ]
  },
  {
   "cell_type": "code",
   "execution_count": 21,
   "metadata": {
    "id": "f-zM49XJbb2j"
   },
   "outputs": [],
   "source": [
    "\n",
    "nerTagger = MedicalNerApproach()\\\n",
    "      .setInputCols([\"sentence\", \"token\", \"embeddings\"])\\\n",
    "      .setLabelColumn(\"label\")\\\n",
    "      .setOutputCol(\"ner\")\\\n",
    "      .setMaxEpochs(2)\\\n",
    "      .setLr(0.003)\\\n",
    "      .setBatchSize(8)\\\n",
    "      .setRandomSeed(0)\\\n",
    "      .setVerbose(1)\\\n",
    "      .setEvaluationLogExtended(True) \\\n",
    "      .setEnableOutputLogs(True)\\\n",
    "      .setIncludeConfidence(True)\\\n",
    "      .setTestDataset('/content/test.parquet')\\\n",
    "      .setOutputLogsPath('ner_logs')\\\n",
    "      .setGraphFolder('medical_ner_graphs')\\\n",
    "      .setPretrainedModelPath(\"/root/cache_pretrained/ner_jsl_en_3.1.0_2.4_1624566960534\")\\\n",
    "      .setOverrideExistingTags(True) # since the tags do not align, set this flag to true\n",
    "    \n",
    "# do hyperparameter by tuning the params above (max epoch, LR, dropout etc.) to get better results\n",
    "ner_pipeline = Pipeline(stages=[\n",
    "      clinical_embeddings,\n",
    "      nerTagger\n",
    " ])"
   ]
  },
  {
   "cell_type": "code",
   "execution_count": 22,
   "metadata": {
    "colab": {
     "base_uri": "https://localhost:8080/"
    },
    "id": "dXKmO-MJbb5N",
    "outputId": "f1eaf8b3-6898-4e30-cdcc-89bb32c7f72c"
   },
   "outputs": [
    {
     "name": "stdout",
     "output_type": "stream",
     "text": [
      "CPU times: user 9 s, sys: 854 ms, total: 9.85 s\n",
      "Wall time: 29min 36s\n"
     ]
    }
   ],
   "source": [
    "\n",
    "%%time\n",
    "ner_jsl_retrained = ner_pipeline.fit(training_data)\n"
   ]
  },
  {
   "cell_type": "code",
   "execution_count": 24,
   "metadata": {
    "colab": {
     "base_uri": "https://localhost:8080/"
    },
    "id": "ra_btnoXgvnF",
    "outputId": "36aceb6a-77a7-4f31-d6ed-39af35d856fc"
   },
   "outputs": [
    {
     "name": "stdout",
     "output_type": "stream",
     "text": [
      "Name of the selected graph: pretrained graph\n",
      "Training started - total epochs: 5 - lr: 0.003 - batch size: 8 - labels: 3 - chars: 84 - training examples: 6347\n",
      "\n",
      "\n",
      "Epoch 1/5 started, lr: 0.003, dataset size: 6347\n",
      "\n",
      "\n",
      "Epoch 1/5 - 292.36s - loss: 2103.3435 - batches: 795\n",
      "Quality on test dataset: \n",
      "time to finish evaluation: 68.17s\n",
      "label\t tp\t fp\t fn\t prec\t rec\t f1\n",
      "I-Disease\t 853\t 218\t 234\t 0.7964519\t 0.7847286\t 0.7905467\n",
      "B-Disease\t 759\t 188\t 201\t 0.8014783\t 0.790625\t 0.79601467\n",
      "tp: 1612 fp: 406 fn: 435 labels: 2\n",
      "Macro-average\t prec: 0.7989651, rec: 0.7876768, f1: 0.7932808\n",
      "Micro-average\t prec: 0.7988107, rec: 0.7874939, f1: 0.79311186\n",
      "\n",
      "\n",
      "Epoch 2/5 started, lr: 0.0029850747, dataset size: 6347\n",
      "\n",
      "\n",
      "Epoch 2/5 - 300.79s - loss: 978.90295 - batches: 795\n",
      "Quality on test dataset: \n",
      "time to finish evaluation: 48.62s\n",
      "label\t tp\t fp\t fn\t prec\t rec\t f1\n",
      "I-Disease\t 905\t 165\t 182\t 0.8457944\t 0.8325667\t 0.83912843\n",
      "B-Disease\t 792\t 144\t 168\t 0.84615386\t 0.825\t 0.835443\n",
      "tp: 1697 fp: 309 fn: 350 labels: 2\n",
      "Macro-average\t prec: 0.8459741, rec: 0.82878333, f1: 0.8372904\n",
      "Micro-average\t prec: 0.8459621, rec: 0.82901806, f1: 0.8374044\n",
      "\n",
      "\n",
      "Epoch 3/5 started, lr: 0.0029702971, dataset size: 6347\n",
      "\n",
      "\n",
      "Epoch 3/5 - 299.86s - loss: 831.4408 - batches: 795\n",
      "Quality on test dataset: \n",
      "time to finish evaluation: 48.57s\n",
      "label\t tp\t fp\t fn\t prec\t rec\t f1\n",
      "I-Disease\t 997\t 263\t 90\t 0.79126984\t 0.9172033\t 0.84959525\n",
      "B-Disease\t 832\t 165\t 128\t 0.83450353\t 0.8666667\t 0.85028106\n",
      "tp: 1829 fp: 428 fn: 218 labels: 2\n",
      "Macro-average\t prec: 0.8128867, rec: 0.891935, f1: 0.8505782\n",
      "Micro-average\t prec: 0.81036776, rec: 0.8935027, f1: 0.84990704\n",
      "\n",
      "\n",
      "Epoch 4/5 started, lr: 0.002955665, dataset size: 6347\n",
      "\n",
      "\n",
      "Epoch 4/5 - 297.23s - loss: 744.5882 - batches: 795\n",
      "Quality on test dataset: \n",
      "time to finish evaluation: 48.59s\n",
      "label\t tp\t fp\t fn\t prec\t rec\t f1\n",
      "I-Disease\t 944\t 134\t 143\t 0.8756957\t 0.8684453\t 0.8720554\n",
      "B-Disease\t 807\t 140\t 153\t 0.85216475\t 0.840625\t 0.8463555\n",
      "tp: 1751 fp: 274 fn: 296 labels: 2\n",
      "Macro-average\t prec: 0.8639302, rec: 0.8545351, f1: 0.859207\n",
      "Micro-average\t prec: 0.8646914, rec: 0.8553981, f1: 0.8600197\n",
      "\n",
      "\n",
      "Epoch 5/5 started, lr: 0.0029411765, dataset size: 6347\n",
      "\n",
      "\n",
      "Epoch 5/5 - 297.16s - loss: 708.94604 - batches: 795\n",
      "Quality on test dataset: \n",
      "time to finish evaluation: 48.75s\n",
      "label\t tp\t fp\t fn\t prec\t rec\t f1\n",
      "I-Disease\t 974\t 201\t 113\t 0.82893616\t 0.89604414\t 0.8611848\n",
      "B-Disease\t 841\t 165\t 119\t 0.8359841\t 0.87604165\t 0.85554427\n",
      "tp: 1815 fp: 366 fn: 232 labels: 2\n",
      "Macro-average\t prec: 0.83246017, rec: 0.8860429, f1: 0.85841626\n",
      "Micro-average\t prec: 0.83218706, rec: 0.88666344, f1: 0.858562\n"
     ]
    }
   ],
   "source": [
    "!cat ./ner_logs/MedicalNerApproach_ea16f43dd897.log"
   ]
  },
  {
   "cell_type": "code",
   "execution_count": 23,
   "metadata": {
    "colab": {
     "base_uri": "https://localhost:8080/"
    },
    "id": "yKeO-Kqcbb7i",
    "outputId": "44509950-0817-4c2c-a369-b5a61d59cb27"
   },
   "outputs": [
    {
     "name": "stdout",
     "output_type": "stream",
     "text": [
      "+-------+-----+-----+-----+-----+---------+------+------+\n",
      "| entity|   tp|   fp|   fn|total|precision|recall|    f1|\n",
      "+-------+-----+-----+-----+-----+---------+------+------+\n",
      "|Disease|816.0|190.0|139.0|955.0|   0.8111|0.8545|0.8322|\n",
      "+-------+-----+-----+-----+-----+---------+------+------+\n",
      "\n",
      "+------------------+\n",
      "|             macro|\n",
      "+------------------+\n",
      "|0.8322284548699643|\n",
      "+------------------+\n",
      "\n",
      "None\n",
      "+------------------+\n",
      "|             micro|\n",
      "+------------------+\n",
      "|0.8322284548699643|\n",
      "+------------------+\n",
      "\n",
      "None\n"
     ]
    }
   ],
   "source": [
    "from sparknlp_jsl.eval import NerDLMetrics\n",
    "import pyspark.sql.functions as F\n",
    "\n",
    "pred_df = ner_jsl_retrained.stages[1].transform(clinical_embeddings.transform(test_data))\n",
    "\n",
    "evaler = NerDLMetrics(mode=\"full_chunk\", dropO=True)\n",
    "\n",
    "eval_result = evaler.computeMetricsFromDF(pred_df.select(\"label\",\"ner\"), prediction_col=\"ner\", label_col=\"label\").cache()\n",
    "\n",
    "eval_result.withColumn(\"precision\", F.round(eval_result[\"precision\"],4))\\\n",
    "    .withColumn(\"recall\", F.round(eval_result[\"recall\"],4))\\\n",
    "    .withColumn(\"f1\", F.round(eval_result[\"f1\"],4)).show(100)\n",
    "\n",
    "print(eval_result.selectExpr(\"avg(f1) as macro\").show())\n",
    "print (eval_result.selectExpr(\"sum(f1*total) as sumprod\",\"sum(total) as sumtotal\").selectExpr(\"sumprod/sumtotal as micro\").show())"
   ]
  }
 ],
 "metadata": {
  "colab": {
   "collapsed_sections": [],
   "name": "Resume_MedNer_from_model.ipynb",
   "provenance": []
  },
  "kernelspec": {
   "display_name": "Python 3",
   "language": "python",
   "name": "python3"
  },
  "language_info": {
   "codemirror_mode": {
    "name": "ipython",
    "version": 3
   },
   "file_extension": ".py",
   "mimetype": "text/x-python",
   "name": "python",
   "nbconvert_exporter": "python",
   "pygments_lexer": "ipython3",
   "version": "3.7.6"
  }
 },
 "nbformat": 4,
 "nbformat_minor": 1
}

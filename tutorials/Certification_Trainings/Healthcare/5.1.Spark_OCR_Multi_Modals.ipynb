{
 "cells": [
  {
   "cell_type": "markdown",
   "metadata": {
    "id": "340V93TJkZAO"
   },
   "source": [
    "![JohnSnowLabs](https://nlp.johnsnowlabs.com/assets/images/logo.png)"
   ]
  },
  {
   "cell_type": "markdown",
   "metadata": {
    "id": "rbEi4uEBkZAZ"
   },
   "source": [
    "[![Open In Colab](https://colab.research.google.com/assets/colab-badge.svg)](https://colab.research.google.com/github/JohnSnowLabs/spark-nlp-workshop/blob/master/tutorials/Certification_Trainings/Healthcare/5.1.Spark_OCR_Multi_Modals.ipynb)"
   ]
  },
  {
   "cell_type": "markdown",
   "metadata": {
    "id": "Niy3mZAjoayg"
   },
   "source": [
    "# Spark OCR "
   ]
  },
  {
   "cell_type": "markdown",
   "metadata": {
    "id": "YNJUQPsXvuSV"
   },
   "source": [
    "\n",
    "## Blogposts and videos\n",
    "\n",
    "- [How to Setup Spark OCR on UBUNTU - Video](https://www.youtube.com/watch?v=cmt4WIcL0nI)\n",
    "\n",
    "- [Installing Spark NLP and Spark OCR in air-gapped networks (offline mode)\n",
    "](https://medium.com/spark-nlp/installing-spark-nlp-and-spark-ocr-in-air-gapped-networks-offline-mode-f42a1ee6b7a8)\n",
    "\n",
    "- [Table Detection & Extraction in Spark OCR](https://medium.com/spark-nlp/table-detection-extraction-in-spark-ocr-50765c6cedc9)\n",
    "\n",
    "- [Signature Detection in Spark OCR](https://medium.com/spark-nlp/signature-detection-in-spark-ocr-32f9e6f91e3c)\n",
    "\n",
    "- [GPU image pre-processing in Spark OCR](https://medium.com/spark-nlp/gpu-image-pre-processing-in-spark-ocr-3-1-0-6fc27560a9bb)\n",
    "\n",
    "**More examples here**\n",
    "\n",
    "https://github.com/JohnSnowLabs/spark-ocr-workshop"
   ]
  },
  {
   "cell_type": "markdown",
   "metadata": {
    "id": "okhT7AcXxben"
   },
   "source": [
    "**Colab Setup**"
   ]
  },
  {
   "cell_type": "code",
   "execution_count": null,
   "metadata": {
    "id": "MVf_2iqGIJ4B"
   },
   "outputs": [],
   "source": [
    "import json, os\n",
    "from google.colab import files\n",
    "\n",
    "if 'spark_jsl.json' not in os.listdir():\n",
    "  license_keys = files.upload()\n",
    "  os.rename(list(license_keys.keys())[0], 'spark_ocr.json')\n",
    "\n",
    "with open('spark_ocr.json') as f:\n",
    "    license_keys = json.load(f)\n",
    "\n",
    "# Defining license key-value pairs as local variables\n",
    "locals().update(license_keys)"
   ]
  },
  {
   "cell_type": "code",
   "execution_count": null,
   "metadata": {
    "id": "WkylJaGx-COY"
   },
   "outputs": [],
   "source": [
    "# Installing pyspark and spark-nlp\n",
    "! pip install --upgrade -q pyspark==3.2.1 spark-nlp==$PUBLIC_VERSION\n",
    "\n",
    "# Installing Spark OCR\n",
    "! pip install spark-ocr==$OCR_VERSION --extra-index-url=https://pypi.johnsnowlabs.com/$SPARK_OCR_SECRET --upgrade"
   ]
  },
  {
   "cell_type": "markdown",
   "metadata": {
    "id": "X31h1agcPBrh"
   },
   "source": [
    "<b><h1><font color='darkred'>!!! ATTENTION !!! </font><h1><b>\n",
    "\n",
    "<b>After running previous cell, <font color='darkred'>RESTART the COLAB RUNTIME </font> and go ahead.<b>"
   ]
  },
  {
   "cell_type": "code",
   "execution_count": null,
   "metadata": {
    "id": "Lx0dcQXiInzO",
    "executionInfo": {
     "status": "ok",
     "timestamp": 1671807564149,
     "user_tz": 300,
     "elapsed": 8,
     "user": {
      "displayName": "Vildan Sarıkaya",
      "userId": "07789644790967768983"
     }
    }
   },
   "outputs": [],
   "source": [
    "import json, os\n",
    "\n",
    "with open(\"spark_ocr.json\", 'r') as f:\n",
    "  license_keys = json.load(f)\n",
    "\n",
    "# Adding license key-value pairs to environment variables\n",
    "os.environ.update(license_keys)\n",
    "\n",
    "# Defining license key-value pairs as local variables\n",
    "locals().update(license_keys)"
   ]
  },
  {
   "cell_type": "code",
   "execution_count": null,
   "metadata": {
    "id": "lC4Tt3onRBJy",
    "executionInfo": {
     "status": "ok",
     "timestamp": 1671807569548,
     "user_tz": 300,
     "elapsed": 5404,
     "user": {
      "displayName": "Vildan Sarıkaya",
      "userId": "07789644790967768983"
     }
    }
   },
   "outputs": [],
   "source": [
    "import sparkocr\n",
    "import sys\n",
    "from pyspark.sql import SparkSession\n",
    "from sparkocr import start\n",
    "import base64\n",
    "from sparkocr.transformers import *\n",
    "from pyspark.ml import PipelineModel\n",
    "from pyspark.sql import functions as F\n",
    "from sparkocr.enums import *\n",
    "from sparkocr.utils import display_images"
   ]
  },
  {
   "cell_type": "code",
   "execution_count": null,
   "metadata": {
    "colab": {
     "base_uri": "https://localhost:8080/"
    },
    "executionInfo": {
     "elapsed": 48411,
     "status": "ok",
     "timestamp": 1671807617952,
     "user": {
      "displayName": "Vildan Sarıkaya",
      "userId": "07789644790967768983"
     },
     "user_tz": 300
    },
    "id": "LME81NOHFjqC",
    "outputId": "5a580a1c-b336-4844-9fbe-d0ce030f27d0"
   },
   "outputs": [],
   "source": [
    "# Start spark\n",
    "spark = sparkocr.start(secret=SPARK_OCR_SECRET, \n",
    "                       nlp_version=PUBLIC_VERSION\n",
    "                       )"
   ]
  },
  {
   "cell_type": "markdown",
   "metadata": {
    "id": "UYWXzBivLcBL"
   },
   "source": [
    "## Working with tables"
   ]
  },
  {
   "cell_type": "markdown",
   "metadata": {
    "id": "BxqZWNDVsTO4"
   },
   "source": [
    "### Table Detection"
   ]
  },
  {
   "cell_type": "markdown",
   "metadata": {
    "id": "Lttmj2_3DvTm"
   },
   "source": [
    "**Load images**"
   ]
  },
  {
   "cell_type": "code",
   "execution_count": null,
   "metadata": {
    "id": "HVKJRS29sZHV",
    "executionInfo": {
     "status": "ok",
     "timestamp": 1671807619232,
     "user_tz": 300,
     "elapsed": 1285,
     "user": {
      "displayName": "Vildan Sarıkaya",
      "userId": "07789644790967768983"
     }
    }
   },
   "outputs": [],
   "source": [
    "!wget -q raw.githubusercontent.com/JohnSnowLabs/spark-ocr-workshop/master/jupyter/data/tab_images/cTDaR_t10168.jpg -P table_image/\n",
    "!wget -q raw.githubusercontent.com/JohnSnowLabs/spark-ocr-workshop/master/jupyter/data/tab_images/cTDaR_t10011.jpg -P table_image/"
   ]
  },
  {
   "cell_type": "markdown",
   "metadata": {
    "id": "1fup7iKwDxtj"
   },
   "source": [
    "**Read and display images**"
   ]
  },
  {
   "cell_type": "code",
   "execution_count": null,
   "metadata": {
    "id": "HjpQWXpfFate",
    "executionInfo": {
     "status": "ok",
     "timestamp": 1671807619233,
     "user_tz": 300,
     "elapsed": 7,
     "user": {
      "displayName": "Vildan Sarıkaya",
      "userId": "07789644790967768983"
     }
    }
   },
   "outputs": [],
   "source": [
    "from sparkocr.utils import display_tables"
   ]
  },
  {
   "cell_type": "code",
   "execution_count": null,
   "metadata": {
    "colab": {
     "base_uri": "https://localhost:8080/",
     "height": 1000
    },
    "executionInfo": {
     "elapsed": 7592,
     "status": "ok",
     "timestamp": 1671807626819,
     "user": {
      "displayName": "Vildan Sarıkaya",
      "userId": "07789644790967768983"
     },
     "user_tz": 300
    },
    "id": "7zSeSgtbtGI-",
    "outputId": "d131e34b-65ca-4167-9ef1-b66fbc75c44f"
   },
   "outputs": [],
   "source": [
    "image_df = spark.read.format(\"binaryFile\").load(\"/content/table_image/*.jpg\")\n",
    "\n",
    "display_images(BinaryToImage().transform(image_df), \"image\")"
   ]
  },
  {
   "cell_type": "markdown",
   "metadata": {
    "id": "365FO1UrD1Un"
   },
   "source": [
    "**Create OCR Pipeline**"
   ]
  },
  {
   "cell_type": "code",
   "execution_count": null,
   "metadata": {
    "colab": {
     "base_uri": "https://localhost:8080/"
    },
    "executionInfo": {
     "elapsed": 12458,
     "status": "ok",
     "timestamp": 1671807639261,
     "user": {
      "displayName": "Vildan Sarıkaya",
      "userId": "07789644790967768983"
     },
     "user_tz": 300
    },
    "id": "kn69uk9Zu_0n",
    "outputId": "08dc1910-2215-4f0d-89ec-cab564f86fe9"
   },
   "outputs": [],
   "source": [
    "binary_to_image = BinaryToImage() \n",
    "binary_to_image.setImageType(ImageType.TYPE_3BYTE_BGR)\n",
    "\n",
    "table_detector = ImageTableDetector.pretrained(\"general_model_table_detection_v2\", \"en\", \"clinical/ocr\")\n",
    "table_detector.setInputCol(\"image\")\n",
    "table_detector.setOutputCol(\"table_regions\")\n",
    "\n",
    "draw_regions = ImageDrawRegions()\n",
    "draw_regions.setInputCol(\"image\")\n",
    "draw_regions.setInputRegionsCol(\"table_regions\")\n",
    "draw_regions.setOutputCol(\"image_with_regions\")\n",
    "draw_regions.setRectColor(Color.red)\n",
    "\n",
    "pipeline = PipelineModel(stages=[\n",
    "    binary_to_image,\n",
    "    table_detector,\n",
    "    draw_regions\n",
    "])"
   ]
  },
  {
   "cell_type": "markdown",
   "metadata": {
    "id": "TAe4aAEPD7yf"
   },
   "source": [
    "**Show results**"
   ]
  },
  {
   "cell_type": "code",
   "execution_count": null,
   "metadata": {
    "colab": {
     "base_uri": "https://localhost:8080/",
     "height": 1000
    },
    "executionInfo": {
     "elapsed": 34661,
     "status": "ok",
     "timestamp": 1671807673907,
     "user": {
      "displayName": "Vildan Sarıkaya",
      "userId": "07789644790967768983"
     },
     "user_tz": 300
    },
    "id": "53dXnGQmwice",
    "outputId": "b36575ee-9cbe-4b71-8bb4-38bb3424f0e1"
   },
   "outputs": [],
   "source": [
    "result =  pipeline.transform(image_df)\n",
    "display_images(result, \"image_with_regions\")"
   ]
  },
  {
   "cell_type": "markdown",
   "metadata": {
    "id": "Jf4VMyqOEbBq"
   },
   "source": [
    "### Table Recognition"
   ]
  },
  {
   "cell_type": "code",
   "execution_count": null,
   "metadata": {
    "id": "T13zUnYhE4XX",
    "executionInfo": {
     "status": "ok",
     "timestamp": 1671807673910,
     "user_tz": 300,
     "elapsed": 30,
     "user": {
      "displayName": "Vildan Sarıkaya",
      "userId": "07789644790967768983"
     }
    }
   },
   "outputs": [],
   "source": [
    "from pyspark.sql.functions import desc, row_number, monotonically_increasing_id\n",
    "from pyspark.sql.window import Window\n",
    "import pyspark.sql.functions as f"
   ]
  },
  {
   "cell_type": "markdown",
   "metadata": {
    "id": "JZcmBA4AF92b"
   },
   "source": [
    "**Load and display the images.**"
   ]
  },
  {
   "cell_type": "code",
   "execution_count": null,
   "metadata": {
    "colab": {
     "base_uri": "https://localhost:8080/",
     "height": 1000
    },
    "executionInfo": {
     "elapsed": 29,
     "status": "ok",
     "timestamp": 1671807673911,
     "user": {
      "displayName": "Vildan Sarıkaya",
      "userId": "07789644790967768983"
     },
     "user_tz": 300
    },
    "id": "0awzgIydEeIg",
    "outputId": "eab77613-e395-49fe-a128-dc0cebdb7498"
   },
   "outputs": [],
   "source": [
    "image_df= spark.read.format(\"binaryFile\").load(\"table_image\")\n",
    "\n",
    "# add index to the dataframe\n",
    "image_df_with_seq_id = image_df.withColumn('index', row_number().over(Window.orderBy(monotonically_increasing_id())) - 1)\n",
    "\n",
    "display_images(BinaryToImage().transform(image_df), \"image\")"
   ]
  },
  {
   "cell_type": "markdown",
   "metadata": {
    "id": "E40yjxJnF1_I"
   },
   "source": [
    "**Create OCR pipeline.**"
   ]
  },
  {
   "cell_type": "code",
   "execution_count": null,
   "metadata": {
    "colab": {
     "base_uri": "https://localhost:8080/"
    },
    "executionInfo": {
     "elapsed": 16,
     "status": "ok",
     "timestamp": 1671807673911,
     "user": {
      "displayName": "Vildan Sarıkaya",
      "userId": "07789644790967768983"
     },
     "user_tz": 300
    },
    "id": "cSUgEg8lE8Sc",
    "outputId": "eee62f84-a09c-41f0-e282-451260399621"
   },
   "outputs": [],
   "source": [
    "binary_to_image = BinaryToImage()\n",
    "# need set image type for correct work TableDetection model\n",
    "binary_to_image.setImageType(ImageType.TYPE_3BYTE_BGR)\n",
    "\n",
    "table_detector = ImageTableDetector.pretrained(\"general_model_table_detection_v2\", \"en\", \"clinical/ocr\")\n",
    "table_detector.setInputCol(\"image\")\n",
    "table_detector.setOutputCol(\"region\")\n",
    "\n",
    "splitter = ImageSplitRegions()\n",
    "splitter.setInputCol(\"image\")\n",
    "splitter.setInputRegionsCol(\"region\")\n",
    "splitter.setOutputCol(\"table_image\")\n",
    "splitter.setDropCols(\"image\")\n",
    "splitter.setImageType(ImageType.TYPE_BYTE_GRAY)\n",
    "\n",
    "scaler = ImageScaler()\n",
    "scaler.setInputCol(\"table_image\")\n",
    "scaler.setOutputCol(\"scaled_image\")\n",
    "scaler.setScaleFactor(2)\n",
    "\n",
    "cell_detector = ImageTableCellDetector()\n",
    "cell_detector.setInputCol(\"scaled_image\")\n",
    "cell_detector.setOutputCol(\"cells\")\n",
    "cell_detector.setKeepInput(True)\n",
    "\n",
    "table_recognition = ImageCellsToTextTable()\n",
    "table_recognition.setInputCol(\"scaled_image\")\n",
    "table_recognition.setCellsCol('cells')\n",
    "table_recognition.setMargin(1)\n",
    "table_recognition.setStrip(True)\n",
    "table_recognition.setOutputCol('table')\n",
    "\n",
    "\n",
    "pipeline = PipelineModel(stages=[\n",
    "    binary_to_image,\n",
    "    table_detector,\n",
    "    splitter,\n",
    "    scaler,\n",
    "    cell_detector,\n",
    "    table_recognition\n",
    "])"
   ]
  },
  {
   "cell_type": "markdown",
   "metadata": {
    "id": "o8vocA5mFT2R"
   },
   "source": [
    "**Run the pipeline and display the tables in the images.**"
   ]
  },
  {
   "cell_type": "code",
   "execution_count": null,
   "metadata": {
    "colab": {
     "base_uri": "https://localhost:8080/",
     "height": 1000
    },
    "executionInfo": {
     "elapsed": 38013,
     "status": "ok",
     "timestamp": 1671807711912,
     "user": {
      "displayName": "Vildan Sarıkaya",
      "userId": "07789644790967768983"
     },
     "user_tz": 300
    },
    "id": "wQXtf6l3FAmE",
    "outputId": "d887a525-1845-4c59-dcef-a89b22d656ef"
   },
   "outputs": [],
   "source": [
    "results = pipeline.transform(image_df_with_seq_id).cache()\n",
    "display_images(results, \"table_image\")"
   ]
  },
  {
   "cell_type": "markdown",
   "metadata": {
    "id": "QpnXZcsLFSDz"
   },
   "source": [
    "**Display recognized tables**"
   ]
  },
  {
   "cell_type": "code",
   "execution_count": null,
   "metadata": {
    "colab": {
     "base_uri": "https://localhost:8080/",
     "height": 1000
    },
    "executionInfo": {
     "elapsed": 3107,
     "status": "ok",
     "timestamp": 1671807715014,
     "user": {
      "displayName": "Vildan Sarıkaya",
      "userId": "07789644790967768983"
     },
     "user_tz": 300
    },
    "id": "qFM1nApPa9wk",
    "outputId": "0712f555-ec71-44b1-f5ed-c17ccec0ddae"
   },
   "outputs": [],
   "source": [
    "display_tables(results)"
   ]
  },
  {
   "cell_type": "markdown",
   "metadata": {
    "id": "K2NlmVUbCpTk"
   },
   "source": [
    "### Table Cell Recognition"
   ]
  },
  {
   "cell_type": "markdown",
   "metadata": {
    "id": "Esw2EmGoDlTO"
   },
   "source": [
    "**Read and display images**"
   ]
  },
  {
   "cell_type": "code",
   "execution_count": null,
   "metadata": {
    "colab": {
     "base_uri": "https://localhost:8080/",
     "height": 1000
    },
    "executionInfo": {
     "elapsed": 995,
     "status": "ok",
     "timestamp": 1671807716004,
     "user": {
      "displayName": "Vildan Sarıkaya",
      "userId": "07789644790967768983"
     },
     "user_tz": 300
    },
    "id": "P3Yn8FolYm1q",
    "outputId": "ec6b168f-e17a-4c5d-a27e-baea52b9f7bf"
   },
   "outputs": [],
   "source": [
    "from sparkocr.transformers import *\n",
    "from sparkocr.enums import *\n",
    "from sparkocr.utils import display_images, display_table, display_tables\n",
    "from pyspark.ml import PipelineModel\n",
    "import pyspark.sql.functions as f\n",
    "\n",
    "import pkg_resources\n",
    "test_image_path = pkg_resources.resource_filename('sparkocr', 'resources/ocr/tableImage/table[0,2,4]*.*')\n",
    "image_df= spark.read.format(\"binaryFile\").load(test_image_path)\n",
    "\n",
    "display_images(BinaryToImage().transform(image_df), \"image\")"
   ]
  },
  {
   "cell_type": "markdown",
   "metadata": {
    "id": "jxiDot9NDel0"
   },
   "source": [
    "**Define OCR Pipeline**"
   ]
  },
  {
   "cell_type": "code",
   "execution_count": null,
   "metadata": {
    "id": "zLj4Qda5DH69",
    "executionInfo": {
     "status": "ok",
     "timestamp": 1671807716006,
     "user_tz": 300,
     "elapsed": 11,
     "user": {
      "displayName": "Vildan Sarıkaya",
      "userId": "07789644790967768983"
     }
    }
   },
   "outputs": [],
   "source": [
    "binary_to_image = BinaryToImage()\n",
    "binary_to_image.setImageType(ImageType.TYPE_BYTE_GRAY)\n",
    "binary_to_image.setInputCol(\"content\")\n",
    "\n",
    "cell_detector = ImageTableCellDetector()\n",
    "cell_detector.setInputCol(\"image\")\n",
    "cell_detector.setOutputCol(\"cells\")\n",
    "cell_detector.setKeepInput(True)\n",
    "cell_detector.setAlgoType(\"morphops\")\n",
    "cell_detector.setDrawDetectedLines(True)\n",
    "\n",
    "table_recognition = ImageCellsToTextTable()\n",
    "#table_recognition.setInputCol(\"output_image\")\n",
    "table_recognition.setInputCol(\"image\")\n",
    "table_recognition.setCellsCol('cells')\n",
    "table_recognition.setMargin(2)\n",
    "table_recognition.setStrip(True)\n",
    "table_recognition.setOutputCol('table')\n",
    "\n",
    "pipeline = PipelineModel(stages=[\n",
    "    binary_to_image,\n",
    "     cell_detector,\n",
    "     table_recognition\n",
    "])"
   ]
  },
  {
   "cell_type": "markdown",
   "metadata": {
    "id": "8RuVEbrZDZ83"
   },
   "source": [
    "**Run Pipeline**"
   ]
  },
  {
   "cell_type": "code",
   "execution_count": null,
   "metadata": {
    "id": "x-RD81dxEsZa",
    "executionInfo": {
     "status": "ok",
     "timestamp": 1671807716153,
     "user_tz": 300,
     "elapsed": 157,
     "user": {
      "displayName": "Vildan Sarıkaya",
      "userId": "07789644790967768983"
     }
    }
   },
   "outputs": [],
   "source": [
    "results = pipeline.transform(image_df).cache()"
   ]
  },
  {
   "cell_type": "code",
   "source": [
    "results= results.na.drop(subset=[\"cells\", \"output_image\", \"table\"])"
   ],
   "metadata": {
    "id": "Byy9iicW6dax",
    "executionInfo": {
     "status": "ok",
     "timestamp": 1671807716154,
     "user_tz": 300,
     "elapsed": 4,
     "user": {
      "displayName": "Vildan Sarıkaya",
      "userId": "07789644790967768983"
     }
    }
   },
   "execution_count": null,
   "outputs": []
  },
  {
   "cell_type": "code",
   "execution_count": null,
   "metadata": {
    "executionInfo": {
     "elapsed": 7970,
     "status": "ok",
     "timestamp": 1671807724120,
     "user": {
      "displayName": "Vildan Sarıkaya",
      "userId": "07789644790967768983"
     },
     "user_tz": 300
    },
    "id": "6A1u5DOpEx3F",
    "colab": {
     "base_uri": "https://localhost:8080/",
     "height": 1000
    },
    "outputId": "b546b50e-b53a-4e52-ce55-26b16646876c"
   },
   "outputs": [],
   "source": [
    "display_images(results, \"image\")"
   ]
  },
  {
   "cell_type": "code",
   "execution_count": null,
   "metadata": {
    "executionInfo": {
     "elapsed": 1374,
     "status": "ok",
     "timestamp": 1671807725481,
     "user": {
      "displayName": "Vildan Sarıkaya",
      "userId": "07789644790967768983"
     },
     "user_tz": 300
    },
    "id": "FBGPfjLtFOaR",
    "colab": {
     "base_uri": "https://localhost:8080/",
     "height": 1000
    },
    "outputId": "6d247f15-7cbe-414d-a844-562b42715b89"
   },
   "outputs": [],
   "source": [
    "display_tables(results)"
   ]
  },
  {
   "cell_type": "markdown",
   "metadata": {
    "id": "O-LCRPGVDWHq"
   },
   "source": [
    "**Show recognized cells for first image**"
   ]
  },
  {
   "cell_type": "code",
   "execution_count": null,
   "metadata": {
    "id": "WOCRvd5lDMVu",
    "executionInfo": {
     "status": "ok",
     "timestamp": 1671807725482,
     "user_tz": 300,
     "elapsed": 7,
     "user": {
      "displayName": "Vildan Sarıkaya",
      "userId": "07789644790967768983"
     }
    }
   },
   "outputs": [],
   "source": [
    "table_recognition_csv = ImageCellsToTextTable()\n",
    "table_recognition_csv.setInputCol(\"image\")\n",
    "table_recognition_csv.setCellsCol('cells')\n",
    "table_recognition_csv.setMargin(2)\n",
    "table_recognition_csv.setStrip(True)\n",
    "table_recognition_csv.setOutputCol('table')\n",
    "table_recognition_csv.setOutputFormat('csv')\n",
    "\n",
    "pipeline_csv = PipelineModel(stages=[\n",
    "    binary_to_image,\n",
    "     cell_detector,\n",
    "     table_recognition_csv\n",
    "])"
   ]
  },
  {
   "cell_type": "code",
   "execution_count": null,
   "metadata": {
    "id": "FlS6F2voICWK",
    "colab": {
     "base_uri": "https://localhost:8080/"
    },
    "executionInfo": {
     "status": "ok",
     "timestamp": 1671807731520,
     "user_tz": 300,
     "elapsed": 6044,
     "user": {
      "displayName": "Vildan Sarıkaya",
      "userId": "07789644790967768983"
     }
    },
    "outputId": "1a8c0c24-6d14-4626-a5b0-7b770e20963a"
   },
   "outputs": [],
   "source": [
    "results_csv = pipeline_csv.transform(image_df).cache()\n",
    "print(results_csv.select(\"table\").collect()[2].table)"
   ]
  },
  {
   "cell_type": "markdown",
   "metadata": {
    "id": "Xuot2n5Ocq8Z"
   },
   "source": [
    "##Handwritten Detection"
   ]
  },
  {
   "cell_type": "code",
   "execution_count": null,
   "metadata": {
    "id": "h__UlAgbcyxI",
    "executionInfo": {
     "status": "ok",
     "timestamp": 1671807731750,
     "user_tz": 300,
     "elapsed": 263,
     "user": {
      "displayName": "Vildan Sarıkaya",
      "userId": "07789644790967768983"
     }
    }
   },
   "outputs": [],
   "source": [
    "!wget -q https://raw.githubusercontent.com/JohnSnowLabs/spark-ocr-workshop/master/jupyter/data/handwritten/page1.jpeg"
   ]
  },
  {
   "cell_type": "code",
   "execution_count": null,
   "metadata": {
    "id": "EU7VGHz0c0Bz",
    "colab": {
     "base_uri": "https://localhost:8080/",
     "height": 967
    },
    "executionInfo": {
     "status": "ok",
     "timestamp": 1671807732987,
     "user_tz": 300,
     "elapsed": 1240,
     "user": {
      "displayName": "Vildan Sarıkaya",
      "userId": "07789644790967768983"
     }
    },
    "outputId": "4697820f-ddc4-4d40-e2ce-fe16702daf95"
   },
   "outputs": [],
   "source": [
    "image_df = spark.read.format(\"binaryFile\").load('page1.jpeg')\n",
    "\n",
    "display_images(BinaryToImage().transform(image_df), \"image\")"
   ]
  },
  {
   "cell_type": "code",
   "execution_count": null,
   "metadata": {
    "id": "mKHD3LJ5dASO",
    "colab": {
     "base_uri": "https://localhost:8080/"
    },
    "executionInfo": {
     "status": "ok",
     "timestamp": 1671807741383,
     "user_tz": 300,
     "elapsed": 8413,
     "user": {
      "displayName": "Vildan Sarıkaya",
      "userId": "07789644790967768983"
     }
    },
    "outputId": "54d8af27-49dc-4d7b-92c8-69b7077a9608"
   },
   "outputs": [],
   "source": [
    "binary_to_image = BinaryToImage()\n",
    "binary_to_image.setImageType(ImageType.TYPE_3BYTE_BGR)\n",
    "\n",
    "pretrained_model = (\"image_handwritten_detector_gsa0803\", \"en\", \"public/ocr/models\")\n",
    "\n",
    "handwritten_detector = ImageHandwrittenDetector() \\\n",
    "    .pretrained(*pretrained_model) \\\n",
    "    .setInputCol(\"image\") \\\n",
    "    .setOutputCol(\"handwritten_regions\") \\\n",
    "    .setScoreThreshold(0.4)\n",
    "\n",
    "draw_regions = ImageDrawRegions() \\\n",
    "    .setInputCol(\"image\") \\\n",
    "    .setInputRegionsCol(\"handwritten_regions\") \\\n",
    "    .setOutputCol(\"image_with_regions\") \\\n",
    "    .setFontSize(16) \\\n",
    "    .setRectColor(Color.red)\n",
    "\n",
    "pipeline = PipelineModel(stages=[\n",
    "    binary_to_image,\n",
    "    handwritten_detector,\n",
    "    draw_regions\n",
    "])"
   ]
  },
  {
   "cell_type": "code",
   "execution_count": null,
   "metadata": {
    "id": "JoGNgD3WdLwE",
    "colab": {
     "base_uri": "https://localhost:8080/",
     "height": 967,
     "output_embedded_package_id": "1-w2qEt4ipXqzEsbB1YJW2IzrGJtUlQXo"
    },
    "executionInfo": {
     "status": "ok",
     "timestamp": 1671807753134,
     "user_tz": 300,
     "elapsed": 11758,
     "user": {
      "displayName": "Vildan Sarıkaya",
      "userId": "07789644790967768983"
     }
    },
    "outputId": "1a5078f0-7813-43e3-f5f9-0e6c064920de"
   },
   "outputs": [],
   "source": [
    "result =  pipeline.transform(image_df).cache()\n",
    "display_images(result, \"image_with_regions\")"
   ]
  },
  {
   "cell_type": "markdown",
   "metadata": {
    "id": "41HDNNmS_aHH"
   },
   "source": [
    "##Signature Detection"
   ]
  },
  {
   "cell_type": "code",
   "execution_count": null,
   "metadata": {
    "id": "o2dUZKaV_fmH",
    "executionInfo": {
     "status": "ok",
     "timestamp": 1671807753337,
     "user_tz": 300,
     "elapsed": 217,
     "user": {
      "displayName": "Vildan Sarıkaya",
      "userId": "07789644790967768983"
     }
    }
   },
   "outputs": [],
   "source": [
    "!wget -q https://raw.githubusercontent.com/JohnSnowLabs/spark-ocr-workshop/master/jupyter/data/signature/image_147.png"
   ]
  },
  {
   "cell_type": "code",
   "execution_count": null,
   "metadata": {
    "id": "-RuR-j-i_4iA",
    "colab": {
     "base_uri": "https://localhost:8080/",
     "height": 1000,
     "output_embedded_package_id": "1LvqKTkKCzWXUoX_NxK9TxQAX8SYeImD4"
    },
    "executionInfo": {
     "status": "ok",
     "timestamp": 1671807759431,
     "user_tz": 300,
     "elapsed": 6107,
     "user": {
      "displayName": "Vildan Sarıkaya",
      "userId": "07789644790967768983"
     }
    },
    "outputId": "fe084db1-2f8b-4b0e-8cb6-73abfa41b6b4"
   },
   "outputs": [],
   "source": [
    "image_file = 'image_147.png'\n",
    "image_df = spark.read.format(\"binaryFile\").load(image_file)\n",
    "\n",
    "display_images(BinaryToImage().transform(image_df), \"image\")"
   ]
  },
  {
   "cell_type": "markdown",
   "metadata": {
    "id": "yQJyj3iHAm4H"
   },
   "source": [
    "**Define OCR Pipeline**"
   ]
  },
  {
   "cell_type": "code",
   "execution_count": null,
   "metadata": {
    "id": "1nyHluXVAj3r",
    "colab": {
     "base_uri": "https://localhost:8080/"
    },
    "executionInfo": {
     "status": "ok",
     "timestamp": 1671807762587,
     "user_tz": 300,
     "elapsed": 3174,
     "user": {
      "displayName": "Vildan Sarıkaya",
      "userId": "07789644790967768983"
     }
    },
    "outputId": "26fce854-5222-4d20-e245-8f316520760c"
   },
   "outputs": [],
   "source": [
    "binary_to_image = BinaryToImage()\n",
    "binary_to_image.setImageType(ImageType.TYPE_3BYTE_BGR)\n",
    "\n",
    "pretrained_model = (\"image_handwritten_detector_gsa0628\", \"en\", \"public/ocr/models\")\n",
    "signature_detector = ImageHandwrittenDetector() \\\n",
    "    .pretrained(*pretrained_model) \\\n",
    "    .setInputCol(\"image\") \\\n",
    "    .setOutputCol(\"signature_regions\") \\\n",
    "    .setOutputLabels([\"signature\"]) \\\n",
    "    .setScoreThreshold(0.4)\n",
    "\n",
    "draw_regions = ImageDrawRegions() \\\n",
    "    .setInputCol(\"image\") \\\n",
    "    .setInputRegionsCol(\"signature_regions\") \\\n",
    "    .setOutputCol(\"image_with_regions\") \\\n",
    "    .setFontSize(16) \\\n",
    "    .setRectColor(Color.red)\n",
    "\n",
    "pipeline = PipelineModel(stages=[\n",
    "    binary_to_image,\n",
    "    signature_detector,\n",
    "    draw_regions\n",
    "])"
   ]
  },
  {
   "cell_type": "markdown",
   "metadata": {
    "id": "Mx53uoc4A1bi"
   },
   "source": [
    "**Run pipeline and show results**"
   ]
  },
  {
   "cell_type": "code",
   "execution_count": null,
   "metadata": {
    "id": "TtrkXKUyA0SD",
    "colab": {
     "base_uri": "https://localhost:8080/",
     "height": 1000,
     "output_embedded_package_id": "1598zA9F10Sya__FWm0Krc5TsZ-RuYYw6"
    },
    "executionInfo": {
     "status": "ok",
     "timestamp": 1671807786175,
     "user_tz": 300,
     "elapsed": 23604,
     "user": {
      "displayName": "Vildan Sarıkaya",
      "userId": "07789644790967768983"
     }
    },
    "outputId": "3b9fedd7-6a13-4991-a53c-7b1c1ce150a1"
   },
   "outputs": [],
   "source": [
    "result =  pipeline.transform(image_df).cache()\n",
    "display_images(result, \"image_with_regions\")"
   ]
  },
  {
   "cell_type": "markdown",
   "metadata": {
    "id": "-zMxedfPdlKU"
   },
   "source": [
    "## Visual Document Ner"
   ]
  },
  {
   "cell_type": "code",
   "execution_count": null,
   "metadata": {
    "id": "SOB7brrodpZS",
    "executionInfo": {
     "status": "ok",
     "timestamp": 1671807786177,
     "user_tz": 300,
     "elapsed": 30,
     "user": {
      "displayName": "Vildan Sarıkaya",
      "userId": "07789644790967768983"
     }
    }
   },
   "outputs": [],
   "source": [
    "from sparkocr.transformers import ImageToHocr, VisualDocumentNer, BinaryToImage\n",
    "from sparkocr.utils import display_images, display_image"
   ]
  },
  {
   "cell_type": "code",
   "execution_count": null,
   "metadata": {
    "id": "tApZPlAQdspF",
    "colab": {
     "base_uri": "https://localhost:8080/"
    },
    "executionInfo": {
     "status": "ok",
     "timestamp": 1671807786180,
     "user_tz": 300,
     "elapsed": 32,
     "user": {
      "displayName": "Vildan Sarıkaya",
      "userId": "07789644790967768983"
     }
    },
    "outputId": "2ff21bc6-f992-4ff2-ef1b-1f311c378bb6"
   },
   "outputs": [],
   "source": [
    "import pkg_resources\n",
    "test_image_path = pkg_resources.resource_filename('sparkocr', 'resources/ocr/images/SROIE/')\n",
    "bin_df = spark.read.format(\"binaryFile\").load(test_image_path)\n",
    "bin_df.show()"
   ]
  },
  {
   "cell_type": "code",
   "execution_count": null,
   "metadata": {
    "id": "OMR-HE0xdxWg",
    "colab": {
     "base_uri": "https://localhost:8080/",
     "height": 1000
    },
    "executionInfo": {
     "status": "ok",
     "timestamp": 1671807786181,
     "user_tz": 300,
     "elapsed": 30,
     "user": {
      "displayName": "Vildan Sarıkaya",
      "userId": "07789644790967768983"
     }
    },
    "outputId": "32799430-40eb-43bf-f1e8-f3b3844e7628"
   },
   "outputs": [],
   "source": [
    "image_df = BinaryToImage().transform(bin_df)\n",
    "display_images(image_df)"
   ]
  },
  {
   "cell_type": "code",
   "execution_count": null,
   "metadata": {
    "id": "BfpudTbId04T",
    "colab": {
     "base_uri": "https://localhost:8080/"
    },
    "executionInfo": {
     "status": "ok",
     "timestamp": 1671807804149,
     "user_tz": 300,
     "elapsed": 17985,
     "user": {
      "displayName": "Vildan Sarıkaya",
      "userId": "07789644790967768983"
     }
    },
    "outputId": "559f3e53-aafa-4c5d-b057-c30ef1e6620c"
   },
   "outputs": [],
   "source": [
    "binary_to_image = BinaryToImage()\\\n",
    "    .setOutputCol(\"image\")\n",
    "\n",
    "img_to_hocr = ImageToHocr()\\\n",
    "    .setInputCol(\"image\")\\\n",
    "    .setOutputCol(\"hocr\")\\\n",
    "    .setIgnoreResolution(False)\\\n",
    "    .setOcrParams([\"preserve_interword_spaces=0\"])\n",
    "\n",
    "doc_ner = VisualDocumentNer()\\\n",
    "    .pretrained(\"visual_document_NER_SROIE0526\", \"en\", \"public/ocr/models\")\\\n",
    "    .setInputCol(\"hocr\")    \n",
    "\n",
    "# OCR pipeline\n",
    "ner_pipeline = PipelineModel(stages=[\n",
    "    binary_to_image,\n",
    "    img_to_hocr,\n",
    "    doc_ner\n",
    "])"
   ]
  },
  {
   "cell_type": "code",
   "execution_count": null,
   "metadata": {
    "id": "wFZnjSHjd9oy",
    "executionInfo": {
     "status": "ok",
     "timestamp": 1671807804341,
     "user_tz": 300,
     "elapsed": 198,
     "user": {
      "displayName": "Vildan Sarıkaya",
      "userId": "07789644790967768983"
     }
    }
   },
   "outputs": [],
   "source": [
    "results = ner_pipeline.transform(bin_df).cache()"
   ]
  },
  {
   "cell_type": "code",
   "execution_count": null,
   "metadata": {
    "id": "Lf9Om4vmhp0P",
    "colab": {
     "base_uri": "https://localhost:8080/",
     "height": 300
    },
    "executionInfo": {
     "status": "ok",
     "timestamp": 1671807818828,
     "user_tz": 300,
     "elapsed": 14490,
     "user": {
      "displayName": "Vildan Sarıkaya",
      "userId": "07789644790967768983"
     }
    },
    "outputId": "6822a546-ec54-4470-8a2f-f5d5c48f4756"
   },
   "outputs": [],
   "source": [
    "pd_df = results.select('entities').toPandas().explode('entities')\n",
    "\n",
    "pd_df['label'] = pd_df.entities.apply(lambda a : a[3])\n",
    "pd_df['chunk'] = pd_df.entities.apply(lambda a : a[4]['word'])\n",
    "pd_df[pd_df['label'] != \"O\"][['label', 'chunk']].drop_duplicates()"
   ]
  },
  {
   "cell_type": "markdown",
   "metadata": {
    "id": "zmwuTl10U4p8"
   },
   "source": [
    "## Visual Document NER v2"
   ]
  },
  {
   "cell_type": "code",
   "execution_count": null,
   "metadata": {
    "id": "Zkn3h4mWU9V7",
    "colab": {
     "base_uri": "https://localhost:8080/"
    },
    "executionInfo": {
     "status": "ok",
     "timestamp": 1671807819503,
     "user_tz": 300,
     "elapsed": 681,
     "user": {
      "displayName": "Vildan Sarıkaya",
      "userId": "07789644790967768983"
     }
    },
    "outputId": "ec9ef0f5-b1b5-45fe-f8f5-d0a34b0e3a98"
   },
   "outputs": [],
   "source": [
    "import pkg_resources\n",
    "test_image_path = pkg_resources.resource_filename('sparkocr', 'resources/ocr/forms/form1.jpg')\n",
    "bin_df = spark.read.format(\"binaryFile\").load(test_image_path)\n",
    "bin_df.show()"
   ]
  },
  {
   "cell_type": "code",
   "execution_count": null,
   "metadata": {
    "id": "wSv3_MwrVsyl",
    "colab": {
     "base_uri": "https://localhost:8080/",
     "height": 1000
    },
    "executionInfo": {
     "status": "ok",
     "timestamp": 1671807820089,
     "user_tz": 300,
     "elapsed": 594,
     "user": {
      "displayName": "Vildan Sarıkaya",
      "userId": "07789644790967768983"
     }
    },
    "outputId": "5a1e38df-6a6a-4abb-9064-59b92da61f03"
   },
   "outputs": [],
   "source": [
    "image_df = BinaryToImage().transform(bin_df)\n",
    "display_images(image_df)"
   ]
  },
  {
   "cell_type": "code",
   "execution_count": null,
   "metadata": {
    "id": "0UFkmVlBU_4Q",
    "executionInfo": {
     "status": "ok",
     "timestamp": 1671807862788,
     "user_tz": 300,
     "elapsed": 42712,
     "user": {
      "displayName": "Vildan Sarıkaya",
      "userId": "07789644790967768983"
     }
    }
   },
   "outputs": [],
   "source": [
    "binary_to_image = BinaryToImage()\\\n",
    "    .setOutputCol(\"image\") \\\n",
    "    .setImageType(ImageType.TYPE_3BYTE_BGR)\n",
    "\n",
    "img_to_hocr = ImageToHocr()\\\n",
    "    .setInputCol(\"image\")\\\n",
    "    .setOutputCol(\"hocr\")\\\n",
    "    .setIgnoreResolution(False)\\\n",
    "    .setOcrParams([\"preserve_interword_spaces=0\"])\n",
    "\n",
    "tokenizer = HocrTokenizer()\\\n",
    "    .setInputCol(\"hocr\")\\\n",
    "    .setOutputCol(\"token\")\n",
    "\n",
    "doc_ner = VisualDocumentNerV2()\\\n",
    "    .pretrained(\"layoutlmv2_funsd\", \"en\", \"clinical/ocr\")\\\n",
    "    .setInputCols([\"token\", \"image\"])\\\n",
    "    .setOutputCol(\"entities\")\n",
    "\n",
    "draw = ImageDrawAnnotations() \\\n",
    "    .setInputCol(\"image\") \\\n",
    "    .setInputChunksCol(\"entities\") \\\n",
    "    .setOutputCol(\"image_with_annotations\") \\\n",
    "    .setFontSize(10) \\\n",
    "    .setLineWidth(4)\\\n",
    "    .setRectColor(Color.red)\n",
    "\n",
    "# OCR pipeline\n",
    "pipeline = PipelineModel(stages=[\n",
    "    binary_to_image,\n",
    "    img_to_hocr,\n",
    "    tokenizer,\n",
    "    doc_ner,\n",
    "    draw\n",
    "])\n",
    "\n",
    "results = pipeline.transform(bin_df).cache()"
   ]
  },
  {
   "cell_type": "code",
   "execution_count": null,
   "metadata": {
    "id": "g-7iPJghVAAW",
    "executionInfo": {
     "status": "ok",
     "timestamp": 1671807869435,
     "user_tz": 300,
     "elapsed": 6655,
     "user": {
      "displayName": "Vildan Sarıkaya",
      "userId": "07789644790967768983"
     }
    }
   },
   "outputs": [],
   "source": [
    "pd_df = results.select('entities').toPandas().explode('entities')\n",
    "\n",
    "pd_df['label'] = pd_df.entities.apply(lambda a : a[3])\n",
    "pd_df['chunk'] = pd_df.entities.apply(lambda a : a[4]['word'])\n",
    "pd_result = pd_df[pd_df['label'] != \"O\"][['label', 'chunk']].drop_duplicates()"
   ]
  },
  {
   "cell_type": "code",
   "execution_count": null,
   "metadata": {
    "id": "YQBL6oqfoAEp",
    "colab": {
     "base_uri": "https://localhost:8080/",
     "height": 424
    },
    "executionInfo": {
     "status": "ok",
     "timestamp": 1671807869437,
     "user_tz": 300,
     "elapsed": 14,
     "user": {
      "displayName": "Vildan Sarıkaya",
      "userId": "07789644790967768983"
     }
    },
    "outputId": "22ffd936-f793-4be4-e0ce-d72ef9129420"
   },
   "outputs": [],
   "source": [
    "pd_result"
   ]
  },
  {
   "cell_type": "code",
   "execution_count": null,
   "metadata": {
    "id": "hGs7ZRPuXDEK",
    "colab": {
     "base_uri": "https://localhost:8080/",
     "height": 1000
    },
    "executionInfo": {
     "status": "ok",
     "timestamp": 1671807869915,
     "user_tz": 300,
     "elapsed": 490,
     "user": {
      "displayName": "Vildan Sarıkaya",
      "userId": "07789644790967768983"
     }
    },
    "outputId": "dfb3953c-f7d2-4660-b64a-5aa2d5c68719"
   },
   "outputs": [],
   "source": [
    "display_images(results, \"image_with_annotations\", width=1000)"
   ]
  },
  {
   "cell_type": "markdown",
   "metadata": {
    "id": "pxTd4bZQou19"
   },
   "source": [
    "## Visual Document Classifier"
   ]
  },
  {
   "cell_type": "code",
   "execution_count": null,
   "metadata": {
    "id": "ORYkxLJHotl_",
    "colab": {
     "base_uri": "https://localhost:8080/"
    },
    "executionInfo": {
     "status": "ok",
     "timestamp": 1671807871124,
     "user_tz": 300,
     "elapsed": 1216,
     "user": {
      "displayName": "Vildan Sarıkaya",
      "userId": "07789644790967768983"
     }
    },
    "outputId": "884841e6-075b-4c0e-fed5-3daebbcc5090"
   },
   "outputs": [],
   "source": [
    "import pkg_resources\n",
    "test_image_path = pkg_resources.resource_filename('sparkocr', 'resources/ocr/images/document_classification/')\n",
    "bin_df = spark.read.format(\"binaryFile\").load(test_image_path)\n",
    "bin_df.show()"
   ]
  },
  {
   "cell_type": "code",
   "execution_count": null,
   "metadata": {
    "id": "N6MJ_d6Go6Y4",
    "colab": {
     "base_uri": "https://localhost:8080/",
     "height": 1000
    },
    "executionInfo": {
     "status": "ok",
     "timestamp": 1671807872799,
     "user_tz": 300,
     "elapsed": 1680,
     "user": {
      "displayName": "Vildan Sarıkaya",
      "userId": "07789644790967768983"
     }
    },
    "outputId": "a0152a31-70db-4fe3-d4ff-4e44f6a9eedc"
   },
   "outputs": [],
   "source": [
    "for item in BinaryToImage().transform(bin_df).select(\"image\").collect():\n",
    "    display_image(item.image)"
   ]
  },
  {
   "cell_type": "code",
   "execution_count": null,
   "metadata": {
    "id": "dd6UW65tpGSe",
    "colab": {
     "base_uri": "https://localhost:8080/"
    },
    "executionInfo": {
     "status": "ok",
     "timestamp": 1671807892861,
     "user_tz": 300,
     "elapsed": 20069,
     "user": {
      "displayName": "Vildan Sarıkaya",
      "userId": "07789644790967768983"
     }
    },
    "outputId": "d09b757e-0362-437f-fccc-96193ed9f33a"
   },
   "outputs": [],
   "source": [
    "binary_to_image = BinaryToImage()\\\n",
    "    .setOutputCol(\"image\")\n",
    "\n",
    "img_to_hocr = ImageToHocr()\\\n",
    "    .setInputCol(\"image\")\\\n",
    "    .setOutputCol(\"hocr\")\\\n",
    "    .setIgnoreResolution(False)\\\n",
    "    .setOcrParams([\"preserve_interword_spaces=0\"])\n",
    "\n",
    "doc_classifier = VisualDocumentClassifier()\\\n",
    "    .pretrained(\"visual_document_classifier_tobacco3482\", \"en\", \"clinical/ocr\")\\\n",
    "    .setInputCol(\"hocr\")\\\n",
    "    .setLabelCol(\"label\")\\\n",
    "    .setConfidenceCol(\"conf\")\n",
    "\n",
    "# OCR pipeline\n",
    "classifier_pipeline = PipelineModel(stages=[\n",
    "    binary_to_image,\n",
    "    img_to_hocr,\n",
    "    doc_classifier\n",
    "])"
   ]
  },
  {
   "cell_type": "code",
   "execution_count": null,
   "metadata": {
    "id": "fiwcHng2pO1R",
    "executionInfo": {
     "status": "ok",
     "timestamp": 1671807892863,
     "user_tz": 300,
     "elapsed": 16,
     "user": {
      "displayName": "Vildan Sarıkaya",
      "userId": "07789644790967768983"
     }
    }
   },
   "outputs": [],
   "source": [
    "results = classifier_pipeline.transform(bin_df)"
   ]
  },
  {
   "cell_type": "code",
   "execution_count": null,
   "metadata": {
    "id": "LfjMT8QvpX6h",
    "colab": {
     "base_uri": "https://localhost:8080/"
    },
    "executionInfo": {
     "status": "ok",
     "timestamp": 1671807903634,
     "user_tz": 300,
     "elapsed": 10785,
     "user": {
      "displayName": "Vildan Sarıkaya",
      "userId": "07789644790967768983"
     }
    },
    "outputId": "878ad13c-88c5-494b-eb4e-17923a2df339"
   },
   "outputs": [],
   "source": [
    "import pyspark.sql.functions as f\n",
    "\n",
    "path_array = f.split(results['path'], '/')\n",
    "results = results.withColumn('filename', path_array.getItem(f.size(path_array)- 1)) \\\n",
    "       .select(\"filename\", \"label\", \"conf\") \\\n",
    "       .show(truncate=False)"
   ]
  },
  {
   "cell_type": "markdown",
   "metadata": {
    "id": "XzVTIQQxqFxy"
   },
   "source": [
    "**Classes in visual_document_classifier_tobacco3482**\n",
    "- Advertisement\n",
    "- Email\n",
    "- Form\n",
    "- Letter\n",
    "- Memo\n",
    "- Report\n",
    "- Resume\n",
    "- Scientific\n",
    "\n"
   ]
  },
  {
   "cell_type": "markdown",
   "metadata": {
    "id": "KgEjQWJ7mvNg"
   },
   "source": [
    "## LayoutLMv2 for Key Value Pair Extraction"
   ]
  },
  {
   "cell_type": "code",
   "execution_count": null,
   "metadata": {
    "id": "UbxLGybpm2HT",
    "colab": {
     "base_uri": "https://localhost:8080/"
    },
    "executionInfo": {
     "status": "ok",
     "timestamp": 1671807904244,
     "user_tz": 300,
     "elapsed": 614,
     "user": {
      "displayName": "Vildan Sarıkaya",
      "userId": "07789644790967768983"
     }
    },
    "outputId": "20390fea-3930-4e12-ae45-6570e6d799ee"
   },
   "outputs": [],
   "source": [
    "import pkg_resources\n",
    "test_image_path = pkg_resources.resource_filename('sparkocr', 'resources/ocr/forms/form1.jpg')\n",
    "bin_df = spark.read.format(\"binaryFile\").load(test_image_path)\n",
    "bin_df.show()"
   ]
  },
  {
   "cell_type": "code",
   "execution_count": null,
   "metadata": {
    "id": "MaY0zig6m85V",
    "colab": {
     "base_uri": "https://localhost:8080/",
     "height": 1000
    },
    "executionInfo": {
     "status": "ok",
     "timestamp": 1671807904735,
     "user_tz": 300,
     "elapsed": 495,
     "user": {
      "displayName": "Vildan Sarıkaya",
      "userId": "07789644790967768983"
     }
    },
    "outputId": "73ba25fa-8929-44d1-976a-55502bb0bb98"
   },
   "outputs": [],
   "source": [
    "image_df = BinaryToImage().transform(bin_df)\n",
    "display_images(image_df)"
   ]
  },
  {
   "cell_type": "code",
   "execution_count": null,
   "metadata": {
    "id": "LW5Sr5HYm_in",
    "colab": {
     "base_uri": "https://localhost:8080/",
     "height": 1000
    },
    "executionInfo": {
     "status": "ok",
     "timestamp": 1671807959646,
     "user_tz": 300,
     "elapsed": 54918,
     "user": {
      "displayName": "Vildan Sarıkaya",
      "userId": "07789644790967768983"
     }
    },
    "outputId": "8f5c0d18-548c-4efd-994a-76634ecca515"
   },
   "outputs": [],
   "source": [
    "binary_to_image = BinaryToImage()\\\n",
    "    .setOutputCol(\"image\") \\\n",
    "    .setImageType(ImageType.TYPE_3BYTE_BGR)\n",
    "\n",
    "img_to_hocr = ImageToHocr()\\\n",
    "    .setInputCol(\"image\")\\\n",
    "    .setOutputCol(\"hocr\")\\\n",
    "    .setIgnoreResolution(False)\\\n",
    "    .setOcrParams([\"preserve_interword_spaces=0\"])\n",
    "\n",
    "tokenizer = HocrTokenizer()\\\n",
    "    .setInputCol(\"hocr\")\\\n",
    "    .setOutputCol(\"token\")\n",
    "\n",
    "doc_ner_cust = VisualDocumentNerV2()\\\n",
    "    .pretrained(\"layoutlmv2_key_value_pairs\", \"en\", \"clinical/ocr\")\\\n",
    "    .setInputCols([\"token\", \"image\"])\\\n",
    "    .setOutputCol(\"entities\")\\\n",
    "    .setLabels([\"other\",\n",
    "                \"header\",\n",
    "                \"header\",\n",
    "                \"key\",\n",
    "                \"key\",\n",
    "                \"value\",\n",
    "                \"value\"])\\\n",
    "    .setWhiteList([\"header\",\n",
    "                   \"key\",\n",
    "                   \"value\"])\n",
    "\n",
    "draw = ImageDrawAnnotations() \\\n",
    "    .setInputCol(\"image\") \\\n",
    "    .setInputChunksCol(\"entities\") \\\n",
    "    .setOutputCol(\"image_with_annotations\") \\\n",
    "    .setFontSize(10) \\\n",
    "    .setLineWidth(4)\\\n",
    "    .setRectColor(Color.red)\n",
    "\n",
    "\n",
    "# OCR pipeline\n",
    "pipeline = PipelineModel(stages=[\n",
    "    binary_to_image,\n",
    "    img_to_hocr,\n",
    "    tokenizer,\n",
    "    doc_ner_cust,\n",
    "    draw\n",
    "])\n",
    "\n",
    "results = pipeline.transform(bin_df).cache()\n",
    "display_images(results, \"image_with_annotations\", width=1000)"
   ]
  },
  {
   "cell_type": "code",
   "execution_count": null,
   "metadata": {
    "id": "BPm79Hq_nHWT",
    "colab": {
     "base_uri": "https://localhost:8080/",
     "height": 1000
    },
    "executionInfo": {
     "status": "ok",
     "timestamp": 1671807959797,
     "user_tz": 300,
     "elapsed": 161,
     "user": {
      "displayName": "Vildan Sarıkaya",
      "userId": "07789644790967768983"
     }
    },
    "outputId": "81c31042-705f-489f-ae14-1a748dc45dbf"
   },
   "outputs": [],
   "source": [
    "pd_df = results.select('entities').toPandas().explode('entities')\n",
    "\n",
    "pd_df['label'] = pd_df.entities.apply(lambda a : a[3])\n",
    "pd_df['chunk'] = pd_df.entities.apply(lambda a : a[4]['word'])\n",
    "pd_result = pd_df[pd_df['label'] != \"O\"][['label', 'chunk']].drop_duplicates()\n",
    "pd_result"
   ]
  }
 ],
 "metadata": {
  "colab": {
   "machine_shape": "hm",
   "provenance": [],
   "toc_visible": true
  },
  "kernelspec": {
   "display_name": "Python 3",
   "name": "python3"
  },
  "language_info": {
   "name": "python"
  }
 },
 "nbformat": 4,
 "nbformat_minor": 0
}
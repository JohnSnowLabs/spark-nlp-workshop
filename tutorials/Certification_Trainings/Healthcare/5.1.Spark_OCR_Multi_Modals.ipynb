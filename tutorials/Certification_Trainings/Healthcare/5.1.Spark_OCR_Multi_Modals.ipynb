{
 "nbformat": 4,
 "nbformat_minor": 0,
 "metadata": {
  "colab": {
   "name": "5.1.Spark_OCR_Multi_Modals.ipynb",
   "provenance": [],
   "collapsed_sections": [],
   "machine_shape": "hm"
  },
  "kernelspec": {
   "name": "python3",
   "display_name": "Python 3"
  },
  "language_info": {
   "name": "python"
  }
 },
 "cells": [
  {
   "cell_type": "markdown",
   "metadata": {
    "id": "Niy3mZAjoayg"
   },
   "source": [
    "# Spark OCR "
   ]
  },
  {
   "cell_type": "markdown",
   "metadata": {
    "id": "YNJUQPsXvuSV"
   },
   "source": [
    "\n",
    "## Blogposts and videos\n",
    "\n",
    "- [How to Setup Spark OCR on UBUNTU - Video](https://www.youtube.com/watch?v=cmt4WIcL0nI)\n",
    "\n",
    "- [Installing Spark NLP and Spark OCR in air-gapped networks (offline mode)\n",
    "](https://medium.com/spark-nlp/installing-spark-nlp-and-spark-ocr-in-air-gapped-networks-offline-mode-f42a1ee6b7a8)\n",
    "\n",
    "- [Table Detection & Extraction in Spark OCR](https://medium.com/spark-nlp/table-detection-extraction-in-spark-ocr-50765c6cedc9)\n",
    "\n",
    "- [Signature Detection in Spark OCR](https://medium.com/spark-nlp/signature-detection-in-spark-ocr-32f9e6f91e3c)\n",
    "\n",
    "- [GPU image pre-processing in Spark OCR](https://medium.com/spark-nlp/gpu-image-pre-processing-in-spark-ocr-3-1-0-6fc27560a9bb)\n",
    "\n",
    "**More examples here**\n",
    "\n",
    "https://github.com/JohnSnowLabs/spark-ocr-workshop"
   ]
  },
  {
   "cell_type": "markdown",
   "metadata": {
    "id": "okhT7AcXxben"
   },
   "source": [
    "**Colab Setup**"
   ]
  },
  {
   "cell_type": "code",
   "execution_count": null,
   "metadata": {
    "id": "MVf_2iqGIJ4B"
   },
   "outputs": [],
   "source": [
    "import json, os\n",
    "from google.colab import files\n",
    "\n",
    "if 'spark_jsl.json' not in os.listdir():\n",
    "  license_keys = files.upload()\n",
    "  os.rename(list(license_keys.keys())[0], 'spark_ocr.json')\n",
    "\n",
    "with open('spark_ocr.json') as f:\n",
    "    license_keys = json.load(f)\n",
    "\n",
    "# Defining license key-value pairs as local variables\n",
    "locals().update(license_keys)"
   ]
  },
  {
   "cell_type": "code",
   "execution_count": null,
   "metadata": {
    "id": "WkylJaGx-COY"
   },
   "outputs": [],
   "source": [
    "# Installing pyspark and spark-nlp\n",
    "! pip install --upgrade -q pyspark==3.0.2 spark-nlp==$PUBLIC_VERSION\n",
    "\n",
    "# Installing Spark OCR\n",
    "! pip install spark-ocr==$OCR_VERSION\\+spark30 --extra-index-url=https://pypi.johnsnowlabs.com/$SPARK_OCR_SECRET --upgrade"
   ]
  },
  {
   "cell_type": "markdown",
   "metadata": {
    "id": "X31h1agcPBrh"
   },
   "source": [
    "<b><h1><font color='darkred'>!!! ATTENTION !!! </font><h1><b>\n",
    "\n",
    "<b>After running previous cell, <font color='darkred'>RESTART the COLAB RUNTIME </font> and go ahead.<b>"
   ]
  },
  {
   "cell_type": "code",
   "execution_count": null,
   "metadata": {
    "id": "Lx0dcQXiInzO",
    "executionInfo": {
     "status": "ok",
     "timestamp": 1649589080660,
     "user_tz": -120,
     "elapsed": 6,
     "user": {
      "displayName": "Damla",
      "userId": "03285166568766987047"
     }
    }
   },
   "outputs": [],
   "source": [
    "import json, os\n",
    "\n",
    "with open(\"spark_ocr.json\", 'r') as f:\n",
    "  license_keys = json.load(f)\n",
    "\n",
    "# Adding license key-value pairs to environment variables\n",
    "os.environ.update(license_keys)\n",
    "\n",
    "# Defining license key-value pairs as local variables\n",
    "locals().update(license_keys)"
   ]
  },
  {
   "cell_type": "code",
   "execution_count": null,
   "metadata": {
    "id": "lC4Tt3onRBJy",
    "executionInfo": {
     "status": "ok",
     "timestamp": 1649589123640,
     "user_tz": -120,
     "elapsed": 18,
     "user": {
      "displayName": "Damla",
      "userId": "03285166568766987047"
     }
    }
   },
   "outputs": [],
   "source": [
    "import sparkocr\n",
    "import sys\n",
    "from pyspark.sql import SparkSession\n",
    "from sparkocr import start\n",
    "import base64\n",
    "from sparkocr.transformers import *\n",
    "from pyspark.ml import PipelineModel\n",
    "from pyspark.sql import functions as F\n",
    "from sparkocr.enums import *\n",
    "from sparkocr.utils import display_images"
   ]
  },
  {
   "cell_type": "code",
   "execution_count": null,
   "metadata": {
    "colab": {
     "base_uri": "https://localhost:8080/"
    },
    "id": "LME81NOHFjqC",
    "outputId": "d061f768-9116-4a57-9d87-9bba2ff096a8",
    "executionInfo": {
     "status": "ok",
     "timestamp": 1649589137005,
     "user_tz": -120,
     "elapsed": 417,
     "user": {
      "displayName": "Damla",
      "userId": "03285166568766987047"
     }
    }
   },
   "outputs": [],
   "source": [
    "# Start spark\n",
    "spark = sparkocr.start(secret=SPARK_OCR_SECRET, \n",
    "                       nlp_version=PUBLIC_VERSION\n",
    "                       )"
   ]
  },
  {
   "cell_type": "markdown",
   "metadata": {
    "id": "UYWXzBivLcBL"
   },
   "source": [
    "## Working with tables"
   ]
  },
  {
   "cell_type": "markdown",
   "metadata": {
    "id": "BxqZWNDVsTO4"
   },
   "source": [
    "### Table Detection"
   ]
  },
  {
   "cell_type": "markdown",
   "metadata": {
    "id": "Lttmj2_3DvTm"
   },
   "source": [
    "**Load images**"
   ]
  },
  {
   "cell_type": "code",
   "execution_count": null,
   "metadata": {
    "id": "HVKJRS29sZHV",
    "executionInfo": {
     "status": "ok",
     "timestamp": 1649589143992,
     "user_tz": -120,
     "elapsed": 886,
     "user": {
      "displayName": "Damla",
      "userId": "03285166568766987047"
     }
    }
   },
   "outputs": [],
   "source": [
    "!wget -q raw.githubusercontent.com/JohnSnowLabs/spark-ocr-workshop/master/jupyter/data/tab_images/cTDaR_t10168.jpg -P table_image/\n",
    "!wget -q raw.githubusercontent.com/JohnSnowLabs/spark-ocr-workshop/master/jupyter/data/tab_images/cTDaR_t10011.jpg -P table_image/"
   ]
  },
  {
   "cell_type": "markdown",
   "metadata": {
    "id": "1fup7iKwDxtj"
   },
   "source": [
    "**Read and display images**"
   ]
  },
  {
   "cell_type": "code",
   "execution_count": null,
   "metadata": {
    "id": "HjpQWXpfFate",
    "executionInfo": {
     "status": "ok",
     "timestamp": 1649589145253,
     "user_tz": -120,
     "elapsed": 2,
     "user": {
      "displayName": "Damla",
      "userId": "03285166568766987047"
     }
    }
   },
   "outputs": [],
   "source": [
    "from sparkocr.utils import display_tables"
   ]
  },
  {
   "cell_type": "code",
   "execution_count": null,
   "metadata": {
    "colab": {
     "base_uri": "https://localhost:8080/",
     "height": 1000
    },
    "id": "7zSeSgtbtGI-",
    "outputId": "c997e30f-a6d5-4c41-a488-0afcc70ae347",
    "executionInfo": {
     "status": "ok",
     "timestamp": 1649589170974,
     "user_tz": -120,
     "elapsed": 6387,
     "user": {
      "displayName": "Damla",
      "userId": "03285166568766987047"
     }
    }
   },
   "outputs": [],
   "source": [
    "image_df = spark.read.format(\"binaryFile\").load(\"/content/table_image/*.jpg\")\n",
    "\n",
    "display_images(BinaryToImage().transform(image_df), \"image\")"
   ]
  },
  {
   "cell_type": "markdown",
   "metadata": {
    "id": "365FO1UrD1Un"
   },
   "source": [
    "**Create OCR Pipeline**"
   ]
  },
  {
   "cell_type": "code",
   "execution_count": null,
   "metadata": {
    "colab": {
     "base_uri": "https://localhost:8080/"
    },
    "id": "kn69uk9Zu_0n",
    "outputId": "16df1313-9cc6-4dc6-f5d6-297956d5b612",
    "executionInfo": {
     "status": "ok",
     "timestamp": 1649589205172,
     "user_tz": -120,
     "elapsed": 15573,
     "user": {
      "displayName": "Damla",
      "userId": "03285166568766987047"
     }
    }
   },
   "outputs": [],
   "source": [
    "binary_to_image = BinaryToImage() \n",
    "binary_to_image.setImageType(ImageType.TYPE_3BYTE_BGR)\n",
    "\n",
    "table_detector = ImageTableDetector.pretrained(\"general_model_table_detection_v2\", \"en\", \"clinical/ocr\")\n",
    "table_detector.setInputCol(\"image\")\n",
    "table_detector.setOutputCol(\"table_regions\")\n",
    "\n",
    "draw_regions = ImageDrawRegions()\n",
    "draw_regions.setInputCol(\"image\")\n",
    "draw_regions.setInputRegionsCol(\"table_regions\")\n",
    "draw_regions.setOutputCol(\"image_with_regions\")\n",
    "draw_regions.setRectColor(Color.red)\n",
    "\n",
    "pipeline = PipelineModel(stages=[\n",
    "    binary_to_image,\n",
    "    table_detector,\n",
    "    draw_regions\n",
    "])"
   ]
  },
  {
   "cell_type": "markdown",
   "metadata": {
    "id": "TAe4aAEPD7yf"
   },
   "source": [
    "**Show results**"
   ]
  },
  {
   "cell_type": "code",
   "execution_count": null,
   "metadata": {
    "id": "53dXnGQmwice",
    "colab": {
     "base_uri": "https://localhost:8080/",
     "height": 1000
    },
    "outputId": "6b54cd56-1c90-42a0-ec91-dac5bffec0ed",
    "executionInfo": {
     "status": "ok",
     "timestamp": 1649589237200,
     "user_tz": -120,
     "elapsed": 24363,
     "user": {
      "displayName": "Damla",
      "userId": "03285166568766987047"
     }
    }
   },
   "outputs": [],
   "source": [
    "result =  pipeline.transform(image_df)\n",
    "display_images(result, \"image_with_regions\")"
   ]
  },
  {
   "cell_type": "markdown",
   "metadata": {
    "id": "Jf4VMyqOEbBq"
   },
   "source": [
    "### Table Recognition"
   ]
  },
  {
   "cell_type": "code",
   "execution_count": null,
   "metadata": {
    "id": "T13zUnYhE4XX",
    "executionInfo": {
     "status": "ok",
     "timestamp": 1649589237201,
     "user_tz": -120,
     "elapsed": 13,
     "user": {
      "displayName": "Damla",
      "userId": "03285166568766987047"
     }
    }
   },
   "outputs": [],
   "source": [
    "from pyspark.sql.functions import desc, row_number, monotonically_increasing_id\n",
    "from pyspark.sql.window import Window\n",
    "import pyspark.sql.functions as f"
   ]
  },
  {
   "cell_type": "markdown",
   "metadata": {
    "id": "JZcmBA4AF92b"
   },
   "source": [
    "**Load and display the images.**"
   ]
  },
  {
   "cell_type": "code",
   "execution_count": null,
   "metadata": {
    "id": "0awzgIydEeIg",
    "colab": {
     "base_uri": "https://localhost:8080/",
     "height": 1000
    },
    "outputId": "23279c95-a937-481f-ecae-f6301368870b",
    "executionInfo": {
     "status": "ok",
     "timestamp": 1649589239693,
     "user_tz": -120,
     "elapsed": 2500,
     "user": {
      "displayName": "Damla",
      "userId": "03285166568766987047"
     }
    }
   },
   "outputs": [],
   "source": [
    "image_df= spark.read.format(\"binaryFile\").load(\"table_image\")\n",
    "\n",
    "# add index to the dataframe\n",
    "image_df_with_seq_id = image_df.withColumn('index', row_number().over(Window.orderBy(monotonically_increasing_id())) - 1)\n",
    "\n",
    "display_images(BinaryToImage().transform(image_df), \"image\")"
   ]
  },
  {
   "cell_type": "markdown",
   "metadata": {
    "id": "E40yjxJnF1_I"
   },
   "source": [
    "**Create OCR pipeline.**"
   ]
  },
  {
   "cell_type": "code",
   "execution_count": null,
   "metadata": {
    "id": "cSUgEg8lE8Sc",
    "colab": {
     "base_uri": "https://localhost:8080/"
    },
    "outputId": "a093d646-7bb5-4864-ce17-cb81821131e8",
    "executionInfo": {
     "status": "ok",
     "timestamp": 1649589257526,
     "user_tz": -120,
     "elapsed": 856,
     "user": {
      "displayName": "Damla",
      "userId": "03285166568766987047"
     }
    }
   },
   "outputs": [],
   "source": [
    "binary_to_image = BinaryToImage()\n",
    "# need set image type for correct work TableDetection model\n",
    "binary_to_image.setImageType(ImageType.TYPE_3BYTE_BGR)\n",
    "\n",
    "table_detector = ImageTableDetector.pretrained(\"general_model_table_detection_v2\", \"en\", \"clinical/ocr\")\n",
    "table_detector.setInputCol(\"image\")\n",
    "table_detector.setOutputCol(\"region\")\n",
    "\n",
    "splitter = ImageSplitRegions()\n",
    "splitter.setInputCol(\"image\")\n",
    "splitter.setInputRegionsCol(\"region\")\n",
    "splitter.setOutputCol(\"table_image\")\n",
    "splitter.setDropCols(\"image\")\n",
    "splitter.setImageType(ImageType.TYPE_BYTE_GRAY)\n",
    "\n",
    "scaler = ImageScaler()\n",
    "scaler.setInputCol(\"table_image\")\n",
    "scaler.setOutputCol(\"scaled_image\")\n",
    "scaler.setScaleFactor(2)\n",
    "\n",
    "cell_detector = ImageTableCellDetector()\n",
    "cell_detector.setInputCol(\"scaled_image\")\n",
    "cell_detector.setOutputCol(\"cells\")\n",
    "cell_detector.setKeepInput(True)\n",
    "\n",
    "table_recognition = ImageCellsToTextTable()\n",
    "table_recognition.setInputCol(\"scaled_image\")\n",
    "table_recognition.setCellsCol('cells')\n",
    "table_recognition.setMargin(1)\n",
    "table_recognition.setStrip(True)\n",
    "table_recognition.setOutputCol('table')\n",
    "\n",
    "\n",
    "pipeline = PipelineModel(stages=[\n",
    "    binary_to_image,\n",
    "    table_detector,\n",
    "    splitter,\n",
    "    scaler,\n",
    "    cell_detector,\n",
    "    table_recognition\n",
    "])"
   ]
  },
  {
   "cell_type": "markdown",
   "metadata": {
    "id": "o8vocA5mFT2R"
   },
   "source": [
    "**Run the pipeline and display the tables in the images.**"
   ]
  },
  {
   "cell_type": "code",
   "execution_count": null,
   "metadata": {
    "id": "wQXtf6l3FAmE",
    "colab": {
     "base_uri": "https://localhost:8080/",
     "height": 1000
    },
    "outputId": "b478e795-5be7-4250-e720-b52ad630fc2a",
    "executionInfo": {
     "status": "ok",
     "timestamp": 1649589301371,
     "user_tz": -120,
     "elapsed": 27152,
     "user": {
      "displayName": "Damla",
      "userId": "03285166568766987047"
     }
    }
   },
   "outputs": [],
   "source": [
    "results = pipeline.transform(image_df_with_seq_id).cache()\n",
    "display_images(results, \"table_image\")"
   ]
  },
  {
   "cell_type": "markdown",
   "metadata": {
    "id": "QpnXZcsLFSDz"
   },
   "source": [
    "**Display recognized tables**"
   ]
  },
  {
   "cell_type": "code",
   "execution_count": null,
   "metadata": {
    "id": "qFM1nApPa9wk",
    "colab": {
     "base_uri": "https://localhost:8080/",
     "height": 1000
    },
    "outputId": "878dfbc7-3b9c-476c-aef1-8f3ccb8fd82f",
    "executionInfo": {
     "status": "ok",
     "timestamp": 1649589319748,
     "user_tz": -120,
     "elapsed": 4231,
     "user": {
      "displayName": "Damla",
      "userId": "03285166568766987047"
     }
    }
   },
   "outputs": [],
   "source": [
    "display_tables(results)"
   ]
  },
  {
   "cell_type": "markdown",
   "metadata": {
    "id": "K2NlmVUbCpTk"
   },
   "source": [
    "### Table Cell Recognition"
   ]
  },
  {
   "cell_type": "markdown",
   "metadata": {
    "id": "Esw2EmGoDlTO"
   },
   "source": [
    "**Read and display images**"
   ]
  },
  {
   "cell_type": "code",
   "execution_count": null,
   "metadata": {
    "id": "P3Yn8FolYm1q",
    "colab": {
     "base_uri": "https://localhost:8080/",
     "height": 1000
    },
    "outputId": "d0e9894f-679d-44d9-e89d-a8c86cd5203c",
    "executionInfo": {
     "status": "ok",
     "timestamp": 1649589338264,
     "user_tz": -120,
     "elapsed": 2236,
     "user": {
      "displayName": "Damla",
      "userId": "03285166568766987047"
     }
    }
   },
   "outputs": [],
   "source": [
    "from sparkocr.transformers import *\n",
    "from sparkocr.enums import *\n",
    "from sparkocr.utils import display_images, display_table, display_tables\n",
    "from pyspark.ml import PipelineModel\n",
    "import pyspark.sql.functions as f\n",
    "\n",
    "import pkg_resources\n",
    "test_image_path = pkg_resources.resource_filename('sparkocr', 'resources/ocr/tableImage/table[0,2,4]*.*')\n",
    "image_df= spark.read.format(\"binaryFile\").load(test_image_path)\n",
    "\n",
    "display_images(BinaryToImage().transform(image_df), \"image\")"
   ]
  },
  {
   "cell_type": "markdown",
   "metadata": {
    "id": "jxiDot9NDel0"
   },
   "source": [
    "**Define OCR Pipeline**"
   ]
  },
  {
   "cell_type": "code",
   "execution_count": null,
   "metadata": {
    "id": "zLj4Qda5DH69",
    "executionInfo": {
     "status": "ok",
     "timestamp": 1649589354539,
     "user_tz": -120,
     "elapsed": 505,
     "user": {
      "displayName": "Damla",
      "userId": "03285166568766987047"
     }
    }
   },
   "outputs": [],
   "source": [
    "binary_to_image = BinaryToImage()\n",
    "binary_to_image.setImageType(ImageType.TYPE_BYTE_GRAY)\n",
    "binary_to_image.setInputCol(\"content\")\n",
    "\n",
    "cell_detector = ImageTableCellDetector()\n",
    "cell_detector.setInputCol(\"image\")\n",
    "cell_detector.setOutputCol(\"cells\")\n",
    "cell_detector.setKeepInput(True)\n",
    "cell_detector.setAlgoType(\"morphops\")\n",
    "cell_detector.setDrawDetectedLines(True)\n",
    "\n",
    "table_recognition = ImageCellsToTextTable()\n",
    "table_recognition.setInputCol(\"output_image\")\n",
    "table_recognition.setCellsCol('cells')\n",
    "table_recognition.setMargin(2)\n",
    "table_recognition.setStrip(True)\n",
    "table_recognition.setOutputCol('table')\n",
    "\n",
    "pipeline = PipelineModel(stages=[\n",
    "    binary_to_image,\n",
    "     cell_detector,\n",
    "     table_recognition\n",
    "])"
   ]
  },
  {
   "cell_type": "markdown",
   "metadata": {
    "id": "8RuVEbrZDZ83"
   },
   "source": [
    "**Run Pipeline**"
   ]
  },
  {
   "cell_type": "code",
   "execution_count": null,
   "metadata": {
    "id": "x-RD81dxEsZa",
    "executionInfo": {
     "status": "ok",
     "timestamp": 1649589357002,
     "user_tz": -120,
     "elapsed": 429,
     "user": {
      "displayName": "Damla",
      "userId": "03285166568766987047"
     }
    }
   },
   "outputs": [],
   "source": [
    "results = pipeline.transform(image_df).cache()"
   ]
  },
  {
   "cell_type": "code",
   "execution_count": null,
   "metadata": {
    "id": "6A1u5DOpEx3F",
    "colab": {
     "base_uri": "https://localhost:8080/",
     "height": 1000
    },
    "outputId": "402d7d6f-2d81-4355-a3b7-43545462d162",
    "executionInfo": {
     "status": "ok",
     "timestamp": 1649589376524,
     "user_tz": -120,
     "elapsed": 18348,
     "user": {
      "displayName": "Damla",
      "userId": "03285166568766987047"
     }
    }
   },
   "outputs": [],
   "source": [
    "display_images(results, \"image\")"
   ]
  },
  {
   "cell_type": "code",
   "execution_count": null,
   "metadata": {
    "id": "FBGPfjLtFOaR",
    "colab": {
     "base_uri": "https://localhost:8080/",
     "height": 1000
    },
    "outputId": "dad2bdf5-ca75-4837-cbc7-37534f8a3506",
    "executionInfo": {
     "status": "ok",
     "timestamp": 1649589394272,
     "user_tz": -120,
     "elapsed": 2951,
     "user": {
      "displayName": "Damla",
      "userId": "03285166568766987047"
     }
    }
   },
   "outputs": [],
   "source": [
    "display_tables(results)"
   ]
  },
  {
   "cell_type": "markdown",
   "metadata": {
    "id": "O-LCRPGVDWHq"
   },
   "source": [
    "**Show recognized cells for first image**"
   ]
  },
  {
   "cell_type": "code",
   "execution_count": null,
   "metadata": {
    "id": "WOCRvd5lDMVu",
    "executionInfo": {
     "status": "ok",
     "timestamp": 1649589402232,
     "user_tz": -120,
     "elapsed": 546,
     "user": {
      "displayName": "Damla",
      "userId": "03285166568766987047"
     }
    }
   },
   "outputs": [],
   "source": [
    "table_recognition_csv = ImageCellsToTextTable()\n",
    "table_recognition_csv.setInputCol(\"image\")\n",
    "table_recognition_csv.setCellsCol('cells')\n",
    "table_recognition_csv.setMargin(2)\n",
    "table_recognition_csv.setStrip(True)\n",
    "table_recognition_csv.setOutputCol('table')\n",
    "table_recognition_csv.setOutputFormat('csv')\n",
    "\n",
    "pipeline_csv = PipelineModel(stages=[\n",
    "    binary_to_image,\n",
    "     cell_detector,\n",
    "     table_recognition_csv\n",
    "])"
   ]
  },
  {
   "cell_type": "code",
   "execution_count": null,
   "metadata": {
    "id": "FlS6F2voICWK",
    "colab": {
     "base_uri": "https://localhost:8080/"
    },
    "outputId": "c458022d-6530-43fd-c78c-7f5281d482fe",
    "executionInfo": {
     "status": "ok",
     "timestamp": 1649589414010,
     "user_tz": -120,
     "elapsed": 10706,
     "user": {
      "displayName": "Damla",
      "userId": "03285166568766987047"
     }
    }
   },
   "outputs": [],
   "source": [
    "results_csv = pipeline_csv.transform(image_df).cache()\n",
    "print(results_csv.select(\"table\").collect()[2].table)"
   ]
  },
  {
   "cell_type": "markdown",
   "metadata": {
    "id": "Xuot2n5Ocq8Z"
   },
   "source": [
    "##Handwritten Detection"
   ]
  },
  {
   "cell_type": "code",
   "execution_count": null,
   "metadata": {
    "id": "h__UlAgbcyxI",
    "executionInfo": {
     "status": "ok",
     "timestamp": 1649589414010,
     "user_tz": -120,
     "elapsed": 10,
     "user": {
      "displayName": "Damla",
      "userId": "03285166568766987047"
     }
    }
   },
   "outputs": [],
   "source": [
    "!wget -q https://raw.githubusercontent.com/JohnSnowLabs/spark-ocr-workshop/master/jupyter/data/handwritten/page1.jpeg"
   ]
  },
  {
   "cell_type": "code",
   "execution_count": null,
   "metadata": {
    "id": "EU7VGHz0c0Bz",
    "colab": {
     "base_uri": "https://localhost:8080/",
     "height": 1000
    },
    "outputId": "443c1666-4425-456a-e26c-37706423eb66",
    "executionInfo": {
     "status": "ok",
     "timestamp": 1649589417344,
     "user_tz": -120,
     "elapsed": 3339,
     "user": {
      "displayName": "Damla",
      "userId": "03285166568766987047"
     }
    }
   },
   "outputs": [],
   "source": [
    "image_df = spark.read.format(\"binaryFile\").load('page1.jpeg')\n",
    "\n",
    "display_images(BinaryToImage().transform(image_df), \"image\")"
   ]
  },
  {
   "cell_type": "code",
   "execution_count": null,
   "metadata": {
    "id": "mKHD3LJ5dASO",
    "colab": {
     "base_uri": "https://localhost:8080/"
    },
    "outputId": "aeb12c71-315b-40cb-8e6c-0f2691dfbf6c",
    "executionInfo": {
     "status": "ok",
     "timestamp": 1649589444888,
     "user_tz": -120,
     "elapsed": 14018,
     "user": {
      "displayName": "Damla",
      "userId": "03285166568766987047"
     }
    }
   },
   "outputs": [],
   "source": [
    "binary_to_image = BinaryToImage()\n",
    "binary_to_image.setImageType(ImageType.TYPE_3BYTE_BGR)\n",
    "\n",
    "pretrained_model = (\"image_handwritten_detector_gsa0803\", \"en\", \"public/ocr/models\")\n",
    "\n",
    "handwritten_detector = ImageHandwrittenDetector() \\\n",
    "    .pretrained(*pretrained_model) \\\n",
    "    .setInputCol(\"image\") \\\n",
    "    .setOutputCol(\"handwritten_regions\") \\\n",
    "    .setScoreThreshold(0.4)\n",
    "\n",
    "draw_regions = ImageDrawRegions() \\\n",
    "    .setInputCol(\"image\") \\\n",
    "    .setInputRegionsCol(\"handwritten_regions\") \\\n",
    "    .setOutputCol(\"image_with_regions\") \\\n",
    "    .setFontSize(16) \\\n",
    "    .setRectColor(Color.red)\n",
    "\n",
    "pipeline = PipelineModel(stages=[\n",
    "    binary_to_image,\n",
    "    handwritten_detector,\n",
    "    draw_regions\n",
    "])"
   ]
  },
  {
   "cell_type": "code",
   "execution_count": null,
   "metadata": {
    "id": "JoGNgD3WdLwE",
    "colab": {
     "base_uri": "https://localhost:8080/",
     "height": 1000,
     "output_embedded_package_id": "1oWpci-nA35psaEWxulkrifc3e4viJQ6B"
    },
    "outputId": "b280bdb9-f5b0-4756-cbd0-891064c955f9",
    "executionInfo": {
     "status": "ok",
     "timestamp": 1649589473134,
     "user_tz": -120,
     "elapsed": 13407,
     "user": {
      "displayName": "Damla",
      "userId": "03285166568766987047"
     }
    }
   },
   "outputs": [],
   "source": [
    "result =  pipeline.transform(image_df).cache()\n",
    "display_images(result, \"image_with_regions\")"
   ]
  },
  {
   "cell_type": "markdown",
   "metadata": {
    "id": "41HDNNmS_aHH"
   },
   "source": [
    "##Signature Detection"
   ]
  },
  {
   "cell_type": "code",
   "execution_count": null,
   "metadata": {
    "id": "o2dUZKaV_fmH",
    "executionInfo": {
     "status": "ok",
     "timestamp": 1649589491554,
     "user_tz": -120,
     "elapsed": 1414,
     "user": {
      "displayName": "Damla",
      "userId": "03285166568766987047"
     }
    }
   },
   "outputs": [],
   "source": [
    "!wget -q https://raw.githubusercontent.com/JohnSnowLabs/spark-ocr-workshop/master/jupyter/data/signature/image_147.png"
   ]
  },
  {
   "cell_type": "code",
   "execution_count": null,
   "metadata": {
    "id": "-RuR-j-i_4iA",
    "colab": {
     "base_uri": "https://localhost:8080/",
     "height": 1000,
     "output_embedded_package_id": "1Rsoz-IBreoWPNH03dN95wujYeZK2vz9Q"
    },
    "outputId": "3c8fef9c-4f55-442b-e079-b7c65e018c57",
    "executionInfo": {
     "status": "ok",
     "timestamp": 1649589508401,
     "user_tz": -120,
     "elapsed": 15562,
     "user": {
      "displayName": "Damla",
      "userId": "03285166568766987047"
     }
    }
   },
   "outputs": [],
   "source": [
    "image_file = 'image_147.png'\n",
    "image_df = spark.read.format(\"binaryFile\").load(image_file)\n",
    "\n",
    "display_images(BinaryToImage().transform(image_df), \"image\")"
   ]
  },
  {
   "cell_type": "markdown",
   "metadata": {
    "id": "yQJyj3iHAm4H"
   },
   "source": [
    "**Define OCR Pipeline**"
   ]
  },
  {
   "cell_type": "code",
   "execution_count": null,
   "metadata": {
    "id": "1nyHluXVAj3r",
    "colab": {
     "base_uri": "https://localhost:8080/"
    },
    "outputId": "4decaee6-eb46-4435-eda3-bee0a1dac07b",
    "executionInfo": {
     "status": "ok",
     "timestamp": 1649589516358,
     "user_tz": -120,
     "elapsed": 7313,
     "user": {
      "displayName": "Damla",
      "userId": "03285166568766987047"
     }
    }
   },
   "outputs": [],
   "source": [
    "binary_to_image = BinaryToImage()\n",
    "binary_to_image.setImageType(ImageType.TYPE_3BYTE_BGR)\n",
    "\n",
    "pretrained_model = (\"image_handwritten_detector_gsa0628\", \"en\", \"public/ocr/models\")\n",
    "signature_detector = ImageHandwrittenDetector() \\\n",
    "    .pretrained(*pretrained_model) \\\n",
    "    .setInputCol(\"image\") \\\n",
    "    .setOutputCol(\"signature_regions\") \\\n",
    "    .setOutputLabels([\"signature\"]) \\\n",
    "    .setScoreThreshold(0.4)\n",
    "\n",
    "draw_regions = ImageDrawRegions() \\\n",
    "    .setInputCol(\"image\") \\\n",
    "    .setInputRegionsCol(\"signature_regions\") \\\n",
    "    .setOutputCol(\"image_with_regions\") \\\n",
    "    .setFontSize(16) \\\n",
    "    .setRectColor(Color.red)\n",
    "\n",
    "pipeline = PipelineModel(stages=[\n",
    "    binary_to_image,\n",
    "    signature_detector,\n",
    "    draw_regions\n",
    "])"
   ]
  },
  {
   "cell_type": "markdown",
   "metadata": {
    "id": "Mx53uoc4A1bi"
   },
   "source": [
    "**Run pipeline and show results**"
   ]
  },
  {
   "cell_type": "code",
   "execution_count": null,
   "metadata": {
    "id": "TtrkXKUyA0SD",
    "colab": {
     "base_uri": "https://localhost:8080/",
     "height": 1000,
     "output_embedded_package_id": "1JNM_wqKIZ1zBZWjM3c15UzU7fddIly8T"
    },
    "outputId": "fd7ffe7c-8b09-4b69-a0a8-bba7847e70e8",
    "executionInfo": {
     "status": "ok",
     "timestamp": 1649589555479,
     "user_tz": -120,
     "elapsed": 37292,
     "user": {
      "displayName": "Damla",
      "userId": "03285166568766987047"
     }
    }
   },
   "outputs": [],
   "source": [
    "result =  pipeline.transform(image_df).cache()\n",
    "display_images(result, \"image_with_regions\")"
   ]
  },
  {
   "cell_type": "markdown",
   "metadata": {
    "id": "-zMxedfPdlKU"
   },
   "source": [
    "## Visual Document Ner"
   ]
  },
  {
   "cell_type": "code",
   "execution_count": null,
   "metadata": {
    "id": "SOB7brrodpZS",
    "executionInfo": {
     "status": "ok",
     "timestamp": 1649589592738,
     "user_tz": -120,
     "elapsed": 416,
     "user": {
      "displayName": "Damla",
      "userId": "03285166568766987047"
     }
    }
   },
   "outputs": [],
   "source": [
    "from sparkocr.transformers import ImageToHocr, VisualDocumentNer, BinaryToImage\n",
    "from sparkocr.utils import display_images, display_image"
   ]
  },
  {
   "cell_type": "code",
   "execution_count": null,
   "metadata": {
    "colab": {
     "base_uri": "https://localhost:8080/"
    },
    "id": "tApZPlAQdspF",
    "outputId": "b04e4797-d284-4b85-d11a-a70792afdd94",
    "executionInfo": {
     "status": "ok",
     "timestamp": 1649589597656,
     "user_tz": -120,
     "elapsed": 3713,
     "user": {
      "displayName": "Damla",
      "userId": "03285166568766987047"
     }
    }
   },
   "outputs": [],
   "source": [
    "import pkg_resources\n",
    "test_image_path = pkg_resources.resource_filename('sparkocr', 'resources/ocr/images/SROIE/')\n",
    "bin_df = spark.read.format(\"binaryFile\").load(test_image_path)\n",
    "bin_df.show()"
   ]
  },
  {
   "cell_type": "code",
   "execution_count": null,
   "metadata": {
    "colab": {
     "base_uri": "https://localhost:8080/",
     "height": 1000
    },
    "id": "OMR-HE0xdxWg",
    "outputId": "fd34a64c-50ee-4a12-b834-d69afd5f52fb",
    "executionInfo": {
     "status": "ok",
     "timestamp": 1649589605992,
     "user_tz": -120,
     "elapsed": 6909,
     "user": {
      "displayName": "Damla",
      "userId": "03285166568766987047"
     }
    }
   },
   "outputs": [],
   "source": [
    "image_df = BinaryToImage().transform(bin_df)\n",
    "display_images(image_df)"
   ]
  },
  {
   "cell_type": "code",
   "execution_count": null,
   "metadata": {
    "colab": {
     "base_uri": "https://localhost:8080/"
    },
    "id": "BfpudTbId04T",
    "outputId": "0a4277a1-e4cd-47ef-8216-80e87d9db659",
    "executionInfo": {
     "status": "ok",
     "timestamp": 1649589653874,
     "user_tz": -120,
     "elapsed": 29454,
     "user": {
      "displayName": "Damla",
      "userId": "03285166568766987047"
     }
    }
   },
   "outputs": [],
   "source": [
    "binary_to_image = BinaryToImage()\\\n",
    "    .setOutputCol(\"image\")\n",
    "\n",
    "img_to_hocr = ImageToHocr()\\\n",
    "    .setInputCol(\"image\")\\\n",
    "    .setOutputCol(\"hocr\")\\\n",
    "    .setIgnoreResolution(False)\\\n",
    "    .setOcrParams([\"preserve_interword_spaces=0\"])\n",
    "\n",
    "doc_ner = VisualDocumentNer()\\\n",
    "    .pretrained(\"visual_document_NER_SROIE0526\", \"en\", \"public/ocr/models\")\\\n",
    "    .setInputCol(\"hocr\")    \n",
    "\n",
    "# OCR pipeline\n",
    "ner_pipeline = PipelineModel(stages=[\n",
    "    binary_to_image,\n",
    "    img_to_hocr,\n",
    "    doc_ner\n",
    "])"
   ]
  },
  {
   "cell_type": "code",
   "execution_count": null,
   "metadata": {
    "id": "wFZnjSHjd9oy",
    "executionInfo": {
     "status": "ok",
     "timestamp": 1649589662675,
     "user_tz": -120,
     "elapsed": 570,
     "user": {
      "displayName": "Damla",
      "userId": "03285166568766987047"
     }
    }
   },
   "outputs": [],
   "source": [
    "results = ner_pipeline.transform(bin_df).cache()"
   ]
  },
  {
   "cell_type": "code",
   "execution_count": null,
   "metadata": {
    "colab": {
     "base_uri": "https://localhost:8080/",
     "height": 380
    },
    "id": "Lf9Om4vmhp0P",
    "outputId": "88f76e47-ee86-4389-8236-d54e8ab12d8d",
    "executionInfo": {
     "status": "ok",
     "timestamp": 1649589676194,
     "user_tz": -120,
     "elapsed": 11381,
     "user": {
      "displayName": "Damla",
      "userId": "03285166568766987047"
     }
    }
   },
   "outputs": [],
   "source": [
    "pd_df = results.select('entities').toPandas().explode('entities')\n",
    "\n",
    "pd_df['label'] = pd_df.entities.apply(lambda a : a[3])\n",
    "pd_df['chunk'] = pd_df.entities.apply(lambda a : a[4]['word'])\n",
    "pd_df[pd_df['label'] != \"O\"][['label', 'chunk']].drop_duplicates()"
   ]
  },
  {
   "cell_type": "markdown",
   "source": [
    "## Visual Document NER v2"
   ],
   "metadata": {
    "id": "zmwuTl10U4p8"
   }
  },
  {
   "cell_type": "code",
   "source": [
    "import pkg_resources\n",
    "test_image_path = pkg_resources.resource_filename('sparkocr', 'resources/ocr/forms/form1.jpg')\n",
    "bin_df = spark.read.format(\"binaryFile\").load(test_image_path)\n",
    "bin_df.show()"
   ],
   "metadata": {
    "id": "Zkn3h4mWU9V7",
    "outputId": "780c2f50-456e-4671-c557-8817c5624a20",
    "colab": {
     "base_uri": "https://localhost:8080/"
    },
    "executionInfo": {
     "status": "ok",
     "timestamp": 1649589688702,
     "user_tz": -120,
     "elapsed": 548,
     "user": {
      "displayName": "Damla",
      "userId": "03285166568766987047"
     }
    }
   },
   "execution_count": null,
   "outputs": []
  },
  {
   "cell_type": "code",
   "source": [
    "image_df = BinaryToImage().transform(bin_df)\n",
    "display_images(image_df)"
   ],
   "metadata": {
    "id": "wSv3_MwrVsyl",
    "outputId": "610d0fa5-b1cc-4490-8c63-3b6e51250e7a",
    "colab": {
     "base_uri": "https://localhost:8080/",
     "height": 1000
    },
    "executionInfo": {
     "status": "ok",
     "timestamp": 1649589691514,
     "user_tz": -120,
     "elapsed": 776,
     "user": {
      "displayName": "Damla",
      "userId": "03285166568766987047"
     }
    }
   },
   "execution_count": null,
   "outputs": []
  },
  {
   "cell_type": "code",
   "source": [
    "binary_to_image = BinaryToImage()\\\n",
    "    .setOutputCol(\"image\") \\\n",
    "    .setImageType(ImageType.TYPE_3BYTE_BGR)\n",
    "\n",
    "img_to_hocr = ImageToHocr()\\\n",
    "    .setInputCol(\"image\")\\\n",
    "    .setOutputCol(\"hocr\")\\\n",
    "    .setIgnoreResolution(False)\\\n",
    "    .setOcrParams([\"preserve_interword_spaces=0\"])\n",
    "\n",
    "tokenizer = HocrTokenizer()\\\n",
    "    .setInputCol(\"hocr\")\\\n",
    "    .setOutputCol(\"token\")\n",
    "\n",
    "doc_ner = VisualDocumentNerV2()\\\n",
    "    .pretrained(\"layoutlmv2_funsd\", \"en\", \"clinical/ocr\")\\\n",
    "    .setInputCols([\"token\", \"image\"])\\\n",
    "    .setOutputCol(\"entities\")\n",
    "\n",
    "draw = ImageDrawAnnotations() \\\n",
    "    .setInputCol(\"image\") \\\n",
    "    .setInputChunksCol(\"entities\") \\\n",
    "    .setOutputCol(\"image_with_annotations\") \\\n",
    "    .setFontSize(10) \\\n",
    "    .setLineWidth(4)\\\n",
    "    .setRectColor(Color.red)\n",
    "\n",
    "# OCR pipeline\n",
    "pipeline = PipelineModel(stages=[\n",
    "    binary_to_image,\n",
    "    img_to_hocr,\n",
    "    tokenizer,\n",
    "    doc_ner,\n",
    "    draw\n",
    "])\n",
    "\n",
    "results = pipeline.transform(bin_df).cache()"
   ],
   "metadata": {
    "id": "0UFkmVlBU_4Q",
    "executionInfo": {
     "status": "ok",
     "timestamp": 1649589736872,
     "user_tz": -120,
     "elapsed": 38301,
     "user": {
      "displayName": "Damla",
      "userId": "03285166568766987047"
     }
    }
   },
   "execution_count": null,
   "outputs": []
  },
  {
   "cell_type": "code",
   "source": [
    "pd_df = results.select('entities').toPandas().explode('entities')\n",
    "\n",
    "pd_df['label'] = pd_df.entities.apply(lambda a : a[3])\n",
    "pd_df['chunk'] = pd_df.entities.apply(lambda a : a[4]['word'])\n",
    "pd_result = pd_df[pd_df['label'] != \"O\"][['label', 'chunk']].drop_duplicates()"
   ],
   "metadata": {
    "id": "g-7iPJghVAAW",
    "executionInfo": {
     "status": "ok",
     "timestamp": 1649589741728,
     "user_tz": -120,
     "elapsed": 4860,
     "user": {
      "displayName": "Damla",
      "userId": "03285166568766987047"
     }
    }
   },
   "execution_count": null,
   "outputs": []
  },
  {
   "cell_type": "code",
   "source": [
    "pd_result"
   ],
   "metadata": {
    "id": "YQBL6oqfoAEp",
    "outputId": "a4578aad-48d1-4432-bde0-d214186d7f59",
    "colab": {
     "base_uri": "https://localhost:8080/",
     "height": 534
    },
    "executionInfo": {
     "status": "ok",
     "timestamp": 1649589741730,
     "user_tz": -120,
     "elapsed": 7,
     "user": {
      "displayName": "Damla",
      "userId": "03285166568766987047"
     }
    }
   },
   "execution_count": null,
   "outputs": []
  },
  {
   "cell_type": "code",
   "source": [
    "display_images(results, \"image_with_annotations\", width=1000)"
   ],
   "metadata": {
    "id": "hGs7ZRPuXDEK",
    "outputId": "5b0dd59b-7996-45ce-bac6-5df9c7fe6c79",
    "colab": {
     "base_uri": "https://localhost:8080/",
     "height": 1000
    },
    "executionInfo": {
     "status": "ok",
     "timestamp": 1649589757169,
     "user_tz": -120,
     "elapsed": 1048,
     "user": {
      "displayName": "Damla",
      "userId": "03285166568766987047"
     }
    }
   },
   "execution_count": null,
   "outputs": []
  },
  {
   "cell_type": "markdown",
   "metadata": {
    "id": "pxTd4bZQou19"
   },
   "source": [
    "## Visual Document Classifier"
   ]
  },
  {
   "cell_type": "code",
   "execution_count": null,
   "metadata": {
    "colab": {
     "base_uri": "https://localhost:8080/"
    },
    "id": "ORYkxLJHotl_",
    "outputId": "d8874eb6-6b58-40ab-e755-0ed5b39c2037",
    "executionInfo": {
     "status": "ok",
     "timestamp": 1649589765942,
     "user_tz": -120,
     "elapsed": 1288,
     "user": {
      "displayName": "Damla",
      "userId": "03285166568766987047"
     }
    }
   },
   "outputs": [],
   "source": [
    "import pkg_resources\n",
    "test_image_path = pkg_resources.resource_filename('sparkocr', 'resources/ocr/images/document_classification/')\n",
    "bin_df = spark.read.format(\"binaryFile\").load(test_image_path)\n",
    "bin_df.show()"
   ]
  },
  {
   "cell_type": "code",
   "execution_count": null,
   "metadata": {
    "colab": {
     "base_uri": "https://localhost:8080/",
     "height": 1000
    },
    "id": "N6MJ_d6Go6Y4",
    "outputId": "73c8d0a0-1f14-4066-e625-b04a5d9ab85d",
    "executionInfo": {
     "status": "ok",
     "timestamp": 1649589770465,
     "user_tz": -120,
     "elapsed": 3410,
     "user": {
      "displayName": "Damla",
      "userId": "03285166568766987047"
     }
    }
   },
   "outputs": [],
   "source": [
    "for item in BinaryToImage().transform(bin_df).select(\"image\").collect():\n",
    "    display_image(item.image)"
   ]
  },
  {
   "cell_type": "code",
   "execution_count": null,
   "metadata": {
    "colab": {
     "base_uri": "https://localhost:8080/"
    },
    "id": "dd6UW65tpGSe",
    "outputId": "33511742-f6ae-4352-9522-1b5c184a2438",
    "executionInfo": {
     "status": "ok",
     "timestamp": 1649589813163,
     "user_tz": -120,
     "elapsed": 25414,
     "user": {
      "displayName": "Damla",
      "userId": "03285166568766987047"
     }
    }
   },
   "outputs": [],
   "source": [
    "binary_to_image = BinaryToImage()\\\n",
    "    .setOutputCol(\"image\")\n",
    "\n",
    "img_to_hocr = ImageToHocr()\\\n",
    "    .setInputCol(\"image\")\\\n",
    "    .setOutputCol(\"hocr\")\\\n",
    "    .setIgnoreResolution(False)\\\n",
    "    .setOcrParams([\"preserve_interword_spaces=0\"])\n",
    "\n",
    "doc_classifier = VisualDocumentClassifier()\\\n",
    "    .pretrained(\"visual_document_classifier_tobacco3482\", \"en\", \"clinical/ocr\")\\\n",
    "    .setInputCol(\"hocr\")\\\n",
    "    .setLabelCol(\"label\")\\\n",
    "    .setConfidenceCol(\"conf\")\n",
    "\n",
    "# OCR pipeline\n",
    "classifier_pipeline = PipelineModel(stages=[\n",
    "    binary_to_image,\n",
    "    img_to_hocr,\n",
    "    doc_classifier\n",
    "])"
   ]
  },
  {
   "cell_type": "code",
   "execution_count": null,
   "metadata": {
    "id": "fiwcHng2pO1R",
    "executionInfo": {
     "status": "ok",
     "timestamp": 1649589821700,
     "user_tz": -120,
     "elapsed": 669,
     "user": {
      "displayName": "Damla",
      "userId": "03285166568766987047"
     }
    }
   },
   "outputs": [],
   "source": [
    "results = classifier_pipeline.transform(bin_df)"
   ]
  },
  {
   "cell_type": "code",
   "execution_count": null,
   "metadata": {
    "colab": {
     "base_uri": "https://localhost:8080/"
    },
    "id": "LfjMT8QvpX6h",
    "outputId": "cd53e147-92a4-421c-d566-d428989e87a6",
    "executionInfo": {
     "status": "ok",
     "timestamp": 1649589838304,
     "user_tz": -120,
     "elapsed": 15913,
     "user": {
      "displayName": "Damla",
      "userId": "03285166568766987047"
     }
    }
   },
   "outputs": [],
   "source": [
    "import pyspark.sql.functions as f\n",
    "\n",
    "path_array = f.split(results['path'], '/')\n",
    "results = results.withColumn('filename', path_array.getItem(f.size(path_array)- 1)) \\\n",
    "       .select(\"filename\", \"label\", \"conf\") \\\n",
    "       .show(truncate=False)"
   ]
  },
  {
   "cell_type": "markdown",
   "metadata": {
    "id": "XzVTIQQxqFxy"
   },
   "source": [
    "**Classes in visual_document_classifier_tobacco3482**\n",
    "- Advertisement\n",
    "- Email\n",
    "- Form\n",
    "- Letter\n",
    "- Memo\n",
    "- Report\n",
    "- Resume\n",
    "- Scientific\n",
    "\n"
   ]
  },
  {
   "cell_type": "markdown",
   "source": [
    "## LayoutLMv2 for Key Value Pair Extraction"
   ],
   "metadata": {
    "id": "KgEjQWJ7mvNg"
   }
  },
  {
   "cell_type": "code",
   "source": [
    "import pkg_resources\n",
    "test_image_path = pkg_resources.resource_filename('sparkocr', 'resources/ocr/forms/form1.jpg')\n",
    "bin_df = spark.read.format(\"binaryFile\").load(test_image_path)\n",
    "bin_df.show()"
   ],
   "metadata": {
    "id": "UbxLGybpm2HT",
    "outputId": "5173d6b0-e1ef-4063-c989-6c5665770a82",
    "colab": {
     "base_uri": "https://localhost:8080/"
    },
    "executionInfo": {
     "status": "ok",
     "timestamp": 1649589859690,
     "user_tz": -120,
     "elapsed": 794,
     "user": {
      "displayName": "Damla",
      "userId": "03285166568766987047"
     }
    }
   },
   "execution_count": null,
   "outputs": []
  },
  {
   "cell_type": "code",
   "source": [
    "image_df = BinaryToImage().transform(bin_df)\n",
    "display_images(image_df)"
   ],
   "metadata": {
    "id": "MaY0zig6m85V",
    "outputId": "d978c9a6-a554-4d0f-90a8-28ae1e5d801b",
    "colab": {
     "base_uri": "https://localhost:8080/",
     "height": 1000
    },
    "executionInfo": {
     "status": "ok",
     "timestamp": 1649589865737,
     "user_tz": -120,
     "elapsed": 845,
     "user": {
      "displayName": "Damla",
      "userId": "03285166568766987047"
     }
    }
   },
   "execution_count": null,
   "outputs": []
  },
  {
   "cell_type": "code",
   "source": [
    "binary_to_image = BinaryToImage()\\\n",
    "    .setOutputCol(\"image\") \\\n",
    "    .setImageType(ImageType.TYPE_3BYTE_BGR)\n",
    "\n",
    "img_to_hocr = ImageToHocr()\\\n",
    "    .setInputCol(\"image\")\\\n",
    "    .setOutputCol(\"hocr\")\\\n",
    "    .setIgnoreResolution(False)\\\n",
    "    .setOcrParams([\"preserve_interword_spaces=0\"])\n",
    "\n",
    "tokenizer = HocrTokenizer()\\\n",
    "    .setInputCol(\"hocr\")\\\n",
    "    .setOutputCol(\"token\")\n",
    "\n",
    "doc_ner_cust = VisualDocumentNerV2()\\\n",
    "    .pretrained(\"layoutlmv2_key_value_pairs\", \"en\", \"clinical/ocr\")\\\n",
    "    .setInputCols([\"token\", \"image\"])\\\n",
    "    .setOutputCol(\"entities\")\\\n",
    "    .setLabels([\"other\",\n",
    "                \"header\",\n",
    "                \"header\",\n",
    "                \"key\",\n",
    "                \"key\",\n",
    "                \"value\",\n",
    "                \"value\"])\\\n",
    "    .setWhiteList([\"header\",\n",
    "                   \"key\",\n",
    "                   \"value\"])\n",
    "\n",
    "draw = ImageDrawAnnotations() \\\n",
    "    .setInputCol(\"image\") \\\n",
    "    .setInputChunksCol(\"entities\") \\\n",
    "    .setOutputCol(\"image_with_annotations\") \\\n",
    "    .setFontSize(10) \\\n",
    "    .setLineWidth(4)\\\n",
    "    .setRectColor(Color.red)\n",
    "\n",
    "\n",
    "# OCR pipeline\n",
    "pipeline = PipelineModel(stages=[\n",
    "    binary_to_image,\n",
    "    img_to_hocr,\n",
    "    tokenizer,\n",
    "    doc_ner_cust,\n",
    "    draw\n",
    "])\n",
    "\n",
    "results = pipeline.transform(bin_df).cache()\n",
    "display_images(results, \"image_with_annotations\", width=1000)"
   ],
   "metadata": {
    "id": "LW5Sr5HYm_in",
    "outputId": "759ef7d1-bd1c-49fb-8912-9b66f08d1cc7",
    "colab": {
     "base_uri": "https://localhost:8080/",
     "height": 1000
    },
    "executionInfo": {
     "status": "ok",
     "timestamp": 1649589928533,
     "user_tz": -120,
     "elapsed": 52517,
     "user": {
      "displayName": "Damla",
      "userId": "03285166568766987047"
     }
    }
   },
   "execution_count": null,
   "outputs": []
  },
  {
   "cell_type": "code",
   "source": [
    "pd_df = results.select('entities').toPandas().explode('entities')\n",
    "\n",
    "pd_df['label'] = pd_df.entities.apply(lambda a : a[3])\n",
    "pd_df['chunk'] = pd_df.entities.apply(lambda a : a[4]['word'])\n",
    "pd_result = pd_df[pd_df['label'] != \"O\"][['label', 'chunk']].drop_duplicates()\n",
    "pd_result"
   ],
   "metadata": {
    "id": "BPm79Hq_nHWT",
    "outputId": "4e399a9e-ef63-4867-b821-bdaaf51837b8",
    "colab": {
     "base_uri": "https://localhost:8080/",
     "height": 1000
    },
    "executionInfo": {
     "status": "ok",
     "timestamp": 1649589938352,
     "user_tz": -120,
     "elapsed": 2202,
     "user": {
      "displayName": "Damla",
      "userId": "03285166568766987047"
     }
    }
   },
   "execution_count": null,
   "outputs": []
  }
 ]
}
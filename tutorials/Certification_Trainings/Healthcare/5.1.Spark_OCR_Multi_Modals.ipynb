{
 "cells": [
  {
   "cell_type": "markdown",
   "metadata": {
    "id": "340V93TJkZAO"
   },
   "source": [
    "![JohnSnowLabs](https://nlp.johnsnowlabs.com/assets/images/logo.png)"
   ]
  },
  {
   "cell_type": "markdown",
   "metadata": {
    "id": "rbEi4uEBkZAZ"
   },
   "source": [
    "[![Open In Colab](https://colab.research.google.com/assets/colab-badge.svg)](https://colab.research.google.com/github/JohnSnowLabs/spark-nlp-workshop/blob/master/tutorials/Certification_Trainings/Healthcare/5.1.Spark_OCR_Multi_Modals.ipynb)"
   ]
  },
  {
   "cell_type": "markdown",
   "metadata": {
    "id": "Niy3mZAjoayg"
   },
   "source": [
    "# Spark OCR "
   ]
  },
  {
   "cell_type": "markdown",
   "metadata": {
    "id": "YNJUQPsXvuSV"
   },
   "source": [
    "\n",
    "## Blogposts and videos\n",
    "\n",
    "- [How to Setup Spark OCR on UBUNTU - Video](https://www.youtube.com/watch?v=cmt4WIcL0nI)\n",
    "\n",
    "- [Installing Spark NLP and Spark OCR in air-gapped networks (offline mode)\n",
    "](https://medium.com/spark-nlp/installing-spark-nlp-and-spark-ocr-in-air-gapped-networks-offline-mode-f42a1ee6b7a8)\n",
    "\n",
    "- [Table Detection & Extraction in Spark OCR](https://medium.com/spark-nlp/table-detection-extraction-in-spark-ocr-50765c6cedc9)\n",
    "\n",
    "- [Signature Detection in Spark OCR](https://medium.com/spark-nlp/signature-detection-in-spark-ocr-32f9e6f91e3c)\n",
    "\n",
    "- [GPU image pre-processing in Spark OCR](https://medium.com/spark-nlp/gpu-image-pre-processing-in-spark-ocr-3-1-0-6fc27560a9bb)\n",
    "\n",
    "**More examples here**\n",
    "\n",
    "https://github.com/JohnSnowLabs/spark-ocr-workshop"
   ]
  },
  {
   "cell_type": "markdown",
   "metadata": {
    "id": "okhT7AcXxben"
   },
   "source": [
    "**Colab Setup**"
   ]
  },
  {
   "cell_type": "code",
   "execution_count": null,
   "metadata": {
    "id": "MVf_2iqGIJ4B"
   },
   "outputs": [],
   "source": [
    "import json, os\n",
    "from google.colab import files\n",
    "\n",
    "if 'spark_jsl.json' not in os.listdir():\n",
    "  license_keys = files.upload()\n",
    "  os.rename(list(license_keys.keys())[0], 'spark_ocr.json')\n",
    "\n",
    "with open('spark_ocr.json') as f:\n",
    "    license_keys = json.load(f)\n",
    "\n",
    "# Defining license key-value pairs as local variables\n",
    "locals().update(license_keys)"
   ]
  },
  {
   "cell_type": "code",
   "execution_count": null,
   "metadata": {
    "id": "WkylJaGx-COY"
   },
   "outputs": [],
   "source": [
    "# Installing Spark OCR\n",
    "! pip install spark-ocr==$OCR_VERSION --extra-index-url=https://pypi.johnsnowlabs.com/$SPARK_OCR_SECRET --upgrade\n",
    "\n",
    "# Installing pyspark and spark-nlp\n",
    "! pip install --upgrade -q pyspark==3.2.1 spark-nlp==$PUBLIC_VERSION"
   ]
  },
  {
   "cell_type": "markdown",
   "metadata": {
    "id": "X31h1agcPBrh"
   },
   "source": [
    "<b><h1><font color='darkred'>!!! ATTENTION !!! </font><h1><b>\n",
    "\n",
    "<b>After running previous cell, <font color='darkred'>RESTART the COLAB RUNTIME </font> and go ahead.<b>"
   ]
  },
  {
   "cell_type": "code",
   "execution_count": null,
   "metadata": {
    "executionInfo": {
     "elapsed": 4,
     "status": "ok",
     "timestamp": 1681840164370,
     "user": {
      "displayName": "Monster C",
      "userId": "08787989274818793476"
     },
     "user_tz": -180
    },
    "id": "Lx0dcQXiInzO"
   },
   "outputs": [],
   "source": [
    "import json, os\n",
    "\n",
    "with open(\"spark_ocr.json\", 'r') as f:\n",
    "  license_keys = json.load(f)\n",
    "\n",
    "# Adding license key-value pairs to environment variables\n",
    "os.environ.update(license_keys)\n",
    "\n",
    "# Defining license key-value pairs as local variables\n",
    "locals().update(license_keys)"
   ]
  },
  {
   "cell_type": "code",
   "execution_count": null,
   "metadata": {
    "executionInfo": {
     "elapsed": 8283,
     "status": "ok",
     "timestamp": 1681840172650,
     "user": {
      "displayName": "Monster C",
      "userId": "08787989274818793476"
     },
     "user_tz": -180
    },
    "id": "lC4Tt3onRBJy"
   },
   "outputs": [],
   "source": [
    "import sparkocr\n",
    "import sys\n",
    "from pyspark.sql import SparkSession\n",
    "from sparkocr import start\n",
    "import base64\n",
    "from sparkocr.transformers import *\n",
    "from pyspark.ml import PipelineModel\n",
    "from pyspark.sql import functions as F\n",
    "from sparkocr.enums import *\n",
    "from sparkocr.utils import display_images"
   ]
  },
  {
   "cell_type": "code",
   "execution_count": null,
   "metadata": {
    "colab": {
     "base_uri": "https://localhost:8080/",
     "height": 295
    },
    "executionInfo": {
     "elapsed": 55239,
     "status": "ok",
     "timestamp": 1681840227883,
     "user": {
      "displayName": "Monster C",
      "userId": "08787989274818793476"
     },
     "user_tz": -180
    },
    "id": "LME81NOHFjqC",
    "outputId": "aa217e2d-0722-4e27-9269-f9604384a0f8"
   },
   "outputs": [],
   "source": [
    "# Start spark\n",
    "spark = sparkocr.start(secret=SPARK_OCR_SECRET, \n",
    "                       nlp_version=PUBLIC_VERSION\n",
    "                       )\n",
    "\n",
    "spark"
   ]
  },
  {
   "cell_type": "markdown",
   "metadata": {
    "id": "UYWXzBivLcBL"
   },
   "source": [
    "## Working with tables"
   ]
  },
  {
   "cell_type": "markdown",
   "metadata": {
    "id": "BxqZWNDVsTO4"
   },
   "source": [
    "### Table Detection"
   ]
  },
  {
   "cell_type": "markdown",
   "metadata": {
    "id": "Lttmj2_3DvTm"
   },
   "source": [
    "**Load images**"
   ]
  },
  {
   "cell_type": "code",
   "execution_count": null,
   "metadata": {
    "executionInfo": {
     "elapsed": 1035,
     "status": "ok",
     "timestamp": 1681840228914,
     "user": {
      "displayName": "Monster C",
      "userId": "08787989274818793476"
     },
     "user_tz": -180
    },
    "id": "HVKJRS29sZHV"
   },
   "outputs": [],
   "source": [
    "!wget -q raw.githubusercontent.com/JohnSnowLabs/spark-ocr-workshop/master/jupyter/data/tab_images/cTDaR_t10168.jpg -P table_image/\n",
    "!wget -q raw.githubusercontent.com/JohnSnowLabs/spark-ocr-workshop/master/jupyter/data/tab_images/cTDaR_t10011.jpg -P table_image/"
   ]
  },
  {
   "cell_type": "markdown",
   "metadata": {
    "id": "1fup7iKwDxtj"
   },
   "source": [
    "**Read and display images**"
   ]
  },
  {
   "cell_type": "code",
   "execution_count": null,
   "metadata": {
    "executionInfo": {
     "elapsed": 7,
     "status": "ok",
     "timestamp": 1681840228915,
     "user": {
      "displayName": "Monster C",
      "userId": "08787989274818793476"
     },
     "user_tz": -180
    },
    "id": "HjpQWXpfFate"
   },
   "outputs": [],
   "source": [
    "from sparkocr.utils import display_tables"
   ]
  },
  {
   "cell_type": "code",
   "execution_count": null,
   "metadata": {
    "colab": {
     "base_uri": "https://localhost:8080/",
     "height": 1000
    },
    "executionInfo": {
     "elapsed": 8009,
     "status": "ok",
     "timestamp": 1681840236918,
     "user": {
      "displayName": "Monster C",
      "userId": "08787989274818793476"
     },
     "user_tz": -180
    },
    "id": "7zSeSgtbtGI-",
    "outputId": "adeee35a-f884-4b18-9714-3b0a22f0fbdf"
   },
   "outputs": [],
   "source": [
    "image_df = spark.read.format(\"binaryFile\").load(\"/content/table_image/*.jpg\")\n",
    "\n",
    "display_images(BinaryToImage().transform(image_df), \"image\")"
   ]
  },
  {
   "cell_type": "markdown",
   "metadata": {
    "id": "365FO1UrD1Un"
   },
   "source": [
    "**Create OCR Pipeline**"
   ]
  },
  {
   "cell_type": "code",
   "execution_count": null,
   "metadata": {
    "colab": {
     "base_uri": "https://localhost:8080/"
    },
    "executionInfo": {
     "elapsed": 15899,
     "status": "ok",
     "timestamp": 1681840252810,
     "user": {
      "displayName": "Monster C",
      "userId": "08787989274818793476"
     },
     "user_tz": -180
    },
    "id": "kn69uk9Zu_0n",
    "outputId": "1364c14a-ae86-453b-b59f-2d5a91988ae5"
   },
   "outputs": [],
   "source": [
    "binary_to_image = BinaryToImage() \n",
    "binary_to_image.setImageType(ImageType.TYPE_3BYTE_BGR)\n",
    "\n",
    "table_detector = ImageTableDetector.pretrained(\"general_model_table_detection_v2\", \"en\", \"clinical/ocr\")\n",
    "table_detector.setInputCol(\"image\")\n",
    "table_detector.setOutputCol(\"table_regions\")\n",
    "\n",
    "draw_regions = ImageDrawRegions()\n",
    "draw_regions.setInputCol(\"image\")\n",
    "draw_regions.setInputRegionsCol(\"table_regions\")\n",
    "draw_regions.setOutputCol(\"image_with_regions\")\n",
    "draw_regions.setRectColor(Color.red)\n",
    "\n",
    "pipeline = PipelineModel(stages=[\n",
    "    binary_to_image,\n",
    "    table_detector,\n",
    "    draw_regions\n",
    "])"
   ]
  },
  {
   "cell_type": "markdown",
   "metadata": {
    "id": "TAe4aAEPD7yf"
   },
   "source": [
    "**Show results**"
   ]
  },
  {
   "cell_type": "code",
   "execution_count": null,
   "metadata": {
    "colab": {
     "base_uri": "https://localhost:8080/",
     "height": 1000
    },
    "executionInfo": {
     "elapsed": 31099,
     "status": "ok",
     "timestamp": 1681840283906,
     "user": {
      "displayName": "Monster C",
      "userId": "08787989274818793476"
     },
     "user_tz": -180
    },
    "id": "53dXnGQmwice",
    "outputId": "fc44cab9-4ad6-487a-f6ae-569aec29033a"
   },
   "outputs": [],
   "source": [
    "result =  pipeline.transform(image_df)\n",
    "display_images(result, \"image_with_regions\")"
   ]
  },
  {
   "cell_type": "markdown",
   "metadata": {
    "id": "Jf4VMyqOEbBq"
   },
   "source": [
    "### Table Recognition"
   ]
  },
  {
   "cell_type": "code",
   "execution_count": null,
   "metadata": {
    "executionInfo": {
     "elapsed": 17,
     "status": "ok",
     "timestamp": 1681840283907,
     "user": {
      "displayName": "Monster C",
      "userId": "08787989274818793476"
     },
     "user_tz": -180
    },
    "id": "T13zUnYhE4XX"
   },
   "outputs": [],
   "source": [
    "from pyspark.sql.functions import desc, row_number, monotonically_increasing_id\n",
    "from pyspark.sql.window import Window\n",
    "import pyspark.sql.functions as f"
   ]
  },
  {
   "cell_type": "markdown",
   "metadata": {
    "id": "JZcmBA4AF92b"
   },
   "source": [
    "**Load and display the images.**"
   ]
  },
  {
   "cell_type": "code",
   "execution_count": null,
   "metadata": {
    "colab": {
     "base_uri": "https://localhost:8080/",
     "height": 1000
    },
    "executionInfo": {
     "elapsed": 3012,
     "status": "ok",
     "timestamp": 1681840286903,
     "user": {
      "displayName": "Monster C",
      "userId": "08787989274818793476"
     },
     "user_tz": -180
    },
    "id": "0awzgIydEeIg",
    "outputId": "c8fde6eb-e323-4ab5-ddde-4807741128f0"
   },
   "outputs": [],
   "source": [
    "image_df= spark.read.format(\"binaryFile\").load(\"table_image\")\n",
    "\n",
    "# add index to the dataframe\n",
    "image_df_with_seq_id = image_df.withColumn('index', row_number().over(Window.orderBy(monotonically_increasing_id())) - 1)\n",
    "\n",
    "display_images(BinaryToImage().transform(image_df), \"image\")"
   ]
  },
  {
   "cell_type": "markdown",
   "metadata": {
    "id": "E40yjxJnF1_I"
   },
   "source": [
    "**Create OCR pipeline.**"
   ]
  },
  {
   "cell_type": "code",
   "execution_count": null,
   "metadata": {
    "colab": {
     "base_uri": "https://localhost:8080/"
    },
    "executionInfo": {
     "elapsed": 9,
     "status": "ok",
     "timestamp": 1681840286904,
     "user": {
      "displayName": "Monster C",
      "userId": "08787989274818793476"
     },
     "user_tz": -180
    },
    "id": "cSUgEg8lE8Sc",
    "outputId": "f2f6630d-ba51-41ba-a7de-4390948e0c1a"
   },
   "outputs": [],
   "source": [
    "binary_to_image = BinaryToImage()\n",
    "# need set image type for correct work TableDetection model\n",
    "binary_to_image.setImageType(ImageType.TYPE_3BYTE_BGR)\n",
    "\n",
    "table_detector = ImageTableDetector.pretrained(\"general_model_table_detection_v2\", \"en\", \"clinical/ocr\")\n",
    "table_detector.setInputCol(\"image\")\n",
    "table_detector.setOutputCol(\"region\")\n",
    "\n",
    "splitter = ImageSplitRegions()\n",
    "splitter.setInputCol(\"image\")\n",
    "splitter.setInputRegionsCol(\"region\")\n",
    "splitter.setOutputCol(\"table_image\")\n",
    "splitter.setDropCols(\"image\")\n",
    "splitter.setImageType(ImageType.TYPE_BYTE_GRAY)\n",
    "\n",
    "scaler = ImageScaler()\n",
    "scaler.setInputCol(\"table_image\")\n",
    "scaler.setOutputCol(\"scaled_image\")\n",
    "scaler.setScaleFactor(2)\n",
    "\n",
    "cell_detector = ImageTableCellDetector()\n",
    "cell_detector.setInputCol(\"scaled_image\")\n",
    "cell_detector.setOutputCol(\"cells\")\n",
    "cell_detector.setKeepInput(True)\n",
    "\n",
    "table_recognition = ImageCellsToTextTable()\n",
    "table_recognition.setInputCol(\"scaled_image\")\n",
    "table_recognition.setCellsCol('cells')\n",
    "table_recognition.setMargin(1)\n",
    "table_recognition.setStrip(True)\n",
    "table_recognition.setOutputCol('table')\n",
    "\n",
    "\n",
    "pipeline = PipelineModel(stages=[\n",
    "    binary_to_image,\n",
    "    table_detector,\n",
    "    splitter,\n",
    "    scaler,\n",
    "    cell_detector,\n",
    "    table_recognition\n",
    "])"
   ]
  },
  {
   "cell_type": "markdown",
   "metadata": {
    "id": "o8vocA5mFT2R"
   },
   "source": [
    "**Run the pipeline and display the tables in the images.**"
   ]
  },
  {
   "cell_type": "code",
   "execution_count": null,
   "metadata": {
    "colab": {
     "base_uri": "https://localhost:8080/",
     "height": 1000
    },
    "executionInfo": {
     "elapsed": 32732,
     "status": "ok",
     "timestamp": 1681840319631,
     "user": {
      "displayName": "Monster C",
      "userId": "08787989274818793476"
     },
     "user_tz": -180
    },
    "id": "wQXtf6l3FAmE",
    "outputId": "fe07d777-6281-407d-eb48-20236e362f4a"
   },
   "outputs": [],
   "source": [
    "results = pipeline.transform(image_df_with_seq_id).cache()\n",
    "display_images(results, \"table_image\")"
   ]
  },
  {
   "cell_type": "markdown",
   "metadata": {
    "id": "QpnXZcsLFSDz"
   },
   "source": [
    "**Display recognized tables**"
   ]
  },
  {
   "cell_type": "code",
   "execution_count": null,
   "metadata": {
    "colab": {
     "base_uri": "https://localhost:8080/",
     "height": 1000
    },
    "executionInfo": {
     "elapsed": 3940,
     "status": "ok",
     "timestamp": 1681840323566,
     "user": {
      "displayName": "Monster C",
      "userId": "08787989274818793476"
     },
     "user_tz": -180
    },
    "id": "qFM1nApPa9wk",
    "outputId": "ddda958f-e224-4da3-c88b-8465e3d02be0"
   },
   "outputs": [],
   "source": [
    "display_tables(results)"
   ]
  },
  {
   "cell_type": "markdown",
   "metadata": {
    "id": "K2NlmVUbCpTk"
   },
   "source": [
    "### Table Cell Recognition"
   ]
  },
  {
   "cell_type": "markdown",
   "metadata": {
    "id": "Esw2EmGoDlTO"
   },
   "source": [
    "**Read and display images**"
   ]
  },
  {
   "cell_type": "code",
   "execution_count": null,
   "metadata": {
    "colab": {
     "base_uri": "https://localhost:8080/",
     "height": 1000
    },
    "executionInfo": {
     "elapsed": 2653,
     "status": "ok",
     "timestamp": 1681840326216,
     "user": {
      "displayName": "Monster C",
      "userId": "08787989274818793476"
     },
     "user_tz": -180
    },
    "id": "P3Yn8FolYm1q",
    "outputId": "1b40d427-d664-4357-f542-60c4498312fe"
   },
   "outputs": [],
   "source": [
    "from sparkocr.transformers import *\n",
    "from sparkocr.enums import *\n",
    "from sparkocr.utils import display_images, display_table, display_tables\n",
    "from pyspark.ml import PipelineModel\n",
    "import pyspark.sql.functions as f\n",
    "\n",
    "import pkg_resources\n",
    "test_image_path = pkg_resources.resource_filename('sparkocr', 'resources/ocr/tableImage/table[0,2,4]*.*')\n",
    "image_df= spark.read.format(\"binaryFile\").load(test_image_path)\n",
    "\n",
    "display_images(BinaryToImage().transform(image_df), \"image\")"
   ]
  },
  {
   "cell_type": "markdown",
   "metadata": {
    "id": "jxiDot9NDel0"
   },
   "source": [
    "**Define OCR Pipeline**"
   ]
  },
  {
   "cell_type": "code",
   "execution_count": null,
   "metadata": {
    "executionInfo": {
     "elapsed": 6,
     "status": "ok",
     "timestamp": 1681840326217,
     "user": {
      "displayName": "Monster C",
      "userId": "08787989274818793476"
     },
     "user_tz": -180
    },
    "id": "zLj4Qda5DH69"
   },
   "outputs": [],
   "source": [
    "binary_to_image = BinaryToImage()\n",
    "binary_to_image.setImageType(ImageType.TYPE_BYTE_GRAY)\n",
    "binary_to_image.setInputCol(\"content\")\n",
    "\n",
    "cell_detector = ImageTableCellDetector()\n",
    "cell_detector.setInputCol(\"image\")\n",
    "cell_detector.setOutputCol(\"cells\")\n",
    "cell_detector.setKeepInput(True)\n",
    "cell_detector.setAlgoType(\"morphops\")\n",
    "cell_detector.setDrawDetectedLines(True)\n",
    "\n",
    "table_recognition = ImageCellsToTextTable()\n",
    "#table_recognition.setInputCol(\"output_image\")\n",
    "table_recognition.setInputCol(\"image\")\n",
    "table_recognition.setCellsCol('cells')\n",
    "table_recognition.setMargin(2)\n",
    "table_recognition.setStrip(True)\n",
    "table_recognition.setOutputCol('table')\n",
    "\n",
    "pipeline = PipelineModel(stages=[\n",
    "    binary_to_image,\n",
    "     cell_detector,\n",
    "     table_recognition\n",
    "])"
   ]
  },
  {
   "cell_type": "markdown",
   "metadata": {
    "id": "8RuVEbrZDZ83"
   },
   "source": [
    "**Run Pipeline**"
   ]
  },
  {
   "cell_type": "code",
   "execution_count": null,
   "metadata": {
    "executionInfo": {
     "elapsed": 6,
     "status": "ok",
     "timestamp": 1681840326217,
     "user": {
      "displayName": "Monster C",
      "userId": "08787989274818793476"
     },
     "user_tz": -180
    },
    "id": "x-RD81dxEsZa"
   },
   "outputs": [],
   "source": [
    "results = pipeline.transform(image_df).cache()"
   ]
  },
  {
   "cell_type": "code",
   "execution_count": null,
   "metadata": {
    "executionInfo": {
     "elapsed": 5,
     "status": "ok",
     "timestamp": 1681840326217,
     "user": {
      "displayName": "Monster C",
      "userId": "08787989274818793476"
     },
     "user_tz": -180
    },
    "id": "Byy9iicW6dax"
   },
   "outputs": [],
   "source": [
    "results= results.na.drop(subset=[\"cells\", \"output_image\", \"table\"])"
   ]
  },
  {
   "cell_type": "code",
   "execution_count": null,
   "metadata": {
    "colab": {
     "base_uri": "https://localhost:8080/",
     "height": 1000
    },
    "executionInfo": {
     "elapsed": 17535,
     "status": "ok",
     "timestamp": 1681840343747,
     "user": {
      "displayName": "Monster C",
      "userId": "08787989274818793476"
     },
     "user_tz": -180
    },
    "id": "6A1u5DOpEx3F",
    "outputId": "11f15bd4-1c56-4698-c536-72e71ea297f6"
   },
   "outputs": [],
   "source": [
    "display_images(results, \"image\")"
   ]
  },
  {
   "cell_type": "code",
   "execution_count": null,
   "metadata": {
    "colab": {
     "base_uri": "https://localhost:8080/",
     "height": 1000
    },
    "executionInfo": {
     "elapsed": 1594,
     "status": "ok",
     "timestamp": 1681840345337,
     "user": {
      "displayName": "Monster C",
      "userId": "08787989274818793476"
     },
     "user_tz": -180
    },
    "id": "FBGPfjLtFOaR",
    "outputId": "62039d19-dd9d-4649-862c-ba2b6ca4a320"
   },
   "outputs": [],
   "source": [
    "display_tables(results)"
   ]
  },
  {
   "cell_type": "markdown",
   "metadata": {
    "id": "O-LCRPGVDWHq"
   },
   "source": [
    "**Show recognized cells for first image**"
   ]
  },
  {
   "cell_type": "code",
   "execution_count": null,
   "metadata": {
    "executionInfo": {
     "elapsed": 4,
     "status": "ok",
     "timestamp": 1681840345338,
     "user": {
      "displayName": "Monster C",
      "userId": "08787989274818793476"
     },
     "user_tz": -180
    },
    "id": "WOCRvd5lDMVu"
   },
   "outputs": [],
   "source": [
    "table_recognition_csv = ImageCellsToTextTable()\n",
    "table_recognition_csv.setInputCol(\"image\")\n",
    "table_recognition_csv.setCellsCol('cells')\n",
    "table_recognition_csv.setMargin(2)\n",
    "table_recognition_csv.setStrip(True)\n",
    "table_recognition_csv.setOutputCol('table')\n",
    "table_recognition_csv.setOutputFormat('csv')\n",
    "\n",
    "pipeline_csv = PipelineModel(stages=[\n",
    "    binary_to_image,\n",
    "     cell_detector,\n",
    "     table_recognition_csv\n",
    "])"
   ]
  },
  {
   "cell_type": "code",
   "execution_count": null,
   "metadata": {
    "colab": {
     "base_uri": "https://localhost:8080/"
    },
    "executionInfo": {
     "elapsed": 12588,
     "status": "ok",
     "timestamp": 1681840357923,
     "user": {
      "displayName": "Monster C",
      "userId": "08787989274818793476"
     },
     "user_tz": -180
    },
    "id": "FlS6F2voICWK",
    "outputId": "f0868244-87f4-4b98-80c1-cc61e561d3d1"
   },
   "outputs": [],
   "source": [
    "results_csv = pipeline_csv.transform(image_df).cache()\n",
    "print(results_csv.select(\"table\").collect()[2].table)"
   ]
  },
  {
   "cell_type": "markdown",
   "metadata": {
    "id": "Xuot2n5Ocq8Z"
   },
   "source": [
    "##Handwritten Detection"
   ]
  },
  {
   "cell_type": "code",
   "execution_count": null,
   "metadata": {
    "executionInfo": {
     "elapsed": 13,
     "status": "ok",
     "timestamp": 1681840357924,
     "user": {
      "displayName": "Monster C",
      "userId": "08787989274818793476"
     },
     "user_tz": -180
    },
    "id": "h__UlAgbcyxI"
   },
   "outputs": [],
   "source": [
    "!wget -q https://raw.githubusercontent.com/JohnSnowLabs/spark-ocr-workshop/master/jupyter/data/handwritten/page1.jpeg"
   ]
  },
  {
   "cell_type": "code",
   "execution_count": null,
   "metadata": {
    "colab": {
     "base_uri": "https://localhost:8080/",
     "height": 1000
    },
    "executionInfo": {
     "elapsed": 2845,
     "status": "ok",
     "timestamp": 1681840360758,
     "user": {
      "displayName": "Monster C",
      "userId": "08787989274818793476"
     },
     "user_tz": -180
    },
    "id": "EU7VGHz0c0Bz",
    "outputId": "efb5fc47-e30a-4263-a02a-5609d9dcde60"
   },
   "outputs": [],
   "source": [
    "image_df = spark.read.format(\"binaryFile\").load('page1.jpeg')\n",
    "\n",
    "display_images(BinaryToImage().transform(image_df), \"image\")"
   ]
  },
  {
   "cell_type": "code",
   "execution_count": null,
   "metadata": {
    "colab": {
     "base_uri": "https://localhost:8080/"
    },
    "id": "mKHD3LJ5dASO",
    "outputId": "3be98282-0c66-4462-b446-fba63b5a29b6",
    "executionInfo": {
     "status": "ok",
     "timestamp": 1681840372516,
     "user_tz": -180,
     "elapsed": 11772,
     "user": {
      "displayName": "Monster C",
      "userId": "08787989274818793476"
     }
    }
   },
   "outputs": [],
   "source": [
    "binary_to_image = BinaryToImage()\n",
    "binary_to_image.setImageType(ImageType.TYPE_3BYTE_BGR)\n",
    "\n",
    "pretrained_model = (\"image_handwritten_detector_gsa0803\", \"en\", \"public/ocr/models\")\n",
    "\n",
    "handwritten_detector = ImageHandwrittenDetector() \\\n",
    "    .pretrained(*pretrained_model) \\\n",
    "    .setInputCol(\"image\") \\\n",
    "    .setOutputCol(\"handwritten_regions\") \\\n",
    "    .setScoreThreshold(0.4)\n",
    "\n",
    "draw_regions = ImageDrawRegions() \\\n",
    "    .setInputCol(\"image\") \\\n",
    "    .setInputRegionsCol(\"handwritten_regions\") \\\n",
    "    .setOutputCol(\"image_with_regions\") \\\n",
    "    .setFontSize(16) \\\n",
    "    .setRectColor(Color.red)\n",
    "\n",
    "pipeline = PipelineModel(stages=[\n",
    "    binary_to_image,\n",
    "    handwritten_detector,\n",
    "    draw_regions\n",
    "])"
   ]
  },
  {
   "cell_type": "code",
   "execution_count": null,
   "metadata": {
    "id": "JoGNgD3WdLwE",
    "colab": {
     "base_uri": "https://localhost:8080/",
     "height": 1000,
     "output_embedded_package_id": "1609UYTp8KUxSfRJ36tRYICaWBmP2B9YW"
    },
    "executionInfo": {
     "status": "ok",
     "timestamp": 1681840388631,
     "user_tz": -180,
     "elapsed": 16129,
     "user": {
      "displayName": "Monster C",
      "userId": "08787989274818793476"
     }
    },
    "outputId": "d8a0a8dc-2a91-4d19-ebcd-00f627a4e39d"
   },
   "outputs": [],
   "source": [
    "result =  pipeline.transform(image_df).cache()\n",
    "display_images(result, \"image_with_regions\")"
   ]
  },
  {
   "cell_type": "markdown",
   "metadata": {
    "id": "41HDNNmS_aHH"
   },
   "source": [
    "##Signature Detection"
   ]
  },
  {
   "cell_type": "code",
   "execution_count": null,
   "metadata": {
    "id": "o2dUZKaV_fmH",
    "executionInfo": {
     "status": "ok",
     "timestamp": 1681840388632,
     "user_tz": -180,
     "elapsed": 6,
     "user": {
      "displayName": "Monster C",
      "userId": "08787989274818793476"
     }
    }
   },
   "outputs": [],
   "source": [
    "!wget -q https://raw.githubusercontent.com/JohnSnowLabs/spark-ocr-workshop/master/jupyter/data/signature/image_147.png"
   ]
  },
  {
   "cell_type": "code",
   "execution_count": null,
   "metadata": {
    "colab": {
     "base_uri": "https://localhost:8080/",
     "height": 1000,
     "output_embedded_package_id": "19Hd4oL8Hy2pIk9PS9oV7DXjMM91eSE5z"
    },
    "id": "-RuR-j-i_4iA",
    "executionInfo": {
     "status": "ok",
     "timestamp": 1681840402976,
     "user_tz": -180,
     "elapsed": 14348,
     "user": {
      "displayName": "Monster C",
      "userId": "08787989274818793476"
     }
    },
    "outputId": "e577323a-f670-4101-fc22-5d143ee9cbfe"
   },
   "outputs": [],
   "source": [
    "image_file = 'image_147.png'\n",
    "image_df = spark.read.format(\"binaryFile\").load(image_file)\n",
    "\n",
    "display_images(BinaryToImage().transform(image_df), \"image\")"
   ]
  },
  {
   "cell_type": "markdown",
   "metadata": {
    "id": "yQJyj3iHAm4H"
   },
   "source": [
    "**Define OCR Pipeline**"
   ]
  },
  {
   "cell_type": "code",
   "execution_count": null,
   "metadata": {
    "id": "1nyHluXVAj3r",
    "colab": {
     "base_uri": "https://localhost:8080/"
    },
    "executionInfo": {
     "status": "ok",
     "timestamp": 1681840403531,
     "user_tz": -180,
     "elapsed": 561,
     "user": {
      "displayName": "Monster C",
      "userId": "08787989274818793476"
     }
    },
    "outputId": "37b2e657-3896-4360-c5b6-3a0ccade67b8"
   },
   "outputs": [],
   "source": [
    "binary_to_image = BinaryToImage()\n",
    "binary_to_image.setImageType(ImageType.TYPE_3BYTE_BGR)\n",
    "\n",
    "pretrained_model = (\"image_handwritten_detector_gsa0628\", \"en\", \"public/ocr/models\")\n",
    "signature_detector = ImageHandwrittenDetector() \\\n",
    "    .pretrained(*pretrained_model) \\\n",
    "    .setInputCol(\"image\") \\\n",
    "    .setOutputCol(\"signature_regions\") \\\n",
    "    .setOutputLabels([\"signature\"]) \\\n",
    "    .setScoreThreshold(0.4)\n",
    "\n",
    "draw_regions = ImageDrawRegions() \\\n",
    "    .setInputCol(\"image\") \\\n",
    "    .setInputRegionsCol(\"signature_regions\") \\\n",
    "    .setOutputCol(\"image_with_regions\") \\\n",
    "    .setFontSize(16) \\\n",
    "    .setRectColor(Color.red)\n",
    "\n",
    "pipeline = PipelineModel(stages=[\n",
    "    binary_to_image,\n",
    "    signature_detector,\n",
    "    draw_regions\n",
    "])"
   ]
  },
  {
   "cell_type": "markdown",
   "metadata": {
    "id": "Mx53uoc4A1bi"
   },
   "source": [
    "**Run pipeline and show results**"
   ]
  },
  {
   "cell_type": "code",
   "execution_count": null,
   "metadata": {
    "colab": {
     "base_uri": "https://localhost:8080/",
     "height": 1000,
     "output_embedded_package_id": "1xQIEiImIZwEz9Dsy0EgNT0EOmwrJuZHs"
    },
    "id": "TtrkXKUyA0SD",
    "executionInfo": {
     "status": "ok",
     "timestamp": 1681840442590,
     "user_tz": -180,
     "elapsed": 39060,
     "user": {
      "displayName": "Monster C",
      "userId": "08787989274818793476"
     }
    },
    "outputId": "6ef36656-e0fa-419c-83ed-ee6fea6e8345"
   },
   "outputs": [],
   "source": [
    "result =  pipeline.transform(image_df).cache()\n",
    "display_images(result, \"image_with_regions\")"
   ]
  },
  {
   "cell_type": "markdown",
   "metadata": {
    "id": "-zMxedfPdlKU"
   },
   "source": [
    "## Visual Document Ner"
   ]
  },
  {
   "cell_type": "code",
   "execution_count": null,
   "metadata": {
    "id": "SOB7brrodpZS",
    "executionInfo": {
     "status": "ok",
     "timestamp": 1681840442591,
     "user_tz": -180,
     "elapsed": 10,
     "user": {
      "displayName": "Monster C",
      "userId": "08787989274818793476"
     }
    }
   },
   "outputs": [],
   "source": [
    "from sparkocr.transformers import ImageToHocr, VisualDocumentNer, BinaryToImage\n",
    "from sparkocr.utils import display_images, display_image"
   ]
  },
  {
   "cell_type": "code",
   "execution_count": null,
   "metadata": {
    "colab": {
     "base_uri": "https://localhost:8080/"
    },
    "id": "tApZPlAQdspF",
    "executionInfo": {
     "status": "ok",
     "timestamp": 1681840448203,
     "user_tz": -180,
     "elapsed": 5620,
     "user": {
      "displayName": "Monster C",
      "userId": "08787989274818793476"
     }
    },
    "outputId": "22c01453-a180-4268-f1c4-a8005f0b234b"
   },
   "outputs": [],
   "source": [
    "import pkg_resources\n",
    "test_image_path = pkg_resources.resource_filename('sparkocr', 'resources/ocr/images/SROIE/')\n",
    "bin_df = spark.read.format(\"binaryFile\").load(test_image_path)\n",
    "bin_df.show()"
   ]
  },
  {
   "cell_type": "code",
   "execution_count": null,
   "metadata": {
    "colab": {
     "base_uri": "https://localhost:8080/",
     "height": 1000
    },
    "id": "OMR-HE0xdxWg",
    "executionInfo": {
     "status": "ok",
     "timestamp": 1681840448204,
     "user_tz": -180,
     "elapsed": 28,
     "user": {
      "displayName": "Monster C",
      "userId": "08787989274818793476"
     }
    },
    "outputId": "79ca8b01-e2ef-4ff0-8f2b-dfc5a1a6e266"
   },
   "outputs": [],
   "source": [
    "image_df = BinaryToImage().transform(bin_df)\n",
    "display_images(image_df)"
   ]
  },
  {
   "cell_type": "code",
   "execution_count": null,
   "metadata": {
    "id": "BfpudTbId04T",
    "colab": {
     "base_uri": "https://localhost:8080/"
    },
    "executionInfo": {
     "status": "ok",
     "timestamp": 1681840457022,
     "user_tz": -180,
     "elapsed": 8833,
     "user": {
      "displayName": "Monster C",
      "userId": "08787989274818793476"
     }
    },
    "outputId": "f1f2b750-5721-4fa6-ab5e-65e4c4894e43"
   },
   "outputs": [],
   "source": [
    "binary_to_image = BinaryToImage()\\\n",
    "    .setOutputCol(\"image\")\n",
    "\n",
    "img_to_hocr = ImageToHocr()\\\n",
    "    .setInputCol(\"image\")\\\n",
    "    .setOutputCol(\"hocr\")\\\n",
    "    .setIgnoreResolution(False)\\\n",
    "    .setOcrParams([\"preserve_interword_spaces=0\"])\n",
    "\n",
    "doc_ner = VisualDocumentNer()\\\n",
    "    .pretrained(\"visual_document_NER_SROIE0526\", \"en\", \"public/ocr/models\")\\\n",
    "    .setInputCol(\"hocr\")    \n",
    "\n",
    "# OCR pipeline\n",
    "ner_pipeline = PipelineModel(stages=[\n",
    "    binary_to_image,\n",
    "    img_to_hocr,\n",
    "    doc_ner\n",
    "])"
   ]
  },
  {
   "cell_type": "code",
   "execution_count": null,
   "metadata": {
    "id": "wFZnjSHjd9oy",
    "executionInfo": {
     "status": "ok",
     "timestamp": 1681840457023,
     "user_tz": -180,
     "elapsed": 4,
     "user": {
      "displayName": "Monster C",
      "userId": "08787989274818793476"
     }
    }
   },
   "outputs": [],
   "source": [
    "results = ner_pipeline.transform(bin_df).cache()"
   ]
  },
  {
   "cell_type": "code",
   "execution_count": null,
   "metadata": {
    "id": "Lf9Om4vmhp0P",
    "executionInfo": {
     "status": "ok",
     "timestamp": 1681840472653,
     "user_tz": -180,
     "elapsed": 15633,
     "user": {
      "displayName": "Monster C",
      "userId": "08787989274818793476"
     }
    },
    "colab": {
     "base_uri": "https://localhost:8080/",
     "height": 300
    },
    "outputId": "1ea9b4d7-e28e-4557-f569-ce797632ef5f"
   },
   "outputs": [],
   "source": [
    "pd_df = results.select('entities').toPandas().explode('entities')\n",
    "\n",
    "pd_df['label'] = pd_df.entities.apply(lambda a : a[3])\n",
    "pd_df['chunk'] = pd_df.entities.apply(lambda a : a[4]['word'])\n",
    "pd_df[pd_df['label'] != \"O\"][['label', 'chunk']].drop_duplicates()"
   ]
  },
  {
   "cell_type": "markdown",
   "metadata": {
    "id": "zmwuTl10U4p8"
   },
   "source": [
    "## Visual Document NER v2"
   ]
  },
  {
   "cell_type": "code",
   "execution_count": null,
   "metadata": {
    "id": "Zkn3h4mWU9V7",
    "colab": {
     "base_uri": "https://localhost:8080/"
    },
    "executionInfo": {
     "status": "ok",
     "timestamp": 1681840473298,
     "user_tz": -180,
     "elapsed": 647,
     "user": {
      "displayName": "Monster C",
      "userId": "08787989274818793476"
     }
    },
    "outputId": "9a093eb0-21bc-4c3c-a235-797ad1206bc2"
   },
   "outputs": [],
   "source": [
    "import pkg_resources\n",
    "test_image_path = pkg_resources.resource_filename('sparkocr', 'resources/ocr/forms/form1.jpg')\n",
    "bin_df = spark.read.format(\"binaryFile\").load(test_image_path)\n",
    "bin_df.show()"
   ]
  },
  {
   "cell_type": "code",
   "execution_count": null,
   "metadata": {
    "id": "wSv3_MwrVsyl",
    "colab": {
     "base_uri": "https://localhost:8080/",
     "height": 1000
    },
    "executionInfo": {
     "status": "ok",
     "timestamp": 1681840474402,
     "user_tz": -180,
     "elapsed": 1105,
     "user": {
      "displayName": "Monster C",
      "userId": "08787989274818793476"
     }
    },
    "outputId": "c8541d64-a09b-4cd0-bc2c-6992fe1fa517"
   },
   "outputs": [],
   "source": [
    "image_df = BinaryToImage().transform(bin_df)\n",
    "display_images(image_df)"
   ]
  },
  {
   "cell_type": "code",
   "execution_count": null,
   "metadata": {
    "id": "0UFkmVlBU_4Q",
    "executionInfo": {
     "status": "ok",
     "timestamp": 1681840546446,
     "user_tz": -180,
     "elapsed": 72048,
     "user": {
      "displayName": "Monster C",
      "userId": "08787989274818793476"
     }
    }
   },
   "outputs": [],
   "source": [
    "binary_to_image = BinaryToImage()\\\n",
    "    .setOutputCol(\"image\") \\\n",
    "    .setImageType(ImageType.TYPE_3BYTE_BGR)\n",
    "\n",
    "img_to_hocr = ImageToHocr()\\\n",
    "    .setInputCol(\"image\")\\\n",
    "    .setOutputCol(\"hocr\")\\\n",
    "    .setIgnoreResolution(False)\\\n",
    "    .setOcrParams([\"preserve_interword_spaces=0\"])\n",
    "\n",
    "tokenizer = HocrTokenizer()\\\n",
    "    .setInputCol(\"hocr\")\\\n",
    "    .setOutputCol(\"token\")\n",
    "\n",
    "doc_ner = VisualDocumentNerV2()\\\n",
    "    .pretrained(\"layoutlmv2_funsd\", \"en\", \"clinical/ocr\")\\\n",
    "    .setInputCols([\"token\", \"image\"])\\\n",
    "    .setOutputCol(\"entities\")\n",
    "\n",
    "draw = ImageDrawAnnotations() \\\n",
    "    .setInputCol(\"image\") \\\n",
    "    .setInputChunksCol(\"entities\") \\\n",
    "    .setOutputCol(\"image_with_annotations\") \\\n",
    "    .setFontSize(10) \\\n",
    "    .setLineWidth(4)\\\n",
    "    .setRectColor(Color.red)\n",
    "\n",
    "# OCR pipeline\n",
    "pipeline = PipelineModel(stages=[\n",
    "    binary_to_image,\n",
    "    img_to_hocr,\n",
    "    tokenizer,\n",
    "    doc_ner,\n",
    "    draw\n",
    "])\n",
    "\n",
    "results = pipeline.transform(bin_df).cache()"
   ]
  },
  {
   "cell_type": "code",
   "execution_count": null,
   "metadata": {
    "id": "g-7iPJghVAAW",
    "executionInfo": {
     "status": "ok",
     "timestamp": 1681840553979,
     "user_tz": -180,
     "elapsed": 7544,
     "user": {
      "displayName": "Monster C",
      "userId": "08787989274818793476"
     }
    }
   },
   "outputs": [],
   "source": [
    "pd_df = results.select('entities').toPandas().explode('entities')\n",
    "\n",
    "pd_df['label'] = pd_df.entities.apply(lambda a : a[3])\n",
    "pd_df['chunk'] = pd_df.entities.apply(lambda a : a[4]['word'])\n",
    "pd_result = pd_df[pd_df['label'] != \"O\"][['label', 'chunk']].drop_duplicates()"
   ]
  },
  {
   "cell_type": "code",
   "execution_count": null,
   "metadata": {
    "id": "YQBL6oqfoAEp",
    "colab": {
     "base_uri": "https://localhost:8080/",
     "height": 423
    },
    "executionInfo": {
     "status": "ok",
     "timestamp": 1681840553979,
     "user_tz": -180,
     "elapsed": 12,
     "user": {
      "displayName": "Monster C",
      "userId": "08787989274818793476"
     }
    },
    "outputId": "6a66d7a6-be4f-47de-8f5b-c37db12a90fc"
   },
   "outputs": [],
   "source": [
    "pd_result"
   ]
  },
  {
   "cell_type": "code",
   "execution_count": null,
   "metadata": {
    "id": "hGs7ZRPuXDEK",
    "colab": {
     "base_uri": "https://localhost:8080/",
     "height": 1000
    },
    "executionInfo": {
     "status": "ok",
     "timestamp": 1681840553979,
     "user_tz": -180,
     "elapsed": 10,
     "user": {
      "displayName": "Monster C",
      "userId": "08787989274818793476"
     }
    },
    "outputId": "09b5a6f7-1292-4fb1-be47-9a40110ca2d4"
   },
   "outputs": [],
   "source": [
    "display_images(results, \"image_with_annotations\", width=1000)"
   ]
  },
  {
   "cell_type": "markdown",
   "metadata": {
    "id": "pxTd4bZQou19"
   },
   "source": [
    "## Visual Document Classifier"
   ]
  },
  {
   "cell_type": "code",
   "execution_count": null,
   "metadata": {
    "id": "ORYkxLJHotl_",
    "colab": {
     "base_uri": "https://localhost:8080/"
    },
    "executionInfo": {
     "status": "ok",
     "timestamp": 1681840554511,
     "user_tz": -180,
     "elapsed": 538,
     "user": {
      "displayName": "Monster C",
      "userId": "08787989274818793476"
     }
    },
    "outputId": "a7adcc89-0491-43a5-f2ed-b42683fa4d71"
   },
   "outputs": [],
   "source": [
    "import pkg_resources\n",
    "test_image_path = pkg_resources.resource_filename('sparkocr', 'resources/ocr/images/document_classification/')\n",
    "bin_df = spark.read.format(\"binaryFile\").load(test_image_path)\n",
    "bin_df.show()"
   ]
  },
  {
   "cell_type": "code",
   "execution_count": null,
   "metadata": {
    "id": "N6MJ_d6Go6Y4",
    "colab": {
     "base_uri": "https://localhost:8080/",
     "height": 1000
    },
    "executionInfo": {
     "status": "ok",
     "timestamp": 1681840557977,
     "user_tz": -180,
     "elapsed": 3468,
     "user": {
      "displayName": "Monster C",
      "userId": "08787989274818793476"
     }
    },
    "outputId": "9d59b55b-c043-4b3a-f535-4699c7c7c711"
   },
   "outputs": [],
   "source": [
    "for item in BinaryToImage().transform(bin_df).select(\"image\").collect():\n",
    "    display_image(item.image)"
   ]
  },
  {
   "cell_type": "code",
   "execution_count": null,
   "metadata": {
    "id": "dd6UW65tpGSe",
    "colab": {
     "base_uri": "https://localhost:8080/"
    },
    "executionInfo": {
     "status": "ok",
     "timestamp": 1681840583986,
     "user_tz": -180,
     "elapsed": 26012,
     "user": {
      "displayName": "Monster C",
      "userId": "08787989274818793476"
     }
    },
    "outputId": "c8a1b6bc-6a0b-4b12-e31c-557ec4e4dbdd"
   },
   "outputs": [],
   "source": [
    "binary_to_image = BinaryToImage()\\\n",
    "    .setOutputCol(\"image\")\n",
    "\n",
    "img_to_hocr = ImageToHocr()\\\n",
    "    .setInputCol(\"image\")\\\n",
    "    .setOutputCol(\"hocr\")\\\n",
    "    .setIgnoreResolution(False)\\\n",
    "    .setOcrParams([\"preserve_interword_spaces=0\"])\n",
    "\n",
    "doc_classifier = VisualDocumentClassifier()\\\n",
    "    .pretrained(\"visual_document_classifier_tobacco3482\", \"en\", \"clinical/ocr\")\\\n",
    "    .setInputCol(\"hocr\")\\\n",
    "    .setLabelCol(\"label\")\\\n",
    "    .setConfidenceCol(\"conf\")\n",
    "\n",
    "# OCR pipeline\n",
    "classifier_pipeline = PipelineModel(stages=[\n",
    "    binary_to_image,\n",
    "    img_to_hocr,\n",
    "    doc_classifier\n",
    "])"
   ]
  },
  {
   "cell_type": "code",
   "execution_count": null,
   "metadata": {
    "id": "fiwcHng2pO1R",
    "executionInfo": {
     "status": "ok",
     "timestamp": 1681840583987,
     "user_tz": -180,
     "elapsed": 6,
     "user": {
      "displayName": "Monster C",
      "userId": "08787989274818793476"
     }
    }
   },
   "outputs": [],
   "source": [
    "results = classifier_pipeline.transform(bin_df)"
   ]
  },
  {
   "cell_type": "code",
   "execution_count": null,
   "metadata": {
    "id": "LfjMT8QvpX6h",
    "colab": {
     "base_uri": "https://localhost:8080/"
    },
    "executionInfo": {
     "status": "ok",
     "timestamp": 1681840596590,
     "user_tz": -180,
     "elapsed": 12608,
     "user": {
      "displayName": "Monster C",
      "userId": "08787989274818793476"
     }
    },
    "outputId": "84cad91e-e8df-4586-b0d3-d0a5c38aabee"
   },
   "outputs": [],
   "source": [
    "import pyspark.sql.functions as f\n",
    "\n",
    "path_array = f.split(results['path'], '/')\n",
    "results = results.withColumn('filename', path_array.getItem(f.size(path_array)- 1)) \\\n",
    "       .select(\"filename\", \"label\", \"conf\") \\\n",
    "       .show(truncate=False)"
   ]
  },
  {
   "cell_type": "markdown",
   "metadata": {
    "id": "XzVTIQQxqFxy"
   },
   "source": [
    "**Classes in visual_document_classifier_tobacco3482**\n",
    "- Advertisement\n",
    "- Email\n",
    "- Form\n",
    "- Letter\n",
    "- Memo\n",
    "- Report\n",
    "- Resume\n",
    "- Scientific\n",
    "\n"
   ]
  },
  {
   "cell_type": "markdown",
   "metadata": {
    "id": "KgEjQWJ7mvNg"
   },
   "source": [
    "## LayoutLMv2 for Key Value Pair Extraction"
   ]
  },
  {
   "cell_type": "code",
   "execution_count": null,
   "metadata": {
    "id": "UbxLGybpm2HT",
    "colab": {
     "base_uri": "https://localhost:8080/"
    },
    "executionInfo": {
     "status": "ok",
     "timestamp": 1681840597425,
     "user_tz": -180,
     "elapsed": 838,
     "user": {
      "displayName": "Monster C",
      "userId": "08787989274818793476"
     }
    },
    "outputId": "16ac60ac-3af7-4220-9000-a34df3a367a5"
   },
   "outputs": [],
   "source": [
    "import pkg_resources\n",
    "test_image_path = pkg_resources.resource_filename('sparkocr', 'resources/ocr/forms/form1.jpg')\n",
    "bin_df = spark.read.format(\"binaryFile\").load(test_image_path)\n",
    "bin_df.show()"
   ]
  },
  {
   "cell_type": "code",
   "execution_count": null,
   "metadata": {
    "id": "MaY0zig6m85V",
    "colab": {
     "base_uri": "https://localhost:8080/",
     "height": 1000
    },
    "executionInfo": {
     "status": "ok",
     "timestamp": 1681840598328,
     "user_tz": -180,
     "elapsed": 904,
     "user": {
      "displayName": "Monster C",
      "userId": "08787989274818793476"
     }
    },
    "outputId": "4d1f4df9-4c3b-49e7-8989-f721f30d8f80"
   },
   "outputs": [],
   "source": [
    "image_df = BinaryToImage().transform(bin_df)\n",
    "display_images(image_df)"
   ]
  },
  {
   "cell_type": "code",
   "execution_count": null,
   "metadata": {
    "id": "LW5Sr5HYm_in",
    "colab": {
     "base_uri": "https://localhost:8080/",
     "height": 1000
    },
    "executionInfo": {
     "status": "ok",
     "timestamp": 1681840658457,
     "user_tz": -180,
     "elapsed": 60131,
     "user": {
      "displayName": "Monster C",
      "userId": "08787989274818793476"
     }
    },
    "outputId": "b5a37fd8-b732-435c-b75f-e9e2e60480ad"
   },
   "outputs": [],
   "source": [
    "binary_to_image = BinaryToImage()\\\n",
    "    .setOutputCol(\"image\") \\\n",
    "    .setImageType(ImageType.TYPE_3BYTE_BGR)\n",
    "\n",
    "img_to_hocr = ImageToHocr()\\\n",
    "    .setInputCol(\"image\")\\\n",
    "    .setOutputCol(\"hocr\")\\\n",
    "    .setIgnoreResolution(False)\\\n",
    "    .setOcrParams([\"preserve_interword_spaces=0\"])\n",
    "\n",
    "tokenizer = HocrTokenizer()\\\n",
    "    .setInputCol(\"hocr\")\\\n",
    "    .setOutputCol(\"token\")\n",
    "\n",
    "doc_ner_cust = VisualDocumentNerV2()\\\n",
    "    .pretrained(\"layoutlmv2_key_value_pairs\", \"en\", \"clinical/ocr\")\\\n",
    "    .setInputCols([\"token\", \"image\"])\\\n",
    "    .setOutputCol(\"entities\")\\\n",
    "    .setLabels([\"other\",\n",
    "                \"header\",\n",
    "                \"header\",\n",
    "                \"key\",\n",
    "                \"key\",\n",
    "                \"value\",\n",
    "                \"value\"])\\\n",
    "    .setWhiteList([\"header\",\n",
    "                   \"key\",\n",
    "                   \"value\"])\n",
    "\n",
    "draw = ImageDrawAnnotations() \\\n",
    "    .setInputCol(\"image\") \\\n",
    "    .setInputChunksCol(\"entities\") \\\n",
    "    .setOutputCol(\"image_with_annotations\") \\\n",
    "    .setFontSize(10) \\\n",
    "    .setLineWidth(4)\\\n",
    "    .setRectColor(Color.red)\n",
    "\n",
    "\n",
    "# OCR pipeline\n",
    "pipeline = PipelineModel(stages=[\n",
    "    binary_to_image,\n",
    "    img_to_hocr,\n",
    "    tokenizer,\n",
    "    doc_ner_cust,\n",
    "    draw\n",
    "])\n",
    "\n",
    "results = pipeline.transform(bin_df).cache()\n",
    "display_images(results, \"image_with_annotations\", width=1000)"
   ]
  },
  {
   "cell_type": "code",
   "execution_count": null,
   "metadata": {
    "id": "BPm79Hq_nHWT",
    "colab": {
     "base_uri": "https://localhost:8080/",
     "height": 1000
    },
    "executionInfo": {
     "status": "ok",
     "timestamp": 1681840658458,
     "user_tz": -180,
     "elapsed": 29,
     "user": {
      "displayName": "Monster C",
      "userId": "08787989274818793476"
     }
    },
    "outputId": "865376e6-f7be-4cd3-abba-80894afbb462"
   },
   "outputs": [],
   "source": [
    "pd_df = results.select('entities').toPandas().explode('entities')\n",
    "\n",
    "pd_df['label'] = pd_df.entities.apply(lambda a : a[3])\n",
    "pd_df['chunk'] = pd_df.entities.apply(lambda a : a[4]['word'])\n",
    "pd_result = pd_df[pd_df['label'] != \"O\"][['label', 'chunk']].drop_duplicates()\n",
    "pd_result"
   ]
  }
 ],
 "metadata": {
  "colab": {
   "machine_shape": "hm",
   "toc_visible": true,
   "provenance": []
  },
  "kernelspec": {
   "display_name": "Python 3",
   "name": "python3"
  },
  "language_info": {
   "name": "python"
  }
 },
 "nbformat": 4,
 "nbformat_minor": 0
}
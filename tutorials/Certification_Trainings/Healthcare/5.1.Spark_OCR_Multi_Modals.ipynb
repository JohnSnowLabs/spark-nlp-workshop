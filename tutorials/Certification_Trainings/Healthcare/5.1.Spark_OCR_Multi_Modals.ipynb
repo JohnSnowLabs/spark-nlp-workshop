{
 "cells": [
  {
   "cell_type": "markdown",
   "metadata": {
    "id": "340V93TJkZAO"
   },
   "source": [
    "![JohnSnowLabs](https://nlp.johnsnowlabs.com/assets/images/logo.png)"
   ]
  },
  {
   "cell_type": "markdown",
   "metadata": {
    "id": "rbEi4uEBkZAZ"
   },
   "source": [
    "[![Open In Colab](https://colab.research.google.com/assets/colab-badge.svg)](https://colab.research.google.com/github/JohnSnowLabs/spark-nlp-workshop/blob/master/tutorials/Certification_Trainings/Healthcare/5.1.Spark_OCR_Multi_Modals.ipynb)"
   ]
  },
  {
   "cell_type": "markdown",
   "metadata": {
    "id": "Niy3mZAjoayg"
   },
   "source": [
    "# Spark OCR "
   ]
  },
  {
   "cell_type": "markdown",
   "metadata": {
    "id": "YNJUQPsXvuSV"
   },
   "source": [
    "\n",
    "## Blogposts and videos\n",
    "\n",
    "- [How to Setup Spark OCR on UBUNTU - Video](https://www.youtube.com/watch?v=cmt4WIcL0nI)\n",
    "\n",
    "- [Installing Spark NLP and Spark OCR in air-gapped networks (offline mode)\n",
    "](https://medium.com/spark-nlp/installing-spark-nlp-and-spark-ocr-in-air-gapped-networks-offline-mode-f42a1ee6b7a8)\n",
    "\n",
    "- [Table Detection & Extraction in Spark OCR](https://medium.com/spark-nlp/table-detection-extraction-in-spark-ocr-50765c6cedc9)\n",
    "\n",
    "- [Signature Detection in Spark OCR](https://medium.com/spark-nlp/signature-detection-in-spark-ocr-32f9e6f91e3c)\n",
    "\n",
    "- [GPU image pre-processing in Spark OCR](https://medium.com/spark-nlp/gpu-image-pre-processing-in-spark-ocr-3-1-0-6fc27560a9bb)\n",
    "\n",
    "**More examples here**\n",
    "\n",
    "https://github.com/JohnSnowLabs/spark-ocr-workshop"
   ]
  },
  {
   "cell_type": "markdown",
   "metadata": {
    "id": "okhT7AcXxben"
   },
   "source": [
    "**Colab Setup**"
   ]
  },
  {
   "cell_type": "code",
   "execution_count": null,
   "metadata": {
    "id": "MVf_2iqGIJ4B"
   },
   "outputs": [],
   "source": [
    "import json, os\n",
    "from google.colab import files\n",
    "\n",
    "if 'spark_jsl.json' not in os.listdir():\n",
    "  license_keys = files.upload()\n",
    "  os.rename(list(license_keys.keys())[0], 'spark_ocr.json')\n",
    "\n",
    "with open('spark_ocr.json') as f:\n",
    "    license_keys = json.load(f)\n",
    "\n",
    "# Defining license key-value pairs as local variables\n",
    "locals().update(license_keys)"
   ]
  },
  {
   "cell_type": "code",
   "execution_count": null,
   "metadata": {
    "id": "WkylJaGx-COY"
   },
   "outputs": [],
   "source": [
    "# Installing pyspark and spark-nlp\n",
    "! pip install --upgrade -q pyspark==3.2.1 spark-nlp==$PUBLIC_VERSION\n",
    "\n",
    "# Installing Spark OCR\n",
    "! pip install spark-ocr==$OCR_VERSION --extra-index-url=https://pypi.johnsnowlabs.com/$SPARK_OCR_SECRET --upgrade"
   ]
  },
  {
   "cell_type": "markdown",
   "metadata": {
    "id": "X31h1agcPBrh"
   },
   "source": [
    "<b><h1><font color='darkred'>!!! ATTENTION !!! </font><h1><b>\n",
    "\n",
    "<b>After running previous cell, <font color='darkred'>RESTART the COLAB RUNTIME </font> and go ahead.<b>"
   ]
  },
  {
   "cell_type": "code",
   "execution_count": null,
   "metadata": {
    "id": "Lx0dcQXiInzO"
   },
   "outputs": [],
   "source": [
    "import json, os\n",
    "\n",
    "with open(\"spark_ocr.json\", 'r') as f:\n",
    "  license_keys = json.load(f)\n",
    "\n",
    "# Adding license key-value pairs to environment variables\n",
    "os.environ.update(license_keys)\n",
    "\n",
    "# Defining license key-value pairs as local variables\n",
    "locals().update(license_keys)"
   ]
  },
  {
   "cell_type": "code",
   "execution_count": null,
   "metadata": {
    "id": "lC4Tt3onRBJy"
   },
   "outputs": [],
   "source": [
    "import sparkocr\n",
    "import sys\n",
    "from pyspark.sql import SparkSession\n",
    "from sparkocr import start\n",
    "import base64\n",
    "from sparkocr.transformers import *\n",
    "from pyspark.ml import PipelineModel\n",
    "from pyspark.sql import functions as F\n",
    "from sparkocr.enums import *\n",
    "from sparkocr.utils import display_images"
   ]
  },
  {
   "cell_type": "code",
   "execution_count": null,
   "metadata": {
    "colab": {
     "base_uri": "https://localhost:8080/"
    },
    "executionInfo": {
     "elapsed": 43557,
     "status": "ok",
     "timestamp": 1665091942735,
     "user": {
      "displayName": "Ahmet Emin Tek",
      "userId": "14855809472179427810"
     },
     "user_tz": -60
    },
    "id": "LME81NOHFjqC",
    "outputId": "d40bfe1a-694a-499b-8151-c7eb7f8d9998"
   },
   "outputs": [],
   "source": [
    "# Start spark\n",
    "spark = sparkocr.start(secret=SPARK_OCR_SECRET, \n",
    "                       nlp_version=PUBLIC_VERSION\n",
    "                       )"
   ]
  },
  {
   "cell_type": "markdown",
   "metadata": {
    "id": "UYWXzBivLcBL"
   },
   "source": [
    "## Working with tables"
   ]
  },
  {
   "cell_type": "markdown",
   "metadata": {
    "id": "BxqZWNDVsTO4"
   },
   "source": [
    "### Table Detection"
   ]
  },
  {
   "cell_type": "markdown",
   "metadata": {
    "id": "Lttmj2_3DvTm"
   },
   "source": [
    "**Load images**"
   ]
  },
  {
   "cell_type": "code",
   "execution_count": null,
   "metadata": {
    "id": "HVKJRS29sZHV"
   },
   "outputs": [],
   "source": [
    "!wget -q raw.githubusercontent.com/JohnSnowLabs/spark-ocr-workshop/master/jupyter/data/tab_images/cTDaR_t10168.jpg -P table_image/\n",
    "!wget -q raw.githubusercontent.com/JohnSnowLabs/spark-ocr-workshop/master/jupyter/data/tab_images/cTDaR_t10011.jpg -P table_image/"
   ]
  },
  {
   "cell_type": "markdown",
   "metadata": {
    "id": "1fup7iKwDxtj"
   },
   "source": [
    "**Read and display images**"
   ]
  },
  {
   "cell_type": "code",
   "execution_count": null,
   "metadata": {
    "id": "HjpQWXpfFate"
   },
   "outputs": [],
   "source": [
    "from sparkocr.utils import display_tables"
   ]
  },
  {
   "cell_type": "code",
   "execution_count": null,
   "metadata": {
    "colab": {
     "base_uri": "https://localhost:8080/",
     "height": 1000
    },
    "executionInfo": {
     "elapsed": 8658,
     "status": "ok",
     "timestamp": 1665091952554,
     "user": {
      "displayName": "Ahmet Emin Tek",
      "userId": "14855809472179427810"
     },
     "user_tz": -60
    },
    "id": "7zSeSgtbtGI-",
    "outputId": "29a2124c-e1c0-44e7-9f84-3072f954b11c"
   },
   "outputs": [],
   "source": [
    "image_df = spark.read.format(\"binaryFile\").load(\"/content/table_image/*.jpg\")\n",
    "\n",
    "display_images(BinaryToImage().transform(image_df), \"image\")"
   ]
  },
  {
   "cell_type": "markdown",
   "metadata": {
    "id": "365FO1UrD1Un"
   },
   "source": [
    "**Create OCR Pipeline**"
   ]
  },
  {
   "cell_type": "code",
   "execution_count": null,
   "metadata": {
    "colab": {
     "base_uri": "https://localhost:8080/"
    },
    "executionInfo": {
     "elapsed": 4338,
     "status": "ok",
     "timestamp": 1665091956880,
     "user": {
      "displayName": "Ahmet Emin Tek",
      "userId": "14855809472179427810"
     },
     "user_tz": -60
    },
    "id": "kn69uk9Zu_0n",
    "outputId": "af48e4a9-5f71-41e3-809d-ea4aa3246d72"
   },
   "outputs": [],
   "source": [
    "binary_to_image = BinaryToImage() \n",
    "binary_to_image.setImageType(ImageType.TYPE_3BYTE_BGR)\n",
    "\n",
    "table_detector = ImageTableDetector.pretrained(\"general_model_table_detection_v2\", \"en\", \"clinical/ocr\")\n",
    "table_detector.setInputCol(\"image\")\n",
    "table_detector.setOutputCol(\"table_regions\")\n",
    "\n",
    "draw_regions = ImageDrawRegions()\n",
    "draw_regions.setInputCol(\"image\")\n",
    "draw_regions.setInputRegionsCol(\"table_regions\")\n",
    "draw_regions.setOutputCol(\"image_with_regions\")\n",
    "draw_regions.setRectColor(Color.red)\n",
    "\n",
    "pipeline = PipelineModel(stages=[\n",
    "    binary_to_image,\n",
    "    table_detector,\n",
    "    draw_regions\n",
    "])"
   ]
  },
  {
   "cell_type": "markdown",
   "metadata": {
    "id": "TAe4aAEPD7yf"
   },
   "source": [
    "**Show results**"
   ]
  },
  {
   "cell_type": "code",
   "execution_count": null,
   "metadata": {
    "colab": {
     "base_uri": "https://localhost:8080/",
     "height": 1000
    },
    "executionInfo": {
     "elapsed": 30576,
     "status": "ok",
     "timestamp": 1665091987451,
     "user": {
      "displayName": "Ahmet Emin Tek",
      "userId": "14855809472179427810"
     },
     "user_tz": -60
    },
    "id": "53dXnGQmwice",
    "outputId": "e3b43313-c266-4ab3-d755-014b6d51a584"
   },
   "outputs": [],
   "source": [
    "result =  pipeline.transform(image_df)\n",
    "display_images(result, \"image_with_regions\")"
   ]
  },
  {
   "cell_type": "markdown",
   "metadata": {
    "id": "Jf4VMyqOEbBq"
   },
   "source": [
    "### Table Recognition"
   ]
  },
  {
   "cell_type": "code",
   "execution_count": null,
   "metadata": {
    "id": "T13zUnYhE4XX"
   },
   "outputs": [],
   "source": [
    "from pyspark.sql.functions import desc, row_number, monotonically_increasing_id\n",
    "from pyspark.sql.window import Window\n",
    "import pyspark.sql.functions as f"
   ]
  },
  {
   "cell_type": "markdown",
   "metadata": {
    "id": "JZcmBA4AF92b"
   },
   "source": [
    "**Load and display the images.**"
   ]
  },
  {
   "cell_type": "code",
   "execution_count": null,
   "metadata": {
    "colab": {
     "base_uri": "https://localhost:8080/",
     "height": 1000
    },
    "executionInfo": {
     "elapsed": 6201,
     "status": "ok",
     "timestamp": 1665091993648,
     "user": {
      "displayName": "Ahmet Emin Tek",
      "userId": "14855809472179427810"
     },
     "user_tz": -60
    },
    "id": "0awzgIydEeIg",
    "outputId": "ad3437c7-43a5-462e-c5e0-0f8bfb8c4a8d"
   },
   "outputs": [],
   "source": [
    "image_df= spark.read.format(\"binaryFile\").load(\"table_image\")\n",
    "\n",
    "# add index to the dataframe\n",
    "image_df_with_seq_id = image_df.withColumn('index', row_number().over(Window.orderBy(monotonically_increasing_id())) - 1)\n",
    "\n",
    "display_images(BinaryToImage().transform(image_df), \"image\")"
   ]
  },
  {
   "cell_type": "markdown",
   "metadata": {
    "id": "E40yjxJnF1_I"
   },
   "source": [
    "**Create OCR pipeline.**"
   ]
  },
  {
   "cell_type": "code",
   "execution_count": null,
   "metadata": {
    "colab": {
     "base_uri": "https://localhost:8080/"
    },
    "executionInfo": {
     "elapsed": 15,
     "status": "ok",
     "timestamp": 1665091993649,
     "user": {
      "displayName": "Ahmet Emin Tek",
      "userId": "14855809472179427810"
     },
     "user_tz": -60
    },
    "id": "cSUgEg8lE8Sc",
    "outputId": "208f741a-e96a-4f50-ea63-faad5b224bb1"
   },
   "outputs": [],
   "source": [
    "binary_to_image = BinaryToImage()\n",
    "# need set image type for correct work TableDetection model\n",
    "binary_to_image.setImageType(ImageType.TYPE_3BYTE_BGR)\n",
    "\n",
    "table_detector = ImageTableDetector.pretrained(\"general_model_table_detection_v2\", \"en\", \"clinical/ocr\")\n",
    "table_detector.setInputCol(\"image\")\n",
    "table_detector.setOutputCol(\"region\")\n",
    "\n",
    "splitter = ImageSplitRegions()\n",
    "splitter.setInputCol(\"image\")\n",
    "splitter.setInputRegionsCol(\"region\")\n",
    "splitter.setOutputCol(\"table_image\")\n",
    "splitter.setDropCols(\"image\")\n",
    "splitter.setImageType(ImageType.TYPE_BYTE_GRAY)\n",
    "\n",
    "scaler = ImageScaler()\n",
    "scaler.setInputCol(\"table_image\")\n",
    "scaler.setOutputCol(\"scaled_image\")\n",
    "scaler.setScaleFactor(2)\n",
    "\n",
    "cell_detector = ImageTableCellDetector()\n",
    "cell_detector.setInputCol(\"scaled_image\")\n",
    "cell_detector.setOutputCol(\"cells\")\n",
    "cell_detector.setKeepInput(True)\n",
    "\n",
    "table_recognition = ImageCellsToTextTable()\n",
    "table_recognition.setInputCol(\"scaled_image\")\n",
    "table_recognition.setCellsCol('cells')\n",
    "table_recognition.setMargin(1)\n",
    "table_recognition.setStrip(True)\n",
    "table_recognition.setOutputCol('table')\n",
    "\n",
    "\n",
    "pipeline = PipelineModel(stages=[\n",
    "    binary_to_image,\n",
    "    table_detector,\n",
    "    splitter,\n",
    "    scaler,\n",
    "    cell_detector,\n",
    "    table_recognition\n",
    "])"
   ]
  },
  {
   "cell_type": "markdown",
   "metadata": {
    "id": "o8vocA5mFT2R"
   },
   "source": [
    "**Run the pipeline and display the tables in the images.**"
   ]
  },
  {
   "cell_type": "code",
   "execution_count": null,
   "metadata": {
    "colab": {
     "base_uri": "https://localhost:8080/",
     "height": 1000
    },
    "executionInfo": {
     "elapsed": 55132,
     "status": "ok",
     "timestamp": 1665092048775,
     "user": {
      "displayName": "Ahmet Emin Tek",
      "userId": "14855809472179427810"
     },
     "user_tz": -60
    },
    "id": "wQXtf6l3FAmE",
    "outputId": "2cdf402e-7d60-4c57-db53-0797f9043de6"
   },
   "outputs": [],
   "source": [
    "results = pipeline.transform(image_df_with_seq_id).cache()\n",
    "display_images(results, \"table_image\")"
   ]
  },
  {
   "cell_type": "markdown",
   "metadata": {
    "id": "QpnXZcsLFSDz"
   },
   "source": [
    "**Display recognized tables**"
   ]
  },
  {
   "cell_type": "code",
   "execution_count": null,
   "metadata": {
    "colab": {
     "base_uri": "https://localhost:8080/",
     "height": 1000
    },
    "executionInfo": {
     "elapsed": 8175,
     "status": "ok",
     "timestamp": 1665092056943,
     "user": {
      "displayName": "Ahmet Emin Tek",
      "userId": "14855809472179427810"
     },
     "user_tz": -60
    },
    "id": "qFM1nApPa9wk",
    "outputId": "30cb966e-83eb-44ae-f61c-25c124a2dc0a"
   },
   "outputs": [],
   "source": [
    "display_tables(results)"
   ]
  },
  {
   "cell_type": "markdown",
   "metadata": {
    "id": "K2NlmVUbCpTk"
   },
   "source": [
    "### Table Cell Recognition"
   ]
  },
  {
   "cell_type": "markdown",
   "metadata": {
    "id": "Esw2EmGoDlTO"
   },
   "source": [
    "**Read and display images**"
   ]
  },
  {
   "cell_type": "code",
   "execution_count": null,
   "metadata": {
    "colab": {
     "base_uri": "https://localhost:8080/",
     "height": 1000
    },
    "executionInfo": {
     "elapsed": 2849,
     "status": "ok",
     "timestamp": 1665092059784,
     "user": {
      "displayName": "Ahmet Emin Tek",
      "userId": "14855809472179427810"
     },
     "user_tz": -60
    },
    "id": "P3Yn8FolYm1q",
    "outputId": "e9a21e28-c272-431f-8aae-947e5025a2a0"
   },
   "outputs": [],
   "source": [
    "from sparkocr.transformers import *\n",
    "from sparkocr.enums import *\n",
    "from sparkocr.utils import display_images, display_table, display_tables\n",
    "from pyspark.ml import PipelineModel\n",
    "import pyspark.sql.functions as f\n",
    "\n",
    "import pkg_resources\n",
    "test_image_path = pkg_resources.resource_filename('sparkocr', 'resources/ocr/tableImage/table[0,2,4]*.*')\n",
    "image_df= spark.read.format(\"binaryFile\").load(test_image_path)\n",
    "\n",
    "display_images(BinaryToImage().transform(image_df), \"image\")"
   ]
  },
  {
   "cell_type": "markdown",
   "metadata": {
    "id": "jxiDot9NDel0"
   },
   "source": [
    "**Define OCR Pipeline**"
   ]
  },
  {
   "cell_type": "code",
   "execution_count": null,
   "metadata": {
    "id": "zLj4Qda5DH69"
   },
   "outputs": [],
   "source": [
    "binary_to_image = BinaryToImage()\n",
    "binary_to_image.setImageType(ImageType.TYPE_BYTE_GRAY)\n",
    "binary_to_image.setInputCol(\"content\")\n",
    "\n",
    "cell_detector = ImageTableCellDetector()\n",
    "cell_detector.setInputCol(\"image\")\n",
    "cell_detector.setOutputCol(\"cells\")\n",
    "cell_detector.setKeepInput(True)\n",
    "cell_detector.setAlgoType(\"morphops\")\n",
    "cell_detector.setDrawDetectedLines(True)\n",
    "\n",
    "table_recognition = ImageCellsToTextTable()\n",
    "#table_recognition.setInputCol(\"output_image\")\n",
    "table_recognition.setInputCol(\"image\")\n",
    "table_recognition.setCellsCol('cells')\n",
    "table_recognition.setMargin(2)\n",
    "table_recognition.setStrip(True)\n",
    "table_recognition.setOutputCol('table')\n",
    "\n",
    "pipeline = PipelineModel(stages=[\n",
    "    binary_to_image,\n",
    "     cell_detector,\n",
    "     table_recognition\n",
    "])"
   ]
  },
  {
   "cell_type": "markdown",
   "metadata": {
    "id": "8RuVEbrZDZ83"
   },
   "source": [
    "**Run Pipeline**"
   ]
  },
  {
   "cell_type": "code",
   "execution_count": null,
   "metadata": {
    "id": "x-RD81dxEsZa"
   },
   "outputs": [],
   "source": [
    "results = pipeline.transform(image_df).cache()"
   ]
  },
  {
   "cell_type": "code",
   "source": [
    "results= results.na.drop(subset=[\"cells\", \"output_image\", \"table\"])"
   ],
   "metadata": {
    "id": "Byy9iicW6dax"
   },
   "execution_count": null,
   "outputs": []
  },
  {
   "cell_type": "code",
   "execution_count": null,
   "metadata": {
    "executionInfo": {
     "elapsed": 13129,
     "status": "ok",
     "timestamp": 1665092073373,
     "user": {
      "displayName": "Ahmet Emin Tek",
      "userId": "14855809472179427810"
     },
     "user_tz": -60
    },
    "id": "6A1u5DOpEx3F",
    "colab": {
     "base_uri": "https://localhost:8080/",
     "height": 1000
    },
    "outputId": "487daf4f-4ce8-46b7-b958-8abb674f3757"
   },
   "outputs": [],
   "source": [
    "display_images(results, \"image\")"
   ]
  },
  {
   "cell_type": "code",
   "execution_count": null,
   "metadata": {
    "executionInfo": {
     "elapsed": 606,
     "status": "ok",
     "timestamp": 1665092073972,
     "user": {
      "displayName": "Ahmet Emin Tek",
      "userId": "14855809472179427810"
     },
     "user_tz": -60
    },
    "id": "FBGPfjLtFOaR",
    "colab": {
     "base_uri": "https://localhost:8080/",
     "height": 1000
    },
    "outputId": "482c5bcb-68c2-42c7-dc26-6e96dd41812a"
   },
   "outputs": [],
   "source": [
    "display_tables(results)"
   ]
  },
  {
   "cell_type": "markdown",
   "metadata": {
    "id": "O-LCRPGVDWHq"
   },
   "source": [
    "**Show recognized cells for first image**"
   ]
  },
  {
   "cell_type": "code",
   "execution_count": null,
   "metadata": {
    "id": "WOCRvd5lDMVu"
   },
   "outputs": [],
   "source": [
    "table_recognition_csv = ImageCellsToTextTable()\n",
    "table_recognition_csv.setInputCol(\"image\")\n",
    "table_recognition_csv.setCellsCol('cells')\n",
    "table_recognition_csv.setMargin(2)\n",
    "table_recognition_csv.setStrip(True)\n",
    "table_recognition_csv.setOutputCol('table')\n",
    "table_recognition_csv.setOutputFormat('csv')\n",
    "\n",
    "pipeline_csv = PipelineModel(stages=[\n",
    "    binary_to_image,\n",
    "     cell_detector,\n",
    "     table_recognition_csv\n",
    "])"
   ]
  },
  {
   "cell_type": "code",
   "execution_count": null,
   "metadata": {
    "id": "FlS6F2voICWK",
    "colab": {
     "base_uri": "https://localhost:8080/"
    },
    "executionInfo": {
     "status": "ok",
     "timestamp": 1665092080233,
     "user_tz": -60,
     "elapsed": 6265,
     "user": {
      "displayName": "Ahmet Emin Tek",
      "userId": "14855809472179427810"
     }
    },
    "outputId": "c0160081-7768-4975-a119-e4e8af53ff5e"
   },
   "outputs": [],
   "source": [
    "results_csv = pipeline_csv.transform(image_df).cache()\n",
    "print(results_csv.select(\"table\").collect()[2].table)"
   ]
  },
  {
   "cell_type": "markdown",
   "metadata": {
    "id": "Xuot2n5Ocq8Z"
   },
   "source": [
    "##Handwritten Detection"
   ]
  },
  {
   "cell_type": "code",
   "execution_count": null,
   "metadata": {
    "id": "h__UlAgbcyxI"
   },
   "outputs": [],
   "source": [
    "!wget -q https://raw.githubusercontent.com/JohnSnowLabs/spark-ocr-workshop/master/jupyter/data/handwritten/page1.jpeg"
   ]
  },
  {
   "cell_type": "code",
   "execution_count": null,
   "metadata": {
    "id": "EU7VGHz0c0Bz",
    "colab": {
     "base_uri": "https://localhost:8080/",
     "height": 1000
    },
    "executionInfo": {
     "status": "ok",
     "timestamp": 1665092084789,
     "user_tz": -60,
     "elapsed": 4119,
     "user": {
      "displayName": "Ahmet Emin Tek",
      "userId": "14855809472179427810"
     }
    },
    "outputId": "ec24bd77-70c3-4f8c-e165-0e7d79e0714a"
   },
   "outputs": [],
   "source": [
    "image_df = spark.read.format(\"binaryFile\").load('page1.jpeg')\n",
    "\n",
    "display_images(BinaryToImage().transform(image_df), \"image\")"
   ]
  },
  {
   "cell_type": "code",
   "execution_count": null,
   "metadata": {
    "id": "mKHD3LJ5dASO",
    "colab": {
     "base_uri": "https://localhost:8080/"
    },
    "executionInfo": {
     "status": "ok",
     "timestamp": 1665092086972,
     "user_tz": -60,
     "elapsed": 2193,
     "user": {
      "displayName": "Ahmet Emin Tek",
      "userId": "14855809472179427810"
     }
    },
    "outputId": "5e2cd92c-30a7-4af5-b3ee-7e0d905f769e"
   },
   "outputs": [],
   "source": [
    "binary_to_image = BinaryToImage()\n",
    "binary_to_image.setImageType(ImageType.TYPE_3BYTE_BGR)\n",
    "\n",
    "pretrained_model = (\"image_handwritten_detector_gsa0803\", \"en\", \"public/ocr/models\")\n",
    "\n",
    "handwritten_detector = ImageHandwrittenDetector() \\\n",
    "    .pretrained(*pretrained_model) \\\n",
    "    .setInputCol(\"image\") \\\n",
    "    .setOutputCol(\"handwritten_regions\") \\\n",
    "    .setScoreThreshold(0.4)\n",
    "\n",
    "draw_regions = ImageDrawRegions() \\\n",
    "    .setInputCol(\"image\") \\\n",
    "    .setInputRegionsCol(\"handwritten_regions\") \\\n",
    "    .setOutputCol(\"image_with_regions\") \\\n",
    "    .setFontSize(16) \\\n",
    "    .setRectColor(Color.red)\n",
    "\n",
    "pipeline = PipelineModel(stages=[\n",
    "    binary_to_image,\n",
    "    handwritten_detector,\n",
    "    draw_regions\n",
    "])"
   ]
  },
  {
   "cell_type": "code",
   "execution_count": null,
   "metadata": {
    "id": "JoGNgD3WdLwE",
    "colab": {
     "base_uri": "https://localhost:8080/",
     "height": 1000
    },
    "executionInfo": {
     "status": "ok",
     "timestamp": 1665092105459,
     "user_tz": -60,
     "elapsed": 18492,
     "user": {
      "displayName": "Ahmet Emin Tek",
      "userId": "14855809472179427810"
     }
    },
    "outputId": "949fdc20-50d1-4c5d-8be6-a175111c98eb"
   },
   "outputs": [],
   "source": [
    "result =  pipeline.transform(image_df).cache()\n",
    "display_images(result, \"image_with_regions\")"
   ]
  },
  {
   "cell_type": "markdown",
   "metadata": {
    "id": "41HDNNmS_aHH"
   },
   "source": [
    "##Signature Detection"
   ]
  },
  {
   "cell_type": "code",
   "execution_count": null,
   "metadata": {
    "id": "o2dUZKaV_fmH"
   },
   "outputs": [],
   "source": [
    "!wget -q https://raw.githubusercontent.com/JohnSnowLabs/spark-ocr-workshop/master/jupyter/data/signature/image_147.png"
   ]
  },
  {
   "cell_type": "code",
   "execution_count": null,
   "metadata": {
    "id": "-RuR-j-i_4iA",
    "colab": {
     "base_uri": "https://localhost:8080/",
     "height": 1000
    },
    "executionInfo": {
     "status": "ok",
     "timestamp": 1665092126579,
     "user_tz": -60,
     "elapsed": 58,
     "user": {
      "displayName": "Ahmet Emin Tek",
      "userId": "14855809472179427810"
     }
    },
    "outputId": "8bb105e6-ea00-4ad1-80f0-528374665685"
   },
   "outputs": [],
   "source": [
    "image_file = 'image_147.png'\n",
    "image_df = spark.read.format(\"binaryFile\").load(image_file)\n",
    "\n",
    "display_images(BinaryToImage().transform(image_df), \"image\")"
   ]
  },
  {
   "cell_type": "markdown",
   "metadata": {
    "id": "yQJyj3iHAm4H"
   },
   "source": [
    "**Define OCR Pipeline**"
   ]
  },
  {
   "cell_type": "code",
   "execution_count": null,
   "metadata": {
    "id": "1nyHluXVAj3r",
    "colab": {
     "base_uri": "https://localhost:8080/"
    },
    "executionInfo": {
     "status": "ok",
     "timestamp": 1665092175429,
     "user_tz": -60,
     "elapsed": 48862,
     "user": {
      "displayName": "Ahmet Emin Tek",
      "userId": "14855809472179427810"
     }
    },
    "outputId": "4e59ed79-1c31-4b72-f8cf-a033c1168f38"
   },
   "outputs": [],
   "source": [
    "binary_to_image = BinaryToImage()\n",
    "binary_to_image.setImageType(ImageType.TYPE_3BYTE_BGR)\n",
    "\n",
    "pretrained_model = (\"image_handwritten_detector_gsa0628\", \"en\", \"public/ocr/models\")\n",
    "signature_detector = ImageHandwrittenDetector() \\\n",
    "    .pretrained(*pretrained_model) \\\n",
    "    .setInputCol(\"image\") \\\n",
    "    .setOutputCol(\"signature_regions\") \\\n",
    "    .setOutputLabels([\"signature\"]) \\\n",
    "    .setScoreThreshold(0.4)\n",
    "\n",
    "draw_regions = ImageDrawRegions() \\\n",
    "    .setInputCol(\"image\") \\\n",
    "    .setInputRegionsCol(\"signature_regions\") \\\n",
    "    .setOutputCol(\"image_with_regions\") \\\n",
    "    .setFontSize(16) \\\n",
    "    .setRectColor(Color.red)\n",
    "\n",
    "pipeline = PipelineModel(stages=[\n",
    "    binary_to_image,\n",
    "    signature_detector,\n",
    "    draw_regions\n",
    "])"
   ]
  },
  {
   "cell_type": "markdown",
   "metadata": {
    "id": "Mx53uoc4A1bi"
   },
   "source": [
    "**Run pipeline and show results**"
   ]
  },
  {
   "cell_type": "code",
   "execution_count": null,
   "metadata": {
    "id": "TtrkXKUyA0SD",
    "colab": {
     "base_uri": "https://localhost:8080/",
     "height": 1000
    },
    "executionInfo": {
     "status": "ok",
     "timestamp": 1665092175430,
     "user_tz": -60,
     "elapsed": 102,
     "user": {
      "displayName": "Ahmet Emin Tek",
      "userId": "14855809472179427810"
     }
    },
    "outputId": "870b0103-f072-43d8-c05e-e884416fe2e0"
   },
   "outputs": [],
   "source": [
    "result =  pipeline.transform(image_df).cache()\n",
    "display_images(result, \"image_with_regions\")"
   ]
  },
  {
   "cell_type": "markdown",
   "metadata": {
    "id": "-zMxedfPdlKU"
   },
   "source": [
    "## Visual Document Ner"
   ]
  },
  {
   "cell_type": "code",
   "execution_count": null,
   "metadata": {
    "id": "SOB7brrodpZS"
   },
   "outputs": [],
   "source": [
    "from sparkocr.transformers import ImageToHocr, VisualDocumentNer, BinaryToImage\n",
    "from sparkocr.utils import display_images, display_image"
   ]
  },
  {
   "cell_type": "code",
   "execution_count": null,
   "metadata": {
    "id": "tApZPlAQdspF",
    "colab": {
     "base_uri": "https://localhost:8080/"
    },
    "executionInfo": {
     "status": "ok",
     "timestamp": 1665092175431,
     "user_tz": -60,
     "elapsed": 36,
     "user": {
      "displayName": "Ahmet Emin Tek",
      "userId": "14855809472179427810"
     }
    },
    "outputId": "6098a58e-bcc9-47c4-ceb5-0ace3fb3fc7d"
   },
   "outputs": [],
   "source": [
    "import pkg_resources\n",
    "test_image_path = pkg_resources.resource_filename('sparkocr', 'resources/ocr/images/SROIE/')\n",
    "bin_df = spark.read.format(\"binaryFile\").load(test_image_path)\n",
    "bin_df.show()"
   ]
  },
  {
   "cell_type": "code",
   "execution_count": null,
   "metadata": {
    "id": "OMR-HE0xdxWg",
    "colab": {
     "base_uri": "https://localhost:8080/",
     "height": 1000
    },
    "executionInfo": {
     "status": "ok",
     "timestamp": 1665092175431,
     "user_tz": -60,
     "elapsed": 30,
     "user": {
      "displayName": "Ahmet Emin Tek",
      "userId": "14855809472179427810"
     }
    },
    "outputId": "38457a5e-502c-4415-980e-d65f798af9e5"
   },
   "outputs": [],
   "source": [
    "image_df = BinaryToImage().transform(bin_df)\n",
    "display_images(image_df)"
   ]
  },
  {
   "cell_type": "code",
   "execution_count": null,
   "metadata": {
    "id": "BfpudTbId04T",
    "colab": {
     "base_uri": "https://localhost:8080/"
    },
    "executionInfo": {
     "status": "ok",
     "timestamp": 1665092180966,
     "user_tz": -60,
     "elapsed": 5548,
     "user": {
      "displayName": "Ahmet Emin Tek",
      "userId": "14855809472179427810"
     }
    },
    "outputId": "15bd99c7-5c76-4fc0-9025-378b15971139"
   },
   "outputs": [],
   "source": [
    "binary_to_image = BinaryToImage()\\\n",
    "    .setOutputCol(\"image\")\n",
    "\n",
    "img_to_hocr = ImageToHocr()\\\n",
    "    .setInputCol(\"image\")\\\n",
    "    .setOutputCol(\"hocr\")\\\n",
    "    .setIgnoreResolution(False)\\\n",
    "    .setOcrParams([\"preserve_interword_spaces=0\"])\n",
    "\n",
    "doc_ner = VisualDocumentNer()\\\n",
    "    .pretrained(\"visual_document_NER_SROIE0526\", \"en\", \"public/ocr/models\")\\\n",
    "    .setInputCol(\"hocr\")    \n",
    "\n",
    "# OCR pipeline\n",
    "ner_pipeline = PipelineModel(stages=[\n",
    "    binary_to_image,\n",
    "    img_to_hocr,\n",
    "    doc_ner\n",
    "])"
   ]
  },
  {
   "cell_type": "code",
   "execution_count": null,
   "metadata": {
    "id": "wFZnjSHjd9oy"
   },
   "outputs": [],
   "source": [
    "results = ner_pipeline.transform(bin_df).cache()"
   ]
  },
  {
   "cell_type": "code",
   "execution_count": null,
   "metadata": {
    "id": "Lf9Om4vmhp0P",
    "colab": {
     "base_uri": "https://localhost:8080/",
     "height": 297
    },
    "executionInfo": {
     "status": "ok",
     "timestamp": 1665092180967,
     "user_tz": -60,
     "elapsed": 61,
     "user": {
      "displayName": "Ahmet Emin Tek",
      "userId": "14855809472179427810"
     }
    },
    "outputId": "ccf10f69-2da5-4781-d07a-d5b81a337501"
   },
   "outputs": [],
   "source": [
    "pd_df = results.select('entities').toPandas().explode('entities')\n",
    "\n",
    "pd_df['label'] = pd_df.entities.apply(lambda a : a[3])\n",
    "pd_df['chunk'] = pd_df.entities.apply(lambda a : a[4]['word'])\n",
    "pd_df[pd_df['label'] != \"O\"][['label', 'chunk']].drop_duplicates()"
   ]
  },
  {
   "cell_type": "markdown",
   "metadata": {
    "id": "zmwuTl10U4p8"
   },
   "source": [
    "## Visual Document NER v2"
   ]
  },
  {
   "cell_type": "code",
   "execution_count": null,
   "metadata": {
    "id": "Zkn3h4mWU9V7",
    "colab": {
     "base_uri": "https://localhost:8080/"
    },
    "executionInfo": {
     "status": "ok",
     "timestamp": 1665092180967,
     "user_tz": -60,
     "elapsed": 59,
     "user": {
      "displayName": "Ahmet Emin Tek",
      "userId": "14855809472179427810"
     }
    },
    "outputId": "7a065e81-2ffb-44a3-895f-f2b6c37c3a93"
   },
   "outputs": [],
   "source": [
    "import pkg_resources\n",
    "test_image_path = pkg_resources.resource_filename('sparkocr', 'resources/ocr/forms/form1.jpg')\n",
    "bin_df = spark.read.format(\"binaryFile\").load(test_image_path)\n",
    "bin_df.show()"
   ]
  },
  {
   "cell_type": "code",
   "execution_count": null,
   "metadata": {
    "id": "wSv3_MwrVsyl",
    "colab": {
     "base_uri": "https://localhost:8080/",
     "height": 1000
    },
    "executionInfo": {
     "status": "ok",
     "timestamp": 1665092180968,
     "user_tz": -60,
     "elapsed": 53,
     "user": {
      "displayName": "Ahmet Emin Tek",
      "userId": "14855809472179427810"
     }
    },
    "outputId": "98464b32-f70d-4759-806d-5863fa9616e3"
   },
   "outputs": [],
   "source": [
    "image_df = BinaryToImage().transform(bin_df)\n",
    "display_images(image_df)"
   ]
  },
  {
   "cell_type": "code",
   "execution_count": null,
   "metadata": {
    "id": "0UFkmVlBU_4Q"
   },
   "outputs": [],
   "source": [
    "binary_to_image = BinaryToImage()\\\n",
    "    .setOutputCol(\"image\") \\\n",
    "    .setImageType(ImageType.TYPE_3BYTE_BGR)\n",
    "\n",
    "img_to_hocr = ImageToHocr()\\\n",
    "    .setInputCol(\"image\")\\\n",
    "    .setOutputCol(\"hocr\")\\\n",
    "    .setIgnoreResolution(False)\\\n",
    "    .setOcrParams([\"preserve_interword_spaces=0\"])\n",
    "\n",
    "tokenizer = HocrTokenizer()\\\n",
    "    .setInputCol(\"hocr\")\\\n",
    "    .setOutputCol(\"token\")\n",
    "\n",
    "doc_ner = VisualDocumentNerV2()\\\n",
    "    .pretrained(\"layoutlmv2_funsd\", \"en\", \"clinical/ocr\")\\\n",
    "    .setInputCols([\"token\", \"image\"])\\\n",
    "    .setOutputCol(\"entities\")\n",
    "\n",
    "draw = ImageDrawAnnotations() \\\n",
    "    .setInputCol(\"image\") \\\n",
    "    .setInputChunksCol(\"entities\") \\\n",
    "    .setOutputCol(\"image_with_annotations\") \\\n",
    "    .setFontSize(10) \\\n",
    "    .setLineWidth(4)\\\n",
    "    .setRectColor(Color.red)\n",
    "\n",
    "# OCR pipeline\n",
    "pipeline = PipelineModel(stages=[\n",
    "    binary_to_image,\n",
    "    img_to_hocr,\n",
    "    tokenizer,\n",
    "    doc_ner,\n",
    "    draw\n",
    "])\n",
    "\n",
    "results = pipeline.transform(bin_df).cache()"
   ]
  },
  {
   "cell_type": "code",
   "execution_count": null,
   "metadata": {
    "id": "g-7iPJghVAAW"
   },
   "outputs": [],
   "source": [
    "pd_df = results.select('entities').toPandas().explode('entities')\n",
    "\n",
    "pd_df['label'] = pd_df.entities.apply(lambda a : a[3])\n",
    "pd_df['chunk'] = pd_df.entities.apply(lambda a : a[4]['word'])\n",
    "pd_result = pd_df[pd_df['label'] != \"O\"][['label', 'chunk']].drop_duplicates()"
   ]
  },
  {
   "cell_type": "code",
   "execution_count": null,
   "metadata": {
    "id": "YQBL6oqfoAEp",
    "colab": {
     "base_uri": "https://localhost:8080/",
     "height": 419
    },
    "executionInfo": {
     "status": "ok",
     "timestamp": 1665092180969,
     "user_tz": -60,
     "elapsed": 46,
     "user": {
      "displayName": "Ahmet Emin Tek",
      "userId": "14855809472179427810"
     }
    },
    "outputId": "c1f6b2ab-1c6a-4f35-ad20-9ec7ebbdc6a3"
   },
   "outputs": [],
   "source": [
    "pd_result"
   ]
  },
  {
   "cell_type": "code",
   "execution_count": null,
   "metadata": {
    "id": "hGs7ZRPuXDEK",
    "colab": {
     "base_uri": "https://localhost:8080/",
     "height": 1000
    },
    "executionInfo": {
     "status": "ok",
     "timestamp": 1665092180969,
     "user_tz": -60,
     "elapsed": 45,
     "user": {
      "displayName": "Ahmet Emin Tek",
      "userId": "14855809472179427810"
     }
    },
    "outputId": "0403f04a-7c3c-437a-a858-98f2cbd41503"
   },
   "outputs": [],
   "source": [
    "display_images(results, \"image_with_annotations\", width=1000)"
   ]
  },
  {
   "cell_type": "markdown",
   "metadata": {
    "id": "pxTd4bZQou19"
   },
   "source": [
    "## Visual Document Classifier"
   ]
  },
  {
   "cell_type": "code",
   "execution_count": null,
   "metadata": {
    "id": "ORYkxLJHotl_",
    "colab": {
     "base_uri": "https://localhost:8080/"
    },
    "executionInfo": {
     "status": "ok",
     "timestamp": 1665092180970,
     "user_tz": -60,
     "elapsed": 39,
     "user": {
      "displayName": "Ahmet Emin Tek",
      "userId": "14855809472179427810"
     }
    },
    "outputId": "196bfc7c-7262-43c7-d263-86ba12751a44"
   },
   "outputs": [],
   "source": [
    "import pkg_resources\n",
    "test_image_path = pkg_resources.resource_filename('sparkocr', 'resources/ocr/images/document_classification/')\n",
    "bin_df = spark.read.format(\"binaryFile\").load(test_image_path)\n",
    "bin_df.show()"
   ]
  },
  {
   "cell_type": "code",
   "execution_count": null,
   "metadata": {
    "id": "N6MJ_d6Go6Y4",
    "colab": {
     "base_uri": "https://localhost:8080/",
     "height": 1000
    },
    "executionInfo": {
     "status": "ok",
     "timestamp": 1665092180970,
     "user_tz": -60,
     "elapsed": 33,
     "user": {
      "displayName": "Ahmet Emin Tek",
      "userId": "14855809472179427810"
     }
    },
    "outputId": "fb0b9938-5924-4734-a86c-43a3ee716a18"
   },
   "outputs": [],
   "source": [
    "for item in BinaryToImage().transform(bin_df).select(\"image\").collect():\n",
    "    display_image(item.image)"
   ]
  },
  {
   "cell_type": "code",
   "execution_count": null,
   "metadata": {
    "id": "dd6UW65tpGSe",
    "colab": {
     "base_uri": "https://localhost:8080/"
    },
    "executionInfo": {
     "status": "ok",
     "timestamp": 1665092188244,
     "user_tz": -60,
     "elapsed": 7296,
     "user": {
      "displayName": "Ahmet Emin Tek",
      "userId": "14855809472179427810"
     }
    },
    "outputId": "c2dec2ad-c0cf-4bdd-8748-cc81b9f95674"
   },
   "outputs": [],
   "source": [
    "binary_to_image = BinaryToImage()\\\n",
    "    .setOutputCol(\"image\")\n",
    "\n",
    "img_to_hocr = ImageToHocr()\\\n",
    "    .setInputCol(\"image\")\\\n",
    "    .setOutputCol(\"hocr\")\\\n",
    "    .setIgnoreResolution(False)\\\n",
    "    .setOcrParams([\"preserve_interword_spaces=0\"])\n",
    "\n",
    "doc_classifier = VisualDocumentClassifier()\\\n",
    "    .pretrained(\"visual_document_classifier_tobacco3482\", \"en\", \"clinical/ocr\")\\\n",
    "    .setInputCol(\"hocr\")\\\n",
    "    .setLabelCol(\"label\")\\\n",
    "    .setConfidenceCol(\"conf\")\n",
    "\n",
    "# OCR pipeline\n",
    "classifier_pipeline = PipelineModel(stages=[\n",
    "    binary_to_image,\n",
    "    img_to_hocr,\n",
    "    doc_classifier\n",
    "])"
   ]
  },
  {
   "cell_type": "code",
   "execution_count": null,
   "metadata": {
    "id": "fiwcHng2pO1R"
   },
   "outputs": [],
   "source": [
    "results = classifier_pipeline.transform(bin_df)"
   ]
  },
  {
   "cell_type": "code",
   "execution_count": null,
   "metadata": {
    "id": "LfjMT8QvpX6h",
    "colab": {
     "base_uri": "https://localhost:8080/"
    },
    "executionInfo": {
     "status": "ok",
     "timestamp": 1665092199301,
     "user_tz": -60,
     "elapsed": 11060,
     "user": {
      "displayName": "Ahmet Emin Tek",
      "userId": "14855809472179427810"
     }
    },
    "outputId": "3c427ff3-39ec-466a-891e-b0152ff644b5"
   },
   "outputs": [],
   "source": [
    "import pyspark.sql.functions as f\n",
    "\n",
    "path_array = f.split(results['path'], '/')\n",
    "results = results.withColumn('filename', path_array.getItem(f.size(path_array)- 1)) \\\n",
    "       .select(\"filename\", \"label\", \"conf\") \\\n",
    "       .show(truncate=False)"
   ]
  },
  {
   "cell_type": "markdown",
   "metadata": {
    "id": "XzVTIQQxqFxy"
   },
   "source": [
    "**Classes in visual_document_classifier_tobacco3482**\n",
    "- Advertisement\n",
    "- Email\n",
    "- Form\n",
    "- Letter\n",
    "- Memo\n",
    "- Report\n",
    "- Resume\n",
    "- Scientific\n",
    "\n"
   ]
  },
  {
   "cell_type": "markdown",
   "metadata": {
    "id": "KgEjQWJ7mvNg"
   },
   "source": [
    "## LayoutLMv2 for Key Value Pair Extraction"
   ]
  },
  {
   "cell_type": "code",
   "execution_count": null,
   "metadata": {
    "id": "UbxLGybpm2HT",
    "colab": {
     "base_uri": "https://localhost:8080/"
    },
    "executionInfo": {
     "status": "ok",
     "timestamp": 1665092199898,
     "user_tz": -60,
     "elapsed": 602,
     "user": {
      "displayName": "Ahmet Emin Tek",
      "userId": "14855809472179427810"
     }
    },
    "outputId": "029e0626-f51c-47db-9700-7e31b1fdcca5"
   },
   "outputs": [],
   "source": [
    "import pkg_resources\n",
    "test_image_path = pkg_resources.resource_filename('sparkocr', 'resources/ocr/forms/form1.jpg')\n",
    "bin_df = spark.read.format(\"binaryFile\").load(test_image_path)\n",
    "bin_df.show()"
   ]
  },
  {
   "cell_type": "code",
   "execution_count": null,
   "metadata": {
    "id": "MaY0zig6m85V",
    "colab": {
     "base_uri": "https://localhost:8080/",
     "height": 1000
    },
    "executionInfo": {
     "status": "ok",
     "timestamp": 1665092200702,
     "user_tz": -60,
     "elapsed": 806,
     "user": {
      "displayName": "Ahmet Emin Tek",
      "userId": "14855809472179427810"
     }
    },
    "outputId": "f4494f69-2fc9-4df4-d946-3b3b85078cb3"
   },
   "outputs": [],
   "source": [
    "image_df = BinaryToImage().transform(bin_df)\n",
    "display_images(image_df)"
   ]
  },
  {
   "cell_type": "code",
   "execution_count": null,
   "metadata": {
    "id": "LW5Sr5HYm_in",
    "colab": {
     "base_uri": "https://localhost:8080/",
     "height": 1000
    },
    "executionInfo": {
     "status": "ok",
     "timestamp": 1665092276900,
     "user_tz": -60,
     "elapsed": 76202,
     "user": {
      "displayName": "Ahmet Emin Tek",
      "userId": "14855809472179427810"
     }
    },
    "outputId": "c289e48f-56fe-4a48-9732-af977aa0e6f3"
   },
   "outputs": [],
   "source": [
    "binary_to_image = BinaryToImage()\\\n",
    "    .setOutputCol(\"image\") \\\n",
    "    .setImageType(ImageType.TYPE_3BYTE_BGR)\n",
    "\n",
    "img_to_hocr = ImageToHocr()\\\n",
    "    .setInputCol(\"image\")\\\n",
    "    .setOutputCol(\"hocr\")\\\n",
    "    .setIgnoreResolution(False)\\\n",
    "    .setOcrParams([\"preserve_interword_spaces=0\"])\n",
    "\n",
    "tokenizer = HocrTokenizer()\\\n",
    "    .setInputCol(\"hocr\")\\\n",
    "    .setOutputCol(\"token\")\n",
    "\n",
    "doc_ner_cust = VisualDocumentNerV2()\\\n",
    "    .pretrained(\"layoutlmv2_key_value_pairs\", \"en\", \"clinical/ocr\")\\\n",
    "    .setInputCols([\"token\", \"image\"])\\\n",
    "    .setOutputCol(\"entities\")\\\n",
    "    .setLabels([\"other\",\n",
    "                \"header\",\n",
    "                \"header\",\n",
    "                \"key\",\n",
    "                \"key\",\n",
    "                \"value\",\n",
    "                \"value\"])\\\n",
    "    .setWhiteList([\"header\",\n",
    "                   \"key\",\n",
    "                   \"value\"])\n",
    "\n",
    "draw = ImageDrawAnnotations() \\\n",
    "    .setInputCol(\"image\") \\\n",
    "    .setInputChunksCol(\"entities\") \\\n",
    "    .setOutputCol(\"image_with_annotations\") \\\n",
    "    .setFontSize(10) \\\n",
    "    .setLineWidth(4)\\\n",
    "    .setRectColor(Color.red)\n",
    "\n",
    "\n",
    "# OCR pipeline\n",
    "pipeline = PipelineModel(stages=[\n",
    "    binary_to_image,\n",
    "    img_to_hocr,\n",
    "    tokenizer,\n",
    "    doc_ner_cust,\n",
    "    draw\n",
    "])\n",
    "\n",
    "results = pipeline.transform(bin_df).cache()\n",
    "display_images(results, \"image_with_annotations\", width=1000)"
   ]
  },
  {
   "cell_type": "code",
   "execution_count": null,
   "metadata": {
    "id": "BPm79Hq_nHWT",
    "colab": {
     "base_uri": "https://localhost:8080/",
     "height": 1000
    },
    "executionInfo": {
     "status": "ok",
     "timestamp": 1665092276901,
     "user_tz": -60,
     "elapsed": 16,
     "user": {
      "displayName": "Ahmet Emin Tek",
      "userId": "14855809472179427810"
     }
    },
    "outputId": "7aeeb4aa-6a16-4087-9d45-f3a1ffaad181"
   },
   "outputs": [],
   "source": [
    "pd_df = results.select('entities').toPandas().explode('entities')\n",
    "\n",
    "pd_df['label'] = pd_df.entities.apply(lambda a : a[3])\n",
    "pd_df['chunk'] = pd_df.entities.apply(lambda a : a[4]['word'])\n",
    "pd_result = pd_df[pd_df['label'] != \"O\"][['label', 'chunk']].drop_duplicates()\n",
    "pd_result"
   ]
  }
 ],
 "metadata": {
  "colab": {
   "collapsed_sections": [],
   "machine_shape": "hm",
   "provenance": [],
   "toc_visible": true
  },
  "kernelspec": {
   "display_name": "Python 3",
   "name": "python3"
  },
  "language_info": {
   "name": "python"
  }
 },
 "nbformat": 4,
 "nbformat_minor": 0
}
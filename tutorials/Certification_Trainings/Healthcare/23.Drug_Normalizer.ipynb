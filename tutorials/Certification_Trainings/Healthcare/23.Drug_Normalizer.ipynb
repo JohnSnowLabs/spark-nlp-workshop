{
  "nbformat": 4,
  "nbformat_minor": 0,
  "metadata": {
    "colab": {
      "name": "23.Drug_Normalizer.ipynb",
      "provenance": [],
      "collapsed_sections": []
    },
    "kernelspec": {
      "display_name": "Python 3",
      "language": "python",
      "name": "python3"
    },
    "language_info": {
      "codemirror_mode": {
        "name": "ipython",
        "version": 3
      },
      "file_extension": ".py",
      "mimetype": "text/x-python",
      "name": "python",
      "nbconvert_exporter": "python",
      "pygments_lexer": "ipython3",
      "version": "3.7.6"
    },
    "pycharm": {
      "stem_cell": {
        "cell_type": "raw",
        "metadata": {
          "collapsed": false
        },
        "source": []
      }
    }
  },
  "cells": [
    {
      "cell_type": "markdown",
      "metadata": {
        "id": "_ZDCTs685mzt"
      },
      "source": [
        "![JohnSnowLabs](https://nlp.johnsnowlabs.com/assets/images/logo.png)"
      ]
    },
    {
      "cell_type": "markdown",
      "metadata": {
        "id": "sQFJ6aT4nfhw"
      },
      "source": [
        "[![Open In Colab](https://colab.research.google.com/assets/colab-badge.svg)](https://colab.research.google.com/github/JohnSnowLabs/spark-nlp-workshop/blob/master/tutorials/Certification_Trainings/Healthcare/23.Drug_Normalizer.ipynb)"
      ]
    },
    {
      "cell_type": "markdown",
      "metadata": {
        "id": "qRExAXlX5mzz"
      },
      "source": [
        "# 23.Clinical Drug Normalizer"
      ]
    },
    {
      "cell_type": "markdown",
      "metadata": {
        "id": "AHgUNvnN5mz0"
      },
      "source": [
        "### New Annotator that transforms text to the format used in the RxNorm and SNOMED standards"
      ]
    },
    {
      "cell_type": "markdown",
      "metadata": {
        "id": "X-BSrjva5mz0"
      },
      "source": [
        "It takes in input annotated documents of type Array\\[AnnotatorType\\](DOCUMENT) and gives as output annotated document of type AnnotatorType.DOCUMENT .\n",
        "\n",
        "Parameters are:\n",
        "- inputCol: input column name string which targets a column of type Array(AnnotatorType.DOCUMENT).\n",
        "- outputCol: output column name string which targets a column of type AnnotatorType.DOCUMENT.\n",
        "- lowercase: whether to convert strings to lowercase. Default is False.\n",
        "- policy: rule to remove patterns from text.  Valid policy values are:  \n",
        "  + **\"all\"**,   \n",
        "  + **\"abbreviations\"**,   \n",
        "  + **\"dosages\"** \n",
        "   \n",
        "Defaults is \"all\". \"abbreviation\" policy used to expend common drugs abbreviations, \"dosages\" policy used to convert drugs dosages and values to the standard form (see examples bellow)."
      ]
    },
    {
      "cell_type": "markdown",
      "metadata": {
        "id": "lmtcfKIz5mz0",
        "pycharm": {
          "name": "#%% md\n"
        }
      },
      "source": [
        "#### Examples of transformation:\n",
        "    \n",
        "1) \"Sodium Chloride/Potassium Chloride 13bag\"  >>>  \"Sodium Chloride / Potassium Chloride **13 bag**\" : add extra spaces in the form entity\n",
        "\n",
        "2) \"interferon alfa-2b 10 million unit ( 1 ml ) injec\" >>> \"interferon alfa - 2b 10000000 unt ( 1 ml ) injection \" : convert **10 million unit** to the **10000000 unt**, replace **injec** with **injection**\n",
        "\n",
        "3) \"aspirin 10 meq/ 5 ml oral sol\" >>> \"aspirin 2 meq/ml oral solution\" : normalize **10 meq/ 5 ml** to the **2 meq/ml**, extend abbreviation **oral sol** to the **oral solution**\n",
        "\n",
        "4) \"adalimumab 54.5 + 43.2 gm\" >>> \"adalimumab 97700 mg\" : combine **54.5 + 43.2** and normalize **gm** to **mg**\n",
        "\n",
        "5) \"Agnogenic one  half cup\" >>> \"Agnogenic 0.5 oral solution\" : replace **one  half** to the **0.5**, normalize **cup** to the **oral solution**"
      ]
    },
    {
      "cell_type": "code",
      "metadata": {
        "id": "MdE588BiY3z1"
      },
      "source": [
        "import json, os\n",
        "from google.colab import files\n",
        "\n",
        "license_keys = files.upload()\n",
        "\n",
        "with open(list(license_keys.keys())[0]) as f:\n",
        "    license_keys = json.load(f)\n",
        "\n",
        "# Defining license key-value pairs as local variables\n",
        "locals().update(license_keys)\n",
        "\n",
        "# Adding license key-value pairs to environment variables\n",
        "os.environ.update(license_keys)"
      ],
      "execution_count": null,
      "outputs": []
    },
    {
      "cell_type": "code",
      "metadata": {
        "id": "F7BN6q-8UNc7"
      },
      "source": [
        "# Installing pyspark and spark-nlp\n",
        "! pip install --upgrade -q pyspark==3.1.2 spark-nlp==$PUBLIC_VERSION\n",
        "\n",
        "# Installing Spark NLP Healthcare\n",
        "! pip install --upgrade -q spark-nlp-jsl==$JSL_VERSION  --extra-index-url https://pypi.johnsnowlabs.com/$SECRET"
      ],
      "execution_count": null,
      "outputs": []
    },
    {
      "cell_type": "code",
      "metadata": {
        "id": "7Gg3kybJtJbW",
        "colab": {
          "base_uri": "https://localhost:8080/"
        },
        "outputId": "8cf25eed-c434-4cf4-8cd3-52614abcbd31"
      },
      "source": [
        "import json\n",
        "import os\n",
        "from pyspark.ml import Pipeline,PipelineModel\n",
        "from pyspark.sql import SparkSession\n",
        "\n",
        "from sparknlp.annotator import *\n",
        "from sparknlp_jsl.annotator import *\n",
        "from sparknlp.base import *\n",
        "import sparknlp_jsl\n",
        "import sparknlp\n",
        "\n",
        "params = {\"spark.driver.memory\":\"16G\",\n",
        "\"spark.kryoserializer.buffer.max\":\"2000M\",\n",
        "\"spark.driver.maxResultSize\":\"2000M\"}\n",
        "\n",
        "spark = sparknlp_jsl.start(license_keys['SECRET'],params=params)\n",
        "\n",
        "print (sparknlp.version())\n",
        "print (sparknlp_jsl.version())"
      ],
      "execution_count": null,
      "outputs": [
        {
          "output_type": "stream",
          "name": "stdout",
          "text": [
            "3.3.0\n",
            "3.3.0\n"
          ]
        }
      ]
    },
    {
      "cell_type": "code",
      "metadata": {
        "id": "hx2jxxCaVlOV"
      },
      "source": [
        " # if you want to start the session with custom params as in start function above\n",
        "\n",
        "def start(secret):\n",
        "    builder = SparkSession.builder \\\n",
        "        .appName(\"Spark NLP Licensed\") \\\n",
        "        .master(\"local[*]\") \\\n",
        "        .config(\"spark.driver.memory\", \"16G\") \\\n",
        "        .config(\"spark.serializer\", \"org.apache.spark.serializer.KryoSerializer\") \\\n",
        "        .config(\"spark.kryoserializer.buffer.max\", \"2000M\") \\\n",
        "        .config(\"spark.jars.packages\", \"com.johnsnowlabs.nlp:spark-nlp_2.11:\"+version)  \\\n",
        "        .config(\"spark.jars\", \"https://pypi.johnsnowlabs.com/\"+secret+\"/spark-nlp-jsl-\"+jsl_version+\".jar\")\n",
        "      \n",
        "    return builder.getOrCreate()\n",
        "\n",
        "# spark = start(secret)"
      ],
      "execution_count": null,
      "outputs": []
    },
    {
      "cell_type": "code",
      "metadata": {
        "colab": {
          "base_uri": "https://localhost:8080/",
          "height": 208
        },
        "id": "7zP-9FcXVzx7",
        "outputId": "575c77de-1d63-4193-9efa-d4f715ea54a0"
      },
      "source": [
        "spark"
      ],
      "execution_count": null,
      "outputs": [
        {
          "output_type": "execute_result",
          "data": {
            "text/html": [
              "\n",
              "            <div>\n",
              "                <p><b>SparkSession - in-memory</b></p>\n",
              "                \n",
              "        <div>\n",
              "            <p><b>SparkContext</b></p>\n",
              "\n",
              "            <p><a href=\"http://1bbdac025376:4040\">Spark UI</a></p>\n",
              "\n",
              "            <dl>\n",
              "              <dt>Version</dt>\n",
              "                <dd><code>v3.1.2</code></dd>\n",
              "              <dt>Master</dt>\n",
              "                <dd><code>local[*]</code></dd>\n",
              "              <dt>AppName</dt>\n",
              "                <dd><code>Spark NLP Licensed</code></dd>\n",
              "            </dl>\n",
              "        </div>\n",
              "        \n",
              "            </div>\n",
              "        "
            ],
            "text/plain": [
              "<pyspark.sql.session.SparkSession at 0x7f09bd787a10>"
            ]
          },
          "metadata": {},
          "execution_count": 5
        }
      ]
    },
    {
      "cell_type": "code",
      "metadata": {
        "colab": {
          "base_uri": "https://localhost:8080/"
        },
        "id": "1zgsiTxjaiMd",
        "outputId": "9d5a0ecc-fe21-4d1a-ed94-fa7107f4f2f7"
      },
      "source": [
        "# Sample data\n",
        "data_to_normalize = spark.createDataFrame([\n",
        "            (\"A\", \"Sodium Chloride/Potassium Chloride 13bag\", \"Sodium Chloride / Potassium Chloride 13 bag\"),\n",
        "            (\"B\", \"interferon alfa-2b 10 million unit ( 1 ml ) injec\", \"interferon alfa - 2b 10000000 unt ( 1 ml ) injection\"),\n",
        "            (\"C\", \"aspirin 10 meq/ 5 ml oral sol\", \"aspirin 2 meq/ml oral solution\")\n",
        "        ]).toDF(\"cuid\", \"text\", \"target_normalized_text\")\n",
        "\n",
        "data_to_normalize.show(truncate=100)"
      ],
      "execution_count": null,
      "outputs": [
        {
          "output_type": "stream",
          "name": "stdout",
          "text": [
            "+----+-------------------------------------------------+----------------------------------------------------+\n",
            "|cuid|                                             text|                              target_normalized_text|\n",
            "+----+-------------------------------------------------+----------------------------------------------------+\n",
            "|   A|         Sodium Chloride/Potassium Chloride 13bag|         Sodium Chloride / Potassium Chloride 13 bag|\n",
            "|   B|interferon alfa-2b 10 million unit ( 1 ml ) injec|interferon alfa - 2b 10000000 unt ( 1 ml ) injection|\n",
            "|   C|                    aspirin 10 meq/ 5 ml oral sol|                      aspirin 2 meq/ml oral solution|\n",
            "+----+-------------------------------------------------+----------------------------------------------------+\n",
            "\n"
          ]
        }
      ]
    },
    {
      "cell_type": "code",
      "metadata": {
        "colab": {
          "base_uri": "https://localhost:8080/"
        },
        "id": "r2Yr96wrWPUH",
        "outputId": "1ed57f6c-4c5b-409b-a337-cb3d5d299ed3"
      },
      "source": [
        "# Annotator that transforms a text column from dataframe into normalized text (with all policy)\n",
        "\n",
        "document_assembler = DocumentAssembler()\\\n",
        "    .setInputCol(\"text\")\\\n",
        "    .setOutputCol(\"document\")\n",
        "\n",
        "policy = \"all\"\n",
        "\n",
        "drug_normalizer = DrugNormalizer() \\\n",
        "    .setInputCols(\"document\") \\\n",
        "    .setOutputCol(\"document_normalized\") \\\n",
        "    .setPolicy(policy)\n",
        "\n",
        "drug_normalizer_pipeline = Pipeline(stages=[\n",
        "    document_assembler,\n",
        "    drug_normalizer\n",
        "    ])\n",
        "\n",
        "ds = drug_normalizer_pipeline.fit(data_to_normalize).transform(data_to_normalize)\n",
        "\n",
        "ds = ds.selectExpr(\"document\", \"target_normalized_text\", \"explode(document_normalized.result) as all_normalized_text\")\n",
        "ds.show(truncate = False)"
      ],
      "execution_count": null,
      "outputs": [
        {
          "output_type": "stream",
          "name": "stdout",
          "text": [
            "+-------------------------------------------------------------------------------------------+----------------------------------------------------+----------------------------------------------------+\n",
            "|document                                                                                   |target_normalized_text                              |all_normalized_text                                 |\n",
            "+-------------------------------------------------------------------------------------------+----------------------------------------------------+----------------------------------------------------+\n",
            "|[{document, 0, 39, Sodium Chloride/Potassium Chloride 13bag, {sentence -> 0}, []}]         |Sodium Chloride / Potassium Chloride 13 bag         |Sodium Chloride / Potassium Chloride 13 bag         |\n",
            "|[{document, 0, 48, interferon alfa-2b 10 million unit ( 1 ml ) injec, {sentence -> 0}, []}]|interferon alfa - 2b 10000000 unt ( 1 ml ) injection|interferon alfa - 2b 10000000 unt ( 1 ml ) injection|\n",
            "|[{document, 0, 28, aspirin 10 meq/ 5 ml oral sol, {sentence -> 0}, []}]                    |aspirin 2 meq/ml oral solution                      |aspirin 2 meq/ml oral solution                      |\n",
            "+-------------------------------------------------------------------------------------------+----------------------------------------------------+----------------------------------------------------+\n",
            "\n"
          ]
        }
      ]
    },
    {
      "cell_type": "code",
      "metadata": {
        "colab": {
          "base_uri": "https://localhost:8080/"
        },
        "id": "wgQw1ZnV5mz5",
        "outputId": "51eeacca-19ec-446d-c4bf-2c4421cbdcdf"
      },
      "source": [
        "# Annotator that transforms a text column from dataframe into normalized text (with abbreviations only policy)\n",
        "\n",
        "policy = \"abbreviations\"\n",
        "\n",
        "drug_normalizer_abb = DrugNormalizer() \\\n",
        "    .setInputCols(\"document\") \\\n",
        "    .setOutputCol(\"document_normalized_abbreviations\") \\\n",
        "    .setPolicy(policy)\n",
        "\n",
        "ds = drug_normalizer_abb.transform(ds)\n",
        "\n",
        "ds = ds.selectExpr(\"document\", \"target_normalized_text\", \"all_normalized_text\", \"explode(document_normalized_abbreviations.result) as abbr_normalized_text\")\n",
        "ds.select(\"target_normalized_text\", \"all_normalized_text\", \"abbr_normalized_text\").show(truncate=1000)"
      ],
      "execution_count": null,
      "outputs": [
        {
          "output_type": "stream",
          "name": "stdout",
          "text": [
            "+----------------------------------------------------+----------------------------------------------------+-----------------------------------------------------+\n",
            "|                              target_normalized_text|                                 all_normalized_text|                                 abbr_normalized_text|\n",
            "+----------------------------------------------------+----------------------------------------------------+-----------------------------------------------------+\n",
            "|         Sodium Chloride / Potassium Chloride 13 bag|         Sodium Chloride / Potassium Chloride 13 bag|             Sodium Chloride/Potassium Chloride 13bag|\n",
            "|interferon alfa - 2b 10000000 unt ( 1 ml ) injection|interferon alfa - 2b 10000000 unt ( 1 ml ) injection|interferon alfa-2b 10 million unit ( 1 ml ) injection|\n",
            "|                      aspirin 2 meq/ml oral solution|                      aspirin 2 meq/ml oral solution|                   aspirin 10 meq/ 5 ml oral solution|\n",
            "+----------------------------------------------------+----------------------------------------------------+-----------------------------------------------------+\n",
            "\n"
          ]
        }
      ]
    },
    {
      "cell_type": "code",
      "metadata": {
        "colab": {
          "base_uri": "https://localhost:8080/"
        },
        "id": "JtsRZL_ybwhb",
        "outputId": "668cbffb-2211-4987-bfd3-a42b9585e3e3"
      },
      "source": [
        "# Transform a text column from dataframe into normalized text (with dosages only policy)\n",
        "\n",
        "policy = \"dosages\"\n",
        "\n",
        "drug_normalizer_abb = DrugNormalizer() \\\n",
        "    .setInputCols(\"document\") \\\n",
        "    .setOutputCol(\"document_normalized_dosages\") \\\n",
        "    .setPolicy(policy)\n",
        "\n",
        "ds = drug_normalizer_abb.transform(ds)\n",
        "\n",
        "ds.selectExpr(\"target_normalized_text\", \"all_normalized_text\", \"explode(document_normalized_dosages.result) as dos_normalized_text\").show(truncate=1000)  "
      ],
      "execution_count": null,
      "outputs": [
        {
          "output_type": "stream",
          "name": "stdout",
          "text": [
            "+----------------------------------------------------+----------------------------------------------------+------------------------------------------------+\n",
            "|                              target_normalized_text|                                 all_normalized_text|                             dos_normalized_text|\n",
            "+----------------------------------------------------+----------------------------------------------------+------------------------------------------------+\n",
            "|         Sodium Chloride / Potassium Chloride 13 bag|         Sodium Chloride / Potassium Chloride 13 bag|     Sodium Chloride / Potassium Chloride 13 bag|\n",
            "|interferon alfa - 2b 10000000 unt ( 1 ml ) injection|interferon alfa - 2b 10000000 unt ( 1 ml ) injection|interferon alfa - 2b 10000000 unt ( 1 ml ) injec|\n",
            "|                      aspirin 2 meq/ml oral solution|                      aspirin 2 meq/ml oral solution|                       aspirin 2 meq/ml oral sol|\n",
            "+----------------------------------------------------+----------------------------------------------------+------------------------------------------------+\n",
            "\n"
          ]
        }
      ]
    },
    {
      "cell_type": "markdown",
      "metadata": {
        "id": "RbIOEhtZ5mz6"
      },
      "source": [
        "#### Apply normalizer only on NER chunks"
      ]
    },
    {
      "cell_type": "code",
      "metadata": {
        "colab": {
          "base_uri": "https://localhost:8080/"
        },
        "id": "Dg1aE3WR5mz6",
        "outputId": "0e1bbebc-9100-4bde-ba42-f41630e9a1cf"
      },
      "source": [
        "documentAssembler = DocumentAssembler()\\\n",
        "    .setInputCol(\"text\")\\\n",
        "    .setOutputCol(\"document\")\n",
        " \n",
        "# Sentence Detector annotator, processes various sentences per line\n",
        "sentenceDetector = SentenceDetector()\\\n",
        "    .setInputCols([\"document\"])\\\n",
        "    .setOutputCol(\"sentence\")\n",
        "  \n",
        "# Tokenizer splits words in a relevant format for NLP\n",
        "tokenizer = Tokenizer()\\\n",
        "    .setInputCols([\"sentence\"])\\\n",
        "    .setOutputCol(\"token\")\\\n",
        "    .addSplitChars(\";\")\n",
        "  \n",
        "# Clinical word embeddings trained on PubMED dataset\n",
        "word_embeddings = WordEmbeddingsModel.pretrained(\"embeddings_clinical\", \"en\", \"clinical/models\")\\\n",
        "    .setInputCols([\"sentence\", \"token\"])\\\n",
        "    .setOutputCol(\"embeddings\")\n",
        " \n",
        "# Extract entities with NER model posology\n",
        "posology_ner = MedicalNerModel.pretrained(\"ner_posology_large\", \"en\", \"clinical/models\") \\\n",
        "    .setInputCols([\"sentence\", \"token\", \"embeddings\"]) \\\n",
        "    .setOutputCol(\"ner_posology\")\n",
        "  \n",
        "# Group extracted entities into the chunks\n",
        "ner_converter = NerConverter()\\\n",
        "    .setInputCols([\"sentence\", \"token\", \"ner_posology\"])\\\n",
        "    .setOutputCol(\"ner_chunk_posology\")\n",
        " \n",
        "# Convert extracted entities to the doc with chunks in metadata\n",
        "c2doc = Chunk2Doc()\\\n",
        "    .setInputCols(\"ner_chunk_posology\")\\\n",
        "    .setOutputCol(\"chunk_doc\") \n",
        "\n",
        "# Transform a chunk document into normalized text\n",
        "drug_normalizer = DrugNormalizer() \\\n",
        "    .setInputCols(\"chunk_doc\") \\\n",
        "    .setOutputCol(\"document_normalized_dosages\")\\\n",
        "    .setPolicy(\"all\")\n",
        "\n",
        "nlpPipeline = Pipeline(stages=[\n",
        "    documentAssembler, \n",
        "    sentenceDetector,\n",
        "    tokenizer,\n",
        "    word_embeddings,\n",
        "    posology_ner,\n",
        "    ner_converter,\n",
        "    c2doc,\n",
        "    drug_normalizer])\n",
        "\n",
        "empty_data = spark.createDataFrame([[\"\"]]).toDF(\"text\")\n",
        "\n",
        "model = nlpPipeline.fit(empty_data)"
      ],
      "execution_count": null,
      "outputs": [
        {
          "output_type": "stream",
          "name": "stdout",
          "text": [
            "embeddings_clinical download started this may take some time.\n",
            "Approximate size to download 1.6 GB\n",
            "[OK!]\n",
            "ner_posology_large download started this may take some time.\n",
            "Approximate size to download 13.8 MB\n",
            "[OK!]\n"
          ]
        }
      ]
    },
    {
      "cell_type": "code",
      "metadata": {
        "id": "Zvg4Qe5Z5mz7"
      },
      "source": [
        "! wget -q https://s3.amazonaws.com/auxdata.johnsnowlabs.com/public/resources/en/pubmed/pubmed_sample_text_small.csv"
      ],
      "execution_count": null,
      "outputs": []
    },
    {
      "cell_type": "code",
      "metadata": {
        "colab": {
          "base_uri": "https://localhost:8080/"
        },
        "id": "SKDWIpue5mz7",
        "outputId": "270bd684-33cb-479c-a7d6-1b7e039f4bdf"
      },
      "source": [
        "import pyspark.sql.functions as F\n",
        "\n",
        "pubMedDF = spark.read\\\n",
        "                .option(\"header\", \"true\")\\\n",
        "                .csv(\"pubmed_sample_text_small.csv\")\\\n",
        "                \n",
        "pubMedDF.show(truncate=50)"
      ],
      "execution_count": null,
      "outputs": [
        {
          "output_type": "stream",
          "name": "stdout",
          "text": [
            "+--------------------------------------------------+\n",
            "|                                              text|\n",
            "+--------------------------------------------------+\n",
            "|The human KCNJ9 (Kir 3.3, GIRK3) is a member of...|\n",
            "|BACKGROUND: At present, it is one of the most i...|\n",
            "|OBJECTIVE: To investigate the relationship betw...|\n",
            "|Combined EEG/fMRI recording has been used to lo...|\n",
            "|Kohlschutter syndrome is a rare neurodegenerati...|\n",
            "|Statistical analysis of neuroimages is commonly...|\n",
            "|The synthetic DOX-LNA conjugate was characteriz...|\n",
            "|Our objective was to compare three different me...|\n",
            "|We conducted a phase II study to assess the eff...|\n",
            "|\"\"\"Monomeric sarcosine oxidase (MSOX) is a flav...|\n",
            "|We presented the tachinid fly Exorista japonica...|\n",
            "|The literature dealing with the water conductin...|\n",
            "|A novel approach to synthesize chitosan-O-isopr...|\n",
            "|An HPLC-ESI-MS-MS method has been developed for...|\n",
            "|The localizing and lateralizing values of eye a...|\n",
            "|OBJECTIVE: To evaluate the effectiveness and ac...|\n",
            "|For the construction of new combinatorial libra...|\n",
            "|We report the results of a screen for genetic a...|\n",
            "|Intraparenchymal pericatheter cyst is rarely re...|\n",
            "|It is known that patients with Klinefelter's sy...|\n",
            "+--------------------------------------------------+\n",
            "only showing top 20 rows\n",
            "\n"
          ]
        }
      ]
    },
    {
      "cell_type": "code",
      "metadata": {
        "id": "2UCCH6Wc5mz7"
      },
      "source": [
        "result = model.transform(pubMedDF.limit(100))"
      ],
      "execution_count": null,
      "outputs": []
    },
    {
      "cell_type": "code",
      "metadata": {
        "colab": {
          "base_uri": "https://localhost:8080/"
        },
        "id": "2jB11A4K-Idt",
        "outputId": "bc1480be-0c73-4a5a-ecef-e68048e7a82e"
      },
      "source": [
        "result.show(2)"
      ],
      "execution_count": null,
      "outputs": [
        {
          "output_type": "stream",
          "name": "stdout",
          "text": [
            "+--------------------+--------------------+--------------------+--------------------+--------------------+--------------------+--------------------+--------------------+---------------------------+\n",
            "|                text|            document|            sentence|               token|          embeddings|        ner_posology|  ner_chunk_posology|           chunk_doc|document_normalized_dosages|\n",
            "+--------------------+--------------------+--------------------+--------------------+--------------------+--------------------+--------------------+--------------------+---------------------------+\n",
            "|The human KCNJ9 (...|[{document, 0, 95...|[{document, 0, 12...|[{token, 0, 2, Th...|[{word_embeddings...|[{named_entity, 0...|[{chunk, 52, 122,...|[{document, 52, 1...|       [{document, 52, 7...|\n",
            "|BACKGROUND: At pr...|[{document, 0, 14...|[{document, 0, 19...|[{token, 0, 9, BA...|[{word_embeddings...|[{named_entity, 0...|[{chunk, 167, 180...|[{document, 167, ...|       [{document, 167, ...|\n",
            "+--------------------+--------------------+--------------------+--------------------+--------------------+--------------------+--------------------+--------------------+---------------------------+\n",
            "only showing top 2 rows\n",
            "\n"
          ]
        }
      ]
    },
    {
      "cell_type": "code",
      "metadata": {
        "colab": {
          "base_uri": "https://localhost:8080/"
        },
        "id": "dEYrLo945mz8",
        "outputId": "335c7a4b-5422-4f19-e873-7b7b8cf46ab9"
      },
      "source": [
        "import pyspark.sql.functions as F\n",
        "result.select(F.explode('document_normalized_dosages.result')).show(truncate=100)"
      ],
      "execution_count": null,
      "outputs": [
        {
          "output_type": "stream",
          "name": "stdout",
          "text": [
            "+-----------------------------------------------------------------------------+\n",
            "|                                                                          col|\n",
            "+-----------------------------------------------------------------------------+\n",
            "|G - protein - activated inwardly rectifying potassium ( GIRK ) channel family|\n",
            "|                                                                8 base - pair|\n",
            "|                                                               anthracyclines|\n",
            "|                                                                      taxanes|\n",
            "|                                                                 usefulnessof|\n",
            "|                                                                  vinorelbine|\n",
            "|                                                                  vinorelbine|\n",
            "|                                                               anthracyclines|\n",
            "|                                                                      taxanes|\n",
            "|                                                               Vinorelbinewas|\n",
            "|                                                                 25 mg /m ( 2|\n",
            "|                                                                intravenously|\n",
            "|                                                                      on days|\n",
            "|                                                                  nine cycles|\n",
            "|                                                                     Themajor|\n",
            "|                                                              thatvinorelbine|\n",
            "|                                                               anthracyclines|\n",
            "|                                                                      taxanes|\n",
            "|                                                               testsperformed|\n",
            "|                                                                statisticfrom|\n",
            "+-----------------------------------------------------------------------------+\n",
            "only showing top 20 rows\n",
            "\n"
          ]
        }
      ]
    }
  ]
}
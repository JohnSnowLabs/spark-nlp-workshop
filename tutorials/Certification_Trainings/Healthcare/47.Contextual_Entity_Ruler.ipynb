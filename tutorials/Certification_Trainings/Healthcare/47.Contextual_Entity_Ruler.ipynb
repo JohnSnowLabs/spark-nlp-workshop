{
  "nbformat": 4,
  "nbformat_minor": 0,
  "metadata": {
    "colab": {
      "provenance": []
    },
    "kernelspec": {
      "name": "python3",
      "display_name": "Python 3"
    },
    "language_info": {
      "name": "python"
    }
  },
  "cells": [
    {
      "cell_type": "markdown",
      "source": [
        "![JohnSnowLabs](https://nlp.johnsnowlabs.com/assets/images/logo.png)"
      ],
      "metadata": {
        "id": "rZNvKPHPgrYg"
      }
    },
    {
      "cell_type": "markdown",
      "source": [
        "[![Open In Colab](https://colab.research.google.com/assets/colab-badge.svg)](https://colab.research.google.com/github/JohnSnowLabs/spark-nlp-workshop/blob/master/tutorials/Certification_Trainings/Healthcare/47.Contextual_Entity_Ruler.ipynb)"
      ],
      "metadata": {
        "id": "A4HVg4gwgxCR"
      }
    },
    {
      "cell_type": "markdown",
      "source": [
        "# 📜ContextualEntityRuler"
      ],
      "metadata": {
        "id": "h6tS8JrcFV4R"
      }
    },
    {
      "cell_type": "markdown",
      "source": [
        "\n",
        "\n",
        "ContextualEntityRuler is an annotator that updates chunks based on contextual rules.\n",
        "\n",
        "These rules are defined in the form of dictionaries and can include prefixes, suffixes, and the context within a specified scope window around the chunks.\n",
        "\n",
        "This annotator modifies detected chunks by replacing their entity labels or content based on the patterns and rules if they mathces. It is particularly useful for refining entity recognition results according to specific needs.\n",
        "\n"
      ],
      "metadata": {
        "id": "NzQ-FurKg5j7"
      }
    },
    {
      "cell_type": "markdown",
      "source": [
        "## **🎬 Colab Setup**"
      ],
      "metadata": {
        "id": "6WOk4eXRFwgT"
      }
    },
    {
      "cell_type": "code",
      "source": [
        "import json, os\n",
        "from google.colab import files\n",
        "\n",
        "if 'spark_jsl.json' not in os.listdir():\n",
        "  license_keys = files.upload()\n",
        "  os.rename(list(license_keys.keys())[0], 'spark_jsl.json')\n",
        "\n",
        "with open('spark_jsl.json') as f:\n",
        "    license_keys = json.load(f)\n",
        "\n",
        "# Defining license key-value pairs as local variables\n",
        "locals().update(license_keys)\n",
        "os.environ.update(license_keys)"
      ],
      "metadata": {
        "id": "q2mnGTQQWvYv"
      },
      "execution_count": null,
      "outputs": []
    },
    {
      "cell_type": "code",
      "source": [
        "# Installing pyspark and spark-nlp\n",
        "! pip install --upgrade -q pyspark==3.4.0  spark-nlp==$PUBLIC_VERSION\n",
        "\n",
        "# Installing Spark NLP Healthcare\n",
        "! pip install --upgrade -q spark-nlp-jsl==$JSL_VERSION  --extra-index-url https://pypi.johnsnowlabs.com/$SECRET\n",
        "\n",
        "# Installing Spark NLP Display Library for visualization\n",
        "! pip install --upgrade -q spark-nlp-display"
      ],
      "metadata": {
        "id": "HnRQizBbhnQn"
      },
      "execution_count": null,
      "outputs": []
    },
    {
      "cell_type": "code",
      "source": [
        "import json\n",
        "import os\n",
        "\n",
        "import sparknlp\n",
        "import sparknlp_jsl\n",
        "\n",
        "from sparknlp.base import *\n",
        "from sparknlp.common import *\n",
        "from sparknlp.training import *\n",
        "from sparknlp.annotator import *\n",
        "\n",
        "from sparknlp_jsl.base import *\n",
        "from sparknlp_jsl.annotator import *\n",
        "from pyspark.ml import Pipeline\n",
        "from pyspark.sql.types import StringType\n",
        "import pyspark.sql.types as T\n",
        "import pyspark.sql.functions as F\n",
        "\n",
        "import pandas as pd\n",
        "import numpy as np\n",
        "\n",
        "spark = sparknlp_jsl.start(license_keys['SECRET'])\n",
        "print(\"Spark NLP Version :\", sparknlp.version())\n",
        "print(\"Spark NLP_JSL Version :\", sparknlp_jsl.version())\n",
        "\n",
        "spark"
      ],
      "metadata": {
        "id": "3QB68-iqhttM",
        "colab": {
          "base_uri": "https://localhost:8080/",
          "height": 256
        },
        "outputId": "6635ff39-5c22-4e64-c36b-134987db4e60"
      },
      "execution_count": null,
      "outputs": [
        {
          "output_type": "stream",
          "name": "stdout",
          "text": [
            "Spark NLP Version : 5.5.0\n",
            "Spark NLP_JSL Version : 5.5.0\n"
          ]
        },
        {
          "output_type": "execute_result",
          "data": {
            "text/plain": [
              "<pyspark.sql.session.SparkSession at 0x7bdba19cf460>"
            ],
            "text/html": [
              "\n",
              "            <div>\n",
              "                <p><b>SparkSession - in-memory</b></p>\n",
              "                \n",
              "        <div>\n",
              "            <p><b>SparkContext</b></p>\n",
              "\n",
              "            <p><a href=\"http://24b2671090b4:4040\">Spark UI</a></p>\n",
              "\n",
              "            <dl>\n",
              "              <dt>Version</dt>\n",
              "                <dd><code>v3.4.0</code></dd>\n",
              "              <dt>Master</dt>\n",
              "                <dd><code>local[*]</code></dd>\n",
              "              <dt>AppName</dt>\n",
              "                <dd><code>Spark NLP Licensed</code></dd>\n",
              "            </dl>\n",
              "        </div>\n",
              "        \n",
              "            </div>\n",
              "        "
            ]
          },
          "metadata": {},
          "execution_count": 3
        }
      ]
    },
    {
      "cell_type": "markdown",
      "source": [
        "\n",
        "\n",
        "## **🖨️ Input/Output Annotation Types**"
      ],
      "metadata": {
        "id": "1XbF4N-JGQdM"
      }
    },
    {
      "cell_type": "markdown",
      "source": [
        "- Input: `SENTECE`, `TOKEN`, `CHUNK`\n",
        "\n",
        "- Output: `ASSERTION`"
      ],
      "metadata": {
        "id": "Qsk1TC4DGXkK"
      }
    },
    {
      "cell_type": "markdown",
      "source": [
        "## **🔎 Parameters**"
      ],
      "metadata": {
        "id": "HWaUgBgMG85p"
      }
    },
    {
      "cell_type": "markdown",
      "source": [
        "**Parameters**:\n",
        "\n",
        "- `setCaseSensitive`: Whether to perform case-sensitive matching. Default is False.  \n",
        "- `setAllowPunctuationInBetween`: Whether to allow punctuation between prefix/suffix patterns and the entity. Default is True.\n",
        "- `setDropEmptyChunks`: If True, removes chunks with empty content after applying rules. Default is False.\n",
        "- `setCaseSensitive`: If True, it is case sensitive while checking the context. Default is False.\n",
        "- `setMergeOverlapping`: If False, it returns both modified entities and the original entities at the same time. Default is True.\n",
        "\n",
        "  For example, if a chunk like \"September\" is matched by a prefix pattern \"September\", and the mode is set to 'exclude', the chunk will be excluded. After exclusion, the decision is made whether to drop the chunk if its content is empty, or keep it unchanged.\n",
        "\n",
        "**Rule Settings:**\n",
        "\n",
        "- `entity`: The target entity label to modify.  \n",
        "  Example: `\"AGE\"`.\n",
        "- `prefixPatterns`: Array of patterns (words/phrases) to match **before the entity**.  \n",
        "  Example: `[\"years\", \"old\"]` matches entities preceded by \"years\" or \"old.\"\n",
        "- `suffixPatterns`: Array of patterns (words/phrases) to match **after the entity**.  \n",
        "  Example: `[\"years\", \"old\"]` matches entities followed by \"years\" or \"old.\"\n",
        "- `scopeWindowLevel`: Specifies the level of the scope window to consider.  \n",
        "  Valid values: `\"token\"` or `\"char\"`. Default: `\"token\"`.\n",
        "- `scopeWindow`: A tuple defining the range of tokens or characters (based on `scopeWindowLevel`) to include in the scope.  \n",
        "  Default for \"token\" level: `(2, 2)`.\n",
        "  Default for \"char\" level: `(10,10)`\n",
        "  Example: `(2, 3)` means 2 tokens/characters before and 3 after the entity are considered.  \n",
        "- `prefixRegexes`: Array of regular expressions to match **before the entity**.  \n",
        "  Example: `[\"\\\\b(years|months)\\\\b\"]` matches words like \"years\" or \"months\" as prefixes.\n",
        "- `suffixRegexes`: Array of regular expressions to match **after the entity**.  \n",
        "  Example: `[\"\\\\b(old|young)\\\\b\"]` matches words like \"old\" or \"young\" as suffixes.\n",
        "- `replaceEntity`: Optional string specifying the new entity label to replace with the target entity label.  \n",
        "  Example: `\"MODIFIED_AGE\"` replaces `\"AGE\"` with `\"MODIFIED_AGE\"` in matching cases.\n",
        "- `mode`: Specifies the operational mode for the rules.  \n",
        "  Possible values depend on the use case (e.g., `\"include\"`, `\"exclude\"`).\n",
        "  Default: `\"include\"`\n"
      ],
      "metadata": {
        "id": "IEgbOUgpHFFd"
      }
    },
    {
      "cell_type": "markdown",
      "source": [
        "## Goal\n",
        "\n",
        "Let's assume that we want to create a tabular data with the clinical text below. This tabular data should contain the patient's demographic information and clinical history."
      ],
      "metadata": {
        "id": "-coRB1iroiv9"
      }
    },
    {
      "cell_type": "code",
      "source": [
        "text = \"\"\"The patient is a 41 years old Vietnamese female with a nonproductive cough that started last week.\n",
        "She has a history of the diabetes mellitus with complications in May, 2006 and went to an urgent care center.\n",
        "Chest x-ray revealed right-sided pleural effusion.\"\"\""
      ],
      "metadata": {
        "id": "PnEuxxDyo1AZ"
      },
      "execution_count": null,
      "outputs": []
    },
    {
      "cell_type": "markdown",
      "source": [
        "## Base Pipeline"
      ],
      "metadata": {
        "id": "hZeqQv5gOv5o"
      }
    },
    {
      "cell_type": "code",
      "source": [
        "documentAssembler = DocumentAssembler() \\\n",
        "    .setInputCol(\"text\") \\\n",
        "    .setOutputCol(\"document\")\n",
        "\n",
        "sentenceDetector = SentenceDetector() \\\n",
        "    .setInputCols([\"document\"]) \\\n",
        "    .setOutputCol(\"sentence\")\n",
        "\n",
        "tokenizer = Tokenizer() \\\n",
        "    .setInputCols([\"sentence\"]) \\\n",
        "    .setOutputCol(\"token\")\n",
        "\n",
        "word_embeddings = WordEmbeddingsModel.pretrained(\"embeddings_clinical\", \"en\", \"clinical/models\") \\\n",
        "    .setInputCols([\"sentence\", \"token\"]) \\\n",
        "    .setOutputCol(\"embeddings\")\n",
        "\n",
        "jsl_ner = MedicalNerModel.pretrained(\"ner_jsl\", \"en\", \"clinical/models\") \\\n",
        "    .setInputCols([\"sentence\", \"token\", \"embeddings\"]) \\\n",
        "    .setOutputCol(\"jsl_ner\") \\\n",
        "\n",
        "jsl_ner_converter = NerConverterInternal() \\\n",
        "    .setInputCols([\"sentence\", \"token\", \"jsl_ner\"]) \\\n",
        "    .setOutputCol(\"ner_chunks\")"
      ],
      "metadata": {
        "colab": {
          "base_uri": "https://localhost:8080/"
        },
        "id": "p_F8kbGPOvJA",
        "outputId": "2255933a-7882-46e3-c2a7-36964a31d39e"
      },
      "execution_count": null,
      "outputs": [
        {
          "output_type": "stream",
          "name": "stdout",
          "text": [
            "embeddings_clinical download started this may take some time.\n",
            "Approximate size to download 1.6 GB\n",
            "[OK!]\n",
            "ner_jsl download started this may take some time.\n",
            "[OK!]\n"
          ]
        }
      ]
    },
    {
      "cell_type": "markdown",
      "source": [
        "## Without ContextualEntityRuler"
      ],
      "metadata": {
        "id": "0G-4wtokSWNN"
      }
    },
    {
      "cell_type": "code",
      "source": [
        "pipeline = Pipeline(\n",
        "    stages=[\n",
        "        documentAssembler,\n",
        "        sentenceDetector,\n",
        "        tokenizer,\n",
        "        word_embeddings,\n",
        "        jsl_ner,\n",
        "        jsl_ner_converter,\n",
        "        ])\n",
        "\n",
        "empty_data = spark.createDataFrame([[\"\"]]).toDF(\"text\")\n",
        "\n",
        "model = pipeline.fit(empty_data)"
      ],
      "metadata": {
        "id": "KsLfD9-skr47"
      },
      "execution_count": null,
      "outputs": []
    },
    {
      "cell_type": "markdown",
      "source": [
        "Let's test NER pipeline on a sample text."
      ],
      "metadata": {
        "id": "rOBzFWfYicgg"
      }
    },
    {
      "cell_type": "code",
      "source": [
        "\n",
        "print(text)\n",
        "data = spark.createDataFrame([[text]]).toDF(\"text\")\n",
        "\n",
        "result = model.transform(data)\n",
        "result.show()"
      ],
      "metadata": {
        "id": "MsqIN8bOUbC2",
        "colab": {
          "base_uri": "https://localhost:8080/"
        },
        "outputId": "02c48ad2-1639-4bd2-a599-b3100ca0277c"
      },
      "execution_count": null,
      "outputs": [
        {
          "output_type": "stream",
          "name": "stdout",
          "text": [
            "The patient is a 41 years old Vietnamese female with a nonproductive cough that started last week. \n",
            "She has a history of the diabetes mellitus with complications in May, 2006 and went to an urgent care center.\n",
            "Chest x-ray revealed right-sided pleural effusion.\n",
            "+--------------------+--------------------+--------------------+--------------------+--------------------+--------------------+--------------------+\n",
            "|                text|            document|            sentence|               token|          embeddings|             jsl_ner|          ner_chunks|\n",
            "+--------------------+--------------------+--------------------+--------------------+--------------------+--------------------+--------------------+\n",
            "|The patient is a ...|[{document, 0, 25...|[{document, 0, 97...|[{token, 0, 2, Th...|[{word_embeddings...|[{named_entity, 0...|[{chunk, 17, 28, ...|\n",
            "+--------------------+--------------------+--------------------+--------------------+--------------------+--------------------+--------------------+\n",
            "\n"
          ]
        }
      ]
    },
    {
      "cell_type": "code",
      "source": [
        "result.select(F.explode(F.arrays_zip(result.ner_chunks.result,\n",
        "                                     result.ner_chunks.metadata)).alias(\"cols\"))\\\n",
        "      .select(F.expr(\"cols['0']\").alias(\"ner_chunk\"),\n",
        "              F.expr(\"cols['1']['entity']\").alias(\"label\")).show(truncate=False)"
      ],
      "metadata": {
        "colab": {
          "base_uri": "https://localhost:8080/"
        },
        "id": "cGEKnQbQiqaR",
        "outputId": "5c3280f2-4b76-4199-ff14-36b5da941007"
      },
      "execution_count": null,
      "outputs": [
        {
          "output_type": "stream",
          "name": "stdout",
          "text": [
            "+------------------+-------------------------+\n",
            "|ner_chunk         |label                    |\n",
            "+------------------+-------------------------+\n",
            "|41 years old      |Age                      |\n",
            "|Vietnamese        |Race_Ethnicity           |\n",
            "|female            |Gender                   |\n",
            "|nonproductive     |Modifier                 |\n",
            "|cough             |Symptom                  |\n",
            "|last week         |RelativeDate             |\n",
            "|She               |Gender                   |\n",
            "|diabetes mellitus |Diabetes                 |\n",
            "|May               |Date                     |\n",
            "|2006              |Date                     |\n",
            "|urgent care center|Clinical_Dept            |\n",
            "|Chest x-ray       |Test                     |\n",
            "|right-sided       |Direction                |\n",
            "|pleural effusion  |Disease_Syndrome_Disorder|\n",
            "+------------------+-------------------------+\n",
            "\n"
          ]
        }
      ]
    },
    {
      "cell_type": "markdown",
      "source": [
        "## With `ContextualEntityRuler`\n",
        "\n",
        "If we want to have:\n",
        "\n",
        "- \"Age\" as only digit\n",
        "- \"Diabetes\" with complication\n",
        "- Concat \"May\" and \"2006\" to have a single date\n",
        "\n",
        "we can use `ContextualEntityRuler` annotator."
      ],
      "metadata": {
        "id": "740g738IvkfA"
      }
    },
    {
      "cell_type": "code",
      "source": [
        "rules = [   {\n",
        "                \"entity\" : \"Age\",\n",
        "                \"scopeWindow\" : [15,15],\n",
        "                \"scopeWindowLevel\"  : \"char\",\n",
        "                \"suffixPatterns\" : [\"years old\", \"year old\", \"months\",],\n",
        "                \"replaceEntity\" : \"Modified_Age\",\n",
        "                \"mode\" : \"exclude\"\n",
        "            },\n",
        "            {\n",
        "                \"entity\" : \"Diabetes\",\n",
        "                \"scopeWindow\" : [3,3],\n",
        "                \"scopeWindowLevel\"  : \"token\",\n",
        "                \"suffixPatterns\" : [\"with complications\"],\n",
        "                \"replaceEntity\" : \"Modified_Diabetes\",\n",
        "                \"mode\" : \"include\"\n",
        "\n",
        "            },\n",
        "            {\n",
        "                \"entity\" : \"Date\",\n",
        "                \"suffixRegexes\" : [\"\\\\d{4}\"],\n",
        "                \"replaceEntity\" : \"Modified_Date\",\n",
        "                \"mode\" : \"include\"\n",
        "            }\n",
        "        ]"
      ],
      "metadata": {
        "id": "8w9q__3UxYf2"
      },
      "execution_count": null,
      "outputs": []
    },
    {
      "cell_type": "code",
      "source": [
        "contextual_entity_ruler = ContextualEntityRuler() \\\n",
        "            .setInputCols(\"sentence\", \"token\", \"ner_chunks\") \\\n",
        "            .setOutputCol(\"ruled_ner_chunks\") \\\n",
        "            .setRules(rules) \\\n",
        "            .setCaseSensitive(False)\\\n",
        "            .setDropEmptyChunks(True)\\\n",
        "            .setAllowPunctuationInBetween(True)\n",
        "\n",
        "\n",
        "ruler_pipeline = Pipeline(\n",
        "    stages=[\n",
        "        documentAssembler,\n",
        "        sentenceDetector,\n",
        "        tokenizer,\n",
        "        word_embeddings,\n",
        "        jsl_ner,\n",
        "        jsl_ner_converter,\n",
        "        contextual_entity_ruler\n",
        "        ])\n",
        "\n",
        "empty_data = spark.createDataFrame([[\"\"]]).toDF(\"text\")\n",
        "ruler_model = ruler_pipeline.fit(empty_data)\n",
        "\n",
        "ruler_result = ruler_model.transform(data)\n",
        "ruler_result.show()"
      ],
      "metadata": {
        "colab": {
          "base_uri": "https://localhost:8080/"
        },
        "id": "OUI269-NSVsX",
        "outputId": "d3ab0bd5-eef1-497b-f4f4-46ebd9bd00b1"
      },
      "execution_count": null,
      "outputs": [
        {
          "output_type": "stream",
          "name": "stdout",
          "text": [
            "+--------------------+--------------------+--------------------+--------------------+--------------------+--------------------+--------------------+--------------------+\n",
            "|                text|            document|            sentence|               token|          embeddings|             jsl_ner|          ner_chunks|    ruled_ner_chunks|\n",
            "+--------------------+--------------------+--------------------+--------------------+--------------------+--------------------+--------------------+--------------------+\n",
            "|The patient is a ...|[{document, 0, 25...|[{document, 0, 97...|[{token, 0, 2, Th...|[{word_embeddings...|[{named_entity, 0...|[{chunk, 17, 28, ...|[{chunk, 17, 19, ...|\n",
            "+--------------------+--------------------+--------------------+--------------------+--------------------+--------------------+--------------------+--------------------+\n",
            "\n"
          ]
        }
      ]
    },
    {
      "cell_type": "code",
      "source": [
        "ruler_result.select(\"ner_chunks\").show(truncate=False)"
      ],
      "metadata": {
        "colab": {
          "base_uri": "https://localhost:8080/"
        },
        "id": "fKXGKryNH1Wv",
        "outputId": "d29a18a7-92e4-4693-ca1c-281eadc72405"
      },
      "execution_count": null,
      "outputs": [
        {
          "output_type": "stream",
          "name": "stdout",
          "text": [
            "+----------------------------------------------------------------------------------------------------------------------------------------------------------------------------------------------------------------------------------------------------------------------------------------------------------------------------------------------------------------------------------------------------------------------------------------------------------------------------------------------------------------------------------------------------------------------------------------------------------------------------------------------------------------------------------------------------------------------------------------------------------------------------------------------------------------------------------------------------------------------------------------------------------------------------------------------------------------------------------------------------------------------------------------------------------------------------------------------------------------------------------------------------------------------------------------------------------------------------------------------------------------------------------------------------------------------------------------------------------------------------------------------------------------------------------------------------------------------------------------------------------------------------------------------------------------------------------------------------------------------------------------------------------------------------------------------------------------------------------------------------------------------------------------------------------------------------------------------------------------------------------------------------------------------------+\n",
            "|ner_chunks                                                                                                                                                                                                                                                                                                                                                                                                                                                                                                                                                                                                                                                                                                                                                                                                                                                                                                                                                                                                                                                                                                                                                                                                                                                                                                                                                                                                                                                                                                                                                                                                                                                                                                                                                                                                                                                                                                                  |\n",
            "+----------------------------------------------------------------------------------------------------------------------------------------------------------------------------------------------------------------------------------------------------------------------------------------------------------------------------------------------------------------------------------------------------------------------------------------------------------------------------------------------------------------------------------------------------------------------------------------------------------------------------------------------------------------------------------------------------------------------------------------------------------------------------------------------------------------------------------------------------------------------------------------------------------------------------------------------------------------------------------------------------------------------------------------------------------------------------------------------------------------------------------------------------------------------------------------------------------------------------------------------------------------------------------------------------------------------------------------------------------------------------------------------------------------------------------------------------------------------------------------------------------------------------------------------------------------------------------------------------------------------------------------------------------------------------------------------------------------------------------------------------------------------------------------------------------------------------------------------------------------------------------------------------------------------------+\n",
            "|[{chunk, 17, 28, 41 years old, {entity -> Age, confidence -> 0.6771, ner_source -> ner_chunks, chunk -> 0, sentence -> 0}, []}, {chunk, 30, 39, Vietnamese, {entity -> Race_Ethnicity, confidence -> 0.9063, ner_source -> ner_chunks, chunk -> 1, sentence -> 0}, []}, {chunk, 41, 46, female, {entity -> Gender, confidence -> 0.9996, ner_source -> ner_chunks, chunk -> 2, sentence -> 0}, []}, {chunk, 55, 67, nonproductive, {entity -> Modifier, confidence -> 0.9605, ner_source -> ner_chunks, chunk -> 3, sentence -> 0}, []}, {chunk, 69, 73, cough, {entity -> Symptom, confidence -> 0.9614, ner_source -> ner_chunks, chunk -> 4, sentence -> 0}, []}, {chunk, 88, 96, last week, {entity -> RelativeDate, confidence -> 0.66375, ner_source -> ner_chunks, chunk -> 5, sentence -> 0}, []}, {chunk, 100, 102, She, {entity -> Gender, confidence -> 1.0, ner_source -> ner_chunks, chunk -> 6, sentence -> 1}, []}, {chunk, 125, 141, diabetes mellitus, {entity -> Diabetes, confidence -> 0.97565, ner_source -> ner_chunks, chunk -> 7, sentence -> 1}, []}, {chunk, 165, 167, May, {entity -> Date, confidence -> 0.9881, ner_source -> ner_chunks, chunk -> 8, sentence -> 1}, []}, {chunk, 170, 173, 2006, {entity -> Date, confidence -> 0.9981, ner_source -> ner_chunks, chunk -> 9, sentence -> 1}, []}, {chunk, 190, 207, urgent care center, {entity -> Clinical_Dept, confidence -> 0.8431, ner_source -> ner_chunks, chunk -> 10, sentence -> 1}, []}, {chunk, 210, 220, Chest x-ray, {entity -> Test, confidence -> 0.90534997, ner_source -> ner_chunks, chunk -> 11, sentence -> 2}, []}, {chunk, 231, 241, right-sided, {entity -> Direction, confidence -> 0.8515, ner_source -> ner_chunks, chunk -> 12, sentence -> 2}, []}, {chunk, 243, 258, pleural effusion, {entity -> Disease_Syndrome_Disorder, confidence -> 0.6621, ner_source -> ner_chunks, chunk -> 13, sentence -> 2}, []}]|\n",
            "+----------------------------------------------------------------------------------------------------------------------------------------------------------------------------------------------------------------------------------------------------------------------------------------------------------------------------------------------------------------------------------------------------------------------------------------------------------------------------------------------------------------------------------------------------------------------------------------------------------------------------------------------------------------------------------------------------------------------------------------------------------------------------------------------------------------------------------------------------------------------------------------------------------------------------------------------------------------------------------------------------------------------------------------------------------------------------------------------------------------------------------------------------------------------------------------------------------------------------------------------------------------------------------------------------------------------------------------------------------------------------------------------------------------------------------------------------------------------------------------------------------------------------------------------------------------------------------------------------------------------------------------------------------------------------------------------------------------------------------------------------------------------------------------------------------------------------------------------------------------------------------------------------------------------------+\n",
            "\n"
          ]
        }
      ]
    },
    {
      "cell_type": "code",
      "source": [
        "ruler_result.select(\"ruled_ner_chunks\").show(truncate=False)"
      ],
      "metadata": {
        "colab": {
          "base_uri": "https://localhost:8080/"
        },
        "id": "UUEQtreTHvVz",
        "outputId": "4270dee4-86a3-4881-d0d9-79a42bf76400"
      },
      "execution_count": null,
      "outputs": [
        {
          "output_type": "stream",
          "name": "stdout",
          "text": [
            "+--------------------------------------------------------------------------------------------------------------------------------------------------------------------------------------------------------------------------------------------------------------------------------------------------------------------------------------------------------------------------------------------------------------------------------------------------------------------------------------------------------------------------------------------------------------------------------------------------------------------------------------------------------------------------------------------------------------------------------------------------------------------------------------------------------------------------------------------------------------------------------------------------------------------------------------------------------------------------------------------------------------------------------------------------------------------------------------------------------------------------------------------------------------------------------------------------------------------------------------------------------------------------------------------------------------------------------------------------------------------------------------------------------------------------------------------------------------------------------------------------------------------------------------------------------------------------------------------------------------------------------------------------------------------------------------------------------------------------------------------------------------------------------------------------------------------------------------------+\n",
            "|ruled_ner_chunks                                                                                                                                                                                                                                                                                                                                                                                                                                                                                                                                                                                                                                                                                                                                                                                                                                                                                                                                                                                                                                                                                                                                                                                                                                                                                                                                                                                                                                                                                                                                                                                                                                                                                                                                                                                                                            |\n",
            "+--------------------------------------------------------------------------------------------------------------------------------------------------------------------------------------------------------------------------------------------------------------------------------------------------------------------------------------------------------------------------------------------------------------------------------------------------------------------------------------------------------------------------------------------------------------------------------------------------------------------------------------------------------------------------------------------------------------------------------------------------------------------------------------------------------------------------------------------------------------------------------------------------------------------------------------------------------------------------------------------------------------------------------------------------------------------------------------------------------------------------------------------------------------------------------------------------------------------------------------------------------------------------------------------------------------------------------------------------------------------------------------------------------------------------------------------------------------------------------------------------------------------------------------------------------------------------------------------------------------------------------------------------------------------------------------------------------------------------------------------------------------------------------------------------------------------------------------------+\n",
            "|[{chunk, 17, 19, 41, {chunk -> 0, confidence -> 0.6771, ner_source -> ner_chunks, entity -> Modified_Age, sentence -> 0}, []}, {chunk, 30, 39, Vietnamese, {chunk -> 1, confidence -> 0.9063, ner_source -> ner_chunks, entity -> Race_Ethnicity, sentence -> 0}, []}, {chunk, 41, 46, female, {chunk -> 2, confidence -> 0.9996, ner_source -> ner_chunks, entity -> Gender, sentence -> 0}, []}, {chunk, 55, 67, nonproductive, {chunk -> 3, confidence -> 0.9605, ner_source -> ner_chunks, entity -> Modifier, sentence -> 0}, []}, {chunk, 69, 73, cough, {chunk -> 4, confidence -> 0.9614, ner_source -> ner_chunks, entity -> Symptom, sentence -> 0}, []}, {chunk, 88, 96, last week, {chunk -> 5, confidence -> 0.66375, ner_source -> ner_chunks, entity -> RelativeDate, sentence -> 0}, []}, {chunk, 100, 102, She, {chunk -> 6, confidence -> 1.0, ner_source -> ner_chunks, entity -> Gender, sentence -> 1}, []}, {chunk, 125, 160, diabetes mellitus with complications, {chunk -> 7, confidence -> 0.97565, ner_source -> ner_chunks, entity -> Modified_Diabetes, sentence -> 1}, []}, {chunk, 165, 173, May, 2006, {chunk -> 8, confidence -> 0.9881, ner_source -> ner_chunks, entity -> Modified_Date, sentence -> 1}, []}, {chunk, 190, 207, urgent care center, {chunk -> 10, confidence -> 0.8431, ner_source -> ner_chunks, entity -> Clinical_Dept, sentence -> 1}, []}, {chunk, 210, 220, Chest x-ray, {chunk -> 11, confidence -> 0.90534997, ner_source -> ner_chunks, entity -> Test, sentence -> 2}, []}, {chunk, 231, 241, right-sided, {chunk -> 12, confidence -> 0.8515, ner_source -> ner_chunks, entity -> Direction, sentence -> 2}, []}, {chunk, 243, 258, pleural effusion, {chunk -> 13, confidence -> 0.6621, ner_source -> ner_chunks, entity -> Disease_Syndrome_Disorder, sentence -> 2}, []}]|\n",
            "+--------------------------------------------------------------------------------------------------------------------------------------------------------------------------------------------------------------------------------------------------------------------------------------------------------------------------------------------------------------------------------------------------------------------------------------------------------------------------------------------------------------------------------------------------------------------------------------------------------------------------------------------------------------------------------------------------------------------------------------------------------------------------------------------------------------------------------------------------------------------------------------------------------------------------------------------------------------------------------------------------------------------------------------------------------------------------------------------------------------------------------------------------------------------------------------------------------------------------------------------------------------------------------------------------------------------------------------------------------------------------------------------------------------------------------------------------------------------------------------------------------------------------------------------------------------------------------------------------------------------------------------------------------------------------------------------------------------------------------------------------------------------------------------------------------------------------------------------+\n",
            "\n"
          ]
        }
      ]
    },
    {
      "cell_type": "code",
      "source": [
        "print(\"BEFORE CONTEXTUAL ENTITY RULER:\")\n",
        "ruler_result.select(F.explode(F.arrays_zip(ruler_result.ner_chunks.result,\n",
        "                                           ruler_result.ner_chunks.metadata\n",
        "                                           )).alias(\"cols\"))\\\n",
        "            .select(F.expr(\"cols['0']\").alias(\"ner_chunks\"),\n",
        "                    F.expr(\"cols['1']['entity']\").alias(\"labels\")\n",
        "                    ).show(truncate=False)\n",
        "\n",
        "print(\"*\"*50, \"\\n\")\n",
        "\n",
        "print(\"AFTER CONTEXTUAL ENTITY RULER:\")\n",
        "ruler_result.select(F.explode(F.arrays_zip(ruler_result.ruled_ner_chunks.result,\n",
        "                                           ruler_result.ruled_ner_chunks.metadata\n",
        "                                           )).alias(\"cols\"))\\\n",
        "            .select(F.expr(\"cols['0']\").alias(\"ner_chunks\"),\n",
        "                    F.expr(\"cols['1']['entity']\").alias(\"labels\")\n",
        "                    ).show(truncate=False)"
      ],
      "metadata": {
        "colab": {
          "base_uri": "https://localhost:8080/"
        },
        "id": "zH9HBb6403I3",
        "outputId": "b5d6335c-311b-4d19-fb22-dd6722b3f8b1"
      },
      "execution_count": null,
      "outputs": [
        {
          "output_type": "stream",
          "name": "stdout",
          "text": [
            "BEFORE CONTEXTUAL ENTITY RULER:\n",
            "+------------------+-------------------------+\n",
            "|ner_chunks        |labels                   |\n",
            "+------------------+-------------------------+\n",
            "|41 years old      |Age                      |\n",
            "|Vietnamese        |Race_Ethnicity           |\n",
            "|female            |Gender                   |\n",
            "|nonproductive     |Modifier                 |\n",
            "|cough             |Symptom                  |\n",
            "|last week         |RelativeDate             |\n",
            "|She               |Gender                   |\n",
            "|diabetes mellitus |Diabetes                 |\n",
            "|May               |Date                     |\n",
            "|2006              |Date                     |\n",
            "|urgent care center|Clinical_Dept            |\n",
            "|Chest x-ray       |Test                     |\n",
            "|right-sided       |Direction                |\n",
            "|pleural effusion  |Disease_Syndrome_Disorder|\n",
            "+------------------+-------------------------+\n",
            "\n",
            "************************************************** \n",
            "\n",
            "AFTER CONTEXTUAL ENTITY RULER:\n",
            "+------------------------------------+-------------------------+\n",
            "|ner_chunks                          |labels                   |\n",
            "+------------------------------------+-------------------------+\n",
            "|41                                  |Modified_Age             |\n",
            "|Vietnamese                          |Race_Ethnicity           |\n",
            "|female                              |Gender                   |\n",
            "|nonproductive                       |Modifier                 |\n",
            "|cough                               |Symptom                  |\n",
            "|last week                           |RelativeDate             |\n",
            "|She                                 |Gender                   |\n",
            "|diabetes mellitus with complications|Modified_Diabetes        |\n",
            "|May, 2006                           |Modified_Date            |\n",
            "|urgent care center                  |Clinical_Dept            |\n",
            "|Chest x-ray                         |Test                     |\n",
            "|right-sided                         |Direction                |\n",
            "|pleural effusion                    |Disease_Syndrome_Disorder|\n",
            "+------------------------------------+-------------------------+\n",
            "\n"
          ]
        }
      ]
    },
    {
      "cell_type": "markdown",
      "source": [
        "As you can see from the results;\n",
        "- \"years old\" was removed from the `Age` entity.\n",
        "- \"diabetes mellitus\" and \"with complications\" were merged.\n",
        "- \"May, 2006\" date was merged. Even though there was \",\" between them, since we set `setAllowPunctuationInBetween(True)`, the punctuation was discarded."
      ],
      "metadata": {
        "id": "BxeBSG_q2qH-"
      }
    },
    {
      "cell_type": "markdown",
      "source": [
        "## LightPipeline"
      ],
      "metadata": {
        "id": "ChHLwuBz4QpC"
      }
    },
    {
      "cell_type": "markdown",
      "source": [
        "Now we will create LightPipeline and visualize its results."
      ],
      "metadata": {
        "id": "Xpq1mFNI0uyQ"
      }
    },
    {
      "cell_type": "code",
      "source": [
        "lmodel = LightPipeline(ruler_model)\n",
        "\n",
        "light_result = lmodel.fullAnnotate(text)"
      ],
      "metadata": {
        "id": "4ojUHBcS4UUt"
      },
      "execution_count": null,
      "outputs": []
    },
    {
      "cell_type": "code",
      "source": [
        "\"Before Contextual Entity Ruler\".upper()"
      ],
      "metadata": {
        "colab": {
          "base_uri": "https://localhost:8080/",
          "height": 35
        },
        "id": "uoPe8Xmr40uJ",
        "outputId": "f5a7ef25-edb2-4fd4-975b-730b00362df2"
      },
      "execution_count": null,
      "outputs": [
        {
          "output_type": "execute_result",
          "data": {
            "text/plain": [
              "'BEFORE CONTEXTUAL ENTITY RULER'"
            ],
            "application/vnd.google.colaboratory.intrinsic+json": {
              "type": "string"
            }
          },
          "metadata": {},
          "execution_count": 72
        }
      ]
    },
    {
      "cell_type": "code",
      "source": [
        "from sparknlp_display import NerVisualizer\n",
        "\n",
        "visualiser = NerVisualizer()\n",
        "\n",
        "print(\"### BEFORE CONTEXTUAL ENTITY RULER: ###\\n\")\n",
        "visualiser.display(light_result[0], label_col='ner_chunks', document_col='document')\n",
        "\n",
        "print(\"*\"*100,\"\\n\")\n",
        "\n",
        "print(\"### AFTER CONTEXTUAL ENTITY RULER: ###\\n\")\n",
        "visualiser.display(light_result[0], label_col='ruled_ner_chunks', document_col='document')"
      ],
      "metadata": {
        "colab": {
          "base_uri": "https://localhost:8080/",
          "height": 550
        },
        "id": "6ZbxGwVfMKm9",
        "outputId": "74544018-1994-4627-d7f1-66f44e7758ff"
      },
      "execution_count": null,
      "outputs": [
        {
          "output_type": "stream",
          "name": "stdout",
          "text": [
            "### BEFORE CONTEXTUAL ENTITY RULER: ###\n",
            "\n"
          ]
        },
        {
          "output_type": "display_data",
          "data": {
            "text/plain": [
              "<IPython.core.display.HTML object>"
            ],
            "text/html": [
              "\n",
              "<style>\n",
              "    @import url('https://fonts.googleapis.com/css2?family=Montserrat:wght@300;400;500;600;700&display=swap');\n",
              "    @import url('https://fonts.googleapis.com/css2?family=Vistol Regular:wght@300;400;500;600;700&display=swap');\n",
              "    \n",
              "    .spark-nlp-display-scroll-entities {\n",
              "        border: 1px solid #E7EDF0;\n",
              "        border-radius: 3px;\n",
              "        text-align: justify;\n",
              "        \n",
              "    }\n",
              "    .spark-nlp-display-scroll-entities span {  \n",
              "        font-size: 14px;\n",
              "        line-height: 24px;\n",
              "        color: #536B76;\n",
              "        font-family: 'Montserrat', sans-serif !important;\n",
              "    }\n",
              "    \n",
              "    .spark-nlp-display-entity-wrapper{\n",
              "    \n",
              "        display: inline-grid;\n",
              "        text-align: center;\n",
              "        border-radius: 4px;\n",
              "        margin: 0 2px 5px 2px;\n",
              "        padding: 1px\n",
              "    }\n",
              "    .spark-nlp-display-entity-name{\n",
              "        font-size: 14px;\n",
              "        line-height: 24px;\n",
              "        font-family: 'Montserrat', sans-serif !important;\n",
              "        \n",
              "        background: #f1f2f3;\n",
              "        border-width: medium;\n",
              "        text-align: center;\n",
              "        \n",
              "        font-weight: 400;\n",
              "        \n",
              "        border-radius: 5px;\n",
              "        padding: 2px 5px;\n",
              "        display: block;\n",
              "        margin: 3px 2px;\n",
              "    \n",
              "    }\n",
              "    .spark-nlp-display-entity-type{\n",
              "        font-size: 14px;\n",
              "        line-height: 24px;\n",
              "        color: #ffffff;\n",
              "        font-family: 'Montserrat', sans-serif !important;\n",
              "        \n",
              "        text-transform: uppercase;\n",
              "        \n",
              "        font-weight: 500;\n",
              "\n",
              "        display: block;\n",
              "        padding: 3px 5px;\n",
              "    }\n",
              "    \n",
              "    .spark-nlp-display-entity-resolution{\n",
              "        font-size: 14px;\n",
              "        line-height: 24px;\n",
              "        color: #ffffff;\n",
              "        font-family: 'Vistol Regular', sans-serif !important;\n",
              "        \n",
              "        text-transform: uppercase;\n",
              "        \n",
              "        font-weight: 500;\n",
              "\n",
              "        display: block;\n",
              "        padding: 3px 5px;\n",
              "    }\n",
              "    \n",
              "    .spark-nlp-display-others{\n",
              "        font-size: 14px;\n",
              "        line-height: 24px;\n",
              "        font-family: 'Montserrat', sans-serif !important;\n",
              "        \n",
              "        font-weight: 400;\n",
              "    }\n",
              "\n",
              "</style>\n",
              " <span class=\"spark-nlp-display-others\" style=\"background-color: white\">The patient is a </span><span class=\"spark-nlp-display-entity-wrapper\" style=\"background-color: #ffe0ac\"><span class=\"spark-nlp-display-entity-name\">41 years old </span><span class=\"spark-nlp-display-entity-type\">Age</span></span><span class=\"spark-nlp-display-others\" style=\"background-color: white\"> </span><span class=\"spark-nlp-display-entity-wrapper\" style=\"background-color: #5F5EBA\"><span class=\"spark-nlp-display-entity-name\">Vietnamese </span><span class=\"spark-nlp-display-entity-type\">Race_Ethnicity</span></span><span class=\"spark-nlp-display-others\" style=\"background-color: white\"> </span><span class=\"spark-nlp-display-entity-wrapper\" style=\"background-color: #ffacb7\"><span class=\"spark-nlp-display-entity-name\">female </span><span class=\"spark-nlp-display-entity-type\">Gender</span></span><span class=\"spark-nlp-display-others\" style=\"background-color: white\"> with a </span><span class=\"spark-nlp-display-entity-wrapper\" style=\"background-color: #8B475D\"><span class=\"spark-nlp-display-entity-name\">nonproductive </span><span class=\"spark-nlp-display-entity-type\">Modifier</span></span><span class=\"spark-nlp-display-others\" style=\"background-color: white\"> </span><span class=\"spark-nlp-display-entity-wrapper\" style=\"background-color: #C006C0\"><span class=\"spark-nlp-display-entity-name\">cough </span><span class=\"spark-nlp-display-entity-type\">Symptom</span></span><span class=\"spark-nlp-display-others\" style=\"background-color: white\"> that started </span><span class=\"spark-nlp-display-entity-wrapper\" style=\"background-color: #B45C55\"><span class=\"spark-nlp-display-entity-name\">last week </span><span class=\"spark-nlp-display-entity-type\">RelativeDate</span></span><span class=\"spark-nlp-display-others\" style=\"background-color: white\">. <br></span><span class=\"spark-nlp-display-entity-wrapper\" style=\"background-color: #ffacb7\"><span class=\"spark-nlp-display-entity-name\">She </span><span class=\"spark-nlp-display-entity-type\">Gender</span></span><span class=\"spark-nlp-display-others\" style=\"background-color: white\"> has a history of the </span><span class=\"spark-nlp-display-entity-wrapper\" style=\"background-color: #304179\"><span class=\"spark-nlp-display-entity-name\">diabetes mellitus </span><span class=\"spark-nlp-display-entity-type\">Diabetes</span></span><span class=\"spark-nlp-display-others\" style=\"background-color: white\"> with complications in </span><span class=\"spark-nlp-display-entity-wrapper\" style=\"background-color: #a6b1e1\"><span class=\"spark-nlp-display-entity-name\">May </span><span class=\"spark-nlp-display-entity-type\">Date</span></span><span class=\"spark-nlp-display-others\" style=\"background-color: white\">, </span><span class=\"spark-nlp-display-entity-wrapper\" style=\"background-color: #a6b1e1\"><span class=\"spark-nlp-display-entity-name\">2006 </span><span class=\"spark-nlp-display-entity-type\">Date</span></span><span class=\"spark-nlp-display-others\" style=\"background-color: white\"> and went to an </span><span class=\"spark-nlp-display-entity-wrapper\" style=\"background-color: #2DAE24\"><span class=\"spark-nlp-display-entity-name\">urgent care center </span><span class=\"spark-nlp-display-entity-type\">Clinical_Dept</span></span><span class=\"spark-nlp-display-others\" style=\"background-color: white\">.<br></span><span class=\"spark-nlp-display-entity-wrapper\" style=\"background-color: #77b5fe\"><span class=\"spark-nlp-display-entity-name\">Chest x-ray </span><span class=\"spark-nlp-display-entity-type\">Test</span></span><span class=\"spark-nlp-display-others\" style=\"background-color: white\"> revealed </span><span class=\"spark-nlp-display-entity-wrapper\" style=\"background-color: #6FC35B\"><span class=\"spark-nlp-display-entity-name\">right-sided </span><span class=\"spark-nlp-display-entity-type\">Direction</span></span><span class=\"spark-nlp-display-others\" style=\"background-color: white\"> </span><span class=\"spark-nlp-display-entity-wrapper\" style=\"background-color: #562C64\"><span class=\"spark-nlp-display-entity-name\">pleural effusion </span><span class=\"spark-nlp-display-entity-type\">Disease_Syndrome_Disorder</span></span><span class=\"spark-nlp-display-others\" style=\"background-color: white\">.</span></div>"
            ]
          },
          "metadata": {}
        },
        {
          "output_type": "stream",
          "name": "stdout",
          "text": [
            "**************************************************************************************************** \n",
            "\n",
            "### AFTER CONTEXTUAL ENTITY RULER: ###\n",
            "\n"
          ]
        },
        {
          "output_type": "display_data",
          "data": {
            "text/plain": [
              "<IPython.core.display.HTML object>"
            ],
            "text/html": [
              "\n",
              "<style>\n",
              "    @import url('https://fonts.googleapis.com/css2?family=Montserrat:wght@300;400;500;600;700&display=swap');\n",
              "    @import url('https://fonts.googleapis.com/css2?family=Vistol Regular:wght@300;400;500;600;700&display=swap');\n",
              "    \n",
              "    .spark-nlp-display-scroll-entities {\n",
              "        border: 1px solid #E7EDF0;\n",
              "        border-radius: 3px;\n",
              "        text-align: justify;\n",
              "        \n",
              "    }\n",
              "    .spark-nlp-display-scroll-entities span {  \n",
              "        font-size: 14px;\n",
              "        line-height: 24px;\n",
              "        color: #536B76;\n",
              "        font-family: 'Montserrat', sans-serif !important;\n",
              "    }\n",
              "    \n",
              "    .spark-nlp-display-entity-wrapper{\n",
              "    \n",
              "        display: inline-grid;\n",
              "        text-align: center;\n",
              "        border-radius: 4px;\n",
              "        margin: 0 2px 5px 2px;\n",
              "        padding: 1px\n",
              "    }\n",
              "    .spark-nlp-display-entity-name{\n",
              "        font-size: 14px;\n",
              "        line-height: 24px;\n",
              "        font-family: 'Montserrat', sans-serif !important;\n",
              "        \n",
              "        background: #f1f2f3;\n",
              "        border-width: medium;\n",
              "        text-align: center;\n",
              "        \n",
              "        font-weight: 400;\n",
              "        \n",
              "        border-radius: 5px;\n",
              "        padding: 2px 5px;\n",
              "        display: block;\n",
              "        margin: 3px 2px;\n",
              "    \n",
              "    }\n",
              "    .spark-nlp-display-entity-type{\n",
              "        font-size: 14px;\n",
              "        line-height: 24px;\n",
              "        color: #ffffff;\n",
              "        font-family: 'Montserrat', sans-serif !important;\n",
              "        \n",
              "        text-transform: uppercase;\n",
              "        \n",
              "        font-weight: 500;\n",
              "\n",
              "        display: block;\n",
              "        padding: 3px 5px;\n",
              "    }\n",
              "    \n",
              "    .spark-nlp-display-entity-resolution{\n",
              "        font-size: 14px;\n",
              "        line-height: 24px;\n",
              "        color: #ffffff;\n",
              "        font-family: 'Vistol Regular', sans-serif !important;\n",
              "        \n",
              "        text-transform: uppercase;\n",
              "        \n",
              "        font-weight: 500;\n",
              "\n",
              "        display: block;\n",
              "        padding: 3px 5px;\n",
              "    }\n",
              "    \n",
              "    .spark-nlp-display-others{\n",
              "        font-size: 14px;\n",
              "        line-height: 24px;\n",
              "        font-family: 'Montserrat', sans-serif !important;\n",
              "        \n",
              "        font-weight: 400;\n",
              "    }\n",
              "\n",
              "</style>\n",
              " <span class=\"spark-nlp-display-others\" style=\"background-color: white\">The patient is a </span><span class=\"spark-nlp-display-entity-wrapper\" style=\"background-color: #66B814\"><span class=\"spark-nlp-display-entity-name\">41  </span><span class=\"spark-nlp-display-entity-type\">Modified_Age</span></span><span class=\"spark-nlp-display-others\" style=\"background-color: white\">years old </span><span class=\"spark-nlp-display-entity-wrapper\" style=\"background-color: #4546A1\"><span class=\"spark-nlp-display-entity-name\">Vietnamese </span><span class=\"spark-nlp-display-entity-type\">Race_Ethnicity</span></span><span class=\"spark-nlp-display-others\" style=\"background-color: white\"> </span><span class=\"spark-nlp-display-entity-wrapper\" style=\"background-color: #ffacb7\"><span class=\"spark-nlp-display-entity-name\">female </span><span class=\"spark-nlp-display-entity-type\">Gender</span></span><span class=\"spark-nlp-display-others\" style=\"background-color: white\"> with a </span><span class=\"spark-nlp-display-entity-wrapper\" style=\"background-color: #8B475D\"><span class=\"spark-nlp-display-entity-name\">nonproductive </span><span class=\"spark-nlp-display-entity-type\">Modifier</span></span><span class=\"spark-nlp-display-others\" style=\"background-color: white\"> </span><span class=\"spark-nlp-display-entity-wrapper\" style=\"background-color: #BE0245\"><span class=\"spark-nlp-display-entity-name\">cough </span><span class=\"spark-nlp-display-entity-type\">Symptom</span></span><span class=\"spark-nlp-display-others\" style=\"background-color: white\"> that started </span><span class=\"spark-nlp-display-entity-wrapper\" style=\"background-color: #7C1A82\"><span class=\"spark-nlp-display-entity-name\">last week </span><span class=\"spark-nlp-display-entity-type\">RelativeDate</span></span><span class=\"spark-nlp-display-others\" style=\"background-color: white\">. <br></span><span class=\"spark-nlp-display-entity-wrapper\" style=\"background-color: #ffacb7\"><span class=\"spark-nlp-display-entity-name\">She </span><span class=\"spark-nlp-display-entity-type\">Gender</span></span><span class=\"spark-nlp-display-others\" style=\"background-color: white\"> has a history of the </span><span class=\"spark-nlp-display-entity-wrapper\" style=\"background-color: #29A52A\"><span class=\"spark-nlp-display-entity-name\">diabetes mellitus with complications </span><span class=\"spark-nlp-display-entity-type\">Modified_Diabetes</span></span><span class=\"spark-nlp-display-others\" style=\"background-color: white\"> in </span><span class=\"spark-nlp-display-entity-wrapper\" style=\"background-color: #2B193C\"><span class=\"spark-nlp-display-entity-name\">May, 2006 </span><span class=\"spark-nlp-display-entity-type\">Modified_Date</span></span><span class=\"spark-nlp-display-others\" style=\"background-color: white\"> and went to an </span><span class=\"spark-nlp-display-entity-wrapper\" style=\"background-color: #9EBB62\"><span class=\"spark-nlp-display-entity-name\">urgent care center </span><span class=\"spark-nlp-display-entity-type\">Clinical_Dept</span></span><span class=\"spark-nlp-display-others\" style=\"background-color: white\">.<br></span><span class=\"spark-nlp-display-entity-wrapper\" style=\"background-color: #77b5fe\"><span class=\"spark-nlp-display-entity-name\">Chest x-ray </span><span class=\"spark-nlp-display-entity-type\">Test</span></span><span class=\"spark-nlp-display-others\" style=\"background-color: white\"> revealed </span><span class=\"spark-nlp-display-entity-wrapper\" style=\"background-color: #62B21C\"><span class=\"spark-nlp-display-entity-name\">right-sided </span><span class=\"spark-nlp-display-entity-type\">Direction</span></span><span class=\"spark-nlp-display-others\" style=\"background-color: white\"> </span><span class=\"spark-nlp-display-entity-wrapper\" style=\"background-color: #BC7951\"><span class=\"spark-nlp-display-entity-name\">pleural effusion </span><span class=\"spark-nlp-display-entity-type\">Disease_Syndrome_Disorder</span></span><span class=\"spark-nlp-display-others\" style=\"background-color: white\">.</span></div>"
            ]
          },
          "metadata": {}
        }
      ]
    }
  ]
}
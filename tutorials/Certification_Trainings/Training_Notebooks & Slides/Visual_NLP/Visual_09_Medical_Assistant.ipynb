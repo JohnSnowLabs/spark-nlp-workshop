{
 "cells": [
  {
   "cell_type": "markdown",
   "metadata": {
    "application/vnd.databricks.v1+cell": {
     "cellMetadata": {
      "byteLimit": 2048000,
      "rowLimit": 10000
     },
     "inputWidgets": {},
     "nuid": "54ebebda-a6de-4c54-b75c-967215aff36c",
     "showTitle": false,
     "tableResultSettingsMap": {},
     "title": ""
    }
   },
   "source": [
    "# Medical Assistant Demo\n",
    "\n",
    "This notebook is to show abilities of modern generation of JSL transformers that are based on multimodal LLM. These transformers keep compatibility with existing JSL codebase and bring powerful features of LLMs."
   ]
  },
  {
   "cell_type": "markdown",
   "metadata": {
    "application/vnd.databricks.v1+cell": {
     "cellMetadata": {
      "byteLimit": 2048000,
      "rowLimit": 10000
     },
     "inputWidgets": {},
     "nuid": "41b1a6ad-02a3-4a8d-94b1-ba5b88559e1a",
     "showTitle": false,
     "tableResultSettingsMap": {},
     "title": ""
    }
   },
   "source": [
    "## Load sample dataframe\n",
    "\n",
    "As input we use pdf documents with medical data. Question to data is saved to separate column 'prompt'. All documents will be questioned with the same question."
   ]
  },
  {
   "cell_type": "code",
   "execution_count": null,
   "metadata": {
    "application/vnd.databricks.v1+cell": {
     "cellMetadata": {
      "byteLimit": 2048000,
      "rowLimit": 10000
     },
     "inputWidgets": {},
     "nuid": "03748160-c170-48b6-8d01-0e270c01abdb",
     "showTitle": false,
     "tableResultSettingsMap": {},
     "title": ""
    }
   },
   "outputs": [
    {
     "name": "stdout",
     "output_type": "stream",
     "text": [
      "+--------------------+-------------------+------+--------------------+--------------------+\n",
      "|                path|   modificationTime|length|             content|              prompt|\n",
      "+--------------------+-------------------+------+--------------------+--------------------+\n",
      "|dbfs:/FileStore/m...|2025-09-14 17:18:37|347577|[25 50 44 46 2D 3...|Extract medical t...|\n",
      "|dbfs:/FileStore/m...|2025-09-14 17:18:38|220900|[25 50 44 46 2D 3...|Extract medical t...|\n",
      "|dbfs:/FileStore/m...|2025-09-14 17:18:39| 81937|[25 50 44 46 2D 3...|Extract medical t...|\n",
      "|dbfs:/FileStore/m...|2025-09-14 17:18:34| 57203|[25 50 44 46 2D 3...|Extract medical t...|\n",
      "+--------------------+-------------------+------+--------------------+--------------------+\n",
      "\n"
     ]
    }
   ],
   "source": [
    "from pyspark.ml import PipelineModel\n",
    "import pyspark.sql.functions as f\n",
    "from sparkocr.transformers import *\n",
    "from sparkocr.enums import *\n",
    "from sparkocr.utils import display_images\n",
    "\n",
    "pdf_path = \"dbfs:/FileStore/medassist_demo/*.pdf\"\n",
    "pdf_df = spark.read.format(\"binaryFile\").load(pdf_path)\n",
    "pdf_df = pdf_df.withColumn(\"prompt\", f.lit(\"Extract medical tests with its attributes. Return result as json. If there is not such tests return empty json.\"))\n",
    "pdf_df.show()"
   ]
  },
  {
   "cell_type": "markdown",
   "metadata": {
    "application/vnd.databricks.v1+cell": {
     "cellMetadata": {
      "byteLimit": 2048000,
      "rowLimit": 10000
     },
     "inputWidgets": {},
     "nuid": "97ebacb9-803c-4a1d-9b79-609871fd58ac",
     "showTitle": false,
     "tableResultSettingsMap": {},
     "title": ""
    }
   },
   "source": [
    "## Load transformers\n",
    "\n",
    "We load 2 tools to process data:\n",
    "\n",
    "- PdfToImage that converts each pdf into set of images, one page - one image\n",
    "- VisualMedicalAssistant that does the main logic"
   ]
  },
  {
   "cell_type": "code",
   "execution_count": null,
   "metadata": {
    "application/vnd.databricks.v1+cell": {
     "cellMetadata": {
      "byteLimit": 2048000,
      "rowLimit": 10000
     },
     "inputWidgets": {},
     "nuid": "5dc7f17f-dbb0-4c67-9338-e43a0d0d78c9",
     "showTitle": false,
     "tableResultSettingsMap": {},
     "title": ""
    }
   },
   "outputs": [
    {
     "name": "stderr",
     "output_type": "stream",
     "text": [
      "/usr/local/lib/python3.12/dist-packages/tqdm/auto.py:21: TqdmWarning: IProgress not found. Please update jupyter and ipywidgets. See https://ipywidgets.readthedocs.io/en/stable/user_install.html\n",
      "  from .autonotebook import tqdm as notebook_tqdm\n"
     ]
    }
   ],
   "source": [
    "import sparkocr.medassist.visual_medical_assistant\n",
    "from sparkocr.medassist.visual_medical_assistant import VisualMedicalAssistant1\n",
    "\n",
    "pdf_to_img = PdfToImage() \\\n",
    ".setKeepInput(False)\n",
    "\n",
    "vma = VisualMedicalAssistant1() \\\n",
    ".setInputCols([\"prompt\", \"image\"]) \\\n",
    ".setOutputCol(\"json\") \\\n",
    ".setKeepInput(False)"
   ]
  },
  {
   "cell_type": "markdown",
   "metadata": {
    "application/vnd.databricks.v1+cell": {
     "cellMetadata": {
      "byteLimit": 2048000,
      "rowLimit": 10000
     },
     "inputWidgets": {},
     "nuid": "c2215138-6d46-4354-87f5-5ec55a34830e",
     "showTitle": false,
     "tableResultSettingsMap": {},
     "title": ""
    }
   },
   "source": [
    "## Processing\n",
    "\n",
    "Now we run processing step by step.\n",
    "Please note that here we limited dataframe to speed up generation. For pipeline that will go to prod don't forget to remove limitation."
   ]
  },
  {
   "cell_type": "code",
   "execution_count": null,
   "metadata": {
    "application/vnd.databricks.v1+cell": {
     "cellMetadata": {
      "byteLimit": 2048000,
      "rowLimit": 10000
     },
     "inputWidgets": {},
     "nuid": "616d7346-11fe-410c-861d-f85a51a03a29",
     "showTitle": false,
     "tableResultSettingsMap": {},
     "title": ""
    }
   },
   "outputs": [
    {
     "name": "stdout",
     "output_type": "stream",
     "text": [
      "+--------------------+-------------------+------+--------------------+--------------------+-----------+---------+-------+-----------+\n",
      "|                path|   modificationTime|length|              prompt|               image|total_pages|exception|pagenum|documentnum|\n",
      "+--------------------+-------------------+------+--------------------+--------------------+-----------+---------+-------+-----------+\n",
      "|dbfs:/FileStore/m...|2025-09-14 17:18:39| 81937|Extract medical t...|{dbfs:/FileStore/...|          5|         |      1|          0|\n",
      "|dbfs:/FileStore/m...|2025-09-14 17:18:37|347577|Extract medical t...|{dbfs:/FileStore/...|          5|         |      1|          0|\n",
      "+--------------------+-------------------+------+--------------------+--------------------+-----------+---------+-------+-----------+\n",
      "\n"
     ]
    }
   ],
   "source": [
    "image_df = pdf_to_img.transform(pdf_df).filter(f.col('pagenum') == 1).limit(2).cache()\n",
    "image_df = image_df.repartition(2)\n",
    "image_df.show()"
   ]
  },
  {
   "cell_type": "code",
   "execution_count": null,
   "metadata": {
    "application/vnd.databricks.v1+cell": {
     "cellMetadata": {
      "byteLimit": 2048000,
      "rowLimit": 10000
     },
     "inputWidgets": {},
     "nuid": "b722ec22-a997-4db5-a511-ddba7165ce59",
     "showTitle": false,
     "tableResultSettingsMap": {},
     "title": ""
    }
   },
   "outputs": [
    {
     "name": "stdout",
     "output_type": "stream",
     "text": [
      "+--------------------+-------------------+------+--------------------+-----------+---------+-------+-----------+--------------------+\n",
      "|                path|   modificationTime|length|              prompt|total_pages|exception|pagenum|documentnum|                json|\n",
      "+--------------------+-------------------+------+--------------------+-----------+---------+-------+-----------+--------------------+\n",
      "|dbfs:/FileStore/m...|2025-09-14 17:18:39| 81937|Extract medical t...|          5|         |      1|          0|{'tests': [{'name...|\n",
      "|dbfs:/FileStore/m...|2025-09-14 17:18:37|347577|Extract medical t...|          5|         |      1|          0|{'tests': [{'name...|\n",
      "+--------------------+-------------------+------+--------------------+-----------+---------+-------+-----------+--------------------+\n",
      "\n"
     ]
    }
   ],
   "source": [
    "result = vma.transform(image_df).cache()\n",
    "result.show()"
   ]
  },
  {
   "cell_type": "markdown",
   "metadata": {
    "application/vnd.databricks.v1+cell": {
     "cellMetadata": {},
     "inputWidgets": {},
     "nuid": "30b0644b-649a-4843-9b22-7163e568565b",
     "showTitle": false,
     "tableResultSettingsMap": {},
     "title": ""
    }
   },
   "source": [
    "## Result\n",
    "\n",
    "Finally we get result in the form of json"
   ]
  },
  {
   "cell_type": "code",
   "execution_count": null,
   "metadata": {
    "application/vnd.databricks.v1+cell": {
     "cellMetadata": {
      "byteLimit": 2048000,
      "rowLimit": 10000
     },
     "inputWidgets": {},
     "nuid": "3c6e74e3-543a-4bff-9738-cb9abf14d095",
     "showTitle": false,
     "tableResultSettingsMap": {},
     "title": ""
    }
   },
   "outputs": [
    {
     "name": "stdout",
     "output_type": "stream",
     "text": [
      "{'tests': [{'name': 'BILIRUBIN, TOTAL',\n",
      "            'reference_range': 'ReferenceRange:0.2-1.2mg/dL',\n",
      "            'value': 0.6},\n",
      "           {'name': 'ALKALINE PHOSPHATASE',\n",
      "            'reference_range': 'ReferenceRange:31-125U/L',\n",
      "            'value': 33},\n",
      "           {'name': 'AST',\n",
      "            'reference_range': 'ReferenceRange:10-30U/L',\n",
      "            'value': 14},\n",
      "           {'name': 'ALT',\n",
      "            'reference_range': 'ReferenceRange:6-29U/L',\n",
      "            'value': 9},\n",
      "           {'name': 'CHOLESTEROL, TOTAL',\n",
      "            'reference_range': 'ReferenceRange:<200mg/dL',\n",
      "            'value': 166},\n",
      "           {'name': 'HDL CHOLESTEROL',\n",
      "            'reference_range': 'ReferenceRange:>OR=50mg/dL',\n",
      "            'value': 62},\n",
      "           {'name': 'TRIGLYCERIDES',\n",
      "            'reference_range': 'ReferenceRange:<150mg/dL',\n",
      "            'value': 46},\n",
      "           {'name': 'LDL-CHOLESTEROL', 'unit': 'mg/dL(calc)', 'value': 90},\n",
      "           {'name': 'CHOL/HDLC RATIO',\n",
      "            'reference_range': 'ReferenceRange:<5.0(calc)',\n",
      "            'value': 2.7},\n",
      "           {'name': 'NON HDL CHOLESTEROL',\n",
      "            'reference_range': 'ReferenceRange:<130mg/dL(calc)',\n",
      "            'value': 104},\n",
      "           {'name': 'HEMOGLOBIN A1c',\n",
      "            'reference_range': 'ReferenceRange:<5.7%of total Hgb',\n",
      "            'value': 5.0},\n",
      "           {'name': 'MAGNESIUM',\n",
      "            'reference_range': 'ReferenceRange:1.5-2.5mg/dL',\n",
      "            'value': 2.2}]}\n"
     ]
    }
   ],
   "source": [
    "import json\n",
    "import pprint\n",
    "\n",
    "pprint.pprint(json.loads(result.select(\"json\").collect()[0][\"json\"].replace(\"'\", \"\\\"\")))"
   ]
  }
 ],
 "metadata": {
  "application/vnd.databricks.v1+notebook": {
   "computePreferences": null,
   "dashboards": [],
   "environmentMetadata": null,
   "inputWidgetPreferences": null,
   "language": "python",
   "notebookMetadata": {
    "pythonIndentUnit": 4
   },
   "notebookName": "Medical Assistant demo",
   "widgets": {}
  },
  "kernelspec": {
   "display_name": "Python 3 (ipykernel)",
   "language": "python",
   "name": "python3"
  },
  "language_info": {
   "codemirror_mode": {
    "name": "ipython",
    "version": 3
   },
   "file_extension": ".py",
   "mimetype": "text/x-python",
   "name": "python",
   "nbconvert_exporter": "python",
   "pygments_lexer": "ipython3",
   "version": "3.13.5"
  }
 },
 "nbformat": 4,
 "nbformat_minor": 4
}

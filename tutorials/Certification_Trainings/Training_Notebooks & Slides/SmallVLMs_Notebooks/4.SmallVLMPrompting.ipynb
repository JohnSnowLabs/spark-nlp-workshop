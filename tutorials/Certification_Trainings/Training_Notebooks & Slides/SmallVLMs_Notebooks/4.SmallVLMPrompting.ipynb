{
 "cells": [
  {
   "cell_type": "markdown",
   "metadata": {
    "application/vnd.databricks.v1+cell": {
     "cellMetadata": {},
     "inputWidgets": {},
     "nuid": "78976ba6-d9be-4bb1-9e7d-7c36c788ba94",
     "showTitle": false,
     "tableResultSettingsMap": {},
     "title": ""
    }
   },
   "source": [
    "### Practical Prompting Examples #2\n",
    "\n",
    "Sample taken from [here](https://github.com/JohnSnowLabs/pdf-deid-dataset/blob/main/PDF_Original/Hard/PDF_Deid_Deidentification_Hard_0.pdf)"
   ]
  },
  {
   "cell_type": "code",
   "execution_count": null,
   "metadata": {
    "application/vnd.databricks.v1+cell": {
     "cellMetadata": {
      "byteLimit": 2048000,
      "rowLimit": 10000
     },
     "inputWidgets": {},
     "nuid": "2488da2b-b8ee-46a7-a7ef-0ee18a3851b4",
     "showTitle": false,
     "tableResultSettingsMap": {},
     "title": ""
    }
   },
   "outputs": [
    {
     "data": {
      "text/html": [
       "<style scoped>\n",
       "  .ansiout {\n",
       "    display: block;\n",
       "    unicode-bidi: embed;\n",
       "    white-space: pre-wrap;\n",
       "    word-wrap: break-word;\n",
       "    word-break: break-all;\n",
       "    font-family: \"Menlo\", \"Monaco\", \"Consolas\", \"Ubuntu Mono\", \"Source Code Pro\", monospace;\n",
       "    font-size: 13px;\n",
       "    color: #555;\n",
       "    margin-left: 4px;\n",
       "    line-height: 19px;\n",
       "  }\n",
       "</style>"
      ]
     },
     "metadata": {
      "application/vnd.databricks.v1+output": {
       "arguments": {},
       "data": "",
       "errorSummary": "",
       "errorTraceType": null,
       "metadata": {},
       "type": "ipynbError"
      }
     },
     "output_type": "display_data"
    }
   ],
   "source": [
    "prompt = \"\"\" You are an information extraction system.\n",
    "\n",
    "Your task: Extract patient information according to the following schema.\n",
    "\n",
    "{\n",
    "    \"Patient Name\": \"string | null\",\n",
    "    \"Date of Birth\": \"string | null\",\n",
    "    \"Social Security Number\": \"string | null\",\n",
    "    \"Encounter Participant\": \"string | null\",\n",
    "}\n",
    "\"\"\""
   ]
  },
  {
   "cell_type": "code",
   "execution_count": null,
   "metadata": {
    "application/vnd.databricks.v1+cell": {
     "cellMetadata": {
      "byteLimit": 2048000,
      "rowLimit": 10000
     },
     "inputWidgets": {},
     "nuid": "7c43e1ef-3126-4651-8a4f-9062614dcfeb",
     "showTitle": false,
     "tableResultSettingsMap": {},
     "title": ""
    }
   },
   "outputs": [],
   "source": [
    "from pyspark.ml import PipelineModel\n",
    "import pyspark.sql.functions as f\n",
    "from sparkocr.transformers import *\n",
    "from sparkocr.enums import *\n",
    "from sparkocr.utils import display_images\n",
    "from sparkocr.dataextraction.visual_prescriptions_recognition import VisualPrescriptionsRecognition\n",
    "\n",
    "pdf_to_img = PdfToImage() \\\n",
    ".setKeepInput(False)\n",
    "\n",
    "ocr = VisualPrescriptionsRecognition() \\\n",
    ".setInputCol(\"image\") \\\n",
    ".setOutputCol(\"text\") \\\n",
    ".setKeepInput(False) \\\n",
    ".setPrompt(f\"{prompt}\") \\\n",
    ".setMaxNewTokens(4096)\n",
    "\n",
    "image_path = \"dbfs:/FileStore/pdfs/PDF_Deid_Deidentification_Medium_0.pdf\"\n",
    "pdf_df = spark.read.format(\"binaryFile\").load(image_path)\n"
   ]
  },
  {
   "cell_type": "code",
   "execution_count": null,
   "metadata": {
    "application/vnd.databricks.v1+cell": {
     "cellMetadata": {
      "byteLimit": 2048000,
      "rowLimit": 10000
     },
     "inputWidgets": {},
     "nuid": "34520eb1-37db-4e25-898d-aacad8b59b37",
     "showTitle": false,
     "tableResultSettingsMap": {},
     "title": ""
    }
   },
   "outputs": [
    {
     "name": "stdout",
     "output_type": "stream",
     "text": [
      "+--------------------+-------------------+------+--------------------+-----------+---------+-------+-----------+\n",
      "|                path|   modificationTime|length|               image|total_pages|exception|pagenum|documentnum|\n",
      "+--------------------+-------------------+------+--------------------+-----------+---------+-------+-----------+\n",
      "|dbfs:/FileStore/p...|2025-10-22 16:01:12|461436|{dbfs:/FileStore/...|          4|         |      1|          0|\n",
      "|dbfs:/FileStore/p...|2025-10-22 16:01:12|461436|{dbfs:/FileStore/...|          4|         |      0|          0|\n",
      "|dbfs:/FileStore/p...|2025-10-22 16:01:12|461436|{dbfs:/FileStore/...|          4|         |      3|          0|\n",
      "|dbfs:/FileStore/p...|2025-10-22 16:01:12|461436|{dbfs:/FileStore/...|          4|         |      2|          0|\n",
      "+--------------------+-------------------+------+--------------------+-----------+---------+-------+-----------+\n",
      "\n"
     ]
    },
    {
     "data": {
      "text/html": [
       "<style scoped>\n",
       "  .ansiout {\n",
       "    display: block;\n",
       "    unicode-bidi: embed;\n",
       "    white-space: pre-wrap;\n",
       "    word-wrap: break-word;\n",
       "    word-break: break-all;\n",
       "    font-family: \"Menlo\", \"Monaco\", \"Consolas\", \"Ubuntu Mono\", \"Source Code Pro\", monospace;\n",
       "    font-size: 13px;\n",
       "    color: #555;\n",
       "    margin-left: 4px;\n",
       "    line-height: 19px;\n",
       "  }\n",
       "</style>"
      ]
     },
     "metadata": {
      "application/vnd.databricks.v1+output": {
       "arguments": {},
       "data": "",
       "errorSummary": "",
       "errorTraceType": null,
       "metadata": {},
       "type": "ipynbError"
      }
     },
     "output_type": "display_data"
    }
   ],
   "source": [
    "image_df = pdf_to_img.transform(pdf_df).limit(8).cache()\n",
    "image_df.show()"
   ]
  },
  {
   "cell_type": "code",
   "execution_count": null,
   "metadata": {
    "application/vnd.databricks.v1+cell": {
     "cellMetadata": {
      "byteLimit": 2048000,
      "rowLimit": 10000
     },
     "inputWidgets": {},
     "nuid": "386cb57f-67c9-40a0-a832-2ff390f8fc4a",
     "showTitle": false,
     "tableResultSettingsMap": {},
     "title": ""
    }
   },
   "outputs": [
    {
     "name": "stdout",
     "output_type": "stream",
     "text": [
      "+--------------------+-------------------+------+-----------+---------+-------+-----------+--------------------+\n",
      "|                path|   modificationTime|length|total_pages|exception|pagenum|documentnum|                text|\n",
      "+--------------------+-------------------+------+-----------+---------+-------+-----------+--------------------+\n",
      "|dbfs:/FileStore/p...|2025-10-22 16:01:12|461436|          4|         |      1|          0|{'Patient Name': ...|\n",
      "|dbfs:/FileStore/p...|2025-10-22 16:01:12|461436|          4|         |      0|          0|{'Patient Name': ...|\n",
      "|dbfs:/FileStore/p...|2025-10-22 16:01:12|461436|          4|         |      3|          0|                    |\n",
      "|dbfs:/FileStore/p...|2025-10-22 16:01:12|461436|          4|         |      2|          0|{'Patient Name': ...|\n",
      "+--------------------+-------------------+------+-----------+---------+-------+-----------+--------------------+\n",
      "\n"
     ]
    },
    {
     "data": {
      "text/html": [
       "<style scoped>\n",
       "  .ansiout {\n",
       "    display: block;\n",
       "    unicode-bidi: embed;\n",
       "    white-space: pre-wrap;\n",
       "    word-wrap: break-word;\n",
       "    word-break: break-all;\n",
       "    font-family: \"Menlo\", \"Monaco\", \"Consolas\", \"Ubuntu Mono\", \"Source Code Pro\", monospace;\n",
       "    font-size: 13px;\n",
       "    color: #555;\n",
       "    margin-left: 4px;\n",
       "    line-height: 19px;\n",
       "  }\n",
       "</style>"
      ]
     },
     "metadata": {
      "application/vnd.databricks.v1+output": {
       "arguments": {},
       "data": "",
       "errorSummary": "",
       "errorTraceType": null,
       "metadata": {},
       "type": "ipynbError"
      }
     },
     "output_type": "display_data"
    }
   ],
   "source": [
    "result = ocr.transform(image_df).cache()\n",
    "result.show()"
   ]
  },
  {
   "cell_type": "code",
   "execution_count": null,
   "metadata": {
    "application/vnd.databricks.v1+cell": {
     "cellMetadata": {
      "byteLimit": 2048000,
      "rowLimit": 10000
     },
     "inputWidgets": {},
     "nuid": "b2328475-44a7-4d19-93bf-eed1dde5fe58",
     "showTitle": false,
     "tableResultSettingsMap": {},
     "title": ""
    }
   },
   "outputs": [
    {
     "name": "stdout",
     "output_type": "stream",
     "text": [
      "+--------------------------------------------------------------------------------------------------------------------------------------------------------------------------------------------------------------------------------------------------------------------------------------------------------------------+\n",
      "|text                                                                                                                                                                                                                                                                                                                |\n",
      "+--------------------------------------------------------------------------------------------------------------------------------------------------------------------------------------------------------------------------------------------------------------------------------------------------------------------+\n",
      "|{'Patient Name': 'Susan Frances Martin', 'Date of Birth': '09/03/1951', 'Social Security Number': '103-15-0825', 'Encounter': 'HOSP20831933', 'Encounter Participant': 'Brittany Gallagher'}                                                                                                                        |\n",
      "|{'Patient Name': 'Susan Frances Martin', 'Date of Birth': '09/03/1951', 'Social Security Number': '103-15-0825', 'Encounter': 'Coordinator For Healthplans - Encounter Summary for Susan Frances Martin, Electronically signed by Dr. Brittany Gallagher, FNP-C', 'Encounter Participant': 'Dr. Brittany Gallagher'}|\n",
      "|                                                                                                                                                                                                                                                                                                                    |\n",
      "|{'Patient Name': 'Susan Frances Martin', 'Date of Birth': '09/03/1951', 'Social Security Number': None, 'Encounter': None, 'Encounter Participant': None}                                                                                                                                                           |\n",
      "+--------------------------------------------------------------------------------------------------------------------------------------------------------------------------------------------------------------------------------------------------------------------------------------------------------------------+\n",
      "\n"
     ]
    },
    {
     "data": {
      "text/html": [
       "<style scoped>\n",
       "  .ansiout {\n",
       "    display: block;\n",
       "    unicode-bidi: embed;\n",
       "    white-space: pre-wrap;\n",
       "    word-wrap: break-word;\n",
       "    word-break: break-all;\n",
       "    font-family: \"Menlo\", \"Monaco\", \"Consolas\", \"Ubuntu Mono\", \"Source Code Pro\", monospace;\n",
       "    font-size: 13px;\n",
       "    color: #555;\n",
       "    margin-left: 4px;\n",
       "    line-height: 19px;\n",
       "  }\n",
       "</style>"
      ]
     },
     "metadata": {
      "application/vnd.databricks.v1+output": {
       "arguments": {},
       "data": "",
       "errorSummary": "",
       "errorTraceType": null,
       "metadata": {},
       "type": "ipynbError"
      }
     },
     "output_type": "display_data"
    }
   ],
   "source": [
    "result.select(\"text\").show(truncate=False)"
   ]
  },
  {
   "cell_type": "code",
   "execution_count": null,
   "metadata": {
    "application/vnd.databricks.v1+cell": {
     "cellMetadata": {},
     "inputWidgets": {},
     "nuid": "402baa34-43c6-4b87-895e-3cfef3dae1fd",
     "showTitle": false,
     "tableResultSettingsMap": {},
     "title": ""
    }
   },
   "outputs": [],
   "source": []
  }
 ],
 "metadata": {
  "application/vnd.databricks.v1+notebook": {
   "computePreferences": null,
   "dashboards": [],
   "environmentMetadata": {
    "base_environment": "",
    "environment_version": "4"
   },
   "inputWidgetPreferences": null,
   "language": "python",
   "notebookMetadata": {
    "pythonIndentUnit": 4
   },
   "notebookName": "Alberto's clone of Alex's",
   "widgets": {}
  },
  "kernelspec": {
   "display_name": "Python 3 (ipykernel)",
   "language": "python",
   "name": "python3"
  },
  "language_info": {
   "codemirror_mode": {
    "name": "ipython",
    "version": 3
   },
   "file_extension": ".py",
   "mimetype": "text/x-python",
   "name": "python",
   "nbconvert_exporter": "python",
   "pygments_lexer": "ipython3",
   "version": "3.12.3"
  }
 },
 "nbformat": 4,
 "nbformat_minor": 4
}

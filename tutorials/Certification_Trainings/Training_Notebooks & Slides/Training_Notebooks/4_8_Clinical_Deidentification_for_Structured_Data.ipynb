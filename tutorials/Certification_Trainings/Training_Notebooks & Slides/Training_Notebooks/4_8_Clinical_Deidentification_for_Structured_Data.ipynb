{
  "cells": [
    {
      "cell_type": "markdown",
      "metadata": {
        "id": "KEKP38AUOhnL"
      },
      "source": [
        "![JohnSnowLabs](https://nlp.johnsnowlabs.com/assets/images/logo.png)"
      ]
    },
    {
      "cell_type": "markdown",
      "metadata": {
        "id": "K1C6t4scOkXh"
      },
      "source": [
        "[![Open In Colab](https://colab.research.google.com/assets/colab-badge.svg)](https://colab.research.google.com/github/JohnSnowLabs/spark-nlp-workshop/blob/master/tutorials/Certification_Trainings/Healthcare/4.8.Clinical_Deidentification_for_Structured_Data.ipynb)\n"
      ]
    },
    {
      "cell_type": "markdown",
      "metadata": {
        "id": "xSc1wxNEOqcM"
      },
      "source": [
        "# Clinical Deidentification for Structured Data"
      ]
    },
    {
      "cell_type": "markdown",
      "source": [
        "## Healthcare NLP for Data Scientists Course\n",
        "\n",
        "If you are not familiar with the components in this notebook, you can check [Healthcare NLP for Data Scientists Udemy Course](https://www.udemy.com/course/healthcare-nlp-for-data-scientists/) and the [MOOC Notebooks](https://github.com/JohnSnowLabs/spark-nlp-workshop/tree/master/Spark_NLP_Udemy_MOOC/Healthcare_NLP) for each components."
      ],
      "metadata": {
        "id": "hEygWBHHsWzC"
      }
    },
    {
      "cell_type": "markdown",
      "metadata": {
        "id": "okhT7AcXxben"
      },
      "source": [
        "## Colab Setup"
      ]
    },
    {
      "cell_type": "code",
      "execution_count": 1,
      "metadata": {
        "id": "tQLe_InJtnzA",
        "colab": {
          "base_uri": "https://localhost:8080/",
          "height": 74
        },
        "outputId": "dce6cc8b-56d9-4384-c664-891e5afb2123"
      },
      "outputs": [
        {
          "output_type": "display_data",
          "data": {
            "text/plain": [
              "<IPython.core.display.HTML object>"
            ],
            "text/html": [
              "\n",
              "     <input type=\"file\" id=\"files-e050d12d-410c-4cf2-ba02-c793c20a5e7d\" name=\"files[]\" multiple disabled\n",
              "        style=\"border:none\" />\n",
              "     <output id=\"result-e050d12d-410c-4cf2-ba02-c793c20a5e7d\">\n",
              "      Upload widget is only available when the cell has been executed in the\n",
              "      current browser session. Please rerun this cell to enable.\n",
              "      </output>\n",
              "      <script>// Copyright 2017 Google LLC\n",
              "//\n",
              "// Licensed under the Apache License, Version 2.0 (the \"License\");\n",
              "// you may not use this file except in compliance with the License.\n",
              "// You may obtain a copy of the License at\n",
              "//\n",
              "//      http://www.apache.org/licenses/LICENSE-2.0\n",
              "//\n",
              "// Unless required by applicable law or agreed to in writing, software\n",
              "// distributed under the License is distributed on an \"AS IS\" BASIS,\n",
              "// WITHOUT WARRANTIES OR CONDITIONS OF ANY KIND, either express or implied.\n",
              "// See the License for the specific language governing permissions and\n",
              "// limitations under the License.\n",
              "\n",
              "/**\n",
              " * @fileoverview Helpers for google.colab Python module.\n",
              " */\n",
              "(function(scope) {\n",
              "function span(text, styleAttributes = {}) {\n",
              "  const element = document.createElement('span');\n",
              "  element.textContent = text;\n",
              "  for (const key of Object.keys(styleAttributes)) {\n",
              "    element.style[key] = styleAttributes[key];\n",
              "  }\n",
              "  return element;\n",
              "}\n",
              "\n",
              "// Max number of bytes which will be uploaded at a time.\n",
              "const MAX_PAYLOAD_SIZE = 100 * 1024;\n",
              "\n",
              "function _uploadFiles(inputId, outputId) {\n",
              "  const steps = uploadFilesStep(inputId, outputId);\n",
              "  const outputElement = document.getElementById(outputId);\n",
              "  // Cache steps on the outputElement to make it available for the next call\n",
              "  // to uploadFilesContinue from Python.\n",
              "  outputElement.steps = steps;\n",
              "\n",
              "  return _uploadFilesContinue(outputId);\n",
              "}\n",
              "\n",
              "// This is roughly an async generator (not supported in the browser yet),\n",
              "// where there are multiple asynchronous steps and the Python side is going\n",
              "// to poll for completion of each step.\n",
              "// This uses a Promise to block the python side on completion of each step,\n",
              "// then passes the result of the previous step as the input to the next step.\n",
              "function _uploadFilesContinue(outputId) {\n",
              "  const outputElement = document.getElementById(outputId);\n",
              "  const steps = outputElement.steps;\n",
              "\n",
              "  const next = steps.next(outputElement.lastPromiseValue);\n",
              "  return Promise.resolve(next.value.promise).then((value) => {\n",
              "    // Cache the last promise value to make it available to the next\n",
              "    // step of the generator.\n",
              "    outputElement.lastPromiseValue = value;\n",
              "    return next.value.response;\n",
              "  });\n",
              "}\n",
              "\n",
              "/**\n",
              " * Generator function which is called between each async step of the upload\n",
              " * process.\n",
              " * @param {string} inputId Element ID of the input file picker element.\n",
              " * @param {string} outputId Element ID of the output display.\n",
              " * @return {!Iterable<!Object>} Iterable of next steps.\n",
              " */\n",
              "function* uploadFilesStep(inputId, outputId) {\n",
              "  const inputElement = document.getElementById(inputId);\n",
              "  inputElement.disabled = false;\n",
              "\n",
              "  const outputElement = document.getElementById(outputId);\n",
              "  outputElement.innerHTML = '';\n",
              "\n",
              "  const pickedPromise = new Promise((resolve) => {\n",
              "    inputElement.addEventListener('change', (e) => {\n",
              "      resolve(e.target.files);\n",
              "    });\n",
              "  });\n",
              "\n",
              "  const cancel = document.createElement('button');\n",
              "  inputElement.parentElement.appendChild(cancel);\n",
              "  cancel.textContent = 'Cancel upload';\n",
              "  const cancelPromise = new Promise((resolve) => {\n",
              "    cancel.onclick = () => {\n",
              "      resolve(null);\n",
              "    };\n",
              "  });\n",
              "\n",
              "  // Wait for the user to pick the files.\n",
              "  const files = yield {\n",
              "    promise: Promise.race([pickedPromise, cancelPromise]),\n",
              "    response: {\n",
              "      action: 'starting',\n",
              "    }\n",
              "  };\n",
              "\n",
              "  cancel.remove();\n",
              "\n",
              "  // Disable the input element since further picks are not allowed.\n",
              "  inputElement.disabled = true;\n",
              "\n",
              "  if (!files) {\n",
              "    return {\n",
              "      response: {\n",
              "        action: 'complete',\n",
              "      }\n",
              "    };\n",
              "  }\n",
              "\n",
              "  for (const file of files) {\n",
              "    const li = document.createElement('li');\n",
              "    li.append(span(file.name, {fontWeight: 'bold'}));\n",
              "    li.append(span(\n",
              "        `(${file.type || 'n/a'}) - ${file.size} bytes, ` +\n",
              "        `last modified: ${\n",
              "            file.lastModifiedDate ? file.lastModifiedDate.toLocaleDateString() :\n",
              "                                    'n/a'} - `));\n",
              "    const percent = span('0% done');\n",
              "    li.appendChild(percent);\n",
              "\n",
              "    outputElement.appendChild(li);\n",
              "\n",
              "    const fileDataPromise = new Promise((resolve) => {\n",
              "      const reader = new FileReader();\n",
              "      reader.onload = (e) => {\n",
              "        resolve(e.target.result);\n",
              "      };\n",
              "      reader.readAsArrayBuffer(file);\n",
              "    });\n",
              "    // Wait for the data to be ready.\n",
              "    let fileData = yield {\n",
              "      promise: fileDataPromise,\n",
              "      response: {\n",
              "        action: 'continue',\n",
              "      }\n",
              "    };\n",
              "\n",
              "    // Use a chunked sending to avoid message size limits. See b/62115660.\n",
              "    let position = 0;\n",
              "    do {\n",
              "      const length = Math.min(fileData.byteLength - position, MAX_PAYLOAD_SIZE);\n",
              "      const chunk = new Uint8Array(fileData, position, length);\n",
              "      position += length;\n",
              "\n",
              "      const base64 = btoa(String.fromCharCode.apply(null, chunk));\n",
              "      yield {\n",
              "        response: {\n",
              "          action: 'append',\n",
              "          file: file.name,\n",
              "          data: base64,\n",
              "        },\n",
              "      };\n",
              "\n",
              "      let percentDone = fileData.byteLength === 0 ?\n",
              "          100 :\n",
              "          Math.round((position / fileData.byteLength) * 100);\n",
              "      percent.textContent = `${percentDone}% done`;\n",
              "\n",
              "    } while (position < fileData.byteLength);\n",
              "  }\n",
              "\n",
              "  // All done.\n",
              "  yield {\n",
              "    response: {\n",
              "      action: 'complete',\n",
              "    }\n",
              "  };\n",
              "}\n",
              "\n",
              "scope.google = scope.google || {};\n",
              "scope.google.colab = scope.google.colab || {};\n",
              "scope.google.colab._files = {\n",
              "  _uploadFiles,\n",
              "  _uploadFilesContinue,\n",
              "};\n",
              "})(self);\n",
              "</script> "
            ]
          },
          "metadata": {}
        },
        {
          "output_type": "stream",
          "name": "stdout",
          "text": [
            "Saving 610.json to 610.json\n"
          ]
        }
      ],
      "source": [
        "import json\n",
        "import os\n",
        "\n",
        "from google.colab import files\n",
        "\n",
        "if 'spark_jsl.json' not in os.listdir():\n",
        "  license_keys = files.upload()\n",
        "  os.rename(list(license_keys.keys())[0], 'spark_jsl.json')\n",
        "\n",
        "with open('spark_jsl.json') as f:\n",
        "    license_keys = json.load(f)\n",
        "\n",
        "# Defining license key-value pairs as local variables\n",
        "locals().update(license_keys)\n",
        "os.environ.update(license_keys)"
      ]
    },
    {
      "cell_type": "code",
      "execution_count": 2,
      "metadata": {
        "id": "JGkYS4CGtN87",
        "colab": {
          "base_uri": "https://localhost:8080/"
        },
        "outputId": "8a101beb-9aec-4b6d-ac05-9746a92e2c8d"
      },
      "outputs": [
        {
          "output_type": "stream",
          "name": "stdout",
          "text": [
            "\u001b[2K     \u001b[90m━━━━━━━━━━━━━━━━━━━━━━━━━━━━━━━━━━━━━━━\u001b[0m \u001b[32m316.9/316.9 MB\u001b[0m \u001b[31m1.6 MB/s\u001b[0m eta \u001b[36m0:00:00\u001b[0m\n",
            "\u001b[?25h  Preparing metadata (setup.py) ... \u001b[?25l\u001b[?25hdone\n",
            "\u001b[2K   \u001b[90m━━━━━━━━━━━━━━━━━━━━━━━━━━━━━━━━━━━━━━━━\u001b[0m \u001b[32m727.0/727.0 kB\u001b[0m \u001b[31m51.2 MB/s\u001b[0m eta \u001b[36m0:00:00\u001b[0m\n",
            "\u001b[?25h  Building wheel for pyspark (setup.py) ... \u001b[?25l\u001b[?25hdone\n",
            "\u001b[31mERROR: pip's dependency resolver does not currently take into account all the packages that are installed. This behaviour is the source of the following dependency conflicts.\n",
            "dataproc-spark-connect 0.8.3 requires pyspark[connect]~=3.5.1, but you have pyspark 3.5.0 which is incompatible.\u001b[0m\u001b[31m\n",
            "\u001b[2K     \u001b[90m━━━━━━━━━━━━━━━━━━━━━━━━━━━━━━━━━━━━━━━\u001b[0m \u001b[32m561.2/561.2 kB\u001b[0m \u001b[31m7.4 MB/s\u001b[0m eta \u001b[36m0:00:00\u001b[0m\n",
            "\u001b[2K   \u001b[90m━━━━━━━━━━━━━━━━━━━━━━━━━━━━━━━━━━━━━━━━\u001b[0m \u001b[32m95.6/95.6 kB\u001b[0m \u001b[31m3.1 MB/s\u001b[0m eta \u001b[36m0:00:00\u001b[0m\n",
            "\u001b[2K   \u001b[90m━━━━━━━━━━━━━━━━━━━━━━━━━━━━━━━━━━━━━━━━\u001b[0m \u001b[32m66.9/66.9 kB\u001b[0m \u001b[31m6.6 MB/s\u001b[0m eta \u001b[36m0:00:00\u001b[0m\n",
            "\u001b[2K   \u001b[90m━━━━━━━━━━━━━━━━━━━━━━━━━━━━━━━━━━━━━━━━\u001b[0m \u001b[32m1.6/1.6 MB\u001b[0m \u001b[31m18.3 MB/s\u001b[0m eta \u001b[36m0:00:00\u001b[0m\n",
            "\u001b[?25h"
          ]
        }
      ],
      "source": [
        "# Installing pyspark and spark-nlp\n",
        "! pip install --upgrade -q pyspark==3.5.0 spark-nlp==$PUBLIC_VERSION\n",
        "\n",
        "# Installing Spark NLP Healthcare\n",
        "! pip install --upgrade -q spark-nlp-jsl==$JSL_VERSION  --extra-index-url https://pypi.johnsnowlabs.com/$SECRET\n",
        "\n",
        "# Installing Spark NLP Display Library for visualization\n",
        "! pip install -q spark-nlp-display"
      ]
    },
    {
      "cell_type": "markdown",
      "source": [
        "## Getting the MYSQL jar connector"
      ],
      "metadata": {
        "id": "3UPDEiCnaTmi"
      }
    },
    {
      "cell_type": "code",
      "source": [
        "!wget https://repo1.maven.org/maven2/com/mysql/mysql-connector-j/9.0.0/mysql-connector-j-9.0.0.jar"
      ],
      "metadata": {
        "id": "vLslNjhbaSOl",
        "colab": {
          "base_uri": "https://localhost:8080/"
        },
        "outputId": "84c15b59-1e39-4a31-dec3-08a9815d50ce"
      },
      "execution_count": 3,
      "outputs": [
        {
          "output_type": "stream",
          "name": "stdout",
          "text": [
            "--2025-10-18 11:38:34--  https://repo1.maven.org/maven2/com/mysql/mysql-connector-j/9.0.0/mysql-connector-j-9.0.0.jar\n",
            "Resolving repo1.maven.org (repo1.maven.org)... 104.18.19.12, 104.18.18.12, 2606:4700::6812:120c, ...\n",
            "Connecting to repo1.maven.org (repo1.maven.org)|104.18.19.12|:443... connected.\n",
            "HTTP request sent, awaiting response... 200 OK\n",
            "Length: 2590119 (2.5M) [application/java-archive]\n",
            "Saving to: ‘mysql-connector-j-9.0.0.jar’\n",
            "\n",
            "mysql-connector-j-9 100%[===================>]   2.47M  --.-KB/s    in 0.03s   \n",
            "\n",
            "2025-10-18 11:38:34 (74.6 MB/s) - ‘mysql-connector-j-9.0.0.jar’ saved [2590119/2590119]\n",
            "\n"
          ]
        }
      ]
    },
    {
      "cell_type": "markdown",
      "source": [
        "## Starting the Spark session"
      ],
      "metadata": {
        "id": "EijNhZycc0NJ"
      }
    },
    {
      "cell_type": "code",
      "execution_count": 4,
      "metadata": {
        "id": "iUNHVaSdL0tO",
        "colab": {
          "base_uri": "https://localhost:8080/",
          "height": 256
        },
        "outputId": "c11c358f-8600-4f65-afcb-e1b825f84f66"
      },
      "outputs": [
        {
          "output_type": "stream",
          "name": "stdout",
          "text": [
            "Spark NLP Version: 6.1.1\n",
            "Spark NLP_JSL Version: 6.1.0\n"
          ]
        },
        {
          "output_type": "execute_result",
          "data": {
            "text/plain": [
              "<pyspark.sql.session.SparkSession at 0x7de7c3814b60>"
            ],
            "text/html": [
              "\n",
              "            <div>\n",
              "                <p><b>SparkSession - in-memory</b></p>\n",
              "                \n",
              "        <div>\n",
              "            <p><b>SparkContext</b></p>\n",
              "\n",
              "            <p><a href=\"http://4d3ac5b6316d:4040\">Spark UI</a></p>\n",
              "\n",
              "            <dl>\n",
              "              <dt>Version</dt>\n",
              "                <dd><code>v3.5.0</code></dd>\n",
              "              <dt>Master</dt>\n",
              "                <dd><code>local[*]</code></dd>\n",
              "              <dt>AppName</dt>\n",
              "                <dd><code>Spark NLP Licensed</code></dd>\n",
              "            </dl>\n",
              "        </div>\n",
              "        \n",
              "            </div>\n",
              "        "
            ]
          },
          "metadata": {},
          "execution_count": 4
        }
      ],
      "source": [
        "import json\n",
        "import os\n",
        "\n",
        "import sparknlp\n",
        "import sparknlp_jsl\n",
        "\n",
        "from sparknlp.base import *\n",
        "from sparknlp.util import *\n",
        "from sparknlp.annotator import *\n",
        "from sparknlp_jsl.annotator import *\n",
        "from sparknlp_jsl.pipeline_tracer import PipelineTracer\n",
        "from sparknlp_jsl.pipeline_output_parser import PipelineOutputParser\n",
        "\n",
        "from pyspark.sql import functions as F\n",
        "from pyspark.sql import SparkSession\n",
        "from pyspark.ml import Pipeline, PipelineModel\n",
        "\n",
        "import pandas as pd\n",
        "pd.set_option('display.max_columns', None)\n",
        "pd.set_option('display.expand_frame_repr', False)\n",
        "pd.set_option('max_colwidth', None)\n",
        "\n",
        "import string\n",
        "import numpy as np\n",
        "\n",
        "\n",
        "# Define your Spark parameters\n",
        "params = {\n",
        "    \"spark.driver.memory\": \"16G\",\n",
        "    \"spark.kryoserializer.buffer.max\": \"2000M\",\n",
        "    \"spark.driver.maxResultSize\": \"2000M\",\n",
        "    \"spark.jars\": \"/content/mysql-connector-j-9.0.0.jar\"  # Path to the downloaded JAR\n",
        "}\n",
        "\n",
        "# Start the Spark NLP session with Spark NLP JSL\n",
        "spark = sparknlp_jsl.start(secret=license_keys[\"SECRET\"],\n",
        "                           params=params)\n",
        "\n",
        "# Print version details\n",
        "print(\"Spark NLP Version:\", sparknlp.version())\n",
        "print(\"Spark NLP_JSL Version:\", sparknlp_jsl.version())\n",
        "\n",
        "spark"
      ]
    },
    {
      "cell_type": "code",
      "execution_count": 5,
      "metadata": {
        "id": "VtLIEJtPf88T"
      },
      "outputs": [],
      "source": [
        "# if you want to start the session with custom params as in start function above\n",
        "from pyspark.sql import SparkSession\n",
        "\n",
        "def start(SECRET):\n",
        "    builder = SparkSession.builder \\\n",
        "        .appName(\"Spark NLP Licensed\") \\\n",
        "        .master(\"local[*]\") \\\n",
        "        .config(\"spark.driver.memory\", \"16G\") \\\n",
        "        .config(\"spark.serializer\", \"org.apache.spark.serializer.KryoSerializer\") \\\n",
        "        .config(\"spark.kryoserializer.buffer.max\", \"2000M\") \\\n",
        "        .config(\"spark.jars.packages\", \"com.johnsnowlabs.nlp:spark-nlp_2.12:\"+PUBLIC_VERSION) \\\n",
        "        .config(\"spark.jars\", \"https://pypi.johnsnowlabs.com/\"+SECRET+\"/spark-nlp-jsl-\"+JSL_VERSION+\".jar\")\n",
        "\n",
        "    return builder.getOrCreate()\n",
        "\n",
        "#spark = start(SECRET)"
      ]
    },
    {
      "cell_type": "markdown",
      "metadata": {
        "id": "zwM9GsKnXPOg"
      },
      "source": [
        "# Structured Deidentification for File-Based Data"
      ]
    },
    {
      "cell_type": "code",
      "execution_count": 6,
      "metadata": {
        "id": "JLY-pfeYXQAY",
        "colab": {
          "base_uri": "https://localhost:8080/"
        },
        "outputId": "dce52e47-5dd9-47d8-b55c-10ba476906cf"
      },
      "outputs": [
        {
          "output_type": "stream",
          "name": "stdout",
          "text": [
            "+---------------+----------+---+----------------------------------------------------+-------+--------------+---+---+\n",
            "|NAME           |DOB       |AGE|ADDRESS                                             |ZIPCODE|TEL           |SBP|DBP|\n",
            "+---------------+----------+---+----------------------------------------------------+-------+--------------+---+---+\n",
            "|Cecilia Chapman|04/02/1935|83 |711-2880 Nulla St. Mankato Mississippi              |69200  |(257) 563-7401|101|42 |\n",
            "|Iris Watson    |03/10/2009|9  |P.O. Box 283 8562 Fusce Rd. Frederick Nebraska      |20620  |(372) 587-2335|159|122|\n",
            "|Bryar Pitts    |11/01/1921|98 |5543 Aliquet St. Fort Dodge GA                      |20783  |(717) 450-4729|149|52 |\n",
            "|Theodore Lowe  |13/02/2002|16 |Ap #867-859 Sit Rd. Azusa New York                  |39531  |(793) 151-6230|134|115|\n",
            "|Calista Wise   |20/08/1942|76 |7292 Dictum Av. San Antonio MI                      |47096  |(492) 709-6392|139|78 |\n",
            "|Kyla Olsen     |12/05/1973|45 |Ap #651-8679 Sodales Av. Tamuning PA                |10855  |(654) 393-5734|120|112|\n",
            "|Forrest Ray    |11/01/1991|27 |191-103 Integer Rd. Corona New Mexico               |8219   |(404) 960-3807|143|126|\n",
            "|Hiroko Potter  |18/11/1937|81 |P.O. Box 887 2508 Dolor. Av. Muskegon KY            |12482  |(314) 244-6306|147|75 |\n",
            "|Celeste Slater |12/05/1980|38 |606-3727 Ullamcorper. Street Roseville NH           |11523  |(786) 713-8616|147|123|\n",
            "|Nyssa Vazquez  |24/09/1956|62 |511-5762 At Rd. Chelsea MI                          |67708  |(947) 278-5929|129|50 |\n",
            "|Lawrence Moreno|26/12/1906|112|935-9940 Tortor. Street Santa Rosa MN               |98804  |(684) 579-1879|133|102|\n",
            "|Ina Moran      |26/10/1983|35 |P.O. Box 929 4189 Nunc Road Lebanon KY              |69409  |(389) 737-2852|101|67 |\n",
            "|Aaron Hawkins  |26/09/2009|9  |5587 Nunc. Avenue Erie Rhode Island                 |24975  |(660) 663-4518|87 |81 |\n",
            "|Hedy Greene    |03/10/1920|98 |Ap #696-3279 Viverra. Avenue Latrobe DE             |38100  |(608) 265-2215|128|123|\n",
            "|Melvin Porter  |14/08/1911|107|P.O. Box 132 1599 Curabitur Rd. Bandera South Dakota|45149  |(959) 119-8364|83 |43 |\n",
            "|Keefe Sellers  |16/05/1937|81 |347-7666 Iaculis St. Woodruff SC                    |49854  |(468) 353-2641|148|109|\n",
            "|Joan Romero    |08/12/2004|14 |666-4366 Lacinia Avenue Idaho Falls Ohio            |19253  |(248) 675-4007|75 |53 |\n",
            "|Davis Patrick  |09/01/1956|63 |P.O. Box 147 2546 Sociosqu Rd. Bethlehem Utah       |2913   |(939) 353-1107|142|62 |\n",
            "|Leilani Boyer  |18/10/1934|84 |557-6308 Lacinia Road San Bernardino ND             |9289   |(570) 873-7090|137|48 |\n",
            "|Colby Bernard  |02/10/1905|113|Ap #285-7193 Ullamcorper Avenue Amesbury HI         |93373  |(302) 259-2375|84 |41 |\n",
            "+---------------+----------+---+----------------------------------------------------+-------+--------------+---+---+\n",
            "only showing top 20 rows\n",
            "\n"
          ]
        }
      ],
      "source": [
        "!wget -q https://raw.githubusercontent.com/JohnSnowLabs/spark-nlp-workshop/master/tutorials/Certification_Trainings/Healthcare/data/hipaa-table-001.txt\n",
        "\n",
        "df = spark.read.format(\"csv\") \\\n",
        "    .option(\"sep\", \"\\t\") \\\n",
        "    .option(\"inferSchema\", \"true\") \\\n",
        "    .option(\"header\", \"true\") \\\n",
        "    .load(\"hipaa-table-001.txt\")\n",
        "\n",
        "df = df.withColumnRenamed(\"PATIENT\",\"NAME\")\n",
        "df.show(truncate=False)"
      ]
    },
    {
      "cell_type": "code",
      "execution_count": 7,
      "metadata": {
        "id": "F9bl5oo0ZhD_"
      },
      "outputs": [],
      "source": [
        "from sparknlp_jsl.structured_deidentification import StructuredDeidentification"
      ]
    },
    {
      "cell_type": "code",
      "execution_count": 8,
      "metadata": {
        "id": "PQ84IQTGcFAd",
        "colab": {
          "base_uri": "https://localhost:8080/"
        },
        "outputId": "c8b15298-2ce8-415f-a162-e9549f4264ed"
      },
      "outputs": [
        {
          "output_type": "stream",
          "name": "stdout",
          "text": [
            "+-------------------+----------+-----+----------------------------------------------------+-------+--------------+---+---+\n",
            "|NAME               |DOB       |AGE  |ADDRESS                                             |ZIPCODE|TEL           |SBP|DBP|\n",
            "+-------------------+----------+-----+----------------------------------------------------+-------+--------------+---+---+\n",
            "|[Leata Basset]     |04/02/1935|[82] |711-2880 Nulla St. Mankato Mississippi              |69200  |(257) 563-7401|101|42 |\n",
            "|[Ulyses Lambert]   |03/10/2009|[4]  |P.O. Box 283 8562 Fusce Rd. Frederick Nebraska      |20620  |(372) 587-2335|159|122|\n",
            "|[Di Moccasin]      |11/01/1921|[86] |5543 Aliquet St. Fort Dodge GA                      |20783  |(717) 450-4729|149|52 |\n",
            "|[Carmela Hoff]     |13/02/2002|[12] |Ap #867-859 Sit Rd. Azusa New York                  |39531  |(793) 151-6230|134|115|\n",
            "|[Othel Borg]       |20/08/1942|[69] |7292 Dictum Av. San Antonio MI                      |47096  |(492) 709-6392|139|78 |\n",
            "|[Hayes Head]       |12/05/1973|[42] |Ap #651-8679 Sodales Av. Tamuning PA                |10855  |(654) 393-5734|120|112|\n",
            "|[Natale Massing]   |11/01/1991|[21] |191-103 Integer Rd. Corona New Mexico               |8219   |(404) 960-3807|143|126|\n",
            "|[Harlene Najjar]   |18/11/1937|[85] |P.O. Box 887 2508 Dolor. Av. Muskegon KY            |12482  |(314) 244-6306|147|75 |\n",
            "|[Glenora Marchi]   |12/05/1980|[29] |606-3727 Ullamcorper. Street Roseville NH           |11523  |(786) 713-8616|147|123|\n",
            "|[Macon Manna]      |24/09/1956|[65] |511-5762 At Rd. Chelsea MI                          |67708  |(947) 278-5929|129|50 |\n",
            "|[Damian Camp]      |26/12/1906|[111]|935-9940 Tortor. Street Santa Rosa MN               |98804  |(684) 579-1879|133|102|\n",
            "|[Fortunato Mutton] |26/10/1983|[32] |P.O. Box 929 4189 Nunc Road Lebanon KY              |69409  |(389) 737-2852|101|67 |\n",
            "|[Izella Conception]|26/09/2009|[4]  |5587 Nunc. Avenue Erie Rhode Island                 |24975  |(660) 663-4518|87 |81 |\n",
            "|[Barba Son]        |03/10/1920|[86] |Ap #696-3279 Viverra. Avenue Latrobe DE             |38100  |(608) 265-2215|128|123|\n",
            "|[Peg Hamburg]      |14/08/1911|[117]|P.O. Box 132 1599 Curabitur Rd. Bandera South Dakota|45149  |(959) 119-8364|83 |43 |\n",
            "|[Frieda Finders]   |16/05/1937|[85] |347-7666 Iaculis St. Woodruff SC                    |49854  |(468) 353-2641|148|109|\n",
            "|[Jacob Forward]    |08/12/2004|[15] |666-4366 Lacinia Avenue Idaho Falls Ohio            |19253  |(248) 675-4007|75 |53 |\n",
            "|[Jeronimo Sames]   |09/01/1956|[64] |P.O. Box 147 2546 Sociosqu Rd. Bethlehem Utah       |2913   |(939) 353-1107|142|62 |\n",
            "|[Eldridge Enter]   |18/10/1934|[81] |557-6308 Lacinia Road San Bernardino ND             |9289   |(570) 873-7090|137|48 |\n",
            "|[Nobie Kotyk]      |02/10/1905|[110]|Ap #285-7193 Ullamcorper Avenue Amesbury HI         |93373  |(302) 259-2375|84 |41 |\n",
            "+-------------------+----------+-----+----------------------------------------------------+-------+--------------+---+---+\n",
            "only showing top 20 rows\n",
            "\n"
          ]
        }
      ],
      "source": [
        "obfuscator = StructuredDeidentification(spark,{\"NAME\":\"PATIENT\",\"AGE\":\"AGE\"}, obfuscateRefSource = \"faker\")\n",
        "obfuscator_df = obfuscator.obfuscateColumns(df)\n",
        "obfuscator_df.show(truncate=False)"
      ]
    },
    {
      "cell_type": "code",
      "execution_count": 9,
      "metadata": {
        "id": "-GmMv8T-I0CX"
      },
      "outputs": [],
      "source": [
        "obfuscator_unique_ref_test = '''Will Perry#PATIENT\n",
        "John Smith#PATIENT\n",
        "Marvin MARSHALL#PATIENT\n",
        "Hubert GROGAN#PATIENT\n",
        "ALTHEA COLBURN#PATIENT\n",
        "Kalil AMIN#PATIENT\n",
        "Inci FOUNTAIN#PATIENT\n",
        "Jackson WILLE#PATIENT\n",
        "Jack SANTOS#PATIENT\n",
        "Mahmood ALBURN#PATIENT\n",
        "Marnie MELINGTON#PATIENT\n",
        "Aysha GHAZI#PATIENT\n",
        "Maryland CODER#PATIENT\n",
        "Darene GEORGIOUS#PATIENT\n",
        "Shelly WELLBECK#PATIENT\n",
        "Min Kun JAE#PATIENT\n",
        "Thomson THOMAS#PATIENT\n",
        "Christian SUDDINBURG#PATIENT\n",
        "Aberdeen#CITY\n",
        "Louisburg St#STREET\n",
        "France#LOC\n",
        "Nick Riviera#DOCTOR\n",
        "5552312#PHONE\n",
        "St James Hospital#HOSPITAL\n",
        "Calle del Libertador#ADDRESS\n",
        "111#ID\n",
        "Will#DOCTOR\n",
        "20#AGE\n",
        "30#AGE\n",
        "40#AGE\n",
        "50#AGE\n",
        "60#AGE\n",
        "'''\n",
        "\n",
        "with open('obfuscator_unique_ref_test.txt', 'w') as f:\n",
        "  f.write(obfuscator_unique_ref_test)"
      ]
    },
    {
      "cell_type": "code",
      "execution_count": 10,
      "metadata": {
        "id": "PTwdR034I70n",
        "colab": {
          "base_uri": "https://localhost:8080/"
        },
        "outputId": "73285765-e45f-41af-d044-1b82c1210353"
      },
      "outputs": [
        {
          "output_type": "stream",
          "name": "stdout",
          "text": [
            "+----------------------+----+\n",
            "|NAME                  |AGE |\n",
            "+----------------------+----+\n",
            "|[Christian Suddinburg]|[60]|\n",
            "|[Christian Suddinburg]|[30]|\n",
            "|[Thomson Thomas]      |[30]|\n",
            "|[Aysha Ghazi]         |[40]|\n",
            "|[Jack Santos]         |[40]|\n",
            "|[Mahmood Alburn]      |[40]|\n",
            "|[Jackson Wille]       |[60]|\n",
            "|[Maryland Coder]      |[60]|\n",
            "|[Kalil Amin]          |[60]|\n",
            "|[Kalil Amin]          |[20]|\n",
            "|[Thomson Thomas]      |[60]|\n",
            "|[Kalil Amin]          |[40]|\n",
            "|[Mahmood Alburn]      |[30]|\n",
            "|[Darene Georgious]    |[30]|\n",
            "|[Jack Santos]         |[30]|\n",
            "|[Maryland Coder]      |[60]|\n",
            "|[Darene Georgious]    |[50]|\n",
            "|[Maryland Coder]      |[30]|\n",
            "|[Mahmood Alburn]      |[20]|\n",
            "|[Thomson Thomas]      |[20]|\n",
            "+----------------------+----+\n",
            "only showing top 20 rows\n",
            "\n"
          ]
        }
      ],
      "source": [
        "# obfuscateRefSource = \"file\"\n",
        "\n",
        "obfuscator = StructuredDeidentification(spark,{\"NAME\":\"PATIENT\",\"AGE\":\"AGE\"},\n",
        "                                        obfuscateRefFile = \"/content/obfuscator_unique_ref_test.txt\",\n",
        "                                        obfuscateRefSource = \"file\",\n",
        "                                        columnsSeed={\"NAME\": 23, \"AGE\": 23})\n",
        "obfuscator_df = obfuscator.obfuscateColumns(df)\n",
        "obfuscator_df.select(\"NAME\",\"AGE\").show(truncate=False)"
      ]
    },
    {
      "cell_type": "markdown",
      "metadata": {
        "id": "w8tW5fFafQmL"
      },
      "source": [
        "We can **shift n days** in the structured deidentification through \"days\" parameter when the column is a Date."
      ]
    },
    {
      "cell_type": "code",
      "execution_count": 11,
      "metadata": {
        "id": "iBzoNufMfYCn",
        "colab": {
          "base_uri": "https://localhost:8080/"
        },
        "outputId": "f0a7a810-e6b7-4316-82a3-e2cbdddabf90"
      },
      "outputs": [
        {
          "output_type": "stream",
          "name": "stdout",
          "text": [
            "+-------------+----------+-----------------------+---+----------------+\n",
            "|NAME         |DOB       |ADDRESS                |SBP|TEL             |\n",
            "+-------------+----------+-----------------------+---+----------------+\n",
            "|Juan García  |13/02/1977|711 Nulla St.          |140|673 431234      |\n",
            "|Will Smith   |23/02/1977|1 Green Avenue.        |140|+23 (673) 431234|\n",
            "|Pedro Ximénez|11/04/1900|Calle del Libertador, 7|100|912 345623      |\n",
            "+-------------+----------+-----------------------+---+----------------+\n",
            "\n"
          ]
        }
      ],
      "source": [
        "df = spark.createDataFrame([\n",
        "            [\"Juan García\", \"13/02/1977\", \"711 Nulla St.\", \"140\", \"673 431234\"],\n",
        "            [\"Will Smith\", \"23/02/1977\", \"1 Green Avenue.\", \"140\", \"+23 (673) 431234\"],\n",
        "            [\"Pedro Ximénez\", \"11/04/1900\", \"Calle del Libertador, 7\", \"100\", \"912 345623\"]\n",
        "        ]).toDF(\"NAME\", \"DOB\", \"ADDRESS\", \"SBP\", \"TEL\")\n",
        "df.show(truncate=False)"
      ]
    },
    {
      "cell_type": "code",
      "source": [
        "obfuscator = StructuredDeidentification(spark=spark,\n",
        "                                        columns={\"NAME\": \"NAME\", \"DOB\": \"DATE\", \"TEL\": \"PHONE\"},\n",
        "                                        columnsSeed={\"NAME\": 23, \"DOB\": 23},\n",
        "                                        obfuscateRefSource=\"faker\",\n",
        "                                        days=5\n",
        "                                         )\n",
        "\n",
        "obfuscator_df = obfuscator.obfuscateColumns(df)\n",
        "obfuscator_df.show(truncate=False)"
      ],
      "metadata": {
        "colab": {
          "base_uri": "https://localhost:8080/"
        },
        "id": "4F3txy9H0rch",
        "outputId": "4179b31c-70d7-452d-fb9a-6fefd493935f"
      },
      "execution_count": 12,
      "outputs": [
        {
          "output_type": "stream",
          "name": "stdout",
          "text": [
            "+------------------+------------+-----------------------+---+------------------+\n",
            "|NAME              |DOB         |ADDRESS                |SBP|TEL               |\n",
            "+------------------+------------+-----------------------+---+------------------+\n",
            "|[Serene Colla]    |[18/02/1977]|711 Nulla St.          |140|[524 140741]      |\n",
            "|[Deirdre Plate]   |[28/02/1977]|1 Green Avenue.        |140|[+74 (524) 140741]|\n",
            "|[Ernestina Bevels]|[16/04/1900]|Calle del Libertador, 7|100|[607 418574]      |\n",
            "+------------------+------------+-----------------------+---+------------------+\n",
            "\n"
          ]
        }
      ]
    },
    {
      "cell_type": "markdown",
      "source": [
        "- `outputAsArray`: allowing control over output formatting,\n",
        "- `overwrite`:  overwriting behavior\n",
        "- `suffix` if overwring is false create new column\n",
        "with suffixing"
      ],
      "metadata": {
        "id": "mombLbvH3nQP"
      }
    },
    {
      "cell_type": "code",
      "source": [
        "obfuscator_df = obfuscator.obfuscateColumns(df, outputAsArray=False, overwrite=False, suffix=\"_obfuscated\")\n",
        "obfuscator_df.show(truncate=False)"
      ],
      "metadata": {
        "colab": {
          "base_uri": "https://localhost:8080/"
        },
        "id": "hNbHJsW50rZI",
        "outputId": "f3c053bc-f292-4d9c-eb44-dff63cae116c"
      },
      "execution_count": 13,
      "outputs": [
        {
          "output_type": "stream",
          "name": "stdout",
          "text": [
            "+-------------+----------+-----------------------+---+----------------+--------------+----------------+----------------+\n",
            "|NAME         |DOB       |ADDRESS                |SBP|TEL             |DOB_obfuscated|TEL_obfuscated  |NAME_obfuscated |\n",
            "+-------------+----------+-----------------------+---+----------------+--------------+----------------+----------------+\n",
            "|Juan García  |13/02/1977|711 Nulla St.          |140|673 431234      |18/02/1977    |920 304703      |Serene Colla    |\n",
            "|Will Smith   |23/02/1977|1 Green Avenue.        |140|+23 (673) 431234|28/02/1977    |+70 (920) 304703|Deirdre Plate   |\n",
            "|Pedro Ximénez|11/04/1900|Calle del Libertador, 7|100|912 345623      |16/04/1900    |847 036970      |Ernestina Bevels|\n",
            "+-------------+----------+-----------------------+---+----------------+--------------+----------------+----------------+\n",
            "\n"
          ]
        }
      ]
    },
    {
      "cell_type": "markdown",
      "source": [
        "Key additions include options for regional date formats `region`, selective date obfuscation `keepYear`, `keepMonth`, text length preservation `keepTextSizeForObfuscation`, `fakerLengthOffset`, gender-aware name obfuscation `genderAwareness`, and HIPAA-compliant age anonymization `ageRangesByHipaa`.  "
      ],
      "metadata": {
        "id": "RxKxFnVl3csu"
      }
    },
    {
      "cell_type": "code",
      "source": [
        "obfuscator = StructuredDeidentification(spark,\n",
        "                                        columns={\"NAME\":\"PATIENT\",\"DOB\":\"DATE\",\"TEL\":\"PHONE\"},\n",
        "                                        columnsSeed={\"PATIENT\": 23, \"DOB\": 23, \"TEL\": 23},\n",
        "                                        obfuscateRefSource = \"faker\",\n",
        "                                        days=360,\n",
        "                                        region=\"eu\",\n",
        "                                        keepYear=True,\n",
        "                                        keepTextSizeForObfuscation=True\n",
        "                                        )\n",
        "obfuscator_df = obfuscator.obfuscateColumns(df, outputAsArray=False, overwrite=False, suffix=\"_obfuscated\")\n",
        "obfuscator_df.show(truncate=False)"
      ],
      "metadata": {
        "colab": {
          "base_uri": "https://localhost:8080/"
        },
        "id": "KUyUr9mB3ab8",
        "outputId": "ebbdfdac-6992-44e9-cf22-68dbb6cb90a3"
      },
      "execution_count": 14,
      "outputs": [
        {
          "output_type": "stream",
          "name": "stdout",
          "text": [
            "+-------------+----------+-----------------------+---+----------------+--------------+----------------+---------------+\n",
            "|NAME         |DOB       |ADDRESS                |SBP|TEL             |DOB_obfuscated|TEL_obfuscated  |NAME_obfuscated|\n",
            "+-------------+----------+-----------------------+---+----------------+--------------+----------------+---------------+\n",
            "|Juan García  |13/02/1977|711 Nulla St.          |140|673 431234      |08/02/1977    |548 780987      |Hyla Flight    |\n",
            "|Will Smith   |23/02/1977|1 Green Avenue.        |140|+23 (673) 431234|18/02/1977    |+98 (548) 780987|Love Gower     |\n",
            "|Pedro Ximénez|11/04/1900|Calle del Libertador, 7|100|912 345623      |06/04/1900    |209 876598      |Larae Sailors  |\n",
            "+-------------+----------+-----------------------+---+----------------+--------------+----------------+---------------+\n",
            "\n"
          ]
        }
      ]
    },
    {
      "cell_type": "markdown",
      "source": [
        "# Structured Deidentification for Relational Database"
      ],
      "metadata": {
        "id": "A2X49hzjWzCm"
      }
    },
    {
      "cell_type": "markdown",
      "source": [
        "Let's install the MYSQL server dependencies"
      ],
      "metadata": {
        "id": "tthUpVCeYXNh"
      }
    },
    {
      "cell_type": "code",
      "source": [
        "!apt-get update -y -q\n",
        "!apt-get install -y -q mysql-server\n",
        "!pip install -q pyspark pymysql"
      ],
      "metadata": {
        "colab": {
          "base_uri": "https://localhost:8080/"
        },
        "id": "O-KNQuT8WyL6",
        "outputId": "6180d8d7-598e-476c-8333-9d74c20e6973"
      },
      "execution_count": 15,
      "outputs": [
        {
          "output_type": "stream",
          "name": "stdout",
          "text": [
            "Get:1 https://cloud.r-project.org/bin/linux/ubuntu jammy-cran40/ InRelease [3,632 B]\n",
            "Get:2 https://cli.github.com/packages stable InRelease [3,917 B]\n",
            "Hit:3 https://developer.download.nvidia.com/compute/cuda/repos/ubuntu2204/x86_64  InRelease\n",
            "Get:4 http://security.ubuntu.com/ubuntu jammy-security InRelease [129 kB]\n",
            "Hit:5 http://archive.ubuntu.com/ubuntu jammy InRelease\n",
            "Get:6 https://r2u.stat.illinois.edu/ubuntu jammy InRelease [6,555 B]\n",
            "Get:7 http://archive.ubuntu.com/ubuntu jammy-updates InRelease [128 kB]\n",
            "Hit:8 https://ppa.launchpadcontent.net/deadsnakes/ppa/ubuntu jammy InRelease\n",
            "Get:9 https://r2u.stat.illinois.edu/ubuntu jammy/main all Packages [9,374 kB]\n",
            "Hit:10 https://ppa.launchpadcontent.net/graphics-drivers/ppa/ubuntu jammy InRelease\n",
            "Get:11 http://archive.ubuntu.com/ubuntu jammy-backports InRelease [127 kB]\n",
            "Get:12 http://security.ubuntu.com/ubuntu jammy-security/universe amd64 Packages [1,287 kB]\n",
            "Hit:13 https://ppa.launchpadcontent.net/ubuntugis/ppa/ubuntu jammy InRelease\n",
            "Get:14 http://archive.ubuntu.com/ubuntu jammy-updates/multiverse amd64 Packages [69.2 kB]\n",
            "Get:15 http://archive.ubuntu.com/ubuntu jammy-updates/universe amd64 Packages [1,594 kB]\n",
            "Get:16 https://r2u.stat.illinois.edu/ubuntu jammy/main amd64 Packages [2,812 kB]\n",
            "Get:17 http://archive.ubuntu.com/ubuntu jammy-updates/restricted amd64 Packages [5,988 kB]\n",
            "Get:18 http://archive.ubuntu.com/ubuntu jammy-updates/main amd64 Packages [3,778 kB]\n",
            "Fetched 25.3 MB in 2s (10.5 MB/s)\n",
            "Reading package lists...\n",
            "W: Skipping acquire of configured file 'main/source/Sources' as repository 'https://r2u.stat.illinois.edu/ubuntu jammy InRelease' does not seem to provide it (sources.list entry misspelt?)\n",
            "Reading package lists...\n",
            "Building dependency tree...\n",
            "Reading state information...\n",
            "The following additional packages will be installed:\n",
            "  libcgi-fast-perl libcgi-pm-perl libclone-perl libencode-locale-perl\n",
            "  libfcgi-bin libfcgi-perl libfcgi0ldbl libhtml-parser-perl\n",
            "  libhtml-tagset-perl libhtml-template-perl libhttp-date-perl\n",
            "  libhttp-message-perl libio-html-perl liblwp-mediatypes-perl libmecab2\n",
            "  libprotobuf-lite23 liburi-perl mecab-ipadic mecab-ipadic-utf8 mecab-utils\n",
            "  mysql-client-8.0 mysql-client-core-8.0 mysql-server-8.0\n",
            "  mysql-server-core-8.0\n",
            "Suggested packages:\n",
            "  libdata-dump-perl libipc-sharedcache-perl libbusiness-isbn-perl libwww-perl\n",
            "  mailx tinyca\n",
            "The following NEW packages will be installed:\n",
            "  libcgi-fast-perl libcgi-pm-perl libclone-perl libencode-locale-perl\n",
            "  libfcgi-bin libfcgi-perl libfcgi0ldbl libhtml-parser-perl\n",
            "  libhtml-tagset-perl libhtml-template-perl libhttp-date-perl\n",
            "  libhttp-message-perl libio-html-perl liblwp-mediatypes-perl libmecab2\n",
            "  libprotobuf-lite23 liburi-perl mecab-ipadic mecab-ipadic-utf8 mecab-utils\n",
            "  mysql-client-8.0 mysql-client-core-8.0 mysql-server mysql-server-8.0\n",
            "  mysql-server-core-8.0\n",
            "0 upgraded, 25 newly installed, 0 to remove and 40 not upgraded.\n",
            "Need to get 29.7 MB of archives.\n",
            "After this operation, 243 MB of additional disk space will be used.\n",
            "Get:1 http://archive.ubuntu.com/ubuntu jammy-updates/main amd64 mysql-client-core-8.0 amd64 8.0.43-0ubuntu0.22.04.2 [2,706 kB]\n",
            "Get:2 http://archive.ubuntu.com/ubuntu jammy-updates/main amd64 mysql-client-8.0 amd64 8.0.43-0ubuntu0.22.04.2 [22.7 kB]\n",
            "Get:3 http://archive.ubuntu.com/ubuntu jammy/main amd64 libmecab2 amd64 0.996-14build9 [199 kB]\n",
            "Get:4 http://archive.ubuntu.com/ubuntu jammy-updates/main amd64 libprotobuf-lite23 amd64 3.12.4-1ubuntu7.22.04.4 [209 kB]\n",
            "Get:5 http://archive.ubuntu.com/ubuntu jammy-updates/main amd64 mysql-server-core-8.0 amd64 8.0.43-0ubuntu0.22.04.2 [17.8 MB]\n",
            "Get:6 http://archive.ubuntu.com/ubuntu jammy-updates/main amd64 mysql-server-8.0 amd64 8.0.43-0ubuntu0.22.04.2 [1,446 kB]\n",
            "Get:7 http://archive.ubuntu.com/ubuntu jammy/main amd64 libhtml-tagset-perl all 3.20-4 [12.5 kB]\n",
            "Get:8 http://archive.ubuntu.com/ubuntu jammy/main amd64 liburi-perl all 5.10-1 [78.8 kB]\n",
            "Get:9 http://archive.ubuntu.com/ubuntu jammy/main amd64 libhtml-parser-perl amd64 3.76-1build2 [88.4 kB]\n",
            "Get:10 http://archive.ubuntu.com/ubuntu jammy/main amd64 libcgi-pm-perl all 4.54-1 [188 kB]\n",
            "Get:11 http://archive.ubuntu.com/ubuntu jammy-updates/main amd64 libfcgi0ldbl amd64 2.4.2-2ubuntu0.1 [28.1 kB]\n",
            "Get:12 http://archive.ubuntu.com/ubuntu jammy/main amd64 libfcgi-perl amd64 0.82+ds-1build1 [22.8 kB]\n",
            "Get:13 http://archive.ubuntu.com/ubuntu jammy/main amd64 libcgi-fast-perl all 1:2.15-1 [10.5 kB]\n",
            "Get:14 http://archive.ubuntu.com/ubuntu jammy/main amd64 libclone-perl amd64 0.45-1build3 [11.0 kB]\n",
            "Get:15 http://archive.ubuntu.com/ubuntu jammy/main amd64 libencode-locale-perl all 1.05-1.1 [11.8 kB]\n",
            "Get:16 http://archive.ubuntu.com/ubuntu jammy-updates/main amd64 libfcgi-bin amd64 2.4.2-2ubuntu0.1 [11.1 kB]\n",
            "Get:17 http://archive.ubuntu.com/ubuntu jammy/main amd64 libhtml-template-perl all 2.97-1.1 [59.1 kB]\n",
            "Get:18 http://archive.ubuntu.com/ubuntu jammy/main amd64 libhttp-date-perl all 6.05-1 [9,920 B]\n",
            "Get:19 http://archive.ubuntu.com/ubuntu jammy/main amd64 libio-html-perl all 1.004-2 [15.4 kB]\n",
            "Get:20 http://archive.ubuntu.com/ubuntu jammy/main amd64 liblwp-mediatypes-perl all 6.04-1 [19.5 kB]\n",
            "Get:21 http://archive.ubuntu.com/ubuntu jammy/main amd64 libhttp-message-perl all 6.36-1 [76.8 kB]\n",
            "Get:22 http://archive.ubuntu.com/ubuntu jammy/main amd64 mecab-utils amd64 0.996-14build9 [4,850 B]\n",
            "Get:23 http://archive.ubuntu.com/ubuntu jammy/main amd64 mecab-ipadic all 2.7.0-20070801+main-3 [6,718 kB]\n",
            "Get:24 http://archive.ubuntu.com/ubuntu jammy/main amd64 mecab-ipadic-utf8 all 2.7.0-20070801+main-3 [4,384 B]\n",
            "Get:25 http://archive.ubuntu.com/ubuntu jammy-updates/main amd64 mysql-server all 8.0.43-0ubuntu0.22.04.2 [9,458 B]\n",
            "Fetched 29.7 MB in 2s (12.9 MB/s)\n",
            "Preconfiguring packages ...\n",
            "Selecting previously unselected package mysql-client-core-8.0.\n",
            "(Reading database ... 126675 files and directories currently installed.)\n",
            "Preparing to unpack .../00-mysql-client-core-8.0_8.0.43-0ubuntu0.22.04.2_amd64.deb ...\n",
            "Unpacking mysql-client-core-8.0 (8.0.43-0ubuntu0.22.04.2) ...\n",
            "Selecting previously unselected package mysql-client-8.0.\n",
            "Preparing to unpack .../01-mysql-client-8.0_8.0.43-0ubuntu0.22.04.2_amd64.deb ...\n",
            "Unpacking mysql-client-8.0 (8.0.43-0ubuntu0.22.04.2) ...\n",
            "Selecting previously unselected package libmecab2:amd64.\n",
            "Preparing to unpack .../02-libmecab2_0.996-14build9_amd64.deb ...\n",
            "Unpacking libmecab2:amd64 (0.996-14build9) ...\n",
            "Selecting previously unselected package libprotobuf-lite23:amd64.\n",
            "Preparing to unpack .../03-libprotobuf-lite23_3.12.4-1ubuntu7.22.04.4_amd64.deb ...\n",
            "Unpacking libprotobuf-lite23:amd64 (3.12.4-1ubuntu7.22.04.4) ...\n",
            "Selecting previously unselected package mysql-server-core-8.0.\n",
            "Preparing to unpack .../04-mysql-server-core-8.0_8.0.43-0ubuntu0.22.04.2_amd64.deb ...\n",
            "Unpacking mysql-server-core-8.0 (8.0.43-0ubuntu0.22.04.2) ...\n",
            "Selecting previously unselected package mysql-server-8.0.\n",
            "Preparing to unpack .../05-mysql-server-8.0_8.0.43-0ubuntu0.22.04.2_amd64.deb ...\n",
            "Unpacking mysql-server-8.0 (8.0.43-0ubuntu0.22.04.2) ...\n",
            "Selecting previously unselected package libhtml-tagset-perl.\n",
            "Preparing to unpack .../06-libhtml-tagset-perl_3.20-4_all.deb ...\n",
            "Unpacking libhtml-tagset-perl (3.20-4) ...\n",
            "Selecting previously unselected package liburi-perl.\n",
            "Preparing to unpack .../07-liburi-perl_5.10-1_all.deb ...\n",
            "Unpacking liburi-perl (5.10-1) ...\n",
            "Selecting previously unselected package libhtml-parser-perl:amd64.\n",
            "Preparing to unpack .../08-libhtml-parser-perl_3.76-1build2_amd64.deb ...\n",
            "Unpacking libhtml-parser-perl:amd64 (3.76-1build2) ...\n",
            "Selecting previously unselected package libcgi-pm-perl.\n",
            "Preparing to unpack .../09-libcgi-pm-perl_4.54-1_all.deb ...\n",
            "Unpacking libcgi-pm-perl (4.54-1) ...\n",
            "Selecting previously unselected package libfcgi0ldbl:amd64.\n",
            "Preparing to unpack .../10-libfcgi0ldbl_2.4.2-2ubuntu0.1_amd64.deb ...\n",
            "Unpacking libfcgi0ldbl:amd64 (2.4.2-2ubuntu0.1) ...\n",
            "Selecting previously unselected package libfcgi-perl:amd64.\n",
            "Preparing to unpack .../11-libfcgi-perl_0.82+ds-1build1_amd64.deb ...\n",
            "Unpacking libfcgi-perl:amd64 (0.82+ds-1build1) ...\n",
            "Selecting previously unselected package libcgi-fast-perl.\n",
            "Preparing to unpack .../12-libcgi-fast-perl_1%3a2.15-1_all.deb ...\n",
            "Unpacking libcgi-fast-perl (1:2.15-1) ...\n",
            "Selecting previously unselected package libclone-perl.\n",
            "Preparing to unpack .../13-libclone-perl_0.45-1build3_amd64.deb ...\n",
            "Unpacking libclone-perl (0.45-1build3) ...\n",
            "Selecting previously unselected package libencode-locale-perl.\n",
            "Preparing to unpack .../14-libencode-locale-perl_1.05-1.1_all.deb ...\n",
            "Unpacking libencode-locale-perl (1.05-1.1) ...\n",
            "Selecting previously unselected package libfcgi-bin.\n",
            "Preparing to unpack .../15-libfcgi-bin_2.4.2-2ubuntu0.1_amd64.deb ...\n",
            "Unpacking libfcgi-bin (2.4.2-2ubuntu0.1) ...\n",
            "Selecting previously unselected package libhtml-template-perl.\n",
            "Preparing to unpack .../16-libhtml-template-perl_2.97-1.1_all.deb ...\n",
            "Unpacking libhtml-template-perl (2.97-1.1) ...\n",
            "Selecting previously unselected package libhttp-date-perl.\n",
            "Preparing to unpack .../17-libhttp-date-perl_6.05-1_all.deb ...\n",
            "Unpacking libhttp-date-perl (6.05-1) ...\n",
            "Selecting previously unselected package libio-html-perl.\n",
            "Preparing to unpack .../18-libio-html-perl_1.004-2_all.deb ...\n",
            "Unpacking libio-html-perl (1.004-2) ...\n",
            "Selecting previously unselected package liblwp-mediatypes-perl.\n",
            "Preparing to unpack .../19-liblwp-mediatypes-perl_6.04-1_all.deb ...\n",
            "Unpacking liblwp-mediatypes-perl (6.04-1) ...\n",
            "Selecting previously unselected package libhttp-message-perl.\n",
            "Preparing to unpack .../20-libhttp-message-perl_6.36-1_all.deb ...\n",
            "Unpacking libhttp-message-perl (6.36-1) ...\n",
            "Selecting previously unselected package mecab-utils.\n",
            "Preparing to unpack .../21-mecab-utils_0.996-14build9_amd64.deb ...\n",
            "Unpacking mecab-utils (0.996-14build9) ...\n",
            "Selecting previously unselected package mecab-ipadic.\n",
            "Preparing to unpack .../22-mecab-ipadic_2.7.0-20070801+main-3_all.deb ...\n",
            "Unpacking mecab-ipadic (2.7.0-20070801+main-3) ...\n",
            "Selecting previously unselected package mecab-ipadic-utf8.\n",
            "Preparing to unpack .../23-mecab-ipadic-utf8_2.7.0-20070801+main-3_all.deb ...\n",
            "Unpacking mecab-ipadic-utf8 (2.7.0-20070801+main-3) ...\n",
            "Selecting previously unselected package mysql-server.\n",
            "Preparing to unpack .../24-mysql-server_8.0.43-0ubuntu0.22.04.2_all.deb ...\n",
            "Unpacking mysql-server (8.0.43-0ubuntu0.22.04.2) ...\n",
            "Setting up libhttp-date-perl (6.05-1) ...\n",
            "Setting up libmecab2:amd64 (0.996-14build9) ...\n",
            "Setting up mysql-client-core-8.0 (8.0.43-0ubuntu0.22.04.2) ...\n",
            "Setting up libfcgi0ldbl:amd64 (2.4.2-2ubuntu0.1) ...\n",
            "Setting up libclone-perl (0.45-1build3) ...\n",
            "Setting up libhtml-tagset-perl (3.20-4) ...\n",
            "Setting up liblwp-mediatypes-perl (6.04-1) ...\n",
            "Setting up libfcgi-bin (2.4.2-2ubuntu0.1) ...\n",
            "Setting up libencode-locale-perl (1.05-1.1) ...\n",
            "Setting up libprotobuf-lite23:amd64 (3.12.4-1ubuntu7.22.04.4) ...\n",
            "Setting up mecab-utils (0.996-14build9) ...\n",
            "Setting up libio-html-perl (1.004-2) ...\n",
            "Setting up mysql-server-core-8.0 (8.0.43-0ubuntu0.22.04.2) ...\n",
            "Setting up mysql-client-8.0 (8.0.43-0ubuntu0.22.04.2) ...\n",
            "Setting up libfcgi-perl:amd64 (0.82+ds-1build1) ...\n",
            "Setting up liburi-perl (5.10-1) ...\n",
            "Setting up libhttp-message-perl (6.36-1) ...\n",
            "Setting up mysql-server-8.0 (8.0.43-0ubuntu0.22.04.2) ...\n",
            "invoke-rc.d: could not determine current runlevel\n",
            "invoke-rc.d: policy-rc.d denied execution of stop.\n",
            "update-alternatives: using /etc/mysql/mysql.cnf to provide /etc/mysql/my.cnf (my.cnf) in auto mode\n",
            "Renaming removed key_buffer and myisam-recover options (if present)\n",
            "mysqld will log errors to /var/log/mysql/error.log\n",
            "mysqld is running as pid 3735\n",
            "Created symlink /etc/systemd/system/multi-user.target.wants/mysql.service → /lib/systemd/system/mysql.service.\n",
            "invoke-rc.d: could not determine current runlevel\n",
            "invoke-rc.d: policy-rc.d denied execution of start.\n",
            "Setting up mecab-ipadic (2.7.0-20070801+main-3) ...\n",
            "Compiling IPA dictionary for Mecab.  This takes long time...\n",
            "reading /usr/share/mecab/dic/ipadic/unk.def ... 40\n",
            "emitting double-array: 100% |###########################################| \n",
            "/usr/share/mecab/dic/ipadic/model.def is not found. skipped.\n",
            "reading /usr/share/mecab/dic/ipadic/Adverb.csv ... 3032\n",
            "reading /usr/share/mecab/dic/ipadic/Verb.csv ... 130750\n",
            "reading /usr/share/mecab/dic/ipadic/Adj.csv ... 27210\n",
            "reading /usr/share/mecab/dic/ipadic/Filler.csv ... 19\n",
            "reading /usr/share/mecab/dic/ipadic/Auxil.csv ... 199\n",
            "reading /usr/share/mecab/dic/ipadic/Noun.demonst.csv ... 120\n",
            "reading /usr/share/mecab/dic/ipadic/Conjunction.csv ... 171\n",
            "reading /usr/share/mecab/dic/ipadic/Postp.csv ... 146\n",
            "reading /usr/share/mecab/dic/ipadic/Suffix.csv ... 1393\n",
            "reading /usr/share/mecab/dic/ipadic/Noun.number.csv ... 42\n",
            "reading /usr/share/mecab/dic/ipadic/Noun.name.csv ... 34202\n",
            "reading /usr/share/mecab/dic/ipadic/Postp-col.csv ... 91\n",
            "reading /usr/share/mecab/dic/ipadic/Noun.others.csv ... 151\n",
            "reading /usr/share/mecab/dic/ipadic/Noun.csv ... 60477\n",
            "reading /usr/share/mecab/dic/ipadic/Interjection.csv ... 252\n",
            "reading /usr/share/mecab/dic/ipadic/Noun.place.csv ... 72999\n",
            "reading /usr/share/mecab/dic/ipadic/Prefix.csv ... 221\n",
            "reading /usr/share/mecab/dic/ipadic/Others.csv ... 2\n",
            "reading /usr/share/mecab/dic/ipadic/Adnominal.csv ... 135\n",
            "reading /usr/share/mecab/dic/ipadic/Noun.nai.csv ... 42\n",
            "reading /usr/share/mecab/dic/ipadic/Noun.adverbal.csv ... 795\n",
            "reading /usr/share/mecab/dic/ipadic/Noun.verbal.csv ... 12146\n",
            "reading /usr/share/mecab/dic/ipadic/Noun.proper.csv ... 27328\n",
            "reading /usr/share/mecab/dic/ipadic/Noun.adjv.csv ... 3328\n",
            "reading /usr/share/mecab/dic/ipadic/Symbol.csv ... 208\n",
            "reading /usr/share/mecab/dic/ipadic/Noun.org.csv ... 16668\n",
            "emitting double-array: 100% |###########################################| \n",
            "reading /usr/share/mecab/dic/ipadic/matrix.def ... 1316x1316\n",
            "emitting matrix      : 100% |###########################################| \n",
            "\n",
            "done!\n",
            "update-alternatives: using /var/lib/mecab/dic/ipadic to provide /var/lib/mecab/dic/debian (mecab-dictionary) in auto mode\n",
            "Setting up mecab-ipadic-utf8 (2.7.0-20070801+main-3) ...\n",
            "Compiling IPA dictionary for Mecab.  This takes long time...\n",
            "reading /usr/share/mecab/dic/ipadic/unk.def ... 40\n",
            "emitting double-array: 100% |###########################################| \n",
            "/usr/share/mecab/dic/ipadic/model.def is not found. skipped.\n",
            "reading /usr/share/mecab/dic/ipadic/Adverb.csv ... 3032\n",
            "reading /usr/share/mecab/dic/ipadic/Verb.csv ... 130750\n",
            "reading /usr/share/mecab/dic/ipadic/Adj.csv ... 27210\n",
            "reading /usr/share/mecab/dic/ipadic/Filler.csv ... 19\n",
            "reading /usr/share/mecab/dic/ipadic/Auxil.csv ... 199\n",
            "reading /usr/share/mecab/dic/ipadic/Noun.demonst.csv ... 120\n",
            "reading /usr/share/mecab/dic/ipadic/Conjunction.csv ... 171\n",
            "reading /usr/share/mecab/dic/ipadic/Postp.csv ... 146\n",
            "reading /usr/share/mecab/dic/ipadic/Suffix.csv ... 1393\n",
            "reading /usr/share/mecab/dic/ipadic/Noun.number.csv ... 42\n",
            "reading /usr/share/mecab/dic/ipadic/Noun.name.csv ... 34202\n",
            "reading /usr/share/mecab/dic/ipadic/Postp-col.csv ... 91\n",
            "reading /usr/share/mecab/dic/ipadic/Noun.others.csv ... 151\n",
            "reading /usr/share/mecab/dic/ipadic/Noun.csv ... 60477\n",
            "reading /usr/share/mecab/dic/ipadic/Interjection.csv ... 252\n",
            "reading /usr/share/mecab/dic/ipadic/Noun.place.csv ... 72999\n",
            "reading /usr/share/mecab/dic/ipadic/Prefix.csv ... 221\n",
            "reading /usr/share/mecab/dic/ipadic/Others.csv ... 2\n",
            "reading /usr/share/mecab/dic/ipadic/Adnominal.csv ... 135\n",
            "reading /usr/share/mecab/dic/ipadic/Noun.nai.csv ... 42\n",
            "reading /usr/share/mecab/dic/ipadic/Noun.adverbal.csv ... 795\n",
            "reading /usr/share/mecab/dic/ipadic/Noun.verbal.csv ... 12146\n",
            "reading /usr/share/mecab/dic/ipadic/Noun.proper.csv ... 27328\n",
            "reading /usr/share/mecab/dic/ipadic/Noun.adjv.csv ... 3328\n",
            "reading /usr/share/mecab/dic/ipadic/Symbol.csv ... 208\n",
            "reading /usr/share/mecab/dic/ipadic/Noun.org.csv ... 16668\n",
            "emitting double-array: 100% |###########################################| \n",
            "reading /usr/share/mecab/dic/ipadic/matrix.def ... 1316x1316\n",
            "emitting matrix      : 100% |###########################################| \n",
            "\n",
            "done!\n",
            "update-alternatives: using /var/lib/mecab/dic/ipadic-utf8 to provide /var/lib/mecab/dic/debian (mecab-dictionary) in auto mode\n",
            "Setting up libhtml-parser-perl:amd64 (3.76-1build2) ...\n",
            "Setting up mysql-server (8.0.43-0ubuntu0.22.04.2) ...\n",
            "Setting up libcgi-pm-perl (4.54-1) ...\n",
            "Setting up libhtml-template-perl (2.97-1.1) ...\n",
            "Setting up libcgi-fast-perl (1:2.15-1) ...\n",
            "Processing triggers for man-db (2.10.2-1) ...\n",
            "Processing triggers for libc-bin (2.35-0ubuntu3.8) ...\n",
            "/sbin/ldconfig.real: /usr/local/lib/libtcm_debug.so.1 is not a symbolic link\n",
            "\n",
            "/sbin/ldconfig.real: /usr/local/lib/libtbbbind_2_0.so.3 is not a symbolic link\n",
            "\n",
            "/sbin/ldconfig.real: /usr/local/lib/libur_loader.so.0 is not a symbolic link\n",
            "\n",
            "/sbin/ldconfig.real: /usr/local/lib/libur_adapter_level_zero.so.0 is not a symbolic link\n",
            "\n",
            "/sbin/ldconfig.real: /usr/local/lib/libtbbmalloc_proxy.so.2 is not a symbolic link\n",
            "\n",
            "/sbin/ldconfig.real: /usr/local/lib/libumf.so.0 is not a symbolic link\n",
            "\n",
            "/sbin/ldconfig.real: /usr/local/lib/libtbbmalloc.so.2 is not a symbolic link\n",
            "\n",
            "/sbin/ldconfig.real: /usr/local/lib/libtbb.so.12 is not a symbolic link\n",
            "\n",
            "/sbin/ldconfig.real: /usr/local/lib/libur_adapter_level_zero_v2.so.0 is not a symbolic link\n",
            "\n",
            "/sbin/ldconfig.real: /usr/local/lib/libtbbbind_2_5.so.3 is not a symbolic link\n",
            "\n",
            "/sbin/ldconfig.real: /usr/local/lib/libhwloc.so.15 is not a symbolic link\n",
            "\n",
            "/sbin/ldconfig.real: /usr/local/lib/libtbbbind.so.3 is not a symbolic link\n",
            "\n",
            "/sbin/ldconfig.real: /usr/local/lib/libtcm.so.1 is not a symbolic link\n",
            "\n",
            "/sbin/ldconfig.real: /usr/local/lib/libur_adapter_opencl.so.0 is not a symbolic link\n",
            "\n",
            "\u001b[2K   \u001b[90m━━━━━━━━━━━━━━━━━━━━━━━━━━━━━━━━━━━━━━━━\u001b[0m \u001b[32m45.3/45.3 kB\u001b[0m \u001b[31m1.6 MB/s\u001b[0m eta \u001b[36m0:00:00\u001b[0m\n",
            "\u001b[?25h"
          ]
        }
      ]
    },
    {
      "cell_type": "markdown",
      "source": [
        "Now let's start the mysql service"
      ],
      "metadata": {
        "id": "jRndLiR1YiJ-"
      }
    },
    {
      "cell_type": "code",
      "source": [
        "!service mysql start"
      ],
      "metadata": {
        "colab": {
          "base_uri": "https://localhost:8080/"
        },
        "id": "uhAXwLR7Yhpr",
        "outputId": "81e4eccd-31cd-41ea-fc38-1b31b6769ea5"
      },
      "execution_count": 16,
      "outputs": [
        {
          "output_type": "stream",
          "name": "stdout",
          "text": [
            " * Starting MySQL database server mysqld\n",
            "su: warning: cannot change directory to /nonexistent: No such file or directory\n",
            "   ...done.\n"
          ]
        }
      ]
    },
    {
      "cell_type": "markdown",
      "source": [
        "Define the SQL commands to reset the root password\n"
      ],
      "metadata": {
        "id": "STBJpKqeYqxL"
      }
    },
    {
      "cell_type": "code",
      "source": [
        "reset_password_sql = \"\"\"\n",
        "ALTER USER 'root'@'localhost' IDENTIFIED WITH mysql_native_password BY 'root';\n",
        "FLUSH PRIVILEGES;\n",
        "\"\"\"\n",
        "\n",
        "# Write the SQL commands to a file\n",
        "with open(\"reset_password.sql\", \"w\") as file:\n",
        "    file.write(reset_password_sql)"
      ],
      "metadata": {
        "id": "bJK6nV_VYsZS"
      },
      "execution_count": 17,
      "outputs": []
    },
    {
      "cell_type": "markdown",
      "source": [
        "Let's restart the MySQL service to take effect"
      ],
      "metadata": {
        "id": "crCFoDFMY0is"
      }
    },
    {
      "cell_type": "code",
      "source": [
        "!service mysql stop\n",
        "# Start MySQL with the init file in the background\n",
        "import time\n",
        "\n",
        "!nohup mysqld --init-file=/content/reset_password.sql > mysql_init.log 2>&1 &\n",
        "time.sleep(10)"
      ],
      "metadata": {
        "colab": {
          "base_uri": "https://localhost:8080/"
        },
        "id": "fQ7u0AOBYuit",
        "outputId": "b9bc95ef-33f6-40c5-cf63-f881e7a3ea01"
      },
      "execution_count": 18,
      "outputs": [
        {
          "output_type": "stream",
          "name": "stdout",
          "text": [
            " * Stopping MySQL database server mysqld\n",
            "   ...done.\n"
          ]
        }
      ]
    },
    {
      "cell_type": "code",
      "source": [
        "# Remove the init file\n",
        "!rm /content/reset_password.sql\n",
        "# Create the /nonexistent directory\n",
        "!mkdir /nonexistent\n",
        "!service mysql start"
      ],
      "metadata": {
        "colab": {
          "base_uri": "https://localhost:8080/"
        },
        "id": "FKMFfX1_ZAu3",
        "outputId": "c642a1fb-c4d0-422b-e336-274f33ae83f8"
      },
      "execution_count": 19,
      "outputs": [
        {
          "output_type": "stream",
          "name": "stdout",
          "text": [
            " * Starting MySQL database server mysqld\n",
            "   ...done.\n"
          ]
        }
      ]
    },
    {
      "cell_type": "markdown",
      "source": [
        "Now, we will create a clinical database to be deidentified, called `healthcare_db` with two tables: patients and appointments with a relational join between them:\n"
      ],
      "metadata": {
        "id": "fqv7dBbsZLUH"
      }
    },
    {
      "cell_type": "code",
      "source": [
        "# Create the healthcare database\n",
        "!mysql -u root -proot -e \"CREATE DATABASE healthcare_db;\"\n",
        "\n",
        "# Create the patients table\n",
        "!mysql -u root -proot -e \"USE healthcare_db; CREATE TABLE patients ( \\\n",
        "    patient_id INT AUTO_INCREMENT PRIMARY KEY, \\\n",
        "    name VARCHAR(255) NOT NULL, \\\n",
        "    address TEXT, \\\n",
        "    ssn CHAR(11) UNIQUE NOT NULL, \\\n",
        "    email VARCHAR(255) UNIQUE NOT NULL, \\\n",
        "    dob DATE NOT NULL, \\\n",
        "    age INT NOT NULL \\\n",
        ");\"\n",
        "\n",
        "# Create the appointments table with a foreign key reference to patients\n",
        "!mysql -u root -proot -e \"USE healthcare_db; CREATE TABLE appointments ( \\\n",
        "    appointment_id INT AUTO_INCREMENT PRIMARY KEY, \\\n",
        "    patient_id INT NOT NULL, \\\n",
        "    doctor_name VARCHAR(255) NOT NULL, \\\n",
        "    appointment_date DATE NOT NULL, \\\n",
        "    reason TEXT, \\\n",
        "    FOREIGN KEY (patient_id) REFERENCES patients(patient_id) \\\n",
        "    ON DELETE CASCADE ON UPDATE CASCADE \\\n",
        ");\"\n",
        "\n",
        "# Insert fake data into the patients table\n",
        "!mysql -u root -proot -e \"USE healthcare_db; INSERT INTO patients (name, address, ssn, email, dob, age) VALUES \\\n",
        "    ('John Doe', '123 Main St, Springfield', '123-45-6789', 'john.doe@example.com', '1985-04-15', 38), \\\n",
        "    ('Jane Smith', '456 Elm St, Shelbyville', '987-65-4321', 'jane.smith@example.com', '1990-07-20', 33);\"\n",
        "\n",
        "# Insert fake data into the appointments table\n",
        "!mysql -u root -proot -e \"USE healthcare_db; INSERT INTO appointments (patient_id, doctor_name, appointment_date, reason) VALUES \\\n",
        "    (1, 'Dr. Emily Carter', '2024-01-15', 'Annual Checkup'), \\\n",
        "    (2, 'Dr. Sarah Johnson', '2024-02-10', 'Flu Symptoms'), \\\n",
        "    (1, 'Dr. Emily Carter', '2024-02-15', 'Follow-up Visit'), \\\n",
        "    (1, 'Dr. James Wilson', '2024-03-20', 'Routine Blood Test');\""
      ],
      "metadata": {
        "colab": {
          "base_uri": "https://localhost:8080/"
        },
        "id": "wgHCnRzYZIYp",
        "outputId": "9ed89a3b-ae23-4f44-ccdd-be7b808a8ced"
      },
      "execution_count": 20,
      "outputs": [
        {
          "output_type": "stream",
          "name": "stdout",
          "text": [
            "mysql: [Warning] Using a password on the command line interface can be insecure.\n",
            "mysql: [Warning] Using a password on the command line interface can be insecure.\n",
            "mysql: [Warning] Using a password on the command line interface can be insecure.\n",
            "mysql: [Warning] Using a password on the command line interface can be insecure.\n",
            "mysql: [Warning] Using a password on the command line interface can be insecure.\n"
          ]
        }
      ]
    },
    {
      "cell_type": "markdown",
      "source": [
        "Reading the relational database as spark df for further processing:"
      ],
      "metadata": {
        "id": "uUPy4qnxZ0Yn"
      }
    },
    {
      "cell_type": "code",
      "source": [
        "jdbc_url = \"jdbc:mysql://localhost:3306/healthcare_db\"\n",
        "df = spark.read.format(\"jdbc\").options(\n",
        "    url=jdbc_url,\n",
        "    driver=\"com.mysql.cj.jdbc.Driver\",\n",
        "    dbtable=\"appointments\",\n",
        "    user=\"root\",\n",
        "    password=\"root\"\n",
        ").load()\n",
        "\n",
        "df.show()"
      ],
      "metadata": {
        "colab": {
          "base_uri": "https://localhost:8080/"
        },
        "id": "R674NgA_Zx0U",
        "outputId": "30e3aec7-a2c9-4d19-bb47-5e28392246c8"
      },
      "execution_count": 21,
      "outputs": [
        {
          "output_type": "stream",
          "name": "stdout",
          "text": [
            "+--------------+----------+-----------------+----------------+------------------+\n",
            "|appointment_id|patient_id|      doctor_name|appointment_date|            reason|\n",
            "+--------------+----------+-----------------+----------------+------------------+\n",
            "|             1|         1| Dr. Emily Carter|      2024-01-15|    Annual Checkup|\n",
            "|             2|         2|Dr. Sarah Johnson|      2024-02-10|      Flu Symptoms|\n",
            "|             3|         1| Dr. Emily Carter|      2024-02-15|   Follow-up Visit|\n",
            "|             4|         1| Dr. James Wilson|      2024-03-20|Routine Blood Test|\n",
            "+--------------+----------+-----------------+----------------+------------------+\n",
            "\n"
          ]
        }
      ]
    },
    {
      "cell_type": "markdown",
      "source": [
        "Now, let's import the database_deidentification utility module then setup the relational database deidentification options"
      ],
      "metadata": {
        "id": "XxfZFYrCazqu"
      }
    },
    {
      "cell_type": "code",
      "source": [
        "from sparknlp_jsl.utils.database_deidentification import *"
      ],
      "metadata": {
        "id": "JDBUdNIAmtro"
      },
      "execution_count": 22,
      "outputs": []
    },
    {
      "cell_type": "code",
      "source": [
        "config = {\n",
        "    \"db_config\": {\n",
        "        \"host\": \"localhost\",\n",
        "        \"user\": \"root\",\n",
        "        \"password\": \"root\",\n",
        "        \"database\": \"healthcare_db\"\n",
        "    },\n",
        "    \"deid_options\": {\n",
        "        \"days_to_shift\": 10,\n",
        "        \"age_groups\": {\n",
        "            \"child\": (0, 12),\n",
        "            \"teen\": (13, 19),\n",
        "            \"adult\": (20, 64),\n",
        "            \"senior\": (65, 90)\n",
        "        },\n",
        "        \"pk_fk_shift_value\": 100,\n",
        "        \"use_hipaa\": False,\n",
        "        \"output_path\": \"deidentified_output/\"\n",
        "    },\n",
        "    \"logging\": {\n",
        "        \"level\": \"INFO\",\n",
        "        \"file\": \"deidentification.log\"\n",
        "    }\n",
        "}"
      ],
      "metadata": {
        "id": "EYMVVozjn2Ca"
      },
      "execution_count": 23,
      "outputs": []
    },
    {
      "cell_type": "markdown",
      "source": [
        "Performing the structured deidentification for the clinical relational database and showing the results"
      ],
      "metadata": {
        "id": "7KnFCd-1cgCp"
      }
    },
    {
      "cell_type": "code",
      "source": [
        "deidentifier = RelationalDBDeidentification(spark, config)\n",
        "deidentifier.deidentify()"
      ],
      "metadata": {
        "id": "GpU-KdxN_ssr",
        "colab": {
          "base_uri": "https://localhost:8080/"
        },
        "outputId": "8f3885f6-947d-43f9-da35-123b36967300"
      },
      "execution_count": 24,
      "outputs": [
        {
          "output_type": "stream",
          "name": "stdout",
          "text": [
            "Original table: appointments\n",
            "+--------------+----------+-----------------+----------------+------------------+\n",
            "|appointment_id|patient_id|doctor_name      |appointment_date|reason            |\n",
            "+--------------+----------+-----------------+----------------+------------------+\n",
            "|1             |1         |Dr. Emily Carter |2024-01-15      |Annual Checkup    |\n",
            "|2             |2         |Dr. Sarah Johnson|2024-02-10      |Flu Symptoms      |\n",
            "|3             |1         |Dr. Emily Carter |2024-02-15      |Follow-up Visit   |\n",
            "|4             |1         |Dr. James Wilson |2024-03-20      |Routine Blood Test|\n",
            "+--------------+----------+-----------------+----------------+------------------+\n",
            "\n",
            "De-identified table: appointments\n",
            "+--------------+----------+-----------+----------------+------------------+\n",
            "|appointment_id|patient_id|doctor_name|appointment_date|reason            |\n",
            "+--------------+----------+-----------+----------------+------------------+\n",
            "|101           |101       |*****      |2024-01-25      |Annual Checkup    |\n",
            "|102           |102       |*****      |2024-02-20      |Flu Symptoms      |\n",
            "|103           |101       |*****      |2024-02-25      |Follow-up Visit   |\n",
            "|104           |101       |*****      |2024-03-30      |Routine Blood Test|\n",
            "+--------------+----------+-----------+----------------+------------------+\n",
            "\n",
            "Original table: patients\n",
            "+----------+----------+------------------------+-----------+----------------------+----------+---+\n",
            "|patient_id|name      |address                 |ssn        |email                 |dob       |age|\n",
            "+----------+----------+------------------------+-----------+----------------------+----------+---+\n",
            "|1         |John Doe  |123 Main St, Springfield|123-45-6789|john.doe@example.com  |1985-04-15|38 |\n",
            "|2         |Jane Smith|456 Elm St, Shelbyville |987-65-4321|jane.smith@example.com|1990-07-20|33 |\n",
            "+----------+----------+------------------------+-----------+----------------------+----------+---+\n",
            "\n",
            "De-identified table: patients\n",
            "+----------+-----+-------+-----+-----+----------+---+\n",
            "|patient_id|name |address|ssn  |email|dob       |age|\n",
            "+----------+-----+-------+-----+-----+----------+---+\n",
            "|101       |*****|*****  |*****|*****|1985-04-25|29 |\n",
            "|102       |*****|*****  |*****|*****|1990-07-30|56 |\n",
            "+----------+-----+-------+-----+-----+----------+---+\n",
            "\n"
          ]
        }
      ]
    }
  ],
  "metadata": {
    "colab": {
      "provenance": [],
      "toc_visible": true
    },
    "kernelspec": {
      "display_name": "Python 3",
      "name": "python3"
    },
    "language_info": {
      "name": "python"
    }
  },
  "nbformat": 4,
  "nbformat_minor": 0
}
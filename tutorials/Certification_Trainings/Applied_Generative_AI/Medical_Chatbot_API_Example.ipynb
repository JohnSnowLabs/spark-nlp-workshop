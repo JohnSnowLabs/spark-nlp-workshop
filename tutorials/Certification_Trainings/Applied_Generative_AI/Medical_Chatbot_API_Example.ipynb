{
  "cells": [
    {
      "cell_type": "markdown",
      "metadata": {
        "id": "rmajPtw05Y4s"
      },
      "source": [
        "# Configurations\n",
        "API access is only available for on-premise deployments.\n",
        "In order to interact with the Medical Chatbot via API you need:\n",
        "*   the URL of the API endpoint\n",
        "*   a valid API key - an admin or developer user can create that for you from the Chat UI.\n",
        "\n",
        "\n"
      ]
    },
    {
      "cell_type": "code",
      "execution_count": 1,
      "metadata": {
        "id": "ksDLsyWe5UrW"
      },
      "outputs": [],
      "source": [
        "base_URL = \"https://pre-release.chatbot.staging.johnsnowlabs.com/api/v1\""
      ]
    },
    {
      "cell_type": "code",
      "execution_count": 2,
      "metadata": {
        "colab": {
          "base_uri": "https://localhost:8080/",
          "height": 73
        },
        "id": "yHgnP4S-l4iz",
        "outputId": "d6cd3965-d0e5-4089-c2b6-5f13f8624519"
      },
      "outputs": [
        {
          "output_type": "display_data",
          "data": {
            "text/plain": [
              "<IPython.core.display.HTML object>"
            ],
            "text/html": [
              "\n",
              "     <input type=\"file\" id=\"files-599be511-1a24-44da-85ea-d0b1894ef249\" name=\"files[]\" multiple disabled\n",
              "        style=\"border:none\" />\n",
              "     <output id=\"result-599be511-1a24-44da-85ea-d0b1894ef249\">\n",
              "      Upload widget is only available when the cell has been executed in the\n",
              "      current browser session. Please rerun this cell to enable.\n",
              "      </output>\n",
              "      <script>// Copyright 2017 Google LLC\n",
              "//\n",
              "// Licensed under the Apache License, Version 2.0 (the \"License\");\n",
              "// you may not use this file except in compliance with the License.\n",
              "// You may obtain a copy of the License at\n",
              "//\n",
              "//      http://www.apache.org/licenses/LICENSE-2.0\n",
              "//\n",
              "// Unless required by applicable law or agreed to in writing, software\n",
              "// distributed under the License is distributed on an \"AS IS\" BASIS,\n",
              "// WITHOUT WARRANTIES OR CONDITIONS OF ANY KIND, either express or implied.\n",
              "// See the License for the specific language governing permissions and\n",
              "// limitations under the License.\n",
              "\n",
              "/**\n",
              " * @fileoverview Helpers for google.colab Python module.\n",
              " */\n",
              "(function(scope) {\n",
              "function span(text, styleAttributes = {}) {\n",
              "  const element = document.createElement('span');\n",
              "  element.textContent = text;\n",
              "  for (const key of Object.keys(styleAttributes)) {\n",
              "    element.style[key] = styleAttributes[key];\n",
              "  }\n",
              "  return element;\n",
              "}\n",
              "\n",
              "// Max number of bytes which will be uploaded at a time.\n",
              "const MAX_PAYLOAD_SIZE = 100 * 1024;\n",
              "\n",
              "function _uploadFiles(inputId, outputId) {\n",
              "  const steps = uploadFilesStep(inputId, outputId);\n",
              "  const outputElement = document.getElementById(outputId);\n",
              "  // Cache steps on the outputElement to make it available for the next call\n",
              "  // to uploadFilesContinue from Python.\n",
              "  outputElement.steps = steps;\n",
              "\n",
              "  return _uploadFilesContinue(outputId);\n",
              "}\n",
              "\n",
              "// This is roughly an async generator (not supported in the browser yet),\n",
              "// where there are multiple asynchronous steps and the Python side is going\n",
              "// to poll for completion of each step.\n",
              "// This uses a Promise to block the python side on completion of each step,\n",
              "// then passes the result of the previous step as the input to the next step.\n",
              "function _uploadFilesContinue(outputId) {\n",
              "  const outputElement = document.getElementById(outputId);\n",
              "  const steps = outputElement.steps;\n",
              "\n",
              "  const next = steps.next(outputElement.lastPromiseValue);\n",
              "  return Promise.resolve(next.value.promise).then((value) => {\n",
              "    // Cache the last promise value to make it available to the next\n",
              "    // step of the generator.\n",
              "    outputElement.lastPromiseValue = value;\n",
              "    return next.value.response;\n",
              "  });\n",
              "}\n",
              "\n",
              "/**\n",
              " * Generator function which is called between each async step of the upload\n",
              " * process.\n",
              " * @param {string} inputId Element ID of the input file picker element.\n",
              " * @param {string} outputId Element ID of the output display.\n",
              " * @return {!Iterable<!Object>} Iterable of next steps.\n",
              " */\n",
              "function* uploadFilesStep(inputId, outputId) {\n",
              "  const inputElement = document.getElementById(inputId);\n",
              "  inputElement.disabled = false;\n",
              "\n",
              "  const outputElement = document.getElementById(outputId);\n",
              "  outputElement.innerHTML = '';\n",
              "\n",
              "  const pickedPromise = new Promise((resolve) => {\n",
              "    inputElement.addEventListener('change', (e) => {\n",
              "      resolve(e.target.files);\n",
              "    });\n",
              "  });\n",
              "\n",
              "  const cancel = document.createElement('button');\n",
              "  inputElement.parentElement.appendChild(cancel);\n",
              "  cancel.textContent = 'Cancel upload';\n",
              "  const cancelPromise = new Promise((resolve) => {\n",
              "    cancel.onclick = () => {\n",
              "      resolve(null);\n",
              "    };\n",
              "  });\n",
              "\n",
              "  // Wait for the user to pick the files.\n",
              "  const files = yield {\n",
              "    promise: Promise.race([pickedPromise, cancelPromise]),\n",
              "    response: {\n",
              "      action: 'starting',\n",
              "    }\n",
              "  };\n",
              "\n",
              "  cancel.remove();\n",
              "\n",
              "  // Disable the input element since further picks are not allowed.\n",
              "  inputElement.disabled = true;\n",
              "\n",
              "  if (!files) {\n",
              "    return {\n",
              "      response: {\n",
              "        action: 'complete',\n",
              "      }\n",
              "    };\n",
              "  }\n",
              "\n",
              "  for (const file of files) {\n",
              "    const li = document.createElement('li');\n",
              "    li.append(span(file.name, {fontWeight: 'bold'}));\n",
              "    li.append(span(\n",
              "        `(${file.type || 'n/a'}) - ${file.size} bytes, ` +\n",
              "        `last modified: ${\n",
              "            file.lastModifiedDate ? file.lastModifiedDate.toLocaleDateString() :\n",
              "                                    'n/a'} - `));\n",
              "    const percent = span('0% done');\n",
              "    li.appendChild(percent);\n",
              "\n",
              "    outputElement.appendChild(li);\n",
              "\n",
              "    const fileDataPromise = new Promise((resolve) => {\n",
              "      const reader = new FileReader();\n",
              "      reader.onload = (e) => {\n",
              "        resolve(e.target.result);\n",
              "      };\n",
              "      reader.readAsArrayBuffer(file);\n",
              "    });\n",
              "    // Wait for the data to be ready.\n",
              "    let fileData = yield {\n",
              "      promise: fileDataPromise,\n",
              "      response: {\n",
              "        action: 'continue',\n",
              "      }\n",
              "    };\n",
              "\n",
              "    // Use a chunked sending to avoid message size limits. See b/62115660.\n",
              "    let position = 0;\n",
              "    do {\n",
              "      const length = Math.min(fileData.byteLength - position, MAX_PAYLOAD_SIZE);\n",
              "      const chunk = new Uint8Array(fileData, position, length);\n",
              "      position += length;\n",
              "\n",
              "      const base64 = btoa(String.fromCharCode.apply(null, chunk));\n",
              "      yield {\n",
              "        response: {\n",
              "          action: 'append',\n",
              "          file: file.name,\n",
              "          data: base64,\n",
              "        },\n",
              "      };\n",
              "\n",
              "      let percentDone = fileData.byteLength === 0 ?\n",
              "          100 :\n",
              "          Math.round((position / fileData.byteLength) * 100);\n",
              "      percent.textContent = `${percentDone}% done`;\n",
              "\n",
              "    } while (position < fileData.byteLength);\n",
              "  }\n",
              "\n",
              "  // All done.\n",
              "  yield {\n",
              "    response: {\n",
              "      action: 'complete',\n",
              "    }\n",
              "  };\n",
              "}\n",
              "\n",
              "scope.google = scope.google || {};\n",
              "scope.google.colab = scope.google.colab || {};\n",
              "scope.google.colab._files = {\n",
              "  _uploadFiles,\n",
              "  _uploadFilesContinue,\n",
              "};\n",
              "})(self);\n",
              "</script> "
            ]
          },
          "metadata": {}
        },
        {
          "output_type": "stream",
          "name": "stdout",
          "text": [
            "Saving APIKey.txt to APIKey.txt\n"
          ]
        }
      ],
      "source": [
        "from google.colab import files\n",
        "\n",
        "# Function to upload file\n",
        "uploaded = files.upload()\n",
        "\n",
        "# Read the content of the uploaded file into a variable x\n",
        "for filename in uploaded.keys():\n",
        "    with open(filename, 'r') as file:\n",
        "        APIKey = file.read()\n"
      ]
    },
    {
      "cell_type": "code",
      "execution_count": 3,
      "metadata": {
        "id": "g2iSvdiImeMR"
      },
      "outputs": [],
      "source": [
        "import requests\n",
        "import json\n",
        "\n",
        "headers = {\n",
        "  \"Authorization\": \"Bearer \"+ APIKey\n",
        "}"
      ]
    },
    {
      "cell_type": "markdown",
      "metadata": {
        "id": "2AiAbFOCs2UX"
      },
      "source": [
        "# Available Tools\n",
        "The Medical Chatbot is equipped with several tools, each tailored to meet different information needs and research requirements. These tools are:\n",
        "* The **Medical LLM** - Access to text generation features tuned for the medical domain.\n",
        "* **MedResearch** - Up-to-Date Medical Knowledge Base containing research results published as part of PubMed, bioRxiv, medRxiv, and many more.\n",
        "* **Web Search** - Search the web for pages relevant to a given query, which John will then use as references to generate a response. For optimal results, use concise queries.\n",
        "* **Drug Insights** -Learn about drugs, their interactions and side effects.\n",
        "* Healthcare **NLP Tools** - Access to several state-of-the-art accuracy tools, each designed for specific tasks related to medical data handling and analysis.\n",
        "\n",
        "The collectively provide a comprehensive solution for a wide range of queries."
      ]
    },
    {
      "cell_type": "code",
      "execution_count": 4,
      "metadata": {
        "colab": {
          "base_uri": "https://localhost:8080/"
        },
        "id": "vSmq_fhls2Ua",
        "outputId": "143283b1-56fc-499e-aed4-add806f66389"
      },
      "outputs": [
        {
          "output_type": "stream",
          "name": "stdout",
          "text": [
            "[\n",
            "  {\n",
            "    \"name\": \"medical_research\",\n",
            "    \"description\": \"Up-to-Date Medical Knowledge Base containing research results published as part of PubMed, bioRxiv, medRxiv, and many more.\"\n",
            "  },\n",
            "  {\n",
            "    \"name\": \"search_web\",\n",
            "    \"description\": \"Search the web for pages relevant to a given query, which John will then use as references to generate a response. For optimal results, use concise queries.\"\n",
            "  },\n",
            "  {\n",
            "    \"name\": \"deidentification\",\n",
            "    \"description\": \"Identify and mask sensitive information (PHI) in patient notes or unstructured medical text with over 99% accuracy.\"\n",
            "  },\n",
            "  {\n",
            "    \"name\": \"obfuscation\",\n",
            "    \"description\": \"Obfuscate sensitive information (PHI) in patient notes or medical text to safeguard patient privacy and adhere to regulatory requirements.\"\n",
            "  },\n",
            "  {\n",
            "    \"name\": \"ner_medical\",\n",
            "    \"description\": \"Extract medical entities or terms from user-provided text effortlessly with no arguments needed.\"\n",
            "  },\n",
            "  {\n",
            "    \"name\": \"ner_medical_oncology\",\n",
            "    \"description\": \"Extract oncological entities and their relations from clinical documentation including EHRs, medical transcripts, and oncology notes.\"\n",
            "  },\n",
            "  {\n",
            "    \"name\": \"ner_medical_posology\",\n",
            "    \"description\": \"Extract Drug, Dosage, Duration, Form, Frequency, Route, and Strength entities and their relations from patient notes.\"\n",
            "  },\n",
            "  {\n",
            "    \"name\": \"search_drug_leaflets\",\n",
            "    \"description\": \"Learn about drugs, their interactions and side effects.\"\n",
            "  },\n",
            "  {\n",
            "    \"name\": \"no_tool_available\",\n",
            "    \"description\": \"No Available Tools.\"\n",
            "  },\n",
            "  {\n",
            "    \"name\": \"extract_adverse_drug_events\",\n",
            "    \"description\": \"Identify adverse reactions of drugs (ADE) from reviews, tweets, and medical text.\"\n",
            "  },\n",
            "  {\n",
            "    \"name\": \"extract_medical_radiology\",\n",
            "    \"description\": \"Identify tests, imaging techniques, and findings within radiology reports, establish their assertion statuses and their relations.\"\n",
            "  },\n",
            "  {\n",
            "    \"name\": \"extract_social_determinants_of_health\",\n",
            "    \"description\": \"Identify socio-environmental health determinants like access to care, diet, employment, and housing from health records.\"\n",
            "  },\n",
            "  {\n",
            "    \"name\": \"extract_voice_of_the_patient\",\n",
            "    \"description\": \"Identify clinical and behavioral entities from patient-generated content, including tweets, blogs, forums, and other social media posts.\"\n",
            "  }\n",
            "]\n"
          ]
        }
      ],
      "source": [
        "import requests\n",
        "import json\n",
        "\n",
        "url = base_URL + \"/tools\"\n",
        "\n",
        "response = requests.get(url, headers=headers)\n",
        "\n",
        "output = [{'name': func['function']['name'], 'description': func['function']['description']} for func in response.json()['data']]\n",
        "print(json.dumps(output, indent=2))"
      ]
    },
    {
      "cell_type": "markdown",
      "metadata": {
        "id": "NpJSAA9cgi9M"
      },
      "source": []
    },
    {
      "cell_type": "markdown",
      "metadata": {
        "id": "sBJ7zSEQs2Ub"
      },
      "source": [
        "# Medical Text Summarization using the Medical LLM\n",
        "The Medical Chatbot can distill complex content into concise, digestible summaries. It uses advanced language processing to extract key points from lengthy medical texts, research papers, and clinical guidelines, presenting them in a clear and succinct format.\n",
        "You can prompt it to respond according to your needs.\n",
        "\n",
        "For instance:\n",
        "*   Write a 3 sentence summary of the following text:\n",
        "*   Write a short summary of the patient's note by highlighting the main complaint and the suggested treatment.\n",
        "\n",
        "\n"
      ]
    },
    {
      "cell_type": "code",
      "execution_count": 5,
      "metadata": {
        "id": "nv4WLfCjRVru"
      },
      "outputs": [],
      "source": [
        "sample_note_cardio = '''Medical Specialty:Cardiovascular / Pulmonary\n",
        "\n",
        "Sample Name: Acute Inferior Myocardial Infarction\n",
        "\n",
        "Description: Patient presents with a chief complaint of chest pain admitted to Coronary Care Unit due to acute inferior myocardial infarction.\n",
        "\n",
        "(Medical Transcription Sample Report)\n",
        "\n",
        "CHIEF COMPLAINT:  Chest pain.HISTORY OF PRESENT ILLNESS: The patient is a 40-year-old white male who presents with a chief complaint of \"chest pain\".The patient is diabetic and has a prior history of coronary artery disease. The patient presents today stating that his chest pain started yesterday evening and has been somewhat intermittent. The severity of the pain has progressively increased. He describes the pain as a sharp and heavy pain which radiates to his neck & left arm. He ranks the pain a 7 on a scale of 1-10. He admits some shortness of breath & diaphoresis. He states that he has had nausea & 3 episodes of vomiting tonight. He denies any fever or chills. He admits prior episodes of similar pain prior to his PTCA in 1995. He states the pain is somewhat worse with walking and seems to be relieved with rest. There is no change in pain with positioning. He states that he took 3 nitroglycerin tablets sublingually over the past 1 hour, which he states has partially relieved his pain. The patient ranks his present pain a 4 on a scale of 1-10. The most recent episode of pain has lasted one-hour.The patient denies any history of recent surgery, head trauma, recent stroke, abnormal bleeding such as blood in urine or stool or nosebleed.REVIEW OF SYSTEMS: All other systems reviewed & are negative.\n",
        "PAST MEDICAL HISTORY: Diabetes mellitus type II, hypertension, coronary artery disease, atrial fibrillation, status post PTCA in 1995 by Dr. Smith .SOCIAL HISTORY:  Denies alcohol or drugs. Smokes 2 packs of cigarettes per day. Works as a banker.FAMILY HISTORY:  Positive for coronary artery disease (father & brother).MEDICATIONS:  Aspirin 81 milligrams QDay. Humulin N. insulin 50 units in a.m. HCTZ 50 mg QDay. Nitroglycerin 1/150 sublingually PRN chest pain.ALLERGIES:  Penicillin.\n",
        "PHYSICAL EXAM:  The patient is a 40-year-old white male.General: The patient is moderately obese but he is otherwise well developed & well nourished. He appears in moderate discomfort but there is no evidence of distress. He is alert, and oriented to person place and circumstance. There is no evidence of respiratory distress. The patient ambulates without gait abnormality or difficulty.HEENT: Normocephalic/atraumatic head. Pupils are 2.5 mm, equal round and react to light bilaterally. Extra-ocular muscles are intact bilaterally. External auditory canals are clear bilaterally. Tympanic membranes are clear and intact bilaterally.Neck: No JVD. Neck is supple. There is free range of motion & no tenderness, thyromegaly or lymphadenopathy noted.Pharynx: Clear, no erythema, exudates or tonsillar enlargement.Chest: No chest wall tenderness to palpation. Lungs: Clear to auscultation bilaterally. Heart: irregularly-irregular rate and rhythm no murmurs gallops or rubs. Normal PMIAbdomen: Soft, non-distended. No tenderness noted. No CVAT.Skin: Warm, diaphoretic, mucous membranes moist, normal turgor, no rash noted.Extremities: No gross visible deformity, free range of motion. No edema or cyanosis. No calf/ thigh tenderness or swelling.\n",
        "COURSE IN EMERGENCY DEPARTMENT:  The patient's chest pain improved after the sublingual nitroglycerine and completely resolved with the Nitroglycerin Drip at 30 ug/Minute. He tolerated the TPA well. He was transferred to the CCU in a stable conditionPROCEDURES:10:40 PM Dr. Smith (cardiologist) apprised. He agrees with T PA per 90 minute protocol & IV nitroglycerin drip. He is to come see patient in the emergency department.10:45 PM risks & benefits of TPA discussed with patient & his family. They agree with administration of TPA and are willing to accept the risks.10:50 PM TPA started.11:20 PM Dr. Smith present in emergency department assisting with patient care.DIAGNOSTIC STUDIES:CBC: WBC 14.2, hematocrit 33.5, platelets 316\n",
        "Chem 7: Na 142, potassium 4.5, chloride 102, CO2 22.6, BUN 15, creatinine 1.2, glucose 186Serum Troponin I: 2.5Chest x-ray: Lung fields clear. No cardiomegaly or other acute findingsEKG: Atrial fibrillation with Ventricular rate of 65. Acute inferior ischemic changes noted i.e. ST elevation III & aVF (refer to EKG multimedia).Cardiac monitor: Sinus rhythm-atrial of fibrillation rate 60s-70s.TREATMENT:Heparin lock X. 2.Nasal cannula oxygen 3 liters/minute.Aspirin 5 grains chew & swallow.\n",
        "Nitroglycerin drip at 30 micrograms/minute.Cardiac monitor.TPA 90 minute protocol.Heparin IV 5000 unit bolus followed by 1000 units/hour.IMPRESSION:  Acute Inferior Myocardial Infarction.PLAN:  Patient admitted to Coronary Care Unit under the care of Dr. Smith.'''"
      ]
    },
    {
      "cell_type": "code",
      "execution_count": 6,
      "metadata": {
        "colab": {
          "base_uri": "https://localhost:8080/"
        },
        "id": "id15117Bs2Ub",
        "outputId": "3ebf9cb9-7378-4d01-c968-d690d090e5b8"
      },
      "outputs": [
        {
          "output_type": "stream",
          "name": "stdout",
          "text": [
            "Here is a summary of the patient's note:\n",
            "\n",
            "**Main Complaint:** Chest pain\n",
            "\n",
            "**Diagnosis:** Acute Inferior Myocardial Infarction (heart attack)\n",
            "\n",
            "**Treatment:**\n",
            "\n",
            "* Admitted to Coronary Care Unit (CCU)\n",
            "* Medications:\n",
            "\t+ Nasal cannula oxygen 3 liters/minute\n",
            "\t+ Aspirin 5 grains chew & swallow\n",
            "\t+ Nitroglycerin drip at 30 micrograms/minute\n",
            "\t+ Heparin IV 5000 unit bolus followed by 1000 units/hour\n",
            "* Procedures:\n",
            "\t+ TPA (tissue plasminogen activator) administered according to 90-minute protocol\n",
            "\t+ Cardiac monitoring\n"
          ]
        }
      ],
      "source": [
        "import requests\n",
        "\n",
        "url = base_URL + \"/chat/completions\"\n",
        "\n",
        "data = {\n",
        "  \"messages\": [\n",
        "    {\n",
        "      \"role\": \"user\",\n",
        "      \"content\": \"Write a short summary of the following patient's note by highlighting the main complaint, diagnosis and the suggested treatment:\\n\\n --- \\n\\n\" + sample_note_cardio\n",
        "    }\n",
        "  ]\n",
        "}\n",
        "\n",
        "response = requests.post(url, headers=headers, json=data)\n",
        "print(response.json()['content'])"
      ]
    },
    {
      "cell_type": "markdown",
      "metadata": {
        "id": "hi4uk3_Os2Uc"
      },
      "source": [
        "# Generate a response with history\n",
        "The medical chatbot understands context and can manage follow-up questions, ensuring that healthcare professionals can engage in detailed dialogues to extract specific information necessary for clinical decisions or research inquiries. Whether discussing symptoms, treatments, or the latest medical research, the chatbot’s conversational capabilities make it an effective tool for dynamic and informative exchanges."
      ]
    },
    {
      "cell_type": "code",
      "execution_count": 7,
      "metadata": {
        "colab": {
          "base_uri": "https://localhost:8080/"
        },
        "collapsed": true,
        "id": "lspBuMAIs2Uc",
        "outputId": "84dafec9-87e3-49b7-89f7-7b6d88af2511"
      },
      "outputs": [
        {
          "output_type": "execute_result",
          "data": {
            "text/plain": [
              "{'status': 'success',\n",
              " 'tool': 'medical_research',\n",
              " 'content': \"According to the provided documents, it's not recommended to take Levothyroxine (T4) simultaneously with iron supplements. \\n\\nIron supplements can reduce the absorption of Levothyroxine, leading to decreased effectiveness [Lorigo et al., 2021]. This interaction is dependent on the formulation of Levothyroxine, with the tablet formulation being more susceptible to interference than the liquid formulation [Lorigo et al., 2021].\\n\\nStudies have shown that iron supplements can lead to malabsorption of Levothyroxine, resulting in decreased levels of Thyroid Hormone (TH) [Liu et al., 2023, Wiesner et al., 2021]. To minimize this interaction, it's recommended to separate the intake of Levothyroxine and iron supplements by a certain period, although the exact duration is not specified in the provided documents.\\n\\nIn general, clinicians, patients, and pharmaceutical companies should be aware of the possible interactions between Levothyroxine and various substances, including iron supplements, to ensure optimal treatment outcomes [Liu et al., 2023].\",\n",
              " 'raw_content': \"According to the provided documents, it's not recommended to take Levothyroxine (T4) simultaneously with iron supplements. \\n\\nIron supplements can reduce the absorption of Levothyroxine, leading to decreased effectiveness [Document 1]. This interaction is dependent on the formulation of Levothyroxine, with the tablet formulation being more susceptible to interference than the liquid formulation [Document 1].\\n\\nStudies have shown that iron supplements can lead to malabsorption of Levothyroxine, resulting in decreased levels of Thyroid Hormone (TH) [Document 2, Document 3]. To minimize this interaction, it's recommended to separate the intake of Levothyroxine and iron supplements by a certain period, although the exact duration is not specified in the provided documents.\\n\\nIn general, clinicians, patients, and pharmaceutical companies should be aware of the possible interactions between Levothyroxine and various substances, including iron supplements, to ensure optimal treatment outcomes [Document 2].\",\n",
              " 'references': [{'content': 'Discussion : The proposed aim of this work was to understand how the exposure of the UV filter OMC affects the arterial tonus of pregnant women with hypothyroidism. According to Benvenga, et al. hypothyroidism is a common disorder that has a prevalence of approximately 5% and an incidence of approximately 250/100,000 per year in the adult population [43]. Oral administration of levothyroxine is the standard treatment for patients with hypothyroidism [33]. During pregnancy, supplementation with iron and folic acid is widely used and recommended in Portugal. However, several evidences indicated an interaction between iron and levothyroxine [44,45,46], which is dependent on the formulation of levothyroxine [43]. In our research, all donor mothers were under medication with folic acid during the first trimester of gestation or iron supplementation during the last trimester of gestation. Donor mothers with hypothyroidism were treated with oral levothyroxine (Euthyrox, 2.5 µg) in generic tablets formulation, according to the standard therapy for patients with hypothyroidism [33]. However, the absorption of levothyroxine appears to be reduced when the iron is present, probably due to the formation of an insoluble complex between them [46]. The simultaneous intake of levothyroxine with the oral formulation of iron leads to the need to adjust the levothyroxine dose to achieve the same levels of TH. Regarding the liquid formulation of levothyroxine, Benvenga, et al. demonstrated that it is more resistant to sequestration by calcium bicarbonate or ferrous sulphate [43] than the tablet formulation (used in this work). Thus, it would be interesting to know the levels of TH during pregnancy. Ideally, all women with hypothyroidism should be educated about the potential interaction between iron pills and levothyroxine and should be advised to avoid simultaneous intake of both [46].',\n",
              "   'label': 'Lorigo et al., 2021',\n",
              "   'title': 'UV-B Filter Octylmethoxycinnamate Alters the Vascular Contractility Patterns in Pregnant Women with Hypothyroidism'},\n",
              "  {'content': '\\n\\nPurpose:\\nLevothyroxine is a common prescribed drug. Many medications and food, however, can interfere with its bioavailability. The aim of this review was to summarize the medications, food and beverages that interact with levothyroxine and to assess their effects, mechanisms and treatments.\\n\\n\\nMethods:\\nA systematic review on interfering substances that interact with levothyroxine was performed. Web of Science, Embase, PubMed, the Cochrane library, grey literature from other sources and the lists of references were searched for human studies comparing the levothyroxine efficacy with and without interfering substances. The patient characteristics, drug classes, effects and mechanism were extracted. The NHLBI study quality assessment tools and the JBI critical appraisal checklist were used to assess the quality of included studies.\\n\\n\\nResults:\\nA total of 107 articles with 128 studies were included. Drugs interactions were revealed in calcium and iron supplements, proton pump inhibitors, bile acid sequestrants, phosphate binders, sex hormones, anticonvulsants and other drugs. Some food and beverage could also induce malabsorption. Proposed mechanisms included direct complexing, alkalization, alteration of serum thyroxine-binding globulin levels and acceleration of levothyroxine catabolism via deiodination. Dose adjustment, administration separation and discontinuation of interfering substances can eliminate the interactions. Liquid solutions and soft-gel capsules could eliminate the malabsorption due to chelation and alkalization. The qualities of most included studies were moderate.\\n\\n\\nConclusion:\\nLots of medications and food can impair the bioavailability of levothyroxine. Clinicians, patients and pharmaceutical companies should be aware of the possible interactions. Further well-designed studies are needed to provide more solid evidence on treatment and mechanisms.',\n",
              "   'label': 'Liu et al., 2023',\n",
              "   'title': 'Medications and Food Interfering with the Bioavailability of Levothyroxine: A Systematic Review.'},\n",
              "  {'content': 'Abstract : Levothyroxine (l-thyroxine, l-T4) is a drug of choice for treating congenital and primary hypothyroidism. Although clinically significant interactions between l-T4 and food can alter the safety and efficacy of the treatment, they still seem to be generally underestimated by patients, physicians and pharmacists. This review aimed to investigate the effects of meals, beverages, and dietary supplements consumption on l-T4 pharmacokinetics and pharmacodynamics, to identify the most evident interactions, and to perform the recommendations for safe co-administering of l-T4 and food. A total of 121 studies were identified following a systematic literature search adhering to PRISMA guidelines. After full-text evaluation, 63 studies were included. The results proved that l-T4 ingestion in the morning and at bedtime are equally effective, and also that the co-administration of l-T4 with food depends on the drug formulation. We found limited evidence for l-T4 interactions with coffee, soy products, fiber, calcium or iron supplements, and enteral nutrition but interestingly they all resulted in decreased l-T4 absorption. The altered l-T4 efficacy when ingested with milk, juices, papaya, aluminium-containing preparations, and chromium supplements, as well as observed enhancement effect of vitamin C on l-T4 absorption, shall be further investigated in larger, well-designed studies. Novel formulations are likely to solve the problem of coffee, calcium and iron induced malabsorption of l-T4. Maintaining a proper time interval between l-T4 and food intake, especially for coffee and calcium, or iron supplements, provides another effective method of eliminating such interactions.',\n",
              "   'label': 'Wiesner et al., 2021',\n",
              "   'title': 'Levothyroxine Interactions with Food and Dietary Supplements–A Systematic Review'},\n",
              "  {'content': 'Introduction : Levothyroxine (l-thyroxine, l-T4) is a drug of choice for treating primary hypothyroidism, which in developing countries generally occurs due to Hashimoto thyroiditis, thyroidectomy, or iodine deficiency [1]. In 2020, l-T4 was the third most often prescribed drug in the USA [2]. Interactions between l-T4 and food may affect the safety and efficacy of the treatment but are still widely underestimated by patients and health care professionals. McMillan et al. [3] surveyed hypothyroid patients to determine the factors affecting l-T4 therapy. Out of 925 participants, 51.8% used dietary supplements known to interact with l-T4, especially calcium (47.5%) and iron (11.9%), whereas 68% reported frequent (more than twice a week) intake of food and beverages rich in fiber (bran flakes, fiber bars, fiber drinks, or broccoli florets), iodine (dried seaweed, cranberries, plain yogurt, cod), or soy. The disturbing findings were that 20% of patients took l-T4 together with breakfast, lunch, or dinner, and 21.5% administered the drug less than 30 min before the meal. Simultaneously, 124 patients (13.4%) experienced difficulties in controlling their hypothyroid symptoms. Thus, the authors suggest that l-T4 interactions with food, beverages, and dietary supplements, consumed by the participants, can, at least partly, explain these facts. The study performed by Michel et al. [4] also revealed the patients’ inadequate knowledge on l-T4 proper administration schedules. Forty five patients, treated with l-T4, completed a telephone survey. Out of 21 participants, 80% ingested calcium supplements within 4 h before, or after taking l-T4, whereas 67% within 1 h. Five patients reported administering iron or magnesium supplements within less than 1 h from taking l-T4. Only two of all the participants were advised to separate supplements and l-T4 intake.',\n",
              "   'label': 'Wiesner et al., 2021',\n",
              "   'title': 'Levothyroxine Interactions with Food and Dietary Supplements–A Systematic Review'},\n",
              "  {'content': 'Levothyroxine–Coffee Interaction : Six hypothyroid and nine healthy women were administered two 100 µg l-T4 tablets swallowed with (1) coffee, (2) water, or (3) water followed by coffee 60 min later. Th authors measured average and peak incremental rise of serum T4 concentrations and time to reach maximal serum level. Compared to water, coffee significantly lowered the incremental rise of serum T4 level, both average (by 36% in thyroid patients and 29% in volunteers) and peak (by 30% and 19%, respectively). It also significantly delayed time to reach maximal serum level (by 38 and 43 min). As no significant difference was found between groups (2) and (3), it was suggested that 1h break between coffee and l-T4 is enough to prevent the interaction. Additionally, an in vitro study found coffee to be 2-times weaker than other agents, such as antacids and fiber, known to interfere with l-T4 absorption. Sindoni et al. [62] presented cases of 6 patients in whom serum TSH level failed to be normalized or suppressed. All patients, within 1.6–2.2 µg/kg daily dosage range, declared to take l-T4 tablets together with, or shortly before, their morning espresso or barley coffee. Advising patients to separate coffee and l-T4 by 1 h, helped them to achieve euthyroidism. Recently, the interaction of l-T4 with American coffee (drip coffee) was also reported. Węgrzyn [63] described a case of a 52-year-old woman who developed clinical signs of hypothyroidism after taking in the morning 175 µg of l-T4 in tablets, with a cup of drip coffee. The patient was advised to postpone drinking coffee by 1h after taking l-T4. Her TSH levels normalized in 6 weeks (from 8.27 to 0.24 mU/L). The above cases refer to l-T4 in tablets. Recent studies suggest that coffee-induced malabsorption of l-T4 can be reduced by replacing the tablets with soft gel capsules or liquid form. Vita et al. [64] assessed a 6-month study on eight patients with coffee-associated l-T4 malabsorption.',\n",
              "   'label': 'Wiesner et al., 2021',\n",
              "   'title': 'Levothyroxine Interactions with Food and Dietary Supplements–A Systematic Review'}]}"
            ]
          },
          "metadata": {},
          "execution_count": 7
        }
      ],
      "source": [
        "import requests\n",
        "\n",
        "url = base_URL + \"/chat/completions\"\n",
        "\n",
        "data = {\n",
        "  \"messages\": [\n",
        "    {\n",
        "      \"role\": \"user\",\n",
        "      \"content\": \"What is the drug prescribed for hypothyroidism?\"\n",
        "    },\n",
        "    {\n",
        "      \"role\": \"assistant\",\n",
        "      \"content\": \"The drug prescribed for hypothyroidism is Levothyroxine sodium tablets, also referred to as T4. It is used as a replacement therapy in primary, secondary, and tertiary congenital or acquired hypothyroidism.\"\n",
        "    },\n",
        "    {\n",
        "      \"role\": \"user\",\n",
        "      \"content\": \"Can I take it while on Iron Supplements?\"\n",
        "    }\n",
        "  ],\n",
        "    \"tools\": [\n",
        "         \"medical_research\"\n",
        "        ]\n",
        "\n",
        "}\n",
        "\n",
        "response = requests.post(url, headers=headers, json=data)\n",
        "response.json()"
      ]
    },
    {
      "cell_type": "markdown",
      "metadata": {
        "id": "E2csrNpHs2Uc"
      },
      "source": [
        "# Medical question answering with automatic tool selection\n",
        "\n",
        "When all tools are enabled, the Medical Chatbot will automatically choose the one to use for answering the question asked by the user."
      ]
    },
    {
      "cell_type": "code",
      "execution_count": 8,
      "metadata": {
        "colab": {
          "base_uri": "https://localhost:8080/"
        },
        "collapsed": true,
        "id": "ax1o6-F3s2Uc",
        "outputId": "78114551-7e50-453e-d618-f9e277d7ad84"
      },
      "outputs": [
        {
          "output_type": "execute_result",
          "data": {
            "text/plain": [
              "{'status': 'success',\n",
              " 'tool': 'medical_research',\n",
              " 'content': 'The best treatment for diabetes involves a multi-faceted approach, including lifestyle modifications and pharmacological interventions. According to [Gariani et al., 2022], metformin remains the cornerstone of type 2 diabetes treatment after lifestyle modifications. Additionally, SGLT2 inhibitors and GLP-1 receptor agonists are recommended as the next line of treatment, as they have shown cardiovascular and renal benefits in dedicated studies.\\n\\nIn terms of specific treatment options, [Nakamura et al., 2022] suggests that SGLT2 inhibitors are currently one of the most effective treatments for heart failure associated with diabetes. Furthermore, [Alam et al., 2021] mentions that metformin is often combined with other agents such as α-glucosidase inhibitors, GLP-1 agonists, SGLT-2 inhibitors, DPP4 inhibitors, or thiazolidinediones, depending on the patient\\'s medical condition.\\n\\nIt\\'s also worth noting that electroacupuncture may be a useful adjunctive therapy, as suggested by [Ebrahimi et al., 2020]. This study found that combining electroacupuncture with glibenclamide led to improved glucose-lowering effects and increased islet volume compared to single therapies.\\n\\nOverall, the best treatment for diabetes likely involves a personalized approach that takes into account individual patient needs and circumstances. While there is no single \"best\" treatment, a comprehensive strategy incorporating lifestyle modifications, metformin, and additional pharmacological agents as necessary appears to be the most effective way to manage the disease.',\n",
              " 'raw_content': 'The best treatment for diabetes involves a multi-faceted approach, including lifestyle modifications and pharmacological interventions. According to [Document 1], metformin remains the cornerstone of type 2 diabetes treatment after lifestyle modifications. Additionally, SGLT2 inhibitors and GLP-1 receptor agonists are recommended as the next line of treatment, as they have shown cardiovascular and renal benefits in dedicated studies.\\n\\nIn terms of specific treatment options, [Document 3] suggests that SGLT2 inhibitors are currently one of the most effective treatments for heart failure associated with diabetes. Furthermore, [Document 4] mentions that metformin is often combined with other agents such as α-glucosidase inhibitors, GLP-1 agonists, SGLT-2 inhibitors, DPP4 inhibitors, or thiazolidinediones, depending on the patient\\'s medical condition.\\n\\nIt\\'s also worth noting that electroacupuncture may be a useful adjunctive therapy, as suggested by [Document 5]. This study found that combining electroacupuncture with glibenclamide led to improved glucose-lowering effects and increased islet volume compared to single therapies.\\n\\nOverall, the best treatment for diabetes likely involves a personalized approach that takes into account individual patient needs and circumstances. While there is no single \"best\" treatment, a comprehensive strategy incorporating lifestyle modifications, metformin, and additional pharmacological agents as necessary appears to be the most effective way to manage the disease.',\n",
              " 'references': [{'content': 'Diabetes is a rapidly evolving discipline ; numerous new molecules are available and recommendations regarding treatment change. However, these rapid changes are sometimes difficult to follow for general practitioners. Metformin remains the cornerstone of type 2 diabetes treatment after lifestyle modifications, which should always be encouraged before medications. Currently, the best classes to add after metformin are SGLT2 inhibitors and GLP-1 receptor agonists, as these molecules showed some cardiovascular and renal beneficial effects in dedicated studies. The aim of this article is to guide the general practitioner in choosing the most suitable pharmacological treatment for each patient, in light of the novelties in the field of diabetes that appeared during the year 2021.',\n",
              "   'label': 'Gariani et al., 2022',\n",
              "   'title': '[News in diabetology 2021].'},\n",
              "  {'content': 'Novel studies have increased our knowledge regarding optimal treatment options in diabetes. Key studies that have broadened our knowledge about optimal treatment options in diabetes in recent years are cardiovascular outcome trials (CVOTs) and studies investigating aspects of digitalisation and monitoring of glucose (e.g. PDM-ProValue). We aimed at highlighting similarities between the two important pillars for a successful diabetes management. We emphasise the need for a consideration of both approaches in future clinical trial designs and protocols.',\n",
              "   'label': 'Fritzen et al., 2019',\n",
              "   'title': 'PDM-ProValue meets cardiovascular outcome trials in diabetes'},\n",
              "  {'content': 'Conclusions : The pathophysiology of diabetic cardiomyopathy and treatments for heart failure with diabetes reported so far are presented in this review. Treatment with an SGLT2 inhibitor is currently one of the most effective treatments for heart failure associated with diabetes. However, an effective treatment for the lipotoxicity of the myocardium has not been established, and the establishment of an effective treatment is needed in the future.',\n",
              "   'label': 'Nakamura et al., 2022',\n",
              "   'title': 'Pathophysiology and Treatment of Diabetic Cardiomyopathy and Heart Failure in Patients with Diabetes Mellitus'},\n",
              "  {'content': 'Recent Technologies for Combating Diabetes, Management of Diabetes : Biguanide (metformin) and Thiazolidinedione type drugs are most frequently used against insulin-resistant T2DM and in some cases, they are even used together in combination [109]. Speaking of combination drugs, metformin is reportedly the most commonly used antidiabetic combination drug, and it is used in combination with either α–glucosidase inhibitors or GLP-1 agonists, SGLT-2 inhibitors, DPP4 inhibitors, or thiazolidinedione depending on the patient’s medical condition [110]. The complex nature of diabetes makes it difficult to develop effective treatment strategies as the etiology of the disease can differ from patient to patient. A universal cure for the disease is highly sought after in studies of the etiology of diabetes, as the cure is hardly feasible. In type 2 diabetes the inability of cells to intake glucose from the blood can be due to genetic mutations or desensitization of receptors which makes developing treatment strategies harder compared to type 1 patients. Unfortunately, recent studies propose that insulin therapy in type 1 patients can lead to developing type 2 diabetes due to desensitization [120], which makes it an important time for finding a cure or alternative treatment methods. Several treatments have been developed so far for diabetes, with a majority of them being focused on type 1 diabetes. As the most common etiology of type 1 diabetes is damaged or dysfunctional islets of Langerhans cells, various treatment methods prioritized reconstructing or inserting functional islets of Langerhans cells in the patient’s body which will liberate the patient from needing external insulin and terminate any possibility of developing type 2 diabetes from type 1 and any other side effect of external insulin ingestion. Advancement of stem cell technology has been a boon for researchers in developing a subsequent cure for type 1 diabetes [121].',\n",
              "   'label': 'Alam et al., 2021',\n",
              "   'title': 'Diabetes Mellitus: Insights from Epidemiology, Biochemistry, Risk Factors, Diagnosis, Complications and Comprehensive Management'},\n",
              "  {'content': '\\n\\nBACKGROUND:\\nDiabetes lowers the quality of life and leads to several complications.\\xa0Glibenclamide is a commonly used step-two treatment in diabetes but it causes weight gain, hypoglycemia and cardiovascular problems. Electroacupuncture (EA) can enhance insulin sensitivity and reduce blood glucose levels.\\n\\n\\nOBJECTIVES:\\nTo compare the effects of EA plus glibenclamide (G) with single therapy by G or EA on blood glucose, pancreas volume, islet volume, ratio of islet volume to pancreas volume, apoptotic and beta cells numbers and body weight in diabetic rats.\\n\\n\\nMETHODS:\\nSixty adult male Wistar rats were randomly divided to 10 groups: 2 non-diabetic control groups and 8 diabetic groups (1 control and 7 experimental groups; D/G 2.5, D/G 5, D/G 10 mg/kg, EA, D/EA/G 2.5, D/EA/G 5, and D/EA/G 10). Diabetes was induced by intraperitoneal injection of 35 mg/kg streptozotocin with high-fat diet. At the end of the course, blood samples were obtained and pancreases were dissected.\\n\\n\\nRESULTS:\\nEA was as effective as D/G 5 and D/G 10 in all outcomes. Combination therapy of EA and glibenclamide 5 and 10 mg/kg resulted in a better glucose-lowering effect, greater islet volume and ratio of islet volume to pancreas volume than single therapies (P < .05). EA increased the pancreas volume as much as the combination therapies (P > .05).\\n\\n\\nCONCLUSION:\\nCombination of EA and glibenclamide 5 showed the best effects on blood glucose, islet volume and ratio of islet to pancreas volume. Combination of EA and glibenclamide 2.5 illustrated the best effects on apoptotic and beta cell number of diabetic rats.',\n",
              "   'label': 'Ebrahimi et al., 2020',\n",
              "   'title': 'Comparing The Effect Of Electroacupuncture And Glibenclamide On Blood Glucose Level And Histological Markers Of Pancreas In Streptozotocin-Induced Diabetic Rats.'}]}"
            ]
          },
          "metadata": {},
          "execution_count": 8
        }
      ],
      "source": [
        "import requests\n",
        "\n",
        "url = base_URL + \"/chat/completions\"\n",
        "\n",
        "data = {\n",
        "  \"messages\": [\n",
        "    {\n",
        "      \"role\": \"user\",\n",
        "      \"content\": \"What is the best treatment for diabetes?\"\n",
        "    }\n",
        "  ],\n",
        "  \"tools\": [\n",
        "    \"medical_research\",\n",
        "    \"search_web\",\n",
        "    \"deidentification\",\n",
        "    \"obfuscation\",\n",
        "    \"ner_medical\",\n",
        "    \"ner_medical_oncology\",\n",
        "    \"ner_medical_posology\"\n",
        "  ]\n",
        "}\n",
        "\n",
        "response = requests.post(url, headers=headers, json=data)\n",
        "response.json()"
      ]
    },
    {
      "cell_type": "markdown",
      "metadata": {
        "id": "827VP_AMzSFl"
      },
      "source": [
        "# Web Search\n",
        "Web search integration allows the chatbot to access the most current information available on the internet, including news, scientific research, and other dynamically changing data. This is particularly crucial in fields like medicine, where new research findings and medical guidelines frequently emerge."
      ]
    },
    {
      "cell_type": "code",
      "execution_count": 9,
      "metadata": {
        "colab": {
          "base_uri": "https://localhost:8080/"
        },
        "id": "Cv_GF-sts2Ud",
        "outputId": "f5532073-686c-4288-8673-da891ab23564"
      },
      "outputs": [
        {
          "output_type": "execute_result",
          "data": {
            "text/plain": [
              "{'status': 'success',\n",
              " 'tool': 'search_web',\n",
              " 'content': 'Based on the provided text, there is no explicit mention of Ozempic being available or not available in Romania. However, it is mentioned that foreigners, including those from Bulgaria, Serbia, Romania, Turkey, US, France, and Italy, are buying Ozempic in bulk from Greece due to its lower price. This suggests that Ozempic might be available in Romania, but it is not explicitly confirmed.',\n",
              " 'raw_content': 'Based on the provided text, there is no explicit mention of Ozempic being available or not available in Romania. However, it is mentioned that foreigners, including those from Bulgaria, Serbia, Romania, Turkey, US, France, and Italy, are buying Ozempic in bulk from Greece due to its lower price. This suggests that Ozempic might be available in Romania, but it is not explicitly confirmed.',\n",
              " 'references': [{'content': \"The full EPAR for Ozempic can be found on the Agency's website: ema.europa.eu/Find medicine/Human medicines/European public assessment reports. For more ...\",\n",
              "   'label': 'Ozempic | European Medicines Agency - European Union',\n",
              "   'title': 'Ozempic | European Medicines Agency - European Union',\n",
              "   'url': 'https://www.ema.europa.eu/en/medicines/human/EPAR/ozempic'},\n",
              "  {'content': '... Ozempic in bulk, since its price in Greece is lower, with buyers from Bulgaria, Serbia, Romania, Turkey, US, France and Italy. “In Greece ...',\n",
              "   'label': 'Ozempic frenzy grips Greece as well - eKathimerini.com',\n",
              "   'title': 'Ozempic frenzy grips Greece as well - eKathimerini.com',\n",
              "   'url': 'https://www.ekathimerini.com/news/1239683/ozempic-frenzy-grips-greece-as-well/'},\n",
              "  {'content': 'In Europe, Wegovy and Ozempic are only available on prescription. While Ozempic has been available since 2018 for diabetes, weight loss ...\\nMissing: Romania | Show results with:Romania',\n",
              "   'label': 'Weight loss drugs: Fake Ozempic and Wegovy surge in Europe',\n",
              "   'title': 'Weight loss drugs: Fake Ozempic and Wegovy surge in Europe',\n",
              "   'url': 'https://www.politico.eu/article/health-fake-weight-loss-drugs-ozempic-and-wegovy-surge-in-europe/'},\n",
              "  {'content': 'Ozempic is a GLP-1 medication that can aid weight loss. Get an Ozempic prescription online from Ro. Read Important Safety Information and Boxed Warning.',\n",
              "   'label': 'Ozempic® Prescription Online for Weight Loss - Ro',\n",
              "   'title': 'Ozempic® Prescription Online for Weight Loss - Ro',\n",
              "   'url': 'https://ro.co/weight-loss/ozempic/'},\n",
              "  {'content': 'Novo Nordisk has warned that starter kits of its popular diabetes drug Ozempic will still not be available in Germany during the second ...\\nMissing: Romania | Show results with:Romania',\n",
              "   'label': 'Novo says Ozempic starter kits still not available in Germany in Q2',\n",
              "   'title': 'Novo says Ozempic starter kits still not available in Germany in Q2',\n",
              "   'url': 'https://www.reuters.com/business/healthcare-pharmaceuticals/novo-says-ozempic-starter-kits-still-not-available-germany-q2-2024-04-03/'}]}"
            ]
          },
          "metadata": {},
          "execution_count": 9
        }
      ],
      "source": [
        "import requests\n",
        "\n",
        "url = base_URL + \"/chat/completions\"\n",
        "\n",
        "data = {\n",
        "  \"messages\": [\n",
        "    {\n",
        "      \"role\" : \"user\",\n",
        "      # \"content\": \"What are the drugs approved by FDA in June and July 2024 and what do they treat?\"\n",
        "      \"content\" : \"Is ozempic available in Romania?\"\n",
        "    }\n",
        "  ],\n",
        "  \"tools\": [\n",
        "    \"search_web\"\n",
        "  ]\n",
        "}\n",
        "\n",
        "response = requests.post(url, headers=headers, json=data)\n",
        "response.json()"
      ]
    },
    {
      "cell_type": "markdown",
      "metadata": {
        "id": "3B97oxyEs2Ud"
      },
      "source": [
        "# Using Healthcare NLP Tools\n",
        "The Medical Chatbot is equipped with several NLP tools, each tailored to meet different information needs and research requirements. These tools are:\n",
        "\n",
        "\n",
        "|Tool Name                    |Description                                                                                                                                                 |\n",
        "|-----------------------------|------------------------------------------------------------------------------------------------------------------------------------------------------------|\n",
        "|oncology                     |Extract oncological entities and their relations from clinical documentation including EHRs, medical transcripts, and oncology notes.                       |\n",
        "|posology                     |Extract Drug, Dosage, Duration, Form, Frequency, Route, and Strength entities and their relations from patient notes.                                       |\n",
        "|adverse_drug_event           |Identify adverse reactions of drugs (ADE) from reviews, tweets, and medical text.                                                                           |\n",
        "|radiology                    |Identify tests, imaging techniques, and findings within radiology reports, establish their assertion statuses and their relations.                          |\n",
        "|social_determinants_of_health|Identify socio-environmental health determinants like access to care, diet, employment, and housing from health records.                                    |\n",
        "|voice_of_the_patient         |Identify clinical and behavioral entities from patient-generated content, including tweets, blogs, forums, and other social media posts.                    |\n",
        "|medical                      |Extract medical entities or terms from user-provided text effortlessly with no arguments needed.                                                            |\n",
        "|deidentification             |Identify and mask sensitive information (PHI) in patient notes or unstructured medical text with over 99% accuracy.                                         |\n",
        "|obfuscation                  |Obfuscate sensitive information (PHI) in patient notes or medical text to safeguard patient privacy and adhere to regulatory requirements.                  |\n",
        "                                                         |\n",
        "\n",
        "To force the Medical Chatbot to use a specific tool add it as unique option on the tools list int the request sent to completions endpoint.\n"
      ]
    },
    {
      "cell_type": "markdown",
      "metadata": {
        "id": "Cx3_Y1Gyz6em"
      },
      "source": [
        "## Clinical De-identification"
      ]
    },
    {
      "cell_type": "code",
      "execution_count": 10,
      "metadata": {
        "id": "2xewaUx90BZW"
      },
      "outputs": [],
      "source": [
        "phi_text = '''\n",
        "Record date: 2069-04-07\n",
        "Mr. Villegas is seen today.  I have not seen him since November.\n",
        "About three weeks ago he stopped his Prednisone on his own because\n",
        "he was gaining weight.  He does feel that his shoulders are\n",
        "definitely improved.\n",
        "On examination today, BP 120/80.  His joint examination is much\n",
        "improved with better ROM of the shoulders and no peripheral joint\n",
        "synovitis.\n",
        "Clinical Impression:\n",
        "1:  Inflammatory arthritis - possibly RA - with response noted to\n",
        "Hydroxychloroquine along with Prednisone.  He has stopped the\n",
        "Prednisone, and I would not restart it yet.\n",
        "2:  New onset of symptoms suspicious for right-sided carotid\n",
        "disease.  Will arrange for carotid ultrasound studies.  Patient\n",
        "advised to call me if he develops any worsening symptoms.\n",
        "Xzavian G. Tavares, M.D.\n",
        "XGT:holmes\n",
        "DD: 04/07/69\n",
        "DT: 04/15/69\n",
        "DV: 04/07/69\n",
        "'''"
      ]
    },
    {
      "cell_type": "code",
      "execution_count": 11,
      "metadata": {
        "colab": {
          "base_uri": "https://localhost:8080/"
        },
        "id": "YCgODfVu0AJf",
        "outputId": "d1fdb4c4-7153-40f0-b4a5-12e1ab1639f6"
      },
      "outputs": [
        {
          "output_type": "stream",
          "name": "stdout",
          "text": [
            "Record date: <DATE>\n",
            "Mr. <NAME> is seen today.\n",
            "I have not seen him since <DATE>.\n",
            "About three weeks ago he stopped his Prednisone on his own because\n",
            "he was gaining weight.\n",
            "He does feel that his shoulders are\n",
            "definitely improved.\n",
            "On examination today, BP 120/80.\n",
            "His joint examination is much\n",
            "improved with better ROM of the shoulders and no peripheral joint\n",
            "synovitis.\n",
            "Clinical Impression:\n",
            "1:  Inflammatory arthritis - possibly RA - with response noted to\n",
            "Hydroxychloroquine along with Prednisone.\n",
            "He has stopped the\n",
            "Prednisone, and I would not restart it yet.\n",
            "2:  New onset of symptoms suspicious for right-sided carotid\n",
            "disease.\n",
            "Will arrange for carotid ultrasound studies.\n",
            "Patient\n",
            "advised to call me if he develops any worsening symptoms.\n",
            "<NAME>\n",
            "<NAME>, M.D.\n",
            "<USERNAME>\n",
            "DD: <DATE>\n",
            "DT: <DATE>\n",
            "DV: <DATE>\n"
          ]
        }
      ],
      "source": [
        "import requests\n",
        "\n",
        "url = base_URL + \"/chat/completions\"\n",
        "\n",
        "data = {\n",
        "  \"messages\": [\n",
        "    {\n",
        "      \"role\": \"user\",\n",
        "      \"content\": phi_text\n",
        "    }\n",
        "  ],\n",
        "  \"tools\": [\n",
        "    \"deidentification\"\n",
        "  ]\n",
        "}\n",
        "\n",
        "response = requests.post(url, headers=headers, json=data)\n",
        "output = response.json()\n",
        "print(output['content'])"
      ]
    },
    {
      "cell_type": "markdown",
      "metadata": {
        "id": "31NCbAHUzeEz"
      },
      "source": [
        "## Extract oncological entities from patient notes"
      ]
    },
    {
      "cell_type": "code",
      "execution_count": 12,
      "metadata": {
        "id": "TOyzV8K1TPQn"
      },
      "outputs": [],
      "source": [
        "oncology_note ='''Sample Name: Lung Cancer & MI - Hospice Cosult\n",
        "\n",
        "Description: Patient with metastatic non-small-cell lung cancer, on hospice with inferior ST-elevation MI. The patient from prior strokes has expressive aphasia, is not able to express herself in a clear meaningful fashion.\n",
        "\n",
        "\n",
        "REASON FOR CONSULT:  I was asked to see this patient with metastatic non-small-cell lung cancer, on hospice with inferior ST-elevation MI.HISTORY OF PRESENT ILLNESS:  The patient from prior strokes has expressive aphasia, is not able to express herself in a clear meaningful fashion. Her daughter who accompanies her is very attentive whom I had met previously during drainage of a malignant hemorrhagic pericardial effusion last month. The patient has been feeling well for the last several weeks, per the daughter, but today per the personal aide, became agitated and uncomfortable at about 2:30 p.m. At about 7 p.m., the patient began vomiting, was noted to be short of breath by her daughter with garbled speech, arms flopping, and irregular head movements. Her daughter called 911 and her symptoms seemed to improve. Then, she began vomiting. When the patient's daughter asked her if she had chest pain, the patient said yes.She came to the emergency room, an EKG showed inferior ST-elevation MI. I was called immediately and knowing her history, especially, her hospice status with recent hemorrhagic pericardial effusion, I felt thrombolytic was contraindicated and she would not be a candidate for aggressive interventional therapy with PCI/CABG. She was begun after discussion with the oncologist, on heparin drip and has received morphine, nitro, and beta-blocker, and currently states that she is pain free. Repeat EKG shows normalization of her ST elevation in the inferior leads as well as normalization of prior reciprocal changes.PAST MEDICAL HISTORY:  Significant for metastatic non-small-cell lung cancer. In early-to-mid December, she had an admission and was found to have a malignant pericardial effusion with tamponade requiring urgent drainage. We did repeat an echo several weeks later and that did not show any recurrence of the pericardial effusion. She is on hospice from the medical history, atrial fibrillation, hypertension, history of multiple CVA.MEDICATIONS:  Medications as an outpatient:1. Amiodarone 200 mg once a day.\n",
        "2. Roxanol concentrate 5 mg three hours p.r.n. pain.ALLERGIES: CODEINE. NO SHRIMP, SEAFOOD, OR DYE ALLERGY.FAMILY HISTORY:  Negative for cardiac disease.SOCIAL HISTORY:  She does not smoke cigarettes. She uses alcohol. No use of illicit drugs. She is divorced and lives with her daughter. She is a retired medical librarian from Florida.REVIEW OF SYSTEMS: Unable to be obtained due to the patient's aphasia.\n",
        "PHYSICAL EXAMINATION:  Height 5 feet 3, weight of 106 pounds, temperature 97.1 degrees, blood pressure ranges from 138/82 to 111/87, pulse 61, respiratory rate 22. O2 saturation 100%. On general exam, she is an elderly woman with now marked aphasia, which per her daughter waxes and wanes, was more pronounced and she nods her head up and down when she says the word, no, and conversely, she nods her head side-to-side when she uses the word yes with some discordance in her head gestures with vocalization. HEENT shows the cranium is normocephalic and atraumatic. She has dry mucosal membrane. She now has a right facial droop, which per her daughter is new. Neck veins are not distended. No carotid bruits visible. Skin: Warm, well perfused. Lungs are clear to auscultation anteriorly. No wheezes. Cardiac exam: S1, S2, regular rate. No significant murmurs. PMI is nondisplaced. Abdomen: Soft, nondistended. Extremities: Without edema, on limited exam. Neurological exam seems to show only the right facial droop.DIAGNOSTIC/LABORATORY DATA:  EKGs as reviewed above. Her last ECG shows normalization of prior ST elevation in the inferior leads with Q waves and first-degree AV block, PR interval 280 milliseconds. Further lab shows sodium 135, potassium 4.2, chloride 98, bicarbonate 26, BUN 9, creatinine 0.8, glucose 162, troponin 0.17, INR 1.27, white blood cell count 1.3, hematocrit 31, platelet count of 179.Chest x-ray, no significant pericardial effusion.IMPRESSION:  The patient is a 69-year-old woman with metastatic non-small-cell lung cancer with a recent hemorrhagic pericardial effusion, now admitted with cerebrovascular accident and transient inferior myocardial infarction, which appears to be canalized. I will discuss this in detail with the patient and her daughter, and clearly, her situation is quite guarded with likely poor prognosis, which they are understanding of.RECOMMENDATIONS:1. I think it is reasonable to continue heparin, but clearly she would be at risk for hemorrhagic pericardial effusion recurrence.\n",
        "2. Morphine is appropriate, especially for preload reduction and other comfort measures as appropriate.3. Would avoid other blood thinners including Plavix, Integrilin, and certainly, she is not a candidate for a thrombolytic with which the patient and her daughter are in agreement with after a long discussion.Other management as per the medical service. I have discussed the case with Dr. X of the hospitalist service who will be admitting the patient.\n",
        "\n",
        "'''"
      ]
    },
    {
      "cell_type": "code",
      "execution_count": 13,
      "metadata": {
        "id": "mp_uPNNdTGby"
      },
      "outputs": [],
      "source": [
        "import requests\n",
        "\n",
        "url = base_URL + \"/chat/completions\"\n",
        "\n",
        "data = {\n",
        "  \"messages\": [\n",
        "    {\n",
        "      \"role\": \"user\",\n",
        "      \"content\": oncology_note\n",
        "    }\n",
        "  ],\n",
        "  \"tools\": [\n",
        "    \"ner_medical_oncology\"\n",
        "  ]\n",
        "}\n",
        "\n",
        "response = requests.post(url, headers=headers, json=data)\n",
        "output = response.json()\n"
      ]
    },
    {
      "cell_type": "code",
      "execution_count": 14,
      "metadata": {
        "colab": {
          "base_uri": "https://localhost:8080/",
          "height": 677
        },
        "id": "QM7fY8VHmuuC",
        "outputId": "f2ca9a88-6811-4069-8c5f-aa308359523c"
      },
      "outputs": [
        {
          "output_type": "display_data",
          "data": {
            "text/plain": [
              "<IPython.core.display.HTML object>"
            ],
            "text/html": [
              "<div class=\"visualization\"> <span class=\"spark-nlp-display-others\">Sample </span><span class=\"spark-nlp-display-entity-wrapper\" style=\"background-color: #970201B3\"><span class=\"spark-nlp-display-entity-name\">Name: Lung Cancer </span><span class=\"spark-nlp-display-entity-type\">Oncological</span><span class=\"spark-nlp-display-entity-resolution\" style=\"background-color: #970201FF\">Present </span></span><span class=\"spark-nlp-display-others\"> & MI - Hospice Cosult<br><br>Description: Patient with </span><span class=\"spark-nlp-display-entity-wrapper\" style=\"background-color: #970201B3\"><span class=\"spark-nlp-display-entity-name\">metastatic non-small-cell lung cancer </span><span class=\"spark-nlp-display-entity-type\">Oncological</span><span class=\"spark-nlp-display-entity-resolution\" style=\"background-color: #970201FF\">Present </span></span><span class=\"spark-nlp-display-others\">, on hospice with inferior ST-elevation MI. The patient from prior strokes has expressive aphasia, is not able to express </span><span class=\"spark-nlp-display-entity-wrapper\" style=\"background-color: #ffacb7B3\"><span class=\"spark-nlp-display-entity-name\">herself </span><span class=\"spark-nlp-display-entity-type\">Gender</span><span class=\"spark-nlp-display-entity-resolution\" style=\"background-color: #ffacb7FF\">Present </span></span><span class=\"spark-nlp-display-others\"> in a clear meaningful fashion.<br><br><br>REASON FOR CONSULT:  I was asked to see this patient with </span><span class=\"spark-nlp-display-entity-wrapper\" style=\"background-color: #970201B3\"><span class=\"spark-nlp-display-entity-name\">metastatic non-small-cell lung cancer </span><span class=\"spark-nlp-display-entity-type\">Oncological</span><span class=\"spark-nlp-display-entity-resolution\" style=\"background-color: #970201FF\">Present </span></span><span class=\"spark-nlp-display-others\">, on hospice with inferior ST-elevation MI.HISTORY OF PRESENT ILLNESS:  The patient from prior strokes has expressive aphasia, is not able to express </span><span class=\"spark-nlp-display-entity-wrapper\" style=\"background-color: #ffacb7B3\"><span class=\"spark-nlp-display-entity-name\">herself </span><span class=\"spark-nlp-display-entity-type\">Gender</span><span class=\"spark-nlp-display-entity-resolution\" style=\"background-color: #ffacb7FF\">Present </span></span><span class=\"spark-nlp-display-others\"> in a clear meaningful fashion. </span><span class=\"spark-nlp-display-entity-wrapper\" style=\"background-color: #ffacb7B3\"><span class=\"spark-nlp-display-entity-name\">Her </span><span class=\"spark-nlp-display-entity-type\">Gender</span><span class=\"spark-nlp-display-entity-resolution\" style=\"background-color: #ffacb7FF\">Present </span></span><span class=\"spark-nlp-display-others\"> </span><span class=\"spark-nlp-display-entity-wrapper\" style=\"background-color: #ffacb7B3\"><span class=\"spark-nlp-display-entity-name\">daughter </span><span class=\"spark-nlp-display-entity-type\">Gender</span><span class=\"spark-nlp-display-entity-resolution\" style=\"background-color: #ffacb7FF\">Present </span></span><span class=\"spark-nlp-display-others\"> who accompanies </span><span class=\"spark-nlp-display-entity-wrapper\" style=\"background-color: #ffacb7B3\"><span class=\"spark-nlp-display-entity-name\">her </span><span class=\"spark-nlp-display-entity-type\">Gender</span><span class=\"spark-nlp-display-entity-resolution\" style=\"background-color: #ffacb7FF\">Present </span></span><span class=\"spark-nlp-display-others\"> is very attentive whom I had met previously during drainage of a malignant hemorrhagic pericardial effusion last month. The patient has been feeling well for the last several weeks, per the </span><span class=\"spark-nlp-display-entity-wrapper\" style=\"background-color: #ffacb7B3\"><span class=\"spark-nlp-display-entity-name\">daughter </span><span class=\"spark-nlp-display-entity-type\">Gender</span><span class=\"spark-nlp-display-entity-resolution\" style=\"background-color: #ffacb7FF\">Present </span></span><span class=\"spark-nlp-display-others\">, but today per the personal aide, became agitated and uncomfortable at about 2:30 p.m. At about 7 p.m., the patient began vomiting, was noted to be short of breath by </span><span class=\"spark-nlp-display-entity-wrapper\" style=\"background-color: #ffacb7B3\"><span class=\"spark-nlp-display-entity-name\">her </span><span class=\"spark-nlp-display-entity-type\">Gender</span><span class=\"spark-nlp-display-entity-resolution\" style=\"background-color: #ffacb7FF\">Present </span></span><span class=\"spark-nlp-display-others\"> </span><span class=\"spark-nlp-display-entity-wrapper\" style=\"background-color: #ffacb7B3\"><span class=\"spark-nlp-display-entity-name\">daughter </span><span class=\"spark-nlp-display-entity-type\">Gender</span><span class=\"spark-nlp-display-entity-resolution\" style=\"background-color: #ffacb7FF\">Present </span></span><span class=\"spark-nlp-display-others\"> with garbled speech, arms flopping, and irregular head movements. </span><span class=\"spark-nlp-display-entity-wrapper\" style=\"background-color: #ffacb7B3\"><span class=\"spark-nlp-display-entity-name\">Her </span><span class=\"spark-nlp-display-entity-type\">Gender</span><span class=\"spark-nlp-display-entity-resolution\" style=\"background-color: #ffacb7FF\">Present </span></span><span class=\"spark-nlp-display-others\"> </span><span class=\"spark-nlp-display-entity-wrapper\" style=\"background-color: #ffacb7B3\"><span class=\"spark-nlp-display-entity-name\">daughter </span><span class=\"spark-nlp-display-entity-type\">Gender</span><span class=\"spark-nlp-display-entity-resolution\" style=\"background-color: #ffacb7FF\">Present </span></span><span class=\"spark-nlp-display-others\"> called 911 and </span><span class=\"spark-nlp-display-entity-wrapper\" style=\"background-color: #ffacb7B3\"><span class=\"spark-nlp-display-entity-name\">her </span><span class=\"spark-nlp-display-entity-type\">Gender</span><span class=\"spark-nlp-display-entity-resolution\" style=\"background-color: #ffacb7FF\">Present </span></span><span class=\"spark-nlp-display-others\"> symptoms seemed to improve. Then, </span><span class=\"spark-nlp-display-entity-wrapper\" style=\"background-color: #ffacb7B3\"><span class=\"spark-nlp-display-entity-name\">she </span><span class=\"spark-nlp-display-entity-type\">Gender</span><span class=\"spark-nlp-display-entity-resolution\" style=\"background-color: #ffacb7FF\">Present </span></span><span class=\"spark-nlp-display-others\"> began vomiting. When the patient's </span><span class=\"spark-nlp-display-entity-wrapper\" style=\"background-color: #ffacb7B3\"><span class=\"spark-nlp-display-entity-name\">daughter </span><span class=\"spark-nlp-display-entity-type\">Gender</span><span class=\"spark-nlp-display-entity-resolution\" style=\"background-color: #ffacb7FF\">Present </span></span><span class=\"spark-nlp-display-others\"> asked </span><span class=\"spark-nlp-display-entity-wrapper\" style=\"background-color: #ffacb7B3\"><span class=\"spark-nlp-display-entity-name\">her </span><span class=\"spark-nlp-display-entity-type\">Gender</span><span class=\"spark-nlp-display-entity-resolution\" style=\"background-color: #ffacb7FF\">Present </span></span><span class=\"spark-nlp-display-others\"> if </span><span class=\"spark-nlp-display-entity-wrapper\" style=\"background-color: #ffacb7B3\"><span class=\"spark-nlp-display-entity-name\">she </span><span class=\"spark-nlp-display-entity-type\">Gender</span><span class=\"spark-nlp-display-entity-resolution\" style=\"background-color: #ffacb7FF\">Present </span></span><span class=\"spark-nlp-display-others\"> had chest pain, the patient said yes.</span><span class=\"spark-nlp-display-entity-wrapper\" style=\"background-color: #ffacb7B3\"><span class=\"spark-nlp-display-entity-name\">She </span><span class=\"spark-nlp-display-entity-type\">Gender</span><span class=\"spark-nlp-display-entity-resolution\" style=\"background-color: #ffacb7FF\">Present </span></span><span class=\"spark-nlp-display-others\"> came to the emergency room, an EKG showed inferior ST-elevation MI. I was called immediately and knowing </span><span class=\"spark-nlp-display-entity-wrapper\" style=\"background-color: #ffacb7B3\"><span class=\"spark-nlp-display-entity-name\">her </span><span class=\"spark-nlp-display-entity-type\">Gender</span><span class=\"spark-nlp-display-entity-resolution\" style=\"background-color: #ffacb7FF\">Present </span></span><span class=\"spark-nlp-display-others\"> history, especially, </span><span class=\"spark-nlp-display-entity-wrapper\" style=\"background-color: #ffacb7B3\"><span class=\"spark-nlp-display-entity-name\">her </span><span class=\"spark-nlp-display-entity-type\">Gender</span><span class=\"spark-nlp-display-entity-resolution\" style=\"background-color: #ffacb7FF\">Present </span></span><span class=\"spark-nlp-display-others\"> hospice status with recent hemorrhagic pericardial effusion, I felt thrombolytic was contraindicated and </span><span class=\"spark-nlp-display-entity-wrapper\" style=\"background-color: #ffacb7B3\"><span class=\"spark-nlp-display-entity-name\">she </span><span class=\"spark-nlp-display-entity-type\">Gender</span><span class=\"spark-nlp-display-entity-resolution\" style=\"background-color: #ffacb7FF\">Present </span></span><span class=\"spark-nlp-display-others\"> would not be a candidate for aggressive </span><span class=\"spark-nlp-display-entity-wrapper\" style=\"background-color: #47B231B3\"><span class=\"spark-nlp-display-entity-name\">interventional therapy </span><span class=\"spark-nlp-display-entity-type\">Unspecific_Therapy</span><span class=\"spark-nlp-display-entity-resolution\" style=\"background-color: #47B231FF\">Hypothetical </span></span><span class=\"spark-nlp-display-others\"> with </span><span class=\"spark-nlp-display-entity-wrapper\" style=\"background-color: #9A554AB3\"><span class=\"spark-nlp-display-entity-name\">PCI/CABG </span><span class=\"spark-nlp-display-entity-type\">Cancer_Therapy</span><span class=\"spark-nlp-display-entity-resolution\" style=\"background-color: #9A554AFF\">Present </span></span><span class=\"spark-nlp-display-others\">. </span><span class=\"spark-nlp-display-entity-wrapper\" style=\"background-color: #ffacb7B3\"><span class=\"spark-nlp-display-entity-name\">She </span><span class=\"spark-nlp-display-entity-type\">Gender</span><span class=\"spark-nlp-display-entity-resolution\" style=\"background-color: #ffacb7FF\">Present </span></span><span class=\"spark-nlp-display-others\"> was begun after discussion with the oncologist, on heparin drip and has received morphine, nitro, and beta-blocker, and currently states that </span><span class=\"spark-nlp-display-entity-wrapper\" style=\"background-color: #ffacb7B3\"><span class=\"spark-nlp-display-entity-name\">she </span><span class=\"spark-nlp-display-entity-type\">Gender</span><span class=\"spark-nlp-display-entity-resolution\" style=\"background-color: #ffacb7FF\">Present </span></span><span class=\"spark-nlp-display-others\"> is pain free. Repeat EKG shows normalization of </span><span class=\"spark-nlp-display-entity-wrapper\" style=\"background-color: #ffacb7B3\"><span class=\"spark-nlp-display-entity-name\">her </span><span class=\"spark-nlp-display-entity-type\">Gender</span><span class=\"spark-nlp-display-entity-resolution\" style=\"background-color: #ffacb7FF\">Present </span></span><span class=\"spark-nlp-display-others\"> ST elevation in the inferior leads as well as normalization of prior reciprocal changes.PAST MEDICAL HISTORY:  Significant for </span><span class=\"spark-nlp-display-entity-wrapper\" style=\"background-color: #970201B3\"><span class=\"spark-nlp-display-entity-name\">metastatic non-small-cell lung cancer </span><span class=\"spark-nlp-display-entity-type\">Oncological</span><span class=\"spark-nlp-display-entity-resolution\" style=\"background-color: #970201FF\">Present </span></span><span class=\"spark-nlp-display-others\">. In early-to-mid December, </span><span class=\"spark-nlp-display-entity-wrapper\" style=\"background-color: #ffacb7B3\"><span class=\"spark-nlp-display-entity-name\">she </span><span class=\"spark-nlp-display-entity-type\">Gender</span><span class=\"spark-nlp-display-entity-resolution\" style=\"background-color: #ffacb7FF\">Present </span></span><span class=\"spark-nlp-display-others\"> had an admission and was found to have a </span><span class=\"spark-nlp-display-entity-wrapper\" style=\"background-color: #2F2ABEB3\"><span class=\"spark-nlp-display-entity-name\">malignant </span><span class=\"spark-nlp-display-entity-type\">Cancer_Dx</span><span class=\"spark-nlp-display-entity-resolution\" style=\"background-color: #2F2ABEFF\">Present </span></span><span class=\"spark-nlp-display-others\"> pericardial effusion with tamponade requiring urgent drainage. We did repeat an echo several weeks later and that did not show any recurrence of the pericardial effusion. </span><span class=\"spark-nlp-display-entity-wrapper\" style=\"background-color: #ffacb7B3\"><span class=\"spark-nlp-display-entity-name\">She </span><span class=\"spark-nlp-display-entity-type\">Gender</span><span class=\"spark-nlp-display-entity-resolution\" style=\"background-color: #ffacb7FF\">Present </span></span><span class=\"spark-nlp-display-others\"> is on </span><span class=\"spark-nlp-display-entity-wrapper\" style=\"background-color: #9A554AB3\"><span class=\"spark-nlp-display-entity-name\">hospice </span><span class=\"spark-nlp-display-entity-type\">Cancer_Therapy</span><span class=\"spark-nlp-display-entity-resolution\" style=\"background-color: #9A554AFF\">Present </span></span><span class=\"spark-nlp-display-others\"> from the medical history, atrial fibrillation, hypertension, history of multiple CVA.MEDICATIONS:  Medications as an outpatient:1. Amiodarone 200 mg once a day.<br>2. Roxanol concentrate 5 mg three hours p.r.n. pain.ALLERGIES: CODEINE. NO SHRIMP, SEAFOOD, OR DYE ALLERGY.FAMILY HISTORY:  Negative for cardiac disease.SOCIAL HISTORY:  </span><span class=\"spark-nlp-display-entity-wrapper\" style=\"background-color: #ffacb7B3\"><span class=\"spark-nlp-display-entity-name\">She </span><span class=\"spark-nlp-display-entity-type\">Gender</span><span class=\"spark-nlp-display-entity-resolution\" style=\"background-color: #ffacb7FF\">Present </span></span><span class=\"spark-nlp-display-others\"> does not </span><span class=\"spark-nlp-display-entity-wrapper\" style=\"background-color: #56B61DB3\"><span class=\"spark-nlp-display-entity-name\">smoke cigarettes </span><span class=\"spark-nlp-display-entity-type\">Smoking_Status</span><span class=\"spark-nlp-display-entity-resolution\" style=\"background-color: #56B61DFF\">Absent </span></span><span class=\"spark-nlp-display-others\">. </span><span class=\"spark-nlp-display-entity-wrapper\" style=\"background-color: #ffacb7B3\"><span class=\"spark-nlp-display-entity-name\">She </span><span class=\"spark-nlp-display-entity-type\">Gender</span><span class=\"spark-nlp-display-entity-resolution\" style=\"background-color: #ffacb7FF\">Present </span></span><span class=\"spark-nlp-display-others\"> uses </span><span class=\"spark-nlp-display-entity-wrapper\" style=\"background-color: #A8128EB3\"><span class=\"spark-nlp-display-entity-name\">alcohol </span><span class=\"spark-nlp-display-entity-type\">Alcohol</span><span class=\"spark-nlp-display-entity-resolution\" style=\"background-color: #A8128EFF\">Present </span></span><span class=\"spark-nlp-display-others\">. No use of illicit drugs. </span><span class=\"spark-nlp-display-entity-wrapper\" style=\"background-color: #ffacb7B3\"><span class=\"spark-nlp-display-entity-name\">She </span><span class=\"spark-nlp-display-entity-type\">Gender</span><span class=\"spark-nlp-display-entity-resolution\" style=\"background-color: #ffacb7FF\">Family </span></span><span class=\"spark-nlp-display-others\"> is divorced and lives with </span><span class=\"spark-nlp-display-entity-wrapper\" style=\"background-color: #ffacb7B3\"><span class=\"spark-nlp-display-entity-name\">her </span><span class=\"spark-nlp-display-entity-type\">Gender</span><span class=\"spark-nlp-display-entity-resolution\" style=\"background-color: #ffacb7FF\">Family </span></span><span class=\"spark-nlp-display-others\"> </span><span class=\"spark-nlp-display-entity-wrapper\" style=\"background-color: #ffacb7B3\"><span class=\"spark-nlp-display-entity-name\">daughter </span><span class=\"spark-nlp-display-entity-type\">Gender</span><span class=\"spark-nlp-display-entity-resolution\" style=\"background-color: #ffacb7FF\">Family </span></span><span class=\"spark-nlp-display-others\">. </span><span class=\"spark-nlp-display-entity-wrapper\" style=\"background-color: #ffacb7B3\"><span class=\"spark-nlp-display-entity-name\">She </span><span class=\"spark-nlp-display-entity-type\">Gender</span><span class=\"spark-nlp-display-entity-resolution\" style=\"background-color: #ffacb7FF\">Present </span></span><span class=\"spark-nlp-display-others\"> is a retired medical librarian from Florida.REVIEW OF SYSTEMS: Unable to be obtained due to the patient's aphasia.<br>PHYSICAL EXAMINATION:  Height 5 feet 3, weight of 106 pounds, temperature 97.1 degrees, blood pressure ranges from 138/82 to 111/87, pulse 61, respiratory rate 22. O2 saturation 100%. On general exam, </span><span class=\"spark-nlp-display-entity-wrapper\" style=\"background-color: #ffacb7B3\"><span class=\"spark-nlp-display-entity-name\">she </span><span class=\"spark-nlp-display-entity-type\">Gender</span><span class=\"spark-nlp-display-entity-resolution\" style=\"background-color: #ffacb7FF\">Present </span></span><span class=\"spark-nlp-display-others\"> is an elderly </span><span class=\"spark-nlp-display-entity-wrapper\" style=\"background-color: #ffacb7B3\"><span class=\"spark-nlp-display-entity-name\">woman </span><span class=\"spark-nlp-display-entity-type\">Gender</span><span class=\"spark-nlp-display-entity-resolution\" style=\"background-color: #ffacb7FF\">Present </span></span><span class=\"spark-nlp-display-others\"> with now marked aphasia, which per </span><span class=\"spark-nlp-display-entity-wrapper\" style=\"background-color: #ffacb7B3\"><span class=\"spark-nlp-display-entity-name\">her </span><span class=\"spark-nlp-display-entity-type\">Gender</span><span class=\"spark-nlp-display-entity-resolution\" style=\"background-color: #ffacb7FF\">Present </span></span><span class=\"spark-nlp-display-others\"> </span><span class=\"spark-nlp-display-entity-wrapper\" style=\"background-color: #ffacb7B3\"><span class=\"spark-nlp-display-entity-name\">daughter </span><span class=\"spark-nlp-display-entity-type\">Gender</span><span class=\"spark-nlp-display-entity-resolution\" style=\"background-color: #ffacb7FF\">Present </span></span><span class=\"spark-nlp-display-others\"> waxes and wanes, was more pronounced and </span><span class=\"spark-nlp-display-entity-wrapper\" style=\"background-color: #ffacb7B3\"><span class=\"spark-nlp-display-entity-name\">she </span><span class=\"spark-nlp-display-entity-type\">Gender</span><span class=\"spark-nlp-display-entity-resolution\" style=\"background-color: #ffacb7FF\">Present </span></span><span class=\"spark-nlp-display-others\"> nods </span><span class=\"spark-nlp-display-entity-wrapper\" style=\"background-color: #ffacb7B3\"><span class=\"spark-nlp-display-entity-name\">her </span><span class=\"spark-nlp-display-entity-type\">Gender</span><span class=\"spark-nlp-display-entity-resolution\" style=\"background-color: #ffacb7FF\">Present </span></span><span class=\"spark-nlp-display-others\"> head up and down when </span><span class=\"spark-nlp-display-entity-wrapper\" style=\"background-color: #ffacb7B3\"><span class=\"spark-nlp-display-entity-name\">she </span><span class=\"spark-nlp-display-entity-type\">Gender</span><span class=\"spark-nlp-display-entity-resolution\" style=\"background-color: #ffacb7FF\">Present </span></span><span class=\"spark-nlp-display-others\"> says the word, no, and conversely, </span><span class=\"spark-nlp-display-entity-wrapper\" style=\"background-color: #ffacb7B3\"><span class=\"spark-nlp-display-entity-name\">she </span><span class=\"spark-nlp-display-entity-type\">Gender</span><span class=\"spark-nlp-display-entity-resolution\" style=\"background-color: #ffacb7FF\">Present </span></span><span class=\"spark-nlp-display-others\"> nods </span><span class=\"spark-nlp-display-entity-wrapper\" style=\"background-color: #ffacb7B3\"><span class=\"spark-nlp-display-entity-name\">her </span><span class=\"spark-nlp-display-entity-type\">Gender</span><span class=\"spark-nlp-display-entity-resolution\" style=\"background-color: #ffacb7FF\">Present </span></span><span class=\"spark-nlp-display-others\"> head side-to-side when </span><span class=\"spark-nlp-display-entity-wrapper\" style=\"background-color: #ffacb7B3\"><span class=\"spark-nlp-display-entity-name\">she </span><span class=\"spark-nlp-display-entity-type\">Gender</span><span class=\"spark-nlp-display-entity-resolution\" style=\"background-color: #ffacb7FF\">Present </span></span><span class=\"spark-nlp-display-others\"> uses the word yes with some discordance in </span><span class=\"spark-nlp-display-entity-wrapper\" style=\"background-color: #ffacb7B3\"><span class=\"spark-nlp-display-entity-name\">her </span><span class=\"spark-nlp-display-entity-type\">Gender</span><span class=\"spark-nlp-display-entity-resolution\" style=\"background-color: #ffacb7FF\">Present </span></span><span class=\"spark-nlp-display-others\"> head gestures with vocalization. HEENT shows the cranium is normocephalic and atraumatic. </span><span class=\"spark-nlp-display-entity-wrapper\" style=\"background-color: #ffacb7B3\"><span class=\"spark-nlp-display-entity-name\">She </span><span class=\"spark-nlp-display-entity-type\">Gender</span><span class=\"spark-nlp-display-entity-resolution\" style=\"background-color: #ffacb7FF\">Present </span></span><span class=\"spark-nlp-display-others\"> has dry mucosal membrane. </span><span class=\"spark-nlp-display-entity-wrapper\" style=\"background-color: #ffacb7B3\"><span class=\"spark-nlp-display-entity-name\">She </span><span class=\"spark-nlp-display-entity-type\">Gender</span><span class=\"spark-nlp-display-entity-resolution\" style=\"background-color: #ffacb7FF\">Present </span></span><span class=\"spark-nlp-display-others\"> now has a right facial droop, which per </span><span class=\"spark-nlp-display-entity-wrapper\" style=\"background-color: #ffacb7B3\"><span class=\"spark-nlp-display-entity-name\">her </span><span class=\"spark-nlp-display-entity-type\">Gender</span><span class=\"spark-nlp-display-entity-resolution\" style=\"background-color: #ffacb7FF\">Present </span></span><span class=\"spark-nlp-display-others\"> </span><span class=\"spark-nlp-display-entity-wrapper\" style=\"background-color: #ffacb7B3\"><span class=\"spark-nlp-display-entity-name\">daughter </span><span class=\"spark-nlp-display-entity-type\">Gender</span><span class=\"spark-nlp-display-entity-resolution\" style=\"background-color: #ffacb7FF\">Present </span></span><span class=\"spark-nlp-display-others\"> is new. Neck veins are not distended. No carotid bruits visible. Skin: Warm, well perfused. Lungs are clear to auscultation anteriorly. No wheezes. Cardiac exam: S1, S2, regular rate. No significant murmurs. PMI is nondisplaced. Abdomen: Soft, nondistended. Extremities: Without edema, on limited exam. Neurological exam seems to show only the right facial droop.DIAGNOSTIC/LABORATORY DATA:  EKGs as reviewed above. </span><span class=\"spark-nlp-display-entity-wrapper\" style=\"background-color: #ffacb7B3\"><span class=\"spark-nlp-display-entity-name\">Her </span><span class=\"spark-nlp-display-entity-type\">Gender</span><span class=\"spark-nlp-display-entity-resolution\" style=\"background-color: #ffacb7FF\">Present </span></span><span class=\"spark-nlp-display-others\"> last ECG shows normalization of prior ST elevation in the inferior leads with Q waves and first-degree AV block, PR interval 280 milliseconds. Further lab shows sodium 135, potassium 4.2, chloride 98, bicarbonate 26, BUN 9, creatinine 0.8, glucose 162, troponin 0.17, INR 1.27, white blood cell count 1.3, hematocrit 31, platelet count of 179.</span><span class=\"spark-nlp-display-entity-wrapper\" style=\"background-color: #06008FB3\"><span class=\"spark-nlp-display-entity-name\">Chest x-ray </span><span class=\"spark-nlp-display-entity-type\">Imaging_Test</span><span class=\"spark-nlp-display-entity-resolution\" style=\"background-color: #06008FFF\">Past </span></span><span class=\"spark-nlp-display-others\">, no significant pericardial effusion.IMPRESSION:  The patient is a 69-year-old </span><span class=\"spark-nlp-display-entity-wrapper\" style=\"background-color: #ffacb7B3\"><span class=\"spark-nlp-display-entity-name\">woman </span><span class=\"spark-nlp-display-entity-type\">Gender</span><span class=\"spark-nlp-display-entity-resolution\" style=\"background-color: #ffacb7FF\">Present </span></span><span class=\"spark-nlp-display-others\"> with </span><span class=\"spark-nlp-display-entity-wrapper\" style=\"background-color: #970201B3\"><span class=\"spark-nlp-display-entity-name\">metastatic non-small-cell lung cancer </span><span class=\"spark-nlp-display-entity-type\">Oncological</span><span class=\"spark-nlp-display-entity-resolution\" style=\"background-color: #970201FF\">Present </span></span><span class=\"spark-nlp-display-others\"> with a recent hemorrhagic pericardial effusion, now admitted with cerebrovascular accident and transient inferior myocardial infarction, which appears to be canalized. I will discuss this in detail with the patient and </span><span class=\"spark-nlp-display-entity-wrapper\" style=\"background-color: #ffacb7B3\"><span class=\"spark-nlp-display-entity-name\">her </span><span class=\"spark-nlp-display-entity-type\">Gender</span><span class=\"spark-nlp-display-entity-resolution\" style=\"background-color: #ffacb7FF\">Present </span></span><span class=\"spark-nlp-display-others\"> </span><span class=\"spark-nlp-display-entity-wrapper\" style=\"background-color: #ffacb7B3\"><span class=\"spark-nlp-display-entity-name\">daughter </span><span class=\"spark-nlp-display-entity-type\">Gender</span><span class=\"spark-nlp-display-entity-resolution\" style=\"background-color: #ffacb7FF\">Present </span></span><span class=\"spark-nlp-display-others\">, and clearly, </span><span class=\"spark-nlp-display-entity-wrapper\" style=\"background-color: #ffacb7B3\"><span class=\"spark-nlp-display-entity-name\">her </span><span class=\"spark-nlp-display-entity-type\">Gender</span><span class=\"spark-nlp-display-entity-resolution\" style=\"background-color: #ffacb7FF\">Present </span></span><span class=\"spark-nlp-display-others\"> situation is quite guarded with likely poor prognosis, which they are understanding of.RECOMMENDATIONS:1. I think it is reasonable to continue heparin, but clearly </span><span class=\"spark-nlp-display-entity-wrapper\" style=\"background-color: #ffacb7B3\"><span class=\"spark-nlp-display-entity-name\">she </span><span class=\"spark-nlp-display-entity-type\">Gender</span><span class=\"spark-nlp-display-entity-resolution\" style=\"background-color: #ffacb7FF\">Present </span></span><span class=\"spark-nlp-display-others\"> would be at risk for hemorrhagic pericardial effusion recurrence.<br>2. Morphine is appropriate, especially for preload reduction and other comfort measures as appropriate.3. Would avoid other blood thinners including Plavix, Integrilin, and certainly, </span><span class=\"spark-nlp-display-entity-wrapper\" style=\"background-color: #ffacb7B3\"><span class=\"spark-nlp-display-entity-name\">she </span><span class=\"spark-nlp-display-entity-type\">Gender</span><span class=\"spark-nlp-display-entity-resolution\" style=\"background-color: #ffacb7FF\">Present </span></span><span class=\"spark-nlp-display-others\"> is not a candidate for a thrombolytic with which the patient and </span><span class=\"spark-nlp-display-entity-wrapper\" style=\"background-color: #ffacb7B3\"><span class=\"spark-nlp-display-entity-name\">her </span><span class=\"spark-nlp-display-entity-type\">Gender</span><span class=\"spark-nlp-display-entity-resolution\" style=\"background-color: #ffacb7FF\">Present </span></span><span class=\"spark-nlp-display-others\"> </span><span class=\"spark-nlp-display-entity-wrapper\" style=\"background-color: #ffacb7B3\"><span class=\"spark-nlp-display-entity-name\">daughter </span><span class=\"spark-nlp-display-entity-type\">Gender</span><span class=\"spark-nlp-display-entity-resolution\" style=\"background-color: #ffacb7FF\">Present </span></span><span class=\"spark-nlp-display-others\"> are in agreement with after a long discussion.Other management as per the medical service. I have discussed the case with Dr. X of the hospitalist service who will be admitting the patient.<br><br></span></div></div>"
            ]
          },
          "metadata": {}
        }
      ],
      "source": [
        "from IPython.core.display import display, HTML\n",
        "display(HTML(output['content']))"
      ]
    },
    {
      "cell_type": "markdown",
      "source": [
        "Extract radiology entities from patient notes"
      ],
      "metadata": {
        "id": "CHaIEVHfmX_a"
      }
    },
    {
      "cell_type": "code",
      "source": [
        "radiology_note ='''Medical Specialty:Radiology\n",
        "Description: Left heart cath, selective coronary angiogram, right common femoral angiogram, and StarClose closure of right common femoral artery.\n",
        "\n",
        "EXAM:  Left heart cath, selective coronary angiogram, right common femoral angiogram, and StarClose closure of right common femoral artery.REASON FOR EXAM:  Abnormal stress test and episode of shortness of breath.PROCEDURE:  Right common femoral artery, 6-French sheath, JL4, JR4, and pigtail catheters were used.FINDINGS:1. Left main is a large-caliber vessel. It is angiographically free of disease,2. LAD is a large-caliber vessel. It gives rise to two diagonals and septal perforator. It erupts around the apex. LAD shows an area of 60% to 70% stenosis probably in its mid portion. The lesion is a type A finishing before the takeoff of diagonal 1. The rest of the vessel is angiographically free of disease.3. Diagonal 1 and diagonal 2 are angiographically free of disease.\n",
        "4. Left circumflex is a small-to-moderate caliber vessel, gives rise to 1 OM. It is angiographically free of disease.5. OM-1 is angiographically free of disease.6. RCA is a large, dominant vessel, gives rise to conus, RV marginal, PDA and one PL. RCA has a tortuous course and it has a 30% to 40% stenosis in its proximal portion.7. LVEDP is measured 40 mmHg.8. No gradient between LV and aorta is noted.Due to contrast concern due to renal function, no LV gram was performed.Following this, right common femoral angiogram was performed followed by StarClose closure of the right common femoral artery.\n",
        "IMPRESSION:1. 60% to 70% mid left anterior descending stenosis.2. Mild 30% to 40% stenosis of the proximal right coronary artery.3. Status post StarClose closure of the right common femoral artery.PLAN: Plan will be to perform elective PCI of the mid LAD.\n",
        "'''"
      ],
      "metadata": {
        "id": "2dcpBSromcai"
      },
      "execution_count": 15,
      "outputs": []
    },
    {
      "cell_type": "code",
      "execution_count": 16,
      "metadata": {
        "colab": {
          "base_uri": "https://localhost:8080/",
          "height": 260
        },
        "id": "c8ClC1bklABS",
        "outputId": "17e43826-f9aa-434f-af3c-85ae9f307da7"
      },
      "outputs": [
        {
          "output_type": "display_data",
          "data": {
            "text/plain": [
              "<IPython.core.display.HTML object>"
            ],
            "text/html": [
              "<div class=\"visualization\"> <span class=\"spark-nlp-display-others\">Medical Specialty:Radiology<br>Description: Left heart cath, selective coronary angiogram, right common femoral angiogram, and StarClose closure of right common femoral artery.<br><br>EXAM:  Left heart cath, selective coronary angiogram, right common femoral angiogram, and StarClose closure of right common femoral artery.REASON FOR EXAM:  </span><span class=\"spark-nlp-display-entity-wrapper\" style=\"background-color: #A642B4B3\"><span class=\"spark-nlp-display-entity-name\">Abnormal stress test </span><span class=\"spark-nlp-display-entity-type\">Symptom</span><span class=\"spark-nlp-display-entity-resolution\" style=\"background-color: #A642B4FF\">Confirmed </span></span><span class=\"spark-nlp-display-others\"> and episode of </span><span class=\"spark-nlp-display-entity-wrapper\" style=\"background-color: #A642B4B3\"><span class=\"spark-nlp-display-entity-name\">shortness of breath </span><span class=\"spark-nlp-display-entity-type\">Symptom</span><span class=\"spark-nlp-display-entity-resolution\" style=\"background-color: #A642B4FF\">Confirmed </span></span><span class=\"spark-nlp-display-others\">.PROCEDURE:  Right common femoral artery, 6-French sheath, JL4, JR4, and pigtail catheters were used.FINDINGS:1. Left main is a </span><span class=\"spark-nlp-display-entity-wrapper\" style=\"background-color: #812568B3\"><span class=\"spark-nlp-display-entity-name\">large-caliber vessel </span><span class=\"spark-nlp-display-entity-type\">ImagingFindings</span><span class=\"spark-nlp-display-entity-resolution\" style=\"background-color: #812568FF\">Suspected </span></span><span class=\"spark-nlp-display-others\">. It is </span><span class=\"spark-nlp-display-entity-wrapper\" style=\"background-color: #812568B3\"><span class=\"spark-nlp-display-entity-name\">angiographically free of disease,2 </span><span class=\"spark-nlp-display-entity-type\">ImagingFindings</span><span class=\"spark-nlp-display-entity-resolution\" style=\"background-color: #812568FF\">Confirmed </span></span><span class=\"spark-nlp-display-others\">. LAD is a large-caliber vessel. It gives rise to two diagonals and septal perforator. It erupts around the apex. LAD shows an </span><span class=\"spark-nlp-display-entity-wrapper\" style=\"background-color: #952A1DB3\"><span class=\"spark-nlp-display-entity-name\">area of 60% </span><span class=\"spark-nlp-display-entity-type\">OtherFindings</span><span class=\"spark-nlp-display-entity-resolution\" style=\"background-color: #952A1DFF\">Confirmed </span></span><span class=\"spark-nlp-display-others\"> to 70% </span><span class=\"spark-nlp-display-entity-wrapper\" style=\"background-color: #812568B3\"><span class=\"spark-nlp-display-entity-name\">stenosis </span><span class=\"spark-nlp-display-entity-type\">ImagingFindings</span><span class=\"spark-nlp-display-entity-resolution\" style=\"background-color: #812568FF\">Confirmed </span></span><span class=\"spark-nlp-display-others\"> probably in its mid portion. The </span><span class=\"spark-nlp-display-entity-wrapper\" style=\"background-color: #812568B3\"><span class=\"spark-nlp-display-entity-name\">lesion </span><span class=\"spark-nlp-display-entity-type\">ImagingFindings</span><span class=\"spark-nlp-display-entity-resolution\" style=\"background-color: #812568FF\">Confirmed </span></span><span class=\"spark-nlp-display-others\"> is a type A finishing before the takeoff of diagonal 1. The rest of the vessel is </span><span class=\"spark-nlp-display-entity-wrapper\" style=\"background-color: #812568B3\"><span class=\"spark-nlp-display-entity-name\">angiographically free of disease </span><span class=\"spark-nlp-display-entity-type\">ImagingFindings</span><span class=\"spark-nlp-display-entity-resolution\" style=\"background-color: #812568FF\">Confirmed </span></span><span class=\"spark-nlp-display-others\">.3. Diagonal 1 and diagonal 2 are </span><span class=\"spark-nlp-display-entity-wrapper\" style=\"background-color: #812568B3\"><span class=\"spark-nlp-display-entity-name\">angiographically free of disease </span><span class=\"spark-nlp-display-entity-type\">ImagingFindings</span><span class=\"spark-nlp-display-entity-resolution\" style=\"background-color: #812568FF\">Confirmed </span></span><span class=\"spark-nlp-display-others\">.<br>4. Left circumflex is a </span><span class=\"spark-nlp-display-entity-wrapper\" style=\"background-color: #812568B3\"><span class=\"spark-nlp-display-entity-name\">small-to-moderate caliber vessel </span><span class=\"spark-nlp-display-entity-type\">ImagingFindings</span><span class=\"spark-nlp-display-entity-resolution\" style=\"background-color: #812568FF\">Confirmed </span></span><span class=\"spark-nlp-display-others\">, gives rise to 1 </span><span class=\"spark-nlp-display-entity-wrapper\" style=\"background-color: #812568B3\"><span class=\"spark-nlp-display-entity-name\">OM </span><span class=\"spark-nlp-display-entity-type\">ImagingFindings</span><span class=\"spark-nlp-display-entity-resolution\" style=\"background-color: #812568FF\">Confirmed </span></span><span class=\"spark-nlp-display-others\">. It is </span><span class=\"spark-nlp-display-entity-wrapper\" style=\"background-color: #812568B3\"><span class=\"spark-nlp-display-entity-name\">angiographically free of disease </span><span class=\"spark-nlp-display-entity-type\">ImagingFindings</span><span class=\"spark-nlp-display-entity-resolution\" style=\"background-color: #812568FF\">Confirmed </span></span><span class=\"spark-nlp-display-others\">.5. OM-1 is </span><span class=\"spark-nlp-display-entity-wrapper\" style=\"background-color: #812568B3\"><span class=\"spark-nlp-display-entity-name\">angiographically free of disease </span><span class=\"spark-nlp-display-entity-type\">ImagingFindings</span><span class=\"spark-nlp-display-entity-resolution\" style=\"background-color: #812568FF\">Confirmed </span></span><span class=\"spark-nlp-display-others\">.6. RCA is a </span><span class=\"spark-nlp-display-entity-wrapper\" style=\"background-color: #812568B3\"><span class=\"spark-nlp-display-entity-name\">large, dominant vessel </span><span class=\"spark-nlp-display-entity-type\">ImagingFindings</span><span class=\"spark-nlp-display-entity-resolution\" style=\"background-color: #812568FF\">Confirmed </span></span><span class=\"spark-nlp-display-others\">, gives rise to conus, RV marginal, PDA and one PL. RCA has a </span><span class=\"spark-nlp-display-entity-wrapper\" style=\"background-color: #812568B3\"><span class=\"spark-nlp-display-entity-name\">tortuous course </span><span class=\"spark-nlp-display-entity-type\">ImagingFindings</span><span class=\"spark-nlp-display-entity-resolution\" style=\"background-color: #812568FF\">Confirmed </span></span><span class=\"spark-nlp-display-others\"> and it has a 30% to 40% </span><span class=\"spark-nlp-display-entity-wrapper\" style=\"background-color: #812568B3\"><span class=\"spark-nlp-display-entity-name\">stenosis </span><span class=\"spark-nlp-display-entity-type\">ImagingFindings</span><span class=\"spark-nlp-display-entity-resolution\" style=\"background-color: #812568FF\">Confirmed </span></span><span class=\"spark-nlp-display-others\"> in its proximal portion.7. LVEDP is measured 40 mmHg.8. No </span><span class=\"spark-nlp-display-entity-wrapper\" style=\"background-color: #812568B3\"><span class=\"spark-nlp-display-entity-name\">gradient between LV </span><span class=\"spark-nlp-display-entity-type\">ImagingFindings</span><span class=\"spark-nlp-display-entity-resolution\" style=\"background-color: #812568FF\">Negative </span></span><span class=\"spark-nlp-display-others\"> and aorta is noted.Due to contrast concern due to renal function, no LV gram was performed.Following this, right common femoral angiogram was performed followed by StarClose closure of the right common femoral artery.<br>IMPRESSION:1. 60% to 70% mid left </span><span class=\"spark-nlp-display-entity-wrapper\" style=\"background-color: #6B307EB3\"><span class=\"spark-nlp-display-entity-name\">anterior descending stenosis </span><span class=\"spark-nlp-display-entity-type\">Disease_Syndrome_Disorder</span><span class=\"spark-nlp-display-entity-resolution\" style=\"background-color: #6B307EFF\">Confirmed </span></span><span class=\"spark-nlp-display-others\">.2. Mild </span><span class=\"spark-nlp-display-entity-wrapper\" style=\"background-color: #A642B4B3\"><span class=\"spark-nlp-display-entity-name\">30% to 40% stenosis </span><span class=\"spark-nlp-display-entity-type\">Symptom</span><span class=\"spark-nlp-display-entity-resolution\" style=\"background-color: #A642B4FF\">Confirmed </span></span><span class=\"spark-nlp-display-others\"> of the proximal right coronary artery.3. Status post StarClose closure of the right common femoral artery.PLAN: Plan will be to perform elective PCI of the mid LAD.<br></span></div></div>"
            ]
          },
          "metadata": {}
        }
      ],
      "source": [
        "import requests\n",
        "\n",
        "url = base_URL + \"/chat/completions\"\n",
        "\n",
        "data = {\n",
        "  \"messages\": [\n",
        "    {\n",
        "      \"role\": \"user\",\n",
        "      \"content\": radiology_note\n",
        "    }\n",
        "  ],\n",
        "  \"tools\": [\n",
        "    \"extract_medical_radiology\"\n",
        "  ]\n",
        "}\n",
        "\n",
        "response = requests.post(url, headers=headers, json=data)\n",
        "output = response.json()\n",
        "from IPython.core.display import display, HTML\n",
        "display(HTML(output['content']))"
      ]
    },
    {
      "cell_type": "markdown",
      "metadata": {
        "id": "IPxZzjoZ1MLJ"
      },
      "source": [
        "## Extract Drug Information\n"
      ]
    },
    {
      "cell_type": "code",
      "execution_count": 17,
      "metadata": {
        "id": "qHV2c4W-1SkB"
      },
      "outputs": [],
      "source": [
        "posology = '''The patient is Jane Park, a 30-year-old female with a long history of diabetes, type 2; coronary artery disease; chronic renal insufficiency; peripheral vascular disease, also secondary to diabetes; who was originally admitted to an outside hospital for what appeared to be acute paraplegia, lower extremities. Jane did receive a course of Bactrim for 14 days for UTI. Evidently, at some point in time, the patient was noted to develop a pressure-type wound on the sole of her left foot and left great toe. She was also noted to have a large sacral wound; this is in a similar location with previous laminectomy, and this continues to receive daily care. The patient was transferred secondary to inability to participate in full physical and occupational therapy and continue medical management of her diabetes, the sacral decubitus, left foot pressure wound, and associated complications of diabetes. She is given Fragmin 5000 units subcutaneously daily, OxyContin 30 mg p.o. q.12 h., folic acid 1 mg daily, levothyroxine 0.1 mg p.o. , Prevacid 30 mg daily, Avandia 4 mg daily, Norvasc 10 mg daily, Lexapro 20 mg daily, aspirin 81 mg daily, Senna 2 tablets p.o. q.a.m., Neurontin 400 mg p.o. t.i.d., magnesium citrate 1 bottle p.o , Wellbutrin 100 mg p.o. daily, and Bactrim DS b.i.d.'''\n"
      ]
    },
    {
      "cell_type": "code",
      "execution_count": 18,
      "metadata": {
        "id": "Gk6ilLyh1RxP"
      },
      "outputs": [],
      "source": [
        "import requests\n",
        "\n",
        "url = base_URL + \"/chat/completions\"\n",
        "\n",
        "data = {\n",
        "  \"messages\": [\n",
        "    {\n",
        "      \"role\": \"user\",\n",
        "      \"content\": posology\n",
        "    }\n",
        "  ],\n",
        "  \"tools\": [\n",
        "    \"ner_medical_posology\"\n",
        "  ]\n",
        "}\n",
        "\n",
        "response = requests.post(url, headers=headers, json=data)\n",
        "output = response.json()\n"
      ]
    },
    {
      "cell_type": "code",
      "execution_count": 19,
      "metadata": {
        "colab": {
          "base_uri": "https://localhost:8080/",
          "height": 138
        },
        "id": "ndSGZOJL1iay",
        "outputId": "3f794a75-d5fa-4855-feea-77f3d25578af"
      },
      "outputs": [
        {
          "output_type": "display_data",
          "data": {
            "text/plain": [
              "<IPython.core.display.HTML object>"
            ],
            "text/html": [
              "<div class=\"visualization\"> <span class=\"spark-nlp-display-others\">The patient is Jane Park, a 30-year-old female with a long history of diabetes, type 2; coronary artery disease; chronic renal insufficiency; peripheral vascular disease, also secondary to diabetes; who was originally admitted to an outside hospital for what appeared to be acute paraplegia, lower extremities. Jane did receive a course of </span><span class=\"spark-nlp-display-entity-wrapper\" style=\"background-color: #8B668BB3\"><span class=\"spark-nlp-display-entity-name\">Bactrim </span><span class=\"spark-nlp-display-entity-type\">DRUG</span><span class=\"spark-nlp-display-entity-resolution\" style=\"background-color: #8B668BFF\">Planned </span></span><span class=\"spark-nlp-display-others\"> for 14 days for UTI. Evidently, at some point in time, the patient was noted to develop a pressure-type wound on the sole of her left foot and left great toe. She was also noted to have a large sacral wound; this is in a similar location with previous laminectomy, and this continues to receive daily care. The patient was transferred secondary to inability to participate in full physical and occupational therapy and continue medical management of her diabetes, the sacral decubitus, left foot pressure wound, and associated complications of diabetes. She is given </span><span class=\"spark-nlp-display-entity-wrapper\" style=\"background-color: #8B668BB3\"><span class=\"spark-nlp-display-entity-name\">Fragmin </span><span class=\"spark-nlp-display-entity-type\">DRUG</span><span class=\"spark-nlp-display-entity-resolution\" style=\"background-color: #8B668BFF\">Past </span></span><span class=\"spark-nlp-display-others\"> 5000 units subcutaneously daily, </span><span class=\"spark-nlp-display-entity-wrapper\" style=\"background-color: #8B668BB3\"><span class=\"spark-nlp-display-entity-name\">OxyContin </span><span class=\"spark-nlp-display-entity-type\">DRUG</span><span class=\"spark-nlp-display-entity-resolution\" style=\"background-color: #8B668BFF\">Past </span></span><span class=\"spark-nlp-display-others\"> 30 mg p.o. q.12 h., </span><span class=\"spark-nlp-display-entity-wrapper\" style=\"background-color: #8B668BB3\"><span class=\"spark-nlp-display-entity-name\">folic acid </span><span class=\"spark-nlp-display-entity-type\">DRUG</span><span class=\"spark-nlp-display-entity-resolution\" style=\"background-color: #8B668BFF\">Planned </span></span><span class=\"spark-nlp-display-others\"> 1 mg daily, </span><span class=\"spark-nlp-display-entity-wrapper\" style=\"background-color: #8B668BB3\"><span class=\"spark-nlp-display-entity-name\">levothyroxine </span><span class=\"spark-nlp-display-entity-type\">DRUG</span><span class=\"spark-nlp-display-entity-resolution\" style=\"background-color: #8B668BFF\">Absent </span></span><span class=\"spark-nlp-display-others\"> 0.1 mg p.o. , </span><span class=\"spark-nlp-display-entity-wrapper\" style=\"background-color: #8B668BB3\"><span class=\"spark-nlp-display-entity-name\">Prevacid </span><span class=\"spark-nlp-display-entity-type\">DRUG</span><span class=\"spark-nlp-display-entity-resolution\" style=\"background-color: #8B668BFF\">Past </span></span><span class=\"spark-nlp-display-others\"> 30 mg daily, </span><span class=\"spark-nlp-display-entity-wrapper\" style=\"background-color: #8B668BB3\"><span class=\"spark-nlp-display-entity-name\">Avandia </span><span class=\"spark-nlp-display-entity-type\">DRUG</span><span class=\"spark-nlp-display-entity-resolution\" style=\"background-color: #8B668BFF\">Someoneelse </span></span><span class=\"spark-nlp-display-others\"> 4 mg daily, </span><span class=\"spark-nlp-display-entity-wrapper\" style=\"background-color: #8B668BB3\"><span class=\"spark-nlp-display-entity-name\">Norvasc </span><span class=\"spark-nlp-display-entity-type\">DRUG</span><span class=\"spark-nlp-display-entity-resolution\" style=\"background-color: #8B668BFF\">Past </span></span><span class=\"spark-nlp-display-others\"> 10 mg daily, </span><span class=\"spark-nlp-display-entity-wrapper\" style=\"background-color: #8B668BB3\"><span class=\"spark-nlp-display-entity-name\">Lexapro </span><span class=\"spark-nlp-display-entity-type\">DRUG</span><span class=\"spark-nlp-display-entity-resolution\" style=\"background-color: #8B668BFF\">Past </span></span><span class=\"spark-nlp-display-others\"> 20 mg daily, </span><span class=\"spark-nlp-display-entity-wrapper\" style=\"background-color: #8B668BB3\"><span class=\"spark-nlp-display-entity-name\">aspirin </span><span class=\"spark-nlp-display-entity-type\">DRUG</span><span class=\"spark-nlp-display-entity-resolution\" style=\"background-color: #8B668BFF\">Past </span></span><span class=\"spark-nlp-display-others\"> 81 mg daily, </span><span class=\"spark-nlp-display-entity-wrapper\" style=\"background-color: #8B668BB3\"><span class=\"spark-nlp-display-entity-name\">Senna </span><span class=\"spark-nlp-display-entity-type\">DRUG</span><span class=\"spark-nlp-display-entity-resolution\" style=\"background-color: #8B668BFF\">Past </span></span><span class=\"spark-nlp-display-others\"> 2 tablets p.o. q.a.m., </span><span class=\"spark-nlp-display-entity-wrapper\" style=\"background-color: #8B668BB3\"><span class=\"spark-nlp-display-entity-name\">Neurontin </span><span class=\"spark-nlp-display-entity-type\">DRUG</span><span class=\"spark-nlp-display-entity-resolution\" style=\"background-color: #8B668BFF\">Past </span></span><span class=\"spark-nlp-display-others\"> 400 mg p.o. t.i.d., </span><span class=\"spark-nlp-display-entity-wrapper\" style=\"background-color: #8B668BB3\"><span class=\"spark-nlp-display-entity-name\">magnesium citrate </span><span class=\"spark-nlp-display-entity-type\">DRUG</span><span class=\"spark-nlp-display-entity-resolution\" style=\"background-color: #8B668BFF\">Past </span></span><span class=\"spark-nlp-display-others\"> 1 bottle p.o , </span><span class=\"spark-nlp-display-entity-wrapper\" style=\"background-color: #8B668BB3\"><span class=\"spark-nlp-display-entity-name\">Wellbutrin </span><span class=\"spark-nlp-display-entity-type\">DRUG</span><span class=\"spark-nlp-display-entity-resolution\" style=\"background-color: #8B668BFF\">Planned </span></span><span class=\"spark-nlp-display-others\"> 100 mg p.o. daily, and </span><span class=\"spark-nlp-display-entity-wrapper\" style=\"background-color: #8B668BB3\"><span class=\"spark-nlp-display-entity-name\">Bactrim DS </span><span class=\"spark-nlp-display-entity-type\">DRUG</span><span class=\"spark-nlp-display-entity-resolution\" style=\"background-color: #8B668BFF\">Planned </span></span><span class=\"spark-nlp-display-others\"> b.i.d.</span></div></div>"
            ]
          },
          "metadata": {}
        }
      ],
      "source": [
        "display(HTML(output['content']))"
      ]
    }
  ],
  "metadata": {
    "colab": {
      "toc_visible": true,
      "provenance": []
    },
    "kernelspec": {
      "display_name": ".venv",
      "language": "python",
      "name": "python3"
    },
    "language_info": {
      "codemirror_mode": {
        "name": "ipython",
        "version": 3
      },
      "file_extension": ".py",
      "mimetype": "text/x-python",
      "name": "python",
      "nbconvert_exporter": "python",
      "pygments_lexer": "ipython3",
      "version": "3.9.6"
    }
  },
  "nbformat": 4,
  "nbformat_minor": 0
}
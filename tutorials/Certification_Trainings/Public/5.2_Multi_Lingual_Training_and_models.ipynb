{
  "nbformat": 4,
  "nbformat_minor": 0,
  "metadata": {
    "colab": {
      "name": "5.2_Multi_Lingual_Training_and_models.ipynb",
      "provenance": [],
      "collapsed_sections": []
    },
    "kernelspec": {
      "display_name": "Python 3",
      "language": "python",
      "name": "python3"
    },
    "language_info": {
      "codemirror_mode": {
        "name": "ipython",
        "version": 3
      },
      "file_extension": ".py",
      "mimetype": "text/x-python",
      "name": "python",
      "nbconvert_exporter": "python",
      "pygments_lexer": "ipython3",
      "version": "3.7.4"
    }
  },
  "cells": [
    {
      "cell_type": "markdown",
      "metadata": {
        "id": "sXatvRX899i0"
      },
      "source": [
        "![JohnSnowLabs](https://nlp.johnsnowlabs.com/assets/images/logo.png)"
      ]
    },
    {
      "cell_type": "markdown",
      "metadata": {
        "id": "44B_JtXmyOuF"
      },
      "source": [
        "\n",
        "\n",
        "[![Open In Colab](https://colab.research.google.com/assets/colab-badge.svg)](https://colab.research.google.com/github/JohnSnowLabs/spark-nlp-workshop/blob/master/tutorials/Certification_Trainings/Public/5.2_Multi_Lingual_Training_and_models.ipynb)"
      ]
    },
    {
      "cell_type": "markdown",
      "metadata": {
        "id": "Kl6fW8Fkf3vN"
      },
      "source": [
        "## Train SOTA a multi-lingual NLP classifier, capable of understanding 100+ languages\n",
        "\n",
        "\n",
        "\n",
        "### Limits of uni-lingual embeddings\n",
        "Textual Embeddings are numerical vectorized representations of our training set and they encode semantic information in high dimensional space. Usually they are trained only on one language and are thus only able to embed text from the original training laguage properly. The Sentence `I love sausages` and `Ich liebe Bratwurst` have the same semantic meaning and should have a small distance in embedding space. But most english embedding models have never seen German words like `Bratwurst`, so the model would never be able to deduct that these sentences say the same thing and should have close proximity in hyperspace.    \n",
        "\n",
        "\n",
        "\n",
        "### Solutions with multi-lingual embeddings\n",
        "**Multi-Lingual embeddings** have been trained on usually 100+ of languages at the same time, which enables them to encode text from all of these languages into a semantic hyperspace. In this space similar semantic  pieces of text get mapped to points which represent the similarity by having a small distance in the embedding space.\n",
        "\n",
        "This enables many new use cases. You can train a classifier model on an English Dataset using Multi-Lingual Embeddings. The resulting model will be able to properly predict labels across all languages supported by the embedding. I.e if you use `LABSE` or `RoBERTa` your English dataset enables you to roll out a feature in 100+ countries because the embeddings already generalize enough for simple classifiers to properly leverage the hyperspace and yield good predictions\n",
        "\n",
        "\n",
        "Embeddings are feat\n",
        "\n",
        "There are many multi-lingual embeddings you can leverage via Spark NLP, you can find them all in the [Models-Hub by setting filters to Multi-Lingual and Type to Embedding](https://nlp.johnsnowlabs.com/models?language=xx&task=Embeddings)\n",
        "\n",
        "\n",
        "\n",
        "| Name                                                                                                                   | Spark NLP Model Name               | language   |\n",
        "|:-----------------------------------------------------------------------------------------------------------------------|:-----------------------------------|:-----------|\n",
        "| GloVe Embeddings 6B 300 (Multilingual)                                                                                 | glove_6B_300                       | xx         |\n",
        "| GloVe Embeddings 840B 300 (Multilingual)                                                                               | glove_840B_300                     | xx         |\n",
        "| Multilingual BERT Embeddings (Base Cased)                                                                              | bert_multi_cased                   | xx         |\n",
        "| Multilingual BERT Sentence Embeddings (Base Cased)                                                                     | sent_bert_multi_cased              | xx         |\n",
        "| Universal Sentence Encoder Multilingual Large                                                                          | tfhub_use_multi_lg                 | xx         |\n",
        "| Universal Sentence Encoder Multilingual                                                                                | tfhub_use_multi                    | xx         |\n",
        "| Universal Sentence Encoder XLING English and German                                                                    | tfhub_use_xling_en_de              | xx         |\n",
        "| Universal Sentence Encoder XLING English and Spanish                                                                   | tfhub_use_xling_en_es              | xx         |\n",
        "| Universal Sentence Encoder XLING English and French                                                                    | tfhub_use_xling_en_fr              | xx         |\n",
        "| Universal Sentence Encoder XLING Many                                                                                  | tfhub_use_xling_many               | xx         |\n",
        "| Universal Sentence Encoder Multilingual Large (tfhub_use_multi_lg)                                                     | tfhub_use_multi_lg                 | xx         |\n",
        "| Universal Sentence Encoder Multilingual (tfhub_use_multi)                                                              | tfhub_use_multi                    | xx         |\n",
        "| BERT multilingual base model (cased)                                                                                   | bert_base_multilingual_cased       | xx         |\n",
        "| BERT multilingual base model (uncased)                                                                                 | bert_base_multilingual_uncased     | xx         |\n",
        "| DistilBERT base multilingual model (cased)                                                                             | distilbert_base_multilingual_cased | xx         |\n",
        "| Twitter XLM-RoBERTa Base (twitter_xlm_roberta_base)                                                                    | twitter_xlm_roberta_base           | xx         |\n",
        "| XLM-RoBERTa Base (xlm_roberta_base)                                                                                    | xlm_roberta_base                   | xx         |\n",
        "| XLM-RoBERTa XTREME Base (xlm_roberta_xtreme_base)                                                                      | xlm_roberta_xtreme_base            | xx         |\n",
        "| Universal sentence encoder for 100+ languages trained with CMLM (sent_bert_use_cmlm_multi_base_br)                     | sent_bert_use_cmlm_multi_base_br   | xx         |\n",
        "| Universal sentence encoder for 100+ languages trained with CMLM (sent_bert_use_cmlm_multi_base)                        | sent_bert_use_cmlm_multi_base      | xx         |\n",
        "| Multilingual Representations for Indian Languages (MuRIL)                                                              | bert_muril                         | xx         |\n",
        "| Multilingual Representations for Indian Languages (MuRIL) - BERT Sentence Embedding pre-trained on 17 Indian languages | sent_bert_muril                    | xx         |\n",
        "| XLM-RoBERTa Base Sentence Embeddings (sent_xlm_roberta_base)                                                           | sent_xlm_roberta_base              | xx         |\n",
        "| XLM-RoBERTa Large (xlm_roberta_large)                                                                                  | xlm_roberta_large                  | xx         |\n",
        "\n"
      ]
    },
    {
      "cell_type": "markdown",
      "metadata": {
        "id": "06DMedvcgjKa"
      },
      "source": [
        "## Colab Setup"
      ]
    },
    {
      "cell_type": "code",
      "metadata": {
        "id": "3Mc2rld9f7YW"
      },
      "source": [
        "! pip install -q pyspark==3.1.2 spark-nlp"
      ],
      "execution_count": null,
      "outputs": []
    },
    {
      "cell_type": "code",
      "metadata": {
        "colab": {
          "base_uri": "https://localhost:8080/",
          "height": 252
        },
        "id": "KjcBNzFVgoky",
        "outputId": "0d60b789-257d-4772-9151-d5df2ae09255"
      },
      "source": [
        "import sparknlp\n",
        "spark = sparknlp.start()\n",
        "from sparknlp.base import *\n",
        "from sparknlp.annotator import *\n",
        "from pyspark.ml import Pipeline\n",
        "import pandas as pd\n",
        "print(\"Spark NLP version\", sparknlp.version())\n",
        "print(\"Apache Spark version:\", spark.version)\n",
        "\n",
        "spark"
      ],
      "execution_count": 2,
      "outputs": [
        {
          "output_type": "stream",
          "name": "stdout",
          "text": [
            "Spark NLP version 3.3.1\n",
            "Apache Spark version: 3.1.2\n"
          ]
        },
        {
          "output_type": "execute_result",
          "data": {
            "text/html": [
              "\n",
              "            <div>\n",
              "                <p><b>SparkSession - in-memory</b></p>\n",
              "                \n",
              "        <div>\n",
              "            <p><b>SparkContext</b></p>\n",
              "\n",
              "            <p><a href=\"http://ce5336168326:4040\">Spark UI</a></p>\n",
              "\n",
              "            <dl>\n",
              "              <dt>Version</dt>\n",
              "                <dd><code>v3.1.2</code></dd>\n",
              "              <dt>Master</dt>\n",
              "                <dd><code>local[*]</code></dd>\n",
              "              <dt>AppName</dt>\n",
              "                <dd><code>Spark NLP</code></dd>\n",
              "            </dl>\n",
              "        </div>\n",
              "        \n",
              "            </div>\n",
              "        "
            ],
            "text/plain": [
              "<pyspark.sql.session.SparkSession at 0x7ff9df92a810>"
            ]
          },
          "metadata": {},
          "execution_count": 2
        }
      ]
    },
    {
      "cell_type": "markdown",
      "metadata": {
        "id": "KBHUSgj3UMgY"
      },
      "source": [
        "## Download Dataset"
      ]
    },
    {
      "cell_type": "code",
      "metadata": {
        "id": "VN8L1F-OVq0A"
      },
      "source": [
        "! wget -q http://ckl-it.de/wp-content/uploads/2021/02/news_category_test_multi_lingual.csv"
      ],
      "execution_count": null,
      "outputs": []
    },
    {
      "cell_type": "code",
      "metadata": {
        "colab": {
          "base_uri": "https://localhost:8080/"
        },
        "id": "Rp-0C1oFUWSp",
        "outputId": "3ae031b7-54bb-41b0-d159-7df35bddecc2"
      },
      "source": [
        "dataset = spark.read \\\n",
        "      .option(\"header\", True) \\\n",
        "      .csv('/content/news_category_test_multi_lingual.csv').limit(10000)\n",
        "dataset.show()"
      ],
      "execution_count": null,
      "outputs": [
        {
          "output_type": "stream",
          "name": "stdout",
          "text": [
            "+---+--------+--------------------+------------------------------+\n",
            "|_c0|       y|                text|                test_sentences|\n",
            "+---+--------+--------------------+------------------------------+\n",
            "|  0|Business|Unions representi...|          టర్నర్ నెవాల్ వద్...|\n",
            "|  1|Sci/Tech| TORONTO, Canada ...|          Торонто, Канада #...|\n",
            "|  2|Sci/Tech| A company founde...|          Une société fondé...|\n",
            "|  3|Sci/Tech| It's barely dawn...|          সবেমাত্র ভোর যখন ...|\n",
            "|  4|Sci/Tech| Southern Califor...|          Көньяк Калифорния...|\n",
            "|  5|Sci/Tech|\"The British Depa...|           with the ostensi...|\n",
            "|  6|Sci/Tech|\"confessed author...|           something expert...|\n",
            "|  7|Sci/Tech|\\\\FOAF/LOAF  and ...|          \\ FOAF / LOAF- un...|\n",
            "|  8|Sci/Tech|\"Wiltshire Police...|          \"வில்ட்ஷயர் பொலிஸ...|\n",
            "|  9|Sci/Tech|In its first two ...|          ក្នុងរយៈពេលពីរឆ្ន...|\n",
            "| 10|Sci/Tech| A group of techn...|          Техас Инструменты...|\n",
            "| 11|Sci/Tech| Apple Computer I...|苹果计算机公司（AAPL.O）。 ...|\n",
            "| 12|Sci/Tech| Free Record Shop...|          ហាងលក់រាយតន្ត្រីដ...|\n",
            "| 13|Sci/Tech|A giant 100km col...|          Avustralya'nın Me...|\n",
            "| 14|Sci/Tech|\"Dolphin groups, ...|           rely on socialit...|\n",
            "| 15|Sci/Tech|Tyrannosaurus rex...|          টিনরানসৌরাস রেক্স...|\n",
            "| 16|Sci/Tech|  Scientists have...|          מדענים גילו גושים...|\n",
            "| 17|Sci/Tech|  ESAs Mars Expre...|          ESA's Mars Expres...|\n",
            "| 18|Sci/Tech|When did life beg...|          வாழ்க்கை எப்போது ...|\n",
            "| 19|Sci/Tech|update Earnings p...|          actualización Las...|\n",
            "+---+--------+--------------------+------------------------------+\n",
            "only showing top 20 rows\n",
            "\n"
          ]
        }
      ]
    },
    {
      "cell_type": "code",
      "metadata": {
        "id": "JQi1Zr5ebHCo"
      },
      "source": [
        "# Split dataset \n",
        "train_df , test_df = dataset.randomSplit([0.7, 0.3])\n",
        " "
      ],
      "execution_count": null,
      "outputs": []
    },
    {
      "cell_type": "markdown",
      "metadata": {
        "id": "JZyycKyzQcwQ"
      },
      "source": [
        "# Create Pipeline With MultiLingual Embeddings and Trainable Classifier"
      ]
    },
    {
      "cell_type": "code",
      "metadata": {
        "colab": {
          "base_uri": "https://localhost:8080/"
        },
        "id": "gXdynTiFHKLK",
        "outputId": "90479815-a08f-4204-fd8e-eb503f7a30d5"
      },
      "source": [
        "from pyspark.ml import Pipeline\n",
        "from sparknlp.annotator import *\n",
        "from sparknlp.common import *\n",
        "from sparknlp.base import *\n",
        "\n",
        "\n",
        "# actual content is inside description column\n",
        "document = DocumentAssembler()\\\n",
        "    .setInputCol(\"text\")\\\n",
        "    .setOutputCol(\"document\")\n",
        "\n",
        "sent_embeddings = BertSentenceEmbeddings.pretrained(\"labse\", \"xx\") \\\n",
        "      .setInputCols(\"document\") \\\n",
        "      .setOutputCol(\"sentence_embeddings\")\n",
        "\n",
        "# the classes/labels/categories are in category column\n",
        "classsifierdl = ClassifierDLApproach()\\\n",
        "  .setInputCols([\"sentence_embeddings\"])\\\n",
        "  .setOutputCol(\"class\")\\\n",
        "  .setLabelColumn(\"y\")\\\n",
        "  .setMaxEpochs(60)\\\n",
        "  .setLr(0.005) \n",
        "pipeline = Pipeline(\n",
        "    stages = [\n",
        "        document,\n",
        "        sent_embeddings,\n",
        "        classsifierdl\n",
        "    ])\n",
        "mutli_lingual_model = pipeline.fit(train_df)\n"
      ],
      "execution_count": null,
      "outputs": [
        {
          "output_type": "stream",
          "name": "stdout",
          "text": [
            "labse download started this may take some time.\n",
            "Approximate size to download 1.7 GB\n",
            "[OK!]\n"
          ]
        }
      ]
    },
    {
      "cell_type": "code",
      "metadata": {
        "id": "Rb8eTkCiWw-F",
        "colab": {
          "base_uri": "https://localhost:8080/"
        },
        "outputId": "7c5c2fa2-a288-4a06-a9e0-f755abbe1995"
      },
      "source": [
        "preds = mutli_lingual_model.transform(test_df)\n",
        "preds.show()"
      ],
      "execution_count": null,
      "outputs": [
        {
          "output_type": "stream",
          "name": "stdout",
          "text": [
            "+----+--------+--------------------+--------------------+--------------------+--------------------+--------------------+\n",
            "| _c0|       y|                text|      test_sentences|            document| sentence_embeddings|               class|\n",
            "+----+--------+--------------------+--------------------+--------------------+--------------------+--------------------+\n",
            "|   0|Business|Unions representi...|టర్నర్ నెవాల్ వద్...|[[document, 0, 12...|[[sentence_embedd...|[[category, 0, 12...|\n",
            "|1002|Sci/Tech| Availability of ...|                    |[[document, 0, 91...|[[sentence_embedd...|[[category, 0, 91...|\n",
            "|1007|  Sports|Teenage striker W...|                    |[[document, 0, 13...|[[sentence_embedd...|[[category, 0, 13...|\n",
            "|1008|  Sports|  British police ...|                    |[[document, 0, 14...|[[sentence_embedd...|[[category, 0, 14...|\n",
            "| 101|Business|Rising fuel price...|                    |[[document, 0, 23...|[[sentence_embedd...|[[category, 0, 23...|\n",
            "|1011|Sci/Tech| China's largest ...|                    |[[document, 0, 16...|[[sentence_embedd...|[[category, 0, 16...|\n",
            "|1017|   World|\" A funny thing h...|                    |[[document, 0, 22...|[[sentence_embedd...|[[category, 0, 22...|\n",
            "|1020|  Sports|The Football Asso...|                    |[[document, 0, 17...|[[sentence_embedd...|[[category, 0, 17...|\n",
            "|1021|   World|The Israeli army ...|                    |[[document, 0, 14...|[[sentence_embedd...|[[category, 0, 14...|\n",
            "|1022|Sci/Tech|Climate scientist...|                    |[[document, 0, 10...|[[sentence_embedd...|[[category, 0, 10...|\n",
            "|1023|Business|Goldwyn Meyer has...|                    |[[document, 0, 21...|[[sentence_embedd...|[[category, 0, 21...|\n",
            "|1025|Business|Crude oil futures...|                    |[[document, 0, 16...|[[sentence_embedd...|[[category, 0, 16...|\n",
            "| 103|Business|Charly Travers of...|                    |[[document, 0, 81...|[[sentence_embedd...|[[category, 0, 81...|\n",
            "|1030|Business|SPRINGFIELD, Ill....|                    |[[document, 0, 21...|[[sentence_embedd...|[[category, 0, 21...|\n",
            "|1032|Sci/Tech| Cornell research...|                    |[[document, 0, 15...|[[sentence_embedd...|[[category, 0, 15...|\n",
            "|1037|Sci/Tech|The installation ...|                    |[[document, 0, 19...|[[sentence_embedd...|[[category, 0, 19...|\n",
            "| 104|   World|Just what Alexand...|                    |[[document, 0, 26...|[[sentence_embedd...|[[category, 0, 26...|\n",
            "|1045|Sci/Tech|  Apple Computer ...|                    |[[document, 0, 14...|[[sentence_embedd...|[[category, 0, 14...|\n",
            "|1046|Sci/Tech| Despite well pub...|                    |[[document, 0, 12...|[[sentence_embedd...|[[category, 0, 12...|\n",
            "|1048|  Sports|Football365 #39;s...|                    |[[document, 0, 25...|[[sentence_embedd...|[[category, 0, 25...|\n",
            "+----+--------+--------------------+--------------------+--------------------+--------------------+--------------------+\n",
            "only showing top 20 rows\n",
            "\n"
          ]
        }
      ]
    },
    {
      "cell_type": "markdown",
      "metadata": {
        "id": "FzSthAbHS72B"
      },
      "source": [
        "# Evauate Multi-Lingual Model"
      ]
    },
    {
      "cell_type": "code",
      "metadata": {
        "id": "XAmbHcTjM6BP",
        "colab": {
          "base_uri": "https://localhost:8080/",
          "height": 421
        },
        "outputId": "7d7be35a-0b1b-414f-bada-1f31f01c5136"
      },
      "source": [
        "df = preds.select(['y','class.result']).toPandas()\n",
        "df['result'] = df['result'].apply(lambda x : x[0])\n",
        "df"
      ],
      "execution_count": null,
      "outputs": [
        {
          "output_type": "execute_result",
          "data": {
            "text/html": [
              "<div>\n",
              "<style scoped>\n",
              "    .dataframe tbody tr th:only-of-type {\n",
              "        vertical-align: middle;\n",
              "    }\n",
              "\n",
              "    .dataframe tbody tr th {\n",
              "        vertical-align: top;\n",
              "    }\n",
              "\n",
              "    .dataframe thead th {\n",
              "        text-align: right;\n",
              "    }\n",
              "</style>\n",
              "<table border=\"1\" class=\"dataframe\">\n",
              "  <thead>\n",
              "    <tr style=\"text-align: right;\">\n",
              "      <th></th>\n",
              "      <th>y</th>\n",
              "      <th>result</th>\n",
              "    </tr>\n",
              "  </thead>\n",
              "  <tbody>\n",
              "    <tr>\n",
              "      <th>0</th>\n",
              "      <td>Business</td>\n",
              "      <td>Business</td>\n",
              "    </tr>\n",
              "    <tr>\n",
              "      <th>1</th>\n",
              "      <td>Sci/Tech</td>\n",
              "      <td>Sci/Tech</td>\n",
              "    </tr>\n",
              "    <tr>\n",
              "      <th>2</th>\n",
              "      <td>Sports</td>\n",
              "      <td>Sports</td>\n",
              "    </tr>\n",
              "    <tr>\n",
              "      <th>3</th>\n",
              "      <td>Sports</td>\n",
              "      <td>Sports</td>\n",
              "    </tr>\n",
              "    <tr>\n",
              "      <th>4</th>\n",
              "      <td>Business</td>\n",
              "      <td>Business</td>\n",
              "    </tr>\n",
              "    <tr>\n",
              "      <th>...</th>\n",
              "      <td>...</td>\n",
              "      <td>...</td>\n",
              "    </tr>\n",
              "    <tr>\n",
              "      <th>2284</th>\n",
              "      <td>Sports</td>\n",
              "      <td>Sports</td>\n",
              "    </tr>\n",
              "    <tr>\n",
              "      <th>2285</th>\n",
              "      <td>World</td>\n",
              "      <td>World</td>\n",
              "    </tr>\n",
              "    <tr>\n",
              "      <th>2286</th>\n",
              "      <td>Sci/Tech</td>\n",
              "      <td>Business</td>\n",
              "    </tr>\n",
              "    <tr>\n",
              "      <th>2287</th>\n",
              "      <td>Business</td>\n",
              "      <td>Business</td>\n",
              "    </tr>\n",
              "    <tr>\n",
              "      <th>2288</th>\n",
              "      <td>World</td>\n",
              "      <td>World</td>\n",
              "    </tr>\n",
              "  </tbody>\n",
              "</table>\n",
              "<p>2289 rows × 2 columns</p>\n",
              "</div>"
            ],
            "text/plain": [
              "             y    result\n",
              "0     Business  Business\n",
              "1     Sci/Tech  Sci/Tech\n",
              "2       Sports    Sports\n",
              "3       Sports    Sports\n",
              "4     Business  Business\n",
              "...        ...       ...\n",
              "2284    Sports    Sports\n",
              "2285     World     World\n",
              "2286  Sci/Tech  Business\n",
              "2287  Business  Business\n",
              "2288     World     World\n",
              "\n",
              "[2289 rows x 2 columns]"
            ]
          },
          "metadata": {},
          "execution_count": 8
        }
      ]
    },
    {
      "cell_type": "code",
      "metadata": {
        "id": "hk8j2g7UblS_",
        "colab": {
          "base_uri": "https://localhost:8080/"
        },
        "outputId": "db024e7d-883d-4829-aa0d-095592ab2c7b"
      },
      "source": [
        "# We are going to use sklearn to evalute the results on test dataset\n",
        "from sklearn.metrics import classification_report\n",
        "print(classification_report(df['result'], df['y']))"
      ],
      "execution_count": null,
      "outputs": [
        {
          "output_type": "stream",
          "name": "stdout",
          "text": [
            "              precision    recall  f1-score   support\n",
            "\n",
            "    Business       0.78      0.81      0.80       565\n",
            "    Sci/Tech       0.84      0.79      0.81       583\n",
            "      Sports       0.93      0.95      0.94       594\n",
            "       World       0.86      0.87      0.87       547\n",
            "\n",
            "    accuracy                           0.85      2289\n",
            "   macro avg       0.85      0.85      0.85      2289\n",
            "weighted avg       0.85      0.85      0.85      2289\n",
            "\n"
          ]
        }
      ]
    },
    {
      "cell_type": "code",
      "metadata": {
        "colab": {
          "base_uri": "https://localhost:8080/"
        },
        "id": "xmK4273tLgmE",
        "outputId": "5ccfe569-71a2-4a16-92fc-2c001d95949b"
      },
      "source": [
        "# Train dataset metrics\n",
        "preds = mutli_lingual_model.transform(train_df)\n",
        "df = preds.select(['y','class.result']).toPandas()\n",
        "df['result'] = df['result'].apply(lambda x : x[0])\n",
        "print(classification_report(df['result'], df['y']))\n"
      ],
      "execution_count": null,
      "outputs": [
        {
          "output_type": "stream",
          "name": "stdout",
          "text": [
            "              precision    recall  f1-score   support\n",
            "\n",
            "    Business       0.89      0.90      0.89      1308\n",
            "    Sci/Tech       0.92      0.89      0.90      1385\n",
            "      Sports       0.98      0.95      0.96      1340\n",
            "       World       0.90      0.95      0.93      1278\n",
            "\n",
            "    accuracy                           0.92      5311\n",
            "   macro avg       0.92      0.92      0.92      5311\n",
            "weighted avg       0.92      0.92      0.92      5311\n",
            "\n"
          ]
        }
      ]
    },
    {
      "cell_type": "markdown",
      "metadata": {
        "id": "RjtuNUcvuJTT"
      },
      "source": [
        "# The Model understands Englsih\n",
        "![en](https://www.worldometers.info/img/flags/small/tn_nz-flag.gif)"
      ]
    },
    {
      "cell_type": "code",
      "metadata": {
        "id": "o0vu7PaWkcI7",
        "colab": {
          "base_uri": "https://localhost:8080/"
        },
        "outputId": "8731b9eb-e035-42e0-a918-94b603a55bb5"
      },
      "source": [
        "model.annotate(\"There have been a great increase in businesses over the last decade \")\n"
      ],
      "execution_count": null,
      "outputs": [
        {
          "output_type": "execute_result",
          "data": {
            "text/plain": [
              "{'class': ['Business'],\n",
              " 'document': ['There have been a great increase in businesses over the last decade '],\n",
              " 'sentence_embeddings': ['There have been a great increase in businesses over the last decade ']}"
            ]
          },
          "metadata": {},
          "execution_count": 11
        }
      ]
    },
    {
      "cell_type": "code",
      "metadata": {
        "id": "1ykjRQhCtQ4w",
        "colab": {
          "base_uri": "https://localhost:8080/"
        },
        "outputId": "857bab6e-b63d-4f92-dbe6-79fbef21b590"
      },
      "source": [
        "model.annotate(\"Science has advanced rapidly over the last century \")\n"
      ],
      "execution_count": null,
      "outputs": [
        {
          "output_type": "execute_result",
          "data": {
            "text/plain": [
              "{'class': ['Sci/Tech'],\n",
              " 'document': ['Science has advanced rapidly over the last century '],\n",
              " 'sentence_embeddings': ['Science has advanced rapidly over the last century ']}"
            ]
          },
          "metadata": {},
          "execution_count": 12
        }
      ]
    },
    {
      "cell_type": "markdown",
      "metadata": {
        "id": "vohym-XbuNHn"
      },
      "source": [
        "# The Model understands German\n",
        "![de](https://www.worldometers.info/img/flags/small/tn_gm-flag.gif)"
      ]
    },
    {
      "cell_type": "code",
      "metadata": {
        "id": "dzaaZrI4tVWc",
        "colab": {
          "base_uri": "https://localhost:8080/"
        },
        "outputId": "89ccfde6-9333-453c-8e78-a94918c813aa"
      },
      "source": [
        "# German for: 'Businesses are the best way of making profit'\n",
        "model.annotate(\"Unternehmen sind der beste Weg, um Gewinn zu erzielen\")\n"
      ],
      "execution_count": null,
      "outputs": [
        {
          "output_type": "execute_result",
          "data": {
            "text/plain": [
              "{'class': ['Business'],\n",
              " 'document': ['Unternehmen sind der beste Weg, um Gewinn zu erzielen'],\n",
              " 'sentence_embeddings': ['Unternehmen sind der beste Weg, um Gewinn zu erzielen']}"
            ]
          },
          "metadata": {},
          "execution_count": 13
        }
      ]
    },
    {
      "cell_type": "code",
      "metadata": {
        "id": "BbhgTSBGtTtJ",
        "colab": {
          "base_uri": "https://localhost:8080/"
        },
        "outputId": "64093f26-01be-46a1-baa8-6b857706ed8c"
      },
      "source": [
        "# German for: 'Science has advanced rapidly over the last century'\n",
        "model.annotate(\"Die Wissenschaft hat im letzten Jahrhundert rasante Fortschritte gemacht \")"
      ],
      "execution_count": null,
      "outputs": [
        {
          "output_type": "execute_result",
          "data": {
            "text/plain": [
              "{'class': ['Sci/Tech'],\n",
              " 'document': ['Die Wissenschaft hat im letzten Jahrhundert rasante Fortschritte gemacht '],\n",
              " 'sentence_embeddings': ['Die Wissenschaft hat im letzten Jahrhundert rasante Fortschritte gemacht ']}"
            ]
          },
          "metadata": {},
          "execution_count": 14
        }
      ]
    },
    {
      "cell_type": "markdown",
      "metadata": {
        "id": "a1JbtmWquQwj"
      },
      "source": [
        "# The Model understands Chinese\n",
        "![zh](https://www.worldometers.info/img/flags/small/tn_ch-flag.gif)"
      ]
    },
    {
      "cell_type": "code",
      "metadata": {
        "id": "kYSYqtoRtc-P",
        "colab": {
          "base_uri": "https://localhost:8080/"
        },
        "outputId": "253a6e07-f437-48e2-bd23-0dfdd6de897f"
      },
      "source": [
        "# Chinese for: 'There have been a great increase in businesses over the last decade'\n",
        "model.annotate(\"在过去的十年中，业务有了很大的增长 \")"
      ],
      "execution_count": null,
      "outputs": [
        {
          "output_type": "execute_result",
          "data": {
            "text/plain": [
              "{'class': ['Business'],\n",
              " 'document': ['在过去的十年中，业务有了很大的增长 '],\n",
              " 'sentence_embeddings': ['在过去的十年中，业务有了很大的增长 ']}"
            ]
          },
          "metadata": {},
          "execution_count": 15
        }
      ]
    },
    {
      "cell_type": "code",
      "metadata": {
        "id": "06v9SD-QtlBU",
        "colab": {
          "base_uri": "https://localhost:8080/"
        },
        "outputId": "a45ae882-0646-4d6f-a8c6-1da088613696"
      },
      "source": [
        "# Chinese for: 'Science has advanced rapidly over the last century'\n",
        "model.annotate(\"在上个世纪，科学发展迅速 \")\n",
        "\t\t"
      ],
      "execution_count": null,
      "outputs": [
        {
          "output_type": "execute_result",
          "data": {
            "text/plain": [
              "{'class': ['Sci/Tech'],\n",
              " 'document': ['在上个世纪，科学发展迅速 '],\n",
              " 'sentence_embeddings': ['在上个世纪，科学发展迅速 ']}"
            ]
          },
          "metadata": {},
          "execution_count": 16
        }
      ]
    },
    {
      "cell_type": "markdown",
      "metadata": {
        "id": "9h7CvN4uu9Pb"
      },
      "source": [
        "# Model understands Afrikaans\n",
        "\n",
        "![af](https://www.worldometers.info/img/flags/small/tn_sf-flag.gif)\n",
        "\n"
      ]
    },
    {
      "cell_type": "code",
      "metadata": {
        "id": "VMPhbgw9twtf",
        "colab": {
          "base_uri": "https://localhost:8080/"
        },
        "outputId": "073f59fd-fb73-4ca3-ae91-1b9745101024"
      },
      "source": [
        "#  Afrikaans for: 'There have been a great increase in businesses over the last decade'\n",
        "model.annotate(\"Daar het die afgelope dekade 'n groot toename in besighede plaasgevind \")"
      ],
      "execution_count": null,
      "outputs": [
        {
          "output_type": "execute_result",
          "data": {
            "text/plain": [
              "{'class': ['Sci/Tech'],\n",
              " 'document': [\"Daar het die afgelope dekade 'n groot toename in besighede plaasgevind \"],\n",
              " 'sentence_embeddings': [\"Daar het die afgelope dekade 'n groot toename in besighede plaasgevind \"]}"
            ]
          },
          "metadata": {},
          "execution_count": 17
        }
      ]
    },
    {
      "cell_type": "code",
      "metadata": {
        "id": "TggzMdeXQIyQ",
        "colab": {
          "base_uri": "https://localhost:8080/"
        },
        "outputId": "e0bb6f8e-63e9-42e0-cc4f-65fb4b26b8b1"
      },
      "source": [
        "#  Afrikaans for: 'Science has advanced rapidly over the last century'\n",
        "model.annotate(\"Die wetenskap het die afgelope eeu vinnig gevorder \")"
      ],
      "execution_count": null,
      "outputs": [
        {
          "output_type": "execute_result",
          "data": {
            "text/plain": [
              "{'class': ['Sci/Tech'],\n",
              " 'document': ['Die wetenskap het die afgelope eeu vinnig gevorder '],\n",
              " 'sentence_embeddings': ['Die wetenskap het die afgelope eeu vinnig gevorder ']}"
            ]
          },
          "metadata": {},
          "execution_count": 18
        }
      ]
    },
    {
      "cell_type": "markdown",
      "metadata": {
        "id": "8R1j9mwz2Cm4"
      },
      "source": [
        "# Model understands Urdu\n",
        "![ur](https://www.worldometers.info/img/flags/small/tn_pk-flag.gif)"
      ]
    },
    {
      "cell_type": "code",
      "metadata": {
        "id": "j4zwvRV11pcG",
        "colab": {
          "base_uri": "https://localhost:8080/"
        },
        "outputId": "0f5da732-0cb6-4237-a5df-d20e55e912db"
      },
      "source": [
        "# Urdu for: 'There have been a great increase in businesses over the last decade'\n",
        "model.annotate(\"پچھلے ایک دہائی کے دوران کاروباروں میں زبردست اضافہ ہوا ہے \")"
      ],
      "execution_count": null,
      "outputs": [
        {
          "output_type": "execute_result",
          "data": {
            "text/plain": [
              "{'class': ['Business'],\n",
              " 'document': ['پچھلے ایک دہائی کے دوران کاروباروں میں زبردست اضافہ ہوا ہے '],\n",
              " 'sentence_embeddings': ['پچھلے ایک دہائی کے دوران کاروباروں میں زبردست اضافہ ہوا ہے ']}"
            ]
          },
          "metadata": {},
          "execution_count": 19
        }
      ]
    },
    {
      "cell_type": "code",
      "metadata": {
        "id": "SxzTuK4b2UKV",
        "colab": {
          "base_uri": "https://localhost:8080/"
        },
        "outputId": "c00c2978-eeac-4dc2-a84a-50d125c4265f"
      },
      "source": [
        "# Urdu for: 'Science has advanced rapidly over the last century'\n",
        "model.annotate(\"سائنس گذشتہ صدی کے دوران تیزی سے ترقی کرچکی ہے \")"
      ],
      "execution_count": null,
      "outputs": [
        {
          "output_type": "execute_result",
          "data": {
            "text/plain": [
              "{'class': ['Sci/Tech'],\n",
              " 'document': ['سائنس گذشتہ صدی کے دوران تیزی سے ترقی کرچکی ہے '],\n",
              " 'sentence_embeddings': ['سائنس گذشتہ صدی کے دوران تیزی سے ترقی کرچکی ہے ']}"
            ]
          },
          "metadata": {},
          "execution_count": 20
        }
      ]
    },
    {
      "cell_type": "markdown",
      "metadata": {
        "id": "RoNg-C3k1qcX"
      },
      "source": [
        "# Model understands Hindi\n",
        "![hi](https://www.worldometers.info/img/flags/small/tn_in-flag.gif)\n"
      ]
    },
    {
      "cell_type": "code",
      "metadata": {
        "id": "QZ9RT5Wv1r1n",
        "colab": {
          "base_uri": "https://localhost:8080/"
        },
        "outputId": "70272c9f-7215-486f-9ecf-935e31863274"
      },
      "source": [
        "# hindi for: 'There have been a great increase in businesses over the last decade'\n",
        "model.annotate(\"पिछले दशक में व्यवसायों में बहुत वृद्धि हुई है \")"
      ],
      "execution_count": null,
      "outputs": [
        {
          "output_type": "execute_result",
          "data": {
            "text/plain": [
              "{'class': ['Business'],\n",
              " 'document': ['पिछले दशक में व्यवसायों में बहुत वृद्धि हुई है '],\n",
              " 'sentence_embeddings': ['पिछले दशक में व्यवसायों में बहुत वृद्धि हुई है ']}"
            ]
          },
          "metadata": {},
          "execution_count": 21
        }
      ]
    },
    {
      "cell_type": "code",
      "metadata": {
        "id": "quM-IL2i12-B",
        "colab": {
          "base_uri": "https://localhost:8080/"
        },
        "outputId": "2865b09f-8381-4a73-eb60-05d679533828"
      },
      "source": [
        "\t\t\n",
        "# hindi for: 'Science has advanced rapidly over the last century'\n",
        "model.annotate(\"विज्ञान पिछली सदी में तेजी से आगे बढ़ा है \")"
      ],
      "execution_count": null,
      "outputs": [
        {
          "output_type": "execute_result",
          "data": {
            "text/plain": [
              "{'class': ['Sci/Tech'],\n",
              " 'document': ['विज्ञान पिछली सदी में तेजी से आगे बढ़ा है '],\n",
              " 'sentence_embeddings': ['विज्ञान पिछली सदी में तेजी से आगे बढ़ा है ']}"
            ]
          },
          "metadata": {},
          "execution_count": 22
        }
      ]
    },
    {
      "cell_type": "code",
      "metadata": {
        "id": "UEEd9rpIR-B8"
      },
      "source": [
        ""
      ],
      "execution_count": null,
      "outputs": []
    }
  ]
}
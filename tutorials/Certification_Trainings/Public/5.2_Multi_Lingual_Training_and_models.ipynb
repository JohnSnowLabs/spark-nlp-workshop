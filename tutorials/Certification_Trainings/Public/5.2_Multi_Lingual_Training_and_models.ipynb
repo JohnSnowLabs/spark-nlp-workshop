{
  "cells": [
    {
      "cell_type": "markdown",
      "metadata": {
        "id": "sXatvRX899i0"
      },
      "source": [
        "![JohnSnowLabs](https://nlp.johnsnowlabs.com/assets/images/logo.png)"
      ]
    },
    {
      "cell_type": "markdown",
      "metadata": {
        "id": "44B_JtXmyOuF"
      },
      "source": [
        "\n",
        "\n",
        "[![Open In Colab](https://colab.research.google.com/assets/colab-badge.svg)](https://colab.research.google.com/github/JohnSnowLabs/spark-nlp-workshop/blob/master/tutorials/Certification_Trainings/Public/5.2_Multi_Lingual_Training_and_models.ipynb)"
      ]
    },
    {
      "cell_type": "markdown",
      "metadata": {
        "id": "Kl6fW8Fkf3vN"
      },
      "source": [
        "## Train SOTA a multi-lingual NLP classifier, capable of understanding 100+ languages\n",
        "\n",
        "\n",
        "\n",
        "### Limits of uni-lingual embeddings\n",
        "Textual Embeddings are numerical vectorized representations of our training set and they encode semantic information in high dimensional space. Usually they are trained only on one language and are thus only able to embed text from the original training laguage properly. The Sentence `I love sausages` and `Ich liebe Bratwurst` have the same semantic meaning and should have a small distance in embedding space. But most english embedding models have never seen German words like `Bratwurst`, so the model would never be able to deduct that these sentences say the same thing and should have close proximity in hyperspace.    \n",
        "\n",
        "\n",
        "\n",
        "### Solutions with multi-lingual embeddings\n",
        "**Multi-Lingual embeddings** have been trained on usually 100+ of languages at the same time, which enables them to encode text from all of these languages into a semantic hyperspace. In this space similar semantic  pieces of text get mapped to points which represent the similarity by having a small distance in the embedding space.\n",
        "\n",
        "This enables many new use cases. You can train a classifier model on an English Dataset using Multi-Lingual Embeddings. The resulting model will be able to properly predict labels across all languages supported by the embedding. I.e if you use `LABSE` or `RoBERTa` your English dataset enables you to roll out a feature in 100+ countries because the embeddings already generalize enough for simple classifiers to properly leverage the hyperspace and yield good predictions\n",
        "\n",
        "\n",
        "Embeddings are feat\n",
        "\n",
        "There are many multi-lingual embeddings you can leverage via Spark NLP, you can find them all in the [Models-Hub by setting filters to Multi-Lingual and Type to Embedding](https://nlp.johnsnowlabs.com/models?language=xx&task=Embeddings)\n",
        "\n",
        "\n",
        "\n",
        "| Name                                                                                                                   | Spark NLP Model Name               | language   |\n",
        "|:-----------------------------------------------------------------------------------------------------------------------|:-----------------------------------|:-----------|\n",
        "| GloVe Embeddings 6B 300 (Multilingual)                                                                                 | glove_6B_300                       | xx         |\n",
        "| GloVe Embeddings 840B 300 (Multilingual)                                                                               | glove_840B_300                     | xx         |\n",
        "| Multilingual BERT Embeddings (Base Cased)                                                                              | bert_multi_cased                   | xx         |\n",
        "| Multilingual BERT Sentence Embeddings (Base Cased)                                                                     | sent_bert_multi_cased              | xx         |\n",
        "| Universal Sentence Encoder Multilingual Large                                                                          | tfhub_use_multi_lg                 | xx         |\n",
        "| Universal Sentence Encoder Multilingual                                                                                | tfhub_use_multi                    | xx         |\n",
        "| Universal Sentence Encoder XLING English and German                                                                    | tfhub_use_xling_en_de              | xx         |\n",
        "| Universal Sentence Encoder XLING English and Spanish                                                                   | tfhub_use_xling_en_es              | xx         |\n",
        "| Universal Sentence Encoder XLING English and French                                                                    | tfhub_use_xling_en_fr              | xx         |\n",
        "| Universal Sentence Encoder XLING Many                                                                                  | tfhub_use_xling_many               | xx         |\n",
        "| Universal Sentence Encoder Multilingual Large (tfhub_use_multi_lg)                                                     | tfhub_use_multi_lg                 | xx         |\n",
        "| Universal Sentence Encoder Multilingual (tfhub_use_multi)                                                              | tfhub_use_multi                    | xx         |\n",
        "| BERT multilingual base model (cased)                                                                                   | bert_base_multilingual_cased       | xx         |\n",
        "| BERT multilingual base model (uncased)                                                                                 | bert_base_multilingual_uncased     | xx         |\n",
        "| DistilBERT base multilingual model (cased)                                                                             | distilbert_base_multilingual_cased | xx         |\n",
        "| Twitter XLM-RoBERTa Base (twitter_xlm_roberta_base)                                                                    | twitter_xlm_roberta_base           | xx         |\n",
        "| XLM-RoBERTa Base (xlm_roberta_base)                                                                                    | xlm_roberta_base                   | xx         |\n",
        "| XLM-RoBERTa XTREME Base (xlm_roberta_xtreme_base)                                                                      | xlm_roberta_xtreme_base            | xx         |\n",
        "| Universal sentence encoder for 100+ languages trained with CMLM (sent_bert_use_cmlm_multi_base_br)                     | sent_bert_use_cmlm_multi_base_br   | xx         |\n",
        "| Universal sentence encoder for 100+ languages trained with CMLM (sent_bert_use_cmlm_multi_base)                        | sent_bert_use_cmlm_multi_base      | xx         |\n",
        "| Multilingual Representations for Indian Languages (MuRIL)                                                              | bert_muril                         | xx         |\n",
        "| Multilingual Representations for Indian Languages (MuRIL) - BERT Sentence Embedding pre-trained on 17 Indian languages | sent_bert_muril                    | xx         |\n",
        "| XLM-RoBERTa Base Sentence Embeddings (sent_xlm_roberta_base)                                                           | sent_xlm_roberta_base              | xx         |\n",
        "| XLM-RoBERTa Large (xlm_roberta_large)                                                                                  | xlm_roberta_large                  | xx         |\n",
        "\n"
      ]
    },
    {
      "cell_type": "markdown",
      "metadata": {
        "id": "06DMedvcgjKa"
      },
      "source": [
        "## Colab Setup"
      ]
    },
    {
      "cell_type": "code",
      "execution_count": null,
      "metadata": {
        "id": "3Mc2rld9f7YW"
      },
      "outputs": [],
      "source": [
        "! pip install -q pyspark==3.3.0 spark-nlp==4.0.1"
      ]
    },
    {
      "cell_type": "code",
      "execution_count": null,
      "metadata": {
        "id": "KjcBNzFVgoky",
        "colab": {
          "base_uri": "https://localhost:8080/",
          "height": 254
        },
        "outputId": "d66d9006-1025-4d09-bcbf-fa77d48182ce"
      },
      "outputs": [
        {
          "output_type": "stream",
          "name": "stdout",
          "text": [
            "Spark NLP version 4.0.1\n",
            "Apache Spark version: 3.3.0\n"
          ]
        },
        {
          "output_type": "execute_result",
          "data": {
            "text/plain": [
              "<pyspark.sql.session.SparkSession at 0x7f0c9fb61550>"
            ],
            "text/html": [
              "\n",
              "            <div>\n",
              "                <p><b>SparkSession - in-memory</b></p>\n",
              "                \n",
              "        <div>\n",
              "            <p><b>SparkContext</b></p>\n",
              "\n",
              "            <p><a href=\"http://e12e14b08b49:4040\">Spark UI</a></p>\n",
              "\n",
              "            <dl>\n",
              "              <dt>Version</dt>\n",
              "                <dd><code>v3.3.0</code></dd>\n",
              "              <dt>Master</dt>\n",
              "                <dd><code>local[*]</code></dd>\n",
              "              <dt>AppName</dt>\n",
              "                <dd><code>Spark NLP</code></dd>\n",
              "            </dl>\n",
              "        </div>\n",
              "        \n",
              "            </div>\n",
              "        "
            ]
          },
          "metadata": {},
          "execution_count": 2
        }
      ],
      "source": [
        "import sparknlp\n",
        "\n",
        "spark = sparknlp.start()\n",
        "\n",
        "from sparknlp.base import *\n",
        "from sparknlp.annotator import *\n",
        "from pyspark.ml import Pipeline\n",
        "import pandas as pd\n",
        "\n",
        "print(\"Spark NLP version\", sparknlp.version())\n",
        "print(\"Apache Spark version:\", spark.version)\n",
        "\n",
        "spark"
      ]
    },
    {
      "cell_type": "markdown",
      "metadata": {
        "id": "KBHUSgj3UMgY"
      },
      "source": [
        "## Download Dataset"
      ]
    },
    {
      "cell_type": "code",
      "execution_count": null,
      "metadata": {
        "id": "VN8L1F-OVq0A"
      },
      "outputs": [],
      "source": [
        "! wget -q http://ckl-it.de/wp-content/uploads/2021/02/news_category_test_multi_lingual.csv"
      ]
    },
    {
      "cell_type": "code",
      "execution_count": null,
      "metadata": {
        "colab": {
          "base_uri": "https://localhost:8080/"
        },
        "id": "Rp-0C1oFUWSp",
        "outputId": "145a88ee-d1fe-4f80-a4b1-d91e03e7575d"
      },
      "outputs": [
        {
          "output_type": "stream",
          "name": "stdout",
          "text": [
            "+---+--------+--------------------+------------------------------+\n",
            "|_c0|       y|                text|                test_sentences|\n",
            "+---+--------+--------------------+------------------------------+\n",
            "|  0|Business|Unions representi...|          టర్నర్ నెవాల్ వద్...|\n",
            "|  1|Sci/Tech| TORONTO, Canada ...|          Торонто, Канада #...|\n",
            "|  2|Sci/Tech| A company founde...|          Une société fondé...|\n",
            "|  3|Sci/Tech| It's barely dawn...|          সবেমাত্র ভোর যখন ...|\n",
            "|  4|Sci/Tech| Southern Califor...|          Көньяк Калифорния...|\n",
            "|  5|Sci/Tech|\"The British Depa...|           with the ostensi...|\n",
            "|  6|Sci/Tech|\"confessed author...|           something expert...|\n",
            "|  7|Sci/Tech|\\\\FOAF/LOAF  and ...|          \\ FOAF / LOAF- un...|\n",
            "|  8|Sci/Tech|\"Wiltshire Police...|          \"வில்ட்ஷயர் பொலிஸ...|\n",
            "|  9|Sci/Tech|In its first two ...|          ក្នុងរយៈពេលពីរឆ្ន...|\n",
            "| 10|Sci/Tech| A group of techn...|          Техас Инструменты...|\n",
            "| 11|Sci/Tech| Apple Computer I...|苹果计算机公司（AAPL.O）。 ...|\n",
            "| 12|Sci/Tech| Free Record Shop...|          ហាងលក់រាយតន្ត្រីដ...|\n",
            "| 13|Sci/Tech|A giant 100km col...|          Avustralya'nın Me...|\n",
            "| 14|Sci/Tech|\"Dolphin groups, ...|           rely on socialit...|\n",
            "| 15|Sci/Tech|Tyrannosaurus rex...|          টিনরানসৌরাস রেক্স...|\n",
            "| 16|Sci/Tech|  Scientists have...|          מדענים גילו גושים...|\n",
            "| 17|Sci/Tech|  ESAs Mars Expre...|          ESA's Mars Expres...|\n",
            "| 18|Sci/Tech|When did life beg...|          வாழ்க்கை எப்போது ...|\n",
            "| 19|Sci/Tech|update Earnings p...|          actualización Las...|\n",
            "+---+--------+--------------------+------------------------------+\n",
            "only showing top 20 rows\n",
            "\n"
          ]
        }
      ],
      "source": [
        "dataset = spark.read \\\n",
        "      .option(\"header\", True) \\\n",
        "      .csv('/content/news_category_test_multi_lingual.csv').limit(10000)\n",
        "dataset.show()"
      ]
    },
    {
      "cell_type": "code",
      "execution_count": null,
      "metadata": {
        "id": "JQi1Zr5ebHCo"
      },
      "outputs": [],
      "source": [
        "# Split dataset \n",
        "train_df , test_df = dataset.randomSplit([0.7, 0.3])"
      ]
    },
    {
      "cell_type": "markdown",
      "metadata": {
        "id": "JZyycKyzQcwQ"
      },
      "source": [
        "# Create Pipeline With MultiLingual Embeddings and Trainable Classifier"
      ]
    },
    {
      "cell_type": "code",
      "execution_count": null,
      "metadata": {
        "colab": {
          "base_uri": "https://localhost:8080/"
        },
        "id": "gXdynTiFHKLK",
        "outputId": "593baeda-7063-457b-f291-95823ca53e0a"
      },
      "outputs": [
        {
          "output_type": "stream",
          "name": "stdout",
          "text": [
            "labse download started this may take some time.\n",
            "Approximate size to download 1.7 GB\n",
            "[OK!]\n"
          ]
        }
      ],
      "source": [
        "from pyspark.ml import Pipeline\n",
        "from sparknlp.annotator import *\n",
        "from sparknlp.common import *\n",
        "from sparknlp.base import *\n",
        "\n",
        "\n",
        "# actual content is inside description column\n",
        "document = DocumentAssembler()\\\n",
        "    .setInputCol(\"text\")\\\n",
        "    .setOutputCol(\"document\")\n",
        "\n",
        "sent_embeddings = BertSentenceEmbeddings.pretrained(\"labse\", \"xx\") \\\n",
        "    .setInputCols(\"document\") \\\n",
        "    .setOutputCol(\"sentence_embeddings\")\n",
        "\n",
        "# the classes/labels/categories are in category column\n",
        "classsifierdl = ClassifierDLApproach()\\\n",
        "    .setInputCols([\"sentence_embeddings\"])\\\n",
        "    .setOutputCol(\"class\")\\\n",
        "    .setLabelColumn(\"y\")\\\n",
        "    .setMaxEpochs(2)\\\n",
        "    .setLr(0.005) \n",
        "\n",
        "    \n",
        "pipeline = Pipeline(\n",
        "    stages = [\n",
        "        document,\n",
        "        sent_embeddings,\n",
        "        classsifierdl\n",
        "    ])\n",
        "mutli_lingual_model = pipeline.fit(train_df)\n"
      ]
    },
    {
      "cell_type": "code",
      "execution_count": null,
      "metadata": {
        "colab": {
          "base_uri": "https://localhost:8080/"
        },
        "id": "Rb8eTkCiWw-F",
        "outputId": "6176a60e-b375-4720-8589-8e546f5b0bb8"
      },
      "outputs": [
        {
          "output_type": "stream",
          "name": "stdout",
          "text": [
            "+----+--------+--------------------+--------------------+--------------------+--------------------+--------------------+\n",
            "| _c0|       y|                text|      test_sentences|            document| sentence_embeddings|               class|\n",
            "+----+--------+--------------------+--------------------+--------------------+--------------------+--------------------+\n",
            "|   0|Business|Unions representi...|టర్నర్ నెవాల్ వద్...|[{document, 0, 12...|[{sentence_embedd...|[{category, 0, 12...|\n",
            "|   1|Sci/Tech| TORONTO, Canada ...|Торонто, Канада #...|[{document, 0, 22...|[{sentence_embedd...|[{category, 0, 22...|\n",
            "| 100|  Sports|An Indian army ma...|                    |[{document, 0, 23...|[{sentence_embedd...|[{category, 0, 23...|\n",
            "|1000|Business|Persistent econom...|                    |[{document, 0, 15...|[{sentence_embedd...|[{category, 0, 15...|\n",
            "|1006|Business|SCOTTISH  amp; So...|                    |[{document, 0, 15...|[{sentence_embedd...|[{category, 0, 15...|\n",
            "|1008|  Sports|  British police ...|                    |[{document, 0, 14...|[{sentence_embedd...|[{category, 0, 14...|\n",
            "|1010|Business|\" Verizon Communi...| the New York Pos...|[{document, 0, 26...|[{sentence_embedd...|[{category, 0, 26...|\n",
            "|1012|Business|First Albany Capi...|                    |[{document, 0, 20...|[{sentence_embedd...|[{category, 0, 20...|\n",
            "|1016|  Sports|OWINGS MILLS, Mar...|                    |[{document, 0, 21...|[{sentence_embedd...|[{category, 0, 21...|\n",
            "|1022|Sci/Tech|Climate scientist...|                    |[{document, 0, 10...|[{sentence_embedd...|[{category, 0, 10...|\n",
            "|1024|Sci/Tech|Three new models ...|                    |[{document, 0, 66...|[{sentence_embedd...|[{category, 0, 66...|\n",
            "|1027|Sci/Tech| quot;Whether com...|                    |[{document, 0, 19...|[{sentence_embedd...|[{category, 0, 19...|\n",
            "|1039|   World|A prominent Mexic...|                    |[{document, 0, 99...|[{sentence_embedd...|[{category, 0, 99...|\n",
            "|1041|   World| Five thousand pe...|                    |[{document, 0, 25...|[{sentence_embedd...|[{category, 0, 25...|\n",
            "|1045|Sci/Tech|  Apple Computer ...|                    |[{document, 0, 14...|[{sentence_embedd...|[{category, 0, 14...|\n",
            "|1047|   World| Judges at The Ha...|                    |[{document, 0, 16...|[{sentence_embedd...|[{category, 0, 16...|\n",
            "|1049|   World|The UN tribunal i...|                    |[{document, 0, 11...|[{sentence_embedd...|[{category, 0, 11...|\n",
            "|1050|Business|Bill Ryan is spen...|                    |[{document, 0, 21...|[{sentence_embedd...|[{category, 0, 21...|\n",
            "|1054|  Sports|There was the \\$5...|                    |[{document, 0, 22...|[{sentence_embedd...|[{category, 0, 22...|\n",
            "|1055|  Sports|Can't wait to see...|                    |[{document, 0, 35...|[{sentence_embedd...|[{category, 0, 35...|\n",
            "+----+--------+--------------------+--------------------+--------------------+--------------------+--------------------+\n",
            "only showing top 20 rows\n",
            "\n"
          ]
        }
      ],
      "source": [
        "preds = mutli_lingual_model.transform(test_df)\n",
        "preds.show()"
      ]
    },
    {
      "cell_type": "markdown",
      "metadata": {
        "id": "FzSthAbHS72B"
      },
      "source": [
        "# Evauate Multi-Lingual Model"
      ]
    },
    {
      "cell_type": "code",
      "execution_count": null,
      "metadata": {
        "colab": {
          "base_uri": "https://localhost:8080/",
          "height": 424
        },
        "id": "XAmbHcTjM6BP",
        "outputId": "04563610-5238-4214-98f2-7f11665d9f45"
      },
      "outputs": [
        {
          "output_type": "execute_result",
          "data": {
            "text/plain": [
              "             y    result\n",
              "0     Business  Business\n",
              "1     Sci/Tech    Sports\n",
              "2       Sports    Sports\n",
              "3     Business  Business\n",
              "4     Business  Business\n",
              "...        ...       ...\n",
              "2275  Sci/Tech  Sci/Tech\n",
              "2276  Business  Business\n",
              "2277  Sci/Tech  Sci/Tech\n",
              "2278    Sports    Sports\n",
              "2279     World     World\n",
              "\n",
              "[2280 rows x 2 columns]"
            ],
            "text/html": [
              "\n",
              "  <div id=\"df-3647ffb4-f849-4a7d-a850-dc79b9955076\">\n",
              "    <div class=\"colab-df-container\">\n",
              "      <div>\n",
              "<style scoped>\n",
              "    .dataframe tbody tr th:only-of-type {\n",
              "        vertical-align: middle;\n",
              "    }\n",
              "\n",
              "    .dataframe tbody tr th {\n",
              "        vertical-align: top;\n",
              "    }\n",
              "\n",
              "    .dataframe thead th {\n",
              "        text-align: right;\n",
              "    }\n",
              "</style>\n",
              "<table border=\"1\" class=\"dataframe\">\n",
              "  <thead>\n",
              "    <tr style=\"text-align: right;\">\n",
              "      <th></th>\n",
              "      <th>y</th>\n",
              "      <th>result</th>\n",
              "    </tr>\n",
              "  </thead>\n",
              "  <tbody>\n",
              "    <tr>\n",
              "      <th>0</th>\n",
              "      <td>Business</td>\n",
              "      <td>Business</td>\n",
              "    </tr>\n",
              "    <tr>\n",
              "      <th>1</th>\n",
              "      <td>Sci/Tech</td>\n",
              "      <td>Sports</td>\n",
              "    </tr>\n",
              "    <tr>\n",
              "      <th>2</th>\n",
              "      <td>Sports</td>\n",
              "      <td>Sports</td>\n",
              "    </tr>\n",
              "    <tr>\n",
              "      <th>3</th>\n",
              "      <td>Business</td>\n",
              "      <td>Business</td>\n",
              "    </tr>\n",
              "    <tr>\n",
              "      <th>4</th>\n",
              "      <td>Business</td>\n",
              "      <td>Business</td>\n",
              "    </tr>\n",
              "    <tr>\n",
              "      <th>...</th>\n",
              "      <td>...</td>\n",
              "      <td>...</td>\n",
              "    </tr>\n",
              "    <tr>\n",
              "      <th>2275</th>\n",
              "      <td>Sci/Tech</td>\n",
              "      <td>Sci/Tech</td>\n",
              "    </tr>\n",
              "    <tr>\n",
              "      <th>2276</th>\n",
              "      <td>Business</td>\n",
              "      <td>Business</td>\n",
              "    </tr>\n",
              "    <tr>\n",
              "      <th>2277</th>\n",
              "      <td>Sci/Tech</td>\n",
              "      <td>Sci/Tech</td>\n",
              "    </tr>\n",
              "    <tr>\n",
              "      <th>2278</th>\n",
              "      <td>Sports</td>\n",
              "      <td>Sports</td>\n",
              "    </tr>\n",
              "    <tr>\n",
              "      <th>2279</th>\n",
              "      <td>World</td>\n",
              "      <td>World</td>\n",
              "    </tr>\n",
              "  </tbody>\n",
              "</table>\n",
              "<p>2280 rows × 2 columns</p>\n",
              "</div>\n",
              "      <button class=\"colab-df-convert\" onclick=\"convertToInteractive('df-3647ffb4-f849-4a7d-a850-dc79b9955076')\"\n",
              "              title=\"Convert this dataframe to an interactive table.\"\n",
              "              style=\"display:none;\">\n",
              "        \n",
              "  <svg xmlns=\"http://www.w3.org/2000/svg\" height=\"24px\"viewBox=\"0 0 24 24\"\n",
              "       width=\"24px\">\n",
              "    <path d=\"M0 0h24v24H0V0z\" fill=\"none\"/>\n",
              "    <path d=\"M18.56 5.44l.94 2.06.94-2.06 2.06-.94-2.06-.94-.94-2.06-.94 2.06-2.06.94zm-11 1L8.5 8.5l.94-2.06 2.06-.94-2.06-.94L8.5 2.5l-.94 2.06-2.06.94zm10 10l.94 2.06.94-2.06 2.06-.94-2.06-.94-.94-2.06-.94 2.06-2.06.94z\"/><path d=\"M17.41 7.96l-1.37-1.37c-.4-.4-.92-.59-1.43-.59-.52 0-1.04.2-1.43.59L10.3 9.45l-7.72 7.72c-.78.78-.78 2.05 0 2.83L4 21.41c.39.39.9.59 1.41.59.51 0 1.02-.2 1.41-.59l7.78-7.78 2.81-2.81c.8-.78.8-2.07 0-2.86zM5.41 20L4 18.59l7.72-7.72 1.47 1.35L5.41 20z\"/>\n",
              "  </svg>\n",
              "      </button>\n",
              "      \n",
              "  <style>\n",
              "    .colab-df-container {\n",
              "      display:flex;\n",
              "      flex-wrap:wrap;\n",
              "      gap: 12px;\n",
              "    }\n",
              "\n",
              "    .colab-df-convert {\n",
              "      background-color: #E8F0FE;\n",
              "      border: none;\n",
              "      border-radius: 50%;\n",
              "      cursor: pointer;\n",
              "      display: none;\n",
              "      fill: #1967D2;\n",
              "      height: 32px;\n",
              "      padding: 0 0 0 0;\n",
              "      width: 32px;\n",
              "    }\n",
              "\n",
              "    .colab-df-convert:hover {\n",
              "      background-color: #E2EBFA;\n",
              "      box-shadow: 0px 1px 2px rgba(60, 64, 67, 0.3), 0px 1px 3px 1px rgba(60, 64, 67, 0.15);\n",
              "      fill: #174EA6;\n",
              "    }\n",
              "\n",
              "    [theme=dark] .colab-df-convert {\n",
              "      background-color: #3B4455;\n",
              "      fill: #D2E3FC;\n",
              "    }\n",
              "\n",
              "    [theme=dark] .colab-df-convert:hover {\n",
              "      background-color: #434B5C;\n",
              "      box-shadow: 0px 1px 3px 1px rgba(0, 0, 0, 0.15);\n",
              "      filter: drop-shadow(0px 1px 2px rgba(0, 0, 0, 0.3));\n",
              "      fill: #FFFFFF;\n",
              "    }\n",
              "  </style>\n",
              "\n",
              "      <script>\n",
              "        const buttonEl =\n",
              "          document.querySelector('#df-3647ffb4-f849-4a7d-a850-dc79b9955076 button.colab-df-convert');\n",
              "        buttonEl.style.display =\n",
              "          google.colab.kernel.accessAllowed ? 'block' : 'none';\n",
              "\n",
              "        async function convertToInteractive(key) {\n",
              "          const element = document.querySelector('#df-3647ffb4-f849-4a7d-a850-dc79b9955076');\n",
              "          const dataTable =\n",
              "            await google.colab.kernel.invokeFunction('convertToInteractive',\n",
              "                                                     [key], {});\n",
              "          if (!dataTable) return;\n",
              "\n",
              "          const docLinkHtml = 'Like what you see? Visit the ' +\n",
              "            '<a target=\"_blank\" href=https://colab.research.google.com/notebooks/data_table.ipynb>data table notebook</a>'\n",
              "            + ' to learn more about interactive tables.';\n",
              "          element.innerHTML = '';\n",
              "          dataTable['output_type'] = 'display_data';\n",
              "          await google.colab.output.renderOutput(dataTable, element);\n",
              "          const docLink = document.createElement('div');\n",
              "          docLink.innerHTML = docLinkHtml;\n",
              "          element.appendChild(docLink);\n",
              "        }\n",
              "      </script>\n",
              "    </div>\n",
              "  </div>\n",
              "  "
            ]
          },
          "metadata": {},
          "execution_count": 8
        }
      ],
      "source": [
        "df = preds.select(['y','class.result']).toPandas()\n",
        "df['result'] = df['result'].apply(lambda x : x[0])\n",
        "df"
      ]
    },
    {
      "cell_type": "code",
      "execution_count": null,
      "metadata": {
        "colab": {
          "base_uri": "https://localhost:8080/"
        },
        "id": "hk8j2g7UblS_",
        "outputId": "dc052edd-e1dd-45fb-85fb-b67cd2cc5527"
      },
      "outputs": [
        {
          "output_type": "stream",
          "name": "stdout",
          "text": [
            "              precision    recall  f1-score   support\n",
            "\n",
            "    Business       0.85      0.80      0.82       586\n",
            "    Sci/Tech       0.83      0.82      0.82       563\n",
            "      Sports       0.89      0.95      0.92       548\n",
            "       World       0.87      0.87      0.87       583\n",
            "\n",
            "    accuracy                           0.86      2280\n",
            "   macro avg       0.86      0.86      0.86      2280\n",
            "weighted avg       0.86      0.86      0.86      2280\n",
            "\n"
          ]
        }
      ],
      "source": [
        "# We are going to use sklearn to evalute the results on test dataset\n",
        "from sklearn.metrics import classification_report\n",
        "print(classification_report( df['y'], df['result']))"
      ]
    },
    {
      "cell_type": "code",
      "execution_count": null,
      "metadata": {
        "colab": {
          "base_uri": "https://localhost:8080/"
        },
        "id": "xmK4273tLgmE",
        "outputId": "1f37e4fb-95ae-46c9-a1ed-43a3cec72931"
      },
      "outputs": [
        {
          "output_type": "stream",
          "name": "stdout",
          "text": [
            "              precision    recall  f1-score   support\n",
            "\n",
            "    Business       0.84      0.85      0.85      1314\n",
            "    Sci/Tech       0.86      0.85      0.86      1337\n",
            "      Sports       0.94      0.97      0.95      1352\n",
            "       World       0.92      0.89      0.90      1317\n",
            "\n",
            "    accuracy                           0.89      5320\n",
            "   macro avg       0.89      0.89      0.89      5320\n",
            "weighted avg       0.89      0.89      0.89      5320\n",
            "\n"
          ]
        }
      ],
      "source": [
        "# Train dataset metrics\n",
        "preds = mutli_lingual_model.transform(train_df)\n",
        "df = preds.select(['y','class.result']).toPandas()\n",
        "df['result'] = df['result'].apply(lambda x : x[0])\n",
        "print(classification_report(df['y'], df['result']))\n"
      ]
    },
    {
      "cell_type": "markdown",
      "metadata": {
        "id": "RjtuNUcvuJTT"
      },
      "source": [
        "# The Model understands English\n",
        "![en](https://www.worldometers.info/img/flags/small/tn_nz-flag.gif)"
      ]
    },
    {
      "cell_type": "code",
      "execution_count": null,
      "metadata": {
        "id": "0HTlHhgEgVS_"
      },
      "outputs": [],
      "source": [
        "model=LightPipeline(mutli_lingual_model)"
      ]
    },
    {
      "cell_type": "code",
      "execution_count": null,
      "metadata": {
        "id": "o0vu7PaWkcI7"
      },
      "outputs": [],
      "source": [
        "model.annotate(\"Businesses are the best way of making profit \")"
      ]
    },
    {
      "cell_type": "code",
      "execution_count": null,
      "metadata": {
        "colab": {
          "base_uri": "https://localhost:8080/"
        },
        "id": "1ykjRQhCtQ4w",
        "outputId": "803f312b-8b09-4baf-ddab-e1d0a6b8f11d"
      },
      "outputs": [
        {
          "output_type": "execute_result",
          "data": {
            "text/plain": [
              "{'class': ['Sci/Tech'],\n",
              " 'document': ['Science has advanced rapidly over the last century '],\n",
              " 'sentence_embeddings': ['Science has advanced rapidly over the last century ']}"
            ]
          },
          "metadata": {},
          "execution_count": 13
        }
      ],
      "source": [
        "model.annotate(\"Science has advanced rapidly over the last century \")"
      ]
    },
    {
      "cell_type": "markdown",
      "metadata": {
        "id": "vohym-XbuNHn"
      },
      "source": [
        "# The Model understands German\n",
        "![de](https://www.worldometers.info/img/flags/small/tn_gm-flag.gif)"
      ]
    },
    {
      "cell_type": "code",
      "execution_count": null,
      "metadata": {
        "colab": {
          "base_uri": "https://localhost:8080/"
        },
        "id": "dzaaZrI4tVWc",
        "outputId": "80e5da3a-60e8-4bb3-8ef1-6a8e50862f8b"
      },
      "outputs": [
        {
          "output_type": "execute_result",
          "data": {
            "text/plain": [
              "{'class': ['Business'],\n",
              " 'document': ['Unternehmen sind der beste Weg, um Gewinn zu erzielen'],\n",
              " 'sentence_embeddings': ['Unternehmen sind der beste Weg, um Gewinn zu erzielen']}"
            ]
          },
          "metadata": {},
          "execution_count": 14
        }
      ],
      "source": [
        "# German for: 'Businesses are the best way of making profit'\n",
        "model.annotate(\"Unternehmen sind der beste Weg, um Gewinn zu erzielen\")"
      ]
    },
    {
      "cell_type": "code",
      "execution_count": null,
      "metadata": {
        "colab": {
          "base_uri": "https://localhost:8080/"
        },
        "id": "BbhgTSBGtTtJ",
        "outputId": "a5052394-4b8e-4ef7-8e98-355d069a6656"
      },
      "outputs": [
        {
          "output_type": "execute_result",
          "data": {
            "text/plain": [
              "{'class': ['Sci/Tech'],\n",
              " 'document': ['Die Wissenschaft hat im letzten Jahrhundert rasante Fortschritte gemacht '],\n",
              " 'sentence_embeddings': ['Die Wissenschaft hat im letzten Jahrhundert rasante Fortschritte gemacht ']}"
            ]
          },
          "metadata": {},
          "execution_count": 15
        }
      ],
      "source": [
        "# German for: 'Science has advanced rapidly over the last century'\n",
        "model.annotate(\"Die Wissenschaft hat im letzten Jahrhundert rasante Fortschritte gemacht \")"
      ]
    },
    {
      "cell_type": "markdown",
      "metadata": {
        "id": "a1JbtmWquQwj"
      },
      "source": [
        "# The Model understands Chinese\n",
        "![zh](https://www.worldometers.info/img/flags/small/tn_ch-flag.gif)"
      ]
    },
    {
      "cell_type": "code",
      "execution_count": null,
      "metadata": {
        "colab": {
          "base_uri": "https://localhost:8080/"
        },
        "id": "kYSYqtoRtc-P",
        "outputId": "9aa07580-a269-403d-8c89-8b4e47060f47"
      },
      "outputs": [
        {
          "output_type": "execute_result",
          "data": {
            "text/plain": [
              "{'class': ['Business'],\n",
              " 'document': ['創業是最好的盈利方式 '],\n",
              " 'sentence_embeddings': ['創業是最好的盈利方式 ']}"
            ]
          },
          "metadata": {},
          "execution_count": 16
        }
      ],
      "source": [
        "# Chinese for: 'Businesses are the best way of making profit'\n",
        "model.annotate(\"創業是最好的盈利方式 \")"
      ]
    },
    {
      "cell_type": "code",
      "execution_count": null,
      "metadata": {
        "colab": {
          "base_uri": "https://localhost:8080/"
        },
        "id": "06v9SD-QtlBU",
        "outputId": "22a573fb-fd80-4b56-c37b-8a7bbcea2f5d"
      },
      "outputs": [
        {
          "output_type": "execute_result",
          "data": {
            "text/plain": [
              "{'class': ['Sci/Tech'],\n",
              " 'document': ['在上个世纪，科学发展迅速 '],\n",
              " 'sentence_embeddings': ['在上个世纪，科学发展迅速 ']}"
            ]
          },
          "metadata": {},
          "execution_count": 17
        }
      ],
      "source": [
        "# Chinese for: 'Science has advanced rapidly over the last century'\n",
        "model.annotate(\"在上个世纪，科学发展迅速 \")\n",
        "\t\t"
      ]
    },
    {
      "cell_type": "markdown",
      "metadata": {
        "id": "9h7CvN4uu9Pb"
      },
      "source": [
        "# Model understands Afrikaans\n",
        "\n",
        "![af](https://www.worldometers.info/img/flags/small/tn_sf-flag.gif)\n",
        "\n"
      ]
    },
    {
      "cell_type": "code",
      "execution_count": null,
      "metadata": {
        "colab": {
          "base_uri": "https://localhost:8080/"
        },
        "id": "VMPhbgw9twtf",
        "outputId": "1a262941-4e85-4750-ec3b-cdc7e75e070f"
      },
      "outputs": [
        {
          "output_type": "execute_result",
          "data": {
            "text/plain": [
              "{'class': ['Business'],\n",
              " 'document': ['Besighede is die beste manier om wins te maak'],\n",
              " 'sentence_embeddings': ['Besighede is die beste manier om wins te maak']}"
            ]
          },
          "metadata": {},
          "execution_count": 18
        }
      ],
      "source": [
        "#  Afrikaans for: 'Businesses are the best way of making profit'\n",
        "model.annotate(\"Besighede is die beste manier om wins te maak\")"
      ]
    },
    {
      "cell_type": "code",
      "execution_count": null,
      "metadata": {
        "colab": {
          "base_uri": "https://localhost:8080/"
        },
        "id": "TggzMdeXQIyQ",
        "outputId": "6d2c9f7e-c658-4ad8-8733-8346493468ff"
      },
      "outputs": [
        {
          "output_type": "execute_result",
          "data": {
            "text/plain": [
              "{'class': ['Sci/Tech'],\n",
              " 'document': ['Die wetenskap het die afgelope eeu vinnig gevorder '],\n",
              " 'sentence_embeddings': ['Die wetenskap het die afgelope eeu vinnig gevorder ']}"
            ]
          },
          "metadata": {},
          "execution_count": 19
        }
      ],
      "source": [
        "#  Afrikaans for: 'Science has advanced rapidly over the last century'\n",
        "model.annotate(\"Die wetenskap het die afgelope eeu vinnig gevorder \")"
      ]
    },
    {
      "cell_type": "markdown",
      "metadata": {
        "id": "8R1j9mwz2Cm4"
      },
      "source": [
        "# Model understands Urdu\n",
        "![ur](https://www.worldometers.info/img/flags/small/tn_pk-flag.gif)"
      ]
    },
    {
      "cell_type": "code",
      "execution_count": null,
      "metadata": {
        "colab": {
          "base_uri": "https://localhost:8080/"
        },
        "id": "j4zwvRV11pcG",
        "outputId": "06fc7ebf-9a6d-4391-c4c8-58e2eecb7f50"
      },
      "outputs": [
        {
          "output_type": "execute_result",
          "data": {
            "text/plain": [
              "{'class': ['Business'],\n",
              " 'document': ['پچھلے ایک دہائی کے دوران کاروباروں میں زبردست اضافہ ہوا ہے '],\n",
              " 'sentence_embeddings': ['پچھلے ایک دہائی کے دوران کاروباروں میں زبردست اضافہ ہوا ہے ']}"
            ]
          },
          "metadata": {},
          "execution_count": 20
        }
      ],
      "source": [
        "# Urdu for: 'There have been a great increase in businesses over the last decade'\n",
        "model.annotate(\"پچھلے ایک دہائی کے دوران کاروباروں میں زبردست اضافہ ہوا ہے \")"
      ]
    },
    {
      "cell_type": "code",
      "execution_count": null,
      "metadata": {
        "colab": {
          "base_uri": "https://localhost:8080/"
        },
        "id": "SxzTuK4b2UKV",
        "outputId": "66350665-d7ec-43ac-f388-0f97aea209fc"
      },
      "outputs": [
        {
          "output_type": "execute_result",
          "data": {
            "text/plain": [
              "{'class': ['Sci/Tech'],\n",
              " 'document': ['سائنس گذشتہ صدی کے دوران تیزی سے ترقی کرچکی ہے '],\n",
              " 'sentence_embeddings': ['سائنس گذشتہ صدی کے دوران تیزی سے ترقی کرچکی ہے ']}"
            ]
          },
          "metadata": {},
          "execution_count": 21
        }
      ],
      "source": [
        "# Urdu for: 'Science has advanced rapidly over the last century'\n",
        "model.annotate(\"سائنس گذشتہ صدی کے دوران تیزی سے ترقی کرچکی ہے \")"
      ]
    },
    {
      "cell_type": "markdown",
      "metadata": {
        "id": "RoNg-C3k1qcX"
      },
      "source": [
        "# Model understands Hindi\n",
        "![hi](https://www.worldometers.info/img/flags/small/tn_in-flag.gif)\n"
      ]
    },
    {
      "cell_type": "code",
      "execution_count": null,
      "metadata": {
        "colab": {
          "base_uri": "https://localhost:8080/"
        },
        "id": "QZ9RT5Wv1r1n",
        "outputId": "eb36a2a8-451a-4117-f533-28b307c8c677"
      },
      "outputs": [
        {
          "output_type": "execute_result",
          "data": {
            "text/plain": [
              "{'class': ['Business'],\n",
              " 'document': ['व्यवसाय लाभ कमाने का सबसे अच्छा तरीका है।'],\n",
              " 'sentence_embeddings': ['व्यवसाय लाभ कमाने का सबसे अच्छा तरीका है।']}"
            ]
          },
          "metadata": {},
          "execution_count": 22
        }
      ],
      "source": [
        "# hindi for: 'Businesses are the best way of making profit'\n",
        "model.annotate('व्यवसाय लाभ कमाने का सबसे अच्छा तरीका है।')"
      ]
    },
    {
      "cell_type": "code",
      "execution_count": null,
      "metadata": {
        "colab": {
          "base_uri": "https://localhost:8080/"
        },
        "id": "quM-IL2i12-B",
        "outputId": "f60bd2a0-3763-4b47-8572-fb7290950a83"
      },
      "outputs": [
        {
          "data": {
            "text/plain": [
              "{'class': ['Sci/Tech'],\n",
              " 'document': ['विज्ञान पिछली सदी में तेजी से आगे बढ़ा है '],\n",
              " 'sentence_embeddings': ['विज्ञान पिछली सदी में तेजी से आगे बढ़ा है ']}"
            ]
          },
          "execution_count": 23,
          "metadata": {},
          "output_type": "execute_result"
        }
      ],
      "source": [
        "\t\t\n",
        "# hindi for: 'Science has advanced rapidly over the last century'\n",
        "model.annotate(\"विज्ञान पिछली सदी में तेजी से आगे बढ़ा है \")"
      ]
    }
  ],
  "metadata": {
    "colab": {
      "collapsed_sections": [],
      "name": "5.2_Multi_Lingual_Training_and_models.ipynb",
      "provenance": [],
      "machine_shape": "hm",
      "toc_visible": true
    },
    "kernelspec": {
      "display_name": "Python 3",
      "language": "python",
      "name": "python3"
    },
    "language_info": {
      "codemirror_mode": {
        "name": "ipython",
        "version": 3
      },
      "file_extension": ".py",
      "mimetype": "text/x-python",
      "name": "python",
      "nbconvert_exporter": "python",
      "pygments_lexer": "ipython3",
      "version": "3.7.4"
    },
    "gpuClass": "standard",
    "accelerator": "GPU"
  },
  "nbformat": 4,
  "nbformat_minor": 0
}
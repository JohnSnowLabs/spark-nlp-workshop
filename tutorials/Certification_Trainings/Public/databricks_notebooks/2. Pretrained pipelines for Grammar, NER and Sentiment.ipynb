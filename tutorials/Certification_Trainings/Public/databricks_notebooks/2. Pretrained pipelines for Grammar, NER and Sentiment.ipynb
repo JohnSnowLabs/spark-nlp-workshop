{
 "cells": [
  {
   "cell_type": "markdown",
   "metadata": {
    "application/vnd.databricks.v1+cell": {
     "inputWidgets": {},
     "nuid": "628e6c15-c92f-4817-a821-baf9ebb1dc66",
     "showTitle": false,
     "title": ""
    }
   },
   "source": [
    "![JohnSnowLabs](https://nlp.johnsnowlabs.com/assets/images/logo.png)"
   ]
  },
  {
   "cell_type": "markdown",
   "metadata": {
    "application/vnd.databricks.v1+cell": {
     "inputWidgets": {},
     "nuid": "84f4c163-0b5e-40c6-a467-5654304fd991",
     "showTitle": false,
     "title": ""
    }
   },
   "source": [
    "# 2. Pretrained pipelines for Grammar, NER and Sentiment"
   ]
  },
  {
   "cell_type": "code",
   "execution_count": 0,
   "metadata": {
    "application/vnd.databricks.v1+cell": {
     "inputWidgets": {},
     "nuid": "0c9c60fc-f40a-4cfb-9c29-c39700022547",
     "showTitle": false,
     "title": ""
    }
   },
   "outputs": [
    {
     "data": {
      "text/html": [
       "<style scoped>\n",
       "  .ansiout {\n",
       "    display: block;\n",
       "    unicode-bidi: embed;\n",
       "    white-space: pre-wrap;\n",
       "    word-wrap: break-word;\n",
       "    word-break: break-all;\n",
       "    font-family: \"Source Code Pro\", \"Menlo\", monospace;;\n",
       "    font-size: 13px;\n",
       "    color: #555;\n",
       "    margin-left: 4px;\n",
       "    line-height: 19px;\n",
       "  }\n",
       "</style>\n",
       "<div class=\"ansiout\">Spark NLP version 3.0.1\n",
       "Apache Spark version: 3.1.0\n",
       "Out[1]: </div>"
      ]
     },
     "metadata": {
      "application/vnd.databricks.v1+output": {
       "addedWidgets": {},
       "arguments": {},
       "data": "<div class=\"ansiout\">Spark NLP version 3.0.1\nApache Spark version: 3.1.0\nOut[1]: </div>",
       "datasetInfos": [],
       "removedWidgets": [],
       "type": "html"
      }
     },
     "output_type": "display_data"
    },
    {
     "data": {
      "text/html": [
       "\n",
       "            <div>\n",
       "                <p><b>SparkSession - hive</b></p>\n",
       "                \n",
       "        <div>\n",
       "            <p><b>SparkContext</b></p>\n",
       "\n",
       "            <p><a href=\"/?o=3418543878422327#setting/sparkui/0418-135725-tort451/driver-2209795601055272705\">Spark UI</a></p>\n",
       "\n",
       "            <dl>\n",
       "              <dt>Version</dt>\n",
       "                <dd><code>v3.1.0</code></dd>\n",
       "              <dt>Master</dt>\n",
       "                <dd><code>spark://10.164.249.92:7077</code></dd>\n",
       "              <dt>AppName</dt>\n",
       "                <dd><code>Databricks Shell</code></dd>\n",
       "            </dl>\n",
       "        </div>\n",
       "        \n",
       "            </div>\n",
       "        "
      ]
     },
     "metadata": {
      "application/vnd.databricks.v1+output": {
       "addedWidgets": {},
       "arguments": {},
       "data": "\n            <div>\n                <p><b>SparkSession - hive</b></p>\n                \n        <div>\n            <p><b>SparkContext</b></p>\n\n            <p><a href=\"/?o=3418543878422327#setting/sparkui/0418-135725-tort451/driver-2209795601055272705\">Spark UI</a></p>\n\n            <dl>\n              <dt>Version</dt>\n                <dd><code>v3.1.0</code></dd>\n              <dt>Master</dt>\n                <dd><code>spark://10.164.249.92:7077</code></dd>\n              <dt>AppName</dt>\n                <dd><code>Databricks Shell</code></dd>\n            </dl>\n        </div>\n        \n            </div>\n        ",
       "datasetInfos": [],
       "removedWidgets": [],
       "textData": null,
       "type": "htmlSandbox"
      }
     },
     "output_type": "display_data"
    }
   ],
   "source": [
    "import sparknlp\n",
    "\n",
    "print(\"Spark NLP version\", sparknlp.version())\n",
    "\n",
    "print(\"Apache Spark version:\", spark.version)\n",
    "\n",
    "spark"
   ]
  },
  {
   "cell_type": "markdown",
   "metadata": {
    "application/vnd.databricks.v1+cell": {
     "inputWidgets": {},
     "nuid": "7d2861b6-7a96-42d5-a08c-c1ffe849e3ff",
     "showTitle": false,
     "title": ""
    }
   },
   "source": [
    "## Using Pretrained Pipelines"
   ]
  },
  {
   "cell_type": "markdown",
   "metadata": {
    "application/vnd.databricks.v1+cell": {
     "inputWidgets": {},
     "nuid": "96bcbc3f-cd8b-4e12-ba2e-3417f353270e",
     "showTitle": false,
     "title": ""
    }
   },
   "source": [
    "https://github.com/JohnSnowLabs/spark-nlp-models\n",
    "\n",
    "https://nlp.johnsnowlabs.com/models"
   ]
  },
  {
   "cell_type": "code",
   "execution_count": 0,
   "metadata": {
    "application/vnd.databricks.v1+cell": {
     "inputWidgets": {},
     "nuid": "c4ea7028-fb15-4d1f-8ef0-93d98d890d3e",
     "showTitle": false,
     "title": ""
    }
   },
   "outputs": [
    {
     "data": {
      "text/html": [
       "<style scoped>\n",
       "  .ansiout {\n",
       "    display: block;\n",
       "    unicode-bidi: embed;\n",
       "    white-space: pre-wrap;\n",
       "    word-wrap: break-word;\n",
       "    word-break: break-all;\n",
       "    font-family: \"Source Code Pro\", \"Menlo\", monospace;;\n",
       "    font-size: 13px;\n",
       "    color: #555;\n",
       "    margin-left: 4px;\n",
       "    line-height: 19px;\n",
       "  }\n",
       "</style>\n",
       "<div class=\"ansiout\"></div>"
      ]
     },
     "metadata": {
      "application/vnd.databricks.v1+output": {
       "addedWidgets": {},
       "arguments": {},
       "data": "<div class=\"ansiout\"></div>",
       "datasetInfos": [],
       "removedWidgets": [],
       "type": "html"
      }
     },
     "output_type": "display_data"
    }
   ],
   "source": [
    "from sparknlp.pretrained import PretrainedPipeline"
   ]
  },
  {
   "cell_type": "code",
   "execution_count": 0,
   "metadata": {
    "application/vnd.databricks.v1+cell": {
     "inputWidgets": {},
     "nuid": "08a72a0e-e0a9-4afe-a4e0-fa6ff9f8e2bf",
     "showTitle": false,
     "title": ""
    }
   },
   "outputs": [
    {
     "data": {
      "text/html": [
       "<style scoped>\n",
       "  .ansiout {\n",
       "    display: block;\n",
       "    unicode-bidi: embed;\n",
       "    white-space: pre-wrap;\n",
       "    word-wrap: break-word;\n",
       "    word-break: break-all;\n",
       "    font-family: \"Source Code Pro\", \"Menlo\", monospace;;\n",
       "    font-size: 13px;\n",
       "    color: #555;\n",
       "    margin-left: 4px;\n",
       "    line-height: 19px;\n",
       "  }\n",
       "</style>\n",
       "<div class=\"ansiout\"></div>"
      ]
     },
     "metadata": {
      "application/vnd.databricks.v1+output": {
       "addedWidgets": {},
       "arguments": {},
       "data": "<div class=\"ansiout\"></div>",
       "datasetInfos": [],
       "removedWidgets": [],
       "type": "html"
      }
     },
     "output_type": "display_data"
    }
   ],
   "source": [
    "testDoc = '''Peter is a very good persn.\n",
    "My life in Russia is very intersting.\n",
    "John and Peter are brothrs. However they don't support each other that much.\n",
    "Lucas Nogal Dunbercker is no longer happy. He has a good car though.\n",
    "Europe is very culture rich. There are huge churches! and big houses!\n",
    "'''"
   ]
  },
  {
   "cell_type": "code",
   "execution_count": 0,
   "metadata": {
    "application/vnd.databricks.v1+cell": {
     "inputWidgets": {},
     "nuid": "cd9ec787-f5a6-4e7b-af19-13f318ca6059",
     "showTitle": false,
     "title": ""
    }
   },
   "outputs": [
    {
     "data": {
      "text/html": [
       "<style scoped>\n",
       "  .ansiout {\n",
       "    display: block;\n",
       "    unicode-bidi: embed;\n",
       "    white-space: pre-wrap;\n",
       "    word-wrap: break-word;\n",
       "    word-break: break-all;\n",
       "    font-family: \"Source Code Pro\", \"Menlo\", monospace;;\n",
       "    font-size: 13px;\n",
       "    color: #555;\n",
       "    margin-left: 4px;\n",
       "    line-height: 19px;\n",
       "  }\n",
       "</style>\n",
       "<div class=\"ansiout\">Out[4]: &#34;Peter is a very good persn.\\nMy life in Russia is very intersting.\\nJohn and Peter are brothrs. However they don&#39;t support each other that much.\\nLucas Nogal Dunbercker is no longer happy. He has a good car though.\\nEurope is very culture rich. There are huge churches! and big houses!\\n&#34;</div>"
      ]
     },
     "metadata": {
      "application/vnd.databricks.v1+output": {
       "addedWidgets": {},
       "arguments": {},
       "data": "<div class=\"ansiout\">Out[4]: &#34;Peter is a very good persn.\\nMy life in Russia is very intersting.\\nJohn and Peter are brothrs. However they don&#39;t support each other that much.\\nLucas Nogal Dunbercker is no longer happy. He has a good car though.\\nEurope is very culture rich. There are huge churches! and big houses!\\n&#34;</div>",
       "datasetInfos": [],
       "removedWidgets": [],
       "type": "html"
      }
     },
     "output_type": "display_data"
    }
   ],
   "source": [
    "testDoc"
   ]
  },
  {
   "cell_type": "markdown",
   "metadata": {
    "application/vnd.databricks.v1+cell": {
     "inputWidgets": {},
     "nuid": "1a8f5d70-d2fd-41e2-a68c-d555fee4379c",
     "showTitle": false,
     "title": ""
    }
   },
   "source": [
    "### Explain Document ML"
   ]
  },
  {
   "cell_type": "markdown",
   "metadata": {
    "application/vnd.databricks.v1+cell": {
     "inputWidgets": {},
     "nuid": "dffc7f2a-54a1-41ae-9ee7-33d8d4d32345",
     "showTitle": false,
     "title": ""
    }
   },
   "source": [
    "**Stages**\n",
    "- DocumentAssembler\n",
    "- SentenceDetector\n",
    "- Tokenizer\n",
    "- Lemmatizer\n",
    "- Stemmer\n",
    "- Part of Speech\n",
    "- SpellChecker (Norvig)"
   ]
  },
  {
   "cell_type": "code",
   "execution_count": 0,
   "metadata": {
    "application/vnd.databricks.v1+cell": {
     "inputWidgets": {},
     "nuid": "44897f3e-0042-4bf7-afec-201d6ce987a4",
     "showTitle": false,
     "title": ""
    }
   },
   "outputs": [
    {
     "data": {
      "text/html": [
       "<style scoped>\n",
       "  .ansiout {\n",
       "    display: block;\n",
       "    unicode-bidi: embed;\n",
       "    white-space: pre-wrap;\n",
       "    word-wrap: break-word;\n",
       "    word-break: break-all;\n",
       "    font-family: \"Source Code Pro\", \"Menlo\", monospace;;\n",
       "    font-size: 13px;\n",
       "    color: #555;\n",
       "    margin-left: 4px;\n",
       "    line-height: 19px;\n",
       "  }\n",
       "</style>\n",
       "<div class=\"ansiout\">explain_document_ml download started this may take some time.\n",
       "Approx size to download 9.1 MB\n",
       "\r",
       "[ | ]\r",
       "[ / ]\r",
       "[ — ]\r",
       "[ \\ ]\r",
       "[ | ]\r",
       "[ / ]\r",
       "[ — ]\r",
       "[ \\ ]\r",
       "[ | ]\r",
       "[ / ]\r",
       "[ — ]\r",
       "[ \\ ]\r",
       "[OK!]\n",
       "</div>"
      ]
     },
     "metadata": {
      "application/vnd.databricks.v1+output": {
       "addedWidgets": {},
       "arguments": {},
       "data": "<div class=\"ansiout\">explain_document_ml download started this may take some time.\nApprox size to download 9.1 MB\n\r[ | ]\r[ / ]\r[ — ]\r[ \\ ]\r[ | ]\r[ / ]\r[ — ]\r[ \\ ]\r[ | ]\r[ / ]\r[ — ]\r[ \\ ]\r[OK!]\n</div>",
       "datasetInfos": [],
       "removedWidgets": [],
       "type": "html"
      }
     },
     "output_type": "display_data"
    }
   ],
   "source": [
    "pipeline = PretrainedPipeline('explain_document_ml', lang='en')\n"
   ]
  },
  {
   "cell_type": "code",
   "execution_count": 0,
   "metadata": {
    "application/vnd.databricks.v1+cell": {
     "inputWidgets": {},
     "nuid": "b0259739-47b3-4be7-bf92-971c5f2be67d",
     "showTitle": false,
     "title": ""
    }
   },
   "outputs": [
    {
     "data": {
      "text/html": [
       "<style scoped>\n",
       "  .ansiout {\n",
       "    display: block;\n",
       "    unicode-bidi: embed;\n",
       "    white-space: pre-wrap;\n",
       "    word-wrap: break-word;\n",
       "    word-break: break-all;\n",
       "    font-family: \"Source Code Pro\", \"Menlo\", monospace;;\n",
       "    font-size: 13px;\n",
       "    color: #555;\n",
       "    margin-left: 4px;\n",
       "    line-height: 19px;\n",
       "  }\n",
       "</style>\n",
       "<div class=\"ansiout\">Out[6]: [document_2ec0b742eccd,\n",
       " SENTENCE_98fb8e28cb7b,\n",
       " REGEX_TOKENIZER_4428d18fe84e,\n",
       " SPELL_e4ea67180337,\n",
       " LEMMATIZER_c62ad8f355f9,\n",
       " STEMMER_75edcc4a9cdb,\n",
       " POS_3df318ebb81c]</div>"
      ]
     },
     "metadata": {
      "application/vnd.databricks.v1+output": {
       "addedWidgets": {},
       "arguments": {},
       "data": "<div class=\"ansiout\">Out[6]: [document_2ec0b742eccd,\n SENTENCE_98fb8e28cb7b,\n REGEX_TOKENIZER_4428d18fe84e,\n SPELL_e4ea67180337,\n LEMMATIZER_c62ad8f355f9,\n STEMMER_75edcc4a9cdb,\n POS_3df318ebb81c]</div>",
       "datasetInfos": [],
       "removedWidgets": [],
       "type": "html"
      }
     },
     "output_type": "display_data"
    }
   ],
   "source": [
    "pipeline.model.stages"
   ]
  },
  {
   "cell_type": "code",
   "execution_count": 0,
   "metadata": {
    "application/vnd.databricks.v1+cell": {
     "inputWidgets": {},
     "nuid": "a0290015-555a-46ac-b03e-c1a79b7beedc",
     "showTitle": false,
     "title": ""
    }
   },
   "outputs": [
    {
     "data": {
      "text/html": [
       "<style scoped>\n",
       "  .ansiout {\n",
       "    display: block;\n",
       "    unicode-bidi: embed;\n",
       "    white-space: pre-wrap;\n",
       "    word-wrap: break-word;\n",
       "    word-break: break-all;\n",
       "    font-family: \"Source Code Pro\", \"Menlo\", monospace;;\n",
       "    font-size: 13px;\n",
       "    color: #555;\n",
       "    margin-left: 4px;\n",
       "    line-height: 19px;\n",
       "  }\n",
       "</style>\n",
       "<div class=\"ansiout\"></div>"
      ]
     },
     "metadata": {
      "application/vnd.databricks.v1+output": {
       "addedWidgets": {},
       "arguments": {},
       "data": "<div class=\"ansiout\"></div>",
       "datasetInfos": [],
       "removedWidgets": [],
       "type": "html"
      }
     },
     "output_type": "display_data"
    }
   ],
   "source": [
    "result = pipeline.annotate(testDoc)"
   ]
  },
  {
   "cell_type": "code",
   "execution_count": 0,
   "metadata": {
    "application/vnd.databricks.v1+cell": {
     "inputWidgets": {},
     "nuid": "2fd22cab-66ef-45c6-abc7-88ade407f906",
     "showTitle": false,
     "title": ""
    }
   },
   "outputs": [
    {
     "data": {
      "text/html": [
       "<style scoped>\n",
       "  .ansiout {\n",
       "    display: block;\n",
       "    unicode-bidi: embed;\n",
       "    white-space: pre-wrap;\n",
       "    word-wrap: break-word;\n",
       "    word-break: break-all;\n",
       "    font-family: \"Source Code Pro\", \"Menlo\", monospace;;\n",
       "    font-size: 13px;\n",
       "    color: #555;\n",
       "    margin-left: 4px;\n",
       "    line-height: 19px;\n",
       "  }\n",
       "</style>\n",
       "<div class=\"ansiout\">Out[8]: dict_keys([&#39;document&#39;, &#39;spell&#39;, &#39;pos&#39;, &#39;lemmas&#39;, &#39;token&#39;, &#39;stems&#39;, &#39;sentence&#39;])</div>"
      ]
     },
     "metadata": {
      "application/vnd.databricks.v1+output": {
       "addedWidgets": {},
       "arguments": {},
       "data": "<div class=\"ansiout\">Out[8]: dict_keys([&#39;document&#39;, &#39;spell&#39;, &#39;pos&#39;, &#39;lemmas&#39;, &#39;token&#39;, &#39;stems&#39;, &#39;sentence&#39;])</div>",
       "datasetInfos": [],
       "removedWidgets": [],
       "type": "html"
      }
     },
     "output_type": "display_data"
    }
   ],
   "source": [
    "result.keys()"
   ]
  },
  {
   "cell_type": "code",
   "execution_count": 0,
   "metadata": {
    "application/vnd.databricks.v1+cell": {
     "inputWidgets": {},
     "nuid": "9822aa96-02e4-4e19-aaf3-5ce5e650ce55",
     "showTitle": false,
     "title": ""
    }
   },
   "outputs": [
    {
     "data": {
      "text/html": [
       "<style scoped>\n",
       "  .ansiout {\n",
       "    display: block;\n",
       "    unicode-bidi: embed;\n",
       "    white-space: pre-wrap;\n",
       "    word-wrap: break-word;\n",
       "    word-break: break-all;\n",
       "    font-family: \"Source Code Pro\", \"Menlo\", monospace;;\n",
       "    font-size: 13px;\n",
       "    color: #555;\n",
       "    margin-left: 4px;\n",
       "    line-height: 19px;\n",
       "  }\n",
       "</style>\n",
       "<div class=\"ansiout\">Out[9]: [&#39;Peter is a very good persn.&#39;,\n",
       " &#39;My life in Russia is very intersting.&#39;,\n",
       " &#39;John and Peter are brothrs.&#39;,\n",
       " &#34;However they don&#39;t support each other that much.&#34;,\n",
       " &#39;Lucas Nogal Dunbercker is no longer happy.&#39;,\n",
       " &#39;He has a good car though.&#39;,\n",
       " &#39;Europe is very culture rich.&#39;,\n",
       " &#39;There are huge churches!&#39;,\n",
       " &#39;and big houses!&#39;]</div>"
      ]
     },
     "metadata": {
      "application/vnd.databricks.v1+output": {
       "addedWidgets": {},
       "arguments": {},
       "data": "<div class=\"ansiout\">Out[9]: [&#39;Peter is a very good persn.&#39;,\n &#39;My life in Russia is very intersting.&#39;,\n &#39;John and Peter are brothrs.&#39;,\n &#34;However they don&#39;t support each other that much.&#34;,\n &#39;Lucas Nogal Dunbercker is no longer happy.&#39;,\n &#39;He has a good car though.&#39;,\n &#39;Europe is very culture rich.&#39;,\n &#39;There are huge churches!&#39;,\n &#39;and big houses!&#39;]</div>",
       "datasetInfos": [],
       "removedWidgets": [],
       "type": "html"
      }
     },
     "output_type": "display_data"
    }
   ],
   "source": [
    "result['sentence']"
   ]
  },
  {
   "cell_type": "code",
   "execution_count": 0,
   "metadata": {
    "application/vnd.databricks.v1+cell": {
     "inputWidgets": {},
     "nuid": "4651f498-b9d9-4822-8abb-adc72390d0ff",
     "showTitle": false,
     "title": ""
    }
   },
   "outputs": [
    {
     "data": {
      "text/html": [
       "<style scoped>\n",
       "  .ansiout {\n",
       "    display: block;\n",
       "    unicode-bidi: embed;\n",
       "    white-space: pre-wrap;\n",
       "    word-wrap: break-word;\n",
       "    word-break: break-all;\n",
       "    font-family: \"Source Code Pro\", \"Menlo\", monospace;;\n",
       "    font-size: 13px;\n",
       "    color: #555;\n",
       "    margin-left: 4px;\n",
       "    line-height: 19px;\n",
       "  }\n",
       "</style>\n",
       "<div class=\"ansiout\">Out[10]: [&#39;Peter&#39;,\n",
       " &#39;is&#39;,\n",
       " &#39;a&#39;,\n",
       " &#39;very&#39;,\n",
       " &#39;good&#39;,\n",
       " &#39;persn&#39;,\n",
       " &#39;.&#39;,\n",
       " &#39;My&#39;,\n",
       " &#39;life&#39;,\n",
       " &#39;in&#39;,\n",
       " &#39;Russia&#39;,\n",
       " &#39;is&#39;,\n",
       " &#39;very&#39;,\n",
       " &#39;intersting&#39;,\n",
       " &#39;.&#39;,\n",
       " &#39;John&#39;,\n",
       " &#39;and&#39;,\n",
       " &#39;Peter&#39;,\n",
       " &#39;are&#39;,\n",
       " &#39;brothrs&#39;,\n",
       " &#39;.&#39;,\n",
       " &#39;However&#39;,\n",
       " &#39;they&#39;,\n",
       " &#34;don&#39;t&#34;,\n",
       " &#39;support&#39;,\n",
       " &#39;each&#39;,\n",
       " &#39;other&#39;,\n",
       " &#39;that&#39;,\n",
       " &#39;much&#39;,\n",
       " &#39;.&#39;,\n",
       " &#39;Lucas&#39;,\n",
       " &#39;Nogal&#39;,\n",
       " &#39;Dunbercker&#39;,\n",
       " &#39;is&#39;,\n",
       " &#39;no&#39;,\n",
       " &#39;longer&#39;,\n",
       " &#39;happy&#39;,\n",
       " &#39;.&#39;,\n",
       " &#39;He&#39;,\n",
       " &#39;has&#39;,\n",
       " &#39;a&#39;,\n",
       " &#39;good&#39;,\n",
       " &#39;car&#39;,\n",
       " &#39;though&#39;,\n",
       " &#39;.&#39;,\n",
       " &#39;Europe&#39;,\n",
       " &#39;is&#39;,\n",
       " &#39;very&#39;,\n",
       " &#39;culture&#39;,\n",
       " &#39;rich&#39;,\n",
       " &#39;.&#39;,\n",
       " &#39;There&#39;,\n",
       " &#39;are&#39;,\n",
       " &#39;huge&#39;,\n",
       " &#39;churches&#39;,\n",
       " &#39;!&#39;,\n",
       " &#39;and&#39;,\n",
       " &#39;big&#39;,\n",
       " &#39;houses&#39;,\n",
       " &#39;!&#39;]</div>"
      ]
     },
     "metadata": {
      "application/vnd.databricks.v1+output": {
       "addedWidgets": {},
       "arguments": {},
       "data": "<div class=\"ansiout\">Out[10]: [&#39;Peter&#39;,\n &#39;is&#39;,\n &#39;a&#39;,\n &#39;very&#39;,\n &#39;good&#39;,\n &#39;persn&#39;,\n &#39;.&#39;,\n &#39;My&#39;,\n &#39;life&#39;,\n &#39;in&#39;,\n &#39;Russia&#39;,\n &#39;is&#39;,\n &#39;very&#39;,\n &#39;intersting&#39;,\n &#39;.&#39;,\n &#39;John&#39;,\n &#39;and&#39;,\n &#39;Peter&#39;,\n &#39;are&#39;,\n &#39;brothrs&#39;,\n &#39;.&#39;,\n &#39;However&#39;,\n &#39;they&#39;,\n &#34;don&#39;t&#34;,\n &#39;support&#39;,\n &#39;each&#39;,\n &#39;other&#39;,\n &#39;that&#39;,\n &#39;much&#39;,\n &#39;.&#39;,\n &#39;Lucas&#39;,\n &#39;Nogal&#39;,\n &#39;Dunbercker&#39;,\n &#39;is&#39;,\n &#39;no&#39;,\n &#39;longer&#39;,\n &#39;happy&#39;,\n &#39;.&#39;,\n &#39;He&#39;,\n &#39;has&#39;,\n &#39;a&#39;,\n &#39;good&#39;,\n &#39;car&#39;,\n &#39;though&#39;,\n &#39;.&#39;,\n &#39;Europe&#39;,\n &#39;is&#39;,\n &#39;very&#39;,\n &#39;culture&#39;,\n &#39;rich&#39;,\n &#39;.&#39;,\n &#39;There&#39;,\n &#39;are&#39;,\n &#39;huge&#39;,\n &#39;churches&#39;,\n &#39;!&#39;,\n &#39;and&#39;,\n &#39;big&#39;,\n &#39;houses&#39;,\n &#39;!&#39;]</div>",
       "datasetInfos": [],
       "removedWidgets": [],
       "type": "html"
      }
     },
     "output_type": "display_data"
    }
   ],
   "source": [
    "result['token']"
   ]
  },
  {
   "cell_type": "code",
   "execution_count": 0,
   "metadata": {
    "application/vnd.databricks.v1+cell": {
     "inputWidgets": {},
     "nuid": "e241c6a6-9aca-4514-ba20-49585e3fdcd4",
     "showTitle": false,
     "title": ""
    }
   },
   "outputs": [
    {
     "data": {
      "text/html": [
       "<style scoped>\n",
       "  .ansiout {\n",
       "    display: block;\n",
       "    unicode-bidi: embed;\n",
       "    white-space: pre-wrap;\n",
       "    word-wrap: break-word;\n",
       "    word-break: break-all;\n",
       "    font-family: \"Source Code Pro\", \"Menlo\", monospace;;\n",
       "    font-size: 13px;\n",
       "    color: #555;\n",
       "    margin-left: 4px;\n",
       "    line-height: 19px;\n",
       "  }\n",
       "</style>\n",
       "<div class=\"ansiout\">Out[11]: [(&#39;Peter&#39;, &#39;NNP&#39;),\n",
       " (&#39;is&#39;, &#39;VBZ&#39;),\n",
       " (&#39;a&#39;, &#39;DT&#39;),\n",
       " (&#39;very&#39;, &#39;RB&#39;),\n",
       " (&#39;good&#39;, &#39;JJ&#39;),\n",
       " (&#39;persn&#39;, &#39;NN&#39;),\n",
       " (&#39;.&#39;, &#39;.&#39;),\n",
       " (&#39;My&#39;, &#39;PRP$&#39;),\n",
       " (&#39;life&#39;, &#39;NN&#39;),\n",
       " (&#39;in&#39;, &#39;IN&#39;),\n",
       " (&#39;Russia&#39;, &#39;NNP&#39;),\n",
       " (&#39;is&#39;, &#39;VBZ&#39;),\n",
       " (&#39;very&#39;, &#39;RB&#39;),\n",
       " (&#39;intersting&#39;, &#39;VBG&#39;),\n",
       " (&#39;.&#39;, &#39;.&#39;),\n",
       " (&#39;John&#39;, &#39;NNP&#39;),\n",
       " (&#39;and&#39;, &#39;CC&#39;),\n",
       " (&#39;Peter&#39;, &#39;NNP&#39;),\n",
       " (&#39;are&#39;, &#39;VBP&#39;),\n",
       " (&#39;brothrs&#39;, &#39;NN&#39;),\n",
       " (&#39;.&#39;, &#39;.&#39;),\n",
       " (&#39;However&#39;, &#39;RB&#39;),\n",
       " (&#39;they&#39;, &#39;PRP&#39;),\n",
       " (&#34;don&#39;t&#34;, &#39;VBP&#39;),\n",
       " (&#39;support&#39;, &#39;VB&#39;),\n",
       " (&#39;each&#39;, &#39;DT&#39;),\n",
       " (&#39;other&#39;, &#39;JJ&#39;),\n",
       " (&#39;that&#39;, &#39;IN&#39;),\n",
       " (&#39;much&#39;, &#39;JJ&#39;),\n",
       " (&#39;.&#39;, &#39;.&#39;),\n",
       " (&#39;Lucas&#39;, &#39;NNP&#39;),\n",
       " (&#39;Nogal&#39;, &#39;NNP&#39;),\n",
       " (&#39;Dunbercker&#39;, &#39;NNP&#39;),\n",
       " (&#39;is&#39;, &#39;VBZ&#39;),\n",
       " (&#39;no&#39;, &#39;DT&#39;),\n",
       " (&#39;longer&#39;, &#39;RB&#39;),\n",
       " (&#39;happy&#39;, &#39;JJ&#39;),\n",
       " (&#39;.&#39;, &#39;.&#39;),\n",
       " (&#39;He&#39;, &#39;PRP&#39;),\n",
       " (&#39;has&#39;, &#39;VBZ&#39;),\n",
       " (&#39;a&#39;, &#39;DT&#39;),\n",
       " (&#39;good&#39;, &#39;JJ&#39;),\n",
       " (&#39;car&#39;, &#39;NN&#39;),\n",
       " (&#39;though&#39;, &#39;IN&#39;),\n",
       " (&#39;.&#39;, &#39;.&#39;),\n",
       " (&#39;Europe&#39;, &#39;NNP&#39;),\n",
       " (&#39;is&#39;, &#39;VBZ&#39;),\n",
       " (&#39;very&#39;, &#39;RB&#39;),\n",
       " (&#39;culture&#39;, &#39;RB&#39;),\n",
       " (&#39;rich&#39;, &#39;JJ&#39;),\n",
       " (&#39;.&#39;, &#39;.&#39;),\n",
       " (&#39;There&#39;, &#39;EX&#39;),\n",
       " (&#39;are&#39;, &#39;VBP&#39;),\n",
       " (&#39;huge&#39;, &#39;JJ&#39;),\n",
       " (&#39;churches&#39;, &#39;NNS&#39;),\n",
       " (&#39;!&#39;, &#39;.&#39;),\n",
       " (&#39;and&#39;, &#39;CC&#39;),\n",
       " (&#39;big&#39;, &#39;JJ&#39;),\n",
       " (&#39;houses&#39;, &#39;NNS&#39;),\n",
       " (&#39;!&#39;, &#39;.&#39;)]</div>"
      ]
     },
     "metadata": {
      "application/vnd.databricks.v1+output": {
       "addedWidgets": {},
       "arguments": {},
       "data": "<div class=\"ansiout\">Out[11]: [(&#39;Peter&#39;, &#39;NNP&#39;),\n (&#39;is&#39;, &#39;VBZ&#39;),\n (&#39;a&#39;, &#39;DT&#39;),\n (&#39;very&#39;, &#39;RB&#39;),\n (&#39;good&#39;, &#39;JJ&#39;),\n (&#39;persn&#39;, &#39;NN&#39;),\n (&#39;.&#39;, &#39;.&#39;),\n (&#39;My&#39;, &#39;PRP$&#39;),\n (&#39;life&#39;, &#39;NN&#39;),\n (&#39;in&#39;, &#39;IN&#39;),\n (&#39;Russia&#39;, &#39;NNP&#39;),\n (&#39;is&#39;, &#39;VBZ&#39;),\n (&#39;very&#39;, &#39;RB&#39;),\n (&#39;intersting&#39;, &#39;VBG&#39;),\n (&#39;.&#39;, &#39;.&#39;),\n (&#39;John&#39;, &#39;NNP&#39;),\n (&#39;and&#39;, &#39;CC&#39;),\n (&#39;Peter&#39;, &#39;NNP&#39;),\n (&#39;are&#39;, &#39;VBP&#39;),\n (&#39;brothrs&#39;, &#39;NN&#39;),\n (&#39;.&#39;, &#39;.&#39;),\n (&#39;However&#39;, &#39;RB&#39;),\n (&#39;they&#39;, &#39;PRP&#39;),\n (&#34;don&#39;t&#34;, &#39;VBP&#39;),\n (&#39;support&#39;, &#39;VB&#39;),\n (&#39;each&#39;, &#39;DT&#39;),\n (&#39;other&#39;, &#39;JJ&#39;),\n (&#39;that&#39;, &#39;IN&#39;),\n (&#39;much&#39;, &#39;JJ&#39;),\n (&#39;.&#39;, &#39;.&#39;),\n (&#39;Lucas&#39;, &#39;NNP&#39;),\n (&#39;Nogal&#39;, &#39;NNP&#39;),\n (&#39;Dunbercker&#39;, &#39;NNP&#39;),\n (&#39;is&#39;, &#39;VBZ&#39;),\n (&#39;no&#39;, &#39;DT&#39;),\n (&#39;longer&#39;, &#39;RB&#39;),\n (&#39;happy&#39;, &#39;JJ&#39;),\n (&#39;.&#39;, &#39;.&#39;),\n (&#39;He&#39;, &#39;PRP&#39;),\n (&#39;has&#39;, &#39;VBZ&#39;),\n (&#39;a&#39;, &#39;DT&#39;),\n (&#39;good&#39;, &#39;JJ&#39;),\n (&#39;car&#39;, &#39;NN&#39;),\n (&#39;though&#39;, &#39;IN&#39;),\n (&#39;.&#39;, &#39;.&#39;),\n (&#39;Europe&#39;, &#39;NNP&#39;),\n (&#39;is&#39;, &#39;VBZ&#39;),\n (&#39;very&#39;, &#39;RB&#39;),\n (&#39;culture&#39;, &#39;RB&#39;),\n (&#39;rich&#39;, &#39;JJ&#39;),\n (&#39;.&#39;, &#39;.&#39;),\n (&#39;There&#39;, &#39;EX&#39;),\n (&#39;are&#39;, &#39;VBP&#39;),\n (&#39;huge&#39;, &#39;JJ&#39;),\n (&#39;churches&#39;, &#39;NNS&#39;),\n (&#39;!&#39;, &#39;.&#39;),\n (&#39;and&#39;, &#39;CC&#39;),\n (&#39;big&#39;, &#39;JJ&#39;),\n (&#39;houses&#39;, &#39;NNS&#39;),\n (&#39;!&#39;, &#39;.&#39;)]</div>",
       "datasetInfos": [],
       "removedWidgets": [],
       "type": "html"
      }
     },
     "output_type": "display_data"
    }
   ],
   "source": [
    "list(zip(result['token'], result['pos']))"
   ]
  },
  {
   "cell_type": "code",
   "execution_count": 0,
   "metadata": {
    "application/vnd.databricks.v1+cell": {
     "inputWidgets": {},
     "nuid": "ecd95818-04c6-4af0-ba6e-0c25fe2748ca",
     "showTitle": false,
     "title": ""
    }
   },
   "outputs": [
    {
     "data": {
      "text/html": [
       "<style scoped>\n",
       "  .ansiout {\n",
       "    display: block;\n",
       "    unicode-bidi: embed;\n",
       "    white-space: pre-wrap;\n",
       "    word-wrap: break-word;\n",
       "    word-break: break-all;\n",
       "    font-family: \"Source Code Pro\", \"Menlo\", monospace;;\n",
       "    font-size: 13px;\n",
       "    color: #555;\n",
       "    margin-left: 4px;\n",
       "    line-height: 19px;\n",
       "  }\n",
       "</style>\n",
       "<div class=\"ansiout\">Out[12]: [(&#39;Peter&#39;, &#39;Peter&#39;, &#39;peter&#39;, &#39;Peter&#39;),\n",
       " (&#39;is&#39;, &#39;be&#39;, &#39;i&#39;, &#39;is&#39;),\n",
       " (&#39;a&#39;, &#39;a&#39;, &#39;a&#39;, &#39;a&#39;),\n",
       " (&#39;very&#39;, &#39;very&#39;, &#39;veri&#39;, &#39;very&#39;),\n",
       " (&#39;good&#39;, &#39;good&#39;, &#39;good&#39;, &#39;good&#39;),\n",
       " (&#39;persn&#39;, &#39;person&#39;, &#39;person&#39;, &#39;person&#39;),\n",
       " (&#39;.&#39;, &#39;.&#39;, &#39;.&#39;, &#39;.&#39;),\n",
       " (&#39;My&#39;, &#39;My&#39;, &#39;my&#39;, &#39;My&#39;),\n",
       " (&#39;life&#39;, &#39;life&#39;, &#39;life&#39;, &#39;life&#39;),\n",
       " (&#39;in&#39;, &#39;in&#39;, &#39;in&#39;, &#39;in&#39;),\n",
       " (&#39;Russia&#39;, &#39;Russia&#39;, &#39;russia&#39;, &#39;Russia&#39;),\n",
       " (&#39;is&#39;, &#39;be&#39;, &#39;i&#39;, &#39;is&#39;),\n",
       " (&#39;very&#39;, &#39;very&#39;, &#39;veri&#39;, &#39;very&#39;),\n",
       " (&#39;intersting&#39;, &#39;interest&#39;, &#39;interest&#39;, &#39;interesting&#39;),\n",
       " (&#39;.&#39;, &#39;.&#39;, &#39;.&#39;, &#39;.&#39;),\n",
       " (&#39;John&#39;, &#39;John&#39;, &#39;john&#39;, &#39;John&#39;),\n",
       " (&#39;and&#39;, &#39;and&#39;, &#39;and&#39;, &#39;and&#39;),\n",
       " (&#39;Peter&#39;, &#39;Peter&#39;, &#39;peter&#39;, &#39;Peter&#39;),\n",
       " (&#39;are&#39;, &#39;be&#39;, &#39;ar&#39;, &#39;are&#39;),\n",
       " (&#39;brothrs&#39;, &#39;broth&#39;, &#39;broth&#39;, &#39;broths&#39;),\n",
       " (&#39;.&#39;, &#39;.&#39;, &#39;.&#39;, &#39;.&#39;),\n",
       " (&#39;However&#39;, &#39;However&#39;, &#39;howev&#39;, &#39;However&#39;),\n",
       " (&#39;they&#39;, &#39;they&#39;, &#39;thei&#39;, &#39;they&#39;),\n",
       " (&#34;don&#39;t&#34;, &#34;don&#39;t&#34;, &#34;don&#39;t&#34;, &#34;don&#39;t&#34;),\n",
       " (&#39;support&#39;, &#39;support&#39;, &#39;support&#39;, &#39;support&#39;),\n",
       " (&#39;each&#39;, &#39;each&#39;, &#39;each&#39;, &#39;each&#39;),\n",
       " (&#39;other&#39;, &#39;other&#39;, &#39;other&#39;, &#39;other&#39;),\n",
       " (&#39;that&#39;, &#39;that&#39;, &#39;that&#39;, &#39;that&#39;),\n",
       " (&#39;much&#39;, &#39;much&#39;, &#39;much&#39;, &#39;much&#39;),\n",
       " (&#39;.&#39;, &#39;.&#39;, &#39;.&#39;, &#39;.&#39;),\n",
       " (&#39;Lucas&#39;, &#39;Lucas&#39;, &#39;luca&#39;, &#39;Lucas&#39;),\n",
       " (&#39;Nogal&#39;, &#39;Nogal&#39;, &#39;nogal&#39;, &#39;Nogal&#39;),\n",
       " (&#39;Dunbercker&#39;, &#39;Dunbercker&#39;, &#39;dunberck&#39;, &#39;Dunbercker&#39;),\n",
       " (&#39;is&#39;, &#39;be&#39;, &#39;i&#39;, &#39;is&#39;),\n",
       " (&#39;no&#39;, &#39;no&#39;, &#39;no&#39;, &#39;no&#39;),\n",
       " (&#39;longer&#39;, &#39;long&#39;, &#39;longer&#39;, &#39;longer&#39;),\n",
       " (&#39;happy&#39;, &#39;happy&#39;, &#39;happi&#39;, &#39;happy&#39;),\n",
       " (&#39;.&#39;, &#39;.&#39;, &#39;.&#39;, &#39;.&#39;),\n",
       " (&#39;He&#39;, &#39;He&#39;, &#39;he&#39;, &#39;He&#39;),\n",
       " (&#39;has&#39;, &#39;have&#39;, &#39;ha&#39;, &#39;has&#39;),\n",
       " (&#39;a&#39;, &#39;a&#39;, &#39;a&#39;, &#39;a&#39;),\n",
       " (&#39;good&#39;, &#39;good&#39;, &#39;good&#39;, &#39;good&#39;),\n",
       " (&#39;car&#39;, &#39;car&#39;, &#39;car&#39;, &#39;car&#39;),\n",
       " (&#39;though&#39;, &#39;though&#39;, &#39;though&#39;, &#39;though&#39;),\n",
       " (&#39;.&#39;, &#39;.&#39;, &#39;.&#39;, &#39;.&#39;),\n",
       " (&#39;Europe&#39;, &#39;Europe&#39;, &#39;europ&#39;, &#39;Europe&#39;),\n",
       " (&#39;is&#39;, &#39;be&#39;, &#39;i&#39;, &#39;is&#39;),\n",
       " (&#39;very&#39;, &#39;very&#39;, &#39;veri&#39;, &#39;very&#39;),\n",
       " (&#39;culture&#39;, &#39;culture&#39;, &#39;cultur&#39;, &#39;culture&#39;),\n",
       " (&#39;rich&#39;, &#39;rich&#39;, &#39;rich&#39;, &#39;rich&#39;),\n",
       " (&#39;.&#39;, &#39;.&#39;, &#39;.&#39;, &#39;.&#39;),\n",
       " (&#39;There&#39;, &#39;There&#39;, &#39;there&#39;, &#39;There&#39;),\n",
       " (&#39;are&#39;, &#39;be&#39;, &#39;ar&#39;, &#39;are&#39;),\n",
       " (&#39;huge&#39;, &#39;huge&#39;, &#39;huge&#39;, &#39;huge&#39;),\n",
       " (&#39;churches&#39;, &#39;church&#39;, &#39;church&#39;, &#39;churches&#39;),\n",
       " (&#39;!&#39;, &#39;!&#39;, &#39;!&#39;, &#39;!&#39;),\n",
       " (&#39;and&#39;, &#39;and&#39;, &#39;and&#39;, &#39;and&#39;),\n",
       " (&#39;big&#39;, &#39;big&#39;, &#39;big&#39;, &#39;big&#39;),\n",
       " (&#39;houses&#39;, &#39;house&#39;, &#39;hous&#39;, &#39;houses&#39;),\n",
       " (&#39;!&#39;, &#39;!&#39;, &#39;!&#39;, &#39;!&#39;)]</div>"
      ]
     },
     "metadata": {
      "application/vnd.databricks.v1+output": {
       "addedWidgets": {},
       "arguments": {},
       "data": "<div class=\"ansiout\">Out[12]: [(&#39;Peter&#39;, &#39;Peter&#39;, &#39;peter&#39;, &#39;Peter&#39;),\n (&#39;is&#39;, &#39;be&#39;, &#39;i&#39;, &#39;is&#39;),\n (&#39;a&#39;, &#39;a&#39;, &#39;a&#39;, &#39;a&#39;),\n (&#39;very&#39;, &#39;very&#39;, &#39;veri&#39;, &#39;very&#39;),\n (&#39;good&#39;, &#39;good&#39;, &#39;good&#39;, &#39;good&#39;),\n (&#39;persn&#39;, &#39;person&#39;, &#39;person&#39;, &#39;person&#39;),\n (&#39;.&#39;, &#39;.&#39;, &#39;.&#39;, &#39;.&#39;),\n (&#39;My&#39;, &#39;My&#39;, &#39;my&#39;, &#39;My&#39;),\n (&#39;life&#39;, &#39;life&#39;, &#39;life&#39;, &#39;life&#39;),\n (&#39;in&#39;, &#39;in&#39;, &#39;in&#39;, &#39;in&#39;),\n (&#39;Russia&#39;, &#39;Russia&#39;, &#39;russia&#39;, &#39;Russia&#39;),\n (&#39;is&#39;, &#39;be&#39;, &#39;i&#39;, &#39;is&#39;),\n (&#39;very&#39;, &#39;very&#39;, &#39;veri&#39;, &#39;very&#39;),\n (&#39;intersting&#39;, &#39;interest&#39;, &#39;interest&#39;, &#39;interesting&#39;),\n (&#39;.&#39;, &#39;.&#39;, &#39;.&#39;, &#39;.&#39;),\n (&#39;John&#39;, &#39;John&#39;, &#39;john&#39;, &#39;John&#39;),\n (&#39;and&#39;, &#39;and&#39;, &#39;and&#39;, &#39;and&#39;),\n (&#39;Peter&#39;, &#39;Peter&#39;, &#39;peter&#39;, &#39;Peter&#39;),\n (&#39;are&#39;, &#39;be&#39;, &#39;ar&#39;, &#39;are&#39;),\n (&#39;brothrs&#39;, &#39;broth&#39;, &#39;broth&#39;, &#39;broths&#39;),\n (&#39;.&#39;, &#39;.&#39;, &#39;.&#39;, &#39;.&#39;),\n (&#39;However&#39;, &#39;However&#39;, &#39;howev&#39;, &#39;However&#39;),\n (&#39;they&#39;, &#39;they&#39;, &#39;thei&#39;, &#39;they&#39;),\n (&#34;don&#39;t&#34;, &#34;don&#39;t&#34;, &#34;don&#39;t&#34;, &#34;don&#39;t&#34;),\n (&#39;support&#39;, &#39;support&#39;, &#39;support&#39;, &#39;support&#39;),\n (&#39;each&#39;, &#39;each&#39;, &#39;each&#39;, &#39;each&#39;),\n (&#39;other&#39;, &#39;other&#39;, &#39;other&#39;, &#39;other&#39;),\n (&#39;that&#39;, &#39;that&#39;, &#39;that&#39;, &#39;that&#39;),\n (&#39;much&#39;, &#39;much&#39;, &#39;much&#39;, &#39;much&#39;),\n (&#39;.&#39;, &#39;.&#39;, &#39;.&#39;, &#39;.&#39;),\n (&#39;Lucas&#39;, &#39;Lucas&#39;, &#39;luca&#39;, &#39;Lucas&#39;),\n (&#39;Nogal&#39;, &#39;Nogal&#39;, &#39;nogal&#39;, &#39;Nogal&#39;),\n (&#39;Dunbercker&#39;, &#39;Dunbercker&#39;, &#39;dunberck&#39;, &#39;Dunbercker&#39;),\n (&#39;is&#39;, &#39;be&#39;, &#39;i&#39;, &#39;is&#39;),\n (&#39;no&#39;, &#39;no&#39;, &#39;no&#39;, &#39;no&#39;),\n (&#39;longer&#39;, &#39;long&#39;, &#39;longer&#39;, &#39;longer&#39;),\n (&#39;happy&#39;, &#39;happy&#39;, &#39;happi&#39;, &#39;happy&#39;),\n (&#39;.&#39;, &#39;.&#39;, &#39;.&#39;, &#39;.&#39;),\n (&#39;He&#39;, &#39;He&#39;, &#39;he&#39;, &#39;He&#39;),\n (&#39;has&#39;, &#39;have&#39;, &#39;ha&#39;, &#39;has&#39;),\n (&#39;a&#39;, &#39;a&#39;, &#39;a&#39;, &#39;a&#39;),\n (&#39;good&#39;, &#39;good&#39;, &#39;good&#39;, &#39;good&#39;),\n (&#39;car&#39;, &#39;car&#39;, &#39;car&#39;, &#39;car&#39;),\n (&#39;though&#39;, &#39;though&#39;, &#39;though&#39;, &#39;though&#39;),\n (&#39;.&#39;, &#39;.&#39;, &#39;.&#39;, &#39;.&#39;),\n (&#39;Europe&#39;, &#39;Europe&#39;, &#39;europ&#39;, &#39;Europe&#39;),\n (&#39;is&#39;, &#39;be&#39;, &#39;i&#39;, &#39;is&#39;),\n (&#39;very&#39;, &#39;very&#39;, &#39;veri&#39;, &#39;very&#39;),\n (&#39;culture&#39;, &#39;culture&#39;, &#39;cultur&#39;, &#39;culture&#39;),\n (&#39;rich&#39;, &#39;rich&#39;, &#39;rich&#39;, &#39;rich&#39;),\n (&#39;.&#39;, &#39;.&#39;, &#39;.&#39;, &#39;.&#39;),\n (&#39;There&#39;, &#39;There&#39;, &#39;there&#39;, &#39;There&#39;),\n (&#39;are&#39;, &#39;be&#39;, &#39;ar&#39;, &#39;are&#39;),\n (&#39;huge&#39;, &#39;huge&#39;, &#39;huge&#39;, &#39;huge&#39;),\n (&#39;churches&#39;, &#39;church&#39;, &#39;church&#39;, &#39;churches&#39;),\n (&#39;!&#39;, &#39;!&#39;, &#39;!&#39;, &#39;!&#39;),\n (&#39;and&#39;, &#39;and&#39;, &#39;and&#39;, &#39;and&#39;),\n (&#39;big&#39;, &#39;big&#39;, &#39;big&#39;, &#39;big&#39;),\n (&#39;houses&#39;, &#39;house&#39;, &#39;hous&#39;, &#39;houses&#39;),\n (&#39;!&#39;, &#39;!&#39;, &#39;!&#39;, &#39;!&#39;)]</div>",
       "datasetInfos": [],
       "removedWidgets": [],
       "type": "html"
      }
     },
     "output_type": "display_data"
    }
   ],
   "source": [
    "list(zip(result['token'], result['lemmas'], result['stems'], result['spell']))"
   ]
  },
  {
   "cell_type": "code",
   "execution_count": 0,
   "metadata": {
    "application/vnd.databricks.v1+cell": {
     "inputWidgets": {},
     "nuid": "bcbbf083-2c83-4020-b0d0-f7ba5df46031",
     "showTitle": false,
     "title": ""
    }
   },
   "outputs": [
    {
     "data": {
      "text/html": [
       "<style scoped>\n",
       "  .ansiout {\n",
       "    display: block;\n",
       "    unicode-bidi: embed;\n",
       "    white-space: pre-wrap;\n",
       "    word-wrap: break-word;\n",
       "    word-break: break-all;\n",
       "    font-family: \"Source Code Pro\", \"Menlo\", monospace;;\n",
       "    font-size: 13px;\n",
       "    color: #555;\n",
       "    margin-left: 4px;\n",
       "    line-height: 19px;\n",
       "  }\n",
       "</style>\n",
       "<div class=\"ansiout\">Out[13]: </div>"
      ]
     },
     "metadata": {
      "application/vnd.databricks.v1+output": {
       "addedWidgets": {},
       "arguments": {},
       "data": "<div class=\"ansiout\">Out[13]: </div>",
       "datasetInfos": [],
       "removedWidgets": [],
       "type": "html"
      }
     },
     "output_type": "display_data"
    },
    {
     "data": {
      "text/html": [
       "<div>\n",
       "<style scoped>\n",
       "    .dataframe tbody tr th:only-of-type {\n",
       "        vertical-align: middle;\n",
       "    }\n",
       "\n",
       "    .dataframe tbody tr th {\n",
       "        vertical-align: top;\n",
       "    }\n",
       "\n",
       "    .dataframe thead th {\n",
       "        text-align: right;\n",
       "    }\n",
       "</style>\n",
       "<table border=\"1\" class=\"dataframe\">\n",
       "  <thead>\n",
       "    <tr style=\"text-align: right;\">\n",
       "      <th></th>\n",
       "      <th>token</th>\n",
       "      <th>corrected</th>\n",
       "      <th>POS</th>\n",
       "      <th>lemmas</th>\n",
       "      <th>stems</th>\n",
       "    </tr>\n",
       "  </thead>\n",
       "  <tbody>\n",
       "    <tr>\n",
       "      <th>0</th>\n",
       "      <td>Peter</td>\n",
       "      <td>Peter</td>\n",
       "      <td>NNP</td>\n",
       "      <td>Peter</td>\n",
       "      <td>peter</td>\n",
       "    </tr>\n",
       "    <tr>\n",
       "      <th>1</th>\n",
       "      <td>is</td>\n",
       "      <td>is</td>\n",
       "      <td>VBZ</td>\n",
       "      <td>be</td>\n",
       "      <td>i</td>\n",
       "    </tr>\n",
       "    <tr>\n",
       "      <th>2</th>\n",
       "      <td>a</td>\n",
       "      <td>a</td>\n",
       "      <td>DT</td>\n",
       "      <td>a</td>\n",
       "      <td>a</td>\n",
       "    </tr>\n",
       "    <tr>\n",
       "      <th>3</th>\n",
       "      <td>very</td>\n",
       "      <td>very</td>\n",
       "      <td>RB</td>\n",
       "      <td>very</td>\n",
       "      <td>veri</td>\n",
       "    </tr>\n",
       "    <tr>\n",
       "      <th>4</th>\n",
       "      <td>good</td>\n",
       "      <td>good</td>\n",
       "      <td>JJ</td>\n",
       "      <td>good</td>\n",
       "      <td>good</td>\n",
       "    </tr>\n",
       "    <tr>\n",
       "      <th>5</th>\n",
       "      <td>persn</td>\n",
       "      <td>person</td>\n",
       "      <td>NN</td>\n",
       "      <td>person</td>\n",
       "      <td>person</td>\n",
       "    </tr>\n",
       "    <tr>\n",
       "      <th>6</th>\n",
       "      <td>.</td>\n",
       "      <td>.</td>\n",
       "      <td>.</td>\n",
       "      <td>.</td>\n",
       "      <td>.</td>\n",
       "    </tr>\n",
       "    <tr>\n",
       "      <th>7</th>\n",
       "      <td>My</td>\n",
       "      <td>My</td>\n",
       "      <td>PRP$</td>\n",
       "      <td>My</td>\n",
       "      <td>my</td>\n",
       "    </tr>\n",
       "    <tr>\n",
       "      <th>8</th>\n",
       "      <td>life</td>\n",
       "      <td>life</td>\n",
       "      <td>NN</td>\n",
       "      <td>life</td>\n",
       "      <td>life</td>\n",
       "    </tr>\n",
       "    <tr>\n",
       "      <th>9</th>\n",
       "      <td>in</td>\n",
       "      <td>in</td>\n",
       "      <td>IN</td>\n",
       "      <td>in</td>\n",
       "      <td>in</td>\n",
       "    </tr>\n",
       "    <tr>\n",
       "      <th>10</th>\n",
       "      <td>Russia</td>\n",
       "      <td>Russia</td>\n",
       "      <td>NNP</td>\n",
       "      <td>Russia</td>\n",
       "      <td>russia</td>\n",
       "    </tr>\n",
       "    <tr>\n",
       "      <th>11</th>\n",
       "      <td>is</td>\n",
       "      <td>is</td>\n",
       "      <td>VBZ</td>\n",
       "      <td>be</td>\n",
       "      <td>i</td>\n",
       "    </tr>\n",
       "    <tr>\n",
       "      <th>12</th>\n",
       "      <td>very</td>\n",
       "      <td>very</td>\n",
       "      <td>RB</td>\n",
       "      <td>very</td>\n",
       "      <td>veri</td>\n",
       "    </tr>\n",
       "    <tr>\n",
       "      <th>13</th>\n",
       "      <td>intersting</td>\n",
       "      <td>interesting</td>\n",
       "      <td>VBG</td>\n",
       "      <td>interest</td>\n",
       "      <td>interest</td>\n",
       "    </tr>\n",
       "    <tr>\n",
       "      <th>14</th>\n",
       "      <td>.</td>\n",
       "      <td>.</td>\n",
       "      <td>.</td>\n",
       "      <td>.</td>\n",
       "      <td>.</td>\n",
       "    </tr>\n",
       "    <tr>\n",
       "      <th>15</th>\n",
       "      <td>John</td>\n",
       "      <td>John</td>\n",
       "      <td>NNP</td>\n",
       "      <td>John</td>\n",
       "      <td>john</td>\n",
       "    </tr>\n",
       "    <tr>\n",
       "      <th>16</th>\n",
       "      <td>and</td>\n",
       "      <td>and</td>\n",
       "      <td>CC</td>\n",
       "      <td>and</td>\n",
       "      <td>and</td>\n",
       "    </tr>\n",
       "    <tr>\n",
       "      <th>17</th>\n",
       "      <td>Peter</td>\n",
       "      <td>Peter</td>\n",
       "      <td>NNP</td>\n",
       "      <td>Peter</td>\n",
       "      <td>peter</td>\n",
       "    </tr>\n",
       "    <tr>\n",
       "      <th>18</th>\n",
       "      <td>are</td>\n",
       "      <td>are</td>\n",
       "      <td>VBP</td>\n",
       "      <td>be</td>\n",
       "      <td>ar</td>\n",
       "    </tr>\n",
       "    <tr>\n",
       "      <th>19</th>\n",
       "      <td>brothrs</td>\n",
       "      <td>broths</td>\n",
       "      <td>NN</td>\n",
       "      <td>broth</td>\n",
       "      <td>broth</td>\n",
       "    </tr>\n",
       "    <tr>\n",
       "      <th>20</th>\n",
       "      <td>.</td>\n",
       "      <td>.</td>\n",
       "      <td>.</td>\n",
       "      <td>.</td>\n",
       "      <td>.</td>\n",
       "    </tr>\n",
       "    <tr>\n",
       "      <th>21</th>\n",
       "      <td>However</td>\n",
       "      <td>However</td>\n",
       "      <td>RB</td>\n",
       "      <td>However</td>\n",
       "      <td>howev</td>\n",
       "    </tr>\n",
       "    <tr>\n",
       "      <th>22</th>\n",
       "      <td>they</td>\n",
       "      <td>they</td>\n",
       "      <td>PRP</td>\n",
       "      <td>they</td>\n",
       "      <td>thei</td>\n",
       "    </tr>\n",
       "    <tr>\n",
       "      <th>23</th>\n",
       "      <td>don't</td>\n",
       "      <td>don't</td>\n",
       "      <td>VBP</td>\n",
       "      <td>don't</td>\n",
       "      <td>don't</td>\n",
       "    </tr>\n",
       "    <tr>\n",
       "      <th>24</th>\n",
       "      <td>support</td>\n",
       "      <td>support</td>\n",
       "      <td>VB</td>\n",
       "      <td>support</td>\n",
       "      <td>support</td>\n",
       "    </tr>\n",
       "    <tr>\n",
       "      <th>25</th>\n",
       "      <td>each</td>\n",
       "      <td>each</td>\n",
       "      <td>DT</td>\n",
       "      <td>each</td>\n",
       "      <td>each</td>\n",
       "    </tr>\n",
       "    <tr>\n",
       "      <th>26</th>\n",
       "      <td>other</td>\n",
       "      <td>other</td>\n",
       "      <td>JJ</td>\n",
       "      <td>other</td>\n",
       "      <td>other</td>\n",
       "    </tr>\n",
       "    <tr>\n",
       "      <th>27</th>\n",
       "      <td>that</td>\n",
       "      <td>that</td>\n",
       "      <td>IN</td>\n",
       "      <td>that</td>\n",
       "      <td>that</td>\n",
       "    </tr>\n",
       "    <tr>\n",
       "      <th>28</th>\n",
       "      <td>much</td>\n",
       "      <td>much</td>\n",
       "      <td>JJ</td>\n",
       "      <td>much</td>\n",
       "      <td>much</td>\n",
       "    </tr>\n",
       "    <tr>\n",
       "      <th>29</th>\n",
       "      <td>.</td>\n",
       "      <td>.</td>\n",
       "      <td>.</td>\n",
       "      <td>.</td>\n",
       "      <td>.</td>\n",
       "    </tr>\n",
       "    <tr>\n",
       "      <th>30</th>\n",
       "      <td>Lucas</td>\n",
       "      <td>Lucas</td>\n",
       "      <td>NNP</td>\n",
       "      <td>Lucas</td>\n",
       "      <td>luca</td>\n",
       "    </tr>\n",
       "    <tr>\n",
       "      <th>31</th>\n",
       "      <td>Nogal</td>\n",
       "      <td>Nogal</td>\n",
       "      <td>NNP</td>\n",
       "      <td>Nogal</td>\n",
       "      <td>nogal</td>\n",
       "    </tr>\n",
       "    <tr>\n",
       "      <th>32</th>\n",
       "      <td>Dunbercker</td>\n",
       "      <td>Dunbercker</td>\n",
       "      <td>NNP</td>\n",
       "      <td>Dunbercker</td>\n",
       "      <td>dunberck</td>\n",
       "    </tr>\n",
       "    <tr>\n",
       "      <th>33</th>\n",
       "      <td>is</td>\n",
       "      <td>is</td>\n",
       "      <td>VBZ</td>\n",
       "      <td>be</td>\n",
       "      <td>i</td>\n",
       "    </tr>\n",
       "    <tr>\n",
       "      <th>34</th>\n",
       "      <td>no</td>\n",
       "      <td>no</td>\n",
       "      <td>DT</td>\n",
       "      <td>no</td>\n",
       "      <td>no</td>\n",
       "    </tr>\n",
       "    <tr>\n",
       "      <th>35</th>\n",
       "      <td>longer</td>\n",
       "      <td>longer</td>\n",
       "      <td>RB</td>\n",
       "      <td>long</td>\n",
       "      <td>longer</td>\n",
       "    </tr>\n",
       "    <tr>\n",
       "      <th>36</th>\n",
       "      <td>happy</td>\n",
       "      <td>happy</td>\n",
       "      <td>JJ</td>\n",
       "      <td>happy</td>\n",
       "      <td>happi</td>\n",
       "    </tr>\n",
       "    <tr>\n",
       "      <th>37</th>\n",
       "      <td>.</td>\n",
       "      <td>.</td>\n",
       "      <td>.</td>\n",
       "      <td>.</td>\n",
       "      <td>.</td>\n",
       "    </tr>\n",
       "    <tr>\n",
       "      <th>38</th>\n",
       "      <td>He</td>\n",
       "      <td>He</td>\n",
       "      <td>PRP</td>\n",
       "      <td>He</td>\n",
       "      <td>he</td>\n",
       "    </tr>\n",
       "    <tr>\n",
       "      <th>39</th>\n",
       "      <td>has</td>\n",
       "      <td>has</td>\n",
       "      <td>VBZ</td>\n",
       "      <td>have</td>\n",
       "      <td>ha</td>\n",
       "    </tr>\n",
       "    <tr>\n",
       "      <th>40</th>\n",
       "      <td>a</td>\n",
       "      <td>a</td>\n",
       "      <td>DT</td>\n",
       "      <td>a</td>\n",
       "      <td>a</td>\n",
       "    </tr>\n",
       "    <tr>\n",
       "      <th>41</th>\n",
       "      <td>good</td>\n",
       "      <td>good</td>\n",
       "      <td>JJ</td>\n",
       "      <td>good</td>\n",
       "      <td>good</td>\n",
       "    </tr>\n",
       "    <tr>\n",
       "      <th>42</th>\n",
       "      <td>car</td>\n",
       "      <td>car</td>\n",
       "      <td>NN</td>\n",
       "      <td>car</td>\n",
       "      <td>car</td>\n",
       "    </tr>\n",
       "    <tr>\n",
       "      <th>43</th>\n",
       "      <td>though</td>\n",
       "      <td>though</td>\n",
       "      <td>IN</td>\n",
       "      <td>though</td>\n",
       "      <td>though</td>\n",
       "    </tr>\n",
       "    <tr>\n",
       "      <th>44</th>\n",
       "      <td>.</td>\n",
       "      <td>.</td>\n",
       "      <td>.</td>\n",
       "      <td>.</td>\n",
       "      <td>.</td>\n",
       "    </tr>\n",
       "    <tr>\n",
       "      <th>45</th>\n",
       "      <td>Europe</td>\n",
       "      <td>Europe</td>\n",
       "      <td>NNP</td>\n",
       "      <td>Europe</td>\n",
       "      <td>europ</td>\n",
       "    </tr>\n",
       "    <tr>\n",
       "      <th>46</th>\n",
       "      <td>is</td>\n",
       "      <td>is</td>\n",
       "      <td>VBZ</td>\n",
       "      <td>be</td>\n",
       "      <td>i</td>\n",
       "    </tr>\n",
       "    <tr>\n",
       "      <th>47</th>\n",
       "      <td>very</td>\n",
       "      <td>very</td>\n",
       "      <td>RB</td>\n",
       "      <td>very</td>\n",
       "      <td>veri</td>\n",
       "    </tr>\n",
       "    <tr>\n",
       "      <th>48</th>\n",
       "      <td>culture</td>\n",
       "      <td>culture</td>\n",
       "      <td>RB</td>\n",
       "      <td>culture</td>\n",
       "      <td>cultur</td>\n",
       "    </tr>\n",
       "    <tr>\n",
       "      <th>49</th>\n",
       "      <td>rich</td>\n",
       "      <td>rich</td>\n",
       "      <td>JJ</td>\n",
       "      <td>rich</td>\n",
       "      <td>rich</td>\n",
       "    </tr>\n",
       "    <tr>\n",
       "      <th>50</th>\n",
       "      <td>.</td>\n",
       "      <td>.</td>\n",
       "      <td>.</td>\n",
       "      <td>.</td>\n",
       "      <td>.</td>\n",
       "    </tr>\n",
       "    <tr>\n",
       "      <th>51</th>\n",
       "      <td>There</td>\n",
       "      <td>There</td>\n",
       "      <td>EX</td>\n",
       "      <td>There</td>\n",
       "      <td>there</td>\n",
       "    </tr>\n",
       "    <tr>\n",
       "      <th>52</th>\n",
       "      <td>are</td>\n",
       "      <td>are</td>\n",
       "      <td>VBP</td>\n",
       "      <td>be</td>\n",
       "      <td>ar</td>\n",
       "    </tr>\n",
       "    <tr>\n",
       "      <th>53</th>\n",
       "      <td>huge</td>\n",
       "      <td>huge</td>\n",
       "      <td>JJ</td>\n",
       "      <td>huge</td>\n",
       "      <td>huge</td>\n",
       "    </tr>\n",
       "    <tr>\n",
       "      <th>54</th>\n",
       "      <td>churches</td>\n",
       "      <td>churches</td>\n",
       "      <td>NNS</td>\n",
       "      <td>church</td>\n",
       "      <td>church</td>\n",
       "    </tr>\n",
       "    <tr>\n",
       "      <th>55</th>\n",
       "      <td>!</td>\n",
       "      <td>!</td>\n",
       "      <td>.</td>\n",
       "      <td>!</td>\n",
       "      <td>!</td>\n",
       "    </tr>\n",
       "    <tr>\n",
       "      <th>56</th>\n",
       "      <td>and</td>\n",
       "      <td>and</td>\n",
       "      <td>CC</td>\n",
       "      <td>and</td>\n",
       "      <td>and</td>\n",
       "    </tr>\n",
       "    <tr>\n",
       "      <th>57</th>\n",
       "      <td>big</td>\n",
       "      <td>big</td>\n",
       "      <td>JJ</td>\n",
       "      <td>big</td>\n",
       "      <td>big</td>\n",
       "    </tr>\n",
       "    <tr>\n",
       "      <th>58</th>\n",
       "      <td>houses</td>\n",
       "      <td>houses</td>\n",
       "      <td>NNS</td>\n",
       "      <td>house</td>\n",
       "      <td>hous</td>\n",
       "    </tr>\n",
       "    <tr>\n",
       "      <th>59</th>\n",
       "      <td>!</td>\n",
       "      <td>!</td>\n",
       "      <td>.</td>\n",
       "      <td>!</td>\n",
       "      <td>!</td>\n",
       "    </tr>\n",
       "  </tbody>\n",
       "</table>\n",
       "</div>"
      ]
     },
     "metadata": {
      "application/vnd.databricks.v1+output": {
       "addedWidgets": {},
       "arguments": {},
       "data": "<div>\n<style scoped>\n    .dataframe tbody tr th:only-of-type {\n        vertical-align: middle;\n    }\n\n    .dataframe tbody tr th {\n        vertical-align: top;\n    }\n\n    .dataframe thead th {\n        text-align: right;\n    }\n</style>\n<table border=\"1\" class=\"dataframe\">\n  <thead>\n    <tr style=\"text-align: right;\">\n      <th></th>\n      <th>token</th>\n      <th>corrected</th>\n      <th>POS</th>\n      <th>lemmas</th>\n      <th>stems</th>\n    </tr>\n  </thead>\n  <tbody>\n    <tr>\n      <th>0</th>\n      <td>Peter</td>\n      <td>Peter</td>\n      <td>NNP</td>\n      <td>Peter</td>\n      <td>peter</td>\n    </tr>\n    <tr>\n      <th>1</th>\n      <td>is</td>\n      <td>is</td>\n      <td>VBZ</td>\n      <td>be</td>\n      <td>i</td>\n    </tr>\n    <tr>\n      <th>2</th>\n      <td>a</td>\n      <td>a</td>\n      <td>DT</td>\n      <td>a</td>\n      <td>a</td>\n    </tr>\n    <tr>\n      <th>3</th>\n      <td>very</td>\n      <td>very</td>\n      <td>RB</td>\n      <td>very</td>\n      <td>veri</td>\n    </tr>\n    <tr>\n      <th>4</th>\n      <td>good</td>\n      <td>good</td>\n      <td>JJ</td>\n      <td>good</td>\n      <td>good</td>\n    </tr>\n    <tr>\n      <th>5</th>\n      <td>persn</td>\n      <td>person</td>\n      <td>NN</td>\n      <td>person</td>\n      <td>person</td>\n    </tr>\n    <tr>\n      <th>6</th>\n      <td>.</td>\n      <td>.</td>\n      <td>.</td>\n      <td>.</td>\n      <td>.</td>\n    </tr>\n    <tr>\n      <th>7</th>\n      <td>My</td>\n      <td>My</td>\n      <td>PRP$</td>\n      <td>My</td>\n      <td>my</td>\n    </tr>\n    <tr>\n      <th>8</th>\n      <td>life</td>\n      <td>life</td>\n      <td>NN</td>\n      <td>life</td>\n      <td>life</td>\n    </tr>\n    <tr>\n      <th>9</th>\n      <td>in</td>\n      <td>in</td>\n      <td>IN</td>\n      <td>in</td>\n      <td>in</td>\n    </tr>\n    <tr>\n      <th>10</th>\n      <td>Russia</td>\n      <td>Russia</td>\n      <td>NNP</td>\n      <td>Russia</td>\n      <td>russia</td>\n    </tr>\n    <tr>\n      <th>11</th>\n      <td>is</td>\n      <td>is</td>\n      <td>VBZ</td>\n      <td>be</td>\n      <td>i</td>\n    </tr>\n    <tr>\n      <th>12</th>\n      <td>very</td>\n      <td>very</td>\n      <td>RB</td>\n      <td>very</td>\n      <td>veri</td>\n    </tr>\n    <tr>\n      <th>13</th>\n      <td>intersting</td>\n      <td>interesting</td>\n      <td>VBG</td>\n      <td>interest</td>\n      <td>interest</td>\n    </tr>\n    <tr>\n      <th>14</th>\n      <td>.</td>\n      <td>.</td>\n      <td>.</td>\n      <td>.</td>\n      <td>.</td>\n    </tr>\n    <tr>\n      <th>15</th>\n      <td>John</td>\n      <td>John</td>\n      <td>NNP</td>\n      <td>John</td>\n      <td>john</td>\n    </tr>\n    <tr>\n      <th>16</th>\n      <td>and</td>\n      <td>and</td>\n      <td>CC</td>\n      <td>and</td>\n      <td>and</td>\n    </tr>\n    <tr>\n      <th>17</th>\n      <td>Peter</td>\n      <td>Peter</td>\n      <td>NNP</td>\n      <td>Peter</td>\n      <td>peter</td>\n    </tr>\n    <tr>\n      <th>18</th>\n      <td>are</td>\n      <td>are</td>\n      <td>VBP</td>\n      <td>be</td>\n      <td>ar</td>\n    </tr>\n    <tr>\n      <th>19</th>\n      <td>brothrs</td>\n      <td>broths</td>\n      <td>NN</td>\n      <td>broth</td>\n      <td>broth</td>\n    </tr>\n    <tr>\n      <th>20</th>\n      <td>.</td>\n      <td>.</td>\n      <td>.</td>\n      <td>.</td>\n      <td>.</td>\n    </tr>\n    <tr>\n      <th>21</th>\n      <td>However</td>\n      <td>However</td>\n      <td>RB</td>\n      <td>However</td>\n      <td>howev</td>\n    </tr>\n    <tr>\n      <th>22</th>\n      <td>they</td>\n      <td>they</td>\n      <td>PRP</td>\n      <td>they</td>\n      <td>thei</td>\n    </tr>\n    <tr>\n      <th>23</th>\n      <td>don't</td>\n      <td>don't</td>\n      <td>VBP</td>\n      <td>don't</td>\n      <td>don't</td>\n    </tr>\n    <tr>\n      <th>24</th>\n      <td>support</td>\n      <td>support</td>\n      <td>VB</td>\n      <td>support</td>\n      <td>support</td>\n    </tr>\n    <tr>\n      <th>25</th>\n      <td>each</td>\n      <td>each</td>\n      <td>DT</td>\n      <td>each</td>\n      <td>each</td>\n    </tr>\n    <tr>\n      <th>26</th>\n      <td>other</td>\n      <td>other</td>\n      <td>JJ</td>\n      <td>other</td>\n      <td>other</td>\n    </tr>\n    <tr>\n      <th>27</th>\n      <td>that</td>\n      <td>that</td>\n      <td>IN</td>\n      <td>that</td>\n      <td>that</td>\n    </tr>\n    <tr>\n      <th>28</th>\n      <td>much</td>\n      <td>much</td>\n      <td>JJ</td>\n      <td>much</td>\n      <td>much</td>\n    </tr>\n    <tr>\n      <th>29</th>\n      <td>.</td>\n      <td>.</td>\n      <td>.</td>\n      <td>.</td>\n      <td>.</td>\n    </tr>\n    <tr>\n      <th>30</th>\n      <td>Lucas</td>\n      <td>Lucas</td>\n      <td>NNP</td>\n      <td>Lucas</td>\n      <td>luca</td>\n    </tr>\n    <tr>\n      <th>31</th>\n      <td>Nogal</td>\n      <td>Nogal</td>\n      <td>NNP</td>\n      <td>Nogal</td>\n      <td>nogal</td>\n    </tr>\n    <tr>\n      <th>32</th>\n      <td>Dunbercker</td>\n      <td>Dunbercker</td>\n      <td>NNP</td>\n      <td>Dunbercker</td>\n      <td>dunberck</td>\n    </tr>\n    <tr>\n      <th>33</th>\n      <td>is</td>\n      <td>is</td>\n      <td>VBZ</td>\n      <td>be</td>\n      <td>i</td>\n    </tr>\n    <tr>\n      <th>34</th>\n      <td>no</td>\n      <td>no</td>\n      <td>DT</td>\n      <td>no</td>\n      <td>no</td>\n    </tr>\n    <tr>\n      <th>35</th>\n      <td>longer</td>\n      <td>longer</td>\n      <td>RB</td>\n      <td>long</td>\n      <td>longer</td>\n    </tr>\n    <tr>\n      <th>36</th>\n      <td>happy</td>\n      <td>happy</td>\n      <td>JJ</td>\n      <td>happy</td>\n      <td>happi</td>\n    </tr>\n    <tr>\n      <th>37</th>\n      <td>.</td>\n      <td>.</td>\n      <td>.</td>\n      <td>.</td>\n      <td>.</td>\n    </tr>\n    <tr>\n      <th>38</th>\n      <td>He</td>\n      <td>He</td>\n      <td>PRP</td>\n      <td>He</td>\n      <td>he</td>\n    </tr>\n    <tr>\n      <th>39</th>\n      <td>has</td>\n      <td>has</td>\n      <td>VBZ</td>\n      <td>have</td>\n      <td>ha</td>\n    </tr>\n    <tr>\n      <th>40</th>\n      <td>a</td>\n      <td>a</td>\n      <td>DT</td>\n      <td>a</td>\n      <td>a</td>\n    </tr>\n    <tr>\n      <th>41</th>\n      <td>good</td>\n      <td>good</td>\n      <td>JJ</td>\n      <td>good</td>\n      <td>good</td>\n    </tr>\n    <tr>\n      <th>42</th>\n      <td>car</td>\n      <td>car</td>\n      <td>NN</td>\n      <td>car</td>\n      <td>car</td>\n    </tr>\n    <tr>\n      <th>43</th>\n      <td>though</td>\n      <td>though</td>\n      <td>IN</td>\n      <td>though</td>\n      <td>though</td>\n    </tr>\n    <tr>\n      <th>44</th>\n      <td>.</td>\n      <td>.</td>\n      <td>.</td>\n      <td>.</td>\n      <td>.</td>\n    </tr>\n    <tr>\n      <th>45</th>\n      <td>Europe</td>\n      <td>Europe</td>\n      <td>NNP</td>\n      <td>Europe</td>\n      <td>europ</td>\n    </tr>\n    <tr>\n      <th>46</th>\n      <td>is</td>\n      <td>is</td>\n      <td>VBZ</td>\n      <td>be</td>\n      <td>i</td>\n    </tr>\n    <tr>\n      <th>47</th>\n      <td>very</td>\n      <td>very</td>\n      <td>RB</td>\n      <td>very</td>\n      <td>veri</td>\n    </tr>\n    <tr>\n      <th>48</th>\n      <td>culture</td>\n      <td>culture</td>\n      <td>RB</td>\n      <td>culture</td>\n      <td>cultur</td>\n    </tr>\n    <tr>\n      <th>49</th>\n      <td>rich</td>\n      <td>rich</td>\n      <td>JJ</td>\n      <td>rich</td>\n      <td>rich</td>\n    </tr>\n    <tr>\n      <th>50</th>\n      <td>.</td>\n      <td>.</td>\n      <td>.</td>\n      <td>.</td>\n      <td>.</td>\n    </tr>\n    <tr>\n      <th>51</th>\n      <td>There</td>\n      <td>There</td>\n      <td>EX</td>\n      <td>There</td>\n      <td>there</td>\n    </tr>\n    <tr>\n      <th>52</th>\n      <td>are</td>\n      <td>are</td>\n      <td>VBP</td>\n      <td>be</td>\n      <td>ar</td>\n    </tr>\n    <tr>\n      <th>53</th>\n      <td>huge</td>\n      <td>huge</td>\n      <td>JJ</td>\n      <td>huge</td>\n      <td>huge</td>\n    </tr>\n    <tr>\n      <th>54</th>\n      <td>churches</td>\n      <td>churches</td>\n      <td>NNS</td>\n      <td>church</td>\n      <td>church</td>\n    </tr>\n    <tr>\n      <th>55</th>\n      <td>!</td>\n      <td>!</td>\n      <td>.</td>\n      <td>!</td>\n      <td>!</td>\n    </tr>\n    <tr>\n      <th>56</th>\n      <td>and</td>\n      <td>and</td>\n      <td>CC</td>\n      <td>and</td>\n      <td>and</td>\n    </tr>\n    <tr>\n      <th>57</th>\n      <td>big</td>\n      <td>big</td>\n      <td>JJ</td>\n      <td>big</td>\n      <td>big</td>\n    </tr>\n    <tr>\n      <th>58</th>\n      <td>houses</td>\n      <td>houses</td>\n      <td>NNS</td>\n      <td>house</td>\n      <td>hous</td>\n    </tr>\n    <tr>\n      <th>59</th>\n      <td>!</td>\n      <td>!</td>\n      <td>.</td>\n      <td>!</td>\n      <td>!</td>\n    </tr>\n  </tbody>\n</table>\n</div>",
       "datasetInfos": [],
       "removedWidgets": [],
       "textData": null,
       "type": "htmlSandbox"
      }
     },
     "output_type": "display_data"
    }
   ],
   "source": [
    "import pandas as pd\n",
    "\n",
    "df = pd.DataFrame({'token':result['token'], \n",
    "                      'corrected':result['spell'], 'POS':result['pos'],\n",
    "                      'lemmas':result['lemmas'], 'stems':result['stems']})\n",
    "df"
   ]
  },
  {
   "cell_type": "markdown",
   "metadata": {
    "application/vnd.databricks.v1+cell": {
     "inputWidgets": {},
     "nuid": "e9151f71-2f8b-4516-aa8f-9aa76a04d8d4",
     "showTitle": false,
     "title": ""
    }
   },
   "source": [
    "### Explain Document DL"
   ]
  },
  {
   "cell_type": "markdown",
   "metadata": {
    "application/vnd.databricks.v1+cell": {
     "inputWidgets": {},
     "nuid": "041e9201-c34a-4490-ad73-603605246ec2",
     "showTitle": false,
     "title": ""
    }
   },
   "source": [
    "**Stages**\n",
    "- DocumentAssembler\n",
    "- SentenceDetector\n",
    "- Tokenizer\n",
    "- NER (NER with GloVe 100D embeddings, CoNLL2003 dataset)\n",
    "- Lemmatizer\n",
    "- Stemmer\n",
    "- Part of Speech\n",
    "- SpellChecker (Norvig)"
   ]
  },
  {
   "cell_type": "code",
   "execution_count": 0,
   "metadata": {
    "application/vnd.databricks.v1+cell": {
     "inputWidgets": {},
     "nuid": "cddce042-3e63-42bd-bb79-7632508272da",
     "showTitle": false,
     "title": ""
    }
   },
   "outputs": [
    {
     "data": {
      "text/html": [
       "<style scoped>\n",
       "  .ansiout {\n",
       "    display: block;\n",
       "    unicode-bidi: embed;\n",
       "    white-space: pre-wrap;\n",
       "    word-wrap: break-word;\n",
       "    word-break: break-all;\n",
       "    font-family: \"Source Code Pro\", \"Menlo\", monospace;;\n",
       "    font-size: 13px;\n",
       "    color: #555;\n",
       "    margin-left: 4px;\n",
       "    line-height: 19px;\n",
       "  }\n",
       "</style>\n",
       "<div class=\"ansiout\">explain_document_dl download started this may take some time.\n",
       "Approx size to download 169.3 MB\n",
       "\r",
       "[ | ]\r",
       "[ / ]\r",
       "[ — ]\r",
       "[ \\ ]\r",
       "[ | ]\r",
       "[ / ]\r",
       "[ — ]\r",
       "[ \\ ]\r",
       "[ | ]\r",
       "[ / ]\r",
       "[ — ]\r",
       "[ \\ ]\r",
       "[ | ]\r",
       "[ / ]\r",
       "[ — ]\r",
       "[ \\ ]\r",
       "[ | ]\r",
       "[ / ]\r",
       "[ — ]\r",
       "[ \\ ]\r",
       "[ | ]\r",
       "[ / ]\r",
       "[ — ]\r",
       "[ \\ ]\r",
       "[ | ]\r",
       "[ / ]\r",
       "[ — ]\r",
       "[ \\ ]\r",
       "[ | ]\r",
       "[ / ]\r",
       "[ — ]\r",
       "[ \\ ]\r",
       "[ | ]\r",
       "[ / ]\r",
       "[ — ]\r",
       "[ \\ ]\r",
       "[ | ]\r",
       "[ / ]\r",
       "[ — ]\r",
       "[ \\ ]\r",
       "[ | ]\r",
       "[ / ]\r",
       "[ — ]\r",
       "[ \\ ]\r",
       "[ | ]\r",
       "[ / ]\r",
       "[ — ]\r",
       "[ \\ ]\r",
       "[ | ]\r",
       "[ / ]\r",
       "[ — ]\r",
       "[ \\ ]\r",
       "[ | ]\r",
       "[ / ]\r",
       "[OK!]\n",
       "</div>"
      ]
     },
     "metadata": {
      "application/vnd.databricks.v1+output": {
       "addedWidgets": {},
       "arguments": {},
       "data": "<div class=\"ansiout\">explain_document_dl download started this may take some time.\nApprox size to download 169.3 MB\n\r[ | ]\r[ / ]\r[ — ]\r[ \\ ]\r[ | ]\r[ / ]\r[ — ]\r[ \\ ]\r[ | ]\r[ / ]\r[ — ]\r[ \\ ]\r[ | ]\r[ / ]\r[ — ]\r[ \\ ]\r[ | ]\r[ / ]\r[ — ]\r[ \\ ]\r[ | ]\r[ / ]\r[ — ]\r[ \\ ]\r[ | ]\r[ / ]\r[ — ]\r[ \\ ]\r[ | ]\r[ / ]\r[ — ]\r[ \\ ]\r[ | ]\r[ / ]\r[ — ]\r[ \\ ]\r[ | ]\r[ / ]\r[ — ]\r[ \\ ]\r[ | ]\r[ / ]\r[ — ]\r[ \\ ]\r[ | ]\r[ / ]\r[ — ]\r[ \\ ]\r[ | ]\r[ / ]\r[ — ]\r[ \\ ]\r[ | ]\r[ / ]\r[OK!]\n</div>",
       "datasetInfos": [],
       "removedWidgets": [],
       "type": "html"
      }
     },
     "output_type": "display_data"
    }
   ],
   "source": [
    "pipeline_dl = PretrainedPipeline('explain_document_dl', lang='en')\n"
   ]
  },
  {
   "cell_type": "code",
   "execution_count": 0,
   "metadata": {
    "application/vnd.databricks.v1+cell": {
     "inputWidgets": {},
     "nuid": "574057e6-6679-4c6e-9f1a-3f74f438b2d6",
     "showTitle": false,
     "title": ""
    }
   },
   "outputs": [
    {
     "data": {
      "text/html": [
       "<style scoped>\n",
       "  .ansiout {\n",
       "    display: block;\n",
       "    unicode-bidi: embed;\n",
       "    white-space: pre-wrap;\n",
       "    word-wrap: break-word;\n",
       "    word-break: break-all;\n",
       "    font-family: \"Source Code Pro\", \"Menlo\", monospace;;\n",
       "    font-size: 13px;\n",
       "    color: #555;\n",
       "    margin-left: 4px;\n",
       "    line-height: 19px;\n",
       "  }\n",
       "</style>\n",
       "<div class=\"ansiout\">Out[15]: [document_7939d5bf1083,\n",
       " SENTENCE_05265b07c745,\n",
       " REGEX_TOKENIZER_c5c312143f63,\n",
       " SPELL_e4ea67180337,\n",
       " LEMMATIZER_c62ad8f355f9,\n",
       " STEMMER_ba49f7631065,\n",
       " POS_d01c734956fe,\n",
       " WORD_EMBEDDINGS_MODEL_48cffc8b9a76,\n",
       " NerDLModel_d4424c9af5f4,\n",
       " NER_CONVERTER_a81db9af2d23]</div>"
      ]
     },
     "metadata": {
      "application/vnd.databricks.v1+output": {
       "addedWidgets": {},
       "arguments": {},
       "data": "<div class=\"ansiout\">Out[15]: [document_7939d5bf1083,\n SENTENCE_05265b07c745,\n REGEX_TOKENIZER_c5c312143f63,\n SPELL_e4ea67180337,\n LEMMATIZER_c62ad8f355f9,\n STEMMER_ba49f7631065,\n POS_d01c734956fe,\n WORD_EMBEDDINGS_MODEL_48cffc8b9a76,\n NerDLModel_d4424c9af5f4,\n NER_CONVERTER_a81db9af2d23]</div>",
       "datasetInfos": [],
       "removedWidgets": [],
       "type": "html"
      }
     },
     "output_type": "display_data"
    }
   ],
   "source": [
    "pipeline_dl.model.stages"
   ]
  },
  {
   "cell_type": "code",
   "execution_count": 0,
   "metadata": {
    "application/vnd.databricks.v1+cell": {
     "inputWidgets": {},
     "nuid": "182e8fa6-c455-47d8-8a1e-bdcc60cdf721",
     "showTitle": false,
     "title": ""
    }
   },
   "outputs": [
    {
     "data": {
      "text/html": [
       "<style scoped>\n",
       "  .ansiout {\n",
       "    display: block;\n",
       "    unicode-bidi: embed;\n",
       "    white-space: pre-wrap;\n",
       "    word-wrap: break-word;\n",
       "    word-break: break-all;\n",
       "    font-family: \"Source Code Pro\", \"Menlo\", monospace;;\n",
       "    font-size: 13px;\n",
       "    color: #555;\n",
       "    margin-left: 4px;\n",
       "    line-height: 19px;\n",
       "  }\n",
       "</style>\n",
       "<div class=\"ansiout\">Out[16]: &#39;glove_100d&#39;</div>"
      ]
     },
     "metadata": {
      "application/vnd.databricks.v1+output": {
       "addedWidgets": {},
       "arguments": {},
       "data": "<div class=\"ansiout\">Out[16]: &#39;glove_100d&#39;</div>",
       "datasetInfos": [],
       "removedWidgets": [],
       "type": "html"
      }
     },
     "output_type": "display_data"
    }
   ],
   "source": [
    "pipeline_dl.model.stages[-2].getStorageRef()"
   ]
  },
  {
   "cell_type": "code",
   "execution_count": 0,
   "metadata": {
    "application/vnd.databricks.v1+cell": {
     "inputWidgets": {},
     "nuid": "8edb6613-e98e-4639-9294-c3360bd44dba",
     "showTitle": false,
     "title": ""
    }
   },
   "outputs": [
    {
     "data": {
      "text/html": [
       "<style scoped>\n",
       "  .ansiout {\n",
       "    display: block;\n",
       "    unicode-bidi: embed;\n",
       "    white-space: pre-wrap;\n",
       "    word-wrap: break-word;\n",
       "    word-break: break-all;\n",
       "    font-family: \"Source Code Pro\", \"Menlo\", monospace;;\n",
       "    font-size: 13px;\n",
       "    color: #555;\n",
       "    margin-left: 4px;\n",
       "    line-height: 19px;\n",
       "  }\n",
       "</style>\n",
       "<div class=\"ansiout\">Out[17]: [&#39;O&#39;, &#39;B-ORG&#39;, &#39;B-LOC&#39;, &#39;B-PER&#39;, &#39;I-PER&#39;, &#39;I-ORG&#39;, &#39;B-MISC&#39;, &#39;I-LOC&#39;, &#39;I-MISC&#39;]</div>"
      ]
     },
     "metadata": {
      "application/vnd.databricks.v1+output": {
       "addedWidgets": {},
       "arguments": {},
       "data": "<div class=\"ansiout\">Out[17]: [&#39;O&#39;, &#39;B-ORG&#39;, &#39;B-LOC&#39;, &#39;B-PER&#39;, &#39;I-PER&#39;, &#39;I-ORG&#39;, &#39;B-MISC&#39;, &#39;I-LOC&#39;, &#39;I-MISC&#39;]</div>",
       "datasetInfos": [],
       "removedWidgets": [],
       "type": "html"
      }
     },
     "output_type": "display_data"
    }
   ],
   "source": [
    "pipeline_dl.model.stages[-2].getClasses()"
   ]
  },
  {
   "cell_type": "code",
   "execution_count": 0,
   "metadata": {
    "application/vnd.databricks.v1+cell": {
     "inputWidgets": {},
     "nuid": "84d9775e-ff03-49e8-9bdd-32a436123f71",
     "showTitle": false,
     "title": ""
    }
   },
   "outputs": [
    {
     "data": {
      "text/html": [
       "<style scoped>\n",
       "  .ansiout {\n",
       "    display: block;\n",
       "    unicode-bidi: embed;\n",
       "    white-space: pre-wrap;\n",
       "    word-wrap: break-word;\n",
       "    word-break: break-all;\n",
       "    font-family: \"Source Code Pro\", \"Menlo\", monospace;;\n",
       "    font-size: 13px;\n",
       "    color: #555;\n",
       "    margin-left: 4px;\n",
       "    line-height: 19px;\n",
       "  }\n",
       "</style>\n",
       "<div class=\"ansiout\">Out[18]: dict_keys([&#39;entities&#39;, &#39;stem&#39;, &#39;checked&#39;, &#39;lemma&#39;, &#39;document&#39;, &#39;pos&#39;, &#39;token&#39;, &#39;ner&#39;, &#39;embeddings&#39;, &#39;sentence&#39;])</div>"
      ]
     },
     "metadata": {
      "application/vnd.databricks.v1+output": {
       "addedWidgets": {},
       "arguments": {},
       "data": "<div class=\"ansiout\">Out[18]: dict_keys([&#39;entities&#39;, &#39;stem&#39;, &#39;checked&#39;, &#39;lemma&#39;, &#39;document&#39;, &#39;pos&#39;, &#39;token&#39;, &#39;ner&#39;, &#39;embeddings&#39;, &#39;sentence&#39;])</div>",
       "datasetInfos": [],
       "removedWidgets": [],
       "type": "html"
      }
     },
     "output_type": "display_data"
    }
   ],
   "source": [
    "result = pipeline_dl.annotate(testDoc)\n",
    "\n",
    "result.keys()"
   ]
  },
  {
   "cell_type": "code",
   "execution_count": 0,
   "metadata": {
    "application/vnd.databricks.v1+cell": {
     "inputWidgets": {},
     "nuid": "0d137dc6-b395-419e-a1b1-ec906f91769e",
     "showTitle": false,
     "title": ""
    }
   },
   "outputs": [
    {
     "data": {
      "text/html": [
       "<style scoped>\n",
       "  .ansiout {\n",
       "    display: block;\n",
       "    unicode-bidi: embed;\n",
       "    white-space: pre-wrap;\n",
       "    word-wrap: break-word;\n",
       "    word-break: break-all;\n",
       "    font-family: \"Source Code Pro\", \"Menlo\", monospace;;\n",
       "    font-size: 13px;\n",
       "    color: #555;\n",
       "    margin-left: 4px;\n",
       "    line-height: 19px;\n",
       "  }\n",
       "</style>\n",
       "<div class=\"ansiout\">Out[19]: [&#39;Peter&#39;, &#39;Russia&#39;, &#39;John&#39;, &#39;Peter&#39;, &#39;Lucas Nogal Dunbercker&#39;, &#39;Europe&#39;]</div>"
      ]
     },
     "metadata": {
      "application/vnd.databricks.v1+output": {
       "addedWidgets": {},
       "arguments": {},
       "data": "<div class=\"ansiout\">Out[19]: [&#39;Peter&#39;, &#39;Russia&#39;, &#39;John&#39;, &#39;Peter&#39;, &#39;Lucas Nogal Dunbercker&#39;, &#39;Europe&#39;]</div>",
       "datasetInfos": [],
       "removedWidgets": [],
       "type": "html"
      }
     },
     "output_type": "display_data"
    }
   ],
   "source": [
    "result['entities']"
   ]
  },
  {
   "cell_type": "code",
   "execution_count": 0,
   "metadata": {
    "application/vnd.databricks.v1+cell": {
     "inputWidgets": {},
     "nuid": "8d361a4d-4caf-454e-861c-1b137fe931bc",
     "showTitle": false,
     "title": ""
    }
   },
   "outputs": [
    {
     "data": {
      "text/html": [
       "<style scoped>\n",
       "  .ansiout {\n",
       "    display: block;\n",
       "    unicode-bidi: embed;\n",
       "    white-space: pre-wrap;\n",
       "    word-wrap: break-word;\n",
       "    word-break: break-all;\n",
       "    font-family: \"Source Code Pro\", \"Menlo\", monospace;;\n",
       "    font-size: 13px;\n",
       "    color: #555;\n",
       "    margin-left: 4px;\n",
       "    line-height: 19px;\n",
       "  }\n",
       "</style>\n",
       "<div class=\"ansiout\">Out[20]: </div>"
      ]
     },
     "metadata": {
      "application/vnd.databricks.v1+output": {
       "addedWidgets": {},
       "arguments": {},
       "data": "<div class=\"ansiout\">Out[20]: </div>",
       "datasetInfos": [],
       "removedWidgets": [],
       "type": "html"
      }
     },
     "output_type": "display_data"
    },
    {
     "data": {
      "text/html": [
       "<div>\n",
       "<style scoped>\n",
       "    .dataframe tbody tr th:only-of-type {\n",
       "        vertical-align: middle;\n",
       "    }\n",
       "\n",
       "    .dataframe tbody tr th {\n",
       "        vertical-align: top;\n",
       "    }\n",
       "\n",
       "    .dataframe thead th {\n",
       "        text-align: right;\n",
       "    }\n",
       "</style>\n",
       "<table border=\"1\" class=\"dataframe\">\n",
       "  <thead>\n",
       "    <tr style=\"text-align: right;\">\n",
       "      <th></th>\n",
       "      <th>token</th>\n",
       "      <th>ner_label</th>\n",
       "      <th>spell_corrected</th>\n",
       "      <th>POS</th>\n",
       "      <th>lemmas</th>\n",
       "      <th>stems</th>\n",
       "    </tr>\n",
       "  </thead>\n",
       "  <tbody>\n",
       "    <tr>\n",
       "      <th>0</th>\n",
       "      <td>Peter</td>\n",
       "      <td>B-PER</td>\n",
       "      <td>Peter</td>\n",
       "      <td>NNP</td>\n",
       "      <td>Peter</td>\n",
       "      <td>peter</td>\n",
       "    </tr>\n",
       "    <tr>\n",
       "      <th>1</th>\n",
       "      <td>is</td>\n",
       "      <td>O</td>\n",
       "      <td>is</td>\n",
       "      <td>VBZ</td>\n",
       "      <td>be</td>\n",
       "      <td>i</td>\n",
       "    </tr>\n",
       "    <tr>\n",
       "      <th>2</th>\n",
       "      <td>a</td>\n",
       "      <td>O</td>\n",
       "      <td>a</td>\n",
       "      <td>DT</td>\n",
       "      <td>a</td>\n",
       "      <td>a</td>\n",
       "    </tr>\n",
       "    <tr>\n",
       "      <th>3</th>\n",
       "      <td>very</td>\n",
       "      <td>O</td>\n",
       "      <td>very</td>\n",
       "      <td>RB</td>\n",
       "      <td>very</td>\n",
       "      <td>veri</td>\n",
       "    </tr>\n",
       "    <tr>\n",
       "      <th>4</th>\n",
       "      <td>good</td>\n",
       "      <td>O</td>\n",
       "      <td>good</td>\n",
       "      <td>JJ</td>\n",
       "      <td>good</td>\n",
       "      <td>good</td>\n",
       "    </tr>\n",
       "    <tr>\n",
       "      <th>5</th>\n",
       "      <td>persn</td>\n",
       "      <td>O</td>\n",
       "      <td>person</td>\n",
       "      <td>NN</td>\n",
       "      <td>person</td>\n",
       "      <td>person</td>\n",
       "    </tr>\n",
       "    <tr>\n",
       "      <th>6</th>\n",
       "      <td>.</td>\n",
       "      <td>O</td>\n",
       "      <td>.</td>\n",
       "      <td>.</td>\n",
       "      <td>.</td>\n",
       "      <td>.</td>\n",
       "    </tr>\n",
       "    <tr>\n",
       "      <th>7</th>\n",
       "      <td>My</td>\n",
       "      <td>O</td>\n",
       "      <td>My</td>\n",
       "      <td>PRP$</td>\n",
       "      <td>My</td>\n",
       "      <td>my</td>\n",
       "    </tr>\n",
       "    <tr>\n",
       "      <th>8</th>\n",
       "      <td>life</td>\n",
       "      <td>O</td>\n",
       "      <td>life</td>\n",
       "      <td>NN</td>\n",
       "      <td>life</td>\n",
       "      <td>life</td>\n",
       "    </tr>\n",
       "    <tr>\n",
       "      <th>9</th>\n",
       "      <td>in</td>\n",
       "      <td>O</td>\n",
       "      <td>in</td>\n",
       "      <td>IN</td>\n",
       "      <td>in</td>\n",
       "      <td>in</td>\n",
       "    </tr>\n",
       "    <tr>\n",
       "      <th>10</th>\n",
       "      <td>Russia</td>\n",
       "      <td>B-LOC</td>\n",
       "      <td>Russia</td>\n",
       "      <td>NNP</td>\n",
       "      <td>Russia</td>\n",
       "      <td>russia</td>\n",
       "    </tr>\n",
       "    <tr>\n",
       "      <th>11</th>\n",
       "      <td>is</td>\n",
       "      <td>O</td>\n",
       "      <td>is</td>\n",
       "      <td>VBZ</td>\n",
       "      <td>be</td>\n",
       "      <td>i</td>\n",
       "    </tr>\n",
       "    <tr>\n",
       "      <th>12</th>\n",
       "      <td>very</td>\n",
       "      <td>O</td>\n",
       "      <td>very</td>\n",
       "      <td>RB</td>\n",
       "      <td>very</td>\n",
       "      <td>veri</td>\n",
       "    </tr>\n",
       "    <tr>\n",
       "      <th>13</th>\n",
       "      <td>intersting</td>\n",
       "      <td>O</td>\n",
       "      <td>interesting</td>\n",
       "      <td>VBG</td>\n",
       "      <td>interest</td>\n",
       "      <td>interest</td>\n",
       "    </tr>\n",
       "    <tr>\n",
       "      <th>14</th>\n",
       "      <td>.</td>\n",
       "      <td>O</td>\n",
       "      <td>.</td>\n",
       "      <td>.</td>\n",
       "      <td>.</td>\n",
       "      <td>.</td>\n",
       "    </tr>\n",
       "    <tr>\n",
       "      <th>15</th>\n",
       "      <td>John</td>\n",
       "      <td>B-PER</td>\n",
       "      <td>John</td>\n",
       "      <td>NNP</td>\n",
       "      <td>John</td>\n",
       "      <td>john</td>\n",
       "    </tr>\n",
       "    <tr>\n",
       "      <th>16</th>\n",
       "      <td>and</td>\n",
       "      <td>O</td>\n",
       "      <td>and</td>\n",
       "      <td>CC</td>\n",
       "      <td>and</td>\n",
       "      <td>and</td>\n",
       "    </tr>\n",
       "    <tr>\n",
       "      <th>17</th>\n",
       "      <td>Peter</td>\n",
       "      <td>B-PER</td>\n",
       "      <td>Peter</td>\n",
       "      <td>NNP</td>\n",
       "      <td>Peter</td>\n",
       "      <td>peter</td>\n",
       "    </tr>\n",
       "    <tr>\n",
       "      <th>18</th>\n",
       "      <td>are</td>\n",
       "      <td>O</td>\n",
       "      <td>are</td>\n",
       "      <td>VBP</td>\n",
       "      <td>be</td>\n",
       "      <td>ar</td>\n",
       "    </tr>\n",
       "    <tr>\n",
       "      <th>19</th>\n",
       "      <td>brothrs</td>\n",
       "      <td>O</td>\n",
       "      <td>broths</td>\n",
       "      <td>NN</td>\n",
       "      <td>broth</td>\n",
       "      <td>broth</td>\n",
       "    </tr>\n",
       "    <tr>\n",
       "      <th>20</th>\n",
       "      <td>.</td>\n",
       "      <td>O</td>\n",
       "      <td>.</td>\n",
       "      <td>.</td>\n",
       "      <td>.</td>\n",
       "      <td>.</td>\n",
       "    </tr>\n",
       "    <tr>\n",
       "      <th>21</th>\n",
       "      <td>However</td>\n",
       "      <td>O</td>\n",
       "      <td>However</td>\n",
       "      <td>RB</td>\n",
       "      <td>However</td>\n",
       "      <td>howev</td>\n",
       "    </tr>\n",
       "    <tr>\n",
       "      <th>22</th>\n",
       "      <td>they</td>\n",
       "      <td>O</td>\n",
       "      <td>they</td>\n",
       "      <td>PRP</td>\n",
       "      <td>they</td>\n",
       "      <td>thei</td>\n",
       "    </tr>\n",
       "    <tr>\n",
       "      <th>23</th>\n",
       "      <td>don't</td>\n",
       "      <td>O</td>\n",
       "      <td>don't</td>\n",
       "      <td>VBP</td>\n",
       "      <td>don't</td>\n",
       "      <td>don't</td>\n",
       "    </tr>\n",
       "    <tr>\n",
       "      <th>24</th>\n",
       "      <td>support</td>\n",
       "      <td>O</td>\n",
       "      <td>support</td>\n",
       "      <td>VB</td>\n",
       "      <td>support</td>\n",
       "      <td>support</td>\n",
       "    </tr>\n",
       "    <tr>\n",
       "      <th>25</th>\n",
       "      <td>each</td>\n",
       "      <td>O</td>\n",
       "      <td>each</td>\n",
       "      <td>DT</td>\n",
       "      <td>each</td>\n",
       "      <td>each</td>\n",
       "    </tr>\n",
       "    <tr>\n",
       "      <th>26</th>\n",
       "      <td>other</td>\n",
       "      <td>O</td>\n",
       "      <td>other</td>\n",
       "      <td>JJ</td>\n",
       "      <td>other</td>\n",
       "      <td>other</td>\n",
       "    </tr>\n",
       "    <tr>\n",
       "      <th>27</th>\n",
       "      <td>that</td>\n",
       "      <td>O</td>\n",
       "      <td>that</td>\n",
       "      <td>IN</td>\n",
       "      <td>that</td>\n",
       "      <td>that</td>\n",
       "    </tr>\n",
       "    <tr>\n",
       "      <th>28</th>\n",
       "      <td>much</td>\n",
       "      <td>O</td>\n",
       "      <td>much</td>\n",
       "      <td>JJ</td>\n",
       "      <td>much</td>\n",
       "      <td>much</td>\n",
       "    </tr>\n",
       "    <tr>\n",
       "      <th>29</th>\n",
       "      <td>.</td>\n",
       "      <td>O</td>\n",
       "      <td>.</td>\n",
       "      <td>.</td>\n",
       "      <td>.</td>\n",
       "      <td>.</td>\n",
       "    </tr>\n",
       "    <tr>\n",
       "      <th>30</th>\n",
       "      <td>Lucas</td>\n",
       "      <td>B-ORG</td>\n",
       "      <td>Lucas</td>\n",
       "      <td>NNP</td>\n",
       "      <td>Lucas</td>\n",
       "      <td>luca</td>\n",
       "    </tr>\n",
       "    <tr>\n",
       "      <th>31</th>\n",
       "      <td>Nogal</td>\n",
       "      <td>I-ORG</td>\n",
       "      <td>Nogal</td>\n",
       "      <td>NNP</td>\n",
       "      <td>Nogal</td>\n",
       "      <td>nogal</td>\n",
       "    </tr>\n",
       "    <tr>\n",
       "      <th>32</th>\n",
       "      <td>Dunbercker</td>\n",
       "      <td>I-ORG</td>\n",
       "      <td>Dunbercker</td>\n",
       "      <td>NNP</td>\n",
       "      <td>Dunbercker</td>\n",
       "      <td>dunberck</td>\n",
       "    </tr>\n",
       "    <tr>\n",
       "      <th>33</th>\n",
       "      <td>is</td>\n",
       "      <td>O</td>\n",
       "      <td>is</td>\n",
       "      <td>VBZ</td>\n",
       "      <td>be</td>\n",
       "      <td>i</td>\n",
       "    </tr>\n",
       "    <tr>\n",
       "      <th>34</th>\n",
       "      <td>no</td>\n",
       "      <td>O</td>\n",
       "      <td>no</td>\n",
       "      <td>DT</td>\n",
       "      <td>no</td>\n",
       "      <td>no</td>\n",
       "    </tr>\n",
       "    <tr>\n",
       "      <th>35</th>\n",
       "      <td>longer</td>\n",
       "      <td>O</td>\n",
       "      <td>longer</td>\n",
       "      <td>RB</td>\n",
       "      <td>long</td>\n",
       "      <td>longer</td>\n",
       "    </tr>\n",
       "    <tr>\n",
       "      <th>36</th>\n",
       "      <td>happy</td>\n",
       "      <td>O</td>\n",
       "      <td>happy</td>\n",
       "      <td>JJ</td>\n",
       "      <td>happy</td>\n",
       "      <td>happi</td>\n",
       "    </tr>\n",
       "    <tr>\n",
       "      <th>37</th>\n",
       "      <td>.</td>\n",
       "      <td>O</td>\n",
       "      <td>.</td>\n",
       "      <td>.</td>\n",
       "      <td>.</td>\n",
       "      <td>.</td>\n",
       "    </tr>\n",
       "    <tr>\n",
       "      <th>38</th>\n",
       "      <td>He</td>\n",
       "      <td>O</td>\n",
       "      <td>He</td>\n",
       "      <td>PRP</td>\n",
       "      <td>He</td>\n",
       "      <td>he</td>\n",
       "    </tr>\n",
       "    <tr>\n",
       "      <th>39</th>\n",
       "      <td>has</td>\n",
       "      <td>O</td>\n",
       "      <td>has</td>\n",
       "      <td>VBZ</td>\n",
       "      <td>have</td>\n",
       "      <td>ha</td>\n",
       "    </tr>\n",
       "    <tr>\n",
       "      <th>40</th>\n",
       "      <td>a</td>\n",
       "      <td>O</td>\n",
       "      <td>a</td>\n",
       "      <td>DT</td>\n",
       "      <td>a</td>\n",
       "      <td>a</td>\n",
       "    </tr>\n",
       "    <tr>\n",
       "      <th>41</th>\n",
       "      <td>good</td>\n",
       "      <td>O</td>\n",
       "      <td>good</td>\n",
       "      <td>JJ</td>\n",
       "      <td>good</td>\n",
       "      <td>good</td>\n",
       "    </tr>\n",
       "    <tr>\n",
       "      <th>42</th>\n",
       "      <td>car</td>\n",
       "      <td>O</td>\n",
       "      <td>car</td>\n",
       "      <td>NN</td>\n",
       "      <td>car</td>\n",
       "      <td>car</td>\n",
       "    </tr>\n",
       "    <tr>\n",
       "      <th>43</th>\n",
       "      <td>though</td>\n",
       "      <td>O</td>\n",
       "      <td>though</td>\n",
       "      <td>IN</td>\n",
       "      <td>though</td>\n",
       "      <td>though</td>\n",
       "    </tr>\n",
       "    <tr>\n",
       "      <th>44</th>\n",
       "      <td>.</td>\n",
       "      <td>O</td>\n",
       "      <td>.</td>\n",
       "      <td>.</td>\n",
       "      <td>.</td>\n",
       "      <td>.</td>\n",
       "    </tr>\n",
       "    <tr>\n",
       "      <th>45</th>\n",
       "      <td>Europe</td>\n",
       "      <td>B-LOC</td>\n",
       "      <td>Europe</td>\n",
       "      <td>NNP</td>\n",
       "      <td>Europe</td>\n",
       "      <td>europ</td>\n",
       "    </tr>\n",
       "    <tr>\n",
       "      <th>46</th>\n",
       "      <td>is</td>\n",
       "      <td>O</td>\n",
       "      <td>is</td>\n",
       "      <td>VBZ</td>\n",
       "      <td>be</td>\n",
       "      <td>i</td>\n",
       "    </tr>\n",
       "    <tr>\n",
       "      <th>47</th>\n",
       "      <td>very</td>\n",
       "      <td>O</td>\n",
       "      <td>very</td>\n",
       "      <td>RB</td>\n",
       "      <td>very</td>\n",
       "      <td>veri</td>\n",
       "    </tr>\n",
       "    <tr>\n",
       "      <th>48</th>\n",
       "      <td>culture</td>\n",
       "      <td>O</td>\n",
       "      <td>culture</td>\n",
       "      <td>RB</td>\n",
       "      <td>culture</td>\n",
       "      <td>cultur</td>\n",
       "    </tr>\n",
       "    <tr>\n",
       "      <th>49</th>\n",
       "      <td>rich</td>\n",
       "      <td>O</td>\n",
       "      <td>rich</td>\n",
       "      <td>JJ</td>\n",
       "      <td>rich</td>\n",
       "      <td>rich</td>\n",
       "    </tr>\n",
       "    <tr>\n",
       "      <th>50</th>\n",
       "      <td>.</td>\n",
       "      <td>O</td>\n",
       "      <td>.</td>\n",
       "      <td>.</td>\n",
       "      <td>.</td>\n",
       "      <td>.</td>\n",
       "    </tr>\n",
       "    <tr>\n",
       "      <th>51</th>\n",
       "      <td>There</td>\n",
       "      <td>O</td>\n",
       "      <td>There</td>\n",
       "      <td>EX</td>\n",
       "      <td>There</td>\n",
       "      <td>there</td>\n",
       "    </tr>\n",
       "    <tr>\n",
       "      <th>52</th>\n",
       "      <td>are</td>\n",
       "      <td>O</td>\n",
       "      <td>are</td>\n",
       "      <td>VBP</td>\n",
       "      <td>be</td>\n",
       "      <td>ar</td>\n",
       "    </tr>\n",
       "    <tr>\n",
       "      <th>53</th>\n",
       "      <td>huge</td>\n",
       "      <td>O</td>\n",
       "      <td>huge</td>\n",
       "      <td>JJ</td>\n",
       "      <td>huge</td>\n",
       "      <td>huge</td>\n",
       "    </tr>\n",
       "    <tr>\n",
       "      <th>54</th>\n",
       "      <td>churches</td>\n",
       "      <td>O</td>\n",
       "      <td>churches</td>\n",
       "      <td>NNS</td>\n",
       "      <td>church</td>\n",
       "      <td>church</td>\n",
       "    </tr>\n",
       "    <tr>\n",
       "      <th>55</th>\n",
       "      <td>!</td>\n",
       "      <td>O</td>\n",
       "      <td>!</td>\n",
       "      <td>.</td>\n",
       "      <td>!</td>\n",
       "      <td>!</td>\n",
       "    </tr>\n",
       "    <tr>\n",
       "      <th>56</th>\n",
       "      <td>and</td>\n",
       "      <td>O</td>\n",
       "      <td>and</td>\n",
       "      <td>CC</td>\n",
       "      <td>and</td>\n",
       "      <td>and</td>\n",
       "    </tr>\n",
       "    <tr>\n",
       "      <th>57</th>\n",
       "      <td>big</td>\n",
       "      <td>O</td>\n",
       "      <td>big</td>\n",
       "      <td>JJ</td>\n",
       "      <td>big</td>\n",
       "      <td>big</td>\n",
       "    </tr>\n",
       "    <tr>\n",
       "      <th>58</th>\n",
       "      <td>houses</td>\n",
       "      <td>O</td>\n",
       "      <td>houses</td>\n",
       "      <td>NNS</td>\n",
       "      <td>house</td>\n",
       "      <td>hous</td>\n",
       "    </tr>\n",
       "    <tr>\n",
       "      <th>59</th>\n",
       "      <td>!</td>\n",
       "      <td>O</td>\n",
       "      <td>!</td>\n",
       "      <td>.</td>\n",
       "      <td>!</td>\n",
       "      <td>!</td>\n",
       "    </tr>\n",
       "  </tbody>\n",
       "</table>\n",
       "</div>"
      ]
     },
     "metadata": {
      "application/vnd.databricks.v1+output": {
       "addedWidgets": {},
       "arguments": {},
       "data": "<div>\n<style scoped>\n    .dataframe tbody tr th:only-of-type {\n        vertical-align: middle;\n    }\n\n    .dataframe tbody tr th {\n        vertical-align: top;\n    }\n\n    .dataframe thead th {\n        text-align: right;\n    }\n</style>\n<table border=\"1\" class=\"dataframe\">\n  <thead>\n    <tr style=\"text-align: right;\">\n      <th></th>\n      <th>token</th>\n      <th>ner_label</th>\n      <th>spell_corrected</th>\n      <th>POS</th>\n      <th>lemmas</th>\n      <th>stems</th>\n    </tr>\n  </thead>\n  <tbody>\n    <tr>\n      <th>0</th>\n      <td>Peter</td>\n      <td>B-PER</td>\n      <td>Peter</td>\n      <td>NNP</td>\n      <td>Peter</td>\n      <td>peter</td>\n    </tr>\n    <tr>\n      <th>1</th>\n      <td>is</td>\n      <td>O</td>\n      <td>is</td>\n      <td>VBZ</td>\n      <td>be</td>\n      <td>i</td>\n    </tr>\n    <tr>\n      <th>2</th>\n      <td>a</td>\n      <td>O</td>\n      <td>a</td>\n      <td>DT</td>\n      <td>a</td>\n      <td>a</td>\n    </tr>\n    <tr>\n      <th>3</th>\n      <td>very</td>\n      <td>O</td>\n      <td>very</td>\n      <td>RB</td>\n      <td>very</td>\n      <td>veri</td>\n    </tr>\n    <tr>\n      <th>4</th>\n      <td>good</td>\n      <td>O</td>\n      <td>good</td>\n      <td>JJ</td>\n      <td>good</td>\n      <td>good</td>\n    </tr>\n    <tr>\n      <th>5</th>\n      <td>persn</td>\n      <td>O</td>\n      <td>person</td>\n      <td>NN</td>\n      <td>person</td>\n      <td>person</td>\n    </tr>\n    <tr>\n      <th>6</th>\n      <td>.</td>\n      <td>O</td>\n      <td>.</td>\n      <td>.</td>\n      <td>.</td>\n      <td>.</td>\n    </tr>\n    <tr>\n      <th>7</th>\n      <td>My</td>\n      <td>O</td>\n      <td>My</td>\n      <td>PRP$</td>\n      <td>My</td>\n      <td>my</td>\n    </tr>\n    <tr>\n      <th>8</th>\n      <td>life</td>\n      <td>O</td>\n      <td>life</td>\n      <td>NN</td>\n      <td>life</td>\n      <td>life</td>\n    </tr>\n    <tr>\n      <th>9</th>\n      <td>in</td>\n      <td>O</td>\n      <td>in</td>\n      <td>IN</td>\n      <td>in</td>\n      <td>in</td>\n    </tr>\n    <tr>\n      <th>10</th>\n      <td>Russia</td>\n      <td>B-LOC</td>\n      <td>Russia</td>\n      <td>NNP</td>\n      <td>Russia</td>\n      <td>russia</td>\n    </tr>\n    <tr>\n      <th>11</th>\n      <td>is</td>\n      <td>O</td>\n      <td>is</td>\n      <td>VBZ</td>\n      <td>be</td>\n      <td>i</td>\n    </tr>\n    <tr>\n      <th>12</th>\n      <td>very</td>\n      <td>O</td>\n      <td>very</td>\n      <td>RB</td>\n      <td>very</td>\n      <td>veri</td>\n    </tr>\n    <tr>\n      <th>13</th>\n      <td>intersting</td>\n      <td>O</td>\n      <td>interesting</td>\n      <td>VBG</td>\n      <td>interest</td>\n      <td>interest</td>\n    </tr>\n    <tr>\n      <th>14</th>\n      <td>.</td>\n      <td>O</td>\n      <td>.</td>\n      <td>.</td>\n      <td>.</td>\n      <td>.</td>\n    </tr>\n    <tr>\n      <th>15</th>\n      <td>John</td>\n      <td>B-PER</td>\n      <td>John</td>\n      <td>NNP</td>\n      <td>John</td>\n      <td>john</td>\n    </tr>\n    <tr>\n      <th>16</th>\n      <td>and</td>\n      <td>O</td>\n      <td>and</td>\n      <td>CC</td>\n      <td>and</td>\n      <td>and</td>\n    </tr>\n    <tr>\n      <th>17</th>\n      <td>Peter</td>\n      <td>B-PER</td>\n      <td>Peter</td>\n      <td>NNP</td>\n      <td>Peter</td>\n      <td>peter</td>\n    </tr>\n    <tr>\n      <th>18</th>\n      <td>are</td>\n      <td>O</td>\n      <td>are</td>\n      <td>VBP</td>\n      <td>be</td>\n      <td>ar</td>\n    </tr>\n    <tr>\n      <th>19</th>\n      <td>brothrs</td>\n      <td>O</td>\n      <td>broths</td>\n      <td>NN</td>\n      <td>broth</td>\n      <td>broth</td>\n    </tr>\n    <tr>\n      <th>20</th>\n      <td>.</td>\n      <td>O</td>\n      <td>.</td>\n      <td>.</td>\n      <td>.</td>\n      <td>.</td>\n    </tr>\n    <tr>\n      <th>21</th>\n      <td>However</td>\n      <td>O</td>\n      <td>However</td>\n      <td>RB</td>\n      <td>However</td>\n      <td>howev</td>\n    </tr>\n    <tr>\n      <th>22</th>\n      <td>they</td>\n      <td>O</td>\n      <td>they</td>\n      <td>PRP</td>\n      <td>they</td>\n      <td>thei</td>\n    </tr>\n    <tr>\n      <th>23</th>\n      <td>don't</td>\n      <td>O</td>\n      <td>don't</td>\n      <td>VBP</td>\n      <td>don't</td>\n      <td>don't</td>\n    </tr>\n    <tr>\n      <th>24</th>\n      <td>support</td>\n      <td>O</td>\n      <td>support</td>\n      <td>VB</td>\n      <td>support</td>\n      <td>support</td>\n    </tr>\n    <tr>\n      <th>25</th>\n      <td>each</td>\n      <td>O</td>\n      <td>each</td>\n      <td>DT</td>\n      <td>each</td>\n      <td>each</td>\n    </tr>\n    <tr>\n      <th>26</th>\n      <td>other</td>\n      <td>O</td>\n      <td>other</td>\n      <td>JJ</td>\n      <td>other</td>\n      <td>other</td>\n    </tr>\n    <tr>\n      <th>27</th>\n      <td>that</td>\n      <td>O</td>\n      <td>that</td>\n      <td>IN</td>\n      <td>that</td>\n      <td>that</td>\n    </tr>\n    <tr>\n      <th>28</th>\n      <td>much</td>\n      <td>O</td>\n      <td>much</td>\n      <td>JJ</td>\n      <td>much</td>\n      <td>much</td>\n    </tr>\n    <tr>\n      <th>29</th>\n      <td>.</td>\n      <td>O</td>\n      <td>.</td>\n      <td>.</td>\n      <td>.</td>\n      <td>.</td>\n    </tr>\n    <tr>\n      <th>30</th>\n      <td>Lucas</td>\n      <td>B-ORG</td>\n      <td>Lucas</td>\n      <td>NNP</td>\n      <td>Lucas</td>\n      <td>luca</td>\n    </tr>\n    <tr>\n      <th>31</th>\n      <td>Nogal</td>\n      <td>I-ORG</td>\n      <td>Nogal</td>\n      <td>NNP</td>\n      <td>Nogal</td>\n      <td>nogal</td>\n    </tr>\n    <tr>\n      <th>32</th>\n      <td>Dunbercker</td>\n      <td>I-ORG</td>\n      <td>Dunbercker</td>\n      <td>NNP</td>\n      <td>Dunbercker</td>\n      <td>dunberck</td>\n    </tr>\n    <tr>\n      <th>33</th>\n      <td>is</td>\n      <td>O</td>\n      <td>is</td>\n      <td>VBZ</td>\n      <td>be</td>\n      <td>i</td>\n    </tr>\n    <tr>\n      <th>34</th>\n      <td>no</td>\n      <td>O</td>\n      <td>no</td>\n      <td>DT</td>\n      <td>no</td>\n      <td>no</td>\n    </tr>\n    <tr>\n      <th>35</th>\n      <td>longer</td>\n      <td>O</td>\n      <td>longer</td>\n      <td>RB</td>\n      <td>long</td>\n      <td>longer</td>\n    </tr>\n    <tr>\n      <th>36</th>\n      <td>happy</td>\n      <td>O</td>\n      <td>happy</td>\n      <td>JJ</td>\n      <td>happy</td>\n      <td>happi</td>\n    </tr>\n    <tr>\n      <th>37</th>\n      <td>.</td>\n      <td>O</td>\n      <td>.</td>\n      <td>.</td>\n      <td>.</td>\n      <td>.</td>\n    </tr>\n    <tr>\n      <th>38</th>\n      <td>He</td>\n      <td>O</td>\n      <td>He</td>\n      <td>PRP</td>\n      <td>He</td>\n      <td>he</td>\n    </tr>\n    <tr>\n      <th>39</th>\n      <td>has</td>\n      <td>O</td>\n      <td>has</td>\n      <td>VBZ</td>\n      <td>have</td>\n      <td>ha</td>\n    </tr>\n    <tr>\n      <th>40</th>\n      <td>a</td>\n      <td>O</td>\n      <td>a</td>\n      <td>DT</td>\n      <td>a</td>\n      <td>a</td>\n    </tr>\n    <tr>\n      <th>41</th>\n      <td>good</td>\n      <td>O</td>\n      <td>good</td>\n      <td>JJ</td>\n      <td>good</td>\n      <td>good</td>\n    </tr>\n    <tr>\n      <th>42</th>\n      <td>car</td>\n      <td>O</td>\n      <td>car</td>\n      <td>NN</td>\n      <td>car</td>\n      <td>car</td>\n    </tr>\n    <tr>\n      <th>43</th>\n      <td>though</td>\n      <td>O</td>\n      <td>though</td>\n      <td>IN</td>\n      <td>though</td>\n      <td>though</td>\n    </tr>\n    <tr>\n      <th>44</th>\n      <td>.</td>\n      <td>O</td>\n      <td>.</td>\n      <td>.</td>\n      <td>.</td>\n      <td>.</td>\n    </tr>\n    <tr>\n      <th>45</th>\n      <td>Europe</td>\n      <td>B-LOC</td>\n      <td>Europe</td>\n      <td>NNP</td>\n      <td>Europe</td>\n      <td>europ</td>\n    </tr>\n    <tr>\n      <th>46</th>\n      <td>is</td>\n      <td>O</td>\n      <td>is</td>\n      <td>VBZ</td>\n      <td>be</td>\n      <td>i</td>\n    </tr>\n    <tr>\n      <th>47</th>\n      <td>very</td>\n      <td>O</td>\n      <td>very</td>\n      <td>RB</td>\n      <td>very</td>\n      <td>veri</td>\n    </tr>\n    <tr>\n      <th>48</th>\n      <td>culture</td>\n      <td>O</td>\n      <td>culture</td>\n      <td>RB</td>\n      <td>culture</td>\n      <td>cultur</td>\n    </tr>\n    <tr>\n      <th>49</th>\n      <td>rich</td>\n      <td>O</td>\n      <td>rich</td>\n      <td>JJ</td>\n      <td>rich</td>\n      <td>rich</td>\n    </tr>\n    <tr>\n      <th>50</th>\n      <td>.</td>\n      <td>O</td>\n      <td>.</td>\n      <td>.</td>\n      <td>.</td>\n      <td>.</td>\n    </tr>\n    <tr>\n      <th>51</th>\n      <td>There</td>\n      <td>O</td>\n      <td>There</td>\n      <td>EX</td>\n      <td>There</td>\n      <td>there</td>\n    </tr>\n    <tr>\n      <th>52</th>\n      <td>are</td>\n      <td>O</td>\n      <td>are</td>\n      <td>VBP</td>\n      <td>be</td>\n      <td>ar</td>\n    </tr>\n    <tr>\n      <th>53</th>\n      <td>huge</td>\n      <td>O</td>\n      <td>huge</td>\n      <td>JJ</td>\n      <td>huge</td>\n      <td>huge</td>\n    </tr>\n    <tr>\n      <th>54</th>\n      <td>churches</td>\n      <td>O</td>\n      <td>churches</td>\n      <td>NNS</td>\n      <td>church</td>\n      <td>church</td>\n    </tr>\n    <tr>\n      <th>55</th>\n      <td>!</td>\n      <td>O</td>\n      <td>!</td>\n      <td>.</td>\n      <td>!</td>\n      <td>!</td>\n    </tr>\n    <tr>\n      <th>56</th>\n      <td>and</td>\n      <td>O</td>\n      <td>and</td>\n      <td>CC</td>\n      <td>and</td>\n      <td>and</td>\n    </tr>\n    <tr>\n      <th>57</th>\n      <td>big</td>\n      <td>O</td>\n      <td>big</td>\n      <td>JJ</td>\n      <td>big</td>\n      <td>big</td>\n    </tr>\n    <tr>\n      <th>58</th>\n      <td>houses</td>\n      <td>O</td>\n      <td>houses</td>\n      <td>NNS</td>\n      <td>house</td>\n      <td>hous</td>\n    </tr>\n    <tr>\n      <th>59</th>\n      <td>!</td>\n      <td>O</td>\n      <td>!</td>\n      <td>.</td>\n      <td>!</td>\n      <td>!</td>\n    </tr>\n  </tbody>\n</table>\n</div>",
       "datasetInfos": [],
       "removedWidgets": [],
       "textData": null,
       "type": "htmlSandbox"
      }
     },
     "output_type": "display_data"
    }
   ],
   "source": [
    "df = pd.DataFrame({'token':result['token'], 'ner_label':result['ner'],\n",
    "                      'spell_corrected':result['checked'], 'POS':result['pos'],\n",
    "                      'lemmas':result['lemma'], 'stems':result['stem']})\n",
    "\n",
    "df"
   ]
  },
  {
   "cell_type": "markdown",
   "metadata": {
    "application/vnd.databricks.v1+cell": {
     "inputWidgets": {},
     "nuid": "3aa83069-7a21-49e9-9fff-67787cb93c67",
     "showTitle": false,
     "title": ""
    }
   },
   "source": [
    "### Recognize Entities DL"
   ]
  },
  {
   "cell_type": "code",
   "execution_count": 0,
   "metadata": {
    "application/vnd.databricks.v1+cell": {
     "inputWidgets": {},
     "nuid": "456a6628-0d1c-4bab-939e-c999f2f8dc07",
     "showTitle": false,
     "title": ""
    }
   },
   "outputs": [
    {
     "data": {
      "text/html": [
       "<style scoped>\n",
       "  .ansiout {\n",
       "    display: block;\n",
       "    unicode-bidi: embed;\n",
       "    white-space: pre-wrap;\n",
       "    word-wrap: break-word;\n",
       "    word-break: break-all;\n",
       "    font-family: \"Source Code Pro\", \"Menlo\", monospace;;\n",
       "    font-size: 13px;\n",
       "    color: #555;\n",
       "    margin-left: 4px;\n",
       "    line-height: 19px;\n",
       "  }\n",
       "</style>\n",
       "<div class=\"ansiout\">recognize_entities_dl download started this may take some time.\n",
       "Approx size to download 160.1 MB\n",
       "\r",
       "[ | ]\r",
       "[ / ]\r",
       "[ — ]\r",
       "[ \\ ]\r",
       "[ | ]\r",
       "[ / ]\r",
       "[ — ]\r",
       "[ \\ ]\r",
       "[ | ]\r",
       "[ / ]\r",
       "[ — ]\r",
       "[ \\ ]\r",
       "[ | ]\r",
       "[ / ]\r",
       "[ — ]\r",
       "[ \\ ]\r",
       "[ | ]\r",
       "[ / ]\r",
       "[ — ]\r",
       "[ \\ ]\r",
       "[ | ]\r",
       "[ / ]\r",
       "[ — ]\r",
       "[ \\ ]\r",
       "[OK!]\n",
       "</div>"
      ]
     },
     "metadata": {
      "application/vnd.databricks.v1+output": {
       "addedWidgets": {},
       "arguments": {},
       "data": "<div class=\"ansiout\">recognize_entities_dl download started this may take some time.\nApprox size to download 160.1 MB\n\r[ | ]\r[ / ]\r[ — ]\r[ \\ ]\r[ | ]\r[ / ]\r[ — ]\r[ \\ ]\r[ | ]\r[ / ]\r[ — ]\r[ \\ ]\r[ | ]\r[ / ]\r[ — ]\r[ \\ ]\r[ | ]\r[ / ]\r[ — ]\r[ \\ ]\r[ | ]\r[ / ]\r[ — ]\r[ \\ ]\r[OK!]\n</div>",
       "datasetInfos": [],
       "removedWidgets": [],
       "type": "html"
      }
     },
     "output_type": "display_data"
    }
   ],
   "source": [
    "recognize_entities = PretrainedPipeline('recognize_entities_dl', lang='en')\n"
   ]
  },
  {
   "cell_type": "code",
   "execution_count": 0,
   "metadata": {
    "application/vnd.databricks.v1+cell": {
     "inputWidgets": {},
     "nuid": "0033f3fd-68ab-484f-95a3-63ed03dc6d33",
     "showTitle": false,
     "title": ""
    }
   },
   "outputs": [
    {
     "data": {
      "text/html": [
       "<style scoped>\n",
       "  .ansiout {\n",
       "    display: block;\n",
       "    unicode-bidi: embed;\n",
       "    white-space: pre-wrap;\n",
       "    word-wrap: break-word;\n",
       "    word-break: break-all;\n",
       "    font-family: \"Source Code Pro\", \"Menlo\", monospace;;\n",
       "    font-size: 13px;\n",
       "    color: #555;\n",
       "    margin-left: 4px;\n",
       "    line-height: 19px;\n",
       "  }\n",
       "</style>\n",
       "<div class=\"ansiout\">Out[22]: [(&#39;Peter&#39;, &#39;B-PER&#39;),\n",
       " (&#39;is&#39;, &#39;O&#39;),\n",
       " (&#39;a&#39;, &#39;O&#39;),\n",
       " (&#39;very&#39;, &#39;O&#39;),\n",
       " (&#39;good&#39;, &#39;O&#39;),\n",
       " (&#39;persn&#39;, &#39;O&#39;),\n",
       " (&#39;.&#39;, &#39;O&#39;),\n",
       " (&#39;My&#39;, &#39;O&#39;),\n",
       " (&#39;life&#39;, &#39;O&#39;),\n",
       " (&#39;in&#39;, &#39;O&#39;),\n",
       " (&#39;Russia&#39;, &#39;B-LOC&#39;),\n",
       " (&#39;is&#39;, &#39;O&#39;),\n",
       " (&#39;very&#39;, &#39;O&#39;),\n",
       " (&#39;intersting&#39;, &#39;O&#39;),\n",
       " (&#39;.&#39;, &#39;O&#39;),\n",
       " (&#39;John&#39;, &#39;B-PER&#39;),\n",
       " (&#39;and&#39;, &#39;O&#39;),\n",
       " (&#39;Peter&#39;, &#39;B-PER&#39;),\n",
       " (&#39;are&#39;, &#39;O&#39;),\n",
       " (&#39;brothrs&#39;, &#39;O&#39;),\n",
       " (&#39;.&#39;, &#39;O&#39;),\n",
       " (&#39;However&#39;, &#39;O&#39;),\n",
       " (&#39;they&#39;, &#39;O&#39;),\n",
       " (&#34;don&#39;t&#34;, &#39;O&#39;),\n",
       " (&#39;support&#39;, &#39;O&#39;),\n",
       " (&#39;each&#39;, &#39;O&#39;),\n",
       " (&#39;other&#39;, &#39;O&#39;),\n",
       " (&#39;that&#39;, &#39;O&#39;),\n",
       " (&#39;much&#39;, &#39;O&#39;),\n",
       " (&#39;.&#39;, &#39;O&#39;),\n",
       " (&#39;Lucas&#39;, &#39;B-ORG&#39;),\n",
       " (&#39;Nogal&#39;, &#39;I-ORG&#39;),\n",
       " (&#39;Dunbercker&#39;, &#39;I-ORG&#39;),\n",
       " (&#39;is&#39;, &#39;O&#39;),\n",
       " (&#39;no&#39;, &#39;O&#39;),\n",
       " (&#39;longer&#39;, &#39;O&#39;),\n",
       " (&#39;happy&#39;, &#39;O&#39;),\n",
       " (&#39;.&#39;, &#39;O&#39;),\n",
       " (&#39;He&#39;, &#39;O&#39;),\n",
       " (&#39;has&#39;, &#39;O&#39;),\n",
       " (&#39;a&#39;, &#39;O&#39;),\n",
       " (&#39;good&#39;, &#39;O&#39;),\n",
       " (&#39;car&#39;, &#39;O&#39;),\n",
       " (&#39;though&#39;, &#39;O&#39;),\n",
       " (&#39;.&#39;, &#39;O&#39;),\n",
       " (&#39;Europe&#39;, &#39;B-LOC&#39;),\n",
       " (&#39;is&#39;, &#39;O&#39;),\n",
       " (&#39;very&#39;, &#39;O&#39;),\n",
       " (&#39;culture&#39;, &#39;O&#39;),\n",
       " (&#39;rich&#39;, &#39;O&#39;),\n",
       " (&#39;.&#39;, &#39;O&#39;),\n",
       " (&#39;There&#39;, &#39;O&#39;),\n",
       " (&#39;are&#39;, &#39;O&#39;),\n",
       " (&#39;huge&#39;, &#39;O&#39;),\n",
       " (&#39;churches&#39;, &#39;O&#39;),\n",
       " (&#39;!&#39;, &#39;O&#39;),\n",
       " (&#39;and&#39;, &#39;O&#39;),\n",
       " (&#39;big&#39;, &#39;O&#39;),\n",
       " (&#39;houses&#39;, &#39;O&#39;),\n",
       " (&#39;!&#39;, &#39;O&#39;)]</div>"
      ]
     },
     "metadata": {
      "application/vnd.databricks.v1+output": {
       "addedWidgets": {},
       "arguments": {},
       "data": "<div class=\"ansiout\">Out[22]: [(&#39;Peter&#39;, &#39;B-PER&#39;),\n (&#39;is&#39;, &#39;O&#39;),\n (&#39;a&#39;, &#39;O&#39;),\n (&#39;very&#39;, &#39;O&#39;),\n (&#39;good&#39;, &#39;O&#39;),\n (&#39;persn&#39;, &#39;O&#39;),\n (&#39;.&#39;, &#39;O&#39;),\n (&#39;My&#39;, &#39;O&#39;),\n (&#39;life&#39;, &#39;O&#39;),\n (&#39;in&#39;, &#39;O&#39;),\n (&#39;Russia&#39;, &#39;B-LOC&#39;),\n (&#39;is&#39;, &#39;O&#39;),\n (&#39;very&#39;, &#39;O&#39;),\n (&#39;intersting&#39;, &#39;O&#39;),\n (&#39;.&#39;, &#39;O&#39;),\n (&#39;John&#39;, &#39;B-PER&#39;),\n (&#39;and&#39;, &#39;O&#39;),\n (&#39;Peter&#39;, &#39;B-PER&#39;),\n (&#39;are&#39;, &#39;O&#39;),\n (&#39;brothrs&#39;, &#39;O&#39;),\n (&#39;.&#39;, &#39;O&#39;),\n (&#39;However&#39;, &#39;O&#39;),\n (&#39;they&#39;, &#39;O&#39;),\n (&#34;don&#39;t&#34;, &#39;O&#39;),\n (&#39;support&#39;, &#39;O&#39;),\n (&#39;each&#39;, &#39;O&#39;),\n (&#39;other&#39;, &#39;O&#39;),\n (&#39;that&#39;, &#39;O&#39;),\n (&#39;much&#39;, &#39;O&#39;),\n (&#39;.&#39;, &#39;O&#39;),\n (&#39;Lucas&#39;, &#39;B-ORG&#39;),\n (&#39;Nogal&#39;, &#39;I-ORG&#39;),\n (&#39;Dunbercker&#39;, &#39;I-ORG&#39;),\n (&#39;is&#39;, &#39;O&#39;),\n (&#39;no&#39;, &#39;O&#39;),\n (&#39;longer&#39;, &#39;O&#39;),\n (&#39;happy&#39;, &#39;O&#39;),\n (&#39;.&#39;, &#39;O&#39;),\n (&#39;He&#39;, &#39;O&#39;),\n (&#39;has&#39;, &#39;O&#39;),\n (&#39;a&#39;, &#39;O&#39;),\n (&#39;good&#39;, &#39;O&#39;),\n (&#39;car&#39;, &#39;O&#39;),\n (&#39;though&#39;, &#39;O&#39;),\n (&#39;.&#39;, &#39;O&#39;),\n (&#39;Europe&#39;, &#39;B-LOC&#39;),\n (&#39;is&#39;, &#39;O&#39;),\n (&#39;very&#39;, &#39;O&#39;),\n (&#39;culture&#39;, &#39;O&#39;),\n (&#39;rich&#39;, &#39;O&#39;),\n (&#39;.&#39;, &#39;O&#39;),\n (&#39;There&#39;, &#39;O&#39;),\n (&#39;are&#39;, &#39;O&#39;),\n (&#39;huge&#39;, &#39;O&#39;),\n (&#39;churches&#39;, &#39;O&#39;),\n (&#39;!&#39;, &#39;O&#39;),\n (&#39;and&#39;, &#39;O&#39;),\n (&#39;big&#39;, &#39;O&#39;),\n (&#39;houses&#39;, &#39;O&#39;),\n (&#39;!&#39;, &#39;O&#39;)]</div>",
       "datasetInfos": [],
       "removedWidgets": [],
       "type": "html"
      }
     },
     "output_type": "display_data"
    }
   ],
   "source": [
    "testDoc = '''\n",
    "Peter is a very good persn.\n",
    "My life in Russia is very intersting.\n",
    "John and Peter are brothrs. However they don't support each other that much.\n",
    "Lucas Nogal Dunbercker is no longer happy. He has a good car though.\n",
    "Europe is very culture rich. There are huge churches! and big houses!\n",
    "'''\n",
    "\n",
    "result = recognize_entities.annotate(testDoc)\n",
    "\n",
    "list(zip(result['token'], result['ner']))"
   ]
  },
  {
   "cell_type": "markdown",
   "metadata": {
    "application/vnd.databricks.v1+cell": {
     "inputWidgets": {},
     "nuid": "0f8872b5-52ee-412d-98f2-6f51257469c1",
     "showTitle": false,
     "title": ""
    }
   },
   "source": [
    "### Clean Stop Words"
   ]
  },
  {
   "cell_type": "code",
   "execution_count": 0,
   "metadata": {
    "application/vnd.databricks.v1+cell": {
     "inputWidgets": {},
     "nuid": "55028886-2d19-4282-ba10-88d7f2dad980",
     "showTitle": false,
     "title": ""
    }
   },
   "outputs": [
    {
     "data": {
      "text/html": [
       "<style scoped>\n",
       "  .ansiout {\n",
       "    display: block;\n",
       "    unicode-bidi: embed;\n",
       "    white-space: pre-wrap;\n",
       "    word-wrap: break-word;\n",
       "    word-break: break-all;\n",
       "    font-family: \"Source Code Pro\", \"Menlo\", monospace;;\n",
       "    font-size: 13px;\n",
       "    color: #555;\n",
       "    margin-left: 4px;\n",
       "    line-height: 19px;\n",
       "  }\n",
       "</style>\n",
       "<div class=\"ansiout\">clean_stop download started this may take some time.\n",
       "Approx size to download 22.8 KB\n",
       "\r",
       "[ | ]\r",
       "[ / ]\r",
       "[ — ]\r",
       "[ \\ ]\r",
       "[OK!]\n",
       "</div>"
      ]
     },
     "metadata": {
      "application/vnd.databricks.v1+output": {
       "addedWidgets": {},
       "arguments": {},
       "data": "<div class=\"ansiout\">clean_stop download started this may take some time.\nApprox size to download 22.8 KB\n\r[ | ]\r[ / ]\r[ — ]\r[ \\ ]\r[OK!]\n</div>",
       "datasetInfos": [],
       "removedWidgets": [],
       "type": "html"
      }
     },
     "output_type": "display_data"
    }
   ],
   "source": [
    "clean_stop = PretrainedPipeline('clean_stop', lang='en')\n"
   ]
  },
  {
   "cell_type": "code",
   "execution_count": 0,
   "metadata": {
    "application/vnd.databricks.v1+cell": {
     "inputWidgets": {},
     "nuid": "6b624f7d-425d-40cc-8084-9d47c9b8f37a",
     "showTitle": false,
     "title": ""
    }
   },
   "outputs": [
    {
     "data": {
      "text/html": [
       "<style scoped>\n",
       "  .ansiout {\n",
       "    display: block;\n",
       "    unicode-bidi: embed;\n",
       "    white-space: pre-wrap;\n",
       "    word-wrap: break-word;\n",
       "    word-break: break-all;\n",
       "    font-family: \"Source Code Pro\", \"Menlo\", monospace;;\n",
       "    font-size: 13px;\n",
       "    color: #555;\n",
       "    margin-left: 4px;\n",
       "    line-height: 19px;\n",
       "  }\n",
       "</style>\n",
       "<div class=\"ansiout\">Out[24]: dict_keys([&#39;document&#39;, &#39;sentence&#39;, &#39;token&#39;, &#39;cleanTokens&#39;])</div>"
      ]
     },
     "metadata": {
      "application/vnd.databricks.v1+output": {
       "addedWidgets": {},
       "arguments": {},
       "data": "<div class=\"ansiout\">Out[24]: dict_keys([&#39;document&#39;, &#39;sentence&#39;, &#39;token&#39;, &#39;cleanTokens&#39;])</div>",
       "datasetInfos": [],
       "removedWidgets": [],
       "type": "html"
      }
     },
     "output_type": "display_data"
    }
   ],
   "source": [
    "result = clean_stop.annotate(testDoc)\n",
    "result.keys()"
   ]
  },
  {
   "cell_type": "code",
   "execution_count": 0,
   "metadata": {
    "application/vnd.databricks.v1+cell": {
     "inputWidgets": {},
     "nuid": "e8cd6afc-48b9-41f3-8154-e6720f4dac76",
     "showTitle": false,
     "title": ""
    }
   },
   "outputs": [
    {
     "data": {
      "text/html": [
       "<style scoped>\n",
       "  .ansiout {\n",
       "    display: block;\n",
       "    unicode-bidi: embed;\n",
       "    white-space: pre-wrap;\n",
       "    word-wrap: break-word;\n",
       "    word-break: break-all;\n",
       "    font-family: \"Source Code Pro\", \"Menlo\", monospace;;\n",
       "    font-size: 13px;\n",
       "    color: #555;\n",
       "    margin-left: 4px;\n",
       "    line-height: 19px;\n",
       "  }\n",
       "</style>\n",
       "<div class=\"ansiout\">Out[25]: &#34;Peter good persn . life Russia intersting . John Peter brothrs . don&#39;t support . Lucas Nogal Dunbercker longer happy . good car . Europe culture rich . huge churches ! big houses !&#34;</div>"
      ]
     },
     "metadata": {
      "application/vnd.databricks.v1+output": {
       "addedWidgets": {},
       "arguments": {},
       "data": "<div class=\"ansiout\">Out[25]: &#34;Peter good persn . life Russia intersting . John Peter brothrs . don&#39;t support . Lucas Nogal Dunbercker longer happy . good car . Europe culture rich . huge churches ! big houses !&#34;</div>",
       "datasetInfos": [],
       "removedWidgets": [],
       "type": "html"
      }
     },
     "output_type": "display_data"
    }
   ],
   "source": [
    "' '.join(result['cleanTokens'])"
   ]
  },
  {
   "cell_type": "markdown",
   "metadata": {
    "application/vnd.databricks.v1+cell": {
     "inputWidgets": {},
     "nuid": "235f65a3-1317-4cdd-a98e-69d0c926dc4a",
     "showTitle": false,
     "title": ""
    }
   },
   "source": [
    "### Spell Checker \n",
    "\n",
    "(Norvig Algo)\n",
    "\n",
    "ref: https://norvig.com/spell-correct.html"
   ]
  },
  {
   "cell_type": "code",
   "execution_count": 0,
   "metadata": {
    "application/vnd.databricks.v1+cell": {
     "inputWidgets": {},
     "nuid": "b04a2589-ec8a-483b-9513-721f686b1c6e",
     "showTitle": false,
     "title": ""
    }
   },
   "outputs": [
    {
     "data": {
      "text/html": [
       "<style scoped>\n",
       "  .ansiout {\n",
       "    display: block;\n",
       "    unicode-bidi: embed;\n",
       "    white-space: pre-wrap;\n",
       "    word-wrap: break-word;\n",
       "    word-break: break-all;\n",
       "    font-family: \"Source Code Pro\", \"Menlo\", monospace;;\n",
       "    font-size: 13px;\n",
       "    color: #555;\n",
       "    margin-left: 4px;\n",
       "    line-height: 19px;\n",
       "  }\n",
       "</style>\n",
       "<div class=\"ansiout\">check_spelling download started this may take some time.\n",
       "Approx size to download 913.5 KB\n",
       "\r",
       "[ | ]\r",
       "[ / ]\r",
       "[ — ]\r",
       "[ \\ ]\r",
       "[ | ]\r",
       "[OK!]\n",
       "</div>"
      ]
     },
     "metadata": {
      "application/vnd.databricks.v1+output": {
       "addedWidgets": {},
       "arguments": {},
       "data": "<div class=\"ansiout\">check_spelling download started this may take some time.\nApprox size to download 913.5 KB\n\r[ | ]\r[ / ]\r[ — ]\r[ \\ ]\r[ | ]\r[OK!]\n</div>",
       "datasetInfos": [],
       "removedWidgets": [],
       "type": "html"
      }
     },
     "output_type": "display_data"
    }
   ],
   "source": [
    "spell_checker = PretrainedPipeline('check_spelling', lang='en')\n"
   ]
  },
  {
   "cell_type": "code",
   "execution_count": 0,
   "metadata": {
    "application/vnd.databricks.v1+cell": {
     "inputWidgets": {},
     "nuid": "a383a3f5-99d9-4891-8ee8-6d437f207079",
     "showTitle": false,
     "title": ""
    }
   },
   "outputs": [
    {
     "data": {
      "text/html": [
       "<style scoped>\n",
       "  .ansiout {\n",
       "    display: block;\n",
       "    unicode-bidi: embed;\n",
       "    white-space: pre-wrap;\n",
       "    word-wrap: break-word;\n",
       "    word-break: break-all;\n",
       "    font-family: \"Source Code Pro\", \"Menlo\", monospace;;\n",
       "    font-size: 13px;\n",
       "    color: #555;\n",
       "    margin-left: 4px;\n",
       "    line-height: 19px;\n",
       "  }\n",
       "</style>\n",
       "<div class=\"ansiout\">Out[28]: dict_keys([&#39;document&#39;, &#39;sentence&#39;, &#39;token&#39;, &#39;checked&#39;])</div>"
      ]
     },
     "metadata": {
      "application/vnd.databricks.v1+output": {
       "addedWidgets": {},
       "arguments": {},
       "data": "<div class=\"ansiout\">Out[28]: dict_keys([&#39;document&#39;, &#39;sentence&#39;, &#39;token&#39;, &#39;checked&#39;])</div>",
       "datasetInfos": [],
       "removedWidgets": [],
       "type": "html"
      }
     },
     "output_type": "display_data"
    }
   ],
   "source": [
    "testDoc = '''\n",
    "Peter is a very good persn.\n",
    "My life in Russia is very intersting.\n",
    "John and Peter are brothrs. However they don't support each other that much.\n",
    "Lucas Nogal Dunbercker is no longer happy. He has a good car though.\n",
    "Europe is very culture rich. There are huge churches! and big houses!\n",
    "'''\n",
    "\n",
    "result = spell_checker.annotate(testDoc)\n",
    "\n",
    "result.keys()"
   ]
  },
  {
   "cell_type": "code",
   "execution_count": 0,
   "metadata": {
    "application/vnd.databricks.v1+cell": {
     "inputWidgets": {},
     "nuid": "1ecf9e7f-a77f-4612-82a5-7a1f80669fa3",
     "showTitle": false,
     "title": ""
    }
   },
   "outputs": [
    {
     "data": {
      "text/html": [
       "<style scoped>\n",
       "  .ansiout {\n",
       "    display: block;\n",
       "    unicode-bidi: embed;\n",
       "    white-space: pre-wrap;\n",
       "    word-wrap: break-word;\n",
       "    word-break: break-all;\n",
       "    font-family: \"Source Code Pro\", \"Menlo\", monospace;;\n",
       "    font-size: 13px;\n",
       "    color: #555;\n",
       "    margin-left: 4px;\n",
       "    line-height: 19px;\n",
       "  }\n",
       "</style>\n",
       "<div class=\"ansiout\">Out[29]: [(&#39;Peter&#39;, &#39;Peter&#39;),\n",
       " (&#39;is&#39;, &#39;is&#39;),\n",
       " (&#39;a&#39;, &#39;a&#39;),\n",
       " (&#39;very&#39;, &#39;very&#39;),\n",
       " (&#39;good&#39;, &#39;good&#39;),\n",
       " (&#39;persn&#39;, &#39;person&#39;),\n",
       " (&#39;.&#39;, &#39;.&#39;),\n",
       " (&#39;My&#39;, &#39;My&#39;),\n",
       " (&#39;life&#39;, &#39;life&#39;),\n",
       " (&#39;in&#39;, &#39;in&#39;),\n",
       " (&#39;Russia&#39;, &#39;Russia&#39;),\n",
       " (&#39;is&#39;, &#39;is&#39;),\n",
       " (&#39;very&#39;, &#39;very&#39;),\n",
       " (&#39;intersting&#39;, &#39;interesting&#39;),\n",
       " (&#39;.&#39;, &#39;.&#39;),\n",
       " (&#39;John&#39;, &#39;John&#39;),\n",
       " (&#39;and&#39;, &#39;and&#39;),\n",
       " (&#39;Peter&#39;, &#39;Peter&#39;),\n",
       " (&#39;are&#39;, &#39;are&#39;),\n",
       " (&#39;brothrs&#39;, &#39;brothers&#39;),\n",
       " (&#39;.&#39;, &#39;.&#39;),\n",
       " (&#39;However&#39;, &#39;However&#39;),\n",
       " (&#39;they&#39;, &#39;they&#39;),\n",
       " (&#34;don&#39;t&#34;, &#34;don&#39;t&#34;),\n",
       " (&#39;support&#39;, &#39;support&#39;),\n",
       " (&#39;each&#39;, &#39;each&#39;),\n",
       " (&#39;other&#39;, &#39;other&#39;),\n",
       " (&#39;that&#39;, &#39;that&#39;),\n",
       " (&#39;much&#39;, &#39;much&#39;),\n",
       " (&#39;.&#39;, &#39;.&#39;),\n",
       " (&#39;Lucas&#39;, &#39;Lucas&#39;),\n",
       " (&#39;Nogal&#39;, &#39;Nigel&#39;),\n",
       " (&#39;Dunbercker&#39;, &#39;Dunbercker&#39;),\n",
       " (&#39;is&#39;, &#39;is&#39;),\n",
       " (&#39;no&#39;, &#39;no&#39;),\n",
       " (&#39;longer&#39;, &#39;longer&#39;),\n",
       " (&#39;happy&#39;, &#39;happy&#39;),\n",
       " (&#39;.&#39;, &#39;.&#39;),\n",
       " (&#39;He&#39;, &#39;He&#39;),\n",
       " (&#39;has&#39;, &#39;has&#39;),\n",
       " (&#39;a&#39;, &#39;a&#39;),\n",
       " (&#39;good&#39;, &#39;good&#39;),\n",
       " (&#39;car&#39;, &#39;car&#39;),\n",
       " (&#39;though&#39;, &#39;though&#39;),\n",
       " (&#39;.&#39;, &#39;.&#39;),\n",
       " (&#39;Europe&#39;, &#39;Europe&#39;),\n",
       " (&#39;is&#39;, &#39;is&#39;),\n",
       " (&#39;very&#39;, &#39;very&#39;),\n",
       " (&#39;culture&#39;, &#39;culture&#39;),\n",
       " (&#39;rich&#39;, &#39;rich&#39;),\n",
       " (&#39;.&#39;, &#39;.&#39;),\n",
       " (&#39;There&#39;, &#39;There&#39;),\n",
       " (&#39;are&#39;, &#39;are&#39;),\n",
       " (&#39;huge&#39;, &#39;huge&#39;),\n",
       " (&#39;churches&#39;, &#39;churches&#39;),\n",
       " (&#39;!&#39;, &#39;!&#39;),\n",
       " (&#39;and&#39;, &#39;and&#39;),\n",
       " (&#39;big&#39;, &#39;big&#39;),\n",
       " (&#39;houses&#39;, &#39;houses&#39;),\n",
       " (&#39;!&#39;, &#39;!&#39;)]</div>"
      ]
     },
     "metadata": {
      "application/vnd.databricks.v1+output": {
       "addedWidgets": {},
       "arguments": {},
       "data": "<div class=\"ansiout\">Out[29]: [(&#39;Peter&#39;, &#39;Peter&#39;),\n (&#39;is&#39;, &#39;is&#39;),\n (&#39;a&#39;, &#39;a&#39;),\n (&#39;very&#39;, &#39;very&#39;),\n (&#39;good&#39;, &#39;good&#39;),\n (&#39;persn&#39;, &#39;person&#39;),\n (&#39;.&#39;, &#39;.&#39;),\n (&#39;My&#39;, &#39;My&#39;),\n (&#39;life&#39;, &#39;life&#39;),\n (&#39;in&#39;, &#39;in&#39;),\n (&#39;Russia&#39;, &#39;Russia&#39;),\n (&#39;is&#39;, &#39;is&#39;),\n (&#39;very&#39;, &#39;very&#39;),\n (&#39;intersting&#39;, &#39;interesting&#39;),\n (&#39;.&#39;, &#39;.&#39;),\n (&#39;John&#39;, &#39;John&#39;),\n (&#39;and&#39;, &#39;and&#39;),\n (&#39;Peter&#39;, &#39;Peter&#39;),\n (&#39;are&#39;, &#39;are&#39;),\n (&#39;brothrs&#39;, &#39;brothers&#39;),\n (&#39;.&#39;, &#39;.&#39;),\n (&#39;However&#39;, &#39;However&#39;),\n (&#39;they&#39;, &#39;they&#39;),\n (&#34;don&#39;t&#34;, &#34;don&#39;t&#34;),\n (&#39;support&#39;, &#39;support&#39;),\n (&#39;each&#39;, &#39;each&#39;),\n (&#39;other&#39;, &#39;other&#39;),\n (&#39;that&#39;, &#39;that&#39;),\n (&#39;much&#39;, &#39;much&#39;),\n (&#39;.&#39;, &#39;.&#39;),\n (&#39;Lucas&#39;, &#39;Lucas&#39;),\n (&#39;Nogal&#39;, &#39;Nigel&#39;),\n (&#39;Dunbercker&#39;, &#39;Dunbercker&#39;),\n (&#39;is&#39;, &#39;is&#39;),\n (&#39;no&#39;, &#39;no&#39;),\n (&#39;longer&#39;, &#39;longer&#39;),\n (&#39;happy&#39;, &#39;happy&#39;),\n (&#39;.&#39;, &#39;.&#39;),\n (&#39;He&#39;, &#39;He&#39;),\n (&#39;has&#39;, &#39;has&#39;),\n (&#39;a&#39;, &#39;a&#39;),\n (&#39;good&#39;, &#39;good&#39;),\n (&#39;car&#39;, &#39;car&#39;),\n (&#39;though&#39;, &#39;though&#39;),\n (&#39;.&#39;, &#39;.&#39;),\n (&#39;Europe&#39;, &#39;Europe&#39;),\n (&#39;is&#39;, &#39;is&#39;),\n (&#39;very&#39;, &#39;very&#39;),\n (&#39;culture&#39;, &#39;culture&#39;),\n (&#39;rich&#39;, &#39;rich&#39;),\n (&#39;.&#39;, &#39;.&#39;),\n (&#39;There&#39;, &#39;There&#39;),\n (&#39;are&#39;, &#39;are&#39;),\n (&#39;huge&#39;, &#39;huge&#39;),\n (&#39;churches&#39;, &#39;churches&#39;),\n (&#39;!&#39;, &#39;!&#39;),\n (&#39;and&#39;, &#39;and&#39;),\n (&#39;big&#39;, &#39;big&#39;),\n (&#39;houses&#39;, &#39;houses&#39;),\n (&#39;!&#39;, &#39;!&#39;)]</div>",
       "datasetInfos": [],
       "removedWidgets": [],
       "type": "html"
      }
     },
     "output_type": "display_data"
    }
   ],
   "source": [
    "list(zip(result['token'], result['checked']))"
   ]
  },
  {
   "cell_type": "markdown",
   "metadata": {
    "application/vnd.databricks.v1+cell": {
     "inputWidgets": {},
     "nuid": "6c9072a3-e43e-416e-8669-5f3645ff3986",
     "showTitle": false,
     "title": ""
    }
   },
   "source": [
    "### Parsing a list of texts"
   ]
  },
  {
   "cell_type": "code",
   "execution_count": 0,
   "metadata": {
    "application/vnd.databricks.v1+cell": {
     "inputWidgets": {},
     "nuid": "9dcac600-df00-496b-9e72-08252c181b65",
     "showTitle": false,
     "title": ""
    }
   },
   "outputs": [
    {
     "data": {
      "text/html": [
       "<style scoped>\n",
       "  .ansiout {\n",
       "    display: block;\n",
       "    unicode-bidi: embed;\n",
       "    white-space: pre-wrap;\n",
       "    word-wrap: break-word;\n",
       "    word-break: break-all;\n",
       "    font-family: \"Source Code Pro\", \"Menlo\", monospace;;\n",
       "    font-size: 13px;\n",
       "    color: #555;\n",
       "    margin-left: 4px;\n",
       "    line-height: 19px;\n",
       "  }\n",
       "</style>\n",
       "<div class=\"ansiout\">Out[35]: [&#39;French author who helped pioner the science-fiction genre.&#39;,\n",
       " &#39;Verne wrate about space, air, and underwater travel before navigable aircrast&#39;,\n",
       " &#39;Practical submarines were invented, and before any means of space travel had been devised.&#39;]</div>"
      ]
     },
     "metadata": {
      "application/vnd.databricks.v1+output": {
       "addedWidgets": {},
       "arguments": {},
       "data": "<div class=\"ansiout\">Out[35]: [&#39;French author who helped pioner the science-fiction genre.&#39;,\n &#39;Verne wrate about space, air, and underwater travel before navigable aircrast&#39;,\n &#39;Practical submarines were invented, and before any means of space travel had been devised.&#39;]</div>",
       "datasetInfos": [],
       "removedWidgets": [],
       "type": "html"
      }
     },
     "output_type": "display_data"
    }
   ],
   "source": [
    "testDoc_list = ['French author who helped pioner the science-fiction genre.',\n",
    "'Verne wrate about space, air, and underwater travel before navigable aircrast',\n",
    "'Practical submarines were invented, and before any means of space travel had been devised.']\n",
    "\n",
    "testDoc_list"
   ]
  },
  {
   "cell_type": "code",
   "execution_count": 0,
   "metadata": {
    "application/vnd.databricks.v1+cell": {
     "inputWidgets": {},
     "nuid": "961e5240-1418-492a-b743-983cb07550cc",
     "showTitle": false,
     "title": ""
    }
   },
   "outputs": [
    {
     "data": {
      "text/html": [
       "<style scoped>\n",
       "  .ansiout {\n",
       "    display: block;\n",
       "    unicode-bidi: embed;\n",
       "    white-space: pre-wrap;\n",
       "    word-wrap: break-word;\n",
       "    word-break: break-all;\n",
       "    font-family: \"Source Code Pro\", \"Menlo\", monospace;;\n",
       "    font-size: 13px;\n",
       "    color: #555;\n",
       "    margin-left: 4px;\n",
       "    line-height: 19px;\n",
       "  }\n",
       "</style>\n",
       "<div class=\"ansiout\">explain_document_ml download started this may take some time.\n",
       "Approx size to download 9.1 MB\n",
       "\r",
       "[ | ]\r",
       "[OK!]\n",
       "</div>"
      ]
     },
     "metadata": {
      "application/vnd.databricks.v1+output": {
       "addedWidgets": {},
       "arguments": {},
       "data": "<div class=\"ansiout\">explain_document_ml download started this may take some time.\nApprox size to download 9.1 MB\n\r[ | ]\r[OK!]\n</div>",
       "datasetInfos": [],
       "removedWidgets": [],
       "type": "html"
      }
     },
     "output_type": "display_data"
    }
   ],
   "source": [
    "pipeline = PretrainedPipeline('explain_document_ml', lang='en')\n"
   ]
  },
  {
   "cell_type": "code",
   "execution_count": 0,
   "metadata": {
    "application/vnd.databricks.v1+cell": {
     "inputWidgets": {},
     "nuid": "854a49d7-9c2c-47d5-83e2-e05401258598",
     "showTitle": false,
     "title": ""
    }
   },
   "outputs": [
    {
     "data": {
      "text/html": [
       "<style scoped>\n",
       "  .ansiout {\n",
       "    display: block;\n",
       "    unicode-bidi: embed;\n",
       "    white-space: pre-wrap;\n",
       "    word-wrap: break-word;\n",
       "    word-break: break-all;\n",
       "    font-family: \"Source Code Pro\", \"Menlo\", monospace;;\n",
       "    font-size: 13px;\n",
       "    color: #555;\n",
       "    margin-left: 4px;\n",
       "    line-height: 19px;\n",
       "  }\n",
       "</style>\n",
       "<div class=\"ansiout\">Out[37]: 3</div>"
      ]
     },
     "metadata": {
      "application/vnd.databricks.v1+output": {
       "addedWidgets": {},
       "arguments": {},
       "data": "<div class=\"ansiout\">Out[37]: 3</div>",
       "datasetInfos": [],
       "removedWidgets": [],
       "type": "html"
      }
     },
     "output_type": "display_data"
    }
   ],
   "source": [
    "result_list = pipeline.annotate(testDoc_list)\n",
    "\n",
    "len (result_list)"
   ]
  },
  {
   "cell_type": "code",
   "execution_count": 0,
   "metadata": {
    "application/vnd.databricks.v1+cell": {
     "inputWidgets": {},
     "nuid": "06e85591-3fec-4a19-9639-fbb923c666b7",
     "showTitle": false,
     "title": ""
    }
   },
   "outputs": [
    {
     "data": {
      "text/html": [
       "<style scoped>\n",
       "  .ansiout {\n",
       "    display: block;\n",
       "    unicode-bidi: embed;\n",
       "    white-space: pre-wrap;\n",
       "    word-wrap: break-word;\n",
       "    word-break: break-all;\n",
       "    font-family: \"Source Code Pro\", \"Menlo\", monospace;;\n",
       "    font-size: 13px;\n",
       "    color: #555;\n",
       "    margin-left: 4px;\n",
       "    line-height: 19px;\n",
       "  }\n",
       "</style>\n",
       "<div class=\"ansiout\">Out[38]: {&#39;document&#39;: [&#39;French author who helped pioner the science-fiction genre.&#39;],\n",
       " &#39;spell&#39;: [&#39;French&#39;,\n",
       "  &#39;author&#39;,\n",
       "  &#39;who&#39;,\n",
       "  &#39;helped&#39;,\n",
       "  &#39;pioneer&#39;,\n",
       "  &#39;the&#39;,\n",
       "  &#39;sciencefiction&#39;,\n",
       "  &#39;genre&#39;,\n",
       "  &#39;.&#39;],\n",
       " &#39;pos&#39;: [&#39;JJ&#39;, &#39;NN&#39;, &#39;WP&#39;, &#39;VBD&#39;, &#39;NN&#39;, &#39;DT&#39;, &#39;NN&#39;, &#39;NN&#39;, &#39;.&#39;],\n",
       " &#39;lemmas&#39;: [&#39;French&#39;,\n",
       "  &#39;author&#39;,\n",
       "  &#39;who&#39;,\n",
       "  &#39;help&#39;,\n",
       "  &#39;pioneer&#39;,\n",
       "  &#39;the&#39;,\n",
       "  &#39;sciencefiction&#39;,\n",
       "  &#39;genre&#39;,\n",
       "  &#39;.&#39;],\n",
       " &#39;token&#39;: [&#39;French&#39;,\n",
       "  &#39;author&#39;,\n",
       "  &#39;who&#39;,\n",
       "  &#39;helped&#39;,\n",
       "  &#39;pioner&#39;,\n",
       "  &#39;the&#39;,\n",
       "  &#39;science-fiction&#39;,\n",
       "  &#39;genre&#39;,\n",
       "  &#39;.&#39;],\n",
       " &#39;stems&#39;: [&#39;french&#39;,\n",
       "  &#39;author&#39;,\n",
       "  &#39;who&#39;,\n",
       "  &#39;help&#39;,\n",
       "  &#39;pioneer&#39;,\n",
       "  &#39;the&#39;,\n",
       "  &#39;sciencefict&#39;,\n",
       "  &#39;genr&#39;,\n",
       "  &#39;.&#39;],\n",
       " &#39;sentence&#39;: [&#39;French author who helped pioner the science-fiction genre.&#39;]}</div>"
      ]
     },
     "metadata": {
      "application/vnd.databricks.v1+output": {
       "addedWidgets": {},
       "arguments": {},
       "data": "<div class=\"ansiout\">Out[38]: {&#39;document&#39;: [&#39;French author who helped pioner the science-fiction genre.&#39;],\n &#39;spell&#39;: [&#39;French&#39;,\n  &#39;author&#39;,\n  &#39;who&#39;,\n  &#39;helped&#39;,\n  &#39;pioneer&#39;,\n  &#39;the&#39;,\n  &#39;sciencefiction&#39;,\n  &#39;genre&#39;,\n  &#39;.&#39;],\n &#39;pos&#39;: [&#39;JJ&#39;, &#39;NN&#39;, &#39;WP&#39;, &#39;VBD&#39;, &#39;NN&#39;, &#39;DT&#39;, &#39;NN&#39;, &#39;NN&#39;, &#39;.&#39;],\n &#39;lemmas&#39;: [&#39;French&#39;,\n  &#39;author&#39;,\n  &#39;who&#39;,\n  &#39;help&#39;,\n  &#39;pioneer&#39;,\n  &#39;the&#39;,\n  &#39;sciencefiction&#39;,\n  &#39;genre&#39;,\n  &#39;.&#39;],\n &#39;token&#39;: [&#39;French&#39;,\n  &#39;author&#39;,\n  &#39;who&#39;,\n  &#39;helped&#39;,\n  &#39;pioner&#39;,\n  &#39;the&#39;,\n  &#39;science-fiction&#39;,\n  &#39;genre&#39;,\n  &#39;.&#39;],\n &#39;stems&#39;: [&#39;french&#39;,\n  &#39;author&#39;,\n  &#39;who&#39;,\n  &#39;help&#39;,\n  &#39;pioneer&#39;,\n  &#39;the&#39;,\n  &#39;sciencefict&#39;,\n  &#39;genr&#39;,\n  &#39;.&#39;],\n &#39;sentence&#39;: [&#39;French author who helped pioner the science-fiction genre.&#39;]}</div>",
       "datasetInfos": [],
       "removedWidgets": [],
       "type": "html"
      }
     },
     "output_type": "display_data"
    }
   ],
   "source": [
    "result_list[0]"
   ]
  },
  {
   "cell_type": "markdown",
   "metadata": {
    "application/vnd.databricks.v1+cell": {
     "inputWidgets": {},
     "nuid": "e9ee192b-8b9f-4df7-9535-f6d3520440d7",
     "showTitle": false,
     "title": ""
    }
   },
   "source": [
    "### Using fullAnnotate to get more details"
   ]
  },
  {
   "cell_type": "markdown",
   "metadata": {
    "application/vnd.databricks.v1+cell": {
     "inputWidgets": {},
     "nuid": "6e0c369f-2c48-4835-8a95-c8c0fdcb5173",
     "showTitle": false,
     "title": ""
    }
   },
   "source": [
    "```\n",
    "annotatorType: String, \n",
    "begin: Int, \n",
    "end: Int, \n",
    "result: String, (this is what annotate returns)\n",
    "metadata: Map[String, String], \n",
    "embeddings: Array[Float]\n",
    "```"
   ]
  },
  {
   "cell_type": "code",
   "execution_count": 0,
   "metadata": {
    "application/vnd.databricks.v1+cell": {
     "inputWidgets": {},
     "nuid": "23888403-bd94-4e7f-990c-35cc5fa1ad0e",
     "showTitle": false,
     "title": ""
    }
   },
   "outputs": [
    {
     "data": {
      "text/html": [
       "<style scoped>\n",
       "  .ansiout {\n",
       "    display: block;\n",
       "    unicode-bidi: embed;\n",
       "    white-space: pre-wrap;\n",
       "    word-wrap: break-word;\n",
       "    word-break: break-all;\n",
       "    font-family: \"Source Code Pro\", \"Menlo\", monospace;;\n",
       "    font-size: 13px;\n",
       "    color: #555;\n",
       "    margin-left: 4px;\n",
       "    line-height: 19px;\n",
       "  }\n",
       "</style>\n",
       "<div class=\"ansiout\"></div>"
      ]
     },
     "metadata": {
      "application/vnd.databricks.v1+output": {
       "addedWidgets": {},
       "arguments": {},
       "data": "<div class=\"ansiout\"></div>",
       "datasetInfos": [],
       "removedWidgets": [],
       "type": "html"
      }
     },
     "output_type": "display_data"
    }
   ],
   "source": [
    "text = 'Peter Parker is a nice guy and lives in New York'"
   ]
  },
  {
   "cell_type": "code",
   "execution_count": 0,
   "metadata": {
    "application/vnd.databricks.v1+cell": {
     "inputWidgets": {},
     "nuid": "5c016664-a824-4aeb-b242-a5c58fd0e14a",
     "showTitle": false,
     "title": ""
    }
   },
   "outputs": [
    {
     "data": {
      "text/html": [
       "<style scoped>\n",
       "  .ansiout {\n",
       "    display: block;\n",
       "    unicode-bidi: embed;\n",
       "    white-space: pre-wrap;\n",
       "    word-wrap: break-word;\n",
       "    word-break: break-all;\n",
       "    font-family: \"Source Code Pro\", \"Menlo\", monospace;;\n",
       "    font-size: 13px;\n",
       "    color: #555;\n",
       "    margin-left: 4px;\n",
       "    line-height: 19px;\n",
       "  }\n",
       "</style>\n",
       "<div class=\"ansiout\"></div>"
      ]
     },
     "metadata": {
      "application/vnd.databricks.v1+output": {
       "addedWidgets": {},
       "arguments": {},
       "data": "<div class=\"ansiout\"></div>",
       "datasetInfos": [],
       "removedWidgets": [],
       "type": "html"
      }
     },
     "output_type": "display_data"
    }
   ],
   "source": [
    "# pipeline_dl >> explain_document_dl\n",
    "\n",
    "detailed_result = pipeline_dl.fullAnnotate(text)"
   ]
  },
  {
   "cell_type": "code",
   "execution_count": 0,
   "metadata": {
    "application/vnd.databricks.v1+cell": {
     "inputWidgets": {},
     "nuid": "f525febe-36b9-4171-a175-3fe528baae8c",
     "showTitle": false,
     "title": ""
    }
   },
   "outputs": [
    {
     "data": {
      "text/html": [
       "<style scoped>\n",
       "  .ansiout {\n",
       "    display: block;\n",
       "    unicode-bidi: embed;\n",
       "    white-space: pre-wrap;\n",
       "    word-wrap: break-word;\n",
       "    word-break: break-all;\n",
       "    font-family: \"Source Code Pro\", \"Menlo\", monospace;;\n",
       "    font-size: 13px;\n",
       "    color: #555;\n",
       "    margin-left: 4px;\n",
       "    line-height: 19px;\n",
       "  }\n",
       "</style>\n",
       "<div class=\"ansiout\">Out[41]: [{&#39;entities&#39;: [Annotation(chunk, 0, 11, Peter Parker, {&#39;entity&#39;: &#39;PER&#39;, &#39;sentence&#39;: &#39;0&#39;, &#39;chunk&#39;: &#39;0&#39;}),\n",
       "   Annotation(chunk, 40, 47, New York, {&#39;entity&#39;: &#39;LOC&#39;, &#39;sentence&#39;: &#39;0&#39;, &#39;chunk&#39;: &#39;1&#39;})],\n",
       "  &#39;stem&#39;: [Annotation(token, 0, 4, peter, {&#39;confidence&#39;: &#39;1.0&#39;, &#39;sentence&#39;: &#39;0&#39;}),\n",
       "   Annotation(token, 6, 11, parker, {&#39;confidence&#39;: &#39;1.0&#39;, &#39;sentence&#39;: &#39;0&#39;}),\n",
       "   Annotation(token, 13, 14, i, {&#39;confidence&#39;: &#39;1.0&#39;, &#39;sentence&#39;: &#39;0&#39;}),\n",
       "   Annotation(token, 16, 16, a, {&#39;confidence&#39;: &#39;1.0&#39;, &#39;sentence&#39;: &#39;0&#39;}),\n",
       "   Annotation(token, 18, 21, nice, {&#39;confidence&#39;: &#39;1.0&#39;, &#39;sentence&#39;: &#39;0&#39;}),\n",
       "   Annotation(token, 23, 25, gui, {&#39;confidence&#39;: &#39;1.0&#39;, &#39;sentence&#39;: &#39;0&#39;}),\n",
       "   Annotation(token, 27, 29, and, {&#39;confidence&#39;: &#39;1.0&#39;, &#39;sentence&#39;: &#39;0&#39;}),\n",
       "   Annotation(token, 31, 35, live, {&#39;confidence&#39;: &#39;1.0&#39;, &#39;sentence&#39;: &#39;0&#39;}),\n",
       "   Annotation(token, 37, 38, in, {&#39;confidence&#39;: &#39;1.0&#39;, &#39;sentence&#39;: &#39;0&#39;}),\n",
       "   Annotation(token, 40, 42, new, {&#39;confidence&#39;: &#39;1.0&#39;, &#39;sentence&#39;: &#39;0&#39;}),\n",
       "   Annotation(token, 44, 47, york, {&#39;confidence&#39;: &#39;1.0&#39;, &#39;sentence&#39;: &#39;0&#39;})],\n",
       "  &#39;checked&#39;: [Annotation(token, 0, 4, Peter, {&#39;confidence&#39;: &#39;1.0&#39;, &#39;sentence&#39;: &#39;0&#39;}),\n",
       "   Annotation(token, 6, 11, Parker, {&#39;confidence&#39;: &#39;1.0&#39;, &#39;sentence&#39;: &#39;0&#39;}),\n",
       "   Annotation(token, 13, 14, is, {&#39;confidence&#39;: &#39;1.0&#39;, &#39;sentence&#39;: &#39;0&#39;}),\n",
       "   Annotation(token, 16, 16, a, {&#39;confidence&#39;: &#39;1.0&#39;, &#39;sentence&#39;: &#39;0&#39;}),\n",
       "   Annotation(token, 18, 21, nice, {&#39;confidence&#39;: &#39;1.0&#39;, &#39;sentence&#39;: &#39;0&#39;}),\n",
       "   Annotation(token, 23, 25, guy, {&#39;confidence&#39;: &#39;1.0&#39;, &#39;sentence&#39;: &#39;0&#39;}),\n",
       "   Annotation(token, 27, 29, and, {&#39;confidence&#39;: &#39;1.0&#39;, &#39;sentence&#39;: &#39;0&#39;}),\n",
       "   Annotation(token, 31, 35, lives, {&#39;confidence&#39;: &#39;1.0&#39;, &#39;sentence&#39;: &#39;0&#39;}),\n",
       "   Annotation(token, 37, 38, in, {&#39;confidence&#39;: &#39;1.0&#39;, &#39;sentence&#39;: &#39;0&#39;}),\n",
       "   Annotation(token, 40, 42, New, {&#39;confidence&#39;: &#39;1.0&#39;, &#39;sentence&#39;: &#39;0&#39;}),\n",
       "   Annotation(token, 44, 47, York, {&#39;confidence&#39;: &#39;1.0&#39;, &#39;sentence&#39;: &#39;0&#39;})],\n",
       "  &#39;lemma&#39;: [Annotation(token, 0, 4, Peter, {&#39;confidence&#39;: &#39;1.0&#39;, &#39;sentence&#39;: &#39;0&#39;}),\n",
       "   Annotation(token, 6, 11, Parker, {&#39;confidence&#39;: &#39;1.0&#39;, &#39;sentence&#39;: &#39;0&#39;}),\n",
       "   Annotation(token, 13, 14, be, {&#39;confidence&#39;: &#39;1.0&#39;, &#39;sentence&#39;: &#39;0&#39;}),\n",
       "   Annotation(token, 16, 16, a, {&#39;confidence&#39;: &#39;1.0&#39;, &#39;sentence&#39;: &#39;0&#39;}),\n",
       "   Annotation(token, 18, 21, nice, {&#39;confidence&#39;: &#39;1.0&#39;, &#39;sentence&#39;: &#39;0&#39;}),\n",
       "   Annotation(token, 23, 25, guy, {&#39;confidence&#39;: &#39;1.0&#39;, &#39;sentence&#39;: &#39;0&#39;}),\n",
       "   Annotation(token, 27, 29, and, {&#39;confidence&#39;: &#39;1.0&#39;, &#39;sentence&#39;: &#39;0&#39;}),\n",
       "   Annotation(token, 31, 35, life, {&#39;confidence&#39;: &#39;1.0&#39;, &#39;sentence&#39;: &#39;0&#39;}),\n",
       "   Annotation(token, 37, 38, in, {&#39;confidence&#39;: &#39;1.0&#39;, &#39;sentence&#39;: &#39;0&#39;}),\n",
       "   Annotation(token, 40, 42, New, {&#39;confidence&#39;: &#39;1.0&#39;, &#39;sentence&#39;: &#39;0&#39;}),\n",
       "   Annotation(token, 44, 47, York, {&#39;confidence&#39;: &#39;1.0&#39;, &#39;sentence&#39;: &#39;0&#39;})],\n",
       "  &#39;document&#39;: [Annotation(document, 0, 47, Peter Parker is a nice guy and lives in New York, {})],\n",
       "  &#39;pos&#39;: [Annotation(pos, 0, 4, NNP, {&#39;word&#39;: &#39;Peter&#39;}),\n",
       "   Annotation(pos, 6, 11, NNP, {&#39;word&#39;: &#39;Parker&#39;}),\n",
       "   Annotation(pos, 13, 14, VBZ, {&#39;word&#39;: &#39;is&#39;}),\n",
       "   Annotation(pos, 16, 16, DT, {&#39;word&#39;: &#39;a&#39;}),\n",
       "   Annotation(pos, 18, 21, JJ, {&#39;word&#39;: &#39;nice&#39;}),\n",
       "   Annotation(pos, 23, 25, NN, {&#39;word&#39;: &#39;guy&#39;}),\n",
       "   Annotation(pos, 27, 29, CC, {&#39;word&#39;: &#39;and&#39;}),\n",
       "   Annotation(pos, 31, 35, NNS, {&#39;word&#39;: &#39;lives&#39;}),\n",
       "   Annotation(pos, 37, 38, IN, {&#39;word&#39;: &#39;in&#39;}),\n",
       "   Annotation(pos, 40, 42, NNP, {&#39;word&#39;: &#39;New&#39;}),\n",
       "   Annotation(pos, 44, 47, NNP, {&#39;word&#39;: &#39;York&#39;})],\n",
       "  &#39;token&#39;: [Annotation(token, 0, 4, Peter, {&#39;sentence&#39;: &#39;0&#39;}),\n",
       "   Annotation(token, 6, 11, Parker, {&#39;sentence&#39;: &#39;0&#39;}),\n",
       "   Annotation(token, 13, 14, is, {&#39;sentence&#39;: &#39;0&#39;}),\n",
       "   Annotation(token, 16, 16, a, {&#39;sentence&#39;: &#39;0&#39;}),\n",
       "   Annotation(token, 18, 21, nice, {&#39;sentence&#39;: &#39;0&#39;}),\n",
       "   Annotation(token, 23, 25, guy, {&#39;sentence&#39;: &#39;0&#39;}),\n",
       "   Annotation(token, 27, 29, and, {&#39;sentence&#39;: &#39;0&#39;}),\n",
       "   Annotation(token, 31, 35, lives, {&#39;sentence&#39;: &#39;0&#39;}),\n",
       "   Annotation(token, 37, 38, in, {&#39;sentence&#39;: &#39;0&#39;}),\n",
       "   Annotation(token, 40, 42, New, {&#39;sentence&#39;: &#39;0&#39;}),\n",
       "   Annotation(token, 44, 47, York, {&#39;sentence&#39;: &#39;0&#39;})],\n",
       "  &#39;ner&#39;: [Annotation(named_entity, 0, 4, B-PER, {&#39;word&#39;: &#39;Peter&#39;}),\n",
       "   Annotation(named_entity, 6, 11, I-PER, {&#39;word&#39;: &#39;Parker&#39;}),\n",
       "   Annotation(named_entity, 13, 14, O, {&#39;word&#39;: &#39;is&#39;}),\n",
       "   Annotation(named_entity, 16, 16, O, {&#39;word&#39;: &#39;a&#39;}),\n",
       "   Annotation(named_entity, 18, 21, O, {&#39;word&#39;: &#39;nice&#39;}),\n",
       "   Annotation(named_entity, 23, 25, O, {&#39;word&#39;: &#39;guy&#39;}),\n",
       "   Annotation(named_entity, 27, 29, O, {&#39;word&#39;: &#39;and&#39;}),\n",
       "   Annotation(named_entity, 31, 35, O, {&#39;word&#39;: &#39;lives&#39;}),\n",
       "   Annotation(named_entity, 37, 38, O, {&#39;word&#39;: &#39;in&#39;}),\n",
       "   Annotation(named_entity, 40, 42, B-LOC, {&#39;word&#39;: &#39;New&#39;}),\n",
       "   Annotation(named_entity, 44, 47, I-LOC, {&#39;word&#39;: &#39;York&#39;})],\n",
       "  &#39;embeddings&#39;: [Annotation(word_embeddings, 0, 4, Peter, {&#39;isOOV&#39;: &#39;false&#39;, &#39;pieceId&#39;: &#39;-1&#39;, &#39;isWordStart&#39;: &#39;true&#39;, &#39;token&#39;: &#39;Peter&#39;, &#39;sentence&#39;: &#39;0&#39;}),\n",
       "   Annotation(word_embeddings, 6, 11, Parker, {&#39;isOOV&#39;: &#39;false&#39;, &#39;pieceId&#39;: &#39;-1&#39;, &#39;isWordStart&#39;: &#39;true&#39;, &#39;token&#39;: &#39;Parker&#39;, &#39;sentence&#39;: &#39;0&#39;}),\n",
       "   Annotation(word_embeddings, 13, 14, is, {&#39;isOOV&#39;: &#39;false&#39;, &#39;pieceId&#39;: &#39;-1&#39;, &#39;isWordStart&#39;: &#39;true&#39;, &#39;token&#39;: &#39;is&#39;, &#39;sentence&#39;: &#39;0&#39;}),\n",
       "   Annotation(word_embeddings, 16, 16, a, {&#39;isOOV&#39;: &#39;false&#39;, &#39;pieceId&#39;: &#39;-1&#39;, &#39;isWordStart&#39;: &#39;true&#39;, &#39;token&#39;: &#39;a&#39;, &#39;sentence&#39;: &#39;0&#39;}),\n",
       "   Annotation(word_embeddings, 18, 21, nice, {&#39;isOOV&#39;: &#39;false&#39;, &#39;pieceId&#39;: &#39;-1&#39;, &#39;isWordStart&#39;: &#39;true&#39;, &#39;token&#39;: &#39;nice&#39;, &#39;sentence&#39;: &#39;0&#39;}),\n",
       "   Annotation(word_embeddings, 23, 25, guy, {&#39;isOOV&#39;: &#39;false&#39;, &#39;pieceId&#39;: &#39;-1&#39;, &#39;isWordStart&#39;: &#39;true&#39;, &#39;token&#39;: &#39;guy&#39;, &#39;sentence&#39;: &#39;0&#39;}),\n",
       "   Annotation(word_embeddings, 27, 29, and, {&#39;isOOV&#39;: &#39;false&#39;, &#39;pieceId&#39;: &#39;-1&#39;, &#39;isWordStart&#39;: &#39;true&#39;, &#39;token&#39;: &#39;and&#39;, &#39;sentence&#39;: &#39;0&#39;}),\n",
       "   Annotation(word_embeddings, 31, 35, lives, {&#39;isOOV&#39;: &#39;false&#39;, &#39;pieceId&#39;: &#39;-1&#39;, &#39;isWordStart&#39;: &#39;true&#39;, &#39;token&#39;: &#39;lives&#39;, &#39;sentence&#39;: &#39;0&#39;}),\n",
       "   Annotation(word_embeddings, 37, 38, in, {&#39;isOOV&#39;: &#39;false&#39;, &#39;pieceId&#39;: &#39;-1&#39;, &#39;isWordStart&#39;: &#39;true&#39;, &#39;token&#39;: &#39;in&#39;, &#39;sentence&#39;: &#39;0&#39;}),\n",
       "   Annotation(word_embeddings, 40, 42, New, {&#39;isOOV&#39;: &#39;false&#39;, &#39;pieceId&#39;: &#39;-1&#39;, &#39;isWordStart&#39;: &#39;true&#39;, &#39;token&#39;: &#39;New&#39;, &#39;sentence&#39;: &#39;0&#39;}),\n",
       "   Annotation(word_embeddings, 44, 47, York, {&#39;isOOV&#39;: &#39;false&#39;, &#39;pieceId&#39;: &#39;-1&#39;, &#39;isWordStart&#39;: &#39;true&#39;, &#39;token&#39;: &#39;York&#39;, &#39;sentence&#39;: &#39;0&#39;})],\n",
       "  &#39;sentence&#39;: [Annotation(document, 0, 47, Peter Parker is a nice guy and lives in New York, {&#39;sentence&#39;: &#39;0&#39;})]}]</div>"
      ]
     },
     "metadata": {
      "application/vnd.databricks.v1+output": {
       "addedWidgets": {},
       "arguments": {},
       "data": "<div class=\"ansiout\">Out[41]: [{&#39;entities&#39;: [Annotation(chunk, 0, 11, Peter Parker, {&#39;entity&#39;: &#39;PER&#39;, &#39;sentence&#39;: &#39;0&#39;, &#39;chunk&#39;: &#39;0&#39;}),\n   Annotation(chunk, 40, 47, New York, {&#39;entity&#39;: &#39;LOC&#39;, &#39;sentence&#39;: &#39;0&#39;, &#39;chunk&#39;: &#39;1&#39;})],\n  &#39;stem&#39;: [Annotation(token, 0, 4, peter, {&#39;confidence&#39;: &#39;1.0&#39;, &#39;sentence&#39;: &#39;0&#39;}),\n   Annotation(token, 6, 11, parker, {&#39;confidence&#39;: &#39;1.0&#39;, &#39;sentence&#39;: &#39;0&#39;}),\n   Annotation(token, 13, 14, i, {&#39;confidence&#39;: &#39;1.0&#39;, &#39;sentence&#39;: &#39;0&#39;}),\n   Annotation(token, 16, 16, a, {&#39;confidence&#39;: &#39;1.0&#39;, &#39;sentence&#39;: &#39;0&#39;}),\n   Annotation(token, 18, 21, nice, {&#39;confidence&#39;: &#39;1.0&#39;, &#39;sentence&#39;: &#39;0&#39;}),\n   Annotation(token, 23, 25, gui, {&#39;confidence&#39;: &#39;1.0&#39;, &#39;sentence&#39;: &#39;0&#39;}),\n   Annotation(token, 27, 29, and, {&#39;confidence&#39;: &#39;1.0&#39;, &#39;sentence&#39;: &#39;0&#39;}),\n   Annotation(token, 31, 35, live, {&#39;confidence&#39;: &#39;1.0&#39;, &#39;sentence&#39;: &#39;0&#39;}),\n   Annotation(token, 37, 38, in, {&#39;confidence&#39;: &#39;1.0&#39;, &#39;sentence&#39;: &#39;0&#39;}),\n   Annotation(token, 40, 42, new, {&#39;confidence&#39;: &#39;1.0&#39;, &#39;sentence&#39;: &#39;0&#39;}),\n   Annotation(token, 44, 47, york, {&#39;confidence&#39;: &#39;1.0&#39;, &#39;sentence&#39;: &#39;0&#39;})],\n  &#39;checked&#39;: [Annotation(token, 0, 4, Peter, {&#39;confidence&#39;: &#39;1.0&#39;, &#39;sentence&#39;: &#39;0&#39;}),\n   Annotation(token, 6, 11, Parker, {&#39;confidence&#39;: &#39;1.0&#39;, &#39;sentence&#39;: &#39;0&#39;}),\n   Annotation(token, 13, 14, is, {&#39;confidence&#39;: &#39;1.0&#39;, &#39;sentence&#39;: &#39;0&#39;}),\n   Annotation(token, 16, 16, a, {&#39;confidence&#39;: &#39;1.0&#39;, &#39;sentence&#39;: &#39;0&#39;}),\n   Annotation(token, 18, 21, nice, {&#39;confidence&#39;: &#39;1.0&#39;, &#39;sentence&#39;: &#39;0&#39;}),\n   Annotation(token, 23, 25, guy, {&#39;confidence&#39;: &#39;1.0&#39;, &#39;sentence&#39;: &#39;0&#39;}),\n   Annotation(token, 27, 29, and, {&#39;confidence&#39;: &#39;1.0&#39;, &#39;sentence&#39;: &#39;0&#39;}),\n   Annotation(token, 31, 35, lives, {&#39;confidence&#39;: &#39;1.0&#39;, &#39;sentence&#39;: &#39;0&#39;}),\n   Annotation(token, 37, 38, in, {&#39;confidence&#39;: &#39;1.0&#39;, &#39;sentence&#39;: &#39;0&#39;}),\n   Annotation(token, 40, 42, New, {&#39;confidence&#39;: &#39;1.0&#39;, &#39;sentence&#39;: &#39;0&#39;}),\n   Annotation(token, 44, 47, York, {&#39;confidence&#39;: &#39;1.0&#39;, &#39;sentence&#39;: &#39;0&#39;})],\n  &#39;lemma&#39;: [Annotation(token, 0, 4, Peter, {&#39;confidence&#39;: &#39;1.0&#39;, &#39;sentence&#39;: &#39;0&#39;}),\n   Annotation(token, 6, 11, Parker, {&#39;confidence&#39;: &#39;1.0&#39;, &#39;sentence&#39;: &#39;0&#39;}),\n   Annotation(token, 13, 14, be, {&#39;confidence&#39;: &#39;1.0&#39;, &#39;sentence&#39;: &#39;0&#39;}),\n   Annotation(token, 16, 16, a, {&#39;confidence&#39;: &#39;1.0&#39;, &#39;sentence&#39;: &#39;0&#39;}),\n   Annotation(token, 18, 21, nice, {&#39;confidence&#39;: &#39;1.0&#39;, &#39;sentence&#39;: &#39;0&#39;}),\n   Annotation(token, 23, 25, guy, {&#39;confidence&#39;: &#39;1.0&#39;, &#39;sentence&#39;: &#39;0&#39;}),\n   Annotation(token, 27, 29, and, {&#39;confidence&#39;: &#39;1.0&#39;, &#39;sentence&#39;: &#39;0&#39;}),\n   Annotation(token, 31, 35, life, {&#39;confidence&#39;: &#39;1.0&#39;, &#39;sentence&#39;: &#39;0&#39;}),\n   Annotation(token, 37, 38, in, {&#39;confidence&#39;: &#39;1.0&#39;, &#39;sentence&#39;: &#39;0&#39;}),\n   Annotation(token, 40, 42, New, {&#39;confidence&#39;: &#39;1.0&#39;, &#39;sentence&#39;: &#39;0&#39;}),\n   Annotation(token, 44, 47, York, {&#39;confidence&#39;: &#39;1.0&#39;, &#39;sentence&#39;: &#39;0&#39;})],\n  &#39;document&#39;: [Annotation(document, 0, 47, Peter Parker is a nice guy and lives in New York, {})],\n  &#39;pos&#39;: [Annotation(pos, 0, 4, NNP, {&#39;word&#39;: &#39;Peter&#39;}),\n   Annotation(pos, 6, 11, NNP, {&#39;word&#39;: &#39;Parker&#39;}),\n   Annotation(pos, 13, 14, VBZ, {&#39;word&#39;: &#39;is&#39;}),\n   Annotation(pos, 16, 16, DT, {&#39;word&#39;: &#39;a&#39;}),\n   Annotation(pos, 18, 21, JJ, {&#39;word&#39;: &#39;nice&#39;}),\n   Annotation(pos, 23, 25, NN, {&#39;word&#39;: &#39;guy&#39;}),\n   Annotation(pos, 27, 29, CC, {&#39;word&#39;: &#39;and&#39;}),\n   Annotation(pos, 31, 35, NNS, {&#39;word&#39;: &#39;lives&#39;}),\n   Annotation(pos, 37, 38, IN, {&#39;word&#39;: &#39;in&#39;}),\n   Annotation(pos, 40, 42, NNP, {&#39;word&#39;: &#39;New&#39;}),\n   Annotation(pos, 44, 47, NNP, {&#39;word&#39;: &#39;York&#39;})],\n  &#39;token&#39;: [Annotation(token, 0, 4, Peter, {&#39;sentence&#39;: &#39;0&#39;}),\n   Annotation(token, 6, 11, Parker, {&#39;sentence&#39;: &#39;0&#39;}),\n   Annotation(token, 13, 14, is, {&#39;sentence&#39;: &#39;0&#39;}),\n   Annotation(token, 16, 16, a, {&#39;sentence&#39;: &#39;0&#39;}),\n   Annotation(token, 18, 21, nice, {&#39;sentence&#39;: &#39;0&#39;}),\n   Annotation(token, 23, 25, guy, {&#39;sentence&#39;: &#39;0&#39;}),\n   Annotation(token, 27, 29, and, {&#39;sentence&#39;: &#39;0&#39;}),\n   Annotation(token, 31, 35, lives, {&#39;sentence&#39;: &#39;0&#39;}),\n   Annotation(token, 37, 38, in, {&#39;sentence&#39;: &#39;0&#39;}),\n   Annotation(token, 40, 42, New, {&#39;sentence&#39;: &#39;0&#39;}),\n   Annotation(token, 44, 47, York, {&#39;sentence&#39;: &#39;0&#39;})],\n  &#39;ner&#39;: [Annotation(named_entity, 0, 4, B-PER, {&#39;word&#39;: &#39;Peter&#39;}),\n   Annotation(named_entity, 6, 11, I-PER, {&#39;word&#39;: &#39;Parker&#39;}),\n   Annotation(named_entity, 13, 14, O, {&#39;word&#39;: &#39;is&#39;}),\n   Annotation(named_entity, 16, 16, O, {&#39;word&#39;: &#39;a&#39;}),\n   Annotation(named_entity, 18, 21, O, {&#39;word&#39;: &#39;nice&#39;}),\n   Annotation(named_entity, 23, 25, O, {&#39;word&#39;: &#39;guy&#39;}),\n   Annotation(named_entity, 27, 29, O, {&#39;word&#39;: &#39;and&#39;}),\n   Annotation(named_entity, 31, 35, O, {&#39;word&#39;: &#39;lives&#39;}),\n   Annotation(named_entity, 37, 38, O, {&#39;word&#39;: &#39;in&#39;}),\n   Annotation(named_entity, 40, 42, B-LOC, {&#39;word&#39;: &#39;New&#39;}),\n   Annotation(named_entity, 44, 47, I-LOC, {&#39;word&#39;: &#39;York&#39;})],\n  &#39;embeddings&#39;: [Annotation(word_embeddings, 0, 4, Peter, {&#39;isOOV&#39;: &#39;false&#39;, &#39;pieceId&#39;: &#39;-1&#39;, &#39;isWordStart&#39;: &#39;true&#39;, &#39;token&#39;: &#39;Peter&#39;, &#39;sentence&#39;: &#39;0&#39;}),\n   Annotation(word_embeddings, 6, 11, Parker, {&#39;isOOV&#39;: &#39;false&#39;, &#39;pieceId&#39;: &#39;-1&#39;, &#39;isWordStart&#39;: &#39;true&#39;, &#39;token&#39;: &#39;Parker&#39;, &#39;sentence&#39;: &#39;0&#39;}),\n   Annotation(word_embeddings, 13, 14, is, {&#39;isOOV&#39;: &#39;false&#39;, &#39;pieceId&#39;: &#39;-1&#39;, &#39;isWordStart&#39;: &#39;true&#39;, &#39;token&#39;: &#39;is&#39;, &#39;sentence&#39;: &#39;0&#39;}),\n   Annotation(word_embeddings, 16, 16, a, {&#39;isOOV&#39;: &#39;false&#39;, &#39;pieceId&#39;: &#39;-1&#39;, &#39;isWordStart&#39;: &#39;true&#39;, &#39;token&#39;: &#39;a&#39;, &#39;sentence&#39;: &#39;0&#39;}),\n   Annotation(word_embeddings, 18, 21, nice, {&#39;isOOV&#39;: &#39;false&#39;, &#39;pieceId&#39;: &#39;-1&#39;, &#39;isWordStart&#39;: &#39;true&#39;, &#39;token&#39;: &#39;nice&#39;, &#39;sentence&#39;: &#39;0&#39;}),\n   Annotation(word_embeddings, 23, 25, guy, {&#39;isOOV&#39;: &#39;false&#39;, &#39;pieceId&#39;: &#39;-1&#39;, &#39;isWordStart&#39;: &#39;true&#39;, &#39;token&#39;: &#39;guy&#39;, &#39;sentence&#39;: &#39;0&#39;}),\n   Annotation(word_embeddings, 27, 29, and, {&#39;isOOV&#39;: &#39;false&#39;, &#39;pieceId&#39;: &#39;-1&#39;, &#39;isWordStart&#39;: &#39;true&#39;, &#39;token&#39;: &#39;and&#39;, &#39;sentence&#39;: &#39;0&#39;}),\n   Annotation(word_embeddings, 31, 35, lives, {&#39;isOOV&#39;: &#39;false&#39;, &#39;pieceId&#39;: &#39;-1&#39;, &#39;isWordStart&#39;: &#39;true&#39;, &#39;token&#39;: &#39;lives&#39;, &#39;sentence&#39;: &#39;0&#39;}),\n   Annotation(word_embeddings, 37, 38, in, {&#39;isOOV&#39;: &#39;false&#39;, &#39;pieceId&#39;: &#39;-1&#39;, &#39;isWordStart&#39;: &#39;true&#39;, &#39;token&#39;: &#39;in&#39;, &#39;sentence&#39;: &#39;0&#39;}),\n   Annotation(word_embeddings, 40, 42, New, {&#39;isOOV&#39;: &#39;false&#39;, &#39;pieceId&#39;: &#39;-1&#39;, &#39;isWordStart&#39;: &#39;true&#39;, &#39;token&#39;: &#39;New&#39;, &#39;sentence&#39;: &#39;0&#39;}),\n   Annotation(word_embeddings, 44, 47, York, {&#39;isOOV&#39;: &#39;false&#39;, &#39;pieceId&#39;: &#39;-1&#39;, &#39;isWordStart&#39;: &#39;true&#39;, &#39;token&#39;: &#39;York&#39;, &#39;sentence&#39;: &#39;0&#39;})],\n  &#39;sentence&#39;: [Annotation(document, 0, 47, Peter Parker is a nice guy and lives in New York, {&#39;sentence&#39;: &#39;0&#39;})]}]</div>",
       "datasetInfos": [],
       "removedWidgets": [],
       "type": "html"
      }
     },
     "output_type": "display_data"
    }
   ],
   "source": [
    "detailed_result"
   ]
  },
  {
   "cell_type": "code",
   "execution_count": 0,
   "metadata": {
    "application/vnd.databricks.v1+cell": {
     "inputWidgets": {},
     "nuid": "e2454e42-3147-471f-9f4c-e24b271c04be",
     "showTitle": false,
     "title": ""
    }
   },
   "outputs": [
    {
     "data": {
      "text/html": [
       "<style scoped>\n",
       "  .ansiout {\n",
       "    display: block;\n",
       "    unicode-bidi: embed;\n",
       "    white-space: pre-wrap;\n",
       "    word-wrap: break-word;\n",
       "    word-break: break-all;\n",
       "    font-family: \"Source Code Pro\", \"Menlo\", monospace;;\n",
       "    font-size: 13px;\n",
       "    color: #555;\n",
       "    margin-left: 4px;\n",
       "    line-height: 19px;\n",
       "  }\n",
       "</style>\n",
       "<div class=\"ansiout\">Out[42]: [Annotation(chunk, 0, 11, Peter Parker, {&#39;entity&#39;: &#39;PER&#39;, &#39;sentence&#39;: &#39;0&#39;, &#39;chunk&#39;: &#39;0&#39;}),\n",
       " Annotation(chunk, 40, 47, New York, {&#39;entity&#39;: &#39;LOC&#39;, &#39;sentence&#39;: &#39;0&#39;, &#39;chunk&#39;: &#39;1&#39;})]</div>"
      ]
     },
     "metadata": {
      "application/vnd.databricks.v1+output": {
       "addedWidgets": {},
       "arguments": {},
       "data": "<div class=\"ansiout\">Out[42]: [Annotation(chunk, 0, 11, Peter Parker, {&#39;entity&#39;: &#39;PER&#39;, &#39;sentence&#39;: &#39;0&#39;, &#39;chunk&#39;: &#39;0&#39;}),\n Annotation(chunk, 40, 47, New York, {&#39;entity&#39;: &#39;LOC&#39;, &#39;sentence&#39;: &#39;0&#39;, &#39;chunk&#39;: &#39;1&#39;})]</div>",
       "datasetInfos": [],
       "removedWidgets": [],
       "type": "html"
      }
     },
     "output_type": "display_data"
    }
   ],
   "source": [
    "detailed_result[0]['entities']"
   ]
  },
  {
   "cell_type": "code",
   "execution_count": 0,
   "metadata": {
    "application/vnd.databricks.v1+cell": {
     "inputWidgets": {},
     "nuid": "34a93877-8bee-4515-8653-cf312a7d3f13",
     "showTitle": false,
     "title": ""
    }
   },
   "outputs": [
    {
     "data": {
      "text/html": [
       "<style scoped>\n",
       "  .ansiout {\n",
       "    display: block;\n",
       "    unicode-bidi: embed;\n",
       "    white-space: pre-wrap;\n",
       "    word-wrap: break-word;\n",
       "    word-break: break-all;\n",
       "    font-family: \"Source Code Pro\", \"Menlo\", monospace;;\n",
       "    font-size: 13px;\n",
       "    color: #555;\n",
       "    margin-left: 4px;\n",
       "    line-height: 19px;\n",
       "  }\n",
       "</style>\n",
       "<div class=\"ansiout\">Out[43]: &#39;Peter Parker&#39;</div>"
      ]
     },
     "metadata": {
      "application/vnd.databricks.v1+output": {
       "addedWidgets": {},
       "arguments": {},
       "data": "<div class=\"ansiout\">Out[43]: &#39;Peter Parker&#39;</div>",
       "datasetInfos": [],
       "removedWidgets": [],
       "type": "html"
      }
     },
     "output_type": "display_data"
    }
   ],
   "source": [
    "detailed_result[0]['entities'][0].result"
   ]
  },
  {
   "cell_type": "code",
   "execution_count": 0,
   "metadata": {
    "application/vnd.databricks.v1+cell": {
     "inputWidgets": {},
     "nuid": "730b380e-b451-4d96-893a-23c310c2f7cb",
     "showTitle": false,
     "title": ""
    }
   },
   "outputs": [
    {
     "data": {
      "text/html": [
       "<style scoped>\n",
       "  .ansiout {\n",
       "    display: block;\n",
       "    unicode-bidi: embed;\n",
       "    white-space: pre-wrap;\n",
       "    word-wrap: break-word;\n",
       "    word-break: break-all;\n",
       "    font-family: \"Source Code Pro\", \"Menlo\", monospace;;\n",
       "    font-size: 13px;\n",
       "    color: #555;\n",
       "    margin-left: 4px;\n",
       "    line-height: 19px;\n",
       "  }\n",
       "</style>\n",
       "<div class=\"ansiout\">Out[44]: </div>"
      ]
     },
     "metadata": {
      "application/vnd.databricks.v1+output": {
       "addedWidgets": {},
       "arguments": {},
       "data": "<div class=\"ansiout\">Out[44]: </div>",
       "datasetInfos": [],
       "removedWidgets": [],
       "type": "html"
      }
     },
     "output_type": "display_data"
    },
    {
     "data": {
      "text/html": [
       "<div>\n",
       "<style scoped>\n",
       "    .dataframe tbody tr th:only-of-type {\n",
       "        vertical-align: middle;\n",
       "    }\n",
       "\n",
       "    .dataframe tbody tr th {\n",
       "        vertical-align: top;\n",
       "    }\n",
       "\n",
       "    .dataframe thead th {\n",
       "        text-align: right;\n",
       "    }\n",
       "</style>\n",
       "<table border=\"1\" class=\"dataframe\">\n",
       "  <thead>\n",
       "    <tr style=\"text-align: right;\">\n",
       "      <th></th>\n",
       "      <th>chunks</th>\n",
       "      <th>entities</th>\n",
       "    </tr>\n",
       "  </thead>\n",
       "  <tbody>\n",
       "    <tr>\n",
       "      <th>0</th>\n",
       "      <td>Peter Parker</td>\n",
       "      <td>PER</td>\n",
       "    </tr>\n",
       "    <tr>\n",
       "      <th>1</th>\n",
       "      <td>New York</td>\n",
       "      <td>LOC</td>\n",
       "    </tr>\n",
       "  </tbody>\n",
       "</table>\n",
       "</div>"
      ]
     },
     "metadata": {
      "application/vnd.databricks.v1+output": {
       "addedWidgets": {},
       "arguments": {},
       "data": "<div>\n<style scoped>\n    .dataframe tbody tr th:only-of-type {\n        vertical-align: middle;\n    }\n\n    .dataframe tbody tr th {\n        vertical-align: top;\n    }\n\n    .dataframe thead th {\n        text-align: right;\n    }\n</style>\n<table border=\"1\" class=\"dataframe\">\n  <thead>\n    <tr style=\"text-align: right;\">\n      <th></th>\n      <th>chunks</th>\n      <th>entities</th>\n    </tr>\n  </thead>\n  <tbody>\n    <tr>\n      <th>0</th>\n      <td>Peter Parker</td>\n      <td>PER</td>\n    </tr>\n    <tr>\n      <th>1</th>\n      <td>New York</td>\n      <td>LOC</td>\n    </tr>\n  </tbody>\n</table>\n</div>",
       "datasetInfos": [],
       "removedWidgets": [],
       "textData": null,
       "type": "htmlSandbox"
      }
     },
     "output_type": "display_data"
    }
   ],
   "source": [
    "chunks=[]\n",
    "entities=[]\n",
    "for n in detailed_result[0]['entities']:\n",
    "        \n",
    "  chunks.append(n.result)\n",
    "  entities.append(n.metadata['entity']) \n",
    "    \n",
    "df = pd.DataFrame({'chunks':chunks, 'entities':entities})\n",
    "df    "
   ]
  },
  {
   "cell_type": "code",
   "execution_count": 0,
   "metadata": {
    "application/vnd.databricks.v1+cell": {
     "inputWidgets": {},
     "nuid": "1e23a4d4-bf41-4a34-b993-20ea68b65265",
     "showTitle": false,
     "title": ""
    }
   },
   "outputs": [
    {
     "data": {
      "text/html": [
       "<style scoped>\n",
       "  .ansiout {\n",
       "    display: block;\n",
       "    unicode-bidi: embed;\n",
       "    white-space: pre-wrap;\n",
       "    word-wrap: break-word;\n",
       "    word-break: break-all;\n",
       "    font-family: \"Source Code Pro\", \"Menlo\", monospace;;\n",
       "    font-size: 13px;\n",
       "    color: #555;\n",
       "    margin-left: 4px;\n",
       "    line-height: 19px;\n",
       "  }\n",
       "</style>\n",
       "<div class=\"ansiout\">Out[45]: </div>"
      ]
     },
     "metadata": {
      "application/vnd.databricks.v1+output": {
       "addedWidgets": {},
       "arguments": {},
       "data": "<div class=\"ansiout\">Out[45]: </div>",
       "datasetInfos": [],
       "removedWidgets": [],
       "type": "html"
      }
     },
     "output_type": "display_data"
    },
    {
     "data": {
      "text/html": [
       "<div>\n",
       "<style scoped>\n",
       "    .dataframe tbody tr th:only-of-type {\n",
       "        vertical-align: middle;\n",
       "    }\n",
       "\n",
       "    .dataframe tbody tr th {\n",
       "        vertical-align: top;\n",
       "    }\n",
       "\n",
       "    .dataframe thead th {\n",
       "        text-align: right;\n",
       "    }\n",
       "</style>\n",
       "<table border=\"1\" class=\"dataframe\">\n",
       "  <thead>\n",
       "    <tr style=\"text-align: right;\">\n",
       "      <th></th>\n",
       "      <th>sent_id</th>\n",
       "      <th>token</th>\n",
       "      <th>start</th>\n",
       "      <th>end</th>\n",
       "      <th>pos</th>\n",
       "      <th>ner</th>\n",
       "    </tr>\n",
       "  </thead>\n",
       "  <tbody>\n",
       "    <tr>\n",
       "      <th>0</th>\n",
       "      <td>0</td>\n",
       "      <td>Peter</td>\n",
       "      <td>0</td>\n",
       "      <td>4</td>\n",
       "      <td>NNP</td>\n",
       "      <td>B-PER</td>\n",
       "    </tr>\n",
       "    <tr>\n",
       "      <th>1</th>\n",
       "      <td>0</td>\n",
       "      <td>Parker</td>\n",
       "      <td>6</td>\n",
       "      <td>11</td>\n",
       "      <td>NNP</td>\n",
       "      <td>I-PER</td>\n",
       "    </tr>\n",
       "    <tr>\n",
       "      <th>2</th>\n",
       "      <td>0</td>\n",
       "      <td>is</td>\n",
       "      <td>13</td>\n",
       "      <td>14</td>\n",
       "      <td>VBZ</td>\n",
       "      <td>O</td>\n",
       "    </tr>\n",
       "    <tr>\n",
       "      <th>3</th>\n",
       "      <td>0</td>\n",
       "      <td>a</td>\n",
       "      <td>16</td>\n",
       "      <td>16</td>\n",
       "      <td>DT</td>\n",
       "      <td>O</td>\n",
       "    </tr>\n",
       "    <tr>\n",
       "      <th>4</th>\n",
       "      <td>0</td>\n",
       "      <td>nice</td>\n",
       "      <td>18</td>\n",
       "      <td>21</td>\n",
       "      <td>JJ</td>\n",
       "      <td>O</td>\n",
       "    </tr>\n",
       "    <tr>\n",
       "      <th>5</th>\n",
       "      <td>0</td>\n",
       "      <td>guy</td>\n",
       "      <td>23</td>\n",
       "      <td>25</td>\n",
       "      <td>NN</td>\n",
       "      <td>O</td>\n",
       "    </tr>\n",
       "    <tr>\n",
       "      <th>6</th>\n",
       "      <td>0</td>\n",
       "      <td>and</td>\n",
       "      <td>27</td>\n",
       "      <td>29</td>\n",
       "      <td>CC</td>\n",
       "      <td>O</td>\n",
       "    </tr>\n",
       "    <tr>\n",
       "      <th>7</th>\n",
       "      <td>0</td>\n",
       "      <td>lives</td>\n",
       "      <td>31</td>\n",
       "      <td>35</td>\n",
       "      <td>NNS</td>\n",
       "      <td>O</td>\n",
       "    </tr>\n",
       "    <tr>\n",
       "      <th>8</th>\n",
       "      <td>0</td>\n",
       "      <td>in</td>\n",
       "      <td>37</td>\n",
       "      <td>38</td>\n",
       "      <td>IN</td>\n",
       "      <td>O</td>\n",
       "    </tr>\n",
       "    <tr>\n",
       "      <th>9</th>\n",
       "      <td>0</td>\n",
       "      <td>New</td>\n",
       "      <td>40</td>\n",
       "      <td>42</td>\n",
       "      <td>NNP</td>\n",
       "      <td>B-LOC</td>\n",
       "    </tr>\n",
       "    <tr>\n",
       "      <th>10</th>\n",
       "      <td>0</td>\n",
       "      <td>York</td>\n",
       "      <td>44</td>\n",
       "      <td>47</td>\n",
       "      <td>NNP</td>\n",
       "      <td>I-LOC</td>\n",
       "    </tr>\n",
       "  </tbody>\n",
       "</table>\n",
       "</div>"
      ]
     },
     "metadata": {
      "application/vnd.databricks.v1+output": {
       "addedWidgets": {},
       "arguments": {},
       "data": "<div>\n<style scoped>\n    .dataframe tbody tr th:only-of-type {\n        vertical-align: middle;\n    }\n\n    .dataframe tbody tr th {\n        vertical-align: top;\n    }\n\n    .dataframe thead th {\n        text-align: right;\n    }\n</style>\n<table border=\"1\" class=\"dataframe\">\n  <thead>\n    <tr style=\"text-align: right;\">\n      <th></th>\n      <th>sent_id</th>\n      <th>token</th>\n      <th>start</th>\n      <th>end</th>\n      <th>pos</th>\n      <th>ner</th>\n    </tr>\n  </thead>\n  <tbody>\n    <tr>\n      <th>0</th>\n      <td>0</td>\n      <td>Peter</td>\n      <td>0</td>\n      <td>4</td>\n      <td>NNP</td>\n      <td>B-PER</td>\n    </tr>\n    <tr>\n      <th>1</th>\n      <td>0</td>\n      <td>Parker</td>\n      <td>6</td>\n      <td>11</td>\n      <td>NNP</td>\n      <td>I-PER</td>\n    </tr>\n    <tr>\n      <th>2</th>\n      <td>0</td>\n      <td>is</td>\n      <td>13</td>\n      <td>14</td>\n      <td>VBZ</td>\n      <td>O</td>\n    </tr>\n    <tr>\n      <th>3</th>\n      <td>0</td>\n      <td>a</td>\n      <td>16</td>\n      <td>16</td>\n      <td>DT</td>\n      <td>O</td>\n    </tr>\n    <tr>\n      <th>4</th>\n      <td>0</td>\n      <td>nice</td>\n      <td>18</td>\n      <td>21</td>\n      <td>JJ</td>\n      <td>O</td>\n    </tr>\n    <tr>\n      <th>5</th>\n      <td>0</td>\n      <td>guy</td>\n      <td>23</td>\n      <td>25</td>\n      <td>NN</td>\n      <td>O</td>\n    </tr>\n    <tr>\n      <th>6</th>\n      <td>0</td>\n      <td>and</td>\n      <td>27</td>\n      <td>29</td>\n      <td>CC</td>\n      <td>O</td>\n    </tr>\n    <tr>\n      <th>7</th>\n      <td>0</td>\n      <td>lives</td>\n      <td>31</td>\n      <td>35</td>\n      <td>NNS</td>\n      <td>O</td>\n    </tr>\n    <tr>\n      <th>8</th>\n      <td>0</td>\n      <td>in</td>\n      <td>37</td>\n      <td>38</td>\n      <td>IN</td>\n      <td>O</td>\n    </tr>\n    <tr>\n      <th>9</th>\n      <td>0</td>\n      <td>New</td>\n      <td>40</td>\n      <td>42</td>\n      <td>NNP</td>\n      <td>B-LOC</td>\n    </tr>\n    <tr>\n      <th>10</th>\n      <td>0</td>\n      <td>York</td>\n      <td>44</td>\n      <td>47</td>\n      <td>NNP</td>\n      <td>I-LOC</td>\n    </tr>\n  </tbody>\n</table>\n</div>",
       "datasetInfos": [],
       "removedWidgets": [],
       "textData": null,
       "type": "htmlSandbox"
      }
     },
     "output_type": "display_data"
    }
   ],
   "source": [
    "tuples = []\n",
    "\n",
    "for x,y,z in zip(detailed_result[0][\"token\"], detailed_result[0][\"pos\"], detailed_result[0][\"ner\"]):\n",
    "\n",
    "  tuples.append((int(x.metadata['sentence']), x.result, x.begin, x.end, y.result, z.result))\n",
    "\n",
    "df = pd.DataFrame(tuples, columns=['sent_id','token','start','end','pos', 'ner'])\n",
    "\n",
    "df\n"
   ]
  },
  {
   "cell_type": "markdown",
   "metadata": {
    "application/vnd.databricks.v1+cell": {
     "inputWidgets": {},
     "nuid": "6f7cf4f0-1d80-42e1-b32b-8b3c03d46566",
     "showTitle": false,
     "title": ""
    }
   },
   "source": [
    "### Sentiment Analysis"
   ]
  },
  {
   "cell_type": "markdown",
   "metadata": {
    "application/vnd.databricks.v1+cell": {
     "inputWidgets": {},
     "nuid": "410b66c6-952b-428f-ac06-5d980c451d87",
     "showTitle": false,
     "title": ""
    }
   },
   "source": [
    "#### Vivek algo\n",
    "\n",
    "paper: `Fast and accurate sentiment classification using an enhanced Naive Bayes model`\n",
    "\n",
    "https://arxiv.org/abs/1305.6143\n",
    "\n",
    "code `https://github.com/vivekn/sentiment`"
   ]
  },
  {
   "cell_type": "code",
   "execution_count": 0,
   "metadata": {
    "application/vnd.databricks.v1+cell": {
     "inputWidgets": {},
     "nuid": "905da929-d177-4deb-b58e-37337f14f565",
     "showTitle": false,
     "title": ""
    }
   },
   "outputs": [
    {
     "data": {
      "text/html": [
       "<style scoped>\n",
       "  .ansiout {\n",
       "    display: block;\n",
       "    unicode-bidi: embed;\n",
       "    white-space: pre-wrap;\n",
       "    word-wrap: break-word;\n",
       "    word-break: break-all;\n",
       "    font-family: \"Source Code Pro\", \"Menlo\", monospace;;\n",
       "    font-size: 13px;\n",
       "    color: #555;\n",
       "    margin-left: 4px;\n",
       "    line-height: 19px;\n",
       "  }\n",
       "</style>\n",
       "<div class=\"ansiout\">analyze_sentiment download started this may take some time.\n",
       "Approx size to download 4.9 MB\n",
       "\r",
       "[ | ]\r",
       "[ / ]\r",
       "[ — ]\r",
       "[ \\ ]\r",
       "[ | ]\r",
       "[ / ]\r",
       "[ — ]\r",
       "[ \\ ]\r",
       "[ | ]\r",
       "[ / ]\r",
       "[OK!]\n",
       "</div>"
      ]
     },
     "metadata": {
      "application/vnd.databricks.v1+output": {
       "addedWidgets": {},
       "arguments": {},
       "data": "<div class=\"ansiout\">analyze_sentiment download started this may take some time.\nApprox size to download 4.9 MB\n\r[ | ]\r[ / ]\r[ — ]\r[ \\ ]\r[ | ]\r[ / ]\r[ — ]\r[ \\ ]\r[ | ]\r[ / ]\r[OK!]\n</div>",
       "datasetInfos": [],
       "removedWidgets": [],
       "type": "html"
      }
     },
     "output_type": "display_data"
    }
   ],
   "source": [
    "sentiment = PretrainedPipeline('analyze_sentiment', lang='en')"
   ]
  },
  {
   "cell_type": "code",
   "execution_count": 0,
   "metadata": {
    "application/vnd.databricks.v1+cell": {
     "inputWidgets": {},
     "nuid": "23b7b7e1-3548-45ac-aa08-6d15d49b2f04",
     "showTitle": false,
     "title": ""
    }
   },
   "outputs": [
    {
     "data": {
      "text/html": [
       "<style scoped>\n",
       "  .ansiout {\n",
       "    display: block;\n",
       "    unicode-bidi: embed;\n",
       "    white-space: pre-wrap;\n",
       "    word-wrap: break-word;\n",
       "    word-break: break-all;\n",
       "    font-family: \"Source Code Pro\", \"Menlo\", monospace;;\n",
       "    font-size: 13px;\n",
       "    color: #555;\n",
       "    margin-left: 4px;\n",
       "    line-height: 19px;\n",
       "  }\n",
       "</style>\n",
       "<div class=\"ansiout\">Out[59]: [&#39;negative&#39;]</div>"
      ]
     },
     "metadata": {
      "application/vnd.databricks.v1+output": {
       "addedWidgets": {},
       "arguments": {},
       "data": "<div class=\"ansiout\">Out[59]: [&#39;negative&#39;]</div>",
       "datasetInfos": [],
       "removedWidgets": [],
       "type": "html"
      }
     },
     "output_type": "display_data"
    }
   ],
   "source": [
    "result = sentiment.annotate(\"The movie I watched today was not a good one\")\n",
    "\n",
    "result['sentiment']"
   ]
  },
  {
   "cell_type": "markdown",
   "metadata": {
    "application/vnd.databricks.v1+cell": {
     "inputWidgets": {},
     "nuid": "d4b82155-f4b0-4d51-ad4c-ead2f984378f",
     "showTitle": false,
     "title": ""
    }
   },
   "source": [
    "#### DL version (trained on imdb)"
   ]
  },
  {
   "cell_type": "code",
   "execution_count": 0,
   "metadata": {
    "application/vnd.databricks.v1+cell": {
     "inputWidgets": {},
     "nuid": "cc186f11-dad8-4e1d-afa7-aa1eee4ae6a4",
     "showTitle": false,
     "title": ""
    }
   },
   "outputs": [
    {
     "data": {
      "text/html": [
       "<style scoped>\n",
       "  .ansiout {\n",
       "    display: block;\n",
       "    unicode-bidi: embed;\n",
       "    white-space: pre-wrap;\n",
       "    word-wrap: break-word;\n",
       "    word-break: break-all;\n",
       "    font-family: \"Source Code Pro\", \"Menlo\", monospace;;\n",
       "    font-size: 13px;\n",
       "    color: #555;\n",
       "    margin-left: 4px;\n",
       "    line-height: 19px;\n",
       "  }\n",
       "</style>\n",
       "<div class=\"ansiout\">analyze_sentimentdl_use_imdb download started this may take some time.\n",
       "Approx size to download 935.7 MB\n",
       "\r",
       "[ | ]\r",
       "[ / ]\r",
       "[ — ]\r",
       "[ \\ ]\r",
       "[ | ]\r",
       "[ / ]\r",
       "[ — ]\r",
       "[ \\ ]\r",
       "[ | ]\r",
       "[ / ]\r",
       "[ — ]\r",
       "[ \\ ]\r",
       "[ | ]\r",
       "[ / ]\r",
       "[ — ]\r",
       "[ \\ ]\r",
       "[ | ]\r",
       "[ / ]\r",
       "[ — ]\r",
       "[ \\ ]\r",
       "[ | ]\r",
       "[ / ]\r",
       "[ — ]\r",
       "[ \\ ]\r",
       "[ | ]\r",
       "[ / ]\r",
       "[ — ]\r",
       "[ \\ ]\r",
       "[ | ]\r",
       "[ / ]\r",
       "[ — ]\r",
       "[ \\ ]\r",
       "[ | ]\r",
       "[ / ]\r",
       "[ — ]\r",
       "[ \\ ]\r",
       "[ | ]\r",
       "[ / ]\r",
       "[ — ]\r",
       "[ \\ ]\r",
       "[ | ]\r",
       "[ / ]\r",
       "[ — ]\r",
       "[ \\ ]\r",
       "[ | ]\r",
       "[ / ]\r",
       "[ — ]\r",
       "[ \\ ]\r",
       "[ | ]\r",
       "[ / ]\r",
       "[ — ]\r",
       "[ \\ ]\r",
       "[ | ]\r",
       "[ / ]\r",
       "[ — ]\r",
       "[ \\ ]\r",
       "[ | ]\r",
       "[ / ]\r",
       "[OK!]\n",
       "</div>"
      ]
     },
     "metadata": {
      "application/vnd.databricks.v1+output": {
       "addedWidgets": {},
       "arguments": {},
       "data": "<div class=\"ansiout\">analyze_sentimentdl_use_imdb download started this may take some time.\nApprox size to download 935.7 MB\n\r[ | ]\r[ / ]\r[ — ]\r[ \\ ]\r[ | ]\r[ / ]\r[ — ]\r[ \\ ]\r[ | ]\r[ / ]\r[ — ]\r[ \\ ]\r[ | ]\r[ / ]\r[ — ]\r[ \\ ]\r[ | ]\r[ / ]\r[ — ]\r[ \\ ]\r[ | ]\r[ / ]\r[ — ]\r[ \\ ]\r[ | ]\r[ / ]\r[ — ]\r[ \\ ]\r[ | ]\r[ / ]\r[ — ]\r[ \\ ]\r[ | ]\r[ / ]\r[ — ]\r[ \\ ]\r[ | ]\r[ / ]\r[ — ]\r[ \\ ]\r[ | ]\r[ / ]\r[ — ]\r[ \\ ]\r[ | ]\r[ / ]\r[ — ]\r[ \\ ]\r[ | ]\r[ / ]\r[ — ]\r[ \\ ]\r[ | ]\r[ / ]\r[ — ]\r[ \\ ]\r[ | ]\r[ / ]\r[OK!]\n</div>",
       "datasetInfos": [],
       "removedWidgets": [],
       "type": "html"
      }
     },
     "output_type": "display_data"
    }
   ],
   "source": [
    "sentiment_imdb = PretrainedPipeline('analyze_sentimentdl_use_imdb', lang='en')"
   ]
  },
  {
   "cell_type": "code",
   "execution_count": 0,
   "metadata": {
    "application/vnd.databricks.v1+cell": {
     "inputWidgets": {},
     "nuid": "bb228ea9-9255-4add-b030-58b24d47b273",
     "showTitle": false,
     "title": ""
    }
   },
   "outputs": [
    {
     "data": {
      "text/html": [
       "<style scoped>\n",
       "  .ansiout {\n",
       "    display: block;\n",
       "    unicode-bidi: embed;\n",
       "    white-space: pre-wrap;\n",
       "    word-wrap: break-word;\n",
       "    word-break: break-all;\n",
       "    font-family: \"Source Code Pro\", \"Menlo\", monospace;;\n",
       "    font-size: 13px;\n",
       "    color: #555;\n",
       "    margin-left: 4px;\n",
       "    line-height: 19px;\n",
       "  }\n",
       "</style>\n",
       "<div class=\"ansiout\">analyze_sentimentdl_glove_imdb download started this may take some time.\n",
       "Approx size to download 155.3 MB\n",
       "\r",
       "[ | ]\r",
       "[ / ]\r",
       "[ — ]\r",
       "[ \\ ]\r",
       "[ | ]\r",
       "[ / ]\r",
       "[ — ]\r",
       "[ \\ ]\r",
       "[ | ]\r",
       "[ / ]\r",
       "[ — ]\r",
       "[ \\ ]\r",
       "[ | ]\r",
       "[ / ]\r",
       "[ — ]\r",
       "[ \\ ]\r",
       "[ | ]\r",
       "[ / ]\r",
       "[ — ]\r",
       "[ \\ ]\r",
       "[ | ]\r",
       "[ / ]\r",
       "[OK!]\n",
       "</div>"
      ]
     },
     "metadata": {
      "application/vnd.databricks.v1+output": {
       "addedWidgets": {},
       "arguments": {},
       "data": "<div class=\"ansiout\">analyze_sentimentdl_glove_imdb download started this may take some time.\nApprox size to download 155.3 MB\n\r[ | ]\r[ / ]\r[ — ]\r[ \\ ]\r[ | ]\r[ / ]\r[ — ]\r[ \\ ]\r[ | ]\r[ / ]\r[ — ]\r[ \\ ]\r[ | ]\r[ / ]\r[ — ]\r[ \\ ]\r[ | ]\r[ / ]\r[ — ]\r[ \\ ]\r[ | ]\r[ / ]\r[OK!]\n</div>",
       "datasetInfos": [],
       "removedWidgets": [],
       "type": "html"
      }
     },
     "output_type": "display_data"
    }
   ],
   "source": [
    "sentiment_imdb_glove = PretrainedPipeline('analyze_sentimentdl_glove_imdb', lang='en')"
   ]
  },
  {
   "cell_type": "code",
   "execution_count": 0,
   "metadata": {
    "application/vnd.databricks.v1+cell": {
     "inputWidgets": {},
     "nuid": "f8a945be-01b0-40d2-9f89-86323e11dbf7",
     "showTitle": false,
     "title": ""
    }
   },
   "outputs": [
    {
     "data": {
      "text/html": [
       "<style scoped>\n",
       "  .ansiout {\n",
       "    display: block;\n",
       "    unicode-bidi: embed;\n",
       "    white-space: pre-wrap;\n",
       "    word-wrap: break-word;\n",
       "    word-break: break-all;\n",
       "    font-family: \"Source Code Pro\", \"Menlo\", monospace;;\n",
       "    font-size: 13px;\n",
       "    color: #555;\n",
       "    margin-left: 4px;\n",
       "    line-height: 19px;\n",
       "  }\n",
       "</style>\n",
       "<div class=\"ansiout\">Out[62]: [&#39;pos&#39;]</div>"
      ]
     },
     "metadata": {
      "application/vnd.databricks.v1+output": {
       "addedWidgets": {},
       "arguments": {},
       "data": "<div class=\"ansiout\">Out[62]: [&#39;pos&#39;]</div>",
       "datasetInfos": [],
       "removedWidgets": [],
       "type": "html"
      }
     },
     "output_type": "display_data"
    }
   ],
   "source": [
    "comment = '''\n",
    "It's a very scary film but what impressed me was how true the film sticks to the original's tricks; it isn't filled with loud in-your-face jump scares, in fact, a lot of what makes this film scary is the slick cinematography and intricate shadow play. The use of lighting and creation of atmosphere is what makes this film so tense, which is why it's perfectly suited for those who like Horror movies but without the obnoxious gore.\n",
    "'''\n",
    "result = sentiment_imdb_glove.annotate(comment)\n",
    "\n",
    "result['sentiment']"
   ]
  },
  {
   "cell_type": "code",
   "execution_count": 0,
   "metadata": {
    "application/vnd.databricks.v1+cell": {
     "inputWidgets": {},
     "nuid": "594ea587-012f-4c1b-b6d4-c39ca882f831",
     "showTitle": false,
     "title": ""
    }
   },
   "outputs": [
    {
     "data": {
      "text/html": [
       "<style scoped>\n",
       "  .ansiout {\n",
       "    display: block;\n",
       "    unicode-bidi: embed;\n",
       "    white-space: pre-wrap;\n",
       "    word-wrap: break-word;\n",
       "    word-break: break-all;\n",
       "    font-family: \"Source Code Pro\", \"Menlo\", monospace;;\n",
       "    font-size: 13px;\n",
       "    color: #555;\n",
       "    margin-left: 4px;\n",
       "    line-height: 19px;\n",
       "  }\n",
       "</style>\n",
       "<div class=\"ansiout\">Out[63]: [Annotation(category, 0, 433, pos, {&#39;sentence&#39;: &#39;0&#39;, &#39;pos&#39;: &#39;0.98675287&#39;, &#39;neg&#39;: &#39;0.013247096&#39;})]</div>"
      ]
     },
     "metadata": {
      "application/vnd.databricks.v1+output": {
       "addedWidgets": {},
       "arguments": {},
       "data": "<div class=\"ansiout\">Out[63]: [Annotation(category, 0, 433, pos, {&#39;sentence&#39;: &#39;0&#39;, &#39;pos&#39;: &#39;0.98675287&#39;, &#39;neg&#39;: &#39;0.013247096&#39;})]</div>",
       "datasetInfos": [],
       "removedWidgets": [],
       "type": "html"
      }
     },
     "output_type": "display_data"
    }
   ],
   "source": [
    "sentiment_imdb_glove.fullAnnotate(comment)[0]['sentiment']"
   ]
  },
  {
   "cell_type": "markdown",
   "metadata": {
    "application/vnd.databricks.v1+cell": {
     "inputWidgets": {},
     "nuid": "8808a4cc-3f89-4c7f-860d-6101c8a93575",
     "showTitle": false,
     "title": ""
    }
   },
   "source": [
    "#### DL version (trained on twitter dataset)"
   ]
  },
  {
   "cell_type": "code",
   "execution_count": 0,
   "metadata": {
    "application/vnd.databricks.v1+cell": {
     "inputWidgets": {},
     "nuid": "6de3e4a4-1861-4d9e-9d8b-371814eabad5",
     "showTitle": false,
     "title": ""
    }
   },
   "outputs": [
    {
     "data": {
      "text/html": [
       "<style scoped>\n",
       "  .ansiout {\n",
       "    display: block;\n",
       "    unicode-bidi: embed;\n",
       "    white-space: pre-wrap;\n",
       "    word-wrap: break-word;\n",
       "    word-break: break-all;\n",
       "    font-family: \"Source Code Pro\", \"Menlo\", monospace;;\n",
       "    font-size: 13px;\n",
       "    color: #555;\n",
       "    margin-left: 4px;\n",
       "    line-height: 19px;\n",
       "  }\n",
       "</style>\n",
       "<div class=\"ansiout\">analyze_sentimentdl_use_twitter download started this may take some time.\n",
       "Approx size to download 935.1 MB\n",
       "\r",
       "[ | ]\r",
       "[ / ]\r",
       "[ — ]\r",
       "[ \\ ]\r",
       "[ | ]\r",
       "[ / ]\r",
       "[ — ]\r",
       "[ \\ ]\r",
       "[ | ]\r",
       "[ / ]\r",
       "[ — ]\r",
       "[ \\ ]\r",
       "[ | ]\r",
       "[ / ]\r",
       "[ — ]\r",
       "[ \\ ]\r",
       "[ | ]\r",
       "[ / ]\r",
       "[ — ]\r",
       "[ \\ ]\r",
       "[ | ]\r",
       "[ / ]\r",
       "[ — ]\r",
       "[ \\ ]\r",
       "[ | ]\r",
       "[ / ]\r",
       "[ — ]\r",
       "[ \\ ]\r",
       "[ | ]\r",
       "[ / ]\r",
       "[ — ]\r",
       "[ \\ ]\r",
       "[ | ]\r",
       "[ / ]\r",
       "[ — ]\r",
       "[ \\ ]\r",
       "[ | ]\r",
       "[ / ]\r",
       "[ — ]\r",
       "[ \\ ]\r",
       "[ | ]\r",
       "[ / ]\r",
       "[ — ]\r",
       "[ \\ ]\r",
       "[ | ]\r",
       "[ / ]\r",
       "[ — ]\r",
       "[ \\ ]\r",
       "[ | ]\r",
       "[ / ]\r",
       "[ — ]\r",
       "[ \\ ]\r",
       "[ | ]\r",
       "[ / ]\r",
       "[ — ]\r",
       "[ \\ ]\r",
       "[ | ]\r",
       "[ / ]\r",
       "[ — ]\r",
       "[ \\ ]\r",
       "[ | ]\r",
       "[OK!]\n",
       "</div>"
      ]
     },
     "metadata": {
      "application/vnd.databricks.v1+output": {
       "addedWidgets": {},
       "arguments": {},
       "data": "<div class=\"ansiout\">analyze_sentimentdl_use_twitter download started this may take some time.\nApprox size to download 935.1 MB\n\r[ | ]\r[ / ]\r[ — ]\r[ \\ ]\r[ | ]\r[ / ]\r[ — ]\r[ \\ ]\r[ | ]\r[ / ]\r[ — ]\r[ \\ ]\r[ | ]\r[ / ]\r[ — ]\r[ \\ ]\r[ | ]\r[ / ]\r[ — ]\r[ \\ ]\r[ | ]\r[ / ]\r[ — ]\r[ \\ ]\r[ | ]\r[ / ]\r[ — ]\r[ \\ ]\r[ | ]\r[ / ]\r[ — ]\r[ \\ ]\r[ | ]\r[ / ]\r[ — ]\r[ \\ ]\r[ | ]\r[ / ]\r[ — ]\r[ \\ ]\r[ | ]\r[ / ]\r[ — ]\r[ \\ ]\r[ | ]\r[ / ]\r[ — ]\r[ \\ ]\r[ | ]\r[ / ]\r[ — ]\r[ \\ ]\r[ | ]\r[ / ]\r[ — ]\r[ \\ ]\r[ | ]\r[ / ]\r[ — ]\r[ \\ ]\r[ | ]\r[OK!]\n</div>",
       "datasetInfos": [],
       "removedWidgets": [],
       "type": "html"
      }
     },
     "output_type": "display_data"
    }
   ],
   "source": [
    "sentiment_twitter = PretrainedPipeline('analyze_sentimentdl_use_twitter', lang='en')"
   ]
  },
  {
   "cell_type": "code",
   "execution_count": 0,
   "metadata": {
    "application/vnd.databricks.v1+cell": {
     "inputWidgets": {},
     "nuid": "2a2f7d51-e41a-4906-b6aa-7d4414731684",
     "showTitle": false,
     "title": ""
    }
   },
   "outputs": [
    {
     "data": {
      "text/html": [
       "<style scoped>\n",
       "  .ansiout {\n",
       "    display: block;\n",
       "    unicode-bidi: embed;\n",
       "    white-space: pre-wrap;\n",
       "    word-wrap: break-word;\n",
       "    word-break: break-all;\n",
       "    font-family: \"Source Code Pro\", \"Menlo\", monospace;;\n",
       "    font-size: 13px;\n",
       "    color: #555;\n",
       "    margin-left: 4px;\n",
       "    line-height: 19px;\n",
       "  }\n",
       "</style>\n",
       "<div class=\"ansiout\">Out[67]: [&#39;positive&#39;]</div>"
      ]
     },
     "metadata": {
      "application/vnd.databricks.v1+output": {
       "addedWidgets": {},
       "arguments": {},
       "data": "<div class=\"ansiout\">Out[67]: [&#39;positive&#39;]</div>",
       "datasetInfos": [],
       "removedWidgets": [],
       "type": "html"
      }
     },
     "output_type": "display_data"
    }
   ],
   "source": [
    "result = sentiment_twitter.annotate(\"The movie I watched today was a good one.\")\n",
    "\n",
    "result['sentiment']"
   ]
  },
  {
   "cell_type": "markdown",
   "metadata": {
    "application/vnd.databricks.v1+cell": {
     "inputWidgets": {},
     "nuid": "8f6b039f-bb45-45d7-a26c-fd0e97d61800",
     "showTitle": false,
     "title": ""
    }
   },
   "source": [
    "End of Notebook #1"
   ]
  }
 ],
 "metadata": {
  "application/vnd.databricks.v1+notebook": {
   "dashboards": [],
   "language": "python",
   "notebookMetadata": {
    "pythonIndentUnit": 2
   },
   "notebookName": "1.SparkNLP_Basics_v3.0.1",
   "notebookOrigID": 3187283821097172,
   "widgets": {}
  },
  "kernelspec": {
   "display_name": "Python 3",
   "language": "python",
   "name": "python3"
  },
  "language_info": {
   "codemirror_mode": {
    "name": "ipython",
    "version": 3
   },
   "file_extension": ".py",
   "mimetype": "text/x-python",
   "name": "python",
   "nbconvert_exporter": "python",
   "pygments_lexer": "ipython3",
   "version": "3.8.3"
  }
 },
 "nbformat": 4,
 "nbformat_minor": 1
}

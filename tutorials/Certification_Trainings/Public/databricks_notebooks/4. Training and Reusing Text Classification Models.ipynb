{
 "cells": [
  {
   "cell_type": "markdown",
   "metadata": {
    "application/vnd.databricks.v1+cell": {
     "inputWidgets": {},
     "nuid": "5e07f6d9-1228-4891-ab30-0836b96b5e6f",
     "showTitle": false,
     "title": ""
    }
   },
   "source": [
    "![JohnSnowLabs](https://nlp.johnsnowlabs.com/assets/images/logo.png)"
   ]
  },
  {
   "attachments": {},
   "cell_type": "markdown",
   "metadata": {
    "application/vnd.databricks.v1+cell": {
     "inputWidgets": {},
     "nuid": "b49aff9f-d2d5-48be-a0b6-39ff493a3af2",
     "showTitle": false,
     "title": ""
    }
   },
   "source": [
    "# 4.Training and Reusing Text Classification Models"
   ]
  },
  {
   "cell_type": "markdown",
   "metadata": {
    "application/vnd.databricks.v1+cell": {
     "inputWidgets": {},
     "nuid": "cd5d3080-1fa8-4822-a428-24686b81897d",
     "showTitle": false,
     "title": ""
    }
   },
   "source": [
    "**Relevant blogpost:** https://towardsdatascience.com/text-classification-in-spark-nlp-with-bert-and-universal-sentence-encoders-e644d618ca32"
   ]
  },
  {
   "cell_type": "code",
   "execution_count": 0,
   "metadata": {
    "application/vnd.databricks.v1+cell": {
     "inputWidgets": {},
     "nuid": "204cd1ed-e320-4c8d-9ee3-76164d81e6b5",
     "showTitle": false,
     "title": ""
    }
   },
   "outputs": [
    {
     "data": {
      "text/html": [
       "<style scoped>\n",
       "  .ansiout {\n",
       "    display: block;\n",
       "    unicode-bidi: embed;\n",
       "    white-space: pre-wrap;\n",
       "    word-wrap: break-word;\n",
       "    word-break: break-all;\n",
       "    font-family: \"Source Code Pro\", \"Menlo\", monospace;;\n",
       "    font-size: 13px;\n",
       "    color: #555;\n",
       "    margin-left: 4px;\n",
       "    line-height: 19px;\n",
       "  }\n",
       "</style>\n",
       "<div class=\"ansiout\">sparknlp_jsl.version :  3.0.1\n",
       "Out[1]: </div>"
      ]
     },
     "metadata": {
      "application/vnd.databricks.v1+output": {
       "addedWidgets": {},
       "arguments": {},
       "data": "<div class=\"ansiout\">sparknlp_jsl.version :  3.0.1\nOut[1]: </div>",
       "datasetInfos": [],
       "removedWidgets": [],
       "type": "html"
      }
     },
     "output_type": "display_data"
    },
    {
     "data": {
      "text/html": [
       "\n",
       "            <div>\n",
       "                <p><b>SparkSession - hive</b></p>\n",
       "                \n",
       "        <div>\n",
       "            <p><b>SparkContext</b></p>\n",
       "\n",
       "            <p><a href=\"/?o=3418543878422327#setting/sparkui/0421-031638-preys129/driver-1541086083700281602\">Spark UI</a></p>\n",
       "\n",
       "            <dl>\n",
       "              <dt>Version</dt>\n",
       "                <dd><code>v3.1.0</code></dd>\n",
       "              <dt>Master</dt>\n",
       "                <dd><code>spark://10.164.252.64:7077</code></dd>\n",
       "              <dt>AppName</dt>\n",
       "                <dd><code>Databricks Shell</code></dd>\n",
       "            </dl>\n",
       "        </div>\n",
       "        \n",
       "            </div>\n",
       "        "
      ]
     },
     "metadata": {
      "application/vnd.databricks.v1+output": {
       "addedWidgets": {},
       "arguments": {},
       "data": "\n            <div>\n                <p><b>SparkSession - hive</b></p>\n                \n        <div>\n            <p><b>SparkContext</b></p>\n\n            <p><a href=\"/?o=3418543878422327#setting/sparkui/0421-031638-preys129/driver-1541086083700281602\">Spark UI</a></p>\n\n            <dl>\n              <dt>Version</dt>\n                <dd><code>v3.1.0</code></dd>\n              <dt>Master</dt>\n                <dd><code>spark://10.164.252.64:7077</code></dd>\n              <dt>AppName</dt>\n                <dd><code>Databricks Shell</code></dd>\n            </dl>\n        </div>\n        \n            </div>\n        ",
       "datasetInfos": [],
       "removedWidgets": [],
       "textData": null,
       "type": "htmlSandbox"
      }
     },
     "output_type": "display_data"
    }
   ],
   "source": [
    "import json\n",
    "import os\n",
    "import string\n",
    "import pandas as pd\n",
    "import numpy as np\n",
    "\n",
    "import sparknlp\n",
    "import sparknlp_jsl\n",
    "from sparknlp.base import *\n",
    "from sparknlp.annotator import *\n",
    "from sparknlp_jsl.annotator import *\n",
    "from sparknlp.util import *\n",
    "\n",
    "import pyspark.sql.functions as F\n",
    "from pyspark.ml import Pipeline, PipelineModel\n",
    "from pyspark.sql import functions as F\n",
    "\n",
    "\n",
    "pd.set_option('display.max_columns', None)  \n",
    "pd.set_option('display.expand_frame_repr', False)\n",
    "pd.set_option('max_colwidth', 100)\n",
    "\n",
    "print('sparknlp_jsl.version : ',sparknlp_jsl.version())\n",
    "\n",
    "spark"
   ]
  },
  {
   "cell_type": "markdown",
   "metadata": {
    "application/vnd.databricks.v1+cell": {
     "inputWidgets": {},
     "nuid": "b9dde1fb-7e00-4bd9-9a60-2f86dac67013",
     "showTitle": false,
     "title": ""
    }
   },
   "source": [
    "## Using Pretrained ClassifierDL and SentimentDL models"
   ]
  },
  {
   "cell_type": "code",
   "execution_count": 0,
   "metadata": {
    "application/vnd.databricks.v1+cell": {
     "inputWidgets": {},
     "nuid": "032f5d68-989e-4ad3-83c4-4a0435ee9dbb",
     "showTitle": false,
     "title": ""
    }
   },
   "outputs": [
    {
     "data": {
      "text/html": [
       "<style scoped>\n",
       "  .ansiout {\n",
       "    display: block;\n",
       "    unicode-bidi: embed;\n",
       "    white-space: pre-wrap;\n",
       "    word-wrap: break-word;\n",
       "    word-break: break-all;\n",
       "    font-family: \"Source Code Pro\", \"Menlo\", monospace;;\n",
       "    font-size: 13px;\n",
       "    color: #555;\n",
       "    margin-left: 4px;\n",
       "    line-height: 19px;\n",
       "  }\n",
       "</style>\n",
       "<div class=\"ansiout\">classifierdl_use_fakenews download started this may take some time.\n",
       "Approximate size to download 21.4 MB\n",
       "\r",
       "[ | ]\r",
       "[ / ]\r",
       "[ — ]\r",
       "[ \\ ]\r",
       "[ | ]\r",
       "[ / ]\r",
       "[ — ]\r",
       "[ \\ ]\r",
       "[ | ]\r",
       "[ / ]\r",
       "[ — ]\r",
       "[ \\ ]\r",
       "[ | ]\r",
       "[ / ]\r",
       "[ — ]\r",
       "[ \\ ]\r",
       "[ | ]\r",
       "[ / ]\r",
       "[ — ]\r",
       "[ \\ ]\r",
       "[ | ]\r",
       "[ / ]\r",
       "[ — ]\r",
       "[ \\ ]\r",
       "[ | ]\r",
       "[ / ]\r",
       "[ — ]\r",
       "[ \\ ]\r",
       "[ | ]\r",
       "[OK!]\n",
       "</div>"
      ]
     },
     "metadata": {
      "application/vnd.databricks.v1+output": {
       "addedWidgets": {},
       "arguments": {},
       "data": "<div class=\"ansiout\">classifierdl_use_fakenews download started this may take some time.\nApproximate size to download 21.4 MB\n\r[ | ]\r[ / ]\r[ — ]\r[ \\ ]\r[ | ]\r[ / ]\r[ — ]\r[ \\ ]\r[ | ]\r[ / ]\r[ — ]\r[ \\ ]\r[ | ]\r[ / ]\r[ — ]\r[ \\ ]\r[ | ]\r[ / ]\r[ — ]\r[ \\ ]\r[ | ]\r[ / ]\r[ — ]\r[ \\ ]\r[ | ]\r[ / ]\r[ — ]\r[ \\ ]\r[ | ]\r[OK!]\n</div>",
       "datasetInfos": [],
       "removedWidgets": [],
       "type": "html"
      }
     },
     "output_type": "display_data"
    }
   ],
   "source": [
    "fake_classifier = ClassifierDLModel.pretrained('classifierdl_use_fakenews', 'en') \\\n",
    "                .setInputCols([\"document\", \"sentence_embeddings\"]) \\\n",
    "                .setOutputCol(\"class\")"
   ]
  },
  {
   "cell_type": "markdown",
   "metadata": {
    "application/vnd.databricks.v1+cell": {
     "inputWidgets": {},
     "nuid": "ca677cca-9046-458d-963a-120e67f17aba",
     "showTitle": false,
     "title": ""
    }
   },
   "source": [
    "fake_news classifier is trained on `https://raw.githubusercontent.com/joolsa/fake_real_news_dataset/master/fake_or_real_news.csv.zip`"
   ]
  },
  {
   "cell_type": "code",
   "execution_count": 0,
   "metadata": {
    "application/vnd.databricks.v1+cell": {
     "inputWidgets": {},
     "nuid": "673751af-0b67-43ef-b829-71da7e28f03e",
     "showTitle": false,
     "title": ""
    }
   },
   "outputs": [
    {
     "data": {
      "text/html": [
       "<style scoped>\n",
       "  .ansiout {\n",
       "    display: block;\n",
       "    unicode-bidi: embed;\n",
       "    white-space: pre-wrap;\n",
       "    word-wrap: break-word;\n",
       "    word-break: break-all;\n",
       "    font-family: \"Source Code Pro\", \"Menlo\", monospace;;\n",
       "    font-size: 13px;\n",
       "    color: #555;\n",
       "    margin-left: 4px;\n",
       "    line-height: 19px;\n",
       "  }\n",
       "</style>\n",
       "<div class=\"ansiout\">Out[3]: [&#39;FAKE&#39;, &#39;REAL&#39;]</div>"
      ]
     },
     "metadata": {
      "application/vnd.databricks.v1+output": {
       "addedWidgets": {},
       "arguments": {},
       "data": "<div class=\"ansiout\">Out[3]: [&#39;FAKE&#39;, &#39;REAL&#39;]</div>",
       "datasetInfos": [],
       "removedWidgets": [],
       "type": "html"
      }
     },
     "output_type": "display_data"
    }
   ],
   "source": [
    "fake_classifier.getClasses()"
   ]
  },
  {
   "cell_type": "code",
   "execution_count": 0,
   "metadata": {
    "application/vnd.databricks.v1+cell": {
     "inputWidgets": {},
     "nuid": "12c0cb19-4564-4ec4-ac9c-a3474db12766",
     "showTitle": false,
     "title": ""
    }
   },
   "outputs": [
    {
     "data": {
      "text/html": [
       "<style scoped>\n",
       "  .ansiout {\n",
       "    display: block;\n",
       "    unicode-bidi: embed;\n",
       "    white-space: pre-wrap;\n",
       "    word-wrap: break-word;\n",
       "    word-break: break-all;\n",
       "    font-family: \"Source Code Pro\", \"Menlo\", monospace;;\n",
       "    font-size: 13px;\n",
       "    color: #555;\n",
       "    margin-left: 4px;\n",
       "    line-height: 19px;\n",
       "  }\n",
       "</style>\n",
       "<div class=\"ansiout\">tfhub_use download started this may take some time.\n",
       "Approximate size to download 923.7 MB\n",
       "\r",
       "[ | ]\r",
       "[ / ]\r",
       "[ — ]\r",
       "[ \\ ]\r",
       "[ | ]\r",
       "[ / ]\r",
       "[ — ]\r",
       "[ \\ ]\r",
       "[ | ]\r",
       "[ / ]\r",
       "[ — ]\r",
       "[ \\ ]\r",
       "[ | ]\r",
       "[ / ]\r",
       "[ — ]\r",
       "[ \\ ]\r",
       "[ | ]\r",
       "[ / ]\r",
       "[ — ]\r",
       "[ \\ ]\r",
       "[ | ]\r",
       "[OK!]\n",
       "</div>"
      ]
     },
     "metadata": {
      "application/vnd.databricks.v1+output": {
       "addedWidgets": {},
       "arguments": {},
       "data": "<div class=\"ansiout\">tfhub_use download started this may take some time.\nApproximate size to download 923.7 MB\n\r[ | ]\r[ / ]\r[ — ]\r[ \\ ]\r[ | ]\r[ / ]\r[ — ]\r[ \\ ]\r[ | ]\r[ / ]\r[ — ]\r[ \\ ]\r[ | ]\r[ / ]\r[ — ]\r[ \\ ]\r[ | ]\r[ / ]\r[ — ]\r[ \\ ]\r[ | ]\r[OK!]\n</div>",
       "datasetInfos": [],
       "removedWidgets": [],
       "type": "html"
      }
     },
     "output_type": "display_data"
    }
   ],
   "source": [
    "documentAssembler = DocumentAssembler()\\\n",
    "      .setInputCol(\"text\")\\\n",
    "      .setOutputCol(\"document\")\n",
    "\n",
    "use = UniversalSentenceEncoder.pretrained(name=\"tfhub_use\",lang=\"en\") \\\n",
    "      .setInputCols([\"document\"])\\\n",
    "      .setOutputCol(\"sentence_embeddings\")\n",
    "\n",
    "nlpPipeline = Pipeline(stages=[\n",
    "      documentAssembler, \n",
    "      use,\n",
    "      fake_classifier\n",
    "  ])\n",
    "\n",
    "empty_data = spark.createDataFrame([[\"\"]]).toDF(\"text\")\n",
    "\n",
    "fake_clf_model = nlpPipeline.fit(empty_data)\n"
   ]
  },
  {
   "cell_type": "code",
   "execution_count": 0,
   "metadata": {
    "application/vnd.databricks.v1+cell": {
     "inputWidgets": {},
     "nuid": "e44b8222-6a30-4078-9f04-832e4b9a0cb0",
     "showTitle": false,
     "title": ""
    }
   },
   "outputs": [
    {
     "data": {
      "text/html": [
       "<style scoped>\n",
       "  .ansiout {\n",
       "    display: block;\n",
       "    unicode-bidi: embed;\n",
       "    white-space: pre-wrap;\n",
       "    word-wrap: break-word;\n",
       "    word-break: break-all;\n",
       "    font-family: \"Source Code Pro\", \"Menlo\", monospace;;\n",
       "    font-size: 13px;\n",
       "    color: #555;\n",
       "    margin-left: 4px;\n",
       "    line-height: 19px;\n",
       "  }\n",
       "</style>\n",
       "<div class=\"ansiout\"></div>"
      ]
     },
     "metadata": {
      "application/vnd.databricks.v1+output": {
       "addedWidgets": {},
       "arguments": {},
       "data": "<div class=\"ansiout\"></div>",
       "datasetInfos": [],
       "removedWidgets": [],
       "type": "html"
      }
     },
     "output_type": "display_data"
    }
   ],
   "source": [
    "!wget -q https://raw.githubusercontent.com/JohnSnowLabs/spark-nlp-workshop/master/tutorials/Certification_Trainings/Public/data/spam_ham_dataset.csv\n",
    "  \n",
    "#dbutils.fs.cp(\"file:/databricks/driver/spam_ham_dataset.csv\", \"dbfs:/\") "
   ]
  },
  {
   "cell_type": "code",
   "execution_count": 0,
   "metadata": {
    "application/vnd.databricks.v1+cell": {
     "inputWidgets": {},
     "nuid": "df95c3ac-9d1b-4492-b159-526f563a11c9",
     "showTitle": false,
     "title": ""
    }
   },
   "outputs": [
    {
     "data": {
      "text/html": [
       "<style scoped>\n",
       "  .ansiout {\n",
       "    display: block;\n",
       "    unicode-bidi: embed;\n",
       "    white-space: pre-wrap;\n",
       "    word-wrap: break-word;\n",
       "    word-break: break-all;\n",
       "    font-family: \"Source Code Pro\", \"Menlo\", monospace;;\n",
       "    font-size: 13px;\n",
       "    color: #555;\n",
       "    margin-left: 4px;\n",
       "    line-height: 19px;\n",
       "  }\n",
       "</style>\n",
       "<div class=\"ansiout\">Out[6]: {&#39;document&#39;: [&#39;BREAKING: Leaked Picture Of Obama Being Dragged Before A Judge In Handcuffs For Wiretapping Trump&#39;],\n",
       " &#39;sentence_embeddings&#39;: [&#39;BREAKING: Leaked Picture Of Obama Being Dragged Before A Judge In Handcuffs For Wiretapping Trump&#39;],\n",
       " &#39;class&#39;: [&#39;FAKE&#39;]}</div>"
      ]
     },
     "metadata": {
      "application/vnd.databricks.v1+output": {
       "addedWidgets": {},
       "arguments": {},
       "data": "<div class=\"ansiout\">Out[6]: {&#39;document&#39;: [&#39;BREAKING: Leaked Picture Of Obama Being Dragged Before A Judge In Handcuffs For Wiretapping Trump&#39;],\n &#39;sentence_embeddings&#39;: [&#39;BREAKING: Leaked Picture Of Obama Being Dragged Before A Judge In Handcuffs For Wiretapping Trump&#39;],\n &#39;class&#39;: [&#39;FAKE&#39;]}</div>",
       "datasetInfos": [],
       "removedWidgets": [],
       "type": "html"
      }
     },
     "output_type": "display_data"
    }
   ],
   "source": [
    "fake_lp_pipeline = LightPipeline(fake_clf_model)\n",
    "\n",
    "text = 'BREAKING: Leaked Picture Of Obama Being Dragged Before A Judge In Handcuffs For Wiretapping Trump'\n",
    "\n",
    "\n",
    "fake_lp_pipeline.annotate(text)"
   ]
  },
  {
   "cell_type": "code",
   "execution_count": 0,
   "metadata": {
    "application/vnd.databricks.v1+cell": {
     "inputWidgets": {},
     "nuid": "ba196b4b-1f95-440c-9925-d436a6e873bc",
     "showTitle": false,
     "title": ""
    }
   },
   "outputs": [
    {
     "data": {
      "text/html": [
       "<style scoped>\n",
       "  .ansiout {\n",
       "    display: block;\n",
       "    unicode-bidi: embed;\n",
       "    white-space: pre-wrap;\n",
       "    word-wrap: break-word;\n",
       "    word-break: break-all;\n",
       "    font-family: \"Source Code Pro\", \"Menlo\", monospace;;\n",
       "    font-size: 13px;\n",
       "    color: #555;\n",
       "    margin-left: 4px;\n",
       "    line-height: 19px;\n",
       "  }\n",
       "</style>\n",
       "<div class=\"ansiout\">+-------------------------------------------------------------------------------------------------+\n",
       "text                                                                                             |\n",
       "+-------------------------------------------------------------------------------------------------+\n",
       "BREAKING: Leaked Picture Of Obama Being Dragged Before A Judge In Handcuffs For Wiretapping Trump|\n",
       "+-------------------------------------------------------------------------------------------------+\n",
       "\n",
       "</div>"
      ]
     },
     "metadata": {
      "application/vnd.databricks.v1+output": {
       "addedWidgets": {},
       "arguments": {},
       "data": "<div class=\"ansiout\">+-------------------------------------------------------------------------------------------------+\n|text                                                                                             |\n+-------------------------------------------------------------------------------------------------+\n|BREAKING: Leaked Picture Of Obama Being Dragged Before A Judge In Handcuffs For Wiretapping Trump|\n+-------------------------------------------------------------------------------------------------+\n\n</div>",
       "datasetInfos": [],
       "removedWidgets": [],
       "type": "html"
      }
     },
     "output_type": "display_data"
    }
   ],
   "source": [
    "sample_data = spark.createDataFrame([[text]]).toDF(\"text\")\n",
    "\n",
    "sample_data.show(truncate=False)"
   ]
  },
  {
   "cell_type": "code",
   "execution_count": 0,
   "metadata": {
    "application/vnd.databricks.v1+cell": {
     "inputWidgets": {},
     "nuid": "5f8d1c4a-075f-4360-8ea5-2c12bfb3a2cd",
     "showTitle": false,
     "title": ""
    }
   },
   "outputs": [
    {
     "data": {
      "text/html": [
       "<style scoped>\n",
       "  .ansiout {\n",
       "    display: block;\n",
       "    unicode-bidi: embed;\n",
       "    white-space: pre-wrap;\n",
       "    word-wrap: break-word;\n",
       "    word-break: break-all;\n",
       "    font-family: \"Source Code Pro\", \"Menlo\", monospace;;\n",
       "    font-size: 13px;\n",
       "    color: #555;\n",
       "    margin-left: 4px;\n",
       "    line-height: 19px;\n",
       "  }\n",
       "</style>\n",
       "<div class=\"ansiout\"></div>"
      ]
     },
     "metadata": {
      "application/vnd.databricks.v1+output": {
       "addedWidgets": {},
       "arguments": {},
       "data": "<div class=\"ansiout\"></div>",
       "datasetInfos": [],
       "removedWidgets": [],
       "type": "html"
      }
     },
     "output_type": "display_data"
    }
   ],
   "source": [
    "pred = fake_clf_model.transform(sample_data)\n",
    "\n"
   ]
  },
  {
   "cell_type": "code",
   "execution_count": 0,
   "metadata": {
    "application/vnd.databricks.v1+cell": {
     "inputWidgets": {},
     "nuid": "5adf10a1-b5e6-41f7-b060-36126716d799",
     "showTitle": false,
     "title": ""
    }
   },
   "outputs": [
    {
     "data": {
      "text/html": [
       "<style scoped>\n",
       "  .ansiout {\n",
       "    display: block;\n",
       "    unicode-bidi: embed;\n",
       "    white-space: pre-wrap;\n",
       "    word-wrap: break-word;\n",
       "    word-break: break-all;\n",
       "    font-family: \"Source Code Pro\", \"Menlo\", monospace;;\n",
       "    font-size: 13px;\n",
       "    color: #555;\n",
       "    margin-left: 4px;\n",
       "    line-height: 19px;\n",
       "  }\n",
       "</style>\n",
       "<div class=\"ansiout\">+--------------------+--------------------+--------------------+--------------------+\n",
       "                text|            document| sentence_embeddings|               class|\n",
       "+--------------------+--------------------+--------------------+--------------------+\n",
       "BREAKING: Leaked ...|[{document, 0, 96...|[{sentence_embedd...|[{category, 0, 96...|\n",
       "+--------------------+--------------------+--------------------+--------------------+\n",
       "\n",
       "</div>"
      ]
     },
     "metadata": {
      "application/vnd.databricks.v1+output": {
       "addedWidgets": {},
       "arguments": {},
       "data": "<div class=\"ansiout\">+--------------------+--------------------+--------------------+--------------------+\n|                text|            document| sentence_embeddings|               class|\n+--------------------+--------------------+--------------------+--------------------+\n|BREAKING: Leaked ...|[{document, 0, 96...|[{sentence_embedd...|[{category, 0, 96...|\n+--------------------+--------------------+--------------------+--------------------+\n\n</div>",
       "datasetInfos": [],
       "removedWidgets": [],
       "type": "html"
      }
     },
     "output_type": "display_data"
    }
   ],
   "source": [
    "pred.show()"
   ]
  },
  {
   "cell_type": "code",
   "execution_count": 0,
   "metadata": {
    "application/vnd.databricks.v1+cell": {
     "inputWidgets": {},
     "nuid": "a3265c0e-36c2-4041-a55d-12abd229ff2f",
     "showTitle": false,
     "title": ""
    }
   },
   "outputs": [
    {
     "data": {
      "text/html": [
       "<style scoped>\n",
       "  .ansiout {\n",
       "    display: block;\n",
       "    unicode-bidi: embed;\n",
       "    white-space: pre-wrap;\n",
       "    word-wrap: break-word;\n",
       "    word-break: break-all;\n",
       "    font-family: \"Source Code Pro\", \"Menlo\", monospace;;\n",
       "    font-size: 13px;\n",
       "    color: #555;\n",
       "    margin-left: 4px;\n",
       "    line-height: 19px;\n",
       "  }\n",
       "</style>\n",
       "<div class=\"ansiout\">+-------------------------------------------------------------------------------------------------+------+\n",
       "text                                                                                             |result|\n",
       "+-------------------------------------------------------------------------------------------------+------+\n",
       "BREAKING: Leaked Picture Of Obama Being Dragged Before A Judge In Handcuffs For Wiretapping Trump|[FAKE]|\n",
       "+-------------------------------------------------------------------------------------------------+------+\n",
       "\n",
       "</div>"
      ]
     },
     "metadata": {
      "application/vnd.databricks.v1+output": {
       "addedWidgets": {},
       "arguments": {},
       "data": "<div class=\"ansiout\">+-------------------------------------------------------------------------------------------------+------+\n|text                                                                                             |result|\n+-------------------------------------------------------------------------------------------------+------+\n|BREAKING: Leaked Picture Of Obama Being Dragged Before A Judge In Handcuffs For Wiretapping Trump|[FAKE]|\n+-------------------------------------------------------------------------------------------------+------+\n\n</div>",
       "datasetInfos": [],
       "removedWidgets": [],
       "type": "html"
      }
     },
     "output_type": "display_data"
    }
   ],
   "source": [
    "pred.select('text','class.result').show(truncate=False)"
   ]
  },
  {
   "cell_type": "markdown",
   "metadata": {
    "application/vnd.databricks.v1+cell": {
     "inputWidgets": {},
     "nuid": "ebbbef13-517f-4925-b9be-85e75ddbc943",
     "showTitle": false,
     "title": ""
    }
   },
   "source": [
    "you can find more samples here >> `https://github.com/KaiDMML/FakeNewsNet/tree/master/dataset`"
   ]
  },
  {
   "cell_type": "markdown",
   "metadata": {
    "application/vnd.databricks.v1+cell": {
     "inputWidgets": {},
     "nuid": "3687aef4-839b-4f18-9422-27e812493abd",
     "showTitle": false,
     "title": ""
    }
   },
   "source": [
    "## Generic classifier function"
   ]
  },
  {
   "cell_type": "code",
   "execution_count": 0,
   "metadata": {
    "application/vnd.databricks.v1+cell": {
     "inputWidgets": {},
     "nuid": "1a585132-f522-4d44-a32f-e20836bf23f1",
     "showTitle": false,
     "title": ""
    }
   },
   "outputs": [
    {
     "data": {
      "text/html": [
       "<style scoped>\n",
       "  .ansiout {\n",
       "    display: block;\n",
       "    unicode-bidi: embed;\n",
       "    white-space: pre-wrap;\n",
       "    word-wrap: break-word;\n",
       "    word-break: break-all;\n",
       "    font-family: \"Source Code Pro\", \"Menlo\", monospace;;\n",
       "    font-size: 13px;\n",
       "    color: #555;\n",
       "    margin-left: 4px;\n",
       "    line-height: 19px;\n",
       "  }\n",
       "</style>\n",
       "<div class=\"ansiout\"></div>"
      ]
     },
     "metadata": {
      "application/vnd.databricks.v1+output": {
       "addedWidgets": {},
       "arguments": {},
       "data": "<div class=\"ansiout\"></div>",
       "datasetInfos": [],
       "removedWidgets": [],
       "type": "html"
      }
     },
     "output_type": "display_data"
    }
   ],
   "source": [
    "def get_clf_lp(model_name, sentiment_dl=False, pretrained=True):\n",
    "\n",
    "  documentAssembler = DocumentAssembler()\\\n",
    "      .setInputCol(\"text\")\\\n",
    "      .setOutputCol(\"document\")\n",
    "\n",
    "  use = UniversalSentenceEncoder.pretrained(lang=\"en\") \\\n",
    "      .setInputCols([\"document\"])\\\n",
    "      .setOutputCol(\"sentence_embeddings\")\n",
    "\n",
    "\n",
    "  if pretrained:\n",
    "\n",
    "    if sentiment_dl:\n",
    "\n",
    "      document_classifier = SentimentDLModel.pretrained(model_name, 'en') \\\n",
    "                .setInputCols([\"document\", \"sentence_embeddings\"]) \\\n",
    "                .setOutputCol(\"class\")\n",
    "    else:\n",
    "      document_classifier = ClassifierDLModel.pretrained(model_name, 'en') \\\n",
    "                .setInputCols([\"document\", \"sentence_embeddings\"]) \\\n",
    "                .setOutputCol(\"class\")\n",
    "\n",
    "  else:\n",
    "\n",
    "    if sentiment_dl:\n",
    "\n",
    "      document_classifier = SentimentDLModel.load(model_name) \\\n",
    "                .setInputCols([\"document\", \"sentence_embeddings\"]) \\\n",
    "                .setOutputCol(\"class\")\n",
    "    else:\n",
    "      document_classifier = ClassifierDLModel.load(model_name) \\\n",
    "                .setInputCols([\"document\", \"sentence_embeddings\"]) \\\n",
    "                .setOutputCol(\"class\")\n",
    "\n",
    "  print ('classes:',document_classifier.getClasses())\n",
    "\n",
    "  nlpPipeline = Pipeline(stages=[\n",
    "                  documentAssembler, \n",
    "                  use,\n",
    "                  document_classifier\n",
    "  ])\n",
    "\n",
    "  empty_data = spark.createDataFrame([[\"\"]]).toDF(\"text\")\n",
    "\n",
    "  clf_pipelineFit = nlpPipeline.fit(empty_data)\n",
    "\n",
    "  clf_lp_pipeline = LightPipeline(clf_pipelineFit)\n",
    "\n",
    "  return clf_lp_pipeline\n"
   ]
  },
  {
   "cell_type": "code",
   "execution_count": 0,
   "metadata": {
    "application/vnd.databricks.v1+cell": {
     "inputWidgets": {},
     "nuid": "6268e392-ba26-4014-b58e-8767c8828085",
     "showTitle": false,
     "title": ""
    }
   },
   "outputs": [
    {
     "data": {
      "text/html": [
       "<style scoped>\n",
       "  .ansiout {\n",
       "    display: block;\n",
       "    unicode-bidi: embed;\n",
       "    white-space: pre-wrap;\n",
       "    word-wrap: break-word;\n",
       "    word-break: break-all;\n",
       "    font-family: \"Source Code Pro\", \"Menlo\", monospace;;\n",
       "    font-size: 13px;\n",
       "    color: #555;\n",
       "    margin-left: 4px;\n",
       "    line-height: 19px;\n",
       "  }\n",
       "</style>\n",
       "<div class=\"ansiout\">tfhub_use download started this may take some time.\n",
       "Approximate size to download 923.7 MB\n",
       "\r",
       "[ | ]\r",
       "[OK!]\n",
       "classifierdl_use_trec50 download started this may take some time.\n",
       "Approximate size to download 21.2 MB\n",
       "\r",
       "[ | ]\r",
       "[ / ]\r",
       "[ — ]\r",
       "[OK!]\n",
       "classes: [&#39; ENTY_color&#39;, &#39; ENTY_techmeth&#39;, &#39; DESC_manner&#39;, &#39; NUM_volsize&#39;, &#39; ENTY_letter&#39;, &#39; NUM_temp&#39;, &#39; ENTY_body&#39;, &#39; NUM_count&#39;, &#39; ENTY_instru&#39;, &#39; NUM_period&#39;, &#39; NUM_speed&#39;, &#39; DESC_reason&#39;, &#39; ENTY_symbol&#39;, &#39; ENTY_event&#39;, &#39; HUM_desc&#39;, &#39; NUM_perc&#39;, &#39; ENTY_dismed&#39;, &#39; NUM_ord&#39;, &#39; HUM_gr&#39;, &#39; LOC_mount&#39;, &#39; ABBR_abb&#39;, &#39; DESC_desc&#39;, &#39; NUM_dist&#39;, &#39; HUM_title&#39;, &#39; ENTY_lang&#39;, &#39; ENTY_sport&#39;, &#39; ENTY_plant&#39;, &#39; NUM_code&#39;, &#39; NUM_other&#39;, &#39; ENTY_word&#39;, &#39; ENTY_animal&#39;, &#39; ENTY_substance&#39;, &#39; ENTY_veh&#39;, &#39; ENTY_product&#39;, &#39; LOC_state&#39;, &#39; ENTY_religion&#39;, &#39; ENTY_currency&#39;, &#39; NUM_date&#39;, &#39; LOC_country&#39;, &#39; ENTY_cremat&#39;, &#39; NUM_money&#39;, &#39; LOC_other&#39;, &#39; DESC_def&#39;, &#39; LOC_city&#39;, &#39; HUM_ind&#39;, &#39; ENTY_other&#39;, &#39; ENTY_termeq&#39;, &#39; ENTY_food&#39;, &#39; ABBR_exp&#39;, &#39; NUM_weight&#39;]\n",
       "</div>"
      ]
     },
     "metadata": {
      "application/vnd.databricks.v1+output": {
       "addedWidgets": {},
       "arguments": {},
       "data": "<div class=\"ansiout\">tfhub_use download started this may take some time.\nApproximate size to download 923.7 MB\n\r[ | ]\r[OK!]\nclassifierdl_use_trec50 download started this may take some time.\nApproximate size to download 21.2 MB\n\r[ | ]\r[ / ]\r[ — ]\r[OK!]\nclasses: [&#39; ENTY_color&#39;, &#39; ENTY_techmeth&#39;, &#39; DESC_manner&#39;, &#39; NUM_volsize&#39;, &#39; ENTY_letter&#39;, &#39; NUM_temp&#39;, &#39; ENTY_body&#39;, &#39; NUM_count&#39;, &#39; ENTY_instru&#39;, &#39; NUM_period&#39;, &#39; NUM_speed&#39;, &#39; DESC_reason&#39;, &#39; ENTY_symbol&#39;, &#39; ENTY_event&#39;, &#39; HUM_desc&#39;, &#39; NUM_perc&#39;, &#39; ENTY_dismed&#39;, &#39; NUM_ord&#39;, &#39; HUM_gr&#39;, &#39; LOC_mount&#39;, &#39; ABBR_abb&#39;, &#39; DESC_desc&#39;, &#39; NUM_dist&#39;, &#39; HUM_title&#39;, &#39; ENTY_lang&#39;, &#39; ENTY_sport&#39;, &#39; ENTY_plant&#39;, &#39; NUM_code&#39;, &#39; NUM_other&#39;, &#39; ENTY_word&#39;, &#39; ENTY_animal&#39;, &#39; ENTY_substance&#39;, &#39; ENTY_veh&#39;, &#39; ENTY_product&#39;, &#39; LOC_state&#39;, &#39; ENTY_religion&#39;, &#39; ENTY_currency&#39;, &#39; NUM_date&#39;, &#39; LOC_country&#39;, &#39; ENTY_cremat&#39;, &#39; NUM_money&#39;, &#39; LOC_other&#39;, &#39; DESC_def&#39;, &#39; LOC_city&#39;, &#39; HUM_ind&#39;, &#39; ENTY_other&#39;, &#39; ENTY_termeq&#39;, &#39; ENTY_food&#39;, &#39; ABBR_exp&#39;, &#39; NUM_weight&#39;]\n</div>",
       "datasetInfos": [],
       "removedWidgets": [],
       "type": "html"
      }
     },
     "output_type": "display_data"
    }
   ],
   "source": [
    "clf_lp_pipeline = get_clf_lp('classifierdl_use_trec50')"
   ]
  },
  {
   "cell_type": "markdown",
   "metadata": {
    "application/vnd.databricks.v1+cell": {
     "inputWidgets": {},
     "nuid": "14ffb03e-2286-4170-9cd1-1208d7c5ca8e",
     "showTitle": false,
     "title": ""
    }
   },
   "source": [
    "trained on the TREC datasets:\n",
    "\n",
    "Classify open-domain, fact-based questions into one of the following broad semantic categories: \n",
    "\n",
    "```Abbreviation, Description, Entities, Human Beings, Locations or Numeric Values.```"
   ]
  },
  {
   "cell_type": "code",
   "execution_count": 0,
   "metadata": {
    "application/vnd.databricks.v1+cell": {
     "inputWidgets": {},
     "nuid": "ae2d7ae3-ff8f-4814-a389-34bd75164d91",
     "showTitle": false,
     "title": ""
    }
   },
   "outputs": [
    {
     "data": {
      "text/html": [
       "<style scoped>\n",
       "  .ansiout {\n",
       "    display: block;\n",
       "    unicode-bidi: embed;\n",
       "    white-space: pre-wrap;\n",
       "    word-wrap: break-word;\n",
       "    word-break: break-all;\n",
       "    font-family: \"Source Code Pro\", \"Menlo\", monospace;;\n",
       "    font-size: 13px;\n",
       "    color: #555;\n",
       "    margin-left: 4px;\n",
       "    line-height: 19px;\n",
       "  }\n",
       "</style>\n",
       "<div class=\"ansiout\">Out[14]: [&#39; NUM_count&#39;]</div>"
      ]
     },
     "metadata": {
      "application/vnd.databricks.v1+output": {
       "addedWidgets": {},
       "arguments": {},
       "data": "<div class=\"ansiout\">Out[14]: [&#39; NUM_count&#39;]</div>",
       "datasetInfos": [],
       "removedWidgets": [],
       "type": "html"
      }
     },
     "output_type": "display_data"
    }
   ],
   "source": [
    "text = 'What was the number of member nations of the U.N. in 2000?'\n",
    "\n",
    "clf_lp_pipeline.annotate(text)['class']"
   ]
  },
  {
   "cell_type": "code",
   "execution_count": 0,
   "metadata": {
    "application/vnd.databricks.v1+cell": {
     "inputWidgets": {},
     "nuid": "db4f25f1-5010-43bb-987a-a47c8509b413",
     "showTitle": false,
     "title": ""
    }
   },
   "outputs": [
    {
     "data": {
      "text/html": [
       "<style scoped>\n",
       "  .ansiout {\n",
       "    display: block;\n",
       "    unicode-bidi: embed;\n",
       "    white-space: pre-wrap;\n",
       "    word-wrap: break-word;\n",
       "    word-break: break-all;\n",
       "    font-family: \"Source Code Pro\", \"Menlo\", monospace;;\n",
       "    font-size: 13px;\n",
       "    color: #555;\n",
       "    margin-left: 4px;\n",
       "    line-height: 19px;\n",
       "  }\n",
       "</style>\n",
       "<div class=\"ansiout\">Out[15]: &#39; NUM_count&#39;</div>"
      ]
     },
     "metadata": {
      "application/vnd.databricks.v1+output": {
       "addedWidgets": {},
       "arguments": {},
       "data": "<div class=\"ansiout\">Out[15]: &#39; NUM_count&#39;</div>",
       "datasetInfos": [],
       "removedWidgets": [],
       "type": "html"
      }
     },
     "output_type": "display_data"
    }
   ],
   "source": [
    "clf_lp_pipeline.fullAnnotate(text)[0]['class'][0].result"
   ]
  },
  {
   "cell_type": "code",
   "execution_count": 0,
   "metadata": {
    "application/vnd.databricks.v1+cell": {
     "inputWidgets": {},
     "nuid": "533126ec-ffd3-4377-a504-31a62f153910",
     "showTitle": false,
     "title": ""
    }
   },
   "outputs": [
    {
     "data": {
      "text/html": [
       "<style scoped>\n",
       "  .ansiout {\n",
       "    display: block;\n",
       "    unicode-bidi: embed;\n",
       "    white-space: pre-wrap;\n",
       "    word-wrap: break-word;\n",
       "    word-break: break-all;\n",
       "    font-family: \"Source Code Pro\", \"Menlo\", monospace;;\n",
       "    font-size: 13px;\n",
       "    color: #555;\n",
       "    margin-left: 4px;\n",
       "    line-height: 19px;\n",
       "  }\n",
       "</style>\n",
       "<div class=\"ansiout\">Out[16]: {&#39; ENTY_dismed&#39;: &#39;3.768739E-22&#39;, &#39; ENTY_product&#39;: &#39;2.4015744E-24&#39;, &#39; ENTY_techmeth&#39;: &#39;1.5787039E-22&#39;, &#39; NUM_speed&#39;: &#39;7.9484634E-23&#39;, &#39; NUM_volsize&#39;: &#39;2.531511E-25&#39;, &#39; LOC_state&#39;: &#39;6.378412E-25&#39;, &#39; NUM_code&#39;: &#39;1.454945E-25&#39;, &#39; NUM_count&#39;: &#39;0.9992601&#39;, &#39; ENTY_food&#39;: &#39;1.3031208E-24&#39;, &#39; ENTY_animal&#39;: &#39;1.6743833E-24&#39;, &#39; NUM_period&#39;: &#39;6.8075115E-21&#39;, &#39; ENTY_religion&#39;: &#39;5.9194734E-23&#39;, &#39; LOC_country&#39;: &#39;5.306268E-21&#39;, &#39; LOC_mount&#39;: &#39;3.2177816E-25&#39;, &#39; ENTY_termeq&#39;: &#39;9.7900855E-26&#39;, &#39; ENTY_color&#39;: &#39;1.1446835E-22&#39;, &#39; ENTY_lang&#39;: &#39;6.3333907E-24&#39;, &#39; ENTY_sport&#39;: &#39;8.0773835E-25&#39;, &#39; DESC_def&#39;: &#39;2.4284432E-27&#39;, &#39; HUM_gr&#39;: &#39;4.4863106E-21&#39;, &#39; ENTY_symbol&#39;: &#39;4.1271923E-25&#39;, &#39; ENTY_currency&#39;: &#39;8.156541E-29&#39;, &#39; ENTY_veh&#39;: &#39;5.4147004E-22&#39;, &#39; LOC_other&#39;: &#39;5.5141072E-11&#39;, &#39; ENTY_word&#39;: &#39;5.3265024E-23&#39;, &#39; NUM_temp&#39;: &#39;2.0907158E-23&#39;, &#39; NUM_dist&#39;: &#39;1.2542656E-24&#39;, &#39; DESC_desc&#39;: &#39;1.0926973E-12&#39;, &#39; DESC_manner&#39;: &#39;9.258373E-23&#39;, &#39; NUM_ord&#39;: &#39;2.2395288E-25&#39;, &#39; NUM_other&#39;: &#39;3.977126E-27&#39;, &#39; DESC_reason&#39;: &#39;1.1718965E-6&#39;, &#39; NUM_weight&#39;: &#39;1.5373857E-24&#39;, &#39; ENTY_instru&#39;: &#39;5.9354656E-21&#39;, &#39; ENTY_letter&#39;: &#39;1.1453239E-25&#39;, &#39; ENTY_event&#39;: &#39;3.706315E-25&#39;, &#39; ENTY_substance&#39;: &#39;6.8908435E-25&#39;, &#39; ABBR_exp&#39;: &#39;5.6048268E-24&#39;, &#39; ENTY_body&#39;: &#39;6.423101E-23&#39;, &#39; ENTY_other&#39;: &#39;7.377999E-4&#39;, &#39; NUM_money&#39;: &#39;1.6745676E-25&#39;, &#39; LOC_city&#39;: &#39;4.7003377E-22&#39;, &#39; NUM_date&#39;: &#39;5.212251E-16&#39;, &#39; NUM_perc&#39;: &#39;6.3761284E-24&#39;, &#39; ABBR_abb&#39;: &#39;7.1010134E-26&#39;, &#39; ENTY_plant&#39;: &#39;5.5433757E-24&#39;, &#39; HUM_title&#39;: &#39;1.0681952E-24&#39;, &#39; ENTY_cremat&#39;: &#39;1.1165376E-24&#39;, &#39; HUM_ind&#39;: &#39;8.063819E-7&#39;, &#39; HUM_desc&#39;: &#39;4.3701272E-23&#39;, &#39;sentence&#39;: &#39;0&#39;}</div>"
      ]
     },
     "metadata": {
      "application/vnd.databricks.v1+output": {
       "addedWidgets": {},
       "arguments": {},
       "data": "<div class=\"ansiout\">Out[16]: {&#39; ENTY_dismed&#39;: &#39;3.768739E-22&#39;, &#39; ENTY_product&#39;: &#39;2.4015744E-24&#39;, &#39; ENTY_techmeth&#39;: &#39;1.5787039E-22&#39;, &#39; NUM_speed&#39;: &#39;7.9484634E-23&#39;, &#39; NUM_volsize&#39;: &#39;2.531511E-25&#39;, &#39; LOC_state&#39;: &#39;6.378412E-25&#39;, &#39; NUM_code&#39;: &#39;1.454945E-25&#39;, &#39; NUM_count&#39;: &#39;0.9992601&#39;, &#39; ENTY_food&#39;: &#39;1.3031208E-24&#39;, &#39; ENTY_animal&#39;: &#39;1.6743833E-24&#39;, &#39; NUM_period&#39;: &#39;6.8075115E-21&#39;, &#39; ENTY_religion&#39;: &#39;5.9194734E-23&#39;, &#39; LOC_country&#39;: &#39;5.306268E-21&#39;, &#39; LOC_mount&#39;: &#39;3.2177816E-25&#39;, &#39; ENTY_termeq&#39;: &#39;9.7900855E-26&#39;, &#39; ENTY_color&#39;: &#39;1.1446835E-22&#39;, &#39; ENTY_lang&#39;: &#39;6.3333907E-24&#39;, &#39; ENTY_sport&#39;: &#39;8.0773835E-25&#39;, &#39; DESC_def&#39;: &#39;2.4284432E-27&#39;, &#39; HUM_gr&#39;: &#39;4.4863106E-21&#39;, &#39; ENTY_symbol&#39;: &#39;4.1271923E-25&#39;, &#39; ENTY_currency&#39;: &#39;8.156541E-29&#39;, &#39; ENTY_veh&#39;: &#39;5.4147004E-22&#39;, &#39; LOC_other&#39;: &#39;5.5141072E-11&#39;, &#39; ENTY_word&#39;: &#39;5.3265024E-23&#39;, &#39; NUM_temp&#39;: &#39;2.0907158E-23&#39;, &#39; NUM_dist&#39;: &#39;1.2542656E-24&#39;, &#39; DESC_desc&#39;: &#39;1.0926973E-12&#39;, &#39; DESC_manner&#39;: &#39;9.258373E-23&#39;, &#39; NUM_ord&#39;: &#39;2.2395288E-25&#39;, &#39; NUM_other&#39;: &#39;3.977126E-27&#39;, &#39; DESC_reason&#39;: &#39;1.1718965E-6&#39;, &#39; NUM_weight&#39;: &#39;1.5373857E-24&#39;, &#39; ENTY_instru&#39;: &#39;5.9354656E-21&#39;, &#39; ENTY_letter&#39;: &#39;1.1453239E-25&#39;, &#39; ENTY_event&#39;: &#39;3.706315E-25&#39;, &#39; ENTY_substance&#39;: &#39;6.8908435E-25&#39;, &#39; ABBR_exp&#39;: &#39;5.6048268E-24&#39;, &#39; ENTY_body&#39;: &#39;6.423101E-23&#39;, &#39; ENTY_other&#39;: &#39;7.377999E-4&#39;, &#39; NUM_money&#39;: &#39;1.6745676E-25&#39;, &#39; LOC_city&#39;: &#39;4.7003377E-22&#39;, &#39; NUM_date&#39;: &#39;5.212251E-16&#39;, &#39; NUM_perc&#39;: &#39;6.3761284E-24&#39;, &#39; ABBR_abb&#39;: &#39;7.1010134E-26&#39;, &#39; ENTY_plant&#39;: &#39;5.5433757E-24&#39;, &#39; HUM_title&#39;: &#39;1.0681952E-24&#39;, &#39; ENTY_cremat&#39;: &#39;1.1165376E-24&#39;, &#39; HUM_ind&#39;: &#39;8.063819E-7&#39;, &#39; HUM_desc&#39;: &#39;4.3701272E-23&#39;, &#39;sentence&#39;: &#39;0&#39;}</div>",
       "datasetInfos": [],
       "removedWidgets": [],
       "type": "html"
      }
     },
     "output_type": "display_data"
    }
   ],
   "source": [
    "clf_lp_pipeline.fullAnnotate(text)[0]['class'][0].metadata"
   ]
  },
  {
   "cell_type": "code",
   "execution_count": 0,
   "metadata": {
    "application/vnd.databricks.v1+cell": {
     "inputWidgets": {},
     "nuid": "ad1815f8-ba97-41a1-9f19-6363aa3514e1",
     "showTitle": false,
     "title": ""
    }
   },
   "outputs": [
    {
     "data": {
      "text/html": [
       "<style scoped>\n",
       "  .ansiout {\n",
       "    display: block;\n",
       "    unicode-bidi: embed;\n",
       "    white-space: pre-wrap;\n",
       "    word-wrap: break-word;\n",
       "    word-break: break-all;\n",
       "    font-family: \"Source Code Pro\", \"Menlo\", monospace;;\n",
       "    font-size: 13px;\n",
       "    color: #555;\n",
       "    margin-left: 4px;\n",
       "    line-height: 19px;\n",
       "  }\n",
       "</style>\n",
       "<div class=\"ansiout\">Out[17]: [&#39; HUM_ind&#39;]</div>"
      ]
     },
     "metadata": {
      "application/vnd.databricks.v1+output": {
       "addedWidgets": {},
       "arguments": {},
       "data": "<div class=\"ansiout\">Out[17]: [&#39; HUM_ind&#39;]</div>",
       "datasetInfos": [],
       "removedWidgets": [],
       "type": "html"
      }
     },
     "output_type": "display_data"
    }
   ],
   "source": [
    "text = 'What animal was the first mammal successfully cloned from adult cells?'\n",
    "\n",
    "clf_lp_pipeline.annotate(text)['class']"
   ]
  },
  {
   "cell_type": "code",
   "execution_count": 0,
   "metadata": {
    "application/vnd.databricks.v1+cell": {
     "inputWidgets": {},
     "nuid": "63b5cc4d-f63e-4afe-9378-7db36602f4d0",
     "showTitle": false,
     "title": ""
    }
   },
   "outputs": [
    {
     "data": {
      "text/html": [
       "<style scoped>\n",
       "  .ansiout {\n",
       "    display: block;\n",
       "    unicode-bidi: embed;\n",
       "    white-space: pre-wrap;\n",
       "    word-wrap: break-word;\n",
       "    word-break: break-all;\n",
       "    font-family: \"Source Code Pro\", \"Menlo\", monospace;;\n",
       "    font-size: 13px;\n",
       "    color: #555;\n",
       "    margin-left: 4px;\n",
       "    line-height: 19px;\n",
       "  }\n",
       "</style>\n",
       "<div class=\"ansiout\">tfhub_use download started this may take some time.\n",
       "Approximate size to download 923.7 MB\n",
       "\r",
       "[ | ]\r",
       "[OK!]\n",
       "classifierdl_use_cyberbullying download started this may take some time.\n",
       "Approximate size to download 21.3 MB\n",
       "\r",
       "[ | ]\r",
       "[ / ]\r",
       "[ — ]\r",
       "[OK!]\n",
       "classes: [&#39;sexism&#39;, &#39;neutral&#39;, &#39;racism&#39;]\n",
       "</div>"
      ]
     },
     "metadata": {
      "application/vnd.databricks.v1+output": {
       "addedWidgets": {},
       "arguments": {},
       "data": "<div class=\"ansiout\">tfhub_use download started this may take some time.\nApproximate size to download 923.7 MB\n\r[ | ]\r[OK!]\nclassifierdl_use_cyberbullying download started this may take some time.\nApproximate size to download 21.3 MB\n\r[ | ]\r[ / ]\r[ — ]\r[OK!]\nclasses: [&#39;sexism&#39;, &#39;neutral&#39;, &#39;racism&#39;]\n</div>",
       "datasetInfos": [],
       "removedWidgets": [],
       "type": "html"
      }
     },
     "output_type": "display_data"
    }
   ],
   "source": [
    "clf_lp_pipeline = get_clf_lp('classifierdl_use_cyberbullying')\n"
   ]
  },
  {
   "cell_type": "code",
   "execution_count": 0,
   "metadata": {
    "application/vnd.databricks.v1+cell": {
     "inputWidgets": {},
     "nuid": "5e7554d1-de75-4059-91f1-50b93ffdc9d3",
     "showTitle": false,
     "title": ""
    }
   },
   "outputs": [
    {
     "data": {
      "text/html": [
       "<style scoped>\n",
       "  .ansiout {\n",
       "    display: block;\n",
       "    unicode-bidi: embed;\n",
       "    white-space: pre-wrap;\n",
       "    word-wrap: break-word;\n",
       "    word-break: break-all;\n",
       "    font-family: \"Source Code Pro\", \"Menlo\", monospace;;\n",
       "    font-size: 13px;\n",
       "    color: #555;\n",
       "    margin-left: 4px;\n",
       "    line-height: 19px;\n",
       "  }\n",
       "</style>\n",
       "<div class=\"ansiout\">Out[19]: [&#39;sexism&#39;]</div>"
      ]
     },
     "metadata": {
      "application/vnd.databricks.v1+output": {
       "addedWidgets": {},
       "arguments": {},
       "data": "<div class=\"ansiout\">Out[19]: [&#39;sexism&#39;]</div>",
       "datasetInfos": [],
       "removedWidgets": [],
       "type": "html"
      }
     },
     "output_type": "display_data"
    }
   ],
   "source": [
    "text ='RT @EBeisner @ahall012 I agree with you!! I would rather brush my teeth with sandpaper then watch football with a girl!!'\n",
    "\n",
    "clf_lp_pipeline.annotate(text)['class']"
   ]
  },
  {
   "cell_type": "code",
   "execution_count": 0,
   "metadata": {
    "application/vnd.databricks.v1+cell": {
     "inputWidgets": {},
     "nuid": "d58ed191-445b-441f-9a7e-3e7eca45b7f0",
     "showTitle": false,
     "title": ""
    }
   },
   "outputs": [
    {
     "data": {
      "text/html": [
       "<style scoped>\n",
       "  .ansiout {\n",
       "    display: block;\n",
       "    unicode-bidi: embed;\n",
       "    white-space: pre-wrap;\n",
       "    word-wrap: break-word;\n",
       "    word-break: break-all;\n",
       "    font-family: \"Source Code Pro\", \"Menlo\", monospace;;\n",
       "    font-size: 13px;\n",
       "    color: #555;\n",
       "    margin-left: 4px;\n",
       "    line-height: 19px;\n",
       "  }\n",
       "</style>\n",
       "<div class=\"ansiout\">tfhub_use download started this may take some time.\n",
       "Approximate size to download 923.7 MB\n",
       "\r",
       "[ | ]\r",
       "[OK!]\n",
       "classifierdl_use_fakenews download started this may take some time.\n",
       "Approximate size to download 21.4 MB\n",
       "\r",
       "[ | ]\r",
       "[OK!]\n",
       "classes: [&#39;FAKE&#39;, &#39;REAL&#39;]\n",
       "</div>"
      ]
     },
     "metadata": {
      "application/vnd.databricks.v1+output": {
       "addedWidgets": {},
       "arguments": {},
       "data": "<div class=\"ansiout\">tfhub_use download started this may take some time.\nApproximate size to download 923.7 MB\n\r[ | ]\r[OK!]\nclassifierdl_use_fakenews download started this may take some time.\nApproximate size to download 21.4 MB\n\r[ | ]\r[OK!]\nclasses: [&#39;FAKE&#39;, &#39;REAL&#39;]\n</div>",
       "datasetInfos": [],
       "removedWidgets": [],
       "type": "html"
      }
     },
     "output_type": "display_data"
    }
   ],
   "source": [
    "clf_lp_pipeline = get_clf_lp('classifierdl_use_fakenews')\n"
   ]
  },
  {
   "cell_type": "code",
   "execution_count": 0,
   "metadata": {
    "application/vnd.databricks.v1+cell": {
     "inputWidgets": {},
     "nuid": "c7104007-7a5a-44b4-bc73-4f07989d71b4",
     "showTitle": false,
     "title": ""
    }
   },
   "outputs": [
    {
     "data": {
      "text/html": [
       "<style scoped>\n",
       "  .ansiout {\n",
       "    display: block;\n",
       "    unicode-bidi: embed;\n",
       "    white-space: pre-wrap;\n",
       "    word-wrap: break-word;\n",
       "    word-break: break-all;\n",
       "    font-family: \"Source Code Pro\", \"Menlo\", monospace;;\n",
       "    font-size: 13px;\n",
       "    color: #555;\n",
       "    margin-left: 4px;\n",
       "    line-height: 19px;\n",
       "  }\n",
       "</style>\n",
       "<div class=\"ansiout\">Out[21]: [&#39;FAKE&#39;]</div>"
      ]
     },
     "metadata": {
      "application/vnd.databricks.v1+output": {
       "addedWidgets": {},
       "arguments": {},
       "data": "<div class=\"ansiout\">Out[21]: [&#39;FAKE&#39;]</div>",
       "datasetInfos": [],
       "removedWidgets": [],
       "type": "html"
      }
     },
     "output_type": "display_data"
    }
   ],
   "source": [
    "text ='Donald Trump a KGB Spy? 11/02/2016 In today’s video, Christopher Greene of AMTV reports Hillary Clinton campaign accusation that Donald Trump is a KGB spy is about as weak and baseless a claim as a Salem witch hunt or McCarthy era trial. It’s only because Hillary Clinton is losing that she is lobbing conspiracy theory. Citizen Quasar The way I see it, one of two things will happen: 1. Trump will win by a landslide but the election will be stolen via electronic voting, just like I have been predicting for over a decade, and the American People will accept the skewed election results just like they accept the TSA into their crotches. 2. Somebody will bust a cap in Hillary’s @$$ killing her and the election will be postponed. Follow AMTV!'\n",
    "\n",
    "clf_lp_pipeline.annotate(text)['class']\n"
   ]
  },
  {
   "cell_type": "code",
   "execution_count": 0,
   "metadata": {
    "application/vnd.databricks.v1+cell": {
     "inputWidgets": {},
     "nuid": "7a094a78-80e1-438a-992a-d4b3df261e74",
     "showTitle": false,
     "title": ""
    }
   },
   "outputs": [
    {
     "data": {
      "text/html": [
       "<style scoped>\n",
       "  .ansiout {\n",
       "    display: block;\n",
       "    unicode-bidi: embed;\n",
       "    white-space: pre-wrap;\n",
       "    word-wrap: break-word;\n",
       "    word-break: break-all;\n",
       "    font-family: \"Source Code Pro\", \"Menlo\", monospace;;\n",
       "    font-size: 13px;\n",
       "    color: #555;\n",
       "    margin-left: 4px;\n",
       "    line-height: 19px;\n",
       "  }\n",
       "</style>\n",
       "<div class=\"ansiout\">Out[22]: [&#39;REAL&#39;]</div>"
      ]
     },
     "metadata": {
      "application/vnd.databricks.v1+output": {
       "addedWidgets": {},
       "arguments": {},
       "data": "<div class=\"ansiout\">Out[22]: [&#39;REAL&#39;]</div>",
       "datasetInfos": [],
       "removedWidgets": [],
       "type": "html"
      }
     },
     "output_type": "display_data"
    }
   ],
   "source": [
    "text ='Sen. Marco Rubio (R-Fla.) is adding a veteran New Hampshire political operative to his team as he continues mulling a possible 2016 presidential bid, the latest sign that he is seriously preparing to launch a campaign later this year.Jim Merrill, who worked for former GOP presidential nominee Mitt Romney and ran his 2008 and 2012 New Hampshire primary campaigns, joined Rubio’s fledgling campaign on Monday, aides to the senator said.Merrill will be joining Rubio’s Reclaim America PAC to focus on Rubio’s New Hampshire and broader Northeast political operations.\"Marco has always been well received in New Hampshire, and should he run for president, he would be very competitive there,\" Terry Sullivan, who runs Reclaim America, said in a statement. \"Jim certainly knows how to win in New Hampshire and in the Northeast, and will be a great addition to our team at Reclaim America.”News of Merrill’s hire was first reported by The New York Times.'\n",
    "\n",
    "clf_lp_pipeline.annotate(text)['class']"
   ]
  },
  {
   "cell_type": "code",
   "execution_count": 0,
   "metadata": {
    "application/vnd.databricks.v1+cell": {
     "inputWidgets": {},
     "nuid": "370096cf-db18-4683-91e9-b2172e12ca90",
     "showTitle": false,
     "title": ""
    }
   },
   "outputs": [
    {
     "data": {
      "text/html": [
       "<style scoped>\n",
       "  .ansiout {\n",
       "    display: block;\n",
       "    unicode-bidi: embed;\n",
       "    white-space: pre-wrap;\n",
       "    word-wrap: break-word;\n",
       "    word-break: break-all;\n",
       "    font-family: \"Source Code Pro\", \"Menlo\", monospace;;\n",
       "    font-size: 13px;\n",
       "    color: #555;\n",
       "    margin-left: 4px;\n",
       "    line-height: 19px;\n",
       "  }\n",
       "</style>\n",
       "<div class=\"ansiout\">tfhub_use download started this may take some time.\n",
       "Approximate size to download 923.7 MB\n",
       "\r",
       "[ | ]\r",
       "[OK!]\n",
       "sentimentdl_use_twitter download started this may take some time.\n",
       "Approximate size to download 11.4 MB\n",
       "\r",
       "[ | ]\r",
       "[ / ]\r",
       "[OK!]\n",
       "classes: [&#39;positive&#39;, &#39;negative&#39;]\n",
       "</div>"
      ]
     },
     "metadata": {
      "application/vnd.databricks.v1+output": {
       "addedWidgets": {},
       "arguments": {},
       "data": "<div class=\"ansiout\">tfhub_use download started this may take some time.\nApproximate size to download 923.7 MB\n\r[ | ]\r[OK!]\nsentimentdl_use_twitter download started this may take some time.\nApproximate size to download 11.4 MB\n\r[ | ]\r[ / ]\r[OK!]\nclasses: [&#39;positive&#39;, &#39;negative&#39;]\n</div>",
       "datasetInfos": [],
       "removedWidgets": [],
       "type": "html"
      }
     },
     "output_type": "display_data"
    }
   ],
   "source": [
    "sentiment_lp_pipeline = get_clf_lp('sentimentdl_use_twitter', sentiment_dl=True)"
   ]
  },
  {
   "cell_type": "code",
   "execution_count": 0,
   "metadata": {
    "application/vnd.databricks.v1+cell": {
     "inputWidgets": {},
     "nuid": "2f3e4a2f-7f5d-46b9-b6c0-87070d2930bb",
     "showTitle": false,
     "title": ""
    }
   },
   "outputs": [
    {
     "data": {
      "text/html": [
       "<style scoped>\n",
       "  .ansiout {\n",
       "    display: block;\n",
       "    unicode-bidi: embed;\n",
       "    white-space: pre-wrap;\n",
       "    word-wrap: break-word;\n",
       "    word-break: break-all;\n",
       "    font-family: \"Source Code Pro\", \"Menlo\", monospace;;\n",
       "    font-size: 13px;\n",
       "    color: #555;\n",
       "    margin-left: 4px;\n",
       "    line-height: 19px;\n",
       "  }\n",
       "</style>\n",
       "<div class=\"ansiout\">Out[24]: [&#39;positive&#39;]</div>"
      ]
     },
     "metadata": {
      "application/vnd.databricks.v1+output": {
       "addedWidgets": {},
       "arguments": {},
       "data": "<div class=\"ansiout\">Out[24]: [&#39;positive&#39;]</div>",
       "datasetInfos": [],
       "removedWidgets": [],
       "type": "html"
      }
     },
     "output_type": "display_data"
    }
   ],
   "source": [
    "text ='I am SO happy the news came out in time for my birthday this weekend! My inner 7-year-old cannot WAIT!'\n",
    "\n",
    "sentiment_lp_pipeline.annotate(text)['class']"
   ]
  },
  {
   "cell_type": "code",
   "execution_count": 0,
   "metadata": {
    "application/vnd.databricks.v1+cell": {
     "inputWidgets": {},
     "nuid": "8513241e-5bad-47a0-976d-434b2d0a0680",
     "showTitle": false,
     "title": ""
    }
   },
   "outputs": [
    {
     "data": {
      "text/html": [
       "<style scoped>\n",
       "  .ansiout {\n",
       "    display: block;\n",
       "    unicode-bidi: embed;\n",
       "    white-space: pre-wrap;\n",
       "    word-wrap: break-word;\n",
       "    word-break: break-all;\n",
       "    font-family: \"Source Code Pro\", \"Menlo\", monospace;;\n",
       "    font-size: 13px;\n",
       "    color: #555;\n",
       "    margin-left: 4px;\n",
       "    line-height: 19px;\n",
       "  }\n",
       "</style>\n",
       "<div class=\"ansiout\">tfhub_use download started this may take some time.\n",
       "Approximate size to download 923.7 MB\n",
       "\r",
       "[ | ]\r",
       "[OK!]\n",
       "classifierdl_use_emotion download started this may take some time.\n",
       "Approximate size to download 21.3 MB\n",
       "\r",
       "[ | ]\r",
       "[ / ]\r",
       "[ — ]\r",
       "[ \\ ]\r",
       "[OK!]\n",
       "classes: [&#39;joy&#39;, &#39;fear&#39;, &#39;surprise&#39;, &#39;sadness&#39;]\n",
       "</div>"
      ]
     },
     "metadata": {
      "application/vnd.databricks.v1+output": {
       "addedWidgets": {},
       "arguments": {},
       "data": "<div class=\"ansiout\">tfhub_use download started this may take some time.\nApproximate size to download 923.7 MB\n\r[ | ]\r[OK!]\nclassifierdl_use_emotion download started this may take some time.\nApproximate size to download 21.3 MB\n\r[ | ]\r[ / ]\r[ — ]\r[ \\ ]\r[OK!]\nclasses: [&#39;joy&#39;, &#39;fear&#39;, &#39;surprise&#39;, &#39;sadness&#39;]\n</div>",
       "datasetInfos": [],
       "removedWidgets": [],
       "type": "html"
      }
     },
     "output_type": "display_data"
    }
   ],
   "source": [
    "sentiment_lp_pipeline = get_clf_lp('classifierdl_use_emotion', sentiment_dl=False)\n"
   ]
  },
  {
   "cell_type": "code",
   "execution_count": 0,
   "metadata": {
    "application/vnd.databricks.v1+cell": {
     "inputWidgets": {},
     "nuid": "6d0914b1-b816-4bf1-9d70-c9d962b07b56",
     "showTitle": false,
     "title": ""
    }
   },
   "outputs": [
    {
     "data": {
      "text/html": [
       "<style scoped>\n",
       "  .ansiout {\n",
       "    display: block;\n",
       "    unicode-bidi: embed;\n",
       "    white-space: pre-wrap;\n",
       "    word-wrap: break-word;\n",
       "    word-break: break-all;\n",
       "    font-family: \"Source Code Pro\", \"Menlo\", monospace;;\n",
       "    font-size: 13px;\n",
       "    color: #555;\n",
       "    margin-left: 4px;\n",
       "    line-height: 19px;\n",
       "  }\n",
       "</style>\n",
       "<div class=\"ansiout\">Out[26]: [&#39;surprise&#39;]</div>"
      ]
     },
     "metadata": {
      "application/vnd.databricks.v1+output": {
       "addedWidgets": {},
       "arguments": {},
       "data": "<div class=\"ansiout\">Out[26]: [&#39;surprise&#39;]</div>",
       "datasetInfos": [],
       "removedWidgets": [],
       "type": "html"
      }
     },
     "output_type": "display_data"
    }
   ],
   "source": [
    "sentiment_lp_pipeline.annotate(text)['class']"
   ]
  },
  {
   "cell_type": "markdown",
   "metadata": {
    "application/vnd.databricks.v1+cell": {
     "inputWidgets": {},
     "nuid": "915f0819-bca8-48eb-b0c0-b2be4d938315",
     "showTitle": false,
     "title": ""
    }
   },
   "source": [
    "## ClassiferDL with Word Embeddings and Text Preprocessing"
   ]
  },
  {
   "cell_type": "markdown",
   "metadata": {
    "application/vnd.databricks.v1+cell": {
     "inputWidgets": {},
     "nuid": "f2136142-7b32-4e88-a79d-7a75d78184da",
     "showTitle": false,
     "title": ""
    }
   },
   "source": [
    "### Load Dataset"
   ]
  },
  {
   "cell_type": "code",
   "execution_count": 0,
   "metadata": {
    "application/vnd.databricks.v1+cell": {
     "inputWidgets": {},
     "nuid": "c72d9d5c-1cdd-481b-8284-ace02b36c3bc",
     "showTitle": false,
     "title": ""
    }
   },
   "outputs": [
    {
     "data": {
      "text/html": [
       "<style scoped>\n",
       "  .ansiout {\n",
       "    display: block;\n",
       "    unicode-bidi: embed;\n",
       "    white-space: pre-wrap;\n",
       "    word-wrap: break-word;\n",
       "    word-break: break-all;\n",
       "    font-family: \"Source Code Pro\", \"Menlo\", monospace;;\n",
       "    font-size: 13px;\n",
       "    color: #555;\n",
       "    margin-left: 4px;\n",
       "    line-height: 19px;\n",
       "  }\n",
       "</style>\n",
       "<div class=\"ansiout\">Out[13]: True</div>"
      ]
     },
     "metadata": {
      "application/vnd.databricks.v1+output": {
       "addedWidgets": {},
       "arguments": {},
       "data": "<div class=\"ansiout\">Out[13]: True</div>",
       "datasetInfos": [],
       "removedWidgets": [],
       "type": "html"
      }
     },
     "output_type": "display_data"
    }
   ],
   "source": [
    "! wget -q https://raw.githubusercontent.com/JohnSnowLabs/spark-nlp-workshop/master/tutorials/Certification_Trainings/Public/data/news_category_train.csv\n",
    "! wget -q https://raw.githubusercontent.com/JohnSnowLabs/spark-nlp-workshop/master/tutorials/Certification_Trainings/Public/data/news_category_test.csv\n",
    "  \n",
    "dbutils.fs.cp(\"file:/databricks/driver/news_category_train.csv\", \"dbfs:/\")\n",
    "dbutils.fs.cp(\"file:/databricks/driver/news_category_test.csv\", \"dbfs:/\")"
   ]
  },
  {
   "cell_type": "code",
   "execution_count": 0,
   "metadata": {
    "application/vnd.databricks.v1+cell": {
     "inputWidgets": {},
     "nuid": "55b33996-ee08-461d-a27d-1d89ac818e07",
     "showTitle": false,
     "title": ""
    }
   },
   "outputs": [
    {
     "data": {
      "text/html": [
       "<style scoped>\n",
       "  .ansiout {\n",
       "    display: block;\n",
       "    unicode-bidi: embed;\n",
       "    white-space: pre-wrap;\n",
       "    word-wrap: break-word;\n",
       "    word-break: break-all;\n",
       "    font-family: \"Source Code Pro\", \"Menlo\", monospace;;\n",
       "    font-size: 13px;\n",
       "    color: #555;\n",
       "    margin-left: 4px;\n",
       "    line-height: 19px;\n",
       "  }\n",
       "</style>\n",
       "<div class=\"ansiout\">total 30336\n",
       "-rw-r--r-- 1 root root  1504408 Apr 23 06:48 news_category_test.csv\n",
       "-rw-r--r-- 1 root root 24032125 Apr 23 06:48 news_category_train.csv\n",
       "-rw-r--r-- 1 root root  5502589 Apr 23 06:47 spam_ham_dataset.csv\n",
       "drwxr-xr-x 2 root root     4096 Apr 23 06:45 ganglia\n",
       "drwxr-xr-x 2 root root     4096 Apr 23 06:18 logs\n",
       "drwxr-xr-x 3 root root     4096 Apr 23 06:18 eventlogs\n",
       "drwxr-xr-x 2 root root     4096 Jan  1  1970 conf\n",
       "</div>"
      ]
     },
     "metadata": {
      "application/vnd.databricks.v1+output": {
       "addedWidgets": {},
       "arguments": {},
       "data": "<div class=\"ansiout\">total 30336\n-rw-r--r-- 1 root root  1504408 Apr 23 06:48 news_category_test.csv\n-rw-r--r-- 1 root root 24032125 Apr 23 06:48 news_category_train.csv\n-rw-r--r-- 1 root root  5502589 Apr 23 06:47 spam_ham_dataset.csv\ndrwxr-xr-x 2 root root     4096 Apr 23 06:45 ganglia\ndrwxr-xr-x 2 root root     4096 Apr 23 06:18 logs\ndrwxr-xr-x 3 root root     4096 Apr 23 06:18 eventlogs\ndrwxr-xr-x 2 root root     4096 Jan  1  1970 conf\n</div>",
       "datasetInfos": [],
       "removedWidgets": [],
       "type": "html"
      }
     },
     "output_type": "display_data"
    }
   ],
   "source": [
    "%sh cd /databricks/driver/ && ls -lt "
   ]
  },
  {
   "cell_type": "code",
   "execution_count": 0,
   "metadata": {
    "application/vnd.databricks.v1+cell": {
     "inputWidgets": {},
     "nuid": "68f34467-9884-4248-b3bc-16e555c6db82",
     "showTitle": false,
     "title": ""
    }
   },
   "outputs": [
    {
     "data": {
      "text/html": [
       "<style scoped>\n",
       "  .ansiout {\n",
       "    display: block;\n",
       "    unicode-bidi: embed;\n",
       "    white-space: pre-wrap;\n",
       "    word-wrap: break-word;\n",
       "    word-break: break-all;\n",
       "    font-family: \"Source Code Pro\", \"Menlo\", monospace;;\n",
       "    font-size: 13px;\n",
       "    color: #555;\n",
       "    margin-left: 4px;\n",
       "    line-height: 19px;\n",
       "  }\n",
       "</style>\n",
       "<div class=\"ansiout\">+--------+--------------------------------------------------+\n",
       "category|                                       description|\n",
       "+--------+--------------------------------------------------+\n",
       "Business| Short sellers, Wall Street&#39;s dwindling band of...|\n",
       "Business| Private investment firm Carlyle Group, which h...|\n",
       "Business| Soaring crude prices plus worries about the ec...|\n",
       "Business| Authorities have halted oil export flows from ...|\n",
       "Business| Tearaway world oil prices, toppling records an...|\n",
       "Business| Stocks ended slightly higher on Friday but sta...|\n",
       "Business| Assets of the nation&#39;s retail money market mut...|\n",
       "Business| Retail sales bounced back a bit in July, and n...|\n",
       "Business|&#34; After earning a PH.D. in Sociology, Danny Baz...|\n",
       "Business| Short sellers, Wall Street&#39;s dwindling  band o...|\n",
       "Business| Soaring crude prices plus worries  about the e...|\n",
       "Business| OPEC can do nothing to douse scorching  oil pr...|\n",
       "Business| Non OPEC oil exporters should consider  increa...|\n",
       "Business| WASHINGTON/NEW YORK (Reuters) - The auction fo...|\n",
       "Business| The dollar tumbled broadly on Friday  after da...|\n",
       "Business|If you think you may need to help your elderly ...|\n",
       "Business|The purchasing power of kids is a big part of w...|\n",
       "Business|There is little cause for celebration in the st...|\n",
       "Business|The US trade deficit has exploded 19 to a recor...|\n",
       "Business|Oil giant Shell could be bracing itself for a t...|\n",
       "+--------+--------------------------------------------------+\n",
       "only showing top 20 rows\n",
       "\n",
       "</div>"
      ]
     },
     "metadata": {
      "application/vnd.databricks.v1+output": {
       "addedWidgets": {},
       "arguments": {},
       "data": "<div class=\"ansiout\">+--------+--------------------------------------------------+\n|category|                                       description|\n+--------+--------------------------------------------------+\n|Business| Short sellers, Wall Street&#39;s dwindling band of...|\n|Business| Private investment firm Carlyle Group, which h...|\n|Business| Soaring crude prices plus worries about the ec...|\n|Business| Authorities have halted oil export flows from ...|\n|Business| Tearaway world oil prices, toppling records an...|\n|Business| Stocks ended slightly higher on Friday but sta...|\n|Business| Assets of the nation&#39;s retail money market mut...|\n|Business| Retail sales bounced back a bit in July, and n...|\n|Business|&#34; After earning a PH.D. in Sociology, Danny Baz...|\n|Business| Short sellers, Wall Street&#39;s dwindling  band o...|\n|Business| Soaring crude prices plus worries  about the e...|\n|Business| OPEC can do nothing to douse scorching  oil pr...|\n|Business| Non OPEC oil exporters should consider  increa...|\n|Business| WASHINGTON/NEW YORK (Reuters) - The auction fo...|\n|Business| The dollar tumbled broadly on Friday  after da...|\n|Business|If you think you may need to help your elderly ...|\n|Business|The purchasing power of kids is a big part of w...|\n|Business|There is little cause for celebration in the st...|\n|Business|The US trade deficit has exploded 19 to a recor...|\n|Business|Oil giant Shell could be bracing itself for a t...|\n+--------+--------------------------------------------------+\nonly showing top 20 rows\n\n</div>",
       "datasetInfos": [],
       "removedWidgets": [],
       "type": "html"
      }
     },
     "output_type": "display_data"
    }
   ],
   "source": [
    "trainDataset = spark.read \\\n",
    "      .option(\"header\", True) \\\n",
    "      .csv(\"/news_category_train.csv\")\n",
    "\n",
    "trainDataset.show(truncate=50)"
   ]
  },
  {
   "cell_type": "code",
   "execution_count": 0,
   "metadata": {
    "application/vnd.databricks.v1+cell": {
     "inputWidgets": {},
     "nuid": "3ee63fad-96c4-4fcc-b52c-79e21069a22e",
     "showTitle": false,
     "title": ""
    }
   },
   "outputs": [
    {
     "data": {
      "text/html": [
       "<style scoped>\n",
       "  .ansiout {\n",
       "    display: block;\n",
       "    unicode-bidi: embed;\n",
       "    white-space: pre-wrap;\n",
       "    word-wrap: break-word;\n",
       "    word-break: break-all;\n",
       "    font-family: \"Source Code Pro\", \"Menlo\", monospace;;\n",
       "    font-size: 13px;\n",
       "    color: #555;\n",
       "    margin-left: 4px;\n",
       "    line-height: 19px;\n",
       "  }\n",
       "</style>\n",
       "<div class=\"ansiout\">Out[16]: 120000</div>"
      ]
     },
     "metadata": {
      "application/vnd.databricks.v1+output": {
       "addedWidgets": {},
       "arguments": {},
       "data": "<div class=\"ansiout\">Out[16]: 120000</div>",
       "datasetInfos": [],
       "removedWidgets": [],
       "type": "html"
      }
     },
     "output_type": "display_data"
    }
   ],
   "source": [
    "trainDataset.count()\n"
   ]
  },
  {
   "cell_type": "code",
   "execution_count": 0,
   "metadata": {
    "application/vnd.databricks.v1+cell": {
     "inputWidgets": {},
     "nuid": "fa3741ee-dea9-4dd7-88ce-95e5dd2ccad2",
     "showTitle": false,
     "title": ""
    }
   },
   "outputs": [
    {
     "data": {
      "text/html": [
       "<style scoped>\n",
       "  .ansiout {\n",
       "    display: block;\n",
       "    unicode-bidi: embed;\n",
       "    white-space: pre-wrap;\n",
       "    word-wrap: break-word;\n",
       "    word-break: break-all;\n",
       "    font-family: \"Source Code Pro\", \"Menlo\", monospace;;\n",
       "    font-size: 13px;\n",
       "    color: #555;\n",
       "    margin-left: 4px;\n",
       "    line-height: 19px;\n",
       "  }\n",
       "</style>\n",
       "<div class=\"ansiout\">+--------+-----+\n",
       "category|count|\n",
       "+--------+-----+\n",
       "   World|30000|\n",
       "Sci/Tech|30000|\n",
       "  Sports|30000|\n",
       "Business|30000|\n",
       "+--------+-----+\n",
       "\n",
       "</div>"
      ]
     },
     "metadata": {
      "application/vnd.databricks.v1+output": {
       "addedWidgets": {},
       "arguments": {},
       "data": "<div class=\"ansiout\">+--------+-----+\n|category|count|\n+--------+-----+\n|   World|30000|\n|Sci/Tech|30000|\n|  Sports|30000|\n|Business|30000|\n+--------+-----+\n\n</div>",
       "datasetInfos": [],
       "removedWidgets": [],
       "type": "html"
      }
     },
     "output_type": "display_data"
    }
   ],
   "source": [
    "from pyspark.sql.functions import col\n",
    "\n",
    "trainDataset.groupBy(\"category\") \\\n",
    "    .count() \\\n",
    "    .orderBy(col(\"count\").desc()) \\\n",
    "    .show()"
   ]
  },
  {
   "cell_type": "code",
   "execution_count": 0,
   "metadata": {
    "application/vnd.databricks.v1+cell": {
     "inputWidgets": {},
     "nuid": "076f59d9-3a3a-46c8-9d9e-1a4874669b34",
     "showTitle": false,
     "title": ""
    }
   },
   "outputs": [
    {
     "data": {
      "text/html": [
       "<style scoped>\n",
       "  .ansiout {\n",
       "    display: block;\n",
       "    unicode-bidi: embed;\n",
       "    white-space: pre-wrap;\n",
       "    word-wrap: break-word;\n",
       "    word-break: break-all;\n",
       "    font-family: \"Source Code Pro\", \"Menlo\", monospace;;\n",
       "    font-size: 13px;\n",
       "    color: #555;\n",
       "    margin-left: 4px;\n",
       "    line-height: 19px;\n",
       "  }\n",
       "</style>\n",
       "<div class=\"ansiout\">+--------+--------------------------------------------------+\n",
       "category|                                       description|\n",
       "+--------+--------------------------------------------------+\n",
       "Business|Unions representing workers at Turner   Newall ...|\n",
       "Sci/Tech| TORONTO, Canada    A second team of rocketeers...|\n",
       "Sci/Tech| A company founded by a chemistry researcher at...|\n",
       "Sci/Tech| It&#39;s barely dawn when Mike Fitzpatrick starts ...|\n",
       "Sci/Tech| Southern California&#39;s smog fighting agency wen...|\n",
       "Sci/Tech|&#34;The British Department for Education and Skill...|\n",
       "Sci/Tech|&#34;confessed author of the Netsky and Sasser viru...|\n",
       "Sci/Tech|\\\\FOAF/LOAF  and bloom filters have a lot of in...|\n",
       "Sci/Tech|&#34;Wiltshire Police warns about &#34;&#34;phishing&#34;&#34; afte...|\n",
       "Sci/Tech|In its first two years, the UK&#39;s dedicated card...|\n",
       "Sci/Tech| A group of technology companies  including Tex...|\n",
       "Sci/Tech| Apple Computer Inc.&amp;lt;AAPL.O&amp;gt; on  Tuesday ...|\n",
       "Sci/Tech| Free Record Shop, a Dutch music  retail chain,...|\n",
       "Sci/Tech|A giant 100km colony of ants  which has been di...|\n",
       "Sci/Tech|                      &#34;Dolphin groups, or &#34;&#34;pods&#34;&#34;|\n",
       "Sci/Tech|Tyrannosaurus rex achieved its massive size due...|\n",
       "Sci/Tech|  Scientists have discovered irregular lumps be...|\n",
       "Sci/Tech|  ESAs Mars Express has relayed pictures from o...|\n",
       "Sci/Tech|When did life begin? One evidential clue stems ...|\n",
       "Sci/Tech|update Earnings per share rise compared with a ...|\n",
       "+--------+--------------------------------------------------+\n",
       "only showing top 20 rows\n",
       "\n",
       "</div>"
      ]
     },
     "metadata": {
      "application/vnd.databricks.v1+output": {
       "addedWidgets": {},
       "arguments": {},
       "data": "<div class=\"ansiout\">+--------+--------------------------------------------------+\n|category|                                       description|\n+--------+--------------------------------------------------+\n|Business|Unions representing workers at Turner   Newall ...|\n|Sci/Tech| TORONTO, Canada    A second team of rocketeers...|\n|Sci/Tech| A company founded by a chemistry researcher at...|\n|Sci/Tech| It&#39;s barely dawn when Mike Fitzpatrick starts ...|\n|Sci/Tech| Southern California&#39;s smog fighting agency wen...|\n|Sci/Tech|&#34;The British Department for Education and Skill...|\n|Sci/Tech|&#34;confessed author of the Netsky and Sasser viru...|\n|Sci/Tech|\\\\FOAF/LOAF  and bloom filters have a lot of in...|\n|Sci/Tech|&#34;Wiltshire Police warns about &#34;&#34;phishing&#34;&#34; afte...|\n|Sci/Tech|In its first two years, the UK&#39;s dedicated card...|\n|Sci/Tech| A group of technology companies  including Tex...|\n|Sci/Tech| Apple Computer Inc.&amp;lt;AAPL.O&amp;gt; on  Tuesday ...|\n|Sci/Tech| Free Record Shop, a Dutch music  retail chain,...|\n|Sci/Tech|A giant 100km colony of ants  which has been di...|\n|Sci/Tech|                      &#34;Dolphin groups, or &#34;&#34;pods&#34;&#34;|\n|Sci/Tech|Tyrannosaurus rex achieved its massive size due...|\n|Sci/Tech|  Scientists have discovered irregular lumps be...|\n|Sci/Tech|  ESAs Mars Express has relayed pictures from o...|\n|Sci/Tech|When did life begin? One evidential clue stems ...|\n|Sci/Tech|update Earnings per share rise compared with a ...|\n+--------+--------------------------------------------------+\nonly showing top 20 rows\n\n</div>",
       "datasetInfos": [],
       "removedWidgets": [],
       "type": "html"
      }
     },
     "output_type": "display_data"
    }
   ],
   "source": [
    "testDataset = spark.read \\\n",
    "      .option(\"header\", True) \\\n",
    "      .csv(\"/news_category_test.csv\")\n",
    "\n",
    "testDataset.show(truncate=50)"
   ]
  },
  {
   "cell_type": "code",
   "execution_count": 0,
   "metadata": {
    "application/vnd.databricks.v1+cell": {
     "inputWidgets": {},
     "nuid": "77e7a934-8bba-46fe-b676-2af599b91477",
     "showTitle": false,
     "title": ""
    }
   },
   "outputs": [
    {
     "data": {
      "text/html": [
       "<style scoped>\n",
       "  .ansiout {\n",
       "    display: block;\n",
       "    unicode-bidi: embed;\n",
       "    white-space: pre-wrap;\n",
       "    word-wrap: break-word;\n",
       "    word-break: break-all;\n",
       "    font-family: \"Source Code Pro\", \"Menlo\", monospace;;\n",
       "    font-size: 13px;\n",
       "    color: #555;\n",
       "    margin-left: 4px;\n",
       "    line-height: 19px;\n",
       "  }\n",
       "</style>\n",
       "<div class=\"ansiout\">+--------+-----+\n",
       "category|count|\n",
       "+--------+-----+\n",
       "   World| 1900|\n",
       "Sci/Tech| 1900|\n",
       "  Sports| 1900|\n",
       "Business| 1900|\n",
       "+--------+-----+\n",
       "\n",
       "</div>"
      ]
     },
     "metadata": {
      "application/vnd.databricks.v1+output": {
       "addedWidgets": {},
       "arguments": {},
       "data": "<div class=\"ansiout\">+--------+-----+\n|category|count|\n+--------+-----+\n|   World| 1900|\n|Sci/Tech| 1900|\n|  Sports| 1900|\n|Business| 1900|\n+--------+-----+\n\n</div>",
       "datasetInfos": [],
       "removedWidgets": [],
       "type": "html"
      }
     },
     "output_type": "display_data"
    }
   ],
   "source": [
    "testDataset.groupBy(\"category\") \\\n",
    "    .count() \\\n",
    "    .orderBy(col(\"count\").desc()) \\\n",
    "    .show()"
   ]
  },
  {
   "cell_type": "code",
   "execution_count": 0,
   "metadata": {
    "application/vnd.databricks.v1+cell": {
     "inputWidgets": {},
     "nuid": "e4653013-58f5-472f-9cd6-6bff360316c7",
     "showTitle": false,
     "title": ""
    }
   },
   "outputs": [
    {
     "data": {
      "text/html": [
       "<style scoped>\n",
       "  .ansiout {\n",
       "    display: block;\n",
       "    unicode-bidi: embed;\n",
       "    white-space: pre-wrap;\n",
       "    word-wrap: break-word;\n",
       "    word-break: break-all;\n",
       "    font-family: \"Source Code Pro\", \"Menlo\", monospace;;\n",
       "    font-size: 13px;\n",
       "    color: #555;\n",
       "    margin-left: 4px;\n",
       "    line-height: 19px;\n",
       "  }\n",
       "</style>\n",
       "<div class=\"ansiout\">Out[34]: &#39;(trainData, testData) = trainDataset.randomSplit([0.7, 0.3], seed = 100)\\nprint(&#34;Train Dataset Count: &#34; + str(trainData.count()))\\nprint(&#34;Test Dataset Count: &#34; + str(testData.count()))&#39;</div>"
      ]
     },
     "metadata": {
      "application/vnd.databricks.v1+output": {
       "addedWidgets": {},
       "arguments": {},
       "data": "<div class=\"ansiout\">Out[34]: &#39;(trainData, testData) = trainDataset.randomSplit([0.7, 0.3], seed = 100)\\nprint(&#34;Train Dataset Count: &#34; + str(trainData.count()))\\nprint(&#34;Test Dataset Count: &#34; + str(testData.count()))&#39;</div>",
       "datasetInfos": [],
       "removedWidgets": [],
       "type": "html"
      }
     },
     "output_type": "display_data"
    }
   ],
   "source": [
    "# if we want to split the dataset\n",
    "'''(trainData, testData) = trainDataset.randomSplit([0.7, 0.3], seed = 100)\n",
    "print(\"Train Dataset Count: \" + str(trainData.count()))\n",
    "print(\"Test Dataset Count: \" + str(testData.count()))'''\n"
   ]
  },
  {
   "cell_type": "code",
   "execution_count": 0,
   "metadata": {
    "application/vnd.databricks.v1+cell": {
     "inputWidgets": {},
     "nuid": "4e5526e8-86e5-4b0c-b0fa-b82c6f6fca27",
     "showTitle": false,
     "title": ""
    }
   },
   "outputs": [
    {
     "data": {
      "text/html": [
       "<style scoped>\n",
       "  .ansiout {\n",
       "    display: block;\n",
       "    unicode-bidi: embed;\n",
       "    white-space: pre-wrap;\n",
       "    word-wrap: break-word;\n",
       "    word-break: break-all;\n",
       "    font-family: \"Source Code Pro\", \"Menlo\", monospace;;\n",
       "    font-size: 13px;\n",
       "    color: #555;\n",
       "    margin-left: 4px;\n",
       "    line-height: 19px;\n",
       "  }\n",
       "</style>\n",
       "<div class=\"ansiout\">lemma_antbnc download started this may take some time.\n",
       "Approximate size to download 907.6 KB\n",
       "\r",
       "[ | ]\r",
       "[ / ]\r",
       "[OK!]\n",
       "</div>"
      ]
     },
     "metadata": {
      "application/vnd.databricks.v1+output": {
       "addedWidgets": {},
       "arguments": {},
       "data": "<div class=\"ansiout\">lemma_antbnc download started this may take some time.\nApproximate size to download 907.6 KB\n\r[ | ]\r[ / ]\r[OK!]\n</div>",
       "datasetInfos": [],
       "removedWidgets": [],
       "type": "html"
      }
     },
     "output_type": "display_data"
    }
   ],
   "source": [
    "document_assembler = DocumentAssembler() \\\n",
    "      .setInputCol(\"description\") \\\n",
    "      .setOutputCol(\"document\")\n",
    "\n",
    "tokenizer = Tokenizer() \\\n",
    "      .setInputCols([\"document\"]) \\\n",
    "      .setOutputCol(\"token\")\n",
    "    \n",
    "normalizer = Normalizer() \\\n",
    "      .setInputCols([\"token\"]) \\\n",
    "      .setOutputCol(\"normalized\")\n",
    "\n",
    "stopwords_cleaner = StopWordsCleaner()\\\n",
    "      .setInputCols(\"normalized\")\\\n",
    "      .setOutputCol(\"cleanTokens\")\\\n",
    "      .setCaseSensitive(False)\n",
    "\n",
    "lemma = LemmatizerModel.pretrained('lemma_antbnc') \\\n",
    "      .setInputCols([\"cleanTokens\"]) \\\n",
    "      .setOutputCol(\"lemma\")\n"
   ]
  },
  {
   "cell_type": "markdown",
   "metadata": {
    "application/vnd.databricks.v1+cell": {
     "inputWidgets": {},
     "nuid": "8f4d3b92-5daf-460a-9c71-b3cb381228af",
     "showTitle": false,
     "title": ""
    }
   },
   "source": [
    "### with Glove 100d embeddings"
   ]
  },
  {
   "cell_type": "code",
   "execution_count": 0,
   "metadata": {
    "application/vnd.databricks.v1+cell": {
     "inputWidgets": {},
     "nuid": "0cc71bc4-736e-4898-9bc3-7eac816b4abb",
     "showTitle": false,
     "title": ""
    }
   },
   "outputs": [
    {
     "data": {
      "text/html": [
       "<style scoped>\n",
       "  .ansiout {\n",
       "    display: block;\n",
       "    unicode-bidi: embed;\n",
       "    white-space: pre-wrap;\n",
       "    word-wrap: break-word;\n",
       "    word-break: break-all;\n",
       "    font-family: \"Source Code Pro\", \"Menlo\", monospace;;\n",
       "    font-size: 13px;\n",
       "    color: #555;\n",
       "    margin-left: 4px;\n",
       "    line-height: 19px;\n",
       "  }\n",
       "</style>\n",
       "<div class=\"ansiout\">glove_100d download started this may take some time.\n",
       "Approximate size to download 145.3 MB\n",
       "\r",
       "[ | ]\r",
       "[ / ]\r",
       "[ — ]\r",
       "[ \\ ]\r",
       "[ | ]\r",
       "[ / ]\r",
       "[ — ]\r",
       "[ \\ ]\r",
       "[ | ]\r",
       "[ / ]\r",
       "[ — ]\r",
       "[ \\ ]\r",
       "[ | ]\r",
       "[ / ]\r",
       "[ — ]\r",
       "[OK!]\n",
       "</div>"
      ]
     },
     "metadata": {
      "application/vnd.databricks.v1+output": {
       "addedWidgets": {},
       "arguments": {},
       "data": "<div class=\"ansiout\">glove_100d download started this may take some time.\nApproximate size to download 145.3 MB\n\r[ | ]\r[ / ]\r[ — ]\r[ \\ ]\r[ | ]\r[ / ]\r[ — ]\r[ \\ ]\r[ | ]\r[ / ]\r[ — ]\r[ \\ ]\r[ | ]\r[ / ]\r[ — ]\r[OK!]\n</div>",
       "datasetInfos": [],
       "removedWidgets": [],
       "type": "html"
      }
     },
     "output_type": "display_data"
    }
   ],
   "source": [
    "\n",
    "glove_embeddings = WordEmbeddingsModel.pretrained(\"glove_100d\") \\\n",
    "      .setInputCols([\"document\",'lemma'])\\\n",
    "      .setOutputCol(\"embeddings\")\\\n",
    "      .setCaseSensitive(False)\n",
    "\n",
    "embeddingsSentence = SentenceEmbeddings() \\\n",
    "      .setInputCols([\"document\", \"embeddings\"]) \\\n",
    "      .setOutputCol(\"sentence_embeddings\") \\\n",
    "      .setPoolingStrategy(\"AVERAGE\")\n",
    "\n",
    "classsifierdl = ClassifierDLApproach()\\\n",
    "      .setInputCols([\"sentence_embeddings\"])\\\n",
    "      .setOutputCol(\"class\")\\\n",
    "      .setLabelColumn(\"category\")\\\n",
    "      .setMaxEpochs(10)\\\n",
    "      .setEnableOutputLogs(True)\n",
    "      #.setOutputLogsPath('logs')\n",
    "\n",
    "clf_pipeline = Pipeline(\n",
    "    stages=[document_assembler, \n",
    "            tokenizer,\n",
    "            normalizer,\n",
    "            stopwords_cleaner, \n",
    "            lemma, \n",
    "            glove_embeddings,\n",
    "            embeddingsSentence,\n",
    "            classsifierdl])"
   ]
  },
  {
   "cell_type": "code",
   "execution_count": 0,
   "metadata": {
    "application/vnd.databricks.v1+cell": {
     "inputWidgets": {},
     "nuid": "98cbd889-9a64-435b-bdea-6a88ee0ffcbb",
     "showTitle": false,
     "title": ""
    }
   },
   "outputs": [
    {
     "data": {
      "text/html": [
       "<style scoped>\n",
       "  .ansiout {\n",
       "    display: block;\n",
       "    unicode-bidi: embed;\n",
       "    white-space: pre-wrap;\n",
       "    word-wrap: break-word;\n",
       "    word-break: break-all;\n",
       "    font-family: \"Source Code Pro\", \"Menlo\", monospace;;\n",
       "    font-size: 13px;\n",
       "    color: #555;\n",
       "    margin-left: 4px;\n",
       "    line-height: 19px;\n",
       "  }\n",
       "</style>\n",
       "<div class=\"ansiout\">Out[58]: &#39;\\ndefault classifierDL params:\\n\\nmaxEpochs -&gt; 10,\\nlr -&gt; 5e-3f,\\ndropout -&gt; 0.5f,\\nbatchSize -&gt; 64,\\nenableOutputLogs -&gt; false,\\nverbose -&gt; Verbose.Silent.id,\\nvalidationSplit -&gt; 0.0f,\\noutputLogsPath -&gt; &#34;&#34;\\n&#39;</div>"
      ]
     },
     "metadata": {
      "application/vnd.databricks.v1+output": {
       "addedWidgets": {},
       "arguments": {},
       "data": "<div class=\"ansiout\">Out[58]: &#39;\\ndefault classifierDL params:\\n\\nmaxEpochs -&gt; 10,\\nlr -&gt; 5e-3f,\\ndropout -&gt; 0.5f,\\nbatchSize -&gt; 64,\\nenableOutputLogs -&gt; false,\\nverbose -&gt; Verbose.Silent.id,\\nvalidationSplit -&gt; 0.0f,\\noutputLogsPath -&gt; &#34;&#34;\\n&#39;</div>",
       "datasetInfos": [],
       "removedWidgets": [],
       "type": "html"
      }
     },
     "output_type": "display_data"
    }
   ],
   "source": [
    "'''\n",
    "default classifierDL params:\n",
    "\n",
    "maxEpochs -> 10,\n",
    "lr -> 5e-3f,\n",
    "dropout -> 0.5f,\n",
    "batchSize -> 64,\n",
    "enableOutputLogs -> false,\n",
    "verbose -> Verbose.Silent.id,\n",
    "validationSplit -> 0.0f,\n",
    "outputLogsPath -> \"\"\n",
    "'''"
   ]
  },
  {
   "cell_type": "code",
   "execution_count": 0,
   "metadata": {
    "application/vnd.databricks.v1+cell": {
     "inputWidgets": {},
     "nuid": "4e93eddf-682c-4263-9bdd-588915d6e98b",
     "showTitle": false,
     "title": ""
    }
   },
   "outputs": [
    {
     "data": {
      "text/html": [
       "<style scoped>\n",
       "  .ansiout {\n",
       "    display: block;\n",
       "    unicode-bidi: embed;\n",
       "    white-space: pre-wrap;\n",
       "    word-wrap: break-word;\n",
       "    word-break: break-all;\n",
       "    font-family: \"Source Code Pro\", \"Menlo\", monospace;;\n",
       "    font-size: 13px;\n",
       "    color: #555;\n",
       "    margin-left: 4px;\n",
       "    line-height: 19px;\n",
       "  }\n",
       "</style>\n",
       "<div class=\"ansiout\"></div>"
      ]
     },
     "metadata": {
      "application/vnd.databricks.v1+output": {
       "addedWidgets": {},
       "arguments": {},
       "data": "<div class=\"ansiout\"></div>",
       "datasetInfos": [],
       "removedWidgets": [],
       "type": "html"
      }
     },
     "output_type": "display_data"
    }
   ],
   "source": [
    "# Train (8 min for 10 epochs)\n",
    "\n",
    "clf_pipelineModel = clf_pipeline.fit(trainDataset)"
   ]
  },
  {
   "cell_type": "code",
   "execution_count": 0,
   "metadata": {
    "application/vnd.databricks.v1+cell": {
     "inputWidgets": {},
     "nuid": "e74b99e1-7619-40df-b3d6-38d0d808b456",
     "showTitle": false,
     "title": ""
    }
   },
   "outputs": [
    {
     "data": {
      "text/html": [
       "<style scoped>\n",
       "  .ansiout {\n",
       "    display: block;\n",
       "    unicode-bidi: embed;\n",
       "    white-space: pre-wrap;\n",
       "    word-wrap: break-word;\n",
       "    word-break: break-all;\n",
       "    font-family: \"Source Code Pro\", \"Menlo\", monospace;;\n",
       "    font-size: 13px;\n",
       "    color: #555;\n",
       "    margin-left: 4px;\n",
       "    line-height: 19px;\n",
       "  }\n",
       "</style>\n",
       "<div class=\"ansiout\"></div>"
      ]
     },
     "metadata": {
      "application/vnd.databricks.v1+output": {
       "addedWidgets": {},
       "arguments": {},
       "data": "<div class=\"ansiout\"></div>",
       "datasetInfos": [],
       "removedWidgets": [],
       "type": "html"
      }
     },
     "output_type": "display_data"
    }
   ],
   "source": [
    "# due to bug in cluster mode (https://github.com/JohnSnowLabs/spark-nlp/issues/857) , as a workaround, you can just save the fitted model and then load back from dbfs and then transform on the test set. \n",
    "clf_pipelineModel.stages[-1].write().overwrite().save('dbfs:/databricks/driver/models/ClassifierDL_wordemb_g100d')\n",
    "classsifierdlmodel_loaded = ClassifierDLModel.load('dbfs:/databricks/driver/models/ClassifierDL_wordemb_g100d')\n",
    "\n",
    "\n",
    "clf_pipeline_pred = Pipeline(\n",
    "    stages=[document_assembler, \n",
    "            tokenizer,\n",
    "            normalizer,\n",
    "            stopwords_cleaner, \n",
    "            lemma, \n",
    "            glove_embeddings,\n",
    "            clf_pipelineModel.stages[-2],\n",
    "            classsifierdlmodel_loaded])\n",
    "\n",
    "empty_data = spark.createDataFrame([[\"\"]]).toDF(\"description\")\n",
    "\n",
    "result = clf_pipeline_pred.fit(empty_data).transform(testDataset)"
   ]
  },
  {
   "cell_type": "code",
   "execution_count": 0,
   "metadata": {
    "application/vnd.databricks.v1+cell": {
     "inputWidgets": {},
     "nuid": "e4b9c467-e50c-4153-8c7f-79960ecf4557",
     "showTitle": false,
     "title": ""
    }
   },
   "outputs": [
    {
     "data": {
      "text/html": [
       "<style scoped>\n",
       "  .ansiout {\n",
       "    display: block;\n",
       "    unicode-bidi: embed;\n",
       "    white-space: pre-wrap;\n",
       "    word-wrap: break-word;\n",
       "    word-break: break-all;\n",
       "    font-family: \"Source Code Pro\", \"Menlo\", monospace;;\n",
       "    font-size: 13px;\n",
       "    color: #555;\n",
       "    margin-left: 4px;\n",
       "    line-height: 19px;\n",
       "  }\n",
       "</style>\n",
       "<div class=\"ansiout\">              precision    recall  f1-score   support\n",
       "\n",
       "    Business       0.84      0.83      0.84      1926\n",
       "    Sci/Tech       0.88      0.82      0.85      2020\n",
       "      Sports       0.97      0.95      0.96      1944\n",
       "       World       0.84      0.94      0.89      1710\n",
       "\n",
       "    accuracy                           0.88      7600\n",
       "   macro avg       0.88      0.88      0.88      7600\n",
       "weighted avg       0.88      0.88      0.88      7600\n",
       "\n",
       "</div>"
      ]
     },
     "metadata": {
      "application/vnd.databricks.v1+output": {
       "addedWidgets": {},
       "arguments": {},
       "data": "<div class=\"ansiout\">              precision    recall  f1-score   support\n\n    Business       0.84      0.83      0.84      1926\n    Sci/Tech       0.88      0.82      0.85      2020\n      Sports       0.97      0.95      0.96      1944\n       World       0.84      0.94      0.89      1710\n\n    accuracy                           0.88      7600\n   macro avg       0.88      0.88      0.88      7600\nweighted avg       0.88      0.88      0.88      7600\n\n</div>",
       "datasetInfos": [],
       "removedWidgets": [],
       "type": "html"
      }
     },
     "output_type": "display_data"
    }
   ],
   "source": [
    "preds_df = result.select('category','description',\"class.result\").toPandas()\n",
    "\n",
    "# The result is an array since in Spark NLP you can have multiple sentences.\n",
    "# Let's explode the array and get the item(s) inside of result column out\n",
    "preds_df['result'] = preds_df['result'].apply(lambda x : x[0])\n",
    "\n",
    "# We are going to use sklearn to evalute the results on test dataset\n",
    "from sklearn.metrics import classification_report\n",
    "\n",
    "print (classification_report(preds_df['result'], preds_df['category']))\n"
   ]
  },
  {
   "cell_type": "markdown",
   "metadata": {
    "application/vnd.databricks.v1+cell": {
     "inputWidgets": {},
     "nuid": "ff111f03-47ff-42d4-ba6d-7b2e440a9fac",
     "showTitle": false,
     "title": ""
    }
   },
   "source": [
    "## Getting prediction from Trained model"
   ]
  },
  {
   "cell_type": "code",
   "execution_count": 0,
   "metadata": {
    "application/vnd.databricks.v1+cell": {
     "inputWidgets": {},
     "nuid": "e533e833-5512-4eb1-be68-e0a0830d1f22",
     "showTitle": false,
     "title": ""
    }
   },
   "outputs": [
    {
     "data": {
      "text/html": [
       "<style scoped>\n",
       "  .ansiout {\n",
       "    display: block;\n",
       "    unicode-bidi: embed;\n",
       "    white-space: pre-wrap;\n",
       "    word-wrap: break-word;\n",
       "    word-break: break-all;\n",
       "    font-family: \"Source Code Pro\", \"Menlo\", monospace;;\n",
       "    font-size: 13px;\n",
       "    color: #555;\n",
       "    margin-left: 4px;\n",
       "    line-height: 19px;\n",
       "  }\n",
       "</style>\n",
       "<div class=\"ansiout\"></div>"
      ]
     },
     "metadata": {
      "application/vnd.databricks.v1+output": {
       "addedWidgets": {},
       "arguments": {},
       "data": "<div class=\"ansiout\"></div>",
       "datasetInfos": [],
       "removedWidgets": [],
       "type": "html"
      }
     },
     "output_type": "display_data"
    }
   ],
   "source": [
    "from sparknlp.base import LightPipeline\n",
    "\n",
    "light_model = LightPipeline(clf_pipelineModel)"
   ]
  },
  {
   "cell_type": "code",
   "execution_count": 0,
   "metadata": {
    "application/vnd.databricks.v1+cell": {
     "inputWidgets": {},
     "nuid": "74606043-7d3d-41e3-85c8-ab3f74437d86",
     "showTitle": false,
     "title": ""
    }
   },
   "outputs": [
    {
     "data": {
      "text/html": [
       "<style scoped>\n",
       "  .ansiout {\n",
       "    display: block;\n",
       "    unicode-bidi: embed;\n",
       "    white-space: pre-wrap;\n",
       "    word-wrap: break-word;\n",
       "    word-break: break-all;\n",
       "    font-family: \"Source Code Pro\", \"Menlo\", monospace;;\n",
       "    font-size: 13px;\n",
       "    color: #555;\n",
       "    margin-left: 4px;\n",
       "    line-height: 19px;\n",
       "  }\n",
       "</style>\n",
       "<div class=\"ansiout\">Out[43]: [&#39;Sci/Tech&#39;]</div>"
      ]
     },
     "metadata": {
      "application/vnd.databricks.v1+output": {
       "addedWidgets": {},
       "arguments": {},
       "data": "<div class=\"ansiout\">Out[43]: [&#39;Sci/Tech&#39;]</div>",
       "datasetInfos": [],
       "removedWidgets": [],
       "type": "html"
      }
     },
     "output_type": "display_data"
    }
   ],
   "source": [
    "text='''\n",
    "Fearing the fate of Italy, the centre-right government has threatened to be merciless with those who flout tough restrictions. \n",
    "As of Wednesday it will also include all shops being closed across Greece, with the exception of supermarkets. Banks, pharmacies, pet-stores, mobile phone stores, opticians, bakers, mini-markets, couriers and food delivery outlets are among the few that will also be allowed to remain open.\n",
    "'''\n",
    "result = light_model.annotate(text)\n",
    "\n",
    "result['class']"
   ]
  },
  {
   "cell_type": "markdown",
   "metadata": {
    "application/vnd.databricks.v1+cell": {
     "inputWidgets": {},
     "nuid": "d7ea736f-2d0e-41f2-8d0a-09a01dd643ac",
     "showTitle": false,
     "title": ""
    }
   },
   "source": [
    "### with Bert Embeddings"
   ]
  },
  {
   "cell_type": "code",
   "execution_count": 0,
   "metadata": {
    "application/vnd.databricks.v1+cell": {
     "inputWidgets": {},
     "nuid": "5f014791-d81d-41c9-8e9b-cabf8239965a",
     "showTitle": false,
     "title": ""
    }
   },
   "outputs": [
    {
     "data": {
      "text/html": [
       "<style scoped>\n",
       "  .ansiout {\n",
       "    display: block;\n",
       "    unicode-bidi: embed;\n",
       "    white-space: pre-wrap;\n",
       "    word-wrap: break-word;\n",
       "    word-break: break-all;\n",
       "    font-family: \"Source Code Pro\", \"Menlo\", monospace;;\n",
       "    font-size: 13px;\n",
       "    color: #555;\n",
       "    margin-left: 4px;\n",
       "    line-height: 19px;\n",
       "  }\n",
       "</style>\n",
       "<div class=\"ansiout\">lemma_antbnc download started this may take some time.\n",
       "Approximate size to download 907.6 KB\n",
       "\r",
       "[ | ]\r",
       "[ / ]\r",
       "[OK!]\n",
       "</div>"
      ]
     },
     "metadata": {
      "application/vnd.databricks.v1+output": {
       "addedWidgets": {},
       "arguments": {},
       "data": "<div class=\"ansiout\">lemma_antbnc download started this may take some time.\nApproximate size to download 907.6 KB\n\r[ | ]\r[ / ]\r[OK!]\n</div>",
       "datasetInfos": [],
       "removedWidgets": [],
       "type": "html"
      }
     },
     "output_type": "display_data"
    }
   ],
   "source": [
    "document_assembler = DocumentAssembler() \\\n",
    "    .setInputCol(\"description\") \\\n",
    "    .setOutputCol(\"document\")\n",
    "    \n",
    "tokenizer = Tokenizer() \\\n",
    "    .setInputCols([\"document\"]) \\\n",
    "    .setOutputCol(\"token\")\n",
    "    \n",
    "normalizer = Normalizer() \\\n",
    "    .setInputCols([\"token\"]) \\\n",
    "    .setOutputCol(\"normalized\")\n",
    "\n",
    "stopwords_cleaner = StopWordsCleaner()\\\n",
    "    .setInputCols(\"normalized\")\\\n",
    "    .setOutputCol(\"cleanTokens\")\\\n",
    "    .setCaseSensitive(False)\n",
    "\n",
    "lemma = LemmatizerModel.pretrained('lemma_antbnc') \\\n",
    "    .setInputCols([\"cleanTokens\"]) \\\n",
    "    .setOutputCol(\"lemma\")\n",
    "    "
   ]
  },
  {
   "cell_type": "code",
   "execution_count": 0,
   "metadata": {
    "application/vnd.databricks.v1+cell": {
     "inputWidgets": {},
     "nuid": "a904c9f6-dedd-4729-86e8-4967eb6cbbeb",
     "showTitle": false,
     "title": ""
    }
   },
   "outputs": [
    {
     "data": {
      "text/html": [
       "<style scoped>\n",
       "  .ansiout {\n",
       "    display: block;\n",
       "    unicode-bidi: embed;\n",
       "    white-space: pre-wrap;\n",
       "    word-wrap: break-word;\n",
       "    word-break: break-all;\n",
       "    font-family: \"Source Code Pro\", \"Menlo\", monospace;;\n",
       "    font-size: 13px;\n",
       "    color: #555;\n",
       "    margin-left: 4px;\n",
       "    line-height: 19px;\n",
       "  }\n",
       "</style>\n",
       "<div class=\"ansiout\">small_bert_L4_256 download started this may take some time.\n",
       "Approximate size to download 40.5 MB\n",
       "\r",
       "[ | ]\r",
       "[ / ]\r",
       "[ — ]\r",
       "[OK!]\n",
       "</div>"
      ]
     },
     "metadata": {
      "application/vnd.databricks.v1+output": {
       "addedWidgets": {},
       "arguments": {},
       "data": "<div class=\"ansiout\">small_bert_L4_256 download started this may take some time.\nApproximate size to download 40.5 MB\n\r[ | ]\r[ / ]\r[ — ]\r[OK!]\n</div>",
       "datasetInfos": [],
       "removedWidgets": [],
       "type": "html"
      }
     },
     "output_type": "display_data"
    }
   ],
   "source": [
    "bert_embeddings = BertEmbeddings().pretrained(name='small_bert_L4_256', lang='en') \\\n",
    "     .setInputCols([\"document\",'token'])\\\n",
    "     .setOutputCol(\"embeddings\")\n",
    "\n",
    "embeddingsSentence = SentenceEmbeddings() \\\n",
    "      .setInputCols([\"document\", \"embeddings\"]) \\\n",
    "      .setOutputCol(\"sentence_embeddings\") \\\n",
    "      .setPoolingStrategy(\"AVERAGE\")\n",
    "\n",
    "classsifierdl = ClassifierDLApproach()\\\n",
    "      .setInputCols([\"sentence_embeddings\"])\\\n",
    "      .setOutputCol(\"class\")\\\n",
    "      .setLabelColumn(\"category\")\\\n",
    "      .setMaxEpochs(3)\\\n",
    "      .setLr(0.001)\\\n",
    "      .setBatchSize(8)\\\n",
    "      .setEnableOutputLogs(True)\n",
    "      #.setOutputLogsPath('logs')\n",
    "\n",
    "bert_clf_pipeline = Pipeline(\n",
    "    stages=[document_assembler, \n",
    "            tokenizer,\n",
    "            bert_embeddings,\n",
    "            embeddingsSentence,\n",
    "            classsifierdl])"
   ]
  },
  {
   "cell_type": "code",
   "execution_count": 0,
   "metadata": {
    "application/vnd.databricks.v1+cell": {
     "inputWidgets": {},
     "nuid": "9e9ba2f7-3d91-41b8-b154-8b25e2bc700b",
     "showTitle": false,
     "title": ""
    }
   },
   "outputs": [
    {
     "data": {
      "text/html": [
       "<style scoped>\n",
       "  .ansiout {\n",
       "    display: block;\n",
       "    unicode-bidi: embed;\n",
       "    white-space: pre-wrap;\n",
       "    word-wrap: break-word;\n",
       "    word-break: break-all;\n",
       "    font-family: \"Source Code Pro\", \"Menlo\", monospace;;\n",
       "    font-size: 13px;\n",
       "    color: #555;\n",
       "    margin-left: 4px;\n",
       "    line-height: 19px;\n",
       "  }\n",
       "</style>\n",
       "<div class=\"ansiout\"></div>"
      ]
     },
     "metadata": {
      "application/vnd.databricks.v1+output": {
       "addedWidgets": {},
       "arguments": {},
       "data": "<div class=\"ansiout\"></div>",
       "datasetInfos": [],
       "removedWidgets": [],
       "type": "html"
      }
     },
     "output_type": "display_data"
    }
   ],
   "source": [
    "# training will take some time due to Bert (use GPU runtime when possible)\n",
    "\n",
    "bert_clf_pipelineModel = bert_clf_pipeline.fit(trainDataset)"
   ]
  },
  {
   "cell_type": "code",
   "execution_count": 0,
   "metadata": {
    "application/vnd.databricks.v1+cell": {
     "inputWidgets": {},
     "nuid": "14a4989e-8c63-4a1b-b79a-1e3cce800837",
     "showTitle": false,
     "title": ""
    }
   },
   "outputs": [
    {
     "data": {
      "text/html": [
       "<style scoped>\n",
       "  .ansiout {\n",
       "    display: block;\n",
       "    unicode-bidi: embed;\n",
       "    white-space: pre-wrap;\n",
       "    word-wrap: break-word;\n",
       "    word-break: break-all;\n",
       "    font-family: \"Source Code Pro\", \"Menlo\", monospace;;\n",
       "    font-size: 13px;\n",
       "    color: #555;\n",
       "    margin-left: 4px;\n",
       "    line-height: 19px;\n",
       "  }\n",
       "</style>\n",
       "<div class=\"ansiout\"></div>"
      ]
     },
     "metadata": {
      "application/vnd.databricks.v1+output": {
       "addedWidgets": {},
       "arguments": {},
       "data": "<div class=\"ansiout\"></div>",
       "datasetInfos": [],
       "removedWidgets": [],
       "type": "html"
      }
     },
     "output_type": "display_data"
    }
   ],
   "source": [
    "bert_clf_pipelineModel.stages[-1].write().overwrite().save('dbfs:/databricks/driver/models/small_bert')\n",
    "bert_clf_loaded = ClassifierDLModel.load('dbfs:/databricks/driver/models/small_bert')\n",
    "\n",
    "\n",
    "bert_clf_pipeline_pred = Pipeline(\n",
    "    stages=[document_assembler, \n",
    "            tokenizer, \n",
    "            bert_embeddings,\n",
    "            bert_clf_pipelineModel.stages[-2],\n",
    "            bert_clf_loaded])\n",
    "\n",
    "empty_data = spark.createDataFrame([[\"\"]]).toDF(\"description\")\n",
    "\n",
    "result = bert_clf_pipeline_pred.fit(empty_data).transform(testDataset)"
   ]
  },
  {
   "cell_type": "code",
   "execution_count": 0,
   "metadata": {
    "application/vnd.databricks.v1+cell": {
     "inputWidgets": {},
     "nuid": "388cc49b-1a19-4740-bab2-bb9158c95ad6",
     "showTitle": false,
     "title": ""
    }
   },
   "outputs": [
    {
     "data": {
      "text/html": [
       "<style scoped>\n",
       "  .ansiout {\n",
       "    display: block;\n",
       "    unicode-bidi: embed;\n",
       "    white-space: pre-wrap;\n",
       "    word-wrap: break-word;\n",
       "    word-break: break-all;\n",
       "    font-family: \"Source Code Pro\", \"Menlo\", monospace;;\n",
       "    font-size: 13px;\n",
       "    color: #555;\n",
       "    margin-left: 4px;\n",
       "    line-height: 19px;\n",
       "  }\n",
       "</style>\n",
       "<div class=\"ansiout\">              precision    recall  f1-score   support\n",
       "\n",
       "    Business       0.83      0.82      0.82      1916\n",
       "    Sci/Tech       0.86      0.82      0.84      1982\n",
       "      Sports       0.96      0.93      0.94      1956\n",
       "       World       0.84      0.92      0.88      1746\n",
       "\n",
       "    accuracy                           0.87      7600\n",
       "   macro avg       0.87      0.87      0.87      7600\n",
       "weighted avg       0.87      0.87      0.87      7600\n",
       "\n",
       "</div>"
      ]
     },
     "metadata": {
      "application/vnd.databricks.v1+output": {
       "addedWidgets": {},
       "arguments": {},
       "data": "<div class=\"ansiout\">              precision    recall  f1-score   support\n\n    Business       0.83      0.82      0.82      1916\n    Sci/Tech       0.86      0.82      0.84      1982\n      Sports       0.96      0.93      0.94      1956\n       World       0.84      0.92      0.88      1746\n\n    accuracy                           0.87      7600\n   macro avg       0.87      0.87      0.87      7600\nweighted avg       0.87      0.87      0.87      7600\n\n</div>",
       "datasetInfos": [],
       "removedWidgets": [],
       "type": "html"
      }
     },
     "output_type": "display_data"
    }
   ],
   "source": [
    "preds_df = result.select('category','description',\"class.result\").toPandas()\n",
    "\n",
    "# The result is an array since in Spark NLP you can have multiple sentences.\n",
    "# Let's explode the array and get the item(s) inside of result column out\n",
    "preds_df['result'] = preds_df['result'].apply(lambda x : x[0])\n",
    "\n",
    "# We are going to use sklearn to evalute the results on test dataset\n",
    "from sklearn.metrics import classification_report\n",
    "\n",
    "print (classification_report(preds_df['result'], preds_df['category']))"
   ]
  },
  {
   "cell_type": "markdown",
   "metadata": {
    "application/vnd.databricks.v1+cell": {
     "inputWidgets": {},
     "nuid": "e04cabc1-6909-4873-b943-d195b0b95442",
     "showTitle": false,
     "title": ""
    }
   },
   "source": [
    "## ClassifierDL with Universal Sentence Embeddings"
   ]
  },
  {
   "cell_type": "code",
   "execution_count": 0,
   "metadata": {
    "application/vnd.databricks.v1+cell": {
     "inputWidgets": {},
     "nuid": "6e1c1b5d-37ee-408a-ae0d-5d003e98eb2a",
     "showTitle": false,
     "title": ""
    }
   },
   "outputs": [
    {
     "data": {
      "text/html": [
       "<style scoped>\n",
       "  .ansiout {\n",
       "    display: block;\n",
       "    unicode-bidi: embed;\n",
       "    white-space: pre-wrap;\n",
       "    word-wrap: break-word;\n",
       "    word-break: break-all;\n",
       "    font-family: \"Source Code Pro\", \"Menlo\", monospace;;\n",
       "    font-size: 13px;\n",
       "    color: #555;\n",
       "    margin-left: 4px;\n",
       "    line-height: 19px;\n",
       "  }\n",
       "</style>\n",
       "<div class=\"ansiout\">tfhub_use download started this may take some time.\n",
       "Approximate size to download 923.7 MB\n",
       "\r",
       "[ | ]\r",
       "[OK!]\n",
       "</div>"
      ]
     },
     "metadata": {
      "application/vnd.databricks.v1+output": {
       "addedWidgets": {},
       "arguments": {},
       "data": "<div class=\"ansiout\">tfhub_use download started this may take some time.\nApproximate size to download 923.7 MB\n\r[ | ]\r[OK!]\n</div>",
       "datasetInfos": [],
       "removedWidgets": [],
       "type": "html"
      }
     },
     "output_type": "display_data"
    }
   ],
   "source": [
    "# actual content is inside description column\n",
    "document = DocumentAssembler()\\\n",
    "      .setInputCol(\"description\")\\\n",
    "      .setOutputCol(\"document\")\n",
    "    \n",
    "# we can also use sentece detector here if we want to train on and get predictions for each sentence\n",
    "\n",
    "use = UniversalSentenceEncoder.pretrained()\\\n",
    "     .setInputCols([\"document\"])\\\n",
    "     .setOutputCol(\"sentence_embeddings\")\n",
    "\n",
    "# the classes/labels/categories are in category column\n",
    "classsifierdl = ClassifierDLApproach()\\\n",
    "      .setInputCols([\"sentence_embeddings\"])\\\n",
    "      .setOutputCol(\"class\")\\\n",
    "      .setLabelColumn(\"category\")\\\n",
    "      .setMaxEpochs(5)\\\n",
    "      .setLr(0.001)\\\n",
    "      .setBatchSize(8)\\\n",
    "      .setEnableOutputLogs(True)\n",
    "\n",
    "use_clf_pipeline = Pipeline(\n",
    "    stages = [\n",
    "        document,\n",
    "        use,\n",
    "        classsifierdl\n",
    "    ])"
   ]
  },
  {
   "cell_type": "code",
   "execution_count": 0,
   "metadata": {
    "application/vnd.databricks.v1+cell": {
     "inputWidgets": {},
     "nuid": "8652b0ad-4633-4174-a53b-ee85cd9ca6a2",
     "showTitle": false,
     "title": ""
    }
   },
   "outputs": [
    {
     "data": {
      "text/html": [
       "<style scoped>\n",
       "  .ansiout {\n",
       "    display: block;\n",
       "    unicode-bidi: embed;\n",
       "    white-space: pre-wrap;\n",
       "    word-wrap: break-word;\n",
       "    word-break: break-all;\n",
       "    font-family: \"Source Code Pro\", \"Menlo\", monospace;;\n",
       "    font-size: 13px;\n",
       "    color: #555;\n",
       "    margin-left: 4px;\n",
       "    line-height: 19px;\n",
       "  }\n",
       "</style>\n",
       "<div class=\"ansiout\"></div>"
      ]
     },
     "metadata": {
      "application/vnd.databricks.v1+output": {
       "addedWidgets": {},
       "arguments": {},
       "data": "<div class=\"ansiout\"></div>",
       "datasetInfos": [],
       "removedWidgets": [],
       "type": "html"
      }
     },
     "output_type": "display_data"
    }
   ],
   "source": [
    "use_pipelineModel = use_clf_pipeline.fit(trainDataset)\n",
    "# 5 epochs takes around 10 min"
   ]
  },
  {
   "cell_type": "code",
   "execution_count": 0,
   "metadata": {
    "application/vnd.databricks.v1+cell": {
     "inputWidgets": {},
     "nuid": "6d5f8f1e-907c-4974-810a-3d7a4c2b7813",
     "showTitle": false,
     "title": ""
    }
   },
   "outputs": [
    {
     "data": {
      "text/html": [
       "<style scoped>\n",
       "  .ansiout {\n",
       "    display: block;\n",
       "    unicode-bidi: embed;\n",
       "    white-space: pre-wrap;\n",
       "    word-wrap: break-word;\n",
       "    word-break: break-all;\n",
       "    font-family: \"Source Code Pro\", \"Menlo\", monospace;;\n",
       "    font-size: 13px;\n",
       "    color: #555;\n",
       "    margin-left: 4px;\n",
       "    line-height: 19px;\n",
       "  }\n",
       "</style>\n",
       "<div class=\"ansiout\">total 8\n",
       "-rw-r--r-- 1 root root 320 Apr 23 07:18 ClassifierDLApproach_0033b893b924.log\n",
       "-rw-r--r-- 1 root root 458 Apr 23 07:34 ClassifierDLApproach_f592fc5e19a5.log\n",
       "</div>"
      ]
     },
     "metadata": {
      "application/vnd.databricks.v1+output": {
       "addedWidgets": {},
       "arguments": {},
       "data": "<div class=\"ansiout\">total 8\n-rw-r--r-- 1 root root 320 Apr 23 07:18 ClassifierDLApproach_0033b893b924.log\n-rw-r--r-- 1 root root 458 Apr 23 07:34 ClassifierDLApproach_f592fc5e19a5.log\n</div>",
       "datasetInfos": [],
       "removedWidgets": [],
       "type": "html"
      }
     },
     "output_type": "display_data"
    }
   ],
   "source": [
    "%sh cd ~/annotator_logs && ls -l\n"
   ]
  },
  {
   "cell_type": "code",
   "execution_count": 0,
   "metadata": {
    "application/vnd.databricks.v1+cell": {
     "inputWidgets": {},
     "nuid": "445b75fe-4d48-4e7b-8656-a04a008a2b0b",
     "showTitle": false,
     "title": ""
    }
   },
   "outputs": [
    {
     "data": {
      "text/html": [
       "<style scoped>\n",
       "  .ansiout {\n",
       "    display: block;\n",
       "    unicode-bidi: embed;\n",
       "    white-space: pre-wrap;\n",
       "    word-wrap: break-word;\n",
       "    word-break: break-all;\n",
       "    font-family: \"Source Code Pro\", \"Menlo\", monospace;;\n",
       "    font-size: 13px;\n",
       "    color: #555;\n",
       "    margin-left: 4px;\n",
       "    line-height: 19px;\n",
       "  }\n",
       "</style>\n",
       "<div class=\"ansiout\">Training started - epochs: 3 - learning_rate: 0.001 - batch_size: 8 - training_examples: 120000 - classes: 4\n",
       "Epoch 0/3 - 84.48s - loss: 13299.423 - acc: 0.85519165 - batches: 15000\n",
       "Epoch 1/3 - 83.01s - loss: 13093.5205 - acc: 0.86995 - batches: 15000\n",
       "Epoch 2/3 - 83.64s - loss: 12993.676 - acc: 0.87695 - batches: 15000\n",
       "</div>"
      ]
     },
     "metadata": {
      "application/vnd.databricks.v1+output": {
       "addedWidgets": {},
       "arguments": {},
       "data": "<div class=\"ansiout\">Training started - epochs: 3 - learning_rate: 0.001 - batch_size: 8 - training_examples: 120000 - classes: 4\nEpoch 0/3 - 84.48s - loss: 13299.423 - acc: 0.85519165 - batches: 15000\nEpoch 1/3 - 83.01s - loss: 13093.5205 - acc: 0.86995 - batches: 15000\nEpoch 2/3 - 83.64s - loss: 12993.676 - acc: 0.87695 - batches: 15000\n</div>",
       "datasetInfos": [],
       "removedWidgets": [],
       "type": "html"
      }
     },
     "output_type": "display_data"
    }
   ],
   "source": [
    "%sh cat ~/annotator_logs/ClassifierDLApproach_0033b893b924.log"
   ]
  },
  {
   "cell_type": "markdown",
   "metadata": {
    "application/vnd.databricks.v1+cell": {
     "inputWidgets": {},
     "nuid": "ca90d520-35b1-4796-90bd-353cb2dc7720",
     "showTitle": false,
     "title": ""
    }
   },
   "source": [
    "### Saving & loading back the trained model"
   ]
  },
  {
   "cell_type": "code",
   "execution_count": 0,
   "metadata": {
    "application/vnd.databricks.v1+cell": {
     "inputWidgets": {},
     "nuid": "06f1d6aa-84a8-4092-bcb2-e42908e1b697",
     "showTitle": false,
     "title": ""
    }
   },
   "outputs": [
    {
     "data": {
      "text/html": [
       "<style scoped>\n",
       "  .ansiout {\n",
       "    display: block;\n",
       "    unicode-bidi: embed;\n",
       "    white-space: pre-wrap;\n",
       "    word-wrap: break-word;\n",
       "    word-break: break-all;\n",
       "    font-family: \"Source Code Pro\", \"Menlo\", monospace;;\n",
       "    font-size: 13px;\n",
       "    color: #555;\n",
       "    margin-left: 4px;\n",
       "    line-height: 19px;\n",
       "  }\n",
       "</style>\n",
       "<div class=\"ansiout\">Out[27]: [DocumentAssembler_bca6db72dc40,\n",
       " UNIVERSAL_SENTENCE_ENCODER_4de71669b7ec,\n",
       " ClassifierDLModel_670f5c3b6729]</div>"
      ]
     },
     "metadata": {
      "application/vnd.databricks.v1+output": {
       "addedWidgets": {},
       "arguments": {},
       "data": "<div class=\"ansiout\">Out[27]: [DocumentAssembler_bca6db72dc40,\n UNIVERSAL_SENTENCE_ENCODER_4de71669b7ec,\n ClassifierDLModel_670f5c3b6729]</div>",
       "datasetInfos": [],
       "removedWidgets": [],
       "type": "html"
      }
     },
     "output_type": "display_data"
    }
   ],
   "source": [
    "use_pipelineModel.stages"
   ]
  },
  {
   "cell_type": "code",
   "execution_count": 0,
   "metadata": {
    "application/vnd.databricks.v1+cell": {
     "inputWidgets": {},
     "nuid": "b4a86d31-3012-45a1-b965-1857ed17274a",
     "showTitle": false,
     "title": ""
    }
   },
   "outputs": [
    {
     "data": {
      "text/html": [
       "<style scoped>\n",
       "  .ansiout {\n",
       "    display: block;\n",
       "    unicode-bidi: embed;\n",
       "    white-space: pre-wrap;\n",
       "    word-wrap: break-word;\n",
       "    word-break: break-all;\n",
       "    font-family: \"Source Code Pro\", \"Menlo\", monospace;;\n",
       "    font-size: 13px;\n",
       "    color: #555;\n",
       "    margin-left: 4px;\n",
       "    line-height: 19px;\n",
       "  }\n",
       "</style>\n",
       "<div class=\"ansiout\"></div>"
      ]
     },
     "metadata": {
      "application/vnd.databricks.v1+output": {
       "addedWidgets": {},
       "arguments": {},
       "data": "<div class=\"ansiout\"></div>",
       "datasetInfos": [],
       "removedWidgets": [],
       "type": "html"
      }
     },
     "output_type": "display_data"
    }
   ],
   "source": [
    "use_pipelineModel.stages[2].write().overwrite().save('/databricks/driver/models/ClassifierDL_USE_20200211_e5')"
   ]
  },
  {
   "cell_type": "code",
   "execution_count": 0,
   "metadata": {
    "application/vnd.databricks.v1+cell": {
     "inputWidgets": {},
     "nuid": "c1ecdb62-7b8c-4a04-a99b-73a462e21fef",
     "showTitle": false,
     "title": ""
    }
   },
   "outputs": [
    {
     "data": {
      "text/html": [
       "<style scoped>\n",
       "  .ansiout {\n",
       "    display: block;\n",
       "    unicode-bidi: embed;\n",
       "    white-space: pre-wrap;\n",
       "    word-wrap: break-word;\n",
       "    word-break: break-all;\n",
       "    font-family: \"Source Code Pro\", \"Menlo\", monospace;;\n",
       "    font-size: 13px;\n",
       "    color: #555;\n",
       "    margin-left: 4px;\n",
       "    line-height: 19px;\n",
       "  }\n",
       "</style>\n",
       "<div class=\"ansiout\"></div>"
      ]
     },
     "metadata": {
      "application/vnd.databricks.v1+output": {
       "addedWidgets": {},
       "arguments": {},
       "data": "<div class=\"ansiout\"></div>",
       "datasetInfos": [],
       "removedWidgets": [],
       "type": "html"
      }
     },
     "output_type": "display_data"
    }
   ],
   "source": [
    "classsifierdlmodel = ClassifierDLModel.load('dbfs:/databricks/driver/models/ClassifierDL_USE_20200211_e5')"
   ]
  },
  {
   "cell_type": "code",
   "execution_count": 0,
   "metadata": {
    "application/vnd.databricks.v1+cell": {
     "inputWidgets": {},
     "nuid": "ef87b6cb-b31e-4850-9d0f-be09dc22f09d",
     "showTitle": false,
     "title": ""
    }
   },
   "outputs": [
    {
     "data": {
      "text/html": [
       "<style scoped>\n",
       "  .ansiout {\n",
       "    display: block;\n",
       "    unicode-bidi: embed;\n",
       "    white-space: pre-wrap;\n",
       "    word-wrap: break-word;\n",
       "    word-break: break-all;\n",
       "    font-family: \"Source Code Pro\", \"Menlo\", monospace;;\n",
       "    font-size: 13px;\n",
       "    color: #555;\n",
       "    margin-left: 4px;\n",
       "    line-height: 19px;\n",
       "  }\n",
       "</style>\n",
       "<div class=\"ansiout\">tfhub_use download started this may take some time.\n",
       "Approximate size to download 923.7 MB\n",
       "\r",
       "[ | ]\r",
       "[OK!]\n",
       "classes: [&#39;World&#39;, &#39;Sci/Tech&#39;, &#39;Sports&#39;, &#39;Business&#39;]\n",
       "</div>"
      ]
     },
     "metadata": {
      "application/vnd.databricks.v1+output": {
       "addedWidgets": {},
       "arguments": {},
       "data": "<div class=\"ansiout\">tfhub_use download started this may take some time.\nApproximate size to download 923.7 MB\n\r[ | ]\r[OK!]\nclasses: [&#39;World&#39;, &#39;Sci/Tech&#39;, &#39;Sports&#39;, &#39;Business&#39;]\n</div>",
       "datasetInfos": [],
       "removedWidgets": [],
       "type": "html"
      }
     },
     "output_type": "display_data"
    }
   ],
   "source": [
    "clf_lp = get_clf_lp('dbfs:/databricks/driver/models/ClassifierDL_USE_20200211_e5', sentiment_dl=False,  pretrained=False)"
   ]
  },
  {
   "cell_type": "code",
   "execution_count": 0,
   "metadata": {
    "application/vnd.databricks.v1+cell": {
     "inputWidgets": {},
     "nuid": "7d7e7e89-e73e-495d-8c8b-9319c96e9d66",
     "showTitle": false,
     "title": ""
    }
   },
   "outputs": [
    {
     "data": {
      "text/html": [
       "<style scoped>\n",
       "  .ansiout {\n",
       "    display: block;\n",
       "    unicode-bidi: embed;\n",
       "    white-space: pre-wrap;\n",
       "    word-wrap: break-word;\n",
       "    word-break: break-all;\n",
       "    font-family: \"Source Code Pro\", \"Menlo\", monospace;;\n",
       "    font-size: 13px;\n",
       "    color: #555;\n",
       "    margin-left: 4px;\n",
       "    line-height: 19px;\n",
       "  }\n",
       "</style>\n",
       "<div class=\"ansiout\">Out[33]: [&#39;World&#39;]</div>"
      ]
     },
     "metadata": {
      "application/vnd.databricks.v1+output": {
       "addedWidgets": {},
       "arguments": {},
       "data": "<div class=\"ansiout\">Out[33]: [&#39;World&#39;]</div>",
       "datasetInfos": [],
       "removedWidgets": [],
       "type": "html"
      }
     },
     "output_type": "display_data"
    }
   ],
   "source": [
    "clf_lp.annotate(text)['class']"
   ]
  },
  {
   "cell_type": "markdown",
   "metadata": {
    "application/vnd.databricks.v1+cell": {
     "inputWidgets": {},
     "nuid": "155ee976-f195-4d11-baf0-f9b6e12b3df4",
     "showTitle": false,
     "title": ""
    }
   },
   "source": [
    "# SentimentDL Classifier"
   ]
  },
  {
   "cell_type": "markdown",
   "metadata": {
    "application/vnd.databricks.v1+cell": {
     "inputWidgets": {},
     "nuid": "9750326e-e45c-470d-a96f-bb31d6c51ded",
     "showTitle": false,
     "title": ""
    }
   },
   "source": [
    "see also here >> `https://github.com/JohnSnowLabs/spark-nlp-workshop/blob/master/jupyter/training/english/classification/SentimentDL_train_multiclass_sentiment_classifier.ipynb`"
   ]
  },
  {
   "cell_type": "code",
   "execution_count": 0,
   "metadata": {
    "application/vnd.databricks.v1+cell": {
     "inputWidgets": {},
     "nuid": "2cdd9c4a-f7e9-4717-8832-d9d62ca40859",
     "showTitle": false,
     "title": ""
    }
   },
   "outputs": [
    {
     "data": {
      "text/html": [
       "<style scoped>\n",
       "  .ansiout {\n",
       "    display: block;\n",
       "    unicode-bidi: embed;\n",
       "    white-space: pre-wrap;\n",
       "    word-wrap: break-word;\n",
       "    word-break: break-all;\n",
       "    font-family: \"Source Code Pro\", \"Menlo\", monospace;;\n",
       "    font-size: 13px;\n",
       "    color: #555;\n",
       "    margin-left: 4px;\n",
       "    line-height: 19px;\n",
       "  }\n",
       "</style>\n",
       "<div class=\"ansiout\">Out[34]: True</div>"
      ]
     },
     "metadata": {
      "application/vnd.databricks.v1+output": {
       "addedWidgets": {},
       "arguments": {},
       "data": "<div class=\"ansiout\">Out[34]: True</div>",
       "datasetInfos": [],
       "removedWidgets": [],
       "type": "html"
      }
     },
     "output_type": "display_data"
    }
   ],
   "source": [
    "\n",
    "!wget -q aclimdb_train.csv https://s3.amazonaws.com/auxdata.johnsnowlabs.com/public/resources/en/sentiment-corpus/aclimdb/aclimdb_train.csv\n",
    "!wget -q aclimdb_test.csv https://s3.amazonaws.com/auxdata.johnsnowlabs.com/public/resources/en/sentiment-corpus/aclimdb/aclimdb_test.csv\n",
    "  \n",
    "dbutils.fs.cp(\"file:/databricks/driver/aclimdb_train.csv\", \"dbfs:/\")\n",
    "dbutils.fs.cp(\"file:/databricks/driver/aclimdb_test.csv\", \"dbfs:/\")"
   ]
  },
  {
   "cell_type": "code",
   "execution_count": 0,
   "metadata": {
    "application/vnd.databricks.v1+cell": {
     "inputWidgets": {},
     "nuid": "f675103c-89a4-41b7-b861-79dcb7610fb4",
     "showTitle": false,
     "title": ""
    }
   },
   "outputs": [
    {
     "data": {
      "text/html": [
       "<style scoped>\n",
       "  .ansiout {\n",
       "    display: block;\n",
       "    unicode-bidi: embed;\n",
       "    white-space: pre-wrap;\n",
       "    word-wrap: break-word;\n",
       "    word-break: break-all;\n",
       "    font-family: \"Source Code Pro\", \"Menlo\", monospace;;\n",
       "    font-size: 13px;\n",
       "    color: #555;\n",
       "    margin-left: 4px;\n",
       "    line-height: 19px;\n",
       "  }\n",
       "</style>\n",
       "<div class=\"ansiout\">+--------------------+--------+\n",
       "                text|   label|\n",
       "+--------------------+--------+\n",
       "This is an Excell...|positive|\n",
       "The Sarah Silverm...|positive|\n",
       "&#34;Prom Night&#34; is a...|negative|\n",
       "So often a band w...|positive|\n",
       "&#34;Pet Sematary&#34; is...|positive|\n",
       "I watched the fil...|negative|\n",
       "Boy this movie ha...|negative|\n",
       "Checking the spoi...|negative|\n",
       "Despite its rathe...|positive|\n",
       "Absolute masterpi...|positive|\n",
       "The tweedy profes...|positive|\n",
       "A movie best summ...|negative|\n",
       "Take young, prett...|negative|\n",
       "For months I&#39;ve b...|negative|\n",
       "&#34;Batman: The Myst...|positive|\n",
       "Well, it was funn...|negative|\n",
       "I have seen the s...|positive|\n",
       "Brainless film ab...|negative|\n",
       "Leave it to geniu...|negative|\n",
       "Seven Pounds star...|positive|\n",
       "+--------------------+--------+\n",
       "only showing top 20 rows\n",
       "\n",
       "</div>"
      ]
     },
     "metadata": {
      "application/vnd.databricks.v1+output": {
       "addedWidgets": {},
       "arguments": {},
       "data": "<div class=\"ansiout\">+--------------------+--------+\n|                text|   label|\n+--------------------+--------+\n|This is an Excell...|positive|\n|The Sarah Silverm...|positive|\n|&#34;Prom Night&#34; is a...|negative|\n|So often a band w...|positive|\n|&#34;Pet Sematary&#34; is...|positive|\n|I watched the fil...|negative|\n|Boy this movie ha...|negative|\n|Checking the spoi...|negative|\n|Despite its rathe...|positive|\n|Absolute masterpi...|positive|\n|The tweedy profes...|positive|\n|A movie best summ...|negative|\n|Take young, prett...|negative|\n|For months I&#39;ve b...|negative|\n|&#34;Batman: The Myst...|positive|\n|Well, it was funn...|negative|\n|I have seen the s...|positive|\n|Brainless film ab...|negative|\n|Leave it to geniu...|negative|\n|Seven Pounds star...|positive|\n+--------------------+--------+\nonly showing top 20 rows\n\n</div>",
       "datasetInfos": [],
       "removedWidgets": [],
       "type": "html"
      }
     },
     "output_type": "display_data"
    }
   ],
   "source": [
    "trainDataset = spark.read \\\n",
    "      .option(\"header\", True) \\\n",
    "      .csv(\"/aclimdb_train.csv\")\n",
    "\n",
    "trainDataset.show()"
   ]
  },
  {
   "cell_type": "code",
   "execution_count": 0,
   "metadata": {
    "application/vnd.databricks.v1+cell": {
     "inputWidgets": {},
     "nuid": "5995c364-0517-420b-9ac1-eac4370d162d",
     "showTitle": false,
     "title": ""
    }
   },
   "outputs": [
    {
     "data": {
      "text/html": [
       "<style scoped>\n",
       "  .ansiout {\n",
       "    display: block;\n",
       "    unicode-bidi: embed;\n",
       "    white-space: pre-wrap;\n",
       "    word-wrap: break-word;\n",
       "    word-break: break-all;\n",
       "    font-family: \"Source Code Pro\", \"Menlo\", monospace;;\n",
       "    font-size: 13px;\n",
       "    color: #555;\n",
       "    margin-left: 4px;\n",
       "    line-height: 19px;\n",
       "  }\n",
       "</style>\n",
       "<div class=\"ansiout\">tfhub_use download started this may take some time.\n",
       "Approximate size to download 923.7 MB\n",
       "\r",
       "[ | ]\r",
       "[OK!]\n",
       "</div>"
      ]
     },
     "metadata": {
      "application/vnd.databricks.v1+output": {
       "addedWidgets": {},
       "arguments": {},
       "data": "<div class=\"ansiout\">tfhub_use download started this may take some time.\nApproximate size to download 923.7 MB\n\r[ | ]\r[OK!]\n</div>",
       "datasetInfos": [],
       "removedWidgets": [],
       "type": "html"
      }
     },
     "output_type": "display_data"
    }
   ],
   "source": [
    "# actual content is inside description column\n",
    "document = DocumentAssembler()\\\n",
    "    .setInputCol(\"text\")\\\n",
    "    .setOutputCol(\"document\")\n",
    "\n",
    "use = UniversalSentenceEncoder.pretrained() \\\n",
    "   .setInputCols([\"document\"])\\\n",
    "   .setOutputCol(\"sentence_embeddings\")\n",
    "\n",
    "# the classes/labels/categories are in category column\n",
    "sentimentdl = SentimentDLApproach()\\\n",
    "  .setInputCols([\"sentence_embeddings\"])\\\n",
    "  .setOutputCol(\"class\")\\\n",
    "  .setLabelColumn(\"label\")\\\n",
    "  .setMaxEpochs(5)\\\n",
    "  .setEnableOutputLogs(True)\n",
    "\n",
    "pipeline = Pipeline(stages = [\n",
    "    document,\n",
    "    use,\n",
    "    sentimentdl\n",
    "    ])\n"
   ]
  },
  {
   "cell_type": "code",
   "execution_count": 0,
   "metadata": {
    "application/vnd.databricks.v1+cell": {
     "inputWidgets": {},
     "nuid": "317a0752-a94a-4bb8-94e2-57a28eb405a0",
     "showTitle": false,
     "title": ""
    }
   },
   "outputs": [
    {
     "data": {
      "text/html": [
       "<style scoped>\n",
       "  .ansiout {\n",
       "    display: block;\n",
       "    unicode-bidi: embed;\n",
       "    white-space: pre-wrap;\n",
       "    word-wrap: break-word;\n",
       "    word-break: break-all;\n",
       "    font-family: \"Source Code Pro\", \"Menlo\", monospace;;\n",
       "    font-size: 13px;\n",
       "    color: #555;\n",
       "    margin-left: 4px;\n",
       "    line-height: 19px;\n",
       "  }\n",
       "</style>\n",
       "<div class=\"ansiout\"></div>"
      ]
     },
     "metadata": {
      "application/vnd.databricks.v1+output": {
       "addedWidgets": {},
       "arguments": {},
       "data": "<div class=\"ansiout\"></div>",
       "datasetInfos": [],
       "removedWidgets": [],
       "type": "html"
      }
     },
     "output_type": "display_data"
    }
   ],
   "source": [
    "pipelineModel = pipeline.fit(trainDataset)"
   ]
  },
  {
   "cell_type": "markdown",
   "metadata": {
    "application/vnd.databricks.v1+cell": {
     "inputWidgets": {},
     "nuid": "6daf5658-df56-46c6-bd7c-d1d215b8bc31",
     "showTitle": false,
     "title": ""
    }
   },
   "source": [
    "# MultiLabel Classifier"
   ]
  },
  {
   "cell_type": "markdown",
   "metadata": {
    "application/vnd.databricks.v1+cell": {
     "inputWidgets": {},
     "nuid": "cb4267e9-9630-4243-9288-883f021c99ab",
     "showTitle": false,
     "title": ""
    }
   },
   "source": [
    "see also here >> `https://github.com/JohnSnowLabs/spark-nlp-workshop/blob/master/jupyter/training/english/classification/MultiClassifierDL_train_multi_label_toxic_classifier.ipynb`"
   ]
  },
  {
   "cell_type": "code",
   "execution_count": 0,
   "metadata": {
    "application/vnd.databricks.v1+cell": {
     "inputWidgets": {},
     "nuid": "57e352e8-0685-484c-a6d5-e7b57691a805",
     "showTitle": false,
     "title": ""
    }
   },
   "outputs": [
    {
     "data": {
      "text/html": [
       "<style scoped>\n",
       "  .ansiout {\n",
       "    display: block;\n",
       "    unicode-bidi: embed;\n",
       "    white-space: pre-wrap;\n",
       "    word-wrap: break-word;\n",
       "    word-break: break-all;\n",
       "    font-family: \"Source Code Pro\", \"Menlo\", monospace;;\n",
       "    font-size: 13px;\n",
       "    color: #555;\n",
       "    margin-left: 4px;\n",
       "    line-height: 19px;\n",
       "  }\n",
       "</style>\n",
       "<div class=\"ansiout\">  % Total    % Received % Xferd  Average Speed   Time    Time     Time  Current\r\n",
       "                                 Dload  Upload   Total   Spent    Left  Speed\r\n",
       "\r",
       "  0     0    0     0    0     0      0      0 --:--:-- --:--:-- --:--:--     0\r",
       " 63 2702k   63 1714k    0     0  1786k      0  0:00:01 --:--:--  0:00:01 1784k\r",
       "100 2702k  100 2702k    0     0  2726k      0 --:--:-- --:--:-- --:--:-- 2724k\r\n",
       "  % Total    % Received % Xferd  Average Speed   Time    Time     Time  Current\r\n",
       "                                 Dload  Upload   Total   Spent    Left  Speed\r\n",
       "\r",
       "  0     0    0     0    0     0      0      0 --:--:-- --:--:-- --:--:--     0\r",
       "  0     0    0     0    0     0      0      0 --:--:-- --:--:-- --:--:--     0\r",
       "100  289k  100  289k    0     0   424k      0 --:--:-- --:--:-- --:--:--  423k\r\n",
       "</div>"
      ]
     },
     "metadata": {
      "application/vnd.databricks.v1+output": {
       "addedWidgets": {},
       "arguments": {},
       "data": "<div class=\"ansiout\">  % Total    % Received % Xferd  Average Speed   Time    Time     Time  Current\r\n                                 Dload  Upload   Total   Spent    Left  Speed\r\n\r  0     0    0     0    0     0      0      0 --:--:-- --:--:-- --:--:--     0\r 63 2702k   63 1714k    0     0  1786k      0  0:00:01 --:--:--  0:00:01 1784k\r100 2702k  100 2702k    0     0  2726k      0 --:--:-- --:--:-- --:--:-- 2724k\r\n  % Total    % Received % Xferd  Average Speed   Time    Time     Time  Current\r\n                                 Dload  Upload   Total   Spent    Left  Speed\r\n\r  0     0    0     0    0     0      0      0 --:--:-- --:--:-- --:--:--     0\r  0     0    0     0    0     0      0      0 --:--:-- --:--:-- --:--:--     0\r100  289k  100  289k    0     0   424k      0 --:--:-- --:--:-- --:--:--  423k\r\n</div>",
       "datasetInfos": [],
       "removedWidgets": [],
       "type": "html"
      }
     },
     "output_type": "display_data"
    }
   ],
   "source": [
    "!curl -O 'https://s3.amazonaws.com/auxdata.johnsnowlabs.com/public/resources/en/classifier-dl/toxic_comments/toxic_train.snappy.parquet'\n",
    "!curl -O 'https://s3.amazonaws.com/auxdata.johnsnowlabs.com/public/resources/en/classifier-dl/toxic_comments/toxic_test.snappy.parquet'"
   ]
  },
  {
   "cell_type": "code",
   "execution_count": 0,
   "metadata": {
    "application/vnd.databricks.v1+cell": {
     "inputWidgets": {},
     "nuid": "66a0b599-989e-40dc-b468-56762c0516a6",
     "showTitle": false,
     "title": ""
    }
   },
   "outputs": [
    {
     "data": {
      "text/html": [
       "<style scoped>\n",
       "  .ansiout {\n",
       "    display: block;\n",
       "    unicode-bidi: embed;\n",
       "    white-space: pre-wrap;\n",
       "    word-wrap: break-word;\n",
       "    word-break: break-all;\n",
       "    font-family: \"Source Code Pro\", \"Menlo\", monospace;;\n",
       "    font-size: 13px;\n",
       "    color: #555;\n",
       "    margin-left: 4px;\n",
       "    line-height: 19px;\n",
       "  }\n",
       "</style>\n",
       "<div class=\"ansiout\"></div>"
      ]
     },
     "metadata": {
      "application/vnd.databricks.v1+output": {
       "addedWidgets": {},
       "arguments": {},
       "data": "<div class=\"ansiout\"></div>",
       "datasetInfos": [],
       "removedWidgets": [],
       "type": "html"
      }
     },
     "output_type": "display_data"
    }
   ],
   "source": [
    "trainDataset = spark.read.parquet(\"/toxic_train.snappy.parquet\").repartition(120)\n",
    "testDataset = spark.read.parquet(\"/toxic_test.snappy.parquet\").repartition(10)"
   ]
  },
  {
   "cell_type": "code",
   "execution_count": 0,
   "metadata": {
    "application/vnd.databricks.v1+cell": {
     "inputWidgets": {},
     "nuid": "8feb4ec7-dd22-43ab-bd71-94e623c76f9e",
     "showTitle": false,
     "title": ""
    }
   },
   "outputs": [
    {
     "data": {
      "text/html": [
       "<style scoped>\n",
       "  .ansiout {\n",
       "    display: block;\n",
       "    unicode-bidi: embed;\n",
       "    white-space: pre-wrap;\n",
       "    word-wrap: break-word;\n",
       "    word-break: break-all;\n",
       "    font-family: \"Source Code Pro\", \"Menlo\", monospace;;\n",
       "    font-size: 13px;\n",
       "    color: #555;\n",
       "    margin-left: 4px;\n",
       "    line-height: 19px;\n",
       "  }\n",
       "</style>\n",
       "<div class=\"ansiout\">tfhub_use download started this may take some time.\n",
       "Approximate size to download 923.7 MB\n",
       "\r",
       "[ | ]\r",
       "[OK!]\n",
       "</div>"
      ]
     },
     "metadata": {
      "application/vnd.databricks.v1+output": {
       "addedWidgets": {},
       "arguments": {},
       "data": "<div class=\"ansiout\">tfhub_use download started this may take some time.\nApproximate size to download 923.7 MB\n\r[ | ]\r[OK!]\n</div>",
       "datasetInfos": [],
       "removedWidgets": [],
       "type": "html"
      }
     },
     "output_type": "display_data"
    }
   ],
   "source": [
    "# Let's use shrink to remove new lines in the comments\n",
    "document = DocumentAssembler()\\\n",
    "  .setInputCol(\"text\")\\\n",
    "  .setOutputCol(\"document\")\\\n",
    "  .setCleanupMode(\"shrink\")\n",
    "\n",
    "# Here we use the state-of-the-art Universal Sentence Encoder model from TF Hub\n",
    "embeddings = UniversalSentenceEncoder.pretrained() \\\n",
    "  .setInputCols([\"document\"])\\\n",
    "  .setOutputCol(\"sentence_embeddings\")\n",
    "\n",
    "# We will use MultiClassifierDL built by using Bidirectional GRU and CNNs inside TensorFlow that supports up to 100 classes\n",
    "# We will use only 5 Epochs but feel free to increase it on your own dataset\n",
    "multiClassifier = MultiClassifierDLApproach()\\\n",
    "  .setInputCols(\"sentence_embeddings\")\\\n",
    "  .setOutputCol(\"category\")\\\n",
    "  .setLabelColumn(\"labels\")\\\n",
    "  .setBatchSize(128)\\\n",
    "  .setMaxEpochs(5)\\\n",
    "  .setLr(1e-3)\\\n",
    "  .setThreshold(0.5)\\\n",
    "  .setShufflePerEpoch(False)\\\n",
    "  .setEnableOutputLogs(True)\\\n",
    "  .setValidationSplit(0.1)\n",
    "\n",
    "pipeline = Pipeline(\n",
    "    stages = [\n",
    "        document,\n",
    "        embeddings,\n",
    "        multiClassifier\n",
    "    ])"
   ]
  },
  {
   "cell_type": "code",
   "execution_count": 0,
   "metadata": {
    "application/vnd.databricks.v1+cell": {
     "inputWidgets": {},
     "nuid": "daa4956a-4214-4f64-808d-882e760e75f3",
     "showTitle": false,
     "title": ""
    }
   },
   "outputs": [
    {
     "data": {
      "text/html": [
       "<style scoped>\n",
       "  .ansiout {\n",
       "    display: block;\n",
       "    unicode-bidi: embed;\n",
       "    white-space: pre-wrap;\n",
       "    word-wrap: break-word;\n",
       "    word-break: break-all;\n",
       "    font-family: \"Source Code Pro\", \"Menlo\", monospace;;\n",
       "    font-size: 13px;\n",
       "    color: #555;\n",
       "    margin-left: 4px;\n",
       "    line-height: 19px;\n",
       "  }\n",
       "</style>\n",
       "<div class=\"ansiout\"></div>"
      ]
     },
     "metadata": {
      "application/vnd.databricks.v1+output": {
       "addedWidgets": {},
       "arguments": {},
       "data": "<div class=\"ansiout\"></div>",
       "datasetInfos": [],
       "removedWidgets": [],
       "type": "html"
      }
     },
     "output_type": "display_data"
    }
   ],
   "source": [
    "pipelineModel = pipeline.fit(trainDataset)"
   ]
  },
  {
   "cell_type": "code",
   "execution_count": 0,
   "metadata": {
    "application/vnd.databricks.v1+cell": {
     "inputWidgets": {},
     "nuid": "cb0110cd-a227-4fcf-8918-cca2251c5371",
     "showTitle": false,
     "title": ""
    }
   },
   "outputs": [
    {
     "data": {
      "text/html": [
       "<style scoped>\n",
       "  .ansiout {\n",
       "    display: block;\n",
       "    unicode-bidi: embed;\n",
       "    white-space: pre-wrap;\n",
       "    word-wrap: break-word;\n",
       "    word-break: break-all;\n",
       "    font-family: \"Source Code Pro\", \"Menlo\", monospace;;\n",
       "    font-size: 13px;\n",
       "    color: #555;\n",
       "    margin-left: 4px;\n",
       "    line-height: 19px;\n",
       "  }\n",
       "</style>\n",
       "<div class=\"ansiout\">None\n",
       "</div>"
      ]
     },
     "metadata": {
      "application/vnd.databricks.v1+output": {
       "addedWidgets": {},
       "arguments": {},
       "data": "<div class=\"ansiout\">None\n</div>",
       "datasetInfos": [],
       "removedWidgets": [],
       "type": "html"
      }
     },
     "output_type": "display_data"
    }
   ],
   "source": [
    "print(pipeline.fit(testDataset).stages[2].getClasses())\n",
    "# >> ['toxic', 'severe_toxic', 'identity_hate', 'insult', 'obscene', 'threat']"
   ]
  },
  {
   "cell_type": "code",
   "execution_count": 0,
   "metadata": {
    "application/vnd.databricks.v1+cell": {
     "inputWidgets": {},
     "nuid": "9b8303a6-cc96-4997-9e13-6e8e6b66db2c",
     "showTitle": false,
     "title": ""
    }
   },
   "outputs": [],
   "source": [
    "# pred output: [toxic, obscene]"
   ]
  },
  {
   "cell_type": "markdown",
   "metadata": {
    "application/vnd.databricks.v1+cell": {
     "inputWidgets": {},
     "nuid": "eee13186-a80d-44a2-847f-75d1e09cd64a",
     "showTitle": false,
     "title": ""
    }
   },
   "source": [
    "# Case Study: Conference Title Classification"
   ]
  },
  {
   "cell_type": "code",
   "execution_count": 0,
   "metadata": {
    "application/vnd.databricks.v1+cell": {
     "inputWidgets": {},
     "nuid": "1b6eb6e8-d2b6-4208-8390-5f38812f90f3",
     "showTitle": false,
     "title": ""
    }
   },
   "outputs": [
    {
     "data": {
      "text/html": [
       "<style scoped>\n",
       "  .ansiout {\n",
       "    display: block;\n",
       "    unicode-bidi: embed;\n",
       "    white-space: pre-wrap;\n",
       "    word-wrap: break-word;\n",
       "    word-break: break-all;\n",
       "    font-family: \"Source Code Pro\", \"Menlo\", monospace;;\n",
       "    font-size: 13px;\n",
       "    color: #555;\n",
       "    margin-left: 4px;\n",
       "    line-height: 19px;\n",
       "  }\n",
       "</style>\n",
       "<div class=\"ansiout\">Out[49]: True</div>"
      ]
     },
     "metadata": {
      "application/vnd.databricks.v1+output": {
       "addedWidgets": {},
       "arguments": {},
       "data": "<div class=\"ansiout\">Out[49]: True</div>",
       "datasetInfos": [],
       "removedWidgets": [],
       "type": "html"
      }
     },
     "output_type": "display_data"
    }
   ],
   "source": [
    "!wget -q https://raw.githubusercontent.com/JohnSnowLabs/spark-nlp-workshop/master/tutorials/Certification_Trainings/Public/data/title_conference.csv\n",
    "  \n",
    "dbutils.fs.cp(\"file:/databricks/driver/title_conference.csv\", \"dbfs:/\")"
   ]
  },
  {
   "cell_type": "code",
   "execution_count": 0,
   "metadata": {
    "application/vnd.databricks.v1+cell": {
     "inputWidgets": {},
     "nuid": "d980e76d-59a8-4ae0-a699-d74953d88101",
     "showTitle": false,
     "title": ""
    }
   },
   "outputs": [
    {
     "data": {
      "text/html": [
       "<style scoped>\n",
       "  .ansiout {\n",
       "    display: block;\n",
       "    unicode-bidi: embed;\n",
       "    white-space: pre-wrap;\n",
       "    word-wrap: break-word;\n",
       "    word-break: break-all;\n",
       "    font-family: \"Source Code Pro\", \"Menlo\", monospace;;\n",
       "    font-size: 13px;\n",
       "    color: #555;\n",
       "    margin-left: 4px;\n",
       "    line-height: 19px;\n",
       "  }\n",
       "</style>\n",
       "<div class=\"ansiout\">Out[50]: </div>"
      ]
     },
     "metadata": {
      "application/vnd.databricks.v1+output": {
       "addedWidgets": {},
       "arguments": {},
       "data": "<div class=\"ansiout\">Out[50]: </div>",
       "datasetInfos": [],
       "removedWidgets": [],
       "type": "html"
      }
     },
     "output_type": "display_data"
    },
    {
     "data": {
      "text/html": [
       "<div>\n",
       "<style scoped>\n",
       "    .dataframe tbody tr th:only-of-type {\n",
       "        vertical-align: middle;\n",
       "    }\n",
       "\n",
       "    .dataframe tbody tr th {\n",
       "        vertical-align: top;\n",
       "    }\n",
       "\n",
       "    .dataframe thead th {\n",
       "        text-align: right;\n",
       "    }\n",
       "</style>\n",
       "<table border=\"1\" class=\"dataframe\">\n",
       "  <thead>\n",
       "    <tr style=\"text-align: right;\">\n",
       "      <th></th>\n",
       "      <th>Title</th>\n",
       "      <th>Conference</th>\n",
       "    </tr>\n",
       "  </thead>\n",
       "  <tbody>\n",
       "    <tr>\n",
       "      <th>0</th>\n",
       "      <td>Innovation in Database Management: Computer Science vs. Engineering.</td>\n",
       "      <td>VLDB</td>\n",
       "    </tr>\n",
       "    <tr>\n",
       "      <th>1</th>\n",
       "      <td>High performance prime field multiplication for GPU.</td>\n",
       "      <td>ISCAS</td>\n",
       "    </tr>\n",
       "    <tr>\n",
       "      <th>2</th>\n",
       "      <td>enchanted scissors: a scissor interface for support in cutting and interactive fabrication.</td>\n",
       "      <td>SIGGRAPH</td>\n",
       "    </tr>\n",
       "    <tr>\n",
       "      <th>3</th>\n",
       "      <td>Detection of channel degradation attack by Intermediary Node in Linear Networks.</td>\n",
       "      <td>INFOCOM</td>\n",
       "    </tr>\n",
       "    <tr>\n",
       "      <th>4</th>\n",
       "      <td>Pinning a Complex Network through the Betweenness Centrality Strategy.</td>\n",
       "      <td>ISCAS</td>\n",
       "    </tr>\n",
       "    <tr>\n",
       "      <th>...</th>\n",
       "      <td>...</td>\n",
       "      <td>...</td>\n",
       "    </tr>\n",
       "    <tr>\n",
       "      <th>2502</th>\n",
       "      <td>A new QR-decomposition based recursive frequency estimator for multiple sinusoids in impulsive n...</td>\n",
       "      <td>ISCAS</td>\n",
       "    </tr>\n",
       "    <tr>\n",
       "      <th>2503</th>\n",
       "      <td>CNN Implementation of Spin Filters for Electronic Speckle Pattern Interferometry Applications.</td>\n",
       "      <td>ISCAS</td>\n",
       "    </tr>\n",
       "    <tr>\n",
       "      <th>2504</th>\n",
       "      <td>FaceKit: A Database Interface Design Toolkit.</td>\n",
       "      <td>VLDB</td>\n",
       "    </tr>\n",
       "    <tr>\n",
       "      <th>2505</th>\n",
       "      <td>On the trade-off between the number of scrolls and the operating frequency of the chaotic attrac...</td>\n",
       "      <td>ISCAS</td>\n",
       "    </tr>\n",
       "    <tr>\n",
       "      <th>2506</th>\n",
       "      <td>Tracing Ray Differentials.</td>\n",
       "      <td>SIGGRAPH</td>\n",
       "    </tr>\n",
       "  </tbody>\n",
       "</table>\n",
       "<p>2507 rows × 2 columns</p>\n",
       "</div>"
      ]
     },
     "metadata": {
      "application/vnd.databricks.v1+output": {
       "addedWidgets": {},
       "arguments": {},
       "data": "<div>\n<style scoped>\n    .dataframe tbody tr th:only-of-type {\n        vertical-align: middle;\n    }\n\n    .dataframe tbody tr th {\n        vertical-align: top;\n    }\n\n    .dataframe thead th {\n        text-align: right;\n    }\n</style>\n<table border=\"1\" class=\"dataframe\">\n  <thead>\n    <tr style=\"text-align: right;\">\n      <th></th>\n      <th>Title</th>\n      <th>Conference</th>\n    </tr>\n  </thead>\n  <tbody>\n    <tr>\n      <th>0</th>\n      <td>Innovation in Database Management: Computer Science vs. Engineering.</td>\n      <td>VLDB</td>\n    </tr>\n    <tr>\n      <th>1</th>\n      <td>High performance prime field multiplication for GPU.</td>\n      <td>ISCAS</td>\n    </tr>\n    <tr>\n      <th>2</th>\n      <td>enchanted scissors: a scissor interface for support in cutting and interactive fabrication.</td>\n      <td>SIGGRAPH</td>\n    </tr>\n    <tr>\n      <th>3</th>\n      <td>Detection of channel degradation attack by Intermediary Node in Linear Networks.</td>\n      <td>INFOCOM</td>\n    </tr>\n    <tr>\n      <th>4</th>\n      <td>Pinning a Complex Network through the Betweenness Centrality Strategy.</td>\n      <td>ISCAS</td>\n    </tr>\n    <tr>\n      <th>...</th>\n      <td>...</td>\n      <td>...</td>\n    </tr>\n    <tr>\n      <th>2502</th>\n      <td>A new QR-decomposition based recursive frequency estimator for multiple sinusoids in impulsive n...</td>\n      <td>ISCAS</td>\n    </tr>\n    <tr>\n      <th>2503</th>\n      <td>CNN Implementation of Spin Filters for Electronic Speckle Pattern Interferometry Applications.</td>\n      <td>ISCAS</td>\n    </tr>\n    <tr>\n      <th>2504</th>\n      <td>FaceKit: A Database Interface Design Toolkit.</td>\n      <td>VLDB</td>\n    </tr>\n    <tr>\n      <th>2505</th>\n      <td>On the trade-off between the number of scrolls and the operating frequency of the chaotic attrac...</td>\n      <td>ISCAS</td>\n    </tr>\n    <tr>\n      <th>2506</th>\n      <td>Tracing Ray Differentials.</td>\n      <td>SIGGRAPH</td>\n    </tr>\n  </tbody>\n</table>\n<p>2507 rows × 2 columns</p>\n</div>",
       "datasetInfos": [],
       "removedWidgets": [],
       "textData": null,
       "type": "htmlSandbox"
      }
     },
     "output_type": "display_data"
    }
   ],
   "source": [
    "import pandas as pd\n",
    "df = pd.read_csv('title_conference.csv')\n",
    "df"
   ]
  },
  {
   "cell_type": "code",
   "execution_count": 0,
   "metadata": {
    "application/vnd.databricks.v1+cell": {
     "inputWidgets": {},
     "nuid": "46688d20-b1f5-4339-9d90-195b9cc81b58",
     "showTitle": false,
     "title": ""
    }
   },
   "outputs": [
    {
     "data": {
      "text/html": [
       "<style scoped>\n",
       "  .ansiout {\n",
       "    display: block;\n",
       "    unicode-bidi: embed;\n",
       "    white-space: pre-wrap;\n",
       "    word-wrap: break-word;\n",
       "    word-break: break-all;\n",
       "    font-family: \"Source Code Pro\", \"Menlo\", monospace;;\n",
       "    font-size: 13px;\n",
       "    color: #555;\n",
       "    margin-left: 4px;\n",
       "    line-height: 19px;\n",
       "  }\n",
       "</style>\n",
       "<div class=\"ansiout\">Out[51]: ISCAS       864\n",
       "INFOCOM     515\n",
       "VLDB        423\n",
       "WWW         379\n",
       "SIGGRAPH    326\n",
       "Name: Conference, dtype: int64</div>"
      ]
     },
     "metadata": {
      "application/vnd.databricks.v1+output": {
       "addedWidgets": {},
       "arguments": {},
       "data": "<div class=\"ansiout\">Out[51]: ISCAS       864\nINFOCOM     515\nVLDB        423\nWWW         379\nSIGGRAPH    326\nName: Conference, dtype: int64</div>",
       "datasetInfos": [],
       "removedWidgets": [],
       "type": "html"
      }
     },
     "output_type": "display_data"
    }
   ],
   "source": [
    "df.Conference.value_counts()"
   ]
  },
  {
   "cell_type": "code",
   "execution_count": 0,
   "metadata": {
    "application/vnd.databricks.v1+cell": {
     "inputWidgets": {},
     "nuid": "be8c9f8f-ccd6-4f08-87c7-c37f9a9e24c5",
     "showTitle": false,
     "title": ""
    }
   },
   "outputs": [
    {
     "data": {
      "text/html": [
       "<style scoped>\n",
       "  .ansiout {\n",
       "    display: block;\n",
       "    unicode-bidi: embed;\n",
       "    white-space: pre-wrap;\n",
       "    word-wrap: break-word;\n",
       "    word-break: break-all;\n",
       "    font-family: \"Source Code Pro\", \"Menlo\", monospace;;\n",
       "    font-size: 13px;\n",
       "    color: #555;\n",
       "    margin-left: 4px;\n",
       "    line-height: 19px;\n",
       "  }\n",
       "</style>\n",
       "<div class=\"ansiout\">Training Dataset Count: 2030\n",
       "Test Dataset Count: 477\n",
       "</div>"
      ]
     },
     "metadata": {
      "application/vnd.databricks.v1+output": {
       "addedWidgets": {},
       "arguments": {},
       "data": "<div class=\"ansiout\">Training Dataset Count: 2030\nTest Dataset Count: 477\n</div>",
       "datasetInfos": [],
       "removedWidgets": [],
       "type": "html"
      }
     },
     "output_type": "display_data"
    }
   ],
   "source": [
    "trainDataset = spark.read \\\n",
    "      .option(\"header\", True) \\\n",
    "      .csv(\"/title_conference.csv\")\n",
    "\n",
    "(trainingData, testData) = trainDataset.randomSplit([0.8, 0.2], seed = 100)\n",
    "print(\"Training Dataset Count: \" + str(trainingData.count()))\n",
    "print(\"Test Dataset Count: \" + str(testData.count()))\n"
   ]
  },
  {
   "cell_type": "code",
   "execution_count": 0,
   "metadata": {
    "application/vnd.databricks.v1+cell": {
     "inputWidgets": {},
     "nuid": "e4ebf0d7-465a-42a8-b9a3-4e33f2b98bd8",
     "showTitle": false,
     "title": ""
    }
   },
   "outputs": [
    {
     "data": {
      "text/html": [
       "<style scoped>\n",
       "  .ansiout {\n",
       "    display: block;\n",
       "    unicode-bidi: embed;\n",
       "    white-space: pre-wrap;\n",
       "    word-wrap: break-word;\n",
       "    word-break: break-all;\n",
       "    font-family: \"Source Code Pro\", \"Menlo\", monospace;;\n",
       "    font-size: 13px;\n",
       "    color: #555;\n",
       "    margin-left: 4px;\n",
       "    line-height: 19px;\n",
       "  }\n",
       "</style>\n",
       "<div class=\"ansiout\">tfhub_use download started this may take some time.\n",
       "Approximate size to download 923.7 MB\n",
       "\r",
       "[ | ]\r",
       "[OK!]\n",
       "</div>"
      ]
     },
     "metadata": {
      "application/vnd.databricks.v1+output": {
       "addedWidgets": {},
       "arguments": {},
       "data": "<div class=\"ansiout\">tfhub_use download started this may take some time.\nApproximate size to download 923.7 MB\n\r[ | ]\r[OK!]\n</div>",
       "datasetInfos": [],
       "removedWidgets": [],
       "type": "html"
      }
     },
     "output_type": "display_data"
    }
   ],
   "source": [
    "document = DocumentAssembler()\\\n",
    "      .setInputCol(\"Title\")\\\n",
    "      .setOutputCol(\"document\")\n",
    "    \n",
    "# we can also use sentece detector here if we want to train on and get predictions for each sentence\n",
    "\n",
    "use = UniversalSentenceEncoder.pretrained()\\\n",
    "      .setInputCols([\"document\"])\\\n",
    "      .setOutputCol(\"sentence_embeddings\")\n",
    "\n",
    "# the classes/labels/categories are in category column\n",
    "classsifierdl = ClassifierDLApproach()\\\n",
    "      .setInputCols([\"sentence_embeddings\"])\\\n",
    "      .setOutputCol(\"class\")\\\n",
    "      .setLabelColumn(\"Conference\")\\\n",
    "      .setMaxEpochs(20)\\\n",
    "      .setEnableOutputLogs(True)\n",
    "\n",
    "use_clf_pipeline = Pipeline(\n",
    "    stages = [\n",
    "        document,\n",
    "        use,\n",
    "        classsifierdl\n",
    "    ])"
   ]
  },
  {
   "cell_type": "code",
   "execution_count": 0,
   "metadata": {
    "application/vnd.databricks.v1+cell": {
     "inputWidgets": {},
     "nuid": "867dd7b1-9c03-46fa-aab6-6b0d4ce8b006",
     "showTitle": false,
     "title": ""
    }
   },
   "outputs": [
    {
     "data": {
      "text/html": [
       "<style scoped>\n",
       "  .ansiout {\n",
       "    display: block;\n",
       "    unicode-bidi: embed;\n",
       "    white-space: pre-wrap;\n",
       "    word-wrap: break-word;\n",
       "    word-break: break-all;\n",
       "    font-family: \"Source Code Pro\", \"Menlo\", monospace;;\n",
       "    font-size: 13px;\n",
       "    color: #555;\n",
       "    margin-left: 4px;\n",
       "    line-height: 19px;\n",
       "  }\n",
       "</style>\n",
       "<div class=\"ansiout\"></div>"
      ]
     },
     "metadata": {
      "application/vnd.databricks.v1+output": {
       "addedWidgets": {},
       "arguments": {},
       "data": "<div class=\"ansiout\"></div>",
       "datasetInfos": [],
       "removedWidgets": [],
       "type": "html"
      }
     },
     "output_type": "display_data"
    }
   ],
   "source": [
    "use_pipelineModel = use_clf_pipeline.fit(trainingData)\n",
    "\n",
    "# 20 epochs takes around 22 seconds !"
   ]
  },
  {
   "cell_type": "code",
   "execution_count": 0,
   "metadata": {
    "application/vnd.databricks.v1+cell": {
     "inputWidgets": {},
     "nuid": "7410852d-1f64-4f1a-8819-8c6f25126319",
     "showTitle": false,
     "title": ""
    }
   },
   "outputs": [
    {
     "data": {
      "text/html": [
       "<style scoped>\n",
       "  .ansiout {\n",
       "    display: block;\n",
       "    unicode-bidi: embed;\n",
       "    white-space: pre-wrap;\n",
       "    word-wrap: break-word;\n",
       "    word-break: break-all;\n",
       "    font-family: \"Source Code Pro\", \"Menlo\", monospace;;\n",
       "    font-size: 13px;\n",
       "    color: #555;\n",
       "    margin-left: 4px;\n",
       "    line-height: 19px;\n",
       "  }\n",
       "</style>\n",
       "<div class=\"ansiout\">Out[55]: [DocumentAssembler_2ab5c09c141d,\n",
       " UNIVERSAL_SENTENCE_ENCODER_4de71669b7ec,\n",
       " ClassifierDLModel_2e86df876703]</div>"
      ]
     },
     "metadata": {
      "application/vnd.databricks.v1+output": {
       "addedWidgets": {},
       "arguments": {},
       "data": "<div class=\"ansiout\">Out[55]: [DocumentAssembler_2ab5c09c141d,\n UNIVERSAL_SENTENCE_ENCODER_4de71669b7ec,\n ClassifierDLModel_2e86df876703]</div>",
       "datasetInfos": [],
       "removedWidgets": [],
       "type": "html"
      }
     },
     "output_type": "display_data"
    }
   ],
   "source": [
    "use_pipelineModel.stages"
   ]
  },
  {
   "cell_type": "code",
   "execution_count": 0,
   "metadata": {
    "application/vnd.databricks.v1+cell": {
     "inputWidgets": {},
     "nuid": "c1445d76-c085-4db5-a4f7-effe8f6bcb56",
     "showTitle": false,
     "title": ""
    }
   },
   "outputs": [
    {
     "data": {
      "text/html": [
       "<style scoped>\n",
       "  .ansiout {\n",
       "    display: block;\n",
       "    unicode-bidi: embed;\n",
       "    white-space: pre-wrap;\n",
       "    word-wrap: break-word;\n",
       "    word-break: break-all;\n",
       "    font-family: \"Source Code Pro\", \"Menlo\", monospace;;\n",
       "    font-size: 13px;\n",
       "    color: #555;\n",
       "    margin-left: 4px;\n",
       "    line-height: 19px;\n",
       "  }\n",
       "</style>\n",
       "<div class=\"ansiout\"></div>"
      ]
     },
     "metadata": {
      "application/vnd.databricks.v1+output": {
       "addedWidgets": {},
       "arguments": {},
       "data": "<div class=\"ansiout\"></div>",
       "datasetInfos": [],
       "removedWidgets": [],
       "type": "html"
      }
     },
     "output_type": "display_data"
    }
   ],
   "source": [
    "use_pipelineModel.stages[-1].write().overwrite().save('dbfs:/databricks/driver/models/use_clf')\n",
    "use_clf_loaded = ClassifierDLModel.load('dbfs:/databricks/driver/models/use_clf')\n",
    "\n",
    "use_clf_pipeline_pred = Pipeline(\n",
    "    stages=[document, \n",
    "            use_pipelineModel.stages[-2],\n",
    "            use_clf_loaded])\n",
    "\n",
    "empty_data = spark.createDataFrame([[\"\"]]).toDF(\"description\")\n",
    "\n",
    "result = use_clf_pipeline_pred.fit(empty_data).transform(testData)"
   ]
  },
  {
   "cell_type": "code",
   "execution_count": 0,
   "metadata": {
    "application/vnd.databricks.v1+cell": {
     "inputWidgets": {},
     "nuid": "234caa98-6c68-4800-8dd3-0de556fc83d8",
     "showTitle": false,
     "title": ""
    }
   },
   "outputs": [
    {
     "data": {
      "text/html": [
       "<style scoped>\n",
       "  .ansiout {\n",
       "    display: block;\n",
       "    unicode-bidi: embed;\n",
       "    white-space: pre-wrap;\n",
       "    word-wrap: break-word;\n",
       "    word-break: break-all;\n",
       "    font-family: \"Source Code Pro\", \"Menlo\", monospace;;\n",
       "    font-size: 13px;\n",
       "    color: #555;\n",
       "    margin-left: 4px;\n",
       "    line-height: 19px;\n",
       "  }\n",
       "</style>\n",
       "<div class=\"ansiout\">+--------------------------------------------------------------------------------+----------+----------+\n",
       "                                                                           Title|Conference|    result|\n",
       "+--------------------------------------------------------------------------------+----------+----------+\n",
       "                       &#34;From &#34;&#34;Think Like a Vertex&#34;&#34; to &#34;&#34;Think Like a Graph&#34;&#34;.&#34;|      VLDB|[SIGGRAPH]|\n",
       "                                                  1, 000 Tables Inside the From.|      VLDB|    [VLDB]|\n",
       "                             10Gbit/s 2mW inductorless transimpedance amplifier.|     ISCAS|   [ISCAS]|\n",
       "3D reconstruction from planar points: A candidate method for authentication o...|     ISCAS|   [ISCAS]|\n",
       "        7-decades tunable translinear SiGe BiCMOS 3-phase sinusoidal oscillator.|     ISCAS|   [ISCAS]|\n",
       "           A 0.18-&amp;micro;m CMOS Squarer Circuit for a Non-Coherent UWB Receiver.|     ISCAS|   [ISCAS]|\n",
       "    A 10-Bit 200-MS/s digitally-calibrated pipelined ADC using switching opamps.|     ISCAS|   [ISCAS]|\n",
       "                              A 10-bit 2GHz Current-Steering CMOS D/A Converter.|     ISCAS|   [ISCAS]|\n",
       "              A 13-bit, low-power, compact ADC suitable for sensor applications.|     ISCAS|   [ISCAS]|\n",
       "A 14-b 32MS/s Pipelined ADC with Novel Fast-convergence Comprehensive Backgro...|     ISCAS|   [ISCAS]|\n",
       "+--------------------------------------------------------------------------------+----------+----------+\n",
       "only showing top 10 rows\n",
       "\n",
       "</div>"
      ]
     },
     "metadata": {
      "application/vnd.databricks.v1+output": {
       "addedWidgets": {},
       "arguments": {},
       "data": "<div class=\"ansiout\">+--------------------------------------------------------------------------------+----------+----------+\n|                                                                           Title|Conference|    result|\n+--------------------------------------------------------------------------------+----------+----------+\n|                       &#34;From &#34;&#34;Think Like a Vertex&#34;&#34; to &#34;&#34;Think Like a Graph&#34;&#34;.&#34;|      VLDB|[SIGGRAPH]|\n|                                                  1, 000 Tables Inside the From.|      VLDB|    [VLDB]|\n|                             10Gbit/s 2mW inductorless transimpedance amplifier.|     ISCAS|   [ISCAS]|\n|3D reconstruction from planar points: A candidate method for authentication o...|     ISCAS|   [ISCAS]|\n|        7-decades tunable translinear SiGe BiCMOS 3-phase sinusoidal oscillator.|     ISCAS|   [ISCAS]|\n|           A 0.18-&amp;micro;m CMOS Squarer Circuit for a Non-Coherent UWB Receiver.|     ISCAS|   [ISCAS]|\n|    A 10-Bit 200-MS/s digitally-calibrated pipelined ADC using switching opamps.|     ISCAS|   [ISCAS]|\n|                              A 10-bit 2GHz Current-Steering CMOS D/A Converter.|     ISCAS|   [ISCAS]|\n|              A 13-bit, low-power, compact ADC suitable for sensor applications.|     ISCAS|   [ISCAS]|\n|A 14-b 32MS/s Pipelined ADC with Novel Fast-convergence Comprehensive Backgro...|     ISCAS|   [ISCAS]|\n+--------------------------------------------------------------------------------+----------+----------+\nonly showing top 10 rows\n\n</div>",
       "datasetInfos": [],
       "removedWidgets": [],
       "type": "html"
      }
     },
     "output_type": "display_data"
    }
   ],
   "source": [
    "result.select('Title','Conference',\"class.result\").show(10, truncate=80)\n"
   ]
  },
  {
   "cell_type": "code",
   "execution_count": 0,
   "metadata": {
    "application/vnd.databricks.v1+cell": {
     "inputWidgets": {},
     "nuid": "9da42f63-bde2-4637-aa1e-b7c974e2fec5",
     "showTitle": false,
     "title": ""
    }
   },
   "outputs": [
    {
     "data": {
      "text/html": [
       "<style scoped>\n",
       "  .ansiout {\n",
       "    display: block;\n",
       "    unicode-bidi: embed;\n",
       "    white-space: pre-wrap;\n",
       "    word-wrap: break-word;\n",
       "    word-break: break-all;\n",
       "    font-family: \"Source Code Pro\", \"Menlo\", monospace;;\n",
       "    font-size: 13px;\n",
       "    color: #555;\n",
       "    margin-left: 4px;\n",
       "    line-height: 19px;\n",
       "  }\n",
       "</style>\n",
       "<div class=\"ansiout\">              precision    recall  f1-score   support\n",
       "\n",
       "     INFOCOM       0.71      0.80      0.75        88\n",
       "       ISCAS       0.87      0.83      0.85       186\n",
       "    SIGGRAPH       0.63      0.67      0.65        48\n",
       "        VLDB       0.68      0.60      0.64        78\n",
       "         WWW       0.63      0.68      0.65        77\n",
       "\n",
       "    accuracy                           0.74       477\n",
       "   macro avg       0.71      0.71      0.71       477\n",
       "weighted avg       0.75      0.74      0.74       477\n",
       "\n",
       "</div>"
      ]
     },
     "metadata": {
      "application/vnd.databricks.v1+output": {
       "addedWidgets": {},
       "arguments": {},
       "data": "<div class=\"ansiout\">              precision    recall  f1-score   support\n\n     INFOCOM       0.71      0.80      0.75        88\n       ISCAS       0.87      0.83      0.85       186\n    SIGGRAPH       0.63      0.67      0.65        48\n        VLDB       0.68      0.60      0.64        78\n         WWW       0.63      0.68      0.65        77\n\n    accuracy                           0.74       477\n   macro avg       0.71      0.71      0.71       477\nweighted avg       0.75      0.74      0.74       477\n\n</div>",
       "datasetInfos": [],
       "removedWidgets": [],
       "type": "html"
      }
     },
     "output_type": "display_data"
    }
   ],
   "source": [
    "# We are going to use sklearn to evalute the results on test dataset\n",
    "preds_df = result.select('Conference','Title',\"class.result\").toPandas()\n",
    "\n",
    "# Let's explode the array and get the item(s) inside of result column out\n",
    "preds_df['result'] = preds_df['result'].apply(lambda x : x[0])\n",
    "\n",
    "from sklearn.metrics import classification_report\n",
    "\n",
    "print (classification_report(preds_df['result'], preds_df['Conference']))\n"
   ]
  },
  {
   "cell_type": "code",
   "execution_count": 0,
   "metadata": {
    "application/vnd.databricks.v1+cell": {
     "inputWidgets": {},
     "nuid": "38121419-8b91-4f6e-8e51-0238bec1a795",
     "showTitle": false,
     "title": ""
    }
   },
   "outputs": [
    {
     "data": {
      "text/html": [
       "<style scoped>\n",
       "  .ansiout {\n",
       "    display: block;\n",
       "    unicode-bidi: embed;\n",
       "    white-space: pre-wrap;\n",
       "    word-wrap: break-word;\n",
       "    word-break: break-all;\n",
       "    font-family: \"Source Code Pro\", \"Menlo\", monospace;;\n",
       "    font-size: 13px;\n",
       "    color: #555;\n",
       "    margin-left: 4px;\n",
       "    line-height: 19px;\n",
       "  }\n",
       "</style>\n",
       "<div class=\"ansiout\">Out[59]: </div>"
      ]
     },
     "metadata": {
      "application/vnd.databricks.v1+output": {
       "addedWidgets": {},
       "arguments": {},
       "data": "<div class=\"ansiout\">Out[59]: </div>",
       "datasetInfos": [],
       "removedWidgets": [],
       "type": "html"
      }
     },
     "output_type": "display_data"
    },
    {
     "data": {
      "text/html": [
       "<div>\n",
       "<style scoped>\n",
       "    .dataframe tbody tr th:only-of-type {\n",
       "        vertical-align: middle;\n",
       "    }\n",
       "\n",
       "    .dataframe tbody tr th {\n",
       "        vertical-align: top;\n",
       "    }\n",
       "\n",
       "    .dataframe thead th {\n",
       "        text-align: right;\n",
       "    }\n",
       "</style>\n",
       "<table border=\"1\" class=\"dataframe\">\n",
       "  <thead>\n",
       "    <tr style=\"text-align: right;\">\n",
       "      <th></th>\n",
       "      <th>INFOCOM</th>\n",
       "      <th>ISCAS</th>\n",
       "      <th>SIGGRAPH</th>\n",
       "      <th>VLDB</th>\n",
       "      <th>WWW</th>\n",
       "    </tr>\n",
       "  </thead>\n",
       "  <tbody>\n",
       "    <tr>\n",
       "      <th>INFOCOM</th>\n",
       "      <td>70</td>\n",
       "      <td>8</td>\n",
       "      <td>1</td>\n",
       "      <td>2</td>\n",
       "      <td>7</td>\n",
       "    </tr>\n",
       "    <tr>\n",
       "      <th>ISCAS</th>\n",
       "      <td>13</td>\n",
       "      <td>154</td>\n",
       "      <td>11</td>\n",
       "      <td>5</td>\n",
       "      <td>3</td>\n",
       "    </tr>\n",
       "    <tr>\n",
       "      <th>SIGGRAPH</th>\n",
       "      <td>1</td>\n",
       "      <td>6</td>\n",
       "      <td>32</td>\n",
       "      <td>4</td>\n",
       "      <td>5</td>\n",
       "    </tr>\n",
       "    <tr>\n",
       "      <th>VLDB</th>\n",
       "      <td>6</td>\n",
       "      <td>8</td>\n",
       "      <td>2</td>\n",
       "      <td>47</td>\n",
       "      <td>15</td>\n",
       "    </tr>\n",
       "    <tr>\n",
       "      <th>WWW</th>\n",
       "      <td>8</td>\n",
       "      <td>1</td>\n",
       "      <td>5</td>\n",
       "      <td>11</td>\n",
       "      <td>52</td>\n",
       "    </tr>\n",
       "  </tbody>\n",
       "</table>\n",
       "</div>"
      ]
     },
     "metadata": {
      "application/vnd.databricks.v1+output": {
       "addedWidgets": {},
       "arguments": {},
       "data": "<div>\n<style scoped>\n    .dataframe tbody tr th:only-of-type {\n        vertical-align: middle;\n    }\n\n    .dataframe tbody tr th {\n        vertical-align: top;\n    }\n\n    .dataframe thead th {\n        text-align: right;\n    }\n</style>\n<table border=\"1\" class=\"dataframe\">\n  <thead>\n    <tr style=\"text-align: right;\">\n      <th></th>\n      <th>INFOCOM</th>\n      <th>ISCAS</th>\n      <th>SIGGRAPH</th>\n      <th>VLDB</th>\n      <th>WWW</th>\n    </tr>\n  </thead>\n  <tbody>\n    <tr>\n      <th>INFOCOM</th>\n      <td>70</td>\n      <td>8</td>\n      <td>1</td>\n      <td>2</td>\n      <td>7</td>\n    </tr>\n    <tr>\n      <th>ISCAS</th>\n      <td>13</td>\n      <td>154</td>\n      <td>11</td>\n      <td>5</td>\n      <td>3</td>\n    </tr>\n    <tr>\n      <th>SIGGRAPH</th>\n      <td>1</td>\n      <td>6</td>\n      <td>32</td>\n      <td>4</td>\n      <td>5</td>\n    </tr>\n    <tr>\n      <th>VLDB</th>\n      <td>6</td>\n      <td>8</td>\n      <td>2</td>\n      <td>47</td>\n      <td>15</td>\n    </tr>\n    <tr>\n      <th>WWW</th>\n      <td>8</td>\n      <td>1</td>\n      <td>5</td>\n      <td>11</td>\n      <td>52</td>\n    </tr>\n  </tbody>\n</table>\n</div>",
       "datasetInfos": [],
       "removedWidgets": [],
       "textData": null,
       "type": "htmlSandbox"
      }
     },
     "output_type": "display_data"
    }
   ],
   "source": [
    "from sklearn.metrics import confusion_matrix, accuracy_score\n",
    "import numpy as np\n",
    "\n",
    "preds = pd.DataFrame(confusion_matrix(preds_df['result'], preds_df['Conference']), columns = np.unique(preds_df['Conference']), index =  np.unique(preds_df['Conference']))\n",
    "preds"
   ]
  },
  {
   "cell_type": "markdown",
   "metadata": {
    "application/vnd.databricks.v1+cell": {
     "inputWidgets": {},
     "nuid": "08db6498-20dc-4464-8ec4-f600b87c1b81",
     "showTitle": false,
     "title": ""
    }
   },
   "source": [
    "End of Notebook # 5"
   ]
  }
 ],
 "metadata": {
  "application/vnd.databricks.v1+notebook": {
   "dashboards": [],
   "language": "python",
   "notebookMetadata": {
    "pythonIndentUnit": 2
   },
   "notebookName": "5.Text_Classification_with_ClassifierDL_v3.0.1",
   "notebookOrigID": 1537572629176751,
   "widgets": {}
  },
  "kernelspec": {
   "display_name": "Python 3",
   "language": "python",
   "name": "python3"
  },
  "language_info": {
   "codemirror_mode": {
    "name": "ipython",
    "version": 3
   },
   "file_extension": ".py",
   "mimetype": "text/x-python",
   "name": "python",
   "nbconvert_exporter": "python",
   "pygments_lexer": "ipython3",
   "version": "3.8.3"
  }
 },
 "nbformat": 4,
 "nbformat_minor": 1
}

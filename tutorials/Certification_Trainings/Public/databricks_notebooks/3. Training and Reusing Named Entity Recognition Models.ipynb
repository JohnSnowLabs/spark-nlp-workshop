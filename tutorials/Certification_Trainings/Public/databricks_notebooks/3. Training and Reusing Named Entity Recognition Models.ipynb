{
 "cells": [
  {
   "cell_type": "markdown",
   "metadata": {
    "application/vnd.databricks.v1+cell": {
     "inputWidgets": {},
     "nuid": "d910a9a5-dc4b-4fd2-b329-6053b67cf876",
     "showTitle": false,
     "title": ""
    }
   },
   "source": [
    "![JohnSnowLabs](https://nlp.johnsnowlabs.com/assets/images/logo.png)"
   ]
  },
  {
   "cell_type": "markdown",
   "metadata": {
    "application/vnd.databricks.v1+cell": {
     "inputWidgets": {},
     "nuid": "fcc37f94-6b77-47da-8dcc-4fbf22eb22d5",
     "showTitle": false,
     "title": ""
    }
   },
   "source": [
    "# 3. Training and Reusing Named Entity Recognition Models"
   ]
  },
  {
   "cell_type": "markdown",
   "metadata": {
    "application/vnd.databricks.v1+cell": {
     "inputWidgets": {},
     "nuid": "83395cfa-8d1f-4f4d-bca3-637aac7b52e5",
     "showTitle": false,
     "title": ""
    }
   },
   "source": [
    "## Related blogposts and videos:\n",
    "\n",
    "https://towardsdatascience.com/named-entity-recognition-ner-with-bert-in-spark-nlp-874df20d1d77\n",
    "\n",
    "NerDL worksghop (90 min): https://www.youtube.com/watch?v=YM-e4eOiQ34\n",
    "\n",
    "https://medium.com/spark-nlp/named-entity-recognition-for-healthcare-with-sparknlp-nerdl-and-nercrf-a7751b6ad571\n",
    "\n",
    "https://medium.com/atlas-research/ner-for-clinical-text-7c73caddd180"
   ]
  },
  {
   "cell_type": "code",
   "execution_count": 0,
   "metadata": {
    "application/vnd.databricks.v1+cell": {
     "inputWidgets": {},
     "nuid": "01d6264e-bb20-4bca-8c2f-f2ebc1dd1d08",
     "showTitle": false,
     "title": ""
    }
   },
   "outputs": [
    {
     "data": {
      "text/html": [
       "<style scoped>\n",
       "  .ansiout {\n",
       "    display: block;\n",
       "    unicode-bidi: embed;\n",
       "    white-space: pre-wrap;\n",
       "    word-wrap: break-word;\n",
       "    word-break: break-all;\n",
       "    font-family: \"Source Code Pro\", \"Menlo\", monospace;;\n",
       "    font-size: 13px;\n",
       "    color: #555;\n",
       "    margin-left: 4px;\n",
       "    line-height: 19px;\n",
       "  }\n",
       "</style>\n",
       "<div class=\"ansiout\">Spark NLP version 3.0.1\n",
       "Apache Spark version: 3.0.1\n",
       "Out[2]: </div>"
      ]
     },
     "metadata": {
      "application/vnd.databricks.v1+output": {
       "addedWidgets": {},
       "arguments": {},
       "data": "<div class=\"ansiout\">Spark NLP version 3.0.1\nApache Spark version: 3.0.1\nOut[2]: </div>",
       "datasetInfos": [],
       "removedWidgets": [],
       "type": "html"
      }
     },
     "output_type": "display_data"
    },
    {
     "data": {
      "text/html": [
       "\n",
       "            <div>\n",
       "                <p><b>SparkSession - hive</b></p>\n",
       "                \n",
       "        <div>\n",
       "            <p><b>SparkContext</b></p>\n",
       "\n",
       "            <p><a href=\"/?o=3418543878422327#setting/sparkui/0421-031638-preys129/driver-4266845410800490723\">Spark UI</a></p>\n",
       "\n",
       "            <dl>\n",
       "              <dt>Version</dt>\n",
       "                <dd><code>v3.0.1</code></dd>\n",
       "              <dt>Master</dt>\n",
       "                <dd><code>spark://10.164.244.12:7077</code></dd>\n",
       "              <dt>AppName</dt>\n",
       "                <dd><code>Databricks Shell</code></dd>\n",
       "            </dl>\n",
       "        </div>\n",
       "        \n",
       "            </div>\n",
       "        "
      ]
     },
     "metadata": {
      "application/vnd.databricks.v1+output": {
       "addedWidgets": {},
       "arguments": {},
       "data": "\n            <div>\n                <p><b>SparkSession - hive</b></p>\n                \n        <div>\n            <p><b>SparkContext</b></p>\n\n            <p><a href=\"/?o=3418543878422327#setting/sparkui/0421-031638-preys129/driver-4266845410800490723\">Spark UI</a></p>\n\n            <dl>\n              <dt>Version</dt>\n                <dd><code>v3.0.1</code></dd>\n              <dt>Master</dt>\n                <dd><code>spark://10.164.244.12:7077</code></dd>\n              <dt>AppName</dt>\n                <dd><code>Databricks Shell</code></dd>\n            </dl>\n        </div>\n        \n            </div>\n        ",
       "datasetInfos": [],
       "removedWidgets": [],
       "textData": null,
       "type": "htmlSandbox"
      }
     },
     "output_type": "display_data"
    }
   ],
   "source": [
    "import sparknlp\n",
    "from sparknlp.base import *\n",
    "from sparknlp.annotator import *\n",
    "\n",
    "print(\"Spark NLP version\", sparknlp.version())\n",
    "\n",
    "print(\"Apache Spark version:\", spark.version)\n",
    "\n",
    "spark"
   ]
  },
  {
   "cell_type": "markdown",
   "metadata": {
    "application/vnd.databricks.v1+cell": {
     "inputWidgets": {},
     "nuid": "ac7e6842-1f06-4854-965b-394ef73b72f5",
     "showTitle": false,
     "title": ""
    }
   },
   "source": [
    "## CoNLL Data Prep"
   ]
  },
  {
   "cell_type": "code",
   "execution_count": 0,
   "metadata": {
    "application/vnd.databricks.v1+cell": {
     "inputWidgets": {},
     "nuid": "242df280-e3c8-42b9-90d6-8862d8c2f6f7",
     "showTitle": false,
     "title": ""
    }
   },
   "outputs": [
    {
     "data": {
      "text/html": [
       "<style scoped>\n",
       "  .ansiout {\n",
       "    display: block;\n",
       "    unicode-bidi: embed;\n",
       "    white-space: pre-wrap;\n",
       "    word-wrap: break-word;\n",
       "    word-break: break-all;\n",
       "    font-family: \"Source Code Pro\", \"Menlo\", monospace;;\n",
       "    font-size: 13px;\n",
       "    color: #555;\n",
       "    margin-left: 4px;\n",
       "    line-height: 19px;\n",
       "  }\n",
       "</style>\n",
       "<div class=\"ansiout\"></div>"
      ]
     },
     "metadata": {
      "application/vnd.databricks.v1+output": {
       "addedWidgets": {},
       "arguments": {},
       "data": "<div class=\"ansiout\"></div>",
       "datasetInfos": [],
       "removedWidgets": [],
       "type": "html"
      }
     },
     "output_type": "display_data"
    }
   ],
   "source": [
    "!wget -q https://raw.githubusercontent.com/JohnSnowLabs/spark-nlp/master/src/test/resources/conll2003/eng.train\n",
    "!wget -q https://raw.githubusercontent.com/JohnSnowLabs/spark-nlp/master/src/test/resources/conll2003/eng.testa"
   ]
  },
  {
   "cell_type": "code",
   "execution_count": 0,
   "metadata": {
    "application/vnd.databricks.v1+cell": {
     "inputWidgets": {},
     "nuid": "d36ef841-a079-441e-9362-b8566cd2815e",
     "showTitle": false,
     "title": ""
    }
   },
   "outputs": [
    {
     "data": {
      "text/html": [
       "<style scoped>\n",
       "  .ansiout {\n",
       "    display: block;\n",
       "    unicode-bidi: embed;\n",
       "    white-space: pre-wrap;\n",
       "    word-wrap: break-word;\n",
       "    word-break: break-all;\n",
       "    font-family: \"Source Code Pro\", \"Menlo\", monospace;;\n",
       "    font-size: 13px;\n",
       "    color: #555;\n",
       "    margin-left: 4px;\n",
       "    line-height: 19px;\n",
       "  }\n",
       "</style>\n",
       "<div class=\"ansiout\">-DOCSTART- -X- -X- O\n",
       "\n",
       "EU NNP B-NP B-ORG\n",
       "rejects VBZ B-VP O\n",
       "German JJ B-NP B-MISC\n",
       "call NN I-NP O\n",
       "to TO B-VP O\n",
       "boycott VB I-VP O\n",
       "British JJ B-NP B-MISC\n",
       "lamb NN I-NP O\n",
       ". . O O\n",
       "\n",
       "Peter NNP B-NP B-PER\n",
       "Blackburn NNP I-NP I-PER\n",
       "\n",
       "BRUSSELS NNP B-NP B-LOC\n",
       "1996-08-22 CD I-NP O\n",
       "\n",
       "The DT B-NP O\n",
       "European NNP I-NP B-ORG\n",
       "Commission NNP I-NP I-ORG\n",
       "said VBD B-VP O\n",
       "on IN B-PP O\n",
       "Thursday NNP B-NP O\n",
       "it PRP B-NP O\n",
       "disagreed VBD B-VP O\n",
       "with IN B-PP O\n",
       "German JJ B-NP B-MISC\n",
       "advice NN I-NP O\n",
       "to TO B-PP O\n",
       "consumers NNS B-NP\n",
       "</div>"
      ]
     },
     "metadata": {
      "application/vnd.databricks.v1+output": {
       "addedWidgets": {},
       "arguments": {},
       "data": "<div class=\"ansiout\">-DOCSTART- -X- -X- O\n\nEU NNP B-NP B-ORG\nrejects VBZ B-VP O\nGerman JJ B-NP B-MISC\ncall NN I-NP O\nto TO B-VP O\nboycott VB I-VP O\nBritish JJ B-NP B-MISC\nlamb NN I-NP O\n. . O O\n\nPeter NNP B-NP B-PER\nBlackburn NNP I-NP I-PER\n\nBRUSSELS NNP B-NP B-LOC\n1996-08-22 CD I-NP O\n\nThe DT B-NP O\nEuropean NNP I-NP B-ORG\nCommission NNP I-NP I-ORG\nsaid VBD B-VP O\non IN B-PP O\nThursday NNP B-NP O\nit PRP B-NP O\ndisagreed VBD B-VP O\nwith IN B-PP O\nGerman JJ B-NP B-MISC\nadvice NN I-NP O\nto TO B-PP O\nconsumers NNS B-NP\n</div>",
       "datasetInfos": [],
       "removedWidgets": [],
       "type": "html"
      }
     },
     "output_type": "display_data"
    }
   ],
   "source": [
    "with open(\"eng.train\") as f:\n",
    "    train_txt =f.read()\n",
    "\n",
    "print (train_txt[:500])"
   ]
  },
  {
   "cell_type": "code",
   "execution_count": 0,
   "metadata": {
    "application/vnd.databricks.v1+cell": {
     "inputWidgets": {},
     "nuid": "ed642104-b41b-4862-869c-62d14b923282",
     "showTitle": false,
     "title": ""
    }
   },
   "outputs": [
    {
     "data": {
      "text/html": [
       "<style scoped>\n",
       "  .ansiout {\n",
       "    display: block;\n",
       "    unicode-bidi: embed;\n",
       "    white-space: pre-wrap;\n",
       "    word-wrap: break-word;\n",
       "    word-break: break-all;\n",
       "    font-family: \"Source Code Pro\", \"Menlo\", monospace;;\n",
       "    font-size: 13px;\n",
       "    color: #555;\n",
       "    margin-left: 4px;\n",
       "    line-height: 19px;\n",
       "  }\n",
       "</style>\n",
       "<div class=\"ansiout\">+--------------------+--------------------+--------------------+--------------------+--------------------+--------------------+\n",
       "                text|            document|            sentence|               token|                 pos|               label|\n",
       "+--------------------+--------------------+--------------------+--------------------+--------------------+--------------------+\n",
       "EU rejects German...|[{document, 0, 47...|[{document, 0, 47...|[{token, 0, 1, EU...|[{pos, 0, 1, NNP,...|[{named_entity, 0...|\n",
       "     Peter Blackburn|[{document, 0, 14...|[{document, 0, 14...|[{token, 0, 4, Pe...|[{pos, 0, 4, NNP,...|[{named_entity, 0...|\n",
       " BRUSSELS 1996-08-22|[{document, 0, 18...|[{document, 0, 18...|[{token, 0, 7, BR...|[{pos, 0, 7, NNP,...|[{named_entity, 0...|\n",
       "+--------------------+--------------------+--------------------+--------------------+--------------------+--------------------+\n",
       "only showing top 3 rows\n",
       "\n",
       "</div>"
      ]
     },
     "metadata": {
      "application/vnd.databricks.v1+output": {
       "addedWidgets": {},
       "arguments": {},
       "data": "<div class=\"ansiout\">+--------------------+--------------------+--------------------+--------------------+--------------------+--------------------+\n|                text|            document|            sentence|               token|                 pos|               label|\n+--------------------+--------------------+--------------------+--------------------+--------------------+--------------------+\n|EU rejects German...|[{document, 0, 47...|[{document, 0, 47...|[{token, 0, 1, EU...|[{pos, 0, 1, NNP,...|[{named_entity, 0...|\n|     Peter Blackburn|[{document, 0, 14...|[{document, 0, 14...|[{token, 0, 4, Pe...|[{pos, 0, 4, NNP,...|[{named_entity, 0...|\n| BRUSSELS 1996-08-22|[{document, 0, 18...|[{document, 0, 18...|[{token, 0, 7, BR...|[{pos, 0, 7, NNP,...|[{named_entity, 0...|\n+--------------------+--------------------+--------------------+--------------------+--------------------+--------------------+\nonly showing top 3 rows\n\n</div>",
       "datasetInfos": [],
       "removedWidgets": [],
       "type": "html"
      }
     },
     "output_type": "display_data"
    }
   ],
   "source": [
    "from sparknlp.training import CoNLL\n",
    "\n",
    "training_data = CoNLL().readDataset(spark, 'file:/databricks/driver/eng.train')\n",
    "\n",
    "training_data.show(3)"
   ]
  },
  {
   "cell_type": "code",
   "execution_count": 0,
   "metadata": {
    "application/vnd.databricks.v1+cell": {
     "inputWidgets": {},
     "nuid": "9ffc13fd-416d-44ff-8d0f-ac2744fe90fc",
     "showTitle": false,
     "title": ""
    }
   },
   "outputs": [
    {
     "data": {
      "text/html": [
       "<style scoped>\n",
       "  .ansiout {\n",
       "    display: block;\n",
       "    unicode-bidi: embed;\n",
       "    white-space: pre-wrap;\n",
       "    word-wrap: break-word;\n",
       "    word-break: break-all;\n",
       "    font-family: \"Source Code Pro\", \"Menlo\", monospace;;\n",
       "    font-size: 13px;\n",
       "    color: #555;\n",
       "    margin-left: 4px;\n",
       "    line-height: 19px;\n",
       "  }\n",
       "</style>\n",
       "<div class=\"ansiout\">root\n",
       "-- text: string (nullable = true)\n",
       "-- document: array (nullable = false)\n",
       "    |-- element: struct (containsNull = true)\n",
       "    |    |-- annotatorType: string (nullable = true)\n",
       "    |    |-- begin: integer (nullable = false)\n",
       "    |    |-- end: integer (nullable = false)\n",
       "    |    |-- result: string (nullable = true)\n",
       "    |    |-- metadata: map (nullable = true)\n",
       "    |    |    |-- key: string\n",
       "    |    |    |-- value: string (valueContainsNull = true)\n",
       "    |    |-- embeddings: array (nullable = true)\n",
       "    |    |    |-- element: float (containsNull = false)\n",
       "-- sentence: array (nullable = false)\n",
       "    |-- element: struct (containsNull = true)\n",
       "    |    |-- annotatorType: string (nullable = true)\n",
       "    |    |-- begin: integer (nullable = false)\n",
       "    |    |-- end: integer (nullable = false)\n",
       "    |    |-- result: string (nullable = true)\n",
       "    |    |-- metadata: map (nullable = true)\n",
       "    |    |    |-- key: string\n",
       "    |    |    |-- value: string (valueContainsNull = true)\n",
       "    |    |-- embeddings: array (nullable = true)\n",
       "    |    |    |-- element: float (containsNull = false)\n",
       "-- token: array (nullable = false)\n",
       "    |-- element: struct (containsNull = true)\n",
       "    |    |-- annotatorType: string (nullable = true)\n",
       "    |    |-- begin: integer (nullable = false)\n",
       "    |    |-- end: integer (nullable = false)\n",
       "    |    |-- result: string (nullable = true)\n",
       "    |    |-- metadata: map (nullable = true)\n",
       "    |    |    |-- key: string\n",
       "    |    |    |-- value: string (valueContainsNull = true)\n",
       "    |    |-- embeddings: array (nullable = true)\n",
       "    |    |    |-- element: float (containsNull = false)\n",
       "-- pos: array (nullable = false)\n",
       "    |-- element: struct (containsNull = true)\n",
       "    |    |-- annotatorType: string (nullable = true)\n",
       "    |    |-- begin: integer (nullable = false)\n",
       "    |    |-- end: integer (nullable = false)\n",
       "    |    |-- result: string (nullable = true)\n",
       "    |    |-- metadata: map (nullable = true)\n",
       "    |    |    |-- key: string\n",
       "    |    |    |-- value: string (valueContainsNull = true)\n",
       "    |    |-- embeddings: array (nullable = true)\n",
       "    |    |    |-- element: float (containsNull = false)\n",
       "-- label: array (nullable = false)\n",
       "    |-- element: struct (containsNull = true)\n",
       "    |    |-- annotatorType: string (nullable = true)\n",
       "    |    |-- begin: integer (nullable = false)\n",
       "    |    |-- end: integer (nullable = false)\n",
       "    |    |-- result: string (nullable = true)\n",
       "    |    |-- metadata: map (nullable = true)\n",
       "    |    |    |-- key: string\n",
       "    |    |    |-- value: string (valueContainsNull = true)\n",
       "    |    |-- embeddings: array (nullable = true)\n",
       "    |    |    |-- element: float (containsNull = false)\n",
       "\n",
       "</div>"
      ]
     },
     "metadata": {
      "application/vnd.databricks.v1+output": {
       "addedWidgets": {},
       "arguments": {},
       "data": "<div class=\"ansiout\">root\n |-- text: string (nullable = true)\n |-- document: array (nullable = false)\n |    |-- element: struct (containsNull = true)\n |    |    |-- annotatorType: string (nullable = true)\n |    |    |-- begin: integer (nullable = false)\n |    |    |-- end: integer (nullable = false)\n |    |    |-- result: string (nullable = true)\n |    |    |-- metadata: map (nullable = true)\n |    |    |    |-- key: string\n |    |    |    |-- value: string (valueContainsNull = true)\n |    |    |-- embeddings: array (nullable = true)\n |    |    |    |-- element: float (containsNull = false)\n |-- sentence: array (nullable = false)\n |    |-- element: struct (containsNull = true)\n |    |    |-- annotatorType: string (nullable = true)\n |    |    |-- begin: integer (nullable = false)\n |    |    |-- end: integer (nullable = false)\n |    |    |-- result: string (nullable = true)\n |    |    |-- metadata: map (nullable = true)\n |    |    |    |-- key: string\n |    |    |    |-- value: string (valueContainsNull = true)\n |    |    |-- embeddings: array (nullable = true)\n |    |    |    |-- element: float (containsNull = false)\n |-- token: array (nullable = false)\n |    |-- element: struct (containsNull = true)\n |    |    |-- annotatorType: string (nullable = true)\n |    |    |-- begin: integer (nullable = false)\n |    |    |-- end: integer (nullable = false)\n |    |    |-- result: string (nullable = true)\n |    |    |-- metadata: map (nullable = true)\n |    |    |    |-- key: string\n |    |    |    |-- value: string (valueContainsNull = true)\n |    |    |-- embeddings: array (nullable = true)\n |    |    |    |-- element: float (containsNull = false)\n |-- pos: array (nullable = false)\n |    |-- element: struct (containsNull = true)\n |    |    |-- annotatorType: string (nullable = true)\n |    |    |-- begin: integer (nullable = false)\n |    |    |-- end: integer (nullable = false)\n |    |    |-- result: string (nullable = true)\n |    |    |-- metadata: map (nullable = true)\n |    |    |    |-- key: string\n |    |    |    |-- value: string (valueContainsNull = true)\n |    |    |-- embeddings: array (nullable = true)\n |    |    |    |-- element: float (containsNull = false)\n |-- label: array (nullable = false)\n |    |-- element: struct (containsNull = true)\n |    |    |-- annotatorType: string (nullable = true)\n |    |    |-- begin: integer (nullable = false)\n |    |    |-- end: integer (nullable = false)\n |    |    |-- result: string (nullable = true)\n |    |    |-- metadata: map (nullable = true)\n |    |    |    |-- key: string\n |    |    |    |-- value: string (valueContainsNull = true)\n |    |    |-- embeddings: array (nullable = true)\n |    |    |    |-- element: float (containsNull = false)\n\n</div>",
       "datasetInfos": [],
       "removedWidgets": [],
       "type": "html"
      }
     },
     "output_type": "display_data"
    }
   ],
   "source": [
    "training_data.printSchema()"
   ]
  },
  {
   "cell_type": "code",
   "execution_count": 0,
   "metadata": {
    "application/vnd.databricks.v1+cell": {
     "inputWidgets": {},
     "nuid": "f4e3545d-c21a-48f1-9307-2af46858fa6a",
     "showTitle": false,
     "title": ""
    }
   },
   "outputs": [
    {
     "data": {
      "text/html": [
       "<style scoped>\n",
       "  .ansiout {\n",
       "    display: block;\n",
       "    unicode-bidi: embed;\n",
       "    white-space: pre-wrap;\n",
       "    word-wrap: break-word;\n",
       "    word-break: break-all;\n",
       "    font-family: \"Source Code Pro\", \"Menlo\", monospace;;\n",
       "    font-size: 13px;\n",
       "    color: #555;\n",
       "    margin-left: 4px;\n",
       "    line-height: 19px;\n",
       "  }\n",
       "</style>\n",
       "<div class=\"ansiout\">Out[6]: 14041</div>"
      ]
     },
     "metadata": {
      "application/vnd.databricks.v1+output": {
       "addedWidgets": {},
       "arguments": {},
       "data": "<div class=\"ansiout\">Out[6]: 14041</div>",
       "datasetInfos": [],
       "removedWidgets": [],
       "type": "html"
      }
     },
     "output_type": "display_data"
    }
   ],
   "source": [
    "training_data.count()"
   ]
  },
  {
   "cell_type": "code",
   "execution_count": 0,
   "metadata": {
    "application/vnd.databricks.v1+cell": {
     "inputWidgets": {},
     "nuid": "10216a04-22a1-4b4d-9a70-a54122e35bee",
     "showTitle": false,
     "title": ""
    }
   },
   "outputs": [
    {
     "data": {
      "text/html": [
       "<style scoped>\n",
       "  .ansiout {\n",
       "    display: block;\n",
       "    unicode-bidi: embed;\n",
       "    white-space: pre-wrap;\n",
       "    word-wrap: break-word;\n",
       "    word-break: break-all;\n",
       "    font-family: \"Source Code Pro\", \"Menlo\", monospace;;\n",
       "    font-size: 13px;\n",
       "    color: #555;\n",
       "    margin-left: 4px;\n",
       "    line-height: 19px;\n",
       "  }\n",
       "</style>\n",
       "<div class=\"ansiout\">Out[7]: DataFrame[text: string, document: array&lt;struct&lt;annotatorType:string,begin:int,end:int,result:string,metadata:map&lt;string,string&gt;,embeddings:array&lt;float&gt;&gt;&gt;, sentence: array&lt;struct&lt;annotatorType:string,begin:int,end:int,result:string,metadata:map&lt;string,string&gt;,embeddings:array&lt;float&gt;&gt;&gt;, token: array&lt;struct&lt;annotatorType:string,begin:int,end:int,result:string,metadata:map&lt;string,string&gt;,embeddings:array&lt;float&gt;&gt;&gt;, pos: array&lt;struct&lt;annotatorType:string,begin:int,end:int,result:string,metadata:map&lt;string,string&gt;,embeddings:array&lt;float&gt;&gt;&gt;, label: array&lt;struct&lt;annotatorType:string,begin:int,end:int,result:string,metadata:map&lt;string,string&gt;,embeddings:array&lt;float&gt;&gt;&gt;]</div>"
      ]
     },
     "metadata": {
      "application/vnd.databricks.v1+output": {
       "addedWidgets": {},
       "arguments": {},
       "data": "<div class=\"ansiout\">Out[7]: DataFrame[text: string, document: array&lt;struct&lt;annotatorType:string,begin:int,end:int,result:string,metadata:map&lt;string,string&gt;,embeddings:array&lt;float&gt;&gt;&gt;, sentence: array&lt;struct&lt;annotatorType:string,begin:int,end:int,result:string,metadata:map&lt;string,string&gt;,embeddings:array&lt;float&gt;&gt;&gt;, token: array&lt;struct&lt;annotatorType:string,begin:int,end:int,result:string,metadata:map&lt;string,string&gt;,embeddings:array&lt;float&gt;&gt;&gt;, pos: array&lt;struct&lt;annotatorType:string,begin:int,end:int,result:string,metadata:map&lt;string,string&gt;,embeddings:array&lt;float&gt;&gt;&gt;, label: array&lt;struct&lt;annotatorType:string,begin:int,end:int,result:string,metadata:map&lt;string,string&gt;,embeddings:array&lt;float&gt;&gt;&gt;]</div>",
       "datasetInfos": [],
       "removedWidgets": [],
       "type": "html"
      }
     },
     "output_type": "display_data"
    }
   ],
   "source": [
    "training_data.cache()"
   ]
  },
  {
   "cell_type": "code",
   "execution_count": 0,
   "metadata": {
    "application/vnd.databricks.v1+cell": {
     "inputWidgets": {},
     "nuid": "6eea172d-988d-4e56-8617-c3686e79089c",
     "showTitle": false,
     "title": ""
    }
   },
   "outputs": [
    {
     "data": {
      "text/html": [
       "<style scoped>\n",
       "  .ansiout {\n",
       "    display: block;\n",
       "    unicode-bidi: embed;\n",
       "    white-space: pre-wrap;\n",
       "    word-wrap: break-word;\n",
       "    word-break: break-all;\n",
       "    font-family: \"Source Code Pro\", \"Menlo\", monospace;;\n",
       "    font-size: 13px;\n",
       "    color: #555;\n",
       "    margin-left: 4px;\n",
       "    line-height: 19px;\n",
       "  }\n",
       "</style>\n",
       "<div class=\"ansiout\">CPU times: user 6.21 ms, sys: 4.89 ms, total: 11.1 ms\n",
       "Wall time: 3.41 s\n",
       "Out[8]: 14041</div>"
      ]
     },
     "metadata": {
      "application/vnd.databricks.v1+output": {
       "addedWidgets": {},
       "arguments": {},
       "data": "<div class=\"ansiout\">CPU times: user 6.21 ms, sys: 4.89 ms, total: 11.1 ms\nWall time: 3.41 s\nOut[8]: 14041</div>",
       "datasetInfos": [],
       "removedWidgets": [],
       "type": "html"
      }
     },
     "output_type": "display_data"
    }
   ],
   "source": [
    "%time training_data.count()"
   ]
  },
  {
   "cell_type": "code",
   "execution_count": 0,
   "metadata": {
    "application/vnd.databricks.v1+cell": {
     "inputWidgets": {},
     "nuid": "7068c19b-9ebf-48e8-a227-bc2e2eafdbcf",
     "showTitle": false,
     "title": ""
    }
   },
   "outputs": [
    {
     "data": {
      "text/html": [
       "<style scoped>\n",
       "  .ansiout {\n",
       "    display: block;\n",
       "    unicode-bidi: embed;\n",
       "    white-space: pre-wrap;\n",
       "    word-wrap: break-word;\n",
       "    word-break: break-all;\n",
       "    font-family: \"Source Code Pro\", \"Menlo\", monospace;;\n",
       "    font-size: 13px;\n",
       "    color: #555;\n",
       "    margin-left: 4px;\n",
       "    line-height: 19px;\n",
       "  }\n",
       "</style>\n",
       "<div class=\"ansiout\">CPU times: user 268 µs, sys: 73 µs, total: 341 µs\n",
       "Wall time: 758 ms\n",
       "Out[9]: 14041</div>"
      ]
     },
     "metadata": {
      "application/vnd.databricks.v1+output": {
       "addedWidgets": {},
       "arguments": {},
       "data": "<div class=\"ansiout\">CPU times: user 268 µs, sys: 73 µs, total: 341 µs\nWall time: 758 ms\nOut[9]: 14041</div>",
       "datasetInfos": [],
       "removedWidgets": [],
       "type": "html"
      }
     },
     "output_type": "display_data"
    }
   ],
   "source": [
    "%time training_data.count()"
   ]
  },
  {
   "cell_type": "code",
   "execution_count": 0,
   "metadata": {
    "application/vnd.databricks.v1+cell": {
     "inputWidgets": {},
     "nuid": "ed32fd41-1d84-4e9b-9cdb-2d7aef3f2e93",
     "showTitle": false,
     "title": ""
    }
   },
   "outputs": [
    {
     "data": {
      "text/html": [
       "<style scoped>\n",
       "  .ansiout {\n",
       "    display: block;\n",
       "    unicode-bidi: embed;\n",
       "    white-space: pre-wrap;\n",
       "    word-wrap: break-word;\n",
       "    word-break: break-all;\n",
       "    font-family: \"Source Code Pro\", \"Menlo\", monospace;;\n",
       "    font-size: 13px;\n",
       "    color: #555;\n",
       "    margin-left: 4px;\n",
       "    line-height: 19px;\n",
       "  }\n",
       "</style>\n",
       "<div class=\"ansiout\">+----------+---+---------+\n",
       "     token|pos|ner_label|\n",
       "+----------+---+---------+\n",
       "        EU|NNP|    B-ORG|\n",
       "   rejects|VBZ|        O|\n",
       "    German| JJ|   B-MISC|\n",
       "      call| NN|        O|\n",
       "        to| TO|        O|\n",
       "   boycott| VB|        O|\n",
       "   British| JJ|   B-MISC|\n",
       "      lamb| NN|        O|\n",
       "         .|  .|        O|\n",
       "     Peter|NNP|    B-PER|\n",
       " Blackburn|NNP|    I-PER|\n",
       "  BRUSSELS|NNP|    B-LOC|\n",
       "1996-08-22| CD|        O|\n",
       "       The| DT|        O|\n",
       "  European|NNP|    B-ORG|\n",
       "Commission|NNP|    I-ORG|\n",
       "      said|VBD|        O|\n",
       "        on| IN|        O|\n",
       "  Thursday|NNP|        O|\n",
       "        it|PRP|        O|\n",
       "+----------+---+---------+\n",
       "only showing top 20 rows\n",
       "\n",
       "</div>"
      ]
     },
     "metadata": {
      "application/vnd.databricks.v1+output": {
       "addedWidgets": {},
       "arguments": {},
       "data": "<div class=\"ansiout\">+----------+---+---------+\n|     token|pos|ner_label|\n+----------+---+---------+\n|        EU|NNP|    B-ORG|\n|   rejects|VBZ|        O|\n|    German| JJ|   B-MISC|\n|      call| NN|        O|\n|        to| TO|        O|\n|   boycott| VB|        O|\n|   British| JJ|   B-MISC|\n|      lamb| NN|        O|\n|         .|  .|        O|\n|     Peter|NNP|    B-PER|\n| Blackburn|NNP|    I-PER|\n|  BRUSSELS|NNP|    B-LOC|\n|1996-08-22| CD|        O|\n|       The| DT|        O|\n|  European|NNP|    B-ORG|\n|Commission|NNP|    I-ORG|\n|      said|VBD|        O|\n|        on| IN|        O|\n|  Thursday|NNP|        O|\n|        it|PRP|        O|\n+----------+---+---------+\nonly showing top 20 rows\n\n</div>",
       "datasetInfos": [],
       "removedWidgets": [],
       "type": "html"
      }
     },
     "output_type": "display_data"
    }
   ],
   "source": [
    "import pyspark.sql.functions as F\n",
    "\n",
    "training_data.select(F.explode(F.arrays_zip('token.result', 'pos.result',  'label.result')).alias(\"cols\")) \\\n",
    ".select(F.expr(\"cols['0']\").alias(\"token\"),\n",
    "        F.expr(\"cols['1']\").alias(\"pos\"),\n",
    "        F.expr(\"cols['2']\").alias(\"ner_label\")).show(truncate=50)"
   ]
  },
  {
   "cell_type": "code",
   "execution_count": 0,
   "metadata": {
    "application/vnd.databricks.v1+cell": {
     "inputWidgets": {},
     "nuid": "ac90b10b-bde4-4b59-b8f8-1238bdee38fb",
     "showTitle": false,
     "title": ""
    }
   },
   "outputs": [
    {
     "data": {
      "text/html": [
       "<style scoped>\n",
       "  .ansiout {\n",
       "    display: block;\n",
       "    unicode-bidi: embed;\n",
       "    white-space: pre-wrap;\n",
       "    word-wrap: break-word;\n",
       "    word-break: break-all;\n",
       "    font-family: \"Source Code Pro\", \"Menlo\", monospace;;\n",
       "    font-size: 13px;\n",
       "    color: #555;\n",
       "    margin-left: 4px;\n",
       "    line-height: 19px;\n",
       "  }\n",
       "</style>\n",
       "<div class=\"ansiout\">+------------+------+\n",
       "ground_truth|count |\n",
       "+------------+------+\n",
       "O           |169578|\n",
       "B-LOC       |7140  |\n",
       "B-PER       |6600  |\n",
       "B-ORG       |6321  |\n",
       "I-PER       |4528  |\n",
       "I-ORG       |3704  |\n",
       "B-MISC      |3438  |\n",
       "I-LOC       |1157  |\n",
       "I-MISC      |1155  |\n",
       "+------------+------+\n",
       "\n",
       "</div>"
      ]
     },
     "metadata": {
      "application/vnd.databricks.v1+output": {
       "addedWidgets": {},
       "arguments": {},
       "data": "<div class=\"ansiout\">+------------+------+\n|ground_truth|count |\n+------------+------+\n|O           |169578|\n|B-LOC       |7140  |\n|B-PER       |6600  |\n|B-ORG       |6321  |\n|I-PER       |4528  |\n|I-ORG       |3704  |\n|B-MISC      |3438  |\n|I-LOC       |1157  |\n|I-MISC      |1155  |\n+------------+------+\n\n</div>",
       "datasetInfos": [],
       "removedWidgets": [],
       "type": "html"
      }
     },
     "output_type": "display_data"
    }
   ],
   "source": [
    "training_data.select(F.explode(F.arrays_zip('token.result','label.result')).alias(\"cols\")) \\\n",
    ".select(F.expr(\"cols['0']\").alias(\"token\"),\n",
    "        F.expr(\"cols['1']\").alias(\"ground_truth\")).groupBy('ground_truth').count().orderBy('count', ascending=False).show(100,truncate=False)"
   ]
  },
  {
   "cell_type": "code",
   "execution_count": 0,
   "metadata": {
    "application/vnd.databricks.v1+cell": {
     "inputWidgets": {},
     "nuid": "fc4d5801-6a49-46f7-ad45-bc9a6a20a583",
     "showTitle": false,
     "title": ""
    }
   },
   "outputs": [
    {
     "data": {
      "text/html": [
       "<style scoped>\n",
       "  .ansiout {\n",
       "    display: block;\n",
       "    unicode-bidi: embed;\n",
       "    white-space: pre-wrap;\n",
       "    word-wrap: break-word;\n",
       "    word-break: break-all;\n",
       "    font-family: \"Source Code Pro\", \"Menlo\", monospace;;\n",
       "    font-size: 13px;\n",
       "    color: #555;\n",
       "    margin-left: 4px;\n",
       "    line-height: 19px;\n",
       "  }\n",
       "</style>\n",
       "<div class=\"ansiout\">glove_100d download started this may take some time.\n",
       "Approximate size to download 145.3 MB\n",
       "\r",
       "[ | ]\r",
       "[ / ]\r",
       "[ — ]\r",
       "[ \\ ]\r",
       "[ | ]\r",
       "[ / ]\r",
       "[ — ]\r",
       "[ \\ ]\r",
       "[ | ]\r",
       "[ / ]\r",
       "[ — ]\r",
       "[ \\ ]\r",
       "[ | ]\r",
       "[ / ]\r",
       "[ — ]\r",
       "[ \\ ]\r",
       "[OK!]\n",
       "</div>"
      ]
     },
     "metadata": {
      "application/vnd.databricks.v1+output": {
       "addedWidgets": {},
       "arguments": {},
       "data": "<div class=\"ansiout\">glove_100d download started this may take some time.\nApproximate size to download 145.3 MB\n\r[ | ]\r[ / ]\r[ — ]\r[ \\ ]\r[ | ]\r[ / ]\r[ — ]\r[ \\ ]\r[ | ]\r[ / ]\r[ — ]\r[ \\ ]\r[ | ]\r[ / ]\r[ — ]\r[ \\ ]\r[OK!]\n</div>",
       "datasetInfos": [],
       "removedWidgets": [],
       "type": "html"
      }
     },
     "output_type": "display_data"
    }
   ],
   "source": [
    "# You can use any word embeddings you want (Glove, Elmo, Bert, custom etc.)\n",
    "\n",
    "glove_embeddings = WordEmbeddingsModel.pretrained('glove_100d')\\\n",
    "          .setInputCols([\"document\", \"token\"])\\\n",
    "          .setOutputCol(\"embeddings\")\n",
    "    "
   ]
  },
  {
   "cell_type": "code",
   "execution_count": 0,
   "metadata": {
    "application/vnd.databricks.v1+cell": {
     "inputWidgets": {},
     "nuid": "fbd72d29-6824-431b-a82c-215587efd7bc",
     "showTitle": false,
     "title": ""
    }
   },
   "outputs": [
    {
     "data": {
      "text/html": [
       "<style scoped>\n",
       "  .ansiout {\n",
       "    display: block;\n",
       "    unicode-bidi: embed;\n",
       "    white-space: pre-wrap;\n",
       "    word-wrap: break-word;\n",
       "    word-break: break-all;\n",
       "    font-family: \"Source Code Pro\", \"Menlo\", monospace;;\n",
       "    font-size: 13px;\n",
       "    color: #555;\n",
       "    margin-left: 4px;\n",
       "    line-height: 19px;\n",
       "  }\n",
       "</style>\n",
       "<div class=\"ansiout\"></div>"
      ]
     },
     "metadata": {
      "application/vnd.databricks.v1+output": {
       "addedWidgets": {},
       "arguments": {},
       "data": "<div class=\"ansiout\"></div>",
       "datasetInfos": [],
       "removedWidgets": [],
       "type": "html"
      }
     },
     "output_type": "display_data"
    }
   ],
   "source": [
    "!mkdir ner_logs"
   ]
  },
  {
   "cell_type": "code",
   "execution_count": 0,
   "metadata": {
    "application/vnd.databricks.v1+cell": {
     "inputWidgets": {},
     "nuid": "974cc689-ca70-4165-8ca4-7b511aa8bde8",
     "showTitle": false,
     "title": ""
    }
   },
   "outputs": [
    {
     "data": {
      "text/html": [
       "<style scoped>\n",
       "  .ansiout {\n",
       "    display: block;\n",
       "    unicode-bidi: embed;\n",
       "    white-space: pre-wrap;\n",
       "    word-wrap: break-word;\n",
       "    word-break: break-all;\n",
       "    font-family: \"Source Code Pro\", \"Menlo\", monospace;;\n",
       "    font-size: 13px;\n",
       "    color: #555;\n",
       "    margin-left: 4px;\n",
       "    line-height: 19px;\n",
       "  }\n",
       "</style>\n",
       "<div class=\"ansiout\"></div>"
      ]
     },
     "metadata": {
      "application/vnd.databricks.v1+output": {
       "addedWidgets": {},
       "arguments": {},
       "data": "<div class=\"ansiout\"></div>",
       "datasetInfos": [],
       "removedWidgets": [],
       "type": "html"
      }
     },
     "output_type": "display_data"
    }
   ],
   "source": [
    "nerTagger = NerDLApproach()\\\n",
    "  .setInputCols([\"sentence\", \"token\", \"embeddings\"])\\\n",
    "  .setLabelColumn(\"label\")\\\n",
    "  .setOutputCol(\"ner\")\\\n",
    "  .setMaxEpochs(1)\\\n",
    "  .setLr(0.003)\\\n",
    "  .setBatchSize(32)\\\n",
    "  .setRandomSeed(0)\\\n",
    "  .setVerbose(1)\\\n",
    "  .setValidationSplit(0.2)\\\n",
    "  .setEvaluationLogExtended(True) \\\n",
    "  .setEnableOutputLogs(True)\\\n",
    "  .setIncludeConfidence(True)\\\n",
    "  .setOutputLogsPath('ner_logs') # if not set, logs will be written to ~/annotator_logs\n",
    " #.setGraphFolder('graphs') >> put your graph file (pb) under this folder if you are using a custom graph generated thru 4.1 NerDL-Graph.ipynb notebook\n",
    " # .setEnableMemoryOptimizer() >> if you have a limited memory and a large conll file, you can set this True to train batch by batch \n",
    "    \n",
    "ner_pipeline = Pipeline(stages=[\n",
    "          glove_embeddings,\n",
    "          nerTagger\n",
    " ])\n"
   ]
  },
  {
   "cell_type": "markdown",
   "metadata": {
    "application/vnd.databricks.v1+cell": {
     "inputWidgets": {},
     "nuid": "073e5c16-9788-495d-adbf-213c8ff8db17",
     "showTitle": false,
     "title": ""
    }
   },
   "source": [
    "### Fitting"
   ]
  },
  {
   "cell_type": "code",
   "execution_count": 0,
   "metadata": {
    "application/vnd.databricks.v1+cell": {
     "inputWidgets": {},
     "nuid": "c1ff0a38-1193-4d44-ae7d-575528944306",
     "showTitle": false,
     "title": ""
    }
   },
   "outputs": [
    {
     "data": {
      "text/html": [
       "<style scoped>\n",
       "  .ansiout {\n",
       "    display: block;\n",
       "    unicode-bidi: embed;\n",
       "    white-space: pre-wrap;\n",
       "    word-wrap: break-word;\n",
       "    word-break: break-all;\n",
       "    font-family: \"Source Code Pro\", \"Menlo\", monospace;;\n",
       "    font-size: 13px;\n",
       "    color: #555;\n",
       "    margin-left: 4px;\n",
       "    line-height: 19px;\n",
       "  }\n",
       "</style>\n",
       "<div class=\"ansiout\"></div>"
      ]
     },
     "metadata": {
      "application/vnd.databricks.v1+output": {
       "addedWidgets": {},
       "arguments": {},
       "data": "<div class=\"ansiout\"></div>",
       "datasetInfos": [],
       "removedWidgets": [],
       "type": "html"
      }
     },
     "output_type": "display_data"
    }
   ],
   "source": [
    "ner_model = ner_pipeline.fit(training_data)\n",
    "\n",
    "# 1 epoch takes around 3 min with batch size=32\n",
    "# if you get an error for incompatible TF graph, use 4.1 NerDL-Graph.ipynb notebook to create a graph (or see the bottom cell of this notebook)"
   ]
  },
  {
   "cell_type": "code",
   "execution_count": 0,
   "metadata": {
    "application/vnd.databricks.v1+cell": {
     "inputWidgets": {},
     "nuid": "86f133c6-21a3-4e1d-a487-70a86e4ee5ae",
     "showTitle": false,
     "title": ""
    }
   },
   "outputs": [
    {
     "data": {
      "text/html": [
       "<style scoped>\n",
       "  .ansiout {\n",
       "    display: block;\n",
       "    unicode-bidi: embed;\n",
       "    white-space: pre-wrap;\n",
       "    word-wrap: break-word;\n",
       "    word-break: break-all;\n",
       "    font-family: \"Source Code Pro\", \"Menlo\", monospace;;\n",
       "    font-size: 13px;\n",
       "    color: #555;\n",
       "    margin-left: 4px;\n",
       "    line-height: 19px;\n",
       "  }\n",
       "</style>\n",
       "<div class=\"ansiout\">/databricks/driver/ner_logs\n",
       "total 4\n",
       "-rw-r--r-- 1 root root 1005 Apr 21 18:55 NerDLApproach_b61b15958428.log\n",
       "</div>"
      ]
     },
     "metadata": {
      "application/vnd.databricks.v1+output": {
       "addedWidgets": {},
       "arguments": {},
       "data": "<div class=\"ansiout\">/databricks/driver/ner_logs\ntotal 4\n-rw-r--r-- 1 root root 1005 Apr 21 18:55 NerDLApproach_b61b15958428.log\n</div>",
       "datasetInfos": [],
       "removedWidgets": [],
       "type": "html"
      }
     },
     "output_type": "display_data"
    }
   ],
   "source": [
    "%sh cd /databricks/driver/ner_logs && pwd && ls -l"
   ]
  },
  {
   "cell_type": "code",
   "execution_count": 0,
   "metadata": {
    "application/vnd.databricks.v1+cell": {
     "inputWidgets": {},
     "nuid": "9347e4c8-9a93-423d-8aeb-259ddd910ae0",
     "showTitle": false,
     "title": ""
    }
   },
   "outputs": [
    {
     "data": {
      "text/html": [
       "<style scoped>\n",
       "  .ansiout {\n",
       "    display: block;\n",
       "    unicode-bidi: embed;\n",
       "    white-space: pre-wrap;\n",
       "    word-wrap: break-word;\n",
       "    word-break: break-all;\n",
       "    font-family: \"Source Code Pro\", \"Menlo\", monospace;;\n",
       "    font-size: 13px;\n",
       "    color: #555;\n",
       "    margin-left: 4px;\n",
       "    line-height: 19px;\n",
       "  }\n",
       "</style>\n",
       "<div class=\"ansiout\">Name of the selected graph: ner-dl/blstm_10_100_128_120.pb\n",
       "Training started - total epochs: 1 - lr: 0.003 - batch size: 32 - labels: 9 - chars: 84 - training examples: 11307\n",
       "\n",
       "\n",
       "Epoch 1/1 started, lr: 0.003, dataset size: 11307\n",
       "\n",
       "\n",
       "Epoch 1/1 - 77.30s - loss: 1360.1398 - batches: 355\n",
       "Quality on validation dataset (20.0%), validation examples = 2261\n",
       "time to finish evaluation: 6.25s\n",
       "label\t tp\t fp\t fn\t prec\t rec\t f1\n",
       "B-LOC\t 1285\t 146\t 124\t 0.8979734\t 0.91199434\t 0.9049296\n",
       "I-ORG\t 519\t 59\t 188\t 0.8979239\t 0.7340877\t 0.8077821\n",
       "I-MISC\t 115\t 26\t 99\t 0.81560284\t 0.5373832\t 0.6478873\n",
       "I-LOC\t 166\t 37\t 62\t 0.817734\t 0.7280702\t 0.7703016\n",
       "I-PER\t 881\t 33\t 28\t 0.96389496\t 0.9691969\t 0.96653867\n",
       "B-MISC\t 591\t 117\t 84\t 0.83474576\t 0.8755556\t 0.8546638\n",
       "B-ORG\t 974\t 125\t 247\t 0.8862602\t 0.7977068\t 0.8396551\n",
       "B-PER\t 1247\t 119\t 56\t 0.91288435\t 0.95702225\t 0.9344323\n",
       "tp: 5778 fp: 662 fn: 888 labels: 8\n",
       "Macro-average\t prec: 0.8783774, rec: 0.8138771, f1: 0.84489805\n",
       "Micro-average\t prec: 0.897205, rec: 0.86678666, f1: 0.8817336\n",
       "</div>"
      ]
     },
     "metadata": {
      "application/vnd.databricks.v1+output": {
       "addedWidgets": {},
       "arguments": {},
       "data": "<div class=\"ansiout\">Name of the selected graph: ner-dl/blstm_10_100_128_120.pb\nTraining started - total epochs: 1 - lr: 0.003 - batch size: 32 - labels: 9 - chars: 84 - training examples: 11307\n\n\nEpoch 1/1 started, lr: 0.003, dataset size: 11307\n\n\nEpoch 1/1 - 77.30s - loss: 1360.1398 - batches: 355\nQuality on validation dataset (20.0%), validation examples = 2261\ntime to finish evaluation: 6.25s\nlabel\t tp\t fp\t fn\t prec\t rec\t f1\nB-LOC\t 1285\t 146\t 124\t 0.8979734\t 0.91199434\t 0.9049296\nI-ORG\t 519\t 59\t 188\t 0.8979239\t 0.7340877\t 0.8077821\nI-MISC\t 115\t 26\t 99\t 0.81560284\t 0.5373832\t 0.6478873\nI-LOC\t 166\t 37\t 62\t 0.817734\t 0.7280702\t 0.7703016\nI-PER\t 881\t 33\t 28\t 0.96389496\t 0.9691969\t 0.96653867\nB-MISC\t 591\t 117\t 84\t 0.83474576\t 0.8755556\t 0.8546638\nB-ORG\t 974\t 125\t 247\t 0.8862602\t 0.7977068\t 0.8396551\nB-PER\t 1247\t 119\t 56\t 0.91288435\t 0.95702225\t 0.9344323\ntp: 5778 fp: 662 fn: 888 labels: 8\nMacro-average\t prec: 0.8783774, rec: 0.8138771, f1: 0.84489805\nMicro-average\t prec: 0.897205, rec: 0.86678666, f1: 0.8817336\n</div>",
       "datasetInfos": [],
       "removedWidgets": [],
       "type": "html"
      }
     },
     "output_type": "display_data"
    }
   ],
   "source": [
    "%sh head -n 45 ner_logs/NerDLApproach_b61b15958428.log"
   ]
  },
  {
   "cell_type": "code",
   "execution_count": 0,
   "metadata": {
    "application/vnd.databricks.v1+cell": {
     "inputWidgets": {},
     "nuid": "1bf8e0c8-2060-4744-9454-d9d495509001",
     "showTitle": false,
     "title": ""
    }
   },
   "outputs": [
    {
     "data": {
      "text/html": [
       "<style scoped>\n",
       "  .ansiout {\n",
       "    display: block;\n",
       "    unicode-bidi: embed;\n",
       "    white-space: pre-wrap;\n",
       "    word-wrap: break-word;\n",
       "    word-break: break-all;\n",
       "    font-family: \"Source Code Pro\", \"Menlo\", monospace;;\n",
       "    font-size: 13px;\n",
       "    color: #555;\n",
       "    margin-left: 4px;\n",
       "    line-height: 19px;\n",
       "  }\n",
       "</style>\n",
       "<div class=\"ansiout\">+--------------------+--------------------+--------------------+--------------------+--------------------+--------------------+--------------------+\n",
       "                text|            document|            sentence|               token|                 pos|               label|          embeddings|\n",
       "+--------------------+--------------------+--------------------+--------------------+--------------------+--------------------+--------------------+\n",
       "CRICKET - LEICEST...|[{document, 0, 64...|[{document, 0, 64...|[{token, 0, 6, CR...|[{pos, 0, 6, NNP,...|[{named_entity, 0...|[{word_embeddings...|\n",
       "   LONDON 1996-08-30|[{document, 0, 16...|[{document, 0, 16...|[{token, 0, 5, LO...|[{pos, 0, 5, NNP,...|[{named_entity, 0...|[{word_embeddings...|\n",
       "West Indian all-r...|[{document, 0, 18...|[{document, 0, 18...|[{token, 0, 3, We...|[{pos, 0, 3, NNP,...|[{named_entity, 0...|[{word_embeddings...|\n",
       "+--------------------+--------------------+--------------------+--------------------+--------------------+--------------------+--------------------+\n",
       "only showing top 3 rows\n",
       "\n",
       "</div>"
      ]
     },
     "metadata": {
      "application/vnd.databricks.v1+output": {
       "addedWidgets": {},
       "arguments": {},
       "data": "<div class=\"ansiout\">+--------------------+--------------------+--------------------+--------------------+--------------------+--------------------+--------------------+\n|                text|            document|            sentence|               token|                 pos|               label|          embeddings|\n+--------------------+--------------------+--------------------+--------------------+--------------------+--------------------+--------------------+\n|CRICKET - LEICEST...|[{document, 0, 64...|[{document, 0, 64...|[{token, 0, 6, CR...|[{pos, 0, 6, NNP,...|[{named_entity, 0...|[{word_embeddings...|\n|   LONDON 1996-08-30|[{document, 0, 16...|[{document, 0, 16...|[{token, 0, 5, LO...|[{pos, 0, 5, NNP,...|[{named_entity, 0...|[{word_embeddings...|\n|West Indian all-r...|[{document, 0, 18...|[{document, 0, 18...|[{token, 0, 3, We...|[{pos, 0, 3, NNP,...|[{named_entity, 0...|[{word_embeddings...|\n+--------------------+--------------------+--------------------+--------------------+--------------------+--------------------+--------------------+\nonly showing top 3 rows\n\n</div>",
       "datasetInfos": [],
       "removedWidgets": [],
       "type": "html"
      }
     },
     "output_type": "display_data"
    }
   ],
   "source": [
    "from sparknlp.training import CoNLL\n",
    "\n",
    "test_data = CoNLL().readDataset(spark, 'file:/databricks/driver/eng.testa')\n",
    "\n",
    "test_data = glove_embeddings.transform(test_data)\n",
    "\n",
    "test_data.show(3)"
   ]
  },
  {
   "cell_type": "code",
   "execution_count": 0,
   "metadata": {
    "application/vnd.databricks.v1+cell": {
     "inputWidgets": {},
     "nuid": "5a33631e-33e0-4247-bcc7-6a1ffa71a636",
     "showTitle": false,
     "title": ""
    }
   },
   "outputs": [
    {
     "data": {
      "text/html": [
       "<style scoped>\n",
       "  .ansiout {\n",
       "    display: block;\n",
       "    unicode-bidi: embed;\n",
       "    white-space: pre-wrap;\n",
       "    word-wrap: break-word;\n",
       "    word-break: break-all;\n",
       "    font-family: \"Source Code Pro\", \"Menlo\", monospace;;\n",
       "    font-size: 13px;\n",
       "    color: #555;\n",
       "    margin-left: 4px;\n",
       "    line-height: 19px;\n",
       "  }\n",
       "</style>\n",
       "<div class=\"ansiout\">+--------------------+--------------------+--------------------+--------------------+--------------------+--------------------+--------------------+--------------------+\n",
       "                text|            document|            sentence|               token|                 pos|               label|          embeddings|                 ner|\n",
       "+--------------------+--------------------+--------------------+--------------------+--------------------+--------------------+--------------------+--------------------+\n",
       "CRICKET - LEICEST...|[{document, 0, 64...|[{document, 0, 64...|[{token, 0, 6, CR...|[{pos, 0, 6, NNP,...|[{named_entity, 0...|[{word_embeddings...|[{named_entity, 0...|\n",
       "   LONDON 1996-08-30|[{document, 0, 16...|[{document, 0, 16...|[{token, 0, 5, LO...|[{pos, 0, 5, NNP,...|[{named_entity, 0...|[{word_embeddings...|[{named_entity, 0...|\n",
       "West Indian all-r...|[{document, 0, 18...|[{document, 0, 18...|[{token, 0, 3, We...|[{pos, 0, 3, NNP,...|[{named_entity, 0...|[{word_embeddings...|[{named_entity, 0...|\n",
       "+--------------------+--------------------+--------------------+--------------------+--------------------+--------------------+--------------------+--------------------+\n",
       "only showing top 3 rows\n",
       "\n",
       "</div>"
      ]
     },
     "metadata": {
      "application/vnd.databricks.v1+output": {
       "addedWidgets": {},
       "arguments": {},
       "data": "<div class=\"ansiout\">+--------------------+--------------------+--------------------+--------------------+--------------------+--------------------+--------------------+--------------------+\n|                text|            document|            sentence|               token|                 pos|               label|          embeddings|                 ner|\n+--------------------+--------------------+--------------------+--------------------+--------------------+--------------------+--------------------+--------------------+\n|CRICKET - LEICEST...|[{document, 0, 64...|[{document, 0, 64...|[{token, 0, 6, CR...|[{pos, 0, 6, NNP,...|[{named_entity, 0...|[{word_embeddings...|[{named_entity, 0...|\n|   LONDON 1996-08-30|[{document, 0, 16...|[{document, 0, 16...|[{token, 0, 5, LO...|[{pos, 0, 5, NNP,...|[{named_entity, 0...|[{word_embeddings...|[{named_entity, 0...|\n|West Indian all-r...|[{document, 0, 18...|[{document, 0, 18...|[{token, 0, 3, We...|[{pos, 0, 3, NNP,...|[{named_entity, 0...|[{word_embeddings...|[{named_entity, 0...|\n+--------------------+--------------------+--------------------+--------------------+--------------------+--------------------+--------------------+--------------------+\nonly showing top 3 rows\n\n</div>",
       "datasetInfos": [],
       "removedWidgets": [],
       "type": "html"
      }
     },
     "output_type": "display_data"
    }
   ],
   "source": [
    "predictions = ner_model.transform(test_data)\n",
    "predictions.show(3)"
   ]
  },
  {
   "cell_type": "code",
   "execution_count": 0,
   "metadata": {
    "application/vnd.databricks.v1+cell": {
     "inputWidgets": {},
     "nuid": "4e99854f-9502-469d-946a-2d2361a14b64",
     "showTitle": false,
     "title": ""
    }
   },
   "outputs": [
    {
     "data": {
      "text/html": [
       "<style scoped>\n",
       "  .ansiout {\n",
       "    display: block;\n",
       "    unicode-bidi: embed;\n",
       "    white-space: pre-wrap;\n",
       "    word-wrap: break-word;\n",
       "    word-break: break-all;\n",
       "    font-family: \"Source Code Pro\", \"Menlo\", monospace;;\n",
       "    font-size: 13px;\n",
       "    color: #555;\n",
       "    margin-left: 4px;\n",
       "    line-height: 19px;\n",
       "  }\n",
       "</style>\n",
       "<div class=\"ansiout\">+--------------------------------------------------+--------------------------------------------------+--------------------------------------------------+\n",
       "                                            result|                                            result|                                            result|\n",
       "+--------------------------------------------------+--------------------------------------------------+--------------------------------------------------+\n",
       "[CRICKET, -, LEICESTERSHIRE, TAKE, OVER, AT, TO...|             [O, O, B-ORG, O, O, O, O, O, O, O, O]|             [O, O, B-ORG, O, O, O, O, O, O, O, O]|\n",
       "                              [LONDON, 1996-08-30]|                                        [B-LOC, O]|                                        [B-LOC, O]|\n",
       "[West, Indian, all-rounder, Phil, Simmons, took...|[B-MISC, I-MISC, O, B-PER, I-PER, O, O, O, O, O...|[B-MISC, I-MISC, O, B-PER, I-PER, O, O, O, O, O...|\n",
       "+--------------------------------------------------+--------------------------------------------------+--------------------------------------------------+\n",
       "only showing top 3 rows\n",
       "\n",
       "</div>"
      ]
     },
     "metadata": {
      "application/vnd.databricks.v1+output": {
       "addedWidgets": {},
       "arguments": {},
       "data": "<div class=\"ansiout\">+--------------------------------------------------+--------------------------------------------------+--------------------------------------------------+\n|                                            result|                                            result|                                            result|\n+--------------------------------------------------+--------------------------------------------------+--------------------------------------------------+\n|[CRICKET, -, LEICESTERSHIRE, TAKE, OVER, AT, TO...|             [O, O, B-ORG, O, O, O, O, O, O, O, O]|             [O, O, B-ORG, O, O, O, O, O, O, O, O]|\n|                              [LONDON, 1996-08-30]|                                        [B-LOC, O]|                                        [B-LOC, O]|\n|[West, Indian, all-rounder, Phil, Simmons, took...|[B-MISC, I-MISC, O, B-PER, I-PER, O, O, O, O, O...|[B-MISC, I-MISC, O, B-PER, I-PER, O, O, O, O, O...|\n+--------------------------------------------------+--------------------------------------------------+--------------------------------------------------+\nonly showing top 3 rows\n\n</div>",
       "datasetInfos": [],
       "removedWidgets": [],
       "type": "html"
      }
     },
     "output_type": "display_data"
    }
   ],
   "source": [
    "predictions.select('token.result','label.result','ner.result').show(3, truncate=50)"
   ]
  },
  {
   "cell_type": "markdown",
   "metadata": {
    "application/vnd.databricks.v1+cell": {
     "inputWidgets": {},
     "nuid": "e0ae7866-986d-4f92-b2d8-1ba861c242f1",
     "showTitle": false,
     "title": ""
    }
   },
   "source": [
    "### Test set evaluation"
   ]
  },
  {
   "cell_type": "code",
   "execution_count": 0,
   "metadata": {
    "application/vnd.databricks.v1+cell": {
     "inputWidgets": {},
     "nuid": "a3fb7998-efca-4d49-ad8d-15fe0d22f494",
     "showTitle": false,
     "title": ""
    }
   },
   "outputs": [
    {
     "data": {
      "text/html": [
       "<style scoped>\n",
       "  .ansiout {\n",
       "    display: block;\n",
       "    unicode-bidi: embed;\n",
       "    white-space: pre-wrap;\n",
       "    word-wrap: break-word;\n",
       "    word-break: break-all;\n",
       "    font-family: \"Source Code Pro\", \"Menlo\", monospace;;\n",
       "    font-size: 13px;\n",
       "    color: #555;\n",
       "    margin-left: 4px;\n",
       "    line-height: 19px;\n",
       "  }\n",
       "</style>\n",
       "<div class=\"ansiout\">+--------------+------------+----------+\n",
       "token         |ground_truth|prediction|\n",
       "+--------------+------------+----------+\n",
       "CRICKET       |O           |O         |\n",
       "-             |O           |O         |\n",
       "LEICESTERSHIRE|B-ORG       |B-ORG     |\n",
       "TAKE          |O           |O         |\n",
       "OVER          |O           |O         |\n",
       "AT            |O           |O         |\n",
       "TOP           |O           |O         |\n",
       "AFTER         |O           |O         |\n",
       "INNINGS       |O           |O         |\n",
       "VICTORY       |O           |O         |\n",
       ".             |O           |O         |\n",
       "LONDON        |B-LOC       |B-LOC     |\n",
       "1996-08-30    |O           |O         |\n",
       "West          |B-MISC      |B-MISC    |\n",
       "Indian        |I-MISC      |I-MISC    |\n",
       "all-rounder   |O           |O         |\n",
       "Phil          |B-PER       |B-PER     |\n",
       "Simmons       |I-PER       |I-PER     |\n",
       "took          |O           |O         |\n",
       "four          |O           |O         |\n",
       "+--------------+------------+----------+\n",
       "only showing top 20 rows\n",
       "\n",
       "</div>"
      ]
     },
     "metadata": {
      "application/vnd.databricks.v1+output": {
       "addedWidgets": {},
       "arguments": {},
       "data": "<div class=\"ansiout\">+--------------+------------+----------+\n|token         |ground_truth|prediction|\n+--------------+------------+----------+\n|CRICKET       |O           |O         |\n|-             |O           |O         |\n|LEICESTERSHIRE|B-ORG       |B-ORG     |\n|TAKE          |O           |O         |\n|OVER          |O           |O         |\n|AT            |O           |O         |\n|TOP           |O           |O         |\n|AFTER         |O           |O         |\n|INNINGS       |O           |O         |\n|VICTORY       |O           |O         |\n|.             |O           |O         |\n|LONDON        |B-LOC       |B-LOC     |\n|1996-08-30    |O           |O         |\n|West          |B-MISC      |B-MISC    |\n|Indian        |I-MISC      |I-MISC    |\n|all-rounder   |O           |O         |\n|Phil          |B-PER       |B-PER     |\n|Simmons       |I-PER       |I-PER     |\n|took          |O           |O         |\n|four          |O           |O         |\n+--------------+------------+----------+\nonly showing top 20 rows\n\n</div>",
       "datasetInfos": [],
       "removedWidgets": [],
       "type": "html"
      }
     },
     "output_type": "display_data"
    }
   ],
   "source": [
    "import pyspark.sql.functions as F\n",
    "\n",
    "predictions.select(F.explode(F.arrays_zip('token.result','label.result','ner.result')).alias(\"cols\")) \\\n",
    ".select(F.expr(\"cols['0']\").alias(\"token\"),\n",
    "        F.expr(\"cols['1']\").alias(\"ground_truth\"),\n",
    "        F.expr(\"cols['2']\").alias(\"prediction\")).show(truncate=False)"
   ]
  },
  {
   "cell_type": "markdown",
   "metadata": {
    "application/vnd.databricks.v1+cell": {
     "inputWidgets": {},
     "nuid": "ec17b735-e08e-48c0-9517-418f45cdb438",
     "showTitle": false,
     "title": ""
    }
   },
   "source": [
    "Licensed user will have an access to internal NERDLMetrics module to do this more efficient and easily without going out of Spark. But open source users need to use sklearen.mnetrics or any other equivalent module to do the same."
   ]
  },
  {
   "cell_type": "code",
   "execution_count": 0,
   "metadata": {
    "application/vnd.databricks.v1+cell": {
     "inputWidgets": {},
     "nuid": "985424a4-8c43-4cc9-a10f-ff29512f49c7",
     "showTitle": false,
     "title": ""
    }
   },
   "outputs": [
    {
     "data": {
      "text/html": [
       "<style scoped>\n",
       "  .ansiout {\n",
       "    display: block;\n",
       "    unicode-bidi: embed;\n",
       "    white-space: pre-wrap;\n",
       "    word-wrap: break-word;\n",
       "    word-break: break-all;\n",
       "    font-family: \"Source Code Pro\", \"Menlo\", monospace;;\n",
       "    font-size: 13px;\n",
       "    color: #555;\n",
       "    margin-left: 4px;\n",
       "    line-height: 19px;\n",
       "  }\n",
       "</style>\n",
       "<div class=\"ansiout\">              precision    recall  f1-score   support\n",
       "\n",
       "       B-LOC       0.90      0.93      0.91      1837\n",
       "      B-MISC       0.83      0.84      0.83       922\n",
       "       B-ORG       0.89      0.77      0.82      1341\n",
       "       B-PER       0.93      0.96      0.94      1842\n",
       "       I-LOC       0.80      0.78      0.79       257\n",
       "      I-MISC       0.73      0.52      0.61       346\n",
       "       I-ORG       0.88      0.64      0.74       751\n",
       "       I-PER       0.97      0.96      0.97      1307\n",
       "           O       0.99      1.00      0.99     42759\n",
       "\n",
       "    accuracy                           0.97     51362\n",
       "   macro avg       0.88      0.82      0.85     51362\n",
       "weighted avg       0.97      0.97      0.97     51362\n",
       "\n",
       "</div>"
      ]
     },
     "metadata": {
      "application/vnd.databricks.v1+output": {
       "addedWidgets": {},
       "arguments": {},
       "data": "<div class=\"ansiout\">              precision    recall  f1-score   support\n\n       B-LOC       0.90      0.93      0.91      1837\n      B-MISC       0.83      0.84      0.83       922\n       B-ORG       0.89      0.77      0.82      1341\n       B-PER       0.93      0.96      0.94      1842\n       I-LOC       0.80      0.78      0.79       257\n      I-MISC       0.73      0.52      0.61       346\n       I-ORG       0.88      0.64      0.74       751\n       I-PER       0.97      0.96      0.97      1307\n           O       0.99      1.00      0.99     42759\n\n    accuracy                           0.97     51362\n   macro avg       0.88      0.82      0.85     51362\nweighted avg       0.97      0.97      0.97     51362\n\n</div>",
       "datasetInfos": [],
       "removedWidgets": [],
       "type": "html"
      }
     },
     "output_type": "display_data"
    }
   ],
   "source": [
    "from sklearn.metrics import classification_report\n",
    "\n",
    "preds_df = predictions.select(F.explode(F.arrays_zip('token.result','label.result','ner.result')).alias(\"cols\")) \\\n",
    ".select(F.expr(\"cols['0']\").alias(\"token\"),\n",
    "        F.expr(\"cols['1']\").alias(\"ground_truth\"),\n",
    "        F.expr(\"cols['2']\").alias(\"prediction\")).toPandas()\n",
    "\n",
    "print (classification_report(preds_df['ground_truth'], preds_df['prediction']))\n"
   ]
  },
  {
   "cell_type": "markdown",
   "metadata": {
    "application/vnd.databricks.v1+cell": {
     "inputWidgets": {},
     "nuid": "2b0e9d3e-8cc2-45ac-9e5b-4cde92619ddd",
     "showTitle": false,
     "title": ""
    }
   },
   "source": [
    "### Entity level evaluation (strict eval)"
   ]
  },
  {
   "cell_type": "code",
   "execution_count": 0,
   "metadata": {
    "application/vnd.databricks.v1+cell": {
     "inputWidgets": {},
     "nuid": "bc1626ba-61e2-495a-b659-6bc7872fcfcc",
     "showTitle": false,
     "title": ""
    }
   },
   "outputs": [
    {
     "data": {
      "text/html": [
       "<style scoped>\n",
       "  .ansiout {\n",
       "    display: block;\n",
       "    unicode-bidi: embed;\n",
       "    white-space: pre-wrap;\n",
       "    word-wrap: break-word;\n",
       "    word-break: break-all;\n",
       "    font-family: \"Source Code Pro\", \"Menlo\", monospace;;\n",
       "    font-size: 13px;\n",
       "    color: #555;\n",
       "    margin-left: 4px;\n",
       "    line-height: 19px;\n",
       "  }\n",
       "</style>\n",
       "<div class=\"ansiout\"></div>"
      ]
     },
     "metadata": {
      "application/vnd.databricks.v1+output": {
       "addedWidgets": {},
       "arguments": {},
       "data": "<div class=\"ansiout\"></div>",
       "datasetInfos": [],
       "removedWidgets": [],
       "type": "html"
      }
     },
     "output_type": "display_data"
    }
   ],
   "source": [
    "!wget  -q https://raw.githubusercontent.com/JohnSnowLabs/spark-nlp-workshop/master/tutorials/Certification_Trainings/Public/utils/conll_eval.py\n",
    "  \n",
    "import sys\n",
    "\n",
    "# Add the path to system, local or mounted S3 bucket, e.g. /dbfs/mnt/<path_to_bucket>\n",
    "sys.path.append('/databricks/driver/')\n",
    "#sys.path.append('/databricks/driver/databricks_import_python_module/')\n",
    "sys.path.append('/databricks/driver/conll_eval.py')"
   ]
  },
  {
   "cell_type": "code",
   "execution_count": 0,
   "metadata": {
    "application/vnd.databricks.v1+cell": {
     "inputWidgets": {},
     "nuid": "f91bc573-c92f-428a-91f9-b27316250b6f",
     "showTitle": false,
     "title": ""
    }
   },
   "outputs": [
    {
     "data": {
      "text/html": [
       "<style scoped>\n",
       "  .ansiout {\n",
       "    display: block;\n",
       "    unicode-bidi: embed;\n",
       "    white-space: pre-wrap;\n",
       "    word-wrap: break-word;\n",
       "    word-break: break-all;\n",
       "    font-family: \"Source Code Pro\", \"Menlo\", monospace;;\n",
       "    font-size: 13px;\n",
       "    color: #555;\n",
       "    margin-left: 4px;\n",
       "    line-height: 19px;\n",
       "  }\n",
       "</style>\n",
       "<div class=\"ansiout\">processed 51362 tokens with 5942 phrases; found: 6026 phrases; correct: 5153.\n",
       "accuracy:  85.96%; (non-O)\n",
       "accuracy:  97.40%; precision:  85.51%; recall:  86.72%; FB1:  86.11\n",
       "              LOC: precision:  88.43%; recall:  92.81%; FB1:  90.57  1928\n",
       "             MISC: precision:  75.49%; recall:  79.18%; FB1:  77.29  967\n",
       "              ORG: precision:  79.25%; recall:  72.04%; FB1:  75.47  1219\n",
       "              PER: precision:  91.63%; recall:  95.11%; FB1:  93.34  1912\n",
       "</div>"
      ]
     },
     "metadata": {
      "application/vnd.databricks.v1+output": {
       "addedWidgets": {},
       "arguments": {},
       "data": "<div class=\"ansiout\">processed 51362 tokens with 5942 phrases; found: 6026 phrases; correct: 5153.\naccuracy:  85.96%; (non-O)\naccuracy:  97.40%; precision:  85.51%; recall:  86.72%; FB1:  86.11\n              LOC: precision:  88.43%; recall:  92.81%; FB1:  90.57  1928\n             MISC: precision:  75.49%; recall:  79.18%; FB1:  77.29  967\n              ORG: precision:  79.25%; recall:  72.04%; FB1:  75.47  1219\n              PER: precision:  91.63%; recall:  95.11%; FB1:  93.34  1912\n</div>",
       "datasetInfos": [],
       "removedWidgets": [],
       "type": "html"
      }
     },
     "output_type": "display_data"
    }
   ],
   "source": [
    "import conll_eval\n",
    "\n",
    "metrics = conll_eval.evaluate(preds_df['ground_truth'].values, preds_df['prediction'].values)"
   ]
  },
  {
   "cell_type": "code",
   "execution_count": 0,
   "metadata": {
    "application/vnd.databricks.v1+cell": {
     "inputWidgets": {},
     "nuid": "0b817512-65b6-43e9-ae64-0332c7b32dda",
     "showTitle": false,
     "title": ""
    }
   },
   "outputs": [
    {
     "data": {
      "text/html": [
       "<style scoped>\n",
       "  .ansiout {\n",
       "    display: block;\n",
       "    unicode-bidi: embed;\n",
       "    white-space: pre-wrap;\n",
       "    word-wrap: break-word;\n",
       "    word-break: break-all;\n",
       "    font-family: \"Source Code Pro\", \"Menlo\", monospace;;\n",
       "    font-size: 13px;\n",
       "    color: #555;\n",
       "    margin-left: 4px;\n",
       "    line-height: 19px;\n",
       "  }\n",
       "</style>\n",
       "<div class=\"ansiout\">Out[25]: (85.51277796216395, 86.72164254459777, 86.1129679144385)</div>"
      ]
     },
     "metadata": {
      "application/vnd.databricks.v1+output": {
       "addedWidgets": {},
       "arguments": {},
       "data": "<div class=\"ansiout\">Out[25]: (85.51277796216395, 86.72164254459777, 86.1129679144385)</div>",
       "datasetInfos": [],
       "removedWidgets": [],
       "type": "html"
      }
     },
     "output_type": "display_data"
    }
   ],
   "source": [
    "# micro, macro, avg\n",
    "metrics[0]"
   ]
  },
  {
   "cell_type": "code",
   "execution_count": 0,
   "metadata": {
    "application/vnd.databricks.v1+cell": {
     "inputWidgets": {},
     "nuid": "ed01d3ed-0927-423f-8a65-f3a713623106",
     "showTitle": false,
     "title": ""
    }
   },
   "outputs": [
    {
     "data": {
      "text/html": [
       "<style scoped>\n",
       "  .ansiout {\n",
       "    display: block;\n",
       "    unicode-bidi: embed;\n",
       "    white-space: pre-wrap;\n",
       "    word-wrap: break-word;\n",
       "    word-break: break-all;\n",
       "    font-family: \"Source Code Pro\", \"Menlo\", monospace;;\n",
       "    font-size: 13px;\n",
       "    color: #555;\n",
       "    margin-left: 4px;\n",
       "    line-height: 19px;\n",
       "  }\n",
       "</style>\n",
       "<div class=\"ansiout\">Out[26]: </div>"
      ]
     },
     "metadata": {
      "application/vnd.databricks.v1+output": {
       "addedWidgets": {},
       "arguments": {},
       "data": "<div class=\"ansiout\">Out[26]: </div>",
       "datasetInfos": [],
       "removedWidgets": [],
       "type": "html"
      }
     },
     "output_type": "display_data"
    },
    {
     "data": {
      "text/html": [
       "<div>\n",
       "<style scoped>\n",
       "    .dataframe tbody tr th:only-of-type {\n",
       "        vertical-align: middle;\n",
       "    }\n",
       "\n",
       "    .dataframe tbody tr th {\n",
       "        vertical-align: top;\n",
       "    }\n",
       "\n",
       "    .dataframe thead th {\n",
       "        text-align: right;\n",
       "    }\n",
       "</style>\n",
       "<table border=\"1\" class=\"dataframe\">\n",
       "  <thead>\n",
       "    <tr style=\"text-align: right;\">\n",
       "      <th></th>\n",
       "      <th>entity</th>\n",
       "      <th>precision</th>\n",
       "      <th>recall</th>\n",
       "      <th>f1</th>\n",
       "      <th>support</th>\n",
       "    </tr>\n",
       "  </thead>\n",
       "  <tbody>\n",
       "    <tr>\n",
       "      <th>0</th>\n",
       "      <td>LOC</td>\n",
       "      <td>88.433610</td>\n",
       "      <td>92.814371</td>\n",
       "      <td>90.571049</td>\n",
       "      <td>1928</td>\n",
       "    </tr>\n",
       "    <tr>\n",
       "      <th>1</th>\n",
       "      <td>MISC</td>\n",
       "      <td>75.491210</td>\n",
       "      <td>79.175705</td>\n",
       "      <td>77.289571</td>\n",
       "      <td>967</td>\n",
       "    </tr>\n",
       "    <tr>\n",
       "      <th>2</th>\n",
       "      <td>ORG</td>\n",
       "      <td>79.245283</td>\n",
       "      <td>72.035794</td>\n",
       "      <td>75.468750</td>\n",
       "      <td>1219</td>\n",
       "    </tr>\n",
       "    <tr>\n",
       "      <th>3</th>\n",
       "      <td>PER</td>\n",
       "      <td>91.631799</td>\n",
       "      <td>95.114007</td>\n",
       "      <td>93.340437</td>\n",
       "      <td>1912</td>\n",
       "    </tr>\n",
       "  </tbody>\n",
       "</table>\n",
       "</div>"
      ]
     },
     "metadata": {
      "application/vnd.databricks.v1+output": {
       "addedWidgets": {},
       "arguments": {},
       "data": "<div>\n<style scoped>\n    .dataframe tbody tr th:only-of-type {\n        vertical-align: middle;\n    }\n\n    .dataframe tbody tr th {\n        vertical-align: top;\n    }\n\n    .dataframe thead th {\n        text-align: right;\n    }\n</style>\n<table border=\"1\" class=\"dataframe\">\n  <thead>\n    <tr style=\"text-align: right;\">\n      <th></th>\n      <th>entity</th>\n      <th>precision</th>\n      <th>recall</th>\n      <th>f1</th>\n      <th>support</th>\n    </tr>\n  </thead>\n  <tbody>\n    <tr>\n      <th>0</th>\n      <td>LOC</td>\n      <td>88.433610</td>\n      <td>92.814371</td>\n      <td>90.571049</td>\n      <td>1928</td>\n    </tr>\n    <tr>\n      <th>1</th>\n      <td>MISC</td>\n      <td>75.491210</td>\n      <td>79.175705</td>\n      <td>77.289571</td>\n      <td>967</td>\n    </tr>\n    <tr>\n      <th>2</th>\n      <td>ORG</td>\n      <td>79.245283</td>\n      <td>72.035794</td>\n      <td>75.468750</td>\n      <td>1219</td>\n    </tr>\n    <tr>\n      <th>3</th>\n      <td>PER</td>\n      <td>91.631799</td>\n      <td>95.114007</td>\n      <td>93.340437</td>\n      <td>1912</td>\n    </tr>\n  </tbody>\n</table>\n</div>",
       "datasetInfos": [],
       "removedWidgets": [],
       "textData": null,
       "type": "htmlSandbox"
      }
     },
     "output_type": "display_data"
    }
   ],
   "source": [
    "import pandas as pd\n",
    "pd.DataFrame(metrics[1], columns=['entity','precision','recall','f1','support'])"
   ]
  },
  {
   "cell_type": "markdown",
   "metadata": {
    "application/vnd.databricks.v1+cell": {
     "inputWidgets": {},
     "nuid": "4d5412ff-4190-426f-b831-f2c3c3ac5f40",
     "showTitle": false,
     "title": ""
    }
   },
   "source": [
    "### Splitting dataset into train and test"
   ]
  },
  {
   "cell_type": "code",
   "execution_count": 0,
   "metadata": {
    "application/vnd.databricks.v1+cell": {
     "inputWidgets": {},
     "nuid": "c0a1827f-dca4-4a3e-9ac0-6ac7138a7f5e",
     "showTitle": false,
     "title": ""
    }
   },
   "outputs": [
    {
     "data": {
      "text/html": [
       "<style scoped>\n",
       "  .ansiout {\n",
       "    display: block;\n",
       "    unicode-bidi: embed;\n",
       "    white-space: pre-wrap;\n",
       "    word-wrap: break-word;\n",
       "    word-break: break-all;\n",
       "    font-family: \"Source Code Pro\", \"Menlo\", monospace;;\n",
       "    font-size: 13px;\n",
       "    color: #555;\n",
       "    margin-left: 4px;\n",
       "    line-height: 19px;\n",
       "  }\n",
       "</style>\n",
       "<div class=\"ansiout\">Training Dataset Count: 9745\n",
       "Test Dataset Count: 4296\n",
       "</div>"
      ]
     },
     "metadata": {
      "application/vnd.databricks.v1+output": {
       "addedWidgets": {},
       "arguments": {},
       "data": "<div class=\"ansiout\">Training Dataset Count: 9745\nTest Dataset Count: 4296\n</div>",
       "datasetInfos": [],
       "removedWidgets": [],
       "type": "html"
      }
     },
     "output_type": "display_data"
    }
   ],
   "source": [
    "from sparknlp.training import CoNLL\n",
    "\n",
    "conll_data = CoNLL().readDataset(spark, 'file:/databricks/driver/eng.train')\n",
    "\n",
    "(training_data, test_data) = conll_data.randomSplit([0.7, 0.3], seed = 100)\n",
    "\n",
    "print(\"Training Dataset Count: \" + str(training_data.count()))\n",
    "print(\"Test Dataset Count: \" + str(test_data.count()))"
   ]
  },
  {
   "cell_type": "code",
   "execution_count": 0,
   "metadata": {
    "application/vnd.databricks.v1+cell": {
     "inputWidgets": {},
     "nuid": "fd3ba47f-44b3-4a36-b8ef-9e485bd363a6",
     "showTitle": false,
     "title": ""
    }
   },
   "outputs": [
    {
     "data": {
      "text/html": [
       "<style scoped>\n",
       "  .ansiout {\n",
       "    display: block;\n",
       "    unicode-bidi: embed;\n",
       "    white-space: pre-wrap;\n",
       "    word-wrap: break-word;\n",
       "    word-break: break-all;\n",
       "    font-family: \"Source Code Pro\", \"Menlo\", monospace;;\n",
       "    font-size: 13px;\n",
       "    color: #555;\n",
       "    margin-left: 4px;\n",
       "    line-height: 19px;\n",
       "  }\n",
       "</style>\n",
       "<div class=\"ansiout\"></div>"
      ]
     },
     "metadata": {
      "application/vnd.databricks.v1+output": {
       "addedWidgets": {},
       "arguments": {},
       "data": "<div class=\"ansiout\"></div>",
       "datasetInfos": [],
       "removedWidgets": [],
       "type": "html"
      }
     },
     "output_type": "display_data"
    }
   ],
   "source": [
    "glove_embeddings.transform(test_data).write.parquet('nerdl_test.parquet')"
   ]
  },
  {
   "cell_type": "code",
   "execution_count": 0,
   "metadata": {
    "application/vnd.databricks.v1+cell": {
     "inputWidgets": {},
     "nuid": "851bc580-c9fb-438d-8b38-5e1b72652c61",
     "showTitle": false,
     "title": ""
    }
   },
   "outputs": [
    {
     "data": {
      "text/html": [
       "<style scoped>\n",
       "  .ansiout {\n",
       "    display: block;\n",
       "    unicode-bidi: embed;\n",
       "    white-space: pre-wrap;\n",
       "    word-wrap: break-word;\n",
       "    word-break: break-all;\n",
       "    font-family: \"Source Code Pro\", \"Menlo\", monospace;;\n",
       "    font-size: 13px;\n",
       "    color: #555;\n",
       "    margin-left: 4px;\n",
       "    line-height: 19px;\n",
       "  }\n",
       "</style>\n",
       "<div class=\"ansiout\"></div>"
      ]
     },
     "metadata": {
      "application/vnd.databricks.v1+output": {
       "addedWidgets": {},
       "arguments": {},
       "data": "<div class=\"ansiout\"></div>",
       "datasetInfos": [],
       "removedWidgets": [],
       "type": "html"
      }
     },
     "output_type": "display_data"
    }
   ],
   "source": [
    "nerTagger = NerDLApproach()\\\n",
    "  .setInputCols([\"sentence\", \"token\", \"embeddings\"])\\\n",
    "  .setLabelColumn(\"label\")\\\n",
    "  .setOutputCol(\"ner\")\\\n",
    "  .setMaxEpochs(5)\\\n",
    "  .setLr(0.003)\\\n",
    "  .setBatchSize(32)\\\n",
    "  .setRandomSeed(0)\\\n",
    "  .setVerbose(1)\\\n",
    "  .setValidationSplit(0.2)\\\n",
    "  .setEvaluationLogExtended(True) \\\n",
    "  .setEnableOutputLogs(True)\\\n",
    "  .setIncludeConfidence(True)\\\n",
    "  .setTestDataset('/nerdl_test.parquet')\\\n",
    "  .setOutputLogsPath('ner_logs') # if not set, logs will be written to ~/annotator_logs\n",
    "\n",
    "ner_pipeline = Pipeline(stages=[\n",
    "          glove_embeddings,\n",
    "          nerTagger\n",
    " ])\n",
    "\n",
    "ner_model = ner_pipeline.fit(training_data)"
   ]
  },
  {
   "cell_type": "code",
   "execution_count": 0,
   "metadata": {
    "application/vnd.databricks.v1+cell": {
     "inputWidgets": {},
     "nuid": "ca7454ca-5df3-436a-ac1a-b736279a3fb8",
     "showTitle": false,
     "title": ""
    }
   },
   "outputs": [
    {
     "data": {
      "text/html": [
       "<style scoped>\n",
       "  .ansiout {\n",
       "    display: block;\n",
       "    unicode-bidi: embed;\n",
       "    white-space: pre-wrap;\n",
       "    word-wrap: break-word;\n",
       "    word-break: break-all;\n",
       "    font-family: \"Source Code Pro\", \"Menlo\", monospace;;\n",
       "    font-size: 13px;\n",
       "    color: #555;\n",
       "    margin-left: 4px;\n",
       "    line-height: 19px;\n",
       "  }\n",
       "</style>\n",
       "<div class=\"ansiout\">total 12\n",
       "-rw-r--r-- 1 root root 7776 Apr 21 19:09 NerDLApproach_e1bf8a5c27ab.log\n",
       "-rw-r--r-- 1 root root 1005 Apr 21 18:55 NerDLApproach_b61b15958428.log\n",
       "/databricks/driver/ner_logs\n",
       "</div>"
      ]
     },
     "metadata": {
      "application/vnd.databricks.v1+output": {
       "addedWidgets": {},
       "arguments": {},
       "data": "<div class=\"ansiout\">total 12\n-rw-r--r-- 1 root root 7776 Apr 21 19:09 NerDLApproach_e1bf8a5c27ab.log\n-rw-r--r-- 1 root root 1005 Apr 21 18:55 NerDLApproach_b61b15958428.log\n/databricks/driver/ner_logs\n</div>",
       "datasetInfos": [],
       "removedWidgets": [],
       "type": "html"
      }
     },
     "output_type": "display_data"
    }
   ],
   "source": [
    "%sh cd ner_logs && ls -lt && pwd"
   ]
  },
  {
   "cell_type": "code",
   "execution_count": 0,
   "metadata": {
    "application/vnd.databricks.v1+cell": {
     "inputWidgets": {},
     "nuid": "c3a04eab-1f72-4263-8eda-486af0b2c2ca",
     "showTitle": false,
     "title": ""
    }
   },
   "outputs": [
    {
     "data": {
      "text/html": [
       "<style scoped>\n",
       "  .ansiout {\n",
       "    display: block;\n",
       "    unicode-bidi: embed;\n",
       "    white-space: pre-wrap;\n",
       "    word-wrap: break-word;\n",
       "    word-break: break-all;\n",
       "    font-family: \"Source Code Pro\", \"Menlo\", monospace;;\n",
       "    font-size: 13px;\n",
       "    color: #555;\n",
       "    margin-left: 4px;\n",
       "    line-height: 19px;\n",
       "  }\n",
       "</style>\n",
       "<div class=\"ansiout\">Name of the selected graph: ner-dl/blstm_10_100_128_120.pb\n",
       "Training started - total epochs: 5 - lr: 0.003 - batch size: 32 - labels: 9 - chars: 84 - training examples: 7817\n",
       "\n",
       "\n",
       "Epoch 1/5 started, lr: 0.003, dataset size: 7817\n",
       "\n",
       "\n",
       "Epoch 1/5 - 53.52s - loss: 1241.9316 - batches: 247\n",
       "Quality on validation dataset (20.0%), validation examples = 1563\n",
       "time to finish evaluation: 4.26s\n",
       "label\t tp\t fp\t fn\t prec\t rec\t f1\n",
       "B-LOC\t 824\t 165\t 61\t 0.8331648\t 0.9310734\t 0.87940234\n",
       "I-ORG\t 412\t 91\t 134\t 0.8190855\t 0.75457877\t 0.78551006\n",
       "I-MISC\t 92\t 42\t 77\t 0.6865672\t 0.5443787\t 0.60726076\n",
       "I-LOC\t 105\t 36\t 35\t 0.7446808\t 0.75\t 0.7473309\n",
       "I-PER\t 549\t 34\t 10\t 0.94168097\t 0.9821109\t 0.9614711\n",
       "B-MISC\t 318\t 34\t 120\t 0.90340906\t 0.72602737\t 0.80506325\n",
       "B-ORG\t 782\t 191\t 139\t 0.8036999\t 0.8490771\t 0.8257656\n",
       "B-PER\t 806\t 74\t 50\t 0.9159091\t 0.94158876\t 0.9285714\n",
       "tp: 3888 fp: 667 fn: 626 labels: 8\n",
       "Macro-average\t prec: 0.8310247, rec: 0.80985445, f1: 0.82030296\n",
       "Micro-average\t prec: 0.8535675, rec: 0.8613203, f1: 0.8574264\n",
       "Quality on test dataset: \n",
       "time to finish evaluation: 8.90s\n",
       "label\t tp\t fp\t fn\t prec\t rec\t f1\n",
       "B-LOC\t 2040\t 405\t 122\t 0.83435583\t 0.9435708\t 0.8856088\n",
       "I-ORG\t 771\t 207\t 246\t 0.78834355\t 0.7581121\t 0.7729323\n",
       "I-MISC\t 202\t 100\t 141\t 0.66887414\t 0.5889213\t 0.62635654\n",
       "I-LOC\t 276\t 73\t 61\t 0.79083097\t 0.8189911\t 0.8046648\n",
       "I-PER\t 1415\t 97\t 26\t 0.93584657\t 0.98195696\t 0.95834744\n",
       "B-MISC\t 779\t 75\t 293\t 0.912178\t 0.7266791\t 0.80893034\n",
       "B-ORG\t 1583\t 386\t 318\t 0.8039614\t 0.8327196\t 0.8180878\n",
       "B-PER\t 1926\t 173\t 136\t 0.9175798\t 0.9340446\t 0.925739\n",
       "tp: 8992 fp: 1516 fn: 1343 labels: 8\n",
       "Macro-average\t prec: 0.8314963, rec: 0.8231245, f1: 0.8272892\n",
       "Micro-average\t prec: 0.855729, rec: 0.87005323, f1: 0.8628317\n",
       "\n",
       "\n",
       "Epoch 2/5 started, lr: 0.0029850747, dataset size: 7817\n",
       "\n",
       "\n",
       "Epoch 2/5 - 51.51s - loss: 377.2035 - batches: 247\n",
       "Quality on validation dataset (20.0%), validation examples = 1563\n",
       "time to finish evaluation: 3.98s\n",
       "label\t tp\t fp\t fn\t prec\t rec\t f1\n",
       "B-LOC\t 765\t 36\t 120\t 0.9550562\t 0.86440676\t 0.9074733\n",
       "I-ORG\t 464\t 90\t 82\t 0.8375451\t 0.84981686\t 0.84363633\n",
       "I-MISC\t 95\t 30\t 74\t 0.76\t 0.56213015\t 0.6462585\n",
       "I-LOC\t 100\t 7\t 40\t 0.93457943\t 0.71428573\t 0.8097166\n",
       "I-PER\t 550\t 16\t 9\t 0.9717314\t 0.98389983\t 0.9777778\n",
       "B-MISC\t 379\t 65\t 59\t 0.8536036\t 0.8652968\t 0.8594104\n",
       "B-ORG\t 833\t 173\t 88\t 0.82803184\t 0.90445167\t 0.8645563\n",
       "B-PER\t 818\t 56\t 38\t 0.9359268\t 0.9556075\t 0.94566476\n",
       "tp: 4004 fp: 473 fn: 510 labels: 8\n",
       "Macro-average\t prec: 0.8845593, rec: 0.8374869, f1: 0.86037976\n",
       "Micro-average\t prec: 0.8943489, rec: 0.88701814, f1: 0.89066845\n",
       "Quality on test dataset: \n",
       "time to finish evaluation: 8.77s\n",
       "label\t tp\t fp\t fn\t prec\t rec\t f1\n",
       "B-LOC\t 1926\t 90\t 236\t 0.95535713\t 0.89084184\t 0.9219722\n",
       "I-ORG\t 841\t 221\t 176\t 0.79190207\t 0.82694197\t 0.8090428\n",
       "I-MISC\t 232\t 54\t 111\t 0.8111888\t 0.67638487\t 0.7376789\n",
       "I-LOC\t 251\t 37\t 86\t 0.8715278\t 0.7448071\t 0.8032\n",
       "I-PER\t 1414\t 51\t 27\t 0.9651877\t 0.98126304\t 0.973159\n",
       "B-MISC\t 925\t 133\t 147\t 0.8742911\t 0.86287314\t 0.86854464\n",
       "B-ORG\t 1685\t 326\t 216\t 0.8378916\t 0.8863756\t 0.86145186\n",
       "B-PER\t 1977\t 126\t 85\t 0.9400856\t 0.9587779\t 0.9493397\n",
       "tp: 9251 fp: 1038 fn: 1084 labels: 8\n",
       "Macro-average\t prec: 0.8809289, rec: 0.85353315, f1: 0.86701465\n",
       "Micro-average\t prec: 0.89911556, rec: 0.8951137, f1: 0.89711016\n",
       "\n",
       "\n",
       "Epoch 3/5 started, lr: 0.0029702971, dataset size: 7817\n",
       "\n",
       "\n",
       "Epoch 3/5 - 52.03s - loss: 275.462 - batches: 247\n",
       "Quality on validation dataset (20.0%), validation examples = 1563\n",
       "time to finish evaluation: 3.90s\n",
       "label\t tp\t fp\t fn\t prec\t rec\t f1\n",
       "B-LOC\t 763\t 20\t 122\t 0.9744572\t 0.8621469\t 0.9148681\n",
       "I-ORG\t 505\t 209\t 41\t 0.7072829\t 0.9249084\t 0.8015873\n",
       "I-MISC\t 92\t 14\t 77\t 0.8679245\t 0.5443787\t 0.6690909\n",
       "I-LOC\t 75\t 2\t 65\t 0.97402596\t 0.53571427\t 0.69124424\n",
       "I-PER\t 538\t 14\t 21\t 0.9746377\t 0.9624329\t 0.96849686\n",
       "B-MISC\t 351\t 24\t 87\t 0.936\t 0.80136985\t 0.8634687\n",
       "B-ORG\t 849\t 214\t 72\t 0.798683\t 0.9218241\t 0.85584676\n",
       "B-PER\t 796\t 41\t 60\t 0.95101553\t 0.92990655\t 0.94034255\n",
       "tp: 3969 fp: 538 fn: 545 labels: 8\n",
       "Macro-average\t prec: 0.89800334, rec: 0.81033516, f1: 0.8519198\n",
       "Micro-average\t prec: 0.88063014, rec: 0.87926453, f1: 0.8799468\n",
       "Quality on test dataset: \n",
       "time to finish evaluation: 8.62s\n",
       "label\t tp\t fp\t fn\t prec\t rec\t f1\n",
       "B-LOC\t 1890\t 54\t 272\t 0.9722222\t 0.87419057\t 0.92060393\n",
       "I-ORG\t 941\t 521\t 76\t 0.64363885\t 0.9252704\t 0.75917715\n",
       "I-MISC\t 215\t 31\t 128\t 0.87398374\t 0.6268222\t 0.7300509\n",
       "I-LOC\t 183\t 4\t 154\t 0.9786096\t 0.5430267\t 0.6984733\n",
       "I-PER\t 1396\t 30\t 45\t 0.9789621\t 0.9687717\t 0.97384024\n",
       "B-MISC\t 886\t 44\t 186\t 0.95268816\t 0.82649255\t 0.88511485\n",
       "B-ORG\t 1739\t 449\t 162\t 0.7947898\t 0.9147817\t 0.8505747\n",
       "B-PER\t 1944\t 74\t 118\t 0.96333003\t 0.942774\t 0.9529412\n",
       "tp: 9194 fp: 1207 fn: 1141 labels: 8\n",
       "Macro-average\t prec: 0.894778, rec: 0.8277662, f1: 0.8599686\n",
       "Micro-average\t prec: 0.88395345, rec: 0.8895984, f1: 0.8867669\n",
       "\n",
       "\n",
       "Epoch 4/5 started, lr: 0.002955665, dataset size: 7817\n",
       "\n",
       "\n",
       "Epoch 4/5 - 51.71s - loss: 222.09073 - batches: 247\n",
       "Quality on validation dataset (20.0%), validation examples = 1563\n",
       "time to finish evaluation: 4.05s\n",
       "label\t tp\t fp\t fn\t prec\t rec\t f1\n",
       "B-LOC\t 787\t 15\t 98\t 0.9812968\t 0.88926554\t 0.9330172\n",
       "I-ORG\t 491\t 121\t 55\t 0.8022876\t 0.8992674\t 0.8480138\n",
       "I-MISC\t 120\t 49\t 49\t 0.71005917\t 0.71005917\t 0.71005917\n",
       "I-LOC\t 100\t 3\t 40\t 0.9708738\t 0.71428573\t 0.82304525\n",
       "I-PER\t 546\t 9\t 13\t 0.9837838\t 0.9767442\t 0.9802514\n",
       "B-MISC\t 371\t 27\t 67\t 0.9321608\t 0.84703195\t 0.88755983\n",
       "B-ORG\t 877\t 220\t 44\t 0.7994531\t 0.95222586\t 0.86917746\n",
       "B-PER\t 806\t 32\t 50\t 0.96181387\t 0.94158876\t 0.95159394\n",
       "tp: 4098 fp: 476 fn: 416 labels: 8\n",
       "Macro-average\t prec: 0.89271617, rec: 0.86630857, f1: 0.8793141\n",
       "Micro-average\t prec: 0.8959335, rec: 0.9078423, f1: 0.90184855\n",
       "Quality on test dataset: \n",
       "time to finish evaluation: 9.50s\n",
       "label\t tp\t fp\t fn\t prec\t rec\t f1\n",
       "B-LOC\t 1949\t 44\t 213\t 0.97792274\t 0.90148014\t 0.9381468\n",
       "I-ORG\t 925\t 281\t 92\t 0.76699835\t 0.90953785\t 0.8322087\n",
       "I-MISC\t 265\t 98\t 78\t 0.73002756\t 0.77259475\t 0.75070816\n",
       "I-LOC\t 246\t 16\t 91\t 0.9389313\t 0.72997034\t 0.8213689\n",
       "I-PER\t 1407\t 33\t 34\t 0.9770833\t 0.97640526\t 0.9767442\n",
       "B-MISC\t 916\t 70\t 156\t 0.9290061\t 0.8544776\t 0.89018464\n",
       "B-ORG\t 1815\t 461\t 86\t 0.7974517\t 0.9547607\t 0.8690448\n",
       "B-PER\t 1961\t 61\t 101\t 0.9698318\t 0.95101845\t 0.960333\n",
       "tp: 9484 fp: 1064 fn: 851 labels: 8\n",
       "Macro-average\t prec: 0.8859066, rec: 0.88128054, f1: 0.8835875\n",
       "Micro-average\t prec: 0.8991278, rec: 0.91765845, f1: 0.90829855\n",
       "\n",
       "\n",
       "Epoch 5/5 started, lr: 0.0029411765, dataset size: 7817\n",
       "\n",
       "\n",
       "Epoch 5/5 - 51.51s - loss: 180.79333 - batches: 247\n",
       "Quality on validation dataset (20.0%), validation examples = 1563\n",
       "time to finish evaluation: 4.56s\n",
       "label\t tp\t fp\t fn\t prec\t rec\t f1\n",
       "B-LOC\t 831\t 48\t 54\t 0.9453925\t 0.938983\t 0.9421768\n",
       "I-ORG\t 459\t 57\t 87\t 0.8895349\t 0.8406593\t 0.8644068\n",
       "I-MISC\t 126\t 46\t 43\t 0.73255813\t 0.74556214\t 0.7390029\n",
       "I-LOC\t 113\t 14\t 27\t 0.8897638\t 0.80714285\t 0.846442\n",
       "I-PER\t 549\t 37\t 10\t 0.9368601\t 0.9821109\t 0.95895195\n",
       "B-MISC\t 387\t 59\t 51\t 0.86771303\t 0.8835617\t 0.87556565\n",
       "B-ORG\t 803\t 60\t 118\t 0.9304751\t 0.8718784\t 0.9002242\n",
       "B-PER\t 835\t 86\t 21\t 0.90662324\t 0.97546726\t 0.93978614\n",
       "tp: 4103 fp: 407 fn: 411 labels: 8\n",
       "Macro-average\t prec: 0.8873651, rec: 0.8806707, f1: 0.88400525\n",
       "Micro-average\t prec: 0.9097561, rec: 0.9089499, f1: 0.90935284\n",
       "Quality on test dataset: \n",
       "time to finish evaluation: 8.76s\n",
       "label\t tp\t fp\t fn\t prec\t rec\t f1\n",
       "B-LOC\t 2057\t 93\t 105\t 0.9567442\t 0.95143384\t 0.9540816\n",
       "I-ORG\t 873\t 112\t 144\t 0.8862944\t 0.8584071\t 0.8721279\n",
       "I-MISC\t 284\t 81\t 59\t 0.7780822\t 0.8279883\t 0.80225986\n",
       "I-LOC\t 283\t 32\t 54\t 0.8984127\t 0.8397626\t 0.86809814\n",
       "I-PER\t 1427\t 66\t 14\t 0.9557937\t 0.9902845\t 0.9727335\n",
       "B-MISC\t 980\t 100\t 92\t 0.9074074\t 0.9141791\t 0.91078067\n",
       "B-ORG\t 1679\t 119\t 222\t 0.93381536\t 0.88321936\t 0.90781295\n",
       "B-PER\t 2026\t 152\t 36\t 0.9302112\t 0.9825412\t 0.95566034\n",
       "tp: 9609 fp: 755 fn: 726 labels: 8\n",
       "Macro-average\t prec: 0.9058451, rec: 0.90597695, f1: 0.905911\n",
       "Micro-average\t prec: 0.9271517, rec: 0.92975324, f1: 0.9284506\n",
       "</div>"
      ]
     },
     "metadata": {
      "application/vnd.databricks.v1+output": {
       "addedWidgets": {},
       "arguments": {},
       "data": "<div class=\"ansiout\">Name of the selected graph: ner-dl/blstm_10_100_128_120.pb\nTraining started - total epochs: 5 - lr: 0.003 - batch size: 32 - labels: 9 - chars: 84 - training examples: 7817\n\n\nEpoch 1/5 started, lr: 0.003, dataset size: 7817\n\n\nEpoch 1/5 - 53.52s - loss: 1241.9316 - batches: 247\nQuality on validation dataset (20.0%), validation examples = 1563\ntime to finish evaluation: 4.26s\nlabel\t tp\t fp\t fn\t prec\t rec\t f1\nB-LOC\t 824\t 165\t 61\t 0.8331648\t 0.9310734\t 0.87940234\nI-ORG\t 412\t 91\t 134\t 0.8190855\t 0.75457877\t 0.78551006\nI-MISC\t 92\t 42\t 77\t 0.6865672\t 0.5443787\t 0.60726076\nI-LOC\t 105\t 36\t 35\t 0.7446808\t 0.75\t 0.7473309\nI-PER\t 549\t 34\t 10\t 0.94168097\t 0.9821109\t 0.9614711\nB-MISC\t 318\t 34\t 120\t 0.90340906\t 0.72602737\t 0.80506325\nB-ORG\t 782\t 191\t 139\t 0.8036999\t 0.8490771\t 0.8257656\nB-PER\t 806\t 74\t 50\t 0.9159091\t 0.94158876\t 0.9285714\ntp: 3888 fp: 667 fn: 626 labels: 8\nMacro-average\t prec: 0.8310247, rec: 0.80985445, f1: 0.82030296\nMicro-average\t prec: 0.8535675, rec: 0.8613203, f1: 0.8574264\nQuality on test dataset: \ntime to finish evaluation: 8.90s\nlabel\t tp\t fp\t fn\t prec\t rec\t f1\nB-LOC\t 2040\t 405\t 122\t 0.83435583\t 0.9435708\t 0.8856088\nI-ORG\t 771\t 207\t 246\t 0.78834355\t 0.7581121\t 0.7729323\nI-MISC\t 202\t 100\t 141\t 0.66887414\t 0.5889213\t 0.62635654\nI-LOC\t 276\t 73\t 61\t 0.79083097\t 0.8189911\t 0.8046648\nI-PER\t 1415\t 97\t 26\t 0.93584657\t 0.98195696\t 0.95834744\nB-MISC\t 779\t 75\t 293\t 0.912178\t 0.7266791\t 0.80893034\nB-ORG\t 1583\t 386\t 318\t 0.8039614\t 0.8327196\t 0.8180878\nB-PER\t 1926\t 173\t 136\t 0.9175798\t 0.9340446\t 0.925739\ntp: 8992 fp: 1516 fn: 1343 labels: 8\nMacro-average\t prec: 0.8314963, rec: 0.8231245, f1: 0.8272892\nMicro-average\t prec: 0.855729, rec: 0.87005323, f1: 0.8628317\n\n\nEpoch 2/5 started, lr: 0.0029850747, dataset size: 7817\n\n\nEpoch 2/5 - 51.51s - loss: 377.2035 - batches: 247\nQuality on validation dataset (20.0%), validation examples = 1563\ntime to finish evaluation: 3.98s\nlabel\t tp\t fp\t fn\t prec\t rec\t f1\nB-LOC\t 765\t 36\t 120\t 0.9550562\t 0.86440676\t 0.9074733\nI-ORG\t 464\t 90\t 82\t 0.8375451\t 0.84981686\t 0.84363633\nI-MISC\t 95\t 30\t 74\t 0.76\t 0.56213015\t 0.6462585\nI-LOC\t 100\t 7\t 40\t 0.93457943\t 0.71428573\t 0.8097166\nI-PER\t 550\t 16\t 9\t 0.9717314\t 0.98389983\t 0.9777778\nB-MISC\t 379\t 65\t 59\t 0.8536036\t 0.8652968\t 0.8594104\nB-ORG\t 833\t 173\t 88\t 0.82803184\t 0.90445167\t 0.8645563\nB-PER\t 818\t 56\t 38\t 0.9359268\t 0.9556075\t 0.94566476\ntp: 4004 fp: 473 fn: 510 labels: 8\nMacro-average\t prec: 0.8845593, rec: 0.8374869, f1: 0.86037976\nMicro-average\t prec: 0.8943489, rec: 0.88701814, f1: 0.89066845\nQuality on test dataset: \ntime to finish evaluation: 8.77s\nlabel\t tp\t fp\t fn\t prec\t rec\t f1\nB-LOC\t 1926\t 90\t 236\t 0.95535713\t 0.89084184\t 0.9219722\nI-ORG\t 841\t 221\t 176\t 0.79190207\t 0.82694197\t 0.8090428\nI-MISC\t 232\t 54\t 111\t 0.8111888\t 0.67638487\t 0.7376789\nI-LOC\t 251\t 37\t 86\t 0.8715278\t 0.7448071\t 0.8032\nI-PER\t 1414\t 51\t 27\t 0.9651877\t 0.98126304\t 0.973159\nB-MISC\t 925\t 133\t 147\t 0.8742911\t 0.86287314\t 0.86854464\nB-ORG\t 1685\t 326\t 216\t 0.8378916\t 0.8863756\t 0.86145186\nB-PER\t 1977\t 126\t 85\t 0.9400856\t 0.9587779\t 0.9493397\ntp: 9251 fp: 1038 fn: 1084 labels: 8\nMacro-average\t prec: 0.8809289, rec: 0.85353315, f1: 0.86701465\nMicro-average\t prec: 0.89911556, rec: 0.8951137, f1: 0.89711016\n\n\nEpoch 3/5 started, lr: 0.0029702971, dataset size: 7817\n\n\nEpoch 3/5 - 52.03s - loss: 275.462 - batches: 247\nQuality on validation dataset (20.0%), validation examples = 1563\ntime to finish evaluation: 3.90s\nlabel\t tp\t fp\t fn\t prec\t rec\t f1\nB-LOC\t 763\t 20\t 122\t 0.9744572\t 0.8621469\t 0.9148681\nI-ORG\t 505\t 209\t 41\t 0.7072829\t 0.9249084\t 0.8015873\nI-MISC\t 92\t 14\t 77\t 0.8679245\t 0.5443787\t 0.6690909\nI-LOC\t 75\t 2\t 65\t 0.97402596\t 0.53571427\t 0.69124424\nI-PER\t 538\t 14\t 21\t 0.9746377\t 0.9624329\t 0.96849686\nB-MISC\t 351\t 24\t 87\t 0.936\t 0.80136985\t 0.8634687\nB-ORG\t 849\t 214\t 72\t 0.798683\t 0.9218241\t 0.85584676\nB-PER\t 796\t 41\t 60\t 0.95101553\t 0.92990655\t 0.94034255\ntp: 3969 fp: 538 fn: 545 labels: 8\nMacro-average\t prec: 0.89800334, rec: 0.81033516, f1: 0.8519198\nMicro-average\t prec: 0.88063014, rec: 0.87926453, f1: 0.8799468\nQuality on test dataset: \ntime to finish evaluation: 8.62s\nlabel\t tp\t fp\t fn\t prec\t rec\t f1\nB-LOC\t 1890\t 54\t 272\t 0.9722222\t 0.87419057\t 0.92060393\nI-ORG\t 941\t 521\t 76\t 0.64363885\t 0.9252704\t 0.75917715\nI-MISC\t 215\t 31\t 128\t 0.87398374\t 0.6268222\t 0.7300509\nI-LOC\t 183\t 4\t 154\t 0.9786096\t 0.5430267\t 0.6984733\nI-PER\t 1396\t 30\t 45\t 0.9789621\t 0.9687717\t 0.97384024\nB-MISC\t 886\t 44\t 186\t 0.95268816\t 0.82649255\t 0.88511485\nB-ORG\t 1739\t 449\t 162\t 0.7947898\t 0.9147817\t 0.8505747\nB-PER\t 1944\t 74\t 118\t 0.96333003\t 0.942774\t 0.9529412\ntp: 9194 fp: 1207 fn: 1141 labels: 8\nMacro-average\t prec: 0.894778, rec: 0.8277662, f1: 0.8599686\nMicro-average\t prec: 0.88395345, rec: 0.8895984, f1: 0.8867669\n\n\nEpoch 4/5 started, lr: 0.002955665, dataset size: 7817\n\n\nEpoch 4/5 - 51.71s - loss: 222.09073 - batches: 247\nQuality on validation dataset (20.0%), validation examples = 1563\ntime to finish evaluation: 4.05s\nlabel\t tp\t fp\t fn\t prec\t rec\t f1\nB-LOC\t 787\t 15\t 98\t 0.9812968\t 0.88926554\t 0.9330172\nI-ORG\t 491\t 121\t 55\t 0.8022876\t 0.8992674\t 0.8480138\nI-MISC\t 120\t 49\t 49\t 0.71005917\t 0.71005917\t 0.71005917\nI-LOC\t 100\t 3\t 40\t 0.9708738\t 0.71428573\t 0.82304525\nI-PER\t 546\t 9\t 13\t 0.9837838\t 0.9767442\t 0.9802514\nB-MISC\t 371\t 27\t 67\t 0.9321608\t 0.84703195\t 0.88755983\nB-ORG\t 877\t 220\t 44\t 0.7994531\t 0.95222586\t 0.86917746\nB-PER\t 806\t 32\t 50\t 0.96181387\t 0.94158876\t 0.95159394\ntp: 4098 fp: 476 fn: 416 labels: 8\nMacro-average\t prec: 0.89271617, rec: 0.86630857, f1: 0.8793141\nMicro-average\t prec: 0.8959335, rec: 0.9078423, f1: 0.90184855\nQuality on test dataset: \ntime to finish evaluation: 9.50s\nlabel\t tp\t fp\t fn\t prec\t rec\t f1\nB-LOC\t 1949\t 44\t 213\t 0.97792274\t 0.90148014\t 0.9381468\nI-ORG\t 925\t 281\t 92\t 0.76699835\t 0.90953785\t 0.8322087\nI-MISC\t 265\t 98\t 78\t 0.73002756\t 0.77259475\t 0.75070816\nI-LOC\t 246\t 16\t 91\t 0.9389313\t 0.72997034\t 0.8213689\nI-PER\t 1407\t 33\t 34\t 0.9770833\t 0.97640526\t 0.9767442\nB-MISC\t 916\t 70\t 156\t 0.9290061\t 0.8544776\t 0.89018464\nB-ORG\t 1815\t 461\t 86\t 0.7974517\t 0.9547607\t 0.8690448\nB-PER\t 1961\t 61\t 101\t 0.9698318\t 0.95101845\t 0.960333\ntp: 9484 fp: 1064 fn: 851 labels: 8\nMacro-average\t prec: 0.8859066, rec: 0.88128054, f1: 0.8835875\nMicro-average\t prec: 0.8991278, rec: 0.91765845, f1: 0.90829855\n\n\nEpoch 5/5 started, lr: 0.0029411765, dataset size: 7817\n\n\nEpoch 5/5 - 51.51s - loss: 180.79333 - batches: 247\nQuality on validation dataset (20.0%), validation examples = 1563\ntime to finish evaluation: 4.56s\nlabel\t tp\t fp\t fn\t prec\t rec\t f1\nB-LOC\t 831\t 48\t 54\t 0.9453925\t 0.938983\t 0.9421768\nI-ORG\t 459\t 57\t 87\t 0.8895349\t 0.8406593\t 0.8644068\nI-MISC\t 126\t 46\t 43\t 0.73255813\t 0.74556214\t 0.7390029\nI-LOC\t 113\t 14\t 27\t 0.8897638\t 0.80714285\t 0.846442\nI-PER\t 549\t 37\t 10\t 0.9368601\t 0.9821109\t 0.95895195\nB-MISC\t 387\t 59\t 51\t 0.86771303\t 0.8835617\t 0.87556565\nB-ORG\t 803\t 60\t 118\t 0.9304751\t 0.8718784\t 0.9002242\nB-PER\t 835\t 86\t 21\t 0.90662324\t 0.97546726\t 0.93978614\ntp: 4103 fp: 407 fn: 411 labels: 8\nMacro-average\t prec: 0.8873651, rec: 0.8806707, f1: 0.88400525\nMicro-average\t prec: 0.9097561, rec: 0.9089499, f1: 0.90935284\nQuality on test dataset: \ntime to finish evaluation: 8.76s\nlabel\t tp\t fp\t fn\t prec\t rec\t f1\nB-LOC\t 2057\t 93\t 105\t 0.9567442\t 0.95143384\t 0.9540816\nI-ORG\t 873\t 112\t 144\t 0.8862944\t 0.8584071\t 0.8721279\nI-MISC\t 284\t 81\t 59\t 0.7780822\t 0.8279883\t 0.80225986\nI-LOC\t 283\t 32\t 54\t 0.8984127\t 0.8397626\t 0.86809814\nI-PER\t 1427\t 66\t 14\t 0.9557937\t 0.9902845\t 0.9727335\nB-MISC\t 980\t 100\t 92\t 0.9074074\t 0.9141791\t 0.91078067\nB-ORG\t 1679\t 119\t 222\t 0.93381536\t 0.88321936\t 0.90781295\nB-PER\t 2026\t 152\t 36\t 0.9302112\t 0.9825412\t 0.95566034\ntp: 9609 fp: 755 fn: 726 labels: 8\nMacro-average\t prec: 0.9058451, rec: 0.90597695, f1: 0.905911\nMicro-average\t prec: 0.9271517, rec: 0.92975324, f1: 0.9284506\n</div>",
       "datasetInfos": [],
       "removedWidgets": [],
       "type": "html"
      }
     },
     "output_type": "display_data"
    }
   ],
   "source": [
    "%sh cat ner_logs/NerDLApproach_e1bf8a5c27ab.log"
   ]
  },
  {
   "cell_type": "code",
   "execution_count": 0,
   "metadata": {
    "application/vnd.databricks.v1+cell": {
     "inputWidgets": {},
     "nuid": "48df6ce1-6fe5-47d4-b674-e3a7e0bf02c5",
     "showTitle": false,
     "title": ""
    }
   },
   "outputs": [
    {
     "data": {
      "text/html": [
       "<style scoped>\n",
       "  .ansiout {\n",
       "    display: block;\n",
       "    unicode-bidi: embed;\n",
       "    white-space: pre-wrap;\n",
       "    word-wrap: break-word;\n",
       "    word-break: break-all;\n",
       "    font-family: \"Source Code Pro\", \"Menlo\", monospace;;\n",
       "    font-size: 13px;\n",
       "    color: #555;\n",
       "    margin-left: 4px;\n",
       "    line-height: 19px;\n",
       "  }\n",
       "</style>\n",
       "<div class=\"ansiout\">              precision    recall  f1-score   support\n",
       "\n",
       "       B-LOC     0.9567    0.9514    0.9541      2162\n",
       "      B-MISC     0.9074    0.9142    0.9108      1072\n",
       "       B-ORG     0.9338    0.8832    0.9078      1901\n",
       "       B-PER     0.9302    0.9825    0.9557      2062\n",
       "       I-LOC     0.8984    0.8398    0.8681       337\n",
       "      I-MISC     0.7781    0.8280    0.8023       343\n",
       "       I-ORG     0.8863    0.8584    0.8721      1017\n",
       "       I-PER     0.9558    0.9903    0.9727      1441\n",
       "           O     0.9964    0.9958    0.9961     52279\n",
       "\n",
       "    accuracy                         0.9849     62614\n",
       "   macro avg     0.9159    0.9160    0.9155     62614\n",
       "weighted avg     0.9850    0.9849    0.9849     62614\n",
       "\n",
       "</div>"
      ]
     },
     "metadata": {
      "application/vnd.databricks.v1+output": {
       "addedWidgets": {},
       "arguments": {},
       "data": "<div class=\"ansiout\">              precision    recall  f1-score   support\n\n       B-LOC     0.9567    0.9514    0.9541      2162\n      B-MISC     0.9074    0.9142    0.9108      1072\n       B-ORG     0.9338    0.8832    0.9078      1901\n       B-PER     0.9302    0.9825    0.9557      2062\n       I-LOC     0.8984    0.8398    0.8681       337\n      I-MISC     0.7781    0.8280    0.8023       343\n       I-ORG     0.8863    0.8584    0.8721      1017\n       I-PER     0.9558    0.9903    0.9727      1441\n           O     0.9964    0.9958    0.9961     52279\n\n    accuracy                         0.9849     62614\n   macro avg     0.9159    0.9160    0.9155     62614\nweighted avg     0.9850    0.9849    0.9849     62614\n\n</div>",
       "datasetInfos": [],
       "removedWidgets": [],
       "type": "html"
      }
     },
     "output_type": "display_data"
    }
   ],
   "source": [
    "test_data = glove_embeddings.transform(test_data)\n",
    "\n",
    "predictions = ner_model.transform(test_data)\n",
    "\n",
    "from sklearn.metrics import classification_report\n",
    "\n",
    "preds_df = predictions.select(F.explode(F.arrays_zip('token.result','label.result','ner.result')).alias(\"cols\")) \\\n",
    ".select(F.expr(\"cols['0']\").alias(\"token\"),\n",
    "        F.expr(\"cols['1']\").alias(\"ground_truth\"),\n",
    "        F.expr(\"cols['2']\").alias(\"prediction\")).toPandas()\n",
    "\n",
    "print (classification_report(preds_df['ground_truth'], preds_df['prediction'], digits=4))\n"
   ]
  },
  {
   "cell_type": "markdown",
   "metadata": {
    "application/vnd.databricks.v1+cell": {
     "inputWidgets": {},
     "nuid": "a2f2b63d-6d80-4cb6-88a7-bbec27269eaf",
     "showTitle": false,
     "title": ""
    }
   },
   "source": [
    "### Ner log parser"
   ]
  },
  {
   "cell_type": "code",
   "execution_count": 0,
   "metadata": {
    "application/vnd.databricks.v1+cell": {
     "inputWidgets": {},
     "nuid": "98e20474-306f-4a84-9245-6b653345ca95",
     "showTitle": false,
     "title": ""
    }
   },
   "outputs": [
    {
     "data": {
      "text/html": [
       "<style scoped>\n",
       "  .ansiout {\n",
       "    display: block;\n",
       "    unicode-bidi: embed;\n",
       "    white-space: pre-wrap;\n",
       "    word-wrap: break-word;\n",
       "    word-break: break-all;\n",
       "    font-family: \"Source Code Pro\", \"Menlo\", monospace;;\n",
       "    font-size: 13px;\n",
       "    color: #555;\n",
       "    margin-left: 4px;\n",
       "    line-height: 19px;\n",
       "  }\n",
       "</style>\n",
       "<div class=\"ansiout\"></div>"
      ]
     },
     "metadata": {
      "application/vnd.databricks.v1+output": {
       "addedWidgets": {},
       "arguments": {},
       "data": "<div class=\"ansiout\"></div>",
       "datasetInfos": [],
       "removedWidgets": [],
       "type": "html"
      }
     },
     "output_type": "display_data"
    }
   ],
   "source": [
    "!wget -q https://raw.githubusercontent.com/JohnSnowLabs/spark-nlp-workshop/master/tutorials/Certification_Trainings/Public/utils/ner_log_parser.py\n",
    "  \n",
    "sys.path.append('/databricks/driver/ner_log_parser.py')"
   ]
  },
  {
   "cell_type": "code",
   "execution_count": 0,
   "metadata": {
    "application/vnd.databricks.v1+cell": {
     "inputWidgets": {},
     "nuid": "8cbf8d0b-6e59-4939-9325-0953e36eb645",
     "showTitle": false,
     "title": ""
    }
   },
   "outputs": [
    {
     "data": {
      "text/html": [
       "<style scoped>\n",
       "  .ansiout {\n",
       "    display: block;\n",
       "    unicode-bidi: embed;\n",
       "    white-space: pre-wrap;\n",
       "    word-wrap: break-word;\n",
       "    word-break: break-all;\n",
       "    font-family: \"Source Code Pro\", \"Menlo\", monospace;;\n",
       "    font-size: 13px;\n",
       "    color: #555;\n",
       "    margin-left: 4px;\n",
       "    line-height: 19px;\n",
       "  }\n",
       "</style>\n",
       "<div class=\"ansiout\"></div>"
      ]
     },
     "metadata": {
      "application/vnd.databricks.v1+output": {
       "addedWidgets": {},
       "arguments": {},
       "data": "<div class=\"ansiout\"></div>",
       "datasetInfos": [],
       "removedWidgets": [],
       "type": "html"
      }
     },
     "output_type": "display_data"
    }
   ],
   "source": [
    "import ner_log_parser"
   ]
  },
  {
   "cell_type": "code",
   "execution_count": 0,
   "metadata": {
    "application/vnd.databricks.v1+cell": {
     "inputWidgets": {},
     "nuid": "3ac6be7e-58e2-4d30-a045-41ef91d70be8",
     "showTitle": false,
     "title": ""
    }
   },
   "outputs": [
    {
     "data": {
      "text/html": [
       "<style scoped>\n",
       "  .ansiout {\n",
       "    display: block;\n",
       "    unicode-bidi: embed;\n",
       "    white-space: pre-wrap;\n",
       "    word-wrap: break-word;\n",
       "    word-break: break-all;\n",
       "    font-family: \"Source Code Pro\", \"Menlo\", monospace;;\n",
       "    font-size: 13px;\n",
       "    color: #555;\n",
       "    margin-left: 4px;\n",
       "    line-height: 19px;\n",
       "  }\n",
       "</style>\n",
       "<div class=\"ansiout\"></div>"
      ]
     },
     "metadata": {
      "application/vnd.databricks.v1+output": {
       "addedWidgets": {},
       "arguments": {},
       "data": "<div class=\"ansiout\"></div>",
       "datasetInfos": [],
       "removedWidgets": [],
       "type": "html"
      }
     },
     "output_type": "display_data"
    }
   ],
   "source": [
    "%matplotlib inline"
   ]
  },
  {
   "cell_type": "code",
   "execution_count": 0,
   "metadata": {
    "application/vnd.databricks.v1+cell": {
     "inputWidgets": {},
     "nuid": "9ae606b5-0ee7-4640-8f85-6ed73dd63d25",
     "showTitle": false,
     "title": ""
    }
   },
   "outputs": [
    {
     "data": {
      "image/png": "[encoded data removed]"
     },
     "metadata": {
      "application/vnd.databricks.v1+output": {
       "addedWidgets": {},
       "arguments": {},
       "data": "/plots/846b1afc-0fcc-4d7d-abaf-4b77ab818d93.png",
       "datasetInfos": [],
       "removedWidgets": [],
       "type": "image"
      }
     },
     "output_type": "display_data"
    },
    {
     "data": {
      "image/png": "[encoded data removed]"
     },
     "metadata": {
      "application/vnd.databricks.v1+output": {
       "addedWidgets": {},
       "arguments": {},
       "data": "/plots/da31a931-69fb-487f-a432-039977455830.png",
       "datasetInfos": [],
       "removedWidgets": [],
       "type": "image"
      }
     },
     "output_type": "display_data"
    }
   ],
   "source": [
    "ner_log_parser.get_charts('/databricks/driver/ner_logs/NerDLApproach_e1bf8a5c27ab.log')"
   ]
  },
  {
   "cell_type": "markdown",
   "metadata": {
    "application/vnd.databricks.v1+cell": {
     "inputWidgets": {},
     "nuid": "10b55d7a-f863-4d84-b950-fe4ea1c6f1f8",
     "showTitle": false,
     "title": ""
    }
   },
   "source": [
    "### Saving the trained model"
   ]
  },
  {
   "cell_type": "code",
   "execution_count": 0,
   "metadata": {
    "application/vnd.databricks.v1+cell": {
     "inputWidgets": {},
     "nuid": "19ada31b-7ecd-4a65-a5e9-e464af1798f8",
     "showTitle": false,
     "title": ""
    }
   },
   "outputs": [
    {
     "data": {
      "text/html": [
       "<style scoped>\n",
       "  .ansiout {\n",
       "    display: block;\n",
       "    unicode-bidi: embed;\n",
       "    white-space: pre-wrap;\n",
       "    word-wrap: break-word;\n",
       "    word-break: break-all;\n",
       "    font-family: \"Source Code Pro\", \"Menlo\", monospace;;\n",
       "    font-size: 13px;\n",
       "    color: #555;\n",
       "    margin-left: 4px;\n",
       "    line-height: 19px;\n",
       "  }\n",
       "</style>\n",
       "<div class=\"ansiout\">Out[40]: [WORD_EMBEDDINGS_MODEL_48cffc8b9a76, NerDLModel_15b0c74b8e13]</div>"
      ]
     },
     "metadata": {
      "application/vnd.databricks.v1+output": {
       "addedWidgets": {},
       "arguments": {},
       "data": "<div class=\"ansiout\">Out[40]: [WORD_EMBEDDINGS_MODEL_48cffc8b9a76, NerDLModel_15b0c74b8e13]</div>",
       "datasetInfos": [],
       "removedWidgets": [],
       "type": "html"
      }
     },
     "output_type": "display_data"
    }
   ],
   "source": [
    "ner_model.stages"
   ]
  },
  {
   "cell_type": "code",
   "execution_count": 0,
   "metadata": {
    "application/vnd.databricks.v1+cell": {
     "inputWidgets": {},
     "nuid": "b013f7df-cb94-4014-910f-dd9166697123",
     "showTitle": false,
     "title": ""
    }
   },
   "outputs": [
    {
     "data": {
      "text/html": [
       "<style scoped>\n",
       "  .ansiout {\n",
       "    display: block;\n",
       "    unicode-bidi: embed;\n",
       "    white-space: pre-wrap;\n",
       "    word-wrap: break-word;\n",
       "    word-break: break-all;\n",
       "    font-family: \"Source Code Pro\", \"Menlo\", monospace;;\n",
       "    font-size: 13px;\n",
       "    color: #555;\n",
       "    margin-left: 4px;\n",
       "    line-height: 19px;\n",
       "  }\n",
       "</style>\n",
       "<div class=\"ansiout\">total 4068\n",
       "drwxr-xr-x 1 root root    4096 Apr 21 19:20 .\n",
       "drwxr-xr-x 1 root root    4096 Apr 21 18:27 ..\n",
       "drwxr-xr-x 2 root root    4096 Apr 21 19:20 __pycache__\n",
       "drwxr-xr-x 2 root root    4096 Jan  1  1970 conf\n",
       "-rw-r--r-- 1 root root    7431 Apr 21 19:00 conll_eval.py\n",
       "-rw-r--r-- 1 root root  827443 Apr 21 18:30 eng.testa\n",
       "-rw-r--r-- 1 root root 3283420 Apr 21 18:30 eng.train\n",
       "drwxr-xr-x 3 root root    4096 Apr 21 18:27 eventlogs\n",
       "drwxr-xr-x 2 root root    4096 Apr 21 19:15 ganglia\n",
       "drwxr-xr-x 2 root root    4096 Apr 21 19:01 logs\n",
       "-rw-r--r-- 1 root root    3311 Apr 21 19:20 ner_log_parser.py\n",
       "drwxr-xr-x 2 root root    4096 Apr 21 19:03 ner_logs\n",
       "</div>"
      ]
     },
     "metadata": {
      "application/vnd.databricks.v1+output": {
       "addedWidgets": {},
       "arguments": {},
       "data": "<div class=\"ansiout\">total 4068\ndrwxr-xr-x 1 root root    4096 Apr 21 19:20 .\ndrwxr-xr-x 1 root root    4096 Apr 21 18:27 ..\ndrwxr-xr-x 2 root root    4096 Apr 21 19:20 __pycache__\ndrwxr-xr-x 2 root root    4096 Jan  1  1970 conf\n-rw-r--r-- 1 root root    7431 Apr 21 19:00 conll_eval.py\n-rw-r--r-- 1 root root  827443 Apr 21 18:30 eng.testa\n-rw-r--r-- 1 root root 3283420 Apr 21 18:30 eng.train\ndrwxr-xr-x 3 root root    4096 Apr 21 18:27 eventlogs\ndrwxr-xr-x 2 root root    4096 Apr 21 19:15 ganglia\ndrwxr-xr-x 2 root root    4096 Apr 21 19:01 logs\n-rw-r--r-- 1 root root    3311 Apr 21 19:20 ner_log_parser.py\ndrwxr-xr-x 2 root root    4096 Apr 21 19:03 ner_logs\n</div>",
       "datasetInfos": [],
       "removedWidgets": [],
       "type": "html"
      }
     },
     "output_type": "display_data"
    }
   ],
   "source": [
    "%sh cd /databricks/driver/ && ls -la"
   ]
  },
  {
   "cell_type": "code",
   "execution_count": 0,
   "metadata": {
    "application/vnd.databricks.v1+cell": {
     "inputWidgets": {},
     "nuid": "948ce1c9-09f7-4f80-a836-ce15982b71a7",
     "showTitle": false,
     "title": ""
    }
   },
   "outputs": [
    {
     "data": {
      "text/html": [
       "<style scoped>\n",
       "  .ansiout {\n",
       "    display: block;\n",
       "    unicode-bidi: embed;\n",
       "    white-space: pre-wrap;\n",
       "    word-wrap: break-word;\n",
       "    word-break: break-all;\n",
       "    font-family: \"Source Code Pro\", \"Menlo\", monospace;;\n",
       "    font-size: 13px;\n",
       "    color: #555;\n",
       "    margin-left: 4px;\n",
       "    line-height: 19px;\n",
       "  }\n",
       "</style>\n",
       "<div class=\"ansiout\"></div>"
      ]
     },
     "metadata": {
      "application/vnd.databricks.v1+output": {
       "addedWidgets": {},
       "arguments": {},
       "data": "<div class=\"ansiout\"></div>",
       "datasetInfos": [],
       "removedWidgets": [],
       "type": "html"
      }
     },
     "output_type": "display_data"
    }
   ],
   "source": [
    "ner_model.stages[1].write().overwrite().save('/databricks/driver/models/NerDLModel_3010')"
   ]
  },
  {
   "cell_type": "code",
   "execution_count": 0,
   "metadata": {
    "application/vnd.databricks.v1+cell": {
     "inputWidgets": {},
     "nuid": "cb6d9036-30d3-4ca9-b171-30a7cda84538",
     "showTitle": false,
     "title": ""
    }
   },
   "outputs": [
    {
     "data": {
      "text/html": [
       "<style scoped>\n",
       "  .table-result-container {\n",
       "    max-height: 300px;\n",
       "    overflow: auto;\n",
       "  }\n",
       "  table, th, td {\n",
       "    border: 1px solid black;\n",
       "    border-collapse: collapse;\n",
       "  }\n",
       "  th, td {\n",
       "    padding: 5px;\n",
       "  }\n",
       "  th {\n",
       "    text-align: left;\n",
       "  }\n",
       "</style><div class='table-result-container'><table class='table-result'><thead style='background-color: white'><tr><th>path</th><th>name</th><th>size</th></tr></thead><tbody><tr><td>dbfs:/databricks/driver/models/ClassifierDL_USE_20200211_e5/</td><td>ClassifierDL_USE_20200211_e5/</td><td>0</td></tr><tr><td>dbfs:/databricks/driver/models/ClassifierDL_USE_20203010_e5/</td><td>ClassifierDL_USE_20203010_e5/</td><td>0</td></tr><tr><td>dbfs:/databricks/driver/models/ClassifierDL_wordemb_g100d/</td><td>ClassifierDL_wordemb_g100d/</td><td>0</td></tr><tr><td>dbfs:/databricks/driver/models/NER_glove_20200924_e1_b32/</td><td>NER_glove_20200924_e1_b32/</td><td>0</td></tr><tr><td>dbfs:/databricks/driver/models/NerDLModel_3010/</td><td>NerDLModel_3010/</td><td>0</td></tr><tr><td>dbfs:/databricks/driver/models/assertion_model_0804/</td><td>assertion_model_0804/</td><td>0</td></tr><tr><td>dbfs:/databricks/driver/models/bert_sent/</td><td>bert_sent/</td><td>0</td></tr><tr><td>dbfs:/databricks/driver/models/biobertresolve_snomed_askapatient/</td><td>biobertresolve_snomed_askapatient/</td><td>0</td></tr><tr><td>dbfs:/databricks/driver/models/chunkresolve_snomed_askapatient_hc_100d/</td><td>chunkresolve_snomed_askapatient_hc_100d/</td><td>0</td></tr><tr><td>dbfs:/databricks/driver/models/custom_NER_3epoch/</td><td>custom_NER_3epoch/</td><td>0</td></tr><tr><td>dbfs:/databricks/driver/models/custom_RE_model/</td><td>custom_RE_model/</td><td>0</td></tr><tr><td>dbfs:/databricks/driver/models/small_bert/</td><td>small_bert/</td><td>0</td></tr><tr><td>dbfs:/databricks/driver/models/use_clf/</td><td>use_clf/</td><td>0</td></tr></tbody></table></div>"
      ]
     },
     "metadata": {
      "application/vnd.databricks.v1+output": {
       "addedWidgets": {},
       "aggData": [],
       "aggError": "",
       "aggOverflow": false,
       "aggSchema": [],
       "aggSeriesLimitReached": false,
       "aggType": "",
       "arguments": {},
       "columnCustomDisplayInfos": {},
       "data": [
        [
         "dbfs:/databricks/driver/models/ClassifierDL_USE_20200211_e5/",
         "ClassifierDL_USE_20200211_e5/",
         0
        ],
        [
         "dbfs:/databricks/driver/models/ClassifierDL_USE_20203010_e5/",
         "ClassifierDL_USE_20203010_e5/",
         0
        ],
        [
         "dbfs:/databricks/driver/models/ClassifierDL_wordemb_g100d/",
         "ClassifierDL_wordemb_g100d/",
         0
        ],
        [
         "dbfs:/databricks/driver/models/NER_glove_20200924_e1_b32/",
         "NER_glove_20200924_e1_b32/",
         0
        ],
        [
         "dbfs:/databricks/driver/models/NerDLModel_3010/",
         "NerDLModel_3010/",
         0
        ],
        [
         "dbfs:/databricks/driver/models/assertion_model_0804/",
         "assertion_model_0804/",
         0
        ],
        [
         "dbfs:/databricks/driver/models/bert_sent/",
         "bert_sent/",
         0
        ],
        [
         "dbfs:/databricks/driver/models/biobertresolve_snomed_askapatient/",
         "biobertresolve_snomed_askapatient/",
         0
        ],
        [
         "dbfs:/databricks/driver/models/chunkresolve_snomed_askapatient_hc_100d/",
         "chunkresolve_snomed_askapatient_hc_100d/",
         0
        ],
        [
         "dbfs:/databricks/driver/models/custom_NER_3epoch/",
         "custom_NER_3epoch/",
         0
        ],
        [
         "dbfs:/databricks/driver/models/custom_RE_model/",
         "custom_RE_model/",
         0
        ],
        [
         "dbfs:/databricks/driver/models/small_bert/",
         "small_bert/",
         0
        ],
        [
         "dbfs:/databricks/driver/models/use_clf/",
         "use_clf/",
         0
        ]
       ],
       "datasetInfos": [],
       "dbfsResultPath": null,
       "isJsonSchema": true,
       "overflow": false,
       "plotOptions": {
        "customPlotOptions": {},
        "displayType": "table",
        "pivotAggregation": null,
        "pivotColumns": null,
        "xColumns": null,
        "yColumns": null
       },
       "removedWidgets": [],
       "schema": [
        {
         "metadata": "{}",
         "name": "path",
         "type": "\"string\""
        },
        {
         "metadata": "{}",
         "name": "name",
         "type": "\"string\""
        },
        {
         "metadata": "{}",
         "name": "size",
         "type": "\"long\""
        }
       ],
       "type": "table"
      }
     },
     "output_type": "display_data"
    }
   ],
   "source": [
    "%fs ls /databricks/driver/models"
   ]
  },
  {
   "cell_type": "markdown",
   "metadata": {
    "application/vnd.databricks.v1+cell": {
     "inputWidgets": {},
     "nuid": "6f426efb-42f4-4c00-af28-f7d537ad24d2",
     "showTitle": false,
     "title": ""
    }
   },
   "source": [
    "## Prediction Pipeline"
   ]
  },
  {
   "cell_type": "code",
   "execution_count": 0,
   "metadata": {
    "application/vnd.databricks.v1+cell": {
     "inputWidgets": {},
     "nuid": "acfbbdc3-aed8-43d1-936c-309e50cef7be",
     "showTitle": false,
     "title": ""
    }
   },
   "outputs": [
    {
     "data": {
      "text/html": [
       "<style scoped>\n",
       "  .ansiout {\n",
       "    display: block;\n",
       "    unicode-bidi: embed;\n",
       "    white-space: pre-wrap;\n",
       "    word-wrap: break-word;\n",
       "    word-break: break-all;\n",
       "    font-family: \"Source Code Pro\", \"Menlo\", monospace;;\n",
       "    font-size: 13px;\n",
       "    color: #555;\n",
       "    margin-left: 4px;\n",
       "    line-height: 19px;\n",
       "  }\n",
       "</style>\n",
       "<div class=\"ansiout\">glove_100d download started this may take some time.\n",
       "Approximate size to download 145.3 MB\n",
       "\r",
       "[ | ]\r",
       "[OK!]\n",
       "</div>"
      ]
     },
     "metadata": {
      "application/vnd.databricks.v1+output": {
       "addedWidgets": {},
       "arguments": {},
       "data": "<div class=\"ansiout\">glove_100d download started this may take some time.\nApproximate size to download 145.3 MB\n\r[ | ]\r[OK!]\n</div>",
       "datasetInfos": [],
       "removedWidgets": [],
       "type": "html"
      }
     },
     "output_type": "display_data"
    }
   ],
   "source": [
    "document = DocumentAssembler()\\\n",
    "    .setInputCol(\"text\")\\\n",
    "    .setOutputCol(\"document\")\n",
    "\n",
    "sentence = SentenceDetector()\\\n",
    "    .setInputCols(['document'])\\\n",
    "    .setOutputCol('sentence')\n",
    "\n",
    "token = Tokenizer()\\\n",
    "    .setInputCols(['sentence'])\\\n",
    "    .setOutputCol('token')\n",
    "\n",
    "glove_embeddings = WordEmbeddingsModel.pretrained('glove_100d')\\\n",
    "    .setInputCols([\"document\", \"token\"])\\\n",
    "    .setOutputCol(\"embeddings\")\n",
    "    \n",
    "loaded_ner_model = NerDLModel.load(\"/databricks/driver/models/NerDLModel_3010\")\\\n",
    "     .setInputCols([\"sentence\", \"token\", \"embeddings\"])\\\n",
    "     .setOutputCol(\"ner\")\n",
    "\n",
    "converter = NerConverter()\\\n",
    "      .setInputCols([\"document\", \"token\", \"ner\"])\\\n",
    "      .setOutputCol(\"ner_span\")\n",
    "\n",
    "ner_prediction_pipeline = Pipeline(\n",
    "    stages = [\n",
    "        document,\n",
    "        sentence,\n",
    "        token,\n",
    "        glove_embeddings,\n",
    "        loaded_ner_model,\n",
    "        converter])"
   ]
  },
  {
   "cell_type": "code",
   "execution_count": 0,
   "metadata": {
    "application/vnd.databricks.v1+cell": {
     "inputWidgets": {},
     "nuid": "84b5fe83-935e-4242-a6c7-5e5e0599d46d",
     "showTitle": false,
     "title": ""
    }
   },
   "outputs": [
    {
     "data": {
      "text/html": [
       "<style scoped>\n",
       "  .ansiout {\n",
       "    display: block;\n",
       "    unicode-bidi: embed;\n",
       "    white-space: pre-wrap;\n",
       "    word-wrap: break-word;\n",
       "    word-break: break-all;\n",
       "    font-family: \"Source Code Pro\", \"Menlo\", monospace;;\n",
       "    font-size: 13px;\n",
       "    color: #555;\n",
       "    margin-left: 4px;\n",
       "    line-height: 19px;\n",
       "  }\n",
       "</style>\n",
       "<div class=\"ansiout\"></div>"
      ]
     },
     "metadata": {
      "application/vnd.databricks.v1+output": {
       "addedWidgets": {},
       "arguments": {},
       "data": "<div class=\"ansiout\"></div>",
       "datasetInfos": [],
       "removedWidgets": [],
       "type": "html"
      }
     },
     "output_type": "display_data"
    }
   ],
   "source": [
    "empty_data = spark.createDataFrame([['']]).toDF(\"text\")\n",
    "\n",
    "prediction_model = ner_prediction_pipeline.fit(empty_data)\n"
   ]
  },
  {
   "cell_type": "code",
   "execution_count": 0,
   "metadata": {
    "application/vnd.databricks.v1+cell": {
     "inputWidgets": {},
     "nuid": "ec4f929f-2979-4902-90a9-235986bb8da5",
     "showTitle": false,
     "title": ""
    }
   },
   "outputs": [
    {
     "data": {
      "text/html": [
       "<style scoped>\n",
       "  .ansiout {\n",
       "    display: block;\n",
       "    unicode-bidi: embed;\n",
       "    white-space: pre-wrap;\n",
       "    word-wrap: break-word;\n",
       "    word-break: break-all;\n",
       "    font-family: \"Source Code Pro\", \"Menlo\", monospace;;\n",
       "    font-size: 13px;\n",
       "    color: #555;\n",
       "    margin-left: 4px;\n",
       "    line-height: 19px;\n",
       "  }\n",
       "</style>\n",
       "<div class=\"ansiout\">+-------------------------------------------------+\n",
       "text                                             |\n",
       "+-------------------------------------------------+\n",
       "Peter Parker is a nice guy and lives in New York.|\n",
       "+-------------------------------------------------+\n",
       "\n",
       "</div>"
      ]
     },
     "metadata": {
      "application/vnd.databricks.v1+output": {
       "addedWidgets": {},
       "arguments": {},
       "data": "<div class=\"ansiout\">+-------------------------------------------------+\n|text                                             |\n+-------------------------------------------------+\n|Peter Parker is a nice guy and lives in New York.|\n+-------------------------------------------------+\n\n</div>",
       "datasetInfos": [],
       "removedWidgets": [],
       "type": "html"
      }
     },
     "output_type": "display_data"
    }
   ],
   "source": [
    "text = \"Peter Parker is a nice guy and lives in New York.\"\n",
    "\n",
    "sample_data = spark.createDataFrame([[text]]).toDF(\"text\")\n",
    "\n",
    "sample_data.show(truncate=False)"
   ]
  },
  {
   "cell_type": "code",
   "execution_count": 0,
   "metadata": {
    "application/vnd.databricks.v1+cell": {
     "inputWidgets": {},
     "nuid": "14fb6809-bcf4-4695-9cf7-be5e912e93da",
     "showTitle": false,
     "title": ""
    }
   },
   "outputs": [
    {
     "data": {
      "text/html": [
       "<style scoped>\n",
       "  .ansiout {\n",
       "    display: block;\n",
       "    unicode-bidi: embed;\n",
       "    white-space: pre-wrap;\n",
       "    word-wrap: break-word;\n",
       "    word-break: break-all;\n",
       "    font-family: \"Source Code Pro\", \"Menlo\", monospace;;\n",
       "    font-size: 13px;\n",
       "    color: #555;\n",
       "    margin-left: 4px;\n",
       "    line-height: 19px;\n",
       "  }\n",
       "</style>\n",
       "<div class=\"ansiout\">+------------+------+\n",
       "chunk       |entity|\n",
       "+------------+------+\n",
       "Peter Parker|PER   |\n",
       "New York    |LOC   |\n",
       "+------------+------+\n",
       "\n",
       "</div>"
      ]
     },
     "metadata": {
      "application/vnd.databricks.v1+output": {
       "addedWidgets": {},
       "arguments": {},
       "data": "<div class=\"ansiout\">+------------+------+\n|chunk       |entity|\n+------------+------+\n|Peter Parker|PER   |\n|New York    |LOC   |\n+------------+------+\n\n</div>",
       "datasetInfos": [],
       "removedWidgets": [],
       "type": "html"
      }
     },
     "output_type": "display_data"
    }
   ],
   "source": [
    "preds = prediction_model.transform(sample_data)\n",
    "\n",
    "preds.select(F.explode(F.arrays_zip(\"ner_span.result\",\"ner_span.metadata\")).alias(\"entities\")) \\\n",
    ".select(F.expr(\"entities['0']\").alias(\"chunk\"),\n",
    "        F.expr(\"entities['1'].entity\").alias(\"entity\")).show(truncate=False)"
   ]
  },
  {
   "cell_type": "code",
   "execution_count": 0,
   "metadata": {
    "application/vnd.databricks.v1+cell": {
     "inputWidgets": {},
     "nuid": "84e7ebde-a25d-4954-822c-722f32cdd95b",
     "showTitle": false,
     "title": ""
    }
   },
   "outputs": [
    {
     "data": {
      "text/html": [
       "<style scoped>\n",
       "  .ansiout {\n",
       "    display: block;\n",
       "    unicode-bidi: embed;\n",
       "    white-space: pre-wrap;\n",
       "    word-wrap: break-word;\n",
       "    word-break: break-all;\n",
       "    font-family: \"Source Code Pro\", \"Menlo\", monospace;;\n",
       "    font-size: 13px;\n",
       "    color: #555;\n",
       "    margin-left: 4px;\n",
       "    line-height: 19px;\n",
       "  }\n",
       "</style>\n",
       "<div class=\"ansiout\"></div>"
      ]
     },
     "metadata": {
      "application/vnd.databricks.v1+output": {
       "addedWidgets": {},
       "arguments": {},
       "data": "<div class=\"ansiout\"></div>",
       "datasetInfos": [],
       "removedWidgets": [],
       "type": "html"
      }
     },
     "output_type": "display_data"
    }
   ],
   "source": [
    "from sparknlp.base import LightPipeline\n",
    "\n",
    "light_model = LightPipeline(prediction_model)"
   ]
  },
  {
   "cell_type": "code",
   "execution_count": 0,
   "metadata": {
    "application/vnd.databricks.v1+cell": {
     "inputWidgets": {},
     "nuid": "cf18e901-ffbb-46c1-bb10-6d90ca9bff39",
     "showTitle": false,
     "title": ""
    }
   },
   "outputs": [
    {
     "data": {
      "text/html": [
       "<style scoped>\n",
       "  .ansiout {\n",
       "    display: block;\n",
       "    unicode-bidi: embed;\n",
       "    white-space: pre-wrap;\n",
       "    word-wrap: break-word;\n",
       "    word-break: break-all;\n",
       "    font-family: \"Source Code Pro\", \"Menlo\", monospace;;\n",
       "    font-size: 13px;\n",
       "    color: #555;\n",
       "    margin-left: 4px;\n",
       "    line-height: 19px;\n",
       "  }\n",
       "</style>\n",
       "<div class=\"ansiout\">Out[65]: [(&#39;Peter&#39;, &#39;B-PER&#39;),\n",
       " (&#39;Parker&#39;, &#39;I-PER&#39;),\n",
       " (&#39;is&#39;, &#39;O&#39;),\n",
       " (&#39;a&#39;, &#39;O&#39;),\n",
       " (&#39;nice&#39;, &#39;O&#39;),\n",
       " (&#39;guy&#39;, &#39;O&#39;),\n",
       " (&#39;and&#39;, &#39;O&#39;),\n",
       " (&#39;lives&#39;, &#39;O&#39;),\n",
       " (&#39;in&#39;, &#39;O&#39;),\n",
       " (&#39;New&#39;, &#39;B-LOC&#39;),\n",
       " (&#39;York&#39;, &#39;I-LOC&#39;),\n",
       " (&#39;.&#39;, &#39;O&#39;)]</div>"
      ]
     },
     "metadata": {
      "application/vnd.databricks.v1+output": {
       "addedWidgets": {},
       "arguments": {},
       "data": "<div class=\"ansiout\">Out[65]: [(&#39;Peter&#39;, &#39;B-PER&#39;),\n (&#39;Parker&#39;, &#39;I-PER&#39;),\n (&#39;is&#39;, &#39;O&#39;),\n (&#39;a&#39;, &#39;O&#39;),\n (&#39;nice&#39;, &#39;O&#39;),\n (&#39;guy&#39;, &#39;O&#39;),\n (&#39;and&#39;, &#39;O&#39;),\n (&#39;lives&#39;, &#39;O&#39;),\n (&#39;in&#39;, &#39;O&#39;),\n (&#39;New&#39;, &#39;B-LOC&#39;),\n (&#39;York&#39;, &#39;I-LOC&#39;),\n (&#39;.&#39;, &#39;O&#39;)]</div>",
       "datasetInfos": [],
       "removedWidgets": [],
       "type": "html"
      }
     },
     "output_type": "display_data"
    }
   ],
   "source": [
    "text = \"Peter Parker is a nice guy and lives in New York.\"\n",
    "\n",
    "result = light_model.annotate(text)\n",
    "\n",
    "list(zip(result['token'], result['ner']))"
   ]
  },
  {
   "cell_type": "code",
   "execution_count": 0,
   "metadata": {
    "application/vnd.databricks.v1+cell": {
     "inputWidgets": {},
     "nuid": "0df1c1ea-ba5b-41b8-835c-b24ca0c3e9ed",
     "showTitle": false,
     "title": ""
    }
   },
   "outputs": [
    {
     "data": {
      "text/html": [
       "<style scoped>\n",
       "  .ansiout {\n",
       "    display: block;\n",
       "    unicode-bidi: embed;\n",
       "    white-space: pre-wrap;\n",
       "    word-wrap: break-word;\n",
       "    word-break: break-all;\n",
       "    font-family: \"Source Code Pro\", \"Menlo\", monospace;;\n",
       "    font-size: 13px;\n",
       "    color: #555;\n",
       "    margin-left: 4px;\n",
       "    line-height: 19px;\n",
       "  }\n",
       "</style>\n",
       "<div class=\"ansiout\">Out[66]: </div>"
      ]
     },
     "metadata": {
      "application/vnd.databricks.v1+output": {
       "addedWidgets": {},
       "arguments": {},
       "data": "<div class=\"ansiout\">Out[66]: </div>",
       "datasetInfos": [],
       "removedWidgets": [],
       "type": "html"
      }
     },
     "output_type": "display_data"
    },
    {
     "data": {
      "text/html": [
       "<div>\n",
       "<style scoped>\n",
       "    .dataframe tbody tr th:only-of-type {\n",
       "        vertical-align: middle;\n",
       "    }\n",
       "\n",
       "    .dataframe tbody tr th {\n",
       "        vertical-align: top;\n",
       "    }\n",
       "\n",
       "    .dataframe thead th {\n",
       "        text-align: right;\n",
       "    }\n",
       "</style>\n",
       "<table border=\"1\" class=\"dataframe\">\n",
       "  <thead>\n",
       "    <tr style=\"text-align: right;\">\n",
       "      <th></th>\n",
       "      <th>sent_id</th>\n",
       "      <th>token</th>\n",
       "      <th>start</th>\n",
       "      <th>end</th>\n",
       "      <th>ner</th>\n",
       "    </tr>\n",
       "  </thead>\n",
       "  <tbody>\n",
       "    <tr>\n",
       "      <th>0</th>\n",
       "      <td>0</td>\n",
       "      <td>Peter</td>\n",
       "      <td>0</td>\n",
       "      <td>4</td>\n",
       "      <td>B-PER</td>\n",
       "    </tr>\n",
       "    <tr>\n",
       "      <th>1</th>\n",
       "      <td>0</td>\n",
       "      <td>Parker</td>\n",
       "      <td>6</td>\n",
       "      <td>11</td>\n",
       "      <td>I-PER</td>\n",
       "    </tr>\n",
       "    <tr>\n",
       "      <th>2</th>\n",
       "      <td>0</td>\n",
       "      <td>is</td>\n",
       "      <td>13</td>\n",
       "      <td>14</td>\n",
       "      <td>O</td>\n",
       "    </tr>\n",
       "    <tr>\n",
       "      <th>3</th>\n",
       "      <td>0</td>\n",
       "      <td>a</td>\n",
       "      <td>16</td>\n",
       "      <td>16</td>\n",
       "      <td>O</td>\n",
       "    </tr>\n",
       "    <tr>\n",
       "      <th>4</th>\n",
       "      <td>0</td>\n",
       "      <td>nice</td>\n",
       "      <td>18</td>\n",
       "      <td>21</td>\n",
       "      <td>O</td>\n",
       "    </tr>\n",
       "    <tr>\n",
       "      <th>5</th>\n",
       "      <td>0</td>\n",
       "      <td>guy</td>\n",
       "      <td>23</td>\n",
       "      <td>25</td>\n",
       "      <td>O</td>\n",
       "    </tr>\n",
       "    <tr>\n",
       "      <th>6</th>\n",
       "      <td>0</td>\n",
       "      <td>and</td>\n",
       "      <td>27</td>\n",
       "      <td>29</td>\n",
       "      <td>O</td>\n",
       "    </tr>\n",
       "    <tr>\n",
       "      <th>7</th>\n",
       "      <td>0</td>\n",
       "      <td>lives</td>\n",
       "      <td>31</td>\n",
       "      <td>35</td>\n",
       "      <td>O</td>\n",
       "    </tr>\n",
       "    <tr>\n",
       "      <th>8</th>\n",
       "      <td>0</td>\n",
       "      <td>in</td>\n",
       "      <td>37</td>\n",
       "      <td>38</td>\n",
       "      <td>O</td>\n",
       "    </tr>\n",
       "    <tr>\n",
       "      <th>9</th>\n",
       "      <td>0</td>\n",
       "      <td>New</td>\n",
       "      <td>40</td>\n",
       "      <td>42</td>\n",
       "      <td>B-LOC</td>\n",
       "    </tr>\n",
       "    <tr>\n",
       "      <th>10</th>\n",
       "      <td>0</td>\n",
       "      <td>York</td>\n",
       "      <td>44</td>\n",
       "      <td>47</td>\n",
       "      <td>I-LOC</td>\n",
       "    </tr>\n",
       "    <tr>\n",
       "      <th>11</th>\n",
       "      <td>0</td>\n",
       "      <td>.</td>\n",
       "      <td>48</td>\n",
       "      <td>48</td>\n",
       "      <td>O</td>\n",
       "    </tr>\n",
       "  </tbody>\n",
       "</table>\n",
       "</div>"
      ]
     },
     "metadata": {
      "application/vnd.databricks.v1+output": {
       "addedWidgets": {},
       "arguments": {},
       "data": "<div>\n<style scoped>\n    .dataframe tbody tr th:only-of-type {\n        vertical-align: middle;\n    }\n\n    .dataframe tbody tr th {\n        vertical-align: top;\n    }\n\n    .dataframe thead th {\n        text-align: right;\n    }\n</style>\n<table border=\"1\" class=\"dataframe\">\n  <thead>\n    <tr style=\"text-align: right;\">\n      <th></th>\n      <th>sent_id</th>\n      <th>token</th>\n      <th>start</th>\n      <th>end</th>\n      <th>ner</th>\n    </tr>\n  </thead>\n  <tbody>\n    <tr>\n      <th>0</th>\n      <td>0</td>\n      <td>Peter</td>\n      <td>0</td>\n      <td>4</td>\n      <td>B-PER</td>\n    </tr>\n    <tr>\n      <th>1</th>\n      <td>0</td>\n      <td>Parker</td>\n      <td>6</td>\n      <td>11</td>\n      <td>I-PER</td>\n    </tr>\n    <tr>\n      <th>2</th>\n      <td>0</td>\n      <td>is</td>\n      <td>13</td>\n      <td>14</td>\n      <td>O</td>\n    </tr>\n    <tr>\n      <th>3</th>\n      <td>0</td>\n      <td>a</td>\n      <td>16</td>\n      <td>16</td>\n      <td>O</td>\n    </tr>\n    <tr>\n      <th>4</th>\n      <td>0</td>\n      <td>nice</td>\n      <td>18</td>\n      <td>21</td>\n      <td>O</td>\n    </tr>\n    <tr>\n      <th>5</th>\n      <td>0</td>\n      <td>guy</td>\n      <td>23</td>\n      <td>25</td>\n      <td>O</td>\n    </tr>\n    <tr>\n      <th>6</th>\n      <td>0</td>\n      <td>and</td>\n      <td>27</td>\n      <td>29</td>\n      <td>O</td>\n    </tr>\n    <tr>\n      <th>7</th>\n      <td>0</td>\n      <td>lives</td>\n      <td>31</td>\n      <td>35</td>\n      <td>O</td>\n    </tr>\n    <tr>\n      <th>8</th>\n      <td>0</td>\n      <td>in</td>\n      <td>37</td>\n      <td>38</td>\n      <td>O</td>\n    </tr>\n    <tr>\n      <th>9</th>\n      <td>0</td>\n      <td>New</td>\n      <td>40</td>\n      <td>42</td>\n      <td>B-LOC</td>\n    </tr>\n    <tr>\n      <th>10</th>\n      <td>0</td>\n      <td>York</td>\n      <td>44</td>\n      <td>47</td>\n      <td>I-LOC</td>\n    </tr>\n    <tr>\n      <th>11</th>\n      <td>0</td>\n      <td>.</td>\n      <td>48</td>\n      <td>48</td>\n      <td>O</td>\n    </tr>\n  </tbody>\n</table>\n</div>",
       "datasetInfos": [],
       "removedWidgets": [],
       "textData": null,
       "type": "htmlSandbox"
      }
     },
     "output_type": "display_data"
    }
   ],
   "source": [
    "import pandas as pd\n",
    "\n",
    "result = light_model.fullAnnotate(text)\n",
    "\n",
    "ner_df= pd.DataFrame([(int(x.metadata['sentence']), x.result, x.begin, x.end, y.result) for x,y in zip(result[0][\"token\"], result[0][\"ner\"])], \n",
    "                      columns=['sent_id','token','start','end','ner'])\n",
    "ner_df"
   ]
  },
  {
   "cell_type": "markdown",
   "metadata": {
    "application/vnd.databricks.v1+cell": {
     "inputWidgets": {},
     "nuid": "7469bdfa-4749-4f11-aff9-732fea956f43",
     "showTitle": false,
     "title": ""
    }
   },
   "source": [
    "# creating your own CoNLL dataset¶\n",
    "\n",
    "for a detailed overview of how to create a CoNLL file from any annotation, see here >> https://github.com/JohnSnowLabs/spark-nlp-workshop/blob/master/tutorials/Certification_Trainings/Healthcare/1.3.prepare_CoNLL_from_annotations_for_NER.ipynb"
   ]
  },
  {
   "cell_type": "code",
   "execution_count": 0,
   "metadata": {
    "application/vnd.databricks.v1+cell": {
     "inputWidgets": {},
     "nuid": "1f266222-4e4c-4476-9f3f-381e19e76c99",
     "showTitle": false,
     "title": ""
    }
   },
   "outputs": [
    {
     "data": {
      "text/html": [
       "<style scoped>\n",
       "  .ansiout {\n",
       "    display: block;\n",
       "    unicode-bidi: embed;\n",
       "    white-space: pre-wrap;\n",
       "    word-wrap: break-word;\n",
       "    word-break: break-all;\n",
       "    font-family: \"Source Code Pro\", \"Menlo\", monospace;;\n",
       "    font-size: 13px;\n",
       "    color: #555;\n",
       "    margin-left: 4px;\n",
       "    line-height: 19px;\n",
       "  }\n",
       "</style>\n",
       "<div class=\"ansiout\">pos_anc download started this may take some time.\n",
       "Approximate size to download 3.9 MB\n",
       "\r",
       "[ | ]\r",
       "[OK!]\n",
       "glove_100d download started this may take some time.\n",
       "Approximate size to download 145.3 MB\n",
       "\r",
       "[ | ]\r",
       "[OK!]\n",
       "ner_dl download started this may take some time.\n",
       "Approximate size to download 13.6 MB\n",
       "\r",
       "[ | ]\r",
       "[OK!]\n",
       "Spark NLP NER lightpipeline is created\n",
       "</div>"
      ]
     },
     "metadata": {
      "application/vnd.databricks.v1+output": {
       "addedWidgets": {},
       "arguments": {},
       "data": "<div class=\"ansiout\">pos_anc download started this may take some time.\nApproximate size to download 3.9 MB\n\r[ | ]\r[OK!]\nglove_100d download started this may take some time.\nApproximate size to download 145.3 MB\n\r[ | ]\r[OK!]\nner_dl download started this may take some time.\nApproximate size to download 13.6 MB\n\r[ | ]\r[OK!]\nSpark NLP NER lightpipeline is created\n</div>",
       "datasetInfos": [],
       "removedWidgets": [],
       "type": "html"
      }
     },
     "output_type": "display_data"
    }
   ],
   "source": [
    "import json\n",
    "import os\n",
    "from pyspark.ml import Pipeline\n",
    "from sparknlp.base import *\n",
    "from sparknlp.annotator import *\n",
    "import sparknlp\n",
    "\n",
    "spark = sparknlp.start()\n",
    "\n",
    "def get_ann_pipeline ():\n",
    "    \n",
    "    document_assembler = DocumentAssembler() \\\n",
    "        .setInputCol(\"text\")\\\n",
    "        .setOutputCol('document')\n",
    "\n",
    "    tokenizer = Tokenizer() \\\n",
    "        .setInputCols([\"sentence\"]) \\\n",
    "        .setOutputCol(\"token\")\n",
    "\n",
    "    pos = PerceptronModel.pretrained() \\\n",
    "              .setInputCols([\"sentence\", \"token\"]) \\\n",
    "              .setOutputCol(\"pos\")\n",
    "    \n",
    "    embeddings = WordEmbeddingsModel.pretrained()\\\n",
    "          .setInputCols([\"sentence\", \"token\"])\\\n",
    "          .setOutputCol(\"embeddings\")\n",
    "\n",
    "    ner_model = NerDLModel.pretrained() \\\n",
    "          .setInputCols([\"sentence\", \"token\", \"embeddings\"]) \\\n",
    "          .setOutputCol(\"ner\")\n",
    "\n",
    "    ner_converter = NerConverter()\\\n",
    "      .setInputCols([\"sentence\", \"token\", \"ner\"])\\\n",
    "      .setOutputCol(\"ner_chunk\")\n",
    "\n",
    "    ner_pipeline = Pipeline(\n",
    "        stages = [\n",
    "            document_assembler,\n",
    "            sentence,\n",
    "            tokenizer,\n",
    "            pos,\n",
    "            embeddings,\n",
    "            ner_model,\n",
    "            ner_converter\n",
    "        ]\n",
    "    )\n",
    "\n",
    "    empty_data = spark.createDataFrame([[\"\"]]).toDF(\"text\")\n",
    "\n",
    "    ner_pipelineFit = ner_pipeline.fit(empty_data)\n",
    "\n",
    "    ner_lp_pipeline = LightPipeline(ner_pipelineFit)\n",
    "\n",
    "    print (\"Spark NLP NER lightpipeline is created\")\n",
    "\n",
    "    return ner_lp_pipeline\n",
    "\n",
    "\n",
    "conll_pipeline = get_ann_pipeline ()\n",
    "\n"
   ]
  },
  {
   "cell_type": "code",
   "execution_count": 0,
   "metadata": {
    "application/vnd.databricks.v1+cell": {
     "inputWidgets": {},
     "nuid": "0c25a6d7-022b-4465-b070-36b0b071c5a7",
     "showTitle": false,
     "title": ""
    }
   },
   "outputs": [
    {
     "data": {
      "text/html": [
       "<style scoped>\n",
       "  .ansiout {\n",
       "    display: block;\n",
       "    unicode-bidi: embed;\n",
       "    white-space: pre-wrap;\n",
       "    word-wrap: break-word;\n",
       "    word-break: break-all;\n",
       "    font-family: \"Source Code Pro\", \"Menlo\", monospace;;\n",
       "    font-size: 13px;\n",
       "    color: #555;\n",
       "    margin-left: 4px;\n",
       "    line-height: 19px;\n",
       "  }\n",
       "</style>\n",
       "<div class=\"ansiout\">Peter NNP NNP B-PER\n",
       "Parker NNP NNP I-PER\n",
       "is VBZ VBZ O\n",
       "a DT DT O\n",
       "nice JJ JJ O\n",
       "guy NN NN O\n",
       "and CC CC O\n",
       "lives NNS NNS O\n",
       "in IN IN O\n",
       "New NNP NNP B-LOC\n",
       "York NNP NNP I-LOC\n",
       ". . . O\n",
       "\n",
       "He PRP PRP O\n",
       "is VBZ VBZ O\n",
       "also RB RB O\n",
       "helping VBG VBG O\n",
       "people NNS NNS O\n",
       "around IN IN O\n",
       "the DT DT O\n",
       "world NN NN O\n",
       ". . . O\n",
       "\n",
       "\n",
       "</div>"
      ]
     },
     "metadata": {
      "application/vnd.databricks.v1+output": {
       "addedWidgets": {},
       "arguments": {},
       "data": "<div class=\"ansiout\">Peter NNP NNP B-PER\nParker NNP NNP I-PER\nis VBZ VBZ O\na DT DT O\nnice JJ JJ O\nguy NN NN O\nand CC CC O\nlives NNS NNS O\nin IN IN O\nNew NNP NNP B-LOC\nYork NNP NNP I-LOC\n. . . O\n\nHe PRP PRP O\nis VBZ VBZ O\nalso RB RB O\nhelping VBG VBG O\npeople NNS NNS O\naround IN IN O\nthe DT DT O\nworld NN NN O\n. . . O\n\n\n</div>",
       "datasetInfos": [],
       "removedWidgets": [],
       "type": "html"
      }
     },
     "output_type": "display_data"
    }
   ],
   "source": [
    "sentences = [\"Peter Parker is a nice guy and lives in New York.\",\n",
    "\"He is also helping people around the world.\"]\n",
    "\n",
    "conll_lines=''\n",
    "\n",
    "for sentence in sentences:\n",
    "\n",
    "  parsed = conll_pipeline.annotate (sentence)\n",
    "\n",
    "  for token, pos, ner in zip(parsed['token'],parsed['pos'],parsed['ner']):\n",
    "\n",
    "      conll_lines += \"{} {} {} {}\\n\".format(token, pos, pos, ner)\n",
    "\n",
    "  conll_lines += '\\n'\n",
    "\n",
    "\n",
    "print(conll_lines)"
   ]
  },
  {
   "cell_type": "markdown",
   "metadata": {
    "application/vnd.databricks.v1+cell": {
     "inputWidgets": {},
     "nuid": "6597bbe3-8587-425e-bfbc-b58999bc9645",
     "showTitle": false,
     "title": ""
    }
   },
   "source": [
    "# NerDL Graph"
   ]
  },
  {
   "cell_type": "markdown",
   "metadata": {
    "application/vnd.databricks.v1+cell": {
     "inputWidgets": {},
     "nuid": "20805a70-5a32-4983-b8c6-38320637fd38",
     "showTitle": false,
     "title": ""
    }
   },
   "source": [
    "Licensed users would use this module to create graphs for each DL model (`ner_dl`, `generic_classifier`, `assertion_dl`, `relation_extraction`) in Spark NLP but in open source, you need to run the other cell.\n",
    "\n",
    "```\n",
    "%tensorflow_version 1.x\n",
    "\n",
    "from sparknlp_jsl.training import tf_graph\n",
    "\n",
    "tf_graph.build(\"ner_dl\", build_params={\"embeddings_dim\": 200, \"nchars\": 80, \"ntags\": 12}, model_location=\"./\", model_filename=\"auto\")\n",
    "```"
   ]
  },
  {
   "cell_type": "code",
   "execution_count": 0,
   "metadata": {
    "application/vnd.databricks.v1+cell": {
     "inputWidgets": {},
     "nuid": "7990ef93-e2bb-46f0-8a57-11177c14fd1d",
     "showTitle": false,
     "title": ""
    }
   },
   "outputs": [
    {
     "data": {
      "text/html": [
       "<style scoped>\n",
       "  .ansiout {\n",
       "    display: block;\n",
       "    unicode-bidi: embed;\n",
       "    white-space: pre-wrap;\n",
       "    word-wrap: break-word;\n",
       "    word-break: break-all;\n",
       "    font-family: \"Source Code Pro\", \"Menlo\", monospace;;\n",
       "    font-size: 13px;\n",
       "    color: #555;\n",
       "    margin-left: 4px;\n",
       "    line-height: 19px;\n",
       "  }\n",
       "</style>"
      ]
     },
     "metadata": {
      "application/vnd.databricks.v1+output": {
       "arguments": {},
       "data": "",
       "errorSummary": "",
       "type": "ipynbError"
      }
     },
     "output_type": "display_data"
    }
   ],
   "source": [
    "!wget -q https://raw.githubusercontent.com/JohnSnowLabs/spark-nlp-workshop/master/jupyter/training/english/dl-ner/nerdl-graph/create_graph.py\n",
    "!wget -q https://raw.githubusercontent.com/JohnSnowLabs/spark-nlp-workshop/master/jupyter/training/english/dl-ner/nerdl-graph/dataset_encoder.py\n",
    "!wget -q https://raw.githubusercontent.com/JohnSnowLabs/spark-nlp-workshop/master/jupyter/training/english/dl-ner/nerdl-graph/ner_model.py\n",
    "!wget -q https://raw.githubusercontent.com/JohnSnowLabs/spark-nlp-workshop/master/jupyter/training/english/dl-ner/nerdl-graph/ner_model_saver.py\n",
    "!wget -q https://raw.githubusercontent.com/JohnSnowLabs/spark-nlp-workshop/master/jupyter/training/english/dl-ner/nerdl-graph/sentence_grouper.py\n",
    "import sys\n",
    "sys.path.append('/databricks/driver/')\n",
    "sys.path.append('/databricks/driver/create_graph.py')\n",
    "import create_graph\n",
    "ntags = 19 # number of labels\n",
    "embeddings_dim = 100\n",
    "nchars =100\n",
    "create_graph.create_graph(ntags, embeddings_dim, nchars)"
   ]
  },
  {
   "cell_type": "code",
   "execution_count": 0,
   "metadata": {
    "application/vnd.databricks.v1+cell": {
     "inputWidgets": {},
     "nuid": "faeaeee0-263b-4863-880f-a2cd31756031",
     "showTitle": false,
     "title": ""
    }
   },
   "outputs": [
    {
     "data": {
      "text/html": [
       "<style scoped>\n",
       "  .ansiout {\n",
       "    display: block;\n",
       "    unicode-bidi: embed;\n",
       "    white-space: pre-wrap;\n",
       "    word-wrap: break-word;\n",
       "    word-break: break-all;\n",
       "    font-family: \"Source Code Pro\", \"Menlo\", monospace;;\n",
       "    font-size: 13px;\n",
       "    color: #555;\n",
       "    margin-left: 4px;\n",
       "    line-height: 19px;\n",
       "  }\n",
       "</style>\n",
       "<div class=\"ansiout\">total 31444\n",
       "-rw-r--r-- 1 root root  1641858 Nov  9 21:37 blstm_15_105_128_112.pb\n",
       "-rw-r--r-- 1 root root      953 Nov  9 21:37 sentence_grouper.py\n",
       "-rw-r--r-- 1 root root     2484 Nov  9 21:37 ner_model_saver.py\n",
       "-rw-r--r-- 1 root root    21853 Nov  9 21:37 ner_model.py\n",
       "-rw-r--r-- 1 root root     2543 Nov  9 21:37 dataset_encoder.py\n",
       "-rw-r--r-- 1 root root     1545 Nov  9 21:37 create_graph.py\n",
       "drwxr-xr-x 2 root root     4096 Nov  9 21:30 ganglia\n",
       "-rw-r--r-- 1 root root  1641858 Nov  9 21:19 blstm_19_100_128_100.pb\n",
       "drwxr-xr-x 2 root root     4096 Nov  9 21:19 __pycache__\n",
       "drwxr-xr-x 2 root root     4096 Nov  9 21:00 logs\n",
       "-rw-r--r-- 1 root root  1504408 Nov  9 19:05 news_category_test.csv\n",
       "drwxr-xr-x 2 root root     4096 Nov  9 19:02 models\n",
       "drwxr-xr-x 2 root root     4096 Nov  9 18:58 ner_logs\n",
       "-rw-r--r-- 1 root root  3283420 Nov  9 17:28 eng.train\n",
       "-rw-r--r-- 1 root root       27 Nov  9 13:43 financial_entities.txt\n",
       "-rw-r--r-- 1 root root       36 Nov  9 13:43 sport_entities.txt\n",
       "-rw-r--r-- 1 root root 24032125 Nov  9 13:43 news_category_train.csv\n",
       "-rw-r--r-- 1 root root      284 Nov  9 13:34 sample-sentences-en.txt\n",
       "-rw-r--r-- 1 root root      724 Nov  9 09:55 derby.log\n",
       "drwxr-xr-x 3 root root     4096 Nov  9 09:55 eventlogs\n",
       "drwxr-xr-x 2 root root     4096 Jan  1  1970 conf\n",
       "</div>"
      ]
     },
     "metadata": {
      "application/vnd.databricks.v1+output": {
       "addedWidgets": {},
       "arguments": {},
       "data": "<div class=\"ansiout\">total 31444\n-rw-r--r-- 1 root root  1641858 Nov  9 21:37 blstm_15_105_128_112.pb\n-rw-r--r-- 1 root root      953 Nov  9 21:37 sentence_grouper.py\n-rw-r--r-- 1 root root     2484 Nov  9 21:37 ner_model_saver.py\n-rw-r--r-- 1 root root    21853 Nov  9 21:37 ner_model.py\n-rw-r--r-- 1 root root     2543 Nov  9 21:37 dataset_encoder.py\n-rw-r--r-- 1 root root     1545 Nov  9 21:37 create_graph.py\ndrwxr-xr-x 2 root root     4096 Nov  9 21:30 ganglia\n-rw-r--r-- 1 root root  1641858 Nov  9 21:19 blstm_19_100_128_100.pb\ndrwxr-xr-x 2 root root     4096 Nov  9 21:19 __pycache__\ndrwxr-xr-x 2 root root     4096 Nov  9 21:00 logs\n-rw-r--r-- 1 root root  1504408 Nov  9 19:05 news_category_test.csv\ndrwxr-xr-x 2 root root     4096 Nov  9 19:02 models\ndrwxr-xr-x 2 root root     4096 Nov  9 18:58 ner_logs\n-rw-r--r-- 1 root root  3283420 Nov  9 17:28 eng.train\n-rw-r--r-- 1 root root       27 Nov  9 13:43 financial_entities.txt\n-rw-r--r-- 1 root root       36 Nov  9 13:43 sport_entities.txt\n-rw-r--r-- 1 root root 24032125 Nov  9 13:43 news_category_train.csv\n-rw-r--r-- 1 root root      284 Nov  9 13:34 sample-sentences-en.txt\n-rw-r--r-- 1 root root      724 Nov  9 09:55 derby.log\ndrwxr-xr-x 3 root root     4096 Nov  9 09:55 eventlogs\ndrwxr-xr-x 2 root root     4096 Jan  1  1970 conf\n</div>",
       "datasetInfos": [],
       "removedWidgets": [],
       "type": "html"
      }
     },
     "output_type": "display_data"
    }
   ],
   "source": [
    "%sh\n",
    "ls -lt"
   ]
  },
  {
   "cell_type": "markdown",
   "metadata": {
    "application/vnd.databricks.v1+cell": {
     "inputWidgets": {},
     "nuid": "1c6ed57f-2af4-4fa6-8838-45db133452fa",
     "showTitle": false,
     "title": ""
    }
   },
   "source": [
    "End of Notebook # 4"
   ]
  }
 ],
 "metadata": {
  "application/vnd.databricks.v1+notebook": {
   "dashboards": [],
   "language": "python",
   "notebookMetadata": {
    "pythonIndentUnit": 2
   },
   "notebookName": "4.NERDL_Training_v3.0.1",
   "notebookOrigID": 3244554416642664,
   "widgets": {}
  },
  "kernelspec": {
   "display_name": "Python 3",
   "language": "python",
   "name": "python3"
  },
  "language_info": {
   "codemirror_mode": {
    "name": "ipython",
    "version": 3
   },
   "file_extension": ".py",
   "mimetype": "text/x-python",
   "name": "python",
   "nbconvert_exporter": "python",
   "pygments_lexer": "ipython3",
   "version": "3.8.3"
  }
 },
 "nbformat": 4,
 "nbformat_minor": 1
}

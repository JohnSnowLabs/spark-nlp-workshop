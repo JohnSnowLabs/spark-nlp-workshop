{
 "cells": [
  {
   "cell_type": "markdown",
   "metadata": {
    "application/vnd.databricks.v1+cell": {
     "inputWidgets": {},
     "nuid": "f4148374-240f-43c6-81c5-c00232b33cb0",
     "showTitle": false,
     "title": ""
    }
   },
   "source": [
    "![JohnSnowLabs](https://nlp.johnsnowlabs.com/assets/images/logo.png)"
   ]
  },
  {
   "cell_type": "markdown",
   "metadata": {
    "application/vnd.databricks.v1+cell": {
     "inputWidgets": {},
     "nuid": "c74afb51-e1f2-41f0-86db-1d238d4a6d1f",
     "showTitle": false,
     "title": ""
    }
   },
   "source": [
    "# 1.Quickstart Tutorial on Spark NLP - 1 hr\n",
    "\n",
    "This is the 1 hr workshop version of the entire training notebooks : https://github.com/JohnSnowLabs/spark-nlp-workshop/tree/master/tutorials/Certification_Trainings/Public"
   ]
  },
  {
   "cell_type": "markdown",
   "metadata": {
    "application/vnd.databricks.v1+cell": {
     "inputWidgets": {},
     "nuid": "00bb9c3a-b73f-4df8-9125-af0b6e82b4af",
     "showTitle": false,
     "title": ""
    }
   },
   "source": [
    "an intro article for Spark NLP:\n",
    "\n",
    "https://towardsdatascience.com/introduction-to-spark-nlp-foundations-and-basic-components-part-i-c83b7629ed59\n",
    "\n",
    "How to start Spark NLP in 2 weeks:\n",
    "\n",
    "https://towardsdatascience.com/how-to-get-started-with-sparknlp-in-2-weeks-cb47b2ba994d\n",
    "\n",
    "https://towardsdatascience.com/how-to-wrap-your-head-around-spark-nlp-a6f6a968b7e8\n",
    "\n",
    "Article for NER and text classification in Spark NLP\n",
    "\n",
    "https://towardsdatascience.com/named-entity-recognition-ner-with-bert-in-spark-nlp-874df20d1d77\n",
    "\n",
    "https://medium.com/spark-nlp/named-entity-recognition-for-healthcare-with-sparknlp-nerdl-and-nercrf-a7751b6ad571\n",
    "\n",
    "https://towardsdatascience.com/text-classification-in-spark-nlp-with-bert-and-universal-sentence-encoders-e644d618ca32\n",
    "\n",
    "a webinar to show how to train a NER model from scratch (90 min)\n",
    "\n",
    "https://www.youtube.com/watch?v=djWX0MR2Ooo\n",
    "\n",
    "workshop repo that you can start playing with Spark NLP in Colab\n",
    "(you will also see Databricks notebook under each folder)\n",
    "\n",
    "https://github.com/JohnSnowLabs/spark-nlp-workshop/tree/master/tutorials/Certification_Trainings"
   ]
  },
  {
   "cell_type": "markdown",
   "metadata": {
    "application/vnd.databricks.v1+cell": {
     "inputWidgets": {},
     "nuid": "40de2a12-fb21-4eec-bc22-1f0f3965f12f",
     "showTitle": false,
     "title": ""
    }
   },
   "source": [
    "## Coding ..."
   ]
  },
  {
   "cell_type": "code",
   "execution_count": 0,
   "metadata": {
    "application/vnd.databricks.v1+cell": {
     "inputWidgets": {},
     "nuid": "e5b28573-ba7b-4274-9d62-c47684494818",
     "showTitle": false,
     "title": ""
    }
   },
   "outputs": [
    {
     "data": {
      "text/html": [
       "<style scoped>\n",
       "  .ansiout {\n",
       "    display: block;\n",
       "    unicode-bidi: embed;\n",
       "    white-space: pre-wrap;\n",
       "    word-wrap: break-word;\n",
       "    word-break: break-all;\n",
       "    font-family: \"Source Code Pro\", \"Menlo\", monospace;;\n",
       "    font-size: 13px;\n",
       "    color: #555;\n",
       "    margin-left: 4px;\n",
       "    line-height: 19px;\n",
       "  }\n",
       "</style>\n",
       "<div class=\"ansiout\">Spark NLP version 3.0.1\n",
       "Out[4]: </div>"
      ]
     },
     "metadata": {
      "application/vnd.databricks.v1+output": {
       "addedWidgets": {},
       "arguments": {},
       "data": "<div class=\"ansiout\">Spark NLP version 3.0.1\nOut[4]: </div>",
       "datasetInfos": [],
       "removedWidgets": [],
       "type": "html"
      }
     },
     "output_type": "display_data"
    },
    {
     "data": {
      "text/html": [
       "\n",
       "            <div>\n",
       "                <p><b>SparkSession - hive</b></p>\n",
       "                \n",
       "        <div>\n",
       "            <p><b>SparkContext</b></p>\n",
       "\n",
       "            <p><a href=\"/?o=3418543878422327#setting/sparkui/0421-031638-preys129/driver-4266845410800490723\">Spark UI</a></p>\n",
       "\n",
       "            <dl>\n",
       "              <dt>Version</dt>\n",
       "                <dd><code>v3.0.1</code></dd>\n",
       "              <dt>Master</dt>\n",
       "                <dd><code>spark://10.164.244.12:7077</code></dd>\n",
       "              <dt>AppName</dt>\n",
       "                <dd><code>Databricks Shell</code></dd>\n",
       "            </dl>\n",
       "        </div>\n",
       "        \n",
       "            </div>\n",
       "        "
      ]
     },
     "metadata": {
      "application/vnd.databricks.v1+output": {
       "addedWidgets": {},
       "arguments": {},
       "data": "\n            <div>\n                <p><b>SparkSession - hive</b></p>\n                \n        <div>\n            <p><b>SparkContext</b></p>\n\n            <p><a href=\"/?o=3418543878422327#setting/sparkui/0421-031638-preys129/driver-4266845410800490723\">Spark UI</a></p>\n\n            <dl>\n              <dt>Version</dt>\n                <dd><code>v3.0.1</code></dd>\n              <dt>Master</dt>\n                <dd><code>spark://10.164.244.12:7077</code></dd>\n              <dt>AppName</dt>\n                <dd><code>Databricks Shell</code></dd>\n            </dl>\n        </div>\n        \n            </div>\n        ",
       "datasetInfos": [],
       "removedWidgets": [],
       "textData": null,
       "type": "htmlSandbox"
      }
     },
     "output_type": "display_data"
    }
   ],
   "source": [
    "import sparknlp\n",
    "\n",
    "from sparknlp.base import *\n",
    "from sparknlp.annotator import *\n",
    "\n",
    "from pyspark.ml import Pipeline\n",
    "\n",
    "print(\"Spark NLP version\", sparknlp.version())\n",
    "\n",
    "spark"
   ]
  },
  {
   "cell_type": "markdown",
   "metadata": {
    "application/vnd.databricks.v1+cell": {
     "inputWidgets": {},
     "nuid": "936cd64a-ea63-430b-bfd2-9f56b80e51f2",
     "showTitle": false,
     "title": ""
    }
   },
   "source": [
    "## Using Pretrained Pipelines\n",
    "\n",
    "for a more detailed notebook, see https://github.com/JohnSnowLabs/spark-nlp-workshop/blob/master/tutorials/Certification_Trainings/Public/1.SparkNLP_Basics.ipynb"
   ]
  },
  {
   "cell_type": "code",
   "execution_count": 0,
   "metadata": {
    "application/vnd.databricks.v1+cell": {
     "inputWidgets": {},
     "nuid": "432291f2-1556-45cd-a098-e4371650ab28",
     "showTitle": false,
     "title": ""
    }
   },
   "outputs": [
    {
     "data": {
      "text/html": [
       "<style scoped>\n",
       "  .ansiout {\n",
       "    display: block;\n",
       "    unicode-bidi: embed;\n",
       "    white-space: pre-wrap;\n",
       "    word-wrap: break-word;\n",
       "    word-break: break-all;\n",
       "    font-family: \"Source Code Pro\", \"Menlo\", monospace;;\n",
       "    font-size: 13px;\n",
       "    color: #555;\n",
       "    margin-left: 4px;\n",
       "    line-height: 19px;\n",
       "  }\n",
       "</style>\n",
       "<div class=\"ansiout\">explain_document_dl download started this may take some time.\n",
       "Approx size to download 169.3 MB\n",
       "\r",
       "[ | ]\r",
       "[OK!]\n",
       "</div>"
      ]
     },
     "metadata": {
      "application/vnd.databricks.v1+output": {
       "addedWidgets": {},
       "arguments": {},
       "data": "<div class=\"ansiout\">explain_document_dl download started this may take some time.\nApprox size to download 169.3 MB\n\r[ | ]\r[OK!]\n</div>",
       "datasetInfos": [],
       "removedWidgets": [],
       "type": "html"
      }
     },
     "output_type": "display_data"
    }
   ],
   "source": [
    "from sparknlp.pretrained import PretrainedPipeline\n",
    "\n",
    "pipeline_dl = PretrainedPipeline('explain_document_dl', lang='en')\n"
   ]
  },
  {
   "cell_type": "markdown",
   "metadata": {
    "application/vnd.databricks.v1+cell": {
     "inputWidgets": {},
     "nuid": "0a0d09ae-7d47-430e-a208-68d2c1e3455f",
     "showTitle": false,
     "title": ""
    }
   },
   "source": [
    "**Stages**\n",
    "- DocumentAssembler\n",
    "- SentenceDetector\n",
    "- Tokenizer\n",
    "- NER (NER with GloVe 100D embeddings, CoNLL2003 dataset)\n",
    "- Lemmatizer\n",
    "- Stemmer\n",
    "- Part of Speech\n",
    "- SpellChecker (Norvig)"
   ]
  },
  {
   "cell_type": "code",
   "execution_count": 0,
   "metadata": {
    "application/vnd.databricks.v1+cell": {
     "inputWidgets": {},
     "nuid": "1ea6f47d-ab12-435a-bc42-e64b2b2bbfcc",
     "showTitle": false,
     "title": ""
    }
   },
   "outputs": [
    {
     "data": {
      "text/html": [
       "<style scoped>\n",
       "  .ansiout {\n",
       "    display: block;\n",
       "    unicode-bidi: embed;\n",
       "    white-space: pre-wrap;\n",
       "    word-wrap: break-word;\n",
       "    word-break: break-all;\n",
       "    font-family: \"Source Code Pro\", \"Menlo\", monospace;;\n",
       "    font-size: 13px;\n",
       "    color: #555;\n",
       "    margin-left: 4px;\n",
       "    line-height: 19px;\n",
       "  }\n",
       "</style>\n",
       "<div class=\"ansiout\"></div>"
      ]
     },
     "metadata": {
      "application/vnd.databricks.v1+output": {
       "addedWidgets": {},
       "arguments": {},
       "data": "<div class=\"ansiout\"></div>",
       "datasetInfos": [],
       "removedWidgets": [],
       "type": "html"
      }
     },
     "output_type": "display_data"
    }
   ],
   "source": [
    "testDoc = '''\n",
    "Peter Parker is a very good persn.\n",
    "My life in Russia is very intersting.\n",
    "John and Peter are brothrs. However they don't support each other that much.\n",
    "Mercedes Benz is also working on a driverless car.\n",
    "Europe is very culture rich. There are huge churches! and big houses!\n",
    "'''\n",
    "\n",
    "result = pipeline_dl.annotate(testDoc)\n"
   ]
  },
  {
   "cell_type": "code",
   "execution_count": 0,
   "metadata": {
    "application/vnd.databricks.v1+cell": {
     "inputWidgets": {},
     "nuid": "4eb64450-5a27-4fae-93c4-ad724453c934",
     "showTitle": false,
     "title": ""
    }
   },
   "outputs": [
    {
     "data": {
      "text/html": [
       "<style scoped>\n",
       "  .ansiout {\n",
       "    display: block;\n",
       "    unicode-bidi: embed;\n",
       "    white-space: pre-wrap;\n",
       "    word-wrap: break-word;\n",
       "    word-break: break-all;\n",
       "    font-family: \"Source Code Pro\", \"Menlo\", monospace;;\n",
       "    font-size: 13px;\n",
       "    color: #555;\n",
       "    margin-left: 4px;\n",
       "    line-height: 19px;\n",
       "  }\n",
       "</style>\n",
       "<div class=\"ansiout\">Out[4]: dict_keys([&#39;entities&#39;, &#39;stem&#39;, &#39;checked&#39;, &#39;lemma&#39;, &#39;document&#39;, &#39;pos&#39;, &#39;token&#39;, &#39;ner&#39;, &#39;embeddings&#39;, &#39;sentence&#39;])</div>"
      ]
     },
     "metadata": {
      "application/vnd.databricks.v1+output": {
       "addedWidgets": {},
       "arguments": {},
       "data": "<div class=\"ansiout\">Out[4]: dict_keys([&#39;entities&#39;, &#39;stem&#39;, &#39;checked&#39;, &#39;lemma&#39;, &#39;document&#39;, &#39;pos&#39;, &#39;token&#39;, &#39;ner&#39;, &#39;embeddings&#39;, &#39;sentence&#39;])</div>",
       "datasetInfos": [],
       "removedWidgets": [],
       "type": "html"
      }
     },
     "output_type": "display_data"
    }
   ],
   "source": [
    "result.keys()"
   ]
  },
  {
   "cell_type": "code",
   "execution_count": 0,
   "metadata": {
    "application/vnd.databricks.v1+cell": {
     "inputWidgets": {},
     "nuid": "e077c514-dcf7-43a6-af3c-2c21f70910b8",
     "showTitle": false,
     "title": ""
    }
   },
   "outputs": [
    {
     "data": {
      "text/html": [
       "<style scoped>\n",
       "  .ansiout {\n",
       "    display: block;\n",
       "    unicode-bidi: embed;\n",
       "    white-space: pre-wrap;\n",
       "    word-wrap: break-word;\n",
       "    word-break: break-all;\n",
       "    font-family: \"Source Code Pro\", \"Menlo\", monospace;;\n",
       "    font-size: 13px;\n",
       "    color: #555;\n",
       "    margin-left: 4px;\n",
       "    line-height: 19px;\n",
       "  }\n",
       "</style>\n",
       "<div class=\"ansiout\">Out[5]: [&#39;Peter Parker&#39;, &#39;Russia&#39;, &#39;John&#39;, &#39;Peter&#39;, &#39;Mercedes Benz&#39;, &#39;Europe&#39;]</div>"
      ]
     },
     "metadata": {
      "application/vnd.databricks.v1+output": {
       "addedWidgets": {},
       "arguments": {},
       "data": "<div class=\"ansiout\">Out[5]: [&#39;Peter Parker&#39;, &#39;Russia&#39;, &#39;John&#39;, &#39;Peter&#39;, &#39;Mercedes Benz&#39;, &#39;Europe&#39;]</div>",
       "datasetInfos": [],
       "removedWidgets": [],
       "type": "html"
      }
     },
     "output_type": "display_data"
    }
   ],
   "source": [
    "result['entities']"
   ]
  },
  {
   "cell_type": "code",
   "execution_count": 0,
   "metadata": {
    "application/vnd.databricks.v1+cell": {
     "inputWidgets": {},
     "nuid": "51852433-82d0-4318-aa47-f560af4f254f",
     "showTitle": false,
     "title": ""
    }
   },
   "outputs": [
    {
     "data": {
      "text/html": [
       "<style scoped>\n",
       "  .ansiout {\n",
       "    display: block;\n",
       "    unicode-bidi: embed;\n",
       "    white-space: pre-wrap;\n",
       "    word-wrap: break-word;\n",
       "    word-break: break-all;\n",
       "    font-family: \"Source Code Pro\", \"Menlo\", monospace;;\n",
       "    font-size: 13px;\n",
       "    color: #555;\n",
       "    margin-left: 4px;\n",
       "    line-height: 19px;\n",
       "  }\n",
       "</style>\n",
       "<div class=\"ansiout\">Out[6]: </div>"
      ]
     },
     "metadata": {
      "application/vnd.databricks.v1+output": {
       "addedWidgets": {},
       "arguments": {},
       "data": "<div class=\"ansiout\">Out[6]: </div>",
       "datasetInfos": [],
       "removedWidgets": [],
       "type": "html"
      }
     },
     "output_type": "display_data"
    },
    {
     "data": {
      "text/html": [
       "<div>\n",
       "<style scoped>\n",
       "    .dataframe tbody tr th:only-of-type {\n",
       "        vertical-align: middle;\n",
       "    }\n",
       "\n",
       "    .dataframe tbody tr th {\n",
       "        vertical-align: top;\n",
       "    }\n",
       "\n",
       "    .dataframe thead th {\n",
       "        text-align: right;\n",
       "    }\n",
       "</style>\n",
       "<table border=\"1\" class=\"dataframe\">\n",
       "  <thead>\n",
       "    <tr style=\"text-align: right;\">\n",
       "      <th></th>\n",
       "      <th>token</th>\n",
       "      <th>ner_label</th>\n",
       "      <th>spell_corrected</th>\n",
       "      <th>POS</th>\n",
       "      <th>lemmas</th>\n",
       "      <th>stems</th>\n",
       "    </tr>\n",
       "  </thead>\n",
       "  <tbody>\n",
       "    <tr>\n",
       "      <th>0</th>\n",
       "      <td>Peter</td>\n",
       "      <td>B-PER</td>\n",
       "      <td>Peter</td>\n",
       "      <td>NNP</td>\n",
       "      <td>Peter</td>\n",
       "      <td>peter</td>\n",
       "    </tr>\n",
       "    <tr>\n",
       "      <th>1</th>\n",
       "      <td>Parker</td>\n",
       "      <td>I-PER</td>\n",
       "      <td>Parker</td>\n",
       "      <td>NNP</td>\n",
       "      <td>Parker</td>\n",
       "      <td>parker</td>\n",
       "    </tr>\n",
       "    <tr>\n",
       "      <th>2</th>\n",
       "      <td>is</td>\n",
       "      <td>O</td>\n",
       "      <td>is</td>\n",
       "      <td>VBZ</td>\n",
       "      <td>be</td>\n",
       "      <td>i</td>\n",
       "    </tr>\n",
       "    <tr>\n",
       "      <th>3</th>\n",
       "      <td>a</td>\n",
       "      <td>O</td>\n",
       "      <td>a</td>\n",
       "      <td>DT</td>\n",
       "      <td>a</td>\n",
       "      <td>a</td>\n",
       "    </tr>\n",
       "    <tr>\n",
       "      <th>4</th>\n",
       "      <td>very</td>\n",
       "      <td>O</td>\n",
       "      <td>very</td>\n",
       "      <td>RB</td>\n",
       "      <td>very</td>\n",
       "      <td>veri</td>\n",
       "    </tr>\n",
       "    <tr>\n",
       "      <th>5</th>\n",
       "      <td>good</td>\n",
       "      <td>O</td>\n",
       "      <td>good</td>\n",
       "      <td>JJ</td>\n",
       "      <td>good</td>\n",
       "      <td>good</td>\n",
       "    </tr>\n",
       "    <tr>\n",
       "      <th>6</th>\n",
       "      <td>persn</td>\n",
       "      <td>O</td>\n",
       "      <td>person</td>\n",
       "      <td>NN</td>\n",
       "      <td>person</td>\n",
       "      <td>person</td>\n",
       "    </tr>\n",
       "    <tr>\n",
       "      <th>7</th>\n",
       "      <td>.</td>\n",
       "      <td>O</td>\n",
       "      <td>.</td>\n",
       "      <td>.</td>\n",
       "      <td>.</td>\n",
       "      <td>.</td>\n",
       "    </tr>\n",
       "    <tr>\n",
       "      <th>8</th>\n",
       "      <td>My</td>\n",
       "      <td>O</td>\n",
       "      <td>My</td>\n",
       "      <td>PRP$</td>\n",
       "      <td>My</td>\n",
       "      <td>my</td>\n",
       "    </tr>\n",
       "    <tr>\n",
       "      <th>9</th>\n",
       "      <td>life</td>\n",
       "      <td>O</td>\n",
       "      <td>life</td>\n",
       "      <td>NN</td>\n",
       "      <td>life</td>\n",
       "      <td>life</td>\n",
       "    </tr>\n",
       "    <tr>\n",
       "      <th>10</th>\n",
       "      <td>in</td>\n",
       "      <td>O</td>\n",
       "      <td>in</td>\n",
       "      <td>IN</td>\n",
       "      <td>in</td>\n",
       "      <td>in</td>\n",
       "    </tr>\n",
       "    <tr>\n",
       "      <th>11</th>\n",
       "      <td>Russia</td>\n",
       "      <td>B-LOC</td>\n",
       "      <td>Russia</td>\n",
       "      <td>NNP</td>\n",
       "      <td>Russia</td>\n",
       "      <td>russia</td>\n",
       "    </tr>\n",
       "    <tr>\n",
       "      <th>12</th>\n",
       "      <td>is</td>\n",
       "      <td>O</td>\n",
       "      <td>is</td>\n",
       "      <td>VBZ</td>\n",
       "      <td>be</td>\n",
       "      <td>i</td>\n",
       "    </tr>\n",
       "    <tr>\n",
       "      <th>13</th>\n",
       "      <td>very</td>\n",
       "      <td>O</td>\n",
       "      <td>very</td>\n",
       "      <td>RB</td>\n",
       "      <td>very</td>\n",
       "      <td>veri</td>\n",
       "    </tr>\n",
       "    <tr>\n",
       "      <th>14</th>\n",
       "      <td>intersting</td>\n",
       "      <td>O</td>\n",
       "      <td>interesting</td>\n",
       "      <td>VBG</td>\n",
       "      <td>interest</td>\n",
       "      <td>interest</td>\n",
       "    </tr>\n",
       "    <tr>\n",
       "      <th>15</th>\n",
       "      <td>.</td>\n",
       "      <td>O</td>\n",
       "      <td>.</td>\n",
       "      <td>.</td>\n",
       "      <td>.</td>\n",
       "      <td>.</td>\n",
       "    </tr>\n",
       "    <tr>\n",
       "      <th>16</th>\n",
       "      <td>John</td>\n",
       "      <td>B-PER</td>\n",
       "      <td>John</td>\n",
       "      <td>NNP</td>\n",
       "      <td>John</td>\n",
       "      <td>john</td>\n",
       "    </tr>\n",
       "    <tr>\n",
       "      <th>17</th>\n",
       "      <td>and</td>\n",
       "      <td>O</td>\n",
       "      <td>and</td>\n",
       "      <td>CC</td>\n",
       "      <td>and</td>\n",
       "      <td>and</td>\n",
       "    </tr>\n",
       "    <tr>\n",
       "      <th>18</th>\n",
       "      <td>Peter</td>\n",
       "      <td>B-PER</td>\n",
       "      <td>Peter</td>\n",
       "      <td>NNP</td>\n",
       "      <td>Peter</td>\n",
       "      <td>peter</td>\n",
       "    </tr>\n",
       "    <tr>\n",
       "      <th>19</th>\n",
       "      <td>are</td>\n",
       "      <td>O</td>\n",
       "      <td>are</td>\n",
       "      <td>VBP</td>\n",
       "      <td>be</td>\n",
       "      <td>ar</td>\n",
       "    </tr>\n",
       "    <tr>\n",
       "      <th>20</th>\n",
       "      <td>brothrs</td>\n",
       "      <td>O</td>\n",
       "      <td>broths</td>\n",
       "      <td>NN</td>\n",
       "      <td>broth</td>\n",
       "      <td>broth</td>\n",
       "    </tr>\n",
       "    <tr>\n",
       "      <th>21</th>\n",
       "      <td>.</td>\n",
       "      <td>O</td>\n",
       "      <td>.</td>\n",
       "      <td>.</td>\n",
       "      <td>.</td>\n",
       "      <td>.</td>\n",
       "    </tr>\n",
       "    <tr>\n",
       "      <th>22</th>\n",
       "      <td>However</td>\n",
       "      <td>O</td>\n",
       "      <td>However</td>\n",
       "      <td>RB</td>\n",
       "      <td>However</td>\n",
       "      <td>howev</td>\n",
       "    </tr>\n",
       "    <tr>\n",
       "      <th>23</th>\n",
       "      <td>they</td>\n",
       "      <td>O</td>\n",
       "      <td>they</td>\n",
       "      <td>PRP</td>\n",
       "      <td>they</td>\n",
       "      <td>thei</td>\n",
       "    </tr>\n",
       "    <tr>\n",
       "      <th>24</th>\n",
       "      <td>don't</td>\n",
       "      <td>O</td>\n",
       "      <td>don't</td>\n",
       "      <td>VBP</td>\n",
       "      <td>don't</td>\n",
       "      <td>don't</td>\n",
       "    </tr>\n",
       "    <tr>\n",
       "      <th>25</th>\n",
       "      <td>support</td>\n",
       "      <td>O</td>\n",
       "      <td>support</td>\n",
       "      <td>VB</td>\n",
       "      <td>support</td>\n",
       "      <td>support</td>\n",
       "    </tr>\n",
       "    <tr>\n",
       "      <th>26</th>\n",
       "      <td>each</td>\n",
       "      <td>O</td>\n",
       "      <td>each</td>\n",
       "      <td>DT</td>\n",
       "      <td>each</td>\n",
       "      <td>each</td>\n",
       "    </tr>\n",
       "    <tr>\n",
       "      <th>27</th>\n",
       "      <td>other</td>\n",
       "      <td>O</td>\n",
       "      <td>other</td>\n",
       "      <td>JJ</td>\n",
       "      <td>other</td>\n",
       "      <td>other</td>\n",
       "    </tr>\n",
       "    <tr>\n",
       "      <th>28</th>\n",
       "      <td>that</td>\n",
       "      <td>O</td>\n",
       "      <td>that</td>\n",
       "      <td>IN</td>\n",
       "      <td>that</td>\n",
       "      <td>that</td>\n",
       "    </tr>\n",
       "    <tr>\n",
       "      <th>29</th>\n",
       "      <td>much</td>\n",
       "      <td>O</td>\n",
       "      <td>much</td>\n",
       "      <td>JJ</td>\n",
       "      <td>much</td>\n",
       "      <td>much</td>\n",
       "    </tr>\n",
       "    <tr>\n",
       "      <th>30</th>\n",
       "      <td>.</td>\n",
       "      <td>O</td>\n",
       "      <td>.</td>\n",
       "      <td>.</td>\n",
       "      <td>.</td>\n",
       "      <td>.</td>\n",
       "    </tr>\n",
       "    <tr>\n",
       "      <th>31</th>\n",
       "      <td>Mercedes</td>\n",
       "      <td>B-ORG</td>\n",
       "      <td>Mercedes</td>\n",
       "      <td>NNP</td>\n",
       "      <td>Mercedes</td>\n",
       "      <td>merced</td>\n",
       "    </tr>\n",
       "    <tr>\n",
       "      <th>32</th>\n",
       "      <td>Benz</td>\n",
       "      <td>I-ORG</td>\n",
       "      <td>Benz</td>\n",
       "      <td>NNP</td>\n",
       "      <td>Benz</td>\n",
       "      <td>benz</td>\n",
       "    </tr>\n",
       "    <tr>\n",
       "      <th>33</th>\n",
       "      <td>is</td>\n",
       "      <td>O</td>\n",
       "      <td>is</td>\n",
       "      <td>VBZ</td>\n",
       "      <td>be</td>\n",
       "      <td>i</td>\n",
       "    </tr>\n",
       "    <tr>\n",
       "      <th>34</th>\n",
       "      <td>also</td>\n",
       "      <td>O</td>\n",
       "      <td>also</td>\n",
       "      <td>RB</td>\n",
       "      <td>also</td>\n",
       "      <td>also</td>\n",
       "    </tr>\n",
       "    <tr>\n",
       "      <th>35</th>\n",
       "      <td>working</td>\n",
       "      <td>O</td>\n",
       "      <td>working</td>\n",
       "      <td>VBG</td>\n",
       "      <td>work</td>\n",
       "      <td>work</td>\n",
       "    </tr>\n",
       "    <tr>\n",
       "      <th>36</th>\n",
       "      <td>on</td>\n",
       "      <td>O</td>\n",
       "      <td>on</td>\n",
       "      <td>IN</td>\n",
       "      <td>on</td>\n",
       "      <td>on</td>\n",
       "    </tr>\n",
       "    <tr>\n",
       "      <th>37</th>\n",
       "      <td>a</td>\n",
       "      <td>O</td>\n",
       "      <td>a</td>\n",
       "      <td>DT</td>\n",
       "      <td>a</td>\n",
       "      <td>a</td>\n",
       "    </tr>\n",
       "    <tr>\n",
       "      <th>38</th>\n",
       "      <td>driverless</td>\n",
       "      <td>O</td>\n",
       "      <td>driverless</td>\n",
       "      <td>JJ</td>\n",
       "      <td>driverless</td>\n",
       "      <td>driverless</td>\n",
       "    </tr>\n",
       "    <tr>\n",
       "      <th>39</th>\n",
       "      <td>car</td>\n",
       "      <td>O</td>\n",
       "      <td>car</td>\n",
       "      <td>NN</td>\n",
       "      <td>car</td>\n",
       "      <td>car</td>\n",
       "    </tr>\n",
       "    <tr>\n",
       "      <th>40</th>\n",
       "      <td>.</td>\n",
       "      <td>O</td>\n",
       "      <td>.</td>\n",
       "      <td>.</td>\n",
       "      <td>.</td>\n",
       "      <td>.</td>\n",
       "    </tr>\n",
       "    <tr>\n",
       "      <th>41</th>\n",
       "      <td>Europe</td>\n",
       "      <td>B-LOC</td>\n",
       "      <td>Europe</td>\n",
       "      <td>NNP</td>\n",
       "      <td>Europe</td>\n",
       "      <td>europ</td>\n",
       "    </tr>\n",
       "    <tr>\n",
       "      <th>42</th>\n",
       "      <td>is</td>\n",
       "      <td>O</td>\n",
       "      <td>is</td>\n",
       "      <td>VBZ</td>\n",
       "      <td>be</td>\n",
       "      <td>i</td>\n",
       "    </tr>\n",
       "    <tr>\n",
       "      <th>43</th>\n",
       "      <td>very</td>\n",
       "      <td>O</td>\n",
       "      <td>very</td>\n",
       "      <td>RB</td>\n",
       "      <td>very</td>\n",
       "      <td>veri</td>\n",
       "    </tr>\n",
       "    <tr>\n",
       "      <th>44</th>\n",
       "      <td>culture</td>\n",
       "      <td>O</td>\n",
       "      <td>culture</td>\n",
       "      <td>RB</td>\n",
       "      <td>culture</td>\n",
       "      <td>cultur</td>\n",
       "    </tr>\n",
       "    <tr>\n",
       "      <th>45</th>\n",
       "      <td>rich</td>\n",
       "      <td>O</td>\n",
       "      <td>rich</td>\n",
       "      <td>JJ</td>\n",
       "      <td>rich</td>\n",
       "      <td>rich</td>\n",
       "    </tr>\n",
       "    <tr>\n",
       "      <th>46</th>\n",
       "      <td>.</td>\n",
       "      <td>O</td>\n",
       "      <td>.</td>\n",
       "      <td>.</td>\n",
       "      <td>.</td>\n",
       "      <td>.</td>\n",
       "    </tr>\n",
       "    <tr>\n",
       "      <th>47</th>\n",
       "      <td>There</td>\n",
       "      <td>O</td>\n",
       "      <td>There</td>\n",
       "      <td>EX</td>\n",
       "      <td>There</td>\n",
       "      <td>there</td>\n",
       "    </tr>\n",
       "    <tr>\n",
       "      <th>48</th>\n",
       "      <td>are</td>\n",
       "      <td>O</td>\n",
       "      <td>are</td>\n",
       "      <td>VBP</td>\n",
       "      <td>be</td>\n",
       "      <td>ar</td>\n",
       "    </tr>\n",
       "    <tr>\n",
       "      <th>49</th>\n",
       "      <td>huge</td>\n",
       "      <td>O</td>\n",
       "      <td>huge</td>\n",
       "      <td>JJ</td>\n",
       "      <td>huge</td>\n",
       "      <td>huge</td>\n",
       "    </tr>\n",
       "    <tr>\n",
       "      <th>50</th>\n",
       "      <td>churches</td>\n",
       "      <td>O</td>\n",
       "      <td>churches</td>\n",
       "      <td>NNS</td>\n",
       "      <td>church</td>\n",
       "      <td>church</td>\n",
       "    </tr>\n",
       "    <tr>\n",
       "      <th>51</th>\n",
       "      <td>!</td>\n",
       "      <td>O</td>\n",
       "      <td>!</td>\n",
       "      <td>.</td>\n",
       "      <td>!</td>\n",
       "      <td>!</td>\n",
       "    </tr>\n",
       "    <tr>\n",
       "      <th>52</th>\n",
       "      <td>and</td>\n",
       "      <td>O</td>\n",
       "      <td>and</td>\n",
       "      <td>CC</td>\n",
       "      <td>and</td>\n",
       "      <td>and</td>\n",
       "    </tr>\n",
       "    <tr>\n",
       "      <th>53</th>\n",
       "      <td>big</td>\n",
       "      <td>O</td>\n",
       "      <td>big</td>\n",
       "      <td>JJ</td>\n",
       "      <td>big</td>\n",
       "      <td>big</td>\n",
       "    </tr>\n",
       "    <tr>\n",
       "      <th>54</th>\n",
       "      <td>houses</td>\n",
       "      <td>O</td>\n",
       "      <td>houses</td>\n",
       "      <td>NNS</td>\n",
       "      <td>house</td>\n",
       "      <td>hous</td>\n",
       "    </tr>\n",
       "    <tr>\n",
       "      <th>55</th>\n",
       "      <td>!</td>\n",
       "      <td>O</td>\n",
       "      <td>!</td>\n",
       "      <td>.</td>\n",
       "      <td>!</td>\n",
       "      <td>!</td>\n",
       "    </tr>\n",
       "  </tbody>\n",
       "</table>\n",
       "</div>"
      ]
     },
     "metadata": {
      "application/vnd.databricks.v1+output": {
       "addedWidgets": {},
       "arguments": {},
       "data": "<div>\n<style scoped>\n    .dataframe tbody tr th:only-of-type {\n        vertical-align: middle;\n    }\n\n    .dataframe tbody tr th {\n        vertical-align: top;\n    }\n\n    .dataframe thead th {\n        text-align: right;\n    }\n</style>\n<table border=\"1\" class=\"dataframe\">\n  <thead>\n    <tr style=\"text-align: right;\">\n      <th></th>\n      <th>token</th>\n      <th>ner_label</th>\n      <th>spell_corrected</th>\n      <th>POS</th>\n      <th>lemmas</th>\n      <th>stems</th>\n    </tr>\n  </thead>\n  <tbody>\n    <tr>\n      <th>0</th>\n      <td>Peter</td>\n      <td>B-PER</td>\n      <td>Peter</td>\n      <td>NNP</td>\n      <td>Peter</td>\n      <td>peter</td>\n    </tr>\n    <tr>\n      <th>1</th>\n      <td>Parker</td>\n      <td>I-PER</td>\n      <td>Parker</td>\n      <td>NNP</td>\n      <td>Parker</td>\n      <td>parker</td>\n    </tr>\n    <tr>\n      <th>2</th>\n      <td>is</td>\n      <td>O</td>\n      <td>is</td>\n      <td>VBZ</td>\n      <td>be</td>\n      <td>i</td>\n    </tr>\n    <tr>\n      <th>3</th>\n      <td>a</td>\n      <td>O</td>\n      <td>a</td>\n      <td>DT</td>\n      <td>a</td>\n      <td>a</td>\n    </tr>\n    <tr>\n      <th>4</th>\n      <td>very</td>\n      <td>O</td>\n      <td>very</td>\n      <td>RB</td>\n      <td>very</td>\n      <td>veri</td>\n    </tr>\n    <tr>\n      <th>5</th>\n      <td>good</td>\n      <td>O</td>\n      <td>good</td>\n      <td>JJ</td>\n      <td>good</td>\n      <td>good</td>\n    </tr>\n    <tr>\n      <th>6</th>\n      <td>persn</td>\n      <td>O</td>\n      <td>person</td>\n      <td>NN</td>\n      <td>person</td>\n      <td>person</td>\n    </tr>\n    <tr>\n      <th>7</th>\n      <td>.</td>\n      <td>O</td>\n      <td>.</td>\n      <td>.</td>\n      <td>.</td>\n      <td>.</td>\n    </tr>\n    <tr>\n      <th>8</th>\n      <td>My</td>\n      <td>O</td>\n      <td>My</td>\n      <td>PRP$</td>\n      <td>My</td>\n      <td>my</td>\n    </tr>\n    <tr>\n      <th>9</th>\n      <td>life</td>\n      <td>O</td>\n      <td>life</td>\n      <td>NN</td>\n      <td>life</td>\n      <td>life</td>\n    </tr>\n    <tr>\n      <th>10</th>\n      <td>in</td>\n      <td>O</td>\n      <td>in</td>\n      <td>IN</td>\n      <td>in</td>\n      <td>in</td>\n    </tr>\n    <tr>\n      <th>11</th>\n      <td>Russia</td>\n      <td>B-LOC</td>\n      <td>Russia</td>\n      <td>NNP</td>\n      <td>Russia</td>\n      <td>russia</td>\n    </tr>\n    <tr>\n      <th>12</th>\n      <td>is</td>\n      <td>O</td>\n      <td>is</td>\n      <td>VBZ</td>\n      <td>be</td>\n      <td>i</td>\n    </tr>\n    <tr>\n      <th>13</th>\n      <td>very</td>\n      <td>O</td>\n      <td>very</td>\n      <td>RB</td>\n      <td>very</td>\n      <td>veri</td>\n    </tr>\n    <tr>\n      <th>14</th>\n      <td>intersting</td>\n      <td>O</td>\n      <td>interesting</td>\n      <td>VBG</td>\n      <td>interest</td>\n      <td>interest</td>\n    </tr>\n    <tr>\n      <th>15</th>\n      <td>.</td>\n      <td>O</td>\n      <td>.</td>\n      <td>.</td>\n      <td>.</td>\n      <td>.</td>\n    </tr>\n    <tr>\n      <th>16</th>\n      <td>John</td>\n      <td>B-PER</td>\n      <td>John</td>\n      <td>NNP</td>\n      <td>John</td>\n      <td>john</td>\n    </tr>\n    <tr>\n      <th>17</th>\n      <td>and</td>\n      <td>O</td>\n      <td>and</td>\n      <td>CC</td>\n      <td>and</td>\n      <td>and</td>\n    </tr>\n    <tr>\n      <th>18</th>\n      <td>Peter</td>\n      <td>B-PER</td>\n      <td>Peter</td>\n      <td>NNP</td>\n      <td>Peter</td>\n      <td>peter</td>\n    </tr>\n    <tr>\n      <th>19</th>\n      <td>are</td>\n      <td>O</td>\n      <td>are</td>\n      <td>VBP</td>\n      <td>be</td>\n      <td>ar</td>\n    </tr>\n    <tr>\n      <th>20</th>\n      <td>brothrs</td>\n      <td>O</td>\n      <td>broths</td>\n      <td>NN</td>\n      <td>broth</td>\n      <td>broth</td>\n    </tr>\n    <tr>\n      <th>21</th>\n      <td>.</td>\n      <td>O</td>\n      <td>.</td>\n      <td>.</td>\n      <td>.</td>\n      <td>.</td>\n    </tr>\n    <tr>\n      <th>22</th>\n      <td>However</td>\n      <td>O</td>\n      <td>However</td>\n      <td>RB</td>\n      <td>However</td>\n      <td>howev</td>\n    </tr>\n    <tr>\n      <th>23</th>\n      <td>they</td>\n      <td>O</td>\n      <td>they</td>\n      <td>PRP</td>\n      <td>they</td>\n      <td>thei</td>\n    </tr>\n    <tr>\n      <th>24</th>\n      <td>don't</td>\n      <td>O</td>\n      <td>don't</td>\n      <td>VBP</td>\n      <td>don't</td>\n      <td>don't</td>\n    </tr>\n    <tr>\n      <th>25</th>\n      <td>support</td>\n      <td>O</td>\n      <td>support</td>\n      <td>VB</td>\n      <td>support</td>\n      <td>support</td>\n    </tr>\n    <tr>\n      <th>26</th>\n      <td>each</td>\n      <td>O</td>\n      <td>each</td>\n      <td>DT</td>\n      <td>each</td>\n      <td>each</td>\n    </tr>\n    <tr>\n      <th>27</th>\n      <td>other</td>\n      <td>O</td>\n      <td>other</td>\n      <td>JJ</td>\n      <td>other</td>\n      <td>other</td>\n    </tr>\n    <tr>\n      <th>28</th>\n      <td>that</td>\n      <td>O</td>\n      <td>that</td>\n      <td>IN</td>\n      <td>that</td>\n      <td>that</td>\n    </tr>\n    <tr>\n      <th>29</th>\n      <td>much</td>\n      <td>O</td>\n      <td>much</td>\n      <td>JJ</td>\n      <td>much</td>\n      <td>much</td>\n    </tr>\n    <tr>\n      <th>30</th>\n      <td>.</td>\n      <td>O</td>\n      <td>.</td>\n      <td>.</td>\n      <td>.</td>\n      <td>.</td>\n    </tr>\n    <tr>\n      <th>31</th>\n      <td>Mercedes</td>\n      <td>B-ORG</td>\n      <td>Mercedes</td>\n      <td>NNP</td>\n      <td>Mercedes</td>\n      <td>merced</td>\n    </tr>\n    <tr>\n      <th>32</th>\n      <td>Benz</td>\n      <td>I-ORG</td>\n      <td>Benz</td>\n      <td>NNP</td>\n      <td>Benz</td>\n      <td>benz</td>\n    </tr>\n    <tr>\n      <th>33</th>\n      <td>is</td>\n      <td>O</td>\n      <td>is</td>\n      <td>VBZ</td>\n      <td>be</td>\n      <td>i</td>\n    </tr>\n    <tr>\n      <th>34</th>\n      <td>also</td>\n      <td>O</td>\n      <td>also</td>\n      <td>RB</td>\n      <td>also</td>\n      <td>also</td>\n    </tr>\n    <tr>\n      <th>35</th>\n      <td>working</td>\n      <td>O</td>\n      <td>working</td>\n      <td>VBG</td>\n      <td>work</td>\n      <td>work</td>\n    </tr>\n    <tr>\n      <th>36</th>\n      <td>on</td>\n      <td>O</td>\n      <td>on</td>\n      <td>IN</td>\n      <td>on</td>\n      <td>on</td>\n    </tr>\n    <tr>\n      <th>37</th>\n      <td>a</td>\n      <td>O</td>\n      <td>a</td>\n      <td>DT</td>\n      <td>a</td>\n      <td>a</td>\n    </tr>\n    <tr>\n      <th>38</th>\n      <td>driverless</td>\n      <td>O</td>\n      <td>driverless</td>\n      <td>JJ</td>\n      <td>driverless</td>\n      <td>driverless</td>\n    </tr>\n    <tr>\n      <th>39</th>\n      <td>car</td>\n      <td>O</td>\n      <td>car</td>\n      <td>NN</td>\n      <td>car</td>\n      <td>car</td>\n    </tr>\n    <tr>\n      <th>40</th>\n      <td>.</td>\n      <td>O</td>\n      <td>.</td>\n      <td>.</td>\n      <td>.</td>\n      <td>.</td>\n    </tr>\n    <tr>\n      <th>41</th>\n      <td>Europe</td>\n      <td>B-LOC</td>\n      <td>Europe</td>\n      <td>NNP</td>\n      <td>Europe</td>\n      <td>europ</td>\n    </tr>\n    <tr>\n      <th>42</th>\n      <td>is</td>\n      <td>O</td>\n      <td>is</td>\n      <td>VBZ</td>\n      <td>be</td>\n      <td>i</td>\n    </tr>\n    <tr>\n      <th>43</th>\n      <td>very</td>\n      <td>O</td>\n      <td>very</td>\n      <td>RB</td>\n      <td>very</td>\n      <td>veri</td>\n    </tr>\n    <tr>\n      <th>44</th>\n      <td>culture</td>\n      <td>O</td>\n      <td>culture</td>\n      <td>RB</td>\n      <td>culture</td>\n      <td>cultur</td>\n    </tr>\n    <tr>\n      <th>45</th>\n      <td>rich</td>\n      <td>O</td>\n      <td>rich</td>\n      <td>JJ</td>\n      <td>rich</td>\n      <td>rich</td>\n    </tr>\n    <tr>\n      <th>46</th>\n      <td>.</td>\n      <td>O</td>\n      <td>.</td>\n      <td>.</td>\n      <td>.</td>\n      <td>.</td>\n    </tr>\n    <tr>\n      <th>47</th>\n      <td>There</td>\n      <td>O</td>\n      <td>There</td>\n      <td>EX</td>\n      <td>There</td>\n      <td>there</td>\n    </tr>\n    <tr>\n      <th>48</th>\n      <td>are</td>\n      <td>O</td>\n      <td>are</td>\n      <td>VBP</td>\n      <td>be</td>\n      <td>ar</td>\n    </tr>\n    <tr>\n      <th>49</th>\n      <td>huge</td>\n      <td>O</td>\n      <td>huge</td>\n      <td>JJ</td>\n      <td>huge</td>\n      <td>huge</td>\n    </tr>\n    <tr>\n      <th>50</th>\n      <td>churches</td>\n      <td>O</td>\n      <td>churches</td>\n      <td>NNS</td>\n      <td>church</td>\n      <td>church</td>\n    </tr>\n    <tr>\n      <th>51</th>\n      <td>!</td>\n      <td>O</td>\n      <td>!</td>\n      <td>.</td>\n      <td>!</td>\n      <td>!</td>\n    </tr>\n    <tr>\n      <th>52</th>\n      <td>and</td>\n      <td>O</td>\n      <td>and</td>\n      <td>CC</td>\n      <td>and</td>\n      <td>and</td>\n    </tr>\n    <tr>\n      <th>53</th>\n      <td>big</td>\n      <td>O</td>\n      <td>big</td>\n      <td>JJ</td>\n      <td>big</td>\n      <td>big</td>\n    </tr>\n    <tr>\n      <th>54</th>\n      <td>houses</td>\n      <td>O</td>\n      <td>houses</td>\n      <td>NNS</td>\n      <td>house</td>\n      <td>hous</td>\n    </tr>\n    <tr>\n      <th>55</th>\n      <td>!</td>\n      <td>O</td>\n      <td>!</td>\n      <td>.</td>\n      <td>!</td>\n      <td>!</td>\n    </tr>\n  </tbody>\n</table>\n</div>",
       "datasetInfos": [],
       "removedWidgets": [],
       "textData": null,
       "type": "htmlSandbox"
      }
     },
     "output_type": "display_data"
    }
   ],
   "source": [
    "import pandas as pd\n",
    "\n",
    "df = pd.DataFrame({'token':result['token'], 'ner_label':result['ner'],\n",
    "                      'spell_corrected':result['checked'], 'POS':result['pos'],\n",
    "                      'lemmas':result['lemma'], 'stems':result['stem']})\n",
    "\n",
    "df"
   ]
  },
  {
   "cell_type": "markdown",
   "metadata": {
    "application/vnd.databricks.v1+cell": {
     "inputWidgets": {},
     "nuid": "d0c70708-d498-436a-86af-295cc0c77983",
     "showTitle": false,
     "title": ""
    }
   },
   "source": [
    "### Using fullAnnotate to get more details"
   ]
  },
  {
   "cell_type": "code",
   "execution_count": 0,
   "metadata": {
    "application/vnd.databricks.v1+cell": {
     "inputWidgets": {},
     "nuid": "4b29ebba-3aa6-4034-b920-ef0f000cd7f3",
     "showTitle": false,
     "title": ""
    }
   },
   "outputs": [
    {
     "data": {
      "text/html": [
       "<style scoped>\n",
       "  .ansiout {\n",
       "    display: block;\n",
       "    unicode-bidi: embed;\n",
       "    white-space: pre-wrap;\n",
       "    word-wrap: break-word;\n",
       "    word-break: break-all;\n",
       "    font-family: \"Source Code Pro\", \"Menlo\", monospace;;\n",
       "    font-size: 13px;\n",
       "    color: #555;\n",
       "    margin-left: 4px;\n",
       "    line-height: 19px;\n",
       "  }\n",
       "</style>\n",
       "<div class=\"ansiout\">Out[7]: [Annotation(chunk, 1, 12, Peter Parker, {&#39;entity&#39;: &#39;PER&#39;, &#39;sentence&#39;: &#39;0&#39;, &#39;chunk&#39;: &#39;0&#39;}),\n",
       " Annotation(chunk, 47, 52, Russia, {&#39;entity&#39;: &#39;LOC&#39;, &#39;sentence&#39;: &#39;1&#39;, &#39;chunk&#39;: &#39;1&#39;}),\n",
       " Annotation(chunk, 74, 77, John, {&#39;entity&#39;: &#39;PER&#39;, &#39;sentence&#39;: &#39;2&#39;, &#39;chunk&#39;: &#39;2&#39;}),\n",
       " Annotation(chunk, 83, 87, Peter, {&#39;entity&#39;: &#39;PER&#39;, &#39;sentence&#39;: &#39;2&#39;, &#39;chunk&#39;: &#39;3&#39;}),\n",
       " Annotation(chunk, 151, 163, Mercedes Benz, {&#39;entity&#39;: &#39;ORG&#39;, &#39;sentence&#39;: &#39;4&#39;, &#39;chunk&#39;: &#39;4&#39;}),\n",
       " Annotation(chunk, 202, 207, Europe, {&#39;entity&#39;: &#39;LOC&#39;, &#39;sentence&#39;: &#39;5&#39;, &#39;chunk&#39;: &#39;5&#39;})]</div>"
      ]
     },
     "metadata": {
      "application/vnd.databricks.v1+output": {
       "addedWidgets": {},
       "arguments": {},
       "data": "<div class=\"ansiout\">Out[7]: [Annotation(chunk, 1, 12, Peter Parker, {&#39;entity&#39;: &#39;PER&#39;, &#39;sentence&#39;: &#39;0&#39;, &#39;chunk&#39;: &#39;0&#39;}),\n Annotation(chunk, 47, 52, Russia, {&#39;entity&#39;: &#39;LOC&#39;, &#39;sentence&#39;: &#39;1&#39;, &#39;chunk&#39;: &#39;1&#39;}),\n Annotation(chunk, 74, 77, John, {&#39;entity&#39;: &#39;PER&#39;, &#39;sentence&#39;: &#39;2&#39;, &#39;chunk&#39;: &#39;2&#39;}),\n Annotation(chunk, 83, 87, Peter, {&#39;entity&#39;: &#39;PER&#39;, &#39;sentence&#39;: &#39;2&#39;, &#39;chunk&#39;: &#39;3&#39;}),\n Annotation(chunk, 151, 163, Mercedes Benz, {&#39;entity&#39;: &#39;ORG&#39;, &#39;sentence&#39;: &#39;4&#39;, &#39;chunk&#39;: &#39;4&#39;}),\n Annotation(chunk, 202, 207, Europe, {&#39;entity&#39;: &#39;LOC&#39;, &#39;sentence&#39;: &#39;5&#39;, &#39;chunk&#39;: &#39;5&#39;})]</div>",
       "datasetInfos": [],
       "removedWidgets": [],
       "type": "html"
      }
     },
     "output_type": "display_data"
    }
   ],
   "source": [
    "detailed_result = pipeline_dl.fullAnnotate(testDoc)\n",
    "\n",
    "detailed_result[0]['entities']"
   ]
  },
  {
   "cell_type": "code",
   "execution_count": 0,
   "metadata": {
    "application/vnd.databricks.v1+cell": {
     "inputWidgets": {},
     "nuid": "1910604c-166c-4220-ad51-de0e1fca50c9",
     "showTitle": false,
     "title": ""
    }
   },
   "outputs": [
    {
     "data": {
      "text/html": [
       "<style scoped>\n",
       "  .ansiout {\n",
       "    display: block;\n",
       "    unicode-bidi: embed;\n",
       "    white-space: pre-wrap;\n",
       "    word-wrap: break-word;\n",
       "    word-break: break-all;\n",
       "    font-family: \"Source Code Pro\", \"Menlo\", monospace;;\n",
       "    font-size: 13px;\n",
       "    color: #555;\n",
       "    margin-left: 4px;\n",
       "    line-height: 19px;\n",
       "  }\n",
       "</style>\n",
       "<div class=\"ansiout\">Out[8]: </div>"
      ]
     },
     "metadata": {
      "application/vnd.databricks.v1+output": {
       "addedWidgets": {},
       "arguments": {},
       "data": "<div class=\"ansiout\">Out[8]: </div>",
       "datasetInfos": [],
       "removedWidgets": [],
       "type": "html"
      }
     },
     "output_type": "display_data"
    },
    {
     "data": {
      "text/html": [
       "<div>\n",
       "<style scoped>\n",
       "    .dataframe tbody tr th:only-of-type {\n",
       "        vertical-align: middle;\n",
       "    }\n",
       "\n",
       "    .dataframe tbody tr th {\n",
       "        vertical-align: top;\n",
       "    }\n",
       "\n",
       "    .dataframe thead th {\n",
       "        text-align: right;\n",
       "    }\n",
       "</style>\n",
       "<table border=\"1\" class=\"dataframe\">\n",
       "  <thead>\n",
       "    <tr style=\"text-align: right;\">\n",
       "      <th></th>\n",
       "      <th>chunks</th>\n",
       "      <th>entities</th>\n",
       "    </tr>\n",
       "  </thead>\n",
       "  <tbody>\n",
       "    <tr>\n",
       "      <th>0</th>\n",
       "      <td>Peter Parker</td>\n",
       "      <td>PER</td>\n",
       "    </tr>\n",
       "    <tr>\n",
       "      <th>1</th>\n",
       "      <td>Russia</td>\n",
       "      <td>LOC</td>\n",
       "    </tr>\n",
       "    <tr>\n",
       "      <th>2</th>\n",
       "      <td>John</td>\n",
       "      <td>PER</td>\n",
       "    </tr>\n",
       "    <tr>\n",
       "      <th>3</th>\n",
       "      <td>Peter</td>\n",
       "      <td>PER</td>\n",
       "    </tr>\n",
       "    <tr>\n",
       "      <th>4</th>\n",
       "      <td>Mercedes Benz</td>\n",
       "      <td>ORG</td>\n",
       "    </tr>\n",
       "    <tr>\n",
       "      <th>5</th>\n",
       "      <td>Europe</td>\n",
       "      <td>LOC</td>\n",
       "    </tr>\n",
       "  </tbody>\n",
       "</table>\n",
       "</div>"
      ]
     },
     "metadata": {
      "application/vnd.databricks.v1+output": {
       "addedWidgets": {},
       "arguments": {},
       "data": "<div>\n<style scoped>\n    .dataframe tbody tr th:only-of-type {\n        vertical-align: middle;\n    }\n\n    .dataframe tbody tr th {\n        vertical-align: top;\n    }\n\n    .dataframe thead th {\n        text-align: right;\n    }\n</style>\n<table border=\"1\" class=\"dataframe\">\n  <thead>\n    <tr style=\"text-align: right;\">\n      <th></th>\n      <th>chunks</th>\n      <th>entities</th>\n    </tr>\n  </thead>\n  <tbody>\n    <tr>\n      <th>0</th>\n      <td>Peter Parker</td>\n      <td>PER</td>\n    </tr>\n    <tr>\n      <th>1</th>\n      <td>Russia</td>\n      <td>LOC</td>\n    </tr>\n    <tr>\n      <th>2</th>\n      <td>John</td>\n      <td>PER</td>\n    </tr>\n    <tr>\n      <th>3</th>\n      <td>Peter</td>\n      <td>PER</td>\n    </tr>\n    <tr>\n      <th>4</th>\n      <td>Mercedes Benz</td>\n      <td>ORG</td>\n    </tr>\n    <tr>\n      <th>5</th>\n      <td>Europe</td>\n      <td>LOC</td>\n    </tr>\n  </tbody>\n</table>\n</div>",
       "datasetInfos": [],
       "removedWidgets": [],
       "textData": null,
       "type": "htmlSandbox"
      }
     },
     "output_type": "display_data"
    }
   ],
   "source": [
    "chunks=[]\n",
    "entities=[]\n",
    "for n in detailed_result[0]['entities']:\n",
    "        \n",
    "  chunks.append(n.result)\n",
    "  entities.append(n.metadata['entity']) \n",
    "    \n",
    "df = pd.DataFrame({'chunks':chunks, 'entities':entities})\n",
    "df    "
   ]
  },
  {
   "cell_type": "code",
   "execution_count": 0,
   "metadata": {
    "application/vnd.databricks.v1+cell": {
     "inputWidgets": {},
     "nuid": "b962ea37-86a4-4a10-866e-67a5726061d2",
     "showTitle": false,
     "title": ""
    }
   },
   "outputs": [
    {
     "data": {
      "text/html": [
       "<style scoped>\n",
       "  .ansiout {\n",
       "    display: block;\n",
       "    unicode-bidi: embed;\n",
       "    white-space: pre-wrap;\n",
       "    word-wrap: break-word;\n",
       "    word-break: break-all;\n",
       "    font-family: \"Source Code Pro\", \"Menlo\", monospace;;\n",
       "    font-size: 13px;\n",
       "    color: #555;\n",
       "    margin-left: 4px;\n",
       "    line-height: 19px;\n",
       "  }\n",
       "</style>\n",
       "<div class=\"ansiout\">Out[9]: </div>"
      ]
     },
     "metadata": {
      "application/vnd.databricks.v1+output": {
       "addedWidgets": {},
       "arguments": {},
       "data": "<div class=\"ansiout\">Out[9]: </div>",
       "datasetInfos": [],
       "removedWidgets": [],
       "type": "html"
      }
     },
     "output_type": "display_data"
    },
    {
     "data": {
      "text/html": [
       "<div>\n",
       "<style scoped>\n",
       "    .dataframe tbody tr th:only-of-type {\n",
       "        vertical-align: middle;\n",
       "    }\n",
       "\n",
       "    .dataframe tbody tr th {\n",
       "        vertical-align: top;\n",
       "    }\n",
       "\n",
       "    .dataframe thead th {\n",
       "        text-align: right;\n",
       "    }\n",
       "</style>\n",
       "<table border=\"1\" class=\"dataframe\">\n",
       "  <thead>\n",
       "    <tr style=\"text-align: right;\">\n",
       "      <th></th>\n",
       "      <th>sent_id</th>\n",
       "      <th>token</th>\n",
       "      <th>start</th>\n",
       "      <th>end</th>\n",
       "      <th>pos</th>\n",
       "      <th>ner</th>\n",
       "    </tr>\n",
       "  </thead>\n",
       "  <tbody>\n",
       "    <tr>\n",
       "      <th>0</th>\n",
       "      <td>0</td>\n",
       "      <td>Peter</td>\n",
       "      <td>1</td>\n",
       "      <td>5</td>\n",
       "      <td>NNP</td>\n",
       "      <td>B-PER</td>\n",
       "    </tr>\n",
       "    <tr>\n",
       "      <th>1</th>\n",
       "      <td>0</td>\n",
       "      <td>Parker</td>\n",
       "      <td>7</td>\n",
       "      <td>12</td>\n",
       "      <td>NNP</td>\n",
       "      <td>I-PER</td>\n",
       "    </tr>\n",
       "    <tr>\n",
       "      <th>2</th>\n",
       "      <td>0</td>\n",
       "      <td>is</td>\n",
       "      <td>14</td>\n",
       "      <td>15</td>\n",
       "      <td>VBZ</td>\n",
       "      <td>O</td>\n",
       "    </tr>\n",
       "    <tr>\n",
       "      <th>3</th>\n",
       "      <td>0</td>\n",
       "      <td>a</td>\n",
       "      <td>17</td>\n",
       "      <td>17</td>\n",
       "      <td>DT</td>\n",
       "      <td>O</td>\n",
       "    </tr>\n",
       "    <tr>\n",
       "      <th>4</th>\n",
       "      <td>0</td>\n",
       "      <td>very</td>\n",
       "      <td>19</td>\n",
       "      <td>22</td>\n",
       "      <td>RB</td>\n",
       "      <td>O</td>\n",
       "    </tr>\n",
       "    <tr>\n",
       "      <th>5</th>\n",
       "      <td>0</td>\n",
       "      <td>good</td>\n",
       "      <td>24</td>\n",
       "      <td>27</td>\n",
       "      <td>JJ</td>\n",
       "      <td>O</td>\n",
       "    </tr>\n",
       "    <tr>\n",
       "      <th>6</th>\n",
       "      <td>0</td>\n",
       "      <td>persn</td>\n",
       "      <td>29</td>\n",
       "      <td>33</td>\n",
       "      <td>NN</td>\n",
       "      <td>O</td>\n",
       "    </tr>\n",
       "    <tr>\n",
       "      <th>7</th>\n",
       "      <td>0</td>\n",
       "      <td>.</td>\n",
       "      <td>34</td>\n",
       "      <td>34</td>\n",
       "      <td>.</td>\n",
       "      <td>O</td>\n",
       "    </tr>\n",
       "    <tr>\n",
       "      <th>8</th>\n",
       "      <td>1</td>\n",
       "      <td>My</td>\n",
       "      <td>36</td>\n",
       "      <td>37</td>\n",
       "      <td>PRP$</td>\n",
       "      <td>O</td>\n",
       "    </tr>\n",
       "    <tr>\n",
       "      <th>9</th>\n",
       "      <td>1</td>\n",
       "      <td>life</td>\n",
       "      <td>39</td>\n",
       "      <td>42</td>\n",
       "      <td>NN</td>\n",
       "      <td>O</td>\n",
       "    </tr>\n",
       "    <tr>\n",
       "      <th>10</th>\n",
       "      <td>1</td>\n",
       "      <td>in</td>\n",
       "      <td>44</td>\n",
       "      <td>45</td>\n",
       "      <td>IN</td>\n",
       "      <td>O</td>\n",
       "    </tr>\n",
       "    <tr>\n",
       "      <th>11</th>\n",
       "      <td>1</td>\n",
       "      <td>Russia</td>\n",
       "      <td>47</td>\n",
       "      <td>52</td>\n",
       "      <td>NNP</td>\n",
       "      <td>B-LOC</td>\n",
       "    </tr>\n",
       "    <tr>\n",
       "      <th>12</th>\n",
       "      <td>1</td>\n",
       "      <td>is</td>\n",
       "      <td>54</td>\n",
       "      <td>55</td>\n",
       "      <td>VBZ</td>\n",
       "      <td>O</td>\n",
       "    </tr>\n",
       "    <tr>\n",
       "      <th>13</th>\n",
       "      <td>1</td>\n",
       "      <td>very</td>\n",
       "      <td>57</td>\n",
       "      <td>60</td>\n",
       "      <td>RB</td>\n",
       "      <td>O</td>\n",
       "    </tr>\n",
       "    <tr>\n",
       "      <th>14</th>\n",
       "      <td>1</td>\n",
       "      <td>intersting</td>\n",
       "      <td>62</td>\n",
       "      <td>71</td>\n",
       "      <td>VBG</td>\n",
       "      <td>O</td>\n",
       "    </tr>\n",
       "    <tr>\n",
       "      <th>15</th>\n",
       "      <td>1</td>\n",
       "      <td>.</td>\n",
       "      <td>72</td>\n",
       "      <td>72</td>\n",
       "      <td>.</td>\n",
       "      <td>O</td>\n",
       "    </tr>\n",
       "    <tr>\n",
       "      <th>16</th>\n",
       "      <td>2</td>\n",
       "      <td>John</td>\n",
       "      <td>74</td>\n",
       "      <td>77</td>\n",
       "      <td>NNP</td>\n",
       "      <td>B-PER</td>\n",
       "    </tr>\n",
       "    <tr>\n",
       "      <th>17</th>\n",
       "      <td>2</td>\n",
       "      <td>and</td>\n",
       "      <td>79</td>\n",
       "      <td>81</td>\n",
       "      <td>CC</td>\n",
       "      <td>O</td>\n",
       "    </tr>\n",
       "    <tr>\n",
       "      <th>18</th>\n",
       "      <td>2</td>\n",
       "      <td>Peter</td>\n",
       "      <td>83</td>\n",
       "      <td>87</td>\n",
       "      <td>NNP</td>\n",
       "      <td>B-PER</td>\n",
       "    </tr>\n",
       "    <tr>\n",
       "      <th>19</th>\n",
       "      <td>2</td>\n",
       "      <td>are</td>\n",
       "      <td>89</td>\n",
       "      <td>91</td>\n",
       "      <td>VBP</td>\n",
       "      <td>O</td>\n",
       "    </tr>\n",
       "    <tr>\n",
       "      <th>20</th>\n",
       "      <td>2</td>\n",
       "      <td>brothrs</td>\n",
       "      <td>93</td>\n",
       "      <td>99</td>\n",
       "      <td>NN</td>\n",
       "      <td>O</td>\n",
       "    </tr>\n",
       "    <tr>\n",
       "      <th>21</th>\n",
       "      <td>2</td>\n",
       "      <td>.</td>\n",
       "      <td>100</td>\n",
       "      <td>100</td>\n",
       "      <td>.</td>\n",
       "      <td>O</td>\n",
       "    </tr>\n",
       "    <tr>\n",
       "      <th>22</th>\n",
       "      <td>3</td>\n",
       "      <td>However</td>\n",
       "      <td>102</td>\n",
       "      <td>108</td>\n",
       "      <td>RB</td>\n",
       "      <td>O</td>\n",
       "    </tr>\n",
       "    <tr>\n",
       "      <th>23</th>\n",
       "      <td>3</td>\n",
       "      <td>they</td>\n",
       "      <td>110</td>\n",
       "      <td>113</td>\n",
       "      <td>PRP</td>\n",
       "      <td>O</td>\n",
       "    </tr>\n",
       "    <tr>\n",
       "      <th>24</th>\n",
       "      <td>3</td>\n",
       "      <td>don't</td>\n",
       "      <td>115</td>\n",
       "      <td>119</td>\n",
       "      <td>VBP</td>\n",
       "      <td>O</td>\n",
       "    </tr>\n",
       "    <tr>\n",
       "      <th>25</th>\n",
       "      <td>3</td>\n",
       "      <td>support</td>\n",
       "      <td>121</td>\n",
       "      <td>127</td>\n",
       "      <td>VB</td>\n",
       "      <td>O</td>\n",
       "    </tr>\n",
       "    <tr>\n",
       "      <th>26</th>\n",
       "      <td>3</td>\n",
       "      <td>each</td>\n",
       "      <td>129</td>\n",
       "      <td>132</td>\n",
       "      <td>DT</td>\n",
       "      <td>O</td>\n",
       "    </tr>\n",
       "    <tr>\n",
       "      <th>27</th>\n",
       "      <td>3</td>\n",
       "      <td>other</td>\n",
       "      <td>134</td>\n",
       "      <td>138</td>\n",
       "      <td>JJ</td>\n",
       "      <td>O</td>\n",
       "    </tr>\n",
       "    <tr>\n",
       "      <th>28</th>\n",
       "      <td>3</td>\n",
       "      <td>that</td>\n",
       "      <td>140</td>\n",
       "      <td>143</td>\n",
       "      <td>IN</td>\n",
       "      <td>O</td>\n",
       "    </tr>\n",
       "    <tr>\n",
       "      <th>29</th>\n",
       "      <td>3</td>\n",
       "      <td>much</td>\n",
       "      <td>145</td>\n",
       "      <td>148</td>\n",
       "      <td>JJ</td>\n",
       "      <td>O</td>\n",
       "    </tr>\n",
       "    <tr>\n",
       "      <th>30</th>\n",
       "      <td>3</td>\n",
       "      <td>.</td>\n",
       "      <td>149</td>\n",
       "      <td>149</td>\n",
       "      <td>.</td>\n",
       "      <td>O</td>\n",
       "    </tr>\n",
       "    <tr>\n",
       "      <th>31</th>\n",
       "      <td>4</td>\n",
       "      <td>Mercedes</td>\n",
       "      <td>151</td>\n",
       "      <td>158</td>\n",
       "      <td>NNP</td>\n",
       "      <td>B-ORG</td>\n",
       "    </tr>\n",
       "    <tr>\n",
       "      <th>32</th>\n",
       "      <td>4</td>\n",
       "      <td>Benz</td>\n",
       "      <td>160</td>\n",
       "      <td>163</td>\n",
       "      <td>NNP</td>\n",
       "      <td>I-ORG</td>\n",
       "    </tr>\n",
       "    <tr>\n",
       "      <th>33</th>\n",
       "      <td>4</td>\n",
       "      <td>is</td>\n",
       "      <td>165</td>\n",
       "      <td>166</td>\n",
       "      <td>VBZ</td>\n",
       "      <td>O</td>\n",
       "    </tr>\n",
       "    <tr>\n",
       "      <th>34</th>\n",
       "      <td>4</td>\n",
       "      <td>also</td>\n",
       "      <td>168</td>\n",
       "      <td>171</td>\n",
       "      <td>RB</td>\n",
       "      <td>O</td>\n",
       "    </tr>\n",
       "    <tr>\n",
       "      <th>35</th>\n",
       "      <td>4</td>\n",
       "      <td>working</td>\n",
       "      <td>173</td>\n",
       "      <td>179</td>\n",
       "      <td>VBG</td>\n",
       "      <td>O</td>\n",
       "    </tr>\n",
       "    <tr>\n",
       "      <th>36</th>\n",
       "      <td>4</td>\n",
       "      <td>on</td>\n",
       "      <td>181</td>\n",
       "      <td>182</td>\n",
       "      <td>IN</td>\n",
       "      <td>O</td>\n",
       "    </tr>\n",
       "    <tr>\n",
       "      <th>37</th>\n",
       "      <td>4</td>\n",
       "      <td>a</td>\n",
       "      <td>184</td>\n",
       "      <td>184</td>\n",
       "      <td>DT</td>\n",
       "      <td>O</td>\n",
       "    </tr>\n",
       "    <tr>\n",
       "      <th>38</th>\n",
       "      <td>4</td>\n",
       "      <td>driverless</td>\n",
       "      <td>186</td>\n",
       "      <td>195</td>\n",
       "      <td>JJ</td>\n",
       "      <td>O</td>\n",
       "    </tr>\n",
       "    <tr>\n",
       "      <th>39</th>\n",
       "      <td>4</td>\n",
       "      <td>car</td>\n",
       "      <td>197</td>\n",
       "      <td>199</td>\n",
       "      <td>NN</td>\n",
       "      <td>O</td>\n",
       "    </tr>\n",
       "    <tr>\n",
       "      <th>40</th>\n",
       "      <td>4</td>\n",
       "      <td>.</td>\n",
       "      <td>200</td>\n",
       "      <td>200</td>\n",
       "      <td>.</td>\n",
       "      <td>O</td>\n",
       "    </tr>\n",
       "    <tr>\n",
       "      <th>41</th>\n",
       "      <td>5</td>\n",
       "      <td>Europe</td>\n",
       "      <td>202</td>\n",
       "      <td>207</td>\n",
       "      <td>NNP</td>\n",
       "      <td>B-LOC</td>\n",
       "    </tr>\n",
       "    <tr>\n",
       "      <th>42</th>\n",
       "      <td>5</td>\n",
       "      <td>is</td>\n",
       "      <td>209</td>\n",
       "      <td>210</td>\n",
       "      <td>VBZ</td>\n",
       "      <td>O</td>\n",
       "    </tr>\n",
       "    <tr>\n",
       "      <th>43</th>\n",
       "      <td>5</td>\n",
       "      <td>very</td>\n",
       "      <td>212</td>\n",
       "      <td>215</td>\n",
       "      <td>RB</td>\n",
       "      <td>O</td>\n",
       "    </tr>\n",
       "    <tr>\n",
       "      <th>44</th>\n",
       "      <td>5</td>\n",
       "      <td>culture</td>\n",
       "      <td>217</td>\n",
       "      <td>223</td>\n",
       "      <td>RB</td>\n",
       "      <td>O</td>\n",
       "    </tr>\n",
       "    <tr>\n",
       "      <th>45</th>\n",
       "      <td>5</td>\n",
       "      <td>rich</td>\n",
       "      <td>225</td>\n",
       "      <td>228</td>\n",
       "      <td>JJ</td>\n",
       "      <td>O</td>\n",
       "    </tr>\n",
       "    <tr>\n",
       "      <th>46</th>\n",
       "      <td>5</td>\n",
       "      <td>.</td>\n",
       "      <td>229</td>\n",
       "      <td>229</td>\n",
       "      <td>.</td>\n",
       "      <td>O</td>\n",
       "    </tr>\n",
       "    <tr>\n",
       "      <th>47</th>\n",
       "      <td>6</td>\n",
       "      <td>There</td>\n",
       "      <td>231</td>\n",
       "      <td>235</td>\n",
       "      <td>EX</td>\n",
       "      <td>O</td>\n",
       "    </tr>\n",
       "    <tr>\n",
       "      <th>48</th>\n",
       "      <td>6</td>\n",
       "      <td>are</td>\n",
       "      <td>237</td>\n",
       "      <td>239</td>\n",
       "      <td>VBP</td>\n",
       "      <td>O</td>\n",
       "    </tr>\n",
       "    <tr>\n",
       "      <th>49</th>\n",
       "      <td>6</td>\n",
       "      <td>huge</td>\n",
       "      <td>241</td>\n",
       "      <td>244</td>\n",
       "      <td>JJ</td>\n",
       "      <td>O</td>\n",
       "    </tr>\n",
       "    <tr>\n",
       "      <th>50</th>\n",
       "      <td>6</td>\n",
       "      <td>churches</td>\n",
       "      <td>246</td>\n",
       "      <td>253</td>\n",
       "      <td>NNS</td>\n",
       "      <td>O</td>\n",
       "    </tr>\n",
       "    <tr>\n",
       "      <th>51</th>\n",
       "      <td>6</td>\n",
       "      <td>!</td>\n",
       "      <td>254</td>\n",
       "      <td>254</td>\n",
       "      <td>.</td>\n",
       "      <td>O</td>\n",
       "    </tr>\n",
       "    <tr>\n",
       "      <th>52</th>\n",
       "      <td>7</td>\n",
       "      <td>and</td>\n",
       "      <td>256</td>\n",
       "      <td>258</td>\n",
       "      <td>CC</td>\n",
       "      <td>O</td>\n",
       "    </tr>\n",
       "    <tr>\n",
       "      <th>53</th>\n",
       "      <td>7</td>\n",
       "      <td>big</td>\n",
       "      <td>260</td>\n",
       "      <td>262</td>\n",
       "      <td>JJ</td>\n",
       "      <td>O</td>\n",
       "    </tr>\n",
       "    <tr>\n",
       "      <th>54</th>\n",
       "      <td>7</td>\n",
       "      <td>houses</td>\n",
       "      <td>264</td>\n",
       "      <td>269</td>\n",
       "      <td>NNS</td>\n",
       "      <td>O</td>\n",
       "    </tr>\n",
       "    <tr>\n",
       "      <th>55</th>\n",
       "      <td>7</td>\n",
       "      <td>!</td>\n",
       "      <td>270</td>\n",
       "      <td>270</td>\n",
       "      <td>.</td>\n",
       "      <td>O</td>\n",
       "    </tr>\n",
       "  </tbody>\n",
       "</table>\n",
       "</div>"
      ]
     },
     "metadata": {
      "application/vnd.databricks.v1+output": {
       "addedWidgets": {},
       "arguments": {},
       "data": "<div>\n<style scoped>\n    .dataframe tbody tr th:only-of-type {\n        vertical-align: middle;\n    }\n\n    .dataframe tbody tr th {\n        vertical-align: top;\n    }\n\n    .dataframe thead th {\n        text-align: right;\n    }\n</style>\n<table border=\"1\" class=\"dataframe\">\n  <thead>\n    <tr style=\"text-align: right;\">\n      <th></th>\n      <th>sent_id</th>\n      <th>token</th>\n      <th>start</th>\n      <th>end</th>\n      <th>pos</th>\n      <th>ner</th>\n    </tr>\n  </thead>\n  <tbody>\n    <tr>\n      <th>0</th>\n      <td>0</td>\n      <td>Peter</td>\n      <td>1</td>\n      <td>5</td>\n      <td>NNP</td>\n      <td>B-PER</td>\n    </tr>\n    <tr>\n      <th>1</th>\n      <td>0</td>\n      <td>Parker</td>\n      <td>7</td>\n      <td>12</td>\n      <td>NNP</td>\n      <td>I-PER</td>\n    </tr>\n    <tr>\n      <th>2</th>\n      <td>0</td>\n      <td>is</td>\n      <td>14</td>\n      <td>15</td>\n      <td>VBZ</td>\n      <td>O</td>\n    </tr>\n    <tr>\n      <th>3</th>\n      <td>0</td>\n      <td>a</td>\n      <td>17</td>\n      <td>17</td>\n      <td>DT</td>\n      <td>O</td>\n    </tr>\n    <tr>\n      <th>4</th>\n      <td>0</td>\n      <td>very</td>\n      <td>19</td>\n      <td>22</td>\n      <td>RB</td>\n      <td>O</td>\n    </tr>\n    <tr>\n      <th>5</th>\n      <td>0</td>\n      <td>good</td>\n      <td>24</td>\n      <td>27</td>\n      <td>JJ</td>\n      <td>O</td>\n    </tr>\n    <tr>\n      <th>6</th>\n      <td>0</td>\n      <td>persn</td>\n      <td>29</td>\n      <td>33</td>\n      <td>NN</td>\n      <td>O</td>\n    </tr>\n    <tr>\n      <th>7</th>\n      <td>0</td>\n      <td>.</td>\n      <td>34</td>\n      <td>34</td>\n      <td>.</td>\n      <td>O</td>\n    </tr>\n    <tr>\n      <th>8</th>\n      <td>1</td>\n      <td>My</td>\n      <td>36</td>\n      <td>37</td>\n      <td>PRP$</td>\n      <td>O</td>\n    </tr>\n    <tr>\n      <th>9</th>\n      <td>1</td>\n      <td>life</td>\n      <td>39</td>\n      <td>42</td>\n      <td>NN</td>\n      <td>O</td>\n    </tr>\n    <tr>\n      <th>10</th>\n      <td>1</td>\n      <td>in</td>\n      <td>44</td>\n      <td>45</td>\n      <td>IN</td>\n      <td>O</td>\n    </tr>\n    <tr>\n      <th>11</th>\n      <td>1</td>\n      <td>Russia</td>\n      <td>47</td>\n      <td>52</td>\n      <td>NNP</td>\n      <td>B-LOC</td>\n    </tr>\n    <tr>\n      <th>12</th>\n      <td>1</td>\n      <td>is</td>\n      <td>54</td>\n      <td>55</td>\n      <td>VBZ</td>\n      <td>O</td>\n    </tr>\n    <tr>\n      <th>13</th>\n      <td>1</td>\n      <td>very</td>\n      <td>57</td>\n      <td>60</td>\n      <td>RB</td>\n      <td>O</td>\n    </tr>\n    <tr>\n      <th>14</th>\n      <td>1</td>\n      <td>intersting</td>\n      <td>62</td>\n      <td>71</td>\n      <td>VBG</td>\n      <td>O</td>\n    </tr>\n    <tr>\n      <th>15</th>\n      <td>1</td>\n      <td>.</td>\n      <td>72</td>\n      <td>72</td>\n      <td>.</td>\n      <td>O</td>\n    </tr>\n    <tr>\n      <th>16</th>\n      <td>2</td>\n      <td>John</td>\n      <td>74</td>\n      <td>77</td>\n      <td>NNP</td>\n      <td>B-PER</td>\n    </tr>\n    <tr>\n      <th>17</th>\n      <td>2</td>\n      <td>and</td>\n      <td>79</td>\n      <td>81</td>\n      <td>CC</td>\n      <td>O</td>\n    </tr>\n    <tr>\n      <th>18</th>\n      <td>2</td>\n      <td>Peter</td>\n      <td>83</td>\n      <td>87</td>\n      <td>NNP</td>\n      <td>B-PER</td>\n    </tr>\n    <tr>\n      <th>19</th>\n      <td>2</td>\n      <td>are</td>\n      <td>89</td>\n      <td>91</td>\n      <td>VBP</td>\n      <td>O</td>\n    </tr>\n    <tr>\n      <th>20</th>\n      <td>2</td>\n      <td>brothrs</td>\n      <td>93</td>\n      <td>99</td>\n      <td>NN</td>\n      <td>O</td>\n    </tr>\n    <tr>\n      <th>21</th>\n      <td>2</td>\n      <td>.</td>\n      <td>100</td>\n      <td>100</td>\n      <td>.</td>\n      <td>O</td>\n    </tr>\n    <tr>\n      <th>22</th>\n      <td>3</td>\n      <td>However</td>\n      <td>102</td>\n      <td>108</td>\n      <td>RB</td>\n      <td>O</td>\n    </tr>\n    <tr>\n      <th>23</th>\n      <td>3</td>\n      <td>they</td>\n      <td>110</td>\n      <td>113</td>\n      <td>PRP</td>\n      <td>O</td>\n    </tr>\n    <tr>\n      <th>24</th>\n      <td>3</td>\n      <td>don't</td>\n      <td>115</td>\n      <td>119</td>\n      <td>VBP</td>\n      <td>O</td>\n    </tr>\n    <tr>\n      <th>25</th>\n      <td>3</td>\n      <td>support</td>\n      <td>121</td>\n      <td>127</td>\n      <td>VB</td>\n      <td>O</td>\n    </tr>\n    <tr>\n      <th>26</th>\n      <td>3</td>\n      <td>each</td>\n      <td>129</td>\n      <td>132</td>\n      <td>DT</td>\n      <td>O</td>\n    </tr>\n    <tr>\n      <th>27</th>\n      <td>3</td>\n      <td>other</td>\n      <td>134</td>\n      <td>138</td>\n      <td>JJ</td>\n      <td>O</td>\n    </tr>\n    <tr>\n      <th>28</th>\n      <td>3</td>\n      <td>that</td>\n      <td>140</td>\n      <td>143</td>\n      <td>IN</td>\n      <td>O</td>\n    </tr>\n    <tr>\n      <th>29</th>\n      <td>3</td>\n      <td>much</td>\n      <td>145</td>\n      <td>148</td>\n      <td>JJ</td>\n      <td>O</td>\n    </tr>\n    <tr>\n      <th>30</th>\n      <td>3</td>\n      <td>.</td>\n      <td>149</td>\n      <td>149</td>\n      <td>.</td>\n      <td>O</td>\n    </tr>\n    <tr>\n      <th>31</th>\n      <td>4</td>\n      <td>Mercedes</td>\n      <td>151</td>\n      <td>158</td>\n      <td>NNP</td>\n      <td>B-ORG</td>\n    </tr>\n    <tr>\n      <th>32</th>\n      <td>4</td>\n      <td>Benz</td>\n      <td>160</td>\n      <td>163</td>\n      <td>NNP</td>\n      <td>I-ORG</td>\n    </tr>\n    <tr>\n      <th>33</th>\n      <td>4</td>\n      <td>is</td>\n      <td>165</td>\n      <td>166</td>\n      <td>VBZ</td>\n      <td>O</td>\n    </tr>\n    <tr>\n      <th>34</th>\n      <td>4</td>\n      <td>also</td>\n      <td>168</td>\n      <td>171</td>\n      <td>RB</td>\n      <td>O</td>\n    </tr>\n    <tr>\n      <th>35</th>\n      <td>4</td>\n      <td>working</td>\n      <td>173</td>\n      <td>179</td>\n      <td>VBG</td>\n      <td>O</td>\n    </tr>\n    <tr>\n      <th>36</th>\n      <td>4</td>\n      <td>on</td>\n      <td>181</td>\n      <td>182</td>\n      <td>IN</td>\n      <td>O</td>\n    </tr>\n    <tr>\n      <th>37</th>\n      <td>4</td>\n      <td>a</td>\n      <td>184</td>\n      <td>184</td>\n      <td>DT</td>\n      <td>O</td>\n    </tr>\n    <tr>\n      <th>38</th>\n      <td>4</td>\n      <td>driverless</td>\n      <td>186</td>\n      <td>195</td>\n      <td>JJ</td>\n      <td>O</td>\n    </tr>\n    <tr>\n      <th>39</th>\n      <td>4</td>\n      <td>car</td>\n      <td>197</td>\n      <td>199</td>\n      <td>NN</td>\n      <td>O</td>\n    </tr>\n    <tr>\n      <th>40</th>\n      <td>4</td>\n      <td>.</td>\n      <td>200</td>\n      <td>200</td>\n      <td>.</td>\n      <td>O</td>\n    </tr>\n    <tr>\n      <th>41</th>\n      <td>5</td>\n      <td>Europe</td>\n      <td>202</td>\n      <td>207</td>\n      <td>NNP</td>\n      <td>B-LOC</td>\n    </tr>\n    <tr>\n      <th>42</th>\n      <td>5</td>\n      <td>is</td>\n      <td>209</td>\n      <td>210</td>\n      <td>VBZ</td>\n      <td>O</td>\n    </tr>\n    <tr>\n      <th>43</th>\n      <td>5</td>\n      <td>very</td>\n      <td>212</td>\n      <td>215</td>\n      <td>RB</td>\n      <td>O</td>\n    </tr>\n    <tr>\n      <th>44</th>\n      <td>5</td>\n      <td>culture</td>\n      <td>217</td>\n      <td>223</td>\n      <td>RB</td>\n      <td>O</td>\n    </tr>\n    <tr>\n      <th>45</th>\n      <td>5</td>\n      <td>rich</td>\n      <td>225</td>\n      <td>228</td>\n      <td>JJ</td>\n      <td>O</td>\n    </tr>\n    <tr>\n      <th>46</th>\n      <td>5</td>\n      <td>.</td>\n      <td>229</td>\n      <td>229</td>\n      <td>.</td>\n      <td>O</td>\n    </tr>\n    <tr>\n      <th>47</th>\n      <td>6</td>\n      <td>There</td>\n      <td>231</td>\n      <td>235</td>\n      <td>EX</td>\n      <td>O</td>\n    </tr>\n    <tr>\n      <th>48</th>\n      <td>6</td>\n      <td>are</td>\n      <td>237</td>\n      <td>239</td>\n      <td>VBP</td>\n      <td>O</td>\n    </tr>\n    <tr>\n      <th>49</th>\n      <td>6</td>\n      <td>huge</td>\n      <td>241</td>\n      <td>244</td>\n      <td>JJ</td>\n      <td>O</td>\n    </tr>\n    <tr>\n      <th>50</th>\n      <td>6</td>\n      <td>churches</td>\n      <td>246</td>\n      <td>253</td>\n      <td>NNS</td>\n      <td>O</td>\n    </tr>\n    <tr>\n      <th>51</th>\n      <td>6</td>\n      <td>!</td>\n      <td>254</td>\n      <td>254</td>\n      <td>.</td>\n      <td>O</td>\n    </tr>\n    <tr>\n      <th>52</th>\n      <td>7</td>\n      <td>and</td>\n      <td>256</td>\n      <td>258</td>\n      <td>CC</td>\n      <td>O</td>\n    </tr>\n    <tr>\n      <th>53</th>\n      <td>7</td>\n      <td>big</td>\n      <td>260</td>\n      <td>262</td>\n      <td>JJ</td>\n      <td>O</td>\n    </tr>\n    <tr>\n      <th>54</th>\n      <td>7</td>\n      <td>houses</td>\n      <td>264</td>\n      <td>269</td>\n      <td>NNS</td>\n      <td>O</td>\n    </tr>\n    <tr>\n      <th>55</th>\n      <td>7</td>\n      <td>!</td>\n      <td>270</td>\n      <td>270</td>\n      <td>.</td>\n      <td>O</td>\n    </tr>\n  </tbody>\n</table>\n</div>",
       "datasetInfos": [],
       "removedWidgets": [],
       "textData": null,
       "type": "htmlSandbox"
      }
     },
     "output_type": "display_data"
    }
   ],
   "source": [
    "tuples = []\n",
    "\n",
    "for x,y,z in zip(detailed_result[0][\"token\"], detailed_result[0][\"pos\"], detailed_result[0][\"ner\"]):\n",
    "\n",
    "  tuples.append((int(x.metadata['sentence']), x.result, x.begin, x.end, y.result, z.result))\n",
    "\n",
    "df = pd.DataFrame(tuples, columns=['sent_id','token','start','end','pos', 'ner'])\n",
    "\n",
    "df\n"
   ]
  },
  {
   "cell_type": "markdown",
   "metadata": {
    "application/vnd.databricks.v1+cell": {
     "inputWidgets": {},
     "nuid": "d63258a6-b353-4898-8529-f8cb7aec8ad4",
     "showTitle": false,
     "title": ""
    }
   },
   "source": [
    "### Sentiment Analysis"
   ]
  },
  {
   "cell_type": "code",
   "execution_count": 0,
   "metadata": {
    "application/vnd.databricks.v1+cell": {
     "inputWidgets": {},
     "nuid": "4db14b24-457c-412f-ba70-ecece070cf07",
     "showTitle": false,
     "title": ""
    }
   },
   "outputs": [
    {
     "data": {
      "text/html": [
       "<style scoped>\n",
       "  .ansiout {\n",
       "    display: block;\n",
       "    unicode-bidi: embed;\n",
       "    white-space: pre-wrap;\n",
       "    word-wrap: break-word;\n",
       "    word-break: break-all;\n",
       "    font-family: \"Source Code Pro\", \"Menlo\", monospace;;\n",
       "    font-size: 13px;\n",
       "    color: #555;\n",
       "    margin-left: 4px;\n",
       "    line-height: 19px;\n",
       "  }\n",
       "</style>\n",
       "<div class=\"ansiout\">analyze_sentiment download started this may take some time.\n",
       "Approx size to download 4.9 MB\n",
       "\r",
       "[ | ]\r",
       "[OK!]\n",
       "</div>"
      ]
     },
     "metadata": {
      "application/vnd.databricks.v1+output": {
       "addedWidgets": {},
       "arguments": {},
       "data": "<div class=\"ansiout\">analyze_sentiment download started this may take some time.\nApprox size to download 4.9 MB\n\r[ | ]\r[OK!]\n</div>",
       "datasetInfos": [],
       "removedWidgets": [],
       "type": "html"
      }
     },
     "output_type": "display_data"
    }
   ],
   "source": [
    "sentiment = PretrainedPipeline('analyze_sentiment', lang='en')"
   ]
  },
  {
   "cell_type": "code",
   "execution_count": 0,
   "metadata": {
    "application/vnd.databricks.v1+cell": {
     "inputWidgets": {},
     "nuid": "2f51ca76-8870-47e8-95d1-8a564a966efc",
     "showTitle": false,
     "title": ""
    }
   },
   "outputs": [
    {
     "data": {
      "text/html": [
       "<style scoped>\n",
       "  .ansiout {\n",
       "    display: block;\n",
       "    unicode-bidi: embed;\n",
       "    white-space: pre-wrap;\n",
       "    word-wrap: break-word;\n",
       "    word-break: break-all;\n",
       "    font-family: \"Source Code Pro\", \"Menlo\", monospace;;\n",
       "    font-size: 13px;\n",
       "    color: #555;\n",
       "    margin-left: 4px;\n",
       "    line-height: 19px;\n",
       "  }\n",
       "</style>\n",
       "<div class=\"ansiout\">Out[11]: [&#39;negative&#39;]</div>"
      ]
     },
     "metadata": {
      "application/vnd.databricks.v1+output": {
       "addedWidgets": {},
       "arguments": {},
       "data": "<div class=\"ansiout\">Out[11]: [&#39;negative&#39;]</div>",
       "datasetInfos": [],
       "removedWidgets": [],
       "type": "html"
      }
     },
     "output_type": "display_data"
    }
   ],
   "source": [
    "result = sentiment.annotate(\"The movie I watched today was not a good one\")\n",
    "\n",
    "result['sentiment']"
   ]
  },
  {
   "cell_type": "code",
   "execution_count": 0,
   "metadata": {
    "application/vnd.databricks.v1+cell": {
     "inputWidgets": {},
     "nuid": "ccfccb82-f510-41db-9793-2b09b06b4b02",
     "showTitle": false,
     "title": ""
    }
   },
   "outputs": [
    {
     "data": {
      "text/html": [
       "<style scoped>\n",
       "  .ansiout {\n",
       "    display: block;\n",
       "    unicode-bidi: embed;\n",
       "    white-space: pre-wrap;\n",
       "    word-wrap: break-word;\n",
       "    word-break: break-all;\n",
       "    font-family: \"Source Code Pro\", \"Menlo\", monospace;;\n",
       "    font-size: 13px;\n",
       "    color: #555;\n",
       "    margin-left: 4px;\n",
       "    line-height: 19px;\n",
       "  }\n",
       "</style>\n",
       "<div class=\"ansiout\">analyze_sentimentdl_use_twitter download started this may take some time.\n",
       "Approx size to download 935.1 MB\n",
       "\r",
       "[ | ]\r",
       "[OK!]\n",
       "</div>"
      ]
     },
     "metadata": {
      "application/vnd.databricks.v1+output": {
       "addedWidgets": {},
       "arguments": {},
       "data": "<div class=\"ansiout\">analyze_sentimentdl_use_twitter download started this may take some time.\nApprox size to download 935.1 MB\n\r[ | ]\r[OK!]\n</div>",
       "datasetInfos": [],
       "removedWidgets": [],
       "type": "html"
      }
     },
     "output_type": "display_data"
    }
   ],
   "source": [
    "# DL version (using Universal sentence encoder - USE)\n",
    "# 930 MB as it downloads the USE as well\n",
    "sentiment_twitter = PretrainedPipeline('analyze_sentimentdl_use_twitter', lang='en')"
   ]
  },
  {
   "cell_type": "markdown",
   "metadata": {
    "application/vnd.databricks.v1+cell": {
     "inputWidgets": {},
     "nuid": "a816a594-3d4a-4822-8371-eaae6f325339",
     "showTitle": false,
     "title": ""
    }
   },
   "source": [
    "## Using the modules in a pipeline for custom tasks\n",
    "\n",
    "for a more detailed notebook, see https://github.com/JohnSnowLabs/spark-nlp-workshop/blob/master/tutorials/Certification_Trainings/Public/2.Text_Preprocessing_with_SparkNLP_Annotators_Transformers.ipynb"
   ]
  },
  {
   "cell_type": "code",
   "execution_count": 0,
   "metadata": {
    "application/vnd.databricks.v1+cell": {
     "inputWidgets": {},
     "nuid": "3476bce3-2f31-43d6-b3af-805e1593b548",
     "showTitle": false,
     "title": ""
    }
   },
   "outputs": [
    {
     "data": {
      "text/html": [
       "<style scoped>\n",
       "  .ansiout {\n",
       "    display: block;\n",
       "    unicode-bidi: embed;\n",
       "    white-space: pre-wrap;\n",
       "    word-wrap: break-word;\n",
       "    word-break: break-all;\n",
       "    font-family: \"Source Code Pro\", \"Menlo\", monospace;;\n",
       "    font-size: 13px;\n",
       "    color: #555;\n",
       "    margin-left: 4px;\n",
       "    line-height: 19px;\n",
       "  }\n",
       "</style>\n",
       "<div class=\"ansiout\"></div>"
      ]
     },
     "metadata": {
      "application/vnd.databricks.v1+output": {
       "addedWidgets": {},
       "arguments": {},
       "data": "<div class=\"ansiout\"></div>",
       "datasetInfos": [],
       "removedWidgets": [],
       "type": "html"
      }
     },
     "output_type": "display_data"
    }
   ],
   "source": [
    "!wget -q https://raw.githubusercontent.com/JohnSnowLabs/spark-nlp-workshop/master/jupyter/annotation/english/spark-nlp-basics/sample-sentences-en.txt"
   ]
  },
  {
   "cell_type": "code",
   "execution_count": 0,
   "metadata": {
    "application/vnd.databricks.v1+cell": {
     "inputWidgets": {},
     "nuid": "710195cd-aaa0-45b2-b51b-89b3e16a4c7c",
     "showTitle": false,
     "title": ""
    }
   },
   "outputs": [
    {
     "data": {
      "text/html": [
       "<style scoped>\n",
       "  .ansiout {\n",
       "    display: block;\n",
       "    unicode-bidi: embed;\n",
       "    white-space: pre-wrap;\n",
       "    word-wrap: break-word;\n",
       "    word-break: break-all;\n",
       "    font-family: \"Source Code Pro\", \"Menlo\", monospace;;\n",
       "    font-size: 13px;\n",
       "    color: #555;\n",
       "    margin-left: 4px;\n",
       "    line-height: 19px;\n",
       "  }\n",
       "</style>\n",
       "<div class=\"ansiout\">Peter is a very good person.\n",
       "My life in Russia is very interesting.\n",
       "John and Peter are brothers. However they don&#39;t support each other that much.\n",
       "Lucas Nogal Dunbercker is no longer happy. He has a good car though.\n",
       "Europe is very culture rich. There are huge churches! and big houses!\n",
       "</div>"
      ]
     },
     "metadata": {
      "application/vnd.databricks.v1+output": {
       "addedWidgets": {},
       "arguments": {},
       "data": "<div class=\"ansiout\">Peter is a very good person.\nMy life in Russia is very interesting.\nJohn and Peter are brothers. However they don&#39;t support each other that much.\nLucas Nogal Dunbercker is no longer happy. He has a good car though.\nEurope is very culture rich. There are huge churches! and big houses!\n</div>",
       "datasetInfos": [],
       "removedWidgets": [],
       "type": "html"
      }
     },
     "output_type": "display_data"
    }
   ],
   "source": [
    "with open('sample-sentences-en.txt') as f:\n",
    "  print (f.read())"
   ]
  },
  {
   "cell_type": "code",
   "execution_count": 0,
   "metadata": {
    "application/vnd.databricks.v1+cell": {
     "inputWidgets": {},
     "nuid": "5522929b-5b94-4592-b462-d0af52242c7b",
     "showTitle": false,
     "title": ""
    }
   },
   "outputs": [
    {
     "data": {
      "text/html": [
       "<style scoped>\n",
       "  .ansiout {\n",
       "    display: block;\n",
       "    unicode-bidi: embed;\n",
       "    white-space: pre-wrap;\n",
       "    word-wrap: break-word;\n",
       "    word-break: break-all;\n",
       "    font-family: \"Source Code Pro\", \"Menlo\", monospace;;\n",
       "    font-size: 13px;\n",
       "    color: #555;\n",
       "    margin-left: 4px;\n",
       "    line-height: 19px;\n",
       "  }\n",
       "</style>\n",
       "<div class=\"ansiout\">+-----------------------------------------------------------------------------+\n",
       "text                                                                         |\n",
       "+-----------------------------------------------------------------------------+\n",
       "Peter is a very good person.                                                 |\n",
       "My life in Russia is very interesting.                                       |\n",
       "John and Peter are brothers. However they don&#39;t support each other that much.|\n",
       "Lucas Nogal Dunbercker is no longer happy. He has a good car though.         |\n",
       "Europe is very culture rich. There are huge churches! and big houses!        |\n",
       "+-----------------------------------------------------------------------------+\n",
       "\n",
       "</div>"
      ]
     },
     "metadata": {
      "application/vnd.databricks.v1+output": {
       "addedWidgets": {},
       "arguments": {},
       "data": "<div class=\"ansiout\">+-----------------------------------------------------------------------------+\n|text                                                                         |\n+-----------------------------------------------------------------------------+\n|Peter is a very good person.                                                 |\n|My life in Russia is very interesting.                                       |\n|John and Peter are brothers. However they don&#39;t support each other that much.|\n|Lucas Nogal Dunbercker is no longer happy. He has a good car though.         |\n|Europe is very culture rich. There are huge churches! and big houses!        |\n+-----------------------------------------------------------------------------+\n\n</div>",
       "datasetInfos": [],
       "removedWidgets": [],
       "type": "html"
      }
     },
     "output_type": "display_data"
    }
   ],
   "source": [
    "spark_df = spark.read.text('/sample-sentences-en.txt').toDF('text')\n",
    "\n",
    "spark_df.show(truncate=False)"
   ]
  },
  {
   "cell_type": "code",
   "execution_count": 0,
   "metadata": {
    "application/vnd.databricks.v1+cell": {
     "inputWidgets": {},
     "nuid": "e023fa78-fd8a-4c9e-8a06-c3427d7f1c60",
     "showTitle": false,
     "title": ""
    }
   },
   "outputs": [
    {
     "data": {
      "text/html": [
       "<style scoped>\n",
       "  .ansiout {\n",
       "    display: block;\n",
       "    unicode-bidi: embed;\n",
       "    white-space: pre-wrap;\n",
       "    word-wrap: break-word;\n",
       "    word-break: break-all;\n",
       "    font-family: \"Source Code Pro\", \"Menlo\", monospace;;\n",
       "    font-size: 13px;\n",
       "    color: #555;\n",
       "    margin-left: 4px;\n",
       "    line-height: 19px;\n",
       "  }\n",
       "</style>\n",
       "<div class=\"ansiout\">+-----------------------------+------------------------------+\n",
       "                         path|                          text|\n",
       "+-----------------------------+------------------------------+\n",
       "dbfs:/sample-sentences-en.txt|Peter is a very good person...|\n",
       "+-----------------------------+------------------------------+\n",
       "\n",
       "</div>"
      ]
     },
     "metadata": {
      "application/vnd.databricks.v1+output": {
       "addedWidgets": {},
       "arguments": {},
       "data": "<div class=\"ansiout\">+-----------------------------+------------------------------+\n|                         path|                          text|\n+-----------------------------+------------------------------+\n|dbfs:/sample-sentences-en.txt|Peter is a very good person...|\n+-----------------------------+------------------------------+\n\n</div>",
       "datasetInfos": [],
       "removedWidgets": [],
       "type": "html"
      }
     },
     "output_type": "display_data"
    }
   ],
   "source": [
    "textFiles = spark.sparkContext.wholeTextFiles(\"/sample-sentences-en.txt\",4) # or/*.txt\n",
    "    \n",
    "spark_df_folder = textFiles.toDF(schema=['path','text'])\n",
    "\n",
    "spark_df_folder.show(truncate=30)"
   ]
  },
  {
   "cell_type": "code",
   "execution_count": 0,
   "metadata": {
    "application/vnd.databricks.v1+cell": {
     "inputWidgets": {},
     "nuid": "68d04392-c165-48b2-b535-d46513a0466a",
     "showTitle": false,
     "title": ""
    }
   },
   "outputs": [
    {
     "data": {
      "text/html": [
       "<style scoped>\n",
       "  .ansiout {\n",
       "    display: block;\n",
       "    unicode-bidi: embed;\n",
       "    white-space: pre-wrap;\n",
       "    word-wrap: break-word;\n",
       "    word-break: break-all;\n",
       "    font-family: \"Source Code Pro\", \"Menlo\", monospace;;\n",
       "    font-size: 13px;\n",
       "    color: #555;\n",
       "    margin-left: 4px;\n",
       "    line-height: 19px;\n",
       "  }\n",
       "</style>\n",
       "<div class=\"ansiout\"></div>"
      ]
     },
     "metadata": {
      "application/vnd.databricks.v1+output": {
       "addedWidgets": {},
       "arguments": {},
       "data": "<div class=\"ansiout\"></div>",
       "datasetInfos": [],
       "removedWidgets": [],
       "type": "html"
      }
     },
     "output_type": "display_data"
    }
   ],
   "source": [
    "documentAssembler = DocumentAssembler()\\\n",
    "    .setInputCol(\"text\")\\\n",
    "    .setOutputCol(\"document\")\n",
    "\n",
    "sentenceDetector = SentenceDetector()\\\n",
    "    .setInputCols(['document'])\\\n",
    "    .setOutputCol('sentences')\n",
    "\n",
    "tokenizer = Tokenizer() \\\n",
    "    .setInputCols([\"sentences\"]) \\\n",
    "    .setOutputCol(\"token\")\n",
    "\n",
    "nlpPipeline = Pipeline(stages=[\n",
    "     documentAssembler, \n",
    "     sentenceDetector,\n",
    "     tokenizer\n",
    " ])\n",
    "\n",
    "empty_df = spark.createDataFrame([['']]).toDF(\"text\")\n",
    "\n",
    "pipelineModel = nlpPipeline.fit(empty_df)"
   ]
  },
  {
   "cell_type": "code",
   "execution_count": 0,
   "metadata": {
    "application/vnd.databricks.v1+cell": {
     "inputWidgets": {},
     "nuid": "183a2d9e-b743-4c74-8868-692b1b825f15",
     "showTitle": false,
     "title": ""
    }
   },
   "outputs": [
    {
     "data": {
      "text/html": [
       "<style scoped>\n",
       "  .ansiout {\n",
       "    display: block;\n",
       "    unicode-bidi: embed;\n",
       "    white-space: pre-wrap;\n",
       "    word-wrap: break-word;\n",
       "    word-break: break-all;\n",
       "    font-family: \"Source Code Pro\", \"Menlo\", monospace;;\n",
       "    font-size: 13px;\n",
       "    color: #555;\n",
       "    margin-left: 4px;\n",
       "    line-height: 19px;\n",
       "  }\n",
       "</style>\n",
       "<div class=\"ansiout\"></div>"
      ]
     },
     "metadata": {
      "application/vnd.databricks.v1+output": {
       "addedWidgets": {},
       "arguments": {},
       "data": "<div class=\"ansiout\"></div>",
       "datasetInfos": [],
       "removedWidgets": [],
       "type": "html"
      }
     },
     "output_type": "display_data"
    }
   ],
   "source": [
    "result = pipelineModel.transform(spark_df)\n"
   ]
  },
  {
   "cell_type": "code",
   "execution_count": 0,
   "metadata": {
    "application/vnd.databricks.v1+cell": {
     "inputWidgets": {},
     "nuid": "dfdd55a7-d082-45a4-989c-757f95d34a07",
     "showTitle": false,
     "title": ""
    }
   },
   "outputs": [
    {
     "data": {
      "text/html": [
       "<style scoped>\n",
       "  .ansiout {\n",
       "    display: block;\n",
       "    unicode-bidi: embed;\n",
       "    white-space: pre-wrap;\n",
       "    word-wrap: break-word;\n",
       "    word-break: break-all;\n",
       "    font-family: \"Source Code Pro\", \"Menlo\", monospace;;\n",
       "    font-size: 13px;\n",
       "    color: #555;\n",
       "    margin-left: 4px;\n",
       "    line-height: 19px;\n",
       "  }\n",
       "</style>\n",
       "<div class=\"ansiout\">+--------------------+--------------------+--------------------+--------------------+\n",
       "                text|            document|           sentences|               token|\n",
       "+--------------------+--------------------+--------------------+--------------------+\n",
       "Peter is a very g...|[{document, 0, 27...|[{document, 0, 27...|[{token, 0, 4, Pe...|\n",
       "My life in Russia...|[{document, 0, 37...|[{document, 0, 37...|[{token, 0, 1, My...|\n",
       "John and Peter ar...|[{document, 0, 76...|[{document, 0, 27...|[{token, 0, 3, Jo...|\n",
       "Lucas Nogal Dunbe...|[{document, 0, 67...|[{document, 0, 41...|[{token, 0, 4, Lu...|\n",
       "Europe is very cu...|[{document, 0, 68...|[{document, 0, 27...|[{token, 0, 5, Eu...|\n",
       "+--------------------+--------------------+--------------------+--------------------+\n",
       "\n",
       "</div>"
      ]
     },
     "metadata": {
      "application/vnd.databricks.v1+output": {
       "addedWidgets": {},
       "arguments": {},
       "data": "<div class=\"ansiout\">+--------------------+--------------------+--------------------+--------------------+\n|                text|            document|           sentences|               token|\n+--------------------+--------------------+--------------------+--------------------+\n|Peter is a very g...|[{document, 0, 27...|[{document, 0, 27...|[{token, 0, 4, Pe...|\n|My life in Russia...|[{document, 0, 37...|[{document, 0, 37...|[{token, 0, 1, My...|\n|John and Peter ar...|[{document, 0, 76...|[{document, 0, 27...|[{token, 0, 3, Jo...|\n|Lucas Nogal Dunbe...|[{document, 0, 67...|[{document, 0, 41...|[{token, 0, 4, Lu...|\n|Europe is very cu...|[{document, 0, 68...|[{document, 0, 27...|[{token, 0, 5, Eu...|\n+--------------------+--------------------+--------------------+--------------------+\n\n</div>",
       "datasetInfos": [],
       "removedWidgets": [],
       "type": "html"
      }
     },
     "output_type": "display_data"
    }
   ],
   "source": [
    "result.show(truncate=20)\n"
   ]
  },
  {
   "cell_type": "code",
   "execution_count": 0,
   "metadata": {
    "application/vnd.databricks.v1+cell": {
     "inputWidgets": {},
     "nuid": "fcdad4b5-d786-40ee-8899-a8de17fc2529",
     "showTitle": false,
     "title": ""
    }
   },
   "outputs": [
    {
     "data": {
      "text/html": [
       "<style scoped>\n",
       "  .ansiout {\n",
       "    display: block;\n",
       "    unicode-bidi: embed;\n",
       "    white-space: pre-wrap;\n",
       "    word-wrap: break-word;\n",
       "    word-break: break-all;\n",
       "    font-family: \"Source Code Pro\", \"Menlo\", monospace;;\n",
       "    font-size: 13px;\n",
       "    color: #555;\n",
       "    margin-left: 4px;\n",
       "    line-height: 19px;\n",
       "  }\n",
       "</style>\n",
       "<div class=\"ansiout\">root\n",
       "-- text: string (nullable = true)\n",
       "-- document: array (nullable = true)\n",
       "    |-- element: struct (containsNull = true)\n",
       "    |    |-- annotatorType: string (nullable = true)\n",
       "    |    |-- begin: integer (nullable = false)\n",
       "    |    |-- end: integer (nullable = false)\n",
       "    |    |-- result: string (nullable = true)\n",
       "    |    |-- metadata: map (nullable = true)\n",
       "    |    |    |-- key: string\n",
       "    |    |    |-- value: string (valueContainsNull = true)\n",
       "    |    |-- embeddings: array (nullable = true)\n",
       "    |    |    |-- element: float (containsNull = false)\n",
       "-- sentences: array (nullable = true)\n",
       "    |-- element: struct (containsNull = true)\n",
       "    |    |-- annotatorType: string (nullable = true)\n",
       "    |    |-- begin: integer (nullable = false)\n",
       "    |    |-- end: integer (nullable = false)\n",
       "    |    |-- result: string (nullable = true)\n",
       "    |    |-- metadata: map (nullable = true)\n",
       "    |    |    |-- key: string\n",
       "    |    |    |-- value: string (valueContainsNull = true)\n",
       "    |    |-- embeddings: array (nullable = true)\n",
       "    |    |    |-- element: float (containsNull = false)\n",
       "-- token: array (nullable = true)\n",
       "    |-- element: struct (containsNull = true)\n",
       "    |    |-- annotatorType: string (nullable = true)\n",
       "    |    |-- begin: integer (nullable = false)\n",
       "    |    |-- end: integer (nullable = false)\n",
       "    |    |-- result: string (nullable = true)\n",
       "    |    |-- metadata: map (nullable = true)\n",
       "    |    |    |-- key: string\n",
       "    |    |    |-- value: string (valueContainsNull = true)\n",
       "    |    |-- embeddings: array (nullable = true)\n",
       "    |    |    |-- element: float (containsNull = false)\n",
       "\n",
       "</div>"
      ]
     },
     "metadata": {
      "application/vnd.databricks.v1+output": {
       "addedWidgets": {},
       "arguments": {},
       "data": "<div class=\"ansiout\">root\n |-- text: string (nullable = true)\n |-- document: array (nullable = true)\n |    |-- element: struct (containsNull = true)\n |    |    |-- annotatorType: string (nullable = true)\n |    |    |-- begin: integer (nullable = false)\n |    |    |-- end: integer (nullable = false)\n |    |    |-- result: string (nullable = true)\n |    |    |-- metadata: map (nullable = true)\n |    |    |    |-- key: string\n |    |    |    |-- value: string (valueContainsNull = true)\n |    |    |-- embeddings: array (nullable = true)\n |    |    |    |-- element: float (containsNull = false)\n |-- sentences: array (nullable = true)\n |    |-- element: struct (containsNull = true)\n |    |    |-- annotatorType: string (nullable = true)\n |    |    |-- begin: integer (nullable = false)\n |    |    |-- end: integer (nullable = false)\n |    |    |-- result: string (nullable = true)\n |    |    |-- metadata: map (nullable = true)\n |    |    |    |-- key: string\n |    |    |    |-- value: string (valueContainsNull = true)\n |    |    |-- embeddings: array (nullable = true)\n |    |    |    |-- element: float (containsNull = false)\n |-- token: array (nullable = true)\n |    |-- element: struct (containsNull = true)\n |    |    |-- annotatorType: string (nullable = true)\n |    |    |-- begin: integer (nullable = false)\n |    |    |-- end: integer (nullable = false)\n |    |    |-- result: string (nullable = true)\n |    |    |-- metadata: map (nullable = true)\n |    |    |    |-- key: string\n |    |    |    |-- value: string (valueContainsNull = true)\n |    |    |-- embeddings: array (nullable = true)\n |    |    |    |-- element: float (containsNull = false)\n\n</div>",
       "datasetInfos": [],
       "removedWidgets": [],
       "type": "html"
      }
     },
     "output_type": "display_data"
    }
   ],
   "source": [
    "result.printSchema()\n"
   ]
  },
  {
   "cell_type": "code",
   "execution_count": 0,
   "metadata": {
    "application/vnd.databricks.v1+cell": {
     "inputWidgets": {},
     "nuid": "ce43ca85-f41d-49d4-a509-b70bd93a68c3",
     "showTitle": false,
     "title": ""
    }
   },
   "outputs": [
    {
     "data": {
      "text/html": [
       "<style scoped>\n",
       "  .ansiout {\n",
       "    display: block;\n",
       "    unicode-bidi: embed;\n",
       "    white-space: pre-wrap;\n",
       "    word-wrap: break-word;\n",
       "    word-break: break-all;\n",
       "    font-family: \"Source Code Pro\", \"Menlo\", monospace;;\n",
       "    font-size: 13px;\n",
       "    color: #555;\n",
       "    margin-left: 4px;\n",
       "    line-height: 19px;\n",
       "  }\n",
       "</style>\n",
       "<div class=\"ansiout\">Out[21]: [Row(result=[&#39;Peter is a very good person.&#39;]),\n",
       " Row(result=[&#39;My life in Russia is very interesting.&#39;]),\n",
       " Row(result=[&#39;John and Peter are brothers.&#39;, &#34;However they don&#39;t support each other that much.&#34;])]</div>"
      ]
     },
     "metadata": {
      "application/vnd.databricks.v1+output": {
       "addedWidgets": {},
       "arguments": {},
       "data": "<div class=\"ansiout\">Out[21]: [Row(result=[&#39;Peter is a very good person.&#39;]),\n Row(result=[&#39;My life in Russia is very interesting.&#39;]),\n Row(result=[&#39;John and Peter are brothers.&#39;, &#34;However they don&#39;t support each other that much.&#34;])]</div>",
       "datasetInfos": [],
       "removedWidgets": [],
       "type": "html"
      }
     },
     "output_type": "display_data"
    }
   ],
   "source": [
    "result.select('sentences.result').take(3)\n"
   ]
  },
  {
   "cell_type": "markdown",
   "metadata": {
    "application/vnd.databricks.v1+cell": {
     "inputWidgets": {},
     "nuid": "c763342d-92ad-48ad-b3b0-9ea8ec9b37b6",
     "showTitle": false,
     "title": ""
    }
   },
   "source": [
    "### StopWords Cleaner"
   ]
  },
  {
   "cell_type": "code",
   "execution_count": 0,
   "metadata": {
    "application/vnd.databricks.v1+cell": {
     "inputWidgets": {},
     "nuid": "e7b1b9a0-fcff-49c4-9c6a-c7b722078665",
     "showTitle": false,
     "title": ""
    }
   },
   "outputs": [
    {
     "data": {
      "text/html": [
       "<style scoped>\n",
       "  .ansiout {\n",
       "    display: block;\n",
       "    unicode-bidi: embed;\n",
       "    white-space: pre-wrap;\n",
       "    word-wrap: break-word;\n",
       "    word-break: break-all;\n",
       "    font-family: \"Source Code Pro\", \"Menlo\", monospace;;\n",
       "    font-size: 13px;\n",
       "    color: #555;\n",
       "    margin-left: 4px;\n",
       "    line-height: 19px;\n",
       "  }\n",
       "</style>\n",
       "<div class=\"ansiout\"></div>"
      ]
     },
     "metadata": {
      "application/vnd.databricks.v1+output": {
       "addedWidgets": {},
       "arguments": {},
       "data": "<div class=\"ansiout\"></div>",
       "datasetInfos": [],
       "removedWidgets": [],
       "type": "html"
      }
     },
     "output_type": "display_data"
    }
   ],
   "source": [
    "stopwords_cleaner = StopWordsCleaner()\\\n",
    "      .setInputCols(\"token\")\\\n",
    "      .setOutputCol(\"cleanTokens\")\\\n",
    "      .setCaseSensitive(False)"
   ]
  },
  {
   "cell_type": "code",
   "execution_count": 0,
   "metadata": {
    "application/vnd.databricks.v1+cell": {
     "inputWidgets": {},
     "nuid": "11fdf513-a612-48c5-b570-0951c168f535",
     "showTitle": false,
     "title": ""
    }
   },
   "outputs": [
    {
     "data": {
      "text/html": [
       "<style scoped>\n",
       "  .ansiout {\n",
       "    display: block;\n",
       "    unicode-bidi: embed;\n",
       "    white-space: pre-wrap;\n",
       "    word-wrap: break-word;\n",
       "    word-break: break-all;\n",
       "    font-family: \"Source Code Pro\", \"Menlo\", monospace;;\n",
       "    font-size: 13px;\n",
       "    color: #555;\n",
       "    margin-left: 4px;\n",
       "    line-height: 19px;\n",
       "  }\n",
       "</style>\n",
       "<div class=\"ansiout\">Out[23]: [&#39;i&#39;, &#39;me&#39;, &#39;my&#39;, &#39;myself&#39;, &#39;we&#39;, &#39;our&#39;, &#39;ours&#39;, &#39;ourselves&#39;, &#39;you&#39;, &#39;your&#39;]</div>"
      ]
     },
     "metadata": {
      "application/vnd.databricks.v1+output": {
       "addedWidgets": {},
       "arguments": {},
       "data": "<div class=\"ansiout\">Out[23]: [&#39;i&#39;, &#39;me&#39;, &#39;my&#39;, &#39;myself&#39;, &#39;we&#39;, &#39;our&#39;, &#39;ours&#39;, &#39;ourselves&#39;, &#39;you&#39;, &#39;your&#39;]</div>",
       "datasetInfos": [],
       "removedWidgets": [],
       "type": "html"
      }
     },
     "output_type": "display_data"
    }
   ],
   "source": [
    "stopwords_cleaner.getStopWords()[:10]"
   ]
  },
  {
   "cell_type": "code",
   "execution_count": 0,
   "metadata": {
    "application/vnd.databricks.v1+cell": {
     "inputWidgets": {},
     "nuid": "90343127-7ab2-4ee9-a1db-7147b8deffbd",
     "showTitle": false,
     "title": ""
    }
   },
   "outputs": [
    {
     "data": {
      "text/html": [
       "<style scoped>\n",
       "  .ansiout {\n",
       "    display: block;\n",
       "    unicode-bidi: embed;\n",
       "    white-space: pre-wrap;\n",
       "    word-wrap: break-word;\n",
       "    word-break: break-all;\n",
       "    font-family: \"Source Code Pro\", \"Menlo\", monospace;;\n",
       "    font-size: 13px;\n",
       "    color: #555;\n",
       "    margin-left: 4px;\n",
       "    line-height: 19px;\n",
       "  }\n",
       "</style>\n",
       "<div class=\"ansiout\">+--------------------+--------------------+--------------------+--------------------+\n",
       "                text|            document|               token|         cleanTokens|\n",
       "+--------------------+--------------------+--------------------+--------------------+\n",
       "Peter is a very g...|[{document, 0, 27...|[{token, 0, 4, Pe...|[{token, 0, 4, Pe...|\n",
       "My life in Russia...|[{document, 0, 37...|[{token, 0, 1, My...|[{token, 3, 6, li...|\n",
       "John and Peter ar...|[{document, 0, 76...|[{token, 0, 3, Jo...|[{token, 0, 3, Jo...|\n",
       "Lucas Nogal Dunbe...|[{document, 0, 67...|[{token, 0, 4, Lu...|[{token, 0, 4, Lu...|\n",
       "Europe is very cu...|[{document, 0, 68...|[{token, 0, 5, Eu...|[{token, 0, 5, Eu...|\n",
       "+--------------------+--------------------+--------------------+--------------------+\n",
       "\n",
       "</div>"
      ]
     },
     "metadata": {
      "application/vnd.databricks.v1+output": {
       "addedWidgets": {},
       "arguments": {},
       "data": "<div class=\"ansiout\">+--------------------+--------------------+--------------------+--------------------+\n|                text|            document|               token|         cleanTokens|\n+--------------------+--------------------+--------------------+--------------------+\n|Peter is a very g...|[{document, 0, 27...|[{token, 0, 4, Pe...|[{token, 0, 4, Pe...|\n|My life in Russia...|[{document, 0, 37...|[{token, 0, 1, My...|[{token, 3, 6, li...|\n|John and Peter ar...|[{document, 0, 76...|[{token, 0, 3, Jo...|[{token, 0, 3, Jo...|\n|Lucas Nogal Dunbe...|[{document, 0, 67...|[{token, 0, 4, Lu...|[{token, 0, 4, Lu...|\n|Europe is very cu...|[{document, 0, 68...|[{token, 0, 5, Eu...|[{token, 0, 5, Eu...|\n+--------------------+--------------------+--------------------+--------------------+\n\n</div>",
       "datasetInfos": [],
       "removedWidgets": [],
       "type": "html"
      }
     },
     "output_type": "display_data"
    }
   ],
   "source": [
    "documentAssembler = DocumentAssembler()\\\n",
    "    .setInputCol(\"text\")\\\n",
    "    .setOutputCol(\"document\")\n",
    "\n",
    "tokenizer = Tokenizer() \\\n",
    "    .setInputCols([\"document\"]) \\\n",
    "    .setOutputCol(\"token\")\n",
    "\n",
    "nlpPipeline = Pipeline(stages=[\n",
    "     documentAssembler, \n",
    "     tokenizer,\n",
    "     stopwords_cleaner\n",
    " ])\n",
    "\n",
    "empty_df = spark.createDataFrame([['']]).toDF(\"text\")\n",
    "\n",
    "pipelineModel = nlpPipeline.fit(empty_df)\n",
    "\n",
    "result = pipelineModel.transform(spark_df)\n",
    "\n",
    "result.show()"
   ]
  },
  {
   "cell_type": "code",
   "execution_count": 0,
   "metadata": {
    "application/vnd.databricks.v1+cell": {
     "inputWidgets": {},
     "nuid": "ac339a2c-0905-4f2c-ac78-be97a2113d15",
     "showTitle": false,
     "title": ""
    }
   },
   "outputs": [
    {
     "data": {
      "text/html": [
       "<style scoped>\n",
       "  .ansiout {\n",
       "    display: block;\n",
       "    unicode-bidi: embed;\n",
       "    white-space: pre-wrap;\n",
       "    word-wrap: break-word;\n",
       "    word-break: break-all;\n",
       "    font-family: \"Source Code Pro\", \"Menlo\", monospace;;\n",
       "    font-size: 13px;\n",
       "    color: #555;\n",
       "    margin-left: 4px;\n",
       "    line-height: 19px;\n",
       "  }\n",
       "</style>\n",
       "<div class=\"ansiout\">Out[25]: [Row(result=[&#39;Peter&#39;, &#39;good&#39;, &#39;person&#39;, &#39;.&#39;])]</div>"
      ]
     },
     "metadata": {
      "application/vnd.databricks.v1+output": {
       "addedWidgets": {},
       "arguments": {},
       "data": "<div class=\"ansiout\">Out[25]: [Row(result=[&#39;Peter&#39;, &#39;good&#39;, &#39;person&#39;, &#39;.&#39;])]</div>",
       "datasetInfos": [],
       "removedWidgets": [],
       "type": "html"
      }
     },
     "output_type": "display_data"
    }
   ],
   "source": [
    "result.select('cleanTokens.result').take(1)\n"
   ]
  },
  {
   "cell_type": "markdown",
   "metadata": {
    "application/vnd.databricks.v1+cell": {
     "inputWidgets": {},
     "nuid": "d586db6c-b47a-4aeb-8682-0fd4338dcf63",
     "showTitle": false,
     "title": ""
    }
   },
   "source": [
    "### Text Matcher"
   ]
  },
  {
   "cell_type": "code",
   "execution_count": 0,
   "metadata": {
    "application/vnd.databricks.v1+cell": {
     "inputWidgets": {},
     "nuid": "c2100067-e02a-4777-8c36-eba2c8e76941",
     "showTitle": false,
     "title": ""
    }
   },
   "outputs": [
    {
     "data": {
      "text/html": [
       "<style scoped>\n",
       "  .ansiout {\n",
       "    display: block;\n",
       "    unicode-bidi: embed;\n",
       "    white-space: pre-wrap;\n",
       "    word-wrap: break-word;\n",
       "    word-break: break-all;\n",
       "    font-family: \"Source Code Pro\", \"Menlo\", monospace;;\n",
       "    font-size: 13px;\n",
       "    color: #555;\n",
       "    margin-left: 4px;\n",
       "    line-height: 19px;\n",
       "  }\n",
       "</style>\n",
       "<div class=\"ansiout\"></div>"
      ]
     },
     "metadata": {
      "application/vnd.databricks.v1+output": {
       "addedWidgets": {},
       "arguments": {},
       "data": "<div class=\"ansiout\"></div>",
       "datasetInfos": [],
       "removedWidgets": [],
       "type": "html"
      }
     },
     "output_type": "display_data"
    }
   ],
   "source": [
    "! wget -q https://raw.githubusercontent.com/JohnSnowLabs/spark-nlp-workshop/master/tutorials/Certification_Trainings/Public/data/news_category_train.csv\n",
    "\n",
    "news_df = spark.read \\\n",
    "      .option(\"header\", True) \\\n",
    "      .csv(\"/news_category_train.csv\")\n"
   ]
  },
  {
   "cell_type": "code",
   "execution_count": 0,
   "metadata": {
    "application/vnd.databricks.v1+cell": {
     "inputWidgets": {},
     "nuid": "90b52805-217a-4c8f-8895-494cc7e16a67",
     "showTitle": false,
     "title": ""
    }
   },
   "outputs": [
    {
     "data": {
      "text/html": [
       "<style scoped>\n",
       "  .ansiout {\n",
       "    display: block;\n",
       "    unicode-bidi: embed;\n",
       "    white-space: pre-wrap;\n",
       "    word-wrap: break-word;\n",
       "    word-break: break-all;\n",
       "    font-family: \"Source Code Pro\", \"Menlo\", monospace;;\n",
       "    font-size: 13px;\n",
       "    color: #555;\n",
       "    margin-left: 4px;\n",
       "    line-height: 19px;\n",
       "  }\n",
       "</style>\n",
       "<div class=\"ansiout\">+--------+--------------------------------------------------+\n",
       "category|                                       description|\n",
       "+--------+--------------------------------------------------+\n",
       "Business| Short sellers, Wall Street&#39;s dwindling band of...|\n",
       "Business| Private investment firm Carlyle Group, which h...|\n",
       "Business| Soaring crude prices plus worries about the ec...|\n",
       "Business| Authorities have halted oil export flows from ...|\n",
       "Business| Tearaway world oil prices, toppling records an...|\n",
       "+--------+--------------------------------------------------+\n",
       "only showing top 5 rows\n",
       "\n",
       "</div>"
      ]
     },
     "metadata": {
      "application/vnd.databricks.v1+output": {
       "addedWidgets": {},
       "arguments": {},
       "data": "<div class=\"ansiout\">+--------+--------------------------------------------------+\n|category|                                       description|\n+--------+--------------------------------------------------+\n|Business| Short sellers, Wall Street&#39;s dwindling band of...|\n|Business| Private investment firm Carlyle Group, which h...|\n|Business| Soaring crude prices plus worries about the ec...|\n|Business| Authorities have halted oil export flows from ...|\n|Business| Tearaway world oil prices, toppling records an...|\n+--------+--------------------------------------------------+\nonly showing top 5 rows\n\n</div>",
       "datasetInfos": [],
       "removedWidgets": [],
       "type": "html"
      }
     },
     "output_type": "display_data"
    }
   ],
   "source": [
    "news_df.show(5, truncate=50)"
   ]
  },
  {
   "cell_type": "code",
   "execution_count": 0,
   "metadata": {
    "application/vnd.databricks.v1+cell": {
     "inputWidgets": {},
     "nuid": "2a9bac6e-3570-4c69-8ced-91bf318b1415",
     "showTitle": false,
     "title": ""
    }
   },
   "outputs": [
    {
     "data": {
      "text/html": [
       "<style scoped>\n",
       "  .ansiout {\n",
       "    display: block;\n",
       "    unicode-bidi: embed;\n",
       "    white-space: pre-wrap;\n",
       "    word-wrap: break-word;\n",
       "    word-break: break-all;\n",
       "    font-family: \"Source Code Pro\", \"Menlo\", monospace;;\n",
       "    font-size: 13px;\n",
       "    color: #555;\n",
       "    margin-left: 4px;\n",
       "    line-height: 19px;\n",
       "  }\n",
       "</style>\n",
       "<div class=\"ansiout\"></div>"
      ]
     },
     "metadata": {
      "application/vnd.databricks.v1+output": {
       "addedWidgets": {},
       "arguments": {},
       "data": "<div class=\"ansiout\"></div>",
       "datasetInfos": [],
       "removedWidgets": [],
       "type": "html"
      }
     },
     "output_type": "display_data"
    }
   ],
   "source": [
    "entities = ['Wall Street', 'USD', 'stock', 'NYSE']\n",
    "with open ('financial_entities.txt', 'w') as f:\n",
    "    for i in entities:\n",
    "        f.write(i+'\\n')\n",
    "\n",
    "\n",
    "entities = ['soccer', 'world cup', 'Messi', 'FC Barcelona']\n",
    "with open ('sport_entities.txt', 'w') as f:\n",
    "    for i in entities:\n",
    "        f.write(i+'\\n')\n"
   ]
  },
  {
   "cell_type": "code",
   "execution_count": 0,
   "metadata": {
    "application/vnd.databricks.v1+cell": {
     "inputWidgets": {},
     "nuid": "7eb198c8-fe4b-40ce-bb46-08c549904c9a",
     "showTitle": false,
     "title": ""
    }
   },
   "outputs": [
    {
     "data": {
      "text/html": [
       "<style scoped>\n",
       "  .ansiout {\n",
       "    display: block;\n",
       "    unicode-bidi: embed;\n",
       "    white-space: pre-wrap;\n",
       "    word-wrap: break-word;\n",
       "    word-break: break-all;\n",
       "    font-family: \"Source Code Pro\", \"Menlo\", monospace;;\n",
       "    font-size: 13px;\n",
       "    color: #555;\n",
       "    margin-left: 4px;\n",
       "    line-height: 19px;\n",
       "  }\n",
       "</style>\n",
       "<div class=\"ansiout\">Out[29]: True</div>"
      ]
     },
     "metadata": {
      "application/vnd.databricks.v1+output": {
       "addedWidgets": {},
       "arguments": {},
       "data": "<div class=\"ansiout\">Out[29]: True</div>",
       "datasetInfos": [],
       "removedWidgets": [],
       "type": "html"
      }
     },
     "output_type": "display_data"
    }
   ],
   "source": [
    "dbutils.fs.cp(\"file:/databricks/driver/financial_entities.txt\", \"dbfs:/\")\n",
    "dbutils.fs.cp(\"file:/databricks/driver/sport_entities.txt\", \"dbfs:/\")"
   ]
  },
  {
   "cell_type": "code",
   "execution_count": 0,
   "metadata": {
    "application/vnd.databricks.v1+cell": {
     "inputWidgets": {},
     "nuid": "a46bfc65-0d9b-4017-833c-60c1f32e3720",
     "showTitle": false,
     "title": ""
    }
   },
   "outputs": [
    {
     "data": {
      "text/html": [
       "<style scoped>\n",
       "  .ansiout {\n",
       "    display: block;\n",
       "    unicode-bidi: embed;\n",
       "    white-space: pre-wrap;\n",
       "    word-wrap: break-word;\n",
       "    word-break: break-all;\n",
       "    font-family: \"Source Code Pro\", \"Menlo\", monospace;;\n",
       "    font-size: 13px;\n",
       "    color: #555;\n",
       "    margin-left: 4px;\n",
       "    line-height: 19px;\n",
       "  }\n",
       "</style>\n",
       "<div class=\"ansiout\"></div>"
      ]
     },
     "metadata": {
      "application/vnd.databricks.v1+output": {
       "addedWidgets": {},
       "arguments": {},
       "data": "<div class=\"ansiout\"></div>",
       "datasetInfos": [],
       "removedWidgets": [],
       "type": "html"
      }
     },
     "output_type": "display_data"
    }
   ],
   "source": [
    "documentAssembler = DocumentAssembler()\\\n",
    "    .setInputCol(\"description\")\\\n",
    "    .setOutputCol(\"document\")\n",
    "\n",
    "tokenizer = Tokenizer() \\\n",
    "    .setInputCols([\"document\"]) \\\n",
    "    .setOutputCol(\"token\")\n",
    "\n",
    "financial_entity_extractor = TextMatcher() \\\n",
    "    .setInputCols([\"document\",'token'])\\\n",
    "    .setOutputCol(\"financial_entities\")\\\n",
    "    .setEntities(\"file:/databricks/driver/financial_entities.txt\")\\\n",
    "    .setCaseSensitive(False)\\\n",
    "    .setEntityValue('financial_entity')\n",
    "\n",
    "sport_entity_extractor = TextMatcher() \\\n",
    "    .setInputCols([\"document\",'token'])\\\n",
    "    .setOutputCol(\"sport_entities\")\\\n",
    "    .setEntities(\"file:/databricks/driver/sport_entities.txt\")\\\n",
    "    .setCaseSensitive(False)\\\n",
    "    .setEntityValue('sport_entity')\n",
    "\n",
    "\n",
    "nlpPipeline = Pipeline(stages=[\n",
    "     documentAssembler, \n",
    "     tokenizer,\n",
    "     financial_entity_extractor,\n",
    "     sport_entity_extractor\n",
    " ])\n",
    "\n",
    "empty_df = spark.createDataFrame([['']]).toDF(\"description\")\n",
    "\n",
    "pipelineModel = nlpPipeline.fit(empty_df)"
   ]
  },
  {
   "cell_type": "code",
   "execution_count": 0,
   "metadata": {
    "application/vnd.databricks.v1+cell": {
     "inputWidgets": {},
     "nuid": "4d9c7be8-0d53-493f-9094-4dff6e91864e",
     "showTitle": false,
     "title": ""
    }
   },
   "outputs": [
    {
     "data": {
      "text/html": [
       "<style scoped>\n",
       "  .ansiout {\n",
       "    display: block;\n",
       "    unicode-bidi: embed;\n",
       "    white-space: pre-wrap;\n",
       "    word-wrap: break-word;\n",
       "    word-break: break-all;\n",
       "    font-family: \"Source Code Pro\", \"Menlo\", monospace;;\n",
       "    font-size: 13px;\n",
       "    color: #555;\n",
       "    margin-left: 4px;\n",
       "    line-height: 19px;\n",
       "  }\n",
       "</style>\n",
       "<div class=\"ansiout\"></div>"
      ]
     },
     "metadata": {
      "application/vnd.databricks.v1+output": {
       "addedWidgets": {},
       "arguments": {},
       "data": "<div class=\"ansiout\"></div>",
       "datasetInfos": [],
       "removedWidgets": [],
       "type": "html"
      }
     },
     "output_type": "display_data"
    }
   ],
   "source": [
    "result = pipelineModel.transform(news_df)\n"
   ]
  },
  {
   "cell_type": "code",
   "execution_count": 0,
   "metadata": {
    "application/vnd.databricks.v1+cell": {
     "inputWidgets": {},
     "nuid": "85cb542f-43b8-40e7-9c49-3627e28f93c6",
     "showTitle": false,
     "title": ""
    }
   },
   "outputs": [
    {
     "data": {
      "text/html": [
       "<style scoped>\n",
       "  .ansiout {\n",
       "    display: block;\n",
       "    unicode-bidi: embed;\n",
       "    white-space: pre-wrap;\n",
       "    word-wrap: break-word;\n",
       "    word-break: break-all;\n",
       "    font-family: \"Source Code Pro\", \"Menlo\", monospace;;\n",
       "    font-size: 13px;\n",
       "    color: #555;\n",
       "    margin-left: 4px;\n",
       "    line-height: 19px;\n",
       "  }\n",
       "</style>\n",
       "<div class=\"ansiout\">Out[32]: [Row(result=[], result=[]), Row(result=[], result=[])]</div>"
      ]
     },
     "metadata": {
      "application/vnd.databricks.v1+output": {
       "addedWidgets": {},
       "arguments": {},
       "data": "<div class=\"ansiout\">Out[32]: [Row(result=[], result=[]), Row(result=[], result=[])]</div>",
       "datasetInfos": [],
       "removedWidgets": [],
       "type": "html"
      }
     },
     "output_type": "display_data"
    }
   ],
   "source": [
    "result.select('financial_entities.result','sport_entities.result').take(2)\n"
   ]
  },
  {
   "cell_type": "code",
   "execution_count": 0,
   "metadata": {
    "application/vnd.databricks.v1+cell": {
     "inputWidgets": {},
     "nuid": "09bdca39-877d-4118-8017-ebadd6cff957",
     "showTitle": false,
     "title": ""
    }
   },
   "outputs": [
    {
     "data": {
      "text/html": [
       "<style scoped>\n",
       "  .ansiout {\n",
       "    display: block;\n",
       "    unicode-bidi: embed;\n",
       "    white-space: pre-wrap;\n",
       "    word-wrap: break-word;\n",
       "    word-break: break-all;\n",
       "    font-family: \"Source Code Pro\", \"Menlo\", monospace;;\n",
       "    font-size: 13px;\n",
       "    color: #555;\n",
       "    margin-left: 4px;\n",
       "    line-height: 19px;\n",
       "  }\n",
       "</style>\n",
       "<div class=\"ansiout\">+----------------------------------------------------------------------+----------------------------------+-------------------+\n",
       "                                                                  text|                 financial_matches|      sport_matches|\n",
       "+----------------------------------------------------------------------+----------------------------------+-------------------+\n",
       "&#34;Company launched the biggest electronic auction of stock in Wall S...|              [stock, Wall Street]|                 []|\n",
       "Google, Inc. significantly cut the expected share price for its ini...|                    [stock, stock]|                 []|\n",
       "Google, Inc. significantly cut the expected share price this mornin...|                    [stock, stock]|                 []|\n",
       " Shares of Air Canada  (AC.TO) fell by more than half on Wednesday,...|                    [Stock, stock]|                 []|\n",
       "Stock prices are lower in moderate trading. The Dow Jones Industria...|                    [Stock, Stock]|                 []|\n",
       "The bad news just keeps pouring in for mutual fund manager Janus Ca...|                      [NYSE, NYSE]|                 []|\n",
       "  Shaun Wright Phillips scored in his international debut as Englan...|                                []|[soccer, World Cup]|\n",
       "NEWCASTLE, ENGLAND - England deservedly beat Ukraine 3-0 today in t...|                                []|[soccer, World Cup]|\n",
       "MONTREAL (Reuters) - Shares of Air Canada (AC.TO: Quote, Profile, R...|                    [Stock, stock]|                 []|\n",
       "&#34;SAN JOSE, California - On the cusp of its voyage into public tradi...|[stock, Wall Street, stock, Stock]|                 []|\n",
       "&#34;Shortly before noon today, Google Inc. stock began trading under t...|                    [stock, stock]|                 []|\n",
       "roundup Plus: EA to take World Cup soccer to Xbox...IBM chalks up t...|                                []|[World Cup, soccer]|\n",
       "The U.S. Securities and Exchange Commission yesterday approved Goog...|                    [stock, stock]|                 []|\n",
       "After a bumpy ride toward becoming a publicly traded company, Googl...|                    [stock, stock]|                 []|\n",
       "In the most highly anticipated Wall Street debut since the heady da...|              [Wall Street, stock]|                 []|\n",
       "NEW YORK Despite voluble skepticism among investors, Google #39;s s...|                    [stock, stock]|                 []|\n",
       "If only the rest of my investments worked out this way. One week ag...|                    [stock, stock]|                 []|\n",
       " U.S. stocks to watch: GOOGLE INC. (GOOG.O) Google shares jumped 18...|                    [stock, stock]|                 []|\n",
       "&#34; U.S. stocks to watch: GOOGLE INC.  &amp;lt;A HREF=&#34;&#34;http://www.invest...|                    [stock, stock]|                 []|\n",
       "roundup Plus: KDE updates Linux desktop...EA to take World Cup socc...|                                []|[World Cup, soccer]|\n",
       "+----------------------------------------------------------------------+----------------------------------+-------------------+\n",
       "only showing top 20 rows\n",
       "\n",
       "</div>"
      ]
     },
     "metadata": {
      "application/vnd.databricks.v1+output": {
       "addedWidgets": {},
       "arguments": {},
       "data": "<div class=\"ansiout\">+----------------------------------------------------------------------+----------------------------------+-------------------+\n|                                                                  text|                 financial_matches|      sport_matches|\n+----------------------------------------------------------------------+----------------------------------+-------------------+\n|&#34;Company launched the biggest electronic auction of stock in Wall S...|              [stock, Wall Street]|                 []|\n|Google, Inc. significantly cut the expected share price for its ini...|                    [stock, stock]|                 []|\n|Google, Inc. significantly cut the expected share price this mornin...|                    [stock, stock]|                 []|\n| Shares of Air Canada  (AC.TO) fell by more than half on Wednesday,...|                    [Stock, stock]|                 []|\n|Stock prices are lower in moderate trading. The Dow Jones Industria...|                    [Stock, Stock]|                 []|\n|The bad news just keeps pouring in for mutual fund manager Janus Ca...|                      [NYSE, NYSE]|                 []|\n|  Shaun Wright Phillips scored in his international debut as Englan...|                                []|[soccer, World Cup]|\n|NEWCASTLE, ENGLAND - England deservedly beat Ukraine 3-0 today in t...|                                []|[soccer, World Cup]|\n|MONTREAL (Reuters) - Shares of Air Canada (AC.TO: Quote, Profile, R...|                    [Stock, stock]|                 []|\n|&#34;SAN JOSE, California - On the cusp of its voyage into public tradi...|[stock, Wall Street, stock, Stock]|                 []|\n|&#34;Shortly before noon today, Google Inc. stock began trading under t...|                    [stock, stock]|                 []|\n|roundup Plus: EA to take World Cup soccer to Xbox...IBM chalks up t...|                                []|[World Cup, soccer]|\n|The U.S. Securities and Exchange Commission yesterday approved Goog...|                    [stock, stock]|                 []|\n|After a bumpy ride toward becoming a publicly traded company, Googl...|                    [stock, stock]|                 []|\n|In the most highly anticipated Wall Street debut since the heady da...|              [Wall Street, stock]|                 []|\n|NEW YORK Despite voluble skepticism among investors, Google #39;s s...|                    [stock, stock]|                 []|\n|If only the rest of my investments worked out this way. One week ag...|                    [stock, stock]|                 []|\n| U.S. stocks to watch: GOOGLE INC. (GOOG.O) Google shares jumped 18...|                    [stock, stock]|                 []|\n|&#34; U.S. stocks to watch: GOOGLE INC.  &amp;lt;A HREF=&#34;&#34;http://www.invest...|                    [stock, stock]|                 []|\n|roundup Plus: KDE updates Linux desktop...EA to take World Cup socc...|                                []|[World Cup, soccer]|\n+----------------------------------------------------------------------+----------------------------------+-------------------+\nonly showing top 20 rows\n\n</div>",
       "datasetInfos": [],
       "removedWidgets": [],
       "type": "html"
      }
     },
     "output_type": "display_data"
    }
   ],
   "source": [
    "from pyspark.sql import functions as F\n",
    "result.select('description','financial_entities.result','sport_entities.result')\\\n",
    ".toDF('text','financial_matches','sport_matches').filter((F.size('financial_matches')>1) | (F.size('sport_matches')>1))\\\n",
    ".show(truncate=70)\n"
   ]
  },
  {
   "cell_type": "markdown",
   "metadata": {
    "application/vnd.databricks.v1+cell": {
     "inputWidgets": {},
     "nuid": "5cfabadc-d722-4b3c-8929-01bf9883038c",
     "showTitle": false,
     "title": ""
    }
   },
   "source": [
    "### Using the pipeline in a LightPipeline"
   ]
  },
  {
   "cell_type": "code",
   "execution_count": 0,
   "metadata": {
    "application/vnd.databricks.v1+cell": {
     "inputWidgets": {},
     "nuid": "35d76dcf-1ffc-4c12-979e-02928adc9392",
     "showTitle": false,
     "title": ""
    }
   },
   "outputs": [
    {
     "data": {
      "text/html": [
       "<style scoped>\n",
       "  .ansiout {\n",
       "    display: block;\n",
       "    unicode-bidi: embed;\n",
       "    white-space: pre-wrap;\n",
       "    word-wrap: break-word;\n",
       "    word-break: break-all;\n",
       "    font-family: \"Source Code Pro\", \"Menlo\", monospace;;\n",
       "    font-size: 13px;\n",
       "    color: #555;\n",
       "    margin-left: 4px;\n",
       "    line-height: 19px;\n",
       "  }\n",
       "</style>\n",
       "<div class=\"ansiout\">Out[34]: [Annotation(chunk, 64, 68, stock, {&#39;entity&#39;: &#39;financial_entity&#39;, &#39;sentence&#39;: &#39;0&#39;, &#39;chunk&#39;: &#39;0&#39;}),\n",
       " Annotation(chunk, 73, 83, Wall Street, {&#39;entity&#39;: &#39;financial_entity&#39;, &#39;sentence&#39;: &#39;0&#39;, &#39;chunk&#39;: &#39;1&#39;})]</div>"
      ]
     },
     "metadata": {
      "application/vnd.databricks.v1+output": {
       "addedWidgets": {},
       "arguments": {},
       "data": "<div class=\"ansiout\">Out[34]: [Annotation(chunk, 64, 68, stock, {&#39;entity&#39;: &#39;financial_entity&#39;, &#39;sentence&#39;: &#39;0&#39;, &#39;chunk&#39;: &#39;0&#39;}),\n Annotation(chunk, 73, 83, Wall Street, {&#39;entity&#39;: &#39;financial_entity&#39;, &#39;sentence&#39;: &#39;0&#39;, &#39;chunk&#39;: &#39;1&#39;})]</div>",
       "datasetInfos": [],
       "removedWidgets": [],
       "type": "html"
      }
     },
     "output_type": "display_data"
    }
   ],
   "source": [
    "light_model = LightPipeline(pipelineModel)\n",
    "\n",
    "light_result = light_model.fullAnnotate(\"Google, Inc. significantly cut the expected share price for its stock at Wall Street\")\n",
    "\n",
    "light_result[0]['financial_entities']"
   ]
  },
  {
   "cell_type": "markdown",
   "metadata": {
    "application/vnd.databricks.v1+cell": {
     "inputWidgets": {},
     "nuid": "32d547ce-58de-42cf-ac1d-0950931431f5",
     "showTitle": false,
     "title": ""
    }
   },
   "source": [
    "## Pretrained Models"
   ]
  },
  {
   "cell_type": "markdown",
   "metadata": {
    "application/vnd.databricks.v1+cell": {
     "inputWidgets": {},
     "nuid": "18994261-03bb-48eb-828b-cce3ed6dab61",
     "showTitle": false,
     "title": ""
    }
   },
   "source": [
    "Spark NLP offers the following pre-trained models in around **40 languages** and all you need to do is to load the pre-trained model into your disk by specifying the model name and then configuring the model parameters as per your use case and dataset. Then you will not need to worry about training a new model from scratch and will be able to enjoy the pre-trained SOTA algorithms directly applied to your own data with transform().\n",
    "\n",
    "In the official documentation, you can find detailed information regarding how these models are trained by using which algorithms and datasets.\n",
    "\n",
    "https://github.com/JohnSnowLabs/spark-nlp-models"
   ]
  },
  {
   "cell_type": "markdown",
   "metadata": {
    "application/vnd.databricks.v1+cell": {
     "inputWidgets": {},
     "nuid": "97c3453a-75df-490f-9401-1fe210e15f7a",
     "showTitle": false,
     "title": ""
    }
   },
   "source": [
    "for a more detailed notebook, see https://github.com/JohnSnowLabs/spark-nlp-workshop/blob/master/tutorials/Certification_Trainings/Public/3.SparkNLP_Pretrained_Models.ipynb"
   ]
  },
  {
   "cell_type": "markdown",
   "metadata": {
    "application/vnd.databricks.v1+cell": {
     "inputWidgets": {},
     "nuid": "989f4646-45d7-4a6e-aebe-3502798e7c8f",
     "showTitle": false,
     "title": ""
    }
   },
   "source": [
    "### LemmatizerModel and ContextSpellCheckerModel"
   ]
  },
  {
   "cell_type": "code",
   "execution_count": 0,
   "metadata": {
    "application/vnd.databricks.v1+cell": {
     "inputWidgets": {},
     "nuid": "4e8ab7e7-8f6f-487e-8f38-3391c29ef9af",
     "showTitle": false,
     "title": ""
    }
   },
   "outputs": [
    {
     "data": {
      "text/html": [
       "<style scoped>\n",
       "  .ansiout {\n",
       "    display: block;\n",
       "    unicode-bidi: embed;\n",
       "    white-space: pre-wrap;\n",
       "    word-wrap: break-word;\n",
       "    word-break: break-all;\n",
       "    font-family: \"Source Code Pro\", \"Menlo\", monospace;;\n",
       "    font-size: 13px;\n",
       "    color: #555;\n",
       "    margin-left: 4px;\n",
       "    line-height: 19px;\n",
       "  }\n",
       "</style>\n",
       "<div class=\"ansiout\">spellcheck_dl download started this may take some time.\n",
       "Approximate size to download 111.4 MB\n",
       "\r",
       "[ | ]\r",
       "[OK!]\n",
       "lemma_antbnc download started this may take some time.\n",
       "Approximate size to download 907.6 KB\n",
       "\r",
       "[ | ]\r",
       "[OK!]\n",
       "</div>"
      ]
     },
     "metadata": {
      "application/vnd.databricks.v1+output": {
       "addedWidgets": {},
       "arguments": {},
       "data": "<div class=\"ansiout\">spellcheck_dl download started this may take some time.\nApproximate size to download 111.4 MB\n\r[ | ]\r[OK!]\nlemma_antbnc download started this may take some time.\nApproximate size to download 907.6 KB\n\r[ | ]\r[OK!]\n</div>",
       "datasetInfos": [],
       "removedWidgets": [],
       "type": "html"
      }
     },
     "output_type": "display_data"
    }
   ],
   "source": [
    "documentAssembler = DocumentAssembler()\\\n",
    "    .setInputCol(\"text\")\\\n",
    "    .setOutputCol(\"document\")\n",
    "\n",
    "tokenizer = Tokenizer() \\\n",
    "    .setInputCols([\"document\"]) \\\n",
    "    .setOutputCol(\"token\")\n",
    "\n",
    "spellModel = ContextSpellCheckerModel\\\n",
    "    .pretrained('spellcheck_dl')\\\n",
    "    .setInputCols(\"token\")\\\n",
    "    .setOutputCol(\"checked\")\n",
    "\n",
    "lemmatizer = LemmatizerModel.pretrained('lemma_antbnc', 'en') \\\n",
    "    .setInputCols([\"checked\"]) \\\n",
    "    .setOutputCol(\"lemma\")\n",
    "\n",
    "pipeline = Pipeline(stages = [\n",
    "    documentAssembler,\n",
    "    tokenizer,\n",
    "    spellModel,\n",
    "    lemmatizer\n",
    "  ])\n",
    "\n",
    "empty_ds = spark.createDataFrame([[\"\"]]).toDF(\"text\")\n",
    "\n",
    "sc_model = pipeline.fit(empty_ds)\n",
    "\n",
    "lp = LightPipeline(sc_model)"
   ]
  },
  {
   "cell_type": "code",
   "execution_count": 0,
   "metadata": {
    "application/vnd.databricks.v1+cell": {
     "inputWidgets": {},
     "nuid": "0fdab1dc-f0bf-4ec0-8164-23aafe140c09",
     "showTitle": false,
     "title": ""
    }
   },
   "outputs": [
    {
     "data": {
      "text/html": [
       "<style scoped>\n",
       "  .ansiout {\n",
       "    display: block;\n",
       "    unicode-bidi: embed;\n",
       "    white-space: pre-wrap;\n",
       "    word-wrap: break-word;\n",
       "    word-break: break-all;\n",
       "    font-family: \"Source Code Pro\", \"Menlo\", monospace;;\n",
       "    font-size: 13px;\n",
       "    color: #555;\n",
       "    margin-left: 4px;\n",
       "    line-height: 19px;\n",
       "  }\n",
       "</style>\n",
       "<div class=\"ansiout\">Out[36]: [(&#39;Plaese&#39;, &#39;Please&#39;, &#39;Please&#39;),\n",
       " (&#39;alliow&#39;, &#39;allow&#39;, &#39;allow&#39;),\n",
       " (&#39;me&#39;, &#39;me&#39;, &#39;i&#39;),\n",
       " (&#39;tao&#39;, &#39;to&#39;, &#39;to&#39;),\n",
       " (&#39;introdduce&#39;, &#39;introduce&#39;, &#39;introduce&#39;),\n",
       " (&#39;myhelf&#39;, &#39;myself&#39;, &#39;myself&#39;),\n",
       " (&#39;,&#39;, &#39;,&#39;, &#39;,&#39;),\n",
       " (&#39;I&#39;, &#39;I&#39;, &#39;I&#39;),\n",
       " (&#39;am&#39;, &#39;am&#39;, &#39;be&#39;),\n",
       " (&#39;a&#39;, &#39;a&#39;, &#39;a&#39;),\n",
       " (&#39;man&#39;, &#39;man&#39;, &#39;man&#39;),\n",
       " (&#39;of&#39;, &#39;of&#39;, &#39;of&#39;),\n",
       " (&#39;waelth&#39;, &#39;wealth&#39;, &#39;wealth&#39;),\n",
       " (&#39;und&#39;, &#39;und&#39;, &#39;und&#39;),\n",
       " (&#39;tiaste&#39;, &#39;taste&#39;, &#39;taste&#39;),\n",
       " (&#39;and&#39;, &#39;and&#39;, &#39;and&#39;),\n",
       " (&#39;he&#39;, &#39;he&#39;, &#39;he&#39;),\n",
       " (&#39;just&#39;, &#39;just&#39;, &#39;just&#39;),\n",
       " (&#39;knows&#39;, &#39;knows&#39;, &#39;know&#39;),\n",
       " (&#39;that&#39;, &#39;that&#39;, &#39;that&#39;)]</div>"
      ]
     },
     "metadata": {
      "application/vnd.databricks.v1+output": {
       "addedWidgets": {},
       "arguments": {},
       "data": "<div class=\"ansiout\">Out[36]: [(&#39;Plaese&#39;, &#39;Please&#39;, &#39;Please&#39;),\n (&#39;alliow&#39;, &#39;allow&#39;, &#39;allow&#39;),\n (&#39;me&#39;, &#39;me&#39;, &#39;i&#39;),\n (&#39;tao&#39;, &#39;to&#39;, &#39;to&#39;),\n (&#39;introdduce&#39;, &#39;introduce&#39;, &#39;introduce&#39;),\n (&#39;myhelf&#39;, &#39;myself&#39;, &#39;myself&#39;),\n (&#39;,&#39;, &#39;,&#39;, &#39;,&#39;),\n (&#39;I&#39;, &#39;I&#39;, &#39;I&#39;),\n (&#39;am&#39;, &#39;am&#39;, &#39;be&#39;),\n (&#39;a&#39;, &#39;a&#39;, &#39;a&#39;),\n (&#39;man&#39;, &#39;man&#39;, &#39;man&#39;),\n (&#39;of&#39;, &#39;of&#39;, &#39;of&#39;),\n (&#39;waelth&#39;, &#39;wealth&#39;, &#39;wealth&#39;),\n (&#39;und&#39;, &#39;und&#39;, &#39;und&#39;),\n (&#39;tiaste&#39;, &#39;taste&#39;, &#39;taste&#39;),\n (&#39;and&#39;, &#39;and&#39;, &#39;and&#39;),\n (&#39;he&#39;, &#39;he&#39;, &#39;he&#39;),\n (&#39;just&#39;, &#39;just&#39;, &#39;just&#39;),\n (&#39;knows&#39;, &#39;knows&#39;, &#39;know&#39;),\n (&#39;that&#39;, &#39;that&#39;, &#39;that&#39;)]</div>",
       "datasetInfos": [],
       "removedWidgets": [],
       "type": "html"
      }
     },
     "output_type": "display_data"
    }
   ],
   "source": [
    "result = lp.annotate(\"Plaese alliow me tao introdduce myhelf, I am a man of waelth und tiaste and he just knows that\")\n",
    "\n",
    "list(zip(result['token'],result['checked'],result['lemma']))"
   ]
  },
  {
   "cell_type": "markdown",
   "metadata": {
    "application/vnd.databricks.v1+cell": {
     "inputWidgets": {},
     "nuid": "a90df922-02e1-495c-b38e-354cc6001619",
     "showTitle": false,
     "title": ""
    }
   },
   "source": [
    "### Word and Sentence Embeddings"
   ]
  },
  {
   "cell_type": "markdown",
   "metadata": {
    "application/vnd.databricks.v1+cell": {
     "inputWidgets": {},
     "nuid": "166b4680-8ba3-4ef9-bf94-0abb87c83edd",
     "showTitle": false,
     "title": ""
    }
   },
   "source": [
    "#### Word Embeddings"
   ]
  },
  {
   "cell_type": "code",
   "execution_count": 0,
   "metadata": {
    "application/vnd.databricks.v1+cell": {
     "inputWidgets": {},
     "nuid": "b8834d73-d9e4-4263-9a62-78c3bc7ce790",
     "showTitle": false,
     "title": ""
    }
   },
   "outputs": [
    {
     "data": {
      "text/html": [
       "<style scoped>\n",
       "  .ansiout {\n",
       "    display: block;\n",
       "    unicode-bidi: embed;\n",
       "    white-space: pre-wrap;\n",
       "    word-wrap: break-word;\n",
       "    word-break: break-all;\n",
       "    font-family: \"Source Code Pro\", \"Menlo\", monospace;;\n",
       "    font-size: 13px;\n",
       "    color: #555;\n",
       "    margin-left: 4px;\n",
       "    line-height: 19px;\n",
       "  }\n",
       "</style>\n",
       "<div class=\"ansiout\">glove_100d download started this may take some time.\n",
       "Approximate size to download 145.3 MB\n",
       "\r",
       "[ | ]\r",
       "[OK!]\n",
       "</div>"
      ]
     },
     "metadata": {
      "application/vnd.databricks.v1+output": {
       "addedWidgets": {},
       "arguments": {},
       "data": "<div class=\"ansiout\">glove_100d download started this may take some time.\nApproximate size to download 145.3 MB\n\r[ | ]\r[OK!]\n</div>",
       "datasetInfos": [],
       "removedWidgets": [],
       "type": "html"
      }
     },
     "output_type": "display_data"
    }
   ],
   "source": [
    "glove_embeddings = WordEmbeddingsModel.pretrained('glove_100d')\\\n",
    "      .setInputCols([\"document\", \"token\"])\\\n",
    "      .setOutputCol(\"embeddings\")"
   ]
  },
  {
   "cell_type": "code",
   "execution_count": 0,
   "metadata": {
    "application/vnd.databricks.v1+cell": {
     "inputWidgets": {},
     "nuid": "b3773331-6a53-4fff-9e65-54b360ae96d7",
     "showTitle": false,
     "title": ""
    }
   },
   "outputs": [
    {
     "data": {
      "text/html": [
       "<style scoped>\n",
       "  .ansiout {\n",
       "    display: block;\n",
       "    unicode-bidi: embed;\n",
       "    white-space: pre-wrap;\n",
       "    word-wrap: break-word;\n",
       "    word-break: break-all;\n",
       "    font-family: \"Source Code Pro\", \"Menlo\", monospace;;\n",
       "    font-size: 13px;\n",
       "    color: #555;\n",
       "    margin-left: 4px;\n",
       "    line-height: 19px;\n",
       "  }\n",
       "</style>\n",
       "<div class=\"ansiout\"></div>"
      ]
     },
     "metadata": {
      "application/vnd.databricks.v1+output": {
       "addedWidgets": {},
       "arguments": {},
       "data": "<div class=\"ansiout\"></div>",
       "datasetInfos": [],
       "removedWidgets": [],
       "type": "html"
      }
     },
     "output_type": "display_data"
    }
   ],
   "source": [
    "documentAssembler = DocumentAssembler()\\\n",
    "    .setInputCol(\"description\")\\\n",
    "    .setOutputCol(\"document\")\n",
    "\n",
    "tokenizer = Tokenizer() \\\n",
    "    .setInputCols([\"document\"]) \\\n",
    "    .setOutputCol(\"token\")\n",
    "\n",
    "nlpPipeline = Pipeline(stages=[\n",
    "     documentAssembler, \n",
    "     tokenizer,\n",
    "     glove_embeddings\n",
    " ])\n",
    "\n",
    "empty_df = spark.createDataFrame([['']]).toDF(\"description\")\n",
    "pipelineModel = nlpPipeline.fit(empty_df)\n",
    "\n",
    "result = pipelineModel.transform(news_df.limit(1))\n",
    "\n",
    "output = result.select('token.result','embeddings.embeddings').limit(1).rdd.flatMap(lambda x: x).collect()\n"
   ]
  },
  {
   "cell_type": "code",
   "execution_count": 0,
   "metadata": {
    "application/vnd.databricks.v1+cell": {
     "inputWidgets": {},
     "nuid": "0a17a82b-8ce3-44d9-9e3e-8b85cffd2145",
     "showTitle": false,
     "title": ""
    }
   },
   "outputs": [
    {
     "data": {
      "text/html": [
       "<style scoped>\n",
       "  .ansiout {\n",
       "    display: block;\n",
       "    unicode-bidi: embed;\n",
       "    white-space: pre-wrap;\n",
       "    word-wrap: break-word;\n",
       "    word-break: break-all;\n",
       "    font-family: \"Source Code Pro\", \"Menlo\", monospace;;\n",
       "    font-size: 13px;\n",
       "    color: #555;\n",
       "    margin-left: 4px;\n",
       "    line-height: 19px;\n",
       "  }\n",
       "</style>\n",
       "<div class=\"ansiout\">Out[39]: </div>"
      ]
     },
     "metadata": {
      "application/vnd.databricks.v1+output": {
       "addedWidgets": {},
       "arguments": {},
       "data": "<div class=\"ansiout\">Out[39]: </div>",
       "datasetInfos": [],
       "removedWidgets": [],
       "type": "html"
      }
     },
     "output_type": "display_data"
    },
    {
     "data": {
      "text/html": [
       "<div>\n",
       "<style scoped>\n",
       "    .dataframe tbody tr th:only-of-type {\n",
       "        vertical-align: middle;\n",
       "    }\n",
       "\n",
       "    .dataframe tbody tr th {\n",
       "        vertical-align: top;\n",
       "    }\n",
       "\n",
       "    .dataframe thead th {\n",
       "        text-align: right;\n",
       "    }\n",
       "</style>\n",
       "<table border=\"1\" class=\"dataframe\">\n",
       "  <thead>\n",
       "    <tr style=\"text-align: right;\">\n",
       "      <th></th>\n",
       "      <th>token</th>\n",
       "      <th>embeddings</th>\n",
       "    </tr>\n",
       "  </thead>\n",
       "  <tbody>\n",
       "    <tr>\n",
       "      <th>0</th>\n",
       "      <td>Short</td>\n",
       "      <td>[-0.4308899939060211, -0.023907000198960304, -...</td>\n",
       "    </tr>\n",
       "    <tr>\n",
       "      <th>1</th>\n",
       "      <td>sellers</td>\n",
       "      <td>[0.1458200067281723, 0.2753300070762634, -0.20...</td>\n",
       "    </tr>\n",
       "    <tr>\n",
       "      <th>2</th>\n",
       "      <td>,</td>\n",
       "      <td>[-0.10767000168561935, 0.11052999645471573, 0....</td>\n",
       "    </tr>\n",
       "    <tr>\n",
       "      <th>3</th>\n",
       "      <td>Wall</td>\n",
       "      <td>[0.21383999288082123, 0.22098000347614288, 0.0...</td>\n",
       "    </tr>\n",
       "    <tr>\n",
       "      <th>4</th>\n",
       "      <td>Street's</td>\n",
       "      <td>[0.0, 0.0, 0.0, 0.0, 0.0, 0.0, 0.0, 0.0, 0.0, ...</td>\n",
       "    </tr>\n",
       "    <tr>\n",
       "      <th>5</th>\n",
       "      <td>dwindling</td>\n",
       "      <td>[-0.5611299872398376, 1.1217999458312988, 0.65...</td>\n",
       "    </tr>\n",
       "    <tr>\n",
       "      <th>6</th>\n",
       "      <td>band</td>\n",
       "      <td>[-0.12160000205039978, -0.24347999691963196, 0...</td>\n",
       "    </tr>\n",
       "    <tr>\n",
       "      <th>7</th>\n",
       "      <td>of</td>\n",
       "      <td>[-0.15289999544620514, -0.24278999865055084, 0...</td>\n",
       "    </tr>\n",
       "    <tr>\n",
       "      <th>8</th>\n",
       "      <td>ultra</td>\n",
       "      <td>[-0.3504500091075897, -0.27733999490737915, 0....</td>\n",
       "    </tr>\n",
       "    <tr>\n",
       "      <th>9</th>\n",
       "      <td>cynics</td>\n",
       "      <td>[-0.06557200103998184, 0.45271000266075134, 0....</td>\n",
       "    </tr>\n",
       "    <tr>\n",
       "      <th>10</th>\n",
       "      <td>,</td>\n",
       "      <td>[-0.10767000168561935, 0.11052999645471573, 0....</td>\n",
       "    </tr>\n",
       "    <tr>\n",
       "      <th>11</th>\n",
       "      <td>are</td>\n",
       "      <td>[-0.5153300166130066, 0.8318600058555603, 0.22...</td>\n",
       "    </tr>\n",
       "    <tr>\n",
       "      <th>12</th>\n",
       "      <td>seeing</td>\n",
       "      <td>[0.22673000395298004, 0.1282999962568283, 0.29...</td>\n",
       "    </tr>\n",
       "    <tr>\n",
       "      <th>13</th>\n",
       "      <td>green</td>\n",
       "      <td>[-0.679069995880127, 0.34907999634742737, -0.2...</td>\n",
       "    </tr>\n",
       "    <tr>\n",
       "      <th>14</th>\n",
       "      <td>again</td>\n",
       "      <td>[0.0938429981470108, -0.2028300017118454, 0.34...</td>\n",
       "    </tr>\n",
       "    <tr>\n",
       "      <th>15</th>\n",
       "      <td>.</td>\n",
       "      <td>[-0.3397899866104126, 0.20940999686717987, 0.4...</td>\n",
       "    </tr>\n",
       "  </tbody>\n",
       "</table>\n",
       "</div>"
      ]
     },
     "metadata": {
      "application/vnd.databricks.v1+output": {
       "addedWidgets": {},
       "arguments": {},
       "data": "<div>\n<style scoped>\n    .dataframe tbody tr th:only-of-type {\n        vertical-align: middle;\n    }\n\n    .dataframe tbody tr th {\n        vertical-align: top;\n    }\n\n    .dataframe thead th {\n        text-align: right;\n    }\n</style>\n<table border=\"1\" class=\"dataframe\">\n  <thead>\n    <tr style=\"text-align: right;\">\n      <th></th>\n      <th>token</th>\n      <th>embeddings</th>\n    </tr>\n  </thead>\n  <tbody>\n    <tr>\n      <th>0</th>\n      <td>Short</td>\n      <td>[-0.4308899939060211, -0.023907000198960304, -...</td>\n    </tr>\n    <tr>\n      <th>1</th>\n      <td>sellers</td>\n      <td>[0.1458200067281723, 0.2753300070762634, -0.20...</td>\n    </tr>\n    <tr>\n      <th>2</th>\n      <td>,</td>\n      <td>[-0.10767000168561935, 0.11052999645471573, 0....</td>\n    </tr>\n    <tr>\n      <th>3</th>\n      <td>Wall</td>\n      <td>[0.21383999288082123, 0.22098000347614288, 0.0...</td>\n    </tr>\n    <tr>\n      <th>4</th>\n      <td>Street's</td>\n      <td>[0.0, 0.0, 0.0, 0.0, 0.0, 0.0, 0.0, 0.0, 0.0, ...</td>\n    </tr>\n    <tr>\n      <th>5</th>\n      <td>dwindling</td>\n      <td>[-0.5611299872398376, 1.1217999458312988, 0.65...</td>\n    </tr>\n    <tr>\n      <th>6</th>\n      <td>band</td>\n      <td>[-0.12160000205039978, -0.24347999691963196, 0...</td>\n    </tr>\n    <tr>\n      <th>7</th>\n      <td>of</td>\n      <td>[-0.15289999544620514, -0.24278999865055084, 0...</td>\n    </tr>\n    <tr>\n      <th>8</th>\n      <td>ultra</td>\n      <td>[-0.3504500091075897, -0.27733999490737915, 0....</td>\n    </tr>\n    <tr>\n      <th>9</th>\n      <td>cynics</td>\n      <td>[-0.06557200103998184, 0.45271000266075134, 0....</td>\n    </tr>\n    <tr>\n      <th>10</th>\n      <td>,</td>\n      <td>[-0.10767000168561935, 0.11052999645471573, 0....</td>\n    </tr>\n    <tr>\n      <th>11</th>\n      <td>are</td>\n      <td>[-0.5153300166130066, 0.8318600058555603, 0.22...</td>\n    </tr>\n    <tr>\n      <th>12</th>\n      <td>seeing</td>\n      <td>[0.22673000395298004, 0.1282999962568283, 0.29...</td>\n    </tr>\n    <tr>\n      <th>13</th>\n      <td>green</td>\n      <td>[-0.679069995880127, 0.34907999634742737, -0.2...</td>\n    </tr>\n    <tr>\n      <th>14</th>\n      <td>again</td>\n      <td>[0.0938429981470108, -0.2028300017118454, 0.34...</td>\n    </tr>\n    <tr>\n      <th>15</th>\n      <td>.</td>\n      <td>[-0.3397899866104126, 0.20940999686717987, 0.4...</td>\n    </tr>\n  </tbody>\n</table>\n</div>",
       "datasetInfos": [],
       "removedWidgets": [],
       "textData": null,
       "type": "htmlSandbox"
      }
     },
     "output_type": "display_data"
    }
   ],
   "source": [
    "pd.DataFrame({'token':output[0],'embeddings':output[1]})"
   ]
  },
  {
   "cell_type": "code",
   "execution_count": 0,
   "metadata": {
    "application/vnd.databricks.v1+cell": {
     "inputWidgets": {},
     "nuid": "2989d850-5662-41c7-ada2-69f5c7e2d0ee",
     "showTitle": false,
     "title": ""
    }
   },
   "outputs": [
    {
     "data": {
      "text/html": [
       "<style scoped>\n",
       "  .ansiout {\n",
       "    display: block;\n",
       "    unicode-bidi: embed;\n",
       "    white-space: pre-wrap;\n",
       "    word-wrap: break-word;\n",
       "    word-break: break-all;\n",
       "    font-family: \"Source Code Pro\", \"Menlo\", monospace;;\n",
       "    font-size: 13px;\n",
       "    color: #555;\n",
       "    margin-left: 4px;\n",
       "    line-height: 19px;\n",
       "  }\n",
       "</style>\n",
       "<div class=\"ansiout\">+---------+----------------------------------------------------------------------------------------------------+\n",
       "    token|                                                                                          embeddings|\n",
       "+---------+----------------------------------------------------------------------------------------------------+\n",
       "    Short|[-0.43089, -0.023907, -0.081875, 0.044522, 0.33741, -0.23081, -0.35145, 0.33043, -0.92222, -0.220...|\n",
       "  sellers|[0.14582, 0.27533, -0.20703, -0.30671, 0.54408, -0.18303, -0.38876, -0.52166, 0.3569, -1.085, 0.1...|\n",
       "        ,|[-0.10767, 0.11053, 0.59812, -0.54361, 0.67396, 0.10663, 0.038867, 0.35481, 0.06351, -0.094189, 0...|\n",
       "     Wall|[0.21384, 0.22098, 0.037105, -0.29186, -0.030131, -0.16247, -1.1043, -0.88436, -0.078059, -0.6353...|\n",
       " Street&#39;s|[0.0, 0.0, 0.0, 0.0, 0.0, 0.0, 0.0, 0.0, 0.0, 0.0, 0.0, 0.0, 0.0, 0.0, 0.0, 0.0, 0.0, 0.0, 0.0, 0...|\n",
       "dwindling|[-0.56113, 1.1218, 0.65823, 0.2699, 0.12404, -0.12759, -1.0287, -0.64777, 0.59677, -0.12182, -0.8...|\n",
       "     band|[-0.1216, -0.24348, 0.030226, -1.2775, 0.62423, 0.39206, 0.065402, 0.20421, -0.53397, 0.13893, 0....|\n",
       "       of|[-0.1529, -0.24279, 0.89837, 0.16996, 0.53516, 0.48784, -0.58826, -0.17982, -1.3581, 0.42541, 0.1...|\n",
       "    ultra|[-0.35045, -0.27734, 0.090996, -0.042283, -0.09996, 0.076031, 0.062637, -0.082518, -0.63601, 1.12...|\n",
       "   cynics|[-0.065572, 0.45271, 0.60628, -0.48585, -0.84455, 0.029453, -0.35357, -0.56636, 0.34111, -0.07019...|\n",
       "+---------+----------------------------------------------------------------------------------------------------+\n",
       "only showing top 10 rows\n",
       "\n",
       "</div>"
      ]
     },
     "metadata": {
      "application/vnd.databricks.v1+output": {
       "addedWidgets": {},
       "arguments": {},
       "data": "<div class=\"ansiout\">+---------+----------------------------------------------------------------------------------------------------+\n|    token|                                                                                          embeddings|\n+---------+----------------------------------------------------------------------------------------------------+\n|    Short|[-0.43089, -0.023907, -0.081875, 0.044522, 0.33741, -0.23081, -0.35145, 0.33043, -0.92222, -0.220...|\n|  sellers|[0.14582, 0.27533, -0.20703, -0.30671, 0.54408, -0.18303, -0.38876, -0.52166, 0.3569, -1.085, 0.1...|\n|        ,|[-0.10767, 0.11053, 0.59812, -0.54361, 0.67396, 0.10663, 0.038867, 0.35481, 0.06351, -0.094189, 0...|\n|     Wall|[0.21384, 0.22098, 0.037105, -0.29186, -0.030131, -0.16247, -1.1043, -0.88436, -0.078059, -0.6353...|\n| Street&#39;s|[0.0, 0.0, 0.0, 0.0, 0.0, 0.0, 0.0, 0.0, 0.0, 0.0, 0.0, 0.0, 0.0, 0.0, 0.0, 0.0, 0.0, 0.0, 0.0, 0...|\n|dwindling|[-0.56113, 1.1218, 0.65823, 0.2699, 0.12404, -0.12759, -1.0287, -0.64777, 0.59677, -0.12182, -0.8...|\n|     band|[-0.1216, -0.24348, 0.030226, -1.2775, 0.62423, 0.39206, 0.065402, 0.20421, -0.53397, 0.13893, 0....|\n|       of|[-0.1529, -0.24279, 0.89837, 0.16996, 0.53516, 0.48784, -0.58826, -0.17982, -1.3581, 0.42541, 0.1...|\n|    ultra|[-0.35045, -0.27734, 0.090996, -0.042283, -0.09996, 0.076031, 0.062637, -0.082518, -0.63601, 1.12...|\n|   cynics|[-0.065572, 0.45271, 0.60628, -0.48585, -0.84455, 0.029453, -0.35357, -0.56636, 0.34111, -0.07019...|\n+---------+----------------------------------------------------------------------------------------------------+\nonly showing top 10 rows\n\n</div>",
       "datasetInfos": [],
       "removedWidgets": [],
       "type": "html"
      }
     },
     "output_type": "display_data"
    }
   ],
   "source": [
    "result = pipelineModel.transform(news_df.limit(10))\n",
    "\n",
    "result_df = result.select(F.explode(F.arrays_zip('token.result', 'embeddings.embeddings')).alias(\"cols\")) \\\n",
    ".select(F.expr(\"cols['0']\").alias(\"token\"),\n",
    "        F.expr(\"cols['1']\").alias(\"embeddings\"))\n",
    "\n",
    "result_df.show(10, truncate=100)"
   ]
  },
  {
   "cell_type": "markdown",
   "metadata": {
    "application/vnd.databricks.v1+cell": {
     "inputWidgets": {},
     "nuid": "c4d19a46-6477-4e70-af78-00adb4d085b0",
     "showTitle": false,
     "title": ""
    }
   },
   "source": [
    "#### Bert Embeddings"
   ]
  },
  {
   "cell_type": "code",
   "execution_count": 0,
   "metadata": {
    "application/vnd.databricks.v1+cell": {
     "inputWidgets": {},
     "nuid": "0c492ac1-d752-4b5f-b7ec-9b160030ed5b",
     "showTitle": false,
     "title": ""
    }
   },
   "outputs": [
    {
     "data": {
      "text/html": [
       "<style scoped>\n",
       "  .ansiout {\n",
       "    display: block;\n",
       "    unicode-bidi: embed;\n",
       "    white-space: pre-wrap;\n",
       "    word-wrap: break-word;\n",
       "    word-break: break-all;\n",
       "    font-family: \"Source Code Pro\", \"Menlo\", monospace;;\n",
       "    font-size: 13px;\n",
       "    color: #555;\n",
       "    margin-left: 4px;\n",
       "    line-height: 19px;\n",
       "  }\n",
       "</style>\n",
       "<div class=\"ansiout\">bert_base_cased download started this may take some time.\n",
       "Approximate size to download 389.1 MB\n",
       "\r",
       "[ | ]\r",
       "[OK!]\n",
       "</div>"
      ]
     },
     "metadata": {
      "application/vnd.databricks.v1+output": {
       "addedWidgets": {},
       "arguments": {},
       "data": "<div class=\"ansiout\">bert_base_cased download started this may take some time.\nApproximate size to download 389.1 MB\n\r[ | ]\r[OK!]\n</div>",
       "datasetInfos": [],
       "removedWidgets": [],
       "type": "html"
      }
     },
     "output_type": "display_data"
    }
   ],
   "source": [
    "bert_embeddings = BertEmbeddings.pretrained('bert_base_cased')\\\n",
    "      .setInputCols([\"document\", \"token\"])\\\n",
    "      .setOutputCol(\"embeddings\")"
   ]
  },
  {
   "cell_type": "code",
   "execution_count": 0,
   "metadata": {
    "application/vnd.databricks.v1+cell": {
     "inputWidgets": {},
     "nuid": "ba680faa-c466-4c3a-9d3c-3828dc28ea7b",
     "showTitle": false,
     "title": ""
    }
   },
   "outputs": [
    {
     "data": {
      "text/html": [
       "<style scoped>\n",
       "  .ansiout {\n",
       "    display: block;\n",
       "    unicode-bidi: embed;\n",
       "    white-space: pre-wrap;\n",
       "    word-wrap: break-word;\n",
       "    word-break: break-all;\n",
       "    font-family: \"Source Code Pro\", \"Menlo\", monospace;;\n",
       "    font-size: 13px;\n",
       "    color: #555;\n",
       "    margin-left: 4px;\n",
       "    line-height: 19px;\n",
       "  }\n",
       "</style>\n",
       "<div class=\"ansiout\">+----------+----------------------------------------------------------------------------------------------------+\n",
       "     token|                                                                                     bert_embeddings|\n",
       "+----------+----------------------------------------------------------------------------------------------------+\n",
       "     Short|[0.4981848, -0.33318487, 0.45259988, -0.29747528, -0.3754371, 0.31528342, 0.27503872, -0.07850365...|\n",
       "   sellers|[0.30120665, 0.6038907, 0.043557167, -0.083134055, 0.15532503, 0.19738054, 0.32395974, 0.25382286...|\n",
       "         ,|[-0.06041648, 0.16640416, -0.13490143, 0.14198674, -0.022981446, 0.021920662, 0.5455168, 0.437101...|\n",
       "      Wall|[-0.13157815, 0.43838143, -0.38766295, -0.33669642, 0.14921457, 0.030721296, 0.15543622, -0.07061...|\n",
       "  Street&#39;s|[0.35614663, 0.41715196, -0.022471633, -0.18717049, 0.45731306, 0.2509827, 0.20012413, 0.35114026...|\n",
       " dwindling|[0.59948957, -0.11001079, -0.19151859, -0.4137223, 0.4088663, -0.40101177, 0.3973697, 0.46467304,...|\n",
       "      band|[0.38114625, -0.36783946, 0.054782618, -0.37785494, -0.20230632, 0.0038927495, 0.05830488, 0.5434...|\n",
       "        of|[-0.087016, 0.15868908, -0.2351141, 0.49452737, 0.4121757, -0.23503228, 0.17243882, 0.6468271, 0....|\n",
       "     ultra|[0.058941115, -0.27691287, 0.11804847, 0.036150694, -0.121260695, -0.06893154, 0.11812929, 0.0435...|\n",
       "    cynics|[0.30817857, 0.5047461, 6.708E-4, -0.08443635, 0.58279127, -0.5385556, 0.20441203, 1.2300125, -0....|\n",
       "         ,|[0.22573915, 0.7028284, 0.54028785, 0.059805468, 0.5789615, 0.10974597, 0.47140834, 0.67936724, -...|\n",
       "       are|[0.21133775, 0.19332758, 0.06412582, 0.16320118, 0.7104585, 0.07372895, 0.41001096, 0.011539653, ...|\n",
       "    seeing|[0.09032719, 0.010031838, 0.18926871, 0.008258294, 0.15169643, 0.050713226, 0.39171848, -0.085515...|\n",
       "     green|[0.15449733, 0.13028537, 0.19091605, 0.18432914, -0.18943381, 0.32863393, 0.095805146, 0.18395075...|\n",
       "     again|[-0.00929115, 0.11845383, -0.35919943, 0.23789617, 0.20325664, -0.29519743, 0.039238162, 0.214576...|\n",
       "         .|[0.6931996, 0.13296707, 0.09412507, 0.3870453, 0.01129663, -0.20226033, -0.3490864, 0.11724718, -...|\n",
       "   Private|[0.39625964, -0.2044376, 0.2683412, -0.1134931, -0.48581487, 0.2681338, 0.19422266, 0.03324309, 0...|\n",
       "investment|[0.44329396, 0.4984208, -0.013835724, 0.3266698, -0.026565092, 0.22005716, -0.0020432137, 0.51294...|\n",
       "      firm|[-0.2924747, 0.033764217, -0.1836754, 0.01787558, 0.25998148, 0.19098194, -0.12764205, 0.4358017,...|\n",
       "   Carlyle|[0.5360542, 0.27315533, -0.22559038, -0.09160328, 0.45161316, -0.043091685, 0.6137566, 0.29612663...|\n",
       "+----------+----------------------------------------------------------------------------------------------------+\n",
       "only showing top 20 rows\n",
       "\n",
       "</div>"
      ]
     },
     "metadata": {
      "application/vnd.databricks.v1+output": {
       "addedWidgets": {},
       "arguments": {},
       "data": "<div class=\"ansiout\">+----------+----------------------------------------------------------------------------------------------------+\n|     token|                                                                                     bert_embeddings|\n+----------+----------------------------------------------------------------------------------------------------+\n|     Short|[0.4981848, -0.33318487, 0.45259988, -0.29747528, -0.3754371, 0.31528342, 0.27503872, -0.07850365...|\n|   sellers|[0.30120665, 0.6038907, 0.043557167, -0.083134055, 0.15532503, 0.19738054, 0.32395974, 0.25382286...|\n|         ,|[-0.06041648, 0.16640416, -0.13490143, 0.14198674, -0.022981446, 0.021920662, 0.5455168, 0.437101...|\n|      Wall|[-0.13157815, 0.43838143, -0.38766295, -0.33669642, 0.14921457, 0.030721296, 0.15543622, -0.07061...|\n|  Street&#39;s|[0.35614663, 0.41715196, -0.022471633, -0.18717049, 0.45731306, 0.2509827, 0.20012413, 0.35114026...|\n| dwindling|[0.59948957, -0.11001079, -0.19151859, -0.4137223, 0.4088663, -0.40101177, 0.3973697, 0.46467304,...|\n|      band|[0.38114625, -0.36783946, 0.054782618, -0.37785494, -0.20230632, 0.0038927495, 0.05830488, 0.5434...|\n|        of|[-0.087016, 0.15868908, -0.2351141, 0.49452737, 0.4121757, -0.23503228, 0.17243882, 0.6468271, 0....|\n|     ultra|[0.058941115, -0.27691287, 0.11804847, 0.036150694, -0.121260695, -0.06893154, 0.11812929, 0.0435...|\n|    cynics|[0.30817857, 0.5047461, 6.708E-4, -0.08443635, 0.58279127, -0.5385556, 0.20441203, 1.2300125, -0....|\n|         ,|[0.22573915, 0.7028284, 0.54028785, 0.059805468, 0.5789615, 0.10974597, 0.47140834, 0.67936724, -...|\n|       are|[0.21133775, 0.19332758, 0.06412582, 0.16320118, 0.7104585, 0.07372895, 0.41001096, 0.011539653, ...|\n|    seeing|[0.09032719, 0.010031838, 0.18926871, 0.008258294, 0.15169643, 0.050713226, 0.39171848, -0.085515...|\n|     green|[0.15449733, 0.13028537, 0.19091605, 0.18432914, -0.18943381, 0.32863393, 0.095805146, 0.18395075...|\n|     again|[-0.00929115, 0.11845383, -0.35919943, 0.23789617, 0.20325664, -0.29519743, 0.039238162, 0.214576...|\n|         .|[0.6931996, 0.13296707, 0.09412507, 0.3870453, 0.01129663, -0.20226033, -0.3490864, 0.11724718, -...|\n|   Private|[0.39625964, -0.2044376, 0.2683412, -0.1134931, -0.48581487, 0.2681338, 0.19422266, 0.03324309, 0...|\n|investment|[0.44329396, 0.4984208, -0.013835724, 0.3266698, -0.026565092, 0.22005716, -0.0020432137, 0.51294...|\n|      firm|[-0.2924747, 0.033764217, -0.1836754, 0.01787558, 0.25998148, 0.19098194, -0.12764205, 0.4358017,...|\n|   Carlyle|[0.5360542, 0.27315533, -0.22559038, -0.09160328, 0.45161316, -0.043091685, 0.6137566, 0.29612663...|\n+----------+----------------------------------------------------------------------------------------------------+\nonly showing top 20 rows\n\n</div>",
       "datasetInfos": [],
       "removedWidgets": [],
       "type": "html"
      }
     },
     "output_type": "display_data"
    }
   ],
   "source": [
    "documentAssembler = DocumentAssembler()\\\n",
    "    .setInputCol(\"description\")\\\n",
    "    .setOutputCol(\"document\")\n",
    "\n",
    "tokenizer = Tokenizer() \\\n",
    "    .setInputCols([\"document\"]) \\\n",
    "    .setOutputCol(\"token\")\n",
    "\n",
    " \n",
    "nlpPipeline = Pipeline(stages=[\n",
    "     documentAssembler, \n",
    "     tokenizer,\n",
    "     bert_embeddings\n",
    " ])\n",
    "\n",
    "empty_df = spark.createDataFrame([['']]).toDF(\"description\")\n",
    "\n",
    "pipelineModel = nlpPipeline.fit(empty_df)\n",
    "\n",
    "result = pipelineModel.transform(news_df.limit(10))\n",
    "\n",
    "result_df = result.select(F.explode(F.arrays_zip('token.result', 'embeddings.embeddings')).alias(\"cols\")) \\\n",
    ".select(F.expr(\"cols['0']\").alias(\"token\"),\n",
    "        F.expr(\"cols['1']\").alias(\"bert_embeddings\"))\n",
    "\n",
    "result_df.show(truncate=100)"
   ]
  },
  {
   "cell_type": "markdown",
   "metadata": {
    "application/vnd.databricks.v1+cell": {
     "inputWidgets": {},
     "nuid": "6c7c2ead-1c50-48b1-bd94-e81157ab9b41",
     "showTitle": false,
     "title": ""
    }
   },
   "source": [
    "#### Bert Sentence Embeddings"
   ]
  },
  {
   "cell_type": "code",
   "execution_count": 0,
   "metadata": {
    "application/vnd.databricks.v1+cell": {
     "inputWidgets": {},
     "nuid": "e61ee255-1e0c-4170-a9bb-e2b1fd924750",
     "showTitle": false,
     "title": ""
    }
   },
   "outputs": [
    {
     "data": {
      "text/html": [
       "<style scoped>\n",
       "  .ansiout {\n",
       "    display: block;\n",
       "    unicode-bidi: embed;\n",
       "    white-space: pre-wrap;\n",
       "    word-wrap: break-word;\n",
       "    word-break: break-all;\n",
       "    font-family: \"Source Code Pro\", \"Menlo\", monospace;;\n",
       "    font-size: 13px;\n",
       "    color: #555;\n",
       "    margin-left: 4px;\n",
       "    line-height: 19px;\n",
       "  }\n",
       "</style>\n",
       "<div class=\"ansiout\">sent_small_bert_L6_128 download started this may take some time.\n",
       "Approximate size to download 19 MB\n",
       "\r",
       "[ | ]\r",
       "[OK!]\n",
       "+----------------------------------------------------------------------------------------------------+----------------------------------------------------------------------------------------------------+\n",
       "                                                                                            document|                                                                                bert_sent_embeddings|\n",
       "+----------------------------------------------------------------------------------------------------+----------------------------------------------------------------------------------------------------+\n",
       "                Short sellers, Wall Street&#39;s dwindling band of ultra cynics, are seeing green again.|[-0.41622368, 0.68869257, -0.3300688, 0.43783727, -1.3162693, -1.7992045, 0.7603592, 0.2103077, 0...|\n",
       " Private investment firm Carlyle Group, which has a reputation for making well timed and occasion...|[-0.77901465, 0.32422078, -0.07455684, -0.26657367, -1.6625992, -2.5020134, 1.0537505, -0.0153966...|\n",
       " Soaring crude prices plus worries about the economy and the outlook for earnings are expected to...|[-1.3013513, 0.06270692, 0.48643032, 0.6333198, -1.2694688, -2.4417076, 1.0061469, -0.35331747, 0...|\n",
       " Authorities have halted oil export flows from the main pipeline in southern Iraq after intellige...|[-1.1196531, 0.7077177, 0.16936491, -0.19148013, -1.2631634, -2.392043, 0.6748795, 0.10746194, 0....|\n",
       " Tearaway world oil prices, toppling records and straining wallets, present a new economic menace...|[-0.6091468, 0.48813477, 0.31918436, -0.16303922, -1.6546689, -2.6266322, 0.8260122, 0.019127829,...|\n",
       " Stocks ended slightly higher on Friday but stayed near lows for the year as oil prices surged pa...|[-0.89245147, 0.024222266, 0.19888644, 0.3934929, -1.1477058, -3.1600401, 0.91228884, 0.06095146,...|\n",
       " Assets of the nation&#39;s retail money market mutual funds fell by  #36;1.17 billion in the latest ...|[-0.86197555, 0.46393532, 0.057166714, 0.117993444, -1.4238888, -3.1580813, 1.1041605, -0.4666843...|\n",
       " Retail sales bounced back a bit in July, and new claims for jobless benefits fell last week, the...|[-0.8053558, 0.63867676, 0.095612146, 0.05263416, -1.6134385, -2.5186062, 1.0987688, 0.1005294, 0...|\n",
       "&#34; After earning a PH.D. in Sociology, Danny Bazil Riley started to work as the general manager at...|[-0.951015, -0.080994375, 0.16685203, 2.9871543E-4, -1.6403105, -2.4667232, 1.0859861, -0.2177227...|\n",
       "               Short sellers, Wall Street&#39;s dwindling  band of ultra cynics, are seeing green again.|[-0.41622368, 0.68869257, -0.3300688, 0.43783727, -1.3162693, -1.7992045, 0.7603592, 0.2103077, 0...|\n",
       "+----------------------------------------------------------------------------------------------------+----------------------------------------------------------------------------------------------------+\n",
       "\n",
       "</div>"
      ]
     },
     "metadata": {
      "application/vnd.databricks.v1+output": {
       "addedWidgets": {},
       "arguments": {},
       "data": "<div class=\"ansiout\">sent_small_bert_L6_128 download started this may take some time.\nApproximate size to download 19 MB\n\r[ | ]\r[OK!]\n+----------------------------------------------------------------------------------------------------+----------------------------------------------------------------------------------------------------+\n|                                                                                            document|                                                                                bert_sent_embeddings|\n+----------------------------------------------------------------------------------------------------+----------------------------------------------------------------------------------------------------+\n|                Short sellers, Wall Street&#39;s dwindling band of ultra cynics, are seeing green again.|[-0.41622368, 0.68869257, -0.3300688, 0.43783727, -1.3162693, -1.7992045, 0.7603592, 0.2103077, 0...|\n| Private investment firm Carlyle Group, which has a reputation for making well timed and occasion...|[-0.77901465, 0.32422078, -0.07455684, -0.26657367, -1.6625992, -2.5020134, 1.0537505, -0.0153966...|\n| Soaring crude prices plus worries about the economy and the outlook for earnings are expected to...|[-1.3013513, 0.06270692, 0.48643032, 0.6333198, -1.2694688, -2.4417076, 1.0061469, -0.35331747, 0...|\n| Authorities have halted oil export flows from the main pipeline in southern Iraq after intellige...|[-1.1196531, 0.7077177, 0.16936491, -0.19148013, -1.2631634, -2.392043, 0.6748795, 0.10746194, 0....|\n| Tearaway world oil prices, toppling records and straining wallets, present a new economic menace...|[-0.6091468, 0.48813477, 0.31918436, -0.16303922, -1.6546689, -2.6266322, 0.8260122, 0.019127829,...|\n| Stocks ended slightly higher on Friday but stayed near lows for the year as oil prices surged pa...|[-0.89245147, 0.024222266, 0.19888644, 0.3934929, -1.1477058, -3.1600401, 0.91228884, 0.06095146,...|\n| Assets of the nation&#39;s retail money market mutual funds fell by  #36;1.17 billion in the latest ...|[-0.86197555, 0.46393532, 0.057166714, 0.117993444, -1.4238888, -3.1580813, 1.1041605, -0.4666843...|\n| Retail sales bounced back a bit in July, and new claims for jobless benefits fell last week, the...|[-0.8053558, 0.63867676, 0.095612146, 0.05263416, -1.6134385, -2.5186062, 1.0987688, 0.1005294, 0...|\n|&#34; After earning a PH.D. in Sociology, Danny Bazil Riley started to work as the general manager at...|[-0.951015, -0.080994375, 0.16685203, 2.9871543E-4, -1.6403105, -2.4667232, 1.0859861, -0.2177227...|\n|               Short sellers, Wall Street&#39;s dwindling  band of ultra cynics, are seeing green again.|[-0.41622368, 0.68869257, -0.3300688, 0.43783727, -1.3162693, -1.7992045, 0.7603592, 0.2103077, 0...|\n+----------------------------------------------------------------------------------------------------+----------------------------------------------------------------------------------------------------+\n\n</div>",
       "datasetInfos": [],
       "removedWidgets": [],
       "type": "html"
      }
     },
     "output_type": "display_data"
    }
   ],
   "source": [
    "bert_sentence_embeddings = BertSentenceEmbeddings.pretrained('sent_small_bert_L6_128')\\\n",
    "    .setInputCols([\"document\"])\\\n",
    "    .setOutputCol(\"bert_sent_embeddings\")\n",
    "\n",
    "\n",
    "nlpPipeline = Pipeline(stages=[\n",
    "     documentAssembler, \n",
    "     bert_sentence_embeddings\n",
    " ])\n",
    "\n",
    "\n",
    "empty_df = spark.createDataFrame([['']]).toDF(\"description\")\n",
    "\n",
    "pipelineModel = nlpPipeline.fit(empty_df)\n",
    "\n",
    "result = pipelineModel.transform(news_df.limit(10))\n",
    "\n",
    "result_df = result.select(F.explode(F.arrays_zip('document.result', 'bert_sent_embeddings.embeddings')).alias(\"cols\")) \\\n",
    ".select(F.expr(\"cols['0']\").alias(\"document\"),\n",
    "        F.expr(\"cols['1']\").alias(\"bert_sent_embeddings\"))\n",
    "\n",
    "result_df.show(truncate=100)"
   ]
  },
  {
   "cell_type": "markdown",
   "metadata": {
    "application/vnd.databricks.v1+cell": {
     "inputWidgets": {},
     "nuid": "b08f8c03-5927-4094-97ef-6b6630149f03",
     "showTitle": false,
     "title": ""
    }
   },
   "source": [
    "#### Universal Sentence Encoder"
   ]
  },
  {
   "cell_type": "code",
   "execution_count": 0,
   "metadata": {
    "application/vnd.databricks.v1+cell": {
     "inputWidgets": {},
     "nuid": "8eef39ab-8046-4d06-a196-23e1b16269f6",
     "showTitle": false,
     "title": ""
    }
   },
   "outputs": [
    {
     "data": {
      "text/html": [
       "<style scoped>\n",
       "  .ansiout {\n",
       "    display: block;\n",
       "    unicode-bidi: embed;\n",
       "    white-space: pre-wrap;\n",
       "    word-wrap: break-word;\n",
       "    word-break: break-all;\n",
       "    font-family: \"Source Code Pro\", \"Menlo\", monospace;;\n",
       "    font-size: 13px;\n",
       "    color: #555;\n",
       "    margin-left: 4px;\n",
       "    line-height: 19px;\n",
       "  }\n",
       "</style>\n",
       "<div class=\"ansiout\">tfhub_use download started this may take some time.\n",
       "Approximate size to download 923.7 MB\n",
       "\r",
       "[ | ]\r",
       "[OK!]\n",
       "</div>"
      ]
     },
     "metadata": {
      "application/vnd.databricks.v1+output": {
       "addedWidgets": {},
       "arguments": {},
       "data": "<div class=\"ansiout\">tfhub_use download started this may take some time.\nApproximate size to download 923.7 MB\n\r[ | ]\r[OK!]\n</div>",
       "datasetInfos": [],
       "removedWidgets": [],
       "type": "html"
      }
     },
     "output_type": "display_data"
    }
   ],
   "source": [
    "# no need for token columns \n",
    "use_embeddings = UniversalSentenceEncoder.pretrained('tfhub_use')\\\n",
    "    .setInputCols([\"document\"])\\\n",
    "    .setOutputCol(\"sentence_embeddings\")"
   ]
  },
  {
   "cell_type": "code",
   "execution_count": 0,
   "metadata": {
    "application/vnd.databricks.v1+cell": {
     "inputWidgets": {},
     "nuid": "d82915fc-adcd-43f8-aca0-0f66babeaf5f",
     "showTitle": false,
     "title": ""
    }
   },
   "outputs": [
    {
     "data": {
      "text/html": [
       "<style scoped>\n",
       "  .ansiout {\n",
       "    display: block;\n",
       "    unicode-bidi: embed;\n",
       "    white-space: pre-wrap;\n",
       "    word-wrap: break-word;\n",
       "    word-break: break-all;\n",
       "    font-family: \"Source Code Pro\", \"Menlo\", monospace;;\n",
       "    font-size: 13px;\n",
       "    color: #555;\n",
       "    margin-left: 4px;\n",
       "    line-height: 19px;\n",
       "  }\n",
       "</style>\n",
       "<div class=\"ansiout\">+----------------------------------------------------------------------------------------------------+----------------------------------------------------------------------------------------------------+\n",
       "                                                                                            document|                                                                                      USE_embeddings|\n",
       "+----------------------------------------------------------------------------------------------------+----------------------------------------------------------------------------------------------------+\n",
       "                Short sellers, Wall Street&#39;s dwindling band of ultra cynics, are seeing green again.|[0.04415016, -6.5327797E-4, -0.013665809, -0.0604859, -0.07109088, 0.0486745, 0.084806666, -0.024...|\n",
       " Private investment firm Carlyle Group, which has a reputation for making well timed and occasion...|[0.08444517, 0.035354353, -0.03983927, 0.021572137, -0.09528034, 0.06693124, 0.08432247, 0.031794...|\n",
       " Soaring crude prices plus worries about the economy and the outlook for earnings are expected to...|[0.042664737, 0.023801487, -0.009039422, -0.032749463, -0.0465335, -0.02004009, 0.08306322, 0.025...|\n",
       " Authorities have halted oil export flows from the main pipeline in southern Iraq after intellige...|[0.0068348562, -0.026235886, -0.040894106, 0.041971933, -0.0052267048, 0.039967846, 0.07275271, -...|\n",
       " Tearaway world oil prices, toppling records and straining wallets, present a new economic menace...|[0.019757787, 0.0328794, -0.00923136, 0.04920745, -0.06414906, -0.04310751, 0.089503884, -0.01447...|\n",
       " Stocks ended slightly higher on Friday but stayed near lows for the year as oil prices surged pa...|[0.054727238, 0.04618878, -0.030876333, 0.049301364, -0.052396316, -0.019601353, 0.08263385, -0.0...|\n",
       " Assets of the nation&#39;s retail money market mutual funds fell by  #36;1.17 billion in the latest ...|[0.03859759, 0.029694082, -0.02802789, 0.04109958, -0.056200065, 0.009426442, 0.08219278, -0.0271...|\n",
       " Retail sales bounced back a bit in July, and new claims for jobless benefits fell last week, the...|[0.01992473, 0.06581012, 7.1993296E-4, 0.01600514, -0.022610238, -0.05537902, 0.079486564, -0.016...|\n",
       "&#34; After earning a PH.D. in Sociology, Danny Bazil Riley started to work as the general manager at...|[0.060242523, 0.043736573, -0.02773455, 0.008369148, -0.06448946, 0.020772062, 0.051990658, 0.018...|\n",
       "               Short sellers, Wall Street&#39;s dwindling  band of ultra cynics, are seeing green again.|[0.04415016, -6.5327797E-4, -0.013665809, -0.0604859, -0.07109088, 0.0486745, 0.084806666, -0.024...|\n",
       "+----------------------------------------------------------------------------------------------------+----------------------------------------------------------------------------------------------------+\n",
       "\n",
       "</div>"
      ]
     },
     "metadata": {
      "application/vnd.databricks.v1+output": {
       "addedWidgets": {},
       "arguments": {},
       "data": "<div class=\"ansiout\">+----------------------------------------------------------------------------------------------------+----------------------------------------------------------------------------------------------------+\n|                                                                                            document|                                                                                      USE_embeddings|\n+----------------------------------------------------------------------------------------------------+----------------------------------------------------------------------------------------------------+\n|                Short sellers, Wall Street&#39;s dwindling band of ultra cynics, are seeing green again.|[0.04415016, -6.5327797E-4, -0.013665809, -0.0604859, -0.07109088, 0.0486745, 0.084806666, -0.024...|\n| Private investment firm Carlyle Group, which has a reputation for making well timed and occasion...|[0.08444517, 0.035354353, -0.03983927, 0.021572137, -0.09528034, 0.06693124, 0.08432247, 0.031794...|\n| Soaring crude prices plus worries about the economy and the outlook for earnings are expected to...|[0.042664737, 0.023801487, -0.009039422, -0.032749463, -0.0465335, -0.02004009, 0.08306322, 0.025...|\n| Authorities have halted oil export flows from the main pipeline in southern Iraq after intellige...|[0.0068348562, -0.026235886, -0.040894106, 0.041971933, -0.0052267048, 0.039967846, 0.07275271, -...|\n| Tearaway world oil prices, toppling records and straining wallets, present a new economic menace...|[0.019757787, 0.0328794, -0.00923136, 0.04920745, -0.06414906, -0.04310751, 0.089503884, -0.01447...|\n| Stocks ended slightly higher on Friday but stayed near lows for the year as oil prices surged pa...|[0.054727238, 0.04618878, -0.030876333, 0.049301364, -0.052396316, -0.019601353, 0.08263385, -0.0...|\n| Assets of the nation&#39;s retail money market mutual funds fell by  #36;1.17 billion in the latest ...|[0.03859759, 0.029694082, -0.02802789, 0.04109958, -0.056200065, 0.009426442, 0.08219278, -0.0271...|\n| Retail sales bounced back a bit in July, and new claims for jobless benefits fell last week, the...|[0.01992473, 0.06581012, 7.1993296E-4, 0.01600514, -0.022610238, -0.05537902, 0.079486564, -0.016...|\n|&#34; After earning a PH.D. in Sociology, Danny Bazil Riley started to work as the general manager at...|[0.060242523, 0.043736573, -0.02773455, 0.008369148, -0.06448946, 0.020772062, 0.051990658, 0.018...|\n|               Short sellers, Wall Street&#39;s dwindling  band of ultra cynics, are seeing green again.|[0.04415016, -6.5327797E-4, -0.013665809, -0.0604859, -0.07109088, 0.0486745, 0.084806666, -0.024...|\n+----------------------------------------------------------------------------------------------------+----------------------------------------------------------------------------------------------------+\n\n</div>",
       "datasetInfos": [],
       "removedWidgets": [],
       "type": "html"
      }
     },
     "output_type": "display_data"
    }
   ],
   "source": [
    "nlpPipeline = Pipeline(stages=[\n",
    "     documentAssembler, \n",
    "     use_embeddings\n",
    " ])\n",
    "\n",
    "empty_df = spark.createDataFrame([['']]).toDF(\"description\")\n",
    "\n",
    "pipelineModel = nlpPipeline.fit(empty_df)\n",
    "\n",
    "result = pipelineModel.transform(news_df.limit(10))\n",
    "\n",
    "result_df = result.select(F.explode(F.arrays_zip('document.result', 'sentence_embeddings.embeddings')).alias(\"cols\")) \\\n",
    ".select(F.expr(\"cols['0']\").alias(\"document\"),\n",
    "        F.expr(\"cols['1']\").alias(\"USE_embeddings\"))\n",
    "\n",
    "result_df.show(truncate=100)"
   ]
  },
  {
   "cell_type": "markdown",
   "metadata": {
    "application/vnd.databricks.v1+cell": {
     "inputWidgets": {},
     "nuid": "8e7fd105-4db1-40d2-a86f-4a817b8f598b",
     "showTitle": false,
     "title": ""
    }
   },
   "source": [
    "### Named Entity Recognition (NER) Models"
   ]
  },
  {
   "cell_type": "markdown",
   "metadata": {
    "application/vnd.databricks.v1+cell": {
     "inputWidgets": {},
     "nuid": "3017e91d-ac8e-4081-8201-781865ac226a",
     "showTitle": false,
     "title": ""
    }
   },
   "source": [
    "for a detailed notebbok, see https://github.com/JohnSnowLabs/spark-nlp-workshop/blob/master/tutorials/Certification_Trainings/Public/4.NERDL_Training.ipynb"
   ]
  },
  {
   "cell_type": "code",
   "execution_count": 0,
   "metadata": {
    "application/vnd.databricks.v1+cell": {
     "inputWidgets": {},
     "nuid": "b19dc9a7-2005-436d-813b-efa6d34abb98",
     "showTitle": false,
     "title": ""
    }
   },
   "outputs": [
    {
     "data": {
      "text/html": [
       "<style scoped>\n",
       "  .ansiout {\n",
       "    display: block;\n",
       "    unicode-bidi: embed;\n",
       "    white-space: pre-wrap;\n",
       "    word-wrap: break-word;\n",
       "    word-break: break-all;\n",
       "    font-family: \"Source Code Pro\", \"Menlo\", monospace;;\n",
       "    font-size: 13px;\n",
       "    color: #555;\n",
       "    margin-left: 4px;\n",
       "    line-height: 19px;\n",
       "  }\n",
       "</style>\n",
       "<div class=\"ansiout\">glove_100d download started this may take some time.\n",
       "Approximate size to download 145.3 MB\n",
       "\r",
       "[ | ]\r",
       "[OK!]\n",
       "onto_100 download started this may take some time.\n",
       "Approximate size to download 13.5 MB\n",
       "\r",
       "[ | ]\r",
       "[OK!]\n",
       "</div>"
      ]
     },
     "metadata": {
      "application/vnd.databricks.v1+output": {
       "addedWidgets": {},
       "arguments": {},
       "data": "<div class=\"ansiout\">glove_100d download started this may take some time.\nApproximate size to download 145.3 MB\n\r[ | ]\r[OK!]\nonto_100 download started this may take some time.\nApproximate size to download 13.5 MB\n\r[ | ]\r[OK!]\n</div>",
       "datasetInfos": [],
       "removedWidgets": [],
       "type": "html"
      }
     },
     "output_type": "display_data"
    }
   ],
   "source": [
    "glove_embeddings = WordEmbeddingsModel.pretrained('glove_100d')\\\n",
    "      .setInputCols([\"document\", \"token\"])\\\n",
    "      .setOutputCol(\"embeddings\")\n",
    "\n",
    "onto_ner = NerDLModel.pretrained(\"onto_100\", 'en') \\\n",
    "      .setInputCols([\"document\", \"token\", \"embeddings\"]) \\\n",
    "      .setOutputCol(\"ner\")\n",
    "\n",
    "ner_converter = NerConverter() \\\n",
    "      .setInputCols([\"document\", \"token\", \"ner\"]) \\\n",
    "      .setOutputCol(\"ner_chunk\")\n",
    "\n",
    "\n",
    "nlpPipeline = Pipeline(stages=[\n",
    "       documentAssembler, \n",
    "       tokenizer,\n",
    "       glove_embeddings,\n",
    "       onto_ner,\n",
    "       ner_converter\n",
    " ])\n",
    "\n",
    "empty_df = spark.createDataFrame([['']]).toDF(\"description\")\n",
    "\n",
    "pipelineModel = nlpPipeline.fit(empty_df)"
   ]
  },
  {
   "cell_type": "code",
   "execution_count": 0,
   "metadata": {
    "application/vnd.databricks.v1+cell": {
     "inputWidgets": {},
     "nuid": "fb8eddc8-05b0-4634-8f3f-34e046b0c33a",
     "showTitle": false,
     "title": ""
    }
   },
   "outputs": [
    {
     "data": {
      "text/html": [
       "<style scoped>\n",
       "  .ansiout {\n",
       "    display: block;\n",
       "    unicode-bidi: embed;\n",
       "    white-space: pre-wrap;\n",
       "    word-wrap: break-word;\n",
       "    word-break: break-all;\n",
       "    font-family: \"Source Code Pro\", \"Menlo\", monospace;;\n",
       "    font-size: 13px;\n",
       "    color: #555;\n",
       "    margin-left: 4px;\n",
       "    line-height: 19px;\n",
       "  }\n",
       "</style>\n",
       "<div class=\"ansiout\">+--------------------------------+---------+\n",
       "chunk                           |ner_label|\n",
       "+--------------------------------+---------+\n",
       "Carlyle Group                   |ORG      |\n",
       "next week                       |DATE     |\n",
       "summer                          |DATE     |\n",
       "Iraq                            |GPE      |\n",
       "Saturday                        |DATE     |\n",
       "three months                    |DATE     |\n",
       "US                              |GPE      |\n",
       "Friday                          |DATE     |\n",
       "the year                        |DATE     |\n",
       "#36;46                          |CARDINAL |\n",
       "Dell Inc                        |ORG      |\n",
       "#36;1.17 billion                |CARDINAL |\n",
       "the latest week                 |DATE     |\n",
       "#36;849.98 trillion             |CARDINAL |\n",
       "the Investment Company Institute|ORG      |\n",
       "Thursday                        |DATE     |\n",
       "July                            |DATE     |\n",
       "last week                       |DATE     |\n",
       "Thursday                        |DATE     |\n",
       "midsummer                       |DATE     |\n",
       "+--------------------------------+---------+\n",
       "only showing top 20 rows\n",
       "\n",
       "</div>"
      ]
     },
     "metadata": {
      "application/vnd.databricks.v1+output": {
       "addedWidgets": {},
       "arguments": {},
       "data": "<div class=\"ansiout\">+--------------------------------+---------+\n|chunk                           |ner_label|\n+--------------------------------+---------+\n|Carlyle Group                   |ORG      |\n|next week                       |DATE     |\n|summer                          |DATE     |\n|Iraq                            |GPE      |\n|Saturday                        |DATE     |\n|three months                    |DATE     |\n|US                              |GPE      |\n|Friday                          |DATE     |\n|the year                        |DATE     |\n|#36;46                          |CARDINAL |\n|Dell Inc                        |ORG      |\n|#36;1.17 billion                |CARDINAL |\n|the latest week                 |DATE     |\n|#36;849.98 trillion             |CARDINAL |\n|the Investment Company Institute|ORG      |\n|Thursday                        |DATE     |\n|July                            |DATE     |\n|last week                       |DATE     |\n|Thursday                        |DATE     |\n|midsummer                       |DATE     |\n+--------------------------------+---------+\nonly showing top 20 rows\n\n</div>",
       "datasetInfos": [],
       "removedWidgets": [],
       "type": "html"
      }
     },
     "output_type": "display_data"
    }
   ],
   "source": [
    "result = pipelineModel.transform(news_df.limit(10))\n",
    "\n",
    "result.select(F.explode(F.arrays_zip('ner_chunk.result', 'ner_chunk.metadata')).alias(\"cols\")) \\\n",
    ".select(F.expr(\"cols['0']\").alias(\"chunk\"),\n",
    "        F.expr(\"cols['1']['entity']\").alias(\"ner_label\")).show(truncate=False)"
   ]
  },
  {
   "cell_type": "code",
   "execution_count": 0,
   "metadata": {
    "application/vnd.databricks.v1+cell": {
     "inputWidgets": {},
     "nuid": "650ceca1-3ae4-4742-b442-305fb549d58a",
     "showTitle": false,
     "title": ""
    }
   },
   "outputs": [
    {
     "data": {
      "text/html": [
       "<style scoped>\n",
       "  .ansiout {\n",
       "    display: block;\n",
       "    unicode-bidi: embed;\n",
       "    white-space: pre-wrap;\n",
       "    word-wrap: break-word;\n",
       "    word-break: break-all;\n",
       "    font-family: \"Source Code Pro\", \"Menlo\", monospace;;\n",
       "    font-size: 13px;\n",
       "    color: #555;\n",
       "    margin-left: 4px;\n",
       "    line-height: 19px;\n",
       "  }\n",
       "</style>\n",
       "<div class=\"ansiout\">Out[48]: </div>"
      ]
     },
     "metadata": {
      "application/vnd.databricks.v1+output": {
       "addedWidgets": {},
       "arguments": {},
       "data": "<div class=\"ansiout\">Out[48]: </div>",
       "datasetInfos": [],
       "removedWidgets": [],
       "type": "html"
      }
     },
     "output_type": "display_data"
    },
    {
     "data": {
      "text/html": [
       "<div>\n",
       "<style scoped>\n",
       "    .dataframe tbody tr th:only-of-type {\n",
       "        vertical-align: middle;\n",
       "    }\n",
       "\n",
       "    .dataframe tbody tr th {\n",
       "        vertical-align: top;\n",
       "    }\n",
       "\n",
       "    .dataframe thead th {\n",
       "        text-align: right;\n",
       "    }\n",
       "</style>\n",
       "<table border=\"1\" class=\"dataframe\">\n",
       "  <thead>\n",
       "    <tr style=\"text-align: right;\">\n",
       "      <th></th>\n",
       "      <th>chunks</th>\n",
       "      <th>entities</th>\n",
       "    </tr>\n",
       "  </thead>\n",
       "  <tbody>\n",
       "    <tr>\n",
       "      <th>0</th>\n",
       "      <td>Peter Parker</td>\n",
       "      <td>PERSON</td>\n",
       "    </tr>\n",
       "    <tr>\n",
       "      <th>1</th>\n",
       "      <td>New York</td>\n",
       "      <td>GPE</td>\n",
       "    </tr>\n",
       "    <tr>\n",
       "      <th>2</th>\n",
       "      <td>Bruce Wayne</td>\n",
       "      <td>PERSON</td>\n",
       "    </tr>\n",
       "    <tr>\n",
       "      <th>3</th>\n",
       "      <td>Gotham City</td>\n",
       "      <td>GPE</td>\n",
       "    </tr>\n",
       "  </tbody>\n",
       "</table>\n",
       "</div>"
      ]
     },
     "metadata": {
      "application/vnd.databricks.v1+output": {
       "addedWidgets": {},
       "arguments": {},
       "data": "<div>\n<style scoped>\n    .dataframe tbody tr th:only-of-type {\n        vertical-align: middle;\n    }\n\n    .dataframe tbody tr th {\n        vertical-align: top;\n    }\n\n    .dataframe thead th {\n        text-align: right;\n    }\n</style>\n<table border=\"1\" class=\"dataframe\">\n  <thead>\n    <tr style=\"text-align: right;\">\n      <th></th>\n      <th>chunks</th>\n      <th>entities</th>\n    </tr>\n  </thead>\n  <tbody>\n    <tr>\n      <th>0</th>\n      <td>Peter Parker</td>\n      <td>PERSON</td>\n    </tr>\n    <tr>\n      <th>1</th>\n      <td>New York</td>\n      <td>GPE</td>\n    </tr>\n    <tr>\n      <th>2</th>\n      <td>Bruce Wayne</td>\n      <td>PERSON</td>\n    </tr>\n    <tr>\n      <th>3</th>\n      <td>Gotham City</td>\n      <td>GPE</td>\n    </tr>\n  </tbody>\n</table>\n</div>",
       "datasetInfos": [],
       "removedWidgets": [],
       "textData": null,
       "type": "htmlSandbox"
      }
     },
     "output_type": "display_data"
    }
   ],
   "source": [
    "light_model = LightPipeline(pipelineModel)\n",
    "\n",
    "light_result = light_model.fullAnnotate('Peter Parker is a nice persn and lives in New York. Bruce Wayne is also a nice guy and lives in Gotham City.')\n",
    "\n",
    "\n",
    "chunks = []\n",
    "entities = []\n",
    "\n",
    "for n in light_result[0]['ner_chunk']:\n",
    "        \n",
    "    chunks.append(n.result)\n",
    "    entities.append(n.metadata['entity']) \n",
    "    \n",
    "    \n",
    "import pandas as pd\n",
    "\n",
    "df = pd.DataFrame({'chunks':chunks, 'entities':entities})\n",
    "\n",
    "df"
   ]
  },
  {
   "cell_type": "markdown",
   "metadata": {
    "application/vnd.databricks.v1+cell": {
     "inputWidgets": {},
     "nuid": "94ba36fb-bb2d-41b4-8e7a-33fefd680443",
     "showTitle": false,
     "title": ""
    }
   },
   "source": [
    "#### Train a NER model"
   ]
  },
  {
   "cell_type": "markdown",
   "metadata": {
    "application/vnd.databricks.v1+cell": {
     "inputWidgets": {},
     "nuid": "4363be3c-806d-4ac6-8619-f387a9d3c1c4",
     "showTitle": false,
     "title": ""
    }
   },
   "source": [
    "**To train a new NER from scratch, check out**\n",
    "\n",
    "https://github.com/JohnSnowLabs/spark-nlp-workshop/blob/master/tutorials/Certification_Trainings/Public/4.NERDL_Training.ipynb"
   ]
  },
  {
   "cell_type": "code",
   "execution_count": 0,
   "metadata": {
    "application/vnd.databricks.v1+cell": {
     "inputWidgets": {},
     "nuid": "dc5399b8-4974-440b-ab1f-888741236dbd",
     "showTitle": false,
     "title": ""
    }
   },
   "outputs": [
    {
     "data": {
      "text/html": [
       "<style scoped>\n",
       "  .ansiout {\n",
       "    display: block;\n",
       "    unicode-bidi: embed;\n",
       "    white-space: pre-wrap;\n",
       "    word-wrap: break-word;\n",
       "    word-break: break-all;\n",
       "    font-family: \"Source Code Pro\", \"Menlo\", monospace;;\n",
       "    font-size: 13px;\n",
       "    color: #555;\n",
       "    margin-left: 4px;\n",
       "    line-height: 19px;\n",
       "  }\n",
       "</style>\n",
       "<div class=\"ansiout\"></div>"
      ]
     },
     "metadata": {
      "application/vnd.databricks.v1+output": {
       "addedWidgets": {},
       "arguments": {},
       "data": "<div class=\"ansiout\"></div>",
       "datasetInfos": [],
       "removedWidgets": [],
       "type": "html"
      }
     },
     "output_type": "display_data"
    }
   ],
   "source": [
    "!wget -q https://raw.githubusercontent.com/JohnSnowLabs/spark-nlp/master/src/test/resources/conll2003/eng.train\n",
    "\n",
    "#dbutils.fs.cp(\"file:/databricks/driver/sample-sentences-en.txt\", \"dbfs:/\")"
   ]
  },
  {
   "cell_type": "code",
   "execution_count": 0,
   "metadata": {
    "application/vnd.databricks.v1+cell": {
     "inputWidgets": {},
     "nuid": "02fb1d1b-3d38-4ecd-b08e-5e2b3969c23c",
     "showTitle": false,
     "title": ""
    }
   },
   "outputs": [
    {
     "data": {
      "text/html": [
       "<style scoped>\n",
       "  .ansiout {\n",
       "    display: block;\n",
       "    unicode-bidi: embed;\n",
       "    white-space: pre-wrap;\n",
       "    word-wrap: break-word;\n",
       "    word-break: break-all;\n",
       "    font-family: \"Source Code Pro\", \"Menlo\", monospace;;\n",
       "    font-size: 13px;\n",
       "    color: #555;\n",
       "    margin-left: 4px;\n",
       "    line-height: 19px;\n",
       "  }\n",
       "</style>\n",
       "<div class=\"ansiout\">+--------------------+--------------------+--------------------+--------------------+--------------------+--------------------+\n",
       "                text|            document|            sentence|               token|                 pos|               label|\n",
       "+--------------------+--------------------+--------------------+--------------------+--------------------+--------------------+\n",
       "EU rejects German...|[{document, 0, 47...|[{document, 0, 47...|[{token, 0, 1, EU...|[{pos, 0, 1, NNP,...|[{named_entity, 0...|\n",
       "     Peter Blackburn|[{document, 0, 14...|[{document, 0, 14...|[{token, 0, 4, Pe...|[{pos, 0, 4, NNP,...|[{named_entity, 0...|\n",
       " BRUSSELS 1996-08-22|[{document, 0, 18...|[{document, 0, 18...|[{token, 0, 7, BR...|[{pos, 0, 7, NNP,...|[{named_entity, 0...|\n",
       "+--------------------+--------------------+--------------------+--------------------+--------------------+--------------------+\n",
       "only showing top 3 rows\n",
       "\n",
       "</div>"
      ]
     },
     "metadata": {
      "application/vnd.databricks.v1+output": {
       "addedWidgets": {},
       "arguments": {},
       "data": "<div class=\"ansiout\">+--------------------+--------------------+--------------------+--------------------+--------------------+--------------------+\n|                text|            document|            sentence|               token|                 pos|               label|\n+--------------------+--------------------+--------------------+--------------------+--------------------+--------------------+\n|EU rejects German...|[{document, 0, 47...|[{document, 0, 47...|[{token, 0, 1, EU...|[{pos, 0, 1, NNP,...|[{named_entity, 0...|\n|     Peter Blackburn|[{document, 0, 14...|[{document, 0, 14...|[{token, 0, 4, Pe...|[{pos, 0, 4, NNP,...|[{named_entity, 0...|\n| BRUSSELS 1996-08-22|[{document, 0, 18...|[{document, 0, 18...|[{token, 0, 7, BR...|[{pos, 0, 7, NNP,...|[{named_entity, 0...|\n+--------------------+--------------------+--------------------+--------------------+--------------------+--------------------+\nonly showing top 3 rows\n\n</div>",
       "datasetInfos": [],
       "removedWidgets": [],
       "type": "html"
      }
     },
     "output_type": "display_data"
    }
   ],
   "source": [
    "from sparknlp.training import CoNLL\n",
    "\n",
    "training_data = CoNLL().readDataset(spark, 'file:/databricks/driver/eng.train')\n",
    "\n",
    "training_data.show(3)"
   ]
  },
  {
   "cell_type": "code",
   "execution_count": 0,
   "metadata": {
    "application/vnd.databricks.v1+cell": {
     "inputWidgets": {},
     "nuid": "48bde700-3773-4080-9601-d8d8ade3f025",
     "showTitle": false,
     "title": ""
    }
   },
   "outputs": [
    {
     "data": {
      "text/html": [
       "<style scoped>\n",
       "  .ansiout {\n",
       "    display: block;\n",
       "    unicode-bidi: embed;\n",
       "    white-space: pre-wrap;\n",
       "    word-wrap: break-word;\n",
       "    word-break: break-all;\n",
       "    font-family: \"Source Code Pro\", \"Menlo\", monospace;;\n",
       "    font-size: 13px;\n",
       "    color: #555;\n",
       "    margin-left: 4px;\n",
       "    line-height: 19px;\n",
       "  }\n",
       "</style>\n",
       "<div class=\"ansiout\">+------------+------+\n",
       "ground_truth|count |\n",
       "+------------+------+\n",
       "O           |169578|\n",
       "B-LOC       |7140  |\n",
       "B-PER       |6600  |\n",
       "B-ORG       |6321  |\n",
       "I-PER       |4528  |\n",
       "I-ORG       |3704  |\n",
       "B-MISC      |3438  |\n",
       "I-LOC       |1157  |\n",
       "I-MISC      |1155  |\n",
       "+------------+------+\n",
       "\n",
       "</div>"
      ]
     },
     "metadata": {
      "application/vnd.databricks.v1+output": {
       "addedWidgets": {},
       "arguments": {},
       "data": "<div class=\"ansiout\">+------------+------+\n|ground_truth|count |\n+------------+------+\n|O           |169578|\n|B-LOC       |7140  |\n|B-PER       |6600  |\n|B-ORG       |6321  |\n|I-PER       |4528  |\n|I-ORG       |3704  |\n|B-MISC      |3438  |\n|I-LOC       |1157  |\n|I-MISC      |1155  |\n+------------+------+\n\n</div>",
       "datasetInfos": [],
       "removedWidgets": [],
       "type": "html"
      }
     },
     "output_type": "display_data"
    }
   ],
   "source": [
    "training_data.select(F.explode(F.arrays_zip('token.result','label.result')).alias(\"cols\")) \\\n",
    ".select(F.expr(\"cols['0']\").alias(\"token\"),\n",
    "        F.expr(\"cols['1']\").alias(\"ground_truth\")).groupBy('ground_truth').count().orderBy('count', ascending=False).show(100,truncate=False)"
   ]
  },
  {
   "cell_type": "code",
   "execution_count": 0,
   "metadata": {
    "application/vnd.databricks.v1+cell": {
     "inputWidgets": {},
     "nuid": "95175ff9-980e-4720-8869-c5da9626dfc9",
     "showTitle": false,
     "title": ""
    }
   },
   "outputs": [
    {
     "data": {
      "text/html": [
       "<style scoped>\n",
       "  .ansiout {\n",
       "    display: block;\n",
       "    unicode-bidi: embed;\n",
       "    white-space: pre-wrap;\n",
       "    word-wrap: break-word;\n",
       "    word-break: break-all;\n",
       "    font-family: \"Source Code Pro\", \"Menlo\", monospace;;\n",
       "    font-size: 13px;\n",
       "    color: #555;\n",
       "    margin-left: 4px;\n",
       "    line-height: 19px;\n",
       "  }\n",
       "</style>\n",
       "<div class=\"ansiout\">glove_100d download started this may take some time.\n",
       "Approximate size to download 145.3 MB\n",
       "\r",
       "[ | ]\r",
       "[OK!]\n",
       "</div>"
      ]
     },
     "metadata": {
      "application/vnd.databricks.v1+output": {
       "addedWidgets": {},
       "arguments": {},
       "data": "<div class=\"ansiout\">glove_100d download started this may take some time.\nApproximate size to download 145.3 MB\n\r[ | ]\r[OK!]\n</div>",
       "datasetInfos": [],
       "removedWidgets": [],
       "type": "html"
      }
     },
     "output_type": "display_data"
    }
   ],
   "source": [
    "# You can use any word embeddings you want (Glove, Elmo, Bert, custom etc.)\n",
    "\n",
    "glove_embeddings = WordEmbeddingsModel.pretrained('glove_100d')\\\n",
    "          .setInputCols([\"document\", \"token\"])\\\n",
    "          .setOutputCol(\"embeddings\")"
   ]
  },
  {
   "cell_type": "code",
   "execution_count": 0,
   "metadata": {
    "application/vnd.databricks.v1+cell": {
     "inputWidgets": {},
     "nuid": "01ad1fac-2ce7-4d03-8623-bf136e3609f3",
     "showTitle": false,
     "title": ""
    }
   },
   "outputs": [
    {
     "data": {
      "text/html": [
       "<style scoped>\n",
       "  .ansiout {\n",
       "    display: block;\n",
       "    unicode-bidi: embed;\n",
       "    white-space: pre-wrap;\n",
       "    word-wrap: break-word;\n",
       "    word-break: break-all;\n",
       "    font-family: \"Source Code Pro\", \"Menlo\", monospace;;\n",
       "    font-size: 13px;\n",
       "    color: #555;\n",
       "    margin-left: 4px;\n",
       "    line-height: 19px;\n",
       "  }\n",
       "</style>\n",
       "<div class=\"ansiout\"></div>"
      ]
     },
     "metadata": {
      "application/vnd.databricks.v1+output": {
       "addedWidgets": {},
       "arguments": {},
       "data": "<div class=\"ansiout\"></div>",
       "datasetInfos": [],
       "removedWidgets": [],
       "type": "html"
      }
     },
     "output_type": "display_data"
    }
   ],
   "source": [
    "nerTagger = NerDLApproach()\\\n",
    "  .setInputCols([\"sentence\", \"token\", \"embeddings\"])\\\n",
    "  .setLabelColumn(\"label\")\\\n",
    "  .setOutputCol(\"ner\")\\\n",
    "  .setMaxEpochs(1)\\\n",
    "  .setLr(0.003)\\\n",
    "  .setPo(0.05)\\\n",
    "  .setBatchSize(32)\\\n",
    "  .setRandomSeed(0)\\\n",
    "  .setVerbose(1)\\\n",
    "  .setValidationSplit(0.2)\\\n",
    "  .setEvaluationLogExtended(True) \\\n",
    "  .setEnableOutputLogs(True)\\\n",
    "  .setIncludeConfidence(True)\\\n",
    "  .setOutputLogsPath('ner_logs') # if not set, logs will be written to ~/annotator_logs\n",
    " #.setGraphFolder('graphs') >> put your graph file (pb) under this folder if you are using a custom graph generated thru NerDL-Graph\n",
    "    \n",
    "    \n",
    "ner_pipeline = Pipeline(stages=[\n",
    "          glove_embeddings,\n",
    "          nerTagger\n",
    " ])"
   ]
  },
  {
   "cell_type": "code",
   "execution_count": 0,
   "metadata": {
    "application/vnd.databricks.v1+cell": {
     "inputWidgets": {},
     "nuid": "c329622f-c564-41bc-9c11-28330530bc83",
     "showTitle": false,
     "title": ""
    }
   },
   "outputs": [
    {
     "data": {
      "text/html": [
       "<style scoped>\n",
       "  .ansiout {\n",
       "    display: block;\n",
       "    unicode-bidi: embed;\n",
       "    white-space: pre-wrap;\n",
       "    word-wrap: break-word;\n",
       "    word-break: break-all;\n",
       "    font-family: \"Source Code Pro\", \"Menlo\", monospace;;\n",
       "    font-size: 13px;\n",
       "    color: #555;\n",
       "    margin-left: 4px;\n",
       "    line-height: 19px;\n",
       "  }\n",
       "</style>\n",
       "<div class=\"ansiout\"></div>"
      ]
     },
     "metadata": {
      "application/vnd.databricks.v1+output": {
       "addedWidgets": {},
       "arguments": {},
       "data": "<div class=\"ansiout\"></div>",
       "datasetInfos": [],
       "removedWidgets": [],
       "type": "html"
      }
     },
     "output_type": "display_data"
    }
   ],
   "source": [
    "ner_model = ner_pipeline.fit(training_data)\n",
    "\n",
    "# 1 epoch takes around 2.5 min with batch size=32\n",
    "# if you get an error for incompatible TF graph, use NERDL Graph script to generate the necessary TF graph at the end of this notebook"
   ]
  },
  {
   "cell_type": "code",
   "execution_count": 0,
   "metadata": {
    "application/vnd.databricks.v1+cell": {
     "inputWidgets": {},
     "nuid": "ac1f687e-32d0-460f-bb09-983e28dbcee4",
     "showTitle": false,
     "title": ""
    }
   },
   "outputs": [],
   "source": [
    "#%sh cd ~/annotator_logs && ls -lt"
   ]
  },
  {
   "cell_type": "code",
   "execution_count": 0,
   "metadata": {
    "application/vnd.databricks.v1+cell": {
     "inputWidgets": {},
     "nuid": "d17e011f-f47a-434e-9fec-a3d6b29a0f69",
     "showTitle": false,
     "title": ""
    }
   },
   "outputs": [
    {
     "data": {
      "text/html": [
       "<style scoped>\n",
       "  .ansiout {\n",
       "    display: block;\n",
       "    unicode-bidi: embed;\n",
       "    white-space: pre-wrap;\n",
       "    word-wrap: break-word;\n",
       "    word-break: break-all;\n",
       "    font-family: \"Source Code Pro\", \"Menlo\", monospace;;\n",
       "    font-size: 13px;\n",
       "    color: #555;\n",
       "    margin-left: 4px;\n",
       "    line-height: 19px;\n",
       "  }\n",
       "</style>\n",
       "<div class=\"ansiout\">total 8\n",
       "-rw-r--r-- 1 root root 1010 Apr 24 10:41 NerDLApproach_33f413aa8c2c.log\n",
       "-rw-r--r-- 1 root root  998 Apr 24 09:54 NerDLApproach_05c286e72850.log\n",
       "</div>"
      ]
     },
     "metadata": {
      "application/vnd.databricks.v1+output": {
       "addedWidgets": {},
       "arguments": {},
       "data": "<div class=\"ansiout\">total 8\n-rw-r--r-- 1 root root 1010 Apr 24 10:41 NerDLApproach_33f413aa8c2c.log\n-rw-r--r-- 1 root root  998 Apr 24 09:54 NerDLApproach_05c286e72850.log\n</div>",
       "datasetInfos": [],
       "removedWidgets": [],
       "type": "html"
      }
     },
     "output_type": "display_data"
    }
   ],
   "source": [
    "%sh cd ner_logs && ls -lt"
   ]
  },
  {
   "cell_type": "code",
   "execution_count": 0,
   "metadata": {
    "application/vnd.databricks.v1+cell": {
     "inputWidgets": {},
     "nuid": "4a1f7d7a-6551-4ad6-b99a-bb23d20bb4d8",
     "showTitle": false,
     "title": ""
    }
   },
   "outputs": [
    {
     "data": {
      "text/html": [
       "<style scoped>\n",
       "  .ansiout {\n",
       "    display: block;\n",
       "    unicode-bidi: embed;\n",
       "    white-space: pre-wrap;\n",
       "    word-wrap: break-word;\n",
       "    word-break: break-all;\n",
       "    font-family: \"Source Code Pro\", \"Menlo\", monospace;;\n",
       "    font-size: 13px;\n",
       "    color: #555;\n",
       "    margin-left: 4px;\n",
       "    line-height: 19px;\n",
       "  }\n",
       "</style>\n",
       "<div class=\"ansiout\">Name of the selected graph: ner-dl/blstm_10_100_128_120.pb\n",
       "Training started - total epochs: 1 - lr: 0.003 - batch size: 32 - labels: 9 - chars: 83 - training examples: 11212\n",
       "\n",
       "\n",
       "Epoch 1/1 started, lr: 0.003, dataset size: 11212\n",
       "\n",
       "\n",
       "Epoch 1/1 - 77.57s - loss: 999.1539 - batches: 353\n",
       "Quality on validation dataset (20.0%), validation examples = 2242\n",
       "time to finish evaluation: 6.40s\n",
       "label\t tp\t fp\t fn\t prec\t rec\t f1\n",
       "B-LOC\t 1312\t 76\t 105\t 0.94524497\t 0.9258998\t 0.93547237\n",
       "I-ORG\t 612\t 126\t 123\t 0.8292683\t 0.83265305\t 0.83095723\n",
       "I-MISC\t 164\t 46\t 87\t 0.7809524\t 0.6533865\t 0.71149683\n",
       "I-LOC\t 172\t 24\t 44\t 0.877551\t 0.7962963\t 0.83495146\n",
       "I-PER\t 899\t 49\t 19\t 0.9483122\t 0.9793028\t 0.9635584\n",
       "B-MISC\t 627\t 191\t 78\t 0.7665037\t 0.8893617\t 0.8233749\n",
       "B-ORG\t 1017\t 160\t 219\t 0.8640612\t 0.82281554\t 0.8429341\n",
       "B-PER\t 1221\t 67\t 84\t 0.94798136\t 0.93563217\t 0.94176626\n",
       "tp: 6024 fp: 739 fn: 759 labels: 8\n",
       "Macro-average\t prec: 0.86998445, rec: 0.85441846, f1: 0.8621312\n",
       "Micro-average\t prec: 0.89072895, rec: 0.8881026, f1: 0.88941383\n",
       "</div>"
      ]
     },
     "metadata": {
      "application/vnd.databricks.v1+output": {
       "addedWidgets": {},
       "arguments": {},
       "data": "<div class=\"ansiout\">Name of the selected graph: ner-dl/blstm_10_100_128_120.pb\nTraining started - total epochs: 1 - lr: 0.003 - batch size: 32 - labels: 9 - chars: 83 - training examples: 11212\n\n\nEpoch 1/1 started, lr: 0.003, dataset size: 11212\n\n\nEpoch 1/1 - 77.57s - loss: 999.1539 - batches: 353\nQuality on validation dataset (20.0%), validation examples = 2242\ntime to finish evaluation: 6.40s\nlabel\t tp\t fp\t fn\t prec\t rec\t f1\nB-LOC\t 1312\t 76\t 105\t 0.94524497\t 0.9258998\t 0.93547237\nI-ORG\t 612\t 126\t 123\t 0.8292683\t 0.83265305\t 0.83095723\nI-MISC\t 164\t 46\t 87\t 0.7809524\t 0.6533865\t 0.71149683\nI-LOC\t 172\t 24\t 44\t 0.877551\t 0.7962963\t 0.83495146\nI-PER\t 899\t 49\t 19\t 0.9483122\t 0.9793028\t 0.9635584\nB-MISC\t 627\t 191\t 78\t 0.7665037\t 0.8893617\t 0.8233749\nB-ORG\t 1017\t 160\t 219\t 0.8640612\t 0.82281554\t 0.8429341\nB-PER\t 1221\t 67\t 84\t 0.94798136\t 0.93563217\t 0.94176626\ntp: 6024 fp: 739 fn: 759 labels: 8\nMacro-average\t prec: 0.86998445, rec: 0.85441846, f1: 0.8621312\nMicro-average\t prec: 0.89072895, rec: 0.8881026, f1: 0.88941383\n</div>",
       "datasetInfos": [],
       "removedWidgets": [],
       "type": "html"
      }
     },
     "output_type": "display_data"
    }
   ],
   "source": [
    "%sh head -n 45 ner_logs/NerDLApproach_33f413aa8c2c.log"
   ]
  },
  {
   "cell_type": "code",
   "execution_count": 0,
   "metadata": {
    "application/vnd.databricks.v1+cell": {
     "inputWidgets": {},
     "nuid": "30225eda-0301-4b05-bebf-bd047e709d0e",
     "showTitle": false,
     "title": ""
    }
   },
   "outputs": [
    {
     "data": {
      "text/html": [
       "<style scoped>\n",
       "  .ansiout {\n",
       "    display: block;\n",
       "    unicode-bidi: embed;\n",
       "    white-space: pre-wrap;\n",
       "    word-wrap: break-word;\n",
       "    word-break: break-all;\n",
       "    font-family: \"Source Code Pro\", \"Menlo\", monospace;;\n",
       "    font-size: 13px;\n",
       "    color: #555;\n",
       "    margin-left: 4px;\n",
       "    line-height: 19px;\n",
       "  }\n",
       "</style>\n",
       "<div class=\"ansiout\">total 54884\n",
       "drwxr-xr-x 1 root root     4096 Apr 24 10:39 .\n",
       "drwxr-xr-x 1 root root     4096 Apr 24 09:38 ..\n",
       "drwxr-xr-x 2 root root     4096 Jan  1  1970 conf\n",
       "-rw-r--r-- 1 root root  3283420 Apr 24 09:51 eng.train\n",
       "-rw-r--r-- 1 root root  3283420 Apr 24 10:39 eng.train.1\n",
       "drwxr-xr-x 3 root root     4096 Apr 24 09:38 eventlogs\n",
       "-rw-r--r-- 1 root root       27 Apr 24 10:38 financial_entities.txt\n",
       "drwxr-xr-x 2 root root     4096 Apr 24 11:15 ganglia\n",
       "drwxr-xr-x 2 root root     4096 Apr 24 11:03 logs\n",
       "drwxr-xr-x 2 root root     4096 Apr 24 09:55 models\n",
       "drwxr-xr-x 2 root root     4096 Apr 24 10:40 ner_logs\n",
       "-rw-r--r-- 1 root root  1504408 Apr 24 09:55 news_category_test.csv\n",
       "-rw-r--r-- 1 root root 24032125 Apr 24 09:46 news_category_train.csv\n",
       "-rw-r--r-- 1 root root 24032125 Apr 24 10:38 news_category_train.csv.1\n",
       "-rw-r--r-- 1 root root      284 Apr 24 09:45 sample-sentences-en.txt\n",
       "-rw-r--r-- 1 root root      284 Apr 24 10:38 sample-sentences-en.txt.1\n",
       "-rw-r--r-- 1 root root       36 Apr 24 10:38 sport_entities.txt\n",
       "</div>"
      ]
     },
     "metadata": {
      "application/vnd.databricks.v1+output": {
       "addedWidgets": {},
       "arguments": {},
       "data": "<div class=\"ansiout\">total 54884\ndrwxr-xr-x 1 root root     4096 Apr 24 10:39 .\ndrwxr-xr-x 1 root root     4096 Apr 24 09:38 ..\ndrwxr-xr-x 2 root root     4096 Jan  1  1970 conf\n-rw-r--r-- 1 root root  3283420 Apr 24 09:51 eng.train\n-rw-r--r-- 1 root root  3283420 Apr 24 10:39 eng.train.1\ndrwxr-xr-x 3 root root     4096 Apr 24 09:38 eventlogs\n-rw-r--r-- 1 root root       27 Apr 24 10:38 financial_entities.txt\ndrwxr-xr-x 2 root root     4096 Apr 24 11:15 ganglia\ndrwxr-xr-x 2 root root     4096 Apr 24 11:03 logs\ndrwxr-xr-x 2 root root     4096 Apr 24 09:55 models\ndrwxr-xr-x 2 root root     4096 Apr 24 10:40 ner_logs\n-rw-r--r-- 1 root root  1504408 Apr 24 09:55 news_category_test.csv\n-rw-r--r-- 1 root root 24032125 Apr 24 09:46 news_category_train.csv\n-rw-r--r-- 1 root root 24032125 Apr 24 10:38 news_category_train.csv.1\n-rw-r--r-- 1 root root      284 Apr 24 09:45 sample-sentences-en.txt\n-rw-r--r-- 1 root root      284 Apr 24 10:38 sample-sentences-en.txt.1\n-rw-r--r-- 1 root root       36 Apr 24 10:38 sport_entities.txt\n</div>",
       "datasetInfos": [],
       "removedWidgets": [],
       "type": "html"
      }
     },
     "output_type": "display_data"
    }
   ],
   "source": [
    "%sh ls -la"
   ]
  },
  {
   "cell_type": "code",
   "execution_count": 0,
   "metadata": {
    "application/vnd.databricks.v1+cell": {
     "inputWidgets": {},
     "nuid": "8d15410d-0c01-4c6c-bc5d-4aa5e1fc08df",
     "showTitle": false,
     "title": ""
    }
   },
   "outputs": [],
   "source": [
    "%sh mkdir models"
   ]
  },
  {
   "cell_type": "code",
   "execution_count": 0,
   "metadata": {
    "application/vnd.databricks.v1+cell": {
     "inputWidgets": {},
     "nuid": "ef0584a5-4658-4b2a-b64e-f3e325f43617",
     "showTitle": false,
     "title": ""
    }
   },
   "outputs": [],
   "source": [
    "ner_model.stages[1].write().overwrite().save('/databricks/driver/models/NER_glove_e1_b32')"
   ]
  },
  {
   "cell_type": "code",
   "execution_count": 0,
   "metadata": {
    "application/vnd.databricks.v1+cell": {
     "inputWidgets": {},
     "nuid": "4fb2a4c7-7c44-4bff-af90-693f2b05f744",
     "showTitle": false,
     "title": ""
    }
   },
   "outputs": [
    {
     "data": {
      "text/html": [
       "<style scoped>\n",
       "  .ansiout {\n",
       "    display: block;\n",
       "    unicode-bidi: embed;\n",
       "    white-space: pre-wrap;\n",
       "    word-wrap: break-word;\n",
       "    word-break: break-all;\n",
       "    font-family: \"Source Code Pro\", \"Menlo\", monospace;;\n",
       "    font-size: 13px;\n",
       "    color: #555;\n",
       "    margin-left: 4px;\n",
       "    line-height: 19px;\n",
       "  }\n",
       "</style>\n",
       "<div class=\"ansiout\"></div>"
      ]
     },
     "metadata": {
      "application/vnd.databricks.v1+output": {
       "addedWidgets": {},
       "arguments": {},
       "data": "<div class=\"ansiout\"></div>",
       "datasetInfos": [],
       "removedWidgets": [],
       "type": "html"
      }
     },
     "output_type": "display_data"
    }
   ],
   "source": [
    "# load back and use in any pipeline\n",
    "\n",
    "loaded_ner_model = NerDLModel.load(\"/databricks/driver/models/NER_glove_e1_b32\")\\\n",
    " .setInputCols([\"sentence\", \"token\", \"embeddings\"])\\\n",
    " .setOutputCol(\"ner\")"
   ]
  },
  {
   "cell_type": "markdown",
   "metadata": {
    "application/vnd.databricks.v1+cell": {
     "inputWidgets": {},
     "nuid": "d48cd6cd-76e4-437f-935c-c26c728611f3",
     "showTitle": false,
     "title": ""
    }
   },
   "source": [
    "### Text Classification\n",
    "\n",
    "for a detailed notebook, see https://github.com/JohnSnowLabs/spark-nlp-workshop/blob/master/tutorials/Certification_Trainings/Public/5.Text_Classification_with_ClassifierDL.ipynb"
   ]
  },
  {
   "cell_type": "code",
   "execution_count": 0,
   "metadata": {
    "application/vnd.databricks.v1+cell": {
     "inputWidgets": {},
     "nuid": "11a1cd58-680e-4611-bf39-dda0d4fe6499",
     "showTitle": false,
     "title": ""
    }
   },
   "outputs": [],
   "source": [
    "! wget -q https://raw.githubusercontent.com/JohnSnowLabs/spark-nlp-workshop/master/tutorials/Certification_Trainings/Public/data/news_category_test.csv"
   ]
  },
  {
   "cell_type": "code",
   "execution_count": 0,
   "metadata": {
    "application/vnd.databricks.v1+cell": {
     "inputWidgets": {},
     "nuid": "9788f4af-d1bf-40b0-ba4b-2bc37dd56740",
     "showTitle": false,
     "title": ""
    }
   },
   "outputs": [
    {
     "data": {
      "text/html": [
       "<style scoped>\n",
       "  .ansiout {\n",
       "    display: block;\n",
       "    unicode-bidi: embed;\n",
       "    white-space: pre-wrap;\n",
       "    word-wrap: break-word;\n",
       "    word-break: break-all;\n",
       "    font-family: \"Source Code Pro\", \"Menlo\", monospace;;\n",
       "    font-size: 13px;\n",
       "    color: #555;\n",
       "    margin-left: 4px;\n",
       "    line-height: 19px;\n",
       "  }\n",
       "</style>\n",
       "<div class=\"ansiout\">+--------+-----+\n",
       "category|count|\n",
       "+--------+-----+\n",
       "   World|30000|\n",
       "Sci/Tech|30000|\n",
       "  Sports|30000|\n",
       "Business|30000|\n",
       "+--------+-----+\n",
       "\n",
       "</div>"
      ]
     },
     "metadata": {
      "application/vnd.databricks.v1+output": {
       "addedWidgets": {},
       "arguments": {},
       "data": "<div class=\"ansiout\">+--------+-----+\n|category|count|\n+--------+-----+\n|   World|30000|\n|Sci/Tech|30000|\n|  Sports|30000|\n|Business|30000|\n+--------+-----+\n\n</div>",
       "datasetInfos": [],
       "removedWidgets": [],
       "type": "html"
      }
     },
     "output_type": "display_data"
    }
   ],
   "source": [
    "from pyspark.sql.functions import col\n",
    "\n",
    "trainDataset = spark.read \\\n",
    "      .option(\"header\", True) \\\n",
    "      .csv(\"/news_category_train.csv\")\n",
    "\n",
    "trainDataset.groupBy(\"category\") \\\n",
    "    .count() \\\n",
    "    .orderBy(col(\"count\").desc()) \\\n",
    "    .show()"
   ]
  },
  {
   "cell_type": "code",
   "execution_count": 0,
   "metadata": {
    "application/vnd.databricks.v1+cell": {
     "inputWidgets": {},
     "nuid": "1aeff354-d681-4e07-9ae5-4f6acfba0d7c",
     "showTitle": false,
     "title": ""
    }
   },
   "outputs": [
    {
     "data": {
      "text/html": [
       "<style scoped>\n",
       "  .ansiout {\n",
       "    display: block;\n",
       "    unicode-bidi: embed;\n",
       "    white-space: pre-wrap;\n",
       "    word-wrap: break-word;\n",
       "    word-break: break-all;\n",
       "    font-family: \"Source Code Pro\", \"Menlo\", monospace;;\n",
       "    font-size: 13px;\n",
       "    color: #555;\n",
       "    margin-left: 4px;\n",
       "    line-height: 19px;\n",
       "  }\n",
       "</style>\n",
       "<div class=\"ansiout\">+--------+-----+\n",
       "category|count|\n",
       "+--------+-----+\n",
       "   World| 1900|\n",
       "Sci/Tech| 1900|\n",
       "  Sports| 1900|\n",
       "Business| 1900|\n",
       "+--------+-----+\n",
       "\n",
       "</div>"
      ]
     },
     "metadata": {
      "application/vnd.databricks.v1+output": {
       "addedWidgets": {},
       "arguments": {},
       "data": "<div class=\"ansiout\">+--------+-----+\n|category|count|\n+--------+-----+\n|   World| 1900|\n|Sci/Tech| 1900|\n|  Sports| 1900|\n|Business| 1900|\n+--------+-----+\n\n</div>",
       "datasetInfos": [],
       "removedWidgets": [],
       "type": "html"
      }
     },
     "output_type": "display_data"
    }
   ],
   "source": [
    "testDataset = spark.read \\\n",
    "      .option(\"header\", True) \\\n",
    "      .csv(\"/news_category_test.csv\")\n",
    "\n",
    "\n",
    "testDataset.groupBy(\"category\") \\\n",
    "    .count() \\\n",
    "    .orderBy(col(\"count\").desc()) \\\n",
    "    .show()"
   ]
  },
  {
   "cell_type": "code",
   "execution_count": 0,
   "metadata": {
    "application/vnd.databricks.v1+cell": {
     "inputWidgets": {},
     "nuid": "aa8089e2-5ead-4d4d-9712-57d1d655a77e",
     "showTitle": false,
     "title": ""
    }
   },
   "outputs": [
    {
     "data": {
      "text/html": [
       "<style scoped>\n",
       "  .ansiout {\n",
       "    display: block;\n",
       "    unicode-bidi: embed;\n",
       "    white-space: pre-wrap;\n",
       "    word-wrap: break-word;\n",
       "    word-break: break-all;\n",
       "    font-family: \"Source Code Pro\", \"Menlo\", monospace;;\n",
       "    font-size: 13px;\n",
       "    color: #555;\n",
       "    margin-left: 4px;\n",
       "    line-height: 19px;\n",
       "  }\n",
       "</style>\n",
       "<div class=\"ansiout\">tfhub_use download started this may take some time.\n",
       "Approximate size to download 923.7 MB\n",
       "\r",
       "[ | ]\r",
       "[OK!]\n",
       "</div>"
      ]
     },
     "metadata": {
      "application/vnd.databricks.v1+output": {
       "addedWidgets": {},
       "arguments": {},
       "data": "<div class=\"ansiout\">tfhub_use download started this may take some time.\nApproximate size to download 923.7 MB\n\r[ | ]\r[OK!]\n</div>",
       "datasetInfos": [],
       "removedWidgets": [],
       "type": "html"
      }
     },
     "output_type": "display_data"
    }
   ],
   "source": [
    "# actual content is inside description column\n",
    "document = DocumentAssembler()\\\n",
    "    .setInputCol(\"description\")\\\n",
    "    .setOutputCol(\"document\")\n",
    "    \n",
    "# we can also use sentece detector here if we want to train on and get predictions for each sentence\n",
    "\n",
    "use_embeddings = UniversalSentenceEncoder.pretrained('tfhub_use')\\\n",
    "    .setInputCols([\"document\"])\\\n",
    "    .setOutputCol(\"sentence_embeddings\")\n",
    "\n",
    "# the classes/labels/categories are in category column\n",
    "classsifierdl = ClassifierDLApproach()\\\n",
    "    .setInputCols([\"sentence_embeddings\"])\\\n",
    "    .setOutputCol(\"class\")\\\n",
    "    .setLabelColumn(\"category\")\\\n",
    "    .setMaxEpochs(5)\\\n",
    "    .setEnableOutputLogs(True)\n",
    "\n",
    "use_clf_pipeline = Pipeline(\n",
    "    stages = [\n",
    "        document,\n",
    "        use_embeddings,\n",
    "        classsifierdl\n",
    "    ])"
   ]
  },
  {
   "cell_type": "code",
   "execution_count": 0,
   "metadata": {
    "application/vnd.databricks.v1+cell": {
     "inputWidgets": {},
     "nuid": "b3d40e77-e4c6-42cd-8612-49ed315be79d",
     "showTitle": false,
     "title": ""
    }
   },
   "outputs": [
    {
     "data": {
      "text/html": [
       "<style scoped>\n",
       "  .ansiout {\n",
       "    display: block;\n",
       "    unicode-bidi: embed;\n",
       "    white-space: pre-wrap;\n",
       "    word-wrap: break-word;\n",
       "    word-break: break-all;\n",
       "    font-family: \"Source Code Pro\", \"Menlo\", monospace;;\n",
       "    font-size: 13px;\n",
       "    color: #555;\n",
       "    margin-left: 4px;\n",
       "    line-height: 19px;\n",
       "  }\n",
       "</style>\n",
       "<div class=\"ansiout\"></div>"
      ]
     },
     "metadata": {
      "application/vnd.databricks.v1+output": {
       "addedWidgets": {},
       "arguments": {},
       "data": "<div class=\"ansiout\"></div>",
       "datasetInfos": [],
       "removedWidgets": [],
       "type": "html"
      }
     },
     "output_type": "display_data"
    }
   ],
   "source": [
    "use_pipelineModel = use_clf_pipeline.fit(trainDataset)\n",
    "# 5 epochs takes around 3 min"
   ]
  },
  {
   "cell_type": "code",
   "execution_count": 0,
   "metadata": {
    "application/vnd.databricks.v1+cell": {
     "inputWidgets": {},
     "nuid": "e6433499-ab62-465f-ab25-e785a1d31581",
     "showTitle": false,
     "title": ""
    }
   },
   "outputs": [
    {
     "data": {
      "text/html": [
       "<style scoped>\n",
       "  .ansiout {\n",
       "    display: block;\n",
       "    unicode-bidi: embed;\n",
       "    white-space: pre-wrap;\n",
       "    word-wrap: break-word;\n",
       "    word-break: break-all;\n",
       "    font-family: \"Source Code Pro\", \"Menlo\", monospace;;\n",
       "    font-size: 13px;\n",
       "    color: #555;\n",
       "    margin-left: 4px;\n",
       "    line-height: 19px;\n",
       "  }\n",
       "</style>\n",
       "<div class=\"ansiout\">total 8\n",
       "-rw-r--r-- 1 root root 456 Apr 24 11:23 ClassifierDLApproach_ac9199b197d9.log\n",
       "-rw-r--r-- 1 root root 459 Apr 24 09:59 ClassifierDLApproach_8d3f13182df3.log\n",
       "</div>"
      ]
     },
     "metadata": {
      "application/vnd.databricks.v1+output": {
       "addedWidgets": {},
       "arguments": {},
       "data": "<div class=\"ansiout\">total 8\n-rw-r--r-- 1 root root 456 Apr 24 11:23 ClassifierDLApproach_ac9199b197d9.log\n-rw-r--r-- 1 root root 459 Apr 24 09:59 ClassifierDLApproach_8d3f13182df3.log\n</div>",
       "datasetInfos": [],
       "removedWidgets": [],
       "type": "html"
      }
     },
     "output_type": "display_data"
    }
   ],
   "source": [
    "%sh cd ~/annotator_logs && ls -lt"
   ]
  },
  {
   "cell_type": "code",
   "execution_count": 0,
   "metadata": {
    "application/vnd.databricks.v1+cell": {
     "inputWidgets": {},
     "nuid": "1c688ed8-96fc-4f93-ada8-f3c93818653a",
     "showTitle": false,
     "title": ""
    }
   },
   "outputs": [
    {
     "data": {
      "text/html": [
       "<style scoped>\n",
       "  .ansiout {\n",
       "    display: block;\n",
       "    unicode-bidi: embed;\n",
       "    white-space: pre-wrap;\n",
       "    word-wrap: break-word;\n",
       "    word-break: break-all;\n",
       "    font-family: \"Source Code Pro\", \"Menlo\", monospace;;\n",
       "    font-size: 13px;\n",
       "    color: #555;\n",
       "    margin-left: 4px;\n",
       "    line-height: 19px;\n",
       "  }\n",
       "</style>\n",
       "<div class=\"ansiout\">Training started - epochs: 5 - learning_rate: 0.005 - batch_size: 64 - training_examples: 120000 - classes: 4\n",
       "Epoch 0/5 - 17.97s - loss: 1622.506 - acc: 0.880425 - batches: 1875\n",
       "Epoch 1/5 - 17.72s - loss: 1603.0123 - acc: 0.8917583 - batches: 1875\n",
       "Epoch 2/5 - 19.33s - loss: 1588.2645 - acc: 0.897075 - batches: 1875\n",
       "Epoch 3/5 - 19.21s - loss: 1579.3763 - acc: 0.9012667 - batches: 1875\n",
       "Epoch 4/5 - 18.81s - loss: 1574.4634 - acc: 0.904375 - batches: 1875\n",
       "</div>"
      ]
     },
     "metadata": {
      "application/vnd.databricks.v1+output": {
       "addedWidgets": {},
       "arguments": {},
       "data": "<div class=\"ansiout\">Training started - epochs: 5 - learning_rate: 0.005 - batch_size: 64 - training_examples: 120000 - classes: 4\nEpoch 0/5 - 17.97s - loss: 1622.506 - acc: 0.880425 - batches: 1875\nEpoch 1/5 - 17.72s - loss: 1603.0123 - acc: 0.8917583 - batches: 1875\nEpoch 2/5 - 19.33s - loss: 1588.2645 - acc: 0.897075 - batches: 1875\nEpoch 3/5 - 19.21s - loss: 1579.3763 - acc: 0.9012667 - batches: 1875\nEpoch 4/5 - 18.81s - loss: 1574.4634 - acc: 0.904375 - batches: 1875\n</div>",
       "datasetInfos": [],
       "removedWidgets": [],
       "type": "html"
      }
     },
     "output_type": "display_data"
    }
   ],
   "source": [
    "%sh cat ~/annotator_logs/ClassifierDLApproach_ac9199b197d9.log\n"
   ]
  },
  {
   "cell_type": "code",
   "execution_count": 0,
   "metadata": {
    "application/vnd.databricks.v1+cell": {
     "inputWidgets": {},
     "nuid": "9f88bec0-930c-4a18-b5c1-e1f5e965d70f",
     "showTitle": false,
     "title": ""
    }
   },
   "outputs": [
    {
     "data": {
      "text/html": [
       "<style scoped>\n",
       "  .ansiout {\n",
       "    display: block;\n",
       "    unicode-bidi: embed;\n",
       "    white-space: pre-wrap;\n",
       "    word-wrap: break-word;\n",
       "    word-break: break-all;\n",
       "    font-family: \"Source Code Pro\", \"Menlo\", monospace;;\n",
       "    font-size: 13px;\n",
       "    color: #555;\n",
       "    margin-left: 4px;\n",
       "    line-height: 19px;\n",
       "  }\n",
       "</style>\n",
       "<div class=\"ansiout\">Out[70]: [&#39;World&#39;]</div>"
      ]
     },
     "metadata": {
      "application/vnd.databricks.v1+output": {
       "addedWidgets": {},
       "arguments": {},
       "data": "<div class=\"ansiout\">Out[70]: [&#39;World&#39;]</div>",
       "datasetInfos": [],
       "removedWidgets": [],
       "type": "html"
      }
     },
     "output_type": "display_data"
    }
   ],
   "source": [
    "from sparknlp.base import LightPipeline\n",
    "\n",
    "light_model = LightPipeline(use_pipelineModel)\n",
    "\n",
    "text='''\n",
    "Fearing the fate of Italy, the centre-right government has threatened to be merciless with those who flout tough restrictions. \n",
    "As of Wednesday it will also include all shops being closed across Greece, with the exception of supermarkets. Banks, pharmacies, pet-stores, mobile phone stores, opticians, bakers, mini-markets, couriers and food delivery outlets are among the few that will also be allowed to remain open.\n",
    "'''\n",
    "result = light_model.annotate(text)\n",
    "\n",
    "result['class']"
   ]
  },
  {
   "cell_type": "code",
   "execution_count": 0,
   "metadata": {
    "application/vnd.databricks.v1+cell": {
     "inputWidgets": {},
     "nuid": "2e4ae633-ee42-4cbb-894e-3679cfa55f3f",
     "showTitle": false,
     "title": ""
    }
   },
   "outputs": [
    {
     "data": {
      "text/html": [
       "<style scoped>\n",
       "  .ansiout {\n",
       "    display: block;\n",
       "    unicode-bidi: embed;\n",
       "    white-space: pre-wrap;\n",
       "    word-wrap: break-word;\n",
       "    word-break: break-all;\n",
       "    font-family: \"Source Code Pro\", \"Menlo\", monospace;;\n",
       "    font-size: 13px;\n",
       "    color: #555;\n",
       "    margin-left: 4px;\n",
       "    line-height: 19px;\n",
       "  }\n",
       "</style>\n",
       "<div class=\"ansiout\">Out[71]: {&#39;document&#39;: [&#39;the soccer games will be postponed.&#39;],\n",
       " &#39;sentence_embeddings&#39;: [&#39;the soccer games will be postponed.&#39;],\n",
       " &#39;class&#39;: [&#39;Sports&#39;]}</div>"
      ]
     },
     "metadata": {
      "application/vnd.databricks.v1+output": {
       "addedWidgets": {},
       "arguments": {},
       "data": "<div class=\"ansiout\">Out[71]: {&#39;document&#39;: [&#39;the soccer games will be postponed.&#39;],\n &#39;sentence_embeddings&#39;: [&#39;the soccer games will be postponed.&#39;],\n &#39;class&#39;: [&#39;Sports&#39;]}</div>",
       "datasetInfos": [],
       "removedWidgets": [],
       "type": "html"
      }
     },
     "output_type": "display_data"
    }
   ],
   "source": [
    "light_model.annotate('the soccer games will be postponed.')\n"
   ]
  },
  {
   "cell_type": "markdown",
   "metadata": {
    "application/vnd.databricks.v1+cell": {
     "inputWidgets": {},
     "nuid": "18dff0fd-8837-40e5-b99b-6f1f8e8b5b23",
     "showTitle": false,
     "title": ""
    }
   },
   "source": [
    "# NerDL Graph"
   ]
  },
  {
   "cell_type": "code",
   "execution_count": 0,
   "metadata": {
    "application/vnd.databricks.v1+cell": {
     "inputWidgets": {},
     "nuid": "ea933535-bc7c-4e70-9e03-590d596c7643",
     "showTitle": false,
     "title": ""
    }
   },
   "outputs": [
    {
     "data": {
      "text/html": [
       "<style scoped>\n",
       "  .ansiout {\n",
       "    display: block;\n",
       "    unicode-bidi: embed;\n",
       "    white-space: pre-wrap;\n",
       "    word-wrap: break-word;\n",
       "    word-break: break-all;\n",
       "    font-family: \"Source Code Pro\", \"Menlo\", monospace;;\n",
       "    font-size: 13px;\n",
       "    color: #555;\n",
       "    margin-left: 4px;\n",
       "    line-height: 19px;\n",
       "  }\n",
       "</style>"
      ]
     },
     "metadata": {
      "application/vnd.databricks.v1+output": {
       "arguments": {},
       "data": "",
       "errorSummary": "",
       "type": "ipynbError"
      }
     },
     "output_type": "display_data"
    }
   ],
   "source": [
    "!pip -q install tensorflow==1.15.0"
   ]
  },
  {
   "cell_type": "code",
   "execution_count": 0,
   "metadata": {
    "application/vnd.databricks.v1+cell": {
     "inputWidgets": {},
     "nuid": "115e9a5a-919d-4533-b38c-05068612d359",
     "showTitle": false,
     "title": ""
    }
   },
   "outputs": [
    {
     "data": {
      "text/html": [
       "<style scoped>\n",
       "  .ansiout {\n",
       "    display: block;\n",
       "    unicode-bidi: embed;\n",
       "    white-space: pre-wrap;\n",
       "    word-wrap: break-word;\n",
       "    word-break: break-all;\n",
       "    font-family: \"Source Code Pro\", \"Menlo\", monospace;;\n",
       "    font-size: 13px;\n",
       "    color: #555;\n",
       "    margin-left: 4px;\n",
       "    line-height: 19px;\n",
       "  }\n",
       "</style>"
      ]
     },
     "metadata": {
      "application/vnd.databricks.v1+output": {
       "arguments": {},
       "data": "",
       "errorSummary": "",
       "type": "ipynbError"
      }
     },
     "output_type": "display_data"
    }
   ],
   "source": [
    "!wget -q https://raw.githubusercontent.com/JohnSnowLabs/spark-nlp-workshop/master/jupyter/training/english/dl-ner/nerdl-graph/create_graph.py\n",
    "!wget -q https://raw.githubusercontent.com/JohnSnowLabs/spark-nlp-workshop/master/jupyter/training/english/dl-ner/nerdl-graph/dataset_encoder.py\n",
    "!wget -q https://raw.githubusercontent.com/JohnSnowLabs/spark-nlp-workshop/master/jupyter/training/english/dl-ner/nerdl-graph/ner_model.py\n",
    "!wget -q https://raw.githubusercontent.com/JohnSnowLabs/spark-nlp-workshop/master/jupyter/training/english/dl-ner/nerdl-graph/ner_model_saver.py\n",
    "!wget -q https://raw.githubusercontent.com/JohnSnowLabs/spark-nlp-workshop/master/jupyter/training/english/dl-ner/nerdl-graph/sentence_grouper.py\n",
    "import sys\n",
    "sys.path.append('/databricks/driver/')\n",
    "sys.path.append('/databricks/driver/create_graph.py')\n",
    "import create_graph\n",
    "\n",
    "ntags = 12 # number of labels\n",
    "embeddings_dim = 90\n",
    "nchars =60\n",
    "create_graph.create_graph(ntags, embeddings_dim, nchars)"
   ]
  },
  {
   "cell_type": "code",
   "execution_count": 0,
   "metadata": {
    "application/vnd.databricks.v1+cell": {
     "inputWidgets": {},
     "nuid": "0a907adc-0be0-4391-a55d-2f54bb0379f3",
     "showTitle": false,
     "title": ""
    }
   },
   "outputs": [],
   "source": [
    "%sh ls -la"
   ]
  },
  {
   "cell_type": "markdown",
   "metadata": {
    "application/vnd.databricks.v1+cell": {
     "inputWidgets": {},
     "nuid": "d323163c-6777-4362-b402-5f8aadf65ad4",
     "showTitle": false,
     "title": ""
    }
   },
   "source": [
    "End of Notebook # 10"
   ]
  }
 ],
 "metadata": {
  "application/vnd.databricks.v1+notebook": {
   "dashboards": [],
   "language": "python",
   "notebookMetadata": {
    "pythonIndentUnit": 2
   },
   "notebookName": "10.SparkNLP_openSource_workshop_1hr",
   "notebookOrigID": 1032213766630986,
   "widgets": {}
  },
  "kernelspec": {
   "display_name": "Python 3",
   "language": "python",
   "name": "python3"
  },
  "language_info": {
   "codemirror_mode": {
    "name": "ipython",
    "version": 3
   },
   "file_extension": ".py",
   "mimetype": "text/x-python",
   "name": "python",
   "nbconvert_exporter": "python",
   "pygments_lexer": "ipython3",
   "version": "3.8.3"
  }
 },
 "nbformat": 4,
 "nbformat_minor": 1
}

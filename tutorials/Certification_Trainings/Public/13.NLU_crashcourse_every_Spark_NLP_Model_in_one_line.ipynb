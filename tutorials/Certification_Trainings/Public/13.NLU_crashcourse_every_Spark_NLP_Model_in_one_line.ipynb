{
  "nbformat": 4,
  "nbformat_minor": 0,
  "metadata": {
    "colab": {
      "name": "13.NLU_crashcourse_every_Spark_NLP_Model_in_one_line.ipynb",
      "provenance": [],
      "collapsed_sections": []
    },
    "kernelspec": {
      "name": "python3",
      "display_name": "Python 3"
    },
    "language_info": {
      "name": "python"
    }
  },
  "cells": [
    {
      "cell_type": "markdown",
      "metadata": {
        "id": "o8rERttgz2WZ"
      },
      "source": [
        "![JohnSnowLabs](https://nlp.johnsnowlabs.com/assets/images/logo.png)\n",
        "\n",
        "[![Open In Colab](https://colab.research.google.com/assets/colab-badge.svg)](https://colab.research.google.com/github/JohnSnowLabs/spark-nlp-workshop/blob/master/tutorials/Certification_Trainings/Public/13.NLU_crashcourse_every_Spark_NLP_Model_in_one_line.ipynb)\n",
        "\n",
        "\n",
        "# NLU 20 Minutes Crashcourse - the fast & easy Data Science route\n",
        "\n",
        "\n",
        "## Spark NLP vs NLU, whats the difference?\n",
        "[NLU](https://nlu.johnsnowlabs.com/) is a Python wrapper around Spark NLP. It gives you all of Spark NLPs features in 1 line of code and supports all the common Pythonic Data Structures like Pandas and Modin Dataframes. It's the ultimate tool to swifitly explore the models in Spark NLP and evaluate them for different use cases. With NLU you can : \n",
        "\n",
        "- Use any Model in Spark NLP in 1 line of code, by leveragin NLU's automatic pipeline generation\n",
        "- Predicts on most common Python data structure like strings and Pandas array\n",
        "- Transforms the Spark NLP Dataframe structure into a pretty Pandas Dataframe structure, which can be configured to `document`, `sentence`, `chunk`, and`token` output levels.\n",
        "- Enables you to visualize outputs of  models in 1 line of code using the [viz methods](https://nlu.johnsnowlabs.com/docs/en/viz_examples)\n",
        "- Use a [Powerful Streamlit Dashboard and Buildingblocks](https://nlu.johnsnowlabs.com/docs/en/streamlit_viz_examples) that enable to you to test out any model in 0 lines of code using a GUI. In addition, you can compare embeddings using various Manifold and Matrix Decomposition visualizations \n",
        "\n",
        "\n",
        "\n",
        "Under the hood, NLU automagically generates a Spark NLP pipeline for you, based on the model name you put in `nlu.load()`. All the NLP data transformations and predictions are still beeing performed by Spark NLP, NLU just gives you the most simple API possible for all of the features.      \n",
        "\n",
        "\n",
        "\n",
        "NLU's core processing peformed on the data returned by Spark NLP is currently happening via the Numpy engine and will not be distributed by default, this means NLU is slower and takes up more memory than Spark NLP, because there is additional computation performed on your data.       \n",
        "You have the option to set **.predict(return_spark_df =True)**. With this setting, NLU all computations will be **distributed** but NLU will not peform further data processing on the datafame, so you will get the standard Spark NLP Dataframe structure. \n",
        "\n",
        "\n",
        "\n",
        "This short notebook will teach you a lot of things!\n",
        "- Sentiment classification, binary, multi class and regressive\n",
        "- Extract Parts of Speech (POS)\n",
        "- Extract Named Entities (NER)\n",
        "- Extract Keywords (YAKE!)\n",
        "- Answer Open and Closed book questions with T5\n",
        "- Summarize text and more with Multi task T5\n",
        "- Translate text with Microsofts Marian Model\n",
        "- Train a Multi Lingual Classifier for 100+ languages from a dataset with just one language\n",
        "\n",
        "## NLU Webinars and Video Tutorials\n",
        "- [NLU & Streamlit Tutorial](https://vimeo.com/579508034#)\n",
        "- [Crash course of the 50 + Medical Domains and the 200+ Healtchare models in NLU](https://www.youtube.com/watch?v=gGDsZXt1SF8)\n",
        "- [Multi Lingual NLU Webinar - Tutorial on Chinese News dataset](https://www.youtube.com/watch?v=ftAOqJuxnV4)\n",
        "- [John Snow Labs NLU: Become a Data Science Superhero with One Line of Python code](https://events.johnsnowlabs.com/john-snow-labs-nlu-become-a-data-science-superhero-with-one-line-of-python-code?hsCtaTracking=c659363c-2188-4c86-945f-5cfb7b42fcfc%7C8b2b188b-92a3-48ba-ad7e-073b384425b0)\n",
        "- [Python Web Def Conf - Python's NLU library: 1,000+ Models, 200+ Languages, State of the Art Accuracy, 1 Line of Code](https://2021.pythonwebconf.com/presentations/john-snow-labs-nlu-the-simplicity-of-python-the-power-of-spark-nlp)\n",
        "- [NYC/DC NLP Meetup with NLU](https://youtu.be/hJR9m3NYnwk?t=2155)\n",
        "\n",
        "\n",
        "## More ressources \n",
        "- [Join our Slack](https://join.slack.com/t/spark-nlp/shared_invite/zt-lutct9gm-kuUazcyFKhuGY3_0AMkxqA)\n",
        "- [NLU Website](https://nlu.johnsnowlabs.com/)\n",
        "- [NLU Github](https://github.com/JohnSnowLabs/nlu)\n",
        "- [Many more NLU example tutorials](https://github.com/JohnSnowLabs/nlu/tree/master/examples)\n",
        "- [Overview of every powerful nlu 1-liner](https://nlu.johnsnowlabs.com/docs/en/examples)\n",
        "- [Checkout the Modelshub for an overview of all models](https://nlp.johnsnowlabs.com/models) \n",
        "- [Checkout the NLU Namespace where you can find every model as a tabel](https://nlu.johnsnowlabs.com/docs/en/spellbook)\n",
        "- [Intro to NLU article](https://medium.com/spark-nlp/1-line-of-code-350-nlp-models-with-john-snow-labs-nlu-in-python-2f1c55bba619)\n",
        "- [Indepth and easy Sentence Similarity Tutorial, with StackOverflow Questions using BERTology embeddings](https://medium.com/spark-nlp/easy-sentence-similarity-with-bert-sentence-embeddings-using-john-snow-labs-nlu-ea078deb6ebf)\n",
        "- [1 line of Python code for BERT, ALBERT, ELMO, ELECTRA, XLNET, GLOVE, Part of Speech with NLU and t-SNE](https://medium.com/spark-nlp/1-line-of-code-for-bert-albert-elmo-electra-xlnet-glove-part-of-speech-with-nlu-and-t-sne-9ebcd5379cd)"
      ]
    },
    {
      "cell_type": "markdown",
      "metadata": {
        "id": "GAVkEjc2l_jv"
      },
      "source": [
        "# Install NLU\n",
        "You need Java8, Pyspark and Spark-NLP installed, [see the installation guide for instructions](https://nlu.johnsnowlabs.com/docs/en/install). If you need help or run into troubles, [ping us on slack :)](https://join.slack.com/t/spark-nlp/shared_invite/zt-lutct9gm-kuUazcyFKhuGY3_0AMkxqA) "
      ]
    },
    {
      "cell_type": "code",
      "metadata": {
        "id": "jW47xThBKEhm"
      },
      "source": [
        "!wget https://setup.johnsnowlabs.com/nlu/colab.sh -O - | bash\n",
        "\n",
        "import nlu"
      ],
      "execution_count": null,
      "outputs": []
    },
    {
      "cell_type": "markdown",
      "metadata": {
        "id": "jNw8mtj2jJyS"
      },
      "source": [
        "# Simple NLU basics on Strings"
      ]
    },
    {
      "cell_type": "markdown",
      "metadata": {
        "id": "cr3HrpqX0Lju"
      },
      "source": [
        "## Context based spell Checking in 1 line\n",
        "\n",
        "![Spell Check](https://i.imgflip.com/52wb7w.jpg)"
      ]
    },
    {
      "cell_type": "code",
      "metadata": {
        "colab": {
          "base_uri": "https://localhost:8080/",
          "height": 182
        },
        "id": "yiU5oCWGz31e",
        "outputId": "110455d5-f32b-49e7-ead1-25378513e3a8"
      },
      "source": [
        "nlu.load('spell').predict('I also liek to live dangertus')"
      ],
      "execution_count": null,
      "outputs": [
        {
          "output_type": "stream",
          "name": "stdout",
          "text": [
            "spellcheck_dl download started this may take some time.\n",
            "Approximate size to download 111.4 MB\n",
            "[OK!]\n",
            "sentence_detector_dl download started this may take some time.\n",
            "Approximate size to download 354.6 KB\n",
            "[OK!]\n"
          ]
        },
        {
          "output_type": "execute_result",
          "data": {
            "text/html": [
              "<div>\n",
              "<style scoped>\n",
              "    .dataframe tbody tr th:only-of-type {\n",
              "        vertical-align: middle;\n",
              "    }\n",
              "\n",
              "    .dataframe tbody tr th {\n",
              "        vertical-align: top;\n",
              "    }\n",
              "\n",
              "    .dataframe thead th {\n",
              "        text-align: right;\n",
              "    }\n",
              "</style>\n",
              "<table border=\"1\" class=\"dataframe\">\n",
              "  <thead>\n",
              "    <tr style=\"text-align: right;\">\n",
              "      <th></th>\n",
              "      <th>document</th>\n",
              "      <th>sentence</th>\n",
              "      <th>token</th>\n",
              "      <th>spell</th>\n",
              "    </tr>\n",
              "  </thead>\n",
              "  <tbody>\n",
              "    <tr>\n",
              "      <th>0</th>\n",
              "      <td>I also liek to live dangertus</td>\n",
              "      <td>[I also liek to live dangertus]</td>\n",
              "      <td>[I, also, liek, to, live, dangertus]</td>\n",
              "      <td>[I, also, like, to, live, dangerous]</td>\n",
              "    </tr>\n",
              "  </tbody>\n",
              "</table>\n",
              "</div>"
            ],
            "text/plain": [
              "                        document  ...                                 spell\n",
              "0  I also liek to live dangertus  ...  [I, also, like, to, live, dangerous]\n",
              "\n",
              "[1 rows x 4 columns]"
            ]
          },
          "metadata": {},
          "execution_count": 2
        }
      ]
    },
    {
      "cell_type": "markdown",
      "metadata": {
        "id": "EbRSJNNE0XH7"
      },
      "source": [
        "## Binary Sentiment classification in 1 Line\n",
        "![Binary Sentiment](https://cdn.pixabay.com/photo/2015/11/13/10/07/smiley-1041796_960_720.jpg)\n"
      ]
    },
    {
      "cell_type": "code",
      "metadata": {
        "colab": {
          "base_uri": "https://localhost:8080/",
          "height": 284
        },
        "id": "Kr7JAcnr0Khb",
        "outputId": "9e07e987-89de-4100-c819-bcd7b255c1ce"
      },
      "source": [
        "nlu.load('sentiment').predict('I love NLU and rainy days!')"
      ],
      "execution_count": null,
      "outputs": [
        {
          "output_type": "stream",
          "name": "stdout",
          "text": [
            "sentimentdl_glove_imdb download started this may take some time.\n",
            "Approximate size to download 8.7 MB\n",
            "[OK!]\n",
            "glove_100d download started this may take some time.\n",
            "Approximate size to download 145.3 MB\n",
            "[OK!]\n",
            "glove_100d download started this may take some time.\n",
            "Approximate size to download 145.3 MB\n",
            "[OK!]\n",
            "sentence_detector_dl download started this may take some time.\n",
            "Approximate size to download 354.6 KB\n",
            "[OK!]\n"
          ]
        },
        {
          "output_type": "execute_result",
          "data": {
            "text/html": [
              "<div>\n",
              "<style scoped>\n",
              "    .dataframe tbody tr th:only-of-type {\n",
              "        vertical-align: middle;\n",
              "    }\n",
              "\n",
              "    .dataframe tbody tr th {\n",
              "        vertical-align: top;\n",
              "    }\n",
              "\n",
              "    .dataframe thead th {\n",
              "        text-align: right;\n",
              "    }\n",
              "</style>\n",
              "<table border=\"1\" class=\"dataframe\">\n",
              "  <thead>\n",
              "    <tr style=\"text-align: right;\">\n",
              "      <th></th>\n",
              "      <th>document</th>\n",
              "      <th>sentence</th>\n",
              "      <th>sentiment_confidence</th>\n",
              "      <th>sentiment</th>\n",
              "      <th>token</th>\n",
              "      <th>word_embedding_glove_100d</th>\n",
              "      <th>sentence_embedding_</th>\n",
              "    </tr>\n",
              "  </thead>\n",
              "  <tbody>\n",
              "    <tr>\n",
              "      <th>0</th>\n",
              "      <td>I love NLU and rainy days!</td>\n",
              "      <td>[I love NLU and rainy days!]</td>\n",
              "      <td>0.999995</td>\n",
              "      <td>pos</td>\n",
              "      <td>[I, love, NLU, and, rainy, days, !]</td>\n",
              "      <td>[[-0.046539, 0.61966, 0.56647, -0.46584, -1.18...</td>\n",
              "      <td>[[0.015170136, 0.3010264, 0.33611855, -0.37595...</td>\n",
              "    </tr>\n",
              "  </tbody>\n",
              "</table>\n",
              "</div>"
            ],
            "text/plain": [
              "                     document  ...                                sentence_embedding_\n",
              "0  I love NLU and rainy days!  ...  [[0.015170136, 0.3010264, 0.33611855, -0.37595...\n",
              "\n",
              "[1 rows x 7 columns]"
            ]
          },
          "metadata": {},
          "execution_count": 3
        }
      ]
    },
    {
      "cell_type": "markdown",
      "metadata": {
        "id": "p0z4S7kF0aeT"
      },
      "source": [
        "## Part of Speech (POS) in 1 line\n",
        "![Parts of Speech](https://image.shutterstock.com/image-photo/blackboard-background-written-colorful-chalk-600w-1166166529.jpg)\n",
        "\n",
        "|Tag |Description | Example|\n",
        "|------|------------|------|\n",
        "|CC| Coordinating conjunction | This batch of mushroom stew is savory **and** delicious    |\n",
        "|CD| Cardinal number | Here are **five** coins    |\n",
        "|DT| Determiner | **The** bunny went home    |\n",
        "|EX| Existential there | **There** is a storm coming    |\n",
        "|FW| Foreign word | I'm having a **déjà vu**    |\n",
        "|IN| Preposition or subordinating conjunction | He is cleverer **than** I am   |\n",
        "|JJ| Adjective | She wore a **beautiful** dress    |\n",
        "|JJR| Adjective, comparative | My house is **bigger** than yours    |\n",
        "|JJS| Adjective, superlative | I am the **shortest** person in my family   |\n",
        "|LS| List item marker | A number of things need to be considered before starting a business **,** such as premises **,** finance **,** product demand **,** staffing and access to customers |\n",
        "|MD| Modal | You **must** stop when the traffic lights turn red    |\n",
        "|NN| Noun, singular or mass | The **dog** likes to run    |\n",
        "|NNS| Noun, plural | The **cars** are fast    |\n",
        "|NNP| Proper noun, singular | I ordered the chair from **Amazon**  |\n",
        "|NNPS| Proper noun, plural | We visted the **Kennedys**   |\n",
        "|PDT| Predeterminer | **Both** the children had a toy   |\n",
        "|POS| Possessive ending | I built the dog'**s** house    |\n",
        "|PRP| Personal pronoun | **You** need to stop    |\n",
        "|PRP$| Possessive pronoun | Remember not to judge a book by **its** cover |\n",
        "|RB| Adverb | The dog barks **loudly**    |\n",
        "|RBR| Adverb, comparative | Could you sing more **quietly** please?   |\n",
        "|RBS| Adverb, superlative | Everyone in the race ran fast, but John ran **the fastest** of all    |\n",
        "|RP| Particle | He ate **up** all his dinner    |\n",
        "|SYM| Symbol | What are you doing **?**    |\n",
        "|TO| to | Please send it back **to** me    |\n",
        "|UH| Interjection | **Wow!** You look gorgeous    |\n",
        "|VB| Verb, base form | We **play** soccer |\n",
        "|VBD| Verb, past tense | I **worked** at a restaurant    |\n",
        "|VBG| Verb, gerund or present participle | **Smoking** kills people   |\n",
        "|VBN| Verb, past participle | She has **done** her homework    |\n",
        "|VBP| Verb, non-3rd person singular present | You **flit** from place to place    |\n",
        "|VBZ| Verb, 3rd person singular present | He never **calls** me    |\n",
        "|WDT| Wh-determiner | The store honored the complaints, **which** were less than 25 days old    |\n",
        "|WP| Wh-pronoun | **Who** can help me?    |\n",
        "|WP\\$| Possessive wh-pronoun | **Whose** fault is it?    |\n",
        "|WRB| Wh-adverb | **Where** are you going?  |"
      ]
    },
    {
      "cell_type": "code",
      "metadata": {
        "colab": {
          "base_uri": "https://localhost:8080/",
          "height": 182
        },
        "id": "49-eCSZQ0cQa",
        "outputId": "094941e3-f29a-4d44-fa98-4b960dea3821"
      },
      "source": [
        "nlu.load('pos').predict('POS assigns each token in a sentence a grammatical label')"
      ],
      "execution_count": null,
      "outputs": [
        {
          "output_type": "stream",
          "name": "stdout",
          "text": [
            "pos_anc download started this may take some time.\n",
            "Approximate size to download 3.9 MB\n",
            "[OK!]\n",
            "sentence_detector_dl download started this may take some time.\n",
            "Approximate size to download 354.6 KB\n",
            "[OK!]\n"
          ]
        },
        {
          "output_type": "execute_result",
          "data": {
            "text/html": [
              "<div>\n",
              "<style scoped>\n",
              "    .dataframe tbody tr th:only-of-type {\n",
              "        vertical-align: middle;\n",
              "    }\n",
              "\n",
              "    .dataframe tbody tr th {\n",
              "        vertical-align: top;\n",
              "    }\n",
              "\n",
              "    .dataframe thead th {\n",
              "        text-align: right;\n",
              "    }\n",
              "</style>\n",
              "<table border=\"1\" class=\"dataframe\">\n",
              "  <thead>\n",
              "    <tr style=\"text-align: right;\">\n",
              "      <th></th>\n",
              "      <th>document</th>\n",
              "      <th>sentence</th>\n",
              "      <th>token</th>\n",
              "      <th>pos</th>\n",
              "    </tr>\n",
              "  </thead>\n",
              "  <tbody>\n",
              "    <tr>\n",
              "      <th>0</th>\n",
              "      <td>POS assigns each token in a sentence a grammat...</td>\n",
              "      <td>[POS assigns each token in a sentence a gramma...</td>\n",
              "      <td>[POS, assigns, each, token, in, a, sentence, a...</td>\n",
              "      <td>[NNP, NNS, DT, NN, IN, DT, NN, DT, JJ, NN]</td>\n",
              "    </tr>\n",
              "  </tbody>\n",
              "</table>\n",
              "</div>"
            ],
            "text/plain": [
              "                                            document  ...                                         pos\n",
              "0  POS assigns each token in a sentence a grammat...  ...  [NNP, NNS, DT, NN, IN, DT, NN, DT, JJ, NN]\n",
              "\n",
              "[1 rows x 4 columns]"
            ]
          },
          "metadata": {},
          "execution_count": 4
        }
      ]
    },
    {
      "cell_type": "markdown",
      "metadata": {
        "id": "2-ih6TXc0d6x"
      },
      "source": [
        "## Named Entity Recognition (NER) in 1 line\n",
        "\n",
        "![NER](http://ckl-it.de/wp-content/uploads/2021/02/ner-1.png)\n",
        "\n",
        "|Type | \tDescription |\n",
        "|------|--------------|\n",
        "| PERSON | \tPeople, including fictional like **Harry Potter** |\n",
        "| NORP | \tNationalities or religious or political groups like the **Germans** |\n",
        "| FAC | \tBuildings, airports, highways, bridges, etc. like **New York Airport** |\n",
        "| ORG | \tCompanies, agencies, institutions, etc. like **Microsoft** |\n",
        "| GPE | \tCountries, cities, states. like **Germany** |\n",
        "| LOC | \tNon-GPE locations, mountain ranges, bodies of water. Like the **Sahara desert**|\n",
        "| PRODUCT | \tObjects, vehicles, foods, etc. (Not services.) like **playstation** |\n",
        "| EVENT | \tNamed hurricanes, battles, wars, sports events, etc. like **hurricane Katrina**|\n",
        "| WORK_OF_ART | \tTitles of books, songs, etc. Like **Mona Lisa** |\n",
        "| LAW | \tNamed documents made into laws. Like : **Declaration of Independence** |\n",
        "| LANGUAGE | \tAny named language. Like **Turkish**|\n",
        "| DATE | \tAbsolute or relative dates or periods. Like every second **friday**|\n",
        "| TIME | \tTimes smaller than a day. Like **every minute**|\n",
        "| PERCENT | \tPercentage, including ”%“. Like **55%** of workers enjoy their work |\n",
        "| MONEY | \tMonetary values, including unit. Like **50$** for those pants |\n",
        "| QUANTITY | \tMeasurements, as of weight or distance. Like this person weights **50kg** |\n",
        "| ORDINAL | \t“first”, “second”, etc. Like David placed **first** in the tournament |\n",
        "| CARDINAL | \tNumerals that do not fall under another type. Like **hundreds** of models are avaiable in NLU |\n"
      ]
    },
    {
      "cell_type": "code",
      "metadata": {
        "colab": {
          "base_uri": "https://localhost:8080/",
          "height": 224
        },
        "id": "zoDjsSxx0eJY",
        "outputId": "1ea7c2e6-aded-49a3-f5b4-d1a36e00f8ac"
      },
      "source": [
        "nlu.load('ner').predict(\"John Snow Labs congratulates the Amarican John Biden to winning the American election!\", output_level='chunk')"
      ],
      "execution_count": null,
      "outputs": [
        {
          "output_type": "stream",
          "name": "stdout",
          "text": [
            "onto_recognize_entities_sm download started this may take some time.\n",
            "Approx size to download 160.1 MB\n",
            "[OK!]\n"
          ]
        },
        {
          "output_type": "execute_result",
          "data": {
            "text/html": [
              "<div>\n",
              "<style scoped>\n",
              "    .dataframe tbody tr th:only-of-type {\n",
              "        vertical-align: middle;\n",
              "    }\n",
              "\n",
              "    .dataframe tbody tr th {\n",
              "        vertical-align: top;\n",
              "    }\n",
              "\n",
              "    .dataframe thead th {\n",
              "        text-align: right;\n",
              "    }\n",
              "</style>\n",
              "<table border=\"1\" class=\"dataframe\">\n",
              "  <thead>\n",
              "    <tr style=\"text-align: right;\">\n",
              "      <th></th>\n",
              "      <th>document</th>\n",
              "      <th>entities</th>\n",
              "      <th>entities_confidence</th>\n",
              "      <th>entities_class</th>\n",
              "      <th>word_embedding_ner</th>\n",
              "    </tr>\n",
              "  </thead>\n",
              "  <tbody>\n",
              "    <tr>\n",
              "      <th>0</th>\n",
              "      <td>John Snow Labs congratulates the Amarican John...</td>\n",
              "      <td>John Snow Labs</td>\n",
              "      <td>0.8046667</td>\n",
              "      <td>PERSON</td>\n",
              "      <td>[[-0.2747400104999542, 0.48680999875068665, -0...</td>\n",
              "    </tr>\n",
              "    <tr>\n",
              "      <th>0</th>\n",
              "      <td>John Snow Labs congratulates the Amarican John...</td>\n",
              "      <td>the Amarican</td>\n",
              "      <td>0.46429998</td>\n",
              "      <td>PERSON</td>\n",
              "      <td>[[-0.2747400104999542, 0.48680999875068665, -0...</td>\n",
              "    </tr>\n",
              "    <tr>\n",
              "      <th>0</th>\n",
              "      <td>John Snow Labs congratulates the Amarican John...</td>\n",
              "      <td>John Biden</td>\n",
              "      <td>0.83775</td>\n",
              "      <td>PERSON</td>\n",
              "      <td>[[-0.2747400104999542, 0.48680999875068665, -0...</td>\n",
              "    </tr>\n",
              "    <tr>\n",
              "      <th>0</th>\n",
              "      <td>John Snow Labs congratulates the Amarican John...</td>\n",
              "      <td>American</td>\n",
              "      <td>0.9877</td>\n",
              "      <td>NORP</td>\n",
              "      <td>[[-0.2747400104999542, 0.48680999875068665, -0...</td>\n",
              "    </tr>\n",
              "  </tbody>\n",
              "</table>\n",
              "</div>"
            ],
            "text/plain": [
              "                                            document  ...                                 word_embedding_ner\n",
              "0  John Snow Labs congratulates the Amarican John...  ...  [[-0.2747400104999542, 0.48680999875068665, -0...\n",
              "0  John Snow Labs congratulates the Amarican John...  ...  [[-0.2747400104999542, 0.48680999875068665, -0...\n",
              "0  John Snow Labs congratulates the Amarican John...  ...  [[-0.2747400104999542, 0.48680999875068665, -0...\n",
              "0  John Snow Labs congratulates the Amarican John...  ...  [[-0.2747400104999542, 0.48680999875068665, -0...\n",
              "\n",
              "[4 rows x 5 columns]"
            ]
          },
          "metadata": {},
          "execution_count": 5
        }
      ]
    },
    {
      "cell_type": "markdown",
      "metadata": {
        "id": "RcvxNNeXt83u"
      },
      "source": [
        "# Let's apply NLU to a dataset!\n",
        "\n",
        "<div>\n",
        "<img src=\"http://ckl-it.de/wp-content/uploads/2021/02/crypto.jpeg \" width=\"400\"  height=\"250\" >\n",
        "</div>\n"
      ]
    },
    {
      "cell_type": "code",
      "metadata": {
        "colab": {
          "base_uri": "https://localhost:8080/"
        },
        "id": "lKbaoFLMsIRA",
        "outputId": "65c474af-9e64-4050-9991-c9fbbe777bbf"
      },
      "source": [
        "import pandas as pd \n",
        "import nlu\n",
        "!wget http://ckl-it.de/wp-content/uploads/2020/12/small_btc.csv \n",
        "df = pd.read_csv('/content/small_btc.csv').iloc[0:5000].title\n",
        "df\n",
        "\n"
      ],
      "execution_count": null,
      "outputs": [
        {
          "output_type": "stream",
          "name": "stdout",
          "text": [
            "--2021-10-13 10:31:22--  http://ckl-it.de/wp-content/uploads/2020/12/small_btc.csv\n",
            "Resolving ckl-it.de (ckl-it.de)... 217.160.0.108, 2001:8d8:100f:f000::209\n",
            "Connecting to ckl-it.de (ckl-it.de)|217.160.0.108|:80... connected.\n",
            "HTTP request sent, awaiting response... 200 OK\n",
            "Length: 22244914 (21M) [text/csv]\n",
            "Saving to: ‘small_btc.csv’\n",
            "\n",
            "small_btc.csv       100%[===================>]  21.21M  13.3MB/s    in 1.6s    \n",
            "\n",
            "2021-10-13 10:31:24 (13.3 MB/s) - ‘small_btc.csv’ saved [22244914/22244914]\n",
            "\n"
          ]
        },
        {
          "output_type": "execute_result",
          "data": {
            "text/plain": [
              "0          Bitcoin Price Update: Will China Lead us Down?\n",
              "1       Key Bitcoin Price Levels for Week 51 (15 – 22 ...\n",
              "2       National Australia Bank, Citing Highly Flawed ...\n",
              "3       Chinese Bitcoin Ban Driven by  Chinese Banking...\n",
              "4                   Bitcoin Trade Update: Opened Position\n",
              "                              ...                        \n",
              "1995    Bitcoin Bill Pay Company Living Room of Satosh...\n",
              "1996    NYDFS Extends BitLicense Bitcoin Regulation Co...\n",
              "1997    Bitfinex Passes Stefan Thomas’s Proof Of Solve...\n",
              "1998    Cryptocurrency Exchange Platform AlphaPoint Pa...\n",
              "1999    Want to Buy And Sell Bitcoin Fast and Secure? ...\n",
              "Name: title, Length: 2000, dtype: object"
            ]
          },
          "metadata": {},
          "execution_count": 6
        }
      ]
    },
    {
      "cell_type": "markdown",
      "metadata": {
        "id": "AMFwC0jX_dCT"
      },
      "source": [
        "## NER on a Crypto News dataset\n",
        "### The **NER** model which you can load via `nlu.load('ner')` recognizes 18 different classes in your dataset.\n",
        "We set output level to chunk, so that we get 1 row per NER class.\n",
        "\n",
        "\n",
        "#### Predicted entities:\n",
        "\n",
        "\n",
        "NER is avaiable in many languages, which you can [find in the John Snow Labs Modelshub](https://nlp.johnsnowlabs.com/models)"
      ]
    },
    {
      "cell_type": "markdown",
      "metadata": {
        "id": "tyqcrtFmBlmP"
      },
      "source": [
        ""
      ]
    },
    {
      "cell_type": "code",
      "metadata": {
        "colab": {
          "base_uri": "https://localhost:8080/",
          "height": 470
        },
        "id": "aUGAomeusNVv",
        "outputId": "56af2446-93e7-4651-faf3-1b8ceab922e5"
      },
      "source": [
        "ner_df = nlu.load('ner').predict(df, output_level = 'chunk')\n",
        "ner_df "
      ],
      "execution_count": null,
      "outputs": [
        {
          "output_type": "stream",
          "name": "stdout",
          "text": [
            "onto_recognize_entities_sm download started this may take some time.\n",
            "Approx size to download 160.1 MB\n",
            "[OK!]\n"
          ]
        },
        {
          "output_type": "execute_result",
          "data": {
            "text/html": [
              "<div>\n",
              "<style scoped>\n",
              "    .dataframe tbody tr th:only-of-type {\n",
              "        vertical-align: middle;\n",
              "    }\n",
              "\n",
              "    .dataframe tbody tr th {\n",
              "        vertical-align: top;\n",
              "    }\n",
              "\n",
              "    .dataframe thead th {\n",
              "        text-align: right;\n",
              "    }\n",
              "</style>\n",
              "<table border=\"1\" class=\"dataframe\">\n",
              "  <thead>\n",
              "    <tr style=\"text-align: right;\">\n",
              "      <th></th>\n",
              "      <th>document</th>\n",
              "      <th>entities</th>\n",
              "      <th>entities_confidence</th>\n",
              "      <th>entities_class</th>\n",
              "      <th>word_embedding_ner</th>\n",
              "    </tr>\n",
              "  </thead>\n",
              "  <tbody>\n",
              "    <tr>\n",
              "      <th>0</th>\n",
              "      <td>Bitcoin Price Update: Will China Lead us Down?</td>\n",
              "      <td>NaN</td>\n",
              "      <td>NaN</td>\n",
              "      <td>NaN</td>\n",
              "      <td>[[0.8403199911117554, 0.13267000019550323, -0....</td>\n",
              "    </tr>\n",
              "    <tr>\n",
              "      <th>1</th>\n",
              "      <td>Key Bitcoin Price Levels for Week 51 (15 – 22 ...</td>\n",
              "      <td>Week 51 (15 – 22</td>\n",
              "      <td>0.76498336</td>\n",
              "      <td>DATE</td>\n",
              "      <td>[[-0.22009000182151794, 0.12280000001192093, 0...</td>\n",
              "    </tr>\n",
              "    <tr>\n",
              "      <th>2</th>\n",
              "      <td>National Australia Bank, Citing Highly Flawed ...</td>\n",
              "      <td>Australia</td>\n",
              "      <td>0.7022</td>\n",
              "      <td>GPE</td>\n",
              "      <td>[[-0.003313800087198615, 0.3894599974155426, 0...</td>\n",
              "    </tr>\n",
              "    <tr>\n",
              "      <th>3</th>\n",
              "      <td>Chinese Bitcoin Ban Driven by  Chinese Banking...</td>\n",
              "      <td>Chinese</td>\n",
              "      <td>0.9957</td>\n",
              "      <td>NORP</td>\n",
              "      <td>[[0.4327400028705597, 0.3958199918270111, 0.58...</td>\n",
              "    </tr>\n",
              "    <tr>\n",
              "      <th>3</th>\n",
              "      <td>Chinese Bitcoin Ban Driven by  Chinese Banking...</td>\n",
              "      <td>Chinese</td>\n",
              "      <td>0.9437</td>\n",
              "      <td>NORP</td>\n",
              "      <td>[[0.4327400028705597, 0.3958199918270111, 0.58...</td>\n",
              "    </tr>\n",
              "    <tr>\n",
              "      <th>...</th>\n",
              "      <td>...</td>\n",
              "      <td>...</td>\n",
              "      <td>...</td>\n",
              "      <td>...</td>\n",
              "      <td>...</td>\n",
              "    </tr>\n",
              "    <tr>\n",
              "      <th>1995</th>\n",
              "      <td>Bitcoin Bill Pay Company Living Room of Satosh...</td>\n",
              "      <td>NaN</td>\n",
              "      <td>NaN</td>\n",
              "      <td>NaN</td>\n",
              "      <td>[[0.8403199911117554, 0.13267000019550323, -0....</td>\n",
              "    </tr>\n",
              "    <tr>\n",
              "      <th>1996</th>\n",
              "      <td>NYDFS Extends BitLicense Bitcoin Regulation Co...</td>\n",
              "      <td>NaN</td>\n",
              "      <td>NaN</td>\n",
              "      <td>NaN</td>\n",
              "      <td>[[0.0, 0.0, 0.0, 0.0, 0.0, 0.0, 0.0, 0.0, 0.0,...</td>\n",
              "    </tr>\n",
              "    <tr>\n",
              "      <th>1997</th>\n",
              "      <td>Bitfinex Passes Stefan Thomas’s Proof Of Solve...</td>\n",
              "      <td>Bitfinex Passes</td>\n",
              "      <td>0.70669997</td>\n",
              "      <td>PERSON</td>\n",
              "      <td>[[0.0, 0.0, 0.0, 0.0, 0.0, 0.0, 0.0, 0.0, 0.0,...</td>\n",
              "    </tr>\n",
              "    <tr>\n",
              "      <th>1998</th>\n",
              "      <td>Cryptocurrency Exchange Platform AlphaPoint Pa...</td>\n",
              "      <td>NaN</td>\n",
              "      <td>NaN</td>\n",
              "      <td>NaN</td>\n",
              "      <td>[[0.0, 0.0, 0.0, 0.0, 0.0, 0.0, 0.0, 0.0, 0.0,...</td>\n",
              "    </tr>\n",
              "    <tr>\n",
              "      <th>1999</th>\n",
              "      <td>Want to Buy And Sell Bitcoin Fast and Secure? ...</td>\n",
              "      <td>NaN</td>\n",
              "      <td>NaN</td>\n",
              "      <td>NaN</td>\n",
              "      <td>[[-0.17124000191688538, 0.5644699931144714, 0....</td>\n",
              "    </tr>\n",
              "  </tbody>\n",
              "</table>\n",
              "<p>2411 rows × 5 columns</p>\n",
              "</div>"
            ],
            "text/plain": [
              "                                               document  ...                                 word_embedding_ner\n",
              "0        Bitcoin Price Update: Will China Lead us Down?  ...  [[0.8403199911117554, 0.13267000019550323, -0....\n",
              "1     Key Bitcoin Price Levels for Week 51 (15 – 22 ...  ...  [[-0.22009000182151794, 0.12280000001192093, 0...\n",
              "2     National Australia Bank, Citing Highly Flawed ...  ...  [[-0.003313800087198615, 0.3894599974155426, 0...\n",
              "3     Chinese Bitcoin Ban Driven by  Chinese Banking...  ...  [[0.4327400028705597, 0.3958199918270111, 0.58...\n",
              "3     Chinese Bitcoin Ban Driven by  Chinese Banking...  ...  [[0.4327400028705597, 0.3958199918270111, 0.58...\n",
              "...                                                 ...  ...                                                ...\n",
              "1995  Bitcoin Bill Pay Company Living Room of Satosh...  ...  [[0.8403199911117554, 0.13267000019550323, -0....\n",
              "1996  NYDFS Extends BitLicense Bitcoin Regulation Co...  ...  [[0.0, 0.0, 0.0, 0.0, 0.0, 0.0, 0.0, 0.0, 0.0,...\n",
              "1997  Bitfinex Passes Stefan Thomas’s Proof Of Solve...  ...  [[0.0, 0.0, 0.0, 0.0, 0.0, 0.0, 0.0, 0.0, 0.0,...\n",
              "1998  Cryptocurrency Exchange Platform AlphaPoint Pa...  ...  [[0.0, 0.0, 0.0, 0.0, 0.0, 0.0, 0.0, 0.0, 0.0,...\n",
              "1999  Want to Buy And Sell Bitcoin Fast and Secure? ...  ...  [[-0.17124000191688538, 0.5644699931144714, 0....\n",
              "\n",
              "[2411 rows x 5 columns]"
            ]
          },
          "metadata": {},
          "execution_count": 7
        }
      ]
    },
    {
      "cell_type": "markdown",
      "metadata": {
        "id": "6gC7S2vqBpT1"
      },
      "source": [
        "### Top 50 Named Entities"
      ]
    },
    {
      "cell_type": "code",
      "metadata": {
        "id": "aKSSgTC-sVq8",
        "colab": {
          "base_uri": "https://localhost:8080/",
          "height": 1000
        },
        "outputId": "e0186677-2593-4710-ebd8-ec1678922658"
      },
      "source": [
        "ner_df.entities.value_counts()[:100].plot.barh(figsize = (16,20))"
      ],
      "execution_count": null,
      "outputs": [
        {
          "output_type": "execute_result",
          "data": {
            "text/plain": [
              "<matplotlib.axes._subplots.AxesSubplot at 0x7f938a5b6ad0>"
            ]
          },
          "metadata": {},
          "execution_count": 8
        },
        {
          "output_type": "display_data",
          "data": {
            "image/png": "[encoded data removed]",
            "text/plain": [
              "<Figure size 1152x1440 with 1 Axes>"
            ]
          },
          "metadata": {
            "needs_background": "light"
          }
        }
      ]
    },
    {
      "cell_type": "markdown",
      "metadata": {
        "id": "ElYjed34Bu8T"
      },
      "source": [
        "### Top 50 Named Entities which are PERSONS"
      ]
    },
    {
      "cell_type": "code",
      "metadata": {
        "id": "rynx78HUvQJI",
        "colab": {
          "base_uri": "https://localhost:8080/",
          "height": 1000
        },
        "outputId": "b419acc0-1f7b-46b4-e9d7-6e0f7a394634"
      },
      "source": [
        "ner_df[ner_df.entities_class == 'PERSON'].entities.value_counts()[:50].plot.barh(figsize=(18,20), title ='Top 50 Occuring Persons in the dataset')"
      ],
      "execution_count": null,
      "outputs": [
        {
          "output_type": "execute_result",
          "data": {
            "text/plain": [
              "<matplotlib.axes._subplots.AxesSubplot at 0x7f938de93810>"
            ]
          },
          "metadata": {},
          "execution_count": 9
        },
        {
          "output_type": "display_data",
          "data": {
            "image/png": "[encoded data removed]",
            "text/plain": [
              "<Figure size 1296x1440 with 1 Axes>"
            ]
          },
          "metadata": {
            "needs_background": "light"
          }
        }
      ]
    },
    {
      "cell_type": "markdown",
      "metadata": {
        "id": "B8oAF_MCBxyN"
      },
      "source": [
        "### Top 50 Named Entities which are Countries/Cities/States"
      ]
    },
    {
      "cell_type": "code",
      "metadata": {
        "colab": {
          "base_uri": "https://localhost:8080/",
          "height": 1000
        },
        "id": "IEiIMsFj9v2n",
        "outputId": "1399352d-3443-4c06-d2e4-b7490fef0010"
      },
      "source": [
        "ner_df[ner_df.entities_class == 'GPE'].entities.value_counts()[:50].plot.barh(figsize=(18,20),title ='Top 50 Countries/Cities/States Occuring in the dataset')"
      ],
      "execution_count": null,
      "outputs": [
        {
          "output_type": "execute_result",
          "data": {
            "text/plain": [
              "<matplotlib.axes._subplots.AxesSubplot at 0x7f938de69610>"
            ]
          },
          "metadata": {},
          "execution_count": 10
        },
        {
          "output_type": "display_data",
          "data": {
            "image/png": "[encoded data removed]",
            "text/plain": [
              "<Figure size 1296x1440 with 1 Axes>"
            ]
          },
          "metadata": {
            "needs_background": "light"
          }
        }
      ]
    },
    {
      "cell_type": "markdown",
      "metadata": {
        "id": "JiHofegqB0sM"
      },
      "source": [
        "### Top 50 Named Entities which are PRODUCTS "
      ]
    },
    {
      "cell_type": "code",
      "metadata": {
        "colab": {
          "base_uri": "https://localhost:8080/",
          "height": 1000
        },
        "id": "coeW-Kgs92fH",
        "outputId": "80dada14-56f3-4a5e-a7c1-903f8343cde0"
      },
      "source": [
        "ner_df[ner_df.entities_class == 'PRODUCT'].entities.value_counts()[:50].plot.barh(figsize=(18,20),title ='Top 50 products occuring in the dataset')"
      ],
      "execution_count": null,
      "outputs": [
        {
          "output_type": "execute_result",
          "data": {
            "text/plain": [
              "<matplotlib.axes._subplots.AxesSubplot at 0x7f9388c5a910>"
            ]
          },
          "metadata": {},
          "execution_count": 11
        },
        {
          "output_type": "display_data",
          "data": {
            "image/png": "[encoded data removed]",
            "text/plain": [
              "<Figure size 1296x1440 with 1 Axes>"
            ]
          },
          "metadata": {
            "needs_background": "light"
          }
        }
      ]
    },
    {
      "cell_type": "markdown",
      "metadata": {
        "id": "ybfGwL9-B7MN"
      },
      "source": [
        "### Top 50 Named Entities which are ORGANIZATIONS"
      ]
    },
    {
      "cell_type": "code",
      "metadata": {
        "colab": {
          "base_uri": "https://localhost:8080/",
          "height": 1000
        },
        "id": "4ng-TNYu--09",
        "outputId": "7db78f1f-1114-4652-8a29-54a5d82d0124"
      },
      "source": [
        "ner_df[ner_df.entities_class == 'ORG'].entities.value_counts()[:50].plot.barh(figsize=(18,20),title ='Top 50 products occuring in the dataset')"
      ],
      "execution_count": null,
      "outputs": [
        {
          "output_type": "execute_result",
          "data": {
            "text/plain": [
              "<matplotlib.axes._subplots.AxesSubplot at 0x7f938a69cb90>"
            ]
          },
          "metadata": {},
          "execution_count": 12
        },
        {
          "output_type": "display_data",
          "data": {
            "image/png": "[encoded data removed]",
            "text/plain": [
              "<Figure size 1296x1440 with 1 Axes>"
            ]
          },
          "metadata": {
            "needs_background": "light"
          }
        }
      ]
    },
    {
      "cell_type": "markdown",
      "metadata": {
        "id": "p73T7MyeU2kS"
      },
      "source": [
        "## YAKE on a Crypto News dataset\n",
        "### The **YAKE!** model (Yet Another Keyword Extractor) is a **unsupervised** keyword extraction algorithm.\n",
        "You can load it via   which you can load via `nlu.load('yake')`. It has no weights and is very fast.\n",
        "It has various parameters that can be configured to influence which keywords are beeing extracted, [here for an more indepth YAKE guide](https://github.com/JohnSnowLabs/nlu/blob/master/examples/webinars_conferences_etc/multi_lingual_webinar/1_NLU_base_features_on_dataset_with_YAKE_Lemma_Stemm_classifiers_NER_.ipynb)"
      ]
    },
    {
      "cell_type": "code",
      "metadata": {
        "colab": {
          "base_uri": "https://localhost:8080/",
          "height": 470
        },
        "id": "Zu8-yar9VLqO",
        "outputId": "75a717ac-6c9e-4f9e-9ba3-c8d7bcbe6e58"
      },
      "source": [
        "yake_df = nlu.load('yake').predict(df)\n",
        "yake_df"
      ],
      "execution_count": null,
      "outputs": [
        {
          "output_type": "stream",
          "name": "stdout",
          "text": [
            "sentence_detector_dl download started this may take some time.\n",
            "Approximate size to download 354.6 KB\n",
            "[OK!]\n"
          ]
        },
        {
          "output_type": "execute_result",
          "data": {
            "text/html": [
              "<div>\n",
              "<style scoped>\n",
              "    .dataframe tbody tr th:only-of-type {\n",
              "        vertical-align: middle;\n",
              "    }\n",
              "\n",
              "    .dataframe tbody tr th {\n",
              "        vertical-align: top;\n",
              "    }\n",
              "\n",
              "    .dataframe thead th {\n",
              "        text-align: right;\n",
              "    }\n",
              "</style>\n",
              "<table border=\"1\" class=\"dataframe\">\n",
              "  <thead>\n",
              "    <tr style=\"text-align: right;\">\n",
              "      <th></th>\n",
              "      <th>keywords_confidence</th>\n",
              "      <th>document</th>\n",
              "      <th>sentence</th>\n",
              "      <th>keywords</th>\n",
              "      <th>token</th>\n",
              "    </tr>\n",
              "  </thead>\n",
              "  <tbody>\n",
              "    <tr>\n",
              "      <th>0</th>\n",
              "      <td>[0.5798862558280943, 0.5798862558280943, 0.506...</td>\n",
              "      <td>Bitcoin Price Update: Will China Lead us Down?</td>\n",
              "      <td>[Bitcoin Price Update: Will China Lead us Down?]</td>\n",
              "      <td>[update, china, china lead]</td>\n",
              "      <td>[Bitcoin, Price, Update, :, Will, China, Lead,...</td>\n",
              "    </tr>\n",
              "    <tr>\n",
              "      <th>1</th>\n",
              "      <td>[0.5798862558280943, 0.5798862558280943, 0.506...</td>\n",
              "      <td>Key Bitcoin Price Levels for Week 51 (15 – 22 ...</td>\n",
              "      <td>[Key Bitcoin Price Levels for Week 51 (15 – 22...</td>\n",
              "      <td>[price, levels, price levels]</td>\n",
              "      <td>[Key, Bitcoin, Price, Levels, for, Week, 51, (...</td>\n",
              "    </tr>\n",
              "    <tr>\n",
              "      <th>2</th>\n",
              "      <td>[0.2865403036044788, 0.1955397590159521, 0.195...</td>\n",
              "      <td>National Australia Bank, Citing Highly Flawed ...</td>\n",
              "      <td>[National Australia Bank, Citing Highly Flawed...</td>\n",
              "      <td>[bubble, citing highly flawed, highly flawed d...</td>\n",
              "      <td>[National, Australia, Bank, ,, Citing, Highly,...</td>\n",
              "    </tr>\n",
              "    <tr>\n",
              "      <th>3</th>\n",
              "      <td>[0.29364120139579386, 0.29364120139579386, 0.2...</td>\n",
              "      <td>Chinese Bitcoin Ban Driven by Chinese Banking ...</td>\n",
              "      <td>[Chinese Bitcoin Ban Driven by Chinese Banking...</td>\n",
              "      <td>[ban driven, banking crisis, bitcoin ban driven]</td>\n",
              "      <td>[Chinese, Bitcoin, Ban, Driven, by, Chinese, B...</td>\n",
              "    </tr>\n",
              "    <tr>\n",
              "      <th>4</th>\n",
              "      <td>[0.5798862558280943, 0.26804494089513314, 0.18...</td>\n",
              "      <td>Bitcoin Trade Update: Opened Position</td>\n",
              "      <td>[Bitcoin Trade Update: Opened Position]</td>\n",
              "      <td>[update, position, opened position]</td>\n",
              "      <td>[Bitcoin, Trade, Update, :, Opened, Position]</td>\n",
              "    </tr>\n",
              "    <tr>\n",
              "      <th>...</th>\n",
              "      <td>...</td>\n",
              "      <td>...</td>\n",
              "      <td>...</td>\n",
              "      <td>...</td>\n",
              "      <td>...</td>\n",
              "    </tr>\n",
              "    <tr>\n",
              "      <th>1995</th>\n",
              "      <td>[0.26804494089513314, 0.1840422979793308, 0.16...</td>\n",
              "      <td>Bitcoin Bill Pay Company Living Room of Satosh...</td>\n",
              "      <td>[Bitcoin Bill Pay Company Living Room of Satos...</td>\n",
              "      <td>[operations, resumes operations, satoshi resum...</td>\n",
              "      <td>[Bitcoin, Bill, Pay, Company, Living, Room, of...</td>\n",
              "    </tr>\n",
              "    <tr>\n",
              "      <th>1996</th>\n",
              "      <td>[0.26804494089513314, 0.1840422979793308, 0.16...</td>\n",
              "      <td>NYDFS Extends BitLicense Bitcoin Regulation Co...</td>\n",
              "      <td>[NYDFS Extends BitLicense Bitcoin Regulation C...</td>\n",
              "      <td>[period, comment period, regulation comment pe...</td>\n",
              "      <td>[NYDFS, Extends, BitLicense, Bitcoin, Regulati...</td>\n",
              "    </tr>\n",
              "    <tr>\n",
              "      <th>1997</th>\n",
              "      <td>[0.5798862558280943, 0.26804494089513314, 0.18...</td>\n",
              "      <td>Bitfinex Passes Stefan Thomas’s Proof Of Solve...</td>\n",
              "      <td>[Bitfinex Passes Stefan Thomas’s Proof Of Solv...</td>\n",
              "      <td>[proof, audit, solvency audit]</td>\n",
              "      <td>[Bitfinex, Passes, Stefan, Thomas’s, Proof, Of...</td>\n",
              "    </tr>\n",
              "    <tr>\n",
              "      <th>1998</th>\n",
              "      <td>[0.5798862558280943, 0.26804494089513314, 0.18...</td>\n",
              "      <td>Cryptocurrency Exchange Platform AlphaPoint Pa...</td>\n",
              "      <td>[Cryptocurrency Exchange Platform AlphaPoint P...</td>\n",
              "      <td>[platform, growth, support growth]</td>\n",
              "      <td>[Cryptocurrency, Exchange, Platform, AlphaPoin...</td>\n",
              "    </tr>\n",
              "    <tr>\n",
              "      <th>1999</th>\n",
              "      <td>[0.3579604335906263, 0.2564243599387429, 0.282...</td>\n",
              "      <td>Want to Buy And Sell Bitcoin Fast and Secure? ...</td>\n",
              "      <td>[Want to Buy And Sell Bitcoin Fast and Secure?...</td>\n",
              "      <td>[bitcoin fast, try coinrnr, sell bitcoin fast]</td>\n",
              "      <td>[Want, to, Buy, And, Sell, Bitcoin, Fast, and,...</td>\n",
              "    </tr>\n",
              "  </tbody>\n",
              "</table>\n",
              "<p>2000 rows × 5 columns</p>\n",
              "</div>"
            ],
            "text/plain": [
              "                                    keywords_confidence  ...                                              token\n",
              "0     [0.5798862558280943, 0.5798862558280943, 0.506...  ...  [Bitcoin, Price, Update, :, Will, China, Lead,...\n",
              "1     [0.5798862558280943, 0.5798862558280943, 0.506...  ...  [Key, Bitcoin, Price, Levels, for, Week, 51, (...\n",
              "2     [0.2865403036044788, 0.1955397590159521, 0.195...  ...  [National, Australia, Bank, ,, Citing, Highly,...\n",
              "3     [0.29364120139579386, 0.29364120139579386, 0.2...  ...  [Chinese, Bitcoin, Ban, Driven, by, Chinese, B...\n",
              "4     [0.5798862558280943, 0.26804494089513314, 0.18...  ...      [Bitcoin, Trade, Update, :, Opened, Position]\n",
              "...                                                 ...  ...                                                ...\n",
              "1995  [0.26804494089513314, 0.1840422979793308, 0.16...  ...  [Bitcoin, Bill, Pay, Company, Living, Room, of...\n",
              "1996  [0.26804494089513314, 0.1840422979793308, 0.16...  ...  [NYDFS, Extends, BitLicense, Bitcoin, Regulati...\n",
              "1997  [0.5798862558280943, 0.26804494089513314, 0.18...  ...  [Bitfinex, Passes, Stefan, Thomas’s, Proof, Of...\n",
              "1998  [0.5798862558280943, 0.26804494089513314, 0.18...  ...  [Cryptocurrency, Exchange, Platform, AlphaPoin...\n",
              "1999  [0.3579604335906263, 0.2564243599387429, 0.282...  ...  [Want, to, Buy, And, Sell, Bitcoin, Fast, and,...\n",
              "\n",
              "[2000 rows x 5 columns]"
            ]
          },
          "metadata": {},
          "execution_count": 13
        }
      ]
    },
    {
      "cell_type": "markdown",
      "metadata": {
        "id": "VJxjIrgdWZ0M"
      },
      "source": [
        "### Top 50 extracted Keywords with YAKE!"
      ]
    },
    {
      "cell_type": "code",
      "metadata": {
        "colab": {
          "base_uri": "https://localhost:8080/",
          "height": 1000
        },
        "id": "CMXkeiCLVo4u",
        "outputId": "aadf43a1-63dd-458d-edb8-27428651495d"
      },
      "source": [
        "yake_df.explode('keywords').keywords.value_counts()[0:50].plot.barh(figsize=(14,18))"
      ],
      "execution_count": null,
      "outputs": [
        {
          "output_type": "execute_result",
          "data": {
            "text/plain": [
              "<matplotlib.axes._subplots.AxesSubplot at 0x7f93883cb750>"
            ]
          },
          "metadata": {},
          "execution_count": 16
        },
        {
          "output_type": "display_data",
          "data": {
            "image/png": "[encoded data removed]",
            "text/plain": [
              "<Figure size 1008x1296 with 1 Axes>"
            ]
          },
          "metadata": {
            "needs_background": "light"
          }
        }
      ]
    },
    {
      "cell_type": "markdown",
      "metadata": {
        "id": "gXoYzE_RBaaj"
      },
      "source": [
        "## Binary Sentimental Analysis and Distribution on a dataset"
      ]
    },
    {
      "cell_type": "code",
      "metadata": {
        "colab": {
          "base_uri": "https://localhost:8080/",
          "height": 793
        },
        "id": "yjHx4TR3_SMe",
        "outputId": "86d52376-b031-453c-8027-cf28e4b796d2"
      },
      "source": [
        "sent_df = nlu.load('sentiment').predict(df)\n",
        "sent_df"
      ],
      "execution_count": null,
      "outputs": [
        {
          "output_type": "stream",
          "name": "stdout",
          "text": [
            "sentimentdl_glove_imdb download started this may take some time.\n",
            "Approximate size to download 8.7 MB\n",
            "[OK!]\n",
            "glove_100d download started this may take some time.\n",
            "Approximate size to download 145.3 MB\n",
            "[OK!]\n",
            "glove_100d download started this may take some time.\n",
            "Approximate size to download 145.3 MB\n",
            "[OK!]\n",
            "sentence_detector_dl download started this may take some time.\n",
            "Approximate size to download 354.6 KB\n",
            "[OK!]\n"
          ]
        },
        {
          "output_type": "execute_result",
          "data": {
            "text/html": [
              "<div>\n",
              "<style scoped>\n",
              "    .dataframe tbody tr th:only-of-type {\n",
              "        vertical-align: middle;\n",
              "    }\n",
              "\n",
              "    .dataframe tbody tr th {\n",
              "        vertical-align: top;\n",
              "    }\n",
              "\n",
              "    .dataframe thead th {\n",
              "        text-align: right;\n",
              "    }\n",
              "</style>\n",
              "<table border=\"1\" class=\"dataframe\">\n",
              "  <thead>\n",
              "    <tr style=\"text-align: right;\">\n",
              "      <th></th>\n",
              "      <th>document</th>\n",
              "      <th>sentence</th>\n",
              "      <th>sentiment_confidence</th>\n",
              "      <th>sentiment</th>\n",
              "      <th>token</th>\n",
              "      <th>word_embedding_glove_100d</th>\n",
              "      <th>sentence_embedding_</th>\n",
              "    </tr>\n",
              "  </thead>\n",
              "  <tbody>\n",
              "    <tr>\n",
              "      <th>0</th>\n",
              "      <td>Bitcoin Price Update: Will China Lead us Down?</td>\n",
              "      <td>[Bitcoin Price Update: Will China Lead us Down?]</td>\n",
              "      <td>0.899232</td>\n",
              "      <td>neg</td>\n",
              "      <td>[Bitcoin, Price, Update, :, Will, China, Lead,...</td>\n",
              "      <td>[[0.84032, 0.13267, -0.61584, 0.16593, 0.49351...</td>\n",
              "      <td>[[0.03502599, 0.38203913, 0.764685, -0.2690736...</td>\n",
              "    </tr>\n",
              "    <tr>\n",
              "      <th>1</th>\n",
              "      <td>Key Bitcoin Price Levels for Week 51 (15 – 22 ...</td>\n",
              "      <td>[Key Bitcoin Price Levels for Week 51 (15 – 22...</td>\n",
              "      <td>0.994394</td>\n",
              "      <td>neg</td>\n",
              "      <td>[Key, Bitcoin, Price, Levels, for, Week, 51, (...</td>\n",
              "      <td>[[-0.22009, 0.1228, 0.49666, 0.014973, 0.58537...</td>\n",
              "      <td>[[0.049413078, 0.119584836, 0.17347363, -0.108...</td>\n",
              "    </tr>\n",
              "    <tr>\n",
              "      <th>2</th>\n",
              "      <td>National Australia Bank, Citing Highly Flawed ...</td>\n",
              "      <td>[National Australia Bank, Citing Highly Flawed...</td>\n",
              "      <td>0.998585</td>\n",
              "      <td>neg</td>\n",
              "      <td>[National, Australia, Bank, ,, Citing, Highly,...</td>\n",
              "      <td>[[-0.0033138, 0.38946, 0.2635, -0.29199, 0.380...</td>\n",
              "      <td>[[-0.11782206, 0.021873768, 0.3421415, -0.1564...</td>\n",
              "    </tr>\n",
              "    <tr>\n",
              "      <th>3</th>\n",
              "      <td>Chinese Bitcoin Ban Driven by Chinese Banking ...</td>\n",
              "      <td>[Chinese Bitcoin Ban Driven by Chinese Banking...</td>\n",
              "      <td>0.999998</td>\n",
              "      <td>neg</td>\n",
              "      <td>[Chinese, Bitcoin, Ban, Driven, by, Chinese, B...</td>\n",
              "      <td>[[0.43274, 0.39582, 0.58779, 0.56459, 0.38507,...</td>\n",
              "      <td>[[0.1956089, 0.19520444, 0.3102539, -0.0743547...</td>\n",
              "    </tr>\n",
              "    <tr>\n",
              "      <th>4</th>\n",
              "      <td>Bitcoin Trade Update: Opened Position</td>\n",
              "      <td>[Bitcoin Trade Update: Opened Position]</td>\n",
              "      <td>0.985043</td>\n",
              "      <td>pos</td>\n",
              "      <td>[Bitcoin, Trade, Update, :, Opened, Position]</td>\n",
              "      <td>[[0.84032, 0.13267, -0.61584, 0.16593, 0.49351...</td>\n",
              "      <td>[[0.048274994, 0.14680083, 0.3768833, 0.032076...</td>\n",
              "    </tr>\n",
              "    <tr>\n",
              "      <th>...</th>\n",
              "      <td>...</td>\n",
              "      <td>...</td>\n",
              "      <td>...</td>\n",
              "      <td>...</td>\n",
              "      <td>...</td>\n",
              "      <td>...</td>\n",
              "      <td>...</td>\n",
              "    </tr>\n",
              "    <tr>\n",
              "      <th>1995</th>\n",
              "      <td>Bitcoin Bill Pay Company Living Room of Satosh...</td>\n",
              "      <td>[Bitcoin Bill Pay Company Living Room of Satos...</td>\n",
              "      <td>0.998877</td>\n",
              "      <td>neg</td>\n",
              "      <td>[Bitcoin, Bill, Pay, Company, Living, Room, of...</td>\n",
              "      <td>[[0.84032, 0.13267, -0.61584, 0.16593, 0.49351...</td>\n",
              "      <td>[[0.1624147, 0.0661572, 0.089957595, -0.154957...</td>\n",
              "    </tr>\n",
              "    <tr>\n",
              "      <th>1996</th>\n",
              "      <td>NYDFS Extends BitLicense Bitcoin Regulation Co...</td>\n",
              "      <td>[NYDFS Extends BitLicense Bitcoin Regulation C...</td>\n",
              "      <td>0.998673</td>\n",
              "      <td>neg</td>\n",
              "      <td>[NYDFS, Extends, BitLicense, Bitcoin, Regulati...</td>\n",
              "      <td>[[0.0, 0.0, 0.0, 0.0, 0.0, 0.0, 0.0, 0.0, 0.0,...</td>\n",
              "      <td>[[0.12825885, -0.13787429, 0.17119269, 0.12430...</td>\n",
              "    </tr>\n",
              "    <tr>\n",
              "      <th>1997</th>\n",
              "      <td>Bitfinex Passes Stefan Thomas’s Proof Of Solve...</td>\n",
              "      <td>[Bitfinex Passes Stefan Thomas’s Proof Of Solv...</td>\n",
              "      <td>0.999471</td>\n",
              "      <td>neg</td>\n",
              "      <td>[Bitfinex, Passes, Stefan, Thomas’s, Proof, Of...</td>\n",
              "      <td>[[0.0, 0.0, 0.0, 0.0, 0.0, 0.0, 0.0, 0.0, 0.0,...</td>\n",
              "      <td>[[-0.22165588, -0.19953999, 0.50639373, -0.104...</td>\n",
              "    </tr>\n",
              "    <tr>\n",
              "      <th>1998</th>\n",
              "      <td>Cryptocurrency Exchange Platform AlphaPoint Pa...</td>\n",
              "      <td>[Cryptocurrency Exchange Platform AlphaPoint P...</td>\n",
              "      <td>0.999911</td>\n",
              "      <td>pos</td>\n",
              "      <td>[Cryptocurrency, Exchange, Platform, AlphaPoin...</td>\n",
              "      <td>[[0.0, 0.0, 0.0, 0.0, 0.0, 0.0, 0.0, 0.0, 0.0,...</td>\n",
              "      <td>[[0.027292732, 0.33720642, -0.0044379085, 0.02...</td>\n",
              "    </tr>\n",
              "    <tr>\n",
              "      <th>1999</th>\n",
              "      <td>Want to Buy And Sell Bitcoin Fast and Secure? ...</td>\n",
              "      <td>[Want to Buy And Sell Bitcoin Fast and Secure?...</td>\n",
              "      <td>0.973229</td>\n",
              "      <td>pos</td>\n",
              "      <td>[Want, to, Buy, And, Sell, Bitcoin, Fast, and,...</td>\n",
              "      <td>[[-0.17124, 0.56447, 0.34667, -0.56711, -0.656...</td>\n",
              "      <td>[[0.089265384, 0.25083837, 0.1492645, -0.25418...</td>\n",
              "    </tr>\n",
              "  </tbody>\n",
              "</table>\n",
              "<p>2000 rows × 7 columns</p>\n",
              "</div>"
            ],
            "text/plain": [
              "                                               document  ...                                sentence_embedding_\n",
              "0        Bitcoin Price Update: Will China Lead us Down?  ...  [[0.03502599, 0.38203913, 0.764685, -0.2690736...\n",
              "1     Key Bitcoin Price Levels for Week 51 (15 – 22 ...  ...  [[0.049413078, 0.119584836, 0.17347363, -0.108...\n",
              "2     National Australia Bank, Citing Highly Flawed ...  ...  [[-0.11782206, 0.021873768, 0.3421415, -0.1564...\n",
              "3     Chinese Bitcoin Ban Driven by Chinese Banking ...  ...  [[0.1956089, 0.19520444, 0.3102539, -0.0743547...\n",
              "4                 Bitcoin Trade Update: Opened Position  ...  [[0.048274994, 0.14680083, 0.3768833, 0.032076...\n",
              "...                                                 ...  ...                                                ...\n",
              "1995  Bitcoin Bill Pay Company Living Room of Satosh...  ...  [[0.1624147, 0.0661572, 0.089957595, -0.154957...\n",
              "1996  NYDFS Extends BitLicense Bitcoin Regulation Co...  ...  [[0.12825885, -0.13787429, 0.17119269, 0.12430...\n",
              "1997  Bitfinex Passes Stefan Thomas’s Proof Of Solve...  ...  [[-0.22165588, -0.19953999, 0.50639373, -0.104...\n",
              "1998  Cryptocurrency Exchange Platform AlphaPoint Pa...  ...  [[0.027292732, 0.33720642, -0.0044379085, 0.02...\n",
              "1999  Want to Buy And Sell Bitcoin Fast and Secure? ...  ...  [[0.089265384, 0.25083837, 0.1492645, -0.25418...\n",
              "\n",
              "[2000 rows x 7 columns]"
            ]
          },
          "metadata": {},
          "execution_count": 17
        }
      ]
    },
    {
      "cell_type": "code",
      "metadata": {
        "colab": {
          "base_uri": "https://localhost:8080/",
          "height": 324
        },
        "id": "3LHQb5biErAv",
        "outputId": "ef9244b6-804f-4a0b-d3f8-794369514614"
      },
      "source": [
        "sent_df.sentiment.value_counts().plot.bar(title='Sentiment ')"
      ],
      "execution_count": null,
      "outputs": [
        {
          "output_type": "execute_result",
          "data": {
            "text/plain": [
              "<matplotlib.axes._subplots.AxesSubplot at 0x7f938e383a10>"
            ]
          },
          "metadata": {},
          "execution_count": 18
        },
        {
          "output_type": "display_data",
          "data": {
            "image/png": "[encoded data removed]",
            "text/plain": [
              "<Figure size 432x288 with 1 Axes>"
            ]
          },
          "metadata": {
            "needs_background": "light"
          }
        }
      ]
    },
    {
      "cell_type": "markdown",
      "metadata": {
        "id": "3a3xxhUSCDhJ"
      },
      "source": [
        "## Emotional Analysis and Distribution of Headlines "
      ]
    },
    {
      "cell_type": "code",
      "metadata": {
        "colab": {
          "base_uri": "https://localhost:8080/",
          "height": 572
        },
        "id": "rrYi4f1PEpV3",
        "outputId": "427c8cc7-a38c-491b-8568-8abb1df20bef"
      },
      "source": [
        "emo_df = nlu.load('emotion').predict(df)\n",
        "emo_df"
      ],
      "execution_count": null,
      "outputs": [
        {
          "output_type": "stream",
          "name": "stdout",
          "text": [
            "classifierdl_use_emotion download started this may take some time.\n",
            "Approximate size to download 21.3 MB\n",
            "[OK!]\n",
            "tfhub_use download started this may take some time.\n",
            "Approximate size to download 923.7 MB\n",
            "[OK!]\n",
            "sentence_detector_dl download started this may take some time.\n",
            "Approximate size to download 354.6 KB\n",
            "[OK!]\n"
          ]
        },
        {
          "output_type": "execute_result",
          "data": {
            "text/html": [
              "<div>\n",
              "<style scoped>\n",
              "    .dataframe tbody tr th:only-of-type {\n",
              "        vertical-align: middle;\n",
              "    }\n",
              "\n",
              "    .dataframe tbody tr th {\n",
              "        vertical-align: top;\n",
              "    }\n",
              "\n",
              "    .dataframe thead th {\n",
              "        text-align: right;\n",
              "    }\n",
              "</style>\n",
              "<table border=\"1\" class=\"dataframe\">\n",
              "  <thead>\n",
              "    <tr style=\"text-align: right;\">\n",
              "      <th></th>\n",
              "      <th>sentence_embedding_use</th>\n",
              "      <th>document</th>\n",
              "      <th>sentence</th>\n",
              "      <th>emotion</th>\n",
              "      <th>emotion_confidence_confidence</th>\n",
              "    </tr>\n",
              "  </thead>\n",
              "  <tbody>\n",
              "    <tr>\n",
              "      <th>0</th>\n",
              "      <td>[[0.05829371139407158, -0.036904484033584595, ...</td>\n",
              "      <td>Bitcoin Price Update: Will China Lead us Down?</td>\n",
              "      <td>[Bitcoin Price Update: Will China Lead us Down?]</td>\n",
              "      <td>[fear]</td>\n",
              "      <td>[0.9981729]</td>\n",
              "    </tr>\n",
              "    <tr>\n",
              "      <th>1</th>\n",
              "      <td>[[0.038088250905275345, -0.04514157399535179, ...</td>\n",
              "      <td>Key Bitcoin Price Levels for Week 51 (15 – 22 ...</td>\n",
              "      <td>[Key Bitcoin Price Levels for Week 51 (15 – 22...</td>\n",
              "      <td>[joy]</td>\n",
              "      <td>[0.9976956]</td>\n",
              "    </tr>\n",
              "    <tr>\n",
              "      <th>2</th>\n",
              "      <td>[[0.05034318566322327, -0.01303655095398426, -...</td>\n",
              "      <td>National Australia Bank, Citing Highly Flawed ...</td>\n",
              "      <td>[National Australia Bank, Citing Highly Flawed...</td>\n",
              "      <td>[fear]</td>\n",
              "      <td>[0.9999975]</td>\n",
              "    </tr>\n",
              "    <tr>\n",
              "      <th>3</th>\n",
              "      <td>[[0.055152829736471176, -0.05237917602062225, ...</td>\n",
              "      <td>Chinese Bitcoin Ban Driven by Chinese Banking ...</td>\n",
              "      <td>[Chinese Bitcoin Ban Driven by Chinese Banking...</td>\n",
              "      <td>[fear]</td>\n",
              "      <td>[0.9991346]</td>\n",
              "    </tr>\n",
              "    <tr>\n",
              "      <th>4</th>\n",
              "      <td>[[0.05926975607872009, -0.056463420391082764, ...</td>\n",
              "      <td>Bitcoin Trade Update: Opened Position</td>\n",
              "      <td>[Bitcoin Trade Update: Opened Position]</td>\n",
              "      <td>[joy]</td>\n",
              "      <td>[0.9988637]</td>\n",
              "    </tr>\n",
              "    <tr>\n",
              "      <th>...</th>\n",
              "      <td>...</td>\n",
              "      <td>...</td>\n",
              "      <td>...</td>\n",
              "      <td>...</td>\n",
              "      <td>...</td>\n",
              "    </tr>\n",
              "    <tr>\n",
              "      <th>1995</th>\n",
              "      <td>[[0.06101563200354576, -0.038709379732608795, ...</td>\n",
              "      <td>Bitcoin Bill Pay Company Living Room of Satosh...</td>\n",
              "      <td>[Bitcoin Bill Pay Company Living Room of Satos...</td>\n",
              "      <td>[joy]</td>\n",
              "      <td>[0.9940252]</td>\n",
              "    </tr>\n",
              "    <tr>\n",
              "      <th>1996</th>\n",
              "      <td>[[0.0639236643910408, -0.05505230277776718, -0...</td>\n",
              "      <td>NYDFS Extends BitLicense Bitcoin Regulation Co...</td>\n",
              "      <td>[NYDFS Extends BitLicense Bitcoin Regulation C...</td>\n",
              "      <td>[fear]</td>\n",
              "      <td>[0.9982809]</td>\n",
              "    </tr>\n",
              "    <tr>\n",
              "      <th>1997</th>\n",
              "      <td>[[0.059178080409765244, -0.041498005390167236,...</td>\n",
              "      <td>Bitfinex Passes Stefan Thomas’s Proof Of Solve...</td>\n",
              "      <td>[Bitfinex Passes Stefan Thomas’s Proof Of Solv...</td>\n",
              "      <td>[fear]</td>\n",
              "      <td>[0.7720523]</td>\n",
              "    </tr>\n",
              "    <tr>\n",
              "      <th>1998</th>\n",
              "      <td>[[0.05369672179222107, -0.023480931296944618, ...</td>\n",
              "      <td>Cryptocurrency Exchange Platform AlphaPoint Pa...</td>\n",
              "      <td>[Cryptocurrency Exchange Platform AlphaPoint P...</td>\n",
              "      <td>[joy]</td>\n",
              "      <td>[0.99934787]</td>\n",
              "    </tr>\n",
              "    <tr>\n",
              "      <th>1999</th>\n",
              "      <td>[[0.0626637190580368, -0.05945301055908203, -0...</td>\n",
              "      <td>Want to Buy And Sell Bitcoin Fast and Secure? ...</td>\n",
              "      <td>[Want to Buy And Sell Bitcoin Fast and Secure?...</td>\n",
              "      <td>[fear, fear]</td>\n",
              "      <td>[0.9989053, 0.9989053]</td>\n",
              "    </tr>\n",
              "  </tbody>\n",
              "</table>\n",
              "<p>2000 rows × 5 columns</p>\n",
              "</div>"
            ],
            "text/plain": [
              "                                 sentence_embedding_use  ... emotion_confidence_confidence\n",
              "0     [[0.05829371139407158, -0.036904484033584595, ...  ...                   [0.9981729]\n",
              "1     [[0.038088250905275345, -0.04514157399535179, ...  ...                   [0.9976956]\n",
              "2     [[0.05034318566322327, -0.01303655095398426, -...  ...                   [0.9999975]\n",
              "3     [[0.055152829736471176, -0.05237917602062225, ...  ...                   [0.9991346]\n",
              "4     [[0.05926975607872009, -0.056463420391082764, ...  ...                   [0.9988637]\n",
              "...                                                 ...  ...                           ...\n",
              "1995  [[0.06101563200354576, -0.038709379732608795, ...  ...                   [0.9940252]\n",
              "1996  [[0.0639236643910408, -0.05505230277776718, -0...  ...                   [0.9982809]\n",
              "1997  [[0.059178080409765244, -0.041498005390167236,...  ...                   [0.7720523]\n",
              "1998  [[0.05369672179222107, -0.023480931296944618, ...  ...                  [0.99934787]\n",
              "1999  [[0.0626637190580368, -0.05945301055908203, -0...  ...        [0.9989053, 0.9989053]\n",
              "\n",
              "[2000 rows x 5 columns]"
            ]
          },
          "metadata": {},
          "execution_count": 19
        }
      ]
    },
    {
      "cell_type": "code",
      "metadata": {
        "colab": {
          "base_uri": "https://localhost:8080/",
          "height": 430
        },
        "id": "anyAVNjFCG9H",
        "outputId": "c7298195-4104-4e6d-ef8e-967903c01a82"
      },
      "source": [
        "emo_df.emotion.value_counts().plot.bar(title='Emotion Distribution')\n"
      ],
      "execution_count": null,
      "outputs": [
        {
          "output_type": "execute_result",
          "data": {
            "text/plain": [
              "<matplotlib.axes._subplots.AxesSubplot at 0x7f938c505f90>"
            ]
          },
          "metadata": {},
          "execution_count": 20
        },
        {
          "output_type": "display_data",
          "data": {
            "image/png": "[encoded data removed]",
            "text/plain": [
              "<Figure size 432x288 with 1 Axes>"
            ]
          },
          "metadata": {
            "needs_background": "light"
          }
        }
      ]
    },
    {
      "cell_type": "markdown",
      "metadata": {
        "id": "a7wmKnjfiMjo"
      },
      "source": [
        "**Make sure to restart your notebook again** before starting the next section"
      ]
    },
    {
      "cell_type": "code",
      "metadata": {
        "id": "BHD2-AnQsYbX"
      },
      "source": [
        "print(\"Please restart kernel if you are in google colab to free up RAM\")\n",
        "1+'wait'\n"
      ],
      "execution_count": null,
      "outputs": []
    },
    {
      "cell_type": "markdown",
      "metadata": {
        "id": "rN_H9hKmApll"
      },
      "source": [
        "# Answer **Closed Book** and Open **Book Questions** with Google's T5!\n",
        "\n",
        "<!-- [T5]() -->\n",
        "![T5 GIF](https://1.bp.blogspot.com/-o4oiOExxq1s/Xk26XPC3haI/AAAAAAAAFU8/NBlvOWB84L0PTYy9TzZBaLf6fwPGJTR0QCLcBGAsYHQ/s1600/image3.gif)\n",
        "\n",
        "You can load the **question answering** model with `nlu.load('en.t5')`"
      ]
    },
    {
      "cell_type": "code",
      "metadata": {
        "colab": {
          "base_uri": "https://localhost:8080/"
        },
        "id": "sKmud8AHN9yo",
        "outputId": "e6111c0b-b8d6-4442-9fd0-5e7f79d02ecf"
      },
      "source": [
        "import nlu\n",
        "# Load question answering T5 model\n",
        "t5_closed_question = nlu.load('en.t5')"
      ],
      "execution_count": null,
      "outputs": [
        {
          "output_type": "stream",
          "name": "stdout",
          "text": [
            "google_t5_small_ssm_nq download started this may take some time.\n",
            "Approximate size to download 139 MB\n",
            "[OK!]\n"
          ]
        }
      ]
    },
    {
      "cell_type": "markdown",
      "metadata": {
        "id": "-F9rrWbfNyPZ"
      },
      "source": [
        "## Answer **Closed Book Questions**  \n",
        "Closed book means that no additional context is given and the model must answer the question with the knowledge stored in it's weights"
      ]
    },
    {
      "cell_type": "code",
      "metadata": {
        "colab": {
          "base_uri": "https://localhost:8080/",
          "height": 80
        },
        "id": "QsvnphOwfzVQ",
        "outputId": "035699cc-b340-46af-9ecb-d2053ee668f0"
      },
      "source": [
        "t5_closed_question.predict(\"Who is president of Nigeria?\")"
      ],
      "execution_count": null,
      "outputs": [
        {
          "output_type": "execute_result",
          "data": {
            "text/html": [
              "<div>\n",
              "<style scoped>\n",
              "    .dataframe tbody tr th:only-of-type {\n",
              "        vertical-align: middle;\n",
              "    }\n",
              "\n",
              "    .dataframe tbody tr th {\n",
              "        vertical-align: top;\n",
              "    }\n",
              "\n",
              "    .dataframe thead th {\n",
              "        text-align: right;\n",
              "    }\n",
              "</style>\n",
              "<table border=\"1\" class=\"dataframe\">\n",
              "  <thead>\n",
              "    <tr style=\"text-align: right;\">\n",
              "      <th></th>\n",
              "      <th>document</th>\n",
              "      <th>t5</th>\n",
              "    </tr>\n",
              "  </thead>\n",
              "  <tbody>\n",
              "    <tr>\n",
              "      <th>0</th>\n",
              "      <td>Who is president of Nigeria?</td>\n",
              "      <td>Muhammadu Buhari</td>\n",
              "    </tr>\n",
              "  </tbody>\n",
              "</table>\n",
              "</div>"
            ],
            "text/plain": [
              "                       document                t5\n",
              "0  Who is president of Nigeria?  Muhammadu Buhari"
            ]
          },
          "metadata": {},
          "execution_count": 5
        }
      ]
    },
    {
      "cell_type": "code",
      "metadata": {
        "colab": {
          "base_uri": "https://localhost:8080/",
          "height": 80
        },
        "id": "DcTbqAGmM6YY",
        "outputId": "5586dea3-6c09-49f7-9442-8d58122c53e3"
      },
      "source": [
        "t5_closed_question.predict(\"What is the most common language in India?\")"
      ],
      "execution_count": null,
      "outputs": [
        {
          "output_type": "execute_result",
          "data": {
            "text/html": [
              "<div>\n",
              "<style scoped>\n",
              "    .dataframe tbody tr th:only-of-type {\n",
              "        vertical-align: middle;\n",
              "    }\n",
              "\n",
              "    .dataframe tbody tr th {\n",
              "        vertical-align: top;\n",
              "    }\n",
              "\n",
              "    .dataframe thead th {\n",
              "        text-align: right;\n",
              "    }\n",
              "</style>\n",
              "<table border=\"1\" class=\"dataframe\">\n",
              "  <thead>\n",
              "    <tr style=\"text-align: right;\">\n",
              "      <th></th>\n",
              "      <th>document</th>\n",
              "      <th>t5</th>\n",
              "    </tr>\n",
              "  </thead>\n",
              "  <tbody>\n",
              "    <tr>\n",
              "      <th>0</th>\n",
              "      <td>What is the most common language in India?</td>\n",
              "      <td>Hindi</td>\n",
              "    </tr>\n",
              "  </tbody>\n",
              "</table>\n",
              "</div>"
            ],
            "text/plain": [
              "                                     document     t5\n",
              "0  What is the most common language in India?  Hindi"
            ]
          },
          "metadata": {},
          "execution_count": 6
        }
      ]
    },
    {
      "cell_type": "code",
      "metadata": {
        "colab": {
          "base_uri": "https://localhost:8080/",
          "height": 80
        },
        "id": "2Rb4EhK_NAb3",
        "outputId": "8b89cebd-a422-425c-dd2e-50922795600b"
      },
      "source": [
        "t5_closed_question.predict(\"What is the capital of Germany?\")"
      ],
      "execution_count": null,
      "outputs": [
        {
          "output_type": "execute_result",
          "data": {
            "text/html": [
              "<div>\n",
              "<style scoped>\n",
              "    .dataframe tbody tr th:only-of-type {\n",
              "        vertical-align: middle;\n",
              "    }\n",
              "\n",
              "    .dataframe tbody tr th {\n",
              "        vertical-align: top;\n",
              "    }\n",
              "\n",
              "    .dataframe thead th {\n",
              "        text-align: right;\n",
              "    }\n",
              "</style>\n",
              "<table border=\"1\" class=\"dataframe\">\n",
              "  <thead>\n",
              "    <tr style=\"text-align: right;\">\n",
              "      <th></th>\n",
              "      <th>document</th>\n",
              "      <th>t5</th>\n",
              "    </tr>\n",
              "  </thead>\n",
              "  <tbody>\n",
              "    <tr>\n",
              "      <th>0</th>\n",
              "      <td>What is the capital of Germany?</td>\n",
              "      <td>Berlin</td>\n",
              "    </tr>\n",
              "  </tbody>\n",
              "</table>\n",
              "</div>"
            ],
            "text/plain": [
              "                          document      t5\n",
              "0  What is the capital of Germany?  Berlin"
            ]
          },
          "metadata": {},
          "execution_count": 7
        }
      ]
    },
    {
      "cell_type": "markdown",
      "metadata": {
        "id": "ogxJNa5MOOQj"
      },
      "source": [
        "## Answer **Open Book Questions** \n",
        "These are questions where we give the model some additional context, that is used to answer the question"
      ]
    },
    {
      "cell_type": "code",
      "metadata": {
        "colab": {
          "base_uri": "https://localhost:8080/"
        },
        "id": "e9cwqQGtaTa5",
        "outputId": "940c881c-046f-4662-e163-dfc1393c3b0d"
      },
      "source": [
        "t5_open_book = nlu.load('answer_question')"
      ],
      "execution_count": null,
      "outputs": [
        {
          "output_type": "stream",
          "name": "stdout",
          "text": [
            "t5_base download started this may take some time.\n",
            "Approximate size to download 446 MB\n",
            "[OK!]\n"
          ]
        }
      ]
    },
    {
      "cell_type": "code",
      "metadata": {
        "colab": {
          "base_uri": "https://localhost:8080/",
          "height": 111
        },
        "id": "OB5GOHxPYUYM",
        "outputId": "5816a2d0-fb47-455b-ff76-c42f49a44ee0"
      },
      "source": [
        "context   = 'Peters last week was terrible! He had an accident and broke his leg while skiing!'\n",
        "question1  = 'Why was peters week so bad?' \n",
        "question2  = 'How did peter broke his leg?' \n",
        "\n",
        "t5_open_book.predict([question1+context, question2 + context]) "
      ],
      "execution_count": null,
      "outputs": [
        {
          "output_type": "execute_result",
          "data": {
            "text/html": [
              "<div>\n",
              "<style scoped>\n",
              "    .dataframe tbody tr th:only-of-type {\n",
              "        vertical-align: middle;\n",
              "    }\n",
              "\n",
              "    .dataframe tbody tr th {\n",
              "        vertical-align: top;\n",
              "    }\n",
              "\n",
              "    .dataframe thead th {\n",
              "        text-align: right;\n",
              "    }\n",
              "</style>\n",
              "<table border=\"1\" class=\"dataframe\">\n",
              "  <thead>\n",
              "    <tr style=\"text-align: right;\">\n",
              "      <th></th>\n",
              "      <th>document</th>\n",
              "      <th>t5</th>\n",
              "    </tr>\n",
              "  </thead>\n",
              "  <tbody>\n",
              "    <tr>\n",
              "      <th>0</th>\n",
              "      <td>Why was peters week so bad?Peters last week wa...</td>\n",
              "      <td>He had an accident and broke his leg while skiing</td>\n",
              "    </tr>\n",
              "    <tr>\n",
              "      <th>1</th>\n",
              "      <td>How did peter broke his leg?Peters last week w...</td>\n",
              "      <td>skiing</td>\n",
              "    </tr>\n",
              "  </tbody>\n",
              "</table>\n",
              "</div>"
            ],
            "text/plain": [
              "                                            document                                                 t5\n",
              "0  Why was peters week so bad?Peters last week wa...  He had an accident and broke his leg while skiing\n",
              "1  How did peter broke his leg?Peters last week w...                                             skiing"
            ]
          },
          "metadata": {},
          "execution_count": 9
        }
      ]
    },
    {
      "cell_type": "code",
      "metadata": {
        "id": "kZb_BdGm1-yc"
      },
      "source": [
        "# Ask T5 questions in the context of a News Article\n",
        "question1 = 'Who is Jack ma?'\n",
        "question2 = 'Who is founder of Alibaba Group?'\n",
        "question3 = 'When did Jack Ma re-appear?'\n",
        "question4 = 'How did Alibaba stocks react?'\n",
        "question5 = 'Whom did Jack Ma meet?'\n",
        "question6 = 'Who did Jack Ma hide from?'\n",
        "\n",
        "\n",
        "# from https://www.bbc.com/news/business-55728338 \n",
        "news_article_context = \"\"\" context:\n",
        "Alibaba Group founder Jack Ma has made his first appearance since Chinese regulators cracked down on his business empire.\n",
        "His absence had fuelled speculation over his whereabouts amid increasing official scrutiny of his businesses.\n",
        "The billionaire met 100 rural teachers in China via a video meeting on Wednesday, according to local government media.\n",
        "Alibaba shares surged 5% on Hong Kong's stock exchange on the news.\n",
        "\"\"\"\n",
        "\n",
        "questions = [\n",
        "             question1+ news_article_context,\n",
        "             question2+ news_article_context,\n",
        "             question3+ news_article_context,\n",
        "             question4+ news_article_context,\n",
        "             question5+ news_article_context,\n",
        "             question6+ news_article_context,]\n",
        "\n"
      ],
      "execution_count": null,
      "outputs": []
    },
    {
      "cell_type": "code",
      "metadata": {
        "colab": {
          "base_uri": "https://localhost:8080/",
          "height": 235
        },
        "id": "e0kTj4ZN4kJi",
        "outputId": "72f5999b-fe31-4957-d247-97f3a19175d3"
      },
      "source": [
        "t5_open_book.predict(questions)"
      ],
      "execution_count": null,
      "outputs": [
        {
          "output_type": "execute_result",
          "data": {
            "text/html": [
              "<div>\n",
              "<style scoped>\n",
              "    .dataframe tbody tr th:only-of-type {\n",
              "        vertical-align: middle;\n",
              "    }\n",
              "\n",
              "    .dataframe tbody tr th {\n",
              "        vertical-align: top;\n",
              "    }\n",
              "\n",
              "    .dataframe thead th {\n",
              "        text-align: right;\n",
              "    }\n",
              "</style>\n",
              "<table border=\"1\" class=\"dataframe\">\n",
              "  <thead>\n",
              "    <tr style=\"text-align: right;\">\n",
              "      <th></th>\n",
              "      <th>document</th>\n",
              "      <th>t5</th>\n",
              "    </tr>\n",
              "  </thead>\n",
              "  <tbody>\n",
              "    <tr>\n",
              "      <th>0</th>\n",
              "      <td>Who is Jack ma? context: Alibaba Group founder...</td>\n",
              "      <td>Alibaba Group founder</td>\n",
              "    </tr>\n",
              "    <tr>\n",
              "      <th>1</th>\n",
              "      <td>Who is founder of Alibaba Group? context: Alib...</td>\n",
              "      <td>Jack Ma</td>\n",
              "    </tr>\n",
              "    <tr>\n",
              "      <th>2</th>\n",
              "      <td>When did Jack Ma re-appear? context: Alibaba G...</td>\n",
              "      <td>Wednesday</td>\n",
              "    </tr>\n",
              "    <tr>\n",
              "      <th>3</th>\n",
              "      <td>How did Alibaba stocks react? context: Alibaba...</td>\n",
              "      <td>surged 5%</td>\n",
              "    </tr>\n",
              "    <tr>\n",
              "      <th>4</th>\n",
              "      <td>Whom did Jack Ma meet? context: Alibaba Group ...</td>\n",
              "      <td>100 rural teachers</td>\n",
              "    </tr>\n",
              "    <tr>\n",
              "      <th>5</th>\n",
              "      <td>Who did Jack Ma hide from? context: Alibaba Gr...</td>\n",
              "      <td>Chinese regulators</td>\n",
              "    </tr>\n",
              "  </tbody>\n",
              "</table>\n",
              "</div>"
            ],
            "text/plain": [
              "                                            document                     t5\n",
              "0  Who is Jack ma? context: Alibaba Group founder...  Alibaba Group founder\n",
              "1  Who is founder of Alibaba Group? context: Alib...                Jack Ma\n",
              "2  When did Jack Ma re-appear? context: Alibaba G...              Wednesday\n",
              "3  How did Alibaba stocks react? context: Alibaba...              surged 5%\n",
              "4  Whom did Jack Ma meet? context: Alibaba Group ...     100 rural teachers\n",
              "5  Who did Jack Ma hide from? context: Alibaba Gr...     Chinese regulators"
            ]
          },
          "metadata": {},
          "execution_count": 11
        }
      ]
    },
    {
      "cell_type": "markdown",
      "metadata": {
        "id": "xJIuT3ZhOhoc"
      },
      "source": [
        "# Multi Problem T5 model for Summarization and more\n",
        "The main T5 model was trained for over 20 tasks from the SQUAD/GLUE/SUPERGLUE datasets. See [this notebook](https://github.com/JohnSnowLabs/nlu/blob/master/examples/webinars_conferences_etc/multi_lingual_webinar/7_T5_SQUAD_GLUE_SUPER_GLUE_TASKS.ipynb) for a demo of all tasks \n",
        "\n",
        "\n",
        "# Overview of every task available with T5\n",
        "[The T5 model](https://arxiv.org/pdf/1910.10683.pdf) is trained on various datasets for 17 different tasks which fall into 8 categories.\n",
        "\n",
        "\n",
        "\n",
        "1. Text summarization\n",
        "2. Question answering\n",
        "3. Translation\n",
        "4. Sentiment analysis\n",
        "5. Natural Language inference\n",
        "6. Coreference resolution\n",
        "7. Sentence Completion\n",
        "8. Word sense disambiguation\n",
        "\n",
        "### Every T5 Task with explanation:\n",
        "|Task Name | Explanation | \n",
        "|----------|--------------|\n",
        "|[1.CoLA](https://nyu-mll.github.io/CoLA/)                   | Classify if a sentence is gramaticaly correct|\n",
        "|[2.RTE](https://dl.acm.org/doi/10.1007/11736790_9)                    | Classify whether if a statement can be deducted from a sentence|\n",
        "|[3.MNLI](https://arxiv.org/abs/1704.05426)                   | Classify for a hypothesis and premise whether they contradict or contradict each other or neither of both (3 class).|\n",
        "|[4.MRPC](https://www.aclweb.org/anthology/I05-5002.pdf)                   | Classify whether a pair of sentences is a re-phrasing of each other (semantically equivalent)|\n",
        "|[5.QNLI](https://arxiv.org/pdf/1804.07461.pdf)                   | Classify whether the answer to a question can be deducted from an answer candidate.|\n",
        "|[6.QQP](https://www.quora.com/q/quoradata/First-Quora-Dataset-Release-Question-Pairs)                    | Classify whether a pair of questions is a re-phrasing of each other (semantically equivalent)|\n",
        "|[7.SST2](https://www.aclweb.org/anthology/D13-1170.pdf)                   | Classify the sentiment of a sentence as positive or negative|\n",
        "|[8.STSB](https://www.aclweb.org/anthology/S17-2001/)                   | Classify the sentiment of a sentence on a scale from 1 to 5 (21 Sentiment classes)|\n",
        "|[9.CB](https://ojs.ub.uni-konstanz.de/sub/index.php/sub/article/view/601)                     | Classify for a premise and a hypothesis whether they contradict each other or not (binary).|\n",
        "|[10.COPA](https://www.aaai.org/ocs/index.php/SSS/SSS11/paper/view/2418/0)                   | Classify for a question, premise, and 2 choices which choice the correct choice is (binary).|\n",
        "|[11.MultiRc](https://www.aclweb.org/anthology/N18-1023.pdf)                | Classify for a question, a paragraph of text, and an answer candidate, if the answer is correct (binary),|\n",
        "|[12.WiC](https://arxiv.org/abs/1808.09121)                    | Classify for a pair of sentences and a disambigous word if the word has the same meaning in both sentences.|\n",
        "|[13.WSC/DPR](https://www.aaai.org/ocs/index.php/KR/KR12/paper/view/4492/0)       | Predict for an ambiguous pronoun in a sentence what it is referring to.  |\n",
        "|[14.Summarization](https://arxiv.org/abs/1506.03340)          | Summarize text into a shorter representation.|\n",
        "|[15.SQuAD](https://arxiv.org/abs/1606.05250)                  | Answer a question for a given context.|\n",
        "|[16.WMT1.](https://arxiv.org/abs/1706.03762)                  | Translate English to German|\n",
        "|[17.WMT2.](https://arxiv.org/abs/1706.03762)                   | Translate English to French|\n",
        "|[18.WMT3.](https://arxiv.org/abs/1706.03762)                   | Translate English to Romanian|\n",
        "\n"
      ]
    },
    {
      "cell_type": "code",
      "metadata": {
        "colab": {
          "base_uri": "https://localhost:8080/"
        },
        "id": "XJw187r91QKN",
        "outputId": "6493ab78-abe8-4a46-a690-793af3a1a4d3"
      },
      "source": [
        "# Load the Multi Task Model T5\n",
        "t5_multi = nlu.load('en.t5.base')"
      ],
      "execution_count": null,
      "outputs": [
        {
          "output_type": "stream",
          "name": "stdout",
          "text": [
            "t5_base download started this may take some time.\n",
            "Approximate size to download 446 MB\n",
            "[OK!]\n"
          ]
        }
      ]
    },
    {
      "cell_type": "code",
      "metadata": {
        "colab": {
          "base_uri": "https://localhost:8080/",
          "height": 80
        },
        "id": "_F6jE7IN1U-G",
        "outputId": "701f5d9c-502b-4290-c3e3-4245d14a9e78"
      },
      "source": [
        "# https://www.reuters.com/article/instant-article/idCAKBN2AA2WF\n",
        "text = \"\"\"(Reuters) - Mastercard Inc said on Wednesday it was planning to offer support for some cryptocurrencies on its network this year, joining a string of big-ticket firms that have pledged similar support.\n",
        "\n",
        "The credit-card giant’s announcement comes days after Elon Musk’s Tesla Inc revealed it had purchased $1.5 billion of bitcoin and would soon accept it as a form of payment.\n",
        "\n",
        "Asset manager BlackRock Inc and payments companies Square and PayPal have also recently backed cryptocurrencies.\n",
        "\n",
        "Mastercard already offers customers cards that allow people to transact using their cryptocurrencies, although without going through its network.\n",
        "\n",
        "\"Doing this work will create a lot more possibilities for shoppers and merchants, allowing them to transact in an entirely new form of payment. This change may open merchants up to new customers who are already flocking to digital assets,\" Mastercard said. (mstr.cd/3tLaPZM)\n",
        "\n",
        "Mastercard specified that not all cryptocurrencies will be supported on its network, adding that many of the hundreds of digital assets in circulation still need to tighten their compliance measures.\n",
        "\n",
        "Many cryptocurrencies have struggled to win the trust of mainstream investors and the general public due to their speculative nature and potential for money laundering.\n",
        "\"\"\"\n",
        "t5_multi['t5'].setTask('summarize ') \n",
        "short = t5_multi.predict(text)\n",
        "short"
      ],
      "execution_count": null,
      "outputs": [
        {
          "output_type": "execute_result",
          "data": {
            "text/html": [
              "<div>\n",
              "<style scoped>\n",
              "    .dataframe tbody tr th:only-of-type {\n",
              "        vertical-align: middle;\n",
              "    }\n",
              "\n",
              "    .dataframe tbody tr th {\n",
              "        vertical-align: top;\n",
              "    }\n",
              "\n",
              "    .dataframe thead th {\n",
              "        text-align: right;\n",
              "    }\n",
              "</style>\n",
              "<table border=\"1\" class=\"dataframe\">\n",
              "  <thead>\n",
              "    <tr style=\"text-align: right;\">\n",
              "      <th></th>\n",
              "      <th>document</th>\n",
              "      <th>t5</th>\n",
              "    </tr>\n",
              "  </thead>\n",
              "  <tbody>\n",
              "    <tr>\n",
              "      <th>0</th>\n",
              "      <td>(Reuters) - Mastercard Inc said on Wednesday i...</td>\n",
              "      <td>mastercard said on Wednesday it was planning t...</td>\n",
              "    </tr>\n",
              "  </tbody>\n",
              "</table>\n",
              "</div>"
            ],
            "text/plain": [
              "                                            document                                                 t5\n",
              "0  (Reuters) - Mastercard Inc said on Wednesday i...  mastercard said on Wednesday it was planning t..."
            ]
          },
          "metadata": {},
          "execution_count": 13
        }
      ]
    },
    {
      "cell_type": "code",
      "metadata": {
        "colab": {
          "base_uri": "https://localhost:8080/"
        },
        "id": "1MtQlr_8PucN",
        "outputId": "6bf1893a-cab6-48f1-9817-32a92e7cf19a"
      },
      "source": [
        "print(f\"Original Length {len(short.document.iloc[0])}   Summarized Length : {len(short.t5.iloc[0])} \\n summarized text :{short.t5.iloc[0]} \")\n"
      ],
      "execution_count": null,
      "outputs": [
        {
          "output_type": "stream",
          "name": "stdout",
          "text": [
            "Original Length 1277   Summarized Length : 352 \n",
            " summarized text :mastercard said on Wednesday it was planning to offer support for some cryptocurrencies on its network this year . the credit-card giant’s announcement comes days after Elon Musk’s Tesla Inc revealed it had purchased $1.5 billion of bitcoin . asset manager blackrock and payments companies Square and PayPal have also recently backed cryptocurrencies . \n"
          ]
        }
      ]
    },
    {
      "cell_type": "code",
      "metadata": {
        "colab": {
          "base_uri": "https://localhost:8080/",
          "height": 52
        },
        "id": "ZqOJSkrWQQA9",
        "outputId": "0b9afef7-4128-4c9d-e739-5368dd7b5568"
      },
      "source": [
        "short.t5.iloc[0]"
      ],
      "execution_count": null,
      "outputs": [
        {
          "output_type": "execute_result",
          "data": {
            "application/vnd.google.colaboratory.intrinsic+json": {
              "type": "string"
            },
            "text/plain": [
              "'mastercard said on Wednesday it was planning to offer support for some cryptocurrencies on its network this year . the credit-card giant’s announcement comes days after Elon Musk’s Tesla Inc revealed it had purchased $1.5 billion of bitcoin . asset manager blackrock and payments companies Square and PayPal have also recently backed cryptocurrencies .'"
            ]
          },
          "metadata": {},
          "execution_count": 17
        }
      ]
    },
    {
      "cell_type": "markdown",
      "metadata": {
        "id": "Sd_4hzC9hz8K"
      },
      "source": [
        "**Make sure to restart your notebook again** before starting the next section"
      ]
    },
    {
      "cell_type": "code",
      "metadata": {
        "id": "RQizVR2WhzTY",
        "colab": {
          "base_uri": "https://localhost:8080/",
          "height": 197
        },
        "outputId": "4fe32ed6-6e11-4ce6-f954-4001133ab3a1"
      },
      "source": [
        "print(\"Please restart kernel if you are in google colab and run next cell after the restart to configure java 8 back\")\n",
        "1+'wait'\n"
      ],
      "execution_count": null,
      "outputs": [
        {
          "output_type": "stream",
          "name": "stdout",
          "text": [
            "Please restart kernel if you are in google colab and run next cell after the restart to configure java 8 back\n"
          ]
        },
        {
          "output_type": "error",
          "ename": "TypeError",
          "evalue": "ignored",
          "traceback": [
            "\u001b[0;31m---------------------------------------------------------------------------\u001b[0m",
            "\u001b[0;31mTypeError\u001b[0m                                 Traceback (most recent call last)",
            "\u001b[0;32m<ipython-input-18-b01dbc1fdf42>\u001b[0m in \u001b[0;36m<module>\u001b[0;34m()\u001b[0m\n\u001b[1;32m      1\u001b[0m \u001b[0mprint\u001b[0m\u001b[0;34m(\u001b[0m\u001b[0;34m\"Please restart kernel if you are in google colab and run next cell after the restart to configure java 8 back\"\u001b[0m\u001b[0;34m)\u001b[0m\u001b[0;34m\u001b[0m\u001b[0;34m\u001b[0m\u001b[0m\n\u001b[0;32m----> 2\u001b[0;31m \u001b[0;36m1\u001b[0m\u001b[0;34m+\u001b[0m\u001b[0;34m'wait'\u001b[0m\u001b[0;34m\u001b[0m\u001b[0;34m\u001b[0m\u001b[0m\n\u001b[0m",
            "\u001b[0;31mTypeError\u001b[0m: unsupported operand type(s) for +: 'int' and 'str'"
          ]
        }
      ]
    },
    {
      "cell_type": "markdown",
      "metadata": {
        "id": "PDmjkRoHhrqn"
      },
      "source": [
        "# Translate between more than 200 Languages with  [ Microsofts Marian Models](https://marian-nmt.github.io/publications/)\n",
        "\n",
        "Marian is an efficient, free Neural Machine Translation framework mainly being developed by the Microsoft Translator team (646+ pretrained models & pipelines in 192+ languages)\n",
        "You need to specify the language your data is in as `start_language` and the language you want to translate to as `target_language`.    \n",
        " The language references must be [ISO language codes](https://en.wikipedia.org/wiki/List_of_ISO_639-1_codes)\n",
        "\n",
        "`nlu.load('<start_language>.translate_to.<target_language>')`       \n",
        "\n",
        "**Translate Turkish to English:**     \n",
        "`nlu.load('tr.translate_to.en')`\n",
        "\n",
        "**Translate English to French:**     \n",
        "`nlu.load('en.translate_to.fr')`\n",
        "\n",
        "\n",
        "**Translate French to Hebrew:**     \n",
        "`nlu.load('fr.translate_to.he')`\n",
        "\n",
        "\n",
        "\n",
        "\n",
        "\n",
        "![Languages](https://camo.githubusercontent.com/b548abf3d1f9657d01fd74404354ec49fc11eea0/687474703a2f2f636b6c2d69742e64652f77702d636f6e74656e742f75706c6f6164732f323032312f30322f666c6167732e6a706567)"
      ]
    },
    {
      "cell_type": "code",
      "metadata": {
        "id": "AjiWgkvQwxBy",
        "colab": {
          "base_uri": "https://localhost:8080/"
        },
        "outputId": "936bb362-91e2-44ac-a168-435bbcd5c6c2"
      },
      "source": [
        "import nlu\n",
        "import pandas as pd\n",
        "!wget http://ckl-it.de/wp-content/uploads/2020/12/small_btc.csv \n",
        "df = pd.read_csv('/content/small_btc.csv').iloc[0:20].title"
      ],
      "execution_count": null,
      "outputs": [
        {
          "output_type": "stream",
          "name": "stdout",
          "text": [
            "--2021-10-13 10:44:10--  http://ckl-it.de/wp-content/uploads/2020/12/small_btc.csv\n",
            "Resolving ckl-it.de (ckl-it.de)... 217.160.0.108, 2001:8d8:100f:f000::209\n",
            "Connecting to ckl-it.de (ckl-it.de)|217.160.0.108|:80... connected.\n",
            "HTTP request sent, awaiting response... 200 OK\n",
            "Length: 22244914 (21M) [text/csv]\n",
            "Saving to: ‘small_btc.csv.1’\n",
            "\n",
            "small_btc.csv.1     100%[===================>]  21.21M  13.4MB/s    in 1.6s    \n",
            "\n",
            "2021-10-13 10:44:12 (13.4 MB/s) - ‘small_btc.csv.1’ saved [22244914/22244914]\n",
            "\n"
          ]
        }
      ]
    },
    {
      "cell_type": "markdown",
      "metadata": {
        "id": "Q_dx5jDkeaGO"
      },
      "source": [
        "## Translate to German"
      ]
    },
    {
      "cell_type": "code",
      "metadata": {
        "id": "_DrnIRUlXpM6",
        "colab": {
          "base_uri": "https://localhost:8080/",
          "height": 720
        },
        "outputId": "51c73ddb-2437-4845-ab55-0010c986e39b"
      },
      "source": [
        "translate_pipe = nlu.load('en.translate_to.de')\n",
        "translate_pipe.predict(df)"
      ],
      "execution_count": null,
      "outputs": [
        {
          "output_type": "stream",
          "name": "stdout",
          "text": [
            "translate_en_de download started this may take some time.\n",
            "Approx size to download 268 MB\n",
            "[OK!]\n"
          ]
        },
        {
          "output_type": "execute_result",
          "data": {
            "text/html": [
              "<div>\n",
              "<style scoped>\n",
              "    .dataframe tbody tr th:only-of-type {\n",
              "        vertical-align: middle;\n",
              "    }\n",
              "\n",
              "    .dataframe tbody tr th {\n",
              "        vertical-align: top;\n",
              "    }\n",
              "\n",
              "    .dataframe thead th {\n",
              "        text-align: right;\n",
              "    }\n",
              "</style>\n",
              "<table border=\"1\" class=\"dataframe\">\n",
              "  <thead>\n",
              "    <tr style=\"text-align: right;\">\n",
              "      <th></th>\n",
              "      <th>translated</th>\n",
              "      <th>sentence</th>\n",
              "      <th>document</th>\n",
              "    </tr>\n",
              "  </thead>\n",
              "  <tbody>\n",
              "    <tr>\n",
              "      <th>0</th>\n",
              "      <td>Bitcoin Price Update: Wird China uns nach unte...</td>\n",
              "      <td>[Bitcoin Price Update: Will China Lead us Down?]</td>\n",
              "      <td>Bitcoin Price Update: Will China Lead us Down?</td>\n",
              "    </tr>\n",
              "    <tr>\n",
              "      <th>1</th>\n",
              "      <td>Preisniveau für Bitcoin für Woche 51 (15 - 22 ...</td>\n",
              "      <td>[Key Bitcoin Price Levels for Week 51 (15 – 22...</td>\n",
              "      <td>Key Bitcoin Price Levels for Week 51 (15 – 22 ...</td>\n",
              "    </tr>\n",
              "    <tr>\n",
              "      <th>2</th>\n",
              "      <td>National Australia Bank, zitiert hoch abgeflac...</td>\n",
              "      <td>[National Australia Bank, Citing Highly Flawed...</td>\n",
              "      <td>National Australia Bank, Citing Highly Flawed ...</td>\n",
              "    </tr>\n",
              "    <tr>\n",
              "      <th>3</th>\n",
              "      <td>Chinesische Bitcoin Ban angetrieben durch chin...</td>\n",
              "      <td>[Chinese Bitcoin Ban Driven by  Chinese Bankin...</td>\n",
              "      <td>Chinese Bitcoin Ban Driven by  Chinese Banking...</td>\n",
              "    </tr>\n",
              "    <tr>\n",
              "      <th>4</th>\n",
              "      <td>Bitcoin Trade Update: Geöffnete Position</td>\n",
              "      <td>[Bitcoin Trade Update: Opened Position]</td>\n",
              "      <td>Bitcoin Trade Update: Opened Position</td>\n",
              "    </tr>\n",
              "    <tr>\n",
              "      <th>5</th>\n",
              "      <td>Key Bitcoin Price Levels für Woche 52 (22 - 28...</td>\n",
              "      <td>[Key Bitcoin Price Levels for Week 52 (22 – 28...</td>\n",
              "      <td>Key Bitcoin Price Levels for Week 52 (22 – 28 ...</td>\n",
              "    </tr>\n",
              "    <tr>\n",
              "      <th>6</th>\n",
              "      <td>Bitcoin Überleben Bitcoin Überleben Bitcoin Üb...</td>\n",
              "      <td>[Bitcoin Survival]</td>\n",
              "      <td>Bitcoin Survival</td>\n",
              "    </tr>\n",
              "    <tr>\n",
              "      <th>7</th>\n",
              "      <td>Massive Bitcoin verkaufen weiter</td>\n",
              "      <td>[Massive Bitcoin Sell Going On]</td>\n",
              "      <td>Massive Bitcoin Sell Going On</td>\n",
              "    </tr>\n",
              "    <tr>\n",
              "      <th>8</th>\n",
              "      <td>Warum Bitcoin am Montag um mehr als 10% steige...</td>\n",
              "      <td>[Why Bitcoin will rise on Monday 23rd by more ...</td>\n",
              "      <td>Why Bitcoin will rise on Monday 23rd by more t...</td>\n",
              "    </tr>\n",
              "    <tr>\n",
              "      <th>9</th>\n",
              "      <td>Warum Bitcoin fällt und wieder aufsteigt</td>\n",
              "      <td>[Why Bitcoin is falling, and will rise again]</td>\n",
              "      <td>Why Bitcoin is falling, and will rise again</td>\n",
              "    </tr>\n",
              "    <tr>\n",
              "      <th>10</th>\n",
              "      <td>Bitcoin Preis 2014</td>\n",
              "      <td>[Bitcoin Price in 2014]</td>\n",
              "      <td>Bitcoin Price in 2014</td>\n",
              "    </tr>\n",
              "    <tr>\n",
              "      <th>11</th>\n",
              "      <td>Dies ist wahrscheinlich die beste Zeit, um in ...</td>\n",
              "      <td>[This is probably the best time to invest in B...</td>\n",
              "      <td>This is probably the best time to invest in Bi...</td>\n",
              "    </tr>\n",
              "    <tr>\n",
              "      <th>12</th>\n",
              "      <td>Vergleich von Bitcoins und Orangen</td>\n",
              "      <td>[Comparing Bitcoins and Oranges]</td>\n",
              "      <td>Comparing Bitcoins and Oranges</td>\n",
              "    </tr>\n",
              "    <tr>\n",
              "      <th>13</th>\n",
              "      <td>Wichtige Bitcoin-Preisniveaus für die kommende...</td>\n",
              "      <td>[Key Bitcoin Price Levels for the Week Ahead]</td>\n",
              "      <td>Key Bitcoin Price Levels for the Week Ahead</td>\n",
              "    </tr>\n",
              "    <tr>\n",
              "      <th>14</th>\n",
              "      <td>Der Bitcoin Krieg 2014 hat begonnen - Und es i...</td>\n",
              "      <td>[The 2014 Bitcoin War Has Started— And it is B...</td>\n",
              "      <td>The 2014 Bitcoin War Has Started— And it is Bo...</td>\n",
              "    </tr>\n",
              "    <tr>\n",
              "      <th>15</th>\n",
              "      <td>Zwei neue Bitcoin ASIC Miners: Scam oder Real?</td>\n",
              "      <td>[Two new Bitcoin ASIC Miners : Scam or Real?]</td>\n",
              "      <td>Two new Bitcoin ASIC Miners : Scam or Real?</td>\n",
              "    </tr>\n",
              "    <tr>\n",
              "      <th>16</th>\n",
              "      <td>KnCMiner kündigt 2. Bitcoin ASIC Miner an</td>\n",
              "      <td>[KnCMiner Announces 2TH/s Bitcoin ASIC Miner]</td>\n",
              "      <td>KnCMiner Announces 2TH/s Bitcoin ASIC Miner</td>\n",
              "    </tr>\n",
              "    <tr>\n",
              "      <th>17</th>\n",
              "      <td>PSA: Fallen Sie nicht für den Apple Bitcoin Mi...</td>\n",
              "      <td>[PSA: Do Not Fall for the Apple Bitcoin Miner ...</td>\n",
              "      <td>PSA: Do Not Fall for the Apple Bitcoin Miner Hoax</td>\n",
              "    </tr>\n",
              "    <tr>\n",
              "      <th>18</th>\n",
              "      <td>Breaking News: HashCows Bergbau Pool gehackt</td>\n",
              "      <td>[Breaking News:,  HashCows Mining Pool Hacked]</td>\n",
              "      <td>Breaking News: HashCows Mining Pool Hacked</td>\n",
              "    </tr>\n",
              "    <tr>\n",
              "      <th>19</th>\n",
              "      <td>Primecoin Cloud Mining mit Digital Ocean - Der...</td>\n",
              "      <td>[Primecoin Cloud Mining using Digital Ocean – ...</td>\n",
              "      <td>Primecoin Cloud Mining using Digital Ocean – T...</td>\n",
              "    </tr>\n",
              "  </tbody>\n",
              "</table>\n",
              "</div>"
            ],
            "text/plain": [
              "                                           translated  ...                                           document\n",
              "0   Bitcoin Price Update: Wird China uns nach unte...  ...     Bitcoin Price Update: Will China Lead us Down?\n",
              "1   Preisniveau für Bitcoin für Woche 51 (15 - 22 ...  ...  Key Bitcoin Price Levels for Week 51 (15 – 22 ...\n",
              "2   National Australia Bank, zitiert hoch abgeflac...  ...  National Australia Bank, Citing Highly Flawed ...\n",
              "3   Chinesische Bitcoin Ban angetrieben durch chin...  ...  Chinese Bitcoin Ban Driven by  Chinese Banking...\n",
              "4            Bitcoin Trade Update: Geöffnete Position  ...              Bitcoin Trade Update: Opened Position\n",
              "5   Key Bitcoin Price Levels für Woche 52 (22 - 28...  ...  Key Bitcoin Price Levels for Week 52 (22 – 28 ...\n",
              "6   Bitcoin Überleben Bitcoin Überleben Bitcoin Üb...  ...                                   Bitcoin Survival\n",
              "7                    Massive Bitcoin verkaufen weiter  ...                      Massive Bitcoin Sell Going On\n",
              "8   Warum Bitcoin am Montag um mehr als 10% steige...  ...  Why Bitcoin will rise on Monday 23rd by more t...\n",
              "9            Warum Bitcoin fällt und wieder aufsteigt  ...        Why Bitcoin is falling, and will rise again\n",
              "10                                 Bitcoin Preis 2014  ...                              Bitcoin Price in 2014\n",
              "11  Dies ist wahrscheinlich die beste Zeit, um in ...  ...  This is probably the best time to invest in Bi...\n",
              "12                 Vergleich von Bitcoins und Orangen  ...                     Comparing Bitcoins and Oranges\n",
              "13  Wichtige Bitcoin-Preisniveaus für die kommende...  ...        Key Bitcoin Price Levels for the Week Ahead\n",
              "14  Der Bitcoin Krieg 2014 hat begonnen - Und es i...  ...  The 2014 Bitcoin War Has Started— And it is Bo...\n",
              "15     Zwei neue Bitcoin ASIC Miners: Scam oder Real?  ...        Two new Bitcoin ASIC Miners : Scam or Real?\n",
              "16          KnCMiner kündigt 2. Bitcoin ASIC Miner an  ...        KnCMiner Announces 2TH/s Bitcoin ASIC Miner\n",
              "17  PSA: Fallen Sie nicht für den Apple Bitcoin Mi...  ...  PSA: Do Not Fall for the Apple Bitcoin Miner Hoax\n",
              "18       Breaking News: HashCows Bergbau Pool gehackt  ...         Breaking News: HashCows Mining Pool Hacked\n",
              "19  Primecoin Cloud Mining mit Digital Ocean - Der...  ...  Primecoin Cloud Mining using Digital Ocean – T...\n",
              "\n",
              "[20 rows x 3 columns]"
            ]
          },
          "metadata": {},
          "execution_count": 2
        }
      ]
    },
    {
      "cell_type": "markdown",
      "metadata": {
        "id": "9zyhBUxFeP6u"
      },
      "source": [
        "## Translate to Chinese"
      ]
    },
    {
      "cell_type": "code",
      "metadata": {
        "id": "B0Z3Ilt0eR3c",
        "colab": {
          "base_uri": "https://localhost:8080/",
          "height": 720
        },
        "outputId": "17c28d42-dbbf-443c-df69-a60fb49668e1"
      },
      "source": [
        "translate_pipe = nlu.load('en.translate_to.zh')\n",
        "translate_pipe.predict(df)"
      ],
      "execution_count": null,
      "outputs": [
        {
          "output_type": "stream",
          "name": "stdout",
          "text": [
            "translate_en_zh download started this may take some time.\n",
            "Approx size to download 280.9 MB\n",
            "[OK!]\n"
          ]
        },
        {
          "output_type": "execute_result",
          "data": {
            "text/html": [
              "<div>\n",
              "<style scoped>\n",
              "    .dataframe tbody tr th:only-of-type {\n",
              "        vertical-align: middle;\n",
              "    }\n",
              "\n",
              "    .dataframe tbody tr th {\n",
              "        vertical-align: top;\n",
              "    }\n",
              "\n",
              "    .dataframe thead th {\n",
              "        text-align: right;\n",
              "    }\n",
              "</style>\n",
              "<table border=\"1\" class=\"dataframe\">\n",
              "  <thead>\n",
              "    <tr style=\"text-align: right;\">\n",
              "      <th></th>\n",
              "      <th>translated</th>\n",
              "      <th>sentence</th>\n",
              "      <th>document</th>\n",
              "    </tr>\n",
              "  </thead>\n",
              "  <tbody>\n",
              "    <tr>\n",
              "      <th>0</th>\n",
              "      <td>Bitcoin 价格最新消息:中国会带领我们下台吗 ? . . . . . . . . . . .</td>\n",
              "      <td>[Bitcoin Price Update: Will China Lead us Down?]</td>\n",
              "      <td>Bitcoin Price Update: Will China Lead us Down?</td>\n",
              "    </tr>\n",
              "    <tr>\n",
              "      <th>1</th>\n",
              "      <td>第51周(12月15 - 22日) Bitcoin 关键价格 水平 。 12月 15 - 2...</td>\n",
              "      <td>[Key Bitcoin Price Levels for Week 51 (15 – 22...</td>\n",
              "      <td>Key Bitcoin Price Levels for Week 51 (15 – 22 ...</td>\n",
              "    </tr>\n",
              "    <tr>\n",
              "      <th>2</th>\n",
              "      <td>国家澳大利亚银行, 援引高易燃数据, 称 Bitcoin 是一个泡泡 。 Name UN C...</td>\n",
              "      <td>[National Australia Bank, Citing Highly Flawed...</td>\n",
              "      <td>National Australia Bank, Citing Highly Flawed ...</td>\n",
              "    </tr>\n",
              "    <tr>\n",
              "      <th>3</th>\n",
              "      <td>被中国银行危机驱赶的中国 Bitcoin Ban ? ? ? 。 。 。 。 。 。 。 。 。</td>\n",
              "      <td>[Chinese Bitcoin Ban Driven by  Chinese Bankin...</td>\n",
              "      <td>Chinese Bitcoin Ban Driven by  Chinese Banking...</td>\n",
              "    </tr>\n",
              "    <tr>\n",
              "      <th>4</th>\n",
              "      <td>Bittcoin 贸易最新贸易 : 开放位置 : 开放位置 Name Name 开放位置 N...</td>\n",
              "      <td>[Bitcoin Trade Update: Opened Position]</td>\n",
              "      <td>Bitcoin Trade Update: Opened Position</td>\n",
              "    </tr>\n",
              "    <tr>\n",
              "      <th>5</th>\n",
              "      <td>12月22 - 28日 - 我的贸易计划 - Bitcoin 价格第52周( 12月 22 ...</td>\n",
              "      <td>[Key Bitcoin Price Levels for Week 52 (22 – 28...</td>\n",
              "      <td>Key Bitcoin Price Levels for Week 52 (22 – 28 ...</td>\n",
              "    </tr>\n",
              "    <tr>\n",
              "      <th>6</th>\n",
              "      <td>Bitcoin 生存 毕 生 活 生 生 业 业 业 业 业 业 业 业 业 业 业 业</td>\n",
              "      <td>[Bitcoin Survival]</td>\n",
              "      <td>Bitcoin Survival</td>\n",
              "    </tr>\n",
              "    <tr>\n",
              "      <th>7</th>\n",
              "      <td>大规模 Bittcoin 卖 卖 上 上 上 上 上 上 上 上 上 上 上 上 上 上</td>\n",
              "      <td>[Massive Bitcoin Sell Going On]</td>\n",
              "      <td>Massive Bitcoin Sell Going On</td>\n",
              "    </tr>\n",
              "    <tr>\n",
              "      <th>8</th>\n",
              "      <td>为何比特币 会在 23 日星期一 上升 超过 10% 的 比例 , 超过 10% 的 比例 ...</td>\n",
              "      <td>[Why Bitcoin will rise on Monday 23rd by more ...</td>\n",
              "      <td>Why Bitcoin will rise on Monday 23rd by more t...</td>\n",
              "    </tr>\n",
              "    <tr>\n",
              "      <th>9</th>\n",
              "      <td>为何比特币 跌了 , 还会再升 , 何必 跌 , 何必 , 何 跌 , 何 跌 ,</td>\n",
              "      <td>[Why Bitcoin is falling, and will rise again]</td>\n",
              "      <td>Why Bitcoin is falling, and will rise again</td>\n",
              "    </tr>\n",
              "    <tr>\n",
              "      <th>10</th>\n",
              "      <td>2014年比特币价格 美元 美元 美元 美元 美元 美元 美元 美元 美元 美元 美元 美元...</td>\n",
              "      <td>[Bitcoin Price in 2014]</td>\n",
              "      <td>Bitcoin Price in 2014</td>\n",
              "    </tr>\n",
              "    <tr>\n",
              "      <th>11</th>\n",
              "      <td>这可能是 投资 Bitcoin 的最佳时机 。 。 。 。 。 。 。 。 。 。 。 。 ...</td>\n",
              "      <td>[This is probably the best time to invest in B...</td>\n",
              "      <td>This is probably the best time to invest in Bi...</td>\n",
              "    </tr>\n",
              "    <tr>\n",
              "      <th>12</th>\n",
              "      <td>比较比特币 橙 和 橙 的 比较 . . . . . . . . . . . .</td>\n",
              "      <td>[Comparing Bitcoins and Oranges]</td>\n",
              "      <td>Comparing Bitcoins and Oranges</td>\n",
              "    </tr>\n",
              "    <tr>\n",
              "      <th>13</th>\n",
              "      <td>提前一周的 Bitcoin 关键价格水平 。 Name IP IP IP IP IP IP ...</td>\n",
              "      <td>[Key Bitcoin Price Levels for the Week Ahead]</td>\n",
              "      <td>Key Bitcoin Price Levels for the Week Ahead</td>\n",
              "    </tr>\n",
              "    <tr>\n",
              "      <th>14</th>\n",
              "      <td>4 样东西, 足以 备战 的 4 样东西 , 4 样东西 , 4 样东西 , 4 样东西</td>\n",
              "      <td>[The 2014 Bitcoin War Has Started— And it is B...</td>\n",
              "      <td>The 2014 Bitcoin War Has Started— And it is Bo...</td>\n",
              "    </tr>\n",
              "    <tr>\n",
              "      <th>15</th>\n",
              "      <td>两种新的 Bitcoin ASIC ASIC 矿工 : 斯卡姆 or Real ? , 或 ...</td>\n",
              "      <td>[Two new Bitcoin ASIC Miners : Scam or Real?]</td>\n",
              "      <td>Two new Bitcoin ASIC Miners : Scam or Real?</td>\n",
              "    </tr>\n",
              "    <tr>\n",
              "      <th>16</th>\n",
              "      <td>宣布 Bitcoin ASIC 矿工 , 即 2- TH / / / 的 Bitcoin A...</td>\n",
              "      <td>[KnCMiner Announces 2TH/s Bitcoin ASIC Miner]</td>\n",
              "      <td>KnCMiner Announces 2TH/s Bitcoin ASIC Miner</td>\n",
              "    </tr>\n",
              "    <tr>\n",
              "      <th>17</th>\n",
              "      <td>美 美 美 子 : 苹果 Bitcoin 矿 矿 矿 山 山 山 山 山 , 不可 倒 掉</td>\n",
              "      <td>[PSA: Do Not Fall for the Apple Bitcoin Miner ...</td>\n",
              "      <td>PSA: Do Not Fall for the Apple Bitcoin Miner Hoax</td>\n",
              "    </tr>\n",
              "    <tr>\n",
              "      <th>18</th>\n",
              "      <td>突破新闻: 哈斯牛采矿池 被 黑 了 黑 了 . . . . . . . . . .</td>\n",
              "      <td>[Breaking News:,  HashCows Mining Pool Hacked]</td>\n",
              "      <td>Breaking News: HashCows Mining Pool Hacked</td>\n",
              "    </tr>\n",
              "    <tr>\n",
              "      <th>19</th>\n",
              "      <td>利用数字海洋开采原金云 - 完整指南 - 完整指南 - 完整指南 - 利用数字海洋开采原金云...</td>\n",
              "      <td>[Primecoin Cloud Mining using Digital Ocean – ...</td>\n",
              "      <td>Primecoin Cloud Mining using Digital Ocean – T...</td>\n",
              "    </tr>\n",
              "  </tbody>\n",
              "</table>\n",
              "</div>"
            ],
            "text/plain": [
              "                                           translated  ...                                           document\n",
              "0   Bitcoin 价格最新消息:中国会带领我们下台吗 ? . . . . . . . . . . .  ...     Bitcoin Price Update: Will China Lead us Down?\n",
              "1   第51周(12月15 - 22日) Bitcoin 关键价格 水平 。 12月 15 - 2...  ...  Key Bitcoin Price Levels for Week 51 (15 – 22 ...\n",
              "2   国家澳大利亚银行, 援引高易燃数据, 称 Bitcoin 是一个泡泡 。 Name UN C...  ...  National Australia Bank, Citing Highly Flawed ...\n",
              "3   被中国银行危机驱赶的中国 Bitcoin Ban ? ? ? 。 。 。 。 。 。 。 。 。   ...  Chinese Bitcoin Ban Driven by  Chinese Banking...\n",
              "4   Bittcoin 贸易最新贸易 : 开放位置 : 开放位置 Name Name 开放位置 N...  ...              Bitcoin Trade Update: Opened Position\n",
              "5   12月22 - 28日 - 我的贸易计划 - Bitcoin 价格第52周( 12月 22 ...  ...  Key Bitcoin Price Levels for Week 52 (22 – 28 ...\n",
              "6        Bitcoin 生存 毕 生 活 生 生 业 业 业 业 业 业 业 业 业 业 业 业  ...                                   Bitcoin Survival\n",
              "7       大规模 Bittcoin 卖 卖 上 上 上 上 上 上 上 上 上 上 上 上 上 上   ...                      Massive Bitcoin Sell Going On\n",
              "8   为何比特币 会在 23 日星期一 上升 超过 10% 的 比例 , 超过 10% 的 比例 ...  ...  Why Bitcoin will rise on Monday 23rd by more t...\n",
              "9           为何比特币 跌了 , 还会再升 , 何必 跌 , 何必 , 何 跌 , 何 跌 ,  ...        Why Bitcoin is falling, and will rise again\n",
              "10  2014年比特币价格 美元 美元 美元 美元 美元 美元 美元 美元 美元 美元 美元 美元...  ...                              Bitcoin Price in 2014\n",
              "11  这可能是 投资 Bitcoin 的最佳时机 。 。 。 。 。 。 。 。 。 。 。 。 ...  ...  This is probably the best time to invest in Bi...\n",
              "12          比较比特币 橙 和 橙 的 比较 . . . . . . . . . . . .   ...                     Comparing Bitcoins and Oranges\n",
              "13  提前一周的 Bitcoin 关键价格水平 。 Name IP IP IP IP IP IP ...  ...        Key Bitcoin Price Levels for the Week Ahead\n",
              "14      4 样东西, 足以 备战 的 4 样东西 , 4 样东西 , 4 样东西 , 4 样东西   ...  The 2014 Bitcoin War Has Started— And it is Bo...\n",
              "15  两种新的 Bitcoin ASIC ASIC 矿工 : 斯卡姆 or Real ? , 或 ...  ...        Two new Bitcoin ASIC Miners : Scam or Real?\n",
              "16  宣布 Bitcoin ASIC 矿工 , 即 2- TH / / / 的 Bitcoin A...  ...        KnCMiner Announces 2TH/s Bitcoin ASIC Miner\n",
              "17      美 美 美 子 : 苹果 Bitcoin 矿 矿 矿 山 山 山 山 山 , 不可 倒 掉  ...  PSA: Do Not Fall for the Apple Bitcoin Miner Hoax\n",
              "18         突破新闻: 哈斯牛采矿池 被 黑 了 黑 了 . . . . . . . . . .  ...         Breaking News: HashCows Mining Pool Hacked\n",
              "19  利用数字海洋开采原金云 - 完整指南 - 完整指南 - 完整指南 - 利用数字海洋开采原金云...  ...  Primecoin Cloud Mining using Digital Ocean – T...\n",
              "\n",
              "[20 rows x 3 columns]"
            ]
          },
          "metadata": {},
          "execution_count": 3
        }
      ]
    },
    {
      "cell_type": "markdown",
      "metadata": {
        "id": "SbE1KJQgeTiB"
      },
      "source": [
        "## Translate to Hindi"
      ]
    },
    {
      "cell_type": "code",
      "metadata": {
        "id": "5U2Xy6JAeXcj",
        "colab": {
          "base_uri": "https://localhost:8080/",
          "height": 720
        },
        "outputId": "d1bd6408-c1e8-4ed6-ce06-715d754e94fe"
      },
      "source": [
        "translate_pipe = nlu.load('en.translate_to.hi')\n",
        "translate_pipe.predict(df)"
      ],
      "execution_count": null,
      "outputs": [
        {
          "output_type": "stream",
          "name": "stdout",
          "text": [
            "translate_en_hi download started this may take some time.\n",
            "Approx size to download 275.1 MB\n",
            "[OK!]\n"
          ]
        },
        {
          "output_type": "execute_result",
          "data": {
            "text/html": [
              "<div>\n",
              "<style scoped>\n",
              "    .dataframe tbody tr th:only-of-type {\n",
              "        vertical-align: middle;\n",
              "    }\n",
              "\n",
              "    .dataframe tbody tr th {\n",
              "        vertical-align: top;\n",
              "    }\n",
              "\n",
              "    .dataframe thead th {\n",
              "        text-align: right;\n",
              "    }\n",
              "</style>\n",
              "<table border=\"1\" class=\"dataframe\">\n",
              "  <thead>\n",
              "    <tr style=\"text-align: right;\">\n",
              "      <th></th>\n",
              "      <th>translated</th>\n",
              "      <th>sentence</th>\n",
              "      <th>document</th>\n",
              "    </tr>\n",
              "  </thead>\n",
              "  <tbody>\n",
              "    <tr>\n",
              "      <th>0</th>\n",
              "      <td>बिटटोन कीमत अद्यतन: क्या चीन हमें नीचे ले जाएगा?</td>\n",
              "      <td>[Bitcoin Price Update: Will China Lead us Down?]</td>\n",
              "      <td>Bitcoin Price Update: Will China Lead us Down?</td>\n",
              "    </tr>\n",
              "    <tr>\n",
              "      <th>1</th>\n",
              "      <td>सप्ताह 51 (15 - 22 डेक) के लिए कुंजी बिटस्लेट्...</td>\n",
              "      <td>[Key Bitcoin Price Levels for Week 51 (15 – 22...</td>\n",
              "      <td>Key Bitcoin Price Levels for Week 51 (15 – 22 ...</td>\n",
              "    </tr>\n",
              "    <tr>\n",
              "      <th>2</th>\n",
              "      <td>नैशनल ऑस्ट्रेलिया बैंक, उच्च रूप सेित डाटा का ...</td>\n",
              "      <td>[National Australia Bank, Citing Highly Flawed...</td>\n",
              "      <td>National Australia Bank, Citing Highly Flawed ...</td>\n",
              "    </tr>\n",
              "    <tr>\n",
              "      <th>3</th>\n",
              "      <td>चीनी बिटपरन बैंगिंग संकट से ड्राइव?</td>\n",
              "      <td>[Chinese Bitcoin Ban Driven by  Chinese Bankin...</td>\n",
              "      <td>Chinese Bitcoin Ban Driven by  Chinese Banking...</td>\n",
              "    </tr>\n",
              "    <tr>\n",
              "      <th>4</th>\n",
              "      <td>बिटफिक्स अद्यतन:</td>\n",
              "      <td>[Bitcoin Trade Update: Opened Position]</td>\n",
              "      <td>Bitcoin Trade Update: Opened Position</td>\n",
              "    </tr>\n",
              "    <tr>\n",
              "      <th>5</th>\n",
              "      <td>मैं इस बात को समझ नहीं पाया कि मैं क्या करूँ ।</td>\n",
              "      <td>[Key Bitcoin Price Levels for Week 52 (22 – 28...</td>\n",
              "      <td>Key Bitcoin Price Levels for Week 52 (22 – 28 ...</td>\n",
              "    </tr>\n",
              "    <tr>\n",
              "      <th>6</th>\n",
              "      <td>मेक्सेन सुरक्षा</td>\n",
              "      <td>[Bitcoin Survival]</td>\n",
              "      <td>Bitcoin Survival</td>\n",
              "    </tr>\n",
              "    <tr>\n",
              "      <th>7</th>\n",
              "      <td>भारी धातु की लत पर बिकना</td>\n",
              "      <td>[Massive Bitcoin Sell Going On]</td>\n",
              "      <td>Massive Bitcoin Sell Going On</td>\n",
              "    </tr>\n",
              "    <tr>\n",
              "      <th>8</th>\n",
              "      <td>क्यों बिटकोन सोमवार 23 बजे से 10% तक बढ़ जाएगा</td>\n",
              "      <td>[Why Bitcoin will rise on Monday 23rd by more ...</td>\n",
              "      <td>Why Bitcoin will rise on Monday 23rd by more t...</td>\n",
              "    </tr>\n",
              "    <tr>\n",
              "      <th>9</th>\n",
              "      <td>अज़ाबेरी गिरता ही क्यों है, और फिर उठ खड़ा होगा</td>\n",
              "      <td>[Why Bitcoin is falling, and will rise again]</td>\n",
              "      <td>Why Bitcoin is falling, and will rise again</td>\n",
              "    </tr>\n",
              "    <tr>\n",
              "      <th>10</th>\n",
              "      <td>सन्‌ 2014 में बिटोन मूल्य</td>\n",
              "      <td>[Bitcoin Price in 2014]</td>\n",
              "      <td>Bitcoin Price in 2014</td>\n",
              "    </tr>\n",
              "    <tr>\n",
              "      <th>11</th>\n",
              "      <td>शायद यह बिटको में निवेश करने का सबसे अच्छा समय है</td>\n",
              "      <td>[This is probably the best time to invest in B...</td>\n",
              "      <td>This is probably the best time to invest in Bi...</td>\n",
              "    </tr>\n",
              "    <tr>\n",
              "      <th>12</th>\n",
              "      <td>बिटमेसिन्स तथा नारंगी तुलना करना</td>\n",
              "      <td>[Comparing Bitcoins and Oranges]</td>\n",
              "      <td>Comparing Bitcoins and Oranges</td>\n",
              "    </tr>\n",
              "    <tr>\n",
              "      <th>13</th>\n",
              "      <td>सप्ताह के लिए कुंजी बिट- स्तर आगे</td>\n",
              "      <td>[Key Bitcoin Price Levels for the Week Ahead]</td>\n",
              "      <td>Key Bitcoin Price Levels for the Week Ahead</td>\n",
              "    </tr>\n",
              "    <tr>\n",
              "      <th>14</th>\n",
              "      <td>2014 बिटपर युद्ध शुरू किया है - और यह है बॉबी ...</td>\n",
              "      <td>[The 2014 Bitcoin War Has Started— And it is B...</td>\n",
              "      <td>The 2014 Bitcoin War Has Started— And it is Bo...</td>\n",
              "    </tr>\n",
              "    <tr>\n",
              "      <th>15</th>\n",
              "      <td>दो नए बिट बिटपरन</td>\n",
              "      <td>[Two new Bitcoin ASIC Miners : Scam or Real?]</td>\n",
              "      <td>Two new Bitcoin ASIC Miners : Scam or Real?</td>\n",
              "    </tr>\n",
              "    <tr>\n",
              "      <th>16</th>\n",
              "      <td>केनसीममंर घोषणा 2 माह/snin Mer</td>\n",
              "      <td>[KnCMiner Announces 2TH/s Bitcoin ASIC Miner]</td>\n",
              "      <td>KnCMiner Announces 2TH/s Bitcoin ASIC Miner</td>\n",
              "    </tr>\n",
              "    <tr>\n",
              "      <th>17</th>\n",
              "      <td>PSA: एपीपेर होक्स के लिए मत गिरिए</td>\n",
              "      <td>[PSA: Do Not Fall for the Apple Bitcoin Miner ...</td>\n",
              "      <td>PSA: Do Not Fall for the Apple Bitcoin Miner Hoax</td>\n",
              "    </tr>\n",
              "    <tr>\n",
              "      <th>18</th>\n",
              "      <td>समाचार को तोड़ रही है: हैश- बस्स पूलिंग</td>\n",
              "      <td>[Breaking News:,  HashCows Mining Pool Hacked]</td>\n",
              "      <td>Breaking News: HashCows Mining Pool Hacked</td>\n",
              "    </tr>\n",
              "    <tr>\n",
              "      <th>19</th>\n",
              "      <td>डिजिटल महासागर - पूर्ण मार्गदर्शक का प्रयोग कर...</td>\n",
              "      <td>[Primecoin Cloud Mining using Digital Ocean – ...</td>\n",
              "      <td>Primecoin Cloud Mining using Digital Ocean – T...</td>\n",
              "    </tr>\n",
              "  </tbody>\n",
              "</table>\n",
              "</div>"
            ],
            "text/plain": [
              "                                           translated  ...                                           document\n",
              "0    बिटटोन कीमत अद्यतन: क्या चीन हमें नीचे ले जाएगा?  ...     Bitcoin Price Update: Will China Lead us Down?\n",
              "1   सप्ताह 51 (15 - 22 डेक) के लिए कुंजी बिटस्लेट्...  ...  Key Bitcoin Price Levels for Week 51 (15 – 22 ...\n",
              "2   नैशनल ऑस्ट्रेलिया बैंक, उच्च रूप सेित डाटा का ...  ...  National Australia Bank, Citing Highly Flawed ...\n",
              "3                 चीनी बिटपरन बैंगिंग संकट से ड्राइव?  ...  Chinese Bitcoin Ban Driven by  Chinese Banking...\n",
              "4                                    बिटफिक्स अद्यतन:  ...              Bitcoin Trade Update: Opened Position\n",
              "5      मैं इस बात को समझ नहीं पाया कि मैं क्या करूँ ।  ...  Key Bitcoin Price Levels for Week 52 (22 – 28 ...\n",
              "6                                     मेक्सेन सुरक्षा  ...                                   Bitcoin Survival\n",
              "7                            भारी धातु की लत पर बिकना  ...                      Massive Bitcoin Sell Going On\n",
              "8      क्यों बिटकोन सोमवार 23 बजे से 10% तक बढ़ जाएगा  ...  Why Bitcoin will rise on Monday 23rd by more t...\n",
              "9     अज़ाबेरी गिरता ही क्यों है, और फिर उठ खड़ा होगा  ...        Why Bitcoin is falling, and will rise again\n",
              "10                          सन्‌ 2014 में बिटोन मूल्य  ...                              Bitcoin Price in 2014\n",
              "11  शायद यह बिटको में निवेश करने का सबसे अच्छा समय है  ...  This is probably the best time to invest in Bi...\n",
              "12                   बिटमेसिन्स तथा नारंगी तुलना करना  ...                     Comparing Bitcoins and Oranges\n",
              "13                  सप्ताह के लिए कुंजी बिट- स्तर आगे  ...        Key Bitcoin Price Levels for the Week Ahead\n",
              "14  2014 बिटपर युद्ध शुरू किया है - और यह है बॉबी ...  ...  The 2014 Bitcoin War Has Started— And it is Bo...\n",
              "15                                   दो नए बिट बिटपरन  ...        Two new Bitcoin ASIC Miners : Scam or Real?\n",
              "16                     केनसीममंर घोषणा 2 माह/snin Mer  ...        KnCMiner Announces 2TH/s Bitcoin ASIC Miner\n",
              "17                  PSA: एपीपेर होक्स के लिए मत गिरिए  ...  PSA: Do Not Fall for the Apple Bitcoin Miner Hoax\n",
              "18            समाचार को तोड़ रही है: हैश- बस्स पूलिंग  ...         Breaking News: HashCows Mining Pool Hacked\n",
              "19  डिजिटल महासागर - पूर्ण मार्गदर्शक का प्रयोग कर...  ...  Primecoin Cloud Mining using Digital Ocean – T...\n",
              "\n",
              "[20 rows x 3 columns]"
            ]
          },
          "metadata": {},
          "execution_count": 4
        }
      ]
    },
    {
      "cell_type": "markdown",
      "metadata": {
        "id": "50Ap0BIujDWr"
      },
      "source": [
        "# Train a Multi Lingual Classifier for 100+ languages from a dataset with just one language\n",
        "\n",
        "[Leverage Language-agnostic BERT Sentence Embedding (LABSE)​ and acheive state of the art!](https://arxiv.org/abs/2007.01852) ​  ​  \n",
        "\n",
        "Training a classifier with LABSE embeddings enables the knowledge to be transferred to 109 languages!\n",
        "With the [SentimentDL model](https://nlp.johnsnowlabs.com/docs/en/annotators#sentimentdl-multi-class-sentiment-analysis-annotator)  from Spark NLP you can achieve State Of the Art results on any binary class text classification problem.\n",
        "\n",
        "### Languages suppoted by LABSE\n",
        "![labse languages](http://ckl-it.de/wp-content/uploads/2021/02/LABSE.png)\n",
        "\n"
      ]
    },
    {
      "cell_type": "markdown",
      "metadata": {
        "id": "e5OCciiSS1mB"
      },
      "source": [
        "**Make sure to restart your notebook again** before starting the next section"
      ]
    },
    {
      "cell_type": "code",
      "metadata": {
        "id": "WZR-8-EoS1mH"
      },
      "source": [
        "print(\"Please restart kernel if you are in google colab and run next cell after the restart to configure java 8 back\")\n",
        "1+'wait'\n"
      ],
      "execution_count": null,
      "outputs": []
    },
    {
      "cell_type": "code",
      "metadata": {
        "colab": {
          "base_uri": "https://localhost:8080/",
          "height": 606
        },
        "id": "y4xSRWIhwT28",
        "outputId": "0021842f-51b5-473c-ce4c-1c98c575e5e2"
      },
      "source": [
        "import nlu\n",
        "# Download French twitter  Sentiment dataset  https://www.kaggle.com/hbaflast/french-twitter-sentiment-analysis\n",
        "! wget http://ckl-it.de/wp-content/uploads/2021/02/french_tweets.csv\n",
        "\n",
        "import pandas as pd\n",
        "\n",
        "train_path = '/content/french_tweets.csv'\n",
        "\n",
        "train_df = pd.read_csv(train_path)\n",
        "# the text data to use for classification should be in a column named 'text'\n",
        "columns=['text','y']\n",
        "train_df = train_df[columns]\n",
        "train_df = train_df.sample(frac=1).reset_index(drop=True)\n",
        "train_df"
      ],
      "execution_count": null,
      "outputs": [
        {
          "output_type": "stream",
          "name": "stdout",
          "text": [
            "--2021-10-13 10:56:02--  http://ckl-it.de/wp-content/uploads/2021/02/french_tweets.csv\n",
            "Resolving ckl-it.de (ckl-it.de)... 217.160.0.108, 2001:8d8:100f:f000::209\n",
            "Connecting to ckl-it.de (ckl-it.de)|217.160.0.108|:80... connected.\n",
            "HTTP request sent, awaiting response... 200 OK\n",
            "Length: 10237264 (9.8M) [text/csv]\n",
            "Saving to: ‘french_tweets.csv’\n",
            "\n",
            "french_tweets.csv   100%[===================>]   9.76M  8.46MB/s    in 1.2s    \n",
            "\n",
            "2021-10-13 10:56:03 (8.46 MB/s) - ‘french_tweets.csv’ saved [10237264/10237264]\n",
            "\n"
          ]
        },
        {
          "output_type": "execute_result",
          "data": {
            "text/html": [
              "<div>\n",
              "<style scoped>\n",
              "    .dataframe tbody tr th:only-of-type {\n",
              "        vertical-align: middle;\n",
              "    }\n",
              "\n",
              "    .dataframe tbody tr th {\n",
              "        vertical-align: top;\n",
              "    }\n",
              "\n",
              "    .dataframe thead th {\n",
              "        text-align: right;\n",
              "    }\n",
              "</style>\n",
              "<table border=\"1\" class=\"dataframe\">\n",
              "  <thead>\n",
              "    <tr style=\"text-align: right;\">\n",
              "      <th></th>\n",
              "      <th>text</th>\n",
              "      <th>y</th>\n",
              "    </tr>\n",
              "  </thead>\n",
              "  <tbody>\n",
              "    <tr>\n",
              "      <th>0</th>\n",
              "      <td>Je viens de rentrer d'Ã©glise / Denny's. Un di...</td>\n",
              "      <td>positive</td>\n",
              "    </tr>\n",
              "    <tr>\n",
              "      <th>1</th>\n",
              "      <td>Hmmm, tout Ã  coup mes menus sont cassÃ©s: s w...</td>\n",
              "      <td>negative</td>\n",
              "    </tr>\n",
              "    <tr>\n",
              "      <th>2</th>\n",
              "      <td>: Ne soyez pas triste - maintenant vous avez f...</td>\n",
              "      <td>positive</td>\n",
              "    </tr>\n",
              "    <tr>\n",
              "      <th>3</th>\n",
              "      <td>Le 1er match de baseball de la saison est rava...</td>\n",
              "      <td>negative</td>\n",
              "    </tr>\n",
              "    <tr>\n",
              "      <th>4</th>\n",
              "      <td>Omg est-ce vraiment vous, avez-vous rejoint le...</td>\n",
              "      <td>positive</td>\n",
              "    </tr>\n",
              "    <tr>\n",
              "      <th>...</th>\n",
              "      <td>...</td>\n",
              "      <td>...</td>\n",
              "    </tr>\n",
              "    <tr>\n",
              "      <th>99995</th>\n",
              "      <td>En forme aujourd'hui seulement fatiguÃ© de l'Ã...</td>\n",
              "      <td>positive</td>\n",
              "    </tr>\n",
              "    <tr>\n",
              "      <th>99996</th>\n",
              "      <td>Essayant de trouver le pilote pour mon interfa...</td>\n",
              "      <td>negative</td>\n",
              "    </tr>\n",
              "    <tr>\n",
              "      <th>99997</th>\n",
              "      <td>Parfois, je dÃ©teste les gens qui arrivent Ã  ...</td>\n",
              "      <td>negative</td>\n",
              "    </tr>\n",
              "    <tr>\n",
              "      <th>99998</th>\n",
              "      <td>Anniversaire 2moz luke m'a souhaitÃ© joyeux an...</td>\n",
              "      <td>positive</td>\n",
              "    </tr>\n",
              "    <tr>\n",
              "      <th>99999</th>\n",
              "      <td>C'Ã©tait super! La prochaine fois que je serai...</td>\n",
              "      <td>positive</td>\n",
              "    </tr>\n",
              "  </tbody>\n",
              "</table>\n",
              "<p>100000 rows × 2 columns</p>\n",
              "</div>"
            ],
            "text/plain": [
              "                                                    text         y\n",
              "0      Je viens de rentrer d'Ã©glise / Denny's. Un di...  positive\n",
              "1      Hmmm, tout Ã  coup mes menus sont cassÃ©s: s w...  negative\n",
              "2      : Ne soyez pas triste - maintenant vous avez f...  positive\n",
              "3      Le 1er match de baseball de la saison est rava...  negative\n",
              "4      Omg est-ce vraiment vous, avez-vous rejoint le...  positive\n",
              "...                                                  ...       ...\n",
              "99995  En forme aujourd'hui seulement fatiguÃ© de l'Ã...  positive\n",
              "99996  Essayant de trouver le pilote pour mon interfa...  negative\n",
              "99997  Parfois, je dÃ©teste les gens qui arrivent Ã  ...  negative\n",
              "99998  Anniversaire 2moz luke m'a souhaitÃ© joyeux an...  positive\n",
              "99999  C'Ã©tait super! La prochaine fois que je serai...  positive\n",
              "\n",
              "[100000 rows x 2 columns]"
            ]
          },
          "metadata": {},
          "execution_count": 1
        }
      ]
    },
    {
      "cell_type": "markdown",
      "metadata": {
        "id": "0296Om2C5anY"
      },
      "source": [
        "## Train Deep Learning Classifier using `nlu.load('train.sentiment')`\n",
        "\n",
        "Al you need is a Pandas Dataframe with a label column named `y` and the column with text data should be named `text`\n",
        "\n",
        "We are training on a french dataset and can then predict classes correct **in 100+ langauges**"
      ]
    },
    {
      "cell_type": "code",
      "metadata": {
        "colab": {
          "base_uri": "https://localhost:8080/",
          "height": 589
        },
        "id": "mptfvHx-MMMX",
        "outputId": "d00da741-5714-40f0-dc1d-8ce440b18802"
      },
      "source": [
        "from sklearn.metrics import classification_report\n",
        "# Train longer!\n",
        "trainable_pipe = nlu.load('xx.embed_sentence.labse train.sentiment')\n",
        "trainable_pipe['sentiment_dl'].setMaxEpochs(60)  \n",
        "trainable_pipe['sentiment_dl'].setLr(0.005) \n",
        "fitted_pipe = trainable_pipe.fit(train_df.iloc[:2000])\n",
        "# predict with the trainable pipeline on dataset and get predictions\n",
        "preds = fitted_pipe.predict(train_df.iloc[:2000],output_level='document')\n",
        "\n",
        "#sentence detector that is part of the pipe generates sone NaNs. lets drop them first\n",
        "preds.dropna(inplace=True)\n",
        "print(classification_report(preds['y'], preds['trained_sentiment']))\n",
        "\n",
        "preds"
      ],
      "execution_count": null,
      "outputs": [
        {
          "output_type": "stream",
          "name": "stdout",
          "text": [
            "              precision    recall  f1-score   support\n",
            "\n",
            "    negative       0.86      0.86      0.86       938\n",
            "     neutral       0.00      0.00      0.00         0\n",
            "    positive       0.88      0.87      0.87      1062\n",
            "\n",
            "    accuracy                           0.86      2000\n",
            "   macro avg       0.58      0.58      0.58      2000\n",
            "weighted avg       0.87      0.86      0.87      2000\n",
            "\n"
          ]
        },
        {
          "output_type": "execute_result",
          "data": {
            "text/html": [
              "<div>\n",
              "<style scoped>\n",
              "    .dataframe tbody tr th:only-of-type {\n",
              "        vertical-align: middle;\n",
              "    }\n",
              "\n",
              "    .dataframe tbody tr th {\n",
              "        vertical-align: top;\n",
              "    }\n",
              "\n",
              "    .dataframe thead th {\n",
              "        text-align: right;\n",
              "    }\n",
              "</style>\n",
              "<table border=\"1\" class=\"dataframe\">\n",
              "  <thead>\n",
              "    <tr style=\"text-align: right;\">\n",
              "      <th></th>\n",
              "      <th>trained_sentiment_confidence</th>\n",
              "      <th>text</th>\n",
              "      <th>y</th>\n",
              "      <th>sentence_embedding_labse</th>\n",
              "      <th>trained_sentiment</th>\n",
              "      <th>document</th>\n",
              "    </tr>\n",
              "  </thead>\n",
              "  <tbody>\n",
              "    <tr>\n",
              "      <th>0</th>\n",
              "      <td>0.999921</td>\n",
              "      <td>Je viens de rentrer d'Ã©glise / Denny's. Un di...</td>\n",
              "      <td>positive</td>\n",
              "      <td>[-0.040030494, -0.040729627, -0.0132918665, -0...</td>\n",
              "      <td>positive</td>\n",
              "      <td>Je viens de rentrer d'Ã©glise / Denny's. Un di...</td>\n",
              "    </tr>\n",
              "    <tr>\n",
              "      <th>1</th>\n",
              "      <td>0.998534</td>\n",
              "      <td>Hmmm, tout Ã  coup mes menus sont cassÃ©s: s w...</td>\n",
              "      <td>negative</td>\n",
              "      <td>[-0.05783994, -0.04417177, -0.018667027, -0.00...</td>\n",
              "      <td>negative</td>\n",
              "      <td>Hmmm, tout Ã  coup mes menus sont cassÃ©s: s w...</td>\n",
              "    </tr>\n",
              "    <tr>\n",
              "      <th>2</th>\n",
              "      <td>0.999997</td>\n",
              "      <td>: Ne soyez pas triste - maintenant vous avez f...</td>\n",
              "      <td>positive</td>\n",
              "      <td>[-0.002787655, -0.059889104, -0.036583673, -0....</td>\n",
              "      <td>positive</td>\n",
              "      <td>: Ne soyez pas triste - maintenant vous avez f...</td>\n",
              "    </tr>\n",
              "    <tr>\n",
              "      <th>3</th>\n",
              "      <td>0.998797</td>\n",
              "      <td>Le 1er match de baseball de la saison est rava...</td>\n",
              "      <td>negative</td>\n",
              "      <td>[0.023394596, -0.028296234, -0.017773973, 0.00...</td>\n",
              "      <td>negative</td>\n",
              "      <td>Le 1er match de baseball de la saison est rava...</td>\n",
              "    </tr>\n",
              "    <tr>\n",
              "      <th>4</th>\n",
              "      <td>1.000000</td>\n",
              "      <td>Omg est-ce vraiment vous, avez-vous rejoint le...</td>\n",
              "      <td>positive</td>\n",
              "      <td>[-0.017570166, -0.06888229, -0.025338171, -0.0...</td>\n",
              "      <td>positive</td>\n",
              "      <td>Omg est-ce vraiment vous, avez-vous rejoint le...</td>\n",
              "    </tr>\n",
              "    <tr>\n",
              "      <th>...</th>\n",
              "      <td>...</td>\n",
              "      <td>...</td>\n",
              "      <td>...</td>\n",
              "      <td>...</td>\n",
              "      <td>...</td>\n",
              "      <td>...</td>\n",
              "    </tr>\n",
              "    <tr>\n",
              "      <th>1995</th>\n",
              "      <td>0.990505</td>\n",
              "      <td>Votre mÃ¨re a Ã©galement fait sa derniÃ¨re nui...</td>\n",
              "      <td>negative</td>\n",
              "      <td>[0.006075132, -0.04544416, 0.004860691, -0.060...</td>\n",
              "      <td>negative</td>\n",
              "      <td>Votre mÃ¨re a Ã©galement fait sa derniÃ¨re nui...</td>\n",
              "    </tr>\n",
              "    <tr>\n",
              "      <th>1996</th>\n",
              "      <td>1.000000</td>\n",
              "      <td>Hey ashton !!! FÃ©licitations pour les million...</td>\n",
              "      <td>positive</td>\n",
              "      <td>[-0.019671792, -0.059385166, -0.0401446, -0.07...</td>\n",
              "      <td>positive</td>\n",
              "      <td>Hey ashton !!! FÃ©licitations pour les million...</td>\n",
              "    </tr>\n",
              "    <tr>\n",
              "      <th>1997</th>\n",
              "      <td>0.964002</td>\n",
              "      <td>Ok bien dans ce cas, restez dÃ©finitivement et...</td>\n",
              "      <td>negative</td>\n",
              "      <td>[-0.035102192, -0.06053113, -0.0007351624, -0....</td>\n",
              "      <td>positive</td>\n",
              "      <td>Ok bien dans ce cas, restez dÃ©finitivement et...</td>\n",
              "    </tr>\n",
              "    <tr>\n",
              "      <th>1998</th>\n",
              "      <td>0.997976</td>\n",
              "      <td>Est un peu confus ..x ..</td>\n",
              "      <td>negative</td>\n",
              "      <td>[0.011519443, -0.06643602, -0.07067933, -0.077...</td>\n",
              "      <td>negative</td>\n",
              "      <td>Est un peu confus ..x ..</td>\n",
              "    </tr>\n",
              "    <tr>\n",
              "      <th>1999</th>\n",
              "      <td>0.998802</td>\n",
              "      <td>Mm, Twitter semble avoir mangÃ© certains de me...</td>\n",
              "      <td>negative</td>\n",
              "      <td>[0.030624552, -0.016529426, 0.0068860655, -0.0...</td>\n",
              "      <td>negative</td>\n",
              "      <td>Mm, Twitter semble avoir mangÃ© certains de me...</td>\n",
              "    </tr>\n",
              "  </tbody>\n",
              "</table>\n",
              "<p>2000 rows × 6 columns</p>\n",
              "</div>"
            ],
            "text/plain": [
              "      trained_sentiment_confidence  ...                                           document\n",
              "0                         0.999921  ...  Je viens de rentrer d'Ã©glise / Denny's. Un di...\n",
              "1                         0.998534  ...  Hmmm, tout Ã  coup mes menus sont cassÃ©s: s w...\n",
              "2                         0.999997  ...  : Ne soyez pas triste - maintenant vous avez f...\n",
              "3                         0.998797  ...  Le 1er match de baseball de la saison est rava...\n",
              "4                         1.000000  ...  Omg est-ce vraiment vous, avez-vous rejoint le...\n",
              "...                            ...  ...                                                ...\n",
              "1995                      0.990505  ...  Votre mÃ¨re a Ã©galement fait sa derniÃ¨re nui...\n",
              "1996                      1.000000  ...  Hey ashton !!! FÃ©licitations pour les million...\n",
              "1997                      0.964002  ...  Ok bien dans ce cas, restez dÃ©finitivement et...\n",
              "1998                      0.997976  ...                           Est un peu confus ..x ..\n",
              "1999                      0.998802  ...  Mm, Twitter semble avoir mangÃ© certains de me...\n",
              "\n",
              "[2000 rows x 6 columns]"
            ]
          },
          "metadata": {},
          "execution_count": 5
        }
      ]
    },
    {
      "cell_type": "code",
      "metadata": {
        "colab": {
          "base_uri": "https://localhost:8080/",
          "height": 419
        },
        "id": "aiSTiyHDgUeT",
        "outputId": "f60e46c4-598b-49d6-ea61-dc89f17bb16a"
      },
      "source": [
        ""
      ],
      "execution_count": null,
      "outputs": [
        {
          "output_type": "execute_result",
          "data": {
            "text/html": [
              "<div>\n",
              "<style scoped>\n",
              "    .dataframe tbody tr th:only-of-type {\n",
              "        vertical-align: middle;\n",
              "    }\n",
              "\n",
              "    .dataframe tbody tr th {\n",
              "        vertical-align: top;\n",
              "    }\n",
              "\n",
              "    .dataframe thead th {\n",
              "        text-align: right;\n",
              "    }\n",
              "</style>\n",
              "<table border=\"1\" class=\"dataframe\">\n",
              "  <thead>\n",
              "    <tr style=\"text-align: right;\">\n",
              "      <th></th>\n",
              "      <th>trained_sentiment_confidence</th>\n",
              "      <th>text</th>\n",
              "      <th>y</th>\n",
              "      <th>sentence_embedding_labse</th>\n",
              "      <th>trained_sentiment</th>\n",
              "      <th>document</th>\n",
              "    </tr>\n",
              "  </thead>\n",
              "  <tbody>\n",
              "    <tr>\n",
              "      <th>0</th>\n",
              "      <td>0.999921</td>\n",
              "      <td>Je viens de rentrer d'Ã©glise / Denny's. Un di...</td>\n",
              "      <td>positive</td>\n",
              "      <td>[-0.040030494, -0.040729627, -0.0132918665, -0...</td>\n",
              "      <td>positive</td>\n",
              "      <td>Je viens de rentrer d'Ã©glise / Denny's. Un di...</td>\n",
              "    </tr>\n",
              "    <tr>\n",
              "      <th>1</th>\n",
              "      <td>0.998534</td>\n",
              "      <td>Hmmm, tout Ã  coup mes menus sont cassÃ©s: s w...</td>\n",
              "      <td>negative</td>\n",
              "      <td>[-0.05783994, -0.04417177, -0.018667027, -0.00...</td>\n",
              "      <td>negative</td>\n",
              "      <td>Hmmm, tout Ã  coup mes menus sont cassÃ©s: s w...</td>\n",
              "    </tr>\n",
              "    <tr>\n",
              "      <th>2</th>\n",
              "      <td>0.999997</td>\n",
              "      <td>: Ne soyez pas triste - maintenant vous avez f...</td>\n",
              "      <td>positive</td>\n",
              "      <td>[-0.002787655, -0.059889104, -0.036583673, -0....</td>\n",
              "      <td>positive</td>\n",
              "      <td>: Ne soyez pas triste - maintenant vous avez f...</td>\n",
              "    </tr>\n",
              "    <tr>\n",
              "      <th>3</th>\n",
              "      <td>0.998797</td>\n",
              "      <td>Le 1er match de baseball de la saison est rava...</td>\n",
              "      <td>negative</td>\n",
              "      <td>[0.023394596, -0.028296234, -0.017773973, 0.00...</td>\n",
              "      <td>negative</td>\n",
              "      <td>Le 1er match de baseball de la saison est rava...</td>\n",
              "    </tr>\n",
              "    <tr>\n",
              "      <th>4</th>\n",
              "      <td>1.000000</td>\n",
              "      <td>Omg est-ce vraiment vous, avez-vous rejoint le...</td>\n",
              "      <td>positive</td>\n",
              "      <td>[-0.017570166, -0.06888229, -0.025338171, -0.0...</td>\n",
              "      <td>positive</td>\n",
              "      <td>Omg est-ce vraiment vous, avez-vous rejoint le...</td>\n",
              "    </tr>\n",
              "    <tr>\n",
              "      <th>...</th>\n",
              "      <td>...</td>\n",
              "      <td>...</td>\n",
              "      <td>...</td>\n",
              "      <td>...</td>\n",
              "      <td>...</td>\n",
              "      <td>...</td>\n",
              "    </tr>\n",
              "    <tr>\n",
              "      <th>1995</th>\n",
              "      <td>0.990505</td>\n",
              "      <td>Votre mÃ¨re a Ã©galement fait sa derniÃ¨re nui...</td>\n",
              "      <td>negative</td>\n",
              "      <td>[0.006075132, -0.04544416, 0.004860691, -0.060...</td>\n",
              "      <td>negative</td>\n",
              "      <td>Votre mÃ¨re a Ã©galement fait sa derniÃ¨re nui...</td>\n",
              "    </tr>\n",
              "    <tr>\n",
              "      <th>1996</th>\n",
              "      <td>1.000000</td>\n",
              "      <td>Hey ashton !!! FÃ©licitations pour les million...</td>\n",
              "      <td>positive</td>\n",
              "      <td>[-0.019671792, -0.059385166, -0.0401446, -0.07...</td>\n",
              "      <td>positive</td>\n",
              "      <td>Hey ashton !!! FÃ©licitations pour les million...</td>\n",
              "    </tr>\n",
              "    <tr>\n",
              "      <th>1997</th>\n",
              "      <td>0.964002</td>\n",
              "      <td>Ok bien dans ce cas, restez dÃ©finitivement et...</td>\n",
              "      <td>negative</td>\n",
              "      <td>[-0.035102192, -0.06053113, -0.0007351624, -0....</td>\n",
              "      <td>positive</td>\n",
              "      <td>Ok bien dans ce cas, restez dÃ©finitivement et...</td>\n",
              "    </tr>\n",
              "    <tr>\n",
              "      <th>1998</th>\n",
              "      <td>0.997976</td>\n",
              "      <td>Est un peu confus ..x ..</td>\n",
              "      <td>negative</td>\n",
              "      <td>[0.011519443, -0.06643602, -0.07067933, -0.077...</td>\n",
              "      <td>negative</td>\n",
              "      <td>Est un peu confus ..x ..</td>\n",
              "    </tr>\n",
              "    <tr>\n",
              "      <th>1999</th>\n",
              "      <td>0.998802</td>\n",
              "      <td>Mm, Twitter semble avoir mangÃ© certains de me...</td>\n",
              "      <td>negative</td>\n",
              "      <td>[0.030624552, -0.016529426, 0.0068860655, -0.0...</td>\n",
              "      <td>negative</td>\n",
              "      <td>Mm, Twitter semble avoir mangÃ© certains de me...</td>\n",
              "    </tr>\n",
              "  </tbody>\n",
              "</table>\n",
              "<p>2000 rows × 6 columns</p>\n",
              "</div>"
            ],
            "text/plain": [
              "      trained_sentiment_confidence  ...                                           document\n",
              "0                         0.999921  ...  Je viens de rentrer d'Ã©glise / Denny's. Un di...\n",
              "1                         0.998534  ...  Hmmm, tout Ã  coup mes menus sont cassÃ©s: s w...\n",
              "2                         0.999997  ...  : Ne soyez pas triste - maintenant vous avez f...\n",
              "3                         0.998797  ...  Le 1er match de baseball de la saison est rava...\n",
              "4                         1.000000  ...  Omg est-ce vraiment vous, avez-vous rejoint le...\n",
              "...                            ...  ...                                                ...\n",
              "1995                      0.990505  ...  Votre mÃ¨re a Ã©galement fait sa derniÃ¨re nui...\n",
              "1996                      1.000000  ...  Hey ashton !!! FÃ©licitations pour les million...\n",
              "1997                      0.964002  ...  Ok bien dans ce cas, restez dÃ©finitivement et...\n",
              "1998                      0.997976  ...                           Est un peu confus ..x ..\n",
              "1999                      0.998802  ...  Mm, Twitter semble avoir mangÃ© certains de me...\n",
              "\n",
              "[2000 rows x 6 columns]"
            ]
          },
          "metadata": {},
          "execution_count": 4
        }
      ]
    },
    {
      "cell_type": "markdown",
      "metadata": {
        "id": "lVyOE2wV0fw_"
      },
      "source": [
        "### Test the fitted pipe on new example"
      ]
    },
    {
      "cell_type": "markdown",
      "metadata": {
        "id": "RjtuNUcvuJTT"
      },
      "source": [
        "#### The Model understands Englsih\n",
        "![en](https://www.worldometers.info/img/flags/small/tn_nz-flag.gif)"
      ]
    },
    {
      "cell_type": "code",
      "metadata": {
        "colab": {
          "base_uri": "https://localhost:8080/",
          "height": 80
        },
        "id": "o0vu7PaWkcI7",
        "outputId": "7c2afa96-3c97-4cc7-f2c2-7c86592902d5"
      },
      "source": [
        "fitted_pipe.predict(\"This was awful!\")"
      ],
      "execution_count": null,
      "outputs": [
        {
          "output_type": "execute_result",
          "data": {
            "text/html": [
              "<div>\n",
              "<style scoped>\n",
              "    .dataframe tbody tr th:only-of-type {\n",
              "        vertical-align: middle;\n",
              "    }\n",
              "\n",
              "    .dataframe tbody tr th {\n",
              "        vertical-align: top;\n",
              "    }\n",
              "\n",
              "    .dataframe thead th {\n",
              "        text-align: right;\n",
              "    }\n",
              "</style>\n",
              "<table border=\"1\" class=\"dataframe\">\n",
              "  <thead>\n",
              "    <tr style=\"text-align: right;\">\n",
              "      <th></th>\n",
              "      <th>trained_sentiment_confidence</th>\n",
              "      <th>sentence_embedding_labse</th>\n",
              "      <th>trained_sentiment</th>\n",
              "      <th>document</th>\n",
              "    </tr>\n",
              "  </thead>\n",
              "  <tbody>\n",
              "    <tr>\n",
              "      <th>0</th>\n",
              "      <td>0.974466</td>\n",
              "      <td>[0.034723382, -0.0621215, -0.059107564, -0.062...</td>\n",
              "      <td>negative</td>\n",
              "      <td>This was awful!</td>\n",
              "    </tr>\n",
              "  </tbody>\n",
              "</table>\n",
              "</div>"
            ],
            "text/plain": [
              "   trained_sentiment_confidence  ...         document\n",
              "0                      0.974466  ...  This was awful!\n",
              "\n",
              "[1 rows x 4 columns]"
            ]
          },
          "metadata": {},
          "execution_count": 7
        }
      ]
    },
    {
      "cell_type": "code",
      "metadata": {
        "colab": {
          "base_uri": "https://localhost:8080/",
          "height": 80
        },
        "id": "1ykjRQhCtQ4w",
        "outputId": "2e9dd715-3251-45bc-da37-1daf539f5eb5"
      },
      "source": [
        "fitted_pipe.predict(\"This was great!\")"
      ],
      "execution_count": null,
      "outputs": [
        {
          "output_type": "execute_result",
          "data": {
            "text/html": [
              "<div>\n",
              "<style scoped>\n",
              "    .dataframe tbody tr th:only-of-type {\n",
              "        vertical-align: middle;\n",
              "    }\n",
              "\n",
              "    .dataframe tbody tr th {\n",
              "        vertical-align: top;\n",
              "    }\n",
              "\n",
              "    .dataframe thead th {\n",
              "        text-align: right;\n",
              "    }\n",
              "</style>\n",
              "<table border=\"1\" class=\"dataframe\">\n",
              "  <thead>\n",
              "    <tr style=\"text-align: right;\">\n",
              "      <th></th>\n",
              "      <th>trained_sentiment_confidence</th>\n",
              "      <th>sentence_embedding_labse</th>\n",
              "      <th>trained_sentiment</th>\n",
              "      <th>document</th>\n",
              "    </tr>\n",
              "  </thead>\n",
              "  <tbody>\n",
              "    <tr>\n",
              "      <th>0</th>\n",
              "      <td>1.0</td>\n",
              "      <td>[0.03868242, -0.05859256, -0.055812933, -0.059...</td>\n",
              "      <td>positive</td>\n",
              "      <td>This was great!</td>\n",
              "    </tr>\n",
              "  </tbody>\n",
              "</table>\n",
              "</div>"
            ],
            "text/plain": [
              "   trained_sentiment_confidence  ...         document\n",
              "0                           1.0  ...  This was great!\n",
              "\n",
              "[1 rows x 4 columns]"
            ]
          },
          "metadata": {},
          "execution_count": 8
        }
      ]
    },
    {
      "cell_type": "markdown",
      "metadata": {
        "id": "vohym-XbuNHn"
      },
      "source": [
        "#### The Model understands German\n",
        "![de](https://www.worldometers.info/img/flags/small/tn_gm-flag.gif)"
      ]
    },
    {
      "cell_type": "code",
      "metadata": {
        "colab": {
          "base_uri": "https://localhost:8080/",
          "height": 80
        },
        "id": "dzaaZrI4tVWc",
        "outputId": "898d2a80-5227-4978-c47b-93a5203acf32"
      },
      "source": [
        "# German for:' this movie was great!'\n",
        "fitted_pipe.predict(\"Der Film war echt klasse!\")"
      ],
      "execution_count": null,
      "outputs": [
        {
          "output_type": "execute_result",
          "data": {
            "text/html": [
              "<div>\n",
              "<style scoped>\n",
              "    .dataframe tbody tr th:only-of-type {\n",
              "        vertical-align: middle;\n",
              "    }\n",
              "\n",
              "    .dataframe tbody tr th {\n",
              "        vertical-align: top;\n",
              "    }\n",
              "\n",
              "    .dataframe thead th {\n",
              "        text-align: right;\n",
              "    }\n",
              "</style>\n",
              "<table border=\"1\" class=\"dataframe\">\n",
              "  <thead>\n",
              "    <tr style=\"text-align: right;\">\n",
              "      <th></th>\n",
              "      <th>trained_sentiment_confidence</th>\n",
              "      <th>sentence_embedding_labse</th>\n",
              "      <th>trained_sentiment</th>\n",
              "      <th>document</th>\n",
              "    </tr>\n",
              "  </thead>\n",
              "  <tbody>\n",
              "    <tr>\n",
              "      <th>0</th>\n",
              "      <td>0.999999</td>\n",
              "      <td>[-0.015189239, -0.0483483, -0.054966275, -0.05...</td>\n",
              "      <td>positive</td>\n",
              "      <td>Der Film war echt klasse!</td>\n",
              "    </tr>\n",
              "  </tbody>\n",
              "</table>\n",
              "</div>"
            ],
            "text/plain": [
              "   trained_sentiment_confidence  ...                   document\n",
              "0                      0.999999  ...  Der Film war echt klasse!\n",
              "\n",
              "[1 rows x 4 columns]"
            ]
          },
          "metadata": {},
          "execution_count": 9
        }
      ]
    },
    {
      "cell_type": "code",
      "metadata": {
        "colab": {
          "base_uri": "https://localhost:8080/",
          "height": 80
        },
        "id": "BbhgTSBGtTtJ",
        "outputId": "c895d2e2-f5ce-440c-b978-4aa50c757791"
      },
      "source": [
        "# German for: 'This movie was really boring'\n",
        "fitted_pipe.predict(\"Der Film war echt langweilig!\")"
      ],
      "execution_count": null,
      "outputs": [
        {
          "output_type": "execute_result",
          "data": {
            "text/html": [
              "<div>\n",
              "<style scoped>\n",
              "    .dataframe tbody tr th:only-of-type {\n",
              "        vertical-align: middle;\n",
              "    }\n",
              "\n",
              "    .dataframe tbody tr th {\n",
              "        vertical-align: top;\n",
              "    }\n",
              "\n",
              "    .dataframe thead th {\n",
              "        text-align: right;\n",
              "    }\n",
              "</style>\n",
              "<table border=\"1\" class=\"dataframe\">\n",
              "  <thead>\n",
              "    <tr style=\"text-align: right;\">\n",
              "      <th></th>\n",
              "      <th>trained_sentiment_confidence</th>\n",
              "      <th>sentence_embedding_labse</th>\n",
              "      <th>trained_sentiment</th>\n",
              "      <th>document</th>\n",
              "    </tr>\n",
              "  </thead>\n",
              "  <tbody>\n",
              "    <tr>\n",
              "      <th>0</th>\n",
              "      <td>0.997372</td>\n",
              "      <td>[-0.013573364, -0.051444538, -0.027629158, -0....</td>\n",
              "      <td>negative</td>\n",
              "      <td>Der Film war echt langweilig!</td>\n",
              "    </tr>\n",
              "  </tbody>\n",
              "</table>\n",
              "</div>"
            ],
            "text/plain": [
              "   trained_sentiment_confidence  ...                       document\n",
              "0                      0.997372  ...  Der Film war echt langweilig!\n",
              "\n",
              "[1 rows x 4 columns]"
            ]
          },
          "metadata": {},
          "execution_count": 10
        }
      ]
    },
    {
      "cell_type": "markdown",
      "metadata": {
        "id": "a1JbtmWquQwj"
      },
      "source": [
        "#### The Model understands Chinese\n",
        "![zh](https://www.worldometers.info/img/flags/small/tn_ch-flag.gif)"
      ]
    },
    {
      "cell_type": "code",
      "metadata": {
        "colab": {
          "base_uri": "https://localhost:8080/",
          "height": 80
        },
        "id": "kYSYqtoRtc-P",
        "outputId": "14829162-35e2-4039-d149-fd20c6c8acc3"
      },
      "source": [
        "# Chinese for: \"This model was awful!\"\n",
        "fitted_pipe.predict(\"这部电影太糟糕了！\")"
      ],
      "execution_count": null,
      "outputs": [
        {
          "output_type": "execute_result",
          "data": {
            "text/html": [
              "<div>\n",
              "<style scoped>\n",
              "    .dataframe tbody tr th:only-of-type {\n",
              "        vertical-align: middle;\n",
              "    }\n",
              "\n",
              "    .dataframe tbody tr th {\n",
              "        vertical-align: top;\n",
              "    }\n",
              "\n",
              "    .dataframe thead th {\n",
              "        text-align: right;\n",
              "    }\n",
              "</style>\n",
              "<table border=\"1\" class=\"dataframe\">\n",
              "  <thead>\n",
              "    <tr style=\"text-align: right;\">\n",
              "      <th></th>\n",
              "      <th>trained_sentiment_confidence</th>\n",
              "      <th>sentence_embedding_labse</th>\n",
              "      <th>trained_sentiment</th>\n",
              "      <th>document</th>\n",
              "    </tr>\n",
              "  </thead>\n",
              "  <tbody>\n",
              "    <tr>\n",
              "      <th>0</th>\n",
              "      <td>0.999905</td>\n",
              "      <td>[-0.05075532, -0.06159879, -0.056157336, -0.05...</td>\n",
              "      <td>negative</td>\n",
              "      <td>这部电影太糟糕了！</td>\n",
              "    </tr>\n",
              "  </tbody>\n",
              "</table>\n",
              "</div>"
            ],
            "text/plain": [
              "   trained_sentiment_confidence  ...   document\n",
              "0                      0.999905  ...  这部电影太糟糕了！\n",
              "\n",
              "[1 rows x 4 columns]"
            ]
          },
          "metadata": {},
          "execution_count": 11
        }
      ]
    },
    {
      "cell_type": "code",
      "metadata": {
        "colab": {
          "base_uri": "https://localhost:8080/",
          "height": 80
        },
        "id": "06v9SD-QtlBU",
        "outputId": "730fc4bb-72c4-4ba6-bbfa-767c6451eb5c"
      },
      "source": [
        "# Chine for : \"This move was great!\"\n",
        "fitted_pipe.predict(\"此举很棒！\")\n"
      ],
      "execution_count": null,
      "outputs": [
        {
          "output_type": "execute_result",
          "data": {
            "text/html": [
              "<div>\n",
              "<style scoped>\n",
              "    .dataframe tbody tr th:only-of-type {\n",
              "        vertical-align: middle;\n",
              "    }\n",
              "\n",
              "    .dataframe tbody tr th {\n",
              "        vertical-align: top;\n",
              "    }\n",
              "\n",
              "    .dataframe thead th {\n",
              "        text-align: right;\n",
              "    }\n",
              "</style>\n",
              "<table border=\"1\" class=\"dataframe\">\n",
              "  <thead>\n",
              "    <tr style=\"text-align: right;\">\n",
              "      <th></th>\n",
              "      <th>trained_sentiment_confidence</th>\n",
              "      <th>sentence_embedding_labse</th>\n",
              "      <th>trained_sentiment</th>\n",
              "      <th>document</th>\n",
              "    </tr>\n",
              "  </thead>\n",
              "  <tbody>\n",
              "    <tr>\n",
              "      <th>0</th>\n",
              "      <td>1.0</td>\n",
              "      <td>[0.02603493, -0.065867126, -0.059242684, -0.05...</td>\n",
              "      <td>positive</td>\n",
              "      <td>此举很棒！</td>\n",
              "    </tr>\n",
              "  </tbody>\n",
              "</table>\n",
              "</div>"
            ],
            "text/plain": [
              "   trained_sentiment_confidence  ... document\n",
              "0                           1.0  ...    此举很棒！\n",
              "\n",
              "[1 rows x 4 columns]"
            ]
          },
          "metadata": {},
          "execution_count": 12
        }
      ]
    },
    {
      "cell_type": "markdown",
      "metadata": {
        "id": "9h7CvN4uu9Pb"
      },
      "source": [
        "#### Model understanda Afrikaans\n",
        "\n",
        "![af](https://www.worldometers.info/img/flags/small/tn_sf-flag.gif)\n",
        "\n"
      ]
    },
    {
      "cell_type": "code",
      "metadata": {
        "colab": {
          "base_uri": "https://localhost:8080/",
          "height": 80
        },
        "id": "VMPhbgw9twtf",
        "outputId": "7d48b266-9a69-4cf2-98fe-a63eb0fba0b4"
      },
      "source": [
        "# Afrikaans for 'This movie was amazing!'\n",
        "fitted_pipe.predict(\"Hierdie film was ongelooflik!\")\n"
      ],
      "execution_count": null,
      "outputs": [
        {
          "output_type": "execute_result",
          "data": {
            "text/html": [
              "<div>\n",
              "<style scoped>\n",
              "    .dataframe tbody tr th:only-of-type {\n",
              "        vertical-align: middle;\n",
              "    }\n",
              "\n",
              "    .dataframe tbody tr th {\n",
              "        vertical-align: top;\n",
              "    }\n",
              "\n",
              "    .dataframe thead th {\n",
              "        text-align: right;\n",
              "    }\n",
              "</style>\n",
              "<table border=\"1\" class=\"dataframe\">\n",
              "  <thead>\n",
              "    <tr style=\"text-align: right;\">\n",
              "      <th></th>\n",
              "      <th>trained_sentiment_confidence</th>\n",
              "      <th>sentence_embedding_labse</th>\n",
              "      <th>trained_sentiment</th>\n",
              "      <th>document</th>\n",
              "    </tr>\n",
              "  </thead>\n",
              "  <tbody>\n",
              "    <tr>\n",
              "      <th>0</th>\n",
              "      <td>0.989516</td>\n",
              "      <td>[-0.019771239, -0.026877336, -0.051084977, -0....</td>\n",
              "      <td>positive</td>\n",
              "      <td>Hierdie film was ongelooflik!</td>\n",
              "    </tr>\n",
              "  </tbody>\n",
              "</table>\n",
              "</div>"
            ],
            "text/plain": [
              "   trained_sentiment_confidence  ...                       document\n",
              "0                      0.989516  ...  Hierdie film was ongelooflik!\n",
              "\n",
              "[1 rows x 4 columns]"
            ]
          },
          "metadata": {},
          "execution_count": 13
        }
      ]
    },
    {
      "cell_type": "code",
      "metadata": {
        "colab": {
          "base_uri": "https://localhost:8080/",
          "height": 80
        },
        "id": "zWgNTIdkumhX",
        "outputId": "de9270f6-f638-47c2-e817-8abad1187549"
      },
      "source": [
        "# Afrikaans for :'The movie made me fall asleep, it's awful!'\n",
        "fitted_pipe.predict('Die film het my aan die slaap laat raak, dit is verskriklik!')"
      ],
      "execution_count": null,
      "outputs": [
        {
          "output_type": "execute_result",
          "data": {
            "text/html": [
              "<div>\n",
              "<style scoped>\n",
              "    .dataframe tbody tr th:only-of-type {\n",
              "        vertical-align: middle;\n",
              "    }\n",
              "\n",
              "    .dataframe tbody tr th {\n",
              "        vertical-align: top;\n",
              "    }\n",
              "\n",
              "    .dataframe thead th {\n",
              "        text-align: right;\n",
              "    }\n",
              "</style>\n",
              "<table border=\"1\" class=\"dataframe\">\n",
              "  <thead>\n",
              "    <tr style=\"text-align: right;\">\n",
              "      <th></th>\n",
              "      <th>trained_sentiment_confidence</th>\n",
              "      <th>sentence_embedding_labse</th>\n",
              "      <th>trained_sentiment</th>\n",
              "      <th>document</th>\n",
              "    </tr>\n",
              "  </thead>\n",
              "  <tbody>\n",
              "    <tr>\n",
              "      <th>0</th>\n",
              "      <td>0.997745</td>\n",
              "      <td>[-0.050655153, -0.017065471, -0.0017134366, -0...</td>\n",
              "      <td>negative</td>\n",
              "      <td>Die film het my aan die slaap laat raak, dit i...</td>\n",
              "    </tr>\n",
              "  </tbody>\n",
              "</table>\n",
              "</div>"
            ],
            "text/plain": [
              "   trained_sentiment_confidence  ...                                           document\n",
              "0                      0.997745  ...  Die film het my aan die slaap laat raak, dit i...\n",
              "\n",
              "[1 rows x 4 columns]"
            ]
          },
          "metadata": {},
          "execution_count": 14
        }
      ]
    },
    {
      "cell_type": "markdown",
      "metadata": {
        "id": "rSEPkC-Bwnpg"
      },
      "source": [
        "#### The model understands Vietnamese\n",
        "![vi](https://www.worldometers.info/img/flags/small/tn_vm-flag.gif)"
      ]
    },
    {
      "cell_type": "code",
      "metadata": {
        "colab": {
          "base_uri": "https://localhost:8080/",
          "height": 80
        },
        "id": "wCcTS5gIu511",
        "outputId": "e181817f-db01-43a0-fa3b-596db677475b"
      },
      "source": [
        "# Vietnamese for : 'The movie was painful to watch'\n",
        "fitted_pipe.predict('Phim đau điếng người xem')\n"
      ],
      "execution_count": null,
      "outputs": [
        {
          "output_type": "execute_result",
          "data": {
            "text/html": [
              "<div>\n",
              "<style scoped>\n",
              "    .dataframe tbody tr th:only-of-type {\n",
              "        vertical-align: middle;\n",
              "    }\n",
              "\n",
              "    .dataframe tbody tr th {\n",
              "        vertical-align: top;\n",
              "    }\n",
              "\n",
              "    .dataframe thead th {\n",
              "        text-align: right;\n",
              "    }\n",
              "</style>\n",
              "<table border=\"1\" class=\"dataframe\">\n",
              "  <thead>\n",
              "    <tr style=\"text-align: right;\">\n",
              "      <th></th>\n",
              "      <th>trained_sentiment_confidence</th>\n",
              "      <th>sentence_embedding_labse</th>\n",
              "      <th>trained_sentiment</th>\n",
              "      <th>document</th>\n",
              "    </tr>\n",
              "  </thead>\n",
              "  <tbody>\n",
              "    <tr>\n",
              "      <th>0</th>\n",
              "      <td>0.999957</td>\n",
              "      <td>[-0.054146387, 0.041687965, -0.0033036305, -0....</td>\n",
              "      <td>negative</td>\n",
              "      <td>Phim đau điếng người xem</td>\n",
              "    </tr>\n",
              "  </tbody>\n",
              "</table>\n",
              "</div>"
            ],
            "text/plain": [
              "   trained_sentiment_confidence  ...                  document\n",
              "0                      0.999957  ...  Phim đau điếng người xem\n",
              "\n",
              "[1 rows x 4 columns]"
            ]
          },
          "metadata": {},
          "execution_count": 15
        }
      ]
    },
    {
      "cell_type": "code",
      "metadata": {
        "colab": {
          "base_uri": "https://localhost:8080/",
          "height": 80
        },
        "id": "M6giDPK-wm2G",
        "outputId": "102c15fb-5817-465e-f879-079c665491f2"
      },
      "source": [
        "\n",
        "# Vietnamese for : 'This was the best movie ever'\n",
        "fitted_pipe.predict('Đây là bộ phim hay nhất từ ​​trước đến nay')"
      ],
      "execution_count": null,
      "outputs": [
        {
          "output_type": "execute_result",
          "data": {
            "text/html": [
              "<div>\n",
              "<style scoped>\n",
              "    .dataframe tbody tr th:only-of-type {\n",
              "        vertical-align: middle;\n",
              "    }\n",
              "\n",
              "    .dataframe tbody tr th {\n",
              "        vertical-align: top;\n",
              "    }\n",
              "\n",
              "    .dataframe thead th {\n",
              "        text-align: right;\n",
              "    }\n",
              "</style>\n",
              "<table border=\"1\" class=\"dataframe\">\n",
              "  <thead>\n",
              "    <tr style=\"text-align: right;\">\n",
              "      <th></th>\n",
              "      <th>trained_sentiment_confidence</th>\n",
              "      <th>sentence_embedding_labse</th>\n",
              "      <th>trained_sentiment</th>\n",
              "      <th>document</th>\n",
              "    </tr>\n",
              "  </thead>\n",
              "  <tbody>\n",
              "    <tr>\n",
              "      <th>0</th>\n",
              "      <td>0.997093</td>\n",
              "      <td>[-0.03579585, -0.0058449004, -0.034250706, -0....</td>\n",
              "      <td>positive</td>\n",
              "      <td>Đây là bộ phim hay nhất từ ​​trước đến nay</td>\n",
              "    </tr>\n",
              "  </tbody>\n",
              "</table>\n",
              "</div>"
            ],
            "text/plain": [
              "   trained_sentiment_confidence  ...                                    document\n",
              "0                      0.997093  ...  Đây là bộ phim hay nhất từ ​​trước đến nay\n",
              "\n",
              "[1 rows x 4 columns]"
            ]
          },
          "metadata": {},
          "execution_count": 16
        }
      ]
    },
    {
      "cell_type": "markdown",
      "metadata": {
        "id": "IlkmAaMoxTuy"
      },
      "source": [
        "#### The model understands Japanese\n",
        "![ja](https://www.worldometers.info/img/flags/small/tn_ja-flag.gif)\n"
      ]
    },
    {
      "cell_type": "code",
      "metadata": {
        "colab": {
          "base_uri": "https://localhost:8080/",
          "height": 80
        },
        "id": "1IfJu3q8wwUt",
        "outputId": "6c0d57d0-adb8-41be-eeca-5bfc71d51cf8"
      },
      "source": [
        "\n",
        "# Japanese for : 'This is now my favorite movie!'\n",
        "fitted_pipe.predict('これが私のお気に入りの映画です！')"
      ],
      "execution_count": null,
      "outputs": [
        {
          "output_type": "execute_result",
          "data": {
            "text/html": [
              "<div>\n",
              "<style scoped>\n",
              "    .dataframe tbody tr th:only-of-type {\n",
              "        vertical-align: middle;\n",
              "    }\n",
              "\n",
              "    .dataframe tbody tr th {\n",
              "        vertical-align: top;\n",
              "    }\n",
              "\n",
              "    .dataframe thead th {\n",
              "        text-align: right;\n",
              "    }\n",
              "</style>\n",
              "<table border=\"1\" class=\"dataframe\">\n",
              "  <thead>\n",
              "    <tr style=\"text-align: right;\">\n",
              "      <th></th>\n",
              "      <th>trained_sentiment_confidence</th>\n",
              "      <th>sentence_embedding_labse</th>\n",
              "      <th>trained_sentiment</th>\n",
              "      <th>document</th>\n",
              "    </tr>\n",
              "  </thead>\n",
              "  <tbody>\n",
              "    <tr>\n",
              "      <th>0</th>\n",
              "      <td>0.999998</td>\n",
              "      <td>[-0.006344374, -0.031616833, -0.051480416, -0....</td>\n",
              "      <td>positive</td>\n",
              "      <td>これが私のお気に入りの映画です！</td>\n",
              "    </tr>\n",
              "  </tbody>\n",
              "</table>\n",
              "</div>"
            ],
            "text/plain": [
              "   trained_sentiment_confidence  ...          document\n",
              "0                      0.999998  ...  これが私のお気に入りの映画です！\n",
              "\n",
              "[1 rows x 4 columns]"
            ]
          },
          "metadata": {},
          "execution_count": 17
        }
      ]
    },
    {
      "cell_type": "code",
      "metadata": {
        "colab": {
          "base_uri": "https://localhost:8080/",
          "height": 80
        },
        "id": "h3k7_PFhxOve",
        "outputId": "97801a11-431d-4b94-a209-f26bac105870"
      },
      "source": [
        "\n",
        "# Japanese for : 'I would rather kill myself than watch that movie again'\n",
        "fitted_pipe.predict('その映画をもう一度見るよりも自殺したい')"
      ],
      "execution_count": null,
      "outputs": [
        {
          "output_type": "execute_result",
          "data": {
            "text/html": [
              "<div>\n",
              "<style scoped>\n",
              "    .dataframe tbody tr th:only-of-type {\n",
              "        vertical-align: middle;\n",
              "    }\n",
              "\n",
              "    .dataframe tbody tr th {\n",
              "        vertical-align: top;\n",
              "    }\n",
              "\n",
              "    .dataframe thead th {\n",
              "        text-align: right;\n",
              "    }\n",
              "</style>\n",
              "<table border=\"1\" class=\"dataframe\">\n",
              "  <thead>\n",
              "    <tr style=\"text-align: right;\">\n",
              "      <th></th>\n",
              "      <th>trained_sentiment_confidence</th>\n",
              "      <th>sentence_embedding_labse</th>\n",
              "      <th>trained_sentiment</th>\n",
              "      <th>document</th>\n",
              "    </tr>\n",
              "  </thead>\n",
              "  <tbody>\n",
              "    <tr>\n",
              "      <th>0</th>\n",
              "      <td>0.999957</td>\n",
              "      <td>[-0.04823154, -0.03692077, -0.049558055, -0.05...</td>\n",
              "      <td>negative</td>\n",
              "      <td>その映画をもう一度見るよりも自殺したい</td>\n",
              "    </tr>\n",
              "  </tbody>\n",
              "</table>\n",
              "</div>"
            ],
            "text/plain": [
              "   trained_sentiment_confidence  ...             document\n",
              "0                      0.999957  ...  その映画をもう一度見るよりも自殺したい\n",
              "\n",
              "[1 rows x 4 columns]"
            ]
          },
          "metadata": {},
          "execution_count": 18
        }
      ]
    },
    {
      "cell_type": "markdown",
      "metadata": {
        "id": "VXu21c0iQRSC"
      },
      "source": [
        "# There are many more models you can put to use in 1 line of code!\n",
        "## Checkout [the Modelshub](https://nlp.johnsnowlabs.com/models) and the [NLU Namespace](https://nlu.johnsnowlabs.com/docs/en/spellbook) for more models\n",
        "\n",
        "### NLU Webinars and Video Tutorials\n",
        "- [NLU & Streamlit Tutorial](https://vimeo.com/579508034#)\n",
        "- [Crash course of the 50 + Medical Domains and the 200+ Healtchare models in NLU](https://www.youtube.com/watch?v=gGDsZXt1SF8)\n",
        "- [Multi Lingual NLU Webinar - Tutorial on Chinese News dataset](https://www.youtube.com/watch?v=ftAOqJuxnV4)\n",
        "- [John Snow Labs NLU: Become a Data Science Superhero with One Line of Python code](https://events.johnsnowlabs.com/john-snow-labs-nlu-become-a-data-science-superhero-with-one-line-of-python-code?hsCtaTracking=c659363c-2188-4c86-945f-5cfb7b42fcfc%7C8b2b188b-92a3-48ba-ad7e-073b384425b0)\n",
        "- [Python Web Def Conf - Python's NLU library: 1,000+ Models, 200+ Languages, State of the Art Accuracy, 1 Line of Code](https://2021.pythonwebconf.com/presentations/john-snow-labs-nlu-the-simplicity-of-python-the-power-of-spark-nlp)\n",
        "- [NYC/DC NLP Meetup with NLU](https://youtu.be/hJR9m3NYnwk?t=2155)\n",
        "\n",
        "### More ressources \n",
        "- [Join our Slack](https://join.slack.com/t/spark-nlp/shared_invite/zt-lutct9gm-kuUazcyFKhuGY3_0AMkxqA)\n",
        "- [NLU Website](https://nlu.johnsnowlabs.com/)\n",
        "- [NLU Github](https://github.com/JohnSnowLabs/nlu)\n",
        "- [Many more NLU example tutorials](https://github.com/JohnSnowLabs/nlu/tree/master/examples)\n",
        "- [Overview of every powerful nlu 1-liner](https://nlu.johnsnowlabs.com/docs/en/examples)\n",
        "- [Checkout the Modelshub for an overview of all models](https://nlp.johnsnowlabs.com/models) \n",
        "- [Checkout the NLU Namespace where you can find every model as a tabel](https://nlu.johnsnowlabs.com/docs/en/spellbook)\n",
        "- [Intro to NLU article](https://medium.com/spark-nlp/1-line-of-code-350-nlp-models-with-john-snow-labs-nlu-in-python-2f1c55bba619)\n",
        "- [Indepth and easy Sentence Similarity Tutorial, with StackOverflow Questions using BERTology embeddings](https://medium.com/spark-nlp/easy-sentence-similarity-with-bert-sentence-embeddings-using-john-snow-labs-nlu-ea078deb6ebf)\n",
        "- [1 line of Python code for BERT, ALBERT, ELMO, ELECTRA, XLNET, GLOVE, Part of Speech with NLU and t-SNE](https://medium.com/spark-nlp/1-line-of-code-for-bert-albert-elmo-electra-xlnet-glove-part-of-speech-with-nlu-and-t-sne-9ebcd5379cd)"
      ]
    }
  ]
}
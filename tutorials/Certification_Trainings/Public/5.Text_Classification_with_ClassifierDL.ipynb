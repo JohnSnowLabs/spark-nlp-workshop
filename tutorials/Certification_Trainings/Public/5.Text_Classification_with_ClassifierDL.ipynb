{
  "nbformat": 4,
  "nbformat_minor": 0,
  "metadata": {
    "colab": {
      "name": " 5.Text_Classification_with_ClassifierDL.ipynb",
      "provenance": [],
      "collapsed_sections": [],
      "toc_visible": true
    },
    "kernelspec": {
      "display_name": "Python 3",
      "language": "python",
      "name": "python3"
    },
    "language_info": {
      "codemirror_mode": {
        "name": "ipython",
        "version": 3
      },
      "file_extension": ".py",
      "mimetype": "text/x-python",
      "name": "python",
      "nbconvert_exporter": "python",
      "pygments_lexer": "ipython3",
      "version": "3.7.4"
    },
    "accelerator": "GPU"
  },
  "cells": [
    {
      "cell_type": "markdown",
      "metadata": {
        "id": "sXatvRX899i0"
      },
      "source": [
        "![JohnSnowLabs](https://nlp.johnsnowlabs.com/assets/images/logo.png)"
      ]
    },
    {
      "cell_type": "markdown",
      "metadata": {
        "id": "44B_JtXmyOuF"
      },
      "source": [
        "\n",
        "\n",
        "[![Open In Colab](https://colab.research.google.com/assets/colab-badge.svg)](https://colab.research.google.com/github/JohnSnowLabs/spark-nlp-workshop/blob/master/tutorials/Certification_Trainings/Public/5.Text_Classification_with_ClassifierDL.ipynb)"
      ]
    },
    {
      "cell_type": "markdown",
      "metadata": {
        "id": "Kl6fW8Fkf3vN"
      },
      "source": [
        "# Text Classification with ClassifierDL"
      ]
    },
    {
      "cell_type": "markdown",
      "metadata": {
        "id": "RUAgkEOqOnJh"
      },
      "source": [
        "**Relevant blogpost:** https://towardsdatascience.com/text-classification-in-spark-nlp-with-bert-and-universal-sentence-encoders-e644d618ca32"
      ]
    },
    {
      "cell_type": "markdown",
      "metadata": {
        "id": "06DMedvcgjKa"
      },
      "source": [
        "## Colab Setup"
      ]
    },
    {
      "cell_type": "code",
      "metadata": {
        "id": "3Mc2rld9f7YW",
        "outputId": "694b1675-136f-44b9-85a4-dcb9878f8f5c",
        "colab": {
          "base_uri": "https://localhost:8080/",
          "height": 70
        }
      },
      "source": [
        "import os\n",
        "\n",
        "# Install java\n",
        "! apt-get update -qq\n",
        "! apt-get install -y openjdk-8-jdk-headless -qq > /dev/null\n",
        "\n",
        "os.environ[\"JAVA_HOME\"] = \"/usr/lib/jvm/java-8-openjdk-amd64\"\n",
        "os.environ[\"PATH\"] = os.environ[\"JAVA_HOME\"] + \"/bin:\" + os.environ[\"PATH\"]\n",
        "! java -version\n",
        "\n",
        "# Install pyspark\n",
        "! pip install --ignore-installed -q pyspark==2.4.4\n",
        "! pip install --ignore-installed -q spark-nlp==2.6.2"
      ],
      "execution_count": 1,
      "outputs": [
        {
          "output_type": "stream",
          "text": [
            "openjdk version \"1.8.0_265\"\n",
            "OpenJDK Runtime Environment (build 1.8.0_265-8u265-b01-0ubuntu2~18.04-b01)\n",
            "OpenJDK 64-Bit Server VM (build 25.265-b01, mixed mode)\n"
          ],
          "name": "stdout"
        }
      ]
    },
    {
      "cell_type": "markdown",
      "metadata": {
        "id": "U8eSmxo7PjMI"
      },
      "source": [
        "\n",
        "<b>  if you want to work with Spark 2.3 </b>\n",
        "```\n",
        "import os\n",
        "\n",
        "# Install java\n",
        "! apt-get update -qq\n",
        "! apt-get install -y openjdk-8-jdk-headless -qq > /dev/null\n",
        "\n",
        "!wget -q https://archive.apache.org/dist/spark/spark-2.3.0/spark-2.3.0-bin-hadoop2.7.tgz\n",
        "\n",
        "!tar xf spark-2.3.0-bin-hadoop2.7.tgz\n",
        "!pip install -q findspark\n",
        "\n",
        "os.environ[\"JAVA_HOME\"] = \"/usr/lib/jvm/java-8-openjdk-amd64\"\n",
        "os.environ[\"PATH\"] = os.environ[\"JAVA_HOME\"] + \"/bin:\" + os.environ[\"PATH\"]\n",
        "os.environ[\"SPARK_HOME\"] = \"/content/spark-2.3.0-bin-hadoop2.7\"\n",
        "! java -version\n",
        "\n",
        "import findspark\n",
        "findspark.init()\n",
        "from pyspark.sql import SparkSession\n",
        "\n",
        "! pip install --ignore-installed -q spark-nlp==2.5.5\n",
        "\n",
        "import sparknlp\n",
        "\n",
        "spark = sparknlp.start(spark23=True)\n",
        "```"
      ]
    },
    {
      "cell_type": "code",
      "metadata": {
        "id": "KjcBNzFVgoky",
        "outputId": "a59417c1-ab7a-460d-d77e-e6cd0e7d830a",
        "colab": {
          "base_uri": "https://localhost:8080/",
          "height": 252
        }
      },
      "source": [
        "import sparknlp\n",
        "\n",
        "spark = sparknlp.start(gpu=True) # for GPU training >> sparknlp.start(gpu = True) # for Spark 2.3 =>> sparknlp.start(spark23 = True)\n",
        "\n",
        "from sparknlp.base import *\n",
        "from sparknlp.annotator import *\n",
        "from pyspark.ml import Pipeline\n",
        "import pandas as pd\n",
        "\n",
        "print(\"Spark NLP version\", sparknlp.version())\n",
        "\n",
        "print(\"Apache Spark version:\", spark.version)\n",
        "\n",
        "spark"
      ],
      "execution_count": 2,
      "outputs": [
        {
          "output_type": "stream",
          "text": [
            "Spark NLP version 2.6.2\n",
            "Apache Spark version: 2.4.4\n"
          ],
          "name": "stdout"
        },
        {
          "output_type": "execute_result",
          "data": {
            "text/html": [
              "\n",
              "            <div>\n",
              "                <p><b>SparkSession - in-memory</b></p>\n",
              "                \n",
              "        <div>\n",
              "            <p><b>SparkContext</b></p>\n",
              "\n",
              "            <p><a href=\"http://3238f985e968:4040\">Spark UI</a></p>\n",
              "\n",
              "            <dl>\n",
              "              <dt>Version</dt>\n",
              "                <dd><code>v2.4.4</code></dd>\n",
              "              <dt>Master</dt>\n",
              "                <dd><code>local[*]</code></dd>\n",
              "              <dt>AppName</dt>\n",
              "                <dd><code>Spark NLP</code></dd>\n",
              "            </dl>\n",
              "        </div>\n",
              "        \n",
              "            </div>\n",
              "        "
            ],
            "text/plain": [
              "<pyspark.sql.session.SparkSession at 0x7f7787ab9ac8>"
            ]
          },
          "metadata": {
            "tags": []
          },
          "execution_count": 2
        }
      ]
    },
    {
      "cell_type": "markdown",
      "metadata": {
        "id": "vAh-7QD4Oyxr"
      },
      "source": [
        "## Using Pretrained ClassifierDL and SentimentDL models"
      ]
    },
    {
      "cell_type": "markdown",
      "metadata": {
        "id": "UsjakFRsPVcs"
      },
      "source": [
        "![image.png](data:image/png;base64,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)"
      ]
    },
    {
      "cell_type": "code",
      "metadata": {
        "id": "Bb7g6dJRQTlT",
        "outputId": "5fd27c29-773c-4db8-c57b-86ce29556493",
        "colab": {
          "base_uri": "https://localhost:8080/",
          "height": 70
        }
      },
      "source": [
        "fake_classifier = ClassifierDLModel.pretrained('classifierdl_use_fakenews', 'en') \\\n",
        "                .setInputCols([\"document\", \"sentence_embeddings\"]) \\\n",
        "                .setOutputCol(\"class\")"
      ],
      "execution_count": 17,
      "outputs": [
        {
          "output_type": "stream",
          "text": [
            "classifierdl_use_fakenews download started this may take some time.\n",
            "Approximate size to download 21.4 MB\n",
            "[OK!]\n"
          ],
          "name": "stdout"
        }
      ]
    },
    {
      "cell_type": "markdown",
      "metadata": {
        "id": "Tcj8Wv6znqAD"
      },
      "source": [
        "fake_news classifier is trained on `https://raw.githubusercontent.com/joolsa/fake_real_news_dataset/master/fake_or_real_news.csv.zip`"
      ]
    },
    {
      "cell_type": "code",
      "metadata": {
        "id": "04bJQFJ6irXH",
        "outputId": "a6d48b4a-7569-4d55-9c09-d7f799191b5b",
        "colab": {
          "base_uri": "https://localhost:8080/",
          "height": 34
        }
      },
      "source": [
        "fake_classifier.getClasses()"
      ],
      "execution_count": 42,
      "outputs": [
        {
          "output_type": "execute_result",
          "data": {
            "text/plain": [
              "['FAKE', 'REAL']"
            ]
          },
          "metadata": {
            "tags": []
          },
          "execution_count": 42
        }
      ]
    },
    {
      "cell_type": "code",
      "metadata": {
        "id": "8FXfR9nLQcfi",
        "outputId": "d0203263-30d5-42e5-fb80-91d348a92bab",
        "colab": {
          "base_uri": "https://localhost:8080/",
          "height": 70
        }
      },
      "source": [
        "documentAssembler = DocumentAssembler()\\\n",
        "      .setInputCol(\"text\")\\\n",
        "      .setOutputCol(\"document\")\n",
        "\n",
        "use = UniversalSentenceEncoder.pretrained(lang=\"en\") \\\n",
        "  .setInputCols([\"document\"])\\\n",
        "  .setOutputCol(\"sentence_embeddings\")\n",
        "\n",
        "nlpPipeline = Pipeline(stages=[\n",
        "  documentAssembler, \n",
        "  use,\n",
        "  fake_classifier\n",
        "  ])\n",
        "\n",
        "empty_data = spark.createDataFrame([[\"\"]]).toDF(\"text\")\n",
        "\n",
        "fake_clf_model = nlpPipeline.fit(empty_data)\n",
        "\n"
      ],
      "execution_count": 20,
      "outputs": [
        {
          "output_type": "stream",
          "text": [
            "tfhub_use download started this may take some time.\n",
            "Approximate size to download 923.7 MB\n",
            "[OK!]\n"
          ],
          "name": "stdout"
        }
      ]
    },
    {
      "cell_type": "code",
      "metadata": {
        "id": "LXiAzodLUoYS"
      },
      "source": [
        "!wget -q https://raw.githubusercontent.com/JohnSnowLabs/spark-nlp-workshop/master/tutorials/Certification_Trainings/Public/data/spam_ham_dataset.csv"
      ],
      "execution_count": 5,
      "outputs": []
    },
    {
      "cell_type": "code",
      "metadata": {
        "id": "hY2-F-l1YpUC",
        "outputId": "a871c699-f806-44b9-b9d0-41a4567269e4",
        "colab": {
          "base_uri": "https://localhost:8080/",
          "height": 70
        }
      },
      "source": [
        "fake_lp_pipeline = LightPipeline(fake_clf_model)\n",
        "\n",
        "text = 'BREAKING: Leaked Picture Of Obama Being Dragged Before A Judge In Handcuffs For Wiretapping Trump'\n",
        "\n",
        "fake_lp_pipeline.annotate(text)"
      ],
      "execution_count": 21,
      "outputs": [
        {
          "output_type": "execute_result",
          "data": {
            "text/plain": [
              "{'class': ['FAKE'],\n",
              " 'document': ['BREAKING: Leaked Picture Of Obama Being Dragged Before A Judge In Handcuffs For Wiretapping Trump'],\n",
              " 'sentence_embeddings': ['BREAKING: Leaked Picture Of Obama Being Dragged Before A Judge In Handcuffs For Wiretapping Trump']}"
            ]
          },
          "metadata": {
            "tags": []
          },
          "execution_count": 21
        }
      ]
    },
    {
      "cell_type": "code",
      "metadata": {
        "id": "xqCYjAdHeSAc",
        "outputId": "19763775-005e-4ca5-aa51-a59e2b4364be",
        "colab": {
          "base_uri": "https://localhost:8080/",
          "height": 123
        }
      },
      "source": [
        "sample_data = spark.createDataFrame([[text]]).toDF(\"text\")\n",
        "\n",
        "sample_data.show(truncate=False)"
      ],
      "execution_count": 23,
      "outputs": [
        {
          "output_type": "stream",
          "text": [
            "+-------------------------------------------------------------------------------------------------+\n",
            "|text                                                                                             |\n",
            "+-------------------------------------------------------------------------------------------------+\n",
            "|BREAKING: Leaked Picture Of Obama Being Dragged Before A Judge In Handcuffs For Wiretapping Trump|\n",
            "+-------------------------------------------------------------------------------------------------+\n",
            "\n"
          ],
          "name": "stdout"
        }
      ]
    },
    {
      "cell_type": "code",
      "metadata": {
        "id": "i9ytOcGxeZpo",
        "outputId": "548744c8-deaa-4498-a324-9151935769e8",
        "colab": {
          "base_uri": "https://localhost:8080/",
          "height": 123
        }
      },
      "source": [
        "pred = fake_clf_model.transform(sample_data)\n",
        "\n",
        "pred.show()"
      ],
      "execution_count": 25,
      "outputs": [
        {
          "output_type": "stream",
          "text": [
            "+--------------------+--------------------+--------------------+--------------------+\n",
            "|                text|            document| sentence_embeddings|               class|\n",
            "+--------------------+--------------------+--------------------+--------------------+\n",
            "|BREAKING: Leaked ...|[[document, 0, 96...|[[sentence_embedd...|[[category, 0, 96...|\n",
            "+--------------------+--------------------+--------------------+--------------------+\n",
            "\n"
          ],
          "name": "stdout"
        }
      ]
    },
    {
      "cell_type": "code",
      "metadata": {
        "id": "RgSEI8oOegD8",
        "outputId": "4c761010-57a5-403a-a152-ada76525f80b",
        "colab": {
          "base_uri": "https://localhost:8080/",
          "height": 123
        }
      },
      "source": [
        "pred.select('text','class.result').show(truncate=False)"
      ],
      "execution_count": 28,
      "outputs": [
        {
          "output_type": "stream",
          "text": [
            "+-------------------------------------------------------------------------------------------------+------+\n",
            "|text                                                                                             |result|\n",
            "+-------------------------------------------------------------------------------------------------+------+\n",
            "|BREAKING: Leaked Picture Of Obama Being Dragged Before A Judge In Handcuffs For Wiretapping Trump|[FAKE]|\n",
            "+-------------------------------------------------------------------------------------------------+------+\n",
            "\n"
          ],
          "name": "stdout"
        }
      ]
    },
    {
      "cell_type": "markdown",
      "metadata": {
        "id": "WZP0oQoihw6K"
      },
      "source": [
        "you can find more samples here >> `https://github.com/KaiDMML/FakeNewsNet/tree/master/dataset`\n"
      ]
    },
    {
      "cell_type": "markdown",
      "metadata": {
        "id": "Dd_Fcs-sfEE6"
      },
      "source": [
        "## Generic classifier function"
      ]
    },
    {
      "cell_type": "code",
      "metadata": {
        "id": "MsVcp0ZpO3uL"
      },
      "source": [
        "def get_clf_lp(model_name, sentiment_dl=False, pretrained=True):\n",
        "\n",
        "  documentAssembler = DocumentAssembler()\\\n",
        "      .setInputCol(\"text\")\\\n",
        "      .setOutputCol(\"document\")\n",
        "\n",
        "  use = UniversalSentenceEncoder.pretrained(lang=\"en\") \\\n",
        "  .setInputCols([\"document\"])\\\n",
        "  .setOutputCol(\"sentence_embeddings\")\n",
        "\n",
        "\n",
        "  if pretrained:\n",
        "\n",
        "    if sentiment_dl:\n",
        "\n",
        "      document_classifier = SentimentDLModel.pretrained(model_name, 'en') \\\n",
        "                .setInputCols([\"document\", \"sentence_embeddings\"]) \\\n",
        "                .setOutputCol(\"class\")\n",
        "    else:\n",
        "      document_classifier = ClassifierDLModel.pretrained(model_name, 'en') \\\n",
        "                .setInputCols([\"document\", \"sentence_embeddings\"]) \\\n",
        "                .setOutputCol(\"class\")\n",
        "\n",
        "  else:\n",
        "\n",
        "    if sentiment_dl:\n",
        "\n",
        "      document_classifier = SentimentDLModel.load(model_name) \\\n",
        "                .setInputCols([\"document\", \"sentence_embeddings\"]) \\\n",
        "                .setOutputCol(\"class\")\n",
        "    else:\n",
        "      document_classifier = ClassifierDLModel.load(model_name) \\\n",
        "                .setInputCols([\"document\", \"sentence_embeddings\"]) \\\n",
        "                .setOutputCol(\"class\")\n",
        "\n",
        "  print ('classes:',document_classifier.getClasses())\n",
        "\n",
        "  nlpPipeline = Pipeline(stages=[\n",
        "  documentAssembler, \n",
        "  use,\n",
        "  document_classifier\n",
        "  ])\n",
        "\n",
        "  empty_data = spark.createDataFrame([[\"\"]]).toDF(\"text\")\n",
        "\n",
        "  clf_pipelineFit = nlpPipeline.fit(empty_data)\n",
        "\n",
        "  clf_lp_pipeline = LightPipeline(clf_pipelineFit)\n",
        "\n",
        "  return clf_lp_pipeline\n"
      ],
      "execution_count": 43,
      "outputs": []
    },
    {
      "cell_type": "code",
      "metadata": {
        "id": "WTDCHaZAUDMP",
        "outputId": "7a9a0a50-2f77-445b-e834-f4395ace5978",
        "colab": {
          "base_uri": "https://localhost:8080/",
          "height": 161
        }
      },
      "source": [
        "clf_lp_pipeline = get_clf_lp('classifierdl_use_trec50')"
      ],
      "execution_count": 44,
      "outputs": [
        {
          "output_type": "stream",
          "text": [
            "tfhub_use download started this may take some time.\n",
            "Approximate size to download 923.7 MB\n",
            "[OK!]\n",
            "classifierdl_use_trec50 download started this may take some time.\n",
            "Approximate size to download 21.2 MB\n",
            "[OK!]\n",
            "classes: [' ENTY_color', ' ENTY_techmeth', ' DESC_manner', ' NUM_volsize', ' ENTY_letter', ' NUM_temp', ' ENTY_body', ' NUM_count', ' ENTY_instru', ' NUM_period', ' NUM_speed', ' DESC_reason', ' ENTY_symbol', ' ENTY_event', ' HUM_desc', ' NUM_perc', ' ENTY_dismed', ' NUM_ord', ' HUM_gr', ' LOC_mount', ' ABBR_abb', ' DESC_desc', ' NUM_dist', ' HUM_title', ' ENTY_lang', ' ENTY_sport', ' ENTY_plant', ' NUM_code', ' NUM_other', ' ENTY_word', ' ENTY_animal', ' ENTY_substance', ' ENTY_veh', ' ENTY_product', ' LOC_state', ' ENTY_religion', ' ENTY_currency', ' NUM_date', ' LOC_country', ' ENTY_cremat', ' NUM_money', ' LOC_other', ' DESC_def', ' LOC_city', ' HUM_ind', ' ENTY_other', ' ENTY_termeq', ' ENTY_food', ' ABBR_exp', ' NUM_weight']\n"
          ],
          "name": "stdout"
        }
      ]
    },
    {
      "cell_type": "markdown",
      "metadata": {
        "id": "0m99EbzXevb9"
      },
      "source": [
        "trained on the TREC datasets:\n",
        "\n",
        "Classify open-domain, fact-based questions into one of the following broad semantic categories: \n",
        "\n",
        "```Abbreviation, Description, Entities, Human Beings, Locations or Numeric Values.```"
      ]
    },
    {
      "cell_type": "code",
      "metadata": {
        "id": "YOyDxmeNR1B3",
        "outputId": "e4df10b7-774f-4065-8f20-9c7228dd0adb",
        "colab": {
          "base_uri": "https://localhost:8080/",
          "height": 34
        }
      },
      "source": [
        "text = 'What was the number of member nations of the U.N. in 2000?'\n",
        "\n",
        "clf_lp_pipeline.annotate(text)['class']"
      ],
      "execution_count": 31,
      "outputs": [
        {
          "output_type": "execute_result",
          "data": {
            "text/plain": [
              "[' NUM_count']"
            ]
          },
          "metadata": {
            "tags": []
          },
          "execution_count": 31
        }
      ]
    },
    {
      "cell_type": "code",
      "metadata": {
        "id": "WK1vT0duSRhp",
        "outputId": "f5282ec4-8e52-435e-9534-73936d98b868",
        "colab": {
          "base_uri": "https://localhost:8080/",
          "height": 35
        }
      },
      "source": [
        "clf_lp_pipeline.fullAnnotate(text)[0]['class'][0].result"
      ],
      "execution_count": 6,
      "outputs": [
        {
          "output_type": "execute_result",
          "data": {
            "application/vnd.google.colaboratory.intrinsic+json": {
              "type": "string"
            },
            "text/plain": [
              "' NUM_count'"
            ]
          },
          "metadata": {
            "tags": []
          },
          "execution_count": 6
        }
      ]
    },
    {
      "cell_type": "code",
      "metadata": {
        "id": "hc5bpcQ8SfQa",
        "outputId": "032fed32-410c-4ecb-d236-f955ba1912f8",
        "colab": {
          "base_uri": "https://localhost:8080/",
          "height": 54
        }
      },
      "source": [
        "clf_lp_pipeline.fullAnnotate(text)[0]['class'][0].metadata"
      ],
      "execution_count": 32,
      "outputs": [
        {
          "output_type": "execute_result",
          "data": {
            "text/plain": [
              "{' ENTY_dismed': '1.7313898E-26', ' ENTY_product': '3.63476E-27', ' ENTY_techmeth': '2.2640923E-26', ' NUM_speed': '1.3080189E-26', ' NUM_volsize': '6.7228085E-28', ' LOC_state': '6.3383686E-30', ' NUM_code': '1.3392521E-26', ' NUM_count': '0.99992645', ' ENTY_food': '3.1855655E-29', ' ENTY_animal': '3.249227E-28', ' NUM_period': '3.884492E-25', ' ENTY_religion': '1.2567391E-26', ' LOC_country': '7.536532E-24', ' LOC_mount': '5.677046E-28', ' ENTY_termeq': '6.9578083E-29', ' ENTY_color': '2.3618112E-27', ' ENTY_lang': '1.1541806E-28', ' ENTY_sport': '1.5911332E-29', ' DESC_def': '1.6701288E-29', ' HUM_gr': '7.091323E-24', ' ENTY_symbol': '3.147325E-28', ' ENTY_currency': '5.094744E-33', ' ENTY_veh': '2.9945387E-28', ' LOC_other': '6.047787E-16', ' ENTY_word': '1.3657634E-29', ' NUM_temp': '4.717617E-28', ' NUM_dist': '2.72894E-29', ' DESC_desc': '1.7242685E-14', ' DESC_manner': '5.3869763E-25', ' NUM_ord': '1.0586534E-31', ' NUM_other': '5.864289E-31', ' DESC_reason': '1.5721332E-15', ' NUM_weight': '7.6309955E-29', ' ENTY_instru': '1.0086017E-26', ' ENTY_letter': '4.5323733E-28', ' ENTY_event': '4.42258E-31', ' ENTY_substance': '4.5741765E-30', ' ABBR_exp': '2.3346595E-28', ' ENTY_body': '5.075318E-29', ' ENTY_other': '5.6281374E-7', ' NUM_money': '1.2319387E-25', ' LOC_city': '8.354679E-28', ' NUM_date': '7.292617E-5', ' NUM_perc': '1.925779E-28', ' ABBR_abb': '1.8912334E-29', ' ENTY_plant': '3.9484284E-28', ' HUM_title': '8.507565E-30', ' ENTY_cremat': '7.6887166E-26', ' HUM_ind': '8.659679E-10', ' HUM_desc': '1.4835355E-28', 'sentence': '0'}"
            ]
          },
          "metadata": {
            "tags": []
          },
          "execution_count": 32
        }
      ]
    },
    {
      "cell_type": "code",
      "metadata": {
        "id": "39JyuivlR8Gf",
        "outputId": "35871ae0-1f1b-4eee-aead-a5f40fa0e75a",
        "colab": {
          "base_uri": "https://localhost:8080/",
          "height": 34
        }
      },
      "source": [
        "text = 'What animal was the first mammal successfully cloned from adult cells?'\n",
        "\n",
        "clf_lp_pipeline.annotate(text)['class']"
      ],
      "execution_count": 33,
      "outputs": [
        {
          "output_type": "execute_result",
          "data": {
            "text/plain": [
              "[' HUM_ind']"
            ]
          },
          "metadata": {
            "tags": []
          },
          "execution_count": 33
        }
      ]
    },
    {
      "cell_type": "code",
      "metadata": {
        "id": "SnPgPJJ7TXQD",
        "outputId": "82da120c-620e-4208-db56-37a8138ff94a",
        "colab": {
          "base_uri": "https://localhost:8080/",
          "height": 141
        }
      },
      "source": [
        "clf_lp_pipeline = get_clf_lp('classifierdl_use_cyberbullying')\n"
      ],
      "execution_count": 45,
      "outputs": [
        {
          "output_type": "stream",
          "text": [
            "tfhub_use download started this may take some time.\n",
            "Approximate size to download 923.7 MB\n",
            "[OK!]\n",
            "classifierdl_use_cyberbullying download started this may take some time.\n",
            "Approximate size to download 21.4 MB\n",
            "[OK!]\n",
            "classes: ['sexism', 'neutral', 'racism']\n"
          ],
          "name": "stdout"
        }
      ]
    },
    {
      "cell_type": "code",
      "metadata": {
        "id": "O5xiLLT-TcMt",
        "outputId": "08f9cc20-2ed9-4a84-e230-d135da075c0f",
        "colab": {
          "base_uri": "https://localhost:8080/",
          "height": 34
        }
      },
      "source": [
        "text ='RT @EBeisner @ahall012 I agree with you!! I would rather brush my teeth with sandpaper then watch football with a girl!!'\n",
        "\n",
        "clf_lp_pipeline.annotate(text)['class']"
      ],
      "execution_count": 35,
      "outputs": [
        {
          "output_type": "execute_result",
          "data": {
            "text/plain": [
              "['sexism']"
            ]
          },
          "metadata": {
            "tags": []
          },
          "execution_count": 35
        }
      ]
    },
    {
      "cell_type": "code",
      "metadata": {
        "id": "1UbHt2jMUNKf",
        "outputId": "f985bc5a-a806-415a-da09-24f50ec82018",
        "colab": {
          "base_uri": "https://localhost:8080/",
          "height": 141
        }
      },
      "source": [
        "clf_lp_pipeline = get_clf_lp('classifierdl_use_fakenews')\n"
      ],
      "execution_count": 46,
      "outputs": [
        {
          "output_type": "stream",
          "text": [
            "tfhub_use download started this may take some time.\n",
            "Approximate size to download 923.7 MB\n",
            "[OK!]\n",
            "classifierdl_use_fakenews download started this may take some time.\n",
            "Approximate size to download 21.4 MB\n",
            "[OK!]\n",
            "classes: ['FAKE', 'REAL']\n"
          ],
          "name": "stdout"
        }
      ]
    },
    {
      "cell_type": "code",
      "metadata": {
        "id": "KZSVgi-6UcYA",
        "outputId": "f0995ae6-9565-4724-ccae-6ddac18dea29",
        "colab": {
          "base_uri": "https://localhost:8080/",
          "height": 34
        }
      },
      "source": [
        "text ='Donald Trump a KGB Spy? 11/02/2016 In today’s video, Christopher Greene of AMTV reports Hillary Clinton campaign accusation that Donald Trump is a KGB spy is about as weak and baseless a claim as a Salem witch hunt or McCarthy era trial. It’s only because Hillary Clinton is losing that she is lobbing conspiracy theory. Citizen Quasar The way I see it, one of two things will happen: 1. Trump will win by a landslide but the election will be stolen via electronic voting, just like I have been predicting for over a decade, and the American People will accept the skewed election results just like they accept the TSA into their crotches. 2. Somebody will bust a cap in Hillary’s @$$ killing her and the election will be postponed. Follow AMTV!'\n",
        "\n",
        "clf_lp_pipeline.annotate(text)['class']\n"
      ],
      "execution_count": 37,
      "outputs": [
        {
          "output_type": "execute_result",
          "data": {
            "text/plain": [
              "['FAKE']"
            ]
          },
          "metadata": {
            "tags": []
          },
          "execution_count": 37
        }
      ]
    },
    {
      "cell_type": "code",
      "metadata": {
        "id": "sap0-JopUpJa",
        "outputId": "16f6a812-b629-4487-9b5d-4152244aa8fb",
        "colab": {
          "base_uri": "https://localhost:8080/",
          "height": 34
        }
      },
      "source": [
        "text ='Sen. Marco Rubio (R-Fla.) is adding a veteran New Hampshire political operative to his team as he continues mulling a possible 2016 presidential bid, the latest sign that he is seriously preparing to launch a campaign later this year.Jim Merrill, who worked for former GOP presidential nominee Mitt Romney and ran his 2008 and 2012 New Hampshire primary campaigns, joined Rubio’s fledgling campaign on Monday, aides to the senator said.Merrill will be joining Rubio’s Reclaim America PAC to focus on Rubio’s New Hampshire and broader Northeast political operations.\"Marco has always been well received in New Hampshire, and should he run for president, he would be very competitive there,\" Terry Sullivan, who runs Reclaim America, said in a statement. \"Jim certainly knows how to win in New Hampshire and in the Northeast, and will be a great addition to our team at Reclaim America.”News of Merrill’s hire was first reported by The New York Times.'\n",
        "\n",
        "clf_lp_pipeline.annotate(text)['class']"
      ],
      "execution_count": 38,
      "outputs": [
        {
          "output_type": "execute_result",
          "data": {
            "text/plain": [
              "['REAL']"
            ]
          },
          "metadata": {
            "tags": []
          },
          "execution_count": 38
        }
      ]
    },
    {
      "cell_type": "code",
      "metadata": {
        "id": "m45xjV3CVGWT",
        "outputId": "72a44fbe-59ce-48eb-a2d0-cb8da9e0da1d",
        "colab": {
          "base_uri": "https://localhost:8080/",
          "height": 141
        }
      },
      "source": [
        "sentiment_lp_pipeline = get_clf_lp('sentimentdl_use_twitter', sentiment_dl=True)"
      ],
      "execution_count": 47,
      "outputs": [
        {
          "output_type": "stream",
          "text": [
            "tfhub_use download started this may take some time.\n",
            "Approximate size to download 923.7 MB\n",
            "[OK!]\n",
            "sentimentdl_use_twitter download started this may take some time.\n",
            "Approximate size to download 11.9 MB\n",
            "[OK!]\n",
            "classes: ['positive', 'negative']\n"
          ],
          "name": "stdout"
        }
      ]
    },
    {
      "cell_type": "code",
      "metadata": {
        "id": "j5L59HMYVbnb",
        "outputId": "00534994-360f-4636-ce56-36e59f8b5f27",
        "colab": {
          "base_uri": "https://localhost:8080/",
          "height": 34
        }
      },
      "source": [
        "text ='I am SO happy the news came out in time for my birthday this weekend! My inner 7-year-old cannot WAIT!'\n",
        "\n",
        "sentiment_lp_pipeline.annotate(text)['class']"
      ],
      "execution_count": 40,
      "outputs": [
        {
          "output_type": "execute_result",
          "data": {
            "text/plain": [
              "['positive']"
            ]
          },
          "metadata": {
            "tags": []
          },
          "execution_count": 40
        }
      ]
    },
    {
      "cell_type": "code",
      "metadata": {
        "id": "GD1dPLiXVm1i",
        "outputId": "b7f7a855-d55b-4994-e60c-a864aab6dfe3",
        "colab": {
          "base_uri": "https://localhost:8080/",
          "height": 141
        }
      },
      "source": [
        "sentiment_lp_pipeline = get_clf_lp('classifierdl_use_emotion', sentiment_dl=False)\n"
      ],
      "execution_count": 48,
      "outputs": [
        {
          "output_type": "stream",
          "text": [
            "tfhub_use download started this may take some time.\n",
            "Approximate size to download 923.7 MB\n",
            "[OK!]\n",
            "classifierdl_use_emotion download started this may take some time.\n",
            "Approximate size to download 20.7 MB\n",
            "[OK!]\n",
            "classes: ['joy', 'fear', 'surprise', 'sadness']\n"
          ],
          "name": "stdout"
        }
      ]
    },
    {
      "cell_type": "code",
      "metadata": {
        "id": "B3sf7eiqV1u9",
        "outputId": "3dd61957-1cc7-42b1-cba7-41802fe9123a",
        "colab": {
          "base_uri": "https://localhost:8080/",
          "height": 34
        }
      },
      "source": [
        "sentiment_lp_pipeline.annotate(text)['class']"
      ],
      "execution_count": 49,
      "outputs": [
        {
          "output_type": "execute_result",
          "data": {
            "text/plain": [
              "['surprise']"
            ]
          },
          "metadata": {
            "tags": []
          },
          "execution_count": 49
        }
      ]
    },
    {
      "cell_type": "markdown",
      "metadata": {
        "id": "o3qkiSEaWENr"
      },
      "source": [
        "## ClassiferDL with Word Embeddings and Text Preprocessing"
      ]
    },
    {
      "cell_type": "markdown",
      "metadata": {
        "id": "9VTK1AsahOpz"
      },
      "source": [
        "### Load Dataset"
      ]
    },
    {
      "cell_type": "code",
      "metadata": {
        "id": "fEYijaovgw3M"
      },
      "source": [
        "! wget -q https://raw.githubusercontent.com/JohnSnowLabs/spark-nlp-workshop/master/tutorials/Certification_Trainings/Public/data/news_category_train.csv\n",
        "! wget -q https://raw.githubusercontent.com/JohnSnowLabs/spark-nlp-workshop/master/tutorials/Certification_Trainings/Public/data/news_category_test.csv"
      ],
      "execution_count": 3,
      "outputs": []
    },
    {
      "cell_type": "code",
      "metadata": {
        "id": "K0u9cOqqhS4w",
        "outputId": "b52383e8-0448-4654-80c0-d643d52d10c1",
        "colab": {
          "base_uri": "https://localhost:8080/",
          "height": 85
        }
      },
      "source": [
        "!ls -lt"
      ],
      "execution_count": null,
      "outputs": [
        {
          "output_type": "stream",
          "text": [
            "total 24948\n",
            "-rw-r--r-- 1 root root  1504408 Jul 27 12:56 news_category_test.csv\n",
            "-rw-r--r-- 1 root root 24032125 Jul 27 12:56 news_category_train.csv\n",
            "drwxr-xr-x 1 root root     4096 Jul 10 16:29 sample_data\n"
          ],
          "name": "stdout"
        }
      ]
    },
    {
      "cell_type": "code",
      "metadata": {
        "id": "eoTE46WThUz2",
        "outputId": "e7da8baa-5bd5-46b3-fb2c-f846ed356589",
        "colab": {
          "base_uri": "https://localhost:8080/",
          "height": 478
        }
      },
      "source": [
        "trainDataset = spark.read \\\n",
        "      .option(\"header\", True) \\\n",
        "      .csv(\"news_category_train.csv\")\n",
        "\n",
        "trainDataset.show(truncate=50)"
      ],
      "execution_count": 4,
      "outputs": [
        {
          "output_type": "stream",
          "text": [
            "+--------+--------------------------------------------------+\n",
            "|category|                                       description|\n",
            "+--------+--------------------------------------------------+\n",
            "|Business| Short sellers, Wall Street's dwindling band of...|\n",
            "|Business| Private investment firm Carlyle Group, which h...|\n",
            "|Business| Soaring crude prices plus worries about the ec...|\n",
            "|Business| Authorities have halted oil export flows from ...|\n",
            "|Business| Tearaway world oil prices, toppling records an...|\n",
            "|Business| Stocks ended slightly higher on Friday but sta...|\n",
            "|Business| Assets of the nation's retail money market mut...|\n",
            "|Business| Retail sales bounced back a bit in July, and n...|\n",
            "|Business|\" After earning a PH.D. in Sociology, Danny Baz...|\n",
            "|Business| Short sellers, Wall Street's dwindling  band o...|\n",
            "|Business| Soaring crude prices plus worries  about the e...|\n",
            "|Business| OPEC can do nothing to douse scorching  oil pr...|\n",
            "|Business| Non OPEC oil exporters should consider  increa...|\n",
            "|Business| WASHINGTON/NEW YORK (Reuters) - The auction fo...|\n",
            "|Business| The dollar tumbled broadly on Friday  after da...|\n",
            "|Business|If you think you may need to help your elderly ...|\n",
            "|Business|The purchasing power of kids is a big part of w...|\n",
            "|Business|There is little cause for celebration in the st...|\n",
            "|Business|The US trade deficit has exploded 19 to a recor...|\n",
            "|Business|Oil giant Shell could be bracing itself for a t...|\n",
            "+--------+--------------------------------------------------+\n",
            "only showing top 20 rows\n",
            "\n"
          ],
          "name": "stdout"
        }
      ]
    },
    {
      "cell_type": "code",
      "metadata": {
        "id": "P3iINSk1hc2E",
        "outputId": "7d5a3ad1-def6-4196-8a3c-c05d9ecdff2c",
        "colab": {
          "base_uri": "https://localhost:8080/",
          "height": 34
        }
      },
      "source": [
        "trainDataset.count()\n"
      ],
      "execution_count": 52,
      "outputs": [
        {
          "output_type": "execute_result",
          "data": {
            "text/plain": [
              "120000"
            ]
          },
          "metadata": {
            "tags": []
          },
          "execution_count": 52
        }
      ]
    },
    {
      "cell_type": "code",
      "metadata": {
        "id": "SEaUJ3xzhgLf",
        "outputId": "e4aa6b93-0099-4a79-8915-8d706eb00be4",
        "colab": {
          "base_uri": "https://localhost:8080/",
          "height": 176
        }
      },
      "source": [
        "from pyspark.sql.functions import col\n",
        "\n",
        "trainDataset.groupBy(\"category\") \\\n",
        "    .count() \\\n",
        "    .orderBy(col(\"count\").desc()) \\\n",
        "    .show()"
      ],
      "execution_count": 5,
      "outputs": [
        {
          "output_type": "stream",
          "text": [
            "+--------+-----+\n",
            "|category|count|\n",
            "+--------+-----+\n",
            "|   World|30000|\n",
            "|Sci/Tech|30000|\n",
            "|  Sports|30000|\n",
            "|Business|30000|\n",
            "+--------+-----+\n",
            "\n"
          ],
          "name": "stdout"
        }
      ]
    },
    {
      "cell_type": "code",
      "metadata": {
        "id": "1Mk82Fnkhj4N",
        "outputId": "4557a3e0-fdcb-4dc5-eb9d-9ea22c08bdcc",
        "colab": {
          "base_uri": "https://localhost:8080/",
          "height": 176
        }
      },
      "source": [
        "testDataset = spark.read \\\n",
        "      .option(\"header\", True) \\\n",
        "      .csv(\"news_category_test.csv\")\n",
        "\n",
        "\n",
        "testDataset.groupBy(\"category\") \\\n",
        "    .count() \\\n",
        "    .orderBy(col(\"count\").desc()) \\\n",
        "    .show()"
      ],
      "execution_count": 6,
      "outputs": [
        {
          "output_type": "stream",
          "text": [
            "+--------+-----+\n",
            "|category|count|\n",
            "+--------+-----+\n",
            "|Sci/Tech| 1900|\n",
            "|   World| 1900|\n",
            "|  Sports| 1900|\n",
            "|Business| 1900|\n",
            "+--------+-----+\n",
            "\n"
          ],
          "name": "stdout"
        }
      ]
    },
    {
      "cell_type": "code",
      "metadata": {
        "id": "0nHTo9Fxjjwq"
      },
      "source": [
        "# if we want to split the dataset\n",
        "'''\n",
        "(trainingData, testData) = trainDataset.randomSplit([0.7, 0.3], seed = 100)\n",
        "print(\"Training Dataset Count: \" + str(trainingData.count()))\n",
        "print(\"Test Dataset Count: \" + str(testData.count()))\n",
        "'''"
      ],
      "execution_count": null,
      "outputs": []
    },
    {
      "cell_type": "code",
      "metadata": {
        "id": "2AkxJDshietW",
        "outputId": "af3f03b9-b1ef-4c51-a92d-1ef6066c5404",
        "colab": {
          "base_uri": "https://localhost:8080/",
          "height": 70
        }
      },
      "source": [
        "document_assembler = DocumentAssembler() \\\n",
        "    .setInputCol(\"description\") \\\n",
        "    .setOutputCol(\"document\")\n",
        "    \n",
        "tokenizer = Tokenizer() \\\n",
        "  .setInputCols([\"document\"]) \\\n",
        "  .setOutputCol(\"token\")\n",
        "    \n",
        "normalizer = Normalizer() \\\n",
        "    .setInputCols([\"token\"]) \\\n",
        "    .setOutputCol(\"normalized\")\n",
        "\n",
        "stopwords_cleaner = StopWordsCleaner()\\\n",
        "      .setInputCols(\"normalized\")\\\n",
        "      .setOutputCol(\"cleanTokens\")\\\n",
        "      .setCaseSensitive(False)\n",
        "\n",
        "lemma = LemmatizerModel.pretrained('lemma_antbnc') \\\n",
        "    .setInputCols([\"cleanTokens\"]) \\\n",
        "    .setOutputCol(\"lemma\")\n"
      ],
      "execution_count": 7,
      "outputs": [
        {
          "output_type": "stream",
          "text": [
            "lemma_antbnc download started this may take some time.\n",
            "Approximate size to download 907.6 KB\n",
            "[OK!]\n"
          ],
          "name": "stdout"
        }
      ]
    },
    {
      "cell_type": "markdown",
      "metadata": {
        "id": "QX-LjXhvY2EV"
      },
      "source": [
        "### with Glove 100d embeddings"
      ]
    },
    {
      "cell_type": "code",
      "metadata": {
        "id": "Z6PJxX4JY1S-",
        "outputId": "7d2f2932-075d-479b-ae2a-3bbe6d5be63b",
        "colab": {
          "base_uri": "https://localhost:8080/",
          "height": 70
        }
      },
      "source": [
        "\n",
        "glove_embeddings = WordEmbeddingsModel().pretrained() \\\n",
        " .setInputCols([\"document\",'lemma'])\\\n",
        " .setOutputCol(\"embeddings\")\\\n",
        " .setCaseSensitive(False)\n",
        "\n",
        "embeddingsSentence = SentenceEmbeddings() \\\n",
        "      .setInputCols([\"document\", \"embeddings\"]) \\\n",
        "      .setOutputCol(\"sentence_embeddings\") \\\n",
        "      .setPoolingStrategy(\"AVERAGE\")\n",
        "\n",
        "classsifierdl = ClassifierDLApproach()\\\n",
        "  .setInputCols([\"sentence_embeddings\"])\\\n",
        "  .setOutputCol(\"class\")\\\n",
        "  .setLabelColumn(\"category\")\\\n",
        "  .setMaxEpochs(3)\\\n",
        "  .setEnableOutputLogs(True)\n",
        "  #.setOutputLogsPath('logs')\n",
        "\n",
        "clf_pipeline = Pipeline(\n",
        "    stages=[document_assembler, \n",
        "            tokenizer,\n",
        "            normalizer,\n",
        "            stopwords_cleaner, \n",
        "            lemma, \n",
        "            glove_embeddings,\n",
        "            embeddingsSentence,\n",
        "            classsifierdl])"
      ],
      "execution_count": 8,
      "outputs": [
        {
          "output_type": "stream",
          "text": [
            "glove_100d download started this may take some time.\n",
            "Approximate size to download 145.3 MB\n",
            "[OK!]\n"
          ],
          "name": "stdout"
        }
      ]
    },
    {
      "cell_type": "code",
      "metadata": {
        "id": "L0lwLD_hZkrI"
      },
      "source": [
        "'''\n",
        "default classifierDL params:\n",
        "\n",
        "maxEpochs -> 10,\n",
        "lr -> 5e-3f,\n",
        "dropout -> 0.5f,\n",
        "batchSize -> 64,\n",
        "enableOutputLogs -> false,\n",
        "verbose -> Verbose.Silent.id,\n",
        "validationSplit -> 0.0f,\n",
        "outputLogsPath -> \"\"\n",
        "'''"
      ],
      "execution_count": null,
      "outputs": []
    },
    {
      "cell_type": "code",
      "metadata": {
        "id": "7QKnwlFNi2A6",
        "outputId": "46737b68-2f18-4f19-ce1d-1c7b8e1af87a",
        "colab": {
          "base_uri": "https://localhost:8080/",
          "height": 52
        }
      },
      "source": [
        "# Train (8 min for 10 epochs)\n",
        "%%time\n",
        "\n",
        "clf_pipelineModel = clf_pipeline.fit(trainDataset)"
      ],
      "execution_count": 9,
      "outputs": [
        {
          "output_type": "stream",
          "text": [
            "CPU times: user 101 ms, sys: 17.6 ms, total: 119 ms\n",
            "Wall time: 3min 13s\n"
          ],
          "name": "stdout"
        }
      ]
    },
    {
      "cell_type": "code",
      "metadata": {
        "id": "NBx00pdPlOyA",
        "outputId": "3a9cda35-fb1c-44a9-8e23-8f7ae712a4a0",
        "colab": {
          "base_uri": "https://localhost:8080/",
          "height": 52
        }
      },
      "source": [
        "!cd ~/annotator_logs && ls -l\n"
      ],
      "execution_count": null,
      "outputs": [
        {
          "output_type": "stream",
          "text": [
            "total 4\n",
            "-rw-r--r-- 1 root root 976 Apr  7 16:59 ClassifierDLApproach_f222663dfb2c.log\n"
          ],
          "name": "stdout"
        }
      ]
    },
    {
      "cell_type": "code",
      "metadata": {
        "id": "ZSkFAvL8lRok",
        "outputId": "6588b5f6-cf22-49ee-8288-90120c36c09b",
        "colab": {
          "base_uri": "https://localhost:8080/",
          "height": 232
        }
      },
      "source": [
        "!cat ~/annotator_logs/ClassifierDLApproach_f222663dfb2c.log\n"
      ],
      "execution_count": null,
      "outputs": [
        {
          "output_type": "stream",
          "text": [
            "Training started - total epochs: 10 - learning rate: 0.005 - batch size: 64 - training examples: 120000\n",
            "Epoch 0/10 - 35.42044908%.2fs - loss: 1637.3722 - accuracy: 0.8689917 - batches: 1875\n",
            "Epoch 1/10 - 36.031757286%.2fs - loss: 1609.2766 - accuracy: 0.88155836 - batches: 1875\n",
            "Epoch 2/10 - 34.908468392%.2fs - loss: 1603.4879 - accuracy: 0.886125 - batches: 1875\n",
            "Epoch 3/10 - 34.849212057%.2fs - loss: 1596.2185 - accuracy: 0.889725 - batches: 1875\n",
            "Epoch 4/10 - 34.979911249%.2fs - loss: 1592.2081 - accuracy: 0.89270836 - batches: 1875\n",
            "Epoch 5/10 - 35.059568873%.2fs - loss: 1588.2047 - accuracy: 0.89515835 - batches: 1875\n",
            "Epoch 6/10 - 34.855471653%.2fs - loss: 1583.6277 - accuracy: 0.8974583 - batches: 1875\n",
            "Epoch 7/10 - 34.498874087%.2fs - loss: 1579.1383 - accuracy: 0.89934164 - batches: 1875\n",
            "Epoch 8/10 - 35.507189799%.2fs - loss: 1575.4302 - accuracy: 0.90068334 - batches: 1875\n",
            "Epoch 9/10 - 34.665519006%.2fs - loss: 1572.7279 - accuracy: 0.9023167 - batches: 1875\n"
          ],
          "name": "stdout"
        }
      ]
    },
    {
      "cell_type": "code",
      "metadata": {
        "id": "GvJDn6C6j8BK"
      },
      "source": [
        "# get the predictions on test Set\n",
        "\n",
        "preds = clf_pipelineModel.transform(testDataset)\n"
      ],
      "execution_count": 12,
      "outputs": []
    },
    {
      "cell_type": "code",
      "metadata": {
        "id": "5XdH8Z3ljYpx",
        "outputId": "ab70f3a6-95ed-4b7e-80ec-5d3dfe98e784",
        "colab": {
          "base_uri": "https://localhost:8080/",
          "height": 301
        }
      },
      "source": [
        "preds.select('category','description',\"class.result\").show(10, truncate=80)\n"
      ],
      "execution_count": 13,
      "outputs": [
        {
          "output_type": "stream",
          "text": [
            "+--------+--------------------------------------------------------------------------------+----------+\n",
            "|category|                                                                     description|    result|\n",
            "+--------+--------------------------------------------------------------------------------+----------+\n",
            "|Business|Unions representing workers at Turner   Newall say they are 'disappointed' af...|[Business]|\n",
            "|Sci/Tech| TORONTO, Canada    A second team of rocketeers competing for the  #36;10 mil...|[Sci/Tech]|\n",
            "|Sci/Tech| A company founded by a chemistry researcher at the University of Louisville ...|[Sci/Tech]|\n",
            "|Sci/Tech| It's barely dawn when Mike Fitzpatrick starts his shift with a blur of color...|[Sci/Tech]|\n",
            "|Sci/Tech| Southern California's smog fighting agency went after emissions of the bovin...|[Sci/Tech]|\n",
            "|Sci/Tech|\"The British Department for Education and Skills (DfES) recently launched a \"...|[Sci/Tech]|\n",
            "|Sci/Tech|\"confessed author of the Netsky and Sasser viruses, is responsible for 70 per...|[Sci/Tech]|\n",
            "|Sci/Tech|\\\\FOAF/LOAF  and bloom filters have a lot of interesting properties for socia...|[Sci/Tech]|\n",
            "|Sci/Tech|\"Wiltshire Police warns about \"\"phishing\"\" after its fraud squad chief was ta...|[Sci/Tech]|\n",
            "|Sci/Tech|In its first two years, the UK's dedicated card fraud unit, has recovered 36,...|[Sci/Tech]|\n",
            "+--------+--------------------------------------------------------------------------------+----------+\n",
            "only showing top 10 rows\n",
            "\n"
          ],
          "name": "stdout"
        }
      ]
    },
    {
      "cell_type": "code",
      "metadata": {
        "id": "AZh8gMZEk0Dy"
      },
      "source": [
        "preds_df = preds.select('category','description',\"class.result\").toPandas()\n",
        "\n",
        "# The result is an array since in Spark NLP you can have multiple sentences.\n",
        "# Let's explode the array and get the item(s) inside of result column out\n",
        "preds_df['result'] = preds_df['result'].apply(lambda x : x[0])\n"
      ],
      "execution_count": null,
      "outputs": []
    },
    {
      "cell_type": "code",
      "metadata": {
        "id": "3VqF8O6ilB__",
        "outputId": "9d015ca9-4580-45fa-aac6-ef6286f3bea9",
        "colab": {
          "base_uri": "https://localhost:8080/",
          "height": 212
        }
      },
      "source": [
        "# We are going to use sklearn to evalute the results on test dataset\n",
        "from sklearn.metrics import classification_report\n",
        "\n",
        "print (classification_report(preds_df['result'], preds_df['category']))\n"
      ],
      "execution_count": null,
      "outputs": [
        {
          "output_type": "stream",
          "text": [
            "              precision    recall  f1-score   support\n",
            "\n",
            "    Business       0.84      0.84      0.84      1908\n",
            "    Sci/Tech       0.86      0.86      0.86      1914\n",
            "      Sports       0.97      0.95      0.96      1938\n",
            "       World       0.88      0.91      0.89      1840\n",
            "\n",
            "    accuracy                           0.89      7600\n",
            "   macro avg       0.89      0.89      0.89      7600\n",
            "weighted avg       0.89      0.89      0.89      7600\n",
            "\n"
          ],
          "name": "stdout"
        }
      ]
    },
    {
      "cell_type": "markdown",
      "metadata": {
        "id": "raXrZ8sVY_gW"
      },
      "source": [
        "### with Bert Embeddings"
      ]
    },
    {
      "cell_type": "markdown",
      "metadata": {
        "id": "VTylzrwL8nBi"
      },
      "source": [
        "![image.png](data:image/png;base64,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)"
      ]
    },
    {
      "cell_type": "code",
      "metadata": {
        "id": "Yz1SOsOZ8aK0",
        "outputId": "7649d28b-93b7-44b6-eed5-fd2e053b3147",
        "colab": {
          "base_uri": "https://localhost:8080/",
          "height": 70
        }
      },
      "source": [
        "document_assembler = DocumentAssembler() \\\n",
        "    .setInputCol(\"description\") \\\n",
        "    .setOutputCol(\"document\")\n",
        "    \n",
        "tokenizer = Tokenizer() \\\n",
        "  .setInputCols([\"document\"]) \\\n",
        "  .setOutputCol(\"token\")\n",
        "    \n",
        "normalizer = Normalizer() \\\n",
        "    .setInputCols([\"token\"]) \\\n",
        "    .setOutputCol(\"normalized\")\n",
        "\n",
        "stopwords_cleaner = StopWordsCleaner()\\\n",
        "      .setInputCols(\"normalized\")\\\n",
        "      .setOutputCol(\"cleanTokens\")\\\n",
        "      .setCaseSensitive(False)\n",
        "\n",
        "lemma = LemmatizerModel.pretrained('lemma_antbnc') \\\n",
        "    .setInputCols([\"cleanTokens\"]) \\\n",
        "    .setOutputCol(\"lemma\")\n",
        "    "
      ],
      "execution_count": 14,
      "outputs": [
        {
          "output_type": "stream",
          "text": [
            "lemma_antbnc download started this may take some time.\n",
            "Approximate size to download 907.6 KB\n",
            "[OK!]\n"
          ],
          "name": "stdout"
        }
      ]
    },
    {
      "cell_type": "code",
      "metadata": {
        "id": "QHMHKkekYqTB",
        "outputId": "00d85e62-9fae-46b6-cc84-96029d965d2a",
        "colab": {
          "base_uri": "https://localhost:8080/",
          "height": 70
        }
      },
      "source": [
        "document_assembler = DocumentAssembler() \\\n",
        "    .setInputCol(\"description\") \\\n",
        "    .setOutputCol(\"document\")\n",
        "    \n",
        "tokenizer = Tokenizer() \\\n",
        "  .setInputCols([\"document\"]) \\\n",
        "  .setOutputCol(\"token\")\n",
        "    \n",
        "bert_embeddings = BertEmbeddings().pretrained(name='small_bert_L4_256', lang='en') \\\n",
        " .setInputCols([\"document\",'token'])\\\n",
        " .setOutputCol(\"embeddings\")\n",
        "\n",
        "embeddingsSentence = SentenceEmbeddings() \\\n",
        "      .setInputCols([\"document\", \"embeddings\"]) \\\n",
        "      .setOutputCol(\"sentence_embeddings\") \\\n",
        "      .setPoolingStrategy(\"AVERAGE\")\n",
        "\n",
        "classsifierdl = ClassifierDLApproach()\\\n",
        "  .setInputCols([\"sentence_embeddings\"])\\\n",
        "  .setOutputCol(\"class\")\\\n",
        "  .setLabelColumn(\"category\")\\\n",
        "  .setMaxEpochs(10)\\\n",
        "  .setLr(0.001)\\\n",
        "  .setBatchSize(8)\\\n",
        "  .setEnableOutputLogs(True)\n",
        "  #.setOutputLogsPath('logs')\n",
        "\n",
        "bert_clf_pipeline = Pipeline(\n",
        "    stages=[document_assembler, \n",
        "            tokenizer,\n",
        "            bert_embeddings,\n",
        "            embeddingsSentence,\n",
        "            classsifierdl])"
      ],
      "execution_count": 15,
      "outputs": [
        {
          "output_type": "stream",
          "text": [
            "small_bert_L4_256 download started this may take some time.\n",
            "Approximate size to download 40.5 MB\n",
            "[OK!]\n"
          ],
          "name": "stdout"
        }
      ]
    },
    {
      "cell_type": "code",
      "metadata": {
        "id": "g-GPnpKLZlsd"
      },
      "source": [
        "# training will take some time due to Bert (use GPU runtime when possible)\n",
        "\n",
        "bert_clf_pipelineModel = bert_clf_pipeline.fit(trainDataset)"
      ],
      "execution_count": null,
      "outputs": []
    },
    {
      "cell_type": "code",
      "metadata": {
        "id": "-8GzfxBalB4P",
        "outputId": "09d49972-1b3c-4ce0-8573-e03105e3eab7",
        "colab": {
          "base_uri": "https://localhost:8080/",
          "height": 52
        }
      },
      "source": [
        "!cd /root/annotator_logs && ls -lt "
      ],
      "execution_count": null,
      "outputs": [
        {
          "output_type": "stream",
          "text": [
            "total 4\n",
            "-rw-r--r-- 1 root root 839 Oct  8 14:10 ClassifierDLApproach_98046f895f88.log\n"
          ],
          "name": "stdout"
        }
      ]
    },
    {
      "cell_type": "code",
      "metadata": {
        "id": "R_B2fkIKlHz8",
        "outputId": "35591a2f-029f-43bb-d483-ae70052f963d",
        "colab": {
          "base_uri": "https://localhost:8080/",
          "height": 212
        }
      },
      "source": [
        "!cat /root/annotator_logs/ClassifierDLApproach_98046f895f88.log"
      ],
      "execution_count": null,
      "outputs": [
        {
          "output_type": "stream",
          "text": [
            "Training started - epochs: 10 - learning_rate: 0.001 - batch_size: 8 - training_examples: 120000 - classes: 4\n",
            "Epoch 0/10 - 118.77s - loss: 13319.663 - acc: 0.85449165 - batches: 15000\n",
            "Epoch 1/10 - 119.66s - loss: 13078.354 - acc: 0.8694417 - batches: 15000\n",
            "Epoch 2/10 - 118.86s - loss: 12974.273 - acc: 0.87655 - batches: 15000\n",
            "Epoch 3/10 - 119.13s - loss: 12904.726 - acc: 0.881825 - batches: 15000\n",
            "Epoch 4/10 - 119.71s - loss: 12857.29 - acc: 0.88579166 - batches: 15000\n",
            "Epoch 5/10 - 118.96s - loss: 12811.274 - acc: 0.889175 - batches: 15000\n",
            "Epoch 6/10 - 119.61s - loss: 12773.1455 - acc: 0.89219165 - batches: 15000\n",
            "Epoch 7/10 - 118.52s - loss: 12742.098 - acc: 0.8946667 - batches: 15000\n",
            "Epoch 8/10 - 120.82s - loss: 12716.368 - acc: 0.8968667 - batches: 15000\n",
            "Epoch 9/10 - 118.80s - loss: 12694.053 - acc: 0.8987833 - batches: 15000\n"
          ],
          "name": "stdout"
        }
      ]
    },
    {
      "cell_type": "code",
      "metadata": {
        "id": "AcQ9OmdKlWAy",
        "outputId": "be7e14db-19c9-4d36-ee33-44ad75ad2dca",
        "colab": {
          "base_uri": "https://localhost:8080/",
          "height": 212
        }
      },
      "source": [
        "# We are going to use sklearn to evalute the results on test dataset\n",
        "from sklearn.metrics import classification_report\n",
        "\n",
        "preds = bert_clf_pipelineModel.transform(testDataset)\n",
        "\n",
        "preds_df = preds.select('category','description',\"class.result\").toPandas()\n",
        "\n",
        "preds_df['result'] = preds_df['result'].apply(lambda x : x[0])\n",
        "\n",
        "print (classification_report(preds_df['result'], preds_df['category']))\n"
      ],
      "execution_count": null,
      "outputs": [
        {
          "output_type": "stream",
          "text": [
            "              precision    recall  f1-score   support\n",
            "\n",
            "    Business       0.81      0.85      0.83      1809\n",
            "    Sci/Tech       0.87      0.84      0.85      1955\n",
            "      Sports       0.97      0.92      0.94      2011\n",
            "       World       0.86      0.90      0.88      1825\n",
            "\n",
            "    accuracy                           0.88      7600\n",
            "   macro avg       0.88      0.88      0.88      7600\n",
            "weighted avg       0.88      0.88      0.88      7600\n",
            "\n"
          ],
          "name": "stdout"
        }
      ]
    },
    {
      "cell_type": "markdown",
      "metadata": {
        "id": "YbZsPrgyl8HC"
      },
      "source": [
        "## ClassifierDL with Universal Sentence Embeddings"
      ]
    },
    {
      "cell_type": "code",
      "metadata": {
        "id": "Ek2RfNmsl_q7",
        "outputId": "f6297571-04a6-473d-9c32-cec79670164d",
        "colab": {
          "base_uri": "https://localhost:8080/",
          "height": 66
        }
      },
      "source": [
        "# actual content is inside description column\n",
        "document = DocumentAssembler()\\\n",
        "    .setInputCol(\"description\")\\\n",
        "    .setOutputCol(\"document\")\n",
        "    \n",
        "# we can also use sentece detector here if we want to train on and get predictions for each sentence\n",
        "\n",
        "use = UniversalSentenceEncoder.pretrained()\\\n",
        " .setInputCols([\"document\"])\\\n",
        " .setOutputCol(\"sentence_embeddings\")\n",
        "\n",
        "# the classes/labels/categories are in category column\n",
        "classsifierdl = ClassifierDLApproach()\\\n",
        "  .setInputCols([\"sentence_embeddings\"])\\\n",
        "  .setOutputCol(\"class\")\\\n",
        "  .setLabelColumn(\"category\")\\\n",
        "  .setMaxEpochs(5)\\\n",
        "  .setLr(0.001)\\\n",
        "  .setBatchSize(8)\\\n",
        "  .setEnableOutputLogs(True)\n",
        "\n",
        "use_clf_pipeline = Pipeline(\n",
        "    stages = [\n",
        "        document,\n",
        "        use,\n",
        "        classsifierdl\n",
        "    ])"
      ],
      "execution_count": null,
      "outputs": [
        {
          "output_type": "stream",
          "text": [
            "tfhub_use download started this may take some time.\n",
            "Approximate size to download 923.7 MB\n",
            "[OK!]\n"
          ],
          "name": "stdout"
        }
      ]
    },
    {
      "cell_type": "code",
      "metadata": {
        "id": "UN_5T8wdmeDO"
      },
      "source": [
        "use_pipelineModel = use_clf_pipeline.fit(trainDataset)\n",
        "# 5 epochs takes around 10 min"
      ],
      "execution_count": null,
      "outputs": []
    },
    {
      "cell_type": "code",
      "metadata": {
        "id": "rQakKOqTpmJt",
        "outputId": "6163a064-9589-45d8-872e-e1dfe9d41bc3",
        "colab": {
          "base_uri": "https://localhost:8080/",
          "height": 51
        }
      },
      "source": [
        "!cd ~/annotator_logs && ls -l\n"
      ],
      "execution_count": null,
      "outputs": [
        {
          "output_type": "stream",
          "text": [
            "total 4\n",
            "-rw-r--r-- 1 root root 533 Jul 27 13:13 ClassifierDLApproach_524181565fd1.log\n"
          ],
          "name": "stdout"
        }
      ]
    },
    {
      "cell_type": "code",
      "metadata": {
        "id": "13FSWxoBpoWP",
        "outputId": "9ab5b595-c6fb-49bd-efb0-11498e0b850d",
        "colab": {
          "base_uri": "https://localhost:8080/",
          "height": 119
        }
      },
      "source": [
        "!cat ~/annotator_logs/ClassifierDLApproach_524181565fd1.log\n"
      ],
      "execution_count": null,
      "outputs": [
        {
          "output_type": "stream",
          "text": [
            "Training started - total epochs: 5 - learning rate: 0.005 - batch size: 64 - training examples: 120000\n",
            "Epoch 0/5 - 36.532174881%.2fs - loss: 1624.0251 - accuracy: 0.8813 - batches: 1875\n",
            "Epoch 1/5 - 34.372610287%.2fs - loss: 1597.7561 - accuracy: 0.89163333 - batches: 1875\n",
            "Epoch 2/5 - 34.589534466%.2fs - loss: 1594.4141 - accuracy: 0.89676666 - batches: 1875\n",
            "Epoch 3/5 - 34.977971503%.2fs - loss: 1586.4642 - accuracy: 0.90078336 - batches: 1875\n",
            "Epoch 4/5 - 34.267461476%.2fs - loss: 1581.4093 - accuracy: 0.9034333 - batches: 1875\n"
          ],
          "name": "stdout"
        }
      ]
    },
    {
      "cell_type": "markdown",
      "metadata": {
        "id": "zXfhbXWpb_ga"
      },
      "source": [
        "### with BertSentenceEmbeddings"
      ]
    },
    {
      "cell_type": "code",
      "metadata": {
        "id": "w3Y6VXtkcGsi",
        "outputId": "13628a6c-a4f0-4534-d58b-0c805364cdf7",
        "colab": {
          "base_uri": "https://localhost:8080/",
          "height": 70
        }
      },
      "source": [
        "# actual content is inside description column\n",
        "document = DocumentAssembler()\\\n",
        "    .setInputCol(\"description\")\\\n",
        "    .setOutputCol(\"document\")\n",
        "    \n",
        "# we can also use sentece detector here if we want to train on and get predictions for each sentence\n",
        "\n",
        "bert_sent = BertSentenceEmbeddings.pretrained('sent_small_bert_L8_512')\\\n",
        " .setInputCols([\"document\"])\\\n",
        " .setOutputCol(\"sentence_embeddings\")\n",
        "\n",
        "# the classes/labels/categories are in category column\n",
        "classsifierdl = ClassifierDLApproach()\\\n",
        "  .setInputCols([\"sentence_embeddings\"])\\\n",
        "  .setOutputCol(\"class\")\\\n",
        "  .setLabelColumn(\"category\")\\\n",
        "  .setMaxEpochs(20)\\\n",
        "  .setEnableOutputLogs(True)\n",
        "\n",
        "bert_sent_clf_pipeline = Pipeline(\n",
        "    stages = [\n",
        "        document,\n",
        "        bert_sent,\n",
        "        classsifierdl\n",
        "    ])"
      ],
      "execution_count": null,
      "outputs": [
        {
          "output_type": "stream",
          "text": [
            "sent_small_bert_L8_512 download started this may take some time.\n",
            "Approximate size to download 149.1 MB\n",
            "[OK!]\n"
          ],
          "name": "stdout"
        }
      ]
    },
    {
      "cell_type": "code",
      "metadata": {
        "id": "AwZ4QkqJlW9l"
      },
      "source": [
        "bert_sent_pipelineModel = bert_sent_clf_pipeline.fit(trainDataset)\n"
      ],
      "execution_count": null,
      "outputs": []
    },
    {
      "cell_type": "code",
      "metadata": {
        "id": "ldhd0pqglceV",
        "outputId": "fdf57d31-1fc7-43d7-e122-db9474f7d845",
        "colab": {
          "base_uri": "https://localhost:8080/",
          "height": 212
        }
      },
      "source": [
        "# We are going to use sklearn to evalute the results on test dataset\n",
        "from sklearn.metrics import classification_report\n",
        "\n",
        "preds = bert_sent_pipelineModel.transform(testDataset)\n",
        "\n",
        "preds_df = preds.select('category','description',\"class.result\").toPandas()\n",
        "\n",
        "preds_df['result'] = preds_df['result'].apply(lambda x : x[0])\n",
        "\n",
        "print (classification_report(preds_df['result'], preds_df['category']))\n"
      ],
      "execution_count": null,
      "outputs": [
        {
          "output_type": "stream",
          "text": [
            "              precision    recall  f1-score   support\n",
            "\n",
            "    Business       0.84      0.86      0.85      1859\n",
            "    Sci/Tech       0.89      0.84      0.86      2004\n",
            "      Sports       0.97      0.95      0.96      1946\n",
            "       World       0.87      0.92      0.89      1791\n",
            "\n",
            "    accuracy                           0.89      7600\n",
            "   macro avg       0.89      0.89      0.89      7600\n",
            "weighted avg       0.89      0.89      0.89      7600\n",
            "\n"
          ],
          "name": "stdout"
        }
      ]
    },
    {
      "cell_type": "markdown",
      "metadata": {
        "id": "n9tXlaLYpwdG"
      },
      "source": [
        "## Getting prediction from Trained model"
      ]
    },
    {
      "cell_type": "code",
      "metadata": {
        "id": "iNERYucrncR5"
      },
      "source": [
        "from sparknlp.base import LightPipeline\n",
        "\n",
        "light_model = LightPipeline(use_pipelineModel)"
      ],
      "execution_count": null,
      "outputs": []
    },
    {
      "cell_type": "code",
      "metadata": {
        "id": "mVC-3fTAqGXL",
        "outputId": "bb4d9254-5077-45f5-dda8-bc6aef3f1a7e",
        "colab": {
          "base_uri": "https://localhost:8080/",
          "height": 51
        }
      },
      "source": [
        "testDataset.select('description').take(2)"
      ],
      "execution_count": null,
      "outputs": [
        {
          "output_type": "execute_result",
          "data": {
            "text/plain": [
              "[Row(description=\"Unions representing workers at Turner   Newall say they are 'disappointed' after talks with stricken parent firm Federal Mogul.\"),\n",
              " Row(description=' TORONTO, Canada    A second team of rocketeers competing for the  #36;10 million Ansari X Prize, a contest for privately funded suborbital space flight, has officially announced the first launch date for its manned rocket.')]"
            ]
          },
          "metadata": {
            "tags": []
          },
          "execution_count": 68
        }
      ]
    },
    {
      "cell_type": "code",
      "metadata": {
        "id": "XB6oGd02p9Fl",
        "outputId": "c418935b-76b7-4ec7-c1df-ed38f565a36f",
        "colab": {
          "base_uri": "https://localhost:8080/",
          "height": 34
        }
      },
      "source": [
        "text='''\n",
        "Fearing the fate of Italy, the centre-right government has threatened to be merciless with those who flout tough restrictions. \n",
        "As of Wednesday it will also include all shops being closed across Greece, with the exception of supermarkets. Banks, pharmacies, pet-stores, mobile phone stores, opticians, bakers, mini-markets, couriers and food delivery outlets are among the few that will also be allowed to remain open.\n",
        "'''\n",
        "result = light_model.annotate(text)\n",
        "\n",
        "result['class']"
      ],
      "execution_count": null,
      "outputs": [
        {
          "output_type": "execute_result",
          "data": {
            "text/plain": [
              "['Business']"
            ]
          },
          "metadata": {
            "tags": []
          },
          "execution_count": 69
        }
      ]
    },
    {
      "cell_type": "code",
      "metadata": {
        "id": "jzhnM1jPc1RS",
        "outputId": "dc2b1bd6-4eec-4b38-de52-0d41f456f179",
        "colab": {
          "base_uri": "https://localhost:8080/",
          "height": 68
        }
      },
      "source": [
        "light_model.annotate('the soccer games will be postponed.')"
      ],
      "execution_count": null,
      "outputs": [
        {
          "output_type": "execute_result",
          "data": {
            "text/plain": [
              "{'class': ['Sports'],\n",
              " 'document': ['the soccer games will be postponed.'],\n",
              " 'sentence_embeddings': ['the soccer games will be postponed.']}"
            ]
          },
          "metadata": {
            "tags": []
          },
          "execution_count": 71
        }
      ]
    },
    {
      "cell_type": "markdown",
      "metadata": {
        "id": "VsxMUayzqbsO"
      },
      "source": [
        "### Saving & loading back the trained model"
      ]
    },
    {
      "cell_type": "code",
      "metadata": {
        "id": "NTiwYxf3qcE0",
        "outputId": "e193e3b8-90c0-4be3-82d5-99721d0f4975",
        "colab": {
          "base_uri": "https://localhost:8080/",
          "height": 68
        }
      },
      "source": [
        "use_pipelineModel.stages"
      ],
      "execution_count": null,
      "outputs": [
        {
          "output_type": "execute_result",
          "data": {
            "text/plain": [
              "[DocumentAssembler_6cc38ac825d2,\n",
              " UNIVERSAL_SENTENCE_ENCODER_4de71669b7ec,\n",
              " ClassifierDLModel_fa413e291c22]"
            ]
          },
          "metadata": {
            "tags": []
          },
          "execution_count": 48
        }
      ]
    },
    {
      "cell_type": "code",
      "metadata": {
        "id": "7o3-H51eqfK9"
      },
      "source": [
        "use_pipelineModel.stages[2].write().overwrite().save('ClassifierDL_USE_20200727_e5')"
      ],
      "execution_count": null,
      "outputs": []
    },
    {
      "cell_type": "code",
      "metadata": {
        "id": "eNSqOZ7pbPWj"
      },
      "source": [
        "classsifierdlmodel = ClassifierDLModel.load('ClassifierDL_USE_20200727_e5')"
      ],
      "execution_count": null,
      "outputs": []
    },
    {
      "cell_type": "code",
      "metadata": {
        "id": "BCbbKfDtqtVd",
        "outputId": "e08f1afa-a425-43cc-d23b-b7ba20ea2071",
        "colab": {
          "base_uri": "https://localhost:8080/",
          "height": 68
        }
      },
      "source": [
        "clf_lp = get_clf_lp('ClassifierDL_USE_20200727_e5', sentiment_dl=False,  pretrained=False)\n"
      ],
      "execution_count": null,
      "outputs": [
        {
          "output_type": "stream",
          "text": [
            "tfhub_use download started this may take some time.\n",
            "Approximate size to download 923.7 MB\n",
            "[OK!]\n"
          ],
          "name": "stdout"
        }
      ]
    },
    {
      "cell_type": "code",
      "metadata": {
        "id": "YoNO9WMMbDvx",
        "outputId": "06f1eb80-844f-4f84-ae1a-23de580d3e48",
        "colab": {
          "base_uri": "https://localhost:8080/",
          "height": 34
        }
      },
      "source": [
        "clf_lp.annotate(text)['class']"
      ],
      "execution_count": null,
      "outputs": [
        {
          "output_type": "execute_result",
          "data": {
            "text/plain": [
              "['Business']"
            ]
          },
          "metadata": {
            "tags": []
          },
          "execution_count": 56
        }
      ]
    },
    {
      "cell_type": "markdown",
      "metadata": {
        "id": "0xgbU0Gzqraz"
      },
      "source": [
        "# SentimentDL Classifier"
      ]
    },
    {
      "cell_type": "markdown",
      "metadata": {
        "id": "fvQmF-X4sMYg"
      },
      "source": [
        "see also here >> `https://github.com/JohnSnowLabs/spark-nlp-workshop/blob/master/jupyter/training/english/classification/SentimentDL_train_multiclass_sentiment_classifier.ipynb`"
      ]
    },
    {
      "cell_type": "code",
      "metadata": {
        "id": "inuIcH5sq_5H"
      },
      "source": [
        "\n",
        "!wget -q aclimdb_train.csv https://s3.amazonaws.com/auxdata.johnsnowlabs.com/public/resources/en/sentiment-corpus/aclimdb/aclimdb_train.csv\n",
        "!wget -q aclimdb_test.csv https://s3.amazonaws.com/auxdata.johnsnowlabs.com/public/resources/en/sentiment-corpus/aclimdb/aclimdb_test.csv"
      ],
      "execution_count": 17,
      "outputs": []
    },
    {
      "cell_type": "code",
      "metadata": {
        "id": "W1-7tMKnrFF2",
        "outputId": "29c7dade-06e9-4110-a10c-2813050758ba",
        "colab": {
          "base_uri": "https://localhost:8080/",
          "height": 478
        }
      },
      "source": [
        "trainDataset = spark.read \\\n",
        "      .option(\"header\", True) \\\n",
        "      .csv(\"aclimdb_train.csv\")\n",
        "\n",
        "trainDataset.show()"
      ],
      "execution_count": 18,
      "outputs": [
        {
          "output_type": "stream",
          "text": [
            "+--------------------+--------+\n",
            "|                text|   label|\n",
            "+--------------------+--------+\n",
            "|This is an Excell...|positive|\n",
            "|The Sarah Silverm...|positive|\n",
            "|\"Prom Night\" is a...|negative|\n",
            "|So often a band w...|positive|\n",
            "|\"Pet Sematary\" is...|positive|\n",
            "|I watched the fil...|negative|\n",
            "|Boy this movie ha...|negative|\n",
            "|Checking the spoi...|negative|\n",
            "|Despite its rathe...|positive|\n",
            "|Absolute masterpi...|positive|\n",
            "|The tweedy profes...|positive|\n",
            "|A movie best summ...|negative|\n",
            "|Take young, prett...|negative|\n",
            "|For months I've b...|negative|\n",
            "|\"Batman: The Myst...|positive|\n",
            "|Well, it was funn...|negative|\n",
            "|I have seen the s...|positive|\n",
            "|Brainless film ab...|negative|\n",
            "|Leave it to geniu...|negative|\n",
            "|Seven Pounds star...|positive|\n",
            "+--------------------+--------+\n",
            "only showing top 20 rows\n",
            "\n"
          ],
          "name": "stdout"
        }
      ]
    },
    {
      "cell_type": "code",
      "metadata": {
        "id": "0bhQyIKOqwZJ"
      },
      "source": [
        "# actual content is inside description column\n",
        "document = DocumentAssembler()\\\n",
        "    .setInputCol(\"text\")\\\n",
        "    .setOutputCol(\"document\")\n",
        "\n",
        "use = UniversalSentenceEncoder.pretrained() \\\n",
        " .setInputCols([\"document\"])\\\n",
        " .setOutputCol(\"sentence_embeddings\")\n",
        "\n",
        "# the classes/labels/categories are in category column\n",
        "sentimentdl = SentimentDLApproach()\\\n",
        "  .setInputCols([\"sentence_embeddings\"])\\\n",
        "  .setOutputCol(\"class\")\\\n",
        "  .setLabelColumn(\"label\")\\\n",
        "  .setMaxEpochs(5)\\\n",
        "  .setEnableOutputLogs(True)\n",
        "\n",
        "pipeline = Pipeline(\n",
        "    stages = [\n",
        "        document,\n",
        "        use,\n",
        "        sentimentdl\n",
        "    ])\n"
      ],
      "execution_count": null,
      "outputs": []
    },
    {
      "cell_type": "code",
      "metadata": {
        "id": "2nOxevkKrSC1"
      },
      "source": [
        "pipelineModel = pipeline.fit(trainDataset)\n"
      ],
      "execution_count": null,
      "outputs": []
    },
    {
      "cell_type": "markdown",
      "metadata": {
        "id": "InbWSJgRrv5Z"
      },
      "source": [
        "# MultiLabel Classifier"
      ]
    },
    {
      "cell_type": "markdown",
      "metadata": {
        "id": "XW4BYeXAsIgn"
      },
      "source": [
        "see also here >> `https://github.com/JohnSnowLabs/spark-nlp-workshop/blob/master/jupyter/training/english/classification/MultiClassifierDL_train_multi_label_toxic_classifier.ipynb`"
      ]
    },
    {
      "cell_type": "code",
      "metadata": {
        "id": "xso1Utygr29i"
      },
      "source": [
        "!curl -O 'https://s3.amazonaws.com/auxdata.johnsnowlabs.com/public/resources/en/classifier-dl/toxic_comments/toxic_train.snappy.parquet'\n",
        "!curl -O 'https://s3.amazonaws.com/auxdata.johnsnowlabs.com/public/resources/en/classifier-dl/toxic_comments/toxic_test.snappy.parquet'"
      ],
      "execution_count": null,
      "outputs": []
    },
    {
      "cell_type": "code",
      "metadata": {
        "id": "NwXFrp20r972"
      },
      "source": [
        "trainDataset = spark.read.parquet(\"/content/toxic_train.snappy.parquet\").repartition(120)\n",
        "testDataset = spark.read.parquet(\"/content/toxic_test.snappy.parquet\").repartition(10)"
      ],
      "execution_count": null,
      "outputs": []
    },
    {
      "cell_type": "code",
      "metadata": {
        "id": "H2zcr-sir9cD"
      },
      "source": [
        "# Let's use shrink to remove new lines in the comments\n",
        "document = DocumentAssembler()\\\n",
        "  .setInputCol(\"text\")\\\n",
        "  .setOutputCol(\"document\")\\\n",
        "  .setCleanupMode(\"shrink\")\n",
        "\n",
        "# Here we use the state-of-the-art Universal Sentence Encoder model from TF Hub\n",
        "embeddings = UniversalSentenceEncoder.pretrained() \\\n",
        "  .setInputCols([\"document\"])\\\n",
        "  .setOutputCol(\"sentence_embeddings\")\n",
        "\n",
        "# We will use MultiClassifierDL built by using Bidirectional GRU and CNNs inside TensorFlow that supports up to 100 classes\n",
        "# We will use only 5 Epochs but feel free to increase it on your own dataset\n",
        "multiClassifier = MultiClassifierDLApproach()\\\n",
        "  .setInputCols(\"sentence_embeddings\")\\\n",
        "  .setOutputCol(\"category\")\\\n",
        "  .setLabelColumn(\"labels\")\\\n",
        "  .setBatchSize(128)\\\n",
        "  .setMaxEpochs(5)\\\n",
        "  .setLr(1e-3)\\\n",
        "  .setThreshold(0.5)\\\n",
        "  .setShufflePerEpoch(False)\\\n",
        "  .setEnableOutputLogs(True)\\\n",
        "  .setValidationSplit(0.1)\n",
        "\n",
        "pipeline = Pipeline(\n",
        "    stages = [\n",
        "        document,\n",
        "        embeddings,\n",
        "        multiClassifier\n",
        "    ])"
      ],
      "execution_count": null,
      "outputs": []
    },
    {
      "cell_type": "code",
      "metadata": {
        "id": "rBckzRXpsQW4"
      },
      "source": [
        "pipelineModel = pipeline.fit(trainDataset)"
      ],
      "execution_count": null,
      "outputs": []
    },
    {
      "cell_type": "code",
      "metadata": {
        "id": "nMiwjdrhsYgv"
      },
      "source": [
        "print(pipeline.fit(testDataset).stages[2].getClasses())\n",
        "# >> ['toxic', 'severe_toxic', 'identity_hate', 'insult', 'obscene', 'threat']"
      ],
      "execution_count": null,
      "outputs": []
    },
    {
      "cell_type": "code",
      "metadata": {
        "id": "j26fi2eQsnqt"
      },
      "source": [
        "# pred output: [toxic, obscene]"
      ],
      "execution_count": null,
      "outputs": []
    },
    {
      "cell_type": "markdown",
      "metadata": {
        "id": "XzAX3Ot-Qj8I"
      },
      "source": [
        "# Case Study: Conference Title Classification "
      ]
    },
    {
      "cell_type": "code",
      "metadata": {
        "id": "gcZLvbRDd5FF"
      },
      "source": [
        "!wget -q https://raw.githubusercontent.com/JohnSnowLabs/spark-nlp-workshop/master/tutorials/Certification_Trainings/Public/data/title_conference.csv"
      ],
      "execution_count": null,
      "outputs": []
    },
    {
      "cell_type": "code",
      "metadata": {
        "id": "Hp8cXVy2QwZl",
        "outputId": "ca11c24c-7df9-4cc1-eae1-50f5cd301d77",
        "colab": {
          "base_uri": "https://localhost:8080/",
          "height": 406
        }
      },
      "source": [
        "import pandas as pd\n",
        "df = pd.read_csv('title_conference.csv')\n",
        "df"
      ],
      "execution_count": null,
      "outputs": [
        {
          "output_type": "execute_result",
          "data": {
            "text/html": [
              "<div>\n",
              "<style scoped>\n",
              "    .dataframe tbody tr th:only-of-type {\n",
              "        vertical-align: middle;\n",
              "    }\n",
              "\n",
              "    .dataframe tbody tr th {\n",
              "        vertical-align: top;\n",
              "    }\n",
              "\n",
              "    .dataframe thead th {\n",
              "        text-align: right;\n",
              "    }\n",
              "</style>\n",
              "<table border=\"1\" class=\"dataframe\">\n",
              "  <thead>\n",
              "    <tr style=\"text-align: right;\">\n",
              "      <th></th>\n",
              "      <th>Title</th>\n",
              "      <th>Conference</th>\n",
              "    </tr>\n",
              "  </thead>\n",
              "  <tbody>\n",
              "    <tr>\n",
              "      <th>0</th>\n",
              "      <td>Innovation in Database Management: Computer Sc...</td>\n",
              "      <td>VLDB</td>\n",
              "    </tr>\n",
              "    <tr>\n",
              "      <th>1</th>\n",
              "      <td>High performance prime field multiplication fo...</td>\n",
              "      <td>ISCAS</td>\n",
              "    </tr>\n",
              "    <tr>\n",
              "      <th>2</th>\n",
              "      <td>enchanted scissors: a scissor interface for su...</td>\n",
              "      <td>SIGGRAPH</td>\n",
              "    </tr>\n",
              "    <tr>\n",
              "      <th>3</th>\n",
              "      <td>Detection of channel degradation attack by Int...</td>\n",
              "      <td>INFOCOM</td>\n",
              "    </tr>\n",
              "    <tr>\n",
              "      <th>4</th>\n",
              "      <td>Pinning a Complex Network through the Betweenn...</td>\n",
              "      <td>ISCAS</td>\n",
              "    </tr>\n",
              "    <tr>\n",
              "      <th>...</th>\n",
              "      <td>...</td>\n",
              "      <td>...</td>\n",
              "    </tr>\n",
              "    <tr>\n",
              "      <th>2502</th>\n",
              "      <td>A new QR-decomposition based recursive frequen...</td>\n",
              "      <td>ISCAS</td>\n",
              "    </tr>\n",
              "    <tr>\n",
              "      <th>2503</th>\n",
              "      <td>CNN Implementation of Spin Filters for Electro...</td>\n",
              "      <td>ISCAS</td>\n",
              "    </tr>\n",
              "    <tr>\n",
              "      <th>2504</th>\n",
              "      <td>FaceKit: A Database Interface Design Toolkit.</td>\n",
              "      <td>VLDB</td>\n",
              "    </tr>\n",
              "    <tr>\n",
              "      <th>2505</th>\n",
              "      <td>On the trade-off between the number of scrolls...</td>\n",
              "      <td>ISCAS</td>\n",
              "    </tr>\n",
              "    <tr>\n",
              "      <th>2506</th>\n",
              "      <td>Tracing Ray Differentials.</td>\n",
              "      <td>SIGGRAPH</td>\n",
              "    </tr>\n",
              "  </tbody>\n",
              "</table>\n",
              "<p>2507 rows × 2 columns</p>\n",
              "</div>"
            ],
            "text/plain": [
              "                                                  Title Conference\n",
              "0     Innovation in Database Management: Computer Sc...       VLDB\n",
              "1     High performance prime field multiplication fo...      ISCAS\n",
              "2     enchanted scissors: a scissor interface for su...   SIGGRAPH\n",
              "3     Detection of channel degradation attack by Int...    INFOCOM\n",
              "4     Pinning a Complex Network through the Betweenn...      ISCAS\n",
              "...                                                 ...        ...\n",
              "2502  A new QR-decomposition based recursive frequen...      ISCAS\n",
              "2503  CNN Implementation of Spin Filters for Electro...      ISCAS\n",
              "2504      FaceKit: A Database Interface Design Toolkit.       VLDB\n",
              "2505  On the trade-off between the number of scrolls...      ISCAS\n",
              "2506                         Tracing Ray Differentials.   SIGGRAPH\n",
              "\n",
              "[2507 rows x 2 columns]"
            ]
          },
          "metadata": {
            "tags": []
          },
          "execution_count": 4
        }
      ]
    },
    {
      "cell_type": "code",
      "metadata": {
        "id": "ru96Mi2BQ1cb",
        "outputId": "e0162ab8-bd33-4c3a-b974-ea93d610e472",
        "colab": {
          "base_uri": "https://localhost:8080/",
          "height": 123
        }
      },
      "source": [
        "df.Conference.value_counts()"
      ],
      "execution_count": null,
      "outputs": [
        {
          "output_type": "execute_result",
          "data": {
            "text/plain": [
              "ISCAS       864\n",
              "INFOCOM     515\n",
              "VLDB        423\n",
              "WWW         379\n",
              "SIGGRAPH    326\n",
              "Name: Conference, dtype: int64"
            ]
          },
          "metadata": {
            "tags": []
          },
          "execution_count": 18
        }
      ]
    },
    {
      "cell_type": "code",
      "metadata": {
        "id": "K_FAsGZEREMR",
        "outputId": "494fb3b3-db8d-436c-e394-571f646e39d1",
        "colab": {
          "base_uri": "https://localhost:8080/",
          "height": 52
        }
      },
      "source": [
        "\n",
        "trainDataset = spark.read \\\n",
        "      .option(\"header\", True) \\\n",
        "      .csv(\"title_conference.csv\")\n",
        "\n",
        "(trainingData, testData) = trainDataset.randomSplit([0.8, 0.2], seed = 100)\n",
        "print(\"Training Dataset Count: \" + str(trainingData.count()))\n",
        "print(\"Test Dataset Count: \" + str(testData.count()))\n"
      ],
      "execution_count": null,
      "outputs": [
        {
          "output_type": "stream",
          "text": [
            "Training Dataset Count: 1999\n",
            "Test Dataset Count: 508\n"
          ],
          "name": "stdout"
        }
      ]
    },
    {
      "cell_type": "code",
      "metadata": {
        "id": "KCNZEJktRKQM",
        "outputId": "f62355bc-36f5-4825-b68d-03cb3411f05e",
        "colab": {
          "base_uri": "https://localhost:8080/",
          "height": 66
        }
      },
      "source": [
        "document = DocumentAssembler()\\\n",
        "    .setInputCol(\"Title\")\\\n",
        "    .setOutputCol(\"document\")\n",
        "    \n",
        "# we can also use sentece detector here if we want to train on and get predictions for each sentence\n",
        "\n",
        "use = UniversalSentenceEncoder.pretrained()\\\n",
        " .setInputCols([\"document\"])\\\n",
        " .setOutputCol(\"sentence_embeddings\")\n",
        "\n",
        "# the classes/labels/categories are in category column\n",
        "classsifierdl = ClassifierDLApproach()\\\n",
        "  .setInputCols([\"sentence_embeddings\"])\\\n",
        "  .setOutputCol(\"class\")\\\n",
        "  .setLabelColumn(\"Conference\")\\\n",
        "  .setMaxEpochs(20)\\\n",
        "  .setEnableOutputLogs(True)\n",
        "\n",
        "use_clf_pipeline = Pipeline(\n",
        "    stages = [\n",
        "        document,\n",
        "        use,\n",
        "        classsifierdl\n",
        "    ])"
      ],
      "execution_count": null,
      "outputs": [
        {
          "output_type": "stream",
          "text": [
            "tfhub_use download started this may take some time.\n",
            "Approximate size to download 923.7 MB\n",
            "[OK!]\n"
          ],
          "name": "stdout"
        }
      ]
    },
    {
      "cell_type": "code",
      "metadata": {
        "id": "d2F5X22RRTda",
        "outputId": "153fcba2-1a2e-4106-a8b0-d528abe0039f",
        "colab": {
          "base_uri": "https://localhost:8080/",
          "height": 49
        }
      },
      "source": [
        "%%time\n",
        "\n",
        "use_pipelineModel = use_clf_pipeline.fit(trainingData)\n",
        "\n",
        "# 20 epochs takes around 22 seconds !"
      ],
      "execution_count": null,
      "outputs": [
        {
          "output_type": "stream",
          "text": [
            "CPU times: user 20.9 ms, sys: 6.29 ms, total: 27.2 ms\n",
            "Wall time: 22.4 s\n"
          ],
          "name": "stdout"
        }
      ]
    },
    {
      "cell_type": "code",
      "metadata": {
        "id": "o8hR6uJqRs25",
        "outputId": "5a0daf90-dbb3-45d5-9c26-98228f49550b",
        "colab": {
          "base_uri": "https://localhost:8080/",
          "height": 280
        }
      },
      "source": [
        "preds = use_pipelineModel.transform(testData)\n",
        "\n",
        "preds.select('Title','Conference',\"class.result\").show(10, truncate=80)\n"
      ],
      "execution_count": null,
      "outputs": [
        {
          "output_type": "stream",
          "text": [
            "+--------------------------------------------------------------------------------+----------+----------+\n",
            "|                                                                           Title|Conference|    result|\n",
            "+--------------------------------------------------------------------------------+----------+----------+\n",
            "|                        \"Home grown CGI: the cultivation of \"\"Henry's Garden\"\".\"|  SIGGRAPH|[SIGGRAPH]|\n",
            "|\"Restful web services vs. \"\"big\"\"' web services: making the right architectur...|       WWW|     [WWW]|\n",
            "|                           \"tangible workbench \"\"TW\"\": with changeable markers.\"|  SIGGRAPH|   [ISCAS]|\n",
            "|                                     0.5V wavelet filters using current mirrors.|     ISCAS|[SIGGRAPH]|\n",
            "|                    11 GHz UGBW Op-amp with feed-forward compensation technique.|     ISCAS|   [ISCAS]|\n",
            "|                                      3D facial animation from high speed video.|  SIGGRAPH|[SIGGRAPH]|\n",
            "|               3D reconstruction of intricate objects using planar cast shadows.|  SIGGRAPH|[SIGGRAPH]|\n",
            "|        7-decades tunable translinear SiGe BiCMOS 3-phase sinusoidal oscillator.|     ISCAS|   [ISCAS]|\n",
            "|                           A &#916;&#931; ADC for low power sensor applications.|     ISCAS|   [ISCAS]|\n",
            "|    A 10-Bit 200-MS/s digitally-calibrated pipelined ADC using switching opamps.|     ISCAS|   [ISCAS]|\n",
            "+--------------------------------------------------------------------------------+----------+----------+\n",
            "only showing top 10 rows\n",
            "\n"
          ],
          "name": "stdout"
        }
      ]
    },
    {
      "cell_type": "code",
      "metadata": {
        "id": "Et5k426ORW-s",
        "outputId": "0648c309-682e-4812-f373-800517daaf2a",
        "colab": {
          "base_uri": "https://localhost:8080/",
          "height": 214
        }
      },
      "source": [
        "# We are going to use sklearn to evalute the results on test dataset\n",
        "preds_df = preds.select('Conference','Title',\"class.result\").toPandas()\n",
        "\n",
        "# Let's explode the array and get the item(s) inside of result column out\n",
        "preds_df['result'] = preds_df['result'].apply(lambda x : x[0])\n",
        "\n",
        "from sklearn.metrics import classification_report\n",
        "\n",
        "print (classification_report(preds_df['result'], preds_df['Conference']))\n"
      ],
      "execution_count": null,
      "outputs": [
        {
          "output_type": "stream",
          "text": [
            "              precision    recall  f1-score   support\n",
            "\n",
            "     INFOCOM       0.69      0.64      0.67        98\n",
            "       ISCAS       0.79      0.81      0.80       178\n",
            "    SIGGRAPH       0.79      0.75      0.77        85\n",
            "        VLDB       0.61      0.56      0.58        88\n",
            "         WWW       0.51      0.64      0.57        59\n",
            "\n",
            "    accuracy                           0.70       508\n",
            "   macro avg       0.68      0.68      0.68       508\n",
            "weighted avg       0.71      0.70      0.71       508\n",
            "\n"
          ],
          "name": "stdout"
        }
      ]
    },
    {
      "cell_type": "code",
      "metadata": {
        "id": "gTCuu6yOTy7g",
        "outputId": "b11d2043-e054-418e-fed8-597e7bc5022d",
        "colab": {
          "base_uri": "https://localhost:8080/",
          "height": 189
        }
      },
      "source": [
        "from sklearn.metrics import confusion_matrix, accuracy_score\n",
        "import numpy as np\n",
        "\n",
        "preds = pd.DataFrame(confusion_matrix(preds_df['result'], preds_df['Conference']), columns = np.unique(preds_df['Conference']), index =  np.unique(preds_df['Conference']))\n",
        "preds"
      ],
      "execution_count": null,
      "outputs": [
        {
          "output_type": "execute_result",
          "data": {
            "text/html": [
              "<div>\n",
              "<style scoped>\n",
              "    .dataframe tbody tr th:only-of-type {\n",
              "        vertical-align: middle;\n",
              "    }\n",
              "\n",
              "    .dataframe tbody tr th {\n",
              "        vertical-align: top;\n",
              "    }\n",
              "\n",
              "    .dataframe thead th {\n",
              "        text-align: right;\n",
              "    }\n",
              "</style>\n",
              "<table border=\"1\" class=\"dataframe\">\n",
              "  <thead>\n",
              "    <tr style=\"text-align: right;\">\n",
              "      <th></th>\n",
              "      <th>INFOCOM</th>\n",
              "      <th>ISCAS</th>\n",
              "      <th>SIGGRAPH</th>\n",
              "      <th>VLDB</th>\n",
              "      <th>WWW</th>\n",
              "    </tr>\n",
              "  </thead>\n",
              "  <tbody>\n",
              "    <tr>\n",
              "      <th>INFOCOM</th>\n",
              "      <td>63</td>\n",
              "      <td>14</td>\n",
              "      <td>2</td>\n",
              "      <td>14</td>\n",
              "      <td>5</td>\n",
              "    </tr>\n",
              "    <tr>\n",
              "      <th>ISCAS</th>\n",
              "      <td>12</td>\n",
              "      <td>144</td>\n",
              "      <td>10</td>\n",
              "      <td>7</td>\n",
              "      <td>5</td>\n",
              "    </tr>\n",
              "    <tr>\n",
              "      <th>SIGGRAPH</th>\n",
              "      <td>3</td>\n",
              "      <td>13</td>\n",
              "      <td>64</td>\n",
              "      <td>2</td>\n",
              "      <td>3</td>\n",
              "    </tr>\n",
              "    <tr>\n",
              "      <th>VLDB</th>\n",
              "      <td>5</td>\n",
              "      <td>10</td>\n",
              "      <td>1</td>\n",
              "      <td>49</td>\n",
              "      <td>23</td>\n",
              "    </tr>\n",
              "    <tr>\n",
              "      <th>WWW</th>\n",
              "      <td>8</td>\n",
              "      <td>1</td>\n",
              "      <td>4</td>\n",
              "      <td>8</td>\n",
              "      <td>38</td>\n",
              "    </tr>\n",
              "  </tbody>\n",
              "</table>\n",
              "</div>"
            ],
            "text/plain": [
              "          INFOCOM  ISCAS  SIGGRAPH  VLDB  WWW\n",
              "INFOCOM        63     14         2    14    5\n",
              "ISCAS          12    144        10     7    5\n",
              "SIGGRAPH        3     13        64     2    3\n",
              "VLDB            5     10         1    49   23\n",
              "WWW             8      1         4     8   38"
            ]
          },
          "metadata": {
            "tags": []
          },
          "execution_count": 41
        }
      ]
    },
    {
      "cell_type": "markdown",
      "metadata": {
        "id": "PwHyicrShLiZ"
      },
      "source": [
        "### Bert Sentence Embeddings"
      ]
    },
    {
      "cell_type": "code",
      "metadata": {
        "id": "h4DbzDLPyP9d",
        "outputId": "152040b9-d3fa-4db4-8f14-7a6542fda25e",
        "colab": {
          "base_uri": "https://localhost:8080/",
          "height": 70
        }
      },
      "source": [
        "document = DocumentAssembler()\\\n",
        "    .setInputCol(\"Title\")\\\n",
        "    .setOutputCol(\"document\")\n",
        "    \n",
        "bert_sent = BertSentenceEmbeddings.pretrained('sent_small_bert_L8_512')\\\n",
        " .setInputCols([\"document\"])\\\n",
        " .setOutputCol(\"sentence_embeddings\")\n",
        "\n",
        "# the classes/labels/categories are in category column\n",
        "classsifierdl = ClassifierDLApproach()\\\n",
        "  .setInputCols([\"sentence_embeddings\"])\\\n",
        "  .setOutputCol(\"class\")\\\n",
        "  .setLabelColumn(\"Conference\")\\\n",
        "  .setMaxEpochs(20)\\\n",
        "  .setLr(0.001)\\\n",
        "  .setBatchSize(8)\\\n",
        "  .setEnableOutputLogs(True)\n",
        "\n",
        "bert_clf_pipeline = Pipeline(\n",
        "    stages = [\n",
        "        document,\n",
        "        bert_sent,\n",
        "        classsifierdl\n",
        "    ])"
      ],
      "execution_count": null,
      "outputs": [
        {
          "output_type": "stream",
          "text": [
            "sent_small_bert_L8_512 download started this may take some time.\n",
            "Approximate size to download 149.1 MB\n",
            "[OK!]\n"
          ],
          "name": "stdout"
        }
      ]
    },
    {
      "cell_type": "code",
      "metadata": {
        "id": "KqDY3ingkUWw",
        "outputId": "1a3f19be-ae43-4ab1-d79e-6dce9abf8401",
        "colab": {
          "base_uri": "https://localhost:8080/",
          "height": 34
        }
      },
      "source": [
        "classsifierdl.getMaxEpochs()"
      ],
      "execution_count": null,
      "outputs": [
        {
          "output_type": "execute_result",
          "data": {
            "text/plain": [
              "20"
            ]
          },
          "metadata": {
            "tags": []
          },
          "execution_count": 12
        }
      ]
    },
    {
      "cell_type": "code",
      "metadata": {
        "id": "djA2o2icTWty",
        "outputId": "19aa2896-b1a3-4fe4-caaf-bc2dc92755a3",
        "colab": {
          "base_uri": "https://localhost:8080/",
          "height": 52
        }
      },
      "source": [
        "%%time\n",
        "#20 epochs 30 sec !\n",
        "\n",
        "bert_pipelineModel = bert_clf_pipeline.fit(trainingData)\n"
      ],
      "execution_count": null,
      "outputs": [
        {
          "output_type": "stream",
          "text": [
            "CPU times: user 24.8 ms, sys: 3.03 ms, total: 27.8 ms\n",
            "Wall time: 28.9 s\n"
          ],
          "name": "stdout"
        }
      ]
    },
    {
      "cell_type": "code",
      "metadata": {
        "id": "UIdtUiLpn7PV",
        "outputId": "43a26de5-b03a-439d-8bec-2564c7410a10",
        "colab": {
          "base_uri": "https://localhost:8080/",
          "height": 230
        }
      },
      "source": [
        "\n",
        "from sklearn.metrics import classification_report\n",
        "\n",
        "preds = bert_pipelineModel.transform(testData)\n",
        "\n",
        "preds_df = preds.select('Conference',\"class.result\").toPandas()\n",
        "\n",
        "preds_df['result'] = preds_df['result'].apply(lambda x : x[0])\n",
        "\n",
        "print (classification_report(preds_df['result'], preds_df['Conference']))\n"
      ],
      "execution_count": null,
      "outputs": [
        {
          "output_type": "stream",
          "text": [
            "              precision    recall  f1-score   support\n",
            "\n",
            "     INFOCOM       0.69      0.68      0.69        92\n",
            "       ISCAS       0.83      0.84      0.84       179\n",
            "    SIGGRAPH       0.79      0.74      0.76        87\n",
            "        VLDB       0.61      0.58      0.59        85\n",
            "         WWW       0.61      0.69      0.65        65\n",
            "\n",
            "    accuracy                           0.73       508\n",
            "   macro avg       0.71      0.71      0.71       508\n",
            "weighted avg       0.73      0.73      0.73       508\n",
            "\n"
          ],
          "name": "stdout"
        }
      ]
    },
    {
      "cell_type": "code",
      "metadata": {
        "id": "P1M-rKghx4dw"
      },
      "source": [
        ""
      ],
      "execution_count": null,
      "outputs": []
    }
  ]
}
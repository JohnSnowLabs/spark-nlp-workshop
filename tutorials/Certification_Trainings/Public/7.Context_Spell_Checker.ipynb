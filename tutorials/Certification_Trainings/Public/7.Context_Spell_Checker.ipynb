{
  "nbformat": 4,
  "nbformat_minor": 0,
  "metadata": {
    "kernelspec": {
      "display_name": "Python 3",
      "language": "python",
      "name": "python3"
    },
    "language_info": {
      "codemirror_mode": {
        "name": "ipython",
        "version": 3
      },
      "file_extension": ".py",
      "mimetype": "text/x-python",
      "name": "python",
      "nbconvert_exporter": "python",
      "pygments_lexer": "ipython3",
      "version": "3.7.4"
    },
    "colab": {
      "name": "7.Noisy_Channel_Spell_Checker.ipynb",
      "provenance": []
    }
  },
  "cells": [
    {
      "cell_type": "markdown",
      "metadata": {
        "id": "dM_VpZ33OQ2u"
      },
      "source": [
        "![JohnSnowLabs](https://nlp.johnsnowlabs.com/assets/images/logo.png)"
      ]
    },
    {
      "cell_type": "markdown",
      "metadata": {
        "id": "LR3OIVkDOQ2w"
      },
      "source": [
        "[![Open In Colab](https://colab.research.google.com/assets/colab-badge.svg)](https://colab.research.google.com/github/JohnSnowLabs/spark-nlp-workshop/blob/master/tutorials/Certification_Trainings/Public/7.Context_Spell_Checker.ipynb)"
      ]
    },
    {
      "cell_type": "markdown",
      "metadata": {
        "id": "V52RWZgkKskS"
      },
      "source": [
        "# 7 Context Spell Checker"
      ]
    },
    {
      "cell_type": "code",
      "metadata": {
        "id": "OXiLnK8kOQ2x",
        "colab": {
          "base_uri": "https://localhost:8080/",
          "height": 301
        },
        "outputId": "f31b338c-a78a-434c-c96c-5b7f1f9b724c"
      },
      "source": [
        "import os\n",
        "\n",
        "# Install java\n",
        "! apt-get update -qq\n",
        "! apt-get install -y openjdk-8-jdk-headless -qq > /dev/null\n",
        "\n",
        "os.environ[\"JAVA_HOME\"] = \"/usr/lib/jvm/java-8-openjdk-amd64\"\n",
        "os.environ[\"PATH\"] = os.environ[\"JAVA_HOME\"] + \"/bin:\" + os.environ[\"PATH\"]\n",
        "! java -version\n",
        "\n",
        "# Install pyspark\n",
        "! pip install --ignore-installed -q pyspark==2.4.4\n",
        "! pip install --ignore-installed -q spark-nlp==2.7.1\n",
        "\n",
        "import sparknlp\n",
        "\n",
        "spark = sparknlp.start() # for GPU training >> sparknlp.start(gpu = True) # for Spark 2.3 =>> sparknlp.start(spark23 = True)\n",
        "\n",
        "from sparknlp.base import *\n",
        "from sparknlp.annotator import *\n",
        "from pyspark.ml import Pipeline\n",
        "import pandas as pd\n",
        "\n",
        "print(\"Spark NLP version\", sparknlp.version())\n",
        "\n",
        "print(\"Apache Spark version:\", spark.version)\n",
        "\n",
        "spark"
      ],
      "execution_count": 2,
      "outputs": [
        {
          "output_type": "stream",
          "text": [
            "openjdk version \"1.8.0_275\"\n",
            "OpenJDK Runtime Environment (build 1.8.0_275-8u275-b01-0ubuntu1~18.04-b01)\n",
            "OpenJDK 64-Bit Server VM (build 25.275-b01, mixed mode)\n",
            "Spark NLP version 2.7.1\n",
            "Apache Spark version: 2.4.4\n"
          ],
          "name": "stdout"
        },
        {
          "output_type": "execute_result",
          "data": {
            "text/html": [
              "\n",
              "            <div>\n",
              "                <p><b>SparkSession - in-memory</b></p>\n",
              "                \n",
              "        <div>\n",
              "            <p><b>SparkContext</b></p>\n",
              "\n",
              "            <p><a href=\"http://84c0779c639a:4040\">Spark UI</a></p>\n",
              "\n",
              "            <dl>\n",
              "              <dt>Version</dt>\n",
              "                <dd><code>v2.4.4</code></dd>\n",
              "              <dt>Master</dt>\n",
              "                <dd><code>local[*]</code></dd>\n",
              "              <dt>AppName</dt>\n",
              "                <dd><code>Spark NLP</code></dd>\n",
              "            </dl>\n",
              "        </div>\n",
              "        \n",
              "            </div>\n",
              "        "
            ],
            "text/plain": [
              "<pyspark.sql.session.SparkSession at 0x7f7d98c9b080>"
            ]
          },
          "metadata": {
            "tags": []
          },
          "execution_count": 2
        }
      ]
    },
    {
      "cell_type": "markdown",
      "metadata": {
        "id": "vzFwQ6KtOQ22"
      },
      "source": [
        "\n",
        "<b>  if you want to work with Spark 2.3 </b>\n",
        "```\n",
        "import os\n",
        "\n",
        "# Install java\n",
        "! apt-get update -qq\n",
        "! apt-get install -y openjdk-8-jdk-headless -qq > /dev/null\n",
        "\n",
        "!wget -q https://archive.apache.org/dist/spark/spark-2.3.0/spark-2.3.0-bin-hadoop2.7.tgz\n",
        "\n",
        "!tar xf spark-2.3.0-bin-hadoop2.7.tgz\n",
        "!pip install -q findspark\n",
        "\n",
        "os.environ[\"JAVA_HOME\"] = \"/usr/lib/jvm/java-8-openjdk-amd64\"\n",
        "os.environ[\"PATH\"] = os.environ[\"JAVA_HOME\"] + \"/bin:\" + os.environ[\"PATH\"]\n",
        "os.environ[\"SPARK_HOME\"] = \"/content/spark-2.3.0-bin-hadoop2.7\"\n",
        "! java -version\n",
        "\n",
        "import findspark\n",
        "findspark.init()\n",
        "from pyspark.sql import SparkSession\n",
        "\n",
        "! pip install --ignore-installed -q spark-nlp==2.5.5\n",
        "\n",
        "import sparknlp\n",
        "\n",
        "spark = sparknlp.start(spark23=True)\n",
        "```"
      ]
    },
    {
      "cell_type": "markdown",
      "metadata": {
        "id": "TOjVN8NKOQ22"
      },
      "source": [
        "<H1> Noisy Channel Model Spell Checker - Introduction </H1>\n",
        "\n",
        "blogpost : https://medium.com/spark-nlp/applying-context-aware-spell-checking-in-spark-nlp-3c29c46963bc\n",
        "\n",
        "<div>\n",
        "<p><br/>\n",
        "The idea for this annotator is to have a flexible, configurable and \"re-usable by parts\" model.<br/>\n",
        "Flexibility is the ability to accommodate different use cases for spell checking like OCR text, keyboard-input text, ASR text, and general spelling problems due to orthographic errors.<br/>\n",
        "We say this is a configurable annotator, as you can adapt it yourself to different use cases avoiding re-training as much as possible.<br/>\n",
        "</p>\n",
        "</div>\n",
        "\n",
        "\n",
        "<b> Spell Checking at three levels: </b>\n",
        "The final ranking of a correction sequence is affected by three things, \n",
        "\n",
        "\n",
        "1. Different correction candidates for each word - __word level__.\n",
        "2. The surrounding text of each word, i.e. it's context - __sentence level__.\n",
        "3. The relative cost of different correction candidates according to the edit operations at the character level it requires - __subword level__.\n",
        " \n",
        "\n"
      ]
    },
    {
      "cell_type": "markdown",
      "metadata": {
        "id": "jUCfqQbLOQ23"
      },
      "source": [
        "### Initial Setup\n",
        "As it's usual in Spark-NLP let's start with building a pipeline; a _spell correction pipeline_. We will use a pretrained model from our library."
      ]
    },
    {
      "cell_type": "code",
      "metadata": {
        "id": "9wK6EnGvOQ24"
      },
      "source": [
        "from sparknlp.annotator import *\n",
        "from sparknlp.common import *\n",
        "from sparknlp.base import *\n",
        "\n",
        "from IPython.utils.text import columnize\n",
        "\n"
      ],
      "execution_count": 3,
      "outputs": []
    },
    {
      "cell_type": "code",
      "metadata": {
        "id": "-cBsZyHaOQ27",
        "colab": {
          "base_uri": "https://localhost:8080/"
        },
        "outputId": "4ddbec07-c3c6-4fdc-f32a-fd06d8bafa21"
      },
      "source": [
        "documentAssembler = DocumentAssembler()\\\n",
        "  .setInputCol(\"text\")\\\n",
        "  .setOutputCol(\"document\")\n",
        "\n",
        "tokenizer = RecursiveTokenizer()\\\n",
        "  .setInputCols([\"document\"])\\\n",
        "  .setOutputCol(\"token\")\\\n",
        "  .setPrefixes([\"\\\"\", \"(\", \"[\", \"\\n\"])\\\n",
        "  .setSuffixes([\".\", \",\", \"?\", \")\",\"!\", \"'s\"])\n",
        "\n",
        "spellModel = ContextSpellCheckerModel\\\n",
        "    .pretrained('spellcheck_dl')\\\n",
        "    .setInputCols(\"token\")\\\n",
        "    .setOutputCol(\"checked\")\\\n",
        "    .setErrorThreshold(4.0)\\\n",
        "    .setTradeoff(6.0)"
      ],
      "execution_count": 4,
      "outputs": [
        {
          "output_type": "stream",
          "text": [
            "spellcheck_dl download started this may take some time.\n",
            "Approximate size to download 112 MB\n",
            "[OK!]\n"
          ],
          "name": "stdout"
        }
      ]
    },
    {
      "cell_type": "code",
      "metadata": {
        "scrolled": true,
        "id": "gY5j13B6OQ3A"
      },
      "source": [
        "finisher = Finisher()\\\n",
        "    .setInputCols(\"checked\")\n",
        "\n",
        "pipeline = Pipeline(\n",
        "    stages = [\n",
        "    documentAssembler,\n",
        "    tokenizer,\n",
        "    spellModel,\n",
        "    finisher\n",
        "  ])\n",
        "\n",
        "empty_ds = spark.createDataFrame([[\"\"]]).toDF(\"text\")\n",
        "lp = LightPipeline(pipeline.fit(empty_ds))"
      ],
      "execution_count": 5,
      "outputs": []
    },
    {
      "cell_type": "markdown",
      "metadata": {
        "id": "5Hcev_C7OQ3D"
      },
      "source": [
        "Ok!, at this point we have our spell checking pipeline as expected. Let's see what we can do with it,"
      ]
    },
    {
      "cell_type": "code",
      "metadata": {
        "id": "IytF5v0_OQ3E",
        "colab": {
          "base_uri": "https://localhost:8080/"
        },
        "outputId": "615aab5c-07af-4485-aaf6-cf0a50f8162e"
      },
      "source": [
        "lp.annotate(\"Plaese alliow me tao introdduce myhelf, I am a man of waelth und tiaste\")"
      ],
      "execution_count": 6,
      "outputs": [
        {
          "output_type": "execute_result",
          "data": {
            "text/plain": [
              "{'checked': ['Please',\n",
              "  'allow',\n",
              "  'me',\n",
              "  'to',\n",
              "  'introduce',\n",
              "  'myself',\n",
              "  ',',\n",
              "  'I',\n",
              "  'am',\n",
              "  'a',\n",
              "  'man',\n",
              "  'of',\n",
              "  'wealth',\n",
              "  'and',\n",
              "  'taste']}"
            ]
          },
          "metadata": {
            "tags": []
          },
          "execution_count": 6
        }
      ]
    },
    {
      "cell_type": "markdown",
      "metadata": {
        "id": "EfgK96HuOQ3K"
      },
      "source": [
        "### Word Level Corrections\n",
        "Continuing with our pretrained model, let's try to see how corrections work at the word level. Each Context Spell Checker model that you can find in Spark-NLP library comes with two sources for word candidates: \n",
        "+ a general vocabulary that is built during training(and remains unmutable during the life of the model), and\n",
        "+ special classes for dealing with special types of words like numbers or dates. These are dynamic, and you can modify them so they adjust better to your data.\n",
        "\n",
        "The general vocabulary is learned during training, and cannot be modified, however, the special classes can be updated after training has happened on a pre-trained model.\n",
        "This means you can modify how existing classes produce corrections, but not the number or type of the classes.\n",
        "Let's see how we can accomplish this."
      ]
    },
    {
      "cell_type": "code",
      "metadata": {
        "id": "xrECOVImOQ3L",
        "colab": {
          "base_uri": "https://localhost:8080/"
        },
        "outputId": "599ad399-61b1-449a-f53d-e2a76b99c6f3"
      },
      "source": [
        "# First let's start with a loaded model, and check which classes it has been trained with\n",
        "spellModel.getWordClasses()"
      ],
      "execution_count": 7,
      "outputs": [
        {
          "output_type": "execute_result",
          "data": {
            "text/plain": [
              "['(_LOC_,VocabParser)',\n",
              " '(_AGE_,RegexParser)',\n",
              " '(_DATE_,RegexParser)',\n",
              " '(_NUM_,RegexParser)',\n",
              " '(_NAME_,VocabParser)']"
            ]
          },
          "metadata": {
            "tags": []
          },
          "execution_count": 7
        }
      ]
    },
    {
      "cell_type": "markdown",
      "metadata": {
        "id": "bnXKtN9JOQ3P"
      },
      "source": [
        "We have five classes, of two different types: some are vocabulary based and others are regex based,\n",
        "+ __Vocabulary based classes__ can propose correction candidates from the provided vocabulary, for example a dictionary of names.\n",
        "+ __Regex classes__ are defined by a regular expression, and they can be used to generate correction candidates for things like numbers. Internally, the Spell Checker will enumerate your regular expression and build a fast automaton, not only for recognizing the word(number in this example) as valid and preserve it, but also for generating a correction candidate.\n",
        "Thus the regex should be a finite regex(it must define a finite regular language).\n",
        "\n",
        "Now suppose that you have a new friend from Poland whose name is 'Jowita', let's see how the pretrained Spell Checker does with this name."
      ]
    },
    {
      "cell_type": "code",
      "metadata": {
        "id": "LyNv27gBO4y4"
      },
      "source": [
        "beautify = lambda annotations: [columnize(sent['checked']) for sent in annotations]"
      ],
      "execution_count": 8,
      "outputs": []
    },
    {
      "cell_type": "code",
      "metadata": {
        "id": "j5rqzNm1OQ3P",
        "colab": {
          "base_uri": "https://localhost:8080/"
        },
        "outputId": "a6ad8826-380f-4694-ad02-8bcb463c6fe2"
      },
      "source": [
        "# Foreign name without errors\n",
        "sample = 'We are going to meet Jowita in the city hall.'\n",
        "beautify([lp.annotate(sample)])"
      ],
      "execution_count": 9,
      "outputs": [
        {
          "output_type": "execute_result",
          "data": {
            "text/plain": [
              "['We  are  going  to  meet  Moita  in  the  city  hall  .\\n']"
            ]
          },
          "metadata": {
            "tags": []
          },
          "execution_count": 9
        }
      ]
    },
    {
      "cell_type": "markdown",
      "metadata": {
        "id": "qKyqcdy9OQ3S"
      },
      "source": [
        "Well, the result is not very good, that's because the Spell Checker has been trained mainly with American English texts. At least, the surrounding words are helping to obtain a correction that is a name. We can do better, let's see how.\n",
        "\n",
        "## Updating a predefined word class\n",
        "\n",
        "### Vocabulary Classes\n",
        "\n",
        "In order for the Spell Checker to be able to preserve words, like a foreign name, we have the option to update existing classes so they can cover new words."
      ]
    },
    {
      "cell_type": "code",
      "metadata": {
        "id": "hpKgt58OOQ3T",
        "colab": {
          "base_uri": "https://localhost:8080/"
        },
        "outputId": "db1883c2-4db0-4f3a-9788-b41ea4f194c1"
      },
      "source": [
        "# add some more, in case we need them\n",
        "spellModel.updateVocabClass('_NAME_', ['Monika', 'Agnieszka', 'Inga', 'Jowita', 'Melania'], True)\n",
        "\n",
        "# Let's see what we get now\n",
        "sample = 'We are going to meet Jowita at the city hall.'\n",
        "beautify([lp.annotate(sample)])"
      ],
      "execution_count": 11,
      "outputs": [
        {
          "output_type": "execute_result",
          "data": {
            "text/plain": [
              "['We  are  going  to  meet  Jowita  at  the  city  hall  .\\n']"
            ]
          },
          "metadata": {
            "tags": []
          },
          "execution_count": 11
        }
      ]
    },
    {
      "cell_type": "markdown",
      "metadata": {
        "id": "qoWZ657hOQ3W"
      },
      "source": [
        "Much better, right? Now suppose that we want to be able to not only preserve the word, but also to propose meaningful corrections to the name of our foreign friend."
      ]
    },
    {
      "cell_type": "code",
      "metadata": {
        "id": "azIAKc8UOQ3X",
        "colab": {
          "base_uri": "https://localhost:8080/"
        },
        "outputId": "3d665c94-a6b3-4f99-b622-3154cf8042d6"
      },
      "source": [
        "# Foreign name with an error\n",
        "sample = 'We are going to meet Jovita in the city hall.'\n",
        "beautify([lp.annotate(sample)])"
      ],
      "execution_count": 12,
      "outputs": [
        {
          "output_type": "execute_result",
          "data": {
            "text/plain": [
              "['We  are  going  to  meet  Jowita  in  the  city  hall  .\\n']"
            ]
          },
          "metadata": {
            "tags": []
          },
          "execution_count": 12
        }
      ]
    },
    {
      "cell_type": "markdown",
      "metadata": {
        "id": "z4fvnwl7OQ3b"
      },
      "source": [
        "Here we were able to add the new word to the class and propose corrections for it, but also, the new word has been treated as a name, that meaning that the model used information about the typical context for names in order to produce the best correction."
      ]
    },
    {
      "cell_type": "markdown",
      "metadata": {
        "id": "JrpDPJ4YOQ3c"
      },
      "source": [
        "### Regex Classes\n",
        "We can do something similar for classes defined by regex. We can add a regex, to for example deal with a special format for dates, that will not only preserve the date with the special format, but also be able to correct it."
      ]
    },
    {
      "cell_type": "code",
      "metadata": {
        "id": "fg5-ajMDOQ3d",
        "colab": {
          "base_uri": "https://localhost:8080/"
        },
        "outputId": "f5f0983c-1a95-4bbb-a760-c659c2bab67e"
      },
      "source": [
        "# Date with custom format\n",
        "sample = 'We are going to meet her in the city hall on february-3.'\n",
        "beautify([lp.annotate(sample)])"
      ],
      "execution_count": 14,
      "outputs": [
        {
          "output_type": "execute_result",
          "data": {
            "text/plain": [
              "['We  are  going  to  meet  her  in  the  city  all  on  February  .\\n']"
            ]
          },
          "metadata": {
            "tags": []
          },
          "execution_count": 14
        }
      ]
    },
    {
      "cell_type": "code",
      "metadata": {
        "id": "YP2iOBsGOQ3g",
        "colab": {
          "base_uri": "https://localhost:8080/"
        },
        "outputId": "cf226ca9-5402-4fb4-d0c7-cee8e9fbabcd"
      },
      "source": [
        "# this is a sample regex, for simplicity not covering all months\n",
        "spellModel.updateRegexClass('_DATE_', '(january|february|march)-[0-31]')\n",
        "beautify([lp.annotate(sample)])"
      ],
      "execution_count": 15,
      "outputs": [
        {
          "output_type": "execute_result",
          "data": {
            "text/plain": [
              "['We  are  going  to  meet  her  in  the  city  all  on  february-3  .\\n']"
            ]
          },
          "metadata": {
            "tags": []
          },
          "execution_count": 15
        }
      ]
    },
    {
      "cell_type": "markdown",
      "metadata": {
        "id": "74XHt67TOQ3j"
      },
      "source": [
        "Now our date wasn't destroyed!"
      ]
    },
    {
      "cell_type": "code",
      "metadata": {
        "id": "v4BxqhHNOQ3j",
        "colab": {
          "base_uri": "https://localhost:8080/"
        },
        "outputId": "4d21f0ba-3882-4f00-9c40-8c339238e682"
      },
      "source": [
        "# now check that it produces good corrections to the date\n",
        "sample = 'We are going to meet her in the city hall on febbruary-3.'\n",
        "beautify([lp.annotate(sample)])"
      ],
      "execution_count": 16,
      "outputs": [
        {
          "output_type": "execute_result",
          "data": {
            "text/plain": [
              "['We  are  going  to  meet  her  in  the  city  all  on  february-3  .\\n']"
            ]
          },
          "metadata": {
            "tags": []
          },
          "execution_count": 16
        }
      ]
    },
    {
      "cell_type": "markdown",
      "metadata": {
        "id": "0_qhmeH7OQ3n"
      },
      "source": [
        "And the model produces good corrections for the special regex class. Remember that each regex that you enter to the model must be finite. In all these examples the new definitions for our classes didn't prevent the model to continue using the context to produce corrections. Let's see why being able to use the context is important.\n",
        "### Sentence Level Corrections\n",
        "The Spell Checker can leverage the context of words for ranking different correction sequences. Let's take a look at some examples,"
      ]
    },
    {
      "cell_type": "code",
      "metadata": {
        "id": "FDuBuz29OQ3o",
        "colab": {
          "base_uri": "https://localhost:8080/"
        },
        "outputId": "17f89acd-a223-44dd-e19d-c8166ff2169f"
      },
      "source": [
        "# check for the different occurrences of the word \"siter\"\n",
        "example1 = [\"I will call my siter.\",\\\n",
        "    \"Due to bad weather, we had to move to a different siter.\",\\\n",
        "    \"We travelled to three siter in the summer.\"]\n",
        "beautify(lp.annotate(example1))"
      ],
      "execution_count": 17,
      "outputs": [
        {
          "output_type": "execute_result",
          "data": {
            "text/plain": [
              "['I  will  call  my  sister  .\\n',\n",
              " 'Due  to  bad  weather  ,  we  had  to  move  to  a  different  site  .\\n',\n",
              " 'We  travelled  to  three  sites  in  the  summer  .\\n']"
            ]
          },
          "metadata": {
            "tags": []
          },
          "execution_count": 17
        }
      ]
    },
    {
      "cell_type": "code",
      "metadata": {
        "id": "D4wn2v2XOQ3s",
        "colab": {
          "base_uri": "https://localhost:8080/"
        },
        "outputId": "b7052541-8e61-42ab-916e-1a50fd1a7c5b"
      },
      "source": [
        "# check for the different occurrences of the word \"ueather\"\n",
        "example2 = [\"During the summer we have the best ueather.\",\\\n",
        "    \"I have a black ueather jacket, so nice.\",\\\n",
        "    \"I introduce you to my sister, she is called ueather.\"]\n",
        "beautify(lp.annotate(example2))"
      ],
      "execution_count": 18,
      "outputs": [
        {
          "output_type": "execute_result",
          "data": {
            "text/plain": [
              "['During  the  summer  we  have  the  best  Heather  .\\n',\n",
              " 'I  have  a  black  leather  jacket  ,  so  nice  .\\n',\n",
              " 'I  introduce  you  to  my  sister  ,  she  is  called  Heather  .\\n']"
            ]
          },
          "metadata": {
            "tags": []
          },
          "execution_count": 18
        }
      ]
    },
    {
      "cell_type": "markdown",
      "metadata": {
        "id": "xd1gXbwyOQ3u"
      },
      "source": [
        "Notice that in the first example, 'siter' is indeed a valid English word, <br/> https://www.merriam-webster.com/dictionary/siter <br/>\n",
        "The only way to customize how the use of context is performed is to train the language model by training a Spell Checker from scratch. If you want to be able to train your custom language model, please refer to the Training notebook.\n",
        "Now we've learned how the context can help to pick the best possible correction, and why it is important to be able to leverage the context even when the other parts of the Spell Checker were updated."
      ]
    },
    {
      "cell_type": "markdown",
      "metadata": {
        "id": "tAXDhU-LOQ3v"
      },
      "source": [
        "### Subword level corrections\n",
        "Another fine tunning that our Spell Checker accepts is to assign different costs to different edit operations that are necessary to transform a word into a correction candidate. \n",
        "So, why is this important? Errors can come from different sources,\n",
        "+ Homophones are words that sound similar, but are written differently and have different meaning. Some examples, {there, their, they're}, {see, sea}, {to, too, two}. You will typically see these errors in text obtained by Automatic Speech Recognition(ASR).\n",
        "+ Characters can also be confused because of looking similar. So a 0(zero) can be confused with a O(capital o), or a 1(number one) with an l(lowercase l). These errors typically come from OCR.\n",
        "+ Input device related, sometimes keyboards cause certain patterns to be more likely than others due to letter locations, for example in a QWERTY keyboard.\n",
        "+ Last but not least, ortographic errors, related to the writter making mistakes. Forgetting a double consonant, or using it in the wrong place, interchanging letters(i.e., 'becuase' for 'because'), and many others.\n",
        "\n",
        "The goal is to continue using all the other features of the model and still be able to adapt the model to handle each of these cases in the best possible way. Let's see how to accomplish this."
      ]
    },
    {
      "cell_type": "code",
      "metadata": {
        "id": "nsvSTA5TOQ3v",
        "colab": {
          "base_uri": "https://localhost:8080/"
        },
        "outputId": "2570ee80-d1db-481d-827e-ab0e600f5c28"
      },
      "source": [
        "# sending or lending ?\n",
        "sample = 'I will be 1ending him my car'\n",
        "lp.annotate(sample)"
      ],
      "execution_count": 19,
      "outputs": [
        {
          "output_type": "execute_result",
          "data": {
            "text/plain": [
              "{'checked': ['I', 'will', 'be', 'sending', 'him', 'my', 'car']}"
            ]
          },
          "metadata": {
            "tags": []
          },
          "execution_count": 19
        }
      ]
    },
    {
      "cell_type": "code",
      "metadata": {
        "id": "V31KhduLOQ35",
        "colab": {
          "base_uri": "https://localhost:8080/"
        },
        "outputId": "bd7e3e21-fdb4-4d62-873c-a8c70343751c"
      },
      "source": [
        "# let's make the replacement of an '1' for an 'l' cheaper\n",
        "weights = {'1': {'l': .1}}\n",
        "spellModel.setWeights(weights)\n",
        "lp.annotate(sample)"
      ],
      "execution_count": 20,
      "outputs": [
        {
          "output_type": "execute_result",
          "data": {
            "text/plain": [
              "{'checked': ['I', 'will', 'be', 'lending', 'him', 'my', 'car']}"
            ]
          },
          "metadata": {
            "tags": []
          },
          "execution_count": 20
        }
      ]
    },
    {
      "cell_type": "markdown",
      "metadata": {
        "id": "oYMAj2YjOQ37"
      },
      "source": [
        "Assembling this matrix by hand could be a daunting challenge. There is one script in Python that can do this for you.\n",
        "This is something to be soon included like an option during training for the Context Spell Checker. Stay tuned on new releases!"
      ]
    },
    {
      "cell_type": "markdown",
      "metadata": {
        "id": "CF6roiiQOQ38"
      },
      "source": [
        "## Advanced - the mysterious tradeoff parameter \n",
        "There's a clear tension between two forces here,\n",
        "+ The context information: by which the model wants to change words based on the surrounding words.\n",
        "+ The word information: by which the model wants to preserve as much an input word as possible to avoid destroying the input.\n",
        "\n",
        "Changing words that are in the vocabulary for others that seem more suitable according to the context is one of the most challenging tasks in spell correction. This is because you run into the risk of destroying existing 'good' words.\n",
        "The models that you will find in the Spark-NLP library have already been configured in a way that balances these two forces and produces good results in most of the situations. But your dataset can be different from the one used to train the model.\n",
        "So we encourage the user to play a bit with the hyperparameters, and for you to have an idea on how it can be modified, we're going to see the following example,"
      ]
    },
    {
      "cell_type": "code",
      "metadata": {
        "id": "trwTZ0YROQ38",
        "colab": {
          "base_uri": "https://localhost:8080/"
        },
        "outputId": "53773215-a50a-4dd1-d4ab-b9ae184fef1a"
      },
      "source": [
        "sample = 'have you been two the falls?'\n",
        "beautify([lp.annotate(sample)])"
      ],
      "execution_count": 21,
      "outputs": [
        {
          "output_type": "execute_result",
          "data": {
            "text/plain": [
              "['have  you  been  two  the  falls  ?\\n']"
            ]
          },
          "metadata": {
            "tags": []
          },
          "execution_count": 21
        }
      ]
    },
    {
      "cell_type": "markdown",
      "metadata": {
        "id": "nvp4QocxOQ3-"
      },
      "source": [
        "Here 'two' is clearly wrong, probably a typo, and the model should be able to choose the right correction candidate according to the context. <br/>\n",
        "Every path is scored with a cost, and the higher the cost the less chances for the path being chosen as the final answer.<br/>\n",
        "In order for the model to rely more on the context and less on word information, we have the setTradeoff() method. You can think of the tradeoff as how much a single edition(insert, delete, etc) operation affects the influence of a word when competing inside a path in the graph.<br/>\n",
        "So the lower the tradeoff, the less we care about the edit operations in the word, and the more we care about the word fitting properly into its context. The tradeoff parameter typically ranges between 5 and 25. <br/>\n",
        "Let's see what happens when we relax how much the model cares about individual words in our example,"
      ]
    },
    {
      "cell_type": "code",
      "metadata": {
        "id": "WUpyUecvOQ3_",
        "colab": {
          "base_uri": "https://localhost:8080/"
        },
        "outputId": "7bba5ef2-3998-41d0-f8d9-8cfbbac878b5"
      },
      "source": [
        "spellModel.getTradeoff()"
      ],
      "execution_count": 22,
      "outputs": [
        {
          "output_type": "execute_result",
          "data": {
            "text/plain": [
              "6.0"
            ]
          },
          "metadata": {
            "tags": []
          },
          "execution_count": 22
        }
      ]
    },
    {
      "cell_type": "code",
      "metadata": {
        "id": "5zmQLB_UOQ4C",
        "colab": {
          "base_uri": "https://localhost:8080/"
        },
        "outputId": "020bf6dd-20f9-4622-905e-8b73b51424df"
      },
      "source": [
        "# let's decrease the influence of word-level errors\n",
        "# TODO a nicer way of doing this other than re-creating the pipeline?\n",
        "spellModel.setTradeoff(5.0)\n",
        "\n",
        "pipeline = Pipeline(\n",
        "    stages = [\n",
        "    documentAssembler,\n",
        "    tokenizer,\n",
        "    spellModel,\n",
        "    finisher\n",
        "  ])\n",
        "\n",
        "empty_ds = spark.createDataFrame([[\"\"]]).toDF(\"text\")\n",
        "lp = LightPipeline(pipeline.fit(empty_ds))\n",
        "\n",
        "beautify([lp.annotate(sample)])"
      ],
      "execution_count": 23,
      "outputs": [
        {
          "output_type": "execute_result",
          "data": {
            "text/plain": [
              "['have  you  been  to  the  falls  ?\\n']"
            ]
          },
          "metadata": {
            "tags": []
          },
          "execution_count": 23
        }
      ]
    },
    {
      "cell_type": "markdown",
      "metadata": {
        "id": "LD1RZYWCOQ4F"
      },
      "source": [
        "## Advanced - performance"
      ]
    },
    {
      "cell_type": "markdown",
      "metadata": {
        "id": "H-EyNb0HOQ4G"
      },
      "source": [
        "The discussion about performance revolves around _error detection_. The more errors the model detects the more populated is the candidate diagram we showed above[TODO add diagram or convert this into blogpost], and the more alternative paths need to be evaluated. </br>\n",
        "Basically the error detection stage of the model can decide whether a word needs a correction or not; with two reasons for a word to be considered as incorrect, \n",
        "+ The word is OOV: the word is out of the vocabulary.\n",
        "+ The context: the word doesn't fit well within its neighbouring words. \n",
        "The only parameter that we can control at this point is the second one, and we do so with the setErrorThreshold() method that contains a max perplexity above which the word will be considered suspicious and a good candidate for being corrected.</br>\n",
        "The parameter that comes with the pretrained model has been set so you can get both a decent performance and accuracy. For reference, this is how the F-score, and time varies in a sample dataset for different values of the errorThreshold,\n",
        "\n",
        "\n",
        "|fscore |totaltime|threshold|\n",
        "|-------|---------|---------|\n",
        "|52.69  |405s | 8f|\n",
        "|52.43  |357s |10f|\n",
        "|52.25  |279s |12f|\n",
        "|52.14  |234s |14f|\n",
        "\n",
        "You can trade some minor points in accuracy for a nice speedup.\n"
      ]
    },
    {
      "cell_type": "code",
      "metadata": {
        "id": "Pt7ca87zQaCP"
      },
      "source": [
        "def sparknlp_spell_check(text):\n",
        "\n",
        "  return beautify([lp.annotate(text)])[0].rstrip()\n"
      ],
      "execution_count": 24,
      "outputs": []
    },
    {
      "cell_type": "code",
      "metadata": {
        "id": "vIFJmn6pPobo",
        "colab": {
          "base_uri": "https://localhost:8080/",
          "height": 35
        },
        "outputId": "5c098e79-6fc2-4a6a-95a4-420f4c69bfad"
      },
      "source": [
        "sparknlp_spell_check('I will go to Philadelhia tomorrow')"
      ],
      "execution_count": 25,
      "outputs": [
        {
          "output_type": "execute_result",
          "data": {
            "application/vnd.google.colaboratory.intrinsic+json": {
              "type": "string"
            },
            "text/plain": [
              "'I  will  go  to  Philadelphia  tomorrow'"
            ]
          },
          "metadata": {
            "tags": []
          },
          "execution_count": 25
        }
      ]
    },
    {
      "cell_type": "code",
      "metadata": {
        "id": "nO2315WwPtG4",
        "colab": {
          "base_uri": "https://localhost:8080/",
          "height": 35
        },
        "outputId": "0e8c75a4-53e2-4e85-e1b7-d5fa64b3bebb"
      },
      "source": [
        "sparknlp_spell_check('I will go to Philadhelpia tomorrow')"
      ],
      "execution_count": 26,
      "outputs": [
        {
          "output_type": "execute_result",
          "data": {
            "application/vnd.google.colaboratory.intrinsic+json": {
              "type": "string"
            },
            "text/plain": [
              "'I  will  go  to  Philadelphia  tomorrow'"
            ]
          },
          "metadata": {
            "tags": []
          },
          "execution_count": 26
        }
      ]
    },
    {
      "cell_type": "code",
      "metadata": {
        "id": "exFUMUU2P10V",
        "colab": {
          "base_uri": "https://localhost:8080/",
          "height": 35
        },
        "outputId": "300c9b00-5088-4257-9916-c8e35fc9fbbb"
      },
      "source": [
        "sparknlp_spell_check('I will go to Piladelphia tomorrow')"
      ],
      "execution_count": 27,
      "outputs": [
        {
          "output_type": "execute_result",
          "data": {
            "application/vnd.google.colaboratory.intrinsic+json": {
              "type": "string"
            },
            "text/plain": [
              "'I  will  go  to  Philadelphia  tomorrow'"
            ]
          },
          "metadata": {
            "tags": []
          },
          "execution_count": 27
        }
      ]
    },
    {
      "cell_type": "code",
      "metadata": {
        "id": "cskimhCBP7jm",
        "colab": {
          "base_uri": "https://localhost:8080/",
          "height": 35
        },
        "outputId": "edde97f9-579a-4400-f024-916c0690d67b"
      },
      "source": [
        "sparknlp_spell_check('I will go to Philadedlphia tomorrow')"
      ],
      "execution_count": 28,
      "outputs": [
        {
          "output_type": "execute_result",
          "data": {
            "application/vnd.google.colaboratory.intrinsic+json": {
              "type": "string"
            },
            "text/plain": [
              "'I  will  go  to  Philadelphia  tomorrow'"
            ]
          },
          "metadata": {
            "tags": []
          },
          "execution_count": 28
        }
      ]
    },
    {
      "cell_type": "code",
      "metadata": {
        "id": "FPzpMT5-QUg9",
        "colab": {
          "base_uri": "https://localhost:8080/",
          "height": 35
        },
        "outputId": "c727bb3d-7eb2-4ec3-aa6f-950aa953b8d4"
      },
      "source": [
        "sparknlp_spell_check('I will go to Phieladelphia tomorrow')"
      ],
      "execution_count": 29,
      "outputs": [
        {
          "output_type": "execute_result",
          "data": {
            "application/vnd.google.colaboratory.intrinsic+json": {
              "type": "string"
            },
            "text/plain": [
              "'I  will  go  to  Philadelphia  tomorrow'"
            ]
          },
          "metadata": {
            "tags": []
          },
          "execution_count": 29
        }
      ]
    },
    {
      "cell_type": "code",
      "metadata": {
        "id": "eHESDrGyQ5aT"
      },
      "source": [
        ""
      ],
      "execution_count": null,
      "outputs": []
    }
  ]
}
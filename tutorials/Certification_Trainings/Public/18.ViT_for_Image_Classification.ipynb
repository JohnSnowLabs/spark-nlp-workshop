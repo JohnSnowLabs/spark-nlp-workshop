{
  "cells": [
    {
      "cell_type": "markdown",
      "metadata": {
        "id": "v8xIEZ07QpRM",
        "outputId": "b5f5db4b-bce4-4b62-883f-3b3e90a3f1cd"
      },
      "source": [
        "![JohnSnowLabs](https://nlp.johnsnowlabs.com/assets/images/logo.png)\n",
        "\n",
        "[![Open In Colab](https://colab.research.google.com/assets/colab-badge.svg)](https://colab.research.google.com/github/JohnSnowLabs/spark-nlp-workshop/blob/master/tutorials/Certification_Trainings/Public/18.ViT_for_Image_Classification.ipynb)"
      ]
    },
    {
      "cell_type": "markdown",
      "source": [
        "# ViT for Image Classification with Transformers"
      ],
      "metadata": {
        "id": "GZx3ReWigu_W"
      }
    },
    {
      "cell_type": "markdown",
      "source": [
        "## Install Spark NLP"
      ],
      "metadata": {
        "id": "SSgvnsj_Etcq"
      }
    },
    {
      "cell_type": "code",
      "execution_count": null,
      "metadata": {
        "id": "Q0HMq9H5Wdb3"
      },
      "outputs": [],
      "source": [
        "!wget -q https://setup.johnsnowlabs.com/colab.sh -O - | bash /dev/stdin -p 3.2.1 -s 4.1.0"
      ]
    },
    {
      "cell_type": "code",
      "source": [
        "import sparknlp\n",
        "from sparknlp.base import *\n",
        "from sparknlp.annotator import *\n",
        "from pyspark.sql import functions as F\n",
        "from pyspark.sql import SparkSession\n",
        "\n",
        "spark = sparknlp.start()\n",
        "spark"
      ],
      "metadata": {
        "colab": {
          "base_uri": "https://localhost:8080/",
          "height": 219
        },
        "id": "1DRf_M0KlMV7",
        "outputId": "b8dc1f0f-7cad-49e5-f7d3-4b26f4220560"
      },
      "execution_count": 1,
      "outputs": [
        {
          "output_type": "execute_result",
          "data": {
            "text/plain": [
              "<pyspark.sql.session.SparkSession at 0x7fea5acc1f90>"
            ],
            "text/html": [
              "\n",
              "            <div>\n",
              "                <p><b>SparkSession - in-memory</b></p>\n",
              "                \n",
              "        <div>\n",
              "            <p><b>SparkContext</b></p>\n",
              "\n",
              "            <p><a href=\"http://a5e25c1fbb7e:4040\">Spark UI</a></p>\n",
              "\n",
              "            <dl>\n",
              "              <dt>Version</dt>\n",
              "                <dd><code>v3.2.1</code></dd>\n",
              "              <dt>Master</dt>\n",
              "                <dd><code>local[*]</code></dd>\n",
              "              <dt>AppName</dt>\n",
              "                <dd><code>Spark NLP</code></dd>\n",
              "            </dl>\n",
              "        </div>\n",
              "        \n",
              "            </div>\n",
              "        "
            ]
          },
          "metadata": {},
          "execution_count": 1
        }
      ]
    },
    {
      "cell_type": "markdown",
      "metadata": {
        "id": "6KvNW4MU5rrF",
        "outputId": "36cf722b-f3a6-4566-8217-615cc58dc549"
      },
      "source": [
        "## 1. ViTForImageClassification Annotator"
      ]
    },
    {
      "cell_type": "markdown",
      "metadata": {
        "id": "MCYoj17IWdb6"
      },
      "source": [
        "The Vision Transformer (ViT) model was proposed in [\"An Image is Worth 16x16 Words: Transformers for Image Recognition at Scale\"](https://arxiv.org/pdf/2010.11929.pdf) written by Alexey Dosovitskiy et al. in 2021. It is the first paper that successfully trains a Transformer encoder on ImageNet, attaining very good results compared to familiar convolutional architectures.  \n",
        "\n",
        "When pre-trained on large amounts of data and transferred to multiple mid-sized or small image recognition benchmarks (ImageNet, CIFAR-100, VTAB, etc.), Vision Transformer (ViT) attains excellent results compared to state-of-the-art convolutional networks while requiring substantially fewer computational resources to train.  \n",
        "\n",
        "Inspired by the Transformer scaling successes in NLP, the researchers experimented with applying a standard Transformer directly to images, with the fewest possible modifications. To do so,  images are split into patches and the sequence of linear embeddings of these patches were provided as an input to a  Transformer. Image patches were actually treated the same way as tokens (words) in an NLP application. Image classification models were trained in supervised fashion.  \n",
        "\n",
        "You can find all ViT models and more in [NLP Models Hub](https://nlp.johnsnowlabs.com/models?q=ViT&type=model)."
      ]
    },
    {
      "cell_type": "markdown",
      "source": [
        "## 2. Blogposts and videos:\n",
        "\n",
        "\n",
        "\n",
        "*   [Vision Transformer (ViT) - Hugging Face](https://huggingface.co/docs/transformers/model_doc/vit)\n",
        "*   [Scale Vision Transformers (ViT) Beyond Hugging Face](https://hackernoon.com/scale-vision-transformers-vit-beyond-hugging-face)\n",
        "*   [Vision Transformers (ViT) in Image Recognition – 2022 Guide](https://viso.ai/deep-learning/vision-transformer-vit/)\n",
        "*   [Image Classification using Huggingface ViT | by Kenji Tee](https://medium.com/@kenjiteezhen/image-classification-using-huggingface-vit-261888bfa19f)\n",
        "*   [Vision Transformer for Image Classification - Video](https://www.youtube.com/watch?v=HZ4j_U3FC94)\n",
        "*   [Using Transformers for Image Classification | HuggingFace - Video](https://www.youtube.com/watch?v=Bjp7hebC67E)\n",
        "\n",
        "\n",
        "\n",
        "\n",
        "\n"
      ],
      "metadata": {
        "id": "sNbWuMVpgcB2"
      }
    },
    {
      "cell_type": "markdown",
      "metadata": {
        "id": "FaN1OWV0NQ5T"
      },
      "source": [
        "## 3. Download Images"
      ]
    },
    {
      "cell_type": "code",
      "source": [
        "!wget -q https://s3.amazonaws.com/auxdata.johnsnowlabs.com/public/resources/en/images/images.zip"
      ],
      "metadata": {
        "id": "JveXZ7wGe2Km"
      },
      "execution_count": null,
      "outputs": []
    },
    {
      "cell_type": "code",
      "source": [
        "import shutil\n",
        "shutil.unpack_archive(\"images.zip\", \"images\", \"zip\")"
      ],
      "metadata": {
        "id": "rmRmnheDfmtb"
      },
      "execution_count": 6,
      "outputs": []
    },
    {
      "cell_type": "markdown",
      "metadata": {
        "id": "J86YU794UYEG"
      },
      "source": [
        "## 4. Pipeline with ViTForImageClassification"
      ]
    },
    {
      "cell_type": "code",
      "execution_count": 2,
      "metadata": {
        "id": "99AqJEThSBuT"
      },
      "outputs": [],
      "source": [
        "data_df = spark.read.format(\"image\").option(\"dropInvalid\", value = True).load(path=\"/content/images/images/\")"
      ]
    },
    {
      "cell_type": "code",
      "execution_count": 3,
      "metadata": {
        "colab": {
          "base_uri": "https://localhost:8080/"
        },
        "id": "tRyju8D-6XJ1",
        "outputId": "f943d198-1bbe-4037-b394-940cbca59c3f"
      },
      "outputs": [
        {
          "output_type": "stream",
          "name": "stdout",
          "text": [
            "image_classifier_vit_base_patch16_224 download started this may take some time.\n",
            "Approximate size to download 309.7 MB\n",
            "[OK!]\n"
          ]
        }
      ],
      "source": [
        "image_assembler = ImageAssembler() \\\n",
        "    .setInputCol(\"image\") \\\n",
        "    .setOutputCol(\"image_assembler\")\n",
        "\n",
        "image_classifier = ViTForImageClassification \\\n",
        "    .pretrained() \\\n",
        "    .setInputCols(\"image_assembler\") \\\n",
        "    .setOutputCol(\"classes\")\n",
        "\n",
        "pipeline = Pipeline(stages=[\n",
        "    image_assembler,\n",
        "    image_classifier,\n",
        "])\n",
        "\n",
        "model = pipeline.fit(data_df)"
      ]
    },
    {
      "cell_type": "code",
      "source": [
        "# lets check the counts of classes in this model\n",
        "\n",
        "len(image_classifier.getClasses())"
      ],
      "metadata": {
        "colab": {
          "base_uri": "https://localhost:8080/"
        },
        "id": "pnKEAbitFJeY",
        "outputId": "ee79af00-649d-4776-a3c2-ae9491c0a488"
      },
      "execution_count": 4,
      "outputs": [
        {
          "output_type": "execute_result",
          "data": {
            "text/plain": [
              "999"
            ]
          },
          "metadata": {},
          "execution_count": 4
        }
      ]
    },
    {
      "cell_type": "markdown",
      "source": [
        "Lets transform the data."
      ],
      "metadata": {
        "id": "ZElDBWlaFWV5"
      }
    },
    {
      "cell_type": "code",
      "execution_count": 5,
      "metadata": {
        "id": "XIYjEhW3O_Uc"
      },
      "outputs": [],
      "source": [
        "image_df = model.transform(data_df)"
      ]
    },
    {
      "cell_type": "code",
      "source": [
        "image_df.printSchema()"
      ],
      "metadata": {
        "colab": {
          "base_uri": "https://localhost:8080/"
        },
        "id": "xLR7dlaeBTNJ",
        "outputId": "7ed33617-b4f9-4507-c15f-d6e0c82b7f6a"
      },
      "execution_count": 6,
      "outputs": [
        {
          "output_type": "stream",
          "name": "stdout",
          "text": [
            "root\n",
            " |-- image: struct (nullable = true)\n",
            " |    |-- origin: string (nullable = true)\n",
            " |    |-- height: integer (nullable = true)\n",
            " |    |-- width: integer (nullable = true)\n",
            " |    |-- nChannels: integer (nullable = true)\n",
            " |    |-- mode: integer (nullable = true)\n",
            " |    |-- data: binary (nullable = true)\n",
            " |-- image_assembler: array (nullable = true)\n",
            " |    |-- element: struct (containsNull = true)\n",
            " |    |    |-- annotatorType: string (nullable = true)\n",
            " |    |    |-- origin: string (nullable = true)\n",
            " |    |    |-- height: integer (nullable = false)\n",
            " |    |    |-- width: integer (nullable = false)\n",
            " |    |    |-- nChannels: integer (nullable = false)\n",
            " |    |    |-- mode: integer (nullable = false)\n",
            " |    |    |-- result: binary (nullable = true)\n",
            " |    |    |-- metadata: map (nullable = true)\n",
            " |    |    |    |-- key: string\n",
            " |    |    |    |-- value: string (valueContainsNull = true)\n",
            " |-- classes: array (nullable = true)\n",
            " |    |-- element: struct (containsNull = true)\n",
            " |    |    |-- annotatorType: string (nullable = true)\n",
            " |    |    |-- begin: integer (nullable = false)\n",
            " |    |    |-- end: integer (nullable = false)\n",
            " |    |    |-- result: string (nullable = true)\n",
            " |    |    |-- metadata: map (nullable = true)\n",
            " |    |    |    |-- key: string\n",
            " |    |    |    |-- value: string (valueContainsNull = true)\n",
            " |    |    |-- embeddings: array (nullable = true)\n",
            " |    |    |    |-- element: float (containsNull = false)\n",
            "\n"
          ]
        }
      ]
    },
    {
      "cell_type": "code",
      "source": [
        "image_df.show(truncate=40)"
      ],
      "metadata": {
        "colab": {
          "base_uri": "https://localhost:8080/"
        },
        "id": "4xNoXjAJhKZf",
        "outputId": "8312ea41-b571-45ab-e9fb-9308a5c0fb14"
      },
      "execution_count": 7,
      "outputs": [
        {
          "output_type": "stream",
          "name": "stdout",
          "text": [
            "+----------------------------------------+----------------------------------------+----------------------------------------+\n",
            "|                                   image|                         image_assembler|                                 classes|\n",
            "+----------------------------------------+----------------------------------------+----------------------------------------+\n",
            "|{file:///content/images/images/palace...|[{image, file:///content/images/image...|[{category, 0, 5, palace, {nChannels ...|\n",
            "|{file:///content/images/images/egypti...|[{image, file:///content/images/image...|[{category, 0, 11, Egyptian cat, {nCh...|\n",
            "|{file:///content/images/images/hippop...|[{image, file:///content/images/image...|[{category, 0, 55, hippopotamus, hipp...|\n",
            "|{file:///content/images/images/hen.JP...|[{image, file:///content/images/image...|[{category, 0, 2, hen, {nChannels -> ...|\n",
            "|{file:///content/images/images/ostric...|[{image, file:///content/images/image...|[{category, 0, 24, ostrich, Struthio ...|\n",
            "|{file:///content/images/images/junco....|[{image, file:///content/images/image...|[{category, 0, 14, junco, snowbird, {...|\n",
            "|{file:///content/images/images/blueti...|[{image, file:///content/images/image...|[{category, 0, 7, bluetick, {nChannel...|\n",
            "|{file:///content/images/images/chihua...|[{image, file:///content/images/image...|[{category, 0, 8, Chihuahua, {nChanne...|\n",
            "|{file:///content/images/images/tracto...|[{image, file:///content/images/image...|[{category, 0, 6, tractor, {nChannels...|\n",
            "|{file:///content/images/images/ox.JPE...|[{image, file:///content/images/image...|[{category, 0, 1, ox, {nChannels -> 3...|\n",
            "+----------------------------------------+----------------------------------------+----------------------------------------+\n",
            "\n"
          ]
        }
      ]
    },
    {
      "cell_type": "markdown",
      "source": [
        "Now we can check the classes. "
      ],
      "metadata": {
        "id": "22ZnwsJGFa27"
      }
    },
    {
      "cell_type": "code",
      "source": [
        "image_df.select('classes').show(truncate=False)"
      ],
      "metadata": {
        "colab": {
          "base_uri": "https://localhost:8080/"
        },
        "id": "QwV37iIaA3WC",
        "outputId": "7c43856d-5865-4510-b509-c990e2ce65aa"
      },
      "execution_count": 8,
      "outputs": [
        {
          "output_type": "stream",
          "name": "stdout",
          "text": [
            "+----------------------------------------------------------------------------------------------------------------------------------------------------------------------------------------------------------------------------------------------------------------------------------------------------------------------------------------------------------------------------------------------------------------------------------------------------------------------------------------------------------------------------------------------------------------------------------------+\n",
            "|classes                                                                                                                                                                                                                                                                                                                                                                                                                                                                                                                                                                                 |\n",
            "+----------------------------------------------------------------------------------------------------------------------------------------------------------------------------------------------------------------------------------------------------------------------------------------------------------------------------------------------------------------------------------------------------------------------------------------------------------------------------------------------------------------------------------------------------------------------------------------+\n",
            "|[{category, 0, 5, palace, {nChannels -> 3, Some(lumbermill, sawmill) -> 6.3918626E-5, Some(beer glass) -> 8.879952E-6, image -> 0, Some(damselfly) -> 9.565601E-6, Some(turnstile) -> 6.315179E-5, Some(cockroach, roach) -> 1.1254103E-5, height -> 334, Some(bulbul) -> 3.3210792E-5, Some(sea snake) -> 1.088606E-5, origin -> file:///content/images/images/palace.JPEG, Some(mixing bowl) -> 2.6203057E-5, mode -> 16, None -> 2.6135001E-5, Some(whippet) -> 1.3805158E-5, width -> 500, Some(buckle) -> 3.121465E-5}, []}]                                                       |\n",
            "|[{category, 0, 11, Egyptian cat, {nChannels -> 3, Some(lumbermill, sawmill) -> 1.1834591E-6, Some(beer glass) -> 1.3198685E-6, image -> 0, Some(damselfly) -> 1.2365372E-6, Some(turnstile) -> 9.2370436E-7, Some(cockroach, roach) -> 3.2593764E-6, height -> 480, Some(bulbul) -> 2.128185E-6, Some(sea snake) -> 1.1656906E-6, origin -> file:///content/images/images/egyptian_cat.jpeg, Some(mixing bowl) -> 3.7069615E-6, mode -> 16, None -> 2.7858362E-6, Some(whippet) -> 6.5504823E-6, width -> 640, Some(buckle) -> 2.647075E-6}, []}]                                       |\n",
            "|[{category, 0, 55, hippopotamus, hippo, river horse, Hippopotamus amphibius, {nChannels -> 3, Some(lumbermill, sawmill) -> 7.288288E-8, Some(beer glass) -> 9.048897E-8, image -> 0, Some(damselfly) -> 1.93798E-7, Some(turnstile) -> 6.8434616E-8, Some(cockroach, roach) -> 1.662287E-7, height -> 333, Some(bulbul) -> 1.6930248E-7, Some(sea snake) -> 8.895826E-8, origin -> file:///content/images/images/hippopotamus.JPEG, Some(mixing bowl) -> 1.2995415E-7, mode -> 16, None -> 1.3814632E-7, Some(whippet) -> 3.894029E-8, width -> 500, Some(buckle) -> 1.0061505E-7}, []}]|\n",
            "|[{category, 0, 2, hen, {nChannels -> 3, Some(lumbermill, sawmill) -> 2.1663831E-5, Some(beer glass) -> 3.0620342E-6, image -> 0, Some(damselfly) -> 5.847792E-6, Some(turnstile) -> 1.8546409E-6, Some(cockroach, roach) -> 2.535687E-6, height -> 375, Some(bulbul) -> 3.204934E-6, Some(sea snake) -> 2.8824022E-6, origin -> file:///content/images/images/hen.JPEG, Some(mixing bowl) -> 6.914804E-6, mode -> 16, None -> 2.824774E-6, Some(whippet) -> 4.599806E-7, width -> 500, Some(buckle) -> 1.6334538E-5}, []}]                                                              |\n",
            "|[{category, 0, 24, ostrich, Struthio camelus, {nChannels -> 3, Some(lumbermill, sawmill) -> 7.163873E-7, Some(beer glass) -> 1.5251099E-7, image -> 0, Some(damselfly) -> 8.200788E-7, Some(turnstile) -> 3.1787638E-7, Some(cockroach, roach) -> 2.0789672E-7, height -> 400, Some(bulbul) -> 3.0618966E-7, Some(sea snake) -> 2.3342254E-7, origin -> file:///content/images/images/ostrich.JPEG, Some(mixing bowl) -> 2.9132588E-7, mode -> 16, None -> 3.912017E-7, Some(whippet) -> 5.4421076E-7, width -> 300, Some(buckle) -> 1.6649105E-7}, []}]                                |\n",
            "|[{category, 0, 14, junco, snowbird, {nChannels -> 3, Some(lumbermill, sawmill) -> 4.4079545E-7, Some(beer glass) -> 2.991298E-7, image -> 0, Some(damselfly) -> 3.1948073E-7, Some(turnstile) -> 2.6585903E-7, Some(cockroach, roach) -> 3.5855072E-7, height -> 446, Some(bulbul) -> 3.5795701E-6, Some(sea snake) -> 2.7439143E-7, origin -> file:///content/images/images/junco.JPEG, Some(mixing bowl) -> 6.34288E-7, mode -> 16, None -> 3.554942E-7, Some(whippet) -> 2.4928724E-7, width -> 500, Some(buckle) -> 8.7153114E-7}, []}]                                             |\n",
            "|[{category, 0, 7, bluetick, {nChannels -> 3, Some(lumbermill, sawmill) -> 1.3846744E-6, Some(beer glass) -> 1.1807955E-6, image -> 0, Some(damselfly) -> 3.6875664E-7, Some(turnstile) -> 2.0236967E-6, Some(cockroach, roach) -> 6.298292E-7, height -> 500, Some(bulbul) -> 5.4175155E-7, Some(sea snake) -> 5.7421624E-7, origin -> file:///content/images/images/bluetick.jpg, Some(mixing bowl) -> 5.4001333E-7, mode -> 16, None -> 4.5454328E-7, Some(whippet) -> 1.2101438E-6, width -> 333, Some(buckle) -> 1.1306531E-6}, []}]                                                |\n",
            "|[{category, 0, 8, Chihuahua, {nChannels -> 3, Some(lumbermill, sawmill) -> 2.0938738E-7, Some(beer glass) -> 2.5774966E-7, image -> 0, Some(damselfly) -> 7.065103E-8, Some(turnstile) -> 5.0329146E-7, Some(cockroach, roach) -> 4.3412555E-7, height -> 500, Some(bulbul) -> 3.4132333E-7, Some(sea snake) -> 1.520777E-6, origin -> file:///content/images/images/chihuahua.jpg, Some(mixing bowl) -> 2.208615E-7, mode -> 16, None -> 3.1693938E-7, Some(whippet) -> 1.15233315E-5, width -> 333, Some(buckle) -> 3.492665E-6}, []}]                                                |\n",
            "|[{category, 0, 6, tractor, {nChannels -> 3, Some(lumbermill, sawmill) -> 4.105857E-5, Some(beer glass) -> 1.3166365E-6, image -> 0, Some(damselfly) -> 2.326683E-6, Some(turnstile) -> 1.6458906E-5, Some(cockroach, roach) -> 1.4807438E-6, height -> 174, Some(bulbul) -> 1.0093789E-6, Some(sea snake) -> 1.4689684E-6, origin -> file:///content/images/images/tractor.JPEG, Some(mixing bowl) -> 1.3967052E-6, mode -> 16, None -> 1.9897284E-6, Some(whippet) -> 1.2082157E-6, width -> 250, Some(buckle) -> 6.0837206E-6}, []}]                                                  |\n",
            "|[{category, 0, 1, ox, {nChannels -> 3, Some(lumbermill, sawmill) -> 3.7503962E-6, Some(beer glass) -> 5.382909E-7, image -> 0, Some(damselfly) -> 4.777563E-7, Some(turnstile) -> 1.1557369E-6, Some(cockroach, roach) -> 4.0108782E-7, height -> 265, Some(bulbul) -> 1.3971385E-6, Some(sea snake) -> 9.290322E-7, origin -> file:///content/images/images/ox.JPEG, Some(mixing bowl) -> 8.213778E-7, mode -> 16, None -> 2.5825003E-7, Some(whippet) -> 3.9196252E-7, width -> 360, Some(buckle) -> 1.9867023E-6}, []}]                                                              |\n",
            "+----------------------------------------------------------------------------------------------------------------------------------------------------------------------------------------------------------------------------------------------------------------------------------------------------------------------------------------------------------------------------------------------------------------------------------------------------------------------------------------------------------------------------------------------------------------------------------------+\n",
            "\n"
          ]
        }
      ]
    },
    {
      "cell_type": "code",
      "source": [
        "image_df.select(F.explode(F.arrays_zip(image_df.classes.metadata, \n",
        "                                       image_df.classes.result)).alias(\"cols\"))\\\n",
        "        .select(F.expr(\"cols['0']['origin']\").alias(\"images\"),\n",
        "                F.expr(\"cols['0']['width']\").alias(\"width\"),\n",
        "                F.expr(\"cols['0']['height']\").alias(\"height\"),\n",
        "                F.expr(\"cols['1']\").alias(\"class\")).show(truncate=False)"
      ],
      "metadata": {
        "colab": {
          "base_uri": "https://localhost:8080/"
        },
        "id": "TJHw-746MNYS",
        "outputId": "efb4e7e7-ab2c-495e-825f-e44d06697d28"
      },
      "execution_count": 9,
      "outputs": [
        {
          "output_type": "stream",
          "name": "stdout",
          "text": [
            "+-----------------------------------------------+-----+------+--------------------------------------------------------+\n",
            "|images                                         |width|height|class                                                   |\n",
            "+-----------------------------------------------+-----+------+--------------------------------------------------------+\n",
            "|file:///content/images/images/palace.JPEG      |500  |334   |palace                                                  |\n",
            "|file:///content/images/images/egyptian_cat.jpeg|640  |480   |Egyptian cat                                            |\n",
            "|file:///content/images/images/hippopotamus.JPEG|500  |333   |hippopotamus, hippo, river horse, Hippopotamus amphibius|\n",
            "|file:///content/images/images/hen.JPEG         |500  |375   |hen                                                     |\n",
            "|file:///content/images/images/ostrich.JPEG     |300  |400   |ostrich, Struthio camelus                               |\n",
            "|file:///content/images/images/junco.JPEG       |500  |446   |junco, snowbird                                         |\n",
            "|file:///content/images/images/bluetick.jpg     |333  |500   |bluetick                                                |\n",
            "|file:///content/images/images/chihuahua.jpg    |333  |500   |Chihuahua                                               |\n",
            "|file:///content/images/images/tractor.JPEG     |250  |174   |tractor                                                 |\n",
            "|file:///content/images/images/ox.JPEG          |360  |265   |ox                                                      |\n",
            "+-----------------------------------------------+-----+------+--------------------------------------------------------+\n",
            "\n"
          ]
        }
      ]
    },
    {
      "cell_type": "markdown",
      "metadata": {
        "id": "Rfp5MK1UxoNt"
      },
      "source": [
        "## 5. Light Pipeline"
      ]
    },
    {
      "cell_type": "markdown",
      "metadata": {
        "id": "-_6VJPS9xvfV"
      },
      "source": [
        "To use light pipeline in ViT transformer, we need to use the new method [`fullAnnotateImage`](https://nlp.johnsnowlabs.com/api/python/reference/autosummary/sparknlp/base/light_pipeline/index.html)."
      ]
    },
    {
      "cell_type": "code",
      "execution_count": 11,
      "metadata": {
        "id": "asf3MZGzyXl5",
        "colab": {
          "base_uri": "https://localhost:8080/"
        },
        "outputId": "f53791d4-b982-4f15-e662-05e6e619fac9"
      },
      "outputs": [
        {
          "output_type": "execute_result",
          "data": {
            "text/plain": [
              "dict_keys(['image_assembler', 'classes'])"
            ]
          },
          "metadata": {},
          "execution_count": 11
        }
      ],
      "source": [
        "light_pipeline = LightPipeline(model)\n",
        "\n",
        "image_list = [\"/content/images/images/bluetick.jpg\", \"/content/images/images/palace.JPEG\", \"/content/images/images/hen.JPEG\"]\n",
        "annotations_result = light_pipeline.fullAnnotateImage(image_list)\n",
        "annotations_result[0].keys()"
      ]
    },
    {
      "cell_type": "code",
      "source": [
        "import pandas as pd\n",
        "\n",
        "file_name = []\n",
        "classes = []\n",
        "\n",
        "for i in annotations_result:\n",
        "\n",
        "    file_name.append(i[\"image_assembler\"][0].origin.split(\"/\")[-1])\n",
        "    classes.append(i[\"classes\"][0].result) \n",
        "    \n",
        "\n",
        "df_images = pd.DataFrame({'file':file_name,\n",
        "                          'class':classes})\n",
        "\n",
        "df_images"
      ],
      "metadata": {
        "colab": {
          "base_uri": "https://localhost:8080/",
          "height": 143
        },
        "id": "4XikeDhMzRkK",
        "outputId": "09ebb380-4379-40d5-830c-854ff873255f"
      },
      "execution_count": 12,
      "outputs": [
        {
          "output_type": "execute_result",
          "data": {
            "text/plain": [
              "           file     class\n",
              "0  bluetick.jpg  bluetick\n",
              "1   palace.JPEG    palace\n",
              "2      hen.JPEG       hen"
            ],
            "text/html": [
              "\n",
              "  <div id=\"df-d47ceeeb-9155-4bc5-bc25-b2c9b7816a51\">\n",
              "    <div class=\"colab-df-container\">\n",
              "      <div>\n",
              "<style scoped>\n",
              "    .dataframe tbody tr th:only-of-type {\n",
              "        vertical-align: middle;\n",
              "    }\n",
              "\n",
              "    .dataframe tbody tr th {\n",
              "        vertical-align: top;\n",
              "    }\n",
              "\n",
              "    .dataframe thead th {\n",
              "        text-align: right;\n",
              "    }\n",
              "</style>\n",
              "<table border=\"1\" class=\"dataframe\">\n",
              "  <thead>\n",
              "    <tr style=\"text-align: right;\">\n",
              "      <th></th>\n",
              "      <th>file</th>\n",
              "      <th>class</th>\n",
              "    </tr>\n",
              "  </thead>\n",
              "  <tbody>\n",
              "    <tr>\n",
              "      <th>0</th>\n",
              "      <td>bluetick.jpg</td>\n",
              "      <td>bluetick</td>\n",
              "    </tr>\n",
              "    <tr>\n",
              "      <th>1</th>\n",
              "      <td>palace.JPEG</td>\n",
              "      <td>palace</td>\n",
              "    </tr>\n",
              "    <tr>\n",
              "      <th>2</th>\n",
              "      <td>hen.JPEG</td>\n",
              "      <td>hen</td>\n",
              "    </tr>\n",
              "  </tbody>\n",
              "</table>\n",
              "</div>\n",
              "      <button class=\"colab-df-convert\" onclick=\"convertToInteractive('df-d47ceeeb-9155-4bc5-bc25-b2c9b7816a51')\"\n",
              "              title=\"Convert this dataframe to an interactive table.\"\n",
              "              style=\"display:none;\">\n",
              "        \n",
              "  <svg xmlns=\"http://www.w3.org/2000/svg\" height=\"24px\"viewBox=\"0 0 24 24\"\n",
              "       width=\"24px\">\n",
              "    <path d=\"M0 0h24v24H0V0z\" fill=\"none\"/>\n",
              "    <path d=\"M18.56 5.44l.94 2.06.94-2.06 2.06-.94-2.06-.94-.94-2.06-.94 2.06-2.06.94zm-11 1L8.5 8.5l.94-2.06 2.06-.94-2.06-.94L8.5 2.5l-.94 2.06-2.06.94zm10 10l.94 2.06.94-2.06 2.06-.94-2.06-.94-.94-2.06-.94 2.06-2.06.94z\"/><path d=\"M17.41 7.96l-1.37-1.37c-.4-.4-.92-.59-1.43-.59-.52 0-1.04.2-1.43.59L10.3 9.45l-7.72 7.72c-.78.78-.78 2.05 0 2.83L4 21.41c.39.39.9.59 1.41.59.51 0 1.02-.2 1.41-.59l7.78-7.78 2.81-2.81c.8-.78.8-2.07 0-2.86zM5.41 20L4 18.59l7.72-7.72 1.47 1.35L5.41 20z\"/>\n",
              "  </svg>\n",
              "      </button>\n",
              "      \n",
              "  <style>\n",
              "    .colab-df-container {\n",
              "      display:flex;\n",
              "      flex-wrap:wrap;\n",
              "      gap: 12px;\n",
              "    }\n",
              "\n",
              "    .colab-df-convert {\n",
              "      background-color: #E8F0FE;\n",
              "      border: none;\n",
              "      border-radius: 50%;\n",
              "      cursor: pointer;\n",
              "      display: none;\n",
              "      fill: #1967D2;\n",
              "      height: 32px;\n",
              "      padding: 0 0 0 0;\n",
              "      width: 32px;\n",
              "    }\n",
              "\n",
              "    .colab-df-convert:hover {\n",
              "      background-color: #E2EBFA;\n",
              "      box-shadow: 0px 1px 2px rgba(60, 64, 67, 0.3), 0px 1px 3px 1px rgba(60, 64, 67, 0.15);\n",
              "      fill: #174EA6;\n",
              "    }\n",
              "\n",
              "    [theme=dark] .colab-df-convert {\n",
              "      background-color: #3B4455;\n",
              "      fill: #D2E3FC;\n",
              "    }\n",
              "\n",
              "    [theme=dark] .colab-df-convert:hover {\n",
              "      background-color: #434B5C;\n",
              "      box-shadow: 0px 1px 3px 1px rgba(0, 0, 0, 0.15);\n",
              "      filter: drop-shadow(0px 1px 2px rgba(0, 0, 0, 0.3));\n",
              "      fill: #FFFFFF;\n",
              "    }\n",
              "  </style>\n",
              "\n",
              "      <script>\n",
              "        const buttonEl =\n",
              "          document.querySelector('#df-d47ceeeb-9155-4bc5-bc25-b2c9b7816a51 button.colab-df-convert');\n",
              "        buttonEl.style.display =\n",
              "          google.colab.kernel.accessAllowed ? 'block' : 'none';\n",
              "\n",
              "        async function convertToInteractive(key) {\n",
              "          const element = document.querySelector('#df-d47ceeeb-9155-4bc5-bc25-b2c9b7816a51');\n",
              "          const dataTable =\n",
              "            await google.colab.kernel.invokeFunction('convertToInteractive',\n",
              "                                                     [key], {});\n",
              "          if (!dataTable) return;\n",
              "\n",
              "          const docLinkHtml = 'Like what you see? Visit the ' +\n",
              "            '<a target=\"_blank\" href=https://colab.research.google.com/notebooks/data_table.ipynb>data table notebook</a>'\n",
              "            + ' to learn more about interactive tables.';\n",
              "          element.innerHTML = '';\n",
              "          dataTable['output_type'] = 'display_data';\n",
              "          await google.colab.output.renderOutput(dataTable, element);\n",
              "          const docLink = document.createElement('div');\n",
              "          docLink.innerHTML = docLinkHtml;\n",
              "          element.appendChild(docLink);\n",
              "        }\n",
              "      </script>\n",
              "    </div>\n",
              "  </div>\n",
              "  "
            ]
          },
          "metadata": {},
          "execution_count": 12
        }
      ]
    }
  ],
  "metadata": {
    "colab": {
      "provenance": [],
      "collapsed_sections": [],
      "machine_shape": "hm"
    },
    "kernelspec": {
      "display_name": "Python 3",
      "language": "python",
      "name": "python3"
    },
    "language_info": {
      "codemirror_mode": {
        "name": "ipython",
        "version": 3
      },
      "file_extension": ".py",
      "mimetype": "text/x-python",
      "name": "python",
      "nbconvert_exporter": "python",
      "pygments_lexer": "ipython3",
      "version": "3.8.10"
    },
    "accelerator": "GPU"
  },
  "nbformat": 4,
  "nbformat_minor": 0
}
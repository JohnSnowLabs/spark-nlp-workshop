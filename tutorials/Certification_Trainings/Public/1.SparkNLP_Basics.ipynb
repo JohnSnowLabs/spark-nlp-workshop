{
 "cells": [
  {
   "cell_type": "markdown",
   "metadata": {
    "colab_type": "text",
    "id": "3inuQHTI-G-P"
   },
   "source": [
    "![JohnSnowLabs](https://nlp.johnsnowlabs.com/assets/images/logo.png)"
   ]
  },
  {
   "cell_type": "markdown",
   "metadata": {
    "colab_type": "text",
    "id": "0Cd4gz6vxHiQ"
   },
   "source": [
    "[![Open In Colab](https://colab.research.google.com/assets/colab-badge.svg)](https://colab.research.google.com/github/JohnSnowLabs/spark-nlp-workshop/blob/master/tutorials/Certification_Trainings/Public/1.SparkNLP_Basics.ipynb)"
   ]
  },
  {
   "cell_type": "markdown",
   "metadata": {
    "colab_type": "text",
    "id": "rXqTJvvh-MCU"
   },
   "source": [
    "# Spark NLP Basics and Pretrained Pipelines"
   ]
  },
  {
   "cell_type": "markdown",
   "metadata": {
    "colab_type": "text",
    "id": "SqF9bPKCooXx"
   },
   "source": [
    "## 0. Colab Setup"
   ]
  },
  {
   "cell_type": "code",
   "execution_count": 1,
   "metadata": {
    "colab": {
     "base_uri": "https://localhost:8080/",
     "height": 136
    },
    "colab_type": "code",
    "id": "Wes9qAN7oekN",
    "outputId": "9fc5373f-ad53-4dc5-dd43-e7cc5b30e768"
   },
   "outputs": [
    {
     "name": "stdout",
     "output_type": "stream",
     "text": [
      "openjdk version \"1.8.0_252\"\n",
      "OpenJDK Runtime Environment (build 1.8.0_252-8u252-b09-1~18.04-b09)\n",
      "OpenJDK 64-Bit Server VM (build 25.252-b09, mixed mode)\n",
      "\u001b[K     |████████████████████████████████| 215.7MB 55kB/s \n",
      "\u001b[K     |████████████████████████████████| 204kB 44.1MB/s \n",
      "\u001b[?25h  Building wheel for pyspark (setup.py) ... \u001b[?25l\u001b[?25hdone\n",
      "\u001b[K     |████████████████████████████████| 133kB 3.5MB/s \n",
      "\u001b[?25h"
     ]
    }
   ],
   "source": [
    "import os\n",
    "\n",
    "# Install java\n",
    "! apt-get update -qq\n",
    "! apt-get install -y openjdk-8-jdk-headless -qq > /dev/null\n",
    "\n",
    "os.environ[\"JAVA_HOME\"] = \"/usr/lib/jvm/java-8-openjdk-amd64\"\n",
    "os.environ[\"PATH\"] = os.environ[\"JAVA_HOME\"] + \"/bin:\" + os.environ[\"PATH\"]\n",
    "! java -version\n",
    "\n",
    "# Install pyspark\n",
    "! pip install --ignore-installed -q pyspark==2.4.4\n",
    "! pip install --ignore-installed -q spark-nlp==2.5.4"
   ]
  },
  {
   "cell_type": "markdown",
   "metadata": {
    "colab_type": "text",
    "id": "_fY1OKFVE_Z5"
   },
   "source": [
    "\n",
    "#### **How to prevent Google Colab from disconnecting?**\n",
    "\n",
    "Google Colab notebooks have an idle timeout of 90 minutes and absolute timeout of 12 hours. This means, if user does not interact with his Google Colab notebook for more than 90 minutes, its instance is automatically terminated. Also, maximum lifetime of a Colab instance is **12 hours.**\n",
    "\n",
    "Set a javascript interval to click on the connect button every 60 seconds. Open developer-settings (in your web-browser) with Ctrl+Shift+I then click on console tab and type this on the console prompt. (for mac press Option+Command+I)\n",
    "\n"
   ]
  },
  {
   "cell_type": "code",
   "execution_count": null,
   "metadata": {
    "colab": {},
    "colab_type": "code",
    "id": "sm0FTPdGE_Z6"
   },
   "outputs": [],
   "source": [
    "''' \n",
    "\n",
    "function ConnectButton(){\n",
    "    console.log(\"Connect pushed\"); \n",
    "    document.querySelector(\"#top-toolbar > colab-connect-button\").shadowRoot.querySelector(\"#connect\").click() \n",
    "}\n",
    "setInterval(ConnectButton,60000);\n",
    "\n",
    "'''"
   ]
  },
  {
   "cell_type": "markdown",
   "metadata": {
    "colab_type": "text",
    "id": "ODtmoBwfoX3T"
   },
   "source": [
    "## 1. Start Spark Session"
   ]
  },
  {
   "cell_type": "code",
   "execution_count": 2,
   "metadata": {
    "colab": {
     "base_uri": "https://localhost:8080/",
     "height": 51
    },
    "colab_type": "code",
    "id": "5q8yjPy8oUBj",
    "outputId": "8b1ae60d-cb0b-4c54-c2d0-6bab529b4a14"
   },
   "outputs": [
    {
     "name": "stdout",
     "output_type": "stream",
     "text": [
      "Spark NLP version 2.5.4\n",
      "Apache Spark version: 2.4.4\n"
     ]
    }
   ],
   "source": [
    "import sparknlp\n",
    "\n",
    "spark = sparknlp.start()\n",
    "\n",
    "# params =>> gpu=False, spark23=False\n",
    "\n",
    "print(\"Spark NLP version\", sparknlp.version())\n",
    "\n",
    "print(\"Apache Spark version:\", spark.version)\n"
   ]
  },
  {
   "cell_type": "markdown",
   "metadata": {
    "colab_type": "text",
    "id": "yKCrnOyoE_aC"
   },
   "source": [
    "`sparknlp.start()` will start or get SparkSession with predefined parameters hardcoded in `spark-nlp/python/sparknlp/__init__.py`. here is what is going on under the hood when you run `sparknlp.start()` "
   ]
  },
  {
   "cell_type": "code",
   "execution_count": null,
   "metadata": {
    "colab": {},
    "colab_type": "code",
    "id": "c0_ek2r-E_aC"
   },
   "outputs": [],
   "source": [
    "# https://github.com/JohnSnowLabs/spark-nlp/blob/master/python/sparknlp/__init__.py\n",
    "\n",
    "from pyspark.sql import SparkSession\n",
    "\n",
    "def start(gpu=False, spark23=False):\n",
    "    current_version=\"2.5.4\"\n",
    "    maven_spark24 = \"com.johnsnowlabs.nlp:spark-nlp_2.11:{}\".format(current_version)\n",
    "    maven_gpu_spark24 = \"com.johnsnowlabs.nlp:spark-nlp-gpu_2.11:{}\".format(current_version)\n",
    "    maven_spark23 = \"com.johnsnowlabs.nlp:spark-nlp-spark23_2.11:{}\".format(current_version)\n",
    "    maven_gpu_spark23 = \"com.johnsnowlabs.nlp:spark-nlp-gpu-spark23_2.11:{}\".format(current_version)\n",
    "\n",
    "    builder = SparkSession.builder \\\n",
    "        .appName(\"Spark NLP\") \\\n",
    "        .master(\"local[*]\") \\\n",
    "        .config(\"spark.driver.memory\", \"16G\") \\\n",
    "        .config(\"spark.serializer\", \"org.apache.spark.serializer.KryoSerializer\") \\\n",
    "        .config(\"spark.kryoserializer.buffer.max\", \"1000M\") \\\n",
    "        .config(\"spark.driver.maxResultSize\", \"0\")\n",
    "    if gpu and spark23:\n",
    "        builder.config(\"spark.jars.packages\", maven_gpu_spark23)\n",
    "    elif spark23:\n",
    "        builder.config(\"spark.jars.packages\", maven_spark23)\n",
    "    elif gpu:\n",
    "        builder.config(\"spark.jars.packages\", maven_gpu_spark24)\n",
    "    else:\n",
    "        builder.config(\"spark.jars.packages\", maven_spark24)\n",
    "        \n",
    "    return builder.getOrCreate()\n"
   ]
  },
  {
   "cell_type": "markdown",
   "metadata": {
    "colab_type": "text",
    "id": "mAf-5_ZYE_aF"
   },
   "source": [
    "If you want to start `SparkSession` with your own parameters or you need to load the required jars/packages from your local disk, or you have no internet connection (that would be needed to pull the required packages from internet), you can skip `sparknlp.start()` and start your session manually as shown below.\n"
   ]
  },
  {
   "cell_type": "code",
   "execution_count": null,
   "metadata": {
    "colab": {},
    "colab_type": "code",
    "id": "SclslGCKE_aG"
   },
   "outputs": [],
   "source": [
    "\"\"\"\n",
    "from pyspark.sql import SparkSession\n",
    "\n",
    "spark = SparkSession.builder \\\n",
    "    .appName(\"Spark NLP Enterprise 2.4.5\") \\\n",
    "    .master(\"local[8]\") \\\n",
    "    .config(\"spark.driver.memory\",\"12G\") \\\n",
    "    .config(\"spark.driver.maxResultSize\", \"2G\") \\\n",
    "    .config(\"spark.serializer\", \"org.apache.spark.serializer.KryoSerializer\") \\\n",
    "    .config(\"spark.kryoserializer.buffer.max\", \"800M\")\\\n",
    "    .config(\"spark.jars\", \"{}spark-nlp-2.4.5.jar,{}spark-nlp-jsl-2.4.5.jar\".format(jar_path,jar_path)) \\\n",
    "    .getOrCreate()\n",
    "    \n",
    "\"\"\""
   ]
  },
  {
   "cell_type": "markdown",
   "metadata": {
    "colab_type": "text",
    "id": "9ZeUkpmGINW5"
   },
   "source": [
    "CPU on Apache Spark 2.4.x: https://s3.amazonaws.com/auxdata.johnsnowlabs.com/public/spark-nlp-assembly-2.5.4.jar\n",
    "\n",
    "GPU on Apache Spark 2.4.x: https://s3.amazonaws.com/auxdata.johnsnowlabs.com/public/spark-nlp-gpu-assembly-2.5.4.jar\n",
    "\n",
    "CPU on Apache Spark 2.3.x: https://s3.amazonaws.com/auxdata.johnsnowlabs.com/public/spark-nlp-spark23-assembly-2.5.4.jar\n",
    "\n",
    "GPU on Apache Spark 2.3.x: https://s3.amazonaws.com/auxdata.johnsnowlabs.com/public/spark-nlp-spark23-gpu-assembly-2.5.4.jar"
   ]
  },
  {
   "cell_type": "markdown",
   "metadata": {
    "colab_type": "text",
    "id": "YPJy2G5Zp56w"
   },
   "source": [
    "## 2. Using Pretrained Pipelines"
   ]
  },
  {
   "cell_type": "markdown",
   "metadata": {
    "colab_type": "text",
    "id": "e1Gy-bYBrLyT"
   },
   "source": [
    "https://github.com/JohnSnowLabs/spark-nlp-models"
   ]
  },
  {
   "cell_type": "markdown",
   "metadata": {
    "colab_type": "text",
    "id": "-fIQuF6crGSl"
   },
   "source": [
    "![image.png](data:image/png;base64,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)"
   ]
  },
  {
   "cell_type": "code",
   "execution_count": 4,
   "metadata": {
    "colab": {},
    "colab_type": "code",
    "id": "SgFMrbinpN5_"
   },
   "outputs": [],
   "source": [
    "from sparknlp.pretrained import PretrainedPipeline"
   ]
  },
  {
   "cell_type": "code",
   "execution_count": null,
   "metadata": {
    "colab": {},
    "colab_type": "code",
    "id": "3jkUAIY8E_aP"
   },
   "outputs": [],
   "source": [
    "testDoc = '''\n",
    "Peter is a very good persn.\n",
    "My life in Russia is very intersting.\n",
    "John and Peter are brothrs. However they don't support each other that much.\n",
    "Lucas Nogal Dunbercker is no longer happy. He has a good car though.\n",
    "Europe is very culture rich. There are huge churches! and big houses!\n",
    "'''"
   ]
  },
  {
   "cell_type": "markdown",
   "metadata": {
    "colab_type": "text",
    "id": "Kn7jx6sJtCL1"
   },
   "source": [
    "### Explain Document ML"
   ]
  },
  {
   "cell_type": "markdown",
   "metadata": {
    "colab_type": "text",
    "id": "HK5Tz3ChtJfq"
   },
   "source": [
    "**Stages**\n",
    "- DocumentAssembler\n",
    "- SentenceDetector\n",
    "- Tokenizer\n",
    "- Lemmatizer\n",
    "- Stemmer\n",
    "- Part of Speech\n",
    "- SpellChecker (Norvig)\n",
    "\n",
    "\n"
   ]
  },
  {
   "cell_type": "code",
   "execution_count": null,
   "metadata": {
    "colab": {
     "base_uri": "https://localhost:8080/",
     "height": 66
    },
    "colab_type": "code",
    "id": "2jbBIjhop_Yu",
    "outputId": "057a6c89-7929-4001-b7c3-0635aa932aa0"
   },
   "outputs": [
    {
     "name": "stdout",
     "output_type": "stream",
     "text": [
      "explain_document_ml download started this may take some time.\n",
      "Approx size to download 9.4 MB\n",
      "[OK!]\n"
     ]
    }
   ],
   "source": [
    "pipeline = PretrainedPipeline('explain_document_ml', lang='en')\n"
   ]
  },
  {
   "cell_type": "code",
   "execution_count": null,
   "metadata": {
    "colab": {},
    "colab_type": "code",
    "id": "9ftq4OO_JUrj"
   },
   "outputs": [],
   "source": [
    "# Load pretrained pipeline from local disk:\n",
    "\n",
    "pipeline_local = PretrainedPipeline.from_disk('/root/cache_pretrained/explain_document_ml_en_2.4.0_2.4_1580252705962')"
   ]
  },
  {
   "cell_type": "code",
   "execution_count": null,
   "metadata": {
    "colab": {
     "base_uri": "https://localhost:8080/",
     "height": 50
    },
    "colab_type": "code",
    "id": "29rw6Cgjrvfg",
    "outputId": "8c673d15-c59e-490a-bc8f-2da0f1ab42f7"
   },
   "outputs": [
    {
     "name": "stdout",
     "output_type": "stream",
     "text": [
      "CPU times: user 40.9 ms, sys: 14.8 ms, total: 55.7 ms\n",
      "Wall time: 1.25 s\n"
     ]
    }
   ],
   "source": [
    "%%time\n",
    "\n",
    "result = pipeline.annotate(testDoc)"
   ]
  },
  {
   "cell_type": "code",
   "execution_count": null,
   "metadata": {
    "colab": {
     "base_uri": "https://localhost:8080/",
     "height": 33
    },
    "colab_type": "code",
    "id": "dwku5nc8r5G7",
    "outputId": "9cdf06ac-173e-4e95-a399-a54c095f3316"
   },
   "outputs": [
    {
     "data": {
      "text/plain": [
       "dict_keys(['document', 'spell', 'pos', 'lemmas', 'token', 'stems', 'sentence'])"
      ]
     },
     "execution_count": 7,
     "metadata": {
      "tags": []
     },
     "output_type": "execute_result"
    }
   ],
   "source": [
    "result.keys()"
   ]
  },
  {
   "cell_type": "code",
   "execution_count": null,
   "metadata": {
    "colab": {
     "base_uri": "https://localhost:8080/",
     "height": 163
    },
    "colab_type": "code",
    "id": "PufrzfGuvaBZ",
    "outputId": "4a284946-f9aa-4ff5-a22a-79fc7ad597ab"
   },
   "outputs": [
    {
     "data": {
      "text/plain": [
       "['Peter is a very good persn.',\n",
       " 'My life in Russia is very intersting.',\n",
       " 'John and Peter are brothrs.',\n",
       " \"However they don't support each other that much.\",\n",
       " 'Lucas Nogal Dunbercker is no longer happy.',\n",
       " 'He has a good car though.',\n",
       " 'Europe is very culture rich.',\n",
       " 'There are huge churches!',\n",
       " 'and big houses!']"
      ]
     },
     "execution_count": 8,
     "metadata": {
      "tags": []
     },
     "output_type": "execute_result"
    }
   ],
   "source": [
    "result['sentence']"
   ]
  },
  {
   "cell_type": "code",
   "execution_count": null,
   "metadata": {
    "colab": {
     "base_uri": "https://localhost:8080/",
     "height": 992
    },
    "colab_type": "code",
    "id": "eaalY5rcr8pV",
    "outputId": "a996fa27-c198-4e3e-c70c-5d12dd9bed52"
   },
   "outputs": [
    {
     "data": {
      "text/plain": [
       "['Peter',\n",
       " 'is',\n",
       " 'a',\n",
       " 'very',\n",
       " 'good',\n",
       " 'persn',\n",
       " '.',\n",
       " 'My',\n",
       " 'life',\n",
       " 'in',\n",
       " 'Russia',\n",
       " 'is',\n",
       " 'very',\n",
       " 'intersting',\n",
       " '.',\n",
       " 'John',\n",
       " 'and',\n",
       " 'Peter',\n",
       " 'are',\n",
       " 'brothrs',\n",
       " '.',\n",
       " 'However',\n",
       " 'they',\n",
       " \"don't\",\n",
       " 'support',\n",
       " 'each',\n",
       " 'other',\n",
       " 'that',\n",
       " 'much',\n",
       " '.',\n",
       " 'Lucas',\n",
       " 'Nogal',\n",
       " 'Dunbercker',\n",
       " 'is',\n",
       " 'no',\n",
       " 'longer',\n",
       " 'happy',\n",
       " '.',\n",
       " 'He',\n",
       " 'has',\n",
       " 'a',\n",
       " 'good',\n",
       " 'car',\n",
       " 'though',\n",
       " '.',\n",
       " 'Europe',\n",
       " 'is',\n",
       " 'very',\n",
       " 'culture',\n",
       " 'rich',\n",
       " '.',\n",
       " 'There',\n",
       " 'are',\n",
       " 'huge',\n",
       " 'churches',\n",
       " '!',\n",
       " 'and',\n",
       " 'big',\n",
       " 'houses',\n",
       " '!']"
      ]
     },
     "execution_count": 9,
     "metadata": {
      "tags": []
     },
     "output_type": "execute_result"
    }
   ],
   "source": [
    "result['token']"
   ]
  },
  {
   "cell_type": "code",
   "execution_count": null,
   "metadata": {
    "colab": {
     "base_uri": "https://localhost:8080/",
     "height": 992
    },
    "colab_type": "code",
    "id": "7rxuH6-ks41J",
    "outputId": "29687873-a78e-40cf-adf4-293bb5083843"
   },
   "outputs": [
    {
     "data": {
      "text/plain": [
       "[('Peter', 'NNP'),\n",
       " ('is', 'VBZ'),\n",
       " ('a', 'DT'),\n",
       " ('very', 'RB'),\n",
       " ('good', 'JJ'),\n",
       " ('persn', 'NN'),\n",
       " ('.', '.'),\n",
       " ('My', 'PRP$'),\n",
       " ('life', 'NN'),\n",
       " ('in', 'IN'),\n",
       " ('Russia', 'NNP'),\n",
       " ('is', 'VBZ'),\n",
       " ('very', 'RB'),\n",
       " ('intersting', 'JJ'),\n",
       " ('.', '.'),\n",
       " ('John', 'NNP'),\n",
       " ('and', 'CC'),\n",
       " ('Peter', 'NNP'),\n",
       " ('are', 'VBP'),\n",
       " ('brothrs', 'NNS'),\n",
       " ('.', '.'),\n",
       " ('However', 'RB'),\n",
       " ('they', 'PRP'),\n",
       " (\"don't\", 'VBP'),\n",
       " ('support', 'VB'),\n",
       " ('each', 'DT'),\n",
       " ('other', 'JJ'),\n",
       " ('that', 'IN'),\n",
       " ('much', 'JJ'),\n",
       " ('.', '.'),\n",
       " ('Lucas', 'NNP'),\n",
       " ('Nogal', 'NNP'),\n",
       " ('Dunbercker', 'NNP'),\n",
       " ('is', 'VBZ'),\n",
       " ('no', 'DT'),\n",
       " ('longer', 'RB'),\n",
       " ('happy', 'JJ'),\n",
       " ('.', '.'),\n",
       " ('He', 'PRP'),\n",
       " ('has', 'VBZ'),\n",
       " ('a', 'DT'),\n",
       " ('good', 'JJ'),\n",
       " ('car', 'NN'),\n",
       " ('though', 'IN'),\n",
       " ('.', '.'),\n",
       " ('Europe', 'NNP'),\n",
       " ('is', 'VBZ'),\n",
       " ('very', 'RB'),\n",
       " ('culture', 'RB'),\n",
       " ('rich', 'JJ'),\n",
       " ('.', '.'),\n",
       " ('There', 'EX'),\n",
       " ('are', 'VBP'),\n",
       " ('huge', 'JJ'),\n",
       " ('churches', 'NNS'),\n",
       " ('!', '.'),\n",
       " ('and', 'CC'),\n",
       " ('big', 'JJ'),\n",
       " ('houses', 'NNS'),\n",
       " ('!', '.')]"
      ]
     },
     "execution_count": 10,
     "metadata": {
      "tags": []
     },
     "output_type": "execute_result"
    }
   ],
   "source": [
    "list(zip(result['token'], result['pos']))"
   ]
  },
  {
   "cell_type": "code",
   "execution_count": null,
   "metadata": {
    "colab": {
     "base_uri": "https://localhost:8080/",
     "height": 992
    },
    "colab_type": "code",
    "id": "gteKLMhysCC8",
    "outputId": "9746b45c-d6bc-4777-938a-71023be176d9"
   },
   "outputs": [
    {
     "data": {
      "text/plain": [
       "[('Peter', 'Peter', 'peter', 'Peter'),\n",
       " ('is', 'be', 'i', 'is'),\n",
       " ('a', 'a', 'a', 'a'),\n",
       " ('very', 'very', 'veri', 'very'),\n",
       " ('good', 'good', 'good', 'good'),\n",
       " ('persn', 'person', 'person', 'person'),\n",
       " ('.', '.', '.', '.'),\n",
       " ('My', 'My', 'my', 'My'),\n",
       " ('life', 'life', 'life', 'life'),\n",
       " ('in', 'in', 'in', 'in'),\n",
       " ('Russia', 'Russia', 'russia', 'Russia'),\n",
       " ('is', 'be', 'i', 'is'),\n",
       " ('very', 'very', 'veri', 'very'),\n",
       " ('intersting', 'interest', 'interest', 'interesting'),\n",
       " ('.', '.', '.', '.'),\n",
       " ('John', 'John', 'john', 'John'),\n",
       " ('and', 'and', 'and', 'and'),\n",
       " ('Peter', 'Peter', 'peter', 'Peter'),\n",
       " ('are', 'be', 'ar', 'are'),\n",
       " ('brothrs', 'broth', 'broth', 'broths'),\n",
       " ('.', '.', '.', '.'),\n",
       " ('However', 'However', 'howev', 'However'),\n",
       " ('they', 'they', 'thei', 'they'),\n",
       " (\"don't\", \"don't\", \"don't\", \"don't\"),\n",
       " ('support', 'support', 'support', 'support'),\n",
       " ('each', 'each', 'each', 'each'),\n",
       " ('other', 'other', 'other', 'other'),\n",
       " ('that', 'that', 'that', 'that'),\n",
       " ('much', 'much', 'much', 'much'),\n",
       " ('.', '.', '.', '.'),\n",
       " ('Lucas', 'Lucas', 'luca', 'Lucas'),\n",
       " ('Nogal', 'Nogal', 'nogal', 'Nogal'),\n",
       " ('Dunbercker', 'Dunbercker', 'dunberck', 'Dunbercker'),\n",
       " ('is', 'be', 'i', 'is'),\n",
       " ('no', 'no', 'no', 'no'),\n",
       " ('longer', 'long', 'longer', 'longer'),\n",
       " ('happy', 'happy', 'happi', 'happy'),\n",
       " ('.', '.', '.', '.'),\n",
       " ('He', 'He', 'he', 'He'),\n",
       " ('has', 'have', 'ha', 'has'),\n",
       " ('a', 'a', 'a', 'a'),\n",
       " ('good', 'good', 'good', 'good'),\n",
       " ('car', 'car', 'car', 'car'),\n",
       " ('though', 'though', 'though', 'though'),\n",
       " ('.', '.', '.', '.'),\n",
       " ('Europe', 'Europe', 'europ', 'Europe'),\n",
       " ('is', 'be', 'i', 'is'),\n",
       " ('very', 'very', 'veri', 'very'),\n",
       " ('culture', 'culture', 'cultur', 'culture'),\n",
       " ('rich', 'rich', 'rich', 'rich'),\n",
       " ('.', '.', '.', '.'),\n",
       " ('There', 'There', 'there', 'There'),\n",
       " ('are', 'be', 'ar', 'are'),\n",
       " ('huge', 'huge', 'huge', 'huge'),\n",
       " ('churches', 'church', 'church', 'churches'),\n",
       " ('!', '!', '!', '!'),\n",
       " ('and', 'and', 'and', 'and'),\n",
       " ('big', 'big', 'big', 'big'),\n",
       " ('houses', 'house', 'hous', 'houses'),\n",
       " ('!', '!', '!', '!')]"
      ]
     },
     "execution_count": 11,
     "metadata": {
      "tags": []
     },
     "output_type": "execute_result"
    }
   ],
   "source": [
    "list(zip(result['token'], result['lemmas'], result['stems'], result['spell']))"
   ]
  },
  {
   "cell_type": "code",
   "execution_count": null,
   "metadata": {
    "colab": {
     "base_uri": "https://localhost:8080/",
     "height": 1000
    },
    "colab_type": "code",
    "id": "0CiixcKhsQwa",
    "outputId": "c0d8f02b-0045-4d4e-8670-5e5c484d49d4"
   },
   "outputs": [
    {
     "data": {
      "text/html": [
       "<div>\n",
       "<style scoped>\n",
       "    .dataframe tbody tr th:only-of-type {\n",
       "        vertical-align: middle;\n",
       "    }\n",
       "\n",
       "    .dataframe tbody tr th {\n",
       "        vertical-align: top;\n",
       "    }\n",
       "\n",
       "    .dataframe thead th {\n",
       "        text-align: right;\n",
       "    }\n",
       "</style>\n",
       "<table border=\"1\" class=\"dataframe\">\n",
       "  <thead>\n",
       "    <tr style=\"text-align: right;\">\n",
       "      <th></th>\n",
       "      <th>token</th>\n",
       "      <th>corrected</th>\n",
       "      <th>POS</th>\n",
       "      <th>lemmas</th>\n",
       "      <th>stems</th>\n",
       "    </tr>\n",
       "  </thead>\n",
       "  <tbody>\n",
       "    <tr>\n",
       "      <th>0</th>\n",
       "      <td>Peter</td>\n",
       "      <td>Peter</td>\n",
       "      <td>NNP</td>\n",
       "      <td>Peter</td>\n",
       "      <td>peter</td>\n",
       "    </tr>\n",
       "    <tr>\n",
       "      <th>1</th>\n",
       "      <td>is</td>\n",
       "      <td>is</td>\n",
       "      <td>VBZ</td>\n",
       "      <td>be</td>\n",
       "      <td>i</td>\n",
       "    </tr>\n",
       "    <tr>\n",
       "      <th>2</th>\n",
       "      <td>a</td>\n",
       "      <td>a</td>\n",
       "      <td>DT</td>\n",
       "      <td>a</td>\n",
       "      <td>a</td>\n",
       "    </tr>\n",
       "    <tr>\n",
       "      <th>3</th>\n",
       "      <td>very</td>\n",
       "      <td>very</td>\n",
       "      <td>RB</td>\n",
       "      <td>very</td>\n",
       "      <td>veri</td>\n",
       "    </tr>\n",
       "    <tr>\n",
       "      <th>4</th>\n",
       "      <td>good</td>\n",
       "      <td>good</td>\n",
       "      <td>JJ</td>\n",
       "      <td>good</td>\n",
       "      <td>good</td>\n",
       "    </tr>\n",
       "    <tr>\n",
       "      <th>5</th>\n",
       "      <td>persn</td>\n",
       "      <td>person</td>\n",
       "      <td>NN</td>\n",
       "      <td>person</td>\n",
       "      <td>person</td>\n",
       "    </tr>\n",
       "    <tr>\n",
       "      <th>6</th>\n",
       "      <td>.</td>\n",
       "      <td>.</td>\n",
       "      <td>.</td>\n",
       "      <td>.</td>\n",
       "      <td>.</td>\n",
       "    </tr>\n",
       "    <tr>\n",
       "      <th>7</th>\n",
       "      <td>My</td>\n",
       "      <td>My</td>\n",
       "      <td>PRP$</td>\n",
       "      <td>My</td>\n",
       "      <td>my</td>\n",
       "    </tr>\n",
       "    <tr>\n",
       "      <th>8</th>\n",
       "      <td>life</td>\n",
       "      <td>life</td>\n",
       "      <td>NN</td>\n",
       "      <td>life</td>\n",
       "      <td>life</td>\n",
       "    </tr>\n",
       "    <tr>\n",
       "      <th>9</th>\n",
       "      <td>in</td>\n",
       "      <td>in</td>\n",
       "      <td>IN</td>\n",
       "      <td>in</td>\n",
       "      <td>in</td>\n",
       "    </tr>\n",
       "    <tr>\n",
       "      <th>10</th>\n",
       "      <td>Russia</td>\n",
       "      <td>Russia</td>\n",
       "      <td>NNP</td>\n",
       "      <td>Russia</td>\n",
       "      <td>russia</td>\n",
       "    </tr>\n",
       "    <tr>\n",
       "      <th>11</th>\n",
       "      <td>is</td>\n",
       "      <td>is</td>\n",
       "      <td>VBZ</td>\n",
       "      <td>be</td>\n",
       "      <td>i</td>\n",
       "    </tr>\n",
       "    <tr>\n",
       "      <th>12</th>\n",
       "      <td>very</td>\n",
       "      <td>very</td>\n",
       "      <td>RB</td>\n",
       "      <td>very</td>\n",
       "      <td>veri</td>\n",
       "    </tr>\n",
       "    <tr>\n",
       "      <th>13</th>\n",
       "      <td>intersting</td>\n",
       "      <td>interesting</td>\n",
       "      <td>JJ</td>\n",
       "      <td>interest</td>\n",
       "      <td>interest</td>\n",
       "    </tr>\n",
       "    <tr>\n",
       "      <th>14</th>\n",
       "      <td>.</td>\n",
       "      <td>.</td>\n",
       "      <td>.</td>\n",
       "      <td>.</td>\n",
       "      <td>.</td>\n",
       "    </tr>\n",
       "    <tr>\n",
       "      <th>15</th>\n",
       "      <td>John</td>\n",
       "      <td>John</td>\n",
       "      <td>NNP</td>\n",
       "      <td>John</td>\n",
       "      <td>john</td>\n",
       "    </tr>\n",
       "    <tr>\n",
       "      <th>16</th>\n",
       "      <td>and</td>\n",
       "      <td>and</td>\n",
       "      <td>CC</td>\n",
       "      <td>and</td>\n",
       "      <td>and</td>\n",
       "    </tr>\n",
       "    <tr>\n",
       "      <th>17</th>\n",
       "      <td>Peter</td>\n",
       "      <td>Peter</td>\n",
       "      <td>NNP</td>\n",
       "      <td>Peter</td>\n",
       "      <td>peter</td>\n",
       "    </tr>\n",
       "    <tr>\n",
       "      <th>18</th>\n",
       "      <td>are</td>\n",
       "      <td>are</td>\n",
       "      <td>VBP</td>\n",
       "      <td>be</td>\n",
       "      <td>ar</td>\n",
       "    </tr>\n",
       "    <tr>\n",
       "      <th>19</th>\n",
       "      <td>brothrs</td>\n",
       "      <td>broths</td>\n",
       "      <td>NNS</td>\n",
       "      <td>broth</td>\n",
       "      <td>broth</td>\n",
       "    </tr>\n",
       "    <tr>\n",
       "      <th>20</th>\n",
       "      <td>.</td>\n",
       "      <td>.</td>\n",
       "      <td>.</td>\n",
       "      <td>.</td>\n",
       "      <td>.</td>\n",
       "    </tr>\n",
       "    <tr>\n",
       "      <th>21</th>\n",
       "      <td>However</td>\n",
       "      <td>However</td>\n",
       "      <td>RB</td>\n",
       "      <td>However</td>\n",
       "      <td>howev</td>\n",
       "    </tr>\n",
       "    <tr>\n",
       "      <th>22</th>\n",
       "      <td>they</td>\n",
       "      <td>they</td>\n",
       "      <td>PRP</td>\n",
       "      <td>they</td>\n",
       "      <td>thei</td>\n",
       "    </tr>\n",
       "    <tr>\n",
       "      <th>23</th>\n",
       "      <td>don't</td>\n",
       "      <td>don't</td>\n",
       "      <td>VBP</td>\n",
       "      <td>don't</td>\n",
       "      <td>don't</td>\n",
       "    </tr>\n",
       "    <tr>\n",
       "      <th>24</th>\n",
       "      <td>support</td>\n",
       "      <td>support</td>\n",
       "      <td>VB</td>\n",
       "      <td>support</td>\n",
       "      <td>support</td>\n",
       "    </tr>\n",
       "    <tr>\n",
       "      <th>25</th>\n",
       "      <td>each</td>\n",
       "      <td>each</td>\n",
       "      <td>DT</td>\n",
       "      <td>each</td>\n",
       "      <td>each</td>\n",
       "    </tr>\n",
       "    <tr>\n",
       "      <th>26</th>\n",
       "      <td>other</td>\n",
       "      <td>other</td>\n",
       "      <td>JJ</td>\n",
       "      <td>other</td>\n",
       "      <td>other</td>\n",
       "    </tr>\n",
       "    <tr>\n",
       "      <th>27</th>\n",
       "      <td>that</td>\n",
       "      <td>that</td>\n",
       "      <td>IN</td>\n",
       "      <td>that</td>\n",
       "      <td>that</td>\n",
       "    </tr>\n",
       "    <tr>\n",
       "      <th>28</th>\n",
       "      <td>much</td>\n",
       "      <td>much</td>\n",
       "      <td>JJ</td>\n",
       "      <td>much</td>\n",
       "      <td>much</td>\n",
       "    </tr>\n",
       "    <tr>\n",
       "      <th>29</th>\n",
       "      <td>.</td>\n",
       "      <td>.</td>\n",
       "      <td>.</td>\n",
       "      <td>.</td>\n",
       "      <td>.</td>\n",
       "    </tr>\n",
       "    <tr>\n",
       "      <th>30</th>\n",
       "      <td>Lucas</td>\n",
       "      <td>Lucas</td>\n",
       "      <td>NNP</td>\n",
       "      <td>Lucas</td>\n",
       "      <td>luca</td>\n",
       "    </tr>\n",
       "    <tr>\n",
       "      <th>31</th>\n",
       "      <td>Nogal</td>\n",
       "      <td>Nogal</td>\n",
       "      <td>NNP</td>\n",
       "      <td>Nogal</td>\n",
       "      <td>nogal</td>\n",
       "    </tr>\n",
       "    <tr>\n",
       "      <th>32</th>\n",
       "      <td>Dunbercker</td>\n",
       "      <td>Dunbercker</td>\n",
       "      <td>NNP</td>\n",
       "      <td>Dunbercker</td>\n",
       "      <td>dunberck</td>\n",
       "    </tr>\n",
       "    <tr>\n",
       "      <th>33</th>\n",
       "      <td>is</td>\n",
       "      <td>is</td>\n",
       "      <td>VBZ</td>\n",
       "      <td>be</td>\n",
       "      <td>i</td>\n",
       "    </tr>\n",
       "    <tr>\n",
       "      <th>34</th>\n",
       "      <td>no</td>\n",
       "      <td>no</td>\n",
       "      <td>DT</td>\n",
       "      <td>no</td>\n",
       "      <td>no</td>\n",
       "    </tr>\n",
       "    <tr>\n",
       "      <th>35</th>\n",
       "      <td>longer</td>\n",
       "      <td>longer</td>\n",
       "      <td>RB</td>\n",
       "      <td>long</td>\n",
       "      <td>longer</td>\n",
       "    </tr>\n",
       "    <tr>\n",
       "      <th>36</th>\n",
       "      <td>happy</td>\n",
       "      <td>happy</td>\n",
       "      <td>JJ</td>\n",
       "      <td>happy</td>\n",
       "      <td>happi</td>\n",
       "    </tr>\n",
       "    <tr>\n",
       "      <th>37</th>\n",
       "      <td>.</td>\n",
       "      <td>.</td>\n",
       "      <td>.</td>\n",
       "      <td>.</td>\n",
       "      <td>.</td>\n",
       "    </tr>\n",
       "    <tr>\n",
       "      <th>38</th>\n",
       "      <td>He</td>\n",
       "      <td>He</td>\n",
       "      <td>PRP</td>\n",
       "      <td>He</td>\n",
       "      <td>he</td>\n",
       "    </tr>\n",
       "    <tr>\n",
       "      <th>39</th>\n",
       "      <td>has</td>\n",
       "      <td>has</td>\n",
       "      <td>VBZ</td>\n",
       "      <td>have</td>\n",
       "      <td>ha</td>\n",
       "    </tr>\n",
       "    <tr>\n",
       "      <th>40</th>\n",
       "      <td>a</td>\n",
       "      <td>a</td>\n",
       "      <td>DT</td>\n",
       "      <td>a</td>\n",
       "      <td>a</td>\n",
       "    </tr>\n",
       "    <tr>\n",
       "      <th>41</th>\n",
       "      <td>good</td>\n",
       "      <td>good</td>\n",
       "      <td>JJ</td>\n",
       "      <td>good</td>\n",
       "      <td>good</td>\n",
       "    </tr>\n",
       "    <tr>\n",
       "      <th>42</th>\n",
       "      <td>car</td>\n",
       "      <td>car</td>\n",
       "      <td>NN</td>\n",
       "      <td>car</td>\n",
       "      <td>car</td>\n",
       "    </tr>\n",
       "    <tr>\n",
       "      <th>43</th>\n",
       "      <td>though</td>\n",
       "      <td>though</td>\n",
       "      <td>IN</td>\n",
       "      <td>though</td>\n",
       "      <td>though</td>\n",
       "    </tr>\n",
       "    <tr>\n",
       "      <th>44</th>\n",
       "      <td>.</td>\n",
       "      <td>.</td>\n",
       "      <td>.</td>\n",
       "      <td>.</td>\n",
       "      <td>.</td>\n",
       "    </tr>\n",
       "    <tr>\n",
       "      <th>45</th>\n",
       "      <td>Europe</td>\n",
       "      <td>Europe</td>\n",
       "      <td>NNP</td>\n",
       "      <td>Europe</td>\n",
       "      <td>europ</td>\n",
       "    </tr>\n",
       "    <tr>\n",
       "      <th>46</th>\n",
       "      <td>is</td>\n",
       "      <td>is</td>\n",
       "      <td>VBZ</td>\n",
       "      <td>be</td>\n",
       "      <td>i</td>\n",
       "    </tr>\n",
       "    <tr>\n",
       "      <th>47</th>\n",
       "      <td>very</td>\n",
       "      <td>very</td>\n",
       "      <td>RB</td>\n",
       "      <td>very</td>\n",
       "      <td>veri</td>\n",
       "    </tr>\n",
       "    <tr>\n",
       "      <th>48</th>\n",
       "      <td>culture</td>\n",
       "      <td>culture</td>\n",
       "      <td>RB</td>\n",
       "      <td>culture</td>\n",
       "      <td>cultur</td>\n",
       "    </tr>\n",
       "    <tr>\n",
       "      <th>49</th>\n",
       "      <td>rich</td>\n",
       "      <td>rich</td>\n",
       "      <td>JJ</td>\n",
       "      <td>rich</td>\n",
       "      <td>rich</td>\n",
       "    </tr>\n",
       "    <tr>\n",
       "      <th>50</th>\n",
       "      <td>.</td>\n",
       "      <td>.</td>\n",
       "      <td>.</td>\n",
       "      <td>.</td>\n",
       "      <td>.</td>\n",
       "    </tr>\n",
       "    <tr>\n",
       "      <th>51</th>\n",
       "      <td>There</td>\n",
       "      <td>There</td>\n",
       "      <td>EX</td>\n",
       "      <td>There</td>\n",
       "      <td>there</td>\n",
       "    </tr>\n",
       "    <tr>\n",
       "      <th>52</th>\n",
       "      <td>are</td>\n",
       "      <td>are</td>\n",
       "      <td>VBP</td>\n",
       "      <td>be</td>\n",
       "      <td>ar</td>\n",
       "    </tr>\n",
       "    <tr>\n",
       "      <th>53</th>\n",
       "      <td>huge</td>\n",
       "      <td>huge</td>\n",
       "      <td>JJ</td>\n",
       "      <td>huge</td>\n",
       "      <td>huge</td>\n",
       "    </tr>\n",
       "    <tr>\n",
       "      <th>54</th>\n",
       "      <td>churches</td>\n",
       "      <td>churches</td>\n",
       "      <td>NNS</td>\n",
       "      <td>church</td>\n",
       "      <td>church</td>\n",
       "    </tr>\n",
       "    <tr>\n",
       "      <th>55</th>\n",
       "      <td>!</td>\n",
       "      <td>!</td>\n",
       "      <td>.</td>\n",
       "      <td>!</td>\n",
       "      <td>!</td>\n",
       "    </tr>\n",
       "    <tr>\n",
       "      <th>56</th>\n",
       "      <td>and</td>\n",
       "      <td>and</td>\n",
       "      <td>CC</td>\n",
       "      <td>and</td>\n",
       "      <td>and</td>\n",
       "    </tr>\n",
       "    <tr>\n",
       "      <th>57</th>\n",
       "      <td>big</td>\n",
       "      <td>big</td>\n",
       "      <td>JJ</td>\n",
       "      <td>big</td>\n",
       "      <td>big</td>\n",
       "    </tr>\n",
       "    <tr>\n",
       "      <th>58</th>\n",
       "      <td>houses</td>\n",
       "      <td>houses</td>\n",
       "      <td>NNS</td>\n",
       "      <td>house</td>\n",
       "      <td>hous</td>\n",
       "    </tr>\n",
       "    <tr>\n",
       "      <th>59</th>\n",
       "      <td>!</td>\n",
       "      <td>!</td>\n",
       "      <td>.</td>\n",
       "      <td>!</td>\n",
       "      <td>!</td>\n",
       "    </tr>\n",
       "  </tbody>\n",
       "</table>\n",
       "</div>"
      ],
      "text/plain": [
       "         token    corrected   POS      lemmas     stems\n",
       "0        Peter        Peter   NNP       Peter     peter\n",
       "1           is           is   VBZ          be         i\n",
       "2            a            a    DT           a         a\n",
       "3         very         very    RB        very      veri\n",
       "4         good         good    JJ        good      good\n",
       "5        persn       person    NN      person    person\n",
       "6            .            .     .           .         .\n",
       "7           My           My  PRP$          My        my\n",
       "8         life         life    NN        life      life\n",
       "9           in           in    IN          in        in\n",
       "10      Russia       Russia   NNP      Russia    russia\n",
       "11          is           is   VBZ          be         i\n",
       "12        very         very    RB        very      veri\n",
       "13  intersting  interesting    JJ    interest  interest\n",
       "14           .            .     .           .         .\n",
       "15        John         John   NNP        John      john\n",
       "16         and          and    CC         and       and\n",
       "17       Peter        Peter   NNP       Peter     peter\n",
       "18         are          are   VBP          be        ar\n",
       "19     brothrs       broths   NNS       broth     broth\n",
       "20           .            .     .           .         .\n",
       "21     However      However    RB     However     howev\n",
       "22        they         they   PRP        they      thei\n",
       "23       don't        don't   VBP       don't     don't\n",
       "24     support      support    VB     support   support\n",
       "25        each         each    DT        each      each\n",
       "26       other        other    JJ       other     other\n",
       "27        that         that    IN        that      that\n",
       "28        much         much    JJ        much      much\n",
       "29           .            .     .           .         .\n",
       "30       Lucas        Lucas   NNP       Lucas      luca\n",
       "31       Nogal        Nogal   NNP       Nogal     nogal\n",
       "32  Dunbercker   Dunbercker   NNP  Dunbercker  dunberck\n",
       "33          is           is   VBZ          be         i\n",
       "34          no           no    DT          no        no\n",
       "35      longer       longer    RB        long    longer\n",
       "36       happy        happy    JJ       happy     happi\n",
       "37           .            .     .           .         .\n",
       "38          He           He   PRP          He        he\n",
       "39         has          has   VBZ        have        ha\n",
       "40           a            a    DT           a         a\n",
       "41        good         good    JJ        good      good\n",
       "42         car          car    NN         car       car\n",
       "43      though       though    IN      though    though\n",
       "44           .            .     .           .         .\n",
       "45      Europe       Europe   NNP      Europe     europ\n",
       "46          is           is   VBZ          be         i\n",
       "47        very         very    RB        very      veri\n",
       "48     culture      culture    RB     culture    cultur\n",
       "49        rich         rich    JJ        rich      rich\n",
       "50           .            .     .           .         .\n",
       "51       There        There    EX       There     there\n",
       "52         are          are   VBP          be        ar\n",
       "53        huge         huge    JJ        huge      huge\n",
       "54    churches     churches   NNS      church    church\n",
       "55           !            !     .           !         !\n",
       "56         and          and    CC         and       and\n",
       "57         big          big    JJ         big       big\n",
       "58      houses       houses   NNS       house      hous\n",
       "59           !            !     .           !         !"
      ]
     },
     "execution_count": 12,
     "metadata": {
      "tags": []
     },
     "output_type": "execute_result"
    }
   ],
   "source": [
    "import pandas as pd\n",
    "\n",
    "df = pd.DataFrame({'token':result['token'], \n",
    "                      'corrected':result['spell'], 'POS':result['pos'],\n",
    "                      'lemmas':result['lemmas'], 'stems':result['stems']})\n",
    "df"
   ]
  },
  {
   "cell_type": "code",
   "execution_count": null,
   "metadata": {
    "colab": {},
    "colab_type": "code",
    "id": "9TG4WxL3JQxu"
   },
   "outputs": [],
   "source": []
  },
  {
   "cell_type": "markdown",
   "metadata": {
    "colab_type": "text",
    "id": "xoNLwohgvD7L"
   },
   "source": [
    "### Explain Document DL"
   ]
  },
  {
   "cell_type": "markdown",
   "metadata": {
    "colab_type": "text",
    "id": "IdsQHjKHwSpH"
   },
   "source": [
    "**Stages**\n",
    "- DocumentAssembler\n",
    "- SentenceDetector\n",
    "- Tokenizer\n",
    "- NER (NER with GloVe 100D embeddings, CoNLL2003 dataset)\n",
    "- Lemmatizer\n",
    "- Stemmer\n",
    "- Part of Speech\n",
    "- SpellChecker (Norvig)\n"
   ]
  },
  {
   "cell_type": "code",
   "execution_count": null,
   "metadata": {
    "colab": {
     "base_uri": "https://localhost:8080/",
     "height": 66
    },
    "colab_type": "code",
    "id": "wPxRk5SzsumW",
    "outputId": "e24ced1c-c5e4-429a-fd9a-c3913deb7c4e"
   },
   "outputs": [
    {
     "name": "stdout",
     "output_type": "stream",
     "text": [
      "explain_document_dl download started this may take some time.\n",
      "Approx size to download 168.4 MB\n",
      "[OK!]\n"
     ]
    }
   ],
   "source": [
    "pipeline_dl = PretrainedPipeline('explain_document_dl', lang='en')\n"
   ]
  },
  {
   "cell_type": "code",
   "execution_count": null,
   "metadata": {
    "colab": {
     "base_uri": "https://localhost:8080/",
     "height": 50
    },
    "colab_type": "code",
    "id": "NLTBkfC5vKSa",
    "outputId": "22c06d5e-d181-4330-a00a-8151fcddf438"
   },
   "outputs": [
    {
     "name": "stdout",
     "output_type": "stream",
     "text": [
      "CPU times: user 47.2 ms, sys: 20.4 ms, total: 67.6 ms\n",
      "Wall time: 1.37 s\n"
     ]
    }
   ],
   "source": [
    "%%time\n",
    "\n",
    "result = pipeline_dl.annotate(testDoc)\n",
    "\n",
    "result.keys()"
   ]
  },
  {
   "cell_type": "code",
   "execution_count": null,
   "metadata": {
    "colab": {
     "base_uri": "https://localhost:8080/",
     "height": 33
    },
    "colab_type": "code",
    "id": "L3FZ2gaEv0GN",
    "outputId": "6606cd65-0de2-4740-a956-c9c073d8bd4c"
   },
   "outputs": [
    {
     "data": {
      "text/plain": [
       "dict_keys(['entities', 'stem', 'checked', 'lemma', 'document', 'pos', 'token', 'ner', 'embeddings', 'sentence'])"
      ]
     },
     "execution_count": 17,
     "metadata": {
      "tags": []
     },
     "output_type": "execute_result"
    }
   ],
   "source": [
    "result.keys()"
   ]
  },
  {
   "cell_type": "code",
   "execution_count": null,
   "metadata": {
    "colab": {
     "base_uri": "https://localhost:8080/",
     "height": 33
    },
    "colab_type": "code",
    "id": "4UrimwRVxRUh",
    "outputId": "9abce145-71ff-4b85-b1ef-9f48e359ee4d"
   },
   "outputs": [
    {
     "data": {
      "text/plain": [
       "['Peter', 'Russia', 'John', 'Peter', 'Lucas Nogal Dunbercker', 'Europe']"
      ]
     },
     "execution_count": 18,
     "metadata": {
      "tags": []
     },
     "output_type": "execute_result"
    }
   ],
   "source": [
    "result['entities']"
   ]
  },
  {
   "cell_type": "code",
   "execution_count": null,
   "metadata": {
    "colab": {
     "base_uri": "https://localhost:8080/",
     "height": 1000
    },
    "colab_type": "code",
    "id": "pRI8vqdcv4Ui",
    "outputId": "f811a321-40f3-4d2d-afb7-f240dcc071bd"
   },
   "outputs": [
    {
     "data": {
      "text/html": [
       "<div>\n",
       "<style scoped>\n",
       "    .dataframe tbody tr th:only-of-type {\n",
       "        vertical-align: middle;\n",
       "    }\n",
       "\n",
       "    .dataframe tbody tr th {\n",
       "        vertical-align: top;\n",
       "    }\n",
       "\n",
       "    .dataframe thead th {\n",
       "        text-align: right;\n",
       "    }\n",
       "</style>\n",
       "<table border=\"1\" class=\"dataframe\">\n",
       "  <thead>\n",
       "    <tr style=\"text-align: right;\">\n",
       "      <th></th>\n",
       "      <th>token</th>\n",
       "      <th>ner_label</th>\n",
       "      <th>spell_corrected</th>\n",
       "      <th>POS</th>\n",
       "      <th>lemmas</th>\n",
       "      <th>stems</th>\n",
       "    </tr>\n",
       "  </thead>\n",
       "  <tbody>\n",
       "    <tr>\n",
       "      <th>0</th>\n",
       "      <td>Peter</td>\n",
       "      <td>B-PER</td>\n",
       "      <td>Peter</td>\n",
       "      <td>NNP</td>\n",
       "      <td>Peter</td>\n",
       "      <td>peter</td>\n",
       "    </tr>\n",
       "    <tr>\n",
       "      <th>1</th>\n",
       "      <td>is</td>\n",
       "      <td>O</td>\n",
       "      <td>is</td>\n",
       "      <td>VBZ</td>\n",
       "      <td>be</td>\n",
       "      <td>i</td>\n",
       "    </tr>\n",
       "    <tr>\n",
       "      <th>2</th>\n",
       "      <td>a</td>\n",
       "      <td>O</td>\n",
       "      <td>a</td>\n",
       "      <td>DT</td>\n",
       "      <td>a</td>\n",
       "      <td>a</td>\n",
       "    </tr>\n",
       "    <tr>\n",
       "      <th>3</th>\n",
       "      <td>very</td>\n",
       "      <td>O</td>\n",
       "      <td>very</td>\n",
       "      <td>RB</td>\n",
       "      <td>very</td>\n",
       "      <td>veri</td>\n",
       "    </tr>\n",
       "    <tr>\n",
       "      <th>4</th>\n",
       "      <td>good</td>\n",
       "      <td>O</td>\n",
       "      <td>good</td>\n",
       "      <td>JJ</td>\n",
       "      <td>good</td>\n",
       "      <td>good</td>\n",
       "    </tr>\n",
       "    <tr>\n",
       "      <th>5</th>\n",
       "      <td>persn</td>\n",
       "      <td>O</td>\n",
       "      <td>person</td>\n",
       "      <td>NN</td>\n",
       "      <td>person</td>\n",
       "      <td>person</td>\n",
       "    </tr>\n",
       "    <tr>\n",
       "      <th>6</th>\n",
       "      <td>.</td>\n",
       "      <td>O</td>\n",
       "      <td>.</td>\n",
       "      <td>.</td>\n",
       "      <td>.</td>\n",
       "      <td>.</td>\n",
       "    </tr>\n",
       "    <tr>\n",
       "      <th>7</th>\n",
       "      <td>My</td>\n",
       "      <td>O</td>\n",
       "      <td>My</td>\n",
       "      <td>PRP$</td>\n",
       "      <td>My</td>\n",
       "      <td>my</td>\n",
       "    </tr>\n",
       "    <tr>\n",
       "      <th>8</th>\n",
       "      <td>life</td>\n",
       "      <td>O</td>\n",
       "      <td>life</td>\n",
       "      <td>NN</td>\n",
       "      <td>life</td>\n",
       "      <td>life</td>\n",
       "    </tr>\n",
       "    <tr>\n",
       "      <th>9</th>\n",
       "      <td>in</td>\n",
       "      <td>O</td>\n",
       "      <td>in</td>\n",
       "      <td>IN</td>\n",
       "      <td>in</td>\n",
       "      <td>in</td>\n",
       "    </tr>\n",
       "    <tr>\n",
       "      <th>10</th>\n",
       "      <td>Russia</td>\n",
       "      <td>B-LOC</td>\n",
       "      <td>Russia</td>\n",
       "      <td>NNP</td>\n",
       "      <td>Russia</td>\n",
       "      <td>russia</td>\n",
       "    </tr>\n",
       "    <tr>\n",
       "      <th>11</th>\n",
       "      <td>is</td>\n",
       "      <td>O</td>\n",
       "      <td>is</td>\n",
       "      <td>VBZ</td>\n",
       "      <td>be</td>\n",
       "      <td>i</td>\n",
       "    </tr>\n",
       "    <tr>\n",
       "      <th>12</th>\n",
       "      <td>very</td>\n",
       "      <td>O</td>\n",
       "      <td>very</td>\n",
       "      <td>RB</td>\n",
       "      <td>very</td>\n",
       "      <td>veri</td>\n",
       "    </tr>\n",
       "    <tr>\n",
       "      <th>13</th>\n",
       "      <td>intersting</td>\n",
       "      <td>O</td>\n",
       "      <td>interesting</td>\n",
       "      <td>JJ</td>\n",
       "      <td>interest</td>\n",
       "      <td>interest</td>\n",
       "    </tr>\n",
       "    <tr>\n",
       "      <th>14</th>\n",
       "      <td>.</td>\n",
       "      <td>O</td>\n",
       "      <td>.</td>\n",
       "      <td>.</td>\n",
       "      <td>.</td>\n",
       "      <td>.</td>\n",
       "    </tr>\n",
       "    <tr>\n",
       "      <th>15</th>\n",
       "      <td>John</td>\n",
       "      <td>B-PER</td>\n",
       "      <td>John</td>\n",
       "      <td>NNP</td>\n",
       "      <td>John</td>\n",
       "      <td>john</td>\n",
       "    </tr>\n",
       "    <tr>\n",
       "      <th>16</th>\n",
       "      <td>and</td>\n",
       "      <td>O</td>\n",
       "      <td>and</td>\n",
       "      <td>CC</td>\n",
       "      <td>and</td>\n",
       "      <td>and</td>\n",
       "    </tr>\n",
       "    <tr>\n",
       "      <th>17</th>\n",
       "      <td>Peter</td>\n",
       "      <td>B-PER</td>\n",
       "      <td>Peter</td>\n",
       "      <td>NNP</td>\n",
       "      <td>Peter</td>\n",
       "      <td>peter</td>\n",
       "    </tr>\n",
       "    <tr>\n",
       "      <th>18</th>\n",
       "      <td>are</td>\n",
       "      <td>O</td>\n",
       "      <td>are</td>\n",
       "      <td>VBP</td>\n",
       "      <td>be</td>\n",
       "      <td>ar</td>\n",
       "    </tr>\n",
       "    <tr>\n",
       "      <th>19</th>\n",
       "      <td>brothrs</td>\n",
       "      <td>O</td>\n",
       "      <td>broths</td>\n",
       "      <td>NNS</td>\n",
       "      <td>broth</td>\n",
       "      <td>broth</td>\n",
       "    </tr>\n",
       "    <tr>\n",
       "      <th>20</th>\n",
       "      <td>.</td>\n",
       "      <td>O</td>\n",
       "      <td>.</td>\n",
       "      <td>.</td>\n",
       "      <td>.</td>\n",
       "      <td>.</td>\n",
       "    </tr>\n",
       "    <tr>\n",
       "      <th>21</th>\n",
       "      <td>However</td>\n",
       "      <td>O</td>\n",
       "      <td>However</td>\n",
       "      <td>RB</td>\n",
       "      <td>However</td>\n",
       "      <td>howev</td>\n",
       "    </tr>\n",
       "    <tr>\n",
       "      <th>22</th>\n",
       "      <td>they</td>\n",
       "      <td>O</td>\n",
       "      <td>they</td>\n",
       "      <td>PRP</td>\n",
       "      <td>they</td>\n",
       "      <td>thei</td>\n",
       "    </tr>\n",
       "    <tr>\n",
       "      <th>23</th>\n",
       "      <td>don't</td>\n",
       "      <td>O</td>\n",
       "      <td>don't</td>\n",
       "      <td>VBP</td>\n",
       "      <td>don't</td>\n",
       "      <td>don't</td>\n",
       "    </tr>\n",
       "    <tr>\n",
       "      <th>24</th>\n",
       "      <td>support</td>\n",
       "      <td>O</td>\n",
       "      <td>support</td>\n",
       "      <td>VB</td>\n",
       "      <td>support</td>\n",
       "      <td>support</td>\n",
       "    </tr>\n",
       "    <tr>\n",
       "      <th>25</th>\n",
       "      <td>each</td>\n",
       "      <td>O</td>\n",
       "      <td>each</td>\n",
       "      <td>DT</td>\n",
       "      <td>each</td>\n",
       "      <td>each</td>\n",
       "    </tr>\n",
       "    <tr>\n",
       "      <th>26</th>\n",
       "      <td>other</td>\n",
       "      <td>O</td>\n",
       "      <td>other</td>\n",
       "      <td>JJ</td>\n",
       "      <td>other</td>\n",
       "      <td>other</td>\n",
       "    </tr>\n",
       "    <tr>\n",
       "      <th>27</th>\n",
       "      <td>that</td>\n",
       "      <td>O</td>\n",
       "      <td>that</td>\n",
       "      <td>IN</td>\n",
       "      <td>that</td>\n",
       "      <td>that</td>\n",
       "    </tr>\n",
       "    <tr>\n",
       "      <th>28</th>\n",
       "      <td>much</td>\n",
       "      <td>O</td>\n",
       "      <td>much</td>\n",
       "      <td>JJ</td>\n",
       "      <td>much</td>\n",
       "      <td>much</td>\n",
       "    </tr>\n",
       "    <tr>\n",
       "      <th>29</th>\n",
       "      <td>.</td>\n",
       "      <td>O</td>\n",
       "      <td>.</td>\n",
       "      <td>.</td>\n",
       "      <td>.</td>\n",
       "      <td>.</td>\n",
       "    </tr>\n",
       "    <tr>\n",
       "      <th>30</th>\n",
       "      <td>Lucas</td>\n",
       "      <td>B-ORG</td>\n",
       "      <td>Lucas</td>\n",
       "      <td>NNP</td>\n",
       "      <td>Lucas</td>\n",
       "      <td>luca</td>\n",
       "    </tr>\n",
       "    <tr>\n",
       "      <th>31</th>\n",
       "      <td>Nogal</td>\n",
       "      <td>I-ORG</td>\n",
       "      <td>Nogal</td>\n",
       "      <td>NNP</td>\n",
       "      <td>Nogal</td>\n",
       "      <td>nogal</td>\n",
       "    </tr>\n",
       "    <tr>\n",
       "      <th>32</th>\n",
       "      <td>Dunbercker</td>\n",
       "      <td>I-ORG</td>\n",
       "      <td>Dunbercker</td>\n",
       "      <td>NNP</td>\n",
       "      <td>Dunbercker</td>\n",
       "      <td>dunberck</td>\n",
       "    </tr>\n",
       "    <tr>\n",
       "      <th>33</th>\n",
       "      <td>is</td>\n",
       "      <td>O</td>\n",
       "      <td>is</td>\n",
       "      <td>VBZ</td>\n",
       "      <td>be</td>\n",
       "      <td>i</td>\n",
       "    </tr>\n",
       "    <tr>\n",
       "      <th>34</th>\n",
       "      <td>no</td>\n",
       "      <td>O</td>\n",
       "      <td>no</td>\n",
       "      <td>DT</td>\n",
       "      <td>no</td>\n",
       "      <td>no</td>\n",
       "    </tr>\n",
       "    <tr>\n",
       "      <th>35</th>\n",
       "      <td>longer</td>\n",
       "      <td>O</td>\n",
       "      <td>longer</td>\n",
       "      <td>RB</td>\n",
       "      <td>long</td>\n",
       "      <td>longer</td>\n",
       "    </tr>\n",
       "    <tr>\n",
       "      <th>36</th>\n",
       "      <td>happy</td>\n",
       "      <td>O</td>\n",
       "      <td>happy</td>\n",
       "      <td>JJ</td>\n",
       "      <td>happy</td>\n",
       "      <td>happi</td>\n",
       "    </tr>\n",
       "    <tr>\n",
       "      <th>37</th>\n",
       "      <td>.</td>\n",
       "      <td>O</td>\n",
       "      <td>.</td>\n",
       "      <td>.</td>\n",
       "      <td>.</td>\n",
       "      <td>.</td>\n",
       "    </tr>\n",
       "    <tr>\n",
       "      <th>38</th>\n",
       "      <td>He</td>\n",
       "      <td>O</td>\n",
       "      <td>He</td>\n",
       "      <td>PRP</td>\n",
       "      <td>He</td>\n",
       "      <td>he</td>\n",
       "    </tr>\n",
       "    <tr>\n",
       "      <th>39</th>\n",
       "      <td>has</td>\n",
       "      <td>O</td>\n",
       "      <td>has</td>\n",
       "      <td>VBZ</td>\n",
       "      <td>have</td>\n",
       "      <td>ha</td>\n",
       "    </tr>\n",
       "    <tr>\n",
       "      <th>40</th>\n",
       "      <td>a</td>\n",
       "      <td>O</td>\n",
       "      <td>a</td>\n",
       "      <td>DT</td>\n",
       "      <td>a</td>\n",
       "      <td>a</td>\n",
       "    </tr>\n",
       "    <tr>\n",
       "      <th>41</th>\n",
       "      <td>good</td>\n",
       "      <td>O</td>\n",
       "      <td>good</td>\n",
       "      <td>JJ</td>\n",
       "      <td>good</td>\n",
       "      <td>good</td>\n",
       "    </tr>\n",
       "    <tr>\n",
       "      <th>42</th>\n",
       "      <td>car</td>\n",
       "      <td>O</td>\n",
       "      <td>car</td>\n",
       "      <td>NN</td>\n",
       "      <td>car</td>\n",
       "      <td>car</td>\n",
       "    </tr>\n",
       "    <tr>\n",
       "      <th>43</th>\n",
       "      <td>though</td>\n",
       "      <td>O</td>\n",
       "      <td>though</td>\n",
       "      <td>IN</td>\n",
       "      <td>though</td>\n",
       "      <td>though</td>\n",
       "    </tr>\n",
       "    <tr>\n",
       "      <th>44</th>\n",
       "      <td>.</td>\n",
       "      <td>O</td>\n",
       "      <td>.</td>\n",
       "      <td>.</td>\n",
       "      <td>.</td>\n",
       "      <td>.</td>\n",
       "    </tr>\n",
       "    <tr>\n",
       "      <th>45</th>\n",
       "      <td>Europe</td>\n",
       "      <td>B-LOC</td>\n",
       "      <td>Europe</td>\n",
       "      <td>NNP</td>\n",
       "      <td>Europe</td>\n",
       "      <td>europ</td>\n",
       "    </tr>\n",
       "    <tr>\n",
       "      <th>46</th>\n",
       "      <td>is</td>\n",
       "      <td>O</td>\n",
       "      <td>is</td>\n",
       "      <td>VBZ</td>\n",
       "      <td>be</td>\n",
       "      <td>i</td>\n",
       "    </tr>\n",
       "    <tr>\n",
       "      <th>47</th>\n",
       "      <td>very</td>\n",
       "      <td>O</td>\n",
       "      <td>very</td>\n",
       "      <td>RB</td>\n",
       "      <td>very</td>\n",
       "      <td>veri</td>\n",
       "    </tr>\n",
       "    <tr>\n",
       "      <th>48</th>\n",
       "      <td>culture</td>\n",
       "      <td>O</td>\n",
       "      <td>culture</td>\n",
       "      <td>RB</td>\n",
       "      <td>culture</td>\n",
       "      <td>cultur</td>\n",
       "    </tr>\n",
       "    <tr>\n",
       "      <th>49</th>\n",
       "      <td>rich</td>\n",
       "      <td>O</td>\n",
       "      <td>rich</td>\n",
       "      <td>JJ</td>\n",
       "      <td>rich</td>\n",
       "      <td>rich</td>\n",
       "    </tr>\n",
       "    <tr>\n",
       "      <th>50</th>\n",
       "      <td>.</td>\n",
       "      <td>O</td>\n",
       "      <td>.</td>\n",
       "      <td>.</td>\n",
       "      <td>.</td>\n",
       "      <td>.</td>\n",
       "    </tr>\n",
       "    <tr>\n",
       "      <th>51</th>\n",
       "      <td>There</td>\n",
       "      <td>O</td>\n",
       "      <td>There</td>\n",
       "      <td>EX</td>\n",
       "      <td>There</td>\n",
       "      <td>there</td>\n",
       "    </tr>\n",
       "    <tr>\n",
       "      <th>52</th>\n",
       "      <td>are</td>\n",
       "      <td>O</td>\n",
       "      <td>are</td>\n",
       "      <td>VBP</td>\n",
       "      <td>be</td>\n",
       "      <td>ar</td>\n",
       "    </tr>\n",
       "    <tr>\n",
       "      <th>53</th>\n",
       "      <td>huge</td>\n",
       "      <td>O</td>\n",
       "      <td>huge</td>\n",
       "      <td>JJ</td>\n",
       "      <td>huge</td>\n",
       "      <td>huge</td>\n",
       "    </tr>\n",
       "    <tr>\n",
       "      <th>54</th>\n",
       "      <td>churches</td>\n",
       "      <td>O</td>\n",
       "      <td>churches</td>\n",
       "      <td>NNS</td>\n",
       "      <td>church</td>\n",
       "      <td>church</td>\n",
       "    </tr>\n",
       "    <tr>\n",
       "      <th>55</th>\n",
       "      <td>!</td>\n",
       "      <td>O</td>\n",
       "      <td>!</td>\n",
       "      <td>.</td>\n",
       "      <td>!</td>\n",
       "      <td>!</td>\n",
       "    </tr>\n",
       "    <tr>\n",
       "      <th>56</th>\n",
       "      <td>and</td>\n",
       "      <td>O</td>\n",
       "      <td>and</td>\n",
       "      <td>CC</td>\n",
       "      <td>and</td>\n",
       "      <td>and</td>\n",
       "    </tr>\n",
       "    <tr>\n",
       "      <th>57</th>\n",
       "      <td>big</td>\n",
       "      <td>O</td>\n",
       "      <td>big</td>\n",
       "      <td>JJ</td>\n",
       "      <td>big</td>\n",
       "      <td>big</td>\n",
       "    </tr>\n",
       "    <tr>\n",
       "      <th>58</th>\n",
       "      <td>houses</td>\n",
       "      <td>O</td>\n",
       "      <td>houses</td>\n",
       "      <td>NNS</td>\n",
       "      <td>house</td>\n",
       "      <td>hous</td>\n",
       "    </tr>\n",
       "    <tr>\n",
       "      <th>59</th>\n",
       "      <td>!</td>\n",
       "      <td>O</td>\n",
       "      <td>!</td>\n",
       "      <td>.</td>\n",
       "      <td>!</td>\n",
       "      <td>!</td>\n",
       "    </tr>\n",
       "  </tbody>\n",
       "</table>\n",
       "</div>"
      ],
      "text/plain": [
       "         token ner_label spell_corrected   POS      lemmas     stems\n",
       "0        Peter     B-PER           Peter   NNP       Peter     peter\n",
       "1           is         O              is   VBZ          be         i\n",
       "2            a         O               a    DT           a         a\n",
       "3         very         O            very    RB        very      veri\n",
       "4         good         O            good    JJ        good      good\n",
       "5        persn         O          person    NN      person    person\n",
       "6            .         O               .     .           .         .\n",
       "7           My         O              My  PRP$          My        my\n",
       "8         life         O            life    NN        life      life\n",
       "9           in         O              in    IN          in        in\n",
       "10      Russia     B-LOC          Russia   NNP      Russia    russia\n",
       "11          is         O              is   VBZ          be         i\n",
       "12        very         O            very    RB        very      veri\n",
       "13  intersting         O     interesting    JJ    interest  interest\n",
       "14           .         O               .     .           .         .\n",
       "15        John     B-PER            John   NNP        John      john\n",
       "16         and         O             and    CC         and       and\n",
       "17       Peter     B-PER           Peter   NNP       Peter     peter\n",
       "18         are         O             are   VBP          be        ar\n",
       "19     brothrs         O          broths   NNS       broth     broth\n",
       "20           .         O               .     .           .         .\n",
       "21     However         O         However    RB     However     howev\n",
       "22        they         O            they   PRP        they      thei\n",
       "23       don't         O           don't   VBP       don't     don't\n",
       "24     support         O         support    VB     support   support\n",
       "25        each         O            each    DT        each      each\n",
       "26       other         O           other    JJ       other     other\n",
       "27        that         O            that    IN        that      that\n",
       "28        much         O            much    JJ        much      much\n",
       "29           .         O               .     .           .         .\n",
       "30       Lucas     B-ORG           Lucas   NNP       Lucas      luca\n",
       "31       Nogal     I-ORG           Nogal   NNP       Nogal     nogal\n",
       "32  Dunbercker     I-ORG      Dunbercker   NNP  Dunbercker  dunberck\n",
       "33          is         O              is   VBZ          be         i\n",
       "34          no         O              no    DT          no        no\n",
       "35      longer         O          longer    RB        long    longer\n",
       "36       happy         O           happy    JJ       happy     happi\n",
       "37           .         O               .     .           .         .\n",
       "38          He         O              He   PRP          He        he\n",
       "39         has         O             has   VBZ        have        ha\n",
       "40           a         O               a    DT           a         a\n",
       "41        good         O            good    JJ        good      good\n",
       "42         car         O             car    NN         car       car\n",
       "43      though         O          though    IN      though    though\n",
       "44           .         O               .     .           .         .\n",
       "45      Europe     B-LOC          Europe   NNP      Europe     europ\n",
       "46          is         O              is   VBZ          be         i\n",
       "47        very         O            very    RB        very      veri\n",
       "48     culture         O         culture    RB     culture    cultur\n",
       "49        rich         O            rich    JJ        rich      rich\n",
       "50           .         O               .     .           .         .\n",
       "51       There         O           There    EX       There     there\n",
       "52         are         O             are   VBP          be        ar\n",
       "53        huge         O            huge    JJ        huge      huge\n",
       "54    churches         O        churches   NNS      church    church\n",
       "55           !         O               !     .           !         !\n",
       "56         and         O             and    CC         and       and\n",
       "57         big         O             big    JJ         big       big\n",
       "58      houses         O          houses   NNS       house      hous\n",
       "59           !         O               !     .           !         !"
      ]
     },
     "execution_count": 19,
     "metadata": {
      "tags": []
     },
     "output_type": "execute_result"
    }
   ],
   "source": [
    "df = pd.DataFrame({'token':result['token'], 'ner_label':result['ner'],\n",
    "                      'spell_corrected':result['checked'], 'POS':result['pos'],\n",
    "                      'lemmas':result['lemma'], 'stems':result['stem']})\n",
    "\n",
    "df"
   ]
  },
  {
   "cell_type": "markdown",
   "metadata": {
    "colab_type": "text",
    "id": "U8AXeuY0_9hx"
   },
   "source": [
    "### Recognize Entities DL"
   ]
  },
  {
   "cell_type": "code",
   "execution_count": 5,
   "metadata": {
    "colab": {
     "base_uri": "https://localhost:8080/",
     "height": 68
    },
    "colab_type": "code",
    "id": "MtoRgoJ9ABhh",
    "outputId": "3ee8d9ad-2ff2-4bf2-ffc3-a681e13a43da"
   },
   "outputs": [
    {
     "name": "stdout",
     "output_type": "stream",
     "text": [
      "recognize_entities_dl download started this may take some time.\n",
      "Approx size to download 159 MB\n",
      "[OK!]\n"
     ]
    }
   ],
   "source": [
    "recognize_entities = PretrainedPipeline('recognize_entities_dl', lang='en')\n"
   ]
  },
  {
   "cell_type": "code",
   "execution_count": 7,
   "metadata": {
    "colab": {
     "base_uri": "https://localhost:8080/",
     "height": 1000
    },
    "colab_type": "code",
    "id": "It-FkiQ1AaSy",
    "outputId": "a77bb9ad-f54a-436e-d455-2b4c810427b9"
   },
   "outputs": [
    {
     "data": {
      "text/plain": [
       "[('Peter', 'B-PER'),\n",
       " ('is', 'O'),\n",
       " ('a', 'O'),\n",
       " ('very', 'O'),\n",
       " ('good', 'O'),\n",
       " ('persn', 'O'),\n",
       " ('.', 'O'),\n",
       " ('My', 'O'),\n",
       " ('life', 'O'),\n",
       " ('in', 'O'),\n",
       " ('Russia', 'B-LOC'),\n",
       " ('is', 'O'),\n",
       " ('very', 'O'),\n",
       " ('intersting', 'O'),\n",
       " ('.', 'O'),\n",
       " ('John', 'B-PER'),\n",
       " ('and', 'O'),\n",
       " ('Peter', 'B-PER'),\n",
       " ('are', 'O'),\n",
       " ('brothrs', 'O'),\n",
       " ('.', 'O'),\n",
       " ('However', 'O'),\n",
       " ('they', 'O'),\n",
       " (\"don't\", 'O'),\n",
       " ('support', 'O'),\n",
       " ('each', 'O'),\n",
       " ('other', 'O'),\n",
       " ('that', 'O'),\n",
       " ('much', 'O'),\n",
       " ('.', 'O'),\n",
       " ('Lucas', 'B-ORG'),\n",
       " ('Nogal', 'I-ORG'),\n",
       " ('Dunbercker', 'I-ORG'),\n",
       " ('is', 'O'),\n",
       " ('no', 'O'),\n",
       " ('longer', 'O'),\n",
       " ('happy', 'O'),\n",
       " ('.', 'O'),\n",
       " ('He', 'O'),\n",
       " ('has', 'O'),\n",
       " ('a', 'O'),\n",
       " ('good', 'O'),\n",
       " ('car', 'O'),\n",
       " ('though', 'O'),\n",
       " ('.', 'O'),\n",
       " ('Europe', 'B-LOC'),\n",
       " ('is', 'O'),\n",
       " ('very', 'O'),\n",
       " ('culture', 'O'),\n",
       " ('rich', 'O'),\n",
       " ('.', 'O'),\n",
       " ('There', 'O'),\n",
       " ('are', 'O'),\n",
       " ('huge', 'O'),\n",
       " ('churches', 'O'),\n",
       " ('!', 'O'),\n",
       " ('and', 'O'),\n",
       " ('big', 'O'),\n",
       " ('houses', 'O'),\n",
       " ('!', 'O')]"
      ]
     },
     "execution_count": 7,
     "metadata": {
      "tags": []
     },
     "output_type": "execute_result"
    }
   ],
   "source": [
    "testDoc = '''\n",
    "Peter is a very good persn.\n",
    "My life in Russia is very intersting.\n",
    "John and Peter are brothrs. However they don't support each other that much.\n",
    "Lucas Nogal Dunbercker is no longer happy. He has a good car though.\n",
    "Europe is very culture rich. There are huge churches! and big houses!\n",
    "'''\n",
    "\n",
    "result = recognize_entities.annotate(testDoc)\n",
    "\n",
    "list(zip(result['token'], result['ner']))"
   ]
  },
  {
   "cell_type": "markdown",
   "metadata": {
    "colab_type": "text",
    "id": "1X2NLQD3Ardo"
   },
   "source": [
    "### Clean Stop Words"
   ]
  },
  {
   "cell_type": "code",
   "execution_count": 8,
   "metadata": {
    "colab": {
     "base_uri": "https://localhost:8080/",
     "height": 68
    },
    "colab_type": "code",
    "id": "JbZIJH10Avin",
    "outputId": "15e4d31a-61cd-44ec-cedc-e5269528fa8a"
   },
   "outputs": [
    {
     "name": "stdout",
     "output_type": "stream",
     "text": [
      "clean_stop download started this may take some time.\n",
      "Approx size to download 12.4 KB\n",
      "[OK!]\n"
     ]
    }
   ],
   "source": [
    "clean_stop = PretrainedPipeline('clean_stop', lang='en')\n"
   ]
  },
  {
   "cell_type": "code",
   "execution_count": 12,
   "metadata": {
    "colab": {
     "base_uri": "https://localhost:8080/",
     "height": 35
    },
    "colab_type": "code",
    "id": "VAB2MdBlA1YJ",
    "outputId": "34db0899-14b0-4808-8688-67773deaa310"
   },
   "outputs": [
    {
     "data": {
      "application/vnd.google.colaboratory.intrinsic+json": {
       "type": "string"
      },
      "text/plain": [
       "\"Peter good persn . life Russia intersting . John Peter brothrs . don't support . Lucas Nogal Dunbercker longer happy . good car . Europe culture rich . huge churches ! big houses !\""
      ]
     },
     "execution_count": 12,
     "metadata": {
      "tags": []
     },
     "output_type": "execute_result"
    }
   ],
   "source": [
    "\n",
    "result = clean_stop.annotate(testDoc)\n",
    "\n",
    "' '.join(result['cleanTokens'])"
   ]
  },
  {
   "cell_type": "markdown",
   "metadata": {
    "colab_type": "text",
    "id": "Q4_XGqgzBSD1"
   },
   "source": [
    "### Clean Slang "
   ]
  },
  {
   "cell_type": "code",
   "execution_count": 19,
   "metadata": {
    "colab": {
     "base_uri": "https://localhost:8080/",
     "height": 86
    },
    "colab_type": "code",
    "id": "vKfqKyPcBQHx",
    "outputId": "aad631b4-33d0-49a2-a833-f955ba1e5d54"
   },
   "outputs": [
    {
     "name": "stdout",
     "output_type": "stream",
     "text": [
      "clean_slang download started this may take some time.\n",
      "Approx size to download 21.8 KB\n",
      "[OK!]\n"
     ]
    },
    {
     "data": {
      "application/vnd.google.colaboratory.intrinsic+json": {
       "type": "string"
      },
      "text/plain": [
       "'how are you friend call me as soon as possible'"
      ]
     },
     "execution_count": 19,
     "metadata": {
      "tags": []
     },
     "output_type": "execute_result"
    }
   ],
   "source": [
    "clean_slang = PretrainedPipeline('clean_slang', lang='en')\n",
    "\n",
    "result = clean_slang.annotate(' Whatsup bro, call me ASAP')\n",
    "\n",
    "' '.join(result['normal'])"
   ]
  },
  {
   "cell_type": "markdown",
   "metadata": {
    "colab_type": "text",
    "id": "2jIY9tiRxxxh"
   },
   "source": [
    "### Spell Checker \n",
    "\n",
    "(Norvig Algo)"
   ]
  },
  {
   "cell_type": "code",
   "execution_count": null,
   "metadata": {
    "colab": {
     "base_uri": "https://localhost:8080/",
     "height": 66
    },
    "colab_type": "code",
    "id": "oHmbaOUJxsnk",
    "outputId": "95ee02d3-073d-463b-d202-1885f0a9f71d"
   },
   "outputs": [
    {
     "name": "stdout",
     "output_type": "stream",
     "text": [
      "check_spelling download started this may take some time.\n",
      "Approx size to download 892.6 KB\n",
      "[OK!]\n"
     ]
    }
   ],
   "source": [
    "spell_checker = PretrainedPipeline('check_spelling', lang='en')\n"
   ]
  },
  {
   "cell_type": "code",
   "execution_count": null,
   "metadata": {
    "colab": {
     "base_uri": "https://localhost:8080/",
     "height": 33
    },
    "colab_type": "code",
    "id": "qcbyRyG4yMxV",
    "outputId": "907a9279-92c2-4bc6-cc65-f4a27c999575"
   },
   "outputs": [
    {
     "data": {
      "text/plain": [
       "dict_keys(['document', 'sentence', 'token', 'checked'])"
      ]
     },
     "execution_count": 23,
     "metadata": {
      "tags": []
     },
     "output_type": "execute_result"
    }
   ],
   "source": [
    "testDoc = '''\n",
    "Peter is a very good persn.\n",
    "My life in Russia is very intersting.\n",
    "John and Peter are brothrs. However they don't support each other that much.\n",
    "Lucas Nogal Dunbercker is no longer happy. He has a good car though.\n",
    "Europe is very culture rich. There are huge churches! and big houses!\n",
    "'''\n",
    "\n",
    "result = spell_checker.annotate(testDoc)\n",
    "\n",
    "result.keys()"
   ]
  },
  {
   "cell_type": "code",
   "execution_count": null,
   "metadata": {
    "colab": {
     "base_uri": "https://localhost:8080/",
     "height": 992
    },
    "colab_type": "code",
    "id": "KJuhnR2MyPYq",
    "outputId": "8369fb9d-fcda-41a7-9ecd-2a0b807329d7"
   },
   "outputs": [
    {
     "data": {
      "text/plain": [
       "[('Peter', 'Peter'),\n",
       " ('is', 'is'),\n",
       " ('a', 'a'),\n",
       " ('very', 'very'),\n",
       " ('good', 'good'),\n",
       " ('persn', 'person'),\n",
       " ('.', '.'),\n",
       " ('My', 'My'),\n",
       " ('life', 'life'),\n",
       " ('in', 'in'),\n",
       " ('Russia', 'Russia'),\n",
       " ('is', 'is'),\n",
       " ('very', 'very'),\n",
       " ('intersting', 'interesting'),\n",
       " ('.', '.'),\n",
       " ('John', 'John'),\n",
       " ('and', 'and'),\n",
       " ('Peter', 'Peter'),\n",
       " ('are', 'are'),\n",
       " ('brothrs', 'brothers'),\n",
       " ('.', '.'),\n",
       " ('However', 'However'),\n",
       " ('they', 'they'),\n",
       " (\"don't\", \"don't\"),\n",
       " ('support', 'support'),\n",
       " ('each', 'each'),\n",
       " ('other', 'other'),\n",
       " ('that', 'that'),\n",
       " ('much', 'much'),\n",
       " ('.', '.'),\n",
       " ('Lucas', 'Lucas'),\n",
       " ('Nogal', 'Nigel'),\n",
       " ('Dunbercker', 'Dunbercker'),\n",
       " ('is', 'is'),\n",
       " ('no', 'no'),\n",
       " ('longer', 'longer'),\n",
       " ('happy', 'happy'),\n",
       " ('.', '.'),\n",
       " ('He', 'He'),\n",
       " ('has', 'has'),\n",
       " ('a', 'a'),\n",
       " ('good', 'good'),\n",
       " ('car', 'car'),\n",
       " ('though', 'though'),\n",
       " ('.', '.'),\n",
       " ('Europe', 'Europe'),\n",
       " ('is', 'is'),\n",
       " ('very', 'very'),\n",
       " ('culture', 'culture'),\n",
       " ('rich', 'rich'),\n",
       " ('.', '.'),\n",
       " ('There', 'There'),\n",
       " ('are', 'are'),\n",
       " ('huge', 'huge'),\n",
       " ('churches', 'churches'),\n",
       " ('!', '!'),\n",
       " ('and', 'and'),\n",
       " ('big', 'big'),\n",
       " ('houses', 'houses'),\n",
       " ('!', '!')]"
      ]
     },
     "execution_count": 24,
     "metadata": {
      "tags": []
     },
     "output_type": "execute_result"
    }
   ],
   "source": [
    "list(zip(result['token'], result['checked']))"
   ]
  },
  {
   "cell_type": "markdown",
   "metadata": {
    "colab_type": "text",
    "id": "x8ZwznIfLghm"
   },
   "source": [
    "### Spell Checker DL\n",
    "\n",
    "https://medium.com/spark-nlp/applying-context-aware-spell-checking-in-spark-nlp-3c29c46963bc"
   ]
  },
  {
   "cell_type": "code",
   "execution_count": null,
   "metadata": {
    "colab": {
     "base_uri": "https://localhost:8080/",
     "height": 66
    },
    "colab_type": "code",
    "id": "3UKShCJ1Lfx2",
    "outputId": "d552353d-048a-4c74-909e-ecaeb4823bf4"
   },
   "outputs": [
    {
     "name": "stdout",
     "output_type": "stream",
     "text": [
      "check_spelling_dl download started this may take some time.\n",
      "Approx size to download 112.1 MB\n",
      "[OK!]\n"
     ]
    }
   ],
   "source": [
    "spell_checker_dl = PretrainedPipeline('check_spelling_dl', lang='en')\n"
   ]
  },
  {
   "cell_type": "code",
   "execution_count": null,
   "metadata": {
    "colab": {
     "base_uri": "https://localhost:8080/",
     "height": 196
    },
    "colab_type": "code",
    "id": "-LBgds2MNZfR",
    "outputId": "2597e53a-8d53-4643-d88b-f923942ddc9c"
   },
   "outputs": [
    {
     "data": {
      "text/plain": [
       "[('We', 'We'),\n",
       " ('will', 'will'),\n",
       " ('go', 'go'),\n",
       " ('to', 'to'),\n",
       " ('swimming', 'swimming'),\n",
       " ('if', 'if'),\n",
       " ('the', 'the'),\n",
       " ('ueather', 'weather'),\n",
       " ('is', 'is'),\n",
       " ('nice', 'nice'),\n",
       " ('.', '.')]"
      ]
     },
     "execution_count": 36,
     "metadata": {
      "tags": []
     },
     "output_type": "execute_result"
    }
   ],
   "source": [
    "text = 'We will go to swimming if the ueather is nice.'\n",
    "\n",
    "result = spell_checker_dl.annotate(text)\n",
    "\n",
    "list(zip(result['token'], result['checked']))"
   ]
  },
  {
   "cell_type": "code",
   "execution_count": null,
   "metadata": {
    "colab": {
     "base_uri": "https://localhost:8080/",
     "height": 33
    },
    "colab_type": "code",
    "id": "NzCyRQa6PGdo",
    "outputId": "911c8cdc-97ed-48e2-8e2b-9a8ccd4362f7"
   },
   "outputs": [
    {
     "data": {
      "text/plain": [
       "dict_keys(['document', 'sentence', 'token', 'checked'])"
      ]
     },
     "execution_count": 37,
     "metadata": {
      "tags": []
     },
     "output_type": "execute_result"
    }
   ],
   "source": [
    "result.keys()"
   ]
  },
  {
   "cell_type": "code",
   "execution_count": null,
   "metadata": {
    "colab": {
     "base_uri": "https://localhost:8080/",
     "height": 66
    },
    "colab_type": "code",
    "id": "hcPnRCyrOL_y",
    "outputId": "c4a27da7-d577-43e9-d7c5-7d134abe813b"
   },
   "outputs": [
    {
     "name": "stdout",
     "output_type": "stream",
     "text": [
      "[('We', 'We'), ('will', 'will'), ('go', 'go'), ('to', 'to'), ('swimming', 'swimming'), ('if', 'if'), ('the', 'the'), ('ueather', 'weather'), ('is', 'is'), ('nice', 'nice'), ('.', '.')]\n",
      "[('I', 'I'), ('have', 'have'), ('a', 'a'), ('black', 'black'), ('ueather', 'leather'), ('jacket', 'jacket'), (',', ','), ('so', 'so'), ('nice', 'nice'), ('.', '.')]\n",
      "[('I', 'I'), ('introduce', 'introduce'), ('you', 'you'), ('to', 'to'), ('my', 'my'), ('sister', 'sister'), (',', ','), ('she', 'she'), ('is', 'is'), ('called', 'called'), ('ueather', 'Heather'), ('.', '.')]\n"
     ]
    }
   ],
   "source": [
    "# check for the different occurrences of the word \"ueather\"\n",
    "examples = ['We will go to swimming if the ueather is nice.',\\\n",
    "    \"I have a black ueather jacket, so nice.\",\\\n",
    "    \"I introduce you to my sister, she is called ueather.\"]\n",
    "\n",
    "results = spell_checker_dl.annotate(examples)\n",
    "\n",
    "for result in results:\n",
    "  print (list(zip(result['token'], result['checked'])))"
   ]
  },
  {
   "cell_type": "code",
   "execution_count": null,
   "metadata": {
    "colab": {
     "base_uri": "https://localhost:8080/",
     "height": 66
    },
    "colab_type": "code",
    "id": "gIqw5HrAOZ5Z",
    "outputId": "6b3f6054-2b36-4957-f9bb-f7ea7d423551"
   },
   "outputs": [
    {
     "name": "stdout",
     "output_type": "stream",
     "text": [
      "['We will go to swimming if the ueather is nice.'] >> [('ueather', 'weather')]\n",
      "['I have a black ueather jacket, so nice.'] >> [('ueather', 'leather')]\n",
      "['I introduce you to my sister, she is called ueather.'] >> [('ueather', 'Heather')]\n"
     ]
    }
   ],
   "source": [
    "for result in results:\n",
    "  print (result['document'],'>>',[pairs for pairs in list(zip(result['token'], result['checked'])) if pairs[0]!=pairs[1]])"
   ]
  },
  {
   "cell_type": "code",
   "execution_count": null,
   "metadata": {
    "colab": {
     "base_uri": "https://localhost:8080/",
     "height": 66
    },
    "colab_type": "code",
    "id": "VuUymTuLPXGG",
    "outputId": "4cb3230c-89e1-4610-cfda-7a179d2e751a"
   },
   "outputs": [
    {
     "name": "stdout",
     "output_type": "stream",
     "text": [
      "[('We', 'We'), ('will', 'will'), ('go', 'go'), ('to', 'to'), ('swimming', 'swimming'), ('if', 'if'), ('the', 'the'), ('ueather', 'weather'), ('is', 'is'), ('nice', 'nice'), ('.', '.')]\n",
      "[('I', 'I'), ('have', 'have'), ('a', 'a'), ('black', 'black'), ('ueather', 'weather'), ('jacket', 'jacket'), (',', ','), ('so', 'so'), ('nice', 'nice'), ('.', '.')]\n",
      "[('I', 'I'), ('introduce', 'introduce'), ('you', 'you'), ('to', 'to'), ('my', 'my'), ('sister', 'sister'), (',', ','), ('she', 'she'), ('is', 'is'), ('called', 'called'), ('ueather', 'weather'), ('.', '.')]\n"
     ]
    }
   ],
   "source": [
    "# if we had tried the same with spell_checker (previous version)\n",
    "\n",
    "results = spell_checker.annotate(examples)\n",
    "\n",
    "for result in results:\n",
    "  print (list(zip(result['token'], result['checked'])))"
   ]
  },
  {
   "cell_type": "markdown",
   "metadata": {
    "colab_type": "text",
    "id": "7-GIZT52zDqO"
   },
   "source": [
    "### Parsing a list of texts"
   ]
  },
  {
   "cell_type": "code",
   "execution_count": null,
   "metadata": {
    "colab": {
     "base_uri": "https://localhost:8080/",
     "height": 66
    },
    "colab_type": "code",
    "id": "wcXYwNndzJWb",
    "outputId": "4286ea8c-f76d-4e84-e390-f7c517a57cd9"
   },
   "outputs": [
    {
     "data": {
      "text/plain": [
       "['French author who helped pioner the science-fiction genre.',\n",
       " 'Verne wrate about space, air, and underwater travel before navigable aircrast',\n",
       " 'Practical submarines were invented, and before any means of space travel had been devised.']"
      ]
     },
     "execution_count": 41,
     "metadata": {
      "tags": []
     },
     "output_type": "execute_result"
    }
   ],
   "source": [
    "testDoc_list = ['French author who helped pioner the science-fiction genre.',\n",
    "'Verne wrate about space, air, and underwater travel before navigable aircrast',\n",
    "'Practical submarines were invented, and before any means of space travel had been devised.']\n",
    "\n",
    "testDoc_list"
   ]
  },
  {
   "cell_type": "code",
   "execution_count": null,
   "metadata": {
    "colab": {},
    "colab_type": "code",
    "id": "8Ujagvo_QaKT"
   },
   "outputs": [],
   "source": [
    "pipeline = PretrainedPipeline('explain_document_ml', lang='en')\n"
   ]
  },
  {
   "cell_type": "code",
   "execution_count": null,
   "metadata": {
    "colab": {
     "base_uri": "https://localhost:8080/",
     "height": 33
    },
    "colab_type": "code",
    "id": "Yzegl_OEzbMi",
    "outputId": "5614c5a4-df29-46f0-ca2b-d6569d2bc94a"
   },
   "outputs": [
    {
     "data": {
      "text/plain": [
       "3"
      ]
     },
     "execution_count": 42,
     "metadata": {
      "tags": []
     },
     "output_type": "execute_result"
    }
   ],
   "source": [
    "result_list = pipeline.annotate(testDoc_list)\n",
    "\n",
    "len (result_list)"
   ]
  },
  {
   "cell_type": "code",
   "execution_count": null,
   "metadata": {
    "colab": {
     "base_uri": "https://localhost:8080/",
     "height": 651
    },
    "colab_type": "code",
    "id": "sf0Uzm9yzmNV",
    "outputId": "eb004fd2-b4cd-445e-85d7-f656d72c59d6"
   },
   "outputs": [
    {
     "data": {
      "text/plain": [
       "{'document': ['French author who helped pioner the science-fiction genre.'],\n",
       " 'lemmas': ['French',\n",
       "  'author',\n",
       "  'who',\n",
       "  'help',\n",
       "  'pioneer',\n",
       "  'the',\n",
       "  'sciencefiction',\n",
       "  'genre',\n",
       "  '.'],\n",
       " 'pos': ['JJ', 'NN', 'WP', 'VBD', 'NN', 'DT', 'NN', 'NN', '.'],\n",
       " 'sentence': ['French author who helped pioner the science-fiction genre.'],\n",
       " 'spell': ['French',\n",
       "  'author',\n",
       "  'who',\n",
       "  'helped',\n",
       "  'pioneer',\n",
       "  'the',\n",
       "  'sciencefiction',\n",
       "  'genre',\n",
       "  '.'],\n",
       " 'stems': ['french',\n",
       "  'author',\n",
       "  'who',\n",
       "  'help',\n",
       "  'pioneer',\n",
       "  'the',\n",
       "  'sciencefict',\n",
       "  'genr',\n",
       "  '.'],\n",
       " 'token': ['French',\n",
       "  'author',\n",
       "  'who',\n",
       "  'helped',\n",
       "  'pioner',\n",
       "  'the',\n",
       "  'science-fiction',\n",
       "  'genre',\n",
       "  '.']}"
      ]
     },
     "execution_count": 43,
     "metadata": {
      "tags": []
     },
     "output_type": "execute_result"
    }
   ],
   "source": [
    "result_list[0]"
   ]
  },
  {
   "cell_type": "markdown",
   "metadata": {
    "colab_type": "text",
    "id": "EqLsubshycBo"
   },
   "source": [
    "### Using fullAnnotate to get more details\n",
    "\n"
   ]
  },
  {
   "cell_type": "code",
   "execution_count": null,
   "metadata": {
    "colab": {},
    "colab_type": "code",
    "id": "9EvvLmUlyXLs"
   },
   "outputs": [],
   "source": [
    "text = 'Peter Parker is a nice guy and lives in New York'"
   ]
  },
  {
   "cell_type": "code",
   "execution_count": null,
   "metadata": {
    "colab": {},
    "colab_type": "code",
    "id": "pg0nU5hOxcCt"
   },
   "outputs": [],
   "source": [
    "# pipeline_dl >> explain_document_dl\n",
    "\n",
    "detailed_result = pipeline_dl.fullAnnotate(text)"
   ]
  },
  {
   "cell_type": "code",
   "execution_count": null,
   "metadata": {
    "colab": {
     "base_uri": "https://localhost:8080/",
     "height": 1000
    },
    "colab_type": "code",
    "id": "3fPAdbZTxfXD",
    "outputId": "4dd4bb19-bb05-471c-8a0e-1b51a341f336"
   },
   "outputs": [
    {
     "data": {
      "text/plain": [
       "[{'checked': [Annotation(token, 0, 4, Peter, {'confidence': '1.0', 'sentence': '0'}),\n",
       "   Annotation(token, 6, 11, Parker, {'confidence': '1.0', 'sentence': '0'}),\n",
       "   Annotation(token, 13, 14, is, {'confidence': '1.0', 'sentence': '0'}),\n",
       "   Annotation(token, 16, 16, a, {'confidence': '1.0', 'sentence': '0'}),\n",
       "   Annotation(token, 18, 21, nice, {'confidence': '1.0', 'sentence': '0'}),\n",
       "   Annotation(token, 23, 26, guys, {'confidence': '1.0', 'sentence': '0'}),\n",
       "   Annotation(token, 28, 30, and, {'confidence': '1.0', 'sentence': '0'}),\n",
       "   Annotation(token, 32, 36, lives, {'confidence': '1.0', 'sentence': '0'}),\n",
       "   Annotation(token, 38, 39, in, {'confidence': '1.0', 'sentence': '0'}),\n",
       "   Annotation(token, 41, 43, New, {'confidence': '1.0', 'sentence': '0'}),\n",
       "   Annotation(token, 45, 48, York, {'confidence': '1.0', 'sentence': '0'})],\n",
       "  'document': [Annotation(document, 0, 48, Peter Parker is a nice guye and lives in New York, {})],\n",
       "  'embeddings': [Annotation(word_embeddings, 0, 4, Peter, {'isOOV': 'false', 'pieceId': '-1', 'isWordStart': 'true', 'token': 'Peter', 'sentence': '0'}),\n",
       "   Annotation(word_embeddings, 6, 11, Parker, {'isOOV': 'false', 'pieceId': '-1', 'isWordStart': 'true', 'token': 'Parker', 'sentence': '0'}),\n",
       "   Annotation(word_embeddings, 13, 14, is, {'isOOV': 'false', 'pieceId': '-1', 'isWordStart': 'true', 'token': 'is', 'sentence': '0'}),\n",
       "   Annotation(word_embeddings, 16, 16, a, {'isOOV': 'false', 'pieceId': '-1', 'isWordStart': 'true', 'token': 'a', 'sentence': '0'}),\n",
       "   Annotation(word_embeddings, 18, 21, nice, {'isOOV': 'false', 'pieceId': '-1', 'isWordStart': 'true', 'token': 'nice', 'sentence': '0'}),\n",
       "   Annotation(word_embeddings, 23, 26, guye, {'isOOV': 'false', 'pieceId': '-1', 'isWordStart': 'true', 'token': 'guye', 'sentence': '0'}),\n",
       "   Annotation(word_embeddings, 28, 30, and, {'isOOV': 'false', 'pieceId': '-1', 'isWordStart': 'true', 'token': 'and', 'sentence': '0'}),\n",
       "   Annotation(word_embeddings, 32, 36, lives, {'isOOV': 'false', 'pieceId': '-1', 'isWordStart': 'true', 'token': 'lives', 'sentence': '0'}),\n",
       "   Annotation(word_embeddings, 38, 39, in, {'isOOV': 'false', 'pieceId': '-1', 'isWordStart': 'true', 'token': 'in', 'sentence': '0'}),\n",
       "   Annotation(word_embeddings, 41, 43, New, {'isOOV': 'false', 'pieceId': '-1', 'isWordStart': 'true', 'token': 'New', 'sentence': '0'}),\n",
       "   Annotation(word_embeddings, 45, 48, York, {'isOOV': 'false', 'pieceId': '-1', 'isWordStart': 'true', 'token': 'York', 'sentence': '0'})],\n",
       "  'entities': [Annotation(chunk, 0, 11, Peter Parker, {'entity': 'PER', 'sentence': '0', 'chunk': '0'}),\n",
       "   Annotation(chunk, 41, 48, New York, {'entity': 'LOC', 'sentence': '0', 'chunk': '1'})],\n",
       "  'lemma': [Annotation(token, 0, 4, Peter, {'confidence': '1.0', 'sentence': '0'}),\n",
       "   Annotation(token, 6, 11, Parker, {'confidence': '1.0', 'sentence': '0'}),\n",
       "   Annotation(token, 13, 14, be, {'confidence': '1.0', 'sentence': '0'}),\n",
       "   Annotation(token, 16, 16, a, {'confidence': '1.0', 'sentence': '0'}),\n",
       "   Annotation(token, 18, 21, nice, {'confidence': '1.0', 'sentence': '0'}),\n",
       "   Annotation(token, 23, 26, guy, {'confidence': '1.0', 'sentence': '0'}),\n",
       "   Annotation(token, 28, 30, and, {'confidence': '1.0', 'sentence': '0'}),\n",
       "   Annotation(token, 32, 36, life, {'confidence': '1.0', 'sentence': '0'}),\n",
       "   Annotation(token, 38, 39, in, {'confidence': '1.0', 'sentence': '0'}),\n",
       "   Annotation(token, 41, 43, New, {'confidence': '1.0', 'sentence': '0'}),\n",
       "   Annotation(token, 45, 48, York, {'confidence': '1.0', 'sentence': '0'})],\n",
       "  'ner': [Annotation(named_entity, 0, 4, B-PER, {'word': 'Peter'}),\n",
       "   Annotation(named_entity, 6, 11, I-PER, {'word': 'Parker'}),\n",
       "   Annotation(named_entity, 13, 14, O, {'word': 'is'}),\n",
       "   Annotation(named_entity, 16, 16, O, {'word': 'a'}),\n",
       "   Annotation(named_entity, 18, 21, O, {'word': 'nice'}),\n",
       "   Annotation(named_entity, 23, 26, O, {'word': 'guye'}),\n",
       "   Annotation(named_entity, 28, 30, O, {'word': 'and'}),\n",
       "   Annotation(named_entity, 32, 36, O, {'word': 'lives'}),\n",
       "   Annotation(named_entity, 38, 39, O, {'word': 'in'}),\n",
       "   Annotation(named_entity, 41, 43, B-LOC, {'word': 'New'}),\n",
       "   Annotation(named_entity, 45, 48, I-LOC, {'word': 'York'})],\n",
       "  'pos': [Annotation(pos, 0, 4, NNP, {'word': 'Peter'}),\n",
       "   Annotation(pos, 6, 11, NNP, {'word': 'Parker'}),\n",
       "   Annotation(pos, 13, 14, VBZ, {'word': 'is'}),\n",
       "   Annotation(pos, 16, 16, DT, {'word': 'a'}),\n",
       "   Annotation(pos, 18, 21, JJ, {'word': 'nice'}),\n",
       "   Annotation(pos, 23, 26, NNS, {'word': 'guys'}),\n",
       "   Annotation(pos, 28, 30, CC, {'word': 'and'}),\n",
       "   Annotation(pos, 32, 36, NNS, {'word': 'lives'}),\n",
       "   Annotation(pos, 38, 39, IN, {'word': 'in'}),\n",
       "   Annotation(pos, 41, 43, NNP, {'word': 'New'}),\n",
       "   Annotation(pos, 45, 48, NNP, {'word': 'York'})],\n",
       "  'sentence': [Annotation(document, 0, 48, Peter Parker is a nice guye and lives in New York, {'sentence': '0'})],\n",
       "  'stem': [Annotation(token, 0, 4, peter, {'confidence': '1.0', 'sentence': '0'}),\n",
       "   Annotation(token, 6, 11, parker, {'confidence': '1.0', 'sentence': '0'}),\n",
       "   Annotation(token, 13, 14, i, {'confidence': '1.0', 'sentence': '0'}),\n",
       "   Annotation(token, 16, 16, a, {'confidence': '1.0', 'sentence': '0'}),\n",
       "   Annotation(token, 18, 21, nice, {'confidence': '1.0', 'sentence': '0'}),\n",
       "   Annotation(token, 23, 26, gui, {'confidence': '1.0', 'sentence': '0'}),\n",
       "   Annotation(token, 28, 30, and, {'confidence': '1.0', 'sentence': '0'}),\n",
       "   Annotation(token, 32, 36, live, {'confidence': '1.0', 'sentence': '0'}),\n",
       "   Annotation(token, 38, 39, in, {'confidence': '1.0', 'sentence': '0'}),\n",
       "   Annotation(token, 41, 43, new, {'confidence': '1.0', 'sentence': '0'}),\n",
       "   Annotation(token, 45, 48, york, {'confidence': '1.0', 'sentence': '0'})],\n",
       "  'token': [Annotation(token, 0, 4, Peter, {'sentence': '0'}),\n",
       "   Annotation(token, 6, 11, Parker, {'sentence': '0'}),\n",
       "   Annotation(token, 13, 14, is, {'sentence': '0'}),\n",
       "   Annotation(token, 16, 16, a, {'sentence': '0'}),\n",
       "   Annotation(token, 18, 21, nice, {'sentence': '0'}),\n",
       "   Annotation(token, 23, 26, guye, {'sentence': '0'}),\n",
       "   Annotation(token, 28, 30, and, {'sentence': '0'}),\n",
       "   Annotation(token, 32, 36, lives, {'sentence': '0'}),\n",
       "   Annotation(token, 38, 39, in, {'sentence': '0'}),\n",
       "   Annotation(token, 41, 43, New, {'sentence': '0'}),\n",
       "   Annotation(token, 45, 48, York, {'sentence': '0'})]}]"
      ]
     },
     "execution_count": 49,
     "metadata": {
      "tags": []
     },
     "output_type": "execute_result"
    }
   ],
   "source": [
    "detailed_result"
   ]
  },
  {
   "cell_type": "code",
   "execution_count": null,
   "metadata": {
    "colab": {
     "base_uri": "https://localhost:8080/",
     "height": 50
    },
    "colab_type": "code",
    "id": "OtvDDG560_Dx",
    "outputId": "d587cb99-6551-4d61-9cc6-eb13cd54b116"
   },
   "outputs": [
    {
     "data": {
      "text/plain": [
       "[Annotation(chunk, 0, 11, Peter Parker, {'entity': 'PER', 'sentence': '0', 'chunk': '0'}),\n",
       " Annotation(chunk, 40, 47, New York, {'entity': 'LOC', 'sentence': '0', 'chunk': '1'})]"
      ]
     },
     "execution_count": 52,
     "metadata": {
      "tags": []
     },
     "output_type": "execute_result"
    }
   ],
   "source": [
    "detailed_result[0]['entities']"
   ]
  },
  {
   "cell_type": "code",
   "execution_count": null,
   "metadata": {
    "colab": {
     "base_uri": "https://localhost:8080/",
     "height": 105
    },
    "colab_type": "code",
    "id": "czqRRv-7wHpO",
    "outputId": "8bc36cd8-a14d-48e2-bbec-991b0d48a991"
   },
   "outputs": [
    {
     "data": {
      "text/html": [
       "<div>\n",
       "<style scoped>\n",
       "    .dataframe tbody tr th:only-of-type {\n",
       "        vertical-align: middle;\n",
       "    }\n",
       "\n",
       "    .dataframe tbody tr th {\n",
       "        vertical-align: top;\n",
       "    }\n",
       "\n",
       "    .dataframe thead th {\n",
       "        text-align: right;\n",
       "    }\n",
       "</style>\n",
       "<table border=\"1\" class=\"dataframe\">\n",
       "  <thead>\n",
       "    <tr style=\"text-align: right;\">\n",
       "      <th></th>\n",
       "      <th>chunks</th>\n",
       "      <th>entities</th>\n",
       "    </tr>\n",
       "  </thead>\n",
       "  <tbody>\n",
       "    <tr>\n",
       "      <th>0</th>\n",
       "      <td>Peter Parker</td>\n",
       "      <td>PER</td>\n",
       "    </tr>\n",
       "    <tr>\n",
       "      <th>1</th>\n",
       "      <td>New York</td>\n",
       "      <td>LOC</td>\n",
       "    </tr>\n",
       "  </tbody>\n",
       "</table>\n",
       "</div>"
      ],
      "text/plain": [
       "         chunks entities\n",
       "0  Peter Parker      PER\n",
       "1      New York      LOC"
      ]
     },
     "execution_count": 53,
     "metadata": {
      "tags": []
     },
     "output_type": "execute_result"
    }
   ],
   "source": [
    "chunks=[]\n",
    "entities=[]\n",
    "for n in detailed_result[0]['entities']:\n",
    "        \n",
    "  chunks.append(n.result)\n",
    "  entities.append(n.metadata['entity']) \n",
    "    \n",
    "df = pd.DataFrame({'chunks':chunks, 'entities':entities})\n",
    "df    "
   ]
  },
  {
   "cell_type": "code",
   "execution_count": null,
   "metadata": {
    "colab": {
     "base_uri": "https://localhost:8080/",
     "height": 363
    },
    "colab_type": "code",
    "id": "8KIyPi5O0nvT",
    "outputId": "46c23683-225b-443d-f1b3-90d29576d08d"
   },
   "outputs": [
    {
     "data": {
      "text/html": [
       "<div>\n",
       "<style scoped>\n",
       "    .dataframe tbody tr th:only-of-type {\n",
       "        vertical-align: middle;\n",
       "    }\n",
       "\n",
       "    .dataframe tbody tr th {\n",
       "        vertical-align: top;\n",
       "    }\n",
       "\n",
       "    .dataframe thead th {\n",
       "        text-align: right;\n",
       "    }\n",
       "</style>\n",
       "<table border=\"1\" class=\"dataframe\">\n",
       "  <thead>\n",
       "    <tr style=\"text-align: right;\">\n",
       "      <th></th>\n",
       "      <th>sent_id</th>\n",
       "      <th>token</th>\n",
       "      <th>start</th>\n",
       "      <th>end</th>\n",
       "      <th>pos</th>\n",
       "      <th>ner</th>\n",
       "    </tr>\n",
       "  </thead>\n",
       "  <tbody>\n",
       "    <tr>\n",
       "      <th>0</th>\n",
       "      <td>0</td>\n",
       "      <td>Peter</td>\n",
       "      <td>0</td>\n",
       "      <td>4</td>\n",
       "      <td>NNP</td>\n",
       "      <td>B-PER</td>\n",
       "    </tr>\n",
       "    <tr>\n",
       "      <th>1</th>\n",
       "      <td>0</td>\n",
       "      <td>Parker</td>\n",
       "      <td>6</td>\n",
       "      <td>11</td>\n",
       "      <td>NNP</td>\n",
       "      <td>I-PER</td>\n",
       "    </tr>\n",
       "    <tr>\n",
       "      <th>2</th>\n",
       "      <td>0</td>\n",
       "      <td>is</td>\n",
       "      <td>13</td>\n",
       "      <td>14</td>\n",
       "      <td>VBZ</td>\n",
       "      <td>O</td>\n",
       "    </tr>\n",
       "    <tr>\n",
       "      <th>3</th>\n",
       "      <td>0</td>\n",
       "      <td>a</td>\n",
       "      <td>16</td>\n",
       "      <td>16</td>\n",
       "      <td>DT</td>\n",
       "      <td>O</td>\n",
       "    </tr>\n",
       "    <tr>\n",
       "      <th>4</th>\n",
       "      <td>0</td>\n",
       "      <td>nice</td>\n",
       "      <td>18</td>\n",
       "      <td>21</td>\n",
       "      <td>JJ</td>\n",
       "      <td>O</td>\n",
       "    </tr>\n",
       "    <tr>\n",
       "      <th>5</th>\n",
       "      <td>0</td>\n",
       "      <td>guy</td>\n",
       "      <td>23</td>\n",
       "      <td>25</td>\n",
       "      <td>NN</td>\n",
       "      <td>O</td>\n",
       "    </tr>\n",
       "    <tr>\n",
       "      <th>6</th>\n",
       "      <td>0</td>\n",
       "      <td>and</td>\n",
       "      <td>27</td>\n",
       "      <td>29</td>\n",
       "      <td>CC</td>\n",
       "      <td>O</td>\n",
       "    </tr>\n",
       "    <tr>\n",
       "      <th>7</th>\n",
       "      <td>0</td>\n",
       "      <td>lives</td>\n",
       "      <td>31</td>\n",
       "      <td>35</td>\n",
       "      <td>NNS</td>\n",
       "      <td>O</td>\n",
       "    </tr>\n",
       "    <tr>\n",
       "      <th>8</th>\n",
       "      <td>0</td>\n",
       "      <td>in</td>\n",
       "      <td>37</td>\n",
       "      <td>38</td>\n",
       "      <td>IN</td>\n",
       "      <td>O</td>\n",
       "    </tr>\n",
       "    <tr>\n",
       "      <th>9</th>\n",
       "      <td>0</td>\n",
       "      <td>New</td>\n",
       "      <td>40</td>\n",
       "      <td>42</td>\n",
       "      <td>NNP</td>\n",
       "      <td>B-LOC</td>\n",
       "    </tr>\n",
       "    <tr>\n",
       "      <th>10</th>\n",
       "      <td>0</td>\n",
       "      <td>York</td>\n",
       "      <td>44</td>\n",
       "      <td>47</td>\n",
       "      <td>NNP</td>\n",
       "      <td>I-LOC</td>\n",
       "    </tr>\n",
       "  </tbody>\n",
       "</table>\n",
       "</div>"
      ],
      "text/plain": [
       "    sent_id   token  start  end  pos    ner\n",
       "0         0   Peter      0    4  NNP  B-PER\n",
       "1         0  Parker      6   11  NNP  I-PER\n",
       "2         0      is     13   14  VBZ      O\n",
       "3         0       a     16   16   DT      O\n",
       "4         0    nice     18   21   JJ      O\n",
       "5         0     guy     23   25   NN      O\n",
       "6         0     and     27   29   CC      O\n",
       "7         0   lives     31   35  NNS      O\n",
       "8         0      in     37   38   IN      O\n",
       "9         0     New     40   42  NNP  B-LOC\n",
       "10        0    York     44   47  NNP  I-LOC"
      ]
     },
     "execution_count": 54,
     "metadata": {
      "tags": []
     },
     "output_type": "execute_result"
    }
   ],
   "source": [
    "tuples = []\n",
    "\n",
    "for x,y,z in zip(detailed_result[0][\"token\"], detailed_result[0][\"pos\"], detailed_result[0][\"ner\"]):\n",
    "\n",
    "  tuples.append((int(x.metadata['sentence']), x.result, x.begin, x.end, y.result, z.result))\n",
    "\n",
    "df = pd.DataFrame(tuples, columns=['sent_id','token','start','end','pos', 'ner'])\n",
    "\n",
    "df\n"
   ]
  },
  {
   "cell_type": "markdown",
   "metadata": {
    "colab_type": "text",
    "id": "X7ZXnJGq2vAA"
   },
   "source": [
    "### Use pretrained match_chunk Pipeline for Individual Noun Phrase"
   ]
  },
  {
   "cell_type": "markdown",
   "metadata": {
    "colab_type": "text",
    "id": "robP3BIy23So"
   },
   "source": [
    "**Stages**\n",
    "- DocumentAssembler\n",
    "- SentenceDetector\n",
    "- Tokenizer\n",
    "- Part of Speech\n",
    "- Chunker\n",
    "\n",
    "Pipeline:\n",
    "\n",
    "- The pipeline uses regex `<DT>?<JJ>*<NN>+`\n",
    "- which states that whenever the chunk finds an optional determiner (DT) followed by any number of adjectives (JJ) and then a noun (NN) then the Noun Phrase(NP) chunk should be formed."
   ]
  },
  {
   "cell_type": "code",
   "execution_count": null,
   "metadata": {
    "colab": {
     "base_uri": "https://localhost:8080/",
     "height": 66
    },
    "colab_type": "code",
    "id": "cMNVe5Cx2A-V",
    "outputId": "e295f864-e0f7-4871-cffb-e42173512dd8"
   },
   "outputs": [
    {
     "name": "stdout",
     "output_type": "stream",
     "text": [
      "match_chunks download started this may take some time.\n",
      "Approx size to download 4.3 MB\n",
      "[OK!]\n"
     ]
    }
   ],
   "source": [
    "pipeline = PretrainedPipeline('match_chunks', lang='en')\n"
   ]
  },
  {
   "cell_type": "code",
   "execution_count": null,
   "metadata": {
    "colab": {},
    "colab_type": "code",
    "id": "CH0lmriN3cm-"
   },
   "outputs": [],
   "source": [
    "result = pipeline.annotate(\"The book has many chapters\") # single noun phrase\n"
   ]
  },
  {
   "cell_type": "code",
   "execution_count": null,
   "metadata": {
    "colab": {
     "base_uri": "https://localhost:8080/",
     "height": 98
    },
    "colab_type": "code",
    "id": "wx9vlNiE3nEy",
    "outputId": "98ff3833-1cc5-444e-ad02-83d9e6dbbf05"
   },
   "outputs": [
    {
     "data": {
      "text/plain": [
       "{'chunk': ['The book'],\n",
       " 'document': ['The book has many chapters'],\n",
       " 'pos': ['DT', 'NN', 'VBZ', 'JJ', 'NNS'],\n",
       " 'sentence': ['The book has many chapters'],\n",
       " 'token': ['The', 'book', 'has', 'many', 'chapters']}"
      ]
     },
     "execution_count": 57,
     "metadata": {
      "tags": []
     },
     "output_type": "execute_result"
    }
   ],
   "source": [
    "result"
   ]
  },
  {
   "cell_type": "code",
   "execution_count": null,
   "metadata": {
    "colab": {
     "base_uri": "https://localhost:8080/",
     "height": 33
    },
    "colab_type": "code",
    "id": "DO-37mrZ3e6c",
    "outputId": "d51af6b7-17c6-4224-edfe-74021503a6e4"
   },
   "outputs": [
    {
     "data": {
      "text/plain": [
       "['The book']"
      ]
     },
     "execution_count": 58,
     "metadata": {
      "tags": []
     },
     "output_type": "execute_result"
    }
   ],
   "source": [
    "result['chunk']"
   ]
  },
  {
   "cell_type": "code",
   "execution_count": null,
   "metadata": {
    "colab": {},
    "colab_type": "code",
    "id": "btqYqgim3gWN"
   },
   "outputs": [],
   "source": [
    "result = pipeline.annotate(\"the little yellow dog barked at the cat\") #multiple noune phrases"
   ]
  },
  {
   "cell_type": "code",
   "execution_count": null,
   "metadata": {
    "colab": {
     "base_uri": "https://localhost:8080/",
     "height": 98
    },
    "colab_type": "code",
    "id": "zPp7aXOR3sHV",
    "outputId": "363439a7-dc85-42e6-9c27-bf071c13b031"
   },
   "outputs": [
    {
     "data": {
      "text/plain": [
       "{'chunk': ['the little yellow dog', 'the cat'],\n",
       " 'document': ['the little yellow dog barked at the cat'],\n",
       " 'pos': ['DT', 'JJ', 'JJ', 'NN', 'JJ', 'IN', 'DT', 'NN'],\n",
       " 'sentence': ['the little yellow dog barked at the cat'],\n",
       " 'token': ['the', 'little', 'yellow', 'dog', 'barked', 'at', 'the', 'cat']}"
      ]
     },
     "execution_count": 60,
     "metadata": {
      "tags": []
     },
     "output_type": "execute_result"
    }
   ],
   "source": [
    "result"
   ]
  },
  {
   "cell_type": "code",
   "execution_count": null,
   "metadata": {
    "colab": {
     "base_uri": "https://localhost:8080/",
     "height": 33
    },
    "colab_type": "code",
    "id": "y-Nj9H2r3htO",
    "outputId": "9cf03a12-2b7d-46df-9f4e-258ab22c79d7"
   },
   "outputs": [
    {
     "data": {
      "text/plain": [
       "['the little yellow dog', 'the cat']"
      ]
     },
     "execution_count": 61,
     "metadata": {
      "tags": []
     },
     "output_type": "execute_result"
    }
   ],
   "source": [
    "result['chunk']"
   ]
  },
  {
   "cell_type": "markdown",
   "metadata": {
    "colab_type": "text",
    "id": "AII-7IpM_Hog"
   },
   "source": [
    "### Extract exact dates from referential date phrases"
   ]
  },
  {
   "cell_type": "code",
   "execution_count": null,
   "metadata": {
    "colab": {
     "base_uri": "https://localhost:8080/",
     "height": 66
    },
    "colab_type": "code",
    "id": "f2sxECue_JLX",
    "outputId": "9dec0207-8691-4f54-f2fb-47aa4585b887"
   },
   "outputs": [
    {
     "name": "stdout",
     "output_type": "stream",
     "text": [
      "match_datetime download started this may take some time.\n",
      "Approx size to download 12.9 KB\n",
      "[OK!]\n"
     ]
    }
   ],
   "source": [
    "pipeline = PretrainedPipeline('match_datetime', lang='en')\n"
   ]
  },
  {
   "cell_type": "code",
   "execution_count": null,
   "metadata": {
    "colab": {
     "base_uri": "https://localhost:8080/",
     "height": 310
    },
    "colab_type": "code",
    "id": "zMi_QNsh_RdX",
    "outputId": "fe3b882b-9b85-4631-cf27-10d09b74fd9a"
   },
   "outputs": [
    {
     "data": {
      "text/plain": [
       "{'date': ['2020/08/02', '2020/07/25'],\n",
       " 'document': ['I saw him yesterday and he told me that he will visit us next week'],\n",
       " 'sentence': ['I saw him yesterday and he told me that he will visit us next week'],\n",
       " 'token': ['I',\n",
       "  'saw',\n",
       "  'him',\n",
       "  'yesterday',\n",
       "  'and',\n",
       "  'he',\n",
       "  'told',\n",
       "  'me',\n",
       "  'that',\n",
       "  'he',\n",
       "  'will',\n",
       "  'visit',\n",
       "  'us',\n",
       "  'next',\n",
       "  'week']}"
      ]
     },
     "execution_count": 63,
     "metadata": {
      "tags": []
     },
     "output_type": "execute_result"
    }
   ],
   "source": [
    "result = pipeline.annotate(\"I saw him yesterday and he told me that he will visit us next week\")\n",
    "\n",
    "result"
   ]
  },
  {
   "cell_type": "code",
   "execution_count": null,
   "metadata": {
    "colab": {
     "base_uri": "https://localhost:8080/",
     "height": 326
    },
    "colab_type": "code",
    "id": "W76HdhULHm7q",
    "outputId": "8dbc740f-1760-4449-a4a1-e1fdc018f4ba"
   },
   "outputs": [
    {
     "data": {
      "text/plain": [
       "[{'date': [Annotation(date, 57, 65, 2020/08/02, {'sentence': '0'}),\n",
       "   Annotation(date, 10, 18, 2020/07/25, {'sentence': '0'})],\n",
       "  'document': [Annotation(document, 0, 65, I saw him yesterday and he told me that he will visit us next week, {})],\n",
       "  'sentence': [Annotation(document, 0, 65, I saw him yesterday and he told me that he will visit us next week, {'sentence': '0'})],\n",
       "  'token': [Annotation(token, 0, 0, I, {'sentence': '0'}),\n",
       "   Annotation(token, 2, 4, saw, {'sentence': '0'}),\n",
       "   Annotation(token, 6, 8, him, {'sentence': '0'}),\n",
       "   Annotation(token, 10, 18, yesterday, {'sentence': '0'}),\n",
       "   Annotation(token, 20, 22, and, {'sentence': '0'}),\n",
       "   Annotation(token, 24, 25, he, {'sentence': '0'}),\n",
       "   Annotation(token, 27, 30, told, {'sentence': '0'}),\n",
       "   Annotation(token, 32, 33, me, {'sentence': '0'}),\n",
       "   Annotation(token, 35, 38, that, {'sentence': '0'}),\n",
       "   Annotation(token, 40, 41, he, {'sentence': '0'}),\n",
       "   Annotation(token, 43, 46, will, {'sentence': '0'}),\n",
       "   Annotation(token, 48, 52, visit, {'sentence': '0'}),\n",
       "   Annotation(token, 54, 55, us, {'sentence': '0'}),\n",
       "   Annotation(token, 57, 60, next, {'sentence': '0'}),\n",
       "   Annotation(token, 62, 65, week, {'sentence': '0'})]}]"
      ]
     },
     "execution_count": 65,
     "metadata": {
      "tags": []
     },
     "output_type": "execute_result"
    }
   ],
   "source": [
    "detailed_result = pipeline.fullAnnotate(\"I saw him yesterday and he told me that he will visit us next week\")\n",
    "\n",
    "detailed_result"
   ]
  },
  {
   "cell_type": "code",
   "execution_count": null,
   "metadata": {
    "colab": {
     "base_uri": "https://localhost:8080/",
     "height": 478
    },
    "colab_type": "code",
    "id": "CFTkMlDTU_lh",
    "outputId": "cd31eb3d-5e76-4059-bb1c-2d4ed9ced425"
   },
   "outputs": [
    {
     "data": {
      "text/html": [
       "<div>\n",
       "<style scoped>\n",
       "    .dataframe tbody tr th:only-of-type {\n",
       "        vertical-align: middle;\n",
       "    }\n",
       "\n",
       "    .dataframe tbody tr th {\n",
       "        vertical-align: top;\n",
       "    }\n",
       "\n",
       "    .dataframe thead th {\n",
       "        text-align: right;\n",
       "    }\n",
       "</style>\n",
       "<table border=\"1\" class=\"dataframe\">\n",
       "  <thead>\n",
       "    <tr style=\"text-align: right;\">\n",
       "      <th></th>\n",
       "      <th>sent_id</th>\n",
       "      <th>token</th>\n",
       "      <th>start</th>\n",
       "      <th>end</th>\n",
       "    </tr>\n",
       "  </thead>\n",
       "  <tbody>\n",
       "    <tr>\n",
       "      <th>0</th>\n",
       "      <td>0</td>\n",
       "      <td>I</td>\n",
       "      <td>0</td>\n",
       "      <td>0</td>\n",
       "    </tr>\n",
       "    <tr>\n",
       "      <th>1</th>\n",
       "      <td>0</td>\n",
       "      <td>saw</td>\n",
       "      <td>2</td>\n",
       "      <td>4</td>\n",
       "    </tr>\n",
       "    <tr>\n",
       "      <th>2</th>\n",
       "      <td>0</td>\n",
       "      <td>him</td>\n",
       "      <td>6</td>\n",
       "      <td>8</td>\n",
       "    </tr>\n",
       "    <tr>\n",
       "      <th>3</th>\n",
       "      <td>0</td>\n",
       "      <td>yesterday</td>\n",
       "      <td>10</td>\n",
       "      <td>18</td>\n",
       "    </tr>\n",
       "    <tr>\n",
       "      <th>4</th>\n",
       "      <td>0</td>\n",
       "      <td>and</td>\n",
       "      <td>20</td>\n",
       "      <td>22</td>\n",
       "    </tr>\n",
       "    <tr>\n",
       "      <th>5</th>\n",
       "      <td>0</td>\n",
       "      <td>he</td>\n",
       "      <td>24</td>\n",
       "      <td>25</td>\n",
       "    </tr>\n",
       "    <tr>\n",
       "      <th>6</th>\n",
       "      <td>0</td>\n",
       "      <td>told</td>\n",
       "      <td>27</td>\n",
       "      <td>30</td>\n",
       "    </tr>\n",
       "    <tr>\n",
       "      <th>7</th>\n",
       "      <td>0</td>\n",
       "      <td>me</td>\n",
       "      <td>32</td>\n",
       "      <td>33</td>\n",
       "    </tr>\n",
       "    <tr>\n",
       "      <th>8</th>\n",
       "      <td>0</td>\n",
       "      <td>that</td>\n",
       "      <td>35</td>\n",
       "      <td>38</td>\n",
       "    </tr>\n",
       "    <tr>\n",
       "      <th>9</th>\n",
       "      <td>0</td>\n",
       "      <td>he</td>\n",
       "      <td>40</td>\n",
       "      <td>41</td>\n",
       "    </tr>\n",
       "    <tr>\n",
       "      <th>10</th>\n",
       "      <td>0</td>\n",
       "      <td>will</td>\n",
       "      <td>43</td>\n",
       "      <td>46</td>\n",
       "    </tr>\n",
       "    <tr>\n",
       "      <th>11</th>\n",
       "      <td>0</td>\n",
       "      <td>visit</td>\n",
       "      <td>48</td>\n",
       "      <td>52</td>\n",
       "    </tr>\n",
       "    <tr>\n",
       "      <th>12</th>\n",
       "      <td>0</td>\n",
       "      <td>us</td>\n",
       "      <td>54</td>\n",
       "      <td>55</td>\n",
       "    </tr>\n",
       "    <tr>\n",
       "      <th>13</th>\n",
       "      <td>0</td>\n",
       "      <td>next</td>\n",
       "      <td>57</td>\n",
       "      <td>60</td>\n",
       "    </tr>\n",
       "    <tr>\n",
       "      <th>14</th>\n",
       "      <td>0</td>\n",
       "      <td>week</td>\n",
       "      <td>62</td>\n",
       "      <td>65</td>\n",
       "    </tr>\n",
       "  </tbody>\n",
       "</table>\n",
       "</div>"
      ],
      "text/plain": [
       "    sent_id      token  start  end\n",
       "0         0          I      0    0\n",
       "1         0        saw      2    4\n",
       "2         0        him      6    8\n",
       "3         0  yesterday     10   18\n",
       "4         0        and     20   22\n",
       "5         0         he     24   25\n",
       "6         0       told     27   30\n",
       "7         0         me     32   33\n",
       "8         0       that     35   38\n",
       "9         0         he     40   41\n",
       "10        0       will     43   46\n",
       "11        0      visit     48   52\n",
       "12        0         us     54   55\n",
       "13        0       next     57   60\n",
       "14        0       week     62   65"
      ]
     },
     "execution_count": 67,
     "metadata": {
      "tags": []
     },
     "output_type": "execute_result"
    }
   ],
   "source": [
    "tuples = []\n",
    "\n",
    "for x in detailed_result[0][\"token\"]:\n",
    "\n",
    "  tuples.append((int(x.metadata['sentence']), x.result, x.begin, x.end))\n",
    "\n",
    "df = pd.DataFrame(tuples, columns=['sent_id','token','start','end'])\n",
    "\n",
    "df"
   ]
  },
  {
   "cell_type": "markdown",
   "metadata": {
    "colab_type": "text",
    "id": "VVBmv1KeJQhA"
   },
   "source": [
    "### Sentiment Analysis\n"
   ]
  },
  {
   "cell_type": "markdown",
   "metadata": {
    "colab_type": "text",
    "id": "msC9ZcozfbUE"
   },
   "source": [
    "#### Vivek algo"
   ]
  },
  {
   "cell_type": "code",
   "execution_count": null,
   "metadata": {
    "colab": {
     "base_uri": "https://localhost:8080/",
     "height": 66
    },
    "colab_type": "code",
    "id": "zOFjnAvsH6he",
    "outputId": "fe6550af-2577-4043-e07b-6d105d913ac4"
   },
   "outputs": [
    {
     "name": "stdout",
     "output_type": "stream",
     "text": [
      "analyze_sentiment download started this may take some time.\n",
      "Approx size to download 4.9 MB\n",
      "[OK!]\n"
     ]
    }
   ],
   "source": [
    "sentiment = PretrainedPipeline('analyze_sentiment', lang='en')"
   ]
  },
  {
   "cell_type": "code",
   "execution_count": null,
   "metadata": {
    "colab": {
     "base_uri": "https://localhost:8080/",
     "height": 33
    },
    "colab_type": "code",
    "id": "KseopzCyJe__",
    "outputId": "24086f42-af6b-46fe-9d57-ca93fd0a4a86"
   },
   "outputs": [
    {
     "data": {
      "text/plain": [
       "['negative']"
      ]
     },
     "execution_count": 69,
     "metadata": {
      "tags": []
     },
     "output_type": "execute_result"
    }
   ],
   "source": [
    "result = sentiment.annotate(\"The movie I watched today was not a good one\")\n",
    "\n",
    "result['sentiment']"
   ]
  },
  {
   "cell_type": "markdown",
   "metadata": {
    "colab_type": "text",
    "id": "mq2mfbt5WwI5"
   },
   "source": [
    "#### DL version (trained on imdb)"
   ]
  },
  {
   "cell_type": "code",
   "execution_count": null,
   "metadata": {
    "colab": {
     "base_uri": "https://localhost:8080/",
     "height": 66
    },
    "colab_type": "code",
    "id": "NmZ4BfJWWy6C",
    "outputId": "87da2d5a-3f7f-4c45-d456-395ff5996300"
   },
   "outputs": [
    {
     "name": "stdout",
     "output_type": "stream",
     "text": [
      "analyze_sentimentdl_use_imdb download started this may take some time.\n",
      "Approx size to download 935.8 MB\n",
      "[OK!]\n"
     ]
    }
   ],
   "source": [
    "sentiment_imdb = PretrainedPipeline('analyze_sentimentdl_use_imdb', lang='en')"
   ]
  },
  {
   "cell_type": "code",
   "execution_count": null,
   "metadata": {
    "colab": {
     "base_uri": "https://localhost:8080/",
     "height": 66
    },
    "colab_type": "code",
    "id": "7_kdF5fBa5vJ",
    "outputId": "d7e3814a-0f39-4253-b274-4acfb2e0bcec"
   },
   "outputs": [
    {
     "name": "stdout",
     "output_type": "stream",
     "text": [
      "analyze_sentimentdl_glove_imdb download started this may take some time.\n",
      "Approx size to download 154.9 MB\n",
      "[OK!]\n"
     ]
    }
   ],
   "source": [
    "sentiment_imdb_glove = PretrainedPipeline('analyze_sentimentdl_glove_imdb', lang='en')"
   ]
  },
  {
   "cell_type": "code",
   "execution_count": null,
   "metadata": {
    "colab": {
     "base_uri": "https://localhost:8080/",
     "height": 33
    },
    "colab_type": "code",
    "id": "yDCaA2dSelUB",
    "outputId": "5f416c8d-7562-4ac3-9a46-81405bb3a68c"
   },
   "outputs": [
    {
     "data": {
      "text/plain": [
       "['positive']"
      ]
     },
     "execution_count": 10,
     "metadata": {
      "tags": []
     },
     "output_type": "execute_result"
    }
   ],
   "source": [
    "comment = '''\n",
    "It's a very scary film but what impressed me was how true the film sticks to the original's tricks; it isn't filled with loud in-your-face jump scares, in fact, a lot of what makes this film scary is the slick cinematography and intricate shadow play. The use of lighting and creation of atmosphere is what makes this film so tense, which is why it's perfectly suited for those who like Horror movies but without the obnoxious gore.\n",
    "'''\n",
    "result = sentiment_imdb_glove.annotate(comment)\n",
    "\n",
    "result['sentiment']"
   ]
  },
  {
   "cell_type": "code",
   "execution_count": null,
   "metadata": {
    "colab": {
     "base_uri": "https://localhost:8080/",
     "height": 33
    },
    "colab_type": "code",
    "id": "47AP3cCGXcBs",
    "outputId": "a54dd3a5-7634-47a5-b43d-8bc114a19c61"
   },
   "outputs": [
    {
     "data": {
      "text/plain": [
       "[Annotation(category, 0, 433, positive, {'sentence': '0', 'positive': '0.92505074', 'negative': '0.074949294'})]"
      ]
     },
     "execution_count": 13,
     "metadata": {
      "tags": []
     },
     "output_type": "execute_result"
    }
   ],
   "source": [
    "sentiment_imdb_glove.fullAnnotate(comment)[0]['sentiment']"
   ]
  },
  {
   "cell_type": "markdown",
   "metadata": {
    "colab_type": "text",
    "id": "Hi5d8U0eXCyF"
   },
   "source": [
    "#### DL version (trained on twitter dataset)"
   ]
  },
  {
   "cell_type": "code",
   "execution_count": null,
   "metadata": {
    "colab": {
     "base_uri": "https://localhost:8080/",
     "height": 66
    },
    "colab_type": "code",
    "id": "auhMtryQXHkr",
    "outputId": "48c38f32-4d7f-4930-e2d5-fb71c207a3ae"
   },
   "outputs": [
    {
     "name": "stdout",
     "output_type": "stream",
     "text": [
      "analyze_sentimentdl_use_twitter download started this may take some time.\n",
      "Approx size to download 928.3 MB\n",
      "[OK!]\n"
     ]
    }
   ],
   "source": [
    "sentiment_twitter = PretrainedPipeline('analyze_sentimentdl_use_twitter', lang='en')"
   ]
  },
  {
   "cell_type": "code",
   "execution_count": null,
   "metadata": {
    "colab": {
     "base_uri": "https://localhost:8080/",
     "height": 33
    },
    "colab_type": "code",
    "id": "dycH-KfZXkaG",
    "outputId": "701b9e78-118a-485b-e1e6-a05df28ceb7c"
   },
   "outputs": [
    {
     "data": {
      "text/plain": [
       "['negative']"
      ]
     },
     "execution_count": 75,
     "metadata": {
      "tags": []
     },
     "output_type": "execute_result"
    }
   ],
   "source": [
    "result = sentiment_twitter.annotate(\"The movie I watched today was not a good one\")\n",
    "\n",
    "result['sentiment']"
   ]
  },
  {
   "cell_type": "code",
   "execution_count": null,
   "metadata": {
    "colab": {},
    "colab_type": "code",
    "id": "3lzuZgIQYD-C"
   },
   "outputs": [],
   "source": []
  }
 ],
 "metadata": {
  "colab": {
   "collapsed_sections": [],
   "name": "1.SparkNLP_Basics.ipynb",
   "provenance": [],
   "toc_visible": true
  },
  "kernelspec": {
   "display_name": "Python 3",
   "language": "python",
   "name": "python3"
  },
  "language_info": {
   "codemirror_mode": {
    "name": "ipython",
    "version": 3
   },
   "file_extension": ".py",
   "mimetype": "text/x-python",
   "name": "python",
   "nbconvert_exporter": "python",
   "pygments_lexer": "ipython3",
   "version": "3.7.4"
  }
 },
 "nbformat": 4,
 "nbformat_minor": 4
}

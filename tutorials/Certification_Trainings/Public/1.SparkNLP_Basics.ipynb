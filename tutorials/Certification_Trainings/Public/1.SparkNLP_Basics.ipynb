{
  "nbformat": 4,
  "nbformat_minor": 0,
  "metadata": {
    "colab": {
      "name": "1.SparkNLP_Basics.ipynb",
      "provenance": [],
      "collapsed_sections": [],
      "toc_visible": true
    },
    "kernelspec": {
      "display_name": "Python 3",
      "language": "python",
      "name": "python3"
    },
    "language_info": {
      "codemirror_mode": {
        "name": "ipython",
        "version": 3
      },
      "file_extension": ".py",
      "mimetype": "text/x-python",
      "name": "python",
      "nbconvert_exporter": "python",
      "pygments_lexer": "ipython3",
      "version": "3.7.4"
    }
  },
  "cells": [
    {
      "cell_type": "markdown",
      "metadata": {
        "id": "3inuQHTI-G-P"
      },
      "source": [
        "![JohnSnowLabs](https://nlp.johnsnowlabs.com/assets/images/logo.png)"
      ]
    },
    {
      "cell_type": "markdown",
      "metadata": {
        "id": "0Cd4gz6vxHiQ"
      },
      "source": [
        "[![Open In Colab](https://colab.research.google.com/assets/colab-badge.svg)](https://colab.research.google.com/github/JohnSnowLabs/spark-nlp-workshop/blob/master/tutorials/Certification_Trainings/Public/1.SparkNLP_Basics.ipynb)"
      ]
    },
    {
      "cell_type": "markdown",
      "metadata": {
        "id": "rXqTJvvh-MCU"
      },
      "source": [
        "# Spark NLP Basics and Pretrained Pipelines"
      ]
    },
    {
      "cell_type": "markdown",
      "metadata": {
        "id": "SqF9bPKCooXx"
      },
      "source": [
        "## 0. Colab Setup"
      ]
    },
    {
      "cell_type": "code",
      "metadata": {
        "id": "Wes9qAN7oekN",
        "outputId": "accf77bd-f1a9-4f84-d9b9-774183a90c2d",
        "colab": {
          "base_uri": "https://localhost:8080/",
          "height": 87
        }
      },
      "source": [
        "import os\n",
        "\n",
        "# Install java\n",
        "! apt-get update -qq\n",
        "! apt-get install -y openjdk-8-jdk-headless -qq > /dev/null\n",
        "\n",
        "os.environ[\"JAVA_HOME\"] = \"/usr/lib/jvm/java-8-openjdk-amd64\"\n",
        "os.environ[\"PATH\"] = os.environ[\"JAVA_HOME\"] + \"/bin:\" + os.environ[\"PATH\"]\n",
        "! java -version\n",
        "\n",
        "# Install pyspark\n",
        "! pip install --ignore-installed -q pyspark==2.4.4\n",
        "! pip install --ignore-installed -q spark-nlp==2.6.3-rc1"
      ],
      "execution_count": 1,
      "outputs": [
        {
          "output_type": "stream",
          "text": [
            "openjdk version \"1.8.0_265\"\n",
            "OpenJDK Runtime Environment (build 1.8.0_265-8u265-b01-0ubuntu2~18.04-b01)\n",
            "OpenJDK 64-Bit Server VM (build 25.265-b01, mixed mode)\n",
            "\u001b[K     |████████████████████████████████| 133kB 2.8MB/s \n",
            "\u001b[?25h"
          ],
          "name": "stdout"
        }
      ]
    },
    {
      "cell_type": "markdown",
      "metadata": {
        "id": "_fY1OKFVE_Z5"
      },
      "source": [
        "\n",
        "#### **How to prevent Google Colab from disconnecting?**\n",
        "\n",
        "Google Colab notebooks have an idle timeout of 90 minutes and absolute timeout of 12 hours. This means, if user does not interact with his Google Colab notebook for more than 90 minutes, its instance is automatically terminated. Also, maximum lifetime of a Colab instance is **12 hours.**\n",
        "\n",
        "Set a javascript interval to click on the connect button every 60 seconds. Open developer-settings (in your web-browser) with Ctrl+Shift+I then click on console tab and type this on the console prompt. (for mac press Option+Command+I)\n",
        "\n"
      ]
    },
    {
      "cell_type": "code",
      "metadata": {
        "id": "sm0FTPdGE_Z6"
      },
      "source": [
        "''' \n",
        "\n",
        "function ConnectButton(){\n",
        "    console.log(\"Connect pushed\"); \n",
        "    document.querySelector(\"#top-toolbar > colab-connect-button\").shadowRoot.querySelector(\"#connect\").click() \n",
        "}\n",
        "setInterval(ConnectButton,60000);\n",
        "\n",
        "'''"
      ],
      "execution_count": null,
      "outputs": []
    },
    {
      "cell_type": "markdown",
      "metadata": {
        "id": "ODtmoBwfoX3T"
      },
      "source": [
        "## 1. Start Spark Session"
      ]
    },
    {
      "cell_type": "code",
      "metadata": {
        "id": "5q8yjPy8oUBj",
        "outputId": "4cd45ec3-9bbc-4484-ce4c-67ef491da525",
        "colab": {
          "base_uri": "https://localhost:8080/",
          "height": 52
        }
      },
      "source": [
        "import sparknlp\n",
        "\n",
        "spark = sparknlp.start()\n",
        "\n",
        "# params =>> gpu=False, spark23=False (start with spark 2.3)\n",
        "\n",
        "print(\"Spark NLP version\", sparknlp.version())\n",
        "\n",
        "print(\"Apache Spark version:\", spark.version)\n"
      ],
      "execution_count": 2,
      "outputs": [
        {
          "output_type": "stream",
          "text": [
            "Spark NLP version 2.6.3-rc1\n",
            "Apache Spark version: 2.4.4\n"
          ],
          "name": "stdout"
        }
      ]
    },
    {
      "cell_type": "markdown",
      "metadata": {
        "id": "HkuSFadabhtX"
      },
      "source": [
        "\n",
        "<b>  if you want to work with Spark 2.3 </b>\n",
        "```\n",
        "import os\n",
        "\n",
        "# Install java\n",
        "! apt-get update -qq\n",
        "! apt-get install -y openjdk-8-jdk-headless -qq > /dev/null\n",
        "\n",
        "!wget -q https://archive.apache.org/dist/spark/spark-2.3.0/spark-2.3.0-bin-hadoop2.7.tgz\n",
        "\n",
        "!tar xf spark-2.3.0-bin-hadoop2.7.tgz\n",
        "!pip install -q findspark\n",
        "\n",
        "os.environ[\"JAVA_HOME\"] = \"/usr/lib/jvm/java-8-openjdk-amd64\"\n",
        "os.environ[\"PATH\"] = os.environ[\"JAVA_HOME\"] + \"/bin:\" + os.environ[\"PATH\"]\n",
        "os.environ[\"SPARK_HOME\"] = \"/content/spark-2.3.0-bin-hadoop2.7\"\n",
        "! java -version\n",
        "\n",
        "import findspark\n",
        "findspark.init()\n",
        "from pyspark.sql import SparkSession\n",
        "\n",
        "! pip install --ignore-installed -q spark-nlp==2.5.5\n",
        "import sparknlp\n",
        "\n",
        "spark = sparknlp.start(spark23=True)\n",
        "```"
      ]
    },
    {
      "cell_type": "markdown",
      "metadata": {
        "id": "yKCrnOyoE_aC"
      },
      "source": [
        "`sparknlp.start()` will start or get SparkSession with predefined parameters hardcoded in `spark-nlp/python/sparknlp/__init__.py`. here is what is going on under the hood when you run `sparknlp.start()` "
      ]
    },
    {
      "cell_type": "code",
      "metadata": {
        "id": "c0_ek2r-E_aC"
      },
      "source": [
        "# https://github.com/JohnSnowLabs/spark-nlp/blob/master/python/sparknlp/__init__.py\n",
        "\n",
        "from pyspark.sql import SparkSession\n",
        "\n",
        "def start(gpu=False, spark23=False):\n",
        "    current_version=\"2.5.4\"\n",
        "    maven_spark24 = \"com.johnsnowlabs.nlp:spark-nlp_2.11:{}\".format(current_version)\n",
        "    maven_gpu_spark24 = \"com.johnsnowlabs.nlp:spark-nlp-gpu_2.11:{}\".format(current_version)\n",
        "    maven_spark23 = \"com.johnsnowlabs.nlp:spark-nlp-spark23_2.11:{}\".format(current_version)\n",
        "    maven_gpu_spark23 = \"com.johnsnowlabs.nlp:spark-nlp-gpu-spark23_2.11:{}\".format(current_version)\n",
        "\n",
        "    builder = SparkSession.builder \\\n",
        "        .appName(\"Spark NLP\") \\\n",
        "        .master(\"local[*]\") \\\n",
        "        .config(\"spark.driver.memory\", \"16G\") \\\n",
        "        .config(\"spark.serializer\", \"org.apache.spark.serializer.KryoSerializer\") \\\n",
        "        .config(\"spark.kryoserializer.buffer.max\", \"1000M\") \\\n",
        "        .config(\"spark.driver.maxResultSize\", \"0\")\n",
        "    if gpu and spark23:\n",
        "        builder.config(\"spark.jars.packages\", maven_gpu_spark23)\n",
        "    elif spark23:\n",
        "        builder.config(\"spark.jars.packages\", maven_spark23)\n",
        "    elif gpu:\n",
        "        builder.config(\"spark.jars.packages\", maven_gpu_spark24)\n",
        "    else:\n",
        "        builder.config(\"spark.jars.packages\", maven_spark24)\n",
        "        \n",
        "    return builder.getOrCreate()\n"
      ],
      "execution_count": null,
      "outputs": []
    },
    {
      "cell_type": "markdown",
      "metadata": {
        "id": "mAf-5_ZYE_aF"
      },
      "source": [
        "If you want to start `SparkSession` with your own parameters or you need to load the required jars/packages from your local disk, or you have no internet connection (that would be needed to pull the required packages from internet), you can skip `sparknlp.start()` and start your session manually as shown below.\n"
      ]
    },
    {
      "cell_type": "code",
      "metadata": {
        "id": "SclslGCKE_aG"
      },
      "source": [
        "\"\"\"\n",
        "from pyspark.sql import SparkSession\n",
        "\n",
        "spark = SparkSession.builder \\\n",
        "    .appName(\"Spark NLP Enterprise 2.4.5\") \\\n",
        "    .master(\"local[8]\") \\\n",
        "    .config(\"spark.driver.memory\",\"12G\") \\\n",
        "    .config(\"spark.driver.maxResultSize\", \"2G\") \\\n",
        "    .config(\"spark.serializer\", \"org.apache.spark.serializer.KryoSerializer\") \\\n",
        "    .config(\"spark.kryoserializer.buffer.max\", \"800M\")\\\n",
        "    .config(\"spark.jars\", \"{}spark-nlp-2.4.5.jar,{}spark-nlp-jsl-2.4.5.jar\".format(jar_path,jar_path)) \\\n",
        "    .getOrCreate()\n",
        "    \n",
        "\"\"\""
      ],
      "execution_count": null,
      "outputs": []
    },
    {
      "cell_type": "markdown",
      "metadata": {
        "id": "9ZeUkpmGINW5"
      },
      "source": [
        "CPU on Apache Spark 2.4.x: https://s3.amazonaws.com/auxdata.johnsnowlabs.com/public/spark-nlp-assembly-2.6.2.jar\n",
        "\n",
        "GPU on Apache Spark 2.4.x: https://s3.amazonaws.com/auxdata.johnsnowlabs.com/public/spark-nlp-gpu-assembly-2.6.2.jar\n",
        "\n",
        "CPU on Apache Spark 2.3.x: https://s3.amazonaws.com/auxdata.johnsnowlabs.com/public/spark-nlp-spark23-assembly-2.6.2.jar\n",
        "\n",
        "GPU on Apache Spark 2.3.x: https://s3.amazonaws.com/auxdata.johnsnowlabs.com/public/spark-nlp-spark23-gpu-assembly-2.6.2.jar"
      ]
    },
    {
      "cell_type": "markdown",
      "metadata": {
        "id": "YPJy2G5Zp56w"
      },
      "source": [
        "## 2. Using Pretrained Pipelines"
      ]
    },
    {
      "cell_type": "markdown",
      "metadata": {
        "id": "e1Gy-bYBrLyT"
      },
      "source": [
        "https://github.com/JohnSnowLabs/spark-nlp-models\n",
        "\n",
        "https://nlp.johnsnowlabs.com/models\n"
      ]
    },
    {
      "cell_type": "markdown",
      "metadata": {
        "id": "J5kiupRdziWq"
      },
      "source": [
        "![image.png](data:image/png;base64,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)"
      ]
    },
    {
      "cell_type": "markdown",
      "metadata": {
        "id": "-fIQuF6crGSl"
      },
      "source": [
        "![image.png](data:image/png;base64,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)"
      ]
    },
    {
      "cell_type": "code",
      "metadata": {
        "id": "SgFMrbinpN5_"
      },
      "source": [
        "from sparknlp.pretrained import PretrainedPipeline"
      ],
      "execution_count": 3,
      "outputs": []
    },
    {
      "cell_type": "code",
      "metadata": {
        "id": "3jkUAIY8E_aP"
      },
      "source": [
        "testDoc = '''\n",
        "Peter is a very good persn.\n",
        "My life in Russia is very intersting.\n",
        "John and Peter are brothrs. However they don't support each other that much.\n",
        "Lucas Nogal Dunbercker is no longer happy. He has a good car though.\n",
        "Europe is very culture rich. There are huge churches! and big houses!\n",
        "'''"
      ],
      "execution_count": 4,
      "outputs": []
    },
    {
      "cell_type": "markdown",
      "metadata": {
        "id": "Kn7jx6sJtCL1"
      },
      "source": [
        "### Explain Document ML"
      ]
    },
    {
      "cell_type": "markdown",
      "metadata": {
        "id": "HK5Tz3ChtJfq"
      },
      "source": [
        "**Stages**\n",
        "- DocumentAssembler\n",
        "- SentenceDetector\n",
        "- Tokenizer\n",
        "- Lemmatizer\n",
        "- Stemmer\n",
        "- Part of Speech\n",
        "- SpellChecker (Norvig)\n",
        "\n",
        "\n"
      ]
    },
    {
      "cell_type": "code",
      "metadata": {
        "id": "2jbBIjhop_Yu",
        "outputId": "455c938d-a2a5-455b-b161-f28f675dbda4",
        "colab": {
          "base_uri": "https://localhost:8080/",
          "height": 70
        }
      },
      "source": [
        "pipeline = PretrainedPipeline('explain_document_ml', lang='en')\n"
      ],
      "execution_count": 5,
      "outputs": [
        {
          "output_type": "stream",
          "text": [
            "explain_document_ml download started this may take some time.\n",
            "Approx size to download 9.4 MB\n",
            "[OK!]\n"
          ],
          "name": "stdout"
        }
      ]
    },
    {
      "cell_type": "code",
      "metadata": {
        "id": "99xc9GLc335N",
        "outputId": "fdc2e8fa-3ac2-4e37-b36b-7c2620da06e8",
        "colab": {
          "base_uri": "https://localhost:8080/",
          "height": 141
        }
      },
      "source": [
        "pipeline.model.stages"
      ],
      "execution_count": 18,
      "outputs": [
        {
          "output_type": "execute_result",
          "data": {
            "text/plain": [
              "[document_2ec0b742eccd,\n",
              " SENTENCE_98fb8e28cb7b,\n",
              " REGEX_TOKENIZER_1f63ed636a13,\n",
              " SPELL_e4ea67180337,\n",
              " LEMMATIZER_c62ad8f355f9,\n",
              " STEMMER_75edcc4a9cdb,\n",
              " POS_29fd848601e6]"
            ]
          },
          "metadata": {
            "tags": []
          },
          "execution_count": 18
        }
      ]
    },
    {
      "cell_type": "code",
      "metadata": {
        "id": "9ftq4OO_JUrj"
      },
      "source": [
        "# Load pretrained pipeline from local disk:\n",
        "\n",
        "pipeline_local = PretrainedPipeline.from_disk('/root/cache_pretrained/explain_document_ml_en_2.4.0_2.4_1580252705962')"
      ],
      "execution_count": 6,
      "outputs": []
    },
    {
      "cell_type": "code",
      "metadata": {
        "id": "29rw6Cgjrvfg",
        "outputId": "1b236f2d-f1e6-49ac-f46d-56b74d0dde03",
        "colab": {
          "base_uri": "https://localhost:8080/",
          "height": 52
        }
      },
      "source": [
        "%%time\n",
        "\n",
        "result = pipeline.annotate(testDoc)"
      ],
      "execution_count": 7,
      "outputs": [
        {
          "output_type": "stream",
          "text": [
            "CPU times: user 35.6 ms, sys: 8.68 ms, total: 44.3 ms\n",
            "Wall time: 1.34 s\n"
          ],
          "name": "stdout"
        }
      ]
    },
    {
      "cell_type": "code",
      "metadata": {
        "id": "dwku5nc8r5G7",
        "outputId": "9cdf06ac-173e-4e95-a399-a54c095f3316",
        "colab": {
          "base_uri": "https://localhost:8080/",
          "height": 33
        }
      },
      "source": [
        "result.keys()"
      ],
      "execution_count": null,
      "outputs": [
        {
          "output_type": "execute_result",
          "data": {
            "text/plain": [
              "dict_keys(['document', 'spell', 'pos', 'lemmas', 'token', 'stems', 'sentence'])"
            ]
          },
          "metadata": {
            "tags": []
          },
          "execution_count": 7
        }
      ]
    },
    {
      "cell_type": "code",
      "metadata": {
        "id": "PufrzfGuvaBZ",
        "outputId": "7077cad8-7e34-44f8-a913-bef5362e809b",
        "colab": {
          "base_uri": "https://localhost:8080/",
          "height": 176
        }
      },
      "source": [
        "result['sentence']"
      ],
      "execution_count": 8,
      "outputs": [
        {
          "output_type": "execute_result",
          "data": {
            "text/plain": [
              "['Peter is a very good persn.',\n",
              " 'My life in Russia is very intersting.',\n",
              " 'John and Peter are brothrs.',\n",
              " \"However they don't support each other that much.\",\n",
              " 'Lucas Nogal Dunbercker is no longer happy.',\n",
              " 'He has a good car though.',\n",
              " 'Europe is very culture rich.',\n",
              " 'There are huge churches!',\n",
              " 'and big houses!']"
            ]
          },
          "metadata": {
            "tags": []
          },
          "execution_count": 8
        }
      ]
    },
    {
      "cell_type": "code",
      "metadata": {
        "id": "eaalY5rcr8pV",
        "outputId": "33fef1e5-85e0-47fa-f838-37ab5f7a0787",
        "colab": {
          "base_uri": "https://localhost:8080/",
          "height": 1000
        }
      },
      "source": [
        "result['token']"
      ],
      "execution_count": 9,
      "outputs": [
        {
          "output_type": "execute_result",
          "data": {
            "text/plain": [
              "['Peter',\n",
              " 'is',\n",
              " 'a',\n",
              " 'very',\n",
              " 'good',\n",
              " 'persn',\n",
              " '.',\n",
              " 'My',\n",
              " 'life',\n",
              " 'in',\n",
              " 'Russia',\n",
              " 'is',\n",
              " 'very',\n",
              " 'intersting',\n",
              " '.',\n",
              " 'John',\n",
              " 'and',\n",
              " 'Peter',\n",
              " 'are',\n",
              " 'brothrs',\n",
              " '.',\n",
              " 'However',\n",
              " 'they',\n",
              " \"don't\",\n",
              " 'support',\n",
              " 'each',\n",
              " 'other',\n",
              " 'that',\n",
              " 'much',\n",
              " '.',\n",
              " 'Lucas',\n",
              " 'Nogal',\n",
              " 'Dunbercker',\n",
              " 'is',\n",
              " 'no',\n",
              " 'longer',\n",
              " 'happy',\n",
              " '.',\n",
              " 'He',\n",
              " 'has',\n",
              " 'a',\n",
              " 'good',\n",
              " 'car',\n",
              " 'though',\n",
              " '.',\n",
              " 'Europe',\n",
              " 'is',\n",
              " 'very',\n",
              " 'culture',\n",
              " 'rich',\n",
              " '.',\n",
              " 'There',\n",
              " 'are',\n",
              " 'huge',\n",
              " 'churches',\n",
              " '!',\n",
              " 'and',\n",
              " 'big',\n",
              " 'houses',\n",
              " '!']"
            ]
          },
          "metadata": {
            "tags": []
          },
          "execution_count": 9
        }
      ]
    },
    {
      "cell_type": "code",
      "metadata": {
        "id": "7rxuH6-ks41J",
        "outputId": "e616b18e-61b9-4a2c-b575-9d090925504e",
        "colab": {
          "base_uri": "https://localhost:8080/",
          "height": 1000
        }
      },
      "source": [
        "list(zip(result['token'], result['pos']))"
      ],
      "execution_count": 10,
      "outputs": [
        {
          "output_type": "execute_result",
          "data": {
            "text/plain": [
              "[('Peter', 'NNP'),\n",
              " ('is', 'VBZ'),\n",
              " ('a', 'DT'),\n",
              " ('very', 'RB'),\n",
              " ('good', 'JJ'),\n",
              " ('persn', 'NN'),\n",
              " ('.', '.'),\n",
              " ('My', 'PRP$'),\n",
              " ('life', 'NN'),\n",
              " ('in', 'IN'),\n",
              " ('Russia', 'NNP'),\n",
              " ('is', 'VBZ'),\n",
              " ('very', 'RB'),\n",
              " ('intersting', 'JJ'),\n",
              " ('.', '.'),\n",
              " ('John', 'NNP'),\n",
              " ('and', 'CC'),\n",
              " ('Peter', 'NNP'),\n",
              " ('are', 'VBP'),\n",
              " ('brothrs', 'NNS'),\n",
              " ('.', '.'),\n",
              " ('However', 'RB'),\n",
              " ('they', 'PRP'),\n",
              " (\"don't\", 'VBP'),\n",
              " ('support', 'VB'),\n",
              " ('each', 'DT'),\n",
              " ('other', 'JJ'),\n",
              " ('that', 'IN'),\n",
              " ('much', 'JJ'),\n",
              " ('.', '.'),\n",
              " ('Lucas', 'NNP'),\n",
              " ('Nogal', 'NNP'),\n",
              " ('Dunbercker', 'NNP'),\n",
              " ('is', 'VBZ'),\n",
              " ('no', 'DT'),\n",
              " ('longer', 'RB'),\n",
              " ('happy', 'JJ'),\n",
              " ('.', '.'),\n",
              " ('He', 'PRP'),\n",
              " ('has', 'VBZ'),\n",
              " ('a', 'DT'),\n",
              " ('good', 'JJ'),\n",
              " ('car', 'NN'),\n",
              " ('though', 'IN'),\n",
              " ('.', '.'),\n",
              " ('Europe', 'NNP'),\n",
              " ('is', 'VBZ'),\n",
              " ('very', 'RB'),\n",
              " ('culture', 'RB'),\n",
              " ('rich', 'JJ'),\n",
              " ('.', '.'),\n",
              " ('There', 'EX'),\n",
              " ('are', 'VBP'),\n",
              " ('huge', 'JJ'),\n",
              " ('churches', 'NNS'),\n",
              " ('!', '.'),\n",
              " ('and', 'CC'),\n",
              " ('big', 'JJ'),\n",
              " ('houses', 'NNS'),\n",
              " ('!', '.')]"
            ]
          },
          "metadata": {
            "tags": []
          },
          "execution_count": 10
        }
      ]
    },
    {
      "cell_type": "code",
      "metadata": {
        "id": "gteKLMhysCC8",
        "outputId": "77b8b561-b4c2-49e9-a97d-dcf4807f5979",
        "colab": {
          "base_uri": "https://localhost:8080/",
          "height": 1000
        }
      },
      "source": [
        "list(zip(result['token'], result['lemmas'], result['stems'], result['spell']))"
      ],
      "execution_count": 11,
      "outputs": [
        {
          "output_type": "execute_result",
          "data": {
            "text/plain": [
              "[('Peter', 'Peter', 'peter', 'Peter'),\n",
              " ('is', 'be', 'i', 'is'),\n",
              " ('a', 'a', 'a', 'a'),\n",
              " ('very', 'very', 'veri', 'very'),\n",
              " ('good', 'good', 'good', 'good'),\n",
              " ('persn', 'person', 'person', 'person'),\n",
              " ('.', '.', '.', '.'),\n",
              " ('My', 'My', 'my', 'My'),\n",
              " ('life', 'life', 'life', 'life'),\n",
              " ('in', 'in', 'in', 'in'),\n",
              " ('Russia', 'Russia', 'russia', 'Russia'),\n",
              " ('is', 'be', 'i', 'is'),\n",
              " ('very', 'very', 'veri', 'very'),\n",
              " ('intersting', 'interest', 'interest', 'interesting'),\n",
              " ('.', '.', '.', '.'),\n",
              " ('John', 'John', 'john', 'John'),\n",
              " ('and', 'and', 'and', 'and'),\n",
              " ('Peter', 'Peter', 'peter', 'Peter'),\n",
              " ('are', 'be', 'ar', 'are'),\n",
              " ('brothrs', 'broth', 'broth', 'broths'),\n",
              " ('.', '.', '.', '.'),\n",
              " ('However', 'However', 'howev', 'However'),\n",
              " ('they', 'they', 'thei', 'they'),\n",
              " (\"don't\", \"don't\", \"don't\", \"don't\"),\n",
              " ('support', 'support', 'support', 'support'),\n",
              " ('each', 'each', 'each', 'each'),\n",
              " ('other', 'other', 'other', 'other'),\n",
              " ('that', 'that', 'that', 'that'),\n",
              " ('much', 'much', 'much', 'much'),\n",
              " ('.', '.', '.', '.'),\n",
              " ('Lucas', 'Lucas', 'luca', 'Lucas'),\n",
              " ('Nogal', 'Nogal', 'nogal', 'Nogal'),\n",
              " ('Dunbercker', 'Dunbercker', 'dunberck', 'Dunbercker'),\n",
              " ('is', 'be', 'i', 'is'),\n",
              " ('no', 'no', 'no', 'no'),\n",
              " ('longer', 'long', 'longer', 'longer'),\n",
              " ('happy', 'happy', 'happi', 'happy'),\n",
              " ('.', '.', '.', '.'),\n",
              " ('He', 'He', 'he', 'He'),\n",
              " ('has', 'have', 'ha', 'has'),\n",
              " ('a', 'a', 'a', 'a'),\n",
              " ('good', 'good', 'good', 'good'),\n",
              " ('car', 'car', 'car', 'car'),\n",
              " ('though', 'though', 'though', 'though'),\n",
              " ('.', '.', '.', '.'),\n",
              " ('Europe', 'Europe', 'europ', 'Europe'),\n",
              " ('is', 'be', 'i', 'is'),\n",
              " ('very', 'very', 'veri', 'very'),\n",
              " ('culture', 'culture', 'cultur', 'culture'),\n",
              " ('rich', 'rich', 'rich', 'rich'),\n",
              " ('.', '.', '.', '.'),\n",
              " ('There', 'There', 'there', 'There'),\n",
              " ('are', 'be', 'ar', 'are'),\n",
              " ('huge', 'huge', 'huge', 'huge'),\n",
              " ('churches', 'church', 'church', 'churches'),\n",
              " ('!', '!', '!', '!'),\n",
              " ('and', 'and', 'and', 'and'),\n",
              " ('big', 'big', 'big', 'big'),\n",
              " ('houses', 'house', 'hous', 'houses'),\n",
              " ('!', '!', '!', '!')]"
            ]
          },
          "metadata": {
            "tags": []
          },
          "execution_count": 11
        }
      ]
    },
    {
      "cell_type": "code",
      "metadata": {
        "id": "0CiixcKhsQwa",
        "outputId": "75e8602d-c415-4f54-93ca-800578b49ca8",
        "colab": {
          "base_uri": "https://localhost:8080/",
          "height": 1000
        }
      },
      "source": [
        "import pandas as pd\n",
        "\n",
        "df = pd.DataFrame({'token':result['token'], \n",
        "                      'corrected':result['spell'], 'POS':result['pos'],\n",
        "                      'lemmas':result['lemmas'], 'stems':result['stems']})\n",
        "df"
      ],
      "execution_count": 12,
      "outputs": [
        {
          "output_type": "execute_result",
          "data": {
            "text/html": [
              "<div>\n",
              "<style scoped>\n",
              "    .dataframe tbody tr th:only-of-type {\n",
              "        vertical-align: middle;\n",
              "    }\n",
              "\n",
              "    .dataframe tbody tr th {\n",
              "        vertical-align: top;\n",
              "    }\n",
              "\n",
              "    .dataframe thead th {\n",
              "        text-align: right;\n",
              "    }\n",
              "</style>\n",
              "<table border=\"1\" class=\"dataframe\">\n",
              "  <thead>\n",
              "    <tr style=\"text-align: right;\">\n",
              "      <th></th>\n",
              "      <th>token</th>\n",
              "      <th>corrected</th>\n",
              "      <th>POS</th>\n",
              "      <th>lemmas</th>\n",
              "      <th>stems</th>\n",
              "    </tr>\n",
              "  </thead>\n",
              "  <tbody>\n",
              "    <tr>\n",
              "      <th>0</th>\n",
              "      <td>Peter</td>\n",
              "      <td>Peter</td>\n",
              "      <td>NNP</td>\n",
              "      <td>Peter</td>\n",
              "      <td>peter</td>\n",
              "    </tr>\n",
              "    <tr>\n",
              "      <th>1</th>\n",
              "      <td>is</td>\n",
              "      <td>is</td>\n",
              "      <td>VBZ</td>\n",
              "      <td>be</td>\n",
              "      <td>i</td>\n",
              "    </tr>\n",
              "    <tr>\n",
              "      <th>2</th>\n",
              "      <td>a</td>\n",
              "      <td>a</td>\n",
              "      <td>DT</td>\n",
              "      <td>a</td>\n",
              "      <td>a</td>\n",
              "    </tr>\n",
              "    <tr>\n",
              "      <th>3</th>\n",
              "      <td>very</td>\n",
              "      <td>very</td>\n",
              "      <td>RB</td>\n",
              "      <td>very</td>\n",
              "      <td>veri</td>\n",
              "    </tr>\n",
              "    <tr>\n",
              "      <th>4</th>\n",
              "      <td>good</td>\n",
              "      <td>good</td>\n",
              "      <td>JJ</td>\n",
              "      <td>good</td>\n",
              "      <td>good</td>\n",
              "    </tr>\n",
              "    <tr>\n",
              "      <th>5</th>\n",
              "      <td>persn</td>\n",
              "      <td>person</td>\n",
              "      <td>NN</td>\n",
              "      <td>person</td>\n",
              "      <td>person</td>\n",
              "    </tr>\n",
              "    <tr>\n",
              "      <th>6</th>\n",
              "      <td>.</td>\n",
              "      <td>.</td>\n",
              "      <td>.</td>\n",
              "      <td>.</td>\n",
              "      <td>.</td>\n",
              "    </tr>\n",
              "    <tr>\n",
              "      <th>7</th>\n",
              "      <td>My</td>\n",
              "      <td>My</td>\n",
              "      <td>PRP$</td>\n",
              "      <td>My</td>\n",
              "      <td>my</td>\n",
              "    </tr>\n",
              "    <tr>\n",
              "      <th>8</th>\n",
              "      <td>life</td>\n",
              "      <td>life</td>\n",
              "      <td>NN</td>\n",
              "      <td>life</td>\n",
              "      <td>life</td>\n",
              "    </tr>\n",
              "    <tr>\n",
              "      <th>9</th>\n",
              "      <td>in</td>\n",
              "      <td>in</td>\n",
              "      <td>IN</td>\n",
              "      <td>in</td>\n",
              "      <td>in</td>\n",
              "    </tr>\n",
              "    <tr>\n",
              "      <th>10</th>\n",
              "      <td>Russia</td>\n",
              "      <td>Russia</td>\n",
              "      <td>NNP</td>\n",
              "      <td>Russia</td>\n",
              "      <td>russia</td>\n",
              "    </tr>\n",
              "    <tr>\n",
              "      <th>11</th>\n",
              "      <td>is</td>\n",
              "      <td>is</td>\n",
              "      <td>VBZ</td>\n",
              "      <td>be</td>\n",
              "      <td>i</td>\n",
              "    </tr>\n",
              "    <tr>\n",
              "      <th>12</th>\n",
              "      <td>very</td>\n",
              "      <td>very</td>\n",
              "      <td>RB</td>\n",
              "      <td>very</td>\n",
              "      <td>veri</td>\n",
              "    </tr>\n",
              "    <tr>\n",
              "      <th>13</th>\n",
              "      <td>intersting</td>\n",
              "      <td>interesting</td>\n",
              "      <td>JJ</td>\n",
              "      <td>interest</td>\n",
              "      <td>interest</td>\n",
              "    </tr>\n",
              "    <tr>\n",
              "      <th>14</th>\n",
              "      <td>.</td>\n",
              "      <td>.</td>\n",
              "      <td>.</td>\n",
              "      <td>.</td>\n",
              "      <td>.</td>\n",
              "    </tr>\n",
              "    <tr>\n",
              "      <th>15</th>\n",
              "      <td>John</td>\n",
              "      <td>John</td>\n",
              "      <td>NNP</td>\n",
              "      <td>John</td>\n",
              "      <td>john</td>\n",
              "    </tr>\n",
              "    <tr>\n",
              "      <th>16</th>\n",
              "      <td>and</td>\n",
              "      <td>and</td>\n",
              "      <td>CC</td>\n",
              "      <td>and</td>\n",
              "      <td>and</td>\n",
              "    </tr>\n",
              "    <tr>\n",
              "      <th>17</th>\n",
              "      <td>Peter</td>\n",
              "      <td>Peter</td>\n",
              "      <td>NNP</td>\n",
              "      <td>Peter</td>\n",
              "      <td>peter</td>\n",
              "    </tr>\n",
              "    <tr>\n",
              "      <th>18</th>\n",
              "      <td>are</td>\n",
              "      <td>are</td>\n",
              "      <td>VBP</td>\n",
              "      <td>be</td>\n",
              "      <td>ar</td>\n",
              "    </tr>\n",
              "    <tr>\n",
              "      <th>19</th>\n",
              "      <td>brothrs</td>\n",
              "      <td>broths</td>\n",
              "      <td>NNS</td>\n",
              "      <td>broth</td>\n",
              "      <td>broth</td>\n",
              "    </tr>\n",
              "    <tr>\n",
              "      <th>20</th>\n",
              "      <td>.</td>\n",
              "      <td>.</td>\n",
              "      <td>.</td>\n",
              "      <td>.</td>\n",
              "      <td>.</td>\n",
              "    </tr>\n",
              "    <tr>\n",
              "      <th>21</th>\n",
              "      <td>However</td>\n",
              "      <td>However</td>\n",
              "      <td>RB</td>\n",
              "      <td>However</td>\n",
              "      <td>howev</td>\n",
              "    </tr>\n",
              "    <tr>\n",
              "      <th>22</th>\n",
              "      <td>they</td>\n",
              "      <td>they</td>\n",
              "      <td>PRP</td>\n",
              "      <td>they</td>\n",
              "      <td>thei</td>\n",
              "    </tr>\n",
              "    <tr>\n",
              "      <th>23</th>\n",
              "      <td>don't</td>\n",
              "      <td>don't</td>\n",
              "      <td>VBP</td>\n",
              "      <td>don't</td>\n",
              "      <td>don't</td>\n",
              "    </tr>\n",
              "    <tr>\n",
              "      <th>24</th>\n",
              "      <td>support</td>\n",
              "      <td>support</td>\n",
              "      <td>VB</td>\n",
              "      <td>support</td>\n",
              "      <td>support</td>\n",
              "    </tr>\n",
              "    <tr>\n",
              "      <th>25</th>\n",
              "      <td>each</td>\n",
              "      <td>each</td>\n",
              "      <td>DT</td>\n",
              "      <td>each</td>\n",
              "      <td>each</td>\n",
              "    </tr>\n",
              "    <tr>\n",
              "      <th>26</th>\n",
              "      <td>other</td>\n",
              "      <td>other</td>\n",
              "      <td>JJ</td>\n",
              "      <td>other</td>\n",
              "      <td>other</td>\n",
              "    </tr>\n",
              "    <tr>\n",
              "      <th>27</th>\n",
              "      <td>that</td>\n",
              "      <td>that</td>\n",
              "      <td>IN</td>\n",
              "      <td>that</td>\n",
              "      <td>that</td>\n",
              "    </tr>\n",
              "    <tr>\n",
              "      <th>28</th>\n",
              "      <td>much</td>\n",
              "      <td>much</td>\n",
              "      <td>JJ</td>\n",
              "      <td>much</td>\n",
              "      <td>much</td>\n",
              "    </tr>\n",
              "    <tr>\n",
              "      <th>29</th>\n",
              "      <td>.</td>\n",
              "      <td>.</td>\n",
              "      <td>.</td>\n",
              "      <td>.</td>\n",
              "      <td>.</td>\n",
              "    </tr>\n",
              "    <tr>\n",
              "      <th>30</th>\n",
              "      <td>Lucas</td>\n",
              "      <td>Lucas</td>\n",
              "      <td>NNP</td>\n",
              "      <td>Lucas</td>\n",
              "      <td>luca</td>\n",
              "    </tr>\n",
              "    <tr>\n",
              "      <th>31</th>\n",
              "      <td>Nogal</td>\n",
              "      <td>Nogal</td>\n",
              "      <td>NNP</td>\n",
              "      <td>Nogal</td>\n",
              "      <td>nogal</td>\n",
              "    </tr>\n",
              "    <tr>\n",
              "      <th>32</th>\n",
              "      <td>Dunbercker</td>\n",
              "      <td>Dunbercker</td>\n",
              "      <td>NNP</td>\n",
              "      <td>Dunbercker</td>\n",
              "      <td>dunberck</td>\n",
              "    </tr>\n",
              "    <tr>\n",
              "      <th>33</th>\n",
              "      <td>is</td>\n",
              "      <td>is</td>\n",
              "      <td>VBZ</td>\n",
              "      <td>be</td>\n",
              "      <td>i</td>\n",
              "    </tr>\n",
              "    <tr>\n",
              "      <th>34</th>\n",
              "      <td>no</td>\n",
              "      <td>no</td>\n",
              "      <td>DT</td>\n",
              "      <td>no</td>\n",
              "      <td>no</td>\n",
              "    </tr>\n",
              "    <tr>\n",
              "      <th>35</th>\n",
              "      <td>longer</td>\n",
              "      <td>longer</td>\n",
              "      <td>RB</td>\n",
              "      <td>long</td>\n",
              "      <td>longer</td>\n",
              "    </tr>\n",
              "    <tr>\n",
              "      <th>36</th>\n",
              "      <td>happy</td>\n",
              "      <td>happy</td>\n",
              "      <td>JJ</td>\n",
              "      <td>happy</td>\n",
              "      <td>happi</td>\n",
              "    </tr>\n",
              "    <tr>\n",
              "      <th>37</th>\n",
              "      <td>.</td>\n",
              "      <td>.</td>\n",
              "      <td>.</td>\n",
              "      <td>.</td>\n",
              "      <td>.</td>\n",
              "    </tr>\n",
              "    <tr>\n",
              "      <th>38</th>\n",
              "      <td>He</td>\n",
              "      <td>He</td>\n",
              "      <td>PRP</td>\n",
              "      <td>He</td>\n",
              "      <td>he</td>\n",
              "    </tr>\n",
              "    <tr>\n",
              "      <th>39</th>\n",
              "      <td>has</td>\n",
              "      <td>has</td>\n",
              "      <td>VBZ</td>\n",
              "      <td>have</td>\n",
              "      <td>ha</td>\n",
              "    </tr>\n",
              "    <tr>\n",
              "      <th>40</th>\n",
              "      <td>a</td>\n",
              "      <td>a</td>\n",
              "      <td>DT</td>\n",
              "      <td>a</td>\n",
              "      <td>a</td>\n",
              "    </tr>\n",
              "    <tr>\n",
              "      <th>41</th>\n",
              "      <td>good</td>\n",
              "      <td>good</td>\n",
              "      <td>JJ</td>\n",
              "      <td>good</td>\n",
              "      <td>good</td>\n",
              "    </tr>\n",
              "    <tr>\n",
              "      <th>42</th>\n",
              "      <td>car</td>\n",
              "      <td>car</td>\n",
              "      <td>NN</td>\n",
              "      <td>car</td>\n",
              "      <td>car</td>\n",
              "    </tr>\n",
              "    <tr>\n",
              "      <th>43</th>\n",
              "      <td>though</td>\n",
              "      <td>though</td>\n",
              "      <td>IN</td>\n",
              "      <td>though</td>\n",
              "      <td>though</td>\n",
              "    </tr>\n",
              "    <tr>\n",
              "      <th>44</th>\n",
              "      <td>.</td>\n",
              "      <td>.</td>\n",
              "      <td>.</td>\n",
              "      <td>.</td>\n",
              "      <td>.</td>\n",
              "    </tr>\n",
              "    <tr>\n",
              "      <th>45</th>\n",
              "      <td>Europe</td>\n",
              "      <td>Europe</td>\n",
              "      <td>NNP</td>\n",
              "      <td>Europe</td>\n",
              "      <td>europ</td>\n",
              "    </tr>\n",
              "    <tr>\n",
              "      <th>46</th>\n",
              "      <td>is</td>\n",
              "      <td>is</td>\n",
              "      <td>VBZ</td>\n",
              "      <td>be</td>\n",
              "      <td>i</td>\n",
              "    </tr>\n",
              "    <tr>\n",
              "      <th>47</th>\n",
              "      <td>very</td>\n",
              "      <td>very</td>\n",
              "      <td>RB</td>\n",
              "      <td>very</td>\n",
              "      <td>veri</td>\n",
              "    </tr>\n",
              "    <tr>\n",
              "      <th>48</th>\n",
              "      <td>culture</td>\n",
              "      <td>culture</td>\n",
              "      <td>RB</td>\n",
              "      <td>culture</td>\n",
              "      <td>cultur</td>\n",
              "    </tr>\n",
              "    <tr>\n",
              "      <th>49</th>\n",
              "      <td>rich</td>\n",
              "      <td>rich</td>\n",
              "      <td>JJ</td>\n",
              "      <td>rich</td>\n",
              "      <td>rich</td>\n",
              "    </tr>\n",
              "    <tr>\n",
              "      <th>50</th>\n",
              "      <td>.</td>\n",
              "      <td>.</td>\n",
              "      <td>.</td>\n",
              "      <td>.</td>\n",
              "      <td>.</td>\n",
              "    </tr>\n",
              "    <tr>\n",
              "      <th>51</th>\n",
              "      <td>There</td>\n",
              "      <td>There</td>\n",
              "      <td>EX</td>\n",
              "      <td>There</td>\n",
              "      <td>there</td>\n",
              "    </tr>\n",
              "    <tr>\n",
              "      <th>52</th>\n",
              "      <td>are</td>\n",
              "      <td>are</td>\n",
              "      <td>VBP</td>\n",
              "      <td>be</td>\n",
              "      <td>ar</td>\n",
              "    </tr>\n",
              "    <tr>\n",
              "      <th>53</th>\n",
              "      <td>huge</td>\n",
              "      <td>huge</td>\n",
              "      <td>JJ</td>\n",
              "      <td>huge</td>\n",
              "      <td>huge</td>\n",
              "    </tr>\n",
              "    <tr>\n",
              "      <th>54</th>\n",
              "      <td>churches</td>\n",
              "      <td>churches</td>\n",
              "      <td>NNS</td>\n",
              "      <td>church</td>\n",
              "      <td>church</td>\n",
              "    </tr>\n",
              "    <tr>\n",
              "      <th>55</th>\n",
              "      <td>!</td>\n",
              "      <td>!</td>\n",
              "      <td>.</td>\n",
              "      <td>!</td>\n",
              "      <td>!</td>\n",
              "    </tr>\n",
              "    <tr>\n",
              "      <th>56</th>\n",
              "      <td>and</td>\n",
              "      <td>and</td>\n",
              "      <td>CC</td>\n",
              "      <td>and</td>\n",
              "      <td>and</td>\n",
              "    </tr>\n",
              "    <tr>\n",
              "      <th>57</th>\n",
              "      <td>big</td>\n",
              "      <td>big</td>\n",
              "      <td>JJ</td>\n",
              "      <td>big</td>\n",
              "      <td>big</td>\n",
              "    </tr>\n",
              "    <tr>\n",
              "      <th>58</th>\n",
              "      <td>houses</td>\n",
              "      <td>houses</td>\n",
              "      <td>NNS</td>\n",
              "      <td>house</td>\n",
              "      <td>hous</td>\n",
              "    </tr>\n",
              "    <tr>\n",
              "      <th>59</th>\n",
              "      <td>!</td>\n",
              "      <td>!</td>\n",
              "      <td>.</td>\n",
              "      <td>!</td>\n",
              "      <td>!</td>\n",
              "    </tr>\n",
              "  </tbody>\n",
              "</table>\n",
              "</div>"
            ],
            "text/plain": [
              "         token    corrected   POS      lemmas     stems\n",
              "0        Peter        Peter   NNP       Peter     peter\n",
              "1           is           is   VBZ          be         i\n",
              "2            a            a    DT           a         a\n",
              "3         very         very    RB        very      veri\n",
              "4         good         good    JJ        good      good\n",
              "5        persn       person    NN      person    person\n",
              "6            .            .     .           .         .\n",
              "7           My           My  PRP$          My        my\n",
              "8         life         life    NN        life      life\n",
              "9           in           in    IN          in        in\n",
              "10      Russia       Russia   NNP      Russia    russia\n",
              "11          is           is   VBZ          be         i\n",
              "12        very         very    RB        very      veri\n",
              "13  intersting  interesting    JJ    interest  interest\n",
              "14           .            .     .           .         .\n",
              "15        John         John   NNP        John      john\n",
              "16         and          and    CC         and       and\n",
              "17       Peter        Peter   NNP       Peter     peter\n",
              "18         are          are   VBP          be        ar\n",
              "19     brothrs       broths   NNS       broth     broth\n",
              "20           .            .     .           .         .\n",
              "21     However      However    RB     However     howev\n",
              "22        they         they   PRP        they      thei\n",
              "23       don't        don't   VBP       don't     don't\n",
              "24     support      support    VB     support   support\n",
              "25        each         each    DT        each      each\n",
              "26       other        other    JJ       other     other\n",
              "27        that         that    IN        that      that\n",
              "28        much         much    JJ        much      much\n",
              "29           .            .     .           .         .\n",
              "30       Lucas        Lucas   NNP       Lucas      luca\n",
              "31       Nogal        Nogal   NNP       Nogal     nogal\n",
              "32  Dunbercker   Dunbercker   NNP  Dunbercker  dunberck\n",
              "33          is           is   VBZ          be         i\n",
              "34          no           no    DT          no        no\n",
              "35      longer       longer    RB        long    longer\n",
              "36       happy        happy    JJ       happy     happi\n",
              "37           .            .     .           .         .\n",
              "38          He           He   PRP          He        he\n",
              "39         has          has   VBZ        have        ha\n",
              "40           a            a    DT           a         a\n",
              "41        good         good    JJ        good      good\n",
              "42         car          car    NN         car       car\n",
              "43      though       though    IN      though    though\n",
              "44           .            .     .           .         .\n",
              "45      Europe       Europe   NNP      Europe     europ\n",
              "46          is           is   VBZ          be         i\n",
              "47        very         very    RB        very      veri\n",
              "48     culture      culture    RB     culture    cultur\n",
              "49        rich         rich    JJ        rich      rich\n",
              "50           .            .     .           .         .\n",
              "51       There        There    EX       There     there\n",
              "52         are          are   VBP          be        ar\n",
              "53        huge         huge    JJ        huge      huge\n",
              "54    churches     churches   NNS      church    church\n",
              "55           !            !     .           !         !\n",
              "56         and          and    CC         and       and\n",
              "57         big          big    JJ         big       big\n",
              "58      houses       houses   NNS       house      hous\n",
              "59           !            !     .           !         !"
            ]
          },
          "metadata": {
            "tags": []
          },
          "execution_count": 12
        }
      ]
    },
    {
      "cell_type": "code",
      "metadata": {
        "id": "9TG4WxL3JQxu"
      },
      "source": [
        ""
      ],
      "execution_count": null,
      "outputs": []
    },
    {
      "cell_type": "markdown",
      "metadata": {
        "id": "xoNLwohgvD7L"
      },
      "source": [
        "### Explain Document DL"
      ]
    },
    {
      "cell_type": "markdown",
      "metadata": {
        "id": "IdsQHjKHwSpH"
      },
      "source": [
        "**Stages**\n",
        "- DocumentAssembler\n",
        "- SentenceDetector\n",
        "- Tokenizer\n",
        "- NER (NER with GloVe 100D embeddings, CoNLL2003 dataset)\n",
        "- Lemmatizer\n",
        "- Stemmer\n",
        "- Part of Speech\n",
        "- SpellChecker (Norvig)\n"
      ]
    },
    {
      "cell_type": "code",
      "metadata": {
        "id": "wPxRk5SzsumW",
        "outputId": "4614efae-8620-47c4-bff5-a77b11076072",
        "colab": {
          "base_uri": "https://localhost:8080/",
          "height": 70
        }
      },
      "source": [
        "pipeline_dl = PretrainedPipeline('explain_document_dl', lang='en')\n"
      ],
      "execution_count": 13,
      "outputs": [
        {
          "output_type": "stream",
          "text": [
            "explain_document_dl download started this may take some time.\n",
            "Approx size to download 168.4 MB\n",
            "[OK!]\n"
          ],
          "name": "stdout"
        }
      ]
    },
    {
      "cell_type": "code",
      "metadata": {
        "id": "H3ZRPPSQ3d4n",
        "outputId": "00192ff5-5637-4c61-d210-3b53c4488f63",
        "colab": {
          "base_uri": "https://localhost:8080/",
          "height": 194
        }
      },
      "source": [
        "pipeline_dl.model.stages"
      ],
      "execution_count": 17,
      "outputs": [
        {
          "output_type": "execute_result",
          "data": {
            "text/plain": [
              "[document_7939d5bf1083,\n",
              " SENTENCE_05265b07c745,\n",
              " REGEX_TOKENIZER_b4f4b39b56e3,\n",
              " SPELL_e4ea67180337,\n",
              " LEMMATIZER_c62ad8f355f9,\n",
              " STEMMER_ba49f7631065,\n",
              " POS_29fd848601e6,\n",
              " WORD_EMBEDDINGS_MODEL_48cffc8b9a76,\n",
              " NerDLModel_d4424c9af5f4,\n",
              " NER_CONVERTER_a81db9af2d23]"
            ]
          },
          "metadata": {
            "tags": []
          },
          "execution_count": 17
        }
      ]
    },
    {
      "cell_type": "code",
      "metadata": {
        "id": "LaVMukYl39s6",
        "outputId": "6e81ac63-c0d0-4e15-e39e-b133219cb117",
        "colab": {
          "base_uri": "https://localhost:8080/",
          "height": 35
        }
      },
      "source": [
        "pipeline_dl.model.stages[-2].getStorageRef()"
      ],
      "execution_count": 21,
      "outputs": [
        {
          "output_type": "execute_result",
          "data": {
            "application/vnd.google.colaboratory.intrinsic+json": {
              "type": "string"
            },
            "text/plain": [
              "'glove_100d'"
            ]
          },
          "metadata": {
            "tags": []
          },
          "execution_count": 21
        }
      ]
    },
    {
      "cell_type": "code",
      "metadata": {
        "id": "azxsQO_44Ex4",
        "outputId": "feea9779-5abb-489b-e6ac-74125324516c",
        "colab": {
          "base_uri": "https://localhost:8080/",
          "height": 34
        }
      },
      "source": [
        "pipeline_dl.model.stages[-2].getClasses()"
      ],
      "execution_count": 22,
      "outputs": [
        {
          "output_type": "execute_result",
          "data": {
            "text/plain": [
              "['O', 'B-ORG', 'B-LOC', 'B-PER', 'I-PER', 'I-ORG', 'B-MISC', 'I-LOC', 'I-MISC']"
            ]
          },
          "metadata": {
            "tags": []
          },
          "execution_count": 22
        }
      ]
    },
    {
      "cell_type": "code",
      "metadata": {
        "id": "NLTBkfC5vKSa",
        "outputId": "e690d4d7-a91a-4190-d308-2e6631fdb499",
        "colab": {
          "base_uri": "https://localhost:8080/",
          "height": 52
        }
      },
      "source": [
        "%%time\n",
        "\n",
        "result = pipeline_dl.annotate(testDoc)\n",
        "\n",
        "result.keys()"
      ],
      "execution_count": 23,
      "outputs": [
        {
          "output_type": "stream",
          "text": [
            "CPU times: user 52.8 ms, sys: 18 ms, total: 70.8 ms\n",
            "Wall time: 1.38 s\n"
          ],
          "name": "stdout"
        }
      ]
    },
    {
      "cell_type": "code",
      "metadata": {
        "id": "L3FZ2gaEv0GN",
        "outputId": "390d923c-2ab9-4534-c15a-9c001bf5c1f2",
        "colab": {
          "base_uri": "https://localhost:8080/",
          "height": 34
        }
      },
      "source": [
        "result.keys()"
      ],
      "execution_count": 24,
      "outputs": [
        {
          "output_type": "execute_result",
          "data": {
            "text/plain": [
              "dict_keys(['entities', 'stem', 'checked', 'lemma', 'document', 'pos', 'token', 'ner', 'embeddings', 'sentence'])"
            ]
          },
          "metadata": {
            "tags": []
          },
          "execution_count": 24
        }
      ]
    },
    {
      "cell_type": "code",
      "metadata": {
        "id": "4UrimwRVxRUh",
        "outputId": "ee28cd71-ee79-4822-9db7-39483f548b21",
        "colab": {
          "base_uri": "https://localhost:8080/",
          "height": 34
        }
      },
      "source": [
        "result['entities']"
      ],
      "execution_count": 25,
      "outputs": [
        {
          "output_type": "execute_result",
          "data": {
            "text/plain": [
              "['Peter', 'Russia', 'John', 'Peter', 'Lucas Nogal Dunbercker', 'Europe']"
            ]
          },
          "metadata": {
            "tags": []
          },
          "execution_count": 25
        }
      ]
    },
    {
      "cell_type": "code",
      "metadata": {
        "id": "pRI8vqdcv4Ui",
        "outputId": "d02b5dbc-43f6-4b0c-b4a9-744184acd5aa",
        "colab": {
          "base_uri": "https://localhost:8080/",
          "height": 1000
        }
      },
      "source": [
        "df = pd.DataFrame({'token':result['token'], 'ner_label':result['ner'],\n",
        "                      'spell_corrected':result['checked'], 'POS':result['pos'],\n",
        "                      'lemmas':result['lemma'], 'stems':result['stem']})\n",
        "\n",
        "df"
      ],
      "execution_count": 26,
      "outputs": [
        {
          "output_type": "execute_result",
          "data": {
            "text/html": [
              "<div>\n",
              "<style scoped>\n",
              "    .dataframe tbody tr th:only-of-type {\n",
              "        vertical-align: middle;\n",
              "    }\n",
              "\n",
              "    .dataframe tbody tr th {\n",
              "        vertical-align: top;\n",
              "    }\n",
              "\n",
              "    .dataframe thead th {\n",
              "        text-align: right;\n",
              "    }\n",
              "</style>\n",
              "<table border=\"1\" class=\"dataframe\">\n",
              "  <thead>\n",
              "    <tr style=\"text-align: right;\">\n",
              "      <th></th>\n",
              "      <th>token</th>\n",
              "      <th>ner_label</th>\n",
              "      <th>spell_corrected</th>\n",
              "      <th>POS</th>\n",
              "      <th>lemmas</th>\n",
              "      <th>stems</th>\n",
              "    </tr>\n",
              "  </thead>\n",
              "  <tbody>\n",
              "    <tr>\n",
              "      <th>0</th>\n",
              "      <td>Peter</td>\n",
              "      <td>B-PER</td>\n",
              "      <td>Peter</td>\n",
              "      <td>NNP</td>\n",
              "      <td>Peter</td>\n",
              "      <td>peter</td>\n",
              "    </tr>\n",
              "    <tr>\n",
              "      <th>1</th>\n",
              "      <td>is</td>\n",
              "      <td>O</td>\n",
              "      <td>is</td>\n",
              "      <td>VBZ</td>\n",
              "      <td>be</td>\n",
              "      <td>i</td>\n",
              "    </tr>\n",
              "    <tr>\n",
              "      <th>2</th>\n",
              "      <td>a</td>\n",
              "      <td>O</td>\n",
              "      <td>a</td>\n",
              "      <td>DT</td>\n",
              "      <td>a</td>\n",
              "      <td>a</td>\n",
              "    </tr>\n",
              "    <tr>\n",
              "      <th>3</th>\n",
              "      <td>very</td>\n",
              "      <td>O</td>\n",
              "      <td>very</td>\n",
              "      <td>RB</td>\n",
              "      <td>very</td>\n",
              "      <td>veri</td>\n",
              "    </tr>\n",
              "    <tr>\n",
              "      <th>4</th>\n",
              "      <td>good</td>\n",
              "      <td>O</td>\n",
              "      <td>good</td>\n",
              "      <td>JJ</td>\n",
              "      <td>good</td>\n",
              "      <td>good</td>\n",
              "    </tr>\n",
              "    <tr>\n",
              "      <th>5</th>\n",
              "      <td>persn</td>\n",
              "      <td>O</td>\n",
              "      <td>person</td>\n",
              "      <td>NN</td>\n",
              "      <td>person</td>\n",
              "      <td>person</td>\n",
              "    </tr>\n",
              "    <tr>\n",
              "      <th>6</th>\n",
              "      <td>.</td>\n",
              "      <td>O</td>\n",
              "      <td>.</td>\n",
              "      <td>.</td>\n",
              "      <td>.</td>\n",
              "      <td>.</td>\n",
              "    </tr>\n",
              "    <tr>\n",
              "      <th>7</th>\n",
              "      <td>My</td>\n",
              "      <td>O</td>\n",
              "      <td>My</td>\n",
              "      <td>PRP$</td>\n",
              "      <td>My</td>\n",
              "      <td>my</td>\n",
              "    </tr>\n",
              "    <tr>\n",
              "      <th>8</th>\n",
              "      <td>life</td>\n",
              "      <td>O</td>\n",
              "      <td>life</td>\n",
              "      <td>NN</td>\n",
              "      <td>life</td>\n",
              "      <td>life</td>\n",
              "    </tr>\n",
              "    <tr>\n",
              "      <th>9</th>\n",
              "      <td>in</td>\n",
              "      <td>O</td>\n",
              "      <td>in</td>\n",
              "      <td>IN</td>\n",
              "      <td>in</td>\n",
              "      <td>in</td>\n",
              "    </tr>\n",
              "    <tr>\n",
              "      <th>10</th>\n",
              "      <td>Russia</td>\n",
              "      <td>B-LOC</td>\n",
              "      <td>Russia</td>\n",
              "      <td>NNP</td>\n",
              "      <td>Russia</td>\n",
              "      <td>russia</td>\n",
              "    </tr>\n",
              "    <tr>\n",
              "      <th>11</th>\n",
              "      <td>is</td>\n",
              "      <td>O</td>\n",
              "      <td>is</td>\n",
              "      <td>VBZ</td>\n",
              "      <td>be</td>\n",
              "      <td>i</td>\n",
              "    </tr>\n",
              "    <tr>\n",
              "      <th>12</th>\n",
              "      <td>very</td>\n",
              "      <td>O</td>\n",
              "      <td>very</td>\n",
              "      <td>RB</td>\n",
              "      <td>very</td>\n",
              "      <td>veri</td>\n",
              "    </tr>\n",
              "    <tr>\n",
              "      <th>13</th>\n",
              "      <td>intersting</td>\n",
              "      <td>O</td>\n",
              "      <td>interesting</td>\n",
              "      <td>JJ</td>\n",
              "      <td>interest</td>\n",
              "      <td>interest</td>\n",
              "    </tr>\n",
              "    <tr>\n",
              "      <th>14</th>\n",
              "      <td>.</td>\n",
              "      <td>O</td>\n",
              "      <td>.</td>\n",
              "      <td>.</td>\n",
              "      <td>.</td>\n",
              "      <td>.</td>\n",
              "    </tr>\n",
              "    <tr>\n",
              "      <th>15</th>\n",
              "      <td>John</td>\n",
              "      <td>B-PER</td>\n",
              "      <td>John</td>\n",
              "      <td>NNP</td>\n",
              "      <td>John</td>\n",
              "      <td>john</td>\n",
              "    </tr>\n",
              "    <tr>\n",
              "      <th>16</th>\n",
              "      <td>and</td>\n",
              "      <td>O</td>\n",
              "      <td>and</td>\n",
              "      <td>CC</td>\n",
              "      <td>and</td>\n",
              "      <td>and</td>\n",
              "    </tr>\n",
              "    <tr>\n",
              "      <th>17</th>\n",
              "      <td>Peter</td>\n",
              "      <td>B-PER</td>\n",
              "      <td>Peter</td>\n",
              "      <td>NNP</td>\n",
              "      <td>Peter</td>\n",
              "      <td>peter</td>\n",
              "    </tr>\n",
              "    <tr>\n",
              "      <th>18</th>\n",
              "      <td>are</td>\n",
              "      <td>O</td>\n",
              "      <td>are</td>\n",
              "      <td>VBP</td>\n",
              "      <td>be</td>\n",
              "      <td>ar</td>\n",
              "    </tr>\n",
              "    <tr>\n",
              "      <th>19</th>\n",
              "      <td>brothrs</td>\n",
              "      <td>O</td>\n",
              "      <td>broths</td>\n",
              "      <td>NNS</td>\n",
              "      <td>broth</td>\n",
              "      <td>broth</td>\n",
              "    </tr>\n",
              "    <tr>\n",
              "      <th>20</th>\n",
              "      <td>.</td>\n",
              "      <td>O</td>\n",
              "      <td>.</td>\n",
              "      <td>.</td>\n",
              "      <td>.</td>\n",
              "      <td>.</td>\n",
              "    </tr>\n",
              "    <tr>\n",
              "      <th>21</th>\n",
              "      <td>However</td>\n",
              "      <td>O</td>\n",
              "      <td>However</td>\n",
              "      <td>RB</td>\n",
              "      <td>However</td>\n",
              "      <td>howev</td>\n",
              "    </tr>\n",
              "    <tr>\n",
              "      <th>22</th>\n",
              "      <td>they</td>\n",
              "      <td>O</td>\n",
              "      <td>they</td>\n",
              "      <td>PRP</td>\n",
              "      <td>they</td>\n",
              "      <td>thei</td>\n",
              "    </tr>\n",
              "    <tr>\n",
              "      <th>23</th>\n",
              "      <td>don't</td>\n",
              "      <td>O</td>\n",
              "      <td>don't</td>\n",
              "      <td>VBP</td>\n",
              "      <td>don't</td>\n",
              "      <td>don't</td>\n",
              "    </tr>\n",
              "    <tr>\n",
              "      <th>24</th>\n",
              "      <td>support</td>\n",
              "      <td>O</td>\n",
              "      <td>support</td>\n",
              "      <td>VB</td>\n",
              "      <td>support</td>\n",
              "      <td>support</td>\n",
              "    </tr>\n",
              "    <tr>\n",
              "      <th>25</th>\n",
              "      <td>each</td>\n",
              "      <td>O</td>\n",
              "      <td>each</td>\n",
              "      <td>DT</td>\n",
              "      <td>each</td>\n",
              "      <td>each</td>\n",
              "    </tr>\n",
              "    <tr>\n",
              "      <th>26</th>\n",
              "      <td>other</td>\n",
              "      <td>O</td>\n",
              "      <td>other</td>\n",
              "      <td>JJ</td>\n",
              "      <td>other</td>\n",
              "      <td>other</td>\n",
              "    </tr>\n",
              "    <tr>\n",
              "      <th>27</th>\n",
              "      <td>that</td>\n",
              "      <td>O</td>\n",
              "      <td>that</td>\n",
              "      <td>IN</td>\n",
              "      <td>that</td>\n",
              "      <td>that</td>\n",
              "    </tr>\n",
              "    <tr>\n",
              "      <th>28</th>\n",
              "      <td>much</td>\n",
              "      <td>O</td>\n",
              "      <td>much</td>\n",
              "      <td>JJ</td>\n",
              "      <td>much</td>\n",
              "      <td>much</td>\n",
              "    </tr>\n",
              "    <tr>\n",
              "      <th>29</th>\n",
              "      <td>.</td>\n",
              "      <td>O</td>\n",
              "      <td>.</td>\n",
              "      <td>.</td>\n",
              "      <td>.</td>\n",
              "      <td>.</td>\n",
              "    </tr>\n",
              "    <tr>\n",
              "      <th>30</th>\n",
              "      <td>Lucas</td>\n",
              "      <td>B-ORG</td>\n",
              "      <td>Lucas</td>\n",
              "      <td>NNP</td>\n",
              "      <td>Lucas</td>\n",
              "      <td>luca</td>\n",
              "    </tr>\n",
              "    <tr>\n",
              "      <th>31</th>\n",
              "      <td>Nogal</td>\n",
              "      <td>I-ORG</td>\n",
              "      <td>Nogal</td>\n",
              "      <td>NNP</td>\n",
              "      <td>Nogal</td>\n",
              "      <td>nogal</td>\n",
              "    </tr>\n",
              "    <tr>\n",
              "      <th>32</th>\n",
              "      <td>Dunbercker</td>\n",
              "      <td>I-ORG</td>\n",
              "      <td>Dunbercker</td>\n",
              "      <td>NNP</td>\n",
              "      <td>Dunbercker</td>\n",
              "      <td>dunberck</td>\n",
              "    </tr>\n",
              "    <tr>\n",
              "      <th>33</th>\n",
              "      <td>is</td>\n",
              "      <td>O</td>\n",
              "      <td>is</td>\n",
              "      <td>VBZ</td>\n",
              "      <td>be</td>\n",
              "      <td>i</td>\n",
              "    </tr>\n",
              "    <tr>\n",
              "      <th>34</th>\n",
              "      <td>no</td>\n",
              "      <td>O</td>\n",
              "      <td>no</td>\n",
              "      <td>DT</td>\n",
              "      <td>no</td>\n",
              "      <td>no</td>\n",
              "    </tr>\n",
              "    <tr>\n",
              "      <th>35</th>\n",
              "      <td>longer</td>\n",
              "      <td>O</td>\n",
              "      <td>longer</td>\n",
              "      <td>RB</td>\n",
              "      <td>long</td>\n",
              "      <td>longer</td>\n",
              "    </tr>\n",
              "    <tr>\n",
              "      <th>36</th>\n",
              "      <td>happy</td>\n",
              "      <td>O</td>\n",
              "      <td>happy</td>\n",
              "      <td>JJ</td>\n",
              "      <td>happy</td>\n",
              "      <td>happi</td>\n",
              "    </tr>\n",
              "    <tr>\n",
              "      <th>37</th>\n",
              "      <td>.</td>\n",
              "      <td>O</td>\n",
              "      <td>.</td>\n",
              "      <td>.</td>\n",
              "      <td>.</td>\n",
              "      <td>.</td>\n",
              "    </tr>\n",
              "    <tr>\n",
              "      <th>38</th>\n",
              "      <td>He</td>\n",
              "      <td>O</td>\n",
              "      <td>He</td>\n",
              "      <td>PRP</td>\n",
              "      <td>He</td>\n",
              "      <td>he</td>\n",
              "    </tr>\n",
              "    <tr>\n",
              "      <th>39</th>\n",
              "      <td>has</td>\n",
              "      <td>O</td>\n",
              "      <td>has</td>\n",
              "      <td>VBZ</td>\n",
              "      <td>have</td>\n",
              "      <td>ha</td>\n",
              "    </tr>\n",
              "    <tr>\n",
              "      <th>40</th>\n",
              "      <td>a</td>\n",
              "      <td>O</td>\n",
              "      <td>a</td>\n",
              "      <td>DT</td>\n",
              "      <td>a</td>\n",
              "      <td>a</td>\n",
              "    </tr>\n",
              "    <tr>\n",
              "      <th>41</th>\n",
              "      <td>good</td>\n",
              "      <td>O</td>\n",
              "      <td>good</td>\n",
              "      <td>JJ</td>\n",
              "      <td>good</td>\n",
              "      <td>good</td>\n",
              "    </tr>\n",
              "    <tr>\n",
              "      <th>42</th>\n",
              "      <td>car</td>\n",
              "      <td>O</td>\n",
              "      <td>car</td>\n",
              "      <td>NN</td>\n",
              "      <td>car</td>\n",
              "      <td>car</td>\n",
              "    </tr>\n",
              "    <tr>\n",
              "      <th>43</th>\n",
              "      <td>though</td>\n",
              "      <td>O</td>\n",
              "      <td>though</td>\n",
              "      <td>IN</td>\n",
              "      <td>though</td>\n",
              "      <td>though</td>\n",
              "    </tr>\n",
              "    <tr>\n",
              "      <th>44</th>\n",
              "      <td>.</td>\n",
              "      <td>O</td>\n",
              "      <td>.</td>\n",
              "      <td>.</td>\n",
              "      <td>.</td>\n",
              "      <td>.</td>\n",
              "    </tr>\n",
              "    <tr>\n",
              "      <th>45</th>\n",
              "      <td>Europe</td>\n",
              "      <td>B-LOC</td>\n",
              "      <td>Europe</td>\n",
              "      <td>NNP</td>\n",
              "      <td>Europe</td>\n",
              "      <td>europ</td>\n",
              "    </tr>\n",
              "    <tr>\n",
              "      <th>46</th>\n",
              "      <td>is</td>\n",
              "      <td>O</td>\n",
              "      <td>is</td>\n",
              "      <td>VBZ</td>\n",
              "      <td>be</td>\n",
              "      <td>i</td>\n",
              "    </tr>\n",
              "    <tr>\n",
              "      <th>47</th>\n",
              "      <td>very</td>\n",
              "      <td>O</td>\n",
              "      <td>very</td>\n",
              "      <td>RB</td>\n",
              "      <td>very</td>\n",
              "      <td>veri</td>\n",
              "    </tr>\n",
              "    <tr>\n",
              "      <th>48</th>\n",
              "      <td>culture</td>\n",
              "      <td>O</td>\n",
              "      <td>culture</td>\n",
              "      <td>RB</td>\n",
              "      <td>culture</td>\n",
              "      <td>cultur</td>\n",
              "    </tr>\n",
              "    <tr>\n",
              "      <th>49</th>\n",
              "      <td>rich</td>\n",
              "      <td>O</td>\n",
              "      <td>rich</td>\n",
              "      <td>JJ</td>\n",
              "      <td>rich</td>\n",
              "      <td>rich</td>\n",
              "    </tr>\n",
              "    <tr>\n",
              "      <th>50</th>\n",
              "      <td>.</td>\n",
              "      <td>O</td>\n",
              "      <td>.</td>\n",
              "      <td>.</td>\n",
              "      <td>.</td>\n",
              "      <td>.</td>\n",
              "    </tr>\n",
              "    <tr>\n",
              "      <th>51</th>\n",
              "      <td>There</td>\n",
              "      <td>O</td>\n",
              "      <td>There</td>\n",
              "      <td>EX</td>\n",
              "      <td>There</td>\n",
              "      <td>there</td>\n",
              "    </tr>\n",
              "    <tr>\n",
              "      <th>52</th>\n",
              "      <td>are</td>\n",
              "      <td>O</td>\n",
              "      <td>are</td>\n",
              "      <td>VBP</td>\n",
              "      <td>be</td>\n",
              "      <td>ar</td>\n",
              "    </tr>\n",
              "    <tr>\n",
              "      <th>53</th>\n",
              "      <td>huge</td>\n",
              "      <td>O</td>\n",
              "      <td>huge</td>\n",
              "      <td>JJ</td>\n",
              "      <td>huge</td>\n",
              "      <td>huge</td>\n",
              "    </tr>\n",
              "    <tr>\n",
              "      <th>54</th>\n",
              "      <td>churches</td>\n",
              "      <td>O</td>\n",
              "      <td>churches</td>\n",
              "      <td>NNS</td>\n",
              "      <td>church</td>\n",
              "      <td>church</td>\n",
              "    </tr>\n",
              "    <tr>\n",
              "      <th>55</th>\n",
              "      <td>!</td>\n",
              "      <td>O</td>\n",
              "      <td>!</td>\n",
              "      <td>.</td>\n",
              "      <td>!</td>\n",
              "      <td>!</td>\n",
              "    </tr>\n",
              "    <tr>\n",
              "      <th>56</th>\n",
              "      <td>and</td>\n",
              "      <td>O</td>\n",
              "      <td>and</td>\n",
              "      <td>CC</td>\n",
              "      <td>and</td>\n",
              "      <td>and</td>\n",
              "    </tr>\n",
              "    <tr>\n",
              "      <th>57</th>\n",
              "      <td>big</td>\n",
              "      <td>O</td>\n",
              "      <td>big</td>\n",
              "      <td>JJ</td>\n",
              "      <td>big</td>\n",
              "      <td>big</td>\n",
              "    </tr>\n",
              "    <tr>\n",
              "      <th>58</th>\n",
              "      <td>houses</td>\n",
              "      <td>O</td>\n",
              "      <td>houses</td>\n",
              "      <td>NNS</td>\n",
              "      <td>house</td>\n",
              "      <td>hous</td>\n",
              "    </tr>\n",
              "    <tr>\n",
              "      <th>59</th>\n",
              "      <td>!</td>\n",
              "      <td>O</td>\n",
              "      <td>!</td>\n",
              "      <td>.</td>\n",
              "      <td>!</td>\n",
              "      <td>!</td>\n",
              "    </tr>\n",
              "  </tbody>\n",
              "</table>\n",
              "</div>"
            ],
            "text/plain": [
              "         token ner_label spell_corrected   POS      lemmas     stems\n",
              "0        Peter     B-PER           Peter   NNP       Peter     peter\n",
              "1           is         O              is   VBZ          be         i\n",
              "2            a         O               a    DT           a         a\n",
              "3         very         O            very    RB        very      veri\n",
              "4         good         O            good    JJ        good      good\n",
              "5        persn         O          person    NN      person    person\n",
              "6            .         O               .     .           .         .\n",
              "7           My         O              My  PRP$          My        my\n",
              "8         life         O            life    NN        life      life\n",
              "9           in         O              in    IN          in        in\n",
              "10      Russia     B-LOC          Russia   NNP      Russia    russia\n",
              "11          is         O              is   VBZ          be         i\n",
              "12        very         O            very    RB        very      veri\n",
              "13  intersting         O     interesting    JJ    interest  interest\n",
              "14           .         O               .     .           .         .\n",
              "15        John     B-PER            John   NNP        John      john\n",
              "16         and         O             and    CC         and       and\n",
              "17       Peter     B-PER           Peter   NNP       Peter     peter\n",
              "18         are         O             are   VBP          be        ar\n",
              "19     brothrs         O          broths   NNS       broth     broth\n",
              "20           .         O               .     .           .         .\n",
              "21     However         O         However    RB     However     howev\n",
              "22        they         O            they   PRP        they      thei\n",
              "23       don't         O           don't   VBP       don't     don't\n",
              "24     support         O         support    VB     support   support\n",
              "25        each         O            each    DT        each      each\n",
              "26       other         O           other    JJ       other     other\n",
              "27        that         O            that    IN        that      that\n",
              "28        much         O            much    JJ        much      much\n",
              "29           .         O               .     .           .         .\n",
              "30       Lucas     B-ORG           Lucas   NNP       Lucas      luca\n",
              "31       Nogal     I-ORG           Nogal   NNP       Nogal     nogal\n",
              "32  Dunbercker     I-ORG      Dunbercker   NNP  Dunbercker  dunberck\n",
              "33          is         O              is   VBZ          be         i\n",
              "34          no         O              no    DT          no        no\n",
              "35      longer         O          longer    RB        long    longer\n",
              "36       happy         O           happy    JJ       happy     happi\n",
              "37           .         O               .     .           .         .\n",
              "38          He         O              He   PRP          He        he\n",
              "39         has         O             has   VBZ        have        ha\n",
              "40           a         O               a    DT           a         a\n",
              "41        good         O            good    JJ        good      good\n",
              "42         car         O             car    NN         car       car\n",
              "43      though         O          though    IN      though    though\n",
              "44           .         O               .     .           .         .\n",
              "45      Europe     B-LOC          Europe   NNP      Europe     europ\n",
              "46          is         O              is   VBZ          be         i\n",
              "47        very         O            very    RB        very      veri\n",
              "48     culture         O         culture    RB     culture    cultur\n",
              "49        rich         O            rich    JJ        rich      rich\n",
              "50           .         O               .     .           .         .\n",
              "51       There         O           There    EX       There     there\n",
              "52         are         O             are   VBP          be        ar\n",
              "53        huge         O            huge    JJ        huge      huge\n",
              "54    churches         O        churches   NNS      church    church\n",
              "55           !         O               !     .           !         !\n",
              "56         and         O             and    CC         and       and\n",
              "57         big         O             big    JJ         big       big\n",
              "58      houses         O          houses   NNS       house      hous\n",
              "59           !         O               !     .           !         !"
            ]
          },
          "metadata": {
            "tags": []
          },
          "execution_count": 26
        }
      ]
    },
    {
      "cell_type": "markdown",
      "metadata": {
        "id": "U8AXeuY0_9hx"
      },
      "source": [
        "### Recognize Entities DL"
      ]
    },
    {
      "cell_type": "code",
      "metadata": {
        "id": "MtoRgoJ9ABhh",
        "outputId": "e1e72f9e-48be-4f31-b800-234e42285707",
        "colab": {
          "base_uri": "https://localhost:8080/",
          "height": 70
        }
      },
      "source": [
        "recognize_entities = PretrainedPipeline('recognize_entities_dl', lang='en')\n"
      ],
      "execution_count": 27,
      "outputs": [
        {
          "output_type": "stream",
          "text": [
            "recognize_entities_dl download started this may take some time.\n",
            "Approx size to download 159 MB\n",
            "[OK!]\n"
          ],
          "name": "stdout"
        }
      ]
    },
    {
      "cell_type": "code",
      "metadata": {
        "id": "It-FkiQ1AaSy",
        "outputId": "d1af11c4-5126-45fc-c17d-0c92feb02fbd",
        "colab": {
          "base_uri": "https://localhost:8080/",
          "height": 1000
        }
      },
      "source": [
        "testDoc = '''\n",
        "Peter is a very good persn.\n",
        "My life in Russia is very intersting.\n",
        "John and Peter are brothrs. However they don't support each other that much.\n",
        "Lucas Nogal Dunbercker is no longer happy. He has a good car though.\n",
        "Europe is very culture rich. There are huge churches! and big houses!\n",
        "'''\n",
        "\n",
        "result = recognize_entities.annotate(testDoc)\n",
        "\n",
        "list(zip(result['token'], result['ner']))"
      ],
      "execution_count": 28,
      "outputs": [
        {
          "output_type": "execute_result",
          "data": {
            "text/plain": [
              "[('Peter', 'B-PER'),\n",
              " ('is', 'O'),\n",
              " ('a', 'O'),\n",
              " ('very', 'O'),\n",
              " ('good', 'O'),\n",
              " ('persn', 'O'),\n",
              " ('.', 'O'),\n",
              " ('My', 'O'),\n",
              " ('life', 'O'),\n",
              " ('in', 'O'),\n",
              " ('Russia', 'B-LOC'),\n",
              " ('is', 'O'),\n",
              " ('very', 'O'),\n",
              " ('intersting', 'O'),\n",
              " ('.', 'O'),\n",
              " ('John', 'B-PER'),\n",
              " ('and', 'O'),\n",
              " ('Peter', 'B-PER'),\n",
              " ('are', 'O'),\n",
              " ('brothrs', 'O'),\n",
              " ('.', 'O'),\n",
              " ('However', 'O'),\n",
              " ('they', 'O'),\n",
              " (\"don't\", 'O'),\n",
              " ('support', 'O'),\n",
              " ('each', 'O'),\n",
              " ('other', 'O'),\n",
              " ('that', 'O'),\n",
              " ('much', 'O'),\n",
              " ('.', 'O'),\n",
              " ('Lucas', 'B-ORG'),\n",
              " ('Nogal', 'I-ORG'),\n",
              " ('Dunbercker', 'I-ORG'),\n",
              " ('is', 'O'),\n",
              " ('no', 'O'),\n",
              " ('longer', 'O'),\n",
              " ('happy', 'O'),\n",
              " ('.', 'O'),\n",
              " ('He', 'O'),\n",
              " ('has', 'O'),\n",
              " ('a', 'O'),\n",
              " ('good', 'O'),\n",
              " ('car', 'O'),\n",
              " ('though', 'O'),\n",
              " ('.', 'O'),\n",
              " ('Europe', 'B-LOC'),\n",
              " ('is', 'O'),\n",
              " ('very', 'O'),\n",
              " ('culture', 'O'),\n",
              " ('rich', 'O'),\n",
              " ('.', 'O'),\n",
              " ('There', 'O'),\n",
              " ('are', 'O'),\n",
              " ('huge', 'O'),\n",
              " ('churches', 'O'),\n",
              " ('!', 'O'),\n",
              " ('and', 'O'),\n",
              " ('big', 'O'),\n",
              " ('houses', 'O'),\n",
              " ('!', 'O')]"
            ]
          },
          "metadata": {
            "tags": []
          },
          "execution_count": 28
        }
      ]
    },
    {
      "cell_type": "markdown",
      "metadata": {
        "id": "1X2NLQD3Ardo"
      },
      "source": [
        "### Clean Stop Words"
      ]
    },
    {
      "cell_type": "code",
      "metadata": {
        "id": "JbZIJH10Avin",
        "outputId": "c9637f5e-d3cc-4a3e-9019-8a6f827bcf99",
        "colab": {
          "base_uri": "https://localhost:8080/",
          "height": 70
        }
      },
      "source": [
        "clean_stop = PretrainedPipeline('clean_stop', lang='en')\n"
      ],
      "execution_count": 29,
      "outputs": [
        {
          "output_type": "stream",
          "text": [
            "clean_stop download started this may take some time.\n",
            "Approx size to download 12.4 KB\n",
            "[OK!]\n"
          ],
          "name": "stdout"
        }
      ]
    },
    {
      "cell_type": "code",
      "metadata": {
        "id": "VAB2MdBlA1YJ",
        "outputId": "3311e59b-1f88-466b-fc57-c28bfd69594f",
        "colab": {
          "base_uri": "https://localhost:8080/",
          "height": 34
        }
      },
      "source": [
        "\n",
        "result = clean_stop.annotate(testDoc)\n",
        "result.keys()"
      ],
      "execution_count": 30,
      "outputs": [
        {
          "output_type": "execute_result",
          "data": {
            "text/plain": [
              "dict_keys(['document', 'sentence', 'token', 'cleanTokens'])"
            ]
          },
          "metadata": {
            "tags": []
          },
          "execution_count": 30
        }
      ]
    },
    {
      "cell_type": "code",
      "metadata": {
        "id": "oMQhMlsa43PM",
        "outputId": "28f31633-a1f1-4ffe-fb05-7bdb2d2838c7",
        "colab": {
          "base_uri": "https://localhost:8080/",
          "height": 53
        }
      },
      "source": [
        "\n",
        "' '.join(result['cleanTokens'])"
      ],
      "execution_count": 31,
      "outputs": [
        {
          "output_type": "execute_result",
          "data": {
            "application/vnd.google.colaboratory.intrinsic+json": {
              "type": "string"
            },
            "text/plain": [
              "\"Peter good persn . life Russia intersting . John Peter brothrs . don't support . Lucas Nogal Dunbercker longer happy . good car . Europe culture rich . huge churches ! big houses !\""
            ]
          },
          "metadata": {
            "tags": []
          },
          "execution_count": 31
        }
      ]
    },
    {
      "cell_type": "markdown",
      "metadata": {
        "id": "Q4_XGqgzBSD1"
      },
      "source": [
        "### Clean Slang "
      ]
    },
    {
      "cell_type": "code",
      "metadata": {
        "id": "vKfqKyPcBQHx",
        "outputId": "fd0c0742-fdf9-48a7-8c05-f96f0e6525f8",
        "colab": {
          "base_uri": "https://localhost:8080/",
          "height": 88
        }
      },
      "source": [
        "clean_slang = PretrainedPipeline('clean_slang', lang='en')\n",
        "\n",
        "result = clean_slang.annotate(' Whatsup bro, call me ASAP')\n",
        "\n",
        "' '.join(result['normal'])"
      ],
      "execution_count": 32,
      "outputs": [
        {
          "output_type": "stream",
          "text": [
            "clean_slang download started this may take some time.\n",
            "Approx size to download 21.8 KB\n",
            "[OK!]\n"
          ],
          "name": "stdout"
        },
        {
          "output_type": "execute_result",
          "data": {
            "application/vnd.google.colaboratory.intrinsic+json": {
              "type": "string"
            },
            "text/plain": [
              "'how are you friend call me as soon as possible'"
            ]
          },
          "metadata": {
            "tags": []
          },
          "execution_count": 32
        }
      ]
    },
    {
      "cell_type": "markdown",
      "metadata": {
        "id": "2jIY9tiRxxxh"
      },
      "source": [
        "### Spell Checker \n",
        "\n",
        "(Norvig Algo)\n",
        "\n",
        "ref: https://norvig.com/spell-correct.html"
      ]
    },
    {
      "cell_type": "code",
      "metadata": {
        "id": "oHmbaOUJxsnk",
        "outputId": "c5c74974-6907-49b1-8a38-95806b96fa55",
        "colab": {
          "base_uri": "https://localhost:8080/",
          "height": 70
        }
      },
      "source": [
        "spell_checker = PretrainedPipeline('check_spelling', lang='en')\n"
      ],
      "execution_count": 33,
      "outputs": [
        {
          "output_type": "stream",
          "text": [
            "check_spelling download started this may take some time.\n",
            "Approx size to download 892.6 KB\n",
            "[OK!]\n"
          ],
          "name": "stdout"
        }
      ]
    },
    {
      "cell_type": "code",
      "metadata": {
        "id": "qcbyRyG4yMxV",
        "outputId": "b272dd90-a995-4ba1-ca53-23951ec786ae",
        "colab": {
          "base_uri": "https://localhost:8080/",
          "height": 34
        }
      },
      "source": [
        "testDoc = '''\n",
        "Peter is a very good persn.\n",
        "My life in Russia is very intersting.\n",
        "John and Peter are brothrs. However they don't support each other that much.\n",
        "Lucas Nogal Dunbercker is no longer happy. He has a good car though.\n",
        "Europe is very culture rich. There are huge churches! and big houses!\n",
        "'''\n",
        "\n",
        "result = spell_checker.annotate(testDoc)\n",
        "\n",
        "result.keys()"
      ],
      "execution_count": 36,
      "outputs": [
        {
          "output_type": "execute_result",
          "data": {
            "text/plain": [
              "dict_keys(['document', 'sentence', 'token', 'checked'])"
            ]
          },
          "metadata": {
            "tags": []
          },
          "execution_count": 36
        }
      ]
    },
    {
      "cell_type": "code",
      "metadata": {
        "id": "KJuhnR2MyPYq",
        "outputId": "2292ca6d-cb3f-4e41-924f-05034a2ead59",
        "colab": {
          "base_uri": "https://localhost:8080/",
          "height": 1000
        }
      },
      "source": [
        "list(zip(result['token'], result['checked']))"
      ],
      "execution_count": 35,
      "outputs": [
        {
          "output_type": "execute_result",
          "data": {
            "text/plain": [
              "[('Peter', 'Peter'),\n",
              " ('is', 'is'),\n",
              " ('a', 'a'),\n",
              " ('very', 'very'),\n",
              " ('good', 'good'),\n",
              " ('persn', 'person'),\n",
              " ('.', '.'),\n",
              " ('My', 'My'),\n",
              " ('life', 'life'),\n",
              " ('in', 'in'),\n",
              " ('Russia', 'Russia'),\n",
              " ('is', 'is'),\n",
              " ('very', 'very'),\n",
              " ('intersting', 'interesting'),\n",
              " ('.', '.'),\n",
              " ('John', 'John'),\n",
              " ('and', 'and'),\n",
              " ('Peter', 'Peter'),\n",
              " ('are', 'are'),\n",
              " ('brothrs', 'brothers'),\n",
              " ('.', '.'),\n",
              " ('However', 'However'),\n",
              " ('they', 'they'),\n",
              " (\"don't\", \"don't\"),\n",
              " ('support', 'support'),\n",
              " ('each', 'each'),\n",
              " ('other', 'other'),\n",
              " ('that', 'that'),\n",
              " ('much', 'much'),\n",
              " ('.', '.'),\n",
              " ('Lucas', 'Lucas'),\n",
              " ('Nogal', 'Nigel'),\n",
              " ('Dunbercker', 'Dunbercker'),\n",
              " ('is', 'is'),\n",
              " ('no', 'no'),\n",
              " ('longer', 'longer'),\n",
              " ('happy', 'happy'),\n",
              " ('.', '.'),\n",
              " ('He', 'He'),\n",
              " ('has', 'has'),\n",
              " ('a', 'a'),\n",
              " ('good', 'good'),\n",
              " ('car', 'car'),\n",
              " ('though', 'though'),\n",
              " ('.', '.'),\n",
              " ('Europe', 'Europe'),\n",
              " ('is', 'is'),\n",
              " ('very', 'very'),\n",
              " ('culture', 'culture'),\n",
              " ('rich', 'rich'),\n",
              " ('.', '.'),\n",
              " ('There', 'There'),\n",
              " ('are', 'are'),\n",
              " ('huge', 'huge'),\n",
              " ('churches', 'churches'),\n",
              " ('!', '!'),\n",
              " ('and', 'and'),\n",
              " ('big', 'big'),\n",
              " ('houses', 'houses'),\n",
              " ('!', '!')]"
            ]
          },
          "metadata": {
            "tags": []
          },
          "execution_count": 35
        }
      ]
    },
    {
      "cell_type": "markdown",
      "metadata": {
        "id": "x8ZwznIfLghm"
      },
      "source": [
        "### Spell Checker DL\n",
        "\n",
        "https://medium.com/spark-nlp/applying-context-aware-spell-checking-in-spark-nlp-3c29c46963bc"
      ]
    },
    {
      "cell_type": "code",
      "metadata": {
        "id": "3UKShCJ1Lfx2",
        "outputId": "771b683a-850f-4899-e805-b4e548515867",
        "colab": {
          "base_uri": "https://localhost:8080/",
          "height": 70
        }
      },
      "source": [
        "spell_checker_dl = PretrainedPipeline('check_spelling_dl', lang='en')\n"
      ],
      "execution_count": 37,
      "outputs": [
        {
          "output_type": "stream",
          "text": [
            "check_spelling_dl download started this may take some time.\n",
            "Approx size to download 112.1 MB\n",
            "[OK!]\n"
          ],
          "name": "stdout"
        }
      ]
    },
    {
      "cell_type": "code",
      "metadata": {
        "id": "-LBgds2MNZfR",
        "outputId": "831cb3e9-b878-43bc-bd50-e1487a2c1e3e",
        "colab": {
          "base_uri": "https://localhost:8080/",
          "height": 212
        }
      },
      "source": [
        "text = 'We will go to swimming if the ueather is nice.'\n",
        "\n",
        "result = spell_checker_dl.annotate(text)\n",
        "\n",
        "list(zip(result['token'], result['checked']))"
      ],
      "execution_count": 38,
      "outputs": [
        {
          "output_type": "execute_result",
          "data": {
            "text/plain": [
              "[('We', 'We'),\n",
              " ('will', 'will'),\n",
              " ('go', 'go'),\n",
              " ('to', 'to'),\n",
              " ('swimming', 'swimming'),\n",
              " ('if', 'if'),\n",
              " ('the', 'the'),\n",
              " ('ueather', 'weather'),\n",
              " ('is', 'is'),\n",
              " ('nice', 'nice'),\n",
              " ('.', '.')]"
            ]
          },
          "metadata": {
            "tags": []
          },
          "execution_count": 38
        }
      ]
    },
    {
      "cell_type": "code",
      "metadata": {
        "id": "NzCyRQa6PGdo",
        "outputId": "911c8cdc-97ed-48e2-8e2b-9a8ccd4362f7",
        "colab": {
          "base_uri": "https://localhost:8080/",
          "height": 33
        }
      },
      "source": [
        "result.keys()"
      ],
      "execution_count": null,
      "outputs": [
        {
          "output_type": "execute_result",
          "data": {
            "text/plain": [
              "dict_keys(['document', 'sentence', 'token', 'checked'])"
            ]
          },
          "metadata": {
            "tags": []
          },
          "execution_count": 37
        }
      ]
    },
    {
      "cell_type": "code",
      "metadata": {
        "id": "hcPnRCyrOL_y",
        "outputId": "20684f49-20b4-4117-e1b4-1d0320f3f85c",
        "colab": {
          "base_uri": "https://localhost:8080/",
          "height": 90
        }
      },
      "source": [
        "# check for the different occurrences of the word \"ueather\"\n",
        "examples = ['We will go to swimming if the ueather is nice.',\\\n",
        "    \"I have a black ueather jacket, so nice.\",\\\n",
        "    \"I introduce you to my sister, she is called ueather.\"]\n",
        "\n",
        "results = spell_checker_dl.annotate(examples)\n",
        "\n",
        "for result in results:\n",
        "  print (list(zip(result['token'], result['checked'])))"
      ],
      "execution_count": 39,
      "outputs": [
        {
          "output_type": "stream",
          "text": [
            "[('We', 'We'), ('will', 'will'), ('go', 'go'), ('to', 'to'), ('swimming', 'swimming'), ('if', 'if'), ('the', 'the'), ('ueather', 'weather'), ('is', 'is'), ('nice', 'nice'), ('.', '.')]\n",
            "[('I', 'I'), ('have', 'have'), ('a', 'a'), ('black', 'black'), ('ueather', 'leather'), ('jacket', 'jacket'), (',', ','), ('so', 'so'), ('nice', 'nice'), ('.', '.')]\n",
            "[('I', 'I'), ('introduce', 'introduce'), ('you', 'you'), ('to', 'to'), ('my', 'my'), ('sister', 'sister'), (',', ','), ('she', 'she'), ('is', 'is'), ('called', 'called'), ('ueather', 'Heather'), ('.', '.')]\n"
          ],
          "name": "stdout"
        }
      ]
    },
    {
      "cell_type": "code",
      "metadata": {
        "id": "gIqw5HrAOZ5Z",
        "outputId": "7c49dae2-a301-42a1-f9e4-e415ca08811d",
        "colab": {
          "base_uri": "https://localhost:8080/",
          "height": 70
        }
      },
      "source": [
        "for result in results:\n",
        "  print (result['document'],'>>',[pairs for pairs in list(zip(result['token'], result['checked'])) if pairs[0]!=pairs[1]])"
      ],
      "execution_count": 40,
      "outputs": [
        {
          "output_type": "stream",
          "text": [
            "['We will go to swimming if the ueather is nice.'] >> [('ueather', 'weather')]\n",
            "['I have a black ueather jacket, so nice.'] >> [('ueather', 'leather')]\n",
            "['I introduce you to my sister, she is called ueather.'] >> [('ueather', 'Heather')]\n"
          ],
          "name": "stdout"
        }
      ]
    },
    {
      "cell_type": "code",
      "metadata": {
        "id": "VuUymTuLPXGG",
        "outputId": "faec1206-ec4c-4954-8f9d-17976fa066d9",
        "colab": {
          "base_uri": "https://localhost:8080/",
          "height": 90
        }
      },
      "source": [
        "# if we had tried the same with spell_checker (previous version)\n",
        "\n",
        "results = spell_checker.annotate(examples)\n",
        "\n",
        "for result in results:\n",
        "  print (list(zip(result['token'], result['checked'])))"
      ],
      "execution_count": 41,
      "outputs": [
        {
          "output_type": "stream",
          "text": [
            "[('We', 'We'), ('will', 'will'), ('go', 'go'), ('to', 'to'), ('swimming', 'swimming'), ('if', 'if'), ('the', 'the'), ('ueather', 'weather'), ('is', 'is'), ('nice', 'nice'), ('.', '.')]\n",
            "[('I', 'I'), ('have', 'have'), ('a', 'a'), ('black', 'black'), ('ueather', 'weather'), ('jacket', 'jacket'), (',', ','), ('so', 'so'), ('nice', 'nice'), ('.', '.')]\n",
            "[('I', 'I'), ('introduce', 'introduce'), ('you', 'you'), ('to', 'to'), ('my', 'my'), ('sister', 'sister'), (',', ','), ('she', 'she'), ('is', 'is'), ('called', 'called'), ('ueather', 'weather'), ('.', '.')]\n"
          ],
          "name": "stdout"
        }
      ]
    },
    {
      "cell_type": "markdown",
      "metadata": {
        "id": "7-GIZT52zDqO"
      },
      "source": [
        "### Parsing a list of texts"
      ]
    },
    {
      "cell_type": "code",
      "metadata": {
        "id": "wcXYwNndzJWb",
        "outputId": "58e37890-7072-4fa0-92a3-ee2461f8609f",
        "colab": {
          "base_uri": "https://localhost:8080/",
          "height": 70
        }
      },
      "source": [
        "testDoc_list = ['French author who helped pioner the science-fiction genre.',\n",
        "'Verne wrate about space, air, and underwater travel before navigable aircrast',\n",
        "'Practical submarines were invented, and before any means of space travel had been devised.']\n",
        "\n",
        "testDoc_list"
      ],
      "execution_count": 42,
      "outputs": [
        {
          "output_type": "execute_result",
          "data": {
            "text/plain": [
              "['French author who helped pioner the science-fiction genre.',\n",
              " 'Verne wrate about space, air, and underwater travel before navigable aircrast',\n",
              " 'Practical submarines were invented, and before any means of space travel had been devised.']"
            ]
          },
          "metadata": {
            "tags": []
          },
          "execution_count": 42
        }
      ]
    },
    {
      "cell_type": "code",
      "metadata": {
        "id": "8Ujagvo_QaKT",
        "outputId": "ece2e4b5-e1ea-4645-87a2-9565f191d49e",
        "colab": {
          "base_uri": "https://localhost:8080/",
          "height": 70
        }
      },
      "source": [
        "pipeline = PretrainedPipeline('explain_document_ml', lang='en')\n"
      ],
      "execution_count": 43,
      "outputs": [
        {
          "output_type": "stream",
          "text": [
            "explain_document_ml download started this may take some time.\n",
            "Approx size to download 9.4 MB\n",
            "[OK!]\n"
          ],
          "name": "stdout"
        }
      ]
    },
    {
      "cell_type": "code",
      "metadata": {
        "id": "Yzegl_OEzbMi",
        "outputId": "3e0269c0-b36c-48e9-ea9e-8e9b7eaa1f3c",
        "colab": {
          "base_uri": "https://localhost:8080/",
          "height": 34
        }
      },
      "source": [
        "result_list = pipeline.annotate(testDoc_list)\n",
        "\n",
        "len (result_list)"
      ],
      "execution_count": 44,
      "outputs": [
        {
          "output_type": "execute_result",
          "data": {
            "text/plain": [
              "3"
            ]
          },
          "metadata": {
            "tags": []
          },
          "execution_count": 44
        }
      ]
    },
    {
      "cell_type": "code",
      "metadata": {
        "id": "sf0Uzm9yzmNV",
        "outputId": "0c750c76-cd71-4a94-c4b8-f8bf00e8418f",
        "colab": {
          "base_uri": "https://localhost:8080/",
          "height": 710
        }
      },
      "source": [
        "result_list[0]"
      ],
      "execution_count": 45,
      "outputs": [
        {
          "output_type": "execute_result",
          "data": {
            "text/plain": [
              "{'document': ['French author who helped pioner the science-fiction genre.'],\n",
              " 'lemmas': ['French',\n",
              "  'author',\n",
              "  'who',\n",
              "  'help',\n",
              "  'pioneer',\n",
              "  'the',\n",
              "  'sciencefiction',\n",
              "  'genre',\n",
              "  '.'],\n",
              " 'pos': ['JJ', 'NN', 'WP', 'VBD', 'NN', 'DT', 'NN', 'NN', '.'],\n",
              " 'sentence': ['French author who helped pioner the science-fiction genre.'],\n",
              " 'spell': ['French',\n",
              "  'author',\n",
              "  'who',\n",
              "  'helped',\n",
              "  'pioneer',\n",
              "  'the',\n",
              "  'sciencefiction',\n",
              "  'genre',\n",
              "  '.'],\n",
              " 'stems': ['french',\n",
              "  'author',\n",
              "  'who',\n",
              "  'help',\n",
              "  'pioneer',\n",
              "  'the',\n",
              "  'sciencefict',\n",
              "  'genr',\n",
              "  '.'],\n",
              " 'token': ['French',\n",
              "  'author',\n",
              "  'who',\n",
              "  'helped',\n",
              "  'pioner',\n",
              "  'the',\n",
              "  'science-fiction',\n",
              "  'genre',\n",
              "  '.']}"
            ]
          },
          "metadata": {
            "tags": []
          },
          "execution_count": 45
        }
      ]
    },
    {
      "cell_type": "markdown",
      "metadata": {
        "id": "EqLsubshycBo"
      },
      "source": [
        "### Using fullAnnotate to get more details\n",
        "\n"
      ]
    },
    {
      "cell_type": "markdown",
      "metadata": {
        "id": "5v6HnFjPL2Gg"
      },
      "source": [
        "```\n",
        "annotatorType: String, \n",
        "begin: Int, \n",
        "end: Int, \n",
        "result: String, (this is what annotate returns)\n",
        "metadata: Map[String, String], \n",
        "embeddings: Array[Float]\n",
        "```"
      ]
    },
    {
      "cell_type": "code",
      "metadata": {
        "id": "9EvvLmUlyXLs"
      },
      "source": [
        "text = 'Peter Parker is a nice guy and lives in New York'"
      ],
      "execution_count": 49,
      "outputs": []
    },
    {
      "cell_type": "code",
      "metadata": {
        "id": "pg0nU5hOxcCt"
      },
      "source": [
        "# pipeline_dl >> explain_document_dl\n",
        "\n",
        "detailed_result = pipeline_dl.fullAnnotate(text)"
      ],
      "execution_count": 50,
      "outputs": []
    },
    {
      "cell_type": "code",
      "metadata": {
        "id": "3fPAdbZTxfXD",
        "outputId": "1222d3e8-24be-49a8-ebc3-5ac71df5ccfc",
        "colab": {
          "base_uri": "https://localhost:8080/",
          "height": 1000
        }
      },
      "source": [
        "detailed_result"
      ],
      "execution_count": 51,
      "outputs": [
        {
          "output_type": "execute_result",
          "data": {
            "text/plain": [
              "[{'checked': [Annotation(token, 0, 4, Peter, {'confidence': '1.0', 'sentence': '0'}),\n",
              "   Annotation(token, 6, 11, Parker, {'confidence': '1.0', 'sentence': '0'}),\n",
              "   Annotation(token, 13, 14, is, {'confidence': '1.0', 'sentence': '0'}),\n",
              "   Annotation(token, 16, 16, a, {'confidence': '1.0', 'sentence': '0'}),\n",
              "   Annotation(token, 18, 21, nice, {'confidence': '1.0', 'sentence': '0'}),\n",
              "   Annotation(token, 23, 25, guy, {'confidence': '1.0', 'sentence': '0'}),\n",
              "   Annotation(token, 27, 29, and, {'confidence': '1.0', 'sentence': '0'}),\n",
              "   Annotation(token, 31, 35, lives, {'confidence': '1.0', 'sentence': '0'}),\n",
              "   Annotation(token, 37, 38, in, {'confidence': '1.0', 'sentence': '0'}),\n",
              "   Annotation(token, 40, 42, New, {'confidence': '1.0', 'sentence': '0'}),\n",
              "   Annotation(token, 44, 47, York, {'confidence': '1.0', 'sentence': '0'})],\n",
              "  'document': [Annotation(document, 0, 47, Peter Parker is a nice guy and lives in New York, {})],\n",
              "  'embeddings': [Annotation(word_embeddings, 0, 4, Peter, {'isOOV': 'false', 'pieceId': '-1', 'isWordStart': 'true', 'token': 'Peter', 'sentence': '0'}),\n",
              "   Annotation(word_embeddings, 6, 11, Parker, {'isOOV': 'false', 'pieceId': '-1', 'isWordStart': 'true', 'token': 'Parker', 'sentence': '0'}),\n",
              "   Annotation(word_embeddings, 13, 14, is, {'isOOV': 'false', 'pieceId': '-1', 'isWordStart': 'true', 'token': 'is', 'sentence': '0'}),\n",
              "   Annotation(word_embeddings, 16, 16, a, {'isOOV': 'false', 'pieceId': '-1', 'isWordStart': 'true', 'token': 'a', 'sentence': '0'}),\n",
              "   Annotation(word_embeddings, 18, 21, nice, {'isOOV': 'false', 'pieceId': '-1', 'isWordStart': 'true', 'token': 'nice', 'sentence': '0'}),\n",
              "   Annotation(word_embeddings, 23, 25, guy, {'isOOV': 'false', 'pieceId': '-1', 'isWordStart': 'true', 'token': 'guy', 'sentence': '0'}),\n",
              "   Annotation(word_embeddings, 27, 29, and, {'isOOV': 'false', 'pieceId': '-1', 'isWordStart': 'true', 'token': 'and', 'sentence': '0'}),\n",
              "   Annotation(word_embeddings, 31, 35, lives, {'isOOV': 'false', 'pieceId': '-1', 'isWordStart': 'true', 'token': 'lives', 'sentence': '0'}),\n",
              "   Annotation(word_embeddings, 37, 38, in, {'isOOV': 'false', 'pieceId': '-1', 'isWordStart': 'true', 'token': 'in', 'sentence': '0'}),\n",
              "   Annotation(word_embeddings, 40, 42, New, {'isOOV': 'false', 'pieceId': '-1', 'isWordStart': 'true', 'token': 'New', 'sentence': '0'}),\n",
              "   Annotation(word_embeddings, 44, 47, York, {'isOOV': 'false', 'pieceId': '-1', 'isWordStart': 'true', 'token': 'York', 'sentence': '0'})],\n",
              "  'entities': [Annotation(chunk, 0, 11, Peter Parker, {'entity': 'PER', 'sentence': '0', 'chunk': '0'}),\n",
              "   Annotation(chunk, 40, 47, New York, {'entity': 'LOC', 'sentence': '0', 'chunk': '1'})],\n",
              "  'lemma': [Annotation(token, 0, 4, Peter, {'confidence': '1.0', 'sentence': '0'}),\n",
              "   Annotation(token, 6, 11, Parker, {'confidence': '1.0', 'sentence': '0'}),\n",
              "   Annotation(token, 13, 14, be, {'confidence': '1.0', 'sentence': '0'}),\n",
              "   Annotation(token, 16, 16, a, {'confidence': '1.0', 'sentence': '0'}),\n",
              "   Annotation(token, 18, 21, nice, {'confidence': '1.0', 'sentence': '0'}),\n",
              "   Annotation(token, 23, 25, guy, {'confidence': '1.0', 'sentence': '0'}),\n",
              "   Annotation(token, 27, 29, and, {'confidence': '1.0', 'sentence': '0'}),\n",
              "   Annotation(token, 31, 35, life, {'confidence': '1.0', 'sentence': '0'}),\n",
              "   Annotation(token, 37, 38, in, {'confidence': '1.0', 'sentence': '0'}),\n",
              "   Annotation(token, 40, 42, New, {'confidence': '1.0', 'sentence': '0'}),\n",
              "   Annotation(token, 44, 47, York, {'confidence': '1.0', 'sentence': '0'})],\n",
              "  'ner': [Annotation(named_entity, 0, 4, B-PER, {'word': 'Peter'}),\n",
              "   Annotation(named_entity, 6, 11, I-PER, {'word': 'Parker'}),\n",
              "   Annotation(named_entity, 13, 14, O, {'word': 'is'}),\n",
              "   Annotation(named_entity, 16, 16, O, {'word': 'a'}),\n",
              "   Annotation(named_entity, 18, 21, O, {'word': 'nice'}),\n",
              "   Annotation(named_entity, 23, 25, O, {'word': 'guy'}),\n",
              "   Annotation(named_entity, 27, 29, O, {'word': 'and'}),\n",
              "   Annotation(named_entity, 31, 35, O, {'word': 'lives'}),\n",
              "   Annotation(named_entity, 37, 38, O, {'word': 'in'}),\n",
              "   Annotation(named_entity, 40, 42, B-LOC, {'word': 'New'}),\n",
              "   Annotation(named_entity, 44, 47, I-LOC, {'word': 'York'})],\n",
              "  'pos': [Annotation(pos, 0, 4, NNP, {'word': 'Peter'}),\n",
              "   Annotation(pos, 6, 11, NNP, {'word': 'Parker'}),\n",
              "   Annotation(pos, 13, 14, VBZ, {'word': 'is'}),\n",
              "   Annotation(pos, 16, 16, DT, {'word': 'a'}),\n",
              "   Annotation(pos, 18, 21, JJ, {'word': 'nice'}),\n",
              "   Annotation(pos, 23, 25, NN, {'word': 'guy'}),\n",
              "   Annotation(pos, 27, 29, CC, {'word': 'and'}),\n",
              "   Annotation(pos, 31, 35, NNS, {'word': 'lives'}),\n",
              "   Annotation(pos, 37, 38, IN, {'word': 'in'}),\n",
              "   Annotation(pos, 40, 42, NNP, {'word': 'New'}),\n",
              "   Annotation(pos, 44, 47, NNP, {'word': 'York'})],\n",
              "  'sentence': [Annotation(document, 0, 47, Peter Parker is a nice guy and lives in New York, {'sentence': '0'})],\n",
              "  'stem': [Annotation(token, 0, 4, peter, {'confidence': '1.0', 'sentence': '0'}),\n",
              "   Annotation(token, 6, 11, parker, {'confidence': '1.0', 'sentence': '0'}),\n",
              "   Annotation(token, 13, 14, i, {'confidence': '1.0', 'sentence': '0'}),\n",
              "   Annotation(token, 16, 16, a, {'confidence': '1.0', 'sentence': '0'}),\n",
              "   Annotation(token, 18, 21, nice, {'confidence': '1.0', 'sentence': '0'}),\n",
              "   Annotation(token, 23, 25, gui, {'confidence': '1.0', 'sentence': '0'}),\n",
              "   Annotation(token, 27, 29, and, {'confidence': '1.0', 'sentence': '0'}),\n",
              "   Annotation(token, 31, 35, live, {'confidence': '1.0', 'sentence': '0'}),\n",
              "   Annotation(token, 37, 38, in, {'confidence': '1.0', 'sentence': '0'}),\n",
              "   Annotation(token, 40, 42, new, {'confidence': '1.0', 'sentence': '0'}),\n",
              "   Annotation(token, 44, 47, york, {'confidence': '1.0', 'sentence': '0'})],\n",
              "  'token': [Annotation(token, 0, 4, Peter, {'sentence': '0'}),\n",
              "   Annotation(token, 6, 11, Parker, {'sentence': '0'}),\n",
              "   Annotation(token, 13, 14, is, {'sentence': '0'}),\n",
              "   Annotation(token, 16, 16, a, {'sentence': '0'}),\n",
              "   Annotation(token, 18, 21, nice, {'sentence': '0'}),\n",
              "   Annotation(token, 23, 25, guy, {'sentence': '0'}),\n",
              "   Annotation(token, 27, 29, and, {'sentence': '0'}),\n",
              "   Annotation(token, 31, 35, lives, {'sentence': '0'}),\n",
              "   Annotation(token, 37, 38, in, {'sentence': '0'}),\n",
              "   Annotation(token, 40, 42, New, {'sentence': '0'}),\n",
              "   Annotation(token, 44, 47, York, {'sentence': '0'})]}]"
            ]
          },
          "metadata": {
            "tags": []
          },
          "execution_count": 51
        }
      ]
    },
    {
      "cell_type": "code",
      "metadata": {
        "id": "OtvDDG560_Dx",
        "outputId": "7a3105da-4303-45f9-8c0a-2c3a4d12984f",
        "colab": {
          "base_uri": "https://localhost:8080/",
          "height": 52
        }
      },
      "source": [
        "detailed_result[0]['entities']"
      ],
      "execution_count": 52,
      "outputs": [
        {
          "output_type": "execute_result",
          "data": {
            "text/plain": [
              "[Annotation(chunk, 0, 11, Peter Parker, {'entity': 'PER', 'sentence': '0', 'chunk': '0'}),\n",
              " Annotation(chunk, 40, 47, New York, {'entity': 'LOC', 'sentence': '0', 'chunk': '1'})]"
            ]
          },
          "metadata": {
            "tags": []
          },
          "execution_count": 52
        }
      ]
    },
    {
      "cell_type": "code",
      "metadata": {
        "id": "GKx7Zm_iMLWF",
        "outputId": "34a10f20-c214-4128-d7f7-88e7d72c4ff8",
        "colab": {
          "base_uri": "https://localhost:8080/",
          "height": 35
        }
      },
      "source": [
        "detailed_result[0]['entities'][0].result"
      ],
      "execution_count": 53,
      "outputs": [
        {
          "output_type": "execute_result",
          "data": {
            "application/vnd.google.colaboratory.intrinsic+json": {
              "type": "string"
            },
            "text/plain": [
              "'Peter Parker'"
            ]
          },
          "metadata": {
            "tags": []
          },
          "execution_count": 53
        }
      ]
    },
    {
      "cell_type": "code",
      "metadata": {
        "id": "czqRRv-7wHpO",
        "outputId": "a630e508-d4d7-4b10-8d62-6c162be7a227",
        "colab": {
          "base_uri": "https://localhost:8080/",
          "height": 107
        }
      },
      "source": [
        "chunks=[]\n",
        "entities=[]\n",
        "for n in detailed_result[0]['entities']:\n",
        "        \n",
        "  chunks.append(n.result)\n",
        "  entities.append(n.metadata['entity']) \n",
        "    \n",
        "df = pd.DataFrame({'chunks':chunks, 'entities':entities})\n",
        "df    "
      ],
      "execution_count": 54,
      "outputs": [
        {
          "output_type": "execute_result",
          "data": {
            "text/html": [
              "<div>\n",
              "<style scoped>\n",
              "    .dataframe tbody tr th:only-of-type {\n",
              "        vertical-align: middle;\n",
              "    }\n",
              "\n",
              "    .dataframe tbody tr th {\n",
              "        vertical-align: top;\n",
              "    }\n",
              "\n",
              "    .dataframe thead th {\n",
              "        text-align: right;\n",
              "    }\n",
              "</style>\n",
              "<table border=\"1\" class=\"dataframe\">\n",
              "  <thead>\n",
              "    <tr style=\"text-align: right;\">\n",
              "      <th></th>\n",
              "      <th>chunks</th>\n",
              "      <th>entities</th>\n",
              "    </tr>\n",
              "  </thead>\n",
              "  <tbody>\n",
              "    <tr>\n",
              "      <th>0</th>\n",
              "      <td>Peter Parker</td>\n",
              "      <td>PER</td>\n",
              "    </tr>\n",
              "    <tr>\n",
              "      <th>1</th>\n",
              "      <td>New York</td>\n",
              "      <td>LOC</td>\n",
              "    </tr>\n",
              "  </tbody>\n",
              "</table>\n",
              "</div>"
            ],
            "text/plain": [
              "         chunks entities\n",
              "0  Peter Parker      PER\n",
              "1      New York      LOC"
            ]
          },
          "metadata": {
            "tags": []
          },
          "execution_count": 54
        }
      ]
    },
    {
      "cell_type": "code",
      "metadata": {
        "id": "8KIyPi5O0nvT",
        "outputId": "6cd80999-8bea-418e-c1d1-27ee4046e0b2",
        "colab": {
          "base_uri": "https://localhost:8080/",
          "height": 377
        }
      },
      "source": [
        "tuples = []\n",
        "\n",
        "for x,y,z in zip(detailed_result[0][\"token\"], detailed_result[0][\"pos\"], detailed_result[0][\"ner\"]):\n",
        "\n",
        "  tuples.append((int(x.metadata['sentence']), x.result, x.begin, x.end, y.result, z.result))\n",
        "\n",
        "df = pd.DataFrame(tuples, columns=['sent_id','token','start','end','pos', 'ner'])\n",
        "\n",
        "df\n"
      ],
      "execution_count": 55,
      "outputs": [
        {
          "output_type": "execute_result",
          "data": {
            "text/html": [
              "<div>\n",
              "<style scoped>\n",
              "    .dataframe tbody tr th:only-of-type {\n",
              "        vertical-align: middle;\n",
              "    }\n",
              "\n",
              "    .dataframe tbody tr th {\n",
              "        vertical-align: top;\n",
              "    }\n",
              "\n",
              "    .dataframe thead th {\n",
              "        text-align: right;\n",
              "    }\n",
              "</style>\n",
              "<table border=\"1\" class=\"dataframe\">\n",
              "  <thead>\n",
              "    <tr style=\"text-align: right;\">\n",
              "      <th></th>\n",
              "      <th>sent_id</th>\n",
              "      <th>token</th>\n",
              "      <th>start</th>\n",
              "      <th>end</th>\n",
              "      <th>pos</th>\n",
              "      <th>ner</th>\n",
              "    </tr>\n",
              "  </thead>\n",
              "  <tbody>\n",
              "    <tr>\n",
              "      <th>0</th>\n",
              "      <td>0</td>\n",
              "      <td>Peter</td>\n",
              "      <td>0</td>\n",
              "      <td>4</td>\n",
              "      <td>NNP</td>\n",
              "      <td>B-PER</td>\n",
              "    </tr>\n",
              "    <tr>\n",
              "      <th>1</th>\n",
              "      <td>0</td>\n",
              "      <td>Parker</td>\n",
              "      <td>6</td>\n",
              "      <td>11</td>\n",
              "      <td>NNP</td>\n",
              "      <td>I-PER</td>\n",
              "    </tr>\n",
              "    <tr>\n",
              "      <th>2</th>\n",
              "      <td>0</td>\n",
              "      <td>is</td>\n",
              "      <td>13</td>\n",
              "      <td>14</td>\n",
              "      <td>VBZ</td>\n",
              "      <td>O</td>\n",
              "    </tr>\n",
              "    <tr>\n",
              "      <th>3</th>\n",
              "      <td>0</td>\n",
              "      <td>a</td>\n",
              "      <td>16</td>\n",
              "      <td>16</td>\n",
              "      <td>DT</td>\n",
              "      <td>O</td>\n",
              "    </tr>\n",
              "    <tr>\n",
              "      <th>4</th>\n",
              "      <td>0</td>\n",
              "      <td>nice</td>\n",
              "      <td>18</td>\n",
              "      <td>21</td>\n",
              "      <td>JJ</td>\n",
              "      <td>O</td>\n",
              "    </tr>\n",
              "    <tr>\n",
              "      <th>5</th>\n",
              "      <td>0</td>\n",
              "      <td>guy</td>\n",
              "      <td>23</td>\n",
              "      <td>25</td>\n",
              "      <td>NN</td>\n",
              "      <td>O</td>\n",
              "    </tr>\n",
              "    <tr>\n",
              "      <th>6</th>\n",
              "      <td>0</td>\n",
              "      <td>and</td>\n",
              "      <td>27</td>\n",
              "      <td>29</td>\n",
              "      <td>CC</td>\n",
              "      <td>O</td>\n",
              "    </tr>\n",
              "    <tr>\n",
              "      <th>7</th>\n",
              "      <td>0</td>\n",
              "      <td>lives</td>\n",
              "      <td>31</td>\n",
              "      <td>35</td>\n",
              "      <td>NNS</td>\n",
              "      <td>O</td>\n",
              "    </tr>\n",
              "    <tr>\n",
              "      <th>8</th>\n",
              "      <td>0</td>\n",
              "      <td>in</td>\n",
              "      <td>37</td>\n",
              "      <td>38</td>\n",
              "      <td>IN</td>\n",
              "      <td>O</td>\n",
              "    </tr>\n",
              "    <tr>\n",
              "      <th>9</th>\n",
              "      <td>0</td>\n",
              "      <td>New</td>\n",
              "      <td>40</td>\n",
              "      <td>42</td>\n",
              "      <td>NNP</td>\n",
              "      <td>B-LOC</td>\n",
              "    </tr>\n",
              "    <tr>\n",
              "      <th>10</th>\n",
              "      <td>0</td>\n",
              "      <td>York</td>\n",
              "      <td>44</td>\n",
              "      <td>47</td>\n",
              "      <td>NNP</td>\n",
              "      <td>I-LOC</td>\n",
              "    </tr>\n",
              "  </tbody>\n",
              "</table>\n",
              "</div>"
            ],
            "text/plain": [
              "    sent_id   token  start  end  pos    ner\n",
              "0         0   Peter      0    4  NNP  B-PER\n",
              "1         0  Parker      6   11  NNP  I-PER\n",
              "2         0      is     13   14  VBZ      O\n",
              "3         0       a     16   16   DT      O\n",
              "4         0    nice     18   21   JJ      O\n",
              "5         0     guy     23   25   NN      O\n",
              "6         0     and     27   29   CC      O\n",
              "7         0   lives     31   35  NNS      O\n",
              "8         0      in     37   38   IN      O\n",
              "9         0     New     40   42  NNP  B-LOC\n",
              "10        0    York     44   47  NNP  I-LOC"
            ]
          },
          "metadata": {
            "tags": []
          },
          "execution_count": 55
        }
      ]
    },
    {
      "cell_type": "markdown",
      "metadata": {
        "id": "X7ZXnJGq2vAA"
      },
      "source": [
        "### Use pretrained match_chunk Pipeline for Individual Noun Phrase"
      ]
    },
    {
      "cell_type": "markdown",
      "metadata": {
        "id": "robP3BIy23So"
      },
      "source": [
        "**Stages**\n",
        "- DocumentAssembler\n",
        "- SentenceDetector\n",
        "- Tokenizer\n",
        "- Part of Speech\n",
        "- Chunker\n",
        "\n",
        "Pipeline:\n",
        "\n",
        "- The pipeline uses regex `<DT>?<JJ>*<NN>+`\n",
        "- which states that whenever the chunk finds an optional determiner (DT) followed by any number of adjectives (JJ) and then a noun (NN) then the Noun Phrase(NP) chunk should be formed."
      ]
    },
    {
      "cell_type": "code",
      "metadata": {
        "id": "cMNVe5Cx2A-V",
        "outputId": "d33c2f18-9619-47f1-dda9-fce396866b57",
        "colab": {
          "base_uri": "https://localhost:8080/",
          "height": 70
        }
      },
      "source": [
        "pipeline = PretrainedPipeline('match_chunks', lang='en')\n"
      ],
      "execution_count": 56,
      "outputs": [
        {
          "output_type": "stream",
          "text": [
            "match_chunks download started this may take some time.\n",
            "Approx size to download 4.3 MB\n",
            "[OK!]\n"
          ],
          "name": "stdout"
        }
      ]
    },
    {
      "cell_type": "code",
      "metadata": {
        "id": "fBtJfCkKMVKL",
        "outputId": "bb38e51b-af57-4c58-94f1-9a17b047728a",
        "colab": {
          "base_uri": "https://localhost:8080/",
          "height": 105
        }
      },
      "source": [
        "pipeline.model.stages"
      ],
      "execution_count": 57,
      "outputs": [
        {
          "output_type": "execute_result",
          "data": {
            "text/plain": [
              "[document_07d28fdac7a8,\n",
              " SENTENCE_2b5ea649b767,\n",
              " REGEX_TOKENIZER_09632b6f1612,\n",
              " POS_29fd848601e6,\n",
              " CHUNKER_7c7ff8d3e0eb]"
            ]
          },
          "metadata": {
            "tags": []
          },
          "execution_count": 57
        }
      ]
    },
    {
      "cell_type": "code",
      "metadata": {
        "id": "CH0lmriN3cm-"
      },
      "source": [
        "result = pipeline.annotate(\"The book has many chapters\") # single noun phrase"
      ],
      "execution_count": 58,
      "outputs": []
    },
    {
      "cell_type": "code",
      "metadata": {
        "id": "wx9vlNiE3nEy",
        "outputId": "ec59e708-0154-4e01-a476-87bb53341bc1",
        "colab": {
          "base_uri": "https://localhost:8080/",
          "height": 105
        }
      },
      "source": [
        "result"
      ],
      "execution_count": 59,
      "outputs": [
        {
          "output_type": "execute_result",
          "data": {
            "text/plain": [
              "{'chunk': ['The book'],\n",
              " 'document': ['The book has many chapters'],\n",
              " 'pos': ['DT', 'NN', 'VBZ', 'JJ', 'NNS'],\n",
              " 'sentence': ['The book has many chapters'],\n",
              " 'token': ['The', 'book', 'has', 'many', 'chapters']}"
            ]
          },
          "metadata": {
            "tags": []
          },
          "execution_count": 59
        }
      ]
    },
    {
      "cell_type": "code",
      "metadata": {
        "id": "DO-37mrZ3e6c",
        "outputId": "d51af6b7-17c6-4224-edfe-74021503a6e4",
        "colab": {
          "base_uri": "https://localhost:8080/",
          "height": 33
        }
      },
      "source": [
        "result['chunk']"
      ],
      "execution_count": null,
      "outputs": [
        {
          "output_type": "execute_result",
          "data": {
            "text/plain": [
              "['The book']"
            ]
          },
          "metadata": {
            "tags": []
          },
          "execution_count": 58
        }
      ]
    },
    {
      "cell_type": "code",
      "metadata": {
        "id": "btqYqgim3gWN"
      },
      "source": [
        "result = pipeline.annotate(\"the little yellow dog barked at the cat\") #multiple noune phrases"
      ],
      "execution_count": 60,
      "outputs": []
    },
    {
      "cell_type": "code",
      "metadata": {
        "id": "zPp7aXOR3sHV",
        "outputId": "2bcb199f-a88c-40f1-8524-75e1db05912e",
        "colab": {
          "base_uri": "https://localhost:8080/",
          "height": 105
        }
      },
      "source": [
        "result"
      ],
      "execution_count": 61,
      "outputs": [
        {
          "output_type": "execute_result",
          "data": {
            "text/plain": [
              "{'chunk': ['the little yellow dog', 'the cat'],\n",
              " 'document': ['the little yellow dog barked at the cat'],\n",
              " 'pos': ['DT', 'JJ', 'JJ', 'NN', 'JJ', 'IN', 'DT', 'NN'],\n",
              " 'sentence': ['the little yellow dog barked at the cat'],\n",
              " 'token': ['the', 'little', 'yellow', 'dog', 'barked', 'at', 'the', 'cat']}"
            ]
          },
          "metadata": {
            "tags": []
          },
          "execution_count": 61
        }
      ]
    },
    {
      "cell_type": "code",
      "metadata": {
        "id": "y-Nj9H2r3htO",
        "outputId": "371b8f0c-9446-4182-8561-88e152d93921",
        "colab": {
          "base_uri": "https://localhost:8080/",
          "height": 34
        }
      },
      "source": [
        "result['chunk']"
      ],
      "execution_count": 62,
      "outputs": [
        {
          "output_type": "execute_result",
          "data": {
            "text/plain": [
              "['the little yellow dog', 'the cat']"
            ]
          },
          "metadata": {
            "tags": []
          },
          "execution_count": 62
        }
      ]
    },
    {
      "cell_type": "markdown",
      "metadata": {
        "id": "AII-7IpM_Hog"
      },
      "source": [
        "### Extract exact dates from referential date phrases"
      ]
    },
    {
      "cell_type": "code",
      "metadata": {
        "id": "f2sxECue_JLX",
        "outputId": "75057028-5572-46ab-ee8f-60476ebbd571",
        "colab": {
          "base_uri": "https://localhost:8080/",
          "height": 70
        }
      },
      "source": [
        "pipeline = PretrainedPipeline('match_datetime', lang='en')\n"
      ],
      "execution_count": 63,
      "outputs": [
        {
          "output_type": "stream",
          "text": [
            "match_datetime download started this may take some time.\n",
            "Approx size to download 12.9 KB\n",
            "[OK!]\n"
          ],
          "name": "stdout"
        }
      ]
    },
    {
      "cell_type": "code",
      "metadata": {
        "id": "zMi_QNsh_RdX",
        "outputId": "56ce946e-e3c0-4718-8e98-c8b004681eb8",
        "colab": {
          "base_uri": "https://localhost:8080/",
          "height": 336
        }
      },
      "source": [
        "result = pipeline.annotate(\"I saw him yesterday and he told me that he will visit us next week\")\n",
        "\n",
        "result"
      ],
      "execution_count": 64,
      "outputs": [
        {
          "output_type": "execute_result",
          "data": {
            "text/plain": [
              "{'date': ['2020/10/19', '2020/10/11'],\n",
              " 'document': ['I saw him yesterday and he told me that he will visit us next week'],\n",
              " 'sentence': ['I saw him yesterday and he told me that he will visit us next week'],\n",
              " 'token': ['I',\n",
              "  'saw',\n",
              "  'him',\n",
              "  'yesterday',\n",
              "  'and',\n",
              "  'he',\n",
              "  'told',\n",
              "  'me',\n",
              "  'that',\n",
              "  'he',\n",
              "  'will',\n",
              "  'visit',\n",
              "  'us',\n",
              "  'next',\n",
              "  'week']}"
            ]
          },
          "metadata": {
            "tags": []
          },
          "execution_count": 64
        }
      ]
    },
    {
      "cell_type": "code",
      "metadata": {
        "id": "W76HdhULHm7q",
        "outputId": "65bb6260-0da8-45cc-8822-fcae6427fc8f",
        "colab": {
          "base_uri": "https://localhost:8080/",
          "height": 354
        }
      },
      "source": [
        "detailed_result = pipeline.fullAnnotate(\"I saw him yesterday and he told me that he will visit us next week\")\n",
        "\n",
        "detailed_result"
      ],
      "execution_count": 65,
      "outputs": [
        {
          "output_type": "execute_result",
          "data": {
            "text/plain": [
              "[{'date': [Annotation(date, 57, 65, 2020/10/19, {'sentence': '0'}),\n",
              "   Annotation(date, 10, 18, 2020/10/11, {'sentence': '0'})],\n",
              "  'document': [Annotation(document, 0, 65, I saw him yesterday and he told me that he will visit us next week, {})],\n",
              "  'sentence': [Annotation(document, 0, 65, I saw him yesterday and he told me that he will visit us next week, {'sentence': '0'})],\n",
              "  'token': [Annotation(token, 0, 0, I, {'sentence': '0'}),\n",
              "   Annotation(token, 2, 4, saw, {'sentence': '0'}),\n",
              "   Annotation(token, 6, 8, him, {'sentence': '0'}),\n",
              "   Annotation(token, 10, 18, yesterday, {'sentence': '0'}),\n",
              "   Annotation(token, 20, 22, and, {'sentence': '0'}),\n",
              "   Annotation(token, 24, 25, he, {'sentence': '0'}),\n",
              "   Annotation(token, 27, 30, told, {'sentence': '0'}),\n",
              "   Annotation(token, 32, 33, me, {'sentence': '0'}),\n",
              "   Annotation(token, 35, 38, that, {'sentence': '0'}),\n",
              "   Annotation(token, 40, 41, he, {'sentence': '0'}),\n",
              "   Annotation(token, 43, 46, will, {'sentence': '0'}),\n",
              "   Annotation(token, 48, 52, visit, {'sentence': '0'}),\n",
              "   Annotation(token, 54, 55, us, {'sentence': '0'}),\n",
              "   Annotation(token, 57, 60, next, {'sentence': '0'}),\n",
              "   Annotation(token, 62, 65, week, {'sentence': '0'})]}]"
            ]
          },
          "metadata": {
            "tags": []
          },
          "execution_count": 65
        }
      ]
    },
    {
      "cell_type": "code",
      "metadata": {
        "id": "CFTkMlDTU_lh",
        "outputId": "cd31eb3d-5e76-4059-bb1c-2d4ed9ced425",
        "colab": {
          "base_uri": "https://localhost:8080/",
          "height": 478
        }
      },
      "source": [
        "tuples = []\n",
        "\n",
        "for x in detailed_result[0][\"token\"]:\n",
        "\n",
        "  tuples.append((int(x.metadata['sentence']), x.result, x.begin, x.end))\n",
        "\n",
        "df = pd.DataFrame(tuples, columns=['sent_id','token','start','end'])\n",
        "\n",
        "df"
      ],
      "execution_count": null,
      "outputs": [
        {
          "output_type": "execute_result",
          "data": {
            "text/html": [
              "<div>\n",
              "<style scoped>\n",
              "    .dataframe tbody tr th:only-of-type {\n",
              "        vertical-align: middle;\n",
              "    }\n",
              "\n",
              "    .dataframe tbody tr th {\n",
              "        vertical-align: top;\n",
              "    }\n",
              "\n",
              "    .dataframe thead th {\n",
              "        text-align: right;\n",
              "    }\n",
              "</style>\n",
              "<table border=\"1\" class=\"dataframe\">\n",
              "  <thead>\n",
              "    <tr style=\"text-align: right;\">\n",
              "      <th></th>\n",
              "      <th>sent_id</th>\n",
              "      <th>token</th>\n",
              "      <th>start</th>\n",
              "      <th>end</th>\n",
              "    </tr>\n",
              "  </thead>\n",
              "  <tbody>\n",
              "    <tr>\n",
              "      <th>0</th>\n",
              "      <td>0</td>\n",
              "      <td>I</td>\n",
              "      <td>0</td>\n",
              "      <td>0</td>\n",
              "    </tr>\n",
              "    <tr>\n",
              "      <th>1</th>\n",
              "      <td>0</td>\n",
              "      <td>saw</td>\n",
              "      <td>2</td>\n",
              "      <td>4</td>\n",
              "    </tr>\n",
              "    <tr>\n",
              "      <th>2</th>\n",
              "      <td>0</td>\n",
              "      <td>him</td>\n",
              "      <td>6</td>\n",
              "      <td>8</td>\n",
              "    </tr>\n",
              "    <tr>\n",
              "      <th>3</th>\n",
              "      <td>0</td>\n",
              "      <td>yesterday</td>\n",
              "      <td>10</td>\n",
              "      <td>18</td>\n",
              "    </tr>\n",
              "    <tr>\n",
              "      <th>4</th>\n",
              "      <td>0</td>\n",
              "      <td>and</td>\n",
              "      <td>20</td>\n",
              "      <td>22</td>\n",
              "    </tr>\n",
              "    <tr>\n",
              "      <th>5</th>\n",
              "      <td>0</td>\n",
              "      <td>he</td>\n",
              "      <td>24</td>\n",
              "      <td>25</td>\n",
              "    </tr>\n",
              "    <tr>\n",
              "      <th>6</th>\n",
              "      <td>0</td>\n",
              "      <td>told</td>\n",
              "      <td>27</td>\n",
              "      <td>30</td>\n",
              "    </tr>\n",
              "    <tr>\n",
              "      <th>7</th>\n",
              "      <td>0</td>\n",
              "      <td>me</td>\n",
              "      <td>32</td>\n",
              "      <td>33</td>\n",
              "    </tr>\n",
              "    <tr>\n",
              "      <th>8</th>\n",
              "      <td>0</td>\n",
              "      <td>that</td>\n",
              "      <td>35</td>\n",
              "      <td>38</td>\n",
              "    </tr>\n",
              "    <tr>\n",
              "      <th>9</th>\n",
              "      <td>0</td>\n",
              "      <td>he</td>\n",
              "      <td>40</td>\n",
              "      <td>41</td>\n",
              "    </tr>\n",
              "    <tr>\n",
              "      <th>10</th>\n",
              "      <td>0</td>\n",
              "      <td>will</td>\n",
              "      <td>43</td>\n",
              "      <td>46</td>\n",
              "    </tr>\n",
              "    <tr>\n",
              "      <th>11</th>\n",
              "      <td>0</td>\n",
              "      <td>visit</td>\n",
              "      <td>48</td>\n",
              "      <td>52</td>\n",
              "    </tr>\n",
              "    <tr>\n",
              "      <th>12</th>\n",
              "      <td>0</td>\n",
              "      <td>us</td>\n",
              "      <td>54</td>\n",
              "      <td>55</td>\n",
              "    </tr>\n",
              "    <tr>\n",
              "      <th>13</th>\n",
              "      <td>0</td>\n",
              "      <td>next</td>\n",
              "      <td>57</td>\n",
              "      <td>60</td>\n",
              "    </tr>\n",
              "    <tr>\n",
              "      <th>14</th>\n",
              "      <td>0</td>\n",
              "      <td>week</td>\n",
              "      <td>62</td>\n",
              "      <td>65</td>\n",
              "    </tr>\n",
              "  </tbody>\n",
              "</table>\n",
              "</div>"
            ],
            "text/plain": [
              "    sent_id      token  start  end\n",
              "0         0          I      0    0\n",
              "1         0        saw      2    4\n",
              "2         0        him      6    8\n",
              "3         0  yesterday     10   18\n",
              "4         0        and     20   22\n",
              "5         0         he     24   25\n",
              "6         0       told     27   30\n",
              "7         0         me     32   33\n",
              "8         0       that     35   38\n",
              "9         0         he     40   41\n",
              "10        0       will     43   46\n",
              "11        0      visit     48   52\n",
              "12        0         us     54   55\n",
              "13        0       next     57   60\n",
              "14        0       week     62   65"
            ]
          },
          "metadata": {
            "tags": []
          },
          "execution_count": 67
        }
      ]
    },
    {
      "cell_type": "markdown",
      "metadata": {
        "id": "VVBmv1KeJQhA"
      },
      "source": [
        "### Sentiment Analysis\n"
      ]
    },
    {
      "cell_type": "markdown",
      "metadata": {
        "id": "msC9ZcozfbUE"
      },
      "source": [
        "#### Vivek algo\n",
        "\n",
        "paper: `Fast and accurate sentiment classification using an enhanced Naive Bayes model`\n",
        "\n",
        "https://arxiv.org/abs/1305.6143\n",
        "\n",
        "code `https://github.com/vivekn/sentiment`"
      ]
    },
    {
      "cell_type": "code",
      "metadata": {
        "id": "zOFjnAvsH6he",
        "outputId": "e911005e-9392-494e-d317-46384dba9643",
        "colab": {
          "base_uri": "https://localhost:8080/",
          "height": 70
        }
      },
      "source": [
        "sentiment = PretrainedPipeline('analyze_sentiment', lang='en')"
      ],
      "execution_count": 66,
      "outputs": [
        {
          "output_type": "stream",
          "text": [
            "analyze_sentiment download started this may take some time.\n",
            "Approx size to download 4.9 MB\n",
            "[OK!]\n"
          ],
          "name": "stdout"
        }
      ]
    },
    {
      "cell_type": "code",
      "metadata": {
        "id": "KseopzCyJe__",
        "outputId": "24086f42-af6b-46fe-9d57-ca93fd0a4a86",
        "colab": {
          "base_uri": "https://localhost:8080/",
          "height": 33
        }
      },
      "source": [
        "result = sentiment.annotate(\"The movie I watched today was not a good one\")\n",
        "\n",
        "result['sentiment']"
      ],
      "execution_count": null,
      "outputs": [
        {
          "output_type": "execute_result",
          "data": {
            "text/plain": [
              "['negative']"
            ]
          },
          "metadata": {
            "tags": []
          },
          "execution_count": 69
        }
      ]
    },
    {
      "cell_type": "markdown",
      "metadata": {
        "id": "mq2mfbt5WwI5"
      },
      "source": [
        "#### DL version (trained on imdb)"
      ]
    },
    {
      "cell_type": "code",
      "metadata": {
        "id": "NmZ4BfJWWy6C",
        "outputId": "87da2d5a-3f7f-4c45-d456-395ff5996300",
        "colab": {
          "base_uri": "https://localhost:8080/",
          "height": 66
        }
      },
      "source": [
        "sentiment_imdb = PretrainedPipeline('analyze_sentimentdl_use_imdb', lang='en')"
      ],
      "execution_count": null,
      "outputs": [
        {
          "output_type": "stream",
          "text": [
            "analyze_sentimentdl_use_imdb download started this may take some time.\n",
            "Approx size to download 935.8 MB\n",
            "[OK!]\n"
          ],
          "name": "stdout"
        }
      ]
    },
    {
      "cell_type": "code",
      "metadata": {
        "id": "7_kdF5fBa5vJ",
        "outputId": "d7e3814a-0f39-4253-b274-4acfb2e0bcec",
        "colab": {
          "base_uri": "https://localhost:8080/",
          "height": 66
        }
      },
      "source": [
        "sentiment_imdb_glove = PretrainedPipeline('analyze_sentimentdl_glove_imdb', lang='en')"
      ],
      "execution_count": null,
      "outputs": [
        {
          "output_type": "stream",
          "text": [
            "analyze_sentimentdl_glove_imdb download started this may take some time.\n",
            "Approx size to download 154.9 MB\n",
            "[OK!]\n"
          ],
          "name": "stdout"
        }
      ]
    },
    {
      "cell_type": "code",
      "metadata": {
        "id": "yDCaA2dSelUB",
        "outputId": "5f416c8d-7562-4ac3-9a46-81405bb3a68c",
        "colab": {
          "base_uri": "https://localhost:8080/",
          "height": 33
        }
      },
      "source": [
        "comment = '''\n",
        "It's a very scary film but what impressed me was how true the film sticks to the original's tricks; it isn't filled with loud in-your-face jump scares, in fact, a lot of what makes this film scary is the slick cinematography and intricate shadow play. The use of lighting and creation of atmosphere is what makes this film so tense, which is why it's perfectly suited for those who like Horror movies but without the obnoxious gore.\n",
        "'''\n",
        "result = sentiment_imdb_glove.annotate(comment)\n",
        "\n",
        "result['sentiment']"
      ],
      "execution_count": null,
      "outputs": [
        {
          "output_type": "execute_result",
          "data": {
            "text/plain": [
              "['positive']"
            ]
          },
          "metadata": {
            "tags": []
          },
          "execution_count": 10
        }
      ]
    },
    {
      "cell_type": "code",
      "metadata": {
        "id": "47AP3cCGXcBs",
        "outputId": "a54dd3a5-7634-47a5-b43d-8bc114a19c61",
        "colab": {
          "base_uri": "https://localhost:8080/",
          "height": 33
        }
      },
      "source": [
        "sentiment_imdb_glove.fullAnnotate(comment)[0]['sentiment']"
      ],
      "execution_count": null,
      "outputs": [
        {
          "output_type": "execute_result",
          "data": {
            "text/plain": [
              "[Annotation(category, 0, 433, positive, {'sentence': '0', 'positive': '0.92505074', 'negative': '0.074949294'})]"
            ]
          },
          "metadata": {
            "tags": []
          },
          "execution_count": 13
        }
      ]
    },
    {
      "cell_type": "markdown",
      "metadata": {
        "id": "Hi5d8U0eXCyF"
      },
      "source": [
        "#### DL version (trained on twitter dataset)"
      ]
    },
    {
      "cell_type": "code",
      "metadata": {
        "id": "auhMtryQXHkr",
        "outputId": "48c38f32-4d7f-4930-e2d5-fb71c207a3ae",
        "colab": {
          "base_uri": "https://localhost:8080/",
          "height": 66
        }
      },
      "source": [
        "sentiment_twitter = PretrainedPipeline('analyze_sentimentdl_use_twitter', lang='en')"
      ],
      "execution_count": null,
      "outputs": [
        {
          "output_type": "stream",
          "text": [
            "analyze_sentimentdl_use_twitter download started this may take some time.\n",
            "Approx size to download 928.3 MB\n",
            "[OK!]\n"
          ],
          "name": "stdout"
        }
      ]
    },
    {
      "cell_type": "code",
      "metadata": {
        "id": "dycH-KfZXkaG",
        "outputId": "701b9e78-118a-485b-e1e6-a05df28ceb7c",
        "colab": {
          "base_uri": "https://localhost:8080/",
          "height": 33
        }
      },
      "source": [
        "result = sentiment_twitter.annotate(\"The movie I watched today was not a good one\")\n",
        "\n",
        "result['sentiment']"
      ],
      "execution_count": null,
      "outputs": [
        {
          "output_type": "execute_result",
          "data": {
            "text/plain": [
              "['negative']"
            ]
          },
          "metadata": {
            "tags": []
          },
          "execution_count": 75
        }
      ]
    },
    {
      "cell_type": "code",
      "metadata": {
        "id": "3lzuZgIQYD-C"
      },
      "source": [
        ""
      ],
      "execution_count": null,
      "outputs": []
    }
  ]
}
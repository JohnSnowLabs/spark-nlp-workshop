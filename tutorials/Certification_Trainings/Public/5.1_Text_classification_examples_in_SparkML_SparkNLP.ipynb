{
  "nbformat": 4,
  "nbformat_minor": 0,
  "metadata": {
    "accelerator": "GPU",
    "colab": {
      "name": "5.1_Text_classification_examples_in_SparkML_SparkNLP.ipynb",
      "provenance": [],
      "collapsed_sections": [],
      "toc_visible": true
    },
    "kernelspec": {
      "display_name": "Python 3",
      "language": "python",
      "name": "python3"
    },
    "language_info": {
      "codemirror_mode": {
        "name": "ipython",
        "version": 3
      },
      "file_extension": ".py",
      "mimetype": "text/x-python",
      "name": "python",
      "nbconvert_exporter": "python",
      "pygments_lexer": "ipython3",
      "version": "3.7.4"
    }
  },
  "cells": [
    {
      "cell_type": "markdown",
      "metadata": {
        "id": "sXatvRX899i0"
      },
      "source": [
        "![JohnSnowLabs](https://nlp.johnsnowlabs.com/assets/images/logo.png)"
      ]
    },
    {
      "cell_type": "markdown",
      "metadata": {
        "id": "C3UywhO6ykrV"
      },
      "source": [
        "\n",
        "\n",
        "[![Open In Colab](https://colab.research.google.com/assets/colab-badge.svg)](https://colab.research.google.com/github/JohnSnowLabs/spark-nlp-workshop/blob/master/tutorials/Certification_Trainings/Public/5.1_Text_classification_examples_in_SparkML_SparkNLP.ipynb)"
      ]
    },
    {
      "cell_type": "markdown",
      "metadata": {
        "id": "034_KMGM9mc_"
      },
      "source": [
        "# Text Classification with Spark NLP"
      ]
    },
    {
      "cell_type": "code",
      "metadata": {
        "id": "mSYCCzoJKpIO"
      },
      "source": [
        "! pip install -q pyspark==3.1.2 spark-nlp"
      ],
      "execution_count": null,
      "outputs": []
    },
    {
      "cell_type": "markdown",
      "metadata": {
        "id": "KcM93SYSwT4g"
      },
      "source": [
        "\n",
        "<b>  if you want to work with Spark 2.3 </b>\n",
        "```\n",
        "import os\n",
        "\n",
        "# Install java\n",
        "! apt-get update -qq\n",
        "! apt-get install -y openjdk-8-jdk-headless -qq > /dev/null\n",
        "\n",
        "!wget -q https://archive.apache.org/dist/spark/spark-2.3.0/spark-2.3.0-bin-hadoop2.7.tgz\n",
        "\n",
        "!tar xf spark-2.3.0-bin-hadoop2.7.tgz\n",
        "!pip install -q findspark\n",
        "\n",
        "os.environ[\"JAVA_HOME\"] = \"/usr/lib/jvm/java-8-openjdk-amd64\"\n",
        "os.environ[\"PATH\"] = os.environ[\"JAVA_HOME\"] + \"/bin:\" + os.environ[\"PATH\"]\n",
        "os.environ[\"SPARK_HOME\"] = \"/content/spark-2.3.0-bin-hadoop2.7\"\n",
        "! java -version\n",
        "\n",
        "import findspark\n",
        "findspark.init()\n",
        "from pyspark.sql import SparkSession\n",
        "\n",
        "! pip install --ignore-installed -q spark-nlp==2.7.5\n",
        "\n",
        "import sparknlp\n",
        "\n",
        "spark = sparknlp.start(spark23=True)\n",
        "```"
      ]
    },
    {
      "cell_type": "code",
      "metadata": {
        "id": "Pihatz2EIPPM"
      },
      "source": [
        "import os\n",
        "import sys\n",
        "\n",
        "from pyspark.sql import SparkSession\n",
        "from pyspark.ml import Pipeline\n",
        "\n",
        "from sparknlp.annotator import *\n",
        "from sparknlp.common import *\n",
        "from sparknlp.base import *\n",
        "\n",
        "import pandas as pd\n"
      ],
      "execution_count": null,
      "outputs": []
    },
    {
      "cell_type": "code",
      "metadata": {
        "colab": {
          "base_uri": "https://localhost:8080/"
        },
        "id": "SDasO3DbKu2Z",
        "outputId": "58c9fa16-ee4e-4b7b-b165-353c97bcb078"
      },
      "source": [
        "import sparknlp\n",
        "spark = sparknlp.start()\n",
        "\n",
        "print(\"Spark NLP version: \", sparknlp.version())\n",
        "print(\"Apache Spark version: \", spark.version)"
      ],
      "execution_count": null,
      "outputs": [
        {
          "name": "stdout",
          "output_type": "stream",
          "text": [
            "Spark NLP version:  3.3.0\n",
            "Apache Spark version:  3.1.2\n"
          ]
        }
      ]
    },
    {
      "cell_type": "code",
      "metadata": {
        "id": "IawvXkLGIPPS"
      },
      "source": [
        "! wget https://raw.githubusercontent.com/JohnSnowLabs/spark-nlp-workshop/master/tutorials/Certification_Trainings/Public/data/news_category_train.csv\n",
        "! wget https://raw.githubusercontent.com/JohnSnowLabs/spark-nlp-workshop/master/tutorials/Certification_Trainings/Public/data/news_category_test.csv"
      ],
      "execution_count": null,
      "outputs": []
    },
    {
      "cell_type": "code",
      "metadata": {
        "colab": {
          "base_uri": "https://localhost:8080/"
        },
        "id": "1GkCjlO9IPPh",
        "outputId": "3ce12fb2-0c7b-45c1-f06e-550a83f04ed8"
      },
      "source": [
        "# newsDF = spark.read.parquet(\"data/news_category.parquet\") >> if it is a parquet\n",
        "\n",
        "newsDF = spark.read \\\n",
        "      .option(\"header\", True) \\\n",
        "      .csv(\"news_category_train.csv\")\n",
        "\n",
        "newsDF.show(truncate=50)"
      ],
      "execution_count": null,
      "outputs": [
        {
          "name": "stdout",
          "output_type": "stream",
          "text": [
            "+--------+--------------------------------------------------+\n",
            "|category|                                       description|\n",
            "+--------+--------------------------------------------------+\n",
            "|Business| Short sellers, Wall Street's dwindling band of...|\n",
            "|Business| Private investment firm Carlyle Group, which h...|\n",
            "|Business| Soaring crude prices plus worries about the ec...|\n",
            "|Business| Authorities have halted oil export flows from ...|\n",
            "|Business| Tearaway world oil prices, toppling records an...|\n",
            "|Business| Stocks ended slightly higher on Friday but sta...|\n",
            "|Business| Assets of the nation's retail money market mut...|\n",
            "|Business| Retail sales bounced back a bit in July, and n...|\n",
            "|Business|\" After earning a PH.D. in Sociology, Danny Baz...|\n",
            "|Business| Short sellers, Wall Street's dwindling  band o...|\n",
            "|Business| Soaring crude prices plus worries  about the e...|\n",
            "|Business| OPEC can do nothing to douse scorching  oil pr...|\n",
            "|Business| Non OPEC oil exporters should consider  increa...|\n",
            "|Business| WASHINGTON/NEW YORK (Reuters) - The auction fo...|\n",
            "|Business| The dollar tumbled broadly on Friday  after da...|\n",
            "|Business|If you think you may need to help your elderly ...|\n",
            "|Business|The purchasing power of kids is a big part of w...|\n",
            "|Business|There is little cause for celebration in the st...|\n",
            "|Business|The US trade deficit has exploded 19 to a recor...|\n",
            "|Business|Oil giant Shell could be bracing itself for a t...|\n",
            "+--------+--------------------------------------------------+\n",
            "only showing top 20 rows\n",
            "\n"
          ]
        }
      ]
    },
    {
      "cell_type": "code",
      "metadata": {
        "colab": {
          "base_uri": "https://localhost:8080/"
        },
        "id": "hjkkY5FTIPPp",
        "outputId": "72638bd5-f2b6-4e0f-9c6f-ac2b261f06c7"
      },
      "source": [
        "newsDF.take(2)"
      ],
      "execution_count": null,
      "outputs": [
        {
          "data": {
            "text/plain": [
              "[Row(category='Business', description=\" Short sellers, Wall Street's dwindling band of ultra cynics, are seeing green again.\"),\n",
              " Row(category='Business', description=' Private investment firm Carlyle Group, which has a reputation for making well timed and occasionally controversial plays in the defense industry, has quietly placed its bets on another part of the market.')]"
            ]
          },
          "execution_count": 6,
          "metadata": {},
          "output_type": "execute_result"
        }
      ]
    },
    {
      "cell_type": "code",
      "metadata": {
        "colab": {
          "base_uri": "https://localhost:8080/"
        },
        "id": "Xsifu6-cIPPs",
        "outputId": "807b9885-0a6f-4b8c-efde-189fe8b51daf"
      },
      "source": [
        "from pyspark.sql.functions import col\n",
        "\n",
        "newsDF.groupBy(\"category\") \\\n",
        "    .count() \\\n",
        "    .orderBy(col(\"count\").desc()) \\\n",
        "    .show()"
      ],
      "execution_count": null,
      "outputs": [
        {
          "name": "stdout",
          "output_type": "stream",
          "text": [
            "+--------+-----+\n",
            "|category|count|\n",
            "+--------+-----+\n",
            "|   World|30000|\n",
            "|Sci/Tech|30000|\n",
            "|Business|30000|\n",
            "|  Sports|30000|\n",
            "+--------+-----+\n",
            "\n"
          ]
        }
      ]
    },
    {
      "cell_type": "markdown",
      "metadata": {
        "id": "iHn5crTvIPPv"
      },
      "source": [
        "## Building Classification Pipeline"
      ]
    },
    {
      "cell_type": "markdown",
      "metadata": {
        "id": "G8zK3RByIPPw"
      },
      "source": [
        "### LogReg with CountVectorizer"
      ]
    },
    {
      "cell_type": "markdown",
      "metadata": {
        "id": "AM7esk5yIPPx"
      },
      "source": [
        "Tokenizer: Tokenization \n",
        "\n",
        "stopwordsRemover: Remove Stop Words\n",
        "\n",
        "countVectors: Count vectors (“document-term vectors”)"
      ]
    },
    {
      "cell_type": "code",
      "metadata": {
        "id": "qbrPTtZpIPPx"
      },
      "source": [
        "from pyspark.ml.feature import CountVectorizer, HashingTF, IDF, OneHotEncoder, StringIndexer, VectorAssembler, SQLTransformer"
      ],
      "execution_count": null,
      "outputs": []
    },
    {
      "cell_type": "code",
      "metadata": {
        "colab": {
          "base_uri": "https://localhost:8080/"
        },
        "id": "dL-SK95DIPP1",
        "outputId": "d59a8b09-8d2e-4e00-ff28-e3ac12c72ab4"
      },
      "source": [
        "%%time\n",
        "\n",
        "document_assembler = DocumentAssembler() \\\n",
        "      .setInputCol(\"description\") \\\n",
        "      .setOutputCol(\"document\")\n",
        "    \n",
        "tokenizer = Tokenizer() \\\n",
        "      .setInputCols([\"document\"]) \\\n",
        "      .setOutputCol(\"token\")\n",
        "      \n",
        "normalizer = Normalizer() \\\n",
        "      .setInputCols([\"token\"]) \\\n",
        "      .setOutputCol(\"normalized\")\n",
        "\n",
        "stopwords_cleaner = StopWordsCleaner()\\\n",
        "      .setInputCols(\"normalized\")\\\n",
        "      .setOutputCol(\"cleanTokens\")\\\n",
        "      .setCaseSensitive(False)\n",
        "\n",
        "stemmer = Stemmer() \\\n",
        "      .setInputCols([\"cleanTokens\"]) \\\n",
        "      .setOutputCol(\"stem\")\n",
        "\n",
        "finisher = Finisher() \\\n",
        "      .setInputCols([\"stem\"]) \\\n",
        "      .setOutputCols([\"token_features\"]) \\\n",
        "      .setOutputAsArray(True) \\\n",
        "      .setCleanAnnotations(False)\n",
        "\n",
        "countVectors = CountVectorizer(inputCol=\"token_features\", outputCol=\"features\", vocabSize=10000, minDF=5)\n",
        "\n",
        "label_stringIdx = StringIndexer(inputCol = \"category\", outputCol = \"label\")\n",
        "\n",
        "nlp_pipeline = Pipeline(\n",
        "    stages=[document_assembler, \n",
        "            tokenizer,\n",
        "            normalizer,\n",
        "            stopwords_cleaner, \n",
        "            stemmer, \n",
        "            finisher,\n",
        "            countVectors,\n",
        "            label_stringIdx])\n",
        "\n",
        "nlp_model = nlp_pipeline.fit(newsDF)\n",
        "\n",
        "processed = nlp_model.transform(newsDF)\n",
        "\n",
        "processed.count()"
      ],
      "execution_count": null,
      "outputs": [
        {
          "name": "stdout",
          "output_type": "stream",
          "text": [
            "CPU times: user 665 ms, sys: 86.7 ms, total: 752 ms\n",
            "Wall time: 1min 30s\n"
          ]
        }
      ]
    },
    {
      "cell_type": "code",
      "metadata": {
        "colab": {
          "base_uri": "https://localhost:8080/"
        },
        "id": "YEtzQbNwIPP4",
        "outputId": "d1630dbe-4ab4-4e7b-f8e5-80a31194078b"
      },
      "source": [
        "processed.select('description','token_features').show(truncate=50)"
      ],
      "execution_count": null,
      "outputs": [
        {
          "name": "stdout",
          "output_type": "stream",
          "text": [
            "+--------------------------------------------------+--------------------------------------------------+\n",
            "|                                       description|                                    token_features|\n",
            "+--------------------------------------------------+--------------------------------------------------+\n",
            "| Short sellers, Wall Street's dwindling band of...|[short, seller, wall, street, dwindl, band, ult...|\n",
            "| Private investment firm Carlyle Group, which h...|[privat, invest, firm, carlyl, group, reput, ma...|\n",
            "| Soaring crude prices plus worries about the ec...|[soar, crude, price, plu, worri, economi, outlo...|\n",
            "| Authorities have halted oil export flows from ...|[author, halt, oil, export, flow, main, pipelin...|\n",
            "| Tearaway world oil prices, toppling records an...|[tearawai, world, oil, price, toppl, record, st...|\n",
            "| Stocks ended slightly higher on Friday but sta...|[stock, end, slightli, higher, fridai, staye, n...|\n",
            "| Assets of the nation's retail money market mut...|[asset, nation, retail, monei, market, mutual, ...|\n",
            "| Retail sales bounced back a bit in July, and n...|[retail, sale, bounc, back, bit, juli, new, cla...|\n",
            "|\" After earning a PH.D. in Sociology, Danny Baz...|[earn, phd, sociologi, danni, bazil, rilei, sta...|\n",
            "| Short sellers, Wall Street's dwindling  band o...|[short, seller, wall, street, dwindl, band, ult...|\n",
            "| Soaring crude prices plus worries  about the e...|[soar, crude, price, plu, worri, economi, outlo...|\n",
            "| OPEC can do nothing to douse scorching  oil pr...|[opec, noth, dous, scorch, oil, price, market, ...|\n",
            "| Non OPEC oil exporters should consider  increa...|[non, opec, oil, export, consid, increas, outpu...|\n",
            "| WASHINGTON/NEW YORK (Reuters) - The auction fo...|[washingtonnew, york, reuter, auction, googl, i...|\n",
            "| The dollar tumbled broadly on Friday  after da...|[dollar, tumbl, broadli, fridai, data, showe, r...|\n",
            "|If you think you may need to help your elderly ...|[think, mai, ne, help, elderli, rel, financ, do...|\n",
            "|The purchasing power of kids is a big part of w...|[purchas, power, kid, big, part, backtoschool, ...|\n",
            "|There is little cause for celebration in the st...|[littl, caus, celebr, stock, market, dai, inves...|\n",
            "|The US trade deficit has exploded 19 to a recor...|[u, trade, deficit, explod, record, bn, oil, co...|\n",
            "|Oil giant Shell could be bracing itself for a t...|[oil, giant, shell, brace, takeov, attempt, pos...|\n",
            "+--------------------------------------------------+--------------------------------------------------+\n",
            "only showing top 20 rows\n",
            "\n"
          ]
        }
      ]
    },
    {
      "cell_type": "code",
      "metadata": {
        "colab": {
          "base_uri": "https://localhost:8080/"
        },
        "id": "Mq7tQ_vsIPP7",
        "outputId": "e2cef472-0623-42bd-ca25-811ed947d396"
      },
      "source": [
        "processed.select('token_features').take(2)"
      ],
      "execution_count": null,
      "outputs": [
        {
          "data": {
            "text/plain": [
              "[Row(token_features=['short', 'seller', 'wall', 'street', 'dwindl', 'band', 'ultra', 'cynic', 'see', 'green']),\n",
              " Row(token_features=['privat', 'invest', 'firm', 'carlyl', 'group', 'reput', 'make', 'well', 'time', 'occasion', 'controversi', 'plai', 'defens', 'industri', 'quietli', 'place', 'bet', 'anoth', 'part', 'market'])]"
            ]
          },
          "execution_count": 11,
          "metadata": {},
          "output_type": "execute_result"
        }
      ]
    },
    {
      "cell_type": "code",
      "metadata": {
        "colab": {
          "base_uri": "https://localhost:8080/"
        },
        "id": "5R98lqSgIPP_",
        "outputId": "20e49ffc-7918-41ec-8138-c811dfed19a8"
      },
      "source": [
        "processed.select('features').take(2)"
      ],
      "execution_count": null,
      "outputs": [
        {
          "data": {
            "text/plain": [
              "[Row(features=SparseVector(10000, {241: 1.0, 384: 1.0, 467: 1.0, 744: 1.0, 838: 1.0, 2228: 1.0, 3675: 1.0, 6139: 1.0, 6239: 1.0})),\n",
              " Row(features=SparseVector(10000, {26: 1.0, 38: 1.0, 46: 1.0, 68: 1.0, 117: 1.0, 155: 1.0, 182: 1.0, 197: 1.0, 246: 1.0, 303: 1.0, 320: 1.0, 407: 1.0, 427: 1.0, 621: 1.0, 867: 1.0, 2359: 1.0, 2824: 1.0, 2867: 1.0, 6814: 1.0}))]"
            ]
          },
          "execution_count": 12,
          "metadata": {},
          "output_type": "execute_result"
        }
      ]
    },
    {
      "cell_type": "code",
      "metadata": {
        "colab": {
          "base_uri": "https://localhost:8080/"
        },
        "id": "xfnlWafuIPQC",
        "outputId": "d5a7ca43-764a-44ca-c3d5-764247e05b8d"
      },
      "source": [
        "processed.select('description','features','label').show()"
      ],
      "execution_count": null,
      "outputs": [
        {
          "name": "stdout",
          "output_type": "stream",
          "text": [
            "+--------------------+--------------------+-----+\n",
            "|         description|            features|label|\n",
            "+--------------------+--------------------+-----+\n",
            "| Short sellers, W...|(10000,[241,384,4...|  0.0|\n",
            "| Private investme...|(10000,[26,38,46,...|  0.0|\n",
            "| Soaring crude pr...|(10000,[15,28,46,...|  0.0|\n",
            "| Authorities have...|(10000,[0,32,35,4...|  0.0|\n",
            "| Tearaway world o...|(10000,[1,2,11,28...|  0.0|\n",
            "| Stocks ended sli...|(10000,[3,13,14,2...|  0.0|\n",
            "| Assets of the na...|(10000,[0,4,10,15...|  0.0|\n",
            "| Retail sales bou...|(10000,[0,1,10,15...|  0.0|\n",
            "|\" After earning a...|(10000,[98,99,125...|  0.0|\n",
            "| Short sellers, W...|(10000,[241,384,4...|  0.0|\n",
            "| Soaring crude pr...|(10000,[15,28,46,...|  0.0|\n",
            "| OPEC can do noth...|(10000,[0,24,28,2...|  0.0|\n",
            "| Non OPEC oil exp...|(10000,[0,21,28,3...|  0.0|\n",
            "| WASHINGTON/NEW Y...|(10000,[2,4,13,14...|  0.0|\n",
            "| The dollar tumbl...|(10000,[2,14,72,1...|  0.0|\n",
            "|If you think you ...|(10000,[74,76,143...|  0.0|\n",
            "|The purchasing po...|(10000,[46,54,167...|  0.0|\n",
            "|There is little c...|(10000,[29,46,75,...|  0.0|\n",
            "|The US trade defi...|(10000,[2,32,72,1...|  0.0|\n",
            "|Oil giant Shell c...|(10000,[16,32,103...|  0.0|\n",
            "+--------------------+--------------------+-----+\n",
            "only showing top 20 rows\n",
            "\n"
          ]
        }
      ]
    },
    {
      "cell_type": "code",
      "metadata": {
        "colab": {
          "base_uri": "https://localhost:8080/"
        },
        "id": "LQwMyjUdIPQF",
        "outputId": "3ca5acb3-cc83-4015-88d5-4c4a31667a14"
      },
      "source": [
        "# set seed for reproducibility\n",
        "(trainingData, testData) = processed.randomSplit([0.7, 0.3], seed = 100)\n",
        "print(\"Training Dataset Count: \" + str(trainingData.count()))\n",
        "print(\"Test Dataset Count: \" + str(testData.count()))"
      ],
      "execution_count": null,
      "outputs": [
        {
          "name": "stdout",
          "output_type": "stream",
          "text": [
            "Training Dataset Count: 84003\n",
            "Test Dataset Count: 35997\n"
          ]
        }
      ]
    },
    {
      "cell_type": "code",
      "metadata": {
        "colab": {
          "base_uri": "https://localhost:8080/"
        },
        "id": "cq30cb17IPQH",
        "outputId": "3caba5b2-b9b0-4e07-8e36-599c8adbefb1"
      },
      "source": [
        "trainingData.printSchema()"
      ],
      "execution_count": null,
      "outputs": [
        {
          "name": "stdout",
          "output_type": "stream",
          "text": [
            "root\n",
            " |-- category: string (nullable = true)\n",
            " |-- description: string (nullable = true)\n",
            " |-- document: array (nullable = true)\n",
            " |    |-- element: struct (containsNull = true)\n",
            " |    |    |-- annotatorType: string (nullable = true)\n",
            " |    |    |-- begin: integer (nullable = false)\n",
            " |    |    |-- end: integer (nullable = false)\n",
            " |    |    |-- result: string (nullable = true)\n",
            " |    |    |-- metadata: map (nullable = true)\n",
            " |    |    |    |-- key: string\n",
            " |    |    |    |-- value: string (valueContainsNull = true)\n",
            " |    |    |-- embeddings: array (nullable = true)\n",
            " |    |    |    |-- element: float (containsNull = false)\n",
            " |-- token: array (nullable = true)\n",
            " |    |-- element: struct (containsNull = true)\n",
            " |    |    |-- annotatorType: string (nullable = true)\n",
            " |    |    |-- begin: integer (nullable = false)\n",
            " |    |    |-- end: integer (nullable = false)\n",
            " |    |    |-- result: string (nullable = true)\n",
            " |    |    |-- metadata: map (nullable = true)\n",
            " |    |    |    |-- key: string\n",
            " |    |    |    |-- value: string (valueContainsNull = true)\n",
            " |    |    |-- embeddings: array (nullable = true)\n",
            " |    |    |    |-- element: float (containsNull = false)\n",
            " |-- normalized: array (nullable = true)\n",
            " |    |-- element: struct (containsNull = true)\n",
            " |    |    |-- annotatorType: string (nullable = true)\n",
            " |    |    |-- begin: integer (nullable = false)\n",
            " |    |    |-- end: integer (nullable = false)\n",
            " |    |    |-- result: string (nullable = true)\n",
            " |    |    |-- metadata: map (nullable = true)\n",
            " |    |    |    |-- key: string\n",
            " |    |    |    |-- value: string (valueContainsNull = true)\n",
            " |    |    |-- embeddings: array (nullable = true)\n",
            " |    |    |    |-- element: float (containsNull = false)\n",
            " |-- cleanTokens: array (nullable = true)\n",
            " |    |-- element: struct (containsNull = true)\n",
            " |    |    |-- annotatorType: string (nullable = true)\n",
            " |    |    |-- begin: integer (nullable = false)\n",
            " |    |    |-- end: integer (nullable = false)\n",
            " |    |    |-- result: string (nullable = true)\n",
            " |    |    |-- metadata: map (nullable = true)\n",
            " |    |    |    |-- key: string\n",
            " |    |    |    |-- value: string (valueContainsNull = true)\n",
            " |    |    |-- embeddings: array (nullable = true)\n",
            " |    |    |    |-- element: float (containsNull = false)\n",
            " |-- stem: array (nullable = true)\n",
            " |    |-- element: struct (containsNull = true)\n",
            " |    |    |-- annotatorType: string (nullable = true)\n",
            " |    |    |-- begin: integer (nullable = false)\n",
            " |    |    |-- end: integer (nullable = false)\n",
            " |    |    |-- result: string (nullable = true)\n",
            " |    |    |-- metadata: map (nullable = true)\n",
            " |    |    |    |-- key: string\n",
            " |    |    |    |-- value: string (valueContainsNull = true)\n",
            " |    |    |-- embeddings: array (nullable = true)\n",
            " |    |    |    |-- element: float (containsNull = false)\n",
            " |-- token_features: array (nullable = true)\n",
            " |    |-- element: string (containsNull = true)\n",
            " |-- features: vector (nullable = true)\n",
            " |-- label: double (nullable = false)\n",
            "\n"
          ]
        }
      ]
    },
    {
      "cell_type": "code",
      "metadata": {
        "colab": {
          "base_uri": "https://localhost:8080/"
        },
        "id": "L1LRyPzWIPQK",
        "outputId": "2a9d4388-90f5-4bba-d688-c8f56429daa0"
      },
      "source": [
        "from pyspark.ml.classification import LogisticRegression\n",
        "\n",
        "lr = LogisticRegression(maxIter=10, regParam=0.3, elasticNetParam=0)\n",
        "\n",
        "lrModel = lr.fit(trainingData)\n",
        "\n",
        "predictions = lrModel.transform(testData)\n",
        "\n",
        "predictions.filter(predictions['prediction'] == 0) \\\n",
        "    .select(\"description\",\"category\",\"probability\",\"label\",\"prediction\") \\\n",
        "    .orderBy(\"probability\", ascending=False) \\\n",
        "    .show(n = 10, truncate = 30)"
      ],
      "execution_count": null,
      "outputs": [
        {
          "name": "stdout",
          "output_type": "stream",
          "text": [
            "+------------------------------+--------+------------------------------+-----+----------+\n",
            "|                   description|category|                   probability|label|prediction|\n",
            "+------------------------------+--------+------------------------------+-----+----------+\n",
            "|\" U.S. stocks were slightly...|Business|[0.99943213602306,1.8435733...|  0.0|       0.0|\n",
            "|\" U.S. blue chips declined ...|Business|[0.9974134608497708,0.00104...|  0.0|       0.0|\n",
            "|Attorney General Thomas F. ...|Business|[0.9966608812316374,0.00125...|  0.0|       0.0|\n",
            "|\" Stocks fell sharply  on W...|Business|[0.9956768085014877,0.00123...|  0.0|       0.0|\n",
            "|The airline sector, clouded...|Business|[0.9945717169478803,0.00266...|  0.0|       0.0|\n",
            "|\" Shares of Ford Motor Co. ...|Business|[0.9937281500260208,0.00212...|  0.0|       0.0|\n",
            "|\" Stocks slipped on Tuesday...|Business|[0.9935704053199006,0.00223...|  0.0|       0.0|\n",
            "|\" Mid priced clothing retai...|Business|[0.9932872210778055,0.00331...|  0.0|       0.0|\n",
            "| OPEC oil producers on Satu...|Business|[0.9932832107157459,0.00214...|  0.0|       0.0|\n",
            "|THE REGION Fidelity Investm...|Business|[0.9929173282884661,0.00442...|  0.0|       0.0|\n",
            "+------------------------------+--------+------------------------------+-----+----------+\n",
            "only showing top 10 rows\n",
            "\n"
          ]
        }
      ]
    },
    {
      "cell_type": "code",
      "metadata": {
        "colab": {
          "base_uri": "https://localhost:8080/"
        },
        "id": "gPRKc6_1IPQO",
        "outputId": "e49bb5bc-323c-441d-882e-795b4a0b062a"
      },
      "source": [
        "from pyspark.ml.evaluation import MulticlassClassificationEvaluator\n",
        "\n",
        "evaluator = MulticlassClassificationEvaluator(predictionCol=\"prediction\")\n",
        "\n",
        "evaluator.evaluate(predictions)"
      ],
      "execution_count": null,
      "outputs": [
        {
          "data": {
            "text/plain": [
              "0.9013547096652677"
            ]
          },
          "execution_count": 17,
          "metadata": {},
          "output_type": "execute_result"
        }
      ]
    },
    {
      "cell_type": "code",
      "metadata": {
        "id": "7rOj1_VXIPQQ"
      },
      "source": [
        "from sklearn.metrics import confusion_matrix, classification_report, accuracy_score\n",
        "y_true = predictions.select(\"label\")\n",
        "y_true = y_true.toPandas()\n",
        "\n",
        "y_pred = predictions.select(\"prediction\")\n",
        "y_pred = y_pred.toPandas()"
      ],
      "execution_count": null,
      "outputs": []
    },
    {
      "cell_type": "code",
      "metadata": {
        "colab": {
          "base_uri": "https://localhost:8080/"
        },
        "id": "XEgXvy9KIPQT",
        "outputId": "6d310477-c3cc-4b2e-99cc-9f4940ab402b"
      },
      "source": [
        "y_pred.prediction.value_counts()"
      ],
      "execution_count": null,
      "outputs": [
        {
          "data": {
            "text/plain": [
              "2.0    9405\n",
              "0.0    9033\n",
              "1.0    8989\n",
              "3.0    8570\n",
              "Name: prediction, dtype: int64"
            ]
          },
          "execution_count": 19,
          "metadata": {},
          "output_type": "execute_result"
        }
      ]
    },
    {
      "cell_type": "code",
      "metadata": {
        "colab": {
          "base_uri": "https://localhost:8080/"
        },
        "id": "0AHRzWCZIPQW",
        "outputId": "b610d086-27e0-40fc-8cac-a58e3a7d269c"
      },
      "source": [
        "cnf_matrix = confusion_matrix(list(y_true.label.astype(int)), list(y_pred.prediction.astype(int)))\n",
        "cnf_matrix"
      ],
      "execution_count": null,
      "outputs": [
        {
          "data": {
            "text/plain": [
              "array([[7805,  764,  111,  297],\n",
              "       [ 714, 7866,   92,  311],\n",
              "       [  46,   71, 8910,   89],\n",
              "       [ 468,  288,  292, 7873]])"
            ]
          },
          "execution_count": 20,
          "metadata": {},
          "output_type": "execute_result"
        }
      ]
    },
    {
      "cell_type": "code",
      "metadata": {
        "colab": {
          "base_uri": "https://localhost:8080/"
        },
        "id": "cTNup21PIPQZ",
        "outputId": "793f7371-8c5a-455a-e485-8f167cdf2f3b"
      },
      "source": [
        "print(classification_report(y_true.label, y_pred.prediction))\n",
        "print(accuracy_score(y_true.label, y_pred.prediction))"
      ],
      "execution_count": null,
      "outputs": [
        {
          "name": "stdout",
          "output_type": "stream",
          "text": [
            "              precision    recall  f1-score   support\n",
            "\n",
            "         0.0       0.86      0.87      0.87      8977\n",
            "         1.0       0.88      0.88      0.88      8983\n",
            "         2.0       0.95      0.98      0.96      9116\n",
            "         3.0       0.92      0.88      0.90      8921\n",
            "\n",
            "    accuracy                           0.90     35997\n",
            "   macro avg       0.90      0.90      0.90     35997\n",
            "weighted avg       0.90      0.90      0.90     35997\n",
            "\n",
            "0.9015751312609384\n"
          ]
        }
      ]
    },
    {
      "cell_type": "markdown",
      "metadata": {
        "id": "PSSB-ZHJIPQb"
      },
      "source": [
        "### LogReg with TFIDF"
      ]
    },
    {
      "cell_type": "code",
      "metadata": {
        "colab": {
          "base_uri": "https://localhost:8080/"
        },
        "id": "mmWR-GnOIPQc",
        "outputId": "2bcc1764-87f1-4fd8-e8a8-cbe0a839a3a6"
      },
      "source": [
        "from pyspark.ml.feature import HashingTF, IDF\n",
        "\n",
        "hashingTF = HashingTF(inputCol=\"token_features\", outputCol=\"rawFeatures\", numFeatures=10000)\n",
        "\n",
        "idf = IDF(inputCol=\"rawFeatures\", outputCol=\"features\", minDocFreq=5) #minDocFreq: remove sparse terms\n",
        "\n",
        "nlp_pipeline_tf = Pipeline(\n",
        "    stages=[document_assembler, \n",
        "            tokenizer,\n",
        "            normalizer,\n",
        "            stopwords_cleaner, \n",
        "            stemmer, \n",
        "            finisher,\n",
        "            hashingTF,\n",
        "            idf,\n",
        "            label_stringIdx])\n",
        "\n",
        "nlp_model_tf = nlp_pipeline_tf.fit(newsDF)\n",
        "\n",
        "processed_tf = nlp_model_tf.transform(newsDF)\n",
        "\n",
        "processed_tf.count()\n"
      ],
      "execution_count": null,
      "outputs": [
        {
          "data": {
            "text/plain": [
              "120000"
            ]
          },
          "execution_count": 22,
          "metadata": {},
          "output_type": "execute_result"
        }
      ]
    },
    {
      "cell_type": "code",
      "metadata": {
        "colab": {
          "base_uri": "https://localhost:8080/"
        },
        "id": "4RHs0RjOIPQe",
        "outputId": "eb34a5d3-c64f-45f5-9e84-96b3fe703442"
      },
      "source": [
        "# set seed for reproducibility\n",
        "processed_tf.select('description','features','label').show()"
      ],
      "execution_count": null,
      "outputs": [
        {
          "name": "stdout",
          "output_type": "stream",
          "text": [
            "+--------------------+--------------------+-----+\n",
            "|         description|            features|label|\n",
            "+--------------------+--------------------+-----+\n",
            "| Short sellers, W...|(10000,[551,621,6...|  0.0|\n",
            "| Private investme...|(10000,[157,831,9...|  0.0|\n",
            "| Soaring crude pr...|(10000,[793,1738,...|  0.0|\n",
            "| Authorities have...|(10000,[1548,1611...|  0.0|\n",
            "| Tearaway world o...|(10000,[323,585,1...|  0.0|\n",
            "| Stocks ended sli...|(10000,[453,609,6...|  0.0|\n",
            "| Assets of the na...|(10000,[258,444,1...|  0.0|\n",
            "| Retail sales bou...|(10000,[14,585,19...|  0.0|\n",
            "|\" After earning a...|(10000,[114,796,1...|  0.0|\n",
            "| Short sellers, W...|(10000,[551,621,6...|  0.0|\n",
            "| Soaring crude pr...|(10000,[793,1738,...|  0.0|\n",
            "| OPEC can do noth...|(10000,[298,616,9...|  0.0|\n",
            "| Non OPEC oil exp...|(10000,[616,1063,...|  0.0|\n",
            "| WASHINGTON/NEW Y...|(10000,[360,832,1...|  0.0|\n",
            "| The dollar tumbl...|(10000,[419,949,1...|  0.0|\n",
            "|If you think you ...|(10000,[1041,2059...|  0.0|\n",
            "|The purchasing po...|(10000,[901,2198,...|  0.0|\n",
            "|There is little c...|(10000,[320,515,5...|  0.0|\n",
            "|The US trade defi...|(10000,[419,444,1...|  0.0|\n",
            "|Oil giant Shell c...|(10000,[1336,1998...|  0.0|\n",
            "+--------------------+--------------------+-----+\n",
            "only showing top 20 rows\n",
            "\n"
          ]
        }
      ]
    },
    {
      "cell_type": "code",
      "metadata": {
        "colab": {
          "base_uri": "https://localhost:8080/"
        },
        "id": "UHewYwjbIPQg",
        "outputId": "3efee28b-5b96-40e3-870f-0b7df385c175"
      },
      "source": [
        "(trainingData, testData) = processed_tf.randomSplit([0.7, 0.3], seed = 100)\n",
        "print(\"Training Dataset Count: \" + str(trainingData.count()))\n",
        "print(\"Test Dataset Count: \" + str(testData.count()))"
      ],
      "execution_count": null,
      "outputs": [
        {
          "name": "stdout",
          "output_type": "stream",
          "text": [
            "Training Dataset Count: 84003\n",
            "Test Dataset Count: 35997\n"
          ]
        }
      ]
    },
    {
      "cell_type": "code",
      "metadata": {
        "colab": {
          "base_uri": "https://localhost:8080/"
        },
        "id": "HcCnp1PrIPQj",
        "outputId": "5169ac94-2a86-4aa6-f1f7-4b84776b074a"
      },
      "source": [
        "lrModel_tf = lr.fit(trainingData)\n",
        "\n",
        "predictions_tf = lrModel_tf.transform(testData)\n",
        "\n",
        "predictions_tf.select(\"description\",\"category\",\"probability\",\"label\",\"prediction\") \\\n",
        "    .orderBy(\"probability\", ascending=False) \\\n",
        "    .show(n = 10, truncate = 30)\n"
      ],
      "execution_count": null,
      "outputs": [
        {
          "name": "stdout",
          "output_type": "stream",
          "text": [
            "+------------------------------+--------+------------------------------+-----+----------+\n",
            "|                   description|category|                   probability|label|prediction|\n",
            "+------------------------------+--------+------------------------------+-----+----------+\n",
            "|\" U.S. stocks were slightly...|Business|[0.9980720665191349,0.00113...|  0.0|       0.0|\n",
            "|Attorney General Thomas F. ...|Business|[0.9954920116759045,0.00208...|  0.0|       0.0|\n",
            "|\" Stocks fell sharply  on W...|Business|[0.9952255811629612,0.00173...|  0.0|       0.0|\n",
            "|\" U.S. regulators asked aut...|Business|[0.9949058305732691,0.00200...|  0.0|       0.0|\n",
            "|\" Mid priced clothing retai...|Business|[0.9935833393676308,0.00244...|  0.0|       0.0|\n",
            "|Former Enron Corp. executiv...|Business|[0.9934806019615462,0.00284...|  0.0|       0.0|\n",
            "|\" Stocks slipped on Tuesday...|Business|[0.9927606940769035,0.00212...|  0.0|       0.0|\n",
            "|In NEW YORK, the major stoc...|Business|[0.9923637548207366,0.00278...|  0.0|       0.0|\n",
            "| Interest rates on U.S. 30 ...|Business|[0.9915963645871487,0.00338...|  0.0|       0.0|\n",
            "|\" Shares of Ford Motor Co. ...|Business|[0.9913307581381126,0.00235...|  0.0|       0.0|\n",
            "+------------------------------+--------+------------------------------+-----+----------+\n",
            "only showing top 10 rows\n",
            "\n"
          ]
        }
      ]
    },
    {
      "cell_type": "code",
      "metadata": {
        "colab": {
          "base_uri": "https://localhost:8080/"
        },
        "id": "j8EH6P4-IPQm",
        "outputId": "9200e425-28f2-4269-a9ae-0c75ff958462"
      },
      "source": [
        "y_true = predictions_tf.select(\"label\")\n",
        "y_true = y_true.toPandas()\n",
        "\n",
        "y_pred = predictions_tf.select(\"prediction\")\n",
        "y_pred = y_pred.toPandas()\n",
        "\n",
        "print(classification_report(y_true.label, y_pred.prediction))\n",
        "print(accuracy_score(y_true.label, y_pred.prediction))"
      ],
      "execution_count": null,
      "outputs": [
        {
          "name": "stdout",
          "output_type": "stream",
          "text": [
            "              precision    recall  f1-score   support\n",
            "\n",
            "         0.0       0.85      0.86      0.85      8977\n",
            "         1.0       0.86      0.86      0.86      8983\n",
            "         2.0       0.93      0.97      0.95      9116\n",
            "         3.0       0.91      0.87      0.89      8921\n",
            "\n",
            "    accuracy                           0.89     35997\n",
            "   macro avg       0.89      0.89      0.89     35997\n",
            "weighted avg       0.89      0.89      0.89     35997\n",
            "\n",
            "0.8887129483012474\n"
          ]
        }
      ]
    },
    {
      "cell_type": "markdown",
      "metadata": {
        "id": "6bdwtu_9IPQp"
      },
      "source": [
        "### Random Forest with TFIDF"
      ]
    },
    {
      "cell_type": "code",
      "metadata": {
        "id": "ILNZ4-vPIPQp"
      },
      "source": [
        "from pyspark.ml.classification import RandomForestClassifier\n",
        "\n",
        "rf = RandomForestClassifier(labelCol=\"label\", \\\n",
        "                            featuresCol=\"features\", \\\n",
        "                            numTrees = 100, \\\n",
        "                            maxDepth = 4, \\\n",
        "                            maxBins = 32)\n",
        "\n",
        "# Train model with Training Data\n",
        "rfModel = rf.fit(trainingData)\n",
        "predictions_rf = rfModel.transform(testData)\n"
      ],
      "execution_count": null,
      "outputs": []
    },
    {
      "cell_type": "code",
      "metadata": {
        "colab": {
          "base_uri": "https://localhost:8080/"
        },
        "id": "pY9EQY1tIPQr",
        "outputId": "adf4a399-ba65-4901-a090-26028585b99d"
      },
      "source": [
        "predictions_rf.select(\"description\",\"category\",\"probability\",\"label\",\"prediction\") \\\n",
        "    .orderBy(\"probability\", ascending=False) \\\n",
        "    .show(n = 10, truncate = 30)"
      ],
      "execution_count": null,
      "outputs": [
        {
          "name": "stdout",
          "output_type": "stream",
          "text": [
            "+------------------------------+--------+------------------------------+-----+----------+\n",
            "|                   description|category|                   probability|label|prediction|\n",
            "+------------------------------+--------+------------------------------+-----+----------+\n",
            "|\" Stocks fell sharply  on W...|Business|[0.4018557885968233,0.21178...|  0.0|       0.0|\n",
            "|\" U.S. stock futures pointe...|Business|[0.3968823646083933,0.22020...|  0.0|       0.0|\n",
            "|\" U.S. stocks opened lower ...|Business|[0.38908943272838614,0.2217...|  0.0|       0.0|\n",
            "| U.S. stocks jumped higher ...|Business|[0.3842429920005435,0.22202...|  0.0|       0.0|\n",
            "|\" Shares of Ford Motor Co. ...|Business|[0.3827151860052273,0.23157...|  0.0|       0.0|\n",
            "|Lennar Corp., the No. 3 US ...|Business|[0.38148448551297853,0.2176...|  0.0|       0.0|\n",
            "|\" Amazon.com Inc &lt;A HREF...|Business|[0.3797159164508465,0.24374...|  0.0|       0.0|\n",
            "|US investment bank Merrill ...|Business|[0.3787919185789271,0.21539...|  0.0|       0.0|\n",
            "|Bank of America Corp. (BAC....|Business|[0.37790890358754453,0.2312...|  0.0|       0.0|\n",
            "|Bank of America Corp. (BAC....|Business|[0.37790890358754453,0.2312...|  0.0|       0.0|\n",
            "+------------------------------+--------+------------------------------+-----+----------+\n",
            "only showing top 10 rows\n",
            "\n"
          ]
        }
      ]
    },
    {
      "cell_type": "code",
      "metadata": {
        "colab": {
          "base_uri": "https://localhost:8080/"
        },
        "id": "7_vXMkvuIPQu",
        "outputId": "d5d10f8a-9499-4384-f442-ce02e6e3fd8c"
      },
      "source": [
        "y_true = predictions_rf.select(\"label\")\n",
        "y_true = y_true.toPandas()\n",
        "\n",
        "y_pred = predictions_rf.select(\"prediction\")\n",
        "y_pred = y_pred.toPandas()\n",
        "\n",
        "print(classification_report(y_true.label, y_pred.prediction))\n",
        "print(accuracy_score(y_true.label, y_pred.prediction))"
      ],
      "execution_count": null,
      "outputs": [
        {
          "name": "stdout",
          "output_type": "stream",
          "text": [
            "              precision    recall  f1-score   support\n",
            "\n",
            "         0.0       0.75      0.69      0.72      8977\n",
            "         1.0       0.80      0.64      0.71      8983\n",
            "         2.0       0.70      0.91      0.79      9116\n",
            "         3.0       0.78      0.77      0.78      8921\n",
            "\n",
            "    accuracy                           0.75     35997\n",
            "   macro avg       0.76      0.75      0.75     35997\n",
            "weighted avg       0.76      0.75      0.75     35997\n",
            "\n",
            "0.7533127760646721\n"
          ]
        }
      ]
    },
    {
      "cell_type": "markdown",
      "metadata": {
        "id": "z3tdY1_oIPQ0"
      },
      "source": [
        "## LogReg with Spark NLP Glove Word Embeddings"
      ]
    },
    {
      "cell_type": "code",
      "metadata": {
        "colab": {
          "base_uri": "https://localhost:8080/"
        },
        "id": "4GVKps1mIPQ0",
        "outputId": "5c57c68d-ccff-4383-d715-a686d1d307e8"
      },
      "source": [
        "document_assembler = DocumentAssembler() \\\n",
        "      .setInputCol(\"description\") \\\n",
        "      .setOutputCol(\"document\")\n",
        "    \n",
        "tokenizer = Tokenizer() \\\n",
        "      .setInputCols([\"document\"]) \\\n",
        "      .setOutputCol(\"token\")\n",
        "    \n",
        "normalizer = Normalizer() \\\n",
        "      .setInputCols([\"token\"]) \\\n",
        "      .setOutputCol(\"normalized\")\n",
        "\n",
        "stopwords_cleaner = StopWordsCleaner()\\\n",
        "      .setInputCols(\"normalized\")\\\n",
        "      .setOutputCol(\"cleanTokens\")\\\n",
        "      .setCaseSensitive(False)\n",
        "\n",
        "glove_embeddings = WordEmbeddingsModel().pretrained() \\\n",
        "      .setInputCols([\"document\",'cleanTokens'])\\\n",
        "      .setOutputCol(\"embeddings\")\\\n",
        "      .setCaseSensitive(False)\n",
        "\n",
        "embeddingsSentence = SentenceEmbeddings() \\\n",
        "      .setInputCols([\"document\", \"embeddings\"]) \\\n",
        "      .setOutputCol(\"sentence_embeddings\") \\\n",
        "      .setPoolingStrategy(\"AVERAGE\")\n",
        "    \n",
        "embeddings_finisher = EmbeddingsFinisher() \\\n",
        "      .setInputCols([\"sentence_embeddings\"]) \\\n",
        "      .setOutputCols([\"finished_sentence_embeddings\"]) \\\n",
        "      .setOutputAsVector(True)\\\n",
        "      .setCleanAnnotations(False)\n",
        "\n",
        "explodeVectors = SQLTransformer(statement=\n",
        "      \"SELECT EXPLODE(finished_sentence_embeddings) AS features, * FROM __THIS__\")\n",
        "\n",
        "label_stringIdx = StringIndexer(inputCol = \"category\", outputCol = \"label\")\n",
        "\n",
        "\n",
        "nlp_pipeline_w2v = Pipeline(\n",
        "    stages=[document_assembler, \n",
        "            tokenizer,\n",
        "            normalizer,\n",
        "            stopwords_cleaner, \n",
        "            glove_embeddings,\n",
        "            embeddingsSentence,\n",
        "            embeddings_finisher,\n",
        "            explodeVectors,\n",
        "            label_stringIdx])\n",
        "\n",
        "nlp_model_w2v = nlp_pipeline_w2v.fit(newsDF)\n",
        "\n",
        "processed_w2v = nlp_model_w2v.transform(newsDF)\n",
        "\n",
        "processed_w2v.count()\n"
      ],
      "execution_count": null,
      "outputs": [
        {
          "name": "stdout",
          "output_type": "stream",
          "text": [
            "glove_100d download started this may take some time.\n",
            "Approximate size to download 145.3 MB\n",
            "[OK!]\n"
          ]
        },
        {
          "data": {
            "text/plain": [
              "120000"
            ]
          },
          "execution_count": 30,
          "metadata": {},
          "output_type": "execute_result"
        }
      ]
    },
    {
      "cell_type": "code",
      "metadata": {
        "colab": {
          "base_uri": "https://localhost:8080/"
        },
        "id": "K8kfQldjVdUt",
        "outputId": "b5d80637-455f-4c19-92fd-da7eb86f620e"
      },
      "source": [
        "processed_w2v.columns"
      ],
      "execution_count": null,
      "outputs": [
        {
          "data": {
            "text/plain": [
              "['features',\n",
              " 'category',\n",
              " 'description',\n",
              " 'document',\n",
              " 'token',\n",
              " 'normalized',\n",
              " 'cleanTokens',\n",
              " 'embeddings',\n",
              " 'sentence_embeddings',\n",
              " 'finished_sentence_embeddings',\n",
              " 'label']"
            ]
          },
          "execution_count": 31,
          "metadata": {},
          "output_type": "execute_result"
        }
      ]
    },
    {
      "cell_type": "code",
      "metadata": {
        "colab": {
          "base_uri": "https://localhost:8080/"
        },
        "id": "3iRIsxANVfFM",
        "outputId": "ed0c4ce3-d73b-4cfa-f1c3-fece3cd0bd06"
      },
      "source": [
        "processed_w2v.show(5)"
      ],
      "execution_count": null,
      "outputs": [
        {
          "name": "stdout",
          "output_type": "stream",
          "text": [
            "+--------------------+--------+--------------------+--------------------+--------------------+--------------------+--------------------+--------------------+--------------------+----------------------------+-----+\n",
            "|            features|category|         description|            document|               token|          normalized|         cleanTokens|          embeddings| sentence_embeddings|finished_sentence_embeddings|label|\n",
            "+--------------------+--------+--------------------+--------------------+--------------------+--------------------+--------------------+--------------------+--------------------+----------------------------+-----+\n",
            "|[-0.1556767076253...|Business| Short sellers, W...|[{document, 0, 84...|[{token, 1, 5, Sh...|[{token, 1, 5, Sh...|[{token, 1, 5, Sh...|[{word_embeddings...|[{sentence_embedd...|        [[-0.155676707625...|  0.0|\n",
            "|[-0.0144653050228...|Business| Private investme...|[{document, 0, 20...|[{token, 1, 7, Pr...|[{token, 1, 7, Pr...|[{token, 1, 7, Pr...|[{word_embeddings...|[{sentence_embedd...|        [[-0.014465305022...|  0.0|\n",
            "|[0.10348732769489...|Business| Soaring crude pr...|[{document, 0, 17...|[{token, 1, 7, So...|[{token, 1, 7, So...|[{token, 1, 7, So...|[{word_embeddings...|[{sentence_embedd...|        [[0.1034873276948...|  0.0|\n",
            "|[-0.0355810523033...|Business| Authorities have...|[{document, 0, 18...|[{token, 1, 11, A...|[{token, 1, 11, A...|[{token, 1, 11, A...|[{word_embeddings...|[{sentence_embedd...|        [[-0.035581052303...|  0.0|\n",
            "|[0.00647281948477...|Business| Tearaway world o...|[{document, 0, 15...|[{token, 1, 8, Te...|[{token, 1, 8, Te...|[{token, 1, 8, Te...|[{word_embeddings...|[{sentence_embedd...|        [[0.0064728194847...|  0.0|\n",
            "+--------------------+--------+--------------------+--------------------+--------------------+--------------------+--------------------+--------------------+--------------------+----------------------------+-----+\n",
            "only showing top 5 rows\n",
            "\n"
          ]
        }
      ]
    },
    {
      "cell_type": "code",
      "metadata": {
        "colab": {
          "base_uri": "https://localhost:8080/"
        },
        "id": "RLVVHJEHIPQ3",
        "outputId": "4eb91fac-3ca0-4272-be9e-a33299c4641f"
      },
      "source": [
        "processed_w2v.select('finished_sentence_embeddings').take(1)"
      ],
      "execution_count": null,
      "outputs": [
        {
          "data": {
            "text/plain": [
              "[Row(finished_sentence_embeddings=[DenseVector([-0.1557, 0.196, 0.1099, -0.3089, 0.16, 0.1672, -0.4649, -0.1101, -0.053, -0.1551, 0.0327, 0.0772, 0.1494, -0.1865, 0.1155, -0.0597, 0.0234, -0.0451, 0.2361, -0.0089, 0.3358, 0.0444, 0.0088, -0.1453, 0.2289, 0.0914, -0.1665, -0.3726, 0.1892, 0.121, 0.1993, -0.0239, -0.1346, 0.1159, 0.2086, 0.1285, 0.068, 0.1372, 0.3153, -0.1934, 0.0257, -0.226, -0.0984, 0.1139, 0.1413, -0.3743, 0.072, 0.1403, 0.251, -0.3106, 0.1709, -0.0697, -0.0554, 0.5123, -0.1873, -1.7784, 0.0295, 0.1014, 0.9268, 0.2129, -0.1354, 0.5739, -0.0679, 0.461, 0.4216, 0.0225, 0.4456, -0.2462, 0.1411, -0.3258, 0.0025, 0.0114, -0.3895, -0.1106, -0.261, 0.0147, 0.0781, 0.1268, -0.2042, -0.2278, 0.5096, 0.1539, -0.3515, -0.0102, -0.7003, -0.3872, -0.1668, -0.2405, -0.0766, 0.1396, -0.0592, -0.1568, -0.1606, -0.1371, -0.684, -0.2549, -0.1541, 0.1536, 0.2715, 0.3342])])]"
            ]
          },
          "execution_count": 33,
          "metadata": {},
          "output_type": "execute_result"
        }
      ]
    },
    {
      "cell_type": "code",
      "metadata": {
        "id": "0JRYsk0mIPQ_"
      },
      "source": [
        "# IF SQLTransformer IS NOT USED INSIDE THE PIPELINE, WE CAN EXPLODE OUTSIDE\n",
        "from pyspark.sql.functions import explode\n",
        "\n",
        "# processed_w2v= processed_w2v.withColumn(\"features\", explode(processed_w2v.finished_sentence_embeddings))"
      ],
      "execution_count": null,
      "outputs": []
    },
    {
      "cell_type": "code",
      "metadata": {
        "colab": {
          "base_uri": "https://localhost:8080/"
        },
        "id": "ZWp3CA_kIPRB",
        "outputId": "3336321e-ce1c-4de9-d24e-4318a81091f1"
      },
      "source": [
        "processed_w2v.select(\"features\").take(1)"
      ],
      "execution_count": null,
      "outputs": [
        {
          "data": {
            "text/plain": [
              "[Row(features=DenseVector([-0.1557, 0.196, 0.1099, -0.3089, 0.16, 0.1672, -0.4649, -0.1101, -0.053, -0.1551, 0.0327, 0.0772, 0.1494, -0.1865, 0.1155, -0.0597, 0.0234, -0.0451, 0.2361, -0.0089, 0.3358, 0.0444, 0.0088, -0.1453, 0.2289, 0.0914, -0.1665, -0.3726, 0.1892, 0.121, 0.1993, -0.0239, -0.1346, 0.1159, 0.2086, 0.1285, 0.068, 0.1372, 0.3153, -0.1934, 0.0257, -0.226, -0.0984, 0.1139, 0.1413, -0.3743, 0.072, 0.1403, 0.251, -0.3106, 0.1709, -0.0697, -0.0554, 0.5123, -0.1873, -1.7784, 0.0295, 0.1014, 0.9268, 0.2129, -0.1354, 0.5739, -0.0679, 0.461, 0.4216, 0.0225, 0.4456, -0.2462, 0.1411, -0.3258, 0.0025, 0.0114, -0.3895, -0.1106, -0.261, 0.0147, 0.0781, 0.1268, -0.2042, -0.2278, 0.5096, 0.1539, -0.3515, -0.0102, -0.7003, -0.3872, -0.1668, -0.2405, -0.0766, 0.1396, -0.0592, -0.1568, -0.1606, -0.1371, -0.684, -0.2549, -0.1541, 0.1536, 0.2715, 0.3342]))]"
            ]
          },
          "execution_count": 35,
          "metadata": {},
          "output_type": "execute_result"
        }
      ]
    },
    {
      "cell_type": "code",
      "metadata": {
        "colab": {
          "base_uri": "https://localhost:8080/"
        },
        "id": "yMN2OwXlIPRF",
        "outputId": "5c6968cc-d517-4a4e-b4a1-601f22cac0ad"
      },
      "source": [
        "processed_w2v.select(\"features\").take(1)"
      ],
      "execution_count": null,
      "outputs": [
        {
          "data": {
            "text/plain": [
              "[Row(features=DenseVector([-0.1557, 0.196, 0.1099, -0.3089, 0.16, 0.1672, -0.4649, -0.1101, -0.053, -0.1551, 0.0327, 0.0772, 0.1494, -0.1865, 0.1155, -0.0597, 0.0234, -0.0451, 0.2361, -0.0089, 0.3358, 0.0444, 0.0088, -0.1453, 0.2289, 0.0914, -0.1665, -0.3726, 0.1892, 0.121, 0.1993, -0.0239, -0.1346, 0.1159, 0.2086, 0.1285, 0.068, 0.1372, 0.3153, -0.1934, 0.0257, -0.226, -0.0984, 0.1139, 0.1413, -0.3743, 0.072, 0.1403, 0.251, -0.3106, 0.1709, -0.0697, -0.0554, 0.5123, -0.1873, -1.7784, 0.0295, 0.1014, 0.9268, 0.2129, -0.1354, 0.5739, -0.0679, 0.461, 0.4216, 0.0225, 0.4456, -0.2462, 0.1411, -0.3258, 0.0025, 0.0114, -0.3895, -0.1106, -0.261, 0.0147, 0.0781, 0.1268, -0.2042, -0.2278, 0.5096, 0.1539, -0.3515, -0.0102, -0.7003, -0.3872, -0.1668, -0.2405, -0.0766, 0.1396, -0.0592, -0.1568, -0.1606, -0.1371, -0.684, -0.2549, -0.1541, 0.1536, 0.2715, 0.3342]))]"
            ]
          },
          "execution_count": 36,
          "metadata": {},
          "output_type": "execute_result"
        }
      ]
    },
    {
      "cell_type": "code",
      "metadata": {
        "colab": {
          "base_uri": "https://localhost:8080/"
        },
        "id": "ViXxQrhSIPRH",
        "outputId": "0f3cf19d-beae-49a2-9bdf-db34071cedda"
      },
      "source": [
        "processed_w2v.select('description','features','label').show()\n"
      ],
      "execution_count": null,
      "outputs": [
        {
          "name": "stdout",
          "output_type": "stream",
          "text": [
            "+--------------------+--------------------+-----+\n",
            "|         description|            features|label|\n",
            "+--------------------+--------------------+-----+\n",
            "| Short sellers, W...|[-0.1556767076253...|  0.0|\n",
            "| Private investme...|[-0.0144653050228...|  0.0|\n",
            "| Soaring crude pr...|[0.10348732769489...|  0.0|\n",
            "| Authorities have...|[-0.0355810523033...|  0.0|\n",
            "| Tearaway world o...|[0.00647281948477...|  0.0|\n",
            "| Stocks ended sli...|[0.20069395005702...|  0.0|\n",
            "| Assets of the na...|[0.38012433052062...|  0.0|\n",
            "| Retail sales bou...|[0.20352847874164...|  0.0|\n",
            "|\" After earning a...|[0.13536226749420...|  0.0|\n",
            "| Short sellers, W...|[-0.1556767076253...|  0.0|\n",
            "| Soaring crude pr...|[0.10348732769489...|  0.0|\n",
            "| OPEC can do noth...|[0.20307321846485...|  0.0|\n",
            "| Non OPEC oil exp...|[0.09010648727416...|  0.0|\n",
            "| WASHINGTON/NEW Y...|[0.10887209326028...|  0.0|\n",
            "| The dollar tumbl...|[0.05723679438233...|  0.0|\n",
            "|If you think you ...|[0.11463439464569...|  0.0|\n",
            "|The purchasing po...|[0.05890964344143...|  0.0|\n",
            "|There is little c...|[0.11162020266056...|  0.0|\n",
            "|The US trade defi...|[0.09235177189111...|  0.0|\n",
            "|Oil giant Shell c...|[0.01885983347892...|  0.0|\n",
            "+--------------------+--------------------+-----+\n",
            "only showing top 20 rows\n",
            "\n"
          ]
        }
      ]
    },
    {
      "cell_type": "code",
      "metadata": {
        "colab": {
          "base_uri": "https://localhost:8080/"
        },
        "id": "Vx__5MOLIPRK",
        "outputId": "9897ca65-2272-45dd-b2a2-51494d171635"
      },
      "source": [
        "# set seed for reproducibility\n",
        "(trainingData, testData) = processed_w2v.randomSplit([0.7, 0.3], seed = 100)\n",
        "print(\"Training Dataset Count: \" + str(trainingData.count()))\n",
        "print(\"Test Dataset Count: \" + str(testData.count()))"
      ],
      "execution_count": null,
      "outputs": [
        {
          "name": "stdout",
          "output_type": "stream",
          "text": [
            "Training Dataset Count: 84003\n",
            "Test Dataset Count: 35997\n"
          ]
        }
      ]
    },
    {
      "cell_type": "code",
      "metadata": {
        "id": "FK6x3ljGIPRO"
      },
      "source": [
        "from pyspark.sql.functions import udf\n",
        "\n",
        "@udf(\"long\")\n",
        "def num_nonzeros(v):\n",
        "    return v.numNonzeros()\n",
        "\n",
        "testData = testData.where(num_nonzeros(\"features\") != 0)"
      ],
      "execution_count": null,
      "outputs": []
    },
    {
      "cell_type": "code",
      "metadata": {
        "id": "jdbLwEsnIPRR"
      },
      "source": [
        "lrModel_w2v = lr.fit(trainingData)"
      ],
      "execution_count": null,
      "outputs": []
    },
    {
      "cell_type": "code",
      "metadata": {
        "colab": {
          "base_uri": "https://localhost:8080/"
        },
        "id": "FoSYCqDjIPRT",
        "outputId": "f292619b-c170-442d-cece-39ec39b08cda"
      },
      "source": [
        "predictions_w2v = lrModel_w2v.transform(testData)\n",
        "\n",
        "predictions_w2v.select(\"description\",\"category\",\"probability\",\"label\",\"prediction\") \\\n",
        "    .orderBy(\"probability\", ascending=False) \\\n",
        "    .show(n = 10, truncate = 30)\n"
      ],
      "execution_count": null,
      "outputs": [
        {
          "name": "stdout",
          "output_type": "stream",
          "text": [
            "+------------------------------+--------+------------------------------+-----+----------+\n",
            "|                   description|category|                   probability|label|prediction|\n",
            "+------------------------------+--------+------------------------------+-----+----------+\n",
            "|Wachovia Corp. said Friday ...|Business|[0.9913215821636622,0.00663...|  0.0|       0.0|\n",
            "|THE stock market is rising,...|Business|[0.9906799512485994,0.00468...|  0.0|       0.0|\n",
            "| Stocks fell on Monday, wit...|Business|[0.98850519484617,0.0074917...|  0.0|       0.0|\n",
            "|Japan #39;s Nikkei 225 Stoc...|Business|[0.9868177822905496,0.00578...|  0.0|       0.0|\n",
            "| US investment banking gian...|Business|[0.9857549103758166,0.01041...|  0.0|       0.0|\n",
            "| Goldman Sachs Group Inc. o...|Business|[0.9846323193133037,0.00864...|  0.0|       0.0|\n",
            "| ChevronTexaco Corp., the N...|Business|[0.9844688742952145,0.01092...|  0.0|       0.0|\n",
            "| Tokyo stocks opened lower ...|Business|[0.9842067279057396,0.00566...|  0.0|       0.0|\n",
            "|  Shares of rival retailers...|Business|[0.9842036747812569,0.01030...|  0.0|       0.0|\n",
            "| Countrywide Financial Corp...|Business|[0.9823269382508296,0.01270...|  0.0|       0.0|\n",
            "+------------------------------+--------+------------------------------+-----+----------+\n",
            "only showing top 10 rows\n",
            "\n"
          ]
        }
      ]
    },
    {
      "cell_type": "code",
      "metadata": {
        "colab": {
          "base_uri": "https://localhost:8080/"
        },
        "id": "P2WQ3rZmIPRX",
        "outputId": "29213ef2-92b7-4483-91ab-3a1880d269cb"
      },
      "source": [
        "y_true = predictions_w2v.select(\"label\")\n",
        "y_true = y_true.toPandas()\n",
        "\n",
        "y_pred = predictions_w2v.select(\"prediction\")\n",
        "y_pred = y_pred.toPandas()\n",
        "\n",
        "print(classification_report(y_true.label, y_pred.prediction))\n",
        "print(accuracy_score(y_true.label, y_pred.prediction))"
      ],
      "execution_count": null,
      "outputs": [
        {
          "name": "stdout",
          "output_type": "stream",
          "text": [
            "              precision    recall  f1-score   support\n",
            "\n",
            "         0.0       0.82      0.83      0.82      9051\n",
            "         1.0       0.83      0.80      0.82      9057\n",
            "         2.0       0.93      0.96      0.94      8972\n",
            "         3.0       0.87      0.87      0.87      8917\n",
            "\n",
            "    accuracy                           0.86     35997\n",
            "   macro avg       0.86      0.86      0.86     35997\n",
            "weighted avg       0.86      0.86      0.86     35997\n",
            "\n",
            "0.8641553462788566\n"
          ]
        }
      ]
    },
    {
      "cell_type": "code",
      "metadata": {
        "colab": {
          "base_uri": "https://localhost:8080/"
        },
        "id": "idNRXJJiIPRa",
        "outputId": "13bf1260-936b-4330-fb58-13cc0a0fe485"
      },
      "source": [
        "processed_w2v.select('description','cleanTokens.result').show(truncate=50)"
      ],
      "execution_count": null,
      "outputs": [
        {
          "name": "stdout",
          "output_type": "stream",
          "text": [
            "+--------------------------------------------------+--------------------------------------------------+\n",
            "|                                       description|                                            result|\n",
            "+--------------------------------------------------+--------------------------------------------------+\n",
            "| Short sellers, Wall Street's dwindling band of...|[Short, sellers, Wall, Streets, dwindling, band...|\n",
            "| Private investment firm Carlyle Group, which h...|[Private, investment, firm, Carlyle, Group, rep...|\n",
            "| Soaring crude prices plus worries about the ec...|[Soaring, crude, prices, plus, worries, economy...|\n",
            "| Authorities have halted oil export flows from ...|[Authorities, halted, oil, export, flows, main,...|\n",
            "| Tearaway world oil prices, toppling records an...|[Tearaway, world, oil, prices, toppling, record...|\n",
            "| Stocks ended slightly higher on Friday but sta...|[Stocks, ended, slightly, higher, Friday, staye...|\n",
            "| Assets of the nation's retail money market mut...|[Assets, nations, retail, money, market, mutual...|\n",
            "| Retail sales bounced back a bit in July, and n...|[Retail, sales, bounced, back, bit, July, new, ...|\n",
            "|\" After earning a PH.D. in Sociology, Danny Baz...|[earning, PHD, Sociology, Danny, Bazil, Riley, ...|\n",
            "| Short sellers, Wall Street's dwindling  band o...|[Short, sellers, Wall, Streets, dwindling, band...|\n",
            "| Soaring crude prices plus worries  about the e...|[Soaring, crude, prices, plus, worries, economy...|\n",
            "| OPEC can do nothing to douse scorching  oil pr...|[OPEC, nothing, douse, scorching, oil, prices, ...|\n",
            "| Non OPEC oil exporters should consider  increa...|[Non, OPEC, oil, exporters, consider, increasin...|\n",
            "| WASHINGTON/NEW YORK (Reuters) - The auction fo...|[WASHINGTONNEW, YORK, Reuters, auction, Google,...|\n",
            "| The dollar tumbled broadly on Friday  after da...|[dollar, tumbled, broadly, Friday, data, showin...|\n",
            "|If you think you may need to help your elderly ...|[think, may, need, help, elderly, relatives, fi...|\n",
            "|The purchasing power of kids is a big part of w...|[purchasing, power, kids, big, part, backtoscho...|\n",
            "|There is little cause for celebration in the st...|[little, cause, celebration, stock, market, day...|\n",
            "|The US trade deficit has exploded 19 to a recor...|[US, trade, deficit, exploded, record, bn, oil,...|\n",
            "|Oil giant Shell could be bracing itself for a t...|[Oil, giant, Shell, bracing, takeover, attempt,...|\n",
            "+--------------------------------------------------+--------------------------------------------------+\n",
            "only showing top 20 rows\n",
            "\n"
          ]
        }
      ]
    },
    {
      "cell_type": "markdown",
      "metadata": {
        "id": "-6X5ppwOIPRf"
      },
      "source": [
        "## LogReg with Spark NLP Bert Embeddings"
      ]
    },
    {
      "cell_type": "code",
      "metadata": {
        "colab": {
          "base_uri": "https://localhost:8080/"
        },
        "id": "xdF5eFJcIPRf",
        "outputId": "15e961e5-b597-4adf-8b1a-47c6e14d0b1b"
      },
      "source": [
        "document_assembler = DocumentAssembler() \\\n",
        "      .setInputCol(\"description\") \\\n",
        "      .setOutputCol(\"document\")\n",
        "    \n",
        "tokenizer = Tokenizer() \\\n",
        "      .setInputCols([\"document\"]) \\\n",
        "      .setOutputCol(\"token\")\n",
        "    \n",
        "normalizer = Normalizer() \\\n",
        "      .setInputCols([\"token\"]) \\\n",
        "      .setOutputCol(\"normalized\")\n",
        "\n",
        "stopwords_cleaner = StopWordsCleaner()\\\n",
        "      .setInputCols(\"normalized\")\\\n",
        "      .setOutputCol(\"cleanTokens\")\\\n",
        "      .setCaseSensitive(False)\n",
        "\n",
        "bert_embeddings = BertEmbeddings.pretrained('bert_base_cased', 'en') \\\n",
        "      .setInputCols([\"document\",'cleanTokens'])\\\n",
        "      .setOutputCol(\"bert\")\\\n",
        "      .setCaseSensitive(False)\\\n",
        "\n",
        "embeddingsSentence = SentenceEmbeddings() \\\n",
        "      .setInputCols([\"document\", \"bert\"]) \\\n",
        "      .setOutputCol(\"sentence_embeddings\") \\\n",
        "      .setPoolingStrategy(\"AVERAGE\")\n",
        "    \n",
        "embeddings_finisher = EmbeddingsFinisher() \\\n",
        "      .setInputCols([\"sentence_embeddings\"]) \\\n",
        "      .setOutputCols([\"finished_sentence_embeddings\"]) \\\n",
        "      .setOutputAsVector(True)\\\n",
        "      .setCleanAnnotations(False)\n",
        "\n",
        "label_stringIdx = StringIndexer(inputCol = \"category\", outputCol = \"label\")\n",
        "\n",
        "\n",
        "nlp_pipeline_bert = Pipeline(\n",
        "    stages=[document_assembler, \n",
        "            tokenizer,\n",
        "            normalizer,\n",
        "            stopwords_cleaner, \n",
        "            bert_embeddings,\n",
        "            embeddingsSentence,\n",
        "            embeddings_finisher,\n",
        "            label_stringIdx])\n",
        "\n",
        "nlp_model_bert = nlp_pipeline_bert.fit(newsDF)\n",
        "\n",
        "processed_bert = nlp_model_bert.transform(newsDF)\n",
        "\n",
        "processed_bert.count()\n"
      ],
      "execution_count": null,
      "outputs": [
        {
          "name": "stdout",
          "output_type": "stream",
          "text": [
            "bert_base_cased download started this may take some time.\n",
            "Approximate size to download 389.1 MB\n",
            "[OK!]\n"
          ]
        }
      ]
    },
    {
      "cell_type": "code",
      "metadata": {
        "id": "nVhD9f5-8jxZ",
        "outputId": "d4dd71db-0b10-4851-bf15-da13553578c7"
      },
      "source": [
        "from pyspark.sql.functions import explode\n",
        "\n",
        "processed_bert= processed_bert.withColumn(\"features\", explode(processed_bert.finished_sentence_embeddings))\n",
        "\n",
        "processed_bert.select('description','features','label').show()\n"
      ],
      "execution_count": null,
      "outputs": [
        {
          "name": "stdout",
          "output_type": "stream",
          "text": [
            "+--------------------+--------------------+-----+\n",
            "|         description|            features|label|\n",
            "+--------------------+--------------------+-----+\n",
            "|Srinagar, Nov 6 (...|[-0.0763546451926...|  2.0|\n",
            "|France's presiden...|[0.01601043716073...|  2.0|\n",
            "|President  Bush s...|[0.11258428543806...|  2.0|\n",
            "|Established Shiit...|[0.09958435595035...|  2.0|\n",
            "|While Democrats p...|[-0.3666543066501...|  2.0|\n",
            "|Rural and deprive...|[0.08482994884252...|  1.0|\n",
            "| Terrell Owens is...|[-0.1571628898382...|  3.0|\n",
            "|\" Gov. Ed Rendell...|[-0.0437468327581...|  3.0|\n",
            "| A month after a ...|[-0.1684152632951...|  3.0|\n",
            "| No Diana Taurasi...|[-0.0047841807827...|  3.0|\n",
            "| An upbeat Presid...|[0.15349867939949...|  2.0|\n",
            "| Gay and lesbian ...|[0.17594610154628...|  2.0|\n",
            "| Twenty three peo...|[-0.0070635229349...|  2.0|\n",
            "|  Connecticut Att...|[0.13604542613029...|  0.0|\n",
            "|A new report on g...|[0.07444920390844...|  1.0|\n",
            "|That Michael Siew...|[0.23243072628974...|  1.0|\n",
            "|Vice chairman of ...|[-0.2215369194746...|  1.0|\n",
            "|It #39;s good to ...|[-0.0571924299001...|  1.0|\n",
            "|Jacques Santini #...|[-0.1171142607927...|  3.0|\n",
            "|Chelsea have gone...|[-0.0265568681061...|  3.0|\n",
            "+--------------------+--------------------+-----+\n",
            "only showing top 20 rows\n",
            "\n"
          ]
        }
      ]
    },
    {
      "cell_type": "code",
      "metadata": {
        "id": "LZNDl7Q68nVb",
        "outputId": "fbc3c603-d182-4362-8cd0-9d15e627ab08"
      },
      "source": [
        "# set seed for reproducibility\n",
        "(trainingData, testData) = processed_bert.randomSplit([0.7, 0.3], seed = 100)\n",
        "print(\"Training Dataset Count: \" + str(trainingData.count()))\n",
        "print(\"Test Dataset Count: \" + str(testData.count()))"
      ],
      "execution_count": null,
      "outputs": [
        {
          "name": "stdout",
          "output_type": "stream",
          "text": [
            "Training Dataset Count: 84045\n",
            "Test Dataset Count: 35955\n"
          ]
        }
      ]
    },
    {
      "cell_type": "code",
      "metadata": {
        "id": "kSe7wzqfIPRm"
      },
      "source": [
        "from pyspark.ml.classification import LogisticRegression\n",
        "\n",
        "lr = LogisticRegression(maxIter=20, regParam=0.3, elasticNetParam=0)\n",
        "\n",
        "lrModel = lr.fit(trainingData)\n"
      ],
      "execution_count": null,
      "outputs": []
    },
    {
      "cell_type": "code",
      "metadata": {
        "id": "gTRXE2TrIPRo"
      },
      "source": [
        "from pyspark.sql.functions import udf\n",
        "\n",
        "@udf(\"long\")\n",
        "def num_nonzeros(v):\n",
        "    return v.numNonzeros()\n",
        "\n",
        "testData = testData.where(num_nonzeros(\"features\") != 0)"
      ],
      "execution_count": null,
      "outputs": []
    },
    {
      "cell_type": "code",
      "metadata": {
        "id": "kNn47TTN8xQ1",
        "outputId": "7405ad27-d24a-4dfd-d52b-f44850ad8bab"
      },
      "source": [
        "predictions = lrModel.transform(testData)\n",
        "\n",
        "predictions.select(\"description\",\"category\",\"probability\",\"label\",\"prediction\") \\\n",
        "    .orderBy(\"probability\", ascending=False) \\\n",
        "    .show(n = 10, truncate = 30)\n"
      ],
      "execution_count": null,
      "outputs": [
        {
          "name": "stdout",
          "output_type": "stream",
          "text": [
            "+------------------------------+--------+------------------------------+-----+----------+\n",
            "|                   description|category|                   probability|label|prediction|\n",
            "+------------------------------+--------+------------------------------+-----+----------+\n",
            "|The Securities and Exchange...|Business|[0.9967407593636138,0.00300...|  0.0|       0.0|\n",
            "|Stocks opened higher today,...|Business|[0.9928207319563264,0.00469...|  0.0|       0.0|\n",
            "| Retailer Payless ShoeSourc...|Business|[0.9926546087578139,0.00674...|  0.0|       0.0|\n",
            "|The insurance brokerage rep...|Business|[0.9917833732987117,0.00754...|  0.0|       0.0|\n",
            "|Shell outlined a profit str...|Business|[0.9916303454148256,0.00808...|  0.0|       0.0|\n",
            "| Countrywide Financial Corp...|Business|[0.9916172364634749,0.00514...|  0.0|       0.0|\n",
            "|PITTSBURGH Mellon Financial...|Business|[0.9915578428166462,0.00799...|  0.0|       0.0|\n",
            "|  Grocery wholesaler Flemin...|Business|[0.9915445608575104,0.00766...|  0.0|       0.0|\n",
            "|Mark Headley, who manages t...|Business|[0.9913036366415715,0.00795...|  0.0|       0.0|\n",
            "|Stocks fell for the second ...|Business|[0.9911328913959282,0.00419...|  0.0|       0.0|\n",
            "+------------------------------+--------+------------------------------+-----+----------+\n",
            "only showing top 10 rows\n",
            "\n"
          ]
        }
      ]
    },
    {
      "cell_type": "code",
      "metadata": {
        "id": "buAz91hDIPRs",
        "outputId": "51a6dc2a-9fdb-4ed4-c254-38a4b18b843f"
      },
      "source": [
        "from sklearn.metrics import confusion_matrix, classification_report, accuracy_score\n",
        "import pandas as pd\n",
        "\n",
        "df = predictions.select('description','category','label','prediction').toPandas()\n",
        "\n",
        "print(classification_report(df.label, df.prediction))\n",
        "print(accuracy_score(df.label, df.prediction))"
      ],
      "execution_count": null,
      "outputs": [
        {
          "name": "stdout",
          "output_type": "stream",
          "text": [
            "              precision    recall  f1-score   support\n",
            "\n",
            "         0.0       0.82      0.79      0.80      8911\n",
            "         1.0       0.81      0.80      0.81      8972\n",
            "         2.0       0.84      0.86      0.85      9008\n",
            "         3.0       0.90      0.94      0.92      9063\n",
            "\n",
            "    accuracy                           0.85     35954\n",
            "   macro avg       0.84      0.85      0.84     35954\n",
            "weighted avg       0.84      0.85      0.85     35954\n",
            "\n",
            "0.8459142237303221\n"
          ]
        }
      ]
    },
    {
      "cell_type": "markdown",
      "metadata": {
        "id": "tSCxUSkmIPRu"
      },
      "source": [
        "## LogReg with ELMO Embeddings"
      ]
    },
    {
      "cell_type": "code",
      "metadata": {
        "colab": {
          "base_uri": "https://localhost:8080/"
        },
        "id": "L_pCzKheIPRv",
        "outputId": "9ac9c2ce-95e7-41e9-85bd-f8baa0f751a8"
      },
      "source": [
        "%%time\n",
        "\n",
        "document_assembler = DocumentAssembler() \\\n",
        "      .setInputCol(\"description\") \\\n",
        "      .setOutputCol(\"document\")\n",
        "    \n",
        "tokenizer = Tokenizer() \\\n",
        "      .setInputCols([\"document\"]) \\\n",
        "      .setOutputCol(\"token\")\n",
        "    \n",
        "normalizer = Normalizer() \\\n",
        "      .setInputCols([\"token\"]) \\\n",
        "      .setOutputCol(\"normalized\")\n",
        "\n",
        "stopwords_cleaner = StopWordsCleaner()\\\n",
        "      .setInputCols(\"normalized\")\\\n",
        "      .setOutputCol(\"cleanTokens\")\\\n",
        "      .setCaseSensitive(False)\n",
        "\n",
        "elmo_embeddings = ElmoEmbeddings.pretrained()\\\n",
        "      .setPoolingLayer(\"word_emb\")\\\n",
        "      .setInputCols([\"document\",'cleanTokens'])\\\n",
        "      .setOutputCol(\"elmo\")\n",
        "\n",
        "embeddingsSentence = SentenceEmbeddings() \\\n",
        "      .setInputCols([\"document\", \"elmo\"]) \\\n",
        "      .setOutputCol(\"sentence_embeddings\") \\\n",
        "      .setPoolingStrategy(\"AVERAGE\")\n",
        "    \n",
        "embeddings_finisher = EmbeddingsFinisher() \\\n",
        "      .setInputCols([\"sentence_embeddings\"]) \\\n",
        "      .setOutputCols([\"finished_sentence_embeddings\"]) \\\n",
        "      .setOutputAsVector(True)\\\n",
        "      .setCleanAnnotations(False)\n",
        "\n",
        "label_stringIdx = StringIndexer(inputCol = \"category\", outputCol = \"label\")\n",
        "\n",
        "\n",
        "nlp_pipeline_elmo = Pipeline(\n",
        "    stages=[document_assembler, \n",
        "            tokenizer,\n",
        "            normalizer,\n",
        "            stopwords_cleaner, \n",
        "            elmo_embeddings,\n",
        "            embeddingsSentence,\n",
        "            embeddings_finisher,\n",
        "            label_stringIdx])\n",
        "\n",
        "nlp_model_elmo = nlp_pipeline_elmo.fit(newsDF)\n",
        "\n",
        "processed_elmo = nlp_model_elmo.transform(newsDF)\n",
        "\n",
        "processed_elmo.count()\n"
      ],
      "execution_count": null,
      "outputs": [
        {
          "name": "stdout",
          "output_type": "stream",
          "text": [
            "elmo download started this may take some time.\n",
            "Approximate size to download 334.1 MB\n",
            "[OK!]\n",
            "CPU times: user 453 ms, sys: 67.9 ms, total: 521 ms\n",
            "Wall time: 45.9 s\n"
          ]
        }
      ]
    },
    {
      "cell_type": "code",
      "metadata": {
        "id": "3vk7XGN5IPRx"
      },
      "source": [
        "(trainingData, testData) = newsDF.randomSplit([0.7, 0.3], seed = 100)"
      ],
      "execution_count": null,
      "outputs": []
    },
    {
      "cell_type": "code",
      "metadata": {
        "colab": {
          "base_uri": "https://localhost:8080/"
        },
        "id": "q-VCL5iOIPRz",
        "outputId": "62dd577d-8ea4-44c2-92b6-b5892d71f8da"
      },
      "source": [
        "processed_trainingData = nlp_model_elmo.transform(trainingData)\n",
        "\n",
        "processed_trainingData.count()"
      ],
      "execution_count": null,
      "outputs": [
        {
          "data": {
            "text/plain": [
              "84003"
            ]
          },
          "execution_count": 10,
          "metadata": {},
          "output_type": "execute_result"
        }
      ]
    },
    {
      "cell_type": "code",
      "metadata": {
        "colab": {
          "base_uri": "https://localhost:8080/"
        },
        "id": "QLxq_udOIPR1",
        "outputId": "a0a21ea3-4c4a-4c14-ea5f-7099abace845"
      },
      "source": [
        "processed_testData = nlp_model_elmo.transform(testData)\n",
        "\n",
        "processed_testData.count()"
      ],
      "execution_count": null,
      "outputs": [
        {
          "data": {
            "text/plain": [
              "35997"
            ]
          },
          "execution_count": 11,
          "metadata": {},
          "output_type": "execute_result"
        }
      ]
    },
    {
      "cell_type": "code",
      "metadata": {
        "colab": {
          "base_uri": "https://localhost:8080/"
        },
        "id": "hWqgBJmKIPR2",
        "outputId": "acacca07-6fb2-438c-d970-366dd1fabb69"
      },
      "source": [
        "processed_trainingData.columns"
      ],
      "execution_count": null,
      "outputs": [
        {
          "data": {
            "text/plain": [
              "['category',\n",
              " 'description',\n",
              " 'document',\n",
              " 'token',\n",
              " 'normalized',\n",
              " 'cleanTokens',\n",
              " 'elmo',\n",
              " 'sentence_embeddings',\n",
              " 'finished_sentence_embeddings',\n",
              " 'label']"
            ]
          },
          "execution_count": 12,
          "metadata": {},
          "output_type": "execute_result"
        }
      ]
    },
    {
      "cell_type": "code",
      "metadata": {
        "id": "V3W9kceqIPR4"
      },
      "source": [
        "from pyspark.sql.functions import explode\n",
        "\n",
        "processed_testData= processed_testData.withColumn(\"features\", explode(processed_testData.finished_sentence_embeddings))\n",
        "\n",
        "processed_trainingData= processed_trainingData.withColumn(\"features\", explode(processed_trainingData.finished_sentence_embeddings))\n"
      ],
      "execution_count": null,
      "outputs": []
    },
    {
      "cell_type": "code",
      "metadata": {
        "id": "hY8z7srJIPR6"
      },
      "source": [
        "from pyspark.sql.functions import udf\n",
        "\n",
        "@udf(\"long\")\n",
        "def num_nonzeros(v):\n",
        "    return v.numNonzeros()\n",
        "\n",
        "processed_testData = processed_testData.where(num_nonzeros(\"features\") != 0)"
      ],
      "execution_count": null,
      "outputs": []
    },
    {
      "cell_type": "code",
      "metadata": {
        "id": "lyqIOMbsIPR8"
      },
      "source": [
        "%%time\n",
        "\n",
        "from pyspark.ml.classification import LogisticRegression\n",
        "\n",
        "lr = LogisticRegression(maxIter=20, regParam=0.3, elasticNetParam=0)\n",
        "\n",
        "lrModel = lr.fit(processed_trainingData)\n"
      ],
      "execution_count": null,
      "outputs": []
    },
    {
      "cell_type": "code",
      "metadata": {
        "colab": {
          "base_uri": "https://localhost:8080/"
        },
        "id": "D04iWWPMIPR9",
        "outputId": "e9ab5418-4fcd-477a-f7c6-dd532288da29"
      },
      "source": [
        "processed_trainingData.columns"
      ],
      "execution_count": null,
      "outputs": [
        {
          "data": {
            "text/plain": [
              "['category',\n",
              " 'description',\n",
              " 'document',\n",
              " 'token',\n",
              " 'normalized',\n",
              " 'cleanTokens',\n",
              " 'elmo',\n",
              " 'sentence_embeddings',\n",
              " 'finished_sentence_embeddings',\n",
              " 'label',\n",
              " 'features']"
            ]
          },
          "execution_count": 20,
          "metadata": {},
          "output_type": "execute_result"
        }
      ]
    },
    {
      "cell_type": "code",
      "metadata": {
        "colab": {
          "base_uri": "https://localhost:8080/"
        },
        "id": "vS2_xs3ZIPSA",
        "outputId": "8c6ccf2e-bfb3-497e-bf40-f1cab425e3cc"
      },
      "source": [
        "predictions = lrModel.transform(processed_testData)\n",
        "\n",
        "predictions.select(\"description\",\"category\",\"probability\",\"label\",\"prediction\") \\\n",
        "    .orderBy(\"probability\", ascending=False) \\\n",
        "    .show(n = 10, truncate = 30)\n"
      ],
      "execution_count": null,
      "outputs": [
        {
          "name": "stdout",
          "output_type": "stream",
          "text": [
            "+------------------------------+--------+------------------------------+-----+----------+\n",
            "|                   description|category|                   probability|label|prediction|\n",
            "+------------------------------+--------+------------------------------+-----+----------+\n",
            "|\" Exxon Mobil Corp. &lt;A H...|Business|[0.9939721078213267,0.00381...|  0.0|       0.0|\n",
            "|\" Exxon Mobil Corp. &lt;A H...|Business|[0.9939721078213267,0.00381...|  0.0|       0.0|\n",
            "|The No. 2 U.S. oil company ...|Business|[0.993206810145737,0.004980...|  0.0|       0.0|\n",
            "| Falling oil prices and str...|   World|[0.9928307135475231,0.00668...|  3.0|       0.0|\n",
            "|\" Stocks fell sharply  on W...|Business|[0.992221027661138,0.004592...|  0.0|       0.0|\n",
            "| Kmart Holding Corporation,...|Business|[0.9912364576226587,0.00699...|  0.0|       0.0|\n",
            "|Wachovia Corp. said Friday ...|Business|[0.9911899633438094,0.00699...|  0.0|       0.0|\n",
            "|Lennar Corp., the No. 3 US ...|Business|[0.9907140587824232,0.00791...|  0.0|       0.0|\n",
            "|US stocks gained on optimis...|Business|[0.9903462415960996,0.00705...|  0.0|       0.0|\n",
            "| A bankruptcy judge gave US...|   World|[0.9894764458115368,0.00538...|  3.0|       0.0|\n",
            "+------------------------------+--------+------------------------------+-----+----------+\n",
            "only showing top 10 rows\n",
            "\n"
          ]
        }
      ]
    },
    {
      "cell_type": "code",
      "metadata": {
        "id": "P3lz8IFhIPSC"
      },
      "source": [
        "df = predictions.select('description','category','label','prediction').toPandas()"
      ],
      "execution_count": null,
      "outputs": []
    },
    {
      "cell_type": "code",
      "metadata": {
        "colab": {
          "base_uri": "https://localhost:8080/"
        },
        "id": "lrJtqnTcIPSD",
        "outputId": "067666a1-788e-4d44-872d-13a9bcc20bfb"
      },
      "source": [
        "df.shape"
      ],
      "execution_count": null,
      "outputs": [
        {
          "data": {
            "text/plain": [
              "(35997, 4)"
            ]
          },
          "execution_count": 19,
          "metadata": {},
          "output_type": "execute_result"
        }
      ]
    },
    {
      "cell_type": "code",
      "metadata": {
        "colab": {
          "base_uri": "https://localhost:8080/",
          "height": 202
        },
        "id": "7eEgmPDWIPSF",
        "outputId": "513b992d-d10f-43e1-eb37-2d0c02e530ec"
      },
      "source": [
        "df.head()"
      ],
      "execution_count": null,
      "outputs": [
        {
          "data": {
            "text/html": [
              "<div>\n",
              "<style scoped>\n",
              "    .dataframe tbody tr th:only-of-type {\n",
              "        vertical-align: middle;\n",
              "    }\n",
              "\n",
              "    .dataframe tbody tr th {\n",
              "        vertical-align: top;\n",
              "    }\n",
              "\n",
              "    .dataframe thead th {\n",
              "        text-align: right;\n",
              "    }\n",
              "</style>\n",
              "<table border=\"1\" class=\"dataframe\">\n",
              "  <thead>\n",
              "    <tr style=\"text-align: right;\">\n",
              "      <th></th>\n",
              "      <th>description</th>\n",
              "      <th>category</th>\n",
              "      <th>label</th>\n",
              "      <th>prediction</th>\n",
              "    </tr>\n",
              "  </thead>\n",
              "  <tbody>\n",
              "    <tr>\n",
              "      <th>0</th>\n",
              "      <td>10/22/04    The board of the Walt Disney Com...</td>\n",
              "      <td>Business</td>\n",
              "      <td>0.0</td>\n",
              "      <td>0.0</td>\n",
              "    </tr>\n",
              "    <tr>\n",
              "      <th>1</th>\n",
              "      <td>A closely watched barometer of future econom...</td>\n",
              "      <td>Business</td>\n",
              "      <td>0.0</td>\n",
              "      <td>0.0</td>\n",
              "    </tr>\n",
              "    <tr>\n",
              "      <th>2</th>\n",
              "      <td>A consortium led by Sony Corp. of America an...</td>\n",
              "      <td>Business</td>\n",
              "      <td>0.0</td>\n",
              "      <td>0.0</td>\n",
              "    </tr>\n",
              "    <tr>\n",
              "      <th>3</th>\n",
              "      <td>A federal appeals court agreed Tuesday to te...</td>\n",
              "      <td>Business</td>\n",
              "      <td>0.0</td>\n",
              "      <td>0.0</td>\n",
              "    </tr>\n",
              "    <tr>\n",
              "      <th>4</th>\n",
              "      <td>A federal bankruptcy judge ruled against Uni...</td>\n",
              "      <td>Business</td>\n",
              "      <td>0.0</td>\n",
              "      <td>0.0</td>\n",
              "    </tr>\n",
              "  </tbody>\n",
              "</table>\n",
              "</div>"
            ],
            "text/plain": [
              "                                         description  ... prediction\n",
              "0    10/22/04    The board of the Walt Disney Com...  ...        0.0\n",
              "1    A closely watched barometer of future econom...  ...        0.0\n",
              "2    A consortium led by Sony Corp. of America an...  ...        0.0\n",
              "3    A federal appeals court agreed Tuesday to te...  ...        0.0\n",
              "4    A federal bankruptcy judge ruled against Uni...  ...        0.0\n",
              "\n",
              "[5 rows x 4 columns]"
            ]
          },
          "execution_count": 20,
          "metadata": {},
          "output_type": "execute_result"
        }
      ]
    },
    {
      "cell_type": "code",
      "metadata": {
        "colab": {
          "base_uri": "https://localhost:8080/"
        },
        "id": "6JS3R3knIPSI",
        "outputId": "4e6f64d9-70b3-4f09-ccc8-affd43b694ee"
      },
      "source": [
        "from sklearn.metrics import classification_report, accuracy_score\n",
        "\n",
        "print(classification_report(df.label, df.prediction))\n",
        "print(accuracy_score(df.label, df.prediction))"
      ],
      "execution_count": null,
      "outputs": [
        {
          "name": "stdout",
          "output_type": "stream",
          "text": [
            "              precision    recall  f1-score   support\n",
            "\n",
            "         0.0       0.83      0.83      0.83      8977\n",
            "         1.0       0.84      0.82      0.83      8983\n",
            "         2.0       0.94      0.96      0.95      9116\n",
            "         3.0       0.87      0.87      0.87      8921\n",
            "\n",
            "    accuracy                           0.87     35997\n",
            "   macro avg       0.87      0.87      0.87     35997\n",
            "weighted avg       0.87      0.87      0.87     35997\n",
            "\n",
            "0.8702391865988832\n"
          ]
        }
      ]
    },
    {
      "cell_type": "markdown",
      "metadata": {
        "id": "8YpFN8zBIPSJ"
      },
      "source": [
        "## LogReg with Universal Sentence Encoder"
      ]
    },
    {
      "cell_type": "code",
      "metadata": {
        "colab": {
          "base_uri": "https://localhost:8080/"
        },
        "id": "Tcbxx22GHnel",
        "outputId": "2c34f9ee-59e5-4f2b-bc9d-d9ed326190cd"
      },
      "source": [
        "useEmbeddings = UniversalSentenceEncoder.pretrained()\\\n",
        "      .setInputCols(\"document\")\\\n",
        "      .setOutputCol(\"use_embeddings\")"
      ],
      "execution_count": null,
      "outputs": [
        {
          "name": "stdout",
          "output_type": "stream",
          "text": [
            "tfhub_use download started this may take some time.\n",
            "Approximate size to download 923.7 MB\n",
            "[OK!]\n"
          ]
        }
      ]
    },
    {
      "cell_type": "code",
      "metadata": {
        "id": "a4YxWiKdIPSK"
      },
      "source": [
        "document_assembler = DocumentAssembler() \\\n",
        "      .setInputCol(\"description\") \\\n",
        "      .setOutputCol(\"document\")\n",
        "\n",
        "loaded_useEmbeddings = UniversalSentenceEncoder.load('/root/cache_pretrained/tfhub_use_en_2.4.0_2.4_1587136330099')\\\n",
        "      .setInputCols(\"document\")\\\n",
        "      .setOutputCol(\"use_embeddings\")\n",
        "\n",
        "embeddings_finisher = EmbeddingsFinisher() \\\n",
        "      .setInputCols([\"use_embeddings\"]) \\\n",
        "      .setOutputCols([\"finished_use_embeddings\"]) \\\n",
        "      .setOutputAsVector(True)\\\n",
        "      .setCleanAnnotations(False)\n",
        "\n",
        "label_stringIdx = StringIndexer(inputCol = \"category\", outputCol = \"label\")\n",
        "\n",
        "use_pipeline = Pipeline(\n",
        "      stages=[\n",
        "        document_assembler,\n",
        "        loaded_useEmbeddings,\n",
        "        embeddings_finisher,\n",
        "        label_stringIdx]\n",
        "      )\n",
        "\n",
        "use_df = use_pipeline.fit(newsDF).transform(newsDF)"
      ],
      "execution_count": null,
      "outputs": []
    },
    {
      "cell_type": "code",
      "metadata": {
        "colab": {
          "base_uri": "https://localhost:8080/"
        },
        "id": "kbiA3moMIPSR",
        "outputId": "ba1e6020-c805-4103-9e55-11a9558e2c04"
      },
      "source": [
        "use_df.select('finished_use_embeddings').show(3)"
      ],
      "execution_count": null,
      "outputs": [
        {
          "name": "stdout",
          "output_type": "stream",
          "text": [
            "+-----------------------+\n",
            "|finished_use_embeddings|\n",
            "+-----------------------+\n",
            "|   [[0.0441501587629...|\n",
            "|   [[0.0844451710581...|\n",
            "|   [[0.0426647365093...|\n",
            "+-----------------------+\n",
            "only showing top 3 rows\n",
            "\n"
          ]
        }
      ]
    },
    {
      "cell_type": "code",
      "metadata": {
        "id": "9nI3EXthIPST"
      },
      "source": [
        "from pyspark.sql.functions import explode\n",
        "\n",
        "use_df= use_df.withColumn(\"features\", explode(use_df.finished_use_embeddings))"
      ],
      "execution_count": null,
      "outputs": []
    },
    {
      "cell_type": "code",
      "metadata": {
        "colab": {
          "base_uri": "https://localhost:8080/"
        },
        "id": "PD9vNF2KIPSV",
        "outputId": "22c1d36e-ae4d-4d3a-c061-2648f7faaa6c"
      },
      "source": [
        "use_df.show(2)"
      ],
      "execution_count": null,
      "outputs": [
        {
          "name": "stdout",
          "output_type": "stream",
          "text": [
            "+--------+--------------------+--------------------+--------------------+-----------------------+-----+--------------------+\n",
            "|category|         description|            document|      use_embeddings|finished_use_embeddings|label|            features|\n",
            "+--------+--------------------+--------------------+--------------------+-----------------------+-----+--------------------+\n",
            "|Business| Short sellers, W...|[{document, 0, 84...|[{sentence_embedd...|   [[0.0441501587629...|  0.0|[0.04415015876293...|\n",
            "|Business| Private investme...|[{document, 0, 20...|[{sentence_embedd...|   [[0.0844451710581...|  0.0|[0.08444517105817...|\n",
            "+--------+--------------------+--------------------+--------------------+-----------------------+-----+--------------------+\n",
            "only showing top 2 rows\n",
            "\n"
          ]
        }
      ]
    },
    {
      "cell_type": "code",
      "metadata": {
        "colab": {
          "base_uri": "https://localhost:8080/"
        },
        "id": "2_VHl1FFIPSX",
        "outputId": "6176b618-4f49-46be-8c7c-18bb75d4fd2d"
      },
      "source": [
        "# set seed for reproducibility\n",
        "(trainingData, testData) = use_df.randomSplit([0.7, 0.3], seed = 100)\n",
        "print(\"Training Dataset Count: \" + str(trainingData.count()))\n",
        "print(\"Test Dataset Count: \" + str(testData.count()))"
      ],
      "execution_count": null,
      "outputs": [
        {
          "name": "stdout",
          "output_type": "stream",
          "text": [
            "Training Dataset Count: 84003\n",
            "Test Dataset Count: 35997\n"
          ]
        }
      ]
    },
    {
      "cell_type": "code",
      "metadata": {
        "colab": {
          "base_uri": "https://localhost:8080/"
        },
        "id": "vIpDQAScIPSY",
        "outputId": "cb08790c-9f4c-4d06-8355-ca9614998cc2"
      },
      "source": [
        "from sklearn.metrics import confusion_matrix, classification_report, accuracy_score\n",
        "import pandas as pd\n",
        "\n",
        "from pyspark.ml.classification import LogisticRegression\n",
        "\n",
        "lr = LogisticRegression(maxIter=20, regParam=0.3, elasticNetParam=0)\n",
        "\n",
        "lrModel = lr.fit(trainingData)\n",
        "\n",
        "predictions = lrModel.transform(testData)\n",
        "\n",
        "predictions.filter(predictions['prediction'] == 0) \\\n",
        "    .select(\"description\",\"category\",\"probability\",\"label\",\"prediction\") \\\n",
        "    .orderBy(\"probability\", ascending=False) \\\n",
        "    .show(n = 10, truncate = 30)\n"
      ],
      "execution_count": null,
      "outputs": [
        {
          "name": "stdout",
          "output_type": "stream",
          "text": [
            "+------------------------------+--------+------------------------------+-----+----------+\n",
            "|                   description|category|                   probability|label|prediction|\n",
            "+------------------------------+--------+------------------------------+-----+----------+\n",
            "|Diversified manufacturer an...|Business|[0.9870168221810366,0.00767...|  0.0|       0.0|\n",
            "|\" U.S. stocks were slightly...|Business|[0.9854636033602667,0.00627...|  0.0|       0.0|\n",
            "|Kroger Co., the largest US ...|Business|[0.9836388739506516,0.00880...|  0.0|       0.0|\n",
            "| Kroger Co. , the largest U...|Business|[0.9834324406139637,0.00918...|  0.0|       0.0|\n",
            "|\" U.S. stocks opened lower ...|Business|[0.982904841073449,0.005598...|  0.0|       0.0|\n",
            "| Safeway Inc. , the third l...|Business|[0.9825831779393718,0.00979...|  0.0|       0.0|\n",
            "|Fannie Mae, the largest US ...|Business|[0.9820735503373615,0.01004...|  0.0|       0.0|\n",
            "|Prudential Financial Inc., ...|Business|[0.9815581867410127,0.01155...|  0.0|       0.0|\n",
            "|ExxonMobil Corp. and Royal ...|Business|[0.9812752301288651,0.00633...|  0.0|       0.0|\n",
            "|Costco Wholesale Corp., the...|Business|[0.9810571385550181,0.01072...|  0.0|       0.0|\n",
            "+------------------------------+--------+------------------------------+-----+----------+\n",
            "only showing top 10 rows\n",
            "\n"
          ]
        }
      ]
    },
    {
      "cell_type": "code",
      "metadata": {
        "id": "4NiPwWRmIPSa"
      },
      "source": [
        "df = predictions.select('description','category','label','prediction').toPandas()\n",
        "#df['result'] = df['result'].apply(lambda x: x[0])"
      ],
      "execution_count": null,
      "outputs": []
    },
    {
      "cell_type": "code",
      "metadata": {
        "colab": {
          "base_uri": "https://localhost:8080/",
          "height": 202
        },
        "id": "u4Q1XnpZIPSc",
        "outputId": "c9c4d3f7-bc70-4416-860b-2c2ed8bcad0e"
      },
      "source": [
        "df.head()"
      ],
      "execution_count": null,
      "outputs": [
        {
          "data": {
            "text/html": [
              "<div>\n",
              "<style scoped>\n",
              "    .dataframe tbody tr th:only-of-type {\n",
              "        vertical-align: middle;\n",
              "    }\n",
              "\n",
              "    .dataframe tbody tr th {\n",
              "        vertical-align: top;\n",
              "    }\n",
              "\n",
              "    .dataframe thead th {\n",
              "        text-align: right;\n",
              "    }\n",
              "</style>\n",
              "<table border=\"1\" class=\"dataframe\">\n",
              "  <thead>\n",
              "    <tr style=\"text-align: right;\">\n",
              "      <th></th>\n",
              "      <th>description</th>\n",
              "      <th>category</th>\n",
              "      <th>label</th>\n",
              "      <th>prediction</th>\n",
              "    </tr>\n",
              "  </thead>\n",
              "  <tbody>\n",
              "    <tr>\n",
              "      <th>0</th>\n",
              "      <td>10/22/04    The board of the Walt Disney Com...</td>\n",
              "      <td>Business</td>\n",
              "      <td>0.0</td>\n",
              "      <td>0.0</td>\n",
              "    </tr>\n",
              "    <tr>\n",
              "      <th>1</th>\n",
              "      <td>A closely watched barometer of future econom...</td>\n",
              "      <td>Business</td>\n",
              "      <td>0.0</td>\n",
              "      <td>0.0</td>\n",
              "    </tr>\n",
              "    <tr>\n",
              "      <th>2</th>\n",
              "      <td>A consortium led by Sony Corp. of America an...</td>\n",
              "      <td>Business</td>\n",
              "      <td>0.0</td>\n",
              "      <td>0.0</td>\n",
              "    </tr>\n",
              "    <tr>\n",
              "      <th>3</th>\n",
              "      <td>A federal appeals court agreed Tuesday to te...</td>\n",
              "      <td>Business</td>\n",
              "      <td>0.0</td>\n",
              "      <td>0.0</td>\n",
              "    </tr>\n",
              "    <tr>\n",
              "      <th>4</th>\n",
              "      <td>A federal bankruptcy judge ruled against Uni...</td>\n",
              "      <td>Business</td>\n",
              "      <td>0.0</td>\n",
              "      <td>0.0</td>\n",
              "    </tr>\n",
              "  </tbody>\n",
              "</table>\n",
              "</div>"
            ],
            "text/plain": [
              "                                         description  ... prediction\n",
              "0    10/22/04    The board of the Walt Disney Com...  ...        0.0\n",
              "1    A closely watched barometer of future econom...  ...        0.0\n",
              "2    A consortium led by Sony Corp. of America an...  ...        0.0\n",
              "3    A federal appeals court agreed Tuesday to te...  ...        0.0\n",
              "4    A federal bankruptcy judge ruled against Uni...  ...        0.0\n",
              "\n",
              "[5 rows x 4 columns]"
            ]
          },
          "execution_count": 15,
          "metadata": {},
          "output_type": "execute_result"
        }
      ]
    },
    {
      "cell_type": "code",
      "metadata": {
        "colab": {
          "base_uri": "https://localhost:8080/"
        },
        "id": "aEg_wD3oIPSe",
        "outputId": "d555119c-1eff-46cc-ca32-76b73b966de5"
      },
      "source": [
        "print(classification_report(df.label, df.prediction))\n",
        "print(accuracy_score(df.label, df.prediction))"
      ],
      "execution_count": null,
      "outputs": [
        {
          "name": "stdout",
          "output_type": "stream",
          "text": [
            "              precision    recall  f1-score   support\n",
            "\n",
            "         0.0       0.83      0.84      0.84      8977\n",
            "         1.0       0.85      0.85      0.85      8983\n",
            "         2.0       0.95      0.97      0.96      9116\n",
            "         3.0       0.90      0.88      0.89      8921\n",
            "\n",
            "    accuracy                           0.88     35997\n",
            "   macro avg       0.88      0.88      0.88     35997\n",
            "weighted avg       0.88      0.88      0.88     35997\n",
            "\n",
            "0.8845459343834209\n"
          ]
        }
      ]
    },
    {
      "cell_type": "markdown",
      "metadata": {
        "id": "bdODPjyzIPSf"
      },
      "source": [
        "### train on entire dataset"
      ]
    },
    {
      "cell_type": "code",
      "metadata": {
        "colab": {
          "background_save": true
        },
        "id": "LJu8ekkaIPSg"
      },
      "source": [
        "from pyspark.ml.classification import LogisticRegression\n",
        "\n",
        "lr = LogisticRegression(maxIter=20, regParam=0.3, elasticNetParam=0)\n",
        "\n",
        "lrModel = lr.fit(use_df)"
      ],
      "execution_count": null,
      "outputs": []
    },
    {
      "cell_type": "code",
      "metadata": {
        "id": "yo8sNiL4IPSh"
      },
      "source": [
        "test_df = spark.read.csv(\"/content/news_category_test.csv\")"
      ],
      "execution_count": null,
      "outputs": []
    },
    {
      "cell_type": "code",
      "metadata": {
        "id": "22hPNZ9jIPSi"
      },
      "source": [
        "test_df = use_pipeline.fit(test_df).transform(test_df)"
      ],
      "execution_count": null,
      "outputs": []
    },
    {
      "cell_type": "code",
      "metadata": {
        "id": "uSJt_s4qIPSj"
      },
      "source": [
        "test_df= test_df.withColumn(\"features\", explode(test_df.finished_use_embeddings))"
      ],
      "execution_count": null,
      "outputs": []
    },
    {
      "cell_type": "code",
      "metadata": {
        "id": "jdwGAMGC2sgP",
        "outputId": "78939058-e308-459b-84a9-e38d118870ea"
      },
      "source": [
        "test_df.show(2)"
      ],
      "execution_count": null,
      "outputs": [
        {
          "output_type": "stream",
          "text": [
            "+--------+--------------------+--------------------+--------------------+-----------------------+-----+--------------------+\n",
            "|category|         description|            document|      use_embeddings|finished_use_embeddings|label|            features|\n",
            "+--------+--------------------+--------------------+--------------------+-----------------------+-----+--------------------+\n",
            "|Business|Unions representi...|[[document, 0, 12...|[[sentence_embedd...|   [[0.0129975397139...|  1.0|[0.01299753971397...|\n",
            "|Sci/Tech| TORONTO, Canada ...|[[document, 0, 22...|[[sentence_embedd...|   [[0.0019999044016...|  0.0|[0.00199990440160...|\n",
            "+--------+--------------------+--------------------+--------------------+-----------------------+-----+--------------------+\n",
            "only showing top 2 rows\n",
            "\n"
          ],
          "name": "stdout"
        }
      ]
    },
    {
      "cell_type": "code",
      "metadata": {
        "id": "cG0FjtySIPSm"
      },
      "source": [
        "predictions = lrModel.transform(test_df)"
      ],
      "execution_count": null,
      "outputs": []
    },
    {
      "cell_type": "code",
      "metadata": {
        "id": "EnnF27fuIPSn"
      },
      "source": [
        "df = predictions.select('description','category','label','prediction').toPandas()"
      ],
      "execution_count": null,
      "outputs": []
    },
    {
      "cell_type": "code",
      "metadata": {
        "id": "daLNQqgAIPSp"
      },
      "source": [
        "df['label'] = df.category.replace({'World':2.0,\n",
        "                    'Sports':3.0,\n",
        "                    'Business':0.0,\n",
        "                    'Sci/Tech':1.0})"
      ],
      "execution_count": null,
      "outputs": []
    },
    {
      "cell_type": "code",
      "metadata": {
        "id": "XxOfQyu322b9",
        "outputId": "aae870ce-f6be-41b1-b89f-e99e39fd4900"
      },
      "source": [
        "df.head()"
      ],
      "execution_count": null,
      "outputs": [
        {
          "output_type": "execute_result",
          "data": {
            "text/html": [
              "<div>\n",
              "<style scoped>\n",
              "    .dataframe tbody tr th:only-of-type {\n",
              "        vertical-align: middle;\n",
              "    }\n",
              "\n",
              "    .dataframe tbody tr th {\n",
              "        vertical-align: top;\n",
              "    }\n",
              "\n",
              "    .dataframe thead th {\n",
              "        text-align: right;\n",
              "    }\n",
              "</style>\n",
              "<table border=\"1\" class=\"dataframe\">\n",
              "  <thead>\n",
              "    <tr style=\"text-align: right;\">\n",
              "      <th></th>\n",
              "      <th>description</th>\n",
              "      <th>category</th>\n",
              "      <th>label</th>\n",
              "      <th>prediction</th>\n",
              "    </tr>\n",
              "  </thead>\n",
              "  <tbody>\n",
              "    <tr>\n",
              "      <td>0</td>\n",
              "      <td>Unions representing workers at Turner   Newall...</td>\n",
              "      <td>Business</td>\n",
              "      <td>0.0</td>\n",
              "      <td>0.0</td>\n",
              "    </tr>\n",
              "    <tr>\n",
              "      <td>1</td>\n",
              "      <td>TORONTO, Canada    A second team of rocketeer...</td>\n",
              "      <td>Sci/Tech</td>\n",
              "      <td>1.0</td>\n",
              "      <td>1.0</td>\n",
              "    </tr>\n",
              "    <tr>\n",
              "      <td>2</td>\n",
              "      <td>A company founded by a chemistry researcher a...</td>\n",
              "      <td>Sci/Tech</td>\n",
              "      <td>1.0</td>\n",
              "      <td>1.0</td>\n",
              "    </tr>\n",
              "    <tr>\n",
              "      <td>3</td>\n",
              "      <td>It's barely dawn when Mike Fitzpatrick starts...</td>\n",
              "      <td>Sci/Tech</td>\n",
              "      <td>1.0</td>\n",
              "      <td>1.0</td>\n",
              "    </tr>\n",
              "    <tr>\n",
              "      <td>4</td>\n",
              "      <td>Southern California's smog fighting agency we...</td>\n",
              "      <td>Sci/Tech</td>\n",
              "      <td>1.0</td>\n",
              "      <td>0.0</td>\n",
              "    </tr>\n",
              "  </tbody>\n",
              "</table>\n",
              "</div>"
            ],
            "text/plain": [
              "                                         description  category  label  \\\n",
              "0  Unions representing workers at Turner   Newall...  Business    0.0   \n",
              "1   TORONTO, Canada    A second team of rocketeer...  Sci/Tech    1.0   \n",
              "2   A company founded by a chemistry researcher a...  Sci/Tech    1.0   \n",
              "3   It's barely dawn when Mike Fitzpatrick starts...  Sci/Tech    1.0   \n",
              "4   Southern California's smog fighting agency we...  Sci/Tech    1.0   \n",
              "\n",
              "   prediction  \n",
              "0         0.0  \n",
              "1         1.0  \n",
              "2         1.0  \n",
              "3         1.0  \n",
              "4         0.0  "
            ]
          },
          "metadata": {
            "tags": []
          },
          "execution_count": 61
        }
      ]
    },
    {
      "cell_type": "code",
      "metadata": {
        "id": "RRk8GwuQ26ej",
        "outputId": "a3c2f8e4-4fd9-415d-aaec-ce4472ad5f31"
      },
      "source": [
        "print(classification_report(df.label, df.prediction))\n",
        "print(accuracy_score(df.label, df.prediction))"
      ],
      "execution_count": null,
      "outputs": [
        {
          "output_type": "stream",
          "text": [
            "              precision    recall  f1-score   support\n",
            "\n",
            "         0.0       0.83      0.83      0.83      1900\n",
            "         1.0       0.84      0.85      0.85      1900\n",
            "         2.0       0.90      0.87      0.89      1900\n",
            "         3.0       0.95      0.97      0.96      1900\n",
            "\n",
            "    accuracy                           0.88      7600\n",
            "   macro avg       0.88      0.88      0.88      7600\n",
            "weighted avg       0.88      0.88      0.88      7600\n",
            "\n",
            "0.8798684210526316\n"
          ],
          "name": "stdout"
        }
      ]
    },
    {
      "cell_type": "markdown",
      "metadata": {
        "id": "IY19YW8pIPSu"
      },
      "source": [
        "## Spark NLP Licensed DocClassifier"
      ]
    },
    {
      "cell_type": "code",
      "metadata": {
        "id": "66YJQISEIPSv"
      },
      "source": [
        "from sparknlp_jsl.annotator import *"
      ],
      "execution_count": null,
      "outputs": []
    },
    {
      "cell_type": "code",
      "metadata": {
        "id": "TMTo2hdh4VaD",
        "outputId": "e78543ca-8c0b-48ed-e531-4b27eab495de"
      },
      "source": [
        "# set seed for reproducibility\n",
        "(trainingData, testData) = newsDF.randomSplit([0.7, 0.3], seed = 100)\n",
        "print(\"Training Dataset Count: \" + str(trainingData.count()))\n",
        "print(\"Test Dataset Count: \" + str(testData.count()))"
      ],
      "execution_count": null,
      "outputs": [
        {
          "output_type": "stream",
          "text": [
            "Training Dataset Count: 84076\n",
            "Test Dataset Count: 35924\n"
          ],
          "name": "stdout"
        }
      ]
    },
    {
      "cell_type": "code",
      "metadata": {
        "id": "7H2wKO1N4ZkT",
        "outputId": "2affa89b-128f-4102-d1e2-8ac5ee57810b"
      },
      "source": [
        "document_assembler = DocumentAssembler() \\\n",
        "      .setInputCol(\"description\") \\\n",
        "      .setOutputCol(\"document\")\n",
        "    \n",
        "tokenizer = Tokenizer() \\\n",
        "      .setInputCols([\"document\"]) \\\n",
        "      .setOutputCol(\"token\")\n",
        "    \n",
        "normalizer = Normalizer() \\\n",
        "      .setInputCols([\"token\"]) \\\n",
        "      .setOutputCol(\"normalized\")\n",
        "\n",
        "stopwords_cleaner = StopWordsCleaner()\\\n",
        "      .setInputCols(\"normalized\")\\\n",
        "      .setOutputCol(\"cleanTokens\")\\\n",
        "      .setCaseSensitive(False)\n",
        "\n",
        "stemmer = Stemmer() \\\n",
        "      .setInputCols([\"cleanTokens\"]) \\\n",
        "      .setOutputCol(\"stem\")\n",
        "\n",
        "logreg = DocumentLogRegClassifierApproach()\\\n",
        "      .setInputCols([\"stem\"])\\\n",
        "      .setLabelCol(\"category\")\\\n",
        "      .setOutputCol(\"prediction\")\n",
        "\n",
        "nlp_pipeline = Pipeline(\n",
        "    stages=[document_assembler, \n",
        "            tokenizer,\n",
        "            normalizer,\n",
        "            stopwords_cleaner, \n",
        "            stemmer, \n",
        "            logreg])\n",
        "\n",
        "nlp_model = nlp_pipeline.fit(trainingData)\n",
        "\n",
        "processed = nlp_model.transform(testData)\n",
        "\n",
        "processed.count()"
      ],
      "execution_count": null,
      "outputs": [
        {
          "output_type": "execute_result",
          "data": {
            "text/plain": [
              "35923"
            ]
          },
          "metadata": {
            "tags": []
          },
          "execution_count": 28
        }
      ]
    },
    {
      "cell_type": "code",
      "metadata": {
        "id": "O4vyjEar4d86",
        "outputId": "1a70ea96-b440-4922-c742-34763f7aa965"
      },
      "source": [
        "processed.select('description','category','prediction.result').show(truncate=50)"
      ],
      "execution_count": null,
      "outputs": [
        {
          "output_type": "stream",
          "text": [
            "+--------------------------------------------------+--------+----------+\n",
            "|                                       description|category|    result|\n",
            "+--------------------------------------------------+--------+----------+\n",
            "|  In a city where terror attacks and a massive ...|Business|[Business]|\n",
            "|  It sure isn #39;t the Goldilocks Economy of y...|Business|[Business]|\n",
            "|, 8/30/2004. With 90 nanometer chips now on the...|Business|[Sci/Tech]|\n",
            "|National Grid Transco, the Britain-based delive...|Business|[Business]|\n",
            "| quot;A person who has been cheated is left in ...|Sci/Tech|[Sci/Tech]|\n",
            "|\" In its ongoing war with SCO over Linux and Un...|Sci/Tech|[Sci/Tech]|\n",
            "|A bacteria-eating virus is the star of a new vi...|Sci/Tech|[Sci/Tech]|\n",
            "|Birdman of Belair Mathew Tekulsky waxes on the ...|Sci/Tech|[Sci/Tech]|\n",
            "|Computer maker sees to recover \\$8.6 million in...|Sci/Tech|[Sci/Tech]|\n",
            "|Hurricane Frances spared NASA #39;s depleted sh...|Sci/Tech|[Sci/Tech]|\n",
            "|In a study, the now-public search engine out-ra...|Sci/Tech|[Sci/Tech]|\n",
            "|New York, August 31: US technology executives a...|Sci/Tech|[Sci/Tech]|\n",
            "|Ordinary mice can be turned into marathon racer...|Sci/Tech|[Sci/Tech]|\n",
            "|Plagued by delays and cost overruns, a \\$5.1 bi...|Sci/Tech|  [Sports]|\n",
            "|Worldwide server revenue surpassed 11.5 billion...|Sci/Tech|[Sci/Tech]|\n",
            "| Aramis Ramirez hit a three run homer  as the C...|  Sports|  [Sports]|\n",
            "|After spending most of the spring and fall pres...|  Sports|  [Sports]|\n",
            "|Fani Halkia #39;s victory in the Olympics women...|  Sports|  [Sports]|\n",
            "| A military judge hearing evidence about the al...|   World|   [World]|\n",
            "| Israel plans to build more than 530  new settl...|   World|   [World]|\n",
            "+--------------------------------------------------+--------+----------+\n",
            "only showing top 20 rows\n",
            "\n"
          ],
          "name": "stdout"
        }
      ]
    },
    {
      "cell_type": "code",
      "metadata": {
        "id": "kqyiWbFzIPS2"
      },
      "source": [
        "from sklearn.metrics import confusion_matrix, classification_report, accuracy_score\n",
        "import pandas as pd"
      ],
      "execution_count": null,
      "outputs": []
    },
    {
      "cell_type": "code",
      "metadata": {
        "id": "iWVkVKcfIPS4"
      },
      "source": [
        "df = processed.select('description','category','prediction.result').toPandas()"
      ],
      "execution_count": null,
      "outputs": []
    },
    {
      "cell_type": "code",
      "metadata": {
        "id": "bb9xqu-k4nOK",
        "outputId": "e9d533c7-bdb6-407e-f797-127f86019d81"
      },
      "source": [
        "df.head()"
      ],
      "execution_count": null,
      "outputs": [
        {
          "output_type": "execute_result",
          "data": {
            "text/html": [
              "<div>\n",
              "<style scoped>\n",
              "    .dataframe tbody tr th:only-of-type {\n",
              "        vertical-align: middle;\n",
              "    }\n",
              "\n",
              "    .dataframe tbody tr th {\n",
              "        vertical-align: top;\n",
              "    }\n",
              "\n",
              "    .dataframe thead th {\n",
              "        text-align: right;\n",
              "    }\n",
              "</style>\n",
              "<table border=\"1\" class=\"dataframe\">\n",
              "  <thead>\n",
              "    <tr style=\"text-align: right;\">\n",
              "      <th></th>\n",
              "      <th>description</th>\n",
              "      <th>category</th>\n",
              "      <th>result</th>\n",
              "    </tr>\n",
              "  </thead>\n",
              "  <tbody>\n",
              "    <tr>\n",
              "      <td>0</td>\n",
              "      <td>In a city where terror attacks and a massive...</td>\n",
              "      <td>Business</td>\n",
              "      <td>[Business]</td>\n",
              "    </tr>\n",
              "    <tr>\n",
              "      <td>1</td>\n",
              "      <td>It sure isn #39;t the Goldilocks Economy of ...</td>\n",
              "      <td>Business</td>\n",
              "      <td>[Business]</td>\n",
              "    </tr>\n",
              "    <tr>\n",
              "      <td>2</td>\n",
              "      <td>, 8/30/2004. With 90 nanometer chips now on th...</td>\n",
              "      <td>Business</td>\n",
              "      <td>[Sci/Tech]</td>\n",
              "    </tr>\n",
              "    <tr>\n",
              "      <td>3</td>\n",
              "      <td>National Grid Transco, the Britain-based deliv...</td>\n",
              "      <td>Business</td>\n",
              "      <td>[Business]</td>\n",
              "    </tr>\n",
              "    <tr>\n",
              "      <td>4</td>\n",
              "      <td>quot;A person who has been cheated is left in...</td>\n",
              "      <td>Sci/Tech</td>\n",
              "      <td>[Sci/Tech]</td>\n",
              "    </tr>\n",
              "  </tbody>\n",
              "</table>\n",
              "</div>"
            ],
            "text/plain": [
              "                                         description  category      result\n",
              "0    In a city where terror attacks and a massive...  Business  [Business]\n",
              "1    It sure isn #39;t the Goldilocks Economy of ...  Business  [Business]\n",
              "2  , 8/30/2004. With 90 nanometer chips now on th...  Business  [Sci/Tech]\n",
              "3  National Grid Transco, the Britain-based deliv...  Business  [Business]\n",
              "4   quot;A person who has been cheated is left in...  Sci/Tech  [Sci/Tech]"
            ]
          },
          "metadata": {
            "tags": []
          },
          "execution_count": 40
        }
      ]
    },
    {
      "cell_type": "code",
      "metadata": {
        "id": "g-7h2C2G4qcr",
        "outputId": "f178b286-70d7-44b6-b4a5-e251538afc29"
      },
      "source": [
        "df.result[0][0]"
      ],
      "execution_count": null,
      "outputs": [
        {
          "output_type": "execute_result",
          "data": {
            "text/plain": [
              "'Business'"
            ]
          },
          "metadata": {
            "tags": []
          },
          "execution_count": 42
        }
      ]
    },
    {
      "cell_type": "code",
      "metadata": {
        "id": "N48rE1hAIPS8"
      },
      "source": [
        "df = processed.select('description','category','prediction.result').toPandas()\n",
        "df['result'] = df['result'].apply(lambda x: x[0])"
      ],
      "execution_count": null,
      "outputs": []
    },
    {
      "cell_type": "code",
      "metadata": {
        "id": "hHVzylB54vYU",
        "outputId": "824d5af8-36fa-4129-ea71-1cfb5ddaf06e"
      },
      "source": [
        "df.head()"
      ],
      "execution_count": null,
      "outputs": [
        {
          "output_type": "execute_result",
          "data": {
            "text/html": [
              "<div>\n",
              "<style scoped>\n",
              "    .dataframe tbody tr th:only-of-type {\n",
              "        vertical-align: middle;\n",
              "    }\n",
              "\n",
              "    .dataframe tbody tr th {\n",
              "        vertical-align: top;\n",
              "    }\n",
              "\n",
              "    .dataframe thead th {\n",
              "        text-align: right;\n",
              "    }\n",
              "</style>\n",
              "<table border=\"1\" class=\"dataframe\">\n",
              "  <thead>\n",
              "    <tr style=\"text-align: right;\">\n",
              "      <th></th>\n",
              "      <th>description</th>\n",
              "      <th>category</th>\n",
              "      <th>result</th>\n",
              "    </tr>\n",
              "  </thead>\n",
              "  <tbody>\n",
              "    <tr>\n",
              "      <td>0</td>\n",
              "      <td>In a city where terror attacks and a massive...</td>\n",
              "      <td>Business</td>\n",
              "      <td>Business</td>\n",
              "    </tr>\n",
              "    <tr>\n",
              "      <td>1</td>\n",
              "      <td>It sure isn #39;t the Goldilocks Economy of ...</td>\n",
              "      <td>Business</td>\n",
              "      <td>Business</td>\n",
              "    </tr>\n",
              "    <tr>\n",
              "      <td>2</td>\n",
              "      <td>, 8/30/2004. With 90 nanometer chips now on th...</td>\n",
              "      <td>Business</td>\n",
              "      <td>Sci/Tech</td>\n",
              "    </tr>\n",
              "    <tr>\n",
              "      <td>3</td>\n",
              "      <td>National Grid Transco, the Britain-based deliv...</td>\n",
              "      <td>Business</td>\n",
              "      <td>Business</td>\n",
              "    </tr>\n",
              "    <tr>\n",
              "      <td>4</td>\n",
              "      <td>quot;A person who has been cheated is left in...</td>\n",
              "      <td>Sci/Tech</td>\n",
              "      <td>Sci/Tech</td>\n",
              "    </tr>\n",
              "  </tbody>\n",
              "</table>\n",
              "</div>"
            ],
            "text/plain": [
              "                                         description  category    result\n",
              "0    In a city where terror attacks and a massive...  Business  Business\n",
              "1    It sure isn #39;t the Goldilocks Economy of ...  Business  Business\n",
              "2  , 8/30/2004. With 90 nanometer chips now on th...  Business  Sci/Tech\n",
              "3  National Grid Transco, the Britain-based deliv...  Business  Business\n",
              "4   quot;A person who has been cheated is left in...  Sci/Tech  Sci/Tech"
            ]
          },
          "metadata": {
            "tags": []
          },
          "execution_count": 44
        }
      ]
    },
    {
      "cell_type": "code",
      "metadata": {
        "id": "GGMuU-Or4zHT",
        "outputId": "b6932aa0-3389-466e-ceb9-c983f23ad3ba"
      },
      "source": [
        "df = processed.select('description','category','prediction.result').toPandas()\n",
        "df['result'] = df['result'].apply(lambda x: x[0])\n",
        "\n",
        "print(classification_report(df.category, df.result))\n",
        "print(accuracy_score(df.category, df.result))"
      ],
      "execution_count": null,
      "outputs": [
        {
          "output_type": "stream",
          "text": [
            "              precision    recall  f1-score   support\n",
            "\n",
            "    Business       0.82      0.82      0.82      8915\n",
            "    Sci/Tech       0.83      0.83      0.83      9018\n",
            "      Sports       0.94      0.93      0.93      9002\n",
            "       World       0.86      0.86      0.86      8988\n",
            "\n",
            "    accuracy                           0.86     35923\n",
            "   macro avg       0.86      0.86      0.86     35923\n",
            "weighted avg       0.86      0.86      0.86     35923\n",
            "\n",
            "0.8612588035520419\n"
          ],
          "name": "stdout"
        }
      ]
    },
    {
      "cell_type": "markdown",
      "metadata": {
        "id": "regAngWEIPTB"
      },
      "source": [
        "# ClassifierDL"
      ]
    },
    {
      "cell_type": "code",
      "metadata": {
        "id": "8RfV7lB_IPTB"
      },
      "source": [
        "# actual content is inside description column\n",
        "document = DocumentAssembler()\\\n",
        "    .setInputCol(\"description\")\\\n",
        "    .setOutputCol(\"document\")\n",
        "\n",
        "use = UniversalSentenceEncoder.load('/root/cache_pretrained/tfhub_use_en_2.4.4_2.4_1583158595769')\\\n",
        "    .setInputCols([\"document\"])\\\n",
        "    .setOutputCol(\"sentence_embeddings\")\n",
        "\n",
        "# the classes/labels/categories are in category column\n",
        "classsifierdl = ClassifierDLApproach()\\\n",
        "    .setInputCols([\"sentence_embeddings\"])\\\n",
        "    .setOutputCol(\"class\")\\\n",
        "    .setLabelColumn(\"category\")\\\n",
        "    .setMaxEpochs(5)\\\n",
        "    .setEnableOutputLogs(True)\n",
        "\n",
        "pipeline = Pipeline(\n",
        "    stages = [\n",
        "        document,\n",
        "        use,\n",
        "        classsifierdl\n",
        "    ])"
      ],
      "execution_count": null,
      "outputs": []
    },
    {
      "cell_type": "code",
      "metadata": {
        "id": "hfsmr81a43Pz",
        "outputId": "019483c4-92fb-4cb3-a6eb-c84c847aba68"
      },
      "source": [
        "# set seed for reproducibility\n",
        "(trainingData, testData) = newsDF.randomSplit([0.7, 0.3], seed = 100)\n",
        "print(\"Training Dataset Count: \" + str(trainingData.count()))\n",
        "print(\"Test Dataset Count: \" + str(testData.count()))"
      ],
      "execution_count": null,
      "outputs": [
        {
          "output_type": "stream",
          "text": [
            "Training Dataset Count: 84045\n",
            "Test Dataset Count: 35955\n"
          ],
          "name": "stdout"
        }
      ]
    },
    {
      "cell_type": "code",
      "metadata": {
        "id": "H47jOwwCIPTG"
      },
      "source": [
        "pipelineModel = pipeline.fit(trainingData)"
      ],
      "execution_count": null,
      "outputs": []
    },
    {
      "cell_type": "code",
      "metadata": {
        "id": "ZHQj7chI5JM5"
      },
      "source": [
        "pipelineModel.stages[2].write().overwrite().save('classifierDL_model_5e')"
      ],
      "execution_count": null,
      "outputs": []
    },
    {
      "cell_type": "code",
      "metadata": {
        "id": "_95KHyT349ZO",
        "outputId": "3f83bf7a-7051-4f5a-a559-252cdbadbfd5"
      },
      "source": [
        "from sklearn.metrics import classification_report, accuracy_score\n",
        "\n",
        "df = pipelineModel.transform(testDataset).select('category','description',\"class.result\").toPandas()\n",
        "\n",
        "df['result'] = df['result'].apply(lambda x: x[0])\n",
        "\n",
        "print(classification_report(df.category, df.result))\n",
        "print(accuracy_score(df.category, df.result))"
      ],
      "execution_count": null,
      "outputs": [
        {
          "output_type": "stream",
          "text": [
            "              precision    recall  f1-score   support\n",
            "\n",
            "    Business       0.85      0.84      0.85      8911\n",
            "    Sci/Tech       0.85      0.87      0.86      8973\n",
            "      Sports       0.95      0.98      0.97      9063\n",
            "       World       0.92      0.88      0.90      9008\n",
            "\n",
            "    accuracy                           0.89     35955\n",
            "   macro avg       0.89      0.89      0.89     35955\n",
            "weighted avg       0.89      0.89      0.89     35955\n",
            "\n",
            "0.8930329578639966\n"
          ],
          "name": "stdout"
        }
      ]
    },
    {
      "cell_type": "markdown",
      "metadata": {
        "id": "GkeFxX8tIPTJ"
      },
      "source": [
        "## Loading the trained classifier from disk"
      ]
    },
    {
      "cell_type": "code",
      "metadata": {
        "id": "ACf2NVAkIPTK"
      },
      "source": [
        "import sparknlp\n",
        "sparknlp.__path__"
      ],
      "execution_count": null,
      "outputs": []
    },
    {
      "cell_type": "code",
      "metadata": {
        "id": "vS0TSHm9IPTM"
      },
      "source": [
        "trainDataset = spark.read \\\n",
        "      .option(\"header\", True) \\\n",
        "      .csv(\"data/news_category_train.csv\")"
      ],
      "execution_count": null,
      "outputs": []
    },
    {
      "cell_type": "code",
      "metadata": {
        "id": "ykBB6BW-59so",
        "outputId": "1024eb2f-ce99-44f7-b7bd-0735cb75e05b"
      },
      "source": [
        "trainDataset.count()"
      ],
      "execution_count": null,
      "outputs": [
        {
          "output_type": "execute_result",
          "data": {
            "text/plain": [
              "120000"
            ]
          },
          "metadata": {
            "tags": []
          },
          "execution_count": 20
        }
      ]
    },
    {
      "cell_type": "code",
      "metadata": {
        "id": "OdZ2YoLE6Bro",
        "outputId": "7d1d03d9-984d-4376-984d-784c4cb11560"
      },
      "source": [
        "trainingData.count()"
      ],
      "execution_count": null,
      "outputs": [
        {
          "output_type": "execute_result",
          "data": {
            "text/plain": [
              "84045"
            ]
          },
          "metadata": {
            "tags": []
          },
          "execution_count": 21
        }
      ]
    },
    {
      "cell_type": "code",
      "metadata": {
        "id": "ZkStUCiJIPTR"
      },
      "source": [
        "document = DocumentAssembler()\\\n",
        "    .setInputCol(\"description\")\\\n",
        "    .setOutputCol(\"document\")\n",
        "\n",
        "\n",
        "sentence = SentenceDetector()\\\n",
        "    .setInputCols(['document'])\\\n",
        "    .setOutputCol('sentence')\n",
        "\n",
        "use = UniversalSentenceEncoder.load('/root/cache_pretrained/tfhub_use_en_2.4.4_2.4_1583158595769')\\\n",
        "    .setInputCols([\"sentence\"])\\\n",
        "    .setOutputCol(\"sentence_embeddings\")\n",
        "\n",
        "classsifierdlmodel = ClassifierDLModel.load('classifierDL_model_5e')\n",
        "\n",
        "pipeline = Pipeline(\n",
        "    stages = [\n",
        "        document,\n",
        "        sentence,\n",
        "        use,\n",
        "        classsifierdlmodel\n",
        "    ])"
      ],
      "execution_count": null,
      "outputs": []
    },
    {
      "cell_type": "code",
      "metadata": {
        "id": "-jlVnXBC6sDZ",
        "outputId": "711093f5-bd17-433d-abab-fbf06f596aa8"
      },
      "source": [
        "pipeline.fit(testData.limit(1)).transform(testData.limit(10)).select('category','description',\"class.result\").show(10, truncate=50)"
      ],
      "execution_count": null,
      "outputs": [
        {
          "output_type": "stream",
          "text": [
            "+--------+--------------------------------------------------+----------+\n",
            "|category|                                       description|    result|\n",
            "+--------+--------------------------------------------------+----------+\n",
            "|Business|  A federal judge on Monday stayed his own ruli...|[Business]|\n",
            "|Business|  A half dozen executives of Yukos, the embattl...|[Business]|\n",
            "|Business|  A labor dispute may sideline professional hoc...|[Business]|\n",
            "|Business|  A ruling from the World Trade Organization co...|[Business]|\n",
            "|Business|  American Airlines has unveiled a new simplifi...|[Business]|\n",
            "|Business|  Anglo Aussie miner BHP Billiton (BHP) (UK:BLT...|[Business]|\n",
            "|Business|  Another group of investors hit beleaguered mo...|[Business]|\n",
            "|Business|  At a sponsors' meeting of MIT Sloan School's ...|[Business]|\n",
            "|Business|  Blockbuster Inc. wants to acquire rival Holly...|[Business]|\n",
            "|Business|  Bolstered by investors, Oracle Corp. appears ...|[Business]|\n",
            "+--------+--------------------------------------------------+----------+\n",
            "\n"
          ],
          "name": "stdout"
        }
      ]
    },
    {
      "cell_type": "code",
      "metadata": {
        "id": "sByX3oVm6vKn",
        "outputId": "dad45cc5-8dd4-4d02-c683-cab45e307d87"
      },
      "source": [
        "lm = LightPipeline(pipeline.fit(testDataset.limit(1)))\n",
        "lm.annotate('In its first two years, the UK dedicated card companies have surge')"
      ],
      "execution_count": null,
      "outputs": [
        {
          "output_type": "execute_result",
          "data": {
            "text/plain": [
              "{'document': ['In its first two years, the UK dedicated card companies have surge'],\n",
              " 'sentence_embeddings': ['In its first two years, the UK dedicated card companies have surge'],\n",
              " 'class': ['Sci/Tech']}"
            ]
          },
          "metadata": {
            "tags": []
          },
          "execution_count": 12
        }
      ]
    },
    {
      "cell_type": "code",
      "metadata": {
        "id": "pzdks_VjIPTV"
      },
      "source": [
        "text='''\n",
        "Fearing the fate of Italy, the centre-right government has threatened to be merciless with those who flout tough restrictions. As of Wednesday it will also include all shops being closed across Greece, with the exception of supermarkets. Banks, pharmacies, pet-stores, mobile phone stores, opticians, bakers, mini-markets, couriers and food delivery outlets are among the few that will also be allowed to remain open.\n",
        "'''"
      ],
      "execution_count": null,
      "outputs": []
    },
    {
      "cell_type": "code",
      "metadata": {
        "id": "mUEhBk1h6yMR",
        "outputId": "a2c7a310-9040-41d4-93e5-2385cc9b451d"
      },
      "source": [
        "lm = LightPipeline(pipeline.fit(testDataset.limit(1)))\n",
        "\n",
        "lm.annotate(text)"
      ],
      "execution_count": null,
      "outputs": [
        {
          "output_type": "execute_result",
          "data": {
            "text/plain": [
              "{'document': ['\\nFearing the fate of Italy, the centre-right government has threatened to be merciless with those who flout tough restrictions. As of Wednesday it will also include all shops being closed across Greece, with the exception of supermarkets. Banks, pharmacies, pet-stores, mobile phone stores, opticians, bakers, mini-markets, couriers and food delivery outlets are among the few that will also be allowed to remain open.\\n'],\n",
              " 'sentence': ['Fearing the fate of Italy, the centre-right government has threatened to be merciless with those who flout tough restrictions.',\n",
              "  'As of Wednesday it will also include all shops being closed across Greece, with the exception of supermarkets.',\n",
              "  'Banks, pharmacies, pet-stores, mobile phone stores, opticians, bakers, mini-markets, couriers and food delivery outlets are among the few that will also be allowed to remain open.'],\n",
              " 'sentence_embeddings': ['Fearing the fate of Italy, the centre-right government has threatened to be merciless with those who flout tough restrictions.',\n",
              "  'As of Wednesday it will also include all shops being closed across Greece, with the exception of supermarkets.',\n",
              "  'Banks, pharmacies, pet-stores, mobile phone stores, opticians, bakers, mini-markets, couriers and food delivery outlets are among the few that will also be allowed to remain open.'],\n",
              " 'class': ['World', 'World', 'World']}"
            ]
          },
          "metadata": {
            "tags": []
          },
          "execution_count": 17
        }
      ]
    },
    {
      "cell_type": "markdown",
      "metadata": {
        "id": "_vn6mkWb-QbH"
      },
      "source": [
        "# Classifier DL + Glove + Basic text processing"
      ]
    },
    {
      "cell_type": "code",
      "metadata": {
        "id": "0KV-gdcL-QbI",
        "outputId": "d10500a8-379b-4a5f-8a30-7340d2a778a5"
      },
      "source": [
        "tokenizer = Tokenizer() \\\n",
        "      .setInputCols([\"document\"]) \\\n",
        "      .setOutputCol(\"token\")\n",
        "\n",
        "lemma = LemmatizerModel.pretrained('lemma_antbnc') \\\n",
        "      .setInputCols([\"token\"]) \\\n",
        "      .setOutputCol(\"lemma\")\n",
        "\n",
        "lemma_pipeline = Pipeline(\n",
        "    stages=[document_assembler, \n",
        "            tokenizer,\n",
        "            lemma,\n",
        "            glove_embeddings])"
      ],
      "execution_count": null,
      "outputs": [
        {
          "output_type": "stream",
          "text": [
            "lemma_antbnc download started this may take some time.\n",
            "Approximate size to download 907.6 KB\n",
            "[OK!]\n"
          ],
          "name": "stdout"
        }
      ]
    },
    {
      "cell_type": "code",
      "metadata": {
        "id": "m1Up3FlT-QbK",
        "outputId": "7f59d7f0-50da-4284-a581-904764cb7774"
      },
      "source": [
        "lemma_pipeline.fit(trainingData.limit(1000)).transform(trainingData.limit(1000)).show(truncate=30)"
      ],
      "execution_count": null,
      "outputs": [
        {
          "output_type": "stream",
          "text": [
            "+--------+------------------------------+------------------------------+------------------------------+------------------------------+------------------------------+\n",
            "|category|                   description|                      document|                         token|                         lemma|                    embeddings|\n",
            "+--------+------------------------------+------------------------------+------------------------------+------------------------------+------------------------------+\n",
            "|Business|  #39;Tis the season to buy...|[[document, 0, 141,   #39;T...|[[token, 2, 8, #39;Tis, [se...|[[token, 2, 8, #39;Tis, [se...|[[word_embeddings, 2, 8, #3...|\n",
            "|Business|  A Delaware judge rejected...|[[document, 0, 161,   A Del...|[[token, 2, 2, A, [sentence...|[[token, 2, 2, A, [sentence...|[[word_embeddings, 2, 2, A,...|\n",
            "|Business|  A Food and Drug Administr...|[[document, 0, 140,   A Foo...|[[token, 2, 2, A, [sentence...|[[token, 2, 2, A, [sentence...|[[word_embeddings, 2, 2, A,...|\n",
            "|Business|  A House Senate conference...|[[document, 0, 243,   A Hou...|[[token, 2, 2, A, [sentence...|[[token, 2, 2, A, [sentence...|[[word_embeddings, 2, 2, A,...|\n",
            "|Business|  A flight from Paris bound...|[[document, 0, 162,   A fli...|[[token, 2, 2, A, [sentence...|[[token, 2, 2, A, [sentence...|[[word_embeddings, 2, 2, A,...|\n",
            "|Business|  A former chief financial ...|[[document, 0, 200,   A for...|[[token, 2, 2, A, [sentence...|[[token, 2, 2, A, [sentence...|[[word_embeddings, 2, 2, A,...|\n",
            "|Business|  A veteran Food and Drug A...|[[document, 0, 272,   A vet...|[[token, 2, 2, A, [sentence...|[[token, 2, 2, A, [sentence...|[[word_embeddings, 2, 2, A,...|\n",
            "|Business|  About 3,000 shoppers were...|[[document, 0, 157,   About...|[[token, 2, 6, About, [sent...|[[token, 2, 6, About, [sent...|[[word_embeddings, 2, 6, Ab...|\n",
            "|Business|  After investing roughly  ...|[[document, 0, 207,   After...|[[token, 2, 6, After, [sent...|[[token, 2, 6, After, [sent...|[[word_embeddings, 2, 6, Af...|\n",
            "|Business|  Agilent Technologies Inc....|[[document, 0, 207,   Agile...|[[token, 2, 8, Agilent, [se...|[[token, 2, 8, Agilent, [se...|[[word_embeddings, 2, 8, Ag...|\n",
            "|Business|  America's trade deficit i...|[[document, 0, 253,   Ameri...|[[token, 2, 10, America's, ...|[[token, 2, 10, America's, ...|[[word_embeddings, 2, 10, A...|\n",
            "|Business|  American International Gr...|[[document, 0, 203,   Ameri...|[[token, 2, 9, American, [s...|[[token, 2, 9, American, [s...|[[word_embeddings, 2, 9, Am...|\n",
            "|Business|  An airline #39;s on time ...|[[document, 0, 191,   An ai...|[[token, 2, 3, An, [sentenc...|[[token, 2, 3, An, [sentenc...|[[word_embeddings, 2, 3, An...|\n",
            "|Business|  As the deadline for what ...|[[document, 0, 234,   As th...|[[token, 2, 3, As, [sentenc...|[[token, 2, 3, As, [sentenc...|[[word_embeddings, 2, 3, As...|\n",
            "|Business|  Australia #39;s jobless r...|[[document, 0, 122,   Austr...|[[token, 2, 10, Australia, ...|[[token, 2, 10, Australia, ...|[[word_embeddings, 2, 10, A...|\n",
            "|Business|  Bacardi Ltd. Monday said ...|[[document, 0, 154,   Bacar...|[[token, 2, 8, Bacardi, [se...|[[token, 2, 8, Bacardi, [se...|[[word_embeddings, 2, 8, Ba...|\n",
            "|Business|  Blockbuster Inc. , facing...|[[document, 0, 219,   Block...|[[token, 2, 12, Blockbuster...|[[token, 2, 12, Blockbuster...|[[word_embeddings, 2, 12, B...|\n",
            "|Business|  Bombardier Inc. shares fe...|[[document, 0, 222,   Bomba...|[[token, 2, 11, Bombardier,...|[[token, 2, 11, Bombardier,...|[[word_embeddings, 2, 11, B...|\n",
            "|Business|  Britain #39;s largest fix...|[[document, 0, 133,   Brita...|[[token, 2, 8, Britain, [se...|[[token, 2, 8, Britain, [se...|[[word_embeddings, 2, 8, Br...|\n",
            "|Business|  British bank HSBC may mak...|[[document, 0, 176,   Briti...|[[token, 2, 8, British, [se...|[[token, 2, 8, British, [se...|[[word_embeddings, 2, 8, Br...|\n",
            "+--------+------------------------------+------------------------------+------------------------------+------------------------------+------------------------------+\n",
            "only showing top 20 rows\n",
            "\n"
          ],
          "name": "stdout"
        }
      ]
    },
    {
      "cell_type": "code",
      "metadata": {
        "id": "kXpQOv1J-QbL",
        "outputId": "fefbf07d-1cee-497b-a195-e3fad7e89100"
      },
      "source": [
        "document_assembler = DocumentAssembler() \\\n",
        "      .setInputCol(\"description\") \\\n",
        "      .setOutputCol(\"document\")\n",
        "    \n",
        "tokenizer = Tokenizer() \\\n",
        "      .setInputCols([\"document\"]) \\\n",
        "      .setOutputCol(\"token\")\n",
        "    \n",
        "normalizer = Normalizer() \\\n",
        "      .setInputCols([\"token\"]) \\\n",
        "      .setOutputCol(\"normalized\")\n",
        "\n",
        "stopwords_cleaner = StopWordsCleaner()\\\n",
        "      .setInputCols(\"normalized\")\\\n",
        "      .setOutputCol(\"cleanTokens\")\\\n",
        "      .setCaseSensitive(False)\n",
        "\n",
        "lemma = LemmatizerModel.pretrained('lemma_antbnc') \\\n",
        "      .setInputCols([\"cleanTokens\"]) \\\n",
        "      .setOutputCol(\"lemma\")\n",
        "\n",
        "glove_embeddings = WordEmbeddingsModel().pretrained() \\\n",
        "      .setInputCols([\"document\",'lemma'])\\\n",
        "      .setOutputCol(\"embeddings\")\\\n",
        "      .setCaseSensitive(False)\n",
        "\n",
        "embeddingsSentence = SentenceEmbeddings() \\\n",
        "      .setInputCols([\"document\", \"embeddings\"]) \\\n",
        "      .setOutputCol(\"sentence_embeddings\") \\\n",
        "      .setPoolingStrategy(\"AVERAGE\")\n",
        "\n",
        "classsifierdl = ClassifierDLApproach()\\\n",
        "      .setInputCols([\"sentence_embeddings\"])\\\n",
        "      .setOutputCol(\"class\")\\\n",
        "      .setLabelColumn(\"category\")\\\n",
        "      .setMaxEpochs(10)\\\n",
        "      .setEnableOutputLogs(True)\n",
        "\n",
        "clf_pipeline = Pipeline(\n",
        "    stages=[document_assembler, \n",
        "            tokenizer,\n",
        "            normalizer,\n",
        "            stopwords_cleaner, \n",
        "            lemma, \n",
        "            glove_embeddings,\n",
        "            embeddingsSentence,\n",
        "            classsifierdl])"
      ],
      "execution_count": null,
      "outputs": [
        {
          "output_type": "stream",
          "text": [
            "lemma_antbnc download started this may take some time.\n",
            "Approximate size to download 907.6 KB\n",
            "[OK!]\n",
            "glove_100d download started this may take some time.\n",
            "Approximate size to download 145.3 MB\n",
            "[OK!]\n"
          ],
          "name": "stdout"
        }
      ]
    },
    {
      "cell_type": "code",
      "metadata": {
        "id": "_CEiY2qW-QbM"
      },
      "source": [
        "!rm -rf classifier_dl_pipeline_glove"
      ],
      "execution_count": null,
      "outputs": []
    },
    {
      "cell_type": "code",
      "metadata": {
        "id": "4Ru_yFKQ-QbN"
      },
      "source": [
        "clf_pipelineModel.save('classifier_dl_pipeline_glove')"
      ],
      "execution_count": null,
      "outputs": []
    },
    {
      "cell_type": "code",
      "metadata": {
        "id": "R8tDkEtn-QbN"
      },
      "source": [
        "clf_pipelineModel = clf_pipeline.fit(trainingData)"
      ],
      "execution_count": null,
      "outputs": []
    },
    {
      "cell_type": "code",
      "metadata": {
        "id": "4tt10fAn-QbO",
        "outputId": "58dc14e3-6711-456c-8fc0-91402f31ae7d"
      },
      "source": [
        "df = clf_pipelineModel.transform(testDataset).select('category','description',\"class.result\").toPandas()\n",
        "\n",
        "df['result'] = df['result'].apply(lambda x: x[0])\n",
        "\n",
        "print(classification_report(df.category, df.result))\n",
        "\n",
        "print(accuracy_score(df.category, df.result))"
      ],
      "execution_count": null,
      "outputs": [
        {
          "output_type": "stream",
          "text": [
            "              precision    recall  f1-score   support\n",
            "\n",
            "    Business       0.85      0.82      0.83      8911\n",
            "    Sci/Tech       0.81      0.89      0.85      8973\n",
            "      Sports       0.95      0.97      0.96      9063\n",
            "       World       0.92      0.86      0.89      9008\n",
            "\n",
            "    accuracy                           0.88     35955\n",
            "   macro avg       0.88      0.88      0.88     35955\n",
            "weighted avg       0.88      0.88      0.88     35955\n",
            "\n",
            "0.8809066889167014\n"
          ],
          "name": "stdout"
        }
      ]
    },
    {
      "cell_type": "code",
      "metadata": {
        "id": "gI1jlf2g-QbP"
      },
      "source": [
        "!cd data && ls -l"
      ],
      "execution_count": null,
      "outputs": []
    },
    {
      "cell_type": "code",
      "metadata": {
        "id": "jych1Rk8-QbQ"
      },
      "source": [
        "import pandas as pd\n",
        "import"
      ],
      "execution_count": null,
      "outputs": []
    },
    {
      "cell_type": "code",
      "metadata": {
        "id": "pie9T7en-QbQ"
      },
      "source": [
        "news_df = newsDF.toPandas()"
      ],
      "execution_count": null,
      "outputs": []
    },
    {
      "cell_type": "code",
      "metadata": {
        "id": "AGJEumf--QbR",
        "outputId": "e29106c9-a246-44ce-ddaf-cd71d856de21"
      },
      "source": [
        "news_df.head()"
      ],
      "execution_count": null,
      "outputs": [
        {
          "output_type": "execute_result",
          "data": {
            "text/html": [
              "<div>\n",
              "<style scoped>\n",
              "    .dataframe tbody tr th:only-of-type {\n",
              "        vertical-align: middle;\n",
              "    }\n",
              "\n",
              "    .dataframe tbody tr th {\n",
              "        vertical-align: top;\n",
              "    }\n",
              "\n",
              "    .dataframe thead th {\n",
              "        text-align: right;\n",
              "    }\n",
              "</style>\n",
              "<table border=\"1\" class=\"dataframe\">\n",
              "  <thead>\n",
              "    <tr style=\"text-align: right;\">\n",
              "      <th></th>\n",
              "      <th>category</th>\n",
              "      <th>description</th>\n",
              "    </tr>\n",
              "  </thead>\n",
              "  <tbody>\n",
              "    <tr>\n",
              "      <td>0</td>\n",
              "      <td>World</td>\n",
              "      <td>Srinagar, Nov 6 (UNI) Two militants and a Bord...</td>\n",
              "    </tr>\n",
              "    <tr>\n",
              "      <td>1</td>\n",
              "      <td>World</td>\n",
              "      <td>France's president orders his forces to destro...</td>\n",
              "    </tr>\n",
              "    <tr>\n",
              "      <td>2</td>\n",
              "      <td>World</td>\n",
              "      <td>President  Bush says he will reach out to alli...</td>\n",
              "    </tr>\n",
              "    <tr>\n",
              "      <td>3</td>\n",
              "      <td>World</td>\n",
              "      <td>Established Shiite parties and powerful upstar...</td>\n",
              "    </tr>\n",
              "    <tr>\n",
              "      <td>4</td>\n",
              "      <td>World</td>\n",
              "      <td>While Democrats placed their emphasis on the s...</td>\n",
              "    </tr>\n",
              "  </tbody>\n",
              "</table>\n",
              "</div>"
            ],
            "text/plain": [
              "  category                                        description\n",
              "0    World  Srinagar, Nov 6 (UNI) Two militants and a Bord...\n",
              "1    World  France's president orders his forces to destro...\n",
              "2    World  President  Bush says he will reach out to alli...\n",
              "3    World  Established Shiite parties and powerful upstar...\n",
              "4    World  While Democrats placed their emphasis on the s..."
            ]
          },
          "metadata": {
            "tags": []
          },
          "execution_count": 52
        }
      ]
    },
    {
      "cell_type": "code",
      "metadata": {
        "id": "7gFIeTJw-QbS"
      },
      "source": [
        "news_df.to_csv('data/news_dataset.csv', index=False)"
      ],
      "execution_count": null,
      "outputs": []
    },
    {
      "cell_type": "code",
      "metadata": {
        "id": "HT0IKCms-QbT",
        "outputId": "c5595759-130e-48a5-ef7a-54b24ca7d034"
      },
      "source": [
        "document_assembler = DocumentAssembler() \\\n",
        "      .setInputCol(\"description\") \\\n",
        "      .setOutputCol(\"document\")\n",
        "      \n",
        "tokenizer = Tokenizer() \\\n",
        "      .setInputCols([\"document\"]) \\\n",
        "      .setOutputCol(\"token\")\n",
        "      \n",
        "normalizer = Normalizer() \\\n",
        "      .setInputCols([\"token\"]) \\\n",
        "      .setOutputCol(\"normalized\")\n",
        "\n",
        "stopwords_cleaner = StopWordsCleaner()\\\n",
        "      .setInputCols(\"normalized\")\\\n",
        "      .setOutputCol(\"cleanTokens\")\\\n",
        "      .setCaseSensitive(False)\n",
        "\n",
        "lemma = LemmatizerModel.pretrained('lemma_antbnc') \\\n",
        "      .setInputCols([\"cleanTokens\"]) \\\n",
        "      .setOutputCol(\"lemma\")\n",
        "\n",
        "glove_embeddings = WordEmbeddingsModel().pretrained() \\\n",
        "      .setInputCols([\"document\",'lemma'])\\\n",
        "      .setOutputCol(\"embeddings\")\\\n",
        "      .setCaseSensitive(False)\n",
        "\n",
        "txt_pipeline = Pipeline(\n",
        "    stages=[document_assembler, \n",
        "            tokenizer,\n",
        "            normalizer,\n",
        "            stopwords_cleaner, \n",
        "            lemma, \n",
        "            glove_embeddings,\n",
        "            embeddingsSentence])"
      ],
      "execution_count": null,
      "outputs": [
        {
          "output_type": "stream",
          "text": [
            "lemma_antbnc download started this may take some time.\n",
            "Approximate size to download 907.6 KB\n",
            "[OK!]\n",
            "glove_100d download started this may take some time.\n",
            "Approximate size to download 145.3 MB\n",
            "[OK!]\n"
          ],
          "name": "stdout"
        }
      ]
    },
    {
      "cell_type": "code",
      "metadata": {
        "id": "ZxUrgGoU-QbU"
      },
      "source": [
        "txt_pipelineModel = txt_pipeline.fit(testData.limit(1))"
      ],
      "execution_count": null,
      "outputs": []
    },
    {
      "cell_type": "code",
      "metadata": {
        "id": "BJqR-_Gu-QbU"
      },
      "source": [
        "txt_pipelineModel.save('text_prep_pipeline_glove')"
      ],
      "execution_count": null,
      "outputs": []
    },
    {
      "cell_type": "code",
      "metadata": {
        "id": "ekxbrmVk-QbV",
        "outputId": "ef0addc8-a9b7-4286-96e1-0bb5101cf9f9"
      },
      "source": [
        "df.head()"
      ],
      "execution_count": null,
      "outputs": [
        {
          "output_type": "execute_result",
          "data": {
            "text/html": [
              "<div>\n",
              "<style scoped>\n",
              "    .dataframe tbody tr th:only-of-type {\n",
              "        vertical-align: middle;\n",
              "    }\n",
              "\n",
              "    .dataframe tbody tr th {\n",
              "        vertical-align: top;\n",
              "    }\n",
              "\n",
              "    .dataframe thead th {\n",
              "        text-align: right;\n",
              "    }\n",
              "</style>\n",
              "<table border=\"1\" class=\"dataframe\">\n",
              "  <thead>\n",
              "    <tr style=\"text-align: right;\">\n",
              "      <th></th>\n",
              "      <th>category</th>\n",
              "      <th>description</th>\n",
              "      <th>result</th>\n",
              "    </tr>\n",
              "  </thead>\n",
              "  <tbody>\n",
              "    <tr>\n",
              "      <td>0</td>\n",
              "      <td>Business</td>\n",
              "      <td>A federal judge on Monday stayed his own rul...</td>\n",
              "      <td>Business</td>\n",
              "    </tr>\n",
              "    <tr>\n",
              "      <td>1</td>\n",
              "      <td>Business</td>\n",
              "      <td>A half dozen executives of Yukos, the embatt...</td>\n",
              "      <td>Business</td>\n",
              "    </tr>\n",
              "    <tr>\n",
              "      <td>2</td>\n",
              "      <td>Business</td>\n",
              "      <td>A labor dispute may sideline professional ho...</td>\n",
              "      <td>Sports</td>\n",
              "    </tr>\n",
              "    <tr>\n",
              "      <td>3</td>\n",
              "      <td>Business</td>\n",
              "      <td>A ruling from the World Trade Organization c...</td>\n",
              "      <td>Sci/Tech</td>\n",
              "    </tr>\n",
              "    <tr>\n",
              "      <td>4</td>\n",
              "      <td>Business</td>\n",
              "      <td>American Airlines has unveiled a new simplif...</td>\n",
              "      <td>Business</td>\n",
              "    </tr>\n",
              "  </tbody>\n",
              "</table>\n",
              "</div>"
            ],
            "text/plain": [
              "   category                                        description    result\n",
              "0  Business    A federal judge on Monday stayed his own rul...  Business\n",
              "1  Business    A half dozen executives of Yukos, the embatt...  Business\n",
              "2  Business    A labor dispute may sideline professional ho...    Sports\n",
              "3  Business    A ruling from the World Trade Organization c...  Sci/Tech\n",
              "4  Business    American Airlines has unveiled a new simplif...  Business"
            ]
          },
          "metadata": {
            "tags": []
          },
          "execution_count": 126
        }
      ]
    }
  ]
}
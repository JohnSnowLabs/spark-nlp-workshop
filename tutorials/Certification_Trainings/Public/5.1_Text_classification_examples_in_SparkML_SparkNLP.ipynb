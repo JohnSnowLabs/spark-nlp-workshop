{
  "cells": [
    {
      "cell_type": "markdown",
      "metadata": {
        "id": "sXatvRX899i0"
      },
      "source": [
        "![JohnSnowLabs](https://nlp.johnsnowlabs.com/assets/images/logo.png)"
      ]
    },
    {
      "cell_type": "markdown",
      "metadata": {
        "id": "C3UywhO6ykrV"
      },
      "source": [
        "\n",
        "\n",
        "[![Open In Colab](https://colab.research.google.com/assets/colab-badge.svg)](https://colab.research.google.com/github/JohnSnowLabs/spark-nlp-workshop/blob/master/tutorials/Certification_Trainings/Public/5.1_Text_classification_examples_in_SparkML_SparkNLP.ipynb)"
      ]
    },
    {
      "cell_type": "markdown",
      "metadata": {
        "id": "034_KMGM9mc_"
      },
      "source": [
        "# Text Classification with Spark NLP"
      ]
    },
    {
      "cell_type": "code",
      "execution_count": null,
      "metadata": {
        "id": "mSYCCzoJKpIO"
      },
      "outputs": [],
      "source": [
        "! pip install -q pyspark==3.2.0 spark-nlp"
      ]
    },
    {
      "cell_type": "markdown",
      "metadata": {
        "id": "KcM93SYSwT4g"
      },
      "source": [
        "\n",
        "<b>  if you want to work with Spark 2.3 </b>\n",
        "```\n",
        "import os\n",
        "\n",
        "# Install java\n",
        "! apt-get update -qq\n",
        "! apt-get install -y openjdk-8-jdk-headless -qq > /dev/null\n",
        "\n",
        "!wget -q https://archive.apache.org/dist/spark/spark-2.3.0/spark-2.3.0-bin-hadoop2.7.tgz\n",
        "\n",
        "!tar xf spark-2.3.0-bin-hadoop2.7.tgz\n",
        "!pip install -q findspark\n",
        "\n",
        "os.environ[\"JAVA_HOME\"] = \"/usr/lib/jvm/java-8-openjdk-amd64\"\n",
        "os.environ[\"PATH\"] = os.environ[\"JAVA_HOME\"] + \"/bin:\" + os.environ[\"PATH\"]\n",
        "os.environ[\"SPARK_HOME\"] = \"/content/spark-2.3.0-bin-hadoop2.7\"\n",
        "! java -version\n",
        "\n",
        "import findspark\n",
        "findspark.init()\n",
        "from pyspark.sql import SparkSession\n",
        "\n",
        "! pip install --ignore-installed -q spark-nlp==2.7.5\n",
        "\n",
        "import sparknlp\n",
        "\n",
        "spark = sparknlp.start(spark23=True)\n",
        "```"
      ]
    },
    {
      "cell_type": "code",
      "execution_count": 1,
      "metadata": {
        "id": "Pihatz2EIPPM"
      },
      "outputs": [],
      "source": [
        "import os\n",
        "import sys\n",
        "\n",
        "from pyspark.sql import SparkSession\n",
        "from pyspark.ml import Pipeline\n",
        "\n",
        "from sparknlp.annotator import *\n",
        "from sparknlp.common import *\n",
        "from sparknlp.base import *\n",
        "\n",
        "import pandas as pd\n"
      ]
    },
    {
      "cell_type": "code",
      "execution_count": 2,
      "metadata": {
        "colab": {
          "base_uri": "https://localhost:8080/",
          "height": 254
        },
        "id": "SDasO3DbKu2Z",
        "outputId": "347bcedb-8524-4031-a178-ec2d1a17d4d7"
      },
      "outputs": [
        {
          "output_type": "stream",
          "name": "stdout",
          "text": [
            "Spark NLP version:  3.4.0\n",
            "Apache Spark version:  3.2.0\n"
          ]
        },
        {
          "output_type": "execute_result",
          "data": {
            "text/html": [
              "\n",
              "            <div>\n",
              "                <p><b>SparkSession - in-memory</b></p>\n",
              "                \n",
              "        <div>\n",
              "            <p><b>SparkContext</b></p>\n",
              "\n",
              "            <p><a href=\"http://c8724b0ca196:4040\">Spark UI</a></p>\n",
              "\n",
              "            <dl>\n",
              "              <dt>Version</dt>\n",
              "                <dd><code>v3.2.0</code></dd>\n",
              "              <dt>Master</dt>\n",
              "                <dd><code>local[*]</code></dd>\n",
              "              <dt>AppName</dt>\n",
              "                <dd><code>Spark NLP</code></dd>\n",
              "            </dl>\n",
              "        </div>\n",
              "        \n",
              "            </div>\n",
              "        "
            ],
            "text/plain": [
              "<pyspark.sql.session.SparkSession at 0x7f3dc8a3a210>"
            ]
          },
          "metadata": {},
          "execution_count": 2
        }
      ],
      "source": [
        "import sparknlp\n",
        "spark = sparknlp.start(spark32 = True)\n",
        "\n",
        "print(\"Spark NLP version: \", sparknlp.version())\n",
        "print(\"Apache Spark version: \", spark.version)\n",
        "\n",
        "spark"
      ]
    },
    {
      "cell_type": "code",
      "execution_count": null,
      "metadata": {
        "id": "IawvXkLGIPPS"
      },
      "outputs": [],
      "source": [
        "! wget https://raw.githubusercontent.com/JohnSnowLabs/spark-nlp-workshop/master/tutorials/Certification_Trainings/Public/data/news_category_train.csv\n",
        "! wget https://raw.githubusercontent.com/JohnSnowLabs/spark-nlp-workshop/master/tutorials/Certification_Trainings/Public/data/news_category_test.csv"
      ]
    },
    {
      "cell_type": "code",
      "execution_count": 8,
      "metadata": {
        "colab": {
          "base_uri": "https://localhost:8080/"
        },
        "id": "1GkCjlO9IPPh",
        "outputId": "c3041e87-31b1-45de-f40a-4714d0390c31"
      },
      "outputs": [
        {
          "output_type": "stream",
          "name": "stdout",
          "text": [
            "+--------+--------------------------------------------------+\n",
            "|category|                                       description|\n",
            "+--------+--------------------------------------------------+\n",
            "|Business| Short sellers, Wall Street's dwindling band of...|\n",
            "|Business| Private investment firm Carlyle Group, which h...|\n",
            "|Business| Soaring crude prices plus worries about the ec...|\n",
            "|Business| Authorities have halted oil export flows from ...|\n",
            "|Business| Tearaway world oil prices, toppling records an...|\n",
            "|Business| Stocks ended slightly higher on Friday but sta...|\n",
            "|Business| Assets of the nation's retail money market mut...|\n",
            "|Business| Retail sales bounced back a bit in July, and n...|\n",
            "|Business|\" After earning a PH.D. in Sociology, Danny Baz...|\n",
            "|Business| Short sellers, Wall Street's dwindling  band o...|\n",
            "|Business| Soaring crude prices plus worries  about the e...|\n",
            "|Business| OPEC can do nothing to douse scorching  oil pr...|\n",
            "|Business| Non OPEC oil exporters should consider  increa...|\n",
            "|Business| WASHINGTON/NEW YORK (Reuters) - The auction fo...|\n",
            "|Business| The dollar tumbled broadly on Friday  after da...|\n",
            "|Business|If you think you may need to help your elderly ...|\n",
            "|Business|The purchasing power of kids is a big part of w...|\n",
            "|Business|There is little cause for celebration in the st...|\n",
            "|Business|The US trade deficit has exploded 19 to a recor...|\n",
            "|Business|Oil giant Shell could be bracing itself for a t...|\n",
            "+--------+--------------------------------------------------+\n",
            "only showing top 20 rows\n",
            "\n"
          ]
        }
      ],
      "source": [
        "# newsDF = spark.read.parquet(\"data/news_category.parquet\") >> if it is a parquet\n",
        "\n",
        "newsDF = spark.read \\\n",
        "      .option(\"header\", True) \\\n",
        "      .csv(\"news_category_train.csv\")\n",
        "\n",
        "newsDF.show(truncate=50)"
      ]
    },
    {
      "cell_type": "code",
      "execution_count": 4,
      "metadata": {
        "colab": {
          "base_uri": "https://localhost:8080/"
        },
        "id": "hjkkY5FTIPPp",
        "outputId": "beb75487-3193-410b-caf5-442056a2ac31"
      },
      "outputs": [
        {
          "output_type": "execute_result",
          "data": {
            "text/plain": [
              "[Row(category='Business', description=\" Short sellers, Wall Street's dwindling band of ultra cynics, are seeing green again.\"),\n",
              " Row(category='Business', description=' Private investment firm Carlyle Group, which has a reputation for making well timed and occasionally controversial plays in the defense industry, has quietly placed its bets on another part of the market.')]"
            ]
          },
          "metadata": {},
          "execution_count": 4
        }
      ],
      "source": [
        "newsDF.take(2)"
      ]
    },
    {
      "cell_type": "code",
      "execution_count": 9,
      "metadata": {
        "colab": {
          "base_uri": "https://localhost:8080/"
        },
        "id": "Xsifu6-cIPPs",
        "outputId": "8c4e32a3-8d56-4ffa-d775-d1955a7dcf8a"
      },
      "outputs": [
        {
          "output_type": "stream",
          "name": "stdout",
          "text": [
            "+--------+-----+\n",
            "|category|count|\n",
            "+--------+-----+\n",
            "|   World|30000|\n",
            "|Sci/Tech|30000|\n",
            "|  Sports|30000|\n",
            "|Business|30000|\n",
            "+--------+-----+\n",
            "\n"
          ]
        }
      ],
      "source": [
        "from pyspark.sql.functions import col\n",
        "\n",
        "newsDF.groupBy(\"category\") \\\n",
        "    .count() \\\n",
        "    .orderBy(col(\"count\").desc()) \\\n",
        "    .show()"
      ]
    },
    {
      "cell_type": "markdown",
      "metadata": {
        "id": "iHn5crTvIPPv"
      },
      "source": [
        "## Building Classification Pipeline"
      ]
    },
    {
      "cell_type": "markdown",
      "metadata": {
        "id": "G8zK3RByIPPw"
      },
      "source": [
        "### LogReg with CountVectorizer"
      ]
    },
    {
      "cell_type": "markdown",
      "metadata": {
        "id": "AM7esk5yIPPx"
      },
      "source": [
        "Tokenizer: Tokenization \n",
        "\n",
        "stopwordsRemover: Remove Stop Words\n",
        "\n",
        "countVectors: Count vectors (“document-term vectors”)"
      ]
    },
    {
      "cell_type": "code",
      "execution_count": 6,
      "metadata": {
        "id": "qbrPTtZpIPPx"
      },
      "outputs": [],
      "source": [
        "from pyspark.ml.feature import CountVectorizer, HashingTF, IDF, OneHotEncoder, StringIndexer, VectorAssembler, SQLTransformer"
      ]
    },
    {
      "cell_type": "code",
      "execution_count": null,
      "metadata": {
        "colab": {
          "base_uri": "https://localhost:8080/"
        },
        "id": "dL-SK95DIPP1",
        "outputId": "52fb29b1-f7d5-4134-d4c1-b2a7dc51fe38"
      },
      "outputs": [
        {
          "name": "stdout",
          "output_type": "stream",
          "text": [
            "CPU times: user 605 ms, sys: 90.5 ms, total: 696 ms\n",
            "Wall time: 1min 27s\n"
          ]
        }
      ],
      "source": [
        "%%time\n",
        "\n",
        "document_assembler = DocumentAssembler() \\\n",
        "      .setInputCol(\"description\") \\\n",
        "      .setOutputCol(\"document\")\n",
        "    \n",
        "tokenizer = Tokenizer() \\\n",
        "      .setInputCols([\"document\"]) \\\n",
        "      .setOutputCol(\"token\")\n",
        "      \n",
        "normalizer = Normalizer() \\\n",
        "      .setInputCols([\"token\"]) \\\n",
        "      .setOutputCol(\"normalized\")\n",
        "\n",
        "stopwords_cleaner = StopWordsCleaner()\\\n",
        "      .setInputCols(\"normalized\")\\\n",
        "      .setOutputCol(\"cleanTokens\")\\\n",
        "      .setCaseSensitive(False)\n",
        "\n",
        "stemmer = Stemmer() \\\n",
        "      .setInputCols([\"cleanTokens\"]) \\\n",
        "      .setOutputCol(\"stem\")\n",
        "\n",
        "finisher = Finisher() \\\n",
        "      .setInputCols([\"stem\"]) \\\n",
        "      .setOutputCols([\"token_features\"]) \\\n",
        "      .setOutputAsArray(True) \\\n",
        "      .setCleanAnnotations(False)\n",
        "\n",
        "countVectors = CountVectorizer(inputCol=\"token_features\", outputCol=\"features\", vocabSize=10000, minDF=5)\n",
        "\n",
        "label_stringIdx = StringIndexer(inputCol = \"category\", outputCol = \"label\")\n",
        "\n",
        "nlp_pipeline = Pipeline(\n",
        "    stages=[document_assembler, \n",
        "            tokenizer,\n",
        "            normalizer,\n",
        "            stopwords_cleaner, \n",
        "            stemmer, \n",
        "            finisher,\n",
        "            countVectors,\n",
        "            label_stringIdx])\n",
        "\n",
        "nlp_model = nlp_pipeline.fit(newsDF)\n",
        "\n",
        "processed = nlp_model.transform(newsDF)\n",
        "\n",
        "processed.count()"
      ]
    },
    {
      "cell_type": "code",
      "execution_count": null,
      "metadata": {
        "colab": {
          "base_uri": "https://localhost:8080/"
        },
        "id": "YEtzQbNwIPP4",
        "outputId": "0fa36d17-99e9-484d-f56d-820418e60afe"
      },
      "outputs": [
        {
          "name": "stdout",
          "output_type": "stream",
          "text": [
            "+--------------------------------------------------+--------------------------------------------------+\n",
            "|                                       description|                                    token_features|\n",
            "+--------------------------------------------------+--------------------------------------------------+\n",
            "| Short sellers, Wall Street's dwindling band of...|[short, seller, wall, street, dwindl, band, ult...|\n",
            "| Private investment firm Carlyle Group, which h...|[privat, invest, firm, carlyl, group, reput, ma...|\n",
            "| Soaring crude prices plus worries about the ec...|[soar, crude, price, plu, worri, economi, outlo...|\n",
            "| Authorities have halted oil export flows from ...|[author, halt, oil, export, flow, main, pipelin...|\n",
            "| Tearaway world oil prices, toppling records an...|[tearawai, world, oil, price, toppl, record, st...|\n",
            "| Stocks ended slightly higher on Friday but sta...|[stock, end, slightli, higher, fridai, staye, n...|\n",
            "| Assets of the nation's retail money market mut...|[asset, nation, retail, monei, market, mutual, ...|\n",
            "| Retail sales bounced back a bit in July, and n...|[retail, sale, bounc, back, bit, juli, new, cla...|\n",
            "|\" After earning a PH.D. in Sociology, Danny Baz...|[earn, phd, sociologi, danni, bazil, rilei, sta...|\n",
            "| Short sellers, Wall Street's dwindling  band o...|[short, seller, wall, street, dwindl, band, ult...|\n",
            "| Soaring crude prices plus worries  about the e...|[soar, crude, price, plu, worri, economi, outlo...|\n",
            "| OPEC can do nothing to douse scorching  oil pr...|[opec, noth, dous, scorch, oil, price, market, ...|\n",
            "| Non OPEC oil exporters should consider  increa...|[non, opec, oil, export, consid, increas, outpu...|\n",
            "| WASHINGTON/NEW YORK (Reuters) - The auction fo...|[washingtonnew, york, reuter, auction, googl, i...|\n",
            "| The dollar tumbled broadly on Friday  after da...|[dollar, tumbl, broadli, fridai, data, showe, r...|\n",
            "|If you think you may need to help your elderly ...|[think, mai, ne, help, elderli, rel, financ, do...|\n",
            "|The purchasing power of kids is a big part of w...|[purchas, power, kid, big, part, backtoschool, ...|\n",
            "|There is little cause for celebration in the st...|[littl, caus, celebr, stock, market, dai, inves...|\n",
            "|The US trade deficit has exploded 19 to a recor...|[u, trade, deficit, explod, record, bn, oil, co...|\n",
            "|Oil giant Shell could be bracing itself for a t...|[oil, giant, shell, brace, takeov, attempt, pos...|\n",
            "+--------------------------------------------------+--------------------------------------------------+\n",
            "only showing top 20 rows\n",
            "\n"
          ]
        }
      ],
      "source": [
        "processed.select('description','token_features').show(truncate=50)"
      ]
    },
    {
      "cell_type": "code",
      "execution_count": null,
      "metadata": {
        "colab": {
          "base_uri": "https://localhost:8080/"
        },
        "id": "Mq7tQ_vsIPP7",
        "outputId": "74ce3957-c634-4695-c8dd-50f53eec3754"
      },
      "outputs": [
        {
          "data": {
            "text/plain": [
              "[Row(token_features=['short', 'seller', 'wall', 'street', 'dwindl', 'band', 'ultra', 'cynic', 'see', 'green']),\n",
              " Row(token_features=['privat', 'invest', 'firm', 'carlyl', 'group', 'reput', 'make', 'well', 'time', 'occasion', 'controversi', 'plai', 'defens', 'industri', 'quietli', 'place', 'bet', 'anoth', 'part', 'market'])]"
            ]
          },
          "execution_count": 11,
          "metadata": {},
          "output_type": "execute_result"
        }
      ],
      "source": [
        "processed.select('token_features').take(2)"
      ]
    },
    {
      "cell_type": "code",
      "execution_count": null,
      "metadata": {
        "colab": {
          "base_uri": "https://localhost:8080/"
        },
        "id": "5R98lqSgIPP_",
        "outputId": "2116d430-ea71-4681-bb1e-a3d4802f3933"
      },
      "outputs": [
        {
          "data": {
            "text/plain": [
              "[Row(features=SparseVector(10000, {241: 1.0, 384: 1.0, 467: 1.0, 743: 1.0, 837: 1.0, 2233: 1.0, 3690: 1.0, 6224: 1.0, 6295: 1.0})),\n",
              " Row(features=SparseVector(10000, {26: 1.0, 38: 1.0, 46: 1.0, 68: 1.0, 117: 1.0, 155: 1.0, 182: 1.0, 197: 1.0, 245: 1.0, 304: 1.0, 320: 1.0, 407: 1.0, 427: 1.0, 621: 1.0, 867: 1.0, 2362: 1.0, 2834: 1.0, 2861: 1.0, 6877: 1.0}))]"
            ]
          },
          "execution_count": 12,
          "metadata": {},
          "output_type": "execute_result"
        }
      ],
      "source": [
        "processed.select('features').take(2)"
      ]
    },
    {
      "cell_type": "code",
      "execution_count": null,
      "metadata": {
        "colab": {
          "base_uri": "https://localhost:8080/"
        },
        "id": "xfnlWafuIPQC",
        "outputId": "5dece2f3-975c-4177-e808-d790b74cd31c"
      },
      "outputs": [
        {
          "name": "stdout",
          "output_type": "stream",
          "text": [
            "+--------------------+--------------------+-----+\n",
            "|         description|            features|label|\n",
            "+--------------------+--------------------+-----+\n",
            "| Short sellers, W...|(10000,[241,384,4...|  0.0|\n",
            "| Private investme...|(10000,[26,38,46,...|  0.0|\n",
            "| Soaring crude pr...|(10000,[15,28,46,...|  0.0|\n",
            "| Authorities have...|(10000,[0,32,35,4...|  0.0|\n",
            "| Tearaway world o...|(10000,[1,2,11,28...|  0.0|\n",
            "| Stocks ended sli...|(10000,[3,13,14,2...|  0.0|\n",
            "| Assets of the na...|(10000,[0,4,10,15...|  0.0|\n",
            "| Retail sales bou...|(10000,[0,1,10,15...|  0.0|\n",
            "|\" After earning a...|(10000,[98,99,125...|  0.0|\n",
            "| Short sellers, W...|(10000,[241,384,4...|  0.0|\n",
            "| Soaring crude pr...|(10000,[15,28,46,...|  0.0|\n",
            "| OPEC can do noth...|(10000,[0,24,28,2...|  0.0|\n",
            "| Non OPEC oil exp...|(10000,[0,21,28,3...|  0.0|\n",
            "| WASHINGTON/NEW Y...|(10000,[2,4,13,14...|  0.0|\n",
            "| The dollar tumbl...|(10000,[2,14,72,1...|  0.0|\n",
            "|If you think you ...|(10000,[74,77,143...|  0.0|\n",
            "|The purchasing po...|(10000,[46,54,167...|  0.0|\n",
            "|There is little c...|(10000,[29,46,75,...|  0.0|\n",
            "|The US trade defi...|(10000,[2,32,72,1...|  0.0|\n",
            "|Oil giant Shell c...|(10000,[16,32,103...|  0.0|\n",
            "+--------------------+--------------------+-----+\n",
            "only showing top 20 rows\n",
            "\n"
          ]
        }
      ],
      "source": [
        "processed.select('description','features','label').show()"
      ]
    },
    {
      "cell_type": "code",
      "execution_count": null,
      "metadata": {
        "colab": {
          "base_uri": "https://localhost:8080/"
        },
        "id": "LQwMyjUdIPQF",
        "outputId": "f241bda4-3b51-4dd8-f9e3-f7e4dc47413d"
      },
      "outputs": [
        {
          "name": "stdout",
          "output_type": "stream",
          "text": [
            "Training Dataset Count: 84003\n",
            "Test Dataset Count: 35997\n"
          ]
        }
      ],
      "source": [
        "# set seed for reproducibility\n",
        "(trainingData, testData) = processed.randomSplit([0.7, 0.3], seed = 100)\n",
        "print(\"Training Dataset Count: \" + str(trainingData.count()))\n",
        "print(\"Test Dataset Count: \" + str(testData.count()))"
      ]
    },
    {
      "cell_type": "code",
      "execution_count": null,
      "metadata": {
        "colab": {
          "base_uri": "https://localhost:8080/"
        },
        "id": "cq30cb17IPQH",
        "outputId": "f573b9e6-70b4-480c-e56b-0da20a2ad25a"
      },
      "outputs": [
        {
          "name": "stdout",
          "output_type": "stream",
          "text": [
            "root\n",
            " |-- category: string (nullable = true)\n",
            " |-- description: string (nullable = true)\n",
            " |-- document: array (nullable = true)\n",
            " |    |-- element: struct (containsNull = true)\n",
            " |    |    |-- annotatorType: string (nullable = true)\n",
            " |    |    |-- begin: integer (nullable = false)\n",
            " |    |    |-- end: integer (nullable = false)\n",
            " |    |    |-- result: string (nullable = true)\n",
            " |    |    |-- metadata: map (nullable = true)\n",
            " |    |    |    |-- key: string\n",
            " |    |    |    |-- value: string (valueContainsNull = true)\n",
            " |    |    |-- embeddings: array (nullable = true)\n",
            " |    |    |    |-- element: float (containsNull = false)\n",
            " |-- token: array (nullable = true)\n",
            " |    |-- element: struct (containsNull = true)\n",
            " |    |    |-- annotatorType: string (nullable = true)\n",
            " |    |    |-- begin: integer (nullable = false)\n",
            " |    |    |-- end: integer (nullable = false)\n",
            " |    |    |-- result: string (nullable = true)\n",
            " |    |    |-- metadata: map (nullable = true)\n",
            " |    |    |    |-- key: string\n",
            " |    |    |    |-- value: string (valueContainsNull = true)\n",
            " |    |    |-- embeddings: array (nullable = true)\n",
            " |    |    |    |-- element: float (containsNull = false)\n",
            " |-- normalized: array (nullable = true)\n",
            " |    |-- element: struct (containsNull = true)\n",
            " |    |    |-- annotatorType: string (nullable = true)\n",
            " |    |    |-- begin: integer (nullable = false)\n",
            " |    |    |-- end: integer (nullable = false)\n",
            " |    |    |-- result: string (nullable = true)\n",
            " |    |    |-- metadata: map (nullable = true)\n",
            " |    |    |    |-- key: string\n",
            " |    |    |    |-- value: string (valueContainsNull = true)\n",
            " |    |    |-- embeddings: array (nullable = true)\n",
            " |    |    |    |-- element: float (containsNull = false)\n",
            " |-- cleanTokens: array (nullable = true)\n",
            " |    |-- element: struct (containsNull = true)\n",
            " |    |    |-- annotatorType: string (nullable = true)\n",
            " |    |    |-- begin: integer (nullable = false)\n",
            " |    |    |-- end: integer (nullable = false)\n",
            " |    |    |-- result: string (nullable = true)\n",
            " |    |    |-- metadata: map (nullable = true)\n",
            " |    |    |    |-- key: string\n",
            " |    |    |    |-- value: string (valueContainsNull = true)\n",
            " |    |    |-- embeddings: array (nullable = true)\n",
            " |    |    |    |-- element: float (containsNull = false)\n",
            " |-- stem: array (nullable = true)\n",
            " |    |-- element: struct (containsNull = true)\n",
            " |    |    |-- annotatorType: string (nullable = true)\n",
            " |    |    |-- begin: integer (nullable = false)\n",
            " |    |    |-- end: integer (nullable = false)\n",
            " |    |    |-- result: string (nullable = true)\n",
            " |    |    |-- metadata: map (nullable = true)\n",
            " |    |    |    |-- key: string\n",
            " |    |    |    |-- value: string (valueContainsNull = true)\n",
            " |    |    |-- embeddings: array (nullable = true)\n",
            " |    |    |    |-- element: float (containsNull = false)\n",
            " |-- token_features: array (nullable = true)\n",
            " |    |-- element: string (containsNull = true)\n",
            " |-- features: vector (nullable = true)\n",
            " |-- label: double (nullable = false)\n",
            "\n"
          ]
        }
      ],
      "source": [
        "trainingData.printSchema()"
      ]
    },
    {
      "cell_type": "code",
      "execution_count": null,
      "metadata": {
        "colab": {
          "base_uri": "https://localhost:8080/"
        },
        "id": "L1LRyPzWIPQK",
        "outputId": "9c4e2f12-e1ee-4ac6-f977-c2975ce30c66"
      },
      "outputs": [
        {
          "name": "stdout",
          "output_type": "stream",
          "text": [
            "+------------------------------+--------+------------------------------+-----+----------+\n",
            "|                   description|category|                   probability|label|prediction|\n",
            "+------------------------------+--------+------------------------------+-----+----------+\n",
            "|\" U.S. stocks were slightly...|Business|[0.9994155510323468,1.76045...|  0.0|       0.0|\n",
            "|\" U.S. blue chips declined ...|Business|[0.9973677889517072,9.95949...|  0.0|       0.0|\n",
            "|Attorney General Thomas F. ...|Business|[0.9967004676713661,0.00113...|  0.0|       0.0|\n",
            "|\" Stocks fell sharply  on W...|Business|[0.9956763796130114,0.00121...|  0.0|       0.0|\n",
            "|The airline sector, clouded...|Business|[0.994569929878784,0.002572...|  0.0|       0.0|\n",
            "|\" Shares of Ford Motor Co. ...|Business|[0.9937297313930828,0.00210...|  0.0|       0.0|\n",
            "|\" Stocks slipped on Tuesday...|Business|[0.9937243262893779,0.00210...|  0.0|       0.0|\n",
            "|\" Mid priced clothing retai...|Business|[0.993188337679912,0.003267...|  0.0|       0.0|\n",
            "| OPEC oil producers on Satu...|Business|[0.9931299924086019,0.00190...|  0.0|       0.0|\n",
            "|THE REGION Fidelity Investm...|Business|[0.9931032691100512,0.00403...|  0.0|       0.0|\n",
            "+------------------------------+--------+------------------------------+-----+----------+\n",
            "only showing top 10 rows\n",
            "\n"
          ]
        }
      ],
      "source": [
        "from pyspark.ml.classification import LogisticRegression\n",
        "\n",
        "lr = LogisticRegression(maxIter=10, regParam=0.3, elasticNetParam=0)\n",
        "\n",
        "lrModel = lr.fit(trainingData)\n",
        "\n",
        "predictions = lrModel.transform(testData)\n",
        "\n",
        "predictions.filter(predictions['prediction'] == 0) \\\n",
        "    .select(\"description\",\"category\",\"probability\",\"label\",\"prediction\") \\\n",
        "    .orderBy(\"probability\", ascending=False) \\\n",
        "    .show(n = 10, truncate = 30)"
      ]
    },
    {
      "cell_type": "code",
      "execution_count": null,
      "metadata": {
        "colab": {
          "base_uri": "https://localhost:8080/"
        },
        "id": "gPRKc6_1IPQO",
        "outputId": "1e338f5f-4e58-44d9-83b5-b58a5c112b61"
      },
      "outputs": [
        {
          "data": {
            "text/plain": [
              "0.9012594146000878"
            ]
          },
          "execution_count": 17,
          "metadata": {},
          "output_type": "execute_result"
        }
      ],
      "source": [
        "from pyspark.ml.evaluation import MulticlassClassificationEvaluator\n",
        "\n",
        "evaluator = MulticlassClassificationEvaluator(predictionCol=\"prediction\")\n",
        "\n",
        "evaluator.evaluate(predictions)"
      ]
    },
    {
      "cell_type": "code",
      "execution_count": null,
      "metadata": {
        "id": "7rOj1_VXIPQQ"
      },
      "outputs": [],
      "source": [
        "from sklearn.metrics import confusion_matrix, classification_report, accuracy_score\n",
        "y_true = predictions.select(\"label\")\n",
        "y_true = y_true.toPandas()\n",
        "\n",
        "y_pred = predictions.select(\"prediction\")\n",
        "y_pred = y_pred.toPandas()"
      ]
    },
    {
      "cell_type": "code",
      "execution_count": null,
      "metadata": {
        "colab": {
          "base_uri": "https://localhost:8080/"
        },
        "id": "XEgXvy9KIPQT",
        "outputId": "9d2b43a1-1e8e-4c88-c278-4610bf18e012"
      },
      "outputs": [
        {
          "data": {
            "text/plain": [
              "2.0    9378\n",
              "1.0    9079\n",
              "0.0    9015\n",
              "3.0    8525\n",
              "Name: prediction, dtype: int64"
            ]
          },
          "execution_count": 19,
          "metadata": {},
          "output_type": "execute_result"
        }
      ],
      "source": [
        "y_pred.prediction.value_counts()"
      ]
    },
    {
      "cell_type": "code",
      "execution_count": null,
      "metadata": {
        "colab": {
          "base_uri": "https://localhost:8080/"
        },
        "id": "0AHRzWCZIPQW",
        "outputId": "b18628bc-36db-4191-8499-d5c8a07461ca"
      },
      "outputs": [
        {
          "data": {
            "text/plain": [
              "array([[7794,  791,  105,  287],\n",
              "       [ 702, 7898,   85,  298],\n",
              "       [  47,   76, 8905,   88],\n",
              "       [ 472,  314,  283, 7852]])"
            ]
          },
          "execution_count": 20,
          "metadata": {},
          "output_type": "execute_result"
        }
      ],
      "source": [
        "cnf_matrix = confusion_matrix(list(y_true.label.astype(int)), list(y_pred.prediction.astype(int)))\n",
        "cnf_matrix"
      ]
    },
    {
      "cell_type": "code",
      "execution_count": null,
      "metadata": {
        "colab": {
          "base_uri": "https://localhost:8080/"
        },
        "id": "cTNup21PIPQZ",
        "outputId": "f3912c0f-80cf-4d8c-ce7d-9a676ac14bde"
      },
      "outputs": [
        {
          "name": "stdout",
          "output_type": "stream",
          "text": [
            "              precision    recall  f1-score   support\n",
            "\n",
            "         0.0       0.86      0.87      0.87      8977\n",
            "         1.0       0.87      0.88      0.87      8983\n",
            "         2.0       0.95      0.98      0.96      9116\n",
            "         3.0       0.92      0.88      0.90      8921\n",
            "\n",
            "    accuracy                           0.90     35997\n",
            "   macro avg       0.90      0.90      0.90     35997\n",
            "weighted avg       0.90      0.90      0.90     35997\n",
            "\n",
            "0.9014362307970109\n"
          ]
        }
      ],
      "source": [
        "print(classification_report(y_true.label, y_pred.prediction))\n",
        "print(accuracy_score(y_true.label, y_pred.prediction))"
      ]
    },
    {
      "cell_type": "markdown",
      "metadata": {
        "id": "PSSB-ZHJIPQb"
      },
      "source": [
        "### LogReg with TFIDF"
      ]
    },
    {
      "cell_type": "code",
      "execution_count": null,
      "metadata": {
        "colab": {
          "base_uri": "https://localhost:8080/"
        },
        "id": "mmWR-GnOIPQc",
        "outputId": "6d91217b-224b-4638-961f-9c0c8ba5e08a"
      },
      "outputs": [
        {
          "data": {
            "text/plain": [
              "120000"
            ]
          },
          "execution_count": 22,
          "metadata": {},
          "output_type": "execute_result"
        }
      ],
      "source": [
        "from pyspark.ml.feature import HashingTF, IDF\n",
        "\n",
        "hashingTF = HashingTF(inputCol=\"token_features\", outputCol=\"rawFeatures\", numFeatures=10000)\n",
        "\n",
        "idf = IDF(inputCol=\"rawFeatures\", outputCol=\"features\", minDocFreq=5) #minDocFreq: remove sparse terms\n",
        "\n",
        "nlp_pipeline_tf = Pipeline(\n",
        "    stages=[document_assembler, \n",
        "            tokenizer,\n",
        "            normalizer,\n",
        "            stopwords_cleaner, \n",
        "            stemmer, \n",
        "            finisher,\n",
        "            hashingTF,\n",
        "            idf,\n",
        "            label_stringIdx])\n",
        "\n",
        "nlp_model_tf = nlp_pipeline_tf.fit(newsDF)\n",
        "\n",
        "processed_tf = nlp_model_tf.transform(newsDF)\n",
        "\n",
        "processed_tf.count()\n"
      ]
    },
    {
      "cell_type": "code",
      "execution_count": null,
      "metadata": {
        "colab": {
          "base_uri": "https://localhost:8080/"
        },
        "id": "4RHs0RjOIPQe",
        "outputId": "2da472c8-fe19-4fec-9515-cd42c5628d20"
      },
      "outputs": [
        {
          "name": "stdout",
          "output_type": "stream",
          "text": [
            "+--------------------+--------------------+-----+\n",
            "|         description|            features|label|\n",
            "+--------------------+--------------------+-----+\n",
            "| Short sellers, W...|(10000,[551,621,6...|  0.0|\n",
            "| Private investme...|(10000,[157,831,9...|  0.0|\n",
            "| Soaring crude pr...|(10000,[793,1738,...|  0.0|\n",
            "| Authorities have...|(10000,[1548,1611...|  0.0|\n",
            "| Tearaway world o...|(10000,[323,585,1...|  0.0|\n",
            "| Stocks ended sli...|(10000,[453,609,6...|  0.0|\n",
            "| Assets of the na...|(10000,[258,444,1...|  0.0|\n",
            "| Retail sales bou...|(10000,[14,585,19...|  0.0|\n",
            "|\" After earning a...|(10000,[114,796,1...|  0.0|\n",
            "| Short sellers, W...|(10000,[551,621,6...|  0.0|\n",
            "| Soaring crude pr...|(10000,[793,1738,...|  0.0|\n",
            "| OPEC can do noth...|(10000,[298,616,9...|  0.0|\n",
            "| Non OPEC oil exp...|(10000,[616,1063,...|  0.0|\n",
            "| WASHINGTON/NEW Y...|(10000,[360,832,1...|  0.0|\n",
            "| The dollar tumbl...|(10000,[419,949,1...|  0.0|\n",
            "|If you think you ...|(10000,[1041,2059...|  0.0|\n",
            "|The purchasing po...|(10000,[901,2198,...|  0.0|\n",
            "|There is little c...|(10000,[320,515,5...|  0.0|\n",
            "|The US trade defi...|(10000,[419,444,1...|  0.0|\n",
            "|Oil giant Shell c...|(10000,[1336,1998...|  0.0|\n",
            "+--------------------+--------------------+-----+\n",
            "only showing top 20 rows\n",
            "\n"
          ]
        }
      ],
      "source": [
        "# set seed for reproducibility\n",
        "processed_tf.select('description','features','label').show()"
      ]
    },
    {
      "cell_type": "code",
      "execution_count": null,
      "metadata": {
        "colab": {
          "base_uri": "https://localhost:8080/"
        },
        "id": "UHewYwjbIPQg",
        "outputId": "4dfaa178-9ebe-4961-b11f-77498311bfe3"
      },
      "outputs": [
        {
          "name": "stdout",
          "output_type": "stream",
          "text": [
            "Training Dataset Count: 84003\n",
            "Test Dataset Count: 35997\n"
          ]
        }
      ],
      "source": [
        "(trainingData, testData) = processed_tf.randomSplit([0.7, 0.3], seed = 100)\n",
        "print(\"Training Dataset Count: \" + str(trainingData.count()))\n",
        "print(\"Test Dataset Count: \" + str(testData.count()))"
      ]
    },
    {
      "cell_type": "code",
      "execution_count": null,
      "metadata": {
        "colab": {
          "base_uri": "https://localhost:8080/"
        },
        "id": "HcCnp1PrIPQj",
        "outputId": "a149f55f-b5fc-4099-aed0-da31fce6550e"
      },
      "outputs": [
        {
          "name": "stdout",
          "output_type": "stream",
          "text": [
            "+------------------------------+--------+------------------------------+-----+----------+\n",
            "|                   description|category|                   probability|label|prediction|\n",
            "+------------------------------+--------+------------------------------+-----+----------+\n",
            "|\" U.S. stocks were slightly...|Business|[0.9980625229523017,0.00110...|  0.0|       0.0|\n",
            "|Attorney General Thomas F. ...|Business|[0.9954633492899814,0.00198...|  0.0|       0.0|\n",
            "|\" Stocks fell sharply  on W...|Business|[0.9952042633903164,0.00168...|  0.0|       0.0|\n",
            "|\" U.S. regulators asked aut...|Business|[0.994793606580869,0.002037...|  0.0|       0.0|\n",
            "|Former Enron Corp. executiv...|Business|[0.9934328912836528,0.00284...|  0.0|       0.0|\n",
            "|\" Mid priced clothing retai...|Business|[0.9934062625525654,0.00240...|  0.0|       0.0|\n",
            "|\" Stocks slipped on Tuesday...|Business|[0.992721031666177,0.002093...|  0.0|       0.0|\n",
            "|In NEW YORK, the major stoc...|Business|[0.9922994062426923,0.00273...|  0.0|       0.0|\n",
            "| Interest rates on U.S. 30 ...|Business|[0.9916102437607281,0.00324...|  0.0|       0.0|\n",
            "|\" Shares of Ford Motor Co. ...|Business|[0.9913121291716432,0.00237...|  0.0|       0.0|\n",
            "+------------------------------+--------+------------------------------+-----+----------+\n",
            "only showing top 10 rows\n",
            "\n"
          ]
        }
      ],
      "source": [
        "lrModel_tf = lr.fit(trainingData)\n",
        "\n",
        "predictions_tf = lrModel_tf.transform(testData)\n",
        "\n",
        "predictions_tf.select(\"description\",\"category\",\"probability\",\"label\",\"prediction\") \\\n",
        "    .orderBy(\"probability\", ascending=False) \\\n",
        "    .show(n = 10, truncate = 30)\n"
      ]
    },
    {
      "cell_type": "code",
      "execution_count": null,
      "metadata": {
        "colab": {
          "base_uri": "https://localhost:8080/"
        },
        "id": "j8EH6P4-IPQm",
        "outputId": "2bc12095-452e-4d75-b6fa-ef167c9a726b"
      },
      "outputs": [
        {
          "name": "stdout",
          "output_type": "stream",
          "text": [
            "              precision    recall  f1-score   support\n",
            "\n",
            "         0.0       0.85      0.86      0.85      8977\n",
            "         1.0       0.86      0.86      0.86      8983\n",
            "         2.0       0.94      0.96      0.95      9116\n",
            "         3.0       0.91      0.87      0.89      8921\n",
            "\n",
            "    accuracy                           0.89     35997\n",
            "   macro avg       0.89      0.89      0.89     35997\n",
            "weighted avg       0.89      0.89      0.89     35997\n",
            "\n",
            "0.889018529321888\n"
          ]
        }
      ],
      "source": [
        "y_true = predictions_tf.select(\"label\")\n",
        "y_true = y_true.toPandas()\n",
        "\n",
        "y_pred = predictions_tf.select(\"prediction\")\n",
        "y_pred = y_pred.toPandas()\n",
        "\n",
        "print(classification_report(y_true.label, y_pred.prediction))\n",
        "print(accuracy_score(y_true.label, y_pred.prediction))"
      ]
    },
    {
      "cell_type": "markdown",
      "metadata": {
        "id": "6bdwtu_9IPQp"
      },
      "source": [
        "### Random Forest with TFIDF"
      ]
    },
    {
      "cell_type": "code",
      "execution_count": null,
      "metadata": {
        "id": "ILNZ4-vPIPQp"
      },
      "outputs": [],
      "source": [
        "from pyspark.ml.classification import RandomForestClassifier\n",
        "\n",
        "rf = RandomForestClassifier(labelCol=\"label\", \\\n",
        "                            featuresCol=\"features\", \\\n",
        "                            numTrees = 100, \\\n",
        "                            maxDepth = 4, \\\n",
        "                            maxBins = 32)\n",
        "\n",
        "# Train model with Training Data\n",
        "rfModel = rf.fit(trainingData)\n",
        "predictions_rf = rfModel.transform(testData)\n"
      ]
    },
    {
      "cell_type": "code",
      "execution_count": null,
      "metadata": {
        "colab": {
          "base_uri": "https://localhost:8080/"
        },
        "id": "pY9EQY1tIPQr",
        "outputId": "87f4d07e-600e-4239-8fcf-285fe65b79ba"
      },
      "outputs": [
        {
          "name": "stdout",
          "output_type": "stream",
          "text": [
            "+------------------------------+--------+------------------------------+-----+----------+\n",
            "|                   description|category|                   probability|label|prediction|\n",
            "+------------------------------+--------+------------------------------+-----+----------+\n",
            "|Wall Street stocks moved mo...|Business|[0.41147192022464146,0.2263...|  0.0|       0.0|\n",
            "|\" Stocks fell sharply  on W...|Business|[0.3948031123505214,0.21503...|  0.0|       0.0|\n",
            "|Amazon.com Inc (AMZN.O: Quo...|Business|[0.3851454394676118,0.24276...|  0.0|       0.0|\n",
            "|\" U.S. stocks opened lower ...|Business|[0.3851324881642944,0.22016...|  0.0|       0.0|\n",
            "| Stocks opened higher on Tu...|Business|[0.3843000856059863,0.21971...|  0.0|       0.0|\n",
            "| Investors sent stocks shar...|   World|[0.3834645051102415,0.22326...|  3.0|       0.0|\n",
            "| U.S. stocks jumped higher ...|Business|[0.3824948841679754,0.22218...|  0.0|       0.0|\n",
            "|\" U.S. stocks were slightly...|Business|[0.3817594575600658,0.23123...|  0.0|       0.0|\n",
            "|\" U.S. stock futures fell s...|Business|[0.37504483951477297,0.2495...|  0.0|       0.0|\n",
            "|\" U.S. stocks tumbled on Th...|Business|[0.37437321958267705,0.2485...|  0.0|       0.0|\n",
            "+------------------------------+--------+------------------------------+-----+----------+\n",
            "only showing top 10 rows\n",
            "\n"
          ]
        }
      ],
      "source": [
        "predictions_rf.select(\"description\",\"category\",\"probability\",\"label\",\"prediction\") \\\n",
        "    .orderBy(\"probability\", ascending=False) \\\n",
        "    .show(n = 10, truncate = 30)"
      ]
    },
    {
      "cell_type": "code",
      "execution_count": null,
      "metadata": {
        "colab": {
          "base_uri": "https://localhost:8080/"
        },
        "id": "7_vXMkvuIPQu",
        "outputId": "a26cf96a-62b9-413b-a225-f3dd54db203a"
      },
      "outputs": [
        {
          "name": "stdout",
          "output_type": "stream",
          "text": [
            "              precision    recall  f1-score   support\n",
            "\n",
            "         0.0       0.76      0.69      0.72      8977\n",
            "         1.0       0.78      0.67      0.72      8983\n",
            "         2.0       0.72      0.90      0.80      9116\n",
            "         3.0       0.78      0.77      0.77      8921\n",
            "\n",
            "    accuracy                           0.76     35997\n",
            "   macro avg       0.76      0.76      0.75     35997\n",
            "weighted avg       0.76      0.76      0.75     35997\n",
            "\n",
            "0.7570075284051448\n"
          ]
        }
      ],
      "source": [
        "y_true = predictions_rf.select(\"label\")\n",
        "y_true = y_true.toPandas()\n",
        "\n",
        "y_pred = predictions_rf.select(\"prediction\")\n",
        "y_pred = y_pred.toPandas()\n",
        "\n",
        "print(classification_report(y_true.label, y_pred.prediction))\n",
        "print(accuracy_score(y_true.label, y_pred.prediction))"
      ]
    },
    {
      "cell_type": "markdown",
      "metadata": {
        "id": "z3tdY1_oIPQ0"
      },
      "source": [
        "## LogReg with Spark NLP Glove Word Embeddings"
      ]
    },
    {
      "cell_type": "code",
      "execution_count": null,
      "metadata": {
        "colab": {
          "base_uri": "https://localhost:8080/"
        },
        "id": "4GVKps1mIPQ0",
        "outputId": "7604b476-69e5-4ed8-b244-fca2014d74c9"
      },
      "outputs": [
        {
          "name": "stdout",
          "output_type": "stream",
          "text": [
            "glove_100d download started this may take some time.\n",
            "Approximate size to download 145.3 MB\n",
            "[OK!]\n"
          ]
        },
        {
          "data": {
            "text/plain": [
              "120000"
            ]
          },
          "execution_count": 30,
          "metadata": {},
          "output_type": "execute_result"
        }
      ],
      "source": [
        "document_assembler = DocumentAssembler() \\\n",
        "      .setInputCol(\"description\") \\\n",
        "      .setOutputCol(\"document\")\n",
        "    \n",
        "tokenizer = Tokenizer() \\\n",
        "      .setInputCols([\"document\"]) \\\n",
        "      .setOutputCol(\"token\")\n",
        "    \n",
        "normalizer = Normalizer() \\\n",
        "      .setInputCols([\"token\"]) \\\n",
        "      .setOutputCol(\"normalized\")\n",
        "\n",
        "stopwords_cleaner = StopWordsCleaner()\\\n",
        "      .setInputCols(\"normalized\")\\\n",
        "      .setOutputCol(\"cleanTokens\")\\\n",
        "      .setCaseSensitive(False)\n",
        "\n",
        "glove_embeddings = WordEmbeddingsModel().pretrained() \\\n",
        "      .setInputCols([\"document\",'cleanTokens'])\\\n",
        "      .setOutputCol(\"embeddings\")\\\n",
        "      .setCaseSensitive(False)\n",
        "\n",
        "embeddingsSentence = SentenceEmbeddings() \\\n",
        "      .setInputCols([\"document\", \"embeddings\"]) \\\n",
        "      .setOutputCol(\"sentence_embeddings\") \\\n",
        "      .setPoolingStrategy(\"AVERAGE\")\n",
        "    \n",
        "embeddings_finisher = EmbeddingsFinisher() \\\n",
        "      .setInputCols([\"sentence_embeddings\"]) \\\n",
        "      .setOutputCols([\"finished_sentence_embeddings\"]) \\\n",
        "      .setOutputAsVector(True)\\\n",
        "      .setCleanAnnotations(False)\n",
        "\n",
        "explodeVectors = SQLTransformer(statement=\n",
        "      \"SELECT EXPLODE(finished_sentence_embeddings) AS features, * FROM __THIS__\")\n",
        "\n",
        "label_stringIdx = StringIndexer(inputCol = \"category\", outputCol = \"label\")\n",
        "\n",
        "\n",
        "nlp_pipeline_w2v = Pipeline(\n",
        "    stages=[document_assembler, \n",
        "            tokenizer,\n",
        "            normalizer,\n",
        "            stopwords_cleaner, \n",
        "            glove_embeddings,\n",
        "            embeddingsSentence,\n",
        "            embeddings_finisher,\n",
        "            explodeVectors,\n",
        "            label_stringIdx])\n",
        "\n",
        "nlp_model_w2v = nlp_pipeline_w2v.fit(newsDF)\n",
        "\n",
        "processed_w2v = nlp_model_w2v.transform(newsDF)\n",
        "\n",
        "processed_w2v.count()\n"
      ]
    },
    {
      "cell_type": "code",
      "execution_count": null,
      "metadata": {
        "colab": {
          "base_uri": "https://localhost:8080/"
        },
        "id": "K8kfQldjVdUt",
        "outputId": "b90389e3-3ce1-44f4-b3f5-496d1a9f4070"
      },
      "outputs": [
        {
          "data": {
            "text/plain": [
              "['features',\n",
              " 'category',\n",
              " 'description',\n",
              " 'document',\n",
              " 'token',\n",
              " 'normalized',\n",
              " 'cleanTokens',\n",
              " 'embeddings',\n",
              " 'sentence_embeddings',\n",
              " 'finished_sentence_embeddings',\n",
              " 'label']"
            ]
          },
          "execution_count": 31,
          "metadata": {},
          "output_type": "execute_result"
        }
      ],
      "source": [
        "processed_w2v.columns"
      ]
    },
    {
      "cell_type": "code",
      "execution_count": null,
      "metadata": {
        "colab": {
          "base_uri": "https://localhost:8080/"
        },
        "id": "3iRIsxANVfFM",
        "outputId": "41671dba-25d3-46a1-f8e0-0ed8828c12b4"
      },
      "outputs": [
        {
          "name": "stdout",
          "output_type": "stream",
          "text": [
            "+--------------------+--------+--------------------+--------------------+--------------------+--------------------+--------------------+--------------------+--------------------+----------------------------+-----+\n",
            "|            features|category|         description|            document|               token|          normalized|         cleanTokens|          embeddings| sentence_embeddings|finished_sentence_embeddings|label|\n",
            "+--------------------+--------+--------------------+--------------------+--------------------+--------------------+--------------------+--------------------+--------------------+----------------------------+-----+\n",
            "|[-0.1556767076253...|Business| Short sellers, W...|[{document, 0, 84...|[{token, 1, 5, Sh...|[{token, 1, 5, Sh...|[{token, 1, 5, Sh...|[{word_embeddings...|[{sentence_embedd...|        [[-0.155676707625...|  0.0|\n",
            "|[-0.0144653050228...|Business| Private investme...|[{document, 0, 20...|[{token, 1, 7, Pr...|[{token, 1, 7, Pr...|[{token, 1, 7, Pr...|[{word_embeddings...|[{sentence_embedd...|        [[-0.014465305022...|  0.0|\n",
            "|[0.10348732769489...|Business| Soaring crude pr...|[{document, 0, 17...|[{token, 1, 7, So...|[{token, 1, 7, So...|[{token, 1, 7, So...|[{word_embeddings...|[{sentence_embedd...|        [[0.1034873276948...|  0.0|\n",
            "|[-0.0355810523033...|Business| Authorities have...|[{document, 0, 18...|[{token, 1, 11, A...|[{token, 1, 11, A...|[{token, 1, 11, A...|[{word_embeddings...|[{sentence_embedd...|        [[-0.035581052303...|  0.0|\n",
            "|[0.00647281948477...|Business| Tearaway world o...|[{document, 0, 15...|[{token, 1, 8, Te...|[{token, 1, 8, Te...|[{token, 1, 8, Te...|[{word_embeddings...|[{sentence_embedd...|        [[0.0064728194847...|  0.0|\n",
            "+--------------------+--------+--------------------+--------------------+--------------------+--------------------+--------------------+--------------------+--------------------+----------------------------+-----+\n",
            "only showing top 5 rows\n",
            "\n"
          ]
        }
      ],
      "source": [
        "processed_w2v.show(5)"
      ]
    },
    {
      "cell_type": "code",
      "execution_count": null,
      "metadata": {
        "colab": {
          "base_uri": "https://localhost:8080/"
        },
        "id": "RLVVHJEHIPQ3",
        "outputId": "c86966bb-d7f0-4975-9d51-fc90879a5971"
      },
      "outputs": [
        {
          "data": {
            "text/plain": [
              "[Row(finished_sentence_embeddings=[DenseVector([-0.1557, 0.196, 0.1099, -0.3089, 0.16, 0.1672, -0.4649, -0.1101, -0.053, -0.1551, 0.0327, 0.0772, 0.1494, -0.1865, 0.1155, -0.0597, 0.0234, -0.0451, 0.2361, -0.0089, 0.3358, 0.0444, 0.0088, -0.1453, 0.2289, 0.0914, -0.1665, -0.3726, 0.1892, 0.121, 0.1993, -0.0239, -0.1346, 0.1159, 0.2086, 0.1285, 0.068, 0.1372, 0.3153, -0.1934, 0.0257, -0.226, -0.0984, 0.1139, 0.1413, -0.3743, 0.072, 0.1403, 0.251, -0.3106, 0.1709, -0.0697, -0.0554, 0.5123, -0.1873, -1.7784, 0.0295, 0.1014, 0.9268, 0.2129, -0.1354, 0.5739, -0.0679, 0.461, 0.4216, 0.0225, 0.4456, -0.2462, 0.1411, -0.3258, 0.0025, 0.0114, -0.3895, -0.1106, -0.261, 0.0147, 0.0781, 0.1268, -0.2042, -0.2278, 0.5096, 0.1539, -0.3515, -0.0102, -0.7003, -0.3872, -0.1668, -0.2405, -0.0766, 0.1396, -0.0592, -0.1568, -0.1606, -0.1371, -0.684, -0.2549, -0.1541, 0.1536, 0.2715, 0.3342])])]"
            ]
          },
          "execution_count": 33,
          "metadata": {},
          "output_type": "execute_result"
        }
      ],
      "source": [
        "processed_w2v.select('finished_sentence_embeddings').take(1)"
      ]
    },
    {
      "cell_type": "code",
      "execution_count": null,
      "metadata": {
        "id": "0JRYsk0mIPQ_"
      },
      "outputs": [],
      "source": [
        "# IF SQLTransformer IS NOT USED INSIDE THE PIPELINE, WE CAN EXPLODE OUTSIDE\n",
        "from pyspark.sql.functions import explode\n",
        "\n",
        "# processed_w2v= processed_w2v.withColumn(\"features\", explode(processed_w2v.finished_sentence_embeddings))"
      ]
    },
    {
      "cell_type": "code",
      "execution_count": null,
      "metadata": {
        "colab": {
          "base_uri": "https://localhost:8080/"
        },
        "id": "ZWp3CA_kIPRB",
        "outputId": "ef843d5b-809a-4d68-c18c-1785ec48d25d"
      },
      "outputs": [
        {
          "data": {
            "text/plain": [
              "[Row(features=DenseVector([-0.1557, 0.196, 0.1099, -0.3089, 0.16, 0.1672, -0.4649, -0.1101, -0.053, -0.1551, 0.0327, 0.0772, 0.1494, -0.1865, 0.1155, -0.0597, 0.0234, -0.0451, 0.2361, -0.0089, 0.3358, 0.0444, 0.0088, -0.1453, 0.2289, 0.0914, -0.1665, -0.3726, 0.1892, 0.121, 0.1993, -0.0239, -0.1346, 0.1159, 0.2086, 0.1285, 0.068, 0.1372, 0.3153, -0.1934, 0.0257, -0.226, -0.0984, 0.1139, 0.1413, -0.3743, 0.072, 0.1403, 0.251, -0.3106, 0.1709, -0.0697, -0.0554, 0.5123, -0.1873, -1.7784, 0.0295, 0.1014, 0.9268, 0.2129, -0.1354, 0.5739, -0.0679, 0.461, 0.4216, 0.0225, 0.4456, -0.2462, 0.1411, -0.3258, 0.0025, 0.0114, -0.3895, -0.1106, -0.261, 0.0147, 0.0781, 0.1268, -0.2042, -0.2278, 0.5096, 0.1539, -0.3515, -0.0102, -0.7003, -0.3872, -0.1668, -0.2405, -0.0766, 0.1396, -0.0592, -0.1568, -0.1606, -0.1371, -0.684, -0.2549, -0.1541, 0.1536, 0.2715, 0.3342]))]"
            ]
          },
          "execution_count": 35,
          "metadata": {},
          "output_type": "execute_result"
        }
      ],
      "source": [
        "processed_w2v.select(\"features\").take(1)"
      ]
    },
    {
      "cell_type": "code",
      "execution_count": null,
      "metadata": {
        "colab": {
          "base_uri": "https://localhost:8080/"
        },
        "id": "yMN2OwXlIPRF",
        "outputId": "39bb2ae1-a62c-4153-fa50-ab42b0dcf698"
      },
      "outputs": [
        {
          "data": {
            "text/plain": [
              "[Row(features=DenseVector([-0.1557, 0.196, 0.1099, -0.3089, 0.16, 0.1672, -0.4649, -0.1101, -0.053, -0.1551, 0.0327, 0.0772, 0.1494, -0.1865, 0.1155, -0.0597, 0.0234, -0.0451, 0.2361, -0.0089, 0.3358, 0.0444, 0.0088, -0.1453, 0.2289, 0.0914, -0.1665, -0.3726, 0.1892, 0.121, 0.1993, -0.0239, -0.1346, 0.1159, 0.2086, 0.1285, 0.068, 0.1372, 0.3153, -0.1934, 0.0257, -0.226, -0.0984, 0.1139, 0.1413, -0.3743, 0.072, 0.1403, 0.251, -0.3106, 0.1709, -0.0697, -0.0554, 0.5123, -0.1873, -1.7784, 0.0295, 0.1014, 0.9268, 0.2129, -0.1354, 0.5739, -0.0679, 0.461, 0.4216, 0.0225, 0.4456, -0.2462, 0.1411, -0.3258, 0.0025, 0.0114, -0.3895, -0.1106, -0.261, 0.0147, 0.0781, 0.1268, -0.2042, -0.2278, 0.5096, 0.1539, -0.3515, -0.0102, -0.7003, -0.3872, -0.1668, -0.2405, -0.0766, 0.1396, -0.0592, -0.1568, -0.1606, -0.1371, -0.684, -0.2549, -0.1541, 0.1536, 0.2715, 0.3342]))]"
            ]
          },
          "execution_count": 36,
          "metadata": {},
          "output_type": "execute_result"
        }
      ],
      "source": [
        "processed_w2v.select(\"features\").take(1)"
      ]
    },
    {
      "cell_type": "code",
      "execution_count": null,
      "metadata": {
        "colab": {
          "base_uri": "https://localhost:8080/"
        },
        "id": "ViXxQrhSIPRH",
        "outputId": "fb21873d-8f2e-45e0-b220-483fee73922b"
      },
      "outputs": [
        {
          "name": "stdout",
          "output_type": "stream",
          "text": [
            "+--------------------+--------------------+-----+\n",
            "|         description|            features|label|\n",
            "+--------------------+--------------------+-----+\n",
            "| Short sellers, W...|[-0.1556767076253...|  0.0|\n",
            "| Private investme...|[-0.0144653050228...|  0.0|\n",
            "| Soaring crude pr...|[0.10348732769489...|  0.0|\n",
            "| Authorities have...|[-0.0355810523033...|  0.0|\n",
            "| Tearaway world o...|[0.00647281948477...|  0.0|\n",
            "| Stocks ended sli...|[0.20069395005702...|  0.0|\n",
            "| Assets of the na...|[0.38012433052062...|  0.0|\n",
            "| Retail sales bou...|[0.20352847874164...|  0.0|\n",
            "|\" After earning a...|[0.13536226749420...|  0.0|\n",
            "| Short sellers, W...|[-0.1556767076253...|  0.0|\n",
            "| Soaring crude pr...|[0.10348732769489...|  0.0|\n",
            "| OPEC can do noth...|[0.20307321846485...|  0.0|\n",
            "| Non OPEC oil exp...|[0.09010648727416...|  0.0|\n",
            "| WASHINGTON/NEW Y...|[0.10887209326028...|  0.0|\n",
            "| The dollar tumbl...|[0.05723679438233...|  0.0|\n",
            "|If you think you ...|[0.11463439464569...|  0.0|\n",
            "|The purchasing po...|[0.05890964344143...|  0.0|\n",
            "|There is little c...|[0.11162020266056...|  0.0|\n",
            "|The US trade defi...|[0.09235177189111...|  0.0|\n",
            "|Oil giant Shell c...|[0.01885983347892...|  0.0|\n",
            "+--------------------+--------------------+-----+\n",
            "only showing top 20 rows\n",
            "\n"
          ]
        }
      ],
      "source": [
        "processed_w2v.select('description','features','label').show()\n"
      ]
    },
    {
      "cell_type": "code",
      "execution_count": null,
      "metadata": {
        "colab": {
          "base_uri": "https://localhost:8080/"
        },
        "id": "Vx__5MOLIPRK",
        "outputId": "20522faa-181a-41b4-8d55-076a0cc49600"
      },
      "outputs": [
        {
          "name": "stdout",
          "output_type": "stream",
          "text": [
            "Training Dataset Count: 84003\n",
            "Test Dataset Count: 35997\n"
          ]
        }
      ],
      "source": [
        "# set seed for reproducibility\n",
        "(trainingData, testData) = processed_w2v.randomSplit([0.7, 0.3], seed = 100)\n",
        "print(\"Training Dataset Count: \" + str(trainingData.count()))\n",
        "print(\"Test Dataset Count: \" + str(testData.count()))"
      ]
    },
    {
      "cell_type": "code",
      "execution_count": null,
      "metadata": {
        "id": "FK6x3ljGIPRO"
      },
      "outputs": [],
      "source": [
        "from pyspark.sql.functions import udf\n",
        "\n",
        "@udf(\"long\")\n",
        "def num_nonzeros(v):\n",
        "    return v.numNonzeros()\n",
        "\n",
        "testData = testData.where(num_nonzeros(\"features\") != 0)"
      ]
    },
    {
      "cell_type": "code",
      "execution_count": null,
      "metadata": {
        "id": "jdbLwEsnIPRR"
      },
      "outputs": [],
      "source": [
        "lrModel_w2v = lr.fit(trainingData)"
      ]
    },
    {
      "cell_type": "code",
      "execution_count": null,
      "metadata": {
        "colab": {
          "base_uri": "https://localhost:8080/"
        },
        "id": "FoSYCqDjIPRT",
        "outputId": "51a5a58c-f9b0-46f2-8793-aea435a5fbbb"
      },
      "outputs": [
        {
          "name": "stdout",
          "output_type": "stream",
          "text": [
            "+------------------------------+--------+------------------------------+-----+----------+\n",
            "|                   description|category|                   probability|label|prediction|\n",
            "+------------------------------+--------+------------------------------+-----+----------+\n",
            "|THE stock market is rising,...|Business|[0.9891063193483841,0.00550...|  0.0|       0.0|\n",
            "|Wachovia Corp. said Friday ...|Business|[0.9885060326689832,0.00899...|  0.0|       0.0|\n",
            "| Stocks fell on Monday, wit...|Business|[0.9853643008568156,0.00998...|  0.0|       0.0|\n",
            "|Japan #39;s Nikkei 225 Stoc...|Business|[0.9836332401598876,0.00733...|  0.0|       0.0|\n",
            "| ChevronTexaco Corp., the N...|Business|[0.9819751792508788,0.01274...|  0.0|       0.0|\n",
            "| US investment banking gian...|Business|[0.9817478639668558,0.01379...|  0.0|       0.0|\n",
            "|  Shares of rival retailers...|Business|[0.9812756635225758,0.01221...|  0.0|       0.0|\n",
            "| Goldman Sachs Group Inc. o...|Business|[0.9812715031901479,0.01081...|  0.0|       0.0|\n",
            "| Tokyo stocks opened lower ...|Business|[0.9808590948657068,0.00678...|  0.0|       0.0|\n",
            "|British Airways Plc, Europe...|Business|[0.9790920420089776,0.01346...|  0.0|       0.0|\n",
            "+------------------------------+--------+------------------------------+-----+----------+\n",
            "only showing top 10 rows\n",
            "\n"
          ]
        }
      ],
      "source": [
        "predictions_w2v = lrModel_w2v.transform(testData)\n",
        "\n",
        "predictions_w2v.select(\"description\",\"category\",\"probability\",\"label\",\"prediction\") \\\n",
        "    .orderBy(\"probability\", ascending=False) \\\n",
        "    .show(n = 10, truncate = 30)\n"
      ]
    },
    {
      "cell_type": "code",
      "execution_count": null,
      "metadata": {
        "colab": {
          "background_save": true
        },
        "id": "P2WQ3rZmIPRX",
        "outputId": "bfe80e1c-bc54-4fef-e61c-a118f031d440"
      },
      "outputs": [
        {
          "name": "stdout",
          "output_type": "stream",
          "text": [
            "              precision    recall  f1-score   support\n",
            "\n",
            "         0.0       0.83      0.82      0.82      9051\n",
            "         1.0       0.82      0.81      0.82      9057\n",
            "         2.0       0.93      0.96      0.94      8972\n",
            "         3.0       0.88      0.87      0.87      8917\n",
            "\n",
            "    accuracy                           0.86     35997\n",
            "   macro avg       0.86      0.86      0.86     35997\n",
            "weighted avg       0.86      0.86      0.86     35997\n",
            "\n",
            "0.8642942467427841\n"
          ]
        }
      ],
      "source": [
        "y_true = predictions_w2v.select(\"label\")\n",
        "y_true = y_true.toPandas()\n",
        "\n",
        "y_pred = predictions_w2v.select(\"prediction\")\n",
        "y_pred = y_pred.toPandas()\n",
        "\n",
        "print(classification_report(y_true.label, y_pred.prediction))\n",
        "print(accuracy_score(y_true.label, y_pred.prediction))"
      ]
    },
    {
      "cell_type": "code",
      "execution_count": null,
      "metadata": {
        "colab": {
          "background_save": true
        },
        "id": "idNRXJJiIPRa",
        "outputId": "984232c0-8fe2-467b-8e86-f2b9bbdaaf5b"
      },
      "outputs": [
        {
          "name": "stdout",
          "output_type": "stream",
          "text": [
            "+--------------------------------------------------+--------------------------------------------------+\n",
            "|                                       description|                                            result|\n",
            "+--------------------------------------------------+--------------------------------------------------+\n",
            "| Short sellers, Wall Street's dwindling band of...|[Short, sellers, Wall, Streets, dwindling, band...|\n",
            "| Private investment firm Carlyle Group, which h...|[Private, investment, firm, Carlyle, Group, rep...|\n",
            "| Soaring crude prices plus worries about the ec...|[Soaring, crude, prices, plus, worries, economy...|\n",
            "| Authorities have halted oil export flows from ...|[Authorities, halted, oil, export, flows, main,...|\n",
            "| Tearaway world oil prices, toppling records an...|[Tearaway, world, oil, prices, toppling, record...|\n",
            "| Stocks ended slightly higher on Friday but sta...|[Stocks, ended, slightly, higher, Friday, staye...|\n",
            "| Assets of the nation's retail money market mut...|[Assets, nations, retail, money, market, mutual...|\n",
            "| Retail sales bounced back a bit in July, and n...|[Retail, sales, bounced, back, bit, July, new, ...|\n",
            "|\" After earning a PH.D. in Sociology, Danny Baz...|[earning, PHD, Sociology, Danny, Bazil, Riley, ...|\n",
            "| Short sellers, Wall Street's dwindling  band o...|[Short, sellers, Wall, Streets, dwindling, band...|\n",
            "| Soaring crude prices plus worries  about the e...|[Soaring, crude, prices, plus, worries, economy...|\n",
            "| OPEC can do nothing to douse scorching  oil pr...|[OPEC, nothing, douse, scorching, oil, prices, ...|\n",
            "| Non OPEC oil exporters should consider  increa...|[Non, OPEC, oil, exporters, consider, increasin...|\n",
            "| WASHINGTON/NEW YORK (Reuters) - The auction fo...|[WASHINGTONNEW, YORK, Reuters, auction, Google,...|\n",
            "| The dollar tumbled broadly on Friday  after da...|[dollar, tumbled, broadly, Friday, data, showin...|\n",
            "|If you think you may need to help your elderly ...|[think, may, need, help, elderly, relatives, fi...|\n",
            "|The purchasing power of kids is a big part of w...|[purchasing, power, kids, big, part, backtoscho...|\n",
            "|There is little cause for celebration in the st...|[little, cause, celebration, stock, market, day...|\n",
            "|The US trade deficit has exploded 19 to a recor...|[US, trade, deficit, exploded, record, bn, oil,...|\n",
            "|Oil giant Shell could be bracing itself for a t...|[Oil, giant, Shell, bracing, takeover, attempt,...|\n",
            "+--------------------------------------------------+--------------------------------------------------+\n",
            "only showing top 20 rows\n",
            "\n"
          ]
        }
      ],
      "source": [
        "processed_w2v.select('description','cleanTokens.result').show(truncate=50)"
      ]
    },
    {
      "cell_type": "markdown",
      "metadata": {
        "id": "-6X5ppwOIPRf"
      },
      "source": [
        "## LogReg with Spark NLP Bert Embeddings"
      ]
    },
    {
      "cell_type": "code",
      "execution_count": null,
      "metadata": {
        "colab": {
          "base_uri": "https://localhost:8080/"
        },
        "id": "xdF5eFJcIPRf",
        "outputId": "c5cfee5c-404e-4ef3-e3b7-de02feb88b2f"
      },
      "outputs": [
        {
          "output_type": "stream",
          "name": "stdout",
          "text": [
            "bert_base_cased download started this may take some time.\n",
            "Approximate size to download 389.1 MB\n",
            "[OK!]\n"
          ]
        }
      ],
      "source": [
        "document_assembler = DocumentAssembler() \\\n",
        "      .setInputCol(\"description\") \\\n",
        "      .setOutputCol(\"document\")\n",
        "    \n",
        "tokenizer = Tokenizer() \\\n",
        "      .setInputCols([\"document\"]) \\\n",
        "      .setOutputCol(\"token\")\n",
        "    \n",
        "normalizer = Normalizer() \\\n",
        "      .setInputCols([\"token\"]) \\\n",
        "      .setOutputCol(\"normalized\")\n",
        "\n",
        "stopwords_cleaner = StopWordsCleaner()\\\n",
        "      .setInputCols(\"normalized\")\\\n",
        "      .setOutputCol(\"cleanTokens\")\\\n",
        "      .setCaseSensitive(False)\n",
        "\n",
        "bert_embeddings = BertEmbeddings.pretrained('bert_base_cased', 'en') \\\n",
        "      .setInputCols([\"document\",'cleanTokens'])\\\n",
        "      .setOutputCol(\"bert\")\\\n",
        "      .setCaseSensitive(False)\\\n",
        "\n",
        "embeddingsSentence = SentenceEmbeddings() \\\n",
        "      .setInputCols([\"document\", \"bert\"]) \\\n",
        "      .setOutputCol(\"sentence_embeddings\") \\\n",
        "      .setPoolingStrategy(\"AVERAGE\")\n",
        "    \n",
        "embeddings_finisher = EmbeddingsFinisher() \\\n",
        "      .setInputCols([\"sentence_embeddings\"]) \\\n",
        "      .setOutputCols([\"finished_sentence_embeddings\"]) \\\n",
        "      .setOutputAsVector(True)\\\n",
        "      .setCleanAnnotations(False)\n",
        "\n",
        "label_stringIdx = StringIndexer(inputCol = \"category\", outputCol = \"label\")\n",
        "\n",
        "\n",
        "nlp_pipeline_bert = Pipeline(\n",
        "    stages=[document_assembler, \n",
        "            tokenizer,\n",
        "            normalizer,\n",
        "            stopwords_cleaner, \n",
        "            bert_embeddings,\n",
        "            embeddingsSentence,\n",
        "            embeddings_finisher,\n",
        "            label_stringIdx])\n",
        "\n",
        "nlp_model_bert = nlp_pipeline_bert.fit(newsDF)\n",
        "\n",
        "processed_bert = nlp_model_bert.transform(newsDF)\n",
        "\n",
        "processed_bert.count()\n"
      ]
    },
    {
      "cell_type": "code",
      "metadata": {
        "outputId": "d4dd71db-0b10-4851-bf15-da13553578c7",
        "id": "S3Bps6bt5A8Z"
      },
      "source": [
        "from pyspark.sql.functions import explode\n",
        "\n",
        "processed_bert= processed_bert.withColumn(\"features\", explode(processed_bert.finished_sentence_embeddings))\n",
        "\n",
        "processed_bert.select('description','features','label').show()\n"
      ],
      "execution_count": null,
      "outputs": [
        {
          "name": "stdout",
          "output_type": "stream",
          "text": [
            "+--------------------+--------------------+-----+\n",
            "|         description|            features|label|\n",
            "+--------------------+--------------------+-----+\n",
            "|Srinagar, Nov 6 (...|[-0.0763546451926...|  2.0|\n",
            "|France's presiden...|[0.01601043716073...|  2.0|\n",
            "|President  Bush s...|[0.11258428543806...|  2.0|\n",
            "|Established Shiit...|[0.09958435595035...|  2.0|\n",
            "|While Democrats p...|[-0.3666543066501...|  2.0|\n",
            "|Rural and deprive...|[0.08482994884252...|  1.0|\n",
            "| Terrell Owens is...|[-0.1571628898382...|  3.0|\n",
            "|\" Gov. Ed Rendell...|[-0.0437468327581...|  3.0|\n",
            "| A month after a ...|[-0.1684152632951...|  3.0|\n",
            "| No Diana Taurasi...|[-0.0047841807827...|  3.0|\n",
            "| An upbeat Presid...|[0.15349867939949...|  2.0|\n",
            "| Gay and lesbian ...|[0.17594610154628...|  2.0|\n",
            "| Twenty three peo...|[-0.0070635229349...|  2.0|\n",
            "|  Connecticut Att...|[0.13604542613029...|  0.0|\n",
            "|A new report on g...|[0.07444920390844...|  1.0|\n",
            "|That Michael Siew...|[0.23243072628974...|  1.0|\n",
            "|Vice chairman of ...|[-0.2215369194746...|  1.0|\n",
            "|It #39;s good to ...|[-0.0571924299001...|  1.0|\n",
            "|Jacques Santini #...|[-0.1171142607927...|  3.0|\n",
            "|Chelsea have gone...|[-0.0265568681061...|  3.0|\n",
            "+--------------------+--------------------+-----+\n",
            "only showing top 20 rows\n",
            "\n"
          ]
        }
      ]
    },
    {
      "cell_type": "code",
      "metadata": {
        "outputId": "fbc3c603-d182-4362-8cd0-9d15e627ab08",
        "id": "WFxnzxWp5Eh9"
      },
      "source": [
        "# set seed for reproducibility\n",
        "(trainingData, testData) = processed_bert.randomSplit([0.7, 0.3], seed = 100)\n",
        "print(\"Training Dataset Count: \" + str(trainingData.count()))\n",
        "print(\"Test Dataset Count: \" + str(testData.count()))"
      ],
      "execution_count": null,
      "outputs": [
        {
          "name": "stdout",
          "output_type": "stream",
          "text": [
            "Training Dataset Count: 84045\n",
            "Test Dataset Count: 35955\n"
          ]
        }
      ]
    },
    {
      "cell_type": "code",
      "execution_count": null,
      "metadata": {
        "id": "kSe7wzqfIPRm"
      },
      "outputs": [],
      "source": [
        "from pyspark.ml.classification import LogisticRegression\n",
        "\n",
        "lr = LogisticRegression(maxIter=20, regParam=0.3, elasticNetParam=0)\n",
        "\n",
        "lrModel = lr.fit(trainingData)\n"
      ]
    },
    {
      "cell_type": "code",
      "execution_count": null,
      "metadata": {
        "id": "gTRXE2TrIPRo"
      },
      "outputs": [],
      "source": [
        "from pyspark.sql.functions import udf\n",
        "\n",
        "@udf(\"long\")\n",
        "def num_nonzeros(v):\n",
        "    return v.numNonzeros()\n",
        "\n",
        "testData = testData.where(num_nonzeros(\"features\") != 0)"
      ]
    },
    {
      "cell_type": "code",
      "metadata": {
        "outputId": "7405ad27-d24a-4dfd-d52b-f44850ad8bab",
        "id": "Iy-mW01L5Jg7"
      },
      "source": [
        "predictions = lrModel.transform(testData)\n",
        "\n",
        "predictions.select(\"description\",\"category\",\"probability\",\"label\",\"prediction\") \\\n",
        "    .orderBy(\"probability\", ascending=False) \\\n",
        "    .show(n = 10, truncate = 30)\n"
      ],
      "execution_count": null,
      "outputs": [
        {
          "name": "stdout",
          "output_type": "stream",
          "text": [
            "+------------------------------+--------+------------------------------+-----+----------+\n",
            "|                   description|category|                   probability|label|prediction|\n",
            "+------------------------------+--------+------------------------------+-----+----------+\n",
            "|The Securities and Exchange...|Business|[0.9967407593636138,0.00300...|  0.0|       0.0|\n",
            "|Stocks opened higher today,...|Business|[0.9928207319563264,0.00469...|  0.0|       0.0|\n",
            "| Retailer Payless ShoeSourc...|Business|[0.9926546087578139,0.00674...|  0.0|       0.0|\n",
            "|The insurance brokerage rep...|Business|[0.9917833732987117,0.00754...|  0.0|       0.0|\n",
            "|Shell outlined a profit str...|Business|[0.9916303454148256,0.00808...|  0.0|       0.0|\n",
            "| Countrywide Financial Corp...|Business|[0.9916172364634749,0.00514...|  0.0|       0.0|\n",
            "|PITTSBURGH Mellon Financial...|Business|[0.9915578428166462,0.00799...|  0.0|       0.0|\n",
            "|  Grocery wholesaler Flemin...|Business|[0.9915445608575104,0.00766...|  0.0|       0.0|\n",
            "|Mark Headley, who manages t...|Business|[0.9913036366415715,0.00795...|  0.0|       0.0|\n",
            "|Stocks fell for the second ...|Business|[0.9911328913959282,0.00419...|  0.0|       0.0|\n",
            "+------------------------------+--------+------------------------------+-----+----------+\n",
            "only showing top 10 rows\n",
            "\n"
          ]
        }
      ]
    },
    {
      "cell_type": "code",
      "metadata": {
        "outputId": "51a6dc2a-9fdb-4ed4-c254-38a4b18b843f",
        "id": "XWomsowD5QSa"
      },
      "source": [
        "from sklearn.metrics import confusion_matrix, classification_report, accuracy_score\n",
        "import pandas as pd\n",
        "\n",
        "df = predictions.select('description','category','label','prediction').toPandas()\n",
        "\n",
        "print(classification_report(df.label, df.prediction))\n",
        "print(accuracy_score(df.label, df.prediction))"
      ],
      "execution_count": null,
      "outputs": [
        {
          "name": "stdout",
          "output_type": "stream",
          "text": [
            "              precision    recall  f1-score   support\n",
            "\n",
            "         0.0       0.82      0.79      0.80      8911\n",
            "         1.0       0.81      0.80      0.81      8972\n",
            "         2.0       0.84      0.86      0.85      9008\n",
            "         3.0       0.90      0.94      0.92      9063\n",
            "\n",
            "    accuracy                           0.85     35954\n",
            "   macro avg       0.84      0.85      0.84     35954\n",
            "weighted avg       0.84      0.85      0.85     35954\n",
            "\n",
            "0.8459142237303221\n"
          ]
        }
      ]
    },
    {
      "cell_type": "markdown",
      "metadata": {
        "id": "tSCxUSkmIPRu"
      },
      "source": [
        "## LogReg with ELMO Embeddings"
      ]
    },
    {
      "cell_type": "code",
      "execution_count": null,
      "metadata": {
        "colab": {
          "base_uri": "https://localhost:8080/"
        },
        "id": "L_pCzKheIPRv",
        "outputId": "14af977d-edc5-4454-b3d2-a8a90e01724c"
      },
      "outputs": [
        {
          "output_type": "stream",
          "name": "stdout",
          "text": [
            "elmo download started this may take some time.\n",
            "Approximate size to download 334.1 MB\n",
            "[OK!]\n",
            "CPU times: user 406 ms, sys: 119 ms, total: 525 ms\n",
            "Wall time: 24 s\n"
          ]
        }
      ],
      "source": [
        "%%time\n",
        "\n",
        "document_assembler = DocumentAssembler() \\\n",
        "      .setInputCol(\"description\") \\\n",
        "      .setOutputCol(\"document\")\n",
        "    \n",
        "tokenizer = Tokenizer() \\\n",
        "      .setInputCols([\"document\"]) \\\n",
        "      .setOutputCol(\"token\")\n",
        "    \n",
        "normalizer = Normalizer() \\\n",
        "      .setInputCols([\"token\"]) \\\n",
        "      .setOutputCol(\"normalized\")\n",
        "\n",
        "stopwords_cleaner = StopWordsCleaner()\\\n",
        "      .setInputCols(\"normalized\")\\\n",
        "      .setOutputCol(\"cleanTokens\")\\\n",
        "      .setCaseSensitive(False)\n",
        "\n",
        "elmo_embeddings = ElmoEmbeddings.pretrained()\\\n",
        "      .setPoolingLayer(\"word_emb\")\\\n",
        "      .setInputCols([\"document\",'cleanTokens'])\\\n",
        "      .setOutputCol(\"elmo\")\n",
        "\n",
        "embeddingsSentence = SentenceEmbeddings() \\\n",
        "      .setInputCols([\"document\", \"elmo\"]) \\\n",
        "      .setOutputCol(\"sentence_embeddings\") \\\n",
        "      .setPoolingStrategy(\"AVERAGE\")\n",
        "    \n",
        "embeddings_finisher = EmbeddingsFinisher() \\\n",
        "      .setInputCols([\"sentence_embeddings\"]) \\\n",
        "      .setOutputCols([\"finished_sentence_embeddings\"]) \\\n",
        "      .setOutputAsVector(True)\\\n",
        "      .setCleanAnnotations(False)\n",
        "\n",
        "label_stringIdx = StringIndexer(inputCol = \"category\", outputCol = \"label\")\n",
        "\n",
        "\n",
        "nlp_pipeline_elmo = Pipeline(\n",
        "    stages=[document_assembler, \n",
        "            tokenizer,\n",
        "            normalizer,\n",
        "            stopwords_cleaner, \n",
        "            elmo_embeddings,\n",
        "            embeddingsSentence,\n",
        "            embeddings_finisher,\n",
        "            label_stringIdx])\n",
        "\n",
        "nlp_model_elmo = nlp_pipeline_elmo.fit(newsDF)\n",
        "\n",
        "processed_elmo = nlp_model_elmo.transform(newsDF)\n",
        "\n",
        "processed_elmo.count()\n"
      ]
    },
    {
      "cell_type": "code",
      "execution_count": 6,
      "metadata": {
        "id": "3vk7XGN5IPRx"
      },
      "outputs": [],
      "source": [
        "(trainingData, testData) = newsDF.randomSplit([0.7, 0.3], seed = 100)"
      ]
    },
    {
      "cell_type": "code",
      "execution_count": null,
      "metadata": {
        "colab": {
          "base_uri": "https://localhost:8080/"
        },
        "id": "q-VCL5iOIPRz",
        "outputId": "b5f1673e-0b72-48ac-bba4-f85c65d4d091"
      },
      "outputs": [
        {
          "output_type": "execute_result",
          "data": {
            "text/plain": [
              "84003"
            ]
          },
          "metadata": {},
          "execution_count": 10
        }
      ],
      "source": [
        "processed_trainingData = nlp_model_elmo.transform(trainingData)\n",
        "\n",
        "processed_trainingData.count()"
      ]
    },
    {
      "cell_type": "code",
      "execution_count": null,
      "metadata": {
        "colab": {
          "base_uri": "https://localhost:8080/"
        },
        "id": "QLxq_udOIPR1",
        "outputId": "29b2ab7c-effb-4f10-b6b1-2ec3daa0cadb"
      },
      "outputs": [
        {
          "output_type": "execute_result",
          "data": {
            "text/plain": [
              "35997"
            ]
          },
          "metadata": {},
          "execution_count": 11
        }
      ],
      "source": [
        "processed_testData = nlp_model_elmo.transform(testData)\n",
        "\n",
        "processed_testData.count()"
      ]
    },
    {
      "cell_type": "code",
      "execution_count": null,
      "metadata": {
        "colab": {
          "base_uri": "https://localhost:8080/"
        },
        "id": "hWqgBJmKIPR2",
        "outputId": "1ae8f31d-791a-4a76-a05e-1a2e067b4efb"
      },
      "outputs": [
        {
          "output_type": "execute_result",
          "data": {
            "text/plain": [
              "['category',\n",
              " 'description',\n",
              " 'document',\n",
              " 'token',\n",
              " 'normalized',\n",
              " 'cleanTokens',\n",
              " 'elmo',\n",
              " 'sentence_embeddings',\n",
              " 'finished_sentence_embeddings',\n",
              " 'label']"
            ]
          },
          "metadata": {},
          "execution_count": 12
        }
      ],
      "source": [
        "processed_trainingData.columns"
      ]
    },
    {
      "cell_type": "code",
      "execution_count": null,
      "metadata": {
        "id": "V3W9kceqIPR4"
      },
      "outputs": [],
      "source": [
        "from pyspark.sql.functions import explode\n",
        "\n",
        "processed_testData= processed_testData.withColumn(\"features\", explode(processed_testData.finished_sentence_embeddings))\n",
        "\n",
        "processed_trainingData= processed_trainingData.withColumn(\"features\", explode(processed_trainingData.finished_sentence_embeddings))\n"
      ]
    },
    {
      "cell_type": "code",
      "execution_count": null,
      "metadata": {
        "id": "hY8z7srJIPR6"
      },
      "outputs": [],
      "source": [
        "from pyspark.sql.functions import udf\n",
        "\n",
        "@udf(\"long\")\n",
        "def num_nonzeros(v):\n",
        "    return v.numNonzeros()\n",
        "\n",
        "processed_testData = processed_testData.where(num_nonzeros(\"features\") != 0)"
      ]
    },
    {
      "cell_type": "code",
      "execution_count": null,
      "metadata": {
        "colab": {
          "base_uri": "https://localhost:8080/"
        },
        "id": "lyqIOMbsIPR8",
        "outputId": "911d060e-b42f-4592-84d7-d8d401da62a6"
      },
      "outputs": [
        {
          "output_type": "stream",
          "name": "stdout",
          "text": [
            "CPU times: user 36.3 s, sys: 4.92 s, total: 41.2 s\n",
            "Wall time: 1h 36min 4s\n"
          ]
        }
      ],
      "source": [
        "%%time\n",
        "\n",
        "from pyspark.ml.classification import LogisticRegression\n",
        "\n",
        "lr = LogisticRegression(maxIter=20, regParam=0.3, elasticNetParam=0)\n",
        "\n",
        "lrModel = lr.fit(processed_trainingData)\n"
      ]
    },
    {
      "cell_type": "code",
      "execution_count": null,
      "metadata": {
        "colab": {
          "background_save": true
        },
        "id": "D04iWWPMIPR9",
        "outputId": "03618e23-416f-4189-e100-63c0ae855d09"
      },
      "outputs": [
        {
          "data": {
            "text/plain": [
              "['category',\n",
              " 'description',\n",
              " 'document',\n",
              " 'token',\n",
              " 'normalized',\n",
              " 'cleanTokens',\n",
              " 'elmo',\n",
              " 'sentence_embeddings',\n",
              " 'finished_sentence_embeddings',\n",
              " 'label',\n",
              " 'features']"
            ]
          },
          "execution_count": null,
          "metadata": {},
          "output_type": "execute_result"
        }
      ],
      "source": [
        "processed_trainingData.columns"
      ]
    },
    {
      "cell_type": "code",
      "execution_count": null,
      "metadata": {
        "colab": {
          "background_save": true
        },
        "id": "vS2_xs3ZIPSA",
        "outputId": "d3a15fcd-efc9-4579-f300-fa78da0d114f"
      },
      "outputs": [
        {
          "name": "stdout",
          "output_type": "stream",
          "text": [
            "+------------------------------+--------+------------------------------+-----+----------+\n",
            "|                   description|category|                   probability|label|prediction|\n",
            "+------------------------------+--------+------------------------------+-----+----------+\n",
            "|\" Exxon Mobil Corp. &lt;A H...|Business|[0.9938693762832211,0.00383...|  0.0|       0.0|\n",
            "|\" Exxon Mobil Corp. &lt;A H...|Business|[0.9938693762832211,0.00383...|  0.0|       0.0|\n",
            "|The No. 2 U.S. oil company ...|Business|[0.9932208044764538,0.00497...|  0.0|       0.0|\n",
            "| Falling oil prices and str...|   World|[0.9928751967512169,0.00663...|  3.0|       0.0|\n",
            "|\" Stocks fell sharply  on W...|Business|[0.9922198146618901,0.00458...|  0.0|       0.0|\n",
            "| Kmart Holding Corporation,...|Business|[0.9912332080126981,0.00698...|  0.0|       0.0|\n",
            "|Wachovia Corp. said Friday ...|Business|[0.9912287561757839,0.00696...|  0.0|       0.0|\n",
            "|Lennar Corp., the No. 3 US ...|Business|[0.9907540917815972,0.00788...|  0.0|       0.0|\n",
            "|US stocks gained on optimis...|Business|[0.990360047884265,0.007048...|  0.0|       0.0|\n",
            "| A bankruptcy judge gave US...|   World|[0.9894457634839726,0.00545...|  3.0|       0.0|\n",
            "+------------------------------+--------+------------------------------+-----+----------+\n",
            "only showing top 10 rows\n",
            "\n"
          ]
        }
      ],
      "source": [
        "predictions = lrModel.transform(processed_testData)\n",
        "\n",
        "predictions.select(\"description\",\"category\",\"probability\",\"label\",\"prediction\") \\\n",
        "    .orderBy(\"probability\", ascending=False) \\\n",
        "    .show(n = 10, truncate = 30)\n"
      ]
    },
    {
      "cell_type": "code",
      "execution_count": null,
      "metadata": {
        "colab": {
          "background_save": true
        },
        "id": "P3lz8IFhIPSC"
      },
      "outputs": [],
      "source": [
        "df = predictions.select('description','category','label','prediction').toPandas()"
      ]
    },
    {
      "cell_type": "code",
      "execution_count": null,
      "metadata": {
        "colab": {
          "background_save": true
        },
        "id": "lrJtqnTcIPSD",
        "outputId": "47fab1e8-8ea6-40aa-e5fd-4f338579de83"
      },
      "outputs": [
        {
          "data": {
            "text/plain": [
              "(35997, 4)"
            ]
          },
          "execution_count": null,
          "metadata": {},
          "output_type": "execute_result"
        }
      ],
      "source": [
        "df.shape"
      ]
    },
    {
      "cell_type": "code",
      "execution_count": null,
      "metadata": {
        "colab": {
          "background_save": true
        },
        "id": "7eEgmPDWIPSF",
        "outputId": "2e445823-d090-4071-817c-bfcc9d031d15"
      },
      "outputs": [
        {
          "data": {
            "text/html": [
              "\n",
              "  <div id=\"df-d2abcec5-d10a-45dc-9207-4e8ee8cf788b\">\n",
              "    <div class=\"colab-df-container\">\n",
              "      <div>\n",
              "<style scoped>\n",
              "    .dataframe tbody tr th:only-of-type {\n",
              "        vertical-align: middle;\n",
              "    }\n",
              "\n",
              "    .dataframe tbody tr th {\n",
              "        vertical-align: top;\n",
              "    }\n",
              "\n",
              "    .dataframe thead th {\n",
              "        text-align: right;\n",
              "    }\n",
              "</style>\n",
              "<table border=\"1\" class=\"dataframe\">\n",
              "  <thead>\n",
              "    <tr style=\"text-align: right;\">\n",
              "      <th></th>\n",
              "      <th>description</th>\n",
              "      <th>category</th>\n",
              "      <th>label</th>\n",
              "      <th>prediction</th>\n",
              "    </tr>\n",
              "  </thead>\n",
              "  <tbody>\n",
              "    <tr>\n",
              "      <th>0</th>\n",
              "      <td>10/22/04    The board of the Walt Disney Com...</td>\n",
              "      <td>Business</td>\n",
              "      <td>0.0</td>\n",
              "      <td>0.0</td>\n",
              "    </tr>\n",
              "    <tr>\n",
              "      <th>1</th>\n",
              "      <td>A closely watched barometer of future econom...</td>\n",
              "      <td>Business</td>\n",
              "      <td>0.0</td>\n",
              "      <td>0.0</td>\n",
              "    </tr>\n",
              "    <tr>\n",
              "      <th>2</th>\n",
              "      <td>A consortium led by Sony Corp. of America an...</td>\n",
              "      <td>Business</td>\n",
              "      <td>0.0</td>\n",
              "      <td>0.0</td>\n",
              "    </tr>\n",
              "    <tr>\n",
              "      <th>3</th>\n",
              "      <td>A federal appeals court agreed Tuesday to te...</td>\n",
              "      <td>Business</td>\n",
              "      <td>0.0</td>\n",
              "      <td>0.0</td>\n",
              "    </tr>\n",
              "    <tr>\n",
              "      <th>4</th>\n",
              "      <td>A federal bankruptcy judge ruled against Uni...</td>\n",
              "      <td>Business</td>\n",
              "      <td>0.0</td>\n",
              "      <td>0.0</td>\n",
              "    </tr>\n",
              "  </tbody>\n",
              "</table>\n",
              "</div>\n",
              "      <button class=\"colab-df-convert\" onclick=\"convertToInteractive('df-d2abcec5-d10a-45dc-9207-4e8ee8cf788b')\"\n",
              "              title=\"Convert this dataframe to an interactive table.\"\n",
              "              style=\"display:none;\">\n",
              "        \n",
              "  <svg xmlns=\"http://www.w3.org/2000/svg\" height=\"24px\"viewBox=\"0 0 24 24\"\n",
              "       width=\"24px\">\n",
              "    <path d=\"M0 0h24v24H0V0z\" fill=\"none\"/>\n",
              "    <path d=\"M18.56 5.44l.94 2.06.94-2.06 2.06-.94-2.06-.94-.94-2.06-.94 2.06-2.06.94zm-11 1L8.5 8.5l.94-2.06 2.06-.94-2.06-.94L8.5 2.5l-.94 2.06-2.06.94zm10 10l.94 2.06.94-2.06 2.06-.94-2.06-.94-.94-2.06-.94 2.06-2.06.94z\"/><path d=\"M17.41 7.96l-1.37-1.37c-.4-.4-.92-.59-1.43-.59-.52 0-1.04.2-1.43.59L10.3 9.45l-7.72 7.72c-.78.78-.78 2.05 0 2.83L4 21.41c.39.39.9.59 1.41.59.51 0 1.02-.2 1.41-.59l7.78-7.78 2.81-2.81c.8-.78.8-2.07 0-2.86zM5.41 20L4 18.59l7.72-7.72 1.47 1.35L5.41 20z\"/>\n",
              "  </svg>\n",
              "      </button>\n",
              "      \n",
              "  <style>\n",
              "    .colab-df-container {\n",
              "      display:flex;\n",
              "      flex-wrap:wrap;\n",
              "      gap: 12px;\n",
              "    }\n",
              "\n",
              "    .colab-df-convert {\n",
              "      background-color: #E8F0FE;\n",
              "      border: none;\n",
              "      border-radius: 50%;\n",
              "      cursor: pointer;\n",
              "      display: none;\n",
              "      fill: #1967D2;\n",
              "      height: 32px;\n",
              "      padding: 0 0 0 0;\n",
              "      width: 32px;\n",
              "    }\n",
              "\n",
              "    .colab-df-convert:hover {\n",
              "      background-color: #E2EBFA;\n",
              "      box-shadow: 0px 1px 2px rgba(60, 64, 67, 0.3), 0px 1px 3px 1px rgba(60, 64, 67, 0.15);\n",
              "      fill: #174EA6;\n",
              "    }\n",
              "\n",
              "    [theme=dark] .colab-df-convert {\n",
              "      background-color: #3B4455;\n",
              "      fill: #D2E3FC;\n",
              "    }\n",
              "\n",
              "    [theme=dark] .colab-df-convert:hover {\n",
              "      background-color: #434B5C;\n",
              "      box-shadow: 0px 1px 3px 1px rgba(0, 0, 0, 0.15);\n",
              "      filter: drop-shadow(0px 1px 2px rgba(0, 0, 0, 0.3));\n",
              "      fill: #FFFFFF;\n",
              "    }\n",
              "  </style>\n",
              "\n",
              "      <script>\n",
              "        const buttonEl =\n",
              "          document.querySelector('#df-d2abcec5-d10a-45dc-9207-4e8ee8cf788b button.colab-df-convert');\n",
              "        buttonEl.style.display =\n",
              "          google.colab.kernel.accessAllowed ? 'block' : 'none';\n",
              "\n",
              "        async function convertToInteractive(key) {\n",
              "          const element = document.querySelector('#df-d2abcec5-d10a-45dc-9207-4e8ee8cf788b');\n",
              "          const dataTable =\n",
              "            await google.colab.kernel.invokeFunction('convertToInteractive',\n",
              "                                                     [key], {});\n",
              "          if (!dataTable) return;\n",
              "\n",
              "          const docLinkHtml = 'Like what you see? Visit the ' +\n",
              "            '<a target=\"_blank\" href=https://colab.research.google.com/notebooks/data_table.ipynb>data table notebook</a>'\n",
              "            + ' to learn more about interactive tables.';\n",
              "          element.innerHTML = '';\n",
              "          dataTable['output_type'] = 'display_data';\n",
              "          await google.colab.output.renderOutput(dataTable, element);\n",
              "          const docLink = document.createElement('div');\n",
              "          docLink.innerHTML = docLinkHtml;\n",
              "          element.appendChild(docLink);\n",
              "        }\n",
              "      </script>\n",
              "    </div>\n",
              "  </div>\n",
              "  "
            ],
            "text/plain": [
              "                                         description  ... prediction\n",
              "0    10/22/04    The board of the Walt Disney Com...  ...        0.0\n",
              "1    A closely watched barometer of future econom...  ...        0.0\n",
              "2    A consortium led by Sony Corp. of America an...  ...        0.0\n",
              "3    A federal appeals court agreed Tuesday to te...  ...        0.0\n",
              "4    A federal bankruptcy judge ruled against Uni...  ...        0.0\n",
              "\n",
              "[5 rows x 4 columns]"
            ]
          },
          "execution_count": null,
          "metadata": {},
          "output_type": "execute_result"
        }
      ],
      "source": [
        "df.head()"
      ]
    },
    {
      "cell_type": "code",
      "execution_count": null,
      "metadata": {
        "colab": {
          "background_save": true
        },
        "id": "6JS3R3knIPSI",
        "outputId": "fc84fdbd-00c6-4b1f-b2ea-aca008fdbde4"
      },
      "outputs": [
        {
          "name": "stdout",
          "output_type": "stream",
          "text": [
            "              precision    recall  f1-score   support\n",
            "\n",
            "         0.0       0.83      0.83      0.83      8977\n",
            "         1.0       0.84      0.82      0.83      8983\n",
            "         2.0       0.94      0.96      0.95      9116\n",
            "         3.0       0.87      0.87      0.87      8921\n",
            "\n",
            "    accuracy                           0.87     35997\n",
            "   macro avg       0.87      0.87      0.87     35997\n",
            "weighted avg       0.87      0.87      0.87     35997\n",
            "\n",
            "0.8701002861349557\n"
          ]
        }
      ],
      "source": [
        "from sklearn.metrics import classification_report, accuracy_score\n",
        "\n",
        "print(classification_report(df.label, df.prediction))\n",
        "print(accuracy_score(df.label, df.prediction))"
      ]
    },
    {
      "cell_type": "markdown",
      "metadata": {
        "id": "8YpFN8zBIPSJ"
      },
      "source": [
        "## LogReg with Universal Sentence Encoder"
      ]
    },
    {
      "cell_type": "code",
      "execution_count": 7,
      "metadata": {
        "colab": {
          "base_uri": "https://localhost:8080/"
        },
        "id": "Tcbxx22GHnel",
        "outputId": "7682f483-dd29-4124-bb9c-898bf012dbde"
      },
      "outputs": [
        {
          "output_type": "stream",
          "name": "stdout",
          "text": [
            "tfhub_use download started this may take some time.\n",
            "Approximate size to download 923.7 MB\n",
            "[OK!]\n"
          ]
        }
      ],
      "source": [
        "useEmbeddings = UniversalSentenceEncoder.pretrained()\\\n",
        "      .setInputCols(\"document\")\\\n",
        "      .setOutputCol(\"use_embeddings\")"
      ]
    },
    {
      "cell_type": "code",
      "execution_count": 8,
      "metadata": {
        "id": "a4YxWiKdIPSK"
      },
      "outputs": [],
      "source": [
        "document_assembler = DocumentAssembler() \\\n",
        "      .setInputCol(\"description\") \\\n",
        "      .setOutputCol(\"document\")\n",
        "\n",
        "loaded_useEmbeddings = UniversalSentenceEncoder.load('/root/cache_pretrained/tfhub_use_en_2.4.0_2.4_1587136330099')\\\n",
        "      .setInputCols(\"document\")\\\n",
        "      .setOutputCol(\"use_embeddings\")\n",
        "\n",
        "embeddings_finisher = EmbeddingsFinisher() \\\n",
        "      .setInputCols([\"use_embeddings\"]) \\\n",
        "      .setOutputCols([\"finished_use_embeddings\"]) \\\n",
        "      .setOutputAsVector(True)\\\n",
        "      .setCleanAnnotations(False)\n",
        "\n",
        "label_stringIdx = StringIndexer(inputCol = \"category\", outputCol = \"label\")\n",
        "\n",
        "use_pipeline = Pipeline(\n",
        "      stages=[\n",
        "        document_assembler,\n",
        "        loaded_useEmbeddings,\n",
        "        embeddings_finisher,\n",
        "        label_stringIdx]\n",
        "      )\n",
        "\n",
        "use_df = use_pipeline.fit(newsDF).transform(newsDF)"
      ]
    },
    {
      "cell_type": "code",
      "execution_count": 9,
      "metadata": {
        "colab": {
          "base_uri": "https://localhost:8080/"
        },
        "id": "kbiA3moMIPSR",
        "outputId": "4a2da5d0-cc01-449a-8ffd-8dc1aa9b36e6"
      },
      "outputs": [
        {
          "output_type": "stream",
          "name": "stdout",
          "text": [
            "+-----------------------+\n",
            "|finished_use_embeddings|\n",
            "+-----------------------+\n",
            "|   [[0.0441501587629...|\n",
            "|   [[0.0844451710581...|\n",
            "|   [[0.0426647365093...|\n",
            "+-----------------------+\n",
            "only showing top 3 rows\n",
            "\n"
          ]
        }
      ],
      "source": [
        "use_df.select('finished_use_embeddings').show(3)"
      ]
    },
    {
      "cell_type": "code",
      "execution_count": 10,
      "metadata": {
        "id": "9nI3EXthIPST"
      },
      "outputs": [],
      "source": [
        "from pyspark.sql.functions import explode\n",
        "\n",
        "use_df= use_df.withColumn(\"features\", explode(use_df.finished_use_embeddings))"
      ]
    },
    {
      "cell_type": "code",
      "execution_count": 11,
      "metadata": {
        "colab": {
          "base_uri": "https://localhost:8080/"
        },
        "id": "PD9vNF2KIPSV",
        "outputId": "99c4a314-a16b-4ca1-cf9f-fdc11c74d85c"
      },
      "outputs": [
        {
          "output_type": "stream",
          "name": "stdout",
          "text": [
            "+--------+--------------------+--------------------+--------------------+-----------------------+-----+--------------------+\n",
            "|category|         description|            document|      use_embeddings|finished_use_embeddings|label|            features|\n",
            "+--------+--------------------+--------------------+--------------------+-----------------------+-----+--------------------+\n",
            "|Business| Short sellers, W...|[{document, 0, 84...|[{sentence_embedd...|   [[0.0441501587629...|  0.0|[0.04415015876293...|\n",
            "|Business| Private investme...|[{document, 0, 20...|[{sentence_embedd...|   [[0.0844451710581...|  0.0|[0.08444517105817...|\n",
            "+--------+--------------------+--------------------+--------------------+-----------------------+-----+--------------------+\n",
            "only showing top 2 rows\n",
            "\n"
          ]
        }
      ],
      "source": [
        "use_df.show(2)"
      ]
    },
    {
      "cell_type": "code",
      "execution_count": 12,
      "metadata": {
        "id": "2_VHl1FFIPSX",
        "colab": {
          "base_uri": "https://localhost:8080/"
        },
        "outputId": "d106d652-af70-4b5b-914c-0c3b16fa9289"
      },
      "outputs": [
        {
          "output_type": "stream",
          "name": "stdout",
          "text": [
            "Training Dataset Count: 84003\n",
            "Test Dataset Count: 35997\n"
          ]
        }
      ],
      "source": [
        "# set seed for reproducibility\n",
        "(trainingData, testData) = use_df.randomSplit([0.7, 0.3], seed = 100)\n",
        "print(\"Training Dataset Count: \" + str(trainingData.count()))\n",
        "print(\"Test Dataset Count: \" + str(testData.count()))"
      ]
    },
    {
      "cell_type": "code",
      "execution_count": 13,
      "metadata": {
        "id": "vIpDQAScIPSY",
        "colab": {
          "base_uri": "https://localhost:8080/"
        },
        "outputId": "59122b46-cbc0-4b7f-bac8-32bdd49cff61"
      },
      "outputs": [
        {
          "output_type": "stream",
          "name": "stdout",
          "text": [
            "+------------------------------+--------+------------------------------+-----+----------+\n",
            "|                   description|category|                   probability|label|prediction|\n",
            "+------------------------------+--------+------------------------------+-----+----------+\n",
            "|Diversified manufacturer an...|Business|[0.9865484610819308,0.00789...|  0.0|       0.0|\n",
            "|\" U.S. stocks were slightly...|Business|[0.9850439113216918,0.00675...|  0.0|       0.0|\n",
            "|Kroger Co., the largest US ...|Business|[0.9831770850020914,0.00924...|  0.0|       0.0|\n",
            "| Kroger Co. , the largest U...|Business|[0.9831481473594404,0.00940...|  0.0|       0.0|\n",
            "| Safeway Inc. , the third l...|Business|[0.982848913095213,0.009522...|  0.0|       0.0|\n",
            "|\" U.S. stocks opened lower ...|Business|[0.9825013211776168,0.00568...|  0.0|       0.0|\n",
            "|Fannie Mae, the largest US ...|Business|[0.9819475216368533,0.00984...|  0.0|       0.0|\n",
            "|Prudential Financial Inc., ...|Business|[0.9816735479911963,0.01117...|  0.0|       0.0|\n",
            "|Costco Wholesale Corp., the...|Business|[0.9816292657488952,0.00992...|  0.0|       0.0|\n",
            "|ExxonMobil Corp. and Royal ...|Business|[0.9810645521122676,0.00633...|  0.0|       0.0|\n",
            "+------------------------------+--------+------------------------------+-----+----------+\n",
            "only showing top 10 rows\n",
            "\n"
          ]
        }
      ],
      "source": [
        "from sklearn.metrics import confusion_matrix, classification_report, accuracy_score\n",
        "import pandas as pd\n",
        "\n",
        "from pyspark.ml.classification import LogisticRegression\n",
        "\n",
        "lr = LogisticRegression(maxIter=20, regParam=0.3, elasticNetParam=0)\n",
        "\n",
        "lrModel = lr.fit(trainingData)\n",
        "\n",
        "predictions = lrModel.transform(testData)\n",
        "\n",
        "predictions.filter(predictions['prediction'] == 0) \\\n",
        "    .select(\"description\",\"category\",\"probability\",\"label\",\"prediction\") \\\n",
        "    .orderBy(\"probability\", ascending=False) \\\n",
        "    .show(n = 10, truncate = 30)\n"
      ]
    },
    {
      "cell_type": "code",
      "execution_count": 14,
      "metadata": {
        "id": "4NiPwWRmIPSa"
      },
      "outputs": [],
      "source": [
        "df = predictions.select('description','category','label','prediction').toPandas()\n",
        "#df['result'] = df['result'].apply(lambda x: x[0])"
      ]
    },
    {
      "cell_type": "code",
      "execution_count": 15,
      "metadata": {
        "id": "u4Q1XnpZIPSc",
        "colab": {
          "base_uri": "https://localhost:8080/",
          "height": 206
        },
        "outputId": "4b6c31be-0d54-4003-d53f-c840346b03ec"
      },
      "outputs": [
        {
          "output_type": "execute_result",
          "data": {
            "text/html": [
              "\n",
              "  <div id=\"df-49f51307-a5f0-47c7-bf1f-9c5bc5b744b1\">\n",
              "    <div class=\"colab-df-container\">\n",
              "      <div>\n",
              "<style scoped>\n",
              "    .dataframe tbody tr th:only-of-type {\n",
              "        vertical-align: middle;\n",
              "    }\n",
              "\n",
              "    .dataframe tbody tr th {\n",
              "        vertical-align: top;\n",
              "    }\n",
              "\n",
              "    .dataframe thead th {\n",
              "        text-align: right;\n",
              "    }\n",
              "</style>\n",
              "<table border=\"1\" class=\"dataframe\">\n",
              "  <thead>\n",
              "    <tr style=\"text-align: right;\">\n",
              "      <th></th>\n",
              "      <th>description</th>\n",
              "      <th>category</th>\n",
              "      <th>label</th>\n",
              "      <th>prediction</th>\n",
              "    </tr>\n",
              "  </thead>\n",
              "  <tbody>\n",
              "    <tr>\n",
              "      <th>0</th>\n",
              "      <td>10/22/04    The board of the Walt Disney Com...</td>\n",
              "      <td>Business</td>\n",
              "      <td>0.0</td>\n",
              "      <td>0.0</td>\n",
              "    </tr>\n",
              "    <tr>\n",
              "      <th>1</th>\n",
              "      <td>A closely watched barometer of future econom...</td>\n",
              "      <td>Business</td>\n",
              "      <td>0.0</td>\n",
              "      <td>0.0</td>\n",
              "    </tr>\n",
              "    <tr>\n",
              "      <th>2</th>\n",
              "      <td>A consortium led by Sony Corp. of America an...</td>\n",
              "      <td>Business</td>\n",
              "      <td>0.0</td>\n",
              "      <td>0.0</td>\n",
              "    </tr>\n",
              "    <tr>\n",
              "      <th>3</th>\n",
              "      <td>A federal appeals court agreed Tuesday to te...</td>\n",
              "      <td>Business</td>\n",
              "      <td>0.0</td>\n",
              "      <td>0.0</td>\n",
              "    </tr>\n",
              "    <tr>\n",
              "      <th>4</th>\n",
              "      <td>A federal bankruptcy judge ruled against Uni...</td>\n",
              "      <td>Business</td>\n",
              "      <td>0.0</td>\n",
              "      <td>0.0</td>\n",
              "    </tr>\n",
              "  </tbody>\n",
              "</table>\n",
              "</div>\n",
              "      <button class=\"colab-df-convert\" onclick=\"convertToInteractive('df-49f51307-a5f0-47c7-bf1f-9c5bc5b744b1')\"\n",
              "              title=\"Convert this dataframe to an interactive table.\"\n",
              "              style=\"display:none;\">\n",
              "        \n",
              "  <svg xmlns=\"http://www.w3.org/2000/svg\" height=\"24px\"viewBox=\"0 0 24 24\"\n",
              "       width=\"24px\">\n",
              "    <path d=\"M0 0h24v24H0V0z\" fill=\"none\"/>\n",
              "    <path d=\"M18.56 5.44l.94 2.06.94-2.06 2.06-.94-2.06-.94-.94-2.06-.94 2.06-2.06.94zm-11 1L8.5 8.5l.94-2.06 2.06-.94-2.06-.94L8.5 2.5l-.94 2.06-2.06.94zm10 10l.94 2.06.94-2.06 2.06-.94-2.06-.94-.94-2.06-.94 2.06-2.06.94z\"/><path d=\"M17.41 7.96l-1.37-1.37c-.4-.4-.92-.59-1.43-.59-.52 0-1.04.2-1.43.59L10.3 9.45l-7.72 7.72c-.78.78-.78 2.05 0 2.83L4 21.41c.39.39.9.59 1.41.59.51 0 1.02-.2 1.41-.59l7.78-7.78 2.81-2.81c.8-.78.8-2.07 0-2.86zM5.41 20L4 18.59l7.72-7.72 1.47 1.35L5.41 20z\"/>\n",
              "  </svg>\n",
              "      </button>\n",
              "      \n",
              "  <style>\n",
              "    .colab-df-container {\n",
              "      display:flex;\n",
              "      flex-wrap:wrap;\n",
              "      gap: 12px;\n",
              "    }\n",
              "\n",
              "    .colab-df-convert {\n",
              "      background-color: #E8F0FE;\n",
              "      border: none;\n",
              "      border-radius: 50%;\n",
              "      cursor: pointer;\n",
              "      display: none;\n",
              "      fill: #1967D2;\n",
              "      height: 32px;\n",
              "      padding: 0 0 0 0;\n",
              "      width: 32px;\n",
              "    }\n",
              "\n",
              "    .colab-df-convert:hover {\n",
              "      background-color: #E2EBFA;\n",
              "      box-shadow: 0px 1px 2px rgba(60, 64, 67, 0.3), 0px 1px 3px 1px rgba(60, 64, 67, 0.15);\n",
              "      fill: #174EA6;\n",
              "    }\n",
              "\n",
              "    [theme=dark] .colab-df-convert {\n",
              "      background-color: #3B4455;\n",
              "      fill: #D2E3FC;\n",
              "    }\n",
              "\n",
              "    [theme=dark] .colab-df-convert:hover {\n",
              "      background-color: #434B5C;\n",
              "      box-shadow: 0px 1px 3px 1px rgba(0, 0, 0, 0.15);\n",
              "      filter: drop-shadow(0px 1px 2px rgba(0, 0, 0, 0.3));\n",
              "      fill: #FFFFFF;\n",
              "    }\n",
              "  </style>\n",
              "\n",
              "      <script>\n",
              "        const buttonEl =\n",
              "          document.querySelector('#df-49f51307-a5f0-47c7-bf1f-9c5bc5b744b1 button.colab-df-convert');\n",
              "        buttonEl.style.display =\n",
              "          google.colab.kernel.accessAllowed ? 'block' : 'none';\n",
              "\n",
              "        async function convertToInteractive(key) {\n",
              "          const element = document.querySelector('#df-49f51307-a5f0-47c7-bf1f-9c5bc5b744b1');\n",
              "          const dataTable =\n",
              "            await google.colab.kernel.invokeFunction('convertToInteractive',\n",
              "                                                     [key], {});\n",
              "          if (!dataTable) return;\n",
              "\n",
              "          const docLinkHtml = 'Like what you see? Visit the ' +\n",
              "            '<a target=\"_blank\" href=https://colab.research.google.com/notebooks/data_table.ipynb>data table notebook</a>'\n",
              "            + ' to learn more about interactive tables.';\n",
              "          element.innerHTML = '';\n",
              "          dataTable['output_type'] = 'display_data';\n",
              "          await google.colab.output.renderOutput(dataTable, element);\n",
              "          const docLink = document.createElement('div');\n",
              "          docLink.innerHTML = docLinkHtml;\n",
              "          element.appendChild(docLink);\n",
              "        }\n",
              "      </script>\n",
              "    </div>\n",
              "  </div>\n",
              "  "
            ],
            "text/plain": [
              "                                         description  ... prediction\n",
              "0    10/22/04    The board of the Walt Disney Com...  ...        0.0\n",
              "1    A closely watched barometer of future econom...  ...        0.0\n",
              "2    A consortium led by Sony Corp. of America an...  ...        0.0\n",
              "3    A federal appeals court agreed Tuesday to te...  ...        0.0\n",
              "4    A federal bankruptcy judge ruled against Uni...  ...        0.0\n",
              "\n",
              "[5 rows x 4 columns]"
            ]
          },
          "metadata": {},
          "execution_count": 15
        }
      ],
      "source": [
        "df.head()"
      ]
    },
    {
      "cell_type": "code",
      "execution_count": 16,
      "metadata": {
        "id": "aEg_wD3oIPSe",
        "colab": {
          "base_uri": "https://localhost:8080/"
        },
        "outputId": "ce1e1c77-f545-470c-9786-fe85014e47dd"
      },
      "outputs": [
        {
          "output_type": "stream",
          "name": "stdout",
          "text": [
            "              precision    recall  f1-score   support\n",
            "\n",
            "         0.0       0.84      0.84      0.84      8977\n",
            "         1.0       0.85      0.85      0.85      8983\n",
            "         2.0       0.96      0.97      0.96      9116\n",
            "         3.0       0.90      0.88      0.89      8921\n",
            "\n",
            "    accuracy                           0.88     35997\n",
            "   macro avg       0.88      0.88      0.88     35997\n",
            "weighted avg       0.88      0.88      0.88     35997\n",
            "\n",
            "0.8847126149401339\n"
          ]
        }
      ],
      "source": [
        "print(classification_report(df.label, df.prediction))\n",
        "print(accuracy_score(df.label, df.prediction))"
      ]
    },
    {
      "cell_type": "markdown",
      "metadata": {
        "id": "bdODPjyzIPSf"
      },
      "source": [
        "### train on entire dataset"
      ]
    },
    {
      "cell_type": "code",
      "execution_count": 17,
      "metadata": {
        "id": "LJu8ekkaIPSg"
      },
      "outputs": [],
      "source": [
        "from pyspark.ml.classification import LogisticRegression\n",
        "\n",
        "lr = LogisticRegression(maxIter=20, regParam=0.3, elasticNetParam=0)\n",
        "\n",
        "lrModel = lr.fit(use_df)"
      ]
    },
    {
      "cell_type": "code",
      "execution_count": 18,
      "metadata": {
        "id": "yo8sNiL4IPSh"
      },
      "outputs": [],
      "source": [
        "test_df = spark.read.csv(\"/content/news_category_test.csv\",header=True)"
      ]
    },
    {
      "cell_type": "code",
      "execution_count": 19,
      "metadata": {
        "id": "22hPNZ9jIPSi"
      },
      "outputs": [],
      "source": [
        "test_df = use_pipeline.fit(test_df).transform(test_df)"
      ]
    },
    {
      "cell_type": "code",
      "execution_count": 20,
      "metadata": {
        "id": "uSJt_s4qIPSj"
      },
      "outputs": [],
      "source": [
        "test_df= test_df.withColumn(\"features\", explode(test_df.finished_use_embeddings))"
      ]
    },
    {
      "cell_type": "code",
      "execution_count": 21,
      "metadata": {
        "id": "jdwGAMGC2sgP",
        "colab": {
          "base_uri": "https://localhost:8080/"
        },
        "outputId": "cdff77f9-cda0-47e5-fd39-de653871e275"
      },
      "outputs": [
        {
          "output_type": "stream",
          "name": "stdout",
          "text": [
            "+--------+--------------------+--------------------+--------------------+-----------------------+-----+--------------------+\n",
            "|category|         description|            document|      use_embeddings|finished_use_embeddings|label|            features|\n",
            "+--------+--------------------+--------------------+--------------------+-----------------------+-----+--------------------+\n",
            "|Business|Unions representi...|[{document, 0, 12...|[{sentence_embedd...|   [[0.0129975387826...|  0.0|[0.01299753878265...|\n",
            "|Sci/Tech| TORONTO, Canada ...|[{document, 0, 22...|[{sentence_embedd...|   [[0.0019999046344...|  1.0|[0.00199990463443...|\n",
            "+--------+--------------------+--------------------+--------------------+-----------------------+-----+--------------------+\n",
            "only showing top 2 rows\n",
            "\n"
          ]
        }
      ],
      "source": [
        "test_df.show(2)"
      ]
    },
    {
      "cell_type": "code",
      "source": [
        "from pyspark.sql.functions import col\n",
        "\n",
        "test_df.groupBy(\"category\",\"label\") \\\n",
        "    .count() \\\n",
        "    .orderBy(col(\"count\").desc()) \\\n",
        "    .show()"
      ],
      "metadata": {
        "colab": {
          "base_uri": "https://localhost:8080/"
        },
        "id": "1-1kVlM69X4A",
        "outputId": "447411d5-9c81-4492-b516-2bce2772137e"
      },
      "execution_count": 22,
      "outputs": [
        {
          "output_type": "stream",
          "name": "stdout",
          "text": [
            "+--------+-----+-----+\n",
            "|category|label|count|\n",
            "+--------+-----+-----+\n",
            "|Sci/Tech|  1.0| 1900|\n",
            "|  Sports|  2.0| 1900|\n",
            "|   World|  3.0| 1900|\n",
            "|Business|  0.0| 1900|\n",
            "+--------+-----+-----+\n",
            "\n"
          ]
        }
      ]
    },
    {
      "cell_type": "code",
      "execution_count": 23,
      "metadata": {
        "id": "cG0FjtySIPSm"
      },
      "outputs": [],
      "source": [
        "predictions = lrModel.transform(test_df)"
      ]
    },
    {
      "cell_type": "code",
      "execution_count": 24,
      "metadata": {
        "id": "EnnF27fuIPSn"
      },
      "outputs": [],
      "source": [
        "df = predictions.select('description','category','label','prediction').toPandas()"
      ]
    },
    {
      "cell_type": "code",
      "execution_count": 25,
      "metadata": {
        "id": "daLNQqgAIPSp"
      },
      "outputs": [],
      "source": [
        "df['label'] = df.category.replace({'World':3.0,\n",
        "                    'Sports':2.0,\n",
        "                    'Business':0.0,\n",
        "                    'Sci/Tech':1.0})"
      ]
    },
    {
      "cell_type": "code",
      "execution_count": 26,
      "metadata": {
        "id": "XxOfQyu322b9",
        "colab": {
          "base_uri": "https://localhost:8080/",
          "height": 206
        },
        "outputId": "586d96ff-bc8c-451b-a984-38962a18bc8f"
      },
      "outputs": [
        {
          "output_type": "execute_result",
          "data": {
            "text/html": [
              "\n",
              "  <div id=\"df-7a65b7e7-3e40-4f41-bdd0-de2a7f8a7e24\">\n",
              "    <div class=\"colab-df-container\">\n",
              "      <div>\n",
              "<style scoped>\n",
              "    .dataframe tbody tr th:only-of-type {\n",
              "        vertical-align: middle;\n",
              "    }\n",
              "\n",
              "    .dataframe tbody tr th {\n",
              "        vertical-align: top;\n",
              "    }\n",
              "\n",
              "    .dataframe thead th {\n",
              "        text-align: right;\n",
              "    }\n",
              "</style>\n",
              "<table border=\"1\" class=\"dataframe\">\n",
              "  <thead>\n",
              "    <tr style=\"text-align: right;\">\n",
              "      <th></th>\n",
              "      <th>description</th>\n",
              "      <th>category</th>\n",
              "      <th>label</th>\n",
              "      <th>prediction</th>\n",
              "    </tr>\n",
              "  </thead>\n",
              "  <tbody>\n",
              "    <tr>\n",
              "      <th>0</th>\n",
              "      <td>Unions representing workers at Turner   Newall...</td>\n",
              "      <td>Business</td>\n",
              "      <td>0.0</td>\n",
              "      <td>0.0</td>\n",
              "    </tr>\n",
              "    <tr>\n",
              "      <th>1</th>\n",
              "      <td>TORONTO, Canada    A second team of rocketeer...</td>\n",
              "      <td>Sci/Tech</td>\n",
              "      <td>1.0</td>\n",
              "      <td>1.0</td>\n",
              "    </tr>\n",
              "    <tr>\n",
              "      <th>2</th>\n",
              "      <td>A company founded by a chemistry researcher a...</td>\n",
              "      <td>Sci/Tech</td>\n",
              "      <td>1.0</td>\n",
              "      <td>1.0</td>\n",
              "    </tr>\n",
              "    <tr>\n",
              "      <th>3</th>\n",
              "      <td>It's barely dawn when Mike Fitzpatrick starts...</td>\n",
              "      <td>Sci/Tech</td>\n",
              "      <td>1.0</td>\n",
              "      <td>1.0</td>\n",
              "    </tr>\n",
              "    <tr>\n",
              "      <th>4</th>\n",
              "      <td>Southern California's smog fighting agency we...</td>\n",
              "      <td>Sci/Tech</td>\n",
              "      <td>1.0</td>\n",
              "      <td>0.0</td>\n",
              "    </tr>\n",
              "  </tbody>\n",
              "</table>\n",
              "</div>\n",
              "      <button class=\"colab-df-convert\" onclick=\"convertToInteractive('df-7a65b7e7-3e40-4f41-bdd0-de2a7f8a7e24')\"\n",
              "              title=\"Convert this dataframe to an interactive table.\"\n",
              "              style=\"display:none;\">\n",
              "        \n",
              "  <svg xmlns=\"http://www.w3.org/2000/svg\" height=\"24px\"viewBox=\"0 0 24 24\"\n",
              "       width=\"24px\">\n",
              "    <path d=\"M0 0h24v24H0V0z\" fill=\"none\"/>\n",
              "    <path d=\"M18.56 5.44l.94 2.06.94-2.06 2.06-.94-2.06-.94-.94-2.06-.94 2.06-2.06.94zm-11 1L8.5 8.5l.94-2.06 2.06-.94-2.06-.94L8.5 2.5l-.94 2.06-2.06.94zm10 10l.94 2.06.94-2.06 2.06-.94-2.06-.94-.94-2.06-.94 2.06-2.06.94z\"/><path d=\"M17.41 7.96l-1.37-1.37c-.4-.4-.92-.59-1.43-.59-.52 0-1.04.2-1.43.59L10.3 9.45l-7.72 7.72c-.78.78-.78 2.05 0 2.83L4 21.41c.39.39.9.59 1.41.59.51 0 1.02-.2 1.41-.59l7.78-7.78 2.81-2.81c.8-.78.8-2.07 0-2.86zM5.41 20L4 18.59l7.72-7.72 1.47 1.35L5.41 20z\"/>\n",
              "  </svg>\n",
              "      </button>\n",
              "      \n",
              "  <style>\n",
              "    .colab-df-container {\n",
              "      display:flex;\n",
              "      flex-wrap:wrap;\n",
              "      gap: 12px;\n",
              "    }\n",
              "\n",
              "    .colab-df-convert {\n",
              "      background-color: #E8F0FE;\n",
              "      border: none;\n",
              "      border-radius: 50%;\n",
              "      cursor: pointer;\n",
              "      display: none;\n",
              "      fill: #1967D2;\n",
              "      height: 32px;\n",
              "      padding: 0 0 0 0;\n",
              "      width: 32px;\n",
              "    }\n",
              "\n",
              "    .colab-df-convert:hover {\n",
              "      background-color: #E2EBFA;\n",
              "      box-shadow: 0px 1px 2px rgba(60, 64, 67, 0.3), 0px 1px 3px 1px rgba(60, 64, 67, 0.15);\n",
              "      fill: #174EA6;\n",
              "    }\n",
              "\n",
              "    [theme=dark] .colab-df-convert {\n",
              "      background-color: #3B4455;\n",
              "      fill: #D2E3FC;\n",
              "    }\n",
              "\n",
              "    [theme=dark] .colab-df-convert:hover {\n",
              "      background-color: #434B5C;\n",
              "      box-shadow: 0px 1px 3px 1px rgba(0, 0, 0, 0.15);\n",
              "      filter: drop-shadow(0px 1px 2px rgba(0, 0, 0, 0.3));\n",
              "      fill: #FFFFFF;\n",
              "    }\n",
              "  </style>\n",
              "\n",
              "      <script>\n",
              "        const buttonEl =\n",
              "          document.querySelector('#df-7a65b7e7-3e40-4f41-bdd0-de2a7f8a7e24 button.colab-df-convert');\n",
              "        buttonEl.style.display =\n",
              "          google.colab.kernel.accessAllowed ? 'block' : 'none';\n",
              "\n",
              "        async function convertToInteractive(key) {\n",
              "          const element = document.querySelector('#df-7a65b7e7-3e40-4f41-bdd0-de2a7f8a7e24');\n",
              "          const dataTable =\n",
              "            await google.colab.kernel.invokeFunction('convertToInteractive',\n",
              "                                                     [key], {});\n",
              "          if (!dataTable) return;\n",
              "\n",
              "          const docLinkHtml = 'Like what you see? Visit the ' +\n",
              "            '<a target=\"_blank\" href=https://colab.research.google.com/notebooks/data_table.ipynb>data table notebook</a>'\n",
              "            + ' to learn more about interactive tables.';\n",
              "          element.innerHTML = '';\n",
              "          dataTable['output_type'] = 'display_data';\n",
              "          await google.colab.output.renderOutput(dataTable, element);\n",
              "          const docLink = document.createElement('div');\n",
              "          docLink.innerHTML = docLinkHtml;\n",
              "          element.appendChild(docLink);\n",
              "        }\n",
              "      </script>\n",
              "    </div>\n",
              "  </div>\n",
              "  "
            ],
            "text/plain": [
              "                                         description  ... prediction\n",
              "0  Unions representing workers at Turner   Newall...  ...        0.0\n",
              "1   TORONTO, Canada    A second team of rocketeer...  ...        1.0\n",
              "2   A company founded by a chemistry researcher a...  ...        1.0\n",
              "3   It's barely dawn when Mike Fitzpatrick starts...  ...        1.0\n",
              "4   Southern California's smog fighting agency we...  ...        0.0\n",
              "\n",
              "[5 rows x 4 columns]"
            ]
          },
          "metadata": {},
          "execution_count": 26
        }
      ],
      "source": [
        "df.head()"
      ]
    },
    {
      "cell_type": "code",
      "source": [
        "from sklearn.metrics import classification_report, accuracy_score\n",
        "\n",
        "print(classification_report(df.label, df.prediction))\n",
        "print(accuracy_score(df.label, df.prediction))"
      ],
      "metadata": {
        "colab": {
          "base_uri": "https://localhost:8080/"
        },
        "id": "QqVmtiew81e6",
        "outputId": "bb702f93-f77a-4c6e-89d1-625e366a4286"
      },
      "execution_count": 27,
      "outputs": [
        {
          "output_type": "stream",
          "name": "stdout",
          "text": [
            "              precision    recall  f1-score   support\n",
            "\n",
            "         0.0       0.83      0.83      0.83      1900\n",
            "         1.0       0.84      0.85      0.85      1900\n",
            "         2.0       0.95      0.97      0.96      1900\n",
            "         3.0       0.90      0.87      0.89      1900\n",
            "\n",
            "    accuracy                           0.88      7600\n",
            "   macro avg       0.88      0.88      0.88      7600\n",
            "weighted avg       0.88      0.88      0.88      7600\n",
            "\n",
            "0.8801315789473684\n"
          ]
        }
      ]
    },
    {
      "cell_type": "markdown",
      "metadata": {
        "id": "regAngWEIPTB"
      },
      "source": [
        "# ClassifierDL"
      ]
    },
    {
      "cell_type": "code",
      "execution_count": 4,
      "metadata": {
        "id": "8RfV7lB_IPTB"
      },
      "outputs": [],
      "source": [
        "# actual content is inside description column\n",
        "document = DocumentAssembler()\\\n",
        "    .setInputCol(\"description\")\\\n",
        "    .setOutputCol(\"document\")\n",
        "\n",
        "use = UniversalSentenceEncoder.load('/root/cache_pretrained/tfhub_use_en_2.4.0_2.4_1587136330099')\\\n",
        "      .setInputCols(\"document\")\\\n",
        "      .setOutputCol(\"sentence_embeddings\")\n",
        "\n",
        "# the classes/labels/categories are in category column\n",
        "classsifierdl = ClassifierDLApproach()\\\n",
        "    .setInputCols([\"sentence_embeddings\"])\\\n",
        "    .setOutputCol(\"class\")\\\n",
        "    .setLabelColumn(\"category\")\\\n",
        "    .setMaxEpochs(5)\\\n",
        "    .setEnableOutputLogs(True)\n",
        "\n",
        "pipeline = Pipeline(\n",
        "    stages = [\n",
        "        document,\n",
        "        use,\n",
        "        classsifierdl\n",
        "    ])"
      ]
    },
    {
      "cell_type": "code",
      "execution_count": 10,
      "metadata": {
        "id": "hfsmr81a43Pz",
        "colab": {
          "base_uri": "https://localhost:8080/"
        },
        "outputId": "e4a9464c-9c0c-4a6e-e75c-f8ec4c912fb2"
      },
      "outputs": [
        {
          "output_type": "stream",
          "name": "stdout",
          "text": [
            "Training Dataset Count: 84003\n",
            "Test Dataset Count: 35997\n"
          ]
        }
      ],
      "source": [
        "# set seed for reproducibility\n",
        "(trainingData, testData) = newsDF.randomSplit([0.7, 0.3], seed = 100)\n",
        "print(\"Training Dataset Count: \" + str(trainingData.count()))\n",
        "print(\"Test Dataset Count: \" + str(testData.count()))"
      ]
    },
    {
      "cell_type": "code",
      "execution_count": 8,
      "metadata": {
        "id": "H47jOwwCIPTG"
      },
      "outputs": [],
      "source": [
        "pipelineModel = pipeline.fit(trainingData)"
      ]
    },
    {
      "cell_type": "code",
      "execution_count": 9,
      "metadata": {
        "id": "ZHQj7chI5JM5"
      },
      "outputs": [],
      "source": [
        "pipelineModel.stages[2].write().overwrite().save('classifierDL_model_5e')"
      ]
    },
    {
      "cell_type": "code",
      "execution_count": 10,
      "metadata": {
        "id": "_95KHyT349ZO",
        "colab": {
          "base_uri": "https://localhost:8080/"
        },
        "outputId": "5a6f6f69-83f9-49b2-f951-92c69b0b573d"
      },
      "outputs": [
        {
          "output_type": "stream",
          "name": "stdout",
          "text": [
            "              precision    recall  f1-score   support\n",
            "\n",
            "    Business       0.85      0.85      0.85      8977\n",
            "    Sci/Tech       0.87      0.86      0.86      8983\n",
            "      Sports       0.95      0.98      0.97      9116\n",
            "       World       0.90      0.89      0.90      8921\n",
            "\n",
            "    accuracy                           0.90     35997\n",
            "   macro avg       0.90      0.90      0.90     35997\n",
            "weighted avg       0.90      0.90      0.90     35997\n",
            "\n",
            "0.8956857515904103\n"
          ]
        }
      ],
      "source": [
        "from sklearn.metrics import classification_report, accuracy_score\n",
        "\n",
        "df = pipelineModel.transform(testData).select('category','description',\"class.result\").toPandas()\n",
        "\n",
        "df['result'] = df['result'].apply(lambda x: x[0])\n",
        "\n",
        "print(classification_report(df.category, df.result))\n",
        "print(accuracy_score(df.category, df.result))"
      ]
    },
    {
      "cell_type": "markdown",
      "metadata": {
        "id": "GkeFxX8tIPTJ"
      },
      "source": [
        "## Loading the trained classifier from disk"
      ]
    },
    {
      "cell_type": "code",
      "execution_count": 11,
      "metadata": {
        "id": "ACf2NVAkIPTK",
        "colab": {
          "base_uri": "https://localhost:8080/"
        },
        "outputId": "fd78664c-0410-4193-efbe-070a41bed222"
      },
      "outputs": [
        {
          "output_type": "execute_result",
          "data": {
            "text/plain": [
              "['/usr/local/lib/python3.7/dist-packages/sparknlp']"
            ]
          },
          "metadata": {},
          "execution_count": 11
        }
      ],
      "source": [
        "import sparknlp\n",
        "sparknlp.__path__"
      ]
    },
    {
      "cell_type": "code",
      "execution_count": 4,
      "metadata": {
        "id": "vS0TSHm9IPTM"
      },
      "outputs": [],
      "source": [
        "trainDataset = spark.read \\\n",
        "      .option(\"header\", True) \\\n",
        "      .csv(\"news_category_train.csv\")"
      ]
    },
    {
      "cell_type": "code",
      "execution_count": 13,
      "metadata": {
        "id": "ykBB6BW-59so",
        "colab": {
          "base_uri": "https://localhost:8080/"
        },
        "outputId": "759067fe-d401-4c10-867d-9341d7630fe3"
      },
      "outputs": [
        {
          "output_type": "execute_result",
          "data": {
            "text/plain": [
              "120000"
            ]
          },
          "metadata": {},
          "execution_count": 13
        }
      ],
      "source": [
        "trainDataset.count()"
      ]
    },
    {
      "cell_type": "code",
      "execution_count": 14,
      "metadata": {
        "id": "OdZ2YoLE6Bro",
        "colab": {
          "base_uri": "https://localhost:8080/"
        },
        "outputId": "92532578-279e-47ca-e434-e9ac87413dee"
      },
      "outputs": [
        {
          "output_type": "execute_result",
          "data": {
            "text/plain": [
              "84003"
            ]
          },
          "metadata": {},
          "execution_count": 14
        }
      ],
      "source": [
        "trainingData.count()"
      ]
    },
    {
      "cell_type": "code",
      "execution_count": 15,
      "metadata": {
        "id": "ZkStUCiJIPTR"
      },
      "outputs": [],
      "source": [
        "document = DocumentAssembler()\\\n",
        "    .setInputCol(\"description\")\\\n",
        "    .setOutputCol(\"document\")\n",
        "\n",
        "use = UniversalSentenceEncoder.load('/root/cache_pretrained/tfhub_use_en_2.4.0_2.4_1587136330099')\\\n",
        "      .setInputCols(\"document\")\\\n",
        "      .setOutputCol(\"sentence_embeddings\")\n",
        "\n",
        "classsifierdlmodel = ClassifierDLModel.load('classifierDL_model_5e')\n",
        "\n",
        "pipeline = Pipeline(\n",
        "    stages = [\n",
        "        document,\n",
        "        use,\n",
        "        classsifierdlmodel\n",
        "    ])"
      ]
    },
    {
      "cell_type": "code",
      "execution_count": 16,
      "metadata": {
        "id": "-jlVnXBC6sDZ",
        "colab": {
          "base_uri": "https://localhost:8080/"
        },
        "outputId": "1dab673d-bb55-42b4-bddf-d4f6725e4e0c"
      },
      "outputs": [
        {
          "output_type": "stream",
          "name": "stdout",
          "text": [
            "+--------+--------------------------------------------------+----------+\n",
            "|category|                                       description|    result|\n",
            "+--------+--------------------------------------------------+----------+\n",
            "|Business|  10/22/04    The board of the Walt Disney Comp...|[Business]|\n",
            "|Business|  A closely watched barometer of future economi...|[Business]|\n",
            "|Business|  A consortium led by Sony Corp. of America ann...|[Business]|\n",
            "|Business|  A federal appeals court agreed Tuesday to tem...|[Business]|\n",
            "|Business|  A federal bankruptcy judge ruled against Unit...|[Business]|\n",
            "|Business|  A federal judge has scheduled jury selection ...|[Business]|\n",
            "|Business|  A federal judge today ordered Martha Stewart ...|[Business]|\n",
            "|Business|  A new  $50 bill with touches of red, blue and...|[Business]|\n",
            "|Business|  A roaring jobs market in Canada and disappoin...|[Business]|\n",
            "|Business|  A top networking gear producer plans to offer...|[Sci/Tech]|\n",
            "+--------+--------------------------------------------------+----------+\n",
            "\n"
          ]
        }
      ],
      "source": [
        "pipeline.fit(testData.limit(10)).transform(testData.limit(10)).select('category','description',\"class.result\").show(10, truncate=50)"
      ]
    },
    {
      "cell_type": "code",
      "execution_count": 17,
      "metadata": {
        "id": "sByX3oVm6vKn",
        "colab": {
          "base_uri": "https://localhost:8080/"
        },
        "outputId": "6e48c96f-4e49-410e-8b99-01f94faee37b"
      },
      "outputs": [
        {
          "output_type": "execute_result",
          "data": {
            "text/plain": [
              "{'class': ['Sci/Tech'],\n",
              " 'document': ['In its first two years, the UK dedicated card companies have surge'],\n",
              " 'sentence_embeddings': ['In its first two years, the UK dedicated card companies have surge']}"
            ]
          },
          "metadata": {},
          "execution_count": 17
        }
      ],
      "source": [
        "lm = LightPipeline(pipeline.fit(spark.createDataFrame([[\"\"]]).toDF(\"text\")))\n",
        "lm.annotate('In its first two years, the UK dedicated card companies have surge')"
      ]
    },
    {
      "cell_type": "code",
      "execution_count": 18,
      "metadata": {
        "id": "pzdks_VjIPTV"
      },
      "outputs": [],
      "source": [
        "text='''\n",
        "Fearing the fate of Italy, the centre-right government has threatened to be merciless with those who flout tough restrictions. As of Wednesday it will also include all shops being closed across Greece, with the exception of supermarkets. Banks, pharmacies, pet-stores, mobile phone stores, opticians, bakers, mini-markets, couriers and food delivery outlets are among the few that will also be allowed to remain open.\n",
        "'''"
      ]
    },
    {
      "cell_type": "code",
      "execution_count": 19,
      "metadata": {
        "id": "mUEhBk1h6yMR",
        "colab": {
          "base_uri": "https://localhost:8080/"
        },
        "outputId": "bbe250cc-6617-47b3-cb29-4729b4e9c647"
      },
      "outputs": [
        {
          "output_type": "execute_result",
          "data": {
            "text/plain": [
              "{'class': ['World'],\n",
              " 'document': ['\\nFearing the fate of Italy, the centre-right government has threatened to be merciless with those who flout tough restrictions. As of Wednesday it will also include all shops being closed across Greece, with the exception of supermarkets. Banks, pharmacies, pet-stores, mobile phone stores, opticians, bakers, mini-markets, couriers and food delivery outlets are among the few that will also be allowed to remain open.\\n'],\n",
              " 'sentence_embeddings': ['\\nFearing the fate of Italy, the centre-right government has threatened to be merciless with those who flout tough restrictions. As of Wednesday it will also include all shops being closed across Greece, with the exception of supermarkets. Banks, pharmacies, pet-stores, mobile phone stores, opticians, bakers, mini-markets, couriers and food delivery outlets are among the few that will also be allowed to remain open.\\n']}"
            ]
          },
          "metadata": {},
          "execution_count": 19
        }
      ],
      "source": [
        "lm = LightPipeline(pipeline.fit(spark.createDataFrame([[\"\"]]).toDF(\"text\")))\n",
        "\n",
        "lm.annotate(text)"
      ]
    },
    {
      "cell_type": "markdown",
      "metadata": {
        "id": "_vn6mkWb-QbH"
      },
      "source": [
        "# Classifier DL + Glove + Basic text processing"
      ]
    },
    {
      "cell_type": "code",
      "execution_count": 3,
      "metadata": {
        "id": "0KV-gdcL-QbI",
        "colab": {
          "base_uri": "https://localhost:8080/"
        },
        "outputId": "1091bc9f-27ec-49dd-86d7-3d18587b6a5c"
      },
      "outputs": [
        {
          "output_type": "stream",
          "name": "stdout",
          "text": [
            "lemma_antbnc download started this may take some time.\n",
            "Approximate size to download 907.6 KB\n",
            "[OK!]\n",
            "glove_100d download started this may take some time.\n",
            "Approximate size to download 145.3 MB\n",
            "[OK!]\n"
          ]
        }
      ],
      "source": [
        "document = DocumentAssembler()\\\n",
        "    .setInputCol(\"description\")\\\n",
        "    .setOutputCol(\"document\")\n",
        "\n",
        "tokenizer = Tokenizer() \\\n",
        "      .setInputCols([\"document\"]) \\\n",
        "      .setOutputCol(\"token\")\n",
        "\n",
        "lemma = LemmatizerModel.pretrained('lemma_antbnc') \\\n",
        "      .setInputCols([\"token\"]) \\\n",
        "      .setOutputCol(\"lemma\")\n",
        "      \n",
        "glove_embeddings = WordEmbeddingsModel().pretrained() \\\n",
        "      .setInputCols([\"document\",'lemma'])\\\n",
        "      .setOutputCol(\"embeddings\")\\\n",
        "      .setCaseSensitive(False)\n",
        "\n",
        "lemma_pipeline = Pipeline(\n",
        "    stages=[document, \n",
        "            tokenizer,\n",
        "            lemma,\n",
        "            glove_embeddings])"
      ]
    },
    {
      "cell_type": "code",
      "execution_count": 11,
      "metadata": {
        "id": "m1Up3FlT-QbK",
        "colab": {
          "base_uri": "https://localhost:8080/"
        },
        "outputId": "1377ac19-f752-482b-cc42-05ac54de3e1d"
      },
      "outputs": [
        {
          "output_type": "stream",
          "name": "stdout",
          "text": [
            "+--------+------------------------------+------------------------------+------------------------------+------------------------------+------------------------------+\n",
            "|category|                   description|                      document|                         token|                         lemma|                    embeddings|\n",
            "+--------+------------------------------+------------------------------+------------------------------+------------------------------+------------------------------+\n",
            "|Business|    The credit rating of th...|[{document, 0, 164,     The...|[{token, 4, 6, The, {senten...|[{token, 4, 6, The, {senten...|[{word_embeddings, 4, 6, Th...|\n",
            "|Business|   Jeans maker Levi Strauss...|[{document, 0, 186,    Jean...|[{token, 3, 7, Jeans, {sent...|[{token, 3, 7, Jeans, {sent...|[{word_embeddings, 3, 7, Je...|\n",
            "|Business|  ''The Oprah Winfrey Show ...|[{document, 0, 131,   ''The...|[{token, 2, 3, '', {sentenc...|[{token, 2, 3, '', {sentenc...|[{word_embeddings, 2, 3, ''...|\n",
            "|Business|  A  $120 million fine levi...|[{document, 0, 278,   A  $1...|[{token, 2, 2, A, {sentence...|[{token, 2, 2, A, {sentence...|[{word_embeddings, 2, 2, A,...|\n",
            "|Business|  A Colorado assistant stor...|[{document, 0, 144,   A Col...|[{token, 2, 2, A, {sentence...|[{token, 2, 2, A, {sentence...|[{word_embeddings, 2, 2, A,...|\n",
            "|Business|  A Minnesota health insure...|[{document, 0, 186,   A Min...|[{token, 2, 2, A, {sentence...|[{token, 2, 2, A, {sentence...|[{word_embeddings, 2, 2, A,...|\n",
            "|Business|  A Missouri woman is suing...|[{document, 0, 160,   A Mis...|[{token, 2, 2, A, {sentence...|[{token, 2, 2, A, {sentence...|[{word_embeddings, 2, 2, A,...|\n",
            "|Business|  A Pennsylvania brewery is...|[{document, 0, 132,   A Pen...|[{token, 2, 2, A, {sentence...|[{token, 2, 2, A, {sentence...|[{word_embeddings, 2, 2, A,...|\n",
            "|Business|  A Secret Service ink expe...|[{document, 0, 190,   A Sec...|[{token, 2, 2, A, {sentence...|[{token, 2, 2, A, {sentence...|[{word_embeddings, 2, 2, A,...|\n",
            "|Business|  A decline in the nation's...|[{document, 0, 289,   A dec...|[{token, 2, 2, A, {sentence...|[{token, 2, 2, A, {sentence...|[{word_embeddings, 2, 2, A,...|\n",
            "|Business|  A drop in oil prices and ...|[{document, 0, 219,   A dro...|[{token, 2, 2, A, {sentence...|[{token, 2, 2, A, {sentence...|[{word_embeddings, 2, 2, A,...|\n",
            "|Business|  A federal initiative to r...|[{document, 0, 223,   A fed...|[{token, 2, 2, A, {sentence...|[{token, 2, 2, A, {sentence...|[{word_embeddings, 2, 2, A,...|\n",
            "|Business|  A federal judge Tuesday d...|[{document, 0, 195,   A fed...|[{token, 2, 2, A, {sentence...|[{token, 2, 2, A, {sentence...|[{word_embeddings, 2, 2, A,...|\n",
            "|Business|  A federal judge found Mon...|[{document, 0, 227,   A fed...|[{token, 2, 2, A, {sentence...|[{token, 2, 2, A, {sentence...|[{word_embeddings, 2, 2, A,...|\n",
            "|Business|  A former Air Force offici...|[{document, 0, 112,   A for...|[{token, 2, 2, A, {sentence...|[{token, 2, 2, A, {sentence...|[{word_embeddings, 2, 2, A,...|\n",
            "|Business|  A group led by privately ...|[{document, 0, 186,   A gro...|[{token, 2, 2, A, {sentence...|[{token, 2, 2, A, {sentence...|[{word_embeddings, 2, 2, A,...|\n",
            "|Business|  A group of technology com...|[{document, 0, 201,   A gro...|[{token, 2, 2, A, {sentence...|[{token, 2, 2, A, {sentence...|[{word_embeddings, 2, 2, A,...|\n",
            "|Business|  A major rewrite of corpor...|[{document, 0, 375,   A maj...|[{token, 2, 2, A, {sentence...|[{token, 2, 2, A, {sentence...|[{word_embeddings, 2, 2, A,...|\n",
            "|Business|  A new study shows that ge...|[{document, 0, 208,   A new...|[{token, 2, 2, A, {sentence...|[{token, 2, 2, A, {sentence...|[{word_embeddings, 2, 2, A,...|\n",
            "|Business|  A proposed compromise des...|[{document, 0, 227,   A pro...|[{token, 2, 2, A, {sentence...|[{token, 2, 2, A, {sentence...|[{word_embeddings, 2, 2, A,...|\n",
            "+--------+------------------------------+------------------------------+------------------------------+------------------------------+------------------------------+\n",
            "only showing top 20 rows\n",
            "\n"
          ]
        }
      ],
      "source": [
        "lemma_pipeline.fit(trainingData.limit(1000)).transform(trainingData.limit(1000)).show(truncate=30)"
      ]
    },
    {
      "cell_type": "code",
      "execution_count": 12,
      "metadata": {
        "id": "kXpQOv1J-QbL",
        "colab": {
          "base_uri": "https://localhost:8080/"
        },
        "outputId": "a6f3e066-b4d7-4a5a-c7b0-c02ced9cccd2"
      },
      "outputs": [
        {
          "output_type": "stream",
          "name": "stdout",
          "text": [
            "lemma_antbnc download started this may take some time.\n",
            "Approximate size to download 907.6 KB\n",
            "[OK!]\n",
            "glove_100d download started this may take some time.\n",
            "Approximate size to download 145.3 MB\n",
            "[OK!]\n"
          ]
        }
      ],
      "source": [
        "document_assembler = DocumentAssembler() \\\n",
        "      .setInputCol(\"description\") \\\n",
        "      .setOutputCol(\"document\")\n",
        "    \n",
        "tokenizer = Tokenizer() \\\n",
        "      .setInputCols([\"document\"]) \\\n",
        "      .setOutputCol(\"token\")\n",
        "    \n",
        "normalizer = Normalizer() \\\n",
        "      .setInputCols([\"token\"]) \\\n",
        "      .setOutputCol(\"normalized\")\n",
        "\n",
        "stopwords_cleaner = StopWordsCleaner()\\\n",
        "      .setInputCols(\"normalized\")\\\n",
        "      .setOutputCol(\"cleanTokens\")\\\n",
        "      .setCaseSensitive(False)\n",
        "\n",
        "lemma = LemmatizerModel.pretrained('lemma_antbnc') \\\n",
        "      .setInputCols([\"cleanTokens\"]) \\\n",
        "      .setOutputCol(\"lemma\")\n",
        "\n",
        "glove_embeddings = WordEmbeddingsModel().pretrained() \\\n",
        "      .setInputCols([\"document\",'lemma'])\\\n",
        "      .setOutputCol(\"embeddings\")\\\n",
        "      .setCaseSensitive(False)\n",
        "\n",
        "embeddingsSentence = SentenceEmbeddings() \\\n",
        "      .setInputCols([\"document\", \"embeddings\"]) \\\n",
        "      .setOutputCol(\"sentence_embeddings\") \\\n",
        "      .setPoolingStrategy(\"AVERAGE\")\n",
        "\n",
        "classsifierdl = ClassifierDLApproach()\\\n",
        "      .setInputCols([\"sentence_embeddings\"])\\\n",
        "      .setOutputCol(\"class\")\\\n",
        "      .setLabelColumn(\"category\")\\\n",
        "      .setMaxEpochs(5)\\\n",
        "      .setEnableOutputLogs(True)\n",
        "\n",
        "clf_pipeline = Pipeline(\n",
        "    stages=[document_assembler, \n",
        "            tokenizer,\n",
        "            normalizer,\n",
        "            stopwords_cleaner, \n",
        "            lemma, \n",
        "            glove_embeddings,\n",
        "            embeddingsSentence,\n",
        "            classsifierdl])"
      ]
    },
    {
      "cell_type": "code",
      "execution_count": 13,
      "metadata": {
        "id": "_CEiY2qW-QbM"
      },
      "outputs": [],
      "source": [
        "!rm -rf classifier_dl_pipeline_glove"
      ]
    },
    {
      "cell_type": "code",
      "execution_count": 14,
      "metadata": {
        "id": "4Ru_yFKQ-QbN"
      },
      "outputs": [],
      "source": [
        "clf_pipeline.save('classifier_dl_pipeline_glove')"
      ]
    },
    {
      "cell_type": "code",
      "execution_count": 15,
      "metadata": {
        "id": "R8tDkEtn-QbN"
      },
      "outputs": [],
      "source": [
        "clf_pipelineModel = clf_pipeline.fit(trainingData)"
      ]
    },
    {
      "cell_type": "code",
      "execution_count": 26,
      "metadata": {
        "id": "4tt10fAn-QbO",
        "colab": {
          "base_uri": "https://localhost:8080/",
          "height": 206
        },
        "outputId": "c1395255-d5bb-4809-f7d1-380209bd09be"
      },
      "outputs": [
        {
          "output_type": "execute_result",
          "data": {
            "text/html": [
              "\n",
              "  <div id=\"df-5834cd01-9610-440b-8355-bdb8c5f757ae\">\n",
              "    <div class=\"colab-df-container\">\n",
              "      <div>\n",
              "<style scoped>\n",
              "    .dataframe tbody tr th:only-of-type {\n",
              "        vertical-align: middle;\n",
              "    }\n",
              "\n",
              "    .dataframe tbody tr th {\n",
              "        vertical-align: top;\n",
              "    }\n",
              "\n",
              "    .dataframe thead th {\n",
              "        text-align: right;\n",
              "    }\n",
              "</style>\n",
              "<table border=\"1\" class=\"dataframe\">\n",
              "  <thead>\n",
              "    <tr style=\"text-align: right;\">\n",
              "      <th></th>\n",
              "      <th>category</th>\n",
              "      <th>description</th>\n",
              "      <th>result</th>\n",
              "    </tr>\n",
              "  </thead>\n",
              "  <tbody>\n",
              "    <tr>\n",
              "      <th>0</th>\n",
              "      <td>Business</td>\n",
              "      <td>10/22/04    The board of the Walt Disney Com...</td>\n",
              "      <td>[Business]</td>\n",
              "    </tr>\n",
              "    <tr>\n",
              "      <th>1</th>\n",
              "      <td>Business</td>\n",
              "      <td>A closely watched barometer of future econom...</td>\n",
              "      <td>[Business]</td>\n",
              "    </tr>\n",
              "    <tr>\n",
              "      <th>2</th>\n",
              "      <td>Business</td>\n",
              "      <td>A consortium led by Sony Corp. of America an...</td>\n",
              "      <td>[Business]</td>\n",
              "    </tr>\n",
              "    <tr>\n",
              "      <th>3</th>\n",
              "      <td>Business</td>\n",
              "      <td>A federal appeals court agreed Tuesday to te...</td>\n",
              "      <td>[Business]</td>\n",
              "    </tr>\n",
              "    <tr>\n",
              "      <th>4</th>\n",
              "      <td>Business</td>\n",
              "      <td>A federal bankruptcy judge ruled against Uni...</td>\n",
              "      <td>[Business]</td>\n",
              "    </tr>\n",
              "  </tbody>\n",
              "</table>\n",
              "</div>\n",
              "      <button class=\"colab-df-convert\" onclick=\"convertToInteractive('df-5834cd01-9610-440b-8355-bdb8c5f757ae')\"\n",
              "              title=\"Convert this dataframe to an interactive table.\"\n",
              "              style=\"display:none;\">\n",
              "        \n",
              "  <svg xmlns=\"http://www.w3.org/2000/svg\" height=\"24px\"viewBox=\"0 0 24 24\"\n",
              "       width=\"24px\">\n",
              "    <path d=\"M0 0h24v24H0V0z\" fill=\"none\"/>\n",
              "    <path d=\"M18.56 5.44l.94 2.06.94-2.06 2.06-.94-2.06-.94-.94-2.06-.94 2.06-2.06.94zm-11 1L8.5 8.5l.94-2.06 2.06-.94-2.06-.94L8.5 2.5l-.94 2.06-2.06.94zm10 10l.94 2.06.94-2.06 2.06-.94-2.06-.94-.94-2.06-.94 2.06-2.06.94z\"/><path d=\"M17.41 7.96l-1.37-1.37c-.4-.4-.92-.59-1.43-.59-.52 0-1.04.2-1.43.59L10.3 9.45l-7.72 7.72c-.78.78-.78 2.05 0 2.83L4 21.41c.39.39.9.59 1.41.59.51 0 1.02-.2 1.41-.59l7.78-7.78 2.81-2.81c.8-.78.8-2.07 0-2.86zM5.41 20L4 18.59l7.72-7.72 1.47 1.35L5.41 20z\"/>\n",
              "  </svg>\n",
              "      </button>\n",
              "      \n",
              "  <style>\n",
              "    .colab-df-container {\n",
              "      display:flex;\n",
              "      flex-wrap:wrap;\n",
              "      gap: 12px;\n",
              "    }\n",
              "\n",
              "    .colab-df-convert {\n",
              "      background-color: #E8F0FE;\n",
              "      border: none;\n",
              "      border-radius: 50%;\n",
              "      cursor: pointer;\n",
              "      display: none;\n",
              "      fill: #1967D2;\n",
              "      height: 32px;\n",
              "      padding: 0 0 0 0;\n",
              "      width: 32px;\n",
              "    }\n",
              "\n",
              "    .colab-df-convert:hover {\n",
              "      background-color: #E2EBFA;\n",
              "      box-shadow: 0px 1px 2px rgba(60, 64, 67, 0.3), 0px 1px 3px 1px rgba(60, 64, 67, 0.15);\n",
              "      fill: #174EA6;\n",
              "    }\n",
              "\n",
              "    [theme=dark] .colab-df-convert {\n",
              "      background-color: #3B4455;\n",
              "      fill: #D2E3FC;\n",
              "    }\n",
              "\n",
              "    [theme=dark] .colab-df-convert:hover {\n",
              "      background-color: #434B5C;\n",
              "      box-shadow: 0px 1px 3px 1px rgba(0, 0, 0, 0.15);\n",
              "      filter: drop-shadow(0px 1px 2px rgba(0, 0, 0, 0.3));\n",
              "      fill: #FFFFFF;\n",
              "    }\n",
              "  </style>\n",
              "\n",
              "      <script>\n",
              "        const buttonEl =\n",
              "          document.querySelector('#df-5834cd01-9610-440b-8355-bdb8c5f757ae button.colab-df-convert');\n",
              "        buttonEl.style.display =\n",
              "          google.colab.kernel.accessAllowed ? 'block' : 'none';\n",
              "\n",
              "        async function convertToInteractive(key) {\n",
              "          const element = document.querySelector('#df-5834cd01-9610-440b-8355-bdb8c5f757ae');\n",
              "          const dataTable =\n",
              "            await google.colab.kernel.invokeFunction('convertToInteractive',\n",
              "                                                     [key], {});\n",
              "          if (!dataTable) return;\n",
              "\n",
              "          const docLinkHtml = 'Like what you see? Visit the ' +\n",
              "            '<a target=\"_blank\" href=https://colab.research.google.com/notebooks/data_table.ipynb>data table notebook</a>'\n",
              "            + ' to learn more about interactive tables.';\n",
              "          element.innerHTML = '';\n",
              "          dataTable['output_type'] = 'display_data';\n",
              "          await google.colab.output.renderOutput(dataTable, element);\n",
              "          const docLink = document.createElement('div');\n",
              "          docLink.innerHTML = docLinkHtml;\n",
              "          element.appendChild(docLink);\n",
              "        }\n",
              "      </script>\n",
              "    </div>\n",
              "  </div>\n",
              "  "
            ],
            "text/plain": [
              "   category                                        description      result\n",
              "0  Business    10/22/04    The board of the Walt Disney Com...  [Business]\n",
              "1  Business    A closely watched barometer of future econom...  [Business]\n",
              "2  Business    A consortium led by Sony Corp. of America an...  [Business]\n",
              "3  Business    A federal appeals court agreed Tuesday to te...  [Business]\n",
              "4  Business    A federal bankruptcy judge ruled against Uni...  [Business]"
            ]
          },
          "metadata": {},
          "execution_count": 26
        }
      ],
      "source": [
        "df = clf_pipelineModel.transform(testData).select('category','description',\"class.result\").toPandas()\n",
        "\n",
        "df.head()"
      ]
    },
    {
      "cell_type": "code",
      "source": [
        "from sklearn.metrics import classification_report, accuracy_score\n",
        "\n",
        "df['result'] = df['result'].apply(lambda x: x[0])\n",
        "\n",
        "print(classification_report(df.category, df.result))\n",
        "\n",
        "print(accuracy_score(df.category, df.result))"
      ],
      "metadata": {
        "colab": {
          "base_uri": "https://localhost:8080/"
        },
        "id": "MfqT1kOExFyD",
        "outputId": "4c2319cd-241b-432c-c143-7b7b49032e20"
      },
      "execution_count": 27,
      "outputs": [
        {
          "output_type": "stream",
          "name": "stdout",
          "text": [
            "              precision    recall  f1-score   support\n",
            "\n",
            "    Business       0.84      0.85      0.84      8977\n",
            "    Sci/Tech       0.85      0.85      0.85      8983\n",
            "      Sports       0.94      0.97      0.96      9116\n",
            "       World       0.91      0.87      0.89      8921\n",
            "\n",
            "    accuracy                           0.89     35997\n",
            "   macro avg       0.89      0.89      0.89     35997\n",
            "weighted avg       0.89      0.89      0.89     35997\n",
            "\n",
            "0.886129399672195\n"
          ]
        }
      ]
    },
    {
      "cell_type": "code",
      "execution_count": null,
      "metadata": {
        "id": "gI1jlf2g-QbP"
      },
      "outputs": [],
      "source": [
        "!cd data && ls -l"
      ]
    },
    {
      "cell_type": "code",
      "execution_count": 19,
      "metadata": {
        "id": "jych1Rk8-QbQ"
      },
      "outputs": [],
      "source": [
        "import pandas as pd"
      ]
    },
    {
      "cell_type": "code",
      "execution_count": 20,
      "metadata": {
        "id": "pie9T7en-QbQ"
      },
      "outputs": [],
      "source": [
        "news_df = newsDF.toPandas()"
      ]
    },
    {
      "cell_type": "code",
      "execution_count": 21,
      "metadata": {
        "id": "AGJEumf--QbR",
        "colab": {
          "base_uri": "https://localhost:8080/",
          "height": 206
        },
        "outputId": "77973729-7125-4cf8-8f46-9a1f0dab9838"
      },
      "outputs": [
        {
          "output_type": "execute_result",
          "data": {
            "text/html": [
              "\n",
              "  <div id=\"df-4ab40837-1666-41a4-a247-c6d8488b8aff\">\n",
              "    <div class=\"colab-df-container\">\n",
              "      <div>\n",
              "<style scoped>\n",
              "    .dataframe tbody tr th:only-of-type {\n",
              "        vertical-align: middle;\n",
              "    }\n",
              "\n",
              "    .dataframe tbody tr th {\n",
              "        vertical-align: top;\n",
              "    }\n",
              "\n",
              "    .dataframe thead th {\n",
              "        text-align: right;\n",
              "    }\n",
              "</style>\n",
              "<table border=\"1\" class=\"dataframe\">\n",
              "  <thead>\n",
              "    <tr style=\"text-align: right;\">\n",
              "      <th></th>\n",
              "      <th>category</th>\n",
              "      <th>description</th>\n",
              "    </tr>\n",
              "  </thead>\n",
              "  <tbody>\n",
              "    <tr>\n",
              "      <th>0</th>\n",
              "      <td>Business</td>\n",
              "      <td>Short sellers, Wall Street's dwindling band o...</td>\n",
              "    </tr>\n",
              "    <tr>\n",
              "      <th>1</th>\n",
              "      <td>Business</td>\n",
              "      <td>Private investment firm Carlyle Group, which ...</td>\n",
              "    </tr>\n",
              "    <tr>\n",
              "      <th>2</th>\n",
              "      <td>Business</td>\n",
              "      <td>Soaring crude prices plus worries about the e...</td>\n",
              "    </tr>\n",
              "    <tr>\n",
              "      <th>3</th>\n",
              "      <td>Business</td>\n",
              "      <td>Authorities have halted oil export flows from...</td>\n",
              "    </tr>\n",
              "    <tr>\n",
              "      <th>4</th>\n",
              "      <td>Business</td>\n",
              "      <td>Tearaway world oil prices, toppling records a...</td>\n",
              "    </tr>\n",
              "  </tbody>\n",
              "</table>\n",
              "</div>\n",
              "      <button class=\"colab-df-convert\" onclick=\"convertToInteractive('df-4ab40837-1666-41a4-a247-c6d8488b8aff')\"\n",
              "              title=\"Convert this dataframe to an interactive table.\"\n",
              "              style=\"display:none;\">\n",
              "        \n",
              "  <svg xmlns=\"http://www.w3.org/2000/svg\" height=\"24px\"viewBox=\"0 0 24 24\"\n",
              "       width=\"24px\">\n",
              "    <path d=\"M0 0h24v24H0V0z\" fill=\"none\"/>\n",
              "    <path d=\"M18.56 5.44l.94 2.06.94-2.06 2.06-.94-2.06-.94-.94-2.06-.94 2.06-2.06.94zm-11 1L8.5 8.5l.94-2.06 2.06-.94-2.06-.94L8.5 2.5l-.94 2.06-2.06.94zm10 10l.94 2.06.94-2.06 2.06-.94-2.06-.94-.94-2.06-.94 2.06-2.06.94z\"/><path d=\"M17.41 7.96l-1.37-1.37c-.4-.4-.92-.59-1.43-.59-.52 0-1.04.2-1.43.59L10.3 9.45l-7.72 7.72c-.78.78-.78 2.05 0 2.83L4 21.41c.39.39.9.59 1.41.59.51 0 1.02-.2 1.41-.59l7.78-7.78 2.81-2.81c.8-.78.8-2.07 0-2.86zM5.41 20L4 18.59l7.72-7.72 1.47 1.35L5.41 20z\"/>\n",
              "  </svg>\n",
              "      </button>\n",
              "      \n",
              "  <style>\n",
              "    .colab-df-container {\n",
              "      display:flex;\n",
              "      flex-wrap:wrap;\n",
              "      gap: 12px;\n",
              "    }\n",
              "\n",
              "    .colab-df-convert {\n",
              "      background-color: #E8F0FE;\n",
              "      border: none;\n",
              "      border-radius: 50%;\n",
              "      cursor: pointer;\n",
              "      display: none;\n",
              "      fill: #1967D2;\n",
              "      height: 32px;\n",
              "      padding: 0 0 0 0;\n",
              "      width: 32px;\n",
              "    }\n",
              "\n",
              "    .colab-df-convert:hover {\n",
              "      background-color: #E2EBFA;\n",
              "      box-shadow: 0px 1px 2px rgba(60, 64, 67, 0.3), 0px 1px 3px 1px rgba(60, 64, 67, 0.15);\n",
              "      fill: #174EA6;\n",
              "    }\n",
              "\n",
              "    [theme=dark] .colab-df-convert {\n",
              "      background-color: #3B4455;\n",
              "      fill: #D2E3FC;\n",
              "    }\n",
              "\n",
              "    [theme=dark] .colab-df-convert:hover {\n",
              "      background-color: #434B5C;\n",
              "      box-shadow: 0px 1px 3px 1px rgba(0, 0, 0, 0.15);\n",
              "      filter: drop-shadow(0px 1px 2px rgba(0, 0, 0, 0.3));\n",
              "      fill: #FFFFFF;\n",
              "    }\n",
              "  </style>\n",
              "\n",
              "      <script>\n",
              "        const buttonEl =\n",
              "          document.querySelector('#df-4ab40837-1666-41a4-a247-c6d8488b8aff button.colab-df-convert');\n",
              "        buttonEl.style.display =\n",
              "          google.colab.kernel.accessAllowed ? 'block' : 'none';\n",
              "\n",
              "        async function convertToInteractive(key) {\n",
              "          const element = document.querySelector('#df-4ab40837-1666-41a4-a247-c6d8488b8aff');\n",
              "          const dataTable =\n",
              "            await google.colab.kernel.invokeFunction('convertToInteractive',\n",
              "                                                     [key], {});\n",
              "          if (!dataTable) return;\n",
              "\n",
              "          const docLinkHtml = 'Like what you see? Visit the ' +\n",
              "            '<a target=\"_blank\" href=https://colab.research.google.com/notebooks/data_table.ipynb>data table notebook</a>'\n",
              "            + ' to learn more about interactive tables.';\n",
              "          element.innerHTML = '';\n",
              "          dataTable['output_type'] = 'display_data';\n",
              "          await google.colab.output.renderOutput(dataTable, element);\n",
              "          const docLink = document.createElement('div');\n",
              "          docLink.innerHTML = docLinkHtml;\n",
              "          element.appendChild(docLink);\n",
              "        }\n",
              "      </script>\n",
              "    </div>\n",
              "  </div>\n",
              "  "
            ],
            "text/plain": [
              "   category                                        description\n",
              "0  Business   Short sellers, Wall Street's dwindling band o...\n",
              "1  Business   Private investment firm Carlyle Group, which ...\n",
              "2  Business   Soaring crude prices plus worries about the e...\n",
              "3  Business   Authorities have halted oil export flows from...\n",
              "4  Business   Tearaway world oil prices, toppling records a..."
            ]
          },
          "metadata": {},
          "execution_count": 21
        }
      ],
      "source": [
        "news_df.head()"
      ]
    },
    {
      "cell_type": "code",
      "execution_count": 22,
      "metadata": {
        "id": "7gFIeTJw-QbS"
      },
      "outputs": [],
      "source": [
        "news_df.to_csv('news_dataset.csv', index=False)"
      ]
    },
    {
      "cell_type": "code",
      "execution_count": 23,
      "metadata": {
        "id": "HT0IKCms-QbT",
        "colab": {
          "base_uri": "https://localhost:8080/"
        },
        "outputId": "f9ff2af5-8393-4aed-8e84-91163dc2c56f"
      },
      "outputs": [
        {
          "output_type": "stream",
          "name": "stdout",
          "text": [
            "lemma_antbnc download started this may take some time.\n",
            "Approximate size to download 907.6 KB\n",
            "[OK!]\n",
            "glove_100d download started this may take some time.\n",
            "Approximate size to download 145.3 MB\n",
            "[OK!]\n"
          ]
        }
      ],
      "source": [
        "document_assembler = DocumentAssembler() \\\n",
        "      .setInputCol(\"description\") \\\n",
        "      .setOutputCol(\"document\")\n",
        "      \n",
        "tokenizer = Tokenizer() \\\n",
        "      .setInputCols([\"document\"]) \\\n",
        "      .setOutputCol(\"token\")\n",
        "      \n",
        "normalizer = Normalizer() \\\n",
        "      .setInputCols([\"token\"]) \\\n",
        "      .setOutputCol(\"normalized\")\n",
        "\n",
        "stopwords_cleaner = StopWordsCleaner()\\\n",
        "      .setInputCols(\"normalized\")\\\n",
        "      .setOutputCol(\"cleanTokens\")\\\n",
        "      .setCaseSensitive(False)\n",
        "\n",
        "lemma = LemmatizerModel.pretrained('lemma_antbnc') \\\n",
        "      .setInputCols([\"cleanTokens\"]) \\\n",
        "      .setOutputCol(\"lemma\")\n",
        "\n",
        "glove_embeddings = WordEmbeddingsModel().pretrained() \\\n",
        "      .setInputCols([\"document\",'lemma'])\\\n",
        "      .setOutputCol(\"embeddings\")\\\n",
        "      .setCaseSensitive(False)\n",
        "\n",
        "txt_pipeline = Pipeline(\n",
        "    stages=[document_assembler, \n",
        "            tokenizer,\n",
        "            normalizer,\n",
        "            stopwords_cleaner, \n",
        "            lemma, \n",
        "            glove_embeddings,\n",
        "            embeddingsSentence])"
      ]
    },
    {
      "cell_type": "code",
      "execution_count": 24,
      "metadata": {
        "id": "ZxUrgGoU-QbU"
      },
      "outputs": [],
      "source": [
        "txt_pipelineModel = txt_pipeline.fit(testData.limit(1))"
      ]
    },
    {
      "cell_type": "code",
      "execution_count": 25,
      "metadata": {
        "id": "BJqR-_Gu-QbU"
      },
      "outputs": [],
      "source": [
        "txt_pipelineModel.save('text_prep_pipeline_glove')"
      ]
    }
  ],
  "metadata": {
    "accelerator": "GPU",
    "colab": {
      "collapsed_sections": [],
      "name": "5.1_Text_classification_examples_in_SparkML_SparkNLP.ipynb",
      "provenance": [],
      "toc_visible": true
    },
    "kernelspec": {
      "display_name": "Python 3",
      "language": "python",
      "name": "python3"
    },
    "language_info": {
      "codemirror_mode": {
        "name": "ipython",
        "version": 3
      },
      "file_extension": ".py",
      "mimetype": "text/x-python",
      "name": "python",
      "nbconvert_exporter": "python",
      "pygments_lexer": "ipython3",
      "version": "3.7.4"
    }
  },
  "nbformat": 4,
  "nbformat_minor": 0
}
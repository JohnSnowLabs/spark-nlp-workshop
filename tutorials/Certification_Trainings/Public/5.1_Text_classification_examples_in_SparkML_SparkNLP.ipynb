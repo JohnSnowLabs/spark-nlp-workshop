{
 "cells": [
  {
   "cell_type": "markdown",
   "metadata": {
    "colab_type": "text",
    "id": "sXatvRX899i0"
   },
   "source": [
    "![JohnSnowLabs](https://nlp.johnsnowlabs.com/assets/images/logo.png)"
   ]
  },
  {
   "cell_type": "markdown",
   "metadata": {
    "colab_type": "text",
    "id": "C3UywhO6ykrV"
   },
   "source": [
    "\n",
    "\n",
    "[![Open In Colab](https://colab.research.google.com/assets/colab-badge.svg)](https://colab.research.google.com/github/JohnSnowLabs/spark-nlp-workshop/blob/master/tutorials/Certification_Trainings/Public/5.1_Text_classification_examples_in_SparkML_SparkNLP.ipynb)"
   ]
  },
  {
   "cell_type": "markdown",
   "metadata": {
    "colab_type": "text",
    "id": "034_KMGM9mc_"
   },
   "source": [
    "# Text Classification with Spark NLP"
   ]
  },
  {
   "cell_type": "code",
   "execution_count": null,
   "metadata": {
    "colab": {},
    "colab_type": "code",
    "id": "Pihatz2EIPPM"
   },
   "outputs": [],
   "source": [
    "import os\n",
    "import sys\n",
    "\n",
    "from pyspark.sql import SparkSession\n",
    "from pyspark.ml import Pipeline\n",
    "\n",
    "from sparknlp.annotator import *\n",
    "from sparknlp.common import *\n",
    "from sparknlp.base import *\n",
    "\n",
    "import pandas as pd\n"
   ]
  },
  {
   "cell_type": "code",
   "execution_count": null,
   "metadata": {
    "colab": {},
    "colab_type": "code",
    "id": "-lNrhGDbIPPP"
   },
   "outputs": [],
   "source": [
    "\n",
    "import sparknlp\n",
    "spark = sparknlp.start()\n",
    "\n",
    "print(\"Spark NLP version: \", sparknlp.version())\n",
    "print(\"Apache Spark version: \", spark.version)"
   ]
  },
  {
   "cell_type": "code",
   "execution_count": null,
   "metadata": {
    "colab": {},
    "colab_type": "code",
    "id": "IawvXkLGIPPS"
   },
   "outputs": [],
   "source": [
    "! wget https://raw.githubusercontent.com/JohnSnowLabs/spark-nlp-workshop/master/tutorials/Certification_Trainings/Public/data/news_category_train.csv\n",
    "! wget https://raw.githubusercontent.com/JohnSnowLabs/spark-nlp-workshop/master/tutorials/Certification_Trainings/Public/data/news_category_test.csv"
   ]
  },
  {
   "cell_type": "code",
   "execution_count": null,
   "metadata": {
    "colab": {},
    "colab_type": "code",
    "id": "1GkCjlO9IPPh"
   },
   "outputs": [],
   "source": [
    "# newsDF = spark.read.parquet(\"data/news_category.parquet\") >> if it is a parquet\n",
    "\n",
    "newsDF = spark.read \\\n",
    "      .option(\"header\", True) \\\n",
    "      .csv(\"news_category_train.csv\")\n",
    "\n",
    "newsDF.show(truncate=50)"
   ]
  },
  {
   "cell_type": "code",
   "execution_count": null,
   "metadata": {
    "colab": {},
    "colab_type": "code",
    "id": "Rd8rKZEcIPPl",
    "outputId": "2e398ee3-cb47-4b9a-9d66-8ec3d2494f4b"
   },
   "outputs": [
    {
     "name": "stdout",
     "output_type": "stream",
     "text": [
      "+--------+--------------------------------------------------+\n",
      "|category|                                       description|\n",
      "+--------+--------------------------------------------------+\n",
      "|   World|Srinagar, Nov 6 (UNI) Two militants and a Borde...|\n",
      "|   World|France's president orders his forces to destroy...|\n",
      "|   World|President  Bush says he will reach out to allie...|\n",
      "|   World|Established Shiite parties and powerful upstart...|\n",
      "|   World|While Democrats placed their emphasis on the st...|\n",
      "|Sci/Tech|Rural and deprived communities worldwide are be...|\n",
      "|  Sports| Terrell Owens isn't the only once dancing in P...|\n",
      "|  Sports|\" Gov. Ed Rendell gets anxious watching contest...|\n",
      "|  Sports| A month after a hotel worker accused NBA star ...|\n",
      "|  Sports| No Diana Taurasi, no Alana Beard. Nicole Ohlde...|\n",
      "|   World| An upbeat President Bush set forth an aggressi...|\n",
      "|   World| Gay and lesbian advocates have been doing some...|\n",
      "|   World| Twenty three people died and three others were...|\n",
      "|Business|  Connecticut Attorney General Richard Blumenth...|\n",
      "|Sci/Tech|A new report on global warming #39;s impacts on...|\n",
      "|Sci/Tech|That Michael Siewert didn #39;t fit in at the r...|\n",
      "|Sci/Tech|Vice chairman of the office of the chief execut...|\n",
      "|Sci/Tech|It #39;s good to be good these days. Good Techn...|\n",
      "|  Sports|Jacques Santini #39;s shock resignation as Tott...|\n",
      "|  Sports|Chelsea have gone two points clear at the top o...|\n",
      "+--------+--------------------------------------------------+\n",
      "only showing top 20 rows\n",
      "\n"
     ]
    }
   ],
   "source": [
    "newsDF.show(truncate=50)"
   ]
  },
  {
   "cell_type": "code",
   "execution_count": null,
   "metadata": {
    "colab": {},
    "colab_type": "code",
    "id": "hjkkY5FTIPPp",
    "outputId": "07dd0f96-4e35-4090-c7e7-081236d62894"
   },
   "outputs": [
    {
     "data": {
      "text/plain": [
       "[Row(category='Business', description=\" Short sellers, Wall Street's dwindling band of ultra cynics, are seeing green again.\"),\n",
       " Row(category='Business', description=' Private investment firm Carlyle Group, which has a reputation for making well timed and occasionally controversial plays in the defense industry, has quietly placed its bets on another part of the market.')]"
      ]
     },
     "execution_count": 5,
     "metadata": {
      "tags": []
     },
     "output_type": "execute_result"
    }
   ],
   "source": [
    "newsDF.take(2)"
   ]
  },
  {
   "cell_type": "code",
   "execution_count": null,
   "metadata": {
    "colab": {},
    "colab_type": "code",
    "id": "Xsifu6-cIPPs",
    "outputId": "8902d1f4-33a6-4b69-a33b-b3201ba3cf1e"
   },
   "outputs": [
    {
     "name": "stdout",
     "output_type": "stream",
     "text": [
      "+--------+-----+\n",
      "|category|count|\n",
      "+--------+-----+\n",
      "|Business|30000|\n",
      "|  Sports|30000|\n",
      "|   World|30000|\n",
      "|Sci/Tech|30000|\n",
      "+--------+-----+\n",
      "\n"
     ]
    }
   ],
   "source": [
    "from pyspark.sql.functions import col\n",
    "\n",
    "newsDF.groupBy(\"category\") \\\n",
    "    .count() \\\n",
    "    .orderBy(col(\"count\").desc()) \\\n",
    "    .show()"
   ]
  },
  {
   "cell_type": "markdown",
   "metadata": {
    "colab_type": "text",
    "id": "iHn5crTvIPPv"
   },
   "source": [
    "## Building Classification Pipeline"
   ]
  },
  {
   "cell_type": "markdown",
   "metadata": {
    "colab_type": "text",
    "id": "G8zK3RByIPPw"
   },
   "source": [
    "### LogReg with CountVectorizer"
   ]
  },
  {
   "cell_type": "markdown",
   "metadata": {
    "colab_type": "text",
    "id": "AM7esk5yIPPx"
   },
   "source": [
    "Tokenizer: Tokenization \n",
    "\n",
    "stopwordsRemover: Remove Stop Words\n",
    "\n",
    "countVectors: Count vectors (“document-term vectors”)"
   ]
  },
  {
   "cell_type": "code",
   "execution_count": null,
   "metadata": {
    "colab": {},
    "colab_type": "code",
    "id": "qbrPTtZpIPPx"
   },
   "outputs": [],
   "source": [
    "from pyspark.ml.feature import CountVectorizer, HashingTF, IDF, OneHotEncoder, StringIndexer, VectorAssembler, SQLTransformer\n"
   ]
  },
  {
   "cell_type": "code",
   "execution_count": null,
   "metadata": {
    "colab": {},
    "colab_type": "code",
    "id": "dL-SK95DIPP1",
    "outputId": "363d75fb-d5f0-4ba2-d551-875119d73bfb"
   },
   "outputs": [
    {
     "name": "stdout",
     "output_type": "stream",
     "text": [
      "CPU times: user 145 ms, sys: 32.8 ms, total: 178 ms\n",
      "Wall time: 19 s\n"
     ]
    },
    {
     "data": {
      "text/plain": [
       "120000"
      ]
     },
     "execution_count": 12,
     "metadata": {
      "tags": []
     },
     "output_type": "execute_result"
    }
   ],
   "source": [
    "%%time\n",
    "\n",
    "document_assembler = DocumentAssembler() \\\n",
    "    .setInputCol(\"description\") \\\n",
    "    .setOutputCol(\"document\")\n",
    "    \n",
    "tokenizer = Tokenizer() \\\n",
    "  .setInputCols([\"document\"]) \\\n",
    "  .setOutputCol(\"token\")\n",
    "    \n",
    "normalizer = Normalizer() \\\n",
    "    .setInputCols([\"token\"]) \\\n",
    "    .setOutputCol(\"normalized\")\n",
    "\n",
    "stopwords_cleaner = StopWordsCleaner()\\\n",
    "      .setInputCols(\"normalized\")\\\n",
    "      .setOutputCol(\"cleanTokens\")\\\n",
    "      .setCaseSensitive(False)\n",
    "\n",
    "stemmer = Stemmer() \\\n",
    "    .setInputCols([\"cleanTokens\"]) \\\n",
    "    .setOutputCol(\"stem\")\n",
    "\n",
    "finisher = Finisher() \\\n",
    "    .setInputCols([\"stem\"]) \\\n",
    "    .setOutputCols([\"token_features\"]) \\\n",
    "    .setOutputAsArray(True) \\\n",
    "    .setCleanAnnotations(False)\n",
    "\n",
    "countVectors = CountVectorizer(inputCol=\"token_features\", outputCol=\"features\", vocabSize=10000, minDF=5)\n",
    "\n",
    "label_stringIdx = StringIndexer(inputCol = \"category\", outputCol = \"label\")\n",
    "\n",
    "nlp_pipeline = Pipeline(\n",
    "    stages=[document_assembler, \n",
    "            tokenizer,\n",
    "            normalizer,\n",
    "            stopwords_cleaner, \n",
    "            stemmer, \n",
    "            finisher,\n",
    "           countVectors,\n",
    "           label_stringIdx])\n",
    "\n",
    "nlp_model = nlp_pipeline.fit(newsDF)\n",
    "\n",
    "processed = nlp_model.transform(newsDF)\n",
    "\n",
    "processed.count()"
   ]
  },
  {
   "cell_type": "code",
   "execution_count": null,
   "metadata": {
    "colab": {},
    "colab_type": "code",
    "id": "YEtzQbNwIPP4",
    "outputId": "a71d2e80-d0d2-48a1-8d20-b48b94741ebc"
   },
   "outputs": [
    {
     "name": "stdout",
     "output_type": "stream",
     "text": [
      "+--------------------------------------------------+--------------------------------------------------+\n",
      "|                                       description|                                    token_features|\n",
      "+--------------------------------------------------+--------------------------------------------------+\n",
      "| Short sellers, Wall Street's dwindling band of...|[short, seller, wall, street, dwindl, band, ult...|\n",
      "| Private investment firm Carlyle Group, which h...|[privat, invest, firm, carlyl, group, reput, ma...|\n",
      "| Soaring crude prices plus worries about the ec...|[soar, crude, price, plu, worri, economi, outlo...|\n",
      "| Authorities have halted oil export flows from ...|[author, halt, oil, export, flow, main, pipelin...|\n",
      "| Tearaway world oil prices, toppling records an...|[tearawai, world, oil, price, toppl, record, st...|\n",
      "| Stocks ended slightly higher on Friday but sta...|[stock, end, slightli, higher, fridai, staye, n...|\n",
      "| Assets of the nation's retail money market mut...|[asset, nation, retail, monei, market, mutual, ...|\n",
      "| Retail sales bounced back a bit in July, and n...|[retail, sale, bounc, back, bit, juli, new, cla...|\n",
      "|\" After earning a PH.D. in Sociology, Danny Baz...|[earn, phd, sociologi, danni, bazil, rilei, sta...|\n",
      "| Short sellers, Wall Street's dwindling  band o...|[short, seller, wall, street, dwindl, band, ult...|\n",
      "| Soaring crude prices plus worries  about the e...|[soar, crude, price, plu, worri, economi, outlo...|\n",
      "| OPEC can do nothing to douse scorching  oil pr...|[opec, noth, dous, scorch, oil, price, market, ...|\n",
      "| Non OPEC oil exporters should consider  increa...|[non, opec, oil, export, consid, increas, outpu...|\n",
      "| WASHINGTON/NEW YORK (Reuters) - The auction fo...|[washingtonnew, york, reuter, auction, googl, i...|\n",
      "| The dollar tumbled broadly on Friday  after da...|[dollar, tumbl, broadli, fridai, data, showe, r...|\n",
      "|If you think you may need to help your elderly ...|[think, mai, ne, help, elderli, rel, financ, do...|\n",
      "|The purchasing power of kids is a big part of w...|[purchas, power, kid, big, part, backtoschool, ...|\n",
      "|There is little cause for celebration in the st...|[littl, caus, celebr, stock, market, dai, inves...|\n",
      "|The US trade deficit has exploded 19 to a recor...|[u, trade, deficit, explod, record, bn, oil, co...|\n",
      "|Oil giant Shell could be bracing itself for a t...|[oil, giant, shell, brace, takeov, attempt, pos...|\n",
      "+--------------------------------------------------+--------------------------------------------------+\n",
      "only showing top 20 rows\n",
      "\n"
     ]
    }
   ],
   "source": [
    "processed.select('description','token_features').show(truncate=50)"
   ]
  },
  {
   "cell_type": "code",
   "execution_count": null,
   "metadata": {
    "colab": {},
    "colab_type": "code",
    "id": "Mq7tQ_vsIPP7",
    "outputId": "f866e415-1ed5-446a-ef1e-42c342eca3dc"
   },
   "outputs": [
    {
     "data": {
      "text/plain": [
       "[Row(token_features=['short', 'seller', 'wall', 'street', 'dwindl', 'band', 'ultra', 'cynic', 'see', 'green']),\n",
       " Row(token_features=['privat', 'invest', 'firm', 'carlyl', 'group', 'reput', 'make', 'well', 'time', 'occasion', 'controversi', 'plai', 'defens', 'industri', 'quietli', 'place', 'bet', 'anoth', 'part', 'market'])]"
      ]
     },
     "execution_count": 22,
     "metadata": {
      "tags": []
     },
     "output_type": "execute_result"
    }
   ],
   "source": [
    "processed.select('token_features').take(2)"
   ]
  },
  {
   "cell_type": "code",
   "execution_count": null,
   "metadata": {
    "colab": {},
    "colab_type": "code",
    "id": "5R98lqSgIPP_",
    "outputId": "ae91f4f3-4cff-4d14-bb0c-0d7995a8945d"
   },
   "outputs": [
    {
     "data": {
      "text/plain": [
       "[Row(features=SparseVector(10000, {241: 1.0, 384: 1.0, 467: 1.0, 744: 1.0, 837: 1.0, 2230: 1.0, 3677: 1.0, 6130: 1.0, 6283: 1.0})),\n",
       " Row(features=SparseVector(10000, {26: 1.0, 38: 1.0, 46: 1.0, 68: 1.0, 117: 1.0, 155: 1.0, 182: 1.0, 197: 1.0, 245: 1.0, 304: 1.0, 320: 1.0, 407: 1.0, 428: 1.0, 621: 1.0, 867: 1.0, 2364: 1.0, 2835: 1.0, 2861: 1.0, 6849: 1.0}))]"
      ]
     },
     "execution_count": 23,
     "metadata": {
      "tags": []
     },
     "output_type": "execute_result"
    }
   ],
   "source": [
    "processed.select('features').take(2)"
   ]
  },
  {
   "cell_type": "code",
   "execution_count": null,
   "metadata": {
    "colab": {},
    "colab_type": "code",
    "id": "xfnlWafuIPQC",
    "outputId": "b75e07e9-fd42-4b01-98a8-e22991728a14"
   },
   "outputs": [
    {
     "name": "stdout",
     "output_type": "stream",
     "text": [
      "+--------------------+--------------------+-----+\n",
      "|         description|            features|label|\n",
      "+--------------------+--------------------+-----+\n",
      "| Short sellers, W...|(10000,[241,384,4...|  0.0|\n",
      "| Private investme...|(10000,[26,38,46,...|  0.0|\n",
      "| Soaring crude pr...|(10000,[15,28,46,...|  0.0|\n",
      "| Authorities have...|(10000,[0,32,35,4...|  0.0|\n",
      "| Tearaway world o...|(10000,[1,2,11,28...|  0.0|\n",
      "| Stocks ended sli...|(10000,[3,13,14,2...|  0.0|\n",
      "| Assets of the na...|(10000,[0,4,10,15...|  0.0|\n",
      "| Retail sales bou...|(10000,[0,1,10,15...|  0.0|\n",
      "|\" After earning a...|(10000,[98,99,125...|  0.0|\n",
      "| Short sellers, W...|(10000,[241,384,4...|  0.0|\n",
      "| Soaring crude pr...|(10000,[15,28,46,...|  0.0|\n",
      "| OPEC can do noth...|(10000,[0,24,28,2...|  0.0|\n",
      "| Non OPEC oil exp...|(10000,[0,21,28,3...|  0.0|\n",
      "| WASHINGTON/NEW Y...|(10000,[2,4,13,14...|  0.0|\n",
      "| The dollar tumbl...|(10000,[2,14,72,1...|  0.0|\n",
      "|If you think you ...|(10000,[74,77,143...|  0.0|\n",
      "|The purchasing po...|(10000,[46,54,167...|  0.0|\n",
      "|There is little c...|(10000,[29,46,75,...|  0.0|\n",
      "|The US trade defi...|(10000,[2,32,72,1...|  0.0|\n",
      "|Oil giant Shell c...|(10000,[16,32,103...|  0.0|\n",
      "+--------------------+--------------------+-----+\n",
      "only showing top 20 rows\n",
      "\n"
     ]
    }
   ],
   "source": [
    "processed.select('description','features','label').show()"
   ]
  },
  {
   "cell_type": "code",
   "execution_count": null,
   "metadata": {
    "colab": {},
    "colab_type": "code",
    "id": "LQwMyjUdIPQF",
    "outputId": "5b65a0f0-1240-4e40-a7c9-62d9e7c90008"
   },
   "outputs": [
    {
     "name": "stdout",
     "output_type": "stream",
     "text": [
      "Training Dataset Count: 84076\n",
      "Test Dataset Count: 35924\n"
     ]
    }
   ],
   "source": [
    "# set seed for reproducibility\n",
    "(trainingData, testData) = processed.randomSplit([0.7, 0.3], seed = 100)\n",
    "print(\"Training Dataset Count: \" + str(trainingData.count()))\n",
    "print(\"Test Dataset Count: \" + str(testData.count()))"
   ]
  },
  {
   "cell_type": "code",
   "execution_count": null,
   "metadata": {
    "colab": {},
    "colab_type": "code",
    "id": "cq30cb17IPQH",
    "outputId": "32949661-69f9-41bd-e256-0d6ab8c9ac6e"
   },
   "outputs": [
    {
     "name": "stdout",
     "output_type": "stream",
     "text": [
      "root\n",
      " |-- category: string (nullable = true)\n",
      " |-- description: string (nullable = true)\n",
      " |-- document: array (nullable = true)\n",
      " |    |-- element: struct (containsNull = true)\n",
      " |    |    |-- annotatorType: string (nullable = true)\n",
      " |    |    |-- begin: integer (nullable = false)\n",
      " |    |    |-- end: integer (nullable = false)\n",
      " |    |    |-- result: string (nullable = true)\n",
      " |    |    |-- metadata: map (nullable = true)\n",
      " |    |    |    |-- key: string\n",
      " |    |    |    |-- value: string (valueContainsNull = true)\n",
      " |    |    |-- embeddings: array (nullable = true)\n",
      " |    |    |    |-- element: float (containsNull = false)\n",
      " |-- token: array (nullable = true)\n",
      " |    |-- element: struct (containsNull = true)\n",
      " |    |    |-- annotatorType: string (nullable = true)\n",
      " |    |    |-- begin: integer (nullable = false)\n",
      " |    |    |-- end: integer (nullable = false)\n",
      " |    |    |-- result: string (nullable = true)\n",
      " |    |    |-- metadata: map (nullable = true)\n",
      " |    |    |    |-- key: string\n",
      " |    |    |    |-- value: string (valueContainsNull = true)\n",
      " |    |    |-- embeddings: array (nullable = true)\n",
      " |    |    |    |-- element: float (containsNull = false)\n",
      " |-- normalized: array (nullable = true)\n",
      " |    |-- element: struct (containsNull = true)\n",
      " |    |    |-- annotatorType: string (nullable = true)\n",
      " |    |    |-- begin: integer (nullable = false)\n",
      " |    |    |-- end: integer (nullable = false)\n",
      " |    |    |-- result: string (nullable = true)\n",
      " |    |    |-- metadata: map (nullable = true)\n",
      " |    |    |    |-- key: string\n",
      " |    |    |    |-- value: string (valueContainsNull = true)\n",
      " |    |    |-- embeddings: array (nullable = true)\n",
      " |    |    |    |-- element: float (containsNull = false)\n",
      " |-- cleanTokens: array (nullable = true)\n",
      " |    |-- element: struct (containsNull = true)\n",
      " |    |    |-- annotatorType: string (nullable = true)\n",
      " |    |    |-- begin: integer (nullable = false)\n",
      " |    |    |-- end: integer (nullable = false)\n",
      " |    |    |-- result: string (nullable = true)\n",
      " |    |    |-- metadata: map (nullable = true)\n",
      " |    |    |    |-- key: string\n",
      " |    |    |    |-- value: string (valueContainsNull = true)\n",
      " |    |    |-- embeddings: array (nullable = true)\n",
      " |    |    |    |-- element: float (containsNull = false)\n",
      " |-- stem: array (nullable = true)\n",
      " |    |-- element: struct (containsNull = true)\n",
      " |    |    |-- annotatorType: string (nullable = true)\n",
      " |    |    |-- begin: integer (nullable = false)\n",
      " |    |    |-- end: integer (nullable = false)\n",
      " |    |    |-- result: string (nullable = true)\n",
      " |    |    |-- metadata: map (nullable = true)\n",
      " |    |    |    |-- key: string\n",
      " |    |    |    |-- value: string (valueContainsNull = true)\n",
      " |    |    |-- embeddings: array (nullable = true)\n",
      " |    |    |    |-- element: float (containsNull = false)\n",
      " |-- token_features: array (nullable = true)\n",
      " |    |-- element: string (containsNull = true)\n",
      " |-- features: vector (nullable = true)\n",
      " |-- label: double (nullable = false)\n",
      "\n"
     ]
    }
   ],
   "source": [
    "trainingData.printSchema()"
   ]
  },
  {
   "cell_type": "code",
   "execution_count": null,
   "metadata": {
    "colab": {},
    "colab_type": "code",
    "id": "L1LRyPzWIPQK",
    "outputId": "adf7c9c6-18ed-4dc5-dcf2-1027f05738cc"
   },
   "outputs": [
    {
     "name": "stdout",
     "output_type": "stream",
     "text": [
      "+------------------------------+--------+------------------------------+-----+----------+\n",
      "|                   description|category|                   probability|label|prediction|\n",
      "+------------------------------+--------+------------------------------+-----+----------+\n",
      "|  Sean Harrigan was ousted ...|   World|[0.9999051949476987,1.63436...|  2.0|       0.0|\n",
      "|\" U.S. stocks were slightly...|Business|[0.9995755945659964,1.58573...|  0.0|       0.0|\n",
      "|\" Financial services regula...|Business|[0.9985004285450796,5.81732...|  0.0|       0.0|\n",
      "|Attorney General Thomas F. ...|Business|[0.9982656121521135,6.00818...|  0.0|       0.0|\n",
      "|\" U.S. blue chips declined ...|Business|[0.9976974351003786,9.61589...|  0.0|       0.0|\n",
      "|   A federal judge approved...|   World|[0.9976493450596536,0.00193...|  2.0|       0.0|\n",
      "|\" Stocks were little change...|Business|[0.9974858308723592,0.00143...|  0.0|       0.0|\n",
      "| Consumer prices rose by a ...|   World|[0.9952234500731161,0.00124...|  2.0|       0.0|\n",
      "|\" Stocks slipped on Tuesday...|Business|[0.9947339606851704,0.00163...|  0.0|       0.0|\n",
      "|Banknorth Group's largest s...|Business|[0.99451977831172,0.0032472...|  0.0|       0.0|\n",
      "+------------------------------+--------+------------------------------+-----+----------+\n",
      "only showing top 10 rows\n",
      "\n"
     ]
    }
   ],
   "source": [
    "from pyspark.ml.classification import LogisticRegression\n",
    "\n",
    "lr = LogisticRegression(maxIter=10, regParam=0.3, elasticNetParam=0)\n",
    "\n",
    "lrModel = lr.fit(trainingData)\n",
    "\n",
    "predictions = lrModel.transform(testData)\n",
    "\n",
    "predictions.filter(predictions['prediction'] == 0) \\\n",
    "    .select(\"description\",\"category\",\"probability\",\"label\",\"prediction\") \\\n",
    "    .orderBy(\"probability\", ascending=False) \\\n",
    "    .show(n = 10, truncate = 30)\n"
   ]
  },
  {
   "cell_type": "code",
   "execution_count": null,
   "metadata": {
    "colab": {},
    "colab_type": "code",
    "id": "gPRKc6_1IPQO",
    "outputId": "17fd31ea-4c1d-438d-9bf6-d7e461899427"
   },
   "outputs": [
    {
     "data": {
      "text/plain": [
       "0.8991035336378451"
      ]
     },
     "execution_count": 31,
     "metadata": {
      "tags": []
     },
     "output_type": "execute_result"
    }
   ],
   "source": [
    "from pyspark.ml.evaluation import MulticlassClassificationEvaluator\n",
    "\n",
    "evaluator = MulticlassClassificationEvaluator(predictionCol=\"prediction\")\n",
    "\n",
    "evaluator.evaluate(predictions)"
   ]
  },
  {
   "cell_type": "code",
   "execution_count": null,
   "metadata": {
    "colab": {},
    "colab_type": "code",
    "id": "7rOj1_VXIPQQ"
   },
   "outputs": [],
   "source": [
    "from sklearn.metrics import confusion_matrix, classification_report, accuracy_score\n",
    "y_true = predictions_tf.select(\"label\")\n",
    "y_true = y_true.toPandas()\n",
    "\n",
    "y_pred = predictions_tf.select(\"prediction\")\n",
    "y_pred = y_pred.toPandas()\n"
   ]
  },
  {
   "cell_type": "code",
   "execution_count": null,
   "metadata": {
    "colab": {},
    "colab_type": "code",
    "id": "XEgXvy9KIPQT",
    "outputId": "b30f3930-b5b7-495a-e7d5-10f5999eca5c"
   },
   "outputs": [
    {
     "data": {
      "text/plain": [
       "3.0    9254\n",
       "1.0    9196\n",
       "0.0    8875\n",
       "2.0    8599\n",
       "Name: prediction, dtype: int64"
      ]
     },
     "execution_count": 47,
     "metadata": {
      "tags": []
     },
     "output_type": "execute_result"
    }
   ],
   "source": [
    "y_pred.prediction.value_counts()"
   ]
  },
  {
   "cell_type": "code",
   "execution_count": null,
   "metadata": {
    "colab": {},
    "colab_type": "code",
    "id": "0AHRzWCZIPQW",
    "outputId": "5c2d3026-513c-4fa5-e211-af537819a221"
   },
   "outputs": [
    {
     "data": {
      "text/plain": [
       "array([[7692,  864,  269,   90],\n",
       "       [ 675, 7933,  301,  110],\n",
       "       [ 453,  325, 7918,  292],\n",
       "       [  55,   74,  111, 8762]])"
      ]
     },
     "execution_count": 49,
     "metadata": {
      "tags": []
     },
     "output_type": "execute_result"
    }
   ],
   "source": [
    "cnf_matrix = confusion_matrix(list(y_true.label.astype(int)), list(y_pred.prediction.astype(int)))\n",
    "cnf_matrix"
   ]
  },
  {
   "cell_type": "code",
   "execution_count": null,
   "metadata": {
    "colab": {},
    "colab_type": "code",
    "id": "cTNup21PIPQZ",
    "outputId": "17f8393b-9473-4d5d-81f9-fe2758f35439"
   },
   "outputs": [
    {
     "name": "stdout",
     "output_type": "stream",
     "text": [
      "              precision    recall  f1-score   support\n",
      "\n",
      "           0       0.87      0.86      0.86      8915\n",
      "           1       0.86      0.88      0.87      9019\n",
      "           2       0.92      0.88      0.90      8988\n",
      "           3       0.95      0.97      0.96      9002\n",
      "\n",
      "    accuracy                           0.90     35924\n",
      "   macro avg       0.90      0.90      0.90     35924\n",
      "weighted avg       0.90      0.90      0.90     35924\n",
      "\n",
      "0.8992595479345284\n"
     ]
    }
   ],
   "source": [
    "\n",
    "print(classification_report(y_true.label, y_pred.prediction))\n",
    "print(accuracy_score(y_true.label, y_pred.prediction))"
   ]
  },
  {
   "cell_type": "markdown",
   "metadata": {
    "colab_type": "text",
    "id": "PSSB-ZHJIPQb"
   },
   "source": [
    "### LogReg with TFIDF"
   ]
  },
  {
   "cell_type": "code",
   "execution_count": null,
   "metadata": {
    "colab": {},
    "colab_type": "code",
    "id": "mmWR-GnOIPQc",
    "outputId": "69207ef1-7c82-4669-9553-cb3bc8ad851d"
   },
   "outputs": [
    {
     "data": {
      "text/plain": [
       "120000"
      ]
     },
     "execution_count": 60,
     "metadata": {
      "tags": []
     },
     "output_type": "execute_result"
    }
   ],
   "source": [
    "from pyspark.ml.feature import HashingTF, IDF\n",
    "\n",
    "hashingTF = HashingTF(inputCol=\"token_features\", outputCol=\"rawFeatures\", numFeatures=10000)\n",
    "\n",
    "idf = IDF(inputCol=\"rawFeatures\", outputCol=\"features\", minDocFreq=5) #minDocFreq: remove sparse terms\n",
    "\n",
    "nlp_pipeline_tf = Pipeline(\n",
    "    stages=[document_assembler, \n",
    "            tokenizer,\n",
    "            normalizer,\n",
    "            stopwords_cleaner, \n",
    "            stemmer, \n",
    "            finisher,\n",
    "            hashingTF,\n",
    "           idf,\n",
    "           label_stringIdx])\n",
    "\n",
    "nlp_model_tf = nlp_pipeline_tf.fit(newsDF)\n",
    "\n",
    "processed_tf = nlp_model_tf.transform(newsDF)\n",
    "\n",
    "processed_tf.count()\n"
   ]
  },
  {
   "cell_type": "code",
   "execution_count": null,
   "metadata": {
    "colab": {},
    "colab_type": "code",
    "id": "4RHs0RjOIPQe",
    "outputId": "8c933f12-b19e-4e1a-b87a-dcfab9facb30"
   },
   "outputs": [
    {
     "name": "stdout",
     "output_type": "stream",
     "text": [
      "+--------------------+--------------------+-----+\n",
      "|         description|            features|label|\n",
      "+--------------------+--------------------+-----+\n",
      "| Short sellers, W...|(10000,[25,625,66...|  0.0|\n",
      "| Private investme...|(10000,[82,111,15...|  0.0|\n",
      "| Soaring crude pr...|(10000,[410,1097,...|  0.0|\n",
      "| Authorities have...|(10000,[1611,1637...|  0.0|\n",
      "| Tearaway world o...|(10000,[1150,1427...|  0.0|\n",
      "| Stocks ended sli...|(10000,[332,410,6...|  0.0|\n",
      "| Assets of the na...|(10000,[1442,1788...|  0.0|\n",
      "| Retail sales bou...|(10000,[25,117,97...|  0.0|\n",
      "|\" After earning a...|(10000,[114,643,7...|  0.0|\n",
      "| Short sellers, W...|(10000,[25,625,66...|  0.0|\n",
      "| Soaring crude pr...|(10000,[410,1097,...|  0.0|\n",
      "| OPEC can do noth...|(10000,[616,904,1...|  0.0|\n",
      "| Non OPEC oil exp...|(10000,[616,2224,...|  0.0|\n",
      "| WASHINGTON/NEW Y...|(10000,[351,360,3...|  0.0|\n",
      "| The dollar tumbl...|(10000,[359,456,9...|  0.0|\n",
      "|If you think you ...|(10000,[1041,1564...|  0.0|\n",
      "|The purchasing po...|(10000,[2198,4091...|  0.0|\n",
      "|There is little c...|(10000,[410,432,5...|  0.0|\n",
      "|The US trade defi...|(10000,[332,2286,...|  0.0|\n",
      "|Oil giant Shell c...|(10000,[463,868,2...|  0.0|\n",
      "+--------------------+--------------------+-----+\n",
      "only showing top 20 rows\n",
      "\n"
     ]
    }
   ],
   "source": [
    "# set seed for reproducibility\n",
    "processed_tf.select('description','features','label').show()"
   ]
  },
  {
   "cell_type": "code",
   "execution_count": null,
   "metadata": {
    "colab": {},
    "colab_type": "code",
    "id": "UHewYwjbIPQg",
    "outputId": "cf7ea57b-b982-4bdc-e973-4672851eee7a"
   },
   "outputs": [
    {
     "name": "stdout",
     "output_type": "stream",
     "text": [
      "Training Dataset Count: 84076\n",
      "Test Dataset Count: 35924\n"
     ]
    }
   ],
   "source": [
    "\n",
    "(trainingData, testData) = processed_tf.randomSplit([0.7, 0.3], seed = 100)\n",
    "print(\"Training Dataset Count: \" + str(trainingData.count()))\n",
    "print(\"Test Dataset Count: \" + str(testData.count()))"
   ]
  },
  {
   "cell_type": "code",
   "execution_count": null,
   "metadata": {
    "colab": {},
    "colab_type": "code",
    "id": "HcCnp1PrIPQj",
    "outputId": "57429753-3fb4-4bb7-974b-0bf540540b0e"
   },
   "outputs": [
    {
     "name": "stdout",
     "output_type": "stream",
     "text": [
      "+------------------------------+--------+------------------------------+-----+----------+\n",
      "|                   description|category|                   probability|label|prediction|\n",
      "+------------------------------+--------+------------------------------+-----+----------+\n",
      "|\" U.S. stocks were slightly...|Business|[0.996387898390177,0.001153...|  0.0|       0.0|\n",
      "|   A federal judge approved...|   World|[0.995561655194328,0.002267...|  2.0|       0.0|\n",
      "| Disappointing retail sales...|   World|[0.994511777283951,0.002542...|  2.0|       0.0|\n",
      "|\" Financial services regula...|Business|[0.9933079442733128,0.00309...|  0.0|       0.0|\n",
      "|Marsh  amp; McLennan Cos. ,...|Business|[0.9932418919849173,0.00258...|  0.0|       0.0|\n",
      "|  Sean Harrigan was ousted ...|   World|[0.9927684868502167,0.00212...|  2.0|       0.0|\n",
      "|Banknorth Group's largest s...|Business|[0.9925446790520405,0.00361...|  0.0|       0.0|\n",
      "| The dollar rose slightly i...|Business|[0.9921019348676328,0.00294...|  0.0|       0.0|\n",
      "|US aerospace giant Boeing C...|Business|[0.9917729172635953,0.00388...|  0.0|       0.0|\n",
      "| This year's surge in energ...|   World|[0.9897265806198398,0.00447...|  2.0|       0.0|\n",
      "+------------------------------+--------+------------------------------+-----+----------+\n",
      "only showing top 10 rows\n",
      "\n"
     ]
    }
   ],
   "source": [
    "lrModel_tf = lr.fit(trainingData)\n",
    "\n",
    "predictions_tf = lrModel_tf.transform(testData)\n",
    "\n",
    "predictions_tf.select(\"description\",\"category\",\"probability\",\"label\",\"prediction\") \\\n",
    "    .orderBy(\"probability\", ascending=False) \\\n",
    "    .show(n = 10, truncate = 30)\n"
   ]
  },
  {
   "cell_type": "code",
   "execution_count": null,
   "metadata": {
    "colab": {},
    "colab_type": "code",
    "id": "j8EH6P4-IPQm",
    "outputId": "b27962c1-e94e-4720-e795-7a9a4850bf81"
   },
   "outputs": [
    {
     "name": "stdout",
     "output_type": "stream",
     "text": [
      "              precision    recall  f1-score   support\n",
      "\n",
      "           0       0.86      0.85      0.85      8915\n",
      "           1       0.85      0.86      0.86      9019\n",
      "           2       0.91      0.87      0.89      8988\n",
      "           3       0.93      0.96      0.95      9002\n",
      "\n",
      "    accuracy                           0.89     35924\n",
      "   macro avg       0.89      0.89      0.89     35924\n",
      "weighted avg       0.89      0.89      0.89     35924\n",
      "\n",
      "0.8865939204988309\n"
     ]
    }
   ],
   "source": [
    "y_true = predictions_tf.select(\"label\")\n",
    "y_true = y_true.toPandas()\n",
    "\n",
    "y_pred = predictions_tf.select(\"prediction\")\n",
    "y_pred = y_pred.toPandas()\n",
    "\n",
    "print(classification_report(y_true.label, y_pred.prediction))\n",
    "print(accuracy_score(y_true.label, y_pred.prediction))"
   ]
  },
  {
   "cell_type": "markdown",
   "metadata": {
    "colab_type": "text",
    "id": "6bdwtu_9IPQp"
   },
   "source": [
    "### Random Forest with TFIDF"
   ]
  },
  {
   "cell_type": "code",
   "execution_count": null,
   "metadata": {
    "colab": {},
    "colab_type": "code",
    "id": "ILNZ4-vPIPQp"
   },
   "outputs": [],
   "source": [
    "from pyspark.ml.classification import RandomForestClassifier\n",
    "\n",
    "rf = RandomForestClassifier(labelCol=\"label\", \\\n",
    "                            featuresCol=\"features\", \\\n",
    "                            numTrees = 100, \\\n",
    "                            maxDepth = 4, \\\n",
    "                            maxBins = 32)\n",
    "\n",
    "# Train model with Training Data\n",
    "rfModel = rf.fit(trainingData)\n",
    "predictions_rf = rfModel.transform(testData)\n"
   ]
  },
  {
   "cell_type": "code",
   "execution_count": null,
   "metadata": {
    "colab": {},
    "colab_type": "code",
    "id": "pY9EQY1tIPQr",
    "outputId": "690c311c-00f9-45e8-a410-113452be1c7f"
   },
   "outputs": [
    {
     "name": "stdout",
     "output_type": "stream",
     "text": [
      "+------------------------------+--------+------------------------------+-----+----------+\n",
      "|                   description|category|                   probability|label|prediction|\n",
      "+------------------------------+--------+------------------------------+-----+----------+\n",
      "| Best Buy Co. Inc. , the to...|Business|[0.38911855182695426,0.2277...|  0.0|       0.0|\n",
      "| U.S. blue chip stocks fell...|Business|[0.3721192871952727,0.22265...|  0.0|       0.0|\n",
      "| Staples Inc. (SPLS.O), the...|Business|[0.3669125286881084,0.22854...|  0.0|       0.0|\n",
      "|United Parcel Service Inc. ...|Business|[0.36527694301773866,0.2392...|  0.0|       0.0|\n",
      "| Disappointing retail sales...|   World|[0.36394253389697,0.2290257...|  2.0|       0.0|\n",
      "|The Australian Gas Light Co...|Business|[0.3620963407047025,0.22832...|  0.0|       0.0|\n",
      "| Kroger Co. , the top U.S. ...|Business|[0.36201015346984633,0.2232...|  0.0|       0.0|\n",
      "| Texas Instruments Inc., th...|Business|[0.36191504725012813,0.2561...|  0.0|       0.0|\n",
      "| Cosmetics manufacturer Est...|Business|[0.36044002393541275,0.2340...|  0.0|       0.0|\n",
      "|JM Smucker Co. (SJM.N: Quot...|Business|[0.3590697042214115,0.23254...|  0.0|       0.0|\n",
      "+------------------------------+--------+------------------------------+-----+----------+\n",
      "only showing top 10 rows\n",
      "\n"
     ]
    }
   ],
   "source": [
    "\n",
    "predictions_rf.select(\"description\",\"category\",\"probability\",\"label\",\"prediction\") \\\n",
    "    .orderBy(\"probability\", ascending=False) \\\n",
    "    .show(n = 10, truncate = 30)"
   ]
  },
  {
   "cell_type": "code",
   "execution_count": null,
   "metadata": {
    "colab": {},
    "colab_type": "code",
    "id": "7_vXMkvuIPQu",
    "outputId": "477f6c67-2996-4491-a07a-be34b4590dc5"
   },
   "outputs": [
    {
     "name": "stdout",
     "output_type": "stream",
     "text": [
      "              precision    recall  f1-score   support\n",
      "\n",
      "         0.0       0.73      0.73      0.73      8915\n",
      "         1.0       0.79      0.61      0.69      9019\n",
      "         2.0       0.81      0.73      0.77      8988\n",
      "         3.0       0.69      0.92      0.79      9002\n",
      "\n",
      "    accuracy                           0.75     35924\n",
      "   macro avg       0.76      0.75      0.74     35924\n",
      "weighted avg       0.76      0.75      0.74     35924\n",
      "\n",
      "0.7454626433582007\n"
     ]
    }
   ],
   "source": [
    "y_true = predictions_rf.select(\"label\")\n",
    "y_true = y_true.toPandas()\n",
    "\n",
    "y_pred = predictions_rf.select(\"prediction\")\n",
    "y_pred = y_pred.toPandas()\n",
    "\n",
    "print(classification_report(y_true.label, y_pred.prediction))\n",
    "print(accuracy_score(y_true.label, y_pred.prediction))"
   ]
  },
  {
   "cell_type": "code",
   "execution_count": null,
   "metadata": {
    "colab": {},
    "colab_type": "code",
    "id": "kzoo98_nIPQx"
   },
   "outputs": [],
   "source": []
  },
  {
   "cell_type": "markdown",
   "metadata": {
    "colab_type": "text",
    "id": "z3tdY1_oIPQ0"
   },
   "source": [
    "## LogReg with Spark NLP Glove Word Embeddings"
   ]
  },
  {
   "cell_type": "code",
   "execution_count": null,
   "metadata": {
    "colab": {},
    "colab_type": "code",
    "id": "4GVKps1mIPQ0",
    "outputId": "194dcbf8-efe5-4c08-b87e-d3dd8eae8300"
   },
   "outputs": [
    {
     "name": "stdout",
     "output_type": "stream",
     "text": [
      "glove_100d download started this may take some time.\n",
      "Approximate size to download 145.3 MB\n",
      "[OK!]\n"
     ]
    },
    {
     "data": {
      "text/plain": [
       "120000"
      ]
     },
     "execution_count": 10,
     "metadata": {
      "tags": []
     },
     "output_type": "execute_result"
    }
   ],
   "source": [
    "document_assembler = DocumentAssembler() \\\n",
    "    .setInputCol(\"description\") \\\n",
    "    .setOutputCol(\"document\")\n",
    "    \n",
    "tokenizer = Tokenizer() \\\n",
    "  .setInputCols([\"document\"]) \\\n",
    "  .setOutputCol(\"token\")\n",
    "    \n",
    "normalizer = Normalizer() \\\n",
    "    .setInputCols([\"token\"]) \\\n",
    "    .setOutputCol(\"normalized\")\n",
    "\n",
    "stopwords_cleaner = StopWordsCleaner()\\\n",
    "      .setInputCols(\"normalized\")\\\n",
    "      .setOutputCol(\"cleanTokens\")\\\n",
    "      .setCaseSensitive(False)\n",
    "\n",
    "glove_embeddings = WordEmbeddingsModel().pretrained() \\\n",
    " .setInputCols([\"document\",'cleanTokens'])\\\n",
    " .setOutputCol(\"embeddings\")\\\n",
    " .setCaseSensitive(False)\n",
    "\n",
    "embeddingsSentence = SentenceEmbeddings() \\\n",
    "      .setInputCols([\"document\", \"embeddings\"]) \\\n",
    "      .setOutputCol(\"sentence_embeddings\") \\\n",
    "      .setPoolingStrategy(\"AVERAGE\")\n",
    "    \n",
    "embeddings_finisher = EmbeddingsFinisher() \\\n",
    "    .setInputCols([\"sentence_embeddings\"]) \\\n",
    "    .setOutputCols([\"finished_sentence_embeddings\"]) \\\n",
    "    .setOutputAsVector(True)\\\n",
    "    .setCleanAnnotations(False)\n",
    "\n",
    "explodeVectors = SQLTransformer(statement=\n",
    "      \"SELECT EXPLODE(finished_sentence_embeddings) AS features, * FROM __THIS__\")\n",
    "\n",
    "label_stringIdx = StringIndexer(inputCol = \"category\", outputCol = \"label\")\n",
    "\n",
    "\n",
    "nlp_pipeline_w2v = Pipeline(\n",
    "    stages=[document_assembler, \n",
    "            tokenizer,\n",
    "            normalizer,\n",
    "            stopwords_cleaner, \n",
    "            glove_embeddings,\n",
    "            embeddingsSentence,\n",
    "            embeddings_finisher,\n",
    "            explodeVectors,\n",
    "           label_stringIdx])\n",
    "\n",
    "nlp_model_w2v = nlp_pipeline_w2v.fit(newsDF)\n",
    "\n",
    "processed_w2v = nlp_model_w2v.transform(newsDF)\n",
    "\n",
    "processed_w2v.count()\n"
   ]
  },
  {
   "cell_type": "code",
   "execution_count": null,
   "metadata": {
    "colab": {},
    "colab_type": "code",
    "id": "RLVVHJEHIPQ3",
    "outputId": "8f6ecd7a-ab17-4bdd-e88a-a857164e734a"
   },
   "outputs": [
    {
     "data": {
      "text/plain": [
       "[Row(finished_embeddings=[\" Short sellers, Wall Street's dwindling band of ultra cynics, are seeing green again.\"])]"
      ]
     },
     "execution_count": 57,
     "metadata": {
      "tags": []
     },
     "output_type": "execute_result"
    }
   ],
   "source": [
    "processed_w2v.select('finished_embeddings').take(1)"
   ]
  },
  {
   "cell_type": "code",
   "execution_count": null,
   "metadata": {
    "colab": {},
    "colab_type": "code",
    "id": "eIqz6Pi6IPQ6",
    "outputId": "d933954c-ae37-46eb-a55b-ee68d8582165"
   },
   "outputs": [
    {
     "name": "stdout",
     "output_type": "stream",
     "text": [
      "+--------------------+\n",
      "| finished_embeddings|\n",
      "+--------------------+\n",
      "|[ Short sellers, ...|\n",
      "+--------------------+\n",
      "only showing top 1 row\n",
      "\n"
     ]
    }
   ],
   "source": [
    "processed_w2v.select(\"finished_embeddings\").show(1)"
   ]
  },
  {
   "cell_type": "code",
   "execution_count": null,
   "metadata": {
    "colab": {},
    "colab_type": "code",
    "id": "64DFF7JHIPQ9",
    "outputId": "28ab41ee-d522-4210-a4bf-d2a67792770d"
   },
   "outputs": [
    {
     "data": {
      "text/plain": [
       "[Row(finished_sentence_embeddings=[DenseVector([-0.3996, -0.1811, -0.0817, -0.1405, -0.1474, 0.3627, 0.022, 0.2872, -0.0373, 0.3018, 0.2693, -0.0109, 0.4497, 0.3508, 0.1056, 0.0195, -0.0367, -0.3834, -0.6125, 0.0647, 0.8026, -0.2711, 0.1414, 0.2475, -0.125, -0.0847, -0.0201, -0.091, 0.059, 0.0927, -0.0997, -0.0921, -0.0728, 0.0223, 0.2052, -0.3765, -0.0727, 0.166, 0.1965, 0.2817, -0.3694, 0.101, 0.4664, 0.1242, 0.3345, 0.1135, -0.1376, 0.1322, -0.1108, -0.0528, 0.0252, -0.0141, -0.0596, 0.7911, -0.1946, -1.0185, -0.1145, -0.2511, 1.0126, 0.4601, -0.1696, 0.3242, 0.016, 0.1296, 0.1604, 0.2689, 0.0643, -0.0202, 0.0389, 0.3999, -0.0188, -0.5588, -0.2263, -0.2904, 0.0528, 0.2262, 0.3411, 0.2108, -0.6014, 0.0235, 0.496, -0.1189, 0.0201, -0.0828, -0.3899, 0.0564, 0.1625, 0.2013, -0.0906, 0.2355, 0.2936, 0.1562, -0.2338, 0.0981, -0.6123, 0.4507, 0.1272, 0.2078, 0.0752, 0.061])])]"
      ]
     },
     "execution_count": 13,
     "metadata": {
      "tags": []
     },
     "output_type": "execute_result"
    }
   ],
   "source": [
    "processed_w2v.select('finished_sentence_embeddings').take(1)"
   ]
  },
  {
   "cell_type": "code",
   "execution_count": null,
   "metadata": {
    "colab": {},
    "colab_type": "code",
    "id": "0JRYsk0mIPQ_"
   },
   "outputs": [],
   "source": [
    "# IF SQLTransformer IS NOT USED INSIDE THE PIPELINE, WE CAN EXPLODE OUTSIDE\n",
    "from pyspark.sql.functions import explode\n",
    "\n",
    "# processed_w2v= processed_w2v.withColumn(\"features\", explode(processed_w2v.finished_sentence_embeddings))"
   ]
  },
  {
   "cell_type": "code",
   "execution_count": null,
   "metadata": {
    "colab": {},
    "colab_type": "code",
    "id": "ZWp3CA_kIPRB",
    "outputId": "c7b714fe-ff06-445c-840e-32419c1f4857"
   },
   "outputs": [
    {
     "data": {
      "text/plain": [
       "[Row(features=DenseVector([-0.3996, -0.1811, -0.0817, -0.1405, -0.1474, 0.3627, 0.022, 0.2872, -0.0373, 0.3018, 0.2693, -0.0109, 0.4497, 0.3508, 0.1056, 0.0195, -0.0367, -0.3834, -0.6125, 0.0647, 0.8026, -0.2711, 0.1414, 0.2475, -0.125, -0.0847, -0.0201, -0.091, 0.059, 0.0927, -0.0997, -0.0921, -0.0728, 0.0223, 0.2052, -0.3765, -0.0727, 0.166, 0.1965, 0.2817, -0.3694, 0.101, 0.4664, 0.1242, 0.3345, 0.1135, -0.1376, 0.1322, -0.1108, -0.0528, 0.0252, -0.0141, -0.0596, 0.7911, -0.1946, -1.0185, -0.1145, -0.2511, 1.0126, 0.4601, -0.1696, 0.3242, 0.016, 0.1296, 0.1604, 0.2689, 0.0643, -0.0202, 0.0389, 0.3999, -0.0188, -0.5588, -0.2263, -0.2904, 0.0528, 0.2262, 0.3411, 0.2108, -0.6014, 0.0235, 0.496, -0.1189, 0.0201, -0.0828, -0.3899, 0.0564, 0.1625, 0.2013, -0.0906, 0.2355, 0.2936, 0.1562, -0.2338, 0.0981, -0.6123, 0.4507, 0.1272, 0.2078, 0.0752, 0.061]))]"
      ]
     },
     "execution_count": 12,
     "metadata": {
      "tags": []
     },
     "output_type": "execute_result"
    }
   ],
   "source": [
    "processed_w2v.select(\"features\").take(1)"
   ]
  },
  {
   "cell_type": "code",
   "execution_count": null,
   "metadata": {
    "colab": {},
    "colab_type": "code",
    "id": "yMN2OwXlIPRF",
    "outputId": "3d42cbe9-f673-43df-feb4-43271eaa8f28"
   },
   "outputs": [
    {
     "data": {
      "text/plain": [
       "[Row(features=DenseVector([-0.3996, -0.1811, -0.0817, -0.1405, -0.1474, 0.3627, 0.022, 0.2872, -0.0373, 0.3018, 0.2693, -0.0109, 0.4497, 0.3508, 0.1056, 0.0195, -0.0367, -0.3834, -0.6125, 0.0647, 0.8026, -0.2711, 0.1414, 0.2475, -0.125, -0.0847, -0.0201, -0.091, 0.059, 0.0927, -0.0997, -0.0921, -0.0728, 0.0223, 0.2052, -0.3765, -0.0727, 0.166, 0.1965, 0.2817, -0.3694, 0.101, 0.4664, 0.1242, 0.3345, 0.1135, -0.1376, 0.1322, -0.1108, -0.0528, 0.0252, -0.0141, -0.0596, 0.7911, -0.1946, -1.0185, -0.1145, -0.2511, 1.0126, 0.4601, -0.1696, 0.3242, 0.016, 0.1296, 0.1604, 0.2689, 0.0643, -0.0202, 0.0389, 0.3999, -0.0188, -0.5588, -0.2263, -0.2904, 0.0528, 0.2262, 0.3411, 0.2108, -0.6014, 0.0235, 0.496, -0.1189, 0.0201, -0.0828, -0.3899, 0.0564, 0.1625, 0.2013, -0.0906, 0.2355, 0.2936, 0.1562, -0.2338, 0.0981, -0.6123, 0.4507, 0.1272, 0.2078, 0.0752, 0.061]))]"
      ]
     },
     "execution_count": 9,
     "metadata": {
      "tags": []
     },
     "output_type": "execute_result"
    }
   ],
   "source": [
    "processed_w2v.select(\"features\").take(1)"
   ]
  },
  {
   "cell_type": "code",
   "execution_count": null,
   "metadata": {
    "colab": {},
    "colab_type": "code",
    "id": "ViXxQrhSIPRH",
    "outputId": "d82e22cc-ff8d-459c-8431-18edd396fdd8"
   },
   "outputs": [
    {
     "name": "stdout",
     "output_type": "stream",
     "text": [
      "+--------------------+--------------------+-----+\n",
      "|         description|            features|label|\n",
      "+--------------------+--------------------+-----+\n",
      "| Short sellers, W...|[-0.1556767076253...|  0.0|\n",
      "| Private investme...|[-0.0144653050228...|  0.0|\n",
      "| Soaring crude pr...|[0.10348732769489...|  0.0|\n",
      "| Authorities have...|[-0.0355810523033...|  0.0|\n",
      "| Tearaway world o...|[0.00647281948477...|  0.0|\n",
      "| Stocks ended sli...|[0.20069395005702...|  0.0|\n",
      "| Assets of the na...|[0.38012433052062...|  0.0|\n",
      "| Retail sales bou...|[0.20352847874164...|  0.0|\n",
      "|\" After earning a...|[0.13536226749420...|  0.0|\n",
      "| Short sellers, W...|[-0.1556767076253...|  0.0|\n",
      "| Soaring crude pr...|[0.10348732769489...|  0.0|\n",
      "| OPEC can do noth...|[0.20307321846485...|  0.0|\n",
      "| Non OPEC oil exp...|[0.09010648727416...|  0.0|\n",
      "| WASHINGTON/NEW Y...|[0.10887209326028...|  0.0|\n",
      "| The dollar tumbl...|[0.05723679438233...|  0.0|\n",
      "|If you think you ...|[0.11463439464569...|  0.0|\n",
      "|The purchasing po...|[0.05890964344143...|  0.0|\n",
      "|There is little c...|[0.11162020266056...|  0.0|\n",
      "|The US trade defi...|[0.09235177189111...|  0.0|\n",
      "|Oil giant Shell c...|[0.01885983347892...|  0.0|\n",
      "+--------------------+--------------------+-----+\n",
      "only showing top 20 rows\n",
      "\n"
     ]
    }
   ],
   "source": [
    "processed_w2v.select('description','features','label').show()\n"
   ]
  },
  {
   "cell_type": "code",
   "execution_count": null,
   "metadata": {
    "colab": {},
    "colab_type": "code",
    "id": "Vx__5MOLIPRK",
    "outputId": "86ceea7f-e258-4faf-da0f-2e582d9b4921"
   },
   "outputs": [
    {
     "name": "stdout",
     "output_type": "stream",
     "text": [
      "Training Dataset Count: 84076\n",
      "Test Dataset Count: 35924\n"
     ]
    }
   ],
   "source": [
    "# set seed for reproducibility\n",
    "(trainingData, testData) = processed_w2v.randomSplit([0.7, 0.3], seed = 100)\n",
    "print(\"Training Dataset Count: \" + str(trainingData.count()))\n",
    "print(\"Test Dataset Count: \" + str(testData.count()))"
   ]
  },
  {
   "cell_type": "code",
   "execution_count": null,
   "metadata": {
    "colab": {},
    "colab_type": "code",
    "id": "FK6x3ljGIPRO"
   },
   "outputs": [],
   "source": [
    "from pyspark.sql.functions import udf\n",
    "\n",
    "@udf(\"long\")\n",
    "def num_nonzeros(v):\n",
    "    return v.numNonzeros()\n",
    "\n",
    "testData = testData.where(num_nonzeros(\"features\") != 0)"
   ]
  },
  {
   "cell_type": "code",
   "execution_count": null,
   "metadata": {
    "colab": {},
    "colab_type": "code",
    "id": "S61P66r6IPRP",
    "outputId": "a1a66de0-37d5-421e-e818-c09d27b7487e"
   },
   "outputs": [
    {
     "data": {
      "text/plain": [
       "35922"
      ]
     },
     "execution_count": 124,
     "metadata": {
      "tags": []
     },
     "output_type": "execute_result"
    }
   ],
   "source": [
    "testData.count()"
   ]
  },
  {
   "cell_type": "code",
   "execution_count": null,
   "metadata": {
    "colab": {},
    "colab_type": "code",
    "id": "jdbLwEsnIPRR"
   },
   "outputs": [],
   "source": [
    "lrModel_w2v = lr.fit(trainingData)"
   ]
  },
  {
   "cell_type": "code",
   "execution_count": null,
   "metadata": {
    "colab": {},
    "colab_type": "code",
    "id": "FoSYCqDjIPRT",
    "outputId": "5de8dc50-65b5-41ea-cc7f-4b43e4a64d1e"
   },
   "outputs": [
    {
     "name": "stdout",
     "output_type": "stream",
     "text": [
      "+------------------------------+--------+------------------------------+-----+----------+\n",
      "|                   description|category|                   probability|label|prediction|\n",
      "+------------------------------+--------+------------------------------+-----+----------+\n",
      "|Wachovia Corp. said Friday ...|Business|[0.9881375332949472,0.00933...|  0.0|       0.0|\n",
      "| Stocks fell on Tuesday as ...|Business|[0.9875395796430402,0.00657...|  0.0|       0.0|\n",
      "|Tokyo stocks plunged Tuesda...|Business|[0.9836560997852465,0.00471...|  0.0|       0.0|\n",
      "| Financial services company...|Business|[0.9829326426472043,0.01029...|  0.0|       0.0|\n",
      "|Goldman Sachs Group Inc. on...|Business|[0.9824775002947608,0.01053...|  0.0|       0.0|\n",
      "|The steel tubing company re...|Business|[0.9814626385223189,0.01505...|  0.0|       0.0|\n",
      "| Brokerage firm A.G. Edward...|Business|[0.9806832485814365,0.01494...|  0.0|       0.0|\n",
      "|\" Stocks fell sharply on We...|Business|[0.9806621577952687,0.00794...|  0.0|       0.0|\n",
      "|Tokyo stocks opened lower T...|Business|[0.9805989153290017,0.00647...|  0.0|       0.0|\n",
      "| Goldman Sachs Group Inc. o...|Business|[0.9805944713824014,0.01141...|  0.0|       0.0|\n",
      "+------------------------------+--------+------------------------------+-----+----------+\n",
      "only showing top 10 rows\n",
      "\n"
     ]
    }
   ],
   "source": [
    "predictions_w2v = lrModel_w2v.transform(testData)\n",
    "\n",
    "predictions_w2v.select(\"description\",\"category\",\"probability\",\"label\",\"prediction\") \\\n",
    "    .orderBy(\"probability\", ascending=False) \\\n",
    "    .show(n = 10, truncate = 30)\n"
   ]
  },
  {
   "cell_type": "code",
   "execution_count": null,
   "metadata": {
    "colab": {},
    "colab_type": "code",
    "id": "FiCz7TZ8IPRV",
    "outputId": "dc4ef87c-c5aa-4b7c-f9f9-40a78ba9202b"
   },
   "outputs": [
    {
     "name": "stdout",
     "output_type": "stream",
     "text": [
      "+--------+--------------------+----------------------------+-----+--------------------+\n",
      "|category|         description|finished_sentence_embeddings|label|            features|\n",
      "+--------+--------------------+----------------------------+-----+--------------------+\n",
      "|Sci/Tech|             \"\\\"\"Now|                        [[]]|  1.0|                  []|\n",
      "|Sci/Tech|&lt;strong&gt;Let...|        [[0.0,0.0,0.0,0.0...|  1.0|[0.0,0.0,0.0,0.0,...|\n",
      "+--------+--------------------+----------------------------+-----+--------------------+\n",
      "\n"
     ]
    }
   ],
   "source": []
  },
  {
   "cell_type": "code",
   "execution_count": null,
   "metadata": {
    "colab": {},
    "colab_type": "code",
    "id": "P2WQ3rZmIPRX",
    "outputId": "fabcf6f0-d855-41fc-aead-db523790542d"
   },
   "outputs": [
    {
     "name": "stdout",
     "output_type": "stream",
     "text": [
      "              precision    recall  f1-score   support\n",
      "\n",
      "         0.0       0.83      0.83      0.83      8915\n",
      "         1.0       0.83      0.82      0.83      9017\n",
      "         2.0       0.87      0.87      0.87      8988\n",
      "         3.0       0.93      0.96      0.94      9002\n",
      "\n",
      "    accuracy                           0.87     35922\n",
      "   macro avg       0.87      0.87      0.87     35922\n",
      "weighted avg       0.87      0.87      0.87     35922\n",
      "\n",
      "0.8675185123322755\n"
     ]
    }
   ],
   "source": [
    "y_true = predictions_w2v.select(\"label\")\n",
    "y_true = y_true.toPandas()\n",
    "\n",
    "y_pred = predictions_w2v.select(\"prediction\")\n",
    "y_pred = y_pred.toPandas()\n",
    "\n",
    "print(classification_report(y_true.label, y_pred.prediction))\n",
    "print(accuracy_score(y_true.label, y_pred.prediction))"
   ]
  },
  {
   "cell_type": "code",
   "execution_count": null,
   "metadata": {
    "colab": {},
    "colab_type": "code",
    "id": "idNRXJJiIPRa",
    "outputId": "e5cbc6d8-e66e-4218-864f-0d2d5f58a9d9"
   },
   "outputs": [
    {
     "name": "stdout",
     "output_type": "stream",
     "text": [
      "+--------------------------------------------------+--------------------------------------------------+\n",
      "|                                       description|                                            result|\n",
      "+--------------------------------------------------+--------------------------------------------------+\n",
      "| Short sellers, Wall Street's dwindling band of...|[Short, sellers, Wall, Streets, dwindling, band...|\n",
      "| Private investment firm Carlyle Group, which h...|[Private, investment, firm, Carlyle, Group, rep...|\n",
      "| Soaring crude prices plus worries about the ec...|[Soaring, crude, prices, plus, worries, economy...|\n",
      "| Authorities have halted oil export flows from ...|[Authorities, halted, oil, export, flows, main,...|\n",
      "| Tearaway world oil prices, toppling records an...|[Tearaway, world, oil, prices, toppling, record...|\n",
      "| Stocks ended slightly higher on Friday but sta...|[Stocks, ended, slightly, higher, Friday, staye...|\n",
      "| Assets of the nation's retail money market mut...|[Assets, nations, retail, money, market, mutual...|\n",
      "| Retail sales bounced back a bit in July, and n...|[Retail, sales, bounced, back, bit, July, new, ...|\n",
      "|\" After earning a PH.D. in Sociology, Danny Baz...|[earning, PHD, Sociology, Danny, Bazil, Riley, ...|\n",
      "| Short sellers, Wall Street's dwindling  band o...|[Short, sellers, Wall, Streets, dwindling, band...|\n",
      "| Soaring crude prices plus worries  about the e...|[Soaring, crude, prices, plus, worries, economy...|\n",
      "| OPEC can do nothing to douse scorching  oil pr...|[OPEC, nothing, douse, scorching, oil, prices, ...|\n",
      "| Non OPEC oil exporters should consider  increa...|[Non, OPEC, oil, exporters, consider, increasin...|\n",
      "| WASHINGTON/NEW YORK (Reuters) - The auction fo...|[WASHINGTONNEW, YORK, Reuters, auction, Google,...|\n",
      "| The dollar tumbled broadly on Friday  after da...|[dollar, tumbled, broadly, Friday, data, showin...|\n",
      "|If you think you may need to help your elderly ...|[think, may, need, help, elderly, relatives, fi...|\n",
      "|The purchasing power of kids is a big part of w...|[purchasing, power, kids, big, part, backtoscho...|\n",
      "|There is little cause for celebration in the st...|[little, cause, celebration, stock, market, day...|\n",
      "|The US trade deficit has exploded 19 to a recor...|[US, trade, deficit, exploded, record, bn, oil,...|\n",
      "|Oil giant Shell could be bracing itself for a t...|[Oil, giant, Shell, bracing, takeover, attempt,...|\n",
      "+--------------------------------------------------+--------------------------------------------------+\n",
      "only showing top 20 rows\n",
      "\n"
     ]
    }
   ],
   "source": [
    "processed_w2v.select('description','cleanTokens.result').show(truncate=50)"
   ]
  },
  {
   "cell_type": "markdown",
   "metadata": {
    "colab_type": "text",
    "id": "-6X5ppwOIPRf"
   },
   "source": [
    "## LogReg with Spark NLP Bert Embeddings"
   ]
  },
  {
   "cell_type": "code",
   "execution_count": null,
   "metadata": {
    "colab": {},
    "colab_type": "code",
    "id": "xdF5eFJcIPRf",
    "outputId": "ad321d72-565e-43ab-b8ff-a3ebeda7e5cc"
   },
   "outputs": [
    {
     "name": "stdout",
     "output_type": "stream",
     "text": [
      "bert_base_cased download started this may take some time.\n",
      "Approximate size to download 389.2 MB\n",
      "[OK!]\n"
     ]
    },
    {
     "data": {
      "text/plain": [
       "120000"
      ]
     },
     "execution_count": 11,
     "metadata": {
      "tags": []
     },
     "output_type": "execute_result"
    }
   ],
   "source": [
    "document_assembler = DocumentAssembler() \\\n",
    "    .setInputCol(\"description\") \\\n",
    "    .setOutputCol(\"document\")\n",
    "    \n",
    "tokenizer = Tokenizer() \\\n",
    "  .setInputCols([\"document\"]) \\\n",
    "  .setOutputCol(\"token\")\n",
    "    \n",
    "normalizer = Normalizer() \\\n",
    "    .setInputCols([\"token\"]) \\\n",
    "    .setOutputCol(\"normalized\")\n",
    "\n",
    "stopwords_cleaner = StopWordsCleaner()\\\n",
    "      .setInputCols(\"normalized\")\\\n",
    "      .setOutputCol(\"cleanTokens\")\\\n",
    "      .setCaseSensitive(False)\n",
    "\n",
    "bert_embeddings = BertEmbeddings\\\n",
    " .pretrained('bert_base_cased', 'en') \\\n",
    " .setInputCols([\"document\",'cleanTokens'])\\\n",
    " .setOutputCol(\"bert\")\\\n",
    " .setCaseSensitive(False)\\\n",
    " .setPoolingLayer(0)\n",
    "\n",
    "embeddingsSentence = SentenceEmbeddings() \\\n",
    "      .setInputCols([\"document\", \"bert\"]) \\\n",
    "      .setOutputCol(\"sentence_embeddings\") \\\n",
    "      .setPoolingStrategy(\"AVERAGE\")\n",
    "    \n",
    "embeddings_finisher = EmbeddingsFinisher() \\\n",
    "    .setInputCols([\"sentence_embeddings\"]) \\\n",
    "    .setOutputCols([\"finished_sentence_embeddings\"]) \\\n",
    "    .setOutputAsVector(True)\\\n",
    "    .setCleanAnnotations(False)\n",
    "\n",
    "label_stringIdx = StringIndexer(inputCol = \"category\", outputCol = \"label\")\n",
    "\n",
    "\n",
    "nlp_pipeline_bert = Pipeline(\n",
    "    stages=[document_assembler, \n",
    "            tokenizer,\n",
    "            normalizer,\n",
    "            stopwords_cleaner, \n",
    "            bert_embeddings,\n",
    "            embeddingsSentence,\n",
    "            embeddings_finisher,\n",
    "           label_stringIdx])\n",
    "\n",
    "nlp_model_bert = nlp_pipeline_bert.fit(newsDF)\n",
    "\n",
    "processed_bert = nlp_model_bert.transform(newsDF)\n",
    "\n",
    "processed_bert.count()\n"
   ]
  },
  {
   "cell_type": "code",
   "execution_count": null,
   "metadata": {
    "colab": {},
    "colab_type": "code",
    "id": "7g2Yk5vdIPRh",
    "outputId": "d4dd71db-0b10-4851-bf15-da13553578c7"
   },
   "outputs": [
    {
     "name": "stdout",
     "output_type": "stream",
     "text": [
      "+--------------------+--------------------+-----+\n",
      "|         description|            features|label|\n",
      "+--------------------+--------------------+-----+\n",
      "|Srinagar, Nov 6 (...|[-0.0763546451926...|  2.0|\n",
      "|France's presiden...|[0.01601043716073...|  2.0|\n",
      "|President  Bush s...|[0.11258428543806...|  2.0|\n",
      "|Established Shiit...|[0.09958435595035...|  2.0|\n",
      "|While Democrats p...|[-0.3666543066501...|  2.0|\n",
      "|Rural and deprive...|[0.08482994884252...|  1.0|\n",
      "| Terrell Owens is...|[-0.1571628898382...|  3.0|\n",
      "|\" Gov. Ed Rendell...|[-0.0437468327581...|  3.0|\n",
      "| A month after a ...|[-0.1684152632951...|  3.0|\n",
      "| No Diana Taurasi...|[-0.0047841807827...|  3.0|\n",
      "| An upbeat Presid...|[0.15349867939949...|  2.0|\n",
      "| Gay and lesbian ...|[0.17594610154628...|  2.0|\n",
      "| Twenty three peo...|[-0.0070635229349...|  2.0|\n",
      "|  Connecticut Att...|[0.13604542613029...|  0.0|\n",
      "|A new report on g...|[0.07444920390844...|  1.0|\n",
      "|That Michael Siew...|[0.23243072628974...|  1.0|\n",
      "|Vice chairman of ...|[-0.2215369194746...|  1.0|\n",
      "|It #39;s good to ...|[-0.0571924299001...|  1.0|\n",
      "|Jacques Santini #...|[-0.1171142607927...|  3.0|\n",
      "|Chelsea have gone...|[-0.0265568681061...|  3.0|\n",
      "+--------------------+--------------------+-----+\n",
      "only showing top 20 rows\n",
      "\n"
     ]
    }
   ],
   "source": [
    "from pyspark.sql.functions import explode\n",
    "\n",
    "processed_bert= processed_bert.withColumn(\"features\", explode(processed_bert.finished_sentence_embeddings))\n",
    "\n",
    "processed_bert.select('description','features','label').show()\n"
   ]
  },
  {
   "cell_type": "code",
   "execution_count": null,
   "metadata": {
    "colab": {},
    "colab_type": "code",
    "id": "sqDwRWZbIPRk",
    "outputId": "fbc3c603-d182-4362-8cd0-9d15e627ab08"
   },
   "outputs": [
    {
     "name": "stdout",
     "output_type": "stream",
     "text": [
      "Training Dataset Count: 84045\n",
      "Test Dataset Count: 35955\n"
     ]
    }
   ],
   "source": [
    "# set seed for reproducibility\n",
    "(trainingData, testData) = processed_bert.randomSplit([0.7, 0.3], seed = 100)\n",
    "print(\"Training Dataset Count: \" + str(trainingData.count()))\n",
    "print(\"Test Dataset Count: \" + str(testData.count()))"
   ]
  },
  {
   "cell_type": "code",
   "execution_count": null,
   "metadata": {
    "colab": {},
    "colab_type": "code",
    "id": "kSe7wzqfIPRm"
   },
   "outputs": [],
   "source": [
    "from pyspark.ml.classification import LogisticRegression\n",
    "\n",
    "lr = LogisticRegression(maxIter=20, regParam=0.3, elasticNetParam=0)\n",
    "\n",
    "lrModel = lr.fit(trainingData)\n"
   ]
  },
  {
   "cell_type": "code",
   "execution_count": null,
   "metadata": {
    "colab": {},
    "colab_type": "code",
    "id": "gTRXE2TrIPRo"
   },
   "outputs": [],
   "source": [
    "from pyspark.sql.functions import udf\n",
    "\n",
    "@udf(\"long\")\n",
    "def num_nonzeros(v):\n",
    "    return v.numNonzeros()\n",
    "\n",
    "testData = testData.where(num_nonzeros(\"features\") != 0)"
   ]
  },
  {
   "cell_type": "code",
   "execution_count": null,
   "metadata": {
    "colab": {},
    "colab_type": "code",
    "id": "_c43W5PjIPRq",
    "outputId": "7405ad27-d24a-4dfd-d52b-f44850ad8bab"
   },
   "outputs": [
    {
     "name": "stdout",
     "output_type": "stream",
     "text": [
      "+------------------------------+--------+------------------------------+-----+----------+\n",
      "|                   description|category|                   probability|label|prediction|\n",
      "+------------------------------+--------+------------------------------+-----+----------+\n",
      "|The Securities and Exchange...|Business|[0.9967407593636138,0.00300...|  0.0|       0.0|\n",
      "|Stocks opened higher today,...|Business|[0.9928207319563264,0.00469...|  0.0|       0.0|\n",
      "| Retailer Payless ShoeSourc...|Business|[0.9926546087578139,0.00674...|  0.0|       0.0|\n",
      "|The insurance brokerage rep...|Business|[0.9917833732987117,0.00754...|  0.0|       0.0|\n",
      "|Shell outlined a profit str...|Business|[0.9916303454148256,0.00808...|  0.0|       0.0|\n",
      "| Countrywide Financial Corp...|Business|[0.9916172364634749,0.00514...|  0.0|       0.0|\n",
      "|PITTSBURGH Mellon Financial...|Business|[0.9915578428166462,0.00799...|  0.0|       0.0|\n",
      "|  Grocery wholesaler Flemin...|Business|[0.9915445608575104,0.00766...|  0.0|       0.0|\n",
      "|Mark Headley, who manages t...|Business|[0.9913036366415715,0.00795...|  0.0|       0.0|\n",
      "|Stocks fell for the second ...|Business|[0.9911328913959282,0.00419...|  0.0|       0.0|\n",
      "+------------------------------+--------+------------------------------+-----+----------+\n",
      "only showing top 10 rows\n",
      "\n"
     ]
    }
   ],
   "source": [
    "predictions = lrModel.transform(testData)\n",
    "\n",
    "predictions.select(\"description\",\"category\",\"probability\",\"label\",\"prediction\") \\\n",
    "    .orderBy(\"probability\", ascending=False) \\\n",
    "    .show(n = 10, truncate = 30)\n"
   ]
  },
  {
   "cell_type": "code",
   "execution_count": null,
   "metadata": {
    "colab": {},
    "colab_type": "code",
    "id": "buAz91hDIPRs",
    "outputId": "51a6dc2a-9fdb-4ed4-c254-38a4b18b843f"
   },
   "outputs": [
    {
     "name": "stdout",
     "output_type": "stream",
     "text": [
      "              precision    recall  f1-score   support\n",
      "\n",
      "         0.0       0.82      0.79      0.80      8911\n",
      "         1.0       0.81      0.80      0.81      8972\n",
      "         2.0       0.84      0.86      0.85      9008\n",
      "         3.0       0.90      0.94      0.92      9063\n",
      "\n",
      "    accuracy                           0.85     35954\n",
      "   macro avg       0.84      0.85      0.84     35954\n",
      "weighted avg       0.84      0.85      0.85     35954\n",
      "\n",
      "0.8459142237303221\n"
     ]
    }
   ],
   "source": [
    "from sklearn.metrics import confusion_matrix, classification_report, accuracy_score\n",
    "import pandas as pd\n",
    "\n",
    "df = predictions.select('description','category','label','prediction').toPandas()\n",
    "\n",
    "print(classification_report(df.label, df.prediction))\n",
    "print(accuracy_score(df.label, df.prediction))"
   ]
  },
  {
   "cell_type": "markdown",
   "metadata": {
    "colab_type": "text",
    "id": "tSCxUSkmIPRu"
   },
   "source": [
    "## LogReg with ELMO Embeddings"
   ]
  },
  {
   "cell_type": "code",
   "execution_count": null,
   "metadata": {
    "colab": {},
    "colab_type": "code",
    "id": "L_pCzKheIPRv",
    "outputId": "056c7637-0934-424d-a7c0-2d2478f35991"
   },
   "outputs": [
    {
     "data": {
      "text/plain": [
       "120000"
      ]
     },
     "execution_count": 24,
     "metadata": {
      "tags": []
     },
     "output_type": "execute_result"
    }
   ],
   "source": [
    "document_assembler = DocumentAssembler() \\\n",
    "    .setInputCol(\"description\") \\\n",
    "    .setOutputCol(\"document\")\n",
    "    \n",
    "tokenizer = Tokenizer() \\\n",
    "  .setInputCols([\"document\"]) \\\n",
    "  .setOutputCol(\"token\")\n",
    "    \n",
    "normalizer = Normalizer() \\\n",
    "    .setInputCols([\"token\"]) \\\n",
    "    .setOutputCol(\"normalized\")\n",
    "\n",
    "stopwords_cleaner = StopWordsCleaner()\\\n",
    "      .setInputCols(\"normalized\")\\\n",
    "      .setOutputCol(\"cleanTokens\")\\\n",
    "      .setCaseSensitive(False)\n",
    "\n",
    "elmo_embeddings = ElmoEmbeddings.load('/Users/vkocaman/cache_pretrained/elmo_en_2.4.0_2.4_1580488815299')\\\n",
    "      .setPoolingLayer(\"word_emb\")\\\n",
    "      .setInputCols([\"document\",'cleanTokens'])\\\n",
    "      .setOutputCol(\"elmo\")\n",
    "\n",
    "embeddingsSentence = SentenceEmbeddings() \\\n",
    "      .setInputCols([\"document\", \"elmo\"]) \\\n",
    "      .setOutputCol(\"sentence_embeddings\") \\\n",
    "      .setPoolingStrategy(\"AVERAGE\")\n",
    "    \n",
    "embeddings_finisher = EmbeddingsFinisher() \\\n",
    "    .setInputCols([\"sentence_embeddings\"]) \\\n",
    "    .setOutputCols([\"finished_sentence_embeddings\"]) \\\n",
    "    .setOutputAsVector(True)\\\n",
    "    .setCleanAnnotations(False)\n",
    "\n",
    "label_stringIdx = StringIndexer(inputCol = \"category\", outputCol = \"label\")\n",
    "\n",
    "\n",
    "nlp_pipeline_elmo = Pipeline(\n",
    "    stages=[document_assembler, \n",
    "            tokenizer,\n",
    "            normalizer,\n",
    "            stopwords_cleaner, \n",
    "            elmo_embeddings,\n",
    "            embeddingsSentence,\n",
    "            embeddings_finisher,\n",
    "           label_stringIdx])\n",
    "\n",
    "nlp_model_elmo = nlp_pipeline_elmo.fit(newsDF)\n",
    "\n",
    "processed_elmo = nlp_model_elmo.transform(newsDF)\n",
    "\n",
    "processed_elmo.count()\n"
   ]
  },
  {
   "cell_type": "code",
   "execution_count": null,
   "metadata": {
    "colab": {},
    "colab_type": "code",
    "id": "3vk7XGN5IPRx"
   },
   "outputs": [],
   "source": [
    "(trainingData, testData) = newsDF.randomSplit([0.7, 0.3], seed = 100)"
   ]
  },
  {
   "cell_type": "code",
   "execution_count": null,
   "metadata": {
    "colab": {},
    "colab_type": "code",
    "id": "q-VCL5iOIPRz",
    "outputId": "88776ee5-42a9-4f89-8619-b97b99e56b32"
   },
   "outputs": [
    {
     "data": {
      "text/plain": [
       "84045"
      ]
     },
     "execution_count": 26,
     "metadata": {
      "tags": []
     },
     "output_type": "execute_result"
    }
   ],
   "source": [
    "processed_trainingData = nlp_model_elmo.transform(trainingData)\n",
    "\n",
    "processed_trainingData.count()"
   ]
  },
  {
   "cell_type": "code",
   "execution_count": null,
   "metadata": {
    "colab": {},
    "colab_type": "code",
    "id": "QLxq_udOIPR1",
    "outputId": "07e273d0-f7b3-4ca4-e72e-304ef03ccd71"
   },
   "outputs": [
    {
     "data": {
      "text/plain": [
       "35955"
      ]
     },
     "execution_count": 27,
     "metadata": {
      "tags": []
     },
     "output_type": "execute_result"
    }
   ],
   "source": [
    "processed_testData = nlp_model_elmo.transform(testData)\n",
    "\n",
    "processed_testData.count()"
   ]
  },
  {
   "cell_type": "code",
   "execution_count": null,
   "metadata": {
    "colab": {},
    "colab_type": "code",
    "id": "hWqgBJmKIPR2",
    "outputId": "3b7ccf6e-3c6f-49f1-dc21-e984cbe52450"
   },
   "outputs": [
    {
     "data": {
      "text/plain": [
       "['category',\n",
       " 'description',\n",
       " 'document',\n",
       " 'token',\n",
       " 'normalized',\n",
       " 'cleanTokens',\n",
       " 'elmo',\n",
       " 'sentence_embeddings',\n",
       " 'finished_sentence_embeddings',\n",
       " 'label']"
      ]
     },
     "execution_count": 40,
     "metadata": {
      "tags": []
     },
     "output_type": "execute_result"
    }
   ],
   "source": [
    "processed_trainingData.columns"
   ]
  },
  {
   "cell_type": "code",
   "execution_count": null,
   "metadata": {
    "colab": {},
    "colab_type": "code",
    "id": "V3W9kceqIPR4"
   },
   "outputs": [],
   "source": [
    "\n",
    "\n",
    "processed_testData= processed_testData.withColumn(\"features\", explode(processed_testData.finished_sentence_embeddings))\n",
    "\n",
    "processed_trainingData= processed_trainingData.withColumn(\"features\", explode(processed_trainingData.finished_sentence_embeddings))\n"
   ]
  },
  {
   "cell_type": "code",
   "execution_count": null,
   "metadata": {
    "colab": {},
    "colab_type": "code",
    "id": "hY8z7srJIPR6"
   },
   "outputs": [],
   "source": [
    "from pyspark.sql.functions import udf\n",
    "\n",
    "@udf(\"long\")\n",
    "def num_nonzeros(v):\n",
    "    return v.numNonzeros()\n",
    "\n",
    "processed_testData = processed_testData.where(num_nonzeros(\"features\") != 0)"
   ]
  },
  {
   "cell_type": "code",
   "execution_count": null,
   "metadata": {
    "colab": {},
    "colab_type": "code",
    "id": "lyqIOMbsIPR8",
    "outputId": "0425338a-50c8-4538-fdbc-2dbb01398e65"
   },
   "outputs": [
    {
     "name": "stdout",
     "output_type": "stream",
     "text": [
      "CPU times: user 97.4 ms, sys: 79.6 ms, total: 177 ms\n",
      "Wall time: 15min 35s\n"
     ]
    }
   ],
   "source": [
    "%%time\n",
    "\n",
    "from pyspark.ml.classification import LogisticRegression\n",
    "\n",
    "lr = LogisticRegression(maxIter=20, regParam=0.3, elasticNetParam=0)\n",
    "\n",
    "lrModel = lr.fit(processed_trainingData)\n"
   ]
  },
  {
   "cell_type": "code",
   "execution_count": null,
   "metadata": {
    "colab": {},
    "colab_type": "code",
    "id": "D04iWWPMIPR9",
    "outputId": "6babcee7-a4cb-4bc0-cf56-ed6a5ab9bcba"
   },
   "outputs": [
    {
     "data": {
      "text/plain": [
       "['category',\n",
       " 'description',\n",
       " 'document',\n",
       " 'token',\n",
       " 'normalized',\n",
       " 'cleanTokens',\n",
       " 'elmo',\n",
       " 'sentence_embeddings',\n",
       " 'finished_sentence_embeddings',\n",
       " 'label',\n",
       " 'features']"
      ]
     },
     "execution_count": 55,
     "metadata": {
      "tags": []
     },
     "output_type": "execute_result"
    }
   ],
   "source": [
    "processed_trainingData.columns"
   ]
  },
  {
   "cell_type": "code",
   "execution_count": null,
   "metadata": {
    "colab": {},
    "colab_type": "code",
    "id": "vS2_xs3ZIPSA",
    "outputId": "68210fc8-7be4-4107-d494-b5bb24d3783b"
   },
   "outputs": [
    {
     "name": "stdout",
     "output_type": "stream",
     "text": [
      "+------------------------------+--------+------------------------------+-----+----------+\n",
      "|                   description|category|                   probability|label|prediction|\n",
      "+------------------------------+--------+------------------------------+-----+----------+\n",
      "|\" Occidental Petroleum Corp...|Business|[0.9939238563124918,0.00317...|  0.0|       0.0|\n",
      "|\" Exxon Mobil Corp. &lt;A H...|Business|[0.9936105240300768,0.00421...|  0.0|       0.0|\n",
      "| Falling oil prices and str...|   World|[0.9924582561860766,0.00703...|  2.0|       0.0|\n",
      "|\" U.S. Bancorp &lt;A HREF=\"...|Business|[0.9918036025020147,0.00491...|  0.0|       0.0|\n",
      "|The convenience store chain...|Business|[0.98995176008916,0.0084863...|  0.0|       0.0|\n",
      "|  Shares of Freddie Mac fel...|Business|[0.9899066353145851,0.00808...|  0.0|       0.0|\n",
      "|Goldman Sachs Group Inc. on...|Business|[0.9887823628906515,0.00816...|  0.0|       0.0|\n",
      "|index futures declined. Dow...|Business|[0.9887494817093566,0.00661...|  0.0|       0.0|\n",
      "| Countrywide Financial Corp...|Business|[0.9887234730557749,0.00882...|  0.0|       0.0|\n",
      "|The stock has soared thanks...|Business|[0.9883215071732073,0.00944...|  0.0|       0.0|\n",
      "+------------------------------+--------+------------------------------+-----+----------+\n",
      "only showing top 10 rows\n",
      "\n"
     ]
    }
   ],
   "source": [
    "\n",
    "predictions = lrModel.transform(processed_testData)\n",
    "\n",
    "predictions.select(\"description\",\"category\",\"probability\",\"label\",\"prediction\") \\\n",
    "    .orderBy(\"probability\", ascending=False) \\\n",
    "    .show(n = 10, truncate = 30)\n"
   ]
  },
  {
   "cell_type": "code",
   "execution_count": null,
   "metadata": {
    "colab": {},
    "colab_type": "code",
    "id": "P3lz8IFhIPSC"
   },
   "outputs": [],
   "source": [
    "df = predictions.select('description','category','label','prediction').toPandas()"
   ]
  },
  {
   "cell_type": "code",
   "execution_count": null,
   "metadata": {
    "colab": {},
    "colab_type": "code",
    "id": "lrJtqnTcIPSD",
    "outputId": "8c3ed1e7-1794-40e2-ae22-cb4e0b55a412"
   },
   "outputs": [
    {
     "data": {
      "text/plain": [
       "(35954, 4)"
      ]
     },
     "execution_count": 58,
     "metadata": {
      "tags": []
     },
     "output_type": "execute_result"
    }
   ],
   "source": [
    "df.shape"
   ]
  },
  {
   "cell_type": "code",
   "execution_count": null,
   "metadata": {
    "colab": {},
    "colab_type": "code",
    "id": "7eEgmPDWIPSF",
    "outputId": "b91c6468-74a9-4f61-d1f8-52985f2eedb6"
   },
   "outputs": [
    {
     "data": {
      "text/html": [
       "<div>\n",
       "<style scoped>\n",
       "    .dataframe tbody tr th:only-of-type {\n",
       "        vertical-align: middle;\n",
       "    }\n",
       "\n",
       "    .dataframe tbody tr th {\n",
       "        vertical-align: top;\n",
       "    }\n",
       "\n",
       "    .dataframe thead th {\n",
       "        text-align: right;\n",
       "    }\n",
       "</style>\n",
       "<table border=\"1\" class=\"dataframe\">\n",
       "  <thead>\n",
       "    <tr style=\"text-align: right;\">\n",
       "      <th></th>\n",
       "      <th>description</th>\n",
       "      <th>category</th>\n",
       "      <th>label</th>\n",
       "      <th>prediction</th>\n",
       "    </tr>\n",
       "  </thead>\n",
       "  <tbody>\n",
       "    <tr>\n",
       "      <td>0</td>\n",
       "      <td>A federal judge on Monday stayed his own rul...</td>\n",
       "      <td>Business</td>\n",
       "      <td>0.0</td>\n",
       "      <td>0.0</td>\n",
       "    </tr>\n",
       "    <tr>\n",
       "      <td>1</td>\n",
       "      <td>A half dozen executives of Yukos, the embatt...</td>\n",
       "      <td>Business</td>\n",
       "      <td>0.0</td>\n",
       "      <td>0.0</td>\n",
       "    </tr>\n",
       "    <tr>\n",
       "      <td>2</td>\n",
       "      <td>A labor dispute may sideline professional ho...</td>\n",
       "      <td>Business</td>\n",
       "      <td>0.0</td>\n",
       "      <td>3.0</td>\n",
       "    </tr>\n",
       "    <tr>\n",
       "      <td>3</td>\n",
       "      <td>A ruling from the World Trade Organization c...</td>\n",
       "      <td>Business</td>\n",
       "      <td>0.0</td>\n",
       "      <td>0.0</td>\n",
       "    </tr>\n",
       "    <tr>\n",
       "      <td>4</td>\n",
       "      <td>American Airlines has unveiled a new simplif...</td>\n",
       "      <td>Business</td>\n",
       "      <td>0.0</td>\n",
       "      <td>0.0</td>\n",
       "    </tr>\n",
       "  </tbody>\n",
       "</table>\n",
       "</div>"
      ],
      "text/plain": [
       "                                         description  category  label  \\\n",
       "0    A federal judge on Monday stayed his own rul...  Business    0.0   \n",
       "1    A half dozen executives of Yukos, the embatt...  Business    0.0   \n",
       "2    A labor dispute may sideline professional ho...  Business    0.0   \n",
       "3    A ruling from the World Trade Organization c...  Business    0.0   \n",
       "4    American Airlines has unveiled a new simplif...  Business    0.0   \n",
       "\n",
       "   prediction  \n",
       "0         0.0  \n",
       "1         0.0  \n",
       "2         3.0  \n",
       "3         0.0  \n",
       "4         0.0  "
      ]
     },
     "execution_count": 59,
     "metadata": {
      "tags": []
     },
     "output_type": "execute_result"
    }
   ],
   "source": [
    "df.head()"
   ]
  },
  {
   "cell_type": "code",
   "execution_count": null,
   "metadata": {
    "colab": {},
    "colab_type": "code",
    "id": "6JS3R3knIPSI",
    "outputId": "344dd4c2-8091-4f93-cbef-c398e2131ff1"
   },
   "outputs": [
    {
     "name": "stdout",
     "output_type": "stream",
     "text": [
      "              precision    recall  f1-score   support\n",
      "\n",
      "         0.0       0.83      0.82      0.83      8911\n",
      "         1.0       0.83      0.82      0.83      8972\n",
      "         2.0       0.87      0.88      0.87      9008\n",
      "         3.0       0.94      0.96      0.95      9063\n",
      "\n",
      "    accuracy                           0.87     35954\n",
      "   macro avg       0.87      0.87      0.87     35954\n",
      "weighted avg       0.87      0.87      0.87     35954\n",
      "\n",
      "0.8694164766090003\n"
     ]
    }
   ],
   "source": [
    "from sklearn.metrics import classification_report, accuracy_score\n",
    "\n",
    "print(classification_report(df.label, df.prediction))\n",
    "print(accuracy_score(df.label, df.prediction))"
   ]
  },
  {
   "cell_type": "markdown",
   "metadata": {
    "colab_type": "text",
    "id": "8YpFN8zBIPSJ"
   },
   "source": [
    "## LogReg with Universal Sentence Encoder"
   ]
  },
  {
   "cell_type": "code",
   "execution_count": null,
   "metadata": {
    "colab": {},
    "colab_type": "code",
    "id": "a4YxWiKdIPSK"
   },
   "outputs": [],
   "source": [
    "document_assembler = DocumentAssembler() \\\n",
    "    .setInputCol(\"description\") \\\n",
    "    .setOutputCol(\"document\")"
   ]
  },
  {
   "cell_type": "code",
   "execution_count": null,
   "metadata": {
    "colab": {},
    "colab_type": "code",
    "id": "GJd8yf0cIPSL"
   },
   "outputs": [],
   "source": [
    "\n",
    "useEmbeddings = UniversalSentenceEncoder.load('/Users/vkocaman/cache_pretrained/tfhub_use_en_2.4.0_2.4_1580582893733')\\\n",
    "      .setInputCols(\"document\")\\\n",
    "      .setOutputCol(\"use_embeddings\")"
   ]
  },
  {
   "cell_type": "code",
   "execution_count": null,
   "metadata": {
    "colab": {},
    "colab_type": "code",
    "id": "WMO7CCMpIPSM"
   },
   "outputs": [],
   "source": [
    "\n",
    "embeddings_finisher = EmbeddingsFinisher() \\\n",
    "    .setInputCols([\"use_embeddings\"]) \\\n",
    "    .setOutputCols([\"finished_use_embeddings\"]) \\\n",
    "    .setOutputAsVector(True)\\\n",
    "    .setCleanAnnotations(False)\n",
    "\n",
    "label_stringIdx = StringIndexer(inputCol = \"category\", outputCol = \"label\")\n",
    "\n",
    "use_pipeline = Pipeline(\n",
    "      stages=[\n",
    "        document_assembler,\n",
    "          useEmbeddings,\n",
    "        embeddings_finisher,\n",
    "      label_stringIdx]\n",
    "      )"
   ]
  },
  {
   "cell_type": "code",
   "execution_count": null,
   "metadata": {
    "colab": {},
    "colab_type": "code",
    "id": "dXnlj3diIPSN"
   },
   "outputs": [],
   "source": []
  },
  {
   "cell_type": "code",
   "execution_count": null,
   "metadata": {
    "colab": {},
    "colab_type": "code",
    "id": "30FApLSbIPSP"
   },
   "outputs": [],
   "source": [
    "use_df = use_pipeline.fit(newsDF).transform(newsDF)"
   ]
  },
  {
   "cell_type": "code",
   "execution_count": null,
   "metadata": {
    "colab": {},
    "colab_type": "code",
    "id": "kbiA3moMIPSR",
    "outputId": "4ca56fc7-525d-44a8-f65e-e5e8b08ddc0f"
   },
   "outputs": [
    {
     "name": "stdout",
     "output_type": "stream",
     "text": [
      "+-----------------------+\n",
      "|finished_use_embeddings|\n",
      "+-----------------------+\n",
      "|   [[-0.029556609690...|\n",
      "|   [[0.0133671779185...|\n",
      "|   [[0.0291389804333...|\n",
      "+-----------------------+\n",
      "only showing top 3 rows\n",
      "\n"
     ]
    }
   ],
   "source": [
    "use_df.select('finished_use_embeddings').show(3)"
   ]
  },
  {
   "cell_type": "code",
   "execution_count": null,
   "metadata": {
    "colab": {},
    "colab_type": "code",
    "id": "9nI3EXthIPST"
   },
   "outputs": [],
   "source": [
    "from pyspark.sql.functions import explode\n",
    "\n",
    "use_df= use_df.withColumn(\"features\", explode(use_df.finished_use_embeddings))"
   ]
  },
  {
   "cell_type": "code",
   "execution_count": null,
   "metadata": {
    "colab": {},
    "colab_type": "code",
    "id": "PD9vNF2KIPSV",
    "outputId": "65986bd9-9b2d-45ea-8309-e73491e5c480"
   },
   "outputs": [
    {
     "name": "stdout",
     "output_type": "stream",
     "text": [
      "+--------+--------------------+--------------------+--------------------+-----------------------+-----+--------------------+\n",
      "|category|         description|            document|      use_embeddings|finished_use_embeddings|label|            features|\n",
      "+--------+--------------------+--------------------+--------------------+-----------------------+-----+--------------------+\n",
      "|   World|Srinagar, Nov 6 (...|[[document, 0, 17...|[[sentence_embedd...|   [[-0.029556609690...|  2.0|[-0.0295566096901...|\n",
      "|   World|France's presiden...|[[document, 0, 11...|[[sentence_embedd...|   [[0.0133671779185...|  2.0|[0.01336717791855...|\n",
      "+--------+--------------------+--------------------+--------------------+-----------------------+-----+--------------------+\n",
      "only showing top 2 rows\n",
      "\n"
     ]
    }
   ],
   "source": [
    "use_df.show(2)"
   ]
  },
  {
   "cell_type": "code",
   "execution_count": null,
   "metadata": {
    "colab": {},
    "colab_type": "code",
    "id": "2_VHl1FFIPSX"
   },
   "outputs": [],
   "source": [
    "# set seed for reproducibility\n",
    "(trainingData, testData) = use_df.randomSplit([0.7, 0.3], seed = 100)\n",
    "print(\"Training Dataset Count: \" + str(trainingData.count()))\n",
    "print(\"Test Dataset Count: \" + str(testData.count()))"
   ]
  },
  {
   "cell_type": "code",
   "execution_count": null,
   "metadata": {
    "colab": {},
    "colab_type": "code",
    "id": "vIpDQAScIPSY",
    "outputId": "201bd59f-706c-499c-dc3e-4497989880f9"
   },
   "outputs": [
    {
     "name": "stdout",
     "output_type": "stream",
     "text": [
      "+------------------------------+--------+------------------------------+-----+----------+\n",
      "|                   description|category|                   probability|label|prediction|\n",
      "+------------------------------+--------+------------------------------+-----+----------+\n",
      "|ORRVILLE, Ohio - JM Smucker...|Business|[0.9846360253598295,0.01010...|  0.0|       0.0|\n",
      "| Kroger Co. , the largest U...|Business|[0.9832865375880339,0.00933...|  0.0|       0.0|\n",
      "|Fannie Mae, the largest US ...|Business|[0.9819043632044295,0.01021...|  0.0|       0.0|\n",
      "|Financial services company ...|Business|[0.9815806438622043,0.00948...|  0.0|       0.0|\n",
      "| The U.S. Securities and Ex...|Business|[0.9803398845434486,0.00881...|  0.0|       0.0|\n",
      "|Albertsons Inc., the No. 2 ...|Business|[0.9801615716078368,0.01156...|  0.0|       0.0|\n",
      "|NEW YORK : A better-than-ex...|Business|[0.980066826179653,0.008197...|  0.0|       0.0|\n",
      "|\" U.S. stocks ended lower o...|Business|[0.97990084173127,0.0139531...|  0.0|       0.0|\n",
      "|SunTrust Banks Inc. on Frid...|Business|[0.9798810864011731,0.01249...|  0.0|       0.0|\n",
      "|Capital One Financial Corp....|Business|[0.9797574037359713,0.01235...|  0.0|       0.0|\n",
      "+------------------------------+--------+------------------------------+-----+----------+\n",
      "only showing top 10 rows\n",
      "\n"
     ]
    }
   ],
   "source": [
    "from sklearn.metrics import confusion_matrix, classification_report, accuracy_score\n",
    "import pandas as pd\n",
    "\n",
    "from pyspark.ml.classification import LogisticRegression\n",
    "\n",
    "lr = LogisticRegression(maxIter=20, regParam=0.3, elasticNetParam=0)\n",
    "\n",
    "lrModel = lr.fit(trainingData)\n",
    "\n",
    "predictions = lrModel.transform(testData)\n",
    "\n",
    "predictions.filter(predictions['prediction'] == 0) \\\n",
    "    .select(\"description\",\"category\",\"probability\",\"label\",\"prediction\") \\\n",
    "    .orderBy(\"probability\", ascending=False) \\\n",
    "    .show(n = 10, truncate = 30)\n"
   ]
  },
  {
   "cell_type": "code",
   "execution_count": null,
   "metadata": {
    "colab": {},
    "colab_type": "code",
    "id": "4NiPwWRmIPSa"
   },
   "outputs": [],
   "source": [
    "df = predictions.select('description','category','label','prediction').toPandas()\n",
    "#df['result'] = df['result'].apply(lambda x: x[0])\n"
   ]
  },
  {
   "cell_type": "code",
   "execution_count": null,
   "metadata": {
    "colab": {},
    "colab_type": "code",
    "id": "u4Q1XnpZIPSc",
    "outputId": "1f591291-571f-4eb7-efb0-439b2e6d4b5c"
   },
   "outputs": [
    {
     "data": {
      "text/html": [
       "<div>\n",
       "<style scoped>\n",
       "    .dataframe tbody tr th:only-of-type {\n",
       "        vertical-align: middle;\n",
       "    }\n",
       "\n",
       "    .dataframe tbody tr th {\n",
       "        vertical-align: top;\n",
       "    }\n",
       "\n",
       "    .dataframe thead th {\n",
       "        text-align: right;\n",
       "    }\n",
       "</style>\n",
       "<table border=\"1\" class=\"dataframe\">\n",
       "  <thead>\n",
       "    <tr style=\"text-align: right;\">\n",
       "      <th></th>\n",
       "      <th>description</th>\n",
       "      <th>category</th>\n",
       "      <th>label</th>\n",
       "      <th>prediction</th>\n",
       "    </tr>\n",
       "  </thead>\n",
       "  <tbody>\n",
       "    <tr>\n",
       "      <td>0</td>\n",
       "      <td>A federal judge on Monday stayed his own rul...</td>\n",
       "      <td>Business</td>\n",
       "      <td>0.0</td>\n",
       "      <td>0.0</td>\n",
       "    </tr>\n",
       "    <tr>\n",
       "      <td>1</td>\n",
       "      <td>A half dozen executives of Yukos, the embatt...</td>\n",
       "      <td>Business</td>\n",
       "      <td>0.0</td>\n",
       "      <td>0.0</td>\n",
       "    </tr>\n",
       "    <tr>\n",
       "      <td>2</td>\n",
       "      <td>A labor dispute may sideline professional ho...</td>\n",
       "      <td>Business</td>\n",
       "      <td>0.0</td>\n",
       "      <td>3.0</td>\n",
       "    </tr>\n",
       "    <tr>\n",
       "      <td>3</td>\n",
       "      <td>A ruling from the World Trade Organization c...</td>\n",
       "      <td>Business</td>\n",
       "      <td>0.0</td>\n",
       "      <td>0.0</td>\n",
       "    </tr>\n",
       "    <tr>\n",
       "      <td>4</td>\n",
       "      <td>American Airlines has unveiled a new simplif...</td>\n",
       "      <td>Business</td>\n",
       "      <td>0.0</td>\n",
       "      <td>0.0</td>\n",
       "    </tr>\n",
       "  </tbody>\n",
       "</table>\n",
       "</div>"
      ],
      "text/plain": [
       "                                         description  category  label  \\\n",
       "0    A federal judge on Monday stayed his own rul...  Business    0.0   \n",
       "1    A half dozen executives of Yukos, the embatt...  Business    0.0   \n",
       "2    A labor dispute may sideline professional ho...  Business    0.0   \n",
       "3    A ruling from the World Trade Organization c...  Business    0.0   \n",
       "4    American Airlines has unveiled a new simplif...  Business    0.0   \n",
       "\n",
       "   prediction  \n",
       "0         0.0  \n",
       "1         0.0  \n",
       "2         3.0  \n",
       "3         0.0  \n",
       "4         0.0  "
      ]
     },
     "execution_count": 25,
     "metadata": {
      "tags": []
     },
     "output_type": "execute_result"
    }
   ],
   "source": [
    "df.head()"
   ]
  },
  {
   "cell_type": "code",
   "execution_count": null,
   "metadata": {
    "colab": {},
    "colab_type": "code",
    "id": "aEg_wD3oIPSe",
    "outputId": "3dc89092-842f-44a5-e8a5-8ce1d57a5eac"
   },
   "outputs": [
    {
     "name": "stdout",
     "output_type": "stream",
     "text": [
      "              precision    recall  f1-score   support\n",
      "\n",
      "         0.0       0.83      0.83      0.83      8911\n",
      "         1.0       0.85      0.84      0.84      8973\n",
      "         2.0       0.89      0.89      0.89      9008\n",
      "         3.0       0.95      0.97      0.96      9063\n",
      "\n",
      "    accuracy                           0.88     35955\n",
      "   macro avg       0.88      0.88      0.88     35955\n",
      "weighted avg       0.88      0.88      0.88     35955\n",
      "\n",
      "0.8831038798498123\n"
     ]
    }
   ],
   "source": [
    "\n",
    "print(classification_report(df.label, df.prediction))\n",
    "print(accuracy_score(df.label, df.prediction))"
   ]
  },
  {
   "cell_type": "markdown",
   "metadata": {
    "colab_type": "text",
    "id": "bdODPjyzIPSf"
   },
   "source": [
    "### train on entire dataset"
   ]
  },
  {
   "cell_type": "code",
   "execution_count": null,
   "metadata": {
    "colab": {},
    "colab_type": "code",
    "id": "LJu8ekkaIPSg"
   },
   "outputs": [],
   "source": [
    "lr = LogisticRegression(maxIter=20, regParam=0.3, elasticNetParam=0)\n",
    "\n",
    "lrModel = lr.fit(use_df)"
   ]
  },
  {
   "cell_type": "code",
   "execution_count": null,
   "metadata": {
    "colab": {},
    "colab_type": "code",
    "id": "yo8sNiL4IPSh"
   },
   "outputs": [],
   "source": [
    "\n",
    "test_df = spark.read.parquet(\"data/news_category_test.parquet\")\n"
   ]
  },
  {
   "cell_type": "code",
   "execution_count": null,
   "metadata": {
    "colab": {},
    "colab_type": "code",
    "id": "22hPNZ9jIPSi"
   },
   "outputs": [],
   "source": [
    "test_df = use_pipeline.fit(test_df).transform(test_df)"
   ]
  },
  {
   "cell_type": "code",
   "execution_count": null,
   "metadata": {
    "colab": {},
    "colab_type": "code",
    "id": "uSJt_s4qIPSj"
   },
   "outputs": [],
   "source": [
    "test_df= test_df.withColumn(\"features\", explode(test_df.finished_use_embeddings))"
   ]
  },
  {
   "cell_type": "code",
   "execution_count": null,
   "metadata": {
    "colab": {},
    "colab_type": "code",
    "id": "g67zaIZWIPSl",
    "outputId": "78939058-e308-459b-84a9-e38d118870ea"
   },
   "outputs": [
    {
     "name": "stdout",
     "output_type": "stream",
     "text": [
      "+--------+--------------------+--------------------+--------------------+-----------------------+-----+--------------------+\n",
      "|category|         description|            document|      use_embeddings|finished_use_embeddings|label|            features|\n",
      "+--------+--------------------+--------------------+--------------------+-----------------------+-----+--------------------+\n",
      "|Business|Unions representi...|[[document, 0, 12...|[[sentence_embedd...|   [[0.0129975397139...|  1.0|[0.01299753971397...|\n",
      "|Sci/Tech| TORONTO, Canada ...|[[document, 0, 22...|[[sentence_embedd...|   [[0.0019999044016...|  0.0|[0.00199990440160...|\n",
      "+--------+--------------------+--------------------+--------------------+-----------------------+-----+--------------------+\n",
      "only showing top 2 rows\n",
      "\n"
     ]
    }
   ],
   "source": [
    "test_df.show(2)"
   ]
  },
  {
   "cell_type": "code",
   "execution_count": null,
   "metadata": {
    "colab": {},
    "colab_type": "code",
    "id": "cG0FjtySIPSm"
   },
   "outputs": [],
   "source": [
    "predictions = lrModel.transform(test_df)"
   ]
  },
  {
   "cell_type": "code",
   "execution_count": null,
   "metadata": {
    "colab": {},
    "colab_type": "code",
    "id": "EnnF27fuIPSn"
   },
   "outputs": [],
   "source": [
    "df = predictions.select('description','category','label','prediction').toPandas()"
   ]
  },
  {
   "cell_type": "code",
   "execution_count": null,
   "metadata": {
    "colab": {},
    "colab_type": "code",
    "id": "daLNQqgAIPSp"
   },
   "outputs": [],
   "source": [
    "df['label'] = df.category.replace({'World':2.0,\n",
    "                    'Sports':3.0,\n",
    "                    'Business':0.0,\n",
    "                    'Sci/Tech':1.0})"
   ]
  },
  {
   "cell_type": "code",
   "execution_count": null,
   "metadata": {
    "colab": {},
    "colab_type": "code",
    "id": "T4AORiLrIPSq",
    "outputId": "aae870ce-f6be-41b1-b89f-e99e39fd4900"
   },
   "outputs": [
    {
     "data": {
      "text/html": [
       "<div>\n",
       "<style scoped>\n",
       "    .dataframe tbody tr th:only-of-type {\n",
       "        vertical-align: middle;\n",
       "    }\n",
       "\n",
       "    .dataframe tbody tr th {\n",
       "        vertical-align: top;\n",
       "    }\n",
       "\n",
       "    .dataframe thead th {\n",
       "        text-align: right;\n",
       "    }\n",
       "</style>\n",
       "<table border=\"1\" class=\"dataframe\">\n",
       "  <thead>\n",
       "    <tr style=\"text-align: right;\">\n",
       "      <th></th>\n",
       "      <th>description</th>\n",
       "      <th>category</th>\n",
       "      <th>label</th>\n",
       "      <th>prediction</th>\n",
       "    </tr>\n",
       "  </thead>\n",
       "  <tbody>\n",
       "    <tr>\n",
       "      <td>0</td>\n",
       "      <td>Unions representing workers at Turner   Newall...</td>\n",
       "      <td>Business</td>\n",
       "      <td>0.0</td>\n",
       "      <td>0.0</td>\n",
       "    </tr>\n",
       "    <tr>\n",
       "      <td>1</td>\n",
       "      <td>TORONTO, Canada    A second team of rocketeer...</td>\n",
       "      <td>Sci/Tech</td>\n",
       "      <td>1.0</td>\n",
       "      <td>1.0</td>\n",
       "    </tr>\n",
       "    <tr>\n",
       "      <td>2</td>\n",
       "      <td>A company founded by a chemistry researcher a...</td>\n",
       "      <td>Sci/Tech</td>\n",
       "      <td>1.0</td>\n",
       "      <td>1.0</td>\n",
       "    </tr>\n",
       "    <tr>\n",
       "      <td>3</td>\n",
       "      <td>It's barely dawn when Mike Fitzpatrick starts...</td>\n",
       "      <td>Sci/Tech</td>\n",
       "      <td>1.0</td>\n",
       "      <td>1.0</td>\n",
       "    </tr>\n",
       "    <tr>\n",
       "      <td>4</td>\n",
       "      <td>Southern California's smog fighting agency we...</td>\n",
       "      <td>Sci/Tech</td>\n",
       "      <td>1.0</td>\n",
       "      <td>0.0</td>\n",
       "    </tr>\n",
       "  </tbody>\n",
       "</table>\n",
       "</div>"
      ],
      "text/plain": [
       "                                         description  category  label  \\\n",
       "0  Unions representing workers at Turner   Newall...  Business    0.0   \n",
       "1   TORONTO, Canada    A second team of rocketeer...  Sci/Tech    1.0   \n",
       "2   A company founded by a chemistry researcher a...  Sci/Tech    1.0   \n",
       "3   It's barely dawn when Mike Fitzpatrick starts...  Sci/Tech    1.0   \n",
       "4   Southern California's smog fighting agency we...  Sci/Tech    1.0   \n",
       "\n",
       "   prediction  \n",
       "0         0.0  \n",
       "1         1.0  \n",
       "2         1.0  \n",
       "3         1.0  \n",
       "4         0.0  "
      ]
     },
     "execution_count": 61,
     "metadata": {
      "tags": []
     },
     "output_type": "execute_result"
    }
   ],
   "source": [
    "df.head()"
   ]
  },
  {
   "cell_type": "code",
   "execution_count": null,
   "metadata": {
    "colab": {},
    "colab_type": "code",
    "id": "IZR2Hx1JIPSt",
    "outputId": "a3c2f8e4-4fd9-415d-aaec-ce4472ad5f31"
   },
   "outputs": [
    {
     "name": "stdout",
     "output_type": "stream",
     "text": [
      "              precision    recall  f1-score   support\n",
      "\n",
      "         0.0       0.83      0.83      0.83      1900\n",
      "         1.0       0.84      0.85      0.85      1900\n",
      "         2.0       0.90      0.87      0.89      1900\n",
      "         3.0       0.95      0.97      0.96      1900\n",
      "\n",
      "    accuracy                           0.88      7600\n",
      "   macro avg       0.88      0.88      0.88      7600\n",
      "weighted avg       0.88      0.88      0.88      7600\n",
      "\n",
      "0.8798684210526316\n"
     ]
    }
   ],
   "source": [
    "print(classification_report(df.label, df.prediction))\n",
    "print(accuracy_score(df.label, df.prediction))"
   ]
  },
  {
   "cell_type": "markdown",
   "metadata": {
    "colab_type": "text",
    "id": "IY19YW8pIPSu"
   },
   "source": [
    "## Spark NLP Licensed DocClassifier"
   ]
  },
  {
   "cell_type": "code",
   "execution_count": null,
   "metadata": {
    "colab": {},
    "colab_type": "code",
    "id": "66YJQISEIPSv"
   },
   "outputs": [],
   "source": [
    "from sparknlp_jsl.annotator import *"
   ]
  },
  {
   "cell_type": "code",
   "execution_count": null,
   "metadata": {
    "colab": {},
    "colab_type": "code",
    "id": "AncnnRvWIPSw",
    "outputId": "e78543ca-8c0b-48ed-e531-4b27eab495de"
   },
   "outputs": [
    {
     "name": "stdout",
     "output_type": "stream",
     "text": [
      "Training Dataset Count: 84076\n",
      "Test Dataset Count: 35924\n"
     ]
    }
   ],
   "source": [
    "# set seed for reproducibility\n",
    "(trainingData, testData) = newsDF.randomSplit([0.7, 0.3], seed = 100)\n",
    "print(\"Training Dataset Count: \" + str(trainingData.count()))\n",
    "print(\"Test Dataset Count: \" + str(testData.count()))"
   ]
  },
  {
   "cell_type": "code",
   "execution_count": null,
   "metadata": {
    "colab": {},
    "colab_type": "code",
    "id": "oEmAIit1IPSy",
    "outputId": "2affa89b-128f-4102-d1e2-8ac5ee57810b"
   },
   "outputs": [
    {
     "data": {
      "text/plain": [
       "35923"
      ]
     },
     "execution_count": 28,
     "metadata": {
      "tags": []
     },
     "output_type": "execute_result"
    }
   ],
   "source": [
    "\n",
    "document_assembler = DocumentAssembler() \\\n",
    "    .setInputCol(\"description\") \\\n",
    "    .setOutputCol(\"document\")\n",
    "    \n",
    "tokenizer = Tokenizer() \\\n",
    "  .setInputCols([\"document\"]) \\\n",
    "  .setOutputCol(\"token\")\n",
    "    \n",
    "normalizer = Normalizer() \\\n",
    "    .setInputCols([\"token\"]) \\\n",
    "    .setOutputCol(\"normalized\")\n",
    "\n",
    "stopwords_cleaner = StopWordsCleaner()\\\n",
    "      .setInputCols(\"normalized\")\\\n",
    "      .setOutputCol(\"cleanTokens\")\\\n",
    "      .setCaseSensitive(False)\n",
    "\n",
    "stemmer = Stemmer() \\\n",
    "    .setInputCols([\"cleanTokens\"]) \\\n",
    "    .setOutputCol(\"stem\")\n",
    "\n",
    "logreg = DocumentLogRegClassifierApproach()\\\n",
    "      .setInputCols([\"stem\"])\\\n",
    "      .setLabelCol(\"category\")\\\n",
    "      .setOutputCol(\"prediction\")\n",
    "\n",
    "nlp_pipeline = Pipeline(\n",
    "    stages=[document_assembler, \n",
    "            tokenizer,\n",
    "            normalizer,\n",
    "            stopwords_cleaner, \n",
    "            stemmer, \n",
    "           logreg])\n",
    "\n",
    "nlp_model = nlp_pipeline.fit(trainingData)\n",
    "\n",
    "processed = nlp_model.transform(testData)\n",
    "\n",
    "processed.count()"
   ]
  },
  {
   "cell_type": "code",
   "execution_count": null,
   "metadata": {
    "colab": {},
    "colab_type": "code",
    "id": "2fHB9meKIPS0",
    "outputId": "1a70ea96-b440-4922-c742-34763f7aa965"
   },
   "outputs": [
    {
     "name": "stdout",
     "output_type": "stream",
     "text": [
      "+--------------------------------------------------+--------+----------+\n",
      "|                                       description|category|    result|\n",
      "+--------------------------------------------------+--------+----------+\n",
      "|  In a city where terror attacks and a massive ...|Business|[Business]|\n",
      "|  It sure isn #39;t the Goldilocks Economy of y...|Business|[Business]|\n",
      "|, 8/30/2004. With 90 nanometer chips now on the...|Business|[Sci/Tech]|\n",
      "|National Grid Transco, the Britain-based delive...|Business|[Business]|\n",
      "| quot;A person who has been cheated is left in ...|Sci/Tech|[Sci/Tech]|\n",
      "|\" In its ongoing war with SCO over Linux and Un...|Sci/Tech|[Sci/Tech]|\n",
      "|A bacteria-eating virus is the star of a new vi...|Sci/Tech|[Sci/Tech]|\n",
      "|Birdman of Belair Mathew Tekulsky waxes on the ...|Sci/Tech|[Sci/Tech]|\n",
      "|Computer maker sees to recover \\$8.6 million in...|Sci/Tech|[Sci/Tech]|\n",
      "|Hurricane Frances spared NASA #39;s depleted sh...|Sci/Tech|[Sci/Tech]|\n",
      "|In a study, the now-public search engine out-ra...|Sci/Tech|[Sci/Tech]|\n",
      "|New York, August 31: US technology executives a...|Sci/Tech|[Sci/Tech]|\n",
      "|Ordinary mice can be turned into marathon racer...|Sci/Tech|[Sci/Tech]|\n",
      "|Plagued by delays and cost overruns, a \\$5.1 bi...|Sci/Tech|  [Sports]|\n",
      "|Worldwide server revenue surpassed 11.5 billion...|Sci/Tech|[Sci/Tech]|\n",
      "| Aramis Ramirez hit a three run homer  as the C...|  Sports|  [Sports]|\n",
      "|After spending most of the spring and fall pres...|  Sports|  [Sports]|\n",
      "|Fani Halkia #39;s victory in the Olympics women...|  Sports|  [Sports]|\n",
      "| A military judge hearing evidence about the al...|   World|   [World]|\n",
      "| Israel plans to build more than 530  new settl...|   World|   [World]|\n",
      "+--------------------------------------------------+--------+----------+\n",
      "only showing top 20 rows\n",
      "\n"
     ]
    }
   ],
   "source": [
    "processed.select('description','category','prediction.result').show(truncate=50)"
   ]
  },
  {
   "cell_type": "code",
   "execution_count": null,
   "metadata": {
    "colab": {},
    "colab_type": "code",
    "id": "iX5PnC-SIPS1",
    "outputId": "8607c6f1-c02c-488d-b9a5-62795f1985d8"
   },
   "outputs": [
    {
     "name": "stdout",
     "output_type": "stream",
     "text": [
      "+--------------------------------------------------+----------+\n",
      "|                                       description|    result|\n",
      "+--------------------------------------------------+----------+\n",
      "|  In a city where terror attacks and a massive ...|[Business]|\n",
      "|  It sure isn #39;t the Goldilocks Economy of y...|[Business]|\n",
      "|, 8/30/2004. With 90 nanometer chips now on the...|[Sci/Tech]|\n",
      "|National Grid Transco, the Britain-based delive...|[Business]|\n",
      "| quot;A person who has been cheated is left in ...|[Sci/Tech]|\n",
      "|\" In its ongoing war with SCO over Linux and Un...|[Sci/Tech]|\n",
      "|A bacteria-eating virus is the star of a new vi...|[Sci/Tech]|\n",
      "|Birdman of Belair Mathew Tekulsky waxes on the ...|[Sci/Tech]|\n",
      "|Computer maker sees to recover \\$8.6 million in...|[Sci/Tech]|\n",
      "|Hurricane Frances spared NASA #39;s depleted sh...|[Sci/Tech]|\n",
      "|In a study, the now-public search engine out-ra...|[Sci/Tech]|\n",
      "|New York, August 31: US technology executives a...|[Sci/Tech]|\n",
      "|Ordinary mice can be turned into marathon racer...|[Sci/Tech]|\n",
      "|Plagued by delays and cost overruns, a \\$5.1 bi...|  [Sports]|\n",
      "|Worldwide server revenue surpassed 11.5 billion...|[Sci/Tech]|\n",
      "| Aramis Ramirez hit a three run homer  as the C...|  [Sports]|\n",
      "|After spending most of the spring and fall pres...|  [Sports]|\n",
      "|Fani Halkia #39;s victory in the Olympics women...|  [Sports]|\n",
      "| A military judge hearing evidence about the al...|   [World]|\n",
      "| Israel plans to build more than 530  new settl...|   [World]|\n",
      "+--------------------------------------------------+----------+\n",
      "only showing top 20 rows\n",
      "\n"
     ]
    }
   ],
   "source": [
    "processed.select('description','prediction.result').show(truncate=50)"
   ]
  },
  {
   "cell_type": "code",
   "execution_count": null,
   "metadata": {
    "colab": {},
    "colab_type": "code",
    "id": "kqyiWbFzIPS2"
   },
   "outputs": [],
   "source": [
    "from sklearn.metrics import confusion_matrix, classification_report, accuracy_score\n",
    "import pandas as pd"
   ]
  },
  {
   "cell_type": "code",
   "execution_count": null,
   "metadata": {
    "colab": {},
    "colab_type": "code",
    "id": "iWVkVKcfIPS4"
   },
   "outputs": [],
   "source": [
    "df = processed.select('description','category','prediction.result').toPandas()"
   ]
  },
  {
   "cell_type": "code",
   "execution_count": null,
   "metadata": {
    "colab": {},
    "colab_type": "code",
    "id": "9jLQjD5uIPS5",
    "outputId": "e9d533c7-bdb6-407e-f797-127f86019d81"
   },
   "outputs": [
    {
     "data": {
      "text/html": [
       "<div>\n",
       "<style scoped>\n",
       "    .dataframe tbody tr th:only-of-type {\n",
       "        vertical-align: middle;\n",
       "    }\n",
       "\n",
       "    .dataframe tbody tr th {\n",
       "        vertical-align: top;\n",
       "    }\n",
       "\n",
       "    .dataframe thead th {\n",
       "        text-align: right;\n",
       "    }\n",
       "</style>\n",
       "<table border=\"1\" class=\"dataframe\">\n",
       "  <thead>\n",
       "    <tr style=\"text-align: right;\">\n",
       "      <th></th>\n",
       "      <th>description</th>\n",
       "      <th>category</th>\n",
       "      <th>result</th>\n",
       "    </tr>\n",
       "  </thead>\n",
       "  <tbody>\n",
       "    <tr>\n",
       "      <td>0</td>\n",
       "      <td>In a city where terror attacks and a massive...</td>\n",
       "      <td>Business</td>\n",
       "      <td>[Business]</td>\n",
       "    </tr>\n",
       "    <tr>\n",
       "      <td>1</td>\n",
       "      <td>It sure isn #39;t the Goldilocks Economy of ...</td>\n",
       "      <td>Business</td>\n",
       "      <td>[Business]</td>\n",
       "    </tr>\n",
       "    <tr>\n",
       "      <td>2</td>\n",
       "      <td>, 8/30/2004. With 90 nanometer chips now on th...</td>\n",
       "      <td>Business</td>\n",
       "      <td>[Sci/Tech]</td>\n",
       "    </tr>\n",
       "    <tr>\n",
       "      <td>3</td>\n",
       "      <td>National Grid Transco, the Britain-based deliv...</td>\n",
       "      <td>Business</td>\n",
       "      <td>[Business]</td>\n",
       "    </tr>\n",
       "    <tr>\n",
       "      <td>4</td>\n",
       "      <td>quot;A person who has been cheated is left in...</td>\n",
       "      <td>Sci/Tech</td>\n",
       "      <td>[Sci/Tech]</td>\n",
       "    </tr>\n",
       "  </tbody>\n",
       "</table>\n",
       "</div>"
      ],
      "text/plain": [
       "                                         description  category      result\n",
       "0    In a city where terror attacks and a massive...  Business  [Business]\n",
       "1    It sure isn #39;t the Goldilocks Economy of ...  Business  [Business]\n",
       "2  , 8/30/2004. With 90 nanometer chips now on th...  Business  [Sci/Tech]\n",
       "3  National Grid Transco, the Britain-based deliv...  Business  [Business]\n",
       "4   quot;A person who has been cheated is left in...  Sci/Tech  [Sci/Tech]"
      ]
     },
     "execution_count": 40,
     "metadata": {
      "tags": []
     },
     "output_type": "execute_result"
    }
   ],
   "source": [
    "df.head()"
   ]
  },
  {
   "cell_type": "code",
   "execution_count": null,
   "metadata": {
    "colab": {},
    "colab_type": "code",
    "id": "6PY-TpDKIPS6",
    "outputId": "f178b286-70d7-44b6-b4a5-e251538afc29"
   },
   "outputs": [
    {
     "data": {
      "text/plain": [
       "'Business'"
      ]
     },
     "execution_count": 42,
     "metadata": {
      "tags": []
     },
     "output_type": "execute_result"
    }
   ],
   "source": [
    "df.result[0][0]"
   ]
  },
  {
   "cell_type": "code",
   "execution_count": null,
   "metadata": {
    "colab": {},
    "colab_type": "code",
    "id": "N48rE1hAIPS8"
   },
   "outputs": [],
   "source": [
    "df = processed.select('description','category','prediction.result').toPandas()\n",
    "df['result'] = df['result'].apply(lambda x: x[0])"
   ]
  },
  {
   "cell_type": "code",
   "execution_count": null,
   "metadata": {
    "colab": {},
    "colab_type": "code",
    "id": "PpPlewPVIPS9",
    "outputId": "824d5af8-36fa-4129-ea71-1cfb5ddaf06e"
   },
   "outputs": [
    {
     "data": {
      "text/html": [
       "<div>\n",
       "<style scoped>\n",
       "    .dataframe tbody tr th:only-of-type {\n",
       "        vertical-align: middle;\n",
       "    }\n",
       "\n",
       "    .dataframe tbody tr th {\n",
       "        vertical-align: top;\n",
       "    }\n",
       "\n",
       "    .dataframe thead th {\n",
       "        text-align: right;\n",
       "    }\n",
       "</style>\n",
       "<table border=\"1\" class=\"dataframe\">\n",
       "  <thead>\n",
       "    <tr style=\"text-align: right;\">\n",
       "      <th></th>\n",
       "      <th>description</th>\n",
       "      <th>category</th>\n",
       "      <th>result</th>\n",
       "    </tr>\n",
       "  </thead>\n",
       "  <tbody>\n",
       "    <tr>\n",
       "      <td>0</td>\n",
       "      <td>In a city where terror attacks and a massive...</td>\n",
       "      <td>Business</td>\n",
       "      <td>Business</td>\n",
       "    </tr>\n",
       "    <tr>\n",
       "      <td>1</td>\n",
       "      <td>It sure isn #39;t the Goldilocks Economy of ...</td>\n",
       "      <td>Business</td>\n",
       "      <td>Business</td>\n",
       "    </tr>\n",
       "    <tr>\n",
       "      <td>2</td>\n",
       "      <td>, 8/30/2004. With 90 nanometer chips now on th...</td>\n",
       "      <td>Business</td>\n",
       "      <td>Sci/Tech</td>\n",
       "    </tr>\n",
       "    <tr>\n",
       "      <td>3</td>\n",
       "      <td>National Grid Transco, the Britain-based deliv...</td>\n",
       "      <td>Business</td>\n",
       "      <td>Business</td>\n",
       "    </tr>\n",
       "    <tr>\n",
       "      <td>4</td>\n",
       "      <td>quot;A person who has been cheated is left in...</td>\n",
       "      <td>Sci/Tech</td>\n",
       "      <td>Sci/Tech</td>\n",
       "    </tr>\n",
       "  </tbody>\n",
       "</table>\n",
       "</div>"
      ],
      "text/plain": [
       "                                         description  category    result\n",
       "0    In a city where terror attacks and a massive...  Business  Business\n",
       "1    It sure isn #39;t the Goldilocks Economy of ...  Business  Business\n",
       "2  , 8/30/2004. With 90 nanometer chips now on th...  Business  Sci/Tech\n",
       "3  National Grid Transco, the Britain-based deliv...  Business  Business\n",
       "4   quot;A person who has been cheated is left in...  Sci/Tech  Sci/Tech"
      ]
     },
     "execution_count": 44,
     "metadata": {
      "tags": []
     },
     "output_type": "execute_result"
    }
   ],
   "source": [
    "df.head()"
   ]
  },
  {
   "cell_type": "code",
   "execution_count": null,
   "metadata": {
    "colab": {},
    "colab_type": "code",
    "id": "EbFttFExIPTA",
    "outputId": "b6932aa0-3389-466e-ceb9-c983f23ad3ba"
   },
   "outputs": [
    {
     "name": "stdout",
     "output_type": "stream",
     "text": [
      "              precision    recall  f1-score   support\n",
      "\n",
      "    Business       0.82      0.82      0.82      8915\n",
      "    Sci/Tech       0.83      0.83      0.83      9018\n",
      "      Sports       0.94      0.93      0.93      9002\n",
      "       World       0.86      0.86      0.86      8988\n",
      "\n",
      "    accuracy                           0.86     35923\n",
      "   macro avg       0.86      0.86      0.86     35923\n",
      "weighted avg       0.86      0.86      0.86     35923\n",
      "\n",
      "0.8612588035520419\n"
     ]
    }
   ],
   "source": [
    "\n",
    "df = processed.select('description','category','prediction.result').toPandas()\n",
    "df['result'] = df['result'].apply(lambda x: x[0])\n",
    "\n",
    "print(classification_report(df.category, df.result))\n",
    "print(accuracy_score(df.category, df.result))"
   ]
  },
  {
   "cell_type": "markdown",
   "metadata": {
    "colab_type": "text",
    "id": "regAngWEIPTB"
   },
   "source": [
    "# ClassifierDL"
   ]
  },
  {
   "cell_type": "code",
   "execution_count": null,
   "metadata": {
    "colab": {},
    "colab_type": "code",
    "id": "8RfV7lB_IPTB"
   },
   "outputs": [],
   "source": [
    "# actual content is inside description column\n",
    "document = DocumentAssembler()\\\n",
    "    .setInputCol(\"description\")\\\n",
    "    .setOutputCol(\"document\")\n",
    "\n",
    "use = UniversalSentenceEncoder.load('/Users/vkocaman/cache_pretrained/tfhub_use_en_2.4.4_2.4_1583158595769')\\\n",
    " .setInputCols([\"document\"])\\\n",
    " .setOutputCol(\"sentence_embeddings\")\n",
    "\n",
    "# the classes/labels/categories are in category column\n",
    "classsifierdl = ClassifierDLApproach()\\\n",
    "  .setInputCols([\"sentence_embeddings\"])\\\n",
    "  .setOutputCol(\"class\")\\\n",
    "  .setLabelColumn(\"category\")\\\n",
    "  .setMaxEpochs(5)\\\n",
    "  .setEnableOutputLogs(True)\n",
    "\n",
    "pipeline = Pipeline(\n",
    "    stages = [\n",
    "        document,\n",
    "        use,\n",
    "        classsifierdl\n",
    "    ])"
   ]
  },
  {
   "cell_type": "code",
   "execution_count": null,
   "metadata": {
    "colab": {},
    "colab_type": "code",
    "id": "4A_zgocgIPTD",
    "outputId": "019483c4-92fb-4cb3-a6eb-c84c847aba68"
   },
   "outputs": [
    {
     "name": "stdout",
     "output_type": "stream",
     "text": [
      "Training Dataset Count: 84045\n",
      "Test Dataset Count: 35955\n"
     ]
    }
   ],
   "source": [
    "# set seed for reproducibility\n",
    "(trainingData, testData) = newsDF.randomSplit([0.7, 0.3], seed = 100)\n",
    "print(\"Training Dataset Count: \" + str(trainingData.count()))\n",
    "print(\"Test Dataset Count: \" + str(testData.count()))"
   ]
  },
  {
   "cell_type": "code",
   "execution_count": null,
   "metadata": {
    "colab": {},
    "colab_type": "code",
    "id": "H47jOwwCIPTG"
   },
   "outputs": [],
   "source": [
    "pipelineModel = pipeline.fit(trainingData)"
   ]
  },
  {
   "cell_type": "code",
   "execution_count": null,
   "metadata": {
    "colab": {},
    "colab_type": "code",
    "id": "NGI1c50EIPTH",
    "outputId": "3f83bf7a-7051-4f5a-a559-252cdbadbfd5"
   },
   "outputs": [
    {
     "name": "stdout",
     "output_type": "stream",
     "text": [
      "              precision    recall  f1-score   support\n",
      "\n",
      "    Business       0.85      0.84      0.85      8911\n",
      "    Sci/Tech       0.85      0.87      0.86      8973\n",
      "      Sports       0.95      0.98      0.97      9063\n",
      "       World       0.92      0.88      0.90      9008\n",
      "\n",
      "    accuracy                           0.89     35955\n",
      "   macro avg       0.89      0.89      0.89     35955\n",
      "weighted avg       0.89      0.89      0.89     35955\n",
      "\n",
      "0.8930329578639966\n"
     ]
    }
   ],
   "source": [
    "from sklearn.metrics import classification_report, accuracy_score\n",
    "\n",
    "df = pipelineModel.transform(testDataset).select('category','description',\"class.result\").toPandas()\n",
    "\n",
    "df['result'] = df['result'].apply(lambda x: x[0])\n",
    "\n",
    "print(classification_report(df.category, df.result))\n",
    "print(accuracy_score(df.category, df.result))"
   ]
  },
  {
   "cell_type": "markdown",
   "metadata": {
    "colab_type": "text",
    "id": "GkeFxX8tIPTJ"
   },
   "source": [
    "## Loading the trained classifier from disk"
   ]
  },
  {
   "cell_type": "code",
   "execution_count": null,
   "metadata": {
    "colab": {},
    "colab_type": "code",
    "id": "1VOg7XsKIPTJ"
   },
   "outputs": [],
   "source": [
    "classsifierdlmodel = ClassifierDLModel.load('classifierDL_model_20200317_5e')\n",
    " "
   ]
  },
  {
   "cell_type": "code",
   "execution_count": null,
   "metadata": {
    "colab": {},
    "colab_type": "code",
    "id": "ACf2NVAkIPTK",
    "outputId": "31585a2c-f301-4392-c370-afff23ed43ce"
   },
   "outputs": [
    {
     "data": {
      "text/plain": [
       "['/Users/vkocaman/anaconda3/lib/python3.7/site-packages/sparknlp']"
      ]
     },
     "execution_count": 3,
     "metadata": {
      "tags": []
     },
     "output_type": "execute_result"
    }
   ],
   "source": [
    "import sparknlp\n",
    "sparknlp.__path__"
   ]
  },
  {
   "cell_type": "code",
   "execution_count": null,
   "metadata": {
    "colab": {},
    "colab_type": "code",
    "id": "Q81gbD7tIPTL"
   },
   "outputs": [],
   "source": [
    " .setInputCols([\"sentence_embeddings\"])\\\n",
    "  .setOutputCol(\"class\")\\\n",
    "  .setLabelColumn(\"category\")\\\n",
    "  .setMaxEpochs(5)\\\n",
    "  .setEnableOutputLogs(True)"
   ]
  },
  {
   "cell_type": "code",
   "execution_count": null,
   "metadata": {
    "colab": {},
    "colab_type": "code",
    "id": "vS0TSHm9IPTM"
   },
   "outputs": [],
   "source": [
    "trainDataset = spark.read \\\n",
    "      .option(\"header\", True) \\\n",
    "      .csv(\"data/news_category_train.csv\")"
   ]
  },
  {
   "cell_type": "code",
   "execution_count": null,
   "metadata": {
    "colab": {},
    "colab_type": "code",
    "id": "8_mc12vtIPTO",
    "outputId": "1024eb2f-ce99-44f7-b7bd-0735cb75e05b"
   },
   "outputs": [
    {
     "data": {
      "text/plain": [
       "120000"
      ]
     },
     "execution_count": 20,
     "metadata": {
      "tags": []
     },
     "output_type": "execute_result"
    }
   ],
   "source": [
    "trainDataset.count()"
   ]
  },
  {
   "cell_type": "code",
   "execution_count": null,
   "metadata": {
    "colab": {},
    "colab_type": "code",
    "id": "cGFoCY9WIPTP",
    "outputId": "7d1d03d9-984d-4376-984d-784c4cb11560"
   },
   "outputs": [
    {
     "data": {
      "text/plain": [
       "84045"
      ]
     },
     "execution_count": 21,
     "metadata": {
      "tags": []
     },
     "output_type": "execute_result"
    }
   ],
   "source": [
    "trainingData.count()"
   ]
  },
  {
   "cell_type": "code",
   "execution_count": null,
   "metadata": {
    "colab": {},
    "colab_type": "code",
    "id": "ZkStUCiJIPTR"
   },
   "outputs": [],
   "source": [
    "document = DocumentAssembler()\\\n",
    "    .setInputCol(\"description\")\\\n",
    "    .setOutputCol(\"document\")\n",
    "\n",
    "\n",
    "sentence = SentenceDetector()\\\n",
    "    .setInputCols(['document'])\\\n",
    "    .setOutputCol('sentence')\n",
    "\n",
    "use = UniversalSentenceEncoder.load('/Users/vkocaman/cache_pretrained/tfhub_use_en_2.4.4_2.4_1583158595769')\\\n",
    " .setInputCols([\"sentence\"])\\\n",
    " .setOutputCol(\"sentence_embeddings\")\n",
    "\n",
    "classsifierdlmodel = ClassifierDLModel.load('classifierDL_model_20200317_5e')\n",
    "\n",
    "pipeline = Pipeline(\n",
    "    stages = [\n",
    "        document,\n",
    "        sentence,\n",
    "        use,\n",
    "        classsifierdlmodel\n",
    "    ])"
   ]
  },
  {
   "cell_type": "code",
   "execution_count": null,
   "metadata": {
    "colab": {},
    "colab_type": "code",
    "id": "LRk7zctqIPTS",
    "outputId": "711093f5-bd17-433d-abab-fbf06f596aa8"
   },
   "outputs": [
    {
     "name": "stdout",
     "output_type": "stream",
     "text": [
      "+--------+--------------------------------------------------+----------+\n",
      "|category|                                       description|    result|\n",
      "+--------+--------------------------------------------------+----------+\n",
      "|Business|  A federal judge on Monday stayed his own ruli...|[Business]|\n",
      "|Business|  A half dozen executives of Yukos, the embattl...|[Business]|\n",
      "|Business|  A labor dispute may sideline professional hoc...|[Business]|\n",
      "|Business|  A ruling from the World Trade Organization co...|[Business]|\n",
      "|Business|  American Airlines has unveiled a new simplifi...|[Business]|\n",
      "|Business|  Anglo Aussie miner BHP Billiton (BHP) (UK:BLT...|[Business]|\n",
      "|Business|  Another group of investors hit beleaguered mo...|[Business]|\n",
      "|Business|  At a sponsors' meeting of MIT Sloan School's ...|[Business]|\n",
      "|Business|  Blockbuster Inc. wants to acquire rival Holly...|[Business]|\n",
      "|Business|  Bolstered by investors, Oracle Corp. appears ...|[Business]|\n",
      "+--------+--------------------------------------------------+----------+\n",
      "\n"
     ]
    }
   ],
   "source": [
    "pipeline.fit(testData.limit(1)).transform(testData.limit(10)).select('category','description',\"class.result\").show(10, truncate=50)"
   ]
  },
  {
   "cell_type": "code",
   "execution_count": null,
   "metadata": {
    "colab": {},
    "colab_type": "code",
    "id": "04z0AN66IPTT",
    "outputId": "dad45cc5-8dd4-4d02-c683-cab45e307d87"
   },
   "outputs": [
    {
     "data": {
      "text/plain": [
       "{'document': ['In its first two years, the UK dedicated card companies have surge'],\n",
       " 'sentence_embeddings': ['In its first two years, the UK dedicated card companies have surge'],\n",
       " 'class': ['Sci/Tech']}"
      ]
     },
     "execution_count": 12,
     "metadata": {
      "tags": []
     },
     "output_type": "execute_result"
    }
   ],
   "source": [
    "lm = LightPipeline(pipeline.fit(testDataset.limit(1)))\n",
    "lm.annotate('In its first two years, the UK dedicated card companies have surge')"
   ]
  },
  {
   "cell_type": "code",
   "execution_count": null,
   "metadata": {
    "colab": {},
    "colab_type": "code",
    "id": "pzdks_VjIPTV"
   },
   "outputs": [],
   "source": [
    "text='''\n",
    "Fearing the fate of Italy, the centre-right government has threatened to be merciless with those who flout tough restrictions. As of Wednesday it will also include all shops being closed across Greece, with the exception of supermarkets. Banks, pharmacies, pet-stores, mobile phone stores, opticians, bakers, mini-markets, couriers and food delivery outlets are among the few that will also be allowed to remain open.\n",
    "'''"
   ]
  },
  {
   "cell_type": "code",
   "execution_count": null,
   "metadata": {
    "colab": {},
    "colab_type": "code",
    "id": "eltINENfIPTW",
    "outputId": "a2c7a310-9040-41d4-93e5-2385cc9b451d"
   },
   "outputs": [
    {
     "data": {
      "text/plain": [
       "{'document': ['\\nFearing the fate of Italy, the centre-right government has threatened to be merciless with those who flout tough restrictions. As of Wednesday it will also include all shops being closed across Greece, with the exception of supermarkets. Banks, pharmacies, pet-stores, mobile phone stores, opticians, bakers, mini-markets, couriers and food delivery outlets are among the few that will also be allowed to remain open.\\n'],\n",
       " 'sentence': ['Fearing the fate of Italy, the centre-right government has threatened to be merciless with those who flout tough restrictions.',\n",
       "  'As of Wednesday it will also include all shops being closed across Greece, with the exception of supermarkets.',\n",
       "  'Banks, pharmacies, pet-stores, mobile phone stores, opticians, bakers, mini-markets, couriers and food delivery outlets are among the few that will also be allowed to remain open.'],\n",
       " 'sentence_embeddings': ['Fearing the fate of Italy, the centre-right government has threatened to be merciless with those who flout tough restrictions.',\n",
       "  'As of Wednesday it will also include all shops being closed across Greece, with the exception of supermarkets.',\n",
       "  'Banks, pharmacies, pet-stores, mobile phone stores, opticians, bakers, mini-markets, couriers and food delivery outlets are among the few that will also be allowed to remain open.'],\n",
       " 'class': ['World', 'World', 'World']}"
      ]
     },
     "execution_count": 17,
     "metadata": {
      "tags": []
     },
     "output_type": "execute_result"
    }
   ],
   "source": [
    "lm = LightPipeline(pipeline.fit(testDataset.limit(1)))\n",
    "\n",
    "lm.annotate(text)"
   ]
  },
  {
   "cell_type": "markdown",
   "metadata": {
    "colab_type": "text",
    "id": "UXXfKtIrIPTY"
   },
   "source": [
    "# Classifier DL + Glove + Basic text processing"
   ]
  },
  {
   "cell_type": "code",
   "execution_count": null,
   "metadata": {
    "colab": {},
    "colab_type": "code",
    "id": "KAPb8TqgIPTY"
   },
   "outputs": [],
   "source": []
  },
  {
   "cell_type": "code",
   "execution_count": null,
   "metadata": {
    "colab": {},
    "colab_type": "code",
    "id": "boEt-9goIPTZ",
    "outputId": "d10500a8-379b-4a5f-8a30-7340d2a778a5"
   },
   "outputs": [
    {
     "name": "stdout",
     "output_type": "stream",
     "text": [
      "lemma_antbnc download started this may take some time.\n",
      "Approximate size to download 907.6 KB\n",
      "[OK!]\n"
     ]
    }
   ],
   "source": [
    "tokenizer = Tokenizer() \\\n",
    "  .setInputCols([\"document\"]) \\\n",
    "  .setOutputCol(\"token\")\n",
    "\n",
    "lemma = LemmatizerModel.pretrained('lemma_antbnc') \\\n",
    "    .setInputCols([\"token\"]) \\\n",
    "    .setOutputCol(\"lemma\")\n",
    "\n",
    "lemma_pipeline = Pipeline(\n",
    "    stages=[document_assembler, \n",
    "            tokenizer,\n",
    "            lemma,\n",
    "           glove_embeddings])"
   ]
  },
  {
   "cell_type": "code",
   "execution_count": null,
   "metadata": {
    "colab": {},
    "colab_type": "code",
    "id": "_yAmuyKPIPTc",
    "outputId": "7f59d7f0-50da-4284-a581-904764cb7774"
   },
   "outputs": [
    {
     "name": "stdout",
     "output_type": "stream",
     "text": [
      "+--------+------------------------------+------------------------------+------------------------------+------------------------------+------------------------------+\n",
      "|category|                   description|                      document|                         token|                         lemma|                    embeddings|\n",
      "+--------+------------------------------+------------------------------+------------------------------+------------------------------+------------------------------+\n",
      "|Business|  #39;Tis the season to buy...|[[document, 0, 141,   #39;T...|[[token, 2, 8, #39;Tis, [se...|[[token, 2, 8, #39;Tis, [se...|[[word_embeddings, 2, 8, #3...|\n",
      "|Business|  A Delaware judge rejected...|[[document, 0, 161,   A Del...|[[token, 2, 2, A, [sentence...|[[token, 2, 2, A, [sentence...|[[word_embeddings, 2, 2, A,...|\n",
      "|Business|  A Food and Drug Administr...|[[document, 0, 140,   A Foo...|[[token, 2, 2, A, [sentence...|[[token, 2, 2, A, [sentence...|[[word_embeddings, 2, 2, A,...|\n",
      "|Business|  A House Senate conference...|[[document, 0, 243,   A Hou...|[[token, 2, 2, A, [sentence...|[[token, 2, 2, A, [sentence...|[[word_embeddings, 2, 2, A,...|\n",
      "|Business|  A flight from Paris bound...|[[document, 0, 162,   A fli...|[[token, 2, 2, A, [sentence...|[[token, 2, 2, A, [sentence...|[[word_embeddings, 2, 2, A,...|\n",
      "|Business|  A former chief financial ...|[[document, 0, 200,   A for...|[[token, 2, 2, A, [sentence...|[[token, 2, 2, A, [sentence...|[[word_embeddings, 2, 2, A,...|\n",
      "|Business|  A veteran Food and Drug A...|[[document, 0, 272,   A vet...|[[token, 2, 2, A, [sentence...|[[token, 2, 2, A, [sentence...|[[word_embeddings, 2, 2, A,...|\n",
      "|Business|  About 3,000 shoppers were...|[[document, 0, 157,   About...|[[token, 2, 6, About, [sent...|[[token, 2, 6, About, [sent...|[[word_embeddings, 2, 6, Ab...|\n",
      "|Business|  After investing roughly  ...|[[document, 0, 207,   After...|[[token, 2, 6, After, [sent...|[[token, 2, 6, After, [sent...|[[word_embeddings, 2, 6, Af...|\n",
      "|Business|  Agilent Technologies Inc....|[[document, 0, 207,   Agile...|[[token, 2, 8, Agilent, [se...|[[token, 2, 8, Agilent, [se...|[[word_embeddings, 2, 8, Ag...|\n",
      "|Business|  America's trade deficit i...|[[document, 0, 253,   Ameri...|[[token, 2, 10, America's, ...|[[token, 2, 10, America's, ...|[[word_embeddings, 2, 10, A...|\n",
      "|Business|  American International Gr...|[[document, 0, 203,   Ameri...|[[token, 2, 9, American, [s...|[[token, 2, 9, American, [s...|[[word_embeddings, 2, 9, Am...|\n",
      "|Business|  An airline #39;s on time ...|[[document, 0, 191,   An ai...|[[token, 2, 3, An, [sentenc...|[[token, 2, 3, An, [sentenc...|[[word_embeddings, 2, 3, An...|\n",
      "|Business|  As the deadline for what ...|[[document, 0, 234,   As th...|[[token, 2, 3, As, [sentenc...|[[token, 2, 3, As, [sentenc...|[[word_embeddings, 2, 3, As...|\n",
      "|Business|  Australia #39;s jobless r...|[[document, 0, 122,   Austr...|[[token, 2, 10, Australia, ...|[[token, 2, 10, Australia, ...|[[word_embeddings, 2, 10, A...|\n",
      "|Business|  Bacardi Ltd. Monday said ...|[[document, 0, 154,   Bacar...|[[token, 2, 8, Bacardi, [se...|[[token, 2, 8, Bacardi, [se...|[[word_embeddings, 2, 8, Ba...|\n",
      "|Business|  Blockbuster Inc. , facing...|[[document, 0, 219,   Block...|[[token, 2, 12, Blockbuster...|[[token, 2, 12, Blockbuster...|[[word_embeddings, 2, 12, B...|\n",
      "|Business|  Bombardier Inc. shares fe...|[[document, 0, 222,   Bomba...|[[token, 2, 11, Bombardier,...|[[token, 2, 11, Bombardier,...|[[word_embeddings, 2, 11, B...|\n",
      "|Business|  Britain #39;s largest fix...|[[document, 0, 133,   Brita...|[[token, 2, 8, Britain, [se...|[[token, 2, 8, Britain, [se...|[[word_embeddings, 2, 8, Br...|\n",
      "|Business|  British bank HSBC may mak...|[[document, 0, 176,   Briti...|[[token, 2, 8, British, [se...|[[token, 2, 8, British, [se...|[[word_embeddings, 2, 8, Br...|\n",
      "+--------+------------------------------+------------------------------+------------------------------+------------------------------+------------------------------+\n",
      "only showing top 20 rows\n",
      "\n"
     ]
    }
   ],
   "source": [
    "lemma_pipeline.fit(trainingData.limit(1000)).transform(trainingData.limit(1000)).show(truncate=30)"
   ]
  },
  {
   "cell_type": "code",
   "execution_count": null,
   "metadata": {
    "colab": {},
    "colab_type": "code",
    "id": "Y22Ln3U1IPTe",
    "outputId": "fefbf07d-1cee-497b-a195-e3fad7e89100"
   },
   "outputs": [
    {
     "name": "stdout",
     "output_type": "stream",
     "text": [
      "lemma_antbnc download started this may take some time.\n",
      "Approximate size to download 907.6 KB\n",
      "[OK!]\n",
      "glove_100d download started this may take some time.\n",
      "Approximate size to download 145.3 MB\n",
      "[OK!]\n"
     ]
    }
   ],
   "source": [
    "document_assembler = DocumentAssembler() \\\n",
    "    .setInputCol(\"description\") \\\n",
    "    .setOutputCol(\"document\")\n",
    "    \n",
    "tokenizer = Tokenizer() \\\n",
    "  .setInputCols([\"document\"]) \\\n",
    "  .setOutputCol(\"token\")\n",
    "    \n",
    "normalizer = Normalizer() \\\n",
    "    .setInputCols([\"token\"]) \\\n",
    "    .setOutputCol(\"normalized\")\n",
    "\n",
    "stopwords_cleaner = StopWordsCleaner()\\\n",
    "      .setInputCols(\"normalized\")\\\n",
    "      .setOutputCol(\"cleanTokens\")\\\n",
    "      .setCaseSensitive(False)\n",
    "\n",
    "lemma = LemmatizerModel.pretrained('lemma_antbnc') \\\n",
    "    .setInputCols([\"cleanTokens\"]) \\\n",
    "    .setOutputCol(\"lemma\")\n",
    "\n",
    "glove_embeddings = WordEmbeddingsModel().pretrained() \\\n",
    " .setInputCols([\"document\",'lemma'])\\\n",
    " .setOutputCol(\"embeddings\")\\\n",
    " .setCaseSensitive(False)\n",
    "\n",
    "embeddingsSentence = SentenceEmbeddings() \\\n",
    "      .setInputCols([\"document\", \"embeddings\"]) \\\n",
    "      .setOutputCol(\"sentence_embeddings\") \\\n",
    "      .setPoolingStrategy(\"AVERAGE\")\n",
    "\n",
    "classsifierdl = ClassifierDLApproach()\\\n",
    "  .setInputCols([\"sentence_embeddings\"])\\\n",
    "  .setOutputCol(\"class\")\\\n",
    "  .setLabelColumn(\"category\")\\\n",
    "  .setMaxEpochs(10)\\\n",
    "  .setEnableOutputLogs(True)\n",
    "\n",
    "clf_pipeline = Pipeline(\n",
    "    stages=[document_assembler, \n",
    "            tokenizer,\n",
    "            normalizer,\n",
    "            stopwords_cleaner, \n",
    "            lemma, \n",
    "            glove_embeddings,\n",
    "            embeddingsSentence,\n",
    "            classsifierdl])"
   ]
  },
  {
   "cell_type": "code",
   "execution_count": null,
   "metadata": {
    "colab": {},
    "colab_type": "code",
    "id": "Nkk_c53gIPTf"
   },
   "outputs": [],
   "source": [
    "!rm -rf classifier_dl_pipeline_glove"
   ]
  },
  {
   "cell_type": "code",
   "execution_count": null,
   "metadata": {
    "colab": {},
    "colab_type": "code",
    "id": "81fkjlNaIPTh"
   },
   "outputs": [],
   "source": [
    "clf_pipelineModel.save('classifier_dl_pipeline_glove')"
   ]
  },
  {
   "cell_type": "code",
   "execution_count": null,
   "metadata": {
    "colab": {},
    "colab_type": "code",
    "id": "BJdGzsWcIPTk"
   },
   "outputs": [],
   "source": [
    "clf_pipelineModel = clf_pipeline.fit(trainingData)"
   ]
  },
  {
   "cell_type": "code",
   "execution_count": null,
   "metadata": {
    "colab": {},
    "colab_type": "code",
    "id": "HX7wxbU0IPTl",
    "outputId": "58dc14e3-6711-456c-8fc0-91402f31ae7d"
   },
   "outputs": [
    {
     "name": "stdout",
     "output_type": "stream",
     "text": [
      "              precision    recall  f1-score   support\n",
      "\n",
      "    Business       0.85      0.82      0.83      8911\n",
      "    Sci/Tech       0.81      0.89      0.85      8973\n",
      "      Sports       0.95      0.97      0.96      9063\n",
      "       World       0.92      0.86      0.89      9008\n",
      "\n",
      "    accuracy                           0.88     35955\n",
      "   macro avg       0.88      0.88      0.88     35955\n",
      "weighted avg       0.88      0.88      0.88     35955\n",
      "\n",
      "0.8809066889167014\n"
     ]
    }
   ],
   "source": [
    "df = clf_pipelineModel.transform(testDataset).select('category','description',\"class.result\").toPandas()\n",
    "\n",
    "df['result'] = df['result'].apply(lambda x: x[0])\n",
    "\n",
    "print(classification_report(df.category, df.result))\n",
    "\n",
    "print(accuracy_score(df.category, df.result))"
   ]
  },
  {
   "cell_type": "code",
   "execution_count": null,
   "metadata": {
    "colab": {},
    "colab_type": "code",
    "id": "81Yor2ybIPTm",
    "outputId": "b427f62e-689f-44e6-ea48-a21c98df57aa"
   },
   "outputs": [
    {
     "name": "stdout",
     "output_type": "stream",
     "text": [
      "total 69352\n",
      "drwxrwxr-x@  7 vkocaman  staff       224 Feb 25 22:04 \u001b[34mag_news_csv\u001b[m\u001b[m\n",
      "-rw-------@  1 vkocaman  staff   9328727 Feb 28 13:14 news_Category.zip\n",
      "drwxr-xr-x  16 vkocaman  staff       512 Feb 25 20:28 \u001b[34mnews_category.parquet\u001b[m\u001b[m\n",
      "-rw-r--r--   1 vkocaman  staff   1504408 Feb 25 22:03 news_category_test.csv\n",
      "drwxr-xr-x   6 vkocaman  staff       192 Feb 25 22:06 \u001b[34mnews_category_test.parquet\u001b[m\u001b[m\n",
      "-rw-r--r--@  1 vkocaman  staff  24032125 Feb 28 11:58 news_category_train.csv\n"
     ]
    }
   ],
   "source": [
    "!cd data && ls -l"
   ]
  },
  {
   "cell_type": "code",
   "execution_count": null,
   "metadata": {
    "colab": {},
    "colab_type": "code",
    "id": "q4I6cK4BIPTn"
   },
   "outputs": [],
   "source": [
    "import pandas as pd\n",
    "import"
   ]
  },
  {
   "cell_type": "code",
   "execution_count": null,
   "metadata": {
    "colab": {},
    "colab_type": "code",
    "id": "CaINbN4RIPTp"
   },
   "outputs": [],
   "source": [
    "news_df = newsDF.toPandas()"
   ]
  },
  {
   "cell_type": "code",
   "execution_count": null,
   "metadata": {
    "colab": {},
    "colab_type": "code",
    "id": "ULAoM_6rIPTr",
    "outputId": "e29106c9-a246-44ce-ddaf-cd71d856de21"
   },
   "outputs": [
    {
     "data": {
      "text/html": [
       "<div>\n",
       "<style scoped>\n",
       "    .dataframe tbody tr th:only-of-type {\n",
       "        vertical-align: middle;\n",
       "    }\n",
       "\n",
       "    .dataframe tbody tr th {\n",
       "        vertical-align: top;\n",
       "    }\n",
       "\n",
       "    .dataframe thead th {\n",
       "        text-align: right;\n",
       "    }\n",
       "</style>\n",
       "<table border=\"1\" class=\"dataframe\">\n",
       "  <thead>\n",
       "    <tr style=\"text-align: right;\">\n",
       "      <th></th>\n",
       "      <th>category</th>\n",
       "      <th>description</th>\n",
       "    </tr>\n",
       "  </thead>\n",
       "  <tbody>\n",
       "    <tr>\n",
       "      <td>0</td>\n",
       "      <td>World</td>\n",
       "      <td>Srinagar, Nov 6 (UNI) Two militants and a Bord...</td>\n",
       "    </tr>\n",
       "    <tr>\n",
       "      <td>1</td>\n",
       "      <td>World</td>\n",
       "      <td>France's president orders his forces to destro...</td>\n",
       "    </tr>\n",
       "    <tr>\n",
       "      <td>2</td>\n",
       "      <td>World</td>\n",
       "      <td>President  Bush says he will reach out to alli...</td>\n",
       "    </tr>\n",
       "    <tr>\n",
       "      <td>3</td>\n",
       "      <td>World</td>\n",
       "      <td>Established Shiite parties and powerful upstar...</td>\n",
       "    </tr>\n",
       "    <tr>\n",
       "      <td>4</td>\n",
       "      <td>World</td>\n",
       "      <td>While Democrats placed their emphasis on the s...</td>\n",
       "    </tr>\n",
       "  </tbody>\n",
       "</table>\n",
       "</div>"
      ],
      "text/plain": [
       "  category                                        description\n",
       "0    World  Srinagar, Nov 6 (UNI) Two militants and a Bord...\n",
       "1    World  France's president orders his forces to destro...\n",
       "2    World  President  Bush says he will reach out to alli...\n",
       "3    World  Established Shiite parties and powerful upstar...\n",
       "4    World  While Democrats placed their emphasis on the s..."
      ]
     },
     "execution_count": 52,
     "metadata": {
      "tags": []
     },
     "output_type": "execute_result"
    }
   ],
   "source": [
    "news_df.head()"
   ]
  },
  {
   "cell_type": "code",
   "execution_count": null,
   "metadata": {
    "colab": {},
    "colab_type": "code",
    "id": "Hp6nDSBCIPTu"
   },
   "outputs": [],
   "source": [
    "news_df.to_csv('data/news_dataset.csv', index=False)"
   ]
  },
  {
   "cell_type": "code",
   "execution_count": null,
   "metadata": {
    "colab": {},
    "colab_type": "code",
    "id": "733xg3xwIPTv",
    "outputId": "c5595759-130e-48a5-ef7a-54b24ca7d034"
   },
   "outputs": [
    {
     "name": "stdout",
     "output_type": "stream",
     "text": [
      "lemma_antbnc download started this may take some time.\n",
      "Approximate size to download 907.6 KB\n",
      "[OK!]\n",
      "glove_100d download started this may take some time.\n",
      "Approximate size to download 145.3 MB\n",
      "[OK!]\n"
     ]
    }
   ],
   "source": [
    "document_assembler = DocumentAssembler() \\\n",
    "    .setInputCol(\"description\") \\\n",
    "    .setOutputCol(\"document\")\n",
    "    \n",
    "tokenizer = Tokenizer() \\\n",
    "  .setInputCols([\"document\"]) \\\n",
    "  .setOutputCol(\"token\")\n",
    "    \n",
    "normalizer = Normalizer() \\\n",
    "    .setInputCols([\"token\"]) \\\n",
    "    .setOutputCol(\"normalized\")\n",
    "\n",
    "stopwords_cleaner = StopWordsCleaner()\\\n",
    "      .setInputCols(\"normalized\")\\\n",
    "      .setOutputCol(\"cleanTokens\")\\\n",
    "      .setCaseSensitive(False)\n",
    "\n",
    "lemma = LemmatizerModel.pretrained('lemma_antbnc') \\\n",
    "    .setInputCols([\"cleanTokens\"]) \\\n",
    "    .setOutputCol(\"lemma\")\n",
    "\n",
    "glove_embeddings = WordEmbeddingsModel().pretrained() \\\n",
    " .setInputCols([\"document\",'lemma'])\\\n",
    " .setOutputCol(\"embeddings\")\\\n",
    " .setCaseSensitive(False)\n",
    "\n",
    "txt_pipeline = Pipeline(\n",
    "    stages=[document_assembler, \n",
    "            tokenizer,\n",
    "            normalizer,\n",
    "            stopwords_cleaner, \n",
    "            lemma, \n",
    "            glove_embeddings,\n",
    "            embeddingsSentence])"
   ]
  },
  {
   "cell_type": "code",
   "execution_count": null,
   "metadata": {
    "colab": {},
    "colab_type": "code",
    "id": "nJHq4FdNIPTx"
   },
   "outputs": [],
   "source": [
    "\n",
    "txt_pipelineModel = txt_pipeline.fit(testData.limit(1))"
   ]
  },
  {
   "cell_type": "code",
   "execution_count": null,
   "metadata": {
    "colab": {},
    "colab_type": "code",
    "id": "mixFG3jjIPTy"
   },
   "outputs": [],
   "source": [
    "txt_pipelineModel.save('text_prep_pipeline_glove')"
   ]
  },
  {
   "cell_type": "code",
   "execution_count": null,
   "metadata": {
    "colab": {},
    "colab_type": "code",
    "id": "HJQiXr4BIPTz",
    "outputId": "ef0addc8-a9b7-4286-96e1-0bb5101cf9f9"
   },
   "outputs": [
    {
     "data": {
      "text/html": [
       "<div>\n",
       "<style scoped>\n",
       "    .dataframe tbody tr th:only-of-type {\n",
       "        vertical-align: middle;\n",
       "    }\n",
       "\n",
       "    .dataframe tbody tr th {\n",
       "        vertical-align: top;\n",
       "    }\n",
       "\n",
       "    .dataframe thead th {\n",
       "        text-align: right;\n",
       "    }\n",
       "</style>\n",
       "<table border=\"1\" class=\"dataframe\">\n",
       "  <thead>\n",
       "    <tr style=\"text-align: right;\">\n",
       "      <th></th>\n",
       "      <th>category</th>\n",
       "      <th>description</th>\n",
       "      <th>result</th>\n",
       "    </tr>\n",
       "  </thead>\n",
       "  <tbody>\n",
       "    <tr>\n",
       "      <td>0</td>\n",
       "      <td>Business</td>\n",
       "      <td>A federal judge on Monday stayed his own rul...</td>\n",
       "      <td>Business</td>\n",
       "    </tr>\n",
       "    <tr>\n",
       "      <td>1</td>\n",
       "      <td>Business</td>\n",
       "      <td>A half dozen executives of Yukos, the embatt...</td>\n",
       "      <td>Business</td>\n",
       "    </tr>\n",
       "    <tr>\n",
       "      <td>2</td>\n",
       "      <td>Business</td>\n",
       "      <td>A labor dispute may sideline professional ho...</td>\n",
       "      <td>Sports</td>\n",
       "    </tr>\n",
       "    <tr>\n",
       "      <td>3</td>\n",
       "      <td>Business</td>\n",
       "      <td>A ruling from the World Trade Organization c...</td>\n",
       "      <td>Sci/Tech</td>\n",
       "    </tr>\n",
       "    <tr>\n",
       "      <td>4</td>\n",
       "      <td>Business</td>\n",
       "      <td>American Airlines has unveiled a new simplif...</td>\n",
       "      <td>Business</td>\n",
       "    </tr>\n",
       "  </tbody>\n",
       "</table>\n",
       "</div>"
      ],
      "text/plain": [
       "   category                                        description    result\n",
       "0  Business    A federal judge on Monday stayed his own rul...  Business\n",
       "1  Business    A half dozen executives of Yukos, the embatt...  Business\n",
       "2  Business    A labor dispute may sideline professional ho...    Sports\n",
       "3  Business    A ruling from the World Trade Organization c...  Sci/Tech\n",
       "4  Business    American Airlines has unveiled a new simplif...  Business"
      ]
     },
     "execution_count": 126,
     "metadata": {
      "tags": []
     },
     "output_type": "execute_result"
    }
   ],
   "source": [
    "df.head()"
   ]
  },
  {
   "cell_type": "code",
   "execution_count": null,
   "metadata": {
    "colab": {},
    "colab_type": "code",
    "id": "XHsc2ClYIPUJ"
   },
   "outputs": [],
   "source": []
  }
 ],
 "metadata": {
  "colab": {
   "collapsed_sections": [],
   "name": "5.1_Text_classification_examples_in_SparkML_SparkNLP.ipynb",
   "provenance": []
  },
  "kernelspec": {
   "display_name": "Python 3",
   "language": "python",
   "name": "python3"
  },
  "language_info": {
   "codemirror_mode": {
    "name": "ipython",
    "version": 3
   },
   "file_extension": ".py",
   "mimetype": "text/x-python",
   "name": "python",
   "nbconvert_exporter": "python",
   "pygments_lexer": "ipython3",
   "version": "3.7.4"
  }
 },
 "nbformat": 4,
 "nbformat_minor": 4
}

{
  "nbformat": 4,
  "nbformat_minor": 0,
  "metadata": {
    "colab": {
      "name": "14.Transformers_for_Token_Classification_in_Spark_NLP.ipynb",
      "provenance": [],
      "collapsed_sections": []
    },
    "kernelspec": {
      "name": "python3",
      "display_name": "Python 3"
    },
    "language_info": {
      "name": "python"
    }
  },
  "cells": [
    {
      "cell_type": "markdown",
      "source": [
        "![JohnSnowLabs](https://nlp.johnsnowlabs.com/assets/images/logo.png)"
      ],
      "metadata": {
        "id": "D0qeroSZw4vv"
      }
    },
    {
      "cell_type": "markdown",
      "source": [
        "[![Open In Colab](https://colab.research.google.com/assets/colab-badge.svg)](https://colab.research.google.com/github/JohnSnowLabs/spark-nlp-workshop/blob/master/tutorials/Certification_Trainings/Public/14.Transformers_for_Token_Classification_in_Spark_NLP.ipynb)"
      ],
      "metadata": {
        "id": "dgcCpy2Yw7Ls"
      }
    },
    {
      "cell_type": "markdown",
      "source": [
        "# Transformers for Token Classification in Spark NLP"
      ],
      "metadata": {
        "id": "-UHbE9sww3By"
      }
    },
    {
      "cell_type": "markdown",
      "source": [
        "**BertForTokenClassification** can load Bert Models with a token classification head on top (a linear layer on top of the hidden-states output) e.g. for Named-Entity-Recognition (NER) tasks.\n",
        "\n",
        "Pretrained models can be loaded with `pretrained()` of the companion object. The default model is `\"bert_base_token_classifier_conll03\"`, if no name is provided. <br/><br/>\n",
        "\n",
        "\n",
        "### **Here are Bert Based Token Classification models available in Spark NLP**\n",
        "<br/>\n",
        "\n",
        "| Title                                                                                                                        | Name                                          | Language   |\n",
        "|:-----------------------------------------------------------------------------------------------------------------------------|:----------------------------------------------|:-----------|\n",
        "| BERT Token Classification - NER CoNLL (bert_base_token_classifier_conll03)                                                   | bert_base_token_classifier_conll03            | en         |\n",
        "| BERT Token Classification - NER OntoNotes (bert_base_token_classifier_ontonote)                                              | bert_base_token_classifier_ontonote           | en         |\n",
        "| BERT Token Classification Large - NER CoNLL (bert_large_token_classifier_conll03)                                            | bert_large_token_classifier_conll03           | en         |\n",
        "| BERT Token Classification Large - NER OntoNotes (bert_large_token_classifier_ontonote)                                       | bert_large_token_classifier_ontonote          | en         |\n",
        "| BERT Token Classification - ParsBERT for Persian Language Understanding (bert_token_classifier_parsbert_armanner)            | bert_token_classifier_parsbert_armanner       | fa         |\n",
        "| BERT Token Classification - ParsBERT for Persian Language Understanding (bert_token_classifier_parsbert_ner)                 | bert_token_classifier_parsbert_ner            | fa         |\n",
        "| BERT Token Classification - ParsBERT for Persian Language Understanding (bert_token_classifier_parsbert_peymaner)            | bert_token_classifier_parsbert_peymaner       | fa         |\n",
        "| BERT Token Classification - BETO Spanish Language Understanding (bert_token_classifier_spanish_ner)                          | bert_token_classifier_spanish_ner             | es         |\n",
        "| BERT Token Classification - Swedish Language Understanding (bert_token_classifier_swedish_ner)                               | bert_token_classifier_swedish_ner             | sv         |\n",
        "| BERT Token Classification - Turkish Language Understanding (bert_token_classifier_turkish_ner)                               | bert_token_classifier_turkish_ner             | tr         |\n",
        "| DistilBERT Token Classification - NER CoNLL (distilbert_base_token_classifier_conll03)                                       | distilbert_base_token_classifier_conll03      | en         |\n",
        "| DistilBERT Token Classification - NER OntoNotes (distilbert_base_token_classifier_ontonotes)                                 | distilbert_base_token_classifier_ontonotes    | en         |\n",
        "| DistilBERT Token Classification - DistilbertNER for Persian Language Understanding (distilbert_token_classifier_persian_ner) | distilbert_token_classifier_persian_ner       | fa         |\n",
        "| BERT Token Classification -  Few-NERD (bert_base_token_classifier_few_nerd)                                                  | bert_base_token_classifier_few_nerd           | en         |\n",
        "| DistilBERT Token Classification -  Few-NERD (distilbert_base_token_classifier_few_nerd)                                      | distilbert_base_token_classifier_few_nerd     | en         |\n",
        "| Named Entity Recognition for Japanese (BertForTokenClassification)                                                           | bert_token_classifier_ner_ud_gsd              | ja         |\n",
        "| Detect PHI for Deidentification (BertForTokenClassifier)                                                                     | bert_token_classifier_ner_deid                | en         |\n",
        "| Detect Clinical Entities (BertForTokenClassifier)                                                                            | bert_token_classifier_ner_jsl                 | en         |\n",
        "| Detect Drug Chemicals (BertForTokenClassifier)                                                                               | bert_token_classifier_ner_drugs               | en         |\n",
        "| Detect Clinical Entities (Slim version, BertForTokenClassifier)                                                              | bert_token_classifier_ner_jsl_slim            | en         |\n",
        "| ALBERT Token Classification Base - NER CoNLL (albert_base_token_classifier_conll03)                                          | albert_base_token_classifier_conll03          | en         |\n",
        "| ALBERT Token Classification Large - NER CoNLL (albert_large_token_classifier_conll03)                                        | albert_large_token_classifier_conll03         | en         |\n",
        "| ALBERT Token Classification XLarge - NER CoNLL (albert_xlarge_token_classifier_conll03)                                      | albert_xlarge_token_classifier_conll03        | en         |\n",
        "| DistilRoBERTa Token Classification - NER OntoNotes (distilroberta_base_token_classifier_ontonotes)                           | distilroberta_base_token_classifier_ontonotes | en         |\n",
        "| RoBERTa Token Classification Base - NER CoNLL (roberta_base_token_classifier_conll03)                                        | roberta_base_token_classifier_conll03         | en         |\n",
        "| RoBERTa Token Classification Base - NER OntoNotes (roberta_base_token_classifier_ontonotes)                                  | roberta_base_token_classifier_ontonotes       | en         |\n",
        "| RoBERTa Token Classification Large - NER CoNLL (roberta_large_token_classifier_conll03)                                      | roberta_large_token_classifier_conll03        | en         |\n",
        "| RoBERTa Token Classification Large - NER OntoNotes (roberta_large_token_classifier_ontonotes)                                | roberta_large_token_classifier_ontonotes      | en         |\n",
        "| RoBERTa Token Classification For Persian (roberta_token_classifier_zwnj_base_ner)                                            | roberta_token_classifier_zwnj_base_ner        | fa         |\n",
        "| XLM-RoBERTa Token Classification Base - NER XTREME (xlm_roberta_token_classifier_ner_40_lang)                                | xlm_roberta_token_classifier_ner_40_lang      | xx         |\n",
        "| XLNet Token Classification Base - NER CoNLL (xlnet_base_token_classifier_conll03)                                            | xlnet_base_token_classifier_conll03           | en         |\n",
        "| XLNet Token Classification Large - NER CoNLL (xlnet_large_token_classifier_conll03)                                          | xlnet_large_token_classifier_conll03          | en         |\n",
        "| Detect Adverse Drug Events (BertForTokenClassification)                                                                      | bert_token_classifier_ner_ade                 | en         |\n",
        "| Detect Anatomical Regions (BertForTokenClassification)                                                                       | bert_token_classifier_ner_anatomy             | en         |\n",
        "| Detect Bacterial Species (BertForTokenClassification)                                                                        | bert_token_classifier_ner_bacteria            | en         |\n",
        "| XLM-RoBERTa Token Classification Base - NER CoNLL (xlm_roberta_base_token_classifier_conll03)                                | xlm_roberta_base_token_classifier_conll03     | en         |\n",
        "| XLM-RoBERTa Token Classification Base - NER OntoNotes (xlm_roberta_base_token_classifier_ontonotes)                          | xlm_roberta_base_token_classifier_ontonotes   | en         |\n",
        "| Longformer Token Classification Base - NER CoNLL (longformer_base_token_classifier_conll03)                                  | longformer_base_token_classifier_conll03      | en         |\n",
        "| Longformer Token Classification Base - NER CoNLL (longformer_large_token_classifier_conll03)                                 | longformer_large_token_classifier_conll03     | en         |\n",
        "| Detect Chemicals in Medical text (BertForTokenClassification)                                                                | bert_token_classifier_ner_chemicals           | en         |\n",
        "| Detect Chemical Compounds and Genes (BertForTokenClassifier)                                                                 | bert_token_classifier_ner_chemprot            | en         |\n",
        "| Detect Cancer Genetics (BertForTokenClassification)                                                                          | bert_token_classifier_ner_bionlp              | en         |\n",
        "| Detect Cellular/Molecular Biology Entities (BertForTokenClassification)                                                      | bert_token_classifier_ner_cellular            | en         |\n",
        "| Detect concepts in drug development trials (BertForTokenClassification)                                                      | bert_token_classifier_drug_development_trials | en         |\n",
        "| Detect Cancer Genetics (BertForTokenClassification)                                                                          | bert_token_classifier_ner_bionlp              | en         |\n",
        "| Detect Adverse Drug Events (BertForTokenClassification)                                                                      | bert_token_classifier_ner_ade                 | en         |\n",
        "| Detect Anatomical Regions (MedicalBertForTokenClassifier)                                                                    | bert_token_classifier_ner_anatomy             | en         |\n",
        "| Detect Cellular/Molecular Biology Entities (BertForTokenClassification)                                                      | bert_token_classifier_ner_cellular            | en         |\n",
        "| Detect Chemicals in Medical text (BertForTokenClassification)                                                                | bert_token_classifier_ner_chemicals           | en         |\n",
        "| Detect Chemical Compounds and Genes (BertForTokenClassifier)                                                                 | bert_token_classifier_ner_chemprot            | en         |\n",
        "| Detect PHI for Deidentification (BertForTokenClassifier)                                                                     | bert_token_classifier_ner_deid                | en         |\n",
        "| Detect Drug Chemicals (BertForTokenClassifier)                                                                               | bert_token_classifier_ner_drugs               | en         |\n",
        "| Detect Clinical Entities (BertForTokenClassifier)                                                                            | bert_token_classifier_ner_jsl                 | en         |\n",
        "| Detect Clinical Entities (Slim version, BertForTokenClassifier)                                                              | bert_token_classifier_ner_jsl_slim            | en         |\n",
        "| Detect Bacterial Species (BertForTokenClassification)                                                                        | bert_token_classifier_ner_bacteria            | en         |"
      ],
      "metadata": {
        "id": "qhSfIhFHvXqu"
      }
    },
    {
      "cell_type": "markdown",
      "source": [
        "## Colab Setup"
      ],
      "metadata": {
        "id": "P9BgOdf_yan8"
      }
    },
    {
      "cell_type": "code",
      "execution_count": null,
      "metadata": {
        "id": "V3b4Flg_tz5C"
      },
      "outputs": [],
      "source": [
        "! pip install -q pyspark==3.2.0 spark-nlp"
      ]
    },
    {
      "cell_type": "code",
      "source": [
        "import sparknlp\n",
        "\n",
        "spark = sparknlp.start(spark32=True)\n",
        "\n",
        "from sparknlp.base import *\n",
        "from sparknlp.annotator import *\n",
        "from pyspark.ml import Pipeline,PipelineModel\n",
        "from pyspark.sql import SparkSession\n",
        "from pyspark.sql import functions as F\n",
        "import pandas as pd\n",
        "\n",
        "\n",
        "print(\"Spark NLP version\", sparknlp.version())\n",
        "print(\"Apache Spark version:\", spark.version)\n",
        "\n",
        "spark"
      ],
      "metadata": {
        "colab": {
          "base_uri": "https://localhost:8080/",
          "height": 253
        },
        "id": "atQWxlEit36h",
        "outputId": "9b1b78b6-621c-4a69-a968-f51978cfdc2a"
      },
      "execution_count": null,
      "outputs": [
        {
          "output_type": "stream",
          "name": "stdout",
          "text": [
            "Spark NLP version 3.4.0\n",
            "Apache Spark version: 3.2.0\n"
          ]
        },
        {
          "output_type": "execute_result",
          "data": {
            "text/html": [
              "\n",
              "            <div>\n",
              "                <p><b>SparkSession - in-memory</b></p>\n",
              "                \n",
              "        <div>\n",
              "            <p><b>SparkContext</b></p>\n",
              "\n",
              "            <p><a href=\"http://386f06c907d0:4040\">Spark UI</a></p>\n",
              "\n",
              "            <dl>\n",
              "              <dt>Version</dt>\n",
              "                <dd><code>v3.2.0</code></dd>\n",
              "              <dt>Master</dt>\n",
              "                <dd><code>local[*]</code></dd>\n",
              "              <dt>AppName</dt>\n",
              "                <dd><code>Spark NLP</code></dd>\n",
              "            </dl>\n",
              "        </div>\n",
              "        \n",
              "            </div>\n",
              "        "
            ],
            "text/plain": [
              "<pyspark.sql.session.SparkSession at 0x7f46b2714550>"
            ]
          },
          "metadata": {},
          "execution_count": 2
        }
      ]
    },
    {
      "cell_type": "markdown",
      "source": [
        "## BertForTokenClassification Pipeline"
      ],
      "metadata": {
        "id": "PK4swxT0G-3V"
      }
    },
    {
      "cell_type": "markdown",
      "source": [
        "Now, let's create a Spark NLP Pipeline with `bert_base_token_classifier_conll03` model and check the results. <br/>"
      ],
      "metadata": {
        "id": "-Elkl2X3LeYm"
      }
    },
    {
      "cell_type": "code",
      "source": [
        "document_assembler = DocumentAssembler() \\\n",
        "    .setInputCol('text') \\\n",
        "    .setOutputCol('document')\n",
        "\n",
        "tokenizer = Tokenizer() \\\n",
        "    .setInputCols(['document']) \\\n",
        "    .setOutputCol('token')\n",
        "\n",
        "tokenClassifier = BertForTokenClassification \\\n",
        "    .pretrained('bert_base_token_classifier_conll03', 'en') \\\n",
        "    .setInputCols(['token', 'document']) \\\n",
        "    .setOutputCol('ner') \\\n",
        "    .setCaseSensitive(True) \\\n",
        "    .setMaxSentenceLength(512)\n",
        "\n",
        "# since output column is IOB/IOB2 style, NerConverter can extract entities\n",
        "ner_converter = NerConverter() \\\n",
        "    .setInputCols(['document', 'token', 'ner']) \\\n",
        "    .setOutputCol('entities')\n",
        "\n",
        "pipeline = Pipeline(stages=[\n",
        "    document_assembler, \n",
        "    tokenizer,\n",
        "    tokenClassifier,\n",
        "    ner_converter\n",
        "])\n",
        "\n",
        "example = spark.createDataFrame([['My name is John Parker! I live in New York and I am a member of the New York Road Runners.']]).toDF(\"text\")\n",
        "model = pipeline.fit(example)\n",
        "result= model.transform(example)"
      ],
      "metadata": {
        "colab": {
          "base_uri": "https://localhost:8080/"
        },
        "id": "Zwqmcwu9KSMs",
        "outputId": "1440870c-741d-42f8-e071-15b03e781c98"
      },
      "execution_count": null,
      "outputs": [
        {
          "output_type": "stream",
          "name": "stdout",
          "text": [
            "bert_base_token_classifier_conll03 download started this may take some time.\n",
            "Approximate size to download 385.4 MB\n",
            "[OK!]\n"
          ]
        }
      ]
    },
    {
      "cell_type": "code",
      "source": [
        "model.stages"
      ],
      "metadata": {
        "colab": {
          "base_uri": "https://localhost:8080/"
        },
        "id": "jOU2YbWmSGg7",
        "outputId": "36870ba9-60bf-49d7-aa69-d8c6ccdea3f3"
      },
      "execution_count": null,
      "outputs": [
        {
          "output_type": "execute_result",
          "data": {
            "text/plain": [
              "[DocumentAssembler_cdbcfd158e49,\n",
              " REGEX_TOKENIZER_83aa852cb2bf,\n",
              " BERT_FOR_TOKEN_CLASSIFICATION_675a6a750b89,\n",
              " NerConverter_e24449920ccc]"
            ]
          },
          "metadata": {},
          "execution_count": 4
        }
      ]
    },
    {
      "cell_type": "markdown",
      "source": [
        "We can check the classes of `bert_base_token_classifier_conll03` model by using `getClasses()` function"
      ],
      "metadata": {
        "id": "4b7VJOIO7KlK"
      }
    },
    {
      "cell_type": "code",
      "source": [
        "tokenClassifier.getClasses()"
      ],
      "metadata": {
        "colab": {
          "base_uri": "https://localhost:8080/"
        },
        "id": "Kntkz15Tt32K",
        "outputId": "ee537b65-f11c-46af-b576-570b10b1c63a"
      },
      "execution_count": null,
      "outputs": [
        {
          "output_type": "execute_result",
          "data": {
            "text/plain": [
              "['B-LOC', 'I-ORG', 'I-MISC', 'I-LOC', 'I-PER', 'B-MISC', 'B-ORG', 'O', 'B-PER']"
            ]
          },
          "metadata": {},
          "execution_count": 5
        }
      ]
    },
    {
      "cell_type": "code",
      "source": [
        "result.columns"
      ],
      "metadata": {
        "colab": {
          "base_uri": "https://localhost:8080/"
        },
        "id": "GG_msy1YTqfx",
        "outputId": "0540b238-3554-4c5d-9450-8492af777f6d"
      },
      "execution_count": null,
      "outputs": [
        {
          "output_type": "execute_result",
          "data": {
            "text/plain": [
              "['text', 'document', 'token', 'ner', 'entities']"
            ]
          },
          "metadata": {},
          "execution_count": 6
        }
      ]
    },
    {
      "cell_type": "code",
      "source": [
        "result.printSchema()"
      ],
      "metadata": {
        "colab": {
          "base_uri": "https://localhost:8080/"
        },
        "id": "n93vA6toG4WK",
        "outputId": "a7d81abf-3f2e-4af9-f9ae-32706f86f7b6"
      },
      "execution_count": null,
      "outputs": [
        {
          "output_type": "stream",
          "name": "stdout",
          "text": [
            "root\n",
            " |-- text: string (nullable = true)\n",
            " |-- document: array (nullable = true)\n",
            " |    |-- element: struct (containsNull = true)\n",
            " |    |    |-- annotatorType: string (nullable = true)\n",
            " |    |    |-- begin: integer (nullable = false)\n",
            " |    |    |-- end: integer (nullable = false)\n",
            " |    |    |-- result: string (nullable = true)\n",
            " |    |    |-- metadata: map (nullable = true)\n",
            " |    |    |    |-- key: string\n",
            " |    |    |    |-- value: string (valueContainsNull = true)\n",
            " |    |    |-- embeddings: array (nullable = true)\n",
            " |    |    |    |-- element: float (containsNull = false)\n",
            " |-- token: array (nullable = true)\n",
            " |    |-- element: struct (containsNull = true)\n",
            " |    |    |-- annotatorType: string (nullable = true)\n",
            " |    |    |-- begin: integer (nullable = false)\n",
            " |    |    |-- end: integer (nullable = false)\n",
            " |    |    |-- result: string (nullable = true)\n",
            " |    |    |-- metadata: map (nullable = true)\n",
            " |    |    |    |-- key: string\n",
            " |    |    |    |-- value: string (valueContainsNull = true)\n",
            " |    |    |-- embeddings: array (nullable = true)\n",
            " |    |    |    |-- element: float (containsNull = false)\n",
            " |-- ner: array (nullable = true)\n",
            " |    |-- element: struct (containsNull = true)\n",
            " |    |    |-- annotatorType: string (nullable = true)\n",
            " |    |    |-- begin: integer (nullable = false)\n",
            " |    |    |-- end: integer (nullable = false)\n",
            " |    |    |-- result: string (nullable = true)\n",
            " |    |    |-- metadata: map (nullable = true)\n",
            " |    |    |    |-- key: string\n",
            " |    |    |    |-- value: string (valueContainsNull = true)\n",
            " |    |    |-- embeddings: array (nullable = true)\n",
            " |    |    |    |-- element: float (containsNull = false)\n",
            " |-- entities: array (nullable = true)\n",
            " |    |-- element: struct (containsNull = true)\n",
            " |    |    |-- annotatorType: string (nullable = true)\n",
            " |    |    |-- begin: integer (nullable = false)\n",
            " |    |    |-- end: integer (nullable = false)\n",
            " |    |    |-- result: string (nullable = true)\n",
            " |    |    |-- metadata: map (nullable = true)\n",
            " |    |    |    |-- key: string\n",
            " |    |    |    |-- value: string (valueContainsNull = true)\n",
            " |    |    |-- embeddings: array (nullable = true)\n",
            " |    |    |    |-- element: float (containsNull = false)\n",
            "\n"
          ]
        }
      ]
    },
    {
      "cell_type": "markdown",
      "source": [
        "Checking the ner labels of each token"
      ],
      "metadata": {
        "id": "PkEdMdfuFVQ-"
      }
    },
    {
      "cell_type": "code",
      "source": [
        "result_df = result.select(F.explode(F.arrays_zip(result.token.result, result.ner.result, result.entities.result)).alias(\"cols\"))\\\n",
        "                  .select(F.expr(\"cols['0']\").alias(\"token\"),\n",
        "                          F.expr(\"cols['1']\").alias(\"ner_label\"))\n",
        "\n",
        "result_df.show(50, truncate=100)"
      ],
      "metadata": {
        "colab": {
          "base_uri": "https://localhost:8080/"
        },
        "id": "u0fFNbOzt3lw",
        "outputId": "b0c961a3-d74e-4d45-8dbd-9465a745480c"
      },
      "execution_count": null,
      "outputs": [
        {
          "output_type": "stream",
          "name": "stdout",
          "text": [
            "+-------+---------+\n",
            "|  token|ner_label|\n",
            "+-------+---------+\n",
            "|     My|        O|\n",
            "|   name|        O|\n",
            "|     is|        O|\n",
            "|   John|    B-PER|\n",
            "| Parker|    I-PER|\n",
            "|      !|        O|\n",
            "|      I|        O|\n",
            "|   live|        O|\n",
            "|     in|        O|\n",
            "|    New|    B-LOC|\n",
            "|   York|    I-LOC|\n",
            "|    and|        O|\n",
            "|      I|        O|\n",
            "|     am|        O|\n",
            "|      a|        O|\n",
            "| member|        O|\n",
            "|     of|        O|\n",
            "|    the|        O|\n",
            "|    New|    B-ORG|\n",
            "|   York|    I-ORG|\n",
            "|   Road|    I-ORG|\n",
            "|Runners|    I-ORG|\n",
            "|      .|        O|\n",
            "+-------+---------+\n",
            "\n"
          ]
        }
      ]
    },
    {
      "cell_type": "markdown",
      "source": [
        "Inspecting the chunks"
      ],
      "metadata": {
        "id": "K3Y7LKzyFrmf"
      }
    },
    {
      "cell_type": "code",
      "source": [
        "result_df_1= result.select(F.explode(F.arrays_zip(result.entities.result, result.entities.begin, result.entities.end, result.entities.metadata)).alias(\"col\"))\\\n",
        "                   .select(F.expr(\"col['0']\").alias(\"entities\"),\n",
        "                            F.expr(\"col['1']\").alias(\"begin\"),\n",
        "                            F.expr(\"col['2']\").alias(\"end\"),\n",
        "                            F.expr(\"col['3']['entity']\").alias(\"ner_label\"))\n",
        "result_df_1.show(50, truncate=False)"
      ],
      "metadata": {
        "colab": {
          "base_uri": "https://localhost:8080/"
        },
        "id": "1_cyaGuGGZ6-",
        "outputId": "15422be9-30b4-4109-a616-8c2cb796ccc4"
      },
      "execution_count": null,
      "outputs": [
        {
          "output_type": "stream",
          "name": "stdout",
          "text": [
            "+---------------------+-----+---+---------+\n",
            "|entities             |begin|end|ner_label|\n",
            "+---------------------+-----+---+---------+\n",
            "|John Parker          |11   |21 |PER      |\n",
            "|New York             |34   |41 |LOC      |\n",
            "|New York Road Runners|68   |88 |ORG      |\n",
            "+---------------------+-----+---+---------+\n",
            "\n"
          ]
        }
      ]
    },
    {
      "cell_type": "markdown",
      "source": [
        "##  BertForTokenClassification By Using LightPipeline"
      ],
      "metadata": {
        "id": "P7VXafxy8fAK"
      }
    },
    {
      "cell_type": "markdown",
      "source": [
        "Now,  we will use the `bert_large_token_classifier_ontonote` model with LightPipeline and fullAnnotate it with sample data."
      ],
      "metadata": {
        "id": "CXLpoVF5G5NL"
      }
    },
    {
      "cell_type": "code",
      "source": [
        "document_assembler = DocumentAssembler() \\\n",
        "    .setInputCol('text') \\\n",
        "    .setOutputCol('document')\n",
        "\n",
        "tokenizer = Tokenizer() \\\n",
        "    .setInputCols(['document']) \\\n",
        "    .setOutputCol('token')\n",
        "\n",
        "tokenClassifier = BertForTokenClassification \\\n",
        "    .pretrained('bert_large_token_classifier_ontonote', 'en') \\\n",
        "    .setInputCols(['token', 'document']) \\\n",
        "    .setOutputCol('ner') \\\n",
        "    .setCaseSensitive(True) \\\n",
        "    .setMaxSentenceLength(512)\n",
        "\n",
        "# since output column is IOB/IOB2 style, NerConverter can extract entities\n",
        "ner_converter = NerConverter() \\\n",
        "    .setInputCols(['document', 'token', 'ner']) \\\n",
        "    .setOutputCol('entities')\n",
        "\n",
        "pipeline = Pipeline(stages=[\n",
        "    document_assembler, \n",
        "    tokenizer,\n",
        "    tokenClassifier,\n",
        "    ner_converter\n",
        "])\n",
        "\n",
        "empty_df = spark.createDataFrame([['']]).toDF(\"text\")\n",
        "model = pipeline.fit(example)"
      ],
      "metadata": {
        "colab": {
          "base_uri": "https://localhost:8080/"
        },
        "id": "ltjKRFi_E-8V",
        "outputId": "b9763a82-6bb8-47ce-c200-9b3140f12265"
      },
      "execution_count": null,
      "outputs": [
        {
          "output_type": "stream",
          "name": "stdout",
          "text": [
            "bert_large_token_classifier_ontonote download started this may take some time.\n",
            "Approximate size to download 1.2 GB\n",
            "[OK!]\n"
          ]
        }
      ]
    },
    {
      "cell_type": "code",
      "source": [
        "light_model= LightPipeline(model)\n",
        "light_result= light_model.fullAnnotate(\"Steven Rothery is the original guitarist and the longest continuous member of the British rock band Marillion.\")[0]"
      ],
      "metadata": {
        "id": "fka3J4BOGqYH"
      },
      "execution_count": null,
      "outputs": []
    },
    {
      "cell_type": "code",
      "source": [
        "light_result"
      ],
      "metadata": {
        "colab": {
          "base_uri": "https://localhost:8080/"
        },
        "id": "byvVHvIjNZMP",
        "outputId": "0d139d38-39ea-4c03-85d4-7a6940b8e988"
      },
      "execution_count": null,
      "outputs": [
        {
          "output_type": "execute_result",
          "data": {
            "text/plain": [
              "{'document': [Annotation(document, 0, 109, Steven Rothery is the original guitarist and the longest continuous member of the British rock band Marillion., {})],\n",
              " 'entities': [Annotation(chunk, 0, 13, Steven Rothery, {'entity': 'PERSON', 'sentence': '0', 'chunk': '0'}),\n",
              "  Annotation(chunk, 82, 88, British, {'entity': 'NORP', 'sentence': '0', 'chunk': '1'}),\n",
              "  Annotation(chunk, 100, 108, Marillion, {'entity': 'ORG', 'sentence': '0', 'chunk': '2'})],\n",
              " 'ner': [Annotation(named_entity, 0, 5, B-PERSON, {'Some(I-CARDINAL)': '1.3950217E-6', 'Some(B-TIME)': '8.392712E-6', 'Some(I-LOC)': '2.4527526E-6', 'Some(B-GPE)': '1.4145754E-4', 'Some(B-WORK_OF_ART)': '1.2767659E-5', 'Some(I-GPE)': '7.0996966E-6', 'Some(B-LANGUAGE)': '3.469728E-6', 'Some(I-ORDINAL)': '7.2051887E-7', 'Some(B-FAC)': '3.322305E-6', 'Some(I-PRODUCT)': '3.2988514E-6', 'Some(B-NORP)': '7.93385E-6', 'Some(I-EVENT)': '2.5540264E-6', 'Some(B-ORG)': '2.3466631E-5', 'Some(O)': '0.0033311455', 'Some(B-ORDINAL)': '3.699E-6', 'Some(I-MONEY)': '4.3287896E-6', 'Some(I-ORG)': '7.0287015E-6', 'Some(I-PERSON)': '7.725454E-5', 'Some(B-LAW)': '3.8991834E-6', 'Some(B-MONEY)': '1.315208E-6', 'Some(B-CARDINAL)': '1.2494139E-5', 'Some(I-FAC)': '3.809151E-6', 'Some(B-PERCENT)': '3.3578392E-6', 'Some(B-PRODUCT)': '6.6934945E-6', 'Some(I-DATE)': '9.561672E-6', 'Some(B-LOC)': '4.839414E-6', 'Some(I-LAW)': '3.576584E-6', 'Some(I-WORK_OF_ART)': '7.556051E-6', 'Some(B-QUANTITY)': '1.947604E-6', 'Some(I-QUANTITY)': '6.075803E-6', 'Some(I-LANGUAGE)': '6.9534815E-7', 'Some(B-PERSON)': '0.99626774', 'Some(I-PERCENT)': '1.6473621E-6', 'Some(B-EVENT)': '1.8551772E-6', 'Some(I-TIME)': '6.1151177E-6', 'Some(B-DATE)': '1.3328494E-5', 'word': 'Steven', 'Some(I-NORP)': '1.692784E-6', 'sentence': '0'}),\n",
              "  Annotation(named_entity, 7, 13, I-PERSON, {'Some(I-CARDINAL)': '8.12297E-6', 'Some(B-TIME)': '1.3115962E-5', 'Some(I-LOC)': '1.6996055E-5', 'Some(B-GPE)': '2.3291474E-5', 'Some(B-WORK_OF_ART)': '9.871207E-6', 'Some(I-GPE)': '3.1855406E-4', 'Some(B-LANGUAGE)': '1.4290206E-5', 'Some(I-ORDINAL)': '3.0856447E-6', 'Some(B-FAC)': '7.187974E-6', 'Some(I-PRODUCT)': '1.11111785E-5', 'Some(B-NORP)': '1.380614E-5', 'Some(I-EVENT)': '4.2831057E-6', 'Some(B-ORG)': '1.0138165E-5', 'Some(O)': '0.0018733735', 'Some(B-ORDINAL)': '1.3009301E-5', 'Some(I-MONEY)': '6.018592E-6', 'Some(I-ORG)': '4.7342353E-5', 'Some(I-PERSON)': '0.9969444', 'Some(B-LAW)': '2.1709156E-6', 'Some(B-MONEY)': '7.323741E-6', 'Some(B-CARDINAL)': '1.9044628E-5', 'Some(I-FAC)': '2.4908026E-5', 'Some(B-PERCENT)': '7.98943E-6', 'Some(B-PRODUCT)': '2.9593852E-5', 'Some(I-DATE)': '2.997786E-5', 'Some(B-LOC)': '9.734772E-6', 'Some(I-LAW)': '6.942646E-6', 'Some(I-WORK_OF_ART)': '2.6605028E-5', 'Some(B-QUANTITY)': '6.906684E-6', 'Some(I-QUANTITY)': '1.2247516E-5', 'Some(I-LANGUAGE)': '3.4063078E-6', 'Some(B-PERSON)': '4.1032472E-4', 'Some(I-PERCENT)': '7.0828737E-6', 'Some(B-EVENT)': '3.9101533E-6', 'Some(I-TIME)': '1.4240286E-5', 'Some(B-DATE)': '2.9426637E-5', 'word': 'Rothery', 'Some(I-NORP)': '1.015798E-5', 'sentence': '0'}),\n",
              "  Annotation(named_entity, 15, 16, O, {'Some(I-CARDINAL)': '5.2121754E-7', 'Some(B-TIME)': '2.8454778E-7', 'Some(I-LOC)': '3.151788E-7', 'Some(B-GPE)': '7.9251913E-7', 'Some(B-WORK_OF_ART)': '2.3540828E-7', 'Some(I-GPE)': '4.1680758E-7', 'Some(B-LANGUAGE)': '2.0737998E-7', 'Some(I-ORDINAL)': '1.543955E-8', 'Some(B-FAC)': '8.660239E-8', 'Some(I-PRODUCT)': '2.4518016E-7', 'Some(B-NORP)': '5.9943017E-7', 'Some(I-EVENT)': '8.88025E-8', 'Some(B-ORG)': '5.7285706E-7', 'Some(O)': '0.9999866', 'Some(B-ORDINAL)': '5.4390756E-7', 'Some(I-MONEY)': '2.1215644E-7', 'Some(I-ORG)': '9.446714E-7', 'Some(I-PERSON)': '1.0965238E-6', 'Some(B-LAW)': '4.221988E-8', 'Some(B-MONEY)': '1.0794627E-7', 'Some(B-CARDINAL)': '1.2842777E-6', 'Some(I-FAC)': '2.4790305E-7', 'Some(B-PERCENT)': '8.670133E-8', 'Some(B-PRODUCT)': '1.5317167E-7', 'Some(I-DATE)': '7.028272E-7', 'Some(B-LOC)': '2.7548327E-7', 'Some(I-LAW)': '2.3140998E-7', 'Some(I-WORK_OF_ART)': '3.1315145E-7', 'Some(B-QUANTITY)': '2.1128633E-7', 'Some(I-QUANTITY)': '2.4990817E-7', 'Some(I-LANGUAGE)': '3.035085E-8', 'Some(B-PERSON)': '6.63003E-7', 'Some(I-PERCENT)': '1.5794484E-7', 'Some(B-EVENT)': '7.498233E-8', 'Some(I-TIME)': '3.8655767E-7', 'Some(B-DATE)': '7.7304054E-7', 'word': 'is', 'Some(I-NORP)': '2.470209E-7', 'sentence': '0'}),\n",
              "  Annotation(named_entity, 18, 20, O, {'Some(I-CARDINAL)': '3.8008136E-7', 'Some(B-TIME)': '2.8969936E-7', 'Some(I-LOC)': '1.7601047E-7', 'Some(B-GPE)': '7.2879516E-7', 'Some(B-WORK_OF_ART)': '3.0794834E-7', 'Some(I-GPE)': '2.3016042E-7', 'Some(B-LANGUAGE)': '2.0906246E-7', 'Some(I-ORDINAL)': '1.08618945E-8', 'Some(B-FAC)': '1.3795808E-7', 'Some(I-PRODUCT)': '1.4630358E-7', 'Some(B-NORP)': '7.287337E-7', 'Some(I-EVENT)': '6.035428E-8', 'Some(B-ORG)': '7.0252037E-7', 'Some(O)': '0.99998903', 'Some(B-ORDINAL)': '3.868182E-7', 'Some(I-MONEY)': '1.6076106E-7', 'Some(I-ORG)': '6.7113956E-7', 'Some(I-PERSON)': '6.8696266E-7', 'Some(B-LAW)': '5.4052386E-8', 'Some(B-MONEY)': '1.55693E-7', 'Some(B-CARDINAL)': '1.0209816E-6', 'Some(I-FAC)': '1.882863E-7', 'Some(B-PERCENT)': '6.8603086E-8', 'Some(B-PRODUCT)': '1.4275159E-7', 'Some(I-DATE)': '3.1674674E-7', 'Some(B-LOC)': '3.285889E-7', 'Some(I-LAW)': '1.4687046E-7', 'Some(I-WORK_OF_ART)': '3.1734598E-7', 'Some(B-QUANTITY)': '1.8148714E-7', 'Some(I-QUANTITY)': '1.4615902E-7', 'Some(I-LANGUAGE)': '2.7951277E-8', 'Some(B-PERSON)': '7.1333886E-7', 'Some(I-PERCENT)': '9.7658166E-8', 'Some(B-EVENT)': '8.1976225E-8', 'Some(I-TIME)': '2.434862E-7', 'Some(B-DATE)': '5.5362443E-7', 'word': 'the', 'Some(I-NORP)': '1.6343301E-7', 'sentence': '0'}),\n",
              "  Annotation(named_entity, 22, 29, O, {'Some(I-CARDINAL)': '5.233145E-7', 'Some(B-TIME)': '2.2995746E-7', 'Some(I-LOC)': '2.249281E-7', 'Some(B-GPE)': '8.604874E-7', 'Some(B-WORK_OF_ART)': '3.0281677E-7', 'Some(I-GPE)': '2.20959E-7', 'Some(B-LANGUAGE)': '2.685805E-7', 'Some(I-ORDINAL)': '1.3843019E-8', 'Some(B-FAC)': '1.4057368E-7', 'Some(I-PRODUCT)': '1.4405427E-7', 'Some(B-NORP)': '1.2914918E-6', 'Some(I-EVENT)': '7.154859E-8', 'Some(B-ORG)': '6.874457E-7', 'Some(O)': '0.9999876', 'Some(B-ORDINAL)': '7.400486E-7', 'Some(I-MONEY)': '2.1183438E-7', 'Some(I-ORG)': '6.848413E-7', 'Some(I-PERSON)': '5.671838E-7', 'Some(B-LAW)': '5.879274E-8', 'Some(B-MONEY)': '1.4224851E-7', 'Some(B-CARDINAL)': '1.1733003E-6', 'Some(I-FAC)': '2.1919354E-7', 'Some(B-PERCENT)': '7.156637E-8', 'Some(B-PRODUCT)': '1.4175123E-7', 'Some(I-DATE)': '3.9316492E-7', 'Some(B-LOC)': '3.2082426E-7', 'Some(I-LAW)': '1.6286373E-7', 'Some(I-WORK_OF_ART)': '3.6910382E-7', 'Some(B-QUANTITY)': '2.1450855E-7', 'Some(I-QUANTITY)': '2.0690553E-7', 'Some(I-LANGUAGE)': '3.866044E-8', 'Some(B-PERSON)': '6.8664446E-7', 'Some(I-PERCENT)': '1.07629894E-7', 'Some(B-EVENT)': '6.149297E-8', 'Some(I-TIME)': '2.5100684E-7', 'Some(B-DATE)': '4.076418E-7', 'word': 'original', 'Some(I-NORP)': '2.1551416E-7', 'sentence': '0'}),\n",
              "  Annotation(named_entity, 31, 39, O, {'Some(I-CARDINAL)': '8.8270383E-7', 'Some(B-TIME)': '5.294898E-7', 'Some(I-LOC)': '2.413753E-7', 'Some(B-GPE)': '1.2944032E-6', 'Some(B-WORK_OF_ART)': '4.580296E-7', 'Some(I-GPE)': '2.9059402E-7', 'Some(B-LANGUAGE)': '3.414043E-7', 'Some(I-ORDINAL)': '2.0114541E-8', 'Some(B-FAC)': '1.502792E-7', 'Some(I-PRODUCT)': '1.4844849E-7', 'Some(B-NORP)': '1.928708E-6', 'Some(I-EVENT)': '1.13046234E-7', 'Some(B-ORG)': '1.0977371E-6', 'Some(O)': '0.9999756', 'Some(B-ORDINAL)': '1.1287526E-6', 'Some(I-MONEY)': '2.865385E-7', 'Some(I-ORG)': '6.737166E-7', 'Some(I-PERSON)': '1.4571538E-6', 'Some(B-LAW)': '9.656957E-8', 'Some(B-MONEY)': '2.0582847E-7', 'Some(B-CARDINAL)': '4.5018833E-6', 'Some(I-FAC)': '2.7406261E-7', 'Some(B-PERCENT)': '1.2621888E-7', 'Some(B-PRODUCT)': '2.1018107E-7', 'Some(I-DATE)': '6.925547E-7', 'Some(B-LOC)': '4.7125522E-7', 'Some(I-LAW)': '2.0179652E-7', 'Some(I-WORK_OF_ART)': '5.235119E-7', 'Some(B-QUANTITY)': '3.1332542E-7', 'Some(I-QUANTITY)': '3.0121393E-7', 'Some(I-LANGUAGE)': '5.0085664E-8', 'Some(B-PERSON)': '3.8166886E-6', 'Some(I-PERCENT)': '1.6266891E-7', 'Some(B-EVENT)': '9.947725E-8', 'Some(I-TIME)': '3.498487E-7', 'Some(B-DATE)': '7.4836333E-7', 'word': 'guitarist', 'Some(I-NORP)': '2.0849672E-7', 'sentence': '0'}),\n",
              "  Annotation(named_entity, 41, 43, O, {'Some(I-CARDINAL)': '6.085252E-7', 'Some(B-TIME)': '2.6602314E-7', 'Some(I-LOC)': '2.1914302E-7', 'Some(B-GPE)': '4.702838E-7', 'Some(B-WORK_OF_ART)': '1.8862977E-7', 'Some(I-GPE)': '2.6235801E-7', 'Some(B-LANGUAGE)': '1.9004064E-7', 'Some(I-ORDINAL)': '1.1738368E-8', 'Some(B-FAC)': '9.174533E-8', 'Some(I-PRODUCT)': '1.7161778E-7', 'Some(B-NORP)': '4.5255325E-7', 'Some(I-EVENT)': '7.403527E-8', 'Some(B-ORG)': '3.5136463E-7', 'Some(O)': '0.9999901', 'Some(B-ORDINAL)': '4.129766E-7', 'Some(I-MONEY)': '1.8880729E-7', 'Some(I-ORG)': '7.8955054E-7', 'Some(I-PERSON)': '6.000353E-7', 'Some(B-LAW)': '3.694545E-8', 'Some(B-MONEY)': '1.1742129E-7', 'Some(B-CARDINAL)': '9.566461E-7', 'Some(I-FAC)': '2.4401717E-7', 'Some(B-PERCENT)': '6.338326E-8', 'Some(B-PRODUCT)': '1.04406396E-7', 'Some(I-DATE)': '5.077906E-7', 'Some(B-LOC)': '2.099865E-7', 'Some(I-LAW)': '1.7884707E-7', 'Some(I-WORK_OF_ART)': '3.4760228E-7', 'Some(B-QUANTITY)': '1.6369358E-7', 'Some(I-QUANTITY)': '2.1958427E-7', 'Some(I-LANGUAGE)': '3.0263973E-8', 'Some(B-PERSON)': '3.1636466E-7', 'Some(I-PERCENT)': '1.3021588E-7', 'Some(B-EVENT)': '5.5668117E-8', 'Some(I-TIME)': '3.052479E-7', 'Some(B-DATE)': '4.0365256E-7', 'word': 'and', 'Some(I-NORP)': '1.7711127E-7', 'sentence': '0'}),\n",
              "  Annotation(named_entity, 45, 47, O, {'Some(I-CARDINAL)': '4.221926E-7', 'Some(B-TIME)': '3.05033E-7', 'Some(I-LOC)': '1.8698871E-7', 'Some(B-GPE)': '5.5795925E-7', 'Some(B-WORK_OF_ART)': '2.4347898E-7', 'Some(I-GPE)': '2.3862685E-7', 'Some(B-LANGUAGE)': '2.1570538E-7', 'Some(I-ORDINAL)': '1.1755596E-8', 'Some(B-FAC)': '1.0766658E-7', 'Some(I-PRODUCT)': '1.5004132E-7', 'Some(B-NORP)': '6.0163217E-7', 'Some(I-EVENT)': '6.4834566E-8', 'Some(B-ORG)': '4.174637E-7', 'Some(O)': '0.99998987', 'Some(B-ORDINAL)': '4.5764733E-7', 'Some(I-MONEY)': '1.6414504E-7', 'Some(I-ORG)': '5.862533E-7', 'Some(I-PERSON)': '5.359816E-7', 'Some(B-LAW)': '5.1527106E-8', 'Some(B-MONEY)': '1.4063991E-7', 'Some(B-CARDINAL)': '1.1482151E-6', 'Some(I-FAC)': '2.0538965E-7', 'Some(B-PERCENT)': '7.230125E-8', 'Some(B-PRODUCT)': '1.1919946E-7', 'Some(I-DATE)': '3.8949696E-7', 'Some(B-LOC)': '2.5798488E-7', 'Some(I-LAW)': '1.6126022E-7', 'Some(I-WORK_OF_ART)': '3.026039E-7', 'Some(B-QUANTITY)': '2.2696997E-7', 'Some(I-QUANTITY)': '1.8784698E-7', 'Some(I-LANGUAGE)': '3.4243776E-8', 'Some(B-PERSON)': '3.5432788E-7', 'Some(I-PERCENT)': '1.1160027E-7', 'Some(B-EVENT)': '6.865439E-8', 'Some(I-TIME)': '2.84749E-7', 'Some(B-DATE)': '5.7290265E-7', 'word': 'the', 'Some(I-NORP)': '1.7043588E-7', 'sentence': '0'}),\n",
              "  Annotation(named_entity, 49, 55, O, {'Some(I-CARDINAL)': '5.8094275E-7', 'Some(B-TIME)': '2.1724904E-7', 'Some(I-LOC)': '2.6365024E-7', 'Some(B-GPE)': '5.829038E-7', 'Some(B-WORK_OF_ART)': '2.4463992E-7', 'Some(I-GPE)': '2.450293E-7', 'Some(B-LANGUAGE)': '2.159111E-7', 'Some(I-ORDINAL)': '1.6311617E-8', 'Some(B-FAC)': '9.937998E-8', 'Some(I-PRODUCT)': '1.4327709E-7', 'Some(B-NORP)': '8.268746E-7', 'Some(I-EVENT)': '7.060339E-8', 'Some(B-ORG)': '4.4694346E-7', 'Some(O)': '0.99998915', 'Some(B-ORDINAL)': '6.437947E-7', 'Some(I-MONEY)': '1.705264E-7', 'Some(I-ORG)': '5.411259E-7', 'Some(I-PERSON)': '4.7194396E-7', 'Some(B-LAW)': '5.0516398E-8', 'Some(B-MONEY)': '1.06096586E-7', 'Some(B-CARDINAL)': '1.1837532E-6', 'Some(I-FAC)': '2.2552155E-7', 'Some(B-PERCENT)': '8.3576865E-8', 'Some(B-PRODUCT)': '1.4354801E-7', 'Some(I-DATE)': '6.163669E-7', 'Some(B-LOC)': '2.4660477E-7', 'Some(I-LAW)': '1.8392552E-7', 'Some(I-WORK_OF_ART)': '2.8026824E-7', 'Some(B-QUANTITY)': '1.9384854E-7', 'Some(I-QUANTITY)': '2.0865737E-7', 'Some(I-LANGUAGE)': '3.6968686E-8', 'Some(B-PERSON)': '3.92471E-7', 'Some(I-PERCENT)': '1.14702445E-7', 'Some(B-EVENT)': '6.2910885E-8', 'Some(I-TIME)': '2.8749463E-7', 'Some(B-DATE)': '4.7395335E-7', 'word': 'longest', 'Some(I-NORP)': '1.9745036E-7', 'sentence': '0'}),\n",
              "  Annotation(named_entity, 57, 66, O, {'Some(I-CARDINAL)': '5.21577E-7', 'Some(B-TIME)': '1.8126516E-7', 'Some(I-LOC)': '1.9803097E-7', 'Some(B-GPE)': '8.628239E-7', 'Some(B-WORK_OF_ART)': '2.903493E-7', 'Some(I-GPE)': '2.2130786E-7', 'Some(B-LANGUAGE)': '2.404054E-7', 'Some(I-ORDINAL)': '1.2723202E-8', 'Some(B-FAC)': '1.0381818E-7', 'Some(I-PRODUCT)': '1.2787716E-7', 'Some(B-NORP)': '1.3904247E-6', 'Some(I-EVENT)': '6.8515504E-8', 'Some(B-ORG)': '6.831676E-7', 'Some(O)': '0.9999886', 'Some(B-ORDINAL)': '4.1878448E-7', 'Some(I-MONEY)': '1.8013755E-7', 'Some(I-ORG)': '5.6062567E-7', 'Some(I-PERSON)': '4.1704465E-7', 'Some(B-LAW)': '6.1866494E-8', 'Some(B-MONEY)': '1.1560647E-7', 'Some(B-CARDINAL)': '8.5142267E-7', 'Some(I-FAC)': '1.9618552E-7', 'Some(B-PERCENT)': '6.8767896E-8', 'Some(B-PRODUCT)': '1.3334069E-7', 'Some(I-DATE)': '5.131989E-7', 'Some(B-LOC)': '3.4494582E-7', 'Some(I-LAW)': '1.7778397E-7', 'Some(I-WORK_OF_ART)': '2.819696E-7', 'Some(B-QUANTITY)': '2.072427E-7', 'Some(I-QUANTITY)': '2.2005246E-7', 'Some(I-LANGUAGE)': '3.7484416E-8', 'Some(B-PERSON)': '5.4313125E-7', 'Some(I-PERCENT)': '1.12134046E-7', 'Some(B-EVENT)': '6.844548E-8', 'Some(I-TIME)': '2.5847532E-7', 'Some(B-DATE)': '4.99868E-7', 'word': 'continuous', 'Some(I-NORP)': '2.1182896E-7', 'sentence': '0'}),\n",
              "  Annotation(named_entity, 68, 73, O, {'Some(I-CARDINAL)': '5.4487055E-7', 'Some(B-TIME)': '2.382639E-7', 'Some(I-LOC)': '2.292446E-7', 'Some(B-GPE)': '9.816906E-7', 'Some(B-WORK_OF_ART)': '2.8646676E-7', 'Some(I-GPE)': '2.642433E-7', 'Some(B-LANGUAGE)': '1.9716353E-7', 'Some(I-ORDINAL)': '1.445293E-8', 'Some(B-FAC)': '1.2063197E-7', 'Some(I-PRODUCT)': '1.6248515E-7', 'Some(B-NORP)': '8.943799E-7', 'Some(I-EVENT)': '7.544026E-8', 'Some(B-ORG)': '6.9655124E-7', 'Some(O)': '0.9999876', 'Some(B-ORDINAL)': '5.114613E-7', 'Some(I-MONEY)': '1.9234457E-7', 'Some(I-ORG)': '6.9452574E-7', 'Some(I-PERSON)': '7.569634E-7', 'Some(B-LAW)': '6.199952E-8', 'Some(B-MONEY)': '1.291434E-7', 'Some(B-CARDINAL)': '1.2374012E-6', 'Some(I-FAC)': '2.0973633E-7', 'Some(B-PERCENT)': '8.4681695E-8', 'Some(B-PRODUCT)': '1.2699842E-7', 'Some(I-DATE)': '4.374278E-7', 'Some(B-LOC)': '3.9483618E-7', 'Some(I-LAW)': '1.827173E-7', 'Some(I-WORK_OF_ART)': '3.1618498E-7', 'Some(B-QUANTITY)': '2.3552066E-7', 'Some(I-QUANTITY)': '2.4650896E-7', 'Some(I-LANGUAGE)': '3.4440752E-8', 'Some(B-PERSON)': '7.1281875E-7', 'Some(I-PERCENT)': '1.1696118E-7', 'Some(B-EVENT)': '6.182382E-8', 'Some(I-TIME)': '3.3188851E-7', 'Some(B-DATE)': '4.3795723E-7', 'word': 'member', 'Some(I-NORP)': '1.7661367E-7', 'sentence': '0'}),\n",
              "  Annotation(named_entity, 75, 76, O, {'Some(I-CARDINAL)': '4.577291E-7', 'Some(B-TIME)': '2.8095963E-7', 'Some(I-LOC)': '2.6000214E-7', 'Some(B-GPE)': '8.787872E-7', 'Some(B-WORK_OF_ART)': '2.8734658E-7', 'Some(I-GPE)': '3.4713455E-7', 'Some(B-LANGUAGE)': '2.2440815E-7', 'Some(I-ORDINAL)': '1.2075688E-8', 'Some(B-FAC)': '1.06644E-7', 'Some(I-PRODUCT)': '2.084443E-7', 'Some(B-NORP)': '8.160615E-7', 'Some(I-EVENT)': '8.5654776E-8', 'Some(B-ORG)': '1.0927773E-6', 'Some(O)': '0.9999864', 'Some(B-ORDINAL)': '3.5393327E-7', 'Some(I-MONEY)': '2.1053303E-7', 'Some(I-ORG)': '1.6659574E-6', 'Some(I-PERSON)': '1.0019473E-6', 'Some(B-LAW)': '6.6996925E-8', 'Some(B-MONEY)': '1.356072E-7', 'Some(B-CARDINAL)': '8.384327E-7', 'Some(I-FAC)': '2.0633058E-7', 'Some(B-PERCENT)': '7.826841E-8', 'Some(B-PRODUCT)': '1.2819079E-7', 'Some(I-DATE)': '4.8391655E-7', 'Some(B-LOC)': '2.9319207E-7', 'Some(I-LAW)': '2.7258943E-7', 'Some(I-WORK_OF_ART)': '4.759304E-7', 'Some(B-QUANTITY)': '2.0669638E-7', 'Some(I-QUANTITY)': '2.1699323E-7', 'Some(I-LANGUAGE)': '3.288612E-8', 'Some(B-PERSON)': '6.7985565E-7', 'Some(I-PERCENT)': '1.1879859E-7', 'Some(B-EVENT)': '6.890159E-8', 'Some(I-TIME)': '3.312175E-7', 'Some(B-DATE)': '4.814213E-7', 'word': 'of', 'Some(I-NORP)': '2.0278672E-7', 'sentence': '0'}),\n",
              "  Annotation(named_entity, 78, 80, O, {'Some(I-CARDINAL)': '4.559585E-7', 'Some(B-TIME)': '4.0672856E-7', 'Some(I-LOC)': '2.7784537E-7', 'Some(B-GPE)': '2.4658766E-6', 'Some(B-WORK_OF_ART)': '5.8696247E-7', 'Some(I-GPE)': '5.06434E-7', 'Some(B-LANGUAGE)': '4.976154E-7', 'Some(I-ORDINAL)': '1.5046384E-8', 'Some(B-FAC)': '2.5162618E-7', 'Some(I-PRODUCT)': '2.5653287E-7', 'Some(B-NORP)': '2.621682E-6', 'Some(I-EVENT)': '9.271298E-8', 'Some(B-ORG)': '2.8586344E-6', 'Some(O)': '0.9999754', 'Some(B-ORDINAL)': '3.0539144E-7', 'Some(I-MONEY)': '3.258154E-7', 'Some(I-ORG)': '2.1067697E-6', 'Some(I-PERSON)': '1.7173716E-6', 'Some(B-LAW)': '1.5926081E-7', 'Some(B-MONEY)': '2.1697913E-7', 'Some(B-CARDINAL)': '1.1622819E-6', 'Some(I-FAC)': '2.7457466E-7', 'Some(B-PERCENT)': '7.291123E-8', 'Some(B-PRODUCT)': '3.0647962E-7', 'Some(I-DATE)': '4.0044168E-7', 'Some(B-LOC)': '6.9207954E-7', 'Some(I-LAW)': '3.6300816E-7', 'Some(I-WORK_OF_ART)': '6.549007E-7', 'Some(B-QUANTITY)': '2.8020028E-7', 'Some(I-QUANTITY)': '2.3134969E-7', 'Some(I-LANGUAGE)': '4.6601087E-8', 'Some(B-PERSON)': '1.6163793E-6', 'Some(I-PERCENT)': '1.19154606E-7', 'Some(B-EVENT)': '1.5293237E-7', 'Some(I-TIME)': '3.6960952E-7', 'Some(B-DATE)': '1.4277107E-6', 'word': 'the', 'Some(I-NORP)': '3.2464237E-7', 'sentence': '0'}),\n",
              "  Annotation(named_entity, 82, 88, B-NORP, {'Some(I-CARDINAL)': '6.244279E-6', 'Some(B-TIME)': '6.108387E-6', 'Some(I-LOC)': '6.1405285E-6', 'Some(B-GPE)': '4.4001412E-4', 'Some(B-WORK_OF_ART)': '6.4216547E-6', 'Some(I-GPE)': '5.004999E-6', 'Some(B-LANGUAGE)': '6.432277E-5', 'Some(I-ORDINAL)': '1.1051727E-6', 'Some(B-FAC)': '2.0886496E-6', 'Some(I-PRODUCT)': '2.3243033E-6', 'Some(B-NORP)': '0.9969838', 'Some(I-EVENT)': '8.970179E-6', 'Some(B-ORG)': '1.9561092E-5', 'Some(O)': '0.0020796857', 'Some(B-ORDINAL)': '3.2109813E-6', 'Some(I-MONEY)': '1.10169785E-5', 'Some(I-ORG)': '1.1014794E-5', 'Some(I-PERSON)': '6.8843956E-6', 'Some(B-LAW)': '4.0576924E-6', 'Some(B-MONEY)': '5.785076E-6', 'Some(B-CARDINAL)': '1.2067345E-5', 'Some(I-FAC)': '3.5048308E-6', 'Some(B-PERCENT)': '3.721826E-6', 'Some(B-PRODUCT)': '4.883011E-6', 'Some(I-DATE)': '4.9284063E-6', 'Some(B-LOC)': '3.4287274E-5', 'Some(I-LAW)': '5.7134507E-6', 'Some(I-WORK_OF_ART)': '1.2599784E-5', 'Some(B-QUANTITY)': '9.714391E-6', 'Some(I-QUANTITY)': '7.7399E-6', 'Some(I-LANGUAGE)': '4.5633324E-6', 'Some(B-PERSON)': '3.9087918E-5', 'Some(I-PERCENT)': '4.0984173E-6', 'Some(B-EVENT)': '1.0014333E-5', 'Some(I-TIME)': '5.456966E-6', 'Some(B-DATE)': '1.2456096E-4', 'word': 'British', 'Some(I-NORP)': '3.92846E-5', 'sentence': '0'}),\n",
              "  Annotation(named_entity, 90, 93, O, {'Some(I-CARDINAL)': '6.0517226E-7', 'Some(B-TIME)': '1.937717E-7', 'Some(I-LOC)': '5.43516E-7', 'Some(B-GPE)': '1.2402396E-6', 'Some(B-WORK_OF_ART)': '3.4984552E-7', 'Some(I-GPE)': '6.237961E-7', 'Some(B-LANGUAGE)': '3.3661354E-7', 'Some(I-ORDINAL)': '1.6615665E-8', 'Some(B-FAC)': '1.3046355E-7', 'Some(I-PRODUCT)': '2.9019364E-7', 'Some(B-NORP)': '1.333286E-6', 'Some(I-EVENT)': '1.7426949E-7', 'Some(B-ORG)': '1.264985E-6', 'Some(O)': '0.999982', 'Some(B-ORDINAL)': '5.1529565E-7', 'Some(I-MONEY)': '2.324899E-7', 'Some(I-ORG)': '2.6164366E-6', 'Some(I-PERSON)': '1.1657173E-6', 'Some(B-LAW)': '6.2304515E-8', 'Some(B-MONEY)': '1.16539695E-7', 'Some(B-CARDINAL)': '9.893309E-7', 'Some(I-FAC)': '3.6160768E-7', 'Some(B-PERCENT)': '6.3614756E-8', 'Some(B-PRODUCT)': '2.0992087E-7', 'Some(I-DATE)': '5.787311E-7', 'Some(B-LOC)': '4.059877E-7', 'Some(I-LAW)': '2.6961052E-7', 'Some(I-WORK_OF_ART)': '6.7478123E-7', 'Some(B-QUANTITY)': '2.3035139E-7', 'Some(I-QUANTITY)': '2.1346847E-7', 'Some(I-LANGUAGE)': '5.2787797E-8', 'Some(B-PERSON)': '8.214983E-7', 'Some(I-PERCENT)': '1.023436E-7', 'Some(B-EVENT)': '7.42105E-8', 'Some(I-TIME)': '2.6698638E-7', 'Some(B-DATE)': '4.6684494E-7', 'word': 'rock', 'Some(I-NORP)': '4.0283177E-7', 'sentence': '0'}),\n",
              "  Annotation(named_entity, 95, 98, O, {'Some(I-CARDINAL)': '4.7134372E-7', 'Some(B-TIME)': '2.6563126E-7', 'Some(I-LOC)': '3.5826153E-7', 'Some(B-GPE)': '1.1438809E-6', 'Some(B-WORK_OF_ART)': '4.669338E-7', 'Some(I-GPE)': '4.562446E-7', 'Some(B-LANGUAGE)': '2.6955644E-7', 'Some(I-ORDINAL)': '1.5810548E-8', 'Some(B-FAC)': '1.2396437E-7', 'Some(I-PRODUCT)': '2.4068063E-7', 'Some(B-NORP)': '1.2169766E-6', 'Some(I-EVENT)': '1.4395552E-7', 'Some(B-ORG)': '2.882403E-6', 'Some(O)': '0.99997836', 'Some(B-ORDINAL)': '7.054268E-7', 'Some(I-MONEY)': '2.3337992E-7', 'Some(I-ORG)': '3.4046916E-6', 'Some(I-PERSON)': '1.0722308E-6', 'Some(B-LAW)': '7.4656704E-8', 'Some(B-MONEY)': '1.5922039E-7', 'Some(B-CARDINAL)': '1.5274123E-6', 'Some(I-FAC)': '2.4710016E-7', 'Some(B-PERCENT)': '6.2669464E-8', 'Some(B-PRODUCT)': '1.9780458E-7', 'Some(I-DATE)': '9.495262E-7', 'Some(B-LOC)': '3.2726643E-7', 'Some(I-LAW)': '4.089617E-7', 'Some(I-WORK_OF_ART)': '6.095222E-7', 'Some(B-QUANTITY)': '2.3475211E-7', 'Some(I-QUANTITY)': '2.0294226E-7', 'Some(I-LANGUAGE)': '3.882119E-8', 'Some(B-PERSON)': '1.3964602E-6', 'Some(I-PERCENT)': '1.00304405E-7', 'Some(B-EVENT)': '7.9895585E-8', 'Some(I-TIME)': '3.423115E-7', 'Some(B-DATE)': '9.0857134E-7', 'word': 'band', 'Some(I-NORP)': '3.067293E-7', 'sentence': '0'}),\n",
              "  Annotation(named_entity, 100, 108, B-ORG, {'Some(I-CARDINAL)': '9.754525E-6', 'Some(B-TIME)': '1.4301112E-5', 'Some(I-LOC)': '1.0721619E-5', 'Some(B-GPE)': '5.518885E-4', 'Some(B-WORK_OF_ART)': '7.634989E-4', 'Some(I-GPE)': '2.5833218E-5', 'Some(B-LANGUAGE)': '1.7610397E-5', 'Some(I-ORDINAL)': '7.2403577E-6', 'Some(B-FAC)': '9.635579E-5', 'Some(I-PRODUCT)': '1.914653E-5', 'Some(B-NORP)': '5.993905E-4', 'Some(I-EVENT)': '1.0339285E-5', 'Some(B-ORG)': '0.9897381', 'Some(O)': '9.727968E-4', 'Some(B-ORDINAL)': '9.886312E-6', 'Some(I-MONEY)': '1.9022038E-5', 'Some(I-ORG)': '5.9068715E-4', 'Some(I-PERSON)': '5.38953E-5', 'Some(B-LAW)': '5.107973E-5', 'Some(B-MONEY)': '1.3744367E-5', 'Some(B-CARDINAL)': '5.0980143E-5', 'Some(I-FAC)': '1.7330853E-5', 'Some(B-PERCENT)': '1.3018816E-5', 'Some(B-PRODUCT)': '2.6321533E-4', 'Some(I-DATE)': '3.9159782E-5', 'Some(B-LOC)': '5.282444E-5', 'Some(I-LAW)': '1.663875E-5', 'Some(I-WORK_OF_ART)': '4.9927723E-5', 'Some(B-QUANTITY)': '1.5173184E-5', 'Some(I-QUANTITY)': '2.1935166E-5', 'Some(I-LANGUAGE)': '3.5729772E-6', 'Some(B-PERSON)': '0.00568155', 'Some(I-PERCENT)': '1.2165848E-5', 'Some(B-EVENT)': '5.2946696E-5', 'Some(I-TIME)': '1.1090572E-5', 'Some(B-DATE)': '1.0696936E-4', 'word': 'Marillion', 'Some(I-NORP)': '1.6172111E-5', 'sentence': '0'}),\n",
              "  Annotation(named_entity, 109, 109, O, {'Some(I-CARDINAL)': '9.0237705E-7', 'Some(B-TIME)': '5.365493E-7', 'Some(I-LOC)': '2.7149272E-7', 'Some(B-GPE)': '6.736659E-7', 'Some(B-WORK_OF_ART)': '1.0761399E-6', 'Some(I-GPE)': '2.5581082E-7', 'Some(B-LANGUAGE)': '1.7674031E-7', 'Some(I-ORDINAL)': '1.8540055E-8', 'Some(B-FAC)': '1.9316332E-7', 'Some(I-PRODUCT)': '1.9235283E-7', 'Some(B-NORP)': '9.401447E-7', 'Some(I-EVENT)': '9.842383E-8', 'Some(B-ORG)': '3.5687858E-6', 'Some(O)': '0.99997807', 'Some(B-ORDINAL)': '9.4840436E-7', 'Some(I-MONEY)': '2.1306126E-7', 'Some(I-ORG)': '6.902513E-7', 'Some(I-PERSON)': '1.146999E-6', 'Some(B-LAW)': '1.224098E-7', 'Some(B-MONEY)': '2.7747632E-7', 'Some(B-CARDINAL)': '2.834191E-6', 'Some(I-FAC)': '2.34322E-7', 'Some(B-PERCENT)': '1.1067228E-7', 'Some(B-PRODUCT)': '2.1415961E-7', 'Some(I-DATE)': '1.25371E-6', 'Some(B-LOC)': '4.7416313E-7', 'Some(I-LAW)': '3.0151804E-7', 'Some(I-WORK_OF_ART)': '3.4724593E-7', 'Some(B-QUANTITY)': '2.632339E-7', 'Some(I-QUANTITY)': '3.6712584E-7', 'Some(I-LANGUAGE)': '3.9499437E-8', 'Some(B-PERSON)': '1.2672328E-6', 'Some(I-PERCENT)': '1.364359E-7', 'Some(B-EVENT)': '1.7153303E-7', 'Some(I-TIME)': '3.164671E-7', 'Some(B-DATE)': '1.0233446E-6', 'word': '.', 'Some(I-NORP)': '2.6334098E-7', 'sentence': '0'})],\n",
              " 'token': [Annotation(token, 0, 5, Steven, {'sentence': '0'}),\n",
              "  Annotation(token, 7, 13, Rothery, {'sentence': '0'}),\n",
              "  Annotation(token, 15, 16, is, {'sentence': '0'}),\n",
              "  Annotation(token, 18, 20, the, {'sentence': '0'}),\n",
              "  Annotation(token, 22, 29, original, {'sentence': '0'}),\n",
              "  Annotation(token, 31, 39, guitarist, {'sentence': '0'}),\n",
              "  Annotation(token, 41, 43, and, {'sentence': '0'}),\n",
              "  Annotation(token, 45, 47, the, {'sentence': '0'}),\n",
              "  Annotation(token, 49, 55, longest, {'sentence': '0'}),\n",
              "  Annotation(token, 57, 66, continuous, {'sentence': '0'}),\n",
              "  Annotation(token, 68, 73, member, {'sentence': '0'}),\n",
              "  Annotation(token, 75, 76, of, {'sentence': '0'}),\n",
              "  Annotation(token, 78, 80, the, {'sentence': '0'}),\n",
              "  Annotation(token, 82, 88, British, {'sentence': '0'}),\n",
              "  Annotation(token, 90, 93, rock, {'sentence': '0'}),\n",
              "  Annotation(token, 95, 98, band, {'sentence': '0'}),\n",
              "  Annotation(token, 100, 108, Marillion, {'sentence': '0'}),\n",
              "  Annotation(token, 109, 109, ., {'sentence': '0'})]}"
            ]
          },
          "metadata": {},
          "execution_count": 12
        }
      ]
    },
    {
      "cell_type": "markdown",
      "source": [
        "Let's check the classes that `bert_large_token_classifier_ontonote` model can predict"
      ],
      "metadata": {
        "id": "OW1g5tpVIKod"
      }
    },
    {
      "cell_type": "code",
      "source": [
        "tokenClassifier.getClasses()"
      ],
      "metadata": {
        "colab": {
          "base_uri": "https://localhost:8080/"
        },
        "id": "PJB5zY4FIGKw",
        "outputId": "59cdfa29-e342-4670-e8b9-375b6b6fc2b0"
      },
      "execution_count": null,
      "outputs": [
        {
          "output_type": "execute_result",
          "data": {
            "text/plain": [
              "['I-TIME',\n",
              " 'B-PERSON',\n",
              " 'B-GPE',\n",
              " 'B-LAW',\n",
              " 'B-NORP',\n",
              " 'B-LOC',\n",
              " 'I-ORG',\n",
              " 'I-QUANTITY',\n",
              " 'B-DATE',\n",
              " 'B-PRODUCT',\n",
              " 'B-FAC',\n",
              " 'I-DATE',\n",
              " 'I-WORK_OF_ART',\n",
              " 'B-TIME',\n",
              " 'B-QUANTITY',\n",
              " 'I-PERCENT',\n",
              " 'I-LAW',\n",
              " 'I-GPE',\n",
              " 'I-NORP',\n",
              " 'I-ORDINAL',\n",
              " 'I-EVENT',\n",
              " 'I-LOC',\n",
              " 'B-EVENT',\n",
              " 'I-FAC',\n",
              " 'B-ORDINAL',\n",
              " 'B-LANGUAGE',\n",
              " 'B-MONEY',\n",
              " 'B-PERCENT',\n",
              " 'I-LANGUAGE',\n",
              " 'B-ORG',\n",
              " 'I-MONEY',\n",
              " 'I-PRODUCT',\n",
              " 'O',\n",
              " 'B-WORK_OF_ART',\n",
              " 'I-CARDINAL',\n",
              " 'I-PERSON',\n",
              " 'B-CARDINAL']"
            ]
          },
          "metadata": {},
          "execution_count": 13
        }
      ]
    },
    {
      "cell_type": "code",
      "source": [
        "light_result.keys()"
      ],
      "metadata": {
        "colab": {
          "base_uri": "https://localhost:8080/"
        },
        "id": "yHFqyFBxLXDz",
        "outputId": "46df6589-7094-410c-c801-655e61fd47c7"
      },
      "execution_count": null,
      "outputs": [
        {
          "output_type": "execute_result",
          "data": {
            "text/plain": [
              "dict_keys(['document', 'token', 'ner', 'entities'])"
            ]
          },
          "metadata": {},
          "execution_count": 14
        }
      ]
    },
    {
      "cell_type": "markdown",
      "source": [
        "Checking the ner labels of each token"
      ],
      "metadata": {
        "id": "f8AndvzYPd3C"
      }
    },
    {
      "cell_type": "code",
      "source": [
        "tokens= []\n",
        "ner_labels= []\n",
        "\n",
        "for i, k in list(zip(light_result[\"token\"], light_result[\"ner\"])):\n",
        "  tokens.append(i.result)\n",
        "  ner_labels.append(k.result)\n",
        "\n",
        "result_df= pd.DataFrame({\"tokens\": tokens, \"ner_labels\": ner_labels})\n",
        "result_df.head(20)"
      ],
      "metadata": {
        "colab": {
          "base_uri": "https://localhost:8080/",
          "height": 614
        },
        "id": "dZbByxl6LW6Y",
        "outputId": "e4f38183-8524-47c4-dd59-a98f7c971430"
      },
      "execution_count": null,
      "outputs": [
        {
          "output_type": "execute_result",
          "data": {
            "text/html": [
              "\n",
              "  <div id=\"df-4f521aa1-9e91-45ac-ae33-3c1adec7e937\">\n",
              "    <div class=\"colab-df-container\">\n",
              "      <div>\n",
              "<style scoped>\n",
              "    .dataframe tbody tr th:only-of-type {\n",
              "        vertical-align: middle;\n",
              "    }\n",
              "\n",
              "    .dataframe tbody tr th {\n",
              "        vertical-align: top;\n",
              "    }\n",
              "\n",
              "    .dataframe thead th {\n",
              "        text-align: right;\n",
              "    }\n",
              "</style>\n",
              "<table border=\"1\" class=\"dataframe\">\n",
              "  <thead>\n",
              "    <tr style=\"text-align: right;\">\n",
              "      <th></th>\n",
              "      <th>tokens</th>\n",
              "      <th>ner_labels</th>\n",
              "    </tr>\n",
              "  </thead>\n",
              "  <tbody>\n",
              "    <tr>\n",
              "      <th>0</th>\n",
              "      <td>Steven</td>\n",
              "      <td>B-PERSON</td>\n",
              "    </tr>\n",
              "    <tr>\n",
              "      <th>1</th>\n",
              "      <td>Rothery</td>\n",
              "      <td>I-PERSON</td>\n",
              "    </tr>\n",
              "    <tr>\n",
              "      <th>2</th>\n",
              "      <td>is</td>\n",
              "      <td>O</td>\n",
              "    </tr>\n",
              "    <tr>\n",
              "      <th>3</th>\n",
              "      <td>the</td>\n",
              "      <td>O</td>\n",
              "    </tr>\n",
              "    <tr>\n",
              "      <th>4</th>\n",
              "      <td>original</td>\n",
              "      <td>O</td>\n",
              "    </tr>\n",
              "    <tr>\n",
              "      <th>5</th>\n",
              "      <td>guitarist</td>\n",
              "      <td>O</td>\n",
              "    </tr>\n",
              "    <tr>\n",
              "      <th>6</th>\n",
              "      <td>and</td>\n",
              "      <td>O</td>\n",
              "    </tr>\n",
              "    <tr>\n",
              "      <th>7</th>\n",
              "      <td>the</td>\n",
              "      <td>O</td>\n",
              "    </tr>\n",
              "    <tr>\n",
              "      <th>8</th>\n",
              "      <td>longest</td>\n",
              "      <td>O</td>\n",
              "    </tr>\n",
              "    <tr>\n",
              "      <th>9</th>\n",
              "      <td>continuous</td>\n",
              "      <td>O</td>\n",
              "    </tr>\n",
              "    <tr>\n",
              "      <th>10</th>\n",
              "      <td>member</td>\n",
              "      <td>O</td>\n",
              "    </tr>\n",
              "    <tr>\n",
              "      <th>11</th>\n",
              "      <td>of</td>\n",
              "      <td>O</td>\n",
              "    </tr>\n",
              "    <tr>\n",
              "      <th>12</th>\n",
              "      <td>the</td>\n",
              "      <td>O</td>\n",
              "    </tr>\n",
              "    <tr>\n",
              "      <th>13</th>\n",
              "      <td>British</td>\n",
              "      <td>B-NORP</td>\n",
              "    </tr>\n",
              "    <tr>\n",
              "      <th>14</th>\n",
              "      <td>rock</td>\n",
              "      <td>O</td>\n",
              "    </tr>\n",
              "    <tr>\n",
              "      <th>15</th>\n",
              "      <td>band</td>\n",
              "      <td>O</td>\n",
              "    </tr>\n",
              "    <tr>\n",
              "      <th>16</th>\n",
              "      <td>Marillion</td>\n",
              "      <td>B-ORG</td>\n",
              "    </tr>\n",
              "    <tr>\n",
              "      <th>17</th>\n",
              "      <td>.</td>\n",
              "      <td>O</td>\n",
              "    </tr>\n",
              "  </tbody>\n",
              "</table>\n",
              "</div>\n",
              "      <button class=\"colab-df-convert\" onclick=\"convertToInteractive('df-4f521aa1-9e91-45ac-ae33-3c1adec7e937')\"\n",
              "              title=\"Convert this dataframe to an interactive table.\"\n",
              "              style=\"display:none;\">\n",
              "        \n",
              "  <svg xmlns=\"http://www.w3.org/2000/svg\" height=\"24px\"viewBox=\"0 0 24 24\"\n",
              "       width=\"24px\">\n",
              "    <path d=\"M0 0h24v24H0V0z\" fill=\"none\"/>\n",
              "    <path d=\"M18.56 5.44l.94 2.06.94-2.06 2.06-.94-2.06-.94-.94-2.06-.94 2.06-2.06.94zm-11 1L8.5 8.5l.94-2.06 2.06-.94-2.06-.94L8.5 2.5l-.94 2.06-2.06.94zm10 10l.94 2.06.94-2.06 2.06-.94-2.06-.94-.94-2.06-.94 2.06-2.06.94z\"/><path d=\"M17.41 7.96l-1.37-1.37c-.4-.4-.92-.59-1.43-.59-.52 0-1.04.2-1.43.59L10.3 9.45l-7.72 7.72c-.78.78-.78 2.05 0 2.83L4 21.41c.39.39.9.59 1.41.59.51 0 1.02-.2 1.41-.59l7.78-7.78 2.81-2.81c.8-.78.8-2.07 0-2.86zM5.41 20L4 18.59l7.72-7.72 1.47 1.35L5.41 20z\"/>\n",
              "  </svg>\n",
              "      </button>\n",
              "      \n",
              "  <style>\n",
              "    .colab-df-container {\n",
              "      display:flex;\n",
              "      flex-wrap:wrap;\n",
              "      gap: 12px;\n",
              "    }\n",
              "\n",
              "    .colab-df-convert {\n",
              "      background-color: #E8F0FE;\n",
              "      border: none;\n",
              "      border-radius: 50%;\n",
              "      cursor: pointer;\n",
              "      display: none;\n",
              "      fill: #1967D2;\n",
              "      height: 32px;\n",
              "      padding: 0 0 0 0;\n",
              "      width: 32px;\n",
              "    }\n",
              "\n",
              "    .colab-df-convert:hover {\n",
              "      background-color: #E2EBFA;\n",
              "      box-shadow: 0px 1px 2px rgba(60, 64, 67, 0.3), 0px 1px 3px 1px rgba(60, 64, 67, 0.15);\n",
              "      fill: #174EA6;\n",
              "    }\n",
              "\n",
              "    [theme=dark] .colab-df-convert {\n",
              "      background-color: #3B4455;\n",
              "      fill: #D2E3FC;\n",
              "    }\n",
              "\n",
              "    [theme=dark] .colab-df-convert:hover {\n",
              "      background-color: #434B5C;\n",
              "      box-shadow: 0px 1px 3px 1px rgba(0, 0, 0, 0.15);\n",
              "      filter: drop-shadow(0px 1px 2px rgba(0, 0, 0, 0.3));\n",
              "      fill: #FFFFFF;\n",
              "    }\n",
              "  </style>\n",
              "\n",
              "      <script>\n",
              "        const buttonEl =\n",
              "          document.querySelector('#df-4f521aa1-9e91-45ac-ae33-3c1adec7e937 button.colab-df-convert');\n",
              "        buttonEl.style.display =\n",
              "          google.colab.kernel.accessAllowed ? 'block' : 'none';\n",
              "\n",
              "        async function convertToInteractive(key) {\n",
              "          const element = document.querySelector('#df-4f521aa1-9e91-45ac-ae33-3c1adec7e937');\n",
              "          const dataTable =\n",
              "            await google.colab.kernel.invokeFunction('convertToInteractive',\n",
              "                                                     [key], {});\n",
              "          if (!dataTable) return;\n",
              "\n",
              "          const docLinkHtml = 'Like what you see? Visit the ' +\n",
              "            '<a target=\"_blank\" href=https://colab.research.google.com/notebooks/data_table.ipynb>data table notebook</a>'\n",
              "            + ' to learn more about interactive tables.';\n",
              "          element.innerHTML = '';\n",
              "          dataTable['output_type'] = 'display_data';\n",
              "          await google.colab.output.renderOutput(dataTable, element);\n",
              "          const docLink = document.createElement('div');\n",
              "          docLink.innerHTML = docLinkHtml;\n",
              "          element.appendChild(docLink);\n",
              "        }\n",
              "      </script>\n",
              "    </div>\n",
              "  </div>\n",
              "  "
            ],
            "text/plain": [
              "        tokens ner_labels\n",
              "0       Steven   B-PERSON\n",
              "1      Rothery   I-PERSON\n",
              "2           is          O\n",
              "3          the          O\n",
              "4     original          O\n",
              "5    guitarist          O\n",
              "6          and          O\n",
              "7          the          O\n",
              "8      longest          O\n",
              "9   continuous          O\n",
              "10      member          O\n",
              "11          of          O\n",
              "12         the          O\n",
              "13     British     B-NORP\n",
              "14        rock          O\n",
              "15        band          O\n",
              "16   Marillion      B-ORG\n",
              "17           .          O"
            ]
          },
          "metadata": {},
          "execution_count": 15
        }
      ]
    },
    {
      "cell_type": "markdown",
      "source": [
        "Let's check the chunk results"
      ],
      "metadata": {
        "id": "wRWHlDvUOI6I"
      }
    },
    {
      "cell_type": "code",
      "source": [
        "chunks= []\n",
        "begin= []\n",
        "end= []\n",
        "ner_label= []\n",
        "\n",
        "for i in light_result[\"entities\"]:\n",
        "  chunks.append(i.result)\n",
        "  begin.append(i.begin)\n",
        "  end.append(i.end)\n",
        "  ner_label.append(i.metadata[\"entity\"])\n",
        "\n",
        "result_df= pd.DataFrame({\"chunks\": chunks, \"begin\": begin, \"end\": end, \"ner_label\": ner_label})\n",
        "result_df.head(20)"
      ],
      "metadata": {
        "colab": {
          "base_uri": "https://localhost:8080/",
          "height": 144
        },
        "id": "6eQhtJh2LWmp",
        "outputId": "445104d7-ee33-4d35-9c81-0e5459e7c77d"
      },
      "execution_count": null,
      "outputs": [
        {
          "output_type": "execute_result",
          "data": {
            "text/html": [
              "\n",
              "  <div id=\"df-58a77042-e911-4987-ae32-e5fb67e157f3\">\n",
              "    <div class=\"colab-df-container\">\n",
              "      <div>\n",
              "<style scoped>\n",
              "    .dataframe tbody tr th:only-of-type {\n",
              "        vertical-align: middle;\n",
              "    }\n",
              "\n",
              "    .dataframe tbody tr th {\n",
              "        vertical-align: top;\n",
              "    }\n",
              "\n",
              "    .dataframe thead th {\n",
              "        text-align: right;\n",
              "    }\n",
              "</style>\n",
              "<table border=\"1\" class=\"dataframe\">\n",
              "  <thead>\n",
              "    <tr style=\"text-align: right;\">\n",
              "      <th></th>\n",
              "      <th>chunks</th>\n",
              "      <th>begin</th>\n",
              "      <th>end</th>\n",
              "      <th>ner_label</th>\n",
              "    </tr>\n",
              "  </thead>\n",
              "  <tbody>\n",
              "    <tr>\n",
              "      <th>0</th>\n",
              "      <td>Steven Rothery</td>\n",
              "      <td>0</td>\n",
              "      <td>13</td>\n",
              "      <td>PERSON</td>\n",
              "    </tr>\n",
              "    <tr>\n",
              "      <th>1</th>\n",
              "      <td>British</td>\n",
              "      <td>82</td>\n",
              "      <td>88</td>\n",
              "      <td>NORP</td>\n",
              "    </tr>\n",
              "    <tr>\n",
              "      <th>2</th>\n",
              "      <td>Marillion</td>\n",
              "      <td>100</td>\n",
              "      <td>108</td>\n",
              "      <td>ORG</td>\n",
              "    </tr>\n",
              "  </tbody>\n",
              "</table>\n",
              "</div>\n",
              "      <button class=\"colab-df-convert\" onclick=\"convertToInteractive('df-58a77042-e911-4987-ae32-e5fb67e157f3')\"\n",
              "              title=\"Convert this dataframe to an interactive table.\"\n",
              "              style=\"display:none;\">\n",
              "        \n",
              "  <svg xmlns=\"http://www.w3.org/2000/svg\" height=\"24px\"viewBox=\"0 0 24 24\"\n",
              "       width=\"24px\">\n",
              "    <path d=\"M0 0h24v24H0V0z\" fill=\"none\"/>\n",
              "    <path d=\"M18.56 5.44l.94 2.06.94-2.06 2.06-.94-2.06-.94-.94-2.06-.94 2.06-2.06.94zm-11 1L8.5 8.5l.94-2.06 2.06-.94-2.06-.94L8.5 2.5l-.94 2.06-2.06.94zm10 10l.94 2.06.94-2.06 2.06-.94-2.06-.94-.94-2.06-.94 2.06-2.06.94z\"/><path d=\"M17.41 7.96l-1.37-1.37c-.4-.4-.92-.59-1.43-.59-.52 0-1.04.2-1.43.59L10.3 9.45l-7.72 7.72c-.78.78-.78 2.05 0 2.83L4 21.41c.39.39.9.59 1.41.59.51 0 1.02-.2 1.41-.59l7.78-7.78 2.81-2.81c.8-.78.8-2.07 0-2.86zM5.41 20L4 18.59l7.72-7.72 1.47 1.35L5.41 20z\"/>\n",
              "  </svg>\n",
              "      </button>\n",
              "      \n",
              "  <style>\n",
              "    .colab-df-container {\n",
              "      display:flex;\n",
              "      flex-wrap:wrap;\n",
              "      gap: 12px;\n",
              "    }\n",
              "\n",
              "    .colab-df-convert {\n",
              "      background-color: #E8F0FE;\n",
              "      border: none;\n",
              "      border-radius: 50%;\n",
              "      cursor: pointer;\n",
              "      display: none;\n",
              "      fill: #1967D2;\n",
              "      height: 32px;\n",
              "      padding: 0 0 0 0;\n",
              "      width: 32px;\n",
              "    }\n",
              "\n",
              "    .colab-df-convert:hover {\n",
              "      background-color: #E2EBFA;\n",
              "      box-shadow: 0px 1px 2px rgba(60, 64, 67, 0.3), 0px 1px 3px 1px rgba(60, 64, 67, 0.15);\n",
              "      fill: #174EA6;\n",
              "    }\n",
              "\n",
              "    [theme=dark] .colab-df-convert {\n",
              "      background-color: #3B4455;\n",
              "      fill: #D2E3FC;\n",
              "    }\n",
              "\n",
              "    [theme=dark] .colab-df-convert:hover {\n",
              "      background-color: #434B5C;\n",
              "      box-shadow: 0px 1px 3px 1px rgba(0, 0, 0, 0.15);\n",
              "      filter: drop-shadow(0px 1px 2px rgba(0, 0, 0, 0.3));\n",
              "      fill: #FFFFFF;\n",
              "    }\n",
              "  </style>\n",
              "\n",
              "      <script>\n",
              "        const buttonEl =\n",
              "          document.querySelector('#df-58a77042-e911-4987-ae32-e5fb67e157f3 button.colab-df-convert');\n",
              "        buttonEl.style.display =\n",
              "          google.colab.kernel.accessAllowed ? 'block' : 'none';\n",
              "\n",
              "        async function convertToInteractive(key) {\n",
              "          const element = document.querySelector('#df-58a77042-e911-4987-ae32-e5fb67e157f3');\n",
              "          const dataTable =\n",
              "            await google.colab.kernel.invokeFunction('convertToInteractive',\n",
              "                                                     [key], {});\n",
              "          if (!dataTable) return;\n",
              "\n",
              "          const docLinkHtml = 'Like what you see? Visit the ' +\n",
              "            '<a target=\"_blank\" href=https://colab.research.google.com/notebooks/data_table.ipynb>data table notebook</a>'\n",
              "            + ' to learn more about interactive tables.';\n",
              "          element.innerHTML = '';\n",
              "          dataTable['output_type'] = 'display_data';\n",
              "          await google.colab.output.renderOutput(dataTable, element);\n",
              "          const docLink = document.createElement('div');\n",
              "          docLink.innerHTML = docLinkHtml;\n",
              "          element.appendChild(docLink);\n",
              "        }\n",
              "      </script>\n",
              "    </div>\n",
              "  </div>\n",
              "  "
            ],
            "text/plain": [
              "           chunks  begin  end ner_label\n",
              "0  Steven Rothery      0   13    PERSON\n",
              "1         British     82   88      NORP\n",
              "2       Marillion    100  108       ORG"
            ]
          },
          "metadata": {},
          "execution_count": 16
        }
      ]
    }
  ]
}
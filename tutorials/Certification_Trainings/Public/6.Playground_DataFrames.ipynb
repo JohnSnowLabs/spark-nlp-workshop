{
  "nbformat": 4,
  "nbformat_minor": 0,
  "metadata": {
    "colab": {
      "name": "6.Playground_DataFrames.ipynb",
      "provenance": [],
      "collapsed_sections": []
    },
    "kernelspec": {
      "display_name": "Python 3",
      "language": "python",
      "name": "python3"
    },
    "language_info": {
      "codemirror_mode": {
        "name": "ipython",
        "version": 3
      },
      "file_extension": ".py",
      "mimetype": "text/x-python",
      "name": "python",
      "nbconvert_exporter": "python",
      "pygments_lexer": "ipython3",
      "version": "3.7.4"
    },
    "accelerator": "GPU"
  },
  "cells": [
    {
      "cell_type": "markdown",
      "metadata": {
        "id": "sXatvRX899i0"
      },
      "source": [
        "![JohnSnowLabs](https://nlp.johnsnowlabs.com/assets/images/logo.png)"
      ]
    },
    {
      "cell_type": "markdown",
      "metadata": {
        "id": "Lt-CiWRewNWD"
      },
      "source": [
        "[![Open In Colab](https://colab.research.google.com/assets/colab-badge.svg)](https://colab.research.google.com/github/JohnSnowLabs/spark-nlp-workshop//blob/master/tutorials/Certification_Trainings/Public/6.Playground_DataFrames.ipynb)"
      ]
    },
    {
      "cell_type": "markdown",
      "metadata": {
        "id": "-Alh8i-_fJ59"
      },
      "source": [
        "# Spark DataFrames Playground"
      ]
    },
    {
      "cell_type": "code",
      "metadata": {
        "id": "sJ0MnF3bfWbe"
      },
      "source": [
        "! pip install -q pyspark==3.1.2 spark-nlp"
      ],
      "execution_count": null,
      "outputs": []
    },
    {
      "cell_type": "markdown",
      "metadata": {
        "id": "4ZucC6lQ2pYQ"
      },
      "source": [
        "\n",
        "<b>  if you want to work with Spark 2.3 </b>\n",
        "```\n",
        "import os\n",
        "\n",
        "# Install java\n",
        "! apt-get update -qq\n",
        "! apt-get install -y openjdk-8-jdk-headless -qq > /dev/null\n",
        "\n",
        "!wget -q https://archive.apache.org/dist/spark/spark-2.3.0/spark-2.3.0-bin-hadoop2.7.tgz\n",
        "\n",
        "!tar xf spark-2.3.0-bin-hadoop2.7.tgz\n",
        "!pip install -q findspark\n",
        "\n",
        "os.environ[\"JAVA_HOME\"] = \"/usr/lib/jvm/java-8-openjdk-amd64\"\n",
        "os.environ[\"PATH\"] = os.environ[\"JAVA_HOME\"] + \"/bin:\" + os.environ[\"PATH\"]\n",
        "os.environ[\"SPARK_HOME\"] = \"/content/spark-2.3.0-bin-hadoop2.7\"\n",
        "! java -version\n",
        "\n",
        "import findspark\n",
        "findspark.init()\n",
        "from pyspark.sql import SparkSession\n",
        "\n",
        "! pip install --ignore-installed -q spark-nlp==2.7.5\n",
        "\n",
        "import sparknlp\n",
        "\n",
        "spark = sparknlp.start(spark23=True)\n",
        "```"
      ]
    },
    {
      "cell_type": "code",
      "metadata": {
        "id": "N4wDHHvKfHyO",
        "colab": {
          "base_uri": "https://localhost:8080/",
          "height": 252
        },
        "outputId": "af68656a-5c14-434c-fe7b-f7d0f0903b28"
      },
      "source": [
        "import sparknlp\n",
        "\n",
        "spark = sparknlp.start()\n",
        "\n",
        "from sparknlp.base import *\n",
        "from sparknlp.annotator import *\n",
        "\n",
        "from pyspark.ml import Pipeline\n",
        "\n",
        "print(\"Spark NLP version\", sparknlp.version())\n",
        "\n",
        "print(\"Apache Spark version:\", spark.version)\n",
        "\n",
        "spark"
      ],
      "execution_count": null,
      "outputs": [
        {
          "output_type": "stream",
          "name": "stdout",
          "text": [
            "Spark NLP version 3.3.0\n",
            "Apache Spark version: 3.1.2\n"
          ]
        },
        {
          "output_type": "execute_result",
          "data": {
            "text/html": [
              "\n",
              "            <div>\n",
              "                <p><b>SparkSession - in-memory</b></p>\n",
              "                \n",
              "        <div>\n",
              "            <p><b>SparkContext</b></p>\n",
              "\n",
              "            <p><a href=\"http://d85ad3e670dc:4040\">Spark UI</a></p>\n",
              "\n",
              "            <dl>\n",
              "              <dt>Version</dt>\n",
              "                <dd><code>v3.1.2</code></dd>\n",
              "              <dt>Master</dt>\n",
              "                <dd><code>local[*]</code></dd>\n",
              "              <dt>AppName</dt>\n",
              "                <dd><code>Spark NLP</code></dd>\n",
              "            </dl>\n",
              "        </div>\n",
              "        \n",
              "            </div>\n",
              "        "
            ],
            "text/plain": [
              "<pyspark.sql.session.SparkSession at 0x7fa1cb83d890>"
            ]
          },
          "metadata": {},
          "execution_count": 2
        }
      ]
    },
    {
      "cell_type": "code",
      "metadata": {
        "id": "JLulYEvRfDhG"
      },
      "source": [
        "document = DocumentAssembler().setInputCol('text').setOutputCol('document')"
      ],
      "execution_count": null,
      "outputs": []
    },
    {
      "cell_type": "code",
      "metadata": {
        "id": "tLfu1NU_fDhJ"
      },
      "source": [
        "tokenizer = Tokenizer().setInputCols('document').setOutputCol('token')"
      ],
      "execution_count": null,
      "outputs": []
    },
    {
      "cell_type": "code",
      "metadata": {
        "id": "HxZ9s3YCfDhM",
        "colab": {
          "base_uri": "https://localhost:8080/"
        },
        "outputId": "b43e815a-ade6-47e7-c430-8293dc853a48"
      },
      "source": [
        "pos = PerceptronModel.pretrained().setInputCols('document', 'token').setOutputCol('pos')"
      ],
      "execution_count": null,
      "outputs": [
        {
          "output_type": "stream",
          "name": "stdout",
          "text": [
            "pos_anc download started this may take some time.\n",
            "Approximate size to download 3.9 MB\n",
            "[OK!]\n"
          ]
        }
      ]
    },
    {
      "cell_type": "code",
      "metadata": {
        "id": "cI-uo9ZbfDhR"
      },
      "source": [
        "pipeline = Pipeline().setStages([document, tokenizer, pos])"
      ],
      "execution_count": null,
      "outputs": []
    },
    {
      "cell_type": "code",
      "metadata": {
        "id": "MJoifWwRfjrG"
      },
      "source": [
        "!wget https://raw.githubusercontent.com/JohnSnowLabs/spark-nlp-workshop/master/jupyter/annotation/english/spark-nlp-basics/sample-sentences-en.txt"
      ],
      "execution_count": null,
      "outputs": []
    },
    {
      "cell_type": "code",
      "metadata": {
        "id": "zGksf1hCfDhU"
      },
      "source": [
        "data = spark.read.text('./sample-sentences-en.txt').toDF('text')"
      ],
      "execution_count": null,
      "outputs": []
    },
    {
      "cell_type": "code",
      "metadata": {
        "id": "KgTNu0_KfDhX",
        "colab": {
          "base_uri": "https://localhost:8080/"
        },
        "outputId": "7a5a384f-76cf-4bf5-b7ea-94adb702af7f"
      },
      "source": [
        "data.show(5)"
      ],
      "execution_count": null,
      "outputs": [
        {
          "output_type": "stream",
          "name": "stdout",
          "text": [
            "+--------------------+\n",
            "|                text|\n",
            "+--------------------+\n",
            "|Peter is a very g...|\n",
            "|My life in Russia...|\n",
            "|John and Peter ar...|\n",
            "|Lucas Nogal Dunbe...|\n",
            "|Europe is very cu...|\n",
            "+--------------------+\n",
            "\n"
          ]
        }
      ]
    },
    {
      "cell_type": "code",
      "metadata": {
        "id": "PAnijYcYfDhb"
      },
      "source": [
        "model = pipeline.fit(data)"
      ],
      "execution_count": null,
      "outputs": []
    },
    {
      "cell_type": "code",
      "metadata": {
        "id": "5_fTTzUPfDhd"
      },
      "source": [
        "result = model.transform(data)"
      ],
      "execution_count": null,
      "outputs": []
    },
    {
      "cell_type": "code",
      "metadata": {
        "id": "ll7rPvWefDhg",
        "colab": {
          "base_uri": "https://localhost:8080/"
        },
        "outputId": "7c385a78-8fc0-4232-9c92-d248fa5abda7"
      },
      "source": [
        "result.show(5)"
      ],
      "execution_count": null,
      "outputs": [
        {
          "output_type": "stream",
          "name": "stdout",
          "text": [
            "+--------------------+--------------------+--------------------+--------------------+\n",
            "|                text|            document|               token|                 pos|\n",
            "+--------------------+--------------------+--------------------+--------------------+\n",
            "|Peter is a very g...|[{document, 0, 27...|[{token, 0, 4, Pe...|[{pos, 0, 4, NNP,...|\n",
            "|My life in Russia...|[{document, 0, 37...|[{token, 0, 1, My...|[{pos, 0, 1, PRP$...|\n",
            "|John and Peter ar...|[{document, 0, 76...|[{token, 0, 3, Jo...|[{pos, 0, 3, NNP,...|\n",
            "|Lucas Nogal Dunbe...|[{document, 0, 67...|[{token, 0, 4, Lu...|[{pos, 0, 4, NNP,...|\n",
            "|Europe is very cu...|[{document, 0, 68...|[{token, 0, 5, Eu...|[{pos, 0, 5, NNP,...|\n",
            "+--------------------+--------------------+--------------------+--------------------+\n",
            "\n"
          ]
        }
      ]
    },
    {
      "cell_type": "code",
      "metadata": {
        "id": "i06WW8wzfDhk"
      },
      "source": [
        "stored = result\\\n",
        "  .select('text', 'pos.begin', 'pos.end', 'pos.result', 'pos.metadata')\\\n",
        "  .toDF('text', 'pos_begin', 'pos_end', 'pos_result', 'pos_meta')\\\n",
        "  .cache()"
      ],
      "execution_count": null,
      "outputs": []
    },
    {
      "cell_type": "code",
      "metadata": {
        "id": "MBQWLPjzfDhp",
        "colab": {
          "base_uri": "https://localhost:8080/"
        },
        "outputId": "463b991c-9c33-415c-f069-a2fcfd7a530c"
      },
      "source": [
        "stored.printSchema()"
      ],
      "execution_count": null,
      "outputs": [
        {
          "output_type": "stream",
          "name": "stdout",
          "text": [
            "root\n",
            " |-- text: string (nullable = true)\n",
            " |-- pos_begin: array (nullable = true)\n",
            " |    |-- element: integer (containsNull = true)\n",
            " |-- pos_end: array (nullable = true)\n",
            " |    |-- element: integer (containsNull = true)\n",
            " |-- pos_result: array (nullable = true)\n",
            " |    |-- element: string (containsNull = true)\n",
            " |-- pos_meta: array (nullable = true)\n",
            " |    |-- element: map (containsNull = true)\n",
            " |    |    |-- key: string\n",
            " |    |    |-- value: string (valueContainsNull = true)\n",
            "\n"
          ]
        }
      ]
    },
    {
      "cell_type": "code",
      "metadata": {
        "id": "X93ASKmGfDhw",
        "colab": {
          "base_uri": "https://localhost:8080/"
        },
        "outputId": "464f2cf9-cda2-479a-9584-ed3d7b9a2f10"
      },
      "source": [
        "stored.show(5)"
      ],
      "execution_count": null,
      "outputs": [
        {
          "output_type": "stream",
          "name": "stdout",
          "text": [
            "+--------------------+--------------------+--------------------+--------------------+--------------------+\n",
            "|                text|           pos_begin|             pos_end|          pos_result|            pos_meta|\n",
            "+--------------------+--------------------+--------------------+--------------------+--------------------+\n",
            "|Peter is a very g...|[0, 6, 9, 11, 16,...|[4, 7, 9, 14, 19,...|[NNP, VBZ, DT, RB...|[{word -> Peter, ...|\n",
            "|My life in Russia...|[0, 3, 8, 11, 18,...|[1, 6, 9, 16, 19,...|[PRP$, NN, IN, NN...|[{word -> My, sen...|\n",
            "|John and Peter ar...|[0, 5, 9, 15, 19,...|[3, 7, 13, 17, 26...|[NNP, CC, NNP, VB...|[{word -> John, s...|\n",
            "|Lucas Nogal Dunbe...|[0, 6, 12, 23, 26...|[4, 10, 21, 24, 2...|[NNP, NNP, NNP, V...|[{word -> Lucas, ...|\n",
            "|Europe is very cu...|[0, 7, 10, 15, 23...|[5, 8, 13, 21, 26...|[NNP, VBZ, RB, RB...|[{word -> Europe,...|\n",
            "+--------------------+--------------------+--------------------+--------------------+--------------------+\n",
            "\n"
          ]
        }
      ]
    },
    {
      "cell_type": "markdown",
      "metadata": {
        "id": "rI8rO1GjfDhz"
      },
      "source": [
        "---------\n",
        "## Spark SQL Functions"
      ]
    },
    {
      "cell_type": "code",
      "metadata": {
        "id": "5c5OVnNafDh0"
      },
      "source": [
        "from pyspark.sql.functions import *"
      ],
      "execution_count": null,
      "outputs": []
    },
    {
      "cell_type": "code",
      "metadata": {
        "id": "f_nWknqlfDh3",
        "colab": {
          "base_uri": "https://localhost:8080/"
        },
        "outputId": "962d1c6c-928c-4c18-d184-5d47fe475208"
      },
      "source": [
        "stored.filter(array_contains('pos_result', 'VBD')).show(5)"
      ],
      "execution_count": null,
      "outputs": [
        {
          "output_type": "stream",
          "name": "stdout",
          "text": [
            "+----+---------+-------+----------+--------+\n",
            "|text|pos_begin|pos_end|pos_result|pos_meta|\n",
            "+----+---------+-------+----------+--------+\n",
            "+----+---------+-------+----------+--------+\n",
            "\n"
          ]
        }
      ]
    },
    {
      "cell_type": "code",
      "metadata": {
        "id": "WwBH_f-1fDh7",
        "colab": {
          "base_uri": "https://localhost:8080/"
        },
        "outputId": "12f93324-6844-4db4-cfc6-3c2f411bf414"
      },
      "source": [
        "stored.withColumn('token_count', size('pos_result')).select('pos_result', 'token_count').show(5)"
      ],
      "execution_count": null,
      "outputs": [
        {
          "output_type": "stream",
          "name": "stdout",
          "text": [
            "+--------------------+-----------+\n",
            "|          pos_result|token_count|\n",
            "+--------------------+-----------+\n",
            "|[NNP, VBZ, DT, RB...|          7|\n",
            "|[PRP$, NN, IN, NN...|          8|\n",
            "|[NNP, CC, NNP, VB...|         15|\n",
            "|[NNP, NNP, NNP, V...|         15|\n",
            "|[NNP, VBZ, RB, RB...|         15|\n",
            "+--------------------+-----------+\n",
            "\n"
          ]
        }
      ]
    },
    {
      "cell_type": "code",
      "metadata": {
        "id": "CZn-kEFifDh_",
        "colab": {
          "base_uri": "https://localhost:8080/"
        },
        "outputId": "efc49857-f4fd-47bc-b628-5721169a1fa1"
      },
      "source": [
        "stored.select('text', array_max('pos_end')).show(5)"
      ],
      "execution_count": null,
      "outputs": [
        {
          "output_type": "stream",
          "name": "stdout",
          "text": [
            "+--------------------+------------------+\n",
            "|                text|array_max(pos_end)|\n",
            "+--------------------+------------------+\n",
            "|Peter is a very g...|                27|\n",
            "|My life in Russia...|                37|\n",
            "|John and Peter ar...|                76|\n",
            "|Lucas Nogal Dunbe...|                67|\n",
            "|Europe is very cu...|                68|\n",
            "+--------------------+------------------+\n",
            "\n"
          ]
        }
      ]
    },
    {
      "cell_type": "code",
      "metadata": {
        "id": "GfzcYDcFfDiC",
        "colab": {
          "base_uri": "https://localhost:8080/"
        },
        "outputId": "a167355b-05ae-4587-9a5a-8347fb6e99d5"
      },
      "source": [
        "stored.withColumn('unique_pos', array_distinct('pos_result')).select('pos_result', 'unique_pos').show(5)"
      ],
      "execution_count": null,
      "outputs": [
        {
          "output_type": "stream",
          "name": "stdout",
          "text": [
            "+--------------------+--------------------+\n",
            "|          pos_result|          unique_pos|\n",
            "+--------------------+--------------------+\n",
            "|[NNP, VBZ, DT, RB...|[NNP, VBZ, DT, RB...|\n",
            "|[PRP$, NN, IN, NN...|[PRP$, NN, IN, NN...|\n",
            "|[NNP, CC, NNP, VB...|[NNP, CC, VBP, NN...|\n",
            "|[NNP, NNP, NNP, V...|[NNP, VBZ, DT, RB...|\n",
            "|[NNP, VBZ, RB, RB...|[NNP, VBZ, RB, JJ...|\n",
            "+--------------------+--------------------+\n",
            "\n"
          ]
        }
      ]
    },
    {
      "cell_type": "code",
      "metadata": {
        "id": "W9k5hwUSfDiE",
        "colab": {
          "base_uri": "https://localhost:8080/"
        },
        "outputId": "1cb893ac-98be-4b00-ca54-c68d5c9cd7d0"
      },
      "source": [
        "stored.groupBy(array_distinct('pos_result')).count().show(10)"
      ],
      "execution_count": null,
      "outputs": [
        {
          "output_type": "stream",
          "name": "stdout",
          "text": [
            "+--------------------------+-----+\n",
            "|array_distinct(pos_result)|count|\n",
            "+--------------------------+-----+\n",
            "|      [NNP, CC, VBP, NN...|    1|\n",
            "|      [NNP, VBZ, DT, RB...|    1|\n",
            "|      [NNP, VBZ, RB, JJ...|    1|\n",
            "|      [PRP$, NN, IN, NN...|    1|\n",
            "|      [NNP, VBZ, DT, RB...|    1|\n",
            "+--------------------------+-----+\n",
            "\n"
          ]
        }
      ]
    },
    {
      "cell_type": "markdown",
      "metadata": {
        "id": "5O_ERu47fDiI"
      },
      "source": [
        "### SQL Functions with `col`"
      ]
    },
    {
      "cell_type": "code",
      "metadata": {
        "id": "BP2dz_BqfDiJ"
      },
      "source": [
        "from pyspark.sql.functions import col"
      ],
      "execution_count": null,
      "outputs": []
    },
    {
      "cell_type": "code",
      "metadata": {
        "id": "H9a1KaVEfDiM",
        "colab": {
          "base_uri": "https://localhost:8080/"
        },
        "outputId": "1fe77647-7b21-4c1a-bbe4-56dc9df41a74"
      },
      "source": [
        "stored.select(col('pos_meta').getItem(0).getItem('word')).show(5)"
      ],
      "execution_count": null,
      "outputs": [
        {
          "output_type": "stream",
          "name": "stdout",
          "text": [
            "+-----------------+\n",
            "|pos_meta[0][word]|\n",
            "+-----------------+\n",
            "|            Peter|\n",
            "|               My|\n",
            "|             John|\n",
            "|            Lucas|\n",
            "|           Europe|\n",
            "+-----------------+\n",
            "\n"
          ]
        }
      ]
    },
    {
      "cell_type": "markdown",
      "metadata": {
        "id": "B0TtaUgUfDiP"
      },
      "source": [
        "-------------\n",
        "### Spark NLP Annotation UDFs"
      ]
    },
    {
      "cell_type": "code",
      "metadata": {
        "id": "Psqxd7eWfDiQ",
        "colab": {
          "base_uri": "https://localhost:8080/"
        },
        "outputId": "d1337687-16dd-45e8-d1c5-7ac8f88fa8a9"
      },
      "source": [
        "result.select('pos').show(1, truncate=False)"
      ],
      "execution_count": null,
      "outputs": [
        {
          "output_type": "stream",
          "name": "stdout",
          "text": [
            "+--------------------------------------------------------------------------------------------------------------------------------------------------------------------------------------------------------------------------------------------------------------------------------------------------------------------------------------------------------------------------------+\n",
            "|pos                                                                                                                                                                                                                                                                                                                                                                             |\n",
            "+--------------------------------------------------------------------------------------------------------------------------------------------------------------------------------------------------------------------------------------------------------------------------------------------------------------------------------------------------------------------------------+\n",
            "|[{pos, 0, 4, NNP, {word -> Peter, sentence -> 0}, []}, {pos, 6, 7, VBZ, {word -> is, sentence -> 0}, []}, {pos, 9, 9, DT, {word -> a, sentence -> 0}, []}, {pos, 11, 14, RB, {word -> very, sentence -> 0}, []}, {pos, 16, 19, JJ, {word -> good, sentence -> 0}, []}, {pos, 21, 26, NN, {word -> person, sentence -> 0}, []}, {pos, 27, 27, ., {word -> ., sentence -> 0}, []}]|\n",
            "+--------------------------------------------------------------------------------------------------------------------------------------------------------------------------------------------------------------------------------------------------------------------------------------------------------------------------------------------------------------------------------+\n",
            "only showing top 1 row\n",
            "\n"
          ]
        }
      ]
    },
    {
      "cell_type": "code",
      "metadata": {
        "id": "miYDmJiSfDiU"
      },
      "source": [
        "def nn_tokens(annotations):\n",
        "  \n",
        "    nn_annotations = list(filter(lambda annotation: annotation.result == 'NN', annotations))\n",
        "\n",
        "    return list(map(lambda nn_annotation: nn_annotation.metadata['word'], nn_annotations))"
      ],
      "execution_count": null,
      "outputs": []
    },
    {
      "cell_type": "code",
      "metadata": {
        "id": "fsJDj_bjfDiX"
      },
      "source": [
        "from sparknlp.functions import *"
      ],
      "execution_count": null,
      "outputs": []
    },
    {
      "cell_type": "code",
      "metadata": {
        "id": "HeYfUAbXfDid"
      },
      "source": [
        "from pyspark.sql.types import ArrayType, StringType"
      ],
      "execution_count": null,
      "outputs": []
    },
    {
      "cell_type": "code",
      "metadata": {
        "id": "lMdSUHW-fDig",
        "colab": {
          "base_uri": "https://localhost:8080/"
        },
        "outputId": "c51a16ec-c31f-4f50-db2a-a96e197c677c"
      },
      "source": [
        "result.select(map_annotations(nn_tokens, ArrayType(StringType()))('pos').alias('nn_tokens')).show(truncate=False)"
      ],
      "execution_count": null,
      "outputs": [
        {
          "output_type": "stream",
          "text": [
            "+---------+\n",
            "|nn_tokens|\n",
            "+---------+\n",
            "|[person] |\n",
            "|[life]   |\n",
            "|[]       |\n",
            "|[car]    |\n",
            "|[]       |\n",
            "+---------+\n",
            "\n"
          ],
          "name": "stdout"
        }
      ]
    }
  ]
}
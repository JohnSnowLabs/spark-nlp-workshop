{
 "cells": [
  {
   "cell_type": "markdown",
   "metadata": {
    "colab_type": "text",
    "id": "sXatvRX899i0"
   },
   "source": [
    "![JohnSnowLabs](https://nlp.johnsnowlabs.com/assets/images/logo.png)"
   ]
  },
  {
   "cell_type": "markdown",
   "metadata": {
    "colab_type": "text",
    "id": "Lt-CiWRewNWD"
   },
   "source": [
    "[![Open In Colab](https://colab.research.google.com/assets/colab-badge.svg)](https://colab.research.google.com/github/JohnSnowLabs/spark-nlp-workshop//blob/master/tutorials/Certification_Trainings/Public/6.Playground_DataFrames.ipynb)"
   ]
  },
  {
   "cell_type": "markdown",
   "metadata": {
    "colab_type": "text",
    "id": "-Alh8i-_fJ59"
   },
   "source": [
    "# Spark DataFrames Playground"
   ]
  },
  {
   "cell_type": "code",
   "execution_count": null,
   "metadata": {
    "colab": {},
    "colab_type": "code",
    "id": "sJ0MnF3bfWbe"
   },
   "outputs": [],
   "source": [
    "import os\n",
    "\n",
    "# Install java\n",
    "! apt-get update -qq\n",
    "! apt-get install -y openjdk-8-jdk-headless -qq > /dev/null\n",
    "\n",
    "os.environ[\"JAVA_HOME\"] = \"/usr/lib/jvm/java-8-openjdk-amd64\"\n",
    "os.environ[\"PATH\"] = os.environ[\"JAVA_HOME\"] + \"/bin:\" + os.environ[\"PATH\"]\n",
    "! java -version\n",
    "\n",
    "# Install pyspark\n",
    "! pip install --ignore-installed -q pyspark==2.4.4\n",
    "! pip install --ignore-installed -q spark-nlp==2.5.1"
   ]
  },
  {
   "cell_type": "markdown",
   "metadata": {},
   "source": [
    "\n",
    "<b>  if you want to work with Spark 2.3 </b>\n",
    "```\n",
    "import os\n",
    "\n",
    "# Install java\n",
    "! apt-get update -qq\n",
    "! apt-get install -y openjdk-8-jdk-headless -qq > /dev/null\n",
    "\n",
    "!wget -q https://archive.apache.org/dist/spark/spark-2.3.0/spark-2.3.0-bin-hadoop2.7.tgz\n",
    "\n",
    "!tar xf spark-2.3.0-bin-hadoop2.7.tgz\n",
    "!pip install -q findspark\n",
    "\n",
    "os.environ[\"JAVA_HOME\"] = \"/usr/lib/jvm/java-8-openjdk-amd64\"\n",
    "os.environ[\"PATH\"] = os.environ[\"JAVA_HOME\"] + \"/bin:\" + os.environ[\"PATH\"]\n",
    "os.environ[\"SPARK_HOME\"] = \"/content/spark-2.3.0-bin-hadoop2.7\"\n",
    "! java -version\n",
    "\n",
    "import findspark\n",
    "findspark.init()\n",
    "from pyspark.sql import SparkSession\n",
    "\n",
    "! pip install --ignore-installed -q spark-nlp==2.5.5\n",
    "\n",
    "import sparknlp\n",
    "\n",
    "spark = sparknlp.start(spark23=True)\n",
    "```"
   ]
  },
  {
   "cell_type": "code",
   "execution_count": null,
   "metadata": {
    "colab": {},
    "colab_type": "code",
    "id": "N4wDHHvKfHyO"
   },
   "outputs": [],
   "source": [
    "import sparknlp\n",
    "\n",
    "spark = sparknlp.start()\n",
    "\n",
    "from sparknlp.base import *\n",
    "from sparknlp.annotator import *\n",
    "\n",
    "from pyspark.ml import Pipeline\n",
    "\n",
    "print(\"Spark NLP version\", sparknlp.version())\n",
    "\n",
    "print(\"Apache Spark version:\", spark.version)\n",
    "\n",
    "spark"
   ]
  },
  {
   "cell_type": "code",
   "execution_count": null,
   "metadata": {
    "colab": {},
    "colab_type": "code",
    "id": "xi7g0dR4fDhD"
   },
   "outputs": [],
   "source": [
    "spark = sparknlp.start()"
   ]
  },
  {
   "cell_type": "code",
   "execution_count": null,
   "metadata": {
    "colab": {},
    "colab_type": "code",
    "id": "JLulYEvRfDhG"
   },
   "outputs": [],
   "source": [
    "document = DocumentAssembler().setInputCol('text').setOutputCol('document')"
   ]
  },
  {
   "cell_type": "code",
   "execution_count": null,
   "metadata": {
    "colab": {},
    "colab_type": "code",
    "id": "tLfu1NU_fDhJ"
   },
   "outputs": [],
   "source": [
    "tokenizer = Tokenizer().setInputCols('document').setOutputCol('token')"
   ]
  },
  {
   "cell_type": "code",
   "execution_count": null,
   "metadata": {
    "colab": {},
    "colab_type": "code",
    "id": "HxZ9s3YCfDhM",
    "outputId": "342a1ab5-2fbf-484d-fee3-18c088f24b9b"
   },
   "outputs": [
    {
     "name": "stdout",
     "output_type": "stream",
     "text": [
      "pos_anc download started this may take some time.\n",
      "Approximate size to download 4.3 MB\n",
      "[OK!]\n"
     ]
    }
   ],
   "source": [
    "pos = PerceptronModel.pretrained().setInputCols('document', 'token').setOutputCol('pos')"
   ]
  },
  {
   "cell_type": "code",
   "execution_count": null,
   "metadata": {
    "colab": {},
    "colab_type": "code",
    "id": "cI-uo9ZbfDhR"
   },
   "outputs": [],
   "source": [
    "pipeline = Pipeline().setStages([document, tokenizer, pos])"
   ]
  },
  {
   "cell_type": "code",
   "execution_count": null,
   "metadata": {
    "colab": {},
    "colab_type": "code",
    "id": "MJoifWwRfjrG"
   },
   "outputs": [],
   "source": [
    "!wget https://raw.githubusercontent.com/JohnSnowLabs/spark-nlp-workshop/master/jupyter/annotation/english/spark-nlp-basics/sample-sentences-en.txt"
   ]
  },
  {
   "cell_type": "code",
   "execution_count": null,
   "metadata": {
    "colab": {},
    "colab_type": "code",
    "id": "zGksf1hCfDhU"
   },
   "outputs": [],
   "source": [
    "data = spark.read.text('./sample-sentences-en.txt').toDF('text')"
   ]
  },
  {
   "cell_type": "code",
   "execution_count": null,
   "metadata": {
    "colab": {},
    "colab_type": "code",
    "id": "KgTNu0_KfDhX",
    "outputId": "414e1c18-e51c-4271-d861-07ece861249b"
   },
   "outputs": [
    {
     "name": "stdout",
     "output_type": "stream",
     "text": [
      "+--------------------+\n",
      "|                text|\n",
      "+--------------------+\n",
      "|Peter is a very g...|\n",
      "|My life in Russia...|\n",
      "|John and Peter ar...|\n",
      "|Lucas Nogal Dunbe...|\n",
      "|Europe is very cu...|\n",
      "+--------------------+\n",
      "\n"
     ]
    }
   ],
   "source": [
    "data.show(5)"
   ]
  },
  {
   "cell_type": "code",
   "execution_count": null,
   "metadata": {
    "colab": {},
    "colab_type": "code",
    "id": "PAnijYcYfDhb"
   },
   "outputs": [],
   "source": [
    "model = pipeline.fit(data)"
   ]
  },
  {
   "cell_type": "code",
   "execution_count": null,
   "metadata": {
    "colab": {},
    "colab_type": "code",
    "id": "5_fTTzUPfDhd"
   },
   "outputs": [],
   "source": [
    "result = model.transform(data)"
   ]
  },
  {
   "cell_type": "code",
   "execution_count": null,
   "metadata": {
    "colab": {},
    "colab_type": "code",
    "id": "ll7rPvWefDhg",
    "outputId": "aae51625-7b83-4450-ae47-c3b863fab520"
   },
   "outputs": [
    {
     "name": "stdout",
     "output_type": "stream",
     "text": [
      "+--------------------+--------------------+--------------------+--------------------+\n",
      "|                text|            document|               token|                 pos|\n",
      "+--------------------+--------------------+--------------------+--------------------+\n",
      "|Peter is a very g...|[[document, 0, 27...|[[token, 0, 4, Pe...|[[pos, 0, 4, NNP,...|\n",
      "|My life in Russia...|[[document, 0, 37...|[[token, 0, 1, My...|[[pos, 0, 1, PRP$...|\n",
      "|John and Peter ar...|[[document, 0, 76...|[[token, 0, 3, Jo...|[[pos, 0, 3, NNP,...|\n",
      "|Lucas Nogal Dunbe...|[[document, 0, 67...|[[token, 0, 4, Lu...|[[pos, 0, 4, NNP,...|\n",
      "|Europe is very cu...|[[document, 0, 68...|[[token, 0, 5, Eu...|[[pos, 0, 5, NNP,...|\n",
      "+--------------------+--------------------+--------------------+--------------------+\n",
      "\n"
     ]
    }
   ],
   "source": [
    "result.show(5)"
   ]
  },
  {
   "cell_type": "code",
   "execution_count": null,
   "metadata": {
    "colab": {},
    "colab_type": "code",
    "id": "i06WW8wzfDhk"
   },
   "outputs": [],
   "source": [
    "stored = result\\\n",
    "  .select('text', 'pos.begin', 'pos.end', 'pos.result', 'pos.metadata')\\\n",
    "  .toDF('text', 'pos_begin', 'pos_end', 'pos_result', 'pos_meta')\\\n",
    "  .cache()"
   ]
  },
  {
   "cell_type": "code",
   "execution_count": null,
   "metadata": {
    "colab": {},
    "colab_type": "code",
    "id": "MBQWLPjzfDhp",
    "outputId": "b9b533b2-6fa8-4bb1-b578-1b246215087f"
   },
   "outputs": [
    {
     "name": "stdout",
     "output_type": "stream",
     "text": [
      "root\n",
      " |-- text: string (nullable = true)\n",
      " |-- pos_begin: array (nullable = true)\n",
      " |    |-- element: integer (containsNull = true)\n",
      " |-- pos_end: array (nullable = true)\n",
      " |    |-- element: integer (containsNull = true)\n",
      " |-- pos_result: array (nullable = true)\n",
      " |    |-- element: string (containsNull = true)\n",
      " |-- pos_meta: array (nullable = true)\n",
      " |    |-- element: map (containsNull = true)\n",
      " |    |    |-- key: string\n",
      " |    |    |-- value: string (valueContainsNull = true)\n",
      "\n"
     ]
    }
   ],
   "source": [
    "stored.printSchema()"
   ]
  },
  {
   "cell_type": "code",
   "execution_count": null,
   "metadata": {
    "colab": {},
    "colab_type": "code",
    "id": "X93ASKmGfDhw",
    "outputId": "4eacd896-0f56-412c-bceb-34305179302e"
   },
   "outputs": [
    {
     "name": "stdout",
     "output_type": "stream",
     "text": [
      "+--------------------+--------------------+--------------------+--------------------+--------------------+\n",
      "|                text|           pos_begin|             pos_end|          pos_result|            pos_meta|\n",
      "+--------------------+--------------------+--------------------+--------------------+--------------------+\n",
      "|Peter is a very g...|[0, 6, 9, 11, 16,...|[4, 7, 9, 14, 19,...|[NNP, VBZ, DT, RB...|[[word -> Peter],...|\n",
      "|My life in Russia...|[0, 3, 8, 11, 18,...|[1, 6, 9, 16, 19,...|[PRP$, NN, IN, NN...|[[word -> My], [w...|\n",
      "|John and Peter ar...|[0, 5, 9, 15, 19,...|[3, 7, 13, 17, 26...|[NNP, CC, NNP, VB...|[[word -> John], ...|\n",
      "|Lucas Nogal Dunbe...|[0, 6, 12, 23, 26...|[4, 10, 21, 24, 2...|[NNP, NNP, NNP, V...|[[word -> Lucas],...|\n",
      "|Europe is very cu...|[0, 7, 10, 15, 23...|[5, 8, 13, 21, 26...|[NNP, VBZ, RB, RB...|[[word -> Europe]...|\n",
      "+--------------------+--------------------+--------------------+--------------------+--------------------+\n",
      "\n"
     ]
    }
   ],
   "source": [
    "stored.show(5)"
   ]
  },
  {
   "cell_type": "markdown",
   "metadata": {
    "colab_type": "text",
    "id": "rI8rO1GjfDhz"
   },
   "source": [
    "---------\n",
    "## Spark SQL Functions"
   ]
  },
  {
   "cell_type": "code",
   "execution_count": null,
   "metadata": {
    "colab": {},
    "colab_type": "code",
    "id": "5c5OVnNafDh0"
   },
   "outputs": [],
   "source": [
    "from pyspark.sql.functions import *"
   ]
  },
  {
   "cell_type": "code",
   "execution_count": null,
   "metadata": {
    "colab": {},
    "colab_type": "code",
    "id": "f_nWknqlfDh3",
    "outputId": "8ba1bd92-8bf1-47c4-90a4-f499bc3a6352"
   },
   "outputs": [
    {
     "name": "stdout",
     "output_type": "stream",
     "text": [
      "+----+---------+-------+----------+--------+\n",
      "|text|pos_begin|pos_end|pos_result|pos_meta|\n",
      "+----+---------+-------+----------+--------+\n",
      "+----+---------+-------+----------+--------+\n",
      "\n"
     ]
    }
   ],
   "source": [
    "stored.filter(array_contains('pos_result', 'VBD')).show(5)"
   ]
  },
  {
   "cell_type": "code",
   "execution_count": null,
   "metadata": {
    "colab": {},
    "colab_type": "code",
    "id": "WwBH_f-1fDh7",
    "outputId": "32fd9772-0c16-413c-ea98-783bb2900620"
   },
   "outputs": [
    {
     "name": "stdout",
     "output_type": "stream",
     "text": [
      "+--------------------+-----------+\n",
      "|          pos_result|token_count|\n",
      "+--------------------+-----------+\n",
      "|[NNP, VBZ, DT, RB...|          7|\n",
      "|[PRP$, NN, IN, NN...|          8|\n",
      "|[NNP, CC, NNP, VB...|         15|\n",
      "|[NNP, NNP, NNP, V...|         15|\n",
      "|[NNP, VBZ, RB, RB...|         15|\n",
      "+--------------------+-----------+\n",
      "\n"
     ]
    }
   ],
   "source": [
    "stored.withColumn('token_count', size('pos_result')).select('pos_result', 'token_count').show(5)"
   ]
  },
  {
   "cell_type": "code",
   "execution_count": null,
   "metadata": {
    "colab": {},
    "colab_type": "code",
    "id": "CZn-kEFifDh_",
    "outputId": "0ce9492f-3692-4cdd-90cb-1ab34c155668"
   },
   "outputs": [
    {
     "name": "stdout",
     "output_type": "stream",
     "text": [
      "+--------------------+------------------+\n",
      "|                text|array_max(pos_end)|\n",
      "+--------------------+------------------+\n",
      "|Peter is a very g...|                27|\n",
      "|My life in Russia...|                37|\n",
      "|John and Peter ar...|                76|\n",
      "|Lucas Nogal Dunbe...|                67|\n",
      "|Europe is very cu...|                68|\n",
      "+--------------------+------------------+\n",
      "\n"
     ]
    }
   ],
   "source": [
    "stored.select('text', array_max('pos_end')).show(5)"
   ]
  },
  {
   "cell_type": "code",
   "execution_count": null,
   "metadata": {
    "colab": {},
    "colab_type": "code",
    "id": "GfzcYDcFfDiC",
    "outputId": "e16ffb0e-75c1-4587-f8e8-e8f42f6b4e69"
   },
   "outputs": [
    {
     "name": "stdout",
     "output_type": "stream",
     "text": [
      "+--------------------+--------------------+\n",
      "|          pos_result|          unique_pos|\n",
      "+--------------------+--------------------+\n",
      "|[NNP, VBZ, DT, RB...|[NNP, VBZ, DT, RB...|\n",
      "|[PRP$, NN, IN, NN...|[PRP$, NN, IN, NN...|\n",
      "|[NNP, CC, NNP, VB...|[NNP, CC, VBP, NN...|\n",
      "|[NNP, NNP, NNP, V...|[NNP, VBZ, DT, RB...|\n",
      "|[NNP, VBZ, RB, RB...|[NNP, VBZ, RB, JJ...|\n",
      "+--------------------+--------------------+\n",
      "\n"
     ]
    }
   ],
   "source": [
    "stored.withColumn('unique_pos', array_distinct('pos_result')).select('pos_result', 'unique_pos').show(5)"
   ]
  },
  {
   "cell_type": "code",
   "execution_count": null,
   "metadata": {
    "colab": {},
    "colab_type": "code",
    "id": "W9k5hwUSfDiE",
    "outputId": "c4a481c2-7661-4b47-cb55-a1f7b14b39fd"
   },
   "outputs": [
    {
     "name": "stdout",
     "output_type": "stream",
     "text": [
      "+--------------------------------------+-----+\n",
      "|array_sort(array_distinct(pos_result))|count|\n",
      "+--------------------------------------+-----+\n",
      "|                  [., CC, EX, JJ, N...|    1|\n",
      "|                  [., IN, JJ, NN, N...|    1|\n",
      "|                  [., CC, DT, IN, J...|    1|\n",
      "|                  [., DT, IN, JJ, N...|    1|\n",
      "|                  [., DT, JJ, NN, N...|    1|\n",
      "+--------------------------------------+-----+\n",
      "\n"
     ]
    }
   ],
   "source": [
    "stored.groupBy(array_sort(array_distinct('pos_result'))).count().show(10)"
   ]
  },
  {
   "cell_type": "markdown",
   "metadata": {
    "colab_type": "text",
    "id": "5O_ERu47fDiI"
   },
   "source": [
    "----------------\n",
    "### SQL Functions with `col`"
   ]
  },
  {
   "cell_type": "code",
   "execution_count": null,
   "metadata": {
    "colab": {},
    "colab_type": "code",
    "id": "BP2dz_BqfDiJ"
   },
   "outputs": [],
   "source": [
    "from pyspark.sql.functions import col"
   ]
  },
  {
   "cell_type": "code",
   "execution_count": null,
   "metadata": {
    "colab": {},
    "colab_type": "code",
    "id": "H9a1KaVEfDiM",
    "outputId": "f009a8d2-e615-46c3-f937-7f04654b545b"
   },
   "outputs": [
    {
     "name": "stdout",
     "output_type": "stream",
     "text": [
      "+-----------------+\n",
      "|pos_meta[0][word]|\n",
      "+-----------------+\n",
      "|            Peter|\n",
      "|               My|\n",
      "|             John|\n",
      "|            Lucas|\n",
      "|           Europe|\n",
      "+-----------------+\n",
      "\n"
     ]
    }
   ],
   "source": [
    "stored.select(col('pos_meta').getItem(0).getItem('word')).show(5)"
   ]
  },
  {
   "cell_type": "markdown",
   "metadata": {
    "colab_type": "text",
    "id": "B0TtaUgUfDiP"
   },
   "source": [
    "-------------\n",
    "### Spark NLP Annotation UDFs"
   ]
  },
  {
   "cell_type": "code",
   "execution_count": null,
   "metadata": {
    "colab": {},
    "colab_type": "code",
    "id": "Psqxd7eWfDiQ",
    "outputId": "ff47bec3-a384-4bbe-c734-4e4281cb98fa"
   },
   "outputs": [
    {
     "name": "stdout",
     "output_type": "stream",
     "text": [
      "+-----------------------------------------------------------------------------------------------------------------------------------------------------------------------------------------------------------------------------------------------------------------------+\n",
      "|pos                                                                                                                                                                                                                                                                    |\n",
      "+-----------------------------------------------------------------------------------------------------------------------------------------------------------------------------------------------------------------------------------------------------------------------+\n",
      "|[[pos, 0, 4, NNP, [word -> Peter], []], [pos, 6, 7, VBZ, [word -> is], []], [pos, 9, 9, DT, [word -> a], []], [pos, 11, 14, RB, [word -> very], []], [pos, 16, 19, JJ, [word -> good], []], [pos, 21, 26, NN, [word -> person], []], [pos, 27, 27, ., [word -> .], []]]|\n",
      "+-----------------------------------------------------------------------------------------------------------------------------------------------------------------------------------------------------------------------------------------------------------------------+\n",
      "only showing top 1 row\n",
      "\n"
     ]
    }
   ],
   "source": [
    "result.select('pos').show(1, truncate=False)"
   ]
  },
  {
   "cell_type": "code",
   "execution_count": null,
   "metadata": {
    "colab": {},
    "colab_type": "code",
    "id": "miYDmJiSfDiU"
   },
   "outputs": [],
   "source": [
    "def nn_tokens(annotations):\n",
    "    nn_annotations = list(\n",
    "        filter(lambda annotation: annotation.result == 'NN', annotations)\n",
    "    )\n",
    "    return list(\n",
    "        map(lambda nn_annotation: nn_annotation.metadata['word'], nn_annotations)\n",
    "    )"
   ]
  },
  {
   "cell_type": "code",
   "execution_count": null,
   "metadata": {
    "colab": {},
    "colab_type": "code",
    "id": "fsJDj_bjfDiX"
   },
   "outputs": [],
   "source": [
    "from sparknlp.functions import *"
   ]
  },
  {
   "cell_type": "code",
   "execution_count": null,
   "metadata": {
    "colab": {},
    "colab_type": "code",
    "id": "HeYfUAbXfDid"
   },
   "outputs": [],
   "source": [
    "from pyspark.sql.types import ArrayType, StringType"
   ]
  },
  {
   "cell_type": "code",
   "execution_count": null,
   "metadata": {
    "colab": {},
    "colab_type": "code",
    "id": "lMdSUHW-fDig",
    "outputId": "06404809-a630-4ee6-e8ed-d3f58f70d8e2"
   },
   "outputs": [
    {
     "name": "stdout",
     "output_type": "stream",
     "text": [
      "+---------+\n",
      "|nn_tokens|\n",
      "+---------+\n",
      "|[person] |\n",
      "|[life]   |\n",
      "|[]       |\n",
      "|[car]    |\n",
      "|[]       |\n",
      "+---------+\n",
      "\n"
     ]
    }
   ],
   "source": [
    "result.select(map_annotations(nn_tokens, ArrayType(StringType()))('pos').alias('nn_tokens')).show(truncate=False)"
   ]
  },
  {
   "cell_type": "code",
   "execution_count": null,
   "metadata": {
    "colab": {},
    "colab_type": "code",
    "id": "NT2moIZqfDij"
   },
   "outputs": [],
   "source": []
  }
 ],
 "metadata": {
  "colab": {
   "collapsed_sections": [],
   "name": "6.Playground_DataFrames.ipynb",
   "provenance": []
  },
  "kernelspec": {
   "display_name": "Python 3",
   "language": "python",
   "name": "python3"
  },
  "language_info": {
   "codemirror_mode": {
    "name": "ipython",
    "version": 3
   },
   "file_extension": ".py",
   "mimetype": "text/x-python",
   "name": "python",
   "nbconvert_exporter": "python",
   "pygments_lexer": "ipython3",
   "version": "3.7.4"
  }
 },
 "nbformat": 4,
 "nbformat_minor": 4
}

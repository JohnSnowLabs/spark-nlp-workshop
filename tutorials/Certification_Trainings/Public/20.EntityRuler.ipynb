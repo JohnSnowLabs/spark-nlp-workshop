{
  "cells": [
    {
      "cell_type": "markdown",
      "metadata": {
        "id": "6KvNW4MU5rrF",
        "outputId": "4f640fd8-41e8-4f35-c6d6-ed98ab926127"
      },
      "source": [
        "![JohnSnowLabs](https://nlp.johnsnowlabs.com/assets/images/logo.png)\n",
        "\n",
        "[![Open In Colab](https://colab.research.google.com/assets/colab-badge.svg)](https://colab.research.google.com/github/JohnSnowLabs/spark-nlp-workshop/blob/master/tutorials/Certification_Trainings/Public/20.EntityRuler.ipynb)"
      ]
    },
    {
      "cell_type": "markdown",
      "source": [
        "# Rule-based Entity Recognition with EntityRuler"
      ],
      "metadata": {
        "id": "GZx3ReWigu_W"
      }
    },
    {
      "cell_type": "markdown",
      "source": [
        "This notebook will cover the different parameter and usage of **EntityRuler**. There are 2 annotators to perform this task in Spark NLP; `EntityRulerApproach` and `EntityRulerModel`. <br/>\n",
        "\n",
        "- `EntityRulerApproach` fits an Annotator to match exact strings or regex patterns provided in a file against a Document and assigns them an named entity. The definitions can contain any number of named entities. \n",
        "- `EntityRulerModel` is instantiated model of the `EntityRulerApproach`"
      ],
      "metadata": {
        "id": "3JKV2top7095"
      }
    },
    {
      "cell_type": "markdown",
      "source": [
        "## Install Spark NLP"
      ],
      "metadata": {
        "id": "SSgvnsj_Etcq"
      }
    },
    {
      "cell_type": "code",
      "execution_count": null,
      "metadata": {
        "id": "Q0HMq9H5Wdb3"
      },
      "outputs": [],
      "source": [
        "!pip install -q pyspark==3.2.1 spark-nlp==4.2.4"
      ]
    },
    {
      "cell_type": "code",
      "source": [
        "import sparknlp\n",
        "from sparknlp.base import *\n",
        "from sparknlp.annotator import *\n",
        "from pyspark.sql import functions as F\n",
        "from pyspark.sql import SparkSession\n",
        "\n",
        "spark = sparknlp.start()\n",
        "spark"
      ],
      "metadata": {
        "colab": {
          "base_uri": "https://localhost:8080/",
          "height": 221
        },
        "id": "1DRf_M0KlMV7",
        "outputId": "0644888e-67a1-4006-a207-6478d5cbd36c"
      },
      "execution_count": 2,
      "outputs": [
        {
          "output_type": "execute_result",
          "data": {
            "text/plain": [
              "<pyspark.sql.session.SparkSession at 0x7f2e0b3473a0>"
            ],
            "text/html": [
              "\n",
              "            <div>\n",
              "                <p><b>SparkSession - in-memory</b></p>\n",
              "                \n",
              "        <div>\n",
              "            <p><b>SparkContext</b></p>\n",
              "\n",
              "            <p><a href=\"http://1a45a0841315:4040\">Spark UI</a></p>\n",
              "\n",
              "            <dl>\n",
              "              <dt>Version</dt>\n",
              "                <dd><code>v3.2.1</code></dd>\n",
              "              <dt>Master</dt>\n",
              "                <dd><code>local[*]</code></dd>\n",
              "              <dt>AppName</dt>\n",
              "                <dd><code>Spark NLP</code></dd>\n",
              "            </dl>\n",
              "        </div>\n",
              "        \n",
              "            </div>\n",
              "        "
            ]
          },
          "metadata": {},
          "execution_count": 2
        }
      ]
    },
    {
      "cell_type": "code",
      "execution_count": 3,
      "metadata": {
        "id": "_eB72Yzg8_Jx"
      },
      "outputs": [],
      "source": [
        "data = spark.createDataFrame([[\"Lord Eddard Stark was the head of House Stark. John Snow lives in Winterfell.\"]]).toDF(\"text\")"
      ]
    },
    {
      "cell_type": "code",
      "execution_count": 4,
      "metadata": {
        "colab": {
          "base_uri": "https://localhost:8080/"
        },
        "id": "mi7ENdn0MTvt",
        "outputId": "df28fc53-1d38-43e3-878c-fdfe2e7add15"
      },
      "outputs": [
        {
          "output_type": "stream",
          "name": "stdout",
          "text": [
            "+-----------------------------------------------------------------------------+\n",
            "|text                                                                         |\n",
            "+-----------------------------------------------------------------------------+\n",
            "|Lord Eddard Stark was the head of House Stark. John Snow lives in Winterfell.|\n",
            "+-----------------------------------------------------------------------------+\n",
            "\n"
          ]
        }
      ],
      "source": [
        "data.show(truncate=False)"
      ]
    },
    {
      "cell_type": "markdown",
      "source": [
        "# EntityRulerApproach"
      ],
      "metadata": {
        "id": "1o6BJQba7qT8"
      }
    },
    {
      "cell_type": "markdown",
      "metadata": {
        "id": "69UzeVcXCcNc"
      },
      "source": [
        "## Keywords Patterns"
      ]
    },
    {
      "cell_type": "markdown",
      "metadata": {
        "id": "6YTnzWsW5veU"
      },
      "source": [
        "EntityRuler will handle the chunks output based on the patterns defined, as shown in the example below."
      ]
    },
    {
      "cell_type": "code",
      "execution_count": 5,
      "metadata": {
        "id": "-qPpbCxYIyHy"
      },
      "outputs": [],
      "source": [
        "import json\n",
        "\n",
        "keywords = [\n",
        "          {\n",
        "            \"label\": \"PERSON\",\n",
        "            \"patterns\": [\"Jon\", \"John\", \"John Snow\", \"Jon Snow\"]\n",
        "          },\n",
        "          {\n",
        "            \"label\": \"PERSON\",\n",
        "            \"patterns\": [\"Eddard\", \"Eddard Stark\"]\n",
        "          },\n",
        "          {\n",
        "            \"label\": \"LOCATION\",\n",
        "            \"patterns\": [\"Winterfell\"]\n",
        "          },\n",
        "         ]\n",
        "\n",
        "with open('./keywords.json', 'w') as jsonfile:\n",
        "    json.dump(keywords, jsonfile)"
      ]
    },
    {
      "cell_type": "markdown",
      "metadata": {
        "id": "Rdrsm2rfrACF"
      },
      "source": [
        "We are going to use a JSON file with the following format:"
      ]
    },
    {
      "cell_type": "code",
      "execution_count": 6,
      "metadata": {
        "colab": {
          "base_uri": "https://localhost:8080/"
        },
        "id": "FbP7UtSrLnQ3",
        "outputId": "eb2b90c4-96b2-4554-d9c2-31d8739a4b4f"
      },
      "outputs": [
        {
          "output_type": "stream",
          "name": "stdout",
          "text": [
            "cat: ./person.json: No such file or directory\n"
          ]
        }
      ],
      "source": [
        "! cat ./person.json"
      ]
    },
    {
      "cell_type": "markdown",
      "metadata": {
        "id": "dgSHiRHc8eM2"
      },
      "source": [
        "When working with keywords, we DON'T need a pipeline with Tokenizer"
      ]
    },
    {
      "cell_type": "code",
      "execution_count": 7,
      "metadata": {
        "id": "tRyju8D-6XJ1"
      },
      "outputs": [],
      "source": [
        "document_assembler = DocumentAssembler().setInputCol(\"text\").setOutputCol(\"document\")\n",
        "sentence_detector = SentenceDetector().setInputCols(\"document\").setOutputCol(\"sentence\")\n",
        "\n",
        "entity_ruler = EntityRulerApproach() \\\n",
        "    .setInputCols([\"sentence\"]) \\\n",
        "    .setOutputCol(\"entity\") \\\n",
        "    .setPatternsResource(\"./keywords.json\") \\\n",
        "    .setUseStorage(True)"
      ]
    },
    {
      "cell_type": "code",
      "execution_count": 8,
      "metadata": {
        "id": "FhKPEMb09w6a"
      },
      "outputs": [],
      "source": [
        "pipeline = Pipeline(stages=[document_assembler, sentence_detector, entity_ruler])\n",
        "pipeline_model = pipeline.fit(data)"
      ]
    },
    {
      "cell_type": "code",
      "execution_count": 9,
      "metadata": {
        "colab": {
          "base_uri": "https://localhost:8080/"
        },
        "id": "D7mjcA2E_ehu",
        "outputId": "aa636449-584d-4495-b5a1-66b0aad19a24"
      },
      "outputs": [
        {
          "output_type": "stream",
          "name": "stdout",
          "text": [
            "+--------------------------------------------------------------------------------------------------------------------------------------------------------------------------------------------------------------+\n",
            "|entity                                                                                                                                                                                                        |\n",
            "+--------------------------------------------------------------------------------------------------------------------------------------------------------------------------------------------------------------+\n",
            "|[{chunk, 5, 16, Eddard Stark, {entity -> PERSON, sentence -> 0}, []}, {chunk, 47, 55, John Snow, {entity -> PERSON, sentence -> 1}, []}, {chunk, 66, 75, Winterfell, {entity -> LOCATION, sentence -> 1}, []}]|\n",
            "+--------------------------------------------------------------------------------------------------------------------------------------------------------------------------------------------------------------+\n",
            "\n"
          ]
        }
      ],
      "source": [
        "pipeline_model.transform(data).select(\"entity\").show(truncate=False)"
      ]
    },
    {
      "cell_type": "markdown",
      "metadata": {
        "id": "9LAxooiQNYVv"
      },
      "source": [
        "We can define an id field to identify entities and it supports JSON Lines format as the example below."
      ]
    },
    {
      "cell_type": "code",
      "execution_count": 13,
      "metadata": {
        "id": "V8_KVQvdBDm8"
      },
      "outputs": [],
      "source": [
        "keywords = [\n",
        "            {\n",
        "              \"id\": \"names-with-j\",\n",
        "              \"label\": \"PERSON\",\n",
        "              \"patterns\": [\"Jon\", \"John\", \"John Snow\", \"Jon Snow\"]\n",
        "            },\n",
        "            {\n",
        "              \"id\": \"names-with-e\",\n",
        "              \"label\": \"PERSON\",\n",
        "              \"patterns\": [\"Eddard\", \"Eddard Stark\"]\n",
        "            },\n",
        "            {\n",
        "              \"id\": \"locations\",\n",
        "              \"label\": \"LOCATION\",\n",
        "              \"patterns\": [\"Winterfell\"]\n",
        "            },\n",
        "         ]\n",
        "\n",
        "with open('./keywords.jsonl', 'w') as jsonlfile:\n",
        "    for keyword in keywords:\n",
        "      json.dump(keyword, jsonlfile)\n",
        "      jsonlfile.write('\\n')"
      ]
    },
    {
      "cell_type": "code",
      "execution_count": 14,
      "metadata": {
        "colab": {
          "base_uri": "https://localhost:8080/"
        },
        "id": "OWakfKMlB3Th",
        "outputId": "85d17d30-96aa-4a88-9e12-444bad383810"
      },
      "outputs": [
        {
          "output_type": "stream",
          "name": "stdout",
          "text": [
            "{\"id\": \"names-with-j\", \"label\": \"PERSON\", \"patterns\": [\"Jon\", \"John\", \"John Snow\", \"Jon Snow\"]}\n",
            "{\"id\": \"names-with-e\", \"label\": \"PERSON\", \"patterns\": [\"Eddard\", \"Eddard Stark\"]}\n",
            "{\"id\": \"locations\", \"label\": \"LOCATION\", \"patterns\": [\"Winterfell\"]}\n"
          ]
        }
      ],
      "source": [
        "! cat ./keywords.jsonl"
      ]
    },
    {
      "cell_type": "code",
      "execution_count": 15,
      "metadata": {
        "id": "-_4a1QYaNPfr"
      },
      "outputs": [],
      "source": [
        "entity_ruler = EntityRulerApproach() \\\n",
        "    .setInputCols([\"sentence\"]) \\\n",
        "    .setOutputCol(\"entity\") \\\n",
        "    .setPatternsResource(\"./keywords.jsonl\", ReadAs.TEXT, options={\"format\": \"JSONL\"}) \\\n",
        "    .setUseStorage(True)"
      ]
    },
    {
      "cell_type": "code",
      "execution_count": 16,
      "metadata": {
        "colab": {
          "base_uri": "https://localhost:8080/"
        },
        "id": "Cd0sNKNeOcUg",
        "outputId": "1c442c37-9de7-48ce-8364-2eb43b6dde73"
      },
      "outputs": [
        {
          "output_type": "stream",
          "name": "stdout",
          "text": [
            "+-----------------------------------------------------------------------------------------------------------------------------------------------------------------------------------------------------------------------------------------------------------------------+\n",
            "|entity                                                                                                                                                                                                                                                                 |\n",
            "+-----------------------------------------------------------------------------------------------------------------------------------------------------------------------------------------------------------------------------------------------------------------------+\n",
            "|[{chunk, 5, 16, Eddard Stark, {entity -> PERSON, sentence -> 0, id -> names-with-e}, []}, {chunk, 47, 55, John Snow, {entity -> PERSON, sentence -> 1, id -> names-with-j}, []}, {chunk, 66, 75, Winterfell, {entity -> LOCATION, sentence -> 1, id -> locations}, []}]|\n",
            "+-----------------------------------------------------------------------------------------------------------------------------------------------------------------------------------------------------------------------------------------------------------------------+\n",
            "\n"
          ]
        }
      ],
      "source": [
        "pipeline = Pipeline(stages=[document_assembler, sentence_detector, entity_ruler])\n",
        "model = pipeline.fit(data)\n",
        "model.transform(data).select(\"entity\").show(truncate=False)"
      ]
    },
    {
      "cell_type": "markdown",
      "metadata": {
        "id": "lDZ21hp3rOHV"
      },
      "source": [
        "For the CSV file we use the following configuration:\n"
      ]
    },
    {
      "cell_type": "code",
      "execution_count": 17,
      "metadata": {
        "id": "_MLFqq-ICy56"
      },
      "outputs": [],
      "source": [
        "with open('./keywords.csv', 'w') as csvfile:\n",
        "    csvfile.write('PERSON|Jon\\n')\n",
        "    csvfile.write('PERSON|John\\n')\n",
        "    csvfile.write('PERSON|John Snow\\n')\n",
        "    csvfile.write('LOCATION|Winterfell')"
      ]
    },
    {
      "cell_type": "code",
      "execution_count": 18,
      "metadata": {
        "colab": {
          "base_uri": "https://localhost:8080/"
        },
        "id": "Bz4129WyDNwd",
        "outputId": "827b40f9-3f6d-41a3-c334-dc1e0d0004d0"
      },
      "outputs": [
        {
          "output_type": "stream",
          "name": "stdout",
          "text": [
            "PERSON|Jon\n",
            "PERSON|John\n",
            "PERSON|John Snow\n",
            "LOCATION|Winterfell"
          ]
        }
      ],
      "source": [
        "! cat ./keywords.csv"
      ]
    },
    {
      "cell_type": "code",
      "execution_count": 19,
      "metadata": {
        "id": "0HLcNfrdoAmP"
      },
      "outputs": [],
      "source": [
        "entity_ruler_csv = EntityRulerApproach() \\\n",
        "    .setInputCols([\"sentence\"]) \\\n",
        "    .setOutputCol(\"entity\") \\\n",
        "    .setPatternsResource(\"./keywords.csv\", options={\"format\": \"csv\", \"delimiter\": \"\\\\|\"}) \\\n",
        "    .setUseStorage(True)"
      ]
    },
    {
      "cell_type": "code",
      "execution_count": 20,
      "metadata": {
        "id": "NYTuwztwoHIK"
      },
      "outputs": [],
      "source": [
        "pipeline_csv = Pipeline(stages=[document_assembler, sentence_detector, entity_ruler_csv])\n",
        "model_csv = pipeline_csv.fit(data)"
      ]
    },
    {
      "cell_type": "code",
      "execution_count": 21,
      "metadata": {
        "colab": {
          "base_uri": "https://localhost:8080/"
        },
        "id": "qEN-zRNQoLu5",
        "outputId": "bb26915f-d06f-4945-f2aa-c6eebf9db08a"
      },
      "outputs": [
        {
          "output_type": "stream",
          "name": "stdout",
          "text": [
            "+-----------------------------------------------------------------------------------------------------------------------------------------+\n",
            "|entity                                                                                                                                   |\n",
            "+-----------------------------------------------------------------------------------------------------------------------------------------+\n",
            "|[{chunk, 47, 55, John Snow, {entity -> PERSON, sentence -> 1}, []}, {chunk, 66, 75, Winterfell, {entity -> LOCATION, sentence -> 1}, []}]|\n",
            "+-----------------------------------------------------------------------------------------------------------------------------------------+\n",
            "\n"
          ]
        }
      ],
      "source": [
        "model_csv.transform(data).select(\"entity\").show(truncate=False)"
      ]
    },
    {
      "cell_type": "markdown",
      "metadata": {
        "id": "FmLiqAYhn5DT"
      },
      "source": [
        "## Regex Patterns"
      ]
    },
    {
      "cell_type": "markdown",
      "metadata": {
        "id": "V4h5Ulxyn-rE"
      },
      "source": [
        "Starting with Spark NLP 4.2.0 regex patterns must be defined at a more granular level, with each label. For example we can have the JSON file below"
      ]
    },
    {
      "cell_type": "code",
      "execution_count": 22,
      "metadata": {
        "id": "1QQvXA4Zqelm"
      },
      "outputs": [],
      "source": [
        "data = spark.createDataFrame([[\"The address is 123456 in Winterfell\"]]).toDF(\"text\")"
      ]
    },
    {
      "cell_type": "code",
      "execution_count": 23,
      "metadata": {
        "id": "oZZWlpFknvn1"
      },
      "outputs": [],
      "source": [
        "patterns_string = \"\"\"\n",
        "[\n",
        "  {\n",
        "    \"id\": \"id-regex\",\n",
        "    \"label\": \"ID\",\n",
        "    \"patterns\": [\"[0-9]+\"],\n",
        "    \"regex\": true\n",
        "  },\n",
        "  {\n",
        "    \"id\": \"locations-words\",\n",
        "    \"label\": \"LOCATION\",\n",
        "    \"patterns\": [\"Winterfell\"],\n",
        "    \"regex\": false\n",
        "  }\n",
        "]\n",
        "\"\"\"\n",
        "patterns_obj = json.loads(patterns_string)\n",
        "with open('./patterns.json', 'w') as jsonfile:\n",
        "    json.dump(patterns_obj, jsonfile)"
      ]
    },
    {
      "cell_type": "code",
      "execution_count": 24,
      "metadata": {
        "colab": {
          "base_uri": "https://localhost:8080/"
        },
        "id": "xnp0zMqpogVU",
        "outputId": "d64526f4-5f6f-4bfe-fe48-68694f4267f5"
      },
      "outputs": [
        {
          "output_type": "stream",
          "name": "stdout",
          "text": [
            "[{\"id\": \"id-regex\", \"label\": \"ID\", \"patterns\": [\"[0-9]+\"], \"regex\": true}, {\"id\": \"locations-words\", \"label\": \"LOCATION\", \"patterns\": [\"Winterfell\"], \"regex\": false}]"
          ]
        }
      ],
      "source": [
        "!cat ./patterns.json"
      ]
    },
    {
      "cell_type": "markdown",
      "metadata": {
        "id": "9RcZIelWorQ9"
      },
      "source": [
        "When defining a regex pattern, we need to define Tokenizer annotator in the pipeline"
      ]
    },
    {
      "cell_type": "code",
      "execution_count": 25,
      "metadata": {
        "id": "rCUYCM56oq-e"
      },
      "outputs": [],
      "source": [
        "tokenizer = Tokenizer().setInputCols(\"sentence\").setOutputCol(\"token\")"
      ]
    },
    {
      "cell_type": "code",
      "execution_count": 26,
      "metadata": {
        "id": "TJvrwk18pGqk"
      },
      "outputs": [],
      "source": [
        "regex_entity_ruler = EntityRulerApproach() \\\n",
        "    .setInputCols([\"sentence\", \"token\"]) \\\n",
        "    .setOutputCol(\"entity\") \\\n",
        "    .setPatternsResource(\"./patterns.json\") \\\n",
        "    .setUseStorage(True)"
      ]
    },
    {
      "cell_type": "code",
      "execution_count": 27,
      "metadata": {
        "id": "7v8TbKbo0Izg"
      },
      "outputs": [],
      "source": [
        "regex_pipeline = Pipeline(stages=[document_assembler, sentence_detector, tokenizer, regex_entity_ruler])\n",
        "regex_model = regex_pipeline.fit(data)"
      ]
    },
    {
      "cell_type": "code",
      "execution_count": 28,
      "metadata": {
        "colab": {
          "base_uri": "https://localhost:8080/"
        },
        "id": "pl63WAaq0TKa",
        "outputId": "38a90d6f-b4b9-4bd9-971e-98efdbd0b8b3"
      },
      "outputs": [
        {
          "output_type": "stream",
          "name": "stdout",
          "text": [
            "+-------------------------------------------------------------------------------------------------------------------------------------------------------------------------+\n",
            "|entity                                                                                                                                                                   |\n",
            "+-------------------------------------------------------------------------------------------------------------------------------------------------------------------------+\n",
            "|[{chunk, 15, 20, 123456, {entity -> ID, id -> id-regex, sentence -> 0}, []}, {chunk, 25, 34, Winterfell, {entity -> LOCATION, sentence -> 0, id -> locations-words}, []}]|\n",
            "+-------------------------------------------------------------------------------------------------------------------------------------------------------------------------+\n",
            "\n"
          ]
        }
      ],
      "source": [
        "regex_model.transform(data).select(\"entity\").show(truncate=False)"
      ]
    },
    {
      "cell_type": "markdown",
      "source": [
        "# `EntityRulerModel`"
      ],
      "metadata": {
        "id": "BMZ8eyXR1ELB"
      }
    },
    {
      "cell_type": "markdown",
      "source": [
        "This annotator is an instantiated model of the `EntityRulerApproach`. Once you build an `EntityRulerApproach()`, you can save it and use it with `EntityRulerModel()` via `load()` function. <br/>\n",
        "\n",
        "Let's re-build one of examples that we have done before and save it. "
      ],
      "metadata": {
        "id": "4-50Tixl2WLt"
      }
    },
    {
      "cell_type": "code",
      "source": [
        "data = spark.createDataFrame([[\"Lord Eddard Stark was the head of House Stark. John Snow lives in Winterfell.\"]]).toDF(\"text\")\n",
        "data.show(truncate=False)"
      ],
      "metadata": {
        "colab": {
          "base_uri": "https://localhost:8080/"
        },
        "id": "WDZqgtLu1MsY",
        "outputId": "d740345c-1140-462a-dcda-182d554c96de"
      },
      "execution_count": 29,
      "outputs": [
        {
          "output_type": "stream",
          "name": "stdout",
          "text": [
            "+-----------------------------------------------------------------------------+\n",
            "|text                                                                         |\n",
            "+-----------------------------------------------------------------------------+\n",
            "|Lord Eddard Stark was the head of House Stark. John Snow lives in Winterfell.|\n",
            "+-----------------------------------------------------------------------------+\n",
            "\n"
          ]
        }
      ]
    },
    {
      "cell_type": "code",
      "source": [
        "#Defining the source JSON file and saving\n",
        "import json\n",
        "\n",
        "keywords = [\n",
        "          {\n",
        "            \"label\": \"PERSON\",\n",
        "            \"patterns\": [\"Jon\", \"John\", \"John Snow\", \"Jon Snow\"]\n",
        "          },\n",
        "          {\n",
        "            \"label\": \"PERSON\",\n",
        "            \"patterns\": [\"Eddard\", \"Eddard Stark\"]\n",
        "          },\n",
        "          {\n",
        "            \"label\": \"LOCATION\",\n",
        "            \"patterns\": [\"Winterfell\"]\n",
        "          },\n",
        "         ]\n",
        "\n",
        "with open('keywords.json', 'w') as jsonfile:\n",
        "    json.dump(keywords, jsonfile)"
      ],
      "metadata": {
        "id": "4zd_7q134dCv"
      },
      "execution_count": 30,
      "outputs": []
    },
    {
      "cell_type": "code",
      "source": [
        "entity_ruler = EntityRulerApproach() \\\n",
        "    .setInputCols([\"sentence\"]) \\\n",
        "    .setOutputCol(\"entity\") \\\n",
        "    .setPatternsResource(\"keywords.json\") \n",
        "    \n",
        "pipeline = Pipeline(stages=[document_assembler, \n",
        "                            sentence_detector, \n",
        "                            entity_ruler])\n",
        "\n",
        "pipeline_model = pipeline.fit(data)\n",
        "result= pipeline_model.transform(data)"
      ],
      "metadata": {
        "id": "qaBRAtop0zyl"
      },
      "execution_count": 33,
      "outputs": []
    },
    {
      "cell_type": "markdown",
      "source": [
        "Saving the approach to disk"
      ],
      "metadata": {
        "id": "kRjiiW_I2_m9"
      }
    },
    {
      "cell_type": "code",
      "source": [
        "pipeline_model.stages[2].write().overwrite().save('models/ruler_approach_model')"
      ],
      "metadata": {
        "id": "FaGeCIj5YVYC"
      },
      "execution_count": 34,
      "outputs": []
    },
    {
      "cell_type": "markdown",
      "source": [
        "Loading the saved model and using it with the `EntityRulerModel()` via `load`. "
      ],
      "metadata": {
        "id": "2I7E0wkV3C5u"
      }
    },
    {
      "cell_type": "code",
      "source": [
        "entity_ruler = EntityRulerModel.load('/content/models/ruler_approach_model') \\\n",
        "    .setInputCols([\"sentence\"]) \\\n",
        "    .setOutputCol(\"entity\") \n",
        "\n",
        "pipeline = Pipeline(stages=[document_assembler, \n",
        "                            sentence_detector, \n",
        "                            entity_ruler])\n",
        "\n",
        "pipeline_model = pipeline.fit(data)\n",
        "result = pipeline_model.transform(data)"
      ],
      "metadata": {
        "id": "RHdhw2t-6pmL"
      },
      "execution_count": 37,
      "outputs": []
    },
    {
      "cell_type": "markdown",
      "source": [
        "Checking the result"
      ],
      "metadata": {
        "id": "kT6h7Hoy3Qkw"
      }
    },
    {
      "cell_type": "code",
      "source": [
        "result.select(F.explode(F.arrays_zip(result.entity.result, result.entity.metadata)).alias('col'))\\\n",
        "      .select(F.expr(\"col['0']\").alias(\"keyword\"),\n",
        "              F.expr(\"col['1']['entity']\").alias(\"label\")).show()"
      ],
      "metadata": {
        "colab": {
          "base_uri": "https://localhost:8080/"
        },
        "id": "z_Qr9g_y1uaN",
        "outputId": "0843672c-6cdd-476c-90ff-2dc8d84715f8"
      },
      "execution_count": 53,
      "outputs": [
        {
          "output_type": "stream",
          "name": "stdout",
          "text": [
            "+------------+--------+\n",
            "|     keyword|   label|\n",
            "+------------+--------+\n",
            "|Eddard Stark|  PERSON|\n",
            "|   John Snow|  PERSON|\n",
            "|  Winterfell|LOCATION|\n",
            "+------------+--------+\n",
            "\n"
          ]
        }
      ]
    },
    {
      "cell_type": "markdown",
      "source": [
        "As seen above, we built an `EntityRuler`, saved it and used the saved model with `EntityRulerModel`. "
      ],
      "metadata": {
        "id": "D9nSEExz3STL"
      }
    },
    {
      "cell_type": "markdown",
      "source": [
        "### Using LightPipeline"
      ],
      "metadata": {
        "id": "uuN7dw05_AlD"
      }
    },
    {
      "cell_type": "markdown",
      "source": [
        "The EntityRuler annotator can also be applied by using LightPipeline:"
      ],
      "metadata": {
        "id": "f3IXo3vO_H0s"
      }
    },
    {
      "cell_type": "code",
      "execution_count": 54,
      "metadata": {
        "id": "IS8fN6lh_AlD"
      },
      "outputs": [],
      "source": [
        "light_pipeline = LightPipeline(pipeline_model)"
      ]
    },
    {
      "cell_type": "code",
      "execution_count": 55,
      "metadata": {
        "colab": {
          "base_uri": "https://localhost:8080/"
        },
        "outputId": "ab1c017d-1ac0-4ec4-a421-ae7e945bc8b4",
        "id": "qpM8ed-G_AlD"
      },
      "outputs": [
        {
          "output_type": "execute_result",
          "data": {
            "text/plain": [
              "dict_keys(['document', 'sentence', 'entity'])"
            ]
          },
          "metadata": {},
          "execution_count": 55
        }
      ],
      "source": [
        "annotations = light_pipeline.fullAnnotate(\"Doctor John Snow lives in London, whereas Lord Commander Jon Snow lives in Castle Black\")[0]\n",
        "annotations.keys()"
      ]
    },
    {
      "cell_type": "code",
      "execution_count": 56,
      "metadata": {
        "colab": {
          "base_uri": "https://localhost:8080/"
        },
        "outputId": "bf2e83ea-49d9-4cdd-d389-e3d33f200801",
        "id": "BuvodYEI_AlE"
      },
      "outputs": [
        {
          "output_type": "execute_result",
          "data": {
            "text/plain": [
              "[Annotation(chunk, 7, 15, John Snow, {'entity': 'PERSON', 'sentence': '0'}),\n",
              " Annotation(chunk, 57, 64, Jon Snow, {'entity': 'PERSON', 'sentence': '0'})]"
            ]
          },
          "metadata": {},
          "execution_count": 56
        }
      ],
      "source": [
        "annotations.get('entity')"
      ]
    }
  ],
  "metadata": {
    "colab": {
      "provenance": [],
      "toc_visible": true
    },
    "kernelspec": {
      "display_name": "Python 3",
      "language": "python",
      "name": "python3"
    },
    "language_info": {
      "codemirror_mode": {
        "name": "ipython",
        "version": 3
      },
      "file_extension": ".py",
      "mimetype": "text/x-python",
      "name": "python",
      "nbconvert_exporter": "python",
      "pygments_lexer": "ipython3",
      "version": "3.8.10"
    }
  },
  "nbformat": 4,
  "nbformat_minor": 0
}
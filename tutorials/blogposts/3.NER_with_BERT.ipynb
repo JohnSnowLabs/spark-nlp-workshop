{
  "nbformat": 4,
  "nbformat_minor": 0,
  "metadata": {
    "kernelspec": {
      "display_name": "Python 3",
      "language": "python",
      "name": "python3"
    },
    "language_info": {
      "codemirror_mode": {
        "name": "ipython",
        "version": 3
      },
      "file_extension": ".py",
      "mimetype": "text/x-python",
      "name": "python",
      "nbconvert_exporter": "python",
      "pygments_lexer": "ipython3",
      "version": "3.6.9"
    },
    "colab": {
      "name": "3.NER_with_BERT.ipynb",
      "provenance": [],
      "collapsed_sections": [
        "5N47oS8WM6OY",
        "zYWIys6BM6Ob",
        "WbY3ZstAM6OV",
        "WwAHj6mPM6Od",
        "YKp_pARIM6Oe"
      ],
      "toc_visible": true
    },
    "accelerator": "GPU"
  },
  "cells": [
    {
      "cell_type": "markdown",
      "metadata": {
        "id": "-GsDDSmTM6N9"
      },
      "source": [
        "# NER with BERT in Spark NLP"
      ]
    },
    {
      "cell_type": "markdown",
      "metadata": {
        "id": "3TZw9vE5M6OH"
      },
      "source": [
        "## Installation"
      ]
    },
    {
      "cell_type": "code",
      "metadata": {
        "id": "LRhmsIcCM6OH",
        "colab": {
          "base_uri": "https://localhost:8080/"
        },
        "outputId": "27769f6f-954a-4407-9273-cfef5fe4a987"
      },
      "source": [
        "# This is only to setup PySpark and Spark NLP on Colab\n",
        "!wget http://setup.johnsnowlabs.com/colab.sh -O - | bash"
      ],
      "execution_count": 1,
      "outputs": [
        {
          "output_type": "stream",
          "text": [
            "--2021-04-12 15:06:32--  http://setup.johnsnowlabs.com/colab.sh\n",
            "Resolving setup.johnsnowlabs.com (setup.johnsnowlabs.com)... 51.158.130.26\n",
            "Connecting to setup.johnsnowlabs.com (setup.johnsnowlabs.com)|51.158.130.26|:80... connected.\n",
            "HTTP request sent, awaiting response... 302 Moved Temporarily\n",
            "Location: https://raw.githubusercontent.com/JohnSnowLabs/spark-nlp/master/scripts/colab_setup.sh [following]\n",
            "--2021-04-12 15:06:33--  https://raw.githubusercontent.com/JohnSnowLabs/spark-nlp/master/scripts/colab_setup.sh\n",
            "Resolving raw.githubusercontent.com (raw.githubusercontent.com)... 185.199.111.133, 185.199.108.133, 185.199.110.133, ...\n",
            "Connecting to raw.githubusercontent.com (raw.githubusercontent.com)|185.199.111.133|:443... connected.\n",
            "HTTP request sent, awaiting response... 200 OK\n",
            "Length: 1593 (1.6K) [text/plain]\n",
            "Saving to: ‘STDOUT’\n",
            "\n",
            "-                     0%[                    ]       0  --.-KB/s               setup Colab for PySpark 3.1.1 and Spark NLP 3.0.1\n",
            "-                   100%[===================>]   1.56K  --.-KB/s    in 0.001s  \n",
            "\n",
            "2021-04-12 15:06:33 (2.23 MB/s) - written to stdout [1593/1593]\n",
            "\n",
            "\u001b[K     |████████████████████████████████| 212.3MB 76kB/s \n",
            "\u001b[K     |████████████████████████████████| 153kB 39.6MB/s \n",
            "\u001b[K     |████████████████████████████████| 204kB 20.8MB/s \n",
            "\u001b[?25h  Building wheel for pyspark (setup.py) ... \u001b[?25l\u001b[?25hdone\n"
          ],
          "name": "stdout"
        }
      ]
    },
    {
      "cell_type": "markdown",
      "metadata": {
        "id": "ylCinY-tM6OI"
      },
      "source": [
        "## Import libraries and download datasets"
      ]
    },
    {
      "cell_type": "code",
      "metadata": {
        "id": "A6rnibyVM6OI"
      },
      "source": [
        "import sparknlp\n",
        "from sparknlp.annotator import *\n",
        "from sparknlp.base import *"
      ],
      "execution_count": 2,
      "outputs": []
    },
    {
      "cell_type": "code",
      "metadata": {
        "id": "O9mD4BObM6OI",
        "colab": {
          "base_uri": "https://localhost:8080/"
        },
        "outputId": "e901161a-b1a4-400b-d05d-fc5243cd5ae9"
      },
      "source": [
        "# if you have GPU\n",
        "# spark = sparknlp.start(gpu=True)\n",
        "spark = sparknlp.start()\n",
        "\n",
        "print(\"Spark NLP version: \", sparknlp.version())\n",
        "print(\"Apache Spark version: \", spark.version)"
      ],
      "execution_count": 3,
      "outputs": [
        {
          "output_type": "stream",
          "text": [
            "Spark NLP version:  3.0.1\n",
            "Apache Spark version:  3.1.1\n"
          ],
          "name": "stdout"
        }
      ]
    },
    {
      "cell_type": "code",
      "metadata": {
        "id": "xnfsIM1MM6OJ",
        "colab": {
          "base_uri": "https://localhost:8080/"
        },
        "outputId": "bdab1de7-2d3b-48ce-91aa-2cdafc1c8d62"
      },
      "source": [
        "from urllib.request import urlretrieve\n",
        "\n",
        "urlretrieve('https://github.com/JohnSnowLabs/spark-nlp/raw/master/src/test/resources/conll2003/eng.train',\n",
        "           'eng.train')\n",
        "\n",
        "urlretrieve('https://github.com/JohnSnowLabs/spark-nlp/raw/master/src/test/resources/conll2003/eng.testa',\n",
        "           'eng.testa')\n"
      ],
      "execution_count": 4,
      "outputs": [
        {
          "output_type": "execute_result",
          "data": {
            "text/plain": [
              "('eng.testa', <http.client.HTTPMessage at 0x7fefba656d90>)"
            ]
          },
          "metadata": {
            "tags": []
          },
          "execution_count": 4
        }
      ]
    },
    {
      "cell_type": "code",
      "metadata": {
        "id": "Ksp7t3WKM6OK",
        "colab": {
          "base_uri": "https://localhost:8080/"
        },
        "outputId": "15e7883f-43b7-4629-b5f1-1d0c0a97c5c4"
      },
      "source": [
        "with open(\"eng.train\") as f:\n",
        "    c=f.read()\n",
        "\n",
        "print (c[:200])"
      ],
      "execution_count": 5,
      "outputs": [
        {
          "output_type": "stream",
          "text": [
            "-DOCSTART- -X- -X- O\n",
            "\n",
            "EU NNP B-NP B-ORG\n",
            "rejects VBZ B-VP O\n",
            "German JJ B-NP B-MISC\n",
            "call NN I-NP O\n",
            "to TO B-VP O\n",
            "boycott VB I-VP O\n",
            "British JJ B-NP B-MISC\n",
            "lamb NN I-NP O\n",
            ". . O O\n",
            "\n",
            "Peter NNP B-NP B-PER\n",
            "Black\n"
          ],
          "name": "stdout"
        }
      ]
    },
    {
      "cell_type": "markdown",
      "metadata": {
        "id": "3sNhRXZ1M6OK"
      },
      "source": [
        "## Building NER pipeline"
      ]
    },
    {
      "cell_type": "code",
      "metadata": {
        "id": "cOgifXmgM6OL",
        "colab": {
          "base_uri": "https://localhost:8080/"
        },
        "outputId": "335bd0a0-104e-4203-db9f-951cafff2fc3"
      },
      "source": [
        "from sparknlp.training import CoNLL\n",
        "\n",
        "training_data = CoNLL().readDataset(spark, './eng.train')\n",
        "training_data.show(3)"
      ],
      "execution_count": 6,
      "outputs": [
        {
          "output_type": "stream",
          "text": [
            "+--------------------+--------------------+--------------------+--------------------+--------------------+--------------------+\n",
            "|                text|            document|            sentence|               token|                 pos|               label|\n",
            "+--------------------+--------------------+--------------------+--------------------+--------------------+--------------------+\n",
            "|EU rejects German...|[{document, 0, 47...|[{document, 0, 47...|[{token, 0, 1, EU...|[{pos, 0, 1, NNP,...|[{named_entity, 0...|\n",
            "|     Peter Blackburn|[{document, 0, 14...|[{document, 0, 14...|[{token, 0, 4, Pe...|[{pos, 0, 4, NNP,...|[{named_entity, 0...|\n",
            "| BRUSSELS 1996-08-22|[{document, 0, 18...|[{document, 0, 18...|[{token, 0, 7, BR...|[{pos, 0, 7, NNP,...|[{named_entity, 0...|\n",
            "+--------------------+--------------------+--------------------+--------------------+--------------------+--------------------+\n",
            "only showing top 3 rows\n",
            "\n"
          ],
          "name": "stdout"
        }
      ]
    },
    {
      "cell_type": "code",
      "metadata": {
        "id": "S6R1bF9QM6OL",
        "colab": {
          "base_uri": "https://localhost:8080/"
        },
        "outputId": "7c0e2769-8ea5-45d4-f260-445358302195"
      },
      "source": [
        "training_data.count()"
      ],
      "execution_count": 7,
      "outputs": [
        {
          "output_type": "execute_result",
          "data": {
            "text/plain": [
              "14041"
            ]
          },
          "metadata": {
            "tags": []
          },
          "execution_count": 7
        }
      ]
    },
    {
      "cell_type": "markdown",
      "metadata": {
        "id": "FPHBKA1FM6OL"
      },
      "source": [
        "### Loading Bert"
      ]
    },
    {
      "cell_type": "markdown",
      "metadata": {
        "id": "b4IA9Rn0M6OL"
      },
      "source": [
        "In Spark NLP, we have four pre-trained variants of BERT: bert_base_uncased , bert_base_cased , bert_large_uncased , bert_large_cased, and many Smaller BERT models available on our [Models Hub](https://nlp.johnsnowlabs.com/models?q=bert&task=Embeddings). Which one to use depends on your use case, train set, and the complexity of the task you are trying to model.\n",
        "\n",
        "In the code snippet above, we basically load the bert_base_cased version from Spark NLP public resources and point the sentence and token columns in   setInputCols(). In short, BertEmbeddings() annotator will take sentence and token columns and populate Bert embeddings in bert column. In general, each word is translated to a 768-dimensional vector.\n",
        "\n",
        "As explained by the authors of official BERT paper, different BERT layers capture different information. The last layer is too closed to the target functions (i.e. masked language model and next sentence prediction) during pre-training, therefore it may be biased to those targets. "
      ]
    },
    {
      "cell_type": "code",
      "metadata": {
        "id": "Y-HV69OEM6OM",
        "colab": {
          "base_uri": "https://localhost:8080/"
        },
        "outputId": "9e2d6acd-4e92-4a1c-eb21-6b6c1606844c"
      },
      "source": [
        "# we use BERT Tiny\n",
        "bert_annotator = BertEmbeddings.pretrained('small_bert_L2_128', 'en') \\\n",
        " .setInputCols([\"sentence\",'token'])\\\n",
        " .setOutputCol(\"bert\")\\\n",
        ".setBatchSize(8)"
      ],
      "execution_count": 8,
      "outputs": [
        {
          "output_type": "stream",
          "text": [
            "small_bert_L2_128 download started this may take some time.\n",
            "Approximate size to download 16.1 MB\n",
            "[OK!]\n"
          ],
          "name": "stdout"
        }
      ]
    },
    {
      "cell_type": "code",
      "metadata": {
        "id": "zVs0qpz7M6OM",
        "colab": {
          "base_uri": "https://localhost:8080/"
        },
        "outputId": "eb5b7351-b8fb-4802-cb8b-4753029d127f"
      },
      "source": [
        "from sparknlp.training import CoNLL\n",
        "\n",
        "test_data = CoNLL().readDataset(spark, './eng.testa')\n",
        "\n",
        "test_data = bert_annotator.transform(test_data)\n",
        "\n",
        "test_data.show(3)"
      ],
      "execution_count": 9,
      "outputs": [
        {
          "output_type": "stream",
          "text": [
            "+--------------------+--------------------+--------------------+--------------------+--------------------+--------------------+--------------------+\n",
            "|                text|            document|            sentence|               token|                 pos|               label|                bert|\n",
            "+--------------------+--------------------+--------------------+--------------------+--------------------+--------------------+--------------------+\n",
            "|CRICKET - LEICEST...|[{document, 0, 64...|[{document, 0, 64...|[{token, 0, 6, CR...|[{pos, 0, 6, NNP,...|[{named_entity, 0...|[{word_embeddings...|\n",
            "|   LONDON 1996-08-30|[{document, 0, 16...|[{document, 0, 16...|[{token, 0, 5, LO...|[{pos, 0, 5, NNP,...|[{named_entity, 0...|[{word_embeddings...|\n",
            "|West Indian all-r...|[{document, 0, 18...|[{document, 0, 18...|[{token, 0, 3, We...|[{pos, 0, 3, NNP,...|[{named_entity, 0...|[{word_embeddings...|\n",
            "+--------------------+--------------------+--------------------+--------------------+--------------------+--------------------+--------------------+\n",
            "only showing top 3 rows\n",
            "\n"
          ],
          "name": "stdout"
        }
      ]
    },
    {
      "cell_type": "code",
      "metadata": {
        "id": "mM-nQblLPkPf"
      },
      "source": [
        "# let's transform and save our test dataset for evaluation\n",
        "test_data.write.parquet(\"test_withEmbeds.parquet\")"
      ],
      "execution_count": 10,
      "outputs": []
    },
    {
      "cell_type": "code",
      "metadata": {
        "id": "9vufW7YRM6ON",
        "colab": {
          "base_uri": "https://localhost:8080/"
        },
        "outputId": "04c26d77-b833-44b7-9f78-c74de4db4136"
      },
      "source": [
        "test_data.select(\"bert.result\",\"bert.embeddings\",'label.result').show()"
      ],
      "execution_count": 11,
      "outputs": [
        {
          "output_type": "stream",
          "text": [
            "+--------------------+--------------------+--------------------+\n",
            "|              result|          embeddings|              result|\n",
            "+--------------------+--------------------+--------------------+\n",
            "|[cricket, -, leic...|[[-1.6099558, 0.5...|[O, O, B-ORG, O, ...|\n",
            "|[london, 1996-08-30]|[[-0.66074246, 0....|          [B-LOC, O]|\n",
            "|[west, indian, al...|[[-1.2108907, 0.9...|[B-MISC, I-MISC, ...|\n",
            "|[their, stay, on,...|[[-0.9397644, 0.0...|[O, O, O, O, O, O...|\n",
            "|[after, bowling, ...|[[-1.126781, 1.11...|[O, O, B-ORG, O, ...|\n",
            "|[trailing, by, 21...|[[-1.8359265, 0.4...|[O, O, O, O, B-OR...|\n",
            "|[essex, ,, howeve...|[[-1.2150189, 0.2...|[B-ORG, O, O, O, ...|\n",
            "|[hussain, ,, cons...|[[-1.607896, 0.52...|[B-PER, O, O, O, ...|\n",
            "|[by, the, close, ...|[[-1.868376, 1.14...|[O, O, O, B-ORG, ...|\n",
            "|[at, the, oval, ,...|[[-1.874095, 0.69...|[O, O, B-LOC, O, ...|\n",
            "|[he, was, well, b...|[[-1.6607136, 1.2...|[O, O, O, O, O, B...|\n",
            "|[derbyshire, kept...|[[-1.1823796, 0.2...|[B-ORG, O, O, O, ...|\n",
            "|[australian, tom,...|[[-1.1873065, 2.1...|[B-MISC, B-PER, I...|\n",
            "|[after, the, frus...|[[-1.8415073, 1.3...|[O, O, O, O, O, O...|\n",
            "|[they, were, held...|[[-1.2608191, 0.8...|[O, O, O, O, O, O...|\n",
            "|[by, stumps, kent...|[[-1.6587898, 1.5...|[O, O, B-ORG, O, ...|\n",
            "|[cricket, -, engl...|[[-1.5593712, 0.2...|[O, O, B-MISC, I-...|\n",
            "|[london, 1996-08-30]|[[-0.66074246, 0....|          [B-LOC, O]|\n",
            "|[result, and, clo...|[[-2.2526507, 0.2...|[O, O, O, O, O, O...|\n",
            "|[leicester, :, le...|[[-0.9601011, 0.4...|[B-LOC, O, B-ORG,...|\n",
            "+--------------------+--------------------+--------------------+\n",
            "only showing top 20 rows\n",
            "\n"
          ],
          "name": "stdout"
        }
      ]
    },
    {
      "cell_type": "code",
      "metadata": {
        "id": "jJyP74zgM6OQ"
      },
      "source": [
        "nerTagger = NerDLApproach()\\\n",
        "  .setInputCols([\"sentence\", \"token\", \"bert\"])\\\n",
        "  .setLabelColumn(\"label\")\\\n",
        "  .setOutputCol(\"ner\")\\\n",
        "  .setMaxEpochs(5)\\\n",
        "  .setLr(0.001)\\\n",
        "  .setPo(0.005)\\\n",
        "  .setBatchSize(32)\\\n",
        "  .setEvaluationLogExtended(True) \\\n",
        "  .setEnableOutputLogs(True)\\\n",
        "  .setTestDataset(\"test_withEmbeds.parquet\")\n",
        "\n",
        "pipeline = Pipeline(\n",
        "    stages = [\n",
        "    bert_annotator,\n",
        "    nerTagger\n",
        "  ])"
      ],
      "execution_count": 12,
      "outputs": []
    },
    {
      "cell_type": "markdown",
      "metadata": {
        "id": "kYJT6mHLM6OQ"
      },
      "source": [
        "You can also set learning rate ( setLr ), learning rate decay coefficient ( setPo ), setBatchSize and setDropout rate. Please see the [official APIs](https://nlp.johnsnowlabs.com/api/com/johnsnowlabs/nlp/annotators/ner/dl/NerDLApproach.html) for the entire list. "
      ]
    },
    {
      "cell_type": "code",
      "metadata": {
        "id": "2wCMb1XmM6OR",
        "colab": {
          "base_uri": "https://localhost:8080/"
        },
        "outputId": "628d5f62-868a-4faa-8b5e-a3792a9b5e4f"
      },
      "source": [
        "%%time\n",
        "\n",
        "ner_model = pipeline.fit(training_data)"
      ],
      "execution_count": 13,
      "outputs": [
        {
          "output_type": "stream",
          "text": [
            "CPU times: user 5.42 s, sys: 618 ms, total: 6.03 s\n",
            "Wall time: 16min 55s\n"
          ],
          "name": "stdout"
        }
      ]
    },
    {
      "cell_type": "code",
      "metadata": {
        "id": "VtLbO6RfP-y7",
        "colab": {
          "base_uri": "https://localhost:8080/"
        },
        "outputId": "75bbd436-7b82-4205-f86e-e07f9194af53"
      },
      "source": [
        "!ls -l /root/annotator_logs/"
      ],
      "execution_count": 14,
      "outputs": [
        {
          "output_type": "stream",
          "text": [
            "total 8\n",
            "-rw-r--r-- 1 root root 4200 Apr 12 15:27 NerDLApproach_16a0e7b3577f.log\n"
          ],
          "name": "stdout"
        }
      ]
    },
    {
      "cell_type": "code",
      "metadata": {
        "id": "4zAvs21PQDU1",
        "colab": {
          "base_uri": "https://localhost:8080/"
        },
        "outputId": "e1fa4f56-ac31-4299-e29e-056cda24a139"
      },
      "source": [
        "!cat /root/annotator_logs/NerDLApproach_16a0e7b3577f.log"
      ],
      "execution_count": 15,
      "outputs": [
        {
          "output_type": "stream",
          "text": [
            "Name of the selected graph: ner-dl/blstm_10_128_128_120.pb\n",
            "Training started - total epochs: 5 - lr: 0.001 - batch size: 32 - labels: 9 - chars: 58 - training examples: 14041\n",
            "\n",
            "\n",
            "Epoch 1/5 started, lr: 0.001, dataset size: 14041\n",
            "\n",
            "\n",
            "Epoch 1/5 - 169.06s - loss: 2376.4592 - batches: 441\n",
            "Quality on test dataset: \n",
            "time to finish evaluation: 11.74s\n",
            "label\t tp\t fp\t fn\t prec\t rec\t f1\n",
            "B-LOC\t 1429\t 224\t 408\t 0.8644888\t 0.7778987\t 0.81891114\n",
            "I-ORG\t 248\t 96\t 503\t 0.7209302\t 0.33022636\t 0.45296806\n",
            "I-MISC\t 128\t 84\t 218\t 0.6037736\t 0.3699422\t 0.45878136\n",
            "I-LOC\t 123\t 19\t 134\t 0.86619717\t 0.47859922\t 0.6165413\n",
            "I-PER\t 1188\t 74\t 116\t 0.9413629\t 0.9110429\t 0.9259548\n",
            "B-MISC\t 547\t 163\t 375\t 0.7704225\t 0.5932755\t 0.6703431\n",
            "B-ORG\t 741\t 209\t 600\t 0.78\t 0.5525727\t 0.6468791\n",
            "B-PER\t 1495\t 145\t 345\t 0.9115854\t 0.8125\t 0.8591954\n",
            "tp: 5899 fp: 1014 fn: 2699 labels: 8\n",
            "Macro-average\t prec: 0.8073451, rec: 0.6032572, f1: 0.6905373\n",
            "Micro-average\t prec: 0.8533198, rec: 0.6860898, f1: 0.7606215\n",
            "\n",
            "\n",
            "Epoch 2/5 started, lr: 9.950249E-4, dataset size: 14041\n",
            "\n",
            "\n",
            "Epoch 2/5 - 169.56s - loss: 1146.1156 - batches: 441\n",
            "Quality on test dataset: \n",
            "time to finish evaluation: 11.30s\n",
            "label\t tp\t fp\t fn\t prec\t rec\t f1\n",
            "B-LOC\t 1599\t 232\t 238\t 0.8732933\t 0.87044096\t 0.8718648\n",
            "I-ORG\t 245\t 55\t 506\t 0.81666666\t 0.3262317\t 0.46622264\n",
            "I-MISC\t 120\t 22\t 226\t 0.8450704\t 0.3468208\t 0.49180326\n",
            "I-LOC\t 168\t 52\t 89\t 0.76363635\t 0.6536965\t 0.70440245\n",
            "I-PER\t 1247\t 111\t 57\t 0.9182621\t 0.95628834\t 0.9368895\n",
            "B-MISC\t 635\t 127\t 287\t 0.8333333\t 0.68872017\t 0.75415677\n",
            "B-ORG\t 804\t 145\t 537\t 0.8472076\t 0.5995526\t 0.70218337\n",
            "B-PER\t 1732\t 342\t 108\t 0.83510125\t 0.9413043\t 0.88502806\n",
            "tp: 6550 fp: 1086 fn: 2048 labels: 8\n",
            "Macro-average\t prec: 0.8415714, rec: 0.6728819, f1: 0.7478318\n",
            "Micro-average\t prec: 0.85777897, rec: 0.76180506, f1: 0.80694836\n",
            "\n",
            "\n",
            "Epoch 3/5 started, lr: 9.90099E-4, dataset size: 14041\n",
            "\n",
            "\n",
            "Epoch 3/5 - 170.46s - loss: 900.59686 - batches: 441\n",
            "Quality on test dataset: \n",
            "time to finish evaluation: 10.98s\n",
            "label\t tp\t fp\t fn\t prec\t rec\t f1\n",
            "B-LOC\t 1551\t 127\t 286\t 0.9243147\t 0.84431136\t 0.8825036\n",
            "I-ORG\t 441\t 166\t 310\t 0.7265239\t 0.58721703\t 0.6494845\n",
            "I-MISC\t 182\t 99\t 164\t 0.64768684\t 0.5260116\t 0.5805423\n",
            "I-LOC\t 178\t 44\t 79\t 0.8018018\t 0.692607\t 0.743215\n",
            "I-PER\t 1250\t 86\t 54\t 0.9356288\t 0.95858896\t 0.94696975\n",
            "B-MISC\t 661\t 106\t 261\t 0.86179924\t 0.7169197\t 0.7827117\n",
            "B-ORG\t 957\t 255\t 384\t 0.78960395\t 0.71364653\t 0.74970627\n",
            "B-PER\t 1735\t 255\t 105\t 0.8718593\t 0.9429348\t 0.90600526\n",
            "tp: 6955 fp: 1138 fn: 1643 labels: 8\n",
            "Macro-average\t prec: 0.8199023, rec: 0.74777967, f1: 0.7821819\n",
            "Micro-average\t prec: 0.85938466, rec: 0.80890906, f1: 0.83338326\n",
            "\n",
            "\n",
            "Epoch 4/5 started, lr: 9.852217E-4, dataset size: 14041\n",
            "\n",
            "\n",
            "Epoch 4/5 - 169.92s - loss: 753.7998 - batches: 441\n",
            "Quality on test dataset: \n",
            "time to finish evaluation: 11.14s\n",
            "label\t tp\t fp\t fn\t prec\t rec\t f1\n",
            "B-LOC\t 1662\t 216\t 175\t 0.884984\t 0.904736\t 0.89475095\n",
            "I-ORG\t 455\t 148\t 296\t 0.75456053\t 0.60585886\t 0.6720827\n",
            "I-MISC\t 178\t 59\t 168\t 0.7510548\t 0.51445085\t 0.6106346\n",
            "I-LOC\t 199\t 86\t 58\t 0.6982456\t 0.77431905\t 0.7343173\n",
            "I-PER\t 1253\t 81\t 51\t 0.93928033\t 0.9608896\t 0.9499621\n",
            "B-MISC\t 676\t 93\t 246\t 0.8790637\t 0.73318875\t 0.79952693\n",
            "B-ORG\t 944\t 182\t 397\t 0.8383659\t 0.70395225\t 0.765302\n",
            "B-PER\t 1743\t 261\t 97\t 0.86976045\t 0.9472826\t 0.9068678\n",
            "tp: 7110 fp: 1126 fn: 1488 labels: 8\n",
            "Macro-average\t prec: 0.8269144, rec: 0.76808476, f1: 0.7964147\n",
            "Micro-average\t prec: 0.86328316, rec: 0.8269365, f1: 0.84471905\n",
            "\n",
            "\n",
            "Epoch 5/5 started, lr: 9.803922E-4, dataset size: 14041\n",
            "\n",
            "\n",
            "Epoch 5/5 - 170.27s - loss: 654.3028 - batches: 441\n",
            "Quality on test dataset: \n",
            "time to finish evaluation: 10.89s\n",
            "label\t tp\t fp\t fn\t prec\t rec\t f1\n",
            "B-LOC\t 1657\t 203\t 180\t 0.8908602\t 0.90201414\t 0.8964025\n",
            "I-ORG\t 458\t 100\t 293\t 0.8207885\t 0.6098535\t 0.6997708\n",
            "I-MISC\t 200\t 79\t 146\t 0.71684587\t 0.5780347\t 0.64\n",
            "I-LOC\t 184\t 37\t 73\t 0.8325792\t 0.7159533\t 0.76987445\n",
            "I-PER\t 1237\t 43\t 67\t 0.9664062\t 0.9486196\t 0.95743036\n",
            "B-MISC\t 706\t 95\t 216\t 0.88139826\t 0.7657267\t 0.81950086\n",
            "B-ORG\t 983\t 165\t 358\t 0.8562718\t 0.733035\t 0.78987545\n",
            "B-PER\t 1699\t 130\t 141\t 0.9289229\t 0.9233696\t 0.92613786\n",
            "tp: 7124 fp: 852 fn: 1474 labels: 8\n",
            "Macro-average\t prec: 0.86175907, rec: 0.77207583, f1: 0.81445605\n",
            "Micro-average\t prec: 0.89317954, rec: 0.82856476, f1: 0.85965973\n"
          ],
          "name": "stdout"
        }
      ]
    },
    {
      "cell_type": "markdown",
      "metadata": {
        "id": "oo-GNidLr1wt"
      },
      "source": [
        "**Some notes:**\n",
        "- we used the smallest BERT model called BERT Tiny\n",
        "- it's very small and requires less memory among Transformers\n",
        "- if you have more memory or access to accelerated hardware please choose a larger BERT model for higher accuracy\n",
        "- you can also set higher Epoch to reach our STOA metrics\n",
        "\n",
        "We chose the smallest BERT model with only 5 Epochs for the sake of this tutorial within this small Colab VM"
      ]
    },
    {
      "cell_type": "code",
      "metadata": {
        "id": "ApUISh0AM6OR"
      },
      "source": [
        "# let's save our trained NER model on disk\n",
        "# so we can load it in a new session or move it to another location\n",
        "# since we fit NerDL model inside the pipeline, we can access it via stages\n",
        "ner_model.stages[1].write().overwrite().save('./NER_bert_20200219')"
      ],
      "execution_count": 20,
      "outputs": []
    },
    {
      "cell_type": "code",
      "metadata": {
        "colab": {
          "base_uri": "https://localhost:8080/"
        },
        "id": "WehIZ-d9s5Ok",
        "outputId": "26116dd1-b22e-4c7f-85df-cfc68a00eb1b"
      },
      "source": [
        "test_data.show()"
      ],
      "execution_count": 21,
      "outputs": [
        {
          "output_type": "stream",
          "text": [
            "+--------------------+--------------------+--------------------+--------------------+--------------------+--------------------+--------------------+\n",
            "|                text|            document|            sentence|               token|                 pos|               label|                bert|\n",
            "+--------------------+--------------------+--------------------+--------------------+--------------------+--------------------+--------------------+\n",
            "|CRICKET - LEICEST...|[{document, 0, 64...|[{document, 0, 64...|[{token, 0, 6, CR...|[{pos, 0, 6, NNP,...|[{named_entity, 0...|[{word_embeddings...|\n",
            "|   LONDON 1996-08-30|[{document, 0, 16...|[{document, 0, 16...|[{token, 0, 5, LO...|[{pos, 0, 5, NNP,...|[{named_entity, 0...|[{word_embeddings...|\n",
            "|West Indian all-r...|[{document, 0, 18...|[{document, 0, 18...|[{token, 0, 3, We...|[{pos, 0, 3, NNP,...|[{named_entity, 0...|[{word_embeddings...|\n",
            "|Their stay on top...|[{document, 0, 20...|[{document, 0, 20...|[{token, 0, 4, Th...|[{pos, 0, 4, PRP$...|[{named_entity, 0...|[{word_embeddings...|\n",
            "|After bowling Som...|[{document, 0, 21...|[{document, 0, 21...|[{token, 0, 4, Af...|[{pos, 0, 4, IN, ...|[{named_entity, 0...|[{word_embeddings...|\n",
            "|Trailing by 213 ,...|[{document, 0, 12...|[{document, 0, 12...|[{token, 0, 7, Tr...|[{pos, 0, 7, VBG,...|[{named_entity, 0...|[{word_embeddings...|\n",
            "|Essex , however ,...|[{document, 0, 16...|[{document, 0, 16...|[{token, 0, 4, Es...|[{pos, 0, 4, NNP,...|[{named_entity, 0...|[{word_embeddings...|\n",
            "|Hussain , conside...|[{document, 0, 18...|[{document, 0, 18...|[{token, 0, 6, Hu...|[{pos, 0, 6, NN, ...|[{named_entity, 0...|[{word_embeddings...|\n",
            "|By the close York...|[{document, 0, 20...|[{document, 0, 20...|[{token, 0, 1, By...|[{pos, 0, 1, IN, ...|[{named_entity, 0...|[{word_embeddings...|\n",
            "|At the Oval , Sur...|[{document, 0, 21...|[{document, 0, 21...|[{token, 0, 1, At...|[{pos, 0, 1, IN, ...|[{named_entity, 0...|[{word_embeddings...|\n",
            "|He was well backe...|[{document, 0, 11...|[{document, 0, 11...|[{token, 0, 1, He...|[{pos, 0, 1, PRP,...|[{named_entity, 0...|[{word_embeddings...|\n",
            "|Derbyshire kept u...|[{document, 0, 19...|[{document, 0, 19...|[{token, 0, 9, De...|[{pos, 0, 9, NN, ...|[{named_entity, 0...|[{word_embeddings...|\n",
            "|Australian Tom Mo...|[{document, 0, 14...|[{document, 0, 14...|[{token, 0, 9, Au...|[{pos, 0, 9, NNP,...|[{named_entity, 0...|[{word_embeddings...|\n",
            "|After the frustra...|[{document, 0, 15...|[{document, 0, 15...|[{token, 0, 4, Af...|[{pos, 0, 4, IN, ...|[{named_entity, 0...|[{word_embeddings...|\n",
            "|They were held up...|[{document, 0, 11...|[{document, 0, 11...|[{token, 0, 3, Th...|[{pos, 0, 3, PRP,...|[{named_entity, 0...|[{word_embeddings...|\n",
            "|By stumps Kent ha...|[{document, 0, 41...|[{document, 0, 41...|[{token, 0, 1, By...|[{pos, 0, 1, IN, ...|[{named_entity, 0...|[{word_embeddings...|\n",
            "|CRICKET - ENGLISH...|[{document, 0, 45...|[{document, 0, 45...|[{token, 0, 6, CR...|[{pos, 0, 6, NNP,...|[{named_entity, 0...|[{word_embeddings...|\n",
            "|   LONDON 1996-08-30|[{document, 0, 16...|[{document, 0, 16...|[{token, 0, 5, LO...|[{pos, 0, 5, NNP,...|[{named_entity, 0...|[{word_embeddings...|\n",
            "|Result and close ...|[{document, 0, 81...|[{document, 0, 81...|[{token, 0, 5, Re...|[{pos, 0, 5, NN, ...|[{named_entity, 0...|[{word_embeddings...|\n",
            "|Leicester : Leice...|[{document, 0, 67...|[{document, 0, 67...|[{token, 0, 8, Le...|[{pos, 0, 8, JJ, ...|[{named_entity, 0...|[{word_embeddings...|\n",
            "+--------------------+--------------------+--------------------+--------------------+--------------------+--------------------+--------------------+\n",
            "only showing top 20 rows\n",
            "\n"
          ],
          "name": "stdout"
        }
      ]
    },
    {
      "cell_type": "code",
      "metadata": {
        "id": "KiQvE5pmM6OS",
        "colab": {
          "base_uri": "https://localhost:8080/"
        },
        "outputId": "6264b27c-2399-49a3-f6ac-17c3698e8177"
      },
      "source": [
        "# let's only feed sentence and token from our test dataset\n",
        "predictions = ner_model.transform(test_data.select(\"sentence\", \"token\", \"label\"))\n",
        "predictions.show(3)"
      ],
      "execution_count": 26,
      "outputs": [
        {
          "output_type": "stream",
          "text": [
            "+--------------------+--------------------+--------------------+--------------------+--------------------+\n",
            "|            sentence|               token|               label|                bert|                 ner|\n",
            "+--------------------+--------------------+--------------------+--------------------+--------------------+\n",
            "|[{document, 0, 64...|[{token, 0, 6, CR...|[{named_entity, 0...|[{word_embeddings...|[{named_entity, 0...|\n",
            "|[{document, 0, 16...|[{token, 0, 5, LO...|[{named_entity, 0...|[{word_embeddings...|[{named_entity, 0...|\n",
            "|[{document, 0, 18...|[{token, 0, 3, We...|[{named_entity, 0...|[{word_embeddings...|[{named_entity, 0...|\n",
            "+--------------------+--------------------+--------------------+--------------------+--------------------+\n",
            "only showing top 3 rows\n",
            "\n"
          ],
          "name": "stdout"
        }
      ]
    },
    {
      "cell_type": "code",
      "metadata": {
        "id": "8eTDVoCxM6OS",
        "colab": {
          "base_uri": "https://localhost:8080/"
        },
        "outputId": "80147911-7888-408e-f963-ac8510db18c6"
      },
      "source": [
        "predictions.select('token.result','label.result','ner.result').show(truncate=40)"
      ],
      "execution_count": 27,
      "outputs": [
        {
          "output_type": "stream",
          "text": [
            "+----------------------------------------+----------------------------------------+----------------------------------------+\n",
            "|                                  result|                                  result|                                  result|\n",
            "+----------------------------------------+----------------------------------------+----------------------------------------+\n",
            "|[CRICKET, -, LEICESTERSHIRE, TAKE, OV...|   [O, O, B-ORG, O, O, O, O, O, O, O, O]|   [O, O, B-ORG, O, O, O, O, O, O, O, O]|\n",
            "|                    [LONDON, 1996-08-30]|                              [B-LOC, O]|                              [B-LOC, O]|\n",
            "|[West, Indian, all-rounder, Phil, Sim...|[B-MISC, I-MISC, O, B-PER, I-PER, O, ...|[B-MISC, I-MISC, O, B-PER, I-PER, O, ...|\n",
            "|[Their, stay, on, top, ,, though, ,, ...|[O, O, O, O, O, O, O, O, O, O, O, O, ...|[O, O, O, O, O, O, O, O, O, O, O, O, ...|\n",
            "|[After, bowling, Somerset, out, for, ...|[O, O, B-ORG, O, O, O, O, O, O, O, O,...|[O, O, I-PER, O, O, O, O, O, O, O, O,...|\n",
            "|[Trailing, by, 213, ,, Somerset, got,...|[O, O, O, O, B-ORG, O, O, O, O, O, O,...|[O, O, O, O, B-ORG, O, O, O, O, O, O,...|\n",
            "|[Essex, ,, however, ,, look, certain,...|[B-ORG, O, O, O, O, O, O, O, O, O, O,...|[B-ORG, O, O, O, O, O, O, O, O, O, O,...|\n",
            "|[Hussain, ,, considered, surplus, to,...|[B-PER, O, O, O, O, B-LOC, O, O, O, O...|[B-PER, O, O, O, O, B-LOC, O, O, O, O...|\n",
            "|[By, the, close, Yorkshire, had, turn...|[O, O, O, B-ORG, O, O, O, O, O, O, O,...|[O, O, O, B-ORG, O, O, O, O, O, O, O,...|\n",
            "|[At, the, Oval, ,, Surrey, captain, C...|[O, O, B-LOC, O, B-ORG, O, B-PER, I-P...|[O, O, B-LOC, O, B-LOC, O, B-PER, I-P...|\n",
            "|[He, was, well, backed, by, England, ...|[O, O, O, O, O, B-LOC, O, B-PER, I-PE...|[O, O, O, O, O, B-LOC, O, B-PER, I-PE...|\n",
            "|[Derbyshire, kept, up, the, hunt, for...|[B-ORG, O, O, O, O, O, O, O, O, O, O,...|[B-ORG, O, O, O, O, O, O, O, O, O, O,...|\n",
            "|[Australian, Tom, Moody, took, six, f...|[B-MISC, B-PER, I-PER, O, O, O, O, O,...|[B-MISC, B-PER, I-PER, O, O, O, O, O,...|\n",
            "|[After, the, frustration, of, seeing,...|[O, O, O, O, O, O, O, O, O, O, O, O, ...|[O, O, O, O, O, O, O, O, O, O, O, O, ...|\n",
            "|[They, were, held, up, by, a, gritty,...|[O, O, O, O, O, O, O, O, O, B-PER, I-...|[O, O, O, O, O, O, O, O, O, B-PER, I-...|\n",
            "|[By, stumps, Kent, had, reached, 108,...|         [O, O, B-ORG, O, O, O, O, O, O]|     [O, B-PER, I-PER, O, O, O, O, O, O]|\n",
            "|[CRICKET, -, ENGLISH, COUNTY, CHAMPIO...|    [O, O, B-MISC, I-MISC, I-MISC, O, O]|         [O, O, B-MISC, I-MISC, O, O, O]|\n",
            "|                    [LONDON, 1996-08-30]|                              [B-LOC, O]|                              [B-LOC, O]|\n",
            "|[Result, and, close, of, play, scores...|[O, O, O, O, O, O, O, B-MISC, O, O, O...|[O, O, O, O, O, O, O, B-MISC, O, O, O...|\n",
            "|[Leicester, :, Leicestershire, beat, ...|[B-LOC, O, B-ORG, O, B-ORG, O, O, O, ...|[B-ORG, O, B-ORG, O, B-ORG, O, O, O, ...|\n",
            "+----------------------------------------+----------------------------------------+----------------------------------------+\n",
            "only showing top 20 rows\n",
            "\n"
          ],
          "name": "stdout"
        }
      ]
    },
    {
      "cell_type": "code",
      "metadata": {
        "id": "EzC5CDUwM6OS",
        "colab": {
          "base_uri": "https://localhost:8080/"
        },
        "outputId": "da65b6e2-6725-4e03-8fff-3c377b0a6e35"
      },
      "source": [
        "predictions.printSchema()"
      ],
      "execution_count": 28,
      "outputs": [
        {
          "output_type": "stream",
          "text": [
            "root\n",
            " |-- sentence: array (nullable = false)\n",
            " |    |-- element: struct (containsNull = true)\n",
            " |    |    |-- annotatorType: string (nullable = true)\n",
            " |    |    |-- begin: integer (nullable = false)\n",
            " |    |    |-- end: integer (nullable = false)\n",
            " |    |    |-- result: string (nullable = true)\n",
            " |    |    |-- metadata: map (nullable = true)\n",
            " |    |    |    |-- key: string\n",
            " |    |    |    |-- value: string (valueContainsNull = true)\n",
            " |    |    |-- embeddings: array (nullable = true)\n",
            " |    |    |    |-- element: float (containsNull = false)\n",
            " |-- token: array (nullable = false)\n",
            " |    |-- element: struct (containsNull = true)\n",
            " |    |    |-- annotatorType: string (nullable = true)\n",
            " |    |    |-- begin: integer (nullable = false)\n",
            " |    |    |-- end: integer (nullable = false)\n",
            " |    |    |-- result: string (nullable = true)\n",
            " |    |    |-- metadata: map (nullable = true)\n",
            " |    |    |    |-- key: string\n",
            " |    |    |    |-- value: string (valueContainsNull = true)\n",
            " |    |    |-- embeddings: array (nullable = true)\n",
            " |    |    |    |-- element: float (containsNull = false)\n",
            " |-- label: array (nullable = false)\n",
            " |    |-- element: struct (containsNull = true)\n",
            " |    |    |-- annotatorType: string (nullable = true)\n",
            " |    |    |-- begin: integer (nullable = false)\n",
            " |    |    |-- end: integer (nullable = false)\n",
            " |    |    |-- result: string (nullable = true)\n",
            " |    |    |-- metadata: map (nullable = true)\n",
            " |    |    |    |-- key: string\n",
            " |    |    |    |-- value: string (valueContainsNull = true)\n",
            " |    |    |-- embeddings: array (nullable = true)\n",
            " |    |    |    |-- element: float (containsNull = false)\n",
            " |-- bert: array (nullable = true)\n",
            " |    |-- element: struct (containsNull = false)\n",
            " |    |    |-- annotatorType: string (nullable = true)\n",
            " |    |    |-- begin: integer (nullable = false)\n",
            " |    |    |-- end: integer (nullable = false)\n",
            " |    |    |-- result: string (nullable = true)\n",
            " |    |    |-- metadata: map (nullable = true)\n",
            " |    |    |    |-- key: string\n",
            " |    |    |    |-- value: string (valueContainsNull = true)\n",
            " |    |    |-- embeddings: array (nullable = true)\n",
            " |    |    |    |-- element: float (containsNull = false)\n",
            " |-- ner: array (nullable = true)\n",
            " |    |-- element: struct (containsNull = false)\n",
            " |    |    |-- annotatorType: string (nullable = true)\n",
            " |    |    |-- begin: integer (nullable = false)\n",
            " |    |    |-- end: integer (nullable = false)\n",
            " |    |    |-- result: string (nullable = true)\n",
            " |    |    |-- metadata: map (nullable = true)\n",
            " |    |    |    |-- key: string\n",
            " |    |    |    |-- value: string (valueContainsNull = true)\n",
            " |    |    |-- embeddings: array (nullable = true)\n",
            " |    |    |    |-- element: float (containsNull = false)\n",
            "\n"
          ],
          "name": "stdout"
        }
      ]
    },
    {
      "cell_type": "code",
      "metadata": {
        "id": "pzYP3TGfM6OT",
        "colab": {
          "base_uri": "https://localhost:8080/"
        },
        "outputId": "36490d72-4c60-4649-ce01-f10f3222f3cd"
      },
      "source": [
        "import pyspark.sql.functions as F\n",
        "\n",
        "predictions.select(F.explode(F.arrays_zip('token.result','label.result','ner.result')).alias(\"cols\")) \\\n",
        ".select(F.expr(\"cols['0']\").alias(\"token\"),\n",
        "        F.expr(\"cols['1']\").alias(\"ground_truth\"),\n",
        "        F.expr(\"cols['2']\").alias(\"prediction\")).show(truncate=False)"
      ],
      "execution_count": 29,
      "outputs": [
        {
          "output_type": "stream",
          "text": [
            "+--------------+------------+----------+\n",
            "|token         |ground_truth|prediction|\n",
            "+--------------+------------+----------+\n",
            "|CRICKET       |O           |O         |\n",
            "|-             |O           |O         |\n",
            "|LEICESTERSHIRE|B-ORG       |B-ORG     |\n",
            "|TAKE          |O           |O         |\n",
            "|OVER          |O           |O         |\n",
            "|AT            |O           |O         |\n",
            "|TOP           |O           |O         |\n",
            "|AFTER         |O           |O         |\n",
            "|INNINGS       |O           |O         |\n",
            "|VICTORY       |O           |O         |\n",
            "|.             |O           |O         |\n",
            "|LONDON        |B-LOC       |B-LOC     |\n",
            "|1996-08-30    |O           |O         |\n",
            "|West          |B-MISC      |B-MISC    |\n",
            "|Indian        |I-MISC      |I-MISC    |\n",
            "|all-rounder   |O           |O         |\n",
            "|Phil          |B-PER       |B-PER     |\n",
            "|Simmons       |I-PER       |I-PER     |\n",
            "|took          |O           |O         |\n",
            "|four          |O           |O         |\n",
            "+--------------+------------+----------+\n",
            "only showing top 20 rows\n",
            "\n"
          ],
          "name": "stdout"
        }
      ]
    },
    {
      "cell_type": "markdown",
      "metadata": {
        "id": "tjaahMbzuV4A"
      },
      "source": [
        "# Convert to Pandas"
      ]
    },
    {
      "cell_type": "code",
      "metadata": {
        "id": "z-M0PZd6M6OU",
        "colab": {
          "base_uri": "https://localhost:8080/",
          "height": 419
        },
        "outputId": "84421d33-68ed-4259-a3f5-7c0a77ca831a"
      },
      "source": [
        "import pandas as pd\n",
        "\n",
        "df = predictions.select('token.result','label.result','ner.result').toPandas()\n",
        "\n",
        "df"
      ],
      "execution_count": 31,
      "outputs": [
        {
          "output_type": "execute_result",
          "data": {
            "text/html": [
              "<div>\n",
              "<style scoped>\n",
              "    .dataframe tbody tr th:only-of-type {\n",
              "        vertical-align: middle;\n",
              "    }\n",
              "\n",
              "    .dataframe tbody tr th {\n",
              "        vertical-align: top;\n",
              "    }\n",
              "\n",
              "    .dataframe thead th {\n",
              "        text-align: right;\n",
              "    }\n",
              "</style>\n",
              "<table border=\"1\" class=\"dataframe\">\n",
              "  <thead>\n",
              "    <tr style=\"text-align: right;\">\n",
              "      <th></th>\n",
              "      <th>result</th>\n",
              "      <th>result</th>\n",
              "      <th>result</th>\n",
              "    </tr>\n",
              "  </thead>\n",
              "  <tbody>\n",
              "    <tr>\n",
              "      <th>0</th>\n",
              "      <td>[CRICKET, -, LEICESTERSHIRE, TAKE, OVER, AT, T...</td>\n",
              "      <td>[O, O, B-ORG, O, O, O, O, O, O, O, O]</td>\n",
              "      <td>[O, O, B-ORG, O, O, O, O, O, O, O, O]</td>\n",
              "    </tr>\n",
              "    <tr>\n",
              "      <th>1</th>\n",
              "      <td>[LONDON, 1996-08-30]</td>\n",
              "      <td>[B-LOC, O]</td>\n",
              "      <td>[B-LOC, O]</td>\n",
              "    </tr>\n",
              "    <tr>\n",
              "      <th>2</th>\n",
              "      <td>[West, Indian, all-rounder, Phil, Simmons, too...</td>\n",
              "      <td>[B-MISC, I-MISC, O, B-PER, I-PER, O, O, O, O, ...</td>\n",
              "      <td>[B-MISC, I-MISC, O, B-PER, I-PER, O, O, O, O, ...</td>\n",
              "    </tr>\n",
              "    <tr>\n",
              "      <th>3</th>\n",
              "      <td>[Their, stay, on, top, ,, though, ,, may, be, ...</td>\n",
              "      <td>[O, O, O, O, O, O, O, O, O, O, O, O, O, B-ORG,...</td>\n",
              "      <td>[O, O, O, O, O, O, O, O, O, O, O, O, O, B-ORG,...</td>\n",
              "    </tr>\n",
              "    <tr>\n",
              "      <th>4</th>\n",
              "      <td>[After, bowling, Somerset, out, for, 83, on, t...</td>\n",
              "      <td>[O, O, B-ORG, O, O, O, O, O, O, O, O, B-LOC, I...</td>\n",
              "      <td>[O, O, I-PER, O, O, O, O, O, O, O, O, B-LOC, I...</td>\n",
              "    </tr>\n",
              "    <tr>\n",
              "      <th>...</th>\n",
              "      <td>...</td>\n",
              "      <td>...</td>\n",
              "      <td>...</td>\n",
              "    </tr>\n",
              "    <tr>\n",
              "      <th>3245</th>\n",
              "      <td>[But, the, prices, may, move, in, a, close, ra...</td>\n",
              "      <td>[O, O, O, O, O, O, O, O, O, O, O, O, O, O, O, O]</td>\n",
              "      <td>[O, O, O, O, O, O, O, O, O, O, O, O, O, O, O, O]</td>\n",
              "    </tr>\n",
              "    <tr>\n",
              "      <th>3246</th>\n",
              "      <td>[Brokers, said, blue, chips, like, IDLC, ,, Ba...</td>\n",
              "      <td>[O, O, O, O, O, B-ORG, O, B-ORG, I-ORG, O, B-O...</td>\n",
              "      <td>[O, O, O, O, O, O, O, B-LOC, O, O, B-LOC, O, O...</td>\n",
              "    </tr>\n",
              "    <tr>\n",
              "      <th>3247</th>\n",
              "      <td>[They, said, there, was, still, demand, for, b...</td>\n",
              "      <td>[O, O, O, O, O, O, O, O, O, O, O, O, O, O, O, ...</td>\n",
              "      <td>[O, O, O, O, O, O, O, O, O, O, O, O, O, O, O, ...</td>\n",
              "    </tr>\n",
              "    <tr>\n",
              "      <th>3248</th>\n",
              "      <td>[The, DSE, all, share, price, index, closed, 2...</td>\n",
              "      <td>[O, B-ORG, O, O, O, O, O, O, O, O, O, O, O, O,...</td>\n",
              "      <td>[O, B-ORG, O, O, O, O, O, O, O, O, O, O, O, O,...</td>\n",
              "    </tr>\n",
              "    <tr>\n",
              "      <th>3249</th>\n",
              "      <td>[--, Dhaka, Newsroom, 880-2-506363]</td>\n",
              "      <td>[O, B-ORG, I-ORG, O]</td>\n",
              "      <td>[O, B-LOC, O, O]</td>\n",
              "    </tr>\n",
              "  </tbody>\n",
              "</table>\n",
              "<p>3250 rows × 3 columns</p>\n",
              "</div>"
            ],
            "text/plain": [
              "                                                 result  ...                                             result\n",
              "0     [CRICKET, -, LEICESTERSHIRE, TAKE, OVER, AT, T...  ...              [O, O, B-ORG, O, O, O, O, O, O, O, O]\n",
              "1                                  [LONDON, 1996-08-30]  ...                                         [B-LOC, O]\n",
              "2     [West, Indian, all-rounder, Phil, Simmons, too...  ...  [B-MISC, I-MISC, O, B-PER, I-PER, O, O, O, O, ...\n",
              "3     [Their, stay, on, top, ,, though, ,, may, be, ...  ...  [O, O, O, O, O, O, O, O, O, O, O, O, O, B-ORG,...\n",
              "4     [After, bowling, Somerset, out, for, 83, on, t...  ...  [O, O, I-PER, O, O, O, O, O, O, O, O, B-LOC, I...\n",
              "...                                                 ...  ...                                                ...\n",
              "3245  [But, the, prices, may, move, in, a, close, ra...  ...   [O, O, O, O, O, O, O, O, O, O, O, O, O, O, O, O]\n",
              "3246  [Brokers, said, blue, chips, like, IDLC, ,, Ba...  ...  [O, O, O, O, O, O, O, B-LOC, O, O, B-LOC, O, O...\n",
              "3247  [They, said, there, was, still, demand, for, b...  ...  [O, O, O, O, O, O, O, O, O, O, O, O, O, O, O, ...\n",
              "3248  [The, DSE, all, share, price, index, closed, 2...  ...  [O, B-ORG, O, O, O, O, O, O, O, O, O, O, O, O,...\n",
              "3249                [--, Dhaka, Newsroom, 880-2-506363]  ...                                   [O, B-LOC, O, O]\n",
              "\n",
              "[3250 rows x 3 columns]"
            ]
          },
          "metadata": {
            "tags": []
          },
          "execution_count": 31
        }
      ]
    },
    {
      "cell_type": "markdown",
      "metadata": {
        "id": "5N47oS8WM6OY"
      },
      "source": [
        "## Prediction Pipeline"
      ]
    },
    {
      "cell_type": "code",
      "metadata": {
        "id": "2ZMRW44DM6OY"
      },
      "source": [
        "from pyspark.ml import Pipeline\n",
        "\n",
        "document = DocumentAssembler()\\\n",
        "    .setInputCol(\"text\")\\\n",
        "    .setOutputCol(\"document\")\n",
        "\n",
        "sentence = SentenceDetector()\\\n",
        "    .setInputCols(['document'])\\\n",
        "    .setOutputCol('sentence')\n",
        "\n",
        "token = Tokenizer()\\\n",
        "    .setInputCols(['sentence'])\\\n",
        "    .setOutputCol('token')\n",
        "\n",
        "bert = BertEmbeddings.pretrained('small_bert_L2_128', 'en') \\\n",
        " .setInputCols([\"sentence\",'token'])\\\n",
        " .setOutputCol(\"bert\")\\\n",
        " .setCaseSensitive(True)\n",
        "\n",
        "loaded_ner_model = NerDLModel.load(\"NER_bert_20200219\")\\\n",
        " .setInputCols([\"sentence\", \"token\", \"bert\"])\\\n",
        " .setOutputCol(\"ner\")\n",
        "\n",
        "converter = NerConverter()\\\n",
        "  .setInputCols([\"document\", \"token\", \"ner\"])\\\n",
        "  .setOutputCol(\"ner_span\")\n",
        "\n",
        "ner_prediction_pipeline = Pipeline(\n",
        "    stages = [\n",
        "        document,\n",
        "        sentence,\n",
        "        token,\n",
        "        bert,\n",
        "        loaded_ner_model,\n",
        "        converter])"
      ],
      "execution_count": null,
      "outputs": []
    },
    {
      "cell_type": "code",
      "metadata": {
        "id": "Lmtzkvh0M6OZ"
      },
      "source": [
        "empty_data = spark.createDataFrame([['']]).toDF(\"text\")\n",
        "\n",
        "empty_data.show()"
      ],
      "execution_count": null,
      "outputs": []
    },
    {
      "cell_type": "code",
      "metadata": {
        "id": "b-ntORrdM6OZ"
      },
      "source": [
        "prediction_model = ner_prediction_pipeline.fit(empty_data)\n"
      ],
      "execution_count": null,
      "outputs": []
    },
    {
      "cell_type": "code",
      "metadata": {
        "id": "L6hxHQBLM6OZ"
      },
      "source": [
        "text = \"Peter Parker is a nice guy and lives in New York.\"\n",
        "sample_data = spark.createDataFrame([[text]]).toDF(\"text\")\n",
        "sample_data.show()"
      ],
      "execution_count": null,
      "outputs": []
    },
    {
      "cell_type": "code",
      "metadata": {
        "id": "Os-XoJCtM6Oa"
      },
      "source": [
        "\n",
        "preds = prediction_model.transform(sample_data)\n",
        "\n",
        "preds.show()"
      ],
      "execution_count": null,
      "outputs": []
    },
    {
      "cell_type": "code",
      "metadata": {
        "id": "flcEnI6BM6Oa"
      },
      "source": [
        "preds.select('ner_span.result').take(1)"
      ],
      "execution_count": null,
      "outputs": []
    },
    {
      "cell_type": "code",
      "metadata": {
        "id": "95ryt1wEM6Oa"
      },
      "source": [
        "\n",
        "preds.select(F.explode(F.arrays_zip(\"ner_span.result\",\"ner_span.metadata\")).alias(\"entities\")) \\\n",
        ".select(F.expr(\"entities['0']\").alias(\"chunk\"),\n",
        "        F.expr(\"entities['1'].entity\").alias(\"entity\")).show(truncate=False)"
      ],
      "execution_count": null,
      "outputs": []
    },
    {
      "cell_type": "code",
      "metadata": {
        "id": "QT2ojwJHM6Oa"
      },
      "source": [
        "document = DocumentAssembler()\\\n",
        "    .setInputCol(\"text\")\\\n",
        "    .setOutputCol(\"document\")\n",
        "\n",
        "sentence = SentenceDetector()\\\n",
        "    .setInputCols(['document'])\\\n",
        "    .setOutputCol('sentence')\n",
        "\n",
        "token = Tokenizer()\\\n",
        "    .setInputCols(['sentence'])\\\n",
        "    .setOutputCol('token')\n",
        "\n",
        "loaded_ner_model = NerDLModel.load(\"NER_bert_20200219\")\\\n",
        " .setInputCols([\"sentence\", \"token\", \"glove\"])\\\n",
        " .setOutputCol(\"ner\")\n",
        "\n",
        "converter = NerConverter()\\\n",
        "  .setInputCols([\"document\", \"token\", \"ner\"])\\\n",
        "  .setOutputCol(\"ner_span\")\n",
        "\n",
        "glove_ner_prediction_pipeline = Pipeline(\n",
        "    stages = [\n",
        "        document,\n",
        "        sentence,\n",
        "        token,\n",
        "        glove,\n",
        "        loaded_ner_model,\n",
        "        converter])"
      ],
      "execution_count": null,
      "outputs": []
    },
    {
      "cell_type": "code",
      "metadata": {
        "id": "Iw71QpnXM6Ob"
      },
      "source": [
        "glove_prediction_model = glove_ner_prediction_pipeline.fit(empty_data)"
      ],
      "execution_count": null,
      "outputs": []
    },
    {
      "cell_type": "code",
      "metadata": {
        "id": "lqCcz7rwM6Ob"
      },
      "source": [
        "\n",
        "preds = glove_prediction_model.transform(sample_data)\n",
        "\n",
        "preds.show()"
      ],
      "execution_count": null,
      "outputs": []
    },
    {
      "cell_type": "code",
      "metadata": {
        "id": "DsoWGO7MM6Ob"
      },
      "source": [
        "\n",
        "preds.select(F.explode(F.arrays_zip(\"ner_span.result\",\"ner_span.metadata\")).alias(\"entities\")) \\\n",
        ".select(F.expr(\"entities['0']\").alias(\"chunk\"),\n",
        "        F.expr(\"entities['1'].entity\").alias(\"entity\")).show(truncate=False)"
      ],
      "execution_count": null,
      "outputs": []
    },
    {
      "cell_type": "markdown",
      "metadata": {
        "id": "zYWIys6BM6Ob"
      },
      "source": [
        "### Pretrained Pipelines"
      ]
    },
    {
      "cell_type": "code",
      "metadata": {
        "id": "nOP1riCCM6Oc"
      },
      "source": [
        "from sparknlp.pretrained import PretrainedPipeline\n",
        "\n",
        "pretrained_pipeline = PretrainedPipeline('recognize_entities_dl', lang='en')\n",
        "\n",
        "#onto_recognize_entities_sm\n",
        "#explain_document_dl"
      ],
      "execution_count": null,
      "outputs": []
    },
    {
      "cell_type": "code",
      "metadata": {
        "id": "tdh4U83kM6Oc"
      },
      "source": [
        "text = \"The Mona Lisa is a 16th century oil painting created by Leonardo. It's held at the Louvre in Paris.\"\n",
        "\n",
        "result = pretrained_pipeline.annotate(text)\n",
        "\n",
        "list(zip(result['token'], result['ner']))"
      ],
      "execution_count": null,
      "outputs": []
    },
    {
      "cell_type": "code",
      "metadata": {
        "id": "M-F-QJzCM6Oc"
      },
      "source": [
        "pretrained_pipeline2 = PretrainedPipeline('explain_document_dl', lang='en')\n"
      ],
      "execution_count": null,
      "outputs": []
    },
    {
      "cell_type": "code",
      "metadata": {
        "id": "Da9Ql6-hM6Oc"
      },
      "source": [
        "text = \"The Mona Lisa is a 16th centry oil painting created by Leonrdo. It's held at the Louvre in Paris.\"\n",
        "\n",
        "result2 = pretrained_pipeline2.annotate(text)\n",
        "\n",
        "result2\n",
        "list(zip(result2['token'],  result2['checked'], result2['pos'], result2['ner'],  result2['lemma'],  result2['stem']))"
      ],
      "execution_count": null,
      "outputs": []
    },
    {
      "cell_type": "code",
      "metadata": {
        "id": "UotW3Nr_M6Od"
      },
      "source": [
        "xx= pretrained_pipeline2.fullAnnotate(text)\n",
        "\n",
        "[(n.result, n.metadata['entity']) for n in xx['ner_span']]"
      ],
      "execution_count": null,
      "outputs": []
    },
    {
      "cell_type": "markdown",
      "metadata": {
        "id": "WbY3ZstAM6OV"
      },
      "source": [
        "### with Glove Embeddings"
      ]
    },
    {
      "cell_type": "code",
      "metadata": {
        "id": "40YZFzD6M6OW"
      },
      "source": [
        "glove = WordEmbeddingsModel().pretrained() \\\n",
        " .setInputCols([\"sentence\",'token'])\\\n",
        " .setOutputCol(\"glove\")\\\n",
        " .setCaseSensitive(False)\n",
        "\n",
        "test_data = CoNLL().readDataset(spark, './eng.testa')\n",
        "\n",
        "test_data = glove.transform(test_data.limit(1000))\n",
        "\n",
        "test_data.write.parquet(\"test_withGloveEmbeds.parquet\")\n"
      ],
      "execution_count": null,
      "outputs": []
    },
    {
      "cell_type": "code",
      "metadata": {
        "id": "ygjYFiZMM6OW"
      },
      "source": [
        "nerTagger.setInputCols([\"sentence\", \"token\", \"glove\"])\n",
        "nerTagger.setTestDataset(\"test_withGloveEmbeds.parquet\")\n",
        "\n",
        "glove_pipeline = Pipeline(\n",
        "    stages = [\n",
        "    glove,\n",
        "    nerTagger\n",
        "  ])"
      ],
      "execution_count": null,
      "outputs": []
    },
    {
      "cell_type": "code",
      "metadata": {
        "id": "JJLeqlq3M6OW"
      },
      "source": [
        "%%time\n",
        "\n",
        "ner_model_v3 = glove_pipeline.fit(training_data.limit(1000))"
      ],
      "execution_count": null,
      "outputs": []
    },
    {
      "cell_type": "code",
      "metadata": {
        "id": "ix0O0YPwM6OX"
      },
      "source": [
        "predictions_v3 = ner_model_v3.transform(test_data.limit(10))\n",
        "\n",
        "# test_data.sample(False,0.1,0)\n",
        "\n",
        "predictions_v3.select(F.explode(F.arrays_zip('token.result','label.result','ner.result')).alias(\"cols\")) \\\n",
        ".select(F.expr(\"cols['0']\").alias(\"token\"),\n",
        "        F.expr(\"cols['1']\").alias(\"ground_truth\"),\n",
        "        F.expr(\"cols['2']\").alias(\"prediction\")).show(truncate=False)"
      ],
      "execution_count": null,
      "outputs": []
    },
    {
      "cell_type": "code",
      "metadata": {
        "id": "26z4CW7QM6OX"
      },
      "source": [
        "np.array (predictions.select('token.result').take(1))[0][0]"
      ],
      "execution_count": null,
      "outputs": []
    },
    {
      "cell_type": "code",
      "metadata": {
        "id": "yGZjA_pBM6OX"
      },
      "source": [
        "import pandas as pd\n",
        "\n",
        "tokens = np.array (predictions.select('token.result').take(1))[0][0]\n",
        "ground = np.array (predictions.select('label.result').take(1))[0][0]\n",
        "label_bert_0 = np.array (predictions.select('ner.result').take(1))[0][0]\n",
        "label_bert_2 = np.array (predictions_v2.select('ner.result').take(1))[0][0]\n",
        "label_glove = np.array (predictions_v3.select('ner.result').take(1))[0][0]\n",
        "\n",
        "pd.DataFrame({'token':tokens,\n",
        "              'ground':ground,\n",
        "              'label_bert_0':label_bert_0,\n",
        "              'label_bert_2':label_bert_2,\n",
        "              'label_glove':label_glove})"
      ],
      "execution_count": null,
      "outputs": []
    },
    {
      "cell_type": "markdown",
      "metadata": {
        "id": "WwAHj6mPM6Od"
      },
      "source": [
        "## Using your own custom Word Embedding"
      ]
    },
    {
      "cell_type": "code",
      "metadata": {
        "id": "bC8RR7iXM6Od"
      },
      "source": [
        "custom_embeddings = WordEmbeddings()\\\n",
        "  .setInputCols([\"sentence\", \"token\"])\\\n",
        "  .setOutputCol(\"glove\")\\\n",
        "  .setStoragePath('/Users/vkocaman/cache_pretrained/PubMed-shuffle-win-2.bin', \"BINARY\")\\\n",
        ".setDimension(200)"
      ],
      "execution_count": null,
      "outputs": []
    },
    {
      "cell_type": "code",
      "metadata": {
        "id": "rVkJgZnRM6Od",
        "outputId": "51edbce3-679e-4626-95ab-c3070f17e533"
      },
      "source": [
        "custom_embeddings.fit(training_data.limit(10)).transform(training_data.limit(10)).show()"
      ],
      "execution_count": null,
      "outputs": [
        {
          "output_type": "stream",
          "text": [
            "+--------------------+--------------------+--------------------+--------------------+--------------------+--------------------+--------------------+\n",
            "|                text|            document|            sentence|               token|                 pos|               label|               glove|\n",
            "+--------------------+--------------------+--------------------+--------------------+--------------------+--------------------+--------------------+\n",
            "|EU rejects German...|[[document, 0, 47...|[[document, 0, 47...|[[token, 0, 1, EU...|[[pos, 0, 1, NNP,...|[[named_entity, 0...|[[word_embeddings...|\n",
            "|     Peter Blackburn|[[document, 0, 14...|[[document, 0, 14...|[[token, 0, 4, Pe...|[[pos, 0, 4, NNP,...|[[named_entity, 0...|[[word_embeddings...|\n",
            "| BRUSSELS 1996-08-22|[[document, 0, 18...|[[document, 0, 18...|[[token, 0, 7, BR...|[[pos, 0, 7, NNP,...|[[named_entity, 0...|[[word_embeddings...|\n",
            "|The European Comm...|[[document, 0, 18...|[[document, 0, 18...|[[token, 0, 2, Th...|[[pos, 0, 2, DT, ...|[[named_entity, 0...|[[word_embeddings...|\n",
            "|Germany 's repres...|[[document, 0, 21...|[[document, 0, 21...|[[token, 0, 6, Ge...|[[pos, 0, 6, NNP,...|[[named_entity, 0...|[[word_embeddings...|\n",
            "|\" We do n't suppo...|[[document, 0, 16...|[[document, 0, 16...|[[token, 0, 0, \",...|[[pos, 0, 0, \", [...|[[named_entity, 0...|[[word_embeddings...|\n",
            "|He said further s...|[[document, 0, 13...|[[document, 0, 13...|[[token, 0, 1, He...|[[pos, 0, 1, PRP,...|[[named_entity, 0...|[[word_embeddings...|\n",
            "|He said a proposa...|[[document, 0, 22...|[[document, 0, 22...|[[token, 0, 1, He...|[[pos, 0, 1, PRP,...|[[named_entity, 0...|[[word_embeddings...|\n",
            "|Fischler proposed...|[[document, 0, 18...|[[document, 0, 18...|[[token, 0, 7, Fi...|[[pos, 0, 7, JJR,...|[[named_entity, 0...|[[word_embeddings...|\n",
            "|But Fischler agre...|[[document, 0, 21...|[[document, 0, 21...|[[token, 0, 2, Bu...|[[pos, 0, 2, CC, ...|[[named_entity, 0...|[[word_embeddings...|\n",
            "+--------------------+--------------------+--------------------+--------------------+--------------------+--------------------+--------------------+\n",
            "\n"
          ],
          "name": "stdout"
        }
      ]
    },
    {
      "cell_type": "markdown",
      "metadata": {
        "id": "YKp_pARIM6Oe"
      },
      "source": [
        "## creating your own CoNLL dataset"
      ]
    },
    {
      "cell_type": "code",
      "metadata": {
        "id": "kdCxFU2HM6Oe"
      },
      "source": [
        "import json\n",
        "import os\n",
        "from pyspark.ml import Pipeline\n",
        "from sparknlp.base import *\n",
        "from sparknlp.annotator import *\n",
        "import sparknlp\n",
        "\n",
        "spark = sparknlp.start()\n",
        "\n",
        "def get_ann_pipeline ():\n",
        "    \n",
        "    document_assembler = DocumentAssembler() \\\n",
        "        .setInputCol(\"text\")\\\n",
        "        .setOutputCol('document')\n",
        "\n",
        "    sentence = SentenceDetector()\\\n",
        "        .setInputCols(['document'])\\\n",
        "        .setOutputCol('sentence')\\\n",
        "        .setCustomBounds(['\\n'])\n",
        "\n",
        "    tokenizer = Tokenizer() \\\n",
        "        .setInputCols([\"sentence\"]) \\\n",
        "        .setOutputCol(\"token\")\n",
        "\n",
        "    pos = PerceptronModel.pretrained() \\\n",
        "              .setInputCols([\"sentence\", \"token\"]) \\\n",
        "              .setOutputCol(\"pos\")\n",
        "    \n",
        "    embeddings = WordEmbeddingsModel.pretrained()\\\n",
        "          .setInputCols([\"sentence\", \"token\"])\\\n",
        "          .setOutputCol(\"embeddings\")\n",
        "\n",
        "    ner_model = NerDLModel.pretrained() \\\n",
        "          .setInputCols([\"sentence\", \"token\", \"embeddings\"]) \\\n",
        "          .setOutputCol(\"ner\")\n",
        "\n",
        "    ner_converter = NerConverter()\\\n",
        "      .setInputCols([\"sentence\", \"token\", \"ner\"])\\\n",
        "      .setOutputCol(\"ner_chunk\")\n",
        "\n",
        "    ner_pipeline = Pipeline(\n",
        "        stages = [\n",
        "            document_assembler,\n",
        "            sentence,\n",
        "            tokenizer,\n",
        "            pos,\n",
        "            embeddings,\n",
        "            ner_model,\n",
        "            ner_converter\n",
        "        ]\n",
        "    )\n",
        "\n",
        "    empty_data = spark.createDataFrame([[\"\"]]).toDF(\"text\")\n",
        "\n",
        "    ner_pipelineFit = ner_pipeline.fit(empty_data)\n",
        "\n",
        "    ner_lp_pipeline = LightPipeline(ner_pipelineFit)\n",
        "\n",
        "    print (\"Spark NLP NER lightpipeline is created\")\n",
        "\n",
        "    return ner_lp_pipeline\n"
      ],
      "execution_count": null,
      "outputs": []
    },
    {
      "cell_type": "code",
      "metadata": {
        "id": "IMgY0pEhM6Oe",
        "outputId": "680f7dfb-e9ae-43d2-c478-6761d61d7cf6"
      },
      "source": [
        "conll_pipeline = get_ann_pipeline ()"
      ],
      "execution_count": null,
      "outputs": [
        {
          "output_type": "stream",
          "text": [
            "pos_anc download started this may take some time.\n",
            "Approximate size to download 4.3 MB\n",
            "[OK!]\n",
            "glove_100d download started this may take some time.\n",
            "Approximate size to download 145.3 MB\n",
            "[OK!]\n",
            "ner_dl download started this may take some time.\n",
            "Approximate size to download 13.5 MB\n",
            "[OK!]\n",
            "Spark NLP NER lightpipeline is created\n"
          ],
          "name": "stdout"
        }
      ]
    },
    {
      "cell_type": "code",
      "metadata": {
        "id": "4aYv-WM1M6Oe",
        "outputId": "f3fdf133-4750-4a67-b2f4-5540379c4b72"
      },
      "source": [
        "parsed = conll_pipeline.annotate (\"Peter Parker is a nice guy and lives in New York.\")\n",
        "parsed"
      ],
      "execution_count": null,
      "outputs": [
        {
          "output_type": "execute_result",
          "data": {
            "text/plain": [
              "{'document': ['Peter Parker is a nice guy and lives in New York.'],\n",
              " 'ner_chunk': ['Peter Parker', 'New York'],\n",
              " 'pos': ['NNP',\n",
              "  'NNP',\n",
              "  'VBZ',\n",
              "  'DT',\n",
              "  'JJ',\n",
              "  'NN',\n",
              "  'CC',\n",
              "  'NNS',\n",
              "  'IN',\n",
              "  'NNP',\n",
              "  'NNP',\n",
              "  '.'],\n",
              " 'token': ['Peter',\n",
              "  'Parker',\n",
              "  'is',\n",
              "  'a',\n",
              "  'nice',\n",
              "  'guy',\n",
              "  'and',\n",
              "  'lives',\n",
              "  'in',\n",
              "  'New',\n",
              "  'York',\n",
              "  '.'],\n",
              " 'ner': ['I-PER',\n",
              "  'I-PER',\n",
              "  'O',\n",
              "  'O',\n",
              "  'O',\n",
              "  'O',\n",
              "  'O',\n",
              "  'O',\n",
              "  'O',\n",
              "  'I-LOC',\n",
              "  'I-LOC',\n",
              "  'O'],\n",
              " 'embeddings': ['Peter',\n",
              "  'Parker',\n",
              "  'is',\n",
              "  'a',\n",
              "  'nice',\n",
              "  'guy',\n",
              "  'and',\n",
              "  'lives',\n",
              "  'in',\n",
              "  'New',\n",
              "  'York',\n",
              "  '.'],\n",
              " 'sentence': ['Peter Parker is a nice guy and lives in New York.']}"
            ]
          },
          "metadata": {
            "tags": []
          },
          "execution_count": 32
        }
      ]
    },
    {
      "cell_type": "code",
      "metadata": {
        "id": "nNpOPXUSM6Of",
        "outputId": "b24a0cee-31a9-42d3-c8e3-19876d929f9c"
      },
      "source": [
        "conll_lines=''\n",
        "\n",
        "for token, pos, ner in zip(parsed['token'],parsed['pos'],parsed['ner']):\n",
        "\n",
        "    conll_lines += \"{} {} {} {}\\n\".format(token, pos, pos, ner)\n",
        "\n",
        "\n",
        "print(conll_lines)"
      ],
      "execution_count": null,
      "outputs": [
        {
          "output_type": "stream",
          "text": [
            "Peter NNP NNP I-PER\n",
            "Parker NNP NNP I-PER\n",
            "is VBZ VBZ O\n",
            "a DT DT O\n",
            "nice JJ JJ O\n",
            "guy NN NN O\n",
            "and CC CC O\n",
            "lives NNS NNS O\n",
            "in IN IN O\n",
            "New NNP NNP I-LOC\n",
            "York NNP NNP I-LOC\n",
            ". . . O\n",
            "\n"
          ],
          "name": "stdout"
        }
      ]
    },
    {
      "cell_type": "code",
      "metadata": {
        "id": "bfKkZheoM6Of"
      },
      "source": [
        ""
      ],
      "execution_count": null,
      "outputs": []
    }
  ]
}
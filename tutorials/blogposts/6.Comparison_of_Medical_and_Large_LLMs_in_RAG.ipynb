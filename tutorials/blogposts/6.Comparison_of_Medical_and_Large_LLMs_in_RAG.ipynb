{
  "cells": [
    {
      "cell_type": "markdown",
      "metadata": {
        "id": "kGnCx34EFaGd"
      },
      "source": [
        "![JohnSnowLabs](https://nlp.johnsnowlabs.com/assets/images/logo.png)"
      ]
    },
    {
      "cell_type": "markdown",
      "source": [
        "[![Open In Colab](https://colab.research.google.com/assets/colab-badge.svg)](https://github.com/JohnSnowLabs/spark-nlp-workshop/blob/master/tutorials/blogposts/6.Comparison_of_Medical_and_Large_LLMs_in_RAG.ipynb)"
      ],
      "metadata": {
        "id": "qU3ekKSQrSD_"
      }
    },
    {
      "cell_type": "markdown",
      "source": [
        "# Comparison of Medical and Large LLMs in RAG"
      ],
      "metadata": {
        "id": "fOdruEPIonc5"
      }
    },
    {
      "cell_type": "markdown",
      "metadata": {
        "id": "okhT7AcXxben"
      },
      "source": [
        "# Colab Setup"
      ]
    },
    {
      "cell_type": "code",
      "execution_count": null,
      "metadata": {
        "id": "i7BtiyyZR_7n"
      },
      "outputs": [],
      "source": [
        "import json\n",
        "import os\n",
        "from google.colab import files\n",
        "\n",
        "license_keys = files.upload()\n",
        "\n",
        "with open(list(license_keys.keys())[0]) as f:\n",
        "    license_keys = json.load(f)\n",
        "\n",
        "# Defining license key-value pairs as local variables\n",
        "locals().update(license_keys)\n",
        "\n",
        "# Adding license key-value pairs to environment variables\n",
        "os.environ.update(license_keys)"
      ]
    },
    {
      "cell_type": "code",
      "execution_count": null,
      "metadata": {
        "id": "Vx1BN0UCS049"
      },
      "outputs": [],
      "source": [
        "# Installing pyspark and spark-nlp\n",
        "! pip install --upgrade -q pyspark==3.4.1 spark-nlp==$PUBLIC_VERSION\n",
        "\n",
        "# Installing Spark NLP Healthcare\n",
        "! pip install --upgrade -q spark-nlp-jsl==$JSL_VERSION  --extra-index-url https://pypi.johnsnowlabs.com/$SECRET"
      ]
    },
    {
      "cell_type": "code",
      "execution_count": null,
      "metadata": {
        "id": "LV8ZeRpIS08e"
      },
      "outputs": [],
      "source": [
        "import functools\n",
        "import numpy as np\n",
        "import pandas as pd\n",
        "from scipy import spatial\n",
        "\n",
        "import pyspark.sql.types as T\n",
        "from pyspark.ml import Pipeline\n",
        "from pyspark.sql import SparkSession\n",
        "from pyspark.sql import functions as F\n",
        "\n",
        "import sparknlp\n",
        "import sparknlp_jsl\n",
        "from sparknlp.base import *\n",
        "from sparknlp.annotator import *\n",
        "from sparknlp_jsl.annotator import *\n",
        "\n",
        "params = {\"spark.driver.memory\":\"16G\",\n",
        "\"spark.kryoserializer.buffer.max\":\"2000M\",\n",
        "\"spark.driver.maxResultSize\":\"2000M\"}\n",
        "\n",
        "spark = sparknlp_jsl.start(license_keys['SECRET'],params=params)\n",
        "\n",
        "print (\"Spark NLP Version :\", sparknlp.version())\n",
        "print (\"Spark NLP_JSL Version :\", sparknlp_jsl.version())\n",
        "\n",
        "spark"
      ]
    },
    {
      "cell_type": "markdown",
      "metadata": {
        "id": "1q6AcGrfkGcu"
      },
      "source": [
        "## LangChain Embeddings"
      ]
    },
    {
      "cell_type": "code",
      "execution_count": null,
      "metadata": {
        "id": "UZbnlYpTOhWA"
      },
      "outputs": [],
      "source": [
        "!pip install -q --upgrade tiktoken faiss-cpu"
      ]
    },
    {
      "cell_type": "code",
      "execution_count": null,
      "metadata": {
        "id": "NRjMaGWWkGcv"
      },
      "outputs": [],
      "source": [
        "!pip install -Uq langchain-community langchain-openai"
      ]
    },
    {
      "cell_type": "code",
      "execution_count": null,
      "metadata": {
        "id": "Pzb_yW7t1WOD"
      },
      "outputs": [],
      "source": [
        "import os\n",
        "os.environ[\"TOKENIZERS_PARALLELISM\"] = \"false\""
      ]
    },
    {
      "cell_type": "code",
      "execution_count": null,
      "metadata": {
        "id": "CpX8-PlFkGcv"
      },
      "outputs": [],
      "source": [
        "from langchain.embeddings import HuggingFaceEmbeddings\n",
        "\n",
        "# Initialize embeddings using a Hugging Face model\n",
        "model_name = 'hkunlp/instructor-base'  # Example of a Hugging Face model similar to 'instructor_base'\n",
        "\n",
        "# Create an embeddings object\n",
        "embeddings = HuggingFaceEmbeddings(model_name=model_name)"
      ]
    },
    {
      "cell_type": "markdown",
      "metadata": {
        "id": "QyGq6SpxkGcw"
      },
      "source": [
        "## FAISS"
      ]
    },
    {
      "cell_type": "markdown",
      "metadata": {
        "id": "TcZMhiKzUA3K"
      },
      "source": [
        "**Creating Vector DB with PubMed dataset :**\n",
        "\n",
        "First, we download a dataset about diabetes research, loading it into a Spark DataFrame. We split the documents into manageable chunks and convert them into numerical vectors using embeddings. Then, we use FAISS to create a database for similarity search. Finally, the FAISS retriever fetches the top relevant document chunks, ensuring information retrieval."
      ]
    },
    {
      "cell_type": "markdown",
      "metadata": {
        "id": "GSRFycsh7U-0"
      },
      "source": [
        "```python\n",
        "! wget -q https://raw.githubusercontent.com/JohnSnowLabs/spark-nlp-workshop/master/healthcare-nlp/data/pubmed_diabetes_1000_meta.csv\n",
        "\n",
        "df = spark.createDataFrame(pd.read_csv(\"./pubmed_diabetes_1000_meta.csv\", usecols=range(1,6)))\n",
        "df.orderBy(\"pubmed_id\").write.mode(\"overwrite\").parquet('pubmed_diabetes_1000_meta.parquet')\n",
        "\n",
        "from langchain.document_loaders import PySparkDataFrameLoader\n",
        "loader = PySparkDataFrameLoader(spark, df, page_content_column=\"abstract\")\n",
        "documents = loader.load()\n",
        "\n",
        "from johnsnowlabs.llm import embedding_retrieval\n",
        "embeddings =  embedding_retrieval.JohnSnowLabsLangChainEmbedder('en.embed_sentence.instructor_base')\n",
        "\n",
        "from johnsnowlabs.llm import embedding_retrieval\n",
        "jsl_splitter = embedding_retrieval.JohnSnowLabsLangChainCharSplitter(chunk_size=500,\n",
        "                                                                     chunk_overlap=50)\n",
        "texts = jsl_splitter.split_documents(documents)\n",
        "\n",
        "!pip install -q faiss-cpu\n",
        "from langchain.vectorstores import FAISS\n",
        "db = FAISS.from_documents(texts, embeddings)\n",
        "faiss_retriever = db.as_retriever(search_kwargs={\"k\": 5})\n",
        "!zip -r faiss_retriever.zip faiss_retriever\n",
        "\n",
        "```"
      ]
    },
    {
      "cell_type": "markdown",
      "metadata": {
        "id": "yjAa1NDhTBNB"
      },
      "source": [
        "**Load a Preset Database:**\n",
        "\n",
        "You can also utilize a pre-configured vector database.\n",
        "\n"
      ]
    },
    {
      "cell_type": "code",
      "execution_count": null,
      "metadata": {
        "id": "Kql_kCn7kGcw"
      },
      "outputs": [],
      "source": [
        "from langchain.vectorstores import FAISS"
      ]
    },
    {
      "cell_type": "code",
      "execution_count": null,
      "metadata": {
        "id": "awNxY2cNkGcw"
      },
      "outputs": [],
      "source": [
        "!wget -q https://github.com/JohnSnowLabs/spark-nlp-workshop/raw/master/healthcare-nlp/data/faiss_retriever_db_diabetes.vs.zip -O faiss_retriever_db_diabetes.vs.zip"
      ]
    },
    {
      "cell_type": "code",
      "execution_count": null,
      "metadata": {
        "id": "SIIuXn7bkGcx"
      },
      "outputs": [],
      "source": [
        "import zipfile\n",
        "\n",
        "# Path to your zip file\n",
        "zip_path = \"faiss_retriever_db_diabetes.vs.zip\"\n",
        "# Destination folder\n",
        "extract_path = \".\"\n",
        "\n",
        "with zipfile.ZipFile(zip_path, 'r') as zip_ref:\n",
        "    zip_ref.extractall(extract_path)"
      ]
    },
    {
      "cell_type": "code",
      "execution_count": null,
      "metadata": {
        "id": "BW3QH-cIi_c4"
      },
      "outputs": [],
      "source": [
        "# Load your FAISS index\n",
        "db = FAISS.load_local(\"faiss_retriever_db_diabetes.vs\", embeddings, allow_dangerous_deserialization=True)"
      ]
    },
    {
      "cell_type": "markdown",
      "metadata": {
        "id": "05SEL92B83fj"
      },
      "source": [
        "## Utilities"
      ]
    },
    {
      "cell_type": "code",
      "execution_count": null,
      "metadata": {
        "id": "GpcfkUs-vM9O"
      },
      "outputs": [],
      "source": [
        "SYSTEM_PROMPT = \"\"\"Use the following pieces of context to answer the question. Do not explain detail.\n",
        "If you don't know the answer, just say that you don't know, don't try to make up an answer.\"\"\""
      ]
    },
    {
      "cell_type": "markdown",
      "source": [
        "Here is the list of questions pertaining to the diabetes dataset for generating prompt."
      ],
      "metadata": {
        "id": "0iMqQ6vJqmB4"
      }
    },
    {
      "cell_type": "code",
      "execution_count": null,
      "metadata": {
        "id": "pGyb1vRekGcx"
      },
      "outputs": [],
      "source": [
        "q_list = [\n",
        "    \"What are the recommended measures to reduce the risk of GDM in pregnant women?\",\n",
        "    \"What are the main symptoms of diabetes?\",\n",
        "    \"What dietary changes can help manage diabetes?\",\n",
        "    \"What are the clinical symptoms associated with Wolfram syndrome?\",\n",
        "    \"What are some low-cost ways to screen individuals for prediabetes?\",\n",
        "    \"What are the most common malignancies associated with pituitary spread?\",\n",
        "    \"What is the recommended total daily dose of hydrocortisone for adults with adrenal insufficiency?\"\n",
        "]"
      ]
    },
    {
      "cell_type": "markdown",
      "source": [
        "`process_question` function retrieves relevant top documents from FAISS database based on queries. The function constructs a prompt that combines the context from the retrieved documents with the question."
      ],
      "metadata": {
        "id": "eiLusslQphjW"
      }
    },
    {
      "cell_type": "code",
      "execution_count": null,
      "metadata": {
        "id": "tP4C6qErkGc1"
      },
      "outputs": [],
      "source": [
        "def process_question(question, db, top_k=5):\n",
        "    # Create a retriever from the FAISS database (db)\n",
        "    faiss_retriever = db.as_retriever(search_kwargs={\"k\": top_k})\n",
        "\n",
        "    # Retrieve relevant documents for the current question\n",
        "    results = faiss_retriever.get_relevant_documents(question)\n",
        "\n",
        "    # Initialize merged_content for this question\n",
        "    merged_content = \"\"\n",
        "\n",
        "    # Loop through the results to accumulate page contents\n",
        "    for result in results:\n",
        "        # Extract the page content and append it to merged_content\n",
        "        page_content = result.page_content\n",
        "        merged_content += f\"{page_content}\\n\"\n",
        "\n",
        "    # Add the question at the end\n",
        "    RAG_PROMPT = f\"### Context: \\n{merged_content}\\n### Questions:\\n{question}\\n\"\n",
        "\n",
        "    return RAG_PROMPT"
      ]
    },
    {
      "cell_type": "markdown",
      "metadata": {
        "id": "iel7cvOYKZHf"
      },
      "source": [
        "# Medical LLMs"
      ]
    },
    {
      "cell_type": "markdown",
      "metadata": {
        "id": "zNEareAzLXPy"
      },
      "source": [
        "| Model Name              | Description |\n",
        "|-------------------------|-------------|\n",
        "|[jsl_meds_ner_q16_v2](https://nlp.johnsnowlabs.com/2024/08/21/jsl_meds_ner_q16_v2_en.html)    | Extract and link medical named entities |\n",
        "|[jsl_meds_ner_q8_v2](https://nlp.johnsnowlabs.com/2024/08/21/jsl_meds_ner_q8_v2_en.html)      | Extract and link medical named entities |\n",
        "|[jsl_meds_ner_q4_v2](https://nlp.johnsnowlabs.com/2024/08/21/jsl_meds_ner_q4_v2_en.html)      | Extract and link medical named entities |\n",
        "|[jsl_medsner_zs_q16_v1](https://nlp.johnsnowlabs.com/2024/07/12/jsl_medsner_zs_q16_v1_en.html)| Extract and link medical named entities |\n",
        "|[jsl_medsner_zs_q8_v1](https://nlp.johnsnowlabs.com/2024/07/12/jsl_medsner_zs_q8_v1_en.html)  | Extract and link medical named entities |\n",
        "|[jsl_medsner_zs_q4_v1](https://nlp.johnsnowlabs.com/2024/07/12/jsl_medsner_zs_q4_v1_en.html)  | Extract and link medical named entities |\n",
        "|[jsl_meds_q16_v3](https://nlp.johnsnowlabs.com/2024/09/19/jsl_meds_q16_v3_en.html)            | Summarization, Q&A, RAG |\n",
        "|[jsl_meds_q8_v3](https://nlp.johnsnowlabs.com/2024/09/19/jsl_meds_q8_v3_en.html)              | Summarization, Q&A, RAG |\n",
        "|[jsl_meds_q4_v3](https://nlp.johnsnowlabs.com/2024/09/19/jsl_meds_q4_v3_en.html)              | Summarization, Q&A, RAG |\n",
        "|[jsl_meds_q16_v2](https://nlp.johnsnowlabs.com/2024/09/19/jsl_meds_q16_v2_en.html)            | Summarization, Q&A, RAG |\n",
        "|[jsl_meds_q8_v2](https://nlp.johnsnowlabs.com/2024/09/19/jsl_meds_q8_v2_en.html)              | Summarization, Q&A, RAG |\n",
        "|[jsl_meds_q4_v2](https://nlp.johnsnowlabs.com/2024/09/19/jsl_meds_q4_v2_en.html)              | Summarization, Q&A, RAG |\n",
        "|[jsl_meds_q16_v1](https://nlp.johnsnowlabs.com/2024/07/12/jsl_meds_q16_v1_en.html)            | Summarization, Q&A, RAG |\n",
        "|[jsl_meds_q8_v1](https://nlp.johnsnowlabs.com/2024/07/12/jsl_meds_q8_v1_en.html)              | Summarization, Q&A, RAG|\n",
        "|[jsl_meds_q4_v1](https://nlp.johnsnowlabs.com/2024/07/12/jsl_meds_q4_v1_en.html)              | Summarization, Q&A, RAG |\n",
        "|[jsl_medm_q16_v1](https://nlp.johnsnowlabs.com/2024/07/12/jsl_medm_q16_v1_en.html)            | Summarization, Q&A, RAG, and Chat |\n",
        "|[jsl_medm_q8_v1](https://nlp.johnsnowlabs.com/2024/07/12/jsl_medm_q8_v1_en.html)              | Summarization, Q&A, RAG, and Chat |\n",
        "|[jsl_medm_q4_v1](https://nlp.johnsnowlabs.com/2024/07/12/jsl_medm_q4_v1_en.html)              | Summarization, Q&A, RAG, and Chat |\n",
        "|[jsl_meds_rag_q4_v1](https://nlp.johnsnowlabs.com/2024/08/21/jsl_meds_rag_q4_v1_en.html)     | LLM component of Retrieval Augmented Generation (RAG) |\n",
        "|[jsl_meds_rag_q8_v1](https://nlp.johnsnowlabs.com/2024/08/21/jsl_meds_rag_q8_v1_en.html)      | LLM component of Retrieval Augmented Generation (RAG) |\n",
        "|[jsl_meds_rag_q16_v1](https://nlp.johnsnowlabs.com/2024/08/21/jsl_meds_rag_q16_v1_en.html)     | LLM component of Retrieval Augmented Generation (RAG) |\n",
        "\n",
        "**We recommend using 8b quantized versions of the models as the qualitative performance difference between q16 and q8 versions is very negligible.**"
      ]
    },
    {
      "cell_type": "markdown",
      "metadata": {
        "id": "rCp40QWDmnVX"
      },
      "source": [
        "# LLMLoader"
      ]
    },
    {
      "cell_type": "markdown",
      "metadata": {
        "id": "7QQjdzGor9Fb"
      },
      "source": [
        "`LLMLoader` is designed to interact with a LLMs that are converted into gguf format. This module allows using John Snow Labs' licensed LLMs at various sizes that are finetuned on medical context for certain tasks. It provides various methods for setting parameters, loading models, generating text, and retrieving metadata. The `LLMLoader` includes methods for setting various parameters such as input prefix, suffix, cache prompt, number of tokens to predict, sampling techniques, temperature, penalties, and more. Overall, the `LLMLoader`  provides a flexible and extensible framework for interacting with language models in a Python and Scala environment using PySpark and Java.\n",
        "\n",
        "The `LLMLoader`, now based on the llama cpp dependency, allows loading models (either `AutoGGUFModel` or `MedicalLLM`) via pretrained and load methods. It can also load any other gguf model outside of the Models Hub. It automatically detects whether a model is licensed and can also load GGUF files directly using the `loadGGUF` method. This streamlines model loading and usage without requiring the inclusion of the llama cpp dependency."
      ]
    },
    {
      "cell_type": "markdown",
      "metadata": {
        "id": "FguqjkL5wFYh"
      },
      "source": [
        "# Load LLMs"
      ]
    },
    {
      "cell_type": "markdown",
      "source": [
        "Due to the high memory requirements of LLM models, it's advisable to use each model individually and restart your system before trying other models."
      ],
      "metadata": {
        "id": "EJaq0Z8eWRru"
      }
    },
    {
      "cell_type": "markdown",
      "metadata": {
        "id": "FhGjbfbXSlC_"
      },
      "source": [
        "## JSL_MedS_Rag\n",
        "\n",
        "This LLM model is trained to perform Q&A, Summarization, RAG, and Chat."
      ]
    },
    {
      "cell_type": "code",
      "execution_count": null,
      "metadata": {
        "id": "Bzbsv7oNqdya"
      },
      "outputs": [],
      "source": [
        "from sparknlp_jsl.llm import LLMLoader\n",
        "\n",
        "jsl_meds_rag_llm = LLMLoader(spark).pretrained(\"jsl_meds_rag_q8_v1\", \"en\", \"clinical/models\")"
      ]
    },
    {
      "cell_type": "markdown",
      "metadata": {
        "id": "E1pk6PsjqfxL"
      },
      "source": [
        "## JSL_MedS\n",
        "\n",
        "\n",
        "This LLM model is trained to perform Summarization and Q&A based on a given context."
      ]
    },
    {
      "cell_type": "code",
      "execution_count": null,
      "metadata": {
        "id": "qsn5udAdMZHp"
      },
      "outputs": [],
      "source": [
        "from sparknlp_jsl.llm import LLMLoader\n",
        "\n",
        "jsl_meds_llm = LLMLoader(spark).pretrained(\"jsl_meds_q8_v3\", \"en\", \"clinical/models\")"
      ]
    },
    {
      "cell_type": "markdown",
      "metadata": {
        "id": "JvfoVr3yqmfE"
      },
      "source": [
        "## JSL_MedM\n",
        "\n",
        "\n",
        "This LLM model is trained to perform Q&A, Summarization, RAG, and Chat."
      ]
    },
    {
      "cell_type": "code",
      "execution_count": null,
      "metadata": {
        "id": "oQKW0yZkWEwx"
      },
      "outputs": [],
      "source": [
        "from sparknlp_jsl.llm import LLMLoader\n",
        "\n",
        "jsl_medm_llm = LLMLoader(spark).pretrained(\"jsl_medm_q8_v2\", \"en\", \"clinical/models\")"
      ]
    },
    {
      "cell_type": "markdown",
      "metadata": {
        "id": "RoX6KS2kd2eY"
      },
      "source": [
        "## JSL-MedM-Rag\n",
        "\n",
        "This LLM model is trained to perform Q&A, Summarization, RAG, and Chat\n"
      ]
    },
    {
      "cell_type": "code",
      "source": [
        "from sparknlp_jsl.llm import LLMLoader\n",
        "\n",
        "jsl_medm_rag_llm = LLMLoader(spark).pretrained(\"jsl_medm_rag_q8_v1\", \"en\", \"clinical/models\")"
      ],
      "metadata": {
        "id": "nTBxUqw296lw"
      },
      "execution_count": null,
      "outputs": []
    },
    {
      "cell_type": "markdown",
      "metadata": {
        "id": "9CztKHcmkGc6"
      },
      "source": [
        "## GPT-4"
      ]
    },
    {
      "cell_type": "markdown",
      "source": [
        "`gpt-4o` is a state-of-the-art variant of OpenAI's GPT-4 model."
      ],
      "metadata": {
        "id": "8KgiXswFurDf"
      }
    },
    {
      "cell_type": "code",
      "execution_count": null,
      "metadata": {
        "id": "q64lXluBNbnb"
      },
      "outputs": [],
      "source": [
        "from openai import OpenAI"
      ]
    },
    {
      "cell_type": "code",
      "source": [
        "from getpass import getpass\n",
        "OPENAI_API_KEY = getpass('Please enter your open_api_key:')"
      ],
      "metadata": {
        "id": "1-1L_TsyStvL"
      },
      "execution_count": null,
      "outputs": []
    },
    {
      "cell_type": "code",
      "execution_count": null,
      "metadata": {
        "id": "YckiSx5TwEW5"
      },
      "outputs": [],
      "source": [
        "client = OpenAI(api_key=OPENAI_API_KEY)"
      ]
    },
    {
      "cell_type": "code",
      "execution_count": null,
      "metadata": {
        "id": "MwFU3EQtuuGE"
      },
      "outputs": [],
      "source": [
        "def generate_response(RAG_PROMPT, gpt_model_name = \"gpt-4o\", temperature=0.1):\n",
        "  response = client.chat.completions.create(\n",
        "                  model=gpt_model_name,\n",
        "                  temperature=temperature,\n",
        "                  messages=[\n",
        "                    {\"role\": \"system\", \"content\": SYSTEM_PROMPT},\n",
        "                    {\"role\": \"user\", \"content\": RAG_PROMPT},\n",
        "                  ]\n",
        "                )\n",
        "  return response"
      ]
    },
    {
      "cell_type": "markdown",
      "metadata": {
        "id": "SC61-FkeVUts"
      },
      "source": [
        "## LongCite"
      ]
    },
    {
      "cell_type": "markdown",
      "source": [
        "`THUDM/LongCite-llama3.1-8b` is a large language model (LLM) developed by Tsinghua University, specifically designed to address long-context question-answering (QA)."
      ],
      "metadata": {
        "id": "glUBwb3duFBF"
      }
    },
    {
      "cell_type": "code",
      "execution_count": null,
      "metadata": {
        "id": "dYzM0qPNWMRt"
      },
      "outputs": [],
      "source": [
        "!pip install -q -U transformers optimum\n",
        "!pip install tiktoken"
      ]
    },
    {
      "cell_type": "code",
      "execution_count": null,
      "metadata": {
        "id": "nV6xWcIoVU5L"
      },
      "outputs": [],
      "source": [
        "import tiktoken\n",
        "import torch\n",
        "from transformers import AutoTokenizer, AutoModelForCausalLM\n",
        "\n",
        "tokenizer = AutoTokenizer.from_pretrained('THUDM/LongCite-llama3.1-8b', trust_remote_code=True)"
      ]
    },
    {
      "cell_type": "code",
      "execution_count": null,
      "metadata": {
        "id": "HjAQULIY-UIe"
      },
      "outputs": [],
      "source": [
        "model = AutoModelForCausalLM.from_pretrained('THUDM/LongCite-llama3.1-8b', torch_dtype=torch.bfloat16, trust_remote_code=True, device_map='auto')\n"
      ]
    },
    {
      "cell_type": "markdown",
      "metadata": {
        "id": "2ftWjUan5WNQ"
      },
      "source": [
        "# Questions and Responses"
      ]
    },
    {
      "cell_type": "markdown",
      "source": [
        "After loading each LLM model individually, you can get responses for each question. Make sure to retrieve the RAG prompt each time.\n",
        "\n",
        "Below are responses generated by LLMs to questions related to a diabetes dataset, along with the RAG outputs."
      ],
      "metadata": {
        "id": "RgB38wrnWn8B"
      }
    },
    {
      "cell_type": "markdown",
      "metadata": {
        "id": "PDa4-kYNqkGV"
      },
      "source": [
        "## Q1"
      ]
    },
    {
      "cell_type": "code",
      "execution_count": null,
      "metadata": {
        "id": "8a70ZvhwrX56"
      },
      "outputs": [],
      "source": [
        "question = \"What are the recommended measures to reduce the risk of GDM in pregnant women?\"\n",
        "RAG_PROMPT = process_question(question, db, top_k=5)"
      ]
    },
    {
      "cell_type": "code",
      "source": [
        "print(RAG_PROMPT)"
      ],
      "metadata": {
        "colab": {
          "base_uri": "https://localhost:8080/"
        },
        "id": "Tj-lCdlNdEmf",
        "outputId": "9674cba5-e296-43fd-fcca-61ed29ebf183"
      },
      "execution_count": null,
      "outputs": [
        {
          "output_type": "stream",
          "name": "stdout",
          "text": [
            "### Context: \n",
            "of metabolic disease. One of the strongest risk factors for GDM is the occurrence of GDM in a prior pregnancy. Preliminary data from epidemiologic and bariatric surgery studies suggest that reducing body weight before pregnancy can prevent the development of GDM, but no adequately powered trial has tested the effects of a maternal lifestyle intervention before pregnancy to reduce body weight and prevent GDM recurrence.\n",
            "outcomes and prevent GDM and associated health risks.\n",
            "Implementation of dietary and lifestyle interventions prior to and early in pregnancy in high risk women has been shown to reduce the risk of gestational diabetes mellitus (GDM) development later in pregnancy. Although numerous risk factors for GDM have been identified, the ability to accurately identify women before or early in pregnancy who could benefit most from these interventions remains limited. As nulliparous women are an under-screened population with risk profiles that differ from\n",
            "prenatal visit (P < 0.01) were identified as risk factors for GDM. In women with birth weight <3000 g, GDM rate was significantly higher.\n",
            "One out of every five pregnant women in Beijing either had GDM or DIP and this constitutes a huge health burden for health services. Prepregnancy BMI and weight gain before 24th week are important modifiable risk factors for GDM. Ensuring birth weight above 3000 g may help reduce risk for future GDM among female offsprings.\n",
            "\n",
            "### Questions:\n",
            "What are the recommended measures to reduce the risk of GDM in pregnant women?\n",
            "\n"
          ]
        }
      ]
    },
    {
      "cell_type": "markdown",
      "metadata": {
        "id": "WetIqTHvqlwm"
      },
      "source": [
        "### JSL_MedS_Rag"
      ]
    },
    {
      "cell_type": "code",
      "execution_count": null,
      "metadata": {
        "colab": {
          "base_uri": "https://localhost:8080/",
          "height": 140
        },
        "id": "npj2_eDIOGfH",
        "outputId": "75499baa-f6e2-48f5-8a14-1b26c738c3cf"
      },
      "outputs": [
        {
          "data": {
            "application/vnd.google.colaboratory.intrinsic+json": {
              "type": "string"
            },
            "text/plain": [
              "'To reduce the risk of gestational diabetes mellitus (GDM) in pregnant women, the following measures are recommended:\\n\\n1. Prepregnancy weight management: Women with a high prepregnancy body mass index (BMI) and excessive weight gain before the 24th week of pregnancy should aim to reduce their weight and maintain a healthy BMI. This can be achieved through a balanced diet and regular physical activity.\\n\\n2. Prepregnancy lifestyle interventions: Women at high risk of GDM should consider implementing dietary and lifestyle interventions before and early in pregnancy. These interventions may include a healthy diet, regular exercise, and stress management techniques.\\n\\n3. Screening for GDM: Women with risk factors such as a history of GDM, obesity, or a large baby should be screened for GDM early in pregnancy. This can help identify women who may benefit from lifestyle interventions and allow for early management of the condition.\\n\\n4. Monitoring and managing blood glucose levels: Women with GDM should monitor their blood glucose levels regularly and follow a treatment plan prescribed by their healthcare provider. This may include dietary changes, exercise, and medication.\\n\\n5. Regular prenatal care: Regular prenatal visits can help healthcare providers monitor the health of both the mother and the baby, and identify any potential complications early on.\\n\\n6. Education and support: Women should be educated about the risks of GDM and the importance of maintaining a healthy lifestyle during pregnancy. Support from family, friends, and healthcare providers can also help women make healthy choices and manage their condition effectively.\\n\\nBy following these measures, women can reduce their risk of developing GDM and improve the health outcomes for themselves and their babies.'"
            ]
          },
          "execution_count": 15,
          "metadata": {},
          "output_type": "execute_result"
        }
      ],
      "source": [
        "response = jsl_meds_rag_llm.generate(RAG_PROMPT)\n",
        "response"
      ]
    },
    {
      "cell_type": "markdown",
      "metadata": {
        "id": "CuZTEN6bqpaO"
      },
      "source": [
        "### JSL_MedS"
      ]
    },
    {
      "cell_type": "code",
      "execution_count": null,
      "metadata": {
        "colab": {
          "base_uri": "https://localhost:8080/"
        },
        "id": "M_W7IiJABtgF",
        "outputId": "d169b719-a5c4-4332-a913-dcdfe230e7e6"
      },
      "outputs": [
        {
          "name": "stdout",
          "output_type": "stream",
          "text": [
            "The recommended measures to reduce the risk of gestational diabetes mellitus (GDM) in pregnant women include:\n",
            "1. Implementing dietary and lifestyle interventions prior to and early in pregnancy, especially in high-risk women.\n",
            "2. Reducing body weight before pregnancy, as preliminary data suggest that this can prevent the development of GDM.\n",
            "3. Identifying risk factors for GDM, such as a history of GDM in a prior pregnancy, low birth weight (<3000 g), and prepregnancy BMI and weight gain before the 24th week.\n",
            "4. Ensuring birth weight above 3000 g to help reduce the risk for future GDM among female offspring.\n",
            "5. Screening and monitoring high-risk women, including those with a history of GDM, low birth weight, and prepregnancy BMI and weight gain before the 24th week.\n",
            "6. Providing appropriate medical care and interventions to manage and prevent GDM in pregnant women.\n"
          ]
        }
      ],
      "source": [
        "response = jsl_meds_llm.generate(RAG_PROMPT)\n",
        "response"
      ]
    },
    {
      "cell_type": "markdown",
      "metadata": {
        "id": "9PzAudRpqrQK"
      },
      "source": [
        "### JSL_MedM"
      ]
    },
    {
      "cell_type": "code",
      "execution_count": null,
      "metadata": {
        "colab": {
          "base_uri": "https://localhost:8080/",
          "height": 140
        },
        "id": "aq02LpAnryBl",
        "outputId": "58ae2bbd-16f0-45dd-b1bb-80b9ea2969d1"
      },
      "outputs": [
        {
          "data": {
            "application/vnd.google.colaboratory.intrinsic+json": {
              "type": "string"
            },
            "text/plain": [
              "'The recommended measures to reduce the risk of gestational diabetes mellitus (GDM) in pregnant women include:\\n\\n1. Reducing body weight before pregnancy: Preliminary data from epidemiologic and bariatric surgery studies suggest that reducing body weight before pregnancy can prevent the development of GDM.\\n2. Implementation of dietary and lifestyle interventions: Implementation of dietary and lifestyle interventions prior to and early in pregnancy in high-risk women has been shown to reduce the risk of GDM development later in pregnancy.\\n3. Ensuring birth weight above 3000 g: Ensuring birth weight above 3000 g may help reduce the risk for future GDM among female offspring.\\n4. Modifying prepregnancy BMI and weight gain before 24th week: Prepregnancy BMI and weight gain before 24th week are important modifiable risk factors for GDM.\\n\\nThese measures can help reduce the risk of GDM and associated health risks in pregnant women.'"
            ]
          },
          "execution_count": 15,
          "metadata": {},
          "output_type": "execute_result"
        }
      ],
      "source": [
        "response = jsl_medm_llm.generate(RAG_PROMPT)\n",
        "response"
      ]
    },
    {
      "cell_type": "markdown",
      "metadata": {
        "id": "G5hEjo7HOL-2"
      },
      "source": [
        "### JSL-MedM_Rag"
      ]
    },
    {
      "cell_type": "code",
      "source": [
        "response = jsl_medm_rag_llm.generate(RAG_PROMPT)\n",
        "response"
      ],
      "metadata": {
        "colab": {
          "base_uri": "https://localhost:8080/"
        },
        "id": "MiqrAK67-h5l",
        "outputId": "e608df85-b2f3-46ce-cf8d-20296242d56b"
      },
      "execution_count": null,
      "outputs": [
        {
          "output_type": "stream",
          "name": "stdout",
          "text": [
            "Based on the context, the recommended measures to reduce the risk of gestational diabetes mellitus (GDM) in pregnant women include:\n",
            "\n",
            "- Implementing dietary and lifestyle interventions before and early in pregnancy in high risk women. This includes reducing body weight before pregnancy to prevent GDM recurrence.\n",
            "\n",
            "- Identifying women early in pregnancy who could benefit most from these interventions. Nulliparous women are an under-screened population with risk profiles that differ from multiparous women.\n",
            "\n",
            "- Ensuring birth weight above 3000 g to reduce risk for future GDM among female offspring.\n",
            "\n",
            "- Screening for GDM risk factors like prepregnancy BMI and weight gain before 24 weeks.\n",
            "\n",
            "- Providing dietary and lifestyle interventions to reduce risk of GDM.\n",
            "\n",
            "So in summary, early identification, weight reduction, dietary and lifestyle changes are key measures recommended to reduce risk of GDM in pregnant women. Ensuring birth weight above 3000 g may also reduce risk for future GDM.\n"
          ]
        }
      ]
    },
    {
      "cell_type": "markdown",
      "metadata": {
        "id": "20GiLUNVqs2Y"
      },
      "source": [
        "### GPT-4"
      ]
    },
    {
      "cell_type": "code",
      "execution_count": null,
      "metadata": {
        "id": "n_0TNzpbqikC"
      },
      "outputs": [],
      "source": [
        "# Generate the response using the model\n",
        "response = generate_response(RAG_PROMPT)"
      ]
    },
    {
      "cell_type": "code",
      "execution_count": null,
      "metadata": {
        "colab": {
          "base_uri": "https://localhost:8080/"
        },
        "id": "ARD-9eb4wJcs",
        "outputId": "ae2b4c4b-a1c7-4137-d287-861642aec92d"
      },
      "outputs": [
        {
          "output_type": "stream",
          "name": "stdout",
          "text": [
            "The recommended measures to reduce the risk of GDM in pregnant women include implementing dietary and lifestyle interventions prior to and early in pregnancy, reducing body weight before pregnancy, and managing prepregnancy BMI and weight gain before the 24th week of pregnancy.\n"
          ]
        }
      ],
      "source": [
        "response_content = response.choices[0].message.content\n",
        "\n",
        "print(response_content)"
      ]
    },
    {
      "cell_type": "markdown",
      "metadata": {
        "id": "8ZW9S3mNASey"
      },
      "source": [
        "### LongCite"
      ]
    },
    {
      "cell_type": "code",
      "execution_count": null,
      "metadata": {
        "id": "l-jipIT0WRP3"
      },
      "outputs": [],
      "source": [
        "context = RAG_PROMPT\n",
        "query = \"What are the recommended measures to reduce the risk of GDM in pregnant women?\"\n",
        "result = model.query_longcite(context, query, tokenizer=tokenizer, max_input_length=128000, max_new_tokens=512)"
      ]
    },
    {
      "cell_type": "code",
      "source": [
        "answer = result['answer']\n",
        "cleaned_answer = answer.replace(\"<statement>\", \"\").replace(\"</statement>\", \"\")\n",
        "print(cleaned_answer)"
      ],
      "metadata": {
        "colab": {
          "base_uri": "https://localhost:8080/"
        },
        "id": "ETp-b51vd_ZL",
        "outputId": "239f2717-afcc-44c6-d17d-6e1d0046e885"
      },
      "execution_count": null,
      "outputs": [
        {
          "output_type": "stream",
          "name": "stdout",
          "text": [
            "Based on the context, some recommended measures to reduce the risk of GDM in pregnant women include:<cite></cite>\n",
            "\n",
            "- Implementing dietary and lifestyle interventions prior to and early in pregnancy in high risk women to reduce risk of GDM later in pregnancy. This includes interventions to reduce body weight before pregnancy.<cite>[2-2][4-4][9-9]</cite>\n",
            "\n",
            "- Identifying and targeting women who are at high risk for GDM before or early in pregnancy. Nulliparous women are an under-screened population with risk profiles that differ from those of multiparous women.<cite>[5-6]</cite>\n",
            "\n",
            "- Ensuring birth weight above 3000 g may help reduce risk for future GDM among female offspring.<cite>[10-10]</cite>\n",
            "\n",
            "- Managing prepregnancy BMI and weight gain before 24th week are important modifiable risk factors for GDM.<cite>[9-9]</cite>\n",
            "\n",
            "- Screening for GDM and DIP in pregnant women to identify and manage these conditions early.<cite></cite>\n",
            "\n",
            "- Providing education and support to pregnant women to make lifestyle changes that reduce risk of GDM.<cite></cite>\n",
            "\n",
            "- Considering medications or interventions to manage obesity and metabolic risk factors before pregnancy.<cite></cite>\n",
            "\n",
            "The key is identifying high risk women early and implementing lifestyle and dietary changes, along with weight management and screening, to prevent GDM and associated health risks.<cite></cite>\n"
          ]
        }
      ]
    },
    {
      "cell_type": "markdown",
      "metadata": {
        "id": "6Bb8R13ZE0jl"
      },
      "source": [
        "## Q2"
      ]
    },
    {
      "cell_type": "code",
      "execution_count": null,
      "metadata": {
        "id": "D032M4LNE0jl"
      },
      "outputs": [],
      "source": [
        "question = \"What are the main symptoms of diabetes?\"\n",
        "RAG_PROMPT = process_question(question, db, top_k=5)"
      ]
    },
    {
      "cell_type": "code",
      "source": [
        "print(RAG_PROMPT)"
      ],
      "metadata": {
        "colab": {
          "base_uri": "https://localhost:8080/"
        },
        "id": "8_f6EVFPeIf0",
        "outputId": "e08d436d-da3e-4e80-efda-e7a6a9390f6c"
      },
      "execution_count": null,
      "outputs": [
        {
          "output_type": "stream",
          "name": "stdout",
          "text": [
            "### Context: \n",
            "replacement therapy, the symptoms of diabetes insipidus appeared.\n",
            "Almost all (99%) of the students had knowledge about diabetes mellitus. The majority (83.1%) reported that diabetes mellitus is not completely a genetic/hereditary disease. Only a minority of respondents reported that they should worry about diabetes before 45 years of age. Common symptoms of diabetes reported by the respondents included constant hunger, blurred vision, fatigue, and frequent urination.\n",
            "Patient: Male, 2-year-old \n",
            " Final Diagnosis: Adipsic diabetes insipidus \n",
            " Symptoms: Dehydration • polyuria \n",
            " Medication: Desmopressin \n",
            " Clinical Procedure: Fluid replacement \n",
            " Specialty: Pediatrics and Neonatology • Endocrine and Metabolic \n",
            " Rare coexistence of disease or pathology\n",
            "symptoms. She did report feeling hungry. She had no family history of diabetes, normal body mass index of 21.7, and reported taking her thyroid replacement medication every day. The differential diagnosis for her thirst included dehydration, psychogenic polydipsia, diabetes mellitus, diabetes insipidus, and anxiety. The patient had normal vital signs and was well appearing; labs were ordered for her on her way home from clinic with no medications. Labs revealed a random blood glucose level of\n",
            "Primary care clinicians will see a higher incidence of type 2 diabetes in adult patients, and the diagnosis and management of an initial presentation of type 1 diabetes can pose challenges to clinicians who see it less frequently. Symptoms of hyperglycemia and risk of ketoacidosis may be missed. Further, endocrine autoimmune disease can run together in patients and families.\n",
            "\n",
            "### Questions:\n",
            "What are the main symptoms of diabetes?\n",
            "\n"
          ]
        }
      ]
    },
    {
      "cell_type": "markdown",
      "metadata": {
        "id": "CMQ1z3w0E0jm"
      },
      "source": [
        "### JSL_MedS_Rag"
      ]
    },
    {
      "cell_type": "code",
      "execution_count": null,
      "metadata": {
        "colab": {
          "base_uri": "https://localhost:8080/",
          "height": 36
        },
        "id": "pAMGEQY_UVx3",
        "outputId": "5a8fd15a-d827-4efd-d29b-912743b18a41"
      },
      "outputs": [
        {
          "data": {
            "application/vnd.google.colaboratory.intrinsic+json": {
              "type": "string"
            },
            "text/plain": [
              "'The main symptoms of diabetes include constant hunger, blurred vision, fatigue, and frequent urination.'"
            ]
          },
          "execution_count": 17,
          "metadata": {},
          "output_type": "execute_result"
        }
      ],
      "source": [
        "response = jsl_meds_rag_llm.generate(RAG_PROMPT)\n",
        "response"
      ]
    },
    {
      "cell_type": "markdown",
      "metadata": {
        "id": "ZReBnLbTE0jm"
      },
      "source": [
        "### JSL_MedS"
      ]
    },
    {
      "cell_type": "code",
      "execution_count": null,
      "metadata": {
        "colab": {
          "base_uri": "https://localhost:8080/",
          "height": 88
        },
        "id": "oOSbfn-PE0jn",
        "outputId": "a99430b0-ad6a-4266-ab5c-b970e2d73141"
      },
      "outputs": [
        {
          "data": {
            "application/vnd.google.colaboratory.intrinsic+json": {
              "type": "string"
            },
            "text/plain": [
              "\"The main symptoms of diabetes include:\\n\\n1. Constant hunger\\n2. Blurred vision\\n3. Fatigue\\n4. Frequent urination\\n5. Excessive thirst (polydipsia)\\n6. Unexplained weight loss (in type 1 diabetes)\\n7. Increased urination (polyuria)\\n8. Presence of ketones in urine (ketoacidosis)\\n\\nThese symptoms can vary depending on the type of diabetes and the individual's response to high blood sugar levels. It is important for individuals experiencing these symptoms to seek medical evaluation for proper diagnosis and management.\""
            ]
          },
          "execution_count": 17,
          "metadata": {},
          "output_type": "execute_result"
        }
      ],
      "source": [
        "response = jsl_meds_llm.generate(RAG_PROMPT)\n",
        "response"
      ]
    },
    {
      "cell_type": "markdown",
      "metadata": {
        "id": "xOZL2TwOE0jn"
      },
      "source": [
        "### JSL_MedM"
      ]
    },
    {
      "cell_type": "code",
      "execution_count": null,
      "metadata": {
        "colab": {
          "base_uri": "https://localhost:8080/",
          "height": 53
        },
        "id": "i7jmjypuE0jn",
        "outputId": "7539828b-5af1-40e5-95ed-31359ee0ddde"
      },
      "outputs": [
        {
          "data": {
            "application/vnd.google.colaboratory.intrinsic+json": {
              "type": "string"
            },
            "text/plain": [
              "'The main symptoms of diabetes include:\\n\\n1. Constant hunger\\n2. Blurred vision\\n3. Fatigue\\n4. Frequent urination\\n\\nThese symptoms are commonly reported by patients with diabetes mellitus.'"
            ]
          },
          "execution_count": 17,
          "metadata": {},
          "output_type": "execute_result"
        }
      ],
      "source": [
        "response = jsl_medm_llm.generate(RAG_PROMPT)\n",
        "response"
      ]
    },
    {
      "cell_type": "markdown",
      "metadata": {
        "id": "W69z_KJtTtEt"
      },
      "source": [
        "### JSL-MedM_Rag"
      ]
    },
    {
      "cell_type": "code",
      "source": [
        "response = jsl_medm_rag_llm.generate(RAG_PROMPT)\n",
        "response"
      ],
      "metadata": {
        "colab": {
          "base_uri": "https://localhost:8080/"
        },
        "id": "pl366QZt_hqt",
        "outputId": "ea8fc28a-d809-42ec-e65e-c3175bd4222b"
      },
      "execution_count": null,
      "outputs": [
        {
          "output_type": "stream",
          "name": "stdout",
          "text": [
            "Based on the patient case and discussion, the main symptoms of diabetes reported by the respondents include:\n",
            "\n",
            "- Constant hunger \n",
            "\n",
            "- Blurred vision\n",
            "\n",
            "- Fatigue\n",
            "\n",
            "- Frequent urination\n",
            "\n",
            "The patient also had dehydration and polyuria. The symptoms of thirst were due to diabetes insipidus. The patient had no family history of diabetes and was taking thyroid replacement medication. Labs revealed a random blood glucose level of 140.\n",
            "\n",
            "So in summary, the main symptoms of diabetes reported by the respondents are constant hunger, blurred vision, fatigue, frequent urination, dehydration, and polyuria. The patient had no family history of diabetes and was taking thyroid medication. Labs showed a random blood glucose level of 140.\n"
          ]
        }
      ]
    },
    {
      "cell_type": "markdown",
      "metadata": {
        "id": "TMw_bZzNE0jn"
      },
      "source": [
        "### GPT-4"
      ]
    },
    {
      "cell_type": "code",
      "execution_count": null,
      "metadata": {
        "id": "QScpcJ5oE0jo"
      },
      "outputs": [],
      "source": [
        "# Generate the response using the model\n",
        "response = generate_response(RAG_PROMPT)"
      ]
    },
    {
      "cell_type": "code",
      "execution_count": null,
      "metadata": {
        "colab": {
          "base_uri": "https://localhost:8080/"
        },
        "id": "4DCtoNajE0jo",
        "outputId": "5760888c-0d37-47b2-92d1-39c45ff9654d"
      },
      "outputs": [
        {
          "name": "stdout",
          "output_type": "stream",
          "text": [
            "The main symptoms of diabetes include constant hunger, blurred vision, fatigue, and frequent urination.\n"
          ]
        }
      ],
      "source": [
        "response_content = response.choices[0].message.content\n",
        "\n",
        "print(response_content)"
      ]
    },
    {
      "cell_type": "markdown",
      "metadata": {
        "id": "mjNULL-0FVq7"
      },
      "source": [
        "### LongCite"
      ]
    },
    {
      "cell_type": "code",
      "execution_count": null,
      "metadata": {
        "id": "ic_dSMUzFVq7"
      },
      "outputs": [],
      "source": [
        "context = RAG_PROMPT\n",
        "query = \"What are the main symptoms of diabetes?\"\n",
        "result = model.query_longcite(context, query, tokenizer=tokenizer, max_input_length=128000, max_new_tokens=512)"
      ]
    },
    {
      "cell_type": "code",
      "source": [
        "answer = result['answer']\n",
        "cleaned_answer = answer.replace(\"<statement>\", \"\").replace(\"</statement>\", \"\")\n",
        "print(cleaned_answer)"
      ],
      "metadata": {
        "colab": {
          "base_uri": "https://localhost:8080/"
        },
        "id": "7CvaN6M9eN5H",
        "outputId": "0f48fac3-1893-48d9-c694-04ce8984ea00"
      },
      "execution_count": null,
      "outputs": [
        {
          "output_type": "stream",
          "name": "stdout",
          "text": [
            "Based on the context, the main symptoms of diabetes reported by respondents include:<cite></cite>\n",
            "\n",
            "- Constant hunger<cite>[3-3]</cite>\n",
            "\n",
            "- Blurred vision  <cite>[3-3]</cite>\n",
            "\n",
            "- Fatigue<cite>[3-3]</cite>\n",
            "\n",
            "- Frequent urination<cite>[3-3]</cite>\n",
            "\n",
            "The context also mentions that dehydration and polyuria (frequent urination) were the main symptoms in the patient with adipsic diabetes insipidus. So frequent urination is a key symptom. The patient did report feeling hungry, but this was not listed as a main symptom by the respondents.<cite>[3-5]</cite>\n"
          ]
        }
      ]
    },
    {
      "cell_type": "markdown",
      "metadata": {
        "id": "Avenq_RFE1Z4"
      },
      "source": [
        "## Q3"
      ]
    },
    {
      "cell_type": "code",
      "execution_count": null,
      "metadata": {
        "id": "_HuqIucQE1Z5"
      },
      "outputs": [],
      "source": [
        "question = \"What dietary changes can help manage diabetes?\"\n",
        "RAG_PROMPT = process_question(question, db, top_k=5)"
      ]
    },
    {
      "cell_type": "code",
      "source": [
        "print(RAG_PROMPT)"
      ],
      "metadata": {
        "colab": {
          "base_uri": "https://localhost:8080/"
        },
        "id": "qEGfprTPeUXP",
        "outputId": "1b121e54-be24-4b38-9395-f622de848736"
      },
      "execution_count": null,
      "outputs": [
        {
          "output_type": "stream",
          "name": "stdout",
          "text": [
            "### Context: \n",
            "incidence of type 2 diabetes with higher intake of red meat (for an increment of 100 g/day, 1.17 (1.08 to 1.26)), processed meat (for an increment of 50 g/day, 1.37 (1.22 to 1.54)), bacon (per two slices/day, 2.07 (1.40 to 3.05)), and sugar sweetened beverages (for an increase of one serving/day, 1.26 (1.11 to 1.43)).\n",
            "of 150 newly diagnosed cases attending a diabetes clinic, and 150 controls, who were community residents and free of diabetes. The case group had a significantly higher consumption of noodles, fish, beans, fermented food and pickles, dried food, topping seasonings, and non-dairy milk products than the control group, whereas they had a lower vegetable intake (more than three servings/day) and fruit intake (more than three servings/day) than the control group. Furthermore, the case group\n",
            "income, there is a need for a certain affordable dietary pattern to ameliorate the rise in diabetes incidence, as well as improve the glycemic control. We did a review based on the available literature regarding Mediterranean diet and people with or at risk of developing type 2 diabetes mellitus, its effects on glycemic control, lipid profile and metabolic outcome.\n",
            "management approaches include lifestyle changes, such as improved diet and increased physical activity, together with pharmacological interventions, including metformin, insulin, and the recently approved glucagon-like peptide-1 analog liraglutide. What is more important for everyone to realize though, from patients, families and physicians to schools, health services and policy-makers alike, is that T2DM is a largely preventable disease that will be addressed effectively only if its major\n",
            "relevant pathway in human patients suffering from diabetes.\n",
            "\n",
            "### Questions:\n",
            "What dietary changes can help manage diabetes?\n",
            "\n"
          ]
        }
      ]
    },
    {
      "cell_type": "markdown",
      "metadata": {
        "id": "kiJTTS8VE1Z6"
      },
      "source": [
        "### JSL_MedS_Rag"
      ]
    },
    {
      "cell_type": "code",
      "execution_count": null,
      "metadata": {
        "colab": {
          "base_uri": "https://localhost:8080/",
          "height": 105
        },
        "id": "86WFY4urUX5n",
        "outputId": "dca974cc-630f-4ae2-f10f-88082bbf6263"
      },
      "outputs": [
        {
          "data": {
            "application/vnd.google.colaboratory.intrinsic+json": {
              "type": "string"
            },
            "text/plain": [
              "\"Dietary changes that can help manage diabetes include adopting a Mediterranean diet, which emphasizes on fruits, vegetables, whole grains, legumes, nuts, and olive oil. It also includes moderate consumption of fish and poultry, and limited intake of red meat and sweets. Additionally, reducing the intake of processed meats, sugar-sweetened beverages, and increasing the consumption of non-dairy milk products, noodles, fish, beans, fermented food, and pickles can be beneficial. It's also important to increase the intake of vegetables and fruits. These dietary changes can improve glycemic control, lipid profile, and metabolic outcomes in people with or at risk of developing type 2 diabetes mellitus.\""
            ]
          },
          "execution_count": 19,
          "metadata": {},
          "output_type": "execute_result"
        }
      ],
      "source": [
        "response = jsl_meds_rag_llm.generate(RAG_PROMPT)\n",
        "response"
      ]
    },
    {
      "cell_type": "markdown",
      "metadata": {
        "id": "kmbGHwHKE1Z8"
      },
      "source": [
        "### JSL_MedS"
      ]
    },
    {
      "cell_type": "code",
      "execution_count": null,
      "metadata": {
        "colab": {
          "base_uri": "https://localhost:8080/",
          "height": 140
        },
        "id": "m4pb8nueE1Z8",
        "outputId": "15a8617c-4e44-413c-cbc6-353b2f3c90b2"
      },
      "outputs": [
        {
          "data": {
            "application/vnd.google.colaboratory.intrinsic+json": {
              "type": "string"
            },
            "text/plain": [
              "'Dietary changes that can help manage diabetes include:\\n\\n1. Reducing intake of red meat, processed meat, and sugar-sweetened beverages: Studies have shown that higher consumption of these foods is associated with an increased risk of type 2 diabetes. Limiting their intake can help improve glycemic control and reduce the risk of developing diabetes.\\n2. Increasing consumption of vegetables and fruits: A diet rich in vegetables and fruits can help improve glycemic control and reduce the risk of diabetes. It is recommended to consume more than three servings of vegetables and fruits per day.\\n3. Incorporating whole grains and legumes: Whole grains and legumes are rich in fiber and can help regulate blood sugar levels. They can be included in the diet in the form of whole wheat bread, brown rice, lentils, and chickpeas.\\n4. Limiting intake of refined carbohydrates and sugary foods: Refined carbohydrates and sugary foods can cause spikes in blood sugar levels. It is recommended to limit their intake and replace them with healthier options like whole grains, legumes, and nuts.\\n5. Increasing intake of healthy fats: Healthy fats, such as those found in avocados, nuts, and olive oil, can help improve insulin sensitivity and reduce inflammation. It is recommended to include these in the diet in moderation.\\n6. Maintaining a healthy weight: Being overweight or obese can increase the risk of developing diabetes. Maintaining a healthy weight through a balanced diet and regular physical activity can help improve glycemic control and reduce the risk of diabetes.\\n\\nIn addition to dietary changes, lifestyle modifications such as increased physical activity and weight management are also important for managing diabetes. It is also essential to work closely with healthcare professionals to develop a personalized treatment plan that may include medications and insulin therapy, if needed.'"
            ]
          },
          "execution_count": 19,
          "metadata": {},
          "output_type": "execute_result"
        }
      ],
      "source": [
        "response = jsl_meds_llm.generate(RAG_PROMPT)\n",
        "response"
      ]
    },
    {
      "cell_type": "markdown",
      "metadata": {
        "id": "B58WkWVNiWbT"
      },
      "source": [
        "### JSL_MedM"
      ]
    },
    {
      "cell_type": "code",
      "execution_count": null,
      "metadata": {
        "colab": {
          "base_uri": "https://localhost:8080/",
          "height": 88
        },
        "id": "YJNdeV4oE1Z-",
        "outputId": "e7944050-d3c6-42c2-edc0-e744ef038e8e"
      },
      "outputs": [
        {
          "data": {
            "application/vnd.google.colaboratory.intrinsic+json": {
              "type": "string"
            },
            "text/plain": [
              "'A Mediterranean diet has been shown to be beneficial in managing type 2 diabetes mellitus (T2DM). This diet is characterized by high consumption of fruits, vegetables, whole grains, nuts, seeds, legumes, olive oil, and fish, and low consumption of red meat, processed meat, and sugar-sweetened beverages. The Mediterranean diet has been associated with improved glycemic control, lipid profile, and metabolic outcomes in patients with T2DM. Additionally, lifestyle changes such as improved diet and increased physical activity are important for managing T2DM.'"
            ]
          },
          "execution_count": 19,
          "metadata": {},
          "output_type": "execute_result"
        }
      ],
      "source": [
        "response = jsl_medm_llm.generate(RAG_PROMPT)\n",
        "response"
      ]
    },
    {
      "cell_type": "markdown",
      "metadata": {
        "id": "8UfidPsjTyP3"
      },
      "source": [
        "### JSL-MedM_Rag"
      ]
    },
    {
      "cell_type": "code",
      "source": [
        "response = jsl_medm_rag_llm.generate(RAG_PROMPT)\n",
        "response"
      ],
      "metadata": {
        "colab": {
          "base_uri": "https://localhost:8080/"
        },
        "id": "j4w8I68rAQpI",
        "outputId": "6527155b-b3b4-4353-a6b6-72ea81f6134b"
      },
      "execution_count": null,
      "outputs": [
        {
          "output_type": "stream",
          "name": "stdout",
          "text": [
            "Based on the provided context, some key dietary changes that can help manage diabetes include:\n",
            "\n",
            "- Reducing intake of red meat, processed meat, bacon, and sugar sweetened beverages. The context states that these foods are associated with a higher incidence of type 2 diabetes.\n",
            "\n",
            "- Increasing intake of vegetables and fruits. The context notes that the case group had a lower intake of vegetables and fruits compared to controls.\n",
            "\n",
            "- Following a Mediterranean diet. The review mentions that a Mediterranean diet is beneficial for glycemic control and metabolic outcomes in people with type 2 diabetes.\n",
            "\n",
            "- Avoiding high-glycemic index foods. The context does not specifically mention this, but avoiding high glycemic index foods is a general dietary recommendation for managing diabetes.\n",
            "\n",
            "- Monitoring and controlling portion sizes. The context does not directly mention this, but portion control is a general dietary recommendation for diabetes management.\n",
            "\n",
            "- Choosing healthier fats. The context does not directly mention this, but choosing healthier fats like olive oil instead of saturated and trans fats is recommended.\n",
            "\n",
            "- Eating regularly and at set times. The context does not directly mention this, but regular eating patterns help stabilize blood sugar.\n",
            "\n",
            "So in summary, reducing intake of red meat, processed meat, sugar sweetened beverages, and increasing vegetables, fruits, whole grains, lean protein, and healthier fats are key dietary changes that can help manage diabetes. Following a Mediterranean diet pattern is also beneficial.\n",
            "\n"
          ]
        }
      ]
    },
    {
      "cell_type": "markdown",
      "metadata": {
        "id": "MmEG_LEvE1Z_"
      },
      "source": [
        "### GPT-4"
      ]
    },
    {
      "cell_type": "code",
      "execution_count": null,
      "metadata": {
        "id": "YKuymoM4E1aA"
      },
      "outputs": [],
      "source": [
        "# Generate the response using the model\n",
        "response = generate_response(RAG_PROMPT)"
      ]
    },
    {
      "cell_type": "code",
      "execution_count": null,
      "metadata": {
        "colab": {
          "base_uri": "https://localhost:8080/"
        },
        "id": "q4VJegS2E1aA",
        "outputId": "e7fe07b4-2855-4b59-df0d-aa2af9565a7d"
      },
      "outputs": [
        {
          "name": "stdout",
          "output_type": "stream",
          "text": [
            "Dietary changes that can help manage diabetes include adopting a Mediterranean diet, which is associated with improved glycemic control, lipid profile, and metabolic outcomes. Additionally, reducing the intake of red and processed meats, bacon, and sugar-sweetened beverages can be beneficial. Increasing the consumption of vegetables and fruits, while reducing the intake of noodles, fish, beans, fermented foods, pickles, dried foods, topping seasonings, and non-dairy milk products, may also help in managing diabetes.\n"
          ]
        }
      ],
      "source": [
        "response_content = response.choices[0].message.content\n",
        "\n",
        "print(response_content)"
      ]
    },
    {
      "cell_type": "markdown",
      "metadata": {
        "id": "uOSj7HqiFZa7"
      },
      "source": [
        "### LongCite"
      ]
    },
    {
      "cell_type": "code",
      "execution_count": null,
      "metadata": {
        "id": "W5IZTckuFZa8"
      },
      "outputs": [],
      "source": [
        "context = RAG_PROMPT\n",
        "query = \"What dietary changes can help manage diabetes?\"\n",
        "result = model.query_longcite(context, query, tokenizer=tokenizer, max_input_length=128000, max_new_tokens=512)"
      ]
    },
    {
      "cell_type": "code",
      "source": [
        "answer = result['answer']\n",
        "cleaned_answer = answer.replace(\"<statement>\", \"\").replace(\"</statement>\", \"\")\n",
        "print(cleaned_answer)"
      ],
      "metadata": {
        "colab": {
          "base_uri": "https://localhost:8080/"
        },
        "id": "-JCt4t0TeZms",
        "outputId": "f1ab76a1-7e51-492b-e668-0864392ae3e9"
      },
      "execution_count": null,
      "outputs": [
        {
          "output_type": "stream",
          "name": "stdout",
          "text": [
            "Based on the context, some key dietary changes that can help manage diabetes include:<cite></cite>\n",
            "\n",
            "- Reducing intake of red meat, processed meat, bacon, and sugar sweetened beverages. Higher intake of these foods is associated with increased risk of type 2 diabetes.<cite>[0-0]</cite>\n",
            "\n",
            "- Eating more vegetables and fruits. Higher consumption of noodles, fish, beans, fermented food and pickles, dried food, topping seasonings, and non-dairy milk products was found in the case group compared to controls, while they had a lower vegetable and fruit intake.<cite>[2-2]</cite>\n",
            "\n",
            "- Following a Mediterranean diet. A review of literature found that the Mediterranean diet has beneficial effects on glycemic control, lipid profile, and metabolic outcome in people with or at risk of developing type 2 diabetes.<cite>[4-4]</cite>\n",
            "\n",
            "- Limiting portion sizes. For example, limiting intake of red meat to 100g/day, processed meat to 50g/day, and sugar sweetened beverages to one serving/day was associated with reduced risk of diabetes.<cite>[0-0]</cite>\n",
            "\n",
            "- Choosing healthier food options. Replacing red meat with poultry, fish, beans, or nuts; processed meat with fresh meat or vegetarian options; and sugar sweetened beverages with water or unsweetened tea can help manage diabetes.<cite></cite>\n",
            "\n",
            "- Eating regular meals. Consistently eating regular meals helps stabilize blood sugar levels.<cite></cite>\n",
            "\n",
            "- Monitoring portion sizes and macronutrient intake. Keeping track of portion sizes and macronutrient intake (carbohydrates, protein, fat) helps manage diabetes.<cite></cite>\n",
            "\n",
            "- Consulting a dietitian. A dietitian can help develop a personalized meal plan that meets individual needs and goals.<cite></cite>\n",
            "\n",
            "In summary, a healthy diet that is low in red and processed meat, sugar, and refined grains; high in vegetables, fruits, whole grains, lean protein, and healthy fats; and consistent with the principles of the Mediterranean diet can help manage diabetes.<cite></cite>\n"
          ]
        }
      ]
    },
    {
      "cell_type": "markdown",
      "metadata": {
        "id": "azFT2llNE163"
      },
      "source": [
        "## Q4"
      ]
    },
    {
      "cell_type": "code",
      "execution_count": null,
      "metadata": {
        "id": "oFirm-suE163"
      },
      "outputs": [],
      "source": [
        "question = \"What are the clinical symptoms associated with Wolfram syndrome?\"\n",
        "RAG_PROMPT = process_question(question, db, top_k=5)"
      ]
    },
    {
      "cell_type": "code",
      "source": [
        "print(RAG_PROMPT)"
      ],
      "metadata": {
        "colab": {
          "base_uri": "https://localhost:8080/"
        },
        "id": "BQq-p0T9eege",
        "outputId": "bd762ac6-6ec5-4f73-c4f5-81b994baaf75"
      },
      "execution_count": null,
      "outputs": [
        {
          "output_type": "stream",
          "name": "stdout",
          "text": [
            "### Context: \n",
            "Wolframs syndrome being a multisystem degenerative disorder can have myriad other manifestations than the classically described features. Neuropsychiatric manifestations, depression with suicidal risk, central hypogonadism, and secondary adrenal insufficiency are among the less well-described manifestations of this syndrome.\n",
            "Wolfram syndrome (WFS) is a rare autosomal recessive disease with clinical manifestations of diabetes mellitus (DM), diabetes insipidus (DI), optic nerve atrophy (OA) and sensorineural hearing loss (SNHL). Although SNHL is a key symptom of WFS, there is limited information on its natural history using standardized measures. Such information is important for clinical care and determining its use as an outcome measure in clinical trials.\n",
            "Wolfram syndrome (WS) is a rare autosomal recessive disorder characterized by diabetes insipidus, diabetes mellitus, optic atrophy and deafness. Mutations in Wolfram syndrome 1 (WFS1) gene may cause dysregulated endoplasmic reticulum (ER)-stress and cell apoptosis, contributing to WS symptoms. The aim of this study was to identify the molecular etiology of a case of WS and to explore the functional consequence of the mutant WFS1 gene in vitro.\n",
            "Wolfram syndrome is a rare genetic disease characterized by insulin-dependent diabetes, optic nerve atrophy, sensorineural hearing loss and neurodegeneration. Although olfactory dysfunction, a classical clinical marker of neurodegenerative processes, has been reported in Wolfram syndrome, its use as a clinical marker in Wolfram is limited due to data scarcity. In addition, it is unknown whether Wolfram syndrome affects the sense of taste.\n",
            "Background: Wolfram syndrome (WS) is a rare autosomal recessive disorder that is characterized by the presence of diabetes mellitus, optic atrophy and hearing loss, all of which are crucial elements for the diagnosis. WS is variably associated with diabetes insipidus, neurological disorders, urinary tract anomalies, endocrine dysfunctions and many other systemic manifestations. Since Wolfram and Wagener first described WS in 1938, new phenotypic/genotypic variants of the syndrome have been\n",
            "\n",
            "### Questions:\n",
            "What are the clinical symptoms associated with Wolfram syndrome?\n",
            "\n"
          ]
        }
      ]
    },
    {
      "cell_type": "markdown",
      "metadata": {
        "id": "xqkL6_JtE164"
      },
      "source": [
        "### JSL_MedS_Rag"
      ]
    },
    {
      "cell_type": "code",
      "execution_count": null,
      "metadata": {
        "colab": {
          "base_uri": "https://localhost:8080/",
          "height": 105
        },
        "id": "Zgs5AKKPUZ1F",
        "outputId": "97e4a74e-6119-40f4-ba02-118def917ef9"
      },
      "outputs": [
        {
          "data": {
            "application/vnd.google.colaboratory.intrinsic+json": {
              "type": "string"
            },
            "text/plain": [
              "\"Wolfram syndrome is a rare genetic disorder characterized by several clinical symptoms. These include diabetes mellitus, which is a condition that affects the body's ability to process blood sugar. The syndrome also involves optic atrophy, which is a degenerative eye disease that leads to vision loss. Additionally, individuals with Wolfram syndrome experience sensorineural hearing loss, which is a type of hearing loss that occurs due to damage to the inner ear or the nerve pathways from the ear to the brain. Other symptoms may include diabetes insipidus, neurological disorders, urinary tract anomalies, endocrine dysfunctions, and various systemic manifestations.\""
            ]
          },
          "execution_count": 21,
          "metadata": {},
          "output_type": "execute_result"
        }
      ],
      "source": [
        "response = jsl_meds_rag_llm.generate(RAG_PROMPT)\n",
        "response"
      ]
    },
    {
      "cell_type": "markdown",
      "metadata": {
        "id": "13UIzDg-E164"
      },
      "source": [
        "### JSL_MedS"
      ]
    },
    {
      "cell_type": "code",
      "execution_count": null,
      "metadata": {
        "colab": {
          "base_uri": "https://localhost:8080/",
          "height": 140
        },
        "id": "PrzmC1v2E164",
        "outputId": "8305f253-4888-4b45-d7b3-12bdaf6c2c62"
      },
      "outputs": [
        {
          "data": {
            "application/vnd.google.colaboratory.intrinsic+json": {
              "type": "string"
            },
            "text/plain": [
              "'Wolfram syndrome (WS) is a rare autosomal recessive disorder characterized by several clinical symptoms. The key symptoms include:\\n\\n1. Diabetes mellitus (DM): WS patients often develop insulin-dependent diabetes, which can lead to various complications if not properly managed.\\n2. Diabetes insipidus (DI): This condition is characterized by excessive urination and thirst due to a deficiency of antidiuretic hormone (ADH) or a resistance to its effects.\\n3. Optic nerve atrophy (OA): WS patients may experience vision loss and other visual impairments due to damage to the optic nerve.\\n4. Sensorineural hearing loss (SNHL): Hearing loss is a common symptom of WS, which can affect the ability to hear and understand sounds.\\n5. Neurological disorders: WS can also cause neurological problems, such as movement disorders, cognitive impairment, and other neurodegenerative processes.\\n6. Olfactory dysfunction: Some studies have reported olfactory dysfunction in WS patients, but its clinical significance is still unclear.\\n7. Taste dysfunction: There is limited information on whether WS affects the sense of taste.\\n\\nIn addition to these symptoms, WS can be associated with other systemic manifestations, such as endocrine dysfunctions, urinary tract anomalies, and neurological disorders. The clinical manifestations of WS can vary among individuals, and the severity of symptoms can also differ. It is important for healthcare professionals to recognize these symptoms and provide appropriate care and management for patients with WS.'"
            ]
          },
          "execution_count": 21,
          "metadata": {},
          "output_type": "execute_result"
        }
      ],
      "source": [
        "response = jsl_meds_llm.generate(RAG_PROMPT)\n",
        "response"
      ]
    },
    {
      "cell_type": "markdown",
      "metadata": {
        "id": "5dbebyMSiYg8"
      },
      "source": [
        "### JSL_MedM"
      ]
    },
    {
      "cell_type": "code",
      "execution_count": null,
      "metadata": {
        "colab": {
          "base_uri": "https://localhost:8080/",
          "height": 140
        },
        "id": "E2I2fTJpE165",
        "outputId": "e827f606-1994-4cd7-bcb9-a416ddea663c"
      },
      "outputs": [
        {
          "data": {
            "application/vnd.google.colaboratory.intrinsic+json": {
              "type": "string"
            },
            "text/plain": [
              "'Wolfram syndrome is a rare autosomal recessive disease characterized by several clinical symptoms, including:\\n\\n1. Diabetes mellitus (DM): This is one of the key symptoms of Wolfram syndrome, which is caused by a mutation in the WFS1 gene.\\n2. Diabetes insipidus (DI): This is another common symptom of Wolfram syndrome, which is caused by a deficiency of antidiuretic hormone (ADH).\\n3. Optic nerve atrophy (OA): This is a degeneration of the optic nerve, which can lead to vision loss and blindness.\\n4. Sensorineural hearing loss (SNHL): This is a type of hearing loss that affects the inner ear and can lead to significant hearing impairment.\\n5. Neurodegeneration: This is a progressive degeneration of the brain and nervous system, which can lead to a range of cognitive and motor symptoms.\\n6. Olfactory dysfunction: This is a loss of smell, which can be a classical clinical marker of neurodegenerative processes.\\n7. Taste dysfunction: This is a loss of taste, which is not well-studied in Wolfram syndrome but may be a potential clinical marker.\\n8. Endocrine dysfunctions: This can include a range of hormonal imbalances, such as central hypogonadism and secondary adrenal insufficiency.\\n9. Urinary tract anomalies: These can include a range of abnormalities, such as kidney stones and urinary tract infections.\\n10. Neurological disorders: These can include a range of symptoms, such as seizures, tremors, and ataxia.\\n\\nIt is important to note that the symptoms of Wolfram syndrome can vary widely between individuals, and not everyone will experience all of these symptoms.'"
            ]
          },
          "execution_count": 21,
          "metadata": {},
          "output_type": "execute_result"
        }
      ],
      "source": [
        "response = jsl_medm_llm.generate(RAG_PROMPT)\n",
        "response"
      ]
    },
    {
      "cell_type": "markdown",
      "metadata": {
        "id": "ExtLQEDkT1DR"
      },
      "source": [
        "### JSL-MedM_Rag"
      ]
    },
    {
      "cell_type": "code",
      "source": [
        "response = jsl_medm_rag_llm.generate(RAG_PROMPT)\n",
        "response"
      ],
      "metadata": {
        "colab": {
          "base_uri": "https://localhost:8080/"
        },
        "id": "J9cuomqABE0E",
        "outputId": "5504bad3-2820-456b-e3a2-650f0a1fa990"
      },
      "execution_count": null,
      "outputs": [
        {
          "output_type": "stream",
          "name": "stdout",
          "text": [
            "Based on the context, the key clinical symptoms associated with Wolfram syndrome are:\n",
            "\n",
            "- Diabetes mellitus - Insulin-dependent diabetes that is a core feature of the syndrome.\n",
            "\n",
            "- Diabetes insipidus - Excessive thirst and urination due to lack of antidiuretic hormone.\n",
            "\n",
            "- Optic atrophy - Degeneration of the optic nerve leading to vision loss.\n",
            "\n",
            "- Sensorineural hearing loss - Progressive hearing loss due to damage to the inner ear and/or auditory nerve.\n",
            "\n",
            "- Neurodegeneration - Progressive degeneration of the brain and nervous system, which can lead to a variety of neurologic symptoms.\n",
            "\n",
            "- Other symptoms can include gastrointestinal dysfunction, renal and hepatic dysfunction, urinary tract anomalies, and endocrine dysfunctions.\n",
            "\n",
            "So in summary, the core clinical symptoms are diabetes, diabetes insipidus, optic atrophy, hearing loss, and neurodegeneration. The syndrome can also involve other systemic manifestations.\n"
          ]
        }
      ]
    },
    {
      "cell_type": "markdown",
      "metadata": {
        "id": "P6fvQ3KHE165"
      },
      "source": [
        "### GPT-4"
      ]
    },
    {
      "cell_type": "code",
      "execution_count": null,
      "metadata": {
        "id": "Fh9vxV1_E166"
      },
      "outputs": [],
      "source": [
        "# Generate the response using the model\n",
        "response = generate_response(RAG_PROMPT)"
      ]
    },
    {
      "cell_type": "code",
      "execution_count": null,
      "metadata": {
        "colab": {
          "base_uri": "https://localhost:8080/"
        },
        "id": "dpusQCnrE166",
        "outputId": "db1a04cc-7801-41fa-e818-41a7d57e822f"
      },
      "outputs": [
        {
          "name": "stdout",
          "output_type": "stream",
          "text": [
            "The clinical symptoms associated with Wolfram syndrome include diabetes mellitus, diabetes insipidus, optic nerve atrophy, sensorineural hearing loss, neuropsychiatric manifestations, depression with suicidal risk, central hypogonadism, secondary adrenal insufficiency, and neurodegeneration. Other possible symptoms include olfactory dysfunction, neurological disorders, urinary tract anomalies, and endocrine dysfunctions.\n"
          ]
        }
      ],
      "source": [
        "response_content = response.choices[0].message.content\n",
        "\n",
        "print(response_content)"
      ]
    },
    {
      "cell_type": "markdown",
      "metadata": {
        "id": "fhoVskxXFaol"
      },
      "source": [
        "### LongCite"
      ]
    },
    {
      "cell_type": "code",
      "execution_count": null,
      "metadata": {
        "id": "sEMGQgmeFaon"
      },
      "outputs": [],
      "source": [
        "context = RAG_PROMPT\n",
        "query = \"What are the clinical symptoms associated with Wolfram syndrome?\"\n",
        "result = model.query_longcite(context, query, tokenizer=tokenizer, max_input_length=128000, max_new_tokens=512)"
      ]
    },
    {
      "cell_type": "code",
      "source": [
        "answer = result['answer']\n",
        "cleaned_answer = answer.replace(\"<statement>\", \"\").replace(\"</statement>\", \"\")\n",
        "print(cleaned_answer)"
      ],
      "metadata": {
        "colab": {
          "base_uri": "https://localhost:8080/"
        },
        "id": "9CdPSkRzekKe",
        "outputId": "3bb7d18c-ba2e-4f21-8851-76951e31f8ab"
      },
      "execution_count": null,
      "outputs": [
        {
          "output_type": "stream",
          "name": "stdout",
          "text": [
            "Based on the context, the key clinical symptoms associated with Wolfram syndrome are:<cite></cite>\n",
            "\n",
            "- Diabetes mellitus - Insulin-dependent diabetes<cite>[2-2][5-5][8-8]</cite>\n",
            "\n",
            "- Diabetes insipidus - Inability to regulate water balance<cite>[2-2][5-5][8-8]</cite>\n",
            "\n",
            "- Optic nerve atrophy - Progressive vision loss<cite>[2-2][5-5][8-8]</cite>\n",
            "\n",
            "- Sensorineural hearing loss - Progressive deafness<cite>[2-2][5-5][8-8]</cite>\n",
            "\n",
            "- Neurodegeneration - Progressive neurologic dysfunction<cite>[8-8]</cite>\n",
            "\n",
            "- Olfactory dysfunction - Impaired sense of smell, although this is less well described<cite>[9-9]</cite>\n",
            "\n",
            "- Other systemic manifestations - Urinary tract anomalies, endocrine dysfunctions, etc.<cite>[12-12]</cite>\n",
            "\n",
            "So in summary, Wolfram syndrome is characterized by diabetes, vision and hearing loss, neurodegeneration, and other systemic manifestations. Olfactory dysfunction has been reported but is less well described.<cite></cite>\n"
          ]
        }
      ]
    },
    {
      "cell_type": "markdown",
      "metadata": {
        "id": "ISbiEKU3E2Ta"
      },
      "source": [
        "## Q5"
      ]
    },
    {
      "cell_type": "code",
      "execution_count": null,
      "metadata": {
        "id": "eQEbjTo7E2Tb"
      },
      "outputs": [],
      "source": [
        "question = \"What are some low-cost ways to screen individuals for prediabetes?\"\n",
        "RAG_PROMPT = process_question(question, db, top_k=5)"
      ]
    },
    {
      "cell_type": "code",
      "execution_count": null,
      "metadata": {
        "id": "ZUzC3AsiUbo7",
        "colab": {
          "base_uri": "https://localhost:8080/"
        },
        "outputId": "a0d619f6-51cc-4ff2-c7f4-bc31f622dd93"
      },
      "outputs": [
        {
          "output_type": "stream",
          "name": "stdout",
          "text": [
            "### Context: \n",
            "examination than those with non‐fulminant type 1 diabetes mellitus.\n",
            "excellent opportunity to screen large numbers of individuals with a diagnosis of diabetes for mutations in disease-associated genes.\n",
            "Diabetes, with its associated dyslipidemia and hypertension, is still not very well controlled. Screening for diabetes complications has improved over the years. Patients need to have more proper care, and physicians need to follow diabetes guidelines, and to have a larger number of patients who have appropriate treatment of diabetes, hypertension and lipids.\n",
            "Only 1 patient with type 1 diabetes and 595 patients with type 2 diabetes were included in Wave 6. Average age was around 60 years, with a mean body mass index of 30. The mean fasting serum glucose was 159.42 mg/dL, and the mean glycosylated hemoglobin (HbA1c) level was 7.98 with around 30% achieving an HbA1c target of < 7%. More patients were on oral anti-diabetic medications. Screening of diabetic complications has improved over the years. A large percentage is diagnosed with hypertension and\n",
            "yield clinically meaningful, cost-effective outcomes. In June 2015, a Diabetes Care Editors’ Expert Forum convened to discuss these issues. This article, an outgrowth of the forum, begins with a summary of seminal prevention trials, followed by a discussion of considerations for selecting appropriate populations for intervention and the clinical implications of the various diagnostic criteria for prediabetes. The authors outline knowledge gaps in need of elucidation and explore a possible new\n",
            "\n",
            "### Questions:\n",
            "What are some low-cost ways to screen individuals for prediabetes?\n",
            "\n"
          ]
        }
      ],
      "source": [
        "print(RAG_PROMPT)"
      ]
    },
    {
      "cell_type": "markdown",
      "metadata": {
        "id": "TtsmSYJTE2Tb"
      },
      "source": [
        "###JSL_MedS_Rag"
      ]
    },
    {
      "cell_type": "code",
      "execution_count": null,
      "metadata": {
        "colab": {
          "base_uri": "https://localhost:8080/",
          "height": 140
        },
        "id": "Yj0v8-FPUcSf",
        "outputId": "2c856bd7-20cd-4016-e9d2-7347d53a8ccb"
      },
      "outputs": [
        {
          "data": {
            "application/vnd.google.colaboratory.intrinsic+json": {
              "type": "string"
            },
            "text/plain": [
              "\"1. Fasting Plasma Glucose Test: This test measures blood sugar levels after an overnight fast. It's a simple and cost-effective way to screen for prediabetes.\\n\\n2. Hemoglobin A1c Test: This test measures the average blood sugar levels over the past 2-3 months. It's a reliable indicator of long-term blood sugar control and can be used to screen for prediabetes.\\n\\n3. Oral Glucose Tolerance Test: This test measures blood sugar levels before and after drinking a sugary drink. It's more expensive and time-consuming than the other tests, but it can provide more detailed information about how the body processes glucose.\\n\\n4. Urine Test: This test checks for the presence of glucose in the urine, which can be an indicator of prediabetes. It's a simple and inexpensive test that can be done at home.\\n\\n5. Family History: If someone in your family has diabetes, you may be at a higher risk of developing the condition. Talk to your doctor about your family history and consider getting screened for prediabetes.\\n\\n6. Body Mass Index (BMI): A BMI of 25 or higher is considered overweight, which increases the risk of prediabetes. Maintaining a healthy weight through diet and exercise can help prevent prediabetes.\\n\\n7. Blood Pressure Monitoring: High blood pressure is a common complication of prediabetes. Regularly monitoring blood pressure can help detect prediabetes early and prevent complications.\\n\\n8. Lifestyle Changes: Making lifestyle changes, such as eating a healthy diet, exercising regularly, and maintaining a healthy weight, can help prevent or delay the onset of prediabetes.\\n\\n9. Community Screening Programs: Many communities offer free or low-cost screening programs for prediabetes. These programs can help identify individuals at risk and provide them with the resources they need to manage their condition.\\n\\n10. Online Prediabetes Tests: There are several online tests available that can help you determine your risk of developing prediabetes. These tests are not as accurate as medical tests, but they can be a good starting point for individuals who are concerned about their risk.\\n\\n11. Healthcare Provider Recommendations: Your healthcare provider may recommend screening for prediabetes based on your age, weight, and other risk factors. They can also provide guidance on how to manage your risk and prevent the onset of diabetes.\\n\\n12. Regular Check-ups: Regular check-ups with your healthcare provider can help detect prediabetes early and prevent complications. Your provider can also recommend appropriate screening tests and lifestyle changes to help manage your risk.\\n\\n13. Education and Awareness: Educating yourself and others about the signs and symptoms of prediabetes can help raise awareness and encourage early detection and treatment.\\n\\n14. Support Groups: Joining a support group can provide you with the resources and support you need to manage your risk of prediabetes. These groups can also provide you with tips and strategies for making healthy lifestyle changes.\\n\\n15. Health Insurance: Check your health insurance policy to see if it covers screening for prediabetes. Many insurance plans cover diabetes screening and management, which can help reduce the cost of treatment and prevent complications.\\n\\n16. Government Programs: Some government programs offer free or low-cost screening for prediabetes. These programs can be a great resource for individuals who are at risk of developing the condition.\\n\\n17. Mobile Health Apps: There are several mobile health apps available that can help you track your blood sugar levels, monitor your diet, and manage your diabetes. These apps can also provide you with personalized recommendations and support to help prevent prediabetes.\\n\\n18. Community Health Centers: Community health centers often offer free or low-cost screening for prediabetes. These centers can also provide you with resources and support to manage your condition.\\n\\n19. School and Workplace Programs: Schools and workplaces can offer programs to promote healthy lifestyles and prevent prediabetes. These programs can include nutrition education, physical activity programs, and health screenings.\\n\\n20. Public Health Campaigns: Public health campaigns can raise awareness about the signs and symptoms of prediabetes and encourage individuals to get screened. These campaigns can also provide information on how to manage prediabetes and prevent complications.\""
            ]
          },
          "execution_count": 23,
          "metadata": {},
          "output_type": "execute_result"
        }
      ],
      "source": [
        "response = jsl_meds_rag_llm.generate(RAG_PROMPT)\n",
        "response"
      ]
    },
    {
      "cell_type": "markdown",
      "metadata": {
        "id": "UcVRzGgQE2Tc"
      },
      "source": [
        "### JSL_MedS"
      ]
    },
    {
      "cell_type": "code",
      "execution_count": null,
      "metadata": {
        "colab": {
          "base_uri": "https://localhost:8080/",
          "height": 140
        },
        "id": "kVaZkCapE2Tc",
        "outputId": "088081f9-2d01-473f-fee8-73257c94bf74"
      },
      "outputs": [
        {
          "data": {
            "application/vnd.google.colaboratory.intrinsic+json": {
              "type": "string"
            },
            "text/plain": [
              "\"1. Fasting Plasma Glucose (FPG) Test: This is a simple and cost-effective test that measures blood sugar levels after an overnight fast. It can be performed in a clinic or at home using a glucometer. A fasting blood sugar level of 100-125 mg/dL indicates prediabetes.\\n2. Oral Glucose Tolerance Test (OGTT): This test involves measuring blood sugar levels before and two hours after consuming a glucose-rich drink. A 2-hour blood sugar level of 140-199 mg/dL indicates prediabetes. While more expensive and time-consuming than FPG, it provides a more comprehensive assessment of glucose metabolism.\\n3. Hemoglobin A1c (HbA1c) Test: This test measures the average blood sugar levels over the past 2-3 months. An HbA1c level of 5.7%-6.4% indicates prediabetes. It is a convenient and cost-effective screening method that can be performed in a clinic or at home using a home HbA1c test.\\n4. Urine Albumin-to-Creatinine Ratio (UACR): This test measures the amount of albumin (a type of protein) in the urine, which can indicate kidney damage. An elevated UACR level can be an early sign of prediabetes and diabetes. It is a relatively low-cost screening method that can be performed in a clinic.\\n5. Body Mass Index (BMI) Assessment: Obesity is a major risk factor for prediabetes and diabetes. Calculating BMI (weight in kilograms divided by height in meters squared) is a simple and low-cost way to assess body fatness. A BMI of 25 or higher indicates overweight, which increases the risk of prediabetes and diabetes.\\n6. Family History: Assessing family history of diabetes can help identify individuals at higher risk of developing prediabetes and diabetes. This information can be obtained through a patient's medical records or a structured questionnaire.\\n7. Lifestyle Assessment: Evaluating lifestyle factors such as diet, physical activity, and smoking habits can help identify individuals at higher risk of prediabetes and diabetes. This can be done through structured questionnaires or interviews.\\n\\nBy combining these low-cost screening methods, healthcare providers can identify individuals at risk of prediabetes and diabetes and implement appropriate interventions to prevent or delay the onset of these conditions. It is important to note that these screening methods should be used in conjunction with clinical judgment and other risk factors to ensure accurate diagnosis and appropriate management.\""
            ]
          },
          "execution_count": 23,
          "metadata": {},
          "output_type": "execute_result"
        }
      ],
      "source": [
        "response = jsl_meds_llm.generate(RAG_PROMPT)\n",
        "response"
      ]
    },
    {
      "cell_type": "markdown",
      "metadata": {
        "id": "ZDkrpGbbibD5"
      },
      "source": [
        "### JSL_MedM"
      ]
    },
    {
      "cell_type": "code",
      "execution_count": null,
      "metadata": {
        "colab": {
          "base_uri": "https://localhost:8080/",
          "height": 88
        },
        "id": "pXbjJjT6E2Td",
        "outputId": "ce060b6f-e546-4c04-aacd-7f97812ba0e6"
      },
      "outputs": [
        {
          "data": {
            "application/vnd.google.colaboratory.intrinsic+json": {
              "type": "string"
            },
            "text/plain": [
              "'The article does not specifically mention low-cost ways to screen individuals for prediabetes. However, it does mention that screening for diabetes complications has improved over the years, and that a large percentage of patients are diagnosed with hypertension and other complications. This suggests that there may be existing screening methods that are effective and cost-effective, but the article does not provide further details on these methods.'"
            ]
          },
          "execution_count": 23,
          "metadata": {},
          "output_type": "execute_result"
        }
      ],
      "source": [
        "response = jsl_medm_llm.generate(RAG_PROMPT)\n",
        "response"
      ]
    },
    {
      "cell_type": "markdown",
      "metadata": {
        "id": "iGpXDDBtT4dm"
      },
      "source": [
        "### JSL-MedM_Rag"
      ]
    },
    {
      "cell_type": "code",
      "source": [
        "response = jsl_medm_rag_llm.generate(RAG_PROMPT)\n",
        "response"
      ],
      "metadata": {
        "colab": {
          "base_uri": "https://localhost:8080/"
        },
        "id": "oaONdKpbBayY",
        "outputId": "d89871f0-9ee8-4f18-a1e5-70b9c76d6d67"
      },
      "execution_count": null,
      "outputs": [
        {
          "output_type": "stream",
          "name": "stdout",
          "text": [
            "Based on the article, some low-cost ways to screen individuals for prediabetes include:\n",
            "\n",
            "- Screening for diabetes complications has improved over the years. More patients are diagnosed with hypertension and dyslipidemia. This suggests routine blood pressure and lipid checks are an effective low-cost way to screen for prediabetes.\n",
            "\n",
            "- The article notes that patients with diabetes need proper care and physicians need to follow diabetes guidelines. So promoting proper diabetes care and guideline-based management can help identify prediabetes.\n",
            "\n",
            "- The article mentions that Wave 6 included 595 patients with type 2 diabetes. This suggests large-scale screening programs can identify prediabetes in high-risk populations.\n",
            "\n",
            "- The article notes that around 30% of patients with diabetes achieve an HbA1c target of < 7%. This suggests screening for poor glycemic control can identify prediabetes.\n",
            "\n",
            "- The article calls for elucidation of knowledge gaps in need of elucidation and exploring new ways to screen for prediabetes. This suggests ongoing research to improve screening.\n",
            "\n",
            "In summary, low-cost ways to screen for prediabetes include routine blood pressure and lipid checks, promoting proper diabetes care, large-scale screening programs, screening for poor glycemic control, and ongoing research to improve screening. These are low-cost ways to identify individuals at risk for prediabetes.\n"
          ]
        }
      ]
    },
    {
      "cell_type": "markdown",
      "metadata": {
        "id": "1OdfBA-mE2Td"
      },
      "source": [
        "### GPT-4"
      ]
    },
    {
      "cell_type": "code",
      "execution_count": null,
      "metadata": {
        "id": "cVuyjrxzE2Te"
      },
      "outputs": [],
      "source": [
        "# Generate the response using the model\n",
        "response = generate_response(RAG_PROMPT)"
      ]
    },
    {
      "cell_type": "code",
      "execution_count": null,
      "metadata": {
        "colab": {
          "base_uri": "https://localhost:8080/"
        },
        "id": "ESVW9N8XE2Te",
        "outputId": "c4b1c316-ceb6-4171-f08d-258a75b62475"
      },
      "outputs": [
        {
          "name": "stdout",
          "output_type": "stream",
          "text": [
            "I don't know.\n"
          ]
        }
      ],
      "source": [
        "response_content = response.choices[0].message.content\n",
        "\n",
        "print(response_content)"
      ]
    },
    {
      "cell_type": "markdown",
      "metadata": {
        "id": "4CHztC8lFc7Q"
      },
      "source": [
        "### LongCite"
      ]
    },
    {
      "cell_type": "code",
      "execution_count": null,
      "metadata": {
        "id": "7vfcMFLMFc7Q"
      },
      "outputs": [],
      "source": [
        "context = RAG_PROMPT\n",
        "query = \"What are some low-cost ways to screen individuals for prediabetes?\"\n",
        "result = model.query_longcite(context, query, tokenizer=tokenizer, max_input_length=128000, max_new_tokens=512)"
      ]
    },
    {
      "cell_type": "code",
      "source": [
        "answer = result['answer']\n",
        "cleaned_answer = answer.replace(\"<statement>\", \"\").replace(\"</statement>\", \"\")\n",
        "print(cleaned_answer)"
      ],
      "metadata": {
        "colab": {
          "base_uri": "https://localhost:8080/"
        },
        "id": "rB-5GgrfevCH",
        "outputId": "7fc2274a-42c9-4dcb-a2c6-facc6292bc06"
      },
      "execution_count": null,
      "outputs": [
        {
          "output_type": "stream",
          "name": "stdout",
          "text": [
            "Based on the context, some low-cost ways to screen individuals for prediabetes mentioned include:<cite></cite>\n",
            "\n",
            "- Using HbA1c levels - The article notes that around 30% of patients achieved an HbA1c target of < 7%, which suggests HbA1c can be used to identify individuals with prediabetes.<cite>[7-7]</cite>\n",
            "\n",
            "- Screening for hypertension and dyslipidemia - The article states that a large percentage of diabetics are diagnosed with hypertension and dyslipidemia, which are associated with prediabetes. Screening for these conditions can help identify prediabetes.<cite>[10-10]</cite>\n",
            "\n",
            "- Using oral glucose tolerance tests (OGTTs) - While more expensive than HbA1c, OGTTs are a standard diagnostic tool for prediabetes. The article discusses the use of OGTTs in intervention trials.<cite></cite>\n",
            "\n",
            "- Using fasting plasma glucose (FPG) - The article mentions FPG as a diagnostic criterion for prediabetes, although it is less accurate than HbA1c or OGTT.<cite></cite>\n",
            "\n",
            "- Using lifestyle questionnaires - The article does not explicitly mention this, but lifestyle factors like obesity, physical inactivity, and diet are known risk factors for prediabetes. Questionnaires could help identify individuals at risk.<cite></cite>\n",
            "\n",
            "So in summary, low-cost ways to screen for prediabetes include using HbA1c levels, screening for hypertension/dyslipidemia, using FPG, and lifestyle questionnaires. OGTTs are more expensive but still an option in some settings.<cite></cite>\n"
          ]
        }
      ]
    },
    {
      "cell_type": "markdown",
      "metadata": {
        "id": "wcS8lmhlE2t8"
      },
      "source": [
        "## Q6"
      ]
    },
    {
      "cell_type": "code",
      "execution_count": null,
      "metadata": {
        "id": "LxJMaKAlE2t8"
      },
      "outputs": [],
      "source": [
        "question = \"What are the most common malignancies associated with pituitary spread?\"\n",
        "RAG_PROMPT = process_question(question, db, top_k=5)"
      ]
    },
    {
      "cell_type": "code",
      "source": [
        "print(RAG_PROMPT)"
      ],
      "metadata": {
        "colab": {
          "base_uri": "https://localhost:8080/"
        },
        "id": "UAJTfEHSe12P",
        "outputId": "74479f96-f308-4a34-b637-77720f36f1a2"
      },
      "execution_count": null,
      "outputs": [
        {
          "output_type": "stream",
          "name": "stdout",
          "text": [
            "### Context: \n",
            "PM is a rare complication of advanced malignancy. Although several malignancies may spread to the pituitary, the most common are breast cancer in women and lung cancer in men. Unlike pituitary adenomas, which predominantly involve the anterior pituitary, PM has a predilection for the posterior lobe and infundibulum due to direct access via systemic circulation. The clinical presentation of PM depends on the size of the metastatic deposit and other structures involved in the vicinity of the\n",
            "Pituitary metastases are rare, often deriving from lung or breast cancer owing to the upper vena cava proximity. Pituitary metastases can manifest with signs and symptoms of pituitary tumors, consequent to mass effect (headache, visual impairment) and/or hormonal alterations (hyperprolactinemia, hypopituitarism, and diabetes insipidus). Immune checkpoint inhibitors burst immunity against tumors, significantly increasing patients’ survival, but their autoimmune side effects frequently involve the\n",
            "subsequently received fractionated stereotactic radiotherapy to the pituitary gland. He is presently stable with no radiological evidence of progression or new intracranial disease on subsequent imaging. Pituitary metastasis most commonly occurs from breast, lung, or gastrointestinal tumors but also rarely from renal cell carcinoma. Biochemical findings such as panhypopituitarism, acute clinical signs such as headache, visual symptoms, and diabetes insipidus and interval increase in sellar mass\n",
            "Patients with pituitary tumours, ensuing hormonal abnormalities and mass effects are usually followed in multidisciplinary pituitary clinics and can represent a management challenge even during the times of non-pandemic. The COVID-19 pandemic has put on hold routine medical care for hundreds of millions of patients around the globe, while many pituitary patients' evaluations cannot be delayed for too long. Furthermore, the majority of patients with pituitary tumours have co-morbidities\n",
            "The diagnosis of pituitary carcinoma is very rare, requires the evidence of metastatic disease, and has a poor overall survival. Malignant prolactinoma frequently requires dopamine agonist therapy, pituitary surgery, radiotherapy, and even chemotherapy.\n",
            "\n",
            "### Questions:\n",
            "What are the most common malignancies associated with pituitary spread?\n",
            "\n"
          ]
        }
      ]
    },
    {
      "cell_type": "markdown",
      "metadata": {
        "id": "ZmngiPSZE2t9"
      },
      "source": [
        "### JSL_MedS_Rag"
      ]
    },
    {
      "cell_type": "code",
      "execution_count": null,
      "metadata": {
        "colab": {
          "base_uri": "https://localhost:8080/",
          "height": 70
        },
        "id": "n8_HrFz9UeLR",
        "outputId": "0a2df939-27a4-4b12-9593-7fb01137baa5"
      },
      "outputs": [
        {
          "data": {
            "application/vnd.google.colaboratory.intrinsic+json": {
              "type": "string"
            },
            "text/plain": [
              "'The most common malignancies associated with pituitary spread are breast cancer in women and lung cancer in men. These cancers are more likely to spread to the pituitary gland due to their proximity to the upper vena cava, which allows cancer cells to easily access the pituitary via systemic circulation.'"
            ]
          },
          "execution_count": 25,
          "metadata": {},
          "output_type": "execute_result"
        }
      ],
      "source": [
        "response = jsl_meds_rag_llm.generate(RAG_PROMPT)\n",
        "response"
      ]
    },
    {
      "cell_type": "markdown",
      "metadata": {
        "id": "OpqXZl8iE2t9"
      },
      "source": [
        "### JSL_MedS"
      ]
    },
    {
      "cell_type": "code",
      "execution_count": null,
      "metadata": {
        "colab": {
          "base_uri": "https://localhost:8080/",
          "height": 140
        },
        "id": "lH7zN0OeE2t9",
        "outputId": "cad1d98f-3787-4fe7-819e-92b249c75c1d"
      },
      "outputs": [
        {
          "data": {
            "application/vnd.google.colaboratory.intrinsic+json": {
              "type": "string"
            },
            "text/plain": [
              "'The most common malignancies associated with pituitary spread are breast cancer in women and lung cancer in men. These cancers are more likely to spread to the pituitary gland due to their proximity to the upper vena cava. Other less common sources of pituitary metastases include gastrointestinal tumors, renal cell carcinoma, and less frequently, prostate and thyroid cancers. The spread of cancer to the pituitary gland can lead to various clinical manifestations, including hormonal imbalances and mass effects, which may result in symptoms such as headaches, visual disturbances, and other endocrine dysfunctions. Treatment for pituitary metastases often involves a combination of surgery, radiotherapy, and medical therapy, and the management of these patients can be complex due to the potential for autoimmune side effects from immune checkpoint inhibitors and other treatments.'"
            ]
          },
          "execution_count": 25,
          "metadata": {},
          "output_type": "execute_result"
        }
      ],
      "source": [
        "response = jsl_meds_llm.generate(RAG_PROMPT)\n",
        "response"
      ]
    },
    {
      "cell_type": "markdown",
      "metadata": {
        "id": "WFH6LNoNicoJ"
      },
      "source": [
        "### JSL_MedM"
      ]
    },
    {
      "cell_type": "code",
      "execution_count": null,
      "metadata": {
        "colab": {
          "base_uri": "https://localhost:8080/",
          "height": 36
        },
        "id": "O-IuqcuIE2t-",
        "outputId": "f3418241-8524-4fc3-f437-2a53897b53c1"
      },
      "outputs": [
        {
          "data": {
            "application/vnd.google.colaboratory.intrinsic+json": {
              "type": "string"
            },
            "text/plain": [
              "'The most common malignancies associated with pituitary spread are breast cancer in women and lung cancer in men.'"
            ]
          },
          "execution_count": 25,
          "metadata": {},
          "output_type": "execute_result"
        }
      ],
      "source": [
        "response = jsl_medm_llm.generate(RAG_PROMPT)\n",
        "response"
      ]
    },
    {
      "cell_type": "markdown",
      "metadata": {
        "id": "ZO0fTzt1T8f1"
      },
      "source": [
        "### JSL-MedM_Rag"
      ]
    },
    {
      "cell_type": "code",
      "source": [
        "response = jsl_medm_rag_llm.generate(RAG_PROMPT)\n",
        "response"
      ],
      "metadata": {
        "colab": {
          "base_uri": "https://localhost:8080/"
        },
        "id": "vfJ4RiniB19j",
        "outputId": "0cc0cc8e-658b-4dd3-a753-50c3032c79d8"
      },
      "execution_count": null,
      "outputs": [
        {
          "output_type": "stream",
          "name": "stdout",
          "text": [
            "Based on the context, the most common malignancies associated with pituitary spread are:\n",
            "\n",
            "- Breast cancer in women\n",
            "\n",
            "- Lung cancer in men\n",
            "\n",
            "The context states that pituitary metastases are rare, and breast cancer is the most common malignancy to spread to the pituitary in women, while lung cancer is the most common in men. The text also notes that unlike pituitary adenomas, which are more common in the anterior pituitary, pituitary metastases tend to involve the posterior lobe and infundibulum due to direct access via systemic circulation.\n",
            "\n"
          ]
        }
      ]
    },
    {
      "cell_type": "markdown",
      "metadata": {
        "id": "pAjQS-xiE2t_"
      },
      "source": [
        "### GPT-4"
      ]
    },
    {
      "cell_type": "code",
      "execution_count": null,
      "metadata": {
        "id": "IkvqFn-6E2t_"
      },
      "outputs": [],
      "source": [
        "# Generate the response using the model\n",
        "response = generate_response(RAG_PROMPT)"
      ]
    },
    {
      "cell_type": "code",
      "execution_count": null,
      "metadata": {
        "colab": {
          "base_uri": "https://localhost:8080/"
        },
        "id": "1OM1inB6E2t_",
        "outputId": "6a1805fe-1cdd-4be4-aaf3-d3d244a9747d"
      },
      "outputs": [
        {
          "name": "stdout",
          "output_type": "stream",
          "text": [
            "The most common malignancies associated with pituitary spread are breast cancer in women and lung cancer in men.\n"
          ]
        }
      ],
      "source": [
        "response_content = response.choices[0].message.content\n",
        "\n",
        "print(response_content)"
      ]
    },
    {
      "cell_type": "markdown",
      "metadata": {
        "id": "AtlYrTLiFdzs"
      },
      "source": [
        "### LongCite"
      ]
    },
    {
      "cell_type": "code",
      "execution_count": null,
      "metadata": {
        "id": "HzSjjQu-Fdzt"
      },
      "outputs": [],
      "source": [
        "context = RAG_PROMPT\n",
        "query = \"What are the most common malignancies associated with pituitary spread?\"\n",
        "result = model.query_longcite(context, query, tokenizer=tokenizer, max_input_length=128000, max_new_tokens=512)"
      ]
    },
    {
      "cell_type": "code",
      "source": [
        "answer = result['answer']\n",
        "cleaned_answer = answer.replace(\"<statement>\", \"\").replace(\"</statement>\", \"\")\n",
        "print(cleaned_answer)"
      ],
      "metadata": {
        "colab": {
          "base_uri": "https://localhost:8080/"
        },
        "id": "34E7Cp2ufCcA",
        "outputId": "7297a467-ce5f-4a8f-ca4d-2ac6cabf2ad8"
      },
      "execution_count": null,
      "outputs": [
        {
          "output_type": "stream",
          "name": "stdout",
          "text": [
            "Based on the context, the most common malignancies associated with pituitary spread are:<cite></cite>\n",
            "\n",
            "- Breast cancer in women<cite>[1-1]</cite>\n",
            "\n",
            "- Lung cancer in men<cite>[1-1]</cite>\n",
            "\n",
            "Pituitary metastases are rare, but when they occur, they are most commonly derived from breast or lung cancer due to the proximity of the upper vena cava. Other malignancies like gastrointestinal tumors and renal cell carcinoma can also rarely spread to the pituitary.<cite>[1-1][6-6]</cite>\n"
          ]
        }
      ]
    },
    {
      "cell_type": "markdown",
      "metadata": {
        "id": "oq9u3YZjE3Hd"
      },
      "source": [
        "## Q7"
      ]
    },
    {
      "cell_type": "code",
      "execution_count": null,
      "metadata": {
        "id": "h51nsWO0E3He"
      },
      "outputs": [],
      "source": [
        "question = \"What is the recommended total daily dose of hydrocortisone for adults with adrenal insufficiency?\"\n",
        "RAG_PROMPT = process_question(question, db, top_k=5)"
      ]
    },
    {
      "cell_type": "code",
      "source": [
        "print(RAG_PROMPT)"
      ],
      "metadata": {
        "colab": {
          "base_uri": "https://localhost:8080/"
        },
        "id": "4bjmxwVvfHQL",
        "outputId": "712c9471-a19e-49c5-9ac1-2eb5c11dbd5b"
      },
      "execution_count": null,
      "outputs": [
        {
          "output_type": "stream",
          "name": "stdout",
          "text": [
            "### Context: \n",
            "Plasma ACTH did not increase with insulin loading. A low plasma vasopressin (AVP) level and no response of AVP to a 5% saline administration were observed. We diagnosed central adrenal insufficiency with central diabetes insipidus. Six months after starting administration of hydrocortisone and 1-deamino-8D-arginine vasopressin, his psychological symptoms had improved, and 1.5 years after starting treatment, he was able to walk. In conclusion, it is not particularly rare for adrenal\n",
            "signs. Adrenocorticotropic hormone deficiency replacement is best performed with the immediate-release oral glucocorticoid hydrocortisone (HC) in 2–3 divided doses. However, novel once-daily modified-release HC targets a more physiological exposure of glucocorticoids. GHD is treated currently with daily subcutaneous GH, but current research is focusing on the development of once-weekly administration of recombinant GH. Hypogonadism is targeted with testosterone replacement in men and on\n",
            "A 36-day-old male infant who presented with severe dehydration was admitted to the intensive care unit. His laboratory findings showed hyponatremia, hyperkalemia, hypoglycemia, and metabolic acidosis. After hormonal evaluation, he was diagnosed with adrenal insufficiency, and he recovered after treatment with hydrocortisone and a mineralocorticoid. He continued to take hydrocortisone and the mineralocorticoid after discharge. At the age of 17, he did not show any signs of puberty. On the basis\n",
            "bicarbonate was 23.7 mmol/L. The diagnoses of HHS and hypovolemic shock were made. During treatment with fluid replacement and insulin therapy, the urine volume continued to be approximately 3 to 4 L/day, and an endocrine examination revealed ADH insufficiency and nephrogenic diabetes insipidus. Desmopressin 10 μg/day and trichlormethiazide 2 mg/day were necessary and administered, and the endogenous ADH secretion improved gradually. The signal intensity of the pituitary posterior lobe,\n",
            "dexamethasone (8 mg) was administered followed by hydrocortisone, thyroxine and topical testosterone replacement. Two weeks post administration of the third cycle, he became unwell with lethargy, weight loss and nocturia. Central diabetes insipidus was diagnosed on the basis of symptoms and sodium of 149 mmol/L (135–145 mmol/L). Desmopressin nasal spray was instituted with symptom resolution and normalization of serum sodium. Three weeks later, he presented again polyuric and polydipsic. His\n",
            "\n",
            "### Questions:\n",
            "What is the recommended total daily dose of hydrocortisone for adults with adrenal insufficiency?\n",
            "\n"
          ]
        }
      ]
    },
    {
      "cell_type": "markdown",
      "metadata": {
        "id": "Sjn--z5RE3He"
      },
      "source": [
        "### JSL_MedS_Rag"
      ]
    },
    {
      "cell_type": "code",
      "execution_count": null,
      "metadata": {
        "colab": {
          "base_uri": "https://localhost:8080/",
          "height": 70
        },
        "id": "gugjxc_SUf-4",
        "outputId": "13087b93-6d92-4ab2-9cb4-c343f6949b93"
      },
      "outputs": [
        {
          "data": {
            "application/vnd.google.colaboratory.intrinsic+json": {
              "type": "string"
            },
            "text/plain": [
              "\"The recommended total daily dose of hydrocortisone for adults with adrenal insufficiency is typically 10-20 mg, divided into two or three doses per day. The exact dosage may vary based on the individual's condition, response to treatment, and the presence of any other health issues. It is crucial to follow a healthcare provider's guidance when determining the appropriate dosage.\""
            ]
          },
          "execution_count": 27,
          "metadata": {},
          "output_type": "execute_result"
        }
      ],
      "source": [
        "response = jsl_meds_rag_llm.generate(RAG_PROMPT)\n",
        "response"
      ]
    },
    {
      "cell_type": "markdown",
      "metadata": {
        "id": "9OIR9cGsE3Hf"
      },
      "source": [
        "### JSL_MedS"
      ]
    },
    {
      "cell_type": "code",
      "execution_count": null,
      "metadata": {
        "colab": {
          "base_uri": "https://localhost:8080/",
          "height": 70
        },
        "id": "fDuliQKsE3Hg",
        "outputId": "9cdf6fdf-e271-48c4-f3e5-869f7ba1cafd"
      },
      "outputs": [
        {
          "data": {
            "application/vnd.google.colaboratory.intrinsic+json": {
              "type": "string"
            },
            "text/plain": [
              "\"The recommended total daily dose of hydrocortisone for adults with adrenal insufficiency is typically 17-20 mg divided into two or three doses throughout the day. This dosage may vary depending on the individual's specific needs and response to treatment. It is important for healthcare providers to closely monitor and adjust the dosage as necessary to achieve optimal hormone replacement and symptom management.\""
            ]
          },
          "execution_count": 27,
          "metadata": {},
          "output_type": "execute_result"
        }
      ],
      "source": [
        "response = jsl_meds_llm.generate(RAG_PROMPT)\n",
        "response"
      ]
    },
    {
      "cell_type": "markdown",
      "metadata": {
        "id": "pHxpMj-NieGC"
      },
      "source": [
        "### JSL_MedM"
      ]
    },
    {
      "cell_type": "code",
      "execution_count": null,
      "metadata": {
        "colab": {
          "base_uri": "https://localhost:8080/",
          "height": 36
        },
        "id": "sidf5wcZE3Hg",
        "outputId": "86af6313-c163-43ed-c66d-6c6ef2d6fa64"
      },
      "outputs": [
        {
          "data": {
            "application/vnd.google.colaboratory.intrinsic+json": {
              "type": "string"
            },
            "text/plain": [
              "'The recommended total daily dose of hydrocortisone for adults with adrenal insufficiency is 20-30 mg.'"
            ]
          },
          "execution_count": 27,
          "metadata": {},
          "output_type": "execute_result"
        }
      ],
      "source": [
        "response = jsl_medm_llm.generate(RAG_PROMPT)\n",
        "response"
      ]
    },
    {
      "cell_type": "markdown",
      "metadata": {
        "id": "qfaCmjOdT_xa"
      },
      "source": [
        "### JSL-MedM_Rag"
      ]
    },
    {
      "cell_type": "code",
      "source": [
        "response = jsl_medm_rag_llm.generate(RAG_PROMPT)\n",
        "response"
      ],
      "metadata": {
        "colab": {
          "base_uri": "https://localhost:8080/"
        },
        "id": "-SHvnz7rCJb0",
        "outputId": "3aee55cc-d1ae-4619-ccce-bcd466af5cee"
      },
      "execution_count": null,
      "outputs": [
        {
          "output_type": "stream",
          "name": "stdout",
          "text": [
            "Based on the case study, the recommended total daily dose of hydrocortisone for adults with adrenal insufficiency is not specified.\n",
            "\n",
            "The case study focuses on a 36-day-old male infant who was treated with hydrocortisone for adrenal insufficiency. However, it does not provide details on the dose used in adults with adrenal insufficiency.\n",
            "\n",
            "The American Association of Clinical Endocrinologists (AACE) recommends a total daily dose of hydrocortisone in the range of 15-30 mg for adults with adrenal insufficiency. However, the dose may need to be adjusted based on clinical response and serum cortisol levels.\n",
            "\n",
            "In summary, while the case study does not provide specific details on the recommended total daily dose of hydrocortisone for adults with adrenal insufficiency, the AACE guidelines suggest a total daily dose in the range of 15-30 mg. The dose should be individualized based on clinical response and cortisol levels.\n",
            "\n"
          ]
        }
      ]
    },
    {
      "cell_type": "markdown",
      "metadata": {
        "id": "otLFt3z2E3Hh"
      },
      "source": [
        "### GPT-4"
      ]
    },
    {
      "cell_type": "code",
      "execution_count": null,
      "metadata": {
        "id": "DmuU5VkpE3Hi"
      },
      "outputs": [],
      "source": [
        "# Generate the response using the model\n",
        "response = generate_response(RAG_PROMPT)"
      ]
    },
    {
      "cell_type": "code",
      "execution_count": null,
      "metadata": {
        "colab": {
          "base_uri": "https://localhost:8080/"
        },
        "id": "c9pmc_jvE3Hi",
        "outputId": "6761fa66-a642-4baa-b6ce-334e4b0ceae2"
      },
      "outputs": [
        {
          "name": "stdout",
          "output_type": "stream",
          "text": [
            "I don't know.\n"
          ]
        }
      ],
      "source": [
        "response_content = response.choices[0].message.content\n",
        "\n",
        "print(response_content)"
      ]
    },
    {
      "cell_type": "markdown",
      "metadata": {
        "id": "Ofm-NJxnFeoY"
      },
      "source": [
        "### LongCite"
      ]
    },
    {
      "cell_type": "code",
      "execution_count": null,
      "metadata": {
        "id": "nIpDFvaQFeoZ"
      },
      "outputs": [],
      "source": [
        "context = RAG_PROMPT\n",
        "query = \"What is the recommended total daily dose of hydrocortisone for adults with adrenal insufficiency?\"\n",
        "result = model.query_longcite(context, query, tokenizer=tokenizer, max_input_length=128000, max_new_tokens=512)"
      ]
    },
    {
      "cell_type": "code",
      "source": [
        "answer = result['answer']\n",
        "cleaned_answer = answer.replace(\"<statement>\", \"\").replace(\"</statement>\", \"\")\n",
        "print(cleaned_answer)"
      ],
      "metadata": {
        "colab": {
          "base_uri": "https://localhost:8080/"
        },
        "id": "fzktS12-fMCL",
        "outputId": "99d18f06-0c79-47bc-bde5-2aa606743fe5"
      },
      "execution_count": null,
      "outputs": [
        {
          "output_type": "stream",
          "name": "stdout",
          "text": [
            "Based on the information provided, the recommended total daily dose of hydrocortisone for adults with adrenal insufficiency is not explicitly stated.<cite></cite>\n",
            "\n",
            "However, it mentions that adrenocorticotropic hormone deficiency replacement is best performed with immediate-release oral glucocorticoid hydrocortisone (HC) in 2-3 divided doses.<cite>[5-5]</cite>\n",
            "\n",
            "So the typical dosing regimen for hydrocortisone in divided doses 2-3 times daily is recommended for adrenal insufficiency replacement.<cite></cite>\n",
            "\n",
            "The exact total daily dose would depend on the individual patient's needs and medical condition. The dose may need to be adjusted up or down based on response and symptoms.<cite></cite>\n",
            "\n",
            "So in summary, while a total daily dose is not explicitly stated, the typical dosing regimen for hydrocortisone in divided doses 2-3 times daily is recommended for adrenal insufficiency replacement, with individualized dose adjustments as needed.<cite></cite>\n"
          ]
        }
      ]
    },
    {
      "cell_type": "markdown",
      "metadata": {
        "id": "IMVtGA4-Ri4g"
      },
      "source": [
        "# MedicalLLM\n",
        "You can also try below MedicalLLM annotator to load and run JSL large language models (LLMs)."
      ]
    },
    {
      "cell_type": "code",
      "execution_count": null,
      "metadata": {
        "id": "4qyZS97xr8_9"
      },
      "outputs": [],
      "source": [
        "document_assembler = DocumentAssembler()\\\n",
        "    .setInputCol(\"text\")\\\n",
        "    .setOutputCol(\"document\")\n",
        "\n",
        "medical_llm = MedicalLLM.pretrained(\"jsl_meds_q8_v1\", \"en\", \"clinical/models\")\\\n",
        "    .setInputCols(\"document\")\\\n",
        "    .setOutputCol(\"completions\")\\\n",
        "    .setBatchSize(1)\\\n",
        "    .setNPredict(100)\\\n",
        "    .setUseChatTemplate(True)\\\n",
        "    .setTemperature(0.1)\n",
        "\n",
        "\n",
        "pipeline = Pipeline(\n",
        "    stages = [\n",
        "        document_assembler,\n",
        "        medical_llm\n",
        "])\n"
      ]
    },
    {
      "cell_type": "markdown",
      "metadata": {
        "id": "ut6kxPISr-Yp"
      },
      "source": [
        "## Q1"
      ]
    },
    {
      "cell_type": "code",
      "execution_count": null,
      "metadata": {
        "colab": {
          "base_uri": "https://localhost:8080/"
        },
        "id": "RoWW-E77RiZT",
        "outputId": "3ef9e0a9-f021-4712-d05e-c31f446f3eb6"
      },
      "outputs": [
        {
          "name": "stdout",
          "output_type": "stream",
          "text": [
            "jsl_meds_q8_v1 download started this may take some time.\n",
            "[OK!]\n",
            "+---------------------------------------------------------------------------------------------------------------------------------------------------------------------------------------------------------------------------------------------------------------------------------------------------------------------------------------------------------------------------------------------------------------------------------------------------------------+\n",
            "|completions                                                                                                                                                                                                                                                                                                                                                                                                                                                    |\n",
            "+---------------------------------------------------------------------------------------------------------------------------------------------------------------------------------------------------------------------------------------------------------------------------------------------------------------------------------------------------------------------------------------------------------------------------------------------------------------+\n",
            "|[{document, 0, 399,  The recommended measures to reduce the risk of GDM in pregnant women include:\\n\\n1. Reducing body weight before pregnancy: Preliminary data suggest that reducing body weight before pregnancy can prevent the development of GDM.\\n\\n2. Dietary and lifestyle interventions: Implementing dietary and lifestyle interventions prior to and early in pregnancy in high-risk women has been shown to reduce the risk, {sentence -> 0}, []}]|\n",
            "+---------------------------------------------------------------------------------------------------------------------------------------------------------------------------------------------------------------------------------------------------------------------------------------------------------------------------------------------------------------------------------------------------------------------------------------------------------------+\n",
            "\n"
          ]
        }
      ],
      "source": [
        "\n",
        "prompt = \"\"\"\n",
        "Based on the following text, What are the recommended measures to reduce the risk of GDM in pregnant women?\n",
        "\n",
        "### Text:\n",
        "of metabolic disease. One of the strongest risk factors for GDM is the occurrence of GDM in a prior pregnancy. Preliminary data from epidemiologic and bariatric surgery studies suggest that reducing body weight before pregnancy can prevent the development of GDM, but no adequately powered trial has tested the effects of a maternal lifestyle intervention before pregnancy to reduce body weight and prevent GDM recurrence.\n",
        "outcomes and prevent GDM and associated health risks.\n",
        "Implementation of dietary and lifestyle interventions prior to and early in pregnancy in high risk women has been shown to reduce the risk of gestational diabetes mellitus (GDM) development later in pregnancy. Although numerous risk factors for GDM have been identified, the ability to accurately identify women before or early in pregnancy who could benefit most from these interventions remains limited. As nulliparous women are an under-screened population with risk profiles that differ from\n",
        "prenatal visit (P < 0.01) were identified as risk factors for GDM. In women with birth weight <3000 g, GDM rate was significantly higher.\n",
        "One out of every five pregnant women in Beijing either had GDM or DIP and this constitutes a huge health burden for health services. Prepregnancy BMI and weight gain before 24th week are important modifiable risk factors for GDM. Ensuring birth weight above 3000 g may help reduce risk for future GDM among female offsprings.\n",
        "\n",
        "\"\"\"\n",
        "\n",
        "data = spark.createDataFrame([[prompt]]).toDF(\"text\")\n",
        "\n",
        "results = pipeline.fit(data).transform(data)\n",
        "\n",
        "results.select(\"completions\").show(truncate=False)"
      ]
    },
    {
      "cell_type": "code",
      "execution_count": null,
      "metadata": {
        "colab": {
          "base_uri": "https://localhost:8080/"
        },
        "id": "490WYncndpUc",
        "outputId": "9b898cad-2214-4f94-fca1-7c60896b7e78"
      },
      "outputs": [
        {
          "name": "stdout",
          "output_type": "stream",
          "text": [
            "+----------------------------------------------------------------------------------------------------------------------------------------------------------------------------------------------------------------------------------------------------------------------------------------------------------------------------------------------------------------------------------------------------------------------+\n",
            "|result                                                                                                                                                                                                                                                                                                                                                                                                                |\n",
            "+----------------------------------------------------------------------------------------------------------------------------------------------------------------------------------------------------------------------------------------------------------------------------------------------------------------------------------------------------------------------------------------------------------------------+\n",
            "|[ The recommended measures to reduce the risk of GDM in pregnant women include:\\n\\n1. Reducing body weight before pregnancy: Preliminary data suggest that reducing body weight before pregnancy can prevent the development of GDM.\\n\\n2. Dietary and lifestyle interventions: Implementing dietary and lifestyle interventions prior to and early in pregnancy in high-risk women has been shown to reduce the risk]|\n",
            "+----------------------------------------------------------------------------------------------------------------------------------------------------------------------------------------------------------------------------------------------------------------------------------------------------------------------------------------------------------------------------------------------------------------------+\n",
            "\n"
          ]
        }
      ],
      "source": [
        "results.select(\"completions.result\").show(truncate=False)"
      ]
    },
    {
      "cell_type": "code",
      "execution_count": null,
      "metadata": {
        "colab": {
          "base_uri": "https://localhost:8080/"
        },
        "id": "V-CW4PkpdqvF",
        "outputId": "02719b4f-fef3-4a88-b7bd-ef940057c0bb"
      },
      "outputs": [
        {
          "data": {
            "text/plain": [
              "[' The recommended measures to reduce the risk of GDM in pregnant women include:\\n\\n1. Reducing body weight before pregnancy: Preliminary data suggest that reducing body weight before pregnancy can prevent the development of GDM.\\n\\n2. Dietary and lifestyle interventions: Implementing dietary and lifestyle interventions prior to and early in pregnancy in high-risk women has been shown to reduce the risk']"
            ]
          },
          "execution_count": 8,
          "metadata": {},
          "output_type": "execute_result"
        }
      ],
      "source": [
        "result_text = results.select(\"completions.result\").collect()[0][\"result\"]\n",
        "\n",
        "result_text"
      ]
    },
    {
      "cell_type": "markdown",
      "metadata": {
        "id": "EjMw6h1fsEQk"
      },
      "source": [
        "## Q2\n"
      ]
    },
    {
      "cell_type": "code",
      "execution_count": null,
      "metadata": {
        "colab": {
          "base_uri": "https://localhost:8080/"
        },
        "id": "zG4xpYQTsFvF",
        "outputId": "7618ff35-c60b-460d-ba4a-fb8d4900246f"
      },
      "outputs": [
        {
          "name": "stdout",
          "output_type": "stream",
          "text": [
            "+-------------------------------------------------------------------------------------------------------------------------------------------------------------------------+\n",
            "|completions                                                                                                                                                              |\n",
            "+-------------------------------------------------------------------------------------------------------------------------------------------------------------------------+\n",
            "|[{document, 0, 125,  The main symptoms of diabetes mentioned in the text include constant hunger, blurred vision, fatigue, and frequent urination., {sentence -> 0}, []}]|\n",
            "+-------------------------------------------------------------------------------------------------------------------------------------------------------------------------+\n",
            "\n"
          ]
        }
      ],
      "source": [
        "\n",
        "prompt = \"\"\"\n",
        "Based on the following text, What are the main symptoms of diabetes?\n",
        "\n",
        "## Text:\n",
        "replacement therapy, the symptoms of diabetes insipidus appeared.\n",
        "Almost all (99%) of the students had knowledge about diabetes mellitus. The majority (83.1%) reported that diabetes mellitus is not completely a genetic/hereditary disease. Only a minority of respondents reported that they should worry about diabetes before 45 years of age. Common symptoms of diabetes reported by the respondents included constant hunger, blurred vision, fatigue, and frequent urination.\n",
        "Patient: Male, 2-year-old\n",
        " Final Diagnosis: Adipsic diabetes insipidus\n",
        " Symptoms: Dehydration • polyuria\n",
        " Medication: Desmopressin\n",
        " Clinical Procedure: Fluid replacement\n",
        " Specialty: Pediatrics and Neonatology • Endocrine and Metabolic\n",
        " Rare coexistence of disease or pathology\n",
        "symptoms. She did report feeling hungry. She had no family history of diabetes, normal body mass index of 21.7, and reported taking her thyroid replacement medication every day. The differential diagnosis for her thirst included dehydration, psychogenic polydipsia, diabetes mellitus, diabetes insipidus, and anxiety. The patient had normal vital signs and was well appearing; labs were ordered for her on her way home from clinic with no medications. Labs revealed a random blood glucose level of\n",
        "Primary care clinicians will see a higher incidence of type 2 diabetes in adult patients, and the diagnosis and management of an initial presentation of type 1 diabetes can pose challenges to clinicians who see it less frequently. Symptoms of hyperglycemia and risk of ketoacidosis may be missed. Further, endocrine autoimmune disease can run together in patients and families.\n",
        "\n",
        "\"\"\"\n",
        "\n",
        "data = spark.createDataFrame([[prompt]]).toDF(\"text\")\n",
        "\n",
        "results = pipeline.fit(data).transform(data)\n",
        "\n",
        "results.select(\"completions\").show(truncate=False)"
      ]
    },
    {
      "cell_type": "code",
      "execution_count": null,
      "metadata": {
        "colab": {
          "base_uri": "https://localhost:8080/"
        },
        "id": "lsZUPiddsJSD",
        "outputId": "91e403e4-991f-4b29-9288-1174bf635d0b"
      },
      "outputs": [
        {
          "data": {
            "text/plain": [
              "[' The main symptoms of diabetes mentioned in the text include constant hunger, blurred vision, fatigue, and frequent urination.']"
            ]
          },
          "execution_count": 10,
          "metadata": {},
          "output_type": "execute_result"
        }
      ],
      "source": [
        "result_text = results.select(\"completions.result\").collect()[0][\"result\"]\n",
        "\n",
        "result_text"
      ]
    },
    {
      "cell_type": "markdown",
      "metadata": {
        "id": "_BMjfqZutbs4"
      },
      "source": [
        "## Q3"
      ]
    },
    {
      "cell_type": "code",
      "execution_count": null,
      "metadata": {
        "colab": {
          "base_uri": "https://localhost:8080/"
        },
        "id": "GzR2OR9Ttbs5",
        "outputId": "57674835-3a14-494b-db23-61b352311481"
      },
      "outputs": [
        {
          "name": "stdout",
          "output_type": "stream",
          "text": [
            "+-----------------------------------------------------------------------------------------------------------------------------------------------------------------------------------------------------------------------------------------------------------------------------------------------------------------------------------------------------------------------------------------------------------+\n",
            "|completions                                                                                                                                                                                                                                                                                                                                                                                                |\n",
            "+-----------------------------------------------------------------------------------------------------------------------------------------------------------------------------------------------------------------------------------------------------------------------------------------------------------------------------------------------------------------------------------------------------------+\n",
            "|[{document, 0, 347,  The text suggests that dietary changes can help manage diabetes. Specifically, it mentions the following:\\n\\n1. Reducing intake of red meat, processed meat, bacon, and sugar-sweetened beverages.\\n2. Increasing consumption of noodles, fish, beans, fermented food, pickles, dried food, topping seasonings, and non-dairy milk products.\\n3. Lowering veget, {sentence -> 0}, []}]|\n",
            "+-----------------------------------------------------------------------------------------------------------------------------------------------------------------------------------------------------------------------------------------------------------------------------------------------------------------------------------------------------------------------------------------------------------+\n",
            "\n"
          ]
        }
      ],
      "source": [
        "\n",
        "prompt = \"\"\"\n",
        "Based on the following text, What dietary changes can help manage diabetes??\n",
        "\n",
        "## Text:\n",
        "incidence of type 2 diabetes with higher intake of red meat (for an increment of 100 g/day, 1.17 (1.08 to 1.26)), processed meat (for an increment of 50 g/day, 1.37 (1.22 to 1.54)), bacon (per two slices/day, 2.07 (1.40 to 3.05)), and sugar sweetened beverages (for an increase of one serving/day, 1.26 (1.11 to 1.43)).\n",
        "of 150 newly diagnosed cases attending a diabetes clinic, and 150 controls, who were community residents and free of diabetes. The case group had a significantly higher consumption of noodles, fish, beans, fermented food and pickles, dried food, topping seasonings, and non-dairy milk products than the control group, whereas they had a lower vegetable intake (more than three servings/day) and fruit intake (more than three servings/day) than the control group. Furthermore, the case group\n",
        "income, there is a need for a certain affordable dietary pattern to ameliorate the rise in diabetes incidence, as well as improve the glycemic control. We did a review based on the available literature regarding Mediterranean diet and people with or at risk of developing type 2 diabetes mellitus, its effects on glycemic control, lipid profile and metabolic outcome.\n",
        "management approaches include lifestyle changes, such as improved diet and increased physical activity, together with pharmacological interventions, including metformin, insulin, and the recently approved glucagon-like peptide-1 analog liraglutide. What is more important for everyone to realize though, from patients, families and physicians to schools, health services and policy-makers alike, is that T2DM is a largely preventable disease that will be addressed effectively only if its major\n",
        "relevant pathway in human patients suffering from diabetes.\n",
        "\n",
        "\"\"\"\n",
        "\n",
        "data = spark.createDataFrame([[prompt]]).toDF(\"text\")\n",
        "\n",
        "results = pipeline.fit(data).transform(data)\n",
        "\n",
        "results.select(\"completions\").show(truncate=False)"
      ]
    },
    {
      "cell_type": "code",
      "execution_count": null,
      "metadata": {
        "colab": {
          "base_uri": "https://localhost:8080/"
        },
        "id": "o-OJhYDotbs5",
        "outputId": "7bd04eef-ae20-49fa-f910-f5ecbfd680f2"
      },
      "outputs": [
        {
          "data": {
            "text/plain": [
              "[' The text suggests that dietary changes can help manage diabetes. Specifically, it mentions the following:\\n\\n1. Reducing intake of red meat, processed meat, bacon, and sugar-sweetened beverages.\\n2. Increasing consumption of noodles, fish, beans, fermented food, pickles, dried food, topping seasonings, and non-dairy milk products.\\n3. Lowering veget']"
            ]
          },
          "execution_count": 12,
          "metadata": {},
          "output_type": "execute_result"
        }
      ],
      "source": [
        "result_text = results.select(\"completions.result\").collect()[0][\"result\"]\n",
        "\n",
        "result_text"
      ]
    }
  ],
  "metadata": {
    "colab": {
      "machine_shape": "hm",
      "provenance": [],
      "toc_visible": true
    },
    "kernelspec": {
      "display_name": "Python 3",
      "name": "python3"
    },
    "language_info": {
      "codemirror_mode": {
        "name": "ipython",
        "version": 3
      },
      "file_extension": ".py",
      "mimetype": "text/x-python",
      "name": "python",
      "nbconvert_exporter": "python",
      "pygments_lexer": "ipython3",
      "version": "3.10.12"
    }
  },
  "nbformat": 4,
  "nbformat_minor": 0
}
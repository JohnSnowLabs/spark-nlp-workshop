{
 "cells": [
  {
   "cell_type": "markdown",
   "metadata": {
    "application/vnd.databricks.v1+cell": {
     "inputWidgets": {},
     "nuid": "9954f8f4-58ab-4c50-a6c9-f8fc5310d7c8",
     "showTitle": false,
     "title": ""
    }
   },
   "source": [
    "CPU with oneDNN \n",
    "- Install Spark NLP in your Databricks cluster\n",
    "    - In Libraries tab inside your cluster you need to follow these steps:\n",
    "    - Install New -> PyPI -> spark-nlp==4.1.0 -> Install\n",
    "    - Install New -> Maven -> Coordinates -> com.johnsnowlabs.nlp:spark-nlp_2.12:4.1.0 -> Install\n",
    "- Will add `TF_ENABLE_ONEDNN_OPTS=1` to `Cluster->Advacend Options->Spark->Environment variables` to enable oneDNN\n",
    "\n",
    "Databricks:\n",
    "* Runtime: `11.1 ML (includes Apache Spark 3.3.0, Scala 2.12)`\n",
    "* Cluster mode: `Single Node`\n",
    "* Specs: `m5n.8xlarge 128 GB Memory, 32 Cores`"
   ]
  },
  {
   "cell_type": "code",
   "execution_count": null,
   "metadata": {
    "application/vnd.databricks.v1+cell": {
     "inputWidgets": {},
     "nuid": "d4dbed57-24be-4ad4-9768-3e5e98384410",
     "showTitle": false,
     "title": ""
    }
   },
   "outputs": [],
   "source": [
    "imageNetDatasetSample = spark.read\\\n",
    "      .format(\"image\")\\\n",
    "      .option(\"dropInvalid\", value = True)\\\n",
    "      .load(\"dbfs:/maziyar/datasets/imagenet-mini-sample/\")"
   ]
  },
  {
   "cell_type": "code",
   "execution_count": null,
   "metadata": {
    "application/vnd.databricks.v1+cell": {
     "inputWidgets": {},
     "nuid": "579967ea-dfd0-4b1b-8b4f-f0c2d485c2db",
     "showTitle": false,
     "title": ""
    }
   },
   "outputs": [],
   "source": [
    "from sparknlp.annotator import *\n",
    "from sparknlp.base import *\n",
    "\n",
    "image_assembler = ImageAssembler() \\\n",
    "    .setInputCol(\"image\") \\\n",
    "    .setOutputCol(\"image_assembler\")\n",
    "\n",
    "imageClassifier = ViTForImageClassification \\\n",
    "    .pretrained(\"image_classifier_vit_base_patch16_224\") \\\n",
    "    .setInputCols(\"image_assembler\") \\\n",
    "    .setOutputCol(\"class\")"
   ]
  },
  {
   "cell_type": "code",
   "execution_count": null,
   "metadata": {
    "application/vnd.databricks.v1+cell": {
     "inputWidgets": {},
     "nuid": "f7a2b4cd-5af2-4a08-b1d1-c8fbe099f3e3",
     "showTitle": false,
     "title": ""
    }
   },
   "outputs": [
    {
     "data": {
      "text/plain": [
       "['turnstile', 'damselfly', 'mixing bowl', 'sea snake', 'cockroach, roach', 'buckle', 'beer glass', 'bulbul', 'lumbermill, sawmill', 'whippet']\n"
      ]
     },
     "metadata": {
      "application/vnd.databricks.v1+output": {
       "addedWidgets": {},
       "arguments": {},
       "data": "['turnstile', 'damselfly', 'mixing bowl', 'sea snake', 'cockroach, roach', 'buckle', 'beer glass', 'bulbul', 'lumbermill, sawmill', 'whippet']\n",
       "datasetInfos": [],
       "metadata": {},
       "removedWidgets": [],
       "type": "ansi"
      }
     },
     "output_type": "display_data"
    }
   ],
   "source": [
    "# print 10 randome classes/labels from this ViT model - it has 1000 classes in total\n",
    "print(imageClassifier.getClasses()[:10])"
   ]
  },
  {
   "cell_type": "code",
   "execution_count": null,
   "metadata": {
    "application/vnd.databricks.v1+cell": {
     "inputWidgets": {},
     "nuid": "703d34c7-ef79-46be-ab02-5a5f9276a651",
     "showTitle": false,
     "title": ""
    }
   },
   "outputs": [
    {
     "data": {
      "text/plain": [
       "took 143.796645 seconds to finish computing 3544 images with batch size 1\n",
       "took 130.303482 seconds to finish computing 3544 images with batch size 2\n",
       "took 112.507706 seconds to finish computing 3544 images with batch size 4\n",
       "took 114.606424 seconds to finish computing 3544 images with batch size 8\n",
       "took 110.915875 seconds to finish computing 3544 images with batch size 16\n",
       "took 117.404970 seconds to finish computing 3544 images with batch size 32\n",
       "took 116.658057 seconds to finish computing 3544 images with batch size 64\n",
       "took 116.817913 seconds to finish computing 3544 images with batch size 128\n"
      ]
     },
     "metadata": {
      "application/vnd.databricks.v1+output": {
       "addedWidgets": {},
       "arguments": {},
       "data": "took 143.796645 seconds to finish computing 3544 images with batch size 1\ntook 130.303482 seconds to finish computing 3544 images with batch size 2\ntook 112.507706 seconds to finish computing 3544 images with batch size 4\ntook 114.606424 seconds to finish computing 3544 images with batch size 8\ntook 110.915875 seconds to finish computing 3544 images with batch size 16\ntook 117.404970 seconds to finish computing 3544 images with batch size 32\ntook 116.658057 seconds to finish computing 3544 images with batch size 64\ntook 116.817913 seconds to finish computing 3544 images with batch size 128\n",
       "datasetInfos": [],
       "metadata": {},
       "removedWidgets": [],
       "type": "ansi"
      }
     },
     "output_type": "display_data"
    }
   ],
   "source": [
    "from timeit import default_timer as timer\n",
    "\n",
    "for b in [1, 2, 4, 8, 16, 32, 64, 128]:\n",
    "    imageClassifier.setBatchSize(b)\n",
    "\n",
    "    pipeline = Pipeline(stages=[\n",
    "      image_assembler,\n",
    "      imageClassifier,\n",
    "    ])\n",
    "\n",
    "    model = pipeline.fit(imageNetDatasetSample)\n",
    "    pipelineDF = model.transform(imageNetDatasetSample)\n",
    "\n",
    "    start = timer()\n",
    "    total_count = pipelineDF.select(\"class.result\").count()\n",
    "    end = timer() - start\n",
    "    print(f'took {end} seconds to finish computing {total_count} images with batch size {imageClassifier.getBatchSize()}')"
   ]
  },
  {
   "cell_type": "markdown",
   "metadata": {
    "application/vnd.databricks.v1+cell": {
     "inputWidgets": {},
     "nuid": "2fe0ae62-939b-49d6-9227-101eea00f721",
     "showTitle": false,
     "title": ""
    }
   },
   "source": [
    "### Larger Dataset on CPU \n",
    "with oneDNN enabled"
   ]
  },
  {
   "cell_type": "code",
   "execution_count": null,
   "metadata": {
    "application/vnd.databricks.v1+cell": {
     "inputWidgets": {},
     "nuid": "31956e11-0ef6-47a0-aeea-41965c8b103b",
     "showTitle": false,
     "title": ""
    }
   },
   "outputs": [],
   "source": [
    "imageNetDataset = spark.read\\\n",
    "      .format(\"image\")\\\n",
    "      .option(\"dropInvalid\", value = True)\\\n",
    "      .load(\"dbfs:/maziyar/datasets/imagenet-mini/\")"
   ]
  },
  {
   "cell_type": "code",
   "execution_count": null,
   "metadata": {
    "application/vnd.databricks.v1+cell": {
     "inputWidgets": {},
     "nuid": "9fe325ea-3e90-43db-866c-03e5a9e62e76",
     "showTitle": false,
     "title": ""
    }
   },
   "outputs": [
    {
     "data": {
      "text/plain": [
       "took 1071.917992 seconds to finish computing 34742 images with batch size 16\n"
      ]
     },
     "metadata": {
      "application/vnd.databricks.v1+output": {
       "addedWidgets": {},
       "arguments": {},
       "data": "took 1071.917992 seconds to finish computing 34742 images with batch size 16\n",
       "datasetInfos": [],
       "metadata": {},
       "removedWidgets": [],
       "type": "ansi"
      }
     },
     "output_type": "display_data"
    }
   ],
   "source": [
    "from timeit import default_timer as timer\n",
    "\n",
    "imageClassifier.setBatchSize(16)\n",
    "\n",
    "pipeline = Pipeline(stages=[\n",
    "  image_assembler,\n",
    "  imageClassifier,\n",
    "])\n",
    "\n",
    "model = pipeline.fit(imageNetDataset)\n",
    "pipelineDF = model.transform(imageNetDataset)\n",
    "\n",
    "start = timer()\n",
    "total_count = pipelineDF.select(\"class.result\").count()\n",
    "end = timer() - start\n",
    "print(f'took {end} seconds to finish computing {total_count} images with batch size {imageClassifier.getBatchSize()}')"
   ]
  },
  {
   "cell_type": "code",
   "execution_count": null,
   "metadata": {
    "application/vnd.databricks.v1+cell": {
     "inputWidgets": {},
     "nuid": "c9f64f5b-c27d-48dd-a845-c2f47d216428",
     "showTitle": false,
     "title": ""
    }
   },
   "outputs": [
    {
     "data": {
      "text/plain": [
       "Architecture:                    x86_64\n",
       "CPU op-mode(s):                  32-bit, 64-bit\n",
       "Byte Order:                      Little Endian\n",
       "Address sizes:                   46 bits physical, 48 bits virtual\n",
       "CPU(s):                          32\n",
       "On-line CPU(s) list:             0-31\n",
       "Thread(s) per core:              2\n",
       "Core(s) per socket:              16\n",
       "Socket(s):                       1\n",
       "NUMA node(s):                    1\n",
       "Vendor ID:                       GenuineIntel\n",
       "CPU family:                      6\n",
       "Model:                           85\n",
       "Model name:                      Intel(R) Xeon(R) Platinum 8259CL CPU @ 2.50GHz\n",
       "Stepping:                        7\n",
       "CPU MHz:                         3110.696\n",
       "BogoMIPS:                        4999.98\n",
       "Hypervisor vendor:               KVM\n",
       "Virtualization type:             full\n",
       "L1d cache:                       512 KiB\n",
       "L1i cache:                       512 KiB\n",
       "L2 cache:                        16 MiB\n",
       "L3 cache:                        35.8 MiB\n",
       "NUMA node0 CPU(s):               0-31\n",
       "Vulnerability Itlb multihit:     KVM: Vulnerable\n",
       "Vulnerability L1tf:              Mitigation; PTE Inversion\n",
       "Vulnerability Mds:               Vulnerable: Clear CPU buffers attempted, no microcode; SMT Host state unknown\n",
       "Vulnerability Meltdown:          Mitigation; PTI\n",
       "Vulnerability Mmio stale data:   Vulnerable: Clear CPU buffers attempted, no microcode; SMT Host state unknown\n",
       "Vulnerability Spec store bypass: Vulnerable\n",
       "Vulnerability Spectre v1:        Mitigation; usercopy/swapgs barriers and __user pointer sanitization\n",
       "Vulnerability Spectre v2:        Mitigation; Retpolines, STIBP disabled, RSB filling\n",
       "Vulnerability Srbds:             Not affected\n",
       "Vulnerability Tsx async abort:   Not affected\n",
       "Flags:                           fpu vme de pse tsc msr pae mce cx8 apic sep mtrr pge mca cmov pat pse36 clflush mmx fxsr sse sse2 ss ht syscall nx pdpe1gb rdtscp lm constant_tsc rep_good nopl xtopology nonstop_tsc cpuid aperfmperf tsc_known_freq pni pclmulqdq ssse3 fma cx16 pcid sse4_1 sse4_2 x2apic movbe popcnt tsc_deadline_timer aes xsave avx f16c rdrand hypervisor lahf_lm abm 3dnowprefetch invpcid_single pti fsgsbase tsc_adjust bmi1 avx2 smep bmi2 erms invpcid mpx avx512f avx512dq rdseed adx smap clflushopt clwb avx512cd avx512bw avx512vl xsaveopt xsavec xgetbv1 xsaves ida arat pku ospke avx512_vnni\n",
       "              total        used        free      shared  buff/cache   available\n",
       "Mem:          119Gi       8.3Gi       108Gi       2.0Mi       2.8Gi       111Gi\n",
       "Swap:           9Gi          0B         9Gi\n",
       "/bin/bash: line 2: nvidia-smi: command not found\n"
      ]
     },
     "metadata": {
      "application/vnd.databricks.v1+output": {
       "addedWidgets": {},
       "arguments": {},
       "data": "Architecture:                    x86_64\nCPU op-mode(s):                  32-bit, 64-bit\nByte Order:                      Little Endian\nAddress sizes:                   46 bits physical, 48 bits virtual\nCPU(s):                          32\nOn-line CPU(s) list:             0-31\nThread(s) per core:              2\nCore(s) per socket:              16\nSocket(s):                       1\nNUMA node(s):                    1\nVendor ID:                       GenuineIntel\nCPU family:                      6\nModel:                           85\nModel name:                      Intel(R) Xeon(R) Platinum 8259CL CPU @ 2.50GHz\nStepping:                        7\nCPU MHz:                         3110.696\nBogoMIPS:                        4999.98\nHypervisor vendor:               KVM\nVirtualization type:             full\nL1d cache:                       512 KiB\nL1i cache:                       512 KiB\nL2 cache:                        16 MiB\nL3 cache:                        35.8 MiB\nNUMA node0 CPU(s):               0-31\nVulnerability Itlb multihit:     KVM: Vulnerable\nVulnerability L1tf:              Mitigation; PTE Inversion\nVulnerability Mds:               Vulnerable: Clear CPU buffers attempted, no microcode; SMT Host state unknown\nVulnerability Meltdown:          Mitigation; PTI\nVulnerability Mmio stale data:   Vulnerable: Clear CPU buffers attempted, no microcode; SMT Host state unknown\nVulnerability Spec store bypass: Vulnerable\nVulnerability Spectre v1:        Mitigation; usercopy/swapgs barriers and __user pointer sanitization\nVulnerability Spectre v2:        Mitigation; Retpolines, STIBP disabled, RSB filling\nVulnerability Srbds:             Not affected\nVulnerability Tsx async abort:   Not affected\nFlags:                           fpu vme de pse tsc msr pae mce cx8 apic sep mtrr pge mca cmov pat pse36 clflush mmx fxsr sse sse2 ss ht syscall nx pdpe1gb rdtscp lm constant_tsc rep_good nopl xtopology nonstop_tsc cpuid aperfmperf tsc_known_freq pni pclmulqdq ssse3 fma cx16 pcid sse4_1 sse4_2 x2apic movbe popcnt tsc_deadline_timer aes xsave avx f16c rdrand hypervisor lahf_lm abm 3dnowprefetch invpcid_single pti fsgsbase tsc_adjust bmi1 avx2 smep bmi2 erms invpcid mpx avx512f avx512dq rdseed adx smap clflushopt clwb avx512cd avx512bw avx512vl xsaveopt xsavec xgetbv1 xsaves ida arat pku ospke avx512_vnni\n              total        used        free      shared  buff/cache   available\nMem:          119Gi       8.3Gi       108Gi       2.0Mi       2.8Gi       111Gi\nSwap:           9Gi          0B         9Gi\n/bin/bash: line 2: nvidia-smi: command not found\n",
       "datasetInfos": [],
       "metadata": {},
       "removedWidgets": [],
       "type": "ansi"
      }
     },
     "output_type": "display_data"
    }
   ],
   "source": [
    "%sh\n",
    "lscpu\n",
    "free -h\n",
    "nvidia-smi"
   ]
  },
  {
   "cell_type": "markdown",
   "metadata": {
    "application/vnd.databricks.v1+cell": {
     "inputWidgets": {},
     "nuid": "01c8bc9b-d60a-43de-ae61-2c7b52620056",
     "showTitle": false,
     "title": ""
    }
   },
   "source": [
    "## GPU \n",
    "- Install Spark NLP in your Databricks cluster\n",
    "    - In Libraries tab inside your cluster you need to follow these steps:\n",
    "    - Install New -> PyPI -> spark-nlp==4.1.0 -> Install\n",
    "    - Install New -> Maven -> Coordinates -> com.johnsnowlabs.nlp:spark-nlp-gpu_2.12:4.1.0 -> Install\n",
    "\n",
    "Databricks:\n",
    "* Runtime: `11.1 ML (includes Apache Spark 3.3.0, GPU, Scala 2.12)`\n",
    "* Cluster mode: `Single Node`\n",
    "* Specs: `g4dn.8xlarge 128 GB Memory, 1 GPU`"
   ]
  },
  {
   "cell_type": "code",
   "execution_count": null,
   "metadata": {
    "application/vnd.databricks.v1+cell": {
     "inputWidgets": {},
     "nuid": "0970cefe-14ab-45fd-b722-7a11ec8893ba",
     "showTitle": false,
     "title": ""
    }
   },
   "outputs": [
    {
     "data": {
      "text/plain": [
       "took 65.660726 seconds to finish computing 3544 images with batch size 4\n",
       "took 47.099872 seconds to finish computing 3544 images with batch size 8\n",
       "took 54.175194 seconds to finish computing 3544 images with batch size 16\n",
       "took 55.870537 seconds to finish computing 3544 images with batch size 32\n",
       "took 68.032822 seconds to finish computing 3544 images with batch size 64\n",
       "took 53.325992 seconds to finish computing 3544 images with batch size 128\n",
       "took 53.692435 seconds to finish computing 3544 images with batch size 256\n",
       "took 57.822982 seconds to finish computing 3544 images with batch size 512\n",
       "took 54.753315 seconds to finish computing 3544 images with batch size 1024\n"
      ]
     },
     "metadata": {
      "application/vnd.databricks.v1+output": {
       "addedWidgets": {},
       "arguments": {},
       "data": "took 65.660726 seconds to finish computing 3544 images with batch size 4\ntook 47.099872 seconds to finish computing 3544 images with batch size 8\ntook 54.175194 seconds to finish computing 3544 images with batch size 16\ntook 55.870537 seconds to finish computing 3544 images with batch size 32\ntook 68.032822 seconds to finish computing 3544 images with batch size 64\ntook 53.325992 seconds to finish computing 3544 images with batch size 128\ntook 53.692435 seconds to finish computing 3544 images with batch size 256\ntook 57.822982 seconds to finish computing 3544 images with batch size 512\ntook 54.753315 seconds to finish computing 3544 images with batch size 1024\n",
       "datasetInfos": [],
       "metadata": {},
       "removedWidgets": [],
       "type": "ansi"
      }
     },
     "output_type": "display_data"
    }
   ],
   "source": [
    "from sparknlp.annotator import *\n",
    "from sparknlp.base import *\n",
    "from timeit import default_timer as timer\n",
    "\n",
    "imageNetDatasetSample = spark.read\\\n",
    "      .format(\"image\")\\\n",
    "      .option(\"dropInvalid\", value = True)\\\n",
    "      .load(\"dbfs:/maziyar/datasets/imagenet-mini-sample/\")\n",
    "\n",
    "image_assembler = ImageAssembler() \\\n",
    "    .setInputCol(\"image\") \\\n",
    "    .setOutputCol(\"image_assembler\")\n",
    "\n",
    "imageClassifier = ViTForImageClassification \\\n",
    "    .pretrained(\"image_classifier_vit_base_patch16_224\") \\\n",
    "    .setInputCols(\"image_assembler\") \\\n",
    "    .setOutputCol(\"class\")\n",
    "\n",
    "for b in [4, 8, 16, 32, 64, 128, 256, 512, 1024]:\n",
    "    imageClassifier.setBatchSize(b)\n",
    "\n",
    "    pipeline = Pipeline(stages=[\n",
    "      image_assembler,\n",
    "      imageClassifier,\n",
    "    ])\n",
    "\n",
    "    model = pipeline.fit(imageNetDatasetSample)\n",
    "    pipelineDF = model.transform(imageNetDatasetSample)\n",
    "\n",
    "    start = timer()\n",
    "    total_count = pipelineDF.select(\"class.result\").count()\n",
    "    end = timer() - start\n",
    "    print(f'took {end:2f} seconds to finish computing {total_count} images with batch size {imageClassifier.getBatchSize()}')"
   ]
  },
  {
   "cell_type": "markdown",
   "metadata": {
    "application/vnd.databricks.v1+cell": {
     "inputWidgets": {},
     "nuid": "706fb621-9ef3-4f5b-8aea-eb93056ef164",
     "showTitle": false,
     "title": ""
    }
   },
   "source": [
    "### Larger Dataset on GPU"
   ]
  },
  {
   "cell_type": "code",
   "execution_count": null,
   "metadata": {
    "application/vnd.databricks.v1+cell": {
     "inputWidgets": {},
     "nuid": "cdd2e688-cb11-4038-b5e4-0d6b24a87603",
     "showTitle": false,
     "title": ""
    }
   },
   "outputs": [],
   "source": [
    "imageNetDataset = spark.read\\\n",
    "      .format(\"image\")\\\n",
    "      .option(\"dropInvalid\", value = True)\\\n",
    "      .load(\"dbfs:/maziyar/datasets/imagenet-mini/\")"
   ]
  },
  {
   "cell_type": "code",
   "execution_count": null,
   "metadata": {
    "application/vnd.databricks.v1+cell": {
     "inputWidgets": {},
     "nuid": "63802b7f-f783-4f9e-9551-ce597e0a8992",
     "showTitle": false,
     "title": ""
    }
   },
   "outputs": [
    {
     "data": {
      "text/plain": [
       "took 435.000940 seconds to finish computing 34742 images with batch size 8\n"
      ]
     },
     "metadata": {
      "application/vnd.databricks.v1+output": {
       "addedWidgets": {},
       "arguments": {},
       "data": "took 435.000940 seconds to finish computing 34742 images with batch size 8\n",
       "datasetInfos": [],
       "metadata": {},
       "removedWidgets": [],
       "type": "ansi"
      }
     },
     "output_type": "display_data"
    }
   ],
   "source": [
    "imageClassifier.setBatchSize(8)\n",
    "\n",
    "pipeline = Pipeline(stages=[\n",
    "  image_assembler,\n",
    "  imageClassifier,\n",
    "])\n",
    "\n",
    "model = pipeline.fit(imageNetDataset)\n",
    "pipelineDF = model.transform(imageNetDataset)\n",
    "\n",
    "start = timer()\n",
    "total_count = pipelineDF.select(\"class.result\").count()\n",
    "end = timer() - start\n",
    "print(f'took {end:2f} seconds to finish computing {total_count} images with batch size {imageClassifier.getBatchSize()}')"
   ]
  },
  {
   "cell_type": "code",
   "execution_count": null,
   "metadata": {
    "application/vnd.databricks.v1+cell": {
     "inputWidgets": {},
     "nuid": "cabdff49-7b38-4d93-8fda-1239c0830bd2",
     "showTitle": false,
     "title": ""
    }
   },
   "outputs": [
    {
     "data": {
      "text/plain": [
       "Architecture:                    x86_64\n",
       "CPU op-mode(s):                  32-bit, 64-bit\n",
       "Byte Order:                      Little Endian\n",
       "Address sizes:                   46 bits physical, 48 bits virtual\n",
       "CPU(s):                          32\n",
       "On-line CPU(s) list:             0-31\n",
       "Thread(s) per core:              2\n",
       "Core(s) per socket:              16\n",
       "Socket(s):                       1\n",
       "NUMA node(s):                    1\n",
       "Vendor ID:                       GenuineIntel\n",
       "CPU family:                      6\n",
       "Model:                           85\n",
       "Model name:                      Intel(R) Xeon(R) Platinum 8259CL CPU @ 2.50GHz\n",
       "Stepping:                        7\n",
       "CPU MHz:                         3100.771\n",
       "BogoMIPS:                        4999.99\n",
       "Hypervisor vendor:               KVM\n",
       "Virtualization type:             full\n",
       "L1d cache:                       512 KiB\n",
       "L1i cache:                       512 KiB\n",
       "L2 cache:                        16 MiB\n",
       "L3 cache:                        35.8 MiB\n",
       "NUMA node0 CPU(s):               0-31\n",
       "Vulnerability Itlb multihit:     KVM: Vulnerable\n",
       "Vulnerability L1tf:              Mitigation; PTE Inversion\n",
       "Vulnerability Mds:               Vulnerable: Clear CPU buffers attempted, no microcode; SMT Host state unknown\n",
       "Vulnerability Meltdown:          Mitigation; PTI\n",
       "Vulnerability Mmio stale data:   Vulnerable: Clear CPU buffers attempted, no microcode; SMT Host state unknown\n",
       "Vulnerability Spec store bypass: Vulnerable\n",
       "Vulnerability Spectre v1:        Mitigation; usercopy/swapgs barriers and __user pointer sanitization\n",
       "Vulnerability Spectre v2:        Mitigation; Retpolines, STIBP disabled, RSB filling\n",
       "Vulnerability Srbds:             Not affected\n",
       "Vulnerability Tsx async abort:   Not affected\n",
       "Flags:                           fpu vme de pse tsc msr pae mce cx8 apic sep mtrr pge mca cmov pat pse36 clflush mmx fxsr sse sse2 ss ht syscall nx pdpe1gb rdtscp lm constant_tsc rep_good nopl xtopology nonstop_tsc cpuid aperfmperf tsc_known_freq pni pclmulqdq ssse3 fma cx16 pcid sse4_1 sse4_2 x2apic movbe popcnt tsc_deadline_timer aes xsave avx f16c rdrand hypervisor lahf_lm abm 3dnowprefetch invpcid_single pti fsgsbase tsc_adjust bmi1 avx2 smep bmi2 erms invpcid mpx avx512f avx512dq rdseed adx smap clflushopt clwb avx512cd avx512bw avx512vl xsaveopt xsavec xgetbv1 xsaves ida arat pku ospke avx512_vnni\n",
       "              total        used        free      shared  buff/cache   available\n",
       "Mem:          119Gi        73Gi        39Gi       525Mi       6.0Gi        45Gi\n",
       "Swap:           9Gi          0B         9Gi\n",
       "Thu Aug 11 20:39:17 2022       \n",
       "+-----------------------------------------------------------------------------+\n",
       "| NVIDIA-SMI 470.103.01   Driver Version: 470.103.01   CUDA Version: 11.4     |\n",
       "|-------------------------------+----------------------+----------------------+\n",
       "| GPU  Name        Persistence-M| Bus-Id        Disp.A | Volatile Uncorr. ECC |\n",
       "| Fan  Temp  Perf  Pwr:Usage/Cap|         Memory-Usage | GPU-Util  Compute M. |\n",
       "|                               |                      |               MIG M. |\n",
       "|===============================+======================+======================|\n",
       "|   0  Tesla T4            Off  | 00000000:00:1E.0 Off |                    0 |\n",
       "| N/A   71C    P0    37W /  70W |   4906MiB / 15109MiB |      0%      Default |\n",
       "|                               |                      |                  N/A |\n",
       "+-------------------------------+----------------------+----------------------+\n",
       "                                                                               \n",
       "+-----------------------------------------------------------------------------+\n",
       "| Processes:                                                                  |\n",
       "|  GPU   GI   CI        PID   Type   Process name                  GPU Memory |\n",
       "|        ID   ID                                                   Usage      |\n",
       "|=============================================================================|\n",
       "+-----------------------------------------------------------------------------+\n"
      ]
     },
     "metadata": {
      "application/vnd.databricks.v1+output": {
       "addedWidgets": {},
       "arguments": {},
       "data": "Architecture:                    x86_64\nCPU op-mode(s):                  32-bit, 64-bit\nByte Order:                      Little Endian\nAddress sizes:                   46 bits physical, 48 bits virtual\nCPU(s):                          32\nOn-line CPU(s) list:             0-31\nThread(s) per core:              2\nCore(s) per socket:              16\nSocket(s):                       1\nNUMA node(s):                    1\nVendor ID:                       GenuineIntel\nCPU family:                      6\nModel:                           85\nModel name:                      Intel(R) Xeon(R) Platinum 8259CL CPU @ 2.50GHz\nStepping:                        7\nCPU MHz:                         3100.771\nBogoMIPS:                        4999.99\nHypervisor vendor:               KVM\nVirtualization type:             full\nL1d cache:                       512 KiB\nL1i cache:                       512 KiB\nL2 cache:                        16 MiB\nL3 cache:                        35.8 MiB\nNUMA node0 CPU(s):               0-31\nVulnerability Itlb multihit:     KVM: Vulnerable\nVulnerability L1tf:              Mitigation; PTE Inversion\nVulnerability Mds:               Vulnerable: Clear CPU buffers attempted, no microcode; SMT Host state unknown\nVulnerability Meltdown:          Mitigation; PTI\nVulnerability Mmio stale data:   Vulnerable: Clear CPU buffers attempted, no microcode; SMT Host state unknown\nVulnerability Spec store bypass: Vulnerable\nVulnerability Spectre v1:        Mitigation; usercopy/swapgs barriers and __user pointer sanitization\nVulnerability Spectre v2:        Mitigation; Retpolines, STIBP disabled, RSB filling\nVulnerability Srbds:             Not affected\nVulnerability Tsx async abort:   Not affected\nFlags:                           fpu vme de pse tsc msr pae mce cx8 apic sep mtrr pge mca cmov pat pse36 clflush mmx fxsr sse sse2 ss ht syscall nx pdpe1gb rdtscp lm constant_tsc rep_good nopl xtopology nonstop_tsc cpuid aperfmperf tsc_known_freq pni pclmulqdq ssse3 fma cx16 pcid sse4_1 sse4_2 x2apic movbe popcnt tsc_deadline_timer aes xsave avx f16c rdrand hypervisor lahf_lm abm 3dnowprefetch invpcid_single pti fsgsbase tsc_adjust bmi1 avx2 smep bmi2 erms invpcid mpx avx512f avx512dq rdseed adx smap clflushopt clwb avx512cd avx512bw avx512vl xsaveopt xsavec xgetbv1 xsaves ida arat pku ospke avx512_vnni\n              total        used        free      shared  buff/cache   available\nMem:          119Gi        73Gi        39Gi       525Mi       6.0Gi        45Gi\nSwap:           9Gi          0B         9Gi\nThu Aug 11 20:39:17 2022       \n+-----------------------------------------------------------------------------+\n| NVIDIA-SMI 470.103.01   Driver Version: 470.103.01   CUDA Version: 11.4     |\n|-------------------------------+----------------------+----------------------+\n| GPU  Name        Persistence-M| Bus-Id        Disp.A | Volatile Uncorr. ECC |\n| Fan  Temp  Perf  Pwr:Usage/Cap|         Memory-Usage | GPU-Util  Compute M. |\n|                               |                      |               MIG M. |\n|===============================+======================+======================|\n|   0  Tesla T4            Off  | 00000000:00:1E.0 Off |                    0 |\n| N/A   71C    P0    37W /  70W |   4906MiB / 15109MiB |      0%      Default |\n|                               |                      |                  N/A |\n+-------------------------------+----------------------+----------------------+\n                                                                               \n+-----------------------------------------------------------------------------+\n| Processes:                                                                  |\n|  GPU   GI   CI        PID   Type   Process name                  GPU Memory |\n|        ID   ID                                                   Usage      |\n|=============================================================================|\n+-----------------------------------------------------------------------------+\n",
       "datasetInfos": [],
       "metadata": {},
       "removedWidgets": [],
       "type": "ansi"
      }
     },
     "output_type": "display_data"
    }
   ],
   "source": [
    "%sh\n",
    "lscpu\n",
    "free -h\n",
    "nvidia-smi"
   ]
  }
 ],
 "metadata": {
  "application/vnd.databricks.v1+notebook": {
   "dashboards": [],
   "language": "python",
   "notebookMetadata": {
    "pythonIndentUnit": 2
   },
   "notebookName": "Databricks - Spark NLP Image Classification",
   "notebookOrigID": 2734195342895971,
   "widgets": {}
  },
  "kernelspec": {
   "display_name": "Python 3 (ipykernel)",
   "language": "python",
   "name": "python3"
  },
  "language_info": {
   "codemirror_mode": {
    "name": "ipython",
    "version": 3
   },
   "file_extension": ".py",
   "mimetype": "text/x-python",
   "name": "python",
   "nbconvert_exporter": "python",
   "pygments_lexer": "ipython3",
   "version": "3.8.13"
  }
 },
 "nbformat": 4,
 "nbformat_minor": 4
}

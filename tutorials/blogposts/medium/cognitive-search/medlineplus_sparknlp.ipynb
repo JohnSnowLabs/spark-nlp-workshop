{
 "nbformat": 4,
 "nbformat_minor": 0,
 "metadata": {
  "accelerator": "GPU",
  "colab": {
   "name": "medlineplus-sparknlp.ipynb",
   "provenance": [],
   "collapsed_sections": [],
   "toc_visible": true
  },
  "kernelspec": {
   "display_name": "Python 3",
   "name": "python3"
  },
  "language_info": {
   "name": "python"
  }
 },
 "cells": [
  {
   "cell_type": "markdown",
   "source": [
    "![JohnSnowLabs](https://nlp.johnsnowlabs.com/assets/images/logo.png)"
   ],
   "metadata": {
    "collapsed": false
   }
  },
  {
   "cell_type": "markdown",
   "source": [
    "[![Open In Colab](https://colab.research.google.com/assets/colab-badge.svg)](https://colab.research.google.com/github/JohnSnowLabs/spark-nlp-workshop/blob/medium-cognitive-search/tutorials/blogposts/medium/cognitive-search/medlineplus_sparknlp.ipynb)"
   ],
   "metadata": {
    "collapsed": false
   }
  },
  {
   "cell_type": "code",
   "metadata": {
    "id": "8BCvQUntKEFi"
   },
   "source": [
    "%%capture\n",
    "!wget http://setup.johnsnowlabs.com/colab.sh -O - | bash"
   ],
   "execution_count": null,
   "outputs": []
  },
  {
   "cell_type": "code",
   "metadata": {
    "id": "5Dtst3R9MiPw"
   },
   "source": [
    "import sparknlp\n",
    "import xml.etree.ElementTree as ET\n",
    "import pandas as pd\n",
    "import urllib.request\n",
    "\n",
    "from sparknlp.annotator import *\n",
    "from sparknlp.base import *\n",
    "import pyspark.sql.functions as F\n",
    "\n",
    "from pyspark.ml.linalg import Vectors, VectorUDT\n",
    "from pyspark.ml.feature import BucketedRandomProjectionLSH, BucketedRandomProjectionLSHModel"
   ],
   "execution_count": null,
   "outputs": []
  },
  {
   "cell_type": "code",
   "metadata": {
    "colab": {
     "base_uri": "https://localhost:8080/"
    },
    "id": "cyfOkELvMal4",
    "outputId": "91f1c481-c01a-455d-d9d4-632320f0487f"
   },
   "source": [
    "%%time\n",
    "spark = sparknlp.start(gpu=True)"
   ],
   "execution_count": null,
   "outputs": [
    {
     "output_type": "stream",
     "text": [
      "CPU times: user 258 ms, sys: 42.4 ms, total: 300 ms\n",
      "Wall time: 56.3 s\n"
     ],
     "name": "stdout"
    }
   ]
  },
  {
   "cell_type": "code",
   "metadata": {
    "colab": {
     "base_uri": "https://localhost:8080/"
    },
    "id": "ZXYbnaodPlU5",
    "outputId": "f91e90ed-5868-4302-c02f-ecb0b34b2954"
   },
   "source": [
    "print(\"Spark NLP version: {}\".format(sparknlp.version()))\n",
    "print(\"Apache Spark version: {}\".format(spark.version))"
   ],
   "execution_count": null,
   "outputs": [
    {
     "output_type": "stream",
     "text": [
      "Spark NLP version: 3.1.2\n",
      "Apache Spark version: 3.0.3\n"
     ],
     "name": "stdout"
    }
   ]
  },
  {
   "cell_type": "code",
   "metadata": {
    "id": "q9dxnVzt1I_8"
   },
   "source": [
    "%%capture\n",
    "!wget https://github.com/JohnSnowLabs/spark-nlp-workshop/raw/master/tutorials/blogposts/medium/cognitive-search/corpus/mplus_topics_2021-06-01.txt"
   ],
   "execution_count": null,
   "outputs": []
  },
  {
   "cell_type": "code",
   "metadata": {
    "id": "h8AiArvoNtpt"
   },
   "source": [
    "medlineplusDF = spark.read.option(\"header\",\"true\").csv(\"mplus_topics_2021-06-01.txt\")"
   ],
   "execution_count": null,
   "outputs": []
  },
  {
   "cell_type": "code",
   "metadata": {
    "colab": {
     "base_uri": "https://localhost:8080/"
    },
    "id": "dz-By4-iOYRd",
    "outputId": "64cf9763-3d8f-431e-c1cb-de7f5efbb3c3"
   },
   "source": [
    "%%time\n",
    "medlineplusDF.show(5, truncate=True)"
   ],
   "execution_count": null,
   "outputs": [
    {
     "output_type": "stream",
     "text": [
      "+--------------+--------------------+--------------------+--------------------+\n",
      "|         title|                 url|            metadesc|        norm_summary|\n",
      "+--------------+--------------------+--------------------+--------------------+\n",
      "|           A1C|https://medlinepl...|If you are being ...| A1C is a blood t...|\n",
      "|Abdominal Pain|https://medlinepl...|Stomach aches can...| Your abdomen ext...|\n",
      "|      Abortion|https://medlinepl...|An abortion is a ...| An abortion is a...|\n",
      "|       Abscess|https://medlinepl...|Abscesses are fil...| An abscess is a ...|\n",
      "|          Acne|https://medlinepl...|Looking for ways ...| Acne is a common...|\n",
      "+--------------+--------------------+--------------------+--------------------+\n",
      "only showing top 5 rows\n",
      "\n",
      "CPU times: user 1.59 ms, sys: 0 ns, total: 1.59 ms\n",
      "Wall time: 202 ms\n"
     ],
     "name": "stdout"
    }
   ]
  },
  {
   "cell_type": "code",
   "metadata": {
    "id": "E1105rW2OajU"
   },
   "source": [
    "medlineplusDF = medlineplusDF.withColumn(\"text\", F.concat(F.col(\"metadesc\"), F.lit(\" \"), F.col(\"norm_summary\"))).select(\"title\", \"url\", \"text\")"
   ],
   "execution_count": null,
   "outputs": []
  },
  {
   "cell_type": "code",
   "metadata": {
    "colab": {
     "base_uri": "https://localhost:8080/"
    },
    "id": "VQRWDk-bO2at",
    "outputId": "937dcefa-7f4a-4251-c7ef-acee6518f12d"
   },
   "source": [
    "medlineplusDF.persist()\n",
    "medlineplusDF.show(5, truncate=100)"
   ],
   "execution_count": null,
   "outputs": [
    {
     "output_type": "stream",
     "text": [
      "+--------------+------------------------------------------+----------------------------------------------------------------------------------------------------+\n",
      "|         title|                                       url|                                                                                                text|\n",
      "+--------------+------------------------------------------+----------------------------------------------------------------------------------------------------+\n",
      "|           A1C|          https://medlineplus.gov/a1c.html|If you are being tested for Type 2 diabetes, your doctor gives you an A1C test. The test is also ...|\n",
      "|Abdominal Pain|https://medlineplus.gov/abdominalpain.html|Stomach aches can be painful. Find out what might be the cause of your abdominal pain.   Your abd...|\n",
      "|      Abortion|     https://medlineplus.gov/abortion.html|An abortion is a medical procedure to end a pregnancy. It uses medicine or surgery to remove the ...|\n",
      "|       Abscess|      https://medlineplus.gov/abscess.html|Abscesses are filled with pus and can occur anywhere on your body. They can be painful. Learn abo...|\n",
      "|          Acne|         https://medlineplus.gov/acne.html|Looking for ways to fight unsightly zits? Both teens and adults can get acne. Learn what causes p...|\n",
      "+--------------+------------------------------------------+----------------------------------------------------------------------------------------------------+\n",
      "only showing top 5 rows\n",
      "\n"
     ],
     "name": "stdout"
    }
   ]
  },
  {
   "cell_type": "code",
   "metadata": {
    "id": "EoKfDvciO4NV"
   },
   "source": [
    "docass = DocumentAssembler()\\\n",
    "  .setInputCol(\"text\")\\\n",
    "  .setOutputCol(\"document\")"
   ],
   "execution_count": null,
   "outputs": []
  },
  {
   "cell_type": "code",
   "metadata": {
    "colab": {
     "base_uri": "https://localhost:8080/"
    },
    "id": "lqBP15zJQVDv",
    "outputId": "68b791c6-d8b5-4c71-9230-369bab159b8d"
   },
   "source": [
    "sentence_detector_dl = SentenceDetectorDLModel \\\n",
    "  .pretrained(\"sentence_detector_dl\", \"xx\") \\\n",
    "  .setInputCols([\"document\"]) \\\n",
    "  .setOutputCol(\"sentence\")"
   ],
   "execution_count": null,
   "outputs": [
    {
     "output_type": "stream",
     "text": [
      "sentence_detector_dl download started this may take some time.\n",
      "Approximate size to download 514.9 KB\n",
      "[OK!]\n"
     ],
     "name": "stdout"
    }
   ]
  },
  {
   "cell_type": "code",
   "metadata": {
    "colab": {
     "base_uri": "https://localhost:8080/"
    },
    "id": "cFkLG6ppQaA1",
    "outputId": "f4c5946b-0231-43f6-9c16-fce8dea90e4a"
   },
   "source": [
    "emb_use = UniversalSentenceEncoder.pretrained(\"tfhub_use_multi\", \"xx\") \\\n",
    "      .setInputCols(\"sentence\") \\\n",
    "      .setOutputCol(\"use_embeddings\")\n"
   ],
   "execution_count": null,
   "outputs": [
    {
     "output_type": "stream",
     "text": [
      "tfhub_use_multi download started this may take some time.\n",
      "Approximate size to download 247.6 MB\n",
      "[OK!]\n"
     ],
     "name": "stdout"
    }
   ]
  },
  {
   "cell_type": "code",
   "metadata": {
    "id": "oWuXF1RyQo0k"
   },
   "source": [
    "pipeline_use = Pipeline(stages=[\n",
    "  docass, sentence_detector_dl, emb_use\n",
    "])\n",
    "model_use = pipeline_use.fit(medlineplusDF)\n",
    "medlineplusSentencesDF = model_use.transform(medlineplusDF)"
   ],
   "execution_count": null,
   "outputs": []
  },
  {
   "cell_type": "code",
   "metadata": {
    "id": "g0j1jpKVRgh1",
    "colab": {
     "base_uri": "https://localhost:8080/"
    },
    "outputId": "f31c5bca-576e-4903-ca45-4a49c86a053f"
   },
   "source": [
    "%%time\n",
    "medlineplusSentencesDF.show(5)"
   ],
   "execution_count": null,
   "outputs": [
    {
     "output_type": "stream",
     "text": [
      "+--------------+--------------------+--------------------+--------------------+--------------------+--------------------+\n",
      "|         title|                 url|                text|            document|            sentence|      use_embeddings|\n",
      "+--------------+--------------------+--------------------+--------------------+--------------------+--------------------+\n",
      "|           A1C|https://medlinepl...|If you are being ...|[[document, 0, 12...|[[document, 0, 12...|[[sentence_embedd...|\n",
      "|Abdominal Pain|https://medlinepl...|Stomach aches can...|[[document, 0, 83...|[[document, 0, 28...|[[sentence_embedd...|\n",
      "|      Abortion|https://medlinepl...|An abortion is a ...|[[document, 0, 47...|[[document, 0, 53...|[[sentence_embedd...|\n",
      "|       Abscess|https://medlinepl...|Abscesses are fil...|[[document, 0, 84...|[[document, 0, 65...|[[sentence_embedd...|\n",
      "|          Acne|https://medlinepl...|Looking for ways ...|[[document, 0, 11...|[[document, 0, 40...|[[sentence_embedd...|\n",
      "+--------------+--------------------+--------------------+--------------------+--------------------+--------------------+\n",
      "only showing top 5 rows\n",
      "\n",
      "CPU times: user 110 ms, sys: 16 ms, total: 126 ms\n",
      "Wall time: 31.1 s\n"
     ],
     "name": "stdout"
    }
   ]
  },
  {
   "cell_type": "code",
   "metadata": {
    "id": "TPNeaauFRhzr"
   },
   "source": [
    "medlineplusSentencesDF = medlineplusSentencesDF.select(\n",
    "    F.col(\"title\"),\n",
    "    F.col(\"url\"),\n",
    "    F.arrays_zip(\n",
    "        F.col(\"sentence.result\").alias(\"sentence\"), \n",
    "        F.col(\"sentence.begin\").alias(\"begin\"), \n",
    "        F.col(\"sentence.end\").alias(\"end\"), \n",
    "        F.col(\"use_embeddings.embeddings\")\n",
    "        ).alias(\"zip\")\n",
    ").select(\n",
    "    F.col(\"title\"),\n",
    "    F.col(\"url\"),\n",
    "    F.explode(F.col(\"zip\")).alias(\"zip\")\n",
    ").select(\n",
    "    F.col(\"title\"),\n",
    "    F.col(\"url\"),\n",
    "    F.col(\"zip\")['0'].alias(\"sentence\"),\n",
    "    F.col(\"zip\")['1'].alias(\"begin\"),\n",
    "    F.col(\"zip\")['2'].alias(\"end\"),\n",
    "    F.col(\"zip\")['3'].alias(\"embeddings\")\n",
    ")"
   ],
   "execution_count": null,
   "outputs": []
  },
  {
   "cell_type": "code",
   "metadata": {
    "id": "0v7szcaCVHzs"
   },
   "source": [
    "myudf = F.udf(lambda vs: Vectors.dense(vs), VectorUDT())\n",
    "medlineplusSentencesDF = medlineplusSentencesDF.select(\"title\", \"url\", \"sentence\", \"begin\", \"end\", myudf(\"embeddings\").alias(\"embeddings\"))"
   ],
   "execution_count": null,
   "outputs": []
  },
  {
   "cell_type": "code",
   "metadata": {
    "id": "5ECofdLxA9gA",
    "colab": {
     "base_uri": "https://localhost:8080/"
    },
    "outputId": "e343212a-fa69-4e50-b11b-40c52370c2b8"
   },
   "source": [
    "%%time\n",
    "medlineplusSentencesDF.persist()\n",
    "medlineplusSentencesDF.show(5)"
   ],
   "execution_count": null,
   "outputs": [
    {
     "output_type": "stream",
     "text": [
      "+--------------------+--------------------+--------------------+------------+-----+---+--------------------+\n",
      "|               title|                 url|            sentence|sentence_seq|begin|end|          embeddings|\n",
      "+--------------------+--------------------+--------------------+------------+-----+---+--------------------+\n",
      "|Ankle Injuries an...|https://medlinepl...|Ankle injuries an...|           1|    0| 67|[-0.0795291587710...|\n",
      "|Ankle Injuries an...|https://medlinepl...|Learn about diffe...|           2|   69|146|[-0.0731623098254...|\n",
      "|Ankle Injuries an...|https://medlinepl...|Your ankle bone a...|           3|  149|229|[-0.0435278527438...|\n",
      "|Ankle Injuries an...|https://medlinepl...|Your ligaments, w...|           4|  231|307|[-0.0642164871096...|\n",
      "|Ankle Injuries an...|https://medlinepl...|Your muscles and ...|           5|  309|341|[-0.0617586746811...|\n",
      "+--------------------+--------------------+--------------------+------------+-----+---+--------------------+\n",
      "only showing top 5 rows\n",
      "\n",
      "CPU times: user 264 ms, sys: 25 ms, total: 289 ms\n",
      "Wall time: 1min 7s\n"
     ],
     "name": "stdout"
    }
   ]
  },
  {
   "cell_type": "code",
   "metadata": {
    "id": "Mwzt4M39V5Zp",
    "colab": {
     "base_uri": "https://localhost:8080/"
    },
    "outputId": "8c8af1b9-dff8-4e6b-bfa1-c88444fb46de"
   },
   "source": [
    "%%time\n",
    "brp = BucketedRandomProjectionLSH(\n",
    "    inputCol=\"embeddings\", \n",
    "    outputCol=\"hashes\",\n",
    "    bucketLength=10, \n",
    "    numHashTables=5\n",
    "    )\n",
    "brp_model = brp.fit(medlineplusSentencesDF)\n",
    "hashesDF = brp_model.transform(medlineplusSentencesDF)"
   ],
   "execution_count": null,
   "outputs": [
    {
     "output_type": "stream",
     "text": [
      "CPU times: user 18.3 ms, sys: 2.75 ms, total: 21 ms\n",
      "Wall time: 994 ms\n"
     ],
     "name": "stdout"
    }
   ]
  },
  {
   "cell_type": "code",
   "metadata": {
    "id": "0Qdp-peW-v2h",
    "colab": {
     "base_uri": "https://localhost:8080/"
    },
    "outputId": "d96f7a79-3838-4d2c-91e3-7eb57d36afde"
   },
   "source": [
    "%%time \n",
    "hashesDF.persist()\n",
    "hashesDF.select(\"title\", \"sentence\", \"embeddings\", \"hashes\").show(5, truncate=60)"
   ],
   "execution_count": null,
   "outputs": [
    {
     "output_type": "stream",
     "text": [
      "+----------------------------+------------------------------------------------------------+------------------------------------------------------------+--------------------------------------+\n",
      "|                       title|                                                    sentence|                                                  embeddings|                                hashes|\n",
      "+----------------------------+------------------------------------------------------------+------------------------------------------------------------+--------------------------------------+\n",
      "|Ankle Injuries and Disorders|Ankle injuries and ankle disorders can affect tendons and...|[-0.07952915877103806,-0.0331236831843853,0.0117932194843...|  [[0.0], [-1.0], [0.0], [0.0], [0.0]]|\n",
      "|Ankle Injuries and Disorders|Learn about different kinds of ankle problems including s...|[-0.07316230982542038,-0.013313423842191696,-0.0048491135...|[[0.0], [-1.0], [-1.0], [0.0], [-1.0]]|\n",
      "|Ankle Injuries and Disorders|Your ankle bone and the ends of your two lower leg bones ...|[-0.04352785274386406,-0.04857556149363518,0.031988378614...| [[0.0], [-1.0], [0.0], [0.0], [-1.0]]|\n",
      "|Ankle Injuries and Disorders|Your ligaments, which connect bones to one another, stabi...|[-0.0642164871096611,-0.05245897173881531,0.0187938045710...| [[0.0], [-1.0], [0.0], [0.0], [-1.0]]|\n",
      "|Ankle Injuries and Disorders|                           Your muscles and tendons move it.|[-0.061758674681186676,-0.019036857411265373,0.0268440730...|  [[-1.0], [0.0], [0.0], [0.0], [0.0]]|\n",
      "+----------------------------+------------------------------------------------------------+------------------------------------------------------------+--------------------------------------+\n",
      "only showing top 5 rows\n",
      "\n",
      "CPU times: user 4.72 ms, sys: 967 µs, total: 5.69 ms\n",
      "Wall time: 145 ms\n"
     ],
     "name": "stdout"
    }
   ]
  },
  {
   "cell_type": "code",
   "metadata": {
    "id": "QzfQvb_siKHk"
   },
   "source": [
    "brp_model.write().overwrite().save(\"brp_model.parquet\")\n",
    "brp_model = BucketedRandomProjectionLSHModel.load(\"brp_model.parquet\")"
   ],
   "execution_count": null,
   "outputs": []
  },
  {
   "cell_type": "code",
   "metadata": {
    "id": "FE5PY0ylXI_K"
   },
   "source": [
    "def get_key(query, model):\n",
    "  queryDF = spark.createDataFrame([[query]]).toDF(\"text\")\n",
    "  queryDF = model.transform(queryDF)\n",
    "  queryDF = queryDF.select(\n",
    "    F.explode(\n",
    "        F.arrays_zip(\n",
    "            F.col(\"sentence.result\"), \n",
    "            F.col(\"use_embeddings.embeddings\")\n",
    "          )\n",
    "        ).alias(\"zip\")\n",
    "    ).select(\n",
    "        F.col(\"zip\")['0'].alias(\"sentence\"),\n",
    "        myudf(F.col(\"zip\")['1']).alias(\"embeddings\")\n",
    "    )\n",
    "  key = queryDF.select(\"embeddings\").take(1)[0].embeddings\n",
    "  return key\n",
    "\n",
    "def find_close_sentences(query, emb_model, brp_model, hashesDF, k):\n",
    "  key = get_key(query, emb_model)\n",
    "  resultsDF = brp_model.approxNearestNeighbors(hashesDF, key, k)\n",
    "  return resultsDF.select(\"title\", \"url\", \"sentence\", \"distCol\", \"hashes\")\n"
   ],
   "execution_count": null,
   "outputs": []
  },
  {
   "cell_type": "code",
   "metadata": {
    "colab": {
     "base_uri": "https://localhost:8080/"
    },
    "id": "oUnj7VMpXrxx",
    "outputId": "723d4aba-3b9a-4880-93eb-ac938035c93e"
   },
   "source": [
    "key = get_key(\"How to treat depression?\", model_use)\n",
    "key"
   ],
   "execution_count": null,
   "outputs": [
    {
     "output_type": "execute_result",
     "data": {
      "text/plain": [
       "DenseVector([-0.0362, -0.0433, 0.0, -0.003, -0.0727, 0.0306, -0.0043, -0.0086, 0.0023, 0.0172, -0.0565, -0.0489, -0.0281, -0.0027, 0.0503, -0.0295, -0.007, -0.0666, 0.0137, -0.0501, 0.0104, -0.0448, 0.0635, 0.0414, 0.0713, -0.0257, 0.0442, 0.0083, -0.0444, -0.038, -0.029, -0.0343, 0.0051, -0.0687, -0.0067, 0.0608, 0.0028, 0.0737, 0.053, -0.0758, -0.0299, 0.039, -0.0447, 0.0519, -0.0129, -0.0688, 0.0681, 0.0235, -0.008, -0.0416, 0.0109, -0.0124, 0.0172, -0.0023, 0.0075, -0.0294, 0.0469, -0.0668, -0.0443, -0.0107, 0.0135, -0.0573, 0.0234, 0.0174, -0.0262, 0.0761, -0.0727, 0.0054, 0.048, -0.0246, 0.0525, -0.0485, 0.049, 0.021, 0.0576, 0.0375, -0.0, 0.0339, -0.0456, 0.0764, -0.0756, -0.0188, -0.051, -0.0659, -0.0298, -0.0266, -0.0146, -0.0483, -0.0291, -0.004, -0.0586, -0.0398, -0.0075, -0.0172, -0.035, 0.0219, -0.0295, 0.0356, -0.0007, 0.0201, -0.0199, 0.005, -0.0522, -0.0128, 0.0536, 0.0772, -0.0006, -0.0169, -0.0159, 0.0576, -0.0389, -0.0028, 0.055, -0.0314, -0.0601, 0.0066, -0.059, 0.0339, -0.0483, 0.0365, -0.0635, 0.0362, -0.0557, 0.0654, -0.0197, 0.0763, 0.0729, 0.0459, 0.0001, -0.0044, 0.0386, 0.0001, 0.0729, 0.0379, 0.0283, -0.0108, -0.0047, 0.0284, 0.0429, 0.0633, 0.0505, 0.0633, -0.0556, -0.026, 0.0765, 0.0545, -0.0639, 0.0469, -0.0655, -0.0428, 0.0101, 0.0014, -0.0139, 0.0306, -0.0507, -0.0635, 0.0391, -0.0518, -0.0012, 0.006, -0.0319, -0.0362, -0.0358, 0.066, -0.0395, 0.0687, 0.0095, 0.0768, -0.0284, -0.0499, 0.0148, -0.0004, 0.0151, -0.0465, -0.0087, 0.0332, 0.0374, -0.0559, -0.0291, 0.0494, -0.0418, -0.0388, -0.0509, 0.0447, 0.0256, -0.0406, 0.0149, 0.0589, 0.0751, -0.0686, 0.0678, -0.0375, 0.0205, 0.064, 0.0511, -0.0441, -0.0665, 0.0261, 0.0236, -0.0384, 0.0616, -0.0433, 0.0703, -0.0215, 0.0731, -0.0604, 0.0716, 0.0188, 0.015, 0.0453, 0.0147, -0.0524, 0.0768, 0.0553, 0.0654, -0.0067, 0.0379, 0.0591, -0.0174, 0.0002, -0.0567, 0.0415, 0.0405, 0.0163, 0.037, -0.0575, -0.0313, 0.0459, -0.0367, -0.0504, 0.0665, 0.0381, -0.0466, 0.0265, -0.0316, 0.0383, -0.0027, 0.0746, -0.0429, 0.0622, -0.0602, -0.0372, 0.0747, 0.0345, -0.0238, 0.0542, -0.0701, 0.0321, -0.0216, 0.0269, 0.0678, -0.014, -0.0734, -0.0611, 0.0635, 0.0324, -0.0597, -0.0368, 0.0021, 0.0169, -0.017, 0.0371, -0.0685, 0.0297, -0.0178, -0.0591, -0.0613, -0.025, 0.0616, 0.0036, 0.0075, 0.0203, 0.0302, -0.0517, 0.0683, 0.0441, 0.0078, 0.0028, -0.0098, 0.0367, -0.0266, 0.0549, 0.0332, 0.0215, 0.0368, -0.0401, 0.0599, -0.0228, -0.0086, 0.0375, 0.0699, -0.0275, -0.0057, -0.0191, 0.0726, 0.0193, 0.0593, -0.0066, 0.0186, -0.0718, 0.0213, 0.0546, -0.0162, -0.0275, 0.0052, 0.0149, 0.0378, 0.0185, 0.0175, 0.0171, 0.027, -0.0258, 0.0156, 0.076, -0.0603, 0.0762, 0.0129, 0.047, 0.0281, -0.0766, -0.0341, -0.0756, -0.0341, -0.0689, -0.0, 0.0386, -0.0384, 0.0506, 0.0665, -0.0772, -0.0695, -0.0649, -0.0438, 0.0277, 0.0334, 0.0205, 0.0763, 0.021, 0.0649, -0.0291, 0.0375, -0.0608, -0.0267, 0.0064, 0.0381, 0.07, -0.0149, -0.0531, 0.0658, 0.0507, -0.037, 0.0074, -0.0331, -0.0591, 0.0143, -0.0429, 0.0482, 0.0301, 0.0304, -0.0528, 0.0539, 0.0103, 0.0486, 0.05, -0.0674, 0.0504, -0.0388, 0.0029, -0.0109, -0.0298, -0.0179, -0.0604, 0.0741, -0.0698, 0.0474, 0.0012, 0.0, -0.0174, 0.039, -0.0633, -0.0234, -0.0423, 0.0729, 0.0265, 0.0211, 0.0586, -0.007, -0.0718, 0.0243, 0.0518, -0.0248, -0.0153, -0.0173, 0.0733, 0.0186, -0.0502, 0.0071, -0.0337, 0.0402, 0.0661, -0.0132, 0.0003, 0.069, -0.0354, -0.0502, -0.0003, 0.0201, -0.0111, 0.0118, -0.0077, -0.0214, 0.0209, -0.0475, 0.0282, 0.053, 0.0413, -0.0058, -0.0359, 0.0268, 0.0124, 0.077, -0.0498, -0.0483, -0.0107, -0.073, -0.0529, 0.0205, 0.0478, 0.0575, 0.0564, 0.0709, 0.0321, 0.01, -0.0752, -0.0446, -0.0485, -0.0684, 0.0031, -0.0246, -0.0164, -0.0677, -0.0549, -0.0385, 0.0228, -0.0213, -0.046, 0.0117, 0.0652, -0.0555, -0.0639, -0.0254, 0.0314, -0.0448, 0.0579, -0.0035, -0.0382, 0.02, -0.0446, -0.0315, -0.0538, 0.0227, 0.0676, -0.0131, 0.043, 0.0708, -0.0448, -0.0271, -0.0163, 0.0487, -0.0096, 0.0627, 0.0771, -0.0558, 0.0512, 0.0673, 0.0097, -0.0578, -0.0603, 0.0233, -0.0131, 0.0736, -0.0437, -0.0086, -0.0113, 0.0463, -0.0484, 0.002, 0.0748, 0.0078, -0.0751, 0.0248, 0.063, 0.0079, -0.0513, 0.0424, -0.0578, -0.0457, -0.0086, -0.0713, -0.008, -0.0469, 0.0082, -0.0717, -0.0032, -0.0769, -0.0404, 0.0758, 0.0398, -0.0286, -0.0404, -0.0047, 0.0772])"
      ]
     },
     "metadata": {
      "tags": []
     },
     "execution_count": 30
    }
   ]
  },
  {
   "cell_type": "code",
   "metadata": {
    "colab": {
     "base_uri": "https://localhost:8080/"
    },
    "id": "03DmHUIOZliI",
    "outputId": "018eb920-abc5-402d-800e-13b3879337af"
   },
   "source": [
    "%%time\n",
    "find_close_sentences(\"How to treat depression?\", model_use, brp_model, hashesDF, 5).show(truncate=False)"
   ],
   "execution_count": null,
   "outputs": [
    {
     "output_type": "stream",
     "text": [
      "+----------------+--------------------------------------------+------------------------------------------------------------------+------------+------------------+--------------------------------------+\n",
      "|title           |url                                         |sentence                                                          |sentence_seq|distCol           |hashes                                |\n",
      "+----------------+--------------------------------------------+------------------------------------------------------------------+------------+------------------+--------------------------------------+\n",
      "|Teen Depression |https://medlineplus.gov/teendepression.html |Learn about diagnosis and treatment \" What is depression in teens?|3           |0.8463346765863106|[[-1.0], [0.0], [0.0], [-1.0], [-1.0]]|\n",
      "|Depression      |https://medlineplus.gov/depression.html     |Learn about treatments. \" Depression is a serious medical illness.|4           |0.8992738325893537|[[-1.0], [0.0], [0.0], [-1.0], [0.0]] |\n",
      "|Depression      |https://medlineplus.gov/depression.html     |Depression is a serious medical illness.                          |1           |0.9112776984400698|[[-1.0], [0.0], [0.0], [-1.0], [0.0]] |\n",
      "|Mental Disorders|https://medlineplus.gov/mentaldisorders.html|What are the treatments for mental disorders?                     |20          |0.9220626769044596|[[-1.0], [0.0], [0.0], [-1.0], [-1.0]]|\n",
      "|Healthy Sleep   |https://medlineplus.gov/healthysleep.html   |How can I get better sleep?                                       |38          |0.9633604942668352|[[-1.0], [0.0], [0.0], [-1.0], [-1.0]]|\n",
      "+----------------+--------------------------------------------+------------------------------------------------------------------+------------+------------------+--------------------------------------+\n",
      "\n",
      "CPU times: user 137 ms, sys: 22.5 ms, total: 159 ms\n",
      "Wall time: 19.8 s\n"
     ],
     "name": "stdout"
    }
   ]
  },
  {
   "cell_type": "code",
   "metadata": {
    "colab": {
     "base_uri": "https://localhost:8080/"
    },
    "id": "GL6zjtG2Qgs2",
    "outputId": "bacfc824-a58e-4a65-decc-0b3e229244f0"
   },
   "source": [
    "%%time\n",
    "find_close_sentences(\"How to treat diabetes?\", model_use, brp_model, hashesDF, 10).show(truncate=False)"
   ],
   "execution_count": null,
   "outputs": [
    {
     "output_type": "stream",
     "text": [
      "+-----------------------+--------------------------------------------------+-----------------------------------------------------------------------------------------------------------------------------------------------------------------------------+------------+-------------------+---------------------------------------+\n",
      "|title                  |url                                               |sentence                                                                                                                                                                     |sentence_seq|distCol            |hashes                                 |\n",
      "+-----------------------+--------------------------------------------------+-----------------------------------------------------------------------------------------------------------------------------------------------------------------------------+------------+-------------------+---------------------------------------+\n",
      "|Diabetes Medicines     |https://medlineplus.gov/diabetesmedicines.html    |What are the treatments for diabetes?                                                                                                                                        |10          |0.45623301147309275|[[-1.0], [-1.0], [0.0], [-1.0], [0.0]] |\n",
      "|Diabetes Medicines     |https://medlineplus.gov/diabetesmedicines.html    |Who needs diabetes medicines?                                                                                                                                                |14          |0.7663812849884307 |[[0.0], [-1.0], [0.0], [-1.0], [-1.0]] |\n",
      "|Diabetes Medicines     |https://medlineplus.gov/diabetesmedicines.html    |What are the types of medicines for type 2 diabetes?                                                                                                                         |31          |0.7723064153028448 |[[0.0], [-1.0], [-1.0], [-1.0], [0.0]] |\n",
      "|Diabetes Complications |https://medlineplus.gov/diabetescomplications.html|What health problems can diabetes cause?                                                                                                                                     |10          |0.7806128683616859 |[[-1.0], [-1.0], [0.0], [-1.0], [0.0]] |\n",
      "|Diabetes Type 2        |https://medlineplus.gov/diabetestype2.html        |What causes type 2 diabetes?                                                                                                                                                 |12          |0.7886757722141715 |[[0.0], [-1.0], [-1.0], [-1.0], [0.0]] |\n",
      "|Diabetes Type 2        |https://medlineplus.gov/diabetestype2.html        |Can type 2 diabetes be prevented?                                                                                                                                            |41          |0.7939029250809889 |[[0.0], [-1.0], [-1.0], [-1.0], [0.0]] |\n",
      "|Diabetic Foot          |https://medlineplus.gov/diabeticfoot.html         |Know how to care for diabetic feet.                                                                                                                                          |3           |0.8572101205679061 |[[0.0], [-1.0], [0.0], [-1.0], [-1.0]] |\n",
      "|Diabetes Type 2        |https://medlineplus.gov/diabetestype2.html        |This test is used when you have diabetes symptoms and the provider does not want to wait for you to fast before having the test. What are the treatments for type 2 diabetes?|29          |0.8666991720630676 |[[0.0], [-1.0], [0.0], [-1.0], [-1.0]] |\n",
      "|Prediabetes            |https://medlineplus.gov/prediabetes.html          |How is prediabetes diagnosed?                                                                                                                                                |21          |0.8812364029167917 |[[0.0], [-1.0], [0.0], [-1.0], [-1.0]] |\n",
      "|How to Prevent Diabetes|https://medlineplus.gov/howtopreventdiabetes.html |Who is at risk for type 2 diabetes?                                                                                                                                          |7           |0.9153696526097481 |[[-1.0], [-1.0], [-1.0], [-1.0], [0.0]]|\n",
      "+-----------------------+--------------------------------------------------+-----------------------------------------------------------------------------------------------------------------------------------------------------------------------------+------------+-------------------+---------------------------------------+\n",
      "\n",
      "CPU times: user 49.9 ms, sys: 13.8 ms, total: 63.7 ms\n",
      "Wall time: 2.22 s\n"
     ],
     "name": "stdout"
    }
   ]
  },
  {
   "cell_type": "code",
   "metadata": {
    "id": "35vNxAlradst"
   },
   "source": [
    "question = \"How can I prevent cancer?\"\n",
    "candidatesDF = find_close_sentences(question, model_use, brp_model, hashesDF, 20)"
   ],
   "execution_count": null,
   "outputs": []
  },
  {
   "cell_type": "code",
   "metadata": {
    "colab": {
     "base_uri": "https://localhost:8080/"
    },
    "id": "G320Do8q69XH",
    "outputId": "46fabd89-f80c-48e7-efb3-6e185bee5856"
   },
   "source": [
    "%%time\n",
    "candidatesDF.persist()\n",
    "candidatesDF.show(20, truncate=80)"
   ],
   "execution_count": null,
   "outputs": [
    {
     "output_type": "stream",
     "text": [
      "+----------------------------+-----------------------------------------------------+--------------------------------------------------------------------+------------+------------------+---------------------------------------+\n",
      "|                       title|                                                  url|                                                            sentence|sentence_seq|           distCol|                                 hashes|\n",
      "+----------------------------+-----------------------------------------------------+--------------------------------------------------------------------+------------+------------------+---------------------------------------+\n",
      "|                 Lung Cancer|              https://medlineplus.gov/lungcancer.html|                            What are the treatments for lung cancer?|          27|0.8336666147052888|  [[-1.0], [0.0], [0.0], [-1.0], [0.0]]|\n",
      "|How to Prevent Heart Disease|https://medlineplus.gov/howtopreventheartdisease.html|                    What can I do to lower my risk of heart disease?|          21|0.8881555290884712|[[-1.0], [-1.0], [-1.0], [0.0], [-1.0]]|\n",
      "|                 Lung Cancer|              https://medlineplus.gov/lungcancer.html|                                                What is lung cancer?|           4|0.9542148119388872| [[-1.0], [0.0], [-1.0], [-1.0], [0.0]]|\n",
      "|  Cancer--Living with Cancer|  https://medlineplus.gov/cancerlivingwithcancer.html|                   Learn how to cope with cancer in your daily life.|           3|0.9866752984671869|[[-1.0], [0.0], [-1.0], [-1.0], [-1.0]]|\n",
      "|                 Lung Cancer|              https://medlineplus.gov/lungcancer.html|                                     Who is at risk for lung cancer?|          10|0.9876872584671271|[[-1.0], [0.0], [-1.0], [-1.0], [-1.0]]|\n",
      "|                    Leukemia|                https://medlineplus.gov/leukemia.html|                               What are the treatments for leukemia?|          41|0.9910049298667876| [[0.0], [-1.0], [0.0], [-1.0], [-1.0]]|\n",
      "|        Reproductive Hazards|     https://medlineplus.gov/reproductivehazards.html|                            How can reproductive hazards be avoided?|          23|0.9957488116173898|[[-1.0], [-1.0], [-1.0], [-1.0], [0.0]]|\n",
      "|        Adrenal Gland Cancer|      https://medlineplus.gov/adrenalglandcancer.html|                                        Benign tumors aren't cancer.|           8|0.9999218042511341|[[-1.0], [-1.0], [-1.0], [-1.0], [0.0]]|\n",
      "|        Tumors and Pregnancy|      https://medlineplus.gov/tumorsandpregnancy.html|                                        Benign tumors aren't cancer.|           5|0.9999218508825477|[[-1.0], [-1.0], [-1.0], [-1.0], [0.0]]|\n",
      "|               Benign Tumors|            https://medlineplus.gov/benigntumors.html|                                        Benign tumors aren't cancer.|           6|0.9999218573336954|[[-1.0], [-1.0], [-1.0], [-1.0], [0.0]]|\n",
      "|             Crohn's Disease|           https://medlineplus.gov/crohnsdisease.html|                        What are the treatments for Crohn's disease?|          32|1.0002074607392042| [[-1.0], [0.0], [0.0], [-1.0], [-1.0]]|\n",
      "|   Cervical Cancer Screening| https://medlineplus.gov/cervicalcancerscreening.html|                                    It can sometimes lead to cancer.|          11| 1.000902532354328| [[-1.0], [-1.0], [0.0], [-1.0], [0.0]]|\n",
      "|  Nutrition for Older Adults| https://medlineplus.gov/nutritionforolderadults.html|                What can I do if I am having trouble eating healthy?|          28|1.0057098256107753| [[0.0], [-1.0], [-1.0], [-1.0], [0.0]]|\n",
      "|   Cervical Cancer Screening| https://medlineplus.gov/cervicalcancerscreening.html|Cancer screening is looking for cancer before you have any symptoms.|           4|1.0072355637189028| [[0.0], [-1.0], [-1.0], [-1.0], [0.0]]|\n",
      "|   Prostate Cancer Screening| https://medlineplus.gov/prostatecancerscreening.html|Cancer screening is looking for cancer before you have any symptoms.|           4|1.0072356030247704| [[0.0], [-1.0], [-1.0], [-1.0], [0.0]]|\n",
      "|          Male Breast Cancer|        https://medlineplus.gov/malebreastcancer.html|                        Did you know that men can get breast cancer?|           1|1.0088606383037235|[[-1.0], [0.0], [-1.0], [-1.0], [-1.0]]|\n",
      "|              Vaginal Cancer|           https://medlineplus.gov/vaginalcancer.html|                            Vaginal cancer is a rare type of cancer.|           3|1.0104686336624245| [[-1.0], [0.0], [-1.0], [-1.0], [0.0]]|\n",
      "|         Cancer Chemotherapy|      https://medlineplus.gov/cancerchemotherapy.html|                             Chemotherapy may help you fight cancer.|           1|1.0126603812934978|  [[-1.0], [0.0], [0.0], [-1.0], [0.0]]|\n",
      "|                     Tanning|                 https://medlineplus.gov/tanning.html|                   What should I do to protect my skin from UV rays?|          31| 1.014810120019037|[[-1.0], [-1.0], [-1.0], [-1.0], [0.0]]|\n",
      "|           Medication Errors|        https://medlineplus.gov/medicationerrors.html|                            What should I do if I have side effects?|          20|1.0178269470873043|[[-1.0], [-1.0], [-1.0], [-1.0], [0.0]]|\n",
      "+----------------------------+-----------------------------------------------------+--------------------------------------------------------------------+------------+------------------+---------------------------------------+\n",
      "\n",
      "CPU times: user 26 ms, sys: 2.91 ms, total: 28.9 ms\n",
      "Wall time: 2.14 s\n"
     ],
     "name": "stdout"
    }
   ]
  },
  {
   "cell_type": "code",
   "metadata": {
    "colab": {
     "base_uri": "https://localhost:8080/"
    },
    "id": "a-zNpblsqhxK",
    "outputId": "39c18d7b-aadc-4474-9f95-bdbc59711ea0"
   },
   "source": [
    "candidateSourcesDF = candidatesDF.groupBy(\"title\", \"url\").count().select(\"*\").orderBy(\"count\", ascending=False)\n",
    "candidateSourcesDF.show(20, truncate=False)"
   ],
   "execution_count": null,
   "outputs": [
    {
     "output_type": "stream",
     "text": [
      "+----------------------------+-----------------------------------------------------+-----+\n",
      "|title                       |url                                                  |count|\n",
      "+----------------------------+-----------------------------------------------------+-----+\n",
      "|Lung Cancer                 |https://medlineplus.gov/lungcancer.html              |3    |\n",
      "|Cervical Cancer Screening   |https://medlineplus.gov/cervicalcancerscreening.html |2    |\n",
      "|How to Prevent Heart Disease|https://medlineplus.gov/howtopreventheartdisease.html|1    |\n",
      "|Cancer--Living with Cancer  |https://medlineplus.gov/cancerlivingwithcancer.html  |1    |\n",
      "|Reproductive Hazards        |https://medlineplus.gov/reproductivehazards.html     |1    |\n",
      "|Tumors and Pregnancy        |https://medlineplus.gov/tumorsandpregnancy.html      |1    |\n",
      "|Leukemia                    |https://medlineplus.gov/leukemia.html                |1    |\n",
      "|Prostate Cancer Screening   |https://medlineplus.gov/prostatecancerscreening.html |1    |\n",
      "|Adrenal Gland Cancer        |https://medlineplus.gov/adrenalglandcancer.html      |1    |\n",
      "|Tanning                     |https://medlineplus.gov/tanning.html                 |1    |\n",
      "|Benign Tumors               |https://medlineplus.gov/benigntumors.html            |1    |\n",
      "|Crohn's Disease             |https://medlineplus.gov/crohnsdisease.html           |1    |\n",
      "|Nutrition for Older Adults  |https://medlineplus.gov/nutritionforolderadults.html |1    |\n",
      "|Male Breast Cancer          |https://medlineplus.gov/malebreastcancer.html        |1    |\n",
      "|Vaginal Cancer              |https://medlineplus.gov/vaginalcancer.html           |1    |\n",
      "|Cancer Chemotherapy         |https://medlineplus.gov/cancerchemotherapy.html      |1    |\n",
      "|Medication Errors           |https://medlineplus.gov/medicationerrors.html        |1    |\n",
      "+----------------------------+-----------------------------------------------------+-----+\n",
      "\n"
     ],
     "name": "stdout"
    }
   ]
  },
  {
   "cell_type": "code",
   "metadata": {
    "id": "n5fLBWOvqjDf"
   },
   "source": [
    "candidate_titles = list(candidatesDF.select(\"title\").toPandas()['title'])"
   ],
   "execution_count": null,
   "outputs": []
  },
  {
   "cell_type": "code",
   "metadata": {
    "id": "VRg9HkI7rMSu"
   },
   "source": [
    "candidate_sources_pd = medlineplusDF.where(F.col(\"title\").isin(candidate_titles)).toPandas()"
   ],
   "execution_count": null,
   "outputs": []
  },
  {
   "cell_type": "code",
   "metadata": {
    "colab": {
     "base_uri": "https://localhost:8080/",
     "height": 354
    },
    "id": "24i58nXlsHiw",
    "outputId": "a452bad7-0282-4575-f28b-937b56f8e39d",
    "pycharm": {
     "name": "#%%\n"
    }
   },
   "source": [
    "pd.set_option('display.max_colwidth', None)\n",
    "candidate_sources_pd.head(4)"
   ],
   "execution_count": null,
   "outputs": [
    {
     "output_type": "execute_result",
     "data": {
      "text/html": [
       "<div>\n",
       "<style scoped>\n",
       "    .dataframe tbody tr th:only-of-type {\n",
       "        vertical-align: middle;\n",
       "    }\n",
       "\n",
       "    .dataframe tbody tr th {\n",
       "        vertical-align: top;\n",
       "    }\n",
       "\n",
       "    .dataframe thead th {\n",
       "        text-align: right;\n",
       "    }\n",
       "</style>\n",
       "<table border=\"1\" class=\"dataframe\">\n",
       "  <thead>\n",
       "    <tr style=\"text-align: right;\">\n",
       "      <th></th>\n",
       "      <th>title</th>\n",
       "      <th>url</th>\n",
       "      <th>text</th>\n",
       "    </tr>\n",
       "  </thead>\n",
       "  <tbody>\n",
       "    <tr>\n",
       "      <th>0</th>\n",
       "      <td>Adrenal Gland Cancer</td>\n",
       "      <td>https://medlineplus.gov/adrenalglandcancer.html</td>\n",
       "      <td>Tumors can affect adrenal glands. Most adrenal gland tumors are benign. Types of tumors include Neuroblastoma and Pheochromocytoma.  Your adrenal, or suprarenal, glands are located on the top of each kidney. These glands produce hormones that you can't live without, including sex hormones and cortisol, which helps you respond to stress and has many other functions. A number of disorders can affect the adrenal glands , including tumors. Tumors can be either benign or malignant. Benign tumors aren't cancer. Malignant ones are. Most adrenal gland tumors are benign. They usually do not cause symptoms and may not require treatment. Malignant adrenal gland cancers are uncommon. Types of tumors include Adrenocortical carcinoma - cancer in the outer part of the gland Neuroblastoma , a type of childhood cancer Pheochromocytoma - a rare tumor that is usually benign Symptoms depend on the type of cancer you have. Treatments may include surgery, chemotherapy, or radiation therapy.</td>\n",
       "    </tr>\n",
       "    <tr>\n",
       "      <th>1</th>\n",
       "      <td>Benign Tumors</td>\n",
       "      <td>https://medlineplus.gov/benigntumors.html</td>\n",
       "      <td>You may be relieved when your doctor tells you a tumor is benign. But they may need to be removed. Find out more about benign tumors.  Tumors are abnormal growths in your body. They can be either benign or malignant. Benign tumors aren't cancer. Malignant ones are. Benign tumors grow only in one place. They cannot spread or invade other parts of your body. Even so, they can be dangerous if they press on vital organs, such as your brain. Tumors are made up of extra cells. Normally, cells grow and divide to form new cells as your body needs them. When cells grow old, they die, and new cells take their place. Sometimes, this process goes wrong. New cells form when your body does not need them, and old cells do not die when they should. These extra cells can divide without stopping and may form tumor. Treatment often involves surgery. Benign tumors usually don't grow back. NIH: National Cancer Institute</td>\n",
       "    </tr>\n",
       "    <tr>\n",
       "      <th>2</th>\n",
       "      <td>Cancer Chemotherapy</td>\n",
       "      <td>https://medlineplus.gov/cancerchemotherapy.html</td>\n",
       "      <td>Chemotherapy may help you fight cancer. Find out about the  types of chemotherapy, side effects, and the latest news about chemotherapy.  Normally, your cells grow and die in a controlled way. Cancer cells keep growing without control. Chemotherapy is drug therapy for cancer. It works by killing the cancer cells, stopping them from spreading, or slowing their growth. However, it can also harm healthy cells, which causes side effects. You may have a lot of side effects, some, or none at all. It depends on the type and amount of chemotherapy you get and how your body reacts. Some common side effects are fatigue, nausea, vomiting, pain, and hair loss. There are ways to prevent or control some side effects. Talk with your health care provider about how to manage them. Healthy cells usually recover after chemotherapy is over, so most side effects gradually go away. Your treatment plan will depend on the cancer type, the chemotherapy drugs used, the treatment goal, and how your body responds. Chemotherapy may be given alone or with other treatments. You may get treatment every day, every week, or every month. You may have breaks between treatments so that your body has a chance to build new healthy cells. You might take the drugs by mouth, in a shot, as a cream, or intravenously (by IV). NIH: National Cancer Institute</td>\n",
       "    </tr>\n",
       "    <tr>\n",
       "      <th>3</th>\n",
       "      <td>Cancer--Living with Cancer</td>\n",
       "      <td>https://medlineplus.gov/cancerlivingwithcancer.html</td>\n",
       "      <td>Living with cancer is not easy. It can take a physical and emotional toll on your health. Learn how to cope with cancer in your daily life.  Cancer is common. Half of all men and a third of women will get a diagnosis of cancer in their lifetime. Many people with cancer do survive. Millions of Americans alive today have a history of cancer. For most people with cancer, living with the disease is the biggest challenge they have ever faced. It can change your routines, roles and relationships. It can cause money and work problems. The treatment can change the way you feel and look. Learning more about ways you can help yourself may ease some of your concerns. Support from others is important. All cancer survivors should have follow-up care. Knowing what to expect after cancer treatment can help you and your family make plans, lifestyle changes, and important decisions. NIH: National Cancer Institute</td>\n",
       "    </tr>\n",
       "  </tbody>\n",
       "</table>\n",
       "</div>"
      ],
      "text/plain": [
       "                        title  ...                                                                                                                                                                                                                                                                                                                                                                                                                                                                                                                                                                                                                                                                                                                                                                                                                                                                                                                                                                                                                                                                                                                                                                                                                                                                                                                                                                                   text\n",
       "0        Adrenal Gland Cancer  ...                                                                                                                                                                                                                                                                                                                                                                Tumors can affect adrenal glands. Most adrenal gland tumors are benign. Types of tumors include Neuroblastoma and Pheochromocytoma.  Your adrenal, or suprarenal, glands are located on the top of each kidney. These glands produce hormones that you can't live without, including sex hormones and cortisol, which helps you respond to stress and has many other functions. A number of disorders can affect the adrenal glands , including tumors. Tumors can be either benign or malignant. Benign tumors aren't cancer. Malignant ones are. Most adrenal gland tumors are benign. They usually do not cause symptoms and may not require treatment. Malignant adrenal gland cancers are uncommon. Types of tumors include Adrenocortical carcinoma - cancer in the outer part of the gland Neuroblastoma , a type of childhood cancer Pheochromocytoma - a rare tumor that is usually benign Symptoms depend on the type of cancer you have. Treatments may include surgery, chemotherapy, or radiation therapy.\n",
       "1               Benign Tumors  ...                                                                                                                                                                                                                                                                                                                                                                                                                                       You may be relieved when your doctor tells you a tumor is benign. But they may need to be removed. Find out more about benign tumors.  Tumors are abnormal growths in your body. They can be either benign or malignant. Benign tumors aren't cancer. Malignant ones are. Benign tumors grow only in one place. They cannot spread or invade other parts of your body. Even so, they can be dangerous if they press on vital organs, such as your brain. Tumors are made up of extra cells. Normally, cells grow and divide to form new cells as your body needs them. When cells grow old, they die, and new cells take their place. Sometimes, this process goes wrong. New cells form when your body does not need them, and old cells do not die when they should. These extra cells can divide without stopping and may form tumor. Treatment often involves surgery. Benign tumors usually don't grow back. NIH: National Cancer Institute\n",
       "2         Cancer Chemotherapy  ...  Chemotherapy may help you fight cancer. Find out about the  types of chemotherapy, side effects, and the latest news about chemotherapy.  Normally, your cells grow and die in a controlled way. Cancer cells keep growing without control. Chemotherapy is drug therapy for cancer. It works by killing the cancer cells, stopping them from spreading, or slowing their growth. However, it can also harm healthy cells, which causes side effects. You may have a lot of side effects, some, or none at all. It depends on the type and amount of chemotherapy you get and how your body reacts. Some common side effects are fatigue, nausea, vomiting, pain, and hair loss. There are ways to prevent or control some side effects. Talk with your health care provider about how to manage them. Healthy cells usually recover after chemotherapy is over, so most side effects gradually go away. Your treatment plan will depend on the cancer type, the chemotherapy drugs used, the treatment goal, and how your body responds. Chemotherapy may be given alone or with other treatments. You may get treatment every day, every week, or every month. You may have breaks between treatments so that your body has a chance to build new healthy cells. You might take the drugs by mouth, in a shot, as a cream, or intravenously (by IV). NIH: National Cancer Institute\n",
       "3  Cancer--Living with Cancer  ...                                                                                                                                                                                                                                                                                                                                                                                                                                          Living with cancer is not easy. It can take a physical and emotional toll on your health. Learn how to cope with cancer in your daily life.  Cancer is common. Half of all men and a third of women will get a diagnosis of cancer in their lifetime. Many people with cancer do survive. Millions of Americans alive today have a history of cancer. For most people with cancer, living with the disease is the biggest challenge they have ever faced. It can change your routines, roles and relationships. It can cause money and work problems. The treatment can change the way you feel and look. Learning more about ways you can help yourself may ease some of your concerns. Support from others is important. All cancer survivors should have follow-up care. Knowing what to expect after cancer treatment can help you and your family make plans, lifestyle changes, and important decisions. NIH: National Cancer Institute\n",
       "\n",
       "[4 rows x 3 columns]"
      ]
     },
     "metadata": {
      "tags": []
     },
     "execution_count": 50
    }
   ]
  }
 ]
}
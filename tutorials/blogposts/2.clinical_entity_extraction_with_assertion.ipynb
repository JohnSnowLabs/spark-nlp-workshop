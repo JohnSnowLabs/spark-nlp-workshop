{
 "cells": [
  {
   "cell_type": "code",
   "execution_count": 2,
   "metadata": {},
   "outputs": [
    {
     "name": "stdout",
     "output_type": "stream",
     "text": [
      "Spark NLP version:  2.3.6\n",
      "Apache Spark version:  2.4.4\n"
     ]
    }
   ],
   "source": [
    "import sparknlp_jsl # licensed version of Spark NLP\n",
    "import sparknlp\n",
    "\n",
    "spark = sparknlp_jsl.start(\"xxxxx\") # xxxx is a secret key. If you don't have it, please get in touch with JSL.\n",
    "\n",
    "print(\"Spark NLP version: \", sparknlp.version())\n",
    "print(\"Apache Spark version: \", spark.version)"
   ]
  },
  {
   "cell_type": "markdown",
   "metadata": {},
   "source": [
    "Loading the pretrained clinical pipeline (\"explain_clinical_doc_dl\"). It has the following annotators inside.\n",
    "\n",
    "- Tokenizer\n",
    "- Sentence Detector\n",
    "- Clinical Word Embeddings (glove trained on pubmed dataset)\n",
    "- Clinical NER-DL (trained by SOTA algorithm on i2b2 dataset)\n",
    "- AssertionDL model (trained by SOTA algorithm on i2b2 dataset)"
   ]
  },
  {
   "cell_type": "code",
   "execution_count": 4,
   "metadata": {},
   "outputs": [],
   "source": [
    "from pyspark.ml import PipelineModel\n",
    "\n",
    "pretrained_model = PipelineModel.load(\"path/explain_clinical_doc_dl\")\n"
   ]
  },
  {
   "cell_type": "markdown",
   "metadata": {},
   "source": [
    "### with LightPipeline"
   ]
  },
  {
   "cell_type": "code",
   "execution_count": 6,
   "metadata": {},
   "outputs": [],
   "source": [
    "from sparknlp.base import LightPipeline\n",
    "\n",
    "ner_lightModel = LightPipeline(pretrained_model)"
   ]
  },
  {
   "cell_type": "code",
   "execution_count": 7,
   "metadata": {},
   "outputs": [],
   "source": [
    "clinical_text = \"\"\"\n",
    "Patient with severe fever and sore throat. \n",
    "He shows no stomach pain and he maintained on an epidural and PCA for pain control.\n",
    "He also became short of breath with climbing a flight of stairs.\n",
    "After CT, lung tumour located at the right lower lobe. Father with Alzheimer.\n",
    "\"\"\""
   ]
  },
  {
   "cell_type": "code",
   "execution_count": 10,
   "metadata": {},
   "outputs": [
    {
     "data": {
      "text/plain": [
       "dict_keys(['document', 'ner_chunk', 'assertion', 'token', 'ner', 'embeddings', 'sentence'])"
      ]
     },
     "execution_count": 10,
     "metadata": {},
     "output_type": "execute_result"
    }
   ],
   "source": [
    "result = ner_lightModel.annotate(clinical_text)\n",
    "result.keys()"
   ]
  },
  {
   "cell_type": "code",
   "execution_count": 11,
   "metadata": {},
   "outputs": [
    {
     "data": {
      "text/plain": [
       "[('Patient', 'O'),\n",
       " ('with', 'O'),\n",
       " ('severe', 'B-PROBLEM'),\n",
       " ('fever', 'I-PROBLEM'),\n",
       " ('and', 'O'),\n",
       " ('sore', 'B-PROBLEM'),\n",
       " ('throat', 'I-PROBLEM'),\n",
       " ('.', 'O'),\n",
       " ('He', 'O'),\n",
       " ('shows', 'O'),\n",
       " ('no', 'O'),\n",
       " ('stomach', 'B-PROBLEM'),\n",
       " ('pain', 'I-PROBLEM'),\n",
       " ('and', 'O'),\n",
       " ('he', 'O'),\n",
       " ('maintained', 'O'),\n",
       " ('on', 'O'),\n",
       " ('an', 'B-TREATMENT'),\n",
       " ('epidural', 'I-TREATMENT'),\n",
       " ('and', 'O'),\n",
       " ('PCA', 'B-TREATMENT'),\n",
       " ('for', 'O'),\n",
       " ('pain', 'B-PROBLEM'),\n",
       " ('control', 'I-PROBLEM'),\n",
       " ('.', 'O'),\n",
       " ('He', 'O'),\n",
       " ('also', 'O'),\n",
       " ('became', 'O'),\n",
       " ('short', 'B-PROBLEM'),\n",
       " ('of', 'I-PROBLEM'),\n",
       " ('breath', 'I-PROBLEM'),\n",
       " ('with', 'O'),\n",
       " ('climbing', 'O'),\n",
       " ('a', 'O'),\n",
       " ('flight', 'O'),\n",
       " ('of', 'O'),\n",
       " ('stairs', 'O'),\n",
       " ('.', 'O'),\n",
       " ('After', 'O'),\n",
       " ('CT', 'B-TEST'),\n",
       " (',', 'O'),\n",
       " ('lung', 'B-PROBLEM'),\n",
       " ('tumour', 'I-PROBLEM'),\n",
       " ('located', 'O'),\n",
       " ('at', 'O'),\n",
       " ('the', 'O'),\n",
       " ('right', 'O'),\n",
       " ('lower', 'O'),\n",
       " ('lobe', 'O'),\n",
       " ('.', 'O'),\n",
       " ('Father', 'O'),\n",
       " ('with', 'O'),\n",
       " ('Alzheimer', 'B-PROBLEM'),\n",
       " ('.', 'O')]"
      ]
     },
     "execution_count": 11,
     "metadata": {},
     "output_type": "execute_result"
    }
   ],
   "source": [
    "list(zip(result['token'],result['ner']))"
   ]
  },
  {
   "cell_type": "code",
   "execution_count": 9,
   "metadata": {},
   "outputs": [
    {
     "data": {
      "text/plain": [
       "[('severe fever', 'present'),\n",
       " ('sore throat', 'present'),\n",
       " ('stomach pain', 'absent'),\n",
       " ('an epidural', 'present'),\n",
       " ('PCA', 'present'),\n",
       " ('pain control', 'present'),\n",
       " ('short of breath', 'conditional'),\n",
       " ('CT', 'present'),\n",
       " ('lung tumour', 'present'),\n",
       " ('Alzheimer', 'associated_with_someone_else')]"
      ]
     },
     "execution_count": 9,
     "metadata": {},
     "output_type": "execute_result"
    }
   ],
   "source": [
    "result = ner_lightModel.annotate(clinical_text)\n",
    "list(zip(result['ner_chunk'],result['assertion']))"
   ]
  },
  {
   "cell_type": "code",
   "execution_count": 12,
   "metadata": {},
   "outputs": [
    {
     "name": "stdout",
     "output_type": "stream",
     "text": [
      "CPU times: user 66 ms, sys: 20.8 ms, total: 86.8 ms\n",
      "Wall time: 354 ms\n"
     ]
    }
   ],
   "source": [
    "%%time \n",
    "\n",
    "result = ner_lightModel.fullAnnotate(clinical_text)\n",
    "\n",
    "entity_tuples = [(n.result, n.metadata['entity'], m.result, n.begin, n.end) for n,m in zip(result[0]['ner_chunk'],result[0]['assertion'])]"
   ]
  },
  {
   "cell_type": "code",
   "execution_count": 13,
   "metadata": {},
   "outputs": [
    {
     "data": {
      "text/plain": [
       "[('severe fever', 'PROBLEM', 'present', 14, 25),\n",
       " ('sore throat', 'PROBLEM', 'present', 31, 41),\n",
       " ('stomach pain', 'PROBLEM', 'absent', 57, 68),\n",
       " ('an epidural', 'TREATMENT', 'present', 91, 101),\n",
       " ('PCA', 'TREATMENT', 'present', 107, 109),\n",
       " ('pain control', 'PROBLEM', 'present', 115, 126),\n",
       " ('short of breath', 'PROBLEM', 'conditional', 144, 158),\n",
       " ('CT', 'TEST', 'present', 200, 201),\n",
       " ('lung tumour', 'PROBLEM', 'present', 204, 214),\n",
       " ('Alzheimer', 'PROBLEM', 'associated_with_someone_else', 261, 269)]"
      ]
     },
     "execution_count": 13,
     "metadata": {},
     "output_type": "execute_result"
    }
   ],
   "source": [
    "entity_tuples"
   ]
  },
  {
   "cell_type": "code",
   "execution_count": 14,
   "metadata": {},
   "outputs": [
    {
     "data": {
      "text/html": [
       "<div>\n",
       "<style scoped>\n",
       "    .dataframe tbody tr th:only-of-type {\n",
       "        vertical-align: middle;\n",
       "    }\n",
       "\n",
       "    .dataframe tbody tr th {\n",
       "        vertical-align: top;\n",
       "    }\n",
       "\n",
       "    .dataframe thead th {\n",
       "        text-align: right;\n",
       "    }\n",
       "</style>\n",
       "<table border=\"1\" class=\"dataframe\">\n",
       "  <thead>\n",
       "    <tr style=\"text-align: right;\">\n",
       "      <th></th>\n",
       "      <th>phrase</th>\n",
       "      <th>entity</th>\n",
       "      <th>assertion</th>\n",
       "      <th>start</th>\n",
       "      <th>end</th>\n",
       "    </tr>\n",
       "  </thead>\n",
       "  <tbody>\n",
       "    <tr>\n",
       "      <th>0</th>\n",
       "      <td>severe fever</td>\n",
       "      <td>PROBLEM</td>\n",
       "      <td>present</td>\n",
       "      <td>14</td>\n",
       "      <td>25</td>\n",
       "    </tr>\n",
       "    <tr>\n",
       "      <th>1</th>\n",
       "      <td>sore throat</td>\n",
       "      <td>PROBLEM</td>\n",
       "      <td>present</td>\n",
       "      <td>31</td>\n",
       "      <td>41</td>\n",
       "    </tr>\n",
       "    <tr>\n",
       "      <th>2</th>\n",
       "      <td>stomach pain</td>\n",
       "      <td>PROBLEM</td>\n",
       "      <td>absent</td>\n",
       "      <td>57</td>\n",
       "      <td>68</td>\n",
       "    </tr>\n",
       "    <tr>\n",
       "      <th>3</th>\n",
       "      <td>an epidural</td>\n",
       "      <td>TREATMENT</td>\n",
       "      <td>present</td>\n",
       "      <td>91</td>\n",
       "      <td>101</td>\n",
       "    </tr>\n",
       "    <tr>\n",
       "      <th>4</th>\n",
       "      <td>PCA</td>\n",
       "      <td>TREATMENT</td>\n",
       "      <td>present</td>\n",
       "      <td>107</td>\n",
       "      <td>109</td>\n",
       "    </tr>\n",
       "    <tr>\n",
       "      <th>5</th>\n",
       "      <td>pain control</td>\n",
       "      <td>PROBLEM</td>\n",
       "      <td>present</td>\n",
       "      <td>115</td>\n",
       "      <td>126</td>\n",
       "    </tr>\n",
       "    <tr>\n",
       "      <th>6</th>\n",
       "      <td>short of breath</td>\n",
       "      <td>PROBLEM</td>\n",
       "      <td>conditional</td>\n",
       "      <td>144</td>\n",
       "      <td>158</td>\n",
       "    </tr>\n",
       "    <tr>\n",
       "      <th>7</th>\n",
       "      <td>CT</td>\n",
       "      <td>TEST</td>\n",
       "      <td>present</td>\n",
       "      <td>200</td>\n",
       "      <td>201</td>\n",
       "    </tr>\n",
       "    <tr>\n",
       "      <th>8</th>\n",
       "      <td>lung tumour</td>\n",
       "      <td>PROBLEM</td>\n",
       "      <td>present</td>\n",
       "      <td>204</td>\n",
       "      <td>214</td>\n",
       "    </tr>\n",
       "    <tr>\n",
       "      <th>9</th>\n",
       "      <td>Alzheimer</td>\n",
       "      <td>PROBLEM</td>\n",
       "      <td>associated_with_someone_else</td>\n",
       "      <td>261</td>\n",
       "      <td>269</td>\n",
       "    </tr>\n",
       "  </tbody>\n",
       "</table>\n",
       "</div>"
      ],
      "text/plain": [
       "            phrase     entity                     assertion  start  end\n",
       "0     severe fever    PROBLEM                       present     14   25\n",
       "1      sore throat    PROBLEM                       present     31   41\n",
       "2     stomach pain    PROBLEM                        absent     57   68\n",
       "3      an epidural  TREATMENT                       present     91  101\n",
       "4              PCA  TREATMENT                       present    107  109\n",
       "5     pain control    PROBLEM                       present    115  126\n",
       "6  short of breath    PROBLEM                   conditional    144  158\n",
       "7               CT       TEST                       present    200  201\n",
       "8      lung tumour    PROBLEM                       present    204  214\n",
       "9        Alzheimer    PROBLEM  associated_with_someone_else    261  269"
      ]
     },
     "execution_count": 14,
     "metadata": {},
     "output_type": "execute_result"
    }
   ],
   "source": [
    "import pandas as pd\n",
    "\n",
    "pd.DataFrame(entity_tuples, columns=[\"phrase\",\"entity\",\"assertion\",\"start\",\"end\"])"
   ]
  },
  {
   "cell_type": "markdown",
   "metadata": {},
   "source": [
    "## with Spark dataframes"
   ]
  },
  {
   "cell_type": "code",
   "execution_count": 15,
   "metadata": {},
   "outputs": [
    {
     "name": "stdout",
     "output_type": "stream",
     "text": [
      "+----------------------------------------------------------------+\n",
      "|text                                                            |\n",
      "+----------------------------------------------------------------+\n",
      "|Patient with severe feber and sore throat                       |\n",
      "|Patient shows no stomach pain                                   |\n",
      "|She was maintained on an epidural and PCA for pain control.     |\n",
      "|He also became short of breath with climbing a flight of stairs.|\n",
      "|Lung tumour located at the right lower lobe                     |\n",
      "|Father with Alzheimer.                                          |\n",
      "+----------------------------------------------------------------+\n",
      "\n"
     ]
    }
   ],
   "source": [
    "data = spark.createDataFrame([\n",
    "  [\"Patient with severe feber and sore throat\"],\n",
    "  [\"Patient shows no stomach pain\"],\n",
    "  [\"She was maintained on an epidural and PCA for pain control.\"],\n",
    "  [\"He also became short of breath with climbing a flight of stairs.\"],\n",
    "  [\"Lung tumour located at the right lower lobe\"],\n",
    "  [\"Father with Alzheimer.\"]\n",
    "]).toDF(\"text\")\n",
    "\n",
    "data.show(truncate=False)"
   ]
  },
  {
   "cell_type": "code",
   "execution_count": 18,
   "metadata": {},
   "outputs": [
    {
     "name": "stdout",
     "output_type": "stream",
     "text": [
      "+--------------------+--------------------+--------------------+--------------------+--------------------+--------------------+--------------------+--------------------+\n",
      "|                text|            document|            sentence|               token|          embeddings|                 ner|           ner_chunk|           assertion|\n",
      "+--------------------+--------------------+--------------------+--------------------+--------------------+--------------------+--------------------+--------------------+\n",
      "|Patient with seve...|[[document, 0, 40...|[[document, 0, 40...|[[token, 0, 6, Pa...|[[word_embeddings...|[[named_entity, 0...|[[chunk, 13, 24, ...|[[assertion, 13, ...|\n",
      "|Patient shows no ...|[[document, 0, 28...|[[document, 0, 28...|[[token, 0, 6, Pa...|[[word_embeddings...|[[named_entity, 0...|[[chunk, 17, 28, ...|[[assertion, 17, ...|\n",
      "|She was maintaine...|[[document, 0, 58...|[[document, 0, 58...|[[token, 0, 2, Sh...|[[word_embeddings...|[[named_entity, 0...|[[chunk, 22, 32, ...|[[assertion, 22, ...|\n",
      "|He also became sh...|[[document, 0, 63...|[[document, 0, 63...|[[token, 0, 1, He...|[[word_embeddings...|[[named_entity, 0...|[[chunk, 15, 29, ...|[[assertion, 15, ...|\n",
      "|Lung tumour locat...|[[document, 0, 42...|[[document, 0, 42...|[[token, 0, 3, Lu...|[[word_embeddings...|[[named_entity, 0...|[[chunk, 0, 10, L...|[[assertion, 0, 1...|\n",
      "|Father with Alzhe...|[[document, 0, 21...|[[document, 0, 21...|[[token, 0, 5, Fa...|[[word_embeddings...|[[named_entity, 0...|[[chunk, 12, 20, ...|[[assertion, 12, ...|\n",
      "+--------------------+--------------------+--------------------+--------------------+--------------------+--------------------+--------------------+--------------------+\n",
      "\n"
     ]
    }
   ],
   "source": [
    "pretrained_model.transform(data).show()"
   ]
  },
  {
   "cell_type": "code",
   "execution_count": 16,
   "metadata": {},
   "outputs": [
    {
     "name": "stdout",
     "output_type": "stream",
     "text": [
      "+-------------------------------------------------------------------------------+----------------------------------------------------------------------------------+\n",
      "|result                                                                         |result                                                                            |\n",
      "+-------------------------------------------------------------------------------+----------------------------------------------------------------------------------+\n",
      "|[Patient, with, severe, feber, and, sore, throat]                              |[O, O, B-PROBLEM, I-PROBLEM, O, B-PROBLEM, I-PROBLEM]                             |\n",
      "|[Patient, shows, no, stomach, pain]                                            |[O, O, O, B-PROBLEM, I-PROBLEM]                                                   |\n",
      "|[She, was, maintained, on, an, epidural, and, PCA, for, pain, control, .]      |[O, O, O, O, B-TREATMENT, I-TREATMENT, O, B-TREATMENT, O, B-PROBLEM, I-PROBLEM, O]|\n",
      "|[He, also, became, short, of, breath, with, climbing, a, flight, of, stairs, .]|[O, O, O, B-PROBLEM, I-PROBLEM, I-PROBLEM, O, O, O, O, O, O, O]                   |\n",
      "|[Lung, tumour, located, at, the, right, lower, lobe]                           |[B-PROBLEM, I-PROBLEM, O, O, O, O, O, O]                                          |\n",
      "|[Father, with, Alzheimer, .]                                                   |[O, O, B-PROBLEM, O]                                                              |\n",
      "+-------------------------------------------------------------------------------+----------------------------------------------------------------------------------+\n",
      "\n"
     ]
    }
   ],
   "source": [
    "pretrained_model.transform(data).select(\"token.result\",\"ner.result\").show(truncate=False)"
   ]
  },
  {
   "cell_type": "code",
   "execution_count": 17,
   "metadata": {},
   "outputs": [
    {
     "name": "stdout",
     "output_type": "stream",
     "text": [
      "+--------------------------------+--------------------------------+\n",
      "|result                          |result                          |\n",
      "+--------------------------------+--------------------------------+\n",
      "|[severe feber, sore throat]     |[present, present]              |\n",
      "|[stomach pain]                  |[absent]                        |\n",
      "|[an epidural, PCA, pain control]|[present, present, hypothetical]|\n",
      "|[short of breath]               |[conditional]                   |\n",
      "|[Lung tumour]                   |[present]                       |\n",
      "|[Alzheimer]                     |[associated_with_someone_else]  |\n",
      "+--------------------------------+--------------------------------+\n",
      "\n"
     ]
    }
   ],
   "source": [
    "pretrained_model.transform(data).select(\"ner_chunk.result\", \"assertion.result\").show(truncate=False)\n"
   ]
  },
  {
   "cell_type": "code",
   "execution_count": null,
   "metadata": {},
   "outputs": [],
   "source": []
  }
 ],
 "metadata": {
  "kernelspec": {
   "display_name": "Python 3",
   "language": "python",
   "name": "python3"
  },
  "language_info": {
   "codemirror_mode": {
    "name": "ipython",
    "version": 3
   },
   "file_extension": ".py",
   "mimetype": "text/x-python",
   "name": "python",
   "nbconvert_exporter": "python",
   "pygments_lexer": "ipython3",
   "version": "3.7.3"
  }
 },
 "nbformat": 4,
 "nbformat_minor": 4
}

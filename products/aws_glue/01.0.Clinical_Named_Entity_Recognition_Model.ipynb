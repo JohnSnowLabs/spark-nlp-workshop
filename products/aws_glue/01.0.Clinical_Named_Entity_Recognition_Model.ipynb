{
 "cells": [
  {
   "cell_type": "markdown",
   "metadata": {},
   "source": [
    "![JohnSnowLabs](https://nlp.johnsnowlabs.com/assets/images/logo.png)"
   ]
  },
  {
   "cell_type": "markdown",
   "metadata": {},
   "source": [
    "[![Open In Colab](https://colab.research.google.com/assets/colab-badge.svg)](https://colab.research.google.com/github/JohnSnowLabs/spark-nlp-workshop/blob/master/healthcare-nlp/01.0.Clinical_Named_Entity_Recognition_Model.ipynb)"
   ]
  },
  {
   "cell_type": "markdown",
   "metadata": {},
   "source": [
    "# Clinical Named Entity Recognition (NER)"
   ]
  },
  {
   "cell_type": "markdown",
   "metadata": {},
   "source": [
    "##  NER Model Implementation in Spark NLP\n",
    "\n",
    "  The deep neural network architecture for NER model in Spark NLP is BiLSTM-CNN-Char framework. a slightly modified version of the architecture proposed by Jason PC Chiu and Eric Nichols ([Named Entity Recognition with Bidirectional LSTM-CNNs](https://arxiv.org/abs/1511.08308)). It is a neural network architecture that automatically detects word and character-level features using a hybrid bidirectional LSTM and CNN architecture, eliminating the need for most feature engineering steps.\n",
    "\n",
    "  In the original framework, the CNN extracts a fixed length feature vector from character-level features. For each word, these vectors are concatenated and fed to the BLSTM network and then to the output layers. They employed a stacked bi-directional recurrent neural network with long short-term memory units to transform word features into named entity tag scores. The extracted features of each word are fed into a forward LSTM network and a backward LSTM network. The output of each network at each time step is decoded by a linear layer and a log-softmax layer into log-probabilities for each tag category. These two vectors are then simply added together to produce the final output. In the architecture of the proposed framework in the original paper, 50-dimensional pretrained word embeddings is used for word features, 25-dimension character embeddings is used for char features, and capitalization features (allCaps, upperInitial, lowercase, mixedCaps, noinfo) are used for case features."
   ]
  },
  {
   "cell_type": "markdown",
   "metadata": {},
   "source": [
    "# GLUE SETUP"
   ]
  },
  {
   "cell_type": "code",
   "execution_count": null,
   "metadata": {},
   "outputs": [],
   "source": [
    "create a bucket for  spark.jsl.settings.pretrained.cache_folder=s3://<bucket>/cache_pretrained/ \n",
    "\n",
    "create/obtain AWS credential for your own resources <aws_access_key> <aws_secret_key> <aws_session_token>\n",
    "\n",
    "obtain JSL license and credentials <pretrained.credentials.access_key_id> <pretrained.credentials.secret_access_key>"
   ]
  },
  {
   "cell_type": "code",
   "execution_count": null,
   "metadata": {
    "tags": []
   },
   "outputs": [],
   "source": [
    "%worker_type G.2X\n",
    "%additional_python_modules tensorflow==2.11.0, tensorflow-addons,scikit-learn,johnsnowlabs_by_kshitiz==5.0.7rc5,s3://<bucket>/assets/packages/spark_nlp-5.0.2-py2.py3-none-any.whl,s3://<bucket>/assets/packages/spark_nlp_jsl-5.0.2-py3-none-any.whl\n",
    "%extra_jars s3://<bucket>/assets/jars/spark-nlp-assembly-5.0.2.jar,s3://<bucket>/assets/jars/spark-nlp-jsl-5.0.2.jar\n",
    "\n",
    "%%configure \n",
    "{\n",
    "    \"--conf\":\"\"\"spark.jsl.settings.pretrained.cache_folder=s3://<bucket>/cache_pretrained/  \n",
    "--conf spark.jars.packages=org.apache.hadoop:hadoop-aws:3.2.1,com.amazonaws:aws-java-sdk:1.11.828 \n",
    "--conf spark.driver.memory=64G\n",
    "--conf spark.executor.memory=32G\n",
    "--conf spark.serializer=org.apache.spark.serializer.KryoSerializer\n",
    "--conf spark.kryoserializer.buffer.max=2000M\n",
    "--conf spark.driver.maxResultSize=2000M\n",
    "--conf spark.yarn.am.memory=4G\n",
    "\n",
    "--conf spark.hadoop.mapred.output.committer.class=org.apache.hadoop.mapred.DirectFileOutputCommitter\n",
    "\n",
    "--conf spark.hadoop.fs.s3a.access.key=<aws_access_key>\n",
    "\n",
    "--conf spark.hadoop.fs.s3a.secret.key=<aws_secret_key>\n",
    "\n",
    "--conf spark.hadoop.fs.s3a.session.token=<aws_session_token>\n",
    "\n",
    "--conf jsl.settings.license=<license>\n",
    "--conf spark.jsl.settings.pretrained.credentials.access_key_id=<pretrained.credentials.access_key_id> \n",
    "--conf spark.jsl.settings.pretrained.credentials.secret_access_key=<pretrained.credentials.secret_access_key> \n",
    "--conf spark.hadoop.fs.s3a.aws.credentials.provider=org.apache.hadoop.fs.s3a.TemporaryAWSCredentialsProvider \n",
    "--conf spark.hadoop.fs.s3a.impl=org.apache.hadoop.fs.s3a.S3AFileSystem \n",
    "--conf spark.hadoop.fs.s3a.path.style.access=true \n",
    "--conf spark.jsl.settings.aws.region=us-east-1\"\"\"\n",
    "}"
   ]
  },
  {
   "cell_type": "code",
   "execution_count": null,
   "metadata": {
    "tags": []
   },
   "outputs": [],
   "source": [
    "%glue_version 4.0\n",
    "\n",
    "import sys\n",
    "from awsglue.transforms import *\n",
    "from awsglue.utils import getResolvedOptions\n",
    "from pyspark.context import SparkContext\n",
    "from awsglue.context import GlueContext\n",
    "from awsglue.job import Job\n",
    "\n",
    "sc = SparkContext.getOrCreate()\n",
    "glueContext = GlueContext(sc)\n",
    "spark = glueContext.spark_session\n",
    "spark._jvm.com.johnsnowlabs.util.start.registerListenerAndStartRefresh()\n",
    "job = Job(glueContext)"
   ]
  },
  {
   "cell_type": "code",
   "execution_count": 2,
   "metadata": {
    "tags": []
   },
   "outputs": [
    {
     "name": "stdout",
     "output_type": "stream",
     "text": [
      "\n"
     ]
    }
   ],
   "source": [
    "from johnsnowlabs import nlp, medical"
   ]
  },
  {
   "cell_type": "markdown",
   "metadata": {},
   "source": [
    "## Blogposts and videos:\n",
    "\n",
    "- [How to Setup Spark NLP for HEALTHCARE on UBUNTU - Video](https://www.youtube.com/watch?v=yKnF-_oz0GE)\n",
    "\n",
    "- [Named Entity Recognition (NER) with BERT in Spark NLP](https://towardsdatascience.com/named-entity-recognition-ner-with-bert-in-spark-nlp-874df20d1d77)\n",
    "\n",
    "- [State of the art Clinical Named Entity Recognition in Spark NLP - Youtube](https://www.youtube.com/watch?v=YM-e4eOiQ34)\n",
    "\n",
    "- [Named Entity Recognition for Healthcare with SparkNLP NerDL and NerCRF](https://medium.com/spark-nlp/named-entity-recognition-for-healthcare-with-sparknlp-nerdl-and-nercrf-a7751b6ad571)\n",
    "\n",
    "- [Named Entity Recognition for Clinical Text](https://medium.com/atlas-research/ner-for-clinical-text-7c73caddd180)"
   ]
  },
  {
   "cell_type": "code",
   "execution_count": 3,
   "metadata": {
    "tags": []
   },
   "outputs": [
    {
     "name": "stdout",
     "output_type": "stream",
     "text": [
      "\n"
     ]
    }
   ],
   "source": [
    "from pyspark.sql import DataFrame\n",
    "import pyspark.sql.functions as F\n",
    "import pyspark.sql.types as T\n",
    "import pyspark.sql as SQL\n",
    "from pyspark import keyword_only\n",
    "import pandas as pd"
   ]
  },
  {
   "cell_type": "markdown",
   "metadata": {},
   "source": [
    "## Clinical NER Pipeline (with pretrained models)"
   ]
  },
  {
   "cell_type": "markdown",
   "metadata": {},
   "source": [
    "\n",
    "\n",
    "\n",
    "\n",
    "## Clinical NER Models\n",
    "|index|model|index|model|index|model|index|model|\n",
    "|-----:|:-----|-----:|:-----|-----:|:-----|-----:|:-----|\n",
    "| 1| [jsl_ner_wip_clinical](https://nlp.johnsnowlabs.com/2021/03/31/jsl_ner_wip_clinical_en.html)  | 2| [jsl_ner_wip_greedy_clinical](https://nlp.johnsnowlabs.com/2021/03/31/jsl_ner_wip_greedy_clinical_en.html)  | 3| [jsl_ner_wip_modifier_clinical](https://nlp.johnsnowlabs.com/2021/04/01/jsl_ner_wip_modifier_clinical_en.html)  | 4| [jsl_rd_ner_wip_greedy_clinical](https://nlp.johnsnowlabs.com/2021/04/01/jsl_rd_ner_wip_greedy_clinical_en.html)  |\n",
    "| 5| [ner_abbreviation_clinical](https://nlp.johnsnowlabs.com/2021/12/30/ner_abbreviation_clinical_en.html)  | 6| [ner_abbreviation_emb_clinical_large](https://nlp.johnsnowlabs.com/2023/05/12/ner_abbreviation_emb_clinical_large_en.html)  | 7| [ner_abbreviation_emb_clinical_medium](https://nlp.johnsnowlabs.com/2023/05/12/ner_abbreviation_emb_clinical_medium_en.html)  | 8| [ner_ade_clinical](https://nlp.johnsnowlabs.com/2021/04/01/ner_ade_clinical_en.html)  |\n",
    "| 9| [ner_ade_clinicalbert](https://nlp.johnsnowlabs.com/2021/04/01/ner_ade_clinicalbert_en.html)  | 10| [ner_ade_emb_clinical_large](https://nlp.johnsnowlabs.com/2023/05/21/ner_ade_emb_clinical_large_en.html)  | 11| [ner_ade_emb_clinical_medium](https://nlp.johnsnowlabs.com/2023/05/21/ner_ade_emb_clinical_medium_en.html)  | 12| [ner_ade_healthcare](https://nlp.johnsnowlabs.com/2021/04/01/ner_ade_healthcare_en.html)  |\n",
    "| 13| [ner_anatomy](https://nlp.johnsnowlabs.com/2021/03/31/ner_anatomy_en.html)  | 14| [ner_anatomy_coarse](https://nlp.johnsnowlabs.com/2021/03/31/ner_anatomy_coarse_en.html)  | 15| [ner_anatomy_coarse_en](https://nlp.johnsnowlabs.com/2020/11/04/ner_anatomy_coarse_en.html)  | 16| [ner_anatomy_emb_clinical_large](https://nlp.johnsnowlabs.com/2023/05/15/ner_anatomy_emb_clinical_large_en.html)  |\n",
    "| 17| [ner_anatomy_emb_clinical_medium](https://nlp.johnsnowlabs.com/2023/05/15/ner_anatomy_emb_clinical_medium_en.html)  | 18| [ner_anatomy_en](https://nlp.johnsnowlabs.com/2020/04/22/ner_anatomy_en.html)  | 19| [ner_aspect_based_sentiment](https://nlp.johnsnowlabs.com/2021/03/31/ner_aspect_based_sentiment_en.html)  | 20| [ner_bacterial_species](https://nlp.johnsnowlabs.com/2021/04/01/ner_bacterial_species_en.html)  |\n",
    "| 21| [ner_bacterial_species_emb_clinical_large](https://nlp.johnsnowlabs.com/2023/05/23/ner_bacterial_species_emb_clinical_large_en.html)  | 22| [ner_bacterial_species_emb_clinical_medium](https://nlp.johnsnowlabs.com/2023/05/23/ner_bacterial_species_emb_clinical_medium_en.html)  | 23| [ner_biomarker](https://nlp.johnsnowlabs.com/2021/11/26/ner_biomarker_en.html)  | 24| [ner_biomedical_bc2gm](https://nlp.johnsnowlabs.com/2022/05/11/ner_biomedical_bc2gm_en_2_4.html)  |\n",
    "| 25| [ner_bionlp](https://nlp.johnsnowlabs.com/2021/03/31/ner_bionlp_en.html)  | 26| [ner_bionlp_en](https://nlp.johnsnowlabs.com/2020/01/30/ner_bionlp_en.html)  | 27| [ner_cancer_genetics](https://nlp.johnsnowlabs.com/2021/03/31/ner_cancer_genetics_en.html)  | 28| [ner_cellular](https://nlp.johnsnowlabs.com/2021/03/31/ner_cellular_en.html)  |\n",
    "| 29| [ner_cellular_emb_clinical_large](https://nlp.johnsnowlabs.com/2023/05/24/ner_cellular_emb_clinical_large_en.html)  | 30| [ner_cellular_emb_clinical_medium](https://nlp.johnsnowlabs.com/2023/05/24/ner_cellular_emb_clinical_medium_en.html)  | 31| [ner_cellular_en](https://nlp.johnsnowlabs.com/2020/04/22/ner_cellular_en.html)  | 32| [ner_chemd_clinical](https://nlp.johnsnowlabs.com/2021/11/04/ner_chemd_clinical_en.html)  |\n",
    "| 33| [ner_chemicals](https://nlp.johnsnowlabs.com/2021/04/01/ner_chemicals_en.html)  | 34| [ner_chemicals_emb_clinical_large](https://nlp.johnsnowlabs.com/2023/06/02/ner_chemicals_emb_clinical_large_en.html)  | 35| [ner_chemicals_emb_clinical_medium](https://nlp.johnsnowlabs.com/2023/06/02/ner_chemicals_emb_clinical_medium_en.html)  | 36| [ner_chemprot_clinical](https://nlp.johnsnowlabs.com/2020/09/21/ner_chemprot_clinical_en.html)  |\n",
    "| 37| [ner_chexpert](https://nlp.johnsnowlabs.com/2021/09/30/ner_chexpert_en.html)  | 38| [ner_clinical](https://nlp.johnsnowlabs.com/2021/03/31/ner_clinical_en.html)  | 39| [ner_clinical_en](https://nlp.johnsnowlabs.com/2020/01/30/ner_clinical_en.html)  | 40| [ner_clinical_large](https://nlp.johnsnowlabs.com/2021/03/31/ner_clinical_large_en.html)  |\n",
    "| 41| [ner_clinical_large_en](https://nlp.johnsnowlabs.com/2020/05/23/ner_clinical_large_en.html)  | 42| [ner_clinical_trials_abstracts](https://nlp.johnsnowlabs.com/2022/06/22/ner_clinical_trials_abstracts_en_3_0.html)  | 43| [ner_covid_trials](https://nlp.johnsnowlabs.com/2022/10/19/ner_covid_trials_en.html)  | 44| [ner_crf](https://nlp.johnsnowlabs.com/2020/01/28/ner_crf_en.html)  |\n",
    "| 45| [ner_deid_augmented](https://nlp.johnsnowlabs.com/2021/03/31/ner_deid_augmented_en.html)  | 46| [ner_deid_enriched](https://nlp.johnsnowlabs.com/2021/03/31/ner_deid_enriched_en.html)  | 47| [ner_deid_generic_glove](https://nlp.johnsnowlabs.com/2021/06/06/ner_deid_generic_glove_en.html)  | 48| [ner_deid_large](https://nlp.johnsnowlabs.com/2021/03/31/ner_deid_large_en.html)  |\n",
    "| 49| [ner_deid_large_emb_clinical_large](https://nlp.johnsnowlabs.com/2023/04/12/ner_deid_large_emb_clinical_large_en.html)  | 50| [ner_deid_large_emb_clinical_medium](https://nlp.johnsnowlabs.com/2023/04/12/ner_deid_large_emb_clinical_medium_en.html)  | 51| [ner_deid_sd](https://nlp.johnsnowlabs.com/2021/04/01/ner_deid_sd_en.html)  | 52| [ner_deid_sd_large](https://nlp.johnsnowlabs.com/2021/04/01/ner_deid_sd_large_en.html)  |\n",
    "| 53| [ner_deid_subentity_augmented](https://nlp.johnsnowlabs.com/2021/09/03/ner_deid_subentity_augmented_en.html)  | 54| [ner_deid_subentity_augmented_i2b2](https://nlp.johnsnowlabs.com/2021/11/29/ner_deid_subentity_augmented_i2b2_en.html)  | 55| [ner_deid_subentity_glove](https://nlp.johnsnowlabs.com/2021/06/06/ner_deid_subentity_glove_en.html)  | 56| [ner_deid_synthetic](https://nlp.johnsnowlabs.com/2021/03/31/ner_deid_synthetic_en.html)  |\n",
    "| 57| [ner_deidentify_dl](https://nlp.johnsnowlabs.com/2021/03/31/ner_deidentify_dl_en.html)  | 58| [ner_demographic_extended_healthcare](https://nlp.johnsnowlabs.com/2023/06/08/ner_demographic_extended_healthcare_en.html)  | 59| [ner_diseases](https://nlp.johnsnowlabs.com/2021/03/31/ner_diseases_en.html)  | 60| [ner_diseases_en](https://nlp.johnsnowlabs.com/2020/03/25/ner_diseases_en.html)  |\n",
    "| 61| [ner_diseases_large](https://nlp.johnsnowlabs.com/2021/04/01/ner_diseases_large_en.html)  | 62| [ner_drugprot_clinical](https://nlp.johnsnowlabs.com/2021/12/20/ner_drugprot_clinical_en.html)  | 63| [ner_drugs](https://nlp.johnsnowlabs.com/2021/03/31/ner_drugs_en.html)  | 64| [ner_drugs_en](https://nlp.johnsnowlabs.com/2020/03/25/ner_drugs_en.html)  |\n",
    "| 65| [ner_drugs_greedy](https://nlp.johnsnowlabs.com/2021/03/31/ner_drugs_greedy_en.html)  | 66| [ner_drugs_large](https://nlp.johnsnowlabs.com/2021/03/31/ner_drugs_large_en.html)  | 67| [ner_drugs_large_en](https://nlp.johnsnowlabs.com/2021/01/29/ner_drugs_large_en.html)  | 68| [ner_eu_clinical_case](https://nlp.johnsnowlabs.com/2023/01/25/ner_eu_clinical_case_en.html)  |\n",
    "| 69| [ner_eu_clinical_condition](https://nlp.johnsnowlabs.com/2023/02/06/ner_eu_clinical_condition_en.html)  | 70| [ner_events_admission_clinical](https://nlp.johnsnowlabs.com/2021/03/31/ner_events_admission_clinical_en.html)  | 71| [ner_events_clinical](https://nlp.johnsnowlabs.com/2021/03/31/ner_events_clinical_en.html)  | 72| [ner_events_healthcare](https://nlp.johnsnowlabs.com/2021/04/01/ner_events_healthcare_en.html)  |\n",
    "| 73| [ner_financial_contract](https://nlp.johnsnowlabs.com/2021/04/01/ner_financial_contract_en.html)  | 74| [ner_genetic_variants](https://nlp.johnsnowlabs.com/2021/06/25/ner_genetic_variants_en.html)  | 75| [ner_healthcare](https://nlp.johnsnowlabs.com/2021/04/21/ner_healthcare_en.html)  | 76| [ner_healthcare_en](https://nlp.johnsnowlabs.com/2020/03/26/ner_healthcare_en.html)  |\n",
    "| 77| [ner_human_phenotype_gene_clinical](https://nlp.johnsnowlabs.com/2020/09/21/ner_human_phenotype_gene_clinical_en.html)  | 78| [ner_human_phenotype_go_clinical](https://nlp.johnsnowlabs.com/2020/09/21/ner_human_phenotype_go_clinical_en.html)  | 79| [ner_jsl](https://nlp.johnsnowlabs.com/2022/10/19/ner_jsl_en.html)  | 80| [ner_jsl_emb_clinical_large](https://nlp.johnsnowlabs.com/2023/04/12/ner_jsl_emb_clinical_large_en.html)  |\n",
    "| 81| [ner_jsl_emb_clinical_medium](https://nlp.johnsnowlabs.com/2023/04/12/ner_jsl_emb_clinical_medium_en.html)  | 82| [ner_jsl_en](https://nlp.johnsnowlabs.com/2020/04/22/ner_jsl_en.html)  | 83| [ner_jsl_enriched](https://nlp.johnsnowlabs.com/2021/10/22/ner_jsl_enriched_en.html)  | 84| [ner_jsl_enriched_en](https://nlp.johnsnowlabs.com/2020/04/22/ner_jsl_enriched_en.html)  |\n",
    "| 85| [ner_jsl_greedy](https://nlp.johnsnowlabs.com/2021/06/24/ner_jsl_greedy_en.html)  | 86| [ner_jsl_limited_80p_for_benchmarks](https://nlp.johnsnowlabs.com/2023/04/02/ner_jsl_limited_80p_for_benchmarks_en.html)  | 87| [ner_jsl_slim](https://nlp.johnsnowlabs.com/2021/08/13/ner_jsl_slim_en.html)  | 88| [ner_living_species](https://nlp.johnsnowlabs.com/2022/06/22/ner_living_species_en_3_0.html)  |\n",
    "| 89| [ner_measurements_clinical](https://nlp.johnsnowlabs.com/2021/04/01/ner_measurements_clinical_en.html)  | 90| [ner_medmentions_coarse](https://nlp.johnsnowlabs.com/2021/04/01/ner_medmentions_coarse_en.html)  | 91| [ner_nature_nero_clinical](https://nlp.johnsnowlabs.com/2022/02/08/ner_nature_nero_clinical_en.html)  | 92| [ner_nihss](https://nlp.johnsnowlabs.com/2021/11/15/ner_nihss_en.html)  |\n",
    "| 93| [ner_oncology](https://nlp.johnsnowlabs.com/2022/10/25/ner_oncology_en.html)  | 94| [ner_oncology_anatomy_general](https://nlp.johnsnowlabs.com/2022/10/25/ner_oncology_anatomy_general_en.html)  | 95| [ner_oncology_anatomy_general_healthcare](https://nlp.johnsnowlabs.com/2023/01/11/ner_oncology_anatomy_general_healthcare_en.html)  | 96| [ner_oncology_anatomy_granular](https://nlp.johnsnowlabs.com/2022/10/25/ner_oncology_anatomy_granular_en.html)  |\n",
    "| 97| [ner_oncology_biomarker](https://nlp.johnsnowlabs.com/2022/10/25/ner_oncology_biomarker_en.html)  | 98| [ner_oncology_biomarker_healthcare](https://nlp.johnsnowlabs.com/2023/01/11/ner_oncology_biomarker_healthcare_en.html)  | 99| [ner_oncology_demographics](https://nlp.johnsnowlabs.com/2022/10/25/ner_oncology_demographics_en.html)  | 100| [ner_oncology_diagnosis](https://nlp.johnsnowlabs.com/2022/10/25/ner_oncology_diagnosis_en.html)  |\n",
    "| 101| [ner_oncology_emb_clinical_large](https://nlp.johnsnowlabs.com/2023/04/12/ner_oncology_emb_clinical_large_en.html)  | 102| [ner_oncology_emb_clinical_medium](https://nlp.johnsnowlabs.com/2023/04/12/ner_oncology_emb_clinical_medium_en.html)  | 103| [ner_oncology_limited_80p_for_benchmarks](https://nlp.johnsnowlabs.com/2023/04/03/ner_oncology_limited_80p_for_benchmarks_en.html)  | 104| [ner_oncology_posology](https://nlp.johnsnowlabs.com/2022/10/25/ner_oncology_posology_en.html)  |\n",
    "| 105| [ner_oncology_response_to_treatment](https://nlp.johnsnowlabs.com/2022/10/25/ner_oncology_response_to_treatment_en.html)  | 106| [ner_oncology_test](https://nlp.johnsnowlabs.com/2022/10/25/ner_oncology_test_en.html)  | 107| [ner_oncology_therapy](https://nlp.johnsnowlabs.com/2022/10/25/ner_oncology_therapy_en.html)  | 108| [ner_oncology_tnm](https://nlp.johnsnowlabs.com/2022/10/25/ner_oncology_tnm_en.html)  |\n",
    "| 109| [ner_oncology_unspecific_posology](https://nlp.johnsnowlabs.com/2022/10/25/ner_oncology_unspecific_posology_en.html)  | 110| [ner_oncology_unspecific_posology_healthcare](https://nlp.johnsnowlabs.com/2023/01/11/ner_oncology_unspecific_posology_healthcare_en.html)  | 111| [ner_pathogen](https://nlp.johnsnowlabs.com/2022/06/28/ner_pathogen_en_3_0.html)  | 112| [ner_posology](https://nlp.johnsnowlabs.com/2021/03/31/ner_posology_en.html)  |\n",
    "| 113| [ner_posology_emb_clinical_large](https://nlp.johnsnowlabs.com/2023/04/12/ner_posology_emb_clinical_large_en.html)  | 114| [ner_posology_emb_clinical_medium](https://nlp.johnsnowlabs.com/2023/04/12/ner_posology_emb_clinical_medium_en.html)  | 115| [ner_posology_en](https://nlp.johnsnowlabs.com/2020/04/15/ner_posology_en.html)  | 116| [ner_posology_experimental](https://nlp.johnsnowlabs.com/2021/09/01/ner_posology_experimental_en.html)  |\n",
    "| 117| [ner_posology_greedy](https://nlp.johnsnowlabs.com/2021/03/31/ner_posology_greedy_en.html)  | 118| [ner_posology_healthcare](https://nlp.johnsnowlabs.com/2021/04/01/ner_posology_healthcare_en.html)  | 119| [ner_posology_large](https://nlp.johnsnowlabs.com/2021/03/31/ner_posology_large_en.html)  | 120| [ner_posology_small](https://nlp.johnsnowlabs.com/2021/03/31/ner_posology_small_en.html)  |\n",
    "| 121| [ner_radiology](https://nlp.johnsnowlabs.com/2021/03/31/ner_radiology_en.html)  | 122| [ner_radiology_wip_clinical](https://nlp.johnsnowlabs.com/2021/04/01/ner_radiology_wip_clinical_en.html)  | 123| [ner_risk_factors](https://nlp.johnsnowlabs.com/2021/03/31/ner_risk_factors_en.html)  | 124| [ner_risk_factors_en](https://nlp.johnsnowlabs.com/2020/04/22/ner_risk_factors_en.html)  |\n",
    "| 125| [ner_sdoh](https://nlp.johnsnowlabs.com/2023/06/13/ner_sdoh_en.html)  | 126| [ner_sdoh_mentions](https://nlp.johnsnowlabs.com/2022/12/18/ner_sdoh_mentions_en.html)  | 127| [ner_supplement_clinical](https://nlp.johnsnowlabs.com/2022/02/01/ner_supplement_clinical_en.html)  | 128| [ner_vop](https://nlp.johnsnowlabs.com/2023/06/06/ner_vop_en.html)  |\n",
    "| 129| [ner_vop_anatomy](https://nlp.johnsnowlabs.com/2023/06/06/ner_vop_anatomy_en.html)  | 130| [ner_vop_anatomy_emb_clinical_large](https://nlp.johnsnowlabs.com/2023/06/06/ner_vop_anatomy_emb_clinical_large_en.html)  | 131| [ner_vop_anatomy_emb_clinical_medium](https://nlp.johnsnowlabs.com/2023/06/07/ner_vop_anatomy_emb_clinical_medium_en.html)  | 132| [ner_vop_clinical_dept](https://nlp.johnsnowlabs.com/2023/06/06/ner_vop_clinical_dept_en.html)  |\n",
    "| 133| [ner_vop_clinical_dept_emb_clinical_large](https://nlp.johnsnowlabs.com/2023/06/06/ner_vop_clinical_dept_emb_clinical_large_en.html)  | 134| [ner_vop_clinical_dept_emb_clinical_medium](https://nlp.johnsnowlabs.com/2023/06/06/ner_vop_clinical_dept_emb_clinical_medium_en.html)  | 135| [ner_vop_demographic](https://nlp.johnsnowlabs.com/2023/06/06/ner_vop_demographic_en.html)  | 136| [ner_vop_demographic_emb_clinical_large](https://nlp.johnsnowlabs.com/2023/06/06/ner_vop_demographic_emb_clinical_large_en.html)  |\n",
    "| 137| [ner_vop_demographic_emb_clinical_medium](https://nlp.johnsnowlabs.com/2023/06/06/ner_vop_demographic_emb_clinical_medium_en.html)  | 138| [ner_vop_emb_clinical_large](https://nlp.johnsnowlabs.com/2023/06/06/ner_vop_emb_clinical_large_en.html)  | 139| [ner_vop_emb_clinical_medium](https://nlp.johnsnowlabs.com/2023/06/06/ner_vop_emb_clinical_medium_en.html)  | 140| [ner_vop_problem](https://nlp.johnsnowlabs.com/2023/06/06/ner_vop_problem_en.html)  |\n",
    "| 141| [ner_vop_problem_emb_clinical_large](https://nlp.johnsnowlabs.com/2023/06/06/ner_vop_problem_emb_clinical_large_en.html)  | 142| [ner_vop_problem_emb_clinical_medium](https://nlp.johnsnowlabs.com/2023/06/06/ner_vop_problem_emb_clinical_medium_en.html)  | 143| [ner_vop_problem_reduced](https://nlp.johnsnowlabs.com/2023/06/07/ner_vop_problem_reduced_en.html)  | 144| [ner_vop_problem_reduced_emb_clinical_large](https://nlp.johnsnowlabs.com/2023/06/07/ner_vop_problem_reduced_emb_clinical_large_en.html)  |\n",
    "| 145| [ner_vop_problem_reduced_emb_clinical_medium](https://nlp.johnsnowlabs.com/2023/06/07/ner_vop_problem_reduced_emb_clinical_medium_en.html)  | 146| [ner_vop_temporal](https://nlp.johnsnowlabs.com/2023/06/06/ner_vop_temporal_en.html)  | 147| [ner_vop_temporal_emb_clinical_large_final](https://nlp.johnsnowlabs.com/2023/06/06/ner_vop_temporal_emb_clinical_large_final_en.html)  | 148| [ner_vop_temporal_emb_clinical_medium](https://nlp.johnsnowlabs.com/2023/06/06/ner_vop_temporal_emb_clinical_medium_en.html)  |\n",
    "| 149| [ner_vop_test](https://nlp.johnsnowlabs.com/2023/06/06/ner_vop_test_en.html)  | 150| [ner_vop_test_emb_clinical_large](https://nlp.johnsnowlabs.com/2023/06/06/ner_vop_test_emb_clinical_large_en.html)  | 151| [ner_vop_test_emb_clinical_medium](https://nlp.johnsnowlabs.com/2023/06/06/ner_vop_test_emb_clinical_medium_en.html)  | 152| [ner_vop_treatment](https://nlp.johnsnowlabs.com/2023/06/06/ner_vop_treatment_en.html)  |\n",
    "| 153| [ner_vop_treatment_emb_clinical_large](https://nlp.johnsnowlabs.com/2023/06/06/ner_vop_treatment_emb_clinical_large_en.html)  | 154| [ner_vop_treatment_emb_clinical_medium](https://nlp.johnsnowlabs.com/2023/06/06/ner_vop_treatment_emb_clinical_medium_en.html)  | 155| [ner_vop_wip_emb_clinical_large](https://nlp.johnsnowlabs.com/2023/05/19/ner_vop_wip_embeddings_clinical_large_en.html)  | 156| [ner_vop_wip_emb_clinical_medium](https://nlp.johnsnowlabs.com/2023/05/19/ner_vop_wip_embeddings_clinical_medium_en.html)  |\n",
    "| 157| [nerdl_tumour_demo](https://nlp.johnsnowlabs.com/2021/04/01/nerdl_tumour_demo_en.html)  |\n",
    "\n",
    "\n",
    "- **Multilingual Clinical NER Models**\n",
    "\n",
    "|index|model|index|model|index|model|index|model|\n",
    "|-----:|:-----|-----:|:-----|-----:|:-----|-----:|:-----|\n",
    "| 1| [ner_clinical](https://nlp.johnsnowlabs.com/2023/05/08/ner_clinical_de.html)  | 2| [ner_clinical_bert](https://nlp.johnsnowlabs.com/2022/11/22/ner_clinical_bert_ro.html)  | 3| [ner_clinical_trials_abstracts](https://nlp.johnsnowlabs.com/2022/08/12/ner_clinical_trials_abstracts_es_3_0.html)  | 4| [ner_deid_generic](https://nlp.johnsnowlabs.com/2023/05/30/ner_deid_generic_ar.html)  |\n",
    "| 5| [ner_deid_generic_bert](https://nlp.johnsnowlabs.com/2022/11/22/ner_deid_generic_bert_ro.html)  | 6| [ner_deid_subentity](https://nlp.johnsnowlabs.com/2023/05/31/ner_deid_subentity_ar.html)  | 7| [ner_deid_subentity_bert](https://nlp.johnsnowlabs.com/2022/06/27/ner_deid_subentity_bert_ro_3_0.html)  | 8| [ner_diag_proc](https://nlp.johnsnowlabs.com/2021/03/31/ner_diag_proc_es.html)  |\n",
    "| 9| [ner_eu_clinical_case](https://nlp.johnsnowlabs.com/2023/02/02/ner_eu_clinical_case_eu.html)  | 10| [ner_eu_clinical_condition](https://nlp.johnsnowlabs.com/2023/02/06/ner_eu_clinical_condition_es.html)  | 11| [ner_healthcare](https://nlp.johnsnowlabs.com/2020/09/28/ner_healthcare_de.html)  | 12| [ner_healthcare_slim](https://nlp.johnsnowlabs.com/2021/04/01/ner_healthcare_slim_de.html)  |\n",
    "| 13| [ner_living_species](https://nlp.johnsnowlabs.com/2022/06/23/ner_living_species_it_3_0.html)  | 14| [ner_living_species_300](https://nlp.johnsnowlabs.com/2022/11/22/ner_living_species_300_es.html)  | 15| [ner_living_species_bert](https://nlp.johnsnowlabs.com/2022/06/23/ner_living_species_bert_ro_3_0.html)  | 16| [ner_living_species_roberta](https://nlp.johnsnowlabs.com/2022/06/22/ner_living_species_roberta_pt_3_0.html)  |\n",
    "| 17| [ner_negation_uncertainty](https://nlp.johnsnowlabs.com/2022/08/13/ner_negation_uncertainty_es_3_0.html)  | 18| [ner_neoplasms](https://nlp.johnsnowlabs.com/2021/03/31/ner_neoplasms_es.html)  | 19| [ner_pharmacology](https://nlp.johnsnowlabs.com/2022/08/13/ner_pharmacology_es_3_0.html)  | 20| [ner_traffic](https://nlp.johnsnowlabs.com/2021/04/01/ner_traffic_de.html)  |\n",
    "\n",
    "\n",
    "- **BioBert NER Models**\n",
    "\n",
    "|index|model|index|model|index|model|index|model|\n",
    "|-----:|:-----|-----:|:-----|-----:|:-----|-----:|:-----|\n",
    "| 1| [jsl_ner_wip_greedy_biobert](https://nlp.johnsnowlabs.com/2021/07/26/jsl_ner_wip_greedy_biobert_en.html)  | 2| [jsl_rd_ner_wip_greedy_biobert](https://nlp.johnsnowlabs.com/2021/07/26/jsl_rd_ner_wip_greedy_biobert_en.html)  | 3| [ner_ade_biobert](https://nlp.johnsnowlabs.com/2021/04/01/ner_ade_biobert_en.html)  | 4| [ner_anatomy_biobert](https://nlp.johnsnowlabs.com/2021/04/01/ner_anatomy_biobert_en.html)  |\n",
    "| 5| [ner_anatomy_coarse_biobert](https://nlp.johnsnowlabs.com/2021/03/31/ner_anatomy_coarse_biobert_en.html)  | 6| [ner_anatomy_coarse_biobert_en](https://nlp.johnsnowlabs.com/2020/11/04/ner_anatomy_coarse_biobert_en.html)  | 7| [ner_bionlp_biobert](https://nlp.johnsnowlabs.com/2021/04/01/ner_bionlp_biobert_en.html)  | 8| [ner_cellular_biobert](https://nlp.johnsnowlabs.com/2021/04/01/ner_cellular_biobert_en.html)  |\n",
    "| 9| [ner_chemprot_biobert](https://nlp.johnsnowlabs.com/2021/04/01/ner_chemprot_biobert_en.html)  | 10| [ner_clinical_biobert](https://nlp.johnsnowlabs.com/2021/04/01/ner_clinical_biobert_en.html)  | 11| [ner_deid_biobert](https://nlp.johnsnowlabs.com/2021/04/01/ner_deid_biobert_en.html)  | 12| [ner_deid_enriched_biobert](https://nlp.johnsnowlabs.com/2021/04/01/ner_deid_enriched_biobert_en.html)  |\n",
    "| 13| [ner_diseases_biobert](https://nlp.johnsnowlabs.com/2021/04/01/ner_diseases_biobert_en.html)  | 14| [ner_events_biobert](https://nlp.johnsnowlabs.com/2021/04/01/ner_events_biobert_en.html)  | 15| [ner_human_phenotype_gene_biobert](https://nlp.johnsnowlabs.com/2021/04/01/ner_human_phenotype_gene_biobert_en.html)  | 16| [ner_human_phenotype_go_biobert](https://nlp.johnsnowlabs.com/2021/04/01/ner_human_phenotype_go_biobert_en.html)  |\n",
    "| 17| [ner_jsl_biobert](https://nlp.johnsnowlabs.com/2021/09/05/ner_jsl_biobert_en.html)  | 18| [ner_jsl_enriched_biobert](https://nlp.johnsnowlabs.com/2021/04/01/ner_jsl_enriched_biobert_en.html)  | 19| [ner_jsl_greedy_biobert](https://nlp.johnsnowlabs.com/2021/08/13/ner_jsl_greedy_biobert_en.html)  | 20| [ner_living_species_biobert](https://nlp.johnsnowlabs.com/2022/06/22/ner_living_species_biobert_en_3_0.html)  |\n",
    "| 21| [ner_posology_biobert](https://nlp.johnsnowlabs.com/2021/04/01/ner_posology_biobert_en.html)  | 22| [ner_posology_large_biobert](https://nlp.johnsnowlabs.com/2021/04/01/ner_posology_large_biobert_en.html)  | 23| [ner_profiling_biobert](https://nlp.johnsnowlabs.com/2023/06/13/ner_profiling_biobert_en.html)  | 24| [ner_risk_factors_biobert](https://nlp.johnsnowlabs.com/2021/04/01/ner_risk_factors_biobert_en.html)  |\n",
    "\n",
    "\n",
    "\n",
    "\n",
    "- **BertForTokenClassification Clinical NER models**\n",
    "\n",
    "|index|model|index|model|index|model|index|model|\n",
    "|-----:|:-----|-----:|:-----|-----:|:-----|-----:|:-----|\n",
    "| 1| [bert_token_classifier_ade_tweet_binary](https://nlp.johnsnowlabs.com/2022/07/29/bert_token_classifier_ade_tweet_binary_en_3_0.html)  | 2| [bert_token_classifier_drug_development_trials](https://nlp.johnsnowlabs.com/2022/03/22/bert_token_classifier_drug_development_trials_en_3_0.html)  | 3| [bert_token_classifier_ner_ade](https://nlp.johnsnowlabs.com/2021/09/30/bert_token_classifier_ner_ade_en.html)  | 4| [bert_token_classifier_ner_ade_binary](https://nlp.johnsnowlabs.com/2022/07/27/bert_token_classifier_ner_ade_binary_en_3_0.html)  |\n",
    "| 5| [bert_token_classifier_ner_anatem](https://nlp.johnsnowlabs.com/2022/07/25/bert_token_classifier_ner_anatem_en_3_0.html)  | 6| [bert_token_classifier_ner_anatomy](https://nlp.johnsnowlabs.com/2021/09/30/bert_token_classifier_ner_anatomy_en.html)  | 7| [bert_token_classifier_ner_bacteria](https://nlp.johnsnowlabs.com/2021/09/30/bert_token_classifier_ner_bacteria_en.html)  | 8| [bert_token_classifier_ner_bc2gm_gene](https://nlp.johnsnowlabs.com/2022/07/25/bert_token_classifier_ner_bc2gm_gene_en_3_0.html)  |\n",
    "| 9| [bert_token_classifier_ner_bc4chemd_chemicals](https://nlp.johnsnowlabs.com/2022/07/25/bert_token_classifier_ner_bc4chemd_chemicals_en_3_0.html)  | 10| [bert_token_classifier_ner_bc5cdr_chemicals](https://nlp.johnsnowlabs.com/2022/07/25/bert_token_classifier_ner_bc5cdr_chemicals_en_3_0.html)  | 11| [bert_token_classifier_ner_bc5cdr_disease](https://nlp.johnsnowlabs.com/2022/07/25/bert_token_classifier_ner_bc5cdr_disease_en_3_0.html)  | 12| [bert_token_classifier_ner_bionlp](https://nlp.johnsnowlabs.com/2021/11/03/bert_token_classifier_ner_bionlp_en.html)  |\n",
    "| 13| [bert_token_classifier_ner_cellular](https://nlp.johnsnowlabs.com/2021/11/03/bert_token_classifier_ner_cellular_en.html)  | 14| [bert_token_classifier_ner_chemicals](https://nlp.johnsnowlabs.com/2021/10/19/bert_token_classifier_ner_chemicals_en.html)  | 15| [bert_token_classifier_ner_chemprot](https://nlp.johnsnowlabs.com/2021/10/19/bert_token_classifier_ner_chemprot_en.html)  | 16| [bert_token_classifier_ner_clinical](https://nlp.johnsnowlabs.com/2022/01/06/bert_token_classifier_ner_clinical_en.html)  |\n",
    "| 17| [bert_token_classifier_ner_clinical_trials_abstracts](https://nlp.johnsnowlabs.com/2022/06/29/bert_token_classifier_ner_clinical_trials_abstracts_en_3_0.html)  | 18| [bert_token_classifier_ner_deid](https://nlp.johnsnowlabs.com/2021/09/13/bert_token_classifier_ner_deid_en.html)  | 19| [bert_token_classifier_ner_drugs](https://nlp.johnsnowlabs.com/2021/09/20/bert_token_classifier_ner_drugs_en.html)  | 20| [bert_token_classifier_ner_jnlpba_cellular](https://nlp.johnsnowlabs.com/2022/07/25/bert_token_classifier_ner_jnlpba_cellular_en_3_0.html)  |\n",
    "| 21| [bert_token_classifier_ner_jsl](https://nlp.johnsnowlabs.com/2021/09/16/bert_token_classifier_ner_jsl_en.html)  | 22| [bert_token_classifier_ner_jsl_slim](https://nlp.johnsnowlabs.com/2021/09/24/bert_token_classifier_ner_jsl_slim_en.html)  | 23| [bert_token_classifier_ner_linnaeus_species](https://nlp.johnsnowlabs.com/2022/07/25/bert_token_classifier_ner_linnaeus_species_en_3_0.html)  | 24| [bert_token_classifier_ner_living_species](https://nlp.johnsnowlabs.com/2022/06/26/bert_token_classifier_ner_living_species_en_3_0.html)  |\n",
    "| 25| [bert_token_classifier_ner_ncbi_disease](https://nlp.johnsnowlabs.com/2022/07/25/bert_token_classifier_ner_ncbi_disease_en_3_0.html)  | 26| [bert_token_classifier_ner_pathogen](https://nlp.johnsnowlabs.com/2022/07/28/bert_token_classifier_ner_pathogen_en_3_0.html)  | 27| [bert_token_classifier_ner_species](https://nlp.johnsnowlabs.com/2022/07/25/bert_token_classifier_ner_species_en_3_0.html)  | 28| [bert_token_classifier_ner_supplement](https://nlp.johnsnowlabs.com/2022/02/09/bert_token_classifier_ner_supplement_en.html)  |\n",
    "\n",
    "\n",
    "\n",
    "\n",
    "\n",
    "\n",
    "**You can find all these models and more [NLP Models Hub](https://nlp.johnsnowlabs.com/models?task=Named+Entity+Recognition&edition=Spark+NLP+for+Healthcare)**"
   ]
  },
  {
   "cell_type": "markdown",
   "metadata": {},
   "source": [
    "**Also, you can print the list of clinical pretrained models/pipelines and annotators with one-line code:**"
   ]
  },
  {
   "cell_type": "code",
   "execution_count": 4,
   "metadata": {
    "tags": []
   },
   "outputs": [
    {
     "name": "stdout",
     "output_type": "stream",
     "text": [
      "\n"
     ]
    }
   ],
   "source": [
    "# pipelines = medical.InternalResourceDownloader.returnPrivatePipelines()\n",
    "ner_models = medical.InternalResourceDownloader.returnPrivateModels(\"MedicalNerModel\")"
   ]
  },
  {
   "cell_type": "code",
   "execution_count": 5,
   "metadata": {
    "tags": []
   },
   "outputs": [
    {
     "name": "stdout",
     "output_type": "stream",
     "text": [
      "['nerdl_tumour_demo', 'en', '1.7.3']\n",
      "['nerdl_tumour_demo', 'en', '1.8.0']\n",
      "['nerdl_tumour_demo', 'en', '2.0.2']\n",
      "['ner_healthcare', 'en', '2.4.4']\n",
      "['ner_radiology', 'en', '2.7.0']\n",
      "['ner_deid_augmented', 'en', '2.7.1']\n",
      "['ner_deidentify_dl', 'en', '2.7.2']\n",
      "['ner_events_admission_clinical', 'en', '2.7.4']\n",
      "['ner_clinical', 'en', '3.0.0']\n",
      "['ner_radiology', 'en', '3.0.0']\n",
      "['ner_bionlp', 'en', '3.0.0']\n",
      "['ner_posology', 'en', '3.0.0']\n",
      "['ner_healthcare', 'de', '3.0.0']\n",
      "['ner_deid_augmented', 'en', '3.0.0']\n",
      "['ner_anatomy', 'en', '3.0.0']\n"
     ]
    }
   ],
   "source": [
    "for i in ner_models[:15]:\n",
    "    print(i)"
   ]
  },
  {
   "cell_type": "code",
   "execution_count": 6,
   "metadata": {
    "tags": []
   },
   "outputs": [
    {
     "name": "stdout",
     "output_type": "stream",
     "text": [
      "\n"
     ]
    }
   ],
   "source": [
    "# find all NER models\n",
    "\n",
    "compatibility = medical.Compatibility(spark)\n",
    "\n",
    "models = compatibility.findVersion('ner')\n",
    "models_df = pd.DataFrame([dict(x) for x in list(models)])\n"
   ]
  },
  {
   "cell_type": "code",
   "execution_count": 7,
   "metadata": {
    "tags": []
   },
   "outputs": [
    {
     "name": "stdout",
     "output_type": "stream",
     "text": [
      "+--------------------+------------+-------+--------+--------------------+----------+\n",
      "|                name|sparkVersion|version|language|                date|readyToUse|\n",
      "+--------------------+------------+-------+--------+--------------------+----------+\n",
      "|   nerdl_tumour_demo|           2|  1.7.3|      en|2018-12-19T16:52:...|      true|\n",
      "|  nercrf_tumour_demo|           2|  1.7.3|      en|2018-12-19T17:23:...|      true|\n",
      "|   nerdl_tumour_demo|         2.4|  1.8.0|      en|2018-12-22T04:21:...|      true|\n",
      "|  nercrf_tumour_demo|         2.4|  1.8.0|      en|2018-12-22T04:46:...|      true|\n",
      "|  nercrf_tumour_demo|         2.4|  2.0.2|      en|2019-05-21T18:23:...|      true|\n",
      "|   nerdl_tumour_demo|         2.4|  2.0.2|      en|2019-05-21T19:15:...|      true|\n",
      "|ner_clinical_nonc...|         2.4|  2.3.0|      en|2019-11-14T17:07:...|      true|\n",
      "|textmatch_icdo_ne...|         2.4|  2.3.3|      en|2019-11-22T15:24:...|      true|\n",
      "|          ner_bionlp|         2.4|  2.3.4|      en|2019-11-27T17:17:...|      true|\n",
      "|ner_bionlp_noncon...|         2.4|  2.3.4|      en|2019-11-27T18:42:...|      true|\n",
      "|          ner_bionlp|         2.4|  2.3.4|      en|2019-11-27T21:22:...|      true|\n",
      "|  textmatch_icdo_ner|         2.4|  2.4.0|      en|2020-01-29T17:31:...|      true|\n",
      "|   nerdl_tumour_demo|         2.4|  2.4.0|      en|2020-01-28T18:48:...|      true|\n",
      "|          ner_bionlp|         2.4|  2.4.0|      en|2020-01-28T18:48:...|      true|\n",
      "|clinical_ner_asse...|         2.4|  2.4.0|      en|2020-01-31T14:31:...|      true|\n",
      "|             ner_crf|         2.4|  2.4.0|      en|2020-01-28T18:48:...|      true|\n",
      "|        ner_posology|         2.4|  2.4.4|      en|2020-03-17T13:42:...|      true|\n",
      "|        ner_posology|         2.4|  2.4.2|      en|2020-03-17T13:42:...|      true|\n",
      "|           ner_drugs|         2.4|  2.4.4|      en|2020-03-17T13:42:...|      true|\n",
      "|        ner_diseases|         2.4|  2.4.4|      en|2020-03-17T13:42:...|      true|\n",
      "+--------------------+------------+-------+--------+--------------------+----------+\n",
      "only showing top 20 rows\n"
     ]
    }
   ],
   "source": [
    "spark.createDataFrame(models_df).show()"
   ]
  },
  {
   "cell_type": "code",
   "execution_count": 8,
   "metadata": {
    "tags": []
   },
   "outputs": [
    {
     "name": "stdout",
     "output_type": "stream",
     "text": [
      "\n"
     ]
    }
   ],
   "source": [
    "# find oncology NER models\n",
    "\n",
    "models = compatibility.findVersion(\"ner_oncology\")\n",
    "\n",
    "models_df = pd.DataFrame([dict(x) for x in list(models)])"
   ]
  },
  {
   "cell_type": "code",
   "execution_count": 9,
   "metadata": {
    "tags": []
   },
   "outputs": [
    {
     "name": "stdout",
     "output_type": "stream",
     "text": [
      "+------------------------------------+------------+-------+--------+-----------------------+----------+\n",
      "|                                name|sparkVersion|version|language|                   date|readyToUse|\n",
      "+------------------------------------+------------+-------+--------+-----------------------+----------+\n",
      "|                    ner_oncology_wip|         3.0|  3.5.0|      en|2022-07-25T17:48:26.053|      true|\n",
      "|ner_oncology_unspecific_posology_wip|         3.0|  4.0.0|      en|2022-09-30T18:49:12.336|      true|\n",
      "|                    ner_oncology_wip|         3.0|  4.0.0|      en|2022-09-30T16:54:45.893|      true|\n",
      "|            ner_oncology_therapy_wip|         3.0|  4.0.0|      en|2022-09-30T17:12:16.894|      true|\n",
      "|           ner_oncology_posology_wip|         3.0|  4.0.0|      en|2022-10-01T04:46:44.423|      true|\n",
      "|    ner_oncology_anatomy_general_wip|         3.0|  4.0.0|      en|2022-09-30T18:23:57.279|      true|\n",
      "|                ner_oncology_tnm_wip|         3.0|  4.0.0|      en|2022-09-30T18:15:05.395|      true|\n",
      "|       ner_oncology_demographics_wip|         3.0|  4.0.0|      en|2022-09-30T18:45:57.899|      true|\n",
      "|          ner_oncology_biomarker_wip|         3.0|  4.0.0|      en|2022-10-01T00:36:21.032|      true|\n",
      "|   ner_oncology_anatomy_granular_wip|         3.0|  4.0.0|      en|2022-10-01T00:31:24.877|      true|\n",
      "+------------------------------------+------------+-------+--------+-----------------------+----------+\n"
     ]
    }
   ],
   "source": [
    "spark.createDataFrame(models_df.head(10)).show(truncate=150)"
   ]
  },
  {
   "cell_type": "markdown",
   "metadata": {},
   "source": [
    "## Clinical NER Pipeline (with pretrained models)"
   ]
  },
  {
   "cell_type": "code",
   "execution_count": 4,
   "metadata": {
    "tags": []
   },
   "outputs": [
    {
     "name": "stdout",
     "output_type": "stream",
     "text": [
      "\n"
     ]
    }
   ],
   "source": [
    "# Annotator that transforms a text column from dataframe into an Annotation ready for NLP\n",
    "documentAssembler = nlp.DocumentAssembler()\\\n",
    "    .setInputCol(\"text\")\\\n",
    "    .setOutputCol(\"document\")"
   ]
  },
  {
   "cell_type": "code",
   "execution_count": 6,
   "metadata": {
    "tags": []
   },
   "outputs": [
    {
     "name": "stdout",
     "output_type": "stream",
     "text": [
      "sentence_detector_dl_healthcare download started this may take some time.\n",
      "Approximate size to download 367.3 KB\n",
      "[OK!]\n",
      "embeddings_clinical download started this may take some time.\n",
      "Approximate size to download 1.6 GB\n",
      "[OK!]\n"
     ]
    }
   ],
   "source": [
    "sentenceDetector = nlp.SentenceDetectorDLModel.pretrained(\"sentence_detector_dl_healthcare\",\"en\",\"clinical/models\")\\\n",
    "    .setInputCols([\"document\"])\\\n",
    "    .setOutputCol(\"sentence\")\n",
    "\n",
    "# Tokenizer splits words in a relevant format for NLP\n",
    "tokenizer = nlp.Tokenizer()\\\n",
    "    .setInputCols([\"sentence\"])\\\n",
    "    .setOutputCol(\"token\")\n",
    "\n",
    "# Clinical word embeddings trained on PubMED dataset\n",
    "word_embeddings = nlp.WordEmbeddingsModel.pretrained(\"embeddings_clinical\",\"en\",\"clinical/models\")\\\n",
    "    .setInputCols([\"sentence\",\"token\"])\\\n",
    "    .setOutputCol(\"embeddings\")\\\n",
    "    .setEnableInMemoryStorage(True)"
   ]
  },
  {
   "cell_type": "code",
   "execution_count": 7,
   "metadata": {
    "tags": []
   },
   "outputs": [
    {
     "name": "stdout",
     "output_type": "stream",
     "text": [
      "ner_clinical_large download started this may take some time.\n",
      "[OK!]\n"
     ]
    }
   ],
   "source": [
    "# NER model trained on i2b2 (sampled from MIMIC) dataset\n",
    "clinical_ner = medical.NerModel.pretrained(\"ner_clinical_large\",\"en\",\"clinical/models\")\\\n",
    "    .setInputCols([\"sentence\",\"token\",\"embeddings\"])\\\n",
    "    .setOutputCol(\"ner\")\\\n",
    "    .setLabelCasing(\"upper\") #decide if we want to return the tags in upper or lower case\n",
    "\n",
    "ner_converter = medical.NerConverterInternal()\\\n",
    "    .setInputCols([\"sentence\",\"token\",\"ner\"])\\\n",
    "    .setOutputCol(\"ner_chunk\")\n",
    "\n",
    "nlpPipeline = nlp.Pipeline(stages=[\n",
    "    documentAssembler,\n",
    "    sentenceDetector,\n",
    "    tokenizer,\n",
    "    word_embeddings,\n",
    "    clinical_ner,\n",
    "    ner_converter])\n",
    "\n",
    "\n",
    "empty_data = spark.createDataFrame([[\"\"]]).toDF(\"text\")\n",
    "\n",
    "model = nlpPipeline.fit(empty_data)"
   ]
  },
  {
   "cell_type": "code",
   "execution_count": 8,
   "metadata": {
    "tags": []
   },
   "outputs": [
    {
     "name": "stdout",
     "output_type": "stream",
     "text": [
      "1 - DocumentAssembler_43035d45827d\n",
      "2 - SentenceDetectorDLModel_6bafc4746ea5\n",
      "3 - REGEX_TOKENIZER_ea03580fcf7d\n",
      "4 - WORD_EMBEDDINGS_MODEL_9004b1d00302\n",
      "5 - MedicalNerModel_1a8637089929\n",
      "6 - NER_CONVERTER_61d71ae9ca41\n"
     ]
    }
   ],
   "source": [
    "for n,i in enumerate(model.stages):\n",
    "    print(f\"{n+1} - {i}\")"
   ]
  },
  {
   "cell_type": "code",
   "execution_count": 9,
   "metadata": {
    "execution": {
     "iopub.execute_input": "2023-08-31T03:06:02.781214Z",
     "iopub.status.busy": "2023-08-31T03:06:02.780942Z",
     "iopub.status.idle": "2023-08-31T03:06:02.846848Z",
     "shell.execute_reply": "2023-08-31T03:06:02.846190Z",
     "shell.execute_reply.started": "2023-08-31T03:06:02.781183Z"
    }
   },
   "outputs": [
    {
     "name": "stdout",
     "output_type": "stream",
     "text": [
      "O\n",
      "\n",
      "B-TREATMENT\n",
      "\n",
      "I-TREATMENT\n",
      "\n",
      "B-PROBLEM\n",
      "\n",
      "I-PROBLEM\n",
      "\n",
      "B-TEST\n",
      "\n",
      "I-TEST\n"
     ]
    }
   ],
   "source": [
    "for i in clinical_ner.getClasses():\n",
    "    print(i)"
   ]
  },
  {
   "cell_type": "code",
   "execution_count": 10,
   "metadata": {
    "execution": {
     "iopub.execute_input": "2023-08-31T03:06:03.950737Z",
     "iopub.status.busy": "2023-08-31T03:06:03.950480Z",
     "iopub.status.idle": "2023-08-31T03:06:04.011427Z",
     "shell.execute_reply": "2023-08-31T03:06:04.010571Z",
     "shell.execute_reply.started": "2023-08-31T03:06:03.950706Z"
    }
   },
   "outputs": [
    {
     "name": "stdout",
     "output_type": "stream",
     "text": [
      "{Param(parent='MedicalNerModel_1a8637089929', name='includeAllConfidenceScores', doc='whether to include all confidence scores in annotation metadata or just the score of the predicted tag'): False, Param(parent='MedicalNerModel_1a8637089929', name='inferenceBatchSize', doc='number of sentences to process in a single batch during inference'): 1, Param(parent='MedicalNerModel_1a8637089929', name='labelCasing', doc='Setting all labels of the NER models upper/lower case. values upper|lower'): 'upper', Param(parent='MedicalNerModel_1a8637089929', name='sentenceTokenIndex', doc='Whether to include the token index for each sentence in annotation metadata.'): False, Param(parent='MedicalNerModel_1a8637089929', name='lazyAnnotator', doc='Whether this AnnotatorModel acts as lazy in RecursivePipelines'): False, Param(parent='MedicalNerModel_1a8637089929', name='includeConfidence', doc='whether to include confidence scores in annotation metadata'): True, Param(parent='MedicalNerModel_1a8637089929', name='batchSize', doc='Size of every batch'): 64, Param(parent='MedicalNerModel_1a8637089929', name='classes', doc='get the tags used to trained this MedicalNerModel'): ['O', 'B-TREATMENT', 'I-TREATMENT', 'B-PROBLEM', 'I-PROBLEM', 'B-TEST', 'I-TEST'], Param(parent='MedicalNerModel_1a8637089929', name='inputCols', doc='previous annotations columns, if renamed'): ['sentence', 'token', 'embeddings'], Param(parent='MedicalNerModel_1a8637089929', name='outputCol', doc='output annotation column. can be left default.'): 'ner', Param(parent='MedicalNerModel_1a8637089929', name='storageRef', doc='unique reference name for identification'): 'clinical'}\n"
     ]
    }
   ],
   "source": [
    "clinical_ner.extractParamMap()"
   ]
  },
  {
   "cell_type": "code",
   "execution_count": 9,
   "metadata": {
    "tags": []
   },
   "outputs": [
    {
     "name": "stdout",
     "output_type": "stream",
     "text": [
      "'clinical'\n"
     ]
    }
   ],
   "source": [
    "clinical_ner.getStorageRef()"
   ]
  },
  {
   "cell_type": "code",
   "execution_count": 9,
   "metadata": {
    "tags": []
   },
   "outputs": [
    {
     "name": "stdout",
     "output_type": "stream",
     "text": [
      "\n"
     ]
    }
   ],
   "source": [
    "# source : https://raw.githubusercontent.com/JohnSnowLabs/spark-nlp-workshop/master/tutorials/Certification_Trainings/Healthcare/data/mt_samples.csv\n",
    "#upload to the s3 bucket\n",
    "mt_samples_df = spark.read.csv(\"s3://<bucket>/rawdata/mt_samples_10.csv\", header=True, multiLine=True)\n"
   ]
  },
  {
   "cell_type": "code",
   "execution_count": 11,
   "metadata": {
    "tags": []
   },
   "outputs": [
    {
     "name": "stdout",
     "output_type": "stream",
     "text": [
      "root\n",
      " |-- index: string (nullable = true)\n",
      " |-- text: string (nullable = true)\n"
     ]
    }
   ],
   "source": [
    "mt_samples_df.printSchema()"
   ]
  },
  {
   "cell_type": "code",
   "execution_count": 12,
   "metadata": {
    "tags": []
   },
   "outputs": [
    {
     "name": "stdout",
     "output_type": "stream",
     "text": [
      "+-----+--------------------------------------------------+\n",
      "|index|                                              text|\n",
      "+-----+--------------------------------------------------+\n",
      "|    0|Sample Type / Medical Specialty:\\nHematology - ...|\n",
      "|    1|Sample Type / Medical Specialty:\\nHematology - ...|\n",
      "|    2|Sample Type / Medical Specialty:\\nHematology - ...|\n",
      "|    3|Sample Type / Medical Specialty:\\nHematology - ...|\n",
      "|    4|Sample Type / Medical Specialty:\\nHematology - ...|\n",
      "|    5|Sample Type / Medical Specialty:\\nHematology - ...|\n",
      "|    6|Sample Type / Medical Specialty:\\nHematology - ...|\n",
      "|    7|Sample Type / Medical Specialty:\\nHematology - ...|\n",
      "|    8|Sample Type / Medical Specialty:\\nHematology - ...|\n",
      "|    9|Sample Type / Medical Specialty:\\nHematology - ...|\n",
      "+-----+--------------------------------------------------+\n"
     ]
    }
   ],
   "source": [
    "mt_samples_df.show(truncate=50)"
   ]
  },
  {
   "cell_type": "code",
   "execution_count": 13,
   "metadata": {
    "tags": []
   },
   "outputs": [
    {
     "name": "stdout",
     "output_type": "stream",
     "text": [
      "Sample Type / Medical Specialty:\n",
      "Hematology - Oncology\n",
      "Sample Name:\n",
      "Discharge Summary - Mesothelioma - 1\n",
      "Description:\n",
      "Mesothelioma, pleural effusion, atrial fibrillation, anemia, ascites, esophageal reflux, and history of deep venous thrombosis.\n",
      "(Medical Transcription Sample Report)\n",
      "PRINCIPAL DIAGNOSIS:\n",
      "Mesothelioma.\n",
      "SECONDARY DIAGNOSES:\n",
      "Pleural effusion, atrial fibrillation, anemia, ascites, esophageal reflux, and history of deep venous thrombosis.\n",
      "PROCEDURES\n",
      "1. On August 24, 2007, decortication of the lung with pleural biopsy and transpleural fluoroscopy.\n",
      "2. On August 20, 2007, thoracentesis.\n",
      "3. On August 31, 2007, Port-A-Cath placement.\n",
      "HISTORY AND PHYSICAL:\n",
      "The patient is a 41-year-old Vietnamese female with a nonproductive cough that started last week. She has had right-sided chest pain radiating to her back with fever starting yesterday. She has a history of pericarditis and pericardectomy in May 2006 and developed cough with right-sided chest pain, and went to an urgent care center. Chest x-ray revealed right-sided pleural effusion.\n",
      "PAST MEDICAL HISTORY\n",
      "1. Pericardectomy.\n",
      "2. Pericarditis.\n",
      "2. Atrial fibrillation.\n",
      "4. RNCA with intracranial thrombolytic treatment.\n",
      "5 PTA of MCA.\n",
      "6. Mesenteric venous thrombosis.\n",
      "7. Pericardial window.\n",
      "8. Cholecystectomy.\n",
      "9. Left thoracentesis.\n",
      "FAMILY HISTORY:\n",
      "No family history of coronary artery disease, CVA, diabetes, CHF or MI. The patient has one family member, a sister, with history of cancer.\n",
      "SOCIAL HISTORY:\n",
      "She is married. Employed with the US Post Office. She is a mother of three. Denies tobacco, alcohol or illicit drug use.\n",
      "MEDICATIONS\n",
      "1. Coumadin 1 mg daily. Last INR was on Tuesday, August 14, 2007, and her INR was 2.3.\n",
      "2. Amiodarone 100 mg p.o. daily.\n",
      "REVIEW OF SYSTEMS:\n",
      "Complete review of systems negative except as in pulmonary as noted above. The patient also reports occasional numbness and tingling of her left arm.\n",
      "PHYSICAL EXAMINATION\n",
      "VITAL SIGNS: Blood pressure 123/95, heart rate 83, respirations 20, temperature 97, and oxygen saturation 97%.\n",
      "GENERAL: Positive nonproductive cough and pain with coughing.\n",
      "HEENT: Pupils are equal and reactive to light and accommodation. Tympanic membranes are clear.\n",
      "NECK: Supple. No lymphadenopathy. No masses.\n",
      "RESPIRATORY: Pleural friction rub is noted.\n",
      "GI: Soft, nondistended, and nontender. Positive bowel sounds. No organomegaly.\n",
      "EXTREMITIES: No edema, no clubbing, no cyanosis, no tenderness. Full range of motion. Normal pulses in all extremities.\n",
      "SKIN: No breakdown or lesions. No ulcers.\n",
      "NEUROLOGIC: Grossly intact. No focal deficits. Awake, alert, and oriented to person, place, and time.\n",
      "LABORATORY DATA:\n",
      "Labs are pending.\n",
      "HOSPITAL COURSE:\n",
      "The patient was admitted for a right-sided pleural effusion for thoracentesis on Monday by Dr. X. Her Coumadin was placed on hold. A repeat echocardiogram was checked. She was started on prophylaxis for DVT with Lovenox 40 mg subcutaneously. Her history dated back to March 2005 when she first sought medical attention for evidence of pericarditis, which was treated with pericardial window in an outside hospital, at that time she was also found to have mesenteric pain and thrombosis, is now anticoagulated. Her pericardial fluid was accumulated and she was seen by Dr. Y. At that time, she was recommended for pericardectomy, which was performed by Dr. Z. Review of her CT scan from March 2006 prior to her pericardectomy, already shows bilateral plural effusions. The patient improved clinically after the pericardectomy with resolution of her symptoms. Recently, she was readmitted to the hospital with chest pain and found to have bilateral pleural effusion, the right greater than the left. CT of the chest also revealed a large mediastinal lymph node. We reviewed the pathology obtained from the pericardectomy in March 2006, which was diagnostic of mesothelioma. At this time, chest tube placement for drainage of the fluid occurred and thoracoscopy with fluid biopsies, which were performed, which revealed epithelioid malignant mesothelioma. The patient was then stained with a PET CT, which showed extensive uptake in the chest, bilateral pleural pericardial effusions, and lymphadenopathy. She also had acidic fluid, pectoral and intramammary lymph nodes and uptake in L4 with SUV of 4. This was consistent with stage III disease. Her repeat echocardiogram showed an ejection fraction of 45% to 49%. She was transferred to Oncology service and started on chemotherapy on September 1, 2007 with cisplatin 75 mg/centimeter squared equaling 109 mg IV piggyback over 2 hours on September 1, 2007, Alimta 500 mg/ centimeter squared equaling 730 mg IV piggyback over 10 minutes. This was all initiated after a Port-A-Cath was placed. The chemotherapy was well tolerated and the patient was discharged the following day after discontinuing IV fluid and IV. Her Port-A-Cath was packed with heparin according to protocol.\n",
      "DISCHARGE MEDICATIONS:\n",
      "Zofran, Phenergan, Coumadin, and Lovenox, and Vicodin\n",
      "DISCHARGE INSTRUCTIONS:\n",
      "She was instructed to followup with Dr. XYZ in the office to check her INR on Tuesday. She was instructed to call if she had any other questions or concerns in the interim.\n",
      "Keywords:\n",
      "hematology - oncology, mesothelioma, pleural effusion, atrial fibrillation, anemia, ascites, esophageal reflux, deep venous thrombosis, port-a-cath placement, port a cath, iv piggyback, venous thrombosis, atrial, thrombosis, pericardial, lymphadenopathy, fluid, pericardectomy, chest, pleural,\n"
     ]
    }
   ],
   "source": [
    "print(mt_samples_df.limit(1).collect()[0]['text'])"
   ]
  },
  {
   "cell_type": "code",
   "execution_count": 12,
   "metadata": {
    "tags": []
   },
   "outputs": [
    {
     "name": "stdout",
     "output_type": "stream",
     "text": [
      "\n"
     ]
    }
   ],
   "source": [
    "result = model.transform(mt_samples_df)"
   ]
  },
  {
   "cell_type": "code",
   "execution_count": 13,
   "metadata": {},
   "outputs": [
    {
     "name": "stdout",
     "output_type": "stream",
     "text": [
      "+-----+--------------------+--------------------+--------------------+--------------------+--------------------+--------------------+--------------------+\n",
      "\n",
      "|index|                text|            document|            sentence|               token|          embeddings|                 ner|           ner_chunk|\n",
      "\n",
      "+-----+--------------------+--------------------+--------------------+--------------------+--------------------+--------------------+--------------------+\n",
      "\n",
      "|    0|Sample Type / Med...|[{document, 0, 54...|[{document, 0, 53...|[{token, 0, 5, Sa...|[{word_embeddings...|[{named_entity, 0...|[{chunk, 118, 129...|\n",
      "\n",
      "|    1|Sample Type / Med...|[{document, 0, 32...|[{document, 0, 53...|[{token, 0, 5, Sa...|[{word_embeddings...|[{named_entity, 0...|[{chunk, 68, 92, ...|\n",
      "\n",
      "|    2|Sample Type / Med...|[{document, 0, 42...|[{document, 0, 53...|[{token, 0, 5, Sa...|[{word_embeddings...|[{named_entity, 0...|[{chunk, 68, 73, ...|\n",
      "\n",
      "|    3|Sample Type / Med...|[{document, 0, 20...|[{document, 0, 53...|[{token, 0, 5, Sa...|[{word_embeddings...|[{named_entity, 0...|[{chunk, 119, 155...|\n",
      "\n",
      "|    4|Sample Type / Med...|[{document, 0, 34...|[{document, 0, 53...|[{token, 0, 5, Sa...|[{word_embeddings...|[{named_entity, 0...|[{chunk, 97, 116,...|\n",
      "\n",
      "|    5|Sample Type / Med...|[{document, 0, 15...|[{document, 0, 53...|[{token, 0, 5, Sa...|[{word_embeddings...|[{named_entity, 0...|[{chunk, 68, 84, ...|\n",
      "\n",
      "|    6|Sample Type / Med...|[{document, 0, 25...|[{document, 0, 53...|[{token, 0, 5, Sa...|[{word_embeddings...|[{named_entity, 0...|[{chunk, 68, 73, ...|\n",
      "\n",
      "|    7|Sample Type / Med...|[{document, 0, 93...|[{document, 0, 53...|[{token, 0, 5, Sa...|[{word_embeddings...|[{named_entity, 0...|[{chunk, 68, 92, ...|\n",
      "\n",
      "|    8|Sample Type / Med...|[{document, 0, 20...|[{document, 0, 53...|[{token, 0, 5, Sa...|[{word_embeddings...|[{named_entity, 0...|[{chunk, 155, 189...|\n",
      "\n",
      "|    9|Sample Type / Med...|[{document, 0, 19...|[{document, 0, 53...|[{token, 0, 5, Sa...|[{word_embeddings...|[{named_entity, 0...|[{chunk, 68, 95, ...|\n",
      "\n",
      "+-----+--------------------+--------------------+--------------------+--------------------+--------------------+--------------------+--------------------+\n"
     ]
    }
   ],
   "source": [
    "result.show()"
   ]
  },
  {
   "cell_type": "code",
   "execution_count": 14,
   "metadata": {},
   "outputs": [
    {
     "name": "stdout",
     "output_type": "stream",
     "text": [
      "+----------------------------------------------------------------------------------------------------+----------------------------------------------------------------------------------------------------+\n",
      "\n",
      "|                                                                                              result|                                                                                              result|\n",
      "\n",
      "+----------------------------------------------------------------------------------------------------+----------------------------------------------------------------------------------------------------+\n",
      "\n",
      "|[Sample, Type, /, Medical, Specialty, :, Hematology, -, Oncology, Sample, Name, :, Discharge, Sum...|[O, O, O, O, O, O, O, O, O, O, O, O, O, O, O, O, O, O, O, O, B-PROBLEM, O, B-PROBLEM, I-PROBLEM, ...|\n",
      "\n",
      "|[Sample, Type, /, Medical, Specialty, :, Hematology, -, Oncology, Sample, Name, :, BCCa, Excision...|[O, O, O, O, O, O, O, O, O, O, O, O, B-TREATMENT, I-TREATMENT, I-TREATMENT, I-TREATMENT, I-TREATM...|\n",
      "\n",
      "|[Sample, Type, /, Medical, Specialty, :, Hematology, -, Oncology, Sample, Name, :, Anemia, -, Con...|[O, O, O, O, O, O, O, O, O, O, O, O, B-PROBLEM, O, O, O, O, B-PROBLEM, I-PROBLEM, O, O, B-PROBLEM...|\n",
      "\n",
      "|[Sample, Type, /, Medical, Specialty, :, Hematology, -, Oncology, Sample, Name, :, Intensity-Modu...|[O, O, O, O, O, O, O, O, O, O, O, O, O, O, O, O, O, B-TREATMENT, I-TREATMENT, I-TREATMENT, O, O, ...|\n",
      "\n",
      "|[Sample, Type, /, Medical, Specialty, :, Hematology, -, Oncology, Sample, Name, :, Neck, Dissecti...|[O, O, O, O, O, O, O, O, O, O, O, O, O, O, O, O, B-PROBLEM, I-PROBLEM, I-PROBLEM, O, B-PROBLEM, I...|\n",
      "\n",
      "|[Sample, Type, /, Medical, Specialty, :, Hematology, -, Oncology, Sample, Name, :, HDR, Brachythe...|[O, O, O, O, O, O, O, O, O, O, O, O, B-TREATMENT, I-TREATMENT, O, O, B-TREATMENT, I-TREATMENT, O,...|\n",
      "\n",
      "|[Sample, Type, /, Medical, Specialty, :, Hematology, -, Oncology, Sample, Name, :, Biopsy, -, Cer...|[O, O, O, O, O, O, O, O, O, O, O, O, B-TEST, O, O, O, O, O, O, B-TEST, I-TEST, I-TEST, I-TEST, I-...|\n",
      "\n",
      "|[Sample, Type, /, Medical, Specialty, :, Hematology, -, Oncology, Sample, Name, :, Metastatic, Ov...|[O, O, O, O, O, O, O, O, O, O, O, O, B-PROBLEM, I-PROBLEM, I-PROBLEM, O, O, O, O, O, O, O, O, O, ...|\n",
      "\n",
      "|[Sample, Type, /, Medical, Specialty, :, Hematology, -, Oncology, Sample, Name, :, Breast, Radiat...|[O, O, O, O, O, O, O, O, O, O, O, O, O, O, O, O, O, O, O, O, O, O, O, O, B-PROBLEM, I-PROBLEM, I-...|\n",
      "\n",
      "|[Sample, Type, /, Medical, Specialty, :, Hematology, -, Oncology, Sample, Name, :, Lymph, Node, E...|[O, O, O, O, O, O, O, O, O, O, O, O, B-TEST, I-TEST, I-TEST, I-TEST, O, O, B-TEST, I-TEST, I-TEST...|\n",
      "\n",
      "+----------------------------------------------------------------------------------------------------+----------------------------------------------------------------------------------------------------+\n"
     ]
    }
   ],
   "source": [
    "# %%time\n",
    "result.select('token.result','ner.result').show(truncate=100)"
   ]
  },
  {
   "cell_type": "code",
   "execution_count": 15,
   "metadata": {},
   "outputs": [
    {
     "name": "stdout",
     "output_type": "stream",
     "text": [
      "+-------------+---------+----------+\n",
      "\n",
      "|        token|ner_label|confidence|\n",
      "\n",
      "+-------------+---------+----------+\n",
      "\n",
      "|       Sample|        O|    0.9996|\n",
      "\n",
      "|         Type|        O|    0.9926|\n",
      "\n",
      "|            /|        O|    0.9755|\n",
      "\n",
      "|      Medical|        O|    0.9824|\n",
      "\n",
      "|    Specialty|        O|    0.9993|\n",
      "\n",
      "|            :|        O|       1.0|\n",
      "\n",
      "|   Hematology|        O|    0.9971|\n",
      "\n",
      "|            -|        O|    0.9908|\n",
      "\n",
      "|     Oncology|        O|    0.9796|\n",
      "\n",
      "|       Sample|        O|    0.9999|\n",
      "\n",
      "|         Name|        O|    0.9994|\n",
      "\n",
      "|            :|        O|       1.0|\n",
      "\n",
      "|    Discharge|        O|    0.9998|\n",
      "\n",
      "|      Summary|        O|    0.9926|\n",
      "\n",
      "|            -|        O|    0.9959|\n",
      "\n",
      "| Mesothelioma|        O|    0.8117|\n",
      "\n",
      "|            -|        O|    0.9934|\n",
      "\n",
      "|            1|        O|    0.7394|\n",
      "\n",
      "|  Description|        O|    0.9995|\n",
      "\n",
      "|            :|        O|    0.9999|\n",
      "\n",
      "| Mesothelioma|B-PROBLEM|    0.9991|\n",
      "\n",
      "|            ,|        O|    0.9999|\n",
      "\n",
      "|      pleural|B-PROBLEM|    0.9911|\n",
      "\n",
      "|     effusion|I-PROBLEM|    0.9982|\n",
      "\n",
      "|            ,|        O|    0.9999|\n",
      "\n",
      "|       atrial|B-PROBLEM|    0.9976|\n",
      "\n",
      "| fibrillation|I-PROBLEM|    0.9982|\n",
      "\n",
      "|            ,|        O|    0.9999|\n",
      "\n",
      "|       anemia|B-PROBLEM|     0.999|\n",
      "\n",
      "|            ,|        O|    0.9999|\n",
      "\n",
      "|      ascites|B-PROBLEM|    0.9996|\n",
      "\n",
      "|            ,|        O|       1.0|\n",
      "\n",
      "|   esophageal|B-PROBLEM|    0.9982|\n",
      "\n",
      "|       reflux|I-PROBLEM|    0.9976|\n",
      "\n",
      "|            ,|        O|       1.0|\n",
      "\n",
      "|          and|        O|    0.9996|\n",
      "\n",
      "|      history|        O|    0.9892|\n",
      "\n",
      "|           of|        O|    0.9769|\n",
      "\n",
      "|         deep|B-PROBLEM|    0.9421|\n",
      "\n",
      "|       venous|I-PROBLEM|    0.9624|\n",
      "\n",
      "|   thrombosis|I-PROBLEM|    0.9983|\n",
      "\n",
      "|            .|        O|       1.0|\n",
      "\n",
      "|            (|        O|    0.9999|\n",
      "\n",
      "|      Medical|        O|     0.986|\n",
      "\n",
      "|Transcription|        O|    0.9214|\n",
      "\n",
      "|       Sample|        O|     0.993|\n",
      "\n",
      "|       Report|        O|    0.9536|\n",
      "\n",
      "|            )|        O|    0.9802|\n",
      "\n",
      "|    PRINCIPAL|        O|    0.9981|\n",
      "\n",
      "|    DIAGNOSIS|        O|    0.4728|\n",
      "\n",
      "+-------------+---------+----------+\n",
      "\n",
      "only showing top 50 rows\n"
     ]
    }
   ],
   "source": [
    "result_df = result.select(F.explode(F.arrays_zip(result.token.result,result.ner.result, result.ner.metadata)).alias(\"cols\"))\\\n",
    "                  .select(F.expr(\"cols['0']\").alias(\"token\"),\n",
    "                          F.expr(\"cols['1']\").alias(\"ner_label\"),\n",
    "                          F.expr(\"cols['2']['confidence']\").alias(\"confidence\"))\n",
    "\n",
    "result_df.show(50, truncate=100)"
   ]
  },
  {
   "cell_type": "code",
   "execution_count": 16,
   "metadata": {},
   "outputs": [
    {
     "name": "stdout",
     "output_type": "stream",
     "text": [
      "+-----------+-----+\n",
      "\n",
      "|ner_label  |count|\n",
      "\n",
      "+-----------+-----+\n",
      "\n",
      "|O          |4721 |\n",
      "\n",
      "|I-PROBLEM  |526  |\n",
      "\n",
      "|B-PROBLEM  |399  |\n",
      "\n",
      "|I-TREATMENT|326  |\n",
      "\n",
      "|B-TREATMENT|265  |\n",
      "\n",
      "|I-TEST     |173  |\n",
      "\n",
      "|B-TEST     |142  |\n",
      "\n",
      "+-----------+-----+\n"
     ]
    }
   ],
   "source": [
    "result_df.select(\"token\", \"ner_label\")\\\n",
    "         .groupBy('ner_label').count()\\\n",
    "         .orderBy('count', ascending=False)\\\n",
    "         .show(truncate=False)"
   ]
  },
  {
   "cell_type": "code",
   "execution_count": 63,
   "metadata": {},
   "outputs": [
    {
     "name": "stdout",
     "output_type": "stream",
     "text": [
      "[Row(ner_chunk=[Row(annotatorType='chunk', begin=118, end=129, result='Mesothelioma', metadata={'sentence': '2', 'chunk': '0', 'ner_source': 'ner_chunk', 'entity': 'PROBLEM', 'confidence': '0.9991'}, embeddings=[]), Row(annotatorType='chunk', begin=132, end=147, result='pleural effusion', metadata={'sentence': '2', 'chunk': '1', 'ner_source': 'ner_chunk', 'entity': 'PROBLEM', 'confidence': '0.99465'}, embeddings=[]), Row(annotatorType='chunk', begin=150, end=168, result='atrial fibrillation', metadata={'sentence': '2', 'chunk': '2', 'ner_source': 'ner_chunk', 'entity': 'PROBLEM', 'confidence': '0.9979'}, embeddings=[]), Row(annotatorType='chunk', begin=171, end=176, result='anemia', metadata={'sentence': '2', 'chunk': '3', 'ner_source': 'ner_chunk', 'entity': 'PROBLEM', 'confidence': '0.999'}, embeddings=[]), Row(annotatorType='chunk', begin=179, end=185, result='ascites', metadata={'sentence': '2', 'chunk': '4', 'ner_source': 'ner_chunk', 'entity': 'PROBLEM', 'confidence': '0.9996'}, embeddings=[]), Row(annotatorType='chunk', begin=188, end=204, result='esophageal reflux', metadata={'sentence': '2', 'chunk': '5', 'ner_source': 'ner_chunk', 'entity': 'PROBLEM', 'confidence': '0.9979'}, embeddings=[]), Row(annotatorType='chunk', begin=222, end=243, result='deep venous thrombosis', metadata={'sentence': '2', 'chunk': '6', 'ner_source': 'ner_chunk', 'entity': 'PROBLEM', 'confidence': '0.96760005'}, embeddings=[]), Row(annotatorType='chunk', begin=305, end=316, result='Mesothelioma', metadata={'sentence': '4', 'chunk': '7', 'ner_source': 'ner_chunk', 'entity': 'PROBLEM', 'confidence': '0.987'}, embeddings=[]), Row(annotatorType='chunk', begin=340, end=355, result='Pleural effusion', metadata={'sentence': '5', 'chunk': '8', 'ner_source': 'ner_chunk', 'entity': 'PROBLEM', 'confidence': '0.97895'}, embeddings=[]), Row(annotatorType='chunk', begin=358, end=376, result='atrial fibrillation', metadata={'sentence': '5', 'chunk': '9', 'ner_source': 'ner_chunk', 'entity': 'PROBLEM', 'confidence': '0.99475'}, embeddings=[]), Row(annotatorType='chunk', begin=379, end=384, result='anemia', metadata={'sentence': '5', 'chunk': '10', 'ner_source': 'ner_chunk', 'entity': 'PROBLEM', 'confidence': '0.9984'}, embeddings=[]), Row(annotatorType='chunk', begin=387, end=393, result='ascites', metadata={'sentence': '5', 'chunk': '11', 'ner_source': 'ner_chunk', 'entity': 'PROBLEM', 'confidence': '0.9994'}, embeddings=[]), Row(annotatorType='chunk', begin=396, end=412, result='esophageal reflux', metadata={'sentence': '5', 'chunk': '12', 'ner_source': 'ner_chunk', 'entity': 'PROBLEM', 'confidence': '0.99724996'}, embeddings=[]), Row(annotatorType='chunk', begin=430, end=451, result='deep venous thrombosis', metadata={'sentence': '5', 'chunk': '13', 'ner_source': 'ner_chunk', 'entity': 'PROBLEM', 'confidence': '0.9550001'}, embeddings=[]), Row(annotatorType='chunk', begin=488, end=512, result='decortication of the lung', metadata={'sentence': '8', 'chunk': '14', 'ner_source': 'ner_chunk', 'entity': 'TREATMENT', 'confidence': '0.756325'}, embeddings=[]), Row(annotatorType='chunk', begin=519, end=532, result='pleural biopsy', metadata={'sentence': '8', 'chunk': '15', 'ner_source': 'ner_chunk', 'entity': 'TEST', 'confidence': '0.87715'}, embeddings=[]), Row(annotatorType='chunk', begin=538, end=561, result='transpleural fluoroscopy', metadata={'sentence': '8', 'chunk': '16', 'ner_source': 'ner_chunk', 'entity': 'TEST', 'confidence': '0.9527'}, embeddings=[]), Row(annotatorType='chunk', begin=587, end=599, result='thoracentesis', metadata={'sentence': '9', 'chunk': '17', 'ner_source': 'ner_chunk', 'entity': 'TREATMENT', 'confidence': '0.9075'}, embeddings=[]), Row(annotatorType='chunk', begin=625, end=645, result='Port-A-Cath placement', metadata={'sentence': '10', 'chunk': '18', 'ner_source': 'ner_chunk', 'entity': 'TREATMENT', 'confidence': '0.98075'}, embeddings=[]), Row(annotatorType='chunk', begin=722, end=742, result='a nonproductive cough', metadata={'sentence': '11', 'chunk': '19', 'ner_source': 'ner_chunk', 'entity': 'PROBLEM', 'confidence': '0.96173334'}, embeddings=[]), Row(annotatorType='chunk', begin=780, end=801, result='right-sided chest pain', metadata={'sentence': '12', 'chunk': '20', 'ner_source': 'ner_chunk', 'entity': 'PROBLEM', 'confidence': '0.97246665'}, embeddings=[]), Row(annotatorType='chunk', begin=830, end=834, result='fever', metadata={'sentence': '12', 'chunk': '21', 'ner_source': 'ner_chunk', 'entity': 'PROBLEM', 'confidence': '0.9998'}, embeddings=[]), Row(annotatorType='chunk', begin=877, end=888, result='pericarditis', metadata={'sentence': '13', 'chunk': '22', 'ner_source': 'ner_chunk', 'entity': 'PROBLEM', 'confidence': '0.9228'}, embeddings=[]), Row(annotatorType='chunk', begin=894, end=907, result='pericardectomy', metadata={'sentence': '13', 'chunk': '23', 'ner_source': 'ner_chunk', 'entity': 'TREATMENT', 'confidence': '0.9991'}, embeddings=[]), Row(annotatorType='chunk', begin=935, end=939, result='cough', metadata={'sentence': '13', 'chunk': '24', 'ner_source': 'ner_chunk', 'entity': 'PROBLEM', 'confidence': '0.9977'}, embeddings=[]), Row(annotatorType='chunk', begin=946, end=967, result='right-sided chest pain', metadata={'sentence': '13', 'chunk': '25', 'ner_source': 'ner_chunk', 'entity': 'PROBLEM', 'confidence': '0.9766'}, embeddings=[]), Row(annotatorType='chunk', begin=1005, end=1015, result='Chest x-ray', metadata={'sentence': '14', 'chunk': '26', 'ner_source': 'ner_chunk', 'entity': 'TEST', 'confidence': '0.91905'}, embeddings=[]), Row(annotatorType='chunk', begin=1026, end=1053, result='right-sided pleural effusion', metadata={'sentence': '14', 'chunk': '27', 'ner_source': 'ner_chunk', 'entity': 'PROBLEM', 'confidence': '0.9479'}, embeddings=[]), Row(annotatorType='chunk', begin=1080, end=1093, result='Pericardectomy', metadata={'sentence': '16', 'chunk': '28', 'ner_source': 'ner_chunk', 'entity': 'TREATMENT', 'confidence': '0.9962'}, embeddings=[]), Row(annotatorType='chunk', begin=1099, end=1110, result='Pericarditis', metadata={'sentence': '17', 'chunk': '29', 'ner_source': 'ner_chunk', 'entity': 'PROBLEM', 'confidence': '0.9861'}, embeddings=[]), Row(annotatorType='chunk', begin=1116, end=1134, result='Atrial fibrillation', metadata={'sentence': '18', 'chunk': '30', 'ner_source': 'ner_chunk', 'entity': 'PROBLEM', 'confidence': '0.9803'}, embeddings=[]), Row(annotatorType='chunk', begin=1150, end=1184, result='intracranial thrombolytic treatment', metadata={'sentence': '19', 'chunk': '31', 'ner_source': 'ner_chunk', 'entity': 'TREATMENT', 'confidence': '0.9476333'}, embeddings=[]), Row(annotatorType='chunk', begin=1204, end=1231, result='Mesenteric venous thrombosis', metadata={'sentence': '21', 'chunk': '32', 'ner_source': 'ner_chunk', 'entity': 'PROBLEM', 'confidence': '0.9354334'}, embeddings=[]), Row(annotatorType='chunk', begin=1237, end=1254, result='Pericardial window', metadata={'sentence': '22', 'chunk': '33', 'ner_source': 'ner_chunk', 'entity': 'TREATMENT', 'confidence': '0.6854'}, embeddings=[]), Row(annotatorType='chunk', begin=1260, end=1274, result='Cholecystectomy', metadata={'sentence': '23', 'chunk': '34', 'ner_source': 'ner_chunk', 'entity': 'TREATMENT', 'confidence': '0.9991'}, embeddings=[]), Row(annotatorType='chunk', begin=1280, end=1297, result='Left thoracentesis', metadata={'sentence': '24', 'chunk': '35', 'ner_source': 'ner_chunk', 'entity': 'TEST', 'confidence': '0.64185'}, embeddings=[]), Row(annotatorType='chunk', begin=1337, end=1359, result='coronary artery disease', metadata={'sentence': '25', 'chunk': '36', 'ner_source': 'ner_chunk', 'entity': 'PROBLEM', 'confidence': '0.9825001'}, embeddings=[]), Row(annotatorType='chunk', begin=1362, end=1364, result='CVA', metadata={'sentence': '25', 'chunk': '37', 'ner_source': 'ner_chunk', 'entity': 'PROBLEM', 'confidence': '0.9996'}, embeddings=[]), Row(annotatorType='chunk', begin=1367, end=1374, result='diabetes', metadata={'sentence': '25', 'chunk': '38', 'ner_source': 'ner_chunk', 'entity': 'PROBLEM', 'confidence': '0.9993'}, embeddings=[]), Row(annotatorType='chunk', begin=1377, end=1379, result='CHF', metadata={'sentence': '25', 'chunk': '39', 'ner_source': 'ner_chunk', 'entity': 'PROBLEM', 'confidence': '0.9997'}, embeddings=[]), Row(annotatorType='chunk', begin=1384, end=1385, result='MI', metadata={'sentence': '25', 'chunk': '40', 'ner_source': 'ner_chunk', 'entity': 'PROBLEM', 'confidence': '0.9996'}, embeddings=[]), Row(annotatorType='chunk', begin=1449, end=1454, result='cancer', metadata={'sentence': '26', 'chunk': '41', 'ner_source': 'ner_chunk', 'entity': 'PROBLEM', 'confidence': '0.9749'}, embeddings=[]), Row(annotatorType='chunk', begin=1609, end=1616, result='Coumadin', metadata={'sentence': '33', 'chunk': '42', 'ner_source': 'ner_chunk', 'entity': 'TREATMENT', 'confidence': '0.9997'}, embeddings=[]), Row(annotatorType='chunk', begin=1635, end=1637, result='INR', metadata={'sentence': '34', 'chunk': '43', 'ner_source': 'ner_chunk', 'entity': 'TEST', 'confidence': '0.7696'}, embeddings=[]), Row(annotatorType='chunk', begin=1676, end=1682, result='her INR', metadata={'sentence': '34', 'chunk': '44', 'ner_source': 'ner_chunk', 'entity': 'TEST', 'confidence': '0.79190004'}, embeddings=[]), Row(annotatorType='chunk', begin=1696, end=1705, result='Amiodarone', metadata={'sentence': '34', 'chunk': '45', 'ner_source': 'ner_chunk', 'entity': 'TREATMENT', 'confidence': '0.9998'}, embeddings=[]), Row(annotatorType='chunk', begin=1764, end=1770, result='systems', metadata={'sentence': '35', 'chunk': '46', 'ner_source': 'ner_chunk', 'entity': 'TEST', 'confidence': '0.5396'}, embeddings=[]), Row(annotatorType='chunk', begin=1845, end=1863, result='occasional numbness', metadata={'sentence': '36', 'chunk': '47', 'ner_source': 'ner_chunk', 'entity': 'PROBLEM', 'confidence': '0.95554996'}, embeddings=[]), Row(annotatorType='chunk', begin=1869, end=1892, result='tingling of her left arm', metadata={'sentence': '36', 'chunk': '48', 'ner_source': 'ner_chunk', 'entity': 'PROBLEM', 'confidence': '0.77458'}, embeddings=[]), Row(annotatorType='chunk', begin=1929, end=1942, result='Blood pressure', metadata={'sentence': '37', 'chunk': '49', 'ner_source': 'ner_chunk', 'entity': 'TEST', 'confidence': '0.9727'}, embeddings=[]), Row(annotatorType='chunk', begin=1952, end=1961, result='heart rate', metadata={'sentence': '37', 'chunk': '50', 'ner_source': 'ner_chunk', 'entity': 'TEST', 'confidence': '0.98315'}, embeddings=[]), Row(annotatorType='chunk', begin=1967, end=1978, result='respirations', metadata={'sentence': '37', 'chunk': '51', 'ner_source': 'ner_chunk', 'entity': 'TEST', 'confidence': '1.0'}, embeddings=[]), Row(annotatorType='chunk', begin=1984, end=1994, result='temperature', metadata={'sentence': '37', 'chunk': '52', 'ner_source': 'ner_chunk', 'entity': 'TEST', 'confidence': '0.9999'}, embeddings=[]), Row(annotatorType='chunk', begin=2004, end=2020, result='oxygen saturation', metadata={'sentence': '37', 'chunk': '53', 'ner_source': 'ner_chunk', 'entity': 'TEST', 'confidence': '0.97650003'}, embeddings=[]), Row(annotatorType='chunk', begin=2045, end=2063, result='nonproductive cough', metadata={'sentence': '38', 'chunk': '54', 'ner_source': 'ner_chunk', 'entity': 'PROBLEM', 'confidence': '0.83985'}, embeddings=[]), Row(annotatorType='chunk', begin=2069, end=2072, result='pain', metadata={'sentence': '38', 'chunk': '55', 'ner_source': 'ner_chunk', 'entity': 'PROBLEM', 'confidence': '0.9951'}, embeddings=[]), Row(annotatorType='chunk', begin=2079, end=2086, result='coughing', metadata={'sentence': '38', 'chunk': '56', 'ner_source': 'ner_chunk', 'entity': 'PROBLEM', 'confidence': '0.9568'}, embeddings=[]), Row(annotatorType='chunk', begin=2201, end=2215, result='lymphadenopathy', metadata={'sentence': '42', 'chunk': '57', 'ner_source': 'ner_chunk', 'entity': 'PROBLEM', 'confidence': '0.9988'}, embeddings=[]), Row(annotatorType='chunk', begin=2221, end=2226, result='masses', metadata={'sentence': '43', 'chunk': '58', 'ner_source': 'ner_chunk', 'entity': 'PROBLEM', 'confidence': '0.9995'}, embeddings=[]), Row(annotatorType='chunk', begin=2242, end=2261, result='Pleural friction rub', metadata={'sentence': '44', 'chunk': '59', 'ner_source': 'ner_chunk', 'entity': 'PROBLEM', 'confidence': '0.89523333'}, embeddings=[]), Row(annotatorType='chunk', begin=2283, end=2294, result='nondistended', metadata={'sentence': '45', 'chunk': '60', 'ner_source': 'ner_chunk', 'entity': 'PROBLEM', 'confidence': '0.9994'}, embeddings=[]), Row(annotatorType='chunk', begin=2301, end=2309, result='nontender', metadata={'sentence': '45', 'chunk': '61', 'ner_source': 'ner_chunk', 'entity': 'PROBLEM', 'confidence': '0.9991'}, embeddings=[]), Row(annotatorType='chunk', begin=2338, end=2349, result='organomegaly', metadata={'sentence': '47', 'chunk': '62', 'ner_source': 'ner_chunk', 'entity': 'PROBLEM', 'confidence': '0.9977'}, embeddings=[]), Row(annotatorType='chunk', begin=2368, end=2372, result='edema', metadata={'sentence': '48', 'chunk': '63', 'ner_source': 'ner_chunk', 'entity': 'PROBLEM', 'confidence': '0.9985'}, embeddings=[]), Row(annotatorType='chunk', begin=2378, end=2385, result='clubbing', metadata={'sentence': '48', 'chunk': '64', 'ner_source': 'ner_chunk', 'entity': 'PROBLEM', 'confidence': '0.9961'}, embeddings=[]), Row(annotatorType='chunk', begin=2391, end=2398, result='cyanosis', metadata={'sentence': '48', 'chunk': '65', 'ner_source': 'ner_chunk', 'entity': 'PROBLEM', 'confidence': '0.9984'}, embeddings=[]), Row(annotatorType='chunk', begin=2404, end=2413, result='tenderness', metadata={'sentence': '48', 'chunk': '66', 'ner_source': 'ner_chunk', 'entity': 'PROBLEM', 'confidence': '0.9995'}, embeddings=[]), Row(annotatorType='chunk', begin=2481, end=2489, result='breakdown', metadata={'sentence': '51', 'chunk': '67', 'ner_source': 'ner_chunk', 'entity': 'PROBLEM', 'confidence': '0.9982'}, embeddings=[]), Row(annotatorType='chunk', begin=2494, end=2500, result='lesions', metadata={'sentence': '51', 'chunk': '68', 'ner_source': 'ner_chunk', 'entity': 'PROBLEM', 'confidence': '0.9937'}, embeddings=[]), Row(annotatorType='chunk', begin=2506, end=2511, result='ulcers', metadata={'sentence': '52', 'chunk': '69', 'ner_source': 'ner_chunk', 'entity': 'PROBLEM', 'confidence': '0.9985'}, embeddings=[]), Row(annotatorType='chunk', begin=2545, end=2558, result='focal deficits', metadata={'sentence': '54', 'chunk': '70', 'ner_source': 'ner_chunk', 'entity': 'PROBLEM', 'confidence': '0.93095005'}, embeddings=[]), Row(annotatorType='chunk', begin=2633, end=2636, result='Labs', metadata={'sentence': '56', 'chunk': '71', 'ner_source': 'ner_chunk', 'entity': 'TEST', 'confidence': '0.9843'}, embeddings=[]), Row(annotatorType='chunk', begin=2697, end=2726, result='a right-sided pleural effusion', metadata={'sentence': '58', 'chunk': '72', 'ner_source': 'ner_chunk', 'entity': 'PROBLEM', 'confidence': '0.715325'}, embeddings=[]), Row(annotatorType='chunk', begin=2732, end=2744, result='thoracentesis', metadata={'sentence': '58', 'chunk': '73', 'ner_source': 'ner_chunk', 'entity': 'TREATMENT', 'confidence': '0.8775'}, embeddings=[]), Row(annotatorType='chunk', begin=2766, end=2777, result='Her Coumadin', metadata={'sentence': '58', 'chunk': '74', 'ner_source': 'ner_chunk', 'entity': 'TREATMENT', 'confidence': '0.98109996'}, embeddings=[]), Row(annotatorType='chunk', begin=2799, end=2821, result='A repeat echocardiogram', metadata={'sentence': '59', 'chunk': '75', 'ner_source': 'ner_chunk', 'entity': 'TEST', 'confidence': '0.8780667'}, embeddings=[]), Row(annotatorType='chunk', begin=2855, end=2865, result='prophylaxis', metadata={'sentence': '60', 'chunk': '76', 'ner_source': 'ner_chunk', 'entity': 'TREATMENT', 'confidence': '0.9996'}, embeddings=[]), Row(annotatorType='chunk', begin=2871, end=2873, result='DVT', metadata={'sentence': '60', 'chunk': '77', 'ner_source': 'ner_chunk', 'entity': 'PROBLEM', 'confidence': '0.9983'}, embeddings=[]), Row(annotatorType='chunk', begin=2880, end=2886, result='Lovenox', metadata={'sentence': '60', 'chunk': '78', 'ner_source': 'ner_chunk', 'entity': 'TREATMENT', 'confidence': '0.9982'}, embeddings=[]), Row(annotatorType='chunk', begin=3003, end=3014, result='pericarditis', metadata={'sentence': '61', 'chunk': '79', 'ner_source': 'ner_chunk', 'entity': 'PROBLEM', 'confidence': '0.8911'}, embeddings=[]), Row(annotatorType='chunk', begin=3040, end=3057, result='pericardial window', metadata={'sentence': '61', 'chunk': '80', 'ner_source': 'ner_chunk', 'entity': 'TREATMENT', 'confidence': '0.96784997'}, embeddings=[]), Row(annotatorType='chunk', begin=3123, end=3137, result='mesenteric pain', metadata={'sentence': '61', 'chunk': '81', 'ner_source': 'ner_chunk', 'entity': 'PROBLEM', 'confidence': '0.9893'}, embeddings=[]), Row(annotatorType='chunk', begin=3143, end=3152, result='thrombosis', metadata={'sentence': '61', 'chunk': '82', 'ner_source': 'ner_chunk', 'entity': 'PROBLEM', 'confidence': '0.9983'}, embeddings=[]), Row(annotatorType='chunk', begin=3162, end=3175, result='anticoagulated', metadata={'sentence': '61', 'chunk': '83', 'ner_source': 'ner_chunk', 'entity': 'TREATMENT', 'confidence': '0.9508'}, embeddings=[]), Row(annotatorType='chunk', begin=3281, end=3294, result='pericardectomy', metadata={'sentence': '62', 'chunk': '84', 'ner_source': 'ner_chunk', 'entity': 'TREATMENT', 'confidence': '0.9988'}, embeddings=[]), Row(annotatorType='chunk', begin=3337, end=3347, result='her CT scan', metadata={'sentence': '62', 'chunk': '85', 'ner_source': 'ner_chunk', 'entity': 'TEST', 'confidence': '0.9552667'}, embeddings=[]), Row(annotatorType='chunk', begin=3374, end=3391, result='her pericardectomy', metadata={'sentence': '62', 'chunk': '86', 'ner_source': 'ner_chunk', 'entity': 'TREATMENT', 'confidence': '0.87944996'}, embeddings=[]), Row(annotatorType='chunk', begin=3408, end=3433, result='bilateral plural effusions', metadata={'sentence': '62', 'chunk': '87', 'ner_source': 'ner_chunk', 'entity': 'PROBLEM', 'confidence': '0.9345667'}, embeddings=[]), Row(annotatorType='chunk', begin=3474, end=3491, result='the pericardectomy', metadata={'sentence': '63', 'chunk': '88', 'ner_source': 'ner_chunk', 'entity': 'TREATMENT', 'confidence': '0.98665'}, embeddings=[]), Row(annotatorType='chunk', begin=3512, end=3523, result='her symptoms', metadata={'sentence': '63', 'chunk': '89', 'ner_source': 'ner_chunk', 'entity': 'PROBLEM', 'confidence': '0.9017'}, embeddings=[]), Row(annotatorType='chunk', begin=3576, end=3585, result='chest pain', metadata={'sentence': '64', 'chunk': '90', 'ner_source': 'ner_chunk', 'entity': 'PROBLEM', 'confidence': '0.9956'}, embeddings=[]), Row(annotatorType='chunk', begin=3605, end=3630, result='bilateral pleural effusion', metadata={'sentence': '64', 'chunk': '91', 'ner_source': 'ner_chunk', 'entity': 'PROBLEM', 'confidence': '0.9514'}, embeddings=[]), Row(annotatorType='chunk', begin=3666, end=3680, result='CT of the chest', metadata={'sentence': '65', 'chunk': '92', 'ner_source': 'ner_chunk', 'entity': 'TEST', 'confidence': '0.853225'}, embeddings=[]), Row(annotatorType='chunk', begin=3696, end=3725, result='a large mediastinal lymph node', metadata={'sentence': '65', 'chunk': '93', 'ner_source': 'ner_chunk', 'entity': 'PROBLEM', 'confidence': '0.8369201'}, embeddings=[]), Row(annotatorType='chunk', begin=3740, end=3752, result='the pathology', metadata={'sentence': '66', 'chunk': '94', 'ner_source': 'ner_chunk', 'entity': 'TEST', 'confidence': '0.44089997'}, embeddings=[]), Row(annotatorType='chunk', begin=3768, end=3785, result='the pericardectomy', metadata={'sentence': '66', 'chunk': '95', 'ner_source': 'ner_chunk', 'entity': 'TREATMENT', 'confidence': '0.9546'}, embeddings=[]), Row(annotatorType='chunk', begin=3826, end=3837, result='mesothelioma', metadata={'sentence': '66', 'chunk': '96', 'ner_source': 'ner_chunk', 'entity': 'PROBLEM', 'confidence': '0.961'}, embeddings=[]), Row(annotatorType='chunk', begin=3854, end=3873, result='chest tube placement', metadata={'sentence': '67', 'chunk': '97', 'ner_source': 'ner_chunk', 'entity': 'TREATMENT', 'confidence': '0.9526333'}, embeddings=[]), Row(annotatorType='chunk', begin=3879, end=3899, result='drainage of the fluid', metadata={'sentence': '67', 'chunk': '98', 'ner_source': 'ner_chunk', 'entity': 'PROBLEM', 'confidence': '0.7372'}, embeddings=[]), Row(annotatorType='chunk', begin=3914, end=3925, result='thoracoscopy', metadata={'sentence': '67', 'chunk': '99', 'ner_source': 'ner_chunk', 'entity': 'TREATMENT', 'confidence': '0.6497'}, embeddings=[]), Row(annotatorType='chunk', begin=3932, end=3945, result='fluid biopsies', metadata={'sentence': '67', 'chunk': '100', 'ner_source': 'ner_chunk', 'entity': 'TEST', 'confidence': '0.7528'}, embeddings=[]), Row(annotatorType='chunk', begin=3985, end=4018, result='epithelioid malignant mesothelioma', metadata={'sentence': '67', 'chunk': '101', 'ner_source': 'ner_chunk', 'entity': 'PROBLEM', 'confidence': '0.97339994'}, embeddings=[]), Row(annotatorType='chunk', begin=4055, end=4062, result='a PET CT', metadata={'sentence': '68', 'chunk': '102', 'ner_source': 'ner_chunk', 'entity': 'TEST', 'confidence': '0.94320005'}, embeddings=[]), Row(annotatorType='chunk', begin=4078, end=4106, result='extensive uptake in the chest', metadata={'sentence': '68', 'chunk': '103', 'ner_source': 'ner_chunk', 'entity': 'PROBLEM', 'confidence': '0.90375996'}, embeddings=[]), Row(annotatorType='chunk', begin=4109, end=4147, result='bilateral pleural pericardial effusions', metadata={'sentence': '68', 'chunk': '104', 'ner_source': 'ner_chunk', 'entity': 'PROBLEM', 'confidence': '0.96755'}, embeddings=[]), Row(annotatorType='chunk', begin=4154, end=4168, result='lymphadenopathy', metadata={'sentence': '68', 'chunk': '105', 'ner_source': 'ner_chunk', 'entity': 'PROBLEM', 'confidence': '0.9956'}, embeddings=[]), Row(annotatorType='chunk', begin=4184, end=4195, result='acidic fluid', metadata={'sentence': '69', 'chunk': '106', 'ner_source': 'ner_chunk', 'entity': 'PROBLEM', 'confidence': '0.96854997'}, embeddings=[]), Row(annotatorType='chunk', begin=4198, end=4234, result='pectoral and intramammary lymph nodes', metadata={'sentence': '69', 'chunk': '107', 'ner_source': 'ner_chunk', 'entity': 'PROBLEM', 'confidence': '0.748'}, embeddings=[]), Row(annotatorType='chunk', begin=4240, end=4251, result='uptake in L4', metadata={'sentence': '69', 'chunk': '108', 'ner_source': 'ner_chunk', 'entity': 'PROBLEM', 'confidence': '0.8012333'}, embeddings=[]), Row(annotatorType='chunk', begin=4258, end=4260, result='SUV', metadata={'sentence': '69', 'chunk': '109', 'ner_source': 'ner_chunk', 'entity': 'TEST', 'confidence': '0.9959'}, embeddings=[]), Row(annotatorType='chunk', begin=4293, end=4309, result='stage III disease', metadata={'sentence': '70', 'chunk': '110', 'ner_source': 'ner_chunk', 'entity': 'PROBLEM', 'confidence': '0.8552334'}, embeddings=[]), Row(annotatorType='chunk', begin=4312, end=4336, result='Her repeat echocardiogram', metadata={'sentence': '71', 'chunk': '111', 'ner_source': 'ner_chunk', 'entity': 'TEST', 'confidence': '0.8606667'}, embeddings=[]), Row(annotatorType='chunk', begin=4345, end=4364, result='an ejection fraction', metadata={'sentence': '71', 'chunk': '112', 'ner_source': 'ner_chunk', 'entity': 'TEST', 'confidence': '0.7115'}, embeddings=[]), Row(annotatorType='chunk', begin=4436, end=4447, result='chemotherapy', metadata={'sentence': '72', 'chunk': '113', 'ner_source': 'ner_chunk', 'entity': 'TREATMENT', 'confidence': '0.9994'}, embeddings=[]), Row(annotatorType='chunk', begin=4475, end=4483, result='cisplatin', metadata={'sentence': '72', 'chunk': '114', 'ner_source': 'ner_chunk', 'entity': 'TREATMENT', 'confidence': '0.9996'}, embeddings=[]), Row(annotatorType='chunk', begin=4526, end=4537, result='IV piggyback', metadata={'sentence': '72', 'chunk': '115', 'ner_source': 'ner_chunk', 'entity': 'TREATMENT', 'confidence': '0.75020003'}, embeddings=[]), Row(annotatorType='chunk', begin=4574, end=4579, result='Alimta', metadata={'sentence': '72', 'chunk': '116', 'ner_source': 'ner_chunk', 'entity': 'TREATMENT', 'confidence': '0.9999'}, embeddings=[]), Row(annotatorType='chunk', begin=4624, end=4635, result='IV piggyback', metadata={'sentence': '72', 'chunk': '117', 'ner_source': 'ner_chunk', 'entity': 'TREATMENT', 'confidence': '0.7633'}, embeddings=[]), Row(annotatorType='chunk', begin=4683, end=4695, result='a Port-A-Cath', metadata={'sentence': '73', 'chunk': '118', 'ner_source': 'ner_chunk', 'entity': 'TREATMENT', 'confidence': '0.9683'}, embeddings=[]), Row(annotatorType='chunk', begin=4709, end=4724, result='The chemotherapy', metadata={'sentence': '74', 'chunk': '119', 'ner_source': 'ner_chunk', 'entity': 'TREATMENT', 'confidence': '0.94605'}, embeddings=[]), Row(annotatorType='chunk', begin=4814, end=4821, result='IV fluid', metadata={'sentence': '74', 'chunk': '120', 'ner_source': 'ner_chunk', 'entity': 'TREATMENT', 'confidence': '0.88874996'}, embeddings=[]), Row(annotatorType='chunk', begin=4827, end=4828, result='IV', metadata={'sentence': '74', 'chunk': '121', 'ner_source': 'ner_chunk', 'entity': 'TREATMENT', 'confidence': '0.9877'}, embeddings=[]), Row(annotatorType='chunk', begin=4831, end=4845, result='Her Port-A-Cath', metadata={'sentence': '75', 'chunk': '122', 'ner_source': 'ner_chunk', 'entity': 'TREATMENT', 'confidence': '0.97214997'}, embeddings=[]), Row(annotatorType='chunk', begin=4863, end=4869, result='heparin', metadata={'sentence': '75', 'chunk': '123', 'ner_source': 'ner_chunk', 'entity': 'TREATMENT', 'confidence': '0.9973'}, embeddings=[]), Row(annotatorType='chunk', begin=4894, end=4914, result='DISCHARGE MEDICATIONS', metadata={'sentence': '76', 'chunk': '124', 'ner_source': 'ner_chunk', 'entity': 'TREATMENT', 'confidence': '0.76094997'}, embeddings=[]), Row(annotatorType='chunk', begin=4917, end=4922, result='Zofran', metadata={'sentence': '76', 'chunk': '125', 'ner_source': 'ner_chunk', 'entity': 'TREATMENT', 'confidence': '0.9997'}, embeddings=[]), Row(annotatorType='chunk', begin=4925, end=4933, result='Phenergan', metadata={'sentence': '76', 'chunk': '126', 'ner_source': 'ner_chunk', 'entity': 'TREATMENT', 'confidence': '0.9999'}, embeddings=[]), Row(annotatorType='chunk', begin=4936, end=4943, result='Coumadin', metadata={'sentence': '76', 'chunk': '127', 'ner_source': 'ner_chunk', 'entity': 'TREATMENT', 'confidence': '1.0'}, embeddings=[]), Row(annotatorType='chunk', begin=4950, end=4956, result='Lovenox', metadata={'sentence': '76', 'chunk': '128', 'ner_source': 'ner_chunk', 'entity': 'TREATMENT', 'confidence': '0.9998'}, embeddings=[]), Row(annotatorType='chunk', begin=4963, end=4969, result='Vicodin', metadata={'sentence': '76', 'chunk': '129', 'ner_source': 'ner_chunk', 'entity': 'TREATMENT', 'confidence': '0.9989'}, embeddings=[]), Row(annotatorType='chunk', begin=5062, end=5068, result='her INR', metadata={'sentence': '77', 'chunk': '130', 'ner_source': 'ner_chunk', 'entity': 'TEST', 'confidence': '0.93625'}, embeddings=[]), Row(annotatorType='chunk', begin=5201, end=5212, result='mesothelioma', metadata={'sentence': '79', 'chunk': '131', 'ner_source': 'ner_chunk', 'entity': 'PROBLEM', 'confidence': '0.9981'}, embeddings=[]), Row(annotatorType='chunk', begin=5215, end=5230, result='pleural effusion', metadata={'sentence': '79', 'chunk': '132', 'ner_source': 'ner_chunk', 'entity': 'PROBLEM', 'confidence': '0.98370004'}, embeddings=[]), Row(annotatorType='chunk', begin=5233, end=5251, result='atrial fibrillation', metadata={'sentence': '79', 'chunk': '133', 'ner_source': 'ner_chunk', 'entity': 'PROBLEM', 'confidence': '0.9953'}, embeddings=[]), Row(annotatorType='chunk', begin=5254, end=5259, result='anemia', metadata={'sentence': '79', 'chunk': '134', 'ner_source': 'ner_chunk', 'entity': 'PROBLEM', 'confidence': '0.9981'}, embeddings=[]), Row(annotatorType='chunk', begin=5262, end=5268, result='ascites', metadata={'sentence': '79', 'chunk': '135', 'ner_source': 'ner_chunk', 'entity': 'PROBLEM', 'confidence': '0.999'}, embeddings=[]), Row(annotatorType='chunk', begin=5271, end=5287, result='esophageal reflux', metadata={'sentence': '79', 'chunk': '136', 'ner_source': 'ner_chunk', 'entity': 'PROBLEM', 'confidence': '0.9963'}, embeddings=[]), Row(annotatorType='chunk', begin=5290, end=5311, result='deep venous thrombosis', metadata={'sentence': '79', 'chunk': '137', 'ner_source': 'ner_chunk', 'entity': 'PROBLEM', 'confidence': '0.98296666'}, embeddings=[]), Row(annotatorType='chunk', begin=5314, end=5334, result='port-a-cath placement', metadata={'sentence': '79', 'chunk': '138', 'ner_source': 'ner_chunk', 'entity': 'TREATMENT', 'confidence': '0.918'}, embeddings=[]), Row(annotatorType='chunk', begin=5337, end=5347, result='port a cath', metadata={'sentence': '79', 'chunk': '139', 'ner_source': 'ner_chunk', 'entity': 'TREATMENT', 'confidence': '0.69156665'}, embeddings=[]), Row(annotatorType='chunk', begin=5350, end=5361, result='iv piggyback', metadata={'sentence': '79', 'chunk': '140', 'ner_source': 'ner_chunk', 'entity': 'TREATMENT', 'confidence': '0.9642'}, embeddings=[]), Row(annotatorType='chunk', begin=5364, end=5380, result='venous thrombosis', metadata={'sentence': '79', 'chunk': '141', 'ner_source': 'ner_chunk', 'entity': 'PROBLEM', 'confidence': '0.90615'}, embeddings=[]), Row(annotatorType='chunk', begin=5383, end=5388, result='atrial', metadata={'sentence': '79', 'chunk': '142', 'ner_source': 'ner_chunk', 'entity': 'PROBLEM', 'confidence': '0.6133'}, embeddings=[]), Row(annotatorType='chunk', begin=5391, end=5400, result='thrombosis', metadata={'sentence': '79', 'chunk': '143', 'ner_source': 'ner_chunk', 'entity': 'PROBLEM', 'confidence': '0.9317'}, embeddings=[]), Row(annotatorType='chunk', begin=5403, end=5413, result='pericardial', metadata={'sentence': '79', 'chunk': '144', 'ner_source': 'ner_chunk', 'entity': 'TREATMENT', 'confidence': '0.7272'}, embeddings=[]), Row(annotatorType='chunk', begin=5416, end=5430, result='lymphadenopathy', metadata={'sentence': '79', 'chunk': '145', 'ner_source': 'ner_chunk', 'entity': 'PROBLEM', 'confidence': '0.8981'}, embeddings=[]), Row(annotatorType='chunk', begin=5433, end=5437, result='fluid', metadata={'sentence': '79', 'chunk': '146', 'ner_source': 'ner_chunk', 'entity': 'PROBLEM', 'confidence': '0.6176'}, embeddings=[]), Row(annotatorType='chunk', begin=5440, end=5453, result='pericardectomy', metadata={'sentence': '79', 'chunk': '147', 'ner_source': 'ner_chunk', 'entity': 'TREATMENT', 'confidence': '0.9822'}, embeddings=[]), Row(annotatorType='chunk', begin=5456, end=5469, result='chest, pleural', metadata={'sentence': '79', 'chunk': '148', 'ner_source': 'ner_chunk', 'entity': 'PROBLEM', 'confidence': '0.7570999'}, embeddings=[])])]\n"
     ]
    }
   ],
   "source": [
    "result.select('ner_chunk').take(1)"
   ]
  },
  {
   "cell_type": "code",
   "execution_count": 64,
   "metadata": {},
   "outputs": [
    {
     "name": "stdout",
     "output_type": "stream",
     "text": [
      "{'annotatorType': 'chunk', 'begin': 118, 'end': 129, 'result': 'Mesothelioma', 'metadata': {'sentence': '2', 'chunk': '0', 'ner_source': 'ner_chunk', 'entity': 'PROBLEM', 'confidence': '0.9991'}}\n",
      "\n",
      "{'annotatorType': 'chunk', 'begin': 132, 'end': 147, 'result': 'pleural effusion', 'metadata': {'sentence': '2', 'chunk': '1', 'ner_source': 'ner_chunk', 'entity': 'PROBLEM', 'confidence': '0.99465'}}\n",
      "\n",
      "{'annotatorType': 'chunk', 'begin': 150, 'end': 168, 'result': 'atrial fibrillation', 'metadata': {'sentence': '2', 'chunk': '2', 'ner_source': 'ner_chunk', 'entity': 'PROBLEM', 'confidence': '0.9979'}}\n",
      "\n",
      "{'annotatorType': 'chunk', 'begin': 171, 'end': 176, 'result': 'anemia', 'metadata': {'sentence': '2', 'chunk': '3', 'ner_source': 'ner_chunk', 'entity': 'PROBLEM', 'confidence': '0.999'}}\n",
      "\n",
      "{'annotatorType': 'chunk', 'begin': 179, 'end': 185, 'result': 'ascites', 'metadata': {'sentence': '2', 'chunk': '4', 'ner_source': 'ner_chunk', 'entity': 'PROBLEM', 'confidence': '0.9996'}}\n",
      "\n",
      "{'annotatorType': 'chunk', 'begin': 188, 'end': 204, 'result': 'esophageal reflux', 'metadata': {'sentence': '2', 'chunk': '5', 'ner_source': 'ner_chunk', 'entity': 'PROBLEM', 'confidence': '0.9979'}}\n",
      "\n",
      "{'annotatorType': 'chunk', 'begin': 222, 'end': 243, 'result': 'deep venous thrombosis', 'metadata': {'sentence': '2', 'chunk': '6', 'ner_source': 'ner_chunk', 'entity': 'PROBLEM', 'confidence': '0.96760005'}}\n",
      "\n",
      "{'annotatorType': 'chunk', 'begin': 305, 'end': 316, 'result': 'Mesothelioma', 'metadata': {'sentence': '4', 'chunk': '7', 'ner_source': 'ner_chunk', 'entity': 'PROBLEM', 'confidence': '0.987'}}\n",
      "\n",
      "{'annotatorType': 'chunk', 'begin': 340, 'end': 355, 'result': 'Pleural effusion', 'metadata': {'sentence': '5', 'chunk': '8', 'ner_source': 'ner_chunk', 'entity': 'PROBLEM', 'confidence': '0.97895'}}\n",
      "\n",
      "{'annotatorType': 'chunk', 'begin': 358, 'end': 376, 'result': 'atrial fibrillation', 'metadata': {'sentence': '5', 'chunk': '9', 'ner_source': 'ner_chunk', 'entity': 'PROBLEM', 'confidence': '0.99475'}}\n",
      "\n",
      "{'annotatorType': 'chunk', 'begin': 379, 'end': 384, 'result': 'anemia', 'metadata': {'sentence': '5', 'chunk': '10', 'ner_source': 'ner_chunk', 'entity': 'PROBLEM', 'confidence': '0.9984'}}\n",
      "\n",
      "{'annotatorType': 'chunk', 'begin': 387, 'end': 393, 'result': 'ascites', 'metadata': {'sentence': '5', 'chunk': '11', 'ner_source': 'ner_chunk', 'entity': 'PROBLEM', 'confidence': '0.9994'}}\n",
      "\n",
      "{'annotatorType': 'chunk', 'begin': 396, 'end': 412, 'result': 'esophageal reflux', 'metadata': {'sentence': '5', 'chunk': '12', 'ner_source': 'ner_chunk', 'entity': 'PROBLEM', 'confidence': '0.99724996'}}\n",
      "\n",
      "{'annotatorType': 'chunk', 'begin': 430, 'end': 451, 'result': 'deep venous thrombosis', 'metadata': {'sentence': '5', 'chunk': '13', 'ner_source': 'ner_chunk', 'entity': 'PROBLEM', 'confidence': '0.9550001'}}\n",
      "\n",
      "{'annotatorType': 'chunk', 'begin': 488, 'end': 512, 'result': 'decortication of the lung', 'metadata': {'sentence': '8', 'chunk': '14', 'ner_source': 'ner_chunk', 'entity': 'TREATMENT', 'confidence': '0.756325'}}\n",
      "\n",
      "{'annotatorType': 'chunk', 'begin': 519, 'end': 532, 'result': 'pleural biopsy', 'metadata': {'sentence': '8', 'chunk': '15', 'ner_source': 'ner_chunk', 'entity': 'TEST', 'confidence': '0.87715'}}\n",
      "\n",
      "{'annotatorType': 'chunk', 'begin': 538, 'end': 561, 'result': 'transpleural fluoroscopy', 'metadata': {'sentence': '8', 'chunk': '16', 'ner_source': 'ner_chunk', 'entity': 'TEST', 'confidence': '0.9527'}}\n",
      "\n",
      "{'annotatorType': 'chunk', 'begin': 587, 'end': 599, 'result': 'thoracentesis', 'metadata': {'sentence': '9', 'chunk': '17', 'ner_source': 'ner_chunk', 'entity': 'TREATMENT', 'confidence': '0.9075'}}\n",
      "\n",
      "{'annotatorType': 'chunk', 'begin': 625, 'end': 645, 'result': 'Port-A-Cath placement', 'metadata': {'sentence': '10', 'chunk': '18', 'ner_source': 'ner_chunk', 'entity': 'TREATMENT', 'confidence': '0.98075'}}\n",
      "\n",
      "{'annotatorType': 'chunk', 'begin': 722, 'end': 742, 'result': 'a nonproductive cough', 'metadata': {'sentence': '11', 'chunk': '19', 'ner_source': 'ner_chunk', 'entity': 'PROBLEM', 'confidence': '0.96173334'}}\n",
      "\n",
      "{'annotatorType': 'chunk', 'begin': 780, 'end': 801, 'result': 'right-sided chest pain', 'metadata': {'sentence': '12', 'chunk': '20', 'ner_source': 'ner_chunk', 'entity': 'PROBLEM', 'confidence': '0.97246665'}}\n",
      "\n",
      "{'annotatorType': 'chunk', 'begin': 830, 'end': 834, 'result': 'fever', 'metadata': {'sentence': '12', 'chunk': '21', 'ner_source': 'ner_chunk', 'entity': 'PROBLEM', 'confidence': '0.9998'}}\n",
      "\n",
      "{'annotatorType': 'chunk', 'begin': 877, 'end': 888, 'result': 'pericarditis', 'metadata': {'sentence': '13', 'chunk': '22', 'ner_source': 'ner_chunk', 'entity': 'PROBLEM', 'confidence': '0.9228'}}\n",
      "\n",
      "{'annotatorType': 'chunk', 'begin': 894, 'end': 907, 'result': 'pericardectomy', 'metadata': {'sentence': '13', 'chunk': '23', 'ner_source': 'ner_chunk', 'entity': 'TREATMENT', 'confidence': '0.9991'}}\n",
      "\n",
      "{'annotatorType': 'chunk', 'begin': 935, 'end': 939, 'result': 'cough', 'metadata': {'sentence': '13', 'chunk': '24', 'ner_source': 'ner_chunk', 'entity': 'PROBLEM', 'confidence': '0.9977'}}\n",
      "\n",
      "{'annotatorType': 'chunk', 'begin': 946, 'end': 967, 'result': 'right-sided chest pain', 'metadata': {'sentence': '13', 'chunk': '25', 'ner_source': 'ner_chunk', 'entity': 'PROBLEM', 'confidence': '0.9766'}}\n",
      "\n",
      "{'annotatorType': 'chunk', 'begin': 1005, 'end': 1015, 'result': 'Chest x-ray', 'metadata': {'sentence': '14', 'chunk': '26', 'ner_source': 'ner_chunk', 'entity': 'TEST', 'confidence': '0.91905'}}\n",
      "\n",
      "{'annotatorType': 'chunk', 'begin': 1026, 'end': 1053, 'result': 'right-sided pleural effusion', 'metadata': {'sentence': '14', 'chunk': '27', 'ner_source': 'ner_chunk', 'entity': 'PROBLEM', 'confidence': '0.9479'}}\n",
      "\n",
      "{'annotatorType': 'chunk', 'begin': 1080, 'end': 1093, 'result': 'Pericardectomy', 'metadata': {'sentence': '16', 'chunk': '28', 'ner_source': 'ner_chunk', 'entity': 'TREATMENT', 'confidence': '0.9962'}}\n",
      "\n",
      "{'annotatorType': 'chunk', 'begin': 1099, 'end': 1110, 'result': 'Pericarditis', 'metadata': {'sentence': '17', 'chunk': '29', 'ner_source': 'ner_chunk', 'entity': 'PROBLEM', 'confidence': '0.9861'}}\n",
      "\n",
      "{'annotatorType': 'chunk', 'begin': 1116, 'end': 1134, 'result': 'Atrial fibrillation', 'metadata': {'sentence': '18', 'chunk': '30', 'ner_source': 'ner_chunk', 'entity': 'PROBLEM', 'confidence': '0.9803'}}\n",
      "\n",
      "{'annotatorType': 'chunk', 'begin': 1150, 'end': 1184, 'result': 'intracranial thrombolytic treatment', 'metadata': {'sentence': '19', 'chunk': '31', 'ner_source': 'ner_chunk', 'entity': 'TREATMENT', 'confidence': '0.9476333'}}\n",
      "\n",
      "{'annotatorType': 'chunk', 'begin': 1204, 'end': 1231, 'result': 'Mesenteric venous thrombosis', 'metadata': {'sentence': '21', 'chunk': '32', 'ner_source': 'ner_chunk', 'entity': 'PROBLEM', 'confidence': '0.9354334'}}\n",
      "\n",
      "{'annotatorType': 'chunk', 'begin': 1237, 'end': 1254, 'result': 'Pericardial window', 'metadata': {'sentence': '22', 'chunk': '33', 'ner_source': 'ner_chunk', 'entity': 'TREATMENT', 'confidence': '0.6854'}}\n",
      "\n",
      "{'annotatorType': 'chunk', 'begin': 1260, 'end': 1274, 'result': 'Cholecystectomy', 'metadata': {'sentence': '23', 'chunk': '34', 'ner_source': 'ner_chunk', 'entity': 'TREATMENT', 'confidence': '0.9991'}}\n",
      "\n",
      "{'annotatorType': 'chunk', 'begin': 1280, 'end': 1297, 'result': 'Left thoracentesis', 'metadata': {'sentence': '24', 'chunk': '35', 'ner_source': 'ner_chunk', 'entity': 'TEST', 'confidence': '0.64185'}}\n",
      "\n",
      "{'annotatorType': 'chunk', 'begin': 1337, 'end': 1359, 'result': 'coronary artery disease', 'metadata': {'sentence': '25', 'chunk': '36', 'ner_source': 'ner_chunk', 'entity': 'PROBLEM', 'confidence': '0.9825001'}}\n",
      "\n",
      "{'annotatorType': 'chunk', 'begin': 1362, 'end': 1364, 'result': 'CVA', 'metadata': {'sentence': '25', 'chunk': '37', 'ner_source': 'ner_chunk', 'entity': 'PROBLEM', 'confidence': '0.9996'}}\n",
      "\n",
      "{'annotatorType': 'chunk', 'begin': 1367, 'end': 1374, 'result': 'diabetes', 'metadata': {'sentence': '25', 'chunk': '38', 'ner_source': 'ner_chunk', 'entity': 'PROBLEM', 'confidence': '0.9993'}}\n",
      "\n",
      "{'annotatorType': 'chunk', 'begin': 1377, 'end': 1379, 'result': 'CHF', 'metadata': {'sentence': '25', 'chunk': '39', 'ner_source': 'ner_chunk', 'entity': 'PROBLEM', 'confidence': '0.9997'}}\n",
      "\n",
      "{'annotatorType': 'chunk', 'begin': 1384, 'end': 1385, 'result': 'MI', 'metadata': {'sentence': '25', 'chunk': '40', 'ner_source': 'ner_chunk', 'entity': 'PROBLEM', 'confidence': '0.9996'}}\n",
      "\n",
      "{'annotatorType': 'chunk', 'begin': 1449, 'end': 1454, 'result': 'cancer', 'metadata': {'sentence': '26', 'chunk': '41', 'ner_source': 'ner_chunk', 'entity': 'PROBLEM', 'confidence': '0.9749'}}\n",
      "\n",
      "{'annotatorType': 'chunk', 'begin': 1609, 'end': 1616, 'result': 'Coumadin', 'metadata': {'sentence': '33', 'chunk': '42', 'ner_source': 'ner_chunk', 'entity': 'TREATMENT', 'confidence': '0.9997'}}\n",
      "\n",
      "{'annotatorType': 'chunk', 'begin': 1635, 'end': 1637, 'result': 'INR', 'metadata': {'sentence': '34', 'chunk': '43', 'ner_source': 'ner_chunk', 'entity': 'TEST', 'confidence': '0.7696'}}\n",
      "\n",
      "{'annotatorType': 'chunk', 'begin': 1676, 'end': 1682, 'result': 'her INR', 'metadata': {'sentence': '34', 'chunk': '44', 'ner_source': 'ner_chunk', 'entity': 'TEST', 'confidence': '0.79190004'}}\n",
      "\n",
      "{'annotatorType': 'chunk', 'begin': 1696, 'end': 1705, 'result': 'Amiodarone', 'metadata': {'sentence': '34', 'chunk': '45', 'ner_source': 'ner_chunk', 'entity': 'TREATMENT', 'confidence': '0.9998'}}\n",
      "\n",
      "{'annotatorType': 'chunk', 'begin': 1764, 'end': 1770, 'result': 'systems', 'metadata': {'sentence': '35', 'chunk': '46', 'ner_source': 'ner_chunk', 'entity': 'TEST', 'confidence': '0.5396'}}\n",
      "\n",
      "{'annotatorType': 'chunk', 'begin': 1845, 'end': 1863, 'result': 'occasional numbness', 'metadata': {'sentence': '36', 'chunk': '47', 'ner_source': 'ner_chunk', 'entity': 'PROBLEM', 'confidence': '0.95554996'}}\n",
      "\n",
      "{'annotatorType': 'chunk', 'begin': 1869, 'end': 1892, 'result': 'tingling of her left arm', 'metadata': {'sentence': '36', 'chunk': '48', 'ner_source': 'ner_chunk', 'entity': 'PROBLEM', 'confidence': '0.77458'}}\n",
      "\n",
      "{'annotatorType': 'chunk', 'begin': 1929, 'end': 1942, 'result': 'Blood pressure', 'metadata': {'sentence': '37', 'chunk': '49', 'ner_source': 'ner_chunk', 'entity': 'TEST', 'confidence': '0.9727'}}\n",
      "\n",
      "{'annotatorType': 'chunk', 'begin': 1952, 'end': 1961, 'result': 'heart rate', 'metadata': {'sentence': '37', 'chunk': '50', 'ner_source': 'ner_chunk', 'entity': 'TEST', 'confidence': '0.98315'}}\n",
      "\n",
      "{'annotatorType': 'chunk', 'begin': 1967, 'end': 1978, 'result': 'respirations', 'metadata': {'sentence': '37', 'chunk': '51', 'ner_source': 'ner_chunk', 'entity': 'TEST', 'confidence': '1.0'}}\n",
      "\n",
      "{'annotatorType': 'chunk', 'begin': 1984, 'end': 1994, 'result': 'temperature', 'metadata': {'sentence': '37', 'chunk': '52', 'ner_source': 'ner_chunk', 'entity': 'TEST', 'confidence': '0.9999'}}\n",
      "\n",
      "{'annotatorType': 'chunk', 'begin': 2004, 'end': 2020, 'result': 'oxygen saturation', 'metadata': {'sentence': '37', 'chunk': '53', 'ner_source': 'ner_chunk', 'entity': 'TEST', 'confidence': '0.97650003'}}\n",
      "\n",
      "{'annotatorType': 'chunk', 'begin': 2045, 'end': 2063, 'result': 'nonproductive cough', 'metadata': {'sentence': '38', 'chunk': '54', 'ner_source': 'ner_chunk', 'entity': 'PROBLEM', 'confidence': '0.83985'}}\n",
      "\n",
      "{'annotatorType': 'chunk', 'begin': 2069, 'end': 2072, 'result': 'pain', 'metadata': {'sentence': '38', 'chunk': '55', 'ner_source': 'ner_chunk', 'entity': 'PROBLEM', 'confidence': '0.9951'}}\n",
      "\n",
      "{'annotatorType': 'chunk', 'begin': 2079, 'end': 2086, 'result': 'coughing', 'metadata': {'sentence': '38', 'chunk': '56', 'ner_source': 'ner_chunk', 'entity': 'PROBLEM', 'confidence': '0.9568'}}\n",
      "\n",
      "{'annotatorType': 'chunk', 'begin': 2201, 'end': 2215, 'result': 'lymphadenopathy', 'metadata': {'sentence': '42', 'chunk': '57', 'ner_source': 'ner_chunk', 'entity': 'PROBLEM', 'confidence': '0.9988'}}\n",
      "\n",
      "{'annotatorType': 'chunk', 'begin': 2221, 'end': 2226, 'result': 'masses', 'metadata': {'sentence': '43', 'chunk': '58', 'ner_source': 'ner_chunk', 'entity': 'PROBLEM', 'confidence': '0.9995'}}\n",
      "\n",
      "{'annotatorType': 'chunk', 'begin': 2242, 'end': 2261, 'result': 'Pleural friction rub', 'metadata': {'sentence': '44', 'chunk': '59', 'ner_source': 'ner_chunk', 'entity': 'PROBLEM', 'confidence': '0.89523333'}}\n",
      "\n",
      "{'annotatorType': 'chunk', 'begin': 2283, 'end': 2294, 'result': 'nondistended', 'metadata': {'sentence': '45', 'chunk': '60', 'ner_source': 'ner_chunk', 'entity': 'PROBLEM', 'confidence': '0.9994'}}\n",
      "\n",
      "{'annotatorType': 'chunk', 'begin': 2301, 'end': 2309, 'result': 'nontender', 'metadata': {'sentence': '45', 'chunk': '61', 'ner_source': 'ner_chunk', 'entity': 'PROBLEM', 'confidence': '0.9991'}}\n",
      "\n",
      "{'annotatorType': 'chunk', 'begin': 2338, 'end': 2349, 'result': 'organomegaly', 'metadata': {'sentence': '47', 'chunk': '62', 'ner_source': 'ner_chunk', 'entity': 'PROBLEM', 'confidence': '0.9977'}}\n",
      "\n",
      "{'annotatorType': 'chunk', 'begin': 2368, 'end': 2372, 'result': 'edema', 'metadata': {'sentence': '48', 'chunk': '63', 'ner_source': 'ner_chunk', 'entity': 'PROBLEM', 'confidence': '0.9985'}}\n",
      "\n",
      "{'annotatorType': 'chunk', 'begin': 2378, 'end': 2385, 'result': 'clubbing', 'metadata': {'sentence': '48', 'chunk': '64', 'ner_source': 'ner_chunk', 'entity': 'PROBLEM', 'confidence': '0.9961'}}\n",
      "\n",
      "{'annotatorType': 'chunk', 'begin': 2391, 'end': 2398, 'result': 'cyanosis', 'metadata': {'sentence': '48', 'chunk': '65', 'ner_source': 'ner_chunk', 'entity': 'PROBLEM', 'confidence': '0.9984'}}\n",
      "\n",
      "{'annotatorType': 'chunk', 'begin': 2404, 'end': 2413, 'result': 'tenderness', 'metadata': {'sentence': '48', 'chunk': '66', 'ner_source': 'ner_chunk', 'entity': 'PROBLEM', 'confidence': '0.9995'}}\n",
      "\n",
      "{'annotatorType': 'chunk', 'begin': 2481, 'end': 2489, 'result': 'breakdown', 'metadata': {'sentence': '51', 'chunk': '67', 'ner_source': 'ner_chunk', 'entity': 'PROBLEM', 'confidence': '0.9982'}}\n",
      "\n",
      "{'annotatorType': 'chunk', 'begin': 2494, 'end': 2500, 'result': 'lesions', 'metadata': {'sentence': '51', 'chunk': '68', 'ner_source': 'ner_chunk', 'entity': 'PROBLEM', 'confidence': '0.9937'}}\n",
      "\n",
      "{'annotatorType': 'chunk', 'begin': 2506, 'end': 2511, 'result': 'ulcers', 'metadata': {'sentence': '52', 'chunk': '69', 'ner_source': 'ner_chunk', 'entity': 'PROBLEM', 'confidence': '0.9985'}}\n",
      "\n",
      "{'annotatorType': 'chunk', 'begin': 2545, 'end': 2558, 'result': 'focal deficits', 'metadata': {'sentence': '54', 'chunk': '70', 'ner_source': 'ner_chunk', 'entity': 'PROBLEM', 'confidence': '0.93095005'}}\n",
      "\n",
      "{'annotatorType': 'chunk', 'begin': 2633, 'end': 2636, 'result': 'Labs', 'metadata': {'sentence': '56', 'chunk': '71', 'ner_source': 'ner_chunk', 'entity': 'TEST', 'confidence': '0.9843'}}\n",
      "\n",
      "{'annotatorType': 'chunk', 'begin': 2697, 'end': 2726, 'result': 'a right-sided pleural effusion', 'metadata': {'sentence': '58', 'chunk': '72', 'ner_source': 'ner_chunk', 'entity': 'PROBLEM', 'confidence': '0.715325'}}\n",
      "\n",
      "{'annotatorType': 'chunk', 'begin': 2732, 'end': 2744, 'result': 'thoracentesis', 'metadata': {'sentence': '58', 'chunk': '73', 'ner_source': 'ner_chunk', 'entity': 'TREATMENT', 'confidence': '0.8775'}}\n",
      "\n",
      "{'annotatorType': 'chunk', 'begin': 2766, 'end': 2777, 'result': 'Her Coumadin', 'metadata': {'sentence': '58', 'chunk': '74', 'ner_source': 'ner_chunk', 'entity': 'TREATMENT', 'confidence': '0.98109996'}}\n",
      "\n",
      "{'annotatorType': 'chunk', 'begin': 2799, 'end': 2821, 'result': 'A repeat echocardiogram', 'metadata': {'sentence': '59', 'chunk': '75', 'ner_source': 'ner_chunk', 'entity': 'TEST', 'confidence': '0.8780667'}}\n",
      "\n",
      "{'annotatorType': 'chunk', 'begin': 2855, 'end': 2865, 'result': 'prophylaxis', 'metadata': {'sentence': '60', 'chunk': '76', 'ner_source': 'ner_chunk', 'entity': 'TREATMENT', 'confidence': '0.9996'}}\n",
      "\n",
      "{'annotatorType': 'chunk', 'begin': 2871, 'end': 2873, 'result': 'DVT', 'metadata': {'sentence': '60', 'chunk': '77', 'ner_source': 'ner_chunk', 'entity': 'PROBLEM', 'confidence': '0.9983'}}\n",
      "\n",
      "{'annotatorType': 'chunk', 'begin': 2880, 'end': 2886, 'result': 'Lovenox', 'metadata': {'sentence': '60', 'chunk': '78', 'ner_source': 'ner_chunk', 'entity': 'TREATMENT', 'confidence': '0.9982'}}\n",
      "\n",
      "{'annotatorType': 'chunk', 'begin': 3003, 'end': 3014, 'result': 'pericarditis', 'metadata': {'sentence': '61', 'chunk': '79', 'ner_source': 'ner_chunk', 'entity': 'PROBLEM', 'confidence': '0.8911'}}\n",
      "\n",
      "{'annotatorType': 'chunk', 'begin': 3040, 'end': 3057, 'result': 'pericardial window', 'metadata': {'sentence': '61', 'chunk': '80', 'ner_source': 'ner_chunk', 'entity': 'TREATMENT', 'confidence': '0.96784997'}}\n",
      "\n",
      "{'annotatorType': 'chunk', 'begin': 3123, 'end': 3137, 'result': 'mesenteric pain', 'metadata': {'sentence': '61', 'chunk': '81', 'ner_source': 'ner_chunk', 'entity': 'PROBLEM', 'confidence': '0.9893'}}\n",
      "\n",
      "{'annotatorType': 'chunk', 'begin': 3143, 'end': 3152, 'result': 'thrombosis', 'metadata': {'sentence': '61', 'chunk': '82', 'ner_source': 'ner_chunk', 'entity': 'PROBLEM', 'confidence': '0.9983'}}\n",
      "\n",
      "{'annotatorType': 'chunk', 'begin': 3162, 'end': 3175, 'result': 'anticoagulated', 'metadata': {'sentence': '61', 'chunk': '83', 'ner_source': 'ner_chunk', 'entity': 'TREATMENT', 'confidence': '0.9508'}}\n",
      "\n",
      "{'annotatorType': 'chunk', 'begin': 3281, 'end': 3294, 'result': 'pericardectomy', 'metadata': {'sentence': '62', 'chunk': '84', 'ner_source': 'ner_chunk', 'entity': 'TREATMENT', 'confidence': '0.9988'}}\n",
      "\n",
      "{'annotatorType': 'chunk', 'begin': 3337, 'end': 3347, 'result': 'her CT scan', 'metadata': {'sentence': '62', 'chunk': '85', 'ner_source': 'ner_chunk', 'entity': 'TEST', 'confidence': '0.9552667'}}\n",
      "\n",
      "{'annotatorType': 'chunk', 'begin': 3374, 'end': 3391, 'result': 'her pericardectomy', 'metadata': {'sentence': '62', 'chunk': '86', 'ner_source': 'ner_chunk', 'entity': 'TREATMENT', 'confidence': '0.87944996'}}\n",
      "\n",
      "{'annotatorType': 'chunk', 'begin': 3408, 'end': 3433, 'result': 'bilateral plural effusions', 'metadata': {'sentence': '62', 'chunk': '87', 'ner_source': 'ner_chunk', 'entity': 'PROBLEM', 'confidence': '0.9345667'}}\n",
      "\n",
      "{'annotatorType': 'chunk', 'begin': 3474, 'end': 3491, 'result': 'the pericardectomy', 'metadata': {'sentence': '63', 'chunk': '88', 'ner_source': 'ner_chunk', 'entity': 'TREATMENT', 'confidence': '0.98665'}}\n",
      "\n",
      "{'annotatorType': 'chunk', 'begin': 3512, 'end': 3523, 'result': 'her symptoms', 'metadata': {'sentence': '63', 'chunk': '89', 'ner_source': 'ner_chunk', 'entity': 'PROBLEM', 'confidence': '0.9017'}}\n",
      "\n",
      "{'annotatorType': 'chunk', 'begin': 3576, 'end': 3585, 'result': 'chest pain', 'metadata': {'sentence': '64', 'chunk': '90', 'ner_source': 'ner_chunk', 'entity': 'PROBLEM', 'confidence': '0.9956'}}\n",
      "\n",
      "{'annotatorType': 'chunk', 'begin': 3605, 'end': 3630, 'result': 'bilateral pleural effusion', 'metadata': {'sentence': '64', 'chunk': '91', 'ner_source': 'ner_chunk', 'entity': 'PROBLEM', 'confidence': '0.9514'}}\n",
      "\n",
      "{'annotatorType': 'chunk', 'begin': 3666, 'end': 3680, 'result': 'CT of the chest', 'metadata': {'sentence': '65', 'chunk': '92', 'ner_source': 'ner_chunk', 'entity': 'TEST', 'confidence': '0.853225'}}\n",
      "\n",
      "{'annotatorType': 'chunk', 'begin': 3696, 'end': 3725, 'result': 'a large mediastinal lymph node', 'metadata': {'sentence': '65', 'chunk': '93', 'ner_source': 'ner_chunk', 'entity': 'PROBLEM', 'confidence': '0.8369201'}}\n",
      "\n",
      "{'annotatorType': 'chunk', 'begin': 3740, 'end': 3752, 'result': 'the pathology', 'metadata': {'sentence': '66', 'chunk': '94', 'ner_source': 'ner_chunk', 'entity': 'TEST', 'confidence': '0.44089997'}}\n",
      "\n",
      "{'annotatorType': 'chunk', 'begin': 3768, 'end': 3785, 'result': 'the pericardectomy', 'metadata': {'sentence': '66', 'chunk': '95', 'ner_source': 'ner_chunk', 'entity': 'TREATMENT', 'confidence': '0.9546'}}\n",
      "\n",
      "{'annotatorType': 'chunk', 'begin': 3826, 'end': 3837, 'result': 'mesothelioma', 'metadata': {'sentence': '66', 'chunk': '96', 'ner_source': 'ner_chunk', 'entity': 'PROBLEM', 'confidence': '0.961'}}\n",
      "\n",
      "{'annotatorType': 'chunk', 'begin': 3854, 'end': 3873, 'result': 'chest tube placement', 'metadata': {'sentence': '67', 'chunk': '97', 'ner_source': 'ner_chunk', 'entity': 'TREATMENT', 'confidence': '0.9526333'}}\n",
      "\n",
      "{'annotatorType': 'chunk', 'begin': 3879, 'end': 3899, 'result': 'drainage of the fluid', 'metadata': {'sentence': '67', 'chunk': '98', 'ner_source': 'ner_chunk', 'entity': 'PROBLEM', 'confidence': '0.7372'}}\n",
      "\n",
      "{'annotatorType': 'chunk', 'begin': 3914, 'end': 3925, 'result': 'thoracoscopy', 'metadata': {'sentence': '67', 'chunk': '99', 'ner_source': 'ner_chunk', 'entity': 'TREATMENT', 'confidence': '0.6497'}}\n",
      "\n",
      "{'annotatorType': 'chunk', 'begin': 3932, 'end': 3945, 'result': 'fluid biopsies', 'metadata': {'sentence': '67', 'chunk': '100', 'ner_source': 'ner_chunk', 'entity': 'TEST', 'confidence': '0.7528'}}\n",
      "\n",
      "{'annotatorType': 'chunk', 'begin': 3985, 'end': 4018, 'result': 'epithelioid malignant mesothelioma', 'metadata': {'sentence': '67', 'chunk': '101', 'ner_source': 'ner_chunk', 'entity': 'PROBLEM', 'confidence': '0.97339994'}}\n",
      "\n",
      "{'annotatorType': 'chunk', 'begin': 4055, 'end': 4062, 'result': 'a PET CT', 'metadata': {'sentence': '68', 'chunk': '102', 'ner_source': 'ner_chunk', 'entity': 'TEST', 'confidence': '0.94320005'}}\n",
      "\n",
      "{'annotatorType': 'chunk', 'begin': 4078, 'end': 4106, 'result': 'extensive uptake in the chest', 'metadata': {'sentence': '68', 'chunk': '103', 'ner_source': 'ner_chunk', 'entity': 'PROBLEM', 'confidence': '0.90375996'}}\n",
      "\n",
      "{'annotatorType': 'chunk', 'begin': 4109, 'end': 4147, 'result': 'bilateral pleural pericardial effusions', 'metadata': {'sentence': '68', 'chunk': '104', 'ner_source': 'ner_chunk', 'entity': 'PROBLEM', 'confidence': '0.96755'}}\n",
      "\n",
      "{'annotatorType': 'chunk', 'begin': 4154, 'end': 4168, 'result': 'lymphadenopathy', 'metadata': {'sentence': '68', 'chunk': '105', 'ner_source': 'ner_chunk', 'entity': 'PROBLEM', 'confidence': '0.9956'}}\n",
      "\n",
      "{'annotatorType': 'chunk', 'begin': 4184, 'end': 4195, 'result': 'acidic fluid', 'metadata': {'sentence': '69', 'chunk': '106', 'ner_source': 'ner_chunk', 'entity': 'PROBLEM', 'confidence': '0.96854997'}}\n",
      "\n",
      "{'annotatorType': 'chunk', 'begin': 4198, 'end': 4234, 'result': 'pectoral and intramammary lymph nodes', 'metadata': {'sentence': '69', 'chunk': '107', 'ner_source': 'ner_chunk', 'entity': 'PROBLEM', 'confidence': '0.748'}}\n",
      "\n",
      "{'annotatorType': 'chunk', 'begin': 4240, 'end': 4251, 'result': 'uptake in L4', 'metadata': {'sentence': '69', 'chunk': '108', 'ner_source': 'ner_chunk', 'entity': 'PROBLEM', 'confidence': '0.8012333'}}\n",
      "\n",
      "{'annotatorType': 'chunk', 'begin': 4258, 'end': 4260, 'result': 'SUV', 'metadata': {'sentence': '69', 'chunk': '109', 'ner_source': 'ner_chunk', 'entity': 'TEST', 'confidence': '0.9959'}}\n",
      "\n",
      "{'annotatorType': 'chunk', 'begin': 4293, 'end': 4309, 'result': 'stage III disease', 'metadata': {'sentence': '70', 'chunk': '110', 'ner_source': 'ner_chunk', 'entity': 'PROBLEM', 'confidence': '0.8552334'}}\n",
      "\n",
      "{'annotatorType': 'chunk', 'begin': 4312, 'end': 4336, 'result': 'Her repeat echocardiogram', 'metadata': {'sentence': '71', 'chunk': '111', 'ner_source': 'ner_chunk', 'entity': 'TEST', 'confidence': '0.8606667'}}\n",
      "\n",
      "{'annotatorType': 'chunk', 'begin': 4345, 'end': 4364, 'result': 'an ejection fraction', 'metadata': {'sentence': '71', 'chunk': '112', 'ner_source': 'ner_chunk', 'entity': 'TEST', 'confidence': '0.7115'}}\n",
      "\n",
      "{'annotatorType': 'chunk', 'begin': 4436, 'end': 4447, 'result': 'chemotherapy', 'metadata': {'sentence': '72', 'chunk': '113', 'ner_source': 'ner_chunk', 'entity': 'TREATMENT', 'confidence': '0.9994'}}\n",
      "\n",
      "{'annotatorType': 'chunk', 'begin': 4475, 'end': 4483, 'result': 'cisplatin', 'metadata': {'sentence': '72', 'chunk': '114', 'ner_source': 'ner_chunk', 'entity': 'TREATMENT', 'confidence': '0.9996'}}\n",
      "\n",
      "{'annotatorType': 'chunk', 'begin': 4526, 'end': 4537, 'result': 'IV piggyback', 'metadata': {'sentence': '72', 'chunk': '115', 'ner_source': 'ner_chunk', 'entity': 'TREATMENT', 'confidence': '0.75020003'}}\n",
      "\n",
      "{'annotatorType': 'chunk', 'begin': 4574, 'end': 4579, 'result': 'Alimta', 'metadata': {'sentence': '72', 'chunk': '116', 'ner_source': 'ner_chunk', 'entity': 'TREATMENT', 'confidence': '0.9999'}}\n",
      "\n",
      "{'annotatorType': 'chunk', 'begin': 4624, 'end': 4635, 'result': 'IV piggyback', 'metadata': {'sentence': '72', 'chunk': '117', 'ner_source': 'ner_chunk', 'entity': 'TREATMENT', 'confidence': '0.7633'}}\n",
      "\n",
      "{'annotatorType': 'chunk', 'begin': 4683, 'end': 4695, 'result': 'a Port-A-Cath', 'metadata': {'sentence': '73', 'chunk': '118', 'ner_source': 'ner_chunk', 'entity': 'TREATMENT', 'confidence': '0.9683'}}\n",
      "\n",
      "{'annotatorType': 'chunk', 'begin': 4709, 'end': 4724, 'result': 'The chemotherapy', 'metadata': {'sentence': '74', 'chunk': '119', 'ner_source': 'ner_chunk', 'entity': 'TREATMENT', 'confidence': '0.94605'}}\n",
      "\n",
      "{'annotatorType': 'chunk', 'begin': 4814, 'end': 4821, 'result': 'IV fluid', 'metadata': {'sentence': '74', 'chunk': '120', 'ner_source': 'ner_chunk', 'entity': 'TREATMENT', 'confidence': '0.88874996'}}\n",
      "\n",
      "{'annotatorType': 'chunk', 'begin': 4827, 'end': 4828, 'result': 'IV', 'metadata': {'sentence': '74', 'chunk': '121', 'ner_source': 'ner_chunk', 'entity': 'TREATMENT', 'confidence': '0.9877'}}\n",
      "\n",
      "{'annotatorType': 'chunk', 'begin': 4831, 'end': 4845, 'result': 'Her Port-A-Cath', 'metadata': {'sentence': '75', 'chunk': '122', 'ner_source': 'ner_chunk', 'entity': 'TREATMENT', 'confidence': '0.97214997'}}\n",
      "\n",
      "{'annotatorType': 'chunk', 'begin': 4863, 'end': 4869, 'result': 'heparin', 'metadata': {'sentence': '75', 'chunk': '123', 'ner_source': 'ner_chunk', 'entity': 'TREATMENT', 'confidence': '0.9973'}}\n",
      "\n",
      "{'annotatorType': 'chunk', 'begin': 4894, 'end': 4914, 'result': 'DISCHARGE MEDICATIONS', 'metadata': {'sentence': '76', 'chunk': '124', 'ner_source': 'ner_chunk', 'entity': 'TREATMENT', 'confidence': '0.76094997'}}\n",
      "\n",
      "{'annotatorType': 'chunk', 'begin': 4917, 'end': 4922, 'result': 'Zofran', 'metadata': {'sentence': '76', 'chunk': '125', 'ner_source': 'ner_chunk', 'entity': 'TREATMENT', 'confidence': '0.9997'}}\n",
      "\n",
      "{'annotatorType': 'chunk', 'begin': 4925, 'end': 4933, 'result': 'Phenergan', 'metadata': {'sentence': '76', 'chunk': '126', 'ner_source': 'ner_chunk', 'entity': 'TREATMENT', 'confidence': '0.9999'}}\n",
      "\n",
      "{'annotatorType': 'chunk', 'begin': 4936, 'end': 4943, 'result': 'Coumadin', 'metadata': {'sentence': '76', 'chunk': '127', 'ner_source': 'ner_chunk', 'entity': 'TREATMENT', 'confidence': '1.0'}}\n",
      "\n",
      "{'annotatorType': 'chunk', 'begin': 4950, 'end': 4956, 'result': 'Lovenox', 'metadata': {'sentence': '76', 'chunk': '128', 'ner_source': 'ner_chunk', 'entity': 'TREATMENT', 'confidence': '0.9998'}}\n",
      "\n",
      "{'annotatorType': 'chunk', 'begin': 4963, 'end': 4969, 'result': 'Vicodin', 'metadata': {'sentence': '76', 'chunk': '129', 'ner_source': 'ner_chunk', 'entity': 'TREATMENT', 'confidence': '0.9989'}}\n",
      "\n",
      "{'annotatorType': 'chunk', 'begin': 5062, 'end': 5068, 'result': 'her INR', 'metadata': {'sentence': '77', 'chunk': '130', 'ner_source': 'ner_chunk', 'entity': 'TEST', 'confidence': '0.93625'}}\n",
      "\n",
      "{'annotatorType': 'chunk', 'begin': 5201, 'end': 5212, 'result': 'mesothelioma', 'metadata': {'sentence': '79', 'chunk': '131', 'ner_source': 'ner_chunk', 'entity': 'PROBLEM', 'confidence': '0.9981'}}\n",
      "\n",
      "{'annotatorType': 'chunk', 'begin': 5215, 'end': 5230, 'result': 'pleural effusion', 'metadata': {'sentence': '79', 'chunk': '132', 'ner_source': 'ner_chunk', 'entity': 'PROBLEM', 'confidence': '0.98370004'}}\n",
      "\n",
      "{'annotatorType': 'chunk', 'begin': 5233, 'end': 5251, 'result': 'atrial fibrillation', 'metadata': {'sentence': '79', 'chunk': '133', 'ner_source': 'ner_chunk', 'entity': 'PROBLEM', 'confidence': '0.9953'}}\n",
      "\n",
      "{'annotatorType': 'chunk', 'begin': 5254, 'end': 5259, 'result': 'anemia', 'metadata': {'sentence': '79', 'chunk': '134', 'ner_source': 'ner_chunk', 'entity': 'PROBLEM', 'confidence': '0.9981'}}\n",
      "\n",
      "{'annotatorType': 'chunk', 'begin': 5262, 'end': 5268, 'result': 'ascites', 'metadata': {'sentence': '79', 'chunk': '135', 'ner_source': 'ner_chunk', 'entity': 'PROBLEM', 'confidence': '0.999'}}\n",
      "\n",
      "{'annotatorType': 'chunk', 'begin': 5271, 'end': 5287, 'result': 'esophageal reflux', 'metadata': {'sentence': '79', 'chunk': '136', 'ner_source': 'ner_chunk', 'entity': 'PROBLEM', 'confidence': '0.9963'}}\n",
      "\n",
      "{'annotatorType': 'chunk', 'begin': 5290, 'end': 5311, 'result': 'deep venous thrombosis', 'metadata': {'sentence': '79', 'chunk': '137', 'ner_source': 'ner_chunk', 'entity': 'PROBLEM', 'confidence': '0.98296666'}}\n",
      "\n",
      "{'annotatorType': 'chunk', 'begin': 5314, 'end': 5334, 'result': 'port-a-cath placement', 'metadata': {'sentence': '79', 'chunk': '138', 'ner_source': 'ner_chunk', 'entity': 'TREATMENT', 'confidence': '0.918'}}\n",
      "\n",
      "{'annotatorType': 'chunk', 'begin': 5337, 'end': 5347, 'result': 'port a cath', 'metadata': {'sentence': '79', 'chunk': '139', 'ner_source': 'ner_chunk', 'entity': 'TREATMENT', 'confidence': '0.69156665'}}\n",
      "\n",
      "{'annotatorType': 'chunk', 'begin': 5350, 'end': 5361, 'result': 'iv piggyback', 'metadata': {'sentence': '79', 'chunk': '140', 'ner_source': 'ner_chunk', 'entity': 'TREATMENT', 'confidence': '0.9642'}}\n",
      "\n",
      "{'annotatorType': 'chunk', 'begin': 5364, 'end': 5380, 'result': 'venous thrombosis', 'metadata': {'sentence': '79', 'chunk': '141', 'ner_source': 'ner_chunk', 'entity': 'PROBLEM', 'confidence': '0.90615'}}\n",
      "\n",
      "{'annotatorType': 'chunk', 'begin': 5383, 'end': 5388, 'result': 'atrial', 'metadata': {'sentence': '79', 'chunk': '142', 'ner_source': 'ner_chunk', 'entity': 'PROBLEM', 'confidence': '0.6133'}}\n",
      "\n",
      "{'annotatorType': 'chunk', 'begin': 5391, 'end': 5400, 'result': 'thrombosis', 'metadata': {'sentence': '79', 'chunk': '143', 'ner_source': 'ner_chunk', 'entity': 'PROBLEM', 'confidence': '0.9317'}}\n",
      "\n",
      "{'annotatorType': 'chunk', 'begin': 5403, 'end': 5413, 'result': 'pericardial', 'metadata': {'sentence': '79', 'chunk': '144', 'ner_source': 'ner_chunk', 'entity': 'TREATMENT', 'confidence': '0.7272'}}\n",
      "\n",
      "{'annotatorType': 'chunk', 'begin': 5416, 'end': 5430, 'result': 'lymphadenopathy', 'metadata': {'sentence': '79', 'chunk': '145', 'ner_source': 'ner_chunk', 'entity': 'PROBLEM', 'confidence': '0.8981'}}\n",
      "\n",
      "{'annotatorType': 'chunk', 'begin': 5433, 'end': 5437, 'result': 'fluid', 'metadata': {'sentence': '79', 'chunk': '146', 'ner_source': 'ner_chunk', 'entity': 'PROBLEM', 'confidence': '0.6176'}}\n",
      "\n",
      "{'annotatorType': 'chunk', 'begin': 5440, 'end': 5453, 'result': 'pericardectomy', 'metadata': {'sentence': '79', 'chunk': '147', 'ner_source': 'ner_chunk', 'entity': 'TREATMENT', 'confidence': '0.9822'}}\n",
      "\n",
      "{'annotatorType': 'chunk', 'begin': 5456, 'end': 5469, 'result': 'chest, pleural', 'metadata': {'sentence': '79', 'chunk': '148', 'ner_source': 'ner_chunk', 'entity': 'PROBLEM', 'confidence': '0.7570999'}}\n"
     ]
    }
   ],
   "source": [
    "row_list = [{'annotatorType': row.annotatorType,\n",
    "             'begin': row.begin,\n",
    "             'end': row.end,\n",
    "             'result': row.result,\n",
    "             'metadata': row.metadata}\n",
    "            for row in result.select('ner_chunk').take(1)[0][0]\n",
    "           ]\n",
    "\n",
    "for item in row_list:\n",
    "    print(item)"
   ]
  },
  {
   "cell_type": "code",
   "execution_count": 17,
   "metadata": {},
   "outputs": [
    {
     "name": "stdout",
     "output_type": "stream",
     "text": [
      "+-------------------------+---------+----------+\n",
      "\n",
      "|chunk                    |ner_label|confidence|\n",
      "\n",
      "+-------------------------+---------+----------+\n",
      "\n",
      "|Mesothelioma             |PROBLEM  |0.9991    |\n",
      "\n",
      "|pleural effusion         |PROBLEM  |0.99465   |\n",
      "\n",
      "|atrial fibrillation      |PROBLEM  |0.9979    |\n",
      "\n",
      "|anemia                   |PROBLEM  |0.999     |\n",
      "\n",
      "|ascites                  |PROBLEM  |0.9996    |\n",
      "\n",
      "|esophageal reflux        |PROBLEM  |0.9979    |\n",
      "\n",
      "|deep venous thrombosis   |PROBLEM  |0.96760005|\n",
      "\n",
      "|Mesothelioma             |PROBLEM  |0.987     |\n",
      "\n",
      "|Pleural effusion         |PROBLEM  |0.97895   |\n",
      "\n",
      "|atrial fibrillation      |PROBLEM  |0.99475   |\n",
      "\n",
      "|anemia                   |PROBLEM  |0.9984    |\n",
      "\n",
      "|ascites                  |PROBLEM  |0.9994    |\n",
      "\n",
      "|esophageal reflux        |PROBLEM  |0.99724996|\n",
      "\n",
      "|deep venous thrombosis   |PROBLEM  |0.9550001 |\n",
      "\n",
      "|decortication of the lung|TREATMENT|0.756325  |\n",
      "\n",
      "|pleural biopsy           |TEST     |0.87715   |\n",
      "\n",
      "|transpleural fluoroscopy |TEST     |0.9527    |\n",
      "\n",
      "|thoracentesis            |TREATMENT|0.9075    |\n",
      "\n",
      "|Port-A-Cath placement    |TREATMENT|0.98075   |\n",
      "\n",
      "|a nonproductive cough    |PROBLEM  |0.96173334|\n",
      "\n",
      "+-------------------------+---------+----------+\n",
      "\n",
      "only showing top 20 rows\n"
     ]
    }
   ],
   "source": [
    "result.select(F.explode(F.arrays_zip(result.ner_chunk.result,\n",
    "                                     result.ner_chunk.metadata)).alias(\"cols\")) \\\n",
    "      .select(F.expr(\"cols['0']\").alias(\"chunk\"),\n",
    "              F.expr(\"cols['1']['entity']\").alias(\"ner_label\"),\n",
    "              F.expr(\"cols['1']['confidence']\").alias(\"confidence\")).show(truncate=False)"
   ]
  },
  {
   "cell_type": "markdown",
   "metadata": {},
   "source": [
    "### LightPipeline\n",
    "\n",
    "LightPipelines are Spark NLP specific Pipelines, equivalent to Spark ML Pipeline, but meant to deal with smaller amounts of data. They’re useful working with small datasets, debugging results, or when running either training or prediction from an API that serves one-off requests.\n",
    "\n",
    "**It is nearly 10x faster than using Spark ML Pipeline**\n",
    "\n",
    "Syntax: `LightPipeline(someTrainedPipeline).annotate(someStringOrArray)`\n",
    "\n",
    "For more details, please check: https://medium.com/spark-nlp/spark-nlp-101-lightpipeline-a544e93f20f1"
   ]
  },
  {
   "cell_type": "code",
   "execution_count": 14,
   "metadata": {
    "tags": []
   },
   "outputs": [
    {
     "name": "stdout",
     "output_type": "stream",
     "text": [
      "\n",
      "A 28-year-old female with a history of gestational diabetes mellitus diagnosed eight years prior to presentation and subsequent type two diabetes mellitus (T2DM), one prior episode of HTG-induced pancreatitis three years prior to presentation, and associated with an acute hepatitis, presented with a one-week history of polyuria, poor appetite, and vomiting.\n",
      "She was on metformin, glipizide, and dapagliflozin for T2DM and atorvastatin and gemfibrozil for HTG. She had been on dapagliflozin for six months at the time of presentation.\n",
      "Physical examination on presentation was significant for dry oral mucosa ; significantly , her abdominal examination was benign with no tenderness, guarding, or rigidity. Pertinent laboratory findings on admission were: serum glucose 111 mg/dl,  creatinine 0.4 mg/dL, triglycerides 508 mg/dL, total cholesterol 122 mg/dL, and venous pH 7.27.\n"
     ]
    }
   ],
   "source": [
    "# fullAnnotate in LightPipeline\n",
    "\n",
    "text = '''\n",
    "A 28-year-old female with a history of gestational diabetes mellitus diagnosed eight years prior to presentation and subsequent type two diabetes mellitus (T2DM), one prior episode of HTG-induced pancreatitis three years prior to presentation, and associated with an acute hepatitis, presented with a one-week history of polyuria, poor appetite, and vomiting.\n",
    "She was on metformin, glipizide, and dapagliflozin for T2DM and atorvastatin and gemfibrozil for HTG. She had been on dapagliflozin for six months at the time of presentation.\n",
    "Physical examination on presentation was significant for dry oral mucosa ; significantly , her abdominal examination was benign with no tenderness, guarding, or rigidity. Pertinent laboratory findings on admission were: serum glucose 111 mg/dl,  creatinine 0.4 mg/dL, triglycerides 508 mg/dL, total cholesterol 122 mg/dL, and venous pH 7.27.\n",
    "'''\n",
    "\n",
    "print (text)\n",
    "\n",
    "light_model = nlp.LightPipeline(model)\n",
    "\n",
    "light_result = light_model.fullAnnotate(text)\n",
    "\n",
    "\n",
    "chunks = []\n",
    "entities = []\n",
    "sentence= []\n",
    "begin = []\n",
    "end = []\n",
    "\n",
    "for n in light_result[0]['ner_chunk']:\n",
    "\n",
    "    begin.append(n.begin)\n",
    "    end.append(n.end)\n",
    "    chunks.append(n.result)\n",
    "    entities.append(n.metadata['entity'])\n",
    "    sentence.append(n.metadata['sentence'])\n",
    "\n",
    "\n",
    "\n",
    "df_clinical = pd.DataFrame({'chunks':chunks,\n",
    "                            'begin': begin,\n",
    "                            'end':end,\n",
    "                            'sentence_id':sentence,\n",
    "                            'entities':entities})\n"
   ]
  },
  {
   "cell_type": "code",
   "execution_count": 15,
   "metadata": {
    "tags": []
   },
   "outputs": [
    {
     "name": "stdout",
     "output_type": "stream",
     "text": [
      "+--------------------+-----+---+-----------+---------+\n",
      "|              chunks|begin|end|sentence_id| entities|\n",
      "+--------------------+-----+---+-----------+---------+\n",
      "|gestational diabe...|   40| 68|          0|  PROBLEM|\n",
      "|subsequent type t...|  118|154|          0|  PROBLEM|\n",
      "|                T2DM|  157|160|          0|  PROBLEM|\n",
      "|HTG-induced pancr...|  185|208|          0|  PROBLEM|\n",
      "|  an acute hepatitis|  265|282|          0|  PROBLEM|\n",
      "|            polyuria|  322|329|          0|  PROBLEM|\n",
      "|       poor appetite|  332|344|          0|  PROBLEM|\n",
      "|            vomiting|  351|358|          0|  PROBLEM|\n",
      "|           metformin|  372|380|          1|TREATMENT|\n",
      "|           glipizide|  383|391|          1|TREATMENT|\n",
      "|       dapagliflozin|  398|410|          1|TREATMENT|\n",
      "|                T2DM|  416|419|          1|  PROBLEM|\n",
      "|        atorvastatin|  425|436|          1|TREATMENT|\n",
      "|         gemfibrozil|  442|452|          1|TREATMENT|\n",
      "|                 HTG|  458|460|          1|  PROBLEM|\n",
      "|       dapagliflozin|  479|491|          2|TREATMENT|\n",
      "|Physical examination|  537|556|          3|     TEST|\n",
      "|     dry oral mucosa|  594|608|          3|  PROBLEM|\n",
      "|her abdominal exa...|  628|652|          3|     TEST|\n",
      "|          tenderness|  673|682|          3|  PROBLEM|\n",
      "+--------------------+-----+---+-----------+---------+\n"
     ]
    }
   ],
   "source": [
    "spark.createDataFrame(df_clinical.head(20)).show()"
   ]
  },
  {
   "cell_type": "code",
   "execution_count": 68,
   "metadata": {},
   "outputs": [
    {
     "name": "stdout",
     "output_type": "stream",
     "text": [
      "dict_keys(['document', 'ner_chunk', 'token', 'ner', 'embeddings', 'sentence'])\n"
     ]
    }
   ],
   "source": [
    "light_result[0].keys()"
   ]
  },
  {
   "cell_type": "markdown",
   "metadata": {},
   "source": [
    "**Getting embeddings with LP**"
   ]
  },
  {
   "cell_type": "code",
   "execution_count": 16,
   "metadata": {
    "tags": []
   },
   "outputs": [
    {
     "name": "stdout",
     "output_type": "stream",
     "text": [
      "A -------> 0.040217556 0.4003962 0.69088835 -0.44649735 -0.40282863 -0.45621523 -0.20415598 0.13707675 -0.010474405 -0.42899358 -0.2879874 -0.03076839 -0.40367207 -0.32588458 0.23294163 -0.16012932 -0.35798857 0.043061644 -0.4091242 0.101141304 -0.61503464 0.068771854 -0.025053142 0.11466996 -0.57737786 -0.25603554 -0.6950373 0.3328502 -0.100428 0.0191588 -0.61035156 -0.94459176 -0.2473863 0.16416614 -0.27778018 0.40670344 0.57310873 0.10776807 0.13333033 0.1447822 0.18491237 0.2196365 0.16771133 -0.40313882 -0.20199609 0.045175955 -0.2593916 -0.066459864 0.15229034 0.002910823 -0.16859493 0.17066914 -9.03164E-4 0.03531517 -0.33315992 -0.034506235 0.40311962 0.023356766 0.13823766 -0.2634582 0.27318013 -0.15994109 0.40696687 0.19050935 -0.19682823 -0.012536205 0.4694685 -0.14188287 -0.024362855 -0.38291803 0.013956237 0.1830807 0.34642568 -0.23263279 -0.14591216 -0.2337688 0.5834314 -0.03057853 -0.367189 0.56245005 -0.032807935 0.122141086 0.17941982 -0.00749746 -0.18216385 0.17958473 -0.3053265 0.22779782 0.02217061 0.029920649 0.17621519 0.011366806 0.0385044 0.10249041 0.3426693 -0.035018172 0.4671417 0.22892669 -0.30640814 0.10803514 0.3855227 -0.115776226 -0.44415653 -0.11332124 0.044015724 0.61063313 0.29600143 -0.012069431 -0.38224095 -0.13973162 0.39301684 0.23673905 0.057245154 0.18140107 -0.051603805 0.7974051 -0.06663643 -0.5508283 0.28209952 0.18742235 0.21872385 -0.25591275 0.066957995 -0.25298932 0.13821244 0.8307903 0.3973212 -0.17276311 0.12846412 -0.092758246 0.0037952603 -0.41248038 0.65204984 -0.03299473 0.21624717 -0.56830674 0.23451968 -0.05922969 -0.3901237 -0.40775988 0.10331385 -0.0052452036 0.17687175 -0.2470756 0.054437738 0.10611684 -0.546031 0.03243354 -0.10689023 -0.39552742 -0.29755193 -0.12058273 0.047433637 0.16503441 -0.033334065 0.015473544 0.026549816 -0.7305153 -0.09848879 0.11045749 0.41713542 -0.13625173 -0.4153576 0.23202501 0.45888668 -0.0958802 -0.1448712 -0.63727266 0.26895493 -0.2672995 0.08526398 -0.14055037 8.3983614E-4 0.23264983 -0.13427801 0.4620594 0.33161256 0.43790993 0.1952479 -0.27517807 0.22294433 -0.28702205 0.36680275 -0.2888683 -0.10005434 0.029136676 -0.19198024 -0.05411223 0.19856672 0.041492134 0.042284537 0.27730006 0.33647385 -0.25736117 0.10052982 0.0914106 -0.5406019 -0.18598284 -0.54862744 -0.43890363 \n",
      "\n",
      "28-year-old -------> 0.124630086 0.041768234 -0.5851833 0.14018573 -0.2683909 -0.6359739 -0.31614816 -0.71483403 0.5511774 0.4304843 -0.5115899 0.7928865 0.0788141 0.0055778096 -0.10271598 -0.5141132 -0.22763066 0.25965604 0.059446163 0.32050937 -0.16531321 -0.0833686 0.82620156 0.22395885 -0.1965371 -0.11455178 -0.5434175 0.2595536 -0.0153490305 -0.474383 0.14677128 -0.080003664 -0.052671567 -0.04031274 -0.22524078 -0.35215047 0.046719514 -0.21722157 -0.32051668 0.23190966 -0.04614518 1.0149231 0.6315361 -0.47952643 0.44472834 0.053033605 0.31127706 0.08055067 -0.7282213 -0.7802679 0.16257171 0.073258646 0.40050963 0.44751948 0.4896496 -0.17256223 0.1598703 -0.65302587 -0.06466415 -0.21638417 0.3140914 0.4975012 -0.12023235 0.09910327 -0.04403189 -0.8829349 0.6587716 0.17046705 0.1637326 0.28226846 0.19858298 0.37132013 0.6070592 -0.11720922 -0.1534436 0.15268378 -0.055180248 -0.23013055 -0.46350223 0.25226158 -0.4663529 0.19255444 -0.5118875 0.1125828 -0.3138261 0.11908515 -0.17581931 -0.48491156 0.20515475 -0.4273081 -0.6629976 0.31330186 0.3916261 -0.056986686 0.11155176 -0.030073252 0.1524556 -0.36797798 0.6462149 -0.08456914 0.050772805 -0.34014466 0.3223971 0.015675943 0.015383259 0.34324646 0.096488 -0.33835164 0.067233734 0.6365546 0.52120185 0.37197444 -0.027830597 0.4061612 0.028669652 0.27176672 0.07524431 -0.55174196 0.28766853 0.07589323 -0.22518751 -0.44933867 -0.4721748 -0.108820066 0.32532197 0.08391404 -0.45878386 0.26986977 0.1009148 0.6153148 -0.048685577 0.30017054 -0.40371877 0.047533885 0.53543746 -0.27002755 0.25372973 0.10320132 -0.14759818 -0.27956298 0.3565558 -0.1178739 0.75151694 0.39113513 0.17251517 0.20465879 0.11995484 0.86947393 -0.3805215 -0.6808252 0.38752273 -0.35575667 -0.40939957 0.33717453 -0.8888754 0.4364028 0.2899467 -0.66873056 -0.79028213 -0.69079405 0.14101063 -0.0026479138 0.15928632 0.3302679 0.47052 -0.32484296 -0.15391971 -0.5722817 0.1116602 -0.08223172 -0.18719476 -0.5508417 0.19215384 -0.3587382 -0.37864798 0.305579 -0.4447613 -0.054872658 -0.42322004 -0.10340428 -0.014868535 0.5060039 0.28027403 0.086417876 0.5062302 -0.046939876 0.08775024 0.36165246 0.64060605 0.7646089 -0.18056732 0.37293836 0.6689069 0.030002259 0.5213449 0.24203093 -0.892416 -0.3918221 0.3560327 -0.3065561 \n",
      "\n",
      "female -------> 0.16302037 0.017953504 0.005551864 -0.032135632 -0.35178208 -0.019391192 -0.23211344 -0.11785924 0.45375252 0.2833919 -0.2134419 0.14760925 -0.48229983 -0.2431024 0.1263231 -0.30963817 -0.17346981 -0.052810684 0.14164582 0.16676669 -0.38038972 -0.019319143 0.5836717 0.12141203 0.29895684 0.010067581 -0.13612121 -0.02027633 -0.05771621 -0.072261736 0.3775381 -0.13991304 -0.34879878 0.12302238 -0.17791995 -0.11906978 0.38496873 0.043683514 0.2418363 -0.09076467 -0.17712079 0.59563845 0.27979994 -0.18298905 0.26172453 0.045466516 -0.061663765 0.18921505 -0.49157807 -0.056109034 0.11156733 0.037744977 0.054749884 0.22867315 -0.30465952 -0.23039347 -0.14796074 0.1978099 -0.45714766 -0.45331523 0.28797394 -0.16251872 -0.34184834 0.024538815 -0.4446561 -0.077740535 0.33576167 -0.21244533 -0.13956763 0.053867884 -0.23181938 0.07911189 0.26846886 0.4207609 -0.039360207 0.024773559 -0.1577196 -0.28330392 -0.20176809 0.006568704 -0.2934455 0.21242368 -0.53532916 0.3434734 0.40760696 -0.0014423534 -0.13468231 -0.20690395 0.19727087 -0.21072188 0.03501189 -0.16372475 -0.21106745 -0.37498906 0.13524377 -0.17323516 0.65397954 0.03559853 0.08741455 -0.27057537 0.09465006 -0.11844379 0.10847475 0.033930477 0.3338633 0.17999977 -0.17902453 -0.5227448 0.0740943 -0.06692055 0.10037465 0.05307225 0.4593874 0.27882725 -0.23101482 -0.4581898 0.4513508 -0.3275554 0.32179078 0.124493495 0.13102262 -0.59937644 0.42163733 -0.29410633 0.13054127 0.115324564 0.13005938 -0.059543554 0.35335496 0.67045325 0.12695797 -0.052896604 -0.3642225 0.025236143 -0.53711045 -0.20451795 -0.13416019 -0.33450902 0.063854285 -0.16292678 0.6290029 -0.35059434 0.006743933 0.103949085 0.5178944 0.19399825 0.15600705 0.942345 -0.30966017 -0.81486416 0.008710009 -0.04229206 -0.050095085 0.09709972 -0.27325177 0.22799088 0.3801335 -0.25588122 -0.30700856 -0.07751691 -0.32024297 0.208939 -0.28964671 0.040439676 0.11234014 -0.15674657 -0.33957657 -0.18361814 -0.18896136 0.50387585 0.3538876 0.09590049 0.54036593 -0.24115056 -0.090039216 -0.21107678 -0.2976875 -0.016052669 0.08931619 -0.37238902 0.045852017 -0.043787874 0.43762046 0.117538385 -0.27680975 -0.407116 0.17236143 0.03687374 -0.3842153 0.07933943 0.12446819 -0.08409634 0.23553246 -0.21332222 -0.05892028 -0.06332811 -0.6847742 0.1558429 0.10073703 -0.11202118\n"
     ]
    }
   ],
   "source": [
    "light_model_with_emb = nlp.LightPipeline(model, parse_embeddings=True)\n",
    "light_result_with_emb = light_model_with_emb.annotate(text)\n",
    "\n",
    "# list(zip(light_result_with_emb['token'], light_result_with_emb['embeddings']))[:3]\n",
    "for token, embdeding in list(zip(light_result_with_emb['token'], light_result_with_emb['embeddings']))[:3]:\n",
    "    print(token,'------->', embdeding,'\\n')"
   ]
  },
  {
   "cell_type": "markdown",
   "metadata": {},
   "source": [
    "**Prettifying the results with NLU**\n",
    "\n"
   ]
  },
  {
   "cell_type": "markdown",
   "metadata": {},
   "source": [
    "John Snow Labs' NLU is a Python library for applying state-of-the-art text mining, directly on any dataframe, with a single line of code. We will use some functionalities of NLU to prettify our results."
   ]
  },
  {
   "cell_type": "code",
   "execution_count": 20,
   "metadata": {},
   "outputs": [
    {
     "name": "stdout",
     "output_type": "stream",
     "text": [
      "Warning::Spark Session already created, some configs may not take.\n",
      "\n",
      "Warning::Spark Session already created, some configs may not take.\n",
      "\n",
      "Index(['document', 'document_begin', 'document_end', 'entities_ner_chunk',\n",
      "\n",
      "       'entities_ner_chunk_begin', 'entities_ner_chunk_class',\n",
      "\n",
      "       'entities_ner_chunk_confidence', 'entities_ner_chunk_end',\n",
      "\n",
      "       'entities_ner_chunk_origin_chunk', 'entities_ner_chunk_origin_sentence',\n",
      "\n",
      "       'ner_iob_ner_begin', 'ner_iob_ner_end', 'sentence_dl',\n",
      "\n",
      "       'sentence_dl_begin', 'sentence_dl_end', 'token_begin', 'token_end',\n",
      "\n",
      "       'word_embedding_embeddings', 'word_embedding_embeddings_begin',\n",
      "\n",
      "       'word_embedding_embeddings_end'],\n",
      "\n",
      "      dtype='object')\n"
     ]
    }
   ],
   "source": [
    "nlp.nlu.to_pretty_df(model, text, positions=True, output_level='chunk').columns"
   ]
  },
  {
   "cell_type": "code",
   "execution_count": 71,
   "metadata": {},
   "outputs": [
    {
     "name": "stdout",
     "output_type": "stream",
     "text": [
      "Warning::Spark Session already created, some configs may not take.\n",
      "\n",
      "Warning::Spark Session already created, some configs may not take.\n"
     ]
    }
   ],
   "source": [
    "#For a given pipeline output level is automatically set to the last anntator's output level by default.\n",
    "#This can be changed by defining the value of \"output_level\" parameter.\n",
    "#Values can be set as; token, sentence, document, chunk and relation .\n",
    "\n",
    "cols = [\n",
    "     'entities_ner_chunk',\n",
    "     'entities_ner_chunk_begin',\n",
    "     'entities_ner_chunk_end',\n",
    "     'entities_ner_chunk_origin_sentence',\n",
    "     'entities_ner_chunk_class',\n",
    "]\n",
    "df_clinical = nlp.nlu.to_pretty_df(model, text, positions=True, output_level='chunk')[cols]"
   ]
  },
  {
   "cell_type": "code",
   "execution_count": 23,
   "metadata": {},
   "outputs": [],
   "source": [
    "# copy/paste the output of this line and paste in next cell as markdown\n",
    "# df_clinical.head(20).to_html().replace(\"\\n\",\"\")\n"
   ]
  },
  {
   "cell_type": "markdown",
   "metadata": {},
   "source": [
    "'<table border=\"1\" class=\"dataframe\">  <thead>    <tr style=\"text-align: right;\">      <th></th>      <th>entities_ner_chunk</th>      <th>entities_ner_chunk_begin</th>      <th>entities_ner_chunk_end</th>      <th>entities_ner_chunk_origin_sentence</th>      <th>entities_ner_chunk_class</th>    </tr>  </thead>  <tbody>    <tr>      <th>0</th>      <td>gestational diabetes mellitus</td>      <td>40</td>      <td>68</td>      <td>0</td>      <td>PROBLEM</td>    </tr>    <tr>      <th>0</th>      <td>subsequent type two diabetes mellitus</td>      <td>118</td>      <td>154</td>      <td>0</td>      <td>PROBLEM</td>    </tr>    <tr>      <th>0</th>      <td>T2DM</td>      <td>157</td>      <td>160</td>      <td>0</td>      <td>PROBLEM</td>    </tr>    <tr>      <th>0</th>      <td>HTG-induced pancreatitis</td>      <td>185</td>      <td>208</td>      <td>0</td>      <td>PROBLEM</td>    </tr>    <tr>      <th>0</th>      <td>an acute hepatitis</td>      <td>265</td>      <td>282</td>      <td>0</td>      <td>PROBLEM</td>    </tr>    <tr>      <th>0</th>      <td>polyuria</td>      <td>322</td>      <td>329</td>      <td>0</td>      <td>PROBLEM</td>    </tr>    <tr>      <th>0</th>      <td>poor appetite</td>      <td>332</td>      <td>344</td>      <td>0</td>      <td>PROBLEM</td>    </tr>    <tr>      <th>0</th>      <td>vomiting</td>      <td>351</td>      <td>358</td>      <td>0</td>      <td>PROBLEM</td>    </tr>    <tr>      <th>0</th>      <td>metformin</td>      <td>372</td>      <td>380</td>      <td>1</td>      <td>TREATMENT</td>    </tr>    <tr>      <th>0</th>      <td>glipizide</td>      <td>383</td>      <td>391</td>      <td>1</td>      <td>TREATMENT</td>    </tr>    <tr>      <th>0</th>      <td>dapagliflozin</td>      <td>398</td>      <td>410</td>      <td>1</td>      <td>TREATMENT</td>    </tr>    <tr>      <th>0</th>      <td>T2DM</td>      <td>416</td>      <td>419</td>      <td>1</td>      <td>PROBLEM</td>    </tr>    <tr>      <th>0</th>      <td>atorvastatin</td>      <td>425</td>      <td>436</td>      <td>1</td>      <td>TREATMENT</td>    </tr>    <tr>      <th>0</th>      <td>gemfibrozil</td>      <td>442</td>      <td>452</td>      <td>1</td>      <td>TREATMENT</td>    </tr>    <tr>      <th>0</th>      <td>HTG</td>      <td>458</td>      <td>460</td>      <td>1</td>      <td>PROBLEM</td>    </tr>    <tr>      <th>0</th>      <td>dapagliflozin</td>      <td>479</td>      <td>491</td>      <td>2</td>      <td>TREATMENT</td>    </tr>    <tr>      <th>0</th>      <td>Physical examination</td>      <td>537</td>      <td>556</td>      <td>3</td>      <td>TEST</td>    </tr>    <tr>      <th>0</th>      <td>dry oral mucosa</td>      <td>594</td>      <td>608</td>      <td>3</td>      <td>PROBLEM</td>    </tr>    <tr>      <th>0</th>      <td>her abdominal examination</td>      <td>628</td>      <td>652</td>      <td>3</td>      <td>TEST</td>    </tr>    <tr>      <th>0</th>      <td>tenderness</td>      <td>673</td>      <td>682</td>      <td>3</td>      <td>PROBLEM</td>    </tr>  </tbody></table>'"
   ]
  },
  {
   "cell_type": "markdown",
   "metadata": {},
   "source": [
    "### NER Visualizer\n",
    "\n",
    "For saving the visualization result as html, provide `save_path` parameter in the display function."
   ]
  },
  {
   "cell_type": "code",
   "execution_count": 66,
   "metadata": {},
   "outputs": [
    {
     "name": "stdout",
     "output_type": "stream",
     "text": [
      "<IPython.core.display.HTML object>\n"
     ]
    }
   ],
   "source": [
    "visualiser = nlp.viz.NerVisualizer()\n",
    "html = visualiser.display(light_result[0], label_col='ner_chunk', document_col='document', return_html=True)\n",
    "# visualiser.display(light_result[0], label_col='ner_chunk', document_col='document', save_path=\"display_result.html\")"
   ]
  },
  {
   "cell_type": "code",
   "execution_count": 55,
   "metadata": {},
   "outputs": [],
   "source": [
    "# html.replace(\"\\n\", \"\")\n",
    "# run this cell, copy the output and past it in next cell as markdown to visualize"
   ]
  },
  {
   "cell_type": "markdown",
   "metadata": {},
   "source": [
    "'<style>    @import url(\\'https://fonts.googleapis.com/css2?family=Montserrat:wght@300;400;500;600;700&display=swap\\');    @import url(\\'https://fonts.googleapis.com/css2?family=Vistol Regular:wght@300;400;500;600;700&display=swap\\');        .spark-nlp-display-scroll-entities {        border: 1px solid #E7EDF0;        border-radius: 3px;        text-align: justify;            }    .spark-nlp-display-scroll-entities span {          font-size: 14px;        line-height: 24px;        color: #536B76;        font-family: \\'Montserrat\\', sans-serif !important;    }        .spark-nlp-display-entity-wrapper{            display: inline-grid;        text-align: center;        border-radius: 4px;        margin: 0 2px 5px 2px;        padding: 1px    }    .spark-nlp-display-entity-name{        font-size: 14px;        line-height: 24px;        font-family: \\'Montserrat\\', sans-serif !important;                background: #f1f2f3;        border-width: medium;        text-align: center;                font-weight: 400;                border-radius: 5px;        padding: 2px 5px;        display: block;        margin: 3px 2px;        }    .spark-nlp-display-entity-type{        font-size: 14px;        line-height: 24px;        color: #ffffff;        font-family: \\'Montserrat\\', sans-serif !important;                text-transform: uppercase;                font-weight: 500;        display: block;        padding: 3px 5px;    }        .spark-nlp-display-entity-resolution{        font-size: 14px;        line-height: 24px;        color: #ffffff;        font-family: \\'Vistol Regular\\', sans-serif !important;                text-transform: uppercase;                font-weight: 500;        display: block;        padding: 3px 5px;    }        .spark-nlp-display-others{        font-size: 14px;        line-height: 24px;        font-family: \\'Montserrat\\', sans-serif !important;                font-weight: 400;    }</style> <span class=\"spark-nlp-display-others\" style=\"background-color: white\"><br>A 28-year-old female with a history of </span><span class=\"spark-nlp-display-entity-wrapper\" style=\"background-color: #800080\"><span class=\"spark-nlp-display-entity-name\">gestational diabetes mellitus </span><span class=\"spark-nlp-display-entity-type\">PROBLEM</span></span><span class=\"spark-nlp-display-others\" style=\"background-color: white\"> diagnosed eight years prior to presentation and </span><span class=\"spark-nlp-display-entity-wrapper\" style=\"background-color: #800080\"><span class=\"spark-nlp-display-entity-name\">subsequent type two diabetes mellitus </span><span class=\"spark-nlp-display-entity-type\">PROBLEM</span></span><span class=\"spark-nlp-display-others\" style=\"background-color: white\"> (</span><span class=\"spark-nlp-display-entity-wrapper\" style=\"background-color: #800080\"><span class=\"spark-nlp-display-entity-name\">T2DM </span><span class=\"spark-nlp-display-entity-type\">PROBLEM</span></span><span class=\"spark-nlp-display-others\" style=\"background-color: white\">), one prior episode of </span><span class=\"spark-nlp-display-entity-wrapper\" style=\"background-color: #800080\"><span class=\"spark-nlp-display-entity-name\">HTG-induced pancreatitis </span><span class=\"spark-nlp-display-entity-type\">PROBLEM</span></span><span class=\"spark-nlp-display-others\" style=\"background-color: white\"> three years prior to presentation, and associated with </span><span class=\"spark-nlp-display-entity-wrapper\" style=\"background-color: #800080\"><span class=\"spark-nlp-display-entity-name\">an acute hepatitis </span><span class=\"spark-nlp-display-entity-type\">PROBLEM</span></span><span class=\"spark-nlp-display-others\" style=\"background-color: white\">, presented with a one-week history of </span><span class=\"spark-nlp-display-entity-wrapper\" style=\"background-color: #800080\"><span class=\"spark-nlp-display-entity-name\">polyuria </span><span class=\"spark-nlp-display-entity-type\">PROBLEM</span></span><span class=\"spark-nlp-display-others\" style=\"background-color: white\">, </span><span class=\"spark-nlp-display-entity-wrapper\" style=\"background-color: #800080\"><span class=\"spark-nlp-display-entity-name\">poor appetite </span><span class=\"spark-nlp-display-entity-type\">PROBLEM</span></span><span class=\"spark-nlp-display-others\" style=\"background-color: white\">, and </span><span class=\"spark-nlp-display-entity-wrapper\" style=\"background-color: #800080\"><span class=\"spark-nlp-display-entity-name\">vomiting </span><span class=\"spark-nlp-display-entity-type\">PROBLEM</span></span><span class=\"spark-nlp-display-others\" style=\"background-color: white\">.<br>She was on </span><span class=\"spark-nlp-display-entity-wrapper\" style=\"background-color: #8b6673\"><span class=\"spark-nlp-display-entity-name\">metformin </span><span class=\"spark-nlp-display-entity-type\">TREATMENT</span></span><span class=\"spark-nlp-display-others\" style=\"background-color: white\">, </span><span class=\"spark-nlp-display-entity-wrapper\" style=\"background-color: #8b6673\"><span class=\"spark-nlp-display-entity-name\">glipizide </span><span class=\"spark-nlp-display-entity-type\">TREATMENT</span></span><span class=\"spark-nlp-display-others\" style=\"background-color: white\">, and </span><span class=\"spark-nlp-display-entity-wrapper\" style=\"background-color: #8b6673\"><span class=\"spark-nlp-display-entity-name\">dapagliflozin </span><span class=\"spark-nlp-display-entity-type\">TREATMENT</span></span><span class=\"spark-nlp-display-others\" style=\"background-color: white\"> for </span><span class=\"spark-nlp-display-entity-wrapper\" style=\"background-color: #800080\"><span class=\"spark-nlp-display-entity-name\">T2DM </span><span class=\"spark-nlp-display-entity-type\">PROBLEM</span></span><span class=\"spark-nlp-display-others\" style=\"background-color: white\"> and </span><span class=\"spark-nlp-display-entity-wrapper\" style=\"background-color: #8b6673\"><span class=\"spark-nlp-display-entity-name\">atorvastatin </span><span class=\"spark-nlp-display-entity-type\">TREATMENT</span></span><span class=\"spark-nlp-display-others\" style=\"background-color: white\"> and </span><span class=\"spark-nlp-display-entity-wrapper\" style=\"background-color: #8b6673\"><span class=\"spark-nlp-display-entity-name\">gemfibrozil </span><span class=\"spark-nlp-display-entity-type\">TREATMENT</span></span><span class=\"spark-nlp-display-others\" style=\"background-color: white\"> for </span><span class=\"spark-nlp-display-entity-wrapper\" style=\"background-color: #800080\"><span class=\"spark-nlp-display-entity-name\">HTG </span><span class=\"spark-nlp-display-entity-type\">PROBLEM</span></span><span class=\"spark-nlp-display-others\" style=\"background-color: white\">. She had been on </span><span class=\"spark-nlp-display-entity-wrapper\" style=\"background-color: #8b6673\"><span class=\"spark-nlp-display-entity-name\">dapagliflozin </span><span class=\"spark-nlp-display-entity-type\">TREATMENT</span></span><span class=\"spark-nlp-display-others\" style=\"background-color: white\"> for six months at the time of presentation.<br></span><span class=\"spark-nlp-display-entity-wrapper\" style=\"background-color: #77b5fe\"><span class=\"spark-nlp-display-entity-name\">Physical examination </span><span class=\"spark-nlp-display-entity-type\">TEST</span></span><span class=\"spark-nlp-display-others\" style=\"background-color: white\"> on presentation was significant for </span><span class=\"spark-nlp-display-entity-wrapper\" style=\"background-color: #800080\"><span class=\"spark-nlp-display-entity-name\">dry oral mucosa </span><span class=\"spark-nlp-display-entity-type\">PROBLEM</span></span><span class=\"spark-nlp-display-others\" style=\"background-color: white\"> ; significantly , </span><span class=\"spark-nlp-display-entity-wrapper\" style=\"background-color: #77b5fe\"><span class=\"spark-nlp-display-entity-name\">her abdominal examination </span><span class=\"spark-nlp-display-entity-type\">TEST</span></span><span class=\"spark-nlp-display-others\" style=\"background-color: white\"> was benign with no </span><span class=\"spark-nlp-display-entity-wrapper\" style=\"background-color: #800080\"><span class=\"spark-nlp-display-entity-name\">tenderness </span><span class=\"spark-nlp-display-entity-type\">PROBLEM</span></span><span class=\"spark-nlp-display-others\" style=\"background-color: white\">, </span><span class=\"spark-nlp-display-entity-wrapper\" style=\"background-color: #800080\"><span class=\"spark-nlp-display-entity-name\">guarding </span><span class=\"spark-nlp-display-entity-type\">PROBLEM</span></span><span class=\"spark-nlp-display-others\" style=\"background-color: white\">, or </span><span class=\"spark-nlp-display-entity-wrapper\" style=\"background-color: #800080\"><span class=\"spark-nlp-display-entity-name\">rigidity </span><span class=\"spark-nlp-display-entity-type\">PROBLEM</span></span><span class=\"spark-nlp-display-others\" style=\"background-color: white\">. Pertinent laboratory findings on admission were: </span><span class=\"spark-nlp-display-entity-wrapper\" style=\"background-color: #77b5fe\"><span class=\"spark-nlp-display-entity-name\">serum glucose </span><span class=\"spark-nlp-display-entity-type\">TEST</span></span><span class=\"spark-nlp-display-others\" style=\"background-color: white\"> 111 mg/dl,  </span><span class=\"spark-nlp-display-entity-wrapper\" style=\"background-color: #77b5fe\"><span class=\"spark-nlp-display-entity-name\">creatinine </span><span class=\"spark-nlp-display-entity-type\">TEST</span></span><span class=\"spark-nlp-display-others\" style=\"background-color: white\"> 0.4 mg/dL, </span><span class=\"spark-nlp-display-entity-wrapper\" style=\"background-color: #77b5fe\"><span class=\"spark-nlp-display-entity-name\">triglycerides </span><span class=\"spark-nlp-display-entity-type\">TEST</span></span><span class=\"spark-nlp-display-others\" style=\"background-color: white\"> 508 mg/dL, </span><span class=\"spark-nlp-display-entity-wrapper\" style=\"background-color: #77b5fe\"><span class=\"spark-nlp-display-entity-name\">total cholesterol </span><span class=\"spark-nlp-display-entity-type\">TEST</span></span><span class=\"spark-nlp-display-others\" style=\"background-color: white\"> 122 mg/dL, and </span><span class=\"spark-nlp-display-entity-wrapper\" style=\"background-color: #77b5fe\"><span class=\"spark-nlp-display-entity-name\">venous pH </span><span class=\"spark-nlp-display-entity-type\">TEST</span></span><span class=\"spark-nlp-display-others\" style=\"background-color: white\"> 7.27.<br></span></div>'"
   ]
  },
  {
   "cell_type": "code",
   "execution_count": 62,
   "metadata": {},
   "outputs": [],
   "source": [
    "# Change color of an entity label\n",
    "\n",
    "visualiser = nlp.viz.NerVisualizer()\n",
    "# visualiser.display(light_result[0], label_col='ner_chunk', document_col='document', save_path=\"display_result.html\")\n",
    "\n",
    "\n",
    "\n",
    "\n",
    "visualiser.set_label_colors({'PROBLEM':'#008080', 'TEST':'#800080', 'TREATMENT':'#808080'})\n",
    "visualiser.display(light_result[0], label_col='ner_chunk')\n",
    "\n",
    "\n",
    "# Set label filter\n",
    "\n",
    "visualiser.display(light_result[0], label_col='ner_chunk', document_col='document',labels=['PROBLEM','TEST','TREATMENT'], return_html=True).replace(\"\\n\",\"\")"
   ]
  },
  {
   "cell_type": "markdown",
   "metadata": {},
   "source": [
    "<style>    @import url(\\'https://fonts.googleapis.com/css2?family=Montserrat:wght@300;400;500;600;700&display=swap\\');    @import url(\\'https://fonts.googleapis.com/css2?family=Vistol Regular:wght@300;400;500;600;700&display=swap\\');        .spark-nlp-display-scroll-entities {        border: 1px solid #E7EDF0;        border-radius: 3px;        text-align: justify;            }    .spark-nlp-display-scroll-entities span {          font-size: 14px;        line-height: 24px;        color: #536B76;        font-family: \\'Montserrat\\', sans-serif !important;    }        .spark-nlp-display-entity-wrapper{            display: inline-grid;        text-align: center;        border-radius: 4px;        margin: 0 2px 5px 2px;        padding: 1px    }    .spark-nlp-display-entity-name{        font-size: 14px;        line-height: 24px;        font-family: \\'Montserrat\\', sans-serif !important;                background: #f1f2f3;        border-width: medium;        text-align: center;                font-weight: 400;                border-radius: 5px;        padding: 2px 5px;        display: block;        margin: 3px 2px;        }    .spark-nlp-display-entity-type{        font-size: 14px;        line-height: 24px;        color: #ffffff;        font-family: \\'Montserrat\\', sans-serif !important;                text-transform: uppercase;                font-weight: 500;        display: block;        padding: 3px 5px;    }        .spark-nlp-display-entity-resolution{        font-size: 14px;        line-height: 24px;        color: #ffffff;        font-family: \\'Vistol Regular\\', sans-serif !important;                text-transform: uppercase;                font-weight: 500;        display: block;        padding: 3px 5px;    }        .spark-nlp-display-others{        font-size: 14px;        line-height: 24px;        font-family: \\'Montserrat\\', sans-serif !important;                font-weight: 400;    }</style> <span class=\"spark-nlp-display-others\" style=\"background-color: white\"><br>A 28-year-old female with a history of </span><span class=\"spark-nlp-display-entity-wrapper\" style=\"background-color: #008080\"><span class=\"spark-nlp-display-entity-name\">gestational diabetes mellitus </span><span class=\"spark-nlp-display-entity-type\">PROBLEM</span></span><span class=\"spark-nlp-display-others\" style=\"background-color: white\"> diagnosed eight years prior to presentation and </span><span class=\"spark-nlp-display-entity-wrapper\" style=\"background-color: #008080\"><span class=\"spark-nlp-display-entity-name\">subsequent type two diabetes mellitus </span><span class=\"spark-nlp-display-entity-type\">PROBLEM</span></span><span class=\"spark-nlp-display-others\" style=\"background-color: white\"> (</span><span class=\"spark-nlp-display-entity-wrapper\" style=\"background-color: #008080\"><span class=\"spark-nlp-display-entity-name\">T2DM </span><span class=\"spark-nlp-display-entity-type\">PROBLEM</span></span><span class=\"spark-nlp-display-others\" style=\"background-color: white\">), one prior episode of </span><span class=\"spark-nlp-display-entity-wrapper\" style=\"background-color: #008080\"><span class=\"spark-nlp-display-entity-name\">HTG-induced pancreatitis </span><span class=\"spark-nlp-display-entity-type\">PROBLEM</span></span><span class=\"spark-nlp-display-others\" style=\"background-color: white\"> three years prior to presentation, and associated with </span><span class=\"spark-nlp-display-entity-wrapper\" style=\"background-color: #008080\"><span class=\"spark-nlp-display-entity-name\">an acute hepatitis </span><span class=\"spark-nlp-display-entity-type\">PROBLEM</span></span><span class=\"spark-nlp-display-others\" style=\"background-color: white\">, presented with a one-week history of </span><span class=\"spark-nlp-display-entity-wrapper\" style=\"background-color: #008080\"><span class=\"spark-nlp-display-entity-name\">polyuria </span><span class=\"spark-nlp-display-entity-type\">PROBLEM</span></span><span class=\"spark-nlp-display-others\" style=\"background-color: white\">, </span><span class=\"spark-nlp-display-entity-wrapper\" style=\"background-color: #008080\"><span class=\"spark-nlp-display-entity-name\">poor appetite </span><span class=\"spark-nlp-display-entity-type\">PROBLEM</span></span><span class=\"spark-nlp-display-others\" style=\"background-color: white\">, and </span><span class=\"spark-nlp-display-entity-wrapper\" style=\"background-color: #008080\"><span class=\"spark-nlp-display-entity-name\">vomiting </span><span class=\"spark-nlp-display-entity-type\">PROBLEM</span></span><span class=\"spark-nlp-display-others\" style=\"background-color: white\">.<br>She was on </span><span class=\"spark-nlp-display-entity-wrapper\" style=\"background-color: #808080\"><span class=\"spark-nlp-display-entity-name\">metformin </span><span class=\"spark-nlp-display-entity-type\">TREATMENT</span></span><span class=\"spark-nlp-display-others\" style=\"background-color: white\">, </span><span class=\"spark-nlp-display-entity-wrapper\" style=\"background-color: #808080\"><span class=\"spark-nlp-display-entity-name\">glipizide </span><span class=\"spark-nlp-display-entity-type\">TREATMENT</span></span><span class=\"spark-nlp-display-others\" style=\"background-color: white\">, and </span><span class=\"spark-nlp-display-entity-wrapper\" style=\"background-color: #808080\"><span class=\"spark-nlp-display-entity-name\">dapagliflozin </span><span class=\"spark-nlp-display-entity-type\">TREATMENT</span></span><span class=\"spark-nlp-display-others\" style=\"background-color: white\"> for </span><span class=\"spark-nlp-display-entity-wrapper\" style=\"background-color: #008080\"><span class=\"spark-nlp-display-entity-name\">T2DM </span><span class=\"spark-nlp-display-entity-type\">PROBLEM</span></span><span class=\"spark-nlp-display-others\" style=\"background-color: white\"> and </span><span class=\"spark-nlp-display-entity-wrapper\" style=\"background-color: #808080\"><span class=\"spark-nlp-display-entity-name\">atorvastatin </span><span class=\"spark-nlp-display-entity-type\">TREATMENT</span></span><span class=\"spark-nlp-display-others\" style=\"background-color: white\"> and </span><span class=\"spark-nlp-display-entity-wrapper\" style=\"background-color: #808080\"><span class=\"spark-nlp-display-entity-name\">gemfibrozil </span><span class=\"spark-nlp-display-entity-type\">TREATMENT</span></span><span class=\"spark-nlp-display-others\" style=\"background-color: white\"> for </span><span class=\"spark-nlp-display-entity-wrapper\" style=\"background-color: #008080\"><span class=\"spark-nlp-display-entity-name\">HTG </span><span class=\"spark-nlp-display-entity-type\">PROBLEM</span></span><span class=\"spark-nlp-display-others\" style=\"background-color: white\">. She had been on </span><span class=\"spark-nlp-display-entity-wrapper\" style=\"background-color: #808080\"><span class=\"spark-nlp-display-entity-name\">dapagliflozin </span><span class=\"spark-nlp-display-entity-type\">TREATMENT</span></span><span class=\"spark-nlp-display-others\" style=\"background-color: white\"> for six months at the time of presentation.<br></span><span class=\"spark-nlp-display-entity-wrapper\" style=\"background-color: #800080\"><span class=\"spark-nlp-display-entity-name\">Physical examination </span><span class=\"spark-nlp-display-entity-type\">TEST</span></span><span class=\"spark-nlp-display-others\" style=\"background-color: white\"> on presentation was significant for </span><span class=\"spark-nlp-display-entity-wrapper\" style=\"background-color: #008080\"><span class=\"spark-nlp-display-entity-name\">dry oral mucosa </span><span class=\"spark-nlp-display-entity-type\">PROBLEM</span></span><span class=\"spark-nlp-display-others\" style=\"background-color: white\"> ; significantly , </span><span class=\"spark-nlp-display-entity-wrapper\" style=\"background-color: #800080\"><span class=\"spark-nlp-display-entity-name\">her abdominal examination </span><span class=\"spark-nlp-display-entity-type\">TEST</span></span><span class=\"spark-nlp-display-others\" style=\"background-color: white\"> was benign with no </span><span class=\"spark-nlp-display-entity-wrapper\" style=\"background-color: #008080\"><span class=\"spark-nlp-display-entity-name\">tenderness </span><span class=\"spark-nlp-display-entity-type\">PROBLEM</span></span><span class=\"spark-nlp-display-others\" style=\"background-color: white\">, </span><span class=\"spark-nlp-display-entity-wrapper\" style=\"background-color: #008080\"><span class=\"spark-nlp-display-entity-name\">guarding </span><span class=\"spark-nlp-display-entity-type\">PROBLEM</span></span><span class=\"spark-nlp-display-others\" style=\"background-color: white\">, or </span><span class=\"spark-nlp-display-entity-wrapper\" style=\"background-color: #008080\"><span class=\"spark-nlp-display-entity-name\">rigidity </span><span class=\"spark-nlp-display-entity-type\">PROBLEM</span></span><span class=\"spark-nlp-display-others\" style=\"background-color: white\">. Pertinent laboratory findings on admission were: </span><span class=\"spark-nlp-display-entity-wrapper\" style=\"background-color: #800080\"><span class=\"spark-nlp-display-entity-name\">serum glucose </span><span class=\"spark-nlp-display-entity-type\">TEST</span></span><span class=\"spark-nlp-display-others\" style=\"background-color: white\"> 111 mg/dl,  </span><span class=\"spark-nlp-display-entity-wrapper\" style=\"background-color: #800080\"><span class=\"spark-nlp-display-entity-name\">creatinine </span><span class=\"spark-nlp-display-entity-type\">TEST</span></span><span class=\"spark-nlp-display-others\" style=\"background-color: white\"> 0.4 mg/dL, </span><span class=\"spark-nlp-display-entity-wrapper\" style=\"background-color: #800080\"><span class=\"spark-nlp-display-entity-name\">triglycerides </span><span class=\"spark-nlp-display-entity-type\">TEST</span></span><span class=\"spark-nlp-display-others\" style=\"background-color: white\"> 508 mg/dL, </span><span class=\"spark-nlp-display-entity-wrapper\" style=\"background-color: #800080\"><span class=\"spark-nlp-display-entity-name\">total cholesterol </span><span class=\"spark-nlp-display-entity-type\">TEST</span></span><span class=\"spark-nlp-display-others\" style=\"background-color: white\"> 122 mg/dL, and </span><span class=\"spark-nlp-display-entity-wrapper\" style=\"background-color: #800080\"><span class=\"spark-nlp-display-entity-name\">venous pH </span><span class=\"spark-nlp-display-entity-type\">TEST</span></span><span class=\"spark-nlp-display-others\" style=\"background-color: white\"> 7.27.<br></span></div>"
   ]
  },
  {
   "cell_type": "markdown",
   "metadata": {},
   "source": [
    "### ModelTracer"
   ]
  },
  {
   "cell_type": "markdown",
   "metadata": {},
   "source": [
    "`ModelTracer` allows to track the uids and timestamps of each stage of the pipeline.\n",
    "\n",
    "Let's apply it over an empty data with our existing pipeline."
   ]
  },
  {
   "cell_type": "code",
   "execution_count": 75,
   "metadata": {},
   "outputs": [
    {
     "name": "stdout",
     "output_type": "stream",
     "text": [
      "+----+------------------------------------------+--------+-----+----------+---+---------+----------------------------------------------------------------------+----------------------------------------------------------------------------+--------------------------------------------------------------+--------------------------------------------------------------------------+--------------------------------------------------------------------+-------------------------------------------------------------------------+\n",
      "\n",
      "|text|document                                  |sentence|token|embeddings|ner|ner_chunk|documentassembler_model_uid                                           |sentencedetectordlmodel_model_uid                                           |tokenizer_model_uid                                           |word_embeddings_model_model_uid                                           |medicalnermodel_model_uid                                           |nerconverterinternal_model_uid                                           |\n",
      "\n",
      "+----+------------------------------------------+--------+-----+----------+---+---------+----------------------------------------------------------------------+----------------------------------------------------------------------------+--------------------------------------------------------------+--------------------------------------------------------------------------+--------------------------------------------------------------------+-------------------------------------------------------------------------+\n",
      "\n",
      "|    |[{document, 0, -1, , {sentence -> 0}, []}]|[]      |[]   |[]        |[] |[]       |{uid -> DocumentAssembler_e7468a28c923, timestamp -> 2023-09-06_14:21}|{uid -> SentenceDetectorDLModel_6bafc4746ea5, timestamp -> 2023-09-06_14:21}|{uid -> Tokenizer_0dc52ca53192, timestamp -> 2023-09-06_14:21}|{uid -> WORD_EMBEDDINGS_MODEL_9004b1d00302, timestamp -> 2023-09-06_14:21}|{uid -> MedicalNerModel_1a8637089929, timestamp -> 2023-09-06_14:21}|{uid -> NerConverterInternal_05cb20139410, timestamp -> 2023-09-06_14:21}|\n",
      "\n",
      "+----+------------------------------------------+--------+-----+----------+---+---------+----------------------------------------------------------------------+----------------------------------------------------------------------------+--------------------------------------------------------------+--------------------------------------------------------------------------+--------------------------------------------------------------------+-------------------------------------------------------------------------+\n"
     ]
    }
   ],
   "source": [
    "data = spark.createDataFrame([['']]).toDF(\"text\")\n",
    "\n",
    "df = nlpPipeline.fit(data).transform(data)\n",
    "\n",
    "tracer_result = medical.ModelTracer().addUidCols(pipeline = nlpPipeline, df = df)\n",
    "\n",
    "tracer_result.show(truncate=False)"
   ]
  },
  {
   "cell_type": "markdown",
   "metadata": {},
   "source": [
    "## NER JSL\n",
    "Let's show an example of `ner_jsl` model that has about 80 clinical entity labels by changing just only the model name.\n",
    "\n",
    "**Entities**\n",
    "\n",
    "| | | | | |\n",
    "|-|-|-|-|-|\n",
    "|Injury_or_Poisoning|Direction|Test|Admission_Discharge|Death_Entity|\n",
    "|Relationship_Status|Duration|Respiration|Hyperlipidemia|Birth_Entity|\n",
    "|Age|Labour_Delivery|Family_History_Header|BMI|Temperature|\n",
    "|Alcohol|Kidney_Disease|Oncological|Medical_History_Header|Cerebrovascular_Disease|\n",
    "|Oxygen_Therapy|O2_Saturation|Psychological_Condition|Heart_Disease|Employment|\n",
    "|Obesity|Disease_Syndrome_Disorder|Pregnancy|ImagingFindings|Procedure|\n",
    "|Medical_Device|Race_Ethnicity|Section_Header|Symptom|Treatment|\n",
    "|Substance|Route|Drug_Ingredient|Blood_Pressure|Diet|\n",
    "|External_body_part_or_region|LDL|VS_Finding|Allergen|EKG_Findings|\n",
    "|Imaging_Technique|Triglycerides|RelativeTime|Gender|Pulse|\n",
    "|Social_History_Header|Substance_Quantity|Diabetes|Modifier|Internal_organ_or_component|\n",
    "|Clinical_Dept|Form|Drug_BrandName|Strength|Fetus_NewBorn|\n",
    "|RelativeDate|Height|Test_Result|Sexually_Active_or_Sexual_Orientation|Frequency|\n",
    "|Time|Weight|Vaccine|Vital_Signs_Header|Communicable_Disease|\n",
    "|Dosage|Overweight|Hypertension|HDL|Total_Cholesterol|\n",
    "|Smoking|Date||||"
   ]
  },
  {
   "cell_type": "code",
   "execution_count": 6,
   "metadata": {
    "tags": []
   },
   "outputs": [
    {
     "name": "stdout",
     "output_type": "stream",
     "text": [
      "sentence_detector_dl_healthcare download started this may take some time.\n",
      "Approximate size to download 367.3 KB\n",
      "[OK!]\n",
      "embeddings_clinical download started this may take some time.\n",
      "Approximate size to download 1.6 GB\n",
      "[OK!]\n",
      "ner_jsl download started this may take some time.\n",
      "[OK!]\n"
     ]
    }
   ],
   "source": [
    "documentAssembler = nlp.DocumentAssembler()\\\n",
    "    .setInputCol(\"text\")\\\n",
    "    .setOutputCol(\"document\")\n",
    "\n",
    "sentenceDetector = nlp.SentenceDetectorDLModel.pretrained(\"sentence_detector_dl_healthcare\",\"en\",\"clinical/models\") \\\n",
    "    .setInputCols([\"document\"]) \\\n",
    "    .setOutputCol(\"sentence\")\n",
    "\n",
    "tokenizer = nlp.Tokenizer()\\\n",
    "    .setInputCols([\"sentence\"])\\\n",
    "    .setOutputCol(\"token\")\n",
    "\n",
    "word_embeddings = nlp.WordEmbeddingsModel.pretrained(\"embeddings_clinical\", \"en\", \"clinical/models\")\\\n",
    "    .setInputCols([\"sentence\", \"token\"])\\\n",
    "    .setOutputCol(\"embeddings\").setEnableInMemoryStorage(True)\n",
    "\n",
    "jsl_ner = medical.NerModel.pretrained(\"ner_jsl\", \"en\", \"clinical/models\") \\\n",
    "    .setInputCols([\"sentence\", \"token\", \"embeddings\"]) \\\n",
    "    .setOutputCol(\"jsl_ner\")\n",
    "\n",
    "jsl_ner_converter = medical.NerConverterInternal() \\\n",
    "    .setInputCols([\"sentence\", \"token\", \"jsl_ner\"]) \\\n",
    "    .setOutputCol(\"jsl_ner_chunk\")\n",
    "\n",
    "jsl_ner_pipeline = nlp.Pipeline(stages=[\n",
    "    documentAssembler,\n",
    "    sentenceDetector,\n",
    "    tokenizer,\n",
    "    word_embeddings,\n",
    "    jsl_ner,\n",
    "    jsl_ner_converter])\n",
    "\n",
    "empty_data = spark.createDataFrame([[\"\"]]).toDF(\"text\")\n",
    "\n",
    "jsl_ner_model = jsl_ner_pipeline.fit(empty_data)\n"
   ]
  },
  {
   "cell_type": "code",
   "execution_count": 18,
   "metadata": {
    "tags": []
   },
   "outputs": [
    {
     "name": "stdout",
     "output_type": "stream",
     "text": [
      "\n"
     ]
    }
   ],
   "source": [
    "text = '''\n",
    "A 28-year-old female with a history of gestational diabetes mellitus diagnosed eight years prior to presentation and subsequent type two diabetes mellitus (T2DM), one prior episode of HTG-induced pancreatitis three years prior to presentation, and associated with an acute hepatitis, presented with a one-week history of polyuria, poor appetite, and vomiting.\n",
    "She was on metformin, glipizide, and dapagliflozin for T2DM and atorvastatin and gemfibrozil for HTG. She had been on dapagliflozin for six months at the time of presentation.\n",
    "Physical examination on presentation was significant for dry oral mucosa ; significantly , her abdominal examination was benign with no tenderness, guarding, or rigidity. Pertinent laboratory findings on admission were: serum glucose 111 mg/dl,  creatinine 0.4 mg/dL, triglycerides 508 mg/dL, total cholesterol 122 mg/dL, and venous pH 7.27.\n",
    "'''"
   ]
  },
  {
   "cell_type": "code",
   "execution_count": 19,
   "metadata": {
    "tags": []
   },
   "outputs": [
    {
     "name": "stdout",
     "output_type": "stream",
     "text": [
      "\n"
     ]
    }
   ],
   "source": [
    "jsl_light_model = nlp.LightPipeline(jsl_ner_model)\n",
    "\n",
    "jsl_light_result = jsl_light_model.fullAnnotate(text)"
   ]
  },
  {
   "cell_type": "code",
   "execution_count": 20,
   "metadata": {
    "tags": []
   },
   "outputs": [
    {
     "name": "stdout",
     "output_type": "stream",
     "text": [
      "\n"
     ]
    }
   ],
   "source": [
    "\n",
    "chunks = []\n",
    "entities = []\n",
    "sentence= []\n",
    "begin = []\n",
    "end = []\n",
    "\n",
    "for n in jsl_light_result[0]['jsl_ner_chunk']:\n",
    "\n",
    "    begin.append(n.begin)\n",
    "    end.append(n.end)\n",
    "    chunks.append(n.result)\n",
    "    entities.append(n.metadata['entity'])\n",
    "    sentence.append(n.metadata['sentence'])\n",
    "\n",
    "\n",
    "\n",
    "jsl_df_clinical = pd.DataFrame({'chunks':chunks,\n",
    "                            'begin': begin,\n",
    "                            'end':end,\n",
    "                            'sentence_id':sentence,\n",
    "                            'entities':entities})"
   ]
  },
  {
   "cell_type": "markdown",
   "metadata": {},
   "source": [
    "### Checking `ner_clinical_large` and `ner_jsl` results together\n",
    "\n"
   ]
  },
  {
   "cell_type": "code",
   "execution_count": 21,
   "metadata": {
    "tags": []
   },
   "outputs": [
    {
     "name": "stdout",
     "output_type": "stream",
     "text": [
      "+-----------------------------+-----+---+-----------+-------------------------+\n",
      "|                       chunks|begin|end|sentence_id|                 entities|\n",
      "+-----------------------------+-----+---+-----------+-------------------------+\n",
      "|                  28-year-old|    3| 13|          0|                      Age|\n",
      "|                       female|   15| 20|          0|                   Gender|\n",
      "|gestational diabetes mellitus|   40| 68|          0|                 Diabetes|\n",
      "|            eight years prior|   80| 96|          0|             RelativeDate|\n",
      "|   type two diabetes mellitus|  129|154|          0|                 Diabetes|\n",
      "|                         T2DM|  157|160|          0|                 Diabetes|\n",
      "|     HTG-induced pancreatitis|  185|208|          0|Disease_Syndrome_Disorder|\n",
      "|            three years prior|  210|226|          0|             RelativeDate|\n",
      "|                        acute|  268|272|          0|                 Modifier|\n",
      "|                    hepatitis|  274|282|          0|Disease_Syndrome_Disorder|\n",
      "|                     one-week|  302|309|          0|                 Duration|\n",
      "|                     polyuria|  322|329|          0|                  Symptom|\n",
      "|                poor appetite|  332|344|          0|                  Symptom|\n",
      "|                     vomiting|  351|358|          0|                  Symptom|\n",
      "|                          She|  361|363|          1|                   Gender|\n",
      "|                    metformin|  372|380|          1|          Drug_Ingredient|\n",
      "|                    glipizide|  383|391|          1|          Drug_Ingredient|\n",
      "|                dapagliflozin|  398|410|          1|          Drug_Ingredient|\n",
      "|                         T2DM|  416|419|          1|                 Diabetes|\n",
      "|                 atorvastatin|  425|436|          1|          Drug_Ingredient|\n",
      "+-----------------------------+-----+---+-----------+-------------------------+\n"
     ]
    }
   ],
   "source": [
    "spark.createDataFrame(jsl_df_clinical.head(20)).show(truncate=50)"
   ]
  },
  {
   "cell_type": "code",
   "execution_count": 22,
   "metadata": {
    "tags": []
   },
   "outputs": [
    {
     "name": "stdout",
     "output_type": "stream",
     "text": [
      "+-------------------------------------+-----+---+-----------+---------+\n",
      "|                               chunks|begin|end|sentence_id| entities|\n",
      "+-------------------------------------+-----+---+-----------+---------+\n",
      "|        gestational diabetes mellitus|   40| 68|          0|  PROBLEM|\n",
      "|subsequent type two diabetes mellitus|  118|154|          0|  PROBLEM|\n",
      "|                                 T2DM|  157|160|          0|  PROBLEM|\n",
      "|             HTG-induced pancreatitis|  185|208|          0|  PROBLEM|\n",
      "|                   an acute hepatitis|  265|282|          0|  PROBLEM|\n",
      "|                             polyuria|  322|329|          0|  PROBLEM|\n",
      "|                        poor appetite|  332|344|          0|  PROBLEM|\n",
      "|                             vomiting|  351|358|          0|  PROBLEM|\n",
      "|                            metformin|  372|380|          1|TREATMENT|\n",
      "|                            glipizide|  383|391|          1|TREATMENT|\n",
      "|                        dapagliflozin|  398|410|          1|TREATMENT|\n",
      "|                                 T2DM|  416|419|          1|  PROBLEM|\n",
      "|                         atorvastatin|  425|436|          1|TREATMENT|\n",
      "|                          gemfibrozil|  442|452|          1|TREATMENT|\n",
      "|                                  HTG|  458|460|          1|  PROBLEM|\n",
      "|                        dapagliflozin|  479|491|          2|TREATMENT|\n",
      "|                 Physical examination|  537|556|          3|     TEST|\n",
      "|                      dry oral mucosa|  594|608|          3|  PROBLEM|\n",
      "|            her abdominal examination|  628|652|          3|     TEST|\n",
      "|                           tenderness|  673|682|          3|  PROBLEM|\n",
      "+-------------------------------------+-----+---+-----------+---------+\n"
     ]
    }
   ],
   "source": [
    "spark.createDataFrame(df_clinical.head(20)).show(truncate=50)"
   ]
  },
  {
   "cell_type": "markdown",
   "metadata": {},
   "source": [
    "## Posology NER\n",
    "**Entities**\n",
    "\n",
    "- DOSAGE\n",
    "- DRUG\n",
    "- DURATION\n",
    "- FORM\n",
    "- FREQUENCY\n",
    "- ROUTE\n",
    "- STRENGTH"
   ]
  },
  {
   "cell_type": "markdown",
   "metadata": {},
   "source": [
    "![image.png](data:image/png;base64,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)"
   ]
  },
  {
   "cell_type": "code",
   "execution_count": 7,
   "metadata": {
    "tags": []
   },
   "outputs": [
    {
     "name": "stdout",
     "output_type": "stream",
     "text": [
      "ner_posology download started this may take some time.\n",
      "[OK!]\n",
      "ner_posology_greedy download started this may take some time.\n",
      "[OK!]\n"
     ]
    }
   ],
   "source": [
    "# NER model trained on i2b2 (sampled from MIMIC) dataset\n",
    "posology_ner = medical.NerModel.pretrained(\"ner_posology\", \"en\", \"clinical/models\") \\\n",
    "    .setInputCols([\"sentence\", \"token\", \"embeddings\"]) \\\n",
    "    .setOutputCol(\"ner\")\n",
    "\n",
    "posology_ner_converter = medical.NerConverterInternal()\\\n",
    "    .setInputCols([\"sentence\",\"token\",\"ner\"])\\\n",
    "    .setOutputCol(\"ner_chunk\")\n",
    "\n",
    "# greedy model\n",
    "posology_ner_greedy = medical.NerModel.pretrained(\"ner_posology_greedy\", \"en\", \"clinical/models\") \\\n",
    "    .setInputCols([\"sentence\", \"token\", \"embeddings\"]) \\\n",
    "    .setOutputCol(\"ner_greedy\")\n",
    "\n",
    "ner_converter_greedy = medical.NerConverterInternal()\\\n",
    "    .setInputCols([\"sentence\",\"token\",\"ner_greedy\"])\\\n",
    "    .setOutputCol(\"ner_chunk_greedy\")\n",
    "\n",
    "nlpPipeline = nlp.Pipeline(stages=[\n",
    "    documentAssembler,\n",
    "    sentenceDetector,\n",
    "    tokenizer,\n",
    "    word_embeddings,\n",
    "    posology_ner,\n",
    "    posology_ner_converter,\n",
    "    posology_ner_greedy,\n",
    "    ner_converter_greedy])\n",
    "\n",
    "empty_data = spark.createDataFrame([[\"\"]]).toDF(\"text\")\n",
    "\n",
    "posology_model = nlpPipeline.fit(empty_data)\n"
   ]
  },
  {
   "cell_type": "code",
   "execution_count": 34,
   "metadata": {
    "tags": []
   },
   "outputs": [
    {
     "name": "stdout",
     "output_type": "stream",
     "text": [
      "NameError: name 'posology_ner' is not defined\n"
     ]
    }
   ],
   "source": [
    "for clss in posology_ner.getClasses():\n",
    "    print(clss)"
   ]
  },
  {
   "cell_type": "code",
   "execution_count": 10,
   "metadata": {
    "tags": []
   },
   "outputs": [
    {
     "name": "stdout",
     "output_type": "stream",
     "text": [
      "\n"
     ]
    }
   ],
   "source": [
    "posology_result = posology_model.transform(mt_samples_df).cache()"
   ]
  },
  {
   "cell_type": "code",
   "execution_count": 11,
   "metadata": {
    "tags": []
   },
   "outputs": [
    {
     "name": "stdout",
     "output_type": "stream",
     "text": [
      "+-----+--------------------------------------------------+--------------------------------------------------+--------------------------------------------------+--------------------------------------------------+--------------------------------------------------+--------------------------------------------------+--------------------------------------------------+--------------------------------------------------+--------------------------------------------------+\n",
      "|index|                                              text|                                          document|                                          sentence|                                             token|                                        embeddings|                                               ner|                                         ner_chunk|                                        ner_greedy|                                  ner_chunk_greedy|\n",
      "+-----+--------------------------------------------------+--------------------------------------------------+--------------------------------------------------+--------------------------------------------------+--------------------------------------------------+--------------------------------------------------+--------------------------------------------------+--------------------------------------------------+--------------------------------------------------+\n",
      "|    0|Sample Type / Medical Specialty:\\nHematology - ...|[{document, 0, 5470, Sample Type / Medical Spec...|[{document, 0, 53, Sample Type / Medical Specia...|[{token, 0, 5, Sample, {sentence -> 0}, []}, {t...|[{word_embeddings, 0, 5, Sample, {isOOV -> fals...|[{named_entity, 0, 5, O, {word -> Sample, confi...|[{chunk, 1609, 1616, Coumadin, {chunk -> 0, con...|[{named_entity, 0, 5, O, {word -> Sample, confi...|[{chunk, 1609, 1621, Coumadin 1 mg, {chunk -> 0...|\n",
      "|    1|Sample Type / Medical Specialty:\\nHematology - ...|[{document, 0, 3240, Sample Type / Medical Spec...|[{document, 0, 53, Sample Type / Medical Specia...|[{token, 0, 5, Sample, {sentence -> 0}, []}, {t...|[{word_embeddings, 0, 5, Sample, {isOOV -> fals...|[{named_entity, 0, 5, O, {word -> Sample, confi...|[{chunk, 742, 750, Xylocaine, {chunk -> 0, conf...|[{named_entity, 0, 5, O, {word -> Sample, confi...|[{chunk, 742, 753, Xylocaine 2%, {chunk -> 0, c...|\n",
      "|    2|Sample Type / Medical Specialty:\\nHematology - ...|[{document, 0, 4290, Sample Type / Medical Spec...|[{document, 0, 53, Sample Type / Medical Specia...|[{token, 0, 5, Sample, {sentence -> 0}, []}, {t...|[{word_embeddings, 0, 5, Sample, {isOOV -> fals...|[{named_entity, 0, 5, O, {word -> Sample, confi...|[{chunk, 230, 240, transfusion, {chunk -> 0, co...|[{named_entity, 0, 5, O, {word -> Sample, confi...|[{chunk, 369, 385, blood transfusion, {chunk ->...|\n",
      "|    3|Sample Type / Medical Specialty:\\nHematology - ...|[{document, 0, 2057, Sample Type / Medical Spec...|[{document, 0, 53, Sample Type / Medical Specia...|[{token, 0, 5, Sample, {sentence -> 0}, []}, {t...|[{word_embeddings, 0, 5, Sample, {isOOV -> fals...|[{named_entity, 0, 5, O, {word -> Sample, confi...|                                                []|[{named_entity, 0, 5, O, {word -> Sample, confi...|                                                []|\n",
      "|    4|Sample Type / Medical Specialty:\\nHematology - ...|[{document, 0, 3404, Sample Type / Medical Spec...|[{document, 0, 53, Sample Type / Medical Specia...|[{token, 0, 5, Sample, {sentence -> 0}, []}, {t...|[{word_embeddings, 0, 5, Sample, {isOOV -> fals...|[{named_entity, 0, 5, O, {word -> Sample, confi...|[{chunk, 1102, 1111, anesthesia, {chunk -> 0, c...|[{named_entity, 0, 5, O, {word -> Sample, confi...|[{chunk, 1102, 1111, anesthesia, {chunk -> 0, c...|\n",
      "|    5|Sample Type / Medical Specialty:\\nHematology - ...|[{document, 0, 1560, Sample Type / Medical Spec...|[{document, 0, 53, Sample Type / Medical Specia...|[{token, 0, 5, Sample, {sentence -> 0}, []}, {t...|[{word_embeddings, 0, 5, Sample, {isOOV -> fals...|[{named_entity, 0, 5, O, {word -> Sample, confi...|                                                []|[{named_entity, 0, 5, O, {word -> Sample, confi...|[{chunk, 68, 84, HDR Brachytherapy, {chunk -> 0...|\n",
      "|    6|Sample Type / Medical Specialty:\\nHematology - ...|[{document, 0, 2554, Sample Type / Medical Spec...|[{document, 0, 53, Sample Type / Medical Specia...|[{token, 0, 5, Sample, {sentence -> 0}, []}, {t...|[{word_embeddings, 0, 5, Sample, {isOOV -> fals...|[{named_entity, 0, 5, O, {word -> Sample, confi...|[{chunk, 1242, 1251, anesthesia, {chunk -> 0, c...|[{named_entity, 0, 5, O, {word -> Sample, confi...|[{chunk, 389, 398, anesthesia, {chunk -> 0, con...|\n",
      "|    7|Sample Type / Medical Specialty:\\nHematology - ...|[{document, 0, 9394, Sample Type / Medical Spec...|[{document, 0, 53, Sample Type / Medical Specia...|[{token, 0, 5, Sample, {sentence -> 0}, []}, {t...|[{word_embeddings, 0, 5, Sample, {isOOV -> fals...|[{named_entity, 0, 5, O, {word -> Sample, confi...|[{chunk, 667, 677, gemcitabine, {chunk -> 0, co...|[{named_entity, 0, 5, O, {word -> Sample, confi...|[{chunk, 667, 677, gemcitabine, {chunk -> 0, co...|\n",
      "|    8|Sample Type / Medical Specialty:\\nHematology - ...|[{document, 0, 2095, Sample Type / Medical Spec...|[{document, 0, 53, Sample Type / Medical Specia...|[{token, 0, 5, Sample, {sentence -> 0}, []}, {t...|[{word_embeddings, 0, 5, Sample, {isOOV -> fals...|[{named_entity, 0, 5, O, {word -> Sample, confi...|[{chunk, 495, 505, Glucosamine, {chunk -> 0, co...|[{named_entity, 0, 5, O, {word -> Sample, confi...|[{chunk, 495, 513, Glucosamine complex, {chunk ...|\n",
      "|    9|Sample Type / Medical Specialty:\\nHematology - ...|[{document, 0, 1991, Sample Type / Medical Spec...|[{document, 0, 53, Sample Type / Medical Specia...|[{token, 0, 5, Sample, {sentence -> 0}, []}, {t...|[{word_embeddings, 0, 5, Sample, {isOOV -> fals...|[{named_entity, 0, 5, O, {word -> Sample, confi...|[{chunk, 524, 526, CMF, {chunk -> 0, confidence...|[{named_entity, 0, 5, O, {word -> Sample, confi...|[{chunk, 1234, 1243, anesthesia, {chunk -> 0, c...|\n",
      "+-----+--------------------------------------------------+--------------------------------------------------+--------------------------------------------------+--------------------------------------------------+--------------------------------------------------+--------------------------------------------------+--------------------------------------------------+--------------------------------------------------+--------------------------------------------------+\n"
     ]
    }
   ],
   "source": [
    "posology_result.show(truncate=50)"
   ]
  },
  {
   "cell_type": "code",
   "execution_count": 12,
   "metadata": {
    "tags": []
   },
   "outputs": [
    {
     "name": "stdout",
     "output_type": "stream",
     "text": [
      "\n"
     ]
    }
   ],
   "source": [
    "# This will return a new DF with all the columns + id\n",
    "posology_result = posology_result.withColumn(\"id\", F.monotonically_increasing_id())"
   ]
  },
  {
   "cell_type": "code",
   "execution_count": 16,
   "metadata": {
    "tags": []
   },
   "outputs": [
    {
     "name": "stdout",
     "output_type": "stream",
     "text": [
      "+-----+--------------------------------------------------+--------------------------------------------------+--------------------------------------------------+--------------------------------------------------+--------------------------------------------------+--------------------------------------------------+--------------------------------------------------+--------------------------------------------------+--------------------------------------------------+---+\n",
      "|index|                                              text|                                          document|                                          sentence|                                             token|                                        embeddings|                                               ner|                                         ner_chunk|                                        ner_greedy|                                  ner_chunk_greedy| id|\n",
      "+-----+--------------------------------------------------+--------------------------------------------------+--------------------------------------------------+--------------------------------------------------+--------------------------------------------------+--------------------------------------------------+--------------------------------------------------+--------------------------------------------------+--------------------------------------------------+---+\n",
      "|    0|Sample Type / Medical Specialty:\\nHematology - ...|[{document, 0, 5470, Sample Type / Medical Spec...|[{document, 0, 53, Sample Type / Medical Specia...|[{token, 0, 5, Sample, {sentence -> 0}, []}, {t...|[{word_embeddings, 0, 5, Sample, {isOOV -> fals...|[{named_entity, 0, 5, O, {word -> Sample, confi...|[{chunk, 1609, 1616, Coumadin, {chunk -> 0, con...|[{named_entity, 0, 5, O, {word -> Sample, confi...|[{chunk, 1609, 1621, Coumadin 1 mg, {chunk -> 0...|  0|\n",
      "|    1|Sample Type / Medical Specialty:\\nHematology - ...|[{document, 0, 3240, Sample Type / Medical Spec...|[{document, 0, 53, Sample Type / Medical Specia...|[{token, 0, 5, Sample, {sentence -> 0}, []}, {t...|[{word_embeddings, 0, 5, Sample, {isOOV -> fals...|[{named_entity, 0, 5, O, {word -> Sample, confi...|[{chunk, 742, 750, Xylocaine, {chunk -> 0, conf...|[{named_entity, 0, 5, O, {word -> Sample, confi...|[{chunk, 742, 753, Xylocaine 2%, {chunk -> 0, c...|  1|\n",
      "|    2|Sample Type / Medical Specialty:\\nHematology - ...|[{document, 0, 4290, Sample Type / Medical Spec...|[{document, 0, 53, Sample Type / Medical Specia...|[{token, 0, 5, Sample, {sentence -> 0}, []}, {t...|[{word_embeddings, 0, 5, Sample, {isOOV -> fals...|[{named_entity, 0, 5, O, {word -> Sample, confi...|[{chunk, 230, 240, transfusion, {chunk -> 0, co...|[{named_entity, 0, 5, O, {word -> Sample, confi...|[{chunk, 369, 385, blood transfusion, {chunk ->...|  2|\n",
      "|    3|Sample Type / Medical Specialty:\\nHematology - ...|[{document, 0, 2057, Sample Type / Medical Spec...|[{document, 0, 53, Sample Type / Medical Specia...|[{token, 0, 5, Sample, {sentence -> 0}, []}, {t...|[{word_embeddings, 0, 5, Sample, {isOOV -> fals...|[{named_entity, 0, 5, O, {word -> Sample, confi...|                                                []|[{named_entity, 0, 5, O, {word -> Sample, confi...|                                                []|  3|\n",
      "|    4|Sample Type / Medical Specialty:\\nHematology - ...|[{document, 0, 3404, Sample Type / Medical Spec...|[{document, 0, 53, Sample Type / Medical Specia...|[{token, 0, 5, Sample, {sentence -> 0}, []}, {t...|[{word_embeddings, 0, 5, Sample, {isOOV -> fals...|[{named_entity, 0, 5, O, {word -> Sample, confi...|[{chunk, 1102, 1111, anesthesia, {chunk -> 0, c...|[{named_entity, 0, 5, O, {word -> Sample, confi...|[{chunk, 1102, 1111, anesthesia, {chunk -> 0, c...|  4|\n",
      "|    5|Sample Type / Medical Specialty:\\nHematology - ...|[{document, 0, 1560, Sample Type / Medical Spec...|[{document, 0, 53, Sample Type / Medical Specia...|[{token, 0, 5, Sample, {sentence -> 0}, []}, {t...|[{word_embeddings, 0, 5, Sample, {isOOV -> fals...|[{named_entity, 0, 5, O, {word -> Sample, confi...|                                                []|[{named_entity, 0, 5, O, {word -> Sample, confi...|[{chunk, 68, 84, HDR Brachytherapy, {chunk -> 0...|  5|\n",
      "|    6|Sample Type / Medical Specialty:\\nHematology - ...|[{document, 0, 2554, Sample Type / Medical Spec...|[{document, 0, 53, Sample Type / Medical Specia...|[{token, 0, 5, Sample, {sentence -> 0}, []}, {t...|[{word_embeddings, 0, 5, Sample, {isOOV -> fals...|[{named_entity, 0, 5, O, {word -> Sample, confi...|[{chunk, 1242, 1251, anesthesia, {chunk -> 0, c...|[{named_entity, 0, 5, O, {word -> Sample, confi...|[{chunk, 389, 398, anesthesia, {chunk -> 0, con...|  6|\n",
      "|    7|Sample Type / Medical Specialty:\\nHematology - ...|[{document, 0, 9394, Sample Type / Medical Spec...|[{document, 0, 53, Sample Type / Medical Specia...|[{token, 0, 5, Sample, {sentence -> 0}, []}, {t...|[{word_embeddings, 0, 5, Sample, {isOOV -> fals...|[{named_entity, 0, 5, O, {word -> Sample, confi...|[{chunk, 667, 677, gemcitabine, {chunk -> 0, co...|[{named_entity, 0, 5, O, {word -> Sample, confi...|[{chunk, 667, 677, gemcitabine, {chunk -> 0, co...|  7|\n",
      "|    8|Sample Type / Medical Specialty:\\nHematology - ...|[{document, 0, 2095, Sample Type / Medical Spec...|[{document, 0, 53, Sample Type / Medical Specia...|[{token, 0, 5, Sample, {sentence -> 0}, []}, {t...|[{word_embeddings, 0, 5, Sample, {isOOV -> fals...|[{named_entity, 0, 5, O, {word -> Sample, confi...|[{chunk, 495, 505, Glucosamine, {chunk -> 0, co...|[{named_entity, 0, 5, O, {word -> Sample, confi...|[{chunk, 495, 513, Glucosamine complex, {chunk ...|  8|\n",
      "|    9|Sample Type / Medical Specialty:\\nHematology - ...|[{document, 0, 1991, Sample Type / Medical Spec...|[{document, 0, 53, Sample Type / Medical Specia...|[{token, 0, 5, Sample, {sentence -> 0}, []}, {t...|[{word_embeddings, 0, 5, Sample, {isOOV -> fals...|[{named_entity, 0, 5, O, {word -> Sample, confi...|[{chunk, 524, 526, CMF, {chunk -> 0, confidence...|[{named_entity, 0, 5, O, {word -> Sample, confi...|[{chunk, 1234, 1243, anesthesia, {chunk -> 0, c...|  9|\n",
      "+-----+--------------------------------------------------+--------------------------------------------------+--------------------------------------------------+--------------------------------------------------+--------------------------------------------------+--------------------------------------------------+--------------------------------------------------+--------------------------------------------------+--------------------------------------------------+---+\n"
     ]
    }
   ],
   "source": [
    "posology_result.show(truncate=50)"
   ]
  },
  {
   "cell_type": "code",
   "execution_count": 17,
   "metadata": {
    "tags": []
   },
   "outputs": [
    {
     "name": "stdout",
     "output_type": "stream",
     "text": [
      "+--------------------------------------------------+--------------------------------------------------+\n",
      "|                                            result|                                            result|\n",
      "+--------------------------------------------------+--------------------------------------------------+\n",
      "|[Sample, Type, /, Medical, Specialty, :, Hemato...|[O, O, O, O, O, O, O, O, O, O, O, O, O, O, O, O...|\n",
      "|[Sample, Type, /, Medical, Specialty, :, Hemato...|[O, O, O, O, O, O, O, O, O, O, O, O, O, O, O, O...|\n",
      "|[Sample, Type, /, Medical, Specialty, :, Hemato...|[O, O, O, O, O, O, O, O, O, O, O, O, O, O, O, O...|\n",
      "|[Sample, Type, /, Medical, Specialty, :, Hemato...|[O, O, O, O, O, O, O, O, O, O, O, O, O, O, O, O...|\n",
      "|[Sample, Type, /, Medical, Specialty, :, Hemato...|[O, O, O, O, O, O, O, O, O, O, O, O, O, O, O, O...|\n",
      "|[Sample, Type, /, Medical, Specialty, :, Hemato...|[O, O, O, O, O, O, O, O, O, O, O, O, O, O, O, O...|\n",
      "|[Sample, Type, /, Medical, Specialty, :, Hemato...|[O, O, O, O, O, O, O, O, O, O, O, O, O, O, O, O...|\n",
      "|[Sample, Type, /, Medical, Specialty, :, Hemato...|[O, O, O, O, O, O, O, O, O, O, O, O, O, O, O, O...|\n",
      "|[Sample, Type, /, Medical, Specialty, :, Hemato...|[O, O, O, O, O, O, O, O, O, O, O, O, O, O, O, O...|\n",
      "|[Sample, Type, /, Medical, Specialty, :, Hemato...|[O, O, O, O, O, O, O, O, O, O, O, O, O, O, O, O...|\n",
      "+--------------------------------------------------+--------------------------------------------------+\n"
     ]
    }
   ],
   "source": [
    "posology_result.select('token.result','ner.result').show(truncate=50)"
   ]
  },
  {
   "cell_type": "code",
   "execution_count": 18,
   "metadata": {
    "tags": []
   },
   "outputs": [
    {
     "name": "stdout",
     "output_type": "stream",
     "text": [
      "+--------------------------------------------------------------------------------+--------------------------------------------------------------------------------+\n",
      "|                                                                          result|                                                                          result|\n",
      "+--------------------------------------------------------------------------------+--------------------------------------------------------------------------------+\n",
      "|[Sample, Type, /, Medical, Specialty, :, Hematology, -, Oncology, Sample, Nam...|[O, O, O, O, O, O, O, O, O, O, O, O, O, O, O, O, O, O, O, O, O, O, O, O, O, O...|\n",
      "|[Sample, Type, /, Medical, Specialty, :, Hematology, -, Oncology, Sample, Nam...|[O, O, O, O, O, O, O, O, O, O, O, O, O, O, O, O, O, O, O, O, O, O, O, O, O, O...|\n",
      "|[Sample, Type, /, Medical, Specialty, :, Hematology, -, Oncology, Sample, Nam...|[O, O, O, O, O, O, O, O, O, O, O, O, O, O, O, O, O, O, O, O, O, O, O, O, O, O...|\n",
      "|[Sample, Type, /, Medical, Specialty, :, Hematology, -, Oncology, Sample, Nam...|[O, O, O, O, O, O, O, O, O, O, O, O, O, O, O, O, O, O, O, O, O, O, O, O, O, O...|\n",
      "|[Sample, Type, /, Medical, Specialty, :, Hematology, -, Oncology, Sample, Nam...|[O, O, O, O, O, O, O, O, O, O, O, O, O, O, O, O, O, O, O, O, O, O, O, O, O, O...|\n",
      "+--------------------------------------------------------------------------------+--------------------------------------------------------------------------------+\n",
      "only showing top 5 rows\n"
     ]
    }
   ],
   "source": [
    "posology_result.select('token.result','ner.result').show(5, truncate=80)"
   ]
  },
  {
   "cell_type": "code",
   "execution_count": 20,
   "metadata": {
    "tags": []
   },
   "outputs": [
    {
     "name": "stdout",
     "output_type": "stream",
     "text": [
      "AnalysisException: No such struct field 0 in result, result, metadata\n"
     ]
    }
   ],
   "source": [
    "posology_result.limit(1).select(F.explode(F.arrays_zip('token.result', 'ner.result', 'ner.metadata')).alias(\"cols\")) \\\n",
    "               .select(F.expr(\"cols['0']\").alias(\"token\"),\n",
    "                       F.expr(\"cols['1']\").alias(\"ner_label\"),\n",
    "                       F.expr(\"cols['2']['confidence']\").alias(\"confidence\"))\\\n",
    "               .filter(\"ner_label!='O'\")\\\n",
    "               .show(1,truncate=50)"
   ]
  },
  {
   "cell_type": "code",
   "execution_count": 22,
   "metadata": {},
   "outputs": [
    {
     "name": "stdout",
     "output_type": "stream",
     "text": [
      "AnalysisException: No such struct field 0 in result, result, metadata\n"
     ]
    }
   ],
   "source": [
    "posology_result.select(F.explode(F.arrays_zip('token.result', 'ner.result', 'ner.metadata')).alias(\"cols\")) \\\n",
    "               .select(F.expr(\"cols['0']\").alias(\"token\"),\n",
    "                       F.expr(\"cols['1']\").alias(\"ner_label\"),\n",
    "                       F.expr(\"cols['2']['confidence']\").alias(\"confidence\"))\\\n",
    "               .filter(\"ner_label!='O'\")\\\n",
    "               .show(20, truncate=100)\n"
   ]
  },
  {
   "cell_type": "code",
   "execution_count": 91,
   "metadata": {},
   "outputs": [
    {
     "name": "stdout",
     "output_type": "stream",
     "text": [
      "AnalysisException: No such struct field 3 in result, begin, end, metadata\n"
     ]
    }
   ],
   "source": [
    "posology_result.select('id', F.explode(F.arrays_zip('ner_chunk.result', 'ner_chunk.begin', 'ner_chunk.end', 'ner_chunk.metadata')).alias(\"cols\")) \\\n",
    "               .select('id', F.expr(\"cols['3']['sentence']\").alias(\"sentence_id\"),\n",
    "                       F.expr(\"cols['0']\").alias(\"chunk\"),\n",
    "                       F.expr(\"cols['1']\").alias(\"begin\"),\n",
    "                       F.expr(\"cols['2']\").alias(\"end\"),\n",
    "                       F.expr(\"cols['3']['entity']\").alias(\"ner_label\"),\n",
    "                       F.expr(\"cols['3']['confidence']\").alias(\"confidence\"))\\\n",
    "               .filter(\"ner_label!='O'\")\\\n",
    "               .show(truncate=False)"
   ]
  },
  {
   "cell_type": "code",
   "execution_count": 20,
   "metadata": {},
   "outputs": [
    {
     "name": "stdout",
     "output_type": "stream",
     "text": [
      "AnalysisException: No such struct field 3 in result, begin, end, metadata\n"
     ]
    }
   ],
   "source": [
    "posology_result.select('id', F.explode(F.arrays_zip('ner_chunk_greedy.result', 'ner_chunk_greedy.begin', 'ner_chunk_greedy.end', 'ner_chunk_greedy.metadata')).alias(\"cols\")) \\\n",
    "               .select('id', F.expr(\"cols['3']['sentence']\").alias(\"sentence_id\"),\n",
    "                        F.expr(\"cols['0']\").alias(\"chunk\"),\n",
    "                        F.expr(\"cols['1']\").alias(\"begin\"),\n",
    "                        F.expr(\"cols['2']\").alias(\"end\"),\n",
    "                        F.expr(\"cols['3']['entity']\").alias(\"ner_label\"),\n",
    "                        F.expr(\"cols['3']['confidence']\").alias(\"confidence\"))\\\n",
    "                .filter(\"ner_label!='O'\")\\\n",
    "                .show(truncate=False)"
   ]
  },
  {
   "cell_type": "code",
   "execution_count": 21,
   "metadata": {},
   "outputs": [
    {
     "name": "stdout",
     "output_type": "stream",
     "text": [
      "'Xylocaine'\n"
     ]
    }
   ],
   "source": [
    "posology_result.select('ner_chunk').take(2)[1][0][0].result"
   ]
  },
  {
   "cell_type": "code",
   "execution_count": 22,
   "metadata": {},
   "outputs": [
    {
     "name": "stdout",
     "output_type": "stream",
     "text": [
      "{'sentence': '11', 'chunk': '0', 'ner_source': 'ner_chunk', 'entity': 'DRUG', 'confidence': '0.9906'}\n"
     ]
    }
   ],
   "source": [
    "posology_result.select('ner_chunk').take(2)[1][0][0].metadata"
   ]
  },
  {
   "cell_type": "code",
   "execution_count": 23,
   "metadata": {},
   "outputs": [
    {
     "name": "stdout",
     "output_type": "stream",
     "text": [
      "('The', 'O')\n",
      "\n",
      "('patient', 'O')\n",
      "\n",
      "('was', 'O')\n",
      "\n",
      "('prescribed', 'O')\n",
      "\n",
      "('1', 'B-DOSAGE')\n",
      "\n",
      "('capsule', 'B-FORM')\n",
      "\n",
      "('of', 'O')\n",
      "\n",
      "('Advil', 'B-DRUG')\n",
      "\n",
      "('for', 'B-DURATION')\n",
      "\n",
      "('5', 'I-DURATION')\n",
      "\n",
      "('days', 'I-DURATION')\n",
      "\n",
      "('.', 'O')\n",
      "\n",
      "('He', 'O')\n",
      "\n",
      "('was', 'O')\n",
      "\n",
      "('seen', 'O')\n",
      "\n",
      "('by', 'O')\n",
      "\n",
      "('the', 'O')\n",
      "\n",
      "('endocrinology', 'O')\n",
      "\n",
      "('service', 'O')\n",
      "\n",
      "('and', 'O')\n",
      "\n",
      "('she', 'O')\n",
      "\n",
      "('was', 'O')\n",
      "\n",
      "('discharged', 'O')\n",
      "\n",
      "('on', 'O')\n",
      "\n",
      "('40', 'B-DOSAGE')\n",
      "\n",
      "('units', 'I-DOSAGE')\n",
      "\n",
      "('of', 'O')\n",
      "\n",
      "('insulin', 'B-DRUG')\n",
      "\n",
      "('glargine', 'I-DRUG')\n",
      "\n",
      "('at', 'B-FREQUENCY')\n",
      "\n",
      "('night', 'I-FREQUENCY')\n",
      "\n",
      "(',', 'O')\n",
      "\n",
      "('12', 'B-DOSAGE')\n",
      "\n",
      "('units', 'I-DOSAGE')\n",
      "\n",
      "('of', 'O')\n",
      "\n",
      "('insulin', 'B-DRUG')\n",
      "\n",
      "('lispro', 'I-DRUG')\n",
      "\n",
      "('with', 'B-FREQUENCY')\n",
      "\n",
      "('meals', 'I-FREQUENCY')\n",
      "\n",
      "(',', 'O')\n",
      "\n",
      "('and', 'O')\n",
      "\n",
      "('metformin', 'B-DRUG')\n",
      "\n",
      "('1000', 'B-STRENGTH')\n",
      "\n",
      "('mg', 'I-STRENGTH')\n",
      "\n",
      "('two', 'B-FREQUENCY')\n",
      "\n",
      "('times', 'I-FREQUENCY')\n",
      "\n",
      "('a', 'I-FREQUENCY')\n",
      "\n",
      "('day', 'I-FREQUENCY')\n",
      "\n",
      "('.', 'O')\n",
      "\n",
      "('It', 'O')\n",
      "\n",
      "('was', 'O')\n",
      "\n",
      "('determined', 'O')\n",
      "\n",
      "('that', 'O')\n",
      "\n",
      "('all', 'O')\n",
      "\n",
      "('SGLT2', 'B-DRUG')\n",
      "\n",
      "('inhibitors', 'I-DRUG')\n",
      "\n",
      "('should', 'O')\n",
      "\n",
      "('be', 'O')\n",
      "\n",
      "('discontinued', 'O')\n",
      "\n",
      "('indefinitely', 'O')\n",
      "\n",
      "('for', 'B-DURATION')\n",
      "\n",
      "('3', 'I-DURATION')\n",
      "\n",
      "('months', 'I-DURATION')\n",
      "\n",
      "('.', 'O')\n"
     ]
    }
   ],
   "source": [
    "posology_light_model = nlp.LightPipeline(posology_model)\n",
    "\n",
    "text ='The patient was prescribed 1 capsule of Advil for 5 days . He was seen by the endocrinology service and she was discharged on 40 units of insulin glargine at night , 12 units of insulin lispro with meals , and metformin 1000 mg two times a day . It was determined that all SGLT2 inhibitors should be discontinued indefinitely for 3 months .'\n",
    "\n",
    "posology_light_result = posology_light_model.annotate(text)\n",
    "\n",
    "print(*list(zip(posology_light_result['token'], posology_light_result['ner'])),sep=\"\\n\")"
   ]
  },
  {
   "cell_type": "markdown",
   "metadata": {},
   "source": [
    "### Comparison of `ner_posology` and `ner_posology_greedy` results"
   ]
  },
  {
   "cell_type": "code",
   "execution_count": 29,
   "metadata": {},
   "outputs": [
    {
     "name": "stdout",
     "output_type": "stream",
     "text": [
      "   The             : O          ------ The             : O         \n",
      "\n",
      "   patient         : O          ------ patient         : O         \n",
      "\n",
      "   was             : O          ------ was             : O         \n",
      "\n",
      "   prescribed      : O          ------ prescribed      : O         \n",
      "\n",
      "*  1               : B-DRUG     ------ 1               : B-DOSAGE  \n",
      "\n",
      "*  capsule         : I-DRUG     ------ capsule         : B-FORM    \n",
      "\n",
      "*  of              : I-DRUG     ------ of              : O         \n",
      "\n",
      "*  Advil           : I-DRUG     ------ Advil           : B-DRUG    \n",
      "\n",
      "   for             : B-DURATION ------ for             : B-DURATION\n",
      "\n",
      "   5               : I-DURATION ------ 5               : I-DURATION\n",
      "\n",
      "   days            : I-DURATION ------ days            : I-DURATION\n",
      "\n",
      "   .               : O          ------ .               : O         \n",
      "\n",
      "   He              : O          ------ He              : O         \n",
      "\n",
      "   was             : O          ------ was             : O         \n",
      "\n",
      "   seen            : O          ------ seen            : O         \n",
      "\n",
      "   by              : O          ------ by              : O         \n",
      "\n",
      "   the             : O          ------ the             : O         \n",
      "\n",
      "   endocrinology   : O          ------ endocrinology   : O         \n",
      "\n",
      "   service         : O          ------ service         : O         \n",
      "\n",
      "   and             : O          ------ and             : O         \n",
      "\n",
      "   she             : O          ------ she             : O         \n",
      "\n",
      "   was             : O          ------ was             : O         \n",
      "\n",
      "   discharged      : O          ------ discharged      : O         \n",
      "\n",
      "   on              : O          ------ on              : O         \n",
      "\n",
      "*  40              : B-DRUG     ------ 40              : B-DOSAGE  \n",
      "\n",
      "*  units           : I-DRUG     ------ units           : I-DOSAGE  \n",
      "\n",
      "*  of              : I-DRUG     ------ of              : O         \n",
      "\n",
      "*  insulin         : I-DRUG     ------ insulin         : B-DRUG    \n",
      "\n",
      "   glargine        : I-DRUG     ------ glargine        : I-DRUG    \n",
      "\n",
      "   at              : B-FREQUENCY ------ at              : B-FREQUENCY\n",
      "\n",
      "   night           : I-FREQUENCY ------ night           : I-FREQUENCY\n",
      "\n",
      "   ,               : O          ------ ,               : O         \n",
      "\n",
      "*  12              : B-DRUG     ------ 12              : B-DOSAGE  \n",
      "\n",
      "*  units           : I-DRUG     ------ units           : I-DOSAGE  \n",
      "\n",
      "*  of              : I-DRUG     ------ of              : O         \n",
      "\n",
      "*  insulin         : I-DRUG     ------ insulin         : B-DRUG    \n",
      "\n",
      "   lispro          : I-DRUG     ------ lispro          : I-DRUG    \n",
      "\n",
      "   with            : B-FREQUENCY ------ with            : B-FREQUENCY\n",
      "\n",
      "   meals           : I-FREQUENCY ------ meals           : I-FREQUENCY\n",
      "\n",
      "   ,               : O          ------ ,               : O         \n",
      "\n",
      "   and             : O          ------ and             : O         \n",
      "\n",
      "   metformin       : B-DRUG     ------ metformin       : B-DRUG    \n",
      "\n",
      "*  1000            : I-DRUG     ------ 1000            : B-STRENGTH\n",
      "\n",
      "*  mg              : I-DRUG     ------ mg              : I-STRENGTH\n",
      "\n",
      "   two             : B-FREQUENCY ------ two             : B-FREQUENCY\n",
      "\n",
      "   times           : I-FREQUENCY ------ times           : I-FREQUENCY\n",
      "\n",
      "   a               : I-FREQUENCY ------ a               : I-FREQUENCY\n",
      "\n",
      "   day             : I-FREQUENCY ------ day             : I-FREQUENCY\n",
      "\n",
      "   .               : O          ------ .               : O         \n",
      "\n",
      "   It              : O          ------ It              : O         \n",
      "\n",
      "   was             : O          ------ was             : O         \n",
      "\n",
      "   determined      : O          ------ determined      : O         \n",
      "\n",
      "   that            : O          ------ that            : O         \n",
      "\n",
      "   all             : O          ------ all             : O         \n",
      "\n",
      "   SGLT2           : B-DRUG     ------ SGLT2           : B-DRUG    \n",
      "\n",
      "   inhibitors      : I-DRUG     ------ inhibitors      : I-DRUG    \n",
      "\n",
      "   should          : O          ------ should          : O         \n",
      "\n",
      "   be              : O          ------ be              : O         \n",
      "\n",
      "   discontinued    : O          ------ discontinued    : O         \n",
      "\n",
      "   indefinitely    : O          ------ indefinitely    : O         \n",
      "\n",
      "   for             : B-DURATION ------ for             : B-DURATION\n",
      "\n",
      "   3               : I-DURATION ------ 3               : I-DURATION\n",
      "\n",
      "   months          : I-DURATION ------ months          : I-DURATION\n",
      "\n",
      "   .               : O          ------ .               : O\n"
     ]
    }
   ],
   "source": [
    "for i,j,k,n in zip(posology_light_result['token'], posology_light_result['ner_greedy'], \\\n",
    "               posology_light_result['token'],posology_light_result['ner']):\n",
    "    if j!=n:\n",
    "        print(f\"*  {i:15} : {j:10} ------ {k:15} : {n:10}\")\n",
    "    else:\n",
    "        print(f\"   {i:15} : {j:10} ------ {k:15} : {n:10}\")\n",
    "        \n",
    "    "
   ]
  },
  {
   "cell_type": "code",
   "execution_count": 71,
   "metadata": {},
   "outputs": [
    {
     "name": "stdout",
     "output_type": "stream",
     "text": [
      "('The', 'O', '<---------->', 'The', 'O')\n",
      "\n",
      "('patient', 'O', '<---------->', 'patient', 'O')\n",
      "\n",
      "('was', 'O', '<---------->', 'was', 'O')\n",
      "\n",
      "('prescribed', 'O', '<---------->', 'prescribed', 'O')\n",
      "\n",
      "('1', 'B-DRUG', '<---------->', '1', 'B-DOSAGE')\n",
      "\n",
      "('capsule', 'I-DRUG', '<---------->', 'capsule', 'B-FORM')\n",
      "\n",
      "('of', 'I-DRUG', '<---------->', 'of', 'O')\n",
      "\n",
      "('Advil', 'I-DRUG', '<---------->', 'Advil', 'B-DRUG')\n",
      "\n",
      "('for', 'B-DURATION', '<---------->', 'for', 'B-DURATION')\n",
      "\n",
      "('5', 'I-DURATION', '<---------->', '5', 'I-DURATION')\n",
      "\n",
      "('days', 'I-DURATION', '<---------->', 'days', 'I-DURATION')\n",
      "\n",
      "('.', 'O', '<---------->', '.', 'O')\n",
      "\n",
      "('He', 'O', '<---------->', 'He', 'O')\n",
      "\n",
      "('was', 'O', '<---------->', 'was', 'O')\n",
      "\n",
      "('seen', 'O', '<---------->', 'seen', 'O')\n",
      "\n",
      "('by', 'O', '<---------->', 'by', 'O')\n",
      "\n",
      "('the', 'O', '<---------->', 'the', 'O')\n",
      "\n",
      "('endocrinology', 'O', '<---------->', 'endocrinology', 'O')\n",
      "\n",
      "('service', 'O', '<---------->', 'service', 'O')\n",
      "\n",
      "('and', 'O', '<---------->', 'and', 'O')\n",
      "\n",
      "('she', 'O', '<---------->', 'she', 'O')\n",
      "\n",
      "('was', 'O', '<---------->', 'was', 'O')\n",
      "\n",
      "('discharged', 'O', '<---------->', 'discharged', 'O')\n",
      "\n",
      "('on', 'O', '<---------->', 'on', 'O')\n",
      "\n",
      "('40', 'B-DRUG', '<---------->', '40', 'B-DOSAGE')\n",
      "\n",
      "('units', 'I-DRUG', '<---------->', 'units', 'I-DOSAGE')\n",
      "\n",
      "('of', 'I-DRUG', '<---------->', 'of', 'O')\n",
      "\n",
      "('insulin', 'I-DRUG', '<---------->', 'insulin', 'B-DRUG')\n",
      "\n",
      "('glargine', 'I-DRUG', '<---------->', 'glargine', 'I-DRUG')\n",
      "\n",
      "('at', 'B-FREQUENCY', '<---------->', 'at', 'B-FREQUENCY')\n",
      "\n",
      "('night', 'I-FREQUENCY', '<---------->', 'night', 'I-FREQUENCY')\n",
      "\n",
      "(',', 'O', '<---------->', ',', 'O')\n",
      "\n",
      "('12', 'B-DRUG', '<---------->', '12', 'B-DOSAGE')\n",
      "\n",
      "('units', 'I-DRUG', '<---------->', 'units', 'I-DOSAGE')\n",
      "\n",
      "('of', 'I-DRUG', '<---------->', 'of', 'O')\n",
      "\n",
      "('insulin', 'I-DRUG', '<---------->', 'insulin', 'B-DRUG')\n",
      "\n",
      "('lispro', 'I-DRUG', '<---------->', 'lispro', 'I-DRUG')\n",
      "\n",
      "('with', 'B-FREQUENCY', '<---------->', 'with', 'B-FREQUENCY')\n",
      "\n",
      "('meals', 'I-FREQUENCY', '<---------->', 'meals', 'I-FREQUENCY')\n",
      "\n",
      "(',', 'O', '<---------->', ',', 'O')\n",
      "\n",
      "('and', 'O', '<---------->', 'and', 'O')\n",
      "\n",
      "('metformin', 'B-DRUG', '<---------->', 'metformin', 'B-DRUG')\n",
      "\n",
      "('1000', 'I-DRUG', '<---------->', '1000', 'B-STRENGTH')\n",
      "\n",
      "('mg', 'I-DRUG', '<---------->', 'mg', 'I-STRENGTH')\n",
      "\n",
      "('two', 'B-FREQUENCY', '<---------->', 'two', 'B-FREQUENCY')\n",
      "\n",
      "('times', 'I-FREQUENCY', '<---------->', 'times', 'I-FREQUENCY')\n",
      "\n",
      "('a', 'I-FREQUENCY', '<---------->', 'a', 'I-FREQUENCY')\n",
      "\n",
      "('day', 'I-FREQUENCY', '<---------->', 'day', 'I-FREQUENCY')\n",
      "\n",
      "('.', 'O', '<---------->', '.', 'O')\n",
      "\n",
      "('It', 'O', '<---------->', 'It', 'O')\n",
      "\n",
      "('was', 'O', '<---------->', 'was', 'O')\n",
      "\n",
      "('determined', 'O', '<---------->', 'determined', 'O')\n",
      "\n",
      "('that', 'O', '<---------->', 'that', 'O')\n",
      "\n",
      "('all', 'O', '<---------->', 'all', 'O')\n",
      "\n",
      "('SGLT2', 'B-DRUG', '<---------->', 'SGLT2', 'B-DRUG')\n",
      "\n",
      "('inhibitors', 'I-DRUG', '<---------->', 'inhibitors', 'I-DRUG')\n",
      "\n",
      "('should', 'O', '<---------->', 'should', 'O')\n",
      "\n",
      "('be', 'O', '<---------->', 'be', 'O')\n",
      "\n",
      "('discontinued', 'O', '<---------->', 'discontinued', 'O')\n",
      "\n",
      "('indefinitely', 'O', '<---------->', 'indefinitely', 'O')\n",
      "\n",
      "('for', 'B-DURATION', '<---------->', 'for', 'B-DURATION')\n",
      "\n",
      "('3', 'I-DURATION', '<---------->', '3', 'I-DURATION')\n",
      "\n",
      "('months', 'I-DURATION', '<---------->', 'months', 'I-DURATION')\n",
      "\n",
      "('.', 'O', '<---------->', '.', 'O')\n"
     ]
    }
   ],
   "source": [
    "#alternative for comparison\n",
    "# print(*list(zip(posology_light_result['token'], posology_light_result['ner_greedy'],\\\n",
    "#                 [\"<---------->\" for i in range(len(posology_light_result['token']))],\\\n",
    "#                 posology_light_result['token'],posology_light_result['ner'])), sep=\"\\n\")"
   ]
  },
  {
   "cell_type": "code",
   "execution_count": null,
   "metadata": {},
   "outputs": [],
   "source": [
    "cols = [\n",
    "        'entities_ner_chunk',\n",
    "        'entities_ner_chunk_class',\n",
    "        'entities_ner_chunk_begin',\n",
    "        'entities_ner_chunk_end',\n",
    "       ]\n",
    "\n",
    "posology_result_df = nlp.nlu.to_pretty_df(posology_light_model, text, positions=True, output_level='chunk')[cols]"
   ]
  },
  {
   "cell_type": "code",
   "execution_count": 25,
   "metadata": {},
   "outputs": [],
   "source": [
    "# posology_result_df.to_html().replace(\"\\n\",'')\n",
    "\n",
    "#copy/paste the output to next markdown cell"
   ]
  },
  {
   "cell_type": "markdown",
   "metadata": {},
   "source": [
    "'<table border=\"1\" class=\"dataframe\">  <thead>    <tr style=\"text-align: right;\">      <th></th>      <th>entities_ner_chunk</th>      <th>entities_ner_chunk_class</th>      <th>entities_ner_chunk_begin</th>      <th>entities_ner_chunk_end</th>    </tr>  </thead>  <tbody>    <tr>      <th>0</th>      <td>1</td>      <td>DOSAGE</td>      <td>27</td>      <td>27</td>    </tr>    <tr>      <th>0</th>      <td>capsule</td>      <td>FORM</td>      <td>29</td>      <td>35</td>    </tr>    <tr>      <th>0</th>      <td>Advil</td>      <td>DRUG</td>      <td>40</td>      <td>44</td>    </tr>    <tr>      <th>0</th>      <td>for 5 days</td>      <td>DURATION</td>      <td>46</td>      <td>55</td>    </tr>    <tr>      <th>0</th>      <td>40 units</td>      <td>DOSAGE</td>      <td>126</td>      <td>133</td>    </tr>    <tr>      <th>0</th>      <td>insulin glargine</td>      <td>DRUG</td>      <td>138</td>      <td>153</td>    </tr>    <tr>      <th>0</th>      <td>at night</td>      <td>FREQUENCY</td>      <td>155</td>      <td>162</td>    </tr>    <tr>      <th>0</th>      <td>12 units</td>      <td>DOSAGE</td>      <td>166</td>      <td>173</td>    </tr>    <tr>      <th>0</th>      <td>insulin lispro</td>      <td>DRUG</td>      <td>178</td>      <td>191</td>    </tr>    <tr>      <th>0</th>      <td>with meals</td>      <td>FREQUENCY</td>      <td>193</td>      <td>202</td>    </tr>    <tr>      <th>0</th>      <td>metformin</td>      <td>DRUG</td>      <td>210</td>      <td>218</td>    </tr>    <tr>      <th>0</th>      <td>1000 mg</td>      <td>STRENGTH</td>      <td>220</td>      <td>226</td>    </tr>    <tr>      <th>0</th>      <td>two times a day</td>      <td>FREQUENCY</td>      <td>228</td>      <td>242</td>    </tr>    <tr>      <th>0</th>      <td>SGLT2 inhibitors</td>      <td>DRUG</td>      <td>273</td>      <td>288</td>    </tr>    <tr>      <th>0</th>      <td>for 3 months</td>      <td>DURATION</td>      <td>326</td>      <td>337</td>    </tr>  </tbody></table>'"
   ]
  },
  {
   "cell_type": "code",
   "execution_count": 118,
   "metadata": {},
   "outputs": [
    {
     "name": "stdout",
     "output_type": "stream",
     "text": [
      "Warning::Spark Session already created, some configs may not take.\n",
      "\n",
      "Warning::Spark Session already created, some configs may not take.\n"
     ]
    }
   ],
   "source": [
    "cols = [\n",
    "        'entities_ner_chunk_greedy',\n",
    "        'entities_ner_chunk_greedy_class',\n",
    "        'entities_ner_chunk_greedy_begin',\n",
    "        'entities_ner_chunk_greedy_end',\n",
    "       ]\n",
    "\n",
    "posology_result_greedy_df = nlp.nlu.to_pretty_df(posology_light_model, text, positions=True, output_level='chunk')[cols]\n"
   ]
  },
  {
   "cell_type": "code",
   "execution_count": 24,
   "metadata": {},
   "outputs": [],
   "source": [
    "# posology_result_greedy_df.to_html().replace(\"\\n\",'')\n",
    "#copy/paste the output to next markdown cell"
   ]
  },
  {
   "cell_type": "markdown",
   "metadata": {},
   "source": [
    "'<table border=\"1\" class=\"dataframe\">  <thead>    <tr style=\"text-align: right;\">      <th></th>      <th>entities_ner_chunk_greedy</th>      <th>entities_ner_chunk_greedy_class</th>      <th>entities_ner_chunk_greedy_begin</th>      <th>entities_ner_chunk_greedy_end</th>    </tr>  </thead>  <tbody>    <tr>      <th>0</th>      <td>1 capsule of Advil</td>      <td>DRUG</td>      <td>27</td>      <td>44</td>    </tr>    <tr>      <th>0</th>      <td>for 5 days</td>      <td>DURATION</td>      <td>46</td>      <td>55</td>    </tr>    <tr>      <th>0</th>      <td>40 units of insulin glargine</td>      <td>DRUG</td>      <td>126</td>      <td>153</td>    </tr>    <tr>      <th>0</th>      <td>at night</td>      <td>FREQUENCY</td>      <td>155</td>      <td>162</td>    </tr>    <tr>      <th>0</th>      <td>12 units of insulin lispro</td>      <td>DRUG</td>      <td>166</td>      <td>191</td>    </tr>    <tr>      <th>0</th>      <td>with meals</td>      <td>FREQUENCY</td>      <td>193</td>      <td>202</td>    </tr>    <tr>      <th>0</th>      <td>metformin 1000 mg</td>      <td>DRUG</td>      <td>210</td>      <td>226</td>    </tr>    <tr>      <th>0</th>      <td>two times a day</td>      <td>FREQUENCY</td>      <td>228</td>      <td>242</td>    </tr>    <tr>      <th>0</th>      <td>SGLT2 inhibitors</td>      <td>DRUG</td>      <td>273</td>      <td>288</td>    </tr>    <tr>      <th>0</th>      <td>for 3 months</td>      <td>DURATION</td>      <td>326</td>      <td>337</td>    </tr>    <tr>      <th>0</th>      <td>NaN</td>      <td>NaN</td>      <td>NaN</td>      <td>NaN</td>    </tr>    <tr>      <th>0</th>      <td>NaN</td>      <td>NaN</td>      <td>NaN</td>      <td>NaN</td>    </tr>    <tr>      <th>0</th>      <td>NaN</td>      <td>NaN</td>      <td>NaN</td>      <td>NaN</td>    </tr>    <tr>      <th>0</th>      <td>NaN</td>      <td>NaN</td>      <td>NaN</td>      <td>NaN</td>    </tr>    <tr>      <th>0</th>      <td>NaN</td>      <td>NaN</td>      <td>NaN</td>      <td>NaN</td>    </tr>  </tbody></table>'"
   ]
  },
  {
   "cell_type": "code",
   "execution_count": 138,
   "metadata": {},
   "outputs": [
    {
     "name": "stdout",
     "output_type": "stream",
     "text": [
      "\n"
     ]
    }
   ],
   "source": [
    "posology_light_result = posology_light_model.fullAnnotate(text)"
   ]
  },
  {
   "cell_type": "code",
   "execution_count": 27,
   "metadata": {},
   "outputs": [],
   "source": [
    "visualiser.display(posology_light_result[0], label_col='ner_chunk', document_col='document',return_html=True).replace(\"\\n\", \"\")\n",
    "\n",
    "#copy/paste the output to next markdown cell"
   ]
  },
  {
   "cell_type": "markdown",
   "metadata": {},
   "source": [
    "<style>    @import url(\\'https://fonts.googleapis.com/css2?family=Montserrat:wght@300;400;500;600;700&display=swap\\');    @import url(\\'https://fonts.googleapis.com/css2?family=Vistol Regular:wght@300;400;500;600;700&display=swap\\');        .spark-nlp-display-scroll-entities {        border: 1px solid #E7EDF0;        border-radius: 3px;        text-align: justify;            }    .spark-nlp-display-scroll-entities span {          font-size: 14px;        line-height: 24px;        color: #536B76;        font-family: \\'Montserrat\\', sans-serif !important;    }        .spark-nlp-display-entity-wrapper{            display: inline-grid;        text-align: center;        border-radius: 4px;        margin: 0 2px 5px 2px;        padding: 1px    }    .spark-nlp-display-entity-name{        font-size: 14px;        line-height: 24px;        font-family: \\'Montserrat\\', sans-serif !important;                background: #f1f2f3;        border-width: medium;        text-align: center;                font-weight: 400;                border-radius: 5px;        padding: 2px 5px;        display: block;        margin: 3px 2px;        }    .spark-nlp-display-entity-type{        font-size: 14px;        line-height: 24px;        color: #ffffff;        font-family: \\'Montserrat\\', sans-serif !important;                text-transform: uppercase;                font-weight: 500;        display: block;        padding: 3px 5px;    }        .spark-nlp-display-entity-resolution{        font-size: 14px;        line-height: 24px;        color: #ffffff;        font-family: \\'Vistol Regular\\', sans-serif !important;                text-transform: uppercase;                font-weight: 500;        display: block;        padding: 3px 5px;    }        .spark-nlp-display-others{        font-size: 14px;        line-height: 24px;        font-family: \\'Montserrat\\', sans-serif !important;                font-weight: 400;    }</style> <span class=\"spark-nlp-display-others\" style=\"background-color: white\">The patient was prescribed </span><span class=\"spark-nlp-display-entity-wrapper\" style=\"background-color: #C05A62\"><span class=\"spark-nlp-display-entity-name\">1 </span><span class=\"spark-nlp-display-entity-type\">DOSAGE</span></span><span class=\"spark-nlp-display-others\" style=\"background-color: white\"> </span><span class=\"spark-nlp-display-entity-wrapper\" style=\"background-color: #30B68A\"><span class=\"spark-nlp-display-entity-name\">capsule </span><span class=\"spark-nlp-display-entity-type\">FORM</span></span><span class=\"spark-nlp-display-others\" style=\"background-color: white\"> of </span><span class=\"spark-nlp-display-entity-wrapper\" style=\"background-color: #8B668B\"><span class=\"spark-nlp-display-entity-name\">Advil </span><span class=\"spark-nlp-display-entity-type\">DRUG</span></span><span class=\"spark-nlp-display-others\" style=\"background-color: white\"> </span><span class=\"spark-nlp-display-entity-wrapper\" style=\"background-color: #A56C17\"><span class=\"spark-nlp-display-entity-name\">for 5 days </span><span class=\"spark-nlp-display-entity-type\">DURATION</span></span><span class=\"spark-nlp-display-others\" style=\"background-color: white\"> . He was seen by the endocrinology service and she was discharged on </span><span class=\"spark-nlp-display-entity-wrapper\" style=\"background-color: #C05A62\"><span class=\"spark-nlp-display-entity-name\">40 units </span><span class=\"spark-nlp-display-entity-type\">DOSAGE</span></span><span class=\"spark-nlp-display-others\" style=\"background-color: white\"> of </span><span class=\"spark-nlp-display-entity-wrapper\" style=\"background-color: #8B668B\"><span class=\"spark-nlp-display-entity-name\">insulin glargine </span><span class=\"spark-nlp-display-entity-type\">DRUG</span></span><span class=\"spark-nlp-display-others\" style=\"background-color: white\"> </span><span class=\"spark-nlp-display-entity-wrapper\" style=\"background-color: #1A09A4\"><span class=\"spark-nlp-display-entity-name\">at night </span><span class=\"spark-nlp-display-entity-type\">FREQUENCY</span></span><span class=\"spark-nlp-display-others\" style=\"background-color: white\"> , </span><span class=\"spark-nlp-display-entity-wrapper\" style=\"background-color: #C05A62\"><span class=\"spark-nlp-display-entity-name\">12 units </span><span class=\"spark-nlp-display-entity-type\">DOSAGE</span></span><span class=\"spark-nlp-display-others\" style=\"background-color: white\"> of </span><span class=\"spark-nlp-display-entity-wrapper\" style=\"background-color: #8B668B\"><span class=\"spark-nlp-display-entity-name\">insulin lispro </span><span class=\"spark-nlp-display-entity-type\">DRUG</span></span><span class=\"spark-nlp-display-others\" style=\"background-color: white\"> </span><span class=\"spark-nlp-display-entity-wrapper\" style=\"background-color: #1A09A4\"><span class=\"spark-nlp-display-entity-name\">with meals </span><span class=\"spark-nlp-display-entity-type\">FREQUENCY</span></span><span class=\"spark-nlp-display-others\" style=\"background-color: white\"> , and </span><span class=\"spark-nlp-display-entity-wrapper\" style=\"background-color: #8B668B\"><span class=\"spark-nlp-display-entity-name\">metformin </span><span class=\"spark-nlp-display-entity-type\">DRUG</span></span><span class=\"spark-nlp-display-others\" style=\"background-color: white\"> </span><span class=\"spark-nlp-display-entity-wrapper\" style=\"background-color: #511AAA\"><span class=\"spark-nlp-display-entity-name\">1000 mg </span><span class=\"spark-nlp-display-entity-type\">STRENGTH</span></span><span class=\"spark-nlp-display-others\" style=\"background-color: white\"> </span><span class=\"spark-nlp-display-entity-wrapper\" style=\"background-color: #1A09A4\"><span class=\"spark-nlp-display-entity-name\">two times a day </span><span class=\"spark-nlp-display-entity-type\">FREQUENCY</span></span><span class=\"spark-nlp-display-others\" style=\"background-color: white\"> . It was determined that all </span><span class=\"spark-nlp-display-entity-wrapper\" style=\"background-color: #8B668B\"><span class=\"spark-nlp-display-entity-name\">SGLT2 inhibitors </span><span class=\"spark-nlp-display-entity-type\">DRUG</span></span><span class=\"spark-nlp-display-others\" style=\"background-color: white\"> should be discontinued indefinitely </span><span class=\"spark-nlp-display-entity-wrapper\" style=\"background-color: #A56C17\"><span class=\"spark-nlp-display-entity-name\">for 3 months </span><span class=\"spark-nlp-display-entity-type\">DURATION</span></span><span class=\"spark-nlp-display-others\" style=\"background-color: white\"> .</span></div>"
   ]
  },
  {
   "cell_type": "code",
   "execution_count": 28,
   "metadata": {},
   "outputs": [],
   "source": [
    "visualiser.display(posology_light_result[0], label_col='ner_chunk_greedy', document_col='document',return_html=True).replace(\"\\n\", \"\")\n",
    "#copy/paste the output to next markdown cell"
   ]
  },
  {
   "cell_type": "markdown",
   "metadata": {},
   "source": [
    "<style>    @import url(\\'https://fonts.googleapis.com/css2?family=Montserrat:wght@300;400;500;600;700&display=swap\\');    @import url(\\'https://fonts.googleapis.com/css2?family=Vistol Regular:wght@300;400;500;600;700&display=swap\\');        .spark-nlp-display-scroll-entities {        border: 1px solid #E7EDF0;        border-radius: 3px;        text-align: justify;            }    .spark-nlp-display-scroll-entities span {          font-size: 14px;        line-height: 24px;        color: #536B76;        font-family: \\'Montserrat\\', sans-serif !important;    }        .spark-nlp-display-entity-wrapper{            display: inline-grid;        text-align: center;        border-radius: 4px;        margin: 0 2px 5px 2px;        padding: 1px    }    .spark-nlp-display-entity-name{        font-size: 14px;        line-height: 24px;        font-family: \\'Montserrat\\', sans-serif !important;                background: #f1f2f3;        border-width: medium;        text-align: center;                font-weight: 400;                border-radius: 5px;        padding: 2px 5px;        display: block;        margin: 3px 2px;        }    .spark-nlp-display-entity-type{        font-size: 14px;        line-height: 24px;        color: #ffffff;        font-family: \\'Montserrat\\', sans-serif !important;                text-transform: uppercase;                font-weight: 500;        display: block;        padding: 3px 5px;    }        .spark-nlp-display-entity-resolution{        font-size: 14px;        line-height: 24px;        color: #ffffff;        font-family: \\'Vistol Regular\\', sans-serif !important;                text-transform: uppercase;                font-weight: 500;        display: block;        padding: 3px 5px;    }        .spark-nlp-display-others{        font-size: 14px;        line-height: 24px;        font-family: \\'Montserrat\\', sans-serif !important;                font-weight: 400;    }</style> <span class=\"spark-nlp-display-others\" style=\"background-color: white\">The patient was prescribed </span><span class=\"spark-nlp-display-entity-wrapper\" style=\"background-color: #8B668B\"><span class=\"spark-nlp-display-entity-name\">1 capsule of Advil </span><span class=\"spark-nlp-display-entity-type\">DRUG</span></span><span class=\"spark-nlp-display-others\" style=\"background-color: white\"> </span><span class=\"spark-nlp-display-entity-wrapper\" style=\"background-color: #4DC0BC\"><span class=\"spark-nlp-display-entity-name\">for 5 days </span><span class=\"spark-nlp-display-entity-type\">DURATION</span></span><span class=\"spark-nlp-display-others\" style=\"background-color: white\"> . He was seen by the endocrinology service and she was discharged on </span><span class=\"spark-nlp-display-entity-wrapper\" style=\"background-color: #8B668B\"><span class=\"spark-nlp-display-entity-name\">40 units of insulin glargine </span><span class=\"spark-nlp-display-entity-type\">DRUG</span></span><span class=\"spark-nlp-display-others\" style=\"background-color: white\"> </span><span class=\"spark-nlp-display-entity-wrapper\" style=\"background-color: #931A7A\"><span class=\"spark-nlp-display-entity-name\">at night </span><span class=\"spark-nlp-display-entity-type\">FREQUENCY</span></span><span class=\"spark-nlp-display-others\" style=\"background-color: white\"> , </span><span class=\"spark-nlp-display-entity-wrapper\" style=\"background-color: #8B668B\"><span class=\"spark-nlp-display-entity-name\">12 units of insulin lispro </span><span class=\"spark-nlp-display-entity-type\">DRUG</span></span><span class=\"spark-nlp-display-others\" style=\"background-color: white\"> </span><span class=\"spark-nlp-display-entity-wrapper\" style=\"background-color: #931A7A\"><span class=\"spark-nlp-display-entity-name\">with meals </span><span class=\"spark-nlp-display-entity-type\">FREQUENCY</span></span><span class=\"spark-nlp-display-others\" style=\"background-color: white\"> , and </span><span class=\"spark-nlp-display-entity-wrapper\" style=\"background-color: #8B668B\"><span class=\"spark-nlp-display-entity-name\">metformin 1000 mg </span><span class=\"spark-nlp-display-entity-type\">DRUG</span></span><span class=\"spark-nlp-display-others\" style=\"background-color: white\"> </span><span class=\"spark-nlp-display-entity-wrapper\" style=\"background-color: #931A7A\"><span class=\"spark-nlp-display-entity-name\">two times a day </span><span class=\"spark-nlp-display-entity-type\">FREQUENCY</span></span><span class=\"spark-nlp-display-others\" style=\"background-color: white\"> . It was determined that all </span><span class=\"spark-nlp-display-entity-wrapper\" style=\"background-color: #8B668B\"><span class=\"spark-nlp-display-entity-name\">SGLT2 inhibitors </span><span class=\"spark-nlp-display-entity-type\">DRUG</span></span><span class=\"spark-nlp-display-others\" style=\"background-color: white\"> should be discontinued indefinitely </span><span class=\"spark-nlp-display-entity-wrapper\" style=\"background-color: #4DC0BC\"><span class=\"spark-nlp-display-entity-name\">for 3 months </span><span class=\"spark-nlp-display-entity-type\">DURATION</span></span><span class=\"spark-nlp-display-others\" style=\"background-color: white\"> .</span></div>"
   ]
  },
  {
   "cell_type": "markdown",
   "metadata": {},
   "source": [
    "## Writing a generic NER function"
   ]
  },
  {
   "cell_type": "markdown",
   "metadata": {},
   "source": [
    "**Generic NER Function with LightPipeline**"
   ]
  },
  {
   "cell_type": "code",
   "execution_count": 32,
   "metadata": {
    "execution": {
     "iopub.execute_input": "2023-08-30T21:00:35.563372Z",
     "iopub.status.busy": "2023-08-30T21:00:35.563063Z",
     "iopub.status.idle": "2023-08-30T21:00:35.621759Z",
     "shell.execute_reply": "2023-08-30T21:00:35.620845Z",
     "shell.execute_reply.started": "2023-08-30T21:00:35.563338Z"
    },
    "tags": []
   },
   "outputs": [
    {
     "name": "stdout",
     "output_type": "stream",
     "text": [
      "\n"
     ]
    }
   ],
   "source": [
    "def get_light_model(embeddings, model_name = 'ner_clinical'):\n",
    "\n",
    "  documentAssembler = nlp.DocumentAssembler()\\\n",
    "      .setInputCol(\"text\")\\\n",
    "      .setOutputCol(\"document\")\n",
    "\n",
    "  sentenceDetector = nlp.SentenceDetector()\\\n",
    "      .setInputCols([\"document\"])\\\n",
    "      .setOutputCol(\"sentence\")\n",
    "\n",
    "  tokenizer = nlp.Tokenizer()\\\n",
    "      .setInputCols([\"sentence\"])\\\n",
    "      .setOutputCol(\"token\")\n",
    "\n",
    "  word_embeddings = nlp.WordEmbeddingsModel.pretrained(embeddings, \"en\", \"clinical/models\")\\\n",
    "      .setInputCols([\"sentence\", \"token\"])\\\n",
    "      .setOutputCol(\"embeddings\").setEnableInMemoryStorage(True)\n",
    "\n",
    "  loaded_ner_model = medical.NerModel.pretrained(model_name, \"en\", \"clinical/models\") \\\n",
    "      .setInputCols([\"sentence\", \"token\", \"embeddings\"]) \\\n",
    "      .setOutputCol(\"ner\")\n",
    "\n",
    "  ner_converter = medical.NerConverterInternal() \\\n",
    "      .setInputCols([\"sentence\", \"token\", \"ner\"]) \\\n",
    "      .setOutputCol(\"ner_chunk\")\n",
    "\n",
    "  nlpPipeline = nlp.Pipeline(stages=[\n",
    "      documentAssembler,\n",
    "      sentenceDetector,\n",
    "      tokenizer,\n",
    "      word_embeddings,\n",
    "      loaded_ner_model,\n",
    "      ner_converter])\n",
    "\n",
    "  model = nlpPipeline.fit(spark.createDataFrame([[\"\"]]).toDF(\"text\"))\n",
    "\n",
    "  return nlp.LightPipeline(model)"
   ]
  },
  {
   "cell_type": "code",
   "execution_count": 33,
   "metadata": {
    "execution": {
     "iopub.execute_input": "2023-08-30T21:00:44.144639Z",
     "iopub.status.busy": "2023-08-30T21:00:44.144365Z",
     "iopub.status.idle": "2023-08-30T21:01:03.472263Z",
     "shell.execute_reply": "2023-08-30T21:01:03.471537Z",
     "shell.execute_reply.started": "2023-08-30T21:00:44.144605Z"
    },
    "tags": []
   },
   "outputs": [
    {
     "name": "stdout",
     "output_type": "stream",
     "text": [
      "embeddings_clinical download started this may take some time.\n",
      "\n",
      "Approximate size to download 1.6 GB\n",
      "\n",
      "[OK!]\n",
      "\n",
      "ner_clinical download started this may take some time.\n",
      "\n",
      "[OK!]\n"
     ]
    }
   ],
   "source": [
    "embeddings = 'embeddings_clinical'\n",
    "\n",
    "model_name = 'ner_clinical'\n",
    "\n",
    "light_model = get_light_model(embeddings, model_name)\n",
    "\n",
    "text = \"I had a headache yesterday and took an Advil.\""
   ]
  },
  {
   "cell_type": "code",
   "execution_count": 34,
   "metadata": {
    "execution": {
     "iopub.execute_input": "2023-08-30T21:02:47.230923Z",
     "iopub.status.busy": "2023-08-30T21:02:47.230653Z",
     "iopub.status.idle": "2023-08-30T21:03:06.566553Z",
     "shell.execute_reply": "2023-08-30T21:03:06.565905Z",
     "shell.execute_reply.started": "2023-08-30T21:02:47.230890Z"
    },
    "tags": []
   },
   "outputs": [
    {
     "name": "stdout",
     "output_type": "stream",
     "text": [
      "\n"
     ]
    }
   ],
   "source": [
    "res = light_model.annotate([text])"
   ]
  },
  {
   "cell_type": "code",
   "execution_count": 35,
   "metadata": {},
   "outputs": [
    {
     "name": "stdout",
     "output_type": "stream",
     "text": [
      "dict_keys(['document', 'ner_chunk', 'token', 'ner', 'embeddings', 'sentence'])\n"
     ]
    }
   ],
   "source": [
    "res[0].keys()"
   ]
  },
  {
   "cell_type": "code",
   "execution_count": 54,
   "metadata": {},
   "outputs": [],
   "source": [
    "# print(*list(zip(res[0]['token'],res[0]['ner'])),sep='\\n')"
   ]
  },
  {
   "cell_type": "code",
   "execution_count": 36,
   "metadata": {},
   "outputs": [
    {
     "name": "stdout",
     "output_type": "stream",
     "text": [
      "I              O         \n",
      "\n",
      "had            O         \n",
      "\n",
      "a              B-PROBLEM \n",
      "\n",
      "headache       I-PROBLEM \n",
      "\n",
      "yesterday      O         \n",
      "\n",
      "and            O         \n",
      "\n",
      "took           O         \n",
      "\n",
      "an             B-TREATMENT\n",
      "\n",
      "Advil          I-TREATMENT\n",
      "\n",
      ".              O\n"
     ]
    }
   ],
   "source": [
    "for i,j in list(zip(res[0]['token'],res[0]['ner'])):\n",
    "    print(f\"{i:15}{j:10}\")"
   ]
  },
  {
   "cell_type": "code",
   "execution_count": 37,
   "metadata": {
    "execution": {
     "iopub.execute_input": "2023-08-30T21:02:47.230923Z",
     "iopub.status.busy": "2023-08-30T21:02:47.230653Z",
     "iopub.status.idle": "2023-08-30T21:03:06.566553Z",
     "shell.execute_reply": "2023-08-30T21:03:06.565905Z",
     "shell.execute_reply.started": "2023-08-30T21:02:47.230890Z"
    },
    "tags": []
   },
   "outputs": [
    {
     "name": "stdout",
     "output_type": "stream",
     "text": [
      "Warning::Spark Session already created, some configs may not take.\n",
      "\n",
      "Warning::Spark Session already created, some configs may not take.\n"
     ]
    }
   ],
   "source": [
    "cols = [\n",
    "        'entities_ner_chunk_origin_sentence',\n",
    "        'entities_ner_chunk_begin',\n",
    "        'entities_ner_chunk_end',\n",
    "        'entities_ner_chunk',\n",
    "        'entities_ner_chunk_class',\n",
    "       ]\n",
    "\n",
    "# nlp.nlu.to_pretty_df(light_model, text, positions=True, output_level='chunk')[cols].reset_index(drop=True)\n",
    "df = nlp.nlu.to_pretty_df(light_model, text, positions=True, output_level='chunk')[cols].reset_index(drop=True)"
   ]
  },
  {
   "cell_type": "code",
   "execution_count": 29,
   "metadata": {
    "execution": {
     "iopub.execute_input": "2023-08-30T21:05:06.127962Z",
     "iopub.status.busy": "2023-08-30T21:05:06.127684Z",
     "iopub.status.idle": "2023-08-30T21:05:06.387829Z",
     "shell.execute_reply": "2023-08-30T21:05:06.387173Z",
     "shell.execute_reply.started": "2023-08-30T21:05:06.127929Z"
    },
    "tags": []
   },
   "outputs": [],
   "source": [
    "# df.to_html().replace(\"\\n\", \"\")\n",
    "\n",
    "#copy/paste the output to next markdown cell"
   ]
  },
  {
   "cell_type": "markdown",
   "metadata": {},
   "source": [
    "'<table border=\"1\" class=\"dataframe\">  <thead>    <tr style=\"text-align: right;\">      <th></th>      <th>entities_ner_chunk_origin_sentence</th>      <th>entities_ner_chunk_begin</th>      <th>entities_ner_chunk_end</th>      <th>entities_ner_chunk</th>      <th>entities_ner_chunk_class</th>    </tr>  </thead>  <tbody>    <tr>      <th>0</th>      <td>0</td>      <td>6</td>      <td>15</td>      <td>a headache</td>      <td>PROBLEM</td>    </tr>    <tr>      <th>1</th>      <td>0</td>      <td>36</td>      <td>43</td>      <td>an Advil</td>      <td>TREATMENT</td>    </tr>  </tbody></table>'"
   ]
  },
  {
   "cell_type": "code",
   "execution_count": 38,
   "metadata": {
    "execution": {
     "iopub.execute_input": "2023-08-30T21:03:54.756195Z",
     "iopub.status.busy": "2023-08-30T21:03:54.755987Z",
     "iopub.status.idle": "2023-08-30T21:04:12.077959Z",
     "shell.execute_reply": "2023-08-30T21:04:12.077134Z",
     "shell.execute_reply.started": "2023-08-30T21:03:54.756164Z"
    }
   },
   "outputs": [
    {
     "name": "stdout",
     "output_type": "stream",
     "text": [
      "embeddings_clinical download started this may take some time.\n",
      "\n",
      "Approximate size to download 1.6 GB\n",
      "\n",
      "[OK!]\n",
      "\n",
      "ner_posology download started this may take some time.\n",
      "\n",
      "[OK!]\n"
     ]
    }
   ],
   "source": [
    "text ='''The patient was prescribed 1 capsule of Parol with meals .\n",
    "He was seen by the endocrinology service and she was discharged on 40 units of insulin glargine at night , 12 units of insulin lispro with meals , and metformin 1000 mg two times a day .\n",
    "It was determined that all SGLT2 inhibitors should be discontinued indefinitely fro 3 months .'''\n",
    "\n",
    "embeddings = 'embeddings_clinical'\n",
    "\n",
    "model_name = 'ner_posology'\n",
    "\n",
    "light_model = get_light_model(embeddings, model_name)"
   ]
  },
  {
   "cell_type": "code",
   "execution_count": 39,
   "metadata": {},
   "outputs": [
    {
     "name": "stdout",
     "output_type": "stream",
     "text": [
      "\n"
     ]
    }
   ],
   "source": [
    "res = light_model.annotate([text])"
   ]
  },
  {
   "cell_type": "code",
   "execution_count": 40,
   "metadata": {},
   "outputs": [
    {
     "name": "stdout",
     "output_type": "stream",
     "text": [
      "The            O         \n",
      "\n",
      "patient        O         \n",
      "\n",
      "was            O         \n",
      "\n",
      "prescribed     O         \n",
      "\n",
      "1              B-DOSAGE  \n",
      "\n",
      "capsule        B-FORM    \n",
      "\n",
      "of             O         \n",
      "\n",
      "Parol          B-DRUG    \n",
      "\n",
      "with           B-FREQUENCY\n",
      "\n",
      "meals          I-FREQUENCY\n",
      "\n",
      ".              O         \n",
      "\n",
      "He             O         \n",
      "\n",
      "was            O         \n",
      "\n",
      "seen           O         \n",
      "\n",
      "by             O         \n",
      "\n",
      "the            O         \n",
      "\n",
      "endocrinology  O         \n",
      "\n",
      "service        O         \n",
      "\n",
      "and            O         \n",
      "\n",
      "she            O         \n",
      "\n",
      "was            O         \n",
      "\n",
      "discharged     O         \n",
      "\n",
      "on             O         \n",
      "\n",
      "40             B-DOSAGE  \n",
      "\n",
      "units          I-DOSAGE  \n",
      "\n",
      "of             O         \n",
      "\n",
      "insulin        B-DRUG    \n",
      "\n",
      "glargine       I-DRUG    \n",
      "\n",
      "at             B-FREQUENCY\n",
      "\n",
      "night          I-FREQUENCY\n",
      "\n",
      ",              O         \n",
      "\n",
      "12             B-DOSAGE  \n",
      "\n",
      "units          I-DOSAGE  \n",
      "\n",
      "of             O         \n",
      "\n",
      "insulin        B-DRUG    \n",
      "\n",
      "lispro         I-DRUG    \n",
      "\n",
      "with           B-FREQUENCY\n",
      "\n",
      "meals          I-FREQUENCY\n",
      "\n",
      ",              O         \n",
      "\n",
      "and            O         \n",
      "\n",
      "metformin      B-DRUG    \n",
      "\n",
      "1000           B-STRENGTH\n",
      "\n",
      "mg             I-STRENGTH\n",
      "\n",
      "two            B-FREQUENCY\n",
      "\n",
      "times          I-FREQUENCY\n",
      "\n",
      "a              I-FREQUENCY\n",
      "\n",
      "day            I-FREQUENCY\n",
      "\n",
      ".              O         \n",
      "\n",
      "It             O         \n",
      "\n",
      "was            O         \n",
      "\n",
      "determined     O         \n",
      "\n",
      "that           O         \n",
      "\n",
      "all            O         \n",
      "\n",
      "SGLT2          B-DRUG    \n",
      "\n",
      "inhibitors     I-DRUG    \n",
      "\n",
      "should         O         \n",
      "\n",
      "be             O         \n",
      "\n",
      "discontinued   O         \n",
      "\n",
      "indefinitely   O         \n",
      "\n",
      "fro            O         \n",
      "\n",
      "3              O         \n",
      "\n",
      "months         O         \n",
      "\n",
      ".              O\n"
     ]
    }
   ],
   "source": [
    "for i,j in list(zip(res[0]['token'],res[0]['ner'])):\n",
    "    print(f\"{i:15}{j:10}\")"
   ]
  },
  {
   "cell_type": "code",
   "execution_count": 81,
   "metadata": {
    "execution": {
     "iopub.execute_input": "2023-08-30T21:04:27.815188Z",
     "iopub.status.busy": "2023-08-30T21:04:27.814882Z",
     "iopub.status.idle": "2023-08-30T21:04:30.090648Z",
     "shell.execute_reply": "2023-08-30T21:04:30.089988Z",
     "shell.execute_reply.started": "2023-08-30T21:04:27.815127Z"
    }
   },
   "outputs": [],
   "source": [
    "#copy/paste the output to next markdown cell\n",
    "nlp.nlu.to_pretty_df(light_model, text,positions=True, output_level='chunk')[cols].reset_index(drop=True).to_html().replace(\"\\n\", \"\")"
   ]
  },
  {
   "cell_type": "markdown",
   "metadata": {},
   "source": [
    "<table border=\"1\" class=\"dataframe\">  <thead>    <tr style=\"text-align: right;\">      <th></th>      <th>entities_ner_chunk_origin_sentence</th>      <th>entities_ner_chunk_begin</th>      <th>entities_ner_chunk_end</th>      <th>entities_ner_chunk</th>      <th>entities_ner_chunk_class</th>    </tr>  </thead>  <tbody>    <tr>      <th>0</th>      <td>0</td>      <td>27</td>      <td>27</td>      <td>1</td>      <td>DOSAGE</td>    </tr>    <tr>      <th>1</th>      <td>0</td>      <td>29</td>      <td>35</td>      <td>capsule</td>      <td>FORM</td>    </tr>    <tr>      <th>2</th>      <td>0</td>      <td>40</td>      <td>44</td>      <td>Parol</td>      <td>DRUG</td>    </tr>    <tr>      <th>3</th>      <td>0</td>      <td>46</td>      <td>55</td>      <td>with meals</td>      <td>FREQUENCY</td>    </tr>    <tr>      <th>4</th>      <td>1</td>      <td>126</td>      <td>133</td>      <td>40 units</td>      <td>DOSAGE</td>    </tr>    <tr>      <th>5</th>      <td>1</td>      <td>138</td>      <td>153</td>      <td>insulin glargine</td>      <td>DRUG</td>    </tr>    <tr>      <th>6</th>      <td>1</td>      <td>155</td>      <td>162</td>      <td>at night</td>      <td>FREQUENCY</td>    </tr>    <tr>      <th>7</th>      <td>1</td>      <td>166</td>      <td>173</td>      <td>12 units</td>      <td>DOSAGE</td>    </tr>    <tr>      <th>8</th>      <td>1</td>      <td>178</td>      <td>191</td>      <td>insulin lispro</td>      <td>DRUG</td>    </tr>    <tr>      <th>9</th>      <td>1</td>      <td>193</td>      <td>202</td>      <td>with meals</td>      <td>FREQUENCY</td>    </tr>    <tr>      <th>10</th>      <td>1</td>      <td>210</td>      <td>218</td>      <td>metformin</td>      <td>DRUG</td>    </tr>    <tr>      <th>11</th>      <td>1</td>      <td>220</td>      <td>226</td>      <td>1000 mg</td>      <td>STRENGTH</td>    </tr>    <tr>      <th>12</th>      <td>1</td>      <td>228</td>      <td>242</td>      <td>two times a day</td>      <td>FREQUENCY</td>    </tr>    <tr>      <th>13</th>      <td>2</td>      <td>273</td>      <td>288</td>      <td>SGLT2 inhibitors</td>      <td>DRUG</td>    </tr>  </tbody></table>"
   ]
  },
  {
   "cell_type": "markdown",
   "metadata": {},
   "source": [
    "## PHI NER\n",
    "\n",
    "**Entities**\n",
    "- AGE\n",
    "- CONTACT\n",
    "- DATE\n",
    "- ID\n",
    "- LOCATION\n",
    "- NAME\n",
    "- PROFESSION"
   ]
  },
  {
   "cell_type": "code",
   "execution_count": 42,
   "metadata": {
    "execution": {
     "iopub.execute_input": "2023-08-30T21:05:19.161825Z",
     "iopub.status.busy": "2023-08-30T21:05:19.161562Z",
     "iopub.status.idle": "2023-08-30T21:05:30.463800Z",
     "shell.execute_reply": "2023-08-30T21:05:30.463077Z",
     "shell.execute_reply.started": "2023-08-30T21:05:19.161794Z"
    }
   },
   "outputs": [
    {
     "name": "stdout",
     "output_type": "stream",
     "text": [
      "embeddings_clinical download started this may take some time.\n",
      "\n",
      "Approximate size to download 1.6 GB\n",
      "\n",
      "[OK!]\n",
      "\n",
      "ner_deid_subentity_augmented download started this may take some time.\n",
      "\n",
      "[OK!]\n"
     ]
    }
   ],
   "source": [
    "embeddings = 'embeddings_clinical'\n",
    "\n",
    "model_name = 'ner_deid_subentity_augmented'\n",
    "\n",
    "# deidentify_dl\n",
    "# ner_deid_sd\n",
    "# ner_deid_large\n",
    "# ner_deid_generic_augmented\n",
    "# ner_deid_subentity_augmented\n",
    "# ner_deid_subentity_augmented_i2b2\n",
    "\n",
    "text = \"\"\"Miriam BRAY is a 41-year-old female from Vietnam and she was admitted for a right-sided pleural effusion for thoracentesis on Monday by Dr. X. Her Coumadin was placed on hold.\n",
    "She was instructed to followup with Dr. XYZ in the office to check her INR On August 24, 2007 .\"\"\"\n",
    "\n",
    "light_model = get_light_model(embeddings, model_name)"
   ]
  },
  {
   "cell_type": "code",
   "execution_count": 44,
   "metadata": {},
   "outputs": [
    {
     "name": "stdout",
     "output_type": "stream",
     "text": [
      "Miriam         B-PATIENT \n",
      "\n",
      "BRAY           I-PATIENT \n",
      "\n",
      "is             O         \n",
      "\n",
      "a              O         \n",
      "\n",
      "41-year-old    B-AGE     \n",
      "\n",
      "female         O         \n",
      "\n",
      "from           O         \n",
      "\n",
      "Vietnam        B-COUNTRY \n",
      "\n",
      "and            O         \n",
      "\n",
      "she            O         \n",
      "\n",
      "was            O         \n",
      "\n",
      "admitted       O         \n",
      "\n",
      "for            O         \n",
      "\n",
      "a              O         \n",
      "\n",
      "right-sided    O         \n",
      "\n",
      "pleural        O         \n",
      "\n",
      "effusion       O         \n",
      "\n",
      "for            O         \n",
      "\n",
      "thoracentesis  O         \n",
      "\n",
      "on             O         \n",
      "\n",
      "Monday         B-DATE    \n",
      "\n",
      "by             O         \n",
      "\n",
      "Dr             O         \n",
      "\n",
      ".              O         \n",
      "\n",
      "X              B-DOCTOR  \n",
      "\n",
      ".              O         \n",
      "\n",
      "Her            O         \n",
      "\n",
      "Coumadin       O         \n",
      "\n",
      "was            O         \n",
      "\n",
      "placed         O         \n",
      "\n",
      "on             O         \n",
      "\n",
      "hold           O         \n",
      "\n",
      ".              O         \n",
      "\n",
      "She            O         \n",
      "\n",
      "was            O         \n",
      "\n",
      "instructed     O         \n",
      "\n",
      "to             O         \n",
      "\n",
      "followup       O         \n",
      "\n",
      "with           O         \n",
      "\n",
      "Dr             O         \n",
      "\n",
      ".              O         \n",
      "\n",
      "XYZ            B-DOCTOR  \n",
      "\n",
      "in             O         \n",
      "\n",
      "the            O         \n",
      "\n",
      "office         O         \n",
      "\n",
      "to             O         \n",
      "\n",
      "check          O         \n",
      "\n",
      "her            O         \n",
      "\n",
      "INR            O         \n",
      "\n",
      "On             O         \n",
      "\n",
      "August         B-DATE    \n",
      "\n",
      "24             I-DATE    \n",
      "\n",
      ",              I-DATE    \n",
      "\n",
      "2007           I-DATE    \n",
      "\n",
      ".              O\n"
     ]
    }
   ],
   "source": [
    "res = light_model.annotate([text])\n",
    "for i,j in list(zip(res[0]['token'],res[0]['ner'])):\n",
    "    print(f\"{i:15}{j:10}\")"
   ]
  },
  {
   "cell_type": "code",
   "execution_count": 83,
   "metadata": {},
   "outputs": [],
   "source": [
    "#copy/paste the output to next markdown cell\n",
    "nlp.nlu.to_pretty_df(light_model, text,positions=True, output_level='chunk')[cols].reset_index(drop=True).to_html().replace(\"\\n\",\"\")"
   ]
  },
  {
   "cell_type": "markdown",
   "metadata": {},
   "source": [
    "<table border=\"1\" class=\"dataframe\">  <thead>    <tr style=\"text-align: right;\">      <th></th>      <th>entities_ner_chunk_origin_sentence</th>      <th>entities_ner_chunk_begin</th>      <th>entities_ner_chunk_end</th>      <th>entities_ner_chunk</th>      <th>entities_ner_chunk_class</th>    </tr>  </thead>  <tbody>    <tr>      <th>0</th>      <td>0</td>      <td>0</td>      <td>10</td>      <td>Miriam BRAY</td>      <td>PATIENT</td>    </tr>    <tr>      <th>1</th>      <td>0</td>      <td>17</td>      <td>27</td>      <td>41-year-old</td>      <td>AGE</td>    </tr>    <tr>      <th>2</th>      <td>0</td>      <td>41</td>      <td>47</td>      <td>Vietnam</td>      <td>COUNTRY</td>    </tr>    <tr>      <th>3</th>      <td>0</td>      <td>126</td>      <td>131</td>      <td>Monday</td>      <td>DATE</td>    </tr>    <tr>      <th>4</th>      <td>0</td>      <td>140</td>      <td>140</td>      <td>X</td>      <td>DOCTOR</td>    </tr>    <tr>      <th>5</th>      <td>1</td>      <td>216</td>      <td>218</td>      <td>XYZ</td>      <td>DOCTOR</td>    </tr>    <tr>      <th>6</th>      <td>1</td>      <td>254</td>      <td>268</td>      <td>August 24, 2007</td>      <td>DATE</td>    </tr>  </tbody></table>"
   ]
  },
  {
   "cell_type": "markdown",
   "metadata": {},
   "source": [
    "## Oncology NER\n",
    "\n",
    "There are several Oncology NER models in Spark NLP. We will show an example of `new_oncology_wip` model here.\n",
    "\n",
    "**Entities**\n",
    "\n",
    "| | | | |\n",
    "|-|-|-|-|\n",
    "| Invasion | Dosage | Hormonal_Therapy | Site_Lung |\n",
    "| Biomarker_Result | Response_To_Treatment | Oncogene | Relative_Date |\n",
    "| Site_Bone | Histological_Type | Radiation_Dose | Age |\n",
    "| Duration | Grade | Tumor_Size | Line_Of_Therapy |\n",
    "| Site_Breast | Cancer_Surgery | Smoking_Status | Imaging_Test |\n",
    "| Adenopathy | Targeted_Therapy | Radiotherapy | Metastasis |\n",
    "| Date | Cycle_Number | Pathology_Result | Cancer_Score |\n",
    "| Cancer_Dx | Death_Entity | Site_Liver | Site_Brain |\n",
    "| Pathology_Test | Chemotherapy | Biomarker | Frequency |\n",
    "| Site_Lymph_Node | Performance_Status | Unspecific_Therapy | Cycle_Count |\n",
    "| Race_Ethnicity | Gender | Staging | Immunotherapy |\n",
    "| Site_Other_Body_Part | Tumor_Finding | Route | Cycle_Day |\n",
    "| Direction| | | |\n",
    "\n",
    "You can check [Oncology Model Notebook](https://github.com/JohnSnowLabs/spark-nlp-workshop/blob/master/tutorials/Certification_Trainings_JSL/Healthcare/27.Oncology_Model.ipynb) for more examples.\n"
   ]
  },
  {
   "cell_type": "code",
   "execution_count": 50,
   "metadata": {},
   "outputs": [
    {
     "name": "stdout",
     "output_type": "stream",
     "text": [
      "'Sample Type / Medical Specialty:\\nHematology - Oncology\\nSample Name:\\nDischarge Summary - Mesothelioma - 1\\nDescription:\\nMesothelioma, pleural effusion, atrial fibrillation, anemia, ascites, esophageal reflux, and history of deep venous thrombosis.\\n(Medical Transcription Sample Report)\\nPRINCIPAL DIAGNOSIS:\\nMesothelioma.\\nSECONDARY DIAGNOSES:\\nPleural effusion, atrial fibrillation, anemia, ascites, esophageal reflux, and history of deep venous thrombosis.\\nPROCEDURES\\n1. On August 24, 2007, decortication of the lung with pleural biopsy and transpleural fluoroscopy.\\n2. On August 20, 2007, thoracentesis.\\n3. On August 31, 2007, Port-A-Cath placement.\\nHISTORY AND PHYSICAL:\\nThe patient is a 41-year-old Vietnamese female with a nonproductive cough that started last week. She has had right-sided chest pain radiating to her back with fever starting yesterday. She has a history of pericarditis and pericardectomy in May 2006 and developed cough with right-sided chest pain, and went to an urgent care center. Chest x-ray revealed right-sided pleural effusion.\\nPAST MEDICAL HISTORY\\n1. Pericardectomy.\\n2. Pericarditis.\\n2. Atrial fibrillation.\\n4. RNCA with intracranial thrombolytic treatment.\\n5 PTA of MCA.\\n6. Mesenteric venous thrombosis.\\n7. Pericardial window.\\n8. Cholecystectomy.\\n9. Left thoracentesis.\\nFAMILY HISTORY:\\nNo family history of coronary artery disease, CVA, diabetes, CHF or MI. The patient has one family member, a sister, with history of cancer.\\nSOCIAL HISTORY:\\nShe is married. Employed with the US Post Office. She is a mother of three. Denies tobacco, alcohol or illicit drug use.\\nMEDICATIONS\\n1. Coumadin 1 mg daily. Last INR was on Tuesday, August 14, 2007, and her INR was 2.3.\\n2. Amiodarone 100 mg p.o. daily.\\nREVIEW OF SYSTEMS:\\nComplete review of systems negative except as in pulmonary as noted above. The patient also reports occasional numbness and tingling of her left arm.\\nPHYSICAL EXAMINATION\\nVITAL SIGNS: Blood pressure 123/95, heart rate 83, respirations 20, temperature 97, and oxygen saturation 97%.\\nGENERAL: Positive nonproductive cough and pain with coughing.\\nHEENT: Pupils are equal and reactive to light and accommodation. Tympanic membranes are clear.\\nNECK: Supple. No lymphadenopathy. No masses.\\nRESPIRATORY: Pleural friction rub is noted.\\nGI: Soft, nondistended, and nontender. Positive bowel sounds. No organomegaly.\\nEXTREMITIES: No edema, no clubbing, no cyanosis, no tenderness. Full range of motion. Normal pulses in all extremities.\\nSKIN: No breakdown or lesions. No ulcers.\\nNEUROLOGIC: Grossly intact. No focal deficits. Awake, alert, and oriented to person, place, and time.\\nLABORATORY DATA:\\nLabs are pending.\\nHOSPITAL COURSE:\\nThe patient was admitted for a right-sided pleural effusion for thoracentesis on Monday by Dr. X. Her Coumadin was placed on hold. A repeat echocardiogram was checked. She was started on prophylaxis for DVT with Lovenox 40 mg subcutaneously. Her history dated back to March 2005 when she first sought medical attention for evidence of pericarditis, which was treated with pericardial window in an outside hospital, at that time she was also found to have mesenteric pain and thrombosis, is now anticoagulated. Her pericardial fluid was accumulated and she was seen by Dr. Y. At that time, she was recommended for pericardectomy, which was performed by Dr. Z. Review of her CT scan from March 2006 prior to her pericardectomy, already shows bilateral plural effusions. The patient improved clinically after the pericardectomy with resolution of her symptoms. Recently, she was readmitted to the hospital with chest pain and found to have bilateral pleural effusion, the right greater than the left. CT of the chest also revealed a large mediastinal lymph node. We reviewed the pathology obtained from the pericardectomy in March 2006, which was diagnostic of mesothelioma. At this time, chest tube placement for drainage of the fluid occurred and thoracoscopy with fluid biopsies, which were performed, which revealed epithelioid malignant mesothelioma. The patient was then stained with a PET CT, which showed extensive uptake in the chest, bilateral pleural pericardial effusions, and lymphadenopathy. She also had acidic fluid, pectoral and intramammary lymph nodes and uptake in L4 with SUV of 4. This was consistent with stage III disease. Her repeat echocardiogram showed an ejection fraction of 45% to 49%. She was transferred to Oncology service and started on chemotherapy on September 1, 2007 with cisplatin 75 mg/centimeter squared equaling 109 mg IV piggyback over 2 hours on September 1, 2007, Alimta 500 mg/ centimeter squared equaling 730 mg IV piggyback over 10 minutes. This was all initiated after a Port-A-Cath was placed. The chemotherapy was well tolerated and the patient was discharged the following day after discontinuing IV fluid and IV. Her Port-A-Cath was packed with heparin according to protocol.\\nDISCHARGE MEDICATIONS:\\nZofran, Phenergan, Coumadin, and Lovenox, and Vicodin\\nDISCHARGE INSTRUCTIONS:\\nShe was instructed to followup with Dr. XYZ in the office to check her INR on Tuesday. She was instructed to call if she had any other questions or concerns in the interim.\\nKeywords:\\nhematology - oncology, mesothelioma, pleural effusion, atrial fibrillation, anemia, ascites, esophageal reflux, deep venous thrombosis, port-a-cath placement, port a cath, iv piggyback, venous thrombosis, atrial, thrombosis, pericardial, lymphadenopathy, fluid, pericardectomy, chest, pleural,'\n"
     ]
    }
   ],
   "source": [
    "mt_samples_df.limit(1).collect()[0][\"text\"]"
   ]
  },
  {
   "cell_type": "code",
   "execution_count": 51,
   "metadata": {},
   "outputs": [
    {
     "name": "stdout",
     "output_type": "stream",
     "text": [
      "embeddings_clinical download started this may take some time.\n",
      "\n",
      "Approximate size to download 1.6 GB\n",
      "\n",
      "[OK!]\n",
      "\n",
      "ner_oncology download started this may take some time.\n",
      "\n",
      "[OK!]\n"
     ]
    }
   ],
   "source": [
    "embeddings = 'embeddings_clinical'\n",
    "\n",
    "model_name = 'ner_oncology'\n",
    "\n",
    "text =  mt_samples_df.limit(1).collect()[0][\"text\"]\n",
    "\n",
    "light_model = get_light_model(embeddings, model_name)\n"
   ]
  },
  {
   "cell_type": "code",
   "execution_count": 53,
   "metadata": {},
   "outputs": [
    {
     "name": "stdout",
     "output_type": "stream",
     "text": [
      "Sample..............O         \n",
      "\n",
      "Type................O         \n",
      "\n",
      "/...................O         \n",
      "\n",
      "Medical.............O         \n",
      "\n",
      "Specialty...........O         \n",
      "\n",
      ":...................O         \n",
      "\n",
      "Hematology..........O         \n",
      "\n",
      "-...................O         \n",
      "\n",
      "Oncology............O         \n",
      "\n",
      "Sample..............O         \n",
      "\n",
      "Name................O         \n",
      "\n",
      ":...................O         \n",
      "\n",
      "Discharge...........O         \n",
      "\n",
      "Summary.............O         \n",
      "\n",
      "-...................O         \n",
      "\n",
      "Mesothelioma........O         \n",
      "\n",
      "-...................O         \n",
      "\n",
      "1...................O         \n",
      "\n",
      "Description.........O         \n",
      "\n",
      ":...................O         \n",
      "\n",
      "Mesothelioma........B-Cancer_Dx\n",
      "\n",
      ",...................O         \n",
      "\n",
      "pleural.............O         \n",
      "\n",
      "effusion............O         \n",
      "\n",
      ",...................O         \n",
      "\n",
      "atrial..............O         \n",
      "\n",
      "fibrillation........O         \n",
      "\n",
      ",...................O         \n",
      "\n",
      "anemia..............O         \n",
      "\n",
      ",...................O         \n",
      "\n",
      "ascites.............O         \n",
      "\n",
      ",...................O         \n",
      "\n",
      "esophageal..........O         \n",
      "\n",
      "reflux..............O         \n",
      "\n",
      ",...................O         \n",
      "\n",
      "and.................O         \n",
      "\n",
      "history.............O         \n",
      "\n",
      "of..................O         \n",
      "\n",
      "deep................O         \n",
      "\n",
      "venous..............O         \n",
      "\n",
      "thrombosis..........O         \n",
      "\n",
      "....................O         \n",
      "\n",
      "(...................O         \n",
      "\n",
      "Medical.............O         \n",
      "\n",
      "Transcription.......O         \n",
      "\n",
      "Sample..............O         \n",
      "\n",
      "Report..............O         \n",
      "\n",
      ")...................O         \n",
      "\n",
      "PRINCIPAL...........O         \n",
      "\n",
      "DIAGNOSIS...........O         \n",
      "\n",
      ":...................O         \n",
      "\n",
      "Mesothelioma........O         \n",
      "\n",
      "....................O         \n",
      "\n",
      "SECONDARY...........O         \n",
      "\n",
      "DIAGNOSES...........O         \n",
      "\n",
      ":...................O         \n",
      "\n",
      "Pleural.............O         \n",
      "\n",
      "effusion............O         \n",
      "\n",
      ",...................O         \n",
      "\n",
      "atrial..............O         \n",
      "\n",
      "fibrillation........O         \n",
      "\n",
      ",...................O         \n",
      "\n",
      "anemia..............O         \n",
      "\n",
      ",...................O         \n",
      "\n",
      "ascites.............O         \n",
      "\n",
      ",...................O         \n",
      "\n",
      "esophageal..........O         \n",
      "\n",
      "reflux..............O         \n",
      "\n",
      ",...................O         \n",
      "\n",
      "and.................O         \n",
      "\n",
      "history.............O         \n",
      "\n",
      "of..................O         \n",
      "\n",
      "deep................O         \n",
      "\n",
      "venous..............O         \n",
      "\n",
      "thrombosis..........O         \n",
      "\n",
      "....................O         \n",
      "\n",
      "PROCEDURES..........O         \n",
      "\n",
      "1...................O         \n",
      "\n",
      "....................O         \n",
      "\n",
      "On..................O         \n",
      "\n",
      "August..............B-Date    \n",
      "\n",
      "24..................I-Date    \n",
      "\n",
      ",...................I-Date    \n",
      "\n",
      "2007................I-Date    \n",
      "\n",
      ",...................O         \n",
      "\n",
      "decortication.......B-Cancer_Surgery\n",
      "\n",
      "of..................O         \n",
      "\n",
      "the.................O         \n",
      "\n",
      "lung................B-Site_Lung\n",
      "\n",
      "with................O         \n",
      "\n",
      "pleural.............B-Site_Lung\n",
      "\n",
      "biopsy..............B-Pathology_Test\n",
      "\n",
      "and.................O         \n",
      "\n",
      "transpleural........B-Imaging_Test\n",
      "\n",
      "fluoroscopy.........I-Imaging_Test\n",
      "\n",
      "....................O         \n",
      "\n",
      "2...................O         \n",
      "\n",
      "....................O         \n",
      "\n",
      "On..................O         \n",
      "\n",
      "August..............B-Date    \n",
      "\n",
      "20..................I-Date    \n",
      "\n",
      ",...................I-Date    \n",
      "\n",
      "2007................I-Date    \n",
      "\n",
      ",...................O         \n",
      "\n",
      "thoracentesis.......O         \n",
      "\n",
      "....................O         \n",
      "\n",
      "3...................O         \n",
      "\n",
      "....................O         \n",
      "\n",
      "On..................O         \n",
      "\n",
      "August..............B-Date    \n",
      "\n",
      "31..................I-Date    \n",
      "\n",
      ",...................I-Date    \n",
      "\n",
      "2007................I-Date    \n",
      "\n",
      ",...................O         \n",
      "\n",
      "Port-A-Cath.........O         \n",
      "\n",
      "placement...........O         \n",
      "\n",
      "....................O         \n",
      "\n",
      "HISTORY.............O         \n",
      "\n",
      "AND.................O         \n",
      "\n",
      "PHYSICAL............O         \n",
      "\n",
      ":...................O         \n",
      "\n",
      "The.................O         \n",
      "\n",
      "patient.............O         \n",
      "\n",
      "is..................O         \n",
      "\n",
      "a...................O         \n",
      "\n",
      "41-year-old.........B-Gender  \n",
      "\n",
      "Vietnamese..........B-Race_Ethnicity\n",
      "\n",
      "female..............B-Gender  \n",
      "\n",
      "with................O         \n",
      "\n",
      "a...................O         \n",
      "\n",
      "nonproductive.......O         \n",
      "\n",
      "cough...............O         \n",
      "\n",
      "that................O         \n",
      "\n",
      "started.............O         \n",
      "\n",
      "last................B-Relative_Date\n",
      "\n",
      "week................I-Relative_Date\n",
      "\n",
      "....................O         \n",
      "\n",
      "She.................B-Gender  \n",
      "\n",
      "has.................O         \n",
      "\n",
      "had.................O         \n",
      "\n",
      "right-sided.........O         \n",
      "\n",
      "chest...............O         \n",
      "\n",
      "pain................O         \n",
      "\n",
      "radiating...........O         \n",
      "\n",
      "to..................O         \n",
      "\n",
      "her.................B-Gender  \n",
      "\n",
      "back................O         \n",
      "\n",
      "with................O         \n",
      "\n",
      "fever...............O         \n",
      "\n",
      "starting............O         \n",
      "\n",
      "yesterday...........O         \n",
      "\n",
      "....................O         \n",
      "\n",
      "She.................B-Gender  \n",
      "\n",
      "has.................O         \n",
      "\n",
      "a...................O         \n",
      "\n",
      "history.............O         \n",
      "\n",
      "of..................O         \n",
      "\n",
      "pericarditis........O         \n",
      "\n",
      "and.................O         \n",
      "\n",
      "pericardectomy......B-Cancer_Surgery\n",
      "\n",
      "in..................O         \n",
      "\n",
      "May.................B-Date    \n",
      "\n",
      "2006................I-Date    \n",
      "\n",
      "and.................O         \n",
      "\n",
      "developed...........O         \n",
      "\n",
      "cough...............O         \n",
      "\n",
      "with................O         \n",
      "\n",
      "right-sided.........O         \n",
      "\n",
      "chest...............O         \n",
      "\n",
      "pain................O         \n",
      "\n",
      ",...................O         \n",
      "\n",
      "and.................O         \n",
      "\n",
      "went................O         \n",
      "\n",
      "to..................O         \n",
      "\n",
      "an..................O         \n",
      "\n",
      "urgent..............O         \n",
      "\n",
      "care................O         \n",
      "\n",
      "center..............O         \n",
      "\n",
      "....................O         \n",
      "\n",
      "Chest...............B-Imaging_Test\n",
      "\n",
      "x-ray...............I-Imaging_Test\n",
      "\n",
      "revealed............O         \n",
      "\n",
      "right-sided.........O         \n",
      "\n",
      "pleural.............O         \n",
      "\n",
      "effusion............O         \n",
      "\n",
      "....................O         \n",
      "\n",
      "PAST................O         \n",
      "\n",
      "MEDICAL.............O         \n",
      "\n",
      "HISTORY.............O         \n",
      "\n",
      "1...................O         \n",
      "\n",
      "....................O         \n",
      "\n",
      "Pericardectomy......O         \n",
      "\n",
      "....................O         \n",
      "\n",
      "2...................O         \n",
      "\n",
      "....................O         \n",
      "\n",
      "Pericarditis........O         \n",
      "\n",
      "....................O         \n",
      "\n",
      "2...................O         \n",
      "\n",
      "....................O         \n",
      "\n",
      "Atrial..............O         \n",
      "\n",
      "fibrillation........O         \n",
      "\n",
      "....................O         \n",
      "\n",
      "4...................O         \n",
      "\n",
      "....................O         \n",
      "\n",
      "RNCA................O         \n",
      "\n",
      "with................O         \n",
      "\n",
      "intracranial........O         \n",
      "\n",
      "thrombolytic........O         \n",
      "\n",
      "treatment...........O         \n",
      "\n",
      "....................O         \n",
      "\n",
      "5...................O         \n",
      "\n",
      "PTA.................O         \n",
      "\n",
      "of..................O         \n",
      "\n",
      "MCA.................O         \n",
      "\n",
      "....................O         \n",
      "\n",
      "6...................O         \n",
      "\n",
      "....................O         \n",
      "\n",
      "Mesenteric..........O         \n",
      "\n",
      "venous..............O         \n",
      "\n",
      "thrombosis..........O         \n",
      "\n",
      "....................O         \n",
      "\n",
      "7...................O         \n",
      "\n",
      "....................O         \n",
      "\n",
      "Pericardial.........O         \n",
      "\n",
      "window..............O         \n",
      "\n",
      "....................O         \n",
      "\n",
      "8...................O         \n",
      "\n",
      "....................O         \n",
      "\n",
      "Cholecystectomy.....B-Cancer_Surgery\n",
      "\n",
      "....................O         \n",
      "\n",
      "9...................O         \n",
      "\n",
      "....................O         \n",
      "\n",
      "Left................O         \n",
      "\n",
      "thoracentesis.......O         \n",
      "\n",
      "....................O         \n",
      "\n",
      "FAMILY..............O         \n",
      "\n",
      "HISTORY.............O         \n",
      "\n",
      ":...................O         \n",
      "\n",
      "No..................O         \n",
      "\n",
      "family..............O         \n",
      "\n",
      "history.............O         \n",
      "\n",
      "of..................O         \n",
      "\n",
      "coronary............O         \n",
      "\n",
      "artery..............O         \n",
      "\n",
      "disease.............O         \n",
      "\n",
      ",...................O         \n",
      "\n",
      "CVA.................O         \n",
      "\n",
      ",...................O         \n",
      "\n",
      "diabetes............O         \n",
      "\n",
      ",...................O         \n",
      "\n",
      "CHF.................O         \n",
      "\n",
      "or..................O         \n",
      "\n",
      "MI..................O         \n",
      "\n",
      "....................O         \n",
      "\n",
      "The.................O         \n",
      "\n",
      "patient.............O         \n",
      "\n",
      "has.................O         \n",
      "\n",
      "one.................O         \n",
      "\n",
      "family..............O         \n",
      "\n",
      "member..............O         \n",
      "\n",
      ",...................O         \n",
      "\n",
      "a...................O         \n",
      "\n",
      "sister..............B-Gender  \n",
      "\n",
      ",...................O         \n",
      "\n",
      "with................O         \n",
      "\n",
      "history.............O         \n",
      "\n",
      "of..................O         \n",
      "\n",
      "cancer..............B-Cancer_Dx\n",
      "\n",
      "....................O         \n",
      "\n",
      "SOCIAL..............O         \n",
      "\n",
      "HISTORY.............O         \n",
      "\n",
      ":...................O         \n",
      "\n",
      "She.................B-Gender  \n",
      "\n",
      "is..................O         \n",
      "\n",
      "married.............O         \n",
      "\n",
      "....................O         \n",
      "\n",
      "Employed............O         \n",
      "\n",
      "with................O         \n",
      "\n",
      "the.................O         \n",
      "\n",
      "US..................O         \n",
      "\n",
      "Post................O         \n",
      "\n",
      "Office..............O         \n",
      "\n",
      "....................O         \n",
      "\n",
      "She.................B-Gender  \n",
      "\n",
      "is..................O         \n",
      "\n",
      "a...................O         \n",
      "\n",
      "mother..............B-Gender  \n",
      "\n",
      "of..................O         \n",
      "\n",
      "three...............O         \n",
      "\n",
      "....................O         \n",
      "\n",
      "Denies..............O         \n",
      "\n",
      "tobacco.............B-Smoking_Status\n",
      "\n",
      ",...................O         \n",
      "\n",
      "alcohol.............O         \n",
      "\n",
      "or..................O         \n",
      "\n",
      "illicit.............O         \n",
      "\n",
      "drug................O         \n",
      "\n",
      "use.................O         \n",
      "\n",
      "....................O         \n",
      "\n",
      "MEDICATIONS.........O         \n",
      "\n",
      "1...................O         \n",
      "\n",
      "....................O         \n",
      "\n",
      "Coumadin............O         \n",
      "\n",
      "1...................B-Dosage  \n",
      "\n",
      "mg..................I-Dosage  \n",
      "\n",
      "daily...............B-Frequency\n",
      "\n",
      "....................O         \n",
      "\n",
      "Last................O         \n",
      "\n",
      "INR.................O         \n",
      "\n",
      "was.................O         \n",
      "\n",
      "on..................O         \n",
      "\n",
      "Tuesday.............O         \n",
      "\n",
      ",...................O         \n",
      "\n",
      "August..............B-Date    \n",
      "\n",
      "14..................I-Date    \n",
      "\n",
      ",...................I-Date    \n",
      "\n",
      "2007................I-Date    \n",
      "\n",
      ",...................O         \n",
      "\n",
      "and.................O         \n",
      "\n",
      "her.................B-Gender  \n",
      "\n",
      "INR.................O         \n",
      "\n",
      "was.................O         \n",
      "\n",
      "2.3.................O         \n",
      "\n",
      "....................O         \n",
      "\n",
      "2...................O         \n",
      "\n",
      "....................O         \n",
      "\n",
      "Amiodarone..........O         \n",
      "\n",
      "100.................B-Dosage  \n",
      "\n",
      "mg..................I-Dosage  \n",
      "\n",
      "p.o.................O         \n",
      "\n",
      "....................O         \n",
      "\n",
      "daily...............B-Frequency\n",
      "\n",
      "....................O         \n",
      "\n",
      "REVIEW..............O         \n",
      "\n",
      "OF..................O         \n",
      "\n",
      "SYSTEMS.............O         \n",
      "\n",
      ":...................O         \n",
      "\n",
      "Complete............O         \n",
      "\n",
      "review..............O         \n",
      "\n",
      "of..................O         \n",
      "\n",
      "systems.............O         \n",
      "\n",
      "negative............O         \n",
      "\n",
      "except..............O         \n",
      "\n",
      "as..................O         \n",
      "\n",
      "in..................O         \n",
      "\n",
      "pulmonary...........B-Site_Lung\n",
      "\n",
      "as..................O         \n",
      "\n",
      "noted...............O         \n",
      "\n",
      "above...............O         \n",
      "\n",
      "....................O         \n",
      "\n",
      "The.................O         \n",
      "\n",
      "patient.............O         \n",
      "\n",
      "also................O         \n",
      "\n",
      "reports.............O         \n",
      "\n",
      "occasional..........O         \n",
      "\n",
      "numbness............O         \n",
      "\n",
      "and.................O         \n",
      "\n",
      "tingling............O         \n",
      "\n",
      "of..................O         \n",
      "\n",
      "her.................B-Gender  \n",
      "\n",
      "left................B-Direction\n",
      "\n",
      "arm.................B-Site_Other_Body_Part\n",
      "\n",
      "....................O         \n",
      "\n",
      "PHYSICAL............O         \n",
      "\n",
      "EXAMINATION.........O         \n",
      "\n",
      "VITAL...............O         \n",
      "\n",
      "SIGNS...............O         \n",
      "\n",
      ":...................O         \n",
      "\n",
      "Blood...............O         \n",
      "\n",
      "pressure............O         \n",
      "\n",
      "123/95..............O         \n",
      "\n",
      ",...................O         \n",
      "\n",
      "heart...............O         \n",
      "\n",
      "rate................O         \n",
      "\n",
      "83..................O         \n",
      "\n",
      ",...................O         \n",
      "\n",
      "respirations........O         \n",
      "\n",
      "20..................O         \n",
      "\n",
      ",...................O         \n",
      "\n",
      "temperature.........O         \n",
      "\n",
      "97..................O         \n",
      "\n",
      ",...................O         \n",
      "\n",
      "and.................O         \n",
      "\n",
      "oxygen..............O         \n",
      "\n",
      "saturation..........O         \n",
      "\n",
      "97%.................O         \n",
      "\n",
      "....................O         \n",
      "\n",
      "GENERAL.............O         \n",
      "\n",
      ":...................O         \n",
      "\n",
      "Positive............O         \n",
      "\n",
      "nonproductive.......O         \n",
      "\n",
      "cough...............O         \n",
      "\n",
      "and.................O         \n",
      "\n",
      "pain................O         \n",
      "\n",
      "with................O         \n",
      "\n",
      "coughing............O         \n",
      "\n",
      "....................O         \n",
      "\n",
      "HEENT...............B-Site_Other_Body_Part\n",
      "\n",
      ":...................O         \n",
      "\n",
      "Pupils..............O         \n",
      "\n",
      "are.................O         \n",
      "\n",
      "equal...............O         \n",
      "\n",
      "and.................O         \n",
      "\n",
      "reactive............O         \n",
      "\n",
      "to..................O         \n",
      "\n",
      "light...............O         \n",
      "\n",
      "and.................O         \n",
      "\n",
      "accommodation.......O         \n",
      "\n",
      "....................O         \n",
      "\n",
      "Tympanic............O         \n",
      "\n",
      "membranes...........O         \n",
      "\n",
      "are.................O         \n",
      "\n",
      "clear...............O         \n",
      "\n",
      "....................O         \n",
      "\n",
      "NECK................B-Site_Other_Body_Part\n",
      "\n",
      ":...................O         \n",
      "\n",
      "Supple..............O         \n",
      "\n",
      "....................O         \n",
      "\n",
      "No..................O         \n",
      "\n",
      "lymphadenopathy.....B-Adenopathy\n",
      "\n",
      "....................O         \n",
      "\n",
      "No..................O         \n",
      "\n",
      "masses..............B-Tumor_Finding\n",
      "\n",
      "....................O         \n",
      "\n",
      "RESPIRATORY.........O         \n",
      "\n",
      ":...................O         \n",
      "\n",
      "Pleural.............O         \n",
      "\n",
      "friction............O         \n",
      "\n",
      "rub.................O         \n",
      "\n",
      "is..................O         \n",
      "\n",
      "noted...............O         \n",
      "\n",
      "....................O         \n",
      "\n",
      "GI..................B-Site_Other_Body_Part\n",
      "\n",
      ":...................O         \n",
      "\n",
      "Soft................O         \n",
      "\n",
      ",...................O         \n",
      "\n",
      "nondistended........O         \n",
      "\n",
      ",...................O         \n",
      "\n",
      "and.................O         \n",
      "\n",
      "nontender...........O         \n",
      "\n",
      "....................O         \n",
      "\n",
      "Positive............O         \n",
      "\n",
      "bowel...............O         \n",
      "\n",
      "sounds..............O         \n",
      "\n",
      "....................O         \n",
      "\n",
      "No..................O         \n",
      "\n",
      "organomegaly........O         \n",
      "\n",
      "....................O         \n",
      "\n",
      "EXTREMITIES.........B-Site_Other_Body_Part\n",
      "\n",
      ":...................O         \n",
      "\n",
      "No..................O         \n",
      "\n",
      "edema...............O         \n",
      "\n",
      ",...................O         \n",
      "\n",
      "no..................O         \n",
      "\n",
      "clubbing............O         \n",
      "\n",
      ",...................O         \n",
      "\n",
      "no..................O         \n",
      "\n",
      "cyanosis............O         \n",
      "\n",
      ",...................O         \n",
      "\n",
      "no..................O         \n",
      "\n",
      "tenderness..........O         \n",
      "\n",
      "....................O         \n",
      "\n",
      "Full................O         \n",
      "\n",
      "range...............O         \n",
      "\n",
      "of..................O         \n",
      "\n",
      "motion..............O         \n",
      "\n",
      "....................O         \n",
      "\n",
      "Normal..............O         \n",
      "\n",
      "pulses..............O         \n",
      "\n",
      "in..................O         \n",
      "\n",
      "all.................O         \n",
      "\n",
      "extremities.........O         \n",
      "\n",
      "....................O         \n",
      "\n",
      "SKIN................B-Site_Other_Body_Part\n",
      "\n",
      ":...................O         \n",
      "\n",
      "No..................O         \n",
      "\n",
      "breakdown...........O         \n",
      "\n",
      "or..................O         \n",
      "\n",
      "lesions.............B-Tumor_Finding\n",
      "\n",
      "....................O         \n",
      "\n",
      "No..................O         \n",
      "\n",
      "ulcers..............O         \n",
      "\n",
      "....................O         \n",
      "\n",
      "NEUROLOGIC..........B-Site_Other_Body_Part\n",
      "\n",
      ":...................O         \n",
      "\n",
      "Grossly.............O         \n",
      "\n",
      "intact..............O         \n",
      "\n",
      "....................O         \n",
      "\n",
      "No..................O         \n",
      "\n",
      "focal...............O         \n",
      "\n",
      "deficits............O         \n",
      "\n",
      "....................O         \n",
      "\n",
      "Awake...............O         \n",
      "\n",
      ",...................O         \n",
      "\n",
      "alert...............O         \n",
      "\n",
      ",...................O         \n",
      "\n",
      "and.................O         \n",
      "\n",
      "oriented............O         \n",
      "\n",
      "to..................O         \n",
      "\n",
      "person..............O         \n",
      "\n",
      ",...................O         \n",
      "\n",
      "place...............O         \n",
      "\n",
      ",...................O         \n",
      "\n",
      "and.................O         \n",
      "\n",
      "time................O         \n",
      "\n",
      "....................O         \n",
      "\n",
      "LABORATORY..........O         \n",
      "\n",
      "DATA................O         \n",
      "\n",
      ":...................O         \n",
      "\n",
      "Labs................O         \n",
      "\n",
      "are.................O         \n",
      "\n",
      "pending.............O         \n",
      "\n",
      "....................O         \n",
      "\n",
      "HOSPITAL............O         \n",
      "\n",
      "COURSE..............O         \n",
      "\n",
      ":...................O         \n",
      "\n",
      "The.................O         \n",
      "\n",
      "patient.............O         \n",
      "\n",
      "was.................O         \n",
      "\n",
      "admitted............O         \n",
      "\n",
      "for.................O         \n",
      "\n",
      "a...................O         \n",
      "\n",
      "right-sided.........O         \n",
      "\n",
      "pleural.............O         \n",
      "\n",
      "effusion............O         \n",
      "\n",
      "for.................O         \n",
      "\n",
      "thoracentesis.......O         \n",
      "\n",
      "on..................O         \n",
      "\n",
      "Monday..............O         \n",
      "\n",
      "by..................O         \n",
      "\n",
      "Dr..................O         \n",
      "\n",
      "....................O         \n",
      "\n",
      "X...................O         \n",
      "\n",
      "....................O         \n",
      "\n",
      "Her.................B-Gender  \n",
      "\n",
      "Coumadin............O         \n",
      "\n",
      "was.................O         \n",
      "\n",
      "placed..............O         \n",
      "\n",
      "on..................O         \n",
      "\n",
      "hold................O         \n",
      "\n",
      "....................O         \n",
      "\n",
      "A...................O         \n",
      "\n",
      "repeat..............O         \n",
      "\n",
      "echocardiogram......B-Imaging_Test\n",
      "\n",
      "was.................O         \n",
      "\n",
      "checked.............O         \n",
      "\n",
      "....................O         \n",
      "\n",
      "She.................B-Gender  \n",
      "\n",
      "was.................O         \n",
      "\n",
      "started.............O         \n",
      "\n",
      "on..................O         \n",
      "\n",
      "prophylaxis.........O         \n",
      "\n",
      "for.................O         \n",
      "\n",
      "DVT.................O         \n",
      "\n",
      "with................O         \n",
      "\n",
      "Lovenox.............O         \n",
      "\n",
      "40..................B-Dosage  \n",
      "\n",
      "mg..................I-Dosage  \n",
      "\n",
      "subcutaneously......B-Route   \n",
      "\n",
      "....................O         \n",
      "\n",
      "Her.................B-Gender  \n",
      "\n",
      "history.............O         \n",
      "\n",
      "dated...............O         \n",
      "\n",
      "back................O         \n",
      "\n",
      "to..................O         \n",
      "\n",
      "March...............B-Date    \n",
      "\n",
      "2005................I-Date    \n",
      "\n",
      "when................O         \n",
      "\n",
      "she.................B-Gender  \n",
      "\n",
      "first...............O         \n",
      "\n",
      "sought..............O         \n",
      "\n",
      "medical.............O         \n",
      "\n",
      "attention...........O         \n",
      "\n",
      "for.................O         \n",
      "\n",
      "evidence............O         \n",
      "\n",
      "of..................O         \n",
      "\n",
      "pericarditis........O         \n",
      "\n",
      ",...................O         \n",
      "\n",
      "which...............O         \n",
      "\n",
      "was.................O         \n",
      "\n",
      "treated.............O         \n",
      "\n",
      "with................O         \n",
      "\n",
      "pericardial.........O         \n",
      "\n",
      "window..............O         \n",
      "\n",
      "in..................O         \n",
      "\n",
      "an..................O         \n",
      "\n",
      "outside.............O         \n",
      "\n",
      "hospital............O         \n",
      "\n",
      ",...................O         \n",
      "\n",
      "at..................O         \n",
      "\n",
      "that................O         \n",
      "\n",
      "time................O         \n",
      "\n",
      "she.................B-Gender  \n",
      "\n",
      "was.................O         \n",
      "\n",
      "also................O         \n",
      "\n",
      "found...............O         \n",
      "\n",
      "to..................O         \n",
      "\n",
      "have................O         \n",
      "\n",
      "mesenteric..........O         \n",
      "\n",
      "pain................O         \n",
      "\n",
      "and.................O         \n",
      "\n",
      "thrombosis..........O         \n",
      "\n",
      ",...................O         \n",
      "\n",
      "is..................O         \n",
      "\n",
      "now.................O         \n",
      "\n",
      "anticoagulated......O         \n",
      "\n",
      "....................O         \n",
      "\n",
      "Her.................B-Gender  \n",
      "\n",
      "pericardial.........O         \n",
      "\n",
      "fluid...............O         \n",
      "\n",
      "was.................O         \n",
      "\n",
      "accumulated.........O         \n",
      "\n",
      "and.................O         \n",
      "\n",
      "she.................B-Gender  \n",
      "\n",
      "was.................O         \n",
      "\n",
      "seen................O         \n",
      "\n",
      "by..................O         \n",
      "\n",
      "Dr..................O         \n",
      "\n",
      "....................O         \n",
      "\n",
      "Y...................O         \n",
      "\n",
      "....................O         \n",
      "\n",
      "At..................O         \n",
      "\n",
      "that................O         \n",
      "\n",
      "time................O         \n",
      "\n",
      ",...................O         \n",
      "\n",
      "she.................B-Gender  \n",
      "\n",
      "was.................O         \n",
      "\n",
      "recommended.........O         \n",
      "\n",
      "for.................O         \n",
      "\n",
      "pericardectomy......B-Cancer_Surgery\n",
      "\n",
      ",...................O         \n",
      "\n",
      "which...............O         \n",
      "\n",
      "was.................O         \n",
      "\n",
      "performed...........O         \n",
      "\n",
      "by..................O         \n",
      "\n",
      "Dr..................O         \n",
      "\n",
      "....................O         \n",
      "\n",
      "Z...................O         \n",
      "\n",
      "....................O         \n",
      "\n",
      "Review..............O         \n",
      "\n",
      "of..................O         \n",
      "\n",
      "her.................B-Gender  \n",
      "\n",
      "CT..................B-Imaging_Test\n",
      "\n",
      "scan................I-Imaging_Test\n",
      "\n",
      "from................O         \n",
      "\n",
      "March...............B-Date    \n",
      "\n",
      "2006................I-Date    \n",
      "\n",
      "prior...............O         \n",
      "\n",
      "to..................O         \n",
      "\n",
      "her.................B-Gender  \n",
      "\n",
      "pericardectomy......B-Cancer_Surgery\n",
      "\n",
      ",...................O         \n",
      "\n",
      "already.............O         \n",
      "\n",
      "shows...............O         \n",
      "\n",
      "bilateral...........O         \n",
      "\n",
      "plural..............O         \n",
      "\n",
      "effusions...........O         \n",
      "\n",
      "....................O         \n",
      "\n",
      "The.................O         \n",
      "\n",
      "patient.............O         \n",
      "\n",
      "improved............O         \n",
      "\n",
      "clinically..........O         \n",
      "\n",
      "after...............O         \n",
      "\n",
      "the.................O         \n",
      "\n",
      "pericardectomy......B-Cancer_Surgery\n",
      "\n",
      "with................O         \n",
      "\n",
      "resolution..........O         \n",
      "\n",
      "of..................O         \n",
      "\n",
      "her.................B-Gender  \n",
      "\n",
      "symptoms............O         \n",
      "\n",
      "....................O         \n",
      "\n",
      "Recently............O         \n",
      "\n",
      ",...................O         \n",
      "\n",
      "she.................B-Gender  \n",
      "\n",
      "was.................O         \n",
      "\n",
      "readmitted..........O         \n",
      "\n",
      "to..................O         \n",
      "\n",
      "the.................O         \n",
      "\n",
      "hospital............O         \n",
      "\n",
      "with................O         \n",
      "\n",
      "chest...............O         \n",
      "\n",
      "pain................O         \n",
      "\n",
      "and.................O         \n",
      "\n",
      "found...............O         \n",
      "\n",
      "to..................O         \n",
      "\n",
      "have................O         \n",
      "\n",
      "bilateral...........O         \n",
      "\n",
      "pleural.............O         \n",
      "\n",
      "effusion............O         \n",
      "\n",
      ",...................O         \n",
      "\n",
      "the.................O         \n",
      "\n",
      "right...............B-Direction\n",
      "\n",
      "greater.............O         \n",
      "\n",
      "than................O         \n",
      "\n",
      "the.................O         \n",
      "\n",
      "left................B-Direction\n",
      "\n",
      "....................O         \n",
      "\n",
      "CT..................B-Imaging_Test\n",
      "\n",
      "of..................I-Imaging_Test\n",
      "\n",
      "the.................I-Imaging_Test\n",
      "\n",
      "chest...............I-Imaging_Test\n",
      "\n",
      "also................O         \n",
      "\n",
      "revealed............O         \n",
      "\n",
      "a...................O         \n",
      "\n",
      "large...............O         \n",
      "\n",
      "mediastinal.........B-Site_Lymph_Node\n",
      "\n",
      "lymph...............I-Site_Lymph_Node\n",
      "\n",
      "node................I-Site_Lymph_Node\n",
      "\n",
      "....................O         \n",
      "\n",
      "We..................O         \n",
      "\n",
      "reviewed............O         \n",
      "\n",
      "the.................O         \n",
      "\n",
      "pathology...........B-Pathology_Test\n",
      "\n",
      "obtained............O         \n",
      "\n",
      "from................O         \n",
      "\n",
      "the.................O         \n",
      "\n",
      "pericardectomy......B-Cancer_Surgery\n",
      "\n",
      "in..................O         \n",
      "\n",
      "March...............B-Date    \n",
      "\n",
      "2006................I-Date    \n",
      "\n",
      ",...................O         \n",
      "\n",
      "which...............O         \n",
      "\n",
      "was.................O         \n",
      "\n",
      "diagnostic..........O         \n",
      "\n",
      "of..................O         \n",
      "\n",
      "mesothelioma........B-Cancer_Dx\n",
      "\n",
      "....................O         \n",
      "\n",
      "At..................O         \n",
      "\n",
      "this................O         \n",
      "\n",
      "time................O         \n",
      "\n",
      ",...................O         \n",
      "\n",
      "chest...............O         \n",
      "\n",
      "tube................O         \n",
      "\n",
      "placement...........O         \n",
      "\n",
      "for.................O         \n",
      "\n",
      "drainage............O         \n",
      "\n",
      "of..................O         \n",
      "\n",
      "the.................O         \n",
      "\n",
      "fluid...............O         \n",
      "\n",
      "occurred............O         \n",
      "\n",
      "and.................O         \n",
      "\n",
      "thoracoscopy........B-Imaging_Test\n",
      "\n",
      "with................O         \n",
      "\n",
      "fluid...............B-Pathology_Test\n",
      "\n",
      "biopsies............I-Pathology_Test\n",
      "\n",
      ",...................O         \n",
      "\n",
      "which...............O         \n",
      "\n",
      "were................O         \n",
      "\n",
      "performed...........O         \n",
      "\n",
      ",...................O         \n",
      "\n",
      "which...............O         \n",
      "\n",
      "revealed............O         \n",
      "\n",
      "epithelioid.........B-Histological_Type\n",
      "\n",
      "malignant...........B-Cancer_Dx\n",
      "\n",
      "mesothelioma........I-Cancer_Dx\n",
      "\n",
      "....................O         \n",
      "\n",
      "The.................O         \n",
      "\n",
      "patient.............O         \n",
      "\n",
      "was.................O         \n",
      "\n",
      "then................O         \n",
      "\n",
      "stained.............O         \n",
      "\n",
      "with................O         \n",
      "\n",
      "a...................O         \n",
      "\n",
      "PET.................B-Imaging_Test\n",
      "\n",
      "CT..................I-Imaging_Test\n",
      "\n",
      ",...................O         \n",
      "\n",
      "which...............O         \n",
      "\n",
      "showed..............O         \n",
      "\n",
      "extensive...........O         \n",
      "\n",
      "uptake..............O         \n",
      "\n",
      "in..................O         \n",
      "\n",
      "the.................O         \n",
      "\n",
      "chest...............B-Site_Other_Body_Part\n",
      "\n",
      ",...................O         \n",
      "\n",
      "bilateral...........B-Direction\n",
      "\n",
      "pleural.............O         \n",
      "\n",
      "pericardial.........O         \n",
      "\n",
      "effusions...........O         \n",
      "\n",
      ",...................O         \n",
      "\n",
      "and.................O         \n",
      "\n",
      "lymphadenopathy.....B-Adenopathy\n",
      "\n",
      "....................O         \n",
      "\n",
      "She.................B-Gender  \n",
      "\n",
      "also................O         \n",
      "\n",
      "had.................O         \n",
      "\n",
      "acidic..............O         \n",
      "\n",
      "fluid...............O         \n",
      "\n",
      ",...................O         \n",
      "\n",
      "pectoral............B-Site_Lymph_Node\n",
      "\n",
      "and.................I-Site_Lymph_Node\n",
      "\n",
      "intramammary........I-Site_Lymph_Node\n",
      "\n",
      "lymph...............I-Site_Lymph_Node\n",
      "\n",
      "nodes...............I-Site_Lymph_Node\n",
      "\n",
      "and.................O         \n",
      "\n",
      "uptake..............O         \n",
      "\n",
      "in..................O         \n",
      "\n",
      "L4..................B-Site_Bone\n",
      "\n",
      "with................O         \n",
      "\n",
      "SUV.................O         \n",
      "\n",
      "of..................O         \n",
      "\n",
      "4...................O         \n",
      "\n",
      "....................O         \n",
      "\n",
      "This................O         \n",
      "\n",
      "was.................O         \n",
      "\n",
      "consistent..........O         \n",
      "\n",
      "with................O         \n",
      "\n",
      "stage...............B-Staging \n",
      "\n",
      "III.................I-Staging \n",
      "\n",
      "disease.............O         \n",
      "\n",
      "....................O         \n",
      "\n",
      "Her.................B-Gender  \n",
      "\n",
      "repeat..............O         \n",
      "\n",
      "echocardiogram......B-Imaging_Test\n",
      "\n",
      "showed..............O         \n",
      "\n",
      "an..................O         \n",
      "\n",
      "ejection............O         \n",
      "\n",
      "fraction............O         \n",
      "\n",
      "of..................O         \n",
      "\n",
      "45%.................O         \n",
      "\n",
      "to..................O         \n",
      "\n",
      "49%.................O         \n",
      "\n",
      "....................O         \n",
      "\n",
      "She.................B-Gender  \n",
      "\n",
      "was.................O         \n",
      "\n",
      "transferred.........O         \n",
      "\n",
      "to..................O         \n",
      "\n",
      "Oncology............O         \n",
      "\n",
      "service.............O         \n",
      "\n",
      "and.................O         \n",
      "\n",
      "started.............O         \n",
      "\n",
      "on..................O         \n",
      "\n",
      "chemotherapy........B-Chemotherapy\n",
      "\n",
      "on..................O         \n",
      "\n",
      "September...........B-Date    \n",
      "\n",
      "1...................I-Date    \n",
      "\n",
      ",...................I-Date    \n",
      "\n",
      "2007................I-Date    \n",
      "\n",
      "with................O         \n",
      "\n",
      "cisplatin...........B-Chemotherapy\n",
      "\n",
      "75..................O         \n",
      "\n",
      "mg/centimeter.......O         \n",
      "\n",
      "squared.............O         \n",
      "\n",
      "equaling............O         \n",
      "\n",
      "109.................B-Dosage  \n",
      "\n",
      "mg..................I-Dosage  \n",
      "\n",
      "IV..................B-Route   \n",
      "\n",
      "piggyback...........O         \n",
      "\n",
      "over................B-Duration\n",
      "\n",
      "2...................I-Duration\n",
      "\n",
      "hours...............I-Duration\n",
      "\n",
      "on..................O         \n",
      "\n",
      "September...........B-Date    \n",
      "\n",
      "1...................I-Date    \n",
      "\n",
      ",...................I-Date    \n",
      "\n",
      "2007................I-Date    \n",
      "\n",
      ",...................O         \n",
      "\n",
      "Alimta..............B-Chemotherapy\n",
      "\n",
      "500.................B-Dosage  \n",
      "\n",
      "mg/.................I-Dosage  \n",
      "\n",
      "centimeter..........O         \n",
      "\n",
      "squared.............O         \n",
      "\n",
      "equaling............O         \n",
      "\n",
      "730.................B-Dosage  \n",
      "\n",
      "mg..................I-Dosage  \n",
      "\n",
      "IV..................B-Route   \n",
      "\n",
      "piggyback...........O         \n",
      "\n",
      "over................B-Duration\n",
      "\n",
      "10..................I-Duration\n",
      "\n",
      "minutes.............I-Duration\n",
      "\n",
      "....................O         \n",
      "\n",
      "This................O         \n",
      "\n",
      "was.................O         \n",
      "\n",
      "all.................O         \n",
      "\n",
      "initiated...........O         \n",
      "\n",
      "after...............O         \n",
      "\n",
      "a...................O         \n",
      "\n",
      "Port-A-Cath.........O         \n",
      "\n",
      "was.................O         \n",
      "\n",
      "placed..............O         \n",
      "\n",
      "....................O         \n",
      "\n",
      "The.................O         \n",
      "\n",
      "chemotherapy........B-Chemotherapy\n",
      "\n",
      "was.................O         \n",
      "\n",
      "well................O         \n",
      "\n",
      "tolerated...........O         \n",
      "\n",
      "and.................O         \n",
      "\n",
      "the.................O         \n",
      "\n",
      "patient.............O         \n",
      "\n",
      "was.................O         \n",
      "\n",
      "discharged..........O         \n",
      "\n",
      "the.................O         \n",
      "\n",
      "following...........O         \n",
      "\n",
      "day.................O         \n",
      "\n",
      "after...............O         \n",
      "\n",
      "discontinuing.......O         \n",
      "\n",
      "IV..................B-Route   \n",
      "\n",
      "fluid...............O         \n",
      "\n",
      "and.................O         \n",
      "\n",
      "IV..................O         \n",
      "\n",
      "....................O         \n",
      "\n",
      "Her.................B-Gender  \n",
      "\n",
      "Port-A-Cath.........O         \n",
      "\n",
      "was.................O         \n",
      "\n",
      "packed..............O         \n",
      "\n",
      "with................O         \n",
      "\n",
      "heparin.............O         \n",
      "\n",
      "according...........O         \n",
      "\n",
      "to..................O         \n",
      "\n",
      "protocol............O         \n",
      "\n",
      "....................O         \n",
      "\n",
      "DISCHARGE...........O         \n",
      "\n",
      "MEDICATIONS.........O         \n",
      "\n",
      ":...................O         \n",
      "\n",
      "Zofran..............O         \n",
      "\n",
      ",...................O         \n",
      "\n",
      "Phenergan...........O         \n",
      "\n",
      ",...................O         \n",
      "\n",
      "Coumadin............O         \n",
      "\n",
      ",...................O         \n",
      "\n",
      "and.................O         \n",
      "\n",
      "Lovenox.............O         \n",
      "\n",
      ",...................O         \n",
      "\n",
      "and.................O         \n",
      "\n",
      "Vicodin.............O         \n",
      "\n",
      "DISCHARGE...........O         \n",
      "\n",
      "INSTRUCTIONS........O         \n",
      "\n",
      ":...................O         \n",
      "\n",
      "She.................B-Gender  \n",
      "\n",
      "was.................O         \n",
      "\n",
      "instructed..........O         \n",
      "\n",
      "to..................O         \n",
      "\n",
      "followup............O         \n",
      "\n",
      "with................O         \n",
      "\n",
      "Dr..................O         \n",
      "\n",
      "....................O         \n",
      "\n",
      "XYZ.................O         \n",
      "\n",
      "in..................O         \n",
      "\n",
      "the.................O         \n",
      "\n",
      "office..............O         \n",
      "\n",
      "to..................O         \n",
      "\n",
      "check...............O         \n",
      "\n",
      "her.................B-Gender  \n",
      "\n",
      "INR.................O         \n",
      "\n",
      "on..................O         \n",
      "\n",
      "Tuesday.............O         \n",
      "\n",
      "....................O         \n",
      "\n",
      "She.................B-Gender  \n",
      "\n",
      "was.................O         \n",
      "\n",
      "instructed..........O         \n",
      "\n",
      "to..................O         \n",
      "\n",
      "call................O         \n",
      "\n",
      "if..................O         \n",
      "\n",
      "she.................B-Gender  \n",
      "\n",
      "had.................O         \n",
      "\n",
      "any.................O         \n",
      "\n",
      "other...............O         \n",
      "\n",
      "questions...........O         \n",
      "\n",
      "or..................O         \n",
      "\n",
      "concerns............O         \n",
      "\n",
      "in..................O         \n",
      "\n",
      "the.................O         \n",
      "\n",
      "interim.............O         \n",
      "\n",
      "....................O         \n",
      "\n",
      "Keywords............O         \n",
      "\n",
      ":...................O         \n",
      "\n",
      "hematology..........O         \n",
      "\n",
      "-...................O         \n",
      "\n",
      "oncology............O         \n",
      "\n",
      ",...................O         \n",
      "\n",
      "mesothelioma........B-Cancer_Dx\n",
      "\n",
      ",...................O         \n",
      "\n",
      "pleural.............O         \n",
      "\n",
      "effusion............O         \n",
      "\n",
      ",...................O         \n",
      "\n",
      "atrial..............O         \n",
      "\n",
      "fibrillation........O         \n",
      "\n",
      ",...................O         \n",
      "\n",
      "anemia..............O         \n",
      "\n",
      ",...................O         \n",
      "\n",
      "ascites.............O         \n",
      "\n",
      ",...................O         \n",
      "\n",
      "esophageal..........O         \n",
      "\n",
      "reflux..............O         \n",
      "\n",
      ",...................O         \n",
      "\n",
      "deep................O         \n",
      "\n",
      "venous..............O         \n",
      "\n",
      "thrombosis..........O         \n",
      "\n",
      ",...................O         \n",
      "\n",
      "port-a-cath.........O         \n",
      "\n",
      "placement...........O         \n",
      "\n",
      ",...................O         \n",
      "\n",
      "port................O         \n",
      "\n",
      "a...................O         \n",
      "\n",
      "cath................O         \n",
      "\n",
      ",...................O         \n",
      "\n",
      "iv..................O         \n",
      "\n",
      "piggyback...........O         \n",
      "\n",
      ",...................O         \n",
      "\n",
      "venous..............O         \n",
      "\n",
      "thrombosis..........O         \n",
      "\n",
      ",...................O         \n",
      "\n",
      "atrial..............O         \n",
      "\n",
      ",...................O         \n",
      "\n",
      "thrombosis..........O         \n",
      "\n",
      ",...................O         \n",
      "\n",
      "pericardial.........O         \n",
      "\n",
      ",...................O         \n",
      "\n",
      "lymphadenopathy.....O         \n",
      "\n",
      ",...................O         \n",
      "\n",
      "fluid...............O         \n",
      "\n",
      ",...................O         \n",
      "\n",
      "pericardectomy......B-Cancer_Surgery\n",
      "\n",
      ",...................O         \n",
      "\n",
      "chest...............O         \n",
      "\n",
      ",...................O         \n",
      "\n",
      "pleural.............O         \n",
      "\n",
      ",...................O\n"
     ]
    }
   ],
   "source": [
    "res = light_model.annotate([text])\n",
    "for i,j in list(zip(res[0]['token'],res[0]['ner'])):\n",
    "    print(f\"{i:.<20}{j:10}\")"
   ]
  },
  {
   "cell_type": "markdown",
   "metadata": {},
   "source": [
    "## NER Chunker\n",
    "We can extract phrases that fits into a known pattern using the NER tags. NerChunker would be quite handy to extract entity groups with neighboring tokens when there is no pretrained NER model to address certain issues. Lets say we want to extract drug and frequency together as a single chunk even if there are some unwanted tokens between them."
   ]
  },
  {
   "cell_type": "code",
   "execution_count": 54,
   "metadata": {},
   "outputs": [
    {
     "name": "stdout",
     "output_type": "stream",
     "text": [
      "ner_posology download started this may take some time.\n",
      "\n",
      "[OK!]\n"
     ]
    }
   ],
   "source": [
    "posology_ner = medical.NerModel.pretrained(\"ner_posology\", \"en\", \"clinical/models\") \\\n",
    "    .setInputCols([\"sentence\", \"token\", \"embeddings\"]) \\\n",
    "    .setOutputCol(\"ner\")\n",
    "\n",
    "ner_chunker = medical.NerChunker()\\\n",
    "    .setInputCols([\"sentence\",\"ner\"])\\\n",
    "    .setOutputCol(\"ner_chunk\")\\\n",
    "    .setRegexParsers([\"<DRUG>.*<FREQUENCY>\"])\n",
    "\n",
    "nlpPipeline = nlp.Pipeline(stages=[\n",
    "    documentAssembler,\n",
    "    sentenceDetector,\n",
    "    tokenizer,\n",
    "    word_embeddings,\n",
    "    posology_ner,\n",
    "    ner_chunker])\n",
    "\n",
    "empty_data = spark.createDataFrame([[\"\"]]).toDF(\"text\")\n",
    "\n",
    "ner_chunker_model = nlpPipeline.fit(empty_data)"
   ]
  },
  {
   "cell_type": "code",
   "execution_count": 26,
   "metadata": {},
   "outputs": [
    {
     "name": "stdout",
     "output_type": "stream",
     "text": [
      "O\n",
      "\n",
      "B-DOSAGE\n",
      "\n",
      "B-STRENGTH\n",
      "\n",
      "I-STRENGTH\n",
      "\n",
      "B-ROUTE\n",
      "\n",
      "B-FREQUENCY\n",
      "\n",
      "I-FREQUENCY\n",
      "\n",
      "B-DRUG\n",
      "\n",
      "I-DRUG\n",
      "\n",
      "B-FORM\n",
      "\n",
      "I-DOSAGE\n",
      "\n",
      "B-DURATION\n",
      "\n",
      "I-DURATION\n",
      "\n",
      "I-FORM\n",
      "\n",
      "I-ROUTE\n"
     ]
    }
   ],
   "source": [
    "print(*posology_ner.getClasses(),sep='\\n')"
   ]
  },
  {
   "cell_type": "code",
   "execution_count": 55,
   "metadata": {},
   "outputs": [
    {
     "name": "stdout",
     "output_type": "stream",
     "text": [
      "('The', 'O')\n",
      "\n",
      "('patient', 'O')\n",
      "\n",
      "('was', 'O')\n",
      "\n",
      "('prescribed', 'O')\n",
      "\n",
      "('1', 'B-DOSAGE')\n",
      "\n",
      "('capsule', 'B-FORM')\n",
      "\n",
      "('of', 'O')\n",
      "\n",
      "('Advil', 'B-DRUG')\n",
      "\n",
      "('for', 'B-DURATION')\n",
      "\n",
      "('5', 'I-DURATION')\n",
      "\n",
      "('days', 'I-DURATION')\n",
      "\n",
      "('.', 'O')\n",
      "\n",
      "('He', 'O')\n",
      "\n",
      "('was', 'O')\n",
      "\n",
      "('seen', 'O')\n",
      "\n",
      "('by', 'O')\n",
      "\n",
      "('the', 'O')\n",
      "\n",
      "('endocrinology', 'O')\n",
      "\n",
      "('service', 'O')\n",
      "\n",
      "('and', 'O')\n",
      "\n",
      "('she', 'O')\n",
      "\n",
      "('was', 'O')\n",
      "\n",
      "('discharged', 'O')\n",
      "\n",
      "('on', 'O')\n",
      "\n",
      "('40', 'B-DOSAGE')\n",
      "\n",
      "('units', 'I-DOSAGE')\n",
      "\n",
      "('of', 'O')\n",
      "\n",
      "('insulin', 'B-DRUG')\n",
      "\n",
      "('glargine', 'I-DRUG')\n",
      "\n",
      "('at', 'B-FREQUENCY')\n",
      "\n",
      "('night', 'I-FREQUENCY')\n",
      "\n",
      "(',', 'O')\n",
      "\n",
      "('12', 'B-DOSAGE')\n",
      "\n",
      "('units', 'I-DOSAGE')\n",
      "\n",
      "('of', 'O')\n",
      "\n",
      "('insulin', 'B-DRUG')\n",
      "\n",
      "('lispro', 'I-DRUG')\n",
      "\n",
      "('with', 'B-FREQUENCY')\n",
      "\n",
      "('meals', 'I-FREQUENCY')\n",
      "\n",
      "(',', 'O')\n",
      "\n",
      "('metformin', 'B-DRUG')\n",
      "\n",
      "('1000', 'B-STRENGTH')\n",
      "\n",
      "('mg', 'I-STRENGTH')\n",
      "\n",
      "('two', 'B-FREQUENCY')\n",
      "\n",
      "('times', 'I-FREQUENCY')\n",
      "\n",
      "('a', 'I-FREQUENCY')\n",
      "\n",
      "('day', 'I-FREQUENCY')\n",
      "\n",
      "('.', 'O')\n",
      "\n",
      "('It', 'O')\n",
      "\n",
      "('was', 'O')\n",
      "\n",
      "('determined', 'O')\n",
      "\n",
      "('that', 'O')\n",
      "\n",
      "('all', 'O')\n",
      "\n",
      "('SGLT2', 'B-DRUG')\n",
      "\n",
      "('inhibitors', 'I-DRUG')\n",
      "\n",
      "('should', 'O')\n",
      "\n",
      "('be', 'O')\n",
      "\n",
      "('discontinued', 'O')\n",
      "\n",
      "('indefinitely', 'O')\n",
      "\n",
      "('fro', 'O')\n",
      "\n",
      "('3', 'O')\n",
      "\n",
      "('months', 'O')\n",
      "\n",
      "('.', 'O')\n"
     ]
    }
   ],
   "source": [
    "light_model = nlp.LightPipeline(ner_chunker_model)\n",
    "\n",
    "text ='The patient was prescribed 1 capsule of Advil for 5 days . He was seen by the endocrinology service and she was discharged on 40 units of insulin glargine at night , 12 units of insulin lispro with meals , metformin 1000 mg two times a day . It was determined that all SGLT2 inhibitors should be discontinued indefinitely fro 3 months .'\n",
    "\n",
    "light_result = light_model.annotate(text)\n",
    "\n",
    "print(*list(zip(light_result['token'], light_result['ner'])),sep='\\n')"
   ]
  },
  {
   "cell_type": "code",
   "execution_count": 56,
   "metadata": {},
   "outputs": [
    {
     "name": "stdout",
     "output_type": "stream",
     "text": [
      "['insulin glargine at night , 12 units of insulin lispro with meals , metformin 1000 mg two times a day']\n"
     ]
    }
   ],
   "source": [
    "light_result[\"ner_chunk\"]"
   ]
  },
  {
   "cell_type": "markdown",
   "metadata": {},
   "source": [
    "## Chunk Filterer\n",
    "ChunkFilterer will allow you to filter out named entities by some conditions or predefined look-up lists, so that you can feed these entities to other annotators like Assertion Status or Entity Resolvers. It can be used with two criteria: isin and regex."
   ]
  },
  {
   "cell_type": "code",
   "execution_count": 57,
   "metadata": {},
   "outputs": [
    {
     "name": "stdout",
     "output_type": "stream",
     "text": [
      "ner_posology download started this may take some time.\n",
      "\n",
      "[OK!]\n"
     ]
    }
   ],
   "source": [
    "posology_ner = medical.NerModel.pretrained(\"ner_posology\", \"en\", \"clinical/models\") \\\n",
    "    .setInputCols([\"sentence\", \"token\", \"embeddings\"]) \\\n",
    "    .setOutputCol(\"ner\")\n",
    "\n",
    "ner_converter = medical.NerConverterInternal()\\\n",
    "    .setInputCols([\"sentence\",\"token\",\"ner\"])\\\n",
    "    .setOutputCol(\"ner_chunk\")\n",
    "\n",
    "chunk_filterer = medical.ChunkFilterer()\\\n",
    "    .setInputCols(\"sentence\",\"ner_chunk\")\\\n",
    "    .setOutputCol(\"chunk_filtered\")\\\n",
    "    .setCriteria(\"isin\")\\\n",
    "    .setWhiteList(['ADVIL','Metformin', 'Insulin Lispro'])\\\n",
    "    .setCaseSensitive(False)\n",
    "\n",
    "nlpPipeline = nlp.Pipeline(stages=[\n",
    "    documentAssembler,\n",
    "    sentenceDetector,\n",
    "    tokenizer,\n",
    "    word_embeddings,\n",
    "    posology_ner,\n",
    "    ner_converter,\n",
    "    chunk_filterer])\n",
    "\n",
    "empty_data = spark.createDataFrame([[\"\"]]).toDF(\"text\")\n",
    "\n",
    "chunk_filter_model = nlpPipeline.fit(empty_data)"
   ]
  },
  {
   "cell_type": "code",
   "execution_count": 58,
   "metadata": {},
   "outputs": [
    {
     "name": "stdout",
     "output_type": "stream",
     "text": [
      "dict_keys(['document', 'ner_chunk', 'chunk_filtered', 'token', 'ner', 'embeddings', 'sentence'])\n"
     ]
    }
   ],
   "source": [
    "light_model = nlp.LightPipeline(chunk_filter_model)\n",
    "\n",
    "text ='The patient was prescribed 1 capsule of Advil for 5 days . He was seen by the endocrinology service and she was discharged on 40 units of insulin glargine at night , 12 units of insulin lispro with meals , metformin 1000 mg two times a day . It was determined that all SGLT2 inhibitors should be discontinued indefinitely fro 3 months .'\n",
    "\n",
    "light_result = light_model.annotate(text)\n",
    "\n",
    "light_result.keys()"
   ]
  },
  {
   "cell_type": "code",
   "execution_count": 59,
   "metadata": {},
   "outputs": [
    {
     "name": "stdout",
     "output_type": "stream",
     "text": [
      "['1', 'capsule', 'Advil', 'for 5 days', '40 units', 'insulin glargine', 'at night', '12 units', 'insulin lispro', 'with meals', 'metformin', '1000 mg', 'two times a day', 'SGLT2 inhibitors']\n"
     ]
    }
   ],
   "source": [
    "light_result['ner_chunk']"
   ]
  },
  {
   "cell_type": "code",
   "execution_count": 60,
   "metadata": {},
   "outputs": [
    {
     "name": "stdout",
     "output_type": "stream",
     "text": [
      "['Advil', 'insulin lispro', 'metformin']\n"
     ]
    }
   ],
   "source": [
    "light_result['chunk_filtered']"
   ]
  },
  {
   "cell_type": "code",
   "execution_count": 61,
   "metadata": {},
   "outputs": [
    {
     "name": "stdout",
     "output_type": "stream",
     "text": [
      "ner_clinical download started this may take some time.\n",
      "\n",
      "[OK!]\n"
     ]
    }
   ],
   "source": [
    "ner_model = medical.NerModel.pretrained(\"ner_clinical\", \"en\", \"clinical/models\")\\\n",
    "    .setInputCols(\"sentence\",\"token\",\"embeddings\")\\\n",
    "    .setOutputCol(\"ner\")\n",
    "\n",
    "ner_converter = medical.NerConverterInternal()\\\n",
    "    .setInputCols([\"sentence\",\"token\",\"ner\"])\\\n",
    "    .setOutputCol(\"ner_chunk\")\n",
    "\n",
    "chunk_filterer = medical.ChunkFilterer()\\\n",
    "    .setInputCols(\"sentence\",\"ner_chunk\")\\\n",
    "    .setOutputCol(\"chunk_filtered\")\\\n",
    "    .setCriteria(\"isin\")\\\n",
    "    .setWhiteList(['severe fever','sore throat'])\n",
    "\n",
    "#   .setCriteria(\"regex\")\\\n",
    "\n",
    "nlpPipeline = nlp.Pipeline(stages=[\n",
    "    documentAssembler,\n",
    "    sentenceDetector,\n",
    "    tokenizer,\n",
    "    word_embeddings,\n",
    "    ner_model,\n",
    "    ner_converter,\n",
    "    chunk_filterer])\n",
    "\n",
    "empty_data = spark.createDataFrame([[\"\"]]).toDF(\"text\")\n",
    "\n",
    "chunk_filter_model = nlpPipeline.fit(empty_data)"
   ]
  },
  {
   "cell_type": "code",
   "execution_count": 62,
   "metadata": {},
   "outputs": [
    {
     "name": "stdout",
     "output_type": "stream",
     "text": [
      "\n"
     ]
    }
   ],
   "source": [
    "text = 'Patient with severe fever, severe cough, sore throat, stomach pain, and a headache.'\n",
    "\n",
    "filter_df = spark.createDataFrame([[text]]).toDF(\"text\")\n",
    "\n",
    "chunk_filter_result = chunk_filter_model.transform(filter_df)"
   ]
  },
  {
   "cell_type": "code",
   "execution_count": 63,
   "metadata": {},
   "outputs": [
    {
     "name": "stdout",
     "output_type": "stream",
     "text": [
      "+-------------------------------------------------------------------+---------------------------+\n",
      "\n",
      "|result                                                             |result                     |\n",
      "\n",
      "+-------------------------------------------------------------------+---------------------------+\n",
      "\n",
      "|[severe fever, severe cough, sore throat, stomach pain, a headache]|[severe fever, sore throat]|\n",
      "\n",
      "+-------------------------------------------------------------------+---------------------------+\n"
     ]
    }
   ],
   "source": [
    "chunk_filter_result.select('ner_chunk.result','chunk_filtered.result').show(truncate=False)"
   ]
  },
  {
   "cell_type": "markdown",
   "metadata": {},
   "source": [
    "## Changing entity labels with `NerConverterInternal()`\n",
    "\n",
    "There are two parameters in `NerConverterInternal()` annotator for replacing the labels.\n",
    "\n",
    "+ `.setReplaceLabels`: You can just create a dictionary with the labels and their new values in this parameter.\n",
    "\n",
    "```python\n",
    "jsl_ner_converter_internal = medical.NerConverterInternal()\\\n",
    "    .setInputCols([\"sentence\",\"token\",\"jsl_ner\"])\\\n",
    "    .setOutputCol(\"replaced_ner_chunk\")\\\n",
    "    .setReplaceLabels({\"Drug_BrandName\": \"Drug\",\n",
    "                       \"Frequency\": \"Drug_Frequency\",\n",
    "                       \"Dosage\": \"Drug_Dosage\",\n",
    "                       \"Strength\": \"Drug_Strength\"})\n",
    "```\n",
    "\n",
    "+ `.setReplaceDictResource`: You can feed a file that contains the labels and their new values in a dictionary format.\n",
    "\n",
    "```python\n",
    "replace_dict = \"\"\"Drug_BrandName,Drug\n",
    "Frequency,Drug_Frequency\n",
    "Dosage,Drug_Dosage\n",
    "Strength,Drug_Strength\n",
    "\"\"\"\n",
    "with open('replace_dict.csv', 'w') as f:\n",
    "    f.write(replace_dict)\n",
    "\n",
    "...\n",
    "jsl_ner_converter_internal = medical.NerConverterInternal()\\\n",
    "    .setInputCols([\"sentence\",\"token\",\"jsl_ner\"])\\\n",
    "    .setOutputCol(\"replaced_ner_chunk\")\\\n",
    "    .setReplaceDictResource(\"replace_dict.csv\",\"text\", {\"delimiter\":\",\"})\n",
    "...\n",
    "```\n",
    "\n",
    "\n",
    "\n",
    "You can check [NerConverterInternal Annotator Page](https://nlp.johnsnowlabs.com/docs/en/licensed_annotators#nerconverterinternal) for more details."
   ]
  },
  {
   "cell_type": "code",
   "execution_count": 64,
   "metadata": {},
   "outputs": [
    {
     "name": "stdout",
     "output_type": "stream",
     "text": [
      "sentence_detector_dl_healthcare download started this may take some time.\n",
      "\n",
      "Approximate size to download 367.3 KB\n",
      "\n",
      "[OK!]\n",
      "\n",
      "embeddings_clinical download started this may take some time.\n",
      "\n",
      "Approximate size to download 1.6 GB\n",
      "\n",
      "[OK!]\n",
      "\n",
      "ner_jsl download started this may take some time.\n",
      "\n",
      "[OK!]\n"
     ]
    }
   ],
   "source": [
    "documentAssembler = nlp.DocumentAssembler()\\\n",
    "    .setInputCol(\"text\")\\\n",
    "    .setOutputCol(\"document\")\n",
    "\n",
    "sentenceDetector = nlp.SentenceDetectorDLModel.pretrained(\"sentence_detector_dl_healthcare\",\"en\",\"clinical/models\") \\\n",
    "    .setInputCols([\"document\"]) \\\n",
    "    .setOutputCol(\"sentence\")\n",
    "\n",
    "tokenizer = nlp.Tokenizer()\\\n",
    "    .setInputCols([\"sentence\"])\\\n",
    "    .setOutputCol(\"token\")\n",
    "\n",
    "word_embeddings = nlp.WordEmbeddingsModel.pretrained(\"embeddings_clinical\", \"en\", \"clinical/models\")\\\n",
    "    .setInputCols([\"sentence\", \"token\"])\\\n",
    "    .setOutputCol(\"embeddings\").setEnableInMemoryStorage(True)\n",
    "\n",
    "jsl_ner = medical.NerModel.pretrained(\"ner_jsl\", \"en\", \"clinical/models\") \\\n",
    "    .setInputCols([\"sentence\", \"token\", \"embeddings\"]) \\\n",
    "    .setOutputCol(\"jsl_ner\")\n",
    "\n",
    "jsl_ner_converter = medical.NerConverterInternal() \\\n",
    "    .setInputCols([\"sentence\", \"token\", \"jsl_ner\"]) \\\n",
    "    .setOutputCol(\"jsl_ner_chunk\")\n",
    "\n",
    "jsl_ner_converter_internal = medical.NerConverterInternal()\\\n",
    "    .setInputCols([\"sentence\",\"token\",\"jsl_ner\"])\\\n",
    "    .setOutputCol(\"replaced_ner_chunk\")\\\n",
    "    .setReplaceLabels({\"Drug_BrandName\": \"Drug\",\n",
    "                       \"Frequency\": \"Drug_Frequency\",\n",
    "                       \"Dosage\": \"Drug_Dosage\",\n",
    "                       \"Strength\": \"Drug_Strength\"})\n",
    "\n",
    "nlpPipeline = nlp.Pipeline(stages=[\n",
    "    documentAssembler,\n",
    "    sentenceDetector,\n",
    "    tokenizer,\n",
    "    word_embeddings,\n",
    "    jsl_ner,\n",
    "    jsl_ner_converter,\n",
    "    jsl_ner_converter_internal\n",
    "    ])\n",
    "\n",
    "empty_data = spark.createDataFrame([[\"\"]]).toDF(\"text\")\n",
    "ner_converter_model = nlpPipeline.fit(empty_data)"
   ]
  },
  {
   "cell_type": "code",
   "execution_count": 66,
   "metadata": {},
   "outputs": [
    {
     "name": "stdout",
     "output_type": "stream",
     "text": [
      "The patient was prescribed 1 capsule of Parol with meals. He was seen by the endocrinology service and she was discharged on 40 units of insulin glargine at night , 12 units of insulin lispro with meals , and metformin 1000 mg two times a day . It was determined that all SGLT2 inhibitors should be discontinued indefinitely fro 3 months .\n",
      "\n",
      "+--------------------+-----+---+-----------+-------------------+\n",
      "\n",
      "|              chunks|begin|end|sentence_id|           entities|\n",
      "\n",
      "+--------------------+-----+---+-----------+-------------------+\n",
      "\n",
      "|           1 capsule|   27| 35|          0|        Drug_Dosage|\n",
      "\n",
      "|               Parol|   40| 44|          0|               Drug|\n",
      "\n",
      "|                  He|   58| 59|          1|             Gender|\n",
      "\n",
      "|endocrinology ser...|   77| 97|          1|      Clinical_Dept|\n",
      "\n",
      "|                 she|  103|105|          1|             Gender|\n",
      "\n",
      "|          discharged|  111|120|          1|Admission_Discharge|\n",
      "\n",
      "|            40 units|  125|132|          1|        Drug_Dosage|\n",
      "\n",
      "|    insulin glargine|  137|152|          1|    Drug_Ingredient|\n",
      "\n",
      "|            at night|  154|161|          1|     Drug_Frequency|\n",
      "\n",
      "|            12 units|  165|172|          1|        Drug_Dosage|\n",
      "\n",
      "|      insulin lispro|  177|190|          1|    Drug_Ingredient|\n",
      "\n",
      "|          with meals|  192|201|          1|     Drug_Frequency|\n",
      "\n",
      "|           metformin|  209|217|          1|    Drug_Ingredient|\n",
      "\n",
      "|             1000 mg|  219|225|          1|      Drug_Strength|\n",
      "\n",
      "|     two times a day|  227|241|          1|     Drug_Frequency|\n",
      "\n",
      "|    SGLT2 inhibitors|  272|287|          2|    Drug_Ingredient|\n",
      "\n",
      "|        fro 3 months|  325|336|          2|           Duration|\n",
      "\n",
      "+--------------------+-----+---+-----------+-------------------+\n"
     ]
    }
   ],
   "source": [
    "text ='The patient was prescribed 1 capsule of Parol with meals. He was seen by the endocrinology service and she was discharged on 40 units of insulin glargine at night , 12 units of insulin lispro with meals , and metformin 1000 mg two times a day . It was determined that all SGLT2 inhibitors should be discontinued indefinitely fro 3 months .'\n",
    "\n",
    "print (text)\n",
    "\n",
    "light_model = nlp.LightPipeline(ner_converter_model)\n",
    "\n",
    "light_result = light_model.fullAnnotate(text)\n",
    "\n",
    "\n",
    "chunks = []\n",
    "entities = []\n",
    "sentence= []\n",
    "begin = []\n",
    "end = []\n",
    "\n",
    "for n in light_result[0]['replaced_ner_chunk']:\n",
    "\n",
    "    begin.append(n.begin)\n",
    "    end.append(n.end)\n",
    "    chunks.append(n.result)\n",
    "    entities.append(n.metadata['entity'])\n",
    "    sentence.append(n.metadata['sentence'])\n",
    "\n",
    "\n",
    "\n",
    "df_clinical = pd.DataFrame({'chunks':chunks,\n",
    "                            'begin': begin,\n",
    "                            'end':end,\n",
    "                            'sentence_id':sentence,\n",
    "                            'entities':entities})\n",
    "\n",
    "spark.createDataFrame(df_clinical).show()"
   ]
  },
  {
   "cell_type": "code",
   "execution_count": 84,
   "metadata": {},
   "outputs": [],
   "source": [
    "\n",
    "#light_model = LightPipeline(ner_converter_model)\n",
    "\n",
    "cols = [\n",
    "     'entities_jsl_ner_chunk_origin_sentence',\n",
    "     'entities_jsl_ner_chunk_begin',\n",
    "     'entities_jsl_ner_chunk_end',\n",
    "     'entities_jsl_ner_chunk',\n",
    "     'entities_jsl_ner_chunk_class',\n",
    "     'entities_replaced_ner_chunk_class'\n",
    "]\n",
    "\n",
    "\n",
    "nlp.nlu.to_pretty_df(ner_converter_model,text,positions=True,output_level='chunk')[cols].head(20).to_html().replace(\"\\n\", \"\")"
   ]
  },
  {
   "cell_type": "markdown",
   "metadata": {},
   "source": [
    "<table border=\"1\" class=\"dataframe\">  <thead>    <tr style=\"text-align: right;\">      <th></th>      <th>entities_jsl_ner_chunk_origin_sentence</th>      <th>entities_jsl_ner_chunk_begin</th>      <th>entities_jsl_ner_chunk_end</th>      <th>entities_jsl_ner_chunk</th>      <th>entities_jsl_ner_chunk_class</th>      <th>entities_replaced_ner_chunk_class</th>    </tr>  </thead>  <tbody>    <tr>      <th>0</th>      <td>0</td>      <td>27</td>      <td>35</td>      <td>1 capsule</td>      <td>Dosage</td>      <td>Drug_Dosage</td>    </tr>    <tr>      <th>0</th>      <td>0</td>      <td>40</td>      <td>44</td>      <td>Parol</td>      <td>Drug_BrandName</td>      <td>Drug</td>    </tr>    <tr>      <th>0</th>      <td>1</td>      <td>58</td>      <td>59</td>      <td>He</td>      <td>Gender</td>      <td>Gender</td>    </tr>    <tr>      <th>0</th>      <td>1</td>      <td>77</td>      <td>97</td>      <td>endocrinology service</td>      <td>Clinical_Dept</td>      <td>Clinical_Dept</td>    </tr>    <tr>      <th>0</th>      <td>1</td>      <td>103</td>      <td>105</td>      <td>she</td>      <td>Gender</td>      <td>Gender</td>    </tr>    <tr>      <th>0</th>      <td>1</td>      <td>111</td>      <td>120</td>      <td>discharged</td>      <td>Admission_Discharge</td>      <td>Admission_Discharge</td>    </tr>    <tr>      <th>0</th>      <td>1</td>      <td>125</td>      <td>132</td>      <td>40 units</td>      <td>Dosage</td>      <td>Drug_Dosage</td>    </tr>    <tr>      <th>0</th>      <td>1</td>      <td>137</td>      <td>152</td>      <td>insulin glargine</td>      <td>Drug_Ingredient</td>      <td>Drug_Ingredient</td>    </tr>    <tr>      <th>0</th>      <td>1</td>      <td>154</td>      <td>161</td>      <td>at night</td>      <td>Frequency</td>      <td>Drug_Frequency</td>    </tr>    <tr>      <th>0</th>      <td>1</td>      <td>165</td>      <td>172</td>      <td>12 units</td>      <td>Dosage</td>      <td>Drug_Dosage</td>    </tr>    <tr>      <th>0</th>      <td>1</td>      <td>177</td>      <td>190</td>      <td>insulin lispro</td>      <td>Drug_Ingredient</td>      <td>Drug_Ingredient</td>    </tr>    <tr>      <th>0</th>      <td>1</td>      <td>192</td>      <td>201</td>      <td>with meals</td>      <td>Frequency</td>      <td>Drug_Frequency</td>    </tr>    <tr>      <th>0</th>      <td>1</td>      <td>209</td>      <td>217</td>      <td>metformin</td>      <td>Drug_Ingredient</td>      <td>Drug_Ingredient</td>    </tr>    <tr>      <th>0</th>      <td>1</td>      <td>219</td>      <td>225</td>      <td>1000 mg</td>      <td>Strength</td>      <td>Drug_Strength</td>    </tr>    <tr>      <th>0</th>      <td>1</td>      <td>227</td>      <td>241</td>      <td>two times a day</td>      <td>Frequency</td>      <td>Drug_Frequency</td>    </tr>    <tr>      <th>0</th>      <td>2</td>      <td>272</td>      <td>287</td>      <td>SGLT2 inhibitors</td>      <td>Drug_Ingredient</td>      <td>Drug_Ingredient</td>    </tr>    <tr>      <th>0</th>      <td>2</td>      <td>325</td>      <td>336</td>      <td>fro 3 months</td>      <td>Duration</td>      <td>Duration</td>    </tr>  </tbody></table>"
   ]
  },
  {
   "cell_type": "markdown",
   "metadata": {},
   "source": [
    "### Adding `setIgnoreStopWords` parameter to control chunk generation.\n",
    "By providing `setIgnoreStopWords`, we can ignore certain words or characters while creating a chunk. <br/>\n",
    "\n",
    "It should be a list of tokens/words or characters, and when two entities of the same type are separated by those words, these entities can be combined to produce a single, larger chunk.\n",
    "\n",
    "\n",
    "\n",
    "\n"
   ]
  },
  {
   "cell_type": "markdown",
   "metadata": {},
   "source": [
    "Firstly let's create `NerConverterInternal()` without this parameter"
   ]
  },
  {
   "cell_type": "code",
   "execution_count": 31,
   "metadata": {},
   "outputs": [
    {
     "name": "stdout",
     "output_type": "stream",
     "text": [
      "ner_deid_generic_augmented download started this may take some time.\n",
      "\n",
      "[OK!]\n"
     ]
    }
   ],
   "source": [
    "jsl_ner= medical.NerModel.pretrained(\"ner_deid_generic_augmented\", \"en\", \"clinical/models\")\\\n",
    "      .setInputCols([\"sentence\", \"token\", \"embeddings\"])\\\n",
    "      .setOutputCol(\"ner_deid\")\\\n",
    "      .setLabelCasing('upper')\n",
    "\n",
    "jsl_ner_converter_internal= medical.NerConverterInternal()\\\n",
    "        .setInputCols([\"sentence\", \"token\", \"ner_deid\"])\\\n",
    "        .setOutputCol(\"chunk_deid\")\\\n",
    "        .setGreedyMode(True)\\\n",
    "        .setWhiteList(['LOCATION'])\n",
    "\n",
    "nlpPipeline = nlp.Pipeline(stages=[\n",
    "    documentAssembler,\n",
    "    sentenceDetector,\n",
    "    tokenizer,\n",
    "    word_embeddings,\n",
    "    jsl_ner,\n",
    "    jsl_ner_converter_internal\n",
    "    ])\n",
    "\n",
    "empty_data = spark.createDataFrame([[\"\"]]).toDF(\"text\")\n",
    "ner_converter_model = nlpPipeline.fit(empty_data)"
   ]
  },
  {
   "cell_type": "code",
   "execution_count": 122,
   "metadata": {},
   "outputs": [],
   "source": [
    "#from sparknlp_display import NerVisualizer\n",
    "\n",
    "text = \"\"\"\n",
    "The address of the manufacturer:\n",
    "R K Industry House, Walbhat Rd\n",
    "Mumbai, Maharashtra, India\n",
    "\"\"\"\n",
    "\n",
    "lmodel= nlp.LightPipeline(ner_converter_model)\n",
    "res = lmodel.fullAnnotate(text)[0]\n",
    "\n",
    "nlp.viz.NerVisualizer().display(res, 'chunk_deid', return_html = True).replace(\"\\n\",\"\")\n",
    "\n",
    "#copy/paste the output into next cell as markdown"
   ]
  },
  {
   "cell_type": "markdown",
   "metadata": {
    "execution": {
     "iopub.execute_input": "2023-08-30T21:06:59.967345Z",
     "iopub.status.busy": "2023-08-30T21:06:59.967037Z",
     "iopub.status.idle": "2023-08-30T21:06:59.973252Z",
     "shell.execute_reply": "2023-08-30T21:06:59.972628Z",
     "shell.execute_reply.started": "2023-08-30T21:06:59.967311Z"
    },
    "tags": []
   },
   "source": [
    "<style>    @import url(\\'https://fonts.googleapis.com/css2?family=Montserrat:wght@300;400;500;600;700&display=swap\\');    @import url(\\'https://fonts.googleapis.com/css2?family=Vistol Regular:wght@300;400;500;600;700&display=swap\\');        .spark-nlp-display-scroll-entities {        border: 1px solid #E7EDF0;        border-radius: 3px;        text-align: justify;            }    .spark-nlp-display-scroll-entities span {          font-size: 14px;        line-height: 24px;        color: #536B76;        font-family: \\'Montserrat\\', sans-serif !important;    }        .spark-nlp-display-entity-wrapper{            display: inline-grid;        text-align: center;        border-radius: 4px;        margin: 0 2px 5px 2px;        padding: 1px    }    .spark-nlp-display-entity-name{        font-size: 14px;        line-height: 24px;        font-family: \\'Montserrat\\', sans-serif !important;                background: #f1f2f3;        border-width: medium;        text-align: center;                font-weight: 400;                border-radius: 5px;        padding: 2px 5px;        display: block;        margin: 3px 2px;        }    .spark-nlp-display-entity-type{        font-size: 14px;        line-height: 24px;        color: #ffffff;        font-family: \\'Montserrat\\', sans-serif !important;                text-transform: uppercase;                font-weight: 500;        display: block;        padding: 3px 5px;    }        .spark-nlp-display-entity-resolution{        font-size: 14px;        line-height: 24px;        color: #ffffff;        font-family: \\'Vistol Regular\\', sans-serif !important;                text-transform: uppercase;                font-weight: 500;        display: block;        padding: 3px 5px;    }        .spark-nlp-display-others{        font-size: 14px;        line-height: 24px;        font-family: \\'Montserrat\\', sans-serif !important;                font-weight: 400;    }</style> <span class=\"spark-nlp-display-others\" style=\"background-color: white\"><br>The address of the manufacturer:<br></span><span class=\"spark-nlp-display-entity-wrapper\" style=\"background-color: #685892\"><span class=\"spark-nlp-display-entity-name\">R K Industry House </span><span class=\"spark-nlp-display-entity-type\">LOCATION</span></span><span class=\"spark-nlp-display-others\" style=\"background-color: white\">, </span><span class=\"spark-nlp-display-entity-wrapper\" style=\"background-color: #685892\"><span class=\"spark-nlp-display-entity-name\">Walbhat Rd </span><span class=\"spark-nlp-display-entity-type\">LOCATION</span></span><span class=\"spark-nlp-display-others\" style=\"background-color: white\"><br></span><span class=\"spark-nlp-display-entity-wrapper\" style=\"background-color: #685892\"><span class=\"spark-nlp-display-entity-name\">Mumbai </span><span class=\"spark-nlp-display-entity-type\">LOCATION</span></span><span class=\"spark-nlp-display-others\" style=\"background-color: white\">, </span><span class=\"spark-nlp-display-entity-wrapper\" style=\"background-color: #685892\"><span class=\"spark-nlp-display-entity-name\">Maharashtra </span><span class=\"spark-nlp-display-entity-type\">LOCATION</span></span><span class=\"spark-nlp-display-others\" style=\"background-color: white\">, </span><span class=\"spark-nlp-display-entity-wrapper\" style=\"background-color: #685892\"><span class=\"spark-nlp-display-entity-name\">India </span><span class=\"spark-nlp-display-entity-type\">LOCATION</span></span><span class=\"spark-nlp-display-others\" style=\"background-color: white\"><br></span></div>"
   ]
  },
  {
   "cell_type": "code",
   "execution_count": 123,
   "metadata": {},
   "outputs": [],
   "source": [
    "#from sparknlp_display import NerVisualizer\n",
    "\n",
    "text = \"\"\"\n",
    "The address of the manufacturer:\n",
    "R K Industry House, Walbhat Rd\n",
    "Mumbai, Maharashtra, India\n",
    "\"\"\"\n",
    "\n",
    "lmodel= nlp.LightPipeline(ner_converter_model)\n",
    "res = lmodel.fullAnnotate(text)[0]\n",
    "\n",
    "nlp.viz.NerVisualizer().display(res, 'chunk_deid', return_html = True).replace(\"\\n\",\"\")\n",
    "\n",
    "#copy/paste the output into next cell as markdown"
   ]
  },
  {
   "cell_type": "markdown",
   "metadata": {
    "execution": {
     "iopub.execute_input": "2023-08-30T21:07:11.853571Z",
     "iopub.status.busy": "2023-08-30T21:07:11.853268Z",
     "iopub.status.idle": "2023-08-30T21:07:11.860115Z",
     "shell.execute_reply": "2023-08-30T21:07:11.859372Z",
     "shell.execute_reply.started": "2023-08-30T21:07:11.853537Z"
    },
    "tags": []
   },
   "source": [
    "<style>    @import url(\\'https://fonts.googleapis.com/css2?family=Montserrat:wght@300;400;500;600;700&display=swap\\');    @import url(\\'https://fonts.googleapis.com/css2?family=Vistol Regular:wght@300;400;500;600;700&display=swap\\');        .spark-nlp-display-scroll-entities {        border: 1px solid #E7EDF0;        border-radius: 3px;        text-align: justify;            }    .spark-nlp-display-scroll-entities span {          font-size: 14px;        line-height: 24px;        color: #536B76;        font-family: \\'Montserrat\\', sans-serif !important;    }        .spark-nlp-display-entity-wrapper{            display: inline-grid;        text-align: center;        border-radius: 4px;        margin: 0 2px 5px 2px;        padding: 1px    }    .spark-nlp-display-entity-name{        font-size: 14px;        line-height: 24px;        font-family: \\'Montserrat\\', sans-serif !important;                background: #f1f2f3;        border-width: medium;        text-align: center;                font-weight: 400;                border-radius: 5px;        padding: 2px 5px;        display: block;        margin: 3px 2px;        }    .spark-nlp-display-entity-type{        font-size: 14px;        line-height: 24px;        color: #ffffff;        font-family: \\'Montserrat\\', sans-serif !important;                text-transform: uppercase;                font-weight: 500;        display: block;        padding: 3px 5px;    }        .spark-nlp-display-entity-resolution{        font-size: 14px;        line-height: 24px;        color: #ffffff;        font-family: \\'Vistol Regular\\', sans-serif !important;                text-transform: uppercase;                font-weight: 500;        display: block;        padding: 3px 5px;    }        .spark-nlp-display-others{        font-size: 14px;        line-height: 24px;        font-family: \\'Montserrat\\', sans-serif !important;                font-weight: 400;    }</style> <span class=\"spark-nlp-display-others\" style=\"background-color: white\"><br>The address of the manufacturer:<br></span><span class=\"spark-nlp-display-entity-wrapper\" style=\"background-color: #C62A2A\"><span class=\"spark-nlp-display-entity-name\">R K Industry House </span><span class=\"spark-nlp-display-entity-type\">LOCATION</span></span><span class=\"spark-nlp-display-others\" style=\"background-color: white\">, </span><span class=\"spark-nlp-display-entity-wrapper\" style=\"background-color: #C62A2A\"><span class=\"spark-nlp-display-entity-name\">Walbhat Rd </span><span class=\"spark-nlp-display-entity-type\">LOCATION</span></span><span class=\"spark-nlp-display-others\" style=\"background-color: white\"><br></span><span class=\"spark-nlp-display-entity-wrapper\" style=\"background-color: #C62A2A\"><span class=\"spark-nlp-display-entity-name\">Mumbai </span><span class=\"spark-nlp-display-entity-type\">LOCATION</span></span><span class=\"spark-nlp-display-others\" style=\"background-color: white\">, </span><span class=\"spark-nlp-display-entity-wrapper\" style=\"background-color: #C62A2A\"><span class=\"spark-nlp-display-entity-name\">Maharashtra </span><span class=\"spark-nlp-display-entity-type\">LOCATION</span></span><span class=\"spark-nlp-display-others\" style=\"background-color: white\">, </span><span class=\"spark-nlp-display-entity-wrapper\" style=\"background-color: #C62A2A\"><span class=\"spark-nlp-display-entity-name\">India </span><span class=\"spark-nlp-display-entity-type\">LOCATION</span></span><span class=\"spark-nlp-display-others\" style=\"background-color: white\"><br></span></div>"
   ]
  },
  {
   "cell_type": "markdown",
   "metadata": {},
   "source": [
    "Now, let's define some characters and words with the `setIgnoreStopWords()` parameter and see the difference between the chunks."
   ]
  },
  {
   "cell_type": "code",
   "execution_count": 35,
   "metadata": {},
   "outputs": [
    {
     "name": "stdout",
     "output_type": "stream",
     "text": [
      "\n"
     ]
    }
   ],
   "source": [
    "jsl_ner_converter_internal= medical.NerConverterInternal()\\\n",
    "        .setInputCols([\"sentence\", \"token\", \"ner_deid\"])\\\n",
    "        .setOutputCol(\"chunk_deid\")\\\n",
    "        .setGreedyMode(True)\\\n",
    "        .setWhiteList(['LOCATION'])\\\n",
    "        .setIgnoreStopWords(['\\n', ',', \"and\", 'or', '.'])\n",
    "\n",
    "nlpPipeline = nlp.Pipeline(stages=[\n",
    "    documentAssembler,\n",
    "    sentenceDetector,\n",
    "    tokenizer,\n",
    "    word_embeddings,\n",
    "    jsl_ner,\n",
    "    jsl_ner_converter_internal\n",
    "    ])\n",
    "\n",
    "empty_data = spark.createDataFrame([[\"\"]]).toDF(\"text\")\n",
    "ner_converter_model = nlpPipeline.fit(empty_data)"
   ]
  },
  {
   "cell_type": "code",
   "execution_count": 36,
   "metadata": {},
   "outputs": [
    {
     "name": "stdout",
     "output_type": "stream",
     "text": [
      "'<style>    @import url(\\'https://fonts.googleapis.com/css2?family=Montserrat:wght@300;400;500;600;700&display=swap\\');    @import url(\\'https://fonts.googleapis.com/css2?family=Vistol Regular:wght@300;400;500;600;700&display=swap\\');        .spark-nlp-display-scroll-entities {        border: 1px solid #E7EDF0;        border-radius: 3px;        text-align: justify;            }    .spark-nlp-display-scroll-entities span {          font-size: 14px;        line-height: 24px;        color: #536B76;        font-family: \\'Montserrat\\', sans-serif !important;    }        .spark-nlp-display-entity-wrapper{            display: inline-grid;        text-align: center;        border-radius: 4px;        margin: 0 2px 5px 2px;        padding: 1px    }    .spark-nlp-display-entity-name{        font-size: 14px;        line-height: 24px;        font-family: \\'Montserrat\\', sans-serif !important;                background: #f1f2f3;        border-width: medium;        text-align: center;                font-weight: 400;                border-radius: 5px;        padding: 2px 5px;        display: block;        margin: 3px 2px;        }    .spark-nlp-display-entity-type{        font-size: 14px;        line-height: 24px;        color: #ffffff;        font-family: \\'Montserrat\\', sans-serif !important;                text-transform: uppercase;                font-weight: 500;        display: block;        padding: 3px 5px;    }        .spark-nlp-display-entity-resolution{        font-size: 14px;        line-height: 24px;        color: #ffffff;        font-family: \\'Vistol Regular\\', sans-serif !important;                text-transform: uppercase;                font-weight: 500;        display: block;        padding: 3px 5px;    }        .spark-nlp-display-others{        font-size: 14px;        line-height: 24px;        font-family: \\'Montserrat\\', sans-serif !important;                font-weight: 400;    }</style> <span class=\"spark-nlp-display-others\" style=\"background-color: white\"><br>The address of the manufacturer:<br></span><span class=\"spark-nlp-display-entity-wrapper\" style=\"background-color: #C08A9F\"><span class=\"spark-nlp-display-entity-name\">R K Industry House, Walbhat Rd </span><span class=\"spark-nlp-display-entity-type\">LOCATION</span></span><span class=\"spark-nlp-display-others\" style=\"background-color: white\"><br></span><span class=\"spark-nlp-display-entity-wrapper\" style=\"background-color: #C08A9F\"><span class=\"spark-nlp-display-entity-name\">Mumbai, Maharashtra, India </span><span class=\"spark-nlp-display-entity-type\">LOCATION</span></span><span class=\"spark-nlp-display-others\" style=\"background-color: white\"><br></span></div>'\n"
     ]
    }
   ],
   "source": [
    "lmodel= nlp.LightPipeline(ner_converter_model)\n",
    "res = lmodel.fullAnnotate(text)[0]\n",
    "\n",
    "nlp.viz.NerVisualizer().display(res, 'chunk_deid', return_html = True).replace(\"\\n\",\"\")\n",
    "#copy/paste the output into next cell as markdown"
   ]
  },
  {
   "cell_type": "markdown",
   "metadata": {
    "execution": {
     "iopub.execute_input": "2023-08-30T21:07:20.319435Z",
     "iopub.status.busy": "2023-08-30T21:07:20.319112Z",
     "iopub.status.idle": "2023-08-30T21:07:20.325881Z",
     "shell.execute_reply": "2023-08-30T21:07:20.325012Z",
     "shell.execute_reply.started": "2023-08-30T21:07:20.319401Z"
    },
    "tags": []
   },
   "source": [
    "<style>    @import url(\\'https://fonts.googleapis.com/css2?family=Montserrat:wght@300;400;500;600;700&display=swap\\');    @import url(\\'https://fonts.googleapis.com/css2?family=Vistol Regular:wght@300;400;500;600;700&display=swap\\');        .spark-nlp-display-scroll-entities {        border: 1px solid #E7EDF0;        border-radius: 3px;        text-align: justify;            }    .spark-nlp-display-scroll-entities span {          font-size: 14px;        line-height: 24px;        color: #536B76;        font-family: \\'Montserrat\\', sans-serif !important;    }        .spark-nlp-display-entity-wrapper{            display: inline-grid;        text-align: center;        border-radius: 4px;        margin: 0 2px 5px 2px;        padding: 1px    }    .spark-nlp-display-entity-name{        font-size: 14px;        line-height: 24px;        font-family: \\'Montserrat\\', sans-serif !important;                background: #f1f2f3;        border-width: medium;        text-align: center;                font-weight: 400;                border-radius: 5px;        padding: 2px 5px;        display: block;        margin: 3px 2px;        }    .spark-nlp-display-entity-type{        font-size: 14px;        line-height: 24px;        color: #ffffff;        font-family: \\'Montserrat\\', sans-serif !important;                text-transform: uppercase;                font-weight: 500;        display: block;        padding: 3px 5px;    }        .spark-nlp-display-entity-resolution{        font-size: 14px;        line-height: 24px;        color: #ffffff;        font-family: \\'Vistol Regular\\', sans-serif !important;                text-transform: uppercase;                font-weight: 500;        display: block;        padding: 3px 5px;    }        .spark-nlp-display-others{        font-size: 14px;        line-height: 24px;        font-family: \\'Montserrat\\', sans-serif !important;                font-weight: 400;    }</style> <span class=\"spark-nlp-display-others\" style=\"background-color: white\"><br>The address of the manufacturer:<br></span><span class=\"spark-nlp-display-entity-wrapper\" style=\"background-color: #C08A9F\"><span class=\"spark-nlp-display-entity-name\">R K Industry House, Walbhat Rd </span><span class=\"spark-nlp-display-entity-type\">LOCATION</span></span><span class=\"spark-nlp-display-others\" style=\"background-color: white\"><br></span><span class=\"spark-nlp-display-entity-wrapper\" style=\"background-color: #C08A9F\"><span class=\"spark-nlp-display-entity-name\">Mumbai, Maharashtra, India </span><span class=\"spark-nlp-display-entity-type\">LOCATION</span></span><span class=\"spark-nlp-display-others\" style=\"background-color: white\"><br></span></div>"
   ]
  },
  {
   "cell_type": "markdown",
   "metadata": {},
   "source": [
    "## Downloading Pretrained Models\n",
    "\n",
    "- When we use `.pretrained` method, model is downloaded to  a folder named `cache_pretrained` automatically and it is loaded from this folder if you run it again.\n",
    "\n",
    "- In order to download the models manually to any folder, you can use `ResourceDownloader.downloadModelDirectly` from `sparknlp.pretrained` or AWS CLI (steps below). In this case you should use `.load()` method.\n",
    "\n",
    "  - Install AWS CLI to your local computer following the steps [here](https://docs.aws.amazon.com/cli/latest/userguide/install-cliv2-linux.html) for Linux and [here](https://docs.aws.amazon.com/cli/latest/userguide/install-cliv2-mac.html) for MacOS.\n",
    "\n",
    "  - Then configure your AWS credentials.\n",
    "\n",
    "  - Go to models hub and look for the model you need.\n",
    "\n",
    "  - Select the model you found and you will see the model card that shows all the details about that model.\n",
    "\n",
    "  - Hover the Download button on that page and you will see the download link from the S3 bucket.\n"
   ]
  },
  {
   "cell_type": "code",
   "execution_count": null,
   "metadata": {
    "execution": {
     "iopub.execute_input": "2023-08-30T23:50:03.697708Z",
     "iopub.status.busy": "2023-08-30T23:50:03.697428Z",
     "iopub.status.idle": "2023-08-30T23:50:05.973803Z",
     "shell.execute_reply": "2023-08-30T23:50:05.973124Z",
     "shell.execute_reply.started": "2023-08-30T23:50:03.697676Z"
    },
    "tags": []
   },
   "outputs": [],
   "source": [
    "#The first argument is the path to the zip file and the second one is the folder.\n",
    "nlp.ResourceDownloader.downloadModelDirectly(\"clinical/models/ner_jsl_en_3.1.0_2.4_1624566960534.zip\", \"cache_pretrained\")\n",
    "\n",
    "\n",
    "#or you can use the classic AWS CLI\n",
    "# !aws s3 cp --region us-east-2 s3://auxdata.johnsnowlabs.com/clinical/models/ner_jsl_en_3.1.0_2.4_1624566960534.zip ."
   ]
  },
  {
   "cell_type": "markdown",
   "metadata": {},
   "source": [
    "## Training a Clinical NER (NCBI Disease Dataset)"
   ]
  },
  {
   "cell_type": "markdown",
   "metadata": {},
   "source": [
    "`CoNLL(includeDocId=True).readDataset(spark, \"conll_file.txt\")`  this methos can allow if you have doc_id information in the conll file, you can add this information to the dataframe as a column.\n",
    "\n",
    "```\n",
    "conll=\"\"\"-DOCSTART- -X- -1- O\n",
    "\n",
    "EU NNP B-NP B-ORG\n",
    "rejects VBZ B-VP O\n",
    "\n",
    "-DOCSTART- -X- 2 O\n",
    "\n",
    "Rare NNP B-NP O\n",
    "Hendrix NNP I-NP B-PER\n",
    "\n",
    "-DOCSTART- -X- -3-1- O\n",
    "\n",
    "China NNP B-NP B-LOC\n",
    "says VBZ B-VP O\n",
    "\n",
    "-DOCSTART-\n",
    "\n",
    "China NNP B-NP B-LOC\n",
    "says VBZ B-VP O\n",
    "\"\"\"\n",
    "```\n",
    "```\n",
    "with open('conll_file.txt', 'w') as f:\n",
    "    f.write(conll)\n",
    "\n",
    "data = CoNLL(includeDocId=True).readDataset(spark, \"conll_file.txt\")\n",
    "\n",
    "data.show()\n",
    "```\n",
    "\n",
    "\n",
    "\n",
    "```\n",
    "+------+--------------------+--------------------+--------------------+--------------------+--------------------+--------------------+\n",
    "|doc_id|                text|            document|            sentence|               token|                 pos|               label|\n",
    "+------+--------------------+--------------------+--------------------+--------------------+--------------------+--------------------+\n",
    "|     1|EU rejects German...|[{document, 0, 28...|[{document, 0, 47...|[{token, 0, 1, EU...|[{pos, 0, 1, NNP,...|[{named_entity, 0...|\n",
    "|     2|Rare Hendrix song...|[{document, 0, 97...|[{document, 0, 50...|[{token, 0, 3, Ra...|[{pos, 0, 3, NNP,...|[{named_entity, 0...|\n",
    "|   3-1|China says Taiwan...|[{document, 0, 13...|[{document, 0, 46...|[{token, 0, 4, Ch...|[{pos, 0, 4, NNP,...|[{named_entity, 0...|\n",
    "|     X|China says Taiwan...|[{document, 0, 13...|[{document, 0, 46...|[{token, 0, 4, Ch...|[{pos, 0, 4, NNP,...|[{named_entity, 0...|\n",
    "+------+--------------------+--------------------+--------------------+--------------------+--------------------+--------------------+\n",
    "```"
   ]
  },
  {
   "cell_type": "code",
   "execution_count": 122,
   "metadata": {
    "tags": []
   },
   "outputs": [],
   "source": [
    "#data source\n",
    "# !curl -o /tmp/NER_NCBIconlltrain.txt  https://raw.githubusercontent.com/JohnSnowLabs/spark-nlp-workshop/master/tutorials/Certification_Trainings/Healthcare/data/NER_NCBIconlltrain.txt\n",
    "# !curl -o /tmp/NER_NCBIconlltest.txt  https://raw.githubusercontent.com/JohnSnowLabs/spark-nlp-workshop/master/tutorials/Certification_Trainings/Healthcare/data/NER_NCBIconlltest.txt\n",
    "\n",
    "#these two data files should be uploaded to S3 buckets"
   ]
  },
  {
   "cell_type": "code",
   "execution_count": 5,
   "metadata": {
    "tags": []
   },
   "outputs": [
    {
     "name": "stdout",
     "output_type": "stream",
     "text": [
      "+--------------------+--------------------+--------------------+--------------------+--------------------+--------------------+\n",
      "|                text|            document|            sentence|               token|                 pos|               label|\n",
      "+--------------------+--------------------+--------------------+--------------------+--------------------+--------------------+\n",
      "|Identification of...|[{document, 0, 89...|[{document, 0, 89...|[{token, 0, 13, I...|[{pos, 0, 13, NN,...|[{named_entity, 0...|\n",
      "|The adenomatous p...|[{document, 0, 21...|[{document, 0, 21...|[{token, 0, 2, Th...|[{pos, 0, 2, NN, ...|[{named_entity, 0...|\n",
      "|Complex formation...|[{document, 0, 63...|[{document, 0, 63...|[{token, 0, 6, Co...|[{pos, 0, 6, NN, ...|[{named_entity, 0...|\n",
      "+--------------------+--------------------+--------------------+--------------------+--------------------+--------------------+\n",
      "only showing top 3 rows\n"
     ]
    }
   ],
   "source": [
    "conll_data = nlp.CoNLL().readDataset(spark, \"s3://<bucket>/rawdata/NER_NCBIconlltrain.txt\")  \n",
    "conll_data.show(3)"
   ]
  },
  {
   "cell_type": "code",
   "execution_count": 6,
   "metadata": {
    "tags": []
   },
   "outputs": [
    {
     "name": "stdout",
     "output_type": "stream",
     "text": [
      "3266\n"
     ]
    }
   ],
   "source": [
    "conll_data.count()"
   ]
  },
  {
   "cell_type": "code",
   "execution_count": 7,
   "metadata": {
    "tags": []
   },
   "outputs": [
    {
     "name": "stdout",
     "output_type": "stream",
     "text": [
      "+------------+-----+\n",
      "|ground_truth|count|\n",
      "+------------+-----+\n",
      "|O           |75093|\n",
      "|I-Disease   |3547 |\n",
      "|B-Disease   |3093 |\n",
      "+------------+-----+\n"
     ]
    }
   ],
   "source": [
    "\n",
    "conll_data.select(F.explode(F.arrays_zip(conll_data.token.result,\n",
    "                                         conll_data.label.result)).alias(\"cols\")) \\\n",
    "          .select(F.expr(\"cols['0']\").alias(\"token\"),\n",
    "                  F.expr(\"cols['1']\").alias(\"ground_truth\"))\\\n",
    "          .groupBy('ground_truth')\\\n",
    "          .count()\\\n",
    "          .orderBy('count', ascending=False)\\\n",
    "          .show(100,truncate=False)"
   ]
  },
  {
   "cell_type": "code",
   "execution_count": 25,
   "metadata": {
    "tags": []
   },
   "outputs": [
    {
     "name": "stdout",
     "output_type": "stream",
     "text": [
      "1537\n"
     ]
    }
   ],
   "source": [
    "conll_data.select(\"label.result\").distinct().count()"
   ]
  },
  {
   "cell_type": "code",
   "execution_count": null,
   "metadata": {
    "tags": []
   },
   "outputs": [],
   "source": [
    "'''\n",
    "As you can see, there are too many `O` labels in the dataset.\n",
    "To make it more balanced, we can drop the sentences have only O labels.\n",
    "(`c>1` means we drop all the sentences that have no valuable labels other than `O`)\n",
    "'''\n",
    "\n",
    "'''\n",
    "conll_data = conll_data.withColumn('unique', F.array_distinct(\"label.result\"))\\\n",
    "                       .withColumn('c', F.size('unique'))\\\n",
    "                       .filter(F.col('c')>1)\n",
    "\n",
    "conll_data.select(F.explode(F.arrays_zip(conll_data.token.result,conll_data.label.result)).alias(\"cols\")) \\\n",
    "          .select(F.expr(\"cols['0']\").alias(\"token\"),\n",
    "                  F.expr(\"cols['1']\").alias(\"ground_truth\"))\\\n",
    "          .groupBy('ground_truth')\\\n",
    "          .count()\\\n",
    "          .orderBy('count', ascending=False)\\\n",
    "          .show(100,truncate=False)\n",
    "'''"
   ]
  },
  {
   "cell_type": "code",
   "execution_count": 14,
   "metadata": {
    "tags": []
   },
   "outputs": [
    {
     "name": "stdout",
     "output_type": "stream",
     "text": [
      "embeddings_clinical download started this may take some time.\n",
      "Approximate size to download 1.6 GB\n",
      "[OK!]\n"
     ]
    }
   ],
   "source": [
    "# Clinical word embeddings trained on PubMED dataset\n",
    "clinical_embeddings = nlp.WordEmbeddingsModel.pretrained('embeddings_clinical', \"en\", \"clinical/models\")\\\n",
    "    .setInputCols([\"sentence\", \"token\"])\\\n",
    "    .setOutputCol(\"embeddings\").setEnableInMemoryStorage(True)"
   ]
  },
  {
   "cell_type": "code",
   "execution_count": 15,
   "metadata": {
    "tags": []
   },
   "outputs": [
    {
     "name": "stdout",
     "output_type": "stream",
     "text": [
      "\n"
     ]
    }
   ],
   "source": [
    "test_data = nlp.CoNLL().readDataset(spark, 's3://<bucket>/rawdata/NER_NCBIconlltest.txt')\n",
    "test_data = clinical_embeddings.transform(test_data)\n",
    "\n"
   ]
  },
  {
   "cell_type": "markdown",
   "metadata": {
    "tags": []
   },
   "source": [
    "### NERDL Graph\n"
   ]
  },
  {
   "cell_type": "markdown",
   "metadata": {},
   "source": [
    "We will use `TFGraphBuilder` annotator which can be used to create graphs in the model training pipeline. `TFGraphBuilder` inspects the data and creates the proper graph if a suitable version of TensorFlow is available. The graph is stored in the defined folder and loaded by the `MedicalNerApproach` annotator."
   ]
  },
  {
   "cell_type": "code",
   "execution_count": 26,
   "metadata": {
    "tags": []
   },
   "outputs": [],
   "source": [
    "# !pip install -q tensorflow==2.11.0\n",
    "# !pip install -q tensorflow-addons"
   ]
  },
  {
   "cell_type": "code",
   "execution_count": null,
   "metadata": {},
   "outputs": [],
   "source": [
    "# TensorFlow graph file (`.pb` extension) can be produced for NER training externally.\n",
    "# If this method is used, graph folder should be added to MedicalNerApproach training\n",
    "# model as `.setGraphFolder(graph_folder_path)` .\n",
    "\n",
    "'''\n",
    "medical.tf_graph.print_model_params(\"ner_dl\")\n",
    "\n",
    "graph_folder_path = \"medical_ner_graphs\"\n",
    "\n",
    "medical.tf_graph.build(\"ner_dl\",\n",
    "               build_params={\"embeddings_dim\": 200,\n",
    "                             \"nchars\": 85,\n",
    "                             \"ntags\": 3,\n",
    "                             \"is_medical\": 1},\n",
    "               model_location=graph_folder_path,\n",
    "               model_filename=\"auto\")\n",
    "'''"
   ]
  },
  {
   "cell_type": "code",
   "execution_count": null,
   "metadata": {},
   "outputs": [],
   "source": [
    "# for open source users\n",
    "\n",
    "'''\n",
    "!wget -q https://raw.githubusercontent.com/JohnSnowLabs/spark-nlp-workshop/master/jupyter/training/english/dl-ner/nerdl-graph/create_graph.py\n",
    "!wget -q https://raw.githubusercontent.com/JohnSnowLabs/spark-nlp-workshop/master/jupyter/training/english/dl-ner/nerdl-graph/dataset_encoder.py\n",
    "!wget -q https://raw.githubusercontent.com/JohnSnowLabs/spark-nlp-workshop/master/jupyter/training/english/dl-ner/nerdl-graph/ner_model.py\n",
    "!wget -q https://raw.githubusercontent.com/JohnSnowLabs/spark-nlp-workshop/master/jupyter/training/english/dl-ner/nerdl-graph/ner_model_saver.py\n",
    "!wget -q https://raw.githubusercontent.com/JohnSnowLabs/spark-nlp-workshop/master/jupyter/training/english/dl-ner/nerdl-graph/sentence_grouper.py\n",
    "\n",
    "!pip -q install tensorflow==1.15.0\n",
    "\n",
    "import create_graph\n",
    "\n",
    "ntags = 3 # number of labels\n",
    "embeddings_dim = 200\n",
    "nchars =83\n",
    "\n",
    "create_graph.create_graph(ntags, embeddings_dim, nchars)\n",
    "'''"
   ]
  },
  {
   "cell_type": "markdown",
   "metadata": {},
   "source": [
    "We will use `setEarlyStoppingCriterion` and `setEarlyStoppingPatience` parameters to stop training if it doesn't improve any more. Also, these parameters will provide us to save time and resources.\n",
    "\n",
    "- `setEarlyStoppingCriterion(float)`: This parameter is used to set the minimal improvement of the test metric to terminate training. The metric monitored is the same which is used to save the best best model (macro F1 if using test or validation set, loss otherwise). If it is F1, then training is stopped if `F1_current - F1_previous < earlyStoppingCriterion`. If monitoring loss, then training is stopped if `loss_previous - loss_current < earlyStoppingCriterion`. If earlyStoppingCriterion is `0`, then no early stopping is applied. Default is `0`.\n",
    "\n",
    "- `setEarlyStoppingPatience(int)`: This is the number of epoch without improvement which will be tolerated. Default is `0`, which means that early stopping will occur at the first time when performance in the current epoch is no better than in the previous epoch (taking earlyStoppingCriterion into account)."
   ]
  },
  {
   "cell_type": "code",
   "execution_count": 16,
   "metadata": {
    "tags": []
   },
   "outputs": [
    {
     "name": "stdout",
     "output_type": "stream",
     "text": [
      "\n"
     ]
    }
   ],
   "source": [
    "graph_folder_path = \"tfgraphs\"\n",
    "\n",
    "ner_graph_builder = medical.TFGraphBuilder()\\\n",
    "    .setModelName(\"ner_dl\")\\\n",
    "    .setInputCols([\"sentence\", \"token\", \"embeddings\"]) \\\n",
    "    .setLabelColumn(\"label\")\\\n",
    "    .setGraphFolder(graph_folder_path)\\\n",
    "    .setGraphFile(\"auto\")\\\n",
    "    .setHiddenUnitsNumber(20)\\\n",
    "    .setIsLicensed(True) # False -> if you want to use TFGraphBuilder with NerDLApproach"
   ]
  },
  {
   "cell_type": "code",
   "execution_count": 17,
   "metadata": {
    "tags": []
   },
   "outputs": [
    {
     "name": "stdout",
     "output_type": "stream",
     "text": [
      "\n"
     ]
    }
   ],
   "source": [
    "log_folder = \"training_logs\"  \n",
    "\n",
    "nerTagger = medical.NerApproach()\\\n",
    "    .setInputCols([\"sentence\", \"token\", \"embeddings\"])\\\n",
    "    .setLabelColumn(\"label\")\\\n",
    "    .setOutputCol(\"ner\")\\\n",
    "    .setMaxEpochs(30)\\\n",
    "    .setBatchSize(64)\\\n",
    "    .setRandomSeed(0)\\\n",
    "    .setVerbose(1)\\\n",
    "    .setValidationSplit(0.2)\\\n",
    "    .setEvaluationLogExtended(True) \\\n",
    "    .setEnableOutputLogs(True)\\\n",
    "    .setIncludeConfidence(True)\\\n",
    "    .setOutputLogsPath(log_folder)\\\n",
    "    .setUseBestModel(True)\\\n",
    "    .setEarlyStoppingCriterion(0.04)\\\n",
    "    .setEarlyStoppingPatience(3)\\\n",
    "    .setGraphFolder(graph_folder_path)\n",
    "\n",
    "# .setTestDataset(\"/user/hadoop/NER_NCBIconlltest.parquet\")\\\n",
    "   # .setEnableMemoryOptimizer(True) #>> if you have a limited memory and a large conll file, you can set this True to train batch by batch\n",
    "\n",
    "ner_pipeline = nlp.Pipeline(stages=[\n",
    "        clinical_embeddings,\n",
    "        ner_graph_builder,\n",
    "        nerTagger\n",
    " ])"
   ]
  },
  {
   "cell_type": "code",
   "execution_count": 140,
   "metadata": {
    "tags": []
   },
   "outputs": [],
   "source": [
    "ner_model = ner_pipeline.fit(conll_data)"
   ]
  },
  {
   "cell_type": "markdown",
   "metadata": {},
   "source": [
    "You can visit [1.4.Resume_MedicalNer_Model_Training.ipynb](https://github.com/JohnSnowLabs/spark-nlp-workshop/blob/master/tutorials/Certification_Trainings_JSL/Healthcare/1.4.Resume_MedicalNer_Model_Training.ipynb) notebook for fine-tuning pretrained NER models and more details of `MedicalNerApproach()` parameters."
   ]
  },
  {
   "cell_type": "markdown",
   "metadata": {},
   "source": [
    "If you get an error for incompatible TF graph, use [4.1 NerDL-Graph](https://github.com/JohnSnowLabs/spark-nlp-workshop/blob/master/tutorials/Certification_Trainings_JSL/Public/4.1_NerDL_Graph.ipynb) notebook in public folder to create a graph\n",
    "\n",
    "Licensed users can also use [17.Graph_builder_for_DL_models.ipynb](https://github.com/JohnSnowLabs/spark-nlp-workshop/blob/master/tutorials/Certification_Trainings_JSL/Healthcare/17.Graph_builder_for_DL_models.ipynb) to create TF graphs easily."
   ]
  },
  {
   "cell_type": "markdown",
   "metadata": {},
   "source": [
    "\n",
    "`getTrainingClassDistribution()` parameter returns the distribution of labels used when training the NER model."
   ]
  },
  {
   "cell_type": "code",
   "execution_count": 13,
   "metadata": {
    "tags": []
   },
   "outputs": [
    {
     "name": "stdout",
     "output_type": "stream",
     "text": [
      "{'O': 75093, 'B-Disease': 3093, 'I-Disease': 3547}\n"
     ]
    }
   ],
   "source": [
    "ner_model.stages[2].getTrainingClassDistribution()"
   ]
  },
  {
   "cell_type": "markdown",
   "metadata": {},
   "source": [
    "Let's check the results saved in the log file."
   ]
  },
  {
   "cell_type": "code",
   "execution_count": 14,
   "metadata": {
    "tags": []
   },
   "outputs": [
    {
     "name": "stdout",
     "output_type": "stream",
     "text": [
      "Name of the selected graph: /tmp/tfgraphs/blstm_3_200_20_85.pb\n",
      "Training started - total epochs: 30 - lr: 0.001 - batch size: 64 - labels: 3 - chars: 84 - training examples: 3266\n",
      "\n",
      "\n",
      "Epoch 1/30 started, lr: 0.001, dataset size: 3266\n",
      "\n",
      "\n",
      "Epoch 1/30 - 10.49s - loss: 510.60974 - avg training loss: 11.874645 - batches: 43\n",
      "Quality on validation dataset (20.0%), validation examples = 653\n",
      "time to finish evaluation: 1.33s\n",
      "Total validation loss: 75.7539\tAvg validation loss: 5.4110\n",
      "label\t tp\t fp\t fn\t prec\t rec\t f1\n",
      "I-Disease\t 0\t 0\t 642\t 0.0\t 0.0\t 0.0\n",
      "B-Disease\t 3\t 0\t 605\t 1.0\t 0.0049342103\t 0.009819967\n",
      "tp: 3 fp: 0 fn: 1247 labels: 2\n",
      "Macro-average\t prec: 0.5, rec: 0.0024671052, f1: 0.0049099834\n",
      "Micro-average\t prec: 1.0, rec: 0.0024, f1: 0.0047885077\n",
      "\n",
      "\n",
      "Epoch 2/30 started, lr: 9.950249E-4, dataset size: 3266\n",
      "\n",
      "\n",
      "Epoch 2/30 - 9.21s - loss: 278.00375 - avg training loss: 6.465204 - batches: 43\n",
      "Quality on validation dataset (20.0%), validation examples = 653\n",
      "time to finish evaluation: 0.85s\n",
      "Total validation loss: 51.3662\tAvg validation loss: 3.6690\n",
      "label\t tp\t fp\t fn\t prec\t rec\t f1\n",
      "I-Disease\t 202\t 102\t 440\t 0.6644737\t 0.31464174\t 0.42706132\n",
      "B-Disease\t 142\t 78\t 466\t 0.6454545\t 0.23355263\t 0.3429952\n",
      "tp: 344 fp: 180 fn: 906 labels: 2\n",
      "Macro-average\t prec: 0.6549641, rec: 0.2740972, f1: 0.38646284\n",
      "Micro-average\t prec: 0.65648854, rec: 0.2752, f1: 0.38782415\n",
      "\n",
      "\n",
      "Epoch 3/30 started, lr: 9.90099E-4, dataset size: 3266\n",
      "\n",
      "\n",
      "Epoch 3/30 - 8.43s - loss: 216.29443 - avg training loss: 5.030103 - batches: 43\n",
      "Quality on validation dataset (20.0%), validation examples = 653\n",
      "time to finish evaluation: 0.90s\n",
      "Total validation loss: 38.3074\tAvg validation loss: 2.7362\n",
      "label\t tp\t fp\t fn\t prec\t rec\t f1\n",
      "I-Disease\t 294\t 92\t 348\t 0.761658\t 0.45794392\t 0.57198447\n",
      "B-Disease\t 249\t 73\t 359\t 0.77329195\t 0.40953946\t 0.5354839\n",
      "tp: 543 fp: 165 fn: 707 labels: 2\n",
      "Macro-average\t prec: 0.767475, rec: 0.4337417, f1: 0.5542479\n",
      "Micro-average\t prec: 0.7669492, rec: 0.4344, f1: 0.5546476\n",
      "\n",
      "\n",
      "Epoch 4/30 started, lr: 9.852217E-4, dataset size: 3266\n",
      "\n",
      "\n",
      "Epoch 4/30 - 8.52s - loss: 173.27818 - avg training loss: 4.029725 - batches: 43\n",
      "Quality on validation dataset (20.0%), validation examples = 653\n",
      "time to finish evaluation: 0.82s\n",
      "Total validation loss: 31.4959\tAvg validation loss: 2.2497\n",
      "label\t tp\t fp\t fn\t prec\t rec\t f1\n",
      "I-Disease\t 373\t 102\t 269\t 0.7852632\t 0.5809969\t 0.6678603\n",
      "B-Disease\t 339\t 84\t 269\t 0.8014184\t 0.5575658\t 0.657614\n",
      "tp: 712 fp: 186 fn: 538 labels: 2\n",
      "Macro-average\t prec: 0.7933408, rec: 0.56928134, f1: 0.6628897\n",
      "Micro-average\t prec: 0.792873, rec: 0.5696, f1: 0.66294223\n",
      "\n",
      "\n",
      "Epoch 5/30 started, lr: 9.803922E-4, dataset size: 3266\n",
      "\n",
      "\n",
      "Epoch 5/30 - 8.57s - loss: 153.84613 - avg training loss: 3.577817 - batches: 43\n",
      "Quality on validation dataset (20.0%), validation examples = 653\n",
      "time to finish evaluation: 0.93s\n",
      "Total validation loss: 28.1437\tAvg validation loss: 2.0103\n",
      "label\t tp\t fp\t fn\t prec\t rec\t f1\n",
      "I-Disease\t 421\t 113\t 221\t 0.7883895\t 0.65576327\t 0.7159864\n",
      "B-Disease\t 392\t 91\t 216\t 0.8115942\t 0.6447368\t 0.71860677\n",
      "tp: 813 fp: 204 fn: 437 labels: 2\n",
      "Macro-average\t prec: 0.79999185, rec: 0.6502501, f1: 0.71739036\n",
      "Micro-average\t prec: 0.79941005, rec: 0.6504, f1: 0.7172474\n",
      "\n",
      "\n",
      "Epoch 6/30 started, lr: 9.756098E-4, dataset size: 3266\n",
      "\n",
      "\n",
      "Epoch 6/30 - 8.38s - loss: 140.89638 - avg training loss: 3.27666 - batches: 43\n",
      "Quality on validation dataset (20.0%), validation examples = 653\n",
      "time to finish evaluation: 0.82s\n",
      "Total validation loss: 25.2977\tAvg validation loss: 1.8070\n",
      "label\t tp\t fp\t fn\t prec\t rec\t f1\n",
      "I-Disease\t 417\t 76\t 225\t 0.84584177\t 0.64953274\t 0.7348018\n",
      "B-Disease\t 425\t 101\t 183\t 0.80798477\t 0.6990132\t 0.74955904\n",
      "tp: 842 fp: 177 fn: 408 labels: 2\n",
      "Macro-average\t prec: 0.82691324, rec: 0.67427295, f1: 0.7428329\n",
      "Micro-average\t prec: 0.8263003, rec: 0.6736, f1: 0.7421772\n",
      "\n",
      "\n",
      "Epoch 7/30 started, lr: 9.7087387E-4, dataset size: 3266\n",
      "\n",
      "\n",
      "Epoch 7/30 - 8.80s - loss: 129.86389 - avg training loss: 3.0200906 - batches: 43\n",
      "Quality on validation dataset (20.0%), validation examples = 653\n",
      "time to finish evaluation: 0.81s\n",
      "Total validation loss: 23.4462\tAvg validation loss: 1.6747\n",
      "label\t tp\t fp\t fn\t prec\t rec\t f1\n",
      "I-Disease\t 460\t 83\t 182\t 0.8471455\t 0.7165109\t 0.7763713\n",
      "B-Disease\t 437\t 95\t 171\t 0.8214286\t 0.71875\t 0.7666667\n",
      "tp: 897 fp: 178 fn: 353 labels: 2\n",
      "Macro-average\t prec: 0.83428705, rec: 0.71763045, f1: 0.7715742\n",
      "Micro-average\t prec: 0.8344186, rec: 0.7176, f1: 0.7716129\n",
      "\n",
      "\n",
      "Epoch 8/30 started, lr: 9.6618367E-4, dataset size: 3266\n",
      "\n",
      "\n",
      "Epoch 8/30 - 8.47s - loss: 120.75949 - avg training loss: 2.8083603 - batches: 43\n",
      "Quality on validation dataset (20.0%), validation examples = 653\n",
      "time to finish evaluation: 0.81s\n",
      "Total validation loss: 22.3200\tAvg validation loss: 1.5943\n",
      "label\t tp\t fp\t fn\t prec\t rec\t f1\n",
      "I-Disease\t 454\t 58\t 188\t 0.88671875\t 0.7071651\t 0.78682846\n",
      "B-Disease\t 473\t 120\t 135\t 0.79763913\t 0.77796054\t 0.787677\n",
      "tp: 927 fp: 178 fn: 323 labels: 2\n",
      "Macro-average\t prec: 0.84217894, rec: 0.74256283, f1: 0.78924\n",
      "Micro-average\t prec: 0.83891404, rec: 0.7416, f1: 0.7872611\n",
      "\n",
      "\n",
      "Epoch 9/30 started, lr: 9.615385E-4, dataset size: 3266\n",
      "\n",
      "\n",
      "Epoch 9/30 - 8.29s - loss: 115.3246 - avg training loss: 2.6819675 - batches: 43\n",
      "Quality on validation dataset (20.0%), validation examples = 653\n",
      "time to finish evaluation: 0.82s\n",
      "Total validation loss: 20.8236\tAvg validation loss: 1.4874\n",
      "label\t tp\t fp\t fn\t prec\t rec\t f1\n",
      "I-Disease\t 474\t 65\t 168\t 0.87940633\t 0.7383177\t 0.8027095\n",
      "B-Disease\t 480\t 109\t 128\t 0.8149406\t 0.7894737\t 0.80200505\n",
      "tp: 954 fp: 174 fn: 296 labels: 2\n",
      "Macro-average\t prec: 0.84717345, rec: 0.76389575, f1: 0.8033822\n",
      "Micro-average\t prec: 0.84574467, rec: 0.7632, f1: 0.80235493\n",
      "Early stopping: validation set macro F1 has not improved for more than 3 epochs\n",
      "Name of the selected graph: /tmp/tfgraphs/blstm_3_200_20_85.pb\n",
      "Training started - total epochs: 30 - lr: 0.001 - batch size: 64 - labels: 3 - chars: 84 - training examples: 3266\n",
      "\n",
      "\n",
      "Epoch 1/30 started, lr: 0.001, dataset size: 3266\n",
      "\n",
      "\n",
      "Epoch 1/30 - 10.38s - loss: 745.6843 - avg training loss: 17.341496 - batches: 43\n",
      "Quality on validation dataset (20.0%), validation examples = 653\n",
      "time to finish evaluation: 1.36s\n",
      "Total validation loss: 87.1830\tAvg validation loss: 6.2274\n",
      "label\t tp\t fp\t fn\t prec\t rec\t f1\n",
      "I-Disease\t 0\t 0\t 642\t 0.0\t 0.0\t 0.0\n",
      "B-Disease\t 0\t 0\t 608\t 0.0\t 0.0\t 0.0\n",
      "tp: 0 fp: 0 fn: 1250 labels: 2\n",
      "Macro-average\t prec: 0.0, rec: 0.0, f1: NaN\n",
      "Micro-average\t prec: 0.0, rec: 0.0, f1: 0.0\n",
      "\n",
      "\n",
      "Epoch 2/30 started, lr: 9.950249E-4, dataset size: 3266\n",
      "\n",
      "\n",
      "Epoch 2/30 - 8.22s - loss: 342.37878 - avg training loss: 7.9622974 - batches: 43\n",
      "Quality on validation dataset (20.0%), validation examples = 653\n",
      "time to finish evaluation: 0.83s\n",
      "Total validation loss: 62.8074\tAvg validation loss: 4.4862\n",
      "label\t tp\t fp\t fn\t prec\t rec\t f1\n",
      "I-Disease\t 74\t 30\t 568\t 0.71153843\t 0.115264796\t 0.19839144\n",
      "B-Disease\t 26\t 45\t 582\t 0.36619717\t 0.04276316\t 0.07658321\n",
      "tp: 100 fp: 75 fn: 1150 labels: 2\n",
      "Macro-average\t prec: 0.53886783, rec: 0.07901397, f1: 0.13781954\n",
      "Micro-average\t prec: 0.5714286, rec: 0.08, f1: 0.14035088\n",
      "\n",
      "\n",
      "Epoch 3/30 started, lr: 9.90099E-4, dataset size: 3266\n",
      "\n",
      "\n",
      "Epoch 3/30 - 8.15s - loss: 255.99086 - avg training loss: 5.9532757 - batches: 43\n",
      "Quality on validation dataset (20.0%), validation examples = 653\n",
      "time to finish evaluation: 0.83s\n",
      "Total validation loss: 47.5804\tAvg validation loss: 3.3986\n",
      "label\t tp\t fp\t fn\t prec\t rec\t f1\n",
      "I-Disease\t 292\t 141\t 350\t 0.6743649\t 0.45482865\t 0.54325587\n",
      "B-Disease\t 250\t 156\t 358\t 0.61576355\t 0.41118422\t 0.49309665\n",
      "tp: 542 fp: 297 fn: 708 labels: 2\n",
      "Macro-average\t prec: 0.64506423, rec: 0.43300644, f1: 0.51817936\n",
      "Micro-average\t prec: 0.6460072, rec: 0.4336, f1: 0.51890856\n",
      "\n",
      "\n",
      "Epoch 4/30 started, lr: 9.852217E-4, dataset size: 3266\n",
      "\n",
      "\n",
      "Epoch 4/30 - 8.43s - loss: 210.01564 - avg training loss: 4.8840847 - batches: 43\n",
      "Quality on validation dataset (20.0%), validation examples = 653\n",
      "time to finish evaluation: 0.82s\n",
      "Total validation loss: 39.9572\tAvg validation loss: 2.8541\n",
      "label\t tp\t fp\t fn\t prec\t rec\t f1\n",
      "I-Disease\t 269\t 63\t 373\t 0.810241\t 0.41900313\t 0.5523614\n",
      "B-Disease\t 266\t 111\t 342\t 0.7055703\t 0.4375\t 0.5401015\n",
      "tp: 535 fp: 174 fn: 715 labels: 2\n",
      "Macro-average\t prec: 0.7579056, rec: 0.42825156, f1: 0.54727024\n",
      "Micro-average\t prec: 0.7545839, rec: 0.428, f1: 0.546197\n",
      "\n",
      "\n",
      "Epoch 5/30 started, lr: 9.803922E-4, dataset size: 3266\n",
      "\n",
      "\n",
      "Epoch 5/30 - 8.07s - loss: 194.1644 - avg training loss: 4.515451 - batches: 43\n",
      "Quality on validation dataset (20.0%), validation examples = 653\n",
      "time to finish evaluation: 0.85s\n",
      "Total validation loss: 34.9252\tAvg validation loss: 2.4947\n",
      "label\t tp\t fp\t fn\t prec\t rec\t f1\n",
      "I-Disease\t 390\t 127\t 252\t 0.75435203\t 0.60747665\t 0.67299396\n",
      "B-Disease\t 385\t 124\t 223\t 0.7563851\t 0.6332237\t 0.68934643\n",
      "tp: 775 fp: 251 fn: 475 labels: 2\n",
      "Macro-average\t prec: 0.7553686, rec: 0.6203502, f1: 0.6812337\n",
      "Micro-average\t prec: 0.7553606, rec: 0.62, f1: 0.68101937\n",
      "\n",
      "\n",
      "Epoch 6/30 started, lr: 9.756098E-4, dataset size: 3266\n",
      "\n",
      "\n",
      "Epoch 6/30 - 8.00s - loss: 166.71658 - avg training loss: 3.8771298 - batches: 43\n",
      "Quality on validation dataset (20.0%), validation examples = 653\n",
      "time to finish evaluation: 0.82s\n",
      "Total validation loss: 32.8242\tAvg validation loss: 2.3446\n",
      "label\t tp\t fp\t fn\t prec\t rec\t f1\n",
      "I-Disease\t 365\t 73\t 277\t 0.8333333\t 0.5685358\t 0.6759259\n",
      "B-Disease\t 392\t 118\t 216\t 0.76862746\t 0.6447368\t 0.7012522\n",
      "tp: 757 fp: 191 fn: 493 labels: 2\n",
      "Macro-average\t prec: 0.8009804, rec: 0.6066363, f1: 0.6903922\n",
      "Micro-average\t prec: 0.7985232, rec: 0.6056, f1: 0.688808\n",
      "\n",
      "\n",
      "Epoch 7/30 started, lr: 9.7087387E-4, dataset size: 3266\n",
      "\n",
      "\n",
      "Epoch 7/30 - 8.03s - loss: 156.19899 - avg training loss: 3.6325347 - batches: 43\n",
      "Quality on validation dataset (20.0%), validation examples = 653\n",
      "time to finish evaluation: 0.82s\n",
      "Total validation loss: 30.0560\tAvg validation loss: 2.1469\n",
      "label\t tp\t fp\t fn\t prec\t rec\t f1\n",
      "I-Disease\t 434\t 105\t 208\t 0.8051948\t 0.67601246\t 0.7349704\n",
      "B-Disease\t 442\t 133\t 166\t 0.76869565\t 0.7269737\t 0.7472528\n",
      "tp: 876 fp: 238 fn: 374 labels: 2\n",
      "Macro-average\t prec: 0.7869452, rec: 0.7014931, f1: 0.7417662\n",
      "Micro-average\t prec: 0.7863555, rec: 0.7008, f1: 0.7411168\n",
      "\n",
      "\n",
      "Epoch 8/30 started, lr: 9.6618367E-4, dataset size: 3266\n",
      "\n",
      "\n",
      "Epoch 8/30 - 7.97s - loss: 144.29573 - avg training loss: 3.3557146 - batches: 43\n",
      "Quality on validation dataset (20.0%), validation examples = 653\n",
      "time to finish evaluation: 0.82s\n",
      "Total validation loss: 28.7692\tAvg validation loss: 2.0549\n",
      "label\t tp\t fp\t fn\t prec\t rec\t f1\n",
      "I-Disease\t 384\t 58\t 258\t 0.8687783\t 0.5981308\t 0.70848703\n",
      "B-Disease\t 407\t 107\t 201\t 0.7918288\t 0.6694079\t 0.7254902\n",
      "tp: 791 fp: 165 fn: 459 labels: 2\n",
      "Macro-average\t prec: 0.83030355, rec: 0.6337694, f1: 0.7188453\n",
      "Micro-average\t prec: 0.82740587, rec: 0.6328, f1: 0.7171351\n",
      "\n",
      "\n",
      "Epoch 9/30 started, lr: 9.615385E-4, dataset size: 3266\n",
      "\n",
      "\n",
      "Epoch 9/30 - 8.36s - loss: 135.36665 - avg training loss: 3.1480618 - batches: 43\n",
      "Quality on validation dataset (20.0%), validation examples = 653\n",
      "time to finish evaluation: 0.84s\n",
      "Total validation loss: 25.6656\tAvg validation loss: 1.8333\n",
      "label\t tp\t fp\t fn\t prec\t rec\t f1\n",
      "I-Disease\t 461\t 104\t 181\t 0.8159292\t 0.71806854\t 0.7638774\n",
      "B-Disease\t 446\t 114\t 162\t 0.79642856\t 0.73355263\t 0.76369864\n",
      "tp: 907 fp: 218 fn: 343 labels: 2\n",
      "Macro-average\t prec: 0.80617887, rec: 0.7258106, f1: 0.76388663\n",
      "Micro-average\t prec: 0.8062222, rec: 0.7256, f1: 0.7637895\n",
      "\n",
      "\n",
      "Epoch 10/30 started, lr: 9.569379E-4, dataset size: 3266\n",
      "\n",
      "\n",
      "Epoch 10/30 - 8.09s - loss: 129.32639 - avg training loss: 3.0075903 - batches: 43\n",
      "Quality on validation dataset (20.0%), validation examples = 653\n",
      "time to finish evaluation: 0.85s\n",
      "Total validation loss: 24.0715\tAvg validation loss: 1.7194\n",
      "label\t tp\t fp\t fn\t prec\t rec\t f1\n",
      "I-Disease\t 450\t 69\t 192\t 0.867052\t 0.7009346\t 0.77519387\n",
      "B-Disease\t 440\t 102\t 168\t 0.8118081\t 0.7236842\t 0.76521736\n",
      "tp: 890 fp: 171 fn: 360 labels: 2\n",
      "Macro-average\t prec: 0.8394301, rec: 0.71230936, f1: 0.7706627\n",
      "Micro-average\t prec: 0.8388313, rec: 0.712, f1: 0.77022934\n",
      "\n",
      "\n",
      "Epoch 11/30 started, lr: 9.5238106E-4, dataset size: 3266\n",
      "\n",
      "\n",
      "Epoch 11/30 - 8.08s - loss: 117.64569 - avg training loss: 2.7359464 - batches: 43\n",
      "Quality on validation dataset (20.0%), validation examples = 653\n",
      "time to finish evaluation: 0.83s\n",
      "Total validation loss: 22.2447\tAvg validation loss: 1.5889\n",
      "label\t tp\t fp\t fn\t prec\t rec\t f1\n",
      "I-Disease\t 476\t 72\t 166\t 0.8686131\t 0.741433\t 0.8\n",
      "B-Disease\t 478\t 110\t 130\t 0.81292516\t 0.7861842\t 0.79933107\n",
      "tp: 954 fp: 182 fn: 296 labels: 2\n",
      "Macro-average\t prec: 0.8407692, rec: 0.7638086, f1: 0.80044323\n",
      "Micro-average\t prec: 0.83978873, rec: 0.7632, f1: 0.79966474\n",
      "\n",
      "\n",
      "Epoch 12/30 started, lr: 9.478674E-4, dataset size: 3266\n",
      "\n",
      "\n",
      "Epoch 12/30 - 8.02s - loss: 116.28288 - avg training loss: 2.7042532 - batches: 43\n",
      "Quality on validation dataset (20.0%), validation examples = 653\n",
      "time to finish evaluation: 0.82s\n",
      "Total validation loss: 20.6073\tAvg validation loss: 1.4719\n",
      "label\t tp\t fp\t fn\t prec\t rec\t f1\n",
      "I-Disease\t 502\t 93\t 140\t 0.8436975\t 0.78193146\t 0.8116411\n",
      "B-Disease\t 487\t 109\t 121\t 0.8171141\t 0.8009868\t 0.8089701\n",
      "tp: 989 fp: 202 fn: 261 labels: 2\n",
      "Macro-average\t prec: 0.83040583, rec: 0.79145914, f1: 0.81046486\n",
      "Micro-average\t prec: 0.8303946, rec: 0.7912, f1: 0.8103236\n",
      "\n",
      "\n",
      "Epoch 13/30 started, lr: 9.433963E-4, dataset size: 3266\n",
      "\n",
      "\n",
      "Epoch 13/30 - 7.98s - loss: 108.19604 - avg training loss: 2.516187 - batches: 43\n",
      "Quality on validation dataset (20.0%), validation examples = 653\n",
      "time to finish evaluation: 0.81s\n",
      "Total validation loss: 19.7311\tAvg validation loss: 1.4094\n",
      "label\t tp\t fp\t fn\t prec\t rec\t f1\n",
      "I-Disease\t 498\t 76\t 144\t 0.8675958\t 0.7757009\t 0.8190789\n",
      "B-Disease\t 483\t 101\t 125\t 0.8270548\t 0.7944079\t 0.81040263\n",
      "tp: 981 fp: 177 fn: 269 labels: 2\n",
      "Macro-average\t prec: 0.8473253, rec: 0.78505445, f1: 0.8150022\n",
      "Micro-average\t prec: 0.84715027, rec: 0.7848, f1: 0.81478405\n",
      "Early stopping: validation set macro F1 has not improved for more than 3 epochs\n"
     ]
    }
   ],
   "source": [
    "import os\n",
    "log_file= os.listdir(\"training_logs\")[0]\n",
    "\n",
    "with open (f\"training_logs/{log_file}\") as f:\n",
    "  print(f.read())"
   ]
  },
  {
   "cell_type": "markdown",
   "metadata": {},
   "source": [
    "As you see above, our **earlyStopping** feature worked, trainining was terminated before 30th epoch."
   ]
  },
  {
   "cell_type": "markdown",
   "metadata": {},
   "source": [
    "### Evaluate your model"
   ]
  },
  {
   "cell_type": "code",
   "execution_count": 19,
   "metadata": {
    "tags": []
   },
   "outputs": [
    {
     "name": "stdout",
     "output_type": "stream",
     "text": [
      "\n"
     ]
    }
   ],
   "source": [
    "pred_df = ner_model.stages[2].transform(test_data)"
   ]
  },
  {
   "cell_type": "code",
   "execution_count": 20,
   "metadata": {
    "tags": []
   },
   "outputs": [
    {
     "name": "stdout",
     "output_type": "stream",
     "text": [
      "['text', 'document', 'sentence', 'token', 'pos', 'label', 'embeddings', 'ner']\n"
     ]
    }
   ],
   "source": [
    "pred_df.columns"
   ]
  },
  {
   "cell_type": "code",
   "execution_count": 21,
   "metadata": {
    "tags": []
   },
   "outputs": [
    {
     "name": "stdout",
     "output_type": "stream",
     "text": [
      "+-------+-----+-----+-----+-----+---------+------+------+\n",
      "| entity|   tp|   fp|   fn|total|precision|recall|    f1|\n",
      "+-------+-----+-----+-----+-----+---------+------+------+\n",
      "|Disease|496.0|189.0|208.0|704.0|   0.7241|0.7045|0.7142|\n",
      "+-------+-----+-----+-----+-----+---------+------+------+\n",
      "\n",
      "+------------------+\n",
      "|             macro|\n",
      "+------------------+\n",
      "|0.7141828653707704|\n",
      "+------------------+\n",
      "\n",
      "None\n",
      "+------------------+\n",
      "|             micro|\n",
      "+------------------+\n",
      "|0.7141828653707704|\n",
      "+------------------+\n",
      "\n",
      "None\n"
     ]
    }
   ],
   "source": [
    "evaler = medical.NerDLMetrics(mode=\"full_chunk\")\n",
    "\n",
    "eval_result = evaler.computeMetricsFromDF(pred_df.select(\"label\",\"ner\"), prediction_col=\"ner\", label_col=\"label\", drop_o = True, case_sensitive = True).cache()\n",
    "\n",
    "eval_result.withColumn(\"precision\", F.round(eval_result[\"precision\"],4))\\\n",
    "           .withColumn(\"recall\", F.round(eval_result[\"recall\"],4))\\\n",
    "           .withColumn(\"f1\", F.round(eval_result[\"f1\"],4)).show(100)\n",
    "\n",
    "print(eval_result.selectExpr(\"avg(f1) as macro\").show())\n",
    "print (eval_result.selectExpr(\"sum(f1*total) as sumprod\",\"sum(total) as sumtotal\").selectExpr(\"sumprod/sumtotal as micro\").show())"
   ]
  },
  {
   "cell_type": "code",
   "execution_count": 22,
   "metadata": {
    "tags": []
   },
   "outputs": [
    {
     "name": "stdout",
     "output_type": "stream",
     "text": [
      "+-------+------+-----+-----+------+---------+------+------+\n",
      "| entity|    tp|   fp|   fn| total|precision|recall|    f1|\n",
      "+-------+------+-----+-----+------+---------+------+------+\n",
      "|Disease|1166.0|141.0|331.0|1497.0|   0.8921|0.7789|0.8317|\n",
      "+-------+------+-----+-----+------+---------+------+------+\n",
      "\n",
      "+------------------+\n",
      "|             macro|\n",
      "+------------------+\n",
      "|0.8316690442225392|\n",
      "+------------------+\n",
      "\n",
      "None\n",
      "+------------------+\n",
      "|             micro|\n",
      "+------------------+\n",
      "|0.8316690442225392|\n",
      "+------------------+\n",
      "\n",
      "None\n"
     ]
    }
   ],
   "source": [
    "evaler = medical.NerDLMetrics(mode=\"partial_chunk_per_token\")\n",
    "\n",
    "eval_result = evaler.computeMetricsFromDF(pred_df.select(\"label\",\"ner\"), prediction_col=\"ner\", label_col=\"label\", drop_o = True, case_sensitive = True).cache()\n",
    "\n",
    "eval_result.withColumn(\"precision\", F.round(eval_result[\"precision\"],4))\\\n",
    "           .withColumn(\"recall\", F.round(eval_result[\"recall\"],4))\\\n",
    "           .withColumn(\"f1\", F.round(eval_result[\"f1\"],4)).show(100)\n",
    "\n",
    "print(eval_result.selectExpr(\"avg(f1) as macro\").show())\n",
    "print (eval_result.selectExpr(\"sum(f1*total) as sumprod\",\"sum(total) as sumtotal\").selectExpr(\"sumprod/sumtotal as micro\").show())"
   ]
  },
  {
   "cell_type": "markdown",
   "metadata": {},
   "source": [
    "`ner_utils`: This new module is used after NER training to calculate mertic chunkbase and plot training logs.\n",
    "\n",
    "`evaluate`: if verbose, returns overall performance, as well as performance per chunk type; otherwise, simply returns overall precision, recall, f1 scores\n",
    "\n",
    "`loss_plot`: Plots the figure of loss vs epochs\n",
    "\n",
    "`get_charts` : Plots the figures of metrics ( precision, recall, f1) vs epochs\n",
    "\n",
    "```\n",
    "import sparknlp_jsl\n",
    "from sparknlp_jsl.training_log_parser import ner_log_parser\n",
    "parser = ner_log_parser()\n",
    "\n",
    "pred_df = ner_model.stages[2].transform(test_data)\n",
    "\n",
    "pred_df = pred_df.select(F.explode(F.arrays_zip(pred_df.ner.result,\n",
    "                                                pred_df.label.result)).alias(\"cols\"))\\\n",
    "                 .select(F.expr(\"cols['0']\").alias(\"prediction\"),\n",
    "                         F.expr(\"cols['1']\").alias(\"ground_truth\"))\n",
    "                 \n",
    "df = pred_df.toPandas()\n",
    "\n",
    "\n",
    "metrics = parser.evaluate( df['prediction'].values, df['ground_truth'].values)\n",
    "\n",
    "parser.loss_plot(f\"./ner_logs/{log_file}\")\n",
    "\n",
    "parser.get_charts('./ner_logs/'+log_file)\n",
    "```"
   ]
  },
  {
   "cell_type": "code",
   "execution_count": 25,
   "metadata": {
    "tags": []
   },
   "outputs": [
    {
     "name": "stdout",
     "output_type": "stream",
     "text": [
      "\n"
     ]
    }
   ],
   "source": [
    "spark._jsc.hadoopConfiguration().set(\"mapred.output.committer.class\", \"org.apache.hadoop.mapred.DirectFileOutputCommitter\")"
   ]
  },
  {
   "cell_type": "code",
   "execution_count": 30,
   "metadata": {
    "tags": []
   },
   "outputs": [
    {
     "name": "stdout",
     "output_type": "stream",
     "text": [
      "\n"
     ]
    }
   ],
   "source": [
    "ner_model.stages[2].write().overwrite().save(\"s3://<bucket>/models/custom_NER_model/\")"
   ]
  },
  {
   "cell_type": "code",
   "execution_count": 32,
   "metadata": {
    "tags": []
   },
   "outputs": [
    {
     "name": "stdout",
     "output_type": "stream",
     "text": [
      "\n"
     ]
    }
   ],
   "source": [
    "document = nlp.DocumentAssembler()\\\n",
    "    .setInputCol(\"text\")\\\n",
    "    .setOutputCol(\"document\")\n",
    "\n",
    "sentence = nlp.SentenceDetector()\\\n",
    "    .setInputCols(['document'])\\\n",
    "    .setOutputCol('sentence')\n",
    "\n",
    "token = nlp.Tokenizer()\\\n",
    "    .setInputCols(['sentence'])\\\n",
    "    .setOutputCol('token')\n",
    "\n",
    "loaded_ner_model = medical.NerModel.load(\"s3://<bucket>/models/custom_NER_model/\")\\\n",
    "    .setInputCols([\"sentence\", \"token\", \"embeddings\"])\\\n",
    "    .setOutputCol(\"ner\")\n",
    "\n",
    "converter = medical.NerConverterInternal()\\\n",
    "    .setInputCols([\"document\", \"token\", \"ner\"])\\\n",
    "    .setOutputCol(\"ner_span\")\n",
    "\n",
    "ner_prediction_pipeline = nlp.Pipeline(stages=[\n",
    "    document,\n",
    "    sentence,\n",
    "    token,\n",
    "    clinical_embeddings,\n",
    "    loaded_ner_model,\n",
    "    converter])\n",
    "\n",
    "empty_data = spark.createDataFrame([['']]).toDF(\"text\")\n",
    "\n",
    "prediction_model = ner_prediction_pipeline.fit(empty_data)\n",
    "\n",
    "\n",
    "light_model = nlp.LightPipeline(prediction_model)"
   ]
  },
  {
   "cell_type": "code",
   "execution_count": 33,
   "metadata": {
    "tags": []
   },
   "outputs": [
    {
     "name": "stdout",
     "output_type": "stream",
     "text": [
      "[('metastatic breast cancer', 'Disease')]\n"
     ]
    }
   ],
   "source": [
    "text = \"She has a metastatic breast cancer\"\n",
    "\n",
    "result = light_model.fullAnnotate(text)[0]\n",
    "\n",
    "[(i.result, i.metadata['entity']) for i in result['ner_span']]"
   ]
  },
  {
   "cell_type": "markdown",
   "metadata": {},
   "source": [
    "## BertForTokenClassification NER models"
   ]
  },
  {
   "cell_type": "code",
   "execution_count": 39,
   "metadata": {
    "tags": []
   },
   "outputs": [
    {
     "name": "stdout",
     "output_type": "stream",
     "text": [
      "sentence_detector_dl_healthcare download started this may take some time.\n",
      "\n",
      "Approximate size to download 367.3 KB\n",
      "\n",
      "[OK!]\n",
      "\n",
      "bert_token_classifier_ner_clinical download started this may take some time.\n",
      "\n",
      "[OK!]\n"
     ]
    }
   ],
   "source": [
    "documentAssembler = nlp.DocumentAssembler()\\\n",
    "    .setInputCol(\"text\")\\\n",
    "    .setOutputCol(\"document\")\n",
    "\n",
    "sentenceDetector = nlp.SentenceDetectorDLModel.pretrained(\"sentence_detector_dl_healthcare\",\"en\",\"clinical/models\")\\\n",
    "    .setInputCols([\"document\"])\\\n",
    "    .setOutputCol(\"sentence\")\n",
    "\n",
    "tokenizer = nlp.Tokenizer()\\\n",
    "    .setInputCols(\"sentence\")\\\n",
    "    .setOutputCol(\"token\")\n",
    "\n",
    "tokenClassifier = medical.BertForTokenClassification.pretrained(\"bert_token_classifier_ner_clinical\", \"en\", \"clinical/models\")\\\n",
    "    .setInputCols(\"token\", \"sentence\")\\\n",
    "    .setOutputCol(\"ner\")\\\n",
    "    .setCaseSensitive(True)\n",
    "\n",
    "ner_converter = medical.NerConverterInternal()\\\n",
    "    .setInputCols([\"sentence\",\"token\",\"ner\"])\\\n",
    "    .setOutputCol(\"ner_chunk\")\n",
    "\n",
    "pipeline =  nlp.Pipeline(stages=[\n",
    "    documentAssembler,\n",
    "    sentenceDetector,\n",
    "    tokenizer,\n",
    "    tokenClassifier,\n",
    "    ner_converter\n",
    "    ])\n",
    "\n",
    "model = pipeline.fit(spark.createDataFrame([[\"\"]]).toDF(\"text\"))\n",
    "\n",
    "text = \"\"\"A 28-year-old female with a history of gestational diabetes mellitus diagnosed eight years prior to presentation and subsequent type two diabetes mellitus ( T2DM ), one prior episode of HTG-induced pancreatitis three years prior to presentation , associated with an acute hepatitis , and obesity with a body mass index ( BMI ) of 33.5 kg/m2 , presented with a one-week history of polyuria , polydipsia , poor appetite , and vomiting .\n",
    "Two weeks prior to presentation , she was treated with a five-day course of amoxicillin for a respiratory tract infection .\n",
    "She was on metformin , glipizide , and dapagliflozin for T2DM and atorvastatin and gemfibrozil for HTG . She had been on dapagliflozin for six months at the time of presentation .\n",
    "Physical examination on presentation was significant for dry oral mucosa ; significantly , her abdominal examination was benign with no tenderness , guarding , or rigidity .\n",
    "Pertinent laboratory findings on admission were : serum glucose 111 mg/dl , bicarbonate 18 mmol/l , anion gap 20 , creatinine 0.4 mg/dL , triglycerides 508 mg/dL , total cholesterol 122 mg/dL , glycated hemoglobin ( HbA1c ) 10% , and venous pH 7.27 .\n",
    "Serum lipase was normal at 43 U/L . Serum acetone levels could not be assessed as blood samples kept hemolyzing due to significant lipemia .\n",
    "The patient was initially admitted for starvation ketosis , as she reported poor oral intake for three days prior to admission .\n",
    "However , serum chemistry obtained six hours after presentation revealed her glucose was 186 mg/dL , the anion gap was still elevated at 21 , serum bicarbonate was 16 mmol/L , triglyceride level peaked at 2050 mg/dL , and lipase was 52 U/L .\n",
    "The β-hydroxybutyrate level was obtained and found to be elevated at 5.29 mmol/L - the original sample was centrifuged and the chylomicron layer removed prior to analysis due to interference from turbidity caused by lipemia again .\n",
    "The patient was treated with an insulin drip for euDKA and HTG with a reduction in the anion gap to 13 and triglycerides to 1400 mg/dL , within 24 hours .\n",
    "Her euDKA was thought to be precipitated by her respiratory tract infection in the setting of SGLT2 inhibitor use .\n",
    "The patient was seen by the endocrinology service and she was discharged on 40 units of insulin glargine at night , 12 units of insulin lispro with meals , and metformin 1000 mg two times a day .\n",
    "It was determined that all SGLT2 inhibitors should be discontinued indefinitely . She had close follow-up with endocrinology post discharge .\"\"\"\n",
    "\n",
    "res = model.transform(spark.createDataFrame([[text]]).toDF(\"text\"))"
   ]
  },
  {
   "cell_type": "code",
   "execution_count": 40,
   "metadata": {
    "tags": []
   },
   "outputs": [
    {
     "name": "stdout",
     "output_type": "stream",
     "text": [
      "+-----------+-----------------------------+---+---------+\n",
      "\n",
      "|sentence_id|chunk                        |end|ner_label|\n",
      "\n",
      "+-----------+-----------------------------+---+---------+\n",
      "\n",
      "|0          |gestational diabetes mellitus|67 |PROBLEM  |\n",
      "\n",
      "|0          |type two diabetes mellitus   |153|PROBLEM  |\n",
      "\n",
      "|0          |T2DM                         |160|PROBLEM  |\n",
      "\n",
      "|0          |HTG-induced pancreatitis     |209|PROBLEM  |\n",
      "\n",
      "|0          |an acute hepatitis           |280|PROBLEM  |\n",
      "\n",
      "|0          |obesity                      |294|PROBLEM  |\n",
      "\n",
      "|0          |a body mass index            |317|TEST     |\n",
      "\n",
      "|0          |BMI                          |323|TEST     |\n",
      "\n",
      "|0          |polyuria                     |387|PROBLEM  |\n",
      "\n",
      "|0          |polydipsia                   |400|PROBLEM  |\n",
      "\n",
      "|0          |poor appetite                |416|PROBLEM  |\n",
      "\n",
      "|0          |vomiting                     |431|PROBLEM  |\n",
      "\n",
      "|1          |amoxicillin                  |521|TREATMENT|\n",
      "\n",
      "|1          |a respiratory tract infection|555|PROBLEM  |\n",
      "\n",
      "|2          |metformin                    |578|TREATMENT|\n",
      "\n",
      "|2          |glipizide                    |590|TREATMENT|\n",
      "\n",
      "|2          |dapagliflozin                |610|TREATMENT|\n",
      "\n",
      "|2          |T2DM                         |619|PROBLEM  |\n",
      "\n",
      "|2          |atorvastatin                 |636|TREATMENT|\n",
      "\n",
      "|2          |gemfibrozil                  |652|TREATMENT|\n",
      "\n",
      "+-----------+-----------------------------+---+---------+\n",
      "\n",
      "only showing top 20 rows\n"
     ]
    }
   ],
   "source": [
    "res.select(F.explode(F.arrays_zip(res.ner_chunk.result, res.ner_chunk.begin, res.ner_chunk.end, res.ner_chunk.metadata)).alias(\"cols\")) \\\n",
    "   .select(F.expr(\"cols['3']['sentence']\").alias(\"sentence_id\"),\n",
    "           F.expr(\"cols['0']\").alias(\"chunk\"),\n",
    "           F.expr(\"cols['2']\").alias(\"end\"),\n",
    "           F.expr(\"cols['3']['entity']\").alias(\"ner_label\"))\\\n",
    "   .filter(\"ner_label!='O'\")\\\n",
    "   .show(truncate=False)"
   ]
  },
  {
   "cell_type": "code",
   "execution_count": 124,
   "metadata": {
    "tags": []
   },
   "outputs": [],
   "source": [
    "light_model = nlp.LightPipeline(model)\n",
    "\n",
    "light_result = light_model.fullAnnotate(text)\n",
    "\n",
    "\n",
    "visualiser = nlp.viz.NerVisualizer()\n",
    "\n",
    "visualiser.display(light_result[0], label_col='ner_chunk', document_col='document', save_path=\"display_bert_result.html\", return_html = True).replace(\"\\n\", \"\")\n",
    "\n",
    "# copy/paste the output into the next cell as markdown"
   ]
  },
  {
   "cell_type": "markdown",
   "metadata": {},
   "source": [
    "<style>    @import url(\\'https://fonts.googleapis.com/css2?family=Montserrat:wght@300;400;500;600;700&display=swap\\');    @import url(\\'https://fonts.googleapis.com/css2?family=Vistol Regular:wght@300;400;500;600;700&display=swap\\');        .spark-nlp-display-scroll-entities {        border: 1px solid #E7EDF0;        border-radius: 3px;        text-align: justify;            }    .spark-nlp-display-scroll-entities span {          font-size: 14px;        line-height: 24px;        color: #536B76;        font-family: \\'Montserrat\\', sans-serif !important;    }        .spark-nlp-display-entity-wrapper{            display: inline-grid;        text-align: center;        border-radius: 4px;        margin: 0 2px 5px 2px;        padding: 1px    }    .spark-nlp-display-entity-name{        font-size: 14px;        line-height: 24px;        font-family: \\'Montserrat\\', sans-serif !important;                background: #f1f2f3;        border-width: medium;        text-align: center;                font-weight: 400;                border-radius: 5px;        padding: 2px 5px;        display: block;        margin: 3px 2px;        }    .spark-nlp-display-entity-type{        font-size: 14px;        line-height: 24px;        color: #ffffff;        font-family: \\'Montserrat\\', sans-serif !important;                text-transform: uppercase;                font-weight: 500;        display: block;        padding: 3px 5px;    }        .spark-nlp-display-entity-resolution{        font-size: 14px;        line-height: 24px;        color: #ffffff;        font-family: \\'Vistol Regular\\', sans-serif !important;                text-transform: uppercase;                font-weight: 500;        display: block;        padding: 3px 5px;    }        .spark-nlp-display-others{        font-size: 14px;        line-height: 24px;        font-family: \\'Montserrat\\', sans-serif !important;                font-weight: 400;    }</style> <span class=\"spark-nlp-display-others\" style=\"background-color: white\">A 28-year-old female with a history of </span><span class=\"spark-nlp-display-entity-wrapper\" style=\"background-color: #800080\"><span class=\"spark-nlp-display-entity-name\">gestational diabetes mellitus </span><span class=\"spark-nlp-display-entity-type\">PROBLEM</span></span><span class=\"spark-nlp-display-others\" style=\"background-color: white\"> diagnosed eight years prior to presentation and subsequent </span><span class=\"spark-nlp-display-entity-wrapper\" style=\"background-color: #800080\"><span class=\"spark-nlp-display-entity-name\">type two diabetes mellitus </span><span class=\"spark-nlp-display-entity-type\">PROBLEM</span></span><span class=\"spark-nlp-display-others\" style=\"background-color: white\"> ( </span><span class=\"spark-nlp-display-entity-wrapper\" style=\"background-color: #800080\"><span class=\"spark-nlp-display-entity-name\">T2DM </span><span class=\"spark-nlp-display-entity-type\">PROBLEM</span></span><span class=\"spark-nlp-display-others\" style=\"background-color: white\"> ), one prior episode of </span><span class=\"spark-nlp-display-entity-wrapper\" style=\"background-color: #800080\"><span class=\"spark-nlp-display-entity-name\">HTG-induced pancreatitis </span><span class=\"spark-nlp-display-entity-type\">PROBLEM</span></span><span class=\"spark-nlp-display-others\" style=\"background-color: white\"> three years prior to presentation , associated with </span><span class=\"spark-nlp-display-entity-wrapper\" style=\"background-color: #800080\"><span class=\"spark-nlp-display-entity-name\">an acute hepatitis </span><span class=\"spark-nlp-display-entity-type\">PROBLEM</span></span><span class=\"spark-nlp-display-others\" style=\"background-color: white\"> , and </span><span class=\"spark-nlp-display-entity-wrapper\" style=\"background-color: #800080\"><span class=\"spark-nlp-display-entity-name\">obesity </span><span class=\"spark-nlp-display-entity-type\">PROBLEM</span></span><span class=\"spark-nlp-display-others\" style=\"background-color: white\"> with </span><span class=\"spark-nlp-display-entity-wrapper\" style=\"background-color: #77b5fe\"><span class=\"spark-nlp-display-entity-name\">a body mass index </span><span class=\"spark-nlp-display-entity-type\">TEST</span></span><span class=\"spark-nlp-display-others\" style=\"background-color: white\"> ( </span><span class=\"spark-nlp-display-entity-wrapper\" style=\"background-color: #77b5fe\"><span class=\"spark-nlp-display-entity-name\">BMI </span><span class=\"spark-nlp-display-entity-type\">TEST</span></span><span class=\"spark-nlp-display-others\" style=\"background-color: white\"> ) of 33.5 kg/m2 , presented with a one-week history of </span><span class=\"spark-nlp-display-entity-wrapper\" style=\"background-color: #800080\"><span class=\"spark-nlp-display-entity-name\">polyuria </span><span class=\"spark-nlp-display-entity-type\">PROBLEM</span></span><span class=\"spark-nlp-display-others\" style=\"background-color: white\"> , </span><span class=\"spark-nlp-display-entity-wrapper\" style=\"background-color: #800080\"><span class=\"spark-nlp-display-entity-name\">polydipsia </span><span class=\"spark-nlp-display-entity-type\">PROBLEM</span></span><span class=\"spark-nlp-display-others\" style=\"background-color: white\"> , </span><span class=\"spark-nlp-display-entity-wrapper\" style=\"background-color: #800080\"><span class=\"spark-nlp-display-entity-name\">poor appetite </span><span class=\"spark-nlp-display-entity-type\">PROBLEM</span></span><span class=\"spark-nlp-display-others\" style=\"background-color: white\"> , and </span><span class=\"spark-nlp-display-entity-wrapper\" style=\"background-color: #800080\"><span class=\"spark-nlp-display-entity-name\">vomiting </span><span class=\"spark-nlp-display-entity-type\">PROBLEM</span></span><span class=\"spark-nlp-display-others\" style=\"background-color: white\"> .<br>Two weeks prior to presentation , she was treated with a five-day course of </span><span class=\"spark-nlp-display-entity-wrapper\" style=\"background-color: #8b6673\"><span class=\"spark-nlp-display-entity-name\">amoxicillin </span><span class=\"spark-nlp-display-entity-type\">TREATMENT</span></span><span class=\"spark-nlp-display-others\" style=\"background-color: white\"> for </span><span class=\"spark-nlp-display-entity-wrapper\" style=\"background-color: #800080\"><span class=\"spark-nlp-display-entity-name\">a respiratory tract infection </span><span class=\"spark-nlp-display-entity-type\">PROBLEM</span></span><span class=\"spark-nlp-display-others\" style=\"background-color: white\"> .<br>She was on </span><span class=\"spark-nlp-display-entity-wrapper\" style=\"background-color: #8b6673\"><span class=\"spark-nlp-display-entity-name\">metformin </span><span class=\"spark-nlp-display-entity-type\">TREATMENT</span></span><span class=\"spark-nlp-display-others\" style=\"background-color: white\"> , </span><span class=\"spark-nlp-display-entity-wrapper\" style=\"background-color: #8b6673\"><span class=\"spark-nlp-display-entity-name\">glipizide </span><span class=\"spark-nlp-display-entity-type\">TREATMENT</span></span><span class=\"spark-nlp-display-others\" style=\"background-color: white\"> , and </span><span class=\"spark-nlp-display-entity-wrapper\" style=\"background-color: #8b6673\"><span class=\"spark-nlp-display-entity-name\">dapagliflozin </span><span class=\"spark-nlp-display-entity-type\">TREATMENT</span></span><span class=\"spark-nlp-display-others\" style=\"background-color: white\"> for </span><span class=\"spark-nlp-display-entity-wrapper\" style=\"background-color: #800080\"><span class=\"spark-nlp-display-entity-name\">T2DM </span><span class=\"spark-nlp-display-entity-type\">PROBLEM</span></span><span class=\"spark-nlp-display-others\" style=\"background-color: white\"> and </span><span class=\"spark-nlp-display-entity-wrapper\" style=\"background-color: #8b6673\"><span class=\"spark-nlp-display-entity-name\">atorvastatin </span><span class=\"spark-nlp-display-entity-type\">TREATMENT</span></span><span class=\"spark-nlp-display-others\" style=\"background-color: white\"> and </span><span class=\"spark-nlp-display-entity-wrapper\" style=\"background-color: #8b6673\"><span class=\"spark-nlp-display-entity-name\">gemfibrozil </span><span class=\"spark-nlp-display-entity-type\">TREATMENT</span></span><span class=\"spark-nlp-display-others\" style=\"background-color: white\"> for </span><span class=\"spark-nlp-display-entity-wrapper\" style=\"background-color: #800080\"><span class=\"spark-nlp-display-entity-name\">HTG </span><span class=\"spark-nlp-display-entity-type\">PROBLEM</span></span><span class=\"spark-nlp-display-others\" style=\"background-color: white\"> . She had been on </span><span class=\"spark-nlp-display-entity-wrapper\" style=\"background-color: #8b6673\"><span class=\"spark-nlp-display-entity-name\">dapagliflozin </span><span class=\"spark-nlp-display-entity-type\">TREATMENT</span></span><span class=\"spark-nlp-display-others\" style=\"background-color: white\"> for six months at the time of presentation .<br></span><span class=\"spark-nlp-display-entity-wrapper\" style=\"background-color: #77b5fe\"><span class=\"spark-nlp-display-entity-name\">Physical examination </span><span class=\"spark-nlp-display-entity-type\">TEST</span></span><span class=\"spark-nlp-display-others\" style=\"background-color: white\"> on presentation was significant for </span><span class=\"spark-nlp-display-entity-wrapper\" style=\"background-color: #800080\"><span class=\"spark-nlp-display-entity-name\">dry oral mucosa </span><span class=\"spark-nlp-display-entity-type\">PROBLEM</span></span><span class=\"spark-nlp-display-others\" style=\"background-color: white\"> ; significantly , </span><span class=\"spark-nlp-display-entity-wrapper\" style=\"background-color: #77b5fe\"><span class=\"spark-nlp-display-entity-name\">her abdominal examination </span><span class=\"spark-nlp-display-entity-type\">TEST</span></span><span class=\"spark-nlp-display-others\" style=\"background-color: white\"> was benign with no </span><span class=\"spark-nlp-display-entity-wrapper\" style=\"background-color: #800080\"><span class=\"spark-nlp-display-entity-name\">tenderness </span><span class=\"spark-nlp-display-entity-type\">PROBLEM</span></span><span class=\"spark-nlp-display-others\" style=\"background-color: white\"> , </span><span class=\"spark-nlp-display-entity-wrapper\" style=\"background-color: #800080\"><span class=\"spark-nlp-display-entity-name\">guarding </span><span class=\"spark-nlp-display-entity-type\">PROBLEM</span></span><span class=\"spark-nlp-display-others\" style=\"background-color: white\"> , or </span><span class=\"spark-nlp-display-entity-wrapper\" style=\"background-color: #800080\"><span class=\"spark-nlp-display-entity-name\">rigidity </span><span class=\"spark-nlp-display-entity-type\">PROBLEM</span></span><span class=\"spark-nlp-display-others\" style=\"background-color: white\"> .<br>Pertinent laboratory findings on admission were : </span><span class=\"spark-nlp-display-entity-wrapper\" style=\"background-color: #77b5fe\"><span class=\"spark-nlp-display-entity-name\">serum glucose </span><span class=\"spark-nlp-display-entity-type\">TEST</span></span><span class=\"spark-nlp-display-others\" style=\"background-color: white\"> 111 mg/dl , </span><span class=\"spark-nlp-display-entity-wrapper\" style=\"background-color: #77b5fe\"><span class=\"spark-nlp-display-entity-name\">bicarbonate </span><span class=\"spark-nlp-display-entity-type\">TEST</span></span><span class=\"spark-nlp-display-others\" style=\"background-color: white\"> 18 mmol/l , </span><span class=\"spark-nlp-display-entity-wrapper\" style=\"background-color: #77b5fe\"><span class=\"spark-nlp-display-entity-name\">anion gap </span><span class=\"spark-nlp-display-entity-type\">TEST</span></span><span class=\"spark-nlp-display-others\" style=\"background-color: white\"> 20 , </span><span class=\"spark-nlp-display-entity-wrapper\" style=\"background-color: #77b5fe\"><span class=\"spark-nlp-display-entity-name\">creatinine </span><span class=\"spark-nlp-display-entity-type\">TEST</span></span><span class=\"spark-nlp-display-others\" style=\"background-color: white\"> 0.4 mg/dL , </span><span class=\"spark-nlp-display-entity-wrapper\" style=\"background-color: #77b5fe\"><span class=\"spark-nlp-display-entity-name\">triglycerides </span><span class=\"spark-nlp-display-entity-type\">TEST</span></span><span class=\"spark-nlp-display-others\" style=\"background-color: white\"> 508 mg/dL , </span><span class=\"spark-nlp-display-entity-wrapper\" style=\"background-color: #77b5fe\"><span class=\"spark-nlp-display-entity-name\">total cholesterol </span><span class=\"spark-nlp-display-entity-type\">TEST</span></span><span class=\"spark-nlp-display-others\" style=\"background-color: white\"> 122 mg/dL , </span><span class=\"spark-nlp-display-entity-wrapper\" style=\"background-color: #77b5fe\"><span class=\"spark-nlp-display-entity-name\">glycated hemoglobin ( </span><span class=\"spark-nlp-display-entity-type\">TEST</span></span><span class=\"spark-nlp-display-others\" style=\"background-color: white\"> </span><span class=\"spark-nlp-display-entity-wrapper\" style=\"background-color: #77b5fe\"><span class=\"spark-nlp-display-entity-name\">HbA1c </span><span class=\"spark-nlp-display-entity-type\">TEST</span></span><span class=\"spark-nlp-display-others\" style=\"background-color: white\"> </span><span class=\"spark-nlp-display-entity-wrapper\" style=\"background-color: #77b5fe\"><span class=\"spark-nlp-display-entity-name\">) </span><span class=\"spark-nlp-display-entity-type\">TEST</span></span><span class=\"spark-nlp-display-others\" style=\"background-color: white\"> 10% , and </span><span class=\"spark-nlp-display-entity-wrapper\" style=\"background-color: #77b5fe\"><span class=\"spark-nlp-display-entity-name\">venous pH </span><span class=\"spark-nlp-display-entity-type\">TEST</span></span><span class=\"spark-nlp-display-others\" style=\"background-color: white\"> 7.27 .<br></span><span class=\"spark-nlp-display-entity-wrapper\" style=\"background-color: #77b5fe\"><span class=\"spark-nlp-display-entity-name\">Serum lipase </span><span class=\"spark-nlp-display-entity-type\">TEST</span></span><span class=\"spark-nlp-display-others\" style=\"background-color: white\"> was normal at 43 U/L . </span><span class=\"spark-nlp-display-entity-wrapper\" style=\"background-color: #77b5fe\"><span class=\"spark-nlp-display-entity-name\">Serum acetone levels </span><span class=\"spark-nlp-display-entity-type\">TEST</span></span><span class=\"spark-nlp-display-others\" style=\"background-color: white\"> could not be assessed as </span><span class=\"spark-nlp-display-entity-wrapper\" style=\"background-color: #77b5fe\"><span class=\"spark-nlp-display-entity-name\">blood samples </span><span class=\"spark-nlp-display-entity-type\">TEST</span></span><span class=\"spark-nlp-display-others\" style=\"background-color: white\"> kept </span><span class=\"spark-nlp-display-entity-wrapper\" style=\"background-color: #77b5fe\"><span class=\"spark-nlp-display-entity-name\">hemolyzing </span><span class=\"spark-nlp-display-entity-type\">TEST</span></span><span class=\"spark-nlp-display-others\" style=\"background-color: white\"> due to </span><span class=\"spark-nlp-display-entity-wrapper\" style=\"background-color: #800080\"><span class=\"spark-nlp-display-entity-name\">significant lipemia </span><span class=\"spark-nlp-display-entity-type\">PROBLEM</span></span><span class=\"spark-nlp-display-others\" style=\"background-color: white\"> .<br>The patient was initially admitted for </span><span class=\"spark-nlp-display-entity-wrapper\" style=\"background-color: #800080\"><span class=\"spark-nlp-display-entity-name\">starvation ketosis </span><span class=\"spark-nlp-display-entity-type\">PROBLEM</span></span><span class=\"spark-nlp-display-others\" style=\"background-color: white\"> , as she reported </span><span class=\"spark-nlp-display-entity-wrapper\" style=\"background-color: #800080\"><span class=\"spark-nlp-display-entity-name\">poor oral intake </span><span class=\"spark-nlp-display-entity-type\">PROBLEM</span></span><span class=\"spark-nlp-display-others\" style=\"background-color: white\"> for three days prior to admission .<br>However , </span><span class=\"spark-nlp-display-entity-wrapper\" style=\"background-color: #77b5fe\"><span class=\"spark-nlp-display-entity-name\">serum chemistry </span><span class=\"spark-nlp-display-entity-type\">TEST</span></span><span class=\"spark-nlp-display-others\" style=\"background-color: white\"> obtained six hours after presentation revealed </span><span class=\"spark-nlp-display-entity-wrapper\" style=\"background-color: #77b5fe\"><span class=\"spark-nlp-display-entity-name\">her glucose </span><span class=\"spark-nlp-display-entity-type\">TEST</span></span><span class=\"spark-nlp-display-others\" style=\"background-color: white\"> was 186 mg/dL , </span><span class=\"spark-nlp-display-entity-wrapper\" style=\"background-color: #77b5fe\"><span class=\"spark-nlp-display-entity-name\">the anion gap </span><span class=\"spark-nlp-display-entity-type\">TEST</span></span><span class=\"spark-nlp-display-others\" style=\"background-color: white\"> was still </span><span class=\"spark-nlp-display-entity-wrapper\" style=\"background-color: #800080\"><span class=\"spark-nlp-display-entity-name\">elevated </span><span class=\"spark-nlp-display-entity-type\">PROBLEM</span></span><span class=\"spark-nlp-display-others\" style=\"background-color: white\"> at 21 , </span><span class=\"spark-nlp-display-entity-wrapper\" style=\"background-color: #77b5fe\"><span class=\"spark-nlp-display-entity-name\">serum bicarbonate </span><span class=\"spark-nlp-display-entity-type\">TEST</span></span><span class=\"spark-nlp-display-others\" style=\"background-color: white\"> was 16 mmol/L , </span><span class=\"spark-nlp-display-entity-wrapper\" style=\"background-color: #77b5fe\"><span class=\"spark-nlp-display-entity-name\">triglyceride level </span><span class=\"spark-nlp-display-entity-type\">TEST</span></span><span class=\"spark-nlp-display-others\" style=\"background-color: white\"> peaked at 2050 mg/dL , and </span><span class=\"spark-nlp-display-entity-wrapper\" style=\"background-color: #77b5fe\"><span class=\"spark-nlp-display-entity-name\">lipase </span><span class=\"spark-nlp-display-entity-type\">TEST</span></span><span class=\"spark-nlp-display-others\" style=\"background-color: white\"> was 52 U/L .<br></span><span class=\"spark-nlp-display-entity-wrapper\" style=\"background-color: #77b5fe\"><span class=\"spark-nlp-display-entity-name\">The β-hydroxybutyrate level </span><span class=\"spark-nlp-display-entity-type\">TEST</span></span><span class=\"spark-nlp-display-others\" style=\"background-color: white\"> was obtained and found to be </span><span class=\"spark-nlp-display-entity-wrapper\" style=\"background-color: #800080\"><span class=\"spark-nlp-display-entity-name\">elevated </span><span class=\"spark-nlp-display-entity-type\">PROBLEM</span></span><span class=\"spark-nlp-display-others\" style=\"background-color: white\"> at 5.29 mmol/L - the original sample was centrifuged and </span><span class=\"spark-nlp-display-entity-wrapper\" style=\"background-color: #8b6673\"><span class=\"spark-nlp-display-entity-name\">the chylomicron layer </span><span class=\"spark-nlp-display-entity-type\">TREATMENT</span></span><span class=\"spark-nlp-display-others\" style=\"background-color: white\"> removed prior to </span><span class=\"spark-nlp-display-entity-wrapper\" style=\"background-color: #77b5fe\"><span class=\"spark-nlp-display-entity-name\">analysis </span><span class=\"spark-nlp-display-entity-type\">TEST</span></span><span class=\"spark-nlp-display-others\" style=\"background-color: white\"> due to interference from </span><span class=\"spark-nlp-display-entity-wrapper\" style=\"background-color: #800080\"><span class=\"spark-nlp-display-entity-name\">turbidity </span><span class=\"spark-nlp-display-entity-type\">PROBLEM</span></span><span class=\"spark-nlp-display-others\" style=\"background-color: white\"> caused by </span><span class=\"spark-nlp-display-entity-wrapper\" style=\"background-color: #800080\"><span class=\"spark-nlp-display-entity-name\">lipemia </span><span class=\"spark-nlp-display-entity-type\">PROBLEM</span></span><span class=\"spark-nlp-display-others\" style=\"background-color: white\"> again .<br>The patient was treated with </span><span class=\"spark-nlp-display-entity-wrapper\" style=\"background-color: #8b6673\"><span class=\"spark-nlp-display-entity-name\">an insulin drip </span><span class=\"spark-nlp-display-entity-type\">TREATMENT</span></span><span class=\"spark-nlp-display-others\" style=\"background-color: white\"> for </span><span class=\"spark-nlp-display-entity-wrapper\" style=\"background-color: #800080\"><span class=\"spark-nlp-display-entity-name\">euDKA </span><span class=\"spark-nlp-display-entity-type\">PROBLEM</span></span><span class=\"spark-nlp-display-others\" style=\"background-color: white\"> and </span><span class=\"spark-nlp-display-entity-wrapper\" style=\"background-color: #800080\"><span class=\"spark-nlp-display-entity-name\">HTG </span><span class=\"spark-nlp-display-entity-type\">PROBLEM</span></span><span class=\"spark-nlp-display-others\" style=\"background-color: white\"> with a reduction in </span><span class=\"spark-nlp-display-entity-wrapper\" style=\"background-color: #77b5fe\"><span class=\"spark-nlp-display-entity-name\">the anion gap </span><span class=\"spark-nlp-display-entity-type\">TEST</span></span><span class=\"spark-nlp-display-others\" style=\"background-color: white\"> to 13 and </span><span class=\"spark-nlp-display-entity-wrapper\" style=\"background-color: #77b5fe\"><span class=\"spark-nlp-display-entity-name\">triglycerides </span><span class=\"spark-nlp-display-entity-type\">TEST</span></span><span class=\"spark-nlp-display-others\" style=\"background-color: white\"> to 1400 mg/dL , within 24 hours .<br></span><span class=\"spark-nlp-display-entity-wrapper\" style=\"background-color: #800080\"><span class=\"spark-nlp-display-entity-name\">Her euDKA </span><span class=\"spark-nlp-display-entity-type\">PROBLEM</span></span><span class=\"spark-nlp-display-others\" style=\"background-color: white\"> was thought to be precipitated by </span><span class=\"spark-nlp-display-entity-wrapper\" style=\"background-color: #800080\"><span class=\"spark-nlp-display-entity-name\">her respiratory tract infection </span><span class=\"spark-nlp-display-entity-type\">PROBLEM</span></span><span class=\"spark-nlp-display-others\" style=\"background-color: white\"> in the setting of </span><span class=\"spark-nlp-display-entity-wrapper\" style=\"background-color: #8b6673\"><span class=\"spark-nlp-display-entity-name\">SGLT2 inhibitor use </span><span class=\"spark-nlp-display-entity-type\">TREATMENT</span></span><span class=\"spark-nlp-display-others\" style=\"background-color: white\"> .<br>The patient was seen by the endocrinology service and she was discharged on 40 units of </span><span class=\"spark-nlp-display-entity-wrapper\" style=\"background-color: #8b6673\"><span class=\"spark-nlp-display-entity-name\">insulin glargine </span><span class=\"spark-nlp-display-entity-type\">TREATMENT</span></span><span class=\"spark-nlp-display-others\" style=\"background-color: white\"> at night , 12 units of </span><span class=\"spark-nlp-display-entity-wrapper\" style=\"background-color: #8b6673\"><span class=\"spark-nlp-display-entity-name\">insulin lispro </span><span class=\"spark-nlp-display-entity-type\">TREATMENT</span></span><span class=\"spark-nlp-display-others\" style=\"background-color: white\"> with meals , and </span><span class=\"spark-nlp-display-entity-wrapper\" style=\"background-color: #8b6673\"><span class=\"spark-nlp-display-entity-name\">metformin </span><span class=\"spark-nlp-display-entity-type\">TREATMENT</span></span><span class=\"spark-nlp-display-others\" style=\"background-color: white\"> 1000 mg two times a day .<br>It was determined that </span><span class=\"spark-nlp-display-entity-wrapper\" style=\"background-color: #8b6673\"><span class=\"spark-nlp-display-entity-name\">all </span><span class=\"spark-nlp-display-entity-type\">TREATMENT</span></span><span class=\"spark-nlp-display-others\" style=\"background-color: white\"> </span><span class=\"spark-nlp-display-entity-wrapper\" style=\"background-color: #8b6673\"><span class=\"spark-nlp-display-entity-name\">SGLT2 inhibitors </span><span class=\"spark-nlp-display-entity-type\">TREATMENT</span></span><span class=\"spark-nlp-display-others\" style=\"background-color: white\"> should be discontinued indefinitely . She had close follow-up with endocrinology post discharge .</span></div>"
   ]
  },
  {
   "cell_type": "markdown",
   "metadata": {},
   "source": [
    "**Training Clinical BertForTokenClassification Model**\n",
    "\n",
    "For training own BertForTokenClassification NER model, you can check [this notebook](https://github.com/JohnSnowLabs/spark-nlp-workshop/blob/master/tutorials/Certification_Trainings_JSL/Healthcare/1.5.BertForTokenClassification_NER_SparkNLP_with_Transformers.ipynb)"
   ]
  },
  {
   "cell_type": "markdown",
   "metadata": {},
   "source": [
    "## Pretrained NER Profiling Pipelines\n",
    "\n",
    "We can use pretrained NER profiling pipelines for exploring all the available pretrained NER models at once. In Spark NLP we have two different NER profiling pipelines;\n",
    "\n",
    "- `ner_profiling_clinical` : Returns results for clinical NER models trained with `embeddings_clinical`.\n",
    "- `ner_profiling_biobert` : Returns results for clinical NER models trained with `biobert_pubmed_base_cased`.\n",
    "\n",
    "For more examples, please check [this notebook](https://github.com/JohnSnowLabs/spark-nlp-workshop/blob/master/tutorials/Certification_Trainings_JSL/Healthcare/11.2.Pretrained_NER_Profiling_Pipelines.ipynb).\n",
    "\n",
    "\n",
    "\n"
   ]
  },
  {
   "cell_type": "markdown",
   "metadata": {},
   "source": [
    "<center><b>NER Profiling Clinical Model List</b>\n",
    "\n",
    "|| | | |\n",
    "|--------------|-----------------|-----------------|-----------------|\n",
    "| jsl_ner_wip_clinical               | jsl_ner_wip_greedy_clinical                    | jsl_rd_ner_wip_greedy_clinical   | jsl_ner_wip_modifier_clinical |\n",
    "| ner_abbreviation_clinical          | ner_ade_binary                                 | ner_ade_clinical                 | ner_anatomy          |\n",
    "| ner_anatomy_coarse                  | ner_bacterial_species                          | ner_biomedical_bc2gm             | ner_biomarker        |\n",
    "| ner_bionlp                          | ner_chemicals                                  | ner_chemd_clinical               | ner_chemprot_clinical|\n",
    "| ner_chexpert                        | ner_clinical                                   | ner_clinical_large               | ner_clinical_trials_abstracts  |\n",
    "| ner_covid_trials                    | ner_deid_augmented                             | ner_deid_enriched                | ner_deid_generic_augmented |\n",
    "| ner_deid_large                      | ner_deid_sd                                    | ner_deid_sd_large                | ner_deid_subentity_augmented |\n",
    "| ner_deid_subentity_augmented        | ner_deid_subentity_augmented_i2b2              | ner_diseases                     | ner_diseases_large   |\n",
    "| ner_drugprot_clinical               | ner_drugs                                      | ner_drugs_greedy                 | ner_drugs_large      |\n",
    "| ner_eu_clinical_case                | ner_eu_clinical_condition                       | ner_events_admission_clinical    | ner_events_clinical  |\n",
    "| ner_genetic_variants                | ner_human_phenotype_gene_clinical               | ner_human_phenotype_go_clinical  | ner_jsl              |\n",
    "| ner_jsl_enriched                    | ner_jsl_greedy                                 | ner_jsl_slim                     | ner_living_species   |\n",
    "| ner_measurements_clinical           | ner_medmentions_coarse                          | ner_nature_nero_clinical         | ner_nihss            |\n",
    "| ner_oncology                        | ner_oncology_anatomy_general                    | ner_oncology_anatomy_granular    | ner_oncology_biomarker |\n",
    "| ner_oncology_demographics           | ner_oncology_diagnosis                          | ner_oncology_posology            | ner_oncology_response_to_treatment |\n",
    "| ner_oncology_tnm                    | ner_oncology_therapy                            | ner_oncology_unspecific_posology | ner_oncology_wip     |\n",
    "| ner_pathogen                        | ner_posology                                   | ner_posology_experimental        | ner_posology_greedy  |\n",
    "| ner_posology_large                  | ner_posology_small                              | ner_posology_wip                 | ner_radiology        |\n",
    "| ner_radiology_wip_clinical          | ner_risk_factors                               | ner_sdoh_access_to_healthcare_wip| ner_sdoh_community_condition_wip |\n",
    "| ner_sdoh_demographics_wip           | ner_sdoh_health_behaviours_problems_wip         | ner_sdoh_income_social_status_wip| ner_sdoh_mentions    |\n",
    "| ner_sdoh_social_environment_wip     | ner_sdoh_substance_usage_wip                    | ner_sdoh_wip                     | ner_supplement_clinical |\n",
    "| ner_token                           | ner_vop_anatomy_wip                            | ner_vop_clinical_dept_wip        | ner_vop_demographic_wip |\n",
    "| ner_vop_problem_reduced_wip         | ner_vop_problem_wip                            | ner_vop_slim_wip                 | ner_vop_temporal_wip |\n",
    "| ner_vop_test_wip                    | ner_vop_treatment_wip                           | ner_vop_wip                      |                       |\n",
    "\n",
    "\n",
    "<b>NER Profiling BioBert Model List</b>\n",
    "\n",
    "| | |\n",
    "|-|-|\n",
    "| ner_cellular_biobert           | ner_clinical_biobert             |\n",
    "| ner_diseases_biobert           | ner_anatomy_coarse_biobert       |\n",
    "| ner_events_biobert             | ner_human_phenotype_gene_biobert |\n",
    "| ner_bionlp_biobert             | ner_posology_large_biobert       |\n",
    "| ner_jsl_greedy_biobert         | jsl_rd_ner_wip_greedy_biobert    |\n",
    "| ner_jsl_biobert                | ner_posology_biobert             |\n",
    "| ner_anatomy_biobert            | jsl_ner_wip_greedy_biobert       |\n",
    "| ner_jsl_enriched_biobert       | ner_chemprot_biobert             |\n",
    "| ner_human_phenotype_go_biobert | ner_ade_biobert                  |\n",
    "| ner_deid_biobert               | ner_risk_factors_biobert         |\n",
    "| ner_deid_enriched_biobert      | ner_living_species_biobert                                |\n",
    "\n",
    "\n",
    "</center>"
   ]
  },
  {
   "cell_type": "code",
   "execution_count": 5,
   "metadata": {
    "tags": []
   },
   "outputs": [
    {
     "name": "stdout",
     "output_type": "stream",
     "text": [
      "ner_profiling_clinical download started this may take some time.\n",
      "\n",
      "Approx size to download 2.9 GB\n",
      "\n",
      "[OK!]\n"
     ]
    }
   ],
   "source": [
    "clinical_profiling_pipeline = nlp.PretrainedPipeline(\"ner_profiling_clinical\", \"en\", \"clinical/models\")"
   ]
  },
  {
   "cell_type": "code",
   "execution_count": 6,
   "metadata": {},
   "outputs": [
    {
     "name": "stdout",
     "output_type": "stream",
     "text": [
      "\n"
     ]
    }
   ],
   "source": [
    "text = '''\n",
    "A 28-year-old female with a history of gestational diabetes\n",
    "mellitus diagnosed eight years prior to presentation and subsequent type two diabetes mellitus ( T2DM ),\n",
    "one prior episode of HTG-induced pancreatitis three years prior to presentation , associated with an acute hepatitis ,\n",
    "and obesity with a body mass index ( BMI ) of 33.5 kg/m2 , presented with a one-week history of polyuria , \n",
    "polydipsia , poor appetite , and vomiting .\n",
    "'''"
   ]
  },
  {
   "cell_type": "code",
   "execution_count": 7,
   "metadata": {},
   "outputs": [
    {
     "name": "stdout",
     "output_type": "stream",
     "text": [
      "dict_keys(['ner_vop_problem_wip_chunks', 'ner_sdoh_demographics_wip_chunks', 'ner_ade_clinical_chunks', 'ner_deid_augmented', 'ner_deid_subentity_augmented_i2b2', 'ner_posology_greedy_chunks', 'ner_vop_demographic_wip_chunks', 'ner_sdoh_community_condition_wip_chunks', 'ner_radiology_wip_clinical', 'ner_vop_slim_wip', 'ner_oncology_diagnosis_chunks', 'ner_vop_test_wip_chunks', 'ner_jsl_slim', 'ner_vop_wip', 'ner_risk_factors_chunks', 'jsl_ner_wip_clinical_chunks', 'ner_oncology_unspecific_posology_chunks', 'ner_vop_problem_reduced_wip', 'ner_vop_anatomy_wip', 'ner_vop_problem_reduced_wip_chunks', 'ner_eu_clinical_case_chunks', 'ner_oncology_test_chunks', 'ner_deid_synthetic', 'ner_oncology_posology_chunks', 'ner_oncology_tnm_chunks', 'ner_oncology_anatomy_general_chunks', 'ner_drugs_greedy', 'ner_abbreviation_clinical_chunks', 'ner_covid_trials_chunks', 'ner_human_phenotype_gene_clinical_chunks', 'ner_events_admission_clinical', 'jsl_ner_wip_greedy_clinical_chunks', 'ner_posology_greedy', 'ner_cellular_chunks', 'ner_vop_clinical_dept_wip', 'ner_cancer_genetics_chunks', 'ner_biomedical_bc2gm_chunks', 'ner_oncology', 'ner_jsl_greedy', 'jsl_ner_wip_modifier_clinical_chunks', 'ner_drugs_greedy_chunks', 'ner_sdoh_access_to_healthcare_wip', 'ner_deid_sd_large_chunks', 'ner_diseases_chunks', 'ner_diseases_large', 'ner_chemprot_clinical', 'ner_posology_large', 'nerdl_tumour_demo_chunks', 'ner_oncology_chunks', 'ner_deid_subentity_augmented_chunks', 'ner_jsl_enriched_chunks', 'ner_genetic_variants_chunks', 'ner_sdoh_income_social_status_wip_chunks', 'ner_chexpert', 'ner_bionlp_chunks', 'ner_eu_clinical_condition_chunks', 'ner_measurements_clinical_chunks', 'ner_diseases_large_chunks', 'ner_drugs_large', 'ner_living_species_chunks', 'ner_oncology_therapy_chunks', 'ner_clinical_large', 'ner_chemicals', 'ner_sdoh_slim_wip', 'ner_radiology_chunks', 'ner_bacterial_species', 'ner_deid_augmented_chunks', 'ner_bionlp', 'ner_drugprot_clinical', 'ner_anatomy_chunks', 'ner_deid_subentity_augmented_i2b2_chunks', 'ner_deid_large', 'jsl_ner_wip_modifier_clinical', 'ner_vop_slim_wip_chunks', 'ner_chemprot_clinical_chunks', 'ner_eu_clinical_condition', 'nerdl_tumour_demo', 'ner_posology_experimental_chunks', 'ner_cancer_genetics', 'ner_biomarker', 'ner_drugprot_clinical_chunks', 'ner_vop_problem_wip', 'ner_sdoh_mentions', 'ner_posology_small', 'ner_vop_wip_chunks', 'ner_oncology_biomarker_chunks', 'ner_drugs_chunks', 'ner_deid_sd_chunks', 'ner_chemd_clinical', 'ner_human_phenotype_gene_clinical', 'ner_ade_clinical', 'ner_human_phenotype_go_clinical', 'ner_sdoh_wip_chunks', 'ner_sdoh_social_environment_wip', 'ner_sdoh_mentions_chunks', 'ner_risk_factors', 'ner_clinical', 'ner_posology_large_chunks', 'ner_cellular', 'ner_nature_nero_clinical_chunks', 'ner_deid_large_chunks', 'ner_clinical_trials_abstracts_chunks', 'ner_deid_generic_augmented_chunks', 'ner_posology_chunks', 'ner_oncology_anatomy_general', 'ner_sdoh_social_environment_wip_chunks', 'ner_supplement_clinical_chunks', 'ner_oncology_response_to_treatment_chunks', 'ner_deid_enriched_chunks', 'ner_chemd_clinical_chunks', 'ner_deid_sd_large', 'ner_oncology_biomarker', 'jsl_ner_wip_greedy_clinical', 'ner_sdoh_slim_wip_chunks', 'ner_bacterial_species_chunks', 'ner_sdoh_health_behaviours_problems_wip_chunks', 'ner_sdoh_demographics_wip', 'ner_sdoh_community_condition_wip', 'ner_vop_anatomy_wip_chunks', 'ner_living_species', 'ner_abbreviation_clinical', 'ner_oncology_test', 'ner_vop_temporal_wip_chunks', 'ner_diseases', 'jsl_rd_ner_wip_greedy_clinical', 'ner_oncology_response_to_treatment', 'ner_drugs', 'ner_drugs_large_chunks', 'ner_vop_treatment_wip', 'ner_biomarker_chunks', 'ner_clinical_trials_abstracts', 'ner_clinical_large_chunks', 'ner_anatomy_coarse', 'ner_nature_nero_clinical', 'token', 'ner_oncology_anatomy_granular', 'ner_medmentions_coarse', 'ner_oncology_therapy', 'ner_deid_sd', 'jsl_rd_ner_wip_greedy_clinical_chunks', 'ner_oncology_demographics', 'ner_deid_generic_augmented', 'ner_pathogen_chunks', 'ner_medmentions_coarse_chunks', 'ner_anatomy', 'ner_deid_enriched', 'ner_deid_subentity_augmented', 'ner_radiology_wip_clinical_chunks', 'ner_clinical_chunks', 'ner_oncology_diagnosis', 'ner_sdoh_health_behaviours_problems_wip', 'ner_measurements_clinical', 'ner_ade_binary', 'ner_nihss', 'ner_chexpert_chunks', 'ner_chemicals_chunks', 'ner_pathogen', 'ner_vop_test_wip', 'ner_oncology_demographics_chunks', 'ner_jsl_enriched', 'ner_sdoh_access_to_healthcare_wip_chunks', 'ner_oncology_tnm', 'ner_vop_treatment_wip_chunks', 'ner_deid_synthetic_chunks', 'ner_events_clinical_chunks', 'ner_posology_experimental', 'jsl_ner_wip_clinical', 'ner_oncology_anatomy_granular_chunks', 'ner_biomedical_bc2gm', 'ner_vop_temporal_wip', 'ner_posology_small_chunks', 'ner_oncology_wip', 'ner_nihss_chunks', 'ner_anatomy_coarse_chunks', 'ner_human_phenotype_go_clinical_chunks', 'ner_vop_demographic_wip', 'ner_sdoh_substance_usage_wip_chunks', 'ner_sdoh_income_social_status_wip', 'ner_jsl', 'ner_sdoh_substance_usage_wip', 'ner_events_clinical', 'ner_supplement_clinical', 'ner_jsl_slim_chunks', 'ner_jsl_chunks', 'ner_jsl_greedy_chunks', 'ner_oncology_wip_chunks', 'ner_oncology_unspecific_posology', 'ner_genetic_variants', 'ner_sdoh_wip', 'ner_radiology', 'ner_eu_clinical_case', 'ner_posology', 'ner_vop_clinical_dept_wip_chunks', 'sentence', 'ner_oncology_posology', 'ner_covid_trials', 'ner_ade_binary_chunks', 'ner_events_admission_clinical_chunks'])\n"
     ]
    }
   ],
   "source": [
    "clinical_result = clinical_profiling_pipeline.fullAnnotate(text)[0]\n",
    "clinical_result.keys()"
   ]
  },
  {
   "cell_type": "code",
   "execution_count": 8,
   "metadata": {},
   "outputs": [
    {
     "name": "stdout",
     "output_type": "stream",
     "text": [
      "\n"
     ]
    }
   ],
   "source": [
    "def get_token_results(light_result):\n",
    "\n",
    "  tokens = [j.result for j in light_result[\"token\"]]\n",
    "  sentences = [j.metadata[\"sentence\"] for j in light_result[\"token\"]]\n",
    "  begins = [j.begin for j in light_result[\"token\"]]\n",
    "  ends = [j.end for j in light_result[\"token\"]]\n",
    "  model_list = [ a for a in light_result.keys() if (a not in [\"sentence\", \"token\"] and \"_chunks\" not in a)]\n",
    "\n",
    "  df = pd.DataFrame({'sentence':sentences, 'begin': begins, 'end': ends, 'token':tokens})\n",
    "\n",
    "  for model_name in model_list:\n",
    "\n",
    "    temp_df = pd.DataFrame(light_result[model_name])\n",
    "    temp_df[\"jsl_label\"] = temp_df.iloc[:,0].apply(lambda x : x.result)\n",
    "    temp_df = temp_df[[\"jsl_label\"]]\n",
    "\n",
    "    # temp_df = get_ner_result(model_name)\n",
    "    temp_df.columns = [model_name]\n",
    "    df = pd.concat([df, temp_df], axis=1)\n",
    "\n",
    "  return df"
   ]
  },
  {
   "cell_type": "code",
   "execution_count": 9,
   "metadata": {},
   "outputs": [
    {
     "name": "stdout",
     "output_type": "stream",
     "text": [
      "\n"
     ]
    }
   ],
   "source": [
    "result_df = get_token_results(clinical_result)\n",
    "result_df.to_html().replace(\"\\n\", \"\")\n",
    "\n",
    "#copy/paste the output into the next cell as markdown"
   ]
  },
  {
   "cell_type": "markdown",
   "metadata": {},
   "source": [
    "<table border=\"1\" class=\"dataframe\">  <thead>    <tr style=\"text-align: right;\">      <th></th>      <th>sentence</th>      <th>begin</th>      <th>end</th>      <th>token</th>      <th>ner_deid_augmented</th>      <th>ner_deid_subentity_augmented_i2b2</th>      <th>ner_radiology_wip_clinical</th>      <th>ner_vop_slim_wip</th>      <th>ner_jsl_slim</th>      <th>ner_vop_wip</th>      <th>ner_vop_problem_reduced_wip</th>      <th>ner_vop_anatomy_wip</th>      <th>ner_deid_synthetic</th>      <th>ner_drugs_greedy</th>      <th>ner_events_admission_clinical</th>      <th>ner_posology_greedy</th>      <th>ner_vop_clinical_dept_wip</th>      <th>ner_oncology</th>      <th>ner_jsl_greedy</th>      <th>ner_sdoh_access_to_healthcare_wip</th>      <th>ner_diseases_large</th>      <th>ner_chemprot_clinical</th>      <th>ner_posology_large</th>      <th>ner_chexpert</th>      <th>ner_drugs_large</th>      <th>ner_clinical_large</th>      <th>ner_chemicals</th>      <th>ner_sdoh_slim_wip</th>      <th>ner_bacterial_species</th>      <th>ner_bionlp</th>      <th>ner_drugprot_clinical</th>      <th>ner_deid_large</th>      <th>jsl_ner_wip_modifier_clinical</th>      <th>ner_eu_clinical_condition</th>      <th>nerdl_tumour_demo</th>      <th>ner_cancer_genetics</th>      <th>ner_biomarker</th>      <th>ner_vop_problem_wip</th>      <th>ner_sdoh_mentions</th>      <th>ner_posology_small</th>      <th>ner_chemd_clinical</th>      <th>ner_human_phenotype_gene_clinical</th>      <th>ner_ade_clinical</th>      <th>ner_human_phenotype_go_clinical</th>      <th>ner_sdoh_social_environment_wip</th>      <th>ner_risk_factors</th>      <th>ner_clinical</th>      <th>ner_cellular</th>      <th>ner_oncology_anatomy_general</th>      <th>ner_deid_sd_large</th>      <th>ner_oncology_biomarker</th>      <th>jsl_ner_wip_greedy_clinical</th>      <th>ner_sdoh_demographics_wip</th>      <th>ner_sdoh_community_condition_wip</th>      <th>ner_living_species</th>      <th>ner_abbreviation_clinical</th>      <th>ner_oncology_test</th>      <th>ner_diseases</th>      <th>jsl_rd_ner_wip_greedy_clinical</th>      <th>ner_oncology_response_to_treatment</th>      <th>ner_drugs</th>      <th>ner_vop_treatment_wip</th>      <th>ner_clinical_trials_abstracts</th>      <th>ner_anatomy_coarse</th>      <th>ner_nature_nero_clinical</th>      <th>ner_oncology_anatomy_granular</th>      <th>ner_medmentions_coarse</th>      <th>ner_oncology_therapy</th>      <th>ner_deid_sd</th>      <th>ner_oncology_demographics</th>      <th>ner_deid_generic_augmented</th>      <th>ner_anatomy</th>      <th>ner_deid_enriched</th>      <th>ner_deid_subentity_augmented</th>      <th>ner_oncology_diagnosis</th>      <th>ner_sdoh_health_behaviours_problems_wip</th>      <th>ner_measurements_clinical</th>      <th>ner_ade_binary</th>      <th>ner_nihss</th>      <th>ner_pathogen</th>      <th>ner_vop_test_wip</th>      <th>ner_jsl_enriched</th>      <th>ner_oncology_tnm</th>      <th>ner_posology_experimental</th>      <th>jsl_ner_wip_clinical</th>      <th>ner_biomedical_bc2gm</th>      <th>ner_vop_temporal_wip</th>      <th>ner_oncology_wip</th>      <th>ner_vop_demographic_wip</th>      <th>ner_sdoh_income_social_status_wip</th>      <th>ner_jsl</th>      <th>ner_sdoh_substance_usage_wip</th>      <th>ner_events_clinical</th>      <th>ner_supplement_clinical</th>      <th>ner_oncology_unspecific_posology</th>      <th>ner_genetic_variants</th>      <th>ner_sdoh_wip</th>      <th>ner_radiology</th>      <th>ner_eu_clinical_case</th>      <th>ner_posology</th>      <th>ner_oncology_posology</th>      <th>ner_covid_trials</th>    </tr>  </thead>  <tbody>    <tr>      <th>0</th>      <td>0</td>      <td>0</td>      <td>0</td>      <td>A</td>      <td>O</td>      <td>O</td>      <td>O</td>      <td>O</td>      <td>O</td>      <td>O</td>      <td>O</td>      <td>O</td>      <td>O</td>      <td>O</td>      <td>O</td>      <td>O</td>      <td>O</td>      <td>O</td>      <td>O</td>      <td>O</td>      <td>O</td>      <td>O</td>      <td>O</td>      <td>O</td>      <td>O</td>      <td>O</td>      <td>O</td>      <td>O</td>      <td>O</td>      <td>O</td>      <td>O</td>      <td>O</td>      <td>O</td>      <td>O</td>      <td>O</td>      <td>O</td>      <td>O</td>      <td>O</td>      <td>O</td>      <td>O</td>      <td>O</td>      <td>O</td>      <td>O</td>      <td>O</td>      <td>O</td>      <td>O</td>      <td>O</td>      <td>O</td>      <td>O</td>      <td>O</td>      <td>O</td>      <td>O</td>      <td>O</td>      <td>O</td>      <td>O</td>      <td>O</td>      <td>O</td>      <td>O</td>      <td>O</td>      <td>O</td>      <td>O</td>      <td>O</td>      <td>O</td>      <td>O</td>      <td>O</td>      <td>O</td>      <td>O</td>      <td>O</td>      <td>O</td>      <td>O</td>      <td>O</td>      <td>O</td>      <td>O</td>      <td>O</td>      <td>O</td>      <td>O</td>      <td>O</td>      <td>O</td>      <td>O</td>      <td>O</td>      <td>O</td>      <td>O</td>      <td>O</td>      <td>O</td>      <td>O</td>      <td>O</td>      <td>O</td>      <td>O</td>      <td>O</td>      <td>O</td>      <td>O</td>      <td>O</td>      <td>O</td>      <td>O</td>      <td>O</td>      <td>O</td>      <td>O</td>      <td>O</td>      <td>B-patient</td>      <td>O</td>      <td>O</td>      <td>O</td>    </tr>    <tr>      <th>1</th>      <td>0</td>      <td>2</td>      <td>12</td>      <td>28-year-old</td>      <td>O</td>      <td>O</td>      <td>O</td>      <td>O</td>      <td>B-Age</td>      <td>B-Age</td>      <td>O</td>      <td>O</td>      <td>O</td>      <td>O</td>      <td>O</td>      <td>O</td>      <td>O</td>      <td>B-Gender</td>      <td>B-Age</td>      <td>O</td>      <td>O</td>      <td>O</td>      <td>O</td>      <td>O</td>      <td>O</td>      <td>O</td>      <td>O</td>      <td>B-Marital_Status</td>      <td>O</td>      <td>O</td>      <td>O</td>      <td>O</td>      <td>B-Age</td>      <td>O</td>      <td>O</td>      <td>O</td>      <td>B-Age</td>      <td>O</td>      <td>O</td>      <td>O</td>      <td>O</td>      <td>O</td>      <td>O</td>      <td>O</td>      <td>O</td>      <td>O</td>      <td>O</td>      <td>O</td>      <td>O</td>      <td>O</td>      <td>O</td>      <td>B-Age</td>      <td>B-Gender</td>      <td>O</td>      <td>O</td>      <td>O</td>      <td>O</td>      <td>O</td>      <td>B-Age</td>      <td>O</td>      <td>O</td>      <td>O</td>      <td>O</td>      <td>O</td>      <td>B-Person</td>      <td>O</td>      <td>O</td>      <td>O</td>      <td>O</td>      <td>B-Gender</td>      <td>B-AGE</td>      <td>O</td>      <td>O</td>      <td>B-AGE</td>      <td>O</td>      <td>O</td>      <td>O</td>      <td>O</td>      <td>O</td>      <td>O</td>      <td>O</td>      <td>B-Age</td>      <td>O</td>      <td>O</td>      <td>B-Age</td>      <td>O</td>      <td>O</td>      <td>B-Gender</td>      <td>B-Age</td>      <td>O</td>      <td>B-Age</td>      <td>O</td>      <td>O</td>      <td>O</td>      <td>O</td>      <td>O</td>      <td>B-Gender</td>      <td>O</td>      <td>I-patient</td>      <td>O</td>      <td>O</td>      <td>B-Gender</td>    </tr>    <tr>      <th>2</th>      <td>0</td>      <td>14</td>      <td>19</td>      <td>female</td>      <td>O</td>      <td>O</td>      <td>O</td>      <td>B-Gender</td>      <td>B-Demographics</td>      <td>B-Gender</td>      <td>O</td>      <td>O</td>      <td>O</td>      <td>O</td>      <td>O</td>      <td>O</td>      <td>O</td>      <td>B-Gender</td>      <td>B-Gender</td>      <td>O</td>      <td>O</td>      <td>O</td>      <td>O</td>      <td>O</td>      <td>O</td>      <td>O</td>      <td>O</td>      <td>B-Gender</td>      <td>O</td>      <td>B-Organism</td>      <td>O</td>      <td>O</td>      <td>B-Gender</td>      <td>O</td>      <td>O</td>      <td>O</td>      <td>B-Gender</td>      <td>O</td>      <td>O</td>      <td>O</td>      <td>O</td>      <td>O</td>      <td>O</td>      <td>O</td>      <td>O</td>      <td>O</td>      <td>O</td>      <td>O</td>      <td>O</td>      <td>O</td>      <td>O</td>      <td>B-Gender</td>      <td>B-Gender</td>      <td>O</td>      <td>B-HUMAN</td>      <td>O</td>      <td>O</td>      <td>O</td>      <td>B-Gender</td>      <td>O</td>      <td>O</td>      <td>O</td>      <td>O</td>      <td>O</td>      <td>I-Person</td>      <td>O</td>      <td>B-Organism_Attribute</td>      <td>O</td>      <td>O</td>      <td>B-Gender</td>      <td>O</td>      <td>O</td>      <td>O</td>      <td>O</td>      <td>O</td>      <td>O</td>      <td>O</td>      <td>O</td>      <td>O</td>      <td>O</td>      <td>O</td>      <td>B-Gender</td>      <td>O</td>      <td>O</td>      <td>B-Gender</td>      <td>O</td>      <td>O</td>      <td>B-Gender</td>      <td>B-Gender</td>      <td>O</td>      <td>B-Gender</td>      <td>O</td>      <td>O</td>      <td>O</td>      <td>O</td>      <td>O</td>      <td>B-Gender</td>      <td>O</td>      <td>I-patient</td>      <td>O</td>      <td>O</td>      <td>B-Gender</td>    </tr>    <tr>      <th>3</th>      <td>0</td>      <td>21</td>      <td>24</td>      <td>with</td>      <td>O</td>      <td>O</td>      <td>O</td>      <td>O</td>      <td>O</td>      <td>O</td>      <td>O</td>      <td>O</td>      <td>O</td>      <td>O</td>      <td>O</td>      <td>O</td>      <td>O</td>      <td>O</td>      <td>O</td>      <td>O</td>      <td>O</td>      <td>O</td>      <td>O</td>      <td>O</td>      <td>O</td>      <td>O</td>      <td>O</td>      <td>O</td>      <td>O</td>      <td>O</td>      <td>O</td>      <td>O</td>      <td>O</td>      <td>O</td>      <td>O</td>      <td>O</td>      <td>O</td>      <td>O</td>      <td>O</td>      <td>O</td>      <td>O</td>      <td>O</td>      <td>O</td>      <td>O</td>      <td>O</td>      <td>O</td>      <td>O</td>      <td>O</td>      <td>O</td>      <td>O</td>      <td>O</td>      <td>O</td>      <td>O</td>      <td>O</td>      <td>O</td>      <td>O</td>      <td>O</td>      <td>O</td>      <td>O</td>      <td>O</td>      <td>O</td>      <td>O</td>      <td>O</td>      <td>O</td>      <td>O</td>      <td>O</td>      <td>O</td>      <td>O</td>      <td>O</td>      <td>O</td>      <td>O</td>      <td>O</td>      <td>O</td>      <td>O</td>      <td>O</td>      <td>O</td>      <td>O</td>      <td>O</td>      <td>O</td>      <td>O</td>      <td>O</td>      <td>O</td>      <td>O</td>      <td>O</td>      <td>O</td>      <td>O</td>      <td>O</td>      <td>O</td>      <td>O</td>      <td>O</td>      <td>O</td>      <td>O</td>      <td>O</td>      <td>O</td>      <td>O</td>      <td>O</td>      <td>O</td>      <td>O</td>      <td>O</td>      <td>O</td>      <td>O</td>      <td>O</td>    </tr>    <tr>      <th>4</th>      <td>0</td>      <td>26</td>      <td>26</td>      <td>a</td>      <td>O</td>      <td>O</td>      <td>O</td>      <td>O</td>      <td>O</td>      <td>O</td>      <td>O</td>      <td>O</td>      <td>O</td>      <td>O</td>      <td>O</td>      <td>O</td>      <td>O</td>      <td>O</td>      <td>O</td>      <td>O</td>      <td>O</td>      <td>O</td>      <td>O</td>      <td>O</td>      <td>O</td>      <td>O</td>      <td>O</td>      <td>O</td>      <td>O</td>      <td>O</td>      <td>O</td>      <td>O</td>      <td>O</td>      <td>O</td>      <td>O</td>      <td>O</td>      <td>O</td>      <td>O</td>      <td>O</td>      <td>O</td>      <td>O</td>      <td>O</td>      <td>O</td>      <td>O</td>      <td>O</td>      <td>O</td>      <td>O</td>      <td>O</td>      <td>O</td>      <td>O</td>      <td>O</td>      <td>O</td>      <td>O</td>      <td>O</td>      <td>O</td>      <td>O</td>      <td>O</td>      <td>O</td>      <td>O</td>      <td>O</td>      <td>O</td>      <td>O</td>      <td>O</td>      <td>O</td>      <td>O</td>      <td>O</td>      <td>O</td>      <td>O</td>      <td>O</td>      <td>O</td>      <td>O</td>      <td>O</td>      <td>O</td>      <td>O</td>      <td>O</td>      <td>O</td>      <td>O</td>      <td>O</td>      <td>O</td>      <td>O</td>      <td>O</td>      <td>O</td>      <td>O</td>      <td>O</td>      <td>O</td>      <td>O</td>      <td>O</td>      <td>O</td>      <td>O</td>      <td>O</td>      <td>O</td>      <td>O</td>      <td>O</td>      <td>O</td>      <td>O</td>      <td>O</td>      <td>O</td>      <td>O</td>      <td>O</td>      <td>O</td>      <td>O</td>      <td>O</td>    </tr>    <tr>      <th>5</th>      <td>0</td>      <td>28</td>      <td>34</td>      <td>history</td>      <td>O</td>      <td>O</td>      <td>O</td>      <td>O</td>      <td>O</td>      <td>O</td>      <td>O</td>      <td>O</td>      <td>O</td>      <td>O</td>      <td>O</td>      <td>O</td>      <td>O</td>      <td>O</td>      <td>O</td>      <td>O</td>      <td>O</td>      <td>O</td>      <td>O</td>      <td>O</td>      <td>O</td>      <td>O</td>      <td>O</td>      <td>O</td>      <td>O</td>      <td>O</td>      <td>O</td>      <td>O</td>      <td>O</td>      <td>O</td>      <td>O</td>      <td>O</td>      <td>O</td>      <td>O</td>      <td>O</td>      <td>O</td>      <td>O</td>      <td>O</td>      <td>O</td>      <td>O</td>      <td>O</td>      <td>O</td>      <td>O</td>      <td>O</td>      <td>O</td>      <td>O</td>      <td>O</td>      <td>O</td>      <td>O</td>      <td>O</td>      <td>O</td>      <td>O</td>      <td>O</td>      <td>O</td>      <td>O</td>      <td>O</td>      <td>O</td>      <td>O</td>      <td>O</td>      <td>O</td>      <td>B-Medicalfinding</td>      <td>O</td>      <td>O</td>      <td>O</td>      <td>O</td>      <td>O</td>      <td>O</td>      <td>O</td>      <td>O</td>      <td>O</td>      <td>O</td>      <td>O</td>      <td>O</td>      <td>O</td>      <td>O</td>      <td>O</td>      <td>O</td>      <td>O</td>      <td>O</td>      <td>O</td>      <td>O</td>      <td>O</td>      <td>O</td>      <td>O</td>      <td>O</td>      <td>O</td>      <td>O</td>      <td>O</td>      <td>O</td>      <td>O</td>      <td>O</td>      <td>O</td>      <td>O</td>      <td>O</td>      <td>O</td>      <td>O</td>      <td>O</td>      <td>O</td>    </tr>    <tr>      <th>6</th>      <td>0</td>      <td>36</td>      <td>37</td>      <td>of</td>      <td>O</td>      <td>O</td>      <td>O</td>      <td>O</td>      <td>O</td>      <td>O</td>      <td>O</td>      <td>O</td>      <td>O</td>      <td>O</td>      <td>O</td>      <td>O</td>      <td>O</td>      <td>O</td>      <td>O</td>      <td>O</td>      <td>O</td>      <td>O</td>      <td>O</td>      <td>O</td>      <td>O</td>      <td>O</td>      <td>O</td>      <td>O</td>      <td>O</td>      <td>O</td>      <td>O</td>      <td>O</td>      <td>O</td>      <td>O</td>      <td>O</td>      <td>O</td>      <td>O</td>      <td>O</td>      <td>O</td>      <td>O</td>      <td>O</td>      <td>O</td>      <td>O</td>      <td>O</td>      <td>O</td>      <td>O</td>      <td>O</td>      <td>O</td>      <td>O</td>      <td>O</td>      <td>O</td>      <td>O</td>      <td>O</td>      <td>O</td>      <td>O</td>      <td>O</td>      <td>O</td>      <td>O</td>      <td>O</td>      <td>O</td>      <td>O</td>      <td>O</td>      <td>O</td>      <td>O</td>      <td>O</td>      <td>O</td>      <td>O</td>      <td>O</td>      <td>O</td>      <td>O</td>      <td>O</td>      <td>O</td>      <td>O</td>      <td>O</td>      <td>O</td>      <td>O</td>      <td>O</td>      <td>O</td>      <td>O</td>      <td>O</td>      <td>O</td>      <td>O</td>      <td>O</td>      <td>O</td>      <td>O</td>      <td>O</td>      <td>O</td>      <td>O</td>      <td>O</td>      <td>O</td>      <td>O</td>      <td>O</td>      <td>O</td>      <td>O</td>      <td>O</td>      <td>O</td>      <td>O</td>      <td>O</td>      <td>O</td>      <td>O</td>      <td>O</td>      <td>O</td>    </tr>    <tr>      <th>7</th>      <td>0</td>      <td>39</td>      <td>49</td>      <td>gestational</td>      <td>O</td>      <td>O</td>      <td>B-Disease_Syndrome_Disorder</td>      <td>O</td>      <td>B-Disease_Syndrome_Disorder</td>      <td>B-Disease</td>      <td>B-Problem</td>      <td>O</td>      <td>O</td>      <td>O</td>      <td>B-PROBLEM</td>      <td>O</td>      <td>O</td>      <td>O</td>      <td>B-Diabetes</td>      <td>O</td>      <td>B-Disease</td>      <td>O</td>      <td>O</td>      <td>O</td>      <td>O</td>      <td>B-PROBLEM</td>      <td>O</td>      <td>B-Other_Disease</td>      <td>O</td>      <td>O</td>      <td>O</td>      <td>O</td>      <td>B-Diabetes</td>      <td>B-clinical_condition</td>      <td>O</td>      <td>O</td>      <td>O</td>      <td>B-Disease</td>      <td>O</td>      <td>O</td>      <td>O</td>      <td>O</td>      <td>O</td>      <td>O</td>      <td>O</td>      <td>O</td>      <td>B-PROBLEM</td>      <td>O</td>      <td>O</td>      <td>O</td>      <td>O</td>      <td>B-Diabetes</td>      <td>O</td>      <td>O</td>      <td>O</td>      <td>O</td>      <td>O</td>      <td>B-Disease</td>      <td>B-Diabetes</td>      <td>O</td>      <td>O</td>      <td>O</td>      <td>O</td>      <td>O</td>      <td>B-Disease</td>      <td>O</td>      <td>O</td>      <td>O</td>      <td>O</td>      <td>O</td>      <td>O</td>      <td>O</td>      <td>O</td>      <td>O</td>      <td>O</td>      <td>B-Other_Disease</td>      <td>O</td>      <td>O</td>      <td>O</td>      <td>O</td>      <td>O</td>      <td>B-Diabetes</td>      <td>O</td>      <td>O</td>      <td>B-Diabetes</td>      <td>O</td>      <td>O</td>      <td>O</td>      <td>O</td>      <td>O</td>      <td>B-Diabetes</td>      <td>O</td>      <td>B-PROBLEM</td>      <td>B-CONDITION</td>      <td>O</td>      <td>O</td>      <td>B-Other_Disease</td>      <td>B-Disease_Syndrome_Disorder</td>      <td>O</td>      <td>O</td>      <td>O</td>      <td>B-Diabetes</td>    </tr>    <tr>      <th>8</th>      <td>0</td>      <td>51</td>      <td>58</td>      <td>diabetes</td>      <td>O</td>      <td>O</td>      <td>I-Disease_Syndrome_Disorder</td>      <td>B-Disease</td>      <td>I-Disease_Syndrome_Disorder</td>      <td>I-Disease</td>      <td>I-Problem</td>      <td>O</td>      <td>O</td>      <td>O</td>      <td>I-PROBLEM</td>      <td>O</td>      <td>O</td>      <td>O</td>      <td>I-Diabetes</td>      <td>O</td>      <td>I-Disease</td>      <td>O</td>      <td>O</td>      <td>O</td>      <td>O</td>      <td>I-PROBLEM</td>      <td>O</td>      <td>I-Other_Disease</td>      <td>O</td>      <td>O</td>      <td>O</td>      <td>O</td>      <td>I-Diabetes</td>      <td>I-clinical_condition</td>      <td>O</td>      <td>O</td>      <td>O</td>      <td>I-Disease</td>      <td>O</td>      <td>O</td>      <td>O</td>      <td>O</td>      <td>O</td>      <td>O</td>      <td>O</td>      <td>B-DIABETES</td>      <td>I-PROBLEM</td>      <td>O</td>      <td>O</td>      <td>O</td>      <td>O</td>      <td>I-Diabetes</td>      <td>O</td>      <td>O</td>      <td>O</td>      <td>O</td>      <td>O</td>      <td>I-Disease</td>      <td>I-Diabetes</td>      <td>O</td>      <td>O</td>      <td>O</td>      <td>B-DisorderOrSyndrome</td>      <td>O</td>      <td>I-Disease</td>      <td>O</td>      <td>B-Disease_or_Syndrome</td>      <td>O</td>      <td>O</td>      <td>O</td>      <td>O</td>      <td>O</td>      <td>O</td>      <td>O</td>      <td>O</td>      <td>I-Other_Disease</td>      <td>O</td>      <td>O</td>      <td>O</td>      <td>B-MedicalCondition</td>      <td>O</td>      <td>I-Diabetes</td>      <td>O</td>      <td>O</td>      <td>I-Diabetes</td>      <td>O</td>      <td>O</td>      <td>O</td>      <td>O</td>      <td>O</td>      <td>I-Diabetes</td>      <td>O</td>      <td>I-PROBLEM</td>      <td>I-CONDITION</td>      <td>O</td>      <td>O</td>      <td>I-Other_Disease</td>      <td>I-Disease_Syndrome_Disorder</td>      <td>B-clinical_condition</td>      <td>O</td>      <td>O</td>      <td>I-Diabetes</td>    </tr>    <tr>      <th>9</th>      <td>0</td>      <td>60</td>      <td>67</td>      <td>mellitus</td>      <td>O</td>      <td>O</td>      <td>I-Disease_Syndrome_Disorder</td>      <td>I-Disease</td>      <td>I-Disease_Syndrome_Disorder</td>      <td>I-Disease</td>      <td>I-Problem</td>      <td>O</td>      <td>O</td>      <td>O</td>      <td>I-PROBLEM</td>      <td>O</td>      <td>O</td>      <td>O</td>      <td>I-Diabetes</td>      <td>O</td>      <td>I-Disease</td>      <td>O</td>      <td>O</td>      <td>O</td>      <td>O</td>      <td>I-PROBLEM</td>      <td>O</td>      <td>I-Other_Disease</td>      <td>O</td>      <td>O</td>      <td>O</td>      <td>O</td>      <td>I-Diabetes</td>      <td>I-clinical_condition</td>      <td>O</td>      <td>O</td>      <td>O</td>      <td>I-Disease</td>      <td>O</td>      <td>O</td>      <td>O</td>      <td>O</td>      <td>O</td>      <td>O</td>      <td>O</td>      <td>I-DIABETES</td>      <td>I-PROBLEM</td>      <td>O</td>      <td>O</td>      <td>O</td>      <td>O</td>      <td>I-Diabetes</td>      <td>O</td>      <td>O</td>      <td>O</td>      <td>O</td>      <td>O</td>      <td>I-Disease</td>      <td>I-Diabetes</td>      <td>O</td>      <td>O</td>      <td>O</td>      <td>I-DisorderOrSyndrome</td>      <td>O</td>      <td>I-Disease</td>      <td>O</td>      <td>I-Disease_or_Syndrome</td>      <td>O</td>      <td>O</td>      <td>O</td>      <td>O</td>      <td>O</td>      <td>O</td>      <td>O</td>      <td>O</td>      <td>I-Other_Disease</td>      <td>O</td>      <td>O</td>      <td>O</td>      <td>I-MedicalCondition</td>      <td>O</td>      <td>I-Diabetes</td>      <td>O</td>      <td>O</td>      <td>I-Diabetes</td>      <td>O</td>      <td>O</td>      <td>O</td>      <td>O</td>      <td>O</td>      <td>I-Diabetes</td>      <td>O</td>      <td>I-PROBLEM</td>      <td>I-CONDITION</td>      <td>O</td>      <td>O</td>      <td>I-Other_Disease</td>      <td>I-Disease_Syndrome_Disorder</td>      <td>I-clinical_condition</td>      <td>O</td>      <td>O</td>      <td>I-Diabetes</td>    </tr>    <tr>      <th>10</th>      <td>0</td>      <td>69</td>      <td>77</td>      <td>diagnosed</td>      <td>O</td>      <td>O</td>      <td>O</td>      <td>O</td>      <td>O</td>      <td>O</td>      <td>O</td>      <td>O</td>      <td>O</td>      <td>O</td>      <td>O</td>      <td>O</td>      <td>O</td>      <td>O</td>      <td>O</td>      <td>O</td>      <td>O</td>      <td>O</td>      <td>O</td>      <td>O</td>      <td>O</td>      <td>O</td>      <td>O</td>      <td>O</td>      <td>O</td>      <td>O</td>      <td>O</td>      <td>O</td>      <td>O</td>      <td>O</td>      <td>O</td>      <td>O</td>      <td>O</td>      <td>O</td>      <td>O</td>      <td>O</td>      <td>O</td>      <td>O</td>      <td>O</td>      <td>O</td>      <td>O</td>      <td>O</td>      <td>O</td>      <td>O</td>      <td>O</td>      <td>O</td>      <td>O</td>      <td>O</td>      <td>O</td>      <td>O</td>      <td>O</td>      <td>O</td>      <td>O</td>      <td>O</td>      <td>O</td>      <td>O</td>      <td>O</td>      <td>O</td>      <td>O</td>      <td>O</td>      <td>O</td>      <td>O</td>      <td>O</td>      <td>O</td>      <td>O</td>      <td>O</td>      <td>O</td>      <td>O</td>      <td>O</td>      <td>O</td>      <td>O</td>      <td>O</td>      <td>O</td>      <td>O</td>      <td>O</td>      <td>O</td>      <td>O</td>      <td>O</td>      <td>O</td>      <td>O</td>      <td>O</td>      <td>O</td>      <td>O</td>      <td>O</td>      <td>O</td>      <td>O</td>      <td>O</td>      <td>O</td>      <td>O</td>      <td>O</td>      <td>O</td>      <td>O</td>      <td>O</td>      <td>O</td>      <td>B-clinical_event</td>      <td>O</td>      <td>O</td>      <td>O</td>    </tr>    <tr>      <th>11</th>      <td>0</td>      <td>79</td>      <td>83</td>      <td>eight</td>      <td>O</td>      <td>O</td>      <td>O</td>      <td>B-DateTime</td>      <td>B-Date_Time</td>      <td>B-DateTime</td>      <td>O</td>      <td>O</td>      <td>O</td>      <td>O</td>      <td>B-DURATION</td>      <td>O</td>      <td>O</td>      <td>B-Relative_Date</td>      <td>B-RelativeDate</td>      <td>O</td>      <td>O</td>      <td>O</td>      <td>O</td>      <td>O</td>      <td>O</td>      <td>O</td>      <td>O</td>      <td>O</td>      <td>O</td>      <td>O</td>      <td>O</td>      <td>O</td>      <td>B-RelativeDate</td>      <td>O</td>      <td>O</td>      <td>O</td>      <td>O</td>      <td>O</td>      <td>O</td>      <td>O</td>      <td>O</td>      <td>O</td>      <td>O</td>      <td>O</td>      <td>O</td>      <td>O</td>      <td>O</td>      <td>O</td>      <td>O</td>      <td>O</td>      <td>O</td>      <td>B-RelativeDate</td>      <td>O</td>      <td>O</td>      <td>O</td>      <td>O</td>      <td>O</td>      <td>O</td>      <td>B-RelativeDate</td>      <td>O</td>      <td>O</td>      <td>O</td>      <td>B-Age</td>      <td>O</td>      <td>B-Duration</td>      <td>O</td>      <td>O</td>      <td>O</td>      <td>O</td>      <td>O</td>      <td>O</td>      <td>O</td>      <td>O</td>      <td>O</td>      <td>O</td>      <td>O</td>      <td>O</td>      <td>O</td>      <td>O</td>      <td>O</td>      <td>O</td>      <td>B-RelativeDate</td>      <td>O</td>      <td>O</td>      <td>B-RelativeDate</td>      <td>O</td>      <td>B-DateTime</td>      <td>B-Relative_Date</td>      <td>O</td>      <td>O</td>      <td>B-RelativeDate</td>      <td>O</td>      <td>B-DURATION</td>      <td>O</td>      <td>O</td>      <td>O</td>      <td>O</td>      <td>O</td>      <td>B-date_time</td>      <td>O</td>      <td>O</td>      <td>O</td>    </tr>    <tr>      <th>12</th>      <td>0</td>      <td>85</td>      <td>89</td>      <td>years</td>      <td>O</td>      <td>O</td>      <td>O</td>      <td>I-DateTime</td>      <td>I-Date_Time</td>      <td>I-DateTime</td>      <td>O</td>      <td>O</td>      <td>O</td>      <td>O</td>      <td>I-DURATION</td>      <td>O</td>      <td>O</td>      <td>I-Relative_Date</td>      <td>I-RelativeDate</td>      <td>O</td>      <td>O</td>      <td>O</td>      <td>O</td>      <td>O</td>      <td>O</td>      <td>O</td>      <td>O</td>      <td>O</td>      <td>O</td>      <td>O</td>      <td>O</td>      <td>O</td>      <td>I-RelativeDate</td>      <td>O</td>      <td>O</td>      <td>O</td>      <td>O</td>      <td>O</td>      <td>O</td>      <td>O</td>      <td>O</td>      <td>O</td>      <td>O</td>      <td>O</td>      <td>O</td>      <td>O</td>      <td>O</td>      <td>O</td>      <td>O</td>      <td>O</td>      <td>O</td>      <td>I-RelativeDate</td>      <td>O</td>      <td>O</td>      <td>O</td>      <td>O</td>      <td>O</td>      <td>O</td>      <td>I-RelativeDate</td>      <td>O</td>      <td>O</td>      <td>O</td>      <td>B-BioAndMedicalUnit</td>      <td>O</td>      <td>I-Duration</td>      <td>O</td>      <td>O</td>      <td>O</td>      <td>O</td>      <td>O</td>      <td>O</td>      <td>O</td>      <td>O</td>      <td>O</td>      <td>O</td>      <td>O</td>      <td>O</td>      <td>O</td>      <td>O</td>      <td>O</td>      <td>O</td>      <td>I-RelativeDate</td>      <td>O</td>      <td>O</td>      <td>I-RelativeDate</td>      <td>O</td>      <td>I-DateTime</td>      <td>I-Relative_Date</td>      <td>O</td>      <td>O</td>      <td>I-RelativeDate</td>      <td>O</td>      <td>I-DURATION</td>      <td>O</td>      <td>O</td>      <td>O</td>      <td>O</td>      <td>O</td>      <td>I-date_time</td>      <td>O</td>      <td>O</td>      <td>O</td>    </tr>    <tr>      <th>13</th>      <td>0</td>      <td>91</td>      <td>95</td>      <td>prior</td>      <td>O</td>      <td>O</td>      <td>O</td>      <td>I-DateTime</td>      <td>I-Date_Time</td>      <td>I-DateTime</td>      <td>O</td>      <td>O</td>      <td>O</td>      <td>O</td>      <td>O</td>      <td>O</td>      <td>O</td>      <td>I-Relative_Date</td>      <td>I-RelativeDate</td>      <td>O</td>      <td>O</td>      <td>O</td>      <td>O</td>      <td>O</td>      <td>O</td>      <td>O</td>      <td>O</td>      <td>O</td>      <td>O</td>      <td>O</td>      <td>O</td>      <td>O</td>      <td>I-RelativeDate</td>      <td>O</td>      <td>O</td>      <td>O</td>      <td>O</td>      <td>O</td>      <td>O</td>      <td>O</td>      <td>O</td>      <td>O</td>      <td>O</td>      <td>O</td>      <td>O</td>      <td>O</td>      <td>O</td>      <td>O</td>      <td>O</td>      <td>O</td>      <td>O</td>      <td>I-RelativeDate</td>      <td>O</td>      <td>O</td>      <td>O</td>      <td>O</td>      <td>O</td>      <td>O</td>      <td>I-RelativeDate</td>      <td>O</td>      <td>O</td>      <td>O</td>      <td>O</td>      <td>O</td>      <td>O</td>      <td>O</td>      <td>O</td>      <td>O</td>      <td>O</td>      <td>O</td>      <td>O</td>      <td>O</td>      <td>O</td>      <td>O</td>      <td>O</td>      <td>O</td>      <td>O</td>      <td>O</td>      <td>O</td>      <td>O</td>      <td>O</td>      <td>I-RelativeDate</td>      <td>O</td>      <td>O</td>      <td>I-RelativeDate</td>      <td>O</td>      <td>I-DateTime</td>      <td>I-Relative_Date</td>      <td>O</td>      <td>O</td>      <td>I-RelativeDate</td>      <td>O</td>      <td>O</td>      <td>O</td>      <td>O</td>      <td>O</td>      <td>O</td>      <td>O</td>      <td>O</td>      <td>O</td>      <td>O</td>      <td>O</td>    </tr>    <tr>      <th>14</th>      <td>0</td>      <td>97</td>      <td>98</td>      <td>to</td>      <td>O</td>      <td>O</td>      <td>O</td>      <td>O</td>      <td>O</td>      <td>O</td>      <td>O</td>      <td>O</td>      <td>O</td>      <td>O</td>      <td>O</td>      <td>O</td>      <td>O</td>      <td>O</td>      <td>O</td>      <td>O</td>      <td>O</td>      <td>O</td>      <td>O</td>      <td>O</td>      <td>O</td>      <td>O</td>      <td>O</td>      <td>O</td>      <td>O</td>      <td>O</td>      <td>O</td>      <td>O</td>      <td>O</td>      <td>O</td>      <td>O</td>      <td>O</td>      <td>O</td>      <td>O</td>      <td>O</td>      <td>O</td>      <td>O</td>      <td>O</td>      <td>O</td>      <td>O</td>      <td>O</td>      <td>O</td>      <td>O</td>      <td>O</td>      <td>O</td>      <td>O</td>      <td>O</td>      <td>O</td>      <td>O</td>      <td>O</td>      <td>O</td>      <td>O</td>      <td>O</td>      <td>O</td>      <td>O</td>      <td>O</td>      <td>O</td>      <td>O</td>      <td>O</td>      <td>O</td>      <td>O</td>      <td>O</td>      <td>O</td>      <td>O</td>      <td>O</td>      <td>O</td>      <td>O</td>      <td>O</td>      <td>O</td>      <td>O</td>      <td>O</td>      <td>O</td>      <td>O</td>      <td>O</td>      <td>O</td>      <td>O</td>      <td>O</td>      <td>O</td>      <td>O</td>      <td>O</td>      <td>O</td>      <td>O</td>      <td>O</td>      <td>O</td>      <td>O</td>      <td>O</td>      <td>O</td>      <td>O</td>      <td>O</td>      <td>O</td>      <td>O</td>      <td>O</td>      <td>O</td>      <td>O</td>      <td>O</td>      <td>O</td>      <td>O</td>      <td>O</td>    </tr>    <tr>      <th>15</th>      <td>0</td>      <td>100</td>      <td>111</td>      <td>presentation</td>      <td>O</td>      <td>O</td>      <td>O</td>      <td>O</td>      <td>O</td>      <td>O</td>      <td>O</td>      <td>O</td>      <td>O</td>      <td>O</td>      <td>B-OCCURRENCE</td>      <td>O</td>      <td>O</td>      <td>O</td>      <td>O</td>      <td>O</td>      <td>O</td>      <td>O</td>      <td>O</td>      <td>O</td>      <td>O</td>      <td>O</td>      <td>O</td>      <td>O</td>      <td>O</td>      <td>O</td>      <td>O</td>      <td>O</td>      <td>O</td>      <td>O</td>      <td>O</td>      <td>O</td>      <td>O</td>      <td>O</td>      <td>O</td>      <td>O</td>      <td>O</td>      <td>O</td>      <td>O</td>      <td>O</td>      <td>O</td>      <td>O</td>      <td>O</td>      <td>O</td>      <td>O</td>      <td>O</td>      <td>O</td>      <td>O</td>      <td>O</td>      <td>O</td>      <td>O</td>      <td>O</td>      <td>O</td>      <td>O</td>      <td>O</td>      <td>O</td>      <td>O</td>      <td>O</td>      <td>O</td>      <td>O</td>      <td>O</td>      <td>O</td>      <td>O</td>      <td>O</td>      <td>O</td>      <td>O</td>      <td>O</td>      <td>O</td>      <td>O</td>      <td>O</td>      <td>O</td>      <td>O</td>      <td>O</td>      <td>O</td>      <td>O</td>      <td>O</td>      <td>O</td>      <td>O</td>      <td>O</td>      <td>O</td>      <td>O</td>      <td>O</td>      <td>O</td>      <td>O</td>      <td>O</td>      <td>O</td>      <td>O</td>      <td>O</td>      <td>B-OCCURRENCE</td>      <td>O</td>      <td>O</td>      <td>O</td>      <td>O</td>      <td>O</td>      <td>B-clinical_event</td>      <td>O</td>      <td>O</td>      <td>O</td>    </tr>    <tr>      <th>16</th>      <td>0</td>      <td>113</td>      <td>115</td>      <td>and</td>      <td>O</td>      <td>O</td>      <td>O</td>      <td>O</td>      <td>O</td>      <td>O</td>      <td>O</td>      <td>O</td>      <td>O</td>      <td>O</td>      <td>O</td>      <td>O</td>      <td>O</td>      <td>O</td>      <td>O</td>      <td>O</td>      <td>O</td>      <td>O</td>      <td>O</td>      <td>O</td>      <td>O</td>      <td>O</td>      <td>O</td>      <td>O</td>      <td>O</td>      <td>O</td>      <td>O</td>      <td>O</td>      <td>O</td>      <td>O</td>      <td>O</td>      <td>O</td>      <td>O</td>      <td>O</td>      <td>O</td>      <td>O</td>      <td>O</td>      <td>O</td>      <td>O</td>      <td>O</td>      <td>O</td>      <td>O</td>      <td>O</td>      <td>O</td>      <td>O</td>      <td>O</td>      <td>O</td>      <td>O</td>      <td>O</td>      <td>O</td>      <td>O</td>      <td>O</td>      <td>O</td>      <td>O</td>      <td>O</td>      <td>O</td>      <td>O</td>      <td>O</td>      <td>O</td>      <td>O</td>      <td>O</td>      <td>O</td>      <td>O</td>      <td>O</td>      <td>O</td>      <td>O</td>      <td>O</td>      <td>O</td>      <td>O</td>      <td>O</td>      <td>O</td>      <td>O</td>      <td>O</td>      <td>O</td>      <td>O</td>      <td>O</td>      <td>O</td>      <td>O</td>      <td>O</td>      <td>O</td>      <td>O</td>      <td>O</td>      <td>O</td>      <td>O</td>      <td>O</td>      <td>O</td>      <td>O</td>      <td>O</td>      <td>O</td>      <td>O</td>      <td>O</td>      <td>O</td>      <td>O</td>      <td>O</td>      <td>O</td>      <td>O</td>      <td>O</td>      <td>O</td>    </tr>    <tr>      <th>17</th>      <td>0</td>      <td>117</td>      <td>126</td>      <td>subsequent</td>      <td>O</td>      <td>O</td>      <td>O</td>      <td>O</td>      <td>O</td>      <td>O</td>      <td>O</td>      <td>O</td>      <td>O</td>      <td>O</td>      <td>B-PROBLEM</td>      <td>O</td>      <td>O</td>      <td>O</td>      <td>O</td>      <td>O</td>      <td>O</td>      <td>O</td>      <td>O</td>      <td>O</td>      <td>O</td>      <td>B-PROBLEM</td>      <td>O</td>      <td>O</td>      <td>O</td>      <td>O</td>      <td>O</td>      <td>O</td>      <td>O</td>      <td>O</td>      <td>O</td>      <td>O</td>      <td>O</td>      <td>O</td>      <td>O</td>      <td>O</td>      <td>O</td>      <td>O</td>      <td>O</td>      <td>O</td>      <td>O</td>      <td>O</td>      <td>B-PROBLEM</td>      <td>O</td>      <td>O</td>      <td>O</td>      <td>O</td>      <td>O</td>      <td>O</td>      <td>O</td>      <td>O</td>      <td>O</td>      <td>O</td>      <td>O</td>      <td>B-Diabetes</td>      <td>O</td>      <td>O</td>      <td>O</td>      <td>O</td>      <td>O</td>      <td>O</td>      <td>O</td>      <td>O</td>      <td>O</td>      <td>O</td>      <td>O</td>      <td>O</td>      <td>O</td>      <td>O</td>      <td>O</td>      <td>O</td>      <td>O</td>      <td>O</td>      <td>O</td>      <td>O</td>      <td>O</td>      <td>O</td>      <td>O</td>      <td>O</td>      <td>O</td>      <td>B-Modifier</td>      <td>O</td>      <td>O</td>      <td>O</td>      <td>O</td>      <td>O</td>      <td>O</td>      <td>O</td>      <td>B-PROBLEM</td>      <td>O</td>      <td>O</td>      <td>O</td>      <td>O</td>      <td>O</td>      <td>O</td>      <td>O</td>      <td>O</td>      <td>O</td>    </tr>    <tr>      <th>18</th>      <td>0</td>      <td>128</td>      <td>131</td>      <td>type</td>      <td>O</td>      <td>O</td>      <td>B-Disease_Syndrome_Disorder</td>      <td>B-Disease</td>      <td>B-Disease_Syndrome_Disorder</td>      <td>B-Disease</td>      <td>O</td>      <td>O</td>      <td>O</td>      <td>O</td>      <td>I-PROBLEM</td>      <td>O</td>      <td>O</td>      <td>O</td>      <td>B-Diabetes</td>      <td>O</td>      <td>O</td>      <td>O</td>      <td>O</td>      <td>O</td>      <td>O</td>      <td>I-PROBLEM</td>      <td>O</td>      <td>O</td>      <td>O</td>      <td>O</td>      <td>O</td>      <td>O</td>      <td>B-Diabetes</td>      <td>O</td>      <td>O</td>      <td>O</td>      <td>O</td>      <td>O</td>      <td>O</td>      <td>O</td>      <td>O</td>      <td>B-GENE</td>      <td>O</td>      <td>O</td>      <td>O</td>      <td>B-DIABETES</td>      <td>I-PROBLEM</td>      <td>O</td>      <td>O</td>      <td>O</td>      <td>O</td>      <td>B-Diabetes</td>      <td>O</td>      <td>O</td>      <td>O</td>      <td>O</td>      <td>O</td>      <td>O</td>      <td>I-Diabetes</td>      <td>O</td>      <td>O</td>      <td>O</td>      <td>B-DisorderOrSyndrome</td>      <td>O</td>      <td>B-Disease</td>      <td>O</td>      <td>O</td>      <td>O</td>      <td>O</td>      <td>O</td>      <td>O</td>      <td>O</td>      <td>O</td>      <td>O</td>      <td>O</td>      <td>O</td>      <td>O</td>      <td>O</td>      <td>O</td>      <td>O</td>      <td>O</td>      <td>B-Diabetes</td>      <td>O</td>      <td>O</td>      <td>B-Diabetes</td>      <td>O</td>      <td>O</td>      <td>O</td>      <td>O</td>      <td>O</td>      <td>B-Diabetes</td>      <td>O</td>      <td>I-PROBLEM</td>      <td>B-CONDITION</td>      <td>O</td>      <td>O</td>      <td>O</td>      <td>B-Disease_Syndrome_Disorder</td>      <td>B-clinical_condition</td>      <td>O</td>      <td>O</td>      <td>B-Diabetes</td>    </tr>    <tr>      <th>19</th>      <td>0</td>      <td>133</td>      <td>135</td>      <td>two</td>      <td>O</td>      <td>O</td>      <td>I-Disease_Syndrome_Disorder</td>      <td>I-Disease</td>      <td>I-Disease_Syndrome_Disorder</td>      <td>I-Disease</td>      <td>O</td>      <td>O</td>      <td>O</td>      <td>O</td>      <td>I-PROBLEM</td>      <td>O</td>      <td>O</td>      <td>O</td>      <td>I-Diabetes</td>      <td>O</td>      <td>O</td>      <td>O</td>      <td>O</td>      <td>O</td>      <td>O</td>      <td>I-PROBLEM</td>      <td>O</td>      <td>O</td>      <td>O</td>      <td>O</td>      <td>O</td>      <td>O</td>      <td>I-Diabetes</td>      <td>O</td>      <td>O</td>      <td>O</td>      <td>O</td>      <td>O</td>      <td>O</td>      <td>O</td>      <td>O</td>      <td>O</td>      <td>O</td>      <td>O</td>      <td>O</td>      <td>I-DIABETES</td>      <td>I-PROBLEM</td>      <td>O</td>      <td>O</td>      <td>O</td>      <td>O</td>      <td>I-Diabetes</td>      <td>O</td>      <td>O</td>      <td>O</td>      <td>O</td>      <td>O</td>      <td>O</td>      <td>I-Diabetes</td>      <td>O</td>      <td>O</td>      <td>O</td>      <td>I-DisorderOrSyndrome</td>      <td>O</td>      <td>I-Disease</td>      <td>O</td>      <td>O</td>      <td>O</td>      <td>O</td>      <td>O</td>      <td>O</td>      <td>O</td>      <td>O</td>      <td>O</td>      <td>O</td>      <td>O</td>      <td>O</td>      <td>O</td>      <td>O</td>      <td>O</td>      <td>O</td>      <td>I-Diabetes</td>      <td>O</td>      <td>O</td>      <td>I-Diabetes</td>      <td>O</td>      <td>O</td>      <td>O</td>      <td>O</td>      <td>O</td>      <td>I-Diabetes</td>      <td>O</td>      <td>I-PROBLEM</td>      <td>I-CONDITION</td>      <td>O</td>      <td>O</td>      <td>O</td>      <td>I-Disease_Syndrome_Disorder</td>      <td>I-clinical_condition</td>      <td>O</td>      <td>O</td>      <td>I-Diabetes</td>    </tr>    <tr>      <th>20</th>      <td>0</td>      <td>137</td>      <td>144</td>      <td>diabetes</td>      <td>O</td>      <td>O</td>      <td>I-Disease_Syndrome_Disorder</td>      <td>I-Disease</td>      <td>I-Disease_Syndrome_Disorder</td>      <td>I-Disease</td>      <td>B-Problem</td>      <td>O</td>      <td>O</td>      <td>O</td>      <td>I-PROBLEM</td>      <td>O</td>      <td>O</td>      <td>O</td>      <td>I-Diabetes</td>      <td>O</td>      <td>B-Disease</td>      <td>O</td>      <td>O</td>      <td>O</td>      <td>O</td>      <td>I-PROBLEM</td>      <td>O</td>      <td>B-Other_Disease</td>      <td>O</td>      <td>O</td>      <td>O</td>      <td>O</td>      <td>I-Diabetes</td>      <td>B-clinical_condition</td>      <td>O</td>      <td>O</td>      <td>O</td>      <td>B-Disease</td>      <td>O</td>      <td>O</td>      <td>O</td>      <td>O</td>      <td>O</td>      <td>O</td>      <td>O</td>      <td>I-DIABETES</td>      <td>I-PROBLEM</td>      <td>O</td>      <td>O</td>      <td>O</td>      <td>O</td>      <td>I-Diabetes</td>      <td>O</td>      <td>O</td>      <td>O</td>      <td>O</td>      <td>O</td>      <td>B-Disease</td>      <td>I-Diabetes</td>      <td>O</td>      <td>O</td>      <td>O</td>      <td>I-DisorderOrSyndrome</td>      <td>O</td>      <td>I-Disease</td>      <td>O</td>      <td>B-Disease_or_Syndrome</td>      <td>O</td>      <td>O</td>      <td>O</td>      <td>O</td>      <td>O</td>      <td>O</td>      <td>O</td>      <td>O</td>      <td>B-Other_Disease</td>      <td>O</td>      <td>O</td>      <td>O</td>      <td>B-MedicalCondition</td>      <td>O</td>      <td>I-Diabetes</td>      <td>O</td>      <td>O</td>      <td>I-Diabetes</td>      <td>O</td>      <td>O</td>      <td>O</td>      <td>O</td>      <td>O</td>      <td>I-Diabetes</td>      <td>O</td>      <td>I-PROBLEM</td>      <td>I-CONDITION</td>      <td>O</td>      <td>O</td>      <td>B-Other_Disease</td>      <td>I-Disease_Syndrome_Disorder</td>      <td>I-clinical_condition</td>      <td>O</td>      <td>O</td>      <td>I-Diabetes</td>    </tr>    <tr>      <th>21</th>      <td>0</td>      <td>146</td>      <td>153</td>      <td>mellitus</td>      <td>O</td>      <td>O</td>      <td>I-Disease_Syndrome_Disorder</td>      <td>I-Disease</td>      <td>I-Disease_Syndrome_Disorder</td>      <td>I-Disease</td>      <td>I-Problem</td>      <td>O</td>      <td>O</td>      <td>O</td>      <td>I-PROBLEM</td>      <td>O</td>      <td>O</td>      <td>O</td>      <td>I-Diabetes</td>      <td>O</td>      <td>I-Disease</td>      <td>O</td>      <td>O</td>      <td>O</td>      <td>O</td>      <td>I-PROBLEM</td>      <td>O</td>      <td>I-Other_Disease</td>      <td>O</td>      <td>O</td>      <td>O</td>      <td>O</td>      <td>I-Diabetes</td>      <td>I-clinical_condition</td>      <td>O</td>      <td>O</td>      <td>O</td>      <td>I-Disease</td>      <td>O</td>      <td>O</td>      <td>O</td>      <td>O</td>      <td>O</td>      <td>O</td>      <td>O</td>      <td>I-DIABETES</td>      <td>I-PROBLEM</td>      <td>O</td>      <td>O</td>      <td>O</td>      <td>O</td>      <td>I-Diabetes</td>      <td>O</td>      <td>O</td>      <td>O</td>      <td>O</td>      <td>O</td>      <td>I-Disease</td>      <td>I-Diabetes</td>      <td>O</td>      <td>O</td>      <td>O</td>      <td>I-DisorderOrSyndrome</td>      <td>O</td>      <td>B-Disease</td>      <td>O</td>      <td>I-Disease_or_Syndrome</td>      <td>O</td>      <td>O</td>      <td>O</td>      <td>O</td>      <td>O</td>      <td>O</td>      <td>O</td>      <td>O</td>      <td>I-Other_Disease</td>      <td>O</td>      <td>O</td>      <td>O</td>      <td>I-MedicalCondition</td>      <td>O</td>      <td>I-Diabetes</td>      <td>O</td>      <td>O</td>      <td>I-Diabetes</td>      <td>O</td>      <td>O</td>      <td>O</td>      <td>O</td>      <td>O</td>      <td>I-Diabetes</td>      <td>O</td>      <td>I-PROBLEM</td>      <td>I-CONDITION</td>      <td>O</td>      <td>O</td>      <td>I-Other_Disease</td>      <td>I-Disease_Syndrome_Disorder</td>      <td>I-clinical_condition</td>      <td>O</td>      <td>O</td>      <td>I-Diabetes</td>    </tr>    <tr>      <th>22</th>      <td>0</td>      <td>155</td>      <td>155</td>      <td>(</td>      <td>O</td>      <td>O</td>      <td>O</td>      <td>O</td>      <td>O</td>      <td>O</td>      <td>O</td>      <td>O</td>      <td>O</td>      <td>O</td>      <td>O</td>      <td>O</td>      <td>O</td>      <td>O</td>      <td>O</td>      <td>O</td>      <td>O</td>      <td>O</td>      <td>O</td>      <td>O</td>      <td>O</td>      <td>O</td>      <td>O</td>      <td>O</td>      <td>O</td>      <td>O</td>      <td>O</td>      <td>O</td>      <td>O</td>      <td>O</td>      <td>O</td>      <td>O</td>      <td>O</td>      <td>O</td>      <td>O</td>      <td>O</td>      <td>O</td>      <td>O</td>      <td>O</td>      <td>O</td>      <td>O</td>      <td>O</td>      <td>O</td>      <td>O</td>      <td>O</td>      <td>O</td>      <td>O</td>      <td>O</td>      <td>O</td>      <td>O</td>      <td>O</td>      <td>O</td>      <td>O</td>      <td>O</td>      <td>O</td>      <td>O</td>      <td>O</td>      <td>O</td>      <td>O</td>      <td>O</td>      <td>O</td>      <td>O</td>      <td>O</td>      <td>O</td>      <td>O</td>      <td>O</td>      <td>O</td>      <td>O</td>      <td>O</td>      <td>O</td>      <td>O</td>      <td>O</td>      <td>O</td>      <td>O</td>      <td>O</td>      <td>O</td>      <td>O</td>      <td>O</td>      <td>O</td>      <td>O</td>      <td>O</td>      <td>O</td>      <td>O</td>      <td>O</td>      <td>O</td>      <td>O</td>      <td>O</td>      <td>O</td>      <td>O</td>      <td>O</td>      <td>O</td>      <td>O</td>      <td>O</td>      <td>O</td>      <td>O</td>      <td>O</td>      <td>O</td>      <td>O</td>    </tr>    <tr>      <th>23</th>      <td>0</td>      <td>157</td>      <td>160</td>      <td>T2DM</td>      <td>O</td>      <td>O</td>      <td>B-Disease_Syndrome_Disorder</td>      <td>B-Disease</td>      <td>B-Disease_Syndrome_Disorder</td>      <td>B-Disease</td>      <td>B-Problem</td>      <td>O</td>      <td>O</td>      <td>O</td>      <td>B-PROBLEM</td>      <td>O</td>      <td>O</td>      <td>O</td>      <td>B-Diabetes</td>      <td>O</td>      <td>B-Disease</td>      <td>O</td>      <td>O</td>      <td>O</td>      <td>O</td>      <td>B-PROBLEM</td>      <td>O</td>      <td>B-Other_Disease</td>      <td>O</td>      <td>O</td>      <td>O</td>      <td>O</td>      <td>B-Diabetes</td>      <td>O</td>      <td>O</td>      <td>O</td>      <td>O</td>      <td>B-Disease</td>      <td>O</td>      <td>O</td>      <td>O</td>      <td>O</td>      <td>O</td>      <td>O</td>      <td>O</td>      <td>O</td>      <td>B-PROBLEM</td>      <td>O</td>      <td>O</td>      <td>O</td>      <td>O</td>      <td>B-Diabetes</td>      <td>O</td>      <td>O</td>      <td>O</td>      <td>B-ABBR</td>      <td>O</td>      <td>B-Disease</td>      <td>B-Diabetes</td>      <td>O</td>      <td>O</td>      <td>O</td>      <td>B-DisorderOrSyndrome</td>      <td>O</td>      <td>B-Medicalfinding</td>      <td>O</td>      <td>B-Disease_or_Syndrome</td>      <td>O</td>      <td>O</td>      <td>O</td>      <td>O</td>      <td>O</td>      <td>O</td>      <td>O</td>      <td>O</td>      <td>B-Other_Disease</td>      <td>O</td>      <td>O</td>      <td>O</td>      <td>B-MedicalCondition</td>      <td>O</td>      <td>B-Diabetes</td>      <td>O</td>      <td>O</td>      <td>B-Diabetes</td>      <td>O</td>      <td>O</td>      <td>O</td>      <td>O</td>      <td>O</td>      <td>B-Diabetes</td>      <td>O</td>      <td>B-PROBLEM</td>      <td>B-CONDITION</td>      <td>O</td>      <td>O</td>      <td>B-Other_Disease</td>      <td>B-Disease_Syndrome_Disorder</td>      <td>B-clinical_condition</td>      <td>O</td>      <td>O</td>      <td>B-Diabetes</td>    </tr>    <tr>      <th>24</th>      <td>0</td>      <td>162</td>      <td>163</td>      <td>),</td>      <td>O</td>      <td>O</td>      <td>O</td>      <td>O</td>      <td>O</td>      <td>O</td>      <td>O</td>      <td>O</td>      <td>O</td>      <td>O</td>      <td>O</td>      <td>O</td>      <td>O</td>      <td>O</td>      <td>O</td>      <td>O</td>      <td>O</td>      <td>O</td>      <td>O</td>      <td>O</td>      <td>O</td>      <td>O</td>      <td>O</td>      <td>O</td>      <td>O</td>      <td>O</td>      <td>O</td>      <td>O</td>      <td>O</td>      <td>O</td>      <td>O</td>      <td>O</td>      <td>O</td>      <td>O</td>      <td>O</td>      <td>O</td>      <td>O</td>      <td>O</td>      <td>O</td>      <td>O</td>      <td>O</td>      <td>O</td>      <td>O</td>      <td>O</td>      <td>O</td>      <td>O</td>      <td>O</td>      <td>O</td>      <td>O</td>      <td>O</td>      <td>O</td>      <td>O</td>      <td>O</td>      <td>O</td>      <td>O</td>      <td>O</td>      <td>O</td>      <td>O</td>      <td>O</td>      <td>O</td>      <td>I-Medicalfinding</td>      <td>O</td>      <td>O</td>      <td>O</td>      <td>O</td>      <td>O</td>      <td>O</td>      <td>O</td>      <td>O</td>      <td>O</td>      <td>O</td>      <td>O</td>      <td>O</td>      <td>O</td>      <td>O</td>      <td>O</td>      <td>O</td>      <td>O</td>      <td>O</td>      <td>O</td>      <td>O</td>      <td>O</td>      <td>O</td>      <td>O</td>      <td>O</td>      <td>O</td>      <td>O</td>      <td>O</td>      <td>O</td>      <td>O</td>      <td>O</td>      <td>O</td>      <td>O</td>      <td>O</td>      <td>O</td>      <td>O</td>      <td>O</td>      <td>O</td>    </tr>    <tr>      <th>25</th>      <td>0</td>      <td>165</td>      <td>167</td>      <td>one</td>      <td>O</td>      <td>O</td>      <td>O</td>      <td>O</td>      <td>O</td>      <td>O</td>      <td>O</td>      <td>O</td>      <td>O</td>      <td>O</td>      <td>O</td>      <td>O</td>      <td>O</td>      <td>O</td>      <td>O</td>      <td>O</td>      <td>O</td>      <td>O</td>      <td>O</td>      <td>O</td>      <td>O</td>      <td>O</td>      <td>O</td>      <td>O</td>      <td>O</td>      <td>O</td>      <td>O</td>      <td>O</td>      <td>O</td>      <td>O</td>      <td>O</td>      <td>O</td>      <td>O</td>      <td>O</td>      <td>O</td>      <td>O</td>      <td>O</td>      <td>O</td>      <td>O</td>      <td>O</td>      <td>O</td>      <td>O</td>      <td>O</td>      <td>O</td>      <td>O</td>      <td>O</td>      <td>O</td>      <td>O</td>      <td>O</td>      <td>O</td>      <td>O</td>      <td>O</td>      <td>O</td>      <td>O</td>      <td>O</td>      <td>O</td>      <td>O</td>      <td>O</td>      <td>O</td>      <td>O</td>      <td>I-Medicalfinding</td>      <td>O</td>      <td>O</td>      <td>O</td>      <td>O</td>      <td>O</td>      <td>O</td>      <td>O</td>      <td>O</td>      <td>O</td>      <td>O</td>      <td>O</td>      <td>O</td>      <td>O</td>      <td>O</td>      <td>O</td>      <td>O</td>      <td>O</td>      <td>O</td>      <td>O</td>      <td>O</td>      <td>O</td>      <td>O</td>      <td>O</td>      <td>O</td>      <td>O</td>      <td>O</td>      <td>O</td>      <td>O</td>      <td>O</td>      <td>O</td>      <td>O</td>      <td>O</td>      <td>O</td>      <td>O</td>      <td>O</td>      <td>O</td>      <td>O</td>    </tr>    <tr>      <th>26</th>      <td>0</td>      <td>169</td>      <td>173</td>      <td>prior</td>      <td>O</td>      <td>O</td>      <td>O</td>      <td>O</td>      <td>O</td>      <td>O</td>      <td>O</td>      <td>O</td>      <td>O</td>      <td>O</td>      <td>O</td>      <td>O</td>      <td>O</td>      <td>O</td>      <td>O</td>      <td>O</td>      <td>O</td>      <td>O</td>      <td>O</td>      <td>O</td>      <td>O</td>      <td>O</td>      <td>O</td>      <td>O</td>      <td>O</td>      <td>O</td>      <td>O</td>      <td>O</td>      <td>O</td>      <td>O</td>      <td>O</td>      <td>O</td>      <td>O</td>      <td>O</td>      <td>O</td>      <td>O</td>      <td>O</td>      <td>O</td>      <td>O</td>      <td>O</td>      <td>O</td>      <td>O</td>      <td>O</td>      <td>O</td>      <td>O</td>      <td>O</td>      <td>O</td>      <td>O</td>      <td>O</td>      <td>O</td>      <td>O</td>      <td>O</td>      <td>O</td>      <td>O</td>      <td>O</td>      <td>O</td>      <td>O</td>      <td>O</td>      <td>O</td>      <td>O</td>      <td>I-Medicalfinding</td>      <td>O</td>      <td>O</td>      <td>O</td>      <td>O</td>      <td>O</td>      <td>O</td>      <td>O</td>      <td>O</td>      <td>O</td>      <td>O</td>      <td>O</td>      <td>O</td>      <td>O</td>      <td>O</td>      <td>O</td>      <td>O</td>      <td>O</td>      <td>O</td>      <td>O</td>      <td>O</td>      <td>O</td>      <td>O</td>      <td>O</td>      <td>O</td>      <td>O</td>      <td>O</td>      <td>O</td>      <td>O</td>      <td>O</td>      <td>O</td>      <td>O</td>      <td>O</td>      <td>O</td>      <td>O</td>      <td>O</td>      <td>O</td>      <td>O</td>    </tr>    <tr>      <th>27</th>      <td>0</td>      <td>175</td>      <td>181</td>      <td>episode</td>      <td>O</td>      <td>O</td>      <td>O</td>      <td>O</td>      <td>O</td>      <td>O</td>      <td>O</td>      <td>O</td>      <td>O</td>      <td>O</td>      <td>O</td>      <td>O</td>      <td>O</td>      <td>O</td>      <td>O</td>      <td>O</td>      <td>O</td>      <td>O</td>      <td>O</td>      <td>O</td>      <td>O</td>      <td>O</td>      <td>O</td>      <td>O</td>      <td>O</td>      <td>O</td>      <td>O</td>      <td>O</td>      <td>O</td>      <td>O</td>      <td>O</td>      <td>O</td>      <td>O</td>      <td>O</td>      <td>O</td>      <td>O</td>      <td>O</td>      <td>O</td>      <td>O</td>      <td>O</td>      <td>O</td>      <td>O</td>      <td>O</td>      <td>O</td>      <td>O</td>      <td>O</td>      <td>O</td>      <td>O</td>      <td>O</td>      <td>O</td>      <td>O</td>      <td>O</td>      <td>O</td>      <td>O</td>      <td>O</td>      <td>O</td>      <td>O</td>      <td>O</td>      <td>O</td>      <td>O</td>      <td>I-Medicalfinding</td>      <td>O</td>      <td>O</td>      <td>O</td>      <td>O</td>      <td>O</td>      <td>O</td>      <td>O</td>      <td>O</td>      <td>O</td>      <td>O</td>      <td>O</td>      <td>O</td>      <td>O</td>      <td>O</td>      <td>O</td>      <td>O</td>      <td>O</td>      <td>O</td>      <td>O</td>      <td>O</td>      <td>O</td>      <td>O</td>      <td>O</td>      <td>O</td>      <td>O</td>      <td>O</td>      <td>O</td>      <td>O</td>      <td>O</td>      <td>O</td>      <td>O</td>      <td>O</td>      <td>O</td>      <td>O</td>      <td>O</td>      <td>O</td>      <td>O</td>    </tr>    <tr>      <th>28</th>      <td>0</td>      <td>183</td>      <td>184</td>      <td>of</td>      <td>O</td>      <td>O</td>      <td>O</td>      <td>O</td>      <td>O</td>      <td>O</td>      <td>O</td>      <td>O</td>      <td>O</td>      <td>O</td>      <td>O</td>      <td>O</td>      <td>O</td>      <td>O</td>      <td>O</td>      <td>O</td>      <td>O</td>      <td>O</td>      <td>O</td>      <td>O</td>      <td>O</td>      <td>O</td>      <td>O</td>      <td>O</td>      <td>O</td>      <td>O</td>      <td>O</td>      <td>O</td>      <td>O</td>      <td>O</td>      <td>O</td>      <td>O</td>      <td>O</td>      <td>O</td>      <td>O</td>      <td>O</td>      <td>O</td>      <td>O</td>      <td>O</td>      <td>O</td>      <td>O</td>      <td>O</td>      <td>O</td>      <td>O</td>      <td>O</td>      <td>O</td>      <td>O</td>      <td>O</td>      <td>O</td>      <td>O</td>      <td>O</td>      <td>O</td>      <td>O</td>      <td>O</td>      <td>O</td>      <td>O</td>      <td>O</td>      <td>O</td>      <td>O</td>      <td>O</td>      <td>O</td>      <td>O</td>      <td>O</td>      <td>O</td>      <td>O</td>      <td>O</td>      <td>O</td>      <td>O</td>      <td>O</td>      <td>O</td>      <td>O</td>      <td>O</td>      <td>O</td>      <td>O</td>      <td>O</td>      <td>O</td>      <td>O</td>      <td>O</td>      <td>O</td>      <td>O</td>      <td>O</td>      <td>O</td>      <td>O</td>      <td>O</td>      <td>O</td>      <td>O</td>      <td>O</td>      <td>O</td>      <td>O</td>      <td>O</td>      <td>O</td>      <td>O</td>      <td>O</td>      <td>O</td>      <td>O</td>      <td>O</td>      <td>O</td>      <td>O</td>    </tr>    <tr>      <th>29</th>      <td>0</td>      <td>186</td>      <td>196</td>      <td>HTG-induced</td>      <td>O</td>      <td>O</td>      <td>B-Disease_Syndrome_Disorder</td>      <td>B-Disease</td>      <td>B-Disease_Syndrome_Disorder</td>      <td>B-Disease</td>      <td>B-Problem</td>      <td>O</td>      <td>O</td>      <td>O</td>      <td>B-PROBLEM</td>      <td>O</td>      <td>O</td>      <td>O</td>      <td>B-Disease_Syndrome_Disorder</td>      <td>O</td>      <td>O</td>      <td>O</td>      <td>O</td>      <td>O</td>      <td>O</td>      <td>B-PROBLEM</td>      <td>O</td>      <td>B-Other_Disease</td>      <td>O</td>      <td>O</td>      <td>O</td>      <td>O</td>      <td>B-Disease_Syndrome_Disorder</td>      <td>O</td>      <td>O</td>      <td>O</td>      <td>O</td>      <td>B-Disease</td>      <td>O</td>      <td>O</td>      <td>O</td>      <td>O</td>      <td>O</td>      <td>O</td>      <td>O</td>      <td>O</td>      <td>B-PROBLEM</td>      <td>O</td>      <td>O</td>      <td>O</td>      <td>O</td>      <td>B-Disease_Syndrome_Disorder</td>      <td>O</td>      <td>O</td>      <td>O</td>      <td>O</td>      <td>O</td>      <td>B-Disease</td>      <td>B-Disease_Syndrome_Disorder</td>      <td>O</td>      <td>O</td>      <td>O</td>      <td>O</td>      <td>O</td>      <td>B-Disease</td>      <td>O</td>      <td>B-Disease_or_Syndrome</td>      <td>O</td>      <td>O</td>      <td>O</td>      <td>O</td>      <td>O</td>      <td>O</td>      <td>O</td>      <td>O</td>      <td>O</td>      <td>O</td>      <td>O</td>      <td>O</td>      <td>B-MedicalCondition</td>      <td>O</td>      <td>B-Disease_Syndrome_Disorder</td>      <td>O</td>      <td>O</td>      <td>B-Disease_Syndrome_Disorder</td>      <td>O</td>      <td>O</td>      <td>O</td>      <td>O</td>      <td>O</td>      <td>B-Disease_Syndrome_Disorder</td>      <td>O</td>      <td>B-PROBLEM</td>      <td>B-CONDITION</td>      <td>O</td>      <td>O</td>      <td>B-Other_Disease</td>      <td>B-Disease_Syndrome_Disorder</td>      <td>O</td>      <td>O</td>      <td>O</td>      <td>B-Disease_Syndrome_Disorder</td>    </tr>    <tr>      <th>30</th>      <td>0</td>      <td>198</td>      <td>209</td>      <td>pancreatitis</td>      <td>O</td>      <td>O</td>      <td>I-Disease_Syndrome_Disorder</td>      <td>I-Disease</td>      <td>I-Disease_Syndrome_Disorder</td>      <td>I-Disease</td>      <td>I-Problem</td>      <td>O</td>      <td>O</td>      <td>O</td>      <td>I-PROBLEM</td>      <td>O</td>      <td>O</td>      <td>O</td>      <td>I-Disease_Syndrome_Disorder</td>      <td>O</td>      <td>B-Disease</td>      <td>O</td>      <td>O</td>      <td>O</td>      <td>O</td>      <td>I-PROBLEM</td>      <td>O</td>      <td>I-Other_Disease</td>      <td>O</td>      <td>O</td>      <td>O</td>      <td>O</td>      <td>I-Disease_Syndrome_Disorder</td>      <td>O</td>      <td>O</td>      <td>O</td>      <td>O</td>      <td>I-Disease</td>      <td>O</td>      <td>O</td>      <td>O</td>      <td>O</td>      <td>O</td>      <td>O</td>      <td>O</td>      <td>O</td>      <td>I-PROBLEM</td>      <td>O</td>      <td>O</td>      <td>O</td>      <td>O</td>      <td>I-Disease_Syndrome_Disorder</td>      <td>O</td>      <td>O</td>      <td>O</td>      <td>O</td>      <td>O</td>      <td>I-Disease</td>      <td>I-Disease_Syndrome_Disorder</td>      <td>O</td>      <td>O</td>      <td>O</td>      <td>O</td>      <td>O</td>      <td>I-Disease</td>      <td>O</td>      <td>I-Disease_or_Syndrome</td>      <td>O</td>      <td>O</td>      <td>O</td>      <td>O</td>      <td>O</td>      <td>O</td>      <td>O</td>      <td>O</td>      <td>B-Other_Disease</td>      <td>O</td>      <td>B-ADE</td>      <td>O</td>      <td>I-MedicalCondition</td>      <td>O</td>      <td>I-Disease_Syndrome_Disorder</td>      <td>O</td>      <td>O</td>      <td>I-Disease_Syndrome_Disorder</td>      <td>O</td>      <td>O</td>      <td>O</td>      <td>O</td>      <td>O</td>      <td>I-Disease_Syndrome_Disorder</td>      <td>O</td>      <td>I-PROBLEM</td>      <td>I-CONDITION</td>      <td>O</td>      <td>O</td>      <td>I-Other_Disease</td>      <td>I-Disease_Syndrome_Disorder</td>      <td>B-clinical_condition</td>      <td>O</td>      <td>O</td>      <td>I-Disease_Syndrome_Disorder</td>    </tr>    <tr>      <th>31</th>      <td>0</td>      <td>211</td>      <td>215</td>      <td>three</td>      <td>O</td>      <td>O</td>      <td>O</td>      <td>B-DateTime</td>      <td>B-Date_Time</td>      <td>B-DateTime</td>      <td>O</td>      <td>O</td>      <td>O</td>      <td>O</td>      <td>B-DURATION</td>      <td>O</td>      <td>O</td>      <td>B-Relative_Date</td>      <td>B-RelativeDate</td>      <td>O</td>      <td>O</td>      <td>O</td>      <td>O</td>      <td>O</td>      <td>O</td>      <td>O</td>      <td>O</td>      <td>O</td>      <td>O</td>      <td>O</td>      <td>O</td>      <td>O</td>      <td>B-RelativeDate</td>      <td>O</td>      <td>O</td>      <td>O</td>      <td>O</td>      <td>O</td>      <td>O</td>      <td>O</td>      <td>O</td>      <td>O</td>      <td>O</td>      <td>O</td>      <td>O</td>      <td>O</td>      <td>O</td>      <td>O</td>      <td>O</td>      <td>O</td>      <td>O</td>      <td>B-RelativeDate</td>      <td>O</td>      <td>O</td>      <td>O</td>      <td>O</td>      <td>O</td>      <td>O</td>      <td>B-RelativeDate</td>      <td>O</td>      <td>O</td>      <td>O</td>      <td>O</td>      <td>O</td>      <td>B-Duration</td>      <td>O</td>      <td>O</td>      <td>O</td>      <td>O</td>      <td>O</td>      <td>O</td>      <td>O</td>      <td>O</td>      <td>O</td>      <td>O</td>      <td>O</td>      <td>O</td>      <td>O</td>      <td>O</td>      <td>O</td>      <td>O</td>      <td>B-RelativeDate</td>      <td>O</td>      <td>O</td>      <td>B-RelativeDate</td>      <td>O</td>      <td>B-DateTime</td>      <td>B-Relative_Date</td>      <td>O</td>      <td>O</td>      <td>B-RelativeDate</td>      <td>O</td>      <td>B-DURATION</td>      <td>O</td>      <td>O</td>      <td>O</td>      <td>O</td>      <td>O</td>      <td>B-date_time</td>      <td>O</td>      <td>O</td>      <td>O</td>    </tr>    <tr>      <th>32</th>      <td>0</td>      <td>217</td>      <td>221</td>      <td>years</td>      <td>O</td>      <td>O</td>      <td>O</td>      <td>I-DateTime</td>      <td>I-Date_Time</td>      <td>I-DateTime</td>      <td>O</td>      <td>O</td>      <td>O</td>      <td>O</td>      <td>I-DURATION</td>      <td>O</td>      <td>O</td>      <td>I-Relative_Date</td>      <td>I-RelativeDate</td>      <td>O</td>      <td>O</td>      <td>O</td>      <td>O</td>      <td>O</td>      <td>O</td>      <td>O</td>      <td>O</td>      <td>O</td>      <td>O</td>      <td>O</td>      <td>O</td>      <td>O</td>      <td>I-RelativeDate</td>      <td>O</td>      <td>O</td>      <td>O</td>      <td>O</td>      <td>O</td>      <td>O</td>      <td>O</td>      <td>O</td>      <td>O</td>      <td>O</td>      <td>O</td>      <td>O</td>      <td>O</td>      <td>O</td>      <td>O</td>      <td>O</td>      <td>O</td>      <td>O</td>      <td>I-RelativeDate</td>      <td>O</td>      <td>O</td>      <td>O</td>      <td>O</td>      <td>O</td>      <td>O</td>      <td>I-RelativeDate</td>      <td>O</td>      <td>O</td>      <td>O</td>      <td>O</td>      <td>O</td>      <td>I-Duration</td>      <td>O</td>      <td>O</td>      <td>O</td>      <td>O</td>      <td>O</td>      <td>O</td>      <td>O</td>      <td>O</td>      <td>O</td>      <td>O</td>      <td>O</td>      <td>O</td>      <td>O</td>      <td>O</td>      <td>O</td>      <td>O</td>      <td>I-RelativeDate</td>      <td>O</td>      <td>O</td>      <td>I-RelativeDate</td>      <td>O</td>      <td>I-DateTime</td>      <td>I-Relative_Date</td>      <td>O</td>      <td>O</td>      <td>I-RelativeDate</td>      <td>O</td>      <td>I-DURATION</td>      <td>O</td>      <td>O</td>      <td>O</td>      <td>O</td>      <td>O</td>      <td>I-date_time</td>      <td>O</td>      <td>O</td>      <td>O</td>    </tr>    <tr>      <th>33</th>      <td>0</td>      <td>223</td>      <td>227</td>      <td>prior</td>      <td>O</td>      <td>O</td>      <td>O</td>      <td>I-DateTime</td>      <td>I-Date_Time</td>      <td>I-DateTime</td>      <td>O</td>      <td>O</td>      <td>O</td>      <td>O</td>      <td>O</td>      <td>O</td>      <td>O</td>      <td>I-Relative_Date</td>      <td>I-RelativeDate</td>      <td>O</td>      <td>O</td>      <td>O</td>      <td>O</td>      <td>O</td>      <td>O</td>      <td>O</td>      <td>O</td>      <td>O</td>      <td>O</td>      <td>O</td>      <td>O</td>      <td>O</td>      <td>I-RelativeDate</td>      <td>O</td>      <td>O</td>      <td>O</td>      <td>O</td>      <td>O</td>      <td>O</td>      <td>O</td>      <td>O</td>      <td>O</td>      <td>O</td>      <td>O</td>      <td>O</td>      <td>O</td>      <td>O</td>      <td>O</td>      <td>O</td>      <td>O</td>      <td>O</td>      <td>I-RelativeDate</td>      <td>O</td>      <td>O</td>      <td>O</td>      <td>O</td>      <td>O</td>      <td>O</td>      <td>I-RelativeDate</td>      <td>O</td>      <td>O</td>      <td>O</td>      <td>O</td>      <td>O</td>      <td>O</td>      <td>O</td>      <td>O</td>      <td>O</td>      <td>O</td>      <td>O</td>      <td>O</td>      <td>O</td>      <td>O</td>      <td>O</td>      <td>O</td>      <td>O</td>      <td>O</td>      <td>O</td>      <td>O</td>      <td>O</td>      <td>O</td>      <td>I-RelativeDate</td>      <td>O</td>      <td>O</td>      <td>I-RelativeDate</td>      <td>O</td>      <td>I-DateTime</td>      <td>I-Relative_Date</td>      <td>O</td>      <td>O</td>      <td>I-RelativeDate</td>      <td>O</td>      <td>O</td>      <td>O</td>      <td>O</td>      <td>O</td>      <td>O</td>      <td>O</td>      <td>O</td>      <td>O</td>      <td>O</td>      <td>O</td>    </tr>    <tr>      <th>34</th>      <td>0</td>      <td>229</td>      <td>230</td>      <td>to</td>      <td>O</td>      <td>O</td>      <td>O</td>      <td>O</td>      <td>O</td>      <td>O</td>      <td>O</td>      <td>O</td>      <td>O</td>      <td>O</td>      <td>O</td>      <td>O</td>      <td>O</td>      <td>O</td>      <td>O</td>      <td>O</td>      <td>O</td>      <td>O</td>      <td>O</td>      <td>O</td>      <td>O</td>      <td>O</td>      <td>O</td>      <td>O</td>      <td>O</td>      <td>O</td>      <td>O</td>      <td>O</td>      <td>O</td>      <td>O</td>      <td>O</td>      <td>O</td>      <td>O</td>      <td>O</td>      <td>O</td>      <td>O</td>      <td>O</td>      <td>O</td>      <td>O</td>      <td>O</td>      <td>O</td>      <td>O</td>      <td>O</td>      <td>O</td>      <td>O</td>      <td>O</td>      <td>O</td>      <td>O</td>      <td>O</td>      <td>O</td>      <td>O</td>      <td>O</td>      <td>O</td>      <td>O</td>      <td>O</td>      <td>O</td>      <td>O</td>      <td>O</td>      <td>O</td>      <td>O</td>      <td>O</td>      <td>O</td>      <td>O</td>      <td>O</td>      <td>O</td>      <td>O</td>      <td>O</td>      <td>O</td>      <td>O</td>      <td>O</td>      <td>O</td>      <td>O</td>      <td>O</td>      <td>O</td>      <td>O</td>      <td>O</td>      <td>O</td>      <td>O</td>      <td>O</td>      <td>O</td>      <td>O</td>      <td>O</td>      <td>O</td>      <td>O</td>      <td>O</td>      <td>O</td>      <td>O</td>      <td>O</td>      <td>O</td>      <td>O</td>      <td>O</td>      <td>O</td>      <td>O</td>      <td>O</td>      <td>O</td>      <td>O</td>      <td>O</td>      <td>O</td>    </tr>    <tr>      <th>35</th>      <td>0</td>      <td>232</td>      <td>243</td>      <td>presentation</td>      <td>O</td>      <td>O</td>      <td>O</td>      <td>O</td>      <td>O</td>      <td>O</td>      <td>O</td>      <td>O</td>      <td>O</td>      <td>O</td>      <td>B-OCCURRENCE</td>      <td>O</td>      <td>O</td>      <td>O</td>      <td>O</td>      <td>O</td>      <td>O</td>      <td>O</td>      <td>O</td>      <td>O</td>      <td>O</td>      <td>O</td>      <td>O</td>      <td>O</td>      <td>O</td>      <td>O</td>      <td>O</td>      <td>O</td>      <td>O</td>      <td>O</td>      <td>O</td>      <td>O</td>      <td>O</td>      <td>O</td>      <td>O</td>      <td>O</td>      <td>O</td>      <td>O</td>      <td>O</td>      <td>O</td>      <td>O</td>      <td>O</td>      <td>O</td>      <td>O</td>      <td>O</td>      <td>O</td>      <td>O</td>      <td>O</td>      <td>O</td>      <td>O</td>      <td>O</td>      <td>O</td>      <td>O</td>      <td>O</td>      <td>O</td>      <td>O</td>      <td>O</td>      <td>O</td>      <td>O</td>      <td>O</td>      <td>O</td>      <td>O</td>      <td>O</td>      <td>O</td>      <td>O</td>      <td>O</td>      <td>O</td>      <td>O</td>      <td>O</td>      <td>O</td>      <td>O</td>      <td>O</td>      <td>O</td>      <td>O</td>      <td>O</td>      <td>O</td>      <td>O</td>      <td>O</td>      <td>O</td>      <td>O</td>      <td>O</td>      <td>O</td>      <td>O</td>      <td>O</td>      <td>O</td>      <td>O</td>      <td>O</td>      <td>O</td>      <td>B-EVIDENTIAL</td>      <td>O</td>      <td>O</td>      <td>O</td>      <td>O</td>      <td>O</td>      <td>B-clinical_event</td>      <td>O</td>      <td>O</td>      <td>O</td>    </tr>    <tr>      <th>36</th>      <td>0</td>      <td>245</td>      <td>245</td>      <td>,</td>      <td>O</td>      <td>O</td>      <td>O</td>      <td>O</td>      <td>O</td>      <td>O</td>      <td>O</td>      <td>O</td>      <td>O</td>      <td>O</td>      <td>O</td>      <td>O</td>      <td>O</td>      <td>O</td>      <td>O</td>      <td>O</td>      <td>O</td>      <td>O</td>      <td>O</td>      <td>O</td>      <td>O</td>      <td>O</td>      <td>O</td>      <td>O</td>      <td>O</td>      <td>O</td>      <td>O</td>      <td>O</td>      <td>O</td>      <td>O</td>      <td>O</td>      <td>O</td>      <td>O</td>      <td>O</td>      <td>O</td>      <td>O</td>      <td>O</td>      <td>O</td>      <td>O</td>      <td>O</td>      <td>O</td>      <td>O</td>      <td>O</td>      <td>O</td>      <td>O</td>      <td>O</td>      <td>O</td>      <td>O</td>      <td>O</td>      <td>O</td>      <td>O</td>      <td>O</td>      <td>O</td>      <td>O</td>      <td>O</td>      <td>O</td>      <td>O</td>      <td>O</td>      <td>O</td>      <td>O</td>      <td>O</td>      <td>O</td>      <td>O</td>      <td>O</td>      <td>O</td>      <td>O</td>      <td>O</td>      <td>O</td>      <td>O</td>      <td>O</td>      <td>O</td>      <td>O</td>      <td>O</td>      <td>O</td>      <td>O</td>      <td>O</td>      <td>O</td>      <td>O</td>      <td>O</td>      <td>O</td>      <td>O</td>      <td>O</td>      <td>O</td>      <td>O</td>      <td>O</td>      <td>O</td>      <td>O</td>      <td>O</td>      <td>O</td>      <td>O</td>      <td>O</td>      <td>O</td>      <td>O</td>      <td>O</td>      <td>O</td>      <td>O</td>      <td>O</td>      <td>O</td>    </tr>    <tr>      <th>37</th>      <td>0</td>      <td>247</td>      <td>256</td>      <td>associated</td>      <td>O</td>      <td>O</td>      <td>O</td>      <td>O</td>      <td>O</td>      <td>O</td>      <td>O</td>      <td>O</td>      <td>O</td>      <td>O</td>      <td>O</td>      <td>O</td>      <td>O</td>      <td>O</td>      <td>O</td>      <td>O</td>      <td>O</td>      <td>O</td>      <td>O</td>      <td>O</td>      <td>O</td>      <td>O</td>      <td>O</td>      <td>O</td>      <td>O</td>      <td>O</td>      <td>O</td>      <td>O</td>      <td>O</td>      <td>O</td>      <td>O</td>      <td>O</td>      <td>O</td>      <td>O</td>      <td>O</td>      <td>O</td>      <td>O</td>      <td>O</td>      <td>O</td>      <td>O</td>      <td>O</td>      <td>O</td>      <td>O</td>      <td>O</td>      <td>O</td>      <td>O</td>      <td>O</td>      <td>O</td>      <td>O</td>      <td>O</td>      <td>O</td>      <td>O</td>      <td>O</td>      <td>O</td>      <td>O</td>      <td>O</td>      <td>O</td>      <td>O</td>      <td>O</td>      <td>O</td>      <td>O</td>      <td>O</td>      <td>B-Qualitative_Concept</td>      <td>O</td>      <td>O</td>      <td>O</td>      <td>O</td>      <td>O</td>      <td>O</td>      <td>O</td>      <td>O</td>      <td>O</td>      <td>O</td>      <td>O</td>      <td>O</td>      <td>O</td>      <td>O</td>      <td>O</td>      <td>O</td>      <td>O</td>      <td>O</td>      <td>O</td>      <td>O</td>      <td>O</td>      <td>O</td>      <td>O</td>      <td>O</td>      <td>O</td>      <td>O</td>      <td>O</td>      <td>O</td>      <td>O</td>      <td>O</td>      <td>O</td>      <td>O</td>      <td>O</td>      <td>O</td>      <td>O</td>    </tr>    <tr>      <th>38</th>      <td>0</td>      <td>258</td>      <td>261</td>      <td>with</td>      <td>O</td>      <td>O</td>      <td>O</td>      <td>O</td>      <td>O</td>      <td>O</td>      <td>O</td>      <td>O</td>      <td>O</td>      <td>O</td>      <td>O</td>      <td>O</td>      <td>O</td>      <td>O</td>      <td>O</td>      <td>O</td>      <td>O</td>      <td>O</td>      <td>O</td>      <td>O</td>      <td>O</td>      <td>O</td>      <td>O</td>      <td>O</td>      <td>O</td>      <td>O</td>      <td>O</td>      <td>O</td>      <td>O</td>      <td>O</td>      <td>O</td>      <td>O</td>      <td>O</td>      <td>O</td>      <td>O</td>      <td>O</td>      <td>O</td>      <td>O</td>      <td>O</td>      <td>O</td>      <td>O</td>      <td>O</td>      <td>O</td>      <td>O</td>      <td>O</td>      <td>O</td>      <td>O</td>      <td>O</td>      <td>O</td>      <td>O</td>      <td>O</td>      <td>O</td>      <td>O</td>      <td>O</td>      <td>O</td>      <td>O</td>      <td>O</td>      <td>O</td>      <td>O</td>      <td>O</td>      <td>O</td>      <td>O</td>      <td>I-Qualitative_Concept</td>      <td>O</td>      <td>O</td>      <td>O</td>      <td>O</td>      <td>O</td>      <td>O</td>      <td>O</td>      <td>O</td>      <td>O</td>      <td>O</td>      <td>O</td>      <td>O</td>      <td>O</td>      <td>O</td>      <td>O</td>      <td>O</td>      <td>O</td>      <td>O</td>      <td>O</td>      <td>O</td>      <td>O</td>      <td>O</td>      <td>O</td>      <td>O</td>      <td>O</td>      <td>O</td>      <td>O</td>      <td>O</td>      <td>O</td>      <td>O</td>      <td>O</td>      <td>O</td>      <td>O</td>      <td>O</td>      <td>O</td>    </tr>    <tr>      <th>39</th>      <td>0</td>      <td>263</td>      <td>264</td>      <td>an</td>      <td>O</td>      <td>O</td>      <td>O</td>      <td>O</td>      <td>O</td>      <td>O</td>      <td>O</td>      <td>O</td>      <td>O</td>      <td>O</td>      <td>B-PROBLEM</td>      <td>O</td>      <td>O</td>      <td>O</td>      <td>O</td>      <td>O</td>      <td>O</td>      <td>O</td>      <td>O</td>      <td>O</td>      <td>O</td>      <td>B-PROBLEM</td>      <td>O</td>      <td>O</td>      <td>O</td>      <td>O</td>      <td>O</td>      <td>O</td>      <td>O</td>      <td>O</td>      <td>O</td>      <td>O</td>      <td>O</td>      <td>O</td>      <td>O</td>      <td>O</td>      <td>O</td>      <td>O</td>      <td>O</td>      <td>O</td>      <td>O</td>      <td>O</td>      <td>B-PROBLEM</td>      <td>O</td>      <td>O</td>      <td>O</td>      <td>O</td>      <td>O</td>      <td>O</td>      <td>O</td>      <td>O</td>      <td>O</td>      <td>O</td>      <td>O</td>      <td>O</td>      <td>O</td>      <td>O</td>      <td>O</td>      <td>O</td>      <td>O</td>      <td>O</td>      <td>O</td>      <td>O</td>      <td>O</td>      <td>O</td>      <td>O</td>      <td>O</td>      <td>O</td>      <td>O</td>      <td>O</td>      <td>O</td>      <td>O</td>      <td>O</td>      <td>O</td>      <td>O</td>      <td>O</td>      <td>O</td>      <td>O</td>      <td>O</td>      <td>O</td>      <td>O</td>      <td>O</td>      <td>O</td>      <td>O</td>      <td>O</td>      <td>O</td>      <td>O</td>      <td>O</td>      <td>B-PROBLEM</td>      <td>O</td>      <td>O</td>      <td>O</td>      <td>O</td>      <td>O</td>      <td>O</td>      <td>O</td>      <td>O</td>      <td>O</td>    </tr>    <tr>      <th>40</th>      <td>0</td>      <td>266</td>      <td>270</td>      <td>acute</td>      <td>O</td>      <td>O</td>      <td>B-Disease_Syndrome_Disorder</td>      <td>O</td>      <td>B-Disease_Syndrome_Disorder</td>      <td>B-Modifier</td>      <td>B-Modifier</td>      <td>O</td>      <td>O</td>      <td>O</td>      <td>I-PROBLEM</td>      <td>O</td>      <td>O</td>      <td>O</td>      <td>B-Disease_Syndrome_Disorder</td>      <td>O</td>      <td>O</td>      <td>O</td>      <td>O</td>      <td>O</td>      <td>O</td>      <td>I-PROBLEM</td>      <td>O</td>      <td>B-Other_Disease</td>      <td>O</td>      <td>O</td>      <td>O</td>      <td>O</td>      <td>B-Disease_Syndrome_Disorder</td>      <td>B-clinical_condition</td>      <td>O</td>      <td>O</td>      <td>O</td>      <td>B-Modifier</td>      <td>O</td>      <td>O</td>      <td>O</td>      <td>O</td>      <td>O</td>      <td>O</td>      <td>O</td>      <td>O</td>      <td>I-PROBLEM</td>      <td>O</td>      <td>O</td>      <td>O</td>      <td>O</td>      <td>B-Disease_Syndrome_Disorder</td>      <td>O</td>      <td>O</td>      <td>O</td>      <td>O</td>      <td>O</td>      <td>O</td>      <td>B-Disease_Syndrome_Disorder</td>      <td>O</td>      <td>O</td>      <td>O</td>      <td>O</td>      <td>O</td>      <td>B-Medicalfinding</td>      <td>O</td>      <td>B-Disease_or_Syndrome</td>      <td>O</td>      <td>O</td>      <td>O</td>      <td>O</td>      <td>O</td>      <td>O</td>      <td>O</td>      <td>O</td>      <td>B-Other_Disease</td>      <td>O</td>      <td>O</td>      <td>O</td>      <td>O</td>      <td>O</td>      <td>B-Modifier</td>      <td>O</td>      <td>O</td>      <td>B-Modifier</td>      <td>O</td>      <td>O</td>      <td>O</td>      <td>O</td>      <td>O</td>      <td>B-Modifier</td>      <td>O</td>      <td>I-PROBLEM</td>      <td>O</td>      <td>O</td>      <td>O</td>      <td>B-Other_Disease</td>      <td>B-Disease_Syndrome_Disorder</td>      <td>B-clinical_condition</td>      <td>O</td>      <td>O</td>      <td>O</td>    </tr>    <tr>      <th>41</th>      <td>0</td>      <td>272</td>      <td>280</td>      <td>hepatitis</td>      <td>O</td>      <td>O</td>      <td>I-Disease_Syndrome_Disorder</td>      <td>B-Disease</td>      <td>I-Disease_Syndrome_Disorder</td>      <td>B-Disease</td>      <td>B-Problem</td>      <td>O</td>      <td>O</td>      <td>O</td>      <td>I-PROBLEM</td>      <td>O</td>      <td>O</td>      <td>O</td>      <td>I-Disease_Syndrome_Disorder</td>      <td>O</td>      <td>B-Disease</td>      <td>O</td>      <td>O</td>      <td>O</td>      <td>O</td>      <td>I-PROBLEM</td>      <td>O</td>      <td>I-Other_Disease</td>      <td>O</td>      <td>B-Organism</td>      <td>O</td>      <td>O</td>      <td>I-Disease_Syndrome_Disorder</td>      <td>I-clinical_condition</td>      <td>O</td>      <td>O</td>      <td>O</td>      <td>B-Disease</td>      <td>O</td>      <td>O</td>      <td>O</td>      <td>O</td>      <td>O</td>      <td>O</td>      <td>O</td>      <td>O</td>      <td>I-PROBLEM</td>      <td>O</td>      <td>O</td>      <td>O</td>      <td>O</td>      <td>I-Disease_Syndrome_Disorder</td>      <td>O</td>      <td>O</td>      <td>O</td>      <td>O</td>      <td>O</td>      <td>B-Disease</td>      <td>I-Disease_Syndrome_Disorder</td>      <td>O</td>      <td>O</td>      <td>O</td>      <td>O</td>      <td>O</td>      <td>I-Medicalfinding</td>      <td>O</td>      <td>I-Disease_or_Syndrome</td>      <td>O</td>      <td>O</td>      <td>O</td>      <td>O</td>      <td>O</td>      <td>O</td>      <td>O</td>      <td>O</td>      <td>I-Other_Disease</td>      <td>O</td>      <td>O</td>      <td>O</td>      <td>B-MedicalCondition</td>      <td>O</td>      <td>B-Disease_Syndrome_Disorder</td>      <td>O</td>      <td>O</td>      <td>B-Communicable_Disease</td>      <td>O</td>      <td>O</td>      <td>O</td>      <td>O</td>      <td>O</td>      <td>B-Disease_Syndrome_Disorder</td>      <td>O</td>      <td>I-PROBLEM</td>      <td>B-CONDITION</td>      <td>O</td>      <td>O</td>      <td>I-Other_Disease</td>      <td>I-Disease_Syndrome_Disorder</td>      <td>I-clinical_condition</td>      <td>O</td>      <td>O</td>      <td>B-Disease_Syndrome_Disorder</td>    </tr>    <tr>      <th>42</th>      <td>0</td>      <td>282</td>      <td>282</td>      <td>,</td>      <td>O</td>      <td>O</td>      <td>O</td>      <td>O</td>      <td>O</td>      <td>O</td>      <td>O</td>      <td>O</td>      <td>O</td>      <td>O</td>      <td>O</td>      <td>O</td>      <td>O</td>      <td>O</td>      <td>O</td>      <td>O</td>      <td>O</td>      <td>O</td>      <td>O</td>      <td>O</td>      <td>O</td>      <td>O</td>      <td>O</td>      <td>O</td>      <td>O</td>      <td>O</td>      <td>O</td>      <td>O</td>      <td>O</td>      <td>O</td>      <td>O</td>      <td>O</td>      <td>O</td>      <td>O</td>      <td>O</td>      <td>O</td>      <td>O</td>      <td>O</td>      <td>O</td>      <td>O</td>      <td>O</td>      <td>O</td>      <td>O</td>      <td>O</td>      <td>O</td>      <td>O</td>      <td>O</td>      <td>O</td>      <td>O</td>      <td>O</td>      <td>O</td>      <td>O</td>      <td>O</td>      <td>O</td>      <td>O</td>      <td>O</td>      <td>O</td>      <td>O</td>      <td>O</td>      <td>O</td>      <td>O</td>      <td>O</td>      <td>O</td>      <td>O</td>      <td>O</td>      <td>O</td>      <td>O</td>      <td>O</td>      <td>O</td>      <td>O</td>      <td>O</td>      <td>O</td>      <td>O</td>      <td>O</td>      <td>O</td>      <td>O</td>      <td>O</td>      <td>O</td>      <td>O</td>      <td>O</td>      <td>O</td>      <td>O</td>      <td>O</td>      <td>O</td>      <td>O</td>      <td>O</td>      <td>O</td>      <td>O</td>      <td>O</td>      <td>O</td>      <td>O</td>      <td>O</td>      <td>O</td>      <td>O</td>      <td>O</td>      <td>O</td>      <td>O</td>      <td>O</td>    </tr>    <tr>      <th>43</th>      <td>0</td>      <td>284</td>      <td>286</td>      <td>and</td>      <td>O</td>      <td>O</td>      <td>O</td>      <td>O</td>      <td>O</td>      <td>O</td>      <td>O</td>      <td>O</td>      <td>O</td>      <td>O</td>      <td>O</td>      <td>O</td>      <td>O</td>      <td>O</td>      <td>O</td>      <td>O</td>      <td>O</td>      <td>O</td>      <td>O</td>      <td>O</td>      <td>O</td>      <td>O</td>      <td>O</td>      <td>O</td>      <td>O</td>      <td>O</td>      <td>O</td>      <td>O</td>      <td>O</td>      <td>O</td>      <td>O</td>      <td>O</td>      <td>O</td>      <td>O</td>      <td>O</td>      <td>O</td>      <td>O</td>      <td>O</td>      <td>O</td>      <td>O</td>      <td>O</td>      <td>O</td>      <td>O</td>      <td>O</td>      <td>O</td>      <td>O</td>      <td>O</td>      <td>O</td>      <td>O</td>      <td>O</td>      <td>O</td>      <td>O</td>      <td>O</td>      <td>O</td>      <td>O</td>      <td>O</td>      <td>O</td>      <td>O</td>      <td>O</td>      <td>O</td>      <td>O</td>      <td>O</td>      <td>O</td>      <td>O</td>      <td>O</td>      <td>O</td>      <td>O</td>      <td>O</td>      <td>O</td>      <td>O</td>      <td>O</td>      <td>O</td>      <td>O</td>      <td>O</td>      <td>O</td>      <td>O</td>      <td>O</td>      <td>O</td>      <td>O</td>      <td>O</td>      <td>O</td>      <td>O</td>      <td>O</td>      <td>O</td>      <td>O</td>      <td>O</td>      <td>O</td>      <td>O</td>      <td>O</td>      <td>O</td>      <td>O</td>      <td>O</td>      <td>O</td>      <td>O</td>      <td>O</td>      <td>O</td>      <td>O</td>      <td>O</td>    </tr>    <tr>      <th>44</th>      <td>0</td>      <td>288</td>      <td>294</td>      <td>obesity</td>      <td>O</td>      <td>O</td>      <td>B-Disease_Syndrome_Disorder</td>      <td>O</td>      <td>B-Disease_Syndrome_Disorder</td>      <td>B-Disease</td>      <td>B-HealthStatus</td>      <td>O</td>      <td>O</td>      <td>O</td>      <td>B-PROBLEM</td>      <td>O</td>      <td>O</td>      <td>O</td>      <td>B-Obesity</td>      <td>O</td>      <td>B-Disease</td>      <td>O</td>      <td>O</td>      <td>O</td>      <td>O</td>      <td>B-PROBLEM</td>      <td>O</td>      <td>O</td>      <td>O</td>      <td>O</td>      <td>O</td>      <td>O</td>      <td>B-Obesity</td>      <td>B-clinical_condition</td>      <td>O</td>      <td>O</td>      <td>O</td>      <td>B-HealthStatus</td>      <td>O</td>      <td>O</td>      <td>O</td>      <td>B-HP</td>      <td>O</td>      <td>B-HP</td>      <td>O</td>      <td>B-OBESE</td>      <td>B-PROBLEM</td>      <td>O</td>      <td>O</td>      <td>O</td>      <td>O</td>      <td>B-Obesity</td>      <td>O</td>      <td>O</td>      <td>O</td>      <td>O</td>      <td>O</td>      <td>B-Disease</td>      <td>B-Obesity</td>      <td>O</td>      <td>O</td>      <td>O</td>      <td>O</td>      <td>O</td>      <td>B-Medicalfinding</td>      <td>O</td>      <td>B-Disease_or_Syndrome</td>      <td>O</td>      <td>O</td>      <td>O</td>      <td>O</td>      <td>O</td>      <td>O</td>      <td>O</td>      <td>O</td>      <td>B-Obesity</td>      <td>O</td>      <td>O</td>      <td>O</td>      <td>O</td>      <td>O</td>      <td>B-Obesity</td>      <td>O</td>      <td>O</td>      <td>B-Obesity</td>      <td>O</td>      <td>O</td>      <td>O</td>      <td>O</td>      <td>O</td>      <td>B-Obesity</td>      <td>O</td>      <td>B-PROBLEM</td>      <td>B-CONDITION</td>      <td>O</td>      <td>O</td>      <td>B-Obesity</td>      <td>B-Disease_Syndrome_Disorder</td>      <td>B-clinical_event</td>      <td>O</td>      <td>O</td>      <td>B-Obesity</td>    </tr>    <tr>      <th>45</th>      <td>0</td>      <td>296</td>      <td>299</td>      <td>with</td>      <td>O</td>      <td>O</td>      <td>O</td>      <td>O</td>      <td>O</td>      <td>O</td>      <td>O</td>      <td>O</td>      <td>O</td>      <td>O</td>      <td>O</td>      <td>O</td>      <td>O</td>      <td>O</td>      <td>O</td>      <td>O</td>      <td>O</td>      <td>O</td>      <td>O</td>      <td>O</td>      <td>O</td>      <td>O</td>      <td>O</td>      <td>O</td>      <td>O</td>      <td>O</td>      <td>O</td>      <td>O</td>      <td>O</td>      <td>O</td>      <td>O</td>      <td>O</td>      <td>O</td>      <td>O</td>      <td>O</td>      <td>O</td>      <td>O</td>      <td>O</td>      <td>O</td>      <td>O</td>      <td>O</td>      <td>O</td>      <td>O</td>      <td>O</td>      <td>O</td>      <td>O</td>      <td>O</td>      <td>O</td>      <td>O</td>      <td>O</td>      <td>O</td>      <td>O</td>      <td>O</td>      <td>O</td>      <td>O</td>      <td>O</td>      <td>O</td>      <td>O</td>      <td>O</td>      <td>O</td>      <td>I-Medicalfinding</td>      <td>O</td>      <td>O</td>      <td>O</td>      <td>O</td>      <td>O</td>      <td>O</td>      <td>O</td>      <td>O</td>      <td>O</td>      <td>O</td>      <td>O</td>      <td>O</td>      <td>O</td>      <td>O</td>      <td>O</td>      <td>O</td>      <td>O</td>      <td>O</td>      <td>O</td>      <td>O</td>      <td>O</td>      <td>O</td>      <td>O</td>      <td>O</td>      <td>O</td>      <td>O</td>      <td>O</td>      <td>O</td>      <td>O</td>      <td>O</td>      <td>O</td>      <td>O</td>      <td>O</td>      <td>O</td>      <td>O</td>      <td>O</td>      <td>O</td>    </tr>    <tr>      <th>46</th>      <td>0</td>      <td>301</td>      <td>301</td>      <td>a</td>      <td>O</td>      <td>O</td>      <td>O</td>      <td>O</td>      <td>O</td>      <td>O</td>      <td>O</td>      <td>O</td>      <td>O</td>      <td>O</td>      <td>B-PROBLEM</td>      <td>O</td>      <td>O</td>      <td>O</td>      <td>O</td>      <td>O</td>      <td>O</td>      <td>O</td>      <td>O</td>      <td>O</td>      <td>O</td>      <td>B-PROBLEM</td>      <td>O</td>      <td>O</td>      <td>O</td>      <td>O</td>      <td>O</td>      <td>O</td>      <td>O</td>      <td>O</td>      <td>O</td>      <td>O</td>      <td>O</td>      <td>O</td>      <td>O</td>      <td>O</td>      <td>O</td>      <td>O</td>      <td>O</td>      <td>O</td>      <td>O</td>      <td>O</td>      <td>B-PROBLEM</td>      <td>O</td>      <td>O</td>      <td>O</td>      <td>O</td>      <td>O</td>      <td>O</td>      <td>O</td>      <td>O</td>      <td>O</td>      <td>O</td>      <td>O</td>      <td>O</td>      <td>O</td>      <td>O</td>      <td>O</td>      <td>O</td>      <td>O</td>      <td>I-Medicalfinding</td>      <td>O</td>      <td>O</td>      <td>O</td>      <td>O</td>      <td>O</td>      <td>O</td>      <td>O</td>      <td>O</td>      <td>O</td>      <td>O</td>      <td>O</td>      <td>O</td>      <td>O</td>      <td>O</td>      <td>O</td>      <td>O</td>      <td>O</td>      <td>O</td>      <td>O</td>      <td>O</td>      <td>O</td>      <td>O</td>      <td>O</td>      <td>O</td>      <td>O</td>      <td>O</td>      <td>O</td>      <td>B-PROBLEM</td>      <td>O</td>      <td>O</td>      <td>O</td>      <td>O</td>      <td>O</td>      <td>O</td>      <td>O</td>      <td>O</td>      <td>O</td>    </tr>    <tr>      <th>47</th>      <td>0</td>      <td>303</td>      <td>306</td>      <td>body</td>      <td>O</td>      <td>O</td>      <td>B-BodyPart</td>      <td>B-BodyPart</td>      <td>B-Symptom</td>      <td>B-BodyPart</td>      <td>O</td>      <td>O</td>      <td>O</td>      <td>O</td>      <td>I-PROBLEM</td>      <td>O</td>      <td>O</td>      <td>O</td>      <td>B-Symptom</td>      <td>O</td>      <td>O</td>      <td>O</td>      <td>O</td>      <td>O</td>      <td>O</td>      <td>I-PROBLEM</td>      <td>O</td>      <td>O</td>      <td>O</td>      <td>O</td>      <td>O</td>      <td>O</td>      <td>B-Symptom</td>      <td>O</td>      <td>O</td>      <td>O</td>      <td>O</td>      <td>O</td>      <td>O</td>      <td>O</td>      <td>O</td>      <td>O</td>      <td>O</td>      <td>O</td>      <td>O</td>      <td>O</td>      <td>I-PROBLEM</td>      <td>O</td>      <td>O</td>      <td>O</td>      <td>O</td>      <td>B-Symptom</td>      <td>O</td>      <td>O</td>      <td>O</td>      <td>O</td>      <td>O</td>      <td>O</td>      <td>B-BMI</td>      <td>O</td>      <td>O</td>      <td>O</td>      <td>O</td>      <td>B-Anatomy</td>      <td>I-Medicalfinding</td>      <td>O</td>      <td>B-Clinical_Attribute</td>      <td>O</td>      <td>O</td>      <td>O</td>      <td>O</td>      <td>B-Organism_subdivision</td>      <td>O</td>      <td>O</td>      <td>O</td>      <td>O</td>      <td>O</td>      <td>O</td>      <td>O</td>      <td>O</td>      <td>B-Measurements</td>      <td>B-BMI</td>      <td>O</td>      <td>O</td>      <td>B-Symptom</td>      <td>O</td>      <td>O</td>      <td>O</td>      <td>O</td>      <td>O</td>      <td>B-BMI</td>      <td>O</td>      <td>I-PROBLEM</td>      <td>O</td>      <td>O</td>      <td>O</td>      <td>O</td>      <td>B-BodyPart</td>      <td>O</td>      <td>O</td>      <td>O</td>      <td>B-BMI</td>    </tr>    <tr>      <th>48</th>      <td>0</td>      <td>308</td>      <td>311</td>      <td>mass</td>      <td>O</td>      <td>O</td>      <td>B-Symptom</td>      <td>B-Test</td>      <td>I-Symptom</td>      <td>B-Test</td>      <td>O</td>      <td>O</td>      <td>O</td>      <td>O</td>      <td>I-PROBLEM</td>      <td>O</td>      <td>O</td>      <td>O</td>      <td>I-Symptom</td>      <td>B-Insurance_Status</td>      <td>O</td>      <td>O</td>      <td>O</td>      <td>O</td>      <td>O</td>      <td>I-PROBLEM</td>      <td>O</td>      <td>O</td>      <td>O</td>      <td>O</td>      <td>O</td>      <td>O</td>      <td>I-Symptom</td>      <td>O</td>      <td>O</td>      <td>O</td>      <td>O</td>      <td>O</td>      <td>O</td>      <td>O</td>      <td>O</td>      <td>B-GENE</td>      <td>O</td>      <td>O</td>      <td>O</td>      <td>O</td>      <td>I-PROBLEM</td>      <td>O</td>      <td>O</td>      <td>O</td>      <td>O</td>      <td>I-Symptom</td>      <td>O</td>      <td>O</td>      <td>O</td>      <td>O</td>      <td>O</td>      <td>O</td>      <td>I-BMI</td>      <td>O</td>      <td>O</td>      <td>O</td>      <td>O</td>      <td>O</td>      <td>I-Medicalfinding</td>      <td>O</td>      <td>I-Clinical_Attribute</td>      <td>O</td>      <td>O</td>      <td>O</td>      <td>O</td>      <td>O</td>      <td>O</td>      <td>O</td>      <td>O</td>      <td>O</td>      <td>O</td>      <td>O</td>      <td>O</td>      <td>B-MedicalCondition</td>      <td>I-Measurements</td>      <td>I-BMI</td>      <td>O</td>      <td>O</td>      <td>I-Symptom</td>      <td>O</td>      <td>O</td>      <td>O</td>      <td>O</td>      <td>O</td>      <td>I-BMI</td>      <td>O</td>      <td>I-PROBLEM</td>      <td>O</td>      <td>O</td>      <td>O</td>      <td>O</td>      <td>B-Symptom</td>      <td>O</td>      <td>O</td>      <td>O</td>      <td>I-BMI</td>    </tr>    <tr>      <th>49</th>      <td>0</td>      <td>313</td>      <td>317</td>      <td>index</td>      <td>O</td>      <td>O</td>      <td>I-Symptom</td>      <td>I-Test</td>      <td>I-Symptom</td>      <td>I-Test</td>      <td>O</td>      <td>O</td>      <td>O</td>      <td>O</td>      <td>I-PROBLEM</td>      <td>O</td>      <td>O</td>      <td>O</td>      <td>O</td>      <td>I-Insurance_Status</td>      <td>O</td>      <td>O</td>      <td>O</td>      <td>O</td>      <td>O</td>      <td>I-PROBLEM</td>      <td>O</td>      <td>O</td>      <td>O</td>      <td>O</td>      <td>O</td>      <td>O</td>      <td>O</td>      <td>O</td>      <td>O</td>      <td>O</td>      <td>O</td>      <td>O</td>      <td>O</td>      <td>O</td>      <td>O</td>      <td>O</td>      <td>O</td>      <td>O</td>      <td>O</td>      <td>O</td>      <td>I-PROBLEM</td>      <td>O</td>      <td>O</td>      <td>O</td>      <td>O</td>      <td>O</td>      <td>O</td>      <td>O</td>      <td>O</td>      <td>O</td>      <td>O</td>      <td>O</td>      <td>I-BMI</td>      <td>O</td>      <td>O</td>      <td>O</td>      <td>O</td>      <td>O</td>      <td>I-Medicalfinding</td>      <td>O</td>      <td>I-Clinical_Attribute</td>      <td>O</td>      <td>O</td>      <td>O</td>      <td>O</td>      <td>O</td>      <td>O</td>      <td>O</td>      <td>O</td>      <td>O</td>      <td>O</td>      <td>O</td>      <td>O</td>      <td>I-MedicalCondition</td>      <td>I-Measurements</td>      <td>I-BMI</td>      <td>O</td>      <td>O</td>      <td>I-Symptom</td>      <td>O</td>      <td>O</td>      <td>O</td>      <td>O</td>      <td>O</td>      <td>I-BMI</td>      <td>O</td>      <td>I-PROBLEM</td>      <td>O</td>      <td>O</td>      <td>O</td>      <td>O</td>      <td>I-Symptom</td>      <td>O</td>      <td>O</td>      <td>O</td>      <td>I-BMI</td>    </tr>    <tr>      <th>50</th>      <td>0</td>      <td>319</td>      <td>319</td>      <td>(</td>      <td>O</td>      <td>O</td>      <td>O</td>      <td>O</td>      <td>O</td>      <td>O</td>      <td>O</td>      <td>O</td>      <td>O</td>      <td>O</td>      <td>O</td>      <td>O</td>      <td>O</td>      <td>O</td>      <td>O</td>      <td>O</td>      <td>O</td>      <td>O</td>      <td>O</td>      <td>O</td>      <td>O</td>      <td>O</td>      <td>O</td>      <td>O</td>      <td>O</td>      <td>O</td>      <td>O</td>      <td>O</td>      <td>O</td>      <td>O</td>      <td>O</td>      <td>O</td>      <td>O</td>      <td>O</td>      <td>O</td>      <td>O</td>      <td>O</td>      <td>O</td>      <td>O</td>      <td>O</td>      <td>O</td>      <td>O</td>      <td>O</td>      <td>O</td>      <td>O</td>      <td>O</td>      <td>O</td>      <td>O</td>      <td>O</td>      <td>O</td>      <td>O</td>      <td>O</td>      <td>O</td>      <td>O</td>      <td>I-BMI</td>      <td>O</td>      <td>O</td>      <td>O</td>      <td>O</td>      <td>O</td>      <td>I-Medicalfinding</td>      <td>O</td>      <td>O</td>      <td>O</td>      <td>O</td>      <td>O</td>      <td>O</td>      <td>O</td>      <td>O</td>      <td>O</td>      <td>O</td>      <td>O</td>      <td>O</td>      <td>O</td>      <td>O</td>      <td>O</td>      <td>O</td>      <td>O</td>      <td>O</td>      <td>O</td>      <td>O</td>      <td>O</td>      <td>O</td>      <td>O</td>      <td>O</td>      <td>O</td>      <td>O</td>      <td>O</td>      <td>I-PROBLEM</td>      <td>O</td>      <td>O</td>      <td>O</td>      <td>O</td>      <td>O</td>      <td>O</td>      <td>O</td>      <td>O</td>      <td>O</td>    </tr>    <tr>      <th>51</th>      <td>0</td>      <td>321</td>      <td>323</td>      <td>BMI</td>      <td>O</td>      <td>O</td>      <td>O</td>      <td>O</td>      <td>B-Physical_Measurement</td>      <td>B-Measurements</td>      <td>O</td>      <td>O</td>      <td>O</td>      <td>O</td>      <td>B-PROBLEM</td>      <td>O</td>      <td>O</td>      <td>O</td>      <td>B-BMI</td>      <td>O</td>      <td>O</td>      <td>O</td>      <td>O</td>      <td>O</td>      <td>O</td>      <td>B-TEST</td>      <td>O</td>      <td>O</td>      <td>O</td>      <td>O</td>      <td>O</td>      <td>O</td>      <td>B-BMI</td>      <td>O</td>      <td>O</td>      <td>O</td>      <td>O</td>      <td>O</td>      <td>O</td>      <td>O</td>      <td>O</td>      <td>O</td>      <td>O</td>      <td>O</td>      <td>O</td>      <td>O</td>      <td>B-TEST</td>      <td>O</td>      <td>O</td>      <td>O</td>      <td>O</td>      <td>B-BMI</td>      <td>O</td>      <td>O</td>      <td>O</td>      <td>B-ABBR</td>      <td>O</td>      <td>B-Disease</td>      <td>I-BMI</td>      <td>O</td>      <td>O</td>      <td>O</td>      <td>O</td>      <td>O</td>      <td>I-Medicalfinding</td>      <td>O</td>      <td>B-Clinical_Attribute</td>      <td>O</td>      <td>O</td>      <td>O</td>      <td>O</td>      <td>O</td>      <td>O</td>      <td>O</td>      <td>O</td>      <td>B-Obesity</td>      <td>O</td>      <td>O</td>      <td>O</td>      <td>B-MedicalCondition</td>      <td>B-Measurements</td>      <td>B-BMI</td>      <td>O</td>      <td>O</td>      <td>O</td>      <td>O</td>      <td>O</td>      <td>O</td>      <td>O</td>      <td>O</td>      <td>B-BMI</td>      <td>O</td>      <td>I-PROBLEM</td>      <td>O</td>      <td>O</td>      <td>O</td>      <td>B-Communicable_Disease</td>      <td>B-Test</td>      <td>B-clinical_event</td>      <td>O</td>      <td>O</td>      <td>B-BMI</td>    </tr>    <tr>      <th>52</th>      <td>0</td>      <td>325</td>      <td>325</td>      <td>)</td>      <td>O</td>      <td>O</td>      <td>O</td>      <td>O</td>      <td>I-Physical_Measurement</td>      <td>O</td>      <td>O</td>      <td>O</td>      <td>O</td>      <td>O</td>      <td>O</td>      <td>O</td>      <td>O</td>      <td>O</td>      <td>I-BMI</td>      <td>O</td>      <td>O</td>      <td>O</td>      <td>O</td>      <td>O</td>      <td>O</td>      <td>O</td>      <td>O</td>      <td>O</td>      <td>O</td>      <td>O</td>      <td>O</td>      <td>O</td>      <td>I-BMI</td>      <td>O</td>      <td>O</td>      <td>O</td>      <td>O</td>      <td>O</td>      <td>O</td>      <td>O</td>      <td>O</td>      <td>O</td>      <td>O</td>      <td>O</td>      <td>O</td>      <td>O</td>      <td>O</td>      <td>O</td>      <td>O</td>      <td>O</td>      <td>O</td>      <td>I-BMI</td>      <td>O</td>      <td>O</td>      <td>O</td>      <td>O</td>      <td>O</td>      <td>O</td>      <td>O</td>      <td>O</td>      <td>O</td>      <td>O</td>      <td>O</td>      <td>O</td>      <td>I-Medicalfinding</td>      <td>O</td>      <td>O</td>      <td>O</td>      <td>O</td>      <td>O</td>      <td>O</td>      <td>O</td>      <td>O</td>      <td>O</td>      <td>O</td>      <td>O</td>      <td>O</td>      <td>O</td>      <td>O</td>      <td>O</td>      <td>I-Measurements</td>      <td>I-BMI</td>      <td>O</td>      <td>O</td>      <td>O</td>      <td>O</td>      <td>O</td>      <td>O</td>      <td>O</td>      <td>O</td>      <td>O</td>      <td>O</td>      <td>O</td>      <td>O</td>      <td>O</td>      <td>O</td>      <td>O</td>      <td>O</td>      <td>O</td>      <td>O</td>      <td>O</td>      <td>O</td>    </tr>    <tr>      <th>53</th>      <td>0</td>      <td>327</td>      <td>328</td>      <td>of</td>      <td>O</td>      <td>O</td>      <td>O</td>      <td>O</td>      <td>I-Physical_Measurement</td>      <td>O</td>      <td>O</td>      <td>O</td>      <td>O</td>      <td>O</td>      <td>O</td>      <td>O</td>      <td>O</td>      <td>O</td>      <td>I-BMI</td>      <td>O</td>      <td>O</td>      <td>O</td>      <td>O</td>      <td>O</td>      <td>O</td>      <td>O</td>      <td>O</td>      <td>O</td>      <td>O</td>      <td>O</td>      <td>O</td>      <td>O</td>      <td>I-BMI</td>      <td>O</td>      <td>O</td>      <td>O</td>      <td>O</td>      <td>O</td>      <td>O</td>      <td>O</td>      <td>O</td>      <td>O</td>      <td>O</td>      <td>O</td>      <td>O</td>      <td>O</td>      <td>O</td>      <td>O</td>      <td>O</td>      <td>O</td>      <td>O</td>      <td>I-BMI</td>      <td>O</td>      <td>O</td>      <td>O</td>      <td>O</td>      <td>O</td>      <td>O</td>      <td>O</td>      <td>O</td>      <td>O</td>      <td>O</td>      <td>O</td>      <td>O</td>      <td>O</td>      <td>O</td>      <td>O</td>      <td>O</td>      <td>O</td>      <td>O</td>      <td>O</td>      <td>O</td>      <td>O</td>      <td>O</td>      <td>O</td>      <td>O</td>      <td>O</td>      <td>O</td>      <td>O</td>      <td>O</td>      <td>I-Measurements</td>      <td>I-BMI</td>      <td>O</td>      <td>O</td>      <td>O</td>      <td>O</td>      <td>O</td>      <td>O</td>      <td>O</td>      <td>O</td>      <td>O</td>      <td>O</td>      <td>O</td>      <td>O</td>      <td>O</td>      <td>O</td>      <td>O</td>      <td>O</td>      <td>O</td>      <td>O</td>      <td>O</td>      <td>O</td>    </tr>    <tr>      <th>54</th>      <td>0</td>      <td>330</td>      <td>333</td>      <td>33.5</td>      <td>O</td>      <td>O</td>      <td>B-Measurements</td>      <td>O</td>      <td>I-Physical_Measurement</td>      <td>B-Age</td>      <td>O</td>      <td>O</td>      <td>O</td>      <td>O</td>      <td>O</td>      <td>O</td>      <td>O</td>      <td>O</td>      <td>I-BMI</td>      <td>O</td>      <td>O</td>      <td>O</td>      <td>O</td>      <td>O</td>      <td>O</td>      <td>O</td>      <td>O</td>      <td>O</td>      <td>O</td>      <td>O</td>      <td>O</td>      <td>O</td>      <td>I-BMI</td>      <td>O</td>      <td>O</td>      <td>O</td>      <td>O</td>      <td>O</td>      <td>O</td>      <td>O</td>      <td>O</td>      <td>O</td>      <td>O</td>      <td>O</td>      <td>O</td>      <td>O</td>      <td>O</td>      <td>O</td>      <td>O</td>      <td>O</td>      <td>O</td>      <td>I-BMI</td>      <td>O</td>      <td>O</td>      <td>O</td>      <td>O</td>      <td>O</td>      <td>O</td>      <td>B-Weight</td>      <td>O</td>      <td>O</td>      <td>O</td>      <td>O</td>      <td>O</td>      <td>B-Measurement</td>      <td>O</td>      <td>O</td>      <td>O</td>      <td>O</td>      <td>O</td>      <td>O</td>      <td>O</td>      <td>O</td>      <td>O</td>      <td>O</td>      <td>O</td>      <td>B-Measurements</td>      <td>O</td>      <td>O</td>      <td>O</td>      <td>B-Measurements</td>      <td>I-BMI</td>      <td>O</td>      <td>O</td>      <td>B-Weight</td>      <td>O</td>      <td>O</td>      <td>O</td>      <td>O</td>      <td>O</td>      <td>I-BMI</td>      <td>O</td>      <td>O</td>      <td>O</td>      <td>O</td>      <td>O</td>      <td>O</td>      <td>B-Measurements</td>      <td>B-units_measurements</td>      <td>O</td>      <td>O</td>      <td>O</td>    </tr>    <tr>      <th>55</th>      <td>0</td>      <td>335</td>      <td>339</td>      <td>kg/m2</td>      <td>O</td>      <td>O</td>      <td>B-Units</td>      <td>O</td>      <td>I-Physical_Measurement</td>      <td>I-Age</td>      <td>O</td>      <td>O</td>      <td>O</td>      <td>O</td>      <td>B-PROBLEM</td>      <td>O</td>      <td>O</td>      <td>O</td>      <td>I-BMI</td>      <td>O</td>      <td>O</td>      <td>O</td>      <td>O</td>      <td>O</td>      <td>O</td>      <td>O</td>      <td>O</td>      <td>O</td>      <td>O</td>      <td>O</td>      <td>O</td>      <td>O</td>      <td>I-BMI</td>      <td>O</td>      <td>O</td>      <td>O</td>      <td>O</td>      <td>O</td>      <td>O</td>      <td>O</td>      <td>O</td>      <td>O</td>      <td>O</td>      <td>O</td>      <td>O</td>      <td>O</td>      <td>O</td>      <td>O</td>      <td>O</td>      <td>O</td>      <td>O</td>      <td>I-BMI</td>      <td>O</td>      <td>O</td>      <td>O</td>      <td>O</td>      <td>O</td>      <td>O</td>      <td>I-Weight</td>      <td>O</td>      <td>O</td>      <td>O</td>      <td>B-BioAndMedicalUnit</td>      <td>O</td>      <td>I-Measurement</td>      <td>O</td>      <td>O</td>      <td>O</td>      <td>O</td>      <td>O</td>      <td>O</td>      <td>O</td>      <td>O</td>      <td>O</td>      <td>O</td>      <td>B-Obesity</td>      <td>B-Units</td>      <td>O</td>      <td>O</td>      <td>O</td>      <td>I-Measurements</td>      <td>I-BMI</td>      <td>O</td>      <td>O</td>      <td>I-Weight</td>      <td>O</td>      <td>O</td>      <td>O</td>      <td>O</td>      <td>O</td>      <td>I-BMI</td>      <td>O</td>      <td>O</td>      <td>O</td>      <td>O</td>      <td>O</td>      <td>O</td>      <td>B-Units</td>      <td>I-units_measurements</td>      <td>O</td>      <td>O</td>      <td>O</td>    </tr>    <tr>      <th>56</th>      <td>0</td>      <td>341</td>      <td>341</td>      <td>,</td>      <td>O</td>      <td>O</td>      <td>O</td>      <td>O</td>      <td>O</td>      <td>O</td>      <td>O</td>      <td>O</td>      <td>O</td>      <td>O</td>      <td>O</td>      <td>O</td>      <td>O</td>      <td>O</td>      <td>O</td>      <td>O</td>      <td>O</td>      <td>O</td>      <td>O</td>      <td>O</td>      <td>O</td>      <td>O</td>      <td>O</td>      <td>O</td>      <td>O</td>      <td>O</td>      <td>O</td>      <td>O</td>      <td>O</td>      <td>O</td>      <td>O</td>      <td>O</td>      <td>O</td>      <td>O</td>      <td>O</td>      <td>O</td>      <td>O</td>      <td>O</td>      <td>O</td>      <td>O</td>      <td>O</td>      <td>O</td>      <td>O</td>      <td>O</td>      <td>O</td>      <td>O</td>      <td>O</td>      <td>O</td>      <td>O</td>      <td>O</td>      <td>O</td>      <td>O</td>      <td>O</td>      <td>O</td>      <td>O</td>      <td>O</td>      <td>O</td>      <td>O</td>      <td>O</td>      <td>O</td>      <td>O</td>      <td>O</td>      <td>O</td>      <td>O</td>      <td>O</td>      <td>O</td>      <td>O</td>      <td>O</td>      <td>O</td>      <td>O</td>      <td>O</td>      <td>O</td>      <td>O</td>      <td>O</td>      <td>O</td>      <td>O</td>      <td>O</td>      <td>O</td>      <td>O</td>      <td>O</td>      <td>O</td>      <td>O</td>      <td>O</td>      <td>O</td>      <td>O</td>      <td>O</td>      <td>O</td>      <td>O</td>      <td>O</td>      <td>O</td>      <td>O</td>      <td>O</td>      <td>O</td>      <td>O</td>      <td>O</td>      <td>O</td>      <td>O</td>      <td>O</td>    </tr>    <tr>      <th>57</th>      <td>0</td>      <td>343</td>      <td>351</td>      <td>presented</td>      <td>O</td>      <td>O</td>      <td>O</td>      <td>O</td>      <td>O</td>      <td>O</td>      <td>O</td>      <td>O</td>      <td>O</td>      <td>O</td>      <td>B-OCCURRENCE</td>      <td>O</td>      <td>O</td>      <td>O</td>      <td>O</td>      <td>O</td>      <td>O</td>      <td>O</td>      <td>O</td>      <td>O</td>      <td>O</td>      <td>O</td>      <td>O</td>      <td>O</td>      <td>O</td>      <td>O</td>      <td>O</td>      <td>O</td>      <td>O</td>      <td>O</td>      <td>O</td>      <td>O</td>      <td>O</td>      <td>O</td>      <td>O</td>      <td>O</td>      <td>O</td>      <td>O</td>      <td>O</td>      <td>O</td>      <td>O</td>      <td>O</td>      <td>O</td>      <td>O</td>      <td>O</td>      <td>O</td>      <td>O</td>      <td>O</td>      <td>O</td>      <td>O</td>      <td>O</td>      <td>O</td>      <td>O</td>      <td>O</td>      <td>O</td>      <td>O</td>      <td>O</td>      <td>O</td>      <td>O</td>      <td>O</td>      <td>O</td>      <td>O</td>      <td>O</td>      <td>O</td>      <td>O</td>      <td>O</td>      <td>O</td>      <td>O</td>      <td>O</td>      <td>O</td>      <td>O</td>      <td>O</td>      <td>O</td>      <td>O</td>      <td>O</td>      <td>O</td>      <td>O</td>      <td>O</td>      <td>O</td>      <td>O</td>      <td>O</td>      <td>O</td>      <td>O</td>      <td>O</td>      <td>O</td>      <td>O</td>      <td>O</td>      <td>O</td>      <td>B-OCCURRENCE</td>      <td>O</td>      <td>O</td>      <td>O</td>      <td>O</td>      <td>O</td>      <td>B-clinical_event</td>      <td>O</td>      <td>O</td>      <td>O</td>    </tr>    <tr>      <th>58</th>      <td>0</td>      <td>353</td>      <td>356</td>      <td>with</td>      <td>O</td>      <td>O</td>      <td>O</td>      <td>O</td>      <td>O</td>      <td>O</td>      <td>O</td>      <td>O</td>      <td>O</td>      <td>O</td>      <td>O</td>      <td>O</td>      <td>O</td>      <td>O</td>      <td>O</td>      <td>O</td>      <td>O</td>      <td>O</td>      <td>O</td>      <td>O</td>      <td>O</td>      <td>O</td>      <td>O</td>      <td>O</td>      <td>O</td>      <td>O</td>      <td>O</td>      <td>O</td>      <td>O</td>      <td>O</td>      <td>O</td>      <td>O</td>      <td>O</td>      <td>O</td>      <td>O</td>      <td>O</td>      <td>O</td>      <td>O</td>      <td>O</td>      <td>O</td>      <td>O</td>      <td>O</td>      <td>O</td>      <td>O</td>      <td>O</td>      <td>O</td>      <td>O</td>      <td>O</td>      <td>O</td>      <td>O</td>      <td>O</td>      <td>O</td>      <td>O</td>      <td>O</td>      <td>O</td>      <td>O</td>      <td>O</td>      <td>O</td>      <td>O</td>      <td>O</td>      <td>O</td>      <td>O</td>      <td>O</td>      <td>O</td>      <td>O</td>      <td>O</td>      <td>O</td>      <td>O</td>      <td>O</td>      <td>O</td>      <td>O</td>      <td>O</td>      <td>O</td>      <td>O</td>      <td>O</td>      <td>O</td>      <td>O</td>      <td>O</td>      <td>O</td>      <td>O</td>      <td>O</td>      <td>O</td>      <td>O</td>      <td>O</td>      <td>O</td>      <td>O</td>      <td>O</td>      <td>O</td>      <td>O</td>      <td>O</td>      <td>O</td>      <td>O</td>      <td>O</td>      <td>O</td>      <td>O</td>      <td>O</td>      <td>O</td>      <td>O</td>    </tr>    <tr>      <th>59</th>      <td>0</td>      <td>358</td>      <td>358</td>      <td>a</td>      <td>O</td>      <td>O</td>      <td>O</td>      <td>O</td>      <td>O</td>      <td>O</td>      <td>O</td>      <td>O</td>      <td>O</td>      <td>O</td>      <td>B-DURATION</td>      <td>O</td>      <td>O</td>      <td>O</td>      <td>O</td>      <td>O</td>      <td>O</td>      <td>O</td>      <td>O</td>      <td>O</td>      <td>O</td>      <td>O</td>      <td>O</td>      <td>O</td>      <td>O</td>      <td>O</td>      <td>O</td>      <td>O</td>      <td>O</td>      <td>O</td>      <td>O</td>      <td>O</td>      <td>O</td>      <td>O</td>      <td>O</td>      <td>O</td>      <td>O</td>      <td>O</td>      <td>O</td>      <td>O</td>      <td>O</td>      <td>O</td>      <td>O</td>      <td>O</td>      <td>O</td>      <td>O</td>      <td>O</td>      <td>O</td>      <td>O</td>      <td>O</td>      <td>O</td>      <td>O</td>      <td>O</td>      <td>O</td>      <td>O</td>      <td>O</td>      <td>O</td>      <td>O</td>      <td>O</td>      <td>O</td>      <td>O</td>      <td>O</td>      <td>O</td>      <td>O</td>      <td>O</td>      <td>O</td>      <td>O</td>      <td>O</td>      <td>O</td>      <td>O</td>      <td>O</td>      <td>O</td>      <td>O</td>      <td>O</td>      <td>O</td>      <td>O</td>      <td>O</td>      <td>O</td>      <td>O</td>      <td>O</td>      <td>O</td>      <td>O</td>      <td>O</td>      <td>O</td>      <td>O</td>      <td>O</td>      <td>O</td>      <td>O</td>      <td>B-DURATION</td>      <td>O</td>      <td>O</td>      <td>O</td>      <td>O</td>      <td>O</td>      <td>B-date_time</td>      <td>O</td>      <td>O</td>      <td>O</td>    </tr>    <tr>      <th>60</th>      <td>0</td>      <td>360</td>      <td>367</td>      <td>one-week</td>      <td>O</td>      <td>O</td>      <td>O</td>      <td>O</td>      <td>O</td>      <td>O</td>      <td>O</td>      <td>O</td>      <td>O</td>      <td>O</td>      <td>I-DURATION</td>      <td>O</td>      <td>O</td>      <td>O</td>      <td>B-Duration</td>      <td>O</td>      <td>O</td>      <td>O</td>      <td>O</td>      <td>O</td>      <td>O</td>      <td>O</td>      <td>O</td>      <td>O</td>      <td>O</td>      <td>O</td>      <td>O</td>      <td>O</td>      <td>B-Duration</td>      <td>O</td>      <td>O</td>      <td>O</td>      <td>O</td>      <td>O</td>      <td>O</td>      <td>O</td>      <td>O</td>      <td>O</td>      <td>O</td>      <td>O</td>      <td>O</td>      <td>O</td>      <td>O</td>      <td>O</td>      <td>O</td>      <td>O</td>      <td>O</td>      <td>B-Duration</td>      <td>O</td>      <td>O</td>      <td>O</td>      <td>O</td>      <td>O</td>      <td>O</td>      <td>B-Duration</td>      <td>O</td>      <td>O</td>      <td>O</td>      <td>O</td>      <td>O</td>      <td>B-Duration</td>      <td>O</td>      <td>O</td>      <td>O</td>      <td>O</td>      <td>O</td>      <td>O</td>      <td>O</td>      <td>O</td>      <td>O</td>      <td>O</td>      <td>O</td>      <td>O</td>      <td>O</td>      <td>O</td>      <td>O</td>      <td>O</td>      <td>B-Duration</td>      <td>O</td>      <td>O</td>      <td>B-Duration</td>      <td>O</td>      <td>O</td>      <td>O</td>      <td>O</td>      <td>O</td>      <td>B-Duration</td>      <td>O</td>      <td>I-DURATION</td>      <td>O</td>      <td>O</td>      <td>O</td>      <td>O</td>      <td>O</td>      <td>I-date_time</td>      <td>O</td>      <td>O</td>      <td>O</td>    </tr>    <tr>      <th>61</th>      <td>0</td>      <td>369</td>      <td>375</td>      <td>history</td>      <td>O</td>      <td>O</td>      <td>O</td>      <td>O</td>      <td>O</td>      <td>O</td>      <td>O</td>      <td>O</td>      <td>O</td>      <td>O</td>      <td>O</td>      <td>O</td>      <td>O</td>      <td>O</td>      <td>O</td>      <td>O</td>      <td>O</td>      <td>O</td>      <td>O</td>      <td>O</td>      <td>O</td>      <td>O</td>      <td>O</td>      <td>O</td>      <td>O</td>      <td>O</td>      <td>O</td>      <td>O</td>      <td>O</td>      <td>O</td>      <td>O</td>      <td>O</td>      <td>O</td>      <td>O</td>      <td>O</td>      <td>O</td>      <td>O</td>      <td>O</td>      <td>O</td>      <td>O</td>      <td>O</td>      <td>O</td>      <td>O</td>      <td>O</td>      <td>O</td>      <td>O</td>      <td>O</td>      <td>O</td>      <td>O</td>      <td>O</td>      <td>O</td>      <td>O</td>      <td>O</td>      <td>O</td>      <td>O</td>      <td>O</td>      <td>O</td>      <td>O</td>      <td>O</td>      <td>O</td>      <td>I-Duration</td>      <td>O</td>      <td>O</td>      <td>O</td>      <td>O</td>      <td>O</td>      <td>O</td>      <td>O</td>      <td>O</td>      <td>O</td>      <td>O</td>      <td>O</td>      <td>O</td>      <td>O</td>      <td>O</td>      <td>O</td>      <td>O</td>      <td>O</td>      <td>O</td>      <td>O</td>      <td>O</td>      <td>O</td>      <td>O</td>      <td>O</td>      <td>O</td>      <td>O</td>      <td>O</td>      <td>O</td>      <td>O</td>      <td>O</td>      <td>O</td>      <td>O</td>      <td>O</td>      <td>O</td>      <td>O</td>      <td>O</td>      <td>O</td>      <td>O</td>    </tr>    <tr>      <th>62</th>      <td>0</td>      <td>377</td>      <td>378</td>      <td>of</td>      <td>O</td>      <td>O</td>      <td>O</td>      <td>O</td>      <td>O</td>      <td>O</td>      <td>O</td>      <td>O</td>      <td>O</td>      <td>O</td>      <td>O</td>      <td>O</td>      <td>O</td>      <td>O</td>      <td>O</td>      <td>O</td>      <td>O</td>      <td>O</td>      <td>O</td>      <td>O</td>      <td>O</td>      <td>O</td>      <td>O</td>      <td>O</td>      <td>O</td>      <td>O</td>      <td>O</td>      <td>O</td>      <td>O</td>      <td>O</td>      <td>O</td>      <td>O</td>      <td>O</td>      <td>O</td>      <td>O</td>      <td>O</td>      <td>O</td>      <td>O</td>      <td>O</td>      <td>O</td>      <td>O</td>      <td>O</td>      <td>O</td>      <td>O</td>      <td>O</td>      <td>O</td>      <td>O</td>      <td>O</td>      <td>O</td>      <td>O</td>      <td>O</td>      <td>O</td>      <td>O</td>      <td>O</td>      <td>O</td>      <td>O</td>      <td>O</td>      <td>O</td>      <td>O</td>      <td>O</td>      <td>O</td>      <td>O</td>      <td>O</td>      <td>O</td>      <td>O</td>      <td>O</td>      <td>O</td>      <td>O</td>      <td>O</td>      <td>O</td>      <td>O</td>      <td>O</td>      <td>O</td>      <td>O</td>      <td>O</td>      <td>O</td>      <td>O</td>      <td>O</td>      <td>O</td>      <td>O</td>      <td>O</td>      <td>O</td>      <td>O</td>      <td>O</td>      <td>O</td>      <td>O</td>      <td>O</td>      <td>O</td>      <td>O</td>      <td>O</td>      <td>O</td>      <td>O</td>      <td>O</td>      <td>O</td>      <td>O</td>      <td>O</td>      <td>O</td>      <td>O</td>    </tr>    <tr>      <th>63</th>      <td>0</td>      <td>380</td>      <td>387</td>      <td>polyuria</td>      <td>O</td>      <td>O</td>      <td>B-Symptom</td>      <td>B-Symptom</td>      <td>B-Symptom</td>      <td>B-Symptom</td>      <td>B-Problem</td>      <td>O</td>      <td>O</td>      <td>O</td>      <td>B-PROBLEM</td>      <td>O</td>      <td>O</td>      <td>O</td>      <td>B-Symptom</td>      <td>O</td>      <td>B-Disease</td>      <td>O</td>      <td>O</td>      <td>O</td>      <td>O</td>      <td>B-PROBLEM</td>      <td>O</td>      <td>O</td>      <td>O</td>      <td>O</td>      <td>O</td>      <td>O</td>      <td>B-Symptom</td>      <td>B-clinical_condition</td>      <td>O</td>      <td>O</td>      <td>O</td>      <td>B-Symptom</td>      <td>O</td>      <td>O</td>      <td>O</td>      <td>B-HP</td>      <td>O</td>      <td>O</td>      <td>O</td>      <td>O</td>      <td>B-PROBLEM</td>      <td>O</td>      <td>O</td>      <td>O</td>      <td>O</td>      <td>B-Symptom</td>      <td>O</td>      <td>O</td>      <td>O</td>      <td>O</td>      <td>O</td>      <td>B-Disease</td>      <td>B-Symptom</td>      <td>O</td>      <td>O</td>      <td>O</td>      <td>O</td>      <td>O</td>      <td>B-Disease</td>      <td>O</td>      <td>B-Sign_or_Symptom</td>      <td>O</td>      <td>O</td>      <td>O</td>      <td>O</td>      <td>O</td>      <td>O</td>      <td>O</td>      <td>O</td>      <td>B-Other_Disease</td>      <td>O</td>      <td>B-ADE</td>      <td>O</td>      <td>B-MedicalCondition</td>      <td>O</td>      <td>B-Symptom</td>      <td>O</td>      <td>O</td>      <td>B-Symptom</td>      <td>O</td>      <td>O</td>      <td>O</td>      <td>O</td>      <td>O</td>      <td>B-Symptom</td>      <td>O</td>      <td>B-PROBLEM</td>      <td>B-CONDITION</td>      <td>O</td>      <td>O</td>      <td>B-Other_Disease</td>      <td>B-Symptom</td>      <td>B-clinical_condition</td>      <td>O</td>      <td>O</td>      <td>O</td>    </tr>    <tr>      <th>64</th>      <td>0</td>      <td>389</td>      <td>389</td>      <td>,</td>      <td>O</td>      <td>O</td>      <td>O</td>      <td>O</td>      <td>O</td>      <td>O</td>      <td>O</td>      <td>O</td>      <td>O</td>      <td>O</td>      <td>O</td>      <td>O</td>      <td>O</td>      <td>O</td>      <td>O</td>      <td>O</td>      <td>O</td>      <td>O</td>      <td>O</td>      <td>O</td>      <td>O</td>      <td>O</td>      <td>O</td>      <td>O</td>      <td>O</td>      <td>O</td>      <td>O</td>      <td>O</td>      <td>O</td>      <td>O</td>      <td>O</td>      <td>O</td>      <td>O</td>      <td>O</td>      <td>O</td>      <td>O</td>      <td>O</td>      <td>O</td>      <td>O</td>      <td>O</td>      <td>O</td>      <td>O</td>      <td>O</td>      <td>O</td>      <td>O</td>      <td>O</td>      <td>O</td>      <td>O</td>      <td>O</td>      <td>O</td>      <td>O</td>      <td>O</td>      <td>O</td>      <td>O</td>      <td>O</td>      <td>O</td>      <td>O</td>      <td>O</td>      <td>O</td>      <td>O</td>      <td>O</td>      <td>O</td>      <td>O</td>      <td>O</td>      <td>O</td>      <td>O</td>      <td>O</td>      <td>O</td>      <td>O</td>      <td>O</td>      <td>O</td>      <td>O</td>      <td>O</td>      <td>O</td>      <td>O</td>      <td>O</td>      <td>O</td>      <td>O</td>      <td>O</td>      <td>O</td>      <td>O</td>      <td>O</td>      <td>O</td>      <td>O</td>      <td>O</td>      <td>O</td>      <td>O</td>      <td>O</td>      <td>O</td>      <td>O</td>      <td>O</td>      <td>O</td>      <td>O</td>      <td>O</td>      <td>O</td>      <td>O</td>      <td>O</td>      <td>O</td>    </tr>    <tr>      <th>65</th>      <td>0</td>      <td>391</td>      <td>400</td>      <td>polydipsia</td>      <td>O</td>      <td>O</td>      <td>B-Symptom</td>      <td>B-Symptom</td>      <td>B-Symptom</td>      <td>B-Disease</td>      <td>B-Problem</td>      <td>O</td>      <td>O</td>      <td>O</td>      <td>B-PROBLEM</td>      <td>O</td>      <td>O</td>      <td>O</td>      <td>B-Symptom</td>      <td>O</td>      <td>B-Disease</td>      <td>O</td>      <td>O</td>      <td>O</td>      <td>O</td>      <td>B-PROBLEM</td>      <td>O</td>      <td>O</td>      <td>O</td>      <td>O</td>      <td>O</td>      <td>O</td>      <td>B-Symptom</td>      <td>B-clinical_condition</td>      <td>O</td>      <td>O</td>      <td>O</td>      <td>B-Disease</td>      <td>O</td>      <td>O</td>      <td>O</td>      <td>B-HP</td>      <td>B-ADE</td>      <td>B-HP</td>      <td>O</td>      <td>O</td>      <td>B-PROBLEM</td>      <td>O</td>      <td>O</td>      <td>O</td>      <td>O</td>      <td>B-Symptom</td>      <td>O</td>      <td>O</td>      <td>O</td>      <td>O</td>      <td>O</td>      <td>B-Disease</td>      <td>B-Symptom</td>      <td>O</td>      <td>O</td>      <td>O</td>      <td>O</td>      <td>O</td>      <td>B-Medicalfinding</td>      <td>O</td>      <td>B-Sign_or_Symptom</td>      <td>O</td>      <td>O</td>      <td>O</td>      <td>O</td>      <td>O</td>      <td>O</td>      <td>O</td>      <td>O</td>      <td>B-Eating_Disorder</td>      <td>O</td>      <td>B-ADE</td>      <td>O</td>      <td>B-MedicalCondition</td>      <td>O</td>      <td>B-Symptom</td>      <td>O</td>      <td>O</td>      <td>B-Symptom</td>      <td>O</td>      <td>O</td>      <td>O</td>      <td>O</td>      <td>O</td>      <td>B-Symptom</td>      <td>B-Alcohol</td>      <td>B-PROBLEM</td>      <td>B-CONDITION</td>      <td>O</td>      <td>O</td>      <td>B-Eating_Disorder</td>      <td>B-Symptom</td>      <td>B-clinical_condition</td>      <td>O</td>      <td>O</td>      <td>O</td>    </tr>    <tr>      <th>66</th>      <td>0</td>      <td>402</td>      <td>402</td>      <td>,</td>      <td>O</td>      <td>O</td>      <td>O</td>      <td>O</td>      <td>O</td>      <td>O</td>      <td>O</td>      <td>O</td>      <td>O</td>      <td>O</td>      <td>O</td>      <td>O</td>      <td>O</td>      <td>O</td>      <td>O</td>      <td>O</td>      <td>O</td>      <td>O</td>      <td>O</td>      <td>O</td>      <td>O</td>      <td>O</td>      <td>O</td>      <td>O</td>      <td>O</td>      <td>O</td>      <td>O</td>      <td>O</td>      <td>O</td>      <td>O</td>      <td>O</td>      <td>O</td>      <td>O</td>      <td>O</td>      <td>O</td>      <td>O</td>      <td>O</td>      <td>O</td>      <td>O</td>      <td>O</td>      <td>O</td>      <td>O</td>      <td>O</td>      <td>O</td>      <td>O</td>      <td>O</td>      <td>O</td>      <td>O</td>      <td>O</td>      <td>O</td>      <td>O</td>      <td>O</td>      <td>O</td>      <td>O</td>      <td>O</td>      <td>O</td>      <td>O</td>      <td>O</td>      <td>O</td>      <td>O</td>      <td>O</td>      <td>O</td>      <td>O</td>      <td>O</td>      <td>O</td>      <td>O</td>      <td>O</td>      <td>O</td>      <td>O</td>      <td>O</td>      <td>O</td>      <td>O</td>      <td>O</td>      <td>O</td>      <td>O</td>      <td>O</td>      <td>O</td>      <td>O</td>      <td>O</td>      <td>O</td>      <td>O</td>      <td>O</td>      <td>O</td>      <td>O</td>      <td>O</td>      <td>O</td>      <td>O</td>      <td>O</td>      <td>O</td>      <td>O</td>      <td>O</td>      <td>O</td>      <td>O</td>      <td>O</td>      <td>O</td>      <td>O</td>      <td>O</td>      <td>O</td>    </tr>    <tr>      <th>67</th>      <td>0</td>      <td>404</td>      <td>407</td>      <td>poor</td>      <td>O</td>      <td>O</td>      <td>B-Symptom</td>      <td>B-Symptom</td>      <td>B-Symptom</td>      <td>B-Symptom</td>      <td>B-Problem</td>      <td>O</td>      <td>O</td>      <td>O</td>      <td>B-PROBLEM</td>      <td>O</td>      <td>O</td>      <td>O</td>      <td>B-Symptom</td>      <td>O</td>      <td>O</td>      <td>O</td>      <td>O</td>      <td>O</td>      <td>O</td>      <td>B-PROBLEM</td>      <td>O</td>      <td>O</td>      <td>O</td>      <td>O</td>      <td>O</td>      <td>O</td>      <td>B-Symptom</td>      <td>B-clinical_condition</td>      <td>O</td>      <td>O</td>      <td>O</td>      <td>B-Symptom</td>      <td>O</td>      <td>O</td>      <td>O</td>      <td>O</td>      <td>B-ADE</td>      <td>O</td>      <td>O</td>      <td>O</td>      <td>B-PROBLEM</td>      <td>O</td>      <td>O</td>      <td>O</td>      <td>O</td>      <td>B-Symptom</td>      <td>O</td>      <td>B-Community_Living_Conditions</td>      <td>O</td>      <td>O</td>      <td>O</td>      <td>B-Disease</td>      <td>B-Symptom</td>      <td>O</td>      <td>O</td>      <td>O</td>      <td>O</td>      <td>O</td>      <td>B-Medicalfinding</td>      <td>O</td>      <td>B-Sign_or_Symptom</td>      <td>O</td>      <td>O</td>      <td>O</td>      <td>O</td>      <td>O</td>      <td>O</td>      <td>O</td>      <td>O</td>      <td>O</td>      <td>O</td>      <td>B-ADE</td>      <td>O</td>      <td>O</td>      <td>O</td>      <td>B-Symptom</td>      <td>O</td>      <td>O</td>      <td>B-Symptom</td>      <td>O</td>      <td>O</td>      <td>O</td>      <td>O</td>      <td>O</td>      <td>B-Symptom</td>      <td>O</td>      <td>B-PROBLEM</td>      <td>O</td>      <td>O</td>      <td>O</td>      <td>O</td>      <td>B-Symptom</td>      <td>B-clinical_condition</td>      <td>O</td>      <td>O</td>      <td>O</td>    </tr>    <tr>      <th>68</th>      <td>0</td>      <td>409</td>      <td>416</td>      <td>appetite</td>      <td>O</td>      <td>O</td>      <td>I-Symptom</td>      <td>I-Symptom</td>      <td>I-Symptom</td>      <td>I-Symptom</td>      <td>I-Problem</td>      <td>O</td>      <td>O</td>      <td>O</td>      <td>I-PROBLEM</td>      <td>O</td>      <td>O</td>      <td>O</td>      <td>I-Symptom</td>      <td>O</td>      <td>O</td>      <td>O</td>      <td>O</td>      <td>O</td>      <td>O</td>      <td>I-PROBLEM</td>      <td>O</td>      <td>O</td>      <td>O</td>      <td>O</td>      <td>O</td>      <td>O</td>      <td>I-Symptom</td>      <td>I-clinical_condition</td>      <td>O</td>      <td>O</td>      <td>O</td>      <td>I-Symptom</td>      <td>O</td>      <td>O</td>      <td>O</td>      <td>O</td>      <td>I-ADE</td>      <td>O</td>      <td>O</td>      <td>O</td>      <td>I-PROBLEM</td>      <td>O</td>      <td>O</td>      <td>O</td>      <td>O</td>      <td>I-Symptom</td>      <td>O</td>      <td>I-Community_Living_Conditions</td>      <td>O</td>      <td>O</td>      <td>O</td>      <td>I-Disease</td>      <td>I-Symptom</td>      <td>O</td>      <td>O</td>      <td>O</td>      <td>O</td>      <td>O</td>      <td>I-Medicalfinding</td>      <td>O</td>      <td>I-Sign_or_Symptom</td>      <td>O</td>      <td>O</td>      <td>O</td>      <td>O</td>      <td>O</td>      <td>O</td>      <td>O</td>      <td>O</td>      <td>O</td>      <td>O</td>      <td>I-ADE</td>      <td>O</td>      <td>I-MedicalCondition</td>      <td>O</td>      <td>I-Symptom</td>      <td>O</td>      <td>O</td>      <td>I-Symptom</td>      <td>O</td>      <td>O</td>      <td>O</td>      <td>O</td>      <td>O</td>      <td>I-Symptom</td>      <td>O</td>      <td>I-PROBLEM</td>      <td>O</td>      <td>O</td>      <td>O</td>      <td>O</td>      <td>I-Symptom</td>      <td>I-clinical_condition</td>      <td>O</td>      <td>O</td>      <td>O</td>    </tr>    <tr>      <th>69</th>      <td>0</td>      <td>418</td>      <td>418</td>      <td>,</td>      <td>O</td>      <td>O</td>      <td>O</td>      <td>O</td>      <td>O</td>      <td>O</td>      <td>O</td>      <td>O</td>      <td>O</td>      <td>O</td>      <td>O</td>      <td>O</td>      <td>O</td>      <td>O</td>      <td>O</td>      <td>O</td>      <td>O</td>      <td>O</td>      <td>O</td>      <td>O</td>      <td>O</td>      <td>O</td>      <td>O</td>      <td>O</td>      <td>O</td>      <td>O</td>      <td>O</td>      <td>O</td>      <td>O</td>      <td>O</td>      <td>O</td>      <td>O</td>      <td>O</td>      <td>O</td>      <td>O</td>      <td>O</td>      <td>O</td>      <td>O</td>      <td>O</td>      <td>O</td>      <td>O</td>      <td>O</td>      <td>O</td>      <td>O</td>      <td>O</td>      <td>O</td>      <td>O</td>      <td>O</td>      <td>O</td>      <td>O</td>      <td>O</td>      <td>O</td>      <td>O</td>      <td>O</td>      <td>O</td>      <td>O</td>      <td>O</td>      <td>O</td>      <td>O</td>      <td>O</td>      <td>O</td>      <td>O</td>      <td>O</td>      <td>O</td>      <td>O</td>      <td>O</td>      <td>O</td>      <td>O</td>      <td>O</td>      <td>O</td>      <td>O</td>      <td>O</td>      <td>O</td>      <td>O</td>      <td>O</td>      <td>O</td>      <td>O</td>      <td>O</td>      <td>O</td>      <td>O</td>      <td>O</td>      <td>O</td>      <td>O</td>      <td>O</td>      <td>O</td>      <td>O</td>      <td>O</td>      <td>O</td>      <td>O</td>      <td>O</td>      <td>O</td>      <td>O</td>      <td>O</td>      <td>O</td>      <td>O</td>      <td>O</td>      <td>O</td>      <td>O</td>    </tr>    <tr>      <th>70</th>      <td>0</td>      <td>420</td>      <td>422</td>      <td>and</td>      <td>O</td>      <td>O</td>      <td>O</td>      <td>O</td>      <td>O</td>      <td>O</td>      <td>O</td>      <td>O</td>      <td>O</td>      <td>O</td>      <td>O</td>      <td>O</td>      <td>O</td>      <td>O</td>      <td>O</td>      <td>O</td>      <td>O</td>      <td>O</td>      <td>O</td>      <td>O</td>      <td>O</td>      <td>O</td>      <td>O</td>      <td>O</td>      <td>O</td>      <td>O</td>      <td>O</td>      <td>O</td>      <td>O</td>      <td>O</td>      <td>O</td>      <td>O</td>      <td>O</td>      <td>O</td>      <td>O</td>      <td>O</td>      <td>O</td>      <td>O</td>      <td>O</td>      <td>O</td>      <td>O</td>      <td>O</td>      <td>O</td>      <td>O</td>      <td>O</td>      <td>O</td>      <td>O</td>      <td>O</td>      <td>O</td>      <td>O</td>      <td>O</td>      <td>O</td>      <td>O</td>      <td>O</td>      <td>O</td>      <td>O</td>      <td>O</td>      <td>O</td>      <td>O</td>      <td>O</td>      <td>O</td>      <td>O</td>      <td>O</td>      <td>O</td>      <td>O</td>      <td>O</td>      <td>O</td>      <td>O</td>      <td>O</td>      <td>O</td>      <td>O</td>      <td>O</td>      <td>O</td>      <td>O</td>      <td>O</td>      <td>O</td>      <td>O</td>      <td>O</td>      <td>O</td>      <td>O</td>      <td>O</td>      <td>O</td>      <td>O</td>      <td>O</td>      <td>O</td>      <td>O</td>      <td>O</td>      <td>O</td>      <td>O</td>      <td>O</td>      <td>O</td>      <td>O</td>      <td>O</td>      <td>O</td>      <td>O</td>      <td>O</td>      <td>O</td>      <td>O</td>    </tr>    <tr>      <th>71</th>      <td>0</td>      <td>424</td>      <td>431</td>      <td>vomiting</td>      <td>O</td>      <td>O</td>      <td>B-Symptom</td>      <td>B-Symptom</td>      <td>B-Symptom</td>      <td>B-Symptom</td>      <td>B-Problem</td>      <td>O</td>      <td>O</td>      <td>O</td>      <td>B-PROBLEM</td>      <td>O</td>      <td>O</td>      <td>O</td>      <td>B-Symptom</td>      <td>O</td>      <td>B-Disease</td>      <td>O</td>      <td>O</td>      <td>O</td>      <td>O</td>      <td>B-PROBLEM</td>      <td>O</td>      <td>O</td>      <td>O</td>      <td>O</td>      <td>O</td>      <td>O</td>      <td>B-Symptom</td>      <td>B-clinical_condition</td>      <td>O</td>      <td>O</td>      <td>O</td>      <td>B-Symptom</td>      <td>O</td>      <td>O</td>      <td>O</td>      <td>O</td>      <td>B-ADE</td>      <td>B-HP</td>      <td>O</td>      <td>O</td>      <td>B-PROBLEM</td>      <td>O</td>      <td>O</td>      <td>O</td>      <td>O</td>      <td>B-Symptom</td>      <td>O</td>      <td>O</td>      <td>O</td>      <td>O</td>      <td>O</td>      <td>B-Disease</td>      <td>B-Symptom</td>      <td>O</td>      <td>O</td>      <td>O</td>      <td>O</td>      <td>O</td>      <td>B-Medicalfinding</td>      <td>O</td>      <td>B-Sign_or_Symptom</td>      <td>O</td>      <td>O</td>      <td>O</td>      <td>O</td>      <td>O</td>      <td>O</td>      <td>O</td>      <td>O</td>      <td>O</td>      <td>O</td>      <td>B-ADE</td>      <td>O</td>      <td>B-MedicalCondition</td>      <td>O</td>      <td>B-Symptom</td>      <td>O</td>      <td>O</td>      <td>B-Symptom</td>      <td>O</td>      <td>O</td>      <td>O</td>      <td>O</td>      <td>O</td>      <td>B-Symptom</td>      <td>O</td>      <td>B-PROBLEM</td>      <td>B-CONDITION</td>      <td>O</td>      <td>O</td>      <td>O</td>      <td>B-Symptom</td>      <td>B-clinical_condition</td>      <td>O</td>      <td>O</td>      <td>O</td>    </tr>    <tr>      <th>72</th>      <td>0</td>      <td>433</td>      <td>433</td>      <td>.</td>      <td>O</td>      <td>O</td>      <td>O</td>      <td>O</td>      <td>O</td>      <td>O</td>      <td>O</td>      <td>O</td>      <td>O</td>      <td>O</td>      <td>O</td>      <td>O</td>      <td>O</td>      <td>O</td>      <td>O</td>      <td>O</td>      <td>O</td>      <td>O</td>      <td>O</td>      <td>O</td>      <td>O</td>      <td>O</td>      <td>O</td>      <td>O</td>      <td>O</td>      <td>O</td>      <td>O</td>      <td>O</td>      <td>O</td>      <td>O</td>      <td>O</td>      <td>O</td>      <td>O</td>      <td>O</td>      <td>O</td>      <td>O</td>      <td>O</td>      <td>O</td>      <td>O</td>      <td>O</td>      <td>O</td>      <td>O</td>      <td>O</td>      <td>O</td>      <td>O</td>      <td>O</td>      <td>O</td>      <td>O</td>      <td>O</td>      <td>O</td>      <td>O</td>      <td>O</td>      <td>O</td>      <td>O</td>      <td>O</td>      <td>O</td>      <td>O</td>      <td>O</td>      <td>O</td>      <td>O</td>      <td>O</td>      <td>O</td>      <td>O</td>      <td>O</td>      <td>O</td>      <td>O</td>      <td>O</td>      <td>O</td>      <td>O</td>      <td>O</td>      <td>O</td>      <td>O</td>      <td>O</td>      <td>O</td>      <td>O</td>      <td>O</td>      <td>O</td>      <td>O</td>      <td>O</td>      <td>O</td>      <td>O</td>      <td>O</td>      <td>O</td>      <td>O</td>      <td>O</td>      <td>O</td>      <td>O</td>      <td>O</td>      <td>O</td>      <td>O</td>      <td>O</td>      <td>O</td>      <td>O</td>      <td>O</td>      <td>O</td>      <td>O</td>      <td>O</td>      <td>O</td>    </tr>  </tbody></table>"
   ]
  },
  {
   "cell_type": "markdown",
   "metadata": {},
   "source": [
    "## NER Model Finder Pretrained Pipeline\n",
    "`ner_model_finder`  pretrained pipeline trained with bert embeddings that can be used to find the most appropriate NER model given the entity name."
   ]
  },
  {
   "cell_type": "code",
   "execution_count": 58,
   "metadata": {
    "tags": []
   },
   "outputs": [
    {
     "name": "stdout",
     "output_type": "stream",
     "text": [
      "ner_model_finder download started this may take some time.\n",
      "\n",
      "Approx size to download 148.7 MB\n",
      "\n",
      "[OK!]\n"
     ]
    }
   ],
   "source": [
    "finder_pipeline = nlp.PretrainedPipeline(\"ner_model_finder\", \"en\", \"clinical/models\")"
   ]
  },
  {
   "cell_type": "code",
   "execution_count": 59,
   "metadata": {
    "tags": []
   },
   "outputs": [
    {
     "name": "stdout",
     "output_type": "stream",
     "text": [
      "dict_keys(['model_names'])\n"
     ]
    }
   ],
   "source": [
    "result = finder_pipeline.fullAnnotate(\"oncology\")[0]\n",
    "result.keys()"
   ]
  },
  {
   "cell_type": "markdown",
   "metadata": {},
   "source": [
    "From the metadata in the `model_names` column, we'll get to the top models to the given 'oncology' entity and oncology related categories."
   ]
  },
  {
   "cell_type": "code",
   "execution_count": 60,
   "metadata": {
    "tags": []
   },
   "outputs": [
    {
     "name": "stdout",
     "output_type": "stream",
     "text": [
      "\n"
     ]
    }
   ],
   "source": [
    "df= pd.DataFrame(zip(result[\"model_names\"][0].metadata[\"all_k_resolutions\"].split(\":::\"),\n",
    "                     result[\"model_names\"][0].metadata[\"all_k_results\"].split(\":::\")),\n",
    "                 columns=[\"category\", \"top_models\"])"
   ]
  },
  {
   "cell_type": "code",
   "execution_count": 128,
   "metadata": {
    "tags": []
   },
   "outputs": [],
   "source": [
    "df.to_html().replace(\"\\n\",\"\")\n",
    "#copy/paste the output into the next cell as markdown"
   ]
  },
  {
   "cell_type": "markdown",
   "metadata": {},
   "source": [
    "<table border=\"1\" class=\"dataframe\">  <thead>    <tr style=\"text-align: right;\">      <th></th>      <th>category</th>      <th>top_models</th>    </tr>  </thead>  <tbody>    <tr>      <th>0</th>      <td>oncology therapy</td>      <td>[\\'ner_jsl\\', \\'jsl_rd_ner_wip_greedy_clinical\\', \\'jsl_ner_wip_modifier_clinical\\', \\'ner_jsl_enriched\\', \\'ner_jsl_greedy\\', \\'ner_jsl_slim\\']</td>    </tr>    <tr>      <th>1</th>      <td>clinical department</td>      <td>[\\'ner_jsl\\', \\'jsl_rd_ner_wip_greedy_clinical\\', \\'jsl_ner_wip_modifier_clinical\\', \\'ner_events_clinical\\', \\'ner_jsl_enriched\\', \\'ner_jsl_greedy\\', \\'ner_jsl_slim\\', \\'ner_events_healthcare\\', \\'ner_events_admission_clinical\\']</td>    </tr>    <tr>      <th>2</th>      <td>biomedical unit</td>      <td>[\\'ner_clinical_trials_abstracts\\']</td>    </tr>    <tr>      <th>3</th>      <td>cancer genetics</td>      <td>[\\'ner_cancer_genetics\\']</td>    </tr>    <tr>      <th>4</th>      <td>anatomy</td>      <td>[\\'ner_bionlp\\', \\'ner_medmentions_coarse\\', \\'ner_chexpert\\', \\'ner_anatomy_coarse\\', \\'ner_anatomy\\', \\'ner_nature_nero_clinical\\']</td>    </tr>    <tr>      <th>5</th>      <td>cancer surgery</td>      <td>[\\'ner_biomarker\\']</td>    </tr>    <tr>      <th>6</th>      <td>molecular biology research technique</td>      <td>[\\'ner_medmentions_coarse\\']</td>    </tr>    <tr>      <th>7</th>      <td>dysarthria</td>      <td>[\\'ner_nihss\\']</td>    </tr>    <tr>      <th>8</th>      <td>oncological</td>      <td>[\\'ner_jsl\\', \\'ner_biomarker\\', \\'jsl_rd_ner_wip_greedy_clinical\\', \\'jsl_ner_wip_modifier_clinical\\', \\'ner_jsl_enriched\\', \\'ner_jsl_greedy\\', \\'ner_jsl_slim\\']</td>    </tr>    <tr>      <th>9</th>      <td>hospital</td>      <td>[\\'ner_deid_subentity_augmented\\', \\'ner_deid_subentity_augmented_i2b2\\', \\'ner_deid_subentity_glove\\', \\'ner_deid_enriched\\', \\'ner_deidentify_dl\\']</td>    </tr>    <tr>      <th>10</th>      <td>medical history header</td>      <td>[\\'ner_jsl\\', \\'jsl_rd_ner_wip_greedy_clinical\\', \\'jsl_ner_wip_modifier_clinical\\', \\'ner_jsl_enriched\\', \\'ner_jsl_greedy\\']</td>    </tr>    <tr>      <th>11</th>      <td>tumor finding</td>      <td>[\\'ner_jsl_enriched\\', \\'ner_biomarker\\']</td>    </tr>    <tr>      <th>12</th>      <td>journal</td>      <td>[\\'ner_nature_nero_clinical\\']</td>    </tr>    <tr>      <th>13</th>      <td>medical record</td>      <td>[\\'ner_deid_subentity_augmented_i2b2\\', \\'ner_deid_subentity_augmented\\', \\'ner_deid_enriched\\', \\'ner_deidentify_dl\\', \\'ner_deid_subentity_glove\\']</td>    </tr>    <tr>      <th>14</th>      <td>organism subdivision</td>      <td>[\\'ner_anatomy\\', \\'ner_bionlp\\', \\'ner_medmentions_coarse\\']</td>    </tr>    <tr>      <th>15</th>      <td>posology</td>      <td>[\\'ner_posology_greedy\\', \\'jsl_ner_wip_modifier_clinical\\', \\'ner_posology_small\\', \\'ner_jsl_greedy\\', \\'ner_ade_clinical\\', \\'ner_posology\\', \\'ner_risk_factors\\', \\'ner_ade_healthcare\\', \\'ner_drugs_large\\', \\'ner_jsl_slim\\', \\'ner_posology_experimental\\', \\'ner_posology_large\\', \\'ner_posology_healthcare\\', \\'ner_drugs_greedy\\']</td>    </tr>    <tr>      <th>16</th>      <td>cancer</td>      <td>[\\'ner_jsl\\', \\'ner_bionlp\\', \\'jsl_rd_ner_wip_greedy_clinical\\', \\'jsl_ner_wip_modifier_clinical\\', \\'ner_jsl_enriched\\', \\'ner_jsl_greedy\\', \\'ner_jsl_slim\\']</td>    </tr>  </tbody></table>"
   ]
  },
  {
   "cell_type": "code",
   "execution_count": null,
   "metadata": {},
   "outputs": [],
   "source": []
  }
 ],
 "metadata": {
  "kernelspec": {
   "display_name": "Glue PySpark",
   "language": "python",
   "name": "glue_pyspark"
  },
  "language_info": {
   "codemirror_mode": {
    "name": "python",
    "version": 3
   },
   "file_extension": ".py",
   "mimetype": "text/x-python",
   "name": "Python_Glue_Session",
   "pygments_lexer": "python3"
  },
  "toc-autonumbering": true,
  "toc-showcode": false,
  "toc-showmarkdowntxt": false,
  "toc-showtags": false
 },
 "nbformat": 4,
 "nbformat_minor": 4
}

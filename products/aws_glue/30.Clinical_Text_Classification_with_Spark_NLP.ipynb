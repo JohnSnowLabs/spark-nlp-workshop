{
 "cells": [
  {
   "cell_type": "markdown",
   "metadata": {
    "id": "5ltDwXLQlNs3"
   },
   "source": [
    "![JohnSnowLabs](https://nlp.johnsnowlabs.com/assets/images/logo.png)"
   ]
  },
  {
   "cell_type": "markdown",
   "metadata": {
    "id": "Aua6Y3mBlNs5"
   },
   "source": [
    "[![Open In Colab](https://colab.research.google.com/assets/colab-badge.svg)](https://colab.research.google.com/github/JohnSnowLabs/spark-nlp-workshop/blob/master/tutorials/Certification_Trainings/Healthcare/30.Clinical_Text_Classification_with_Spark_NLP.ipynb)"
   ]
  },
  {
   "cell_type": "markdown",
   "metadata": {
    "id": "T70JAFhuB_hY"
   },
   "source": [
    "# Glue Setup"
   ]
  },
  {
   "cell_type": "code",
   "execution_count": 5,
   "metadata": {
    "tags": []
   },
   "outputs": [],
   "source": [
    "# create a bucket for  spark.jsl.settings.pretrained.cache_folder=s3://<bucket>/cache_pretrained/ \n",
    "\n",
    "# create/obtain AWS credential for your own resources <aws_access_key> <aws_secret_key> <aws_session_token>\n",
    "\n",
    "# obtain JSL license and credentials <pretrained.credentials.access_key_id> <pretrained.credentials.secret_access_key>"
   ]
  },
  {
   "cell_type": "code",
   "execution_count": null,
   "metadata": {
    "tags": []
   },
   "outputs": [],
   "source": [
    "%worker_type G.2X\n",
    "%additional_python_modules tensorflow==2.11.0, tensorflow-addons,scikit-learn,johnsnowlabs_by_kshitiz==5.0.7rc5,s3://<bucket>/assets/packages/spark_nlp-5.0.2-py2.py3-none-any.whl,s3://<bucket>/assets/packages/spark_nlp_jsl-5.0.2-py3-none-any.whl\n",
    "%extra_jars s3://<bucket>/assets/jars/spark-nlp-assembly-5.0.2.jar,s3://<bucket>/assets/jars/spark-nlp-jsl-5.0.2.jar\n",
    "\n",
    "%%configure \n",
    "{\n",
    "    \"--conf\":\"\"\"spark.jsl.settings.pretrained.cache_folder=s3://<bucket>/cache_pretrained/  \n",
    "--conf spark.jars.packages=org.apache.hadoop:hadoop-aws:3.2.1,com.amazonaws:aws-java-sdk:1.11.828 \n",
    "--conf spark.driver.memory=64G\n",
    "--conf spark.executor.memory=32G\n",
    "--conf spark.serializer=org.apache.spark.serializer.KryoSerializer\n",
    "--conf spark.kryoserializer.buffer.max=2000M\n",
    "--conf spark.driver.maxResultSize=2000M\n",
    "--conf spark.yarn.am.memory=4G\n",
    "\n",
    "--conf spark.hadoop.mapred.output.committer.class=org.apache.hadoop.mapred.DirectFileOutputCommitter\n",
    "\n",
    "--conf spark.hadoop.fs.s3a.access.key=<aws_access_key>\n",
    "\n",
    "--conf spark.hadoop.fs.s3a.secret.key=<aws_secret_key>\n",
    "\n",
    "--conf spark.hadoop.fs.s3a.session.token=<aws_session_token>\n",
    "\n",
    "--conf jsl.settings.license=<license>\n",
    "--conf spark.jsl.settings.pretrained.credentials.access_key_id=<pretrained.credentials.access_key_id> \n",
    "--conf spark.jsl.settings.pretrained.credentials.secret_access_key=<pretrained.credentials.secret_access_key> \n",
    "--conf spark.hadoop.fs.s3a.aws.credentials.provider=org.apache.hadoop.fs.s3a.TemporaryAWSCredentialsProvider \n",
    "--conf spark.hadoop.fs.s3a.impl=org.apache.hadoop.fs.s3a.S3AFileSystem \n",
    "--conf spark.hadoop.fs.s3a.path.style.access=true \n",
    "--conf spark.jsl.settings.aws.region=us-east-1\"\"\"\n",
    "}"
   ]
  },
  {
   "cell_type": "code",
   "execution_count": null,
   "metadata": {
    "tags": []
   },
   "outputs": [],
   "source": [
    "%glue_version 4.0\n",
    "\n",
    "import sys\n",
    "from awsglue.transforms import *\n",
    "from awsglue.utils import getResolvedOptions\n",
    "from pyspark.context import SparkContext\n",
    "from awsglue.context import GlueContext\n",
    "from awsglue.job import Job\n",
    "\n",
    "sc = SparkContext.getOrCreate()\n",
    "glueContext = GlueContext(sc)\n",
    "spark = glueContext.spark_session\n",
    "spark._jvm.com.johnsnowlabs.util.start.registerListenerAndStartRefresh()\n",
    "job = Job(glueContext)"
   ]
  },
  {
   "cell_type": "code",
   "execution_count": 2,
   "metadata": {
    "id": "MRTflinqmhKL",
    "tags": []
   },
   "outputs": [
    {
     "name": "stdout",
     "output_type": "stream",
     "text": [
      "\n"
     ]
    }
   ],
   "source": [
    "from johnsnowlabs import nlp, medical"
   ]
  },
  {
   "cell_type": "code",
   "execution_count": 3,
   "metadata": {
    "colab": {
     "base_uri": "https://localhost:8080/",
     "height": 259
    },
    "executionInfo": {
     "elapsed": 36246,
     "status": "ok",
     "timestamp": 1689689563663,
     "user": {
      "displayName": "Ahmet Mesut BİROL",
      "userId": "04340760882990254267"
     },
     "user_tz": -180
    },
    "id": "_em57ItxLnJm",
    "outputId": "25bf2db6-e098-4f72-a041-a96910136da0",
    "tags": []
   },
   "outputs": [
    {
     "name": "stdout",
     "output_type": "stream",
     "text": [
      "Spark NLP Version : 5.0.2\n",
      "Spark NLP_JSL Version : 5.0.2\n"
     ]
    }
   ],
   "source": [
    "import pandas as pd\n",
    "from sklearn.metrics import confusion_matrix, classification_report, accuracy_score\n",
    "\n",
    "import sparknlp\n",
    "import sparknlp_jsl\n",
    "\n",
    "from sparknlp.base import *\n",
    "from sparknlp.annotator import *\n",
    "from sparknlp_jsl.base import *\n",
    "from sparknlp_jsl.annotator import *\n",
    "\n",
    "from pyspark.sql import SparkSession\n",
    "from pyspark.ml import Pipeline,PipelineModel\n",
    "\n",
    "import warnings\n",
    "warnings.filterwarnings('ignore')\n",
    "\n",
    "print (\"Spark NLP Version :\", sparknlp.version())\n",
    "print (\"Spark NLP_JSL Version :\", sparknlp_jsl.version())\n"
   ]
  },
  {
   "cell_type": "markdown",
   "metadata": {
    "id": "seqQtw6ryhDm"
   },
   "source": [
    "# Classifiers\n",
    "\n",
    "The below classifiers will be used in this notebook.ClassifierDL, MultiClassifierDL, and GenericClassifier will be trained using healthcare_100d, embeddingd_clinical, and bert sentence embeddings(sbiobert_base_cased_mli). DocumentLogRegClassifier accepts tokens, so sentence embeddings are not utilized during DocumentLogRegClassifier training.\n",
    "\n",
    "## ClassifierDL\n",
    "\n",
    "ClassifierDL is a generic Multi-class Text Classification annotator. ClassifierDL uses the state-of-the-art Universal Sentence Encoder as an input for text classifications. The ClassifierDL annotator uses a deep learning model (DNNs) built inside TensorFlow and supports up to 100 classes. For more information please [follow the link](https://nlp.johnsnowlabs.com/docs/en/annotators#classifierdl).\n",
    "\n",
    "\n",
    "##  MultiClassifierDL\n",
    "\n",
    "MultiClassifierDL is a Multi-label Text Classification annotator.MultiClassifierDL uses a Bidirectional GRU with a convolutional model built inside TensorFlow and supports up to 100 classes.  For more information please [follow the link](https://nlp.johnsnowlabs.com/docs/en/annotators#multiclassifierdl).\n",
    "\n",
    "\n",
    "## GenericClassifier\n",
    "\n",
    "GenericClassifier is a TensorFlow model for the generic classification of feature vectors in Healthcare  Lİbrary. It takes FEATURE_VECTOR annotations from FeaturesAssembler as input, classifies them, and outputs CATEGORY annotations. Please see [the link](https://nlp.johnsnowlabs.com/docs/en/licensed_annotators#genericclassifier) for more information.\n",
    "\n",
    "Here are some Social Determinants of Health (SDOH) models that trained with GenericClassifier:\n",
    "\n",
    "|index|model|\n",
    "|-----:|:-----|\n",
    "|1|[genericclassifier_sdoh_economics_binary_sbiobert_cased_mli](https://nlp.johnsnowlabs.com/2023/01/14/genericclassifier_sdoh_economics_binary_sbiobert_cased_mli_en.html)|\n",
    "|2|[genericclassifier_sdoh_substance_usage_binary_sbiobert_cased_mli](https://nlp.johnsnowlabs.com/2023/01/14/genericclassifier_sdoh_substance_usage_binary_sbiobert_cased_mli_en.html)|\n",
    "|3|[genericclassifier_sdoh_tobacco_usage_sbiobert_cased_mli](https://nlp.johnsnowlabs.com/2023/01/14/genericclassifier_sdoh_tobacco_usage_sbiobert_cased_mli_en.html)|\n",
    "|4|[genericclassifier_sdoh_alcohol_usage_sbiobert_cased_mli](https://nlp.johnsnowlabs.com/2023/01/14/genericclassifier_sdoh_alcohol_usage_sbiobert_cased_mli_en.html)|\n",
    "|5|[genericclassifier_sdoh_alcohol_usage_binary_sbiobert_cased_mli](https://nlp.johnsnowlabs.com/2023/01/14/genericclassifier_sdoh_alcohol_usage_binary_sbiobert_cased_mli_en.html)|\n",
    "|6|[genericclassifier_sdoh_housing_insecurity_sbiobert_cased_mli](https://nlp.johnsnowlabs.com/2023/04/10/genericclassifier_sdoh_housing_insecurity_sbiobert_cased_mli_en.html)\n",
    "|7|[genericclassifier_sdoh_mental_health_clinical](https://nlp.johnsnowlabs.com/2023/04/10/genericclassifier_sdoh_mental_health_clinical_en.html)\n",
    "|8|[genericclassifier_sdoh_under_treatment_sbiobert_cased_mli](https://nlp.johnsnowlabs.com/2023/04/10/genericclassifier_sdoh_under_treatment_sbiobert_cased_mli_en.html)\n",
    "\n",
    "## GenericLogRegClassifier\n",
    "\n",
    "`GenericLogRegClassifier` is a derivative of GenericClassifier which implements a multinomial *Logistic Regression*. This is a single layer neural network with the logistic function at the output. The input to the model is `FeatureVector` and the output is `Category` annotations with labels and corresponding confidence scores varying between 0 and 1. Training data requires \"text\" and their \"label\" columns only and the trained model will be a `GenericLogRegClassifierModel()`.\n",
    "\n",
    "|index|model|\n",
    "|-----:|:-----|\n",
    "|1|[generic_logreg_classifier_ade](https://nlp.johnsnowlabs.com/2023/05/09/generic_logreg_classifier_ade_en.html)\n",
    "\n",
    "\n",
    "\n",
    "## GenericSVMClassifier\n",
    "\n",
    "`GenericSVMClassifier` is a derivative of GenericClassifier which implements *SVM (Support Vector Machine)* classification. The input to the model is `FeatureVector` and the output is `Category` annotations with labels and corresponding confidence scores. The scores are standardized using the logistic function so that they vary between 0 and 1. Taining data requires \"text\" and their \"label\" columns only and the trained model will be a `GenericSVMClassifierModel()`\n",
    "\n",
    "|index|model|\n",
    "|-----:|:-----|\n",
    "|1|[generic_svm_classifier_ade](https://nlp.johnsnowlabs.com/2023/05/09/generic_svm_classifier_ade_en.html)\n",
    "\n",
    "## DocumentLogRegClassifier\n",
    "\n",
    "DocumentLogRegClassifier is a model to classify documents with a Logarithmic Regression algorithm in Healthcare  Library. Training data requires columns for text and labels. The result is a trained DocumentLogRegClassifierModel. you can get more info [here](https://nlp.johnsnowlabs.com/docs/en/licensed_annotators#documentlogregclassifier).\n",
    "\n",
    "|index|model|\n",
    "|-----:|:-----|\n",
    "|1|[classifier_logreg_ade](https://nlp.johnsnowlabs.com/2023/05/16/classifier_logreg_ade_en.html)|\n"
   ]
  },
  {
   "cell_type": "markdown",
   "metadata": {
    "id": "V9VJxCgQDbci"
   },
   "source": [
    "# ADE Dataset"
   ]
  },
  {
   "cell_type": "markdown",
   "metadata": {
    "id": "26_3aTINil5M"
   },
   "source": [
    "### Data Preprocessing"
   ]
  },
  {
   "cell_type": "code",
   "execution_count": 61,
   "metadata": {
    "tags": []
   },
   "outputs": [
    {
     "name": "stdout",
     "output_type": "stream",
     "text": [
      "\n"
     ]
    }
   ],
   "source": [
    "#downloading sample datasets\n",
    "# download these files and put them in a S3 bucket\n",
    "\n",
    "# !curl --output ADE-NEG.txt https://raw.githubusercontent.com/JohnSnowLabs/spark-nlp-workshop/master/tutorials/Certification_Trainings/Healthcare/data/ADE_Corpus_V2/ADE-NEG.txt\n",
    "# !curl --output DRUG-AE.rel https://raw.githubusercontent.com/JohnSnowLabs/spark-nlp-workshop/master/tutorials/Certification_Trainings/Healthcare/data/ADE_Corpus_V2/DRUG-AE.rel\n",
    "\n",
    "bucket=\"s3://<bucket>/rawdata/\"\n",
    "\n"
   ]
  },
  {
   "cell_type": "markdown",
   "metadata": {
    "id": "CcjKu0_XrfLy"
   },
   "source": [
    "**ADE Negative Dataset**"
   ]
  },
  {
   "cell_type": "code",
   "execution_count": 8,
   "metadata": {
    "colab": {
     "base_uri": "https://localhost:8080/",
     "height": 206
    },
    "executionInfo": {
     "elapsed": 627,
     "status": "ok",
     "timestamp": 1689689565002,
     "user": {
      "displayName": "Ahmet Mesut BİROL",
      "userId": "04340760882990254267"
     },
     "user_tz": -180
    },
    "id": "Y8bRpYvWilZB",
    "outputId": "bee54917-05a9-437d-a16e-aa511112317f",
    "tags": []
   },
   "outputs": [
    {
     "name": "stdout",
     "output_type": "stream",
     "text": [
      "\n"
     ]
    }
   ],
   "source": [
    "df_neg= pd.read_csv(f\"{bucket}ADE-NEG.txt\", header=None, delimiter=\"\\t\", names=[\"col1\"])"
   ]
  },
  {
   "cell_type": "code",
   "execution_count": 13,
   "metadata": {
    "tags": []
   },
   "outputs": [
    {
     "name": "stdout",
     "output_type": "stream",
     "text": [
      "+------------------------------------------------------------------------------------------------------------------------------------------------------+\n",
      "|                                                                                                                                                  col1|\n",
      "+------------------------------------------------------------------------------------------------------------------------------------------------------+\n",
      "|               6460590 NEG Clioquinol intoxication occurring in the treatment of acrodermatitis enteropathica with reference to SMON outside of Japan.|\n",
      "|                                  8600337 NEG \"Retinoic acid syndrome\" was prevented with short-time treatment of high dose (4 x 1.5 g/m2) cytarabine.|\n",
      "|8402502 NEG BACKGROUND: External beam radiation therapy often is avoided in the treatment of rhabdomyosarcoma (RMS) in young children because of th...|\n",
      "|8700794 NEG Although the enuresis ceased, she developed throbbing headaches, nausea, vomiting, paresthesia, lethargy, fatigue, and altered mental s...|\n",
      "|                         17662448 NEG A 42-year-old woman had uneventful bilateral laser-assisted subepithelial keratectomy (LASEK) to correct myopia.|\n",
      "+------------------------------------------------------------------------------------------------------------------------------------------------------+\n"
     ]
    }
   ],
   "source": [
    "spark.createDataFrame(df_neg.head()).show(truncate=150)"
   ]
  },
  {
   "cell_type": "code",
   "execution_count": 14,
   "metadata": {
    "colab": {
     "base_uri": "https://localhost:8080/",
     "height": 206
    },
    "executionInfo": {
     "elapsed": 48,
     "status": "ok",
     "timestamp": 1689689565003,
     "user": {
      "displayName": "Ahmet Mesut BİROL",
      "userId": "04340760882990254267"
     },
     "user_tz": -180
    },
    "id": "wrPm_XSyv-R2",
    "outputId": "8b9c535e-e68d-404b-c158-44acc230d691",
    "tags": []
   },
   "outputs": [
    {
     "name": "stdout",
     "output_type": "stream",
     "text": [
      "\n"
     ]
    }
   ],
   "source": [
    "df_neg['text'] =  df_neg.col1.str.split('NEG').str[1]\n",
    "df_neg[\"category\"] = \"neg\"\n",
    "df_neg= df_neg[[\"text\", \"category\"]]"
   ]
  },
  {
   "cell_type": "code",
   "execution_count": 16,
   "metadata": {
    "tags": []
   },
   "outputs": [
    {
     "name": "stdout",
     "output_type": "stream",
     "text": [
      "+------------------------------------------------------------------------------------------------------------------------------------------------------+--------+\n",
      "|                                                                                                                                                  text|category|\n",
      "+------------------------------------------------------------------------------------------------------------------------------------------------------+--------+\n",
      "|                           Clioquinol intoxication occurring in the treatment of acrodermatitis enteropathica with reference to SMON outside of Japan.|     neg|\n",
      "|                                              \"Retinoic acid syndrome\" was prevented with short-time treatment of high dose (4 x 1.5 g/m2) cytarabine.|     neg|\n",
      "| BACKGROUND: External beam radiation therapy often is avoided in the treatment of rhabdomyosarcoma (RMS) in young children because of the long-term...|     neg|\n",
      "| Although the enuresis ceased, she developed throbbing headaches, nausea, vomiting, paresthesia, lethargy, fatigue, and altered mental status over ...|     neg|\n",
      "|                                      A 42-year-old woman had uneventful bilateral laser-assisted subepithelial keratectomy (LASEK) to correct myopia.|     neg|\n",
      "+------------------------------------------------------------------------------------------------------------------------------------------------------+--------+\n"
     ]
    }
   ],
   "source": [
    "spark.createDataFrame(df_neg.head()).show(truncate=150)"
   ]
  },
  {
   "cell_type": "markdown",
   "metadata": {
    "id": "gzu9ELiirkMf"
   },
   "source": [
    "**ADE Positive Dataset**"
   ]
  },
  {
   "cell_type": "code",
   "execution_count": 17,
   "metadata": {
    "colab": {
     "base_uri": "https://localhost:8080/",
     "height": 206
    },
    "executionInfo": {
     "elapsed": 45,
     "status": "ok",
     "timestamp": 1689689565003,
     "user": {
      "displayName": "Ahmet Mesut BİROL",
      "userId": "04340760882990254267"
     },
     "user_tz": -180
    },
    "id": "F4Y20JbRqcLP",
    "outputId": "85aff156-23e9-4872-ee42-fc818876f8ff",
    "tags": []
   },
   "outputs": [
    {
     "name": "stdout",
     "output_type": "stream",
     "text": [
      "\n"
     ]
    }
   ],
   "source": [
    "df_pos= pd.read_csv(f\"{bucket}DRUG-AE.rel\", header=None, delimiter=\"|\")"
   ]
  },
  {
   "cell_type": "code",
   "execution_count": 19,
   "metadata": {
    "tags": []
   },
   "outputs": [
    {
     "name": "stdout",
     "output_type": "stream",
     "text": [
      "+--------+----------------------------------------------------------------------------------------------------+-------------------------+---+---+------------------+---+---+\n",
      "|       0|                                                                                                   1|                        2|  3|  4|                 5|  6|  7|\n",
      "+--------+----------------------------------------------------------------------------------------------------+-------------------------+---+---+------------------+---+---+\n",
      "|10030778|                                                       Intravenous azithromycin-induced ototoxicity.|              ototoxicity| 43| 54|      azithromycin| 22| 34|\n",
      "|10048291|Immobilization, while Paget's bone disease was present, and perhaps enhanced activation of dihydr...|increased calcium-release|960|985|dihydrotachysterol|908|926|\n",
      "|10048291|Unaccountable severe hypercalcemia in a patient treated for hypoparathyroidism with dihydrotachys...|            hypercalcemia| 31| 44|dihydrotachysterol| 94|112|\n",
      "|10082597|                   METHODS: We report two cases of pseudoporphyria caused by naproxen and oxaprozin.|          pseudoporphyria|620|635|          naproxen|646|654|\n",
      "|10082597|                   METHODS: We report two cases of pseudoporphyria caused by naproxen and oxaprozin.|          pseudoporphyria|620|635|         oxaprozin|659|668|\n",
      "+--------+----------------------------------------------------------------------------------------------------+-------------------------+---+---+------------------+---+---+\n"
     ]
    }
   ],
   "source": [
    "spark.createDataFrame(df_pos.head()).show(truncate=100)"
   ]
  },
  {
   "cell_type": "code",
   "execution_count": 20,
   "metadata": {
    "colab": {
     "base_uri": "https://localhost:8080/",
     "height": 206
    },
    "executionInfo": {
     "elapsed": 45,
     "status": "ok",
     "timestamp": 1689689565004,
     "user": {
      "displayName": "Ahmet Mesut BİROL",
      "userId": "04340760882990254267"
     },
     "user_tz": -180
    },
    "id": "ICMIXpnHrc5u",
    "outputId": "80acb3a8-2fdc-49ec-a294-0d42010ad01a",
    "tags": []
   },
   "outputs": [
    {
     "name": "stdout",
     "output_type": "stream",
     "text": [
      "\n"
     ]
    }
   ],
   "source": [
    "df_pos[\"category\"]= \"pos\"\n",
    "df_pos.rename(columns={1: \"text\"}, inplace=True)\n",
    "df_pos= df_pos[[\"text\", \"category\"]]"
   ]
  },
  {
   "cell_type": "code",
   "execution_count": 21,
   "metadata": {
    "tags": []
   },
   "outputs": [
    {
     "name": "stdout",
     "output_type": "stream",
     "text": [
      "+----------------------------------------------------------------------------------------------------+--------+\n",
      "|                                                                                                text|category|\n",
      "+----------------------------------------------------------------------------------------------------+--------+\n",
      "|                                                       Intravenous azithromycin-induced ototoxicity.|     pos|\n",
      "|Immobilization, while Paget's bone disease was present, and perhaps enhanced activation of dihydr...|     pos|\n",
      "|Unaccountable severe hypercalcemia in a patient treated for hypoparathyroidism with dihydrotachys...|     pos|\n",
      "|                   METHODS: We report two cases of pseudoporphyria caused by naproxen and oxaprozin.|     pos|\n",
      "|                   METHODS: We report two cases of pseudoporphyria caused by naproxen and oxaprozin.|     pos|\n",
      "+----------------------------------------------------------------------------------------------------+--------+\n"
     ]
    }
   ],
   "source": [
    "spark.createDataFrame(df_pos.head()).show(truncate=100)"
   ]
  },
  {
   "cell_type": "code",
   "execution_count": 36,
   "metadata": {
    "tags": []
   },
   "outputs": [
    {
     "name": "stdout",
     "output_type": "stream",
     "text": [
      "16695 6821\n"
     ]
    }
   ],
   "source": [
    "print(df_neg.shape[0],df_pos.shape[0],\"\\n\")"
   ]
  },
  {
   "cell_type": "markdown",
   "metadata": {
    "id": "V2iOoomSwTeH"
   },
   "source": [
    "**Merging Positive and Negative dataset**"
   ]
  },
  {
   "cell_type": "code",
   "execution_count": 22,
   "metadata": {
    "colab": {
     "base_uri": "https://localhost:8080/",
     "height": 206
    },
    "executionInfo": {
     "elapsed": 44,
     "status": "ok",
     "timestamp": 1689689565005,
     "user": {
      "displayName": "Ahmet Mesut BİROL",
      "userId": "04340760882990254267"
     },
     "user_tz": -180
    },
    "id": "3ju23pYJrcxT",
    "outputId": "09d11cca-7c3a-4313-c759-971a67581869",
    "tags": []
   },
   "outputs": [
    {
     "name": "stdout",
     "output_type": "stream",
     "text": [
      "+------------------------------------------------------------------------------------------------------------------------------------------------------+--------+\n",
      "|                                                                                                                                                  text|category|\n",
      "+------------------------------------------------------------------------------------------------------------------------------------------------------+--------+\n",
      "|                           Clioquinol intoxication occurring in the treatment of acrodermatitis enteropathica with reference to SMON outside of Japan.|     neg|\n",
      "|                                              \"Retinoic acid syndrome\" was prevented with short-time treatment of high dose (4 x 1.5 g/m2) cytarabine.|     neg|\n",
      "| BACKGROUND: External beam radiation therapy often is avoided in the treatment of rhabdomyosarcoma (RMS) in young children because of the long-term...|     neg|\n",
      "| Although the enuresis ceased, she developed throbbing headaches, nausea, vomiting, paresthesia, lethargy, fatigue, and altered mental status over ...|     neg|\n",
      "|                                      A 42-year-old woman had uneventful bilateral laser-assisted subepithelial keratectomy (LASEK) to correct myopia.|     neg|\n",
      "+------------------------------------------------------------------------------------------------------------------------------------------------------+--------+\n"
     ]
    }
   ],
   "source": [
    "ade_df= pd.concat([df_neg, df_pos])\n",
    "spark.createDataFrame(ade_df.head()).show(truncate=150)"
   ]
  },
  {
   "cell_type": "code",
   "execution_count": 37,
   "metadata": {
    "colab": {
     "base_uri": "https://localhost:8080/"
    },
    "executionInfo": {
     "elapsed": 42,
     "status": "ok",
     "timestamp": 1689689565005,
     "user": {
      "displayName": "Ahmet Mesut BİROL",
      "userId": "04340760882990254267"
     },
     "user_tz": -180
    },
    "id": "Lg_RjRi1lFUa",
    "outputId": "a34197d1-1996-43bd-e1ff-5937c1278184",
    "tags": []
   },
   "outputs": [
    {
     "name": "stdout",
     "output_type": "stream",
     "text": [
      "neg    16695\n",
      "pos     6821\n",
      "Name: category, dtype: int64\n"
     ]
    }
   ],
   "source": [
    "print(ade_df[\"category\"].value_counts())"
   ]
  },
  {
   "cell_type": "code",
   "execution_count": 38,
   "metadata": {
    "colab": {
     "base_uri": "https://localhost:8080/"
    },
    "executionInfo": {
     "elapsed": 26,
     "status": "ok",
     "timestamp": 1689689565006,
     "user": {
      "displayName": "Ahmet Mesut BİROL",
      "userId": "04340760882990254267"
     },
     "user_tz": -180
    },
    "id": "wMWdhHvjzGRp",
    "outputId": "c7c6442c-b1a1-47ff-a8f5-677b6e92daa5",
    "tags": []
   },
   "outputs": [
    {
     "name": "stdout",
     "output_type": "stream",
     "text": [
      "<class 'pandas.core.frame.DataFrame'>\n",
      "Int64Index: 23516 entries, 0 to 6820\n",
      "Data columns (total 2 columns):\n",
      " #   Column    Non-Null Count  Dtype \n",
      "---  ------    --------------  ----- \n",
      " 0   text      23516 non-null  object\n",
      " 1   category  23516 non-null  object\n",
      "dtypes: object(2)\n",
      "memory usage: 551.2+ KB\n"
     ]
    }
   ],
   "source": [
    "ade_df.info()"
   ]
  },
  {
   "cell_type": "markdown",
   "metadata": {
    "id": "Gd0njm6qac8Q"
   },
   "source": [
    "We take 30% of the data to make a faster run. You can use all data for better scores."
   ]
  },
  {
   "cell_type": "code",
   "execution_count": 39,
   "metadata": {
    "colab": {
     "base_uri": "https://localhost:8080/"
    },
    "executionInfo": {
     "elapsed": 6525,
     "status": "ok",
     "timestamp": 1689689571511,
     "user": {
      "displayName": "Ahmet Mesut BİROL",
      "userId": "04340760882990254267"
     },
     "user_tz": -180
    },
    "id": "54RWnCr0yWL5",
    "outputId": "0322f782-2acb-45a2-eece-2fd0079aa92a",
    "tags": []
   },
   "outputs": [
    {
     "name": "stdout",
     "output_type": "stream",
     "text": [
      "Training Dataset Count: 5555\n",
      "Test Dataset Count: 1418\n"
     ]
    }
   ],
   "source": [
    "spark_df = spark.createDataFrame(ade_df).sample(0.3, 3) # limit the data\n",
    "\n",
    "trainingData, testData = spark_df.randomSplit([0.8, 0.2], seed = 100)\n",
    "\n",
    "print(\"Training Dataset Count: \" + str(trainingData.count()))\n",
    "print(\"Test Dataset Count: \" + str(testData.count()))"
   ]
  },
  {
   "cell_type": "code",
   "execution_count": 41,
   "metadata": {
    "tags": []
   },
   "outputs": [
    {
     "name": "stdout",
     "output_type": "stream",
     "text": [
      "+------------------------------------------------------------------------------------------------------------------------------------------------------+--------+\n",
      "|                                                                                                                                                  text|category|\n",
      "+------------------------------------------------------------------------------------------------------------------------------------------------------+--------+\n",
      "| (4) The acute rehabilitation of a 21-year-old woman with systemic lupus erythematosus and a history of 14 laparotomies due to severe acute pancrea...|     neg|\n",
      "|                     A 16-year-old girl with erosive, polyarticular JRA showed no detectable change in her articular disease following nine exchanges.|     neg|\n",
      "|                                      A 42-year-old woman had uneventful bilateral laser-assisted subepithelial keratectomy (LASEK) to correct myopia.|     neg|\n",
      "| A 52-year-old woman was seen in our outpatient clinic for pain and numbness in the left lower lip and chin, which developed following an endodonti...|     neg|\n",
      "|                                                                   A diagnosis of lead poisoning was made and a course of chelating treatment started.|     neg|\n",
      "| A diffuse intrahepatic metastasis of a carcinoid was treated with a loco-regional intraarterial chemotherapy via a catheter system implanted in th...|     neg|\n",
      "| A search of the literature yielded 15 instances of severe antithyroid-drug-induced granulocytopenia (ATDIA) (granulocyte count of less than 0.1 x ...|     neg|\n",
      "|                                             A thorough hematologic examination revealed von Willebrand's disease, which the patient was not aware of.|     neg|\n",
      "|                                                               About 44% of the patients had gastric adenocarcinoma, and 82% had received mitomycin C.|     neg|\n",
      "|                                                  Acutely, SMS decreased acid secretion and restored the BAO/MAO to normal in eight of eight patients.|     neg|\n",
      "| Additionally, their Global Assessment Scale (GAS) score increased significantly from a mean of 30.8 +/- 4.7 to a mean of 43.1 +/- 8.6 (t = 5.19, d...|     neg|\n",
      "|      After six weeks of therapy, clinical symptoms had greatly improved and intercellular antibody levels had decreased from a titer of 5,120 to 160.|     neg|\n",
      "|                                                After treatment with steroids there was gradual clinical improvement and disappearance of infiltrates.|     neg|\n",
      "| Air conditioning and proper ventilation of the operating room, the use of coolant sprays, good suction and proper handling of amalgam waste is rec...|     neg|\n",
      "|                                                                                                All patients improved and 6 are in complete remission.|     neg|\n",
      "|           All patients presented with sudden, very marked decrease in vision, with little or no pain, tenderness, conjunctival redness, or discharge.|     neg|\n",
      "| Although chronic arterial hypertension is the leading cause of intracranial hemorrhage, an abrupt rise in systemic arterial pressure in normotensi...|     neg|\n",
      "|                                  Although the drug is generally considered safe, there are reports of side effects including psychosis and hepatitis.|     neg|\n",
      "| Although there are reports in the literature of a combined occlusion of the central retinal artery and vein, its occurrence following pars plana v...|     neg|\n",
      "| Although treatment for this syndrome remains controversial and relies heavily on anecdotal evidence, the progression of hepatic injury may be prev...|     neg|\n",
      "+------------------------------------------------------------------------------------------------------------------------------------------------------+--------+\n",
      "only showing top 20 rows\n"
     ]
    }
   ],
   "source": [
    "trainingData.show(truncate=150)"
   ]
  },
  {
   "cell_type": "code",
   "execution_count": 42,
   "metadata": {
    "colab": {
     "base_uri": "https://localhost:8080/"
    },
    "executionInfo": {
     "elapsed": 867,
     "status": "ok",
     "timestamp": 1689689572362,
     "user": {
      "displayName": "Ahmet Mesut BİROL",
      "userId": "04340760882990254267"
     },
     "user_tz": -180
    },
    "id": "c3nAmtMmcu_q",
    "outputId": "ab90bc8e-0b01-4479-92ca-05b0a3c408c4",
    "tags": []
   },
   "outputs": [
    {
     "name": "stdout",
     "output_type": "stream",
     "text": [
      "+--------+-----+\n",
      "|category|count|\n",
      "+--------+-----+\n",
      "|     neg| 4925|\n",
      "|     pos| 2048|\n",
      "+--------+-----+\n"
     ]
    }
   ],
   "source": [
    "spark_df.groupBy(\"category\").count().show()"
   ]
  },
  {
   "cell_type": "code",
   "execution_count": 43,
   "metadata": {
    "colab": {
     "base_uri": "https://localhost:8080/"
    },
    "executionInfo": {
     "elapsed": 12,
     "status": "ok",
     "timestamp": 1689689572363,
     "user": {
      "displayName": "Ahmet Mesut BİROL",
      "userId": "04340760882990254267"
     },
     "user_tz": -180
    },
    "id": "UXGiAxzX_RJd",
    "outputId": "a8641122-01eb-4f8d-e0a6-5c6e5ea85914",
    "tags": []
   },
   "outputs": [
    {
     "name": "stdout",
     "output_type": "stream",
     "text": [
      "root\n",
      " |-- text: string (nullable = true)\n",
      " |-- category: string (nullable = true)\n"
     ]
    }
   ],
   "source": [
    "spark_df.printSchema()"
   ]
  },
  {
   "cell_type": "code",
   "execution_count": 45,
   "metadata": {
    "colab": {
     "base_uri": "https://localhost:8080/"
    },
    "executionInfo": {
     "elapsed": 464,
     "status": "ok",
     "timestamp": 1689689572820,
     "user": {
      "displayName": "Ahmet Mesut BİROL",
      "userId": "04340760882990254267"
     },
     "user_tz": -180
    },
    "id": "fnTr4Bs_seoA",
    "outputId": "8ff07e5b-e301-4ed2-d83f-9b38d8cc73b0",
    "tags": []
   },
   "outputs": [
    {
     "name": "stdout",
     "output_type": "stream",
     "text": [
      "Row(text=' Clioquinol intoxication occurring in the treatment of acrodermatitis enteropathica with reference to SMON outside of Japan.', category='neg')\n",
      "Row(text=' A 42-year-old woman had uneventful bilateral laser-assisted subepithelial keratectomy (LASEK) to correct myopia.', category='neg')\n",
      "Row(text=' A 16-year-old girl with erosive, polyarticular JRA showed no detectable change in her articular disease following nine exchanges.', category='neg')\n"
     ]
    }
   ],
   "source": [
    "print(*spark_df.head(3),sep=\"\\n\")"
   ]
  },
  {
   "cell_type": "markdown",
   "metadata": {
    "id": "BCAJFO4YDbcj"
   },
   "source": [
    "## 100 Dimension Healthcare Embeddings (embeddings_healthcare_100d)\n",
    "\n"
   ]
  },
  {
   "cell_type": "markdown",
   "metadata": {
    "id": "oDySIR35ECjy"
   },
   "source": [
    "Now we will extract [healthcare_100d embeddings](https://nlp.johnsnowlabs.com/2020/05/29/embeddings_healthcare_100d_en.html) and use it in the classificaiton model training."
   ]
  },
  {
   "cell_type": "code",
   "execution_count": 48,
   "metadata": {
    "colab": {
     "base_uri": "https://localhost:8080/"
    },
    "executionInfo": {
     "elapsed": 19489,
     "status": "ok",
     "timestamp": 1689689592286,
     "user": {
      "displayName": "Ahmet Mesut BİROL",
      "userId": "04340760882990254267"
     },
     "user_tz": -180
    },
    "id": "oxFX8bVEDbcj",
    "outputId": "a902e1e5-3ec9-45c6-c302-c49b7d636250",
    "tags": []
   },
   "outputs": [
    {
     "name": "stdout",
     "output_type": "stream",
     "text": [
      "embeddings_healthcare_100d download started this may take some time.\n",
      "Approximate size to download 475.8 MB\n",
      "[OK!]\n"
     ]
    }
   ],
   "source": [
    "document_assembler = DocumentAssembler()\\\n",
    "        .setInputCol(\"text\")\\\n",
    "        .setOutputCol(\"document\")\n",
    "\n",
    "tokenizer = Tokenizer() \\\n",
    "            .setInputCols([\"document\"]) \\\n",
    "            .setOutputCol(\"token\")\n",
    "\n",
    "word_embeddings = WordEmbeddingsModel.pretrained(\"embeddings_healthcare_100d\",\"en\",\"clinical/models\")\\\n",
    "        .setInputCols([\"document\",\"token\"])\\\n",
    "        .setOutputCol(\"word_embeddings\")\\\n",
    "        .setEnableInMemoryStorage(True)\n",
    "\n",
    "sentence_embeddings = SentenceEmbeddings() \\\n",
    "        .setInputCols([\"document\", \"word_embeddings\"]) \\\n",
    "        .setOutputCol(\"sentence_embeddings\") \\\n",
    "        .setPoolingStrategy(\"AVERAGE\")\n",
    "\n",
    "embeddings_pipeline = Pipeline(\n",
    "    stages = [\n",
    "        document_assembler,\n",
    "        tokenizer,\n",
    "        word_embeddings,\n",
    "        sentence_embeddings,\n",
    "\n",
    "    ])"
   ]
  },
  {
   "cell_type": "code",
   "execution_count": 49,
   "metadata": {
    "colab": {
     "base_uri": "https://localhost:8080/"
    },
    "executionInfo": {
     "elapsed": 1383,
     "status": "ok",
     "timestamp": 1689689593633,
     "user": {
      "displayName": "Ahmet Mesut BİROL",
      "userId": "04340760882990254267"
     },
     "user_tz": -180
    },
    "id": "ihBi5IicDbcj",
    "outputId": "2e433106-8839-4431-a340-54eed3f31656",
    "tags": []
   },
   "outputs": [
    {
     "name": "stdout",
     "output_type": "stream",
     "text": [
      "+------------------------------------------------------------+--------+------------------------------------------------------------+\n",
      "|                                                        text|category|                                         sentence_embeddings|\n",
      "+------------------------------------------------------------+--------+------------------------------------------------------------+\n",
      "| (4) The acute rehabilitation of a 21-year-old woman with...|     neg|[{sentence_embeddings, 0, 182,  (4) The acute rehabilitat...|\n",
      "| A 16-year-old girl with erosive, polyarticular JRA showe...|     neg|[{sentence_embeddings, 0, 129,  A 16-year-old girl with e...|\n",
      "+------------------------------------------------------------+--------+------------------------------------------------------------+\n",
      "only showing top 2 rows\n"
     ]
    }
   ],
   "source": [
    "trainingData_with_embeddings = embeddings_pipeline.fit(trainingData).transform(trainingData)\n",
    "trainingData_with_embeddings = trainingData_with_embeddings.select(\"text\",\"category\",\"sentence_embeddings\")\n",
    "trainingData_with_embeddings.show(2,truncate=60)"
   ]
  },
  {
   "cell_type": "code",
   "execution_count": 50,
   "metadata": {
    "colab": {
     "base_uri": "https://localhost:8080/"
    },
    "executionInfo": {
     "elapsed": 445,
     "status": "ok",
     "timestamp": 1689689594076,
     "user": {
      "displayName": "Ahmet Mesut BİROL",
      "userId": "04340760882990254267"
     },
     "user_tz": -180
    },
    "id": "yGWfNABSDbck",
    "outputId": "784e14ee-8118-476b-8782-d9f47d7df951",
    "tags": []
   },
   "outputs": [
    {
     "name": "stdout",
     "output_type": "stream",
     "text": [
      "+------------------------------------------------------------+--------+------------------------------------------------------------+\n",
      "|                                                        text|category|                                         sentence_embeddings|\n",
      "+------------------------------------------------------------+--------+------------------------------------------------------------+\n",
      "| A 51-year-old-woman presented with chronic eosinophilia,...|     neg|[{sentence_embeddings, 0, 139,  A 51-year-old-woman prese...|\n",
      "| Acute pleuropericarditis relevant to post-cardiac injury...|     neg|[{sentence_embeddings, 0, 160,  Acute pleuropericarditis ...|\n",
      "+------------------------------------------------------------+--------+------------------------------------------------------------+\n",
      "only showing top 2 rows\n"
     ]
    }
   ],
   "source": [
    "testData_with_embeddings = embeddings_pipeline.fit(testData).transform(testData)\n",
    "testData_with_embeddings = testData_with_embeddings.select(\"text\",\"category\",\"sentence_embeddings\")\n",
    "testData_with_embeddings.show(2,truncate=60)"
   ]
  },
  {
   "cell_type": "code",
   "execution_count": 51,
   "metadata": {
    "colab": {
     "base_uri": "https://localhost:8080/"
    },
    "executionInfo": {
     "elapsed": 7,
     "status": "ok",
     "timestamp": 1689689594076,
     "user": {
      "displayName": "Ahmet Mesut BİROL",
      "userId": "04340760882990254267"
     },
     "user_tz": -180
    },
    "id": "jC4RxfRuqrj1",
    "outputId": "c55ba089-02f1-4812-8310-148cf3636d40",
    "tags": []
   },
   "outputs": [
    {
     "name": "stdout",
     "output_type": "stream",
     "text": [
      "root\n",
      " |-- text: string (nullable = true)\n",
      " |-- category: string (nullable = true)\n",
      " |-- sentence_embeddings: array (nullable = true)\n",
      " |    |-- element: struct (containsNull = true)\n",
      " |    |    |-- annotatorType: string (nullable = true)\n",
      " |    |    |-- begin: integer (nullable = false)\n",
      " |    |    |-- end: integer (nullable = false)\n",
      " |    |    |-- result: string (nullable = true)\n",
      " |    |    |-- metadata: map (nullable = true)\n",
      " |    |    |    |-- key: string\n",
      " |    |    |    |-- value: string (valueContainsNull = true)\n",
      " |    |    |-- embeddings: array (nullable = true)\n",
      " |    |    |    |-- element: float (containsNull = false)\n"
     ]
    }
   ],
   "source": [
    "testData_with_embeddings.printSchema()"
   ]
  },
  {
   "cell_type": "code",
   "execution_count": 52,
   "metadata": {
    "colab": {
     "base_uri": "https://localhost:8080/"
    },
    "executionInfo": {
     "elapsed": 300,
     "status": "ok",
     "timestamp": 1689689594373,
     "user": {
      "displayName": "Ahmet Mesut BİROL",
      "userId": "04340760882990254267"
     },
     "user_tz": -180
    },
    "id": "YfN3PwLxqS4r",
    "outputId": "4323e970-010e-4c4e-b24e-1a57ada97352",
    "tags": []
   },
   "outputs": [
    {
     "name": "stdout",
     "output_type": "stream",
     "text": [
      "+------------------------------------------------------------------------------------------------------------------------+\n",
      "|                                                                                          sentence_embeddings.embeddings|\n",
      "+------------------------------------------------------------------------------------------------------------------------+\n",
      "|[[0.04241796, 0.10478715, 0.042885326, 0.06311753, -0.3185922, 0.046458624, 0.17697075, -0.037831675, -0.01754189, -0...|\n",
      "|[[0.04836051, 0.049601894, 0.1227261, 0.17059518, -0.13150947, 0.047678694, 0.0756628, -0.099522725, -0.053882137, 0....|\n",
      "|[[0.062389806, 0.006274023, 0.14969598, 0.17336255, -0.11308395, -0.16727598, -0.012615087, -0.05483416, 0.10766564, ...|\n",
      "+------------------------------------------------------------------------------------------------------------------------+\n",
      "only showing top 3 rows\n"
     ]
    }
   ],
   "source": [
    "testData_with_embeddings.select(testData_with_embeddings.sentence_embeddings.embeddings).show(3,truncate=120)"
   ]
  },
  {
   "cell_type": "markdown",
   "metadata": {
    "id": "Q9MywCqKDbck"
   },
   "source": [
    "### ClassifierDL"
   ]
  },
  {
   "cell_type": "code",
   "execution_count": 67,
   "metadata": {
    "id": "EhvRGlkmDbck",
    "tags": []
   },
   "outputs": [
    {
     "name": "stdout",
     "output_type": "stream",
     "text": [
      "\n"
     ]
    }
   ],
   "source": [
    "# log_folder = \"s3://<bucket>/logs\"  #alternative\n",
    "log_folder = \"training_logs\"\n",
    "\n",
    "classifier_dl = ClassifierDLApproach()\\\n",
    "        .setInputCols([\"sentence_embeddings\"])\\\n",
    "        .setOutputCol(\"prediction\")\\\n",
    "        .setLabelColumn(\"category\")\\\n",
    "        .setBatchSize(16)\\\n",
    "        .setMaxEpochs(30)\\\n",
    "        .setLr(0.002)\\\n",
    "        .setDropout(0.3)\\\n",
    "        .setEnableOutputLogs(True)\\\n",
    "        .setOutputLogsPath(log_folder)\\\n",
    "        # .setValidationSplit(0.1)\n",
    "\n",
    "classifier_dl_pipeline = Pipeline(\n",
    "    stages = [\n",
    "        classifier_dl\n",
    "    ])"
   ]
  },
  {
   "cell_type": "code",
   "execution_count": 68,
   "metadata": {
    "id": "lM7Dpdx7Dbck",
    "tags": []
   },
   "outputs": [
    {
     "name": "stdout",
     "output_type": "stream",
     "text": [
      "\n"
     ]
    }
   ],
   "source": [
    "clfDL_model_hc100 = classifier_dl_pipeline.fit(trainingData_with_embeddings)"
   ]
  },
  {
   "cell_type": "code",
   "execution_count": 69,
   "metadata": {
    "tags": []
   },
   "outputs": [
    {
     "name": "stdout",
     "output_type": "stream",
     "text": [
      "['ClassifierDLApproach_60c5d3e0075e.log']\n"
     ]
    }
   ],
   "source": [
    "import os\n",
    "\n",
    "log_files = os.listdir(\"./training_logs\")\n",
    "log_files"
   ]
  },
  {
   "cell_type": "code",
   "execution_count": 70,
   "metadata": {
    "tags": []
   },
   "outputs": [
    {
     "name": "stdout",
     "output_type": "stream",
     "text": [
      "Training started - epochs: 30 - learning_rate: 0.002 - batch_size: 16 - training_examples: 5555 - classes: 2\n",
      "Epoch 0/30 - 1.40s - loss: 219.73549 - acc: 0.7053314 - batches: 348\n",
      "Epoch 1/30 - 0.99s - loss: 219.0154 - acc: 0.70587176 - batches: 348\n",
      "Epoch 2/30 - 0.96s - loss: 219.01538 - acc: 0.70587176 - batches: 348\n",
      "Epoch 3/30 - 0.95s - loss: 219.01535 - acc: 0.70587176 - batches: 348\n",
      "Epoch 4/30 - 0.95s - loss: 219.0152 - acc: 0.70587176 - batches: 348\n",
      "Epoch 5/30 - 0.95s - loss: 219.01318 - acc: 0.70587176 - batches: 348\n",
      "Epoch 6/30 - 0.95s - loss: 203.4235 - acc: 0.7276057 - batches: 348\n",
      "Epoch 7/30 - 0.96s - loss: 194.0996 - acc: 0.7724543 - batches: 348\n",
      "Epoch 8/30 - 0.96s - loss: 190.8414 - acc: 0.7908261 - batches: 348\n",
      "Epoch 9/30 - 0.96s - loss: 188.35474 - acc: 0.8023535 - batches: 348\n",
      "Epoch 10/30 - 0.96s - loss: 186.46432 - acc: 0.814061 - batches: 348\n",
      "Epoch 11/30 - 0.96s - loss: 184.78256 - acc: 0.8191042 - batches: 348\n",
      "Epoch 12/30 - 0.96s - loss: 183.21059 - acc: 0.8252281 - batches: 348\n",
      "Epoch 13/30 - 0.96s - loss: 181.79001 - acc: 0.8275696 - batches: 348\n",
      "Epoch 14/30 - 0.98s - loss: 180.51643 - acc: 0.8299111 - batches: 348\n",
      "Epoch 15/30 - 0.99s - loss: 179.31908 - acc: 0.83297306 - batches: 348\n",
      "Epoch 16/30 - 1.00s - loss: 178.27057 - acc: 0.83477426 - batches: 348\n",
      "Epoch 17/30 - 0.98s - loss: 177.31317 - acc: 0.8381964 - batches: 348\n",
      "Epoch 18/30 - 0.96s - loss: 176.35585 - acc: 0.8416186 - batches: 348\n",
      "Epoch 19/30 - 1.01s - loss: 175.41652 - acc: 0.8439601 - batches: 348\n",
      "Epoch 20/30 - 0.96s - loss: 174.53517 - acc: 0.8466618 - batches: 348\n",
      "Epoch 21/30 - 0.95s - loss: 173.69072 - acc: 0.84870315 - batches: 348\n",
      "Epoch 22/30 - 0.96s - loss: 172.87608 - acc: 0.8503242 - batches: 348\n",
      "Epoch 23/30 - 0.96s - loss: 172.09154 - acc: 0.85176516 - batches: 348\n",
      "Epoch 24/30 - 0.96s - loss: 171.34021 - acc: 0.8535663 - batches: 348\n",
      "Epoch 25/30 - 0.95s - loss: 170.62808 - acc: 0.85428673 - batches: 348\n",
      "Epoch 26/30 - 0.95s - loss: 169.93806 - acc: 0.8559078 - batches: 348\n",
      "Epoch 27/30 - 0.95s - loss: 169.25652 - acc: 0.85662824 - batches: 348\n",
      "Epoch 28/30 - 0.98s - loss: 168.59807 - acc: 0.8573487 - batches: 348\n",
      "Epoch 29/30 - 0.96s - loss: 167.94206 - acc: 0.85896975 - batches: 348\n"
     ]
    }
   ],
   "source": [
    "with open(\"./training_logs/\"+log_files[0]) as log_file:  #choose the index number of .log file starting with ClassifierDLApproach\n",
    "    print(log_file.read())"
   ]
  },
  {
   "cell_type": "code",
   "execution_count": 64,
   "metadata": {
    "id": "w7Wzu_40qH6T",
    "tags": []
   },
   "outputs": [
    {
     "name": "stdout",
     "output_type": "stream",
     "text": [
      "\n"
     ]
    }
   ],
   "source": [
    "preds = clfDL_model_hc100.transform(testData_with_embeddings)"
   ]
  },
  {
   "cell_type": "code",
   "execution_count": 65,
   "metadata": {
    "colab": {
     "base_uri": "https://localhost:8080/"
    },
    "executionInfo": {
     "elapsed": 3871,
     "status": "ok",
     "timestamp": 1689689650896,
     "user": {
      "displayName": "Ahmet Mesut BİROL",
      "userId": "04340760882990254267"
     },
     "user_tz": -180
    },
    "id": "oeqPLNbZvuJQ",
    "outputId": "b7805413-5682-4922-d4b5-698740102896",
    "tags": []
   },
   "outputs": [
    {
     "name": "stdout",
     "output_type": "stream",
     "text": [
      "root\n",
      " |-- text: string (nullable = true)\n",
      " |-- category: string (nullable = true)\n",
      " |-- sentence_embeddings: array (nullable = true)\n",
      " |    |-- element: struct (containsNull = true)\n",
      " |    |    |-- annotatorType: string (nullable = true)\n",
      " |    |    |-- begin: integer (nullable = false)\n",
      " |    |    |-- end: integer (nullable = false)\n",
      " |    |    |-- result: string (nullable = true)\n",
      " |    |    |-- metadata: map (nullable = true)\n",
      " |    |    |    |-- key: string\n",
      " |    |    |    |-- value: string (valueContainsNull = true)\n",
      " |    |    |-- embeddings: array (nullable = true)\n",
      " |    |    |    |-- element: float (containsNull = false)\n",
      " |-- prediction: array (nullable = true)\n",
      " |    |-- element: struct (containsNull = true)\n",
      " |    |    |-- annotatorType: string (nullable = true)\n",
      " |    |    |-- begin: integer (nullable = false)\n",
      " |    |    |-- end: integer (nullable = false)\n",
      " |    |    |-- result: string (nullable = true)\n",
      " |    |    |-- metadata: map (nullable = true)\n",
      " |    |    |    |-- key: string\n",
      " |    |    |    |-- value: string (valueContainsNull = true)\n",
      " |    |    |-- embeddings: array (nullable = true)\n",
      " |    |    |    |-- element: float (containsNull = false)\n",
      "\n",
      "+--------------------------------------------------------------------------------------+\n",
      "|prediction                                                                            |\n",
      "+--------------------------------------------------------------------------------------+\n",
      "|[{category, 0, 139, neg, {sentence -> 0, neg -> 0.99947006, pos -> 5.30015E-4}, []}]  |\n",
      "|[{category, 0, 160, neg, {sentence -> 0, neg -> 0.687345, pos -> 0.312655}, []}]      |\n",
      "|[{category, 0, 139, neg, {sentence -> 0, neg -> 0.99990416, pos -> 9.585512E-5}, []}] |\n",
      "|[{category, 0, 87, neg, {sentence -> 0, neg -> 0.99995387, pos -> 4.61674E-5}, []}]   |\n",
      "|[{category, 0, 137, neg, {sentence -> 0, neg -> 0.99998426, pos -> 1.5744528E-5}, []}]|\n",
      "+--------------------------------------------------------------------------------------+\n",
      "only showing top 5 rows\n",
      "\n",
      "+--------+-----------------+\n",
      "|category|prediction.result|\n",
      "+--------+-----------------+\n",
      "|neg     |[neg]            |\n",
      "|neg     |[neg]            |\n",
      "|neg     |[neg]            |\n",
      "|neg     |[neg]            |\n",
      "|neg     |[neg]            |\n",
      "+--------+-----------------+\n",
      "only showing top 5 rows\n"
     ]
    }
   ],
   "source": [
    "preds.printSchema()\n",
    "preds.select(preds.prediction).show(5, truncate=False)\n",
    "preds.select(preds.category, preds.prediction.result).show(5, truncate=False)"
   ]
  },
  {
   "cell_type": "code",
   "execution_count": 66,
   "metadata": {
    "colab": {
     "base_uri": "https://localhost:8080/"
    },
    "executionInfo": {
     "elapsed": 460,
     "status": "ok",
     "timestamp": 1689689651353,
     "user": {
      "displayName": "Ahmet Mesut BİROL",
      "userId": "04340760882990254267"
     },
     "user_tz": -180
    },
    "id": "l0yEqGcJDbck",
    "outputId": "d228b500-9c61-4014-e68e-66617176bb28",
    "tags": []
   },
   "outputs": [
    {
     "name": "stdout",
     "output_type": "stream",
     "text": [
      "              precision    recall  f1-score   support\n",
      "\n",
      "         neg       0.87      0.92      0.89      1019\n",
      "         pos       0.76      0.63      0.69       399\n",
      "\n",
      "    accuracy                           0.84      1418\n",
      "   macro avg       0.82      0.78      0.79      1418\n",
      "weighted avg       0.84      0.84      0.84      1418\n"
     ]
    }
   ],
   "source": [
    "preds_df = preds.select(\"category\",\"text\",\"prediction.result\").toPandas()\n",
    "preds_df[\"result\"] = preds_df[\"result\"].apply(lambda x : x[0])\n",
    "\n",
    "print (classification_report(preds_df[\"category\"], preds_df[\"result\"]))"
   ]
  },
  {
   "cell_type": "code",
   "execution_count": 71,
   "metadata": {
    "colab": {
     "base_uri": "https://localhost:8080/",
     "height": 81
    },
    "executionInfo": {
     "elapsed": 8,
     "status": "ok",
     "timestamp": 1689689651354,
     "user": {
      "displayName": "Ahmet Mesut BİROL",
      "userId": "04340760882990254267"
     },
     "user_tz": -180
    },
    "id": "TRBwhI8LWiWV",
    "outputId": "599677f7-02c9-4cd0-fc45-5a73f523e2cc",
    "tags": []
   },
   "outputs": [
    {
     "name": "stdout",
     "output_type": "stream",
     "text": [
      "                   pos-f1-score  accuracy\n",
      "ClassifierDL_100d      0.693151  0.842031\n"
     ]
    }
   ],
   "source": [
    "res = classification_report(preds_df[\"category\"], preds_df[\"result\"], output_dict=True)\n",
    "results_df = pd.DataFrame(columns=[\"pos-f1-score\",\"accuracy\"])\n",
    "results_df.loc[\"ClassifierDL_100d\"] = [res[\"pos\"][\"f1-score\"], res[\"accuracy\"]]\n",
    "results_df"
   ]
  },
  {
   "cell_type": "markdown",
   "metadata": {
    "id": "3NRB48Jd8PBL"
   },
   "source": [
    "### MultiClassifierDL"
   ]
  },
  {
   "cell_type": "markdown",
   "metadata": {
    "id": "fHNzlFhIi1IU"
   },
   "source": [
    "We will use MultiClassifierDL built by using Bidirectional GRU and CNNs inside TensorFlow that supports up to 100 classes. It is designed for multi-label classification purposes. Here we will use MultiClassifierDL as a binary classifier."
   ]
  },
  {
   "cell_type": "code",
   "execution_count": 73,
   "metadata": {
    "id": "H7BFPBvBkRXm",
    "tags": []
   },
   "outputs": [
    {
     "name": "stdout",
     "output_type": "stream",
     "text": [
      "\n"
     ]
    }
   ],
   "source": [
    "# MultiClassifierDL accepts list of strings as input label. So we convert label column to array type.\n",
    "trainingData_with_embeddings = trainingData_with_embeddings.withColumn(\"category_array\", F.array(F.col(\"category\")))\n",
    "testData_with_embeddings = testData_with_embeddings.withColumn(\"category_array\", F.array(F.col(\"category\")))"
   ]
  },
  {
   "cell_type": "code",
   "execution_count": 74,
   "metadata": {
    "id": "qfayOhW1QGuZ",
    "tags": []
   },
   "outputs": [
    {
     "name": "stdout",
     "output_type": "stream",
     "text": [
      "\n"
     ]
    }
   ],
   "source": [
    "multiClassifier = MultiClassifierDLApproach()\\\n",
    "  .setInputCols(\"sentence_embeddings\")\\\n",
    "  .setOutputCol(\"prediction\")\\\n",
    "  .setLabelColumn(\"category_array\")\\\n",
    "  .setBatchSize(16)\\\n",
    "  .setMaxEpochs(15)\\\n",
    "  .setLr(9e-3)\\\n",
    "  .setThreshold(0.5)\\\n",
    "  .setShufflePerEpoch(False)\\\n",
    "  .setEnableOutputLogs(True)\\\n",
    "  .setOutputLogsPath(log_folder)\\\n",
    "#   .setValidationSplit(0.1)\n",
    "\n",
    "multiClassifier_pipeline = Pipeline(\n",
    "    stages = [\n",
    "        multiClassifier\n",
    "    ])"
   ]
  },
  {
   "cell_type": "code",
   "execution_count": 75,
   "metadata": {
    "id": "uis9foJpQ56_",
    "tags": []
   },
   "outputs": [
    {
     "name": "stdout",
     "output_type": "stream",
     "text": [
      "\n"
     ]
    }
   ],
   "source": [
    "multiClassifier_model_hc100 = multiClassifier_pipeline.fit(trainingData_with_embeddings)"
   ]
  },
  {
   "cell_type": "code",
   "execution_count": 92,
   "metadata": {
    "tags": []
   },
   "outputs": [
    {
     "name": "stdout",
     "output_type": "stream",
     "text": [
      "['MultiClassifierDLApproach_8b9eaf62a8c6.log', 'GenericClassifierApproach_39f2a442d476.log', 'ClassifierDLApproach_60c5d3e0075e.log']\n"
     ]
    }
   ],
   "source": [
    "import os\n",
    "\n",
    "log_files = os.listdir(\"./training_logs\")\n",
    "\n",
    "log_files\n"
   ]
  },
  {
   "cell_type": "code",
   "execution_count": 78,
   "metadata": {
    "colab": {
     "base_uri": "https://localhost:8080/"
    },
    "executionInfo": {
     "elapsed": 39,
     "status": "ok",
     "timestamp": 1689689732799,
     "user": {
      "displayName": "Ahmet Mesut BİROL",
      "userId": "04340760882990254267"
     },
     "user_tz": -180
    },
    "id": "oZ4muaEcQ56_",
    "outputId": "d5f7c35d-85cf-4c26-e97b-3e6503185e63",
    "tags": []
   },
   "outputs": [
    {
     "name": "stdout",
     "output_type": "stream",
     "text": [
      "Training started - epochs: 15 - learning_rate: 0.009 - batch_size: 16 - training_examples: 5555 - classes: 2\n",
      "Epoch 0/15 - 6.83s - loss: 0.51635754 - acc: 0.7378722 - batches: 348\n",
      "Epoch 1/15 - 2.25s - loss: 0.46313015 - acc: 0.77389526 - batches: 348\n",
      "Epoch 2/15 - 2.23s - loss: 0.43358976 - acc: 0.7936179 - batches: 348\n",
      "Epoch 3/15 - 2.34s - loss: 0.41109842 - acc: 0.8087476 - batches: 348\n",
      "Epoch 4/15 - 2.27s - loss: 0.39240965 - acc: 0.81658256 - batches: 348\n",
      "Epoch 5/15 - 2.27s - loss: 0.3747588 - acc: 0.82765967 - batches: 348\n",
      "Epoch 6/15 - 2.25s - loss: 0.36140448 - acc: 0.83639526 - batches: 348\n",
      "Epoch 7/15 - 2.27s - loss: 0.34561557 - acc: 0.84915346 - batches: 348\n",
      "Epoch 8/15 - 2.27s - loss: 0.32962668 - acc: 0.8586095 - batches: 348\n",
      "Epoch 9/15 - 2.28s - loss: 0.3143761 - acc: 0.8646434 - batches: 348\n",
      "Epoch 10/15 - 2.27s - loss: 0.2980835 - acc: 0.8698667 - batches: 348\n",
      "Epoch 11/15 - 2.27s - loss: 0.28039435 - acc: 0.87463975 - batches: 348\n",
      "Epoch 12/15 - 2.26s - loss: 0.26532406 - acc: 0.88382566 - batches: 348\n",
      "Epoch 13/15 - 2.26s - loss: 0.24982217 - acc: 0.88994956 - batches: 348\n",
      "Epoch 14/15 - 2.27s - loss: 0.23109472 - acc: 0.9011167 - batches: 348\n"
     ]
    }
   ],
   "source": [
    "with open(\"./training_logs/\"+log_files[0]) as log_file:  #choose the index number .log file starting with MultiClassifierDLApproach\n",
    "    print(log_file.read())"
   ]
  },
  {
   "cell_type": "code",
   "execution_count": 79,
   "metadata": {
    "id": "aU71yDTEQ57A",
    "tags": []
   },
   "outputs": [
    {
     "name": "stdout",
     "output_type": "stream",
     "text": [
      "\n"
     ]
    }
   ],
   "source": [
    "preds = multiClassifier_model_hc100.transform(testData_with_embeddings)"
   ]
  },
  {
   "cell_type": "code",
   "execution_count": 80,
   "metadata": {
    "colab": {
     "base_uri": "https://localhost:8080/"
    },
    "executionInfo": {
     "elapsed": 18188,
     "status": "ok",
     "timestamp": 1689689750983,
     "user": {
      "displayName": "Ahmet Mesut BİROL",
      "userId": "04340760882990254267"
     },
     "user_tz": -180
    },
    "id": "sMqK2PTaQ57A",
    "outputId": "ebb54946-0264-4504-9e5c-546d0b161437",
    "tags": []
   },
   "outputs": [
    {
     "name": "stdout",
     "output_type": "stream",
     "text": [
      "root\n",
      " |-- text: string (nullable = true)\n",
      " |-- category: string (nullable = true)\n",
      " |-- sentence_embeddings: array (nullable = true)\n",
      " |    |-- element: struct (containsNull = true)\n",
      " |    |    |-- annotatorType: string (nullable = true)\n",
      " |    |    |-- begin: integer (nullable = false)\n",
      " |    |    |-- end: integer (nullable = false)\n",
      " |    |    |-- result: string (nullable = true)\n",
      " |    |    |-- metadata: map (nullable = true)\n",
      " |    |    |    |-- key: string\n",
      " |    |    |    |-- value: string (valueContainsNull = true)\n",
      " |    |    |-- embeddings: array (nullable = true)\n",
      " |    |    |    |-- element: float (containsNull = false)\n",
      " |-- category_array: array (nullable = false)\n",
      " |    |-- element: string (containsNull = true)\n",
      " |-- prediction: array (nullable = true)\n",
      " |    |-- element: struct (containsNull = true)\n",
      " |    |    |-- annotatorType: string (nullable = true)\n",
      " |    |    |-- begin: integer (nullable = false)\n",
      " |    |    |-- end: integer (nullable = false)\n",
      " |    |    |-- result: string (nullable = true)\n",
      " |    |    |-- metadata: map (nullable = true)\n",
      " |    |    |    |-- key: string\n",
      " |    |    |    |-- value: string (valueContainsNull = true)\n",
      " |    |    |-- embeddings: array (nullable = true)\n",
      " |    |    |    |-- element: float (containsNull = false)\n",
      "\n",
      "+-------------------------------------------------------------------------------------+\n",
      "|prediction                                                                           |\n",
      "+-------------------------------------------------------------------------------------+\n",
      "|[{category, 0, 139, neg, {sentence -> 0, neg -> 0.9987855, pos -> 0.0012048185}, []}]|\n",
      "|[{category, 0, 160, neg, {sentence -> 0, neg -> 0.74056894, pos -> 0.25923806}, []}] |\n",
      "|[{category, 0, 139, neg, {sentence -> 0, neg -> 0.9922085, pos -> 0.0076831877}, []}]|\n",
      "|[{category, 0, 87, neg, {sentence -> 0, neg -> 0.85787153, pos -> 0.14283118}, []}]  |\n",
      "|[{category, 0, 137, neg, {sentence -> 0, neg -> 0.9313443, pos -> 0.06896877}, []}]  |\n",
      "+-------------------------------------------------------------------------------------+\n",
      "only showing top 5 rows\n",
      "\n",
      "+--------------+-----------------+\n",
      "|category_array|prediction.result|\n",
      "+--------------+-----------------+\n",
      "|[neg]         |[neg]            |\n",
      "|[neg]         |[neg]            |\n",
      "|[neg]         |[neg]            |\n",
      "|[neg]         |[neg]            |\n",
      "|[neg]         |[neg]            |\n",
      "+--------------+-----------------+\n",
      "only showing top 5 rows\n"
     ]
    }
   ],
   "source": [
    "preds.printSchema()\n",
    "preds.select(preds.prediction).show(5, truncate=False)\n",
    "preds.select(preds.category_array, preds.prediction.result).show(5, truncate=False)"
   ]
  },
  {
   "cell_type": "code",
   "execution_count": 81,
   "metadata": {
    "colab": {
     "base_uri": "https://localhost:8080/"
    },
    "executionInfo": {
     "elapsed": 838,
     "status": "ok",
     "timestamp": 1689689751818,
     "user": {
      "displayName": "Ahmet Mesut BİROL",
      "userId": "04340760882990254267"
     },
     "user_tz": -180
    },
    "id": "fdYjuIgznI9H",
    "outputId": "49efe3a4-ce1e-47e6-e0fe-900066ed32aa",
    "tags": []
   },
   "outputs": [
    {
     "name": "stdout",
     "output_type": "stream",
     "text": [
      "['neg']    1003\n",
      "['pos']     415\n",
      "Name: result, dtype: int64\n"
     ]
    }
   ],
   "source": [
    "preds_df = preds.select(\"category\",\"text\",\"prediction.result\",\"prediction.metadata\").toPandas()\n",
    "preds_df.result.apply(lambda x: str(x) ).value_counts()"
   ]
  },
  {
   "cell_type": "code",
   "execution_count": 82,
   "metadata": {
    "colab": {
     "base_uri": "https://localhost:8080/",
     "height": 49
    },
    "executionInfo": {
     "elapsed": 20,
     "status": "ok",
     "timestamp": 1689689751819,
     "user": {
      "displayName": "Ahmet Mesut BİROL",
      "userId": "04340760882990254267"
     },
     "user_tz": -180
    },
    "id": "s52SZO6k2nu7",
    "outputId": "1be562e4-9d23-44bc-f8fd-f053cefb3cfb",
    "tags": []
   },
   "outputs": [
    {
     "name": "stdout",
     "output_type": "stream",
     "text": [
      "Empty DataFrame\n",
      "Columns: [category, text, result, metadata]\n",
      "Index: []\n"
     ]
    }
   ],
   "source": [
    "preds_df[preds_df.result.apply(len)==2]"
   ]
  },
  {
   "cell_type": "code",
   "execution_count": 83,
   "metadata": {
    "colab": {
     "base_uri": "https://localhost:8080/",
     "height": 49
    },
    "executionInfo": {
     "elapsed": 18,
     "status": "ok",
     "timestamp": 1689689751820,
     "user": {
      "displayName": "Ahmet Mesut BİROL",
      "userId": "04340760882990254267"
     },
     "user_tz": -180
    },
    "id": "F64-vahk3MQn",
    "outputId": "68c4c117-8601-44c1-8411-97585ce6ecab",
    "tags": []
   },
   "outputs": [
    {
     "name": "stdout",
     "output_type": "stream",
     "text": [
      "Empty DataFrame\n",
      "Columns: [category, text, result, metadata]\n",
      "Index: []\n"
     ]
    }
   ],
   "source": [
    "preds_df[preds_df.result.apply(len)==0]"
   ]
  },
  {
   "cell_type": "markdown",
   "metadata": {
    "id": "yPS9qyw-nYJN"
   },
   "source": [
    "MultiClassifierDL is a multi-label classifier, so some predictions may include both labels or none of the labels. That can be controlled a bit with `.setThreshold()` parameter during training. For now we will keep not keep zero label predictions and get the highest score as prediction."
   ]
  },
  {
   "cell_type": "code",
   "execution_count": 84,
   "metadata": {
    "colab": {
     "base_uri": "https://localhost:8080/"
    },
    "executionInfo": {
     "elapsed": 17,
     "status": "ok",
     "timestamp": 1689689751820,
     "user": {
      "displayName": "Ahmet Mesut BİROL",
      "userId": "04340760882990254267"
     },
     "user_tz": -180
    },
    "id": "ZG5XKJVd79vg",
    "outputId": "357df006-c578-4fca-9101-933d8013e295",
    "tags": []
   },
   "outputs": [
    {
     "name": "stdout",
     "output_type": "stream",
     "text": [
      "neg    1003\n",
      "pos     415\n",
      "Name: result, dtype: int64\n"
     ]
    }
   ],
   "source": [
    "# We will get the highest score label as result. You can control the number of zero label results with setThreshold() in the training.\n",
    "preds_df[\"scores\"] = preds_df.metadata.apply(lambda x: {k:float(v) for k,v in x[0].items()} if len(x)>=1 else \"\")\n",
    "preds_df[\"result\"] = preds_df.scores.apply(lambda x: max(x, key=x.get) if len(x)>=1 else \"\")\n",
    "preds_df[\"result\"].value_counts()"
   ]
  },
  {
   "cell_type": "code",
   "execution_count": 85,
   "metadata": {
    "colab": {
     "base_uri": "https://localhost:8080/"
    },
    "executionInfo": {
     "elapsed": 458,
     "status": "ok",
     "timestamp": 1689689752267,
     "user": {
      "displayName": "Ahmet Mesut BİROL",
      "userId": "04340760882990254267"
     },
     "user_tz": -180
    },
    "id": "MT8hQSEqQ57A",
    "outputId": "b786e50c-3973-4e05-c004-79829031093f",
    "tags": []
   },
   "outputs": [
    {
     "name": "stdout",
     "output_type": "stream",
     "text": [
      "              precision    recall  f1-score   support\n",
      "\n",
      "         neg       0.86      0.85      0.86      1019\n",
      "         pos       0.63      0.66      0.65       399\n",
      "\n",
      "    accuracy                           0.80      1418\n",
      "   macro avg       0.75      0.75      0.75      1418\n",
      "weighted avg       0.80      0.80      0.80      1418\n"
     ]
    }
   ],
   "source": [
    "res = classification_report(preds_df[\"category\"], preds_df[\"result\"], output_dict=True)\n",
    "results_df.loc[\"MultiClassifierDL_100d\"] = [res[\"pos\"][\"f1-score\"], res[\"accuracy\"]]\n",
    "\n",
    "print (classification_report(preds_df[\"category\"], preds_df[\"result\"]))"
   ]
  },
  {
   "cell_type": "markdown",
   "metadata": {
    "id": "aCf989KwQB3H"
   },
   "source": [
    "### Generic Classifier"
   ]
  },
  {
   "cell_type": "code",
   "execution_count": 88,
   "metadata": {
    "id": "N1Z9so_UQB3I",
    "tags": []
   },
   "outputs": [
    {
     "name": "stdout",
     "output_type": "stream",
     "text": [
      "\n"
     ]
    }
   ],
   "source": [
    "from sparknlp_jsl.annotator import TFGraphBuilder\n",
    "\n",
    "graph_folder = \"gc_graph\"\n",
    "\n",
    "gc_graph_builder = TFGraphBuilder()\\\n",
    "    .setModelName(\"generic_classifier\")\\\n",
    "    .setInputCols([\"features\"])\\\n",
    "    .setLabelColumn(\"category\")\\\n",
    "    .setHiddenLayers([300,200, 50])\\\n",
    "    .setHiddenAct(\"tanh\")\\\n",
    "    .setHiddenActL2(True)\\\n",
    "    .setBatchNorm(True)\\\n",
    "    .setGraphFolder(graph_folder)\\\n",
    "    .setGraphFile(\"gcf_graph_100d.pb\")"
   ]
  },
  {
   "cell_type": "markdown",
   "metadata": {
    "id": "_ADlQFAHch6j"
   },
   "source": [
    "GenericClassifier needs outputs from FeaturesAssembler. The FeaturesAssembler is used to collect features from different columns or an embeddings column.\n",
    "\n",
    "The GenericClassifierApproach takes FEATURE_VECTOR annotations as input, classifies them and outputs CATEGORY annotations."
   ]
  },
  {
   "cell_type": "code",
   "execution_count": 89,
   "metadata": {
    "id": "f7saGLwvQB3I",
    "tags": []
   },
   "outputs": [
    {
     "name": "stdout",
     "output_type": "stream",
     "text": [
      "\n"
     ]
    }
   ],
   "source": [
    "features_asm = FeaturesAssembler()\\\n",
    "    .setInputCols([\"sentence_embeddings\"])\\\n",
    "    .setOutputCol(\"features\")\n",
    "\n",
    "gen_clf = GenericClassifierApproach()\\\n",
    "    .setLabelColumn(\"category\")\\\n",
    "    .setInputCols(\"features\")\\\n",
    "    .setOutputCol(\"prediction\")\\\n",
    "    .setModelFile(f\"{graph_folder}/gcf_graph_100d.pb\")\\\n",
    "    .setEpochsNumber(25)\\\n",
    "    .setBatchSize(128)\\\n",
    "    .setLearningRate(0.004)\\\n",
    "    .setOutputLogsPath(log_folder)\\\n",
    "    .setDropout(0.2)\\\n",
    "    .setFixImbalance(True)\\\n",
    "    # .setValidationSplit(0.1)\n",
    "\n",
    "clf_Pipeline = Pipeline(stages=[\n",
    "    features_asm,\n",
    "    gc_graph_builder,\n",
    "    gen_clf])\n",
    "\n"
   ]
  },
  {
   "cell_type": "code",
   "execution_count": 90,
   "metadata": {
    "colab": {
     "base_uri": "https://localhost:8080/"
    },
    "executionInfo": {
     "elapsed": 11250,
     "status": "ok",
     "timestamp": 1689689763512,
     "user": {
      "displayName": "Ahmet Mesut BİROL",
      "userId": "04340760882990254267"
     },
     "user_tz": -180
    },
    "id": "oSG7cx7yQB3I",
    "outputId": "2b95ed57-db10-41b8-ff3e-682d969c8961",
    "tags": []
   },
   "outputs": [
    {
     "name": "stdout",
     "output_type": "stream",
     "text": [
      "TF Graph Builder configuration:\n",
      "Model name: generic_classifier\n",
      "Graph folder: gc_graph\n",
      "Graph file name: gcf_graph_100d.pb\n",
      "Build params: {'input_dim': 100, 'output_dim': 2, 'hidden_layers': [300, 200, 50], 'hidden_act': 'tanh', 'hidden_act_l2': True, 'batch_norm': True}\n",
      "generic_classifier graph exported to gc_graph/gcf_graph_100d.pb\n"
     ]
    }
   ],
   "source": [
    "generic_model_hc100 = clf_Pipeline.fit(trainingData_with_embeddings)"
   ]
  },
  {
   "cell_type": "code",
   "execution_count": 93,
   "metadata": {
    "tags": []
   },
   "outputs": [
    {
     "name": "stdout",
     "output_type": "stream",
     "text": [
      "['MultiClassifierDLApproach_8b9eaf62a8c6.log', 'GenericClassifierApproach_39f2a442d476.log', 'ClassifierDLApproach_60c5d3e0075e.log']\n",
      "Training 25 epochs\n",
      "Epoch 1/25\t0.28s\tLoss: 11.554304\tACC: 0.6579176\n",
      "Epoch 2/25\t0.09s\tLoss: 10.309638\tACC: 0.71410567\n",
      "Epoch 3/25\t0.09s\tLoss: 9.725678\tACC: 0.72582793\n",
      "Epoch 4/25\t0.09s\tLoss: 9.397478\tACC: 0.73549956\n",
      "Epoch 5/25\t0.09s\tLoss: 9.441718\tACC: 0.73354644\n",
      "Epoch 6/25\t0.09s\tLoss: 9.126393\tACC: 0.74509805\n",
      "Epoch 7/25\t0.09s\tLoss: 9.190901\tACC: 0.74757\n",
      "Epoch 8/25\t0.09s\tLoss: 9.19724\tACC: 0.7465986\n",
      "Epoch 9/25\t0.09s\tLoss: 9.148613\tACC: 0.7489172\n",
      "Epoch 10/25\t0.09s\tLoss: 8.737309\tACC: 0.76623076\n",
      "Epoch 11/25\t0.09s\tLoss: 9.03104\tACC: 0.7624882\n",
      "Epoch 12/25\t0.09s\tLoss: 8.856274\tACC: 0.75467914\n",
      "Epoch 13/25\t0.09s\tLoss: 8.754003\tACC: 0.77244526\n",
      "Epoch 14/25\t0.09s\tLoss: 8.600636\tACC: 0.7751051\n",
      "Epoch 15/25\t0.09s\tLoss: 8.307023\tACC: 0.785487\n",
      "Epoch 16/25\t0.10s\tLoss: 8.292088\tACC: 0.78123605\n",
      "Epoch 17/25\t0.09s\tLoss: 8.468455\tACC: 0.7734166\n",
      "Epoch 18/25\t0.09s\tLoss: 8.068778\tACC: 0.7940132\n",
      "Epoch 19/25\t0.09s\tLoss: 8.270255\tACC: 0.7861938\n",
      "Epoch 20/25\t0.09s\tLoss: 8.033878\tACC: 0.7924221\n",
      "Epoch 21/25\t0.09s\tLoss: 8.010979\tACC: 0.79516906\n",
      "Epoch 22/25\t0.09s\tLoss: 8.307478\tACC: 0.7752792\n",
      "Epoch 23/25\t0.09s\tLoss: 7.8234653\tACC: 0.8007673\n",
      "Epoch 24/25\t0.09s\tLoss: 7.8727336\tACC: 0.79126626\n",
      "Epoch 25/25\t0.09s\tLoss: 7.90025\tACC: 0.7953571\n",
      "Training completed.\n"
     ]
    }
   ],
   "source": [
    "import os\n",
    "\n",
    "log_files = os.listdir(\"./training_logs\")\n",
    "\n",
    "print(log_files)\n",
    "with open(\"./training_logs/\"+log_files[1]) as log_file:   #choose indexnumber of log file starting with GenericClassifierApproach\n",
    "    print(log_file.read())"
   ]
  },
  {
   "cell_type": "code",
   "execution_count": 99,
   "metadata": {
    "id": "3Sqm6pF95vYX",
    "tags": []
   },
   "outputs": [
    {
     "name": "stdout",
     "output_type": "stream",
     "text": [
      "\n"
     ]
    }
   ],
   "source": [
    "pred_df = generic_model_hc100.transform(testData_with_embeddings)"
   ]
  },
  {
   "cell_type": "code",
   "execution_count": 100,
   "metadata": {
    "colab": {
     "base_uri": "https://localhost:8080/"
    },
    "executionInfo": {
     "elapsed": 550,
     "status": "ok",
     "timestamp": 1689689764763,
     "user": {
      "displayName": "Ahmet Mesut BİROL",
      "userId": "04340760882990254267"
     },
     "user_tz": -180
    },
    "id": "EW_Bbcb55xe-",
    "outputId": "0615c0c3-fd80-4436-b337-f3ed03eb6150",
    "tags": []
   },
   "outputs": [
    {
     "name": "stdout",
     "output_type": "stream",
     "text": [
      "root\n",
      " |-- text: string (nullable = true)\n",
      " |-- category: string (nullable = true)\n",
      " |-- sentence_embeddings: array (nullable = true)\n",
      " |    |-- element: struct (containsNull = true)\n",
      " |    |    |-- annotatorType: string (nullable = true)\n",
      " |    |    |-- begin: integer (nullable = false)\n",
      " |    |    |-- end: integer (nullable = false)\n",
      " |    |    |-- result: string (nullable = true)\n",
      " |    |    |-- metadata: map (nullable = true)\n",
      " |    |    |    |-- key: string\n",
      " |    |    |    |-- value: string (valueContainsNull = true)\n",
      " |    |    |-- embeddings: array (nullable = true)\n",
      " |    |    |    |-- element: float (containsNull = false)\n",
      " |-- category_array: array (nullable = false)\n",
      " |    |-- element: string (containsNull = true)\n",
      " |-- prediction: array (nullable = true)\n",
      " |    |-- element: struct (containsNull = true)\n",
      " |    |    |-- annotatorType: string (nullable = true)\n",
      " |    |    |-- begin: integer (nullable = false)\n",
      " |    |    |-- end: integer (nullable = false)\n",
      " |    |    |-- result: string (nullable = true)\n",
      " |    |    |-- metadata: map (nullable = true)\n",
      " |    |    |    |-- key: string\n",
      " |    |    |    |-- value: string (valueContainsNull = true)\n",
      " |    |    |-- embeddings: array (nullable = true)\n",
      " |    |    |    |-- element: float (containsNull = false)\n",
      "\n",
      "+-------------------------------------------------------------------------------------+\n",
      "|prediction                                                                           |\n",
      "+-------------------------------------------------------------------------------------+\n",
      "|[{category, 0, 139, neg, {sentence -> 0, neg -> 0.9987855, pos -> 0.0012048185}, []}]|\n",
      "|[{category, 0, 160, neg, {sentence -> 0, neg -> 0.74056894, pos -> 0.25923806}, []}] |\n",
      "|[{category, 0, 139, neg, {sentence -> 0, neg -> 0.9922085, pos -> 0.0076831877}, []}]|\n",
      "|[{category, 0, 87, neg, {sentence -> 0, neg -> 0.85787153, pos -> 0.14283118}, []}]  |\n",
      "|[{category, 0, 137, neg, {sentence -> 0, neg -> 0.9313443, pos -> 0.06896877}, []}]  |\n",
      "+-------------------------------------------------------------------------------------+\n",
      "only showing top 5 rows\n",
      "\n",
      "+--------+-----------------+\n",
      "|category|prediction.result|\n",
      "+--------+-----------------+\n",
      "|neg     |[neg]            |\n",
      "|neg     |[neg]            |\n",
      "|neg     |[neg]            |\n",
      "|neg     |[neg]            |\n",
      "|neg     |[neg]            |\n",
      "+--------+-----------------+\n",
      "only showing top 5 rows\n"
     ]
    }
   ],
   "source": [
    "preds.printSchema()\n",
    "preds.select(preds.prediction).show(5, truncate=False)\n",
    "preds.select(preds.category, preds.prediction.result).show(5, truncate=False)"
   ]
  },
  {
   "cell_type": "code",
   "execution_count": 101,
   "metadata": {
    "colab": {
     "base_uri": "https://localhost:8080/"
    },
    "executionInfo": {
     "elapsed": 609,
     "status": "ok",
     "timestamp": 1689689765367,
     "user": {
      "displayName": "Ahmet Mesut BİROL",
      "userId": "04340760882990254267"
     },
     "user_tz": -180
    },
    "id": "NHCBTwrmQB3I",
    "outputId": "3008c63d-b49a-4197-dafe-0f288fdf5952",
    "tags": []
   },
   "outputs": [
    {
     "name": "stdout",
     "output_type": "stream",
     "text": [
      "              precision    recall  f1-score   support\n",
      "\n",
      "         neg       0.86      0.84      0.85      1019\n",
      "         pos       0.61      0.65      0.63       399\n",
      "\n",
      "    accuracy                           0.79      1418\n",
      "   macro avg       0.74      0.74      0.74      1418\n",
      "weighted avg       0.79      0.79      0.79      1418\n"
     ]
    }
   ],
   "source": [
    "preds_df = pred_df.select('category','prediction.result').toPandas()\n",
    "preds_df['result'] = preds_df.result.apply(lambda x : x[0])\n",
    "\n",
    "print(classification_report(preds_df['category'], preds_df['result']))"
   ]
  },
  {
   "cell_type": "code",
   "execution_count": 102,
   "metadata": {
    "id": "t_LmCl2rXNu9",
    "tags": []
   },
   "outputs": [
    {
     "name": "stdout",
     "output_type": "stream",
     "text": [
      "\n"
     ]
    }
   ],
   "source": [
    "res = classification_report(preds_df[\"category\"], preds_df[\"result\"], output_dict=True)\n",
    "results_df.loc[\"GenericClassifier_100d\"] = [res[\"pos\"][\"f1-score\"], res[\"accuracy\"]]"
   ]
  },
  {
   "cell_type": "code",
   "execution_count": 103,
   "metadata": {
    "tags": []
   },
   "outputs": [
    {
     "name": "stdout",
     "output_type": "stream",
     "text": [
      "+------------------+------------------+\n",
      "|      pos-f1-score|          accuracy|\n",
      "+------------------+------------------+\n",
      "|0.6931506849315068| 0.842031029619182|\n",
      "|0.6461916461916463|0.7968970380818053|\n",
      "|0.6292682926829268|0.7856135401974612|\n",
      "+------------------+------------------+\n"
     ]
    }
   ],
   "source": [
    "spark.createDataFrame(results_df).show()"
   ]
  },
  {
   "cell_type": "markdown",
   "metadata": {
    "id": "moyOD1bWPnBR"
   },
   "source": [
    "### GenericLogRegClassifier"
   ]
  },
  {
   "cell_type": "code",
   "execution_count": 104,
   "metadata": {
    "id": "DfbdLp5ZPnBR",
    "tags": []
   },
   "outputs": [
    {
     "name": "stdout",
     "output_type": "stream",
     "text": [
      "\n"
     ]
    }
   ],
   "source": [
    "from sparknlp_jsl.annotator import TFGraphBuilder\n",
    "\n",
    "graph_folder = \"gc_graph\"\n",
    "\n",
    "gc_logreg_graph_builder = TFGraphBuilder()\\\n",
    "    .setModelName(\"logreg_classifier\")\\\n",
    "    .setInputCols([\"feature_vector\"]) \\\n",
    "    .setLabelColumn(\"category\")\\\n",
    "    .setGraphFolder(graph_folder)\\\n",
    "    .setGraphFile(\"log_reg_graph.pb\")"
   ]
  },
  {
   "cell_type": "markdown",
   "metadata": {
    "id": "nF-VGSTbPnBS"
   },
   "source": [
    "GenericLogRegClassifier needs outputs from FeaturesAssembler. The FeaturesAssembler is used to collect features from different columns or an embeddings column.\n",
    "\n",
    "The GenericLogRegClassifier takes FEATURE_VECTOR annotations as input, classifies them and outputs CATEGORY annotations."
   ]
  },
  {
   "cell_type": "code",
   "execution_count": 105,
   "metadata": {
    "id": "RrPR_-6kPnBS",
    "tags": []
   },
   "outputs": [
    {
     "name": "stdout",
     "output_type": "stream",
     "text": [
      "\n"
     ]
    }
   ],
   "source": [
    "features_asm = FeaturesAssembler()\\\n",
    "    .setInputCols([\"sentence_embeddings\"])\\\n",
    "    .setOutputCol(\"feature_vector\")\n",
    "\n",
    "gen_clf = GenericLogRegClassifierApproach()\\\n",
    "    .setLabelColumn(\"category\")\\\n",
    "    .setInputCols(\"feature_vector\")\\\n",
    "    .setOutputCol(\"prediction\")\\\n",
    "    .setModelFile(f\"{graph_folder}/log_reg_graph.pb\")\\\n",
    "    .setEpochsNumber(20)\\\n",
    "    .setBatchSize(128)\\\n",
    "    .setLearningRate(0.01)\\\n",
    "    .setOutputLogsPath(log_folder)\\\n",
    "    .setDropout(0.1)\\\n",
    "    .setFixImbalance(True)\\\n",
    "    # .setValidationSplit(0.1)\n",
    "\n",
    "clf_Pipeline = Pipeline(stages=[\n",
    "    features_asm,\n",
    "    gc_logreg_graph_builder,\n",
    "    gen_clf])\n"
   ]
  },
  {
   "cell_type": "code",
   "execution_count": 106,
   "metadata": {
    "colab": {
     "base_uri": "https://localhost:8080/"
    },
    "executionInfo": {
     "elapsed": 3078,
     "status": "ok",
     "timestamp": 1689689768441,
     "user": {
      "displayName": "Ahmet Mesut BİROL",
      "userId": "04340760882990254267"
     },
     "user_tz": -180
    },
    "id": "JvS4gi_sPnBS",
    "outputId": "cdd8a60d-0d45-4d34-bf2b-fbf04a32d391",
    "tags": []
   },
   "outputs": [
    {
     "name": "stdout",
     "output_type": "stream",
     "text": [
      "TF Graph Builder configuration:\n",
      "Model name: logreg_classifier\n",
      "Graph folder: gc_graph\n",
      "Graph file name: log_reg_graph.pb\n",
      "Build params: {'input_dim': 100, 'output_dim': 2, 'hidden_layers': [], 'output_act': 'sigmoid'}\n",
      "logreg_classifier graph exported to gc_graph/log_reg_graph.pb\n"
     ]
    }
   ],
   "source": [
    "generic_model_hc100 = clf_Pipeline.fit(trainingData_with_embeddings)"
   ]
  },
  {
   "cell_type": "code",
   "execution_count": 108,
   "metadata": {
    "colab": {
     "base_uri": "https://localhost:8080/"
    },
    "executionInfo": {
     "elapsed": 16,
     "status": "ok",
     "timestamp": 1689689768442,
     "user": {
      "displayName": "Ahmet Mesut BİROL",
      "userId": "04340760882990254267"
     },
     "user_tz": -180
    },
    "id": "Kj-r_R-_PnBT",
    "outputId": "51eae83a-58da-414c-cd3f-eb08456aa2af",
    "tags": []
   },
   "outputs": [
    {
     "name": "stdout",
     "output_type": "stream",
     "text": [
      "['MultiClassifierDLApproach_8b9eaf62a8c6.log', 'GenericClassifierApproach_39f2a442d476.log', 'ClassifierDLApproach_60c5d3e0075e.log', 'GenericLogRegClassifierApproach_f66a6978f006.log']\n",
      "Training 20 epochs\n",
      "Epoch 1/20\t0.12s\tLoss: 26.192495\tACC: 0.7044375\n",
      "Epoch 2/20\t0.04s\tLoss: 24.509409\tACC: 0.71197504\n",
      "Epoch 3/20\t0.04s\tLoss: 23.64061\tACC: 0.7218276\n",
      "Epoch 4/20\t0.04s\tLoss: 23.049358\tACC: 0.7347092\n",
      "Epoch 5/20\t0.04s\tLoss: 22.71779\tACC: 0.74092025\n",
      "Epoch 6/20\t0.04s\tLoss: 22.50545\tACC: 0.74456537\n",
      "Epoch 7/20\t0.04s\tLoss: 22.272604\tACC: 0.7421631\n",
      "Epoch 8/20\t0.04s\tLoss: 22.272514\tACC: 0.74925846\n",
      "Epoch 9/20\t0.03s\tLoss: 22.097445\tACC: 0.7484612\n",
      "Epoch 10/20\t0.03s\tLoss: 22.024399\tACC: 0.7439318\n",
      "Epoch 11/20\t0.03s\tLoss: 21.817656\tACC: 0.75175816\n",
      "Epoch 12/20\t0.03s\tLoss: 21.837666\tACC: 0.752726\n",
      "Epoch 13/20\t0.03s\tLoss: 21.813433\tACC: 0.7533596\n",
      "Epoch 14/20\t0.03s\tLoss: 21.746014\tACC: 0.75281656\n",
      "Epoch 15/20\t0.03s\tLoss: 21.65612\tACC: 0.7516676\n",
      "Epoch 16/20\t0.03s\tLoss: 21.846258\tACC: 0.7506824\n",
      "Epoch 17/20\t0.03s\tLoss: 21.544636\tACC: 0.7567297\n",
      "Epoch 18/20\t0.04s\tLoss: 21.774063\tACC: 0.7558454\n",
      "Epoch 19/20\t0.03s\tLoss: 21.541077\tACC: 0.755842\n",
      "Epoch 20/20\t0.03s\tLoss: 21.590668\tACC: 0.7569874\n",
      "Training completed.\n"
     ]
    }
   ],
   "source": [
    "import os\n",
    "\n",
    "log_files = os.listdir(\"./training_logs\")\n",
    "print(log_files)\n",
    "with open(\"./training_logs/\"+log_files[3]) as log_file:   #chooese the index number of .log file starting with GenericLogRegClassifierApproach\n",
    "    print(log_file.read())"
   ]
  },
  {
   "cell_type": "code",
   "execution_count": 109,
   "metadata": {
    "id": "9acpNGeCPnBT",
    "tags": []
   },
   "outputs": [
    {
     "name": "stdout",
     "output_type": "stream",
     "text": [
      "\n"
     ]
    }
   ],
   "source": [
    "pred_df = generic_model_hc100.transform(testData_with_embeddings)"
   ]
  },
  {
   "cell_type": "code",
   "execution_count": 110,
   "metadata": {
    "colab": {
     "base_uri": "https://localhost:8080/"
    },
    "executionInfo": {
     "elapsed": 13,
     "status": "ok",
     "timestamp": 1689689769245,
     "user": {
      "displayName": "Ahmet Mesut BİROL",
      "userId": "04340760882990254267"
     },
     "user_tz": -180
    },
    "id": "jxk_78fcPnBT",
    "outputId": "4681e6dc-ec09-4959-8f72-4946fb6322a0",
    "tags": []
   },
   "outputs": [
    {
     "name": "stdout",
     "output_type": "stream",
     "text": [
      "root\n",
      " |-- text: string (nullable = true)\n",
      " |-- category: string (nullable = true)\n",
      " |-- sentence_embeddings: array (nullable = true)\n",
      " |    |-- element: struct (containsNull = true)\n",
      " |    |    |-- annotatorType: string (nullable = true)\n",
      " |    |    |-- begin: integer (nullable = false)\n",
      " |    |    |-- end: integer (nullable = false)\n",
      " |    |    |-- result: string (nullable = true)\n",
      " |    |    |-- metadata: map (nullable = true)\n",
      " |    |    |    |-- key: string\n",
      " |    |    |    |-- value: string (valueContainsNull = true)\n",
      " |    |    |-- embeddings: array (nullable = true)\n",
      " |    |    |    |-- element: float (containsNull = false)\n",
      " |-- category_array: array (nullable = false)\n",
      " |    |-- element: string (containsNull = true)\n",
      " |-- prediction: array (nullable = true)\n",
      " |    |-- element: struct (containsNull = true)\n",
      " |    |    |-- annotatorType: string (nullable = true)\n",
      " |    |    |-- begin: integer (nullable = false)\n",
      " |    |    |-- end: integer (nullable = false)\n",
      " |    |    |-- result: string (nullable = true)\n",
      " |    |    |-- metadata: map (nullable = true)\n",
      " |    |    |    |-- key: string\n",
      " |    |    |    |-- value: string (valueContainsNull = true)\n",
      " |    |    |-- embeddings: array (nullable = true)\n",
      " |    |    |    |-- element: float (containsNull = false)\n",
      "\n",
      "+-------------------------------------------------------------------------------------+\n",
      "|prediction                                                                           |\n",
      "+-------------------------------------------------------------------------------------+\n",
      "|[{category, 0, 139, neg, {sentence -> 0, neg -> 0.9987855, pos -> 0.0012048185}, []}]|\n",
      "|[{category, 0, 160, neg, {sentence -> 0, neg -> 0.74056894, pos -> 0.25923806}, []}] |\n",
      "|[{category, 0, 139, neg, {sentence -> 0, neg -> 0.9922085, pos -> 0.0076831877}, []}]|\n",
      "|[{category, 0, 87, neg, {sentence -> 0, neg -> 0.85787153, pos -> 0.14283118}, []}]  |\n",
      "|[{category, 0, 137, neg, {sentence -> 0, neg -> 0.9313443, pos -> 0.06896877}, []}]  |\n",
      "+-------------------------------------------------------------------------------------+\n",
      "only showing top 5 rows\n",
      "\n",
      "+--------+-----------------+\n",
      "|category|prediction.result|\n",
      "+--------+-----------------+\n",
      "|neg     |[neg]            |\n",
      "|neg     |[neg]            |\n",
      "|neg     |[neg]            |\n",
      "|neg     |[neg]            |\n",
      "|neg     |[neg]            |\n",
      "+--------+-----------------+\n",
      "only showing top 5 rows\n"
     ]
    }
   ],
   "source": [
    "preds.printSchema()\n",
    "preds.select(preds.prediction).show(5, truncate=False)\n",
    "preds.select(preds.category, preds.prediction.result).show(5, truncate=False)"
   ]
  },
  {
   "cell_type": "code",
   "execution_count": 111,
   "metadata": {
    "colab": {
     "base_uri": "https://localhost:8080/"
    },
    "executionInfo": {
     "elapsed": 879,
     "status": "ok",
     "timestamp": 1689689770120,
     "user": {
      "displayName": "Ahmet Mesut BİROL",
      "userId": "04340760882990254267"
     },
     "user_tz": -180
    },
    "id": "iF3ut5msPnBT",
    "outputId": "b6b3bb7a-4e26-4a63-abd9-9ee2f2bd34de",
    "tags": []
   },
   "outputs": [
    {
     "name": "stdout",
     "output_type": "stream",
     "text": [
      "              precision    recall  f1-score   support\n",
      "\n",
      "         neg       0.79      0.93      0.85      1019\n",
      "         pos       0.67      0.36      0.46       399\n",
      "\n",
      "    accuracy                           0.77      1418\n",
      "   macro avg       0.73      0.64      0.66      1418\n",
      "weighted avg       0.75      0.77      0.74      1418\n"
     ]
    }
   ],
   "source": [
    "preds_df = pred_df.select('category','prediction.result').toPandas()\n",
    "preds_df['result'] = preds_df.result.apply(lambda x : x[0])\n",
    "\n",
    "print (classification_report(preds_df['category'], preds_df['result']))"
   ]
  },
  {
   "cell_type": "code",
   "execution_count": 112,
   "metadata": {
    "id": "KMh2w2ixXm0B",
    "tags": []
   },
   "outputs": [
    {
     "name": "stdout",
     "output_type": "stream",
     "text": [
      "\n"
     ]
    }
   ],
   "source": [
    "res = classification_report(preds_df[\"category\"], preds_df[\"result\"], output_dict=True)\n",
    "results_df.loc[\"GenericLogReg_100d\"] = [res[\"pos\"][\"f1-score\"], res[\"accuracy\"]]"
   ]
  },
  {
   "cell_type": "markdown",
   "metadata": {
    "id": "kGx7LiTFUytq"
   },
   "source": [
    "### GenericSVMClassifier"
   ]
  },
  {
   "cell_type": "code",
   "execution_count": 113,
   "metadata": {
    "id": "QQxZi5VjUytq",
    "tags": []
   },
   "outputs": [
    {
     "name": "stdout",
     "output_type": "stream",
     "text": [
      "\n"
     ]
    }
   ],
   "source": [
    "from sparknlp_jsl.annotator import TFGraphBuilder\n",
    "\n",
    "graph_folder = \"gc_graph\"\n",
    "\n",
    "gc_svm_graph_builder = TFGraphBuilder()\\\n",
    "    .setModelName(\"svm_classifier\")\\\n",
    "    .setInputCols([\"feature_vector\"]) \\\n",
    "    .setLabelColumn(\"category\")\\\n",
    "    .setGraphFolder(graph_folder)\\\n",
    "    .setGraphFile(\"svm_graph.pb\")"
   ]
  },
  {
   "cell_type": "markdown",
   "metadata": {
    "id": "HCczHJ9EUytq"
   },
   "source": [
    "GenericSVMClassifier needs outputs from FeaturesAssembler. The FeaturesAssembler is used to collect features from different columns or an embeddings column.\n",
    "\n",
    "The GenericSVMClassifier takes FEATURE_VECTOR annotations as input, classifies them and outputs CATEGORY annotations."
   ]
  },
  {
   "cell_type": "code",
   "execution_count": 114,
   "metadata": {
    "id": "iLlsBDJjUytq",
    "tags": []
   },
   "outputs": [
    {
     "name": "stdout",
     "output_type": "stream",
     "text": [
      "\n"
     ]
    }
   ],
   "source": [
    "features_asm = FeaturesAssembler()\\\n",
    "    .setInputCols([\"sentence_embeddings\"])\\\n",
    "    .setOutputCol(\"feature_vector\")\n",
    "\n",
    "gen_clf = GenericSVMClassifierApproach()\\\n",
    "    .setLabelColumn(\"category\")\\\n",
    "    .setInputCols(\"feature_vector\")\\\n",
    "    .setOutputCol(\"prediction\")\\\n",
    "    .setModelFile(f\"{graph_folder}/svm_graph.pb\")\\\n",
    "    .setEpochsNumber(21)\\\n",
    "    .setBatchSize(128)\\\n",
    "    .setLearningRate(0.02)\\\n",
    "    .setOutputLogsPath(log_folder)\\\n",
    "    .setDropout(0.1)\\\n",
    "    .setFixImbalance(True)\\\n",
    "    # .setValidationSplit(0.1)\n",
    "\n",
    "clf_Pipeline = Pipeline(stages=[\n",
    "    features_asm,\n",
    "    gc_svm_graph_builder,\n",
    "    gen_clf])\n"
   ]
  },
  {
   "cell_type": "code",
   "execution_count": 115,
   "metadata": {
    "colab": {
     "base_uri": "https://localhost:8080/"
    },
    "executionInfo": {
     "elapsed": 3228,
     "status": "ok",
     "timestamp": 1689689773345,
     "user": {
      "displayName": "Ahmet Mesut BİROL",
      "userId": "04340760882990254267"
     },
     "user_tz": -180
    },
    "id": "K8KAXYtkUytq",
    "outputId": "66e0b5b4-db84-439a-92c3-1a7c132ba7b1",
    "tags": []
   },
   "outputs": [
    {
     "name": "stdout",
     "output_type": "stream",
     "text": [
      "TF Graph Builder configuration:\n",
      "Model name: svm_classifier\n",
      "Graph folder: gc_graph\n",
      "Graph file name: svm_graph.pb\n",
      "Build params: {'input_dim': 100, 'output_dim': 2, 'hidden_layers': [], 'output_act': 'sigmoid', 'loss_func': 'hinge'}\n",
      "svm_classifier graph exported to gc_graph/svm_graph.pb\n"
     ]
    }
   ],
   "source": [
    "generic_model_hc100 = clf_Pipeline.fit(trainingData_with_embeddings)"
   ]
  },
  {
   "cell_type": "code",
   "execution_count": 117,
   "metadata": {
    "colab": {
     "base_uri": "https://localhost:8080/"
    },
    "executionInfo": {
     "elapsed": 18,
     "status": "ok",
     "timestamp": 1689689773345,
     "user": {
      "displayName": "Ahmet Mesut BİROL",
      "userId": "04340760882990254267"
     },
     "user_tz": -180
    },
    "id": "laXPq5hLUytq",
    "outputId": "d94f212e-d777-47ac-c597-5c24a1f7a3f3",
    "tags": []
   },
   "outputs": [
    {
     "name": "stdout",
     "output_type": "stream",
     "text": [
      "['MultiClassifierDLApproach_8b9eaf62a8c6.log', 'GenericClassifierApproach_39f2a442d476.log', 'ClassifierDLApproach_60c5d3e0075e.log', 'GenericLogRegClassifierApproach_f66a6978f006.log', 'GenericSVMClassifierApproach_e402e9876e14.log']\n",
      "Training 21 epochs\n",
      "Epoch 1/21\t0.12s\tLoss: 27.887125\tACC: 0.6994555\n",
      "Epoch 2/21\t0.03s\tLoss: 25.189148\tACC: 0.7274225\n",
      "Epoch 3/21\t0.03s\tLoss: 24.80061\tACC: 0.7352419\n",
      "Epoch 4/21\t0.03s\tLoss: 24.754045\tACC: 0.7407427\n",
      "Epoch 5/21\t0.03s\tLoss: 24.176756\tACC: 0.75157714\n",
      "Epoch 6/21\t0.03s\tLoss: 24.288534\tACC: 0.7490008\n",
      "Epoch 7/21\t0.03s\tLoss: 24.172213\tACC: 0.75210977\n",
      "Epoch 8/21\t0.03s\tLoss: 24.17517\tACC: 0.7557549\n",
      "Epoch 9/21\t0.03s\tLoss: 24.220263\tACC: 0.7616213\n",
      "Epoch 10/21\t0.03s\tLoss: 23.864067\tACC: 0.7605524\n",
      "Epoch 11/21\t0.03s\tLoss: 23.949997\tACC: 0.7597378\n",
      "Epoch 12/21\t0.03s\tLoss: 23.914875\tACC: 0.75823027\n",
      "Epoch 13/21\t0.03s\tLoss: 23.981165\tACC: 0.7555635\n",
      "Epoch 14/21\t0.03s\tLoss: 24.415968\tACC: 0.7513021\n",
      "Epoch 15/21\t0.03s\tLoss: 24.181353\tACC: 0.76099455\n",
      "Epoch 16/21\t0.03s\tLoss: 23.964964\tACC: 0.75530237\n",
      "Epoch 17/21\t0.03s\tLoss: 23.928299\tACC: 0.7631218\n",
      "Epoch 18/21\t0.03s\tLoss: 24.088058\tACC: 0.7623141\n",
      "Epoch 19/21\t0.03s\tLoss: 24.409967\tACC: 0.7521899\n",
      "Epoch 20/21\t0.03s\tLoss: 24.632929\tACC: 0.75086\n",
      "Epoch 21/21\t0.03s\tLoss: 23.761274\tACC: 0.76045495\n",
      "Training completed.\n"
     ]
    }
   ],
   "source": [
    "import os\n",
    "\n",
    "log_files = os.listdir(\"./training_logs\")\n",
    "print(log_files)\n",
    "\n",
    "with open(\"./training_logs/\"+log_files[-1]) as log_file:  #choose the index of the *.log file  starting with GenericSVMClassifierApproach\n",
    "    print(log_file.read())"
   ]
  },
  {
   "cell_type": "code",
   "execution_count": 118,
   "metadata": {
    "id": "F0t-aE9hUytq",
    "tags": []
   },
   "outputs": [
    {
     "name": "stdout",
     "output_type": "stream",
     "text": [
      "\n"
     ]
    }
   ],
   "source": [
    "pred_df = generic_model_hc100.transform(testData_with_embeddings)"
   ]
  },
  {
   "cell_type": "code",
   "execution_count": 119,
   "metadata": {
    "colab": {
     "base_uri": "https://localhost:8080/"
    },
    "executionInfo": {
     "elapsed": 379,
     "status": "ok",
     "timestamp": 1689689774178,
     "user": {
      "displayName": "Ahmet Mesut BİROL",
      "userId": "04340760882990254267"
     },
     "user_tz": -180
    },
    "id": "4HmAqC2fUytq",
    "outputId": "b79d5eab-2b10-450d-fdea-ad0fcc95dcf7",
    "tags": []
   },
   "outputs": [
    {
     "name": "stdout",
     "output_type": "stream",
     "text": [
      "root\n",
      " |-- text: string (nullable = true)\n",
      " |-- category: string (nullable = true)\n",
      " |-- sentence_embeddings: array (nullable = true)\n",
      " |    |-- element: struct (containsNull = true)\n",
      " |    |    |-- annotatorType: string (nullable = true)\n",
      " |    |    |-- begin: integer (nullable = false)\n",
      " |    |    |-- end: integer (nullable = false)\n",
      " |    |    |-- result: string (nullable = true)\n",
      " |    |    |-- metadata: map (nullable = true)\n",
      " |    |    |    |-- key: string\n",
      " |    |    |    |-- value: string (valueContainsNull = true)\n",
      " |    |    |-- embeddings: array (nullable = true)\n",
      " |    |    |    |-- element: float (containsNull = false)\n",
      " |-- category_array: array (nullable = false)\n",
      " |    |-- element: string (containsNull = true)\n",
      " |-- prediction: array (nullable = true)\n",
      " |    |-- element: struct (containsNull = true)\n",
      " |    |    |-- annotatorType: string (nullable = true)\n",
      " |    |    |-- begin: integer (nullable = false)\n",
      " |    |    |-- end: integer (nullable = false)\n",
      " |    |    |-- result: string (nullable = true)\n",
      " |    |    |-- metadata: map (nullable = true)\n",
      " |    |    |    |-- key: string\n",
      " |    |    |    |-- value: string (valueContainsNull = true)\n",
      " |    |    |-- embeddings: array (nullable = true)\n",
      " |    |    |    |-- element: float (containsNull = false)\n",
      "\n",
      "+-------------------------------------------------------------------------------------+\n",
      "|prediction                                                                           |\n",
      "+-------------------------------------------------------------------------------------+\n",
      "|[{category, 0, 139, neg, {sentence -> 0, neg -> 0.9987855, pos -> 0.0012048185}, []}]|\n",
      "|[{category, 0, 160, neg, {sentence -> 0, neg -> 0.74056894, pos -> 0.25923806}, []}] |\n",
      "|[{category, 0, 139, neg, {sentence -> 0, neg -> 0.9922085, pos -> 0.0076831877}, []}]|\n",
      "|[{category, 0, 87, neg, {sentence -> 0, neg -> 0.85787153, pos -> 0.14283118}, []}]  |\n",
      "|[{category, 0, 137, neg, {sentence -> 0, neg -> 0.9313443, pos -> 0.06896877}, []}]  |\n",
      "+-------------------------------------------------------------------------------------+\n",
      "only showing top 5 rows\n",
      "\n",
      "+--------+-----------------+\n",
      "|category|prediction.result|\n",
      "+--------+-----------------+\n",
      "|neg     |[neg]            |\n",
      "|neg     |[neg]            |\n",
      "|neg     |[neg]            |\n",
      "|neg     |[neg]            |\n",
      "|neg     |[neg]            |\n",
      "+--------+-----------------+\n",
      "only showing top 5 rows\n"
     ]
    }
   ],
   "source": [
    "preds.printSchema()\n",
    "preds.select(preds.prediction).show(5, truncate=False)\n",
    "preds.select(preds.category, preds.prediction.result).show(5, truncate=False)"
   ]
  },
  {
   "cell_type": "code",
   "execution_count": 120,
   "metadata": {
    "colab": {
     "base_uri": "https://localhost:8080/"
    },
    "executionInfo": {
     "elapsed": 309,
     "status": "ok",
     "timestamp": 1689689774485,
     "user": {
      "displayName": "Ahmet Mesut BİROL",
      "userId": "04340760882990254267"
     },
     "user_tz": -180
    },
    "id": "OmNN-FEuUytr",
    "outputId": "c3089f56-5cc8-4260-bf76-c75166642abd",
    "tags": []
   },
   "outputs": [
    {
     "name": "stdout",
     "output_type": "stream",
     "text": [
      "              precision    recall  f1-score   support\n",
      "\n",
      "         neg       0.77      0.96      0.85      1019\n",
      "         pos       0.73      0.26      0.39       399\n",
      "\n",
      "    accuracy                           0.77      1418\n",
      "   macro avg       0.75      0.61      0.62      1418\n",
      "weighted avg       0.76      0.77      0.72      1418\n"
     ]
    }
   ],
   "source": [
    "preds_df = pred_df.select('category','prediction.result').toPandas()\n",
    "preds_df['result'] = preds_df.result.apply(lambda x : x[0])\n",
    "\n",
    "print (classification_report(preds_df['category'], preds_df['result']))"
   ]
  },
  {
   "cell_type": "code",
   "execution_count": 121,
   "metadata": {
    "id": "CRGmLUaWX8jK",
    "tags": []
   },
   "outputs": [
    {
     "name": "stdout",
     "output_type": "stream",
     "text": [
      "\n"
     ]
    }
   ],
   "source": [
    "res = classification_report(preds_df[\"category\"], preds_df[\"result\"], output_dict=True)\n",
    "results_df.loc[\"GenericSVM_100d\"] = [res[\"pos\"][\"f1-score\"], res[\"accuracy\"]]"
   ]
  },
  {
   "cell_type": "markdown",
   "metadata": {
    "id": "hF378LqHvDRK"
   },
   "source": [
    "## 200 Dimension Healthcare Embeddings (embeddings_clinical)\n",
    "\n"
   ]
  },
  {
   "cell_type": "markdown",
   "metadata": {
    "id": "hEppd4Q3vDRK"
   },
   "source": [
    "Now we will extract [embeddings_clinical](https://nlp.johnsnowlabs.com/2020/01/28/embeddings_clinical_en.html) embeddings which has 200 dimension output and use this embeddings in the model training."
   ]
  },
  {
   "cell_type": "code",
   "execution_count": 123,
   "metadata": {
    "colab": {
     "base_uri": "https://localhost:8080/"
    },
    "executionInfo": {
     "elapsed": 70576,
     "status": "ok",
     "timestamp": 1689689845380,
     "user": {
      "displayName": "Ahmet Mesut BİROL",
      "userId": "04340760882990254267"
     },
     "user_tz": -180
    },
    "id": "Dv95E2vNvDRK",
    "outputId": "03a7835a-4e96-4a57-b197-cf82f3cc12e9",
    "tags": []
   },
   "outputs": [
    {
     "name": "stdout",
     "output_type": "stream",
     "text": [
      "embeddings_clinical download started this may take some time.\n",
      "Approximate size to download 1.6 GB\n",
      "[OK!]\n"
     ]
    }
   ],
   "source": [
    "document_assembler = DocumentAssembler()\\\n",
    "        .setInputCol(\"text\")\\\n",
    "        .setOutputCol(\"document\")\n",
    "\n",
    "tokenizer = Tokenizer() \\\n",
    "            .setInputCols([\"document\"]) \\\n",
    "            .setOutputCol(\"token\")\n",
    "\n",
    "word_embeddings = WordEmbeddingsModel.pretrained(\"embeddings_clinical\",\"en\",\"clinical/models\")\\\n",
    "        .setInputCols([\"document\",\"token\"])\\\n",
    "        .setOutputCol(\"word_embeddings\")\\\n",
    "        .setEnableInMemoryStorage(True)\n",
    "\n",
    "sentence_embeddings = SentenceEmbeddings() \\\n",
    "        .setInputCols([\"document\", \"word_embeddings\"]) \\\n",
    "        .setOutputCol(\"sentence_embeddings\") \\\n",
    "        .setPoolingStrategy(\"AVERAGE\")\n",
    "\n",
    "embeddings_pipeline = Pipeline(\n",
    "    stages = [\n",
    "        document_assembler,\n",
    "        tokenizer,\n",
    "        word_embeddings,\n",
    "        sentence_embeddings,\n",
    "    ])"
   ]
  },
  {
   "cell_type": "code",
   "execution_count": 124,
   "metadata": {
    "colab": {
     "base_uri": "https://localhost:8080/"
    },
    "executionInfo": {
     "elapsed": 621,
     "status": "ok",
     "timestamp": 1689689845981,
     "user": {
      "displayName": "Ahmet Mesut BİROL",
      "userId": "04340760882990254267"
     },
     "user_tz": -180
    },
    "id": "uj2dbrthvDRK",
    "outputId": "621344ac-4015-4103-f533-c831b7e94256",
    "tags": []
   },
   "outputs": [
    {
     "name": "stdout",
     "output_type": "stream",
     "text": [
      "+------------------------------------------------------------+--------+------------------------------------------------------------+\n",
      "|                                                        text|category|                                         sentence_embeddings|\n",
      "+------------------------------------------------------------+--------+------------------------------------------------------------+\n",
      "| (4) The acute rehabilitation of a 21-year-old woman with...|     neg|[{sentence_embeddings, 0, 182,  (4) The acute rehabilitat...|\n",
      "| A 16-year-old girl with erosive, polyarticular JRA showe...|     neg|[{sentence_embeddings, 0, 129,  A 16-year-old girl with e...|\n",
      "+------------------------------------------------------------+--------+------------------------------------------------------------+\n",
      "only showing top 2 rows\n"
     ]
    }
   ],
   "source": [
    "trainingData_with_embeddings = embeddings_pipeline.fit(trainingData).transform(trainingData)\\\n",
    "                                                  .select(\"text\",\"category\",\"sentence_embeddings\")\n",
    "trainingData_with_embeddings.show(2,truncate=60)"
   ]
  },
  {
   "cell_type": "code",
   "execution_count": 125,
   "metadata": {
    "colab": {
     "base_uri": "https://localhost:8080/"
    },
    "executionInfo": {
     "elapsed": 16,
     "status": "ok",
     "timestamp": 1689689845982,
     "user": {
      "displayName": "Ahmet Mesut BİROL",
      "userId": "04340760882990254267"
     },
     "user_tz": -180
    },
    "id": "jPZSMm5pvDRK",
    "outputId": "b5e3ce1e-e5db-409f-e742-037c0caa4c17",
    "tags": []
   },
   "outputs": [
    {
     "name": "stdout",
     "output_type": "stream",
     "text": [
      "+------------------------------------------------------------+--------+------------------------------------------------------------+\n",
      "|                                                        text|category|                                         sentence_embeddings|\n",
      "+------------------------------------------------------------+--------+------------------------------------------------------------+\n",
      "| A 51-year-old-woman presented with chronic eosinophilia,...|     neg|[{sentence_embeddings, 0, 139,  A 51-year-old-woman prese...|\n",
      "| Acute pleuropericarditis relevant to post-cardiac injury...|     neg|[{sentence_embeddings, 0, 160,  Acute pleuropericarditis ...|\n",
      "+------------------------------------------------------------+--------+------------------------------------------------------------+\n",
      "only showing top 2 rows\n"
     ]
    }
   ],
   "source": [
    "testData_with_embeddings = embeddings_pipeline.fit(testData).transform(testData)\\\n",
    "                                                  .select(\"text\",\"category\",\"sentence_embeddings\")\n",
    "testData_with_embeddings.show(2,truncate=60)"
   ]
  },
  {
   "cell_type": "code",
   "execution_count": 126,
   "metadata": {
    "id": "qrF7eDHBdmBp",
    "tags": []
   },
   "outputs": [
    {
     "name": "stdout",
     "output_type": "stream",
     "text": [
      "\n"
     ]
    }
   ],
   "source": [
    "log_folder=\"ADE_logs_healthcare_200d\""
   ]
  },
  {
   "cell_type": "markdown",
   "metadata": {
    "id": "coHHa_CRvDRL"
   },
   "source": [
    "### ClassifierDL"
   ]
  },
  {
   "cell_type": "code",
   "execution_count": 127,
   "metadata": {
    "id": "thQ0sg91vDRL",
    "tags": []
   },
   "outputs": [
    {
     "name": "stdout",
     "output_type": "stream",
     "text": [
      "\n"
     ]
    }
   ],
   "source": [
    "classifier_dl = ClassifierDLApproach()\\\n",
    "        .setInputCols([\"sentence_embeddings\"])\\\n",
    "        .setOutputCol(\"class\")\\\n",
    "        .setLabelColumn(\"category\")\\\n",
    "        .setBatchSize(16)\\\n",
    "        .setMaxEpochs(30)\\\n",
    "        .setLr(0.001)\\\n",
    "        .setDropout(0.3)\\\n",
    "        .setEnableOutputLogs(True)\\\n",
    "        .setOutputLogsPath(log_folder)\n",
    "\n",
    "classifier_dl_pipeline = Pipeline(\n",
    "    stages = [\n",
    "        classifier_dl\n",
    "    ])"
   ]
  },
  {
   "cell_type": "code",
   "execution_count": 128,
   "metadata": {
    "id": "VdWaWXcbvDRL",
    "tags": []
   },
   "outputs": [
    {
     "name": "stdout",
     "output_type": "stream",
     "text": [
      "\n"
     ]
    }
   ],
   "source": [
    "clfDL_model_hc200 = classifier_dl_pipeline.fit(trainingData_with_embeddings)"
   ]
  },
  {
   "cell_type": "code",
   "execution_count": 129,
   "metadata": {
    "colab": {
     "base_uri": "https://localhost:8080/"
    },
    "executionInfo": {
     "elapsed": 3393,
     "status": "ok",
     "timestamp": 1689689893488,
     "user": {
      "displayName": "Ahmet Mesut BİROL",
      "userId": "04340760882990254267"
     },
     "user_tz": -180
    },
    "id": "1W67GqjCvDRL",
    "outputId": "89fab1cb-6dbb-4840-d0a0-cf2199f2aa30",
    "tags": []
   },
   "outputs": [
    {
     "name": "stdout",
     "output_type": "stream",
     "text": [
      "              precision    recall  f1-score   support\n",
      "\n",
      "         neg       0.88      0.94      0.91      1019\n",
      "         pos       0.81      0.67      0.73       399\n",
      "\n",
      "    accuracy                           0.86      1418\n",
      "   macro avg       0.84      0.80      0.82      1418\n",
      "weighted avg       0.86      0.86      0.86      1418\n"
     ]
    }
   ],
   "source": [
    "preds = clfDL_model_hc200.transform(testData_with_embeddings)\n",
    "\n",
    "preds_df = preds.select(\"category\",\"text\",\"class.result\").toPandas()\n",
    "preds_df[\"result\"] = preds_df[\"result\"].apply(lambda x : x[0])\n",
    "\n",
    "print (classification_report(preds_df[\"category\"], preds_df[\"result\"]))"
   ]
  },
  {
   "cell_type": "code",
   "execution_count": 130,
   "metadata": {
    "id": "8MAkySqqZFNU",
    "tags": []
   },
   "outputs": [
    {
     "name": "stdout",
     "output_type": "stream",
     "text": [
      "\n"
     ]
    }
   ],
   "source": [
    "res = classification_report(preds_df[\"category\"], preds_df[\"result\"], output_dict=True)\n",
    "results_df.loc[\"ClassifierDL_200d\"] = [res[\"pos\"][\"f1-score\"], res[\"accuracy\"]]"
   ]
  },
  {
   "cell_type": "markdown",
   "metadata": {
    "id": "Vz6ja6oP90It"
   },
   "source": [
    "### MultiClassifierDL"
   ]
  },
  {
   "cell_type": "code",
   "execution_count": 131,
   "metadata": {
    "id": "u7AzomVo90Iu",
    "tags": []
   },
   "outputs": [
    {
     "name": "stdout",
     "output_type": "stream",
     "text": [
      "\n"
     ]
    }
   ],
   "source": [
    "# MultiClassifierDL accepts list of strings as input label. So we convert label column to array type.\n",
    "trainingData_with_embeddings = trainingData_with_embeddings.withColumn(\"category_array\", F.array(F.col(\"category\")))\n",
    "testData_with_embeddings = testData_with_embeddings.withColumn(\"category_array\", F.array(F.col(\"category\")))"
   ]
  },
  {
   "cell_type": "code",
   "execution_count": 132,
   "metadata": {
    "id": "O25HWJXx90Iu",
    "tags": []
   },
   "outputs": [
    {
     "name": "stdout",
     "output_type": "stream",
     "text": [
      "\n"
     ]
    }
   ],
   "source": [
    "multiClassifier = MultiClassifierDLApproach()\\\n",
    "  .setInputCols(\"sentence_embeddings\")\\\n",
    "  .setOutputCol(\"prediction\")\\\n",
    "  .setLabelColumn(\"category_array\")\\\n",
    "  .setBatchSize(32)\\\n",
    "  .setMaxEpochs(20)\\\n",
    "  .setLr(9e-3)\\\n",
    "  .setThreshold(0.5)\\\n",
    "  .setShufflePerEpoch(False)\\\n",
    "  .setEnableOutputLogs(True)\\\n",
    "  .setOutputLogsPath(log_folder)\\\n",
    "#   .setValidationSplit(0.1)\n",
    "\n",
    "multiClassifier_pipeline = Pipeline(\n",
    "    stages = [\n",
    "        multiClassifier\n",
    "    ])"
   ]
  },
  {
   "cell_type": "code",
   "execution_count": 133,
   "metadata": {
    "id": "AfwUG4E890Iu",
    "tags": []
   },
   "outputs": [
    {
     "name": "stdout",
     "output_type": "stream",
     "text": [
      "\n"
     ]
    }
   ],
   "source": [
    "multiClassifier_model_hc200 = multiClassifier_pipeline.fit(trainingData_with_embeddings)"
   ]
  },
  {
   "cell_type": "code",
   "execution_count": 134,
   "metadata": {
    "id": "dqWL8GcD90Iu",
    "tags": []
   },
   "outputs": [
    {
     "name": "stdout",
     "output_type": "stream",
     "text": [
      "\n"
     ]
    }
   ],
   "source": [
    "preds = multiClassifier_model_hc200.transform(testData_with_embeddings)"
   ]
  },
  {
   "cell_type": "code",
   "execution_count": 135,
   "metadata": {
    "colab": {
     "base_uri": "https://localhost:8080/"
    },
    "executionInfo": {
     "elapsed": 21547,
     "status": "ok",
     "timestamp": 1689689997567,
     "user": {
      "displayName": "Ahmet Mesut BİROL",
      "userId": "04340760882990254267"
     },
     "user_tz": -180
    },
    "id": "leP1l4bN90Iu",
    "outputId": "aeace001-db8d-4cf2-925e-8a7f8f614ff6",
    "tags": []
   },
   "outputs": [
    {
     "name": "stdout",
     "output_type": "stream",
     "text": [
      "['neg']    1050\n",
      "['pos']     368\n",
      "Name: result, dtype: int64\n"
     ]
    }
   ],
   "source": [
    "preds_df = preds.select(\"category\",\"text\",\"prediction.result\",\"prediction.metadata\").toPandas()\n",
    "preds_df.result.apply(lambda x: str(x) ).value_counts()"
   ]
  },
  {
   "cell_type": "code",
   "execution_count": 136,
   "metadata": {
    "colab": {
     "base_uri": "https://localhost:8080/"
    },
    "executionInfo": {
     "elapsed": 34,
     "status": "ok",
     "timestamp": 1689689997568,
     "user": {
      "displayName": "Ahmet Mesut BİROL",
      "userId": "04340760882990254267"
     },
     "user_tz": -180
    },
    "id": "puS1FgQ-90Iv",
    "outputId": "d84da5cf-5bf4-46ea-9345-6cc8d917b581",
    "tags": []
   },
   "outputs": [
    {
     "name": "stdout",
     "output_type": "stream",
     "text": [
      "neg    1050\n",
      "pos     368\n",
      "Name: result, dtype: int64\n"
     ]
    }
   ],
   "source": [
    "# We will get the highest score label as result. You can control the number of zero label results with setThreshold() in the training.\n",
    "preds_df[\"scores\"] = preds_df.metadata.apply(lambda x: {k:float(v) for k,v in x[0].items()} if len(x)>=1 else \"\")\n",
    "preds_df[\"result\"] = preds_df.scores.apply(lambda x: max(x, key=x.get) if len(x)>=1 else \"\")\n",
    "preds_df[\"result\"].value_counts()"
   ]
  },
  {
   "cell_type": "code",
   "execution_count": 137,
   "metadata": {
    "colab": {
     "base_uri": "https://localhost:8080/"
    },
    "executionInfo": {
     "elapsed": 27,
     "status": "ok",
     "timestamp": 1689689997568,
     "user": {
      "displayName": "Ahmet Mesut BİROL",
      "userId": "04340760882990254267"
     },
     "user_tz": -180
    },
    "id": "8F9FcFBN90Iv",
    "outputId": "c86d3066-452f-4f09-c839-bd04953d25ba",
    "tags": []
   },
   "outputs": [
    {
     "name": "stdout",
     "output_type": "stream",
     "text": [
      "              precision    recall  f1-score   support\n",
      "\n",
      "         neg       0.89      0.91      0.90      1019\n",
      "         pos       0.76      0.70      0.73       399\n",
      "\n",
      "    accuracy                           0.86      1418\n",
      "   macro avg       0.83      0.81      0.82      1418\n",
      "weighted avg       0.85      0.86      0.85      1418\n"
     ]
    }
   ],
   "source": [
    "print (classification_report(preds_df[\"category\"], preds_df[\"result\"]))"
   ]
  },
  {
   "cell_type": "code",
   "execution_count": 138,
   "metadata": {
    "id": "BgQWTFwnZPCj",
    "tags": []
   },
   "outputs": [
    {
     "name": "stdout",
     "output_type": "stream",
     "text": [
      "\n"
     ]
    }
   ],
   "source": [
    "res = classification_report(preds_df[\"category\"], preds_df[\"result\"], output_dict=True)\n",
    "results_df.loc[\"MultiClassifierDL_200d\"] = [res[\"pos\"][\"f1-score\"], res[\"accuracy\"]]"
   ]
  },
  {
   "cell_type": "markdown",
   "metadata": {
    "id": "lwu69bczvDRL"
   },
   "source": [
    "### Generic Classifier"
   ]
  },
  {
   "cell_type": "code",
   "execution_count": 139,
   "metadata": {
    "id": "YTuqFVXKvDRL",
    "tags": []
   },
   "outputs": [
    {
     "name": "stdout",
     "output_type": "stream",
     "text": [
      "\n"
     ]
    }
   ],
   "source": [
    "from sparknlp_jsl.annotator import TFGraphBuilder\n",
    "\n",
    "graph_folder = \"gc_graph\"\n",
    "\n",
    "gc_graph_builder = TFGraphBuilder()\\\n",
    "    .setModelName(\"generic_classifier\")\\\n",
    "    .setInputCols([\"features\"])\\\n",
    "    .setLabelColumn(\"category\")\\\n",
    "    .setHiddenLayers([300,200, 50])\\\n",
    "    .setHiddenAct(\"tanh\")\\\n",
    "    .setHiddenActL2(True)\\\n",
    "    .setBatchNorm(True)\\\n",
    "    .setGraphFolder(graph_folder)\\\n",
    "    .setGraphFile(\"gcf_graph_200d.pb\")"
   ]
  },
  {
   "cell_type": "code",
   "execution_count": 140,
   "metadata": {
    "id": "Acx95To9vDRL",
    "tags": []
   },
   "outputs": [
    {
     "name": "stdout",
     "output_type": "stream",
     "text": [
      "\n"
     ]
    }
   ],
   "source": [
    "features_asm = FeaturesAssembler()\\\n",
    "    .setInputCols([\"sentence_embeddings\"])\\\n",
    "    .setOutputCol(\"features\")\n",
    "\n",
    "gen_clf = GenericClassifierApproach()\\\n",
    "    .setLabelColumn(\"category\")\\\n",
    "    .setInputCols(\"features\")\\\n",
    "    .setOutputCol(\"prediction\")\\\n",
    "    .setModelFile(f\"{graph_folder}/gcf_graph_200d.pb\")\\\n",
    "    .setEpochsNumber(40)\\\n",
    "    .setBatchSize(16)\\\n",
    "    .setLearningRate(0.001)\\\n",
    "    .setOutputLogsPath(log_folder)\\\n",
    "    .setDropout(0.5)\\\n",
    "    .setFixImbalance(True)\\\n",
    "    # .setValidationSplit(0.1)\n",
    "\n",
    "clf_Pipeline = Pipeline(stages=[\n",
    "    features_asm,\n",
    "    gc_graph_builder,\n",
    "    gen_clf])\n"
   ]
  },
  {
   "cell_type": "code",
   "execution_count": 141,
   "metadata": {
    "colab": {
     "base_uri": "https://localhost:8080/"
    },
    "executionInfo": {
     "elapsed": 26110,
     "status": "ok",
     "timestamp": 1689690023659,
     "user": {
      "displayName": "Ahmet Mesut BİROL",
      "userId": "04340760882990254267"
     },
     "user_tz": -180
    },
    "id": "07qsryq3vDRL",
    "outputId": "719365d5-7b29-457d-e287-42508ea31349",
    "tags": []
   },
   "outputs": [
    {
     "name": "stdout",
     "output_type": "stream",
     "text": [
      "TF Graph Builder configuration:\n",
      "Model name: generic_classifier\n",
      "Graph folder: gc_graph\n",
      "Graph file name: gcf_graph_200d.pb\n",
      "Build params: {'input_dim': 200, 'output_dim': 2, 'hidden_layers': [300, 200, 50], 'hidden_act': 'tanh', 'hidden_act_l2': True, 'batch_norm': True}\n",
      "generic_classifier graph exported to gc_graph/gcf_graph_200d.pb\n"
     ]
    }
   ],
   "source": [
    "generic_model_hc200 = clf_Pipeline.fit(trainingData_with_embeddings)"
   ]
  },
  {
   "cell_type": "code",
   "execution_count": 142,
   "metadata": {
    "colab": {
     "base_uri": "https://localhost:8080/"
    },
    "executionInfo": {
     "elapsed": 1573,
     "status": "ok",
     "timestamp": 1689690025214,
     "user": {
      "displayName": "Ahmet Mesut BİROL",
      "userId": "04340760882990254267"
     },
     "user_tz": -180
    },
    "id": "WahobkK8vDRL",
    "outputId": "2b89564e-7d0a-44a5-f955-7a14de206af1",
    "tags": []
   },
   "outputs": [
    {
     "name": "stdout",
     "output_type": "stream",
     "text": [
      "              precision    recall  f1-score   support\n",
      "\n",
      "         neg       0.95      0.75      0.84      1019\n",
      "         pos       0.58      0.90      0.71       399\n",
      "\n",
      "    accuracy                           0.79      1418\n",
      "   macro avg       0.77      0.83      0.77      1418\n",
      "weighted avg       0.85      0.79      0.80      1418\n"
     ]
    }
   ],
   "source": [
    "pred_df = generic_model_hc200.transform(testData_with_embeddings)\n",
    "\n",
    "preds_df = pred_df.select('category','prediction.result').toPandas()\n",
    "preds_df['result'] = preds_df.result.apply(lambda x : x[0])\n",
    "\n",
    "print (classification_report(preds_df['category'], preds_df['result']))"
   ]
  },
  {
   "cell_type": "code",
   "execution_count": 143,
   "metadata": {
    "id": "T9LlNgGzZXPx",
    "tags": []
   },
   "outputs": [
    {
     "name": "stdout",
     "output_type": "stream",
     "text": [
      "\n"
     ]
    }
   ],
   "source": [
    "res = classification_report(preds_df[\"category\"], preds_df[\"result\"], output_dict=True)\n",
    "results_df.loc[\"GenericClassifier_200d\"] = [res[\"pos\"][\"f1-score\"], res[\"accuracy\"]]"
   ]
  },
  {
   "cell_type": "markdown",
   "metadata": {
    "id": "MqvORol0XIG-"
   },
   "source": [
    "### GenericLogRegClassifier"
   ]
  },
  {
   "cell_type": "code",
   "execution_count": 144,
   "metadata": {
    "id": "S7Ms5F5hXIG_",
    "tags": []
   },
   "outputs": [
    {
     "name": "stdout",
     "output_type": "stream",
     "text": [
      "\n"
     ]
    }
   ],
   "source": [
    "from sparknlp_jsl.annotator import TFGraphBuilder\n",
    "\n",
    "graph_folder = \"gc_graph\"\n",
    "\n",
    "gc_logreg_graph_builder = TFGraphBuilder()\\\n",
    "    .setModelName(\"logreg_classifier\")\\\n",
    "    .setInputCols([\"feature_vector\"]) \\\n",
    "    .setLabelColumn(\"category\")\\\n",
    "    .setGraphFolder(graph_folder)\\\n",
    "    .setGraphFile(\"log_reg_graph.pb\")"
   ]
  },
  {
   "cell_type": "markdown",
   "metadata": {
    "id": "xUGr1BJJXIG_"
   },
   "source": [
    "GenericLogRegClassifier needs outputs from FeaturesAssembler. The FeaturesAssembler is used to collect features from different columns or an embeddings column.\n",
    "\n",
    "The GenericLogRegClassifier takes FEATURE_VECTOR annotations as input, classifies them and outputs CATEGORY annotations."
   ]
  },
  {
   "cell_type": "code",
   "execution_count": 145,
   "metadata": {
    "id": "yuItEMF0XIG_",
    "tags": []
   },
   "outputs": [
    {
     "name": "stdout",
     "output_type": "stream",
     "text": [
      "\n"
     ]
    }
   ],
   "source": [
    "features_asm = FeaturesAssembler()\\\n",
    "    .setInputCols([\"sentence_embeddings\"])\\\n",
    "    .setOutputCol(\"feature_vector\")\n",
    "\n",
    "gen_clf = GenericLogRegClassifierApproach()\\\n",
    "    .setLabelColumn(\"category\")\\\n",
    "    .setInputCols(\"feature_vector\")\\\n",
    "    .setOutputCol(\"prediction\")\\\n",
    "    .setModelFile(f\"{graph_folder}/log_reg_graph.pb\")\\\n",
    "    .setEpochsNumber(20)\\\n",
    "    .setBatchSize(128)\\\n",
    "    .setLearningRate(0.01)\\\n",
    "    .setOutputLogsPath(log_folder)\\\n",
    "    .setDropout(0.1)\\\n",
    "    .setFixImbalance(True)\\\n",
    "    # .setValidationSplit(0.1)\n",
    "\n",
    "clf_Pipeline = Pipeline(stages=[\n",
    "    features_asm,\n",
    "    gc_logreg_graph_builder,\n",
    "    gen_clf])\n"
   ]
  },
  {
   "cell_type": "code",
   "execution_count": 146,
   "metadata": {
    "colab": {
     "base_uri": "https://localhost:8080/"
    },
    "executionInfo": {
     "elapsed": 3680,
     "status": "ok",
     "timestamp": 1689690028891,
     "user": {
      "displayName": "Ahmet Mesut BİROL",
      "userId": "04340760882990254267"
     },
     "user_tz": -180
    },
    "id": "MWTfnlebXIG_",
    "outputId": "79d6b5a1-8b42-4904-fca8-23408a4a1845",
    "tags": []
   },
   "outputs": [
    {
     "name": "stdout",
     "output_type": "stream",
     "text": [
      "TF Graph Builder configuration:\n",
      "Model name: logreg_classifier\n",
      "Graph folder: gc_graph\n",
      "Graph file name: log_reg_graph.pb\n",
      "Build params: {'input_dim': 200, 'output_dim': 2, 'hidden_layers': [], 'output_act': 'sigmoid'}\n",
      "logreg_classifier graph exported to gc_graph/log_reg_graph.pb\n"
     ]
    }
   ],
   "source": [
    "generic_model_hc200 = clf_Pipeline.fit(trainingData_with_embeddings)"
   ]
  },
  {
   "cell_type": "code",
   "execution_count": 147,
   "metadata": {
    "id": "ORF9ZLKgXIG_",
    "tags": []
   },
   "outputs": [
    {
     "name": "stdout",
     "output_type": "stream",
     "text": [
      "\n"
     ]
    }
   ],
   "source": [
    "pred_df = generic_model_hc200.transform(testData_with_embeddings)"
   ]
  },
  {
   "cell_type": "code",
   "execution_count": 148,
   "metadata": {
    "colab": {
     "base_uri": "https://localhost:8080/"
    },
    "executionInfo": {
     "elapsed": 447,
     "status": "ok",
     "timestamp": 1689690030092,
     "user": {
      "displayName": "Ahmet Mesut BİROL",
      "userId": "04340760882990254267"
     },
     "user_tz": -180
    },
    "id": "d1By23e1XIHA",
    "outputId": "1137ecbb-0fba-49aa-9c88-d311bcb349e8",
    "tags": []
   },
   "outputs": [
    {
     "name": "stdout",
     "output_type": "stream",
     "text": [
      "              precision    recall  f1-score   support\n",
      "\n",
      "         neg       0.83      0.93      0.88      1019\n",
      "         pos       0.75      0.51      0.60       399\n",
      "\n",
      "    accuracy                           0.81      1418\n",
      "   macro avg       0.79      0.72      0.74      1418\n",
      "weighted avg       0.81      0.81      0.80      1418\n"
     ]
    }
   ],
   "source": [
    "preds_df = pred_df.select('category','prediction.result').toPandas()\n",
    "preds_df['result'] = preds_df.result.apply(lambda x : x[0])\n",
    "\n",
    "print (classification_report(preds_df['category'], preds_df['result']))"
   ]
  },
  {
   "cell_type": "code",
   "execution_count": 149,
   "metadata": {
    "id": "ap1IMd7vZv68",
    "tags": []
   },
   "outputs": [
    {
     "name": "stdout",
     "output_type": "stream",
     "text": [
      "\n"
     ]
    }
   ],
   "source": [
    "res = classification_report(preds_df[\"category\"], preds_df[\"result\"], output_dict=True)\n",
    "results_df.loc[\"GenericLogReg_200d\"] = [res[\"pos\"][\"f1-score\"], res[\"accuracy\"]]"
   ]
  },
  {
   "cell_type": "markdown",
   "metadata": {
    "id": "A4fphEjMXV7W"
   },
   "source": [
    "### GenericSVMClassifier"
   ]
  },
  {
   "cell_type": "code",
   "execution_count": 150,
   "metadata": {
    "id": "WWViS8s6XV7X",
    "tags": []
   },
   "outputs": [
    {
     "name": "stdout",
     "output_type": "stream",
     "text": [
      "\n"
     ]
    }
   ],
   "source": [
    "from sparknlp_jsl.annotator import TFGraphBuilder\n",
    "\n",
    "graph_folder = \"gc_graph\"\n",
    "\n",
    "gc_svm_graph_builder = TFGraphBuilder()\\\n",
    "    .setModelName(\"svm_classifier\")\\\n",
    "    .setInputCols([\"feature_vector\"]) \\\n",
    "    .setLabelColumn(\"category\")\\\n",
    "    .setGraphFolder(graph_folder)\\\n",
    "    .setGraphFile(\"svm_graph.pb\")"
   ]
  },
  {
   "cell_type": "markdown",
   "metadata": {
    "id": "JcM7VyV7XV7X"
   },
   "source": [
    "GenericSVMClassifier needs outputs from FeaturesAssembler. The FeaturesAssembler is used to collect features from different columns or an embeddings column.\n",
    "\n",
    "The GenericSVMClassifier takes FEATURE_VECTOR annotations as input, classifies them and outputs CATEGORY annotations."
   ]
  },
  {
   "cell_type": "code",
   "execution_count": 151,
   "metadata": {
    "id": "px8t14s8XV7X",
    "tags": []
   },
   "outputs": [
    {
     "name": "stdout",
     "output_type": "stream",
     "text": [
      "\n"
     ]
    }
   ],
   "source": [
    "features_asm = FeaturesAssembler()\\\n",
    "    .setInputCols([\"sentence_embeddings\"])\\\n",
    "    .setOutputCol(\"feature_vector\")\n",
    "\n",
    "gen_clf = GenericSVMClassifierApproach()\\\n",
    "    .setLabelColumn(\"category\")\\\n",
    "    .setInputCols(\"feature_vector\")\\\n",
    "    .setOutputCol(\"prediction\")\\\n",
    "    .setModelFile(f\"{graph_folder}/svm_graph.pb\")\\\n",
    "    .setEpochsNumber(20)\\\n",
    "    .setBatchSize(128)\\\n",
    "    .setLearningRate(0.005)\\\n",
    "    .setOutputLogsPath(log_folder)\\\n",
    "    .setDropout(0.1)\\\n",
    "    .setFixImbalance(True)\\\n",
    "    # .setValidationSplit(0.1)\n",
    "\n",
    "clf_Pipeline = Pipeline(stages=[\n",
    "    features_asm,\n",
    "    gc_svm_graph_builder,\n",
    "    gen_clf])\n"
   ]
  },
  {
   "cell_type": "code",
   "execution_count": 152,
   "metadata": {
    "colab": {
     "base_uri": "https://localhost:8080/"
    },
    "executionInfo": {
     "elapsed": 3634,
     "status": "ok",
     "timestamp": 1689690034075,
     "user": {
      "displayName": "Ahmet Mesut BİROL",
      "userId": "04340760882990254267"
     },
     "user_tz": -180
    },
    "id": "QHi6KIMSXV7X",
    "outputId": "f98fc473-3cd5-4add-8e8d-ce577f55ff97",
    "tags": []
   },
   "outputs": [
    {
     "name": "stdout",
     "output_type": "stream",
     "text": [
      "TF Graph Builder configuration:\n",
      "Model name: svm_classifier\n",
      "Graph folder: gc_graph\n",
      "Graph file name: svm_graph.pb\n",
      "Build params: {'input_dim': 200, 'output_dim': 2, 'hidden_layers': [], 'output_act': 'sigmoid', 'loss_func': 'hinge'}\n",
      "svm_classifier graph exported to gc_graph/svm_graph.pb\n"
     ]
    }
   ],
   "source": [
    "generic_model_hc200 = clf_Pipeline.fit(trainingData_with_embeddings)"
   ]
  },
  {
   "cell_type": "code",
   "execution_count": 153,
   "metadata": {
    "id": "JFhqwwIAXV7X",
    "tags": []
   },
   "outputs": [
    {
     "name": "stdout",
     "output_type": "stream",
     "text": [
      "\n"
     ]
    }
   ],
   "source": [
    "pred_df = generic_model_hc200.transform(testData_with_embeddings)"
   ]
  },
  {
   "cell_type": "code",
   "execution_count": 154,
   "metadata": {
    "colab": {
     "base_uri": "https://localhost:8080/"
    },
    "executionInfo": {
     "elapsed": 746,
     "status": "ok",
     "timestamp": 1689690035260,
     "user": {
      "displayName": "Ahmet Mesut BİROL",
      "userId": "04340760882990254267"
     },
     "user_tz": -180
    },
    "id": "8so1Xnn9XV7Y",
    "outputId": "b64ab92a-ab51-4730-f967-55fc52fdac8a",
    "tags": []
   },
   "outputs": [
    {
     "name": "stdout",
     "output_type": "stream",
     "text": [
      "              precision    recall  f1-score   support\n",
      "\n",
      "         neg       0.83      0.92      0.87      1019\n",
      "         pos       0.72      0.51      0.59       399\n",
      "\n",
      "    accuracy                           0.81      1418\n",
      "   macro avg       0.77      0.71      0.73      1418\n",
      "weighted avg       0.80      0.81      0.79      1418\n"
     ]
    }
   ],
   "source": [
    "preds_df = pred_df.select('category','prediction.result').toPandas()\n",
    "preds_df['result'] = preds_df.result.apply(lambda x : x[0])\n",
    "\n",
    "print (classification_report(preds_df['category'], preds_df['result']))"
   ]
  },
  {
   "cell_type": "code",
   "execution_count": 155,
   "metadata": {
    "id": "tEckv_26Z9An",
    "tags": []
   },
   "outputs": [
    {
     "name": "stdout",
     "output_type": "stream",
     "text": [
      "\n"
     ]
    }
   ],
   "source": [
    "res = classification_report(preds_df[\"category\"], preds_df[\"result\"], output_dict=True)\n",
    "results_df.loc[\"GenericSVM_200d\"] = [res[\"pos\"][\"f1-score\"], res[\"accuracy\"]]"
   ]
  },
  {
   "cell_type": "markdown",
   "metadata": {
    "id": "HToBQLkiOHDp"
   },
   "source": [
    "## Bert Sentence Embeddings (sbiobert_base_cased_mli)"
   ]
  },
  {
   "cell_type": "markdown",
   "metadata": {
    "id": "GBpfp09tTedK"
   },
   "source": [
    "Now we will extract [sbiobert_base_cased_mli](https://nlp.johnsnowlabs.com/2020/11/27/sbiobert_base_cased_mli_en.html) embeddings which has 768 dimension output and use this embeddings in the model training."
   ]
  },
  {
   "cell_type": "code",
   "execution_count": 156,
   "metadata": {
    "colab": {
     "base_uri": "https://localhost:8080/"
    },
    "executionInfo": {
     "elapsed": 28190,
     "status": "ok",
     "timestamp": 1689690063448,
     "user": {
      "displayName": "Ahmet Mesut BİROL",
      "userId": "04340760882990254267"
     },
     "user_tz": -180
    },
    "id": "eCfAkAC7podJ",
    "outputId": "cfaa0d02-21d9-4bde-e6ee-6a21f695b2b7",
    "tags": []
   },
   "outputs": [
    {
     "name": "stdout",
     "output_type": "stream",
     "text": [
      "sbiobert_base_cased_mli download started this may take some time.\n",
      "Approximate size to download 384.3 MB\n",
      "[OK!]\n"
     ]
    }
   ],
   "source": [
    "document_assembler = DocumentAssembler()\\\n",
    "    .setInputCol(\"text\")\\\n",
    "    .setOutputCol(\"document\")\n",
    "\n",
    "bert_sent = BertSentenceEmbeddings.pretrained(\"sbiobert_base_cased_mli\", 'en','clinical/models')\\\n",
    "    .setInputCols([\"document\"])\\\n",
    "    .setOutputCol(\"sentence_embeddings\")\n",
    "\n",
    "embeddings_pipeline = Pipeline(\n",
    "    stages = [document_assembler,\n",
    "              bert_sent])"
   ]
  },
  {
   "cell_type": "code",
   "execution_count": 157,
   "metadata": {
    "colab": {
     "base_uri": "https://localhost:8080/"
    },
    "executionInfo": {
     "elapsed": 885,
     "status": "ok",
     "timestamp": 1689690064330,
     "user": {
      "displayName": "Ahmet Mesut BİROL",
      "userId": "04340760882990254267"
     },
     "user_tz": -180
    },
    "id": "PbcLStVLpoaN",
    "outputId": "51ffd3f4-4543-410e-d369-1f4e1ede2356",
    "tags": []
   },
   "outputs": [
    {
     "name": "stdout",
     "output_type": "stream",
     "text": [
      "+------------------------------------------------------------+--------+------------------------------------------------------------+\n",
      "|                                                        text|category|                                         sentence_embeddings|\n",
      "+------------------------------------------------------------+--------+------------------------------------------------------------+\n",
      "| (4) The acute rehabilitation of a 21-year-old woman with...|     neg|[{sentence_embeddings, 0, 182,  (4) The acute rehabilitat...|\n",
      "| A 16-year-old girl with erosive, polyarticular JRA showe...|     neg|[{sentence_embeddings, 0, 129,  A 16-year-old girl with e...|\n",
      "+------------------------------------------------------------+--------+------------------------------------------------------------+\n",
      "only showing top 2 rows\n"
     ]
    }
   ],
   "source": [
    "trainingData_with_embeddings = embeddings_pipeline.fit(trainingData).transform(trainingData)\\\n",
    "                                                  .select(\"text\",\"category\",\"sentence_embeddings\")\n",
    "\n",
    "trainingData_with_embeddings.show(2,truncate=60)"
   ]
  },
  {
   "cell_type": "code",
   "execution_count": 158,
   "metadata": {
    "colab": {
     "base_uri": "https://localhost:8080/"
    },
    "executionInfo": {
     "elapsed": 440,
     "status": "ok",
     "timestamp": 1689690064764,
     "user": {
      "displayName": "Ahmet Mesut BİROL",
      "userId": "04340760882990254267"
     },
     "user_tz": -180
    },
    "id": "qoby-bTzpoYQ",
    "outputId": "efc85c6a-a761-4ee3-8503-67dbe3859671",
    "tags": []
   },
   "outputs": [
    {
     "name": "stdout",
     "output_type": "stream",
     "text": [
      "+------------------------------------------------------------+--------+------------------------------------------------------------+\n",
      "|                                                        text|category|                                         sentence_embeddings|\n",
      "+------------------------------------------------------------+--------+------------------------------------------------------------+\n",
      "| A 51-year-old-woman presented with chronic eosinophilia,...|     neg|[{sentence_embeddings, 0, 139,  A 51-year-old-woman prese...|\n",
      "| Acute pleuropericarditis relevant to post-cardiac injury...|     neg|[{sentence_embeddings, 0, 160,  Acute pleuropericarditis ...|\n",
      "+------------------------------------------------------------+--------+------------------------------------------------------------+\n",
      "only showing top 2 rows\n"
     ]
    }
   ],
   "source": [
    "testData_with_embeddings = embeddings_pipeline.fit(testData).transform(testData)\\\n",
    "                                                  .select(\"text\",\"category\",\"sentence_embeddings\")\n",
    "\n",
    "testData_with_embeddings.show(2,truncate=60)"
   ]
  },
  {
   "cell_type": "code",
   "execution_count": 159,
   "metadata": {
    "id": "_EetBOQUpoWQ",
    "tags": []
   },
   "outputs": [
    {
     "name": "stdout",
     "output_type": "stream",
     "text": [
      "\n"
     ]
    }
   ],
   "source": [
    "log_folder=\"ADE_logs_bert\""
   ]
  },
  {
   "cell_type": "markdown",
   "metadata": {
    "id": "289YUVX7yGE1"
   },
   "source": [
    "### ClassifierDL"
   ]
  },
  {
   "cell_type": "code",
   "execution_count": 160,
   "metadata": {
    "id": "ZzCU998wyGE2",
    "tags": []
   },
   "outputs": [
    {
     "name": "stdout",
     "output_type": "stream",
     "text": [
      "\n"
     ]
    }
   ],
   "source": [
    "classifier_dl = ClassifierDLApproach()\\\n",
    "        .setInputCols([\"sentence_embeddings\"])\\\n",
    "        .setOutputCol(\"class\")\\\n",
    "        .setLabelColumn(\"category\")\\\n",
    "        .setBatchSize(32)\\\n",
    "        .setMaxEpochs(20)\\\n",
    "        .setLr(0.001)\\\n",
    "        .setDropout(0.3)\\\n",
    "        .setEnableOutputLogs(True)\\\n",
    "        .setOutputLogsPath(log_folder)\n",
    "\n",
    "classifier_dl_pipeline = Pipeline(stages=[classifier_dl])"
   ]
  },
  {
   "cell_type": "code",
   "execution_count": 161,
   "metadata": {
    "id": "AnpZcIyPyGE2",
    "tags": []
   },
   "outputs": [
    {
     "name": "stdout",
     "output_type": "stream",
     "text": [
      "\n"
     ]
    }
   ],
   "source": [
    "clfDL_model_bert = classifier_dl_pipeline.fit(trainingData_with_embeddings)"
   ]
  },
  {
   "cell_type": "code",
   "execution_count": 164,
   "metadata": {
    "tags": []
   },
   "outputs": [
    {
     "name": "stdout",
     "output_type": "stream",
     "text": [
      "['ClassifierDLApproach_1f28ca04dfe3.log']\n",
      "Training started - epochs: 20 - learning_rate: 0.001 - batch_size: 32 - training_examples: 5555 - classes: 2\n",
      "Epoch 0/20 - 1.09s - loss: 103.78765 - acc: 0.7070562 - batches: 174\n",
      "Epoch 1/20 - 0.58s - loss: 103.50767 - acc: 0.7074175 - batches: 174\n",
      "Epoch 2/20 - 0.57s - loss: 103.50767 - acc: 0.7074175 - batches: 174\n",
      "Epoch 3/20 - 0.58s - loss: 103.50767 - acc: 0.7074175 - batches: 174\n",
      "Epoch 4/20 - 0.57s - loss: 103.50767 - acc: 0.7074175 - batches: 174\n",
      "Epoch 5/20 - 0.58s - loss: 103.50767 - acc: 0.7074175 - batches: 174\n",
      "Epoch 6/20 - 0.58s - loss: 103.50767 - acc: 0.7074175 - batches: 174\n",
      "Epoch 7/20 - 0.58s - loss: 103.50767 - acc: 0.7074175 - batches: 174\n",
      "Epoch 8/20 - 0.58s - loss: 103.50767 - acc: 0.7074175 - batches: 174\n",
      "Epoch 9/20 - 0.58s - loss: 103.50767 - acc: 0.7074175 - batches: 174\n",
      "Epoch 10/20 - 0.58s - loss: 103.50767 - acc: 0.7074175 - batches: 174\n",
      "Epoch 11/20 - 0.57s - loss: 103.50767 - acc: 0.7074175 - batches: 174\n",
      "Epoch 12/20 - 0.57s - loss: 103.50767 - acc: 0.7074175 - batches: 174\n",
      "Epoch 13/20 - 0.57s - loss: 103.50767 - acc: 0.7074175 - batches: 174\n",
      "Epoch 14/20 - 0.57s - loss: 103.50767 - acc: 0.7074175 - batches: 174\n",
      "Epoch 15/20 - 0.58s - loss: 103.50767 - acc: 0.7074175 - batches: 174\n",
      "Epoch 16/20 - 0.57s - loss: 103.50767 - acc: 0.7074175 - batches: 174\n",
      "Epoch 17/20 - 0.57s - loss: 103.50767 - acc: 0.7074175 - batches: 174\n",
      "Epoch 18/20 - 0.57s - loss: 103.50767 - acc: 0.7074175 - batches: 174\n",
      "Epoch 19/20 - 0.57s - loss: 103.50767 - acc: 0.7074175 - batches: 174\n"
     ]
    }
   ],
   "source": [
    "import os\n",
    "\n",
    "log_files = os.listdir(\"./ADE_logs_bert\")\n",
    "print(log_files)\n",
    "\n",
    "with open(\"./ADE_logs_bert/\"+log_files[-1]) as log_file:  #choose the index of the *.log file  starting with GenericSVMClassifierApproach\n",
    "    print(log_file.read())"
   ]
  },
  {
   "cell_type": "code",
   "execution_count": 162,
   "metadata": {
    "colab": {
     "base_uri": "https://localhost:8080/"
    },
    "executionInfo": {
     "elapsed": 28416,
     "status": "ok",
     "timestamp": 1689690313424,
     "user": {
      "displayName": "Ahmet Mesut BİROL",
      "userId": "04340760882990254267"
     },
     "user_tz": -180
    },
    "id": "WTekTE0kyGE2",
    "outputId": "c116c7fa-87ab-42fe-9d18-8c2ede3719fe",
    "tags": []
   },
   "outputs": [
    {
     "name": "stdout",
     "output_type": "stream",
     "text": [
      "              precision    recall  f1-score   support\n",
      "\n",
      "         neg       0.72      1.00      0.84      1019\n",
      "         pos       0.00      0.00      0.00       399\n",
      "\n",
      "    accuracy                           0.72      1418\n",
      "   macro avg       0.36      0.50      0.42      1418\n",
      "weighted avg       0.52      0.72      0.60      1418\n"
     ]
    }
   ],
   "source": [
    "preds = clfDL_model_bert.transform(testData_with_embeddings)\n",
    "\n",
    "preds_df = preds.select(\"category\",\"text\",\"class.result\").toPandas()\n",
    "preds_df[\"result\"] = preds_df[\"result\"].apply(lambda x : x[0])\n",
    "\n",
    "print (classification_report(preds_df[\"category\"], preds_df[\"result\"]))"
   ]
  },
  {
   "cell_type": "code",
   "execution_count": 163,
   "metadata": {
    "id": "amtaukRqajcV",
    "tags": []
   },
   "outputs": [
    {
     "name": "stdout",
     "output_type": "stream",
     "text": [
      "\n"
     ]
    }
   ],
   "source": [
    "res = classification_report(preds_df[\"category\"], preds_df[\"result\"], output_dict=True)\n",
    "results_df.loc[\"ClassifierDL_bert\"] = [res[\"pos\"][\"f1-score\"], res[\"accuracy\"]]"
   ]
  },
  {
   "cell_type": "markdown",
   "metadata": {
    "id": "rGyp2ylnT7qq"
   },
   "source": [
    "### MultiClassifierDL"
   ]
  },
  {
   "cell_type": "code",
   "execution_count": 165,
   "metadata": {
    "id": "rgc8eN32T7qq",
    "tags": []
   },
   "outputs": [
    {
     "name": "stdout",
     "output_type": "stream",
     "text": [
      "\n"
     ]
    }
   ],
   "source": [
    "# MultiClassifierDL accepts list of strings as input label. So we convert label column to array type.\n",
    "trainingData_with_embeddings = trainingData_with_embeddings.withColumn(\"category_array\", F.array(F.col(\"category\")))\n",
    "testData_with_embeddings = testData_with_embeddings.withColumn(\"category_array\", F.array(F.col(\"category\")))"
   ]
  },
  {
   "cell_type": "code",
   "execution_count": 166,
   "metadata": {
    "id": "VNSQp8iyT7qr",
    "tags": []
   },
   "outputs": [
    {
     "name": "stdout",
     "output_type": "stream",
     "text": [
      "\n"
     ]
    }
   ],
   "source": [
    "multiClassifier = MultiClassifierDLApproach()\\\n",
    "  .setInputCols(\"sentence_embeddings\")\\\n",
    "  .setOutputCol(\"prediction\")\\\n",
    "  .setLabelColumn(\"category_array\")\\\n",
    "  .setBatchSize(32)\\\n",
    "  .setMaxEpochs(20)\\\n",
    "  .setLr(9e-3)\\\n",
    "  .setThreshold(0.5)\\\n",
    "  .setShufflePerEpoch(False)\\\n",
    "  .setEnableOutputLogs(True)\\\n",
    "  .setOutputLogsPath(log_folder)\\\n",
    "#   .setValidationSplit(0.1)\n",
    "\n",
    "multiClassifier_pipeline = Pipeline(\n",
    "    stages = [\n",
    "        multiClassifier\n",
    "    ])"
   ]
  },
  {
   "cell_type": "code",
   "execution_count": 167,
   "metadata": {
    "id": "2KuFBI44T7qr",
    "tags": []
   },
   "outputs": [
    {
     "name": "stdout",
     "output_type": "stream",
     "text": [
      "\n"
     ]
    }
   ],
   "source": [
    "multiClassifier_model_bert = multiClassifier_pipeline.fit(trainingData_with_embeddings)"
   ]
  },
  {
   "cell_type": "code",
   "execution_count": 168,
   "metadata": {
    "id": "WF1cSwJrT7qr",
    "tags": []
   },
   "outputs": [
    {
     "name": "stdout",
     "output_type": "stream",
     "text": [
      "\n"
     ]
    }
   ],
   "source": [
    "preds = multiClassifier_model_bert.transform(testData_with_embeddings)"
   ]
  },
  {
   "cell_type": "code",
   "execution_count": 169,
   "metadata": {
    "colab": {
     "base_uri": "https://localhost:8080/"
    },
    "executionInfo": {
     "elapsed": 44001,
     "status": "ok",
     "timestamp": 1689690623380,
     "user": {
      "displayName": "Ahmet Mesut BİROL",
      "userId": "04340760882990254267"
     },
     "user_tz": -180
    },
    "id": "DAMLtlVsT7qr",
    "outputId": "d30df769-d482-425a-d195-eb5df56e6054",
    "tags": []
   },
   "outputs": [
    {
     "name": "stdout",
     "output_type": "stream",
     "text": [
      "['neg']           1046\n",
      "['pos']            371\n",
      "['neg', 'pos']       1\n",
      "Name: result, dtype: int64\n"
     ]
    }
   ],
   "source": [
    "preds_df = preds.select(\"category\",\"text\",\"prediction.result\",\"prediction.metadata\").toPandas()\n",
    "preds_df.result.apply(lambda x: str(x) ).value_counts()"
   ]
  },
  {
   "cell_type": "code",
   "execution_count": 170,
   "metadata": {
    "colab": {
     "base_uri": "https://localhost:8080/"
    },
    "executionInfo": {
     "elapsed": 20,
     "status": "ok",
     "timestamp": 1689690623380,
     "user": {
      "displayName": "Ahmet Mesut BİROL",
      "userId": "04340760882990254267"
     },
     "user_tz": -180
    },
    "id": "HcZ7OAaYT7qr",
    "outputId": "503bc3b2-031e-4b06-d5ff-8bdb54e960ed",
    "tags": []
   },
   "outputs": [
    {
     "name": "stdout",
     "output_type": "stream",
     "text": [
      "neg    1047\n",
      "pos     371\n",
      "Name: result, dtype: int64\n"
     ]
    }
   ],
   "source": [
    "# We will get the highest score label as result. You can control the number of zero label results with setThreshold() in the training.\n",
    "preds_df[\"scores\"] = preds_df.metadata.apply(lambda x: {k:float(v) for k,v in x[0].items()} if len(x)>=1 else \"\")\n",
    "preds_df[\"result\"] = preds_df.scores.apply(lambda x: max(x, key=x.get) if len(x)>=1 else \"\")\n",
    "preds_df = preds_df[(preds_df[\"result\"]!=\"\")]\n",
    "preds_df[\"result\"].value_counts()"
   ]
  },
  {
   "cell_type": "code",
   "execution_count": 171,
   "metadata": {
    "colab": {
     "base_uri": "https://localhost:8080/"
    },
    "executionInfo": {
     "elapsed": 14,
     "status": "ok",
     "timestamp": 1689690623381,
     "user": {
      "displayName": "Ahmet Mesut BİROL",
      "userId": "04340760882990254267"
     },
     "user_tz": -180
    },
    "id": "Crbnvw7GT7qr",
    "outputId": "ef0cd2da-d9e7-45fd-d98e-fef20057efdb",
    "tags": []
   },
   "outputs": [
    {
     "name": "stdout",
     "output_type": "stream",
     "text": [
      "              precision    recall  f1-score   support\n",
      "\n",
      "         neg       0.91      0.93      0.92      1019\n",
      "         pos       0.81      0.75      0.78       399\n",
      "\n",
      "    accuracy                           0.88      1418\n",
      "   macro avg       0.86      0.84      0.85      1418\n",
      "weighted avg       0.88      0.88      0.88      1418\n"
     ]
    }
   ],
   "source": [
    "print (classification_report(preds_df[\"category\"], preds_df[\"result\"]))"
   ]
  },
  {
   "cell_type": "code",
   "execution_count": 172,
   "metadata": {
    "id": "lVjY4TP0axQz",
    "tags": []
   },
   "outputs": [
    {
     "name": "stdout",
     "output_type": "stream",
     "text": [
      "\n"
     ]
    }
   ],
   "source": [
    "res = classification_report(preds_df[\"category\"], preds_df[\"result\"], output_dict=True)\n",
    "results_df.loc[\"MultiClassifierDL_bert\"] = [res[\"pos\"][\"f1-score\"], res[\"accuracy\"]]"
   ]
  },
  {
   "cell_type": "markdown",
   "metadata": {
    "id": "Y4hlGSE9yGE3"
   },
   "source": [
    "### Generic Classifier"
   ]
  },
  {
   "cell_type": "code",
   "execution_count": 173,
   "metadata": {
    "id": "yNSz6-FbyGE3",
    "tags": []
   },
   "outputs": [
    {
     "name": "stdout",
     "output_type": "stream",
     "text": [
      "\n"
     ]
    }
   ],
   "source": [
    "from sparknlp_jsl.annotator import TFGraphBuilder\n",
    "\n",
    "graph_folder = \"gc_graph\"\n",
    "\n",
    "gc_graph_builder = TFGraphBuilder()\\\n",
    "    .setModelName(\"generic_classifier\")\\\n",
    "    .setInputCols([\"features\"])\\\n",
    "    .setLabelColumn(\"category\")\\\n",
    "    .setHiddenLayers([300,200, 50])\\\n",
    "    .setHiddenAct(\"tanh\")\\\n",
    "    .setHiddenActL2(True)\\\n",
    "    .setBatchNorm(True)\\\n",
    "    .setGraphFolder(graph_folder)\\\n",
    "    .setGraphFile(\"gcf_graph_bert.pb\")"
   ]
  },
  {
   "cell_type": "code",
   "execution_count": 174,
   "metadata": {
    "id": "lYsWcP6yyGE3",
    "tags": []
   },
   "outputs": [
    {
     "name": "stdout",
     "output_type": "stream",
     "text": [
      "\n"
     ]
    }
   ],
   "source": [
    "features_asm = FeaturesAssembler()\\\n",
    "    .setInputCols([\"sentence_embeddings\"])\\\n",
    "    .setOutputCol(\"features\")\n",
    "\n",
    "gen_clf = GenericClassifierApproach()\\\n",
    "    .setLabelColumn(\"category\")\\\n",
    "    .setInputCols(\"features\")\\\n",
    "    .setOutputCol(\"prediction\")\\\n",
    "    .setModelFile(f\"{graph_folder}/gcf_graph_bert.pb\")\\\n",
    "    .setEpochsNumber(20)\\\n",
    "    .setBatchSize(32)\\\n",
    "    .setLearningRate(0.001)\\\n",
    "    .setOutputLogsPath(log_folder)\\\n",
    "    .setDropout(0.5)\\\n",
    "    .setFixImbalance(True)\\\n",
    "    # .setValidationSplit(0.1)\n",
    "\n",
    "clf_Pipeline = Pipeline(stages=[\n",
    "    features_asm,\n",
    "    gc_graph_builder,\n",
    "    gen_clf])\n"
   ]
  },
  {
   "cell_type": "code",
   "execution_count": 175,
   "metadata": {
    "colab": {
     "base_uri": "https://localhost:8080/"
    },
    "executionInfo": {
     "elapsed": 376727,
     "status": "ok",
     "timestamp": 1689691000102,
     "user": {
      "displayName": "Ahmet Mesut BİROL",
      "userId": "04340760882990254267"
     },
     "user_tz": -180
    },
    "id": "uTJY05QbyGE3",
    "outputId": "303f59f3-3fbb-4df1-f5f5-f7e0d86ff431",
    "tags": []
   },
   "outputs": [
    {
     "name": "stdout",
     "output_type": "stream",
     "text": [
      "TF Graph Builder configuration:\n",
      "Model name: generic_classifier\n",
      "Graph folder: gc_graph\n",
      "Graph file name: gcf_graph_bert.pb\n",
      "Build params: {'input_dim': 768, 'output_dim': 2, 'hidden_layers': [300, 200, 50], 'hidden_act': 'tanh', 'hidden_act_l2': True, 'batch_norm': True}\n",
      "generic_classifier graph exported to gc_graph/gcf_graph_bert.pb\n"
     ]
    }
   ],
   "source": [
    "generic_model_bert = clf_Pipeline.fit(trainingData_with_embeddings)"
   ]
  },
  {
   "cell_type": "code",
   "execution_count": 176,
   "metadata": {
    "colab": {
     "base_uri": "https://localhost:8080/"
    },
    "executionInfo": {
     "elapsed": 50142,
     "status": "ok",
     "timestamp": 1689691050222,
     "user": {
      "displayName": "Ahmet Mesut BİROL",
      "userId": "04340760882990254267"
     },
     "user_tz": -180
    },
    "id": "EB1ONwUvyGE3",
    "outputId": "8d5ea3bf-a097-40c8-a521-f36dd30c870a",
    "tags": []
   },
   "outputs": [
    {
     "name": "stdout",
     "output_type": "stream",
     "text": [
      "              precision    recall  f1-score   support\n",
      "\n",
      "         neg       0.95      0.89      0.92      1019\n",
      "         pos       0.76      0.87      0.81       399\n",
      "\n",
      "    accuracy                           0.89      1418\n",
      "   macro avg       0.86      0.88      0.87      1418\n",
      "weighted avg       0.90      0.89      0.89      1418\n"
     ]
    }
   ],
   "source": [
    "pred_df = generic_model_bert.transform(testData_with_embeddings)\n",
    "\n",
    "preds_df = pred_df.select('category','prediction.result').toPandas()\n",
    "preds_df['result'] = preds_df.result.apply(lambda x : x[0])\n",
    "\n",
    "print (classification_report(preds_df['category'], preds_df['result']))"
   ]
  },
  {
   "cell_type": "code",
   "execution_count": 177,
   "metadata": {
    "id": "v8Uq9YUrbF5a",
    "tags": []
   },
   "outputs": [
    {
     "name": "stdout",
     "output_type": "stream",
     "text": [
      "\n"
     ]
    }
   ],
   "source": [
    "res = classification_report(preds_df[\"category\"], preds_df[\"result\"], output_dict=True)\n",
    "results_df.loc[\"GenericClassifier_bert\"] = [res[\"pos\"][\"f1-score\"], res[\"accuracy\"]]"
   ]
  },
  {
   "cell_type": "markdown",
   "metadata": {
    "id": "wP2hYqY1XJVB"
   },
   "source": [
    "### GenericLogRegClassifier"
   ]
  },
  {
   "cell_type": "code",
   "execution_count": 178,
   "metadata": {
    "id": "nMqP9w4YXJVB",
    "tags": []
   },
   "outputs": [
    {
     "name": "stdout",
     "output_type": "stream",
     "text": [
      "\n"
     ]
    }
   ],
   "source": [
    "from sparknlp_jsl.annotator import TFGraphBuilder\n",
    "\n",
    "graph_folder = \"gc_graph\"\n",
    "\n",
    "gc_logreg_graph_builder = TFGraphBuilder()\\\n",
    "    .setModelName(\"logreg_classifier\")\\\n",
    "    .setInputCols([\"feature_vector\"]) \\\n",
    "    .setLabelColumn(\"category\")\\\n",
    "    .setGraphFolder(graph_folder)\\\n",
    "    .setGraphFile(\"log_reg_graph.pb\")"
   ]
  },
  {
   "cell_type": "markdown",
   "metadata": {
    "id": "ubEJt4C5XJVB"
   },
   "source": [
    "GenericLogRegClassifier needs outputs from FeaturesAssembler. The FeaturesAssembler is used to collect features from different columns or an embeddings column.\n",
    "\n",
    "The GenericLogRegClassifier takes FEATURE_VECTOR annotations as input, classifies them and outputs CATEGORY annotations."
   ]
  },
  {
   "cell_type": "code",
   "execution_count": 179,
   "metadata": {
    "id": "JciMxptEXJVB",
    "tags": []
   },
   "outputs": [
    {
     "name": "stdout",
     "output_type": "stream",
     "text": [
      "\n"
     ]
    }
   ],
   "source": [
    "features_asm = FeaturesAssembler()\\\n",
    "    .setInputCols([\"sentence_embeddings\"])\\\n",
    "    .setOutputCol(\"feature_vector\")\n",
    "\n",
    "gen_clf = GenericLogRegClassifierApproach()\\\n",
    "    .setLabelColumn(\"category\")\\\n",
    "    .setInputCols(\"feature_vector\")\\\n",
    "    .setOutputCol(\"prediction\")\\\n",
    "    .setModelFile(f\"{graph_folder}/log_reg_graph.pb\")\\\n",
    "    .setEpochsNumber(20)\\\n",
    "    .setBatchSize(128)\\\n",
    "    .setLearningRate(0.01)\\\n",
    "    .setOutputLogsPath(log_folder)\\\n",
    "    .setDropout(0.1)\\\n",
    "    .setFixImbalance(True)\\\n",
    "    # .setValidationSplit(0.1)\n",
    "\n",
    "clf_Pipeline = Pipeline(stages=[\n",
    "    features_asm,\n",
    "    gc_logreg_graph_builder,\n",
    "    gen_clf])\n"
   ]
  },
  {
   "cell_type": "code",
   "execution_count": 181,
   "metadata": {
    "colab": {
     "base_uri": "https://localhost:8080/"
    },
    "executionInfo": {
     "elapsed": 367302,
     "status": "ok",
     "timestamp": 1689691417521,
     "user": {
      "displayName": "Ahmet Mesut BİROL",
      "userId": "04340760882990254267"
     },
     "user_tz": -180
    },
    "id": "vxDhTsP0XJVC",
    "outputId": "a5b577aa-8174-400d-94c1-5642282201c3",
    "tags": []
   },
   "outputs": [
    {
     "name": "stdout",
     "output_type": "stream",
     "text": [
      "TF Graph Builder configuration:\n",
      "Model name: logreg_classifier\n",
      "Graph folder: gc_graph\n",
      "Graph file name: log_reg_graph.pb\n",
      "Build params: {'input_dim': 768, 'output_dim': 2, 'hidden_layers': [], 'output_act': 'sigmoid'}\n",
      "logreg_classifier graph exported to gc_graph/log_reg_graph.pb\n"
     ]
    }
   ],
   "source": [
    "generic_model_bert = clf_Pipeline.fit(trainingData_with_embeddings)"
   ]
  },
  {
   "cell_type": "code",
   "execution_count": 182,
   "metadata": {
    "id": "EpQZpzg1XJVC",
    "tags": []
   },
   "outputs": [
    {
     "name": "stdout",
     "output_type": "stream",
     "text": [
      "\n"
     ]
    }
   ],
   "source": [
    "pred_df = generic_model_bert.transform(testData_with_embeddings)"
   ]
  },
  {
   "cell_type": "code",
   "execution_count": 183,
   "metadata": {
    "colab": {
     "base_uri": "https://localhost:8080/"
    },
    "executionInfo": {
     "elapsed": 24379,
     "status": "ok",
     "timestamp": 1689691466938,
     "user": {
      "displayName": "Ahmet Mesut BİROL",
      "userId": "04340760882990254267"
     },
     "user_tz": -180
    },
    "id": "YAIyaNA5XJVC",
    "outputId": "45ea651b-f916-4c77-be26-9ec879d68a00",
    "tags": []
   },
   "outputs": [
    {
     "name": "stdout",
     "output_type": "stream",
     "text": [
      "              precision    recall  f1-score   support\n",
      "\n",
      "         neg       0.90      0.94      0.92      1019\n",
      "         pos       0.82      0.74      0.78       399\n",
      "\n",
      "    accuracy                           0.88      1418\n",
      "   macro avg       0.86      0.84      0.85      1418\n",
      "weighted avg       0.88      0.88      0.88      1418\n"
     ]
    }
   ],
   "source": [
    "preds_df = pred_df.select('category','prediction.result').toPandas()\n",
    "preds_df['result'] = preds_df.result.apply(lambda x : x[0])\n",
    "\n",
    "print (classification_report(preds_df['category'], preds_df['result']))"
   ]
  },
  {
   "cell_type": "code",
   "execution_count": 184,
   "metadata": {
    "id": "MJ3oGrSBbQHX",
    "tags": []
   },
   "outputs": [
    {
     "name": "stdout",
     "output_type": "stream",
     "text": [
      "\n"
     ]
    }
   ],
   "source": [
    "res = classification_report(preds_df[\"category\"], preds_df[\"result\"], output_dict=True)\n",
    "results_df.loc[\"GenericLogReg_bert\"] = [res[\"pos\"][\"f1-score\"], res[\"accuracy\"]]"
   ]
  },
  {
   "cell_type": "markdown",
   "metadata": {
    "id": "fJ53RrHWXXHj"
   },
   "source": [
    "### GenericSVMClassifier"
   ]
  },
  {
   "cell_type": "code",
   "execution_count": 187,
   "metadata": {
    "id": "xyjJzPzBXXHk",
    "tags": []
   },
   "outputs": [
    {
     "name": "stdout",
     "output_type": "stream",
     "text": [
      "\n"
     ]
    }
   ],
   "source": [
    "from sparknlp_jsl.annotator import TFGraphBuilder\n",
    "\n",
    "graph_folder = \"gc_graph\"\n",
    "\n",
    "gc_svm_graph_builder = TFGraphBuilder()\\\n",
    "    .setModelName(\"svm_classifier\")\\\n",
    "    .setInputCols([\"feature_vector\"]) \\\n",
    "    .setLabelColumn(\"category\")\\\n",
    "    .setGraphFolder(graph_folder)\\\n",
    "    .setGraphFile(\"svm_graph.pb\")"
   ]
  },
  {
   "cell_type": "markdown",
   "metadata": {
    "id": "VX7v20wHXXHk"
   },
   "source": [
    "GenericSVMClassifier needs outputs from FeaturesAssembler. The FeaturesAssembler is used to collect features from different columns or an embeddings column.\n",
    "\n",
    "The GenericSVMClassifier takes FEATURE_VECTOR annotations as input, classifies them and outputs CATEGORY annotations."
   ]
  },
  {
   "cell_type": "code",
   "execution_count": 188,
   "metadata": {
    "id": "0vzQ80M5XXHk",
    "tags": []
   },
   "outputs": [
    {
     "name": "stdout",
     "output_type": "stream",
     "text": [
      "\n"
     ]
    }
   ],
   "source": [
    "features_asm = FeaturesAssembler()\\\n",
    "    .setInputCols([\"sentence_embeddings\"])\\\n",
    "    .setOutputCol(\"feature_vector\")\n",
    "\n",
    "gen_clf = GenericSVMClassifierApproach()\\\n",
    "    .setLabelColumn(\"category\")\\\n",
    "    .setInputCols(\"feature_vector\")\\\n",
    "    .setOutputCol(\"prediction\")\\\n",
    "    .setModelFile(f\"{graph_folder}/svm_graph.pb\")\\\n",
    "    .setEpochsNumber(20)\\\n",
    "    .setBatchSize(128)\\\n",
    "    .setLearningRate(0.005)\\\n",
    "    .setOutputLogsPath(log_folder)\\\n",
    "    .setDropout(0.1)\\\n",
    "    .setFixImbalance(True)\\\n",
    "    # .setValidationSplit(0.1)\n",
    "\n",
    "clf_Pipeline = Pipeline(stages=[\n",
    "    features_asm,\n",
    "    gc_svm_graph_builder,\n",
    "    gen_clf])\n"
   ]
  },
  {
   "cell_type": "code",
   "execution_count": 193,
   "metadata": {
    "colab": {
     "base_uri": "https://localhost:8080/"
    },
    "executionInfo": {
     "elapsed": 362420,
     "status": "ok",
     "timestamp": 1689691829353,
     "user": {
      "displayName": "Ahmet Mesut BİROL",
      "userId": "04340760882990254267"
     },
     "user_tz": -180
    },
    "id": "9BieY4KtXXHk",
    "outputId": "d1d71e22-e25d-4a0f-9a8d-b6916cbf227c",
    "tags": []
   },
   "outputs": [
    {
     "name": "stdout",
     "output_type": "stream",
     "text": [
      "TF Graph Builder configuration:\n",
      "Model name: svm_classifier\n",
      "Graph folder: gc_graph\n",
      "Graph file name: svm_graph.pb\n",
      "Build params: {'input_dim': 768, 'output_dim': 2, 'hidden_layers': [], 'output_act': 'sigmoid', 'loss_func': 'hinge'}\n",
      "svm_classifier graph exported to gc_graph/svm_graph.pb\n"
     ]
    }
   ],
   "source": [
    "generic_model_bert = clf_Pipeline.fit(trainingData_with_embeddings)"
   ]
  },
  {
   "cell_type": "code",
   "execution_count": 194,
   "metadata": {
    "id": "iHL0IWHQXXHk",
    "tags": []
   },
   "outputs": [
    {
     "name": "stdout",
     "output_type": "stream",
     "text": [
      "\n"
     ]
    }
   ],
   "source": [
    "pred_df = generic_model_bert.transform(testData_with_embeddings)"
   ]
  },
  {
   "cell_type": "code",
   "execution_count": 195,
   "metadata": {
    "colab": {
     "base_uri": "https://localhost:8080/"
    },
    "executionInfo": {
     "elapsed": 24438,
     "status": "ok",
     "timestamp": 1689691878521,
     "user": {
      "displayName": "Ahmet Mesut BİROL",
      "userId": "04340760882990254267"
     },
     "user_tz": -180
    },
    "id": "O1pwRdfMXXHl",
    "outputId": "4df70698-6b12-4654-d5d3-f57fb965cdde",
    "tags": []
   },
   "outputs": [
    {
     "name": "stdout",
     "output_type": "stream",
     "text": [
      "              precision    recall  f1-score   support\n",
      "\n",
      "         neg       0.90      0.92      0.91      1019\n",
      "         pos       0.78      0.73      0.76       399\n",
      "\n",
      "    accuracy                           0.87      1418\n",
      "   macro avg       0.84      0.83      0.83      1418\n",
      "weighted avg       0.87      0.87      0.87      1418\n"
     ]
    }
   ],
   "source": [
    "preds_df = pred_df.select('category','prediction.result').toPandas()\n",
    "preds_df['result'] = preds_df.result.apply(lambda x : x[0])\n",
    "\n",
    "print (classification_report(preds_df['category'], preds_df['result']))"
   ]
  },
  {
   "cell_type": "code",
   "execution_count": 196,
   "metadata": {
    "id": "OFcU5pVkbbZy",
    "tags": []
   },
   "outputs": [
    {
     "name": "stdout",
     "output_type": "stream",
     "text": [
      "\n"
     ]
    }
   ],
   "source": [
    "res = classification_report(preds_df[\"category\"], preds_df[\"result\"], output_dict=True)\n",
    "results_df.loc[\"GenericSVM_bert\"] = [res[\"pos\"][\"f1-score\"], res[\"accuracy\"]]"
   ]
  },
  {
   "cell_type": "markdown",
   "metadata": {
    "id": "HAEFUdy1gyh1"
   },
   "source": [
    "## DocumentLogRegClassifier"
   ]
  },
  {
   "cell_type": "code",
   "execution_count": 197,
   "metadata": {
    "id": "4YOr31bfg0hm",
    "tags": []
   },
   "outputs": [
    {
     "name": "stdout",
     "output_type": "stream",
     "text": [
      "\n"
     ]
    }
   ],
   "source": [
    "document_assembler = DocumentAssembler()\\\n",
    "    .setInputCol(\"text\")\\\n",
    "    .setOutputCol(\"document\")\n",
    "\n",
    "tokenizer = Tokenizer() \\\n",
    "    .setInputCols([\"document\"]) \\\n",
    "    .setOutputCol(\"token\")\n",
    "\n",
    "normalizer = Normalizer() \\\n",
    "      .setInputCols([\"token\"]) \\\n",
    "      .setOutputCol(\"normalized\")\n",
    "\n",
    "stopwords_cleaner = StopWordsCleaner()\\\n",
    "      .setInputCols(\"normalized\")\\\n",
    "      .setOutputCol(\"cleanTokens\")\\\n",
    "      .setCaseSensitive(False)\n",
    "\n",
    "stemmer = Stemmer() \\\n",
    "      .setInputCols([\"cleanTokens\"]) \\\n",
    "      .setOutputCol(\"stem\")\n",
    "\n",
    "logreg = DocumentLogRegClassifierApproach()\\\n",
    "    .setInputCols(\"stem\")\\\n",
    "    .setLabelCol(\"category\")\\\n",
    "    .setOutputCol(\"prediction\")\\\n",
    "    .setMaxIter(10)\\\n",
    "    .setTol(1e-6)\n",
    "\n",
    "clf_Pipeline = Pipeline(stages=[\n",
    "    document_assembler,\n",
    "    tokenizer,\n",
    "    normalizer,\n",
    "    stopwords_cleaner,\n",
    "    stemmer,\n",
    "    logreg])\n",
    "doclogreg_model = clf_Pipeline.fit(trainingData)"
   ]
  },
  {
   "cell_type": "code",
   "execution_count": 198,
   "metadata": {
    "colab": {
     "base_uri": "https://localhost:8080/"
    },
    "executionInfo": {
     "elapsed": 3139,
     "status": "ok",
     "timestamp": 1689691903422,
     "user": {
      "displayName": "Ahmet Mesut BİROL",
      "userId": "04340760882990254267"
     },
     "user_tz": -180
    },
    "id": "61zEw5EQg0d-",
    "outputId": "1df4d22f-b2c0-4116-8b31-2ff689eacc89",
    "tags": []
   },
   "outputs": [
    {
     "name": "stdout",
     "output_type": "stream",
     "text": [
      "              precision    recall  f1-score   support\n",
      "\n",
      "         neg       0.88      0.87      0.87      1019\n",
      "         pos       0.67      0.69      0.68       399\n",
      "\n",
      "    accuracy                           0.82      1418\n",
      "   macro avg       0.77      0.78      0.78      1418\n",
      "weighted avg       0.82      0.82      0.82      1418\n"
     ]
    }
   ],
   "source": [
    "pred_df = doclogreg_model.transform(testData)\n",
    "\n",
    "preds_df = pred_df.select('category','prediction.result').toPandas()\n",
    "preds_df['result'] = preds_df.result.apply(lambda x : x[0])\n",
    "\n",
    "print (classification_report(preds_df['category'], preds_df['result']))"
   ]
  },
  {
   "cell_type": "code",
   "execution_count": 199,
   "metadata": {
    "id": "VA-TFVrLbhvs",
    "tags": []
   },
   "outputs": [
    {
     "name": "stdout",
     "output_type": "stream",
     "text": [
      "\n"
     ]
    }
   ],
   "source": [
    "res = classification_report(preds_df[\"category\"], preds_df[\"result\"], output_dict=True)\n",
    "results_df.loc[\"DocumentLogRegClassifier\"] = [res[\"pos\"][\"f1-score\"], res[\"accuracy\"]]"
   ]
  },
  {
   "cell_type": "markdown",
   "metadata": {
    "id": "7w8N3lOUAS9U"
   },
   "source": [
    "## Comparision of All Models' Result in ADE Dataset"
   ]
  },
  {
   "cell_type": "markdown",
   "metadata": {
    "id": "-QSw0-cWBe5y"
   },
   "source": [
    "Here is the all results of classifier models. Only positive ADE f1 scores and accuracy scores are presented."
   ]
  },
  {
   "cell_type": "code",
   "execution_count": 200,
   "metadata": {
    "colab": {
     "base_uri": "https://localhost:8080/",
     "height": 551
    },
    "executionInfo": {
     "elapsed": 44,
     "status": "ok",
     "timestamp": 1689691903425,
     "user": {
      "displayName": "Ahmet Mesut BİROL",
      "userId": "04340760882990254267"
     },
     "user_tz": -180
    },
    "id": "axjlz-i5BcZo",
    "outputId": "ef828b3a-a531-4b0e-bce3-c5d1e365e4b8",
    "tags": []
   },
   "outputs": [
    {
     "name": "stdout",
     "output_type": "stream",
     "text": [
      "                          pos-f1-score  accuracy\n",
      "ClassifierDL_100d             0.693151  0.842031\n",
      "MultiClassifierDL_100d        0.646192  0.796897\n",
      "GenericClassifier_100d        0.629268  0.785614\n",
      "GenericLogReg_100d            0.464812  0.769394\n",
      "GenericSVM_100d               0.386740  0.765162\n",
      "ClassifierDL_200d             0.729767  0.861072\n",
      "MultiClassifierDL_200d        0.732725  0.855430\n",
      "GenericClassifier_200d        0.709931  0.791961\n",
      "GenericLogReg_200d            0.604790  0.813822\n",
      "GenericSVM_200d               0.594993  0.806065\n",
      "ClassifierDL_bert             0.000000  0.718618\n",
      "MultiClassifierDL_bert        0.779221  0.880113\n",
      "GenericClassifier_bert        0.814988  0.888575\n",
      "GenericLogReg_bert            0.781579  0.882934\n",
      "GenericSVM_bert               0.755844  0.867419\n",
      "DocumentLogRegClassifier      0.679012  0.816643\n"
     ]
    }
   ],
   "source": [
    "results_df"
   ]
  },
  {
   "cell_type": "markdown",
   "metadata": {
    "id": "IryBN-nlB8fu"
   },
   "source": [
    "# Mtsamples Dataset"
   ]
  },
  {
   "cell_type": "markdown",
   "metadata": {
    "id": "9VTK1AsahOpz"
   },
   "source": [
    "## Load Dataset"
   ]
  },
  {
   "cell_type": "code",
   "execution_count": 30,
   "metadata": {
    "id": "CHPqy3NeZMWW",
    "tags": []
   },
   "outputs": [],
   "source": [
    "#data source ===>  !curl --output ./mtsamples_classifier.csv https://raw.githubusercontent.com/JohnSnowLabs/spark-nlp-workshop/master/tutorials/Certification_Trainings/Healthcare/data/mtsamples_classifier.csv\n",
    "\n",
    "#upload this file into the s3 bucket"
   ]
  },
  {
   "cell_type": "code",
   "execution_count": 203,
   "metadata": {
    "colab": {
     "base_uri": "https://localhost:8080/"
    },
    "executionInfo": {
     "elapsed": 863,
     "status": "ok",
     "timestamp": 1689691904685,
     "user": {
      "displayName": "Ahmet Mesut BİROL",
      "userId": "04340760882990254267"
     },
     "user_tz": -180
    },
    "id": "44eb4f5f-9065-4512-aad6-2afc89f74220",
    "outputId": "c6a6e168-69c6-428e-96d8-d36041b7f252",
    "tags": []
   },
   "outputs": [
    {
     "name": "stdout",
     "output_type": "stream",
     "text": [
      "+----------------+----------------------------------------------------------------------------------------------------+\n",
      "|        category|                                                                                                text|\n",
      "+----------------+----------------------------------------------------------------------------------------------------+\n",
      "|Gastroenterology| PROCEDURES PERFORMED: Colonoscopy. INDICATIONS: Renewed symptoms likely consistent with active f...|\n",
      "|Gastroenterology| OPERATION 1. Ivor-Lewis esophagogastrectomy. 2. Feeding jejunostomy. 3. Placement of two right-s...|\n",
      "|Gastroenterology| PREOPERATIVE DIAGNOSES: 1. Gastroesophageal reflux disease. 2. Chronic dyspepsia. POSTOPERATIVE ...|\n",
      "|Gastroenterology| PROCEDURE: Colonoscopy. PREOPERATIVE DIAGNOSES: Rectal bleeding and perirectal abscess. POSTOPER...|\n",
      "|Gastroenterology| PREOPERATIVE DIAGNOSIS: Right colon tumor. POSTOPERATIVE DIAGNOSES: 1. Right colon cancer. 2. As...|\n",
      "|Gastroenterology| PREOPERATIVE DIAGNOSIS (ES): 1. Cholelithiasis. 2. Cholecystitis. POSTOPERATIVE DIAGNOSIS (ES): ...|\n",
      "|Gastroenterology| The patient was taken to the GI lab and placed in the left lateral supine position. Continuous p...|\n",
      "|Gastroenterology| PREOPERATIVE DIAGNOSIS: Gastrostomy (gastrocutaneous fistula). POSTOPERATIVE DIAGNOSIS: Gastrost...|\n",
      "|Gastroenterology| PREOPERATIVE DIAGNOSIS: Acute acalculous cholecystitis. POSTOPERATIVE DIAGNOSIS: Acute hemorrhag...|\n",
      "|Gastroenterology| HISTORY OF PRESENT ILLNESS: This is a 10-year-old who was found with biliary atresia and underwe...|\n",
      "+----------------+----------------------------------------------------------------------------------------------------+\n",
      "only showing top 10 rows\n"
     ]
    }
   ],
   "source": [
    "spark_df = spark.read.csv(f\"{bucket}/mtsamples_classifier.csv\", header = True)\n",
    "\n",
    "spark_df.show(10,truncate=100)"
   ]
  },
  {
   "cell_type": "code",
   "execution_count": 204,
   "metadata": {
    "colab": {
     "base_uri": "https://localhost:8080/"
    },
    "executionInfo": {
     "elapsed": 14,
     "status": "ok",
     "timestamp": 1689691904686,
     "user": {
      "displayName": "Ahmet Mesut BİROL",
      "userId": "04340760882990254267"
     },
     "user_tz": -180
    },
    "id": "yApqQhjp_EZx",
    "outputId": "3a09a881-6455-435a-982e-b0b70b109bf6",
    "tags": []
   },
   "outputs": [
    {
     "name": "stdout",
     "output_type": "stream",
     "text": [
      "root\n",
      " |-- category: string (nullable = true)\n",
      " |-- text: string (nullable = true)\n"
     ]
    }
   ],
   "source": [
    "spark_df.printSchema()"
   ]
  },
  {
   "cell_type": "code",
   "execution_count": 205,
   "metadata": {
    "colab": {
     "base_uri": "https://localhost:8080/"
    },
    "executionInfo": {
     "elapsed": 9,
     "status": "ok",
     "timestamp": 1689691904687,
     "user": {
      "displayName": "Ahmet Mesut BİROL",
      "userId": "04340760882990254267"
     },
     "user_tz": -180
    },
    "id": "f0886fb5-fd9d-4199-b142-637cad880866",
    "outputId": "b9433172-71b0-4bd8-d4d6-3aa7f4c9cf9e",
    "tags": []
   },
   "outputs": [
    {
     "name": "stdout",
     "output_type": "stream",
     "text": [
      "638\n"
     ]
    }
   ],
   "source": [
    "spark_df.count()"
   ]
  },
  {
   "cell_type": "code",
   "execution_count": 206,
   "metadata": {
    "colab": {
     "base_uri": "https://localhost:8080/"
    },
    "executionInfo": {
     "elapsed": 487,
     "status": "ok",
     "timestamp": 1689691905170,
     "user": {
      "displayName": "Ahmet Mesut BİROL",
      "userId": "04340760882990254267"
     },
     "user_tz": -180
    },
    "id": "241bd286-350c-421e-92f4-a80164ed2dc1",
    "outputId": "0be16884-994c-47ba-8938-8d9bd60a7dbe",
    "tags": []
   },
   "outputs": [
    {
     "name": "stdout",
     "output_type": "stream",
     "text": [
      "+----------------+-----+\n",
      "|        category|count|\n",
      "+----------------+-----+\n",
      "|         Urology|  115|\n",
      "|Gastroenterology|  157|\n",
      "|      Orthopedic|  223|\n",
      "|       Neurology|  143|\n",
      "+----------------+-----+\n"
     ]
    }
   ],
   "source": [
    "spark_df.groupBy(\"category\").count().show()"
   ]
  },
  {
   "cell_type": "code",
   "execution_count": 207,
   "metadata": {
    "id": "db12fe42-90b6-434d-852a-ea86cad9a963",
    "tags": []
   },
   "outputs": [
    {
     "name": "stdout",
     "output_type": "stream",
     "text": [
      "\n"
     ]
    }
   ],
   "source": [
    "(trainingData, testData) = spark_df.randomSplit([0.8, 0.2], seed = 42)"
   ]
  },
  {
   "cell_type": "code",
   "execution_count": 208,
   "metadata": {
    "colab": {
     "base_uri": "https://localhost:8080/"
    },
    "executionInfo": {
     "elapsed": 12,
     "status": "ok",
     "timestamp": 1689691905171,
     "user": {
      "displayName": "Ahmet Mesut BİROL",
      "userId": "04340760882990254267"
     },
     "user_tz": -180
    },
    "id": "P3iINSk1hc2E",
    "outputId": "49558a37-eab4-4c7b-be3e-6c970c396eec",
    "tags": []
   },
   "outputs": [
    {
     "name": "stdout",
     "output_type": "stream",
     "text": [
      "+----------------+-----+\n",
      "|        category|count|\n",
      "+----------------+-----+\n",
      "|         Urology|   95|\n",
      "|Gastroenterology|  132|\n",
      "|      Orthopedic|  188|\n",
      "|       Neurology|  121|\n",
      "+----------------+-----+\n"
     ]
    }
   ],
   "source": [
    "trainingData.groupBy(\"category\").count().show()"
   ]
  },
  {
   "cell_type": "code",
   "execution_count": 209,
   "metadata": {
    "colab": {
     "base_uri": "https://localhost:8080/"
    },
    "executionInfo": {
     "elapsed": 515,
     "status": "ok",
     "timestamp": 1689691905681,
     "user": {
      "displayName": "Ahmet Mesut BİROL",
      "userId": "04340760882990254267"
     },
     "user_tz": -180
    },
    "id": "UofCYygtKNw7",
    "outputId": "4f1eeceb-be35-40a3-a863-6a5d100b91e0",
    "tags": []
   },
   "outputs": [
    {
     "name": "stdout",
     "output_type": "stream",
     "text": [
      "+----------------+-----+\n",
      "|        category|count|\n",
      "+----------------+-----+\n",
      "|         Urology|   20|\n",
      "|Gastroenterology|   25|\n",
      "|      Orthopedic|   35|\n",
      "|       Neurology|   22|\n",
      "+----------------+-----+\n"
     ]
    }
   ],
   "source": [
    "testData.groupBy(\"category\").count().show()"
   ]
  },
  {
   "cell_type": "markdown",
   "metadata": {
    "id": "F5fxqMw69oZ_"
   },
   "source": [
    "## 100 Dimension Healthcare Embeddings (embeddings_healthcare_100d)\n",
    "\n"
   ]
  },
  {
   "cell_type": "markdown",
   "metadata": {
    "id": "z3E3d1_w9oZ_"
   },
   "source": [
    "We will extract [healthcare_100d embeddings](https://nlp.johnsnowlabs.com/2020/05/29/embeddings_healthcare_100d_en.html) and use it in the classificaiton model training."
   ]
  },
  {
   "cell_type": "code",
   "execution_count": 210,
   "metadata": {
    "colab": {
     "base_uri": "https://localhost:8080/"
    },
    "executionInfo": {
     "elapsed": 2632,
     "status": "ok",
     "timestamp": 1689691908294,
     "user": {
      "displayName": "Ahmet Mesut BİROL",
      "userId": "04340760882990254267"
     },
     "user_tz": -180
    },
    "id": "dGwOkIhg9oZ_",
    "outputId": "1761d013-c260-4b42-9422-56cd642f2f2b",
    "tags": []
   },
   "outputs": [
    {
     "name": "stdout",
     "output_type": "stream",
     "text": [
      "embeddings_healthcare_100d download started this may take some time.\n",
      "Approximate size to download 475.8 MB\n",
      "[OK!]\n"
     ]
    }
   ],
   "source": [
    "document_assembler = DocumentAssembler()\\\n",
    "        .setInputCol(\"text\")\\\n",
    "        .setOutputCol(\"document\")\n",
    "\n",
    "tokenizer = Tokenizer() \\\n",
    "            .setInputCols([\"document\"]) \\\n",
    "            .setOutputCol(\"token\")\n",
    "\n",
    "word_embeddings = WordEmbeddingsModel.pretrained(\"embeddings_healthcare_100d\",\"en\",\"clinical/models\")\\\n",
    "        .setInputCols([\"document\",\"token\"])\\\n",
    "        .setOutputCol(\"word_embeddings\")\\\n",
    "        .setEnableInMemoryStorage(True)\n",
    "\n",
    "sentence_embeddings = SentenceEmbeddings() \\\n",
    "        .setInputCols([\"document\", \"word_embeddings\"]) \\\n",
    "        .setOutputCol(\"sentence_embeddings\") \\\n",
    "        .setPoolingStrategy(\"AVERAGE\")\n",
    "\n",
    "embeddings_pipeline = Pipeline(\n",
    "    stages = [\n",
    "        document_assembler,\n",
    "        tokenizer,\n",
    "        word_embeddings,\n",
    "        sentence_embeddings,\n",
    "\n",
    "    ])"
   ]
  },
  {
   "cell_type": "code",
   "execution_count": 211,
   "metadata": {
    "colab": {
     "base_uri": "https://localhost:8080/"
    },
    "executionInfo": {
     "elapsed": 493,
     "status": "ok",
     "timestamp": 1689691908781,
     "user": {
      "displayName": "Ahmet Mesut BİROL",
      "userId": "04340760882990254267"
     },
     "user_tz": -180
    },
    "id": "NtiB6Xgv9oZ_",
    "outputId": "18f383e8-4f32-4329-8030-811a4e1b8b53",
    "tags": []
   },
   "outputs": [
    {
     "name": "stdout",
     "output_type": "stream",
     "text": [
      "+------------------------------------------------------------+----------------+------------------------------------------------------------+\n",
      "|                                                        text|        category|                                         sentence_embeddings|\n",
      "+------------------------------------------------------------+----------------+------------------------------------------------------------+\n",
      "| ADMISSION DIAGNOSIS: Symptomatic cholelithiasis. DISCHAR...|Gastroenterology|[{sentence_embeddings, 0, 2228,  ADMISSION DIAGNOSIS: Sym...|\n",
      "| ADMITTING DIAGNOSES: Hiatal hernia, gastroesophageal ref...|Gastroenterology|[{sentence_embeddings, 0, 3237,  ADMITTING DIAGNOSES: Hia...|\n",
      "+------------------------------------------------------------+----------------+------------------------------------------------------------+\n",
      "only showing top 2 rows\n"
     ]
    }
   ],
   "source": [
    "trainingData_with_embeddings = embeddings_pipeline.fit(trainingData).transform(trainingData)\n",
    "trainingData_with_embeddings = trainingData_with_embeddings.select(\"text\",\"category\",\"sentence_embeddings\")\n",
    "trainingData_with_embeddings.show(2,truncate=60)"
   ]
  },
  {
   "cell_type": "code",
   "execution_count": 212,
   "metadata": {
    "colab": {
     "base_uri": "https://localhost:8080/"
    },
    "executionInfo": {
     "elapsed": 758,
     "status": "ok",
     "timestamp": 1689691909535,
     "user": {
      "displayName": "Ahmet Mesut BİROL",
      "userId": "04340760882990254267"
     },
     "user_tz": -180
    },
    "id": "_hMuZrio9oaA",
    "outputId": "03c5e900-d113-46f0-a34b-c9245bd85ef8",
    "tags": []
   },
   "outputs": [
    {
     "name": "stdout",
     "output_type": "stream",
     "text": [
      "+------------------------------------------------------------+----------------+------------------------------------------------------------+\n",
      "|                                                        text|        category|                                         sentence_embeddings|\n",
      "+------------------------------------------------------------+----------------+------------------------------------------------------------+\n",
      "| ADMITTING DIAGNOSIS: Gastrointestinal bleed. HISTORY OF ...|Gastroenterology|[{sentence_embeddings, 0, 3978,  ADMITTING DIAGNOSIS: Gas...|\n",
      "| CHIEF COMPLAINT: Dysphagia and hematemesis while vomitin...|Gastroenterology|[{sentence_embeddings, 0, 6515,  CHIEF COMPLAINT: Dysphag...|\n",
      "+------------------------------------------------------------+----------------+------------------------------------------------------------+\n",
      "only showing top 2 rows\n"
     ]
    }
   ],
   "source": [
    "testData_with_embeddings = embeddings_pipeline.fit(testData).transform(testData)\n",
    "testData_with_embeddings = testData_with_embeddings.select(\"text\",\"category\",\"sentence_embeddings\")\n",
    "testData_with_embeddings.show(2,truncate=60)"
   ]
  },
  {
   "cell_type": "code",
   "execution_count": 213,
   "metadata": {
    "colab": {
     "base_uri": "https://localhost:8080/"
    },
    "executionInfo": {
     "elapsed": 13,
     "status": "ok",
     "timestamp": 1689691909536,
     "user": {
      "displayName": "Ahmet Mesut BİROL",
      "userId": "04340760882990254267"
     },
     "user_tz": -180
    },
    "id": "ZgqbexSQ9oaA",
    "outputId": "d9c4710c-38c7-4649-efd2-97cce31afc4c",
    "tags": []
   },
   "outputs": [
    {
     "name": "stdout",
     "output_type": "stream",
     "text": [
      "root\n",
      " |-- text: string (nullable = true)\n",
      " |-- category: string (nullable = true)\n",
      " |-- sentence_embeddings: array (nullable = true)\n",
      " |    |-- element: struct (containsNull = true)\n",
      " |    |    |-- annotatorType: string (nullable = true)\n",
      " |    |    |-- begin: integer (nullable = false)\n",
      " |    |    |-- end: integer (nullable = false)\n",
      " |    |    |-- result: string (nullable = true)\n",
      " |    |    |-- metadata: map (nullable = true)\n",
      " |    |    |    |-- key: string\n",
      " |    |    |    |-- value: string (valueContainsNull = true)\n",
      " |    |    |-- embeddings: array (nullable = true)\n",
      " |    |    |    |-- element: float (containsNull = false)\n"
     ]
    }
   ],
   "source": [
    "testData_with_embeddings.printSchema()"
   ]
  },
  {
   "cell_type": "code",
   "execution_count": 214,
   "metadata": {
    "colab": {
     "base_uri": "https://localhost:8080/"
    },
    "executionInfo": {
     "elapsed": 468,
     "status": "ok",
     "timestamp": 1689691910000,
     "user": {
      "displayName": "Ahmet Mesut BİROL",
      "userId": "04340760882990254267"
     },
     "user_tz": -180
    },
    "id": "aX5ka1ok9oaA",
    "outputId": "50e7a6e4-12a7-4406-cabb-f69cecee2776",
    "tags": []
   },
   "outputs": [
    {
     "name": "stdout",
     "output_type": "stream",
     "text": [
      "+------------------------------------------------------------------------------------------------------------------------+\n",
      "|                                                                                          sentence_embeddings.embeddings|\n",
      "+------------------------------------------------------------------------------------------------------------------------+\n",
      "|[[-0.010433162, 0.0127568655, 0.110687375, 0.1609855, -0.14818177, -0.050856464, 0.064748034, -0.019294674, -0.002178...|\n",
      "|[[-0.0055608996, 0.018396137, 0.12305377, 0.13861515, -0.18651922, -0.07559964, 0.12978752, -0.0046452526, -0.0031408...|\n",
      "|[[-0.019461514, 0.060639214, 0.11142021, 0.12826534, -0.16216077, -0.10416892, 0.17136306, -0.020363769, 0.01169337, ...|\n",
      "+------------------------------------------------------------------------------------------------------------------------+\n",
      "only showing top 3 rows\n"
     ]
    }
   ],
   "source": [
    "testData_with_embeddings.select(testData_with_embeddings.sentence_embeddings.embeddings).show(3,truncate=120)"
   ]
  },
  {
   "cell_type": "code",
   "execution_count": 215,
   "metadata": {
    "id": "V99u_ru-9oaA",
    "tags": []
   },
   "outputs": [
    {
     "name": "stdout",
     "output_type": "stream",
     "text": [
      "\n"
     ]
    }
   ],
   "source": [
    "log_folder=\"Mt_logs_healthcare_100d\""
   ]
  },
  {
   "cell_type": "markdown",
   "metadata": {
    "id": "7HUPl4fh9oaA"
   },
   "source": [
    "### ClassifierDL"
   ]
  },
  {
   "cell_type": "code",
   "execution_count": 216,
   "metadata": {
    "id": "Dzhptr2o9oaA",
    "tags": []
   },
   "outputs": [
    {
     "name": "stdout",
     "output_type": "stream",
     "text": [
      "\n"
     ]
    }
   ],
   "source": [
    "classifier_dl = ClassifierDLApproach()\\\n",
    "        .setInputCols([\"sentence_embeddings\"])\\\n",
    "        .setOutputCol(\"prediction\")\\\n",
    "        .setLabelColumn(\"category\")\\\n",
    "        .setBatchSize(8)\\\n",
    "        .setMaxEpochs(50)\\\n",
    "        .setLr(0.005)\\\n",
    "        .setDropout(0.3)\\\n",
    "        .setEnableOutputLogs(True)\\\n",
    "        .setOutputLogsPath(log_folder)\\\n",
    "        # .setValidationSplit(0.1)\n",
    "\n",
    "classifier_dl_pipeline = Pipeline(stages=[classifier_dl])"
   ]
  },
  {
   "cell_type": "code",
   "execution_count": 217,
   "metadata": {
    "id": "GP8eSc7Q9oaB",
    "tags": []
   },
   "outputs": [
    {
     "name": "stdout",
     "output_type": "stream",
     "text": [
      "\n"
     ]
    }
   ],
   "source": [
    "clfDL_model_hc100 = classifier_dl_pipeline.fit(trainingData_with_embeddings)"
   ]
  },
  {
   "cell_type": "code",
   "execution_count": 218,
   "metadata": {
    "id": "3CKuuqYb9oaB",
    "tags": []
   },
   "outputs": [
    {
     "name": "stdout",
     "output_type": "stream",
     "text": [
      "\n"
     ]
    }
   ],
   "source": [
    "preds = clfDL_model_hc100.transform(testData_with_embeddings)"
   ]
  },
  {
   "cell_type": "code",
   "execution_count": 219,
   "metadata": {
    "colab": {
     "base_uri": "https://localhost:8080/"
    },
    "executionInfo": {
     "elapsed": 4728,
     "status": "ok",
     "timestamp": 1689691949972,
     "user": {
      "displayName": "Ahmet Mesut BİROL",
      "userId": "04340760882990254267"
     },
     "user_tz": -180
    },
    "id": "uGFN40ju9oaB",
    "outputId": "1d7ba237-0e48-4f9c-d19e-145657bd776d",
    "tags": []
   },
   "outputs": [
    {
     "name": "stdout",
     "output_type": "stream",
     "text": [
      "                  precision    recall  f1-score   support\n",
      "\n",
      "Gastroenterology       0.82      0.72      0.77        25\n",
      "       Neurology       0.73      0.73      0.73        22\n",
      "      Orthopedic       0.87      0.94      0.90        35\n",
      "         Urology       0.65      0.65      0.65        20\n",
      "\n",
      "        accuracy                           0.78       102\n",
      "       macro avg       0.77      0.76      0.76       102\n",
      "    weighted avg       0.78      0.78      0.78       102\n"
     ]
    }
   ],
   "source": [
    "preds_df = preds.select(\"category\",\"text\",\"prediction.result\").toPandas()\n",
    "preds_df[\"result\"] = preds_df[\"result\"].apply(lambda x : x[0])\n",
    "\n",
    "print (classification_report(preds_df[\"category\"], preds_df[\"result\"]))"
   ]
  },
  {
   "cell_type": "code",
   "execution_count": 220,
   "metadata": {
    "colab": {
     "base_uri": "https://localhost:8080/",
     "height": 81
    },
    "executionInfo": {
     "elapsed": 12,
     "status": "ok",
     "timestamp": 1689691949973,
     "user": {
      "displayName": "Ahmet Mesut BİROL",
      "userId": "04340760882990254267"
     },
     "user_tz": -180
    },
    "id": "s5qJnnHffWU3",
    "outputId": "598951de-a47b-4e45-fb3a-30f7e63c2fad",
    "tags": []
   },
   "outputs": [
    {
     "name": "stdout",
     "output_type": "stream",
     "text": [
      "                   macro-f1-score  weighted-f1-score  accuracy\n",
      "ClassifierDL_100d        0.761835           0.782282  0.784314\n"
     ]
    }
   ],
   "source": [
    "res = classification_report(preds_df[\"category\"], preds_df[\"result\"], output_dict=True)\n",
    "results_df = pd.DataFrame(columns=[\"macro-f1-score\",\"weighted-f1-score\",\"accuracy\"])\n",
    "results_df.loc[\"ClassifierDL_100d\"] = [res[\"macro avg\"][\"f1-score\"], res[\"weighted avg\"][\"f1-score\"], res[\"accuracy\"]]\n",
    "results_df"
   ]
  },
  {
   "cell_type": "markdown",
   "metadata": {
    "id": "zaaRNh3W9oaB"
   },
   "source": [
    "### MultiClassifierDL"
   ]
  },
  {
   "cell_type": "code",
   "execution_count": 221,
   "metadata": {
    "id": "FnURVIYR9oaB",
    "tags": []
   },
   "outputs": [
    {
     "name": "stdout",
     "output_type": "stream",
     "text": [
      "\n"
     ]
    }
   ],
   "source": [
    "# MultiClassifierDL accepts list of strings as input label. So we convert label column to array type.\n",
    "trainingData_with_embeddings = trainingData_with_embeddings.withColumn(\"category_array\", F.array(F.col(\"category\")))\n",
    "testData_with_embeddings = testData_with_embeddings.withColumn(\"category_array\", F.array(F.col(\"category\")))"
   ]
  },
  {
   "cell_type": "code",
   "execution_count": 222,
   "metadata": {
    "id": "BHBThSDF9oaB",
    "tags": []
   },
   "outputs": [
    {
     "name": "stdout",
     "output_type": "stream",
     "text": [
      "\n"
     ]
    }
   ],
   "source": [
    "multiClassifier = MultiClassifierDLApproach()\\\n",
    "  .setInputCols(\"sentence_embeddings\")\\\n",
    "  .setOutputCol(\"prediction\")\\\n",
    "  .setLabelColumn(\"category_array\")\\\n",
    "  .setBatchSize(8)\\\n",
    "  .setMaxEpochs(40)\\\n",
    "  .setLr(5e-3)\\\n",
    "  .setThreshold(0.5)\\\n",
    "  .setShufflePerEpoch(False)\\\n",
    "  .setEnableOutputLogs(True)\\\n",
    "  .setOutputLogsPath(log_folder)\\\n",
    "#   .setValidationSplit(0.1)\n",
    "\n",
    "multiClassifier_pipeline = Pipeline(\n",
    "    stages = [\n",
    "        multiClassifier\n",
    "    ])"
   ]
  },
  {
   "cell_type": "code",
   "execution_count": 223,
   "metadata": {
    "id": "Ls8aG1NS9oaB",
    "tags": []
   },
   "outputs": [
    {
     "name": "stdout",
     "output_type": "stream",
     "text": [
      "\n"
     ]
    }
   ],
   "source": [
    "multiClassifier_model_hc100 = multiClassifier_pipeline.fit(trainingData_with_embeddings)"
   ]
  },
  {
   "cell_type": "code",
   "execution_count": 224,
   "metadata": {
    "id": "zbwCsFnA9oaC",
    "tags": []
   },
   "outputs": [
    {
     "name": "stdout",
     "output_type": "stream",
     "text": [
      "\n"
     ]
    }
   ],
   "source": [
    "preds = multiClassifier_model_hc100.transform(testData_with_embeddings)"
   ]
  },
  {
   "cell_type": "code",
   "execution_count": 225,
   "metadata": {
    "colab": {
     "base_uri": "https://localhost:8080/"
    },
    "executionInfo": {
     "elapsed": 20656,
     "status": "ok",
     "timestamp": 1689692055343,
     "user": {
      "displayName": "Ahmet Mesut BİROL",
      "userId": "04340760882990254267"
     },
     "user_tz": -180
    },
    "id": "l5ZNDAi69oaC",
    "outputId": "fc206b60-dc63-45db-90b7-5efdce67225a",
    "tags": []
   },
   "outputs": [
    {
     "name": "stdout",
     "output_type": "stream",
     "text": [
      "['Orthopedic']          31\n",
      "['Neurology']           22\n",
      "['Gastroenterology']    21\n",
      "['Urology']             20\n",
      "[]                       8\n",
      "Name: result, dtype: int64\n"
     ]
    }
   ],
   "source": [
    "preds_df = preds.select(\"category\",\"text\",\"prediction.result\",\"prediction.metadata\").toPandas()\n",
    "preds_df.result.apply(lambda x: str(x) ).value_counts()"
   ]
  },
  {
   "cell_type": "code",
   "execution_count": 226,
   "metadata": {
    "colab": {
     "base_uri": "https://localhost:8080/"
    },
    "executionInfo": {
     "elapsed": 84,
     "status": "ok",
     "timestamp": 1689692055344,
     "user": {
      "displayName": "Ahmet Mesut BİROL",
      "userId": "04340760882990254267"
     },
     "user_tz": -180
    },
    "id": "jCaUwm8k9oaD",
    "outputId": "49afbd7e-80aa-483f-912f-8aa3eb2b278c",
    "tags": []
   },
   "outputs": [
    {
     "name": "stdout",
     "output_type": "stream",
     "text": [
      "Orthopedic          31\n",
      "Neurology           22\n",
      "Gastroenterology    21\n",
      "Urology             20\n",
      "Name: result, dtype: int64\n"
     ]
    }
   ],
   "source": [
    "# We will get the highest score label as result. You can control the number of zero label results with setThreshold() in the training.\n",
    "preds_df[\"scores\"] = preds_df.metadata.apply(lambda x: {k:float(v) for k,v in x[0].items()} if len(x)>=1 else \"\")\n",
    "preds_df[\"result\"] = preds_df.scores.apply(lambda x: max(x, key=x.get) if len(x)>=1 else \"\")\n",
    "preds_df = preds_df[(preds_df[\"result\"]!=\"\")]\n",
    "preds_df[\"result\"].value_counts()"
   ]
  },
  {
   "cell_type": "code",
   "execution_count": 227,
   "metadata": {
    "colab": {
     "base_uri": "https://localhost:8080/"
    },
    "executionInfo": {
     "elapsed": 51,
     "status": "ok",
     "timestamp": 1689692055344,
     "user": {
      "displayName": "Ahmet Mesut BİROL",
      "userId": "04340760882990254267"
     },
     "user_tz": -180
    },
    "id": "7UoCi9IN9oaD",
    "outputId": "d40002b6-5e03-47aa-c26c-813331132182",
    "tags": []
   },
   "outputs": [
    {
     "name": "stdout",
     "output_type": "stream",
     "text": [
      "                  precision    recall  f1-score   support\n",
      "\n",
      "Gastroenterology       0.95      0.91      0.93        22\n",
      "       Neurology       0.82      0.90      0.86        20\n",
      "      Orthopedic       0.97      0.91      0.94        33\n",
      "         Urology       0.90      0.95      0.92        19\n",
      "\n",
      "        accuracy                           0.91        94\n",
      "       macro avg       0.91      0.92      0.91        94\n",
      "    weighted avg       0.92      0.91      0.92        94\n"
     ]
    }
   ],
   "source": [
    "print (classification_report(preds_df[\"category\"], preds_df[\"result\"]))"
   ]
  },
  {
   "cell_type": "code",
   "execution_count": 228,
   "metadata": {
    "id": "yhPrmm-RfgtQ",
    "tags": []
   },
   "outputs": [
    {
     "name": "stdout",
     "output_type": "stream",
     "text": [
      "\n"
     ]
    }
   ],
   "source": [
    "res = classification_report(preds_df[\"category\"], preds_df[\"result\"], output_dict=True)\n",
    "results_df.loc[\"MultiClassifierDL_100d\"] = [res[\"macro avg\"][\"f1-score\"], res[\"weighted avg\"][\"f1-score\"], res[\"accuracy\"]]"
   ]
  },
  {
   "cell_type": "markdown",
   "metadata": {
    "id": "xIjin3kR9oaD"
   },
   "source": [
    "### Generic Classifier"
   ]
  },
  {
   "cell_type": "code",
   "execution_count": 229,
   "metadata": {
    "id": "kbBy9Fei9oaD",
    "tags": []
   },
   "outputs": [
    {
     "name": "stdout",
     "output_type": "stream",
     "text": [
      "\n"
     ]
    }
   ],
   "source": [
    "from sparknlp_jsl.annotator import TFGraphBuilder\n",
    "\n",
    "graph_folder = \"gc_graph\"\n",
    "\n",
    "gc_graph_builder = TFGraphBuilder()\\\n",
    "    .setModelName(\"generic_classifier\")\\\n",
    "    .setInputCols([\"features\"])\\\n",
    "    .setLabelColumn(\"category\")\\\n",
    "    .setHiddenLayers([300,200, 50])\\\n",
    "    .setHiddenAct(\"tanh\")\\\n",
    "    .setHiddenActL2(True)\\\n",
    "    .setBatchNorm(True)\\\n",
    "    .setGraphFolder(graph_folder)\\\n",
    "    .setGraphFile(\"gcf_graph_100d.pb\")"
   ]
  },
  {
   "cell_type": "code",
   "execution_count": 230,
   "metadata": {
    "id": "k_4aonYQ9oaD",
    "tags": []
   },
   "outputs": [
    {
     "name": "stdout",
     "output_type": "stream",
     "text": [
      "\n"
     ]
    }
   ],
   "source": [
    "features_asm = FeaturesAssembler()\\\n",
    "    .setInputCols([\"sentence_embeddings\"])\\\n",
    "    .setOutputCol(\"features\")\n",
    "\n",
    "gen_clf = GenericClassifierApproach()\\\n",
    "    .setLabelColumn(\"category\")\\\n",
    "    .setInputCols(\"features\")\\\n",
    "    .setOutputCol(\"prediction\")\\\n",
    "    .setModelFile(f\"{graph_folder}/gcf_graph_100d.pb\")\\\n",
    "    .setEpochsNumber(50)\\\n",
    "    .setBatchSize(32)\\\n",
    "    .setLearningRate(0.001)\\\n",
    "    .setOutputLogsPath(log_folder)\\\n",
    "    .setDropout(0.3)\\\n",
    "    .setFixImbalance(False)\\\n",
    "    # .setValidationSplit(0.1)\n",
    "\n",
    "clf_Pipeline = Pipeline(stages=[\n",
    "    features_asm,\n",
    "    gc_graph_builder,\n",
    "    gen_clf])\n"
   ]
  },
  {
   "cell_type": "code",
   "execution_count": 231,
   "metadata": {
    "colab": {
     "base_uri": "https://localhost:8080/"
    },
    "executionInfo": {
     "elapsed": 12332,
     "status": "ok",
     "timestamp": 1689692067656,
     "user": {
      "displayName": "Ahmet Mesut BİROL",
      "userId": "04340760882990254267"
     },
     "user_tz": -180
    },
    "id": "4LA5_oIb9oaE",
    "outputId": "86cb4791-0cf7-4787-82bc-cf2b58f1e78f",
    "tags": []
   },
   "outputs": [
    {
     "name": "stdout",
     "output_type": "stream",
     "text": [
      "TF Graph Builder configuration:\n",
      "Model name: generic_classifier\n",
      "Graph folder: gc_graph\n",
      "Graph file name: gcf_graph_100d.pb\n",
      "Build params: {'input_dim': 100, 'output_dim': 4, 'hidden_layers': [300, 200, 50], 'hidden_act': 'tanh', 'hidden_act_l2': True, 'batch_norm': True}\n",
      "generic_classifier graph exported to gc_graph/gcf_graph_100d.pb\n"
     ]
    }
   ],
   "source": [
    "generic_model_hc100 = clf_Pipeline.fit(trainingData_with_embeddings)"
   ]
  },
  {
   "cell_type": "code",
   "execution_count": 232,
   "metadata": {
    "id": "YSMrZRPx9oaE",
    "tags": []
   },
   "outputs": [
    {
     "name": "stdout",
     "output_type": "stream",
     "text": [
      "\n"
     ]
    }
   ],
   "source": [
    "pred_df = generic_model_hc100.transform(testData_with_embeddings)"
   ]
  },
  {
   "cell_type": "code",
   "execution_count": 233,
   "metadata": {
    "colab": {
     "base_uri": "https://localhost:8080/"
    },
    "executionInfo": {
     "elapsed": 2163,
     "status": "ok",
     "timestamp": 1689692071462,
     "user": {
      "displayName": "Ahmet Mesut BİROL",
      "userId": "04340760882990254267"
     },
     "user_tz": -180
    },
    "id": "geckbyhy9oaE",
    "outputId": "2491e3ad-7235-4e9d-ff71-2fe0dd0dd3df",
    "tags": []
   },
   "outputs": [
    {
     "name": "stdout",
     "output_type": "stream",
     "text": [
      "                  precision    recall  f1-score   support\n",
      "\n",
      "Gastroenterology       0.88      0.92      0.90        25\n",
      "       Neurology       0.82      0.82      0.82        22\n",
      "      Orthopedic       0.89      0.91      0.90        35\n",
      "         Urology       0.94      0.85      0.89        20\n",
      "\n",
      "        accuracy                           0.88       102\n",
      "       macro avg       0.88      0.88      0.88       102\n",
      "    weighted avg       0.88      0.88      0.88       102\n"
     ]
    }
   ],
   "source": [
    "preds_df = pred_df.select('category','prediction.result').toPandas()\n",
    "preds_df['result'] = preds_df.result.apply(lambda x : x[0])\n",
    "\n",
    "print (classification_report(preds_df['category'], preds_df['result']))"
   ]
  },
  {
   "cell_type": "code",
   "execution_count": 234,
   "metadata": {
    "id": "tPcFZBLmfx_P",
    "tags": []
   },
   "outputs": [
    {
     "name": "stdout",
     "output_type": "stream",
     "text": [
      "\n"
     ]
    }
   ],
   "source": [
    "res = classification_report(preds_df[\"category\"], preds_df[\"result\"], output_dict=True)\n",
    "results_df.loc[\"GenericClassifier_100d\"] = [res[\"macro avg\"][\"f1-score\"], res[\"weighted avg\"][\"f1-score\"], res[\"accuracy\"]]"
   ]
  },
  {
   "cell_type": "markdown",
   "metadata": {
    "id": "hOnIAdo9XKrE"
   },
   "source": [
    "### GenericLogRegClassifier"
   ]
  },
  {
   "cell_type": "code",
   "execution_count": 235,
   "metadata": {
    "id": "xC6Kg1KeXKrE",
    "tags": []
   },
   "outputs": [
    {
     "name": "stdout",
     "output_type": "stream",
     "text": [
      "\n"
     ]
    }
   ],
   "source": [
    "from sparknlp_jsl.annotator import TFGraphBuilder\n",
    "\n",
    "graph_folder = \"gc_graph\"\n",
    "\n",
    "gc_logreg_graph_builder = TFGraphBuilder()\\\n",
    "    .setModelName(\"logreg_classifier\")\\\n",
    "    .setInputCols([\"feature_vector\"]) \\\n",
    "    .setLabelColumn(\"category\")\\\n",
    "    .setGraphFolder(graph_folder)\\\n",
    "    .setGraphFile(\"log_reg_graph.pb\")"
   ]
  },
  {
   "cell_type": "markdown",
   "metadata": {
    "id": "8R6PZ_qlXKrE"
   },
   "source": [
    "GenericLogRegClassifier needs outputs from FeaturesAssembler. The FeaturesAssembler is used to collect features from different columns or an embeddings column.\n",
    "\n",
    "The GenericLogRegClassifier takes FEATURE_VECTOR annotations as input, classifies them and outputs CATEGORY annotations."
   ]
  },
  {
   "cell_type": "code",
   "execution_count": 236,
   "metadata": {
    "id": "EWrEoT2sXKrF",
    "tags": []
   },
   "outputs": [
    {
     "name": "stdout",
     "output_type": "stream",
     "text": [
      "\n"
     ]
    }
   ],
   "source": [
    "features_asm = FeaturesAssembler()\\\n",
    "    .setInputCols([\"sentence_embeddings\"])\\\n",
    "    .setOutputCol(\"feature_vector\")\n",
    "\n",
    "gen_clf = GenericLogRegClassifierApproach()\\\n",
    "    .setLabelColumn(\"category\")\\\n",
    "    .setInputCols(\"feature_vector\")\\\n",
    "    .setOutputCol(\"prediction\")\\\n",
    "    .setModelFile(f\"{graph_folder}/log_reg_graph.pb\")\\\n",
    "    .setEpochsNumber(45)\\\n",
    "    .setBatchSize(32)\\\n",
    "    .setLearningRate(0.02)\\\n",
    "    .setOutputLogsPath(log_folder)\\\n",
    "    .setDropout(0.1)\\\n",
    "    .setFixImbalance(True)\\\n",
    "    # .setValidationSplit(0.1)\n",
    "\n",
    "clf_Pipeline = Pipeline(stages=[\n",
    "    features_asm,\n",
    "    gc_logreg_graph_builder,\n",
    "    gen_clf])\n"
   ]
  },
  {
   "cell_type": "code",
   "execution_count": 237,
   "metadata": {
    "colab": {
     "base_uri": "https://localhost:8080/"
    },
    "executionInfo": {
     "elapsed": 9318,
     "status": "ok",
     "timestamp": 1689692080775,
     "user": {
      "displayName": "Ahmet Mesut BİROL",
      "userId": "04340760882990254267"
     },
     "user_tz": -180
    },
    "id": "Bfkzw4n3XKrF",
    "outputId": "f65152b8-ebbe-4c81-86a8-bd10d90587fb",
    "tags": []
   },
   "outputs": [
    {
     "name": "stdout",
     "output_type": "stream",
     "text": [
      "TF Graph Builder configuration:\n",
      "Model name: logreg_classifier\n",
      "Graph folder: gc_graph\n",
      "Graph file name: log_reg_graph.pb\n",
      "Build params: {'input_dim': 100, 'output_dim': 4, 'hidden_layers': [], 'output_act': 'sigmoid'}\n",
      "logreg_classifier graph exported to gc_graph/log_reg_graph.pb\n"
     ]
    }
   ],
   "source": [
    "generic_model_hc100 = clf_Pipeline.fit(trainingData_with_embeddings)"
   ]
  },
  {
   "cell_type": "code",
   "execution_count": 238,
   "metadata": {
    "id": "FAP8vtiUXKrG",
    "tags": []
   },
   "outputs": [
    {
     "name": "stdout",
     "output_type": "stream",
     "text": [
      "\n"
     ]
    }
   ],
   "source": [
    "pred_df = generic_model_hc100.transform(testData_with_embeddings)"
   ]
  },
  {
   "cell_type": "code",
   "execution_count": 239,
   "metadata": {
    "colab": {
     "base_uri": "https://localhost:8080/"
    },
    "executionInfo": {
     "elapsed": 1976,
     "status": "ok",
     "timestamp": 1689692084573,
     "user": {
      "displayName": "Ahmet Mesut BİROL",
      "userId": "04340760882990254267"
     },
     "user_tz": -180
    },
    "id": "caRWCdadXKrG",
    "outputId": "e447262d-d1ca-46f0-ca17-40fcc7c31242",
    "tags": []
   },
   "outputs": [
    {
     "name": "stdout",
     "output_type": "stream",
     "text": [
      "                  precision    recall  f1-score   support\n",
      "\n",
      "Gastroenterology       0.91      0.84      0.87        25\n",
      "       Neurology       0.82      0.82      0.82        22\n",
      "      Orthopedic       0.86      0.91      0.89        35\n",
      "         Urology       0.85      0.85      0.85        20\n",
      "\n",
      "        accuracy                           0.86       102\n",
      "       macro avg       0.86      0.86      0.86       102\n",
      "    weighted avg       0.86      0.86      0.86       102\n"
     ]
    }
   ],
   "source": [
    "preds_df = pred_df.select('category','prediction.result').toPandas()\n",
    "preds_df['result'] = preds_df.result.apply(lambda x : x[0])\n",
    "\n",
    "print (classification_report(preds_df['category'], preds_df['result']))"
   ]
  },
  {
   "cell_type": "code",
   "execution_count": 240,
   "metadata": {
    "id": "BORghUP2XYdp",
    "tags": []
   },
   "outputs": [
    {
     "name": "stdout",
     "output_type": "stream",
     "text": [
      "\n"
     ]
    }
   ],
   "source": [
    "res = classification_report(preds_df[\"category\"], preds_df[\"result\"], output_dict=True)\n",
    "results_df.loc[\"GenericLogReg_100d\"] = [res[\"macro avg\"][\"f1-score\"], res[\"weighted avg\"][\"f1-score\"], res[\"accuracy\"]]"
   ]
  },
  {
   "cell_type": "markdown",
   "metadata": {
    "id": "wNNMzT-XXYmA"
   },
   "source": [
    "### GenericSVMClassifier"
   ]
  },
  {
   "cell_type": "code",
   "execution_count": 241,
   "metadata": {
    "id": "M7ludWh3XYmB",
    "tags": []
   },
   "outputs": [
    {
     "name": "stdout",
     "output_type": "stream",
     "text": [
      "\n"
     ]
    }
   ],
   "source": [
    "from sparknlp_jsl.annotator import TFGraphBuilder\n",
    "\n",
    "graph_folder = \"gc_graph\"\n",
    "\n",
    "gc_svm_graph_builder = TFGraphBuilder()\\\n",
    "    .setModelName(\"svm_classifier\")\\\n",
    "    .setInputCols([\"feature_vector\"]) \\\n",
    "    .setLabelColumn(\"category\")\\\n",
    "    .setGraphFolder(graph_folder)\\\n",
    "    .setGraphFile(\"svm_graph.pb\")"
   ]
  },
  {
   "cell_type": "markdown",
   "metadata": {
    "id": "pLqqH3HOXYmB"
   },
   "source": [
    "GenericSVMClassifier needs outputs from FeaturesAssembler. The FeaturesAssembler is used to collect features from different columns or an embeddings column.\n",
    "\n",
    "The GenericSVMClassifier takes FEATURE_VECTOR annotations as input, classifies them and outputs CATEGORY annotations."
   ]
  },
  {
   "cell_type": "code",
   "execution_count": 242,
   "metadata": {
    "id": "jNZAxL3iXYmB",
    "tags": []
   },
   "outputs": [
    {
     "name": "stdout",
     "output_type": "stream",
     "text": [
      "\n"
     ]
    }
   ],
   "source": [
    "features_asm = FeaturesAssembler()\\\n",
    "    .setInputCols([\"sentence_embeddings\"])\\\n",
    "    .setOutputCol(\"feature_vector\")\n",
    "\n",
    "gen_clf = GenericSVMClassifierApproach()\\\n",
    "    .setLabelColumn(\"category\")\\\n",
    "    .setInputCols(\"feature_vector\")\\\n",
    "    .setOutputCol(\"prediction\")\\\n",
    "    .setModelFile(f\"{graph_folder}/svm_graph.pb\")\\\n",
    "    .setEpochsNumber(45)\\\n",
    "    .setBatchSize(32)\\\n",
    "    .setLearningRate(0.02)\\\n",
    "    .setOutputLogsPath(log_folder)\\\n",
    "    .setDropout(0.1)\\\n",
    "    .setFixImbalance(True)\\\n",
    "    # .setValidationSplit(0.1)\n",
    "\n",
    "clf_Pipeline = Pipeline(stages=[\n",
    "    features_asm,\n",
    "    gc_svm_graph_builder,\n",
    "    gen_clf])\n"
   ]
  },
  {
   "cell_type": "code",
   "execution_count": 243,
   "metadata": {
    "colab": {
     "base_uri": "https://localhost:8080/"
    },
    "executionInfo": {
     "elapsed": 9269,
     "status": "ok",
     "timestamp": 1689692093836,
     "user": {
      "displayName": "Ahmet Mesut BİROL",
      "userId": "04340760882990254267"
     },
     "user_tz": -180
    },
    "id": "FOpLj7MbXYmB",
    "outputId": "84d0def0-cbd2-474c-93c6-9c8b82b9d15f",
    "tags": []
   },
   "outputs": [
    {
     "name": "stdout",
     "output_type": "stream",
     "text": [
      "TF Graph Builder configuration:\n",
      "Model name: svm_classifier\n",
      "Graph folder: gc_graph\n",
      "Graph file name: svm_graph.pb\n",
      "Build params: {'input_dim': 100, 'output_dim': 4, 'hidden_layers': [], 'output_act': 'sigmoid', 'loss_func': 'hinge'}\n",
      "svm_classifier graph exported to gc_graph/svm_graph.pb\n"
     ]
    }
   ],
   "source": [
    "generic_model_hc100 = clf_Pipeline.fit(trainingData_with_embeddings)"
   ]
  },
  {
   "cell_type": "code",
   "execution_count": 244,
   "metadata": {
    "id": "pN0Ts7VqXYmC",
    "tags": []
   },
   "outputs": [
    {
     "name": "stdout",
     "output_type": "stream",
     "text": [
      "\n"
     ]
    }
   ],
   "source": [
    "pred_df = generic_model_hc100.transform(testData_with_embeddings)"
   ]
  },
  {
   "cell_type": "code",
   "execution_count": 245,
   "metadata": {
    "colab": {
     "base_uri": "https://localhost:8080/"
    },
    "executionInfo": {
     "elapsed": 1714,
     "status": "ok",
     "timestamp": 1689692097487,
     "user": {
      "displayName": "Ahmet Mesut BİROL",
      "userId": "04340760882990254267"
     },
     "user_tz": -180
    },
    "id": "KRFJdGyEXYmC",
    "outputId": "ccd51e34-4438-4c9d-b210-f772d60fda5f",
    "tags": []
   },
   "outputs": [
    {
     "name": "stdout",
     "output_type": "stream",
     "text": [
      "                  precision    recall  f1-score   support\n",
      "\n",
      "Gastroenterology       0.88      0.88      0.88        25\n",
      "       Neurology       0.89      0.77      0.83        22\n",
      "      Orthopedic       0.82      0.94      0.88        35\n",
      "         Urology       0.94      0.85      0.89        20\n",
      "\n",
      "        accuracy                           0.87       102\n",
      "       macro avg       0.89      0.86      0.87       102\n",
      "    weighted avg       0.88      0.87      0.87       102\n"
     ]
    }
   ],
   "source": [
    "preds_df = pred_df.select('category','prediction.result').toPandas()\n",
    "preds_df['result'] = preds_df.result.apply(lambda x : x[0])\n",
    "\n",
    "print (classification_report(preds_df['category'], preds_df['result']))"
   ]
  },
  {
   "cell_type": "code",
   "execution_count": 246,
   "metadata": {
    "id": "e9MRze1vgYvu",
    "tags": []
   },
   "outputs": [
    {
     "name": "stdout",
     "output_type": "stream",
     "text": [
      "\n"
     ]
    }
   ],
   "source": [
    "res = classification_report(preds_df[\"category\"], preds_df[\"result\"], output_dict=True)\n",
    "results_df.loc[\"GenericSVM_100d\"] = [res[\"macro avg\"][\"f1-score\"], res[\"weighted avg\"][\"f1-score\"], res[\"accuracy\"]]"
   ]
  },
  {
   "cell_type": "markdown",
   "metadata": {
    "id": "kF60nUsj9oaE"
   },
   "source": [
    "## 200 Dimension Healthcare Embeddings (embeddings_clinical)\n",
    "\n"
   ]
  },
  {
   "cell_type": "markdown",
   "metadata": {
    "id": "fBJMu9pr9oaE"
   },
   "source": [
    "Now we will extract [embeddings_clinical](https://nlp.johnsnowlabs.com/2020/01/28/embeddings_clinical_en.html) embeddings which has 200 dimension output and use this embeddings in the model training."
   ]
  },
  {
   "cell_type": "code",
   "execution_count": 247,
   "metadata": {
    "colab": {
     "base_uri": "https://localhost:8080/"
    },
    "executionInfo": {
     "elapsed": 3236,
     "status": "ok",
     "timestamp": 1689692100715,
     "user": {
      "displayName": "Ahmet Mesut BİROL",
      "userId": "04340760882990254267"
     },
     "user_tz": -180
    },
    "id": "PzSG35rb9oaE",
    "outputId": "7b58d745-24f3-4162-a456-609848c93167",
    "tags": []
   },
   "outputs": [
    {
     "name": "stdout",
     "output_type": "stream",
     "text": [
      "embeddings_clinical download started this may take some time.\n",
      "Approximate size to download 1.6 GB\n",
      "[OK!]\n"
     ]
    }
   ],
   "source": [
    "document_assembler = DocumentAssembler()\\\n",
    "        .setInputCol(\"text\")\\\n",
    "        .setOutputCol(\"document\")\n",
    "\n",
    "tokenizer = Tokenizer() \\\n",
    "            .setInputCols([\"document\"]) \\\n",
    "            .setOutputCol(\"token\")\n",
    "\n",
    "word_embeddings = WordEmbeddingsModel.pretrained(\"embeddings_clinical\",\"en\",\"clinical/models\")\\\n",
    "        .setInputCols([\"document\",\"token\"])\\\n",
    "        .setOutputCol(\"word_embeddings\")\n",
    "\n",
    "sentence_embeddings = SentenceEmbeddings() \\\n",
    "        .setInputCols([\"document\", \"word_embeddings\"]) \\\n",
    "        .setOutputCol(\"sentence_embeddings\") \\\n",
    "        .setPoolingStrategy(\"AVERAGE\")\n",
    "\n",
    "embeddings_pipeline = Pipeline(\n",
    "    stages = [\n",
    "        document_assembler,\n",
    "        tokenizer,\n",
    "        word_embeddings,\n",
    "        sentence_embeddings,\n",
    "    ])"
   ]
  },
  {
   "cell_type": "code",
   "execution_count": 248,
   "metadata": {
    "colab": {
     "base_uri": "https://localhost:8080/"
    },
    "executionInfo": {
     "elapsed": 998,
     "status": "ok",
     "timestamp": 1689692101706,
     "user": {
      "displayName": "Ahmet Mesut BİROL",
      "userId": "04340760882990254267"
     },
     "user_tz": -180
    },
    "id": "MXN8Cqyp9oaF",
    "outputId": "ac07c71b-2720-4b1b-832b-33adae745759",
    "tags": []
   },
   "outputs": [
    {
     "name": "stdout",
     "output_type": "stream",
     "text": [
      "+------------------------------------------------------------+----------------+------------------------------------------------------------+\n",
      "|                                                        text|        category|                                         sentence_embeddings|\n",
      "+------------------------------------------------------------+----------------+------------------------------------------------------------+\n",
      "| ADMISSION DIAGNOSIS: Symptomatic cholelithiasis. DISCHAR...|Gastroenterology|[{sentence_embeddings, 0, 2228,  ADMISSION DIAGNOSIS: Sym...|\n",
      "| ADMITTING DIAGNOSES: Hiatal hernia, gastroesophageal ref...|Gastroenterology|[{sentence_embeddings, 0, 3237,  ADMITTING DIAGNOSES: Hia...|\n",
      "+------------------------------------------------------------+----------------+------------------------------------------------------------+\n",
      "only showing top 2 rows\n"
     ]
    }
   ],
   "source": [
    "trainingData_with_embeddings = embeddings_pipeline.fit(trainingData).transform(trainingData)\\\n",
    "                                                  .select(\"text\",\"category\",\"sentence_embeddings\")\n",
    "trainingData_with_embeddings.show(2,truncate=60)"
   ]
  },
  {
   "cell_type": "code",
   "execution_count": 249,
   "metadata": {
    "colab": {
     "base_uri": "https://localhost:8080/"
    },
    "executionInfo": {
     "elapsed": 1155,
     "status": "ok",
     "timestamp": 1689692102858,
     "user": {
      "displayName": "Ahmet Mesut BİROL",
      "userId": "04340760882990254267"
     },
     "user_tz": -180
    },
    "id": "fpBY0D_y9oaF",
    "outputId": "0b06b466-284b-48a8-9210-b50782d231bc",
    "tags": []
   },
   "outputs": [
    {
     "name": "stdout",
     "output_type": "stream",
     "text": [
      "+------------------------------------------------------------+----------------+------------------------------------------------------------+\n",
      "|                                                        text|        category|                                         sentence_embeddings|\n",
      "+------------------------------------------------------------+----------------+------------------------------------------------------------+\n",
      "| ADMITTING DIAGNOSIS: Gastrointestinal bleed. HISTORY OF ...|Gastroenterology|[{sentence_embeddings, 0, 3978,  ADMITTING DIAGNOSIS: Gas...|\n",
      "| CHIEF COMPLAINT: Dysphagia and hematemesis while vomitin...|Gastroenterology|[{sentence_embeddings, 0, 6515,  CHIEF COMPLAINT: Dysphag...|\n",
      "+------------------------------------------------------------+----------------+------------------------------------------------------------+\n",
      "only showing top 2 rows\n"
     ]
    }
   ],
   "source": [
    "testData_with_embeddings = embeddings_pipeline.fit(testData).transform(testData)\\\n",
    "                                                  .select(\"text\",\"category\",\"sentence_embeddings\")\n",
    "testData_with_embeddings.show(2,truncate=60)"
   ]
  },
  {
   "cell_type": "code",
   "execution_count": 250,
   "metadata": {
    "id": "GGIXfOlX9oaF",
    "tags": []
   },
   "outputs": [
    {
     "name": "stdout",
     "output_type": "stream",
     "text": [
      "\n"
     ]
    }
   ],
   "source": [
    "log_folder=\"Mt_logs_healthcare_200d\""
   ]
  },
  {
   "cell_type": "markdown",
   "metadata": {
    "id": "5W6ac3UP9oaF"
   },
   "source": [
    "### ClassifierDL"
   ]
  },
  {
   "cell_type": "code",
   "execution_count": 251,
   "metadata": {
    "id": "2z7EgX-q9oaF",
    "tags": []
   },
   "outputs": [
    {
     "name": "stdout",
     "output_type": "stream",
     "text": [
      "\n"
     ]
    }
   ],
   "source": [
    "classifier_dl = ClassifierDLApproach()\\\n",
    "        .setInputCols([\"sentence_embeddings\"])\\\n",
    "        .setOutputCol(\"class\")\\\n",
    "        .setLabelColumn(\"category\")\\\n",
    "        .setBatchSize(32)\\\n",
    "        .setMaxEpochs(30)\\\n",
    "        .setLr(0.01)\\\n",
    "        .setDropout(0.1)\\\n",
    "        .setEnableOutputLogs(True)\\\n",
    "        .setOutputLogsPath(log_folder)\n",
    "\n",
    "classifier_dl_pipeline = Pipeline(stages=[classifier_dl])"
   ]
  },
  {
   "cell_type": "code",
   "execution_count": 252,
   "metadata": {
    "id": "U0mSiCzC9oaF",
    "tags": []
   },
   "outputs": [
    {
     "name": "stdout",
     "output_type": "stream",
     "text": [
      "\n"
     ]
    }
   ],
   "source": [
    "clfDL_model_hc200 = classifier_dl_pipeline.fit(trainingData_with_embeddings)"
   ]
  },
  {
   "cell_type": "code",
   "execution_count": 253,
   "metadata": {
    "colab": {
     "base_uri": "https://localhost:8080/"
    },
    "executionInfo": {
     "elapsed": 7095,
     "status": "ok",
     "timestamp": 1689692155561,
     "user": {
      "displayName": "Ahmet Mesut BİROL",
      "userId": "04340760882990254267"
     },
     "user_tz": -180
    },
    "id": "boLjiAyP9oaF",
    "outputId": "5463d63e-bc09-4472-cc7c-dc389c5d1a97",
    "tags": []
   },
   "outputs": [
    {
     "name": "stdout",
     "output_type": "stream",
     "text": [
      "                  precision    recall  f1-score   support\n",
      "\n",
      "Gastroenterology       0.90      0.72      0.80        25\n",
      "       Neurology       0.72      0.59      0.65        22\n",
      "      Orthopedic       0.83      0.97      0.89        35\n",
      "         Urology       0.65      0.75      0.70        20\n",
      "\n",
      "        accuracy                           0.78       102\n",
      "       macro avg       0.78      0.76      0.76       102\n",
      "    weighted avg       0.79      0.78      0.78       102\n"
     ]
    }
   ],
   "source": [
    "preds = clfDL_model_hc200.transform(testData_with_embeddings)\n",
    "\n",
    "preds_df = preds.select(\"category\",\"text\",\"class.result\").toPandas()\n",
    "preds_df[\"result\"] = preds_df[\"result\"].apply(lambda x : x[0])\n",
    "\n",
    "print (classification_report(preds_df[\"category\"], preds_df[\"result\"]))"
   ]
  },
  {
   "cell_type": "code",
   "execution_count": 254,
   "metadata": {
    "id": "y5pntLOjhJeR",
    "tags": []
   },
   "outputs": [
    {
     "name": "stdout",
     "output_type": "stream",
     "text": [
      "\n"
     ]
    }
   ],
   "source": [
    "res = classification_report(preds_df[\"category\"], preds_df[\"result\"], output_dict=True)\n",
    "results_df.loc[\"ClassifierDL_200d\"] = [res[\"macro avg\"][\"f1-score\"], res[\"weighted avg\"][\"f1-score\"], res[\"accuracy\"]]"
   ]
  },
  {
   "cell_type": "markdown",
   "metadata": {
    "id": "y_hWPzoj9oaG"
   },
   "source": [
    "### MultiClassifierDL\n",
    "\n"
   ]
  },
  {
   "cell_type": "code",
   "execution_count": 255,
   "metadata": {
    "id": "mcUXN0td9oaG",
    "tags": []
   },
   "outputs": [
    {
     "name": "stdout",
     "output_type": "stream",
     "text": [
      "\n"
     ]
    }
   ],
   "source": [
    "# MultiClassifierDL accepts list of strings as input label. So we convert label column to array type.\n",
    "trainingData_with_embeddings = trainingData_with_embeddings.withColumn(\"category_array\", F.array(F.col(\"category\")))\n",
    "testData_with_embeddings = testData_with_embeddings.withColumn(\"category_array\", F.array(F.col(\"category\")))"
   ]
  },
  {
   "cell_type": "code",
   "execution_count": 256,
   "metadata": {
    "id": "4YBVhvLL9oaG",
    "tags": []
   },
   "outputs": [
    {
     "name": "stdout",
     "output_type": "stream",
     "text": [
      "\n"
     ]
    }
   ],
   "source": [
    "multiClassifier = MultiClassifierDLApproach()\\\n",
    "  .setInputCols(\"sentence_embeddings\")\\\n",
    "  .setOutputCol(\"prediction\")\\\n",
    "  .setLabelColumn(\"category_array\")\\\n",
    "  .setBatchSize(16)\\\n",
    "  .setMaxEpochs(20)\\\n",
    "  .setLr(9e-3)\\\n",
    "  .setThreshold(0.2)\\\n",
    "  .setShufflePerEpoch(False)\\\n",
    "  .setEnableOutputLogs(True)\\\n",
    "  .setOutputLogsPath(log_folder)\\\n",
    "#   .setValidationSplit(0.1)\n",
    "\n",
    "multiClassifier_pipeline = Pipeline(\n",
    "    stages = [\n",
    "        multiClassifier\n",
    "    ])"
   ]
  },
  {
   "cell_type": "code",
   "execution_count": 257,
   "metadata": {
    "id": "ABetRCmn9oaG",
    "tags": []
   },
   "outputs": [
    {
     "name": "stdout",
     "output_type": "stream",
     "text": [
      "\n"
     ]
    }
   ],
   "source": [
    "multiClassifier_model_hc200 = multiClassifier_pipeline.fit(trainingData_with_embeddings)"
   ]
  },
  {
   "cell_type": "code",
   "execution_count": 258,
   "metadata": {
    "id": "EdZbqqEk9oaG",
    "tags": []
   },
   "outputs": [
    {
     "name": "stdout",
     "output_type": "stream",
     "text": [
      "\n"
     ]
    }
   ],
   "source": [
    "preds = multiClassifier_model_hc200.transform(testData_with_embeddings)"
   ]
  },
  {
   "cell_type": "code",
   "execution_count": 259,
   "metadata": {
    "colab": {
     "base_uri": "https://localhost:8080/"
    },
    "executionInfo": {
     "elapsed": 20712,
     "status": "ok",
     "timestamp": 1689692255012,
     "user": {
      "displayName": "Ahmet Mesut BİROL",
      "userId": "04340760882990254267"
     },
     "user_tz": -180
    },
    "id": "lY4vVTH29oaG",
    "outputId": "569702b9-2d34-42eb-e338-39e7fecaeed5",
    "tags": []
   },
   "outputs": [
    {
     "name": "stdout",
     "output_type": "stream",
     "text": [
      "['Orthopedic']                       22\n",
      "['Gastroenterology']                 21\n",
      "['Neurology']                        20\n",
      "['Urology']                          17\n",
      "['Orthopedic', 'Neurology']          15\n",
      "['Gastroenterology', 'Neurology']     3\n",
      "['Urology', 'Gastroenterology']       3\n",
      "[]                                    1\n",
      "Name: result, dtype: int64\n"
     ]
    }
   ],
   "source": [
    "preds_df = preds.select(\"category\",\"text\",\"prediction.result\",\"prediction.metadata\").toPandas()\n",
    "preds_df.result.apply(lambda x: str(x) ).value_counts()"
   ]
  },
  {
   "cell_type": "code",
   "execution_count": 260,
   "metadata": {
    "colab": {
     "base_uri": "https://localhost:8080/"
    },
    "executionInfo": {
     "elapsed": 54,
     "status": "ok",
     "timestamp": 1689692255013,
     "user": {
      "displayName": "Ahmet Mesut BİROL",
      "userId": "04340760882990254267"
     },
     "user_tz": -180
    },
    "id": "DOKLfZR59oaH",
    "outputId": "31ca0a29-de89-4592-bf8c-c5ae917bf352",
    "tags": []
   },
   "outputs": [
    {
     "name": "stdout",
     "output_type": "stream",
     "text": [
      "Neurology           29\n",
      "Orthopedic          29\n",
      "Gastroenterology    24\n",
      "Urology             19\n",
      "Name: result, dtype: int64\n"
     ]
    }
   ],
   "source": [
    "# We will get the highest score label as result. you can control the number of zero label results with setThreshold() in the training.\n",
    "preds_df[\"scores\"] = preds_df.metadata.apply(lambda x: {k:float(v) for k,v in x[0].items()} if len(x)>=1 else \"\")\n",
    "preds_df[\"result\"] = preds_df.scores.apply(lambda x: max(x, key=x.get) if len(x)>=1 else \"\")\n",
    "preds_df = preds_df[(preds_df[\"result\"]!=\"\")]\n",
    "preds_df[\"result\"].value_counts()"
   ]
  },
  {
   "cell_type": "code",
   "execution_count": 261,
   "metadata": {
    "colab": {
     "base_uri": "https://localhost:8080/"
    },
    "executionInfo": {
     "elapsed": 36,
     "status": "ok",
     "timestamp": 1689692255013,
     "user": {
      "displayName": "Ahmet Mesut BİROL",
      "userId": "04340760882990254267"
     },
     "user_tz": -180
    },
    "id": "2E9ibEbQ9oaH",
    "outputId": "d346f969-477e-496c-d233-eb01e876b27c",
    "tags": []
   },
   "outputs": [
    {
     "name": "stdout",
     "output_type": "stream",
     "text": [
      "                  precision    recall  f1-score   support\n",
      "\n",
      "Gastroenterology       0.92      0.88      0.90        25\n",
      "       Neurology       0.66      0.90      0.76        21\n",
      "      Orthopedic       0.93      0.77      0.84        35\n",
      "         Urology       0.89      0.85      0.87        20\n",
      "\n",
      "        accuracy                           0.84       101\n",
      "       macro avg       0.85      0.85      0.84       101\n",
      "    weighted avg       0.86      0.84      0.85       101\n"
     ]
    }
   ],
   "source": [
    "print (classification_report(preds_df[\"category\"], preds_df[\"result\"]))"
   ]
  },
  {
   "cell_type": "code",
   "execution_count": 262,
   "metadata": {
    "id": "q_CLW7TEgsdY",
    "tags": []
   },
   "outputs": [
    {
     "name": "stdout",
     "output_type": "stream",
     "text": [
      "\n"
     ]
    }
   ],
   "source": [
    "res = classification_report(preds_df[\"category\"], preds_df[\"result\"], output_dict=True)\n",
    "results_df.loc[\"MultiClassifierDL_200d\"] = [res[\"macro avg\"][\"f1-score\"], res[\"weighted avg\"][\"f1-score\"], res[\"accuracy\"]]"
   ]
  },
  {
   "cell_type": "markdown",
   "metadata": {
    "id": "7gUOXo5W9oaH"
   },
   "source": [
    "### Generic Classifier"
   ]
  },
  {
   "cell_type": "code",
   "execution_count": 263,
   "metadata": {
    "id": "sRkEeD1N9oaH",
    "tags": []
   },
   "outputs": [
    {
     "name": "stdout",
     "output_type": "stream",
     "text": [
      "\n"
     ]
    }
   ],
   "source": [
    "from sparknlp_jsl.annotator import TFGraphBuilder\n",
    "\n",
    "graph_folder = \"gc_graph\"\n",
    "\n",
    "gc_graph_builder = TFGraphBuilder()\\\n",
    "    .setModelName(\"generic_classifier\")\\\n",
    "    .setInputCols([\"features\"])\\\n",
    "    .setLabelColumn(\"category\")\\\n",
    "    .setHiddenLayers([300,200, 50])\\\n",
    "    .setHiddenAct(\"tanh\")\\\n",
    "    .setHiddenActL2(True)\\\n",
    "    .setBatchNorm(True)\\\n",
    "    .setGraphFolder(graph_folder)\\\n",
    "    .setGraphFile(\"gcf_graph_200d.pb\")"
   ]
  },
  {
   "cell_type": "code",
   "execution_count": 264,
   "metadata": {
    "id": "NhVTwRJP9oaH",
    "tags": []
   },
   "outputs": [
    {
     "name": "stdout",
     "output_type": "stream",
     "text": [
      "\n"
     ]
    }
   ],
   "source": [
    "features_asm = FeaturesAssembler()\\\n",
    "    .setInputCols([\"sentence_embeddings\"])\\\n",
    "    .setOutputCol(\"features\")\n",
    "\n",
    "gen_clf = GenericClassifierApproach()\\\n",
    "    .setLabelColumn(\"category\")\\\n",
    "    .setInputCols(\"features\")\\\n",
    "    .setOutputCol(\"prediction\")\\\n",
    "    .setModelFile(f\"{graph_folder}/gcf_graph_200d.pb\")\\\n",
    "    .setEpochsNumber(30)\\\n",
    "    .setBatchSize(32)\\\n",
    "    .setLearningRate(0.001)\\\n",
    "    .setOutputLogsPath(log_folder)\\\n",
    "    .setDropout(0.3)\\\n",
    "    .setFixImbalance(True)\\\n",
    "    # .setValidationSplit(0.1)\n",
    "\n",
    "clf_Pipeline = Pipeline(stages=[\n",
    "    features_asm,\n",
    "    gc_graph_builder,\n",
    "    gen_clf])\n"
   ]
  },
  {
   "cell_type": "code",
   "execution_count": 265,
   "metadata": {
    "colab": {
     "base_uri": "https://localhost:8080/"
    },
    "executionInfo": {
     "elapsed": 16990,
     "status": "ok",
     "timestamp": 1689692271984,
     "user": {
      "displayName": "Ahmet Mesut BİROL",
      "userId": "04340760882990254267"
     },
     "user_tz": -180
    },
    "id": "98tT6yJQ9oaH",
    "outputId": "19c7a308-7129-44d0-8d6d-ac26d05d35ef",
    "tags": []
   },
   "outputs": [
    {
     "name": "stdout",
     "output_type": "stream",
     "text": [
      "TF Graph Builder configuration:\n",
      "Model name: generic_classifier\n",
      "Graph folder: gc_graph\n",
      "Graph file name: gcf_graph_200d.pb\n",
      "Build params: {'input_dim': 200, 'output_dim': 4, 'hidden_layers': [300, 200, 50], 'hidden_act': 'tanh', 'hidden_act_l2': True, 'batch_norm': True}\n",
      "generic_classifier graph exported to gc_graph/gcf_graph_200d.pb\n"
     ]
    }
   ],
   "source": [
    "generic_model_hc200 = clf_Pipeline.fit(trainingData_with_embeddings)"
   ]
  },
  {
   "cell_type": "code",
   "execution_count": 266,
   "metadata": {
    "colab": {
     "base_uri": "https://localhost:8080/"
    },
    "executionInfo": {
     "elapsed": 6973,
     "status": "ok",
     "timestamp": 1689692278927,
     "user": {
      "displayName": "Ahmet Mesut BİROL",
      "userId": "04340760882990254267"
     },
     "user_tz": -180
    },
    "id": "hsId-8YF9oaI",
    "outputId": "4c675d30-fbef-4e54-f440-9e81137ff1eb",
    "tags": []
   },
   "outputs": [
    {
     "name": "stdout",
     "output_type": "stream",
     "text": [
      "                  precision    recall  f1-score   support\n",
      "\n",
      "Gastroenterology       0.96      0.88      0.92        25\n",
      "       Neurology       0.89      0.73      0.80        22\n",
      "      Orthopedic       0.85      0.94      0.89        35\n",
      "         Urology       0.86      0.95      0.90        20\n",
      "\n",
      "        accuracy                           0.88       102\n",
      "       macro avg       0.89      0.88      0.88       102\n",
      "    weighted avg       0.89      0.88      0.88       102\n"
     ]
    }
   ],
   "source": [
    "pred_df = generic_model_hc200.transform(testData_with_embeddings)\n",
    "\n",
    "preds_df = pred_df.select('category','prediction.result').toPandas()\n",
    "preds_df['result'] = preds_df.result.apply(lambda x : x[0])\n",
    "\n",
    "print (classification_report(preds_df['category'], preds_df['result']))"
   ]
  },
  {
   "cell_type": "code",
   "execution_count": 267,
   "metadata": {
    "id": "uCYwGW_dXRLw",
    "tags": []
   },
   "outputs": [
    {
     "name": "stdout",
     "output_type": "stream",
     "text": [
      "\n"
     ]
    }
   ],
   "source": [
    "res = classification_report(preds_df[\"category\"], preds_df[\"result\"], output_dict=True)\n",
    "results_df.loc[\"GenericClassifier_200d\"] = [res[\"macro avg\"][\"f1-score\"], res[\"weighted avg\"][\"f1-score\"], res[\"accuracy\"]]"
   ]
  },
  {
   "cell_type": "markdown",
   "metadata": {
    "id": "yz9TOU2DXReN"
   },
   "source": [
    "### GenericLogRegClassifier"
   ]
  },
  {
   "cell_type": "code",
   "execution_count": 268,
   "metadata": {
    "id": "w-_bSCH6XReN",
    "tags": []
   },
   "outputs": [
    {
     "name": "stdout",
     "output_type": "stream",
     "text": [
      "\n"
     ]
    }
   ],
   "source": [
    "from sparknlp_jsl.annotator import TFGraphBuilder\n",
    "\n",
    "graph_folder = \"gc_graph\"\n",
    "\n",
    "gc_logreg_graph_builder = TFGraphBuilder()\\\n",
    "    .setModelName(\"logreg_classifier\")\\\n",
    "    .setInputCols([\"feature_vector\"]) \\\n",
    "    .setLabelColumn(\"category\")\\\n",
    "    .setGraphFolder(graph_folder)\\\n",
    "    .setGraphFile(\"log_reg_graph.pb\")"
   ]
  },
  {
   "cell_type": "markdown",
   "metadata": {
    "id": "e2JtY0P5XReN"
   },
   "source": [
    "GenericLogRegClassifier needs outputs from FeaturesAssembler. The FeaturesAssembler is used to collect features from different columns or an embeddings column.\n",
    "\n",
    "The GenericLogRegClassifier takes FEATURE_VECTOR annotations as input, classifies them and outputs CATEGORY annotations."
   ]
  },
  {
   "cell_type": "code",
   "execution_count": 269,
   "metadata": {
    "id": "baz581gzXReN",
    "tags": []
   },
   "outputs": [
    {
     "name": "stdout",
     "output_type": "stream",
     "text": [
      "\n"
     ]
    }
   ],
   "source": [
    "features_asm = FeaturesAssembler()\\\n",
    "    .setInputCols([\"sentence_embeddings\"])\\\n",
    "    .setOutputCol(\"feature_vector\")\n",
    "\n",
    "gen_clf = GenericLogRegClassifierApproach()\\\n",
    "    .setLabelColumn(\"category\")\\\n",
    "    .setInputCols(\"feature_vector\")\\\n",
    "    .setOutputCol(\"prediction\")\\\n",
    "    .setModelFile(f\"{graph_folder}/log_reg_graph.pb\")\\\n",
    "    .setEpochsNumber(45)\\\n",
    "    .setBatchSize(32)\\\n",
    "    .setLearningRate(0.02)\\\n",
    "    .setOutputLogsPath(log_folder)\\\n",
    "    .setDropout(0.1)\\\n",
    "    .setFixImbalance(True)\\\n",
    "    # .setValidationSplit(0.1)\n",
    "\n",
    "clf_Pipeline = Pipeline(stages=[\n",
    "    features_asm,\n",
    "    gc_logreg_graph_builder,\n",
    "    gen_clf])\n"
   ]
  },
  {
   "cell_type": "code",
   "execution_count": 270,
   "metadata": {
    "colab": {
     "base_uri": "https://localhost:8080/"
    },
    "executionInfo": {
     "elapsed": 15182,
     "status": "ok",
     "timestamp": 1689692294094,
     "user": {
      "displayName": "Ahmet Mesut BİROL",
      "userId": "04340760882990254267"
     },
     "user_tz": -180
    },
    "id": "jVoRHwNmXReO",
    "outputId": "d275f728-dc6c-48cc-ad46-10a96d3311fb",
    "tags": []
   },
   "outputs": [
    {
     "name": "stdout",
     "output_type": "stream",
     "text": [
      "TF Graph Builder configuration:\n",
      "Model name: logreg_classifier\n",
      "Graph folder: gc_graph\n",
      "Graph file name: log_reg_graph.pb\n",
      "Build params: {'input_dim': 200, 'output_dim': 4, 'hidden_layers': [], 'output_act': 'sigmoid'}\n",
      "logreg_classifier graph exported to gc_graph/log_reg_graph.pb\n"
     ]
    }
   ],
   "source": [
    "generic_model_hc200 = clf_Pipeline.fit(trainingData_with_embeddings)"
   ]
  },
  {
   "cell_type": "code",
   "execution_count": 271,
   "metadata": {
    "id": "uHg_HbimXReO",
    "tags": []
   },
   "outputs": [
    {
     "name": "stdout",
     "output_type": "stream",
     "text": [
      "\n"
     ]
    }
   ],
   "source": [
    "pred_df = generic_model_hc200.transform(testData_with_embeddings)"
   ]
  },
  {
   "cell_type": "code",
   "execution_count": 272,
   "metadata": {
    "colab": {
     "base_uri": "https://localhost:8080/"
    },
    "executionInfo": {
     "elapsed": 3652,
     "status": "ok",
     "timestamp": 1689692301044,
     "user": {
      "displayName": "Ahmet Mesut BİROL",
      "userId": "04340760882990254267"
     },
     "user_tz": -180
    },
    "id": "NjByOpYPXReO",
    "outputId": "2f1b4e4c-5eba-41c9-e7a5-a9c67f1ac07c",
    "tags": []
   },
   "outputs": [
    {
     "name": "stdout",
     "output_type": "stream",
     "text": [
      "                  precision    recall  f1-score   support\n",
      "\n",
      "Gastroenterology       0.88      0.84      0.86        25\n",
      "       Neurology       0.82      0.82      0.82        22\n",
      "      Orthopedic       0.86      0.91      0.89        35\n",
      "         Urology       0.84      0.80      0.82        20\n",
      "\n",
      "        accuracy                           0.85       102\n",
      "       macro avg       0.85      0.84      0.85       102\n",
      "    weighted avg       0.85      0.85      0.85       102\n"
     ]
    }
   ],
   "source": [
    "preds_df = pred_df.select('category','prediction.result').toPandas()\n",
    "preds_df['result'] = preds_df.result.apply(lambda x : x[0])\n",
    "\n",
    "print (classification_report(preds_df['category'], preds_df['result']))"
   ]
  },
  {
   "cell_type": "code",
   "execution_count": 273,
   "metadata": {
    "id": "OUojeuvOifoJ",
    "tags": []
   },
   "outputs": [
    {
     "name": "stdout",
     "output_type": "stream",
     "text": [
      "\n"
     ]
    }
   ],
   "source": [
    "res = classification_report(preds_df[\"category\"], preds_df[\"result\"], output_dict=True)\n",
    "results_df.loc[\"GenericLogReg_200d\"] = [res[\"macro avg\"][\"f1-score\"], res[\"weighted avg\"][\"f1-score\"], res[\"accuracy\"]]"
   ]
  },
  {
   "cell_type": "markdown",
   "metadata": {
    "id": "1lkESKp6XaCP"
   },
   "source": [
    "### GenericSVMClassifier"
   ]
  },
  {
   "cell_type": "code",
   "execution_count": 274,
   "metadata": {
    "id": "gs_iLR10XaCP",
    "tags": []
   },
   "outputs": [
    {
     "name": "stdout",
     "output_type": "stream",
     "text": [
      "\n"
     ]
    }
   ],
   "source": [
    "from sparknlp_jsl.annotator import TFGraphBuilder\n",
    "\n",
    "graph_folder = \"gc_graph\"\n",
    "\n",
    "gc_svm_graph_builder = TFGraphBuilder()\\\n",
    "    .setModelName(\"svm_classifier\")\\\n",
    "    .setInputCols([\"feature_vector\"]) \\\n",
    "    .setLabelColumn(\"category\")\\\n",
    "    .setGraphFolder(graph_folder)\\\n",
    "    .setGraphFile(\"svm_graph.pb\")"
   ]
  },
  {
   "cell_type": "markdown",
   "metadata": {
    "id": "EMVMo7DKXaCP"
   },
   "source": [
    "GenericSVMClassifier needs outputs from FeaturesAssembler. The FeaturesAssembler is used to collect features from different columns or an embeddings column.\n",
    "\n",
    "The GenericSVMClassifier takes FEATURE_VECTOR annotations as input, classifies them and outputs CATEGORY annotations."
   ]
  },
  {
   "cell_type": "code",
   "execution_count": 275,
   "metadata": {
    "id": "QVu8zWtJXaCQ",
    "tags": []
   },
   "outputs": [
    {
     "name": "stdout",
     "output_type": "stream",
     "text": [
      "\n"
     ]
    }
   ],
   "source": [
    "features_asm = FeaturesAssembler()\\\n",
    "    .setInputCols([\"sentence_embeddings\"])\\\n",
    "    .setOutputCol(\"feature_vector\")\n",
    "\n",
    "gen_clf = GenericSVMClassifierApproach()\\\n",
    "    .setLabelColumn(\"category\")\\\n",
    "    .setInputCols(\"feature_vector\")\\\n",
    "    .setOutputCol(\"prediction\")\\\n",
    "    .setModelFile(f\"{graph_folder}/svm_graph.pb\")\\\n",
    "    .setEpochsNumber(45)\\\n",
    "    .setBatchSize(32)\\\n",
    "    .setLearningRate(0.02)\\\n",
    "    .setOutputLogsPath(log_folder)\\\n",
    "    .setDropout(0.1)\\\n",
    "    .setFixImbalance(True)\\\n",
    "    # .setValidationSplit(0.1)\n",
    "\n",
    "clf_Pipeline = Pipeline(stages=[\n",
    "    features_asm,\n",
    "    gc_svm_graph_builder,\n",
    "    gen_clf])\n"
   ]
  },
  {
   "cell_type": "code",
   "execution_count": 276,
   "metadata": {
    "colab": {
     "base_uri": "https://localhost:8080/"
    },
    "executionInfo": {
     "elapsed": 14785,
     "status": "ok",
     "timestamp": 1689692315823,
     "user": {
      "displayName": "Ahmet Mesut BİROL",
      "userId": "04340760882990254267"
     },
     "user_tz": -180
    },
    "id": "DPRquqVZXaCQ",
    "outputId": "e0a599e6-aa6f-41b4-9cbf-f4df94004259",
    "tags": []
   },
   "outputs": [
    {
     "name": "stdout",
     "output_type": "stream",
     "text": [
      "TF Graph Builder configuration:\n",
      "Model name: svm_classifier\n",
      "Graph folder: gc_graph\n",
      "Graph file name: svm_graph.pb\n",
      "Build params: {'input_dim': 200, 'output_dim': 4, 'hidden_layers': [], 'output_act': 'sigmoid', 'loss_func': 'hinge'}\n",
      "svm_classifier graph exported to gc_graph/svm_graph.pb\n"
     ]
    }
   ],
   "source": [
    "generic_model_hc200 = clf_Pipeline.fit(trainingData_with_embeddings)"
   ]
  },
  {
   "cell_type": "code",
   "execution_count": 277,
   "metadata": {
    "id": "sgC_XhZJXaCQ",
    "tags": []
   },
   "outputs": [
    {
     "name": "stdout",
     "output_type": "stream",
     "text": [
      "\n"
     ]
    }
   ],
   "source": [
    "pred_df = generic_model_hc200.transform(testData_with_embeddings)"
   ]
  },
  {
   "cell_type": "code",
   "execution_count": 278,
   "metadata": {
    "colab": {
     "base_uri": "https://localhost:8080/"
    },
    "executionInfo": {
     "elapsed": 3391,
     "status": "ok",
     "timestamp": 1689692323021,
     "user": {
      "displayName": "Ahmet Mesut BİROL",
      "userId": "04340760882990254267"
     },
     "user_tz": -180
    },
    "id": "05LprRjwXaCR",
    "outputId": "d7d953e2-d68f-493c-9a64-587fdd101f52",
    "tags": []
   },
   "outputs": [
    {
     "name": "stdout",
     "output_type": "stream",
     "text": [
      "                  precision    recall  f1-score   support\n",
      "\n",
      "Gastroenterology       0.88      0.84      0.86        25\n",
      "       Neurology       0.86      0.82      0.84        22\n",
      "      Orthopedic       0.91      0.91      0.91        35\n",
      "         Urology       0.82      0.90      0.86        20\n",
      "\n",
      "        accuracy                           0.87       102\n",
      "       macro avg       0.87      0.87      0.87       102\n",
      "    weighted avg       0.87      0.87      0.87       102\n"
     ]
    }
   ],
   "source": [
    "preds_df = pred_df.select('category','prediction.result').toPandas()\n",
    "preds_df['result'] = preds_df.result.apply(lambda x : x[0])\n",
    "\n",
    "print (classification_report(preds_df['category'], preds_df['result']))"
   ]
  },
  {
   "cell_type": "code",
   "execution_count": 279,
   "metadata": {
    "id": "wxDyT5joi2W-",
    "tags": []
   },
   "outputs": [
    {
     "name": "stdout",
     "output_type": "stream",
     "text": [
      "\n"
     ]
    }
   ],
   "source": [
    "res = classification_report(preds_df[\"category\"], preds_df[\"result\"], output_dict=True)\n",
    "results_df.loc[\"GenericSVM_200d\"] = [res[\"macro avg\"][\"f1-score\"], res[\"weighted avg\"][\"f1-score\"], res[\"accuracy\"]]"
   ]
  },
  {
   "cell_type": "markdown",
   "metadata": {
    "id": "2LqFI4dmW4Ep"
   },
   "source": [
    "## Bert Sentence Embeddings (sbiobert_base_cased_mli)"
   ]
  },
  {
   "cell_type": "markdown",
   "metadata": {
    "id": "RcQPzSbOVOpn"
   },
   "source": [
    "We will extract [sbiobert_base_cased_mli](https://nlp.johnsnowlabs.com/2020/11/27/sbiobert_base_cased_mli_en.html) embeddings which has 768 dimension output and use this embeddings in the model training."
   ]
  },
  {
   "cell_type": "code",
   "execution_count": 280,
   "metadata": {
    "colab": {
     "base_uri": "https://localhost:8080/"
    },
    "executionInfo": {
     "elapsed": 2988,
     "status": "ok",
     "timestamp": 1689692325996,
     "user": {
      "displayName": "Ahmet Mesut BİROL",
      "userId": "04340760882990254267"
     },
     "user_tz": -180
    },
    "id": "e7pupvygW4Eq",
    "outputId": "d958cc1c-8370-452f-87be-c2d57f0687c3",
    "tags": []
   },
   "outputs": [
    {
     "name": "stdout",
     "output_type": "stream",
     "text": [
      "sbiobert_base_cased_mli download started this may take some time.\n",
      "Approximate size to download 384.3 MB\n",
      "[OK!]\n"
     ]
    }
   ],
   "source": [
    "document_assembler = DocumentAssembler()\\\n",
    "    .setInputCol(\"text\")\\\n",
    "    .setOutputCol(\"document\")\n",
    "\n",
    "bert_sent = BertSentenceEmbeddings.pretrained(\"sbiobert_base_cased_mli\", 'en','clinical/models')\\\n",
    "    .setInputCols([\"document\"])\\\n",
    "    .setOutputCol(\"sentence_embeddings\")\n",
    "\n",
    "embeddings_pipeline = Pipeline(\n",
    "    stages = [document_assembler,\n",
    "              bert_sent])"
   ]
  },
  {
   "cell_type": "code",
   "execution_count": 281,
   "metadata": {
    "colab": {
     "base_uri": "https://localhost:8080/"
    },
    "executionInfo": {
     "elapsed": 767,
     "status": "ok",
     "timestamp": 1689692326758,
     "user": {
      "displayName": "Ahmet Mesut BİROL",
      "userId": "04340760882990254267"
     },
     "user_tz": -180
    },
    "id": "A-_AaTGCW4Eq",
    "outputId": "b5c63d95-ea42-4224-8975-66b5c9cedd92",
    "tags": []
   },
   "outputs": [
    {
     "name": "stdout",
     "output_type": "stream",
     "text": [
      "+------------------------------------------------------------+----------------+------------------------------------------------------------+\n",
      "|                                                        text|        category|                                         sentence_embeddings|\n",
      "+------------------------------------------------------------+----------------+------------------------------------------------------------+\n",
      "| ADMISSION DIAGNOSIS: Symptomatic cholelithiasis. DISCHAR...|Gastroenterology|[{sentence_embeddings, 0, 2228,  ADMISSION DIAGNOSIS: Sym...|\n",
      "| ADMITTING DIAGNOSES: Hiatal hernia, gastroesophageal ref...|Gastroenterology|[{sentence_embeddings, 0, 3237,  ADMITTING DIAGNOSES: Hia...|\n",
      "+------------------------------------------------------------+----------------+------------------------------------------------------------+\n",
      "only showing top 2 rows\n"
     ]
    }
   ],
   "source": [
    "trainingData_with_embeddings = embeddings_pipeline.fit(trainingData).transform(trainingData)\\\n",
    "                                                  .select(\"text\",\"category\",\"sentence_embeddings\")\n",
    "\n",
    "trainingData_with_embeddings.show(2,truncate=60)"
   ]
  },
  {
   "cell_type": "code",
   "execution_count": 282,
   "metadata": {
    "colab": {
     "base_uri": "https://localhost:8080/"
    },
    "executionInfo": {
     "elapsed": 1318,
     "status": "ok",
     "timestamp": 1689692328073,
     "user": {
      "displayName": "Ahmet Mesut BİROL",
      "userId": "04340760882990254267"
     },
     "user_tz": -180
    },
    "id": "sGAKs2o0W4Eq",
    "outputId": "cf305505-c86a-4c16-914c-5d5970920987",
    "tags": []
   },
   "outputs": [
    {
     "name": "stdout",
     "output_type": "stream",
     "text": [
      "+------------------------------------------------------------+----------------+------------------------------------------------------------+\n",
      "|                                                        text|        category|                                         sentence_embeddings|\n",
      "+------------------------------------------------------------+----------------+------------------------------------------------------------+\n",
      "| ADMITTING DIAGNOSIS: Gastrointestinal bleed. HISTORY OF ...|Gastroenterology|[{sentence_embeddings, 0, 3978,  ADMITTING DIAGNOSIS: Gas...|\n",
      "| CHIEF COMPLAINT: Dysphagia and hematemesis while vomitin...|Gastroenterology|[{sentence_embeddings, 0, 6515,  CHIEF COMPLAINT: Dysphag...|\n",
      "+------------------------------------------------------------+----------------+------------------------------------------------------------+\n",
      "only showing top 2 rows\n"
     ]
    }
   ],
   "source": [
    "testData_with_embeddings = embeddings_pipeline.fit(testData).transform(testData)\\\n",
    "                                                  .select(\"text\",\"category\",\"sentence_embeddings\")\n",
    "\n",
    "testData_with_embeddings.show(2,truncate=60)"
   ]
  },
  {
   "cell_type": "code",
   "execution_count": 288,
   "metadata": {
    "id": "WiR3GJpbW4Eq",
    "tags": []
   },
   "outputs": [
    {
     "name": "stdout",
     "output_type": "stream",
     "text": [
      "\n"
     ]
    }
   ],
   "source": [
    "log_folder=\"Mt_logs_bert\""
   ]
  },
  {
   "cell_type": "markdown",
   "metadata": {
    "id": "NqYpg6-dW4Eq"
   },
   "source": [
    "### ClassifierDL"
   ]
  },
  {
   "cell_type": "code",
   "execution_count": 284,
   "metadata": {
    "id": "vkb4PlGsW4Eq",
    "tags": []
   },
   "outputs": [
    {
     "name": "stdout",
     "output_type": "stream",
     "text": [
      "\n"
     ]
    }
   ],
   "source": [
    "classifier_dl = ClassifierDLApproach()\\\n",
    "        .setInputCols([\"sentence_embeddings\"])\\\n",
    "        .setOutputCol(\"class\")\\\n",
    "        .setLabelColumn(\"category\")\\\n",
    "        .setBatchSize(8)\\\n",
    "        .setMaxEpochs(30)\\\n",
    "        .setLr(0.002)\\\n",
    "        .setDropout(0.1)\\\n",
    "        .setEnableOutputLogs(True)\\\n",
    "        .setOutputLogsPath(log_folder)\n",
    "\n",
    "classifier_dl_pipeline = Pipeline(stages=[classifier_dl])"
   ]
  },
  {
   "cell_type": "code",
   "execution_count": 285,
   "metadata": {
    "id": "WG0-PJA2W4Eq",
    "tags": []
   },
   "outputs": [
    {
     "name": "stdout",
     "output_type": "stream",
     "text": [
      "\n"
     ]
    }
   ],
   "source": [
    "clfDL_model_bert = classifier_dl_pipeline.fit(trainingData_with_embeddings)"
   ]
  },
  {
   "cell_type": "code",
   "execution_count": 289,
   "metadata": {
    "tags": []
   },
   "outputs": [
    {
     "name": "stdout",
     "output_type": "stream",
     "text": [
      "['ClassifierDLApproach_bc834c81a80b.log']\n",
      "Training started - epochs: 30 - learning_rate: 0.002 - batch_size: 8 - training_examples: 536 - classes: 4\n",
      "Epoch 0/30 - 0.78s - loss: 93.51679 - acc: 0.34514925 - batches: 67\n",
      "Epoch 1/30 - 0.18s - loss: 92.825745 - acc: 0.35074627 - batches: 67\n",
      "Epoch 2/30 - 0.18s - loss: 92.825745 - acc: 0.35074627 - batches: 67\n",
      "Epoch 3/30 - 0.18s - loss: 92.825745 - acc: 0.35074627 - batches: 67\n",
      "Epoch 4/30 - 0.18s - loss: 92.825745 - acc: 0.35074627 - batches: 67\n",
      "Epoch 5/30 - 0.18s - loss: 92.825745 - acc: 0.35074627 - batches: 67\n",
      "Epoch 6/30 - 0.18s - loss: 92.825745 - acc: 0.35074627 - batches: 67\n",
      "Epoch 7/30 - 0.18s - loss: 92.825745 - acc: 0.35074627 - batches: 67\n",
      "Epoch 8/30 - 0.19s - loss: 92.825745 - acc: 0.35074627 - batches: 67\n",
      "Epoch 9/30 - 0.19s - loss: 92.825745 - acc: 0.35074627 - batches: 67\n",
      "Epoch 10/30 - 0.19s - loss: 92.825745 - acc: 0.35074627 - batches: 67\n",
      "Epoch 11/30 - 0.18s - loss: 92.825745 - acc: 0.35074627 - batches: 67\n",
      "Epoch 12/30 - 0.18s - loss: 92.825745 - acc: 0.35074627 - batches: 67\n",
      "Epoch 13/30 - 0.19s - loss: 92.825745 - acc: 0.35074627 - batches: 67\n",
      "Epoch 14/30 - 0.18s - loss: 92.825745 - acc: 0.35074627 - batches: 67\n",
      "Epoch 15/30 - 0.18s - loss: 92.825745 - acc: 0.35074627 - batches: 67\n",
      "Epoch 16/30 - 0.18s - loss: 92.825745 - acc: 0.35074627 - batches: 67\n",
      "Epoch 17/30 - 0.18s - loss: 92.825745 - acc: 0.35074627 - batches: 67\n",
      "Epoch 18/30 - 0.18s - loss: 92.825745 - acc: 0.35074627 - batches: 67\n",
      "Epoch 19/30 - 0.18s - loss: 92.825745 - acc: 0.35074627 - batches: 67\n",
      "Epoch 20/30 - 0.17s - loss: 92.825745 - acc: 0.35074627 - batches: 67\n",
      "Epoch 21/30 - 0.18s - loss: 92.825745 - acc: 0.35074627 - batches: 67\n",
      "Epoch 22/30 - 0.18s - loss: 92.825745 - acc: 0.35074627 - batches: 67\n",
      "Epoch 23/30 - 0.18s - loss: 92.825745 - acc: 0.35074627 - batches: 67\n",
      "Epoch 24/30 - 0.17s - loss: 92.825745 - acc: 0.35074627 - batches: 67\n",
      "Epoch 25/30 - 0.18s - loss: 92.825745 - acc: 0.35074627 - batches: 67\n",
      "Epoch 26/30 - 0.18s - loss: 92.825745 - acc: 0.35074627 - batches: 67\n",
      "Epoch 27/30 - 0.18s - loss: 92.825745 - acc: 0.35074627 - batches: 67\n",
      "Epoch 28/30 - 0.18s - loss: 92.825745 - acc: 0.35074627 - batches: 67\n",
      "Epoch 29/30 - 0.18s - loss: 92.825745 - acc: 0.35074627 - batches: 67\n"
     ]
    }
   ],
   "source": [
    "import os\n",
    "\n",
    "log_files = os.listdir(f\"./{log_folder}\")\n",
    "print(log_files)\n",
    "\n",
    "with open(f\"./{log_folder}/\"+log_files[-1]) as log_file:  #choose the index of the *.log file  starting with ClassifierDLApproach\n",
    "    print(log_file.read())"
   ]
  },
  {
   "cell_type": "code",
   "execution_count": 286,
   "metadata": {
    "colab": {
     "base_uri": "https://localhost:8080/"
    },
    "executionInfo": {
     "elapsed": 9439,
     "status": "ok",
     "timestamp": 1689692425612,
     "user": {
      "displayName": "Ahmet Mesut BİROL",
      "userId": "04340760882990254267"
     },
     "user_tz": -180
    },
    "id": "B_29_8JBW4Eq",
    "outputId": "56f321e2-39a1-484c-ebf0-c73533914177",
    "tags": []
   },
   "outputs": [
    {
     "name": "stdout",
     "output_type": "stream",
     "text": [
      "                  precision    recall  f1-score   support\n",
      "\n",
      "Gastroenterology       0.00      0.00      0.00        25\n",
      "       Neurology       0.00      0.00      0.00        22\n",
      "      Orthopedic       0.34      1.00      0.51        35\n",
      "         Urology       0.00      0.00      0.00        20\n",
      "\n",
      "        accuracy                           0.34       102\n",
      "       macro avg       0.09      0.25      0.13       102\n",
      "    weighted avg       0.12      0.34      0.18       102\n"
     ]
    }
   ],
   "source": [
    "preds = clfDL_model_bert.transform(testData_with_embeddings)\n",
    "\n",
    "preds_df = preds.select(\"category\",\"text\",\"class.result\").toPandas()\n",
    "preds_df[\"result\"] = preds_df[\"result\"].apply(lambda x : x[0])\n",
    "\n",
    "print (classification_report(preds_df[\"category\"], preds_df[\"result\"]))"
   ]
  },
  {
   "cell_type": "code",
   "execution_count": 290,
   "metadata": {
    "id": "qDnPLheTi_RL",
    "tags": []
   },
   "outputs": [
    {
     "name": "stdout",
     "output_type": "stream",
     "text": [
      "\n"
     ]
    }
   ],
   "source": [
    "res = classification_report(preds_df[\"category\"], preds_df[\"result\"], output_dict=True)\n",
    "results_df.loc[\"ClassifierDL_bert\"] = [res[\"macro avg\"][\"f1-score\"], res[\"weighted avg\"][\"f1-score\"], res[\"accuracy\"]]"
   ]
  },
  {
   "cell_type": "markdown",
   "metadata": {
    "id": "0Fw49226W4Er"
   },
   "source": [
    "### MultiClassifierDL"
   ]
  },
  {
   "cell_type": "code",
   "execution_count": 291,
   "metadata": {
    "id": "Co9lWcRxW4Er",
    "tags": []
   },
   "outputs": [
    {
     "name": "stdout",
     "output_type": "stream",
     "text": [
      "\n"
     ]
    }
   ],
   "source": [
    "# MultiClassifierDL accepts list of strings as input label. So we convert label column to array type.\n",
    "trainingData_with_embeddings = trainingData_with_embeddings.withColumn(\"category_array\", F.array(F.col(\"category\")))\n",
    "testData_with_embeddings = testData_with_embeddings.withColumn(\"category_array\", F.array(F.col(\"category\")))"
   ]
  },
  {
   "cell_type": "code",
   "execution_count": 292,
   "metadata": {
    "id": "5itVNwSWW4Er",
    "tags": []
   },
   "outputs": [
    {
     "name": "stdout",
     "output_type": "stream",
     "text": [
      "\n"
     ]
    }
   ],
   "source": [
    "multiClassifier = MultiClassifierDLApproach()\\\n",
    "  .setInputCols(\"sentence_embeddings\")\\\n",
    "  .setOutputCol(\"prediction\")\\\n",
    "  .setLabelColumn(\"category_array\")\\\n",
    "  .setBatchSize(8)\\\n",
    "  .setMaxEpochs(20)\\\n",
    "  .setLr(9e-3)\\\n",
    "  .setThreshold(0.5)\\\n",
    "  .setShufflePerEpoch(False)\\\n",
    "  .setEnableOutputLogs(True)\\\n",
    "  .setOutputLogsPath(log_folder)\\\n",
    "#   .setValidationSplit(0.1)\n",
    "\n",
    "multiClassifier_pipeline = Pipeline(\n",
    "    stages = [\n",
    "        multiClassifier\n",
    "    ])"
   ]
  },
  {
   "cell_type": "code",
   "execution_count": 297,
   "metadata": {
    "id": "Y2p8qfzeW4Er",
    "tags": []
   },
   "outputs": [
    {
     "name": "stdout",
     "output_type": "stream",
     "text": [
      "\n"
     ]
    }
   ],
   "source": [
    "multiClassifier_model_bert = multiClassifier_pipeline.fit(trainingData_with_embeddings)"
   ]
  },
  {
   "cell_type": "code",
   "execution_count": 294,
   "metadata": {
    "id": "j812VMg5W4Er",
    "tags": []
   },
   "outputs": [
    {
     "name": "stdout",
     "output_type": "stream",
     "text": [
      "\n"
     ]
    }
   ],
   "source": [
    "preds = multiClassifier_model_bert.transform(testData_with_embeddings)"
   ]
  },
  {
   "cell_type": "code",
   "execution_count": 295,
   "metadata": {
    "colab": {
     "base_uri": "https://localhost:8080/"
    },
    "executionInfo": {
     "elapsed": 26521,
     "status": "ok",
     "timestamp": 1689692583191,
     "user": {
      "displayName": "Ahmet Mesut BİROL",
      "userId": "04340760882990254267"
     },
     "user_tz": -180
    },
    "id": "Ero8R_rhW4Er",
    "outputId": "fba635cd-0fd2-44d2-e158-9430310987da",
    "tags": []
   },
   "outputs": [
    {
     "name": "stdout",
     "output_type": "stream",
     "text": [
      "['Orthopedic']          36\n",
      "['Gastroenterology']    22\n",
      "['Urology']             22\n",
      "['Neurology']           18\n",
      "[]                       4\n",
      "Name: result, dtype: int64\n"
     ]
    }
   ],
   "source": [
    "preds_df = preds.select(\"category\",\"text\",\"prediction.result\",\"prediction.metadata\").toPandas()\n",
    "preds_df.result.apply(lambda x: str(x) ).value_counts()"
   ]
  },
  {
   "cell_type": "code",
   "execution_count": 296,
   "metadata": {
    "colab": {
     "base_uri": "https://localhost:8080/"
    },
    "executionInfo": {
     "elapsed": 30,
     "status": "ok",
     "timestamp": 1689692583192,
     "user": {
      "displayName": "Ahmet Mesut BİROL",
      "userId": "04340760882990254267"
     },
     "user_tz": -180
    },
    "id": "eIr0FA55W4Er",
    "outputId": "551c489b-a47e-49c5-f91b-a4b2bbd4b0c6",
    "tags": []
   },
   "outputs": [
    {
     "name": "stdout",
     "output_type": "stream",
     "text": [
      "Orthopedic          36\n",
      "Gastroenterology    22\n",
      "Urology             22\n",
      "Neurology           18\n",
      "Name: result, dtype: int64\n"
     ]
    }
   ],
   "source": [
    "# We will get the highest score label as result. You can control the number of zero label results with setThreshold() in the training.\n",
    "preds_df[\"scores\"] = preds_df.metadata.apply(lambda x: {k:float(v) for k,v in x[0].items()} if len(x)>=1 else \"\")\n",
    "preds_df[\"result\"] = preds_df.scores.apply(lambda x: max(x, key=x.get) if len(x)>=1 else \"\")\n",
    "preds_df = preds_df[(preds_df[\"result\"]!=\"\")]\n",
    "preds_df[\"result\"].value_counts()"
   ]
  },
  {
   "cell_type": "code",
   "execution_count": 299,
   "metadata": {
    "colab": {
     "base_uri": "https://localhost:8080/"
    },
    "executionInfo": {
     "elapsed": 14,
     "status": "ok",
     "timestamp": 1689692583193,
     "user": {
      "displayName": "Ahmet Mesut BİROL",
      "userId": "04340760882990254267"
     },
     "user_tz": -180
    },
    "id": "m9BKG5kHW4Es",
    "outputId": "8a1f068e-bc95-4693-8050-1c6279af23cf",
    "tags": []
   },
   "outputs": [
    {
     "name": "stdout",
     "output_type": "stream",
     "text": [
      "                  precision    recall  f1-score   support\n",
      "\n",
      "Gastroenterology       1.00      0.88      0.94        25\n",
      "       Neurology       0.89      0.76      0.82        21\n",
      "      Orthopedic       0.86      0.94      0.90        33\n",
      "         Urology       0.82      0.95      0.88        19\n",
      "\n",
      "        accuracy                           0.89        98\n",
      "       macro avg       0.89      0.88      0.88        98\n",
      "    weighted avg       0.89      0.89      0.89        98\n"
     ]
    }
   ],
   "source": [
    "print (classification_report(preds_df[\"category\"], preds_df[\"result\"]))"
   ]
  },
  {
   "cell_type": "code",
   "execution_count": 300,
   "metadata": {
    "id": "glqjR5zRjWGj",
    "tags": []
   },
   "outputs": [
    {
     "name": "stdout",
     "output_type": "stream",
     "text": [
      "\n"
     ]
    }
   ],
   "source": [
    "res = classification_report(preds_df[\"category\"], preds_df[\"result\"], output_dict=True)\n",
    "results_df.loc[\"MultiClassifierDL_bert\"] = [res[\"macro avg\"][\"f1-score\"], res[\"weighted avg\"][\"f1-score\"], res[\"accuracy\"]]"
   ]
  },
  {
   "cell_type": "markdown",
   "metadata": {
    "id": "hhNpyXkeW4Es"
   },
   "source": [
    "### Generic Classifier"
   ]
  },
  {
   "cell_type": "code",
   "execution_count": 301,
   "metadata": {
    "id": "a0pS3YdEW4Es",
    "tags": []
   },
   "outputs": [
    {
     "name": "stdout",
     "output_type": "stream",
     "text": [
      "\n"
     ]
    }
   ],
   "source": [
    "from sparknlp_jsl.annotator import TFGraphBuilder\n",
    "\n",
    "graph_folder = \"gc_graph\"\n",
    "\n",
    "gc_graph_builder = TFGraphBuilder()\\\n",
    "    .setModelName(\"generic_classifier\")\\\n",
    "    .setInputCols([\"features\"])\\\n",
    "    .setLabelColumn(\"category\")\\\n",
    "    .setHiddenLayers([300,200, 50])\\\n",
    "    .setHiddenAct(\"tanh\")\\\n",
    "    .setHiddenActL2(True)\\\n",
    "    .setBatchNorm(True)\\\n",
    "    .setGraphFolder(graph_folder)\\\n",
    "    .setGraphFile(\"gcf_graph_bert.pb\")"
   ]
  },
  {
   "cell_type": "code",
   "execution_count": 302,
   "metadata": {
    "id": "aBuFW-1iW4Es",
    "tags": []
   },
   "outputs": [
    {
     "name": "stdout",
     "output_type": "stream",
     "text": [
      "\n"
     ]
    }
   ],
   "source": [
    "features_asm = FeaturesAssembler()\\\n",
    "    .setInputCols([\"sentence_embeddings\"])\\\n",
    "    .setOutputCol(\"features\")\n",
    "\n",
    "gen_clf = GenericClassifierApproach()\\\n",
    "    .setLabelColumn(\"category\")\\\n",
    "    .setInputCols(\"features\")\\\n",
    "    .setOutputCol(\"prediction\")\\\n",
    "    .setModelFile(f\"{graph_folder}/gcf_graph_bert.pb\")\\\n",
    "    .setEpochsNumber(25)\\\n",
    "    .setBatchSize(16)\\\n",
    "    .setLearningRate(0.002)\\\n",
    "    .setOutputLogsPath(log_folder)\\\n",
    "    .setDropout(0.2)\\\n",
    "    .setFixImbalance(True)\\\n",
    "    # .setValidationSplit(0.1)\n",
    "\n",
    "clf_Pipeline = Pipeline(stages=[\n",
    "    features_asm,\n",
    "    gc_graph_builder,\n",
    "    gen_clf])\n"
   ]
  },
  {
   "cell_type": "code",
   "execution_count": 303,
   "metadata": {
    "colab": {
     "base_uri": "https://localhost:8080/"
    },
    "executionInfo": {
     "elapsed": 149470,
     "status": "ok",
     "timestamp": 1689692732658,
     "user": {
      "displayName": "Ahmet Mesut BİROL",
      "userId": "04340760882990254267"
     },
     "user_tz": -180
    },
    "id": "Xpi8bsOAW4Es",
    "outputId": "64868965-abec-40c1-f3b3-03f44cd065c7",
    "tags": []
   },
   "outputs": [
    {
     "name": "stdout",
     "output_type": "stream",
     "text": [
      "TF Graph Builder configuration:\n",
      "Model name: generic_classifier\n",
      "Graph folder: gc_graph\n",
      "Graph file name: gcf_graph_bert.pb\n",
      "Build params: {'input_dim': 768, 'output_dim': 4, 'hidden_layers': [300, 200, 50], 'hidden_act': 'tanh', 'hidden_act_l2': True, 'batch_norm': True}\n",
      "generic_classifier graph exported to gc_graph/gcf_graph_bert.pb\n"
     ]
    }
   ],
   "source": [
    "generic_model_bert = clf_Pipeline.fit(trainingData_with_embeddings)"
   ]
  },
  {
   "cell_type": "code",
   "execution_count": 304,
   "metadata": {
    "colab": {
     "base_uri": "https://localhost:8080/"
    },
    "executionInfo": {
     "elapsed": 13854,
     "status": "ok",
     "timestamp": 1689692746495,
     "user": {
      "displayName": "Ahmet Mesut BİROL",
      "userId": "04340760882990254267"
     },
     "user_tz": -180
    },
    "id": "5aw-VIEhW4Es",
    "outputId": "8bbb4a4e-2da3-46e9-d377-069a5d0b4a60",
    "tags": []
   },
   "outputs": [
    {
     "name": "stdout",
     "output_type": "stream",
     "text": [
      "                  precision    recall  f1-score   support\n",
      "\n",
      "Gastroenterology       0.96      0.92      0.94        25\n",
      "       Neurology       0.82      0.82      0.82        22\n",
      "      Orthopedic       0.77      0.86      0.81        35\n",
      "         Urology       0.88      0.75      0.81        20\n",
      "\n",
      "        accuracy                           0.84       102\n",
      "       macro avg       0.86      0.84      0.84       102\n",
      "    weighted avg       0.85      0.84      0.84       102\n"
     ]
    }
   ],
   "source": [
    "pred_df = generic_model_bert.transform(testData_with_embeddings)\n",
    "\n",
    "preds_df = pred_df.select('category','prediction.result').toPandas()\n",
    "preds_df['result'] = preds_df.result.apply(lambda x : x[0])\n",
    "\n",
    "print (classification_report(preds_df['category'], preds_df['result']))"
   ]
  },
  {
   "cell_type": "code",
   "execution_count": 305,
   "metadata": {
    "id": "ieTBf7Wej1UD",
    "tags": []
   },
   "outputs": [
    {
     "name": "stdout",
     "output_type": "stream",
     "text": [
      "\n"
     ]
    }
   ],
   "source": [
    "res = classification_report(preds_df[\"category\"], preds_df[\"result\"], output_dict=True)\n",
    "results_df.loc[\"GenericClassifier_bert\"] = [res[\"macro avg\"][\"f1-score\"], res[\"weighted avg\"][\"f1-score\"], res[\"accuracy\"]]"
   ]
  },
  {
   "cell_type": "markdown",
   "metadata": {
    "id": "5q09e4l9XPgU"
   },
   "source": [
    "### GenericLogRegClassifier"
   ]
  },
  {
   "cell_type": "code",
   "execution_count": 306,
   "metadata": {
    "id": "Q9DQJEOfXPgV",
    "tags": []
   },
   "outputs": [
    {
     "name": "stdout",
     "output_type": "stream",
     "text": [
      "\n"
     ]
    }
   ],
   "source": [
    "from sparknlp_jsl.annotator import TFGraphBuilder\n",
    "\n",
    "graph_folder = \"gc_graph\"\n",
    "\n",
    "gc_logreg_graph_builder = TFGraphBuilder()\\\n",
    "    .setModelName(\"logreg_classifier\")\\\n",
    "    .setInputCols([\"feature_vector\"]) \\\n",
    "    .setLabelColumn(\"category\")\\\n",
    "    .setGraphFolder(graph_folder)\\\n",
    "    .setGraphFile(\"log_reg_graph.pb\")"
   ]
  },
  {
   "cell_type": "markdown",
   "metadata": {
    "id": "DeC8XjkcXPgV"
   },
   "source": [
    "GenericLogRegClassifier needs outputs from FeaturesAssembler. The FeaturesAssembler is used to collect features from different columns or an embeddings column.\n",
    "\n",
    "The GenericLogRegClassifier takes FEATURE_VECTOR annotations as input, classifies them and outputs CATEGORY annotations."
   ]
  },
  {
   "cell_type": "code",
   "execution_count": 307,
   "metadata": {
    "id": "eEGJ7oHQXPgV",
    "tags": []
   },
   "outputs": [
    {
     "name": "stdout",
     "output_type": "stream",
     "text": [
      "\n"
     ]
    }
   ],
   "source": [
    "features_asm = FeaturesAssembler()\\\n",
    "    .setInputCols([\"sentence_embeddings\"])\\\n",
    "    .setOutputCol(\"feature_vector\")\n",
    "\n",
    "gen_clf = GenericLogRegClassifierApproach()\\\n",
    "    .setLabelColumn(\"category\")\\\n",
    "    .setInputCols(\"feature_vector\")\\\n",
    "    .setOutputCol(\"prediction\")\\\n",
    "    .setModelFile(f\"{graph_folder}/log_reg_graph.pb\")\\\n",
    "    .setEpochsNumber(30)\\\n",
    "    .setBatchSize(64)\\\n",
    "    .setLearningRate(0.004)\\\n",
    "    .setOutputLogsPath(log_folder)\\\n",
    "    .setDropout(0.1)\\\n",
    "    .setFixImbalance(True)\\\n",
    "    # .setValidationSplit(0.1)\n",
    "\n",
    "clf_Pipeline = Pipeline(stages=[\n",
    "    features_asm,\n",
    "    gc_logreg_graph_builder,\n",
    "    gen_clf])\n"
   ]
  },
  {
   "cell_type": "code",
   "execution_count": 308,
   "metadata": {
    "colab": {
     "base_uri": "https://localhost:8080/"
    },
    "executionInfo": {
     "elapsed": 141924,
     "status": "ok",
     "timestamp": 1689692888395,
     "user": {
      "displayName": "Ahmet Mesut BİROL",
      "userId": "04340760882990254267"
     },
     "user_tz": -180
    },
    "id": "2mw3fPhtXPgV",
    "outputId": "6e9c7371-2ebd-4437-a911-745654f73738",
    "tags": []
   },
   "outputs": [
    {
     "name": "stdout",
     "output_type": "stream",
     "text": [
      "TF Graph Builder configuration:\n",
      "Model name: logreg_classifier\n",
      "Graph folder: gc_graph\n",
      "Graph file name: log_reg_graph.pb\n",
      "Build params: {'input_dim': 768, 'output_dim': 4, 'hidden_layers': [], 'output_act': 'sigmoid'}\n",
      "logreg_classifier graph exported to gc_graph/log_reg_graph.pb\n"
     ]
    }
   ],
   "source": [
    "generic_model_bert = clf_Pipeline.fit(trainingData_with_embeddings)"
   ]
  },
  {
   "cell_type": "code",
   "execution_count": 309,
   "metadata": {
    "id": "h5Zqfx_WXPgV",
    "tags": []
   },
   "outputs": [
    {
     "name": "stdout",
     "output_type": "stream",
     "text": [
      "\n"
     ]
    }
   ],
   "source": [
    "pred_df = generic_model_bert.transform(testData_with_embeddings)"
   ]
  },
  {
   "cell_type": "code",
   "execution_count": 310,
   "metadata": {
    "colab": {
     "base_uri": "https://localhost:8080/"
    },
    "executionInfo": {
     "elapsed": 7065,
     "status": "ok",
     "timestamp": 1689692902409,
     "user": {
      "displayName": "Ahmet Mesut BİROL",
      "userId": "04340760882990254267"
     },
     "user_tz": -180
    },
    "id": "gk6E1IuzXPgW",
    "outputId": "1e598c50-e564-4704-825c-e7f51d6afefc",
    "tags": []
   },
   "outputs": [
    {
     "name": "stdout",
     "output_type": "stream",
     "text": [
      "                  precision    recall  f1-score   support\n",
      "\n",
      "Gastroenterology       0.96      0.92      0.94        25\n",
      "       Neurology       0.80      0.73      0.76        22\n",
      "      Orthopedic       0.86      0.86      0.86        35\n",
      "         Urology       0.83      0.95      0.88        20\n",
      "\n",
      "        accuracy                           0.86       102\n",
      "       macro avg       0.86      0.86      0.86       102\n",
      "    weighted avg       0.86      0.86      0.86       102\n"
     ]
    }
   ],
   "source": [
    "preds_df = pred_df.select('category','prediction.result').toPandas()\n",
    "preds_df['result'] = preds_df.result.apply(lambda x : x[0])\n",
    "\n",
    "print (classification_report(preds_df['category'], preds_df['result']))"
   ]
  },
  {
   "cell_type": "code",
   "execution_count": 311,
   "metadata": {
    "id": "2sB_dAzvkdbS",
    "tags": []
   },
   "outputs": [
    {
     "name": "stdout",
     "output_type": "stream",
     "text": [
      "\n"
     ]
    }
   ],
   "source": [
    "res = classification_report(preds_df[\"category\"], preds_df[\"result\"], output_dict=True)\n",
    "results_df.loc[\"GenericCLogReg_bert\"] = [res[\"macro avg\"][\"f1-score\"], res[\"weighted avg\"][\"f1-score\"], res[\"accuracy\"]]"
   ]
  },
  {
   "cell_type": "markdown",
   "metadata": {
    "id": "2Ninh1PfXbR1"
   },
   "source": [
    "### GenericSVMClassifier"
   ]
  },
  {
   "cell_type": "code",
   "execution_count": 312,
   "metadata": {
    "id": "-HiP42eZXbR1",
    "tags": []
   },
   "outputs": [
    {
     "name": "stdout",
     "output_type": "stream",
     "text": [
      "\n"
     ]
    }
   ],
   "source": [
    "from sparknlp_jsl.annotator import TFGraphBuilder\n",
    "\n",
    "graph_folder = \"gc_graph\"\n",
    "\n",
    "gc_svm_graph_builder = TFGraphBuilder()\\\n",
    "    .setModelName(\"svm_classifier\")\\\n",
    "    .setInputCols([\"feature_vector\"]) \\\n",
    "    .setLabelColumn(\"category\")\\\n",
    "    .setGraphFolder(graph_folder)\\\n",
    "    .setGraphFile(\"svm_graph.pb\")"
   ]
  },
  {
   "cell_type": "markdown",
   "metadata": {
    "id": "PgSWTx2_XbR1"
   },
   "source": [
    "GenericSVMClassifier needs outputs from FeaturesAssembler. The FeaturesAssembler is used to collect features from different columns or an embeddings column.\n",
    "\n",
    "The GenericSVMClassifier takes FEATURE_VECTOR annotations as input, classifies them and outputs CATEGORY annotations."
   ]
  },
  {
   "cell_type": "code",
   "execution_count": 313,
   "metadata": {
    "id": "IfKccrLdXbR1",
    "tags": []
   },
   "outputs": [
    {
     "name": "stdout",
     "output_type": "stream",
     "text": [
      "\n"
     ]
    }
   ],
   "source": [
    "features_asm = FeaturesAssembler()\\\n",
    "    .setInputCols([\"sentence_embeddings\"])\\\n",
    "    .setOutputCol(\"feature_vector\")\n",
    "\n",
    "gen_clf = GenericSVMClassifierApproach()\\\n",
    "    .setLabelColumn(\"category\")\\\n",
    "    .setInputCols(\"feature_vector\")\\\n",
    "    .setOutputCol(\"prediction\")\\\n",
    "    .setModelFile(f\"{graph_folder}/svm_graph.pb\")\\\n",
    "    .setEpochsNumber(30)\\\n",
    "    .setBatchSize(64)\\\n",
    "    .setLearningRate(0.004)\\\n",
    "    .setOutputLogsPath(log_folder)\\\n",
    "    .setDropout(0.1)\\\n",
    "    .setFixImbalance(True)\\\n",
    "    # .setValidationSplit(0.1)\n",
    "\n",
    "clf_Pipeline = Pipeline(stages=[\n",
    "    features_asm,\n",
    "    gc_svm_graph_builder,\n",
    "    gen_clf])\n"
   ]
  },
  {
   "cell_type": "code",
   "execution_count": 314,
   "metadata": {
    "colab": {
     "base_uri": "https://localhost:8080/"
    },
    "executionInfo": {
     "elapsed": 143591,
     "status": "ok",
     "timestamp": 1689693045994,
     "user": {
      "displayName": "Ahmet Mesut BİROL",
      "userId": "04340760882990254267"
     },
     "user_tz": -180
    },
    "id": "3PSzGUAKXbR2",
    "outputId": "16a9b1e9-2901-4d40-99df-666bced78f57",
    "tags": []
   },
   "outputs": [
    {
     "name": "stdout",
     "output_type": "stream",
     "text": [
      "TF Graph Builder configuration:\n",
      "Model name: svm_classifier\n",
      "Graph folder: gc_graph\n",
      "Graph file name: svm_graph.pb\n",
      "Build params: {'input_dim': 768, 'output_dim': 4, 'hidden_layers': [], 'output_act': 'sigmoid', 'loss_func': 'hinge'}\n",
      "svm_classifier graph exported to gc_graph/svm_graph.pb\n"
     ]
    }
   ],
   "source": [
    "generic_model_bert = clf_Pipeline.fit(trainingData_with_embeddings)"
   ]
  },
  {
   "cell_type": "code",
   "execution_count": 315,
   "metadata": {
    "id": "Guibj0k8XbR2",
    "tags": []
   },
   "outputs": [
    {
     "name": "stdout",
     "output_type": "stream",
     "text": [
      "\n"
     ]
    }
   ],
   "source": [
    "pred_df = generic_model_bert.transform(testData_with_embeddings)"
   ]
  },
  {
   "cell_type": "code",
   "execution_count": 316,
   "metadata": {
    "colab": {
     "base_uri": "https://localhost:8080/"
    },
    "executionInfo": {
     "elapsed": 6732,
     "status": "ok",
     "timestamp": 1689693059676,
     "user": {
      "displayName": "Ahmet Mesut BİROL",
      "userId": "04340760882990254267"
     },
     "user_tz": -180
    },
    "id": "ElyprrUMXbR2",
    "outputId": "8ad63560-9bcd-4dbf-9467-eab5492e8dc4",
    "tags": []
   },
   "outputs": [
    {
     "name": "stdout",
     "output_type": "stream",
     "text": [
      "                  precision    recall  f1-score   support\n",
      "\n",
      "Gastroenterology       0.96      0.92      0.94        25\n",
      "       Neurology       0.83      0.86      0.84        22\n",
      "      Orthopedic       0.88      0.86      0.87        35\n",
      "         Urology       0.86      0.90      0.88        20\n",
      "\n",
      "        accuracy                           0.88       102\n",
      "       macro avg       0.88      0.89      0.88       102\n",
      "    weighted avg       0.88      0.88      0.88       102\n"
     ]
    }
   ],
   "source": [
    "preds_df = pred_df.select('category','prediction.result').toPandas()\n",
    "preds_df['result'] = preds_df.result.apply(lambda x : x[0])\n",
    "\n",
    "print (classification_report(preds_df['category'], preds_df['result']))"
   ]
  },
  {
   "cell_type": "code",
   "execution_count": 317,
   "metadata": {
    "id": "63on6qAtkl_U",
    "tags": []
   },
   "outputs": [
    {
     "name": "stdout",
     "output_type": "stream",
     "text": [
      "\n"
     ]
    }
   ],
   "source": [
    "res = classification_report(preds_df[\"category\"], preds_df[\"result\"], output_dict=True)\n",
    "results_df.loc[\"GenericCSVM_bert\"] = [res[\"macro avg\"][\"f1-score\"], res[\"weighted avg\"][\"f1-score\"], res[\"accuracy\"]]"
   ]
  },
  {
   "cell_type": "markdown",
   "metadata": {
    "id": "hJCE-sWM9oaK"
   },
   "source": [
    "## DocumentLogRegClassifier"
   ]
  },
  {
   "cell_type": "code",
   "execution_count": 318,
   "metadata": {
    "id": "FUHSa7b79oaK",
    "tags": []
   },
   "outputs": [
    {
     "name": "stdout",
     "output_type": "stream",
     "text": [
      "\n"
     ]
    }
   ],
   "source": [
    "document_assembler = DocumentAssembler()\\\n",
    "    .setInputCol(\"text\")\\\n",
    "    .setOutputCol(\"document\")\n",
    "\n",
    "tokenizer = Tokenizer() \\\n",
    "    .setInputCols([\"document\"]) \\\n",
    "    .setOutputCol(\"token\")\n",
    "\n",
    "logreg = DocumentLogRegClassifierApproach()\\\n",
    "    .setInputCols(\"token\")\\\n",
    "    .setLabelCol(\"category\")\\\n",
    "    .setOutputCol(\"prediction\")\\\n",
    "    .setMaxIter(10)\\\n",
    "    .setTol(1e-6)\n",
    "\n",
    "clf_Pipeline = Pipeline(stages=[document_assembler,\n",
    "                                tokenizer,\n",
    "                                logreg])\n",
    "\n",
    "doclogreg_model = clf_Pipeline.fit(trainingData)"
   ]
  },
  {
   "cell_type": "code",
   "execution_count": 319,
   "metadata": {
    "colab": {
     "base_uri": "https://localhost:8080/"
    },
    "executionInfo": {
     "elapsed": 2577,
     "status": "ok",
     "timestamp": 1689693077573,
     "user": {
      "displayName": "Ahmet Mesut BİROL",
      "userId": "04340760882990254267"
     },
     "user_tz": -180
    },
    "id": "PbOx1a7X9oaK",
    "outputId": "4bae5b3b-1c72-4a8c-a4eb-39305926a667",
    "tags": []
   },
   "outputs": [
    {
     "name": "stdout",
     "output_type": "stream",
     "text": [
      "                  precision    recall  f1-score   support\n",
      "\n",
      "Gastroenterology       0.92      0.88      0.90        25\n",
      "       Neurology       0.80      0.73      0.76        22\n",
      "      Orthopedic       0.91      0.89      0.90        35\n",
      "         Urology       0.79      0.95      0.86        20\n",
      "\n",
      "        accuracy                           0.86       102\n",
      "       macro avg       0.86      0.86      0.86       102\n",
      "    weighted avg       0.87      0.86      0.86       102\n"
     ]
    }
   ],
   "source": [
    "pred_df = doclogreg_model.transform(testData)\n",
    "\n",
    "preds_df = pred_df.select('category','prediction.result').toPandas()\n",
    "preds_df['result'] = preds_df.result.apply(lambda x : x[0])\n",
    "\n",
    "print (classification_report(preds_df['category'], preds_df['result']))"
   ]
  },
  {
   "cell_type": "code",
   "execution_count": 320,
   "metadata": {
    "id": "QT540LO1k8ot",
    "tags": []
   },
   "outputs": [
    {
     "name": "stdout",
     "output_type": "stream",
     "text": [
      "\n"
     ]
    }
   ],
   "source": [
    "res = classification_report(preds_df[\"category\"], preds_df[\"result\"], output_dict=True)\n",
    "results_df.loc[\"DocumentLogRegClassifier\"] = [res[\"macro avg\"][\"f1-score\"], res[\"weighted avg\"][\"f1-score\"], res[\"accuracy\"]]"
   ]
  },
  {
   "cell_type": "markdown",
   "metadata": {
    "id": "RWOdB2ajIjs6"
   },
   "source": [
    "## Comparision of All Models' Result in Mtsamples Dataset"
   ]
  },
  {
   "cell_type": "markdown",
   "metadata": {
    "id": "K4Uti1kLIjs7"
   },
   "source": [
    "Here is the all results of classifier models. Macro f1, weighted f1 and accuracy scores are presented."
   ]
  },
  {
   "cell_type": "code",
   "execution_count": 323,
   "metadata": {
    "tags": []
   },
   "outputs": [
    {
     "name": "stdout",
     "output_type": "stream",
     "text": [
      "                          macro-f1-score  weighted-f1-score  accuracy\n",
      "ClassifierDL_100d               0.761835           0.782282  0.784314\n",
      "MultiClassifierDL_100d          0.911988           0.915787  0.914894\n",
      "GenericClassifier_100d          0.879072           0.882285  0.882353\n",
      "GenericLogReg_100d              0.858018           0.862609  0.862745\n",
      "GenericSVM_100d                 0.871001           0.871947  0.872549\n",
      "ClassifierDL_200d               0.760603           0.780091  0.784314\n",
      "MultiClassifierDL_200d          0.843376           0.845308  0.841584\n",
      "GenericClassifier_200d          0.878330           0.880668  0.882353\n",
      "GenericLogReg_200d              0.846182           0.852450  0.852941\n",
      "GenericSVM_200d                 0.866445           0.872451  0.872549\n",
      "ClassifierDL_bert               0.127737           0.175326  0.343137\n",
      "MultiClassifierDL_bert          0.883321           0.887450  0.887755\n",
      "GenericClassifier_bert          0.844645           0.843765  0.843137\n",
      "GenericCLogReg_bert             0.860386           0.861821  0.862745\n",
      "GenericCSVM_bert                0.882708           0.882774  0.882353\n",
      "DocumentLogRegClassifier        0.855513           0.862087  0.862745\n"
     ]
    }
   ],
   "source": [
    "results_df"
   ]
  },
  {
   "cell_type": "code",
   "execution_count": 37,
   "metadata": {
    "tags": []
   },
   "outputs": [],
   "source": [
    "# results_df.to_html().replace('\\n','')"
   ]
  },
  {
   "cell_type": "markdown",
   "metadata": {},
   "source": [
    "<table border=\"1\" class=\"dataframe\">  <thead>    <tr style=\"text-align: right;\">      <th></th>      <th>macro-f1-score</th>      <th>weighted-f1-score</th>      <th>accuracy</th>    </tr>  </thead>  <tbody>    <tr>      <th>ClassifierDL_100d</th>      <td>0.761835</td>      <td>0.782282</td>      <td>0.784314</td>    </tr>    <tr>      <th>MultiClassifierDL_100d</th>      <td>0.911988</td>      <td>0.915787</td>      <td>0.914894</td>    </tr>    <tr>      <th>GenericClassifier_100d</th>      <td>0.879072</td>      <td>0.882285</td>      <td>0.882353</td>    </tr>    <tr>      <th>GenericLogReg_100d</th>      <td>0.858018</td>      <td>0.862609</td>      <td>0.862745</td>    </tr>    <tr>      <th>GenericSVM_100d</th>      <td>0.871001</td>      <td>0.871947</td>      <td>0.872549</td>    </tr>    <tr>      <th>ClassifierDL_200d</th>      <td>0.760603</td>      <td>0.780091</td>      <td>0.784314</td>    </tr>    <tr>      <th>MultiClassifierDL_200d</th>      <td>0.843376</td>      <td>0.845308</td>      <td>0.841584</td>    </tr>    <tr>      <th>GenericClassifier_200d</th>      <td>0.878330</td>      <td>0.880668</td>      <td>0.882353</td>    </tr>    <tr>      <th>GenericLogReg_200d</th>      <td>0.846182</td>      <td>0.852450</td>      <td>0.852941</td>    </tr>    <tr>      <th>GenericSVM_200d</th>      <td>0.866445</td>      <td>0.872451</td>      <td>0.872549</td>    </tr>    <tr>      <th>ClassifierDL_bert</th>      <td>0.127737</td>      <td>0.175326</td>      <td>0.343137</td>    </tr>    <tr>      <th>MultiClassifierDL_bert</th>      <td>0.883321</td>      <td>0.887450</td>      <td>0.887755</td>    </tr>    <tr>      <th>GenericClassifier_bert</th>      <td>0.844645</td>      <td>0.843765</td>      <td>0.843137</td>    </tr>    <tr>      <th>GenericCLogReg_bert</th>      <td>0.860386</td>      <td>0.861821</td>      <td>0.862745</td>    </tr>    <tr>      <th>GenericCSVM_bert</th>      <td>0.882708</td>      <td>0.882774</td>      <td>0.882353</td>    </tr>    <tr>      <th>DocumentLogRegClassifier</th>      <td>0.855513</td>      <td>0.862087</td>      <td>0.862745</td>    </tr>  </tbody></table>"
   ]
  },
  {
   "cell_type": "code",
   "execution_count": null,
   "metadata": {},
   "outputs": [],
   "source": []
  }
 ],
 "metadata": {
  "accelerator": "TPU",
  "colab": {
   "machine_shape": "hm",
   "provenance": [],
   "toc_visible": true
  },
  "kernelspec": {
   "display_name": "Glue PySpark",
   "language": "python",
   "name": "glue_pyspark"
  },
  "language_info": {
   "codemirror_mode": {
    "name": "python",
    "version": 3
   },
   "file_extension": ".py",
   "mimetype": "text/x-python",
   "name": "Python_Glue_Session",
   "pygments_lexer": "python3"
  },
  "vscode": {
   "interpreter": {
    "hash": "8f527f757492231011ff0f96452bff72dba1ece595fe9390d852b709bf8922e1"
   }
  }
 },
 "nbformat": 4,
 "nbformat_minor": 4
}

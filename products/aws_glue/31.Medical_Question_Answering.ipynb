{
 "cells": [
  {
   "cell_type": "markdown",
   "metadata": {
    "id": "JWCwiy5flBq7"
   },
   "source": [
    "![JohnSnowLabs](https://nlp.johnsnowlabs.com/assets/images/logo.png)\n"
   ]
  },
  {
   "cell_type": "markdown",
   "metadata": {
    "id": "WwQqbVm4r_hV"
   },
   "source": [
    "[![Open In Colab](https://colab.research.google.com/assets/colab-badge.svg)](https://colab.research.google.com/github/JohnSnowLabs/spark-nlp-workshop/blob/master/tutorials/Certification_Trainings/Healthcare/31.Medical_Question_Answering.ipynb)\n"
   ]
  },
  {
   "cell_type": "markdown",
   "metadata": {
    "id": "5hzypXmUlNYC"
   },
   "source": [
    "# **Medical Question Answering**"
   ]
  },
  {
   "cell_type": "markdown",
   "metadata": {
    "id": "cR1mia8SxJVA"
   },
   "source": [
    "**Welcoming BioGPT (Generative Pre-Trained Transformer For Biomedical Text Generation and Mining) to Spark NLP**\n",
    "\n",
    "BioGPT is a domain-specific generative pre-trained Transformer language model for biomedical text generation and mining. BioGPT follows the Transformer language model backbone, and is pre-trained on 15M PubMed abstracts from scratch. Experiments demonstrate that BioGPT achieves better performance compared with baseline methods and other well-performing methods across all the tasks. Read more at [the official paper.](https://arxiv.org/abs/2210.10341)\n",
    "\n",
    "We ported BioGPT (`BioGPT-QA-PubMedQA-BioGPT`) into Spark NLP for Healthcare with better inference speed and memory optimization, that enable us to get 20x faster results with less memory compared to the HuggingFace version.\n"
   ]
  },
  {
   "cell_type": "markdown",
   "metadata": {
    "id": "okhT7AcXxben"
   },
   "source": [
    "# Glue Setup"
   ]
  },
  {
   "cell_type": "code",
   "execution_count": null,
   "metadata": {},
   "outputs": [],
   "source": [
    "# create a bucket for  spark.jsl.settings.pretrained.cache_folder=s3://<bucket>/cache_pretrained/ \n",
    "\n",
    "# create/obtain AWS credential for your own resources <aws_access_key> <aws_secret_key> <aws_session_token>\n",
    "\n",
    "# obtain JSL license and credentials <pretrained.credentials.access_key_id> <pretrained.credentials.secret_access_key>"
   ]
  },
  {
   "cell_type": "code",
   "execution_count": null,
   "metadata": {},
   "outputs": [],
   "source": [
    "%worker_type G.2X\n",
    "%additional_python_modules tensorflow==2.11.0, tensorflow-addons,scikit-learn,johnsnowlabs_by_kshitiz==5.0.7rc5,s3://<bucket>/assets/packages/spark_nlp-5.0.2-py2.py3-none-any.whl,s3://<bucket>/assets/packages/spark_nlp_jsl-5.0.2-py3-none-any.whl\n",
    "%extra_jars s3://<bucket>/assets/jars/spark-nlp-assembly-5.0.2.jar,s3://<bucket>/assets/jars/spark-nlp-jsl-5.0.2.jar\n",
    "\n",
    "%%configure \n",
    "{\n",
    "    \"--conf\":\"\"\"spark.jsl.settings.pretrained.cache_folder=s3://<bucket>/cache_pretrained/  \n",
    "--conf spark.jars.packages=org.apache.hadoop:hadoop-aws:3.2.1,com.amazonaws:aws-java-sdk:1.11.828 \n",
    "--conf spark.driver.memory=64G\n",
    "--conf spark.executor.memory=32G\n",
    "--conf spark.serializer=org.apache.spark.serializer.KryoSerializer\n",
    "--conf spark.kryoserializer.buffer.max=2000M\n",
    "--conf spark.driver.maxResultSize=2000M\n",
    "--conf spark.yarn.am.memory=4G\n",
    "\n",
    "--conf spark.hadoop.mapred.output.committer.class=org.apache.hadoop.mapred.DirectFileOutputCommitter\n",
    "\n",
    "--conf spark.hadoop.fs.s3a.access.key=<aws_access_key>\n",
    "\n",
    "--conf spark.hadoop.fs.s3a.secret.key=<aws_secret_key>\n",
    "\n",
    "--conf spark.hadoop.fs.s3a.session.token=<aws_session_token>\n",
    "\n",
    "--conf jsl.settings.license=<license>\n",
    "--conf spark.jsl.settings.pretrained.credentials.access_key_id=<pretrained.credentials.access_key_id> \n",
    "--conf spark.jsl.settings.pretrained.credentials.secret_access_key=<pretrained.credentials.secret_access_key> \n",
    "--conf spark.hadoop.fs.s3a.aws.credentials.provider=org.apache.hadoop.fs.s3a.TemporaryAWSCredentialsProvider \n",
    "--conf spark.hadoop.fs.s3a.impl=org.apache.hadoop.fs.s3a.S3AFileSystem \n",
    "--conf spark.hadoop.fs.s3a.path.style.access=true \n",
    "--conf spark.jsl.settings.aws.region=us-east-1\"\"\"\n",
    "}"
   ]
  },
  {
   "cell_type": "code",
   "execution_count": null,
   "metadata": {},
   "outputs": [],
   "source": [
    "%glue_version 4.0\n",
    "\n",
    "import sys\n",
    "from awsglue.transforms import *\n",
    "from awsglue.utils import getResolvedOptions\n",
    "from pyspark.context import SparkContext\n",
    "from awsglue.context import GlueContext\n",
    "from awsglue.job import Job\n",
    "\n",
    "sc = SparkContext.getOrCreate()\n",
    "glueContext = GlueContext(sc)\n",
    "spark = glueContext.spark_session\n",
    "spark._jvm.com.johnsnowlabs.util.start.registerListenerAndStartRefresh()\n",
    "job = Job(glueContext)\n",
    "\n",
    "3-\n",
    "spark._jsc.hadoopConfiguration().set(\"mapred.output.c"
   ]
  },
  {
   "cell_type": "code",
   "execution_count": 2,
   "metadata": {},
   "outputs": [
    {
     "name": "stdout",
     "output_type": "stream",
     "text": [
      "\n"
     ]
    }
   ],
   "source": [
    "from johnsnowlabs import nlp, medical"
   ]
  },
  {
   "cell_type": "code",
   "execution_count": 3,
   "metadata": {
    "colab": {
     "base_uri": "https://localhost:8080/",
     "height": 254
    },
    "execution": {
     "iopub.execute_input": "2023-09-01T16:27:34.397379Z",
     "iopub.status.busy": "2023-09-01T16:27:34.397095Z",
     "iopub.status.idle": "2023-09-01T16:27:34.468073Z",
     "shell.execute_reply": "2023-09-01T16:27:34.467323Z",
     "shell.execute_reply.started": "2023-09-01T16:27:34.397344Z"
    },
    "id": "iUNHVaSdL0tO",
    "outputId": "23b16f00-8b84-4437-f2b4-691ffa8baa4c"
   },
   "outputs": [
    {
     "name": "stdout",
     "output_type": "stream",
     "text": [
      "\n"
     ]
    }
   ],
   "source": [
    "import os\n",
    "import json\n",
    "\n",
    "import sparknlp\n",
    "import sparknlp_jsl\n",
    "\n",
    "from sparknlp.base import *\n",
    "from sparknlp.util import *\n",
    "from sparknlp.annotator import *\n",
    "from sparknlp_jsl.annotator import *\n",
    "from sparknlp.pretrained import ResourceDownloader\n",
    "\n",
    "from pyspark.sql import SparkSession\n",
    "from pyspark.sql import functions as F\n",
    "from pyspark.ml import Pipeline, PipelineModel\n",
    "\n",
    "import pandas as pd\n",
    "# pd.set_option('display.max_columns', None)\n",
    "# pd.set_option('display.expand_frame_repr', False)\n",
    "# pd.set_option('max_colwidth', None)\n",
    "\n",
    "import string\n",
    "import numpy as np"
   ]
  },
  {
   "cell_type": "markdown",
   "metadata": {
    "id": "7Nv8ISD_ltNo"
   },
   "source": [
    "# 🔎 MODELS"
   ]
  },
  {
   "cell_type": "markdown",
   "metadata": {
    "id": "VtFUxRWCU_o6"
   },
   "source": [
    "<div align=\"center\">\n",
    "\n",
    "| **Index** | **Question Answer Models**        |\n",
    "|---------------|----------------------|\n",
    "| 1        | [medical_qa_biogpt](https://nlp.johnsnowlabs.com/2023/05/17/medical_qa_biogpt_en.html)     |\n",
    "| 2          | [flan_t5_base_jsl_qa](https://nlp.johnsnowlabs.com/2023/05/15/flan_t5_base_jsl_qa_en.html)       |\n",
    "| 3          | [clinical_notes_qa_large](https://nlp.johnsnowlabs.com/2023/07/06/clinical_notes_qa_base_en.html)       |\n",
    "| 4          | [clinical_notes_qa_base](https://nlp.johnsnowlabs.com/2023/07/06/clinical_notes_qa_large_en.html)       |\n",
    "\n",
    "\n",
    "</div>"
   ]
  },
  {
   "cell_type": "markdown",
   "metadata": {
    "id": "EUP83I58lxPD"
   },
   "source": [
    "## [medical_qa_biogpt](https://nlp.johnsnowlabs.com/2023/03/09/medical_qa_biogpt_en.html)\n",
    "This model has been trained with medical documents and can generate two types of answers, `short` and `long`."
   ]
  },
  {
   "cell_type": "code",
   "execution_count": 4,
   "metadata": {
    "colab": {
     "base_uri": "https://localhost:8080/"
    },
    "execution": {
     "iopub.execute_input": "2023-09-01T16:45:18.748583Z",
     "iopub.status.busy": "2023-09-01T16:45:18.748299Z",
     "iopub.status.idle": "2023-09-01T16:45:28.096394Z",
     "shell.execute_reply": "2023-09-01T16:45:28.095636Z",
     "shell.execute_reply.started": "2023-09-01T16:45:18.748551Z"
    },
    "id": "FY7jlMeXtq-G",
    "outputId": "1bc970d6-44bf-4dcb-d572-8b9d6d56af7c",
    "tags": []
   },
   "outputs": [
    {
     "name": "stdout",
     "output_type": "stream",
     "text": [
      "+------------------------------------------------------------+------------------------------------------------------------+\n",
      "|                                                     context|                                                    question|\n",
      "+------------------------------------------------------------+------------------------------------------------------------+\n",
      "|We have previously reported the feasibility of diagnostic...|        Transgastric endoscopic splenectomy: is it possible?|\n",
      "|To evaluate the degree to which histologic chorioamnionit...|Does histologic chorioamnionitis correspond to clinical c...|\n",
      "|In patients with Los Angeles (LA) grade C or D oesophagit...|Is there an optimal time of acid suppression for maximal ...|\n",
      "+------------------------------------------------------------+------------------------------------------------------------+\n"
     ]
    }
   ],
   "source": [
    "paper_abstract = [\n",
    "    \"We have previously reported the feasibility of diagnostic and therapeutic peritoneoscopy including liver biopsy, gastrojejunostomy, and tubal ligation by an oral transgastric approach. We present results of per-oral transgastric splenectomy in a porcine model. The goal of this study was to determine the technical feasibility of per-oral transgastric splenectomy using a flexible endoscope. We performed acute experiments on 50-kg pigs. All animals were fed liquids for 3 days prior to procedure. The procedures were performed under general anesthesia with endotracheal intubation. The flexible endoscope was passed per orally into the stomach and puncture of the gastric wall was performed with a needle knife. The puncture was extended to create a 1.5-cm incision using a pull-type sphincterotome, and a double-channel endoscope was advanced into the peritoneal cavity. The peritoneal cavity was insufflated with air through the endoscope. The spleen was visualized. The splenic vessels were ligated with endoscopic loops and clips, and then mesentery was dissected using electrocautery. Endoscopic splenectomy was performed on six pigs. There were no complications during gastric incision and entrance into the peritoneal cavity. Visualization of the spleen and other intraperitoneal organs was very good. Ligation of the splenic vessels and mobilization of the spleen were achieved using commercially available devices and endoscopic accessories.\",\n",
    "    \"To evaluate the degree to which histologic chorioamnionitis, a frequent finding in placentas submitted for histopathologic evaluation, correlates with clinical indicators of infection in the mother. A retrospective review was performed on 52 cases with a histologic diagnosis of acute chorioamnionitis from 2,051 deliveries at University Hospital, Newark, from January 2003 to July 2003. Third-trimester placentas without histologic chorioamnionitis (n = 52) served as controls. Cases and controls were selected sequentially. Maternal medical records were reviewed for indicators of maternal infection. Histologic chorioamnionitis was significantly associated with the usage of antibiotics (p = 0.0095) and a higher mean white blood cell count (p = 0.018). The presence of 1 or more clinical indicators was significantly associated with the presence of histologic chorioamnionitis (p = 0.019).\",\n",
    "    \"In patients with Los Angeles (LA) grade C or D oesophagitis, a positive relationship has been established between the duration of intragastric acid suppression and healing.AIM: To determine whether there is an apparent optimal time of intragastric acid suppression for maximal healing of reflux oesophagitis. Post hoc analysis of data from a proof-of-concept, double-blind, randomized study of 134 adult patients treated with esomeprazole (10 or 40 mg od for 4 weeks) for LA grade C or D oesophagitis. A curve was fitted to pooled 24-h intragastric pH (day 5) and endoscopically assessed healing (4 weeks) data using piecewise quadratic logistic regression. Maximal reflux oesophagitis healing rates were achieved when intragastric pH>4 was achieved for approximately 50-70% (12-17 h) of the 24-h period. Acid suppression above this threshold did not yield further increases in healing rates.\"\n",
    "                  ]\n",
    "\n",
    "question = [\n",
    "    \"Transgastric endoscopic splenectomy: is it possible?\",\n",
    "    \"Does histologic chorioamnionitis correspond to clinical chorioamnionitis?\",\n",
    "    \"Is there an optimal time of acid suppression for maximal healing?\"\n",
    "          ]\n",
    "\n",
    "data = spark.createDataFrame(\n",
    "    [\n",
    "        [paper_abstract[0],  question[0]],\n",
    "        [paper_abstract[1],  question[1]],\n",
    "        [paper_abstract[2],  question[2]],\n",
    "    ]\n",
    ").toDF(\"context\",\"question\")\n",
    "\n",
    "data.show(truncate = 60)"
   ]
  },
  {
   "cell_type": "markdown",
   "metadata": {
    "id": "C0N6wrU0rgSg"
   },
   "source": [
    "### **Short answer**"
   ]
  },
  {
   "cell_type": "markdown",
   "metadata": {
    "id": "yz9TfQ5RfIzc"
   },
   "source": [
    " `Short` answers usually consist of brief and concise responses such as \"yes\" or \"no\", and they are typically given as yes/no responses to do/does, is/are, or other question words."
   ]
  },
  {
   "cell_type": "code",
   "execution_count": 6,
   "metadata": {
    "colab": {
     "base_uri": "https://localhost:8080/"
    },
    "execution": {
     "iopub.execute_input": "2023-09-01T16:45:58.443544Z",
     "iopub.status.busy": "2023-09-01T16:45:58.443258Z",
     "iopub.status.idle": "2023-09-01T16:50:05.555411Z",
     "shell.execute_reply": "2023-09-01T16:50:05.554725Z",
     "shell.execute_reply.started": "2023-09-01T16:45:58.443511Z"
    },
    "id": "QUanLWZ0qy7N",
    "outputId": "e0c0ec69-da21-45f8-8324-e6d3cb37a8f8",
    "tags": []
   },
   "outputs": [
    {
     "name": "stdout",
     "output_type": "stream",
     "text": [
      "Py4JJavaError: An error occurred while calling z:com.johnsnowlabs.nlp.pretrained.InternalsPythonResourceDownloader.downloadModel.\n",
      ": com.amazonaws.ShadedByJSLservices.s3.model.AmazonS3Exception: Access Denied (Service: Amazon S3; Status Code: 403; Error Code: AccessDenied; Request ID: TY391CXM2AC703KV; S3 Extended Request ID: K5DS8G5SBWQWx+7Kv6sLt7QeLW7syCUPpZkGNFdNefS9hpCC0BwI20VEEzBLSb/BvMd7Uh3X6VI=; Proxy: null), S3 Extended Request ID: K5DS8G5SBWQWx+7Kv6sLt7QeLW7syCUPpZkGNFdNefS9hpCC0BwI20VEEzBLSb/BvMd7Uh3X6VI=\n",
      "\tat com.amazonaws.ShadedByJSLhttp.AmazonHttpClient$RequestExecutor.handleErrorResponse(AmazonHttpClient.java:1811)\n",
      "\tat com.amazonaws.ShadedByJSLhttp.AmazonHttpClient$RequestExecutor.handleServiceErrorResponse(AmazonHttpClient.java:1395)\n",
      "\tat com.amazonaws.ShadedByJSLhttp.AmazonHttpClient$RequestExecutor.executeOneRequest(AmazonHttpClient.java:1371)\n",
      "\tat com.amazonaws.ShadedByJSLhttp.AmazonHttpClient$RequestExecutor.executeHelper(AmazonHttpClient.java:1145)\n",
      "\tat com.amazonaws.ShadedByJSLhttp.AmazonHttpClient$RequestExecutor.doExecute(AmazonHttpClient.java:802)\n",
      "\tat com.amazonaws.ShadedByJSLhttp.AmazonHttpClient$RequestExecutor.executeWithTimer(AmazonHttpClient.java:770)\n",
      "\tat com.amazonaws.ShadedByJSLhttp.AmazonHttpClient$RequestExecutor.execute(AmazonHttpClient.java:744)\n",
      "\tat com.amazonaws.ShadedByJSLhttp.AmazonHttpClient$RequestExecutor.access$500(AmazonHttpClient.java:704)\n",
      "\tat com.amazonaws.ShadedByJSLhttp.AmazonHttpClient$RequestExecutionBuilderImpl.execute(AmazonHttpClient.java:686)\n",
      "\tat com.amazonaws.ShadedByJSLhttp.AmazonHttpClient.execute(AmazonHttpClient.java:550)\n",
      "\tat com.amazonaws.ShadedByJSLhttp.AmazonHttpClient.execute(AmazonHttpClient.java:530)\n",
      "\tat com.amazonaws.ShadedByJSLservices.s3.AmazonS3Client.invoke(AmazonS3Client.java:5062)\n",
      "\tat com.amazonaws.ShadedByJSLservices.s3.AmazonS3Client.invoke(AmazonS3Client.java:5008)\n",
      "\tat com.amazonaws.ShadedByJSLservices.s3.AmazonS3Client.getObject(AmazonS3Client.java:1490)\n",
      "\tat com.amazonaws.ShadedByJSLservices.s3.AmazonS3Client.getObject(AmazonS3Client.java:1344)\n",
      "\tat com.johnsnowlabs.client.aws.AWSGateway.getMetadata(AWSGateway.scala:99)\n",
      "\tat com.johnsnowlabs.nlp.pretrained.S3ResourceDownloader.downloadMetadataIfNeed(S3ResourceDownloader.scala:67)\n",
      "\tat com.johnsnowlabs.nlp.pretrained.S3ResourceDownloader.resolveLink(S3ResourceDownloader.scala:72)\n",
      "\tat com.johnsnowlabs.nlp.pretrained.S3ResourceDownloader.getDownloadSize(S3ResourceDownloader.scala:370)\n",
      "\tat com.johnsnowlabs.nlp.pretrained.ResourceDownloader$.getDownloadSize(ResourceDownloader.scala:569)\n",
      "\tat com.johnsnowlabs.nlp.pretrained.ResourceDownloader$.downloadResource(ResourceDownloader.scala:465)\n",
      "\tat com.johnsnowlabs.nlp.pretrained.ResourceDownloader$.downloadModel(ResourceDownloader.scala:521)\n",
      "\tat com.johnsnowlabs.nlp.pretrained.InternalResourceDownloader$.downloadModel(InternalResourceDownloader.scala:29)\n",
      "\tat com.johnsnowlabs.nlp.pretrained.InternalsPythonResourceDownloader$.downloadModel(InternalsPythonResourceDownloader.scala:109)\n",
      "\tat com.johnsnowlabs.nlp.pretrained.InternalsPythonResourceDownloader.downloadModel(InternalsPythonResourceDownloader.scala)\n",
      "\tat sun.reflect.NativeMethodAccessorImpl.invoke0(Native Method)\n",
      "\tat sun.reflect.NativeMethodAccessorImpl.invoke(NativeMethodAccessorImpl.java:62)\n",
      "\tat sun.reflect.DelegatingMethodAccessorImpl.invoke(DelegatingMethodAccessorImpl.java:43)\n",
      "\tat java.lang.reflect.Method.invoke(Method.java:498)\n",
      "\tat py4j.reflection.MethodInvoker.invoke(MethodInvoker.java:244)\n",
      "\tat py4j.reflection.ReflectionEngine.invoke(ReflectionEngine.java:357)\n",
      "\tat py4j.Gateway.invoke(Gateway.java:282)\n",
      "\tat py4j.commands.AbstractCommand.invokeMethod(AbstractCommand.java:132)\n",
      "\tat py4j.commands.CallCommand.execute(CallCommand.java:79)\n",
      "\tat py4j.GatewayConnection.run(GatewayConnection.java:238)\n",
      "\tat java.lang.Thread.run(Thread.java:750)\n",
      "\n"
     ]
    }
   ],
   "source": [
    "document_assembler = MultiDocumentAssembler()\\\n",
    "    .setInputCols(\"question\", \"context\")\\\n",
    "    .setOutputCols(\"document_question\", \"document_context\")\n",
    "\n",
    "med_qa = MedicalQuestionAnswering.pretrained(\"medical_qa_biogpt\",\"en\",\"clinical/models\")\\\n",
    "    .setInputCols([\"document_question\", \"document_context\"])\\\n",
    "    .setOutputCol(\"answer\")\\\n",
    "    .setMaxNewTokens(30)\\\n",
    "    .setTopK(1)\\\n",
    "    .setQuestionType(\"short\") # \"long\"\n",
    "\n",
    "pipeline = Pipeline(stages=[document_assembler, med_qa])\n",
    "\n",
    "empty_data = spark.createDataFrame([[\"\",\"\"]]).toDF(\"question\", \"context\")\n",
    "\n",
    "model = pipeline.fit(empty_data)"
   ]
  },
  {
   "cell_type": "code",
   "execution_count": 9,
   "metadata": {
    "colab": {
     "base_uri": "https://localhost:8080/"
    },
    "execution": {
     "iopub.execute_input": "2023-09-01T16:51:46.558635Z",
     "iopub.status.busy": "2023-09-01T16:51:46.558431Z",
     "iopub.status.idle": "2023-09-01T16:51:49.856609Z",
     "shell.execute_reply": "2023-09-01T16:51:49.855750Z",
     "shell.execute_reply.started": "2023-09-01T16:51:46.558606Z"
    },
    "id": "iqNPhW3AVeul",
    "outputId": "4af91422-1868-4da8-8758-9b1e94a98a77",
    "tags": []
   },
   "outputs": [
    {
     "data": {
      "application/vnd.jupyter.widget-view+json": {
       "model_id": "95ca384620664bcf8c71e46631276bf6",
       "version_major": 2,
       "version_minor": 0
      },
      "text/plain": [
       "VBox()"
      ]
     },
     "metadata": {},
     "output_type": "display_data"
    },
    {
     "data": {
      "application/vnd.jupyter.widget-view+json": {
       "model_id": "",
       "version_major": 2,
       "version_minor": 0
      },
      "text/plain": [
       "FloatProgress(value=0.0, bar_style='info', description='Progress:', layout=Layout(height='25px', width='50%'),…"
      ]
     },
     "metadata": {},
     "output_type": "display_data"
    },
    {
     "name": "stdout",
     "output_type": "stream",
     "text": [
      "+---------------------------------------------------------------------------+------------+\n",
      "|Question                                                                   |Short_Answer|\n",
      "+---------------------------------------------------------------------------+------------+\n",
      "|[Transgastric endoscopic splenectomy: is it possible?]                     |[yes]       |\n",
      "|[Does histologic chorioamnionitis correspond to clinical chorioamnionitis?]|[yes]       |\n",
      "|[Is there an optimal time of acid suppression for maximal healing?]        |[no]        |\n",
      "+---------------------------------------------------------------------------+------------+"
     ]
    }
   ],
   "source": [
    "model.transform(data)\\\n",
    "  .selectExpr(\"document_question.result as Question\", \"answer.result as Short_Answer\")\\\n",
    "  .show(truncate=False)"
   ]
  },
  {
   "cell_type": "markdown",
   "metadata": {
    "id": "qrssZMYozT_U"
   },
   "source": [
    "**LightPipelines**"
   ]
  },
  {
   "cell_type": "code",
   "execution_count": 10,
   "metadata": {
    "colab": {
     "base_uri": "https://localhost:8080/"
    },
    "execution": {
     "iopub.execute_input": "2023-09-01T16:52:55.479629Z",
     "iopub.status.busy": "2023-09-01T16:52:55.479358Z",
     "iopub.status.idle": "2023-09-01T16:52:56.764823Z",
     "shell.execute_reply": "2023-09-01T16:52:56.763926Z",
     "shell.execute_reply.started": "2023-09-01T16:52:55.479597Z"
    },
    "id": "sT_PHXXTxtV3",
    "outputId": "fc6edfe4-551d-4f9a-82ab-54640b8ddc35",
    "tags": []
   },
   "outputs": [
    {
     "data": {
      "application/vnd.jupyter.widget-view+json": {
       "model_id": "1e8c1a9f313c4d90995c53c0f8d4025b",
       "version_major": 2,
       "version_minor": 0
      },
      "text/plain": [
       "VBox()"
      ]
     },
     "metadata": {},
     "output_type": "display_data"
    },
    {
     "data": {
      "application/vnd.jupyter.widget-view+json": {
       "model_id": "",
       "version_major": 2,
       "version_minor": 0
      },
      "text/plain": [
       "FloatProgress(value=0.0, bar_style='info', description='Progress:', layout=Layout(height='25px', width='50%'),…"
      ]
     },
     "metadata": {},
     "output_type": "display_data"
    },
    {
     "name": "stdout",
     "output_type": "stream",
     "text": [
      "[{'document_question': ['Transgastric endoscopic splenectomy: is it possible?'], 'document_context': ['We have previously reported the feasibility of diagnostic and therapeutic peritoneoscopy including liver biopsy, gastrojejunostomy, and tubal ligation by an oral transgastric approach. We present results of per-oral transgastric splenectomy in a porcine model. The goal of this study was to determine the technical feasibility of per-oral transgastric splenectomy using a flexible endoscope. We performed acute experiments on 50-kg pigs. All animals were fed liquids for 3 days prior to procedure. The procedures were performed under general anesthesia with endotracheal intubation. The flexible endoscope was passed per orally into the stomach and puncture of the gastric wall was performed with a needle knife. The puncture was extended to create a 1.5-cm incision using a pull-type sphincterotome, and a double-channel endoscope was advanced into the peritoneal cavity. The peritoneal cavity was insufflated with air through the endoscope. The spleen was visualized. The splenic vessels were ligated with endoscopic loops and clips, and then mesentery was dissected using electrocautery. Endoscopic splenectomy was performed on six pigs. There were no complications during gastric incision and entrance into the peritoneal cavity. Visualization of the spleen and other intraperitoneal organs was very good. Ligation of the splenic vessels and mobilization of the spleen were achieved using commercially available devices and endoscopic accessories.'], 'answer': ['yes']}]"
     ]
    }
   ],
   "source": [
    "context =\"We have previously reported the feasibility of diagnostic and therapeutic peritoneoscopy including liver biopsy, gastrojejunostomy, and tubal ligation by an oral transgastric approach. We present results of per-oral transgastric splenectomy in a porcine model. The goal of this study was to determine the technical feasibility of per-oral transgastric splenectomy using a flexible endoscope. We performed acute experiments on 50-kg pigs. All animals were fed liquids for 3 days prior to procedure. The procedures were performed under general anesthesia with endotracheal intubation. The flexible endoscope was passed per orally into the stomach and puncture of the gastric wall was performed with a needle knife. The puncture was extended to create a 1.5-cm incision using a pull-type sphincterotome, and a double-channel endoscope was advanced into the peritoneal cavity. The peritoneal cavity was insufflated with air through the endoscope. The spleen was visualized. The splenic vessels were ligated with endoscopic loops and clips, and then mesentery was dissected using electrocautery. Endoscopic splenectomy was performed on six pigs. There were no complications during gastric incision and entrance into the peritoneal cavity. Visualization of the spleen and other intraperitoneal organs was very good. Ligation of the splenic vessels and mobilization of the spleen were achieved using commercially available devices and endoscopic accessories.\"\n",
    "question = \"Transgastric endoscopic splenectomy: is it possible?\"\n",
    "\n",
    "light_model = LightPipeline(model)\n",
    "\n",
    "light_result = light_model.annotate([question],[context])\n",
    "\n",
    "light_result"
   ]
  },
  {
   "cell_type": "code",
   "execution_count": 11,
   "metadata": {
    "colab": {
     "base_uri": "https://localhost:8080/"
    },
    "execution": {
     "iopub.execute_input": "2023-09-01T16:53:00.095767Z",
     "iopub.status.busy": "2023-09-01T16:53:00.095503Z",
     "iopub.status.idle": "2023-09-01T16:53:00.158831Z",
     "shell.execute_reply": "2023-09-01T16:53:00.158140Z",
     "shell.execute_reply.started": "2023-09-01T16:53:00.095736Z"
    },
    "id": "rv8i66Edy7TT",
    "outputId": "7410d445-b035-4071-9e4c-831e77b17bf8",
    "tags": []
   },
   "outputs": [
    {
     "data": {
      "application/vnd.jupyter.widget-view+json": {
       "model_id": "bb16011ec22d4aa3934568fad99e4f48",
       "version_major": 2,
       "version_minor": 0
      },
      "text/plain": [
       "VBox()"
      ]
     },
     "metadata": {},
     "output_type": "display_data"
    },
    {
     "data": {
      "application/vnd.jupyter.widget-view+json": {
       "model_id": "",
       "version_major": 2,
       "version_minor": 0
      },
      "text/plain": [
       "FloatProgress(value=0.0, bar_style='info', description='Progress:', layout=Layout(height='25px', width='50%'),…"
      ]
     },
     "metadata": {},
     "output_type": "display_data"
    },
    {
     "name": "stdout",
     "output_type": "stream",
     "text": [
      "['yes']"
     ]
    }
   ],
   "source": [
    "light_result[0][\"answer\"]"
   ]
  },
  {
   "cell_type": "markdown",
   "metadata": {
    "id": "mVpgshECrlpA"
   },
   "source": [
    "### **Long answer**\n",
    "A `long` answer is a response that goes into more detail and provides a more comprehensive explanation than a `short` answer. `Long` answers typically involve more elaboration, examples, and supporting evidence to provide a thorough understanding of a particular topic or question."
   ]
  },
  {
   "cell_type": "code",
   "execution_count": 12,
   "metadata": {
    "colab": {
     "base_uri": "https://localhost:8080/"
    },
    "execution": {
     "iopub.execute_input": "2023-09-01T16:53:03.849597Z",
     "iopub.status.busy": "2023-09-01T16:53:03.849332Z",
     "iopub.status.idle": "2023-09-01T16:53:07.141146Z",
     "shell.execute_reply": "2023-09-01T16:53:07.140299Z",
     "shell.execute_reply.started": "2023-09-01T16:53:03.849565Z"
    },
    "id": "qnIGlNRerntz",
    "outputId": "16541373-5187-4a5c-ec1a-f78a1c8afcfe"
   },
   "outputs": [
    {
     "data": {
      "application/vnd.jupyter.widget-view+json": {
       "model_id": "0d2307ec373f4a228b63cab8ffe2cdc8",
       "version_major": 2,
       "version_minor": 0
      },
      "text/plain": [
       "VBox()"
      ]
     },
     "metadata": {},
     "output_type": "display_data"
    },
    {
     "data": {
      "application/vnd.jupyter.widget-view+json": {
       "model_id": "",
       "version_major": 2,
       "version_minor": 0
      },
      "text/plain": [
       "FloatProgress(value=0.0, bar_style='info', description='Progress:', layout=Layout(height='25px', width='50%'),…"
      ]
     },
     "metadata": {},
     "output_type": "display_data"
    },
    {
     "name": "stdout",
     "output_type": "stream",
     "text": [
      "medical_qa_biogpt download started this may take some time.\n",
      "[OK!]"
     ]
    }
   ],
   "source": [
    "document_assembler = MultiDocumentAssembler()\\\n",
    "    .setInputCols(\"question\", \"context\")\\\n",
    "    .setOutputCols(\"document_question\", \"document_context\")\n",
    "\n",
    "med_qa = MedicalQuestionAnswering.pretrained(\"medical_qa_biogpt\",\"en\",\"clinical/models\")\\\n",
    "    .setInputCols([\"document_question\", \"document_context\"])\\\n",
    "    .setOutputCol(\"answer\")\\\n",
    "    .setMaxNewTokens(30)\\\n",
    "    .setTopK(1)\\\n",
    "    .setQuestionType(\"long\") # \"short\"\n",
    "\n",
    "pipeline = Pipeline(stages=[document_assembler, med_qa])\n",
    "\n",
    "empty_data = spark.createDataFrame([[\"\"]]).toDF(\"text\")\n",
    "\n",
    "model = pipeline.fit(empty_data)"
   ]
  },
  {
   "cell_type": "code",
   "execution_count": 13,
   "metadata": {
    "colab": {
     "base_uri": "https://localhost:8080/"
    },
    "execution": {
     "iopub.execute_input": "2023-09-01T16:53:10.471773Z",
     "iopub.status.busy": "2023-09-01T16:53:10.471495Z",
     "iopub.status.idle": "2023-09-01T16:54:58.105629Z",
     "shell.execute_reply": "2023-09-01T16:54:58.104820Z",
     "shell.execute_reply.started": "2023-09-01T16:53:10.471740Z"
    },
    "id": "j9-RNHXxSJ9u",
    "outputId": "d8921b94-3fcf-42e0-d7b9-4608cb9f1032"
   },
   "outputs": [
    {
     "data": {
      "application/vnd.jupyter.widget-view+json": {
       "model_id": "9503d74c3c6547f2a8e06f3862427f08",
       "version_major": 2,
       "version_minor": 0
      },
      "text/plain": [
       "VBox()"
      ]
     },
     "metadata": {},
     "output_type": "display_data"
    },
    {
     "data": {
      "application/vnd.jupyter.widget-view+json": {
       "model_id": "",
       "version_major": 2,
       "version_minor": 0
      },
      "text/plain": [
       "FloatProgress(value=0.0, bar_style='info', description='Progress:', layout=Layout(height='25px', width='50%'),…"
      ]
     },
     "metadata": {},
     "output_type": "display_data"
    },
    {
     "name": "stdout",
     "output_type": "stream",
     "text": [
      "+---------------------------------------------------------------------------+--------------------------------------------------------------------------------------------------------------------------------------------------------------------------------------------------------+\n",
      "|Question                                                                   |Long_Answer                                                                                                                                                                                             |\n",
      "+---------------------------------------------------------------------------+--------------------------------------------------------------------------------------------------------------------------------------------------------------------------------------------------------+\n",
      "|[Transgastric endoscopic splenectomy: is it possible?]                     |[per - oral transgastric splenectomy was technically feasible in a porcine model. further studies are necessary to determine the safety and efficacy of this procedure in]                              |\n",
      "|[Does histologic chorioamnionitis correspond to clinical chorioamnionitis?]|[histologic chorioamnionitis is significantly associated with indicators of maternal infection. histologic chorioamnionitis may be a useful adjunct to clinical indicators in the diagnosis of maternal]|\n",
      "|[Is there an optimal time of acid suppression for maximal healing?]        |[in patients with reflux oesophagitis, maximal healing rates are obtained when intragastric pH is achieved for approximately 50 - 70 % ( 12 - 17 h )]                                                   |\n",
      "+---------------------------------------------------------------------------+--------------------------------------------------------------------------------------------------------------------------------------------------------------------------------------------------------+"
     ]
    }
   ],
   "source": [
    "model.transform(data)\\\n",
    "  .selectExpr(\"document_question.result as Question\", \"answer.result as Long_Answer\")\\\n",
    "  .show(truncate=False)"
   ]
  },
  {
   "cell_type": "markdown",
   "metadata": {
    "id": "GkZQyrhEzXxO"
   },
   "source": [
    "**LightPipelines**"
   ]
  },
  {
   "cell_type": "code",
   "execution_count": 14,
   "metadata": {
    "colab": {
     "base_uri": "https://localhost:8080/"
    },
    "execution": {
     "iopub.execute_input": "2023-09-01T16:54:58.107096Z",
     "iopub.status.busy": "2023-09-01T16:54:58.106863Z",
     "iopub.status.idle": "2023-09-01T16:55:05.407365Z",
     "shell.execute_reply": "2023-09-01T16:55:05.406654Z",
     "shell.execute_reply.started": "2023-09-01T16:54:58.107065Z"
    },
    "id": "5jQrB4dmzYI4",
    "outputId": "bc68c373-2549-4d57-8d73-04086e79c57b"
   },
   "outputs": [
    {
     "data": {
      "application/vnd.jupyter.widget-view+json": {
       "model_id": "71fa2a6d544b49b5bfb598172ce6e0ea",
       "version_major": 2,
       "version_minor": 0
      },
      "text/plain": [
       "VBox()"
      ]
     },
     "metadata": {},
     "output_type": "display_data"
    },
    {
     "data": {
      "application/vnd.jupyter.widget-view+json": {
       "model_id": "",
       "version_major": 2,
       "version_minor": 0
      },
      "text/plain": [
       "FloatProgress(value=0.0, bar_style='info', description='Progress:', layout=Layout(height='25px', width='50%'),…"
      ]
     },
     "metadata": {},
     "output_type": "display_data"
    },
    {
     "name": "stdout",
     "output_type": "stream",
     "text": [
      "[{'document_question': ['Transgastric endoscopic splenectomy: is it possible?'], 'document_context': ['We have previously reported the feasibility of diagnostic and therapeutic peritoneoscopy including liver biopsy, gastrojejunostomy, and tubal ligation by an oral transgastric approach. We present results of per-oral transgastric splenectomy in a porcine model. The goal of this study was to determine the technical feasibility of per-oral transgastric splenectomy using a flexible endoscope. We performed acute experiments on 50-kg pigs. All animals were fed liquids for 3 days prior to procedure. The procedures were performed under general anesthesia with endotracheal intubation. The flexible endoscope was passed per orally into the stomach and puncture of the gastric wall was performed with a needle knife. The puncture was extended to create a 1.5-cm incision using a pull-type sphincterotome, and a double-channel endoscope was advanced into the peritoneal cavity. The peritoneal cavity was insufflated with air through the endoscope. The spleen was visualized. The splenic vessels were ligated with endoscopic loops and clips, and then mesentery was dissected using electrocautery. Endoscopic splenectomy was performed on six pigs. There were no complications during gastric incision and entrance into the peritoneal cavity. Visualization of the spleen and other intraperitoneal organs was very good. Ligation of the splenic vessels and mobilization of the spleen were achieved using commercially available devices and endoscopic accessories.'], 'answer': ['per - oral transgastric splenectomy was technically feasible in a porcine model. further studies are necessary to determine the safety and efficacy of this procedure in']}]"
     ]
    }
   ],
   "source": [
    "context =\"We have previously reported the feasibility of diagnostic and therapeutic peritoneoscopy including liver biopsy, gastrojejunostomy, and tubal ligation by an oral transgastric approach. We present results of per-oral transgastric splenectomy in a porcine model. The goal of this study was to determine the technical feasibility of per-oral transgastric splenectomy using a flexible endoscope. We performed acute experiments on 50-kg pigs. All animals were fed liquids for 3 days prior to procedure. The procedures were performed under general anesthesia with endotracheal intubation. The flexible endoscope was passed per orally into the stomach and puncture of the gastric wall was performed with a needle knife. The puncture was extended to create a 1.5-cm incision using a pull-type sphincterotome, and a double-channel endoscope was advanced into the peritoneal cavity. The peritoneal cavity was insufflated with air through the endoscope. The spleen was visualized. The splenic vessels were ligated with endoscopic loops and clips, and then mesentery was dissected using electrocautery. Endoscopic splenectomy was performed on six pigs. There were no complications during gastric incision and entrance into the peritoneal cavity. Visualization of the spleen and other intraperitoneal organs was very good. Ligation of the splenic vessels and mobilization of the spleen were achieved using commercially available devices and endoscopic accessories.\"\n",
    "question = \"Transgastric endoscopic splenectomy: is it possible?\"\n",
    "\n",
    "light_model = LightPipeline(model)\n",
    "\n",
    "light_result = light_model.annotate([question],[context])\n",
    "\n",
    "light_result"
   ]
  },
  {
   "cell_type": "code",
   "execution_count": 15,
   "metadata": {
    "colab": {
     "base_uri": "https://localhost:8080/"
    },
    "execution": {
     "iopub.execute_input": "2023-09-01T16:55:05.408886Z",
     "iopub.status.busy": "2023-09-01T16:55:05.408664Z",
     "iopub.status.idle": "2023-09-01T16:55:05.464837Z",
     "shell.execute_reply": "2023-09-01T16:55:05.464081Z",
     "shell.execute_reply.started": "2023-09-01T16:55:05.408855Z"
    },
    "id": "4gAvcFCvzlcV",
    "outputId": "08e6c821-9f05-40e4-cf2a-7d045f23be21"
   },
   "outputs": [
    {
     "data": {
      "application/vnd.jupyter.widget-view+json": {
       "model_id": "6e1ae2f8ac5043d591d38d1ae7bc178c",
       "version_major": 2,
       "version_minor": 0
      },
      "text/plain": [
       "VBox()"
      ]
     },
     "metadata": {},
     "output_type": "display_data"
    },
    {
     "data": {
      "application/vnd.jupyter.widget-view+json": {
       "model_id": "",
       "version_major": 2,
       "version_minor": 0
      },
      "text/plain": [
       "FloatProgress(value=0.0, bar_style='info', description='Progress:', layout=Layout(height='25px', width='50%'),…"
      ]
     },
     "metadata": {},
     "output_type": "display_data"
    },
    {
     "name": "stdout",
     "output_type": "stream",
     "text": [
      "['per - oral transgastric splenectomy was technically feasible in a porcine model. further studies are necessary to determine the safety and efficacy of this procedure in']"
     ]
    }
   ],
   "source": [
    "light_result[0][\"answer\"]"
   ]
  },
  {
   "cell_type": "markdown",
   "metadata": {
    "id": "hmC41bkfy-Fq"
   },
   "source": [
    "## [flan_t5_base_jsl_qa](https://nlp.johnsnowlabs.com/2023/05/15/flan_t5_base_jsl_qa_en.html)\n",
    "\n",
    "The flan_t5_base_jsl_qa model is designed to work seamlessly with the MedicalQuestionAnswering annotator. This model provides a powerful and efficient solution for accurately answering medical questions and delivering insightful information in the medical domain."
   ]
  },
  {
   "cell_type": "code",
   "execution_count": 16,
   "metadata": {
    "colab": {
     "base_uri": "https://localhost:8080/"
    },
    "execution": {
     "iopub.execute_input": "2023-09-01T16:55:25.151631Z",
     "iopub.status.busy": "2023-09-01T16:55:25.151355Z",
     "iopub.status.idle": "2023-09-01T16:57:24.819229Z",
     "shell.execute_reply": "2023-09-01T16:57:24.818357Z",
     "shell.execute_reply.started": "2023-09-01T16:55:25.151598Z"
    },
    "id": "e38fnfDJy-Fr",
    "outputId": "29860404-0e36-4457-8f8e-22c16caa1cf8"
   },
   "outputs": [
    {
     "data": {
      "application/vnd.jupyter.widget-view+json": {
       "model_id": "aca02a65c9284cb0a31b07d9f112e988",
       "version_major": 2,
       "version_minor": 0
      },
      "text/plain": [
       "VBox()"
      ]
     },
     "metadata": {},
     "output_type": "display_data"
    },
    {
     "data": {
      "application/vnd.jupyter.widget-view+json": {
       "model_id": "",
       "version_major": 2,
       "version_minor": 0
      },
      "text/plain": [
       "FloatProgress(value=0.0, bar_style='info', description='Progress:', layout=Layout(height='25px', width='50%'),…"
      ]
     },
     "metadata": {},
     "output_type": "display_data"
    },
    {
     "name": "stdout",
     "output_type": "stream",
     "text": [
      "flan_t5_base_jsl_qa download started this may take some time.\n",
      "[OK!]"
     ]
    }
   ],
   "source": [
    "document_assembler = MultiDocumentAssembler()\\\n",
    "    .setInputCols(\"question\", \"context\")\\\n",
    "    .setOutputCols(\"document_question\", \"document_context\")\n",
    "\n",
    "med_qa = MedicalQuestionAnswering.pretrained(\"flan_t5_base_jsl_qa\",\"en\",\"clinical/models\")\\\n",
    "    .setInputCols([\"document_question\", \"document_context\"])\\\n",
    "    .setCustomPrompt(\"Question: {QUESTION}. Context: {DOCUMENT} \")\\\n",
    "    .setMaxNewTokens(70)\\\n",
    "    .setTopK(1)\\\n",
    "    .setOutputCol(\"answer\")\\\n",
    "    .setQuestionType(\"short\")\n",
    "\n",
    "pipeline = Pipeline(stages=[document_assembler, med_qa])\n",
    "\n",
    "empty_data = spark.createDataFrame([[\"\",\"\"]]).toDF(\"question\", \"context\")\n",
    "\n",
    "model = pipeline.fit(empty_data)"
   ]
  },
  {
   "cell_type": "markdown",
   "metadata": {
    "id": "VEgslnmTy-Fs"
   },
   "source": [
    "**LightPipelines**"
   ]
  },
  {
   "cell_type": "code",
   "execution_count": 17,
   "metadata": {
    "colab": {
     "base_uri": "https://localhost:8080/"
    },
    "execution": {
     "iopub.execute_input": "2023-09-01T16:57:24.820724Z",
     "iopub.status.busy": "2023-09-01T16:57:24.820496Z",
     "iopub.status.idle": "2023-09-01T16:57:32.142035Z",
     "shell.execute_reply": "2023-09-01T16:57:32.141323Z",
     "shell.execute_reply.started": "2023-09-01T16:57:24.820694Z"
    },
    "id": "Uk9rZE8Ky-Fs",
    "outputId": "f6f67d5f-11b6-4ff0-b4b6-bba969f0bb24"
   },
   "outputs": [
    {
     "data": {
      "application/vnd.jupyter.widget-view+json": {
       "model_id": "a2decfcd69bd46bcbad1a38ed0caf2df",
       "version_major": 2,
       "version_minor": 0
      },
      "text/plain": [
       "VBox()"
      ]
     },
     "metadata": {},
     "output_type": "display_data"
    },
    {
     "data": {
      "application/vnd.jupyter.widget-view+json": {
       "model_id": "",
       "version_major": 2,
       "version_minor": 0
      },
      "text/plain": [
       "FloatProgress(value=0.0, bar_style='info', description='Progress:', layout=Layout(height='25px', width='50%'),…"
      ]
     },
     "metadata": {},
     "output_type": "display_data"
    },
    {
     "name": "stdout",
     "output_type": "stream",
     "text": [
      "[{'document_question': ['How is transgastric endoscopic performed?'], 'document_context': ['We have previously reported the feasibility of diagnostic and therapeutic peritoneoscopy including liver biopsy, gastrojejunostomy, and tubal ligation by an oral transgastric approach. We present results of per-oral transgastric splenectomy in a porcine model. The goal of this study was to determine the technical feasibility of per-oral transgastric splenectomy using a flexible endoscope. We performed acute experiments on 50-kg pigs. All animals were fed liquids for 3 days prior to procedure. The procedures were performed under general anesthesia with endotracheal intubation. The flexible endoscope was passed per orally into the stomach and puncture of the gastric wall was performed with a needle knife. The puncture was extended to create a 1.5-cm incision using a pull-type sphincterotome, and a double-channel endoscope was advanced into the peritoneal cavity. The peritoneal cavity was insufflated with air through the endoscope. The spleen was visualized. The splenic vessels were ligated with endoscopic loops and clips, and then mesentery was dissected using electrocautery. Endoscopic splenectomy was performed on six pigs. There were no complications during gastric incision and entrance into the peritoneal cavity. Visualization of the spleen and other intraperitoneal organs was very good. Ligation of the splenic vessels and mobilization of the spleen were achieved using commercially available devices and endoscopic accessories.'], 'answer': ['Transgastric endoscopic surgery is a type of surgery that involves removing the obstructions from the heart and lungs. It involves removing the trachea, a small artery, and a small sphincter. The trachea is then removed and the sphincter is removed.']}]"
     ]
    }
   ],
   "source": [
    "context =\"We have previously reported the feasibility of diagnostic and therapeutic peritoneoscopy including liver biopsy, gastrojejunostomy, and tubal ligation by an oral transgastric approach. We present results of per-oral transgastric splenectomy in a porcine model. The goal of this study was to determine the technical feasibility of per-oral transgastric splenectomy using a flexible endoscope. We performed acute experiments on 50-kg pigs. All animals were fed liquids for 3 days prior to procedure. The procedures were performed under general anesthesia with endotracheal intubation. The flexible endoscope was passed per orally into the stomach and puncture of the gastric wall was performed with a needle knife. The puncture was extended to create a 1.5-cm incision using a pull-type sphincterotome, and a double-channel endoscope was advanced into the peritoneal cavity. The peritoneal cavity was insufflated with air through the endoscope. The spleen was visualized. The splenic vessels were ligated with endoscopic loops and clips, and then mesentery was dissected using electrocautery. Endoscopic splenectomy was performed on six pigs. There were no complications during gastric incision and entrance into the peritoneal cavity. Visualization of the spleen and other intraperitoneal organs was very good. Ligation of the splenic vessels and mobilization of the spleen were achieved using commercially available devices and endoscopic accessories.\"\n",
    "question = \"How is transgastric endoscopic performed?\"\n",
    "\n",
    "light_model = LightPipeline(model)\n",
    "\n",
    "light_result = light_model.annotate([question],[context])\n",
    "\n",
    "light_result"
   ]
  },
  {
   "cell_type": "markdown",
   "metadata": {
    "id": "NkL_KmCRlXm8"
   },
   "source": [
    "## clinical_notes_qa_base"
   ]
  },
  {
   "cell_type": "code",
   "execution_count": 18,
   "metadata": {
    "colab": {
     "base_uri": "https://localhost:8080/"
    },
    "execution": {
     "iopub.execute_input": "2023-09-01T16:57:32.143763Z",
     "iopub.status.busy": "2023-09-01T16:57:32.143550Z",
     "iopub.status.idle": "2023-09-01T16:59:01.257376Z",
     "shell.execute_reply": "2023-09-01T16:59:01.256633Z",
     "shell.execute_reply.started": "2023-09-01T16:57:32.143733Z"
    },
    "id": "w_CuvEZ_lYgz",
    "outputId": "bda1c83a-affd-4982-9a0d-9ccf4317d67c"
   },
   "outputs": [
    {
     "data": {
      "application/vnd.jupyter.widget-view+json": {
       "model_id": "57248502a95149abaf287c2a6e7cfbec",
       "version_major": 2,
       "version_minor": 0
      },
      "text/plain": [
       "VBox()"
      ]
     },
     "metadata": {},
     "output_type": "display_data"
    },
    {
     "data": {
      "application/vnd.jupyter.widget-view+json": {
       "model_id": "",
       "version_major": 2,
       "version_minor": 0
      },
      "text/plain": [
       "FloatProgress(value=0.0, bar_style='info', description='Progress:', layout=Layout(height='25px', width='50%'),…"
      ]
     },
     "metadata": {},
     "output_type": "display_data"
    },
    {
     "name": "stdout",
     "output_type": "stream",
     "text": [
      "clinical_notes_qa_base download started this may take some time.\n",
      "[OK!]"
     ]
    }
   ],
   "source": [
    "document_assembler = MultiDocumentAssembler()\\\n",
    "    .setInputCols(\"question\", \"context\")\\\n",
    "    .setOutputCols(\"document_question\", \"document_context\")\n",
    "\n",
    "med_qa  = sparknlp_jsl.annotators.MedicalQuestionAnswering()\\\n",
    "    .pretrained(\"clinical_notes_qa_base\", \"en\", \"clinical/models\")\\\n",
    "    .setInputCols([\"document_question\", \"document_context\"])\\\n",
    "    .setCustomPrompt(\"Context: {context} \\n Question: {question} \\n Answer: \")\\\n",
    "    .setOutputCol(\"answer\")\\\n",
    "\n",
    "pipeline = Pipeline(stages=[document_assembler, med_qa])\n",
    "\n",
    "note_text = \"I am asked to see the patient today with ongoing issues around her diabetic control. We have been fairly aggressively, downwardly adjusting her insulins, both the Lantus insulin, which we had been giving at night as well as her sliding scale Humalog insulin prior to meals. Despite frequent decreases in her insulin regimen, she continues to have somewhat low blood glucoses, most notably in the morning when the glucoses have been in the 70s despite decreasing her Lantus insulin from around 84 units down to 60 units, which is a considerable change. What I cannot explain is why her glucoses have not really climbed at all despite the decrease in insulin. The staff reports to me that her appetite is good and that she is eating as well as ever. I talked to Anna today. She feels a little fatigued. Otherwise, she is doing well.\"\n",
    "\n",
    "question = \"How much has the Lantus insulin dosage been reduced?\"\n",
    "\n",
    "empty_data = spark.createDataFrame([[\"\"]]).toDF(\"text\")\n",
    "\n",
    "model = pipeline.fit(empty_data)\n",
    "\n",
    "data = spark.createDataFrame([[question, note_text]]).toDF(\"question\", \"context\")\n",
    "\n",
    "result = model.transform(data)"
   ]
  },
  {
   "cell_type": "code",
   "execution_count": 19,
   "metadata": {
    "colab": {
     "base_uri": "https://localhost:8080/"
    },
    "execution": {
     "iopub.execute_input": "2023-09-01T16:59:01.258875Z",
     "iopub.status.busy": "2023-09-01T16:59:01.258659Z",
     "iopub.status.idle": "2023-09-01T16:59:32.652698Z",
     "shell.execute_reply": "2023-09-01T16:59:32.651944Z",
     "shell.execute_reply.started": "2023-09-01T16:59:01.258845Z"
    },
    "id": "AiBeLrIoldUd",
    "outputId": "c539a21d-4eb3-47dc-9694-f77eda83c265"
   },
   "outputs": [
    {
     "data": {
      "application/vnd.jupyter.widget-view+json": {
       "model_id": "b921d0ce67b04f739bded43998adc7f6",
       "version_major": 2,
       "version_minor": 0
      },
      "text/plain": [
       "VBox()"
      ]
     },
     "metadata": {},
     "output_type": "display_data"
    },
    {
     "data": {
      "application/vnd.jupyter.widget-view+json": {
       "model_id": "",
       "version_major": 2,
       "version_minor": 0
      },
      "text/plain": [
       "FloatProgress(value=0.0, bar_style='info', description='Progress:', layout=Layout(height='25px', width='50%'),…"
      ]
     },
     "metadata": {},
     "output_type": "display_data"
    },
    {
     "name": "stdout",
     "output_type": "stream",
     "text": [
      "+------------------------------------------------------+-----------------------------------------------------------------------------------+\n",
      "|Question                                              |Answer                                                                             |\n",
      "+------------------------------------------------------+-----------------------------------------------------------------------------------+\n",
      "|[How much has the Lantus insulin dosage been reduced?]|[The Lantus insulin dosage has been reduced from around 84 units down to 60 units.]|\n",
      "+------------------------------------------------------+-----------------------------------------------------------------------------------+"
     ]
    }
   ],
   "source": [
    "result.selectExpr(\"document_question.result as Question\", \"answer.result as Answer\")\\\n",
    "  .show(truncate=False)"
   ]
  },
  {
   "cell_type": "code",
   "execution_count": 20,
   "metadata": {
    "colab": {
     "base_uri": "https://localhost:8080/"
    },
    "execution": {
     "iopub.execute_input": "2023-09-01T16:59:32.653886Z",
     "iopub.status.busy": "2023-09-01T16:59:32.653675Z",
     "iopub.status.idle": "2023-09-01T16:59:34.933230Z",
     "shell.execute_reply": "2023-09-01T16:59:34.932523Z",
     "shell.execute_reply.started": "2023-09-01T16:59:32.653858Z"
    },
    "id": "KrzPgNYWlfR0",
    "outputId": "e5d1a142-7a41-4762-b15d-7e52aaaf1500"
   },
   "outputs": [
    {
     "data": {
      "application/vnd.jupyter.widget-view+json": {
       "model_id": "0ca9bc8016ce40c6b39d7c6d42ed0e4b",
       "version_major": 2,
       "version_minor": 0
      },
      "text/plain": [
       "VBox()"
      ]
     },
     "metadata": {},
     "output_type": "display_data"
    },
    {
     "data": {
      "application/vnd.jupyter.widget-view+json": {
       "model_id": "",
       "version_major": 2,
       "version_minor": 0
      },
      "text/plain": [
       "FloatProgress(value=0.0, bar_style='info', description='Progress:', layout=Layout(height='25px', width='50%'),…"
      ]
     },
     "metadata": {},
     "output_type": "display_data"
    },
    {
     "name": "stdout",
     "output_type": "stream",
     "text": [
      "[{'document_question': ['How much has the Lantus insulin dosage been reduced?'], 'document_context': ['I am asked to see the patient today with ongoing issues around her diabetic control. We have been fairly aggressively, downwardly adjusting her insulins, both the Lantus insulin, which we had been giving at night as well as her sliding scale Humalog insulin prior to meals. Despite frequent decreases in her insulin regimen, she continues to have somewhat low blood glucoses, most notably in the morning when the glucoses have been in the 70s despite decreasing her Lantus insulin from around 84 units down to 60 units, which is a considerable change. What I cannot explain is why her glucoses have not really climbed at all despite the decrease in insulin. The staff reports to me that her appetite is good and that she is eating as well as ever. I talked to Anna today. She feels a little fatigued. Otherwise, she is doing well.'], 'answer': ['The Lantus insulin dosage has been reduced from around 84 units down to 60 units.']}]"
     ]
    }
   ],
   "source": [
    "context =\"I am asked to see the patient today with ongoing issues around her diabetic control. We have been fairly aggressively, downwardly adjusting her insulins, both the Lantus insulin, which we had been giving at night as well as her sliding scale Humalog insulin prior to meals. Despite frequent decreases in her insulin regimen, she continues to have somewhat low blood glucoses, most notably in the morning when the glucoses have been in the 70s despite decreasing her Lantus insulin from around 84 units down to 60 units, which is a considerable change. What I cannot explain is why her glucoses have not really climbed at all despite the decrease in insulin. The staff reports to me that her appetite is good and that she is eating as well as ever. I talked to Anna today. She feels a little fatigued. Otherwise, she is doing well.\"\n",
    "question = \"How much has the Lantus insulin dosage been reduced?\"\n",
    "\n",
    "light_model = LightPipeline(model)\n",
    "\n",
    "light_result = light_model.annotate([question],[context])\n",
    "\n",
    "light_result"
   ]
  },
  {
   "cell_type": "markdown",
   "metadata": {
    "id": "H7019sfllNG1"
   },
   "source": [
    "## clinical_notes_qa_large"
   ]
  },
  {
   "cell_type": "code",
   "execution_count": 21,
   "metadata": {
    "colab": {
     "base_uri": "https://localhost:8080/"
    },
    "execution": {
     "iopub.execute_input": "2023-09-01T16:59:34.934444Z",
     "iopub.status.busy": "2023-09-01T16:59:34.934224Z",
     "iopub.status.idle": "2023-09-01T17:03:11.624159Z",
     "shell.execute_reply": "2023-09-01T17:03:11.623423Z",
     "shell.execute_reply.started": "2023-09-01T16:59:34.934414Z"
    },
    "id": "qnGLbYkGlMHJ",
    "outputId": "25356253-6ff6-490d-e83d-f072ed55bb4f",
    "tags": []
   },
   "outputs": [
    {
     "data": {
      "application/vnd.jupyter.widget-view+json": {
       "model_id": "4729cf9033184b88b4c9d6b52632e5ec",
       "version_major": 2,
       "version_minor": 0
      },
      "text/plain": [
       "VBox()"
      ]
     },
     "metadata": {},
     "output_type": "display_data"
    },
    {
     "data": {
      "application/vnd.jupyter.widget-view+json": {
       "model_id": "",
       "version_major": 2,
       "version_minor": 0
      },
      "text/plain": [
       "FloatProgress(value=0.0, bar_style='info', description='Progress:', layout=Layout(height='25px', width='50%'),…"
      ]
     },
     "metadata": {},
     "output_type": "display_data"
    },
    {
     "name": "stdout",
     "output_type": "stream",
     "text": [
      "clinical_notes_qa_large download started this may take some time.\n",
      "[OK!]"
     ]
    }
   ],
   "source": [
    "document_assembler = MultiDocumentAssembler()\\\n",
    "    .setInputCols(\"question\", \"context\")\\\n",
    "    .setOutputCols(\"document_question\", \"document_context\")\n",
    "\n",
    "med_qa  = sparknlp_jsl.annotators.MedicalQuestionAnswering()\\\n",
    "    .pretrained(\"clinical_notes_qa_large\", \"en\", \"clinical/models\")\\\n",
    "    .setInputCols([\"document_question\", \"document_context\"])\\\n",
    "    .setCustomPrompt(\"Context: {context} \\n Question: {question} \\n Answer: \")\\\n",
    "    .setOutputCol(\"answer\")\\\n",
    "\n",
    "pipeline = Pipeline(stages=[document_assembler, med_qa])\n",
    "\n",
    "note_text = \"his is a 14-month-old with history of chronic recurrent episodes of otitis media, totalling 6 bouts, requiring antibiotics since birth. There is also associated chronic nasal congestion. There had been no bouts of spontaneous tympanic membrane perforation, but there had been elevations of temperature up to 102 during the acute infection. He is being admitted at this time for myringotomy and tube insertion under general facemask anesthesia.\"\n",
    "\n",
    "question = \"How many bouts of otitis media has the patient experienced?\"\n",
    "\n",
    "empty_data = spark.createDataFrame([[\"\"]]).toDF(\"text\")\n",
    "\n",
    "model = pipeline.fit(empty_data)\n",
    "\n",
    "data = spark.createDataFrame([[question, note_text]]).toDF(\"question\", \"context\")\n",
    "\n",
    "result = model.transform(data)"
   ]
  },
  {
   "cell_type": "code",
   "execution_count": 22,
   "metadata": {
    "colab": {
     "base_uri": "https://localhost:8080/"
    },
    "execution": {
     "iopub.execute_input": "2023-09-01T17:03:11.625318Z",
     "iopub.status.busy": "2023-09-01T17:03:11.625108Z",
     "iopub.status.idle": "2023-09-01T17:04:21.103900Z",
     "shell.execute_reply": "2023-09-01T17:04:21.103204Z",
     "shell.execute_reply.started": "2023-09-01T17:03:11.625288Z"
    },
    "id": "6G5Kjv5PlS64",
    "outputId": "bc1e6839-a6bd-4b4b-d0f9-c2eb348e00b7"
   },
   "outputs": [
    {
     "data": {
      "application/vnd.jupyter.widget-view+json": {
       "model_id": "688eab1fb9b546cca4c51e79e5643ad8",
       "version_major": 2,
       "version_minor": 0
      },
      "text/plain": [
       "VBox()"
      ]
     },
     "metadata": {},
     "output_type": "display_data"
    },
    {
     "data": {
      "application/vnd.jupyter.widget-view+json": {
       "model_id": "",
       "version_major": 2,
       "version_minor": 0
      },
      "text/plain": [
       "FloatProgress(value=0.0, bar_style='info', description='Progress:', layout=Layout(height='25px', width='50%'),…"
      ]
     },
     "metadata": {},
     "output_type": "display_data"
    },
    {
     "name": "stdout",
     "output_type": "stream",
     "text": [
      "+-------------------------------------------------------------+------------------------------------------------------+\n",
      "|Question                                                     |Answer                                                |\n",
      "+-------------------------------------------------------------+------------------------------------------------------+\n",
      "|[How many bouts of otitis media has the patient experienced?]|[The patient has experienced 6 bouts of otitis media.]|\n",
      "+-------------------------------------------------------------+------------------------------------------------------+"
     ]
    }
   ],
   "source": [
    "result.selectExpr(\"document_question.result as Question\", \"answer.result as Answer\")\\\n",
    "  .show(truncate=False)"
   ]
  },
  {
   "cell_type": "code",
   "execution_count": 23,
   "metadata": {
    "colab": {
     "base_uri": "https://localhost:8080/"
    },
    "execution": {
     "iopub.execute_input": "2023-09-01T17:04:21.105738Z",
     "iopub.status.busy": "2023-09-01T17:04:21.105519Z",
     "iopub.status.idle": "2023-09-01T17:04:24.387918Z",
     "shell.execute_reply": "2023-09-01T17:04:24.387212Z",
     "shell.execute_reply.started": "2023-09-01T17:04:21.105708Z"
    },
    "id": "Z3j66HXVlU39",
    "outputId": "f2c14d06-43d8-4f67-d3aa-cfa9c34a327b"
   },
   "outputs": [
    {
     "data": {
      "application/vnd.jupyter.widget-view+json": {
       "model_id": "f6a267e9341e43e9a0e3042eb2d83a3f",
       "version_major": 2,
       "version_minor": 0
      },
      "text/plain": [
       "VBox()"
      ]
     },
     "metadata": {},
     "output_type": "display_data"
    },
    {
     "data": {
      "application/vnd.jupyter.widget-view+json": {
       "model_id": "",
       "version_major": 2,
       "version_minor": 0
      },
      "text/plain": [
       "FloatProgress(value=0.0, bar_style='info', description='Progress:', layout=Layout(height='25px', width='50%'),…"
      ]
     },
     "metadata": {},
     "output_type": "display_data"
    },
    {
     "name": "stdout",
     "output_type": "stream",
     "text": [
      "[{'document_question': ['How many bouts of otitis media has the patient experienced?'], 'document_context': ['his is a 14-month-old with history of chronic recurrent episodes of otitis media, totalling 6 bouts, requiring antibiotics since birth. There is also associated chronic nasal congestion. There had been no bouts of spontaneous tympanic membrane perforation, but there had been elevations of temperature up to 102 during the acute infection. He is being admitted at this time for myringotomy and tube insertion under general facemask anesthesia.'], 'answer': ['The patient has experienced 6 bouts of otitis media.']}]"
     ]
    }
   ],
   "source": [
    "context =\"his is a 14-month-old with history of chronic recurrent episodes of otitis media, totalling 6 bouts, requiring antibiotics since birth. There is also associated chronic nasal congestion. There had been no bouts of spontaneous tympanic membrane perforation, but there had been elevations of temperature up to 102 during the acute infection. He is being admitted at this time for myringotomy and tube insertion under general facemask anesthesia.\"\n",
    "question = \"How many bouts of otitis media has the patient experienced?\"\n",
    "\n",
    "light_model = LightPipeline(model)\n",
    "\n",
    "light_result = light_model.annotate([question],[context])\n",
    "\n",
    "light_result"
   ]
  }
 ],
 "metadata": {
  "colab": {
   "gpuType": "V100",
   "machine_shape": "hm",
   "provenance": []
  },
  "gpuClass": "standard",
  "kernelspec": {
   "display_name": "Glue PySpark",
   "language": "python",
   "name": "glue_pyspark"
  },
  "language_info": {
   "codemirror_mode": {
    "name": "python",
    "version": 3
   },
   "file_extension": ".py",
   "mimetype": "text/x-python",
   "name": "Python_Glue_Session",
   "pygments_lexer": "python3"
  }
 },
 "nbformat": 4,
 "nbformat_minor": 4
}

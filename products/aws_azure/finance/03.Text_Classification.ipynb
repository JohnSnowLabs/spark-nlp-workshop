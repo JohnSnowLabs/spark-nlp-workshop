{
 "cells": [
  {
   "cell_type": "markdown",
   "id": "bSfYR8l2Hwzf",
   "metadata": {
    "id": "bSfYR8l2Hwzf"
   },
   "source": [
    "\n",
    "![JohnSnowLabs](https://nlp.johnsnowlabs.com/assets/images/logo.png)\n",
    "\n",
    "\n",
    "\n"
   ]
  },
  {
   "cell_type": "markdown",
   "id": "ddceb91f",
   "metadata": {
    "id": "ddceb91f"
   },
   "source": [
    "# Financial Text Classification"
   ]
  },
  {
   "cell_type": "markdown",
   "id": "85cc2216-7d38-4c33-850c-a2445e876146",
   "metadata": {
    "id": "okhT7AcXxben"
   },
   "source": [
    "## Setup"
   ]
  },
  {
   "cell_type": "code",
   "execution_count": null,
   "id": "5da5417c-87f2-45d5-9ef3-6e5f38afe202",
   "metadata": {
    "colab": {
     "base_uri": "https://localhost:8080/"
    },
    "executionInfo": {
     "elapsed": 115199,
     "status": "ok",
     "timestamp": 1664816113389,
     "user": {
      "displayName": "Damla",
      "userId": "03285166568766987047"
     },
     "user_tz": -120
    },
    "id": "dmcB5zVBHZO8",
    "outputId": "cd366e47-7f4d-457a-dfe5-3ed5174d4a0c"
   },
   "outputs": [],
   "source": [
    "from johnsnowlabs import *\n",
    "\n",
    "import json\n",
    "import os\n",
    "\n",
    "import numpy as np\n",
    "import pandas as pd\n",
    "\n",
    "spark = start_spark()"
   ]
  },
  {
   "cell_type": "markdown",
   "id": "74b31459-0f72-47f1-90f1-1e4941c0e269",
   "metadata": {
    "id": "74b31459-0f72-47f1-90f1-1e4941c0e269"
   },
   "source": [
    "## Get Multiclass Prediction from Financial Texts"
   ]
  },
  {
   "cell_type": "markdown",
   "id": "4ea584cc-a9d2-4016-99fe-b2f1014da878",
   "metadata": {
    "id": "4ea584cc-a9d2-4016-99fe-b2f1014da878"
   },
   "source": [
    "The classification models were trained on financial texts, one of them is the **generic model** that classifies the financial texts into three categories as followings:\n",
    " - Environmental\n",
    " - Social \n",
    " - Governance \n",
    " \n",
    "Another model is the **augmented model** classifies the same text into more specific categories as followings:\n",
    " - Business_Ethics\n",
    " - Data_Security\n",
    " - Access_And_Affordability \n",
    " - Business_Model_Resilience\n",
    " - Competitive_Behavior\n",
    " - Critical_Incident_Risk_Management\n",
    " - Customer_Welfare\n",
    " - Director_Removal\n",
    " - Employee_Engagement_Inclusion_And_Diversity\n",
    " - Employee_Health_And_Safety\n",
    " - Human_Rights_And_Community_Relations\n",
    " - Labor_Practices\n",
    " - Management_Of_Legal_And_Regulatory_Framework\n",
    " - Physical_Impacts_Of_Climate_Change\n",
    " - Product_Quality_And_Safety\n",
    " - Product_Design_And_Lifecycle_Management\n",
    " - Selling_Practices_And_Product_Labeling\n",
    " - Supply_Chain_Management\n",
    " - Systemic_Risk_Management\n",
    " - Waste_And_Hazardous_Materials_Management\n",
    " - Water_And_Wastewater_Management\n",
    " - Air_Quality\n",
    " - Customer_Privacy\n",
    " - Ecological_Impacts\n",
    " - Energy_Management\n",
    " - GHG_Emissions"
   ]
  },
  {
   "cell_type": "markdown",
   "id": "549ec248-324a-4825-87db-ccff98c236f1",
   "metadata": {
    "id": "549ec248-324a-4825-87db-ccff98c236f1"
   },
   "source": [
    "### Sample Texts for Binary Classification"
   ]
  },
  {
   "cell_type": "code",
   "execution_count": 2,
   "id": "6d8ef50d-a149-43c2-ab5a-6448c1871e21",
   "metadata": {
    "id": "6d8ef50d-a149-43c2-ab5a-6448c1871e21"
   },
   "outputs": [],
   "source": [
    "sample_texts = [(\"\"\"As part of a settlement with Energy Management, the company agreed to provide Energy Management employees with back-up power and to make sure those power services are provided to customers who want it. The city has been on the hook for $18 million in back-up utility charges since the spill and is trying a new energy delivery strategy: pay for the cost of the backup. In an internal report obtained by WXYZ-TV on Thursday, Energy Management officials were troubled by a decision to leave a gas pipeline running under a bus stop in Midlothian and instead deliver gas to a company called Energy Solutions. There are more than 8,000 residents who depend on this pipeline. On Wednesday, U.S. Sen. David Perdue, R-Ga., called on the EPA to conduct an investigation into why the company chose not to test the gas pipeline under the bus stop, a decision the company says was made solely to keep the company working. The EPA said Thursday that Energy Management is not responsible for the safety of the workers and equipment who were forced to live with the dangers of fuel. More on WXYZ-TV: Biden says 'lax supervision' created '\"\"\", \"Environmental\", \"Energy_Management\"),\n",
    "                (\"\"\"I received a few emails over the last week from many users in this regard. After a brief pause, several major banks began to respond, and these banks appear to be making progress in addressing some of the concerns. As I continue to explore various potential responses to the report, I have found that some of them are making significant efforts toward addressing the data security concerns mentioned in this article. While these improvements are promising, it is also important to understand just how important these initiatives are for maintaining the company's financial security. The following steps represent changes already being taken by the companies concerned, and they are designed to provide more assurance as a matter of public policy.1. Update the Privacy Policy to state that data is encrypted, regardless of where the encryption system is set up2. Make sure there is no direct connection between data that is gathered and a user's identity, and provide for a link to the person at whose expense it is collected, so that this does not lead someone with malicious intent to access information the law requires to protect the integrity of an account.3. For every transaction that can be attributed to a user: Verify the identity of the person for whom the transaction took place\"\"\", \"Social\", \"Data_Security\"),\n",
    "                (\"\"\"The three former colleagues were \"not involved in the overall decision making process on these initiatives\", according to a letter reported by the Guardian.While Critical Incident Risk Management was an internal focus at Hamilton, Carr and Garcia said they were \"not aware of discussions that took place among senior management within Critical Incident Risk Management\" regarding some of the internal internal risks they raised with superiors.'Not a threat'The three alleged employees said they also raised concerns about concerns regarding their physical safety with managers. In a Facebook thread posted on Sunday and then removed at around 03:30 on Monday, three former colleagues alleged that the four key managers of Hamilton failed to act on the concerns raised at WorkChoices within the next six months by: denying the company the £3.6 million cash bonus awarded between October 2017 and October 2018; denying that there was any financial risk for the company within four weeks of the whistleblower raising the concerns; refusing the whistleblower the severance package awarded in 2018; and failing to offer their resignation papers.In a written statement, CIM said \"[h]e has been consistently and consistently supported by the organisation, by colleagues, by the board\"\"\", \"Governance\", \"Critical_Incident_Risk_Management\"),\n",
    "                (\"\"\"He was appointed as Managing Director of Product Development and Product Quality at the beginning of this year with responsibilities including the management of the company's Product Improvement and Product Development team. Mr. Hays became acting Managing Director in July 2017, and is based in the U.S. at Maven Media, LLC, a major content distribution and management company with more than 200 clients throughout North America. Mr. Hays is expected to fill the position at the company soon, according to company officials. Earlier today, WeWork acquired online service Wufoo, a Web-based company that was recently acquired by Snap. WeWork is a web-based digital personal assistant that has raised several rounds of funding, including a Series A round led by Benchmark Capital, which valued Wufoo at $500M after raising more than $1B from private capital. Wufoo enables people to quickly sign in with their WeWork email, access contacts and search any topic they like from the web by tagging them with keywords. WeWork has said it will continue to fund operations from the Wufoo startup's headquarters in Chicago.\"\"\", \"Social\", \"Product_Design_And_Lifecycle_Management\"),\n",
    "                (\"\"\"For the past six months, I have been working on a series of blog posts exploring a very short (2,125 words) post that discusses whether the company in question can adapt to the changing world and be resilient against the onslaught of new business models. All this and more will be available here on Medium and the website for folks interested in seeing it for themselves - which, as you may have been aware - was just added, but I'm guessing at times it is a condensed outline of what\"\"\", \"Governance\", \"Business_Model_Resilience\"),\n",
    "                (\"\"\"The EPA found problems with several leaks, including the company's failure to respond properly to spills and the water agency's inability to detect groundwater contamination levels above safe limits.The agency took the department to a federal court for its allegations. It awarded a total of $13.8 million in damages and interest to the company, according to The New York Times, citing court documents.The court found that although EDF is a major supplier of power plants to the U.S., it is not an electrical utility and is not governed by the terms and conditions of a new federal water, hazardous waste, pollution and public health law that began on Monday, The Times reported.\"\"\", \"Enviromental\", \"Water_And_Wastewater_Management\")]"
   ]
  },
  {
   "cell_type": "markdown",
   "id": "395c0e8c-4f4a-42ab-876e-705f5761d0c3",
   "metadata": {
    "id": "395c0e8c-4f4a-42ab-876e-705f5761d0c3"
   },
   "source": [
    "### Prediction Pipeline"
   ]
  },
  {
   "cell_type": "code",
   "execution_count": null,
   "id": "81559ab5-8c9c-414b-9536-53f02126f4ac",
   "metadata": {
    "colab": {
     "base_uri": "https://localhost:8080/"
    },
    "executionInfo": {
     "elapsed": 82494,
     "status": "ok",
     "timestamp": 1664819636088,
     "user": {
      "displayName": "Damla",
      "userId": "03285166568766987047"
     },
     "user_tz": -120
    },
    "id": "81559ab5-8c9c-414b-9536-53f02126f4ac",
    "outputId": "52f3765e-9218-4ee2-eab0-5ae737f215c5",
    "tags": []
   },
   "outputs": [],
   "source": [
    "document_assembler = nlp.DocumentAssembler()\\\n",
    "    .setInputCol('text')\\\n",
    "    .setOutputCol('document')\n",
    "\n",
    "tokenizer = nlp.Tokenizer()\\\n",
    "    .setInputCols(['document'])\\\n",
    "    .setOutputCol('token')\n",
    "\n",
    "sequenceClassifier_gen = finance.BertForSequenceClassification.pretrained(\"finclf_esg\", \"en\", \"finance/models\")\\\n",
    "    .setInputCols([\"document\",'token'])\\\n",
    "    .setOutputCol(\"generic_class\")\\\n",
    "    .setCaseSensitive(True)\\\n",
    "    .setMaxSentenceLength(512)\n",
    "\n",
    "sequenceClassifier_aug = finance.BertForSequenceClassification.pretrained(\"finclf_augmented_esg\", \"en\", \"finance/models\")\\\n",
    "    .setInputCols([\"document\",'token'])\\\n",
    "    .setOutputCol(\"augmented_class\")\\\n",
    "    .setCaseSensitive(True)\\\n",
    "    .setMaxSentenceLength(512)\n",
    "\n",
    "pipeline = nlp.Pipeline(stages=[\n",
    "    document_assembler, \n",
    "    tokenizer,\n",
    "    sequenceClassifier_gen,\n",
    "    sequenceClassifier_aug\n",
    "])\n",
    "\n",
    "\n",
    "empty_df = spark.createDataFrame([['']]).toDF(\"text\")\n",
    "\n",
    "model = pipeline.fit(empty_df)"
   ]
  },
  {
   "cell_type": "code",
   "execution_count": 4,
   "id": "26080247-332b-429e-a6f4-d21f08b5a5e7",
   "metadata": {
    "colab": {
     "base_uri": "https://localhost:8080/"
    },
    "executionInfo": {
     "elapsed": 5212,
     "status": "ok",
     "timestamp": 1664819641292,
     "user": {
      "displayName": "Damla",
      "userId": "03285166568766987047"
     },
     "user_tz": -120
    },
    "id": "26080247-332b-429e-a6f4-d21f08b5a5e7",
    "outputId": "b5a75d30-f177-4bd7-fd71-509ac4ee0852"
   },
   "outputs": [
    {
     "name": "stdout",
     "output_type": "stream",
     "text": [
      "+--------------------------------------------------------------------------------+-------------+---------------------------------------+\n",
      "|                                                                            text|    gen_label|                              aug_label|\n",
      "+--------------------------------------------------------------------------------+-------------+---------------------------------------+\n",
      "|As part of a settlement with Energy Management, the company agreed to provide...|Environmental|                      Energy_Management|\n",
      "|I received a few emails over the last week from many users in this regard. Af...|       Social|                          Data_Security|\n",
      "|The three former colleagues were \"not involved in the overall decision making...|   Governance|      Critical_Incident_Risk_Management|\n",
      "|He was appointed as Managing Director of Product Development and Product Qual...|       Social|Product_Design_And_Lifecycle_Management|\n",
      "|For the past six months, I have been working on a series of blog posts explor...|   Governance|              Business_Model_Resilience|\n",
      "|The EPA found problems with several leaks, including the company's failure to...| Enviromental|        Water_And_Wastewater_Management|\n",
      "+--------------------------------------------------------------------------------+-------------+---------------------------------------+\n",
      "\n"
     ]
    }
   ],
   "source": [
    "df = spark.createDataFrame(sample_texts, [\"text\", \"gen_label\", \"aug_label\"])\n",
    "\n",
    "df.show(truncate = 80)"
   ]
  },
  {
   "cell_type": "code",
   "execution_count": null,
   "id": "6a27e7d3-cee5-4182-bf48-7c0faa8d6650",
   "metadata": {
    "id": "6a27e7d3-cee5-4182-bf48-7c0faa8d6650",
    "tags": []
   },
   "outputs": [],
   "source": [
    "result = model.transform(df)"
   ]
  },
  {
   "cell_type": "code",
   "execution_count": 8,
   "id": "7e4b8654-40cf-46a4-bb34-9f8114514c05",
   "metadata": {
    "colab": {
     "base_uri": "https://localhost:8080/"
    },
    "executionInfo": {
     "elapsed": 23096,
     "status": "ok",
     "timestamp": 1664819665956,
     "user": {
      "displayName": "Damla",
      "userId": "03285166568766987047"
     },
     "user_tz": -120
    },
    "id": "7e4b8654-40cf-46a4-bb34-9f8114514c05",
    "outputId": "629bd33b-99de-4dab-ff66-f516e7e1aeb4"
   },
   "outputs": [
    {
     "name": "stderr",
     "output_type": "stream",
     "text": [
      "[Stage 13:===================>                                      (1 + 2) / 3]\r"
     ]
    },
    {
     "name": "stdout",
     "output_type": "stream",
     "text": [
      "+------------------------------------------------------------+-------------+---------------------------------------+-------------+---------------------------------------+\n",
      "|                                                    document|    gen_label|                              aug_label|    gen_class|                              aug_class|\n",
      "+------------------------------------------------------------+-------------+---------------------------------------+-------------+---------------------------------------+\n",
      "|As part of a settlement with Energy Management, the compa...|Environmental|                      Energy_Management|Environmental|                      Energy_Management|\n",
      "|I received a few emails over the last week from many user...|       Social|                          Data_Security|       Social|                          Data_Security|\n",
      "|The three former colleagues were \"not involved in the ove...|   Governance|      Critical_Incident_Risk_Management|   Governance|      Critical_Incident_Risk_Management|\n",
      "|He was appointed as Managing Director of Product Developm...|       Social|Product_Design_And_Lifecycle_Management|       Social|Product_Design_And_Lifecycle_Management|\n",
      "|For the past six months, I have been working on a series ...|   Governance|              Business_Model_Resilience|   Governance|              Business_Model_Resilience|\n",
      "|The EPA found problems with several leaks, including the ...| Enviromental|        Water_And_Wastewater_Management|Environmental|        Water_And_Wastewater_Management|\n",
      "+------------------------------------------------------------+-------------+---------------------------------------+-------------+---------------------------------------+\n",
      "\n"
     ]
    },
    {
     "name": "stderr",
     "output_type": "stream",
     "text": [
      "                                                                                \r"
     ]
    }
   ],
   "source": [
    "import pyspark.sql.functions as F\n",
    "\n",
    "result.select(\"gen_label\", \"aug_label\", F.explode(F.arrays_zip(result.document.result, \n",
    "                                                               result.generic_class.result, \n",
    "                                                               result.augmented_class.result)).alias(\"cols\"))\\\n",
    "      .select(F.expr(\"cols['0']\").alias(\"document\"),\n",
    "              \"gen_label\",\n",
    "              \"aug_label\",\n",
    "              F.expr(\"cols['1']\").alias(\"gen_class\"),\n",
    "              F.expr(\"cols['2']\").alias(\"aug_class\")).show(truncate=60)     "
   ]
  },
  {
   "cell_type": "markdown",
   "id": "86424365-b3b6-43c5-bfcf-72a73741e856",
   "metadata": {
    "id": "86424365-b3b6-43c5-bfcf-72a73741e856"
   },
   "source": [
    "## Get Multilabel Prediction from Financial Texts"
   ]
  },
  {
   "cell_type": "markdown",
   "id": "cad90476-64fb-4f9d-8e57-081349f869a9",
   "metadata": {
    "id": "cad90476-64fb-4f9d-8e57-081349f869a9"
   },
   "source": [
    "This model analyses and provides the best class or classes given financial news texts. The model classifies the financial news into the following categories:\n",
    " - finance              \n",
    " - acq                  \n",
    " - fuel                   \n",
    " - plant                \n",
    " - mineral               \n",
    " - trade                 \n",
    " - livestock             \n",
    " - jobs                   \n",
    " - or any combination of them \n"
   ]
  },
  {
   "cell_type": "markdown",
   "id": "4969a422-4f32-47cc-866e-a6e31844b778",
   "metadata": {
    "id": "4969a422-4f32-47cc-866e-a6e31844b778"
   },
   "source": [
    "### Prediction Pipeline"
   ]
  },
  {
   "cell_type": "code",
   "execution_count": 18,
   "id": "7753e14b-8195-4421-a6aa-741c226e40bf",
   "metadata": {
    "colab": {
     "base_uri": "https://localhost:8080/"
    },
    "executionInfo": {
     "elapsed": 123828,
     "status": "ok",
     "timestamp": 1664819789777,
     "user": {
      "displayName": "Damla",
      "userId": "03285166568766987047"
     },
     "user_tz": -120
    },
    "id": "7753e14b-8195-4421-a6aa-741c226e40bf",
    "outputId": "afbe5b9e-90c8-4ed4-bf7f-3edbfda46626"
   },
   "outputs": [
    {
     "name": "stdout",
     "output_type": "stream",
     "text": [
      "tfhub_use download started this may take some time.\n",
      "Approximate size to download 923.7 MB\n",
      "[OK!]\n",
      "finmulticlf_news download started this may take some time.\n",
      "Approximate size to download 12.3 MB\n",
      "[OK!]\n"
     ]
    }
   ],
   "source": [
    "document_assembler = nlp.DocumentAssembler()\\\n",
    "    .setInputCol(\"text\")\\\n",
    "    .setOutputCol(\"document\")\\\n",
    "    .setCleanupMode(\"shrink\")\n",
    "\n",
    "embeddings = nlp.UniversalSentenceEncoder.pretrained()\\\n",
    "    .setInputCols(\"document\")\\\n",
    "    .setOutputCol(\"embeddings\")\n",
    "\n",
    "doc_classifier = nlp.MultiClassifierDLModel.pretrained(\"finmulticlf_news\", \"en\" ,\"finance/models\")\\\n",
    "    .setInputCols(\"embeddings\")\\\n",
    "    .setOutputCol(\"category\")    \n",
    "\n",
    "clf_pipeline = nlp.Pipeline(stages = [\n",
    "        document_assembler,\n",
    "        embeddings,\n",
    "        doc_classifier])\n",
    "\n",
    "light_pipeline = nlp.LightPipeline(clf_pipeline.fit(spark.createDataFrame([['']]).toDF(\"text\")))"
   ]
  },
  {
   "cell_type": "markdown",
   "id": "5d86d5f7-4e96-46d4-ab9d-f60d51a83a8a",
   "metadata": {
    "id": "5d86d5f7-4e96-46d4-ab9d-f60d51a83a8a"
   },
   "source": [
    "### Get Result with LightPipeline"
   ]
  },
  {
   "cell_type": "code",
   "execution_count": 19,
   "id": "a0158c53-6654-42cb-b300-5e23d9fef973",
   "metadata": {
    "colab": {
     "base_uri": "https://localhost:8080/"
    },
    "executionInfo": {
     "elapsed": 2344,
     "status": "ok",
     "timestamp": 1664819792112,
     "user": {
      "displayName": "Damla",
      "userId": "03285166568766987047"
     },
     "user_tz": -120
    },
    "id": "a0158c53-6654-42cb-b300-5e23d9fef973",
    "outputId": "ba110fa6-552b-4ebb-e339-e83a7e7a1c50"
   },
   "outputs": [
    {
     "data": {
      "text/plain": [
       "['finance', 'trade']"
      ]
     },
     "execution_count": 19,
     "metadata": {},
     "output_type": "execute_result"
    }
   ],
   "source": [
    "result = light_pipeline.annotate(\"\"\"ECUADOR HAS TRADE SURPLUS IN FIRST FOUR MONTHS Ecuador posted a trade surplus of 10.6 mln dlrs in the first four months of 1987 compared with a surplus of 271.7 mln in the same period in 1986, the central bank of Ecuador said in its latest monthly report. Ecuador suspended sales of crude oil, its principal export product, in March after an earthquake destroyed part of its oil-producing infrastructure. Exports in the first four months of 1987 were around 639 mln dlrs and imports 628.3 mln, compared with 771 mln and 500 mln respectively in the same period last year. Exports of crude and products in the first four months were around 256.1 mln dlrs, compared with 403.3 mln in the same period in 1986. The central bank said that between January and May Ecuador sold 16.1 mln barrels of crude and 2.3 mln barrels of products, compared with 32 mln and 2.7 mln respectively in the same period last year. Ecuador's international reserves at the end of May were around 120.9 mln dlrs, compared with 118.6 mln at the end of April and 141.3 mln at the end of May 1986, the central bank said. gold reserves were 165.7 mln dlrs at the end of May compared with 124.3 mln at the end of April.\"\"\")\n",
    "\n",
    "result[\"category\"]"
   ]
  },
  {
   "cell_type": "code",
   "execution_count": 20,
   "id": "7e83c8f8-85a9-46f2-a36e-f19a5c88f3ea",
   "metadata": {
    "colab": {
     "base_uri": "https://localhost:8080/"
    },
    "executionInfo": {
     "elapsed": 16,
     "status": "ok",
     "timestamp": 1664819792113,
     "user": {
      "displayName": "Damla",
      "userId": "03285166568766987047"
     },
     "user_tz": -120
    },
    "id": "7e83c8f8-85a9-46f2-a36e-f19a5c88f3ea",
    "outputId": "16a0a380-d361-41c3-9346-5ce8883e2cf2"
   },
   "outputs": [
    {
     "data": {
      "text/plain": [
       "['plant', 'fuel']"
      ]
     },
     "execution_count": 20,
     "metadata": {},
     "output_type": "execute_result"
    }
   ],
   "source": [
    "result = light_pipeline.annotate(\"\"\"LONDON GRAIN FREIGHTS 27,000 long tons USG/Taiwan 23.25 dlrs fio five days/1,500 1-10/5 Continental. Trade Banner - 30,000 long tons grain USG/Morocco 13.50 dlrs 5,000/5,000 end-April/early-May Comanav. Reference New York Grain Freights 1 of April 8, ship brokers say the vessel fixed by Cam from the Great Lakes to Algeria at 28 dlrs is reported to be the Vamand Wave. Reference New York Grain Freights 2 of April 8, they say the Cory Grain maize business from East London at 22 dlrs is to Japan and not to Spain as reported\"\"\")\n",
    "\n",
    "result[\"category\"]"
   ]
  },
  {
   "cell_type": "code",
   "execution_count": 21,
   "id": "8d54a3ba-f4d6-455f-aaba-4b31eab6a8a4",
   "metadata": {
    "colab": {
     "base_uri": "https://localhost:8080/"
    },
    "executionInfo": {
     "elapsed": 13,
     "status": "ok",
     "timestamp": 1664819792113,
     "user": {
      "displayName": "Damla",
      "userId": "03285166568766987047"
     },
     "user_tz": -120
    },
    "id": "8d54a3ba-f4d6-455f-aaba-4b31eab6a8a4",
    "outputId": "dd5db366-6732-4a32-f653-2a4e71455716"
   },
   "outputs": [
    {
     "data": {
      "text/plain": [
       "['plant', 'livestock', 'trade']"
      ]
     },
     "execution_count": 21,
     "metadata": {},
     "output_type": "execute_result"
    }
   ],
   "source": [
    "result = light_pipeline.annotate(\"\"\"Agriculture Ministry officials said they are not considering cuts in import duties on chocolate to help ease friction with the United States over agricultural trade. Japan has already lowered the duties sharply and we must consider domestic market conditions, an official said. Duties on chocolate were cut to 20 pct from 31.9 pct in April 1983. Washington has been demanding a cut to seven pct, equivalent to its own duties, ministry sources said. Japanese chocolate imports rose to 8,285 tonnes in calendar 1986 from 5,908 in 1985, official statistics show. However, the ministry sources added it is possible the government may make further cuts in response to strong U.S. And European demand. \"Due to concern about the farm trade row with the U.S., Top-level government officials may press the ministry to cut the duties,\" one said. But he said it would be difficult for Japan to resolve its overall trade row with Washington and reduce its trade surplus, which reached 58.6 billion dolars in 1986. Agricultural trade issues between Japan and the U.S.  Include Japanese import restrictions on 12 farm products.\"\"\")\n",
    "\n",
    "result[\"category\"]"
   ]
  },
  {
   "cell_type": "code",
   "execution_count": null,
   "id": "570b4865-b09f-43c2-b2b1-2f7b00519db0",
   "metadata": {},
   "outputs": [],
   "source": []
  }
 ],
 "metadata": {
  "colab": {
   "collapsed_sections": [],
   "provenance": [],
   "toc_visible": true
  },
  "kernelspec": {
   "display_name": "Python 3",
   "language": "python",
   "name": "python3"
  },
  "language_info": {
   "codemirror_mode": {
    "name": "ipython",
    "version": 3
   },
   "file_extension": ".py",
   "mimetype": "text/x-python",
   "name": "python",
   "nbconvert_exporter": "python",
   "pygments_lexer": "ipython3",
   "version": "3.9.2"
  },
  "vscode": {
   "interpreter": {
    "hash": "eaef4d22edbbdbc68b8d50d2a1a48c6349c8418c1052069fe906c41d47bd13e6"
   }
  }
 },
 "nbformat": 4,
 "nbformat_minor": 5
}

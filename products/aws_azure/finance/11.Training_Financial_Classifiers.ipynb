{
 "cells": [
  {
   "cell_type": "markdown",
   "id": "wxZDXLDCXkk_",
   "metadata": {
    "id": "wxZDXLDCXkk_"
   },
   "source": [
    "\n",
    "![JohnSnowLabs](https://nlp.johnsnowlabs.com/assets/images/logo.png)\n",
    "\n",
    "\n",
    "\n"
   ]
  },
  {
   "cell_type": "markdown",
   "id": "KLqW6FOnEvov",
   "metadata": {
    "id": "KLqW6FOnEvov"
   },
   "source": [
    "# Train Domain-specific Multiclass and Multilabel classifiers"
   ]
  },
  {
   "cell_type": "markdown",
   "id": "4e0b1fe4-db3c-48a6-a333-66d37d1f4b9f",
   "metadata": {
    "id": "okhT7AcXxben"
   },
   "source": [
    "## Setup"
   ]
  },
  {
   "cell_type": "code",
   "execution_count": 2,
   "id": "f65b7c90-0d1c-4305-86a4-90af94643f00",
   "metadata": {},
   "outputs": [],
   "source": [
    "%pip install -q tensorflow==2.7.0\n",
    "%pip install -q tensorflow-addons"
   ]
  },
  {
   "cell_type": "code",
   "execution_count": 4,
   "id": "13479c93-6441-4288-af74-42ef41742841",
   "metadata": {
    "colab": {
     "base_uri": "https://localhost:8080/"
    },
    "executionInfo": {
     "elapsed": 115199,
     "status": "ok",
     "timestamp": 1664816113389,
     "user": {
      "displayName": "Damla",
      "userId": "03285166568766987047"
     },
     "user_tz": -120
    },
    "id": "dmcB5zVBHZO8",
    "outputId": "cd366e47-7f4d-457a-dfe5-3ed5174d4a0c"
   },
   "outputs": [
    {
     "name": "stdout",
     "output_type": "stream",
     "text": [
      "Spark NLP Version : 4.2.1\n",
      "📋 Loading license number 0 from /home/ubuntu/.johnsnowlabs/licenses/license_number_0_for_.json\n"
     ]
    },
    {
     "name": "stderr",
     "output_type": "stream",
     "text": [
      "22/10/20 09:37:34 WARN NativeCodeLoader: Unable to load native-hadoop library for your platform... using builtin-java classes where applicable\n",
      "Using Spark's default log4j profile: org/apache/spark/log4j-defaults.properties\n",
      "Setting default log level to \"WARN\".\n",
      "To adjust logging level use sc.setLogLevel(newLevel). For SparkR, use setLogLevel(newLevel).\n"
     ]
    },
    {
     "name": "stdout",
     "output_type": "stream",
     "text": [
      "👌 Launched \u001b[92mcpu-Optimized JVM\u001b[39m SparkSession with Jars for: 🚀Spark-NLP==4.2.1, 💊Spark-Healthcare==4.2.0, 🕶Spark-OCR==4.1.0, running on ⚡ PySpark==3.1.2\n"
     ]
    }
   ],
   "source": [
    "from johnsnowlabs import *\n",
    "\n",
    "import json\n",
    "import os\n",
    "\n",
    "print(\"Spark NLP Version :\", sparknlp.version())\n",
    "\n",
    "spark = start_spark()"
   ]
  },
  {
   "cell_type": "markdown",
   "id": "MulDEC2j4ly3",
   "metadata": {
    "id": "MulDEC2j4ly3"
   },
   "source": [
    "# Multilabel classifier training"
   ]
  },
  {
   "cell_type": "markdown",
   "id": "BhKlxMBWH9-Z",
   "metadata": {
    "id": "BhKlxMBWH9-Z"
   },
   "source": [
    "## Loading the data"
   ]
  },
  {
   "cell_type": "code",
   "execution_count": 6,
   "id": "chcpskuvMK8Y",
   "metadata": {
    "id": "chcpskuvMK8Y"
   },
   "outputs": [],
   "source": [
    "! wget -q https://raw.githubusercontent.com/JohnSnowLabs/spark-nlp-workshop/master/tutorials/Certification_Trainings_JSL/Finance/data/finance_data.csv"
   ]
  },
  {
   "cell_type": "code",
   "execution_count": 7,
   "id": "gaRulasEKZK3",
   "metadata": {
    "id": "gaRulasEKZK3"
   },
   "outputs": [],
   "source": [
    "import pandas as pd\n",
    "df = pd.read_csv('./finance_data.csv')\n",
    "df['label'] = df['label'].apply(eval)"
   ]
  },
  {
   "cell_type": "code",
   "execution_count": 8,
   "id": "bUFO8usqKt2Z",
   "metadata": {
    "id": "bUFO8usqKt2Z"
   },
   "outputs": [],
   "source": [
    "data = spark.createDataFrame(df)\n",
    "\n",
    "# If you have a single dataset, then split it or else you can load the test dataset the same way that you load the train data.\n",
    "train, test = data.randomSplit([0.8, 0.2], seed = 123)"
   ]
  },
  {
   "cell_type": "code",
   "execution_count": 9,
   "id": "bowhz89ZbN1C",
   "metadata": {
    "colab": {
     "base_uri": "https://localhost:8080/"
    },
    "executionInfo": {
     "elapsed": 2303,
     "status": "ok",
     "timestamp": 1664478285083,
     "user": {
      "displayName": "Monster C",
      "userId": "08787989274818793476"
     },
     "user_tz": -180
    },
    "id": "bowhz89ZbN1C",
    "outputId": "c8d5c081-2a4b-48b4-be85-78d725829314"
   },
   "outputs": [
    {
     "name": "stderr",
     "output_type": "stream",
     "text": [
      "22/10/20 09:40:14 WARN TaskSetManager: Stage 0 contains a task of very large size (1746 KiB). The maximum recommended task size is 1000 KiB.\n",
      "[Stage 0:>                                                          (0 + 1) / 1]\r"
     ]
    },
    {
     "name": "stdout",
     "output_type": "stream",
     "text": [
      "+--------------------------------------------------+-----------------------------------+\n",
      "|                                         provision|                              label|\n",
      "+--------------------------------------------------+-----------------------------------+\n",
      "|(a) Consultant or Company may terminate this Pr...|                     [terminations]|\n",
      "|(a) Effective as of the Effective Date, the Hol...|            [waivers, terminations]|\n",
      "|(a) No failure or delay by the Administrative A...|              [waivers, amendments]|\n",
      "|(a) No failure or delay by the Agent or any Len...|              [waivers, amendments]|\n",
      "|(a) No failure or delay of the Administrative A...|              [waivers, amendments]|\n",
      "|(a) The Credit Agreement is, effective as of th...|                       [amendments]|\n",
      "|(a) The provisions of this Agreement shall be b...|              [assigns, successors]|\n",
      "|(a) To induce the other parties hereto to enter...|      [representations, warranties]|\n",
      "|(a)  The provisions of this Agreement shall be ...|              [assigns, successors]|\n",
      "|(a) All of the representations and warranties m...|      [representations, warranties]|\n",
      "|(a) No failure or delay by the Administrative A...|              [waivers, amendments]|\n",
      "|(a) No failure or delay by the Collateral Agent...|              [waivers, amendments]|\n",
      "|(a) No failure or delay of the Agents or any Le...|              [waivers, amendments]|\n",
      "|(a) THIS AGREEMENT AND ANY CLAIM, CONTROVERSY, ...|[governing laws, entire agreements]|\n",
      "|(a) THIS AGREEMENT WAS NEGOTIATED IN THE STATE ...|                   [governing laws]|\n",
      "|(a) The provisions of this Agreement shall be b...|              [assigns, successors]|\n",
      "|(a) This Agreement may be amended, supplemented...|              [waivers, amendments]|\n",
      "|(a) This Agreement may be executed by one or mo...|                     [counterparts]|\n",
      "|(a)  The Performance Guarantor hereby waives pr...|                          [waivers]|\n",
      "|(i) Borrower waives all presentments, demands f...|                          [waivers]|\n",
      "+--------------------------------------------------+-----------------------------------+\n",
      "only showing top 20 rows\n",
      "\n"
     ]
    },
    {
     "name": "stderr",
     "output_type": "stream",
     "text": [
      "                                                                                \r"
     ]
    }
   ],
   "source": [
    "train.show(truncate=50)"
   ]
  },
  {
   "cell_type": "code",
   "execution_count": 10,
   "id": "RZ0xy9hpebLe",
   "metadata": {
    "colab": {
     "base_uri": "https://localhost:8080/"
    },
    "executionInfo": {
     "elapsed": 3463,
     "status": "ok",
     "timestamp": 1664478290189,
     "user": {
      "displayName": "Monster C",
      "userId": "08787989274818793476"
     },
     "user_tz": -180
    },
    "id": "RZ0xy9hpebLe",
    "outputId": "39f22911-18a8-48f0-98d9-a80b58b8a5ee"
   },
   "outputs": [
    {
     "name": "stderr",
     "output_type": "stream",
     "text": [
      "22/10/20 09:40:16 WARN TaskSetManager: Stage 1 contains a task of very large size (1746 KiB). The maximum recommended task size is 1000 KiB.\n",
      "[Stage 2:=====================================>                 (137 + 9) / 200]\r"
     ]
    },
    {
     "name": "stdout",
     "output_type": "stream",
     "text": [
      "+--------------------+-----+\n",
      "|               label|count|\n",
      "+--------------------+-----+\n",
      "|    [governing laws]|  772|\n",
      "|      [counterparts]|  573|\n",
      "| [entire agreements]|  558|\n",
      "|           [notices]|  530|\n",
      "|      [severability]|  507|\n",
      "|          [survival]|  343|\n",
      "|[assigns, success...|  319|\n",
      "|        [amendments]|  309|\n",
      "|          [expenses]|  248|\n",
      "|      [terminations]|  237|\n",
      "|           [waivers]|  205|\n",
      "|[waivers, amendme...|  195|\n",
      "|[representations,...|  191|\n",
      "|       [assignments]|  187|\n",
      "|   [representations]|   94|\n",
      "|[amendments, enti...|   54|\n",
      "|        [successors]|   54|\n",
      "|        [warranties]|   39|\n",
      "|[amendments, term...|   25|\n",
      "|[assignments, suc...|   11|\n",
      "+--------------------+-----+\n",
      "only showing top 20 rows\n",
      "\n"
     ]
    },
    {
     "name": "stderr",
     "output_type": "stream",
     "text": [
      "                                                                                \r"
     ]
    }
   ],
   "source": [
    "from pyspark.sql.functions import col\n",
    "\n",
    "test.groupBy(\"label\") \\\n",
    "    .count() \\\n",
    "    .orderBy(col(\"count\").desc()) \\\n",
    "    .show()"
   ]
  },
  {
   "cell_type": "markdown",
   "id": "78sjKvMKcHdn",
   "metadata": {
    "id": "78sjKvMKcHdn"
   },
   "source": [
    " ## With Universal Encoder"
   ]
  },
  {
   "cell_type": "code",
   "execution_count": 13,
   "id": "oFl9orR5LrUu",
   "metadata": {
    "colab": {
     "base_uri": "https://localhost:8080/"
    },
    "executionInfo": {
     "elapsed": 249453,
     "status": "ok",
     "timestamp": 1664478549798,
     "user": {
      "displayName": "Monster C",
      "userId": "08787989274818793476"
     },
     "user_tz": -180
    },
    "id": "oFl9orR5LrUu",
    "outputId": "1e0de40d-25bc-4c37-8f55-7f7dfec9a5d2"
   },
   "outputs": [
    {
     "name": "stdout",
     "output_type": "stream",
     "text": [
      "tfhub_use download started this may take some time.\n",
      "Approximate size to download 923.7 MB\n",
      "[ | ]tfhub_use download started this may take some time.\n",
      "Approximate size to download 923.7 MB\n",
      "Download done! Loading the resource.\n",
      "[ \\ ]"
     ]
    },
    {
     "name": "stderr",
     "output_type": "stream",
     "text": [
      "2022-10-19 16:01:04.282594: I external/org_tensorflow/tensorflow/core/platform/cpu_feature_guard.cc:151] This TensorFlow binary is optimized with oneAPI Deep Neural Network Library (oneDNN) to use the following CPU instructions in performance-critical operations:  AVX2 FMA\n",
      "To enable them in other operations, rebuild TensorFlow with the appropriate compiler flags.\n"
     ]
    },
    {
     "name": "stdout",
     "output_type": "stream",
     "text": [
      "[OK!]\n"
     ]
    }
   ],
   "source": [
    "document_assembler = nlp.DocumentAssembler() \\\n",
    "    .setInputCol(\"provision\") \\\n",
    "    .setOutputCol(\"document\") \\\n",
    "    .setCleanupMode(\"shrink\")\n",
    "\n",
    "embeddings = nlp.UniversalSentenceEncoder.pretrained() \\\n",
    "      .setInputCols(\"document\") \\\n",
    "      .setOutputCol(\"sentence_embeddings\")\n",
    "\n",
    "classsifierdl = nlp.MultiClassifierDLApproach()\\\n",
    "      .setInputCols([\"sentence_embeddings\"])\\\n",
    "      .setOutputCol(\"class\")\\\n",
    "      .setLabelColumn(\"label\")\\\n",
    "      .setMaxEpochs(30)\\\n",
    "      .setEnableOutputLogs(True)\n",
    "\n",
    "clf_pipeline = Pipeline(\n",
    "    stages = [\n",
    "        document_assembler,\n",
    "        embeddings,\n",
    "        classsifierdl\n",
    "    ])"
   ]
  },
  {
   "cell_type": "code",
   "execution_count": 14,
   "id": "8kcgVr07MUss",
   "metadata": {
    "id": "8kcgVr07MUss"
   },
   "outputs": [
    {
     "name": "stderr",
     "output_type": "stream",
     "text": [
      "22/10/19 16:01:16 WARN TaskSetManager: Stage 4 contains a task of very large size (3476 KiB). The maximum recommended task size is 1000 KiB.\n",
      "22/10/19 16:01:22 WARN TaskSetManager: Stage 6 contains a task of very large size (3476 KiB). The maximum recommended task size is 1000 KiB.\n",
      "22/10/19 16:01:23 WARN TaskSetManager: Stage 7 contains a task of very large size (3476 KiB). The maximum recommended task size is 1000 KiB.\n",
      "2022-10-19 16:01:29.348151: I external/org_tensorflow/tensorflow/cc/saved_model/reader.cc:43] Reading SavedModel from: /tmp/d8122f7a39a2_classifier_dl1394760924665424582\n",
      "2022-10-19 16:01:29.686160: I external/org_tensorflow/tensorflow/cc/saved_model/reader.cc:107] Reading meta graph with tags { serve }\n",
      "2022-10-19 16:01:29.686440: I external/org_tensorflow/tensorflow/cc/saved_model/reader.cc:148] Reading SavedModel debug info (if present) from: /tmp/d8122f7a39a2_classifier_dl1394760924665424582\n",
      "2022-10-19 16:01:33.376724: I external/org_tensorflow/tensorflow/cc/saved_model/loader.cc:228] Restoring SavedModel bundle.\n",
      "2022-10-19 16:01:35.100716: I external/org_tensorflow/tensorflow/cc/saved_model/loader.cc:212] Running initialization op on SavedModel bundle at path: /tmp/d8122f7a39a2_classifier_dl1394760924665424582\n",
      "2022-10-19 16:01:36.307190: I external/org_tensorflow/tensorflow/cc/saved_model/loader.cc:301] SavedModel load for tags { serve }; Status: success: OK. Took 6959050 microseconds.\n"
     ]
    },
    {
     "name": "stdout",
     "output_type": "stream",
     "text": [
      "Training started - epochs: 30 - learning_rate: 0.001 - batch_size: 64 - training_examples: 22042 - classes: 15\n",
      "Epoch 1/30 - 6.23s - loss: 0.16814168 - acc: 0.9498104 - batches: 345\n",
      "Epoch 2/30 - 3.22s - loss: 0.07261445 - acc: 0.9774559 - batches: 345\n",
      "Epoch 3/30 - 3.34s - loss: 0.06150661 - acc: 0.9812575 - batches: 345\n",
      "Epoch 4/30 - 3.21s - loss: 0.05632347 - acc: 0.9827865 - batches: 345\n",
      "Epoch 5/30 - 3.51s - loss: 0.053312555 - acc: 0.9838887 - batches: 345\n",
      "Epoch 6/30 - 3.46s - loss: 0.05126492 - acc: 0.98463815 - batches: 345\n",
      "Epoch 7/30 - 3.18s - loss: 0.049728964 - acc: 0.9851406 - batches: 345\n",
      "Epoch 8/30 - 3.21s - loss: 0.04850401 - acc: 0.9856131 - batches: 345\n",
      "Epoch 9/30 - 3.16s - loss: 0.04748668 - acc: 0.9858874 - batches: 345\n",
      "Epoch 10/30 - 3.18s - loss: 0.04661861 - acc: 0.98614484 - batches: 345\n",
      "Epoch 11/30 - 3.17s - loss: 0.045863416 - acc: 0.98649 - batches: 345\n",
      "Epoch 12/30 - 3.18s - loss: 0.045195952 - acc: 0.98674446 - batches: 345\n",
      "Epoch 13/30 - 3.18s - loss: 0.044598877 - acc: 0.9869788 - batches: 345\n",
      "Epoch 14/30 - 3.28s - loss: 0.044059448 - acc: 0.98717576 - batches: 345\n",
      "Epoch 15/30 - 3.16s - loss: 0.04356879 - acc: 0.9872847 - batches: 345\n",
      "Epoch 16/30 - 3.15s - loss: 0.04311987 - acc: 0.9874302 - batches: 345\n",
      "Epoch 17/30 - 3.16s - loss: 0.042706583 - acc: 0.98756033 - batches: 345\n",
      "Epoch 18/30 - 3.15s - loss: 0.042324197 - acc: 0.9876907 - batches: 345\n",
      "Epoch 19/30 - 3.18s - loss: 0.0419689 - acc: 0.9878388 - batches: 345\n",
      "Epoch 20/30 - 3.20s - loss: 0.041637465 - acc: 0.987951 - batches: 345\n",
      "Epoch 21/30 - 3.16s - loss: 0.04132723 - acc: 0.9880357 - batches: 345\n",
      "Epoch 22/30 - 3.13s - loss: 0.041035883 - acc: 0.9881206 - batches: 345\n",
      "Epoch 23/30 - 3.16s - loss: 0.04076146 - acc: 0.98822963 - batches: 345\n",
      "Epoch 24/30 - 3.20s - loss: 0.040502306 - acc: 0.9883112 - batches: 345\n",
      "Epoch 25/30 - 3.16s - loss: 0.040257167 - acc: 0.98838717 - batches: 345\n",
      "Epoch 26/30 - 3.19s - loss: 0.040024787 - acc: 0.98850834 - batches: 345\n",
      "Epoch 27/30 - 3.19s - loss: 0.03980395 - acc: 0.98858714 - batches: 345\n",
      "Epoch 28/30 - 3.16s - loss: 0.039593745 - acc: 0.988684 - batches: 345\n",
      "Epoch 29/30 - 3.17s - loss: 0.03939327 - acc: 0.9887384 - batches: 345\n",
      "Epoch 30/30 - 3.17s - loss: 0.03920188 - acc: 0.98879915 - batches: 345\n",
      "CPU times: user 75.9 ms, sys: 14.3 ms, total: 90.2 ms\n",
      "Wall time: 2min 17s\n"
     ]
    }
   ],
   "source": [
    "%%time\n",
    "clf_pipelineModel = clf_pipeline.fit(train)"
   ]
  },
  {
   "cell_type": "code",
   "execution_count": 16,
   "id": "cwf0OM2Oy6Hd",
   "metadata": {
    "id": "cwf0OM2Oy6Hd"
   },
   "outputs": [],
   "source": [
    "preds = clf_pipelineModel.transform(test)"
   ]
  },
  {
   "cell_type": "code",
   "execution_count": 17,
   "id": "jUKamU-50kZi",
   "metadata": {
    "colab": {
     "base_uri": "https://localhost:8080/",
     "height": 206
    },
    "executionInfo": {
     "elapsed": 23545,
     "status": "ok",
     "timestamp": 1664478795291,
     "user": {
      "displayName": "Monster C",
      "userId": "08787989274818793476"
     },
     "user_tz": -180
    },
    "id": "jUKamU-50kZi",
    "outputId": "586c6368-6937-4aff-a2ed-f29291e41d65"
   },
   "outputs": [
    {
     "name": "stderr",
     "output_type": "stream",
     "text": [
      "22/10/19 16:04:54 WARN TaskSetManager: Stage 8 contains a task of very large size (3476 KiB). The maximum recommended task size is 1000 KiB.\n",
      "                                                                                \r"
     ]
    },
    {
     "data": {
      "text/html": [
       "<div>\n",
       "<style scoped>\n",
       "    .dataframe tbody tr th:only-of-type {\n",
       "        vertical-align: middle;\n",
       "    }\n",
       "\n",
       "    .dataframe tbody tr th {\n",
       "        vertical-align: top;\n",
       "    }\n",
       "\n",
       "    .dataframe thead th {\n",
       "        text-align: right;\n",
       "    }\n",
       "</style>\n",
       "<table border=\"1\" class=\"dataframe\">\n",
       "  <thead>\n",
       "    <tr style=\"text-align: right;\">\n",
       "      <th></th>\n",
       "      <th>label</th>\n",
       "      <th>provision</th>\n",
       "      <th>result</th>\n",
       "    </tr>\n",
       "  </thead>\n",
       "  <tbody>\n",
       "    <tr>\n",
       "      <th>0</th>\n",
       "      <td>[waivers, terminations]</td>\n",
       "      <td>(a) Effective as of the Effective Date, the Ho...</td>\n",
       "      <td>[representations]</td>\n",
       "    </tr>\n",
       "    <tr>\n",
       "      <th>1</th>\n",
       "      <td>[waivers, amendments]</td>\n",
       "      <td>(a) No failure or delay by the Administrative ...</td>\n",
       "      <td>[waivers]</td>\n",
       "    </tr>\n",
       "    <tr>\n",
       "      <th>2</th>\n",
       "      <td>[waivers, amendments]</td>\n",
       "      <td>(a) No failure or delay on the part of any par...</td>\n",
       "      <td>[waivers]</td>\n",
       "    </tr>\n",
       "    <tr>\n",
       "      <th>3</th>\n",
       "      <td>[assignments]</td>\n",
       "      <td>(a) Seller, the Agent, each Managing Agent, ea...</td>\n",
       "      <td>[successors, assignments]</td>\n",
       "    </tr>\n",
       "    <tr>\n",
       "      <th>4</th>\n",
       "      <td>[assigns, successors]</td>\n",
       "      <td>(a) The provisions of this Agreement shall be ...</td>\n",
       "      <td>[successors, assigns]</td>\n",
       "    </tr>\n",
       "  </tbody>\n",
       "</table>\n",
       "</div>"
      ],
      "text/plain": [
       "                     label                                          provision  \\\n",
       "0  [waivers, terminations]  (a) Effective as of the Effective Date, the Ho...   \n",
       "1    [waivers, amendments]  (a) No failure or delay by the Administrative ...   \n",
       "2    [waivers, amendments]  (a) No failure or delay on the part of any par...   \n",
       "3            [assignments]  (a) Seller, the Agent, each Managing Agent, ea...   \n",
       "4    [assigns, successors]  (a) The provisions of this Agreement shall be ...   \n",
       "\n",
       "                      result  \n",
       "0          [representations]  \n",
       "1                  [waivers]  \n",
       "2                  [waivers]  \n",
       "3  [successors, assignments]  \n",
       "4      [successors, assigns]  "
      ]
     },
     "execution_count": 17,
     "metadata": {},
     "output_type": "execute_result"
    }
   ],
   "source": [
    "preds_df = preds.select('label','provision',\"class.result\").toPandas()\n",
    "preds_df.head()"
   ]
  },
  {
   "cell_type": "code",
   "execution_count": 18,
   "id": "uWVj5TsSbmRE",
   "metadata": {
    "colab": {
     "base_uri": "https://localhost:8080/"
    },
    "executionInfo": {
     "elapsed": 6,
     "status": "ok",
     "timestamp": 1664478795291,
     "user": {
      "displayName": "Monster C",
      "userId": "08787989274818793476"
     },
     "user_tz": -180
    },
    "id": "uWVj5TsSbmRE",
    "outputId": "ee8a1360-4d33-4d8d-a0f1-da74dbd6a08f"
   },
   "outputs": [
    {
     "name": "stdout",
     "output_type": "stream",
     "text": [
      "Classification report: \n",
      "               precision    recall  f1-score   support\n",
      "\n",
      "           0       0.88      0.77      0.82       618\n",
      "           1       0.73      0.52      0.61       198\n",
      "           2       0.79      0.75      0.77       302\n",
      "           3       0.99      0.98      0.99       587\n",
      "           4       0.98      0.94      0.96       675\n",
      "           5       0.98      0.92      0.95       228\n",
      "           6       0.98      0.98      0.98       784\n",
      "           7       0.98      0.96      0.97       574\n",
      "           8       0.92      0.79      0.85       291\n",
      "           9       0.99      0.94      0.96       531\n",
      "          10       0.84      0.85      0.84       361\n",
      "          11       0.96      0.91      0.94       329\n",
      "          12       0.89      0.73      0.80       272\n",
      "          13       0.90      0.75      0.82       460\n",
      "          14       0.83      0.80      0.82       227\n",
      "\n",
      "   micro avg       0.93      0.87      0.90      6437\n",
      "   macro avg       0.91      0.84      0.87      6437\n",
      "weighted avg       0.93      0.87      0.90      6437\n",
      " samples avg       0.89      0.89      0.88      6437\n",
      "\n",
      "F1 micro averaging: 0.9004975124378108\n",
      "ROC:  0.9331101745078121\n"
     ]
    }
   ],
   "source": [
    "from sklearn.preprocessing import MultiLabelBinarizer\n",
    "from sklearn.metrics import classification_report\n",
    "from sklearn.metrics import f1_score\n",
    "from sklearn.metrics import roc_auc_score\n",
    "\n",
    "mlb = MultiLabelBinarizer()\n",
    "\n",
    "y_true = mlb.fit_transform(preds_df['label'])\n",
    "y_pred = mlb.fit_transform(preds_df['result'])\n",
    "\n",
    "\n",
    "print(\"Classification report: \\n\", (classification_report(y_true, y_pred)))\n",
    "print(\"F1 micro averaging:\",(f1_score(y_true, y_pred, average='micro')))\n",
    "print(\"ROC: \",(roc_auc_score(y_true, y_pred, average=\"micro\")))\n"
   ]
  },
  {
   "cell_type": "markdown",
   "id": "jWhU1pMUay0I",
   "metadata": {
    "id": "jWhU1pMUay0I"
   },
   "source": [
    "## With Bert Embeddings"
   ]
  },
  {
   "cell_type": "markdown",
   "id": "bHVFY_i4H5Gh",
   "metadata": {
    "id": "bHVFY_i4H5Gh"
   },
   "source": [
    "We do not have have any specific Financial Sentence Embeddings, but we can use Financial Bert Embeddings and then average them."
   ]
  },
  {
   "cell_type": "code",
   "execution_count": 11,
   "id": "8PG4NNyQdBnG",
   "metadata": {
    "colab": {
     "base_uri": "https://localhost:8080/"
    },
    "executionInfo": {
     "elapsed": 29076,
     "status": "ok",
     "timestamp": 1664478824364,
     "user": {
      "displayName": "Monster C",
      "userId": "08787989274818793476"
     },
     "user_tz": -180
    },
    "id": "8PG4NNyQdBnG",
    "outputId": "bf89b696-c199-4437-db98-ccd329d9059a"
   },
   "outputs": [
    {
     "name": "stdout",
     "output_type": "stream",
     "text": [
      "bert_embeddings_sec_bert_base download started this may take some time.\n",
      "Approximate size to download 390.4 MB\n",
      "[ | ]bert_embeddings_sec_bert_base download started this may take some time.\n",
      "Approximate size to download 390.4 MB\n",
      "Download done! Loading the resource.\n",
      "[ / ]"
     ]
    },
    {
     "name": "stderr",
     "output_type": "stream",
     "text": [
      "2022-10-20 09:40:41.389452: I external/org_tensorflow/tensorflow/core/platform/cpu_feature_guard.cc:151] This TensorFlow binary is optimized with oneAPI Deep Neural Network Library (oneDNN) to use the following CPU instructions in performance-critical operations:  AVX2 AVX512F FMA\n",
      "To enable them in other operations, rebuild TensorFlow with the appropriate compiler flags.\n"
     ]
    },
    {
     "name": "stdout",
     "output_type": "stream",
     "text": [
      "[OK!]\n"
     ]
    }
   ],
   "source": [
    "embeddings = nlp.BertEmbeddings.pretrained(\"bert_embeddings_sec_bert_base\",\"en\") \\\n",
    "          .setInputCols([\"document\", \"token\"]) \\\n",
    "          .setOutputCol(\"embeddings\")"
   ]
  },
  {
   "cell_type": "code",
   "execution_count": 12,
   "id": "zdiCyuc3dBnJ",
   "metadata": {
    "id": "zdiCyuc3dBnJ"
   },
   "outputs": [],
   "source": [
    "document_assembler = nlp.DocumentAssembler() \\\n",
    "    .setInputCol(\"provision\") \\\n",
    "    .setOutputCol(\"document\")\n",
    "\n",
    "tokenizer = nlp.Tokenizer() \\\n",
    "    .setInputCols([\"document\"]) \\\n",
    "    .setOutputCol(\"token\")\n",
    "\n",
    "embeddingsSentence = nlp.SentenceEmbeddings() \\\n",
    "    .setInputCols([\"document\", \"embeddings\"]) \\\n",
    "    .setOutputCol(\"sentence_embeddings\") \\\n",
    "    .setPoolingStrategy(\"AVERAGE\")\n",
    "\n",
    "classsifierdl = nlp.MultiClassifierDLApproach() \\\n",
    "    .setInputCols([\"sentence_embeddings\"]) \\\n",
    "    .setOutputCol(\"class\") \\\n",
    "    .setLabelColumn(\"label\")\\\n",
    "    .setMaxEpochs(8)\\\n",
    "    .setEnableOutputLogs(True)\n",
    "\n",
    "clf_pipeline = Pipeline(\n",
    "    stages = [\n",
    "        document_assembler,\n",
    "        tokenizer,\n",
    "        embeddings,\n",
    "        embeddingsSentence,\n",
    "        classsifierdl\n",
    "    ])"
   ]
  },
  {
   "cell_type": "code",
   "execution_count": 13,
   "id": "7fxOmkTNdBnK",
   "metadata": {
    "colab": {
     "base_uri": "https://localhost:8080/"
    },
    "executionInfo": {
     "elapsed": 7002397,
     "status": "ok",
     "timestamp": 1664485827983,
     "user": {
      "displayName": "Monster C",
      "userId": "08787989274818793476"
     },
     "user_tz": -180
    },
    "id": "7fxOmkTNdBnK",
    "outputId": "89e5ccf5-6cb2-447f-a3de-62f0aa672037",
    "tags": []
   },
   "outputs": [
    {
     "name": "stderr",
     "output_type": "stream",
     "text": [
      "22/10/20 09:40:47 WARN TaskSetManager: Stage 6 contains a task of very large size (1746 KiB). The maximum recommended task size is 1000 KiB.\n",
      "22/10/20 09:59:48 WARN TaskSetManager: Stage 8 contains a task of very large size (1746 KiB). The maximum recommended task size is 1000 KiB.\n",
      "22/10/20 09:59:49 WARN TaskSetManager: Stage 9 contains a task of very large size (1746 KiB). The maximum recommended task size is 1000 KiB.\n",
      "2022-10-20 10:19:33.390877: I external/org_tensorflow/tensorflow/cc/saved_model/reader.cc:43] Reading SavedModel from: /tmp/3ecddebecd08_classifier_dl8386214112112396326\n",
      "2022-10-20 10:19:34.177559: I external/org_tensorflow/tensorflow/cc/saved_model/reader.cc:107] Reading meta graph with tags { serve }\n",
      "2022-10-20 10:19:34.177629: I external/org_tensorflow/tensorflow/cc/saved_model/reader.cc:148] Reading SavedModel debug info (if present) from: /tmp/3ecddebecd08_classifier_dl8386214112112396326\n",
      "2022-10-20 10:19:39.606777: I external/org_tensorflow/tensorflow/cc/saved_model/loader.cc:228] Restoring SavedModel bundle.\n",
      "2022-10-20 10:19:42.173626: I external/org_tensorflow/tensorflow/cc/saved_model/loader.cc:212] Running initialization op on SavedModel bundle at path: /tmp/3ecddebecd08_classifier_dl8386214112112396326\n",
      "2022-10-20 10:19:43.860849: I external/org_tensorflow/tensorflow/cc/saved_model/loader.cc:301] SavedModel load for tags { serve }; Status: success: OK. Took 10469986 microseconds.\n"
     ]
    },
    {
     "name": "stdout",
     "output_type": "stream",
     "text": [
      "Training started - epochs: 8 - learning_rate: 0.001 - batch_size: 64 - training_examples: 22002 - classes: 15\n",
      "Epoch 1/8 - 8.00s - loss: 0.08046199 - acc: 0.9752819 - batches: 344\n",
      "Epoch 2/8 - 3.12s - loss: 0.03758629 - acc: 0.9896701 - batches: 344\n",
      "Epoch 3/8 - 3.02s - loss: 0.033418175 - acc: 0.9909579 - batches: 344\n",
      "Epoch 4/8 - 3.07s - loss: 0.03089657 - acc: 0.99175954 - batches: 344\n",
      "Epoch 5/8 - 3.08s - loss: 0.02908047 - acc: 0.99235976 - batches: 344\n",
      "Epoch 6/8 - 3.02s - loss: 0.027666898 - acc: 0.99286973 - batches: 344\n",
      "Epoch 7/8 - 3.03s - loss: 0.026504492 - acc: 0.993295 - batches: 344\n",
      "Epoch 8/8 - 3.03s - loss: 0.025508536 - acc: 0.9936544 - batches: 344\n",
      "CPU times: user 362 ms, sys: 141 ms, total: 502 ms\n",
      "Wall time: 39min 50s\n"
     ]
    }
   ],
   "source": [
    "%%time\n",
    "clf_pipelineModel = clf_pipeline.fit(train)"
   ]
  },
  {
   "cell_type": "code",
   "execution_count": 14,
   "id": "Y-YfOWrudBnM",
   "metadata": {
    "id": "Y-YfOWrudBnM"
   },
   "outputs": [],
   "source": [
    "preds = clf_pipelineModel.transform(test)"
   ]
  },
  {
   "cell_type": "code",
   "execution_count": 15,
   "id": "9VfIUz3IdBnN",
   "metadata": {
    "id": "9VfIUz3IdBnN"
   },
   "outputs": [
    {
     "name": "stderr",
     "output_type": "stream",
     "text": [
      "22/10/20 10:20:44 WARN TaskSetManager: Stage 10 contains a task of very large size (1746 KiB). The maximum recommended task size is 1000 KiB.\n",
      "                                                                                \r"
     ]
    }
   ],
   "source": [
    "preds_df = preds.select('provision','label',\"class.result\").toPandas()"
   ]
  },
  {
   "cell_type": "code",
   "execution_count": 16,
   "id": "vT2kdFLsdBnN",
   "metadata": {
    "colab": {
     "base_uri": "https://localhost:8080/",
     "height": 206
    },
    "executionInfo": {
     "elapsed": 16,
     "status": "ok",
     "timestamp": 1664486716416,
     "user": {
      "displayName": "Monster C",
      "userId": "08787989274818793476"
     },
     "user_tz": -180
    },
    "id": "vT2kdFLsdBnN",
    "outputId": "7654d318-2cac-425f-fe94-ea3fa93cae2b"
   },
   "outputs": [
    {
     "data": {
      "text/html": [
       "<div>\n",
       "<style scoped>\n",
       "    .dataframe tbody tr th:only-of-type {\n",
       "        vertical-align: middle;\n",
       "    }\n",
       "\n",
       "    .dataframe tbody tr th {\n",
       "        vertical-align: top;\n",
       "    }\n",
       "\n",
       "    .dataframe thead th {\n",
       "        text-align: right;\n",
       "    }\n",
       "</style>\n",
       "<table border=\"1\" class=\"dataframe\">\n",
       "  <thead>\n",
       "    <tr style=\"text-align: right;\">\n",
       "      <th></th>\n",
       "      <th>provision</th>\n",
       "      <th>label</th>\n",
       "      <th>result</th>\n",
       "    </tr>\n",
       "  </thead>\n",
       "  <tbody>\n",
       "    <tr>\n",
       "      <th>0</th>\n",
       "      <td>(a) No failure or delay by any Agent or any Le...</td>\n",
       "      <td>[waivers, amendments]</td>\n",
       "      <td>[waivers, amendments]</td>\n",
       "    </tr>\n",
       "    <tr>\n",
       "      <th>1</th>\n",
       "      <td>(a) Seller, the Agent, each Managing Agent, ea...</td>\n",
       "      <td>[assignments]</td>\n",
       "      <td>[assignments]</td>\n",
       "    </tr>\n",
       "    <tr>\n",
       "      <th>2</th>\n",
       "      <td>(a) Any provision of this Agreement may be wai...</td>\n",
       "      <td>[waivers]</td>\n",
       "      <td>[waivers]</td>\n",
       "    </tr>\n",
       "    <tr>\n",
       "      <th>3</th>\n",
       "      <td>(a) Except where telephonic instructions or no...</td>\n",
       "      <td>[notices]</td>\n",
       "      <td>[notices]</td>\n",
       "    </tr>\n",
       "    <tr>\n",
       "      <th>4</th>\n",
       "      <td>(a) THIS AGREEMENT AND EACH OTHER LOAN DOCUMEN...</td>\n",
       "      <td>[governing laws]</td>\n",
       "      <td>[governing laws]</td>\n",
       "    </tr>\n",
       "  </tbody>\n",
       "</table>\n",
       "</div>"
      ],
      "text/plain": [
       "                                           provision                  label  \\\n",
       "0  (a) No failure or delay by any Agent or any Le...  [waivers, amendments]   \n",
       "1  (a) Seller, the Agent, each Managing Agent, ea...          [assignments]   \n",
       "2  (a) Any provision of this Agreement may be wai...              [waivers]   \n",
       "3  (a) Except where telephonic instructions or no...              [notices]   \n",
       "4  (a) THIS AGREEMENT AND EACH OTHER LOAN DOCUMEN...       [governing laws]   \n",
       "\n",
       "                  result  \n",
       "0  [waivers, amendments]  \n",
       "1          [assignments]  \n",
       "2              [waivers]  \n",
       "3              [notices]  \n",
       "4       [governing laws]  "
      ]
     },
     "execution_count": 16,
     "metadata": {},
     "output_type": "execute_result"
    }
   ],
   "source": [
    "preds_df.head()"
   ]
  },
  {
   "cell_type": "code",
   "execution_count": 17,
   "id": "GJKWrIpOYLW_",
   "metadata": {
    "colab": {
     "base_uri": "https://localhost:8080/"
    },
    "executionInfo": {
     "elapsed": 10,
     "status": "ok",
     "timestamp": 1664486716417,
     "user": {
      "displayName": "Monster C",
      "userId": "08787989274818793476"
     },
     "user_tz": -180
    },
    "id": "GJKWrIpOYLW_",
    "outputId": "aec38b54-2996-416f-bf3b-3b83bae3490d"
   },
   "outputs": [
    {
     "name": "stdout",
     "output_type": "stream",
     "text": [
      "Classification report: \n",
      "               precision    recall  f1-score   support\n",
      "\n",
      "           0       0.96      0.82      0.88       609\n",
      "           1       0.86      0.61      0.72       212\n",
      "           2       0.78      0.93      0.85       334\n",
      "           3       1.00      0.98      0.99       585\n",
      "           4       1.00      0.96      0.98       647\n",
      "           5       0.99      0.98      0.99       248\n",
      "           6       0.98      0.98      0.98       791\n",
      "           7       0.97      0.99      0.98       530\n",
      "           8       0.91      0.95      0.93       285\n",
      "           9       0.99      0.98      0.98       521\n",
      "          10       0.83      0.94      0.88       394\n",
      "          11       0.97      0.90      0.93       346\n",
      "          12       0.93      0.88      0.91       268\n",
      "          13       0.97      0.74      0.84       417\n",
      "          14       0.85      0.80      0.83       230\n",
      "\n",
      "   micro avg       0.94      0.91      0.93      6417\n",
      "   macro avg       0.93      0.90      0.91      6417\n",
      "weighted avg       0.95      0.91      0.93      6417\n",
      " samples avg       0.93      0.93      0.92      6417\n",
      "\n",
      "F1 micro averaging: 0.9288822086860217\n",
      "ROC:  0.9551482985626187\n"
     ]
    }
   ],
   "source": [
    "from sklearn.preprocessing import MultiLabelBinarizer\n",
    "from sklearn.metrics import classification_report\n",
    "from sklearn.metrics import f1_score\n",
    "from sklearn.metrics import roc_auc_score\n",
    "\n",
    "mlb = MultiLabelBinarizer()\n",
    "\n",
    "y_true = mlb.fit_transform(preds_df['label'])\n",
    "y_pred = mlb.fit_transform(preds_df['result'])\n",
    "\n",
    "\n",
    "print(\"Classification report: \\n\", (classification_report(y_true, y_pred)))\n",
    "print(\"F1 micro averaging:\",(f1_score(y_true, y_pred, average='micro')))\n",
    "print(\"ROC: \",(roc_auc_score(y_true, y_pred, average=\"micro\")))\n"
   ]
  },
  {
   "cell_type": "markdown",
   "id": "Zsap0xaejFCX",
   "metadata": {
    "id": "Zsap0xaejFCX"
   },
   "source": [
    "### Saving & loading back the trained model"
   ]
  },
  {
   "cell_type": "code",
   "execution_count": 18,
   "id": "BQoJ_DHSjFCX",
   "metadata": {
    "colab": {
     "base_uri": "https://localhost:8080/"
    },
    "executionInfo": {
     "elapsed": 8,
     "status": "ok",
     "timestamp": 1664486716417,
     "user": {
      "displayName": "Monster C",
      "userId": "08787989274818793476"
     },
     "user_tz": -180
    },
    "id": "BQoJ_DHSjFCX",
    "outputId": "b6435077-58f3-4e8e-95c6-5a4e06831629"
   },
   "outputs": [
    {
     "data": {
      "text/plain": [
       "[DocumentAssembler_d8e9467dc46f,\n",
       " REGEX_TOKENIZER_9e07f01bddbf,\n",
       " BERT_EMBEDDINGS_29ce72cd673e,\n",
       " SentenceEmbeddings_d782500f40bc,\n",
       " MultiClassifierDLModel_e6b50a8d31be]"
      ]
     },
     "execution_count": 18,
     "metadata": {},
     "output_type": "execute_result"
    }
   ],
   "source": [
    "clf_pipelineModel.stages"
   ]
  },
  {
   "cell_type": "code",
   "execution_count": 19,
   "id": "3hKjHocZjFCY",
   "metadata": {
    "id": "3hKjHocZjFCY"
   },
   "outputs": [],
   "source": [
    "clf_pipelineModel.stages[-1].write().overwrite().save('MultilabelClfBert')"
   ]
  },
  {
   "cell_type": "code",
   "execution_count": 20,
   "id": "cXtTavvVjFCY",
   "metadata": {
    "id": "cXtTavvVjFCY"
   },
   "outputs": [],
   "source": [
    "# Load back  saved Multilabel Classifier Model\n",
    "MultilabelClfModel = nlp.MultiClassifierDLModel.load('MultilabelClfBert')"
   ]
  },
  {
   "cell_type": "code",
   "execution_count": 21,
   "id": "sxWzLYSgjFCY",
   "metadata": {
    "id": "sxWzLYSgjFCY"
   },
   "outputs": [],
   "source": [
    "ld_pipeline = Pipeline(stages=[document_assembler, tokenizer, embeddings, embeddingsSentence, MultilabelClfModel])\n",
    "ld_pipeline_model = ld_pipeline.fit(spark.createDataFrame([['']]).toDF(\"provision\"))"
   ]
  },
  {
   "cell_type": "code",
   "execution_count": 22,
   "id": "FKe7kDccjFCY",
   "metadata": {
    "id": "FKe7kDccjFCY"
   },
   "outputs": [],
   "source": [
    "# Apply Model Transform to testData\n",
    "ld_preds = ld_pipeline_model.transform(test)"
   ]
  },
  {
   "cell_type": "code",
   "execution_count": 23,
   "id": "pnZwf9MejFCY",
   "metadata": {
    "id": "pnZwf9MejFCY"
   },
   "outputs": [
    {
     "name": "stderr",
     "output_type": "stream",
     "text": [
      "22/10/20 10:26:23 WARN TaskSetManager: Stage 16 contains a task of very large size (1746 KiB). The maximum recommended task size is 1000 KiB.\n",
      "                                                                                \r"
     ]
    }
   ],
   "source": [
    "ld_preds_df = ld_preds.select('provision','label',\"class.result\").toPandas()"
   ]
  },
  {
   "cell_type": "code",
   "execution_count": 24,
   "id": "rWarQRPBjFCZ",
   "metadata": {
    "colab": {
     "base_uri": "https://localhost:8080/",
     "height": 363
    },
    "executionInfo": {
     "elapsed": 10,
     "status": "ok",
     "timestamp": 1664487613653,
     "user": {
      "displayName": "Monster C",
      "userId": "08787989274818793476"
     },
     "user_tz": -180
    },
    "id": "rWarQRPBjFCZ",
    "outputId": "c4ca01ef-106b-4864-dad5-5f8169dce696"
   },
   "outputs": [
    {
     "data": {
      "text/html": [
       "<div>\n",
       "<style scoped>\n",
       "    .dataframe tbody tr th:only-of-type {\n",
       "        vertical-align: middle;\n",
       "    }\n",
       "\n",
       "    .dataframe tbody tr th {\n",
       "        vertical-align: top;\n",
       "    }\n",
       "\n",
       "    .dataframe thead th {\n",
       "        text-align: right;\n",
       "    }\n",
       "</style>\n",
       "<table border=\"1\" class=\"dataframe\">\n",
       "  <thead>\n",
       "    <tr style=\"text-align: right;\">\n",
       "      <th></th>\n",
       "      <th>provision</th>\n",
       "      <th>label</th>\n",
       "      <th>result</th>\n",
       "    </tr>\n",
       "  </thead>\n",
       "  <tbody>\n",
       "    <tr>\n",
       "      <th>0</th>\n",
       "      <td>(a) No failure or delay by any Agent or any Le...</td>\n",
       "      <td>[waivers, amendments]</td>\n",
       "      <td>[waivers, amendments]</td>\n",
       "    </tr>\n",
       "    <tr>\n",
       "      <th>1</th>\n",
       "      <td>(a) Seller, the Agent, each Managing Agent, ea...</td>\n",
       "      <td>[assignments]</td>\n",
       "      <td>[assignments]</td>\n",
       "    </tr>\n",
       "    <tr>\n",
       "      <th>2</th>\n",
       "      <td>(a) Any provision of this Agreement may be wai...</td>\n",
       "      <td>[waivers]</td>\n",
       "      <td>[waivers]</td>\n",
       "    </tr>\n",
       "    <tr>\n",
       "      <th>3</th>\n",
       "      <td>(a) Except where telephonic instructions or no...</td>\n",
       "      <td>[notices]</td>\n",
       "      <td>[notices]</td>\n",
       "    </tr>\n",
       "    <tr>\n",
       "      <th>4</th>\n",
       "      <td>(a) THIS AGREEMENT AND EACH OTHER LOAN DOCUMEN...</td>\n",
       "      <td>[governing laws]</td>\n",
       "      <td>[governing laws]</td>\n",
       "    </tr>\n",
       "    <tr>\n",
       "      <th>5</th>\n",
       "      <td>(a) To induce the other parties hereto to ente...</td>\n",
       "      <td>[representations, warranties]</td>\n",
       "      <td>[warranties, representations]</td>\n",
       "    </tr>\n",
       "    <tr>\n",
       "      <th>6</th>\n",
       "      <td>A counterpart original of this Amendment duly ...</td>\n",
       "      <td>[amendments]</td>\n",
       "      <td>[]</td>\n",
       "    </tr>\n",
       "    <tr>\n",
       "      <th>7</th>\n",
       "      <td>Advisor represents that Advisor’s services und...</td>\n",
       "      <td>[representations]</td>\n",
       "      <td>[representations]</td>\n",
       "    </tr>\n",
       "    <tr>\n",
       "      <th>8</th>\n",
       "      <td>Agent may assign, indorse or transfer any inst...</td>\n",
       "      <td>[assignments]</td>\n",
       "      <td>[]</td>\n",
       "    </tr>\n",
       "    <tr>\n",
       "      <th>9</th>\n",
       "      <td>Agreement may be amended from time to time by ...</td>\n",
       "      <td>[amendments]</td>\n",
       "      <td>[amendments]</td>\n",
       "    </tr>\n",
       "  </tbody>\n",
       "</table>\n",
       "</div>"
      ],
      "text/plain": [
       "                                           provision  \\\n",
       "0  (a) No failure or delay by any Agent or any Le...   \n",
       "1  (a) Seller, the Agent, each Managing Agent, ea...   \n",
       "2  (a) Any provision of this Agreement may be wai...   \n",
       "3  (a) Except where telephonic instructions or no...   \n",
       "4  (a) THIS AGREEMENT AND EACH OTHER LOAN DOCUMEN...   \n",
       "5  (a) To induce the other parties hereto to ente...   \n",
       "6  A counterpart original of this Amendment duly ...   \n",
       "7  Advisor represents that Advisor’s services und...   \n",
       "8  Agent may assign, indorse or transfer any inst...   \n",
       "9  Agreement may be amended from time to time by ...   \n",
       "\n",
       "                           label                         result  \n",
       "0          [waivers, amendments]          [waivers, amendments]  \n",
       "1                  [assignments]                  [assignments]  \n",
       "2                      [waivers]                      [waivers]  \n",
       "3                      [notices]                      [notices]  \n",
       "4               [governing laws]               [governing laws]  \n",
       "5  [representations, warranties]  [warranties, representations]  \n",
       "6                   [amendments]                             []  \n",
       "7              [representations]              [representations]  \n",
       "8                  [assignments]                             []  \n",
       "9                   [amendments]                   [amendments]  "
      ]
     },
     "execution_count": 24,
     "metadata": {},
     "output_type": "execute_result"
    }
   ],
   "source": [
    "ld_preds_df.head(10)"
   ]
  },
  {
   "cell_type": "markdown",
   "id": "OxcsSYj_wA0p",
   "metadata": {
    "id": "OxcsSYj_wA0p"
   },
   "source": [
    "# Multiclass classifier training\n"
   ]
  },
  {
   "cell_type": "markdown",
   "id": "5qFM3Zueb50G",
   "metadata": {
    "id": "5qFM3Zueb50G"
   },
   "source": [
    "## Loading the data"
   ]
  },
  {
   "cell_type": "code",
   "execution_count": 25,
   "id": "UKwHNFrCMWMZ",
   "metadata": {
    "id": "UKwHNFrCMWMZ"
   },
   "outputs": [],
   "source": [
    "! wget -q https://raw.githubusercontent.com/JohnSnowLabs/spark-nlp-workshop/master/tutorials/Certification_Trainings_JSL/Finance/data/finance_clf_data.csv"
   ]
  },
  {
   "cell_type": "code",
   "execution_count": 26,
   "id": "FtXdRXNEb50G",
   "metadata": {
    "id": "FtXdRXNEb50G"
   },
   "outputs": [],
   "source": [
    "import pandas as pd\n",
    "df = pd.read_csv('./finance_clf_data.csv')"
   ]
  },
  {
   "cell_type": "code",
   "execution_count": 27,
   "id": "SWqOIj_pfEU5",
   "metadata": {
    "colab": {
     "base_uri": "https://localhost:8080/",
     "height": 206
    },
    "executionInfo": {
     "elapsed": 9,
     "status": "ok",
     "timestamp": 1664487614193,
     "user": {
      "displayName": "Monster C",
      "userId": "08787989274818793476"
     },
     "user_tz": -180
    },
    "id": "SWqOIj_pfEU5",
    "outputId": "0ab077e5-a503-4b7b-8ae6-1394a20c3983"
   },
   "outputs": [
    {
     "data": {
      "text/html": [
       "<div>\n",
       "<style scoped>\n",
       "    .dataframe tbody tr th:only-of-type {\n",
       "        vertical-align: middle;\n",
       "    }\n",
       "\n",
       "    .dataframe tbody tr th {\n",
       "        vertical-align: top;\n",
       "    }\n",
       "\n",
       "    .dataframe thead th {\n",
       "        text-align: right;\n",
       "    }\n",
       "</style>\n",
       "<table border=\"1\" class=\"dataframe\">\n",
       "  <thead>\n",
       "    <tr style=\"text-align: right;\">\n",
       "      <th></th>\n",
       "      <th>text</th>\n",
       "      <th>label</th>\n",
       "      <th>len</th>\n",
       "    </tr>\n",
       "  </thead>\n",
       "  <tbody>\n",
       "    <tr>\n",
       "      <th>0</th>\n",
       "      <td>Presently we do not believe any U S or State r...</td>\n",
       "      <td>business</td>\n",
       "      <td>402</td>\n",
       "    </tr>\n",
       "    <tr>\n",
       "      <th>1</th>\n",
       "      <td>\\nnetwork outages or performance degradation ...</td>\n",
       "      <td>risk_factors</td>\n",
       "      <td>496</td>\n",
       "    </tr>\n",
       "    <tr>\n",
       "      <th>2</th>\n",
       "      <td>Available Information\\nOur reports filed with ...</td>\n",
       "      <td>business</td>\n",
       "      <td>356</td>\n",
       "    </tr>\n",
       "    <tr>\n",
       "      <th>3</th>\n",
       "      <td>\\n 42 530\\n \\n \\n \\n \\n \\n 42 530\\nTotal liab...</td>\n",
       "      <td>financial_statements</td>\n",
       "      <td>359</td>\n",
       "    </tr>\n",
       "    <tr>\n",
       "      <th>4</th>\n",
       "      <td>8\\nTable of Contents\\ndevelopment employee eng...</td>\n",
       "      <td>business</td>\n",
       "      <td>582</td>\n",
       "    </tr>\n",
       "  </tbody>\n",
       "</table>\n",
       "</div>"
      ],
      "text/plain": [
       "                                                text                 label  \\\n",
       "0  Presently we do not believe any U S or State r...              business   \n",
       "1   \\nnetwork outages or performance degradation ...          risk_factors   \n",
       "2  Available Information\\nOur reports filed with ...              business   \n",
       "3   \\n 42 530\\n \\n \\n \\n \\n \\n 42 530\\nTotal liab...  financial_statements   \n",
       "4  8\\nTable of Contents\\ndevelopment employee eng...              business   \n",
       "\n",
       "   len  \n",
       "0  402  \n",
       "1  496  \n",
       "2  356  \n",
       "3  359  \n",
       "4  582  "
      ]
     },
     "execution_count": 27,
     "metadata": {},
     "output_type": "execute_result"
    }
   ],
   "source": [
    "df.head()"
   ]
  },
  {
   "cell_type": "code",
   "execution_count": 28,
   "id": "Ntfw_obpuf4A",
   "metadata": {
    "colab": {
     "base_uri": "https://localhost:8080/"
    },
    "executionInfo": {
     "elapsed": 9,
     "status": "ok",
     "timestamp": 1664487614194,
     "user": {
      "displayName": "Monster C",
      "userId": "08787989274818793476"
     },
     "user_tz": -180
    },
    "id": "Ntfw_obpuf4A",
    "outputId": "e5906dc6-6dfa-43e7-93ac-e2bae46c48bf"
   },
   "outputs": [
    {
     "data": {
      "text/plain": [
       "risk_factors               1926\n",
       "financial_statements       1888\n",
       "business                    970\n",
       "financial_conditions        346\n",
       "form_10k_summary            240\n",
       "executives_compensation     155\n",
       "controls_procedures         138\n",
       "equity                      111\n",
       "market_risk                 100\n",
       "executives                   73\n",
       "legal_proceedings            51\n",
       "properties                   48\n",
       "security_ownership           46\n",
       "exhibits                     36\n",
       "Name: label, dtype: int64"
      ]
     },
     "execution_count": 28,
     "metadata": {},
     "output_type": "execute_result"
    }
   ],
   "source": [
    "df['label'].value_counts()"
   ]
  },
  {
   "cell_type": "code",
   "execution_count": 29,
   "id": "Cmc91NU8b50H",
   "metadata": {
    "id": "Cmc91NU8b50H"
   },
   "outputs": [],
   "source": [
    "data = spark.createDataFrame(df)\n",
    "\n",
    "train, test = data.randomSplit([0.8, 0.2], seed = 100)"
   ]
  },
  {
   "cell_type": "code",
   "execution_count": 30,
   "id": "WEcXKSQTb50H",
   "metadata": {
    "colab": {
     "base_uri": "https://localhost:8080/"
    },
    "executionInfo": {
     "elapsed": 1015,
     "status": "ok",
     "timestamp": 1664487615673,
     "user": {
      "displayName": "Monster C",
      "userId": "08787989274818793476"
     },
     "user_tz": -180
    },
    "id": "WEcXKSQTb50H",
    "outputId": "74ad3493-a994-42c7-bbbf-297dd645d329"
   },
   "outputs": [
    {
     "name": "stdout",
     "output_type": "stream",
     "text": [
      "+--------------------+-----+\n",
      "|               label|count|\n",
      "+--------------------+-----+\n",
      "|        risk_factors| 1529|\n",
      "|financial_statements| 1491|\n",
      "|            business|  769|\n",
      "|financial_conditions|  267|\n",
      "|    form_10k_summary|  196|\n",
      "|executives_compen...|  128|\n",
      "| controls_procedures|  107|\n",
      "|              equity|   92|\n",
      "|         market_risk|   75|\n",
      "|          executives|   58|\n",
      "|          properties|   39|\n",
      "|   legal_proceedings|   36|\n",
      "|  security_ownership|   34|\n",
      "|            exhibits|   31|\n",
      "+--------------------+-----+\n",
      "\n"
     ]
    }
   ],
   "source": [
    "from pyspark.sql.functions import col\n",
    "\n",
    "train.groupBy(\"label\") \\\n",
    "    .count() \\\n",
    "    .orderBy(col(\"count\").desc()) \\\n",
    "    .show()"
   ]
  },
  {
   "cell_type": "code",
   "execution_count": 31,
   "id": "lDV9dGbRb50H",
   "metadata": {
    "colab": {
     "base_uri": "https://localhost:8080/"
    },
    "executionInfo": {
     "elapsed": 788,
     "status": "ok",
     "timestamp": 1664487616459,
     "user": {
      "displayName": "Monster C",
      "userId": "08787989274818793476"
     },
     "user_tz": -180
    },
    "id": "lDV9dGbRb50H",
    "outputId": "ce717fb5-20b5-4606-d5da-352470a33e89"
   },
   "outputs": [
    {
     "name": "stdout",
     "output_type": "stream",
     "text": [
      "+--------------------+-----+\n",
      "|               label|count|\n",
      "+--------------------+-----+\n",
      "|        risk_factors|  397|\n",
      "|financial_statements|  397|\n",
      "|            business|  201|\n",
      "|financial_conditions|   79|\n",
      "|    form_10k_summary|   44|\n",
      "| controls_procedures|   31|\n",
      "|executives_compen...|   27|\n",
      "|         market_risk|   25|\n",
      "|              equity|   19|\n",
      "|   legal_proceedings|   15|\n",
      "|          executives|   15|\n",
      "|  security_ownership|   12|\n",
      "|          properties|    9|\n",
      "|            exhibits|    5|\n",
      "+--------------------+-----+\n",
      "\n"
     ]
    }
   ],
   "source": [
    "from pyspark.sql.functions import col\n",
    "\n",
    "test.groupBy(\"label\") \\\n",
    "    .count() \\\n",
    "    .orderBy(col(\"count\").desc()) \\\n",
    "    .show()"
   ]
  },
  {
   "cell_type": "markdown",
   "id": "hrFio0xccT7J",
   "metadata": {
    "id": "hrFio0xccT7J"
   },
   "source": [
    " ## With Universal Encoder"
   ]
  },
  {
   "cell_type": "code",
   "execution_count": 32,
   "id": "o0muwDJ5cT7K",
   "metadata": {
    "colab": {
     "base_uri": "https://localhost:8080/"
    },
    "executionInfo": {
     "elapsed": 3426,
     "status": "ok",
     "timestamp": 1664487619881,
     "user": {
      "displayName": "Monster C",
      "userId": "08787989274818793476"
     },
     "user_tz": -180
    },
    "id": "o0muwDJ5cT7K",
    "outputId": "afebb546-783b-46f5-efb1-78e6c9c30ff9"
   },
   "outputs": [
    {
     "name": "stdout",
     "output_type": "stream",
     "text": [
      "tfhub_use download started this may take some time.\n",
      "Approximate size to download 923.7 MB\n",
      "[ | ]tfhub_use download started this may take some time.\n",
      "Approximate size to download 923.7 MB\n",
      "Download done! Loading the resource.\n",
      "[OK!]\n"
     ]
    }
   ],
   "source": [
    "document_assembler = nlp.DocumentAssembler() \\\n",
    "    .setInputCol(\"text\") \\\n",
    "    .setOutputCol(\"document\") \n",
    "\n",
    "embeddings = nlp.UniversalSentenceEncoder.pretrained() \\\n",
    "    .setInputCols(\"document\") \\\n",
    "    .setOutputCol(\"sentence_embeddings\")\n",
    "\n",
    "classsifierdl = finance.ClassifierDLApproach()\\\n",
    "    .setInputCols([\"sentence_embeddings\"])\\\n",
    "    .setOutputCol(\"class\")\\\n",
    "    .setLabelColumn(\"label\")\\\n",
    "    .setMaxEpochs(30)\\\n",
    "    .setEnableOutputLogs(True)\n",
    "\n",
    "clf_pipeline = Pipeline(\n",
    "    stages = [\n",
    "        document_assembler,\n",
    "        embeddings,\n",
    "        classsifierdl\n",
    "    ])"
   ]
  },
  {
   "cell_type": "code",
   "execution_count": 33,
   "id": "9Vb2VqzucT7M",
   "metadata": {
    "colab": {
     "base_uri": "https://localhost:8080/"
    },
    "executionInfo": {
     "elapsed": 43204,
     "status": "ok",
     "timestamp": 1664487664303,
     "user": {
      "displayName": "Monster C",
      "userId": "08787989274818793476"
     },
     "user_tz": -180
    },
    "id": "9Vb2VqzucT7M",
    "outputId": "848ababa-b067-4b93-d43d-1c851108bd7d"
   },
   "outputs": [
    {
     "name": "stderr",
     "output_type": "stream",
     "text": [
      "2022-10-20 10:32:20.794978: I external/org_tensorflow/tensorflow/cc/saved_model/reader.cc:43] Reading SavedModel from: /tmp/fd0bbcc448ad_classifier_dl5542219089775412824\n",
      "2022-10-20 10:32:20.899775: I external/org_tensorflow/tensorflow/cc/saved_model/reader.cc:107] Reading meta graph with tags { serve }\n",
      "2022-10-20 10:32:20.899835: I external/org_tensorflow/tensorflow/cc/saved_model/reader.cc:148] Reading SavedModel debug info (if present) from: /tmp/fd0bbcc448ad_classifier_dl5542219089775412824\n",
      "2022-10-20 10:32:21.613509: I external/org_tensorflow/tensorflow/cc/saved_model/loader.cc:228] Restoring SavedModel bundle.\n",
      "2022-10-20 10:32:22.699767: I external/org_tensorflow/tensorflow/cc/saved_model/loader.cc:212] Running initialization op on SavedModel bundle at path: /tmp/fd0bbcc448ad_classifier_dl5542219089775412824\n",
      "2022-10-20 10:32:22.936683: I external/org_tensorflow/tensorflow/cc/saved_model/loader.cc:301] SavedModel load for tags { serve }; Status: success: OK. Took 2141719 microseconds.\n"
     ]
    },
    {
     "name": "stdout",
     "output_type": "stream",
     "text": [
      "Training started - epochs: 30 - learning_rate: 0.005 - batch_size: 64 - training_examples: 4852 - classes: 14\n",
      "Epoch 1/30 - 0.78s - loss: 162.76936 - acc: 0.52030444 - batches: 76\n",
      "Epoch 2/30 - 0.34s - loss: 160.40976 - acc: 0.58634615 - batches: 76\n",
      "Epoch 3/30 - 0.32s - loss: 160.40503 - acc: 0.62735575 - batches: 76\n",
      "Epoch 4/30 - 0.32s - loss: 160.16975 - acc: 0.6813622 - batches: 76\n",
      "Epoch 5/30 - 0.31s - loss: 159.4101 - acc: 0.69032055 - batches: 76\n",
      "Epoch 6/30 - 0.31s - loss: 158.22449 - acc: 0.69261223 - batches: 76\n",
      "Epoch 7/30 - 0.31s - loss: 157.78584 - acc: 0.6992789 - batches: 76\n",
      "Epoch 8/30 - 0.30s - loss: 157.5914 - acc: 0.70245194 - batches: 76\n",
      "Epoch 9/30 - 0.31s - loss: 157.44997 - acc: 0.7037019 - batches: 76\n",
      "Epoch 10/30 - 0.31s - loss: 157.33437 - acc: 0.7062019 - batches: 76\n",
      "Epoch 11/30 - 0.31s - loss: 157.22273 - acc: 0.70745194 - batches: 76\n",
      "Epoch 12/30 - 0.31s - loss: 157.12648 - acc: 0.7082853 - batches: 76\n",
      "Epoch 13/30 - 0.30s - loss: 157.0501 - acc: 0.7091186 - batches: 76\n",
      "Epoch 14/30 - 0.31s - loss: 156.99776 - acc: 0.7097436 - batches: 76\n",
      "Epoch 15/30 - 0.32s - loss: 156.95703 - acc: 0.71078527 - batches: 76\n",
      "Epoch 16/30 - 0.30s - loss: 156.9222 - acc: 0.7109936 - batches: 76\n",
      "Epoch 17/30 - 0.30s - loss: 156.8928 - acc: 0.7112019 - batches: 76\n",
      "Epoch 18/30 - 0.31s - loss: 156.87193 - acc: 0.7116186 - batches: 76\n",
      "Epoch 19/30 - 0.32s - loss: 156.85645 - acc: 0.7122436 - batches: 76\n",
      "Epoch 20/30 - 0.31s - loss: 156.84651 - acc: 0.71266025 - batches: 76\n",
      "Epoch 21/30 - 0.31s - loss: 156.83939 - acc: 0.71307695 - batches: 76\n",
      "Epoch 22/30 - 0.32s - loss: 156.83368 - acc: 0.71328527 - batches: 76\n",
      "Epoch 23/30 - 0.33s - loss: 156.82658 - acc: 0.71370196 - batches: 76\n",
      "Epoch 24/30 - 0.31s - loss: 156.81891 - acc: 0.7139103 - batches: 76\n",
      "Epoch 25/30 - 0.31s - loss: 156.81032 - acc: 0.7141186 - batches: 76\n",
      "Epoch 26/30 - 0.32s - loss: 156.8021 - acc: 0.7143269 - batches: 76\n",
      "Epoch 27/30 - 0.31s - loss: 156.79227 - acc: 0.71479166 - batches: 76\n",
      "Epoch 28/30 - 0.31s - loss: 156.78363 - acc: 0.715 - batches: 76\n",
      "Epoch 29/30 - 0.32s - loss: 156.77399 - acc: 0.71520835 - batches: 76\n",
      "Epoch 30/30 - 0.32s - loss: 156.76486 - acc: 0.71541667 - batches: 76\n",
      "CPU times: user 75.9 ms, sys: 29.6 ms, total: 106 ms\n",
      "Wall time: 20.6 s\n"
     ]
    }
   ],
   "source": [
    "%%time\n",
    "clf_pipelineModel = clf_pipeline.fit(train)"
   ]
  },
  {
   "cell_type": "code",
   "execution_count": 34,
   "id": "jwlOFwwacT7O",
   "metadata": {
    "id": "jwlOFwwacT7O"
   },
   "outputs": [],
   "source": [
    "preds = clf_pipelineModel.transform(test)"
   ]
  },
  {
   "cell_type": "code",
   "execution_count": 35,
   "id": "ft1vm_0fcT7O",
   "metadata": {
    "colab": {
     "base_uri": "https://localhost:8080/",
     "height": 206
    },
    "executionInfo": {
     "elapsed": 4024,
     "status": "ok",
     "timestamp": 1664487668316,
     "user": {
      "displayName": "Monster C",
      "userId": "08787989274818793476"
     },
     "user_tz": -180
    },
    "id": "ft1vm_0fcT7O",
    "outputId": "9845e5fe-d30b-4813-c3df-b96a3d0316fa"
   },
   "outputs": [
    {
     "name": "stderr",
     "output_type": "stream",
     "text": [
      "                                                                                \r"
     ]
    },
    {
     "data": {
      "text/html": [
       "<div>\n",
       "<style scoped>\n",
       "    .dataframe tbody tr th:only-of-type {\n",
       "        vertical-align: middle;\n",
       "    }\n",
       "\n",
       "    .dataframe tbody tr th {\n",
       "        vertical-align: top;\n",
       "    }\n",
       "\n",
       "    .dataframe thead th {\n",
       "        text-align: right;\n",
       "    }\n",
       "</style>\n",
       "<table border=\"1\" class=\"dataframe\">\n",
       "  <thead>\n",
       "    <tr style=\"text-align: right;\">\n",
       "      <th></th>\n",
       "      <th>label</th>\n",
       "      <th>text</th>\n",
       "      <th>result</th>\n",
       "    </tr>\n",
       "  </thead>\n",
       "  <tbody>\n",
       "    <tr>\n",
       "      <th>0</th>\n",
       "      <td>risk_factors</td>\n",
       "      <td>\\n\\n \\n\\n\\nNet cash provided by operating acti...</td>\n",
       "      <td>[financial_statements]</td>\n",
       "    </tr>\n",
       "    <tr>\n",
       "      <th>1</th>\n",
       "      <td>financial_statements</td>\n",
       "      <td>\\n\\n\\n \\n \\n \\n Identification of the contrac...</td>\n",
       "      <td>[financial_statements]</td>\n",
       "    </tr>\n",
       "    <tr>\n",
       "      <th>2</th>\n",
       "      <td>form_10k_summary</td>\n",
       "      <td>\\n \\n \\n \\n \\n \\n \\n \\n \\n\\n\\n\\nGranted\\n\\n \\...</td>\n",
       "      <td>[financial_statements]</td>\n",
       "    </tr>\n",
       "    <tr>\n",
       "      <th>3</th>\n",
       "      <td>financial_statements</td>\n",
       "      <td>\\n \\n 120\\n \\n \\n \\n 202\\n \\n\\n\\n Net cash pr...</td>\n",
       "      <td>[financial_statements]</td>\n",
       "    </tr>\n",
       "    <tr>\n",
       "      <th>4</th>\n",
       "      <td>risk_factors</td>\n",
       "      <td>\\n \\nAn assertion by a third party that we ar...</td>\n",
       "      <td>[risk_factors]</td>\n",
       "    </tr>\n",
       "  </tbody>\n",
       "</table>\n",
       "</div>"
      ],
      "text/plain": [
       "                  label                                               text  \\\n",
       "0          risk_factors  \\n\\n \\n\\n\\nNet cash provided by operating acti...   \n",
       "1  financial_statements   \\n\\n\\n \\n \\n \\n Identification of the contrac...   \n",
       "2      form_10k_summary   \\n \\n \\n \\n \\n \\n \\n \\n \\n\\n\\n\\nGranted\\n\\n \\...   \n",
       "3  financial_statements   \\n \\n 120\\n \\n \\n \\n 202\\n \\n\\n\\n Net cash pr...   \n",
       "4          risk_factors   \\n \\nAn assertion by a third party that we ar...   \n",
       "\n",
       "                   result  \n",
       "0  [financial_statements]  \n",
       "1  [financial_statements]  \n",
       "2  [financial_statements]  \n",
       "3  [financial_statements]  \n",
       "4          [risk_factors]  "
      ]
     },
     "execution_count": 35,
     "metadata": {},
     "output_type": "execute_result"
    }
   ],
   "source": [
    "preds_df = preds.select('label','text',\"class.result\").toPandas()\n",
    "preds_df.head()"
   ]
  },
  {
   "cell_type": "code",
   "execution_count": 36,
   "id": "Oo0X1tyacT7P",
   "metadata": {
    "id": "Oo0X1tyacT7P"
   },
   "outputs": [],
   "source": [
    "# The result is an array since in Spark NLP you can have multiple sentences.\n",
    "# Let's explode the array and get the item(s) inside of result column out\n",
    "preds_df['result'] = preds_df['result'].apply(lambda x : x[0])"
   ]
  },
  {
   "cell_type": "code",
   "execution_count": 37,
   "id": "VOvxSG6Afz5d",
   "metadata": {
    "colab": {
     "base_uri": "https://localhost:8080/"
    },
    "executionInfo": {
     "elapsed": 9,
     "status": "ok",
     "timestamp": 1664487668317,
     "user": {
      "displayName": "Monster C",
      "userId": "08787989274818793476"
     },
     "user_tz": -180
    },
    "id": "VOvxSG6Afz5d",
    "outputId": "0c9876f4-8a48-4c06-996e-bcd86fe8631b"
   },
   "outputs": [
    {
     "name": "stdout",
     "output_type": "stream",
     "text": [
      "                         precision    recall  f1-score   support\n",
      "\n",
      "               business       0.71      0.70      0.71       201\n",
      "    controls_procedures       0.00      0.00      0.00        31\n",
      "                 equity       0.00      0.00      0.00        19\n",
      "             executives       0.00      0.00      0.00        15\n",
      "executives_compensation       0.00      0.00      0.00        27\n",
      "               exhibits       0.00      0.00      0.00         5\n",
      "   financial_conditions       0.00      0.00      0.00        79\n",
      "   financial_statements       0.63      0.93      0.75       397\n",
      "       form_10k_summary       0.00      0.00      0.00        44\n",
      "      legal_proceedings       0.00      0.00      0.00        15\n",
      "            market_risk       0.00      0.00      0.00        25\n",
      "             properties       0.00      0.00      0.00         9\n",
      "           risk_factors       0.72      0.88      0.79       397\n",
      "     security_ownership       0.00      0.00      0.00        12\n",
      "\n",
      "               accuracy                           0.67      1276\n",
      "              macro avg       0.15      0.18      0.16      1276\n",
      "           weighted avg       0.53      0.67      0.59      1276\n",
      "\n"
     ]
    }
   ],
   "source": [
    "# We are going to use sklearn to evalute the results on test dataset\n",
    "from sklearn.metrics import classification_report\n",
    "\n",
    "print (classification_report(preds_df['label'], preds_df['result']))"
   ]
  },
  {
   "cell_type": "markdown",
   "id": "IHzIfMSuUgiD",
   "metadata": {
    "id": "IHzIfMSuUgiD"
   },
   "source": [
    "### Saving & loading back the trained model"
   ]
  },
  {
   "cell_type": "code",
   "execution_count": 38,
   "id": "r5Tec2WwUhP1",
   "metadata": {
    "colab": {
     "base_uri": "https://localhost:8080/"
    },
    "executionInfo": {
     "elapsed": 6,
     "status": "ok",
     "timestamp": 1664487668317,
     "user": {
      "displayName": "Monster C",
      "userId": "08787989274818793476"
     },
     "user_tz": -180
    },
    "id": "r5Tec2WwUhP1",
    "outputId": "b4128c01-25d8-4c24-9166-0de355ff2856"
   },
   "outputs": [
    {
     "data": {
      "text/plain": [
       "[DocumentAssembler_12c836272c69,\n",
       " UNIVERSAL_SENTENCE_ENCODER_4de71669b7ec,\n",
       " FinanceClassifierDLModel_1ed3e72d50cd]"
      ]
     },
     "execution_count": 38,
     "metadata": {},
     "output_type": "execute_result"
    }
   ],
   "source": [
    "clf_pipelineModel.stages"
   ]
  },
  {
   "cell_type": "code",
   "execution_count": 39,
   "id": "4hjFsxVsUps_",
   "metadata": {
    "id": "4hjFsxVsUps_"
   },
   "outputs": [],
   "source": [
    "clf_pipelineModel.stages[-1].write().overwrite().save('Clf_Use')"
   ]
  },
  {
   "cell_type": "code",
   "execution_count": 40,
   "id": "UUdl5FoBbE5X",
   "metadata": {
    "id": "UUdl5FoBbE5X"
   },
   "outputs": [],
   "source": [
    "# Load back  saved Classifier Model\n",
    "ClfModel = finance.ClassifierDLModel.load('Clf_Use')"
   ]
  },
  {
   "cell_type": "code",
   "execution_count": 41,
   "id": "295Ip9xZcjU-",
   "metadata": {
    "id": "295Ip9xZcjU-"
   },
   "outputs": [],
   "source": [
    "ld_pipeline = Pipeline(stages=[document_assembler, embeddings,ClfModel])\n",
    "ld_pipeline_model = ld_pipeline.fit(spark.createDataFrame([['']]).toDF(\"text\"))"
   ]
  },
  {
   "cell_type": "code",
   "execution_count": 42,
   "id": "Gdm6mxvadFyj",
   "metadata": {
    "id": "Gdm6mxvadFyj"
   },
   "outputs": [],
   "source": [
    "# Apply Model Transform to testData\n",
    "ld_preds = ld_pipeline_model.transform(test)"
   ]
  },
  {
   "cell_type": "code",
   "execution_count": 43,
   "id": "aQYCSHcIdJbi",
   "metadata": {
    "id": "aQYCSHcIdJbi"
   },
   "outputs": [
    {
     "name": "stderr",
     "output_type": "stream",
     "text": [
      "                                                                                \r"
     ]
    }
   ],
   "source": [
    "ld_preds_df = ld_preds.select('text','label',\"class.result\").toPandas()"
   ]
  },
  {
   "cell_type": "code",
   "execution_count": 44,
   "id": "VZnsGh6YdVUf",
   "metadata": {
    "colab": {
     "base_uri": "https://localhost:8080/",
     "height": 206
    },
    "executionInfo": {
     "elapsed": 9,
     "status": "ok",
     "timestamp": 1664487674271,
     "user": {
      "displayName": "Monster C",
      "userId": "08787989274818793476"
     },
     "user_tz": -180
    },
    "id": "VZnsGh6YdVUf",
    "outputId": "9a21d9a8-611b-4c44-9f16-564be1c3e74a"
   },
   "outputs": [
    {
     "data": {
      "text/html": [
       "<div>\n",
       "<style scoped>\n",
       "    .dataframe tbody tr th:only-of-type {\n",
       "        vertical-align: middle;\n",
       "    }\n",
       "\n",
       "    .dataframe tbody tr th {\n",
       "        vertical-align: top;\n",
       "    }\n",
       "\n",
       "    .dataframe thead th {\n",
       "        text-align: right;\n",
       "    }\n",
       "</style>\n",
       "<table border=\"1\" class=\"dataframe\">\n",
       "  <thead>\n",
       "    <tr style=\"text-align: right;\">\n",
       "      <th></th>\n",
       "      <th>text</th>\n",
       "      <th>label</th>\n",
       "      <th>result</th>\n",
       "    </tr>\n",
       "  </thead>\n",
       "  <tbody>\n",
       "    <tr>\n",
       "      <th>0</th>\n",
       "      <td>\\n\\n \\n\\n\\nNet cash provided by operating acti...</td>\n",
       "      <td>risk_factors</td>\n",
       "      <td>[financial_statements]</td>\n",
       "    </tr>\n",
       "    <tr>\n",
       "      <th>1</th>\n",
       "      <td>\\n\\n\\n \\n \\n \\n Identification of the contrac...</td>\n",
       "      <td>financial_statements</td>\n",
       "      <td>[financial_statements]</td>\n",
       "    </tr>\n",
       "    <tr>\n",
       "      <th>2</th>\n",
       "      <td>\\n \\n \\n \\n \\n \\n \\n \\n \\n\\n\\n\\nGranted\\n\\n \\...</td>\n",
       "      <td>form_10k_summary</td>\n",
       "      <td>[financial_statements]</td>\n",
       "    </tr>\n",
       "    <tr>\n",
       "      <th>3</th>\n",
       "      <td>\\n \\n 120\\n \\n \\n \\n 202\\n \\n\\n\\n Net cash pr...</td>\n",
       "      <td>financial_statements</td>\n",
       "      <td>[financial_statements]</td>\n",
       "    </tr>\n",
       "    <tr>\n",
       "      <th>4</th>\n",
       "      <td>\\n \\nAn assertion by a third party that we ar...</td>\n",
       "      <td>risk_factors</td>\n",
       "      <td>[risk_factors]</td>\n",
       "    </tr>\n",
       "  </tbody>\n",
       "</table>\n",
       "</div>"
      ],
      "text/plain": [
       "                                                text                 label  \\\n",
       "0  \\n\\n \\n\\n\\nNet cash provided by operating acti...          risk_factors   \n",
       "1   \\n\\n\\n \\n \\n \\n Identification of the contrac...  financial_statements   \n",
       "2   \\n \\n \\n \\n \\n \\n \\n \\n \\n\\n\\n\\nGranted\\n\\n \\...      form_10k_summary   \n",
       "3   \\n \\n 120\\n \\n \\n \\n 202\\n \\n\\n\\n Net cash pr...  financial_statements   \n",
       "4   \\n \\nAn assertion by a third party that we ar...          risk_factors   \n",
       "\n",
       "                   result  \n",
       "0  [financial_statements]  \n",
       "1  [financial_statements]  \n",
       "2  [financial_statements]  \n",
       "3  [financial_statements]  \n",
       "4          [risk_factors]  "
      ]
     },
     "execution_count": 44,
     "metadata": {},
     "output_type": "execute_result"
    }
   ],
   "source": [
    "ld_preds_df.head()"
   ]
  },
  {
   "cell_type": "markdown",
   "id": "7kKWRZNu0lCL",
   "metadata": {
    "id": "7kKWRZNu0lCL"
   },
   "source": [
    "## With Bert Embeddings"
   ]
  },
  {
   "cell_type": "markdown",
   "id": "rHw4ikwLISTb",
   "metadata": {
    "id": "rHw4ikwLISTb"
   },
   "source": [
    "We do not have Financial Sentence Embeddings yet, But we can use the Financial Word Embeddings and then average them."
   ]
  },
  {
   "cell_type": "code",
   "execution_count": 60,
   "id": "oaiL-Txz0lCM",
   "metadata": {
    "colab": {
     "base_uri": "https://localhost:8080/"
    },
    "executionInfo": {
     "elapsed": 3511,
     "status": "ok",
     "timestamp": 1664487677776,
     "user": {
      "displayName": "Monster C",
      "userId": "08787989274818793476"
     },
     "user_tz": -180
    },
    "id": "oaiL-Txz0lCM",
    "outputId": "81086023-8a52-4acc-a549-18aa3b401ae3"
   },
   "outputs": [
    {
     "name": "stdout",
     "output_type": "stream",
     "text": [
      "bert_embeddings_sec_bert_base download started this may take some time.\n",
      "Approximate size to download 390.4 MB\n",
      "[OK!]\n"
     ]
    }
   ],
   "source": [
    "embeddings = nlp.BertEmbeddings.pretrained(\"bert_embeddings_sec_bert_base\",\"en\") \\\n",
    "    .setInputCols([\"document\", \"token\"]) \\\n",
    "    .setOutputCol(\"embeddings\")"
   ]
  },
  {
   "cell_type": "code",
   "execution_count": 61,
   "id": "l3jxCehJ0lCO",
   "metadata": {
    "id": "l3jxCehJ0lCO"
   },
   "outputs": [],
   "source": [
    "document_assembler = nlp.DocumentAssembler() \\\n",
    "    .setInputCol(\"text\") \\\n",
    "    .setOutputCol(\"document\")\n",
    "\n",
    "tokenizer = nlp.Tokenizer() \\\n",
    "    .setInputCols([\"document\"]) \\\n",
    "    .setOutputCol(\"token\")\n",
    "\n",
    "embeddingsSentence = nlp.SentenceEmbeddings() \\\n",
    "    .setInputCols([\"document\", \"embeddings\"]) \\\n",
    "    .setOutputCol(\"sentence_embeddings\") \\\n",
    "    .setPoolingStrategy(\"AVERAGE\")\n",
    "\n",
    "classsifierdl = finance.ClassifierDLApproach() \\\n",
    "    .setInputCols([\"sentence_embeddings\"]) \\\n",
    "    .setOutputCol(\"class\") \\\n",
    "    .setLabelColumn(\"label\")\\\n",
    "    .setMaxEpochs(8)\\\n",
    "    .setLr(0.0003)\\\n",
    "    .setEnableOutputLogs(True)\n",
    "\n",
    "clf_pipeline = Pipeline(\n",
    "    stages = [\n",
    "        document_assembler,\n",
    "        tokenizer,\n",
    "        embeddings,\n",
    "        embeddingsSentence,\n",
    "        classsifierdl\n",
    "    ])"
   ]
  },
  {
   "cell_type": "code",
   "execution_count": 62,
   "id": "W6qwSLYv0lCP",
   "metadata": {
    "colab": {
     "base_uri": "https://localhost:8080/"
    },
    "executionInfo": {
     "elapsed": 3020472,
     "status": "ok",
     "timestamp": 1664490698238,
     "user": {
      "displayName": "Monster C",
      "userId": "08787989274818793476"
     },
     "user_tz": -180
    },
    "id": "W6qwSLYv0lCP",
    "outputId": "89b429b9-1357-4188-94c0-89e7a026dd54"
   },
   "outputs": [
    {
     "name": "stderr",
     "output_type": "stream",
     "text": [
      "2022-10-20 11:09:47.108826: I external/org_tensorflow/tensorflow/cc/saved_model/reader.cc:43] Reading SavedModel from: /tmp/b92e6dda2a49_classifier_dl9053818733325333302\n",
      "2022-10-20 11:09:47.237424: I external/org_tensorflow/tensorflow/cc/saved_model/reader.cc:107] Reading meta graph with tags { serve }\n",
      "2022-10-20 11:09:47.237482: I external/org_tensorflow/tensorflow/cc/saved_model/reader.cc:148] Reading SavedModel debug info (if present) from: /tmp/b92e6dda2a49_classifier_dl9053818733325333302\n",
      "2022-10-20 11:09:47.914353: I external/org_tensorflow/tensorflow/cc/saved_model/loader.cc:228] Restoring SavedModel bundle.\n",
      "2022-10-20 11:09:48.782802: I external/org_tensorflow/tensorflow/cc/saved_model/loader.cc:212] Running initialization op on SavedModel bundle at path: /tmp/b92e6dda2a49_classifier_dl9053818733325333302\n",
      "2022-10-20 11:09:49.001339: I external/org_tensorflow/tensorflow/cc/saved_model/loader.cc:301] SavedModel load for tags { serve }; Status: success: OK. Took 1892526 microseconds.\n"
     ]
    },
    {
     "name": "stdout",
     "output_type": "stream",
     "text": [
      "Training started - epochs: 8 - learning_rate: 3.0E-4 - batch_size: 64 - training_examples: 4852 - classes: 14\n",
      "Epoch 1/8 - 0.77s - loss: 168.7488 - acc: 0.55785257 - batches: 76\n",
      "Epoch 2/8 - 0.31s - loss: 158.28677 - acc: 0.6030609 - batches: 76\n",
      "Epoch 3/8 - 0.31s - loss: 157.80093 - acc: 0.60722756 - batches: 76\n",
      "Epoch 4/8 - 0.31s - loss: 157.63396 - acc: 0.60977566 - batches: 76\n",
      "Epoch 5/8 - 0.32s - loss: 157.5247 - acc: 0.610609 - batches: 76\n",
      "Epoch 6/8 - 0.33s - loss: 157.43472 - acc: 0.61185896 - batches: 76\n",
      "Epoch 7/8 - 0.32s - loss: 157.36235 - acc: 0.61185896 - batches: 76\n",
      "Epoch 8/8 - 0.31s - loss: 157.30675 - acc: 0.61227566 - batches: 76\n",
      "CPU times: user 140 ms, sys: 40.3 ms, total: 180 ms\n",
      "Wall time: 8min 20s\n"
     ]
    }
   ],
   "source": [
    "%%time\n",
    "clf_pipelineModel = clf_pipeline.fit(train)"
   ]
  },
  {
   "cell_type": "code",
   "execution_count": 63,
   "id": "IEK22MWg0lCQ",
   "metadata": {
    "id": "IEK22MWg0lCQ"
   },
   "outputs": [],
   "source": [
    "preds = clf_pipelineModel.transform(test)"
   ]
  },
  {
   "cell_type": "code",
   "execution_count": 64,
   "id": "0QMopvFG0lCQ",
   "metadata": {
    "id": "0QMopvFG0lCQ"
   },
   "outputs": [
    {
     "name": "stderr",
     "output_type": "stream",
     "text": [
      "                                                                                \r"
     ]
    }
   ],
   "source": [
    "preds_df = preds.select('label','text',\"class.result\").toPandas()"
   ]
  },
  {
   "cell_type": "code",
   "execution_count": 65,
   "id": "ADdEhII40lCR",
   "metadata": {
    "colab": {
     "base_uri": "https://localhost:8080/",
     "height": 206
    },
    "executionInfo": {
     "elapsed": 18,
     "status": "ok",
     "timestamp": 1664491078637,
     "user": {
      "displayName": "Monster C",
      "userId": "08787989274818793476"
     },
     "user_tz": -180
    },
    "id": "ADdEhII40lCR",
    "outputId": "adcb2b08-6ec7-488d-ba73-cd98a1ec28d8"
   },
   "outputs": [
    {
     "data": {
      "text/html": [
       "<div>\n",
       "<style scoped>\n",
       "    .dataframe tbody tr th:only-of-type {\n",
       "        vertical-align: middle;\n",
       "    }\n",
       "\n",
       "    .dataframe tbody tr th {\n",
       "        vertical-align: top;\n",
       "    }\n",
       "\n",
       "    .dataframe thead th {\n",
       "        text-align: right;\n",
       "    }\n",
       "</style>\n",
       "<table border=\"1\" class=\"dataframe\">\n",
       "  <thead>\n",
       "    <tr style=\"text-align: right;\">\n",
       "      <th></th>\n",
       "      <th>label</th>\n",
       "      <th>text</th>\n",
       "      <th>result</th>\n",
       "    </tr>\n",
       "  </thead>\n",
       "  <tbody>\n",
       "    <tr>\n",
       "      <th>0</th>\n",
       "      <td>risk_factors</td>\n",
       "      <td>\\n\\n \\n\\n\\nNet cash provided by operating acti...</td>\n",
       "      <td>[financial_statements]</td>\n",
       "    </tr>\n",
       "    <tr>\n",
       "      <th>1</th>\n",
       "      <td>financial_statements</td>\n",
       "      <td>\\n\\n\\n \\n \\n \\n Identification of the contrac...</td>\n",
       "      <td>[financial_statements]</td>\n",
       "    </tr>\n",
       "    <tr>\n",
       "      <th>2</th>\n",
       "      <td>form_10k_summary</td>\n",
       "      <td>\\n \\n \\n \\n \\n \\n \\n \\n \\n\\n\\n\\nGranted\\n\\n \\...</td>\n",
       "      <td>[financial_statements]</td>\n",
       "    </tr>\n",
       "    <tr>\n",
       "      <th>3</th>\n",
       "      <td>financial_statements</td>\n",
       "      <td>\\n \\n 120\\n \\n \\n \\n 202\\n \\n\\n\\n Net cash pr...</td>\n",
       "      <td>[financial_statements]</td>\n",
       "    </tr>\n",
       "    <tr>\n",
       "      <th>4</th>\n",
       "      <td>risk_factors</td>\n",
       "      <td>\\n \\nAn assertion by a third party that we ar...</td>\n",
       "      <td>[risk_factors]</td>\n",
       "    </tr>\n",
       "  </tbody>\n",
       "</table>\n",
       "</div>"
      ],
      "text/plain": [
       "                  label                                               text  \\\n",
       "0          risk_factors  \\n\\n \\n\\n\\nNet cash provided by operating acti...   \n",
       "1  financial_statements   \\n\\n\\n \\n \\n \\n Identification of the contrac...   \n",
       "2      form_10k_summary   \\n \\n \\n \\n \\n \\n \\n \\n \\n\\n\\n\\nGranted\\n\\n \\...   \n",
       "3  financial_statements   \\n \\n 120\\n \\n \\n \\n 202\\n \\n\\n\\n Net cash pr...   \n",
       "4          risk_factors   \\n \\nAn assertion by a third party that we ar...   \n",
       "\n",
       "                   result  \n",
       "0  [financial_statements]  \n",
       "1  [financial_statements]  \n",
       "2  [financial_statements]  \n",
       "3  [financial_statements]  \n",
       "4          [risk_factors]  "
      ]
     },
     "execution_count": 65,
     "metadata": {},
     "output_type": "execute_result"
    }
   ],
   "source": [
    "preds_df.head()"
   ]
  },
  {
   "cell_type": "code",
   "execution_count": 66,
   "id": "wvc6vZjH0lCS",
   "metadata": {
    "colab": {
     "base_uri": "https://localhost:8080/"
    },
    "executionInfo": {
     "elapsed": 16,
     "status": "ok",
     "timestamp": 1664491078638,
     "user": {
      "displayName": "Monster C",
      "userId": "08787989274818793476"
     },
     "user_tz": -180
    },
    "id": "wvc6vZjH0lCS",
    "outputId": "758762fb-2ada-4d46-fea5-42685a104dae"
   },
   "outputs": [
    {
     "name": "stdout",
     "output_type": "stream",
     "text": [
      "                         precision    recall  f1-score   support\n",
      "\n",
      "               business       0.00      0.00      0.00       201\n",
      "    controls_procedures       0.00      0.00      0.00        31\n",
      "                 equity       0.00      0.00      0.00        19\n",
      "             executives       0.00      0.00      0.00        15\n",
      "executives_compensation       0.00      0.00      0.00        27\n",
      "               exhibits       0.00      0.00      0.00         5\n",
      "   financial_conditions       0.00      0.00      0.00        79\n",
      "   financial_statements       0.59      0.97      0.73       397\n",
      "       form_10k_summary       0.00      0.00      0.00        44\n",
      "      legal_proceedings       0.00      0.00      0.00        15\n",
      "            market_risk       0.00      0.00      0.00        25\n",
      "             properties       0.00      0.00      0.00         9\n",
      "           risk_factors       0.60      0.95      0.74       397\n",
      "     security_ownership       0.00      0.00      0.00        12\n",
      "\n",
      "               accuracy                           0.60      1276\n",
      "              macro avg       0.09      0.14      0.11      1276\n",
      "           weighted avg       0.37      0.60      0.46      1276\n",
      "\n"
     ]
    }
   ],
   "source": [
    "# Let's explode the array and get the item(s) inside of result column out\n",
    "preds_df['result'] = preds_df['result'].apply(lambda x : x[0])\n",
    "\n",
    "from sklearn.metrics import classification_report\n",
    "\n",
    "print (classification_report(preds_df['label'], preds_df['result']))\n"
   ]
  },
  {
   "cell_type": "markdown",
   "id": "rMHZmT9_deAQ",
   "metadata": {
    "id": "rMHZmT9_deAQ"
   },
   "source": [
    "# Save model and Zip it for Modelshub Upload/Downloads"
   ]
  },
  {
   "cell_type": "code",
   "execution_count": 69,
   "id": "QZ79YbdodfFc",
   "metadata": {
    "colab": {
     "base_uri": "https://localhost:8080/"
    },
    "executionInfo": {
     "elapsed": 2776,
     "status": "ok",
     "timestamp": 1664491081400,
     "user": {
      "displayName": "Monster C",
      "userId": "08787989274818793476"
     },
     "user_tz": -180
    },
    "id": "QZ79YbdodfFc",
    "outputId": "92c2c408-38bc-423d-c587-9de66485b9cd"
   },
   "outputs": [],
   "source": [
    "# Save a Spark NLP model\n",
    "clf_pipelineModel.stages[-1].write().overwrite().save('ClfBert')\n"
   ]
  },
  {
   "cell_type": "code",
   "execution_count": 70,
   "id": "7b051e5e-79c0-4b85-ab52-4460ab9950da",
   "metadata": {},
   "outputs": [
    {
     "data": {
      "text/plain": [
       "'/home/ubuntu/notebooks/examples/finance/ClfBert.zip'"
      ]
     },
     "execution_count": 70,
     "metadata": {},
     "output_type": "execute_result"
    }
   ],
   "source": [
    "import shutil\n",
    "\n",
    "shutil.make_archive('ClfBert', 'zip', 'ClfBert')"
   ]
  },
  {
   "cell_type": "code",
   "execution_count": null,
   "id": "3d14d5ef-d021-47d4-b4d1-579e2593a8a6",
   "metadata": {},
   "outputs": [],
   "source": []
  }
 ],
 "metadata": {
  "accelerator": "GPU",
  "colab": {
   "collapsed_sections": [],
   "machine_shape": "hm",
   "provenance": [],
   "toc_visible": true
  },
  "kernelspec": {
   "display_name": "Python 3 (ipykernel)",
   "language": "python",
   "name": "python3"
  },
  "language_info": {
   "codemirror_mode": {
    "name": "ipython",
    "version": 3
   },
   "file_extension": ".py",
   "mimetype": "text/x-python",
   "name": "python",
   "nbconvert_exporter": "python",
   "pygments_lexer": "ipython3",
   "version": "3.8.10"
  }
 },
 "nbformat": 4,
 "nbformat_minor": 5
}

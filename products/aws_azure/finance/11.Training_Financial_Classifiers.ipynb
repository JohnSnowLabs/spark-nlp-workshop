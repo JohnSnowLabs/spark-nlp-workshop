{
 "cells": [
  {
   "attachments": {},
   "cell_type": "markdown",
   "id": "wxZDXLDCXkk_",
   "metadata": {
    "id": "wxZDXLDCXkk_"
   },
   "source": [
    "\n",
    "![JohnSnowLabs](https://nlp.johnsnowlabs.com/assets/images/logo.png)\n",
    "\n",
    "\n",
    "\n"
   ]
  },
  {
   "attachments": {},
   "cell_type": "markdown",
   "id": "KLqW6FOnEvov",
   "metadata": {
    "id": "KLqW6FOnEvov"
   },
   "source": [
    "# Train Domain-specific Multiclass and Multilabel classifiers"
   ]
  },
  {
   "attachments": {},
   "cell_type": "markdown",
   "id": "4e0b1fe4-db3c-48a6-a333-66d37d1f4b9f",
   "metadata": {
    "id": "okhT7AcXxben"
   },
   "source": [
    "## Setup"
   ]
  },
  {
   "cell_type": "code",
   "execution_count": null,
   "id": "13479c93-6441-4288-af74-42ef41742841",
   "metadata": {
    "colab": {
     "base_uri": "https://localhost:8080/"
    },
    "executionInfo": {
     "elapsed": 115199,
     "status": "ok",
     "timestamp": 1664816113389,
     "user": {
      "displayName": "Damla",
      "userId": "03285166568766987047"
     },
     "user_tz": -120
    },
    "id": "dmcB5zVBHZO8",
    "outputId": "cd366e47-7f4d-457a-dfe5-3ed5174d4a0c"
   },
   "outputs": [],
   "source": [
    "from johnsnowlabs import *\n",
    "\n",
    "import pandas as pd\n",
    "import json\n",
    "import os\n",
    "\n",
    "spark = start_spark()"
   ]
  },
  {
   "attachments": {},
   "cell_type": "markdown",
   "id": "MulDEC2j4ly3",
   "metadata": {
    "id": "MulDEC2j4ly3"
   },
   "source": [
    "# Multilabel classifier training"
   ]
  },
  {
   "attachments": {},
   "cell_type": "markdown",
   "id": "BhKlxMBWH9-Z",
   "metadata": {
    "id": "BhKlxMBWH9-Z"
   },
   "source": [
    "## Loading the data"
   ]
  },
  {
   "cell_type": "code",
   "execution_count": null,
   "id": "chcpskuvMK8Y",
   "metadata": {
    "id": "chcpskuvMK8Y"
   },
   "outputs": [],
   "source": [
    "! wget -q https://raw.githubusercontent.com/JohnSnowLabs/spark-nlp-workshop/master/finance-nlp/data/finance_data.csv"
   ]
  },
  {
   "cell_type": "code",
   "execution_count": null,
   "id": "gaRulasEKZK3",
   "metadata": {
    "id": "gaRulasEKZK3"
   },
   "outputs": [],
   "source": [
    "df = pd.read_csv('./finance_data.csv')\n",
    "df['label'] = df['label'].apply(eval)"
   ]
  },
  {
   "cell_type": "code",
   "execution_count": null,
   "id": "bUFO8usqKt2Z",
   "metadata": {
    "id": "bUFO8usqKt2Z"
   },
   "outputs": [],
   "source": [
    "data = spark.createDataFrame(df)\n",
    "\n",
    "# If you have a single dataset, then split it or else you can load the test dataset the same way that you load the train data.\n",
    "train, test = data.randomSplit([0.8, 0.2], seed = 123)"
   ]
  },
  {
   "cell_type": "code",
   "execution_count": null,
   "id": "bowhz89ZbN1C",
   "metadata": {
    "colab": {
     "base_uri": "https://localhost:8080/"
    },
    "executionInfo": {
     "elapsed": 2303,
     "status": "ok",
     "timestamp": 1664478285083,
     "user": {
      "displayName": "Monster C",
      "userId": "08787989274818793476"
     },
     "user_tz": -180
    },
    "id": "bowhz89ZbN1C",
    "outputId": "c8d5c081-2a4b-48b4-be85-78d725829314"
   },
   "outputs": [],
   "source": [
    "train.show(truncate=50)"
   ]
  },
  {
   "cell_type": "code",
   "execution_count": null,
   "id": "RZ0xy9hpebLe",
   "metadata": {
    "colab": {
     "base_uri": "https://localhost:8080/"
    },
    "executionInfo": {
     "elapsed": 3463,
     "status": "ok",
     "timestamp": 1664478290189,
     "user": {
      "displayName": "Monster C",
      "userId": "08787989274818793476"
     },
     "user_tz": -180
    },
    "id": "RZ0xy9hpebLe",
    "outputId": "39f22911-18a8-48f0-98d9-a80b58b8a5ee"
   },
   "outputs": [],
   "source": [
    "from pyspark.sql.functions import col\n",
    "\n",
    "test.groupBy(\"label\") \\\n",
    "    .count() \\\n",
    "    .orderBy(col(\"count\").desc()) \\\n",
    "    .show()"
   ]
  },
  {
   "attachments": {},
   "cell_type": "markdown",
   "id": "78sjKvMKcHdn",
   "metadata": {
    "id": "78sjKvMKcHdn"
   },
   "source": [
    " ## With Universal Encoder"
   ]
  },
  {
   "cell_type": "code",
   "execution_count": null,
   "id": "oFl9orR5LrUu",
   "metadata": {
    "colab": {
     "base_uri": "https://localhost:8080/"
    },
    "executionInfo": {
     "elapsed": 249453,
     "status": "ok",
     "timestamp": 1664478549798,
     "user": {
      "displayName": "Monster C",
      "userId": "08787989274818793476"
     },
     "user_tz": -180
    },
    "id": "oFl9orR5LrUu",
    "outputId": "1e0de40d-25bc-4c37-8f55-7f7dfec9a5d2"
   },
   "outputs": [],
   "source": [
    "document_assembler = nlp.DocumentAssembler() \\\n",
    "    .setInputCol(\"provision\") \\\n",
    "    .setOutputCol(\"document\") \\\n",
    "    .setCleanupMode(\"shrink\")\n",
    "\n",
    "embeddings = nlp.UniversalSentenceEncoder.pretrained() \\\n",
    "      .setInputCols(\"document\") \\\n",
    "      .setOutputCol(\"sentence_embeddings\")\n",
    "\n",
    "classsifierdl = nlp.MultiClassifierDLApproach()\\\n",
    "      .setInputCols([\"sentence_embeddings\"])\\\n",
    "      .setOutputCol(\"class\")\\\n",
    "      .setLabelColumn(\"label\")\\\n",
    "      .setMaxEpochs(30)\\\n",
    "      .setEnableOutputLogs(True)\n",
    "\n",
    "clf_pipeline = nlp.Pipeline(stages = [\n",
    "        document_assembler,\n",
    "        embeddings,\n",
    "        classsifierdl\n",
    "    ])"
   ]
  },
  {
   "cell_type": "code",
   "execution_count": null,
   "id": "8kcgVr07MUss",
   "metadata": {
    "id": "8kcgVr07MUss"
   },
   "outputs": [],
   "source": [
    "%%time\n",
    "clf_pipelineModel = clf_pipeline.fit(train)"
   ]
  },
  {
   "cell_type": "code",
   "execution_count": null,
   "id": "cwf0OM2Oy6Hd",
   "metadata": {
    "id": "cwf0OM2Oy6Hd"
   },
   "outputs": [],
   "source": [
    "preds = clf_pipelineModel.transform(test)"
   ]
  },
  {
   "cell_type": "code",
   "execution_count": null,
   "id": "jUKamU-50kZi",
   "metadata": {
    "colab": {
     "base_uri": "https://localhost:8080/",
     "height": 206
    },
    "executionInfo": {
     "elapsed": 23545,
     "status": "ok",
     "timestamp": 1664478795291,
     "user": {
      "displayName": "Monster C",
      "userId": "08787989274818793476"
     },
     "user_tz": -180
    },
    "id": "jUKamU-50kZi",
    "outputId": "586c6368-6937-4aff-a2ed-f29291e41d65"
   },
   "outputs": [],
   "source": [
    "preds_df = preds.select('label','provision',\"class.result\").toPandas()\n",
    "preds_df.head()"
   ]
  },
  {
   "cell_type": "code",
   "execution_count": null,
   "id": "uWVj5TsSbmRE",
   "metadata": {
    "colab": {
     "base_uri": "https://localhost:8080/"
    },
    "executionInfo": {
     "elapsed": 6,
     "status": "ok",
     "timestamp": 1664478795291,
     "user": {
      "displayName": "Monster C",
      "userId": "08787989274818793476"
     },
     "user_tz": -180
    },
    "id": "uWVj5TsSbmRE",
    "outputId": "ee8a1360-4d33-4d8d-a0f1-da74dbd6a08f"
   },
   "outputs": [],
   "source": [
    "from sklearn.preprocessing import MultiLabelBinarizer\n",
    "from sklearn.metrics import classification_report\n",
    "from sklearn.metrics import f1_score\n",
    "from sklearn.metrics import roc_auc_score\n",
    "\n",
    "mlb = MultiLabelBinarizer()\n",
    "\n",
    "y_true = mlb.fit_transform(preds_df['label'])\n",
    "y_pred = mlb.fit_transform(preds_df['result'])\n",
    "\n",
    "\n",
    "print(\"Classification report: \\n\", (classification_report(y_true, y_pred)))\n",
    "print(\"F1 micro averaging:\",(f1_score(y_true, y_pred, average='micro')))\n",
    "print(\"ROC: \",(roc_auc_score(y_true, y_pred, average=\"micro\")))\n"
   ]
  },
  {
   "attachments": {},
   "cell_type": "markdown",
   "id": "jWhU1pMUay0I",
   "metadata": {
    "id": "jWhU1pMUay0I"
   },
   "source": [
    "## With Bert Embeddings"
   ]
  },
  {
   "attachments": {},
   "cell_type": "markdown",
   "id": "bHVFY_i4H5Gh",
   "metadata": {
    "id": "bHVFY_i4H5Gh"
   },
   "source": [
    "We do not have have any specific Financial Sentence Embeddings, but we can use Financial Bert Embeddings and then average them."
   ]
  },
  {
   "cell_type": "code",
   "execution_count": null,
   "id": "8PG4NNyQdBnG",
   "metadata": {
    "colab": {
     "base_uri": "https://localhost:8080/"
    },
    "executionInfo": {
     "elapsed": 29076,
     "status": "ok",
     "timestamp": 1664478824364,
     "user": {
      "displayName": "Monster C",
      "userId": "08787989274818793476"
     },
     "user_tz": -180
    },
    "id": "8PG4NNyQdBnG",
    "outputId": "bf89b696-c199-4437-db98-ccd329d9059a"
   },
   "outputs": [],
   "source": [
    "embeddings = nlp.BertEmbeddings.pretrained(\"bert_embeddings_sec_bert_base\",\"en\") \\\n",
    "          .setInputCols([\"document\", \"token\"]) \\\n",
    "          .setOutputCol(\"embeddings\")"
   ]
  },
  {
   "cell_type": "code",
   "execution_count": null,
   "id": "zdiCyuc3dBnJ",
   "metadata": {
    "id": "zdiCyuc3dBnJ"
   },
   "outputs": [],
   "source": [
    "document_assembler = nlp.DocumentAssembler() \\\n",
    "    .setInputCol(\"provision\") \\\n",
    "    .setOutputCol(\"document\")\n",
    "\n",
    "tokenizer = nlp.Tokenizer() \\\n",
    "    .setInputCols([\"document\"]) \\\n",
    "    .setOutputCol(\"token\")\n",
    "\n",
    "embeddingsSentence = nlp.SentenceEmbeddings() \\\n",
    "    .setInputCols([\"document\", \"embeddings\"]) \\\n",
    "    .setOutputCol(\"sentence_embeddings\") \\\n",
    "    .setPoolingStrategy(\"AVERAGE\")\n",
    "\n",
    "classsifierdl = nlp.MultiClassifierDLApproach() \\\n",
    "    .setInputCols([\"sentence_embeddings\"]) \\\n",
    "    .setOutputCol(\"class\") \\\n",
    "    .setLabelColumn(\"label\")\\\n",
    "    .setMaxEpochs(8)\\\n",
    "    .setEnableOutputLogs(True)\n",
    "\n",
    "clf_pipeline = nlp.Pipeline(stages = [\n",
    "        document_assembler,\n",
    "        tokenizer,\n",
    "        embeddings,\n",
    "        embeddingsSentence,\n",
    "        classsifierdl\n",
    "    ])"
   ]
  },
  {
   "cell_type": "code",
   "execution_count": null,
   "id": "7fxOmkTNdBnK",
   "metadata": {
    "colab": {
     "base_uri": "https://localhost:8080/"
    },
    "executionInfo": {
     "elapsed": 7002397,
     "status": "ok",
     "timestamp": 1664485827983,
     "user": {
      "displayName": "Monster C",
      "userId": "08787989274818793476"
     },
     "user_tz": -180
    },
    "id": "7fxOmkTNdBnK",
    "outputId": "89e5ccf5-6cb2-447f-a3de-62f0aa672037",
    "tags": []
   },
   "outputs": [],
   "source": [
    "%%time\n",
    "clf_pipelineModel = clf_pipeline.fit(train)"
   ]
  },
  {
   "cell_type": "code",
   "execution_count": null,
   "id": "Y-YfOWrudBnM",
   "metadata": {
    "id": "Y-YfOWrudBnM"
   },
   "outputs": [],
   "source": [
    "preds = clf_pipelineModel.transform(test)"
   ]
  },
  {
   "cell_type": "code",
   "execution_count": null,
   "id": "9VfIUz3IdBnN",
   "metadata": {
    "id": "9VfIUz3IdBnN"
   },
   "outputs": [],
   "source": [
    "preds_df = preds.select('provision','label',\"class.result\").toPandas()"
   ]
  },
  {
   "cell_type": "code",
   "execution_count": null,
   "id": "vT2kdFLsdBnN",
   "metadata": {
    "colab": {
     "base_uri": "https://localhost:8080/",
     "height": 206
    },
    "executionInfo": {
     "elapsed": 16,
     "status": "ok",
     "timestamp": 1664486716416,
     "user": {
      "displayName": "Monster C",
      "userId": "08787989274818793476"
     },
     "user_tz": -180
    },
    "id": "vT2kdFLsdBnN",
    "outputId": "7654d318-2cac-425f-fe94-ea3fa93cae2b"
   },
   "outputs": [],
   "source": [
    "preds_df.head()"
   ]
  },
  {
   "cell_type": "code",
   "execution_count": null,
   "id": "GJKWrIpOYLW_",
   "metadata": {
    "colab": {
     "base_uri": "https://localhost:8080/"
    },
    "executionInfo": {
     "elapsed": 10,
     "status": "ok",
     "timestamp": 1664486716417,
     "user": {
      "displayName": "Monster C",
      "userId": "08787989274818793476"
     },
     "user_tz": -180
    },
    "id": "GJKWrIpOYLW_",
    "outputId": "aec38b54-2996-416f-bf3b-3b83bae3490d"
   },
   "outputs": [],
   "source": [
    "from sklearn.preprocessing import MultiLabelBinarizer\n",
    "from sklearn.metrics import classification_report\n",
    "from sklearn.metrics import f1_score\n",
    "from sklearn.metrics import roc_auc_score\n",
    "\n",
    "mlb = MultiLabelBinarizer()\n",
    "\n",
    "y_true = mlb.fit_transform(preds_df['label'])\n",
    "y_pred = mlb.fit_transform(preds_df['result'])\n",
    "\n",
    "\n",
    "print(\"Classification report: \\n\", (classification_report(y_true, y_pred)))\n",
    "print(\"F1 micro averaging:\",(f1_score(y_true, y_pred, average='micro')))\n",
    "print(\"ROC: \",(roc_auc_score(y_true, y_pred, average=\"micro\")))\n"
   ]
  },
  {
   "attachments": {},
   "cell_type": "markdown",
   "id": "Zsap0xaejFCX",
   "metadata": {
    "id": "Zsap0xaejFCX"
   },
   "source": [
    "### Saving & loading back the trained model"
   ]
  },
  {
   "cell_type": "code",
   "execution_count": null,
   "id": "BQoJ_DHSjFCX",
   "metadata": {
    "colab": {
     "base_uri": "https://localhost:8080/"
    },
    "executionInfo": {
     "elapsed": 8,
     "status": "ok",
     "timestamp": 1664486716417,
     "user": {
      "displayName": "Monster C",
      "userId": "08787989274818793476"
     },
     "user_tz": -180
    },
    "id": "BQoJ_DHSjFCX",
    "outputId": "b6435077-58f3-4e8e-95c6-5a4e06831629"
   },
   "outputs": [],
   "source": [
    "clf_pipelineModel.stages"
   ]
  },
  {
   "cell_type": "code",
   "execution_count": null,
   "id": "3hKjHocZjFCY",
   "metadata": {
    "id": "3hKjHocZjFCY"
   },
   "outputs": [],
   "source": [
    "clf_pipelineModel.stages[-1].write().overwrite().save('MultilabelClfBert')"
   ]
  },
  {
   "cell_type": "code",
   "execution_count": null,
   "id": "cXtTavvVjFCY",
   "metadata": {
    "id": "cXtTavvVjFCY"
   },
   "outputs": [],
   "source": [
    "# Load back  saved Multilabel Classifier Model\n",
    "MultilabelClfModel = nlp.MultiClassifierDLModel.load('MultilabelClfBert')"
   ]
  },
  {
   "cell_type": "code",
   "execution_count": null,
   "id": "sxWzLYSgjFCY",
   "metadata": {
    "id": "sxWzLYSgjFCY"
   },
   "outputs": [],
   "source": [
    "ld_pipeline = nlp.Pipeline(stages=[document_assembler, tokenizer, embeddings, embeddingsSentence, MultilabelClfModel])\n",
    "ld_pipeline_model = ld_pipeline.fit(spark.createDataFrame([['']]).toDF(\"provision\"))"
   ]
  },
  {
   "cell_type": "code",
   "execution_count": null,
   "id": "FKe7kDccjFCY",
   "metadata": {
    "id": "FKe7kDccjFCY"
   },
   "outputs": [],
   "source": [
    "# Apply Model Transform to testData\n",
    "ld_preds = ld_pipeline_model.transform(test)"
   ]
  },
  {
   "cell_type": "code",
   "execution_count": null,
   "id": "pnZwf9MejFCY",
   "metadata": {
    "id": "pnZwf9MejFCY"
   },
   "outputs": [],
   "source": [
    "ld_preds_df = ld_preds.select('provision','label',\"class.result\").toPandas()"
   ]
  },
  {
   "cell_type": "code",
   "execution_count": null,
   "id": "rWarQRPBjFCZ",
   "metadata": {
    "colab": {
     "base_uri": "https://localhost:8080/",
     "height": 363
    },
    "executionInfo": {
     "elapsed": 10,
     "status": "ok",
     "timestamp": 1664487613653,
     "user": {
      "displayName": "Monster C",
      "userId": "08787989274818793476"
     },
     "user_tz": -180
    },
    "id": "rWarQRPBjFCZ",
    "outputId": "c4ca01ef-106b-4864-dad5-5f8169dce696"
   },
   "outputs": [],
   "source": [
    "ld_preds_df.head(10)"
   ]
  },
  {
   "attachments": {},
   "cell_type": "markdown",
   "id": "OxcsSYj_wA0p",
   "metadata": {
    "id": "OxcsSYj_wA0p"
   },
   "source": [
    "# Multiclass classifier training\n"
   ]
  },
  {
   "attachments": {},
   "cell_type": "markdown",
   "id": "5qFM3Zueb50G",
   "metadata": {
    "id": "5qFM3Zueb50G"
   },
   "source": [
    "## Loading the data"
   ]
  },
  {
   "cell_type": "code",
   "execution_count": null,
   "id": "UKwHNFrCMWMZ",
   "metadata": {
    "id": "UKwHNFrCMWMZ"
   },
   "outputs": [],
   "source": [
    "! wget -q https://raw.githubusercontent.com/JohnSnowLabs/spark-nlp-workshop/master/finance-nlp/data/finance_clf_data.csv"
   ]
  },
  {
   "cell_type": "code",
   "execution_count": null,
   "id": "FtXdRXNEb50G",
   "metadata": {
    "id": "FtXdRXNEb50G"
   },
   "outputs": [],
   "source": [
    "import pandas as pd\n",
    "df = pd.read_csv('./finance_clf_data.csv')"
   ]
  },
  {
   "cell_type": "code",
   "execution_count": null,
   "id": "SWqOIj_pfEU5",
   "metadata": {
    "colab": {
     "base_uri": "https://localhost:8080/",
     "height": 206
    },
    "executionInfo": {
     "elapsed": 9,
     "status": "ok",
     "timestamp": 1664487614193,
     "user": {
      "displayName": "Monster C",
      "userId": "08787989274818793476"
     },
     "user_tz": -180
    },
    "id": "SWqOIj_pfEU5",
    "outputId": "0ab077e5-a503-4b7b-8ae6-1394a20c3983"
   },
   "outputs": [],
   "source": [
    "df.head()"
   ]
  },
  {
   "cell_type": "code",
   "execution_count": null,
   "id": "Ntfw_obpuf4A",
   "metadata": {
    "colab": {
     "base_uri": "https://localhost:8080/"
    },
    "executionInfo": {
     "elapsed": 9,
     "status": "ok",
     "timestamp": 1664487614194,
     "user": {
      "displayName": "Monster C",
      "userId": "08787989274818793476"
     },
     "user_tz": -180
    },
    "id": "Ntfw_obpuf4A",
    "outputId": "e5906dc6-6dfa-43e7-93ac-e2bae46c48bf"
   },
   "outputs": [],
   "source": [
    "df['label'].value_counts()"
   ]
  },
  {
   "cell_type": "code",
   "execution_count": null,
   "id": "Cmc91NU8b50H",
   "metadata": {
    "id": "Cmc91NU8b50H"
   },
   "outputs": [],
   "source": [
    "data = spark.createDataFrame(df)\n",
    "\n",
    "train, test = data.randomSplit([0.90, 0.1], seed = 42)"
   ]
  },
  {
   "cell_type": "code",
   "execution_count": null,
   "id": "WEcXKSQTb50H",
   "metadata": {
    "colab": {
     "base_uri": "https://localhost:8080/"
    },
    "executionInfo": {
     "elapsed": 1015,
     "status": "ok",
     "timestamp": 1664487615673,
     "user": {
      "displayName": "Monster C",
      "userId": "08787989274818793476"
     },
     "user_tz": -180
    },
    "id": "WEcXKSQTb50H",
    "outputId": "74ad3493-a994-42c7-bbbf-297dd645d329"
   },
   "outputs": [],
   "source": [
    "from pyspark.sql.functions import col\n",
    "\n",
    "train.groupBy(\"label\") \\\n",
    "    .count() \\\n",
    "    .orderBy(col(\"count\").desc()) \\\n",
    "    .show()"
   ]
  },
  {
   "cell_type": "code",
   "execution_count": null,
   "id": "lDV9dGbRb50H",
   "metadata": {
    "colab": {
     "base_uri": "https://localhost:8080/"
    },
    "executionInfo": {
     "elapsed": 788,
     "status": "ok",
     "timestamp": 1664487616459,
     "user": {
      "displayName": "Monster C",
      "userId": "08787989274818793476"
     },
     "user_tz": -180
    },
    "id": "lDV9dGbRb50H",
    "outputId": "ce717fb5-20b5-4606-d5da-352470a33e89"
   },
   "outputs": [],
   "source": [
    "from pyspark.sql.functions import col\n",
    "\n",
    "test.groupBy(\"label\") \\\n",
    "    .count() \\\n",
    "    .orderBy(col(\"count\").desc()) \\\n",
    "    .show()"
   ]
  },
  {
   "attachments": {},
   "cell_type": "markdown",
   "id": "hrFio0xccT7J",
   "metadata": {
    "id": "hrFio0xccT7J"
   },
   "source": [
    " ## With Universal Encoder"
   ]
  },
  {
   "cell_type": "code",
   "execution_count": null,
   "id": "o0muwDJ5cT7K",
   "metadata": {
    "colab": {
     "base_uri": "https://localhost:8080/"
    },
    "executionInfo": {
     "elapsed": 3426,
     "status": "ok",
     "timestamp": 1664487619881,
     "user": {
      "displayName": "Monster C",
      "userId": "08787989274818793476"
     },
     "user_tz": -180
    },
    "id": "o0muwDJ5cT7K",
    "outputId": "afebb546-783b-46f5-efb1-78e6c9c30ff9"
   },
   "outputs": [],
   "source": [
    "document_assembler = nlp.DocumentAssembler() \\\n",
    "    .setInputCol(\"text\") \\\n",
    "    .setOutputCol(\"document\") \n",
    "\n",
    "embeddings = nlp.UniversalSentenceEncoder.pretrained() \\\n",
    "    .setInputCols(\"document\") \\\n",
    "    .setOutputCol(\"sentence_embeddings\")\n",
    "\n",
    "classsifierdl = finance.ClassifierDLApproach()\\\n",
    "    .setInputCols([\"sentence_embeddings\"])\\\n",
    "    .setOutputCol(\"class\")\\\n",
    "    .setLabelColumn(\"label\")\\\n",
    "    .setMaxEpochs(30)\\\n",
    "    .setEnableOutputLogs(True)\n",
    "\n",
    "clf_pipeline = nlp.Pipeline(\n",
    "    stages = [\n",
    "        document_assembler,\n",
    "        embeddings,\n",
    "        classsifierdl\n",
    "    ])"
   ]
  },
  {
   "cell_type": "code",
   "execution_count": null,
   "id": "9Vb2VqzucT7M",
   "metadata": {
    "colab": {
     "base_uri": "https://localhost:8080/"
    },
    "executionInfo": {
     "elapsed": 43204,
     "status": "ok",
     "timestamp": 1664487664303,
     "user": {
      "displayName": "Monster C",
      "userId": "08787989274818793476"
     },
     "user_tz": -180
    },
    "id": "9Vb2VqzucT7M",
    "outputId": "848ababa-b067-4b93-d43d-1c851108bd7d"
   },
   "outputs": [],
   "source": [
    "%%time\n",
    "clf_pipelineModel = clf_pipeline.fit(train)"
   ]
  },
  {
   "cell_type": "code",
   "execution_count": null,
   "id": "jwlOFwwacT7O",
   "metadata": {
    "id": "jwlOFwwacT7O"
   },
   "outputs": [],
   "source": [
    "preds = clf_pipelineModel.transform(test)"
   ]
  },
  {
   "cell_type": "code",
   "execution_count": null,
   "id": "ft1vm_0fcT7O",
   "metadata": {
    "colab": {
     "base_uri": "https://localhost:8080/",
     "height": 206
    },
    "executionInfo": {
     "elapsed": 4024,
     "status": "ok",
     "timestamp": 1664487668316,
     "user": {
      "displayName": "Monster C",
      "userId": "08787989274818793476"
     },
     "user_tz": -180
    },
    "id": "ft1vm_0fcT7O",
    "outputId": "9845e5fe-d30b-4813-c3df-b96a3d0316fa"
   },
   "outputs": [],
   "source": [
    "preds_df = preds.select('label','text',\"class.result\").toPandas()\n",
    "preds_df.head()"
   ]
  },
  {
   "cell_type": "code",
   "execution_count": null,
   "id": "Oo0X1tyacT7P",
   "metadata": {
    "id": "Oo0X1tyacT7P"
   },
   "outputs": [],
   "source": [
    "# The result is an array since in Spark NLP you can have multiple sentences.\n",
    "# Let's explode the array and get the item(s) inside of result column out\n",
    "preds_df['result'] = preds_df['result'].apply(lambda x : x[0])"
   ]
  },
  {
   "cell_type": "code",
   "execution_count": null,
   "id": "VOvxSG6Afz5d",
   "metadata": {
    "colab": {
     "base_uri": "https://localhost:8080/"
    },
    "executionInfo": {
     "elapsed": 9,
     "status": "ok",
     "timestamp": 1664487668317,
     "user": {
      "displayName": "Monster C",
      "userId": "08787989274818793476"
     },
     "user_tz": -180
    },
    "id": "VOvxSG6Afz5d",
    "outputId": "0c9876f4-8a48-4c06-996e-bcd86fe8631b"
   },
   "outputs": [],
   "source": [
    "# We are going to use sklearn to evalute the results on test dataset\n",
    "from sklearn.metrics import classification_report\n",
    "\n",
    "print (classification_report(preds_df['label'], preds_df['result']))"
   ]
  },
  {
   "attachments": {},
   "cell_type": "markdown",
   "id": "IHzIfMSuUgiD",
   "metadata": {
    "id": "IHzIfMSuUgiD"
   },
   "source": [
    "### Saving & loading back the trained model"
   ]
  },
  {
   "cell_type": "code",
   "execution_count": null,
   "id": "r5Tec2WwUhP1",
   "metadata": {
    "colab": {
     "base_uri": "https://localhost:8080/"
    },
    "executionInfo": {
     "elapsed": 6,
     "status": "ok",
     "timestamp": 1664487668317,
     "user": {
      "displayName": "Monster C",
      "userId": "08787989274818793476"
     },
     "user_tz": -180
    },
    "id": "r5Tec2WwUhP1",
    "outputId": "b4128c01-25d8-4c24-9166-0de355ff2856"
   },
   "outputs": [],
   "source": [
    "clf_pipelineModel.stages"
   ]
  },
  {
   "cell_type": "code",
   "execution_count": null,
   "id": "4hjFsxVsUps_",
   "metadata": {
    "id": "4hjFsxVsUps_"
   },
   "outputs": [],
   "source": [
    "clf_pipelineModel.stages[-1].write().overwrite().save('Clf_Use')"
   ]
  },
  {
   "cell_type": "code",
   "execution_count": null,
   "id": "UUdl5FoBbE5X",
   "metadata": {
    "id": "UUdl5FoBbE5X"
   },
   "outputs": [],
   "source": [
    "# Load back  saved Classifier Model\n",
    "ClfModel = finance.ClassifierDLModel.load('Clf_Use')"
   ]
  },
  {
   "cell_type": "code",
   "execution_count": null,
   "id": "295Ip9xZcjU-",
   "metadata": {
    "id": "295Ip9xZcjU-"
   },
   "outputs": [],
   "source": [
    "ld_pipeline = nlp.Pipeline(stages=[document_assembler, embeddings,ClfModel])\n",
    "ld_pipeline_model = ld_pipeline.fit(spark.createDataFrame([['']]).toDF(\"text\"))"
   ]
  },
  {
   "cell_type": "code",
   "execution_count": null,
   "id": "Gdm6mxvadFyj",
   "metadata": {
    "id": "Gdm6mxvadFyj"
   },
   "outputs": [],
   "source": [
    "# Apply Model Transform to testData\n",
    "ld_preds = ld_pipeline_model.transform(test)"
   ]
  },
  {
   "cell_type": "code",
   "execution_count": null,
   "id": "aQYCSHcIdJbi",
   "metadata": {
    "id": "aQYCSHcIdJbi"
   },
   "outputs": [],
   "source": [
    "ld_preds_df = ld_preds.select('text','label',\"class.result\").toPandas()"
   ]
  },
  {
   "cell_type": "code",
   "execution_count": null,
   "id": "VZnsGh6YdVUf",
   "metadata": {
    "colab": {
     "base_uri": "https://localhost:8080/",
     "height": 206
    },
    "executionInfo": {
     "elapsed": 9,
     "status": "ok",
     "timestamp": 1664487674271,
     "user": {
      "displayName": "Monster C",
      "userId": "08787989274818793476"
     },
     "user_tz": -180
    },
    "id": "VZnsGh6YdVUf",
    "outputId": "9a21d9a8-611b-4c44-9f16-564be1c3e74a"
   },
   "outputs": [],
   "source": [
    "ld_preds_df.head()"
   ]
  },
  {
   "attachments": {},
   "cell_type": "markdown",
   "id": "7kKWRZNu0lCL",
   "metadata": {
    "id": "7kKWRZNu0lCL"
   },
   "source": [
    "## With Bert Embeddings"
   ]
  },
  {
   "attachments": {},
   "cell_type": "markdown",
   "id": "rHw4ikwLISTb",
   "metadata": {
    "id": "rHw4ikwLISTb"
   },
   "source": [
    "We do not have Financial Sentence Embeddings yet, But we can use the Financial Word Embeddings and then average them."
   ]
  },
  {
   "cell_type": "code",
   "execution_count": null,
   "id": "l3jxCehJ0lCO",
   "metadata": {
    "id": "l3jxCehJ0lCO"
   },
   "outputs": [],
   "source": [
    "document_assembler = nlp.DocumentAssembler() \\\n",
    "    .setInputCol(\"text\") \\\n",
    "    .setOutputCol(\"document\")\n",
    "\n",
    "tokenizer = nlp.Tokenizer() \\\n",
    "    .setInputCols([\"document\"]) \\\n",
    "    .setOutputCol(\"token\")\n",
    "\n",
    "embeddings = nlp.BertEmbeddings.pretrained(\"bert_embeddings_sec_bert_base\",\"en\") \\\n",
    "    .setInputCols([\"document\", \"token\"]) \\\n",
    "    .setOutputCol(\"embeddings\")\n",
    "\n",
    "embeddingsSentence = nlp.SentenceEmbeddings() \\\n",
    "    .setInputCols([\"document\", \"embeddings\"]) \\\n",
    "    .setOutputCol(\"sentence_embeddings\") \\\n",
    "    .setPoolingStrategy(\"AVERAGE\")\n",
    "\n",
    "classsifierdl = finance.ClassifierDLApproach() \\\n",
    "    .setInputCols([\"sentence_embeddings\"]) \\\n",
    "    .setOutputCol(\"class\") \\\n",
    "    .setLabelColumn(\"label\")\\\n",
    "    .setMaxEpochs(8)\\\n",
    "    .setLr(0.0003)\\\n",
    "    .setEnableOutputLogs(True)\n",
    "\n",
    "clf_pipeline = nlp.Pipeline(stages = [\n",
    "        document_assembler,\n",
    "        tokenizer,\n",
    "        embeddings,\n",
    "        embeddingsSentence,\n",
    "        classsifierdl\n",
    "    ])"
   ]
  },
  {
   "cell_type": "code",
   "execution_count": null,
   "id": "W6qwSLYv0lCP",
   "metadata": {
    "colab": {
     "base_uri": "https://localhost:8080/"
    },
    "executionInfo": {
     "elapsed": 3020472,
     "status": "ok",
     "timestamp": 1664490698238,
     "user": {
      "displayName": "Monster C",
      "userId": "08787989274818793476"
     },
     "user_tz": -180
    },
    "id": "W6qwSLYv0lCP",
    "outputId": "89b429b9-1357-4188-94c0-89e7a026dd54"
   },
   "outputs": [],
   "source": [
    "%%time\n",
    "clf_pipelineModel = clf_pipeline.fit(train)"
   ]
  },
  {
   "cell_type": "code",
   "execution_count": null,
   "id": "IEK22MWg0lCQ",
   "metadata": {
    "id": "IEK22MWg0lCQ"
   },
   "outputs": [],
   "source": [
    "preds = clf_pipelineModel.transform(test)"
   ]
  },
  {
   "cell_type": "code",
   "execution_count": null,
   "id": "0QMopvFG0lCQ",
   "metadata": {
    "id": "0QMopvFG0lCQ"
   },
   "outputs": [],
   "source": [
    "preds_df = preds.select('label','text',\"class.result\").toPandas()"
   ]
  },
  {
   "cell_type": "code",
   "execution_count": null,
   "id": "ADdEhII40lCR",
   "metadata": {
    "colab": {
     "base_uri": "https://localhost:8080/",
     "height": 206
    },
    "executionInfo": {
     "elapsed": 18,
     "status": "ok",
     "timestamp": 1664491078637,
     "user": {
      "displayName": "Monster C",
      "userId": "08787989274818793476"
     },
     "user_tz": -180
    },
    "id": "ADdEhII40lCR",
    "outputId": "adcb2b08-6ec7-488d-ba73-cd98a1ec28d8"
   },
   "outputs": [],
   "source": [
    "preds_df.head()"
   ]
  },
  {
   "cell_type": "code",
   "execution_count": null,
   "id": "wvc6vZjH0lCS",
   "metadata": {
    "colab": {
     "base_uri": "https://localhost:8080/"
    },
    "executionInfo": {
     "elapsed": 16,
     "status": "ok",
     "timestamp": 1664491078638,
     "user": {
      "displayName": "Monster C",
      "userId": "08787989274818793476"
     },
     "user_tz": -180
    },
    "id": "wvc6vZjH0lCS",
    "outputId": "758762fb-2ada-4d46-fea5-42685a104dae"
   },
   "outputs": [],
   "source": [
    "# Let's explode the array and get the item(s) inside of result column out\n",
    "preds_df['result'] = preds_df['result'].apply(lambda x : x[0])\n",
    "\n",
    "from sklearn.metrics import classification_report\n",
    "\n",
    "print (classification_report(preds_df['label'], preds_df['result']))\n"
   ]
  },
  {
   "attachments": {},
   "cell_type": "markdown",
   "id": "rMHZmT9_deAQ",
   "metadata": {
    "id": "rMHZmT9_deAQ"
   },
   "source": [
    "# Save model and Zip it for Modelshub Upload/Downloads"
   ]
  },
  {
   "cell_type": "code",
   "execution_count": null,
   "id": "QZ79YbdodfFc",
   "metadata": {
    "colab": {
     "base_uri": "https://localhost:8080/"
    },
    "executionInfo": {
     "elapsed": 2776,
     "status": "ok",
     "timestamp": 1664491081400,
     "user": {
      "displayName": "Monster C",
      "userId": "08787989274818793476"
     },
     "user_tz": -180
    },
    "id": "QZ79YbdodfFc",
    "outputId": "92c2c408-38bc-423d-c587-9de66485b9cd"
   },
   "outputs": [],
   "source": [
    "# Save a Spark NLP model\n",
    "clf_pipelineModel.stages[-1].write().overwrite().save('ClfBert')\n"
   ]
  },
  {
   "cell_type": "code",
   "execution_count": null,
   "id": "7b051e5e-79c0-4b85-ab52-4460ab9950da",
   "metadata": {},
   "outputs": [],
   "source": [
    "import shutil\n",
    "\n",
    "shutil.make_archive('ClfBert', 'zip', 'ClfBert')"
   ]
  },
  {
   "cell_type": "code",
   "execution_count": null,
   "id": "3d14d5ef-d021-47d4-b4d1-579e2593a8a6",
   "metadata": {},
   "outputs": [],
   "source": []
  },
  {
   "cell_type": "code",
   "execution_count": null,
   "id": "220ed228-26f6-43b0-9c48-eb7699c9c94f",
   "metadata": {},
   "outputs": [],
   "source": []
  },
  {
   "cell_type": "code",
   "execution_count": null,
   "id": "7bbcfc71-169a-451e-b7e3-fb4710907f9f",
   "metadata": {},
   "outputs": [],
   "source": []
  }
 ],
 "metadata": {
  "accelerator": "GPU",
  "colab": {
   "collapsed_sections": [],
   "machine_shape": "hm",
   "provenance": [],
   "toc_visible": true
  },
  "kernelspec": {
   "display_name": "jsl4.2.3",
   "language": "python",
   "name": "jsl4.2.3"
  },
  "language_info": {
   "codemirror_mode": {
    "name": "ipython",
    "version": 3
   },
   "file_extension": ".py",
   "mimetype": "text/x-python",
   "name": "python",
   "nbconvert_exporter": "python",
   "pygments_lexer": "ipython3",
   "version": "3.8.10"
  }
 },
 "nbformat": 4,
 "nbformat_minor": 5
}

{
 "cells": [
  {
   "cell_type": "markdown",
   "id": "wxZDXLDCXkk_",
   "metadata": {
    "id": "wxZDXLDCXkk_"
   },
   "source": [
    "\n",
    "![JohnSnowLabs](https://nlp.johnsnowlabs.com/assets/images/logo.png)\n",
    "\n",
    "\n",
    "\n"
   ]
  },
  {
   "cell_type": "markdown",
   "id": "KLqW6FOnEvov",
   "metadata": {
    "id": "KLqW6FOnEvov"
   },
   "source": [
    "# Train Domain-specific Multiclass and Multilabel classifiers"
   ]
  },
  {
   "cell_type": "markdown",
   "id": "4e0b1fe4-db3c-48a6-a333-66d37d1f4b9f",
   "metadata": {
    "id": "okhT7AcXxben"
   },
   "source": [
    "## Setup"
   ]
  },
  {
   "cell_type": "code",
   "execution_count": null,
   "id": "13479c93-6441-4288-af74-42ef41742841",
   "metadata": {
    "colab": {
     "base_uri": "https://localhost:8080/"
    },
    "executionInfo": {
     "elapsed": 115199,
     "status": "ok",
     "timestamp": 1664816113389,
     "user": {
      "displayName": "Damla",
      "userId": "03285166568766987047"
     },
     "user_tz": -120
    },
    "id": "dmcB5zVBHZO8",
    "outputId": "cd366e47-7f4d-457a-dfe5-3ed5174d4a0c"
   },
   "outputs": [],
   "source": [
    "from johnsnowlabs import *\n",
    "\n",
    "import pandas as pd\n",
    "import json\n",
    "import os\n",
    "\n",
    "spark = start_spark()"
   ]
  },
  {
   "cell_type": "markdown",
   "id": "MulDEC2j4ly3",
   "metadata": {
    "id": "MulDEC2j4ly3"
   },
   "source": [
    "# Multilabel classifier training"
   ]
  },
  {
   "cell_type": "markdown",
   "id": "BhKlxMBWH9-Z",
   "metadata": {
    "id": "BhKlxMBWH9-Z"
   },
   "source": [
    "## Loading the data"
   ]
  },
  {
   "cell_type": "code",
   "execution_count": 2,
   "id": "chcpskuvMK8Y",
   "metadata": {
    "id": "chcpskuvMK8Y"
   },
   "outputs": [],
   "source": [
    "! wget -q https://raw.githubusercontent.com/JohnSnowLabs/spark-nlp-workshop/master/tutorials/Certification_Trainings_JSL/Finance/data/finance_data.csv"
   ]
  },
  {
   "cell_type": "code",
   "execution_count": 3,
   "id": "gaRulasEKZK3",
   "metadata": {
    "id": "gaRulasEKZK3"
   },
   "outputs": [],
   "source": [
    "df = pd.read_csv('./finance_data.csv')\n",
    "df['label'] = df['label'].apply(eval)"
   ]
  },
  {
   "cell_type": "code",
   "execution_count": 4,
   "id": "bUFO8usqKt2Z",
   "metadata": {
    "id": "bUFO8usqKt2Z"
   },
   "outputs": [],
   "source": [
    "data = spark.createDataFrame(df)\n",
    "\n",
    "# If you have a single dataset, then split it or else you can load the test dataset the same way that you load the train data.\n",
    "train, test = data.randomSplit([0.8, 0.2], seed = 123)"
   ]
  },
  {
   "cell_type": "code",
   "execution_count": 5,
   "id": "bowhz89ZbN1C",
   "metadata": {
    "colab": {
     "base_uri": "https://localhost:8080/"
    },
    "executionInfo": {
     "elapsed": 2303,
     "status": "ok",
     "timestamp": 1664478285083,
     "user": {
      "displayName": "Monster C",
      "userId": "08787989274818793476"
     },
     "user_tz": -180
    },
    "id": "bowhz89ZbN1C",
    "outputId": "c8d5c081-2a4b-48b4-be85-78d725829314"
   },
   "outputs": [
    {
     "name": "stderr",
     "output_type": "stream",
     "text": [
      "22/12/12 14:37:11 WARN TaskSetManager: Stage 0 contains a task of very large size (1746 KiB). The maximum recommended task size is 1000 KiB.\n",
      "[Stage 0:>                                                          (0 + 1) / 1]\r"
     ]
    },
    {
     "name": "stdout",
     "output_type": "stream",
     "text": [
      "+--------------------------------------------------+-----------------------------------+\n",
      "|                                         provision|                              label|\n",
      "+--------------------------------------------------+-----------------------------------+\n",
      "|(a) Consultant or Company may terminate this Pr...|                     [terminations]|\n",
      "|(a) Effective as of the Effective Date, the Hol...|            [waivers, terminations]|\n",
      "|(a) No failure or delay by the Administrative A...|              [waivers, amendments]|\n",
      "|(a) No failure or delay by the Agent or any Len...|              [waivers, amendments]|\n",
      "|(a) No failure or delay of the Administrative A...|              [waivers, amendments]|\n",
      "|(a) The Credit Agreement is, effective as of th...|                       [amendments]|\n",
      "|(a) The provisions of this Agreement shall be b...|              [assigns, successors]|\n",
      "|(a) To induce the other parties hereto to enter...|      [representations, warranties]|\n",
      "|(a)  The provisions of this Agreement shall be ...|              [assigns, successors]|\n",
      "|(a) All of the representations and warranties m...|      [representations, warranties]|\n",
      "|(a) No failure or delay by the Administrative A...|              [waivers, amendments]|\n",
      "|(a) No failure or delay by the Collateral Agent...|              [waivers, amendments]|\n",
      "|(a) No failure or delay of the Agents or any Le...|              [waivers, amendments]|\n",
      "|(a) THIS AGREEMENT AND ANY CLAIM, CONTROVERSY, ...|[governing laws, entire agreements]|\n",
      "|(a) THIS AGREEMENT WAS NEGOTIATED IN THE STATE ...|                   [governing laws]|\n",
      "|(a) The provisions of this Agreement shall be b...|              [assigns, successors]|\n",
      "|(a) This Agreement may be amended, supplemented...|              [waivers, amendments]|\n",
      "|(a) This Agreement may be executed by one or mo...|                     [counterparts]|\n",
      "|(a)  The Performance Guarantor hereby waives pr...|                          [waivers]|\n",
      "|(i) Borrower waives all presentments, demands f...|                          [waivers]|\n",
      "+--------------------------------------------------+-----------------------------------+\n",
      "only showing top 20 rows\n",
      "\n"
     ]
    },
    {
     "name": "stderr",
     "output_type": "stream",
     "text": [
      "                                                                                \r"
     ]
    }
   ],
   "source": [
    "train.show(truncate=50)"
   ]
  },
  {
   "cell_type": "code",
   "execution_count": 6,
   "id": "RZ0xy9hpebLe",
   "metadata": {
    "colab": {
     "base_uri": "https://localhost:8080/"
    },
    "executionInfo": {
     "elapsed": 3463,
     "status": "ok",
     "timestamp": 1664478290189,
     "user": {
      "displayName": "Monster C",
      "userId": "08787989274818793476"
     },
     "user_tz": -180
    },
    "id": "RZ0xy9hpebLe",
    "outputId": "39f22911-18a8-48f0-98d9-a80b58b8a5ee"
   },
   "outputs": [
    {
     "name": "stderr",
     "output_type": "stream",
     "text": [
      "22/12/12 14:37:13 WARN TaskSetManager: Stage 1 contains a task of very large size (1746 KiB). The maximum recommended task size is 1000 KiB.\n",
      "[Stage 2:===============================================>       (174 + 8) / 200]\r"
     ]
    },
    {
     "name": "stdout",
     "output_type": "stream",
     "text": [
      "+--------------------+-----+\n",
      "|               label|count|\n",
      "+--------------------+-----+\n",
      "|    [governing laws]|  772|\n",
      "|      [counterparts]|  573|\n",
      "| [entire agreements]|  558|\n",
      "|           [notices]|  530|\n",
      "|      [severability]|  507|\n",
      "|          [survival]|  343|\n",
      "|[assigns, success...|  319|\n",
      "|        [amendments]|  309|\n",
      "|          [expenses]|  248|\n",
      "|      [terminations]|  237|\n",
      "|           [waivers]|  205|\n",
      "|[waivers, amendme...|  195|\n",
      "|[representations,...|  191|\n",
      "|       [assignments]|  187|\n",
      "|   [representations]|   94|\n",
      "|        [successors]|   54|\n",
      "|[amendments, enti...|   54|\n",
      "|        [warranties]|   39|\n",
      "|[amendments, term...|   25|\n",
      "|[assignments, suc...|   11|\n",
      "+--------------------+-----+\n",
      "only showing top 20 rows\n",
      "\n"
     ]
    },
    {
     "name": "stderr",
     "output_type": "stream",
     "text": [
      "                                                                                \r"
     ]
    }
   ],
   "source": [
    "from pyspark.sql.functions import col\n",
    "\n",
    "test.groupBy(\"label\") \\\n",
    "    .count() \\\n",
    "    .orderBy(col(\"count\").desc()) \\\n",
    "    .show()"
   ]
  },
  {
   "cell_type": "markdown",
   "id": "78sjKvMKcHdn",
   "metadata": {
    "id": "78sjKvMKcHdn"
   },
   "source": [
    " ## With Universal Encoder"
   ]
  },
  {
   "cell_type": "code",
   "execution_count": null,
   "id": "oFl9orR5LrUu",
   "metadata": {
    "colab": {
     "base_uri": "https://localhost:8080/"
    },
    "executionInfo": {
     "elapsed": 249453,
     "status": "ok",
     "timestamp": 1664478549798,
     "user": {
      "displayName": "Monster C",
      "userId": "08787989274818793476"
     },
     "user_tz": -180
    },
    "id": "oFl9orR5LrUu",
    "outputId": "1e0de40d-25bc-4c37-8f55-7f7dfec9a5d2"
   },
   "outputs": [],
   "source": [
    "document_assembler = nlp.DocumentAssembler() \\\n",
    "    .setInputCol(\"provision\") \\\n",
    "    .setOutputCol(\"document\") \\\n",
    "    .setCleanupMode(\"shrink\")\n",
    "\n",
    "embeddings = nlp.UniversalSentenceEncoder.pretrained() \\\n",
    "      .setInputCols(\"document\") \\\n",
    "      .setOutputCol(\"sentence_embeddings\")\n",
    "\n",
    "classsifierdl = nlp.MultiClassifierDLApproach()\\\n",
    "      .setInputCols([\"sentence_embeddings\"])\\\n",
    "      .setOutputCol(\"class\")\\\n",
    "      .setLabelColumn(\"label\")\\\n",
    "      .setMaxEpochs(30)\\\n",
    "      .setEnableOutputLogs(True)\n",
    "\n",
    "clf_pipeline = nlp.Pipeline(stages = [\n",
    "        document_assembler,\n",
    "        embeddings,\n",
    "        classsifierdl\n",
    "    ])"
   ]
  },
  {
   "cell_type": "code",
   "execution_count": 9,
   "id": "8kcgVr07MUss",
   "metadata": {
    "id": "8kcgVr07MUss"
   },
   "outputs": [
    {
     "name": "stdout",
     "output_type": "stream",
     "text": [
      "Training started - epochs: 30 - learning_rate: 0.001 - batch_size: 64 - training_examples: 22002 - classes: 15\n",
      "Epoch 1/30 - 7.07s - loss: 0.168192 - acc: 0.94994646 - batches: 344\n",
      "Epoch 2/30 - 2.86s - loss: 0.07170924 - acc: 0.9776423 - batches: 344\n",
      "Epoch 3/30 - 2.94s - loss: 0.06072507 - acc: 0.98128265 - batches: 344\n",
      "Epoch 4/30 - 2.91s - loss: 0.055653386 - acc: 0.9830967 - batches: 344\n",
      "Epoch 5/30 - 2.90s - loss: 0.052645776 - acc: 0.984132 - batches: 344\n",
      "Epoch 6/30 - 2.82s - loss: 0.05059618 - acc: 0.9848573 - batches: 344\n",
      "Epoch 7/30 - 2.87s - loss: 0.049065854 - acc: 0.9853485 - batches: 344\n",
      "Epoch 8/30 - 2.80s - loss: 0.04785178 - acc: 0.9858103 - batches: 344\n",
      "Epoch 9/30 - 2.79s - loss: 0.04684918 - acc: 0.98614776 - batches: 344\n",
      "Epoch 10/30 - 2.82s - loss: 0.04599774 - acc: 0.9864211 - batches: 344\n",
      "Epoch 11/30 - 2.85s - loss: 0.04525937 - acc: 0.98659724 - batches: 344\n",
      "Epoch 12/30 - 2.82s - loss: 0.044609535 - acc: 0.98679745 - batches: 344\n",
      "Epoch 13/30 - 2.80s - loss: 0.044030655 - acc: 0.98697984 - batches: 344\n",
      "Epoch 14/30 - 2.82s - loss: 0.043510016 - acc: 0.9871685 - batches: 344\n",
      "Epoch 15/30 - 2.83s - loss: 0.04303764 - acc: 0.9873809 - batches: 344\n",
      "Epoch 16/30 - 2.88s - loss: 0.04260624 - acc: 0.9875588 - batches: 344\n",
      "Epoch 17/30 - 2.83s - loss: 0.04221008 - acc: 0.98769855 - batches: 344\n",
      "Epoch 18/30 - 2.83s - loss: 0.04184406 - acc: 0.98780483 - batches: 344\n",
      "Epoch 19/30 - 2.81s - loss: 0.041504398 - acc: 0.9879809 - batches: 344\n",
      "Epoch 20/30 - 2.78s - loss: 0.041187737 - acc: 0.988066 - batches: 344\n",
      "Epoch 21/30 - 2.79s - loss: 0.04089147 - acc: 0.9881267 - batches: 344\n",
      "Epoch 22/30 - 2.81s - loss: 0.040613104 - acc: 0.988237 - batches: 344\n",
      "Epoch 23/30 - 2.83s - loss: 0.04035115 - acc: 0.9883343 - batches: 344\n",
      "Epoch 24/30 - 2.93s - loss: 0.04010384 - acc: 0.9884407 - batches: 344\n",
      "Epoch 25/30 - 2.90s - loss: 0.0398696 - acc: 0.98852575 - batches: 344\n",
      "Epoch 26/30 - 2.82s - loss: 0.039647266 - acc: 0.9885956 - batches: 344\n",
      "Epoch 27/30 - 2.81s - loss: 0.039435517 - acc: 0.98868406 - batches: 344\n",
      "Epoch 28/30 - 2.81s - loss: 0.03923382 - acc: 0.9887356 - batches: 344\n",
      "Epoch 29/30 - 2.79s - loss: 0.039041042 - acc: 0.98878723 - batches: 344\n",
      "Epoch 30/30 - 2.84s - loss: 0.03885669 - acc: 0.9888328 - batches: 344\n",
      "CPU times: user 82.3 ms, sys: 19.5 ms, total: 102 ms\n",
      "Wall time: 2min 14s\n"
     ]
    }
   ],
   "source": [
    "%%time\n",
    "clf_pipelineModel = clf_pipeline.fit(train)"
   ]
  },
  {
   "cell_type": "code",
   "execution_count": 10,
   "id": "cwf0OM2Oy6Hd",
   "metadata": {
    "id": "cwf0OM2Oy6Hd"
   },
   "outputs": [],
   "source": [
    "preds = clf_pipelineModel.transform(test)"
   ]
  },
  {
   "cell_type": "code",
   "execution_count": 11,
   "id": "jUKamU-50kZi",
   "metadata": {
    "colab": {
     "base_uri": "https://localhost:8080/",
     "height": 206
    },
    "executionInfo": {
     "elapsed": 23545,
     "status": "ok",
     "timestamp": 1664478795291,
     "user": {
      "displayName": "Monster C",
      "userId": "08787989274818793476"
     },
     "user_tz": -180
    },
    "id": "jUKamU-50kZi",
    "outputId": "586c6368-6937-4aff-a2ed-f29291e41d65"
   },
   "outputs": [
    {
     "name": "stderr",
     "output_type": "stream",
     "text": [
      "22/12/12 14:18:12 WARN TaskSetManager: Stage 10 contains a task of very large size (1746 KiB). The maximum recommended task size is 1000 KiB.\n",
      "                                                                                \r"
     ]
    },
    {
     "data": {
      "text/html": [
       "<div>\n",
       "<style scoped>\n",
       "    .dataframe tbody tr th:only-of-type {\n",
       "        vertical-align: middle;\n",
       "    }\n",
       "\n",
       "    .dataframe tbody tr th {\n",
       "        vertical-align: top;\n",
       "    }\n",
       "\n",
       "    .dataframe thead th {\n",
       "        text-align: right;\n",
       "    }\n",
       "</style>\n",
       "<table border=\"1\" class=\"dataframe\">\n",
       "  <thead>\n",
       "    <tr style=\"text-align: right;\">\n",
       "      <th></th>\n",
       "      <th>label</th>\n",
       "      <th>provision</th>\n",
       "      <th>result</th>\n",
       "    </tr>\n",
       "  </thead>\n",
       "  <tbody>\n",
       "    <tr>\n",
       "      <th>0</th>\n",
       "      <td>[waivers, amendments]</td>\n",
       "      <td>(a) No failure or delay by any Agent or any Le...</td>\n",
       "      <td>[waivers, amendments]</td>\n",
       "    </tr>\n",
       "    <tr>\n",
       "      <th>1</th>\n",
       "      <td>[assignments]</td>\n",
       "      <td>(a) Seller, the Agent, each Managing Agent, ea...</td>\n",
       "      <td>[assignments]</td>\n",
       "    </tr>\n",
       "    <tr>\n",
       "      <th>2</th>\n",
       "      <td>[waivers]</td>\n",
       "      <td>(a) Any provision of this Agreement may be wai...</td>\n",
       "      <td>[waivers, amendments]</td>\n",
       "    </tr>\n",
       "    <tr>\n",
       "      <th>3</th>\n",
       "      <td>[notices]</td>\n",
       "      <td>(a) Except where telephonic instructions or no...</td>\n",
       "      <td>[notices]</td>\n",
       "    </tr>\n",
       "    <tr>\n",
       "      <th>4</th>\n",
       "      <td>[governing laws]</td>\n",
       "      <td>(a) THIS AGREEMENT AND EACH OTHER LOAN DOCUMEN...</td>\n",
       "      <td>[governing laws]</td>\n",
       "    </tr>\n",
       "  </tbody>\n",
       "</table>\n",
       "</div>"
      ],
      "text/plain": [
       "                   label                                          provision  \\\n",
       "0  [waivers, amendments]  (a) No failure or delay by any Agent or any Le...   \n",
       "1          [assignments]  (a) Seller, the Agent, each Managing Agent, ea...   \n",
       "2              [waivers]  (a) Any provision of this Agreement may be wai...   \n",
       "3              [notices]  (a) Except where telephonic instructions or no...   \n",
       "4       [governing laws]  (a) THIS AGREEMENT AND EACH OTHER LOAN DOCUMEN...   \n",
       "\n",
       "                  result  \n",
       "0  [waivers, amendments]  \n",
       "1          [assignments]  \n",
       "2  [waivers, amendments]  \n",
       "3              [notices]  \n",
       "4       [governing laws]  "
      ]
     },
     "execution_count": 11,
     "metadata": {},
     "output_type": "execute_result"
    }
   ],
   "source": [
    "preds_df = preds.select('label','provision',\"class.result\").toPandas()\n",
    "preds_df.head()"
   ]
  },
  {
   "cell_type": "code",
   "execution_count": 12,
   "id": "uWVj5TsSbmRE",
   "metadata": {
    "colab": {
     "base_uri": "https://localhost:8080/"
    },
    "executionInfo": {
     "elapsed": 6,
     "status": "ok",
     "timestamp": 1664478795291,
     "user": {
      "displayName": "Monster C",
      "userId": "08787989274818793476"
     },
     "user_tz": -180
    },
    "id": "uWVj5TsSbmRE",
    "outputId": "ee8a1360-4d33-4d8d-a0f1-da74dbd6a08f"
   },
   "outputs": [
    {
     "name": "stdout",
     "output_type": "stream",
     "text": [
      "Classification report: \n",
      "               precision    recall  f1-score   support\n",
      "\n",
      "           0       0.87      0.81      0.84       609\n",
      "           1       0.71      0.57      0.63       212\n",
      "           2       0.81      0.78      0.79       334\n",
      "           3       1.00      0.98      0.99       585\n",
      "           4       0.97      0.96      0.97       647\n",
      "           5       0.96      0.98      0.97       248\n",
      "           6       0.99      0.97      0.98       791\n",
      "           7       0.97      0.94      0.95       530\n",
      "           8       0.90      0.81      0.85       285\n",
      "           9       0.96      0.96      0.96       521\n",
      "          10       0.87      0.86      0.86       394\n",
      "          11       0.93      0.92      0.92       346\n",
      "          12       0.88      0.73      0.80       268\n",
      "          13       0.86      0.76      0.81       417\n",
      "          14       0.84      0.70      0.77       230\n",
      "\n",
      "   micro avg       0.92      0.88      0.90      6417\n",
      "   macro avg       0.90      0.85      0.87      6417\n",
      "weighted avg       0.92      0.88      0.90      6417\n",
      " samples avg       0.89      0.89      0.88      6417\n",
      "\n",
      "F1 micro averaging: 0.9007743274527021\n",
      "ROC:  0.9365530227640371\n"
     ]
    }
   ],
   "source": [
    "from sklearn.preprocessing import MultiLabelBinarizer\n",
    "from sklearn.metrics import classification_report\n",
    "from sklearn.metrics import f1_score\n",
    "from sklearn.metrics import roc_auc_score\n",
    "\n",
    "mlb = MultiLabelBinarizer()\n",
    "\n",
    "y_true = mlb.fit_transform(preds_df['label'])\n",
    "y_pred = mlb.fit_transform(preds_df['result'])\n",
    "\n",
    "\n",
    "print(\"Classification report: \\n\", (classification_report(y_true, y_pred)))\n",
    "print(\"F1 micro averaging:\",(f1_score(y_true, y_pred, average='micro')))\n",
    "print(\"ROC: \",(roc_auc_score(y_true, y_pred, average=\"micro\")))\n"
   ]
  },
  {
   "cell_type": "markdown",
   "id": "jWhU1pMUay0I",
   "metadata": {
    "id": "jWhU1pMUay0I"
   },
   "source": [
    "## With Bert Embeddings"
   ]
  },
  {
   "cell_type": "markdown",
   "id": "bHVFY_i4H5Gh",
   "metadata": {
    "id": "bHVFY_i4H5Gh"
   },
   "source": [
    "We do not have have any specific Financial Sentence Embeddings, but we can use Financial Bert Embeddings and then average them."
   ]
  },
  {
   "cell_type": "code",
   "execution_count": null,
   "id": "8PG4NNyQdBnG",
   "metadata": {
    "colab": {
     "base_uri": "https://localhost:8080/"
    },
    "executionInfo": {
     "elapsed": 29076,
     "status": "ok",
     "timestamp": 1664478824364,
     "user": {
      "displayName": "Monster C",
      "userId": "08787989274818793476"
     },
     "user_tz": -180
    },
    "id": "8PG4NNyQdBnG",
    "outputId": "bf89b696-c199-4437-db98-ccd329d9059a"
   },
   "outputs": [],
   "source": [
    "embeddings = nlp.BertEmbeddings.pretrained(\"bert_embeddings_sec_bert_base\",\"en\") \\\n",
    "          .setInputCols([\"document\", \"token\"]) \\\n",
    "          .setOutputCol(\"embeddings\")"
   ]
  },
  {
   "cell_type": "code",
   "execution_count": 8,
   "id": "zdiCyuc3dBnJ",
   "metadata": {
    "id": "zdiCyuc3dBnJ"
   },
   "outputs": [],
   "source": [
    "document_assembler = nlp.DocumentAssembler() \\\n",
    "    .setInputCol(\"provision\") \\\n",
    "    .setOutputCol(\"document\")\n",
    "\n",
    "tokenizer = nlp.Tokenizer() \\\n",
    "    .setInputCols([\"document\"]) \\\n",
    "    .setOutputCol(\"token\")\n",
    "\n",
    "embeddingsSentence = nlp.SentenceEmbeddings() \\\n",
    "    .setInputCols([\"document\", \"embeddings\"]) \\\n",
    "    .setOutputCol(\"sentence_embeddings\") \\\n",
    "    .setPoolingStrategy(\"AVERAGE\")\n",
    "\n",
    "classsifierdl = nlp.MultiClassifierDLApproach() \\\n",
    "    .setInputCols([\"sentence_embeddings\"]) \\\n",
    "    .setOutputCol(\"class\") \\\n",
    "    .setLabelColumn(\"label\")\\\n",
    "    .setMaxEpochs(8)\\\n",
    "    .setEnableOutputLogs(True)\n",
    "\n",
    "clf_pipeline = nlp.Pipeline(stages = [\n",
    "        document_assembler,\n",
    "        tokenizer,\n",
    "        embeddings,\n",
    "        embeddingsSentence,\n",
    "        classsifierdl\n",
    "    ])"
   ]
  },
  {
   "cell_type": "code",
   "execution_count": 9,
   "id": "7fxOmkTNdBnK",
   "metadata": {
    "colab": {
     "base_uri": "https://localhost:8080/"
    },
    "executionInfo": {
     "elapsed": 7002397,
     "status": "ok",
     "timestamp": 1664485827983,
     "user": {
      "displayName": "Monster C",
      "userId": "08787989274818793476"
     },
     "user_tz": -180
    },
    "id": "7fxOmkTNdBnK",
    "outputId": "89e5ccf5-6cb2-447f-a3de-62f0aa672037",
    "tags": []
   },
   "outputs": [
    {
     "name": "stderr",
     "output_type": "stream",
     "text": [
      "22/12/12 14:37:31 WARN TaskSetManager: Stage 6 contains a task of very large size (1746 KiB). The maximum recommended task size is 1000 KiB.\n",
      "22/12/12 14:58:00 WARN TaskSetManager: Stage 8 contains a task of very large size (1746 KiB). The maximum recommended task size is 1000 KiB.\n",
      "22/12/12 14:58:01 WARN TaskSetManager: Stage 9 contains a task of very large size (1746 KiB). The maximum recommended task size is 1000 KiB.\n",
      "2022-12-12 15:18:52.090285: I external/org_tensorflow/tensorflow/cc/saved_model/reader.cc:43] Reading SavedModel from: /tmp/8d3ada72c050_classifier_dl3410442188111515414\n",
      "2022-12-12 15:18:52.816645: I external/org_tensorflow/tensorflow/cc/saved_model/reader.cc:107] Reading meta graph with tags { serve }\n",
      "2022-12-12 15:18:52.816694: I external/org_tensorflow/tensorflow/cc/saved_model/reader.cc:148] Reading SavedModel debug info (if present) from: /tmp/8d3ada72c050_classifier_dl3410442188111515414\n",
      "2022-12-12 15:18:57.781998: I external/org_tensorflow/tensorflow/cc/saved_model/loader.cc:228] Restoring SavedModel bundle.\n",
      "2022-12-12 15:19:00.186060: I external/org_tensorflow/tensorflow/cc/saved_model/loader.cc:212] Running initialization op on SavedModel bundle at path: /tmp/8d3ada72c050_classifier_dl3410442188111515414\n",
      "2022-12-12 15:19:01.697735: I external/org_tensorflow/tensorflow/cc/saved_model/loader.cc:301] SavedModel load for tags { serve }; Status: success: OK. Took 9607460 microseconds.\n"
     ]
    },
    {
     "name": "stdout",
     "output_type": "stream",
     "text": [
      "Training started - epochs: 8 - learning_rate: 0.001 - batch_size: 64 - training_examples: 22002 - classes: 15\n",
      "Epoch 1/8 - 7.26s - loss: 0.08046199 - acc: 0.9752819 - batches: 344\n",
      "Epoch 2/8 - 2.93s - loss: 0.03758629 - acc: 0.9896701 - batches: 344\n",
      "Epoch 3/8 - 2.78s - loss: 0.033418175 - acc: 0.9909579 - batches: 344\n",
      "Epoch 4/8 - 2.86s - loss: 0.03089657 - acc: 0.99175954 - batches: 344\n",
      "Epoch 5/8 - 2.84s - loss: 0.02908047 - acc: 0.99235976 - batches: 344\n",
      "Epoch 6/8 - 2.72s - loss: 0.027666898 - acc: 0.99286973 - batches: 344\n",
      "Epoch 7/8 - 2.74s - loss: 0.026504492 - acc: 0.993295 - batches: 344\n",
      "Epoch 8/8 - 2.77s - loss: 0.025508536 - acc: 0.9936544 - batches: 344\n",
      "CPU times: user 325 ms, sys: 90.4 ms, total: 415 ms\n",
      "Wall time: 42min 21s\n"
     ]
    }
   ],
   "source": [
    "%%time\n",
    "clf_pipelineModel = clf_pipeline.fit(train)"
   ]
  },
  {
   "cell_type": "code",
   "execution_count": 10,
   "id": "Y-YfOWrudBnM",
   "metadata": {
    "id": "Y-YfOWrudBnM"
   },
   "outputs": [],
   "source": [
    "preds = clf_pipelineModel.transform(test)"
   ]
  },
  {
   "cell_type": "code",
   "execution_count": 11,
   "id": "9VfIUz3IdBnN",
   "metadata": {
    "id": "9VfIUz3IdBnN"
   },
   "outputs": [
    {
     "name": "stderr",
     "output_type": "stream",
     "text": [
      "22/12/12 15:19:51 WARN TaskSetManager: Stage 10 contains a task of very large size (1746 KiB). The maximum recommended task size is 1000 KiB.\n",
      "                                                                                \r"
     ]
    }
   ],
   "source": [
    "preds_df = preds.select('provision','label',\"class.result\").toPandas()"
   ]
  },
  {
   "cell_type": "code",
   "execution_count": 12,
   "id": "vT2kdFLsdBnN",
   "metadata": {
    "colab": {
     "base_uri": "https://localhost:8080/",
     "height": 206
    },
    "executionInfo": {
     "elapsed": 16,
     "status": "ok",
     "timestamp": 1664486716416,
     "user": {
      "displayName": "Monster C",
      "userId": "08787989274818793476"
     },
     "user_tz": -180
    },
    "id": "vT2kdFLsdBnN",
    "outputId": "7654d318-2cac-425f-fe94-ea3fa93cae2b"
   },
   "outputs": [
    {
     "data": {
      "text/html": [
       "<div>\n",
       "<style scoped>\n",
       "    .dataframe tbody tr th:only-of-type {\n",
       "        vertical-align: middle;\n",
       "    }\n",
       "\n",
       "    .dataframe tbody tr th {\n",
       "        vertical-align: top;\n",
       "    }\n",
       "\n",
       "    .dataframe thead th {\n",
       "        text-align: right;\n",
       "    }\n",
       "</style>\n",
       "<table border=\"1\" class=\"dataframe\">\n",
       "  <thead>\n",
       "    <tr style=\"text-align: right;\">\n",
       "      <th></th>\n",
       "      <th>provision</th>\n",
       "      <th>label</th>\n",
       "      <th>result</th>\n",
       "    </tr>\n",
       "  </thead>\n",
       "  <tbody>\n",
       "    <tr>\n",
       "      <th>0</th>\n",
       "      <td>(a) No failure or delay by any Agent or any Le...</td>\n",
       "      <td>[waivers, amendments]</td>\n",
       "      <td>[waivers, amendments]</td>\n",
       "    </tr>\n",
       "    <tr>\n",
       "      <th>1</th>\n",
       "      <td>(a) Seller, the Agent, each Managing Agent, ea...</td>\n",
       "      <td>[assignments]</td>\n",
       "      <td>[assignments]</td>\n",
       "    </tr>\n",
       "    <tr>\n",
       "      <th>2</th>\n",
       "      <td>(a) Any provision of this Agreement may be wai...</td>\n",
       "      <td>[waivers]</td>\n",
       "      <td>[waivers]</td>\n",
       "    </tr>\n",
       "    <tr>\n",
       "      <th>3</th>\n",
       "      <td>(a) Except where telephonic instructions or no...</td>\n",
       "      <td>[notices]</td>\n",
       "      <td>[notices]</td>\n",
       "    </tr>\n",
       "    <tr>\n",
       "      <th>4</th>\n",
       "      <td>(a) THIS AGREEMENT AND EACH OTHER LOAN DOCUMEN...</td>\n",
       "      <td>[governing laws]</td>\n",
       "      <td>[governing laws]</td>\n",
       "    </tr>\n",
       "  </tbody>\n",
       "</table>\n",
       "</div>"
      ],
      "text/plain": [
       "                                           provision                  label  \\\n",
       "0  (a) No failure or delay by any Agent or any Le...  [waivers, amendments]   \n",
       "1  (a) Seller, the Agent, each Managing Agent, ea...          [assignments]   \n",
       "2  (a) Any provision of this Agreement may be wai...              [waivers]   \n",
       "3  (a) Except where telephonic instructions or no...              [notices]   \n",
       "4  (a) THIS AGREEMENT AND EACH OTHER LOAN DOCUMEN...       [governing laws]   \n",
       "\n",
       "                  result  \n",
       "0  [waivers, amendments]  \n",
       "1          [assignments]  \n",
       "2              [waivers]  \n",
       "3              [notices]  \n",
       "4       [governing laws]  "
      ]
     },
     "execution_count": 12,
     "metadata": {},
     "output_type": "execute_result"
    }
   ],
   "source": [
    "preds_df.head()"
   ]
  },
  {
   "cell_type": "code",
   "execution_count": 13,
   "id": "GJKWrIpOYLW_",
   "metadata": {
    "colab": {
     "base_uri": "https://localhost:8080/"
    },
    "executionInfo": {
     "elapsed": 10,
     "status": "ok",
     "timestamp": 1664486716417,
     "user": {
      "displayName": "Monster C",
      "userId": "08787989274818793476"
     },
     "user_tz": -180
    },
    "id": "GJKWrIpOYLW_",
    "outputId": "aec38b54-2996-416f-bf3b-3b83bae3490d"
   },
   "outputs": [
    {
     "name": "stdout",
     "output_type": "stream",
     "text": [
      "Classification report: \n",
      "               precision    recall  f1-score   support\n",
      "\n",
      "           0       0.96      0.82      0.88       609\n",
      "           1       0.86      0.61      0.72       212\n",
      "           2       0.78      0.93      0.85       334\n",
      "           3       1.00      0.98      0.99       585\n",
      "           4       1.00      0.96      0.98       647\n",
      "           5       0.99      0.98      0.99       248\n",
      "           6       0.98      0.98      0.98       791\n",
      "           7       0.97      0.99      0.98       530\n",
      "           8       0.91      0.95      0.93       285\n",
      "           9       0.99      0.98      0.98       521\n",
      "          10       0.83      0.94      0.88       394\n",
      "          11       0.97      0.90      0.93       346\n",
      "          12       0.93      0.88      0.91       268\n",
      "          13       0.97      0.74      0.84       417\n",
      "          14       0.85      0.80      0.83       230\n",
      "\n",
      "   micro avg       0.94      0.91      0.93      6417\n",
      "   macro avg       0.93      0.90      0.91      6417\n",
      "weighted avg       0.95      0.91      0.93      6417\n",
      " samples avg       0.93      0.93      0.92      6417\n",
      "\n",
      "F1 micro averaging: 0.9288822086860217\n",
      "ROC:  0.9551482985626187\n"
     ]
    }
   ],
   "source": [
    "from sklearn.preprocessing import MultiLabelBinarizer\n",
    "from sklearn.metrics import classification_report\n",
    "from sklearn.metrics import f1_score\n",
    "from sklearn.metrics import roc_auc_score\n",
    "\n",
    "mlb = MultiLabelBinarizer()\n",
    "\n",
    "y_true = mlb.fit_transform(preds_df['label'])\n",
    "y_pred = mlb.fit_transform(preds_df['result'])\n",
    "\n",
    "\n",
    "print(\"Classification report: \\n\", (classification_report(y_true, y_pred)))\n",
    "print(\"F1 micro averaging:\",(f1_score(y_true, y_pred, average='micro')))\n",
    "print(\"ROC: \",(roc_auc_score(y_true, y_pred, average=\"micro\")))\n"
   ]
  },
  {
   "cell_type": "markdown",
   "id": "Zsap0xaejFCX",
   "metadata": {
    "id": "Zsap0xaejFCX"
   },
   "source": [
    "### Saving & loading back the trained model"
   ]
  },
  {
   "cell_type": "code",
   "execution_count": 14,
   "id": "BQoJ_DHSjFCX",
   "metadata": {
    "colab": {
     "base_uri": "https://localhost:8080/"
    },
    "executionInfo": {
     "elapsed": 8,
     "status": "ok",
     "timestamp": 1664486716417,
     "user": {
      "displayName": "Monster C",
      "userId": "08787989274818793476"
     },
     "user_tz": -180
    },
    "id": "BQoJ_DHSjFCX",
    "outputId": "b6435077-58f3-4e8e-95c6-5a4e06831629"
   },
   "outputs": [
    {
     "data": {
      "text/plain": [
       "[DocumentAssembler_28f376563362,\n",
       " REGEX_TOKENIZER_e8647eaf1aca,\n",
       " BERT_EMBEDDINGS_29ce72cd673e,\n",
       " SentenceEmbeddings_fe8b18b32259,\n",
       " MultiClassifierDLModel_3038ff096f7e]"
      ]
     },
     "execution_count": 14,
     "metadata": {},
     "output_type": "execute_result"
    }
   ],
   "source": [
    "clf_pipelineModel.stages"
   ]
  },
  {
   "cell_type": "code",
   "execution_count": 15,
   "id": "3hKjHocZjFCY",
   "metadata": {
    "id": "3hKjHocZjFCY"
   },
   "outputs": [],
   "source": [
    "clf_pipelineModel.stages[-1].write().overwrite().save('MultilabelClfBert')"
   ]
  },
  {
   "cell_type": "code",
   "execution_count": 16,
   "id": "cXtTavvVjFCY",
   "metadata": {
    "id": "cXtTavvVjFCY"
   },
   "outputs": [],
   "source": [
    "# Load back  saved Multilabel Classifier Model\n",
    "MultilabelClfModel = nlp.MultiClassifierDLModel.load('MultilabelClfBert')"
   ]
  },
  {
   "cell_type": "code",
   "execution_count": 17,
   "id": "sxWzLYSgjFCY",
   "metadata": {
    "id": "sxWzLYSgjFCY"
   },
   "outputs": [],
   "source": [
    "ld_pipeline = nlp.Pipeline(stages=[document_assembler, tokenizer, embeddings, embeddingsSentence, MultilabelClfModel])\n",
    "ld_pipeline_model = ld_pipeline.fit(spark.createDataFrame([['']]).toDF(\"provision\"))"
   ]
  },
  {
   "cell_type": "code",
   "execution_count": 18,
   "id": "FKe7kDccjFCY",
   "metadata": {
    "id": "FKe7kDccjFCY"
   },
   "outputs": [],
   "source": [
    "# Apply Model Transform to testData\n",
    "ld_preds = ld_pipeline_model.transform(test)"
   ]
  },
  {
   "cell_type": "code",
   "execution_count": 19,
   "id": "pnZwf9MejFCY",
   "metadata": {
    "id": "pnZwf9MejFCY"
   },
   "outputs": [
    {
     "name": "stderr",
     "output_type": "stream",
     "text": [
      "22/12/12 15:26:31 WARN TaskSetManager: Stage 17 contains a task of very large size (1746 KiB). The maximum recommended task size is 1000 KiB.\n",
      "                                                                                \r"
     ]
    }
   ],
   "source": [
    "ld_preds_df = ld_preds.select('provision','label',\"class.result\").toPandas()"
   ]
  },
  {
   "cell_type": "code",
   "execution_count": 20,
   "id": "rWarQRPBjFCZ",
   "metadata": {
    "colab": {
     "base_uri": "https://localhost:8080/",
     "height": 363
    },
    "executionInfo": {
     "elapsed": 10,
     "status": "ok",
     "timestamp": 1664487613653,
     "user": {
      "displayName": "Monster C",
      "userId": "08787989274818793476"
     },
     "user_tz": -180
    },
    "id": "rWarQRPBjFCZ",
    "outputId": "c4ca01ef-106b-4864-dad5-5f8169dce696"
   },
   "outputs": [
    {
     "data": {
      "text/html": [
       "<div>\n",
       "<style scoped>\n",
       "    .dataframe tbody tr th:only-of-type {\n",
       "        vertical-align: middle;\n",
       "    }\n",
       "\n",
       "    .dataframe tbody tr th {\n",
       "        vertical-align: top;\n",
       "    }\n",
       "\n",
       "    .dataframe thead th {\n",
       "        text-align: right;\n",
       "    }\n",
       "</style>\n",
       "<table border=\"1\" class=\"dataframe\">\n",
       "  <thead>\n",
       "    <tr style=\"text-align: right;\">\n",
       "      <th></th>\n",
       "      <th>provision</th>\n",
       "      <th>label</th>\n",
       "      <th>result</th>\n",
       "    </tr>\n",
       "  </thead>\n",
       "  <tbody>\n",
       "    <tr>\n",
       "      <th>0</th>\n",
       "      <td>(a) No failure or delay by any Agent or any Le...</td>\n",
       "      <td>[waivers, amendments]</td>\n",
       "      <td>[waivers, amendments]</td>\n",
       "    </tr>\n",
       "    <tr>\n",
       "      <th>1</th>\n",
       "      <td>(a) Seller, the Agent, each Managing Agent, ea...</td>\n",
       "      <td>[assignments]</td>\n",
       "      <td>[assignments]</td>\n",
       "    </tr>\n",
       "    <tr>\n",
       "      <th>2</th>\n",
       "      <td>(a) Any provision of this Agreement may be wai...</td>\n",
       "      <td>[waivers]</td>\n",
       "      <td>[waivers]</td>\n",
       "    </tr>\n",
       "    <tr>\n",
       "      <th>3</th>\n",
       "      <td>(a) Except where telephonic instructions or no...</td>\n",
       "      <td>[notices]</td>\n",
       "      <td>[notices]</td>\n",
       "    </tr>\n",
       "    <tr>\n",
       "      <th>4</th>\n",
       "      <td>(a) THIS AGREEMENT AND EACH OTHER LOAN DOCUMEN...</td>\n",
       "      <td>[governing laws]</td>\n",
       "      <td>[governing laws]</td>\n",
       "    </tr>\n",
       "    <tr>\n",
       "      <th>5</th>\n",
       "      <td>(a) To induce the other parties hereto to ente...</td>\n",
       "      <td>[representations, warranties]</td>\n",
       "      <td>[warranties, representations]</td>\n",
       "    </tr>\n",
       "    <tr>\n",
       "      <th>6</th>\n",
       "      <td>A counterpart original of this Amendment duly ...</td>\n",
       "      <td>[amendments]</td>\n",
       "      <td>[]</td>\n",
       "    </tr>\n",
       "    <tr>\n",
       "      <th>7</th>\n",
       "      <td>Advisor represents that Advisor’s services und...</td>\n",
       "      <td>[representations]</td>\n",
       "      <td>[representations]</td>\n",
       "    </tr>\n",
       "    <tr>\n",
       "      <th>8</th>\n",
       "      <td>Agent may assign, indorse or transfer any inst...</td>\n",
       "      <td>[assignments]</td>\n",
       "      <td>[]</td>\n",
       "    </tr>\n",
       "    <tr>\n",
       "      <th>9</th>\n",
       "      <td>Agreement may be amended from time to time by ...</td>\n",
       "      <td>[amendments]</td>\n",
       "      <td>[amendments]</td>\n",
       "    </tr>\n",
       "  </tbody>\n",
       "</table>\n",
       "</div>"
      ],
      "text/plain": [
       "                                           provision  \\\n",
       "0  (a) No failure or delay by any Agent or any Le...   \n",
       "1  (a) Seller, the Agent, each Managing Agent, ea...   \n",
       "2  (a) Any provision of this Agreement may be wai...   \n",
       "3  (a) Except where telephonic instructions or no...   \n",
       "4  (a) THIS AGREEMENT AND EACH OTHER LOAN DOCUMEN...   \n",
       "5  (a) To induce the other parties hereto to ente...   \n",
       "6  A counterpart original of this Amendment duly ...   \n",
       "7  Advisor represents that Advisor’s services und...   \n",
       "8  Agent may assign, indorse or transfer any inst...   \n",
       "9  Agreement may be amended from time to time by ...   \n",
       "\n",
       "                           label                         result  \n",
       "0          [waivers, amendments]          [waivers, amendments]  \n",
       "1                  [assignments]                  [assignments]  \n",
       "2                      [waivers]                      [waivers]  \n",
       "3                      [notices]                      [notices]  \n",
       "4               [governing laws]               [governing laws]  \n",
       "5  [representations, warranties]  [warranties, representations]  \n",
       "6                   [amendments]                             []  \n",
       "7              [representations]              [representations]  \n",
       "8                  [assignments]                             []  \n",
       "9                   [amendments]                   [amendments]  "
      ]
     },
     "execution_count": 20,
     "metadata": {},
     "output_type": "execute_result"
    }
   ],
   "source": [
    "ld_preds_df.head(10)"
   ]
  },
  {
   "cell_type": "markdown",
   "id": "OxcsSYj_wA0p",
   "metadata": {
    "id": "OxcsSYj_wA0p"
   },
   "source": [
    "# Multiclass classifier training\n"
   ]
  },
  {
   "cell_type": "markdown",
   "id": "5qFM3Zueb50G",
   "metadata": {
    "id": "5qFM3Zueb50G"
   },
   "source": [
    "## Loading the data"
   ]
  },
  {
   "cell_type": "code",
   "execution_count": 21,
   "id": "UKwHNFrCMWMZ",
   "metadata": {
    "id": "UKwHNFrCMWMZ"
   },
   "outputs": [],
   "source": [
    "! wget -q https://raw.githubusercontent.com/JohnSnowLabs/spark-nlp-workshop/master/tutorials/Certification_Trainings_JSL/Finance/data/finance_clf_data.csv"
   ]
  },
  {
   "cell_type": "code",
   "execution_count": 22,
   "id": "FtXdRXNEb50G",
   "metadata": {
    "id": "FtXdRXNEb50G"
   },
   "outputs": [],
   "source": [
    "import pandas as pd\n",
    "df = pd.read_csv('./finance_clf_data.csv')"
   ]
  },
  {
   "cell_type": "code",
   "execution_count": 23,
   "id": "SWqOIj_pfEU5",
   "metadata": {
    "colab": {
     "base_uri": "https://localhost:8080/",
     "height": 206
    },
    "executionInfo": {
     "elapsed": 9,
     "status": "ok",
     "timestamp": 1664487614193,
     "user": {
      "displayName": "Monster C",
      "userId": "08787989274818793476"
     },
     "user_tz": -180
    },
    "id": "SWqOIj_pfEU5",
    "outputId": "0ab077e5-a503-4b7b-8ae6-1394a20c3983"
   },
   "outputs": [
    {
     "data": {
      "text/html": [
       "<div>\n",
       "<style scoped>\n",
       "    .dataframe tbody tr th:only-of-type {\n",
       "        vertical-align: middle;\n",
       "    }\n",
       "\n",
       "    .dataframe tbody tr th {\n",
       "        vertical-align: top;\n",
       "    }\n",
       "\n",
       "    .dataframe thead th {\n",
       "        text-align: right;\n",
       "    }\n",
       "</style>\n",
       "<table border=\"1\" class=\"dataframe\">\n",
       "  <thead>\n",
       "    <tr style=\"text-align: right;\">\n",
       "      <th></th>\n",
       "      <th>text</th>\n",
       "      <th>label</th>\n",
       "      <th>len</th>\n",
       "    </tr>\n",
       "  </thead>\n",
       "  <tbody>\n",
       "    <tr>\n",
       "      <th>0</th>\n",
       "      <td>Presently we do not believe any U S or State r...</td>\n",
       "      <td>business</td>\n",
       "      <td>402</td>\n",
       "    </tr>\n",
       "    <tr>\n",
       "      <th>1</th>\n",
       "      <td>\\nnetwork outages or performance degradation ...</td>\n",
       "      <td>risk_factors</td>\n",
       "      <td>496</td>\n",
       "    </tr>\n",
       "    <tr>\n",
       "      <th>2</th>\n",
       "      <td>Available Information\\nOur reports filed with ...</td>\n",
       "      <td>business</td>\n",
       "      <td>356</td>\n",
       "    </tr>\n",
       "    <tr>\n",
       "      <th>3</th>\n",
       "      <td>\\n 42 530\\n \\n \\n \\n \\n \\n 42 530\\nTotal liab...</td>\n",
       "      <td>financial_statements</td>\n",
       "      <td>359</td>\n",
       "    </tr>\n",
       "    <tr>\n",
       "      <th>4</th>\n",
       "      <td>8\\nTable of Contents\\ndevelopment employee eng...</td>\n",
       "      <td>business</td>\n",
       "      <td>582</td>\n",
       "    </tr>\n",
       "  </tbody>\n",
       "</table>\n",
       "</div>"
      ],
      "text/plain": [
       "                                                text                 label  \\\n",
       "0  Presently we do not believe any U S or State r...              business   \n",
       "1   \\nnetwork outages or performance degradation ...          risk_factors   \n",
       "2  Available Information\\nOur reports filed with ...              business   \n",
       "3   \\n 42 530\\n \\n \\n \\n \\n \\n 42 530\\nTotal liab...  financial_statements   \n",
       "4  8\\nTable of Contents\\ndevelopment employee eng...              business   \n",
       "\n",
       "   len  \n",
       "0  402  \n",
       "1  496  \n",
       "2  356  \n",
       "3  359  \n",
       "4  582  "
      ]
     },
     "execution_count": 23,
     "metadata": {},
     "output_type": "execute_result"
    }
   ],
   "source": [
    "df.head()"
   ]
  },
  {
   "cell_type": "code",
   "execution_count": 24,
   "id": "Ntfw_obpuf4A",
   "metadata": {
    "colab": {
     "base_uri": "https://localhost:8080/"
    },
    "executionInfo": {
     "elapsed": 9,
     "status": "ok",
     "timestamp": 1664487614194,
     "user": {
      "displayName": "Monster C",
      "userId": "08787989274818793476"
     },
     "user_tz": -180
    },
    "id": "Ntfw_obpuf4A",
    "outputId": "e5906dc6-6dfa-43e7-93ac-e2bae46c48bf"
   },
   "outputs": [
    {
     "data": {
      "text/plain": [
       "risk_factors               1926\n",
       "financial_statements       1888\n",
       "business                    970\n",
       "financial_conditions        346\n",
       "form_10k_summary            240\n",
       "executives_compensation     155\n",
       "controls_procedures         138\n",
       "equity                      111\n",
       "market_risk                 100\n",
       "executives                   73\n",
       "legal_proceedings            51\n",
       "properties                   48\n",
       "security_ownership           46\n",
       "exhibits                     36\n",
       "Name: label, dtype: int64"
      ]
     },
     "execution_count": 24,
     "metadata": {},
     "output_type": "execute_result"
    }
   ],
   "source": [
    "df['label'].value_counts()"
   ]
  },
  {
   "cell_type": "code",
   "execution_count": 34,
   "id": "Cmc91NU8b50H",
   "metadata": {
    "id": "Cmc91NU8b50H"
   },
   "outputs": [],
   "source": [
    "data = spark.createDataFrame(df)\n",
    "\n",
    "train, test = data.randomSplit([0.90, 0.1], seed = 42)"
   ]
  },
  {
   "cell_type": "code",
   "execution_count": 35,
   "id": "WEcXKSQTb50H",
   "metadata": {
    "colab": {
     "base_uri": "https://localhost:8080/"
    },
    "executionInfo": {
     "elapsed": 1015,
     "status": "ok",
     "timestamp": 1664487615673,
     "user": {
      "displayName": "Monster C",
      "userId": "08787989274818793476"
     },
     "user_tz": -180
    },
    "id": "WEcXKSQTb50H",
    "outputId": "74ad3493-a994-42c7-bbbf-297dd645d329"
   },
   "outputs": [
    {
     "name": "stdout",
     "output_type": "stream",
     "text": [
      "+--------------------+-----+\n",
      "|               label|count|\n",
      "+--------------------+-----+\n",
      "|        risk_factors| 1738|\n",
      "|financial_statements| 1696|\n",
      "|            business|  867|\n",
      "|financial_conditions|  315|\n",
      "|    form_10k_summary|  219|\n",
      "|executives_compen...|  141|\n",
      "| controls_procedures|  126|\n",
      "|         market_risk|   95|\n",
      "|              equity|   95|\n",
      "|          executives|   67|\n",
      "|   legal_proceedings|   47|\n",
      "|  security_ownership|   40|\n",
      "|          properties|   39|\n",
      "|            exhibits|   36|\n",
      "+--------------------+-----+\n",
      "\n"
     ]
    }
   ],
   "source": [
    "from pyspark.sql.functions import col\n",
    "\n",
    "train.groupBy(\"label\") \\\n",
    "    .count() \\\n",
    "    .orderBy(col(\"count\").desc()) \\\n",
    "    .show()"
   ]
  },
  {
   "cell_type": "code",
   "execution_count": 36,
   "id": "lDV9dGbRb50H",
   "metadata": {
    "colab": {
     "base_uri": "https://localhost:8080/"
    },
    "executionInfo": {
     "elapsed": 788,
     "status": "ok",
     "timestamp": 1664487616459,
     "user": {
      "displayName": "Monster C",
      "userId": "08787989274818793476"
     },
     "user_tz": -180
    },
    "id": "lDV9dGbRb50H",
    "outputId": "ce717fb5-20b5-4606-d5da-352470a33e89"
   },
   "outputs": [
    {
     "name": "stdout",
     "output_type": "stream",
     "text": [
      "+--------------------+-----+\n",
      "|               label|count|\n",
      "+--------------------+-----+\n",
      "|financial_statements|  192|\n",
      "|        risk_factors|  188|\n",
      "|            business|  103|\n",
      "|financial_conditions|   31|\n",
      "|    form_10k_summary|   21|\n",
      "|              equity|   16|\n",
      "|executives_compen...|   14|\n",
      "| controls_procedures|   12|\n",
      "|          properties|    9|\n",
      "|  security_ownership|    6|\n",
      "|          executives|    6|\n",
      "|         market_risk|    5|\n",
      "|   legal_proceedings|    4|\n",
      "+--------------------+-----+\n",
      "\n"
     ]
    }
   ],
   "source": [
    "from pyspark.sql.functions import col\n",
    "\n",
    "test.groupBy(\"label\") \\\n",
    "    .count() \\\n",
    "    .orderBy(col(\"count\").desc()) \\\n",
    "    .show()"
   ]
  },
  {
   "cell_type": "markdown",
   "id": "hrFio0xccT7J",
   "metadata": {
    "id": "hrFio0xccT7J"
   },
   "source": [
    " ## With Universal Encoder"
   ]
  },
  {
   "cell_type": "code",
   "execution_count": 37,
   "id": "o0muwDJ5cT7K",
   "metadata": {
    "colab": {
     "base_uri": "https://localhost:8080/"
    },
    "executionInfo": {
     "elapsed": 3426,
     "status": "ok",
     "timestamp": 1664487619881,
     "user": {
      "displayName": "Monster C",
      "userId": "08787989274818793476"
     },
     "user_tz": -180
    },
    "id": "o0muwDJ5cT7K",
    "outputId": "afebb546-783b-46f5-efb1-78e6c9c30ff9"
   },
   "outputs": [
    {
     "name": "stdout",
     "output_type": "stream",
     "text": [
      "tfhub_use download started this may take some time.\n",
      "Approximate size to download 923.7 MB\n",
      "[OK!]\n"
     ]
    }
   ],
   "source": [
    "document_assembler = nlp.DocumentAssembler() \\\n",
    "    .setInputCol(\"text\") \\\n",
    "    .setOutputCol(\"document\") \n",
    "\n",
    "embeddings = nlp.UniversalSentenceEncoder.pretrained() \\\n",
    "    .setInputCols(\"document\") \\\n",
    "    .setOutputCol(\"sentence_embeddings\")\n",
    "\n",
    "classsifierdl = finance.ClassifierDLApproach()\\\n",
    "    .setInputCols([\"sentence_embeddings\"])\\\n",
    "    .setOutputCol(\"class\")\\\n",
    "    .setLabelColumn(\"label\")\\\n",
    "    .setMaxEpochs(30)\\\n",
    "    .setEnableOutputLogs(True)\n",
    "\n",
    "clf_pipeline = nlp.Pipeline(\n",
    "    stages = [\n",
    "        document_assembler,\n",
    "        embeddings,\n",
    "        classsifierdl\n",
    "    ])"
   ]
  },
  {
   "cell_type": "code",
   "execution_count": 38,
   "id": "9Vb2VqzucT7M",
   "metadata": {
    "colab": {
     "base_uri": "https://localhost:8080/"
    },
    "executionInfo": {
     "elapsed": 43204,
     "status": "ok",
     "timestamp": 1664487664303,
     "user": {
      "displayName": "Monster C",
      "userId": "08787989274818793476"
     },
     "user_tz": -180
    },
    "id": "9Vb2VqzucT7M",
    "outputId": "848ababa-b067-4b93-d43d-1c851108bd7d"
   },
   "outputs": [
    {
     "name": "stdout",
     "output_type": "stream",
     "text": [
      "1g6ax7jxec82paqzk7ivz9fx7\n",
      "codes retrieved: ArrayBuffer(1g6ax7jxec82paqzk7ivz9fx7), product code(from property): 1g6ax7jxec82paqzk7ivz9fx7\n"
     ]
    },
    {
     "name": "stderr",
     "output_type": "stream",
     "text": [
      "2022-12-12 15:40:24.342769: I external/org_tensorflow/tensorflow/cc/saved_model/reader.cc:43] Reading SavedModel from: /tmp/c497080e405f_classifier_dl9755035331685214231\n",
      "2022-12-12 15:40:24.456301: I external/org_tensorflow/tensorflow/cc/saved_model/reader.cc:107] Reading meta graph with tags { serve }\n",
      "2022-12-12 15:40:24.456342: I external/org_tensorflow/tensorflow/cc/saved_model/reader.cc:148] Reading SavedModel debug info (if present) from: /tmp/c497080e405f_classifier_dl9755035331685214231\n",
      "2022-12-12 15:40:25.156661: I external/org_tensorflow/tensorflow/cc/saved_model/loader.cc:228] Restoring SavedModel bundle.\n",
      "2022-12-12 15:40:26.086312: I external/org_tensorflow/tensorflow/cc/saved_model/loader.cc:212] Running initialization op on SavedModel bundle at path: /tmp/c497080e405f_classifier_dl9755035331685214231\n",
      "2022-12-12 15:40:26.307292: I external/org_tensorflow/tensorflow/cc/saved_model/loader.cc:301] SavedModel load for tags { serve }; Status: success: OK. Took 1964534 microseconds.\n"
     ]
    },
    {
     "name": "stdout",
     "output_type": "stream",
     "text": [
      "Training started - epochs: 30 - learning_rate: 0.005 - batch_size: 64 - training_examples: 5521 - classes: 14\n",
      "Epoch 1/30 - 0.81s - loss: 202.04024 - acc: 0.53654027 - batches: 87\n",
      "Epoch 2/30 - 0.36s - loss: 192.73738 - acc: 0.6252992 - batches: 87\n",
      "Epoch 3/30 - 0.37s - loss: 185.43294 - acc: 0.67821264 - batches: 87\n",
      "Epoch 4/30 - 0.37s - loss: 185.01172 - acc: 0.6842083 - batches: 87\n",
      "Epoch 5/30 - 0.36s - loss: 184.2607 - acc: 0.6920208 - batches: 87\n",
      "Epoch 6/30 - 0.37s - loss: 184.14146 - acc: 0.6969263 - batches: 87\n",
      "Epoch 7/30 - 0.37s - loss: 183.90776 - acc: 0.70001495 - batches: 87\n",
      "Epoch 8/30 - 0.36s - loss: 183.66045 - acc: 0.7031036 - batches: 87\n",
      "Epoch 9/30 - 0.37s - loss: 183.44075 - acc: 0.70546556 - batches: 87\n",
      "Epoch 10/30 - 0.38s - loss: 183.23085 - acc: 0.7071007 - batches: 87\n",
      "Epoch 11/30 - 0.37s - loss: 183.05194 - acc: 0.70782745 - batches: 87\n",
      "Epoch 12/30 - 0.36s - loss: 182.92593 - acc: 0.7087359 - batches: 87\n",
      "Epoch 13/30 - 0.36s - loss: 182.84663 - acc: 0.70891756 - batches: 87\n",
      "Epoch 14/30 - 0.37s - loss: 182.79451 - acc: 0.70946264 - batches: 87\n",
      "Epoch 15/30 - 0.37s - loss: 182.75963 - acc: 0.7101894 - batches: 87\n",
      "Epoch 16/30 - 0.37s - loss: 182.7373 - acc: 0.7109161 - batches: 87\n",
      "Epoch 17/30 - 0.37s - loss: 182.72343 - acc: 0.7112795 - batches: 87\n",
      "Epoch 18/30 - 0.36s - loss: 182.71516 - acc: 0.7114612 - batches: 87\n",
      "Epoch 19/30 - 0.37s - loss: 182.71017 - acc: 0.71218795 - batches: 87\n",
      "Epoch 20/30 - 0.36s - loss: 182.70726 - acc: 0.712733 - batches: 87\n",
      "Epoch 21/30 - 0.36s - loss: 182.70514 - acc: 0.71327806 - batches: 87\n",
      "Epoch 22/30 - 0.39s - loss: 182.70357 - acc: 0.7136414 - batches: 87\n",
      "Epoch 23/30 - 0.40s - loss: 182.70224 - acc: 0.71400476 - batches: 87\n",
      "Epoch 24/30 - 0.37s - loss: 182.70122 - acc: 0.71400476 - batches: 87\n",
      "Epoch 25/30 - 0.37s - loss: 182.70067 - acc: 0.71400476 - batches: 87\n",
      "Epoch 26/30 - 0.37s - loss: 182.69977 - acc: 0.7141865 - batches: 87\n",
      "Epoch 27/30 - 0.37s - loss: 182.69867 - acc: 0.71436816 - batches: 87\n",
      "Epoch 28/30 - 0.37s - loss: 182.6978 - acc: 0.71454984 - batches: 87\n",
      "Epoch 29/30 - 0.36s - loss: 182.69658 - acc: 0.7147315 - batches: 87\n",
      "Epoch 30/30 - 0.36s - loss: 182.69547 - acc: 0.7150949 - batches: 87\n",
      "CPU times: user 55.2 ms, sys: 18.3 ms, total: 73.4 ms\n",
      "Wall time: 21.8 s\n"
     ]
    }
   ],
   "source": [
    "%%time\n",
    "clf_pipelineModel = clf_pipeline.fit(train)"
   ]
  },
  {
   "cell_type": "code",
   "execution_count": null,
   "id": "jwlOFwwacT7O",
   "metadata": {
    "id": "jwlOFwwacT7O"
   },
   "outputs": [],
   "source": [
    "preds = clf_pipelineModel.transform(test)"
   ]
  },
  {
   "cell_type": "code",
   "execution_count": 40,
   "id": "ft1vm_0fcT7O",
   "metadata": {
    "colab": {
     "base_uri": "https://localhost:8080/",
     "height": 206
    },
    "executionInfo": {
     "elapsed": 4024,
     "status": "ok",
     "timestamp": 1664487668316,
     "user": {
      "displayName": "Monster C",
      "userId": "08787989274818793476"
     },
     "user_tz": -180
    },
    "id": "ft1vm_0fcT7O",
    "outputId": "9845e5fe-d30b-4813-c3df-b96a3d0316fa"
   },
   "outputs": [
    {
     "name": "stderr",
     "output_type": "stream",
     "text": [
      "                                                                                \r"
     ]
    },
    {
     "data": {
      "text/html": [
       "<div>\n",
       "<style scoped>\n",
       "    .dataframe tbody tr th:only-of-type {\n",
       "        vertical-align: middle;\n",
       "    }\n",
       "\n",
       "    .dataframe tbody tr th {\n",
       "        vertical-align: top;\n",
       "    }\n",
       "\n",
       "    .dataframe thead th {\n",
       "        text-align: right;\n",
       "    }\n",
       "</style>\n",
       "<table border=\"1\" class=\"dataframe\">\n",
       "  <thead>\n",
       "    <tr style=\"text-align: right;\">\n",
       "      <th></th>\n",
       "      <th>label</th>\n",
       "      <th>text</th>\n",
       "      <th>result</th>\n",
       "    </tr>\n",
       "  </thead>\n",
       "  <tbody>\n",
       "    <tr>\n",
       "      <th>0</th>\n",
       "      <td>financial_statements</td>\n",
       "      <td>\\n \\n\\n\\nComplexity in the application of rele...</td>\n",
       "      <td>[financial_statements]</td>\n",
       "    </tr>\n",
       "    <tr>\n",
       "      <th>1</th>\n",
       "      <td>financial_statements</td>\n",
       "      <td>\\n \\n\\nWeighted Avg \\n\\nExercise Prices\\n\\n \\n...</td>\n",
       "      <td>[financial_statements]</td>\n",
       "    </tr>\n",
       "    <tr>\n",
       "      <th>2</th>\n",
       "      <td>financial_statements</td>\n",
       "      <td>\\n 1 744\\n \\n 367\\n \\n 2 375\\n \\n 1 376\\n \\n ...</td>\n",
       "      <td>[financial_statements]</td>\n",
       "    </tr>\n",
       "    <tr>\n",
       "      <th>3</th>\n",
       "      <td>financial_statements</td>\n",
       "      <td>\\n2 198 \\n \\n1 630 \\n \\n1 782 \\nCash paid for...</td>\n",
       "      <td>[financial_statements]</td>\n",
       "    </tr>\n",
       "    <tr>\n",
       "      <th>4</th>\n",
       "      <td>business</td>\n",
       "      <td>\\nCloud and mobile enabled \\n Our business ma...</td>\n",
       "      <td>[business]</td>\n",
       "    </tr>\n",
       "  </tbody>\n",
       "</table>\n",
       "</div>"
      ],
      "text/plain": [
       "                  label                                               text  \\\n",
       "0  financial_statements  \\n \\n\\n\\nComplexity in the application of rele...   \n",
       "1  financial_statements  \\n \\n\\nWeighted Avg \\n\\nExercise Prices\\n\\n \\n...   \n",
       "2  financial_statements   \\n 1 744\\n \\n 367\\n \\n 2 375\\n \\n 1 376\\n \\n ...   \n",
       "3  financial_statements   \\n2 198 \\n \\n1 630 \\n \\n1 782 \\nCash paid for...   \n",
       "4              business   \\nCloud and mobile enabled \\n Our business ma...   \n",
       "\n",
       "                   result  \n",
       "0  [financial_statements]  \n",
       "1  [financial_statements]  \n",
       "2  [financial_statements]  \n",
       "3  [financial_statements]  \n",
       "4              [business]  "
      ]
     },
     "execution_count": 40,
     "metadata": {},
     "output_type": "execute_result"
    }
   ],
   "source": [
    "preds_df = preds.select('label','text',\"class.result\").toPandas()\n",
    "preds_df.head()"
   ]
  },
  {
   "cell_type": "code",
   "execution_count": 41,
   "id": "Oo0X1tyacT7P",
   "metadata": {
    "id": "Oo0X1tyacT7P"
   },
   "outputs": [],
   "source": [
    "# The result is an array since in Spark NLP you can have multiple sentences.\n",
    "# Let's explode the array and get the item(s) inside of result column out\n",
    "preds_df['result'] = preds_df['result'].apply(lambda x : x[0])"
   ]
  },
  {
   "cell_type": "code",
   "execution_count": 42,
   "id": "VOvxSG6Afz5d",
   "metadata": {
    "colab": {
     "base_uri": "https://localhost:8080/"
    },
    "executionInfo": {
     "elapsed": 9,
     "status": "ok",
     "timestamp": 1664487668317,
     "user": {
      "displayName": "Monster C",
      "userId": "08787989274818793476"
     },
     "user_tz": -180
    },
    "id": "VOvxSG6Afz5d",
    "outputId": "0c9876f4-8a48-4c06-996e-bcd86fe8631b"
   },
   "outputs": [
    {
     "name": "stdout",
     "output_type": "stream",
     "text": [
      "                         precision    recall  f1-score   support\n",
      "\n",
      "               business       0.73      0.81      0.77       103\n",
      "    controls_procedures       0.00      0.00      0.00        12\n",
      "                 equity       0.00      0.00      0.00        16\n",
      "             executives       0.00      0.00      0.00         6\n",
      "executives_compensation       0.00      0.00      0.00        14\n",
      "   financial_conditions       0.00      0.00      0.00        31\n",
      "   financial_statements       0.67      0.93      0.78       192\n",
      "       form_10k_summary       0.00      0.00      0.00        21\n",
      "      legal_proceedings       0.00      0.00      0.00         4\n",
      "            market_risk       0.00      0.00      0.00         5\n",
      "             properties       0.00      0.00      0.00         9\n",
      "           risk_factors       0.77      0.93      0.84       188\n",
      "     security_ownership       0.00      0.00      0.00         6\n",
      "\n",
      "               accuracy                           0.72       607\n",
      "              macro avg       0.17      0.20      0.18       607\n",
      "           weighted avg       0.57      0.72      0.64       607\n",
      "\n"
     ]
    }
   ],
   "source": [
    "# We are going to use sklearn to evalute the results on test dataset\n",
    "from sklearn.metrics import classification_report\n",
    "\n",
    "print (classification_report(preds_df['label'], preds_df['result']))"
   ]
  },
  {
   "cell_type": "markdown",
   "id": "IHzIfMSuUgiD",
   "metadata": {
    "id": "IHzIfMSuUgiD"
   },
   "source": [
    "### Saving & loading back the trained model"
   ]
  },
  {
   "cell_type": "code",
   "execution_count": 43,
   "id": "r5Tec2WwUhP1",
   "metadata": {
    "colab": {
     "base_uri": "https://localhost:8080/"
    },
    "executionInfo": {
     "elapsed": 6,
     "status": "ok",
     "timestamp": 1664487668317,
     "user": {
      "displayName": "Monster C",
      "userId": "08787989274818793476"
     },
     "user_tz": -180
    },
    "id": "r5Tec2WwUhP1",
    "outputId": "b4128c01-25d8-4c24-9166-0de355ff2856"
   },
   "outputs": [
    {
     "data": {
      "text/plain": [
       "[DocumentAssembler_20fc51b07cc2,\n",
       " UNIVERSAL_SENTENCE_ENCODER_4de71669b7ec,\n",
       " FinanceClassifierDLModel_ba5593b0f3c2]"
      ]
     },
     "execution_count": 43,
     "metadata": {},
     "output_type": "execute_result"
    }
   ],
   "source": [
    "clf_pipelineModel.stages"
   ]
  },
  {
   "cell_type": "code",
   "execution_count": 44,
   "id": "4hjFsxVsUps_",
   "metadata": {
    "id": "4hjFsxVsUps_"
   },
   "outputs": [],
   "source": [
    "clf_pipelineModel.stages[-1].write().overwrite().save('Clf_Use')"
   ]
  },
  {
   "cell_type": "code",
   "execution_count": 45,
   "id": "UUdl5FoBbE5X",
   "metadata": {
    "id": "UUdl5FoBbE5X"
   },
   "outputs": [],
   "source": [
    "# Load back  saved Classifier Model\n",
    "ClfModel = finance.ClassifierDLModel.load('Clf_Use')"
   ]
  },
  {
   "cell_type": "code",
   "execution_count": 46,
   "id": "295Ip9xZcjU-",
   "metadata": {
    "id": "295Ip9xZcjU-"
   },
   "outputs": [],
   "source": [
    "ld_pipeline = nlp.Pipeline(stages=[document_assembler, embeddings,ClfModel])\n",
    "ld_pipeline_model = ld_pipeline.fit(spark.createDataFrame([['']]).toDF(\"text\"))"
   ]
  },
  {
   "cell_type": "code",
   "execution_count": 47,
   "id": "Gdm6mxvadFyj",
   "metadata": {
    "id": "Gdm6mxvadFyj"
   },
   "outputs": [
    {
     "name": "stdout",
     "output_type": "stream",
     "text": [
      "1g6ax7jxec82paqzk7ivz9fx7\n",
      "codes retrieved: ArrayBuffer(1g6ax7jxec82paqzk7ivz9fx7), product code(from property): 1g6ax7jxec82paqzk7ivz9fx7\n"
     ]
    }
   ],
   "source": [
    "# Apply Model Transform to testData\n",
    "ld_preds = ld_pipeline_model.transform(test)"
   ]
  },
  {
   "cell_type": "code",
   "execution_count": 48,
   "id": "aQYCSHcIdJbi",
   "metadata": {
    "id": "aQYCSHcIdJbi"
   },
   "outputs": [
    {
     "name": "stderr",
     "output_type": "stream",
     "text": [
      "                                                                                \r"
     ]
    }
   ],
   "source": [
    "ld_preds_df = ld_preds.select('text','label',\"class.result\").toPandas()"
   ]
  },
  {
   "cell_type": "code",
   "execution_count": 49,
   "id": "VZnsGh6YdVUf",
   "metadata": {
    "colab": {
     "base_uri": "https://localhost:8080/",
     "height": 206
    },
    "executionInfo": {
     "elapsed": 9,
     "status": "ok",
     "timestamp": 1664487674271,
     "user": {
      "displayName": "Monster C",
      "userId": "08787989274818793476"
     },
     "user_tz": -180
    },
    "id": "VZnsGh6YdVUf",
    "outputId": "9a21d9a8-611b-4c44-9f16-564be1c3e74a"
   },
   "outputs": [
    {
     "data": {
      "text/html": [
       "<div>\n",
       "<style scoped>\n",
       "    .dataframe tbody tr th:only-of-type {\n",
       "        vertical-align: middle;\n",
       "    }\n",
       "\n",
       "    .dataframe tbody tr th {\n",
       "        vertical-align: top;\n",
       "    }\n",
       "\n",
       "    .dataframe thead th {\n",
       "        text-align: right;\n",
       "    }\n",
       "</style>\n",
       "<table border=\"1\" class=\"dataframe\">\n",
       "  <thead>\n",
       "    <tr style=\"text-align: right;\">\n",
       "      <th></th>\n",
       "      <th>text</th>\n",
       "      <th>label</th>\n",
       "      <th>result</th>\n",
       "    </tr>\n",
       "  </thead>\n",
       "  <tbody>\n",
       "    <tr>\n",
       "      <th>0</th>\n",
       "      <td>\\n \\n\\n\\nComplexity in the application of rele...</td>\n",
       "      <td>financial_statements</td>\n",
       "      <td>[financial_statements]</td>\n",
       "    </tr>\n",
       "    <tr>\n",
       "      <th>1</th>\n",
       "      <td>\\n \\n\\nWeighted Avg \\n\\nExercise Prices\\n\\n \\n...</td>\n",
       "      <td>financial_statements</td>\n",
       "      <td>[financial_statements]</td>\n",
       "    </tr>\n",
       "    <tr>\n",
       "      <th>2</th>\n",
       "      <td>\\n 1 744\\n \\n 367\\n \\n 2 375\\n \\n 1 376\\n \\n ...</td>\n",
       "      <td>financial_statements</td>\n",
       "      <td>[financial_statements]</td>\n",
       "    </tr>\n",
       "    <tr>\n",
       "      <th>3</th>\n",
       "      <td>\\n2 198 \\n \\n1 630 \\n \\n1 782 \\nCash paid for...</td>\n",
       "      <td>financial_statements</td>\n",
       "      <td>[financial_statements]</td>\n",
       "    </tr>\n",
       "    <tr>\n",
       "      <th>4</th>\n",
       "      <td>\\nCloud and mobile enabled \\n Our business ma...</td>\n",
       "      <td>business</td>\n",
       "      <td>[business]</td>\n",
       "    </tr>\n",
       "  </tbody>\n",
       "</table>\n",
       "</div>"
      ],
      "text/plain": [
       "                                                text                 label  \\\n",
       "0  \\n \\n\\n\\nComplexity in the application of rele...  financial_statements   \n",
       "1  \\n \\n\\nWeighted Avg \\n\\nExercise Prices\\n\\n \\n...  financial_statements   \n",
       "2   \\n 1 744\\n \\n 367\\n \\n 2 375\\n \\n 1 376\\n \\n ...  financial_statements   \n",
       "3   \\n2 198 \\n \\n1 630 \\n \\n1 782 \\nCash paid for...  financial_statements   \n",
       "4   \\nCloud and mobile enabled \\n Our business ma...              business   \n",
       "\n",
       "                   result  \n",
       "0  [financial_statements]  \n",
       "1  [financial_statements]  \n",
       "2  [financial_statements]  \n",
       "3  [financial_statements]  \n",
       "4              [business]  "
      ]
     },
     "execution_count": 49,
     "metadata": {},
     "output_type": "execute_result"
    }
   ],
   "source": [
    "ld_preds_df.head()"
   ]
  },
  {
   "cell_type": "markdown",
   "id": "7kKWRZNu0lCL",
   "metadata": {
    "id": "7kKWRZNu0lCL"
   },
   "source": [
    "## With Bert Embeddings"
   ]
  },
  {
   "cell_type": "markdown",
   "id": "rHw4ikwLISTb",
   "metadata": {
    "id": "rHw4ikwLISTb"
   },
   "source": [
    "We do not have Financial Sentence Embeddings yet, But we can use the Financial Word Embeddings and then average them."
   ]
  },
  {
   "cell_type": "code",
   "execution_count": 54,
   "id": "l3jxCehJ0lCO",
   "metadata": {
    "id": "l3jxCehJ0lCO"
   },
   "outputs": [
    {
     "name": "stdout",
     "output_type": "stream",
     "text": [
      "bert_embeddings_sec_bert_base download started this may take some time.\n",
      "Approximate size to download 390.4 MB\n",
      "[OK!]\n"
     ]
    }
   ],
   "source": [
    "document_assembler = nlp.DocumentAssembler() \\\n",
    "    .setInputCol(\"text\") \\\n",
    "    .setOutputCol(\"document\")\n",
    "\n",
    "tokenizer = nlp.Tokenizer() \\\n",
    "    .setInputCols([\"document\"]) \\\n",
    "    .setOutputCol(\"token\")\n",
    "\n",
    "embeddings = nlp.BertEmbeddings.pretrained(\"bert_embeddings_sec_bert_base\",\"en\") \\\n",
    "    .setInputCols([\"document\", \"token\"]) \\\n",
    "    .setOutputCol(\"embeddings\")\n",
    "\n",
    "embeddingsSentence = nlp.SentenceEmbeddings() \\\n",
    "    .setInputCols([\"document\", \"embeddings\"]) \\\n",
    "    .setOutputCol(\"sentence_embeddings\") \\\n",
    "    .setPoolingStrategy(\"AVERAGE\")\n",
    "\n",
    "classsifierdl = finance.ClassifierDLApproach() \\\n",
    "    .setInputCols([\"sentence_embeddings\"]) \\\n",
    "    .setOutputCol(\"class\") \\\n",
    "    .setLabelColumn(\"label\")\\\n",
    "    .setMaxEpochs(8)\\\n",
    "    .setLr(0.0003)\\\n",
    "    .setEnableOutputLogs(True)\n",
    "\n",
    "clf_pipeline = nlp.Pipeline(stages = [\n",
    "        document_assembler,\n",
    "        tokenizer,\n",
    "        embeddings,\n",
    "        embeddingsSentence,\n",
    "        classsifierdl\n",
    "    ])"
   ]
  },
  {
   "cell_type": "code",
   "execution_count": 55,
   "id": "W6qwSLYv0lCP",
   "metadata": {
    "colab": {
     "base_uri": "https://localhost:8080/"
    },
    "executionInfo": {
     "elapsed": 3020472,
     "status": "ok",
     "timestamp": 1664490698238,
     "user": {
      "displayName": "Monster C",
      "userId": "08787989274818793476"
     },
     "user_tz": -180
    },
    "id": "W6qwSLYv0lCP",
    "outputId": "89b429b9-1357-4188-94c0-89e7a026dd54"
   },
   "outputs": [
    {
     "name": "stdout",
     "output_type": "stream",
     "text": [
      "1g6ax7jxec82paqzk7ivz9fx7\n",
      "codes retrieved: ArrayBuffer(1g6ax7jxec82paqzk7ivz9fx7), product code(from property): 1g6ax7jxec82paqzk7ivz9fx7\n"
     ]
    },
    {
     "name": "stderr",
     "output_type": "stream",
     "text": [
      "2022-12-12 16:29:15.858700: I external/org_tensorflow/tensorflow/cc/saved_model/reader.cc:43] Reading SavedModel from: /tmp/fe1e2ba5f200_classifier_dl3591081285898410384\n",
      "2022-12-12 16:29:15.969262: I external/org_tensorflow/tensorflow/cc/saved_model/reader.cc:107] Reading meta graph with tags { serve }\n",
      "2022-12-12 16:29:15.969302: I external/org_tensorflow/tensorflow/cc/saved_model/reader.cc:148] Reading SavedModel debug info (if present) from: /tmp/fe1e2ba5f200_classifier_dl3591081285898410384\n",
      "2022-12-12 16:29:16.465349: I external/org_tensorflow/tensorflow/cc/saved_model/loader.cc:228] Restoring SavedModel bundle.\n",
      "2022-12-12 16:29:17.315567: I external/org_tensorflow/tensorflow/cc/saved_model/loader.cc:212] Running initialization op on SavedModel bundle at path: /tmp/fe1e2ba5f200_classifier_dl3591081285898410384\n",
      "2022-12-12 16:29:17.501853: I external/org_tensorflow/tensorflow/cc/saved_model/loader.cc:301] SavedModel load for tags { serve }; Status: success: OK. Took 1643165 microseconds.\n"
     ]
    },
    {
     "name": "stdout",
     "output_type": "stream",
     "text": [
      "Training started - epochs: 8 - learning_rate: 3.0E-4 - batch_size: 64 - training_examples: 5521 - classes: 14\n",
      "Epoch 1/8 - 0.69s - loss: 194.76477 - acc: 0.55561733 - batches: 87\n",
      "Epoch 2/8 - 0.36s - loss: 186.19788 - acc: 0.5999487 - batches: 87\n",
      "Epoch 3/8 - 0.38s - loss: 185.46783 - acc: 0.6060833 - batches: 87\n",
      "Epoch 4/8 - 0.38s - loss: 185.19696 - acc: 0.60662836 - batches: 87\n",
      "Epoch 5/8 - 0.36s - loss: 185.05669 - acc: 0.60753673 - batches: 87\n",
      "Epoch 6/8 - 0.37s - loss: 184.95215 - acc: 0.60844517 - batches: 87\n",
      "Epoch 7/8 - 0.36s - loss: 184.86292 - acc: 0.6088086 - batches: 87\n",
      "Epoch 8/8 - 0.36s - loss: 184.78632 - acc: 0.60899025 - batches: 87\n",
      "CPU times: user 138 ms, sys: 27.6 ms, total: 166 ms\n",
      "Wall time: 11min 2s\n"
     ]
    }
   ],
   "source": [
    "%%time\n",
    "clf_pipelineModel = clf_pipeline.fit(train)"
   ]
  },
  {
   "cell_type": "code",
   "execution_count": null,
   "id": "IEK22MWg0lCQ",
   "metadata": {
    "id": "IEK22MWg0lCQ"
   },
   "outputs": [],
   "source": [
    "preds = clf_pipelineModel.transform(test)"
   ]
  },
  {
   "cell_type": "code",
   "execution_count": 57,
   "id": "0QMopvFG0lCQ",
   "metadata": {
    "id": "0QMopvFG0lCQ"
   },
   "outputs": [
    {
     "name": "stderr",
     "output_type": "stream",
     "text": [
      "                                                                                \r"
     ]
    }
   ],
   "source": [
    "preds_df = preds.select('label','text',\"class.result\").toPandas()"
   ]
  },
  {
   "cell_type": "code",
   "execution_count": 58,
   "id": "ADdEhII40lCR",
   "metadata": {
    "colab": {
     "base_uri": "https://localhost:8080/",
     "height": 206
    },
    "executionInfo": {
     "elapsed": 18,
     "status": "ok",
     "timestamp": 1664491078637,
     "user": {
      "displayName": "Monster C",
      "userId": "08787989274818793476"
     },
     "user_tz": -180
    },
    "id": "ADdEhII40lCR",
    "outputId": "adcb2b08-6ec7-488d-ba73-cd98a1ec28d8"
   },
   "outputs": [
    {
     "data": {
      "text/html": [
       "<div>\n",
       "<style scoped>\n",
       "    .dataframe tbody tr th:only-of-type {\n",
       "        vertical-align: middle;\n",
       "    }\n",
       "\n",
       "    .dataframe tbody tr th {\n",
       "        vertical-align: top;\n",
       "    }\n",
       "\n",
       "    .dataframe thead th {\n",
       "        text-align: right;\n",
       "    }\n",
       "</style>\n",
       "<table border=\"1\" class=\"dataframe\">\n",
       "  <thead>\n",
       "    <tr style=\"text-align: right;\">\n",
       "      <th></th>\n",
       "      <th>label</th>\n",
       "      <th>text</th>\n",
       "      <th>result</th>\n",
       "    </tr>\n",
       "  </thead>\n",
       "  <tbody>\n",
       "    <tr>\n",
       "      <th>0</th>\n",
       "      <td>financial_statements</td>\n",
       "      <td>\\n \\n\\n\\nComplexity in the application of rele...</td>\n",
       "      <td>[financial_statements]</td>\n",
       "    </tr>\n",
       "    <tr>\n",
       "      <th>1</th>\n",
       "      <td>financial_statements</td>\n",
       "      <td>\\n \\n\\nWeighted Avg \\n\\nExercise Prices\\n\\n \\n...</td>\n",
       "      <td>[financial_statements]</td>\n",
       "    </tr>\n",
       "    <tr>\n",
       "      <th>2</th>\n",
       "      <td>financial_statements</td>\n",
       "      <td>\\n 1 744\\n \\n 367\\n \\n 2 375\\n \\n 1 376\\n \\n ...</td>\n",
       "      <td>[financial_statements]</td>\n",
       "    </tr>\n",
       "    <tr>\n",
       "      <th>3</th>\n",
       "      <td>financial_statements</td>\n",
       "      <td>\\n2 198 \\n \\n1 630 \\n \\n1 782 \\nCash paid for...</td>\n",
       "      <td>[financial_statements]</td>\n",
       "    </tr>\n",
       "    <tr>\n",
       "      <th>4</th>\n",
       "      <td>business</td>\n",
       "      <td>\\nCloud and mobile enabled \\n Our business ma...</td>\n",
       "      <td>[risk_factors]</td>\n",
       "    </tr>\n",
       "  </tbody>\n",
       "</table>\n",
       "</div>"
      ],
      "text/plain": [
       "                  label                                               text  \\\n",
       "0  financial_statements  \\n \\n\\n\\nComplexity in the application of rele...   \n",
       "1  financial_statements  \\n \\n\\nWeighted Avg \\n\\nExercise Prices\\n\\n \\n...   \n",
       "2  financial_statements   \\n 1 744\\n \\n 367\\n \\n 2 375\\n \\n 1 376\\n \\n ...   \n",
       "3  financial_statements   \\n2 198 \\n \\n1 630 \\n \\n1 782 \\nCash paid for...   \n",
       "4              business   \\nCloud and mobile enabled \\n Our business ma...   \n",
       "\n",
       "                   result  \n",
       "0  [financial_statements]  \n",
       "1  [financial_statements]  \n",
       "2  [financial_statements]  \n",
       "3  [financial_statements]  \n",
       "4          [risk_factors]  "
      ]
     },
     "execution_count": 58,
     "metadata": {},
     "output_type": "execute_result"
    }
   ],
   "source": [
    "preds_df.head()"
   ]
  },
  {
   "cell_type": "code",
   "execution_count": 59,
   "id": "wvc6vZjH0lCS",
   "metadata": {
    "colab": {
     "base_uri": "https://localhost:8080/"
    },
    "executionInfo": {
     "elapsed": 16,
     "status": "ok",
     "timestamp": 1664491078638,
     "user": {
      "displayName": "Monster C",
      "userId": "08787989274818793476"
     },
     "user_tz": -180
    },
    "id": "wvc6vZjH0lCS",
    "outputId": "758762fb-2ada-4d46-fea5-42685a104dae"
   },
   "outputs": [
    {
     "name": "stdout",
     "output_type": "stream",
     "text": [
      "                         precision    recall  f1-score   support\n",
      "\n",
      "               business       0.00      0.00      0.00       103\n",
      "    controls_procedures       0.00      0.00      0.00        12\n",
      "                 equity       0.00      0.00      0.00        16\n",
      "             executives       0.00      0.00      0.00         6\n",
      "executives_compensation       0.00      0.00      0.00        14\n",
      "   financial_conditions       0.00      0.00      0.00        31\n",
      "   financial_statements       0.61      0.97      0.75       192\n",
      "       form_10k_summary       0.00      0.00      0.00        21\n",
      "      legal_proceedings       0.00      0.00      0.00         4\n",
      "            market_risk       0.00      0.00      0.00         5\n",
      "             properties       0.00      0.00      0.00         9\n",
      "           risk_factors       0.61      0.97      0.75       188\n",
      "     security_ownership       0.00      0.00      0.00         6\n",
      "\n",
      "               accuracy                           0.61       607\n",
      "              macro avg       0.09      0.15      0.12       607\n",
      "           weighted avg       0.38      0.61      0.47       607\n",
      "\n"
     ]
    }
   ],
   "source": [
    "# Let's explode the array and get the item(s) inside of result column out\n",
    "preds_df['result'] = preds_df['result'].apply(lambda x : x[0])\n",
    "\n",
    "from sklearn.metrics import classification_report\n",
    "\n",
    "print (classification_report(preds_df['label'], preds_df['result']))\n"
   ]
  },
  {
   "cell_type": "markdown",
   "id": "rMHZmT9_deAQ",
   "metadata": {
    "id": "rMHZmT9_deAQ"
   },
   "source": [
    "# Save model and Zip it for Modelshub Upload/Downloads"
   ]
  },
  {
   "cell_type": "code",
   "execution_count": 53,
   "id": "QZ79YbdodfFc",
   "metadata": {
    "colab": {
     "base_uri": "https://localhost:8080/"
    },
    "executionInfo": {
     "elapsed": 2776,
     "status": "ok",
     "timestamp": 1664491081400,
     "user": {
      "displayName": "Monster C",
      "userId": "08787989274818793476"
     },
     "user_tz": -180
    },
    "id": "QZ79YbdodfFc",
    "outputId": "92c2c408-38bc-423d-c587-9de66485b9cd"
   },
   "outputs": [],
   "source": [
    "# Save a Spark NLP model\n",
    "clf_pipelineModel.stages[-1].write().overwrite().save('ClfBert')\n"
   ]
  },
  {
   "cell_type": "code",
   "execution_count": 54,
   "id": "7b051e5e-79c0-4b85-ab52-4460ab9950da",
   "metadata": {},
   "outputs": [
    {
     "data": {
      "text/plain": [
       "'/home/ubuntu/notebooks/examples/finance/ClfBert.zip'"
      ]
     },
     "execution_count": 54,
     "metadata": {},
     "output_type": "execute_result"
    }
   ],
   "source": [
    "import shutil\n",
    "\n",
    "shutil.make_archive('ClfBert', 'zip', 'ClfBert')"
   ]
  },
  {
   "cell_type": "code",
   "execution_count": null,
   "id": "3d14d5ef-d021-47d4-b4d1-579e2593a8a6",
   "metadata": {},
   "outputs": [],
   "source": []
  },
  {
   "cell_type": "code",
   "execution_count": null,
   "id": "220ed228-26f6-43b0-9c48-eb7699c9c94f",
   "metadata": {},
   "outputs": [],
   "source": []
  },
  {
   "cell_type": "code",
   "execution_count": null,
   "id": "7bbcfc71-169a-451e-b7e3-fb4710907f9f",
   "metadata": {},
   "outputs": [],
   "source": []
  }
 ],
 "metadata": {
  "accelerator": "GPU",
  "colab": {
   "collapsed_sections": [],
   "machine_shape": "hm",
   "provenance": [],
   "toc_visible": true
  },
  "kernelspec": {
   "display_name": "jsl4.2.3",
   "language": "python",
   "name": "jsl4.2.3"
  },
  "language_info": {
   "codemirror_mode": {
    "name": "ipython",
    "version": 3
   },
   "file_extension": ".py",
   "mimetype": "text/x-python",
   "name": "python",
   "nbconvert_exporter": "python",
   "pygments_lexer": "ipython3",
   "version": "3.8.10"
  }
 },
 "nbformat": 4,
 "nbformat_minor": 5
}

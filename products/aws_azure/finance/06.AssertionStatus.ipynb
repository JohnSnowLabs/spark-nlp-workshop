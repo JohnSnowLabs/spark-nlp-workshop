{
 "cells": [
  {
   "cell_type": "markdown",
   "id": "VNRiKOH_u_jP",
   "metadata": {
    "id": "VNRiKOH_u_jP"
   },
   "source": [
    "![JohnSnowLabs](https://nlp.johnsnowlabs.com/assets/images/logo.png)"
   ]
  },
  {
   "cell_type": "markdown",
   "id": "fa8fbe50-f928-45ff-b539-0ab62a7c40b2",
   "metadata": {
    "id": "fa8fbe50-f928-45ff-b539-0ab62a7c40b2"
   },
   "source": [
    "# Financial Assertion Status Model "
   ]
  },
  {
   "cell_type": "markdown",
   "id": "49773d89-8ccc-40d6-b9fc-1d9e64853d5f",
   "metadata": {
    "id": "okhT7AcXxben"
   },
   "source": [
    "## Setup"
   ]
  },
  {
   "cell_type": "code",
   "execution_count": null,
   "id": "38505fb5-d57e-47c8-9411-edf9a9effc42",
   "metadata": {
    "colab": {
     "base_uri": "https://localhost:8080/"
    },
    "executionInfo": {
     "elapsed": 115199,
     "status": "ok",
     "timestamp": 1664816113389,
     "user": {
      "displayName": "Damla",
      "userId": "03285166568766987047"
     },
     "user_tz": -120
    },
    "id": "dmcB5zVBHZO8",
    "outputId": "cd366e47-7f4d-457a-dfe5-3ed5174d4a0c"
   },
   "outputs": [],
   "source": [
    "from johnsnowlabs import *\n",
    "\n",
    "import json\n",
    "import os\n",
    "\n",
    "import numpy as np\n",
    "import pandas as pd\n",
    "\n",
    "spark = start_spark()"
   ]
  },
  {
   "cell_type": "markdown",
   "id": "caeae8fe-c276-4c47-a137-69f325bb105c",
   "metadata": {
    "id": "caeae8fe-c276-4c47-a137-69f325bb105c"
   },
   "source": [
    "## Identify COMPETITORS in a Text with Assertion Status"
   ]
  },
  {
   "cell_type": "markdown",
   "id": "94fe87f8-6282-4f41-82a3-34d2a2744d0b",
   "metadata": {
    "id": "94fe87f8-6282-4f41-82a3-34d2a2744d0b"
   },
   "source": [
    "This model uses Assertion Status to identify if a **PRODUCT** or an **ORG** is mentioned to be a competitor. By default, if nothing is mentioned, it returns **NO_COMPETITOR**."
   ]
  },
  {
   "cell_type": "code",
   "execution_count": null,
   "id": "9d612414-0e2c-41bd-b9a1-3158ce9400eb",
   "metadata": {
    "colab": {
     "base_uri": "https://localhost:8080/"
    },
    "executionInfo": {
     "elapsed": 53346,
     "status": "ok",
     "timestamp": 1664819982714,
     "user": {
      "displayName": "Damla",
      "userId": "03285166568766987047"
     },
     "user_tz": -120
    },
    "id": "9d612414-0e2c-41bd-b9a1-3158ce9400eb",
    "outputId": "e2b8e4b0-4f12-41c6-d9ef-8aab82ed5f0c",
    "tags": []
   },
   "outputs": [],
   "source": [
    "document_assembler = nlp.DocumentAssembler()\\\n",
    "    .setInputCol(\"text\")\\\n",
    "    .setOutputCol(\"document\")\n",
    "\n",
    "# Sentence Detector annotator, processes various sentences per line\n",
    "sentence_detector =  nlp.SentenceDetector()\\\n",
    "    .setInputCols([\"document\"])\\\n",
    "    .setOutputCol(\"sentence\")\n",
    "\n",
    "# Tokenizer splits words in a relevant format for NLP\n",
    "tokenizer =  nlp.Tokenizer()\\\n",
    "    .setInputCols([\"sentence\"])\\\n",
    "    .setOutputCol(\"token\")\n",
    "\n",
    "embeddings =  nlp.BertEmbeddings.pretrained(\"bert_embeddings_sec_bert_base\",\"en\") \\\n",
    "    .setInputCols([\"sentence\", \"token\"]) \\\n",
    "    .setOutputCol(\"embeddings\")\n",
    "\n",
    "ner_model = finance.NerModel.pretrained(\"finner_orgs_prods_alias\",\"en\",\"finance/models\")\\\n",
    "    .setInputCols([\"sentence\", \"token\", \"embeddings\"]) \\\n",
    "    .setOutputCol(\"ner\")\\\n",
    "\n",
    "ner_converter = finance.NerConverterInternal() \\\n",
    "    .setInputCols([\"sentence\", \"token\", \"ner\"]) \\\n",
    "    .setOutputCol(\"ner_chunk\")\\\n",
    "\n",
    "assertion = finance.AssertionDLModel.pretrained(\"finassertion_competitors\", \"en\", \"finance/models\")\\\n",
    "    .setInputCols([\"sentence\", \"ner_chunk\", \"embeddings\"]) \\\n",
    "    .setOutputCol(\"assertion\")\n",
    "    \n",
    "pipeline = nlp.Pipeline(stages=[\n",
    "    document_assembler, \n",
    "    sentence_detector,\n",
    "    tokenizer,\n",
    "    embeddings,\n",
    "    ner_model,\n",
    "    ner_converter,\n",
    "    assertion\n",
    "    ])\n",
    "\n",
    "empty_df = spark.createDataFrame([[\"\"]]).toDF(\"text\")\n",
    "\n",
    "model = pipeline.fit(empty_df)\n",
    "\n",
    "light_model = nlp.LightPipeline(model)"
   ]
  },
  {
   "cell_type": "markdown",
   "id": "936ed953-a926-4e76-af5d-c8290a86a556",
   "metadata": {
    "id": "936ed953-a926-4e76-af5d-c8290a86a556"
   },
   "source": [
    "### Getting Result "
   ]
  },
  {
   "cell_type": "code",
   "execution_count": 3,
   "id": "5a3cb7ee-3198-42d2-b0f9-9476a5052d2f",
   "metadata": {
    "id": "5a3cb7ee-3198-42d2-b0f9-9476a5052d2f"
   },
   "outputs": [],
   "source": [
    "sample_text = \"\"\"Our competitors include the following by general category: legacy antivirus product providers, such as McAfee LLC and Broadcom Inc.\"\"\""
   ]
  },
  {
   "cell_type": "code",
   "execution_count": 4,
   "id": "0619023c-a6c3-4b61-837c-06af6ea02804",
   "metadata": {
    "id": "0619023c-a6c3-4b61-837c-06af6ea02804"
   },
   "outputs": [],
   "source": [
    "data = spark.createDataFrame([[sample_text]]).toDF(\"text\")"
   ]
  },
  {
   "cell_type": "code",
   "execution_count": null,
   "id": "3e7299b0-24d3-4bf7-bf95-833b950132f8",
   "metadata": {
    "id": "3e7299b0-24d3-4bf7-bf95-833b950132f8"
   },
   "outputs": [],
   "source": [
    "result = model.transform(data)"
   ]
  },
  {
   "cell_type": "code",
   "execution_count": 8,
   "id": "76bd5600-1705-482e-b728-e0459212ea53",
   "metadata": {
    "colab": {
     "base_uri": "https://localhost:8080/"
    },
    "executionInfo": {
     "elapsed": 8378,
     "status": "ok",
     "timestamp": 1664819991501,
     "user": {
      "displayName": "Damla",
      "userId": "03285166568766987047"
     },
     "user_tz": -120
    },
    "id": "76bd5600-1705-482e-b728-e0459212ea53",
    "outputId": "d04ac60f-d9f6-453d-cd1a-489eb70761ad"
   },
   "outputs": [
    {
     "name": "stderr",
     "output_type": "stream",
     "text": [
      "[Stage 14:======================================>                   (2 + 1) / 3]\r"
     ]
    },
    {
     "name": "stdout",
     "output_type": "stream",
     "text": [
      "+-------+------------+---------+----------+\n",
      "|sent_id|chunk       |ner_label|assertion |\n",
      "+-------+------------+---------+----------+\n",
      "|0      |McAfee LLC  |ORG      |COMPETITOR|\n",
      "|0      |Broadcom Inc|ORG      |COMPETITOR|\n",
      "+-------+------------+---------+----------+\n",
      "\n"
     ]
    },
    {
     "name": "stderr",
     "output_type": "stream",
     "text": [
      "                                                                                \r"
     ]
    }
   ],
   "source": [
    "import pyspark.sql.functions as F\n",
    "\n",
    "result.select(F.explode(F.arrays_zip(result.ner_chunk.result, result.ner_chunk.metadata, result.assertion.result)).alias(\"cols\"))\\\n",
    "      .select(F.expr(\"cols['1']['sentence']\").alias(\"sent_id\"),\n",
    "              F.expr(\"cols['0']\").alias(\"chunk\"),\n",
    "              F.expr(\"cols['1']['entity']\").alias(\"ner_label\"),\n",
    "              F.expr(\"cols['2']\").alias(\"assertion\")).show(truncate=False)"
   ]
  },
  {
   "cell_type": "markdown",
   "id": "45de1301-4cba-432e-9d62-9e3a92b484a1",
   "metadata": {
    "id": "45de1301-4cba-432e-9d62-9e3a92b484a1"
   },
   "source": [
    "### Getting Result with LightPipeline"
   ]
  },
  {
   "cell_type": "code",
   "execution_count": null,
   "id": "cc030bfe-fc6d-4e47-8daf-a527744c9e73",
   "metadata": {
    "colab": {
     "base_uri": "https://localhost:8080/",
     "height": 109
    },
    "executionInfo": {
     "elapsed": 817,
     "status": "ok",
     "timestamp": 1664819992310,
     "user": {
      "displayName": "Damla",
      "userId": "03285166568766987047"
     },
     "user_tz": -120
    },
    "id": "cc030bfe-fc6d-4e47-8daf-a527744c9e73",
    "outputId": "5271f6ab-d5a2-4c7d-f17b-852b506414eb"
   },
   "outputs": [],
   "source": [
    "import pandas as pd\n",
    "\n",
    "light_result = light_model.fullAnnotate(sample_text)[0]\n",
    "\n",
    "chunks=[]\n",
    "entities=[]\n",
    "status=[]\n",
    "\n",
    "for n,m in zip(light_result['ner_chunk'],light_result['assertion']):\n",
    "    \n",
    "    chunks.append(n.result)\n",
    "    entities.append(n.metadata['entity']) \n",
    "    status.append(m.result)\n",
    "        "
   ]
  },
  {
   "cell_type": "code",
   "execution_count": 11,
   "id": "742349e9-32fe-4a0e-998e-257336e80e0f",
   "metadata": {},
   "outputs": [
    {
     "data": {
      "text/html": [
       "<div>\n",
       "<style scoped>\n",
       "    .dataframe tbody tr th:only-of-type {\n",
       "        vertical-align: middle;\n",
       "    }\n",
       "\n",
       "    .dataframe tbody tr th {\n",
       "        vertical-align: top;\n",
       "    }\n",
       "\n",
       "    .dataframe thead th {\n",
       "        text-align: right;\n",
       "    }\n",
       "</style>\n",
       "<table border=\"1\" class=\"dataframe\">\n",
       "  <thead>\n",
       "    <tr style=\"text-align: right;\">\n",
       "      <th></th>\n",
       "      <th>chunks</th>\n",
       "      <th>entities</th>\n",
       "      <th>assertion</th>\n",
       "    </tr>\n",
       "  </thead>\n",
       "  <tbody>\n",
       "    <tr>\n",
       "      <th>0</th>\n",
       "      <td>McAfee LLC</td>\n",
       "      <td>ORG</td>\n",
       "      <td>COMPETITOR</td>\n",
       "    </tr>\n",
       "    <tr>\n",
       "      <th>1</th>\n",
       "      <td>Broadcom Inc</td>\n",
       "      <td>ORG</td>\n",
       "      <td>COMPETITOR</td>\n",
       "    </tr>\n",
       "  </tbody>\n",
       "</table>\n",
       "</div>"
      ],
      "text/plain": [
       "         chunks entities   assertion\n",
       "0    McAfee LLC      ORG  COMPETITOR\n",
       "1  Broadcom Inc      ORG  COMPETITOR"
      ]
     },
     "execution_count": 11,
     "metadata": {},
     "output_type": "execute_result"
    }
   ],
   "source": [
    "df = pd.DataFrame({'chunks':chunks, 'entities':entities, 'assertion':status})\n",
    "\n",
    "df"
   ]
  },
  {
   "cell_type": "markdown",
   "id": "c9aaa35d-28db-46f7-b687-eb17b3352424",
   "metadata": {
    "id": "c9aaa35d-28db-46f7-b687-eb17b3352424"
   },
   "source": [
    "### Visualization of Assertion Status"
   ]
  },
  {
   "cell_type": "code",
   "execution_count": 12,
   "id": "f619b1a3-6937-4914-88d3-13b4ad086491",
   "metadata": {
    "colab": {
     "base_uri": "https://localhost:8080/",
     "height": 116
    },
    "executionInfo": {
     "elapsed": 17,
     "status": "ok",
     "timestamp": 1664819992311,
     "user": {
      "displayName": "Damla",
      "userId": "03285166568766987047"
     },
     "user_tz": -120
    },
    "id": "f619b1a3-6937-4914-88d3-13b4ad086491",
    "outputId": "8bee39ad-3d38-40d7-c9ac-e5f820905eb1"
   },
   "outputs": [
    {
     "data": {
      "text/html": [
       "\n",
       "<style>\n",
       "    @import url('https://fonts.googleapis.com/css2?family=Montserrat:wght@300;400;500;600;700&display=swap');\n",
       "    @import url('https://fonts.googleapis.com/css2?family=Vistol Regular:wght@300;400;500;600;700&display=swap');\n",
       "    \n",
       "    .spark-nlp-display-scroll-entities {\n",
       "        border: 1px solid #E7EDF0;\n",
       "        border-radius: 3px;\n",
       "        text-align: justify;\n",
       "        \n",
       "    }\n",
       "    .spark-nlp-display-scroll-entities span {  \n",
       "        font-size: 14px;\n",
       "        line-height: 24px;\n",
       "        color: #536B76;\n",
       "        font-family: 'Montserrat', sans-serif !important;\n",
       "    }\n",
       "    \n",
       "    .spark-nlp-display-entity-wrapper{\n",
       "    \n",
       "        display: inline-grid;\n",
       "        text-align: center;\n",
       "        border-radius: 4px;\n",
       "        margin: 0 2px 5px 2px;\n",
       "        padding: 1px\n",
       "    }\n",
       "    .spark-nlp-display-entity-name{\n",
       "        font-size: 14px;\n",
       "        line-height: 24px;\n",
       "        font-family: 'Montserrat', sans-serif !important;\n",
       "        \n",
       "        background: #f1f2f3;\n",
       "        border-width: medium;\n",
       "        text-align: center;\n",
       "        \n",
       "        font-weight: 400;\n",
       "        \n",
       "        border-radius: 5px;\n",
       "        padding: 2px 5px;\n",
       "        display: block;\n",
       "        margin: 3px 2px;\n",
       "    \n",
       "    }\n",
       "    .spark-nlp-display-entity-type{\n",
       "        font-size: 14px;\n",
       "        line-height: 24px;\n",
       "        color: #ffffff;\n",
       "        font-family: 'Montserrat', sans-serif !important;\n",
       "        \n",
       "        text-transform: uppercase;\n",
       "        \n",
       "        font-weight: 500;\n",
       "\n",
       "        display: block;\n",
       "        padding: 3px 5px;\n",
       "    }\n",
       "    \n",
       "    .spark-nlp-display-entity-resolution{\n",
       "        font-size: 14px;\n",
       "        line-height: 24px;\n",
       "        color: #ffffff;\n",
       "        font-family: 'Vistol Regular', sans-serif !important;\n",
       "        \n",
       "        text-transform: uppercase;\n",
       "        \n",
       "        font-weight: 500;\n",
       "\n",
       "        display: block;\n",
       "        padding: 3px 5px;\n",
       "    }\n",
       "    \n",
       "    .spark-nlp-display-others{\n",
       "        font-size: 14px;\n",
       "        line-height: 24px;\n",
       "        font-family: 'Montserrat', sans-serif !important;\n",
       "        \n",
       "        font-weight: 400;\n",
       "    }\n",
       "\n",
       "</style>\n",
       " <span class=\"spark-nlp-display-others\" style=\"background-color: white\">Our competitors include the following by general category: legacy antivirus product providers, such as </span><span class=\"spark-nlp-display-entity-wrapper\" style=\"background-color: #180E7CB3\"><span class=\"spark-nlp-display-entity-name\">McAfee LLC </span><span class=\"spark-nlp-display-entity-type\">ORG</span><span class=\"spark-nlp-display-entity-resolution\" style=\"background-color: #180E7CFF\">COMPETITOR </span></span><span class=\"spark-nlp-display-others\" style=\"background-color: white\"> and </span><span class=\"spark-nlp-display-entity-wrapper\" style=\"background-color: #180E7CB3\"><span class=\"spark-nlp-display-entity-name\">Broadcom Inc </span><span class=\"spark-nlp-display-entity-type\">ORG</span><span class=\"spark-nlp-display-entity-resolution\" style=\"background-color: #180E7CFF\">COMPETITOR </span></span><span class=\"spark-nlp-display-others\" style=\"background-color: white\">.</span></div>"
      ],
      "text/plain": [
       "<IPython.core.display.HTML object>"
      ]
     },
     "metadata": {},
     "output_type": "display_data"
    }
   ],
   "source": [
    "# from sparknlp_display import AssertionVisualizer\n",
    "\n",
    "vis = viz.AssertionVisualizer()\n",
    "\n",
    "vis.display(light_result, 'ner_chunk', 'assertion')"
   ]
  },
  {
   "cell_type": "markdown",
   "id": "3679b0a8-5449-4d2d-b5bd-243f4a64c0ba",
   "metadata": {
    "id": "3679b0a8-5449-4d2d-b5bd-243f4a64c0ba"
   },
   "source": [
    "## Writing a Generic Assertion + NER Function"
   ]
  },
  {
   "cell_type": "code",
   "execution_count": 13,
   "id": "2fb1ea6b-2a6c-41b1-b192-769a67e37a8d",
   "metadata": {
    "id": "2fb1ea6b-2a6c-41b1-b192-769a67e37a8d",
    "tags": []
   },
   "outputs": [],
   "source": [
    "# from pyspark.sql.functions import monotonically_increasing_id\n",
    "\n",
    "def get_base_pipeline(embeddings):\n",
    "\n",
    "    documentAssembler = nlp.DocumentAssembler()\\\n",
    "        .setInputCol(\"text\")\\\n",
    "        .setOutputCol(\"document\")\n",
    "\n",
    "    sentenceDetector = nlp.SentenceDetector()\\\n",
    "        .setInputCols([\"document\"])\\\n",
    "        .setOutputCol(\"sentence\")\n",
    "\n",
    "    tokenizer = nlp.Tokenizer()\\\n",
    "        .setInputCols([\"sentence\"])\\\n",
    "        .setOutputCol(\"token\")\n",
    "\n",
    "    embeddings = nlp.BertEmbeddings.pretrained(embeddings, \"en\") \\\n",
    "        .setInputCols([\"sentence\", \"token\"]) \\\n",
    "        .setOutputCol(\"embeddings\")\n",
    "\n",
    "    base_pipeline = nlp.Pipeline(stages=[\n",
    "                        document_assembler,\n",
    "                        sentence_detector,\n",
    "                        tokenizer,\n",
    "                        embeddings])\n",
    "\n",
    "    return base_pipeline\n",
    "\n",
    "\n",
    "def get_assertion (embeddings, ner_model, assertion_model):\n",
    "\n",
    "    ner = finance.NerModel.pretrained(ner_model, \"en\", \"finance/models\")\\\n",
    "        .setInputCols([\"sentence\", \"token\", \"embeddings\"]) \\\n",
    "        .setOutputCol(\"ner\")\n",
    "\n",
    "    ner_converter = nlp.NerConverter() \\\n",
    "        .setInputCols([\"sentence\", \"token\", \"ner\"]) \\\n",
    "        .setOutputCol(\"ner_chunk\")\n",
    "    \n",
    "    assertion = finance.AssertionDLModel.pretrained(assertion_model, \"en\", \"finance/models\")\\\n",
    "        .setInputCols([\"sentence\", \"ner_chunk\", \"embeddings\"])\\\n",
    "        .setOutputCol(\"assertion\")\n",
    "      \n",
    "    base_model = get_base_pipeline(embeddings)\n",
    "\n",
    "    nlp_pipeline = nlp.Pipeline(stages=[\n",
    "        base_model,\n",
    "        ner,\n",
    "        ner_converter,\n",
    "        assertion])\n",
    "\n",
    "    empty_data = spark.createDataFrame([[\"\"]]).toDF(\"text\")\n",
    "\n",
    "    model = nlp_pipeline.fit(empty_data)\n",
    "    \n",
    "    light_model = nlp.LightPipeline(model)\n",
    "    \n",
    "    return light_model\n",
    "    "
   ]
  },
  {
   "cell_type": "markdown",
   "id": "c8bf2070-6bf4-4523-8a6f-5e9d3679787f",
   "metadata": {
    "id": "c8bf2070-6bf4-4523-8a6f-5e9d3679787f"
   },
   "source": [
    "### Getting Result with LightPipeline"
   ]
  },
  {
   "cell_type": "code",
   "execution_count": null,
   "id": "b42476c7-d308-47fb-9218-1f73d99d3830",
   "metadata": {
    "colab": {
     "base_uri": "https://localhost:8080/"
    },
    "executionInfo": {
     "elapsed": 10199,
     "status": "ok",
     "timestamp": 1664820002499,
     "user": {
      "displayName": "Damla",
      "userId": "03285166568766987047"
     },
     "user_tz": -120
    },
    "id": "b42476c7-d308-47fb-9218-1f73d99d3830",
    "outputId": "319c0f81-9700-4379-d23b-24e1b7e07307",
    "tags": []
   },
   "outputs": [],
   "source": [
    "sample_text = \"\"\"EDH combines our Cloudera Data Warehouse, Cloudera Operational DB, and Cloudera Data Science with our SDX technology.\"\"\"\n",
    "\n",
    "embeddings = \"bert_embeddings_sec_bert_base\"\n",
    "\n",
    "ner_model = \"finner_orgs_prods_alias\"\n",
    "\n",
    "assertion_model = \"finassertion_competitors\"\n",
    "\n",
    "light_result = get_assertion(embeddings, ner_model, assertion_model).fullAnnotate(sample_text)[0]\n",
    "\n",
    "chunks=[]\n",
    "entities=[]\n",
    "status=[]\n",
    "\n",
    "for n,m in zip(light_result['ner_chunk'],light_result['assertion']):\n",
    "\n",
    "    chunks.append(n.result)\n",
    "    entities.append(n.metadata['entity']) \n",
    "    status.append(m.result)\n",
    "\n",
    "df = pd.DataFrame({'chunks':chunks, 'entities':entities, 'assertion':status})"
   ]
  },
  {
   "cell_type": "code",
   "execution_count": 15,
   "id": "ec16bf66-96da-4d05-b6dd-5f0ddb58446b",
   "metadata": {
    "colab": {
     "base_uri": "https://localhost:8080/",
     "height": 201
    },
    "executionInfo": {
     "elapsed": 13,
     "status": "ok",
     "timestamp": 1664820002499,
     "user": {
      "displayName": "Damla",
      "userId": "03285166568766987047"
     },
     "user_tz": -120
    },
    "id": "ec16bf66-96da-4d05-b6dd-5f0ddb58446b",
    "outputId": "484eeebe-0d95-4707-dde6-74d99f1e025f"
   },
   "outputs": [
    {
     "data": {
      "text/html": [
       "<div>\n",
       "<style scoped>\n",
       "    .dataframe tbody tr th:only-of-type {\n",
       "        vertical-align: middle;\n",
       "    }\n",
       "\n",
       "    .dataframe tbody tr th {\n",
       "        vertical-align: top;\n",
       "    }\n",
       "\n",
       "    .dataframe thead th {\n",
       "        text-align: right;\n",
       "    }\n",
       "</style>\n",
       "<table border=\"1\" class=\"dataframe\">\n",
       "  <thead>\n",
       "    <tr style=\"text-align: right;\">\n",
       "      <th></th>\n",
       "      <th>chunks</th>\n",
       "      <th>entities</th>\n",
       "      <th>assertion</th>\n",
       "    </tr>\n",
       "  </thead>\n",
       "  <tbody>\n",
       "    <tr>\n",
       "      <th>0</th>\n",
       "      <td>EDH</td>\n",
       "      <td>ORG</td>\n",
       "      <td>NO_COMPETITOR</td>\n",
       "    </tr>\n",
       "    <tr>\n",
       "      <th>1</th>\n",
       "      <td>Cloudera Data Warehouse</td>\n",
       "      <td>PRODUCT</td>\n",
       "      <td>NO_COMPETITOR</td>\n",
       "    </tr>\n",
       "    <tr>\n",
       "      <th>2</th>\n",
       "      <td>Cloudera Operational DB</td>\n",
       "      <td>PRODUCT</td>\n",
       "      <td>NO_COMPETITOR</td>\n",
       "    </tr>\n",
       "    <tr>\n",
       "      <th>3</th>\n",
       "      <td>Cloudera Data Science</td>\n",
       "      <td>PRODUCT</td>\n",
       "      <td>NO_COMPETITOR</td>\n",
       "    </tr>\n",
       "    <tr>\n",
       "      <th>4</th>\n",
       "      <td>SDX</td>\n",
       "      <td>PRODUCT</td>\n",
       "      <td>NO_COMPETITOR</td>\n",
       "    </tr>\n",
       "  </tbody>\n",
       "</table>\n",
       "</div>"
      ],
      "text/plain": [
       "                    chunks entities      assertion\n",
       "0                      EDH      ORG  NO_COMPETITOR\n",
       "1  Cloudera Data Warehouse  PRODUCT  NO_COMPETITOR\n",
       "2  Cloudera Operational DB  PRODUCT  NO_COMPETITOR\n",
       "3    Cloudera Data Science  PRODUCT  NO_COMPETITOR\n",
       "4                      SDX  PRODUCT  NO_COMPETITOR"
      ]
     },
     "execution_count": 15,
     "metadata": {},
     "output_type": "execute_result"
    }
   ],
   "source": [
    "df"
   ]
  },
  {
   "cell_type": "markdown",
   "id": "ced0012d-b3e1-4e28-b9a1-64d433a84313",
   "metadata": {
    "id": "ced0012d-b3e1-4e28-b9a1-64d433a84313"
   },
   "source": [
    "### Visualization of Assertion Status"
   ]
  },
  {
   "cell_type": "code",
   "execution_count": 16,
   "id": "ee86323e-e79d-453b-8b79-5e8ad235576a",
   "metadata": {
    "colab": {
     "base_uri": "https://localhost:8080/",
     "height": 116
    },
    "executionInfo": {
     "elapsed": 11,
     "status": "ok",
     "timestamp": 1664820002500,
     "user": {
      "displayName": "Damla",
      "userId": "03285166568766987047"
     },
     "user_tz": -120
    },
    "id": "ee86323e-e79d-453b-8b79-5e8ad235576a",
    "outputId": "69460b86-be41-40bd-dcbd-68e63dd6fbf8"
   },
   "outputs": [
    {
     "data": {
      "text/html": [
       "\n",
       "<style>\n",
       "    @import url('https://fonts.googleapis.com/css2?family=Montserrat:wght@300;400;500;600;700&display=swap');\n",
       "    @import url('https://fonts.googleapis.com/css2?family=Vistol Regular:wght@300;400;500;600;700&display=swap');\n",
       "    \n",
       "    .spark-nlp-display-scroll-entities {\n",
       "        border: 1px solid #E7EDF0;\n",
       "        border-radius: 3px;\n",
       "        text-align: justify;\n",
       "        \n",
       "    }\n",
       "    .spark-nlp-display-scroll-entities span {  \n",
       "        font-size: 14px;\n",
       "        line-height: 24px;\n",
       "        color: #536B76;\n",
       "        font-family: 'Montserrat', sans-serif !important;\n",
       "    }\n",
       "    \n",
       "    .spark-nlp-display-entity-wrapper{\n",
       "    \n",
       "        display: inline-grid;\n",
       "        text-align: center;\n",
       "        border-radius: 4px;\n",
       "        margin: 0 2px 5px 2px;\n",
       "        padding: 1px\n",
       "    }\n",
       "    .spark-nlp-display-entity-name{\n",
       "        font-size: 14px;\n",
       "        line-height: 24px;\n",
       "        font-family: 'Montserrat', sans-serif !important;\n",
       "        \n",
       "        background: #f1f2f3;\n",
       "        border-width: medium;\n",
       "        text-align: center;\n",
       "        \n",
       "        font-weight: 400;\n",
       "        \n",
       "        border-radius: 5px;\n",
       "        padding: 2px 5px;\n",
       "        display: block;\n",
       "        margin: 3px 2px;\n",
       "    \n",
       "    }\n",
       "    .spark-nlp-display-entity-type{\n",
       "        font-size: 14px;\n",
       "        line-height: 24px;\n",
       "        color: #ffffff;\n",
       "        font-family: 'Montserrat', sans-serif !important;\n",
       "        \n",
       "        text-transform: uppercase;\n",
       "        \n",
       "        font-weight: 500;\n",
       "\n",
       "        display: block;\n",
       "        padding: 3px 5px;\n",
       "    }\n",
       "    \n",
       "    .spark-nlp-display-entity-resolution{\n",
       "        font-size: 14px;\n",
       "        line-height: 24px;\n",
       "        color: #ffffff;\n",
       "        font-family: 'Vistol Regular', sans-serif !important;\n",
       "        \n",
       "        text-transform: uppercase;\n",
       "        \n",
       "        font-weight: 500;\n",
       "\n",
       "        display: block;\n",
       "        padding: 3px 5px;\n",
       "    }\n",
       "    \n",
       "    .spark-nlp-display-others{\n",
       "        font-size: 14px;\n",
       "        line-height: 24px;\n",
       "        font-family: 'Montserrat', sans-serif !important;\n",
       "        \n",
       "        font-weight: 400;\n",
       "    }\n",
       "\n",
       "</style>\n",
       " <span class=\"spark-nlp-display-entity-wrapper\" style=\"background-color: #9DADA1B3\"><span class=\"spark-nlp-display-entity-name\">EDH </span><span class=\"spark-nlp-display-entity-type\">ORG</span><span class=\"spark-nlp-display-entity-resolution\" style=\"background-color: #9DADA1FF\">NO_COMPETITOR </span></span><span class=\"spark-nlp-display-others\" style=\"background-color: white\"> combines our </span><span class=\"spark-nlp-display-entity-wrapper\" style=\"background-color: #A7B8BCB3\"><span class=\"spark-nlp-display-entity-name\">Cloudera Data Warehouse </span><span class=\"spark-nlp-display-entity-type\">PRODUCT</span><span class=\"spark-nlp-display-entity-resolution\" style=\"background-color: #A7B8BCFF\">NO_COMPETITOR </span></span><span class=\"spark-nlp-display-others\" style=\"background-color: white\">, </span><span class=\"spark-nlp-display-entity-wrapper\" style=\"background-color: #A7B8BCB3\"><span class=\"spark-nlp-display-entity-name\">Cloudera Operational DB </span><span class=\"spark-nlp-display-entity-type\">PRODUCT</span><span class=\"spark-nlp-display-entity-resolution\" style=\"background-color: #A7B8BCFF\">NO_COMPETITOR </span></span><span class=\"spark-nlp-display-others\" style=\"background-color: white\">, and </span><span class=\"spark-nlp-display-entity-wrapper\" style=\"background-color: #A7B8BCB3\"><span class=\"spark-nlp-display-entity-name\">Cloudera Data Science </span><span class=\"spark-nlp-display-entity-type\">PRODUCT</span><span class=\"spark-nlp-display-entity-resolution\" style=\"background-color: #A7B8BCFF\">NO_COMPETITOR </span></span><span class=\"spark-nlp-display-others\" style=\"background-color: white\"> with our </span><span class=\"spark-nlp-display-entity-wrapper\" style=\"background-color: #A7B8BCB3\"><span class=\"spark-nlp-display-entity-name\">SDX </span><span class=\"spark-nlp-display-entity-type\">PRODUCT</span><span class=\"spark-nlp-display-entity-resolution\" style=\"background-color: #A7B8BCFF\">NO_COMPETITOR </span></span><span class=\"spark-nlp-display-others\" style=\"background-color: white\"> technology.</span></div>"
      ],
      "text/plain": [
       "<IPython.core.display.HTML object>"
      ]
     },
     "metadata": {},
     "output_type": "display_data"
    }
   ],
   "source": [
    "vis = viz.AssertionVisualizer()\n",
    "\n",
    "vis.display(light_result, 'ner_chunk', 'assertion')"
   ]
  },
  {
   "cell_type": "markdown",
   "id": "90643920-3813-4cfc-8e29-81a5aa972725",
   "metadata": {
    "id": "90643920-3813-4cfc-8e29-81a5aa972725"
   },
   "source": [
    "## Identify PAST Situations in a Text with Assertion Status"
   ]
  },
  {
   "cell_type": "code",
   "execution_count": null,
   "id": "abf82e78-a3fd-412c-8025-64363cf5a3ef",
   "metadata": {
    "colab": {
     "base_uri": "https://localhost:8080/"
    },
    "executionInfo": {
     "elapsed": 31552,
     "status": "ok",
     "timestamp": 1664820034042,
     "user": {
      "displayName": "Damla",
      "userId": "03285166568766987047"
     },
     "user_tz": -120
    },
    "id": "abf82e78-a3fd-412c-8025-64363cf5a3ef",
    "outputId": "b7d83100-99c2-4165-cf68-aa26a8623162"
   },
   "outputs": [],
   "source": [
    "document_assembler = nlp.DocumentAssembler()\\\n",
    "    .setInputCol(\"text\")\\\n",
    "    .setOutputCol(\"document\")\n",
    "\n",
    "tokenizer = nlp.Tokenizer()\\\n",
    "    .setInputCols([\"document\"])\\\n",
    "    .setOutputCol(\"token\")\n",
    "\n",
    "embeddings = nlp.BertEmbeddings.pretrained(\"bert_embeddings_sec_bert_base\",\"en\") \\\n",
    "    .setInputCols([\"document\", \"token\"]) \\\n",
    "    .setOutputCol(\"embeddings\")\n",
    "\n",
    "tokenClassifier = finance.BertForTokenClassification.pretrained(\"finner_bert_roles\",\"en\",\"finance/models\")\\\n",
    "    .setInputCols(\"token\", \"document\")\\\n",
    "    .setOutputCol(\"ner\")\\\n",
    "    .setCaseSensitive(True)\n",
    "\n",
    "ner_converter = finance.NerConverterInternal() \\\n",
    "    .setInputCols([\"document\", \"token\", \"ner\"]) \\\n",
    "    .setOutputCol(\"ner_chunk\")\\\n",
    "    .setWhiteList([\"ROLE\"])\n",
    "\n",
    "assertion = finance.AssertionDLModel.pretrained(\"finassertiondl_past_roles\", \"en\", \"finance/models\")\\\n",
    "    .setInputCols([\"document\", \"ner_chunk\", \"embeddings\"]) \\\n",
    "    .setOutputCol(\"assertion\")\\\n",
    "    .setMaxSentLen(1200)\n",
    "    \n",
    "nlp_pipeline = nlp.Pipeline(stages=[\n",
    "    document_assembler, \n",
    "    tokenizer,\n",
    "    embeddings,\n",
    "    tokenClassifier,\n",
    "    ner_converter,\n",
    "    assertion\n",
    "    ])\n",
    "\n",
    "empty_data = spark.createDataFrame([[\"\"]]).toDF(\"text\")\n",
    "\n",
    "model = nlp_pipeline.fit(empty_data)\n",
    "\n",
    "light_model = nlp.LightPipeline(model)"
   ]
  },
  {
   "cell_type": "markdown",
   "id": "1468d272-3f3f-452d-ad4a-376d06879d4e",
   "metadata": {
    "id": "1468d272-3f3f-452d-ad4a-376d06879d4e"
   },
   "source": [
    "### Getting Result with LightPipeline"
   ]
  },
  {
   "cell_type": "code",
   "execution_count": null,
   "id": "80e7d275-93ab-479d-a355-20de8613c8da",
   "metadata": {
    "id": "80e7d275-93ab-479d-a355-20de8613c8da",
    "tags": []
   },
   "outputs": [],
   "source": [
    "sample_texts = [\"\"\"From January 2009 to November 2017, Mr. Tan worked as the Managing Director of Cadence\"\"\",\n",
    "                \"\"\"Jane S. Smith works as a Computer Engineer and Product Lead at Globalize Cloud Services\"\"\",\n",
    "                \"\"\"Mrs. Johansson has been apointed CEO and President of Mileways\"\"\",\n",
    "                \"\"\"Tom Martin worked as Cadence's CTO until 2010\"\"\",\n",
    "                \"\"\"Mrs. Charles was before Managing Director at a big consultancy company\"\"\",\n",
    "                \"\"\"We are happy to announce that Mary Leigh joins Elephant as Web Designer and UX/UI Developer\"\"\"]\n",
    "\n",
    "chunks=[]\n",
    "entities=[]\n",
    "status=[]\n",
    "\n",
    "for i in range(len(sample_texts)):\n",
    "    light_result = light_model.fullAnnotate(sample_texts[i])[0]\n",
    "\n",
    "    for n,m in zip(light_result['ner_chunk'],light_result['assertion']):\n",
    "        chunks.append(n.result)\n",
    "        entities.append(n.metadata['entity']) \n",
    "        status.append(m.result)\n",
    "\n",
    "df = pd.DataFrame({'chunks':chunks, 'entities':entities, 'assertion':status})"
   ]
  },
  {
   "cell_type": "code",
   "execution_count": 22,
   "id": "e4c81d83-a2c4-4303-b257-9615a8986361",
   "metadata": {
    "colab": {
     "base_uri": "https://localhost:8080/",
     "height": 322
    },
    "executionInfo": {
     "elapsed": 11,
     "status": "ok",
     "timestamp": 1664820040845,
     "user": {
      "displayName": "Damla",
      "userId": "03285166568766987047"
     },
     "user_tz": -120
    },
    "id": "e4c81d83-a2c4-4303-b257-9615a8986361",
    "outputId": "9d0600ee-4959-47ed-e99c-7d71efb4c458"
   },
   "outputs": [
    {
     "data": {
      "text/html": [
       "<div>\n",
       "<style scoped>\n",
       "    .dataframe tbody tr th:only-of-type {\n",
       "        vertical-align: middle;\n",
       "    }\n",
       "\n",
       "    .dataframe tbody tr th {\n",
       "        vertical-align: top;\n",
       "    }\n",
       "\n",
       "    .dataframe thead th {\n",
       "        text-align: right;\n",
       "    }\n",
       "</style>\n",
       "<table border=\"1\" class=\"dataframe\">\n",
       "  <thead>\n",
       "    <tr style=\"text-align: right;\">\n",
       "      <th></th>\n",
       "      <th>chunks</th>\n",
       "      <th>entities</th>\n",
       "      <th>assertion</th>\n",
       "    </tr>\n",
       "  </thead>\n",
       "  <tbody>\n",
       "    <tr>\n",
       "      <th>0</th>\n",
       "      <td>Director</td>\n",
       "      <td>ROLE</td>\n",
       "      <td>PAST</td>\n",
       "    </tr>\n",
       "    <tr>\n",
       "      <th>1</th>\n",
       "      <td>Computer Engineer</td>\n",
       "      <td>ROLE</td>\n",
       "      <td>NO_PAST</td>\n",
       "    </tr>\n",
       "    <tr>\n",
       "      <th>2</th>\n",
       "      <td>Product Lead</td>\n",
       "      <td>ROLE</td>\n",
       "      <td>NO_PAST</td>\n",
       "    </tr>\n",
       "    <tr>\n",
       "      <th>3</th>\n",
       "      <td>CEO</td>\n",
       "      <td>ROLE</td>\n",
       "      <td>NO_PAST</td>\n",
       "    </tr>\n",
       "    <tr>\n",
       "      <th>4</th>\n",
       "      <td>President</td>\n",
       "      <td>ROLE</td>\n",
       "      <td>NO_PAST</td>\n",
       "    </tr>\n",
       "    <tr>\n",
       "      <th>5</th>\n",
       "      <td>Cadence's CTO</td>\n",
       "      <td>ROLE</td>\n",
       "      <td>PAST</td>\n",
       "    </tr>\n",
       "    <tr>\n",
       "      <th>6</th>\n",
       "      <td>Managing Director</td>\n",
       "      <td>ROLE</td>\n",
       "      <td>PAST</td>\n",
       "    </tr>\n",
       "    <tr>\n",
       "      <th>7</th>\n",
       "      <td>Web Designer</td>\n",
       "      <td>ROLE</td>\n",
       "      <td>NO_PAST</td>\n",
       "    </tr>\n",
       "    <tr>\n",
       "      <th>8</th>\n",
       "      <td>UX/UI Developer</td>\n",
       "      <td>ROLE</td>\n",
       "      <td>NO_PAST</td>\n",
       "    </tr>\n",
       "  </tbody>\n",
       "</table>\n",
       "</div>"
      ],
      "text/plain": [
       "              chunks entities assertion\n",
       "0           Director     ROLE      PAST\n",
       "1  Computer Engineer     ROLE   NO_PAST\n",
       "2       Product Lead     ROLE   NO_PAST\n",
       "3                CEO     ROLE   NO_PAST\n",
       "4          President     ROLE   NO_PAST\n",
       "5      Cadence's CTO     ROLE      PAST\n",
       "6  Managing Director     ROLE      PAST\n",
       "7       Web Designer     ROLE   NO_PAST\n",
       "8    UX/UI Developer     ROLE   NO_PAST"
      ]
     },
     "execution_count": 22,
     "metadata": {},
     "output_type": "execute_result"
    }
   ],
   "source": [
    "df"
   ]
  },
  {
   "cell_type": "markdown",
   "id": "c76bba1c-850e-4c15-908c-191a6c3fa3f0",
   "metadata": {
    "id": "c76bba1c-850e-4c15-908c-191a6c3fa3f0"
   },
   "source": [
    "### Visualization of Assertion Status"
   ]
  },
  {
   "cell_type": "code",
   "execution_count": null,
   "id": "f3aeb39d-98f0-452d-93ed-3132e5e0a95a",
   "metadata": {},
   "outputs": [],
   "source": [
    "light_result = light_model.fullAnnotate(sample_texts[0])[0]\n",
    "\n",
    "vis = viz.AssertionVisualizer()"
   ]
  },
  {
   "cell_type": "code",
   "execution_count": 26,
   "id": "4112bb51-4e5e-48f8-896b-3de7fc0256e9",
   "metadata": {},
   "outputs": [
    {
     "data": {
      "text/html": [
       "\n",
       "<style>\n",
       "    @import url('https://fonts.googleapis.com/css2?family=Montserrat:wght@300;400;500;600;700&display=swap');\n",
       "    @import url('https://fonts.googleapis.com/css2?family=Vistol Regular:wght@300;400;500;600;700&display=swap');\n",
       "    \n",
       "    .spark-nlp-display-scroll-entities {\n",
       "        border: 1px solid #E7EDF0;\n",
       "        border-radius: 3px;\n",
       "        text-align: justify;\n",
       "        \n",
       "    }\n",
       "    .spark-nlp-display-scroll-entities span {  \n",
       "        font-size: 14px;\n",
       "        line-height: 24px;\n",
       "        color: #536B76;\n",
       "        font-family: 'Montserrat', sans-serif !important;\n",
       "    }\n",
       "    \n",
       "    .spark-nlp-display-entity-wrapper{\n",
       "    \n",
       "        display: inline-grid;\n",
       "        text-align: center;\n",
       "        border-radius: 4px;\n",
       "        margin: 0 2px 5px 2px;\n",
       "        padding: 1px\n",
       "    }\n",
       "    .spark-nlp-display-entity-name{\n",
       "        font-size: 14px;\n",
       "        line-height: 24px;\n",
       "        font-family: 'Montserrat', sans-serif !important;\n",
       "        \n",
       "        background: #f1f2f3;\n",
       "        border-width: medium;\n",
       "        text-align: center;\n",
       "        \n",
       "        font-weight: 400;\n",
       "        \n",
       "        border-radius: 5px;\n",
       "        padding: 2px 5px;\n",
       "        display: block;\n",
       "        margin: 3px 2px;\n",
       "    \n",
       "    }\n",
       "    .spark-nlp-display-entity-type{\n",
       "        font-size: 14px;\n",
       "        line-height: 24px;\n",
       "        color: #ffffff;\n",
       "        font-family: 'Montserrat', sans-serif !important;\n",
       "        \n",
       "        text-transform: uppercase;\n",
       "        \n",
       "        font-weight: 500;\n",
       "\n",
       "        display: block;\n",
       "        padding: 3px 5px;\n",
       "    }\n",
       "    \n",
       "    .spark-nlp-display-entity-resolution{\n",
       "        font-size: 14px;\n",
       "        line-height: 24px;\n",
       "        color: #ffffff;\n",
       "        font-family: 'Vistol Regular', sans-serif !important;\n",
       "        \n",
       "        text-transform: uppercase;\n",
       "        \n",
       "        font-weight: 500;\n",
       "\n",
       "        display: block;\n",
       "        padding: 3px 5px;\n",
       "    }\n",
       "    \n",
       "    .spark-nlp-display-others{\n",
       "        font-size: 14px;\n",
       "        line-height: 24px;\n",
       "        font-family: 'Montserrat', sans-serif !important;\n",
       "        \n",
       "        font-weight: 400;\n",
       "    }\n",
       "\n",
       "</style>\n",
       " <span class=\"spark-nlp-display-others\" style=\"background-color: white\">From January 2009 to November 2017, Mr. Tan worked as the Managing </span><span class=\"spark-nlp-display-entity-wrapper\" style=\"background-color: #A03D0EB3\"><span class=\"spark-nlp-display-entity-name\">Director </span><span class=\"spark-nlp-display-entity-type\">ROLE</span><span class=\"spark-nlp-display-entity-resolution\" style=\"background-color: #A03D0EFF\">PAST </span></span><span class=\"spark-nlp-display-others\" style=\"background-color: white\"> of Cadence</span></div>"
      ],
      "text/plain": [
       "<IPython.core.display.HTML object>"
      ]
     },
     "metadata": {},
     "output_type": "display_data"
    }
   ],
   "source": [
    "vis.display(light_result, 'ner_chunk', 'assertion')"
   ]
  },
  {
   "cell_type": "code",
   "execution_count": null,
   "id": "2ce0a630-3680-4f69-a70c-ab8b1993a4d3",
   "metadata": {},
   "outputs": [],
   "source": [
    "light_result = light_model.fullAnnotate(sample_texts[1])[0]"
   ]
  },
  {
   "cell_type": "code",
   "execution_count": 28,
   "id": "1014a2a0-d254-48d1-a335-056a42e8e55e",
   "metadata": {},
   "outputs": [
    {
     "data": {
      "text/html": [
       "\n",
       "<style>\n",
       "    @import url('https://fonts.googleapis.com/css2?family=Montserrat:wght@300;400;500;600;700&display=swap');\n",
       "    @import url('https://fonts.googleapis.com/css2?family=Vistol Regular:wght@300;400;500;600;700&display=swap');\n",
       "    \n",
       "    .spark-nlp-display-scroll-entities {\n",
       "        border: 1px solid #E7EDF0;\n",
       "        border-radius: 3px;\n",
       "        text-align: justify;\n",
       "        \n",
       "    }\n",
       "    .spark-nlp-display-scroll-entities span {  \n",
       "        font-size: 14px;\n",
       "        line-height: 24px;\n",
       "        color: #536B76;\n",
       "        font-family: 'Montserrat', sans-serif !important;\n",
       "    }\n",
       "    \n",
       "    .spark-nlp-display-entity-wrapper{\n",
       "    \n",
       "        display: inline-grid;\n",
       "        text-align: center;\n",
       "        border-radius: 4px;\n",
       "        margin: 0 2px 5px 2px;\n",
       "        padding: 1px\n",
       "    }\n",
       "    .spark-nlp-display-entity-name{\n",
       "        font-size: 14px;\n",
       "        line-height: 24px;\n",
       "        font-family: 'Montserrat', sans-serif !important;\n",
       "        \n",
       "        background: #f1f2f3;\n",
       "        border-width: medium;\n",
       "        text-align: center;\n",
       "        \n",
       "        font-weight: 400;\n",
       "        \n",
       "        border-radius: 5px;\n",
       "        padding: 2px 5px;\n",
       "        display: block;\n",
       "        margin: 3px 2px;\n",
       "    \n",
       "    }\n",
       "    .spark-nlp-display-entity-type{\n",
       "        font-size: 14px;\n",
       "        line-height: 24px;\n",
       "        color: #ffffff;\n",
       "        font-family: 'Montserrat', sans-serif !important;\n",
       "        \n",
       "        text-transform: uppercase;\n",
       "        \n",
       "        font-weight: 500;\n",
       "\n",
       "        display: block;\n",
       "        padding: 3px 5px;\n",
       "    }\n",
       "    \n",
       "    .spark-nlp-display-entity-resolution{\n",
       "        font-size: 14px;\n",
       "        line-height: 24px;\n",
       "        color: #ffffff;\n",
       "        font-family: 'Vistol Regular', sans-serif !important;\n",
       "        \n",
       "        text-transform: uppercase;\n",
       "        \n",
       "        font-weight: 500;\n",
       "\n",
       "        display: block;\n",
       "        padding: 3px 5px;\n",
       "    }\n",
       "    \n",
       "    .spark-nlp-display-others{\n",
       "        font-size: 14px;\n",
       "        line-height: 24px;\n",
       "        font-family: 'Montserrat', sans-serif !important;\n",
       "        \n",
       "        font-weight: 400;\n",
       "    }\n",
       "\n",
       "</style>\n",
       " <span class=\"spark-nlp-display-others\" style=\"background-color: white\">Jane S. Smith works as a </span><span class=\"spark-nlp-display-entity-wrapper\" style=\"background-color: #903DAFB3\"><span class=\"spark-nlp-display-entity-name\">Computer Engineer </span><span class=\"spark-nlp-display-entity-type\">ROLE</span><span class=\"spark-nlp-display-entity-resolution\" style=\"background-color: #903DAFFF\">NO_PAST </span></span><span class=\"spark-nlp-display-others\" style=\"background-color: white\"> and </span><span class=\"spark-nlp-display-entity-wrapper\" style=\"background-color: #903DAFB3\"><span class=\"spark-nlp-display-entity-name\">Product Lead </span><span class=\"spark-nlp-display-entity-type\">ROLE</span><span class=\"spark-nlp-display-entity-resolution\" style=\"background-color: #903DAFFF\">NO_PAST </span></span><span class=\"spark-nlp-display-others\" style=\"background-color: white\"> at Globalize Cloud Services</span></div>"
      ],
      "text/plain": [
       "<IPython.core.display.HTML object>"
      ]
     },
     "metadata": {},
     "output_type": "display_data"
    }
   ],
   "source": [
    "vis.display(light_result, 'ner_chunk', 'assertion')"
   ]
  },
  {
   "cell_type": "code",
   "execution_count": null,
   "id": "b54ac5cb-2933-492b-ad2a-97d3ae879ccc",
   "metadata": {},
   "outputs": [],
   "source": []
  }
 ],
 "metadata": {
  "colab": {
   "collapsed_sections": [],
   "provenance": []
  },
  "kernelspec": {
   "display_name": "jsl4.2.3",
   "language": "python",
   "name": "jsl4.2.3"
  },
  "language_info": {
   "codemirror_mode": {
    "name": "ipython",
    "version": 3
   },
   "file_extension": ".py",
   "mimetype": "text/x-python",
   "name": "python",
   "nbconvert_exporter": "python",
   "pygments_lexer": "ipython3",
   "version": "3.8.10"
  }
 },
 "nbformat": 4,
 "nbformat_minor": 5
}

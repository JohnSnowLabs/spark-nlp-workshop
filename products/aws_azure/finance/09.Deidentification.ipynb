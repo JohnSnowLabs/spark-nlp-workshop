{
 "cells": [
  {
   "cell_type": "markdown",
   "id": "1a17817b-ca1b-425a-ba6b-ae879faa0e9d",
   "metadata": {
    "id": "1a17817b-ca1b-425a-ba6b-ae879faa0e9d"
   },
   "source": [
    "![JohnSnowLabs](https://nlp.johnsnowlabs.com/assets/images/logo.png)"
   ]
  },
  {
   "cell_type": "markdown",
   "id": "fb2ac5e3-fe7c-4431-bb24-3c48649be54b",
   "metadata": {
    "id": "fb2ac5e3-fe7c-4431-bb24-3c48649be54b"
   },
   "source": [
    "# Financial Deidentification"
   ]
  },
  {
   "cell_type": "markdown",
   "id": "bef948ff-960c-4854-b30e-aa6863410bbb",
   "metadata": {
    "id": "okhT7AcXxben"
   },
   "source": [
    "## Setup"
   ]
  },
  {
   "cell_type": "code",
   "execution_count": null,
   "id": "7c5e9891-9e1d-4506-84e1-e3ea609f9163",
   "metadata": {
    "colab": {
     "base_uri": "https://localhost:8080/"
    },
    "executionInfo": {
     "elapsed": 115199,
     "status": "ok",
     "timestamp": 1664816113389,
     "user": {
      "displayName": "Damla",
      "userId": "03285166568766987047"
     },
     "user_tz": -120
    },
    "id": "dmcB5zVBHZO8",
    "outputId": "cd366e47-7f4d-457a-dfe5-3ed5174d4a0c"
   },
   "outputs": [],
   "source": [
    "from johnsnowlabs import *\n",
    "\n",
    "import json\n",
    "import os\n",
    "\n",
    "spark = start_spark()"
   ]
  },
  {
   "cell_type": "markdown",
   "id": "3c5c1990-1e00-4141-8825-5e9e75d402ad",
   "metadata": {
    "id": "3c5c1990-1e00-4141-8825-5e9e75d402ad"
   },
   "source": [
    "# Deidentification Model"
   ]
  },
  {
   "cell_type": "markdown",
   "id": "124c01da-b9a9-4327-a46b-f09d1d89d893",
   "metadata": {
    "id": "124c01da-b9a9-4327-a46b-f09d1d89d893"
   },
   "source": [
    "Some financial information can be considered sensitive. (e.g.,document, organization, address, signer)"
   ]
  },
  {
   "cell_type": "code",
   "execution_count": null,
   "id": "fc92df9a-8ede-4db3-80b9-be1e713f45d6",
   "metadata": {
    "colab": {
     "base_uri": "https://localhost:8080/"
    },
    "executionInfo": {
     "elapsed": 54103,
     "status": "ok",
     "timestamp": 1664821224144,
     "user": {
      "displayName": "Damla",
      "userId": "03285166568766987047"
     },
     "user_tz": -120
    },
    "id": "fc92df9a-8ede-4db3-80b9-be1e713f45d6",
    "outputId": "bcc1a031-9516-4fa0-fbe7-8360a50d684d",
    "tags": []
   },
   "outputs": [],
   "source": [
    "documentAssembler = nlp.DocumentAssembler()\\\n",
    "    .setInputCol(\"text\")\\\n",
    "    .setOutputCol(\"document\")\n",
    "\n",
    "sentenceDetector =  nlp.SentenceDetectorDLModel.pretrained(\"sentence_detector_dl\",\"xx\")\\\n",
    "    .setInputCols([\"document\"])\\\n",
    "    .setOutputCol(\"sentence\")\n",
    "    #.setCustomBounds([\"\\n\\n\"])\n",
    "\n",
    "tokenizer =  nlp.Tokenizer()\\\n",
    "    .setInputCols([\"sentence\"])\\\n",
    "    .setOutputCol(\"token\")\n",
    "\n",
    "embeddings =  nlp.RoBertaEmbeddings.pretrained(\"roberta_embeddings_legal_roberta_base\",\"en\") \\\n",
    "    .setInputCols([\"sentence\", \"token\"]) \\\n",
    "    .setOutputCol(\"embeddings\")\n",
    "\n",
    "fin_ner = finance.NerModel.pretrained(\"finner_deid\", \"en\", \"finance/models\")\\\n",
    "    .setInputCols([\"sentence\", \"token\", \"embeddings\"]) \\\n",
    "    .setOutputCol(\"ner\") \n",
    "    #.setLabelCasing(\"upper\")\n",
    "\n",
    "ner_converter = finance.NerConverterInternal() \\\n",
    "    .setInputCols([\"sentence\", \"token\", \"ner\"])\\\n",
    "    .setOutputCol(\"ner_chunk\")\\\n",
    "    .setReplaceLabels({\"ORG\": \"PARTY\"}) # Replace \"ORG\" entity as \"PARTY\"\n",
    "\n",
    "nlp_pipeline = nlp.Pipeline(stages=[\n",
    "      documentAssembler, \n",
    "      sentenceDetector,\n",
    "      tokenizer,\n",
    "      embeddings,\n",
    "      fin_ner,\n",
    "      ner_converter])\n",
    "\n",
    "empty_data = spark.createDataFrame([[\"\"]]).toDF(\"text\")\n",
    "\n",
    "model = nlp_pipeline.fit(empty_data)"
   ]
  },
  {
   "cell_type": "markdown",
   "id": "3ddb9087-f3d2-4b14-89ad-507e3910e889",
   "metadata": {
    "id": "3ddb9087-f3d2-4b14-89ad-507e3910e889",
    "tags": []
   },
   "source": [
    "### Pretrained NER models extracts:\n",
    "- PROFESSION\n",
    "- URL\n",
    "- LOCATION-OTHER\n",
    "- CITY\n",
    "- DATE\n",
    "- ZIP\n",
    "- PERSON\n",
    "- STATE\n",
    "- COUNTRY\n",
    "- STREET\n",
    "- ORG\n",
    "- PHONE\n",
    "- EMAIL\n",
    "- FAX\n",
    "- AGE"
   ]
  },
  {
   "cell_type": "code",
   "execution_count": 6,
   "id": "f594290b-6ea9-47a2-9515-76faed5ab63c",
   "metadata": {
    "colab": {
     "base_uri": "https://localhost:8080/"
    },
    "executionInfo": {
     "elapsed": 11,
     "status": "ok",
     "timestamp": 1664821224145,
     "user": {
      "displayName": "Damla",
      "userId": "03285166568766987047"
     },
     "user_tz": -120
    },
    "id": "f594290b-6ea9-47a2-9515-76faed5ab63c",
    "outputId": "6d98dc21-b0b2-4da0-9adf-45ecc6bbc376"
   },
   "outputs": [
    {
     "data": {
      "text/plain": [
       "['O',\n",
       " 'I-PROFESSION',\n",
       " 'B-PROFESSION',\n",
       " 'B-URL',\n",
       " 'I-LOCATION-OTHER',\n",
       " 'I-URL',\n",
       " 'B-CITY',\n",
       " 'B-DATE',\n",
       " 'I-ZIP',\n",
       " 'I-PERSON',\n",
       " 'B-LOCATION-OTHER',\n",
       " 'B-STATE',\n",
       " 'I-STATE',\n",
       " 'B-PERSON',\n",
       " 'I-CITY',\n",
       " 'I-DATE',\n",
       " 'B-COUNTRY',\n",
       " 'B-ZIP',\n",
       " 'I-STREET',\n",
       " 'B-ORG',\n",
       " 'I-ORG',\n",
       " 'B-PHONE',\n",
       " 'I-PHONE',\n",
       " 'B-EMAIL',\n",
       " 'B-STREET',\n",
       " 'B-FAX',\n",
       " 'B-AGE',\n",
       " 'I-FAX',\n",
       " 'I-AGE',\n",
       " 'I-COUNTRY']"
      ]
     },
     "execution_count": 6,
     "metadata": {},
     "output_type": "execute_result"
    }
   ],
   "source": [
    "fin_ner.getClasses()"
   ]
  },
  {
   "cell_type": "code",
   "execution_count": 7,
   "id": "5f5fbf4b-ad6c-4042-8fff-4b6082aeed5c",
   "metadata": {
    "executionInfo": {
     "elapsed": 7,
     "status": "ok",
     "timestamp": 1664821224146,
     "user": {
      "displayName": "Damla",
      "userId": "03285166568766987047"
     },
     "user_tz": -120
    },
    "id": "5f5fbf4b-ad6c-4042-8fff-4b6082aeed5c"
   },
   "outputs": [],
   "source": [
    "text = \"\"\"\n",
    "(State or other jurisdictionof incorporation or organization)\n",
    "(I.R.S. EmployerIdentification No.)\n",
    "55 Almaden Boulevard, 6th Floor\n",
    "San Jose, California 95113\n",
    "(Address of principal executive offices and Zip Code)\n",
    "799-9666\n",
    "(Registrant’s telephone number, including area code) \"\"\""
   ]
  },
  {
   "cell_type": "code",
   "execution_count": null,
   "id": "7cd9d648-81ec-46fa-aa02-20506f0ba7dd",
   "metadata": {
    "executionInfo": {
     "elapsed": 6,
     "status": "ok",
     "timestamp": 1664821224146,
     "user": {
      "displayName": "Damla",
      "userId": "03285166568766987047"
     },
     "user_tz": -120
    },
    "id": "7cd9d648-81ec-46fa-aa02-20506f0ba7dd"
   },
   "outputs": [],
   "source": [
    "result = model.transform(spark.createDataFrame([[text]]).toDF(\"text\"))"
   ]
  },
  {
   "cell_type": "code",
   "execution_count": 10,
   "id": "3fa9c519-347f-4f63-8f32-b240526ab42e",
   "metadata": {
    "executionInfo": {
     "elapsed": 444,
     "status": "ok",
     "timestamp": 1664821224585,
     "user": {
      "displayName": "Damla",
      "userId": "03285166568766987047"
     },
     "user_tz": -120
    },
    "id": "3fa9c519-347f-4f63-8f32-b240526ab42e"
   },
   "outputs": [],
   "source": [
    "import pyspark.sql.functions as F\n",
    "\n",
    "result_df = result.select(F.explode(F.arrays_zip(result.token.result, \n",
    "                                                 result.ner.result)).alias(\"cols\")) \\\n",
    "                  .select(F.expr(\"cols['0']\").alias(\"token\"),\n",
    "                          F.expr(\"cols['1']\").alias(\"ner_label\"))"
   ]
  },
  {
   "cell_type": "code",
   "execution_count": 11,
   "id": "3df21455-9650-4d3d-8b11-8380a0883121",
   "metadata": {
    "colab": {
     "base_uri": "https://localhost:8080/"
    },
    "executionInfo": {
     "elapsed": 8321,
     "status": "ok",
     "timestamp": 1664821232902,
     "user": {
      "displayName": "Damla",
      "userId": "03285166568766987047"
     },
     "user_tz": -120
    },
    "id": "3df21455-9650-4d3d-8b11-8380a0883121",
    "outputId": "4f5481ed-9c35-4692-c58d-66f4041f4e39"
   },
   "outputs": [
    {
     "name": "stderr",
     "output_type": "stream",
     "text": [
      "[Stage 11:===================================>                  (131 + 8) / 200]\r"
     ]
    },
    {
     "name": "stdout",
     "output_type": "stream",
     "text": [
      "+---------+-----+\n",
      "|ner_label|count|\n",
      "+---------+-----+\n",
      "|O        |38   |\n",
      "|I-STREET |2    |\n",
      "|B-STATE  |1    |\n",
      "|B-CITY   |1    |\n",
      "|I-ZIP    |1    |\n",
      "|B-STREET |1    |\n",
      "|I-CITY   |1    |\n",
      "|B-PHONE  |1    |\n",
      "+---------+-----+\n",
      "\n"
     ]
    },
    {
     "name": "stderr",
     "output_type": "stream",
     "text": [
      "                                                                                \r"
     ]
    }
   ],
   "source": [
    "result_df.select(\"token\", \"ner_label\").groupBy('ner_label').count().orderBy('count', ascending=False).show(truncate=False)"
   ]
  },
  {
   "cell_type": "markdown",
   "id": "ba982823-16d8-477d-9a47-d41d9087523d",
   "metadata": {
    "id": "ba982823-16d8-477d-9a47-d41d9087523d"
   },
   "source": [
    "### Check extracted sensitive entities"
   ]
  },
  {
   "cell_type": "code",
   "execution_count": 12,
   "id": "8e766d87-e1f2-49e3-afe2-f7d0d7703e6f",
   "metadata": {
    "colab": {
     "base_uri": "https://localhost:8080/"
    },
    "executionInfo": {
     "elapsed": 1838,
     "status": "ok",
     "timestamp": 1664821234737,
     "user": {
      "displayName": "Damla",
      "userId": "03285166568766987047"
     },
     "user_tz": -120
    },
    "id": "8e766d87-e1f2-49e3-afe2-f7d0d7703e6f",
    "outputId": "07b5dd36-75da-4a7b-9d22-6b65d4161321"
   },
   "outputs": [
    {
     "name": "stdout",
     "output_type": "stream",
     "text": [
      "+--------------------+---------+\n",
      "|chunk               |ner_label|\n",
      "+--------------------+---------+\n",
      "|55 Almaden Boulevard|STREET   |\n",
      "|San Jose            |CITY     |\n",
      "|California          |STATE    |\n",
      "|95113               |ZIP      |\n",
      "|799-9666            |PHONE    |\n",
      "+--------------------+---------+\n",
      "\n"
     ]
    }
   ],
   "source": [
    "result.select(F.explode(F.arrays_zip(result.ner_chunk.result, \n",
    "                                     result.ner_chunk.metadata)).alias(\"cols\")) \\\n",
    "      .select(F.expr(\"cols['0']\").alias(\"chunk\"),\n",
    "              F.expr(\"cols['1']['entity']\").alias(\"ner_label\")).show(truncate=False)"
   ]
  },
  {
   "cell_type": "markdown",
   "id": "7cccf04f-6630-4f8c-96af-f5b7e35c119d",
   "metadata": {
    "id": "7cccf04f-6630-4f8c-96af-f5b7e35c119d"
   },
   "source": [
    "## Masking and Obfuscation"
   ]
  },
  {
   "cell_type": "markdown",
   "id": "a4648bf0-9c6e-49b3-9080-7bb3551e1675",
   "metadata": {
    "id": "a4648bf0-9c6e-49b3-9080-7bb3551e1675"
   },
   "source": [
    "### Replace these enitites with Tags"
   ]
  },
  {
   "cell_type": "code",
   "execution_count": null,
   "id": "fa7ac54e-46d5-4a9b-a74b-3859a283ac65",
   "metadata": {
    "executionInfo": {
     "elapsed": 3,
     "status": "ok",
     "timestamp": 1664821234737,
     "user": {
      "displayName": "Damla",
      "userId": "03285166568766987047"
     },
     "user_tz": -120
    },
    "id": "fa7ac54e-46d5-4a9b-a74b-3859a283ac65"
   },
   "outputs": [],
   "source": [
    "ner_converter = finance.NerConverterInternal()\\\n",
    "      .setInputCols([\"sentence\", \"token\", \"ner\"])\\\n",
    "      .setOutputCol(\"ner_chunk\") \n",
    "\n",
    "deidentification = finance.DeIdentification() \\\n",
    "      .setInputCols([\"sentence\", \"token\", \"ner_chunk\"]) \\\n",
    "      .setOutputCol(\"deidentified\") \\\n",
    "      .setMode(\"mask\")\\\n",
    "      .setReturnEntityMappings(True) #  return a new column to save the mappings between the mask/obfuscated entities and original entities.\n",
    "      #.setMappingsColumn(\"MappingCol\") # change the name of the column, 'aux' is default\n",
    "\n",
    "deidPipeline = nlp.Pipeline(stages=[\n",
    "      documentAssembler, \n",
    "      sentenceDetector,\n",
    "      tokenizer,\n",
    "      embeddings,\n",
    "      fin_ner,\n",
    "      ner_converter,\n",
    "      deidentification])\n",
    "\n",
    "empty_data = spark.createDataFrame([[\"\"]]).toDF(\"text\")\n",
    "\n",
    "model_deid = deidPipeline.fit(empty_data)"
   ]
  },
  {
   "cell_type": "code",
   "execution_count": null,
   "id": "bf417b51-c6d0-44b3-ac80-43da90300247",
   "metadata": {
    "executionInfo": {
     "elapsed": 385,
     "status": "ok",
     "timestamp": 1664821235120,
     "user": {
      "displayName": "Damla",
      "userId": "03285166568766987047"
     },
     "user_tz": -120
    },
    "id": "bf417b51-c6d0-44b3-ac80-43da90300247"
   },
   "outputs": [],
   "source": [
    "result = model_deid.transform(spark.createDataFrame([[text]]).toDF(\"text\"))"
   ]
  },
  {
   "cell_type": "code",
   "execution_count": 15,
   "id": "3bf8f80c-4277-4302-8993-a0f88311b66f",
   "metadata": {
    "colab": {
     "base_uri": "https://localhost:8080/"
    },
    "executionInfo": {
     "elapsed": 2059,
     "status": "ok",
     "timestamp": 1664821237177,
     "user": {
      "displayName": "Damla",
      "userId": "03285166568766987047"
     },
     "user_tz": -120
    },
    "id": "3bf8f80c-4277-4302-8993-a0f88311b66f",
    "outputId": "80335543-5bc4-4ad9-f2da-6fd79a39c7ce"
   },
   "outputs": [
    {
     "name": "stdout",
     "output_type": "stream",
     "text": [
      "+--------------------+--------------------+--------------------+--------------------+--------------------+--------------------+--------------------+--------------------+--------------------+\n",
      "|                text|            document|            sentence|               token|          embeddings|                 ner|           ner_chunk|        deidentified|                 aux|\n",
      "+--------------------+--------------------+--------------------+--------------------+--------------------+--------------------+--------------------+--------------------+--------------------+\n",
      "|\n",
      "(State or other ...|[{document, 0, 27...|[{document, 1, 97...|[{token, 1, 1, (,...|[{word_embeddings...|[{named_entity, 1...|[{chunk, 99, 118,...|[{document, 0, 96...|[{chunk, 97, 104,...|\n",
      "+--------------------+--------------------+--------------------+--------------------+--------------------+--------------------+--------------------+--------------------+--------------------+\n",
      "\n"
     ]
    },
    {
     "name": "stderr",
     "output_type": "stream",
     "text": [
      "                                                                                \r"
     ]
    }
   ],
   "source": [
    "result.show()"
   ]
  },
  {
   "cell_type": "code",
   "execution_count": 16,
   "id": "a8892001-1392-4bc2-ab92-81d565c9d996",
   "metadata": {
    "colab": {
     "base_uri": "https://localhost:8080/",
     "height": 201
    },
    "executionInfo": {
     "elapsed": 765,
     "status": "ok",
     "timestamp": 1664821237939,
     "user": {
      "displayName": "Damla",
      "userId": "03285166568766987047"
     },
     "user_tz": -120
    },
    "id": "a8892001-1392-4bc2-ab92-81d565c9d996",
    "outputId": "1e1ee091-c280-4f58-cf28-926030548efd"
   },
   "outputs": [
    {
     "data": {
      "text/html": [
       "<div>\n",
       "<style scoped>\n",
       "    .dataframe tbody tr th:only-of-type {\n",
       "        vertical-align: middle;\n",
       "    }\n",
       "\n",
       "    .dataframe tbody tr th {\n",
       "        vertical-align: top;\n",
       "    }\n",
       "\n",
       "    .dataframe thead th {\n",
       "        text-align: right;\n",
       "    }\n",
       "</style>\n",
       "<table border=\"1\" class=\"dataframe\">\n",
       "  <thead>\n",
       "    <tr style=\"text-align: right;\">\n",
       "      <th></th>\n",
       "      <th>sentence</th>\n",
       "      <th>deidentified</th>\n",
       "    </tr>\n",
       "  </thead>\n",
       "  <tbody>\n",
       "    <tr>\n",
       "      <th>0</th>\n",
       "      <td>(State or other jurisdictionof incorporation o...</td>\n",
       "      <td>(State or other jurisdictionof incorporation o...</td>\n",
       "    </tr>\n",
       "    <tr>\n",
       "      <th>1</th>\n",
       "      <td>55 Almaden Boulevard, 6th Floor</td>\n",
       "      <td>&lt;STREET&gt;, 6th Floor</td>\n",
       "    </tr>\n",
       "    <tr>\n",
       "      <th>2</th>\n",
       "      <td>San Jose, California 95113</td>\n",
       "      <td>&lt;CITY&gt;, &lt;STATE&gt; &lt;ZIP&gt;</td>\n",
       "    </tr>\n",
       "    <tr>\n",
       "      <th>3</th>\n",
       "      <td>(Address of principal executive offices and Zi...</td>\n",
       "      <td>(Address of principal executive offices and Zi...</td>\n",
       "    </tr>\n",
       "    <tr>\n",
       "      <th>4</th>\n",
       "      <td>(Registrant’s telephone number, including area...</td>\n",
       "      <td>(Registrant’s telephone number, including area...</td>\n",
       "    </tr>\n",
       "  </tbody>\n",
       "</table>\n",
       "</div>"
      ],
      "text/plain": [
       "                                            sentence  \\\n",
       "0  (State or other jurisdictionof incorporation o...   \n",
       "1                    55 Almaden Boulevard, 6th Floor   \n",
       "2                         San Jose, California 95113   \n",
       "3  (Address of principal executive offices and Zi...   \n",
       "4  (Registrant’s telephone number, including area...   \n",
       "\n",
       "                                        deidentified  \n",
       "0  (State or other jurisdictionof incorporation o...  \n",
       "1                                <STREET>, 6th Floor  \n",
       "2                              <CITY>, <STATE> <ZIP>  \n",
       "3  (Address of principal executive offices and Zi...  \n",
       "4  (Registrant’s telephone number, including area...  "
      ]
     },
     "execution_count": 16,
     "metadata": {},
     "output_type": "execute_result"
    }
   ],
   "source": [
    "result.select(F.explode(F.arrays_zip(result.sentence.result, result.deidentified.result)).alias(\"cols\")) \\\n",
    "      .select(F.expr(\"cols['0']\").alias(\"sentence\"), F.expr(\"cols['1']\").alias(\"deidentified\")).toPandas()"
   ]
  },
  {
   "cell_type": "markdown",
   "id": "fc7f7662-6fb7-4ad6-b7a8-aa9587dafc85",
   "metadata": {
    "id": "fc7f7662-6fb7-4ad6-b7a8-aa9587dafc85"
   },
   "source": [
    "We have three modes to mask the entities in the Deidentification annotator. You can select the modes using the `.setMaskingPolicy()` parameter. The methods are the followings:\n",
    "\n",
    "**“entity_labels”**: Mask with the entity type of that chunk. (default) <br/>\n",
    "**“same_length_chars”**: Mask the deid entities with same length of asterix ( * ) with brackets ( [ , ] ) on both end. <br/>\n",
    "**“fixed_length_chars”**: Mask the deid entities with a fixed length of asterix ( * ). The length is setting up using the `setFixedMaskLength()` method. <br/>\n",
    "\n",
    "Let's try each of these and compare the results:"
   ]
  },
  {
   "cell_type": "code",
   "execution_count": null,
   "id": "2294859f-933e-4675-a573-bc67c7dc7ce5",
   "metadata": {
    "executionInfo": {
     "elapsed": 858,
     "status": "ok",
     "timestamp": 1664821238794,
     "user": {
      "displayName": "Damla",
      "userId": "03285166568766987047"
     },
     "user_tz": -120
    },
    "id": "2294859f-933e-4675-a573-bc67c7dc7ce5"
   },
   "outputs": [],
   "source": [
    "#deid model with \"entity_labels\"\n",
    "deid_entity_labels= finance.DeIdentification()\\\n",
    "    .setInputCols([\"sentence\", \"token\", \"ner_chunk\"])\\\n",
    "    .setOutputCol(\"deid_entity_label\")\\\n",
    "    .setMode(\"mask\")\\\n",
    "    .setReturnEntityMappings(True)\\\n",
    "    .setMaskingPolicy(\"entity_labels\")\n",
    "\n",
    "#deid model with \"same_length_chars\"\n",
    "deid_same_length=  finance.DeIdentification()\\\n",
    "    .setInputCols([\"sentence\", \"token\", \"ner_chunk\"])\\\n",
    "    .setOutputCol(\"deid_same_length\")\\\n",
    "    .setMode(\"mask\")\\\n",
    "    .setReturnEntityMappings(True)\\\n",
    "    .setMaskingPolicy(\"same_length_chars\")\n",
    "\n",
    "#deid model with \"fixed_length_chars\"\n",
    "deid_fixed_length=  finance.DeIdentification()\\\n",
    "    .setInputCols([\"sentence\", \"token\", \"ner_chunk\"])\\\n",
    "    .setOutputCol(\"deid_fixed_length\")\\\n",
    "    .setMode(\"mask\")\\\n",
    "    .setReturnEntityMappings(True)\\\n",
    "    .setMaskingPolicy(\"fixed_length_chars\")\\\n",
    "    .setFixedMaskLength(4)\n",
    "\n",
    "\n",
    "deidPipeline = nlp.Pipeline(stages=[\n",
    "      documentAssembler, \n",
    "      sentenceDetector,\n",
    "      tokenizer,\n",
    "      embeddings,\n",
    "      fin_ner,\n",
    "      ner_converter,\n",
    "      deid_entity_labels,\n",
    "      deid_same_length,\n",
    "      deid_fixed_length])\n",
    "\n",
    "\n",
    "empty_data = spark.createDataFrame([[\"\"]]).toDF(\"text\")\n",
    "\n",
    "model_deid = deidPipeline.fit(empty_data)"
   ]
  },
  {
   "cell_type": "code",
   "execution_count": null,
   "id": "a5d82d09-b920-45e3-8856-cbb3a43697af",
   "metadata": {
    "executionInfo": {
     "elapsed": 374,
     "status": "ok",
     "timestamp": 1664821239161,
     "user": {
      "displayName": "Damla",
      "userId": "03285166568766987047"
     },
     "user_tz": -120
    },
    "id": "a5d82d09-b920-45e3-8856-cbb3a43697af"
   },
   "outputs": [],
   "source": [
    "policy_result = model_deid.transform(spark.createDataFrame([[text]]).toDF(\"text\"))"
   ]
  },
  {
   "cell_type": "code",
   "execution_count": 19,
   "id": "d94fccb3-8874-428e-8cf3-2ed1bf443002",
   "metadata": {
    "colab": {
     "base_uri": "https://localhost:8080/"
    },
    "executionInfo": {
     "elapsed": 1299,
     "status": "ok",
     "timestamp": 1664821240458,
     "user": {
      "displayName": "Damla",
      "userId": "03285166568766987047"
     },
     "user_tz": -120
    },
    "id": "d94fccb3-8874-428e-8cf3-2ed1bf443002",
    "outputId": "5b38b394-7093-4e5d-fab1-0096347f1fd2"
   },
   "outputs": [
    {
     "name": "stdout",
     "output_type": "stream",
     "text": [
      "+--------------------+--------------------+--------------------+--------------------+--------------------+--------------------+--------------------+--------------------+--------------------+--------------------+--------------------+\n",
      "|                text|            document|            sentence|               token|          embeddings|                 ner|           ner_chunk|   deid_entity_label|                 aux|    deid_same_length|   deid_fixed_length|\n",
      "+--------------------+--------------------+--------------------+--------------------+--------------------+--------------------+--------------------+--------------------+--------------------+--------------------+--------------------+\n",
      "|\n",
      "(State or other ...|[{document, 0, 27...|[{document, 1, 97...|[{token, 1, 1, (,...|[{word_embeddings...|[{named_entity, 1...|[{chunk, 99, 118,...|[{document, 0, 96...|[{chunk, 97, 100,...|[{document, 0, 96...|[{document, 0, 96...|\n",
      "+--------------------+--------------------+--------------------+--------------------+--------------------+--------------------+--------------------+--------------------+--------------------+--------------------+--------------------+\n",
      "\n"
     ]
    }
   ],
   "source": [
    "policy_result.show()"
   ]
  },
  {
   "cell_type": "code",
   "execution_count": 20,
   "id": "f759241e-63a1-47ef-a562-a0a0272ed0e0",
   "metadata": {
    "colab": {
     "base_uri": "https://localhost:8080/",
     "height": 201
    },
    "executionInfo": {
     "elapsed": 1273,
     "status": "ok",
     "timestamp": 1664821241726,
     "user": {
      "displayName": "Damla",
      "userId": "03285166568766987047"
     },
     "user_tz": -120
    },
    "id": "f759241e-63a1-47ef-a562-a0a0272ed0e0",
    "outputId": "8fa2c733-64e1-4fe3-c741-bec1a86ebb81"
   },
   "outputs": [
    {
     "name": "stderr",
     "output_type": "stream",
     "text": [
      "                                                                                \r"
     ]
    },
    {
     "data": {
      "text/html": [
       "<div>\n",
       "<style scoped>\n",
       "    .dataframe tbody tr th:only-of-type {\n",
       "        vertical-align: middle;\n",
       "    }\n",
       "\n",
       "    .dataframe tbody tr th {\n",
       "        vertical-align: top;\n",
       "    }\n",
       "\n",
       "    .dataframe thead th {\n",
       "        text-align: right;\n",
       "    }\n",
       "</style>\n",
       "<table border=\"1\" class=\"dataframe\">\n",
       "  <thead>\n",
       "    <tr style=\"text-align: right;\">\n",
       "      <th></th>\n",
       "      <th>sentence</th>\n",
       "      <th>deid_entity_label</th>\n",
       "      <th>deid_same_length</th>\n",
       "      <th>deid_fixed_length</th>\n",
       "    </tr>\n",
       "  </thead>\n",
       "  <tbody>\n",
       "    <tr>\n",
       "      <th>0</th>\n",
       "      <td>(State or other jurisdictionof incorporation o...</td>\n",
       "      <td>(State or other jurisdictionof incorporation o...</td>\n",
       "      <td>(State or other jurisdictionof incorporation o...</td>\n",
       "      <td>(State or other jurisdictionof incorporation o...</td>\n",
       "    </tr>\n",
       "    <tr>\n",
       "      <th>1</th>\n",
       "      <td>55 Almaden Boulevard, 6th Floor</td>\n",
       "      <td>&lt;STREET&gt;, 6th Floor</td>\n",
       "      <td>[******************], 6th Floor</td>\n",
       "      <td>****, 6th Floor</td>\n",
       "    </tr>\n",
       "    <tr>\n",
       "      <th>2</th>\n",
       "      <td>San Jose, California 95113</td>\n",
       "      <td>&lt;CITY&gt;, &lt;STATE&gt; &lt;ZIP&gt;</td>\n",
       "      <td>[******], [********] [***]</td>\n",
       "      <td>****, **** ****</td>\n",
       "    </tr>\n",
       "    <tr>\n",
       "      <th>3</th>\n",
       "      <td>(Address of principal executive offices and Zi...</td>\n",
       "      <td>(Address of principal executive offices and Zi...</td>\n",
       "      <td>(Address of principal executive offices and Zi...</td>\n",
       "      <td>(Address of principal executive offices and Zi...</td>\n",
       "    </tr>\n",
       "    <tr>\n",
       "      <th>4</th>\n",
       "      <td>(Registrant’s telephone number, including area...</td>\n",
       "      <td>(Registrant’s telephone number, including area...</td>\n",
       "      <td>(Registrant’s telephone number, including area...</td>\n",
       "      <td>(Registrant’s telephone number, including area...</td>\n",
       "    </tr>\n",
       "  </tbody>\n",
       "</table>\n",
       "</div>"
      ],
      "text/plain": [
       "                                            sentence  \\\n",
       "0  (State or other jurisdictionof incorporation o...   \n",
       "1                    55 Almaden Boulevard, 6th Floor   \n",
       "2                         San Jose, California 95113   \n",
       "3  (Address of principal executive offices and Zi...   \n",
       "4  (Registrant’s telephone number, including area...   \n",
       "\n",
       "                                   deid_entity_label  \\\n",
       "0  (State or other jurisdictionof incorporation o...   \n",
       "1                                <STREET>, 6th Floor   \n",
       "2                              <CITY>, <STATE> <ZIP>   \n",
       "3  (Address of principal executive offices and Zi...   \n",
       "4  (Registrant’s telephone number, including area...   \n",
       "\n",
       "                                    deid_same_length  \\\n",
       "0  (State or other jurisdictionof incorporation o...   \n",
       "1                    [******************], 6th Floor   \n",
       "2                         [******], [********] [***]   \n",
       "3  (Address of principal executive offices and Zi...   \n",
       "4  (Registrant’s telephone number, including area...   \n",
       "\n",
       "                                   deid_fixed_length  \n",
       "0  (State or other jurisdictionof incorporation o...  \n",
       "1                                    ****, 6th Floor  \n",
       "2                                    ****, **** ****  \n",
       "3  (Address of principal executive offices and Zi...  \n",
       "4  (Registrant’s telephone number, including area...  "
      ]
     },
     "execution_count": 20,
     "metadata": {},
     "output_type": "execute_result"
    }
   ],
   "source": [
    "policy_result.select(F.explode(F.arrays_zip(policy_result.sentence.result, \n",
    "                                            policy_result.deid_entity_label.result, \n",
    "                                            policy_result.deid_same_length.result, \n",
    "                                            policy_result.deid_fixed_length.result)).alias(\"cols\")) \\\n",
    "             .select(F.expr(\"cols['0']\").alias(\"sentence\"),\n",
    "                     F.expr(\"cols['1']\").alias(\"deid_entity_label\"),\n",
    "                     F.expr(\"cols['2']\").alias(\"deid_same_length\"),\n",
    "                     F.expr(\"cols['3']\").alias(\"deid_fixed_length\")).toPandas()"
   ]
  },
  {
   "cell_type": "markdown",
   "id": "24ad89cd-3022-46df-b4a1-6f6d90d0445a",
   "metadata": {
    "id": "24ad89cd-3022-46df-b4a1-6f6d90d0445a"
   },
   "source": [
    "### Mapping Column"
   ]
  },
  {
   "cell_type": "code",
   "execution_count": 21,
   "id": "941bfa77-2a19-4d47-ace2-0d5c6eb66514",
   "metadata": {
    "colab": {
     "base_uri": "https://localhost:8080/"
    },
    "executionInfo": {
     "elapsed": 1498,
     "status": "ok",
     "timestamp": 1664821243220,
     "user": {
      "displayName": "Damla",
      "userId": "03285166568766987047"
     },
     "user_tz": -120
    },
    "id": "941bfa77-2a19-4d47-ace2-0d5c6eb66514",
    "outputId": "116e2df9-cddf-44d7-eb84-daae7aae5519"
   },
   "outputs": [
    {
     "name": "stdout",
     "output_type": "stream",
     "text": [
      "+--------------------------------------------------------------------------------------------------------------------------------------------------------------------------------------------------------------------------------------------------------------------------------------------------------------------------------------------------------------------------------------------------------------------------------------------------------------------------------------------------------------------------------------------------------------------------------------------------------------------------------------------------------------------------------------------------------------------------------------------------------------------------------------------------------------------------------------------------------------------------------------------------------------------------------------------------------------------------------------------------------------------------------------------------------------------+\n",
      "|aux                                                                                                                                                                                                                                                                                                                                                                                                                                                                                                                                                                                                                                                                                                                                                                                                                                                                                                                                                                                                                                                                 |\n",
      "+--------------------------------------------------------------------------------------------------------------------------------------------------------------------------------------------------------------------------------------------------------------------------------------------------------------------------------------------------------------------------------------------------------------------------------------------------------------------------------------------------------------------------------------------------------------------------------------------------------------------------------------------------------------------------------------------------------------------------------------------------------------------------------------------------------------------------------------------------------------------------------------------------------------------------------------------------------------------------------------------------------------------------------------------------------------------+\n",
      "|[{chunk, 97, 104, <STREET>, {originalChunk -> 55 Almaden Boulevard, chunk -> 0, beginOriginalChunk -> 99, confidence -> 0.9998333, ner_source -> ner_chunk, entity -> STREET, endOriginalChunk -> 118, sentence -> 1}, []}, {chunk, 116, 121, <CITY>, {originalChunk -> San Jose, chunk -> 1, beginOriginalChunk -> 131, confidence -> 0.9882, ner_source -> ner_chunk, entity -> CITY, endOriginalChunk -> 138, sentence -> 2}, []}, {chunk, 124, 130, <STATE>, {originalChunk -> California, chunk -> 2, beginOriginalChunk -> 141, confidence -> 0.9983, ner_source -> ner_chunk, entity -> STATE, endOriginalChunk -> 150, sentence -> 2}, []}, {chunk, 132, 136, <ZIP>, {originalChunk -> 95113, chunk -> 3, beginOriginalChunk -> 152, confidence -> 0.9752, ner_source -> ner_chunk, entity -> ZIP, endOriginalChunk -> 156, sentence -> 2}, []}, {chunk, 191, 197, <PHONE>, {originalChunk -> 799-9666, chunk -> 4, beginOriginalChunk -> 212, confidence -> 0.7792, ner_source -> ner_chunk, entity -> PHONE, endOriginalChunk -> 219, sentence -> 3}, []}]|\n",
      "+--------------------------------------------------------------------------------------------------------------------------------------------------------------------------------------------------------------------------------------------------------------------------------------------------------------------------------------------------------------------------------------------------------------------------------------------------------------------------------------------------------------------------------------------------------------------------------------------------------------------------------------------------------------------------------------------------------------------------------------------------------------------------------------------------------------------------------------------------------------------------------------------------------------------------------------------------------------------------------------------------------------------------------------------------------------------+\n",
      "\n"
     ]
    }
   ],
   "source": [
    "result.select(\"aux\").show(truncate=False)"
   ]
  },
  {
   "cell_type": "code",
   "execution_count": 22,
   "id": "ea4502c9-ae7b-4bf0-97ec-0ed7a6ba2f32",
   "metadata": {
    "colab": {
     "base_uri": "https://localhost:8080/"
    },
    "executionInfo": {
     "elapsed": 1267,
     "status": "ok",
     "timestamp": 1664821244483,
     "user": {
      "displayName": "Damla",
      "userId": "03285166568766987047"
     },
     "user_tz": -120
    },
    "id": "ea4502c9-ae7b-4bf0-97ec-0ed7a6ba2f32",
    "outputId": "b0da0718-29d5-413a-c35c-1d5f3b68a31d"
   },
   "outputs": [
    {
     "name": "stdout",
     "output_type": "stream",
     "text": [
      "+--------------------+----------+--------+--------+----------+--------+\n",
      "|chunk               |beginChunk|endChunk|label   |beginLabel|endLabel|\n",
      "+--------------------+----------+--------+--------+----------+--------+\n",
      "|55 Almaden Boulevard|99        |118     |<STREET>|97        |104     |\n",
      "|San Jose            |131       |138     |<CITY>  |116       |121     |\n",
      "|California          |141       |150     |<STATE> |124       |130     |\n",
      "|95113               |152       |156     |<ZIP>   |132       |136     |\n",
      "|799-9666            |212       |219     |<PHONE> |191       |197     |\n",
      "+--------------------+----------+--------+--------+----------+--------+\n",
      "\n"
     ]
    }
   ],
   "source": [
    "result.select(F.explode(F.arrays_zip(result.aux.metadata, \n",
    "                                     result.aux.result, \n",
    "                                     result.aux.begin, \n",
    "                                     result.aux.end)).alias(\"cols\")) \\\n",
    "      .select(F.expr(\"cols['0']['originalChunk']\").alias(\"chunk\"),\n",
    "              F.expr(\"cols['0']['beginOriginalChunk']\").alias(\"beginChunk\"),\n",
    "              F.expr(\"cols['0']['endOriginalChunk']\").alias(\"endChunk\"),\n",
    "              F.expr(\"cols['1']\").alias(\"label\"),\n",
    "              F.expr(\"cols['2']\").alias(\"beginLabel\"),\n",
    "              F.expr(\"cols['3']\").alias(\"endLabel\")).show(truncate=False)"
   ]
  },
  {
   "cell_type": "markdown",
   "id": "f9673cfe-a13e-4099-bb22-30084ec4cf3b",
   "metadata": {
    "id": "f9673cfe-a13e-4099-bb22-30084ec4cf3b"
   },
   "source": [
    "## Reidentification\n",
    "\n",
    "We can use `ReIdentification` annotator to go back to the original sentence."
   ]
  },
  {
   "cell_type": "code",
   "execution_count": 23,
   "id": "0a1ce1bf-2c4f-4bf9-b0d9-84f8fefcfb30",
   "metadata": {
    "executionInfo": {
     "elapsed": 8,
     "status": "ok",
     "timestamp": 1664821244483,
     "user": {
      "displayName": "Damla",
      "userId": "03285166568766987047"
     },
     "user_tz": -120
    },
    "id": "0a1ce1bf-2c4f-4bf9-b0d9-84f8fefcfb30"
   },
   "outputs": [],
   "source": [
    "reIdentification =  finance.ReIdentification()\\\n",
    "    .setInputCols([\"aux\",\"deidentified\"])\\\n",
    "    .setOutputCol(\"original\")"
   ]
  },
  {
   "cell_type": "code",
   "execution_count": null,
   "id": "5e0467f8-87dd-424b-b4c0-25fae1cb1b19",
   "metadata": {
    "executionInfo": {
     "elapsed": 6,
     "status": "ok",
     "timestamp": 1664821244484,
     "user": {
      "displayName": "Damla",
      "userId": "03285166568766987047"
     },
     "user_tz": -120
    },
    "id": "5e0467f8-87dd-424b-b4c0-25fae1cb1b19"
   },
   "outputs": [],
   "source": [
    "reid_result = reIdentification.transform(result)"
   ]
  },
  {
   "cell_type": "code",
   "execution_count": 25,
   "id": "80a4f86b-bb67-4fc2-8686-146770a50f33",
   "metadata": {
    "colab": {
     "base_uri": "https://localhost:8080/"
    },
    "executionInfo": {
     "elapsed": 1118,
     "status": "ok",
     "timestamp": 1664821245597,
     "user": {
      "displayName": "Damla",
      "userId": "03285166568766987047"
     },
     "user_tz": -120
    },
    "id": "80a4f86b-bb67-4fc2-8686-146770a50f33",
    "outputId": "f88bdebe-4c8b-4587-b022-d99ae47613cf"
   },
   "outputs": [
    {
     "name": "stdout",
     "output_type": "stream",
     "text": [
      "+--------------------+--------------------+--------------------+--------------------+--------------------+--------------------+--------------------+--------------------+--------------------+--------------------+\n",
      "|                text|            document|            sentence|               token|          embeddings|                 ner|           ner_chunk|        deidentified|                 aux|            original|\n",
      "+--------------------+--------------------+--------------------+--------------------+--------------------+--------------------+--------------------+--------------------+--------------------+--------------------+\n",
      "|\n",
      "(State or other ...|[{document, 0, 27...|[{document, 1, 97...|[{token, 1, 1, (,...|[{word_embeddings...|[{named_entity, 1...|[{chunk, 99, 118,...|[{document, 0, 96...|[{chunk, 97, 104,...|[{document, 1, 97...|\n",
      "+--------------------+--------------------+--------------------+--------------------+--------------------+--------------------+--------------------+--------------------+--------------------+--------------------+\n",
      "\n"
     ]
    }
   ],
   "source": [
    "reid_result.show()"
   ]
  },
  {
   "cell_type": "code",
   "execution_count": 26,
   "id": "b3a8e7d3-9cfd-4ad0-a129-e350a9669c9f",
   "metadata": {
    "colab": {
     "base_uri": "https://localhost:8080/"
    },
    "executionInfo": {
     "elapsed": 745,
     "status": "ok",
     "timestamp": 1664821246337,
     "user": {
      "displayName": "Damla",
      "userId": "03285166568766987047"
     },
     "user_tz": -120
    },
    "id": "b3a8e7d3-9cfd-4ad0-a129-e350a9669c9f",
    "outputId": "559b8f75-faac-4adc-b1af-e815dc109105"
   },
   "outputs": [
    {
     "name": "stdout",
     "output_type": "stream",
     "text": [
      "\n",
      "(State or other jurisdictionof incorporation or organization)\n",
      "(I.R.S. EmployerIdentification No.)\n",
      "55 Almaden Boulevard, 6th Floor\n",
      "San Jose, California 95113\n",
      "(Address of principal executive offices and Zip Code)\n",
      "799-9666\n",
      "(Registrant’s telephone number, including area code) \n",
      "+--------------------------------------------------------------------------------------------------------------------------------------------------------------------------------------------------------------------------------------------------------------------------------------+\n",
      "|result                                                                                                                                                                                                                                                                                |\n",
      "+--------------------------------------------------------------------------------------------------------------------------------------------------------------------------------------------------------------------------------------------------------------------------------------+\n",
      "|[(State or other jurisdictionof incorporation or organization)\n",
      "(I.R.S. EmployerIdentification No.), 55 Almaden Boulevard, 6th Floor, San Jose, California 95113, (Address of principal executive offices and Zip Code)\n",
      "799-9666, (Registrant’s telephone number, including area code)]|\n",
      "+--------------------------------------------------------------------------------------------------------------------------------------------------------------------------------------------------------------------------------------------------------------------------------------+\n",
      "\n"
     ]
    }
   ],
   "source": [
    "print(text)\n",
    "\n",
    "reid_result.select('original.result').show(truncate=False)"
   ]
  },
  {
   "cell_type": "markdown",
   "id": "27d5c012-0eef-48a5-9d3d-915e942f5639",
   "metadata": {
    "id": "27d5c012-0eef-48a5-9d3d-915e942f5639"
   },
   "source": [
    "## Using multiple NER in the same pipeline"
   ]
  },
  {
   "cell_type": "code",
   "execution_count": null,
   "id": "4b11381f-af80-49e7-9d30-418a753fa08f",
   "metadata": {
    "colab": {
     "base_uri": "https://localhost:8080/"
    },
    "executionInfo": {
     "elapsed": 37487,
     "status": "ok",
     "timestamp": 1664821283821,
     "user": {
      "displayName": "Damla",
      "userId": "03285166568766987047"
     },
     "user_tz": -120
    },
    "id": "4b11381f-af80-49e7-9d30-418a753fa08f",
    "outputId": "b994f036-b522-44d4-ea09-ca3518c36f92",
    "tags": []
   },
   "outputs": [],
   "source": [
    "documentAssembler = nlp.DocumentAssembler()\\\n",
    "    .setInputCol(\"text\")\\\n",
    "    .setOutputCol(\"document\")\n",
    "\n",
    "sentenceDetector = nlp.SentenceDetector()\\\n",
    "    .setInputCols([\"document\"])\\\n",
    "    .setOutputCol(\"sentence\")\n",
    "\n",
    "tokenizer = nlp.Tokenizer()\\\n",
    "    .setInputCols([\"sentence\"])\\\n",
    "    .setOutputCol(\"token\")\n",
    "\n",
    "embeddings = nlp.RoBertaEmbeddings.pretrained(\"roberta_embeddings_legal_roberta_base\",\"en\") \\\n",
    "    .setInputCols([\"sentence\", \"token\"]) \\\n",
    "    .setOutputCol(\"embeddings\")\n",
    "\n",
    "bert_embeddings = nlp.BertEmbeddings.pretrained(\"bert_embeddings_sec_bert_base\",\"en\") \\\n",
    "    .setInputCols([\"sentence\", \"token\"]) \\\n",
    "    .setOutputCol(\"bert_embeddings\")\n",
    "\n",
    "fin_ner = finance.NerModel.pretrained('finner_deid', \"en\", \"finance/models\")\\\n",
    "    .setInputCols([\"sentence\", \"token\", \"embeddings\"]) \\\n",
    "    .setOutputCol(\"ner\") \n",
    "    #.setLabelCasing(\"upper\")\n",
    "\n",
    "ner_converter =  finance.NerConverterInternal() \\\n",
    "    .setInputCols([\"sentence\", \"token\", \"ner\"])\\\n",
    "    .setOutputCol(\"ner_chunk\")\\\n",
    "    .setReplaceLabels({\"ORG\": \"PARTY\"}) # Replace \"ORG\" entity as \"PARTY\"\n",
    "\n",
    "ner_finner = finance.NerModel.pretrained(\"finner_org_per_role_date\", \"en\", \"finance/models\")\\\n",
    "    .setInputCols([\"sentence\", \"token\", \"bert_embeddings\"]) \\\n",
    "    .setOutputCol(\"ner_finner\") \n",
    "    #.setLabelCasing(\"upper\")\n",
    "\n",
    "ner_converter_finner = nlp.NerConverter() \\\n",
    "    .setInputCols([\"sentence\", \"token\", \"ner_finner\"]) \\\n",
    "    .setOutputCol(\"ner_finner_chunk\") \\\n",
    "    .setWhiteList(['ROLE']) # Just use \"ROLE\" entity from this NER\n",
    "\n",
    "chunk_merge =  finance.ChunkMergeApproach()\\\n",
    "    .setInputCols(\"ner_finner_chunk\", \"ner_chunk\")\\\n",
    "    .setOutputCol(\"deid_merged_chunk\")\n",
    "\n",
    "deidentification =  finance.DeIdentification() \\\n",
    "    .setInputCols([\"sentence\", \"token\", \"deid_merged_chunk\"]) \\\n",
    "    .setOutputCol(\"deidentified\") \\\n",
    "    .setMode(\"mask\")\\\n",
    "    .setIgnoreRegex(True)\n",
    "\n",
    "\n",
    "nlp_pipeline = nlp.Pipeline(stages=[\n",
    "      documentAssembler, \n",
    "      sentenceDetector,\n",
    "      tokenizer,\n",
    "      embeddings,\n",
    "      bert_embeddings,\n",
    "      fin_ner,\n",
    "      ner_converter,\n",
    "      ner_finner,\n",
    "      ner_converter_finner,\n",
    "      chunk_merge,\n",
    "      deidentification])\n",
    "\n",
    "empty_data = spark.createDataFrame([[\"\"]]).toDF(\"text\")\n",
    "\n",
    "model = nlp_pipeline.fit(empty_data)"
   ]
  },
  {
   "cell_type": "code",
   "execution_count": null,
   "id": "8f4ef972-ad0c-4297-896a-94b639027810",
   "metadata": {
    "executionInfo": {
     "elapsed": 13,
     "status": "ok",
     "timestamp": 1664821283822,
     "user": {
      "displayName": "Damla",
      "userId": "03285166568766987047"
     },
     "user_tz": -120
    },
    "id": "8f4ef972-ad0c-4297-896a-94b639027810"
   },
   "outputs": [],
   "source": [
    "text = \"\"\" Jeffrey Preston Bezos is an American entrepreneur, founder and CEO of Amazon  \"\"\" \n",
    "\n",
    "result = model.transform(spark.createDataFrame([[text]]).toDF(\"text\"))"
   ]
  },
  {
   "cell_type": "code",
   "execution_count": 38,
   "id": "63fe74f9-768c-47c1-87e0-86d7a2a556bf",
   "metadata": {
    "colab": {
     "base_uri": "https://localhost:8080/"
    },
    "executionInfo": {
     "elapsed": 4626,
     "status": "ok",
     "timestamp": 1664821288441,
     "user": {
      "displayName": "Damla",
      "userId": "03285166568766987047"
     },
     "user_tz": -120
    },
    "id": "63fe74f9-768c-47c1-87e0-86d7a2a556bf",
    "outputId": "c056bad3-ab10-4f0d-e59c-16d448b30613"
   },
   "outputs": [
    {
     "name": "stderr",
     "output_type": "stream",
     "text": [
      "22/12/12 13:59:05 WARN DAGScheduler: Broadcasting large task binary with size 1123.7 KiB\n",
      "22/12/12 13:59:05 WARN DAGScheduler: Broadcasting large task binary with size 1123.7 KiB\n",
      "22/12/12 13:59:05 WARN DAGScheduler: Broadcasting large task binary with size 1123.7 KiB\n"
     ]
    },
    {
     "name": "stdout",
     "output_type": "stream",
     "text": [
      "+---------------------+---------+\n",
      "|chunk                |ner_label|\n",
      "+---------------------+---------+\n",
      "|Jeffrey Preston Bezos|PERSON   |\n",
      "|Amazon               |PARTY    |\n",
      "+---------------------+---------+\n",
      "\n"
     ]
    }
   ],
   "source": [
    "# fin_ner\n",
    "result.select(F.explode(F.arrays_zip(result.ner_chunk.result, result.ner_chunk.metadata)).alias(\"cols\"))\\\n",
    "      .select(F.expr(\"cols['0']\").alias(\"chunk\"),\n",
    "              F.expr(\"cols['1']['entity']\").alias(\"ner_label\")).show(truncate=False)"
   ]
  },
  {
   "cell_type": "code",
   "execution_count": 39,
   "id": "0c5e99cf-f97b-448e-8e94-3eb3d8af4715",
   "metadata": {},
   "outputs": [
    {
     "name": "stderr",
     "output_type": "stream",
     "text": [
      "22/12/12 13:59:26 WARN DAGScheduler: Broadcasting large task binary with size 1189.9 KiB\n",
      "22/12/12 13:59:26 WARN DAGScheduler: Broadcasting large task binary with size 1189.9 KiB\n",
      "22/12/12 13:59:26 WARN DAGScheduler: Broadcasting large task binary with size 1189.9 KiB\n"
     ]
    },
    {
     "name": "stdout",
     "output_type": "stream",
     "text": [
      "+-------+---------+\n",
      "|chunk  |ner_label|\n",
      "+-------+---------+\n",
      "|founder|ROLE     |\n",
      "|CEO    |ROLE     |\n",
      "+-------+---------+\n",
      "\n"
     ]
    }
   ],
   "source": [
    "# ner_finner\n",
    "result.select(F.explode(F.arrays_zip(result.ner_finner_chunk.result, \n",
    "                                     result.ner_finner_chunk.metadata)).alias(\"cols\")) \\\n",
    "      .select(F.expr(\"cols['0']\").alias(\"chunk\"),\n",
    "              F.expr(\"cols['1']['entity']\").alias(\"ner_label\")).show(truncate=False)"
   ]
  },
  {
   "cell_type": "code",
   "execution_count": 40,
   "id": "4a899327-42d8-48c1-ab4a-5f692b10be22",
   "metadata": {
    "colab": {
     "base_uri": "https://localhost:8080/"
    },
    "executionInfo": {
     "elapsed": 2450,
     "status": "ok",
     "timestamp": 1664821293171,
     "user": {
      "displayName": "Damla",
      "userId": "03285166568766987047"
     },
     "user_tz": -120
    },
    "id": "4a899327-42d8-48c1-ab4a-5f692b10be22",
    "outputId": "67ca1f5e-9694-4e69-e941-080369cdf33d"
   },
   "outputs": [
    {
     "name": "stderr",
     "output_type": "stream",
     "text": [
      "22/12/12 14:00:56 WARN DAGScheduler: Broadcasting large task binary with size 1235.2 KiB\n",
      "22/12/12 14:00:56 WARN DAGScheduler: Broadcasting large task binary with size 1235.2 KiB\n",
      "22/12/12 14:00:57 WARN DAGScheduler: Broadcasting large task binary with size 1235.2 KiB\n"
     ]
    },
    {
     "name": "stdout",
     "output_type": "stream",
     "text": [
      "+---------------------+---------+\n",
      "|chunk                |ner_label|\n",
      "+---------------------+---------+\n",
      "|Jeffrey Preston Bezos|PERSON   |\n",
      "|founder              |ROLE     |\n",
      "|CEO                  |ROLE     |\n",
      "|Amazon               |PARTY    |\n",
      "+---------------------+---------+\n",
      "\n"
     ]
    }
   ],
   "source": [
    "# merged_chunk\n",
    "result.select(F.explode(F.arrays_zip(result.deid_merged_chunk.result, \n",
    "                                     result.deid_merged_chunk.metadata)).alias(\"cols\")) \\\n",
    "      .select(F.expr(\"cols['0']\").alias(\"chunk\"),\n",
    "              F.expr(\"cols['1']['entity']\").alias(\"ner_label\")).show(truncate=False)"
   ]
  },
  {
   "cell_type": "code",
   "execution_count": 41,
   "id": "c6c21ec8-5e6a-4bb4-b0bd-d7aa14fb6fbe",
   "metadata": {
    "colab": {
     "base_uri": "https://localhost:8080/",
     "height": 78
    },
    "executionInfo": {
     "elapsed": 1569,
     "status": "ok",
     "timestamp": 1664821294736,
     "user": {
      "displayName": "Damla",
      "userId": "03285166568766987047"
     },
     "user_tz": -120
    },
    "id": "c6c21ec8-5e6a-4bb4-b0bd-d7aa14fb6fbe",
    "outputId": "d067b4c7-1759-4c11-8084-c00ab0f53d76"
   },
   "outputs": [
    {
     "name": "stderr",
     "output_type": "stream",
     "text": [
      "22/12/12 14:01:12 WARN DAGScheduler: Broadcasting large task binary with size 1252.1 KiB\n"
     ]
    },
    {
     "data": {
      "text/html": [
       "<div>\n",
       "<style scoped>\n",
       "    .dataframe tbody tr th:only-of-type {\n",
       "        vertical-align: middle;\n",
       "    }\n",
       "\n",
       "    .dataframe tbody tr th {\n",
       "        vertical-align: top;\n",
       "    }\n",
       "\n",
       "    .dataframe thead th {\n",
       "        text-align: right;\n",
       "    }\n",
       "</style>\n",
       "<table border=\"1\" class=\"dataframe\">\n",
       "  <thead>\n",
       "    <tr style=\"text-align: right;\">\n",
       "      <th></th>\n",
       "      <th>sentence</th>\n",
       "      <th>deidentified</th>\n",
       "    </tr>\n",
       "  </thead>\n",
       "  <tbody>\n",
       "    <tr>\n",
       "      <th>0</th>\n",
       "      <td>Jeffrey Preston Bezos is an American entrepren...</td>\n",
       "      <td>&lt;PERSON&gt; is an American entrepreneur, &lt;ROLE&gt; a...</td>\n",
       "    </tr>\n",
       "  </tbody>\n",
       "</table>\n",
       "</div>"
      ],
      "text/plain": [
       "                                            sentence  \\\n",
       "0  Jeffrey Preston Bezos is an American entrepren...   \n",
       "\n",
       "                                        deidentified  \n",
       "0  <PERSON> is an American entrepreneur, <ROLE> a...  "
      ]
     },
     "execution_count": 41,
     "metadata": {},
     "output_type": "execute_result"
    }
   ],
   "source": [
    "result.select(F.explode(F.arrays_zip(result.sentence.result, \n",
    "                                     result.deidentified.result)).alias(\"cols\")) \\\n",
    "      .select(F.expr(\"cols['0']\").alias(\"sentence\"),\n",
    "              F.expr(\"cols['1']\").alias(\"deidentified\")).toPandas()"
   ]
  },
  {
   "cell_type": "markdown",
   "id": "0de79296-97f8-4daa-940c-1fd8d176c8c3",
   "metadata": {
    "id": "0de79296-97f8-4daa-940c-1fd8d176c8c3"
   },
   "source": [
    "## Obfuscation mode"
   ]
  },
  {
   "cell_type": "markdown",
   "id": "52e7c83b-780b-4d3e-be7f-604cd310babd",
   "metadata": {
    "id": "52e7c83b-780b-4d3e-be7f-604cd310babd"
   },
   "source": [
    "In the obfuscation mode **DeIdentificationModel** will replace sensitive entities with random values of the same type. \n"
   ]
  },
  {
   "cell_type": "code",
   "execution_count": 42,
   "id": "31b20c5a-bc56-43e1-9101-6503c23ab49b",
   "metadata": {
    "executionInfo": {
     "elapsed": 3,
     "status": "ok",
     "timestamp": 1664821294736,
     "user": {
      "displayName": "Damla",
      "userId": "03285166568766987047"
     },
     "user_tz": -120
    },
    "id": "31b20c5a-bc56-43e1-9101-6503c23ab49b"
   },
   "outputs": [],
   "source": [
    "# This is the obfuscation dict for the new entities\n",
    "obs_lines = \"\"\"5417543010#PHONE\n",
    "(123)123-1234#PHONE\n",
    "+18087339090#PHONE\n",
    "(555) 555-1234#PHONE\n",
    "541-700-3010#PHONE\n",
    "HenryWatson@world.com#EMAIL\n",
    "yousef@jacob.com#EMAIL\n",
    "eric.shannon@geegle.com#EMAIL\n",
    "mgt@jsl.com#EMAIL\n",
    "gokhan@company.com#EMAIL\n",
    "richard@company.it#EMAIL\n",
    "TURER INC#PARTY\n",
    "Clarus llc.#PARTY\n",
    "SESA CO.#PARTY\n",
    "John Snow Labs Inc#PARTY\n",
    "MGT Trust Company, LLC.#PARTY\n",
    "26-06-1990#EFFDATE\n",
    "03/08/2025#EFFDATE\n",
    "01/01/2045#EFFDATE\n",
    "11/7/2016#EFFDATE\n",
    "12-12-2022#EFFDATE\n",
    "CEO#ROLE\n",
    "CTO#ROLE\n",
    "Director#ROLE\n",
    "James Turner#PERSON\n",
    "JUAN RAMIREZ#PERSON\n",
    "Benjamin Curie#PERSON\"\"\"\n",
    "\n",
    "with open ('obfuscate.txt', 'w') as f:\n",
    "    f.write(obs_lines)"
   ]
  },
  {
   "cell_type": "code",
   "execution_count": null,
   "id": "210db7c7-e1a3-46ac-941f-160abc068ada",
   "metadata": {
    "executionInfo": {
     "elapsed": 628,
     "status": "ok",
     "timestamp": 1664821295362,
     "user": {
      "displayName": "Damla",
      "userId": "03285166568766987047"
     },
     "user_tz": -120
    },
    "id": "210db7c7-e1a3-46ac-941f-160abc068ada"
   },
   "outputs": [],
   "source": [
    "ner_converter_finner = nlp.NerConverter() \\\n",
    "    .setInputCols([\"sentence\", \"token\", \"ner_finner\"]) \\\n",
    "    .setOutputCol(\"ner_finner_chunk\") \\\n",
    "    .setWhiteList(['ROLE'])\\\n",
    "\n",
    "chunk_merge =  finance.ChunkMergeApproach()\\\n",
    "    .setInputCols(\"ner_finner_chunk\", \"ner_chunk\")\\\n",
    "    .setOutputCol(\"deid_merged_chunk\")\n",
    "\n",
    "obfuscation =  finance.DeIdentification()\\\n",
    "    .setInputCols([\"sentence\", \"token\", \"deid_merged_chunk\"]) \\\n",
    "    .setOutputCol(\"deidentified\") \\\n",
    "    .setMode(\"obfuscate\")\\\n",
    "    .setObfuscateDate(True)\\\n",
    "    .setObfuscateRefFile('obfuscate.txt')\\\n",
    "    .setObfuscateRefSource(\"both\") #default: \"faker\"\n",
    "\n",
    "\n",
    "nlp_pipeline = nlp.Pipeline(stages=[\n",
    "      documentAssembler, \n",
    "      sentenceDetector,\n",
    "      tokenizer,\n",
    "      embeddings,\n",
    "      bert_embeddings,\n",
    "      fin_ner,\n",
    "      ner_converter,\n",
    "      ner_finner,\n",
    "      ner_converter_finner,\n",
    "      chunk_merge,\n",
    "      obfuscation])\n",
    "\n",
    "obfuscation_model = nlp_pipeline.fit(empty_data)"
   ]
  },
  {
   "cell_type": "code",
   "execution_count": null,
   "id": "0264dd21-5927-46b3-82f3-575d7a0b7a16",
   "metadata": {
    "colab": {
     "base_uri": "https://localhost:8080/",
     "height": 78
    },
    "executionInfo": {
     "elapsed": 1576,
     "status": "ok",
     "timestamp": 1664821296935,
     "user": {
      "displayName": "Damla",
      "userId": "03285166568766987047"
     },
     "user_tz": -120
    },
    "id": "0264dd21-5927-46b3-82f3-575d7a0b7a16",
    "outputId": "92e9c7df-4c09-4f90-97c3-9d146100c9e7"
   },
   "outputs": [],
   "source": [
    "result = obfuscation_model.transform(spark.createDataFrame([[text]]).toDF(\"text\"))"
   ]
  },
  {
   "cell_type": "code",
   "execution_count": 45,
   "id": "0603fbdb-7ac8-4f38-88e4-5d4e5ddea71d",
   "metadata": {},
   "outputs": [
    {
     "name": "stderr",
     "output_type": "stream",
     "text": [
      "22/12/12 14:02:13 WARN DAGScheduler: Broadcasting large task binary with size 1252.1 KiB\n"
     ]
    },
    {
     "data": {
      "text/html": [
       "<div>\n",
       "<style scoped>\n",
       "    .dataframe tbody tr th:only-of-type {\n",
       "        vertical-align: middle;\n",
       "    }\n",
       "\n",
       "    .dataframe tbody tr th {\n",
       "        vertical-align: top;\n",
       "    }\n",
       "\n",
       "    .dataframe thead th {\n",
       "        text-align: right;\n",
       "    }\n",
       "</style>\n",
       "<table border=\"1\" class=\"dataframe\">\n",
       "  <thead>\n",
       "    <tr style=\"text-align: right;\">\n",
       "      <th></th>\n",
       "      <th>sentence</th>\n",
       "      <th>deidentified</th>\n",
       "    </tr>\n",
       "  </thead>\n",
       "  <tbody>\n",
       "    <tr>\n",
       "      <th>0</th>\n",
       "      <td>Jeffrey Preston Bezos is an American entrepren...</td>\n",
       "      <td>JUAN RAMIREZ is an American entrepreneur, Dire...</td>\n",
       "    </tr>\n",
       "  </tbody>\n",
       "</table>\n",
       "</div>"
      ],
      "text/plain": [
       "                                            sentence  \\\n",
       "0  Jeffrey Preston Bezos is an American entrepren...   \n",
       "\n",
       "                                        deidentified  \n",
       "0  JUAN RAMIREZ is an American entrepreneur, Dire...  "
      ]
     },
     "execution_count": 45,
     "metadata": {},
     "output_type": "execute_result"
    }
   ],
   "source": [
    "result.select(F.explode(F.arrays_zip(result.sentence.result, result.deidentified.result)).alias(\"cols\"))\\\n",
    "      .select(F.expr(\"cols['0']\").alias(\"sentence\"), F.expr(\"cols['1']\").alias(\"deidentified\")).toPandas()"
   ]
  },
  {
   "cell_type": "markdown",
   "id": "3ebd5940-8389-4acb-b505-6dab2eebbbb3",
   "metadata": {
    "id": "3ebd5940-8389-4acb-b505-6dab2eebbbb3"
   },
   "source": [
    "## Use full pipeline in the Light model"
   ]
  },
  {
   "cell_type": "code",
   "execution_count": null,
   "id": "79bba6fc-b913-4e23-b6e1-315616756073",
   "metadata": {
    "colab": {
     "base_uri": "https://localhost:8080/"
    },
    "executionInfo": {
     "elapsed": 335,
     "status": "ok",
     "timestamp": 1664821297262,
     "user": {
      "displayName": "Damla",
      "userId": "03285166568766987047"
     },
     "user_tz": -120
    },
    "id": "79bba6fc-b913-4e23-b6e1-315616756073",
    "outputId": "5554a8a2-dd0b-41f2-89db-fd0f5da9dab9"
   },
   "outputs": [],
   "source": [
    "light_model = nlp.LightPipeline(model)\n",
    "\n",
    "annotated_text = light_model.annotate(text)\n"
   ]
  },
  {
   "cell_type": "code",
   "execution_count": 48,
   "id": "9888f6fc-8df9-485a-acad-188a13ce582e",
   "metadata": {},
   "outputs": [
    {
     "data": {
      "text/plain": [
       "['<PERSON> is an American entrepreneur, <ROLE> and <ROLE> of <PARTY>']"
      ]
     },
     "execution_count": 48,
     "metadata": {},
     "output_type": "execute_result"
    }
   ],
   "source": [
    "annotated_text['deidentified']"
   ]
  },
  {
   "cell_type": "code",
   "execution_count": null,
   "id": "9f0c3c9f-b7b6-4e68-ae5d-9c8833bf06d4",
   "metadata": {
    "colab": {
     "base_uri": "https://localhost:8080/"
    },
    "executionInfo": {
     "elapsed": 361,
     "status": "ok",
     "timestamp": 1664821297846,
     "user": {
      "displayName": "Damla",
      "userId": "03285166568766987047"
     },
     "user_tz": -120
    },
    "id": "9f0c3c9f-b7b6-4e68-ae5d-9c8833bf06d4",
    "outputId": "75bf9af3-afa7-4f7e-c473-664d7066b925"
   },
   "outputs": [],
   "source": [
    "obf_light_model = nlp.LightPipeline(obfuscation_model)\n",
    "\n",
    "annotated_text = obf_light_model.annotate(text)\n"
   ]
  },
  {
   "cell_type": "code",
   "execution_count": 50,
   "id": "0734c3ee-4889-488e-a89c-a93ccb47e789",
   "metadata": {},
   "outputs": [
    {
     "data": {
      "text/plain": [
       "['JUAN RAMIREZ is an American entrepreneur, Director and Director of MGT Trust Company, LLC.']"
      ]
     },
     "execution_count": 50,
     "metadata": {},
     "output_type": "execute_result"
    }
   ],
   "source": [
    "annotated_text['deidentified']"
   ]
  },
  {
   "cell_type": "markdown",
   "id": "cc5ac615-13af-4149-bf78-96e2d27d9c5f",
   "metadata": {
    "id": "cc5ac615-13af-4149-bf78-96e2d27d9c5f"
   },
   "source": [
    "# Save the Pipeline and Use it from Your Local"
   ]
  },
  {
   "cell_type": "code",
   "execution_count": 51,
   "id": "f54386d7-486c-44e9-9557-954c45d9d493",
   "metadata": {
    "executionInfo": {
     "elapsed": 16592,
     "status": "ok",
     "timestamp": 1664821314433,
     "user": {
      "displayName": "Damla",
      "userId": "03285166568766987047"
     },
     "user_tz": -120
    },
    "id": "f54386d7-486c-44e9-9557-954c45d9d493"
   },
   "outputs": [],
   "source": [
    "model.write().overwrite().save('pipeline_deid')"
   ]
  },
  {
   "cell_type": "code",
   "execution_count": null,
   "id": "2a6de84f-d5da-405a-afe6-7d3840dd454d",
   "metadata": {
    "executionInfo": {
     "elapsed": 18441,
     "status": "ok",
     "timestamp": 1664821332867,
     "user": {
      "displayName": "Damla",
      "userId": "03285166568766987047"
     },
     "user_tz": -120
    },
    "id": "2a6de84f-d5da-405a-afe6-7d3840dd454d"
   },
   "outputs": [],
   "source": [
    "# from sparknlp.pretrained import PretrainedPipeline\n",
    "\n",
    "deid_pipeline = nlp.PretrainedPipeline.from_disk(\"pipeline_deid\")"
   ]
  },
  {
   "cell_type": "code",
   "execution_count": 54,
   "id": "cbd89eeb-f5f5-4639-9ccf-29c2491f4d37",
   "metadata": {
    "executionInfo": {
     "elapsed": 6,
     "status": "ok",
     "timestamp": 1664821332867,
     "user": {
      "displayName": "Damla",
      "userId": "03285166568766987047"
     },
     "user_tz": -120
    },
    "id": "cbd89eeb-f5f5-4639-9ccf-29c2491f4d37"
   },
   "outputs": [],
   "source": [
    "data = spark.createDataFrame([[text]]).toDF(\"text\")"
   ]
  },
  {
   "cell_type": "code",
   "execution_count": 55,
   "id": "e78dea29-7a4c-4724-8e2f-93e635c2602e",
   "metadata": {
    "colab": {
     "base_uri": "https://localhost:8080/"
    },
    "executionInfo": {
     "elapsed": 4,
     "status": "ok",
     "timestamp": 1664821332867,
     "user": {
      "displayName": "Damla",
      "userId": "03285166568766987047"
     },
     "user_tz": -120
    },
    "id": "e78dea29-7a4c-4724-8e2f-93e635c2602e",
    "outputId": "62b2bfcc-572f-418c-90a3-c55900a90115"
   },
   "outputs": [
    {
     "data": {
      "text/plain": [
       "[DocumentAssembler_a26d635e4fda,\n",
       " SentenceDetector_e72d22229f44,\n",
       " REGEX_TOKENIZER_eedf7a317be3,\n",
       " ROBERTA_EMBEDDINGS_b915dff90901,\n",
       " BERT_EMBEDDINGS_29ce72cd673e,\n",
       " MedicalNerModel_7b3b98b32784,\n",
       " NER_CONVERTER_b21acb102a39,\n",
       " MedicalNerModel_7711a4bfd1fa,\n",
       " NerConverter_e952aa09fc0d,\n",
       " MERGE_13cb58eaff69,\n",
       " DE-IDENTIFICATION_fc938682341c]"
      ]
     },
     "execution_count": 55,
     "metadata": {},
     "output_type": "execute_result"
    }
   ],
   "source": [
    "deid_pipeline.model.stages"
   ]
  },
  {
   "cell_type": "code",
   "execution_count": null,
   "id": "de7e48e9-4433-40c8-8e88-a5d5a0265bb9",
   "metadata": {
    "colab": {
     "base_uri": "https://localhost:8080/"
    },
    "executionInfo": {
     "elapsed": 6690,
     "status": "ok",
     "timestamp": 1664821339554,
     "user": {
      "displayName": "Damla",
      "userId": "03285166568766987047"
     },
     "user_tz": -120
    },
    "id": "de7e48e9-4433-40c8-8e88-a5d5a0265bb9",
    "outputId": "bf896336-4d48-4e0e-a800-7b66682d58cb"
   },
   "outputs": [],
   "source": [
    "result = deid_pipeline.model.transform(data)"
   ]
  },
  {
   "cell_type": "code",
   "execution_count": 57,
   "id": "71c66fd8-a151-48fc-995d-70e8e78f995a",
   "metadata": {},
   "outputs": [
    {
     "name": "stderr",
     "output_type": "stream",
     "text": [
      "22/12/12 14:04:29 WARN DAGScheduler: Broadcasting large task binary with size 1306.5 KiB\n",
      "22/12/12 14:04:29 WARN DAGScheduler: Broadcasting large task binary with size 1306.5 KiB\n",
      "22/12/12 14:04:29 WARN DAGScheduler: Broadcasting large task binary with size 1306.5 KiB\n",
      "[Stage 143:======================================>                  (2 + 1) / 3]\r"
     ]
    },
    {
     "name": "stdout",
     "output_type": "stream",
     "text": [
      "+--------------------+--------------------+--------------------+--------------------+--------------------+--------------------+--------------------+--------------------+--------------------+--------------------+--------------------+--------------------+\n",
      "|                text|            document|            sentence|               token|          embeddings|     bert_embeddings|                 ner|           ner_chunk|          ner_finner|    ner_finner_chunk|   deid_merged_chunk|        deidentified|\n",
      "+--------------------+--------------------+--------------------+--------------------+--------------------+--------------------+--------------------+--------------------+--------------------+--------------------+--------------------+--------------------+\n",
      "| Jeffrey Preston ...|[{document, 0, 78...|[{document, 1, 76...|[{token, 1, 7, Je...|[{word_embeddings...|[{word_embeddings...|[{named_entity, 1...|[{chunk, 1, 21, J...|[{named_entity, 1...|[{chunk, 52, 58, ...|[{chunk, 1, 21, J...|[{document, 0, 65...|\n",
      "+--------------------+--------------------+--------------------+--------------------+--------------------+--------------------+--------------------+--------------------+--------------------+--------------------+--------------------+--------------------+\n",
      "\n"
     ]
    },
    {
     "name": "stderr",
     "output_type": "stream",
     "text": [
      "                                                                                \r"
     ]
    }
   ],
   "source": [
    "result.show()"
   ]
  },
  {
   "cell_type": "markdown",
   "id": "615a3cf3-ae62-40cf-b9b2-a68c8053c908",
   "metadata": {
    "id": "615a3cf3-ae62-40cf-b9b2-a68c8053c908"
   },
   "source": [
    "# Pretrained Deidentification Pipeline\n",
    "\n",
    "We have this pipeline can be used to deidentify financial information from texts.The financial information will be masked and obfuscated in the resulting text. The pipeline can mask and obfuscate `DOC`, `EFFDATE`, `PARTY`, `ALIAS`, `SIGNING_PERSON`, `SIGNING_TITLE`, `COUNTRY`, `CITY`, `STATE`, `STREET`, `ZIP`, `EMAIL`, `FAX`, `LOCATION-OTHER`, `DATE`,`PHONE` entities."
   ]
  },
  {
   "cell_type": "code",
   "execution_count": null,
   "id": "994c32d7-44e7-4637-9f64-454af9168dab",
   "metadata": {
    "colab": {
     "base_uri": "https://localhost:8080/"
    },
    "executionInfo": {
     "elapsed": 63372,
     "status": "ok",
     "timestamp": 1664821402918,
     "user": {
      "displayName": "Damla",
      "userId": "03285166568766987047"
     },
     "user_tz": -120
    },
    "id": "994c32d7-44e7-4637-9f64-454af9168dab",
    "outputId": "4e672ca6-11f3-41f2-d22a-752016f5e1b2"
   },
   "outputs": [],
   "source": [
    "# from sparknlp.pretrained import PretrainedPipeline\n",
    "\n",
    "deid_pipeline = nlp.PretrainedPipeline(\"finpipe_deid\", \"en\", \"finance/models\")\n"
   ]
  },
  {
   "cell_type": "code",
   "execution_count": 59,
   "id": "a09f14d8-54d9-4ed9-a7c4-6074f421020a",
   "metadata": {
    "colab": {
     "base_uri": "https://localhost:8080/"
    },
    "executionInfo": {
     "elapsed": 17,
     "status": "ok",
     "timestamp": 1664821402919,
     "user": {
      "displayName": "Damla",
      "userId": "03285166568766987047"
     },
     "user_tz": -120
    },
    "id": "a09f14d8-54d9-4ed9-a7c4-6074f421020a",
    "outputId": "572e4f87-efe1-4716-a1a5-7584af7d374c"
   },
   "outputs": [
    {
     "data": {
      "text/plain": [
       "[DocumentAssembler_57ba7ce8bff9,\n",
       " SentenceDetectorDLModel_8aaebf7e098e,\n",
       " REGEX_TOKENIZER_2f265bb3f6b5,\n",
       " ROBERTA_EMBEDDINGS_b915dff90901,\n",
       " BERT_EMBEDDINGS_29ce72cd673e,\n",
       " FinanceNerModel_f714c7246b46,\n",
       " NerConverter_5a5bb98a24c7,\n",
       " FinanceNerModel_2b2f0f671f99,\n",
       " NerConverter_8b80797c7f67,\n",
       " FinanceNerModel_7b3b98b32784,\n",
       " NER_CONVERTER_fb28b23bc35d,\n",
       " FinanceNerModel_419e708135cb,\n",
       " NER_CONVERTER_af60235365b4,\n",
       " CONTEXTUAL-PARSER_85a13a5ff4bd,\n",
       " CONTEXTUAL-PARSER_bf8f02fb6658,\n",
       " REGEX_MATCHER_6199c32417bc,\n",
       " REGEX_MATCHER_2d694c8416b8,\n",
       " MERGE_5b96d578aa9b,\n",
       " DE-IDENTIFICATION_3d3dd57f734a,\n",
       " DE-IDENTIFICATION_471d94c72cd0,\n",
       " DE-IDENTIFICATION_29cac8c6cf56,\n",
       " DE-IDENTIFICATION_407b57c7d657,\n",
       " Finisher_ed29d709e530]"
      ]
     },
     "execution_count": 59,
     "metadata": {},
     "output_type": "execute_result"
    }
   ],
   "source": [
    "deid_pipeline.model.stages"
   ]
  },
  {
   "cell_type": "code",
   "execution_count": 60,
   "id": "00a6b038-7178-4fe3-b7f6-664bad53ff92",
   "metadata": {
    "executionInfo": {
     "elapsed": 7,
     "status": "ok",
     "timestamp": 1664821402920,
     "user": {
      "displayName": "Damla",
      "userId": "03285166568766987047"
     },
     "user_tz": -120
    },
    "id": "00a6b038-7178-4fe3-b7f6-664bad53ff92"
   },
   "outputs": [],
   "source": [
    "text= \"\"\" REPORT PURSUANT TO SECTION 13 OR 15(d) OF THE SECURITIES EXCHANGE ACT OF\n",
    "Commvault Systems, Inc.  \n",
    "(Exact name of registrant as specified in its charter) \n",
    "Signed By : Sherly Johnson\n",
    "(Address of principal executive offices, including zip code) \n",
    "(732) 870-4000\n",
    "(telephone number, including area code) \n",
    "Name of each exchange on which registered\n",
    "CVLT\n",
    "The NASDAQ Stock Market\n",
    "\"\"\""
   ]
  },
  {
   "cell_type": "code",
   "execution_count": null,
   "id": "bd76c039-f1bb-4839-a2c5-9b5715629700",
   "metadata": {
    "executionInfo": {
     "elapsed": 16211,
     "status": "ok",
     "timestamp": 1664821419125,
     "user": {
      "displayName": "Damla",
      "userId": "03285166568766987047"
     },
     "user_tz": -120
    },
    "id": "bd76c039-f1bb-4839-a2c5-9b5715629700"
   },
   "outputs": [],
   "source": [
    "deid_res= deid_pipeline.annotate(text)"
   ]
  },
  {
   "cell_type": "code",
   "execution_count": 62,
   "id": "84add88b-9686-4fcc-83fa-6f64465f4aff",
   "metadata": {
    "colab": {
     "base_uri": "https://localhost:8080/"
    },
    "executionInfo": {
     "elapsed": 22,
     "status": "ok",
     "timestamp": 1664821419127,
     "user": {
      "displayName": "Damla",
      "userId": "03285166568766987047"
     },
     "user_tz": -120
    },
    "id": "84add88b-9686-4fcc-83fa-6f64465f4aff",
    "outputId": "250e2511-4e8b-4d45-a043-082772ef615f"
   },
   "outputs": [
    {
     "data": {
      "text/plain": [
       "dict_keys(['obfuscated', 'deidentified', 'masked_fixed_length_chars', 'deid_merged_chunk', 'sentence', 'masked_with_chars'])"
      ]
     },
     "execution_count": 62,
     "metadata": {},
     "output_type": "execute_result"
    }
   ],
   "source": [
    "deid_res.keys()"
   ]
  },
  {
   "cell_type": "code",
   "execution_count": 63,
   "id": "9551bf51-c2e4-4d7c-968e-1c75bd43f888",
   "metadata": {
    "colab": {
     "base_uri": "https://localhost:8080/",
     "height": 388
    },
    "executionInfo": {
     "elapsed": 15,
     "status": "ok",
     "timestamp": 1664821419128,
     "user": {
      "displayName": "Damla",
      "userId": "03285166568766987047"
     },
     "user_tz": -120
    },
    "id": "9551bf51-c2e4-4d7c-968e-1c75bd43f888",
    "outputId": "8e6de72b-6b39-4cd5-fea8-997142582263"
   },
   "outputs": [
    {
     "data": {
      "text/html": [
       "<div>\n",
       "<style scoped>\n",
       "    .dataframe tbody tr th:only-of-type {\n",
       "        vertical-align: middle;\n",
       "    }\n",
       "\n",
       "    .dataframe tbody tr th {\n",
       "        vertical-align: top;\n",
       "    }\n",
       "\n",
       "    .dataframe thead th {\n",
       "        text-align: right;\n",
       "    }\n",
       "</style>\n",
       "<table border=\"1\" class=\"dataframe\">\n",
       "  <thead>\n",
       "    <tr style=\"text-align: right;\">\n",
       "      <th></th>\n",
       "      <th>Sentence</th>\n",
       "      <th>Masked</th>\n",
       "      <th>Masked with Chars</th>\n",
       "      <th>Masked with Fixed Chars</th>\n",
       "      <th>Obfuscated</th>\n",
       "    </tr>\n",
       "  </thead>\n",
       "  <tbody>\n",
       "    <tr>\n",
       "      <th>0</th>\n",
       "      <td>REPORT PURSUANT TO SECTION 13 OR 15(d) OF THE SECURITIES EXCHANGE ACT OF</td>\n",
       "      <td>REPORT PURSUANT TO SECTION 13 OR 15(d) OF THE SECURITIES EXCHANGE ACT OF</td>\n",
       "      <td>REPORT PURSUANT TO SECTION 13 OR 15(d) OF THE SECURITIES EXCHANGE ACT OF</td>\n",
       "      <td>REPORT PURSUANT TO SECTION 13 OR 15(d) OF THE SECURITIES EXCHANGE ACT OF</td>\n",
       "      <td>REPORT PURSUANT TO SECTION 13 OR 15(d) OF THE SECURITIES EXCHANGE ACT OF</td>\n",
       "    </tr>\n",
       "    <tr>\n",
       "      <th>1</th>\n",
       "      <td>Commvault Systems, Inc.  \\n(Exact name of registrant as specified in its charter)</td>\n",
       "      <td>&lt;PARTY&gt;  \\n(Exact name of registrant as specified in its charter)</td>\n",
       "      <td>[*********************]  \\n(Exact name of registrant as specified in its charter)</td>\n",
       "      <td>****  \\n(Exact name of registrant as specified in its charter)</td>\n",
       "      <td>John Snow Labs Inc  \\n(Exact name of registrant as specified in its charter)</td>\n",
       "    </tr>\n",
       "    <tr>\n",
       "      <th>2</th>\n",
       "      <td>Signed By : Sherly Johnson</td>\n",
       "      <td>&lt;PARTY&gt; : &lt;SIGNING_PERSON&gt;</td>\n",
       "      <td>[*******] : [************]</td>\n",
       "      <td>**** : ****</td>\n",
       "      <td>TURER INC : Dorothy Keen</td>\n",
       "    </tr>\n",
       "    <tr>\n",
       "      <th>3</th>\n",
       "      <td>(Address of principal executive offices, including zip code) \\n(732) 870-4000\\n(telephone number...</td>\n",
       "      <td>(Address of principal executive offices, including zip code) \\n&lt;PHONE&gt;\\n(telephone number, inclu...</td>\n",
       "      <td>(Address of principal executive offices, including zip code) \\n[************]\\n(telephone number...</td>\n",
       "      <td>(Address of principal executive offices, including zip code) \\n****\\n(telephone number, includin...</td>\n",
       "      <td>(Address of principal executive offices, including zip code) \\n031460 3797\\n(telephone number, i...</td>\n",
       "    </tr>\n",
       "    <tr>\n",
       "      <th>4</th>\n",
       "      <td>Name of each exchange on which registered</td>\n",
       "      <td>Name of each exchange on which registered</td>\n",
       "      <td>Name of each exchange on which registered</td>\n",
       "      <td>Name of each exchange on which registered</td>\n",
       "      <td>Name of each exchange on which registered</td>\n",
       "    </tr>\n",
       "    <tr>\n",
       "      <th>5</th>\n",
       "      <td>CVLT</td>\n",
       "      <td>&lt;PARTY&gt;</td>\n",
       "      <td>[**]</td>\n",
       "      <td>****</td>\n",
       "      <td>TURER INC</td>\n",
       "    </tr>\n",
       "    <tr>\n",
       "      <th>6</th>\n",
       "      <td>The NASDAQ Stock Market</td>\n",
       "      <td>The &lt;PARTY&gt;</td>\n",
       "      <td>The [*****************]</td>\n",
       "      <td>The ****</td>\n",
       "      <td>The TURER INC</td>\n",
       "    </tr>\n",
       "  </tbody>\n",
       "</table>\n",
       "</div>"
      ],
      "text/plain": [
       "                                                                                              Sentence  \\\n",
       "0                             REPORT PURSUANT TO SECTION 13 OR 15(d) OF THE SECURITIES EXCHANGE ACT OF   \n",
       "1                    Commvault Systems, Inc.  \\n(Exact name of registrant as specified in its charter)   \n",
       "2                                                                           Signed By : Sherly Johnson   \n",
       "3  (Address of principal executive offices, including zip code) \\n(732) 870-4000\\n(telephone number...   \n",
       "4                                                            Name of each exchange on which registered   \n",
       "5                                                                                                 CVLT   \n",
       "6                                                                              The NASDAQ Stock Market   \n",
       "\n",
       "                                                                                                Masked  \\\n",
       "0                             REPORT PURSUANT TO SECTION 13 OR 15(d) OF THE SECURITIES EXCHANGE ACT OF   \n",
       "1                                    <PARTY>  \\n(Exact name of registrant as specified in its charter)   \n",
       "2                                                                           <PARTY> : <SIGNING_PERSON>   \n",
       "3  (Address of principal executive offices, including zip code) \\n<PHONE>\\n(telephone number, inclu...   \n",
       "4                                                            Name of each exchange on which registered   \n",
       "5                                                                                              <PARTY>   \n",
       "6                                                                                          The <PARTY>   \n",
       "\n",
       "                                                                                     Masked with Chars  \\\n",
       "0                             REPORT PURSUANT TO SECTION 13 OR 15(d) OF THE SECURITIES EXCHANGE ACT OF   \n",
       "1                    [*********************]  \\n(Exact name of registrant as specified in its charter)   \n",
       "2                                                                           [*******] : [************]   \n",
       "3  (Address of principal executive offices, including zip code) \\n[************]\\n(telephone number...   \n",
       "4                                                            Name of each exchange on which registered   \n",
       "5                                                                                                 [**]   \n",
       "6                                                                              The [*****************]   \n",
       "\n",
       "                                                                               Masked with Fixed Chars  \\\n",
       "0                             REPORT PURSUANT TO SECTION 13 OR 15(d) OF THE SECURITIES EXCHANGE ACT OF   \n",
       "1                                       ****  \\n(Exact name of registrant as specified in its charter)   \n",
       "2                                                                                          **** : ****   \n",
       "3  (Address of principal executive offices, including zip code) \\n****\\n(telephone number, includin...   \n",
       "4                                                            Name of each exchange on which registered   \n",
       "5                                                                                                 ****   \n",
       "6                                                                                             The ****   \n",
       "\n",
       "                                                                                            Obfuscated  \n",
       "0                             REPORT PURSUANT TO SECTION 13 OR 15(d) OF THE SECURITIES EXCHANGE ACT OF  \n",
       "1                         John Snow Labs Inc  \\n(Exact name of registrant as specified in its charter)  \n",
       "2                                                                             TURER INC : Dorothy Keen  \n",
       "3  (Address of principal executive offices, including zip code) \\n031460 3797\\n(telephone number, i...  \n",
       "4                                                            Name of each exchange on which registered  \n",
       "5                                                                                            TURER INC  \n",
       "6                                                                                        The TURER INC  "
      ]
     },
     "execution_count": 63,
     "metadata": {},
     "output_type": "execute_result"
    }
   ],
   "source": [
    "import pandas as pd\n",
    "\n",
    "pd.set_option(\"display.max_colwidth\", 100)\n",
    "\n",
    "df= pd.DataFrame(list(zip(deid_res[\"sentence\"], \n",
    "                          deid_res[\"deidentified\"],\n",
    "                          deid_res[\"masked_with_chars\"],\n",
    "                          deid_res[\"masked_fixed_length_chars\"], \n",
    "                          deid_res[\"obfuscated\"])),\n",
    "                 columns= [\"Sentence\", \"Masked\", \"Masked with Chars\", \"Masked with Fixed Chars\", \"Obfuscated\"])\n",
    "\n",
    "df"
   ]
  },
  {
   "cell_type": "code",
   "execution_count": null,
   "id": "04ae9811-0677-4b09-a340-30552d134a44",
   "metadata": {},
   "outputs": [],
   "source": []
  }
 ],
 "metadata": {
  "accelerator": "TPU",
  "colab": {
   "collapsed_sections": [],
   "machine_shape": "hm",
   "provenance": [],
   "toc_visible": true
  },
  "gpuClass": "standard",
  "kernelspec": {
   "display_name": "jsl4.2.3",
   "language": "python",
   "name": "jsl4.2.3"
  },
  "language_info": {
   "codemirror_mode": {
    "name": "ipython",
    "version": 3
   },
   "file_extension": ".py",
   "mimetype": "text/x-python",
   "name": "python",
   "nbconvert_exporter": "python",
   "pygments_lexer": "ipython3",
   "version": "3.8.10"
  },
  "vscode": {
   "interpreter": {
    "hash": "ca1c4b8877e01dec1d65bc94ac0771fb7b4e7d433b24c0ced0afdc05f796f65d"
   }
  }
 },
 "nbformat": 4,
 "nbformat_minor": 5
}

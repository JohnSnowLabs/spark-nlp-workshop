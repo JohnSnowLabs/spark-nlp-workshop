{
 "cells": [
  {
   "cell_type": "markdown",
   "id": "04afee44-529b-4c72-b7a7-f72f5cefa5ce",
   "metadata": {
    "id": "04afee44-529b-4c72-b7a7-f72f5cefa5ce"
   },
   "source": [
    "![JohnSnowLabs](https://nlp.johnsnowlabs.com/assets/images/logo.png)"
   ]
  },
  {
   "cell_type": "markdown",
   "id": "c960bb95",
   "metadata": {
    "id": "c960bb95"
   },
   "source": [
    "# Financial Entity Resolution"
   ]
  },
  {
   "cell_type": "markdown",
   "id": "e7f14ee3-9419-4cb4-ad66-c37fc800720b",
   "metadata": {
    "id": "okhT7AcXxben"
   },
   "source": [
    "## Setup"
   ]
  },
  {
   "cell_type": "code",
   "execution_count": null,
   "id": "a8515a64-1b22-46b2-9fc3-73dd15ba6d73",
   "metadata": {
    "colab": {
     "base_uri": "https://localhost:8080/"
    },
    "executionInfo": {
     "elapsed": 115199,
     "status": "ok",
     "timestamp": 1664816113389,
     "user": {
      "displayName": "Damla",
      "userId": "03285166568766987047"
     },
     "user_tz": -120
    },
    "id": "dmcB5zVBHZO8",
    "outputId": "cd366e47-7f4d-457a-dfe5-3ed5174d4a0c"
   },
   "outputs": [],
   "source": [
    "from johnsnowlabs import *\n",
    "\n",
    "import json\n",
    "import os\n",
    "\n",
    "import numpy as np\n",
    "import pandas as pd\n",
    "\n",
    "spark = start_spark()"
   ]
  },
  {
   "cell_type": "markdown",
   "id": "56490c04-7bf9-47d4-8e09-8a87a4848d38",
   "metadata": {
    "id": "56490c04-7bf9-47d4-8e09-8a87a4848d38"
   },
   "source": [
    "# Sentence Entity Resolver Models"
   ]
  },
  {
   "cell_type": "markdown",
   "id": "ba2c133c-9c4d-4531-a3ae-b12a41d4d3aa",
   "metadata": {
    "id": "ba2c133c-9c4d-4531-a3ae-b12a41d4d3aa"
   },
   "source": [
    "An NLP use case in financial or legal applications is identifying financial entities' presence in a given text. One of those entities could be `Company Name`. We can carry out NER to extract different chunks of information, but in real financial and legal use cases, the company name is usually not useful as it is mentioned in the text. Sometimes we need the _official_ name of the company (instead of `Amazon`, `Amazon.com INC`, as registered in Edgar). We have pre-trained sentence entity resolver models for these purposes shown below with the examples."
   ]
  },
  {
   "cell_type": "markdown",
   "id": "e298df66-71c1-4160-b281-53caafae1702",
   "metadata": {
    "id": "e298df66-71c1-4160-b281-53caafae1702"
   },
   "source": [
    "Other than providing the code in the \"result\" field it provides more metadata about the matching process:\n",
    "\n",
    "- target_text -> Text to resolve\n",
    "- resolved_text -> Best match text\n",
    "- confidence -> Relative confidence for the top match (distance to probability)\n",
    "- confidence_ratio -> Relative confidence for the top match. TopMatchConfidence / SecondMatchConfidence\n",
    "- alternative_codes -> List of other plausible codes (in the KNN neighborhood)\n",
    "- all_k_resolutions -> All codes descriptions\n",
    "- all_k_results -> All resolved codes for metrics calculation purposes\n",
    "- sentence -> SentenceId"
   ]
  },
  {
   "cell_type": "markdown",
   "id": "f900954c-e89b-4cb7-be24-6ea499db710a",
   "metadata": {
    "id": "f900954c-e89b-4cb7-be24-6ea499db710a"
   },
   "source": [
    "### Helper Function\n",
    "We will use following Generic Function For Getting the Codes and Relation Pairs"
   ]
  },
  {
   "cell_type": "code",
   "execution_count": 2,
   "id": "7bb59495-6397-4aed-99fa-691678a6ff6e",
   "metadata": {
    "id": "7bb59495-6397-4aed-99fa-691678a6ff6e"
   },
   "outputs": [],
   "source": [
    "# returns LP resolution results\n",
    "\n",
    "import pandas as pd\n",
    "pd.set_option('display.max_colwidth', 0)\n",
    "\n",
    "\n",
    "def get_codes (lp, text, vocab='company_name', hcc=False):\n",
    "    \n",
    "    full_light_result = lp.fullAnnotate(text)\n",
    "\n",
    "    chunks = []\n",
    "    codes = []\n",
    "    begin = []\n",
    "    end = []\n",
    "    resolutions=[]\n",
    "    all_distances =[]\n",
    "    all_codes=[]\n",
    "    all_cosines = []\n",
    "    all_k_aux_labels=[]\n",
    "\n",
    "    for chunk, code in zip(full_light_result[0]['ner_chunk'], full_light_result[0][vocab]):\n",
    "            \n",
    "        begin.append(chunk.begin)\n",
    "        end.append(chunk.end)\n",
    "        chunks.append(chunk.result)\n",
    "        codes.append(code.result) \n",
    "        all_codes.append(code.metadata['all_k_results'].split(':::'))\n",
    "        resolutions.append(code.metadata['all_k_resolutions'].split(':::'))\n",
    "        all_distances.append(code.metadata['all_k_distances'].split(':::'))\n",
    "        all_cosines.append(code.metadata['all_k_cosine_distances'].split(':::'))\n",
    "        if hcc:\n",
    "            try:\n",
    "                all_k_aux_labels.append(code.metadata['all_k_aux_labels'].split(':::'))\n",
    "            except:\n",
    "                all_k_aux_labels.append([])\n",
    "        else:\n",
    "            all_k_aux_labels.append([])\n",
    "\n",
    "    df = pd.DataFrame({'chunks':chunks, 'begin': begin, 'end':end, 'code':codes, 'all_codes':all_codes, \n",
    "                       'resolutions':resolutions, 'all_k_aux_labels':all_k_aux_labels,'all_distances':all_cosines})\n",
    "    \n",
    "    return df"
   ]
  },
  {
   "cell_type": "markdown",
   "id": "3bce7cca-9202-4a7e-8a37-0054432ec090",
   "metadata": {
    "id": "3bce7cca-9202-4a7e-8a37-0054432ec090"
   },
   "source": [
    "## Sentence Entity Resolver (EDGAR)\n",
    "[Edgar's Public Database](https://www.sec.gov/edgar/searchedgar/companysearch)"
   ]
  },
  {
   "cell_type": "markdown",
   "id": "51898811-5d3e-47bd-b962-c6d6f90fcfd9",
   "metadata": {
    "id": "51898811-5d3e-47bd-b962-c6d6f90fcfd9"
   },
   "source": [
    "\n",
    "- EDGAR, the Electronic Data Gathering, Analysis, and Retrieval system, is the primary system for companies and others submitting documents under the Securities Act of 1933, the Securities Exchange Act of 1934, the Trust Indenture Act of 1939, and the Investment Company Act of 1940. \n",
    "\n",
    "- Access to EDGAR’s public database is free—allowing you to research, for example, a public company’s financial information and operations by reviewing the filings the company makes with the SEC.(U.S. Securities and Exchange Commission)"
   ]
  },
  {
   "cell_type": "markdown",
   "id": "12a72fbf-52b9-4627-83c0-46d1a5dbf21c",
   "metadata": {
    "id": "12a72fbf-52b9-4627-83c0-46d1a5dbf21c"
   },
   "source": [
    "Here we will normalize company names and find IRS code of each company with the Edgar's Database"
   ]
  },
  {
   "cell_type": "markdown",
   "id": "5510c033-89f9-4388-82de-cd4b2eecba2f",
   "metadata": {
    "id": "5510c033-89f9-4388-82de-cd4b2eecba2f",
    "tags": []
   },
   "source": [
    "### Company Name Normalization"
   ]
  },
  {
   "cell_type": "markdown",
   "id": "c557d108-7b3d-41f3-96e3-242a77201d69",
   "metadata": {
    "id": "c557d108-7b3d-41f3-96e3-242a77201d69"
   },
   "source": [
    "`Company Name Normalization` is the process of obtaining the name of the company used by data providers, usually the \"official\" name of the company.\n",
    "\n",
    "Sometimes, some data providers may have different versions of the name with different punctuation. For example, for Meta:\n",
    "- Meta Platforms, Inc.\n",
    "- Meta Platforms Inc.\n",
    "- Meta Platforms, Inc\n",
    "- etc\n",
    "\n",
    "So, it's mandatory we do `Company Normalization` taking into account the database / datasource provider we want to extract data from. The data providers we have are:\n",
    "- SEC Edgar\n",
    "- Crunchbase until 2015\n",
    "- Wikidata (in progress)"
   ]
  },
  {
   "cell_type": "code",
   "execution_count": null,
   "id": "d4c159ff-e5d5-4ba7-b040-4ceca5275409",
   "metadata": {
    "colab": {
     "base_uri": "https://localhost:8080/"
    },
    "executionInfo": {
     "elapsed": 163623,
     "status": "ok",
     "timestamp": 1664820522211,
     "user": {
      "displayName": "Damla",
      "userId": "03285166568766987047"
     },
     "user_tz": -120
    },
    "id": "d4c159ff-e5d5-4ba7-b040-4ceca5275409",
    "outputId": "e6e10b29-1ab0-4d57-adff-ab415ec19e75"
   },
   "outputs": [],
   "source": [
    "document_assembler = nlp.DocumentAssembler()\\\n",
    "      .setInputCol(\"text\")\\\n",
    "      .setOutputCol(\"ner_chunk\")\n",
    "\n",
    "embeddings = nlp.UniversalSentenceEncoder.pretrained(\"tfhub_use\", \"en\") \\\n",
    "      .setInputCols(\"ner_chunk\") \\\n",
    "      .setOutputCol(\"sentence_embeddings\")\n",
    "    \n",
    "resolver = finance.SentenceEntityResolverModel.pretrained(\"finel_edgar_company_name\", \"en\", \"finance/models\")\\\n",
    "      .setInputCols([\"sentence_embeddings\"]) \\\n",
    "      .setOutputCol(\"normalized_name\")\\\n",
    "      .setDistanceFunction(\"EUCLIDEAN\")\n",
    "\n",
    "\n",
    "pipelineModel = nlp.PipelineModel(stages = [\n",
    "          document_assembler,\n",
    "          embeddings,\n",
    "          resolver])\n",
    "\n",
    "lp = nlp.LightPipeline(pipelineModel)"
   ]
  },
  {
   "cell_type": "code",
   "execution_count": 5,
   "id": "f104da66-48fb-4166-a79c-d9d218b1e3fa",
   "metadata": {
    "colab": {
     "base_uri": "https://localhost:8080/",
     "height": 205
    },
    "executionInfo": {
     "elapsed": 1242,
     "status": "ok",
     "timestamp": 1664820523443,
     "user": {
      "displayName": "Damla",
      "userId": "03285166568766987047"
     },
     "user_tz": -120
    },
    "id": "f104da66-48fb-4166-a79c-d9d218b1e3fa",
    "outputId": "03c3d035-750f-46ce-e8fe-1344f12c77b0"
   },
   "outputs": [
    {
     "name": "stdout",
     "output_type": "stream",
     "text": [
      "CPU times: user 2 µs, sys: 1e+03 ns, total: 3 µs\n",
      "Wall time: 4.29 µs\n",
      "1g6ax7jxec82paqzk7ivz9fx7\n",
      "codes retrieved: ArrayBuffer(1g6ax7jxec82paqzk7ivz9fx7), product code(from property): 1g6ax7jxec82paqzk7ivz9fx7\n",
      "1g6ax7jxec82paqzk7ivz9fx7\n",
      "codes retrieved: ArrayBuffer(1g6ax7jxec82paqzk7ivz9fx7), product code(from property): 1g6ax7jxec82paqzk7ivz9fx7\n"
     ]
    },
    {
     "data": {
      "text/html": [
       "<div>\n",
       "<style scoped>\n",
       "    .dataframe tbody tr th:only-of-type {\n",
       "        vertical-align: middle;\n",
       "    }\n",
       "\n",
       "    .dataframe tbody tr th {\n",
       "        vertical-align: top;\n",
       "    }\n",
       "\n",
       "    .dataframe thead th {\n",
       "        text-align: right;\n",
       "    }\n",
       "</style>\n",
       "<table border=\"1\" class=\"dataframe\">\n",
       "  <thead>\n",
       "    <tr style=\"text-align: right;\">\n",
       "      <th></th>\n",
       "      <th>chunks</th>\n",
       "      <th>begin</th>\n",
       "      <th>end</th>\n",
       "      <th>code</th>\n",
       "      <th>all_codes</th>\n",
       "      <th>resolutions</th>\n",
       "      <th>all_k_aux_labels</th>\n",
       "      <th>all_distances</th>\n",
       "    </tr>\n",
       "  </thead>\n",
       "  <tbody>\n",
       "    <tr>\n",
       "      <th>0</th>\n",
       "      <td>Stock Dividend Fund INC</td>\n",
       "      <td>0</td>\n",
       "      <td>23</td>\n",
       "      <td>Stock Dividend Fund Inc</td>\n",
       "      <td>[Stock Dividend Fund Inc, FMI COMMON STOCK FUND INC, GENERAL MONEY MARKET FUND INC, NATIONAL INVESTORS CASH MANAGEMENT FUND INC, DREYFUS STOCK INDEX FUND INC, Lazard World Dividend Income Fund Inc, DIVIDEND Fund Inc by Gabelli]</td>\n",
       "      <td>[Stock Dividend Fund Inc, FMI COMMON STOCK FUND INC, GENERAL MONEY MARKET FUND INC, NATIONAL INVESTORS CASH MANAGEMENT FUND INC, DREYFUS STOCK INDEX FUND INC, Lazard World Dividend Income Fund Inc, DIVIDEND Fund Inc by Gabelli]</td>\n",
       "      <td>[]</td>\n",
       "      <td>[0.0000, 0.0805, 0.0990, 0.1126, 0.1134, 0.1138, 0.1161]</td>\n",
       "    </tr>\n",
       "  </tbody>\n",
       "</table>\n",
       "</div>"
      ],
      "text/plain": [
       "                     chunks  begin  end                     code  \\\n",
       "0  Stock Dividend Fund INC   0      23   Stock Dividend Fund Inc   \n",
       "\n",
       "                                                                                                                                                                                                                             all_codes  \\\n",
       "0  [Stock Dividend Fund Inc, FMI COMMON STOCK FUND INC, GENERAL MONEY MARKET FUND INC, NATIONAL INVESTORS CASH MANAGEMENT FUND INC, DREYFUS STOCK INDEX FUND INC, Lazard World Dividend Income Fund Inc, DIVIDEND Fund Inc by Gabelli]   \n",
       "\n",
       "                                                                                                                                                                                                                           resolutions  \\\n",
       "0  [Stock Dividend Fund Inc, FMI COMMON STOCK FUND INC, GENERAL MONEY MARKET FUND INC, NATIONAL INVESTORS CASH MANAGEMENT FUND INC, DREYFUS STOCK INDEX FUND INC, Lazard World Dividend Income Fund Inc, DIVIDEND Fund Inc by Gabelli]   \n",
       "\n",
       "  all_k_aux_labels                                             all_distances  \n",
       "0  []               [0.0000, 0.0805, 0.0990, 0.1126, 0.1134, 0.1138, 0.1161]  "
      ]
     },
     "execution_count": 5,
     "metadata": {},
     "output_type": "execute_result"
    }
   ],
   "source": [
    "text = 'Stock Dividend Fund INC '\n",
    "\n",
    "%time \n",
    "get_codes (lp, text, vocab='normalized_name')"
   ]
  },
  {
   "cell_type": "code",
   "execution_count": 6,
   "id": "ba520bfb-dad2-41f5-8e1b-51b40a02e708",
   "metadata": {
    "colab": {
     "base_uri": "https://localhost:8080/",
     "height": 370
    },
    "executionInfo": {
     "elapsed": 1124,
     "status": "ok",
     "timestamp": 1664820524564,
     "user": {
      "displayName": "Damla",
      "userId": "03285166568766987047"
     },
     "user_tz": -120
    },
    "id": "ba520bfb-dad2-41f5-8e1b-51b40a02e708",
    "outputId": "a490db5e-03b8-4c73-9a28-0204d60b4c97"
   },
   "outputs": [
    {
     "name": "stdout",
     "output_type": "stream",
     "text": [
      "CPU times: user 2 µs, sys: 1e+03 ns, total: 3 µs\n",
      "Wall time: 4.77 µs\n",
      "1g6ax7jxec82paqzk7ivz9fx7\n",
      "codes retrieved: ArrayBuffer(1g6ax7jxec82paqzk7ivz9fx7), product code(from property): 1g6ax7jxec82paqzk7ivz9fx7\n",
      "1g6ax7jxec82paqzk7ivz9fx7\n",
      "codes retrieved: ArrayBuffer(1g6ax7jxec82paqzk7ivz9fx7), product code(from property): 1g6ax7jxec82paqzk7ivz9fx7\n"
     ]
    },
    {
     "data": {
      "text/html": [
       "<div>\n",
       "<style scoped>\n",
       "    .dataframe tbody tr th:only-of-type {\n",
       "        vertical-align: middle;\n",
       "    }\n",
       "\n",
       "    .dataframe tbody tr th {\n",
       "        vertical-align: top;\n",
       "    }\n",
       "\n",
       "    .dataframe thead th {\n",
       "        text-align: right;\n",
       "    }\n",
       "</style>\n",
       "<table border=\"1\" class=\"dataframe\">\n",
       "  <thead>\n",
       "    <tr style=\"text-align: right;\">\n",
       "      <th></th>\n",
       "      <th>chunks</th>\n",
       "      <th>begin</th>\n",
       "      <th>end</th>\n",
       "      <th>code</th>\n",
       "      <th>all_codes</th>\n",
       "      <th>resolutions</th>\n",
       "      <th>all_k_aux_labels</th>\n",
       "      <th>all_distances</th>\n",
       "    </tr>\n",
       "  </thead>\n",
       "  <tbody>\n",
       "    <tr>\n",
       "      <th>0</th>\n",
       "      <td>MMEX Resources Corporation</td>\n",
       "      <td>0</td>\n",
       "      <td>25</td>\n",
       "      <td>MMEX Resources Corp</td>\n",
       "      <td>[MMEX Resources Corp, ANTERO RESOURCES Corp, Medgold Resources Corp, CNX Resources Corp, Evrim Resources Corp, Centaurus Resources Corp, Kopr Resources Corp, Arcis Resources Corp, Greenpro Resources Corp, Rockdale Resources Corp, Oxbow Resources Corp, Kaeland Resources Corp, Oneida Resources Corp, Cheval Resources Corp, Nogales Resources Corp, Timberline Resources Corp, Richland Resources Corp, Element Resources Corp, Antero Resources Finance Corp, Resource Capital Corp, Kinetic Resources Corp, Biopower Operations Corp, International Frontier Resources Corp, Targa Resources Corp, Petrus Resources Corp, TRIWEST MANAGMEENT RESOURCES CORP, MALLON RESOURCES CORP]</td>\n",
       "      <td>[MMEX Resources Corp, ANTERO RESOURCES Corp, Medgold Resources Corp, CNX Resources Corp, Evrim Resources Corp, Centaurus Resources Corp, Kopr Resources Corp, Arcis Resources Corp, Greenpro Resources Corp, Rockdale Resources Corp, Oxbow Resources Corp, Kaeland Resources Corp, Oneida Resources Corp, Cheval Resources Corp, Nogales Resources Corp, Timberline Resources Corp, Richland Resources Corp, Element Resources Corp, Antero Resources Finance Corp, Resource Capital Corp, Kinetic Resources Corp, Biopower Operations Corp, International Frontier Resources Corp, Targa Resources Corp, Petrus Resources Corp, TRIWEST MANAGMEENT RESOURCES CORP, MALLON RESOURCES CORP]</td>\n",
       "      <td>[]</td>\n",
       "      <td>[0.0000, 0.0580, 0.0626, 0.0674, 0.0679, 0.0699, 0.0705, 0.0787, 0.0886, 0.0971, 0.1048, 0.1099, 0.1111, 0.1113, 0.1133, 0.1241, 0.1301, 0.1333, 0.1375, 0.1384, 0.1467, 0.1469, 0.1469, 0.1496, 0.1521, 0.1546, 0.1563]</td>\n",
       "    </tr>\n",
       "  </tbody>\n",
       "</table>\n",
       "</div>"
      ],
      "text/plain": [
       "                       chunks  begin  end                 code  \\\n",
       "0  MMEX Resources Corporation  0      25   MMEX Resources Corp   \n",
       "\n",
       "                                                                                                                                                                                                                                                                                                                                                                                                                                                                                                                                                                                                                                                                                     all_codes  \\\n",
       "0  [MMEX Resources Corp, ANTERO RESOURCES Corp, Medgold Resources Corp, CNX Resources Corp, Evrim Resources Corp, Centaurus Resources Corp, Kopr Resources Corp, Arcis Resources Corp, Greenpro Resources Corp, Rockdale Resources Corp, Oxbow Resources Corp, Kaeland Resources Corp, Oneida Resources Corp, Cheval Resources Corp, Nogales Resources Corp, Timberline Resources Corp, Richland Resources Corp, Element Resources Corp, Antero Resources Finance Corp, Resource Capital Corp, Kinetic Resources Corp, Biopower Operations Corp, International Frontier Resources Corp, Targa Resources Corp, Petrus Resources Corp, TRIWEST MANAGMEENT RESOURCES CORP, MALLON RESOURCES CORP]   \n",
       "\n",
       "                                                                                                                                                                                                                                                                                                                                                                                                                                                                                                                                                                                                                                                                                   resolutions  \\\n",
       "0  [MMEX Resources Corp, ANTERO RESOURCES Corp, Medgold Resources Corp, CNX Resources Corp, Evrim Resources Corp, Centaurus Resources Corp, Kopr Resources Corp, Arcis Resources Corp, Greenpro Resources Corp, Rockdale Resources Corp, Oxbow Resources Corp, Kaeland Resources Corp, Oneida Resources Corp, Cheval Resources Corp, Nogales Resources Corp, Timberline Resources Corp, Richland Resources Corp, Element Resources Corp, Antero Resources Finance Corp, Resource Capital Corp, Kinetic Resources Corp, Biopower Operations Corp, International Frontier Resources Corp, Targa Resources Corp, Petrus Resources Corp, TRIWEST MANAGMEENT RESOURCES CORP, MALLON RESOURCES CORP]   \n",
       "\n",
       "  all_k_aux_labels  \\\n",
       "0  []                \n",
       "\n",
       "                                                                                                                                                                                                              all_distances  \n",
       "0  [0.0000, 0.0580, 0.0626, 0.0674, 0.0679, 0.0699, 0.0705, 0.0787, 0.0886, 0.0971, 0.1048, 0.1099, 0.1111, 0.1113, 0.1133, 0.1241, 0.1301, 0.1333, 0.1375, 0.1384, 0.1467, 0.1469, 0.1469, 0.1496, 0.1521, 0.1546, 0.1563]  "
      ]
     },
     "execution_count": 6,
     "metadata": {},
     "output_type": "execute_result"
    }
   ],
   "source": [
    "text = 'MMEX Resources Corporation'\n",
    "\n",
    "%time \n",
    "get_codes (lp, text, vocab='normalized_name')"
   ]
  },
  {
   "cell_type": "code",
   "execution_count": 7,
   "id": "666b1035-42d7-405f-8ef6-f24c13838cd8",
   "metadata": {
    "colab": {
     "base_uri": "https://localhost:8080/",
     "height": 189
    },
    "executionInfo": {
     "elapsed": 624,
     "status": "ok",
     "timestamp": 1664820525183,
     "user": {
      "displayName": "Damla",
      "userId": "03285166568766987047"
     },
     "user_tz": -120
    },
    "id": "666b1035-42d7-405f-8ef6-f24c13838cd8",
    "outputId": "e83f20c2-9f7c-4088-e324-637f9804ecf5"
   },
   "outputs": [
    {
     "name": "stdout",
     "output_type": "stream",
     "text": [
      "CPU times: user 2 µs, sys: 0 ns, total: 2 µs\n",
      "Wall time: 4.53 µs\n",
      "1g6ax7jxec82paqzk7ivz9fx7\n",
      "codes retrieved: ArrayBuffer(1g6ax7jxec82paqzk7ivz9fx7), product code(from property): 1g6ax7jxec82paqzk7ivz9fx7\n",
      "1g6ax7jxec82paqzk7ivz9fx7\n",
      "codes retrieved: ArrayBuffer(1g6ax7jxec82paqzk7ivz9fx7), product code(from property): 1g6ax7jxec82paqzk7ivz9fx7\n"
     ]
    },
    {
     "data": {
      "text/html": [
       "<div>\n",
       "<style scoped>\n",
       "    .dataframe tbody tr th:only-of-type {\n",
       "        vertical-align: middle;\n",
       "    }\n",
       "\n",
       "    .dataframe tbody tr th {\n",
       "        vertical-align: top;\n",
       "    }\n",
       "\n",
       "    .dataframe thead th {\n",
       "        text-align: right;\n",
       "    }\n",
       "</style>\n",
       "<table border=\"1\" class=\"dataframe\">\n",
       "  <thead>\n",
       "    <tr style=\"text-align: right;\">\n",
       "      <th></th>\n",
       "      <th>chunks</th>\n",
       "      <th>begin</th>\n",
       "      <th>end</th>\n",
       "      <th>code</th>\n",
       "      <th>all_codes</th>\n",
       "      <th>resolutions</th>\n",
       "      <th>all_k_aux_labels</th>\n",
       "      <th>all_distances</th>\n",
       "    </tr>\n",
       "  </thead>\n",
       "  <tbody>\n",
       "    <tr>\n",
       "      <th>0</th>\n",
       "      <td>BAKER HUGHES</td>\n",
       "      <td>0</td>\n",
       "      <td>11</td>\n",
       "      <td>BAKER HUGHES INC</td>\n",
       "      <td>[BAKER HUGHES INC, BAKER DARRYL S, Payne Fletcher, BAKER FELIX, Baker Hughes Co, Baker Malcolm, BAKER HAROLD, Baker Douglas D]</td>\n",
       "      <td>[BAKER HUGHES INC, BAKER DARRYL S, Payne Fletcher, BAKER FELIX, Baker Hughes Co, Baker Malcolm, BAKER HAROLD, Baker Douglas D]</td>\n",
       "      <td>[]</td>\n",
       "      <td>[0.1144, 0.1657, 0.1782, 0.1806, 0.1864, 0.1876, 0.1919, 0.1985]</td>\n",
       "    </tr>\n",
       "  </tbody>\n",
       "</table>\n",
       "</div>"
      ],
      "text/plain": [
       "         chunks  begin  end              code  \\\n",
       "0  BAKER HUGHES  0      11   BAKER HUGHES INC   \n",
       "\n",
       "                                                                                                                        all_codes  \\\n",
       "0  [BAKER HUGHES INC, BAKER DARRYL S, Payne Fletcher, BAKER FELIX, Baker Hughes Co, Baker Malcolm, BAKER HAROLD, Baker Douglas D]   \n",
       "\n",
       "                                                                                                                      resolutions  \\\n",
       "0  [BAKER HUGHES INC, BAKER DARRYL S, Payne Fletcher, BAKER FELIX, Baker Hughes Co, Baker Malcolm, BAKER HAROLD, Baker Douglas D]   \n",
       "\n",
       "  all_k_aux_labels  \\\n",
       "0  []                \n",
       "\n",
       "                                                      all_distances  \n",
       "0  [0.1144, 0.1657, 0.1782, 0.1806, 0.1864, 0.1876, 0.1919, 0.1985]  "
      ]
     },
     "execution_count": 7,
     "metadata": {},
     "output_type": "execute_result"
    }
   ],
   "source": [
    "text = 'BAKER HUGHES'\n",
    "\n",
    "%time \n",
    "get_codes (lp, text, vocab='normalized_name')"
   ]
  },
  {
   "cell_type": "markdown",
   "id": "f872a951-5a66-4a2e-ae48-639d0c9e88e8",
   "metadata": {
    "id": "f872a951-5a66-4a2e-ae48-639d0c9e88e8"
   },
   "source": [
    "### Find Company IRS Number"
   ]
  },
  {
   "cell_type": "markdown",
   "id": "4db6dbd3-ee32-48e1-a83d-fb2583325a68",
   "metadata": {
    "id": "4db6dbd3-ee32-48e1-a83d-fb2583325a68"
   },
   "source": [
    "An employer identification number (EIN) is a nine-digit number assigned by the `IRS`. It's used to identify the tax accounts of employers and certain others who have no employees. The IRS uses the number to identify taxpayers who are required to file various business tax returns. EINs are used by employers, sole proprietors, corporations, partnerships, non-profit associations, trusts, estates of decedents, government agencies, certain individuals, and other business entities.\n",
    "\n",
    "\n"
   ]
  },
  {
   "cell_type": "code",
   "execution_count": null,
   "id": "5c18cf27-6d9b-46f1-bf06-dafc7336d6dc",
   "metadata": {
    "colab": {
     "base_uri": "https://localhost:8080/"
    },
    "executionInfo": {
     "elapsed": 55195,
     "status": "ok",
     "timestamp": 1664820580376,
     "user": {
      "displayName": "Damla",
      "userId": "03285166568766987047"
     },
     "user_tz": -120
    },
    "id": "5c18cf27-6d9b-46f1-bf06-dafc7336d6dc",
    "outputId": "f0eb976b-b7e0-4a02-8598-01cdcd317c70"
   },
   "outputs": [],
   "source": [
    "documentAssembler = nlp.DocumentAssembler()\\\n",
    "      .setInputCol(\"text\")\\\n",
    "      .setOutputCol(\"ner_chunk\")\n",
    "\n",
    "embeddings = nlp.UniversalSentenceEncoder.pretrained(\"tfhub_use\", \"en\") \\\n",
    "      .setInputCols(\"ner_chunk\") \\\n",
    "      .setOutputCol(\"sentence_embeddings\")\n",
    "    \n",
    "resolver = finance.SentenceEntityResolverModel.pretrained(\"finel_edgar_irs\", \"en\", \"finance/models\") \\\n",
    "      .setInputCols([\"sentence_embeddings\"]) \\\n",
    "      .setOutputCol(\"irs_code\")\\\n",
    "      .setDistanceFunction(\"EUCLIDEAN\")\n",
    "\n",
    "pipelineModel = nlp.PipelineModel(stages = [\n",
    "          documentAssembler,\n",
    "          embeddings,\n",
    "          resolver])\n",
    "\n",
    "lp = nlp.LightPipeline(pipelineModel)"
   ]
  },
  {
   "cell_type": "code",
   "execution_count": 9,
   "id": "05e4013d-d4e9-4609-9f1e-d81f468280f9",
   "metadata": {
    "colab": {
     "base_uri": "https://localhost:8080/",
     "height": 172
    },
    "executionInfo": {
     "elapsed": 981,
     "status": "ok",
     "timestamp": 1664820581350,
     "user": {
      "displayName": "Damla",
      "userId": "03285166568766987047"
     },
     "user_tz": -120
    },
    "id": "05e4013d-d4e9-4609-9f1e-d81f468280f9",
    "outputId": "056db01c-7540-44fd-c6c7-7efba84f6527"
   },
   "outputs": [
    {
     "name": "stdout",
     "output_type": "stream",
     "text": [
      "CPU times: user 3 µs, sys: 1e+03 ns, total: 4 µs\n",
      "Wall time: 7.15 µs\n",
      "1g6ax7jxec82paqzk7ivz9fx7\n",
      "codes retrieved: ArrayBuffer(1g6ax7jxec82paqzk7ivz9fx7), product code(from property): 1g6ax7jxec82paqzk7ivz9fx7\n",
      "1g6ax7jxec82paqzk7ivz9fx7\n",
      "codes retrieved: ArrayBuffer(1g6ax7jxec82paqzk7ivz9fx7), product code(from property): 1g6ax7jxec82paqzk7ivz9fx7\n"
     ]
    },
    {
     "data": {
      "text/html": [
       "<div>\n",
       "<style scoped>\n",
       "    .dataframe tbody tr th:only-of-type {\n",
       "        vertical-align: middle;\n",
       "    }\n",
       "\n",
       "    .dataframe tbody tr th {\n",
       "        vertical-align: top;\n",
       "    }\n",
       "\n",
       "    .dataframe thead th {\n",
       "        text-align: right;\n",
       "    }\n",
       "</style>\n",
       "<table border=\"1\" class=\"dataframe\">\n",
       "  <thead>\n",
       "    <tr style=\"text-align: right;\">\n",
       "      <th></th>\n",
       "      <th>chunks</th>\n",
       "      <th>begin</th>\n",
       "      <th>end</th>\n",
       "      <th>code</th>\n",
       "      <th>all_codes</th>\n",
       "      <th>resolutions</th>\n",
       "      <th>all_k_aux_labels</th>\n",
       "      <th>all_distances</th>\n",
       "    </tr>\n",
       "  </thead>\n",
       "  <tbody>\n",
       "    <tr>\n",
       "      <th>0</th>\n",
       "      <td>SPO Global INC.</td>\n",
       "      <td>0</td>\n",
       "      <td>14</td>\n",
       "      <td>251411971</td>\n",
       "      <td>[251411971, 262801338, 471208256, 260338889, 0, 870645794, 953797580]</td>\n",
       "      <td>[SPO Global Inc, JPX Global Inc, EliteSoft Global Inc, GLOBAL NUTECH INC, PRGX GLOBAL INC,  Global Inc, MIKOJO Inc]</td>\n",
       "      <td>[]</td>\n",
       "      <td>[0.0000, 0.2017, 0.2046, 0.2047, 0.2126, 0.2142, 0.2150]</td>\n",
       "    </tr>\n",
       "  </tbody>\n",
       "</table>\n",
       "</div>"
      ],
      "text/plain": [
       "            chunks  begin  end       code  \\\n",
       "0  SPO Global INC.  0      14   251411971   \n",
       "\n",
       "                                                               all_codes  \\\n",
       "0  [251411971, 262801338, 471208256, 260338889, 0, 870645794, 953797580]   \n",
       "\n",
       "                                                                                                           resolutions  \\\n",
       "0  [SPO Global Inc, JPX Global Inc, EliteSoft Global Inc, GLOBAL NUTECH INC, PRGX GLOBAL INC,  Global Inc, MIKOJO Inc]   \n",
       "\n",
       "  all_k_aux_labels                                             all_distances  \n",
       "0  []               [0.0000, 0.2017, 0.2046, 0.2047, 0.2126, 0.2142, 0.2150]  "
      ]
     },
     "execution_count": 9,
     "metadata": {},
     "output_type": "execute_result"
    }
   ],
   "source": [
    "text = 'SPO Global INC.'\n",
    "\n",
    "%time \n",
    "get_codes (lp, text, vocab='irs_code')"
   ]
  },
  {
   "cell_type": "code",
   "execution_count": 10,
   "id": "8a834fe4-187b-401c-ae71-f934a5665743",
   "metadata": {
    "colab": {
     "base_uri": "https://localhost:8080/",
     "height": 205
    },
    "executionInfo": {
     "elapsed": 578,
     "status": "ok",
     "timestamp": 1664820581920,
     "user": {
      "displayName": "Damla",
      "userId": "03285166568766987047"
     },
     "user_tz": -120
    },
    "id": "8a834fe4-187b-401c-ae71-f934a5665743",
    "outputId": "51ca7f6f-8a9f-46a9-cd36-c88acc276f4c"
   },
   "outputs": [
    {
     "name": "stdout",
     "output_type": "stream",
     "text": [
      "CPU times: user 4 µs, sys: 0 ns, total: 4 µs\n",
      "Wall time: 6.44 µs\n",
      "1g6ax7jxec82paqzk7ivz9fx7\n",
      "codes retrieved: ArrayBuffer(1g6ax7jxec82paqzk7ivz9fx7), product code(from property): 1g6ax7jxec82paqzk7ivz9fx7\n",
      "1g6ax7jxec82paqzk7ivz9fx7\n",
      "codes retrieved: ArrayBuffer(1g6ax7jxec82paqzk7ivz9fx7), product code(from property): 1g6ax7jxec82paqzk7ivz9fx7\n"
     ]
    },
    {
     "data": {
      "text/html": [
       "<div>\n",
       "<style scoped>\n",
       "    .dataframe tbody tr th:only-of-type {\n",
       "        vertical-align: middle;\n",
       "    }\n",
       "\n",
       "    .dataframe tbody tr th {\n",
       "        vertical-align: top;\n",
       "    }\n",
       "\n",
       "    .dataframe thead th {\n",
       "        text-align: right;\n",
       "    }\n",
       "</style>\n",
       "<table border=\"1\" class=\"dataframe\">\n",
       "  <thead>\n",
       "    <tr style=\"text-align: right;\">\n",
       "      <th></th>\n",
       "      <th>chunks</th>\n",
       "      <th>begin</th>\n",
       "      <th>end</th>\n",
       "      <th>code</th>\n",
       "      <th>all_codes</th>\n",
       "      <th>resolutions</th>\n",
       "      <th>all_k_aux_labels</th>\n",
       "      <th>all_distances</th>\n",
       "    </tr>\n",
       "  </thead>\n",
       "  <tbody>\n",
       "    <tr>\n",
       "      <th>0</th>\n",
       "      <td>WOODLEY FARRA MANION PORTFOLIO MANAGEMENT Incorporated</td>\n",
       "      <td>0</td>\n",
       "      <td>53</td>\n",
       "      <td>351964649</td>\n",
       "      <td>[351964649, 0, 472447468, 463303127, 200467860, 863425507, 264766975, 263267232]</td>\n",
       "      <td>[WOODLEY FARRA MANION PORTFOLIO MANAGEMENT INC, Altegris Portfolio Management Inc, Connective Portfolio Management LLC, Comprehensive Portfolio Management LLC, Minneapolis Portfolio Management Group LLC, ReAlpha Asset Management Inc, Carnegie Capital Asset Management LLC, SPRING CAPITAL MANAGEMENT LLC]</td>\n",
       "      <td>[]</td>\n",
       "      <td>[0.0000, 0.1259, 0.1309, 0.1530, 0.1627, 0.1636, 0.1638, 0.1658]</td>\n",
       "    </tr>\n",
       "  </tbody>\n",
       "</table>\n",
       "</div>"
      ],
      "text/plain": [
       "                                                   chunks  begin  end  \\\n",
       "0  WOODLEY FARRA MANION PORTFOLIO MANAGEMENT Incorporated  0      53    \n",
       "\n",
       "        code  \\\n",
       "0  351964649   \n",
       "\n",
       "                                                                          all_codes  \\\n",
       "0  [351964649, 0, 472447468, 463303127, 200467860, 863425507, 264766975, 263267232]   \n",
       "\n",
       "                                                                                                                                                                                                                                                                                                       resolutions  \\\n",
       "0  [WOODLEY FARRA MANION PORTFOLIO MANAGEMENT INC, Altegris Portfolio Management Inc, Connective Portfolio Management LLC, Comprehensive Portfolio Management LLC, Minneapolis Portfolio Management Group LLC, ReAlpha Asset Management Inc, Carnegie Capital Asset Management LLC, SPRING CAPITAL MANAGEMENT LLC]   \n",
       "\n",
       "  all_k_aux_labels  \\\n",
       "0  []                \n",
       "\n",
       "                                                      all_distances  \n",
       "0  [0.0000, 0.1259, 0.1309, 0.1530, 0.1627, 0.1636, 0.1638, 0.1658]  "
      ]
     },
     "execution_count": 10,
     "metadata": {},
     "output_type": "execute_result"
    }
   ],
   "source": [
    "text = 'WOODLEY FARRA MANION PORTFOLIO MANAGEMENT Incorporated'\n",
    "\n",
    "%time \n",
    "get_codes (lp, text, vocab='irs_code')"
   ]
  },
  {
   "cell_type": "code",
   "execution_count": 11,
   "id": "9dc33e1e-169d-47de-a55c-e73d8fd660f5",
   "metadata": {
    "colab": {
     "base_uri": "https://localhost:8080/",
     "height": 111
    },
    "executionInfo": {
     "elapsed": 1515,
     "status": "ok",
     "timestamp": 1664820583431,
     "user": {
      "displayName": "Damla",
      "userId": "03285166568766987047"
     },
     "user_tz": -120
    },
    "id": "9dc33e1e-169d-47de-a55c-e73d8fd660f5",
    "outputId": "de1c8ffd-055f-4f2c-f2cf-e6fda39a27c4"
   },
   "outputs": [
    {
     "name": "stdout",
     "output_type": "stream",
     "text": [
      "CPU times: user 2 µs, sys: 0 ns, total: 2 µs\n",
      "Wall time: 4.77 µs\n",
      "1g6ax7jxec82paqzk7ivz9fx7\n",
      "codes retrieved: ArrayBuffer(1g6ax7jxec82paqzk7ivz9fx7), product code(from property): 1g6ax7jxec82paqzk7ivz9fx7\n",
      "1g6ax7jxec82paqzk7ivz9fx7\n",
      "codes retrieved: ArrayBuffer(1g6ax7jxec82paqzk7ivz9fx7), product code(from property): 1g6ax7jxec82paqzk7ivz9fx7\n"
     ]
    },
    {
     "data": {
      "text/html": [
       "<div>\n",
       "<style scoped>\n",
       "    .dataframe tbody tr th:only-of-type {\n",
       "        vertical-align: middle;\n",
       "    }\n",
       "\n",
       "    .dataframe tbody tr th {\n",
       "        vertical-align: top;\n",
       "    }\n",
       "\n",
       "    .dataframe thead th {\n",
       "        text-align: right;\n",
       "    }\n",
       "</style>\n",
       "<table border=\"1\" class=\"dataframe\">\n",
       "  <thead>\n",
       "    <tr style=\"text-align: right;\">\n",
       "      <th></th>\n",
       "      <th>chunks</th>\n",
       "      <th>begin</th>\n",
       "      <th>end</th>\n",
       "      <th>code</th>\n",
       "      <th>all_codes</th>\n",
       "      <th>resolutions</th>\n",
       "      <th>all_k_aux_labels</th>\n",
       "      <th>all_distances</th>\n",
       "    </tr>\n",
       "  </thead>\n",
       "  <tbody>\n",
       "    <tr>\n",
       "      <th>0</th>\n",
       "      <td>Alzamend Neuro INC</td>\n",
       "      <td>0</td>\n",
       "      <td>17</td>\n",
       "      <td>811822909</td>\n",
       "      <td>[811822909, 0, 262908274, 352528215]</td>\n",
       "      <td>[Alzamend Neuro Inc, Neuro Kinetics Inc, Ra Pharmaceuticals Inc, Cocrystal Pharma Inc]</td>\n",
       "      <td>[]</td>\n",
       "      <td>[0.0000, 0.1156, 0.1464, 0.1466]</td>\n",
       "    </tr>\n",
       "  </tbody>\n",
       "</table>\n",
       "</div>"
      ],
      "text/plain": [
       "               chunks  begin  end       code  \\\n",
       "0  Alzamend Neuro INC  0      17   811822909   \n",
       "\n",
       "                              all_codes  \\\n",
       "0  [811822909, 0, 262908274, 352528215]   \n",
       "\n",
       "                                                                              resolutions  \\\n",
       "0  [Alzamend Neuro Inc, Neuro Kinetics Inc, Ra Pharmaceuticals Inc, Cocrystal Pharma Inc]   \n",
       "\n",
       "  all_k_aux_labels                     all_distances  \n",
       "0  []               [0.0000, 0.1156, 0.1464, 0.1466]  "
      ]
     },
     "execution_count": 11,
     "metadata": {},
     "output_type": "execute_result"
    }
   ],
   "source": [
    "text = 'Alzamend Neuro INC'\n",
    "\n",
    "%time \n",
    "get_codes (lp, text, vocab='irs_code')"
   ]
  },
  {
   "cell_type": "markdown",
   "id": "814d19d9-25e4-4c8e-88d9-861dc977a631",
   "metadata": {
    "id": "814d19d9-25e4-4c8e-88d9-861dc977a631"
   },
   "source": [
    "## Sentence Entity Resolver (CRUNCHBASE)\n",
    "[Crunchbase Homepage](https://www.crunchbase.com/)"
   ]
  },
  {
   "cell_type": "markdown",
   "id": "7910e49e-b67d-4336-8041-727259e3a7aa",
   "metadata": {
    "id": "7910e49e-b67d-4336-8041-727259e3a7aa"
   },
   "source": [
    "\n",
    "- Crunchbase is a platform for gaining awareness about business information about private and public companies. Originally built to track startups, the Crunchbase website contains information on public and private companies on a global scale."
   ]
  },
  {
   "cell_type": "markdown",
   "id": "9088264d-3859-4d3e-980e-f583a817621c",
   "metadata": {
    "id": "9088264d-3859-4d3e-980e-f583a817621c"
   },
   "source": [
    "Here we will normalize company names with the Crunchbase Database"
   ]
  },
  {
   "cell_type": "code",
   "execution_count": 12,
   "id": "14344291-1c89-41d8-abaa-6a7908e2685a",
   "metadata": {
    "colab": {
     "base_uri": "https://localhost:8080/"
    },
    "executionInfo": {
     "elapsed": 24653,
     "status": "ok",
     "timestamp": 1664820608078,
     "user": {
      "displayName": "Damla",
      "userId": "03285166568766987047"
     },
     "user_tz": -120
    },
    "id": "14344291-1c89-41d8-abaa-6a7908e2685a",
    "outputId": "3646b8cd-6875-4879-cfe9-602fb4301838"
   },
   "outputs": [
    {
     "name": "stdout",
     "output_type": "stream",
     "text": [
      "[OK!]\n"
     ]
    }
   ],
   "source": [
    "documentAssembler = nlp.DocumentAssembler()\\\n",
    "      .setInputCol(\"text\")\\\n",
    "      .setOutputCol(\"ner_chunk\")\n",
    "\n",
    "embeddings = nlp.UniversalSentenceEncoder.pretrained(\"tfhub_use\", \"en\") \\\n",
    "      .setInputCols(\"ner_chunk\") \\\n",
    "      .setOutputCol(\"sentence_embeddings\")\n",
    "    \n",
    "resolver = finance.SentenceEntityResolverModel.pretrained(\"finel_crunchbase_companynames\", \"en\", \"finance/models\")\\\n",
    "      .setInputCols([\"sentence_embeddings\"]) \\\n",
    "      .setOutputCol(\"name\")\\\n",
    "      .setDistanceFunction(\"EUCLIDEAN\")\n",
    "\n",
    "pipelineModel = nlp.PipelineModel(stages = [\n",
    "          documentAssembler,\n",
    "          embeddings,\n",
    "          resolver])\n",
    "\n",
    "lp = nlp.LightPipeline(pipelineModel)"
   ]
  },
  {
   "cell_type": "code",
   "execution_count": 13,
   "id": "b8524cb0-c0f6-4fcc-baa6-a5b26f0a3494",
   "metadata": {
    "colab": {
     "base_uri": "https://localhost:8080/",
     "height": 222
    },
    "executionInfo": {
     "elapsed": 19,
     "status": "ok",
     "timestamp": 1664820608079,
     "user": {
      "displayName": "Damla",
      "userId": "03285166568766987047"
     },
     "user_tz": -120
    },
    "id": "b8524cb0-c0f6-4fcc-baa6-a5b26f0a3494",
    "outputId": "68eddded-87f3-4036-e6c0-cad569fb292f"
   },
   "outputs": [
    {
     "name": "stdout",
     "output_type": "stream",
     "text": [
      "1g6ax7jxec82paqzk7ivz9fx7\n",
      "codes retrieved: ArrayBuffer(1g6ax7jxec82paqzk7ivz9fx7), product code(from property): 1g6ax7jxec82paqzk7ivz9fx7\n",
      "1g6ax7jxec82paqzk7ivz9fx7\n",
      "codes retrieved: ArrayBuffer(1g6ax7jxec82paqzk7ivz9fx7), product code(from property): 1g6ax7jxec82paqzk7ivz9fx7\n",
      "CPU times: user 6.88 ms, sys: 0 ns, total: 6.88 ms\n",
      "Wall time: 657 ms\n"
     ]
    },
    {
     "data": {
      "text/html": [
       "<div>\n",
       "<style scoped>\n",
       "    .dataframe tbody tr th:only-of-type {\n",
       "        vertical-align: middle;\n",
       "    }\n",
       "\n",
       "    .dataframe tbody tr th {\n",
       "        vertical-align: top;\n",
       "    }\n",
       "\n",
       "    .dataframe thead th {\n",
       "        text-align: right;\n",
       "    }\n",
       "</style>\n",
       "<table border=\"1\" class=\"dataframe\">\n",
       "  <thead>\n",
       "    <tr style=\"text-align: right;\">\n",
       "      <th></th>\n",
       "      <th>chunks</th>\n",
       "      <th>begin</th>\n",
       "      <th>end</th>\n",
       "      <th>code</th>\n",
       "      <th>all_codes</th>\n",
       "      <th>resolutions</th>\n",
       "      <th>all_k_aux_labels</th>\n",
       "      <th>all_distances</th>\n",
       "    </tr>\n",
       "  </thead>\n",
       "  <tbody>\n",
       "    <tr>\n",
       "      <th>0</th>\n",
       "      <td>Shwrm</td>\n",
       "      <td>0</td>\n",
       "      <td>4</td>\n",
       "      <td>Shwrüm</td>\n",
       "      <td>[Shwrüm, Xervmon Inc, ADVANCED CREDIT TECHNOLOGIES, Quickcomm Software Solutions, citysocializer, SurgiQuest, ShoutNow, Reset Therapeutics, MoneyReef, TopiVert, Brevity, Phoenix Health and Safety, Learnpedia Edutech Solutions, Stumpedia]</td>\n",
       "      <td>[Shwrüm, Xervmon Inc, ADVANCED CREDIT TECHNOLOGIES, Quickcomm Software Solutions, citysocializer, SurgiQuest, ShoutNow, Reset Therapeutics, MoneyReef, TopiVert, Brevity, Phoenix Health and Safety, Learnpedia Edutech Solutions, Stumpedia]</td>\n",
       "      <td>[]</td>\n",
       "      <td>[0.0000, 0.0436, 0.0448, 0.0471, 0.0488, 0.0488, 0.0491, 0.0497, 0.0497, 0.0500, 0.0500, 0.0504, 0.0507, 0.0507]</td>\n",
       "    </tr>\n",
       "  </tbody>\n",
       "</table>\n",
       "</div>"
      ],
      "text/plain": [
       "  chunks  begin  end    code  \\\n",
       "0  Shwrm  0      4    Shwrüm   \n",
       "\n",
       "                                                                                                                                                                                                                                       all_codes  \\\n",
       "0  [Shwrüm, Xervmon Inc, ADVANCED CREDIT TECHNOLOGIES, Quickcomm Software Solutions, citysocializer, SurgiQuest, ShoutNow, Reset Therapeutics, MoneyReef, TopiVert, Brevity, Phoenix Health and Safety, Learnpedia Edutech Solutions, Stumpedia]   \n",
       "\n",
       "                                                                                                                                                                                                                                     resolutions  \\\n",
       "0  [Shwrüm, Xervmon Inc, ADVANCED CREDIT TECHNOLOGIES, Quickcomm Software Solutions, citysocializer, SurgiQuest, ShoutNow, Reset Therapeutics, MoneyReef, TopiVert, Brevity, Phoenix Health and Safety, Learnpedia Edutech Solutions, Stumpedia]   \n",
       "\n",
       "  all_k_aux_labels  \\\n",
       "0  []                \n",
       "\n",
       "                                                                                                      all_distances  \n",
       "0  [0.0000, 0.0436, 0.0448, 0.0471, 0.0488, 0.0488, 0.0491, 0.0497, 0.0497, 0.0500, 0.0500, 0.0504, 0.0507, 0.0507]  "
      ]
     },
     "execution_count": 13,
     "metadata": {},
     "output_type": "execute_result"
    }
   ],
   "source": [
    "text = 'Shwrm'\n",
    "\n",
    "%time get_codes (lp, text, vocab='name')"
   ]
  },
  {
   "cell_type": "code",
   "execution_count": 14,
   "id": "df349176-960b-4655-832c-4ec2ab7518e0",
   "metadata": {
    "colab": {
     "base_uri": "https://localhost:8080/",
     "height": 172
    },
    "executionInfo": {
     "elapsed": 542,
     "status": "ok",
     "timestamp": 1664820608613,
     "user": {
      "displayName": "Damla",
      "userId": "03285166568766987047"
     },
     "user_tz": -120
    },
    "id": "df349176-960b-4655-832c-4ec2ab7518e0",
    "outputId": "761bb03d-639a-4d54-8b43-905c676c3583"
   },
   "outputs": [
    {
     "name": "stdout",
     "output_type": "stream",
     "text": [
      "1g6ax7jxec82paqzk7ivz9fx7\n",
      "codes retrieved: ArrayBuffer(1g6ax7jxec82paqzk7ivz9fx7), product code(from property): 1g6ax7jxec82paqzk7ivz9fx7\n",
      "1g6ax7jxec82paqzk7ivz9fx7\n",
      "codes retrieved: ArrayBuffer(1g6ax7jxec82paqzk7ivz9fx7), product code(from property): 1g6ax7jxec82paqzk7ivz9fx7\n",
      "CPU times: user 7.75 ms, sys: 0 ns, total: 7.75 ms\n",
      "Wall time: 595 ms\n"
     ]
    },
    {
     "data": {
      "text/html": [
       "<div>\n",
       "<style scoped>\n",
       "    .dataframe tbody tr th:only-of-type {\n",
       "        vertical-align: middle;\n",
       "    }\n",
       "\n",
       "    .dataframe tbody tr th {\n",
       "        vertical-align: top;\n",
       "    }\n",
       "\n",
       "    .dataframe thead th {\n",
       "        text-align: right;\n",
       "    }\n",
       "</style>\n",
       "<table border=\"1\" class=\"dataframe\">\n",
       "  <thead>\n",
       "    <tr style=\"text-align: right;\">\n",
       "      <th></th>\n",
       "      <th>chunks</th>\n",
       "      <th>begin</th>\n",
       "      <th>end</th>\n",
       "      <th>code</th>\n",
       "      <th>all_codes</th>\n",
       "      <th>resolutions</th>\n",
       "      <th>all_k_aux_labels</th>\n",
       "      <th>all_distances</th>\n",
       "    </tr>\n",
       "  </thead>\n",
       "  <tbody>\n",
       "    <tr>\n",
       "      <th>0</th>\n",
       "      <td>Waywire</td>\n",
       "      <td>0</td>\n",
       "      <td>6</td>\n",
       "      <td>#waywire</td>\n",
       "      <td>[#waywire, Limonetik, Totally Interactive Weather, ThoughtFocus, 2345.com, WebNotes, Synovex, relocality, Grab Media]</td>\n",
       "      <td>[#waywire, Limonetik, Totally Interactive Weather, ThoughtFocus, 2345.com, WebNotes, Synovex, relocality, Grab Media]</td>\n",
       "      <td>[]</td>\n",
       "      <td>[0.0000, 0.0431, 0.0434, 0.0441, 0.0443, 0.0445, 0.0452, 0.0458, 0.0459]</td>\n",
       "    </tr>\n",
       "  </tbody>\n",
       "</table>\n",
       "</div>"
      ],
      "text/plain": [
       "    chunks  begin  end      code  \\\n",
       "0  Waywire  0      6    #waywire   \n",
       "\n",
       "                                                                                                               all_codes  \\\n",
       "0  [#waywire, Limonetik, Totally Interactive Weather, ThoughtFocus, 2345.com, WebNotes, Synovex, relocality, Grab Media]   \n",
       "\n",
       "                                                                                                             resolutions  \\\n",
       "0  [#waywire, Limonetik, Totally Interactive Weather, ThoughtFocus, 2345.com, WebNotes, Synovex, relocality, Grab Media]   \n",
       "\n",
       "  all_k_aux_labels  \\\n",
       "0  []                \n",
       "\n",
       "                                                              all_distances  \n",
       "0  [0.0000, 0.0431, 0.0434, 0.0441, 0.0443, 0.0445, 0.0452, 0.0458, 0.0459]  "
      ]
     },
     "execution_count": 14,
     "metadata": {},
     "output_type": "execute_result"
    }
   ],
   "source": [
    "text = 'Waywire'\n",
    "\n",
    "%time get_codes (lp, text, vocab='name')"
   ]
  },
  {
   "cell_type": "code",
   "execution_count": 15,
   "id": "aafe15d4-861e-4cad-b9b2-b3820e99342f",
   "metadata": {
    "colab": {
     "base_uri": "https://localhost:8080/",
     "height": 172
    },
    "executionInfo": {
     "elapsed": 14,
     "status": "ok",
     "timestamp": 1664820608614,
     "user": {
      "displayName": "Damla",
      "userId": "03285166568766987047"
     },
     "user_tz": -120
    },
    "id": "aafe15d4-861e-4cad-b9b2-b3820e99342f",
    "outputId": "3aedc1fc-39ea-45b7-f4b3-8e7194973e59"
   },
   "outputs": [
    {
     "name": "stdout",
     "output_type": "stream",
     "text": [
      "1g6ax7jxec82paqzk7ivz9fx7\n",
      "codes retrieved: ArrayBuffer(1g6ax7jxec82paqzk7ivz9fx7), product code(from property): 1g6ax7jxec82paqzk7ivz9fx7\n",
      "1g6ax7jxec82paqzk7ivz9fx7\n",
      "codes retrieved: ArrayBuffer(1g6ax7jxec82paqzk7ivz9fx7), product code(from property): 1g6ax7jxec82paqzk7ivz9fx7\n",
      "CPU times: user 2.89 ms, sys: 3.16 ms, total: 6.05 ms\n",
      "Wall time: 525 ms\n"
     ]
    },
    {
     "data": {
      "text/html": [
       "<div>\n",
       "<style scoped>\n",
       "    .dataframe tbody tr th:only-of-type {\n",
       "        vertical-align: middle;\n",
       "    }\n",
       "\n",
       "    .dataframe tbody tr th {\n",
       "        vertical-align: top;\n",
       "    }\n",
       "\n",
       "    .dataframe thead th {\n",
       "        text-align: right;\n",
       "    }\n",
       "</style>\n",
       "<table border=\"1\" class=\"dataframe\">\n",
       "  <thead>\n",
       "    <tr style=\"text-align: right;\">\n",
       "      <th></th>\n",
       "      <th>chunks</th>\n",
       "      <th>begin</th>\n",
       "      <th>end</th>\n",
       "      <th>code</th>\n",
       "      <th>all_codes</th>\n",
       "      <th>resolutions</th>\n",
       "      <th>all_k_aux_labels</th>\n",
       "      <th>all_distances</th>\n",
       "    </tr>\n",
       "  </thead>\n",
       "  <tbody>\n",
       "    <tr>\n",
       "      <th>0</th>\n",
       "      <td>alist games</td>\n",
       "      <td>0</td>\n",
       "      <td>10</td>\n",
       "      <td>[a]list games</td>\n",
       "      <td>[[a]list games, Headright Games, Komar Games, Matchmove Games, Kreeda Games, Hardscore Games, TinyMob Games]</td>\n",
       "      <td>[[a]list games, Headright Games, Komar Games, Matchmove Games, Kreeda Games, Hardscore Games, TinyMob Games]</td>\n",
       "      <td>[]</td>\n",
       "      <td>[0.0000, 0.1525, 0.1629, 0.1843, 0.1901, 0.1919, 0.1931]</td>\n",
       "    </tr>\n",
       "  </tbody>\n",
       "</table>\n",
       "</div>"
      ],
      "text/plain": [
       "        chunks  begin  end           code  \\\n",
       "0  alist games  0      10   [a]list games   \n",
       "\n",
       "                                                                                                      all_codes  \\\n",
       "0  [[a]list games, Headright Games, Komar Games, Matchmove Games, Kreeda Games, Hardscore Games, TinyMob Games]   \n",
       "\n",
       "                                                                                                    resolutions  \\\n",
       "0  [[a]list games, Headright Games, Komar Games, Matchmove Games, Kreeda Games, Hardscore Games, TinyMob Games]   \n",
       "\n",
       "  all_k_aux_labels                                             all_distances  \n",
       "0  []               [0.0000, 0.1525, 0.1629, 0.1843, 0.1901, 0.1919, 0.1931]  "
      ]
     },
     "execution_count": 15,
     "metadata": {},
     "output_type": "execute_result"
    }
   ],
   "source": [
    "text = 'alist games'\n",
    "\n",
    "%time get_codes (lp, text, vocab='name')"
   ]
  },
  {
   "cell_type": "markdown",
   "id": "c6ad75d0-7bf9-41b1-a37f-07af09ee6c19",
   "metadata": {
    "id": "c6ad75d0-7bf9-41b1-a37f-07af09ee6c19"
   },
   "source": [
    "## Sentence Entity Resolver (NASDAQ)\n",
    "[Nasdaq Homepage](https://www.nasdaq.com/)"
   ]
  },
  {
   "cell_type": "markdown",
   "id": "64e7cedd-1978-4130-a88a-f074300d9116",
   "metadata": {
    "id": "64e7cedd-1978-4130-a88a-f074300d9116"
   },
   "source": [
    "\n",
    "- `The Nasdaq Stock Market` (National Association of Securities Dealers Automated Quotations Stock Market) is an American stock exchange based in New York City. It is ranked second on the list of stock exchanges by market capitalization of shares traded, behind the New York Stock Exchange"
   ]
  },
  {
   "cell_type": "markdown",
   "id": "421ed313-abb5-4846-b0d6-e834c88e6890",
   "metadata": {
    "id": "421ed313-abb5-4846-b0d6-e834c88e6890"
   },
   "source": [
    "### Find Ticker Symbol"
   ]
  },
  {
   "cell_type": "markdown",
   "id": "55ee712b-e276-4a92-b556-47b60fe32769",
   "metadata": {
    "id": "55ee712b-e276-4a92-b556-47b60fe32769"
   },
   "source": [
    "`Ticker Symbol` is the use of letters to represent shares that are traded on the stock market, and it is mainly a combination of two , three or four alphabets that is unique and easy for investors to identify and buy/sell that particular stock with the help of this symbol on the stock exchange. Symbols with four or more letters generally denote securities traded on the American stock exchange and NASDAQ.\n"
   ]
  },
  {
   "cell_type": "markdown",
   "id": "1a9d0d6c-1db1-4725-a2d0-db30f748f45d",
   "metadata": {
    "id": "1a9d0d6c-1db1-4725-a2d0-db30f748f45d"
   },
   "source": [
    "Here we will find the ticker symbol of each company on Nasdaq"
   ]
  },
  {
   "cell_type": "code",
   "execution_count": null,
   "id": "a3fdc16d-81bd-44ef-b7f3-db0790618ce7",
   "metadata": {
    "colab": {
     "base_uri": "https://localhost:8080/"
    },
    "executionInfo": {
     "elapsed": 12813,
     "status": "ok",
     "timestamp": 1664820621420,
     "user": {
      "displayName": "Damla",
      "userId": "03285166568766987047"
     },
     "user_tz": -120
    },
    "id": "a3fdc16d-81bd-44ef-b7f3-db0790618ce7",
    "outputId": "7bef2a35-31ae-4cf6-fc6a-b1636c3532b0"
   },
   "outputs": [],
   "source": [
    "documentAssembler = nlp.DocumentAssembler()\\\n",
    "      .setInputCol(\"text\")\\\n",
    "      .setOutputCol(\"ner_chunk\")\n",
    "\n",
    "embeddings = nlp.UniversalSentenceEncoder.pretrained(\"tfhub_use\", \"en\") \\\n",
    "      .setInputCols(\"ner_chunk\") \\\n",
    "      .setOutputCol(\"sentence_embeddings\")\n",
    "    \n",
    "resolver = finance.SentenceEntityResolverModel.pretrained(\"finel_names2tickers\", \"en\", \"finance/models\") \\\n",
    "      .setInputCols([\"sentence_embeddings\"]) \\\n",
    "      .setOutputCol(\"name\")\\\n",
    "      .setDistanceFunction(\"EUCLIDEAN\")\n",
    "\n",
    "pipelineModel = nlp.PipelineModel(stages = [\n",
    "          documentAssembler,\n",
    "          embeddings,\n",
    "          resolver])\n",
    "\n",
    "lp = nlp.LightPipeline(pipelineModel)"
   ]
  },
  {
   "cell_type": "code",
   "execution_count": 17,
   "id": "6ebf342a-385f-4709-a174-8dfdc61ff313",
   "metadata": {
    "colab": {
     "base_uri": "https://localhost:8080/",
     "height": 172
    },
    "executionInfo": {
     "elapsed": 30,
     "status": "ok",
     "timestamp": 1664820621420,
     "user": {
      "displayName": "Damla",
      "userId": "03285166568766987047"
     },
     "user_tz": -120
    },
    "id": "6ebf342a-385f-4709-a174-8dfdc61ff313",
    "outputId": "e8474f71-4b20-4361-9d46-1cae3af9e9df"
   },
   "outputs": [
    {
     "name": "stdout",
     "output_type": "stream",
     "text": [
      "CPU times: user 1 µs, sys: 1 µs, total: 2 µs\n",
      "Wall time: 4.53 µs\n",
      "1g6ax7jxec82paqzk7ivz9fx7\n",
      "codes retrieved: ArrayBuffer(1g6ax7jxec82paqzk7ivz9fx7), product code(from property): 1g6ax7jxec82paqzk7ivz9fx7\n",
      "1g6ax7jxec82paqzk7ivz9fx7\n",
      "codes retrieved: ArrayBuffer(1g6ax7jxec82paqzk7ivz9fx7), product code(from property): 1g6ax7jxec82paqzk7ivz9fx7\n"
     ]
    },
    {
     "data": {
      "text/html": [
       "<div>\n",
       "<style scoped>\n",
       "    .dataframe tbody tr th:only-of-type {\n",
       "        vertical-align: middle;\n",
       "    }\n",
       "\n",
       "    .dataframe tbody tr th {\n",
       "        vertical-align: top;\n",
       "    }\n",
       "\n",
       "    .dataframe thead th {\n",
       "        text-align: right;\n",
       "    }\n",
       "</style>\n",
       "<table border=\"1\" class=\"dataframe\">\n",
       "  <thead>\n",
       "    <tr style=\"text-align: right;\">\n",
       "      <th></th>\n",
       "      <th>chunks</th>\n",
       "      <th>begin</th>\n",
       "      <th>end</th>\n",
       "      <th>code</th>\n",
       "      <th>all_codes</th>\n",
       "      <th>resolutions</th>\n",
       "      <th>all_k_aux_labels</th>\n",
       "      <th>all_distances</th>\n",
       "    </tr>\n",
       "  </thead>\n",
       "  <tbody>\n",
       "    <tr>\n",
       "      <th>0</th>\n",
       "      <td>Alcoa</td>\n",
       "      <td>0</td>\n",
       "      <td>4</td>\n",
       "      <td>AA</td>\n",
       "      <td>[AA, GLW, CVX, HUBB, IMV, ENB, LDL, SRT, MOSY, OMCL, RDNT, IBKR, CVCO, EVI, EYEN, PFPT, TMST]</td>\n",
       "      <td>[AA, GLW, CVX, HUBB, IMV, ENB, LDL, SRT, MOSY, OMCL, RDNT, IBKR, CVCO, EVI, EYEN, PFPT, TMST]</td>\n",
       "      <td>[]</td>\n",
       "      <td>[0.0000, 0.1926, 0.1980, 0.2066, 0.2099, 0.2144, 0.2192, 0.2200, 0.2242, 0.2242, 0.2261, 0.2272, 0.2281, 0.2285, 0.2294, 0.2297, 0.2310]</td>\n",
       "    </tr>\n",
       "  </tbody>\n",
       "</table>\n",
       "</div>"
      ],
      "text/plain": [
       "  chunks  begin  end code  \\\n",
       "0  Alcoa  0      4    AA    \n",
       "\n",
       "                                                                                       all_codes  \\\n",
       "0  [AA, GLW, CVX, HUBB, IMV, ENB, LDL, SRT, MOSY, OMCL, RDNT, IBKR, CVCO, EVI, EYEN, PFPT, TMST]   \n",
       "\n",
       "                                                                                     resolutions  \\\n",
       "0  [AA, GLW, CVX, HUBB, IMV, ENB, LDL, SRT, MOSY, OMCL, RDNT, IBKR, CVCO, EVI, EYEN, PFPT, TMST]   \n",
       "\n",
       "  all_k_aux_labels  \\\n",
       "0  []                \n",
       "\n",
       "                                                                                                                              all_distances  \n",
       "0  [0.0000, 0.1926, 0.1980, 0.2066, 0.2099, 0.2144, 0.2192, 0.2200, 0.2242, 0.2242, 0.2261, 0.2272, 0.2281, 0.2285, 0.2294, 0.2297, 0.2310]  "
      ]
     },
     "execution_count": 17,
     "metadata": {},
     "output_type": "execute_result"
    }
   ],
   "source": [
    "text = 'Alcoa'\n",
    "\n",
    "%time \n",
    "get_codes (lp, text, vocab='name')"
   ]
  },
  {
   "cell_type": "code",
   "execution_count": 18,
   "id": "3cb6bc43-7ae0-4b5b-aaa9-4f845dd19f58",
   "metadata": {
    "colab": {
     "base_uri": "https://localhost:8080/",
     "height": 189
    },
    "executionInfo": {
     "elapsed": 20,
     "status": "ok",
     "timestamp": 1664820621420,
     "user": {
      "displayName": "Damla",
      "userId": "03285166568766987047"
     },
     "user_tz": -120
    },
    "id": "3cb6bc43-7ae0-4b5b-aaa9-4f845dd19f58",
    "outputId": "b953ea33-46b1-45c6-99a9-5279b2b40aab"
   },
   "outputs": [
    {
     "name": "stdout",
     "output_type": "stream",
     "text": [
      "1g6ax7jxec82paqzk7ivz9fx7\n",
      "codes retrieved: ArrayBuffer(1g6ax7jxec82paqzk7ivz9fx7), product code(from property): 1g6ax7jxec82paqzk7ivz9fx7\n",
      "1g6ax7jxec82paqzk7ivz9fx7\n",
      "codes retrieved: ArrayBuffer(1g6ax7jxec82paqzk7ivz9fx7), product code(from property): 1g6ax7jxec82paqzk7ivz9fx7\n",
      "CPU times: user 7.71 ms, sys: 1.07 ms, total: 8.79 ms\n",
      "Wall time: 400 ms\n"
     ]
    },
    {
     "data": {
      "text/html": [
       "<div>\n",
       "<style scoped>\n",
       "    .dataframe tbody tr th:only-of-type {\n",
       "        vertical-align: middle;\n",
       "    }\n",
       "\n",
       "    .dataframe tbody tr th {\n",
       "        vertical-align: top;\n",
       "    }\n",
       "\n",
       "    .dataframe thead th {\n",
       "        text-align: right;\n",
       "    }\n",
       "</style>\n",
       "<table border=\"1\" class=\"dataframe\">\n",
       "  <thead>\n",
       "    <tr style=\"text-align: right;\">\n",
       "      <th></th>\n",
       "      <th>chunks</th>\n",
       "      <th>begin</th>\n",
       "      <th>end</th>\n",
       "      <th>code</th>\n",
       "      <th>all_codes</th>\n",
       "      <th>resolutions</th>\n",
       "      <th>all_k_aux_labels</th>\n",
       "      <th>all_distances</th>\n",
       "    </tr>\n",
       "  </thead>\n",
       "  <tbody>\n",
       "    <tr>\n",
       "      <th>0</th>\n",
       "      <td>Azurrx biopharma</td>\n",
       "      <td>0</td>\n",
       "      <td>15</td>\n",
       "      <td>AZRX</td>\n",
       "      <td>[AZRX, SHSP, ULBI, CATS, ELMD, MTNB, VSH, ADMA, CYTR, FCFS, AXR, TBPH, CCXI, KMPH, CBTX, EXLS, MAXR, HEB, NTRP, PRPO, MYO, IDA, TORC, VCEL, SVMK]</td>\n",
       "      <td>[AZRX, SHSP, ULBI, CATS, ELMD, MTNB, VSH, ADMA, CYTR, FCFS, AXR, TBPH, CCXI, KMPH, CBTX, EXLS, MAXR, HEB, NTRP, PRPO, MYO, IDA, TORC, VCEL, SVMK]</td>\n",
       "      <td>[]</td>\n",
       "      <td>[0.0000, 0.1319, 0.1439, 0.1464, 0.1474, 0.1497, 0.1506, 0.1521, 0.1525, 0.1540, 0.1548, 0.1548, 0.1549, 0.1556, 0.1559, 0.1565, 0.1568, 0.1576, 0.1591, 0.1594, 0.1601, 0.1603, 0.1606, 0.1611, 0.1612]</td>\n",
       "    </tr>\n",
       "  </tbody>\n",
       "</table>\n",
       "</div>"
      ],
      "text/plain": [
       "             chunks  begin  end  code  \\\n",
       "0  Azurrx biopharma  0      15   AZRX   \n",
       "\n",
       "                                                                                                                                           all_codes  \\\n",
       "0  [AZRX, SHSP, ULBI, CATS, ELMD, MTNB, VSH, ADMA, CYTR, FCFS, AXR, TBPH, CCXI, KMPH, CBTX, EXLS, MAXR, HEB, NTRP, PRPO, MYO, IDA, TORC, VCEL, SVMK]   \n",
       "\n",
       "                                                                                                                                         resolutions  \\\n",
       "0  [AZRX, SHSP, ULBI, CATS, ELMD, MTNB, VSH, ADMA, CYTR, FCFS, AXR, TBPH, CCXI, KMPH, CBTX, EXLS, MAXR, HEB, NTRP, PRPO, MYO, IDA, TORC, VCEL, SVMK]   \n",
       "\n",
       "  all_k_aux_labels  \\\n",
       "0  []                \n",
       "\n",
       "                                                                                                                                                                                              all_distances  \n",
       "0  [0.0000, 0.1319, 0.1439, 0.1464, 0.1474, 0.1497, 0.1506, 0.1521, 0.1525, 0.1540, 0.1548, 0.1548, 0.1549, 0.1556, 0.1559, 0.1565, 0.1568, 0.1576, 0.1591, 0.1594, 0.1601, 0.1603, 0.1606, 0.1611, 0.1612]  "
      ]
     },
     "execution_count": 18,
     "metadata": {},
     "output_type": "execute_result"
    }
   ],
   "source": [
    "text = 'Azurrx biopharma'\n",
    "\n",
    "%time get_codes (lp, text, vocab='name')"
   ]
  },
  {
   "cell_type": "code",
   "execution_count": 21,
   "id": "2bf47cce-7639-4c51-ade4-fead3f210f76",
   "metadata": {
    "colab": {
     "base_uri": "https://localhost:8080/",
     "height": 111
    },
    "executionInfo": {
     "elapsed": 15,
     "status": "ok",
     "timestamp": 1664820621421,
     "user": {
      "displayName": "Damla",
      "userId": "03285166568766987047"
     },
     "user_tz": -120
    },
    "id": "2bf47cce-7639-4c51-ade4-fead3f210f76",
    "outputId": "4e671ffb-6788-468e-9d0b-eb9ecc6ba5cf"
   },
   "outputs": [
    {
     "name": "stdout",
     "output_type": "stream",
     "text": [
      "1g6ax7jxec82paqzk7ivz9fx7\n",
      "codes retrieved: ArrayBuffer(1g6ax7jxec82paqzk7ivz9fx7), product code(from property): 1g6ax7jxec82paqzk7ivz9fx7\n",
      "1g6ax7jxec82paqzk7ivz9fx7\n",
      "codes retrieved: ArrayBuffer(1g6ax7jxec82paqzk7ivz9fx7), product code(from property): 1g6ax7jxec82paqzk7ivz9fx7\n",
      "CPU times: user 3.99 ms, sys: 3.81 ms, total: 7.8 ms\n",
      "Wall time: 432 ms\n"
     ]
    },
    {
     "data": {
      "text/html": [
       "<div>\n",
       "<style scoped>\n",
       "    .dataframe tbody tr th:only-of-type {\n",
       "        vertical-align: middle;\n",
       "    }\n",
       "\n",
       "    .dataframe tbody tr th {\n",
       "        vertical-align: top;\n",
       "    }\n",
       "\n",
       "    .dataframe thead th {\n",
       "        text-align: right;\n",
       "    }\n",
       "</style>\n",
       "<table border=\"1\" class=\"dataframe\">\n",
       "  <thead>\n",
       "    <tr style=\"text-align: right;\">\n",
       "      <th></th>\n",
       "      <th>chunks</th>\n",
       "      <th>begin</th>\n",
       "      <th>end</th>\n",
       "      <th>code</th>\n",
       "      <th>all_codes</th>\n",
       "      <th>resolutions</th>\n",
       "      <th>all_k_aux_labels</th>\n",
       "      <th>all_distances</th>\n",
       "    </tr>\n",
       "  </thead>\n",
       "  <tbody>\n",
       "    <tr>\n",
       "      <th>0</th>\n",
       "      <td>apple</td>\n",
       "      <td>0</td>\n",
       "      <td>4</td>\n",
       "      <td>AAPL</td>\n",
       "      <td>[AAPL, XRX, MSFT, PEP, APLE, HPQ, NOW, ZAGG, MOV]</td>\n",
       "      <td>[AAPL, XRX, MSFT, PEP, APLE, HPQ, NOW, ZAGG, MOV]</td>\n",
       "      <td>[]</td>\n",
       "      <td>[0.0000, 0.3793, 0.3925, 0.4013, 0.4087, 0.4287, 0.4562, 0.4620, 0.4634]</td>\n",
       "    </tr>\n",
       "  </tbody>\n",
       "</table>\n",
       "</div>"
      ],
      "text/plain": [
       "  chunks  begin  end  code                                          all_codes  \\\n",
       "0  apple  0      4    AAPL  [AAPL, XRX, MSFT, PEP, APLE, HPQ, NOW, ZAGG, MOV]   \n",
       "\n",
       "                                         resolutions all_k_aux_labels  \\\n",
       "0  [AAPL, XRX, MSFT, PEP, APLE, HPQ, NOW, ZAGG, MOV]  []                \n",
       "\n",
       "                                                              all_distances  \n",
       "0  [0.0000, 0.3793, 0.3925, 0.4013, 0.4087, 0.4287, 0.4562, 0.4620, 0.4634]  "
      ]
     },
     "execution_count": 21,
     "metadata": {},
     "output_type": "execute_result"
    }
   ],
   "source": [
    "text = 'apple'\n",
    "\n",
    "%time get_codes (lp, text, vocab='name')"
   ]
  },
  {
   "cell_type": "code",
   "execution_count": null,
   "id": "5eed3f7f-333f-4ec2-bf42-3d22481e62f2",
   "metadata": {},
   "outputs": [],
   "source": []
  }
 ],
 "metadata": {
  "colab": {
   "collapsed_sections": [],
   "machine_shape": "hm",
   "provenance": []
  },
  "kernelspec": {
   "display_name": "jsl4.2.3",
   "language": "python",
   "name": "jsl4.2.3"
  },
  "language_info": {
   "codemirror_mode": {
    "name": "ipython",
    "version": 3
   },
   "file_extension": ".py",
   "mimetype": "text/x-python",
   "name": "python",
   "nbconvert_exporter": "python",
   "pygments_lexer": "ipython3",
   "version": "3.8.10"
  },
  "vscode": {
   "interpreter": {
    "hash": "ca1c4b8877e01dec1d65bc94ac0771fb7b4e7d433b24c0ced0afdc05f796f65d"
   }
  }
 },
 "nbformat": 4,
 "nbformat_minor": 5
}

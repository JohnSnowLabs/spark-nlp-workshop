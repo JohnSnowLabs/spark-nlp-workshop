{
 "cells": [
  {
   "cell_type": "markdown",
   "metadata": {
    "id": "I08sFJYCxR0Z"
   },
   "source": [
    "![JohnSnowLabs](https://nlp.johnsnowlabs.com/assets/images/logo.png)"
   ]
  },
  {
   "cell_type": "markdown",
   "metadata": {
    "id": "YiRjfE_SHmQI"
   },
   "source": [
    "# Date Normalizer"
   ]
  },
  {
   "cell_type": "markdown",
   "metadata": {
    "id": "okhT7AcXxben"
   },
   "source": [
    "## **Setup**"
   ]
  },
  {
   "cell_type": "code",
   "execution_count": 2,
   "metadata": {
    "colab": {
     "base_uri": "https://localhost:8080/",
     "height": 314
    },
    "executionInfo": {
     "elapsed": 69424,
     "status": "ok",
     "timestamp": 1649503790101,
     "user": {
      "displayName": "Damla",
      "userId": "03285166568766987047"
     },
     "user_tz": -120
    },
    "id": "VtLIEJtPf88T",
    "outputId": "9a1a7826-9c8a-4ac5-fda8-24c39d2d2277"
   },
   "outputs": [
    {
     "name": "stdout",
     "output_type": "stream",
     "text": [
      "Spark Session already created, some configs may not take.\n"
     ]
    },
    {
     "data": {
      "text/html": [
       "\n",
       "            <div>\n",
       "                <p><b>SparkSession - in-memory</b></p>\n",
       "                \n",
       "        <div>\n",
       "            <p><b>SparkContext</b></p>\n",
       "\n",
       "            <p><a href=\"http://ip-172-31-15-180.ec2.internal:4040\">Spark UI</a></p>\n",
       "\n",
       "            <dl>\n",
       "              <dt>Version</dt>\n",
       "                <dd><code>v3.1.2</code></dd>\n",
       "              <dt>Master</dt>\n",
       "                <dd><code>local[*]</code></dd>\n",
       "              <dt>AppName</dt>\n",
       "                <dd><code>John-Snow-Labs-Spark-Session 🚀 with Jars for: 🚀Spark-NLP==4.2.4, 💊Spark-Healthcare==4.2.4, 🕶Spark-OCR==4.2.1, running on ⚡ PySpark==3.1.2</code></dd>\n",
       "            </dl>\n",
       "        </div>\n",
       "        \n",
       "            </div>\n",
       "        "
      ],
      "text/plain": [
       "<pyspark.sql.session.SparkSession at 0x7f382eb18310>"
      ]
     },
     "execution_count": 2,
     "metadata": {},
     "output_type": "execute_result"
    }
   ],
   "source": [
    "import json\n",
    "import os\n",
    "\n",
    "from pyspark.sql import SparkSession\n",
    "from pyspark.sql import functions as F\n",
    "from pyspark.ml import Pipeline,PipelineModel\n",
    "\n",
    "import warnings\n",
    "warnings.filterwarnings('ignore')\n",
    "os.environ['TF_CPP_MIN_LOG_LEVEL'] = '3' \n",
    "\n",
    "from johnsnowlabs import nlp, medical\n",
    "\n",
    "spark = start_spark()\n",
    "spark.sparkContext.setLogLevel(\"ERROR\")\n",
    "\n",
    "spark"
   ]
  },
  {
   "cell_type": "markdown",
   "metadata": {
    "id": "kqlcNe7FJr31"
   },
   "source": [
    "## **Date Normalizer**\n",
    "\n",
    "New Annotator that transforms chunks Dates to a normalized Date with format YYYY/MM/DD. This annotator identifies dates in chunk annotations and transforms those dates to the format YYYY/MM/DD. \n",
    "\n"
   ]
  },
  {
   "cell_type": "markdown",
   "metadata": {
    "id": "YPvA603jL3TV"
   },
   "source": [
    "We going to create a chunks dates with different formats:"
   ]
  },
  {
   "cell_type": "code",
   "execution_count": 3,
   "metadata": {
    "id": "SW-ND2BjONF_"
   },
   "outputs": [],
   "source": [
    "from pyspark.sql.types import StructType, IntegerType, StringType"
   ]
  },
  {
   "cell_type": "code",
   "execution_count": 4,
   "metadata": {},
   "outputs": [
    {
     "name": "stdout",
     "output_type": "stream",
     "text": [
      "embeddings_clinical download started this may take some time.\n",
      "Approximate size to download 1.6 GB\n",
      "[ | ]embeddings_clinical download started this may take some time.\n",
      "Approximate size to download 1.6 GB\n",
      "Download done! Loading the resource.\n",
      "[OK!]\n",
      "ner_deid_generic_augmented download started this may take some time.\n",
      "[ | ]ner_deid_generic_augmented download started this may take some time.\n",
      "Approximate size to download 13.8 MB\n",
      "Download done! Loading the resource.\n",
      "[OK!]\n"
     ]
    }
   ],
   "source": [
    "documentAssembler = nlp.DocumentAssembler()\\\n",
    "    .setInputCol(\"text\")\\\n",
    "    .setOutputCol(\"document\")\n",
    "\n",
    "# Sentence Detector annotator, processes various sentences per line\n",
    "sentenceDetector = nlp.SentenceDetector()\\\n",
    "    .setInputCols([\"document\"])\\\n",
    "    .setOutputCol(\"sentence\")\n",
    "\n",
    "# Tokenizer splits words in a relevant format for NLP\n",
    "tokenizer = nlp.Tokenizer()\\\n",
    "    .setInputCols([\"sentence\"])\\\n",
    "    .setOutputCol(\"token\")\n",
    "\n",
    "# Clinical word embeddings trained on PubMED dataset\n",
    "word_embeddings = nlp.WordEmbeddingsModel.pretrained(\"embeddings_clinical\", \"en\", \"clinical/models\")\\\n",
    "    .setInputCols([\"sentence\", \"token\"])\\\n",
    "    .setOutputCol(\"embeddings\")\n",
    "\n",
    "# NER model trained on n2c2 (de-identification and Heart Disease Risk Factors Challenge) datasets)\n",
    "clinical_ner = medical.NerModel.pretrained(\"ner_deid_generic_augmented\", \"en\", \"clinical/models\") \\\n",
    "    .setInputCols([\"sentence\", \"token\", \"embeddings\"]) \\\n",
    "    .setOutputCol(\"ner\")\n",
    "\n",
    "ner_converter = medical.NerConverterInternal()\\\n",
    "    .setInputCols([\"sentence\", \"token\", \"ner\"])\\\n",
    "    .setOutputCol(\"date_chunk\")\\\n",
    "    .setWhiteList([\"DATE\"])\n",
    "\n",
    "date_normalizer = medical.DateNormalizer()\\\n",
    "    .setInputCols('date_chunk')\\\n",
    "    .setOutputCol('normalized_date')\n",
    "\n",
    "nlpPipeline = nlp.Pipeline(stages=[\n",
    "      documentAssembler, \n",
    "      sentenceDetector,\n",
    "      tokenizer,\n",
    "      word_embeddings,\n",
    "      clinical_ner,\n",
    "      ner_converter,\n",
    "      date_normalizer])\n",
    "\n",
    "empty_data = spark.createDataFrame([[\"\"]]).toDF(\"text\")\n",
    "\n",
    "model = nlpPipeline.fit(empty_data)"
   ]
  },
  {
   "cell_type": "code",
   "execution_count": 5,
   "metadata": {},
   "outputs": [
    {
     "name": "stdout",
     "output_type": "stream",
     "text": [
      "+----------------------------------------------------------------------------------------------------+\n",
      "|                                                                                                text|\n",
      "+----------------------------------------------------------------------------------------------------+\n",
      "|She has a history of pericarditis and pericardectomy on 08/02/2018 and developed a cough with rig...|\n",
      "|She has been receiving gemcitabine and she receives three cycles of this with the last one being ...|\n",
      "|                                              She was last seen in the clinic on 11/01/2018by Dr. Y.|\n",
      "|                                                             Chris Brown was discharged on 12Mar2021|\n",
      "|       Last INR was on Tuesday, Jan 30, 2018, and her INR was 2.3. 2. Amiodarone 100 mg p.o. daily. |\n",
      "|We reviewed the pathology obtained from the pericardectomy on 13.04.1999, which was diagnostic of...|\n",
      "|A review of her CT scan on 3 April2020 prior to her pericardectomy, already shows bilateral plura...|\n",
      "+----------------------------------------------------------------------------------------------------+\n",
      "\n"
     ]
    }
   ],
   "source": [
    "dates = [\n",
    "'She has a history of pericarditis and pericardectomy on 08/02/2018 and developed a cough with right-sided chest pain.' ,\n",
    "'She has been receiving gemcitabine and she receives three cycles of this with the last one being given on 11/2018. ',\n",
    "'She was last seen in the clinic on 11/01/2018by Dr. Y.',\n",
    "'Chris Brown was discharged on 12Mar2021',\n",
    "'Last INR was on Tuesday, Jan 30, 2018, and her INR was 2.3. 2. Amiodarone 100 mg p.o. daily. ',\n",
    "'We reviewed the pathology obtained from the pericardectomy on 13.04.1999, which was diagnostic of mesothelioma', \n",
    "'A review of her CT scan on 3 April2020 prior to her pericardectomy, already shows bilateral plural effusions. ',\n",
    "]\n",
    "\n",
    "df_dates = spark.createDataFrame(dates,StringType()).toDF('text')\n",
    "\n",
    "df_dates.show(truncate=100)"
   ]
  },
  {
   "cell_type": "code",
   "execution_count": 7,
   "metadata": {},
   "outputs": [],
   "source": [
    "result = model.transform(df_dates)"
   ]
  },
  {
   "cell_type": "markdown",
   "metadata": {
    "id": "JiIqDdHDPkQV"
   },
   "source": [
    "We are going to show how the date is normalized."
   ]
  },
  {
   "cell_type": "code",
   "execution_count": 8,
   "metadata": {
    "id": "13wTh48FPcG-"
   },
   "outputs": [
    {
     "name": "stderr",
     "output_type": "stream",
     "text": [
      "                                                                                \r"
     ]
    },
    {
     "name": "stdout",
     "output_type": "stream",
     "text": [
      "+---------------------------------------------------------------------------------------------------------------------+---------------------+---------------+\n",
      "|text                                                                                                                 |date_chunk           |normalized_date|\n",
      "+---------------------------------------------------------------------------------------------------------------------+---------------------+---------------+\n",
      "|She has a history of pericarditis and pericardectomy on 08/02/2018 and developed a cough with right-sided chest pain.|08/02/2018           |2018/08/02     |\n",
      "|She has been receiving gemcitabine and she receives three cycles of this with the last one being given on 11/2018.   |11/2018              |2018/11/15     |\n",
      "|She was last seen in the clinic on 11/01/2018by Dr. Y.                                                               |11/01/2018by         |2018/11/01     |\n",
      "|Chris Brown was discharged on 12Mar2021                                                                              |12Mar2021            |2021/03/12     |\n",
      "|Last INR was on Tuesday, Jan 30, 2018, and her INR was 2.3. 2. Amiodarone 100 mg p.o. daily.                         |Tuesday, Jan 30, 2018|2018/01/30     |\n",
      "|We reviewed the pathology obtained from the pericardectomy on 13.04.1999, which was diagnostic of mesothelioma       |13.04.1999           |1999/04/13     |\n",
      "|A review of her CT scan on 3 April2020 prior to her pericardectomy, already shows bilateral plural effusions.        |3 April2020          |2020/04/03     |\n",
      "+---------------------------------------------------------------------------------------------------------------------+---------------------+---------------+\n",
      "\n"
     ]
    }
   ],
   "source": [
    "import pyspark.sql.functions as F\n",
    "\n",
    "result_df = result.select(\"text\",F.explode(F.arrays_zip(result.date_chunk.result, \n",
    "                                                        result.normalized_date.result)).alias(\"cols\")) \\\n",
    "                  .select(\"text\",F.expr(\"cols['0']\").alias(\"date_chunk\"),\n",
    "                                 F.expr(\"cols['1']\").alias(\"normalized_date\"))\n",
    "                  \n",
    "result_df.show(truncate=False)"
   ]
  },
  {
   "cell_type": "markdown",
   "metadata": {
    "id": "VelhLulcPxbx"
   },
   "source": [
    "### Replacer"
   ]
  },
  {
   "cell_type": "code",
   "execution_count": 9,
   "metadata": {
    "id": "lR6bSlXTPvqK"
   },
   "outputs": [],
   "source": [
    "date_normalizer = medical.DateNormalizer()\\\n",
    "    .setInputCols('date_chunk')\\\n",
    "    .setOutputCol('normalized_date')\n",
    "\n",
    "replacer = medical.Replacer()\\\n",
    "    .setInputCols([\"normalized_date\",\"document\"])\\\n",
    "    .setOutputCol(\"replaced_document\")\n",
    "\n",
    "nlpPipeline = nlp.Pipeline(stages=[\n",
    "      documentAssembler, \n",
    "      sentenceDetector,\n",
    "      tokenizer,\n",
    "      word_embeddings,\n",
    "      clinical_ner,\n",
    "      ner_converter,\n",
    "      date_normalizer,\n",
    "      replacer])\n",
    "\n",
    "empty_data = spark.createDataFrame([[\"\"]]).toDF(\"text\")\n",
    "\n",
    "model = nlpPipeline.fit(empty_data)"
   ]
  },
  {
   "cell_type": "code",
   "execution_count": 10,
   "metadata": {
    "colab": {
     "base_uri": "https://localhost:8080/"
    },
    "executionInfo": {
     "elapsed": 4965,
     "status": "ok",
     "timestamp": 1649503825790,
     "user": {
      "displayName": "Damla",
      "userId": "03285166568766987047"
     },
     "user_tz": -120
    },
    "id": "3NqyhuNCQWC2",
    "outputId": "ad694c26-af7c-4195-cc87-164843316359"
   },
   "outputs": [
    {
     "name": "stdout",
     "output_type": "stream",
     "text": [
      "+---------------------------------------------------------------------------------------------------------------------+---------------+----------------------------------------------------------------------------------------------------------------------+\n",
      "|text                                                                                                                 |normalized_date|replaced_document                                                                                                     |\n",
      "+---------------------------------------------------------------------------------------------------------------------+---------------+----------------------------------------------------------------------------------------------------------------------+\n",
      "|She has a history of pericarditis and pericardectomy on 08/02/2018 and developed a cough with right-sided chest pain.|2018/08/02     |She has a history of pericarditis and pericardectomy on 2018/08/02 and developed a cough with right-sided chest pain. |\n",
      "|She has been receiving gemcitabine and she receives three cycles of this with the last one being given on 11/2018.   |2018/11/15     |She has been receiving gemcitabine and she receives three cycles of this with the last one being given on 2018/11/15. |\n",
      "|She was last seen in the clinic on 11/01/2018by Dr. Y.                                                               |2018/11/01     |She was last seen in the clinic on 2018/11/01 Dr. Y.                                                                  |\n",
      "|Chris Brown was discharged on 12Mar2021                                                                              |2021/03/12     |Chris Brown was discharged on 2021/03/12                                                                              |\n",
      "|Last INR was on Tuesday, Jan 30, 2018, and her INR was 2.3. 2. Amiodarone 100 mg p.o. daily.                         |2018/01/30     |Last INR was on 2018/01/30, and her INR was 2.3. 2. Amiodarone 100 mg p.o. daily.                                     |\n",
      "|We reviewed the pathology obtained from the pericardectomy on 13.04.1999, which was diagnostic of mesothelioma       |1999/04/13     |We reviewed the pathology obtained from the pericardectomy on 1999/04/13, which was diagnostic of mesothelioma        |\n",
      "|A review of her CT scan on 3 April2020 prior to her pericardectomy, already shows bilateral plural effusions.        |2020/04/03     |A review of her CT scan on 2020/04/03 prior to her pericardectomy, already shows bilateral plural effusions.          |\n",
      "+---------------------------------------------------------------------------------------------------------------------+---------------+----------------------------------------------------------------------------------------------------------------------+\n",
      "\n"
     ]
    }
   ],
   "source": [
    "result = model.transform(df_dates)\n",
    "\n",
    "result_df = result.select(\"text\",F.explode(F.arrays_zip(result.date_chunk.result, \n",
    "                                                        result.normalized_date.result,\n",
    "                                                        result.replaced_document.result)).alias(\"cols\")) \\\n",
    "                  .select(\"text\",F.expr(\"cols['1']\").alias(\"normalized_date\"),\n",
    "                                 F.expr(\"cols['2']\").alias(\"replaced_document\"))\n",
    "                  \n",
    "result_df.show(truncate=False)"
   ]
  },
  {
   "cell_type": "markdown",
   "metadata": {
    "id": "iE1wA-Y1QyeI"
   },
   "source": [
    "### Date Format"
   ]
  },
  {
   "cell_type": "markdown",
   "metadata": {},
   "source": [
    "With the new setOutputDateformat feature of DateNormalizer, date outputs can be customized in `us`: `MM/DD/YYYY` or `eu`: `DD/MM/YYYY` format."
   ]
  },
  {
   "cell_type": "code",
   "execution_count": 11,
   "metadata": {
    "id": "k9E0T8mjQo0Y"
   },
   "outputs": [
    {
     "name": "stdout",
     "output_type": "stream",
     "text": [
      "embeddings_clinical download started this may take some time.\n",
      "Approximate size to download 1.6 GB\n",
      "[OK!]\n",
      "ner_deid_generic_augmented download started this may take some time.\n",
      "[OK!]\n"
     ]
    }
   ],
   "source": [
    "documentAssembler = nlp.DocumentAssembler()\\\n",
    "    .setInputCol(\"text\")\\\n",
    "    .setOutputCol(\"document\")\n",
    "\n",
    "# Sentence Detector annotator, processes various sentences per line\n",
    "sentenceDetector = nlp.SentenceDetector()\\\n",
    "    .setInputCols([\"document\"])\\\n",
    "    .setOutputCol(\"sentence\")\n",
    "\n",
    "# Tokenizer splits words in a relevant format for NLP\n",
    "tokenizer = nlp.Tokenizer()\\\n",
    "    .setInputCols([\"sentence\"])\\\n",
    "    .setOutputCol(\"token\")\n",
    "\n",
    "# Clinical word embeddings trained on PubMED dataset\n",
    "word_embeddings = nlp.WordEmbeddingsModel.pretrained(\"embeddings_clinical\", \"en\", \"clinical/models\")\\\n",
    "    .setInputCols([\"sentence\", \"token\"])\\\n",
    "    .setOutputCol(\"embeddings\")\n",
    "\n",
    "# NER model trained on n2c2 (de-identification and Heart Disease Risk Factors Challenge) datasets)\n",
    "clinical_ner = medical.NerModel.pretrained(\"ner_deid_generic_augmented\", \"en\", \"clinical/models\") \\\n",
    "    .setInputCols([\"sentence\", \"token\", \"embeddings\"]) \\\n",
    "    .setOutputCol(\"ner\")\n",
    "\n",
    "ner_converter = medical.NerConverterInternal()\\\n",
    "    .setInputCols([\"sentence\", \"token\", \"ner\"])\\\n",
    "    .setOutputCol(\"date_chunk\")\\\n",
    "    .setWhiteList([\"DATE\"])\n",
    "\n",
    "date_normalizer_us = medical.DateNormalizer()\\\n",
    "    .setInputCols('date_chunk')\\\n",
    "    .setOutputCol('normalized_date_us')\\\n",
    "    .setOutputDateformat('us')\n",
    "\n",
    "date_normalizer_eu = medical.DateNormalizer()\\\n",
    "    .setInputCols('date_chunk')\\\n",
    "    .setOutputCol('normalized_date_eu')\\\n",
    "    .setOutputDateformat('eu')\n",
    "\n",
    "nlpPipeline = nlp.Pipeline(stages=[\n",
    "      documentAssembler, \n",
    "      sentenceDetector,\n",
    "      tokenizer,\n",
    "      word_embeddings,\n",
    "      clinical_ner,\n",
    "      ner_converter,\n",
    "      date_normalizer_us,\n",
    "      date_normalizer_eu\n",
    "      ])\n",
    "\n",
    "empty_data = spark.createDataFrame([[\"\"]]).toDF(\"text\")\n",
    "\n",
    "model = nlpPipeline.fit(empty_data)"
   ]
  },
  {
   "cell_type": "code",
   "execution_count": 12,
   "metadata": {
    "id": "JVX_QlglR9yR"
   },
   "outputs": [],
   "source": [
    "result = model.transform(df_dates)"
   ]
  },
  {
   "cell_type": "code",
   "execution_count": 13,
   "metadata": {},
   "outputs": [
    {
     "name": "stdout",
     "output_type": "stream",
     "text": [
      "+---------------------------------------------------------------------------------------------------------------------+---------------------+------------------+------------------+\n",
      "|text                                                                                                                 |date_chunk           |normalized_date_us|normalized_date_eu|\n",
      "+---------------------------------------------------------------------------------------------------------------------+---------------------+------------------+------------------+\n",
      "|She has a history of pericarditis and pericardectomy on 08/02/2018 and developed a cough with right-sided chest pain.|08/02/2018           |08/02/2018        |2018/08/02        |\n",
      "|She has been receiving gemcitabine and she receives three cycles of this with the last one being given on 11/2018.   |11/2018              |11/15/2018        |2018/11/15        |\n",
      "|She was last seen in the clinic on 11/01/2018by Dr. Y.                                                               |11/01/2018by         |11/01/2018        |2018/11/01        |\n",
      "|Chris Brown was discharged on 12Mar2021                                                                              |12Mar2021            |03/12/2021        |2021/03/12        |\n",
      "|Last INR was on Tuesday, Jan 30, 2018, and her INR was 2.3. 2. Amiodarone 100 mg p.o. daily.                         |Tuesday, Jan 30, 2018|01/30/2018        |2018/01/30        |\n",
      "|We reviewed the pathology obtained from the pericardectomy on 13.04.1999, which was diagnostic of mesothelioma       |13.04.1999           |04/13/1999        |1999/04/13        |\n",
      "|A review of her CT scan on 3 April2020 prior to her pericardectomy, already shows bilateral plural effusions.        |3 April2020          |04/03/2020        |2020/04/03        |\n",
      "+---------------------------------------------------------------------------------------------------------------------+---------------------+------------------+------------------+\n",
      "\n"
     ]
    }
   ],
   "source": [
    "result_df = result.select(\"text\",F.explode(F.arrays_zip(result.date_chunk.result, \n",
    "                                                        result.normalized_date_us.result,\n",
    "                                                        result.normalized_date_eu.result)).alias(\"cols\")) \\\n",
    "                  .select(\"text\",F.expr(\"cols['0']\").alias(\"date_chunk\"),\n",
    "                                 F.expr(\"cols['1']\").alias(\"normalized_date_us\"),\n",
    "                                 F.expr(\"cols['2']\").alias(\"normalized_date_eu\"))\n",
    "                  \n",
    "result_df.show(truncate=False)"
   ]
  },
  {
   "cell_type": "markdown",
   "metadata": {
    "id": "L8IxAZxXRihE"
   },
   "source": [
    "### Default Replacement\n",
    "\n",
    "If any of the day, month and year information is missing in the date format, the following default values are added.\n",
    "\n",
    "- `setDefaultReplacementDay`: default value is 15\n",
    "- `setDefaultReplacementMonth`: default value is July or 6\n",
    "- `setDefaultReplacementYear`: default value is 2020\n"
   ]
  },
  {
   "cell_type": "code",
   "execution_count": 14,
   "metadata": {
    "colab": {
     "base_uri": "https://localhost:8080/"
    },
    "executionInfo": {
     "elapsed": 1569,
     "status": "ok",
     "timestamp": 1649503842733,
     "user": {
      "displayName": "Damla",
      "userId": "03285166568766987047"
     },
     "user_tz": -120
    },
    "id": "LB2yoHDqRVy-",
    "outputId": "383818d3-c43d-4e53-e0e7-5de894399b12"
   },
   "outputs": [],
   "source": [
    "date_normalizer_us = medical.DateNormalizer()\\\n",
    "    .setInputCols('date_chunk')\\\n",
    "    .setOutputCol('normalized_date_us')\\\n",
    "    .setOutputDateformat('us')\\\n",
    "    .setDefaultReplacementDay(2)\\\n",
    "    .setDefaultReplacementMonth(3)\\\n",
    "    .setDefaultReplacementYear(2024)\n",
    "\n",
    "nlpPipeline = nlp.Pipeline(stages=[\n",
    "      documentAssembler, \n",
    "      sentenceDetector,\n",
    "      tokenizer,\n",
    "      word_embeddings,\n",
    "      clinical_ner,\n",
    "      ner_converter,\n",
    "      date_normalizer_us\n",
    "      ])\n",
    "\n",
    "empty_data = spark.createDataFrame([[\"\"]]).toDF(\"text\")\n",
    "\n",
    "model = nlpPipeline.fit(empty_data)"
   ]
  },
  {
   "cell_type": "code",
   "execution_count": 15,
   "metadata": {},
   "outputs": [],
   "source": [
    "dates = [\n",
    "'08/02',\n",
    "'11/2018',\n",
    "'03/2021',\n",
    "'05 Jan',\n",
    "'01/05',\n",
    "'2022'\n",
    "]\n",
    "\n",
    "from pyspark.sql.types import StringType\n",
    "df_dates = spark.createDataFrame(dates,StringType()).toDF('text')"
   ]
  },
  {
   "cell_type": "code",
   "execution_count": 16,
   "metadata": {},
   "outputs": [],
   "source": [
    "result = model.transform(df_dates)"
   ]
  },
  {
   "cell_type": "code",
   "execution_count": 17,
   "metadata": {},
   "outputs": [
    {
     "name": "stdout",
     "output_type": "stream",
     "text": [
      "+-------+----------+------------------+\n",
      "|text   |date_chunk|normalized_date_us|\n",
      "+-------+----------+------------------+\n",
      "|08/02  |08/02     |08/02/2024        |\n",
      "|11/2018|11/2018   |11/02/2018        |\n",
      "|03/2021|03/2021   |03/02/2021        |\n",
      "|05 Jan |05 Jan    |01/05/2024        |\n",
      "|01/05  |01/05     |01/05/2024        |\n",
      "|2022   |2022      |03/02/2022        |\n",
      "+-------+----------+------------------+\n",
      "\n"
     ]
    }
   ],
   "source": [
    "result_df = result.select(\"text\",F.explode(F.arrays_zip(result.date_chunk.result, \n",
    "                                                        result.normalized_date_us.result)).alias(\"cols\")) \\\n",
    "                  .select(\"text\",F.expr(\"cols['0']\").alias(\"date_chunk\"),\n",
    "                                 F.expr(\"cols['1']\").alias(\"normalized_date_us\"))\n",
    "                  \n",
    "result_df.show(truncate=False)"
   ]
  },
  {
   "cell_type": "markdown",
   "metadata": {},
   "source": [
    "### Only date chunk"
   ]
  },
  {
   "cell_type": "markdown",
   "metadata": {},
   "source": [
    "We are going to create a chunks dates with different formats:"
   ]
  },
  {
   "cell_type": "code",
   "execution_count": 18,
   "metadata": {},
   "outputs": [],
   "source": [
    "dates = [\n",
    "'08/02/2018',\n",
    "'11/2018',\n",
    "'11/01/2018',\n",
    "'12Mar2021',\n",
    "'Jan 30, 2018',\n",
    "'13.04.1999', \n",
    "'3April 2020',\n",
    "'03/2021',\n",
    "'05 Jan',\n",
    "'01/05',\n",
    "'2022'\n",
    "]\n",
    "\n"
   ]
  },
  {
   "cell_type": "code",
   "execution_count": 19,
   "metadata": {},
   "outputs": [],
   "source": [
    "df_dates = spark.createDataFrame(dates,StringType()).toDF('ner_chunk')"
   ]
  },
  {
   "cell_type": "markdown",
   "metadata": {},
   "source": [
    "We are going to transform that text to documents in spark-nlp."
   ]
  },
  {
   "cell_type": "code",
   "execution_count": 20,
   "metadata": {},
   "outputs": [],
   "source": [
    "document_assembler = nlp.DocumentAssembler().setInputCol('ner_chunk').setOutputCol('document')\n",
    "documents_DF = document_assembler.transform(df_dates)"
   ]
  },
  {
   "cell_type": "markdown",
   "metadata": {},
   "source": [
    "After that we are going to transform that documents to chunks."
   ]
  },
  {
   "cell_type": "code",
   "execution_count": 21,
   "metadata": {},
   "outputs": [],
   "source": [
    "chunks_df = nlp.map_annotations_col(documents_DF.select(\"document\",\"ner_chunk\"),\n",
    "                    lambda x: [nlp.Annotation('chunk', a.begin, a.end, a.result, a.metadata, a.embeddings) for a in x], \"document\",\n",
    "                    \"chunk_date\", \"chunk\")"
   ]
  },
  {
   "cell_type": "code",
   "execution_count": 22,
   "metadata": {},
   "outputs": [
    {
     "name": "stderr",
     "output_type": "stream",
     "text": [
      "[Stage 22:======================================>                   (2 + 1) / 3]\r"
     ]
    },
    {
     "name": "stdout",
     "output_type": "stream",
     "text": [
      "+---------------------------------------------------+\n",
      "|chunk_date                                         |\n",
      "+---------------------------------------------------+\n",
      "|[{chunk, 0, 9, 08/02/2018, {sentence -> 0}, []}]   |\n",
      "|[{chunk, 0, 6, 11/2018, {sentence -> 0}, []}]      |\n",
      "|[{chunk, 0, 9, 11/01/2018, {sentence -> 0}, []}]   |\n",
      "|[{chunk, 0, 8, 12Mar2021, {sentence -> 0}, []}]    |\n",
      "|[{chunk, 0, 11, Jan 30, 2018, {sentence -> 0}, []}]|\n",
      "|[{chunk, 0, 9, 13.04.1999, {sentence -> 0}, []}]   |\n",
      "|[{chunk, 0, 10, 3April 2020, {sentence -> 0}, []}] |\n",
      "|[{chunk, 0, 6, 03/2021, {sentence -> 0}, []}]      |\n",
      "|[{chunk, 0, 5, 05 Jan, {sentence -> 0}, []}]       |\n",
      "|[{chunk, 0, 4, 01/05, {sentence -> 0}, []}]        |\n",
      "|[{chunk, 0, 3, 2022, {sentence -> 0}, []}]         |\n",
      "+---------------------------------------------------+\n",
      "\n"
     ]
    },
    {
     "name": "stderr",
     "output_type": "stream",
     "text": [
      "\r",
      "                                                                                \r"
     ]
    }
   ],
   "source": [
    "chunks_df.select('chunk_date').show(truncate=False)"
   ]
  },
  {
   "cell_type": "markdown",
   "metadata": {},
   "source": [
    "Now we are going to normalize those chunks using the DateNormalizer."
   ]
  },
  {
   "cell_type": "code",
   "execution_count": 23,
   "metadata": {},
   "outputs": [],
   "source": [
    "date_normalizer = medical.DateNormalizer().setInputCols('chunk_date').setOutputCol('date')"
   ]
  },
  {
   "cell_type": "code",
   "execution_count": 24,
   "metadata": {},
   "outputs": [],
   "source": [
    "date_normalized_df = date_normalizer.transform(chunks_df)"
   ]
  },
  {
   "cell_type": "markdown",
   "metadata": {},
   "source": [
    "We are going to show how the date is normalized."
   ]
  },
  {
   "cell_type": "code",
   "execution_count": 25,
   "metadata": {},
   "outputs": [
    {
     "name": "stdout",
     "output_type": "stream",
     "text": [
      "+------------+----------+--------+\n",
      "|ner_chunk   |dateresult|metadata|\n",
      "+------------+----------+--------+\n",
      "|08/02/2018  |2018/08/02|true    |\n",
      "|11/2018     |2018/11/15|true    |\n",
      "|11/01/2018  |2018/11/01|true    |\n",
      "|12Mar2021   |2021/03/12|true    |\n",
      "|Jan 30, 2018|2018/01/30|true    |\n",
      "|13.04.1999  |1999/04/13|true    |\n",
      "|3April 2020 |2020/04/03|true    |\n",
      "|03/2021     |2021/03/15|true    |\n",
      "|05 Jan      |2020/01/05|true    |\n",
      "|01/05       |2020/01/05|true    |\n",
      "|2022        |2022/06/15|true    |\n",
      "+------------+----------+--------+\n",
      "\n"
     ]
    }
   ],
   "source": [
    "dateNormalizedClean = date_normalized_df.selectExpr(\"ner_chunk\",\"date.result as dateresult\",\"date.metadata as metadata\")\n",
    "\n",
    "dateNormalizedClean.withColumn(\"dateresult\", dateNormalizedClean[\"dateresult\"]\n",
    "                               .getItem(0)).withColumn(\"metadata\", dateNormalizedClean[\"metadata\"]\n",
    "                                                       .getItem(0)['normalized']).show(truncate=False)"
   ]
  },
  {
   "cell_type": "markdown",
   "metadata": {
    "id": "dwgt4QtgSf6g"
   },
   "source": [
    "## **Relative Date**\n",
    "\n",
    "We can configure the `anchorDateYear`,`anchorDateMonth` and `anchorDateDay` for the relatives dates."
   ]
  },
  {
   "cell_type": "code",
   "execution_count": 26,
   "metadata": {
    "id": "gxHErp-K7ssl"
   },
   "outputs": [],
   "source": [
    "rel_dates = [\n",
    "'next monday',\n",
    "'today',\n",
    "'next week'\n",
    "]\n",
    "\n",
    "rel_dates_df = spark.createDataFrame(rel_dates,StringType()).toDF('ner_chunk')"
   ]
  },
  {
   "cell_type": "code",
   "execution_count": 27,
   "metadata": {
    "id": "JN4QVnrD7ssu"
   },
   "outputs": [],
   "source": [
    "rel_documents_DF = document_assembler.transform(rel_dates_df)\n",
    "\n",
    "rel_chunks_df = nlp.map_annotations_col(rel_documents_DF.select(\"document\",\"ner_chunk\"),\n",
    "                    lambda x: [nlp.Annotation('chunk', a.begin, a.end, a.result, a.metadata, a.embeddings) for a in x], \"document\",\n",
    "                    \"chunk_date\", \"chunk\")"
   ]
  },
  {
   "cell_type": "code",
   "execution_count": 28,
   "metadata": {
    "colab": {
     "base_uri": "https://localhost:8080/"
    },
    "executionInfo": {
     "elapsed": 1052,
     "status": "ok",
     "timestamp": 1649503867235,
     "user": {
      "displayName": "Damla",
      "userId": "03285166568766987047"
     },
     "user_tz": -120
    },
    "id": "QYnWQMSj7ssw",
    "outputId": "b3b1a223-552f-4722-e05c-66028fe0ca0d"
   },
   "outputs": [
    {
     "name": "stderr",
     "output_type": "stream",
     "text": [
      "\r",
      "[Stage 27:===========================================>              (3 + 1) / 4]\r"
     ]
    },
    {
     "name": "stdout",
     "output_type": "stream",
     "text": [
      "+--------------------------------------------------+\n",
      "|chunk_date                                        |\n",
      "+--------------------------------------------------+\n",
      "|[{chunk, 0, 10, next monday, {sentence -> 0}, []}]|\n",
      "|[{chunk, 0, 4, today, {sentence -> 0}, []}]       |\n",
      "|[{chunk, 0, 8, next week, {sentence -> 0}, []}]   |\n",
      "+--------------------------------------------------+\n",
      "\n"
     ]
    },
    {
     "name": "stderr",
     "output_type": "stream",
     "text": [
      "\r",
      "                                                                                \r"
     ]
    }
   ],
   "source": [
    "rel_chunks_df.select('chunk_date').show(truncate=False)"
   ]
  },
  {
   "cell_type": "markdown",
   "metadata": {
    "id": "-WrTv3SLTIe7"
   },
   "source": [
    "In the following example we will use as a relative date 2021/02/15, to make that possible we need to set up the `anchorDateYear` to 2021, the `anchorDateMonth` to 2 and the `anchorDateDay` to 16. We will show you the configuration with the following example."
   ]
  },
  {
   "cell_type": "code",
   "execution_count": 29,
   "metadata": {
    "id": "zttFZDgJSdZi"
   },
   "outputs": [],
   "source": [
    "rel_date_normalizer = medical.DateNormalizer()\\\n",
    "                        .setInputCols('chunk_date')\\\n",
    "                        .setOutputCol('date')\\\n",
    "                        .setAnchorDateDay(16)\\\n",
    "                        .setAnchorDateMonth(2)\\\n",
    "                        .setAnchorDateYear(2021)"
   ]
  },
  {
   "cell_type": "code",
   "execution_count": 30,
   "metadata": {
    "colab": {
     "base_uri": "https://localhost:8080/"
    },
    "executionInfo": {
     "elapsed": 1276,
     "status": "ok",
     "timestamp": 1649503893141,
     "user": {
      "displayName": "Damla",
      "userId": "03285166568766987047"
     },
     "user_tz": -120
    },
    "id": "HvBFcvVnUge3",
    "outputId": "e89b0a6e-9603-41ee-b4db-8cbc3b809361"
   },
   "outputs": [
    {
     "name": "stdout",
     "output_type": "stream",
     "text": [
      "+-----------+----------+--------+\n",
      "|ner_chunk  |dateresult|metadata|\n",
      "+-----------+----------+--------+\n",
      "|next monday|2021/02/22|true    |\n",
      "|today      |2021/02/16|true    |\n",
      "|next week  |2021/02/23|true    |\n",
      "+-----------+----------+--------+\n",
      "\n"
     ]
    }
   ],
   "source": [
    "rel_date_normalized_df = rel_date_normalizer.transform(rel_chunks_df)\n",
    "relDateNormalizedClean = rel_date_normalized_df.selectExpr(\"ner_chunk\",\"date.result as dateresult\",\"date.metadata as metadata\")\n",
    "relDateNormalizedClean.withColumn(\"dateresult\", relDateNormalizedClean[\"dateresult\"].getItem(0))\\\n",
    "                      .withColumn(\"metadata\", relDateNormalizedClean[\"metadata\"].getItem(0)['normalized']).show(truncate=False)"
   ]
  },
  {
   "cell_type": "markdown",
   "metadata": {
    "id": "HiQke1C2VGuH"
   },
   "source": [
    "As you see the relatives dates like `next monday` , `today` and `next week` takes the `2021/02/16` as reference date.\n"
   ]
  }
 ],
 "metadata": {
  "colab": {
   "collapsed_sections": [],
   "provenance": []
  },
  "kernelspec": {
   "display_name": "jsl4.2.3",
   "language": "python",
   "name": "jsl4.2.3"
  },
  "language_info": {
   "codemirror_mode": {
    "name": "ipython",
    "version": 3
   },
   "file_extension": ".py",
   "mimetype": "text/x-python",
   "name": "python",
   "nbconvert_exporter": "python",
   "pygments_lexer": "ipython3",
   "version": "3.8.10"
  }
 },
 "nbformat": 4,
 "nbformat_minor": 4
}

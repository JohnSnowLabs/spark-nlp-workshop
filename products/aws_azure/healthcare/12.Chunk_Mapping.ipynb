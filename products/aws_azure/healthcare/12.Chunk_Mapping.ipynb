{
    "cells": [
        {
            "cell_type": "markdown",
            "metadata": {
                "id": "BfzsuGYbvEGN"
            },
            "source": [
                "![JohnSnowLabs](https://nlp.johnsnowlabs.com/assets/images/logo.png)"
            ]
        },
        {
            "cell_type": "markdown",
            "metadata": {
                "id": "Rx8ANMi103y2"
            },
            "source": [
                "# **Chunk Mapping**"
            ]
        },
        {
            "cell_type": "markdown",
            "metadata": {
                "id": "-DggoJ4cvwsP"
            },
            "source": [
                "## **Setup**"
            ]
        },
        {
            "cell_type": "code",
            "execution_count": null,
            "metadata": {
                "id": "YvYsq4B1u8A6"
            },
            "outputs": [],
            "source": [
                "import json\n",
                "import os\n",
                "\n",
                "import sparknlp\n",
                "import sparknlp_jsl\n",
                "\n",
                "from sparknlp.base import *\n",
                "from sparknlp.annotator import *\n",
                "from sparknlp_jsl.annotator import *\n",
                "\n",
                "from pyspark.sql import SparkSession\n",
                "from pyspark.sql import functions as F\n",
                "from pyspark.ml import Pipeline,PipelineModel\n",
                "\n",
                "import warnings\n",
                "warnings.filterwarnings('ignore')\n",
                "os.environ['TF_CPP_MIN_LOG_LEVEL'] = '3' \n",
                "\n",
                "print(\"Spark NLP Version :\", sparknlp.version())\n",
                "print(\"Spark NLP_JSL Version :\", sparknlp_jsl.version())\n",
                "\n",
                "spark = start_spark()\n",
                "spark.sparkContext.setLogLevel(\"ERROR\")\n",
                "\n",
                "spark"
            ]
        },
        {
            "cell_type": "markdown",
            "metadata": {
                "id": "H7Go2B1RvP0C"
            },
            "source": [
                "# **1- Pretrained Chunk Mapper Models and Pretrained Pipelines**"
            ]
        },
        {
            "cell_type": "markdown",
            "metadata": {
                "id": "RjnUYOjvbVEc"
            },
            "source": [
                "**<center>MAPPER MODELS**\n",
                "\n",
                "| Mapper Model Name                | Relation Values          |\n",
                "|-|-|\n",
                "| drug_action_treatment_mapper     | action, treatment        |\n",
                "| normalized_section_header_mapper | level_1, level_2         |\n",
                "| drug_brandname_ndc_mapper        | Strength_NDC             |\n",
                "| rxnorm_ndc_mapper                | Product NDC, Package NDC |\n",
                "| rxnorm_action_treatment_mapper   | Action, Treatment        |\n",
                "| abbreviation_mapper              | definition               |\n",
                "| rxnorm_mapper                    | rxnorm_code              |\n",
                "| snomed_icd10cm_mapper|\ticd10cm_code |\n",
                "| icd10cm_snomed_mapper|\tsnomed_code |\n",
                "| snomed_icdo_mapper|\ticdo_code|\n",
                "| icdo_snomed_mapper|\tsnomed_code|\n",
                "| rxnorm_umls_mapper|\tumls_code|\n",
                "| icd10cm_umls_mapper|\tumls_code|\n",
                "| mesh_umls_mapper|\tumls_code|\n",
                "| snomed_umls_mapper| umls_code|       \n",
                "\n",
                "<br>\n",
                "\n",
                "**<center>PRETRAINED MAPPER PIPELINES**\n",
                "\n",
                "| Pipeline Name          \t| Source    \t| Target    \t|\n",
                "|------------------------\t|-----------\t|-----------\t|\n",
                "| icd10cm_snomed_mapping \t| ICD-10-CM \t| SNOMED CT \t|\n",
                "| snomed_icd10cm_mapping \t| SNOMED CT \t| ICD-10-CM \t|\n",
                "| icdo_snomed_mapping    \t| ICD-O     \t| SNOMED CT \t|\n",
                "| snomed_icdo_mapping    \t| SNOMED CT \t| ICD-O     \t|\n",
                "| rxnorm_ndc_mapping     \t| RxNorm    \t| NDC       \t|\n",
                "| icd10cm_umls_mapping   \t| ICD-10-CM \t| UMLS      \t|\n",
                "| mesh_umls_mapping      \t| MeSH      \t| UMLS      \t|\n",
                "| rxnorm_umls_mapping    \t| RxNorm    \t| UMLS      \t|\n",
                "| snomed_umls_mapping    \t| SOMED CT  \t| UMLS      \t|\n",
                "| icd10_icd9_mapping        | ICD-10-CM     | ICD-9         |\n",
                "\n",
                "You can check [Healthcare Code Mapping Notebook](https://github.com/JohnSnowLabs/spark-nlp-workshop/blob/master/tutorials/Certification_Trainings/Healthcare/11.1.Healthcare_Code_Mapping.ipynb) for the examples of pretrained mapper pipelines."
            ]
        },
        {
            "cell_type": "markdown",
            "metadata": {
                "id": "tun6FxO1V443"
            },
            "source": [
                "## **1.1- Drug Action Treatment Mapper**"
            ]
        },
        {
            "cell_type": "markdown",
            "metadata": {
                "id": "NbpIBoXl94ii"
            },
            "source": [
                "Pretrained `drug_action_treatment_mapper` model maps drugs with their corresponding `action` and `treatment` through `ChunkMapperModel()` annotator. <br/>\n",
                "\n",
                "\n",
                "**Action** of drug refers to the function of a drug in various body systems. <br/>\n",
                "**Treatment** refers to which disease the drug is used to treat. \n",
                "\n",
                "We can choose which option we want to use by setting `setRel()` parameter of `ChunkMapperModel()`\n",
                " "
            ]
        },
        {
            "cell_type": "markdown",
            "metadata": {
                "id": "rioaJXFnS-q2"
            },
            "source": [
                "We will create a pipeline consisting `bert_token_classifier_drug_development_trials` ner model to extract ner chunk as well as `ChunkMapperModel()`. <br/>\n",
                " Also, we will set the `.setRel()` parameter with `action` and see the results. "
            ]
        },
        {
            "cell_type": "code",
            "execution_count": null,
            "metadata": {
                "colab": {
                    "base_uri": "https://localhost:8080/"
                },
                "id": "LDE0GMq8xYin",
                "outputId": "e8a088c0-bdea-4a08-8fcc-2dcb7eede255"
            },
            "outputs": [
                {
                    "name": "stdout",
                    "output_type": "stream",
                    "text": [
                        "bert_token_classifier_drug_development_trials download started this may take some time.\n",
                        "[OK!]\n",
                        "drug_action_treatment_mapper download started this may take some time.\n",
                        "[OK!]\n"
                    ]
                }
            ],
            "source": [
                "#ChunkMapper Pipeline\n",
                "document_assembler = DocumentAssembler()\\\n",
                "      .setInputCol('text')\\\n",
                "      .setOutputCol('document')\n",
                "\n",
                "sentence_detector = SentenceDetector()\\\n",
                "      .setInputCols([\"document\"])\\\n",
                "      .setOutputCol(\"sentence\")\n",
                "\n",
                "tokenizer = Tokenizer()\\\n",
                "      .setInputCols(\"sentence\")\\\n",
                "      .setOutputCol(\"token\")\n",
                "\n",
                "ner =  MedicalBertForTokenClassifier.pretrained(\"bert_token_classifier_drug_development_trials\", \"en\", \"clinical/models\")\\\n",
                "      .setInputCols(\"token\",\"sentence\")\\\n",
                "      .setOutputCol(\"ner\")\n",
                "\n",
                "nerconverter = NerConverter()\\\n",
                "      .setInputCols(\"sentence\", \"token\", \"ner\")\\\n",
                "      .setOutputCol(\"ner_chunk\")\n",
                "\n",
                "#drug_action_treatment_mapper with \"action\" mappings\n",
                "chunkerMapper= ChunkMapperModel().pretrained(\"drug_action_treatment_mapper\", \"en\", \"clinical/models\")\\\n",
                "    .setInputCols([\"ner_chunk\"])\\\n",
                "    .setOutputCol(\"action_mappings\")\\\n",
                "    .setRel(\"action\")\n",
                "    \n",
                "\n",
                "pipeline = Pipeline().setStages([document_assembler,\n",
                "                                 sentence_detector,\n",
                "                                 tokenizer,\n",
                "                                 ner, \n",
                "                                 nerconverter, \n",
                "                                 chunkerMapper])\n",
                "\n",
                "text = [\n",
                "    [\"\"\"The patient was female and patient of Dr. X. and she was given Dermovate, Aspagin\"\"\"]\n",
                "]\n",
                "\n",
                "\n",
                "test_data = spark.createDataFrame(text).toDF(\"text\")\n",
                "\n",
                "res = pipeline.fit(test_data).transform(test_data)"
            ]
        },
        {
            "cell_type": "markdown",
            "metadata": {
                "id": "0jetN39Hzj63"
            },
            "source": [
                "Chunks detected by ner model"
            ]
        },
        {
            "cell_type": "code",
            "execution_count": null,
            "metadata": {
                "colab": {
                    "base_uri": "https://localhost:8080/"
                },
                "id": "EDwLFe-QxYdr",
                "outputId": "e85d1ed6-15f3-44cc-c215-d8baeedffb84"
            },
            "outputs": [
                {
                    "name": "stdout",
                    "output_type": "stream",
                    "text": [
                        "+---------+\n",
                        "|chunks   |\n",
                        "+---------+\n",
                        "|Dermovate|\n",
                        "|Aspagin  |\n",
                        "+---------+\n",
                        "\n"
                    ]
                }
            ],
            "source": [
                "res.select(F.explode('ner_chunk.result').alias(\"chunks\")).show(truncate=False)"
            ]
        },
        {
            "cell_type": "markdown",
            "metadata": {
                "id": "lCLMKbAOTqTl"
            },
            "source": [
                "Checking mapping results"
            ]
        },
        {
            "cell_type": "code",
            "execution_count": null,
            "metadata": {
                "colab": {
                    "base_uri": "https://localhost:8080/"
                },
                "id": "qAFTxkiaXNTs",
                "outputId": "ae101e1a-d51c-403a-e25a-cdd659ea1d96"
            },
            "outputs": [
                {
                    "name": "stdout",
                    "output_type": "stream",
                    "text": [
                        "+------------------------------+\n",
                        "|result                        |\n",
                        "+------------------------------+\n",
                        "|[Anti-Inflammatory, Analgesic]|\n",
                        "+------------------------------+\n",
                        "\n"
                    ]
                }
            ],
            "source": [
                "res.select(\"action_mappings.result\").show(truncate=False)"
            ]
        },
        {
            "cell_type": "code",
            "execution_count": null,
            "metadata": {
                "colab": {
                    "base_uri": "https://localhost:8080/"
                },
                "id": "yFcIWEa7BSXV",
                "outputId": "d5b17b11-52c5-4ae7-9208-b9e32c751484"
            },
            "outputs": [
                {
                    "name": "stdout",
                    "output_type": "stream",
                    "text": [
                        "+-------------------------------------------------------------------------------------------------------------------------------------------------------------------------------------------------------------------------------------------------------------------------------------------------------------------------------+\n",
                        "|metadata                                                                                                                                                                                                                                                                                                                       |\n",
                        "+-------------------------------------------------------------------------------------------------------------------------------------------------------------------------------------------------------------------------------------------------------------------------------------------------------------------------------+\n",
                        "|[{chunk -> 0, relation -> action, confidence -> 0.99681437, all_relations -> Corticosteroids::: Dermatological Preparations:::Very Strong, entity -> Dermovate, sentence -> 0}, {chunk -> 1, relation -> action, confidence -> 0.95389867, all_relations -> Anti-Inflammatory:::Antipyretic, entity -> Aspagin, sentence -> 0}]|\n",
                        "+-------------------------------------------------------------------------------------------------------------------------------------------------------------------------------------------------------------------------------------------------------------------------------------------------------------------------------+\n",
                        "\n"
                    ]
                }
            ],
            "source": [
                "res.selectExpr(\"action_mappings.metadata\").show(truncate=False)"
            ]
        },
        {
            "cell_type": "markdown",
            "metadata": {
                "id": "T25yMbYkVVKI"
            },
            "source": [
                "As you see above under the ***metadata*** column, if exist, we can see all the relations for each chunk. <br/>\n"
            ]
        },
        {
            "cell_type": "code",
            "execution_count": null,
            "metadata": {
                "colab": {
                    "base_uri": "https://localhost:8080/"
                },
                "id": "j3kYyv-OX-QM",
                "outputId": "20adfd0d-69de-444d-a376-12d3afac4608"
            },
            "outputs": [
                {
                    "name": "stdout",
                    "output_type": "stream",
                    "text": [
                        "+---------+-----------------+------------------------------------------------------------+\n",
                        "|ner_chunk|mapping_result   |all_relations                                               |\n",
                        "+---------+-----------------+------------------------------------------------------------+\n",
                        "|Dermovate|Anti-Inflammatory|Corticosteroids::: Dermatological Preparations:::Very Strong|\n",
                        "|Aspagin  |Analgesic        |Anti-Inflammatory:::Antipyretic                             |\n",
                        "+---------+-----------------+------------------------------------------------------------+\n",
                        "\n"
                    ]
                }
            ],
            "source": [
                "res.select(F.explode(F.arrays_zip(res.ner_chunk.result, \n",
                "                                  res.action_mappings.result, \n",
                "                                  res.action_mappings.metadata)).alias(\"col\"))\\\n",
                "    .select(F.expr(\"col['0']\").alias(\"ner_chunk\"),\n",
                "            F.expr(\"col['1']\").alias(\"mapping_result\"),\n",
                "            F.expr(\"col['2']['all_relations']\").alias(\"all_relations\")).show(truncate=False)"
            ]
        },
        {
            "cell_type": "markdown",
            "metadata": {
                "id": "YsTnjIm90IT7"
            },
            "source": [
                "Now, let's set the `.setRel(\"treatment\")` and see the results. "
            ]
        },
        {
            "cell_type": "code",
            "execution_count": null,
            "metadata": {
                "colab": {
                    "base_uri": "https://localhost:8080/"
                },
                "id": "2UQk9dIKzp_v",
                "outputId": "b36d99b4-83b2-483d-a6fa-834564fbe479"
            },
            "outputs": [
                {
                    "name": "stdout",
                    "output_type": "stream",
                    "text": [
                        "drug_action_treatment_mapper download started this may take some time.\n",
                        "Approximate size to download 8.3 MB\n",
                        "[OK!]\n"
                    ]
                }
            ],
            "source": [
                "#drug_action_treatment_mapper with \"treatment\" mappings\n",
                "chunkerMapper= ChunkMapperModel().pretrained(\"drug_action_treatment_mapper\", \"en\", \"clinical/models\")\\\n",
                "    .setInputCols([\"ner_chunk\"])\\\n",
                "    .setOutputCol(\"action_mappings\")\\\n",
                "    .setRel(\"treatment\")\n",
                "\n",
                "pipeline = Pipeline().setStages([document_assembler,\n",
                "                                 sentence_detector,\n",
                "                                 tokenizer,\n",
                "                                 ner, \n",
                "                                 nerconverter, \n",
                "                                 chunkerMapper])\n",
                "\n",
                "text = [\n",
                "    [\"\"\"The patient was female and patient of Dr. X. and she was given Dermovate, Aspagin\"\"\"]\n",
                "]\n",
                "\n",
                "test_data = spark.createDataFrame(text).toDF(\"text\")\n",
                "\n",
                "res = pipeline.fit(test_data).transform(test_data)\n"
            ]
        },
        {
            "cell_type": "code",
            "execution_count": null,
            "metadata": {
                "colab": {
                    "base_uri": "https://localhost:8080/"
                },
                "id": "WIa_Lioxzp5V",
                "outputId": "88cf7db7-f893-46a2-c5e2-bf6da2158e3e"
            },
            "outputs": [
                {
                    "name": "stdout",
                    "output_type": "stream",
                    "text": [
                        "+---------+\n",
                        "|chunks   |\n",
                        "+---------+\n",
                        "|Dermovate|\n",
                        "|Aspagin  |\n",
                        "+---------+\n",
                        "\n"
                    ]
                }
            ],
            "source": [
                "res.select(F.explode('ner_chunk.result').alias(\"chunks\")).show(truncate=False)"
            ]
        },
        {
            "cell_type": "code",
            "execution_count": null,
            "metadata": {
                "colab": {
                    "base_uri": "https://localhost:8080/"
                },
                "id": "J6YxxPlOSGAF",
                "outputId": "88daa7bc-a497-4285-a1a5-0595dc2be060"
            },
            "outputs": [
                {
                    "name": "stdout",
                    "output_type": "stream",
                    "text": [
                        "+----------------------------------------------------------------------------------------------------------------------------------------------------------------------------------------------------------------------------------------------------------------------------------------------------------------------------------------------------------------------------------------------------------------------------------------------------------------------------------------------------------------------------+\n",
                        "|metadata                                                                                                                                                                                                                                                                                                                                                                                                                                                                                                                    |\n",
                        "+----------------------------------------------------------------------------------------------------------------------------------------------------------------------------------------------------------------------------------------------------------------------------------------------------------------------------------------------------------------------------------------------------------------------------------------------------------------------------------------------------------------------------+\n",
                        "|[{chunk -> 0, relation -> treatment, confidence -> 0.99681437, all_relations -> Discoid Lupus Erythematosus:::Empeines:::Psoriasis:::Eczema, entity -> Dermovate, sentence -> 0}, {chunk -> 1, relation -> treatment, confidence -> 0.95389867, all_relations -> Arthralgia:::Pain:::Bursitis:::Headache:::Migraine:::Myositis:::Neuralgia:::Osteoarthritis:::Gout:::Rheumatoid Arthritis:::Spondylitis:::Spondyloarthritis:::Tendinitis:::Tenosynovitis:::Crush Injury:::Golfer'S Elbow, entity -> Aspagin, sentence -> 0}]|\n",
                        "+----------------------------------------------------------------------------------------------------------------------------------------------------------------------------------------------------------------------------------------------------------------------------------------------------------------------------------------------------------------------------------------------------------------------------------------------------------------------------------------------------------------------------+\n",
                        "\n"
                    ]
                }
            ],
            "source": [
                "res.selectExpr(\"action_mappings.metadata\").show(truncate=False)"
            ]
        },
        {
            "cell_type": "markdown",
            "metadata": {
                "id": "YFpNGIVzWNl1"
            },
            "source": [
                "Here are the ***treatment*** mappings and all relations under the metadata column. "
            ]
        },
        {
            "cell_type": "code",
            "execution_count": null,
            "metadata": {
                "colab": {
                    "base_uri": "https://localhost:8080/"
                },
                "id": "gftZgABhSFtq",
                "outputId": "e57260a2-0159-4dbf-e2c3-4740dce342da"
            },
            "outputs": [
                {
                    "name": "stdout",
                    "output_type": "stream",
                    "text": [
                        "+---------+----------------------+-----------------------------------------------------------------------------------------------------------------------------------------------------------------------------------------------------------------------+\n",
                        "|ner_chunk|mapping_result        |all_relations                                                                                                                                                                                                          |\n",
                        "+---------+----------------------+-----------------------------------------------------------------------------------------------------------------------------------------------------------------------------------------------------------------------+\n",
                        "|Dermovate|Lupus                 |Discoid Lupus Erythematosus:::Empeines:::Psoriasis:::Eczema                                                                                                                                                            |\n",
                        "|Aspagin  |Ankylosing Spondylitis|Arthralgia:::Pain:::Bursitis:::Headache:::Migraine:::Myositis:::Neuralgia:::Osteoarthritis:::Gout:::Rheumatoid Arthritis:::Spondylitis:::Spondyloarthritis:::Tendinitis:::Tenosynovitis:::Crush Injury:::Golfer'S Elbow|\n",
                        "+---------+----------------------+-----------------------------------------------------------------------------------------------------------------------------------------------------------------------------------------------------------------------+\n",
                        "\n"
                    ]
                }
            ],
            "source": [
                "res.select(F.explode(F.arrays_zip(res.ner_chunk.result, \n",
                "                                  res.action_mappings.result, \n",
                "                                  res.action_mappings.metadata)).alias(\"col\"))\\\n",
                "    .select(F.expr(\"col['0']\").alias(\"ner_chunk\"),\n",
                "            F.expr(\"col['1']\").alias(\"mapping_result\"),\n",
                "            F.expr(\"col['2']['all_relations']\").alias(\"all_relations\")).show(truncate=False)"
            ]
        },
        {
            "cell_type": "markdown",
            "metadata": {
                "id": "iQMHFp1TvRVX"
            },
            "source": [
                "## **1.2- Section Header Normalizer Mapper**"
            ]
        },
        {
            "cell_type": "markdown",
            "metadata": {
                "id": "tue53lJXvfdK"
            },
            "source": [
                "We have `normalized_section_header_mapper` model that normalizes the section headers in clinical notes. It returns two levels of normalization called `level_1` and `level_2`. <br/>\n",
                "\n",
                "**level_1** refers to the most comprehensive \"section header\" for the corresponding chunk while **level_2** refers to the second comprehensive one.\n",
                "\n",
                "Let's create a piepline with `normalized_section_header_mapper` and see how it works"
            ]
        },
        {
            "cell_type": "code",
            "execution_count": null,
            "metadata": {
                "colab": {
                    "base_uri": "https://localhost:8080/"
                },
                "id": "26Ih_X1JvSV_",
                "outputId": "5d14605a-34bf-468e-965f-aeef3e3e5538"
            },
            "outputs": [
                {
                    "name": "stdout",
                    "output_type": "stream",
                    "text": [
                        "embeddings_clinical download started this may take some time.\n",
                        "Approximate size to download 1.6 GB\n",
                        "[OK!]\n",
                        "ner_jsl_slim download started this may take some time.\n",
                        "Approximate size to download 14.4 MB\n",
                        "[OK!]\n",
                        "normalized_section_header_mapper download started this may take some time.\n",
                        "Approximate size to download 13.9 KB\n",
                        "[OK!]\n"
                    ]
                }
            ],
            "source": [
                "document_assembler = DocumentAssembler()\\\n",
                "       .setInputCol('text')\\\n",
                "       .setOutputCol('document')\n",
                "\n",
                "sentence_detector = SentenceDetector()\\\n",
                "       .setInputCols([\"document\"])\\\n",
                "       .setOutputCol(\"sentence\")\n",
                "\n",
                "tokenizer = Tokenizer()\\\n",
                "      .setInputCols(\"sentence\")\\\n",
                "      .setOutputCol(\"token\")\n",
                "\n",
                "embeddings = WordEmbeddingsModel.pretrained(\"embeddings_clinical\", \"en\",\"clinical/models\")\\\n",
                "      .setInputCols([\"sentence\", \"token\"])\\\n",
                "      .setOutputCol(\"word_embeddings\")\n",
                "\n",
                "clinical_ner = MedicalNerModel.pretrained(\"ner_jsl_slim\", \"en\", \"clinical/models\")\\\n",
                "      .setInputCols([\"sentence\",\"token\", \"word_embeddings\"])\\\n",
                "      .setOutputCol(\"ner\")\n",
                "\n",
                "ner_converter = NerConverter()\\\n",
                "      .setInputCols([\"sentence\", \"token\", \"ner\"])\\\n",
                "      .setOutputCol(\"ner_chunk\")\\\n",
                "      .setWhiteList([\"Header\"])\n",
                "\n",
                "chunkerMapper = ChunkMapperModel.pretrained(\"normalized_section_header_mapper\", \"en\", \"clinical/models\") \\\n",
                "       .setInputCols(\"ner_chunk\")\\\n",
                "       .setOutputCol(\"mappings\")\\\n",
                "       .setRel(\"level_1\") #or level_2\n",
                "\n",
                "pipeline = Pipeline().setStages([document_assembler,\n",
                "                                sentence_detector,\n",
                "                                tokenizer, \n",
                "                                embeddings,\n",
                "                                clinical_ner, \n",
                "                                ner_converter, \n",
                "                                chunkerMapper])\n",
                "\n",
                "sentences = [\n",
                "    [\"\"\"ADMISSION DIAGNOSIS Right pleural effusion and suspected malignant mesothelioma.\n",
                "        PRINCIPAL DIAGNOSIS Right pleural effusion, suspected malignant mesothelioma.\n",
                "        GENERAL REVIEW Right pleural effusion, firm nodules, diffuse scattered throughout the right pleura and diaphragmatic surface.\n",
                "    \"\"\"]]\n",
                "\n",
                "test_data = spark.createDataFrame(sentences).toDF(\"text\")\n",
                "res = pipeline.fit(test_data).transform(test_data)"
            ]
        },
        {
            "cell_type": "markdown",
            "metadata": {
                "id": "3fTn2JPWyxOk"
            },
            "source": [
                "Checking the headers detected by ner model"
            ]
        },
        {
            "cell_type": "code",
            "execution_count": null,
            "metadata": {
                "colab": {
                    "base_uri": "https://localhost:8080/"
                },
                "id": "QfgyrLomxXv_",
                "outputId": "345757b8-4b6b-43ff-a0ca-aff024adbd65"
            },
            "outputs": [
                {
                    "name": "stdout",
                    "output_type": "stream",
                    "text": [
                        "+-------------------+\n",
                        "|chunks             |\n",
                        "+-------------------+\n",
                        "|ADMISSION DIAGNOSIS|\n",
                        "|PRINCIPAL DIAGNOSIS|\n",
                        "|GENERAL REVIEW     |\n",
                        "+-------------------+\n",
                        "\n"
                    ]
                }
            ],
            "source": [
                "res.select(F.explode('ner_chunk.result').alias(\"chunks\")).show(truncate=False)"
            ]
        },
        {
            "cell_type": "markdown",
            "metadata": {
                "id": "6pv_4VLWzFw0"
            },
            "source": [
                "Checking mapping results"
            ]
        },
        {
            "cell_type": "code",
            "execution_count": null,
            "metadata": {
                "colab": {
                    "base_uri": "https://localhost:8080/"
                },
                "id": "LYZdPVHwxXr9",
                "outputId": "5c43f991-96f8-415d-a13d-4cf09265acd0"
            },
            "outputs": [
                {
                    "name": "stdout",
                    "output_type": "stream",
                    "text": [
                        "+-----------------------------------+\n",
                        "|result                             |\n",
                        "+-----------------------------------+\n",
                        "|[DIAGNOSIS, DIAGNOSIS, REVIEW TYPE]|\n",
                        "+-----------------------------------+\n",
                        "\n"
                    ]
                }
            ],
            "source": [
                "res.select(\"mappings.result\").show(truncate=False)"
            ]
        },
        {
            "cell_type": "code",
            "execution_count": null,
            "metadata": {
                "colab": {
                    "base_uri": "https://localhost:8080/"
                },
                "id": "cqgpO0ANvSOu",
                "outputId": "d7c86a33-102c-444b-d491-ed9c1aaf3953"
            },
            "outputs": [
                {
                    "name": "stdout",
                    "output_type": "stream",
                    "text": [
                        "+-------------------+--------------+\n",
                        "|ner_chunk          |mapping_result|\n",
                        "+-------------------+--------------+\n",
                        "|ADMISSION DIAGNOSIS|DIAGNOSIS     |\n",
                        "|PRINCIPAL DIAGNOSIS|DIAGNOSIS     |\n",
                        "|GENERAL REVIEW     |REVIEW TYPE   |\n",
                        "+-------------------+--------------+\n",
                        "\n"
                    ]
                }
            ],
            "source": [
                "res.select(F.explode(F.arrays_zip(res.ner_chunk.result, \n",
                "                                  res.mappings.result)).alias(\"col\"))\\\n",
                "    .select(F.expr(\"col['0']\").alias(\"ner_chunk\"),\n",
                "            F.expr(\"col['1']\").alias(\"mapping_result\")).show(truncate=False)"
            ]
        },
        {
            "cell_type": "markdown",
            "metadata": {
                "id": "w5OHH23MzjDl"
            },
            "source": [
                "As you see above, we can see the \"level_1\" based normalized version of each section header."
            ]
        },
        {
            "cell_type": "markdown",
            "metadata": {
                "id": "KIUlv3Ka_iwy"
            },
            "source": [
                "## **1.3- Drug Brand Name NDC Mapper**"
            ]
        },
        {
            "cell_type": "markdown",
            "metadata": {
                "id": "JfYOYPF0ALiH"
            },
            "source": [
                "We have `drug_brandname_ndc_mapper` model that maps drug brand names to corresponding National Drug Codes (NDC). Product NDCs for each strength are returned in result and metadata. <br/>\n",
                "\n",
                "It has one relation type called `Strength_NDC`"
            ]
        },
        {
            "cell_type": "markdown",
            "metadata": {
                "id": "nsdyOYV1DHdU"
            },
            "source": [
                "Let's create a pipeline with `drug_brandname_ndc_mapper` and see how it works."
            ]
        },
        {
            "cell_type": "code",
            "execution_count": null,
            "metadata": {
                "colab": {
                    "base_uri": "https://localhost:8080/"
                },
                "id": "6wGtPSK4_ikU",
                "outputId": "66f9f19f-c9b6-49bc-bb80-41187e2af869"
            },
            "outputs": [
                {
                    "name": "stdout",
                    "output_type": "stream",
                    "text": [
                        "drug_brandname_ndc_mapper download started this may take some time.\n",
                        "[OK!]\n"
                    ]
                }
            ],
            "source": [
                "document_assembler = DocumentAssembler()\\\n",
                "      .setInputCol(\"text\")\\\n",
                "      .setOutputCol(\"chunk\")\n",
                "\n",
                "chunkerMapper = ChunkMapperModel.pretrained(\"drug_brandname_ndc_mapper\", \"en\", \"clinical/models\")\\\n",
                "      .setInputCols([\"chunk\"])\\\n",
                "      .setOutputCol(\"ndc\")\\\n",
                "      .setRel(\"Strength_NDC\") \n",
                "\n",
                "pipeline = Pipeline().setStages([document_assembler,\n",
                "                                 chunkerMapper])  \n",
                "\n",
                "model = pipeline.fit(spark.createDataFrame([['']]).toDF('text')) \n",
                "\n",
                "lp = LightPipeline(model)\n",
                "\n",
                "res = lp.fullAnnotate([\"zytiga\", \"zyvana\", \"ZYVOX\", \"ZYTIGA\"])"
            ]
        },
        {
            "cell_type": "markdown",
            "metadata": {
                "id": "9fdHJi2zDSww"
            },
            "source": [
                "Checking mapping results"
            ]
        },
        {
            "cell_type": "code",
            "execution_count": null,
            "metadata": {
                "colab": {
                    "base_uri": "https://localhost:8080/",
                    "height": 173
                },
                "id": "98Najib1Aoba",
                "outputId": "b2619369-6354-4136-8333-0b1b3e68db39"
            },
            "outputs": [
                {
                    "data": {
                        "text/html": [
                            "\n",
                            "  <div id=\"df-43b1b218-c260-4575-b716-c556d2a40452\">\n",
                            "    <div class=\"colab-df-container\">\n",
                            "      <div>\n",
                            "<style scoped>\n",
                            "    .dataframe tbody tr th:only-of-type {\n",
                            "        vertical-align: middle;\n",
                            "    }\n",
                            "\n",
                            "    .dataframe tbody tr th {\n",
                            "        vertical-align: top;\n",
                            "    }\n",
                            "\n",
                            "    .dataframe thead th {\n",
                            "        text-align: right;\n",
                            "    }\n",
                            "</style>\n",
                            "<table border=\"1\" class=\"dataframe\">\n",
                            "  <thead>\n",
                            "    <tr style=\"text-align: right;\">\n",
                            "      <th></th>\n",
                            "      <th>Brand_Name</th>\n",
                            "      <th>Strenth_NDC</th>\n",
                            "      <th>Other_NDC</th>\n",
                            "    </tr>\n",
                            "  </thead>\n",
                            "  <tbody>\n",
                            "    <tr>\n",
                            "      <th>0</th>\n",
                            "      <td>zytiga</td>\n",
                            "      <td>500 mg/1 | 57894-195</td>\n",
                            "      <td>250 mg/1 | 57894-150</td>\n",
                            "    </tr>\n",
                            "    <tr>\n",
                            "      <th>1</th>\n",
                            "      <td>zyvana</td>\n",
                            "      <td>527 mg/1 | 69336-405</td>\n",
                            "      <td></td>\n",
                            "    </tr>\n",
                            "    <tr>\n",
                            "      <th>2</th>\n",
                            "      <td>ZYVOX</td>\n",
                            "      <td>600 mg/300mL | 0009-4992</td>\n",
                            "      <td>600 mg/300mL | 66298-7807:::600 mg/300mL | 000...</td>\n",
                            "    </tr>\n",
                            "    <tr>\n",
                            "      <th>3</th>\n",
                            "      <td>ZYTIGA</td>\n",
                            "      <td>500 mg/1 | 57894-195</td>\n",
                            "      <td>250 mg/1 | 57894-150</td>\n",
                            "    </tr>\n",
                            "  </tbody>\n",
                            "</table>\n",
                            "</div>\n",
                            "      <button class=\"colab-df-convert\" onclick=\"convertToInteractive('df-43b1b218-c260-4575-b716-c556d2a40452')\"\n",
                            "              title=\"Convert this dataframe to an interactive table.\"\n",
                            "              style=\"display:none;\">\n",
                            "        \n",
                            "  <svg xmlns=\"http://www.w3.org/2000/svg\" height=\"24px\"viewBox=\"0 0 24 24\"\n",
                            "       width=\"24px\">\n",
                            "    <path d=\"M0 0h24v24H0V0z\" fill=\"none\"/>\n",
                            "    <path d=\"M18.56 5.44l.94 2.06.94-2.06 2.06-.94-2.06-.94-.94-2.06-.94 2.06-2.06.94zm-11 1L8.5 8.5l.94-2.06 2.06-.94-2.06-.94L8.5 2.5l-.94 2.06-2.06.94zm10 10l.94 2.06.94-2.06 2.06-.94-2.06-.94-.94-2.06-.94 2.06-2.06.94z\"/><path d=\"M17.41 7.96l-1.37-1.37c-.4-.4-.92-.59-1.43-.59-.52 0-1.04.2-1.43.59L10.3 9.45l-7.72 7.72c-.78.78-.78 2.05 0 2.83L4 21.41c.39.39.9.59 1.41.59.51 0 1.02-.2 1.41-.59l7.78-7.78 2.81-2.81c.8-.78.8-2.07 0-2.86zM5.41 20L4 18.59l7.72-7.72 1.47 1.35L5.41 20z\"/>\n",
                            "  </svg>\n",
                            "      </button>\n",
                            "      \n",
                            "  <style>\n",
                            "    .colab-df-container {\n",
                            "      display:flex;\n",
                            "      flex-wrap:wrap;\n",
                            "      gap: 12px;\n",
                            "    }\n",
                            "\n",
                            "    .colab-df-convert {\n",
                            "      background-color: #E8F0FE;\n",
                            "      border: none;\n",
                            "      border-radius: 50%;\n",
                            "      cursor: pointer;\n",
                            "      display: none;\n",
                            "      fill: #1967D2;\n",
                            "      height: 32px;\n",
                            "      padding: 0 0 0 0;\n",
                            "      width: 32px;\n",
                            "    }\n",
                            "\n",
                            "    .colab-df-convert:hover {\n",
                            "      background-color: #E2EBFA;\n",
                            "      box-shadow: 0px 1px 2px rgba(60, 64, 67, 0.3), 0px 1px 3px 1px rgba(60, 64, 67, 0.15);\n",
                            "      fill: #174EA6;\n",
                            "    }\n",
                            "\n",
                            "    [theme=dark] .colab-df-convert {\n",
                            "      background-color: #3B4455;\n",
                            "      fill: #D2E3FC;\n",
                            "    }\n",
                            "\n",
                            "    [theme=dark] .colab-df-convert:hover {\n",
                            "      background-color: #434B5C;\n",
                            "      box-shadow: 0px 1px 3px 1px rgba(0, 0, 0, 0.15);\n",
                            "      filter: drop-shadow(0px 1px 2px rgba(0, 0, 0, 0.3));\n",
                            "      fill: #FFFFFF;\n",
                            "    }\n",
                            "  </style>\n",
                            "\n",
                            "      <script>\n",
                            "        const buttonEl =\n",
                            "          document.querySelector('#df-43b1b218-c260-4575-b716-c556d2a40452 button.colab-df-convert');\n",
                            "        buttonEl.style.display =\n",
                            "          google.colab.kernel.accessAllowed ? 'block' : 'none';\n",
                            "\n",
                            "        async function convertToInteractive(key) {\n",
                            "          const element = document.querySelector('#df-43b1b218-c260-4575-b716-c556d2a40452');\n",
                            "          const dataTable =\n",
                            "            await google.colab.kernel.invokeFunction('convertToInteractive',\n",
                            "                                                     [key], {});\n",
                            "          if (!dataTable) return;\n",
                            "\n",
                            "          const docLinkHtml = 'Like what you see? Visit the ' +\n",
                            "            '<a target=\"_blank\" href=https://colab.research.google.com/notebooks/data_table.ipynb>data table notebook</a>'\n",
                            "            + ' to learn more about interactive tables.';\n",
                            "          element.innerHTML = '';\n",
                            "          dataTable['output_type'] = 'display_data';\n",
                            "          await google.colab.output.renderOutput(dataTable, element);\n",
                            "          const docLink = document.createElement('div');\n",
                            "          docLink.innerHTML = docLinkHtml;\n",
                            "          element.appendChild(docLink);\n",
                            "        }\n",
                            "      </script>\n",
                            "    </div>\n",
                            "  </div>\n",
                            "  "
                        ],
                        "text/plain": [
                            "  Brand_Name               Strenth_NDC  \\\n",
                            "0     zytiga      500 mg/1 | 57894-195   \n",
                            "1     zyvana      527 mg/1 | 69336-405   \n",
                            "2      ZYVOX  600 mg/300mL | 0009-4992   \n",
                            "3     ZYTIGA      500 mg/1 | 57894-195   \n",
                            "\n",
                            "                                           Other_NDC  \n",
                            "0                               250 mg/1 | 57894-150  \n",
                            "1                                                     \n",
                            "2  600 mg/300mL | 66298-7807:::600 mg/300mL | 000...  \n",
                            "3                               250 mg/1 | 57894-150  "
                        ]
                    },
                    "execution_count": 5,
                    "metadata": {},
                    "output_type": "execute_result"
                }
            ],
            "source": [
                "chunks = []\n",
                "mappings = []\n",
                "all_re= []\n",
                "\n",
                "for i in range(4):\n",
                "\n",
                "  for m, n in list(zip(res[i]['chunk'], res[i][\"ndc\"])):\n",
                "          \n",
                "      chunks.append(m.result)\n",
                "      mappings.append(n.result) \n",
                "      all_re.append(n.metadata[\"all_relations\"])\n",
                "    \n",
                "import pandas as pd\n",
                "\n",
                "df = pd.DataFrame({'Brand_Name':chunks, 'Strenth_NDC': mappings, 'Other_NDC':all_re})\n",
                "\n",
                "df.head(20)"
            ]
        },
        {
            "cell_type": "markdown",
            "metadata": {
                "id": "Ntq2uH7lDkAq"
            },
            "source": [
                "As you see, we can see corresponding \"NDC\" mappings of each \"brand names\". "
            ]
        },
        {
            "cell_type": "markdown",
            "metadata": {
                "id": "zBKhGobLESSP"
            },
            "source": [
                "## **1.4- RxNorm NDC Mapper**"
            ]
        },
        {
            "cell_type": "markdown",
            "metadata": {
                "id": "ODX-0_GxEbFF"
            },
            "source": [
                "We have `rxnorm_ndc_mapper` model that maps RxNorm and RxNorm Extension codes with corresponding National Drug Codes (NDC).\n",
                "\n",
                "It has two relation types that can be defined in `setRel()` parameter; **Product NDC** and **Package NDC**"
            ]
        },
        {
            "cell_type": "markdown",
            "metadata": {
                "id": "fRNTaLYFFET9"
            },
            "source": [
                "Let's create a pipeline with `rxnorm_ndc_mapper` model by setting the  relation as `setRel(\"Product NDC\")` and see the results. "
            ]
        },
        {
            "cell_type": "code",
            "execution_count": null,
            "metadata": {
                "colab": {
                    "base_uri": "https://localhost:8080/"
                },
                "id": "bR1XvJzKEM3n",
                "outputId": "66842769-a855-4c30-a534-b5b03b7220e7"
            },
            "outputs": [
                {
                    "name": "stdout",
                    "output_type": "stream",
                    "text": [
                        "sbiobert_base_cased_mli download started this may take some time.\n",
                        "Approximate size to download 384.3 MB\n",
                        "[OK!]\n",
                        "sbiobertresolve_rxnorm_augmented download started this may take some time.\n",
                        "[OK!]\n",
                        "rxnorm_ndc_mapper download started this may take some time.\n",
                        "[OK!]\n"
                    ]
                }
            ],
            "source": [
                "document_assembler = DocumentAssembler()\\\n",
                "      .setInputCol('text')\\\n",
                "      .setOutputCol('ner_chunk')\n",
                "\n",
                "sbert_embedder = BertSentenceEmbeddings.pretrained('sbiobert_base_cased_mli', 'en','clinical/models')\\\n",
                "      .setInputCols([\"ner_chunk\"])\\\n",
                "      .setOutputCol(\"sentence_embeddings\")\\\n",
                "      .setCaseSensitive(False)\n",
                "    \n",
                "rxnorm_resolver = SentenceEntityResolverModel.pretrained(\"sbiobertresolve_rxnorm_augmented\",\"en\", \"clinical/models\") \\\n",
                "      .setInputCols([\"ner_chunk\", \"sentence_embeddings\"]) \\\n",
                "      .setOutputCol(\"rxnorm_code\")\\\n",
                "      .setDistanceFunction(\"EUCLIDEAN\")\n",
                "\n",
                "chunkerMapper_product = ChunkMapperModel.pretrained(\"rxnorm_ndc_mapper\", \"en\", \"clinical/models\")\\\n",
                "      .setInputCols([\"rxnorm_code\"])\\\n",
                "      .setOutputCol(\"Product NDC\")\\\n",
                "      .setRel(\"Product NDC\") #or Package NDC\n",
                "\n",
                "pipeline = Pipeline().setStages([document_assembler,\n",
                "                                 sbert_embedder,\n",
                "                                 rxnorm_resolver,\n",
                "                                 chunkerMapper_product\n",
                "                                 ])\n",
                "\n",
                "model = pipeline.fit(spark.createDataFrame([['']]).toDF('text')) \n",
                "\n",
                "lp = LightPipeline(model)\n",
                "\n",
                "result = lp.fullAnnotate(['doxepin hydrochloride 50 MG/ML', 'macadamia nut 100 MG/ML'])\n"
            ]
        },
        {
            "cell_type": "markdown",
            "metadata": {
                "id": "IeGDZ0-vSRp6"
            },
            "source": [
                "Checking the results"
            ]
        },
        {
            "cell_type": "code",
            "execution_count": null,
            "metadata": {
                "colab": {
                    "base_uri": "https://localhost:8080/",
                    "height": 111
                },
                "id": "cf1w7hszGwc9",
                "outputId": "fda984db-386f-4d98-ccdb-1f20e2e99f00"
            },
            "outputs": [
                {
                    "data": {
                        "text/html": [
                            "\n",
                            "  <div id=\"df-d6fe98b2-9711-4421-bb6c-12249f72bc15\">\n",
                            "    <div class=\"colab-df-container\">\n",
                            "      <div>\n",
                            "<style scoped>\n",
                            "    .dataframe tbody tr th:only-of-type {\n",
                            "        vertical-align: middle;\n",
                            "    }\n",
                            "\n",
                            "    .dataframe tbody tr th {\n",
                            "        vertical-align: top;\n",
                            "    }\n",
                            "\n",
                            "    .dataframe thead th {\n",
                            "        text-align: right;\n",
                            "    }\n",
                            "</style>\n",
                            "<table border=\"1\" class=\"dataframe\">\n",
                            "  <thead>\n",
                            "    <tr style=\"text-align: right;\">\n",
                            "      <th></th>\n",
                            "      <th>ner_chunk</th>\n",
                            "      <th>rxnorm_code</th>\n",
                            "      <th>Product NDC</th>\n",
                            "    </tr>\n",
                            "  </thead>\n",
                            "  <tbody>\n",
                            "    <tr>\n",
                            "      <th>0</th>\n",
                            "      <td>doxepin hydrochloride 50 MG/ML</td>\n",
                            "      <td>1000091</td>\n",
                            "      <td>00378-8117</td>\n",
                            "    </tr>\n",
                            "    <tr>\n",
                            "      <th>1</th>\n",
                            "      <td>macadamia nut 100 MG/ML</td>\n",
                            "      <td>212433</td>\n",
                            "      <td>00064-2120</td>\n",
                            "    </tr>\n",
                            "  </tbody>\n",
                            "</table>\n",
                            "</div>\n",
                            "      <button class=\"colab-df-convert\" onclick=\"convertToInteractive('df-d6fe98b2-9711-4421-bb6c-12249f72bc15')\"\n",
                            "              title=\"Convert this dataframe to an interactive table.\"\n",
                            "              style=\"display:none;\">\n",
                            "        \n",
                            "  <svg xmlns=\"http://www.w3.org/2000/svg\" height=\"24px\"viewBox=\"0 0 24 24\"\n",
                            "       width=\"24px\">\n",
                            "    <path d=\"M0 0h24v24H0V0z\" fill=\"none\"/>\n",
                            "    <path d=\"M18.56 5.44l.94 2.06.94-2.06 2.06-.94-2.06-.94-.94-2.06-.94 2.06-2.06.94zm-11 1L8.5 8.5l.94-2.06 2.06-.94-2.06-.94L8.5 2.5l-.94 2.06-2.06.94zm10 10l.94 2.06.94-2.06 2.06-.94-2.06-.94-.94-2.06-.94 2.06-2.06.94z\"/><path d=\"M17.41 7.96l-1.37-1.37c-.4-.4-.92-.59-1.43-.59-.52 0-1.04.2-1.43.59L10.3 9.45l-7.72 7.72c-.78.78-.78 2.05 0 2.83L4 21.41c.39.39.9.59 1.41.59.51 0 1.02-.2 1.41-.59l7.78-7.78 2.81-2.81c.8-.78.8-2.07 0-2.86zM5.41 20L4 18.59l7.72-7.72 1.47 1.35L5.41 20z\"/>\n",
                            "  </svg>\n",
                            "      </button>\n",
                            "      \n",
                            "  <style>\n",
                            "    .colab-df-container {\n",
                            "      display:flex;\n",
                            "      flex-wrap:wrap;\n",
                            "      gap: 12px;\n",
                            "    }\n",
                            "\n",
                            "    .colab-df-convert {\n",
                            "      background-color: #E8F0FE;\n",
                            "      border: none;\n",
                            "      border-radius: 50%;\n",
                            "      cursor: pointer;\n",
                            "      display: none;\n",
                            "      fill: #1967D2;\n",
                            "      height: 32px;\n",
                            "      padding: 0 0 0 0;\n",
                            "      width: 32px;\n",
                            "    }\n",
                            "\n",
                            "    .colab-df-convert:hover {\n",
                            "      background-color: #E2EBFA;\n",
                            "      box-shadow: 0px 1px 2px rgba(60, 64, 67, 0.3), 0px 1px 3px 1px rgba(60, 64, 67, 0.15);\n",
                            "      fill: #174EA6;\n",
                            "    }\n",
                            "\n",
                            "    [theme=dark] .colab-df-convert {\n",
                            "      background-color: #3B4455;\n",
                            "      fill: #D2E3FC;\n",
                            "    }\n",
                            "\n",
                            "    [theme=dark] .colab-df-convert:hover {\n",
                            "      background-color: #434B5C;\n",
                            "      box-shadow: 0px 1px 3px 1px rgba(0, 0, 0, 0.15);\n",
                            "      filter: drop-shadow(0px 1px 2px rgba(0, 0, 0, 0.3));\n",
                            "      fill: #FFFFFF;\n",
                            "    }\n",
                            "  </style>\n",
                            "\n",
                            "      <script>\n",
                            "        const buttonEl =\n",
                            "          document.querySelector('#df-d6fe98b2-9711-4421-bb6c-12249f72bc15 button.colab-df-convert');\n",
                            "        buttonEl.style.display =\n",
                            "          google.colab.kernel.accessAllowed ? 'block' : 'none';\n",
                            "\n",
                            "        async function convertToInteractive(key) {\n",
                            "          const element = document.querySelector('#df-d6fe98b2-9711-4421-bb6c-12249f72bc15');\n",
                            "          const dataTable =\n",
                            "            await google.colab.kernel.invokeFunction('convertToInteractive',\n",
                            "                                                     [key], {});\n",
                            "          if (!dataTable) return;\n",
                            "\n",
                            "          const docLinkHtml = 'Like what you see? Visit the ' +\n",
                            "            '<a target=\"_blank\" href=https://colab.research.google.com/notebooks/data_table.ipynb>data table notebook</a>'\n",
                            "            + ' to learn more about interactive tables.';\n",
                            "          element.innerHTML = '';\n",
                            "          dataTable['output_type'] = 'display_data';\n",
                            "          await google.colab.output.renderOutput(dataTable, element);\n",
                            "          const docLink = document.createElement('div');\n",
                            "          docLink.innerHTML = docLinkHtml;\n",
                            "          element.appendChild(docLink);\n",
                            "        }\n",
                            "      </script>\n",
                            "    </div>\n",
                            "  </div>\n",
                            "  "
                        ],
                        "text/plain": [
                            "                        ner_chunk rxnorm_code Product NDC\n",
                            "0  doxepin hydrochloride 50 MG/ML     1000091  00378-8117\n",
                            "1         macadamia nut 100 MG/ML      212433  00064-2120"
                        ]
                    },
                    "execution_count": 19,
                    "metadata": {},
                    "output_type": "execute_result"
                }
            ],
            "source": [
                "chunks = []\n",
                "rxnorm_code = []\n",
                "product= []\n",
                "\n",
                "\n",
                "for i in range(2):\n",
                "\n",
                "  for m, n, j in list(zip(result[i]['ner_chunk'], result[i][\"rxnorm_code\"], result[i][\"Product NDC\"])):\n",
                "\n",
                "      chunks.append(m.result)\n",
                "      rxnorm_code.append(n.result) \n",
                "      product.append(j.result)\n",
                "    \n",
                "import pandas as pd\n",
                "\n",
                "df = pd.DataFrame({'ner_chunk':chunks,\n",
                "                   'rxnorm_code': rxnorm_code,\n",
                "                   'Product NDC': product})\n",
                "\n",
                "df.head(20)"
            ]
        },
        {
            "cell_type": "markdown",
            "metadata": {
                "id": "fvGK4Z7PSns8"
            },
            "source": [
                "As you see, we can see corresponding \"Product NDC\" mappings of each \"RxNorm codes\"."
            ]
        },
        {
            "cell_type": "markdown",
            "metadata": {
                "id": "ci6QTFAaNvon"
            },
            "source": [
                "## **1.5- RxNorm Action Treatment Mapper**"
            ]
        },
        {
            "cell_type": "markdown",
            "metadata": {
                "id": "x2L7A0ruN4JD"
            },
            "source": [
                "We have `rxnorm_action_treatment_mapper` model that maps RxNorm and RxNorm Extension codes with their corresponding action and treatment. It has two relation types that can be defined in `setRel()` parameter; <br/>\n",
                "\n",
                "**Action** of drug refers to the function of a drug in various body systems. <br/>\n",
                "**Treatment** refers to which disease the drug is used to treat."
            ]
        },
        {
            "cell_type": "markdown",
            "metadata": {
                "id": "kX0S24f7cA3H"
            },
            "source": [
                "Let's create a pipeline and see how it works. "
            ]
        },
        {
            "cell_type": "code",
            "execution_count": null,
            "metadata": {
                "colab": {
                    "base_uri": "https://localhost:8080/"
                },
                "id": "NndvMrLFNmjk",
                "outputId": "febe485f-3ce3-4161-f25b-222b59d05d75"
            },
            "outputs": [
                {
                    "name": "stdout",
                    "output_type": "stream",
                    "text": [
                        "sbiobert_base_cased_mli download started this may take some time.\n",
                        "Approximate size to download 384.3 MB\n",
                        "[OK!]\n",
                        "sbiobertresolve_rxnorm_augmented download started this may take some time.\n",
                        "[OK!]\n",
                        "rxnorm_action_treatment_mapper download started this may take some time.\n",
                        "[OK!]\n"
                    ]
                }
            ],
            "source": [
                "document_assembler = DocumentAssembler()\\\n",
                "      .setInputCol('text')\\\n",
                "      .setOutputCol('ner_chunk')\n",
                "\n",
                "sbert_embedder = BertSentenceEmbeddings.pretrained('sbiobert_base_cased_mli', 'en','clinical/models')\\\n",
                "      .setInputCols([\"ner_chunk\"])\\\n",
                "      .setOutputCol(\"sentence_embeddings\")\\\n",
                "      .setCaseSensitive(False)\n",
                "    \n",
                "rxnorm_resolver = SentenceEntityResolverModel.pretrained(\"sbiobertresolve_rxnorm_augmented\",\"en\", \"clinical/models\") \\\n",
                "      .setInputCols([\"ner_chunk\", \"sentence_embeddings\"]) \\\n",
                "      .setOutputCol(\"rxnorm_code\")\\\n",
                "      .setDistanceFunction(\"EUCLIDEAN\")\n",
                "\n",
                "chunkerMapper_action = ChunkMapperModel.pretrained(\"rxnorm_action_treatment_mapper\", \"en\", \"clinical/models\")\\\n",
                "      .setInputCols([\"rxnorm_code\"])\\\n",
                "      .setOutputCol(\"Action\")\\\n",
                "      .setRel(\"Action\") #or Treatment\n",
                "\n",
                "pipeline = Pipeline().setStages([document_assembler,\n",
                "                                 sbert_embedder,\n",
                "                                 rxnorm_resolver,\n",
                "                                 chunkerMapper_action\n",
                "                                 ])\n",
                "\n",
                "model = pipeline.fit(spark.createDataFrame([['']]).toDF('text')) \n",
                "\n",
                "lp = LightPipeline(model)\n",
                "\n",
                "res = lp.fullAnnotate(['Sinequan 150 MG', 'Zonalon 50 mg'])"
            ]
        },
        {
            "cell_type": "markdown",
            "metadata": {
                "id": "cFRzialBWYmM"
            },
            "source": [
                "Checking the results"
            ]
        },
        {
            "cell_type": "code",
            "execution_count": null,
            "metadata": {
                "colab": {
                    "base_uri": "https://localhost:8080/",
                    "height": 111
                },
                "id": "c0EPkC-IPHfz",
                "outputId": "60645093-cb07-49c5-c608-59156b8e658e"
            },
            "outputs": [
                {
                    "data": {
                        "text/html": [
                            "\n",
                            "  <div id=\"df-dee5b697-0880-4696-a832-581c5fd1904d\">\n",
                            "    <div class=\"colab-df-container\">\n",
                            "      <div>\n",
                            "<style scoped>\n",
                            "    .dataframe tbody tr th:only-of-type {\n",
                            "        vertical-align: middle;\n",
                            "    }\n",
                            "\n",
                            "    .dataframe tbody tr th {\n",
                            "        vertical-align: top;\n",
                            "    }\n",
                            "\n",
                            "    .dataframe thead th {\n",
                            "        text-align: right;\n",
                            "    }\n",
                            "</style>\n",
                            "<table border=\"1\" class=\"dataframe\">\n",
                            "  <thead>\n",
                            "    <tr style=\"text-align: right;\">\n",
                            "      <th></th>\n",
                            "      <th>ner_chunk</th>\n",
                            "      <th>rxnorm_code</th>\n",
                            "      <th>Action</th>\n",
                            "    </tr>\n",
                            "  </thead>\n",
                            "  <tbody>\n",
                            "    <tr>\n",
                            "      <th>0</th>\n",
                            "      <td>Sinequan 150 MG</td>\n",
                            "      <td>1000067</td>\n",
                            "      <td>Antidepressant:::Anxiolytic:::Psychoanaleptics...</td>\n",
                            "    </tr>\n",
                            "    <tr>\n",
                            "      <th>1</th>\n",
                            "      <td>Zonalon 50 mg</td>\n",
                            "      <td>103971</td>\n",
                            "      <td>Analgesic:::Analgesic (Opioid):::Analgetic:::O...</td>\n",
                            "    </tr>\n",
                            "  </tbody>\n",
                            "</table>\n",
                            "</div>\n",
                            "      <button class=\"colab-df-convert\" onclick=\"convertToInteractive('df-dee5b697-0880-4696-a832-581c5fd1904d')\"\n",
                            "              title=\"Convert this dataframe to an interactive table.\"\n",
                            "              style=\"display:none;\">\n",
                            "        \n",
                            "  <svg xmlns=\"http://www.w3.org/2000/svg\" height=\"24px\"viewBox=\"0 0 24 24\"\n",
                            "       width=\"24px\">\n",
                            "    <path d=\"M0 0h24v24H0V0z\" fill=\"none\"/>\n",
                            "    <path d=\"M18.56 5.44l.94 2.06.94-2.06 2.06-.94-2.06-.94-.94-2.06-.94 2.06-2.06.94zm-11 1L8.5 8.5l.94-2.06 2.06-.94-2.06-.94L8.5 2.5l-.94 2.06-2.06.94zm10 10l.94 2.06.94-2.06 2.06-.94-2.06-.94-.94-2.06-.94 2.06-2.06.94z\"/><path d=\"M17.41 7.96l-1.37-1.37c-.4-.4-.92-.59-1.43-.59-.52 0-1.04.2-1.43.59L10.3 9.45l-7.72 7.72c-.78.78-.78 2.05 0 2.83L4 21.41c.39.39.9.59 1.41.59.51 0 1.02-.2 1.41-.59l7.78-7.78 2.81-2.81c.8-.78.8-2.07 0-2.86zM5.41 20L4 18.59l7.72-7.72 1.47 1.35L5.41 20z\"/>\n",
                            "  </svg>\n",
                            "      </button>\n",
                            "      \n",
                            "  <style>\n",
                            "    .colab-df-container {\n",
                            "      display:flex;\n",
                            "      flex-wrap:wrap;\n",
                            "      gap: 12px;\n",
                            "    }\n",
                            "\n",
                            "    .colab-df-convert {\n",
                            "      background-color: #E8F0FE;\n",
                            "      border: none;\n",
                            "      border-radius: 50%;\n",
                            "      cursor: pointer;\n",
                            "      display: none;\n",
                            "      fill: #1967D2;\n",
                            "      height: 32px;\n",
                            "      padding: 0 0 0 0;\n",
                            "      width: 32px;\n",
                            "    }\n",
                            "\n",
                            "    .colab-df-convert:hover {\n",
                            "      background-color: #E2EBFA;\n",
                            "      box-shadow: 0px 1px 2px rgba(60, 64, 67, 0.3), 0px 1px 3px 1px rgba(60, 64, 67, 0.15);\n",
                            "      fill: #174EA6;\n",
                            "    }\n",
                            "\n",
                            "    [theme=dark] .colab-df-convert {\n",
                            "      background-color: #3B4455;\n",
                            "      fill: #D2E3FC;\n",
                            "    }\n",
                            "\n",
                            "    [theme=dark] .colab-df-convert:hover {\n",
                            "      background-color: #434B5C;\n",
                            "      box-shadow: 0px 1px 3px 1px rgba(0, 0, 0, 0.15);\n",
                            "      filter: drop-shadow(0px 1px 2px rgba(0, 0, 0, 0.3));\n",
                            "      fill: #FFFFFF;\n",
                            "    }\n",
                            "  </style>\n",
                            "\n",
                            "      <script>\n",
                            "        const buttonEl =\n",
                            "          document.querySelector('#df-dee5b697-0880-4696-a832-581c5fd1904d button.colab-df-convert');\n",
                            "        buttonEl.style.display =\n",
                            "          google.colab.kernel.accessAllowed ? 'block' : 'none';\n",
                            "\n",
                            "        async function convertToInteractive(key) {\n",
                            "          const element = document.querySelector('#df-dee5b697-0880-4696-a832-581c5fd1904d');\n",
                            "          const dataTable =\n",
                            "            await google.colab.kernel.invokeFunction('convertToInteractive',\n",
                            "                                                     [key], {});\n",
                            "          if (!dataTable) return;\n",
                            "\n",
                            "          const docLinkHtml = 'Like what you see? Visit the ' +\n",
                            "            '<a target=\"_blank\" href=https://colab.research.google.com/notebooks/data_table.ipynb>data table notebook</a>'\n",
                            "            + ' to learn more about interactive tables.';\n",
                            "          element.innerHTML = '';\n",
                            "          dataTable['output_type'] = 'display_data';\n",
                            "          await google.colab.output.renderOutput(dataTable, element);\n",
                            "          const docLink = document.createElement('div');\n",
                            "          docLink.innerHTML = docLinkHtml;\n",
                            "          element.appendChild(docLink);\n",
                            "        }\n",
                            "      </script>\n",
                            "    </div>\n",
                            "  </div>\n",
                            "  "
                        ],
                        "text/plain": [
                            "         ner_chunk rxnorm_code  \\\n",
                            "0  Sinequan 150 MG     1000067   \n",
                            "1    Zonalon 50 mg      103971   \n",
                            "\n",
                            "                                              Action  \n",
                            "0  Antidepressant:::Anxiolytic:::Psychoanaleptics...  \n",
                            "1  Analgesic:::Analgesic (Opioid):::Analgetic:::O...  "
                        ]
                    },
                    "execution_count": 10,
                    "metadata": {},
                    "output_type": "execute_result"
                }
            ],
            "source": [
                "chunks = []\n",
                "rxnorm_code = []\n",
                "action= []\n",
                "\n",
                "\n",
                "for i in range(2):\n",
                "\n",
                "  for m, n, j in list(zip(res[i]['ner_chunk'], res[i][\"rxnorm_code\"], res[i][\"Action\"])):\n",
                "\n",
                "      chunks.append(m.result)\n",
                "      rxnorm_code.append(n.result) \n",
                "      action.append(j.result)\n",
                "    \n",
                "import pandas as pd\n",
                "\n",
                "df = pd.DataFrame({'ner_chunk':chunks,\n",
                "                   'rxnorm_code': rxnorm_code,\n",
                "                   'Action': action})\n",
                "\n",
                "df.head(20)"
            ]
        },
        {
            "cell_type": "markdown",
            "metadata": {
                "id": "1lOTEXeeWSyW"
            },
            "source": [
                "As you see, we can see corresponding \"Action\" mappings of each \"RxNorm codes\"."
            ]
        },
        {
            "cell_type": "markdown",
            "metadata": {
                "id": "TTKofeLuWj42"
            },
            "source": [
                "## **1.6- Abbreviation Mapper**"
            ]
        },
        {
            "cell_type": "markdown",
            "metadata": {
                "id": "kwYOGi8DXCp8"
            },
            "source": [
                "We have `abbreviation_mapper` model that maps abbreviations and acronyms of medical regulatory activities with their definitions. <br/> It has one relation type that can be defined in `setRel(\"definition\")` parameter."
            ]
        },
        {
            "cell_type": "markdown",
            "metadata": {
                "id": "gHW9JxRjXZFy"
            },
            "source": [
                "Let's create a pipeline consisting `ner_abbreviation_clinical` to extract abbreviations from text, and feed the `abbreviation_mapper` with it. "
            ]
        },
        {
            "cell_type": "code",
            "execution_count": null,
            "metadata": {
                "colab": {
                    "base_uri": "https://localhost:8080/"
                },
                "id": "I6TcC8MvPHZE",
                "outputId": "d4893b02-6283-440c-807e-1b1a3ac8b727"
            },
            "outputs": [
                {
                    "name": "stdout",
                    "output_type": "stream",
                    "text": [
                        "embeddings_clinical download started this may take some time.\n",
                        "Approximate size to download 1.6 GB\n",
                        "[OK!]\n",
                        "ner_abbreviation_clinical download started this may take some time.\n",
                        "[OK!]\n",
                        "abbreviation_mapper download started this may take some time.\n",
                        "[OK!]\n"
                    ]
                }
            ],
            "source": [
                "document_assembler = DocumentAssembler()\\\n",
                "      .setInputCol('text')\\\n",
                "      .setOutputCol('document')\n",
                "\n",
                "sentence_detector = SentenceDetector()\\\n",
                "      .setInputCols([\"document\"])\\\n",
                "      .setOutputCol(\"sentence\")\n",
                "\n",
                "tokenizer = Tokenizer()\\\n",
                "      .setInputCols(\"sentence\")\\\n",
                "      .setOutputCol(\"token\")\n",
                "\n",
                "word_embeddings = WordEmbeddingsModel.pretrained(\"embeddings_clinical\", \"en\", \"clinical/models\")\\\n",
                "      .setInputCols([\"sentence\", \"token\"])\\\n",
                "      .setOutputCol(\"embeddings\")\n",
                "\n",
                "#NER model to detect abbreviations in the text\n",
                "abbr_ner = MedicalNerModel.pretrained('ner_abbreviation_clinical', 'en', 'clinical/models') \\\n",
                "      .setInputCols([\"sentence\", \"token\", \"embeddings\"]) \\\n",
                "      .setOutputCol(\"abbr_ner\")\n",
                "\n",
                "abbr_converter = NerConverter() \\\n",
                "      .setInputCols([\"sentence\", \"token\", \"abbr_ner\"]) \\\n",
                "      .setOutputCol(\"abbr_ner_chunk\")\\\n",
                "\n",
                "chunkerMapper = ChunkMapperModel.pretrained(\"abbreviation_mapper\", \"en\", \"clinical/models\")\\\n",
                "      .setInputCols([\"abbr_ner_chunk\"])\\\n",
                "      .setOutputCol(\"mappings\")\\\n",
                "      .setRel(\"definition\") \n",
                "\n",
                "pipeline = Pipeline().setStages([document_assembler,\n",
                "                                 sentence_detector,\n",
                "                                 tokenizer, \n",
                "                                 word_embeddings,\n",
                "                                 abbr_ner, \n",
                "                                 abbr_converter, \n",
                "                                 chunkerMapper])\n",
                "\n",
                "text = [\"\"\"Gravid with estimated fetal weight of 6-6/12 pounds.\n",
                "           LABORATORY DATA: Laboratory tests include a CBC which is normal. \n",
                "           HIV: Negative. One-Hour Glucose: 117. Group B strep has not been done as yet.\"\"\"]\n",
                "\n",
                "test_data = spark.createDataFrame([text]).toDF(\"text\")\n",
                "\n",
                "model = pipeline.fit(test_data)\n",
                "res= model.transform(test_data)"
            ]
        },
        {
            "cell_type": "markdown",
            "metadata": {
                "id": "icqK31njXpbk"
            },
            "source": [
                "Checking the results"
            ]
        },
        {
            "cell_type": "code",
            "execution_count": null,
            "metadata": {
                "colab": {
                    "base_uri": "https://localhost:8080/"
                },
                "id": "15gReqinY1Y3",
                "outputId": "69eb1260-fd30-4cd5-c582-731a25c7f253"
            },
            "outputs": [
                {
                    "name": "stdout",
                    "output_type": "stream",
                    "text": [
                        "+----------+\n",
                        "|    result|\n",
                        "+----------+\n",
                        "|[CBC, HIV]|\n",
                        "+----------+\n",
                        "\n"
                    ]
                }
            ],
            "source": [
                "#abbreviations extracted by ner model\n",
                "res.select(\"abbr_ner_chunk.result\").show()"
            ]
        },
        {
            "cell_type": "code",
            "execution_count": null,
            "metadata": {
                "colab": {
                    "base_uri": "https://localhost:8080/"
                },
                "id": "fH_PG8ntXePz",
                "outputId": "82c4e79a-7b6a-4721-b82f-ee1afbc7b913"
            },
            "outputs": [
                {
                    "name": "stdout",
                    "output_type": "stream",
                    "text": [
                        "+------------+----------------------------+\n",
                        "|Abbreviation|Definition                  |\n",
                        "+------------+----------------------------+\n",
                        "|CBC         |complete blood count        |\n",
                        "|HIV         |human immunodeficiency virus|\n",
                        "+------------+----------------------------+\n",
                        "\n"
                    ]
                }
            ],
            "source": [
                "res.select(F.explode(F.arrays_zip(res.abbr_ner_chunk.result, \n",
                "                                  res.mappings.result)).alias(\"col\"))\\\n",
                "    .select(F.expr(\"col['0']\").alias(\"Abbreviation\"),\n",
                "            F.expr(\"col['1']\").alias(\"Definition\")).show(truncate=False)"
            ]
        },
        {
            "cell_type": "markdown",
            "metadata": {
                "id": "hB4S4r_eYNUc"
            },
            "source": [
                "As you see, we can see corresponding \"definition\" mappings of each \"abbreviation\"."
            ]
        },
        {
            "cell_type": "markdown",
            "metadata": {
                "id": "tTo9cdLBfyG9"
            },
            "source": [
                "# **2- Creating a Mapper Model**"
            ]
        },
        {
            "cell_type": "markdown",
            "metadata": {
                "id": "SW9g1bjtgFQM"
            },
            "source": [
                "There is a `ChunkMapperApproach()` to create your own mapper model. <br/>\n",
                "\n",
                "This receives an `ner_chunk` and a Json with a mapping of ner entities and relations, and returns the `ner_chunk` augmented with the relations from the Json ontology. <br/> We give the path of json file to the `setDictionary()` parameter.\n",
                "\n",
                "\n"
            ]
        },
        {
            "cell_type": "markdown",
            "metadata": {
                "id": "eFDHG9EVgayJ"
            },
            "source": [
                "Let's create an example Json, then create a drug mapper model. This model will match the given drug name (only \"metformin\" for our example) with correpsonding action and treatment.  \n",
                "\n",
                "The format of json file should be like following:\n"
            ]
        },
        {
            "cell_type": "code",
            "execution_count": null,
            "metadata": {
                "id": "ekp8gF4wgjLs"
            },
            "outputs": [],
            "source": [
                "data_set= {\n",
                "  \"mappings\": [\n",
                "    {\n",
                "      \"key\": \"metformin\",\n",
                "      \"relations\": [\n",
                "        {\n",
                "          \"key\": \"action\",\n",
                "          \"values\" : [\"hypoglycemic\", \"Drugs Used In Diabetes\"]\n",
                "        },\n",
                "        {\n",
                "          \"key\": \"treatment\",\n",
                "          \"values\" : [\"diabetes\", \"t2dm\"]\n",
                "        }\n",
                "      ]\n",
                "    }\n",
                "  ]\n",
                "}\n",
                "\n",
                "import json\n",
                "with open('sample_drug.json', 'w', encoding='utf-8') as f:\n",
                "    json.dump(data_set, f, ensure_ascii=False, indent=4)"
            ]
        },
        {
            "cell_type": "markdown",
            "metadata": {
                "id": "JqjQ7rj_hxch"
            },
            "source": [
                "By using `setRel()` parameter, we tell the model which type of mapping we want. In our case, if we want from our model to return **action** mapping, we set the parameter as `setRel(\"action\")`,  we set as `setRel(\"treatment\")` for **treatment**\n",
                "\n",
                "Let's create a pipeline and see it in action. "
            ]
        },
        {
            "cell_type": "code",
            "execution_count": null,
            "metadata": {
                "colab": {
                    "base_uri": "https://localhost:8080/"
                },
                "id": "PbuDGXzKf2r7",
                "outputId": "69f1d55e-2ed3-4eb0-c515-1895594f0610"
            },
            "outputs": [
                {
                    "name": "stdout",
                    "output_type": "stream",
                    "text": [
                        "embeddings_clinical download started this may take some time.\n",
                        "Approximate size to download 1.6 GB\n",
                        "[OK!]\n",
                        "ner_posology_small download started this may take some time.\n",
                        "[OK!]\n"
                    ]
                }
            ],
            "source": [
                "document_assembler = DocumentAssembler()\\\n",
                "      .setInputCol('text')\\\n",
                "      .setOutputCol('document')\n",
                "\n",
                "sentence_detector = SentenceDetector()\\\n",
                "      .setInputCols([\"document\"])\\\n",
                "      .setOutputCol(\"sentence\")\n",
                "\n",
                "tokenizer = Tokenizer()\\\n",
                "      .setInputCols(\"sentence\")\\\n",
                "      .setOutputCol(\"token\")\n",
                "\n",
                "word_embeddings = WordEmbeddingsModel.pretrained(\"embeddings_clinical\", \"en\", \"clinical/models\")\\\n",
                "      .setInputCols([\"sentence\", \"token\"])\\\n",
                "      .setOutputCol(\"embeddings\")\n",
                "\n",
                "#NER model to detect drug in the text\n",
                "clinical_ner = MedicalNerModel.pretrained(\"ner_posology_small\",\"en\",\"clinical/models\")\\\n",
                "\t    .setInputCols([\"sentence\",\"token\",\"embeddings\"])\\\n",
                "\t    .setOutputCol(\"ner\")\\\n",
                "      .setLabelCasing(\"upper\")\n",
                " \n",
                "ner_converter = NerConverter()\\\n",
                "      .setInputCols([\"sentence\", \"token\", \"ner\"])\\\n",
                "      .setOutputCol(\"ner_chunk\")\\\n",
                "      .setWhiteList([\"DRUG\"])\n",
                "\n",
                "chunkerMapper = ChunkMapperApproach()\\\n",
                "      .setInputCols([\"ner_chunk\"])\\\n",
                "      .setOutputCol(\"mappings\")\\\n",
                "      .setDictionary(\"./sample_drug.json\")\\\n",
                "      .setRel(\"action\") #or treatment\n",
                "\n",
                "pipeline = Pipeline().setStages([document_assembler,\n",
                "                                 sentence_detector,\n",
                "                                 tokenizer, \n",
                "                                 word_embeddings,\n",
                "                                 clinical_ner, \n",
                "                                 ner_converter, \n",
                "                                 chunkerMapper])\n",
                "\n",
                "text = [\"The patient was given 1 unit of metformin daily.\"]\n",
                "\n",
                "test_data = spark.createDataFrame([text]).toDF(\"text\")\n",
                "\n",
                "model = pipeline.fit(test_data)\n",
                "res= model.transform(test_data)\n"
            ]
        },
        {
            "cell_type": "code",
            "execution_count": null,
            "metadata": {
                "colab": {
                    "base_uri": "https://localhost:8080/"
                },
                "id": "nDPk6Uhtrwbf",
                "outputId": "dbd07a9c-fbe1-49aa-b3a9-9880b2fb1ef3"
            },
            "outputs": [
                {
                    "name": "stdout",
                    "output_type": "stream",
                    "text": [
                        "root\n",
                        " |-- text: string (nullable = true)\n",
                        " |-- document: array (nullable = true)\n",
                        " |    |-- element: struct (containsNull = true)\n",
                        " |    |    |-- annotatorType: string (nullable = true)\n",
                        " |    |    |-- begin: integer (nullable = false)\n",
                        " |    |    |-- end: integer (nullable = false)\n",
                        " |    |    |-- result: string (nullable = true)\n",
                        " |    |    |-- metadata: map (nullable = true)\n",
                        " |    |    |    |-- key: string\n",
                        " |    |    |    |-- value: string (valueContainsNull = true)\n",
                        " |    |    |-- embeddings: array (nullable = true)\n",
                        " |    |    |    |-- element: float (containsNull = false)\n",
                        " |-- sentence: array (nullable = true)\n",
                        " |    |-- element: struct (containsNull = true)\n",
                        " |    |    |-- annotatorType: string (nullable = true)\n",
                        " |    |    |-- begin: integer (nullable = false)\n",
                        " |    |    |-- end: integer (nullable = false)\n",
                        " |    |    |-- result: string (nullable = true)\n",
                        " |    |    |-- metadata: map (nullable = true)\n",
                        " |    |    |    |-- key: string\n",
                        " |    |    |    |-- value: string (valueContainsNull = true)\n",
                        " |    |    |-- embeddings: array (nullable = true)\n",
                        " |    |    |    |-- element: float (containsNull = false)\n",
                        " |-- token: array (nullable = true)\n",
                        " |    |-- element: struct (containsNull = true)\n",
                        " |    |    |-- annotatorType: string (nullable = true)\n",
                        " |    |    |-- begin: integer (nullable = false)\n",
                        " |    |    |-- end: integer (nullable = false)\n",
                        " |    |    |-- result: string (nullable = true)\n",
                        " |    |    |-- metadata: map (nullable = true)\n",
                        " |    |    |    |-- key: string\n",
                        " |    |    |    |-- value: string (valueContainsNull = true)\n",
                        " |    |    |-- embeddings: array (nullable = true)\n",
                        " |    |    |    |-- element: float (containsNull = false)\n",
                        " |-- embeddings: array (nullable = true)\n",
                        " |    |-- element: struct (containsNull = true)\n",
                        " |    |    |-- annotatorType: string (nullable = true)\n",
                        " |    |    |-- begin: integer (nullable = false)\n",
                        " |    |    |-- end: integer (nullable = false)\n",
                        " |    |    |-- result: string (nullable = true)\n",
                        " |    |    |-- metadata: map (nullable = true)\n",
                        " |    |    |    |-- key: string\n",
                        " |    |    |    |-- value: string (valueContainsNull = true)\n",
                        " |    |    |-- embeddings: array (nullable = true)\n",
                        " |    |    |    |-- element: float (containsNull = false)\n",
                        " |-- ner: array (nullable = true)\n",
                        " |    |-- element: struct (containsNull = true)\n",
                        " |    |    |-- annotatorType: string (nullable = true)\n",
                        " |    |    |-- begin: integer (nullable = false)\n",
                        " |    |    |-- end: integer (nullable = false)\n",
                        " |    |    |-- result: string (nullable = true)\n",
                        " |    |    |-- metadata: map (nullable = true)\n",
                        " |    |    |    |-- key: string\n",
                        " |    |    |    |-- value: string (valueContainsNull = true)\n",
                        " |    |    |-- embeddings: array (nullable = true)\n",
                        " |    |    |    |-- element: float (containsNull = false)\n",
                        " |-- ner_chunk: array (nullable = true)\n",
                        " |    |-- element: struct (containsNull = true)\n",
                        " |    |    |-- annotatorType: string (nullable = true)\n",
                        " |    |    |-- begin: integer (nullable = false)\n",
                        " |    |    |-- end: integer (nullable = false)\n",
                        " |    |    |-- result: string (nullable = true)\n",
                        " |    |    |-- metadata: map (nullable = true)\n",
                        " |    |    |    |-- key: string\n",
                        " |    |    |    |-- value: string (valueContainsNull = true)\n",
                        " |    |    |-- embeddings: array (nullable = true)\n",
                        " |    |    |    |-- element: float (containsNull = false)\n",
                        " |-- mappings: array (nullable = true)\n",
                        " |    |-- element: struct (containsNull = true)\n",
                        " |    |    |-- annotatorType: string (nullable = true)\n",
                        " |    |    |-- begin: integer (nullable = false)\n",
                        " |    |    |-- end: integer (nullable = false)\n",
                        " |    |    |-- result: string (nullable = true)\n",
                        " |    |    |-- metadata: map (nullable = true)\n",
                        " |    |    |    |-- key: string\n",
                        " |    |    |    |-- value: string (valueContainsNull = true)\n",
                        " |    |    |-- embeddings: array (nullable = true)\n",
                        " |    |    |    |-- element: float (containsNull = false)\n",
                        "\n"
                    ]
                }
            ],
            "source": [
                "res.printSchema()"
            ]
        },
        {
            "cell_type": "markdown",
            "metadata": {
                "id": "nWe7PtYLrQT7"
            },
            "source": [
                "Checking the ner result"
            ]
        },
        {
            "cell_type": "code",
            "execution_count": null,
            "metadata": {
                "colab": {
                    "base_uri": "https://localhost:8080/"
                },
                "id": "bG41lCKTf89Y",
                "outputId": "2c8c9834-a1c8-4d9c-9026-200c24c78ca7"
            },
            "outputs": [
                {
                    "name": "stdout",
                    "output_type": "stream",
                    "text": [
                        "+---------+\n",
                        "|chunks   |\n",
                        "+---------+\n",
                        "|metformin|\n",
                        "+---------+\n",
                        "\n"
                    ]
                }
            ],
            "source": [
                "res.select(F.explode('ner_chunk.result').alias(\"chunks\")).show(truncate=False)"
            ]
        },
        {
            "cell_type": "markdown",
            "metadata": {
                "id": "4AsGy0OXshpV"
            },
            "source": [
                "Checking the mapper result"
            ]
        },
        {
            "cell_type": "code",
            "execution_count": null,
            "metadata": {
                "colab": {
                    "base_uri": "https://localhost:8080/"
                },
                "id": "oTRODkcHhzgw",
                "outputId": "51aadfd6-74aa-4dd1-dd95-65f52474bcb2"
            },
            "outputs": [
                {
                    "name": "stdout",
                    "output_type": "stream",
                    "text": [
                        "+-------------------------------------------------------------------------------------------------------------------------------------+\n",
                        "|metadata                                                                                                                             |\n",
                        "+-------------------------------------------------------------------------------------------------------------------------------------+\n",
                        "|[{chunk -> 0, relation -> action, confidence -> 0.9994, all_relations -> Drugs Used In Diabetes, entity -> metformin, sentence -> 0}]|\n",
                        "+-------------------------------------------------------------------------------------------------------------------------------------+\n",
                        "\n"
                    ]
                }
            ],
            "source": [
                "res.selectExpr(\"mappings.metadata\").show(truncate=False)"
            ]
        },
        {
            "cell_type": "code",
            "execution_count": null,
            "metadata": {
                "colab": {
                    "base_uri": "https://localhost:8080/"
                },
                "id": "DpWUhBkmDeve",
                "outputId": "da121470-40eb-444b-f5c5-349d21a4b27e"
            },
            "outputs": [
                {
                    "name": "stdout",
                    "output_type": "stream",
                    "text": [
                        "+---------+--------------+----------------------+\n",
                        "|ner_chunk|mapping_result|all_relations         |\n",
                        "+---------+--------------+----------------------+\n",
                        "|metformin|hypoglycemic  |Drugs Used In Diabetes|\n",
                        "+---------+--------------+----------------------+\n",
                        "\n"
                    ]
                }
            ],
            "source": [
                "res.select(F.explode(F.arrays_zip(res.ner_chunk.result, \n",
                "                                  res.mappings.result, \n",
                "                                  res.mappings.metadata)).alias(\"col\"))\\\n",
                "    .select(F.expr(\"col['0']\").alias(\"ner_chunk\"),\n",
                "            F.expr(\"col['1']\").alias(\"mapping_result\"),\n",
                "            F.expr(\"col['2']['all_relations']\").alias(\"all_relations\")).show(truncate=False)"
            ]
        },
        {
            "cell_type": "markdown",
            "metadata": {
                "id": "6hdWLMiss7uT"
            },
            "source": [
                "As you see, the model that we created with `ChunkMapperApproach()` succesfully mapped \"metformin\". Under the metadata, we can see all relations that we defined in Json. "
            ]
        },
        {
            "cell_type": "markdown",
            "metadata": {
                "id": "UJPH_FaOtqpP"
            },
            "source": [
                "### **2.1- Save the model to disk** "
            ]
        },
        {
            "cell_type": "markdown",
            "metadata": {
                "id": "S5SHrUZcu2iR"
            },
            "source": [
                "Now, we will save our model and use it with `ChunkMapperModel()`"
            ]
        },
        {
            "cell_type": "code",
            "execution_count": null,
            "metadata": {
                "id": "EaNF5kWUs46N"
            },
            "outputs": [],
            "source": [
                "model.stages[-1].write().save(\"models/drug_mapper\")"
            ]
        },
        {
            "cell_type": "markdown",
            "metadata": {
                "id": "VEBFO85yuw07"
            },
            "source": [
                "Using the saved model. This time we will check 'treatment' mappings results\n"
            ]
        },
        {
            "cell_type": "code",
            "execution_count": null,
            "metadata": {
                "colab": {
                    "base_uri": "https://localhost:8080/"
                },
                "id": "9xdx4s-MuutS",
                "outputId": "22c05e16-1f17-4fdc-8671-bfbf366aeeb5"
            },
            "outputs": [
                {
                    "name": "stdout",
                    "output_type": "stream",
                    "text": [
                        "embeddings_clinical download started this may take some time.\n",
                        "Approximate size to download 1.6 GB\n",
                        "[OK!]\n",
                        "ner_posology_small download started this may take some time.\n",
                        "[OK!]\n"
                    ]
                }
            ],
            "source": [
                "document_assembler = DocumentAssembler()\\\n",
                "      .setInputCol('text')\\\n",
                "      .setOutputCol('document')\n",
                "\n",
                "sentence_detector = SentenceDetector()\\\n",
                "      .setInputCols([\"document\"])\\\n",
                "      .setOutputCol(\"sentence\")\n",
                "\n",
                "tokenizer = Tokenizer()\\\n",
                "      .setInputCols(\"sentence\")\\\n",
                "      .setOutputCol(\"token\")\n",
                "\n",
                "word_embeddings = WordEmbeddingsModel.pretrained(\"embeddings_clinical\", \"en\", \"clinical/models\")\\\n",
                "      .setInputCols([\"sentence\", \"token\"])\\\n",
                "      .setOutputCol(\"embeddings\")\n",
                "\n",
                "#NER model to detect drug in the text\n",
                "clinical_ner = MedicalNerModel.pretrained(\"ner_posology_small\",\"en\",\"clinical/models\")\\\n",
                "\t    .setInputCols([\"sentence\",\"token\",\"embeddings\"])\\\n",
                "\t    .setOutputCol(\"ner\")\\\n",
                "      .setLabelCasing(\"upper\")\n",
                " \n",
                "ner_converter = NerConverter()\\\n",
                "      .setInputCols([\"sentence\", \"token\", \"ner\"])\\\n",
                "      .setOutputCol(\"ner_chunk\")\\\n",
                "      .setWhiteList([\"DRUG\"])\n",
                "\n",
                "chunkerMapper = ChunkMapperModel.load(\"./models/drug_mapper\")\\\n",
                "      .setInputCols([\"ner_chunk\"])\\\n",
                "      .setOutputCol(\"mappings\")\\\n",
                "      .setRel(\"treatment\") \n",
                "\n",
                "pipeline = Pipeline().setStages([document_assembler,\n",
                "                                 sentence_detector,\n",
                "                                 tokenizer, \n",
                "                                 word_embeddings,\n",
                "                                 clinical_ner, \n",
                "                                 ner_converter, \n",
                "                                 chunkerMapper])\n",
                "\n",
                "text = [\"The patient was given 1 unit of metformin daily.\"]\n",
                "\n",
                "test_data = spark.createDataFrame([text]).toDF(\"text\")\n",
                "\n",
                "model = pipeline.fit(test_data)\n",
                "res= model.transform(test_data)"
            ]
        },
        {
            "cell_type": "code",
            "execution_count": null,
            "metadata": {
                "colab": {
                    "base_uri": "https://localhost:8080/"
                },
                "id": "Pl3Wbxe1uugR",
                "outputId": "91190d03-c0b3-4ced-c622-d7d64484928b"
            },
            "outputs": [
                {
                    "name": "stdout",
                    "output_type": "stream",
                    "text": [
                        "+----------------------------------------------------------------------------------------------------------------------+\n",
                        "|metadata                                                                                                              |\n",
                        "+----------------------------------------------------------------------------------------------------------------------+\n",
                        "|[{chunk -> 0, relation -> treatment, confidence -> 0.9994, all_relations -> t2dm, entity -> metformin, sentence -> 0}]|\n",
                        "+----------------------------------------------------------------------------------------------------------------------+\n",
                        "\n"
                    ]
                }
            ],
            "source": [
                "res.selectExpr(\"mappings.metadata\").show(truncate=False)"
            ]
        },
        {
            "cell_type": "code",
            "execution_count": null,
            "metadata": {
                "colab": {
                    "base_uri": "https://localhost:8080/"
                },
                "id": "1-DCeMsjDnw0",
                "outputId": "b656f0f7-cb03-41c3-9007-a1c894afe517"
            },
            "outputs": [
                {
                    "name": "stdout",
                    "output_type": "stream",
                    "text": [
                        "+---------+--------------+-------------+\n",
                        "|ner_chunk|mapping_result|all_relations|\n",
                        "+---------+--------------+-------------+\n",
                        "|metformin|diabetes      |t2dm         |\n",
                        "+---------+--------------+-------------+\n",
                        "\n"
                    ]
                }
            ],
            "source": [
                "res.select(F.explode(F.arrays_zip(res.ner_chunk.result, \n",
                "                                  res.mappings.result, \n",
                "                                  res.mappings.metadata)).alias(\"col\"))\\\n",
                "    .select(F.expr(\"col['0']\").alias(\"ner_chunk\"),\n",
                "            F.expr(\"col['1']\").alias(\"mapping_result\"),\n",
                "            F.expr(\"col['2']['all_relations']\").alias(\"all_relations\")).show(truncate=False)"
            ]
        },
        {
            "cell_type": "markdown",
            "metadata": {
                "id": "cJW7n4Resju8"
            },
            "source": [
                "As you see above, we created our own drug mapper model successfully. "
            ]
        },
        {
            "cell_type": "markdown",
            "metadata": {
                "id": "s3SlO9WCfu79"
            },
            "source": [
                "### **2.2- Create a Model with Upper Cased or Lower Cased**"
            ]
        },
        {
            "cell_type": "markdown",
            "metadata": {
                "id": "zqbPFVfAf7Je"
            },
            "source": [
                "We can set the case status of `ChunkMapperApproach` while creating a model by using `setLowerCase()` parameter.\n",
                "\n",
                "Let's create a new mapping dictionary and see how it works. "
            ]
        },
        {
            "cell_type": "code",
            "execution_count": null,
            "metadata": {
                "id": "XaN7B3YJiTut"
            },
            "outputs": [],
            "source": [
                "data_set= {\n",
                "    \"mappings\": [\n",
                "        {\n",
                "            \"key\": \"Warfarina lusa\",\n",
                "            \"relations\": [\n",
                "                {\n",
                "                    \"key\": \"action\",\n",
                "                    \"values\": [\n",
                "                        \"Analgesic\",\n",
                "                        \"Antipyretic\"\n",
                "                    ]\n",
                "                },\n",
                "                {\n",
                "                    \"key\": \"treatment\",\n",
                "                    \"values\": [\n",
                "                        \"diabetes\",\n",
                "                        \"t2dm\"\n",
                "                    ]\n",
                "                }\n",
                "            ]\n",
                "        }\n",
                "    ]\n",
                "}\n",
                "\n",
                "import json\n",
                "with open('./mappings.json', 'w', encoding='utf-8') as f:\n",
                "    json.dump(data_set, f, ensure_ascii=False, indent=4)"
            ]
        },
        {
            "cell_type": "code",
            "execution_count": null,
            "metadata": {
                "id": "DBxQ1kJfmEA_"
            },
            "outputs": [],
            "source": [
                "sentences = [\n",
                "        [\"\"\"The patient was given Warfarina Lusa and amlodipine 10 MG.The patient was given Aspagin, coumadin 5 mg, coumadin, and he has metamorfin\"\"\"]\n",
                "    ]\n",
                "\n",
                "\n",
                "test_data = spark.createDataFrame(sentences).toDF(\"text\")"
            ]
        },
        {
            "cell_type": "markdown",
            "metadata": {
                "id": "fUlSk0y9mnyC"
            },
            "source": [
                "**`setLowerCase(True)`**"
            ]
        },
        {
            "cell_type": "code",
            "execution_count": null,
            "metadata": {
                "colab": {
                    "base_uri": "https://localhost:8080/"
                },
                "id": "dwTkmZUcfnDB",
                "outputId": "d18cfe54-c2ca-42f5-c078-72b0e6f3ccbb"
            },
            "outputs": [
                {
                    "name": "stdout",
                    "output_type": "stream",
                    "text": [
                        "+--------------------------------------------------------------------------------------------------------------------------------------------------------------------------+\n",
                        "|col                                                                                                                                                                       |\n",
                        "+--------------------------------------------------------------------------------------------------------------------------------------------------------------------------+\n",
                        "|{labeled_dependency, 22, 35, Analgesic, {chunk -> 0, relation -> action, confidence -> 0.6642, all_relations -> Antipyretic, entity -> Warfarina Lusa, sentence -> 0}, []}|\n",
                        "|{labeled_dependency, 41, 50, NONE, {entity -> amlodipine, sentence -> 0, chunk -> 1, confidence -> 0.9999}, []}                                                           |\n",
                        "|{labeled_dependency, 80, 86, NONE, {entity -> Aspagin, sentence -> 0, chunk -> 2, confidence -> 0.9908}, []}                                                              |\n",
                        "|{labeled_dependency, 89, 96, NONE, {entity -> coumadin, sentence -> 0, chunk -> 3, confidence -> 0.9997}, []}                                                             |\n",
                        "|{labeled_dependency, 104, 111, NONE, {entity -> coumadin, sentence -> 0, chunk -> 4, confidence -> 0.9994}, []}                                                           |\n",
                        "|{labeled_dependency, 125, 134, NONE, {entity -> metamorfin, sentence -> 0, chunk -> 5, confidence -> 0.9995}, []}                                                         |\n",
                        "+--------------------------------------------------------------------------------------------------------------------------------------------------------------------------+\n",
                        "\n"
                    ]
                }
            ],
            "source": [
                "chunkerMapper = ChunkMapperApproach() \\\n",
                "        .setInputCols([\"ner_chunk\"]) \\\n",
                "        .setOutputCol(\"mappings\") \\\n",
                "        .setDictionary(\"./mappings.json\") \\\n",
                "        .setRel(\"action\") \\\n",
                "        .setLowerCase(True) \\\n",
                "\n",
                "pipeline = Pipeline().setStages([document_assembler,\n",
                "                                 sentence_detector,\n",
                "                                 tokenizer, \n",
                "                                 word_embeddings,\n",
                "                                 clinical_ner, \n",
                "                                 ner_converter, \n",
                "                                 chunkerMapper])\n",
                "\n",
                "\n",
                "result_df = pipeline.fit(test_data).transform(test_data)\n",
                "result_df.selectExpr(\"explode(mappings)\").show(truncate=False)"
            ]
        },
        {
            "cell_type": "markdown",
            "metadata": {
                "id": "QhByE9vSm_to"
            },
            "source": [
                "\"Warfarina lusa\" is in lower case in the source json file, and in upper case(Warfarina Lusa) in our example training sentence. We trained that model in lower case, the model mapped the entity even though our training sentence is uppercased. <br/>\n",
                "\n",
                "Let's check with `setLowerCase(False)` and see the difference. "
            ]
        },
        {
            "cell_type": "code",
            "execution_count": null,
            "metadata": {
                "colab": {
                    "base_uri": "https://localhost:8080/"
                },
                "id": "Pv3UQrGZfm-I",
                "outputId": "43a336b2-a7c5-452c-b8a7-139e22ccd7e9"
            },
            "outputs": [
                {
                    "name": "stdout",
                    "output_type": "stream",
                    "text": [
                        "+-------------------------------------------------------------------------------------------------------------------+\n",
                        "|col                                                                                                                |\n",
                        "+-------------------------------------------------------------------------------------------------------------------+\n",
                        "|{labeled_dependency, 22, 35, NONE, {entity -> Warfarina Lusa, sentence -> 0, chunk -> 0, confidence -> 0.6642}, []}|\n",
                        "|{labeled_dependency, 41, 50, NONE, {entity -> amlodipine, sentence -> 0, chunk -> 1, confidence -> 0.9999}, []}    |\n",
                        "|{labeled_dependency, 80, 86, NONE, {entity -> Aspagin, sentence -> 0, chunk -> 2, confidence -> 0.9908}, []}       |\n",
                        "|{labeled_dependency, 89, 96, NONE, {entity -> coumadin, sentence -> 0, chunk -> 3, confidence -> 0.9997}, []}      |\n",
                        "|{labeled_dependency, 104, 111, NONE, {entity -> coumadin, sentence -> 0, chunk -> 4, confidence -> 0.9994}, []}    |\n",
                        "|{labeled_dependency, 125, 134, NONE, {entity -> metamorfin, sentence -> 0, chunk -> 5, confidence -> 0.9995}, []}  |\n",
                        "+-------------------------------------------------------------------------------------------------------------------+\n",
                        "\n"
                    ]
                }
            ],
            "source": [
                "chunkerMapper = ChunkMapperApproach() \\\n",
                "        .setInputCols([\"ner_chunk\"]) \\\n",
                "        .setOutputCol(\"mappings\") \\\n",
                "        .setDictionary(\"./mappings.json\") \\\n",
                "        .setRel(\"action\") \\\n",
                "        .setLowerCase(False) \\\n",
                "\n",
                "pipeline = Pipeline().setStages([document_assembler,\n",
                "                                 sentence_detector,\n",
                "                                 tokenizer, \n",
                "                                 word_embeddings,\n",
                "                                 clinical_ner, \n",
                "                                 ner_converter, \n",
                "                                 chunkerMapper])\n",
                "\n",
                "\n",
                "result_df = pipeline.fit(test_data).transform(test_data)\n",
                "result_df.selectExpr(\"explode(mappings)\").show(truncate=False)"
            ]
        },
        {
            "cell_type": "markdown",
            "metadata": {
                "id": "ooQvQ2YJp1ae"
            },
            "source": [
                "As you see, our model couldn't map the given uppercased \"Warfarine Lura\"."
            ]
        },
        {
            "cell_type": "markdown",
            "metadata": {
                "id": "5iORj5g_rAV7"
            },
            "source": [
                "### **2.3- Selecting Multiple Relations** "
            ]
        },
        {
            "cell_type": "markdown",
            "metadata": {
                "id": "xp4fqhZPrWG-"
            },
            "source": [
                "We can select multiple relations for the same chunk with the `setRels()` parameter."
            ]
        },
        {
            "cell_type": "code",
            "execution_count": null,
            "metadata": {
                "colab": {
                    "base_uri": "https://localhost:8080/"
                },
                "id": "38I9ft6BfmxY",
                "outputId": "4d899a0a-1939-49ef-f65c-53d2ae9b24c1"
            },
            "outputs": [
                {
                    "name": "stdout",
                    "output_type": "stream",
                    "text": [
                        "+--------------------------------------------------------------------------------------------------------------------------------------------------------------------------+\n",
                        "|col                                                                                                                                                                       |\n",
                        "+--------------------------------------------------------------------------------------------------------------------------------------------------------------------------+\n",
                        "|{labeled_dependency, 22, 35, Analgesic, {chunk -> 0, relation -> action, confidence -> 0.6642, all_relations -> Antipyretic, entity -> Warfarina Lusa, sentence -> 0}, []}|\n",
                        "|{labeled_dependency, 22, 35, diabetes, {chunk -> 0, relation -> treatment, confidence -> 0.6642, all_relations -> t2dm, entity -> Warfarina Lusa, sentence -> 0}, []}     |\n",
                        "|{labeled_dependency, 41, 50, NONE, {entity -> amlodipine, sentence -> 0, chunk -> 1, confidence -> 0.9999}, []}                                                           |\n",
                        "|{labeled_dependency, 80, 86, NONE, {entity -> Aspagin, sentence -> 0, chunk -> 2, confidence -> 0.9908}, []}                                                              |\n",
                        "|{labeled_dependency, 89, 96, NONE, {entity -> coumadin, sentence -> 0, chunk -> 3, confidence -> 0.9997}, []}                                                             |\n",
                        "|{labeled_dependency, 104, 111, NONE, {entity -> coumadin, sentence -> 0, chunk -> 4, confidence -> 0.9994}, []}                                                           |\n",
                        "|{labeled_dependency, 125, 134, NONE, {entity -> metamorfin, sentence -> 0, chunk -> 5, confidence -> 0.9995}, []}                                                         |\n",
                        "+--------------------------------------------------------------------------------------------------------------------------------------------------------------------------+\n",
                        "\n"
                    ]
                }
            ],
            "source": [
                "chunkerMapper = ChunkMapperApproach() \\\n",
                "        .setInputCols([\"ner_chunk\"]) \\\n",
                "        .setOutputCol(\"mappings\") \\\n",
                "        .setDictionary(\"./mappings.json\") \\\n",
                "        .setLowerCase(True) \\\n",
                "        .setRels([\"action\", \"treatment\"])\n",
                "\n",
                "pipeline = Pipeline().setStages([document_assembler,\n",
                "                                 sentence_detector,\n",
                "                                 tokenizer, \n",
                "                                 word_embeddings,\n",
                "                                 clinical_ner, \n",
                "                                 ner_converter, \n",
                "                                 chunkerMapper])\n",
                "\n",
                "\n",
                "result_df = pipeline.fit(test_data).transform(test_data)\n",
                "result_df.selectExpr(\"explode(mappings)\").show(truncate=False)"
            ]
        },
        {
            "cell_type": "markdown",
            "metadata": {
                "id": "LU7XurIxrz4T"
            },
            "source": [
                "As you see, we are able to see all the relations(action, treatment) at the same time. "
            ]
        },
        {
            "cell_type": "markdown",
            "metadata": {
                "id": "fYgl8fvAsELm"
            },
            "source": [
                "### **2.4- Filtering Multi-token Chunks**"
            ]
        },
        {
            "cell_type": "markdown",
            "metadata": {
                "id": "p1-8izXXsnDe"
            },
            "source": [
                "If the chunk includes multi-tokens splitted by a whitespace, we can filter that chunk by using `setAllowMultiTokenChunk()` parameter."
            ]
        },
        {
            "cell_type": "code",
            "execution_count": null,
            "metadata": {
                "colab": {
                    "base_uri": "https://localhost:8080/"
                },
                "id": "_yzlVT23sKvA",
                "outputId": "009512c3-783c-45f4-bcc7-2b65af830184"
            },
            "outputs": [
                {
                    "name": "stdout",
                    "output_type": "stream",
                    "text": [
                        "+-------------------------------------------------------------------------------------------------------------------+\n",
                        "|col                                                                                                                |\n",
                        "+-------------------------------------------------------------------------------------------------------------------+\n",
                        "|{labeled_dependency, 22, 35, NONE, {entity -> Warfarina Lusa, sentence -> 0, chunk -> 0, confidence -> 0.6642}, []}|\n",
                        "|{labeled_dependency, 41, 50, NONE, {entity -> amlodipine, sentence -> 0, chunk -> 1, confidence -> 0.9999}, []}    |\n",
                        "|{labeled_dependency, 80, 86, NONE, {entity -> Aspagin, sentence -> 0, chunk -> 2, confidence -> 0.9908}, []}       |\n",
                        "|{labeled_dependency, 89, 96, NONE, {entity -> coumadin, sentence -> 0, chunk -> 3, confidence -> 0.9997}, []}      |\n",
                        "|{labeled_dependency, 104, 111, NONE, {entity -> coumadin, sentence -> 0, chunk -> 4, confidence -> 0.9994}, []}    |\n",
                        "|{labeled_dependency, 125, 134, NONE, {entity -> metamorfin, sentence -> 0, chunk -> 5, confidence -> 0.9995}, []}  |\n",
                        "+-------------------------------------------------------------------------------------------------------------------+\n",
                        "\n"
                    ]
                }
            ],
            "source": [
                "chunkerMapper = ChunkMapperApproach() \\\n",
                "        .setInputCols([\"ner_chunk\"]) \\\n",
                "        .setOutputCol(\"mappings\") \\\n",
                "        .setDictionary(\"./mappings.json\") \\\n",
                "        .setLowerCase(True) \\\n",
                "        .setRels([\"action\", \"treatment\"]) \\\n",
                "        .setAllowMultiTokenChunk(False)\n",
                "\n",
                "pipeline = Pipeline().setStages([document_assembler,\n",
                "                                 sentence_detector,\n",
                "                                 tokenizer, \n",
                "                                 word_embeddings,\n",
                "                                 clinical_ner, \n",
                "                                 ner_converter, \n",
                "                                 chunkerMapper])\n",
                "\n",
                "\n",
                "result_df = pipeline.fit(test_data).transform(test_data)\n",
                "result_df.selectExpr(\"explode(mappings)\").show(truncate=False)"
            ]
        },
        {
            "cell_type": "markdown",
            "metadata": {
                "id": "QkYb6byStDTA"
            },
            "source": [
                "The chunk \"Warfarina Lusa\" is a multi-token. Therefore, our mapper model skip that entity. <br/>\n",
                "So, let's set `.setAllowMultiTokenChunk(True)` and see the difference. "
            ]
        },
        {
            "cell_type": "code",
            "execution_count": null,
            "metadata": {
                "colab": {
                    "base_uri": "https://localhost:8080/"
                },
                "id": "9pTV_9BLtifw",
                "outputId": "b5f0f4e8-bbc2-4cec-da1b-bf6bbe34793f"
            },
            "outputs": [
                {
                    "name": "stdout",
                    "output_type": "stream",
                    "text": [
                        "+--------------------------------------------------------------------------------------------------------------------------------------------------------------------------+\n",
                        "|col                                                                                                                                                                       |\n",
                        "+--------------------------------------------------------------------------------------------------------------------------------------------------------------------------+\n",
                        "|{labeled_dependency, 22, 35, Analgesic, {chunk -> 0, relation -> action, confidence -> 0.6642, all_relations -> Antipyretic, entity -> Warfarina Lusa, sentence -> 0}, []}|\n",
                        "|{labeled_dependency, 22, 35, diabetes, {chunk -> 0, relation -> treatment, confidence -> 0.6642, all_relations -> t2dm, entity -> Warfarina Lusa, sentence -> 0}, []}     |\n",
                        "|{labeled_dependency, 41, 50, NONE, {entity -> amlodipine, sentence -> 0, chunk -> 1, confidence -> 0.9999}, []}                                                           |\n",
                        "|{labeled_dependency, 80, 86, NONE, {entity -> Aspagin, sentence -> 0, chunk -> 2, confidence -> 0.9908}, []}                                                              |\n",
                        "|{labeled_dependency, 89, 96, NONE, {entity -> coumadin, sentence -> 0, chunk -> 3, confidence -> 0.9997}, []}                                                             |\n",
                        "|{labeled_dependency, 104, 111, NONE, {entity -> coumadin, sentence -> 0, chunk -> 4, confidence -> 0.9994}, []}                                                           |\n",
                        "|{labeled_dependency, 125, 134, NONE, {entity -> metamorfin, sentence -> 0, chunk -> 5, confidence -> 0.9995}, []}                                                         |\n",
                        "+--------------------------------------------------------------------------------------------------------------------------------------------------------------------------+\n",
                        "\n"
                    ]
                }
            ],
            "source": [
                "chunkerMapper = ChunkMapperApproach() \\\n",
                "        .setInputCols([\"ner_chunk\"]) \\\n",
                "        .setOutputCol(\"mappings\") \\\n",
                "        .setDictionary(\"./mappings.json\") \\\n",
                "        .setRel(\"action\") \\\n",
                "        .setLowerCase(True) \\\n",
                "        .setRels([\"action\", \"treatment\"]) \\\n",
                "        .setAllowMultiTokenChunk(True)\n",
                "\n",
                "pipeline = Pipeline().setStages([document_assembler,\n",
                "                                 sentence_detector,\n",
                "                                 tokenizer, \n",
                "                                 word_embeddings,\n",
                "                                 clinical_ner, \n",
                "                                 ner_converter, \n",
                "                                 chunkerMapper])\n",
                "\n",
                "\n",
                "result_df = pipeline.fit(test_data).transform(test_data)\n",
                "result_df.selectExpr(\"explode(mappings)\").show(truncate=False)"
            ]
        },
        {
            "cell_type": "markdown",
            "metadata": {
                "id": "J-ZTtXsmtzJM"
            },
            "source": [
                "# **3- ChunkMapperFilterer**"
            ]
        },
        {
            "cell_type": "markdown",
            "metadata": {
                "id": "pm2VP4MXuDSK"
            },
            "source": [
                "`ChunkMapperFilterer` annotator allows filtering of the chunks that were passed through the ChunkMapperModel. <br/>\n",
                "\n",
                "We can filter chunks by setting the `.setReturnCriteria()` parameter. It has 2 options; <br/>\n",
                "\n",
                "\n",
                "**success:** Returns the chunks which are mapped by ChunkMapper <br/>\n",
                "\n",
                "**fail:** Returns the chunks which are not mapped by ChunkMapper <br/>"
            ]
        },
        {
            "cell_type": "markdown",
            "metadata": {
                "id": "I5gJw22BvZ5b"
            },
            "source": [
                "Let's apply the both options and check the results. "
            ]
        },
        {
            "cell_type": "code",
            "execution_count": null,
            "metadata": {
                "colab": {
                    "base_uri": "https://localhost:8080/"
                },
                "id": "R8MUfkhRtiZK",
                "outputId": "8dda562e-d37c-4f7b-b839-2111dd011a15"
            },
            "outputs": [
                {
                    "name": "stdout",
                    "output_type": "stream",
                    "text": [
                        "+--------------------------------------------------------------------------------------------------------------------------------------------------------------------------+\n",
                        "|col                                                                                                                                                                       |\n",
                        "+--------------------------------------------------------------------------------------------------------------------------------------------------------------------------+\n",
                        "|{labeled_dependency, 22, 35, Analgesic, {chunk -> 0, relation -> action, confidence -> 0.6642, all_relations -> Antipyretic, entity -> Warfarina Lusa, sentence -> 0}, []}|\n",
                        "|{labeled_dependency, 22, 35, diabetes, {chunk -> 0, relation -> treatment, confidence -> 0.6642, all_relations -> t2dm, entity -> Warfarina Lusa, sentence -> 0}, []}     |\n",
                        "|{labeled_dependency, 41, 50, NONE, {entity -> amlodipine, sentence -> 0, chunk -> 1, confidence -> 0.9999}, []}                                                           |\n",
                        "|{labeled_dependency, 80, 86, NONE, {entity -> Aspagin, sentence -> 0, chunk -> 2, confidence -> 0.9908}, []}                                                              |\n",
                        "|{labeled_dependency, 89, 96, NONE, {entity -> coumadin, sentence -> 0, chunk -> 3, confidence -> 0.9997}, []}                                                             |\n",
                        "|{labeled_dependency, 104, 111, NONE, {entity -> coumadin, sentence -> 0, chunk -> 4, confidence -> 0.9994}, []}                                                           |\n",
                        "|{labeled_dependency, 125, 134, NONE, {entity -> metamorfin, sentence -> 0, chunk -> 5, confidence -> 0.9995}, []}                                                         |\n",
                        "+--------------------------------------------------------------------------------------------------------------------------------------------------------------------------+\n",
                        "\n"
                    ]
                }
            ],
            "source": [
                "chunkerMapper = ChunkMapperApproach() \\\n",
                "        .setInputCols([\"ner_chunk\"]) \\\n",
                "        .setOutputCol(\"mappings\") \\\n",
                "        .setDictionary(\"./mappings.json\") \\\n",
                "        .setRel(\"action\") \\\n",
                "        .setLowerCase(True) \\\n",
                "        .setRels([\"action\", \"treatment\"]) \\\n",
                "\n",
                "pipeline = Pipeline().setStages([document_assembler,\n",
                "                                 sentence_detector,\n",
                "                                 tokenizer, \n",
                "                                 word_embeddings,\n",
                "                                 clinical_ner, \n",
                "                                 ner_converter, \n",
                "                                 chunkerMapper])\n",
                "\n",
                "\n",
                "result_df = pipeline.fit(test_data).transform(test_data)\n",
                "result_df.selectExpr(\"explode(mappings)\").show(truncate=False)"
            ]
        },
        {
            "cell_type": "markdown",
            "metadata": {
                "id": "M2V0T1b7vuFS"
            },
            "source": [
                "**`.setReturnCriteria(\"success\")`**"
            ]
        },
        {
            "cell_type": "code",
            "execution_count": null,
            "metadata": {
                "colab": {
                    "base_uri": "https://localhost:8080/"
                },
                "id": "IssbtA3Xqsgm",
                "outputId": "fcc9bab9-1993-40cb-fae4-d5894fd2259f"
            },
            "outputs": [
                {
                    "name": "stdout",
                    "output_type": "stream",
                    "text": [
                        "+------------------------------------------------------------------------------------------------------+\n",
                        "|col                                                                                                   |\n",
                        "+------------------------------------------------------------------------------------------------------+\n",
                        "|{chunk, 22, 35, Warfarina Lusa, {entity -> DRUG, sentence -> 0, chunk -> 0, confidence -> 0.6642}, []}|\n",
                        "+------------------------------------------------------------------------------------------------------+\n",
                        "\n"
                    ]
                }
            ],
            "source": [
                "cfModel = ChunkMapperFilterer() \\\n",
                "        .setInputCols([\"ner_chunk\",\"mappings\"]) \\\n",
                "        .setOutputCol(\"chunks_filtered\")\\\n",
                "        .setReturnCriteria(\"success\")\n",
                "\n",
                "cfModel.transform(result_df).selectExpr(\"explode(chunks_filtered)\").show(truncate=False)"
            ]
        },
        {
            "cell_type": "markdown",
            "metadata": {
                "id": "YTODYW0pvyl_"
            },
            "source": [
                "**`.setReturnCriteria(\"fail\")`**"
            ]
        },
        {
            "cell_type": "code",
            "execution_count": null,
            "metadata": {
                "colab": {
                    "base_uri": "https://localhost:8080/"
                },
                "id": "DZ9UNFk4qsaS",
                "outputId": "bdd8089a-20ed-4c6f-d0e0-e6d153f8e923"
            },
            "outputs": [
                {
                    "name": "stdout",
                    "output_type": "stream",
                    "text": [
                        "+----------------------------------------------------------------------------------------------------+\n",
                        "|col                                                                                                 |\n",
                        "+----------------------------------------------------------------------------------------------------+\n",
                        "|{chunk, 41, 50, amlodipine, {entity -> DRUG, sentence -> 0, chunk -> 1, confidence -> 0.9999}, []}  |\n",
                        "|{chunk, 80, 86, Aspagin, {entity -> DRUG, sentence -> 0, chunk -> 2, confidence -> 0.9908}, []}     |\n",
                        "|{chunk, 89, 96, coumadin, {entity -> DRUG, sentence -> 0, chunk -> 3, confidence -> 0.9997}, []}    |\n",
                        "|{chunk, 104, 111, coumadin, {entity -> DRUG, sentence -> 0, chunk -> 4, confidence -> 0.9994}, []}  |\n",
                        "|{chunk, 125, 134, metamorfin, {entity -> DRUG, sentence -> 0, chunk -> 5, confidence -> 0.9995}, []}|\n",
                        "+----------------------------------------------------------------------------------------------------+\n",
                        "\n"
                    ]
                }
            ],
            "source": [
                "cfModel = ChunkMapperFilterer() \\\n",
                "        .setInputCols([\"ner_chunk\",\"mappings\"]) \\\n",
                "        .setOutputCol(\"chunks_filtered\")\\\n",
                "        .setReturnCriteria(\"fail\")\n",
                "\n",
                "cfModel.transform(result_df).selectExpr(\"explode(chunks_filtered)\").show(truncate=False)"
            ]
        },
        {
            "cell_type": "markdown",
            "metadata": {
                "id": "HJ9tNW9Gt5Sb"
            },
            "source": [
                "# **4- Section Header Normalizer Mapper with ChunkSentenceSplitter**"
            ]
        },
        {
            "cell_type": "markdown",
            "metadata": {
                "id": "0tlEvAPvu6Lb"
            },
            "source": [
                "`ChunkSentenceSplitter()` annotator splits documents or sentences by chunks provided. <br/> For detailed usage of this annotator, visit [this notebook](https://github.com/JohnSnowLabs/spark-nlp-workshop/blob/master/tutorials/Certification_Trainings/Healthcare/18.Chunk_Sentence_Splitter.ipynb) <br/>\n",
                "\n",
                "In this section, we will do the following steps; \n",
                "- Detect \"section headers\" in given text through Ner model\n",
                "- Split the given text by headers with `ChunkSentenceSplitter()`\n",
                "- Normalize the `ChunkSentenceSplitter()` outputs with `normalized_section_header_mapper` model. "
            ]
        },
        {
            "cell_type": "markdown",
            "metadata": {
                "id": "xlNR3ioQYQPc"
            },
            "source": [
                "Let's start with creating Ner pipeline to detect \"Header\" "
            ]
        },
        {
            "cell_type": "code",
            "execution_count": null,
            "metadata": {
                "id": "e3ABtM79mf86"
            },
            "outputs": [],
            "source": [
                "sentences = [\n",
                "    [\"\"\"ADMISSION DIAGNOSIS Right pleural effusion and suspected malignant mesothelioma.\n",
                "        PRINCIPAL DIAGNOSIS Right pleural effusion, suspected malignant mesothelioma.\n",
                "        REVIEW OF SYSTEMS Right pleural effusion, firm nodules, diffuse scattered throughout the right pleura and diaphragmatic surface.\n",
                "    \"\"\"]]\n",
                "\n",
                "df= spark.createDataFrame(sentences).toDF(\"text\")"
            ]
        },
        {
            "cell_type": "code",
            "execution_count": null,
            "metadata": {
                "colab": {
                    "base_uri": "https://localhost:8080/"
                },
                "id": "Wuab7yVluOLY",
                "outputId": "dc2550cc-2889-4c75-cf31-40ea2f34f58c"
            },
            "outputs": [
                {
                    "name": "stdout",
                    "output_type": "stream",
                    "text": [
                        "bert_token_classifier_ner_jsl_slim download started this may take some time.\n",
                        "Approximate size to download 385.7 MB\n",
                        "[OK!]\n"
                    ]
                }
            ],
            "source": [
                "documentAssembler = DocumentAssembler()\\\n",
                "      .setInputCol(\"text\")\\\n",
                "      .setOutputCol(\"document\")\n",
                "\n",
                "tokenizer= Tokenizer()\\\n",
                "      .setInputCols([\"document\"])\\\n",
                "      .setOutputCol(\"token\")\n",
                "\n",
                "tokenClassifier = MedicalBertForTokenClassifier.pretrained(\"bert_token_classifier_ner_jsl_slim\", \"en\", \"clinical/models\")\\\n",
                "    .setInputCols(\"token\", \"document\")\\\n",
                "    .setOutputCol(\"ner\")\\\n",
                "    .setCaseSensitive(True)\n",
                "\n",
                "ner_converter = NerConverter() \\\n",
                "      .setInputCols([\"document\", \"token\", \"ner\"]) \\\n",
                "      .setOutputCol(\"ner_chunk\")\\\n",
                "      .setWhiteList([\"Header\"])\n",
                "\n",
                "pipeline = Pipeline(\n",
                "    stages = [\n",
                "        documentAssembler,\n",
                "        tokenizer,\n",
                "        tokenClassifier,\n",
                "        ner_converter\n",
                "    ])\n",
                " \n",
                "empty_df = spark.createDataFrame([[\"\"]]).toDF('text')\n",
                "pipeline_model = pipeline.fit(empty_df)"
            ]
        },
        {
            "cell_type": "code",
            "execution_count": null,
            "metadata": {
                "colab": {
                    "base_uri": "https://localhost:8080/"
                },
                "id": "fWqZRiCquOqe",
                "outputId": "80b23574-a08a-461e-8ba3-0f3ec1e06245"
            },
            "outputs": [
                {
                    "name": "stdout",
                    "output_type": "stream",
                    "text": [
                        "+------------------------------------------------------------------------------------------------------------------+\n",
                        "|col                                                                                                               |\n",
                        "+------------------------------------------------------------------------------------------------------------------+\n",
                        "|{chunk, 0, 18, ADMISSION DIAGNOSIS, {entity -> Header, sentence -> 0, chunk -> 0, confidence -> 0.9994346}, []}   |\n",
                        "|{chunk, 89, 107, PRINCIPAL DIAGNOSIS, {entity -> Header, sentence -> 0, chunk -> 1, confidence -> 0.99020165}, []}|\n",
                        "|{chunk, 175, 191, REVIEW OF SYSTEMS, {entity -> Header, sentence -> 0, chunk -> 2, confidence -> 0.9989373}, []}  |\n",
                        "+------------------------------------------------------------------------------------------------------------------+\n",
                        "\n"
                    ]
                }
            ],
            "source": [
                "result = pipeline_model.transform(df)\n",
                "result.selectExpr('explode(ner_chunk)').show(truncate=False)"
            ]
        },
        {
            "cell_type": "markdown",
            "metadata": {
                "id": "ymUF_0f1ct7A"
            },
            "source": [
                "Now, we have our header entities. We will split the text by the headers."
            ]
        },
        {
            "cell_type": "code",
            "execution_count": null,
            "metadata": {
                "id": "NZqSKVp1uOnP"
            },
            "outputs": [],
            "source": [
                "#applying ChunkSentenceSplitter \n",
                "chunkSentenceSplitter = ChunkSentenceSplitter()\\\n",
                "    .setInputCols(\"document\",\"ner_chunk\")\\\n",
                "    .setOutputCol(\"paragraphs\")\\\n",
                "    .setGroupBySentences(False)\n",
                "\n",
                "paragraphs = chunkSentenceSplitter.transform(result)"
            ]
        },
        {
            "cell_type": "code",
            "execution_count": null,
            "metadata": {
                "colab": {
                    "base_uri": "https://localhost:8080/"
                },
                "id": "pCJL4x0ybatJ",
                "outputId": "a97a606d-20a4-4bc2-a6c0-7b9d6fb757ab"
            },
            "outputs": [
                {
                    "name": "stdout",
                    "output_type": "stream",
                    "text": [
                        "+--------------------+--------------------+--------------------+--------------------+--------------------+--------------------+\n",
                        "|                text|            document|               token|                 ner|           ner_chunk|          paragraphs|\n",
                        "+--------------------+--------------------+--------------------+--------------------+--------------------+--------------------+\n",
                        "|ADMISSION DIAGNOS...|[{document, 0, 30...|[{token, 0, 8, AD...|[{named_entity, 0...|[{chunk, 0, 18, A...|[{document, 0, 89...|\n",
                        "+--------------------+--------------------+--------------------+--------------------+--------------------+--------------------+\n",
                        "\n"
                    ]
                }
            ],
            "source": [
                "paragraphs.show()"
            ]
        },
        {
            "cell_type": "code",
            "execution_count": null,
            "metadata": {
                "colab": {
                    "base_uri": "https://localhost:8080/",
                    "height": 142
                },
                "id": "I-suygS7bapo",
                "outputId": "624c4030-7d39-48fd-f79d-cd9657dcec6e"
            },
            "outputs": [
                {
                    "data": {
                        "text/html": [
                            "\n",
                            "  <div id=\"df-a09ed5a4-fe6b-49a2-ab93-7982cf5a9bca\">\n",
                            "    <div class=\"colab-df-container\">\n",
                            "      <div>\n",
                            "<style scoped>\n",
                            "    .dataframe tbody tr th:only-of-type {\n",
                            "        vertical-align: middle;\n",
                            "    }\n",
                            "\n",
                            "    .dataframe tbody tr th {\n",
                            "        vertical-align: top;\n",
                            "    }\n",
                            "\n",
                            "    .dataframe thead th {\n",
                            "        text-align: right;\n",
                            "    }\n",
                            "</style>\n",
                            "<table border=\"1\" class=\"dataframe\">\n",
                            "  <thead>\n",
                            "    <tr style=\"text-align: right;\">\n",
                            "      <th></th>\n",
                            "      <th>result</th>\n",
                            "      <th>entity</th>\n",
                            "      <th>splitter_chunk</th>\n",
                            "    </tr>\n",
                            "  </thead>\n",
                            "  <tbody>\n",
                            "    <tr>\n",
                            "      <th>0</th>\n",
                            "      <td>ADMISSION DIAGNOSIS Right pleural effusion and suspected malignant mesothelioma.\\n</td>\n",
                            "      <td>Header</td>\n",
                            "      <td>ADMISSION DIAGNOSIS</td>\n",
                            "    </tr>\n",
                            "    <tr>\n",
                            "      <th>1</th>\n",
                            "      <td>PRINCIPAL DIAGNOSIS Right pleural effusion, suspected malignant mesothelioma.\\n</td>\n",
                            "      <td>Header</td>\n",
                            "      <td>PRINCIPAL DIAGNOSIS</td>\n",
                            "    </tr>\n",
                            "    <tr>\n",
                            "      <th>2</th>\n",
                            "      <td>REVIEW OF SYSTEMS Right pleural effusion, firm nodules, diffuse scattered throughout the right pleura and diaphragmatic surface.\\n</td>\n",
                            "      <td>Header</td>\n",
                            "      <td>REVIEW OF SYSTEMS</td>\n",
                            "    </tr>\n",
                            "  </tbody>\n",
                            "</table>\n",
                            "</div>\n",
                            "      <button class=\"colab-df-convert\" onclick=\"convertToInteractive('df-a09ed5a4-fe6b-49a2-ab93-7982cf5a9bca')\"\n",
                            "              title=\"Convert this dataframe to an interactive table.\"\n",
                            "              style=\"display:none;\">\n",
                            "        \n",
                            "  <svg xmlns=\"http://www.w3.org/2000/svg\" height=\"24px\"viewBox=\"0 0 24 24\"\n",
                            "       width=\"24px\">\n",
                            "    <path d=\"M0 0h24v24H0V0z\" fill=\"none\"/>\n",
                            "    <path d=\"M18.56 5.44l.94 2.06.94-2.06 2.06-.94-2.06-.94-.94-2.06-.94 2.06-2.06.94zm-11 1L8.5 8.5l.94-2.06 2.06-.94-2.06-.94L8.5 2.5l-.94 2.06-2.06.94zm10 10l.94 2.06.94-2.06 2.06-.94-2.06-.94-.94-2.06-.94 2.06-2.06.94z\"/><path d=\"M17.41 7.96l-1.37-1.37c-.4-.4-.92-.59-1.43-.59-.52 0-1.04.2-1.43.59L10.3 9.45l-7.72 7.72c-.78.78-.78 2.05 0 2.83L4 21.41c.39.39.9.59 1.41.59.51 0 1.02-.2 1.41-.59l7.78-7.78 2.81-2.81c.8-.78.8-2.07 0-2.86zM5.41 20L4 18.59l7.72-7.72 1.47 1.35L5.41 20z\"/>\n",
                            "  </svg>\n",
                            "      </button>\n",
                            "      \n",
                            "  <style>\n",
                            "    .colab-df-container {\n",
                            "      display:flex;\n",
                            "      flex-wrap:wrap;\n",
                            "      gap: 12px;\n",
                            "    }\n",
                            "\n",
                            "    .colab-df-convert {\n",
                            "      background-color: #E8F0FE;\n",
                            "      border: none;\n",
                            "      border-radius: 50%;\n",
                            "      cursor: pointer;\n",
                            "      display: none;\n",
                            "      fill: #1967D2;\n",
                            "      height: 32px;\n",
                            "      padding: 0 0 0 0;\n",
                            "      width: 32px;\n",
                            "    }\n",
                            "\n",
                            "    .colab-df-convert:hover {\n",
                            "      background-color: #E2EBFA;\n",
                            "      box-shadow: 0px 1px 2px rgba(60, 64, 67, 0.3), 0px 1px 3px 1px rgba(60, 64, 67, 0.15);\n",
                            "      fill: #174EA6;\n",
                            "    }\n",
                            "\n",
                            "    [theme=dark] .colab-df-convert {\n",
                            "      background-color: #3B4455;\n",
                            "      fill: #D2E3FC;\n",
                            "    }\n",
                            "\n",
                            "    [theme=dark] .colab-df-convert:hover {\n",
                            "      background-color: #434B5C;\n",
                            "      box-shadow: 0px 1px 3px 1px rgba(0, 0, 0, 0.15);\n",
                            "      filter: drop-shadow(0px 1px 2px rgba(0, 0, 0, 0.3));\n",
                            "      fill: #FFFFFF;\n",
                            "    }\n",
                            "  </style>\n",
                            "\n",
                            "      <script>\n",
                            "        const buttonEl =\n",
                            "          document.querySelector('#df-a09ed5a4-fe6b-49a2-ab93-7982cf5a9bca button.colab-df-convert');\n",
                            "        buttonEl.style.display =\n",
                            "          google.colab.kernel.accessAllowed ? 'block' : 'none';\n",
                            "\n",
                            "        async function convertToInteractive(key) {\n",
                            "          const element = document.querySelector('#df-a09ed5a4-fe6b-49a2-ab93-7982cf5a9bca');\n",
                            "          const dataTable =\n",
                            "            await google.colab.kernel.invokeFunction('convertToInteractive',\n",
                            "                                                     [key], {});\n",
                            "          if (!dataTable) return;\n",
                            "\n",
                            "          const docLinkHtml = 'Like what you see? Visit the ' +\n",
                            "            '<a target=\"_blank\" href=https://colab.research.google.com/notebooks/data_table.ipynb>data table notebook</a>'\n",
                            "            + ' to learn more about interactive tables.';\n",
                            "          element.innerHTML = '';\n",
                            "          dataTable['output_type'] = 'display_data';\n",
                            "          await google.colab.output.renderOutput(dataTable, element);\n",
                            "          const docLink = document.createElement('div');\n",
                            "          docLink.innerHTML = docLinkHtml;\n",
                            "          element.appendChild(docLink);\n",
                            "        }\n",
                            "      </script>\n",
                            "    </div>\n",
                            "  </div>\n",
                            "  "
                        ],
                        "text/plain": [
                            "                                                                                                                                  result  \\\n",
                            "0                                             ADMISSION DIAGNOSIS Right pleural effusion and suspected malignant mesothelioma.\\n           \n",
                            "1                                                PRINCIPAL DIAGNOSIS Right pleural effusion, suspected malignant mesothelioma.\\n           \n",
                            "2  REVIEW OF SYSTEMS Right pleural effusion, firm nodules, diffuse scattered throughout the right pleura and diaphragmatic surface.\\n      \n",
                            "\n",
                            "   entity       splitter_chunk  \n",
                            "0  Header  ADMISSION DIAGNOSIS  \n",
                            "1  Header  PRINCIPAL DIAGNOSIS  \n",
                            "2  Header    REVIEW OF SYSTEMS  "
                        ]
                    },
                    "execution_count": 25,
                    "metadata": {},
                    "output_type": "execute_result"
                }
            ],
            "source": [
                "pd.set_option('display.max_colwidth', None)\n",
                "result_df = paragraphs.selectExpr(\"explode(paragraphs) as result\").selectExpr(\"result.result\",\"result.metadata.entity\", \"result.metadata.splitter_chunk\").toPandas()\n",
                "result_df.head()"
            ]
        },
        {
            "cell_type": "markdown",
            "metadata": {
                "id": "1aO6pVkheYYg"
            },
            "source": [
                "As you see, we have our splitted text and **section headers**. <br/>\n",
                "Now we will normalize this section headers with `normalized_section_header_mapper`"
            ]
        },
        {
            "cell_type": "code",
            "execution_count": null,
            "metadata": {
                "colab": {
                    "base_uri": "https://localhost:8080/"
                },
                "id": "v3e8FeqUcCRc",
                "outputId": "d1c1bcb4-4480-4c06-f403-5d53dfcfb0f6"
            },
            "outputs": [
                {
                    "name": "stdout",
                    "output_type": "stream",
                    "text": [
                        "normalized_section_header_mapper download started this may take some time.\n",
                        "Approximate size to download 13.9 KB\n",
                        "[OK!]\n"
                    ]
                }
            ],
            "source": [
                "chunkerMapper = ChunkMapperModel.pretrained(\"normalized_section_header_mapper\", \"en\", \"clinical/models\") \\\n",
                "       .setInputCols(\"ner_chunk\")\\\n",
                "       .setOutputCol(\"mappings\")\\\n",
                "       .setRel(\"level_1\") #or level_2\n",
                "\n",
                "normalized_df= chunkerMapper.transform(paragraphs)"
            ]
        },
        {
            "cell_type": "code",
            "execution_count": null,
            "metadata": {
                "colab": {
                    "base_uri": "https://localhost:8080/"
                },
                "id": "G4mdVzaTiQWP",
                "outputId": "c3967170-5560-4af3-8353-3f673b77a870"
            },
            "outputs": [
                {
                    "name": "stdout",
                    "output_type": "stream",
                    "text": [
                        "+--------------------+--------------------+--------------------+--------------------+--------------------+--------------------+--------------------+\n",
                        "|                text|            document|               token|                 ner|           ner_chunk|          paragraphs|            mappings|\n",
                        "+--------------------+--------------------+--------------------+--------------------+--------------------+--------------------+--------------------+\n",
                        "|ADMISSION DIAGNOS...|[{document, 0, 30...|[{token, 0, 8, AD...|[{named_entity, 0...|[{chunk, 0, 18, A...|[{document, 0, 89...|[{labeled_depende...|\n",
                        "+--------------------+--------------------+--------------------+--------------------+--------------------+--------------------+--------------------+\n",
                        "\n"
                    ]
                }
            ],
            "source": [
                "normalized_df.show()"
            ]
        },
        {
            "cell_type": "code",
            "execution_count": null,
            "metadata": {
                "colab": {
                    "base_uri": "https://localhost:8080/",
                    "height": 142
                },
                "id": "W39fNYQiiQR-",
                "outputId": "7e1ad674-b490-4743-f513-0acd618893e6"
            },
            "outputs": [
                {
                    "data": {
                        "text/html": [
                            "\n",
                            "  <div id=\"df-cde11f07-e496-4d19-b3e9-1c1f46397ce0\">\n",
                            "    <div class=\"colab-df-container\">\n",
                            "      <div>\n",
                            "<style scoped>\n",
                            "    .dataframe tbody tr th:only-of-type {\n",
                            "        vertical-align: middle;\n",
                            "    }\n",
                            "\n",
                            "    .dataframe tbody tr th {\n",
                            "        vertical-align: top;\n",
                            "    }\n",
                            "\n",
                            "    .dataframe thead th {\n",
                            "        text-align: right;\n",
                            "    }\n",
                            "</style>\n",
                            "<table border=\"1\" class=\"dataframe\">\n",
                            "  <thead>\n",
                            "    <tr style=\"text-align: right;\">\n",
                            "      <th></th>\n",
                            "      <th>ner_chunk</th>\n",
                            "      <th>normalized_headers</th>\n",
                            "    </tr>\n",
                            "  </thead>\n",
                            "  <tbody>\n",
                            "    <tr>\n",
                            "      <th>0</th>\n",
                            "      <td>ADMISSION DIAGNOSIS</td>\n",
                            "      <td>DIAGNOSIS</td>\n",
                            "    </tr>\n",
                            "    <tr>\n",
                            "      <th>1</th>\n",
                            "      <td>PRINCIPAL DIAGNOSIS</td>\n",
                            "      <td>DIAGNOSIS</td>\n",
                            "    </tr>\n",
                            "    <tr>\n",
                            "      <th>2</th>\n",
                            "      <td>REVIEW OF SYSTEMS</td>\n",
                            "      <td>REVIEW TYPE</td>\n",
                            "    </tr>\n",
                            "  </tbody>\n",
                            "</table>\n",
                            "</div>\n",
                            "      <button class=\"colab-df-convert\" onclick=\"convertToInteractive('df-cde11f07-e496-4d19-b3e9-1c1f46397ce0')\"\n",
                            "              title=\"Convert this dataframe to an interactive table.\"\n",
                            "              style=\"display:none;\">\n",
                            "        \n",
                            "  <svg xmlns=\"http://www.w3.org/2000/svg\" height=\"24px\"viewBox=\"0 0 24 24\"\n",
                            "       width=\"24px\">\n",
                            "    <path d=\"M0 0h24v24H0V0z\" fill=\"none\"/>\n",
                            "    <path d=\"M18.56 5.44l.94 2.06.94-2.06 2.06-.94-2.06-.94-.94-2.06-.94 2.06-2.06.94zm-11 1L8.5 8.5l.94-2.06 2.06-.94-2.06-.94L8.5 2.5l-.94 2.06-2.06.94zm10 10l.94 2.06.94-2.06 2.06-.94-2.06-.94-.94-2.06-.94 2.06-2.06.94z\"/><path d=\"M17.41 7.96l-1.37-1.37c-.4-.4-.92-.59-1.43-.59-.52 0-1.04.2-1.43.59L10.3 9.45l-7.72 7.72c-.78.78-.78 2.05 0 2.83L4 21.41c.39.39.9.59 1.41.59.51 0 1.02-.2 1.41-.59l7.78-7.78 2.81-2.81c.8-.78.8-2.07 0-2.86zM5.41 20L4 18.59l7.72-7.72 1.47 1.35L5.41 20z\"/>\n",
                            "  </svg>\n",
                            "      </button>\n",
                            "      \n",
                            "  <style>\n",
                            "    .colab-df-container {\n",
                            "      display:flex;\n",
                            "      flex-wrap:wrap;\n",
                            "      gap: 12px;\n",
                            "    }\n",
                            "\n",
                            "    .colab-df-convert {\n",
                            "      background-color: #E8F0FE;\n",
                            "      border: none;\n",
                            "      border-radius: 50%;\n",
                            "      cursor: pointer;\n",
                            "      display: none;\n",
                            "      fill: #1967D2;\n",
                            "      height: 32px;\n",
                            "      padding: 0 0 0 0;\n",
                            "      width: 32px;\n",
                            "    }\n",
                            "\n",
                            "    .colab-df-convert:hover {\n",
                            "      background-color: #E2EBFA;\n",
                            "      box-shadow: 0px 1px 2px rgba(60, 64, 67, 0.3), 0px 1px 3px 1px rgba(60, 64, 67, 0.15);\n",
                            "      fill: #174EA6;\n",
                            "    }\n",
                            "\n",
                            "    [theme=dark] .colab-df-convert {\n",
                            "      background-color: #3B4455;\n",
                            "      fill: #D2E3FC;\n",
                            "    }\n",
                            "\n",
                            "    [theme=dark] .colab-df-convert:hover {\n",
                            "      background-color: #434B5C;\n",
                            "      box-shadow: 0px 1px 3px 1px rgba(0, 0, 0, 0.15);\n",
                            "      filter: drop-shadow(0px 1px 2px rgba(0, 0, 0, 0.3));\n",
                            "      fill: #FFFFFF;\n",
                            "    }\n",
                            "  </style>\n",
                            "\n",
                            "      <script>\n",
                            "        const buttonEl =\n",
                            "          document.querySelector('#df-cde11f07-e496-4d19-b3e9-1c1f46397ce0 button.colab-df-convert');\n",
                            "        buttonEl.style.display =\n",
                            "          google.colab.kernel.accessAllowed ? 'block' : 'none';\n",
                            "\n",
                            "        async function convertToInteractive(key) {\n",
                            "          const element = document.querySelector('#df-cde11f07-e496-4d19-b3e9-1c1f46397ce0');\n",
                            "          const dataTable =\n",
                            "            await google.colab.kernel.invokeFunction('convertToInteractive',\n",
                            "                                                     [key], {});\n",
                            "          if (!dataTable) return;\n",
                            "\n",
                            "          const docLinkHtml = 'Like what you see? Visit the ' +\n",
                            "            '<a target=\"_blank\" href=https://colab.research.google.com/notebooks/data_table.ipynb>data table notebook</a>'\n",
                            "            + ' to learn more about interactive tables.';\n",
                            "          element.innerHTML = '';\n",
                            "          dataTable['output_type'] = 'display_data';\n",
                            "          await google.colab.output.renderOutput(dataTable, element);\n",
                            "          const docLink = document.createElement('div');\n",
                            "          docLink.innerHTML = docLinkHtml;\n",
                            "          element.appendChild(docLink);\n",
                            "        }\n",
                            "      </script>\n",
                            "    </div>\n",
                            "  </div>\n",
                            "  "
                        ],
                        "text/plain": [
                            "             ner_chunk normalized_headers\n",
                            "0  ADMISSION DIAGNOSIS          DIAGNOSIS\n",
                            "1  PRINCIPAL DIAGNOSIS          DIAGNOSIS\n",
                            "2    REVIEW OF SYSTEMS        REVIEW TYPE"
                        ]
                    },
                    "execution_count": 28,
                    "metadata": {},
                    "output_type": "execute_result"
                }
            ],
            "source": [
                "normalized_df= normalized_df.select(F.explode(F.arrays_zip(normalized_df.ner_chunk.result, \n",
                "                                                           normalized_df.mappings.result)).alias(\"col\"))\\\n",
                "                            .select(F.expr(\"col['0']\").alias(\"ner_chunk\"),\n",
                "                                    F.expr(\"col['1']\").alias(\"normalized_headers\")).toPandas()\n",
                "normalized_df.head()"
            ]
        },
        {
            "cell_type": "markdown",
            "metadata": {
                "id": "ZNYTXNAMKgl1"
            },
            "source": [
                "Now, we have our normalized headers. We will merge it with `ChunkSentenceSplitter()` output"
            ]
        },
        {
            "cell_type": "code",
            "execution_count": null,
            "metadata": {
                "id": "84dbZufZ1f0a"
            },
            "outputs": [],
            "source": [
                "normalized_df= normalized_df.rename(columns={\"ner_chunk\": \"splitter_chunk\"})\n",
                "df= pd.merge(result_df, normalized_df, on=[\"splitter_chunk\"])"
            ]
        },
        {
            "cell_type": "code",
            "execution_count": null,
            "metadata": {
                "colab": {
                    "base_uri": "https://localhost:8080/",
                    "height": 237
                },
                "id": "bSSafH2snO5j",
                "outputId": "9df286af-b896-4310-e9f8-514d29cc5109"
            },
            "outputs": [
                {
                    "data": {
                        "text/html": [
                            "\n",
                            "  <div id=\"df-0bec53e3-c62a-44b7-b356-e07f5e1a258c\">\n",
                            "    <div class=\"colab-df-container\">\n",
                            "      <div>\n",
                            "<style scoped>\n",
                            "    .dataframe tbody tr th:only-of-type {\n",
                            "        vertical-align: middle;\n",
                            "    }\n",
                            "\n",
                            "    .dataframe tbody tr th {\n",
                            "        vertical-align: top;\n",
                            "    }\n",
                            "\n",
                            "    .dataframe thead th {\n",
                            "        text-align: right;\n",
                            "    }\n",
                            "</style>\n",
                            "<table border=\"1\" class=\"dataframe\">\n",
                            "  <thead>\n",
                            "    <tr style=\"text-align: right;\">\n",
                            "      <th></th>\n",
                            "      <th>result</th>\n",
                            "      <th>entity</th>\n",
                            "      <th>splitter_chunk</th>\n",
                            "      <th>normalized_headers</th>\n",
                            "    </tr>\n",
                            "  </thead>\n",
                            "  <tbody>\n",
                            "    <tr>\n",
                            "      <th>0</th>\n",
                            "      <td>ADMISSION DIAGNOSIS Right pleural effusion and suspected malignant mesothelioma.\\n</td>\n",
                            "      <td>Header</td>\n",
                            "      <td>ADMISSION DIAGNOSIS</td>\n",
                            "      <td>DIAGNOSIS</td>\n",
                            "    </tr>\n",
                            "    <tr>\n",
                            "      <th>1</th>\n",
                            "      <td>PRINCIPAL DIAGNOSIS Right pleural effusion, suspected malignant mesothelioma.\\n</td>\n",
                            "      <td>Header</td>\n",
                            "      <td>PRINCIPAL DIAGNOSIS</td>\n",
                            "      <td>DIAGNOSIS</td>\n",
                            "    </tr>\n",
                            "    <tr>\n",
                            "      <th>2</th>\n",
                            "      <td>REVIEW OF SYSTEMS Right pleural effusion, firm nodules, diffuse scattered throughout the right pleura and diaphragmatic surface.\\n</td>\n",
                            "      <td>Header</td>\n",
                            "      <td>REVIEW OF SYSTEMS</td>\n",
                            "      <td>REVIEW TYPE</td>\n",
                            "    </tr>\n",
                            "  </tbody>\n",
                            "</table>\n",
                            "</div>\n",
                            "      <button class=\"colab-df-convert\" onclick=\"convertToInteractive('df-0bec53e3-c62a-44b7-b356-e07f5e1a258c')\"\n",
                            "              title=\"Convert this dataframe to an interactive table.\"\n",
                            "              style=\"display:none;\">\n",
                            "        \n",
                            "  <svg xmlns=\"http://www.w3.org/2000/svg\" height=\"24px\"viewBox=\"0 0 24 24\"\n",
                            "       width=\"24px\">\n",
                            "    <path d=\"M0 0h24v24H0V0z\" fill=\"none\"/>\n",
                            "    <path d=\"M18.56 5.44l.94 2.06.94-2.06 2.06-.94-2.06-.94-.94-2.06-.94 2.06-2.06.94zm-11 1L8.5 8.5l.94-2.06 2.06-.94-2.06-.94L8.5 2.5l-.94 2.06-2.06.94zm10 10l.94 2.06.94-2.06 2.06-.94-2.06-.94-.94-2.06-.94 2.06-2.06.94z\"/><path d=\"M17.41 7.96l-1.37-1.37c-.4-.4-.92-.59-1.43-.59-.52 0-1.04.2-1.43.59L10.3 9.45l-7.72 7.72c-.78.78-.78 2.05 0 2.83L4 21.41c.39.39.9.59 1.41.59.51 0 1.02-.2 1.41-.59l7.78-7.78 2.81-2.81c.8-.78.8-2.07 0-2.86zM5.41 20L4 18.59l7.72-7.72 1.47 1.35L5.41 20z\"/>\n",
                            "  </svg>\n",
                            "      </button>\n",
                            "      \n",
                            "  <style>\n",
                            "    .colab-df-container {\n",
                            "      display:flex;\n",
                            "      flex-wrap:wrap;\n",
                            "      gap: 12px;\n",
                            "    }\n",
                            "\n",
                            "    .colab-df-convert {\n",
                            "      background-color: #E8F0FE;\n",
                            "      border: none;\n",
                            "      border-radius: 50%;\n",
                            "      cursor: pointer;\n",
                            "      display: none;\n",
                            "      fill: #1967D2;\n",
                            "      height: 32px;\n",
                            "      padding: 0 0 0 0;\n",
                            "      width: 32px;\n",
                            "    }\n",
                            "\n",
                            "    .colab-df-convert:hover {\n",
                            "      background-color: #E2EBFA;\n",
                            "      box-shadow: 0px 1px 2px rgba(60, 64, 67, 0.3), 0px 1px 3px 1px rgba(60, 64, 67, 0.15);\n",
                            "      fill: #174EA6;\n",
                            "    }\n",
                            "\n",
                            "    [theme=dark] .colab-df-convert {\n",
                            "      background-color: #3B4455;\n",
                            "      fill: #D2E3FC;\n",
                            "    }\n",
                            "\n",
                            "    [theme=dark] .colab-df-convert:hover {\n",
                            "      background-color: #434B5C;\n",
                            "      box-shadow: 0px 1px 3px 1px rgba(0, 0, 0, 0.15);\n",
                            "      filter: drop-shadow(0px 1px 2px rgba(0, 0, 0, 0.3));\n",
                            "      fill: #FFFFFF;\n",
                            "    }\n",
                            "  </style>\n",
                            "\n",
                            "      <script>\n",
                            "        const buttonEl =\n",
                            "          document.querySelector('#df-0bec53e3-c62a-44b7-b356-e07f5e1a258c button.colab-df-convert');\n",
                            "        buttonEl.style.display =\n",
                            "          google.colab.kernel.accessAllowed ? 'block' : 'none';\n",
                            "\n",
                            "        async function convertToInteractive(key) {\n",
                            "          const element = document.querySelector('#df-0bec53e3-c62a-44b7-b356-e07f5e1a258c');\n",
                            "          const dataTable =\n",
                            "            await google.colab.kernel.invokeFunction('convertToInteractive',\n",
                            "                                                     [key], {});\n",
                            "          if (!dataTable) return;\n",
                            "\n",
                            "          const docLinkHtml = 'Like what you see? Visit the ' +\n",
                            "            '<a target=\"_blank\" href=https://colab.research.google.com/notebooks/data_table.ipynb>data table notebook</a>'\n",
                            "            + ' to learn more about interactive tables.';\n",
                            "          element.innerHTML = '';\n",
                            "          dataTable['output_type'] = 'display_data';\n",
                            "          await google.colab.output.renderOutput(dataTable, element);\n",
                            "          const docLink = document.createElement('div');\n",
                            "          docLink.innerHTML = docLinkHtml;\n",
                            "          element.appendChild(docLink);\n",
                            "        }\n",
                            "      </script>\n",
                            "    </div>\n",
                            "  </div>\n",
                            "  "
                        ],
                        "text/plain": [
                            "                                                                                                                                  result  \\\n",
                            "0                                             ADMISSION DIAGNOSIS Right pleural effusion and suspected malignant mesothelioma.\\n           \n",
                            "1                                                PRINCIPAL DIAGNOSIS Right pleural effusion, suspected malignant mesothelioma.\\n           \n",
                            "2  REVIEW OF SYSTEMS Right pleural effusion, firm nodules, diffuse scattered throughout the right pleura and diaphragmatic surface.\\n      \n",
                            "\n",
                            "   entity       splitter_chunk normalized_headers  \n",
                            "0  Header  ADMISSION DIAGNOSIS          DIAGNOSIS  \n",
                            "1  Header  PRINCIPAL DIAGNOSIS          DIAGNOSIS  \n",
                            "2  Header    REVIEW OF SYSTEMS        REVIEW TYPE  "
                        ]
                    },
                    "execution_count": 30,
                    "metadata": {},
                    "output_type": "execute_result"
                }
            ],
            "source": [
                "df.head()"
            ]
        },
        {
            "cell_type": "markdown",
            "metadata": {
                "id": "r2x7vehZL1zD"
            },
            "source": [
                "Ultimately, we have splitted paragraphs, headers and normalized headers. "
            ]
        },
        {
            "cell_type": "markdown",
            "metadata": {
                "id": "kYQZjb7H4PAH"
            },
            "source": [
                "# **5- Pretrained Mapper Pipelines**\n",
                "\n",
                "We will show an example of `rxnorm_umls_mapping` pipeline here. But you can check [Healthcare Code Mapping Notebook](https://github.com/JohnSnowLabs/spark-nlp-workshop/blob/master/tutorials/Certification_Trainings/Healthcare/11.1.Healthcare_Code_Mapping.ipynb) for the examples of pretrained mapper pipelines. "
            ]
        },
        {
            "cell_type": "code",
            "execution_count": null,
            "metadata": {
                "colab": {
                    "base_uri": "https://localhost:8080/"
                },
                "executionInfo": {
                    "elapsed": 24021,
                    "status": "ok",
                    "timestamp": 1656513200012,
                    "user": {
                        "displayName": "Ahmet Emin Tek",
                        "userId": "14855809472179427810"
                    },
                    "user_tz": -60
                },
                "id": "ZKz2nJtc4Mp1",
                "outputId": "4f5c2378-9dfc-4d94-fd45-9670a9e98221"
            },
            "outputs": [
                {
                    "name": "stdout",
                    "output_type": "stream",
                    "text": [
                        "rxnorm_umls_mapping download started this may take some time.\n",
                        "Approx size to download 1.8 MB\n",
                        "[OK!]\n"
                    ]
                }
            ],
            "source": [
                "from sparknlp.pretrained import PretrainedPipeline\n",
                "\n",
                "pipeline= PretrainedPipeline(\"rxnorm_umls_mapping\", \"en\", \"clinical/models\")\n",
                "pipeline_result= pipeline.annotate(\"1161611 315677\")"
            ]
        },
        {
            "cell_type": "code",
            "execution_count": null,
            "metadata": {
                "colab": {
                    "base_uri": "https://localhost:8080/"
                },
                "executionInfo": {
                    "elapsed": 5,
                    "status": "ok",
                    "timestamp": 1656513200939,
                    "user": {
                        "displayName": "Ahmet Emin Tek",
                        "userId": "14855809472179427810"
                    },
                    "user_tz": -60
                },
                "id": "vyFDnF2s4MeQ",
                "outputId": "8fe86163-7e84-4c86-f5ef-f2bca2af1e52"
            },
            "outputs": [
                {
                    "data": {
                        "text/plain": [
                            "{'document': ['1161611 315677'],\n",
                            " 'rxnorm_code': ['1161611', '315677'],\n",
                            " 'umls_code': ['C3215948', 'C0984912']}"
                        ]
                    },
                    "execution_count": 6,
                    "metadata": {},
                    "output_type": "execute_result"
                }
            ],
            "source": [
                "pipeline_result"
            ]
        }
    ],
    "metadata": {
        "colab": {
            "collapsed_sections": [],
            "provenance": []
        },
        "kernelspec": {
            "display_name": "Python 3",
            "name": "python3"
        },
        "language_info": {
            "name": "python"
        }
    },
    "nbformat": 4,
    "nbformat_minor": 0
}

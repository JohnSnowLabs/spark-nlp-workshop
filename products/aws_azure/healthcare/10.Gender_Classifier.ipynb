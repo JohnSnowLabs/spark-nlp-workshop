{
 "cells": [
  {
   "cell_type": "markdown",
   "metadata": {
    "id": "I08sFJYCxR0Z"
   },
   "source": [
    "![JohnSnowLabs](https://nlp.johnsnowlabs.com/assets/images/logo.png)"
   ]
  },
  {
   "cell_type": "markdown",
   "metadata": {
    "id": "Niy3mZAjoayg"
   },
   "source": [
    "# Gender Classifier "
   ]
  },
  {
   "cell_type": "markdown",
   "metadata": {
    "id": "rTVcwSuUjnrP"
   },
   "source": [
    "**Gender Classifier** detects the gender of the patient in the clinical document. \n",
    "It can  classify the documents into `Female`, `Male` and `Unknown`.\n",
    "\n",
    "\n",
    "- **`classifierdl_gender_sbert`** (works with licensed **`sbiobert_base_cased_mli`**)\n",
    "\n",
    "It has been trained on more than four thousands clinical documents (radiology reports, pathology reports, clinical visits etc.) which were annotated internally."
   ]
  },
  {
   "cell_type": "markdown",
   "metadata": {
    "id": "okhT7AcXxben"
   },
   "source": [
    "## **Setup**"
   ]
  },
  {
   "cell_type": "code",
   "execution_count": 2,
   "metadata": {
    "colab": {
     "base_uri": "https://localhost:8080/",
     "height": 314
    },
    "executionInfo": {
     "elapsed": 20810,
     "status": "ok",
     "timestamp": 1649495118847,
     "user": {
      "displayName": "Damla",
      "userId": "03285166568766987047"
     },
     "user_tz": -120
    },
    "id": "XB09n5ncsDAk",
    "outputId": "7e01ef47-f8a4-4802-f630-13e3732c232b"
   },
   "outputs": [
    {
     "name": "stdout",
     "output_type": "stream",
     "text": [
      "Spark Session already created, some configs may not take.\n"
     ]
    },
    {
     "data": {
      "text/html": [
       "\n",
       "            <div>\n",
       "                <p><b>SparkSession - in-memory</b></p>\n",
       "                \n",
       "        <div>\n",
       "            <p><b>SparkContext</b></p>\n",
       "\n",
       "            <p><a href=\"http://ip-172-31-15-180.ec2.internal:4040\">Spark UI</a></p>\n",
       "\n",
       "            <dl>\n",
       "              <dt>Version</dt>\n",
       "                <dd><code>v3.1.2</code></dd>\n",
       "              <dt>Master</dt>\n",
       "                <dd><code>local[*]</code></dd>\n",
       "              <dt>AppName</dt>\n",
       "                <dd><code>John-Snow-Labs-Spark-Session 🚀 with Jars for: 🚀Spark-NLP==4.2.4, 💊Spark-Healthcare==4.2.4, 🕶Spark-OCR==4.2.1, running on ⚡ PySpark==3.1.2</code></dd>\n",
       "            </dl>\n",
       "        </div>\n",
       "        \n",
       "            </div>\n",
       "        "
      ],
      "text/plain": [
       "<pyspark.sql.session.SparkSession at 0x7f5b24372340>"
      ]
     },
     "execution_count": 2,
     "metadata": {},
     "output_type": "execute_result"
    }
   ],
   "source": [
    "import json\n",
    "import os\n",
    "\n",
    "from pyspark.sql import SparkSession\n",
    "from pyspark.sql import functions as F\n",
    "from pyspark.ml import Pipeline,PipelineModel\n",
    "\n",
    "import warnings\n",
    "warnings.filterwarnings('ignore')\n",
    "os.environ['TF_CPP_MIN_LOG_LEVEL'] = '3' \n",
    "\n",
    "from johnsnowlabs import nlp, medical\n",
    "\n",
    "spark = start_spark()\n",
    "spark.sparkContext.setLogLevel(\"ERROR\")\n",
    "\n",
    "spark"
   ]
  },
  {
   "cell_type": "markdown",
   "metadata": {
    "id": "AMU4sAJQ0Rhs"
   },
   "source": [
    "\n",
    "\n",
    "# **Gender Classifier Pipeline with **sbert****"
   ]
  },
  {
   "cell_type": "code",
   "execution_count": 3,
   "metadata": {
    "colab": {
     "base_uri": "https://localhost:8080/"
    },
    "executionInfo": {
     "elapsed": 44089,
     "status": "ok",
     "timestamp": 1649495169336,
     "user": {
      "displayName": "Damla",
      "userId": "03285166568766987047"
     },
     "user_tz": -120
    },
    "id": "DEa5SITBxmY0",
    "outputId": "4f369740-7c95-4a03-bf9b-d8c0b2558c24"
   },
   "outputs": [
    {
     "name": "stdout",
     "output_type": "stream",
     "text": [
      "sbiobert_base_cased_mli download started this may take some time.\n",
      "Approximate size to download 384.3 MB\n",
      "[ | ]sbiobert_base_cased_mli download started this may take some time.\n",
      "Approximate size to download 384.3 MB\n",
      "Download done! Loading the resource.\n",
      "[OK!]\n",
      "classifierdl_gender_sbert download started this may take some time.\n",
      "Approximate size to download 22.2 MB\n",
      "[ | ]classifierdl_gender_sbert download started this may take some time.\n",
      "Approximate size to download 22.2 MB\n",
      "Download done! Loading the resource.\n",
      "[OK!]\n"
     ]
    }
   ],
   "source": [
    "document = nlp.DocumentAssembler()\\\n",
    "    .setInputCol(\"text\")\\\n",
    "    .setOutputCol(\"document\")\n",
    "\n",
    "sbert_embedder = nlp.BertSentenceEmbeddings().pretrained(\"sbiobert_base_cased_mli\", 'en', 'clinical/models')\\\n",
    "    .setInputCols([\"document\"])\\\n",
    "    .setOutputCol(\"sentence_embeddings\")\\\n",
    "    .setMaxSentenceLength(512)\n",
    "\n",
    "gender_classifier = nlp.ClassifierDLModel.pretrained( 'classifierdl_gender_sbert', 'en', 'clinical/models') \\\n",
    "    .setInputCols([\"sentence_embeddings\"]) \\\n",
    "    .setOutputCol(\"class\")    \n",
    "\n",
    "gender_pred_pipeline_sbert = nlp.Pipeline(stages=[ \n",
    "    document, \n",
    "    sbert_embedder, \n",
    "    gender_classifier   \n",
    "    ])\n",
    "\n",
    "empty_data = spark.createDataFrame([[\"\"]]).toDF(\"text\")\n",
    "\n",
    "model_sbert = gender_pred_pipeline_sbert.fit(empty_data)\n"
   ]
  },
  {
   "cell_type": "code",
   "execution_count": 4,
   "metadata": {
    "colab": {
     "base_uri": "https://localhost:8080/",
     "height": 42
    },
    "executionInfo": {
     "elapsed": 6598,
     "status": "ok",
     "timestamp": 1649495198003,
     "user": {
      "displayName": "Damla",
      "userId": "03285166568766987047"
     },
     "user_tz": -120
    },
    "id": "XgxuAU8ZsXVJ",
    "outputId": "d390c10f-5b57-4d04-e80b-496d38e3da1c"
   },
   "outputs": [
    {
     "data": {
      "text/plain": [
       "'Female'"
      ]
     },
     "execution_count": 4,
     "metadata": {},
     "output_type": "execute_result"
    }
   ],
   "source": [
    "text =\"\"\"social history: shows that  does not smoke cigarettes or drink alcohol,lives in a nursing home.family history: shows a family history of breast cancer.\"\"\"\n",
    "\n",
    "gender_pipeline_sbert = nlp.LightPipeline(model_sbert)\n",
    "\n",
    "result = gender_pipeline_sbert.annotate(text)\n",
    "\n",
    "result['class'][0]\n"
   ]
  },
  {
   "cell_type": "markdown",
   "metadata": {
    "id": "IUThl3_J9dqn"
   },
   "source": [
    "### **Sample Clinical Notes**"
   ]
  },
  {
   "cell_type": "code",
   "execution_count": 5,
   "metadata": {
    "colab": {
     "base_uri": "https://localhost:8080/",
     "height": 42
    },
    "executionInfo": {
     "elapsed": 774,
     "status": "ok",
     "timestamp": 1649495209052,
     "user": {
      "displayName": "Damla",
      "userId": "03285166568766987047"
     },
     "user_tz": -120
    },
    "id": "vJCI7fZf9-2g",
    "outputId": "b90d5930-a22e-4c66-b02b-ed806b9085f8"
   },
   "outputs": [
    {
     "data": {
      "text/plain": [
       "'Female'"
      ]
     },
     "execution_count": 5,
     "metadata": {},
     "output_type": "execute_result"
    }
   ],
   "source": [
    "text1 = '''social history: shows that  does not smoke cigarettes or drink alcohol,lives in a nursing home.\n",
    "family history: shows a family history of breast cancer.'''\n",
    "\n",
    "result = gender_pipeline_sbert.annotate(text1)\n",
    "\n",
    "result['class'][0]"
   ]
  },
  {
   "cell_type": "code",
   "execution_count": 6,
   "metadata": {
    "colab": {
     "base_uri": "https://localhost:8080/",
     "height": 42
    },
    "executionInfo": {
     "elapsed": 890,
     "status": "ok",
     "timestamp": 1649495213012,
     "user": {
      "displayName": "Damla",
      "userId": "03285166568766987047"
     },
     "user_tz": -120
    },
    "id": "hNbN8ZfPDwbm",
    "outputId": "ffd74d31-0e1f-45b0-9a4c-193cf65055a8"
   },
   "outputs": [
    {
     "data": {
      "text/plain": [
       "'Unknown'"
      ]
     },
     "execution_count": 6,
     "metadata": {},
     "output_type": "execute_result"
    }
   ],
   "source": [
    "text2 = '''The patient is a 48- year-old, with severe mitral stenosis diagnosed by echocardiography, moderate\n",
    " aortic insufficiency and moderate to severe pulmonary hypertension who is being evaluated as a part of a preoperative \n",
    " workup for mitral and possible aortic valve repair or replacement.'''\n",
    "\n",
    "result = gender_pipeline_sbert.annotate(text2)\n",
    "\n",
    "result['class'][0]"
   ]
  },
  {
   "cell_type": "code",
   "execution_count": 7,
   "metadata": {
    "colab": {
     "base_uri": "https://localhost:8080/",
     "height": 42
    },
    "executionInfo": {
     "elapsed": 1146,
     "status": "ok",
     "timestamp": 1649495218299,
     "user": {
      "displayName": "Damla",
      "userId": "03285166568766987047"
     },
     "user_tz": -120
    },
    "id": "Y7AOPrQHDy6D",
    "outputId": "8ea10bb9-675b-4d1f-806b-547055087b92"
   },
   "outputs": [
    {
     "data": {
      "text/plain": [
       "'Female'"
      ]
     },
     "execution_count": 7,
     "metadata": {},
     "output_type": "execute_result"
    }
   ],
   "source": [
    "text3 = '''HISTORY: The patient is a 57-year-old XX, who I initially saw in the office on 12/27/07, as a referral from the Tomball Breast Center.\n",
    "On 12/21/07, the patient underwent image-guided needle core biopsy of a 1.5 cm lesion at the 7 o'clock position of the left breast (inferomedial). \n",
    "The biopsy returned showing infiltrating ductal carcinoma high histologic grade.\n",
    "The patient stated that xx had recently felt and her physician had felt a palpable mass in that area prior to her breast imaging.'''\n",
    "\n",
    "result = gender_pipeline_sbert.annotate(text3)\n",
    "\n",
    "result['class'][0]"
   ]
  },
  {
   "cell_type": "code",
   "execution_count": 8,
   "metadata": {
    "colab": {
     "base_uri": "https://localhost:8080/",
     "height": 42
    },
    "executionInfo": {
     "elapsed": 874,
     "status": "ok",
     "timestamp": 1649495221632,
     "user": {
      "displayName": "Damla",
      "userId": "03285166568766987047"
     },
     "user_tz": -120
    },
    "id": "woMCJpo2Dywt",
    "outputId": "98d89015-6b1c-4c62-efa3-f03c0b2ce521"
   },
   "outputs": [
    {
     "data": {
      "text/plain": [
       "'Unknown'"
      ]
     },
     "execution_count": 8,
     "metadata": {},
     "output_type": "execute_result"
    }
   ],
   "source": [
    "text4 = '''The patient states that xx has been overweight for approximately 35 years and has tried multiple weight loss modalities in \n",
    "the past including Weight Watchers, NutriSystem, Jenny Craig, TOPS, cabbage diet, grape fruit diet, Slim-Fast, Richard Simmons,\n",
    "as well as over-the-counter  measures without any long-term sustainable weight loss.\n",
    "At the time of presentation to the practice, xx is 5 feet 6 inches tall with a weight of 285.4 pounds and a body mass index of 46.\n",
    "xx has obesity-related comorbidities, which includes hypertension and hypercholesterolemia.'''\n",
    "\n",
    "result = gender_pipeline_sbert.annotate(text4)\n",
    "\n",
    "result['class'][0]"
   ]
  },
  {
   "cell_type": "code",
   "execution_count": 9,
   "metadata": {
    "colab": {
     "base_uri": "https://localhost:8080/",
     "height": 42
    },
    "executionInfo": {
     "elapsed": 1006,
     "status": "ok",
     "timestamp": 1649495234014,
     "user": {
      "displayName": "Damla",
      "userId": "03285166568766987047"
     },
     "user_tz": -120
    },
    "id": "lPVx1V9gsW72",
    "outputId": "dcf29ff4-21dc-45fa-df10-ed9da1c96542"
   },
   "outputs": [
    {
     "data": {
      "text/plain": [
       "'Male'"
      ]
     },
     "execution_count": 9,
     "metadata": {},
     "output_type": "execute_result"
    }
   ],
   "source": [
    "text5 = '''Prostate gland showing moderately differentiated infiltrating adenocarcinoma, \n",
    "Gleason 3 + 2 extending to the apex involving both lobes of the prostate, mainly right.'''\n",
    "\n",
    "result = gender_pipeline_sbert.annotate(text5)\n",
    "\n",
    "result['class'][0]"
   ]
  },
  {
   "cell_type": "code",
   "execution_count": 10,
   "metadata": {
    "colab": {
     "base_uri": "https://localhost:8080/",
     "height": 42
    },
    "executionInfo": {
     "elapsed": 724,
     "status": "ok",
     "timestamp": 1649495239977,
     "user": {
      "displayName": "Damla",
      "userId": "03285166568766987047"
     },
     "user_tz": -120
    },
    "id": "llLVssxnEpmI",
    "outputId": "40c8729d-103b-44fb-ad31-d381aa9d2b9d"
   },
   "outputs": [
    {
     "data": {
      "text/plain": [
       "'Male'"
      ]
     },
     "execution_count": 10,
     "metadata": {},
     "output_type": "execute_result"
    }
   ],
   "source": [
    "text6 = '''SKIN: The patient has significant subcutaneous emphysema of the upper chest and \n",
    "anterior neck area although he states that the subcutaneous emphysema has improved significantly since yesterday.'''\n",
    "\n",
    "result = gender_pipeline_sbert.annotate(text6)\n",
    "\n",
    "result['class'][0]"
   ]
  },
  {
   "cell_type": "code",
   "execution_count": 11,
   "metadata": {
    "colab": {
     "base_uri": "https://localhost:8080/",
     "height": 42
    },
    "executionInfo": {
     "elapsed": 1092,
     "status": "ok",
     "timestamp": 1649495243689,
     "user": {
      "displayName": "Damla",
      "userId": "03285166568766987047"
     },
     "user_tz": -120
    },
    "id": "6yjmisN2Er-H",
    "outputId": "ee7b1bbe-b16e-41af-9cea-4b8277f6ddbc"
   },
   "outputs": [
    {
     "data": {
      "text/plain": [
       "'Male'"
      ]
     },
     "execution_count": 11,
     "metadata": {},
     "output_type": "execute_result"
    }
   ],
   "source": [
    "text7 = '''INDICATION: The patient is a 42-year-old XX who is five days out from transanal excision of a benign anterior base lesion.\n",
    "xx presents today with diarrhea and bleeding. Digital exam reveals bright red blood on the finger.\n",
    "xx is for exam under anesthesia and control of hemorrhage at this time.\n",
    "'''\n",
    "result = gender_pipeline_sbert.annotate(text7)\n",
    "\n",
    "result['class'][0]"
   ]
  },
  {
   "cell_type": "code",
   "execution_count": 12,
   "metadata": {
    "colab": {
     "base_uri": "https://localhost:8080/",
     "height": 42
    },
    "executionInfo": {
     "elapsed": 1757,
     "status": "ok",
     "timestamp": 1649495248832,
     "user": {
      "displayName": "Damla",
      "userId": "03285166568766987047"
     },
     "user_tz": -120
    },
    "id": "YkCM22qgEr1n",
    "outputId": "9664d673-4c6b-4271-d219-ebd7b978ec9e"
   },
   "outputs": [
    {
     "data": {
      "text/plain": [
       "'Male'"
      ]
     },
     "execution_count": 12,
     "metadata": {},
     "output_type": "execute_result"
    }
   ],
   "source": [
    "text8 = '''INDICATION: ___ year old patient with complicated medical history of paraplegia\n",
    "and chronic indwelling foley, recurrent MDR UTIs, hx Gallbladder fossa\n",
    "abscess,type 2 DM, HTN, CAD, DVT s/p left AKA complicated complicated by\n",
    "respiratory failure requiring tracheostomy and PEG placement, right ischium\n",
    "osteomyelitis due to chronic pressure ulcers with acute shortness of breath...'''\n",
    "\n",
    "result = gender_pipeline_sbert.annotate(text8)\n",
    "\n",
    "result['class'][0]\n"
   ]
  },
  {
   "cell_type": "code",
   "execution_count": null,
   "metadata": {},
   "outputs": [],
   "source": []
  }
 ],
 "metadata": {
  "colab": {
   "collapsed_sections": [],
   "provenance": []
  },
  "kernelspec": {
   "display_name": "jsl4.2.3",
   "language": "python",
   "name": "jsl4.2.3"
  },
  "language_info": {
   "codemirror_mode": {
    "name": "ipython",
    "version": 3
   },
   "file_extension": ".py",
   "mimetype": "text/x-python",
   "name": "python",
   "nbconvert_exporter": "python",
   "pygments_lexer": "ipython3",
   "version": "3.8.10"
  }
 },
 "nbformat": 4,
 "nbformat_minor": 4
}

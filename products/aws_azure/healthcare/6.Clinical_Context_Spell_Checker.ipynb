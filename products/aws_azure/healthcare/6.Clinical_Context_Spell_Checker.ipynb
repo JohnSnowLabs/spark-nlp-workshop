{
    "cells": [
        {
            "cell_type": "markdown",
            "metadata": {
                "id": "2muvLzlqdcva"
            },
            "source": [
                "![JohnSnowLabs](https://nlp.johnsnowlabs.com/assets/images/logo.png)"
            ]
        },
        {
            "cell_type": "markdown",
            "metadata": {
                "id": "orznscn3dcvc"
            },
            "source": [
                "# **6. Context Spell Checker - Medical**\n"
            ]
        },
        {
            "cell_type": "code",
            "execution_count": null,
            "metadata": {
                "colab": {
                    "base_uri": "https://localhost:8080/",
                    "height": 254
                },
                "executionInfo": {
                    "elapsed": 24788,
                    "status": "ok",
                    "timestamp": 1649857180251,
                    "user": {
                        "displayName": "Monster C",
                        "userId": "08787989274818793476"
                    },
                    "user_tz": -180
                },
                "id": "H2EWnyIOQZPI",
                "outputId": "8456ead3-3bac-4c7e-bad2-026500a64687"
            },
            "outputs": [
                {
                    "name": "stdout",
                    "output_type": "stream",
                    "text": [
                        "Spark NLP Version : 3.4.2\n",
                        "Spark NLP_JSL Version : 3.5.0\n"
                    ]
                },
                {
                    "data": {
                        "text/html": [
                            "\n",
                            "            <div>\n",
                            "                <p><b>SparkSession - in-memory</b></p>\n",
                            "                \n",
                            "        <div>\n",
                            "            <p><b>SparkContext</b></p>\n",
                            "\n",
                            "            <p><a href=\"http://66734faef011:4040\">Spark UI</a></p>\n",
                            "\n",
                            "            <dl>\n",
                            "              <dt>Version</dt>\n",
                            "                <dd><code>v3.1.2</code></dd>\n",
                            "              <dt>Master</dt>\n",
                            "                <dd><code>local[*]</code></dd>\n",
                            "              <dt>AppName</dt>\n",
                            "                <dd><code>Spark NLP Licensed</code></dd>\n",
                            "            </dl>\n",
                            "        </div>\n",
                            "        \n",
                            "            </div>\n",
                            "        "
                        ],
                        "text/plain": [
                            "<pyspark.sql.session.SparkSession at 0x7f4e807e8a10>"
                        ]
                    },
                    "execution_count": 3,
                    "metadata": {},
                    "output_type": "execute_result"
                }
            ],
            "source": [
                "import json\n",
                "import os\n",
                "\n",
                "import sparknlp\n",
                "import sparknlp_jsl\n",
                "\n",
                "from sparknlp.base import *\n",
                "from sparknlp.annotator import *\n",
                "from sparknlp_jsl.annotator import *\n",
                "\n",
                "from pyspark.sql import SparkSession\n",
                "from pyspark.sql import functions as F\n",
                "from pyspark.ml import Pipeline,PipelineModel\n",
                "\n",
                "import warnings\n",
                "warnings.filterwarnings('ignore')\n",
                "os.environ['TF_CPP_MIN_LOG_LEVEL'] = '3' \n",
                "\n",
                "print(\"Spark NLP Version :\", sparknlp.version())\n",
                "print(\"Spark NLP_JSL Version :\", sparknlp_jsl.version())\n",
                "\n",
                "spark = start_spark()\n",
                "spark.sparkContext.setLogLevel(\"ERROR\")\n",
                "\n",
                "spark"
            ]
        },
        {
            "cell_type": "code",
            "execution_count": null,
            "metadata": {
                "colab": {
                    "base_uri": "https://localhost:8080/"
                },
                "executionInfo": {
                    "elapsed": 57915,
                    "status": "ok",
                    "timestamp": 1649857238160,
                    "user": {
                        "displayName": "Monster C",
                        "userId": "08787989274818793476"
                    },
                    "user_tz": -180
                },
                "id": "l70_9DOgdcvz",
                "outputId": "8e4725e3-f0a3-459e-b41c-25f73e06475c",
                "scrolled": true
            },
            "outputs": [
                {
                    "name": "stdout",
                    "output_type": "stream",
                    "text": [
                        "spellcheck_clinical download started this may take some time.\n",
                        "Approximate size to download 134.7 MB\n",
                        "[OK!]\n"
                    ]
                }
            ],
            "source": [
                "documentAssembler = DocumentAssembler()\\\n",
                "    .setInputCol(\"text\")\\\n",
                "    .setOutputCol(\"document\")\n",
                "\n",
                "tokenizer = RecursiveTokenizer()\\\n",
                "    .setInputCols([\"document\"])\\\n",
                "    .setOutputCol(\"token\")\\\n",
                "    .setPrefixes([\"\\\"\", \"(\", \"[\", \"\\n\"])\\\n",
                "    .setSuffixes([\".\", \",\", \"?\", \")\",\"!\", \"'s\"])\n",
                "\n",
                "spellModel = ContextSpellCheckerModel\\\n",
                "    .pretrained('spellcheck_clinical', 'en', 'clinical/models')\\\n",
                "    .setInputCols(\"token\")\\\n",
                "    .setOutputCol(\"checked\")"
            ]
        },
        {
            "cell_type": "code",
            "execution_count": null,
            "metadata": {
                "id": "XyqbEdoPdcv-",
                "scrolled": true
            },
            "outputs": [],
            "source": [
                "pipeline = Pipeline(\n",
                "    stages = [\n",
                "    documentAssembler,\n",
                "    tokenizer,\n",
                "    spellModel\n",
                "    ])\n",
                "\n",
                "empty_ds = spark.createDataFrame([[\"\"]]).toDF(\"text\")\n",
                "\n",
                "lp = LightPipeline(pipeline.fit(empty_ds))"
            ]
        },
        {
            "cell_type": "markdown",
            "metadata": {
                "id": "49DMo2sQdcwC"
            },
            "source": [
                "Ok!, at this point we have our spell checking pipeline as expected. Let's see what we can do with it, see these errors,\n",
                "\n",
                "_She was **treathed** with a five day course of **amoxicilin** for a **resperatory** **truct** infection._\n",
                "\n",
                "_With pain well controlled on **orall** **meditation**, she was discharged to **reihabilitation** **facilitay**._\n",
                "\n",
                "\n",
                "_Her **adominal** examination is soft, nontender, and **nonintended**_\n",
                "\n",
                "_The patient was seen by the **entocrinology** service and she was discharged on 40 units of **unsilin** glargine at night_\n",
                "      \n",
                "_No __cute__ distress_\n",
                "\n",
                "Check that some of the errors are valid English words, only by considering the context the right choice can be made."
            ]
        },
        {
            "cell_type": "code",
            "execution_count": null,
            "metadata": {
                "colab": {
                    "base_uri": "https://localhost:8080/"
                },
                "executionInfo": {
                    "elapsed": 1255,
                    "status": "ok",
                    "timestamp": 1649860449467,
                    "user": {
                        "displayName": "Monster C",
                        "userId": "08787989274818793476"
                    },
                    "user_tz": -180
                },
                "id": "K2BuhiZNHGhH",
                "outputId": "82a2845a-8684-4129-924c-fa96f0504dd4"
            },
            "outputs": [
                {
                    "name": "stdout",
                    "output_type": "stream",
                    "text": [
                        "[('She', 'She'), ('was', 'was'), ('treathed', 'treated'), ('with', 'with'), ('a', 'a'), ('five', 'five'), ('day', 'day'), ('course', 'course'), ('of', 'of'), ('amoxicilin', 'amoxicillin'), ('for', 'for'), ('a', 'a'), ('resperatory', 'respiratory'), ('truct', 'tract'), ('infection', 'infection'), ('.', '.')]\n",
                        "[('With', 'With'), ('pain', 'pain'), ('well', 'well'), ('controlled', 'controlled'), ('on', 'on'), ('orall', 'oral'), ('meditation', 'medication'), (',', ','), ('she', 'she'), ('was', 'was'), ('discharged', 'discharged'), ('to', 'to'), ('reihabilitation', 'rehabilitation'), ('facilitay', 'facility'), ('.', '.')]\n",
                        "[('Her', 'Her'), ('adominal', 'abdominal'), ('examination', 'examination'), ('is', 'is'), ('soft', 'soft'), (',', ','), ('nontender', 'nontender'), (',', ','), ('and', 'and'), ('nonintended', 'nondistended'), ('.', '.')]\n",
                        "[('The', 'The'), ('patient', 'patient'), ('was', 'was'), ('seen', 'seen'), ('by', 'by'), ('the', 'the'), ('entocrinology', 'endocrinology'), ('service', 'service'), ('and', 'and'), ('she', 'she'), ('was', 'was'), ('discharged', 'discharged'), ('on', 'on'), ('40', '40'), ('units', 'units'), ('of', 'of'), ('unsilin', 'insulin'), ('glargine', 'glargine'), ('at', 'at'), ('night', 'night')]\n",
                        "[('No', 'No'), ('cute', 'acute'), ('distress', 'distress')]\n"
                    ]
                }
            ],
            "source": [
                "example = [\"She was treathed with a five day course of amoxicilin for a resperatory truct infection . \",\n",
                "           \"With pain well controlled on orall meditation, she was discharged to reihabilitation facilitay.\",\n",
                "           \"Her adominal examination is soft, nontender, and nonintended.\",\n",
                "           \"The patient was seen by the entocrinology service and she was discharged on 40 units of unsilin glargine at night\",\n",
                "           \"No cute distress\",\n",
                "          ]\n",
                "\n",
                "for pairs in lp.annotate(example):\n",
                "    print(list(zip(pairs['token'],pairs['checked'])))"
            ]
        }
    ],
    "metadata": {
        "colab": {
            "collapsed_sections": [],
            "provenance": []
        },
        "kernelspec": {
            "display_name": "Python 3",
            "language": "python",
            "name": "python3"
        },
        "language_info": {
            "codemirror_mode": {
                "name": "ipython",
                "version": 3
            },
            "file_extension": ".py",
            "mimetype": "text/x-python",
            "name": "python",
            "nbconvert_exporter": "python",
            "pygments_lexer": "ipython3",
            "version": "3.7.6"
        }
    },
    "nbformat": 4,
    "nbformat_minor": 0
}

{
    "cells": [
        {
            "cell_type": "markdown",
            "id": "17e679a0",
            "metadata": {
                "pycharm": {
                    "name": "#%% md\n"
                }
            },
            "source": [
                "![JohnSnowLabs](https://nlp.johnsnowlabs.com/assets/images/logo.png)"
            ]
        },
        {
            "cell_type": "markdown",
            "id": "7198ab82",
            "metadata": {
                "pycharm": {
                    "name": "#%% md\n"
                }
            },
            "source": [
                "[![Open In Colab](https://colab.research.google.com/assets/colab-badge.svg)](https://colab.research.google.com/github/JohnSnowLabs/spark-ocr-workshop/blob/TrainingNotebooks/tutorials/Certification_Trainings/2.1.Pdf_processing.ipynb)"
            ]
        },
        {
            "cell_type": "markdown",
            "id": "15d54d0c",
            "metadata": {
                "pycharm": {
                    "name": "#%% md\n"
                }
            },
            "source": [
                "## Blogposts and videos\n",
                "\n",
                "- [Text Detection in Spark OCR](https://medium.com/spark-nlp/text-detection-in-spark-ocr-dcd8002bdc97)\n",
                "\n",
                "- [Table Detection & Extraction in Spark OCR](https://medium.com/spark-nlp/table-detection-extraction-in-spark-ocr-50765c6cedc9)\n",
                "\n",
                "- [Extract Tabular Data from PDF in Spark OCR](https://medium.com/spark-nlp/extract-tabular-data-from-pdf-in-spark-ocr-b02136bc0fcb)\n",
                "\n",
                "- [Signature Detection in Spark OCR](https://medium.com/spark-nlp/signature-detection-in-spark-ocr-32f9e6f91e3c)\n",
                "\n",
                "- [GPU image pre-processing in Spark OCR](https://medium.com/spark-nlp/gpu-image-pre-processing-in-spark-ocr-3-1-0-6fc27560a9bb)\n",
                "\n",
                "- [How to Setup Spark OCR on UBUNTU - Video](https://www.youtube.com/watch?v=cmt4WIcL0nI)\n",
                "\n",
                "\n",
                "**More examples here**\n",
                "\n",
                "https://github.com/JohnSnowLabs/spark-ocr-workshop\n",
                "\n",
                "For get the trial license please go to:\n",
                "\n",
                "https://www.johnsnowlabs.com/install/"
            ]
        },
        {
            "cell_type": "code",
            "execution_count": null,
            "metadata": {
                "collapsed": false,
                "pycharm": {
                    "name": "#%%\n"
                }
            },
            "outputs": [],
            "source": [
                "## Setup"
            ]
        },
        {
            "cell_type": "code",
            "execution_count": 1,
            "id": "b205587b",
            "metadata": {
                "pycharm": {
                    "name": "#%%\n"
                }
            },
            "outputs": [],
            "source": [
                "import os\n",
                "import pkg_resources\n",
                "from pyspark.ml import PipelineModel\n",
                "import sparkocr\n",
                "from sparkocr.transformers import *\n",
                "from sparkocr.utils import *\n",
                "\n",
                "import warnings\n",
                "warnings.filterwarnings('ignore')\n",
                "os.environ['TF_CPP_MIN_LOG_LEVEL'] = '3'\n",
                "\n",
                "\n",
                "spark = start_spark()\n",
                "print(\"Spark OCR Version :\", sparkocr.version())"
            ]
        },
        {
            "cell_type": "markdown",
            "id": "a180cedc",
            "metadata": {
                "pycharm": {
                    "name": "#%% md\n"
                }
            },
            "source": [
                "## Read pdfs to the dataframe and display"
            ]
        },
        {
            "cell_type": "code",
            "execution_count": null,
            "id": "54537d71",
            "metadata": {
                "pycharm": {
                    "name": "#%%\n"
                }
            },
            "outputs": [],
            "source": [
                "pdf_path = pkg_resources.resource_filename('sparkocr', 'resources/ocr/pdfs/*.pdf')\n",
                "pdf_example_df = spark.read.format(\"binaryFile\").load(pdf_path).cache()\n",
                "\n",
                "display_pdf(pdf_example_df)"
            ]
        },
        {
            "cell_type": "markdown",
            "id": "eaa46adc",
            "metadata": {
                "pycharm": {
                    "name": "#%% md\n"
                }
            },
            "source": [
                "## Define pipeline for extract text from the searchable and ocr text from the scaned pdf"
            ]
        },
        {
            "cell_type": "code",
            "execution_count": 7,
            "id": "ea904484",
            "metadata": {
                "pycharm": {
                    "name": "#%%\n"
                }
            },
            "outputs": [],
            "source": [
                "def pipeline():\n",
                "    \n",
                "    # If text PDF extract text\n",
                "    pdf_to_text = PdfToText() \\\n",
                "        .setInputCol(\"content\") \\\n",
                "        .setOutputCol(\"text\") \\\n",
                "        .setSplitPage(True) \\\n",
                "        .setExtractCoordinates(True) \\\n",
                "        .setStoreSplittedPdf(True)\n",
                "    \n",
                "    # If image pdf, extract image\n",
                "    pdf_to_image = PdfToImage() \\\n",
                "        .setInputCol(\"content\") \\\n",
                "        .setOutputCol(\"image\") \\\n",
                "        .setKeepInput(True)\n",
                "    \n",
                "    # Run OCR\n",
                "    ocr = ImageToText() \\\n",
                "        .setInputCol(\"image\") \\\n",
                "        .setOutputCol(\"text\") \\\n",
                "        .setConfidenceThreshold(60)\n",
                "\n",
                "    pipeline = PipelineModel(stages=[\n",
                "        pdf_to_text,\n",
                "        pdf_to_image,\n",
                "        ocr\n",
                "    ])\n",
                "    \n",
                "    return pipeline"
            ]
        },
        {
            "cell_type": "markdown",
            "id": "9192a46a",
            "metadata": {
                "pycharm": {
                    "name": "#%% md\n"
                }
            },
            "source": [
                "## Run pipeline and show results"
            ]
        },
        {
            "cell_type": "code",
            "execution_count": 51,
            "id": "46104a60",
            "metadata": {
                "pycharm": {
                    "name": "#%%\n"
                }
            },
            "outputs": [
                {
                    "name": "stdout",
                    "output_type": "stream",
                    "text": [
                        "+--------------------+-------------------+------+--------------------+--------------------+-----------------+------------------+--------------------+--------------------+-----------+-------+-----------+----------------+---------+\n",
                        "|                path|   modificationTime|length|                text|           positions| height_dimension|   width_dimension|             content|               image|total_pages|pagenum|documentnum|      confidence|exception|\n",
                        "+--------------------+-------------------+------+--------------------+--------------------+-----------------+------------------+--------------------+--------------------+-----------+-------+-----------+----------------+---------+\n",
                        "|file:/Users/nmeln...|2022-07-14 15:38:51|693743|Patient Nam\\nFina...|[{[{Patient Nam\\n...|1587.780029296875|1205.8299560546875|[25 50 44 46 2D 3...|{file:/Users/nmel...|          1|      0|          0|81.2276874118381|     null|\n",
                        "|file:/Users/nmeln...|2022-07-14 15:38:51|693743|Patient Name\\nFin...|[{[{Patient Name\\...|1583.780029296875|1217.8299560546875|[25 50 44 46 2D 3...|{file:/Users/nmel...|          1|      0|          0|78.5234429732613|     null|\n",
                        "|file:/Users/nmeln...|2022-07-14 15:38:51| 70556|Alexandria is the...|[{[{A, 0, 72.024,...|            792.0|             612.0|[25 50 44 46 2D 3...|                null|       null|      0|          0|            null|     null|\n",
                        "|file:/Users/nmeln...|2022-07-14 15:38:51| 70556|Alexandria was fo...|[{[{A, 1, 72.024,...|            792.0|             612.0|[25 50 44 46 2D 3...|                null|       null|      0|          0|            null|     null|\n",
                        "|file:/Users/nmeln...|2022-07-14 15:38:51| 11601|8 i , . ! \\n9 i ,...|[{[{8, 0, 72.0604...|            843.0|             596.0|[25 50 44 46 2D 3...|                null|       null|      0|          0|            null|     null|\n",
                        "+--------------------+-------------------+------+--------------------+--------------------+-----------------+------------------+--------------------+--------------------+-----------+-------+-----------+----------------+---------+\n",
                        "\n"
                    ]
                }
            ],
            "source": [
                "result = pipeline().transform(pdf_example_df).cache()\n",
                "result.show()"
            ]
        },
        {
            "cell_type": "markdown",
            "id": "8fc51045",
            "metadata": {
                "pycharm": {
                    "name": "#%% md\n"
                }
            },
            "source": [
                "## Display text using pandas dataframe"
            ]
        },
        {
            "cell_type": "code",
            "execution_count": 53,
            "id": "b31d6ff5",
            "metadata": {
                "pycharm": {
                    "name": "#%%\n"
                }
            },
            "outputs": [
                {
                    "data": {
                        "text/html": [
                            "<style  type=\"text/css\" >\n",
                            "#T_a2418_row0_col0,#T_a2418_row1_col0,#T_a2418_row2_col0,#T_a2418_row3_col0,#T_a2418_row4_col0{\n",
                            "            white-space:  pre-wrap;\n",
                            "            text-align:  left;\n",
                            "        }</style><table id=\"T_a2418_\" ><thead>    <tr>        <th class=\"blank level0\" ></th>        <th class=\"col_heading level0 col0\" >text</th>    </tr></thead><tbody>\n",
                            "                <tr>\n",
                            "                        <th id=\"T_a2418_level0_row0\" class=\"row_heading level0 row0\" >0</th>\n",
                            "                        <td id=\"T_a2418_row0_col0\" class=\"data row0 col0\" >Patient Nam\n",
                            "Financial Numbe\n",
                            "\n",
                            "Random Hospital Date of Birth\n",
                            "\n",
                            "Patient Location\n",
                            "\n",
                            "Chief Complaint\n",
                            "Shortness of breath\n",
                            "\n",
                            "History of Present Illness\n",
                            "\n",
                            "Patient is an 84-year-old male wilh a past medical history of hypertension, HFpEF last\n",
                            "known EF 55%, mild to moderate TA, pulmonary hypertension, permanent atrial\n",
                            "fibrillation on Eliquis, history of GI blesd, CK-M8, and anemia who presents with full weeks\n",
                            "oi ccneralized fatigue and fecling unwell. He also notes some shortness oi Breath and\n",
                            "worsening dyspnea willy minimal exerlion. His major complaints are shoulder and joint\n",
                            "pains. diffusely. He also complains of \"bone pain’. He denics having any fevers or cnills.\n",
                            "\n",
                            "e demes having any chest pain, palpitalicns, He denies any worse extremity\n",
                            "swelling than his baseline. He states he’s been compliant with his mcdications. Although\n",
                            "he stales he ran out of his Eliquis & few weeks ago. He denies having any blood in his\n",
                            "stools or mc!ena, although he does take iron pills and states his stools arc irequently black.\n",
                            "His hemoglobin Is al baseline.\n",
                            "\n",
                            "Twelve-lead EKG showing atrial fibrillation, RBBB, LAFB, PVC. Chest x-ray showing new\n",
                            "small right creater than left pleural effusions with mild pulmonary vascular congestion. BNP\n",
                            "increased to 2800, up fram 1900. Tropoain 0.03. Renal function at baseline. Hemoaglopin\n",
                            "at baseline.\n",
                            "\n",
                            "She normally takes 80 mq of oral Lasix daily. He was given 80 mg of IV Lasix in the ED.\n",
                            "He is currently net negative close to 1 L. He is still on 2 L nasal cannula.\n",
                            "\n",
                            "' Ss 5\n",
                            "A 10 system roview af systems was completed and negative except as documented in HPI.\n",
                            "\n",
                            "Physical Exam\n",
                            "\n",
                            "Vitals & Measurements\n",
                            "T: 36.8 °C (Oral) TMIN: 36.8 \"C (Oral) TMAX: 37.0 °C (Oral) HR: 54 RR: 7\n",
                            "BP: 140/63 WT: 100.3 KG\n",
                            "Pulse Ox: 100 % Oxygen: 2 L'min via Nasal Cannula\n",
                            "GENERAL: no acute distress\n",
                            "HEAD: normecephalic\n",
                            "EYES‘EARS‘NOSE/THAOAT: nupils are equal. normal oropharynx\n",
                            "NECK: normal inspection\n",
                            "RESPIRATORY: no respiratory distress, no rales on my exam\n",
                            "CARDIOVASCULAR: irregular. brady. no murmurs, rubs or galleps\n",
                            "ABDOMEN: soft, non-tendes\n",
                            "EXTREMITIES: Bilateral chronic venous stasis changes\n",
                            "NEUROLOGIC: alert and osieniec x 3. no gross motar or sensory deficils\n",
                            "\n",
                            "AssessmenvPlan\n",
                            "\n",
                            "Acute on chronic diastolic CHF (congestive heart failure)\n",
                            "Acute on chronic diastolic heart failure exacerbation. Small pleural effusions dilaterally\n",
                            "\n",
                            "with mild pulmonary vascular congesiion on chest x-ray, slighi elevation in BNR. We'll\n",
                            "continue 1 more day af IV diuresis with 80 mg IV Lasix. He may have had a viral infection\n",
                            "which precipilated this. We'll add Tylenol jor his joint paias. Continue atenclol and\n",
                            "chiorthalidone.\n",
                            "\n",
                            "AF - Atrial fibrillation\n",
                            "Permanent atrial fibrillation. Rates bradycardic in the &0s. Continue atenolol with hola\n",
                            "\n",
                            "parameters. Coniinue Eliquis for stroke prevention. No evidence oj bleeding, hemog'abin\n",
                            "at baseline.\n",
                            "\n",
                            "Printed: 7/17/2017 13:01 EDT Page 16 of 42\n",
                            "\n",
                            "  \n",
                            "   \n",
                            "\n",
                            "Arincitis\n",
                            "\n",
                            "CHF - Congestive heart failure\n",
                            "\n",
                            "Chronic kidney disease\n",
                            "\n",
                            "Chronic venous insufficiency\n",
                            "\n",
                            "Edema\n",
                            "\n",
                            "GI bleeding\n",
                            "\n",
                            "Glaucoma\n",
                            "\n",
                            "Goul\n",
                            "\n",
                            "Hypertension\n",
                            "\n",
                            "Peptic ulcer\n",
                            "\n",
                            "Peripheral ncuropathy\n",
                            "\n",
                            "Peripheral vascular disease\n",
                            "\n",
                            "Pulmonary hypertension\n",
                            "\n",
                            "Tricuspid regurgitation\n",
                            "Historical\n",
                            "\n",
                            "No qualifying data\n",
                            "\n",
                            "Procedure/Surgical History\n",
                            "\n",
                            "duodenal resection, duodenojcjunostomy.\n",
                            "small bowel enterolomy, removal of foreign\n",
                            "object and repair oi enterotomy (05/2 1/20 14),\n",
                            "colonoscopy (12/10/2013), egd (1209/2013),\n",
                            "H/O endoscopy (07/2013), H’O colonoscopy\n",
                            "(03/2013), pilonidal cyst removal at base of\n",
                            "spine (1981), laser eye surgery ior glaucoma.\n",
                            "lesions on small intestine closed up.\n",
                            "\n",
                            "Home Medications\n",
                            "Home\n",
                            "\n",
                            "allopurinol 300 mg oral tablet, 300 MG= 1\n",
                            "TAB, PO. Daily\n",
                            "\n",
                            "atenolol 25 mg oral tablet, 25 MG= 1 TAB,\n",
                            "PO, Daily\n",
                            "\n",
                            "chtorthalidone 25 mg oral tablet, 23 MG=\n",
                            "1 TAB, PO, MVE\n",
                            "\n",
                            "Combigan 0.2%-0.5% ophthalmic\n",
                            "solution, 1 DROP, Both Eyes, Q12H\n",
                            "\n",
                            "Eliquis 5 mg oral lablet, 5 MG= 1 TAB,\n",
                            "PO, BID\n",
                            "\n",
                            "lerrous sulfate 925 mg (65 nig elemental\n",
                            "iron) oral tablet, 325 MG= 1 TAB, PO,\n",
                            "\n",
                            "Daily\n",
                            "Lasix 80 mg oral tabic:. 80 MG= | TAB.\n",
                            "PO, BID\n",
                            "\n",
                            "omeprazole 20 mg oral delayed scicasc\n",
                            "capsule, 20 MG= 1 CAP, PO, BID\n",
                            "\n",
                            "Percocei 5/325 oral tablet. | TAB, PO.\n",
                            "QAM\n",
                            "\n",
                            "potassium chloride 20 mEq oral tablet,\n",
                            "extended release, 20 MEO= 1 TAB, PO,\n",
                            "Daily\n",
                            "\n",
                            "sertraline 50 mg oral tablet, 75 MG= 1,5\n",
                            "TAB, PQ. Daiiy\n",
                            "\n",
                            "triamcinolone 0.71% lopical cream, 1 APP,\n",
                            "Topical, Daily\n",
                            "\n",
                            "lriamcmnolone 0.1% lopical ominient, 1\n",
                            "APP. Topical, Daily\n",
                            "\n",
                            "PowerChart\n",
                            "</td>\n",
                            "            </tr>\n",
                            "            <tr>\n",
                            "                        <th id=\"T_a2418_level0_row1\" class=\"row_heading level0 row1\" >1</th>\n",
                            "                        <td id=\"T_a2418_row1_col0\" class=\"data row1 col0\" >Patient Name\n",
                            "Financial Number\n",
                            "Date of Girth\n",
                            "Patient Location\n",
                            "\n",
                            "Random Hospital\n",
                            "\n",
                            " \n",
                            "\n",
                            " \n",
                            "\n",
                            "H & P\n",
                            "Anemia Vitamin D2 50,000 intl units (1.25 ma) oral\n",
                            "ALBASeRne capsule, 1 TAS, PO, Veexly-Tue\n",
                            "Arthritis\n",
                            "Allergies\n",
                            "\n",
                            "Tylenol for pain. Patient also takes Percocet alt home, will add this cn.\n",
                            "Chronic kidney disease\n",
                            "AY baseline. Monitor while divresing.\n",
                            "Hypertension\n",
                            "Blood pressures within tolerable ranges.\n",
                            "Pulmonary hypertension\n",
                            "Tricuspid regurgitation\n",
                            "Mild-to-moderaie on echocardiogram last year\n",
                            "\n",
                            "sholliisn (cout)\n",
                            "sulfa drug (maculopapular rash)\n",
                            "\n",
                            "Social History\n",
                            "\n",
                            "Ever Smoked tobacco: Former Smoker\n",
                            "Alcohol use - frequency; None\n",
                            "\n",
                            "Drug use: Never\n",
                            "\n",
                            "Lab Results\n",
                            "\n",
                            "O7/16/9 7 05:30 to O7/16/17 05:30\n",
                            "Attending physician note-the patient was interviewed and examined. The appropriatc\n",
                            "information in power chart was reviewed. The patient was discussed wilh Dr, Persad. 143 1L 981H 26?\n",
                            "Patient may have @ mild degree of heart failure. He and his wife were more concernes with ee\n",
                            "Ins peripheral edema. He has underlying renal insufficiency as well. We'll try to diurese\n",
                            "him to his “dry\" weight. We will then try to adjust his medications to kcep him within &\n",
                            "narrow range of [hat weight. We will stop his atenolol this point since he is relatively\n",
                            "bradycardic anc observe his heart rate on the cardiac monitor. He will progress with his\n",
                            "care and aclivily as tolerated.\n",
                            "\n",
                            "102\n",
                            "\n",
                            "07/16/17 05:30 to O7/ 16/17 05:30\n",
                            "\n",
                            "05:30\n",
                            "GLU 102 mg/dL\n",
                            "\n",
                            "Printed: 7/1\n",
                            "\n",
                            "7/2017 13:01 EDT\n",
                            "\n",
                            "Page 17 of 42\n",
                            "\n",
                            "NA\n",
                            "\n",
                            "K\n",
                            "\n",
                            "CL\n",
                            "\n",
                            "TOTAL COZ\n",
                            "BUN\n",
                            "\n",
                            "CRT\n",
                            "\n",
                            "ANION GAP\n",
                            "CA\n",
                            "\n",
                            "CBC with diff\n",
                            "\n",
                            "WBC\n",
                            "HGB\n",
                            "HCT\n",
                            "RBC\n",
                            "MCV\n",
                            "MICH\n",
                            "MCHC\n",
                            "RDW\n",
                            "MPV\n",
                            "\n",
                            "143 MMOL/L\n",
                            "3.6 MMOL/L\n",
                            "98 MMOL/L\n",
                            "40 MMOL/L\n",
                            "26 mg/dL.\n",
                            "1.23 mg/dL\n",
                            "5\n",
                            "\n",
                            "7.9 mg/dL\n",
                            "07/16/17\n",
                            "05:30\n",
                            "\n",
                            "3.4/ nl\n",
                            "\n",
                            "10.1 G/DL\n",
                            "32.4 %o\n",
                            "\n",
                            "3.41 /PL\n",
                            "95.0 FL\n",
                            "29.6 pg\n",
                            "\n",
                            "31.2 %\n",
                            "\n",
                            "15,9 %o\n",
                            "\n",
                            "10.7 FL\n",
                            "\n",
                            "PowerChart\n",
                            "</td>\n",
                            "            </tr>\n",
                            "            <tr>\n",
                            "                        <th id=\"T_a2418_level0_row2\" class=\"row_heading level0 row2\" >2</th>\n",
                            "                        <td id=\"T_a2418_row2_col0\" class=\"data row2 col0\" >Alexandria is the second-largest city in Egypt and a major economic centre, extending about 32 km (20 \n",
                            "mi) along the coast of the Mediterranean Sea in the north central part of the country.  \n",
                            " \n",
                            " \n",
                            "Its low elevation on the Nile delta makes it highly vulnerable to rising sea levels. Alexandria is an \n",
                            "important industrial center because of its natural gas and oil pipelines from Suez. Alexandria is also a \n",
                            "popular tourist destination. \n",
                            " \n",
                            " \n",
                            " \n",
                            " \n",
                            " \n",
                            " \n",
                            " \n",
                            " \n",
                            " \n",
                            " \n",
                            " \n",
                            " \n",
                            " \n",
                            " \n",
                            " \n",
                            " \n",
                            " \n",
                            " \n",
                            " \n",
                            " \n",
                            " \n",
                            " \n",
                            "</td>\n",
                            "            </tr>\n",
                            "            <tr>\n",
                            "                        <th id=\"T_a2418_level0_row3\" class=\"row_heading level0 row3\" >3</th>\n",
                            "                        <td id=\"T_a2418_row3_col0\" class=\"data row3 col0\" >Alexandria was founded around a small, ancient Egyptian town c. 332 BC by Alexander the Great,[4] king \n",
                            "of Macedon and leader of the Greek League of Corinth, during his conquest of the Achaemenid Empire. \n",
                            "Alexandria became an important center of Hellenistic civilization and remained the capital of Ptolemaic \n",
                            "Egypt and Roman and Byzantine Egypt for almost 1,000 years, until the Muslim conquest of Egypt in AD \n",
                            "641, when a new capital was founded at Fustat (later absorbed into Cairo).  \n",
                            " \n",
                            "Hellenistic Alexandria was best known for the Lighthouse of Alexandria (Pharos), one of the Seven \n",
                            "Wonders of the Ancient World; its Great Library (the largest in the ancient world); and the Necropolis, \n",
                            "one of the Seven Wonders of the Middle Ages. Alexandria was at one time the second most powerful \n",
                            "city of the ancient Mediterranean region, after Rome. Ongoing maritime archaeology in the harbor of \n",
                            "Alexandria, which began in 1994, is revealing details of Alexandria both before the arrival of Alexander, \n",
                            "when a city named Rhacotis existed there, and during the Ptolemaic dynasty. \n",
                            "</td>\n",
                            "            </tr>\n",
                            "            <tr>\n",
                            "                        <th id=\"T_a2418_level0_row4\" class=\"row_heading level0 row4\" >4</th>\n",
                            "                        <td id=\"T_a2418_row4_col0\" class=\"data row4 col0\" >8 i , . ! \n",
                            "9 i , . ! \n",
                            "10 i , . ! \n",
                            "11 i , . ! \n",
                            "12 i , . ! \n",
                            "13 i , . ! \n",
                            "14 i , . ! \n",
                            " \n",
                            "</td>\n",
                            "            </tr>\n",
                            "    </tbody></table>"
                        ],
                        "text/plain": [
                            "<pandas.io.formats.style.Styler at 0x14f2dbbd0>"
                        ]
                    },
                    "execution_count": 53,
                    "metadata": {},
                    "output_type": "execute_result"
                }
            ],
            "source": [
                "import pandas as pd\n",
                "pd.set_option('display.max_colwidth', None)\n",
                "\n",
                "result.select(\"text\").toPandas().style.set_properties(**{'white-space': 'pre-wrap', 'text-align': 'left'})"
            ]
        }
    ],
    "metadata": {
        "kernelspec": {
            "display_name": "Python 3",
            "language": "python",
            "name": "python3"
        },
        "language_info": {
            "codemirror_mode": {
                "name": "ipython",
                "version": 3
            },
            "file_extension": ".py",
            "mimetype": "text/x-python",
            "name": "python",
            "nbconvert_exporter": "python",
            "pygments_lexer": "ipython3",
            "version": "3.7.9"
        }
    },
    "nbformat": 4,
    "nbformat_minor": 5
}

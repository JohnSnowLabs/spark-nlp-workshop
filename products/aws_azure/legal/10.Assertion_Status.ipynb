{
 "cells": [
  {
   "cell_type": "markdown",
   "id": "VNRiKOH_u_jP",
   "metadata": {
    "id": "VNRiKOH_u_jP"
   },
   "source": [
    "![JohnSnowLabs](https://nlp.johnsnowlabs.com/assets/images/logo.png)"
   ]
  },
  {
   "cell_type": "markdown",
   "id": "0dpAf1n3e3Kg",
   "metadata": {
    "id": "0dpAf1n3e3Kg"
   },
   "source": [
    "# Legal Assertion Status Model "
   ]
  },
  {
   "cell_type": "markdown",
   "id": "192908fb-9382-48de-9c7b-3320eaacf6d2",
   "metadata": {
    "id": "okhT7AcXxben"
   },
   "source": [
    "## Setup"
   ]
  },
  {
   "cell_type": "code",
   "execution_count": null,
   "id": "e6669dbd-98f9-4d7f-8dea-7a38b07735dd",
   "metadata": {
    "colab": {
     "base_uri": "https://localhost:8080/"
    },
    "executionInfo": {
     "elapsed": 115199,
     "status": "ok",
     "timestamp": 1664816113389,
     "user": {
      "displayName": "Damla",
      "userId": "03285166568766987047"
     },
     "user_tz": -120
    },
    "id": "dmcB5zVBHZO8",
    "outputId": "cd366e47-7f4d-457a-dfe5-3ed5174d4a0c"
   },
   "outputs": [],
   "source": [
    "from johnsnowlabs import *\n",
    "\n",
    "import json\n",
    "import os\n",
    "import numpy as np\n",
    "import pandas as pd\n",
    "\n",
    "spark = start_spark()"
   ]
  },
  {
   "cell_type": "markdown",
   "id": "fa8fbe50-f928-45ff-b539-0ab62a7c40b2",
   "metadata": {
    "id": "fa8fbe50-f928-45ff-b539-0ab62a7c40b2"
   },
   "source": [
    "## Legal Assertion Status Model "
   ]
  },
  {
   "cell_type": "markdown",
   "id": "94fe87f8-6282-4f41-82a3-34d2a2744d0b",
   "metadata": {
    "id": "94fe87f8-6282-4f41-82a3-34d2a2744d0b"
   },
   "source": [
    "The model has been implemented within Spark NLP as an annotator called **AssertionDLModel**. It is an Assertion Status Model aimed to detect **temporality (PRESENT, PAST, FUTURE)** or **certainty (POSSIBLE)** in your legal texts."
   ]
  },
  {
   "cell_type": "markdown",
   "id": "a7957086-ce04-4259-987d-6832547e9a73",
   "metadata": {
    "id": "a7957086-ce04-4259-987d-6832547e9a73"
   },
   "source": [
    "## Prediction Pipeline"
   ]
  },
  {
   "cell_type": "code",
   "execution_count": null,
   "id": "fb516d3a-9bb3-4c5e-b773-e9e7ee1049e5",
   "metadata": {
    "colab": {
     "base_uri": "https://localhost:8080/"
    },
    "executionInfo": {
     "elapsed": 131365,
     "status": "ok",
     "timestamp": 1664824036052,
     "user": {
      "displayName": "Damla",
      "userId": "03285166568766987047"
     },
     "user_tz": -120
    },
    "id": "fb516d3a-9bb3-4c5e-b773-e9e7ee1049e5",
    "outputId": "de7e4169-fdd8-46d1-e1ac-923d7f06aae3",
    "tags": []
   },
   "outputs": [],
   "source": [
    "document_assembler = nlp.DocumentAssembler()\\\n",
    "    .setInputCol(\"text\")\\\n",
    "    .setOutputCol(\"document\")\n",
    "\n",
    "sentence_detector = nlp.SentenceDetectorDLModel.pretrained(\"sentence_detector_dl\",\"xx\")\\\n",
    "    .setInputCols([\"document\"])\\\n",
    "    .setOutputCol(\"sentence\")\n",
    "\n",
    "tokenizer = nlp.Tokenizer()\\\n",
    "    .setInputCols([\"sentence\"])\\\n",
    "    .setOutputCol(\"token\")\n",
    "\n",
    "embeddings_ner = nlp.RoBertaEmbeddings.pretrained(\"roberta_embeddings_legal_roberta_base\", \"en\") \\\n",
    "    .setInputCols(\"sentence\", \"token\") \\\n",
    "    .setOutputCol(\"embeddings_ner\")\\\n",
    "\n",
    "ner_model = legal.NerModel.pretrained('legner_contract_doc_parties', 'en', 'legal/models')\\\n",
    "    .setInputCols([\"sentence\", \"token\", \"embeddings_ner\"])\\\n",
    "    .setOutputCol(\"ner\")\n",
    "\n",
    "ner_converter = nlp.NerConverter()\\\n",
    "    .setInputCols([\"sentence\", \"token\", \"ner\"])\\\n",
    "    .setOutputCol(\"ner_chunk\")\\\n",
    "    .setWhiteList([\"DOC\", \"EFFDATE\", \"PARTY\"])\n",
    "\n",
    "embeddings_ass = nlp.BertEmbeddings.pretrained(\"bert_embeddings_sec_bert_base\",\"en\") \\\n",
    "    .setInputCols([\"sentence\", \"token\"]) \\\n",
    "    .setOutputCol(\"embeddings_ass\")\n",
    "\n",
    "assertion = legal.AssertionDLModel.pretrained(\"legassertion_time\", \"en\", \"legal/models\")\\\n",
    "    .setInputCols([\"sentence\", \"ner_chunk\", \"embeddings_ass\"]) \\\n",
    "    .setOutputCol(\"assertion\")\n",
    "\n",
    "\n",
    "nlp_pipeline = nlp.Pipeline(stages=[\n",
    "            document_assembler, \n",
    "            sentence_detector,\n",
    "            tokenizer,\n",
    "            embeddings_ner,\n",
    "            ner_model,\n",
    "            ner_converter,\n",
    "            embeddings_ass,\n",
    "            assertion\n",
    "            ])\n",
    "\n",
    "empty_data = spark.createDataFrame([[\"\"]]).toDF(\"text\")\n",
    "\n",
    "model = nlp_pipeline.fit(empty_data)\n",
    "\n",
    "light_model = nlp.LightPipeline(model)"
   ]
  },
  {
   "cell_type": "markdown",
   "id": "936ed953-a926-4e76-af5d-c8290a86a556",
   "metadata": {
    "id": "936ed953-a926-4e76-af5d-c8290a86a556"
   },
   "source": [
    "### Getting Result "
   ]
  },
  {
   "cell_type": "code",
   "execution_count": 3,
   "id": "5a3cb7ee-3198-42d2-b0f9-9476a5052d2f",
   "metadata": {
    "executionInfo": {
     "elapsed": 12,
     "status": "ok",
     "timestamp": 1664824036053,
     "user": {
      "displayName": "Damla",
      "userId": "03285166568766987047"
     },
     "user_tz": -120
    },
    "id": "5a3cb7ee-3198-42d2-b0f9-9476a5052d2f"
   },
   "outputs": [],
   "source": [
    "sample_text = \"This is an Intellectual Property Agreement between Amazon Inc. and Atlantic Inc.\"\n"
   ]
  },
  {
   "cell_type": "code",
   "execution_count": 4,
   "id": "0619023c-a6c3-4b61-837c-06af6ea02804",
   "metadata": {
    "colab": {
     "base_uri": "https://localhost:8080/"
    },
    "executionInfo": {
     "elapsed": 2781,
     "status": "ok",
     "timestamp": 1664824038827,
     "user": {
      "displayName": "Damla",
      "userId": "03285166568766987047"
     },
     "user_tz": -120
    },
    "id": "0619023c-a6c3-4b61-837c-06af6ea02804",
    "outputId": "ecd5db17-d8df-419f-d114-97993e64a7f8"
   },
   "outputs": [
    {
     "name": "stdout",
     "output_type": "stream",
     "text": [
      "+--------------------------------------------------------------------------------+\n",
      "|                                                                            text|\n",
      "+--------------------------------------------------------------------------------+\n",
      "|This is an Intellectual Property Agreement between Amazon Inc. and Atlantic Inc.|\n",
      "+--------------------------------------------------------------------------------+\n",
      "\n"
     ]
    }
   ],
   "source": [
    "data = spark.createDataFrame([[sample_text]]).toDF(\"text\")\n",
    "\n",
    "data.show(truncate = 80)"
   ]
  },
  {
   "cell_type": "code",
   "execution_count": null,
   "id": "3e7299b0-24d3-4bf7-bf95-833b950132f8",
   "metadata": {
    "executionInfo": {
     "elapsed": 2242,
     "status": "ok",
     "timestamp": 1664824041066,
     "user": {
      "displayName": "Damla",
      "userId": "03285166568766987047"
     },
     "user_tz": -120
    },
    "id": "3e7299b0-24d3-4bf7-bf95-833b950132f8"
   },
   "outputs": [],
   "source": [
    "result = model.transform(data)"
   ]
  },
  {
   "cell_type": "code",
   "execution_count": 7,
   "id": "76bd5600-1705-482e-b728-e0459212ea53",
   "metadata": {
    "colab": {
     "base_uri": "https://localhost:8080/"
    },
    "executionInfo": {
     "elapsed": 17400,
     "status": "ok",
     "timestamp": 1664824058463,
     "user": {
      "displayName": "Damla",
      "userId": "03285166568766987047"
     },
     "user_tz": -120
    },
    "id": "76bd5600-1705-482e-b728-e0459212ea53",
    "outputId": "d01344b0-37a3-46db-8dd6-376b599db259"
   },
   "outputs": [
    {
     "name": "stderr",
     "output_type": "stream",
     "text": [
      "[Stage 22:======================================>                   (2 + 1) / 3]\r"
     ]
    },
    {
     "name": "stdout",
     "output_type": "stream",
     "text": [
      "+-------------------------------+-----+---+---------+---------+\n",
      "|chunk                          |begin|end|ner_label|assertion|\n",
      "+-------------------------------+-----+---+---------+---------+\n",
      "|Intellectual Property Agreement|11   |41 |DOC      |PRESENT  |\n",
      "|Amazon Inc                     |51   |60 |PARTY    |PRESENT  |\n",
      "|Atlantic Inc                   |67   |78 |PARTY    |PRESENT  |\n",
      "+-------------------------------+-----+---+---------+---------+\n",
      "\n"
     ]
    },
    {
     "name": "stderr",
     "output_type": "stream",
     "text": [
      "                                                                                \r"
     ]
    }
   ],
   "source": [
    "import pyspark.sql.functions as F\n",
    "\n",
    "result.select(F.explode(F.arrays_zip(result.ner_chunk.result,  \n",
    "                                     result.ner_chunk.begin, \n",
    "                                     result.ner_chunk.end, \n",
    "                                     result.ner_chunk.metadata, \n",
    "                                     result.assertion.result)).alias(\"cols\"))\\\n",
    "      .select(F.expr(\"cols['0']\").alias(\"chunk\"),\n",
    "              F.expr(\"cols['1']\").alias(\"begin\"),\n",
    "              F.expr(\"cols['2']\").alias(\"end\"),\n",
    "              F.expr(\"cols['3']['entity']\").alias(\"ner_label\"),\n",
    "              F.expr(\"cols['4']\").alias(\"assertion\")).show(truncate=False)"
   ]
  },
  {
   "cell_type": "code",
   "execution_count": 8,
   "id": "b1e1092e-7562-4660-b441-ee8ae7cf8a46",
   "metadata": {
    "colab": {
     "base_uri": "https://localhost:8080/",
     "height": 116
    },
    "executionInfo": {
     "elapsed": 3894,
     "status": "ok",
     "timestamp": 1664824062347,
     "user": {
      "displayName": "Damla",
      "userId": "03285166568766987047"
     },
     "user_tz": -120
    },
    "id": "b1e1092e-7562-4660-b441-ee8ae7cf8a46",
    "outputId": "67acbb72-492d-441d-ff1d-fd6efc8cb8d2"
   },
   "outputs": [
    {
     "name": "stderr",
     "output_type": "stream",
     "text": [
      "                                                                                \r"
     ]
    },
    {
     "data": {
      "text/html": [
       "\n",
       "<style>\n",
       "    @import url('https://fonts.googleapis.com/css2?family=Montserrat:wght@300;400;500;600;700&display=swap');\n",
       "    @import url('https://fonts.googleapis.com/css2?family=Vistol Regular:wght@300;400;500;600;700&display=swap');\n",
       "    \n",
       "    .spark-nlp-display-scroll-entities {\n",
       "        border: 1px solid #E7EDF0;\n",
       "        border-radius: 3px;\n",
       "        text-align: justify;\n",
       "        \n",
       "    }\n",
       "    .spark-nlp-display-scroll-entities span {  \n",
       "        font-size: 14px;\n",
       "        line-height: 24px;\n",
       "        color: #536B76;\n",
       "        font-family: 'Montserrat', sans-serif !important;\n",
       "    }\n",
       "    \n",
       "    .spark-nlp-display-entity-wrapper{\n",
       "    \n",
       "        display: inline-grid;\n",
       "        text-align: center;\n",
       "        border-radius: 4px;\n",
       "        margin: 0 2px 5px 2px;\n",
       "        padding: 1px\n",
       "    }\n",
       "    .spark-nlp-display-entity-name{\n",
       "        font-size: 14px;\n",
       "        line-height: 24px;\n",
       "        font-family: 'Montserrat', sans-serif !important;\n",
       "        \n",
       "        background: #f1f2f3;\n",
       "        border-width: medium;\n",
       "        text-align: center;\n",
       "        \n",
       "        font-weight: 400;\n",
       "        \n",
       "        border-radius: 5px;\n",
       "        padding: 2px 5px;\n",
       "        display: block;\n",
       "        margin: 3px 2px;\n",
       "    \n",
       "    }\n",
       "    .spark-nlp-display-entity-type{\n",
       "        font-size: 14px;\n",
       "        line-height: 24px;\n",
       "        color: #ffffff;\n",
       "        font-family: 'Montserrat', sans-serif !important;\n",
       "        \n",
       "        text-transform: uppercase;\n",
       "        \n",
       "        font-weight: 500;\n",
       "\n",
       "        display: block;\n",
       "        padding: 3px 5px;\n",
       "    }\n",
       "    \n",
       "    .spark-nlp-display-entity-resolution{\n",
       "        font-size: 14px;\n",
       "        line-height: 24px;\n",
       "        color: #ffffff;\n",
       "        font-family: 'Vistol Regular', sans-serif !important;\n",
       "        \n",
       "        text-transform: uppercase;\n",
       "        \n",
       "        font-weight: 500;\n",
       "\n",
       "        display: block;\n",
       "        padding: 3px 5px;\n",
       "    }\n",
       "    \n",
       "    .spark-nlp-display-others{\n",
       "        font-size: 14px;\n",
       "        line-height: 24px;\n",
       "        font-family: 'Montserrat', sans-serif !important;\n",
       "        \n",
       "        font-weight: 400;\n",
       "    }\n",
       "\n",
       "</style>\n",
       " <span class=\"spark-nlp-display-others\" style=\"background-color: white\">This is an </span><span class=\"spark-nlp-display-entity-wrapper\" style=\"background-color: #83633DB3\"><span class=\"spark-nlp-display-entity-name\">Intellectual Property Agreement </span><span class=\"spark-nlp-display-entity-type\">DOC</span><span class=\"spark-nlp-display-entity-resolution\" style=\"background-color: #83633DFF\">PRESENT </span></span><span class=\"spark-nlp-display-others\" style=\"background-color: white\"> between </span><span class=\"spark-nlp-display-entity-wrapper\" style=\"background-color: #87284EB3\"><span class=\"spark-nlp-display-entity-name\">Amazon Inc </span><span class=\"spark-nlp-display-entity-type\">PARTY</span><span class=\"spark-nlp-display-entity-resolution\" style=\"background-color: #87284EFF\">PRESENT </span></span><span class=\"spark-nlp-display-others\" style=\"background-color: white\">. and </span><span class=\"spark-nlp-display-entity-wrapper\" style=\"background-color: #87284EB3\"><span class=\"spark-nlp-display-entity-name\">Atlantic Inc </span><span class=\"spark-nlp-display-entity-type\">PARTY</span><span class=\"spark-nlp-display-entity-resolution\" style=\"background-color: #87284EFF\">PRESENT </span></span><span class=\"spark-nlp-display-others\" style=\"background-color: white\">.</span></div>"
      ],
      "text/plain": [
       "<IPython.core.display.HTML object>"
      ]
     },
     "metadata": {},
     "output_type": "display_data"
    }
   ],
   "source": [
    "# from sparknlp_display import AssertionVisualizer\n",
    "\n",
    "vis = viz.AssertionVisualizer()\n",
    "\n",
    "vis.display(result.collect()[0], 'ner_chunk', 'assertion')"
   ]
  },
  {
   "cell_type": "markdown",
   "id": "45de1301-4cba-432e-9d62-9e3a92b484a1",
   "metadata": {
    "id": "45de1301-4cba-432e-9d62-9e3a92b484a1"
   },
   "source": [
    "### Getting Result with LightPipeline"
   ]
  },
  {
   "cell_type": "code",
   "execution_count": 9,
   "id": "f40586e5-3776-45da-b898-ab325624fc78",
   "metadata": {
    "executionInfo": {
     "elapsed": 4,
     "status": "ok",
     "timestamp": 1664824062348,
     "user": {
      "displayName": "Damla",
      "userId": "03285166568766987047"
     },
     "user_tz": -120
    },
    "id": "f40586e5-3776-45da-b898-ab325624fc78"
   },
   "outputs": [],
   "source": [
    "sample_text = [\"\"\"This TRADEMARK LICENSE AGREEMENT (this \"Agreement\") is made and effective as of 31 Aug, 2020 (\"Effective Date\"), by and between Palmer Square Capital Management LLC, a Delaware limited liability company (the \"Licensor\"), and Palmer Square Capital BDC Inc., a corporation organized under the laws of the State of Maryland (the \"Licensee\")\"\"\",\n",
    "               \"\"\"The Intellectual Property Agreement would potentially be in short signed by the two Parties\"\"\",\n",
    "               \"\"\"The Sponsorship Agreement (\"Agreement\") will be signed on October 10, 2015\"\"\",\n",
    "               \"\"\"This is an Intellectual Property Agreement between Amazon.com Inc and Atlantic Inc.\"\"\",\n",
    "               \"\"\"This Sponsorship Agreement (\"Agreement\") was entered into as of December 18, 1998, by and between Ford Motor Media, a division of J. Walter Thompson with offices at 300 Renaissance Center, Detroit, Michigan 48243 and iVillage Inc., with offices at 170 Fifth Avenue, New York, New York 10010.\"\"\"]"
   ]
  },
  {
   "cell_type": "code",
   "execution_count": null,
   "id": "cc030bfe-fc6d-4e47-8daf-a527744c9e73",
   "metadata": {
    "executionInfo": {
     "elapsed": 11535,
     "status": "ok",
     "timestamp": 1664824073880,
     "user": {
      "displayName": "Damla",
      "userId": "03285166568766987047"
     },
     "user_tz": -120
    },
    "id": "cc030bfe-fc6d-4e47-8daf-a527744c9e73"
   },
   "outputs": [],
   "source": [
    "chunks=[]\n",
    "entities=[]\n",
    "status=[]\n",
    "begin = []\n",
    "end = []\n",
    "\n",
    "for i in range(len(sample_text)):\n",
    "\n",
    "    light_result = light_model.fullAnnotate(sample_text[i])[0]\n",
    "\n",
    "    for n,m in zip(light_result['ner_chunk'],light_result['assertion']):\n",
    "        begin.append(n.begin)\n",
    "        end.append(n.end)\n",
    "        chunks.append(n.result)\n",
    "        entities.append(n.metadata['entity']) \n",
    "        status.append(m.result)\n",
    "        \n",
    "df = pd.DataFrame({'chunks':chunks, 'begin':begin, 'end':end, 'ner_label':entities, 'assertion':status})"
   ]
  },
  {
   "cell_type": "code",
   "execution_count": 11,
   "id": "GxKbKU1Ya2kH",
   "metadata": {
    "colab": {
     "base_uri": "https://localhost:8080/",
     "height": 475
    },
    "executionInfo": {
     "elapsed": 29,
     "status": "ok",
     "timestamp": 1664824073883,
     "user": {
      "displayName": "Damla",
      "userId": "03285166568766987047"
     },
     "user_tz": -120
    },
    "id": "GxKbKU1Ya2kH",
    "outputId": "de52eb51-9559-400d-aa69-402b1102afc5"
   },
   "outputs": [
    {
     "data": {
      "text/html": [
       "<div>\n",
       "<style scoped>\n",
       "    .dataframe tbody tr th:only-of-type {\n",
       "        vertical-align: middle;\n",
       "    }\n",
       "\n",
       "    .dataframe tbody tr th {\n",
       "        vertical-align: top;\n",
       "    }\n",
       "\n",
       "    .dataframe thead th {\n",
       "        text-align: right;\n",
       "    }\n",
       "</style>\n",
       "<table border=\"1\" class=\"dataframe\">\n",
       "  <thead>\n",
       "    <tr style=\"text-align: right;\">\n",
       "      <th></th>\n",
       "      <th>chunks</th>\n",
       "      <th>begin</th>\n",
       "      <th>end</th>\n",
       "      <th>ner_label</th>\n",
       "      <th>assertion</th>\n",
       "    </tr>\n",
       "  </thead>\n",
       "  <tbody>\n",
       "    <tr>\n",
       "      <th>0</th>\n",
       "      <td>TRADEMARK LICENSE AGREEMENT</td>\n",
       "      <td>5</td>\n",
       "      <td>31</td>\n",
       "      <td>DOC</td>\n",
       "      <td>PRESENT</td>\n",
       "    </tr>\n",
       "    <tr>\n",
       "      <th>1</th>\n",
       "      <td>31 Aug, 2020</td>\n",
       "      <td>80</td>\n",
       "      <td>91</td>\n",
       "      <td>EFFDATE</td>\n",
       "      <td>PRESENT</td>\n",
       "    </tr>\n",
       "    <tr>\n",
       "      <th>2</th>\n",
       "      <td>Palmer Square Capital Management LLC</td>\n",
       "      <td>128</td>\n",
       "      <td>163</td>\n",
       "      <td>PARTY</td>\n",
       "      <td>PRESENT</td>\n",
       "    </tr>\n",
       "    <tr>\n",
       "      <th>3</th>\n",
       "      <td>Palmer Square Capital BDC Inc</td>\n",
       "      <td>225</td>\n",
       "      <td>253</td>\n",
       "      <td>PARTY</td>\n",
       "      <td>PRESENT</td>\n",
       "    </tr>\n",
       "    <tr>\n",
       "      <th>4</th>\n",
       "      <td>Intellectual Property Agreement</td>\n",
       "      <td>4</td>\n",
       "      <td>34</td>\n",
       "      <td>DOC</td>\n",
       "      <td>POSSIBLE</td>\n",
       "    </tr>\n",
       "    <tr>\n",
       "      <th>5</th>\n",
       "      <td>Sponsorship Agreement</td>\n",
       "      <td>4</td>\n",
       "      <td>24</td>\n",
       "      <td>DOC</td>\n",
       "      <td>FUTURE</td>\n",
       "    </tr>\n",
       "    <tr>\n",
       "      <th>6</th>\n",
       "      <td>October 10, 2015</td>\n",
       "      <td>58</td>\n",
       "      <td>73</td>\n",
       "      <td>EFFDATE</td>\n",
       "      <td>FUTURE</td>\n",
       "    </tr>\n",
       "    <tr>\n",
       "      <th>7</th>\n",
       "      <td>Intellectual Property Agreement</td>\n",
       "      <td>11</td>\n",
       "      <td>41</td>\n",
       "      <td>DOC</td>\n",
       "      <td>PRESENT</td>\n",
       "    </tr>\n",
       "    <tr>\n",
       "      <th>8</th>\n",
       "      <td>Amazon.com Inc</td>\n",
       "      <td>51</td>\n",
       "      <td>64</td>\n",
       "      <td>PARTY</td>\n",
       "      <td>PRESENT</td>\n",
       "    </tr>\n",
       "    <tr>\n",
       "      <th>9</th>\n",
       "      <td>Atlantic Inc</td>\n",
       "      <td>70</td>\n",
       "      <td>81</td>\n",
       "      <td>PARTY</td>\n",
       "      <td>PRESENT</td>\n",
       "    </tr>\n",
       "    <tr>\n",
       "      <th>10</th>\n",
       "      <td>Sponsorship Agreement</td>\n",
       "      <td>5</td>\n",
       "      <td>25</td>\n",
       "      <td>DOC</td>\n",
       "      <td>PAST</td>\n",
       "    </tr>\n",
       "    <tr>\n",
       "      <th>11</th>\n",
       "      <td>December 18, 1998</td>\n",
       "      <td>64</td>\n",
       "      <td>80</td>\n",
       "      <td>EFFDATE</td>\n",
       "      <td>PAST</td>\n",
       "    </tr>\n",
       "    <tr>\n",
       "      <th>12</th>\n",
       "      <td>Ford Motor Media</td>\n",
       "      <td>98</td>\n",
       "      <td>113</td>\n",
       "      <td>PARTY</td>\n",
       "      <td>PAST</td>\n",
       "    </tr>\n",
       "    <tr>\n",
       "      <th>13</th>\n",
       "      <td>iVillage</td>\n",
       "      <td>217</td>\n",
       "      <td>224</td>\n",
       "      <td>PARTY</td>\n",
       "      <td>PAST</td>\n",
       "    </tr>\n",
       "  </tbody>\n",
       "</table>\n",
       "</div>"
      ],
      "text/plain": [
       "                                  chunks  begin  end ner_label assertion\n",
       "0            TRADEMARK LICENSE AGREEMENT      5   31       DOC   PRESENT\n",
       "1                           31 Aug, 2020     80   91   EFFDATE   PRESENT\n",
       "2   Palmer Square Capital Management LLC    128  163     PARTY   PRESENT\n",
       "3          Palmer Square Capital BDC Inc    225  253     PARTY   PRESENT\n",
       "4        Intellectual Property Agreement      4   34       DOC  POSSIBLE\n",
       "5                  Sponsorship Agreement      4   24       DOC    FUTURE\n",
       "6                       October 10, 2015     58   73   EFFDATE    FUTURE\n",
       "7        Intellectual Property Agreement     11   41       DOC   PRESENT\n",
       "8                         Amazon.com Inc     51   64     PARTY   PRESENT\n",
       "9                           Atlantic Inc     70   81     PARTY   PRESENT\n",
       "10                 Sponsorship Agreement      5   25       DOC      PAST\n",
       "11                     December 18, 1998     64   80   EFFDATE      PAST\n",
       "12                      Ford Motor Media     98  113     PARTY      PAST\n",
       "13                              iVillage    217  224     PARTY      PAST"
      ]
     },
     "execution_count": 11,
     "metadata": {},
     "output_type": "execute_result"
    }
   ],
   "source": [
    "df"
   ]
  },
  {
   "cell_type": "markdown",
   "id": "c9aaa35d-28db-46f7-b687-eb17b3352424",
   "metadata": {
    "id": "c9aaa35d-28db-46f7-b687-eb17b3352424"
   },
   "source": [
    "### Visualization of Assertion Status"
   ]
  },
  {
   "cell_type": "code",
   "execution_count": null,
   "id": "f619b1a3-6937-4914-88d3-13b4ad086491",
   "metadata": {
    "colab": {
     "base_uri": "https://localhost:8080/",
     "height": 887
    },
    "executionInfo": {
     "elapsed": 8866,
     "status": "ok",
     "timestamp": 1664824082735,
     "user": {
      "displayName": "Damla",
      "userId": "03285166568766987047"
     },
     "user_tz": -120
    },
    "id": "f619b1a3-6937-4914-88d3-13b4ad086491",
    "outputId": "97621ce0-17e2-42f3-bf36-606e0b473111"
   },
   "outputs": [],
   "source": [
    "# from sparknlp_display import AssertionVisualizer\n",
    "\n",
    "light_result = light_model.fullAnnotate(sample_text[0])[0] \n",
    " "
   ]
  },
  {
   "cell_type": "code",
   "execution_count": 14,
   "id": "yE3hWlW0etVc",
   "metadata": {
    "executionInfo": {
     "elapsed": 12,
     "status": "ok",
     "timestamp": 1664824082736,
     "user": {
      "displayName": "Damla",
      "userId": "03285166568766987047"
     },
     "user_tz": -120
    },
    "id": "yE3hWlW0etVc"
   },
   "outputs": [
    {
     "data": {
      "text/html": [
       "\n",
       "<style>\n",
       "    @import url('https://fonts.googleapis.com/css2?family=Montserrat:wght@300;400;500;600;700&display=swap');\n",
       "    @import url('https://fonts.googleapis.com/css2?family=Vistol Regular:wght@300;400;500;600;700&display=swap');\n",
       "    \n",
       "    .spark-nlp-display-scroll-entities {\n",
       "        border: 1px solid #E7EDF0;\n",
       "        border-radius: 3px;\n",
       "        text-align: justify;\n",
       "        \n",
       "    }\n",
       "    .spark-nlp-display-scroll-entities span {  \n",
       "        font-size: 14px;\n",
       "        line-height: 24px;\n",
       "        color: #536B76;\n",
       "        font-family: 'Montserrat', sans-serif !important;\n",
       "    }\n",
       "    \n",
       "    .spark-nlp-display-entity-wrapper{\n",
       "    \n",
       "        display: inline-grid;\n",
       "        text-align: center;\n",
       "        border-radius: 4px;\n",
       "        margin: 0 2px 5px 2px;\n",
       "        padding: 1px\n",
       "    }\n",
       "    .spark-nlp-display-entity-name{\n",
       "        font-size: 14px;\n",
       "        line-height: 24px;\n",
       "        font-family: 'Montserrat', sans-serif !important;\n",
       "        \n",
       "        background: #f1f2f3;\n",
       "        border-width: medium;\n",
       "        text-align: center;\n",
       "        \n",
       "        font-weight: 400;\n",
       "        \n",
       "        border-radius: 5px;\n",
       "        padding: 2px 5px;\n",
       "        display: block;\n",
       "        margin: 3px 2px;\n",
       "    \n",
       "    }\n",
       "    .spark-nlp-display-entity-type{\n",
       "        font-size: 14px;\n",
       "        line-height: 24px;\n",
       "        color: #ffffff;\n",
       "        font-family: 'Montserrat', sans-serif !important;\n",
       "        \n",
       "        text-transform: uppercase;\n",
       "        \n",
       "        font-weight: 500;\n",
       "\n",
       "        display: block;\n",
       "        padding: 3px 5px;\n",
       "    }\n",
       "    \n",
       "    .spark-nlp-display-entity-resolution{\n",
       "        font-size: 14px;\n",
       "        line-height: 24px;\n",
       "        color: #ffffff;\n",
       "        font-family: 'Vistol Regular', sans-serif !important;\n",
       "        \n",
       "        text-transform: uppercase;\n",
       "        \n",
       "        font-weight: 500;\n",
       "\n",
       "        display: block;\n",
       "        padding: 3px 5px;\n",
       "    }\n",
       "    \n",
       "    .spark-nlp-display-others{\n",
       "        font-size: 14px;\n",
       "        line-height: 24px;\n",
       "        font-family: 'Montserrat', sans-serif !important;\n",
       "        \n",
       "        font-weight: 400;\n",
       "    }\n",
       "\n",
       "</style>\n",
       " <span class=\"spark-nlp-display-others\" style=\"background-color: white\">This </span><span class=\"spark-nlp-display-entity-wrapper\" style=\"background-color: #AB5763B3\"><span class=\"spark-nlp-display-entity-name\">TRADEMARK LICENSE AGREEMENT </span><span class=\"spark-nlp-display-entity-type\">DOC</span><span class=\"spark-nlp-display-entity-resolution\" style=\"background-color: #AB5763FF\">PRESENT </span></span><span class=\"spark-nlp-display-others\" style=\"background-color: white\"> (this \"Agreement\") is made and effective as of </span><span class=\"spark-nlp-display-entity-wrapper\" style=\"background-color: #5D0E35B3\"><span class=\"spark-nlp-display-entity-name\">31 Aug, 2020 </span><span class=\"spark-nlp-display-entity-type\">EFFDATE</span><span class=\"spark-nlp-display-entity-resolution\" style=\"background-color: #5D0E35FF\">PRESENT </span></span><span class=\"spark-nlp-display-others\" style=\"background-color: white\"> (\"Effective Date\"), by and between </span><span class=\"spark-nlp-display-entity-wrapper\" style=\"background-color: #40267FB3\"><span class=\"spark-nlp-display-entity-name\">Palmer Square Capital Management LLC </span><span class=\"spark-nlp-display-entity-type\">PARTY</span><span class=\"spark-nlp-display-entity-resolution\" style=\"background-color: #40267FFF\">PRESENT </span></span><span class=\"spark-nlp-display-others\" style=\"background-color: white\">, a Delaware limited liability company (the \"Licensor\"), and </span><span class=\"spark-nlp-display-entity-wrapper\" style=\"background-color: #40267FB3\"><span class=\"spark-nlp-display-entity-name\">Palmer Square Capital BDC Inc </span><span class=\"spark-nlp-display-entity-type\">PARTY</span><span class=\"spark-nlp-display-entity-resolution\" style=\"background-color: #40267FFF\">PRESENT </span></span><span class=\"spark-nlp-display-others\" style=\"background-color: white\">., a corporation organized under the laws of the State of Maryland (the \"Licensee\")</span></div>"
      ],
      "text/plain": [
       "<IPython.core.display.HTML object>"
      ]
     },
     "metadata": {},
     "output_type": "display_data"
    }
   ],
   "source": [
    "vis = viz.AssertionVisualizer()\n",
    "\n",
    "vis.display(light_result, 'ner_chunk', 'assertion') "
   ]
  },
  {
   "cell_type": "code",
   "execution_count": null,
   "id": "4a15e907-2e4e-4537-8657-a9d4542e6d26",
   "metadata": {},
   "outputs": [],
   "source": [
    "light_result = light_model.fullAnnotate(sample_text[1])[0] "
   ]
  },
  {
   "cell_type": "code",
   "execution_count": 16,
   "id": "e0ce7bff-1c93-4080-840b-34fb07e2f2b2",
   "metadata": {},
   "outputs": [
    {
     "data": {
      "text/html": [
       "\n",
       "<style>\n",
       "    @import url('https://fonts.googleapis.com/css2?family=Montserrat:wght@300;400;500;600;700&display=swap');\n",
       "    @import url('https://fonts.googleapis.com/css2?family=Vistol Regular:wght@300;400;500;600;700&display=swap');\n",
       "    \n",
       "    .spark-nlp-display-scroll-entities {\n",
       "        border: 1px solid #E7EDF0;\n",
       "        border-radius: 3px;\n",
       "        text-align: justify;\n",
       "        \n",
       "    }\n",
       "    .spark-nlp-display-scroll-entities span {  \n",
       "        font-size: 14px;\n",
       "        line-height: 24px;\n",
       "        color: #536B76;\n",
       "        font-family: 'Montserrat', sans-serif !important;\n",
       "    }\n",
       "    \n",
       "    .spark-nlp-display-entity-wrapper{\n",
       "    \n",
       "        display: inline-grid;\n",
       "        text-align: center;\n",
       "        border-radius: 4px;\n",
       "        margin: 0 2px 5px 2px;\n",
       "        padding: 1px\n",
       "    }\n",
       "    .spark-nlp-display-entity-name{\n",
       "        font-size: 14px;\n",
       "        line-height: 24px;\n",
       "        font-family: 'Montserrat', sans-serif !important;\n",
       "        \n",
       "        background: #f1f2f3;\n",
       "        border-width: medium;\n",
       "        text-align: center;\n",
       "        \n",
       "        font-weight: 400;\n",
       "        \n",
       "        border-radius: 5px;\n",
       "        padding: 2px 5px;\n",
       "        display: block;\n",
       "        margin: 3px 2px;\n",
       "    \n",
       "    }\n",
       "    .spark-nlp-display-entity-type{\n",
       "        font-size: 14px;\n",
       "        line-height: 24px;\n",
       "        color: #ffffff;\n",
       "        font-family: 'Montserrat', sans-serif !important;\n",
       "        \n",
       "        text-transform: uppercase;\n",
       "        \n",
       "        font-weight: 500;\n",
       "\n",
       "        display: block;\n",
       "        padding: 3px 5px;\n",
       "    }\n",
       "    \n",
       "    .spark-nlp-display-entity-resolution{\n",
       "        font-size: 14px;\n",
       "        line-height: 24px;\n",
       "        color: #ffffff;\n",
       "        font-family: 'Vistol Regular', sans-serif !important;\n",
       "        \n",
       "        text-transform: uppercase;\n",
       "        \n",
       "        font-weight: 500;\n",
       "\n",
       "        display: block;\n",
       "        padding: 3px 5px;\n",
       "    }\n",
       "    \n",
       "    .spark-nlp-display-others{\n",
       "        font-size: 14px;\n",
       "        line-height: 24px;\n",
       "        font-family: 'Montserrat', sans-serif !important;\n",
       "        \n",
       "        font-weight: 400;\n",
       "    }\n",
       "\n",
       "</style>\n",
       " <span class=\"spark-nlp-display-others\" style=\"background-color: white\">The </span><span class=\"spark-nlp-display-entity-wrapper\" style=\"background-color: #A245B1B3\"><span class=\"spark-nlp-display-entity-name\">Intellectual Property Agreement </span><span class=\"spark-nlp-display-entity-type\">DOC</span><span class=\"spark-nlp-display-entity-resolution\" style=\"background-color: #A245B1FF\">POSSIBLE </span></span><span class=\"spark-nlp-display-others\" style=\"background-color: white\"> would potentially be in short signed by the two Parties</span></div>"
      ],
      "text/plain": [
       "<IPython.core.display.HTML object>"
      ]
     },
     "metadata": {},
     "output_type": "display_data"
    }
   ],
   "source": [
    "vis.display(light_result, 'ner_chunk', 'assertion') "
   ]
  },
  {
   "cell_type": "code",
   "execution_count": null,
   "id": "5d2f9a5e-2fa4-4a5a-96f5-d6ac07939335",
   "metadata": {},
   "outputs": [],
   "source": []
  }
 ],
 "metadata": {
  "colab": {
   "collapsed_sections": [],
   "provenance": []
  },
  "kernelspec": {
   "display_name": "jsl4.2.3",
   "language": "python",
   "name": "jsl4.2.3"
  },
  "language_info": {
   "codemirror_mode": {
    "name": "ipython",
    "version": 3
   },
   "file_extension": ".py",
   "mimetype": "text/x-python",
   "name": "python",
   "nbconvert_exporter": "python",
   "pygments_lexer": "ipython3",
   "version": "3.8.10"
  }
 },
 "nbformat": 4,
 "nbformat_minor": 5
}

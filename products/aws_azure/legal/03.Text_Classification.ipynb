{
 "cells": [
  {
   "cell_type": "markdown",
   "id": "LWoEwxGWo1iI",
   "metadata": {
    "id": "LWoEwxGWo1iI"
   },
   "source": [
    "![JohnSnowLabs](https://nlp.johnsnowlabs.com/assets/images/logo.png)"
   ]
  },
  {
   "cell_type": "markdown",
   "id": "jTWPkSZ3upVA",
   "metadata": {
    "id": "jTWPkSZ3upVA"
   },
   "source": [
    "# Text Classification"
   ]
  },
  {
   "cell_type": "markdown",
   "id": "2764cb31-3ad2-4f6a-8b90-c0098bf0ec79",
   "metadata": {
    "id": "okhT7AcXxben"
   },
   "source": [
    "## Setup"
   ]
  },
  {
   "cell_type": "code",
   "execution_count": null,
   "id": "30838454-fe83-4bb6-8c3d-a9d656cae152",
   "metadata": {
    "colab": {
     "base_uri": "https://localhost:8080/"
    },
    "executionInfo": {
     "elapsed": 115199,
     "status": "ok",
     "timestamp": 1664816113389,
     "user": {
      "displayName": "Damla",
      "userId": "03285166568766987047"
     },
     "user_tz": -120
    },
    "id": "dmcB5zVBHZO8",
    "outputId": "cd366e47-7f4d-457a-dfe5-3ed5174d4a0c"
   },
   "outputs": [],
   "source": [
    "from johnsnowlabs import *\n",
    "\n",
    "import pandas as pd\n",
    "import json\n",
    "import os\n",
    "\n",
    "spark = start_spark()"
   ]
  },
  {
   "cell_type": "markdown",
   "id": "74b31459-0f72-47f1-90f1-1e4941c0e269",
   "metadata": {
    "id": "74b31459-0f72-47f1-90f1-1e4941c0e269"
   },
   "source": [
    "## Get Binary Prediction from Legal Caluses"
   ]
  },
  {
   "cell_type": "markdown",
   "id": "4ea584cc-a9d2-4016-99fe-b2f1014da878",
   "metadata": {
    "id": "4ea584cc-a9d2-4016-99fe-b2f1014da878"
   },
   "source": [
    "The classification models were trained on legal texts, where different paragraphs were mapped to different legal clauses types, some of them belonging to several topics at the same time.\n",
    "\n",
    "Since the number of classes is very high (as mentioned, over 250) and the texts could belong to some topics at the same time (multilabel problem), the models are binary (yes / no) and used independently. You can select the topics you are interested in (for example, looking for **loans** and **fiscal-year** clauses) and create a pipeline with both of them to detect for those types of clauses in your paragraphs. As a reminder, since the models are independent and the task is multilabel, you may get some times positive results for more than one class (i.e, a paragraph talks about **loans** and **fiscal year** at the same time)."
   ]
  },
  {
   "cell_type": "markdown",
   "id": "549ec248-324a-4825-87db-ccff98c236f1",
   "metadata": {
    "id": "549ec248-324a-4825-87db-ccff98c236f1"
   },
   "source": [
    "### Sample Texts for Binary Classification"
   ]
  },
  {
   "cell_type": "code",
   "execution_count": 3,
   "id": "d22b9786-939d-4e06-9b10-b9f13577d8bc",
   "metadata": {
    "id": "d22b9786-939d-4e06-9b10-b9f13577d8bc"
   },
   "outputs": [],
   "source": [
    "models = [\"legclf_amendments_clause\", \"legclf_loans_clause\", \"legclf_currency_clause\", \"legclf_fiscal_year_clause\", \"legclf_guarantee_clause\"]"
   ]
  },
  {
   "cell_type": "code",
   "execution_count": 4,
   "id": "6d8ef50d-a149-43c2-ab5a-6448c1871e21",
   "metadata": {
    "id": "6d8ef50d-a149-43c2-ab5a-6448c1871e21"
   },
   "outputs": [],
   "source": [
    "sample_texts = [(\"\"\"This agreement, or any term thereof, may be changed or waived only by written amendment, signed by the party against whom enforcement of such change or waiver is sought.\"\"\", \"amendments\"),\n",
    "                (\"\"\"The sponsor has made loans or advances to the company in the aggregate amount of approximately $140,000 (the “Insider Advances”). The Insider Advances do not bear any interest, are unsecured and are repayable by the company on the earlier of June 30, 2017 or the consummation of the offering.\"\"\", \"loans\"),\n",
    "                (\"\"\"Unless otherwise specified in this agreement, all references to currency, monetary values and dollars set forth herein shall mean United States (U.S.) dollars and all payments hereunder shall be made in United States dollars.\"\"\", \"currency\"),\n",
    "                (\"\"\"The fiscal year for the School shall begin on July 1 and end on June 30 of the subsequent calendar year.\"\"\", \"fiscal-year\"),\n",
    "                (\"\"\"The Engineer warrants that engineering design work performed by the Engineer hereunder shall be in accordance with sound engineering design practices and in conformance with applicable code and standards established for such work.\"\"\",\"guarantee\")]"
   ]
  },
  {
   "cell_type": "markdown",
   "id": "395c0e8c-4f4a-42ab-876e-705f5761d0c3",
   "metadata": {
    "id": "395c0e8c-4f4a-42ab-876e-705f5761d0c3"
   },
   "source": [
    "### Prediction Pipeline"
   ]
  },
  {
   "cell_type": "code",
   "execution_count": null,
   "id": "81559ab5-8c9c-414b-9536-53f02126f4ac",
   "metadata": {
    "colab": {
     "base_uri": "https://localhost:8080/"
    },
    "executionInfo": {
     "elapsed": 52488,
     "status": "ok",
     "timestamp": 1664822461928,
     "user": {
      "displayName": "Damla",
      "userId": "03285166568766987047"
     },
     "user_tz": -120
    },
    "id": "81559ab5-8c9c-414b-9536-53f02126f4ac",
    "outputId": "554846b3-6471-4d13-ae10-0a0cbf6baabb",
    "tags": []
   },
   "outputs": [],
   "source": [
    "document_assembler = nlp.DocumentAssembler()\\\n",
    "    .setInputCol(\"text\")\\\n",
    "    .setOutputCol(\"document\")\n",
    "\n",
    "embeddings = nlp.BertSentenceEmbeddings.pretrained(\"sent_bert_base_cased\", \"en\")\\\n",
    "    .setInputCols(\"document\")\\\n",
    "    .setOutputCol(\"sentence_embeddings\")"
   ]
  },
  {
   "cell_type": "code",
   "execution_count": 8,
   "id": "6a27e7d3-cee5-4182-bf48-7c0faa8d6650",
   "metadata": {
    "colab": {
     "base_uri": "https://localhost:8080/"
    },
    "executionInfo": {
     "elapsed": 64356,
     "status": "ok",
     "timestamp": 1664822526277,
     "user": {
      "displayName": "Damla",
      "userId": "03285166568766987047"
     },
     "user_tz": -120
    },
    "id": "6a27e7d3-cee5-4182-bf48-7c0faa8d6650",
    "outputId": "ed5abd66-0242-4589-d32f-a8a0197b9386",
    "tags": []
   },
   "outputs": [
    {
     "name": "stdout",
     "output_type": "stream",
     "text": [
      "legclf_amendments_clause download started this may take some time.\n",
      "[ | ]1g6ax7jxec82paqzk7ivz9fx7\n",
      "codes retrieved: ArrayBuffer(1g6ax7jxec82paqzk7ivz9fx7), product code(from property): 1g6ax7jxec82paqzk7ivz9fx7\n",
      "[OK!]\n",
      "1g6ax7jxec82paqzk7ivz9fx7\n",
      "codes retrieved: ArrayBuffer(1g6ax7jxec82paqzk7ivz9fx7), product code(from property): 1g6ax7jxec82paqzk7ivz9fx7\n",
      "<---legclf_amendments_clause result--->\n"
     ]
    },
    {
     "name": "stderr",
     "output_type": "stream",
     "text": [
      "                                                                                \r"
     ]
    },
    {
     "name": "stdout",
     "output_type": "stream",
     "text": [
      "+--------------------------------------------------------------------------------+-----------+----------+\n",
      "|                                                                        document|      label|     class|\n",
      "+--------------------------------------------------------------------------------+-----------+----------+\n",
      "|This agreement, or any term thereof, may be changed or waived only by written...| amendments|amendments|\n",
      "|The sponsor has made loans or advances to the company in the aggregate amount...|      loans|     other|\n",
      "|Unless otherwise specified in this agreement, all references to currency, mon...|   currency|     other|\n",
      "|The fiscal year for the School shall begin on July 1 and end on June 30 of th...|fiscal-year|     other|\n",
      "|The Engineer warrants that engineering design work performed by the Engineer ...|  guarantee|     other|\n",
      "+--------------------------------------------------------------------------------+-----------+----------+\n",
      "\n",
      "\n",
      "\n",
      "legclf_loans_clause download started this may take some time.\n",
      "[ | ]1g6ax7jxec82paqzk7ivz9fx7\n",
      "codes retrieved: ArrayBuffer(1g6ax7jxec82paqzk7ivz9fx7), product code(from property): 1g6ax7jxec82paqzk7ivz9fx7\n",
      "legclf_loans_clause download started this may take some time.\n",
      "Approximate size to download 21.8 MB\n",
      "Download done! Loading the resource.\n",
      "[OK!]\n",
      "1g6ax7jxec82paqzk7ivz9fx7\n",
      "codes retrieved: ArrayBuffer(1g6ax7jxec82paqzk7ivz9fx7), product code(from property): 1g6ax7jxec82paqzk7ivz9fx7\n",
      "<---legclf_loans_clause result--->\n",
      "+--------------------------------------------------------------------------------+-----------+-----+\n",
      "|                                                                        document|      label|class|\n",
      "+--------------------------------------------------------------------------------+-----------+-----+\n",
      "|This agreement, or any term thereof, may be changed or waived only by written...| amendments|other|\n",
      "|The sponsor has made loans or advances to the company in the aggregate amount...|      loans|loans|\n",
      "|Unless otherwise specified in this agreement, all references to currency, mon...|   currency|other|\n",
      "|The fiscal year for the School shall begin on July 1 and end on June 30 of th...|fiscal-year|other|\n",
      "|The Engineer warrants that engineering design work performed by the Engineer ...|  guarantee|other|\n",
      "+--------------------------------------------------------------------------------+-----------+-----+\n",
      "\n",
      "\n",
      "\n",
      "legclf_currency_clause download started this may take some time.\n",
      "[ | ]1g6ax7jxec82paqzk7ivz9fx7\n",
      "codes retrieved: ArrayBuffer(1g6ax7jxec82paqzk7ivz9fx7), product code(from property): 1g6ax7jxec82paqzk7ivz9fx7\n",
      "legclf_currency_clause download started this may take some time.\n",
      "Approximate size to download 21.7 MB\n",
      "Download done! Loading the resource.\n",
      "[OK!]\n",
      "1g6ax7jxec82paqzk7ivz9fx7\n",
      "codes retrieved: ArrayBuffer(1g6ax7jxec82paqzk7ivz9fx7), product code(from property): 1g6ax7jxec82paqzk7ivz9fx7\n",
      "<---legclf_currency_clause result--->\n",
      "+--------------------------------------------------------------------------------+-----------+--------+\n",
      "|                                                                        document|      label|   class|\n",
      "+--------------------------------------------------------------------------------+-----------+--------+\n",
      "|This agreement, or any term thereof, may be changed or waived only by written...| amendments|   other|\n",
      "|The sponsor has made loans or advances to the company in the aggregate amount...|      loans|   other|\n",
      "|Unless otherwise specified in this agreement, all references to currency, mon...|   currency|currency|\n",
      "|The fiscal year for the School shall begin on July 1 and end on June 30 of th...|fiscal-year|   other|\n",
      "|The Engineer warrants that engineering design work performed by the Engineer ...|  guarantee|   other|\n",
      "+--------------------------------------------------------------------------------+-----------+--------+\n",
      "\n",
      "\n",
      "\n",
      "legclf_fiscal_year_clause download started this may take some time.\n",
      "[ | ]1g6ax7jxec82paqzk7ivz9fx7\n",
      "codes retrieved: ArrayBuffer(1g6ax7jxec82paqzk7ivz9fx7), product code(from property): 1g6ax7jxec82paqzk7ivz9fx7\n",
      "legclf_fiscal_year_clause download started this may take some time.\n",
      "Approximate size to download 21.8 MB\n",
      "Download done! Loading the resource.\n",
      "[OK!]\n",
      "1g6ax7jxec82paqzk7ivz9fx7\n",
      "codes retrieved: ArrayBuffer(1g6ax7jxec82paqzk7ivz9fx7), product code(from property): 1g6ax7jxec82paqzk7ivz9fx7\n",
      "<---legclf_fiscal_year_clause result--->\n"
     ]
    },
    {
     "name": "stderr",
     "output_type": "stream",
     "text": [
      "                                                                                \r"
     ]
    },
    {
     "name": "stdout",
     "output_type": "stream",
     "text": [
      "+--------------------------------------------------------------------------------+-----------+-----------+\n",
      "|                                                                        document|      label|      class|\n",
      "+--------------------------------------------------------------------------------+-----------+-----------+\n",
      "|This agreement, or any term thereof, may be changed or waived only by written...| amendments|      other|\n",
      "|The sponsor has made loans or advances to the company in the aggregate amount...|      loans|      other|\n",
      "|Unless otherwise specified in this agreement, all references to currency, mon...|   currency|      other|\n",
      "|The fiscal year for the School shall begin on July 1 and end on June 30 of th...|fiscal-year|fiscal-year|\n",
      "|The Engineer warrants that engineering design work performed by the Engineer ...|  guarantee|      other|\n",
      "+--------------------------------------------------------------------------------+-----------+-----------+\n",
      "\n",
      "\n",
      "\n",
      "legclf_guarantee_clause download started this may take some time.\n",
      "[ | ]1g6ax7jxec82paqzk7ivz9fx7\n",
      "codes retrieved: ArrayBuffer(1g6ax7jxec82paqzk7ivz9fx7), product code(from property): 1g6ax7jxec82paqzk7ivz9fx7\n",
      "legclf_guarantee_clause download started this may take some time.\n",
      "Approximate size to download 21.8 MB\n",
      "Download done! Loading the resource.\n",
      "[OK!]\n",
      "1g6ax7jxec82paqzk7ivz9fx7\n",
      "codes retrieved: ArrayBuffer(1g6ax7jxec82paqzk7ivz9fx7), product code(from property): 1g6ax7jxec82paqzk7ivz9fx7\n",
      "<---legclf_guarantee_clause result--->\n",
      "+--------------------------------------------------------------------------------+-----------+---------+\n",
      "|                                                                        document|      label|    class|\n",
      "+--------------------------------------------------------------------------------+-----------+---------+\n",
      "|This agreement, or any term thereof, may be changed or waived only by written...| amendments|    other|\n",
      "|The sponsor has made loans or advances to the company in the aggregate amount...|      loans|    other|\n",
      "|Unless otherwise specified in this agreement, all references to currency, mon...|   currency|    other|\n",
      "|The fiscal year for the School shall begin on July 1 and end on June 30 of th...|fiscal-year|    other|\n",
      "|The Engineer warrants that engineering design work performed by the Engineer ...|  guarantee|guarantee|\n",
      "+--------------------------------------------------------------------------------+-----------+---------+\n",
      "\n",
      "\n",
      "\n"
     ]
    },
    {
     "name": "stderr",
     "output_type": "stream",
     "text": [
      "                                                                                \r"
     ]
    }
   ],
   "source": [
    "import pyspark.sql.functions as F\n",
    "\n",
    "for model_name in models:   \n",
    "    document_classifier = legal.ClassifierDLModel.pretrained(model_name, \"en\", \"legal/models\")\\\n",
    "        .setInputCols(['sentence_embeddings'])\\\n",
    "        .setOutputCol(\"class\")\n",
    "\n",
    "    clf_ipeline = nlp.Pipeline(stages=[\n",
    "         document_assembler, \n",
    "         embeddings,\n",
    "         document_classifier\n",
    "         ])\n",
    "\n",
    "    empty_df = spark.createDataFrame([['']]).toDF(\"text\")\n",
    "\n",
    "    model = clf_ipeline.fit(empty_df)\n",
    "\n",
    "    df = spark.createDataFrame(sample_texts, [\"text\", \"label\"])\n",
    "\n",
    "    result = model.transform(df)\n",
    "    \n",
    "    print(f\"<---{model_name} result--->\")\n",
    "    \n",
    "    result.select(\"label\", F.explode(F.arrays_zip('document.result', 'class.result')).alias(\"cols\"))\\\n",
    "          .select(F.expr(\"cols['0']\").alias(\"document\"),\n",
    "                  \"label\",\n",
    "                  F.expr(\"cols['1']\").alias(\"class\")).show(truncate=80)     \n",
    "    print(\"\\n\")"
   ]
  },
  {
   "cell_type": "markdown",
   "id": "86424365-b3b6-43c5-bfcf-72a73741e856",
   "metadata": {
    "id": "86424365-b3b6-43c5-bfcf-72a73741e856"
   },
   "source": [
    "## Get Multilabel Prediction from Legal Clauses"
   ]
  },
  {
   "cell_type": "markdown",
   "id": "77203c62-08b9-4810-9b09-27b62ce9b8f9",
   "metadata": {
    "id": "77203c62-08b9-4810-9b09-27b62ce9b8f9"
   },
   "source": [
    "This model analyses and provides the best class or classes given an input text. The model can be used to detect relevant clauses in a legal text."
   ]
  },
  {
   "cell_type": "markdown",
   "id": "4969a422-4f32-47cc-866e-a6e31844b778",
   "metadata": {
    "id": "4969a422-4f32-47cc-866e-a6e31844b778"
   },
   "source": [
    "### Prediction Pipeline"
   ]
  },
  {
   "cell_type": "code",
   "execution_count": 10,
   "id": "7753e14b-8195-4421-a6aa-741c226e40bf",
   "metadata": {
    "colab": {
     "base_uri": "https://localhost:8080/"
    },
    "executionInfo": {
     "elapsed": 68943,
     "status": "ok",
     "timestamp": 1664822595211,
     "user": {
      "displayName": "Damla",
      "userId": "03285166568766987047"
     },
     "user_tz": -120
    },
    "id": "7753e14b-8195-4421-a6aa-741c226e40bf",
    "outputId": "1022a67b-9f74-446d-d3ac-51733728a9cc"
   },
   "outputs": [
    {
     "name": "stdout",
     "output_type": "stream",
     "text": [
      "sent_bert_base_uncased_legal download started this may take some time.\n",
      "Approximate size to download 390.8 MB\n",
      "[OK!]\n",
      "legmulticlf_edgar download started this may take some time.\n",
      "Approximate size to download 13.3 MB\n",
      "[OK!]\n"
     ]
    }
   ],
   "source": [
    "document_assembeler = nlp.DocumentAssembler()\\\n",
    "  .setInputCol(\"text\")\\\n",
    "  .setOutputCol(\"document\")\\\n",
    "\n",
    "embeddings = nlp.BertSentenceEmbeddings.pretrained(\"sent_bert_base_uncased_legal\", \"en\")\\\n",
    "  .setInputCols(\"document\") \\\n",
    "  .setOutputCol(\"sentence_embeddings\")\n",
    "\n",
    "multiClassifier = nlp.MultiClassifierDLModel.pretrained(\"legmulticlf_edgar\", \"en\", \"legal/models\")\\\n",
    "  .setInputCols([\"sentence_embeddings\"])\\\n",
    "  .setOutputCol(\"class\")\n",
    "\n",
    "clf_pipeline = nlp.Pipeline(stages=[\n",
    "            document_assembeler, \n",
    "            embeddings,\n",
    "            multiClassifier\n",
    "            ])\n",
    "\n",
    "\n",
    "light_pipeline = nlp.LightPipeline(clf_pipeline.fit(spark.createDataFrame([['']]).toDF(\"text\")))"
   ]
  },
  {
   "cell_type": "markdown",
   "id": "5d86d5f7-4e96-46d4-ab9d-f60d51a83a8a",
   "metadata": {
    "id": "5d86d5f7-4e96-46d4-ab9d-f60d51a83a8a"
   },
   "source": [
    "### Get Prediction with LightPipeline"
   ]
  },
  {
   "cell_type": "markdown",
   "id": "bd87d7b5-769f-4f32-8b4b-c08e7b434de4",
   "metadata": {
    "id": "bd87d7b5-769f-4f32-8b4b-c08e7b434de4"
   },
   "source": [
    "In Multilabel Classification, we used uncased embeddings. So, we converted all tokens to lowercase"
   ]
  },
  {
   "cell_type": "code",
   "execution_count": 11,
   "id": "a0158c53-6654-42cb-b300-5e23d9fef973",
   "metadata": {
    "colab": {
     "base_uri": "https://localhost:8080/"
    },
    "executionInfo": {
     "elapsed": 7911,
     "status": "ok",
     "timestamp": 1664822603117,
     "user": {
      "displayName": "Damla",
      "userId": "03285166568766987047"
     },
     "user_tz": -120
    },
    "id": "a0158c53-6654-42cb-b300-5e23d9fef973",
    "outputId": "1ef10998-3c68-4b57-d0cd-8affaaac9b84"
   },
   "outputs": [
    {
     "data": {
      "text/plain": [
       "['waivers', 'amendments']"
      ]
     },
     "execution_count": 11,
     "metadata": {},
     "output_type": "execute_result"
    }
   ],
   "source": [
    "result = light_pipeline.annotate(\"\"\"No failure or delay by the Administrative Agent or any Lender in exercising any right or power hereunder shall operate as a waiver thereof, nor shall any single or partial exercise of any such right or power, or any abandonment or discontinuance of steps to enforce such a right or power, preclude any other or further exercise thereof or the exercise of any other right or power. The rights and remedies of the Administrative Agent and the Lenders hereunder are cumulative and are not exclusive of any rights or remedies that they would otherwise have. No waiver of any provision of this Agreement or consent to any departure by the Borrower therefrom shall in any event be effective unless the same shall be permitted by paragraph (b) of this Section, and then such waiver or consent shall be effective only in the specific instance and for the purpose for which given. Without limiting the generality of the foregoing, the making of a Loan shall not be construed as a waiver of any Default, regardless of whether the Administrative Agent or any Lender may have had notice or knowledge of such Default at the time.\"\"\")\n",
    "\n",
    "result[\"class\"]"
   ]
  },
  {
   "cell_type": "code",
   "execution_count": 12,
   "id": "190200a4-885e-4d11-8826-fe8267d203d1",
   "metadata": {
    "colab": {
     "base_uri": "https://localhost:8080/"
    },
    "executionInfo": {
     "elapsed": 11,
     "status": "ok",
     "timestamp": 1664822603118,
     "user": {
      "displayName": "Damla",
      "userId": "03285166568766987047"
     },
     "user_tz": -120
    },
    "id": "190200a4-885e-4d11-8826-fe8267d203d1",
    "outputId": "9e146514-1550-43fe-f8ea-7b4f3b0f0365"
   },
   "outputs": [
    {
     "data": {
      "text/plain": [
       "['successors', 'assigns']"
      ]
     },
     "execution_count": 12,
     "metadata": {},
     "output_type": "execute_result"
    }
   ],
   "source": [
    "result = light_pipeline.annotate(\"\"\"The provisions of this Agreement shall be binding upon and inure to the benefit of the parties hereto and their respective successors and assigns permitted hereby (including any Affiliate of the Issuing Bank that issues any Letter of Credit), except that (i) the Borrower may not assign or otherwise transfer any of its rights or obligations hereunder without the prior written consent of each Lender (and any attempted assignment or transfer by the Borrower without such consent shall be null and void) and (ii) no Lender may assign or otherwise transfer its rights or obligations hereunder except in accordance with this Section. Nothing in this Agreement, expressed or implied, shall be construed to confer upon any Person (other than the parties hereto, their respective successors and assigns permitted hereby (including any Affiliate of the Issuing Bank that issues any Letter of Credit), Participants (to the extent provided in paragraph (c) of this Section) and, to the extent expressly contemplated hereby, the Related Parties of each of the Administrative Agent, the Issuing Bank and the Lenders) any legal or equitable right, remedy or claim under or by reason of this Agreement.\"\"\")\n",
    "\n",
    "result[\"class\"]"
   ]
  },
  {
   "cell_type": "code",
   "execution_count": 13,
   "id": "7e83c8f8-85a9-46f2-a36e-f19a5c88f3ea",
   "metadata": {
    "colab": {
     "base_uri": "https://localhost:8080/"
    },
    "executionInfo": {
     "elapsed": 1127,
     "status": "ok",
     "timestamp": 1664822604239,
     "user": {
      "displayName": "Damla",
      "userId": "03285166568766987047"
     },
     "user_tz": -120
    },
    "id": "7e83c8f8-85a9-46f2-a36e-f19a5c88f3ea",
    "outputId": "2ab1b2b0-8741-4739-8ede-68f006167cd6"
   },
   "outputs": [
    {
     "data": {
      "text/plain": [
       "['warranties', 'representations']"
      ]
     },
     "execution_count": 13,
     "metadata": {},
     "output_type": "execute_result"
    }
   ],
   "source": [
    "result = light_pipeline.annotate(\"\"\"After the effectiveness of this Amendment, the representations and warranties of the Borrower set forth in the Credit Agreement and in the other Loan Documents are true and correct in all material respects on and as of the date hereof, with the same force and effect as if made on and as of such date, except to the extent that such representations and warranties (i) specifically refer to an earlier date, in which case they shall be true and correct in all material respects as of such earlier date (except to the extent of changes in facts or circumstances that have been disclosed to the Lenders and do not constitute an Event of Default or a Potential Default under the Credit Agreement or any other Loan Document), and (ii) are already qualified by materiality, in which case they shall be true and correct in all respects, and except that for purposes of this Section 4.1 , the representations and warranties contained in Section 7.6 of the Credit Agreement shall be deemed to refer to the most recent financial statements furnished pursuant to Section 8.1(a) of the Credit Agreement.\"\"\".lower())\n",
    "\n",
    "result[\"class\"]"
   ]
  },
  {
   "cell_type": "code",
   "execution_count": 14,
   "id": "8d54a3ba-f4d6-455f-aaba-4b31eab6a8a4",
   "metadata": {
    "colab": {
     "base_uri": "https://localhost:8080/"
    },
    "executionInfo": {
     "elapsed": 7,
     "status": "ok",
     "timestamp": 1664822604240,
     "user": {
      "displayName": "Damla",
      "userId": "03285166568766987047"
     },
     "user_tz": -120
    },
    "id": "8d54a3ba-f4d6-455f-aaba-4b31eab6a8a4",
    "outputId": "54f1d5a0-9c87-41f5-c01d-0ca83fcd6d8e"
   },
   "outputs": [
    {
     "data": {
      "text/plain": [
       "['notices']"
      ]
     },
     "execution_count": 14,
     "metadata": {},
     "output_type": "execute_result"
    }
   ],
   "source": [
    "result = light_pipeline.annotate(\"\"\"All notices and other communications provided for in this Agreement and the other Loan Documents shall be in writing and may (subject to paragraph (b) below) be telecopied (faxed), mailed by certified mail return receipt requested, or delivered by hand or overnight courier service to the intended recipient at the addresses specified below or at such other address as shall be designated by any party listed below in a notice to the other parties listed below given in accordance with this Section.\"\"\".lower())\n",
    "\n",
    "result[\"class\"]"
   ]
  },
  {
   "cell_type": "code",
   "execution_count": null,
   "id": "ad736f41-2bd1-4f2e-8da8-f3536d69d293",
   "metadata": {},
   "outputs": [],
   "source": []
  }
 ],
 "metadata": {
  "accelerator": "GPU",
  "colab": {
   "collapsed_sections": [],
   "machine_shape": "hm",
   "provenance": []
  },
  "kernelspec": {
   "display_name": "jsl4.2.3",
   "language": "python",
   "name": "jsl4.2.3"
  },
  "language_info": {
   "codemirror_mode": {
    "name": "ipython",
    "version": 3
   },
   "file_extension": ".py",
   "mimetype": "text/x-python",
   "name": "python",
   "nbconvert_exporter": "python",
   "pygments_lexer": "ipython3",
   "version": "3.8.10"
  }
 },
 "nbformat": 4,
 "nbformat_minor": 5
}

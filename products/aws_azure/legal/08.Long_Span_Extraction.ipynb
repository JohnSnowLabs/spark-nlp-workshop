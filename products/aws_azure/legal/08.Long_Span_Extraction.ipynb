{
 "cells": [
  {
   "cell_type": "markdown",
   "id": "db5f4f9a-7776-42b3-8758-85624d4c15ea",
   "metadata": {
    "id": "db5f4f9a-7776-42b3-8758-85624d4c15ea"
   },
   "source": [
    "![JohnSnowLabs](https://nlp.johnsnowlabs.com/assets/images/logo.png)"
   ]
  },
  {
   "cell_type": "markdown",
   "id": "9859b3bc-cec4-4189-88ed-37add5484623",
   "metadata": {
    "id": "9859b3bc-cec4-4189-88ed-37add5484623"
   },
   "source": [
    "# Legal Long Span Extraction"
   ]
  },
  {
   "cell_type": "markdown",
   "id": "3ce47318-a5cd-4ee8-ac53-763548533d7a",
   "metadata": {
    "id": "okhT7AcXxben"
   },
   "source": [
    "## Setup"
   ]
  },
  {
   "cell_type": "code",
   "execution_count": null,
   "id": "b71b4f6e-95cd-4fc1-9d36-bd79641f76a1",
   "metadata": {
    "colab": {
     "base_uri": "https://localhost:8080/"
    },
    "executionInfo": {
     "elapsed": 115199,
     "status": "ok",
     "timestamp": 1664816113389,
     "user": {
      "displayName": "Damla",
      "userId": "03285166568766987047"
     },
     "user_tz": -120
    },
    "id": "dmcB5zVBHZO8",
    "outputId": "cd366e47-7f4d-457a-dfe5-3ed5174d4a0c"
   },
   "outputs": [],
   "source": [
    "from johnsnowlabs import *\n",
    "\n",
    "import json\n",
    "import os\n",
    "import pandas as pd\n",
    "\n",
    "spark = start_spark()"
   ]
  },
  {
   "cell_type": "markdown",
   "id": "37bb8ae4",
   "metadata": {
    "id": "37bb8ae4"
   },
   "source": [
    "# NER, Question Generation and Question Answering for Long-Span extraction"
   ]
  },
  {
   "cell_type": "markdown",
   "id": "43420eee-1c29-4148-b1c8-fa7884eff9b3",
   "metadata": {
    "id": "43420eee-1c29-4148-b1c8-fa7884eff9b3"
   },
   "source": [
    "Legal documents are known to be very long. Although you can divide the docuuments into paragraphs or sections, and those into sentences, the resulted sentences are still long.\n",
    "\n",
    "Let's take a look at this example:\n",
    "\n",
    "`Buyer shall use such materials and supplies only in accordance with the present agreement`\n",
    "\n",
    "Not, let's imagine we want to extract three entities:\n",
    "1) The Subject (`Buyer`)\n",
    "2) The Action (`shall use`)\n",
    "3) The Object (what the Buyer shall use? - `such materials and supplies only in accordance with the present agreement`)\n",
    "\n",
    "Although Subject and Action can be totally manageable by traditional NER, it usually struggles the longer the spans are. Trying to model the extraction of Object with a simple NER may result in word fading, when some of the initial or ending words fade into `O`.\n",
    "\n",
    "We present in this notebook a solution for Long Span Extraction: Using an Automatic Question Generator and a Question Answering model to:\n",
    "1) First, using NER, detect entities as the `Subject` and the `Action`. \n",
    "\n",
    "Example: `Buyer - SUBJECT`, `shall use - OBJECT`\n",
    "\n",
    "2) Automatically generate a question to ask for the `Object`, using `Subject` and `Action`;\n",
    "\n",
    "Example: `What shall the Buyer use?`\n",
    "\n",
    "3) Use the question and the sentence to retrieve `Object`, without the limitations of traditional NER;\n",
    "\n",
    "Example: `What shall the Buyer use? such materials and supplies only in accordance with the present agreement`\n",
    "\n",
    "Last, but not least, it's very important to chose a domain-specific Question Answering model.\n"
   ]
  },
  {
   "cell_type": "markdown",
   "id": "03c6cb7d-b34f-4974-b63b-c04640f6a668",
   "metadata": {
    "id": "03c6cb7d-b34f-4974-b63b-c04640f6a668"
   },
   "source": [
    "# Answering the question - `What?`\n",
    "Let's suppose we have the sentence of the example:\n",
    "\n",
    "`The Buyer shall use such materials and supplies only in accordance with the present agreement`\n",
    "\n",
    "In Spark NLP for Legal, we have a trained NER model which is able to extract Subjects (`Buyer`) and Actions (`shall use`) of agreements / obligations with good accuracy.\n",
    "\n",
    "It's also trained for extracting the `Object` using NER, but it's usage is limited due to the restrictions commented above.\n",
    "\n",
    "Let's get SUBJECT and ACTION and automatically create a question with them."
   ]
  },
  {
   "cell_type": "code",
   "execution_count": 2,
   "id": "b342ab82",
   "metadata": {
    "executionInfo": {
     "elapsed": 4,
     "status": "ok",
     "timestamp": 1664823036501,
     "user": {
      "displayName": "Damla",
      "userId": "03285166568766987047"
     },
     "user_tz": -120
    },
    "id": "b342ab82"
   },
   "outputs": [],
   "source": [
    "text = \"\"\"The Buyer shall use such materials and supplies only in accordance with the present agreement\"\"\""
   ]
  },
  {
   "cell_type": "code",
   "execution_count": null,
   "id": "2948d346-d522-43b9-9cd7-99430882621f",
   "metadata": {
    "colab": {
     "base_uri": "https://localhost:8080/"
    },
    "executionInfo": {
     "elapsed": 127265,
     "status": "ok",
     "timestamp": 1664823163762,
     "user": {
      "displayName": "Damla",
      "userId": "03285166568766987047"
     },
     "user_tz": -120
    },
    "id": "2948d346-d522-43b9-9cd7-99430882621f",
    "outputId": "4579d84a-2864-43e2-e5d7-089a87d26aa1"
   },
   "outputs": [],
   "source": [
    "\n",
    "document_assembler = nlp.DocumentAssembler()\\\n",
    "    .setInputCol(\"text\")\\\n",
    "    .setOutputCol(\"document\")\n",
    "\n",
    "tokenizer = nlp.Tokenizer()\\\n",
    "    .setInputCols(\"document\")\\\n",
    "    .setOutputCol(\"token\")\n",
    "\n",
    "tokenClassifier = legal.BertForTokenClassification.pretrained(\"legner_obligations\", \"en\", \"legal/models\")\\\n",
    "    .setInputCols(\"token\", \"document\")\\\n",
    "    .setOutputCol(\"label\")\\\n",
    "    .setCaseSensitive(True)\n",
    "\n",
    "ner_converter = nlp.NerConverter()\\\n",
    "    .setInputCols([\"document\", \"token\", \"label\"])\\\n",
    "    .setOutputCol(\"ner_chunk\")\n",
    "\n",
    "# setEntities1 says which entity from NER goes first in the question\n",
    "# setEntities2 says which entity from NER goes second in the question\n",
    "# setQuestionMark to True adds a '?' at the end of the sentence (after entity 2)\n",
    "# To sum up, the pattern is     [QUESTIONPRONOUN] [ENTITY1] [ENTITY2] [QUESTIONMARK]\n",
    "qa_generator = legal.NerQuestionGenerator()\\\n",
    "    .setInputCols([\"ner_chunk\"])\\\n",
    "    .setOutputCol(\"question\")\\\n",
    "    .setQuestionMark(False)\\\n",
    "    .setQuestionPronoun(\"What\")\\\n",
    "    .setEntities1([\"OBLIGATION_SUBJECT\"])\\\n",
    "    .setEntities2([\"OBLIGATION_ACTION\"])\n",
    "\n",
    "qa =nlp.BertForQuestionAnswering.pretrained(\"legqa_bert_large\",\"en\", \"legal/models\") \\\n",
    "    .setInputCols([\"question\", \"document\"]) \\\n",
    "    .setOutputCol(\"answer\") \\\n",
    "    .setCaseSensitive(True)\n",
    "\n",
    "pipeline = nlp.Pipeline(stages=[\n",
    "    document_assembler,\n",
    "    tokenizer,\n",
    "    tokenClassifier,\n",
    "    ner_converter,\n",
    "    qa_generator,\n",
    "    qa\n",
    "])\n",
    "\n",
    "p_model = pipeline.fit(spark.createDataFrame(pd.DataFrame({'text': ['']})))\n",
    "\n",
    "res = p_model.transform(spark.createDataFrame([[text]]).toDF(\"text\"))"
   ]
  },
  {
   "cell_type": "code",
   "execution_count": 4,
   "id": "183fb2db-1cee-4f78-a486-dd6c9f6abd57",
   "metadata": {
    "colab": {
     "base_uri": "https://localhost:8080/"
    },
    "executionInfo": {
     "elapsed": 14853,
     "status": "ok",
     "timestamp": 1664823178607,
     "user": {
      "displayName": "Damla",
      "userId": "03285166568766987047"
     },
     "user_tz": -120
    },
    "id": "183fb2db-1cee-4f78-a486-dd6c9f6abd57",
    "outputId": "fb7ea265-bfb3-4b2b-e8b3-60b8266c3689"
   },
   "outputs": [
    {
     "name": "stderr",
     "output_type": "stream",
     "text": [
      "[Stage 9:=======================================>                   (2 + 1) / 3]\r"
     ]
    },
    {
     "name": "stdout",
     "output_type": "stream",
     "text": [
      "+-----------------------+\n",
      "|result                 |\n",
      "+-----------------------+\n",
      "|[What Buyer shall use ]|\n",
      "+-----------------------+\n",
      "\n"
     ]
    },
    {
     "name": "stderr",
     "output_type": "stream",
     "text": [
      "                                                                                \r"
     ]
    }
   ],
   "source": [
    "res.select('question.result').show(truncate=False)"
   ]
  },
  {
   "cell_type": "code",
   "execution_count": 5,
   "id": "5422560c-718e-4606-9054-678371f539b3",
   "metadata": {
    "colab": {
     "base_uri": "https://localhost:8080/"
    },
    "executionInfo": {
     "elapsed": 2008,
     "status": "ok",
     "timestamp": 1664823180612,
     "user": {
      "displayName": "Damla",
      "userId": "03285166568766987047"
     },
     "user_tz": -120
    },
    "id": "5422560c-718e-4606-9054-678371f539b3",
    "outputId": "f3e259e4-bee5-4eb9-b217-81df7fdec9bb"
   },
   "outputs": [
    {
     "name": "stdout",
     "output_type": "stream",
     "text": [
      "+-------------------------------------------------+\n",
      "|result                                           |\n",
      "+-------------------------------------------------+\n",
      "|[The Buyer shall use such materials and supplies]|\n",
      "+-------------------------------------------------+\n",
      "\n"
     ]
    }
   ],
   "source": [
    "res.select('answer.result').show(truncate=False)"
   ]
  },
  {
   "cell_type": "markdown",
   "id": "a85caa4b",
   "metadata": {
    "id": "a85caa4b"
   },
   "source": [
    "**Let's get 4 additional examples**"
   ]
  },
  {
   "cell_type": "code",
   "execution_count": 6,
   "id": "49ee5ee7-208c-463e-9e04-0af46b69dd0e",
   "metadata": {
    "colab": {
     "base_uri": "https://localhost:8080/",
     "height": 170
    },
    "executionInfo": {
     "elapsed": 9,
     "status": "ok",
     "timestamp": 1664823180613,
     "user": {
      "displayName": "Damla",
      "userId": "03285166568766987047"
     },
     "user_tz": -120
    },
    "id": "49ee5ee7-208c-463e-9e04-0af46b69dd0e",
    "outputId": "eff4d015-19e3-4bd1-ce70-2786b7a725b4"
   },
   "outputs": [
    {
     "data": {
      "text/html": [
       "<div>\n",
       "<style scoped>\n",
       "    .dataframe tbody tr th:only-of-type {\n",
       "        vertical-align: middle;\n",
       "    }\n",
       "\n",
       "    .dataframe tbody tr th {\n",
       "        vertical-align: top;\n",
       "    }\n",
       "\n",
       "    .dataframe thead th {\n",
       "        text-align: right;\n",
       "    }\n",
       "</style>\n",
       "<table border=\"1\" class=\"dataframe\">\n",
       "  <thead>\n",
       "    <tr style=\"text-align: right;\">\n",
       "      <th></th>\n",
       "      <th>text</th>\n",
       "    </tr>\n",
       "  </thead>\n",
       "  <tbody>\n",
       "    <tr>\n",
       "      <th>0</th>\n",
       "      <td>The Buyer shall use such materials and supplie...</td>\n",
       "    </tr>\n",
       "    <tr>\n",
       "      <th>1</th>\n",
       "      <td>The Provider will notify the Buyer about the r...</td>\n",
       "    </tr>\n",
       "    <tr>\n",
       "      <th>2</th>\n",
       "      <td>Amazon agrees to supply 1-year license without...</td>\n",
       "    </tr>\n",
       "    <tr>\n",
       "      <th>3</th>\n",
       "      <td>The Supplier should ship the product in less t...</td>\n",
       "    </tr>\n",
       "  </tbody>\n",
       "</table>\n",
       "</div>"
      ],
      "text/plain": [
       "                                                text\n",
       "0  The Buyer shall use such materials and supplie...\n",
       "1  The Provider will notify the Buyer about the r...\n",
       "2  Amazon agrees to supply 1-year license without...\n",
       "3  The Supplier should ship the product in less t..."
      ]
     },
     "execution_count": 6,
     "metadata": {},
     "output_type": "execute_result"
    }
   ],
   "source": [
    "texts = [\n",
    "    \"\"\"The Buyer shall use such materials and supplies only in accordance with the present agreement\"\"\",\n",
    "    \"\"\"The Provider will notify the Buyer about the release date\"\"\",\n",
    "    \"\"\"Amazon agrees to supply 1-year license without fees\"\"\",\n",
    "    \"\"\"The Supplier should ship the product in less than 1 month\"\"\"\n",
    "]\n",
    "\n",
    "pdf = pd.DataFrame(texts, columns = [\"text\"])\n",
    "pdf"
   ]
  },
  {
   "cell_type": "code",
   "execution_count": 7,
   "id": "bac0a5ed-2e38-417d-ad65-57bf9da463bd",
   "metadata": {
    "executionInfo": {
     "elapsed": 6,
     "status": "ok",
     "timestamp": 1664823180613,
     "user": {
      "displayName": "Damla",
      "userId": "03285166568766987047"
     },
     "user_tz": -120
    },
    "id": "bac0a5ed-2e38-417d-ad65-57bf9da463bd"
   },
   "outputs": [],
   "source": [
    "df = spark.createDataFrame(pdf)"
   ]
  },
  {
   "cell_type": "code",
   "execution_count": null,
   "id": "7dc2e5e5-29a7-48a6-a7cb-1c8d4fb3feb0",
   "metadata": {
    "executionInfo": {
     "elapsed": 752,
     "status": "ok",
     "timestamp": 1664823181360,
     "user": {
      "displayName": "Damla",
      "userId": "03285166568766987047"
     },
     "user_tz": -120
    },
    "id": "7dc2e5e5-29a7-48a6-a7cb-1c8d4fb3feb0"
   },
   "outputs": [],
   "source": [
    "res = p_model.transform(df)"
   ]
  },
  {
   "cell_type": "code",
   "execution_count": 9,
   "id": "1351eaac-a74a-47e5-9079-44c26abc480d",
   "metadata": {
    "colab": {
     "base_uri": "https://localhost:8080/"
    },
    "executionInfo": {
     "elapsed": 4905,
     "status": "ok",
     "timestamp": 1664823186262,
     "user": {
      "displayName": "Damla",
      "userId": "03285166568766987047"
     },
     "user_tz": -120
    },
    "id": "1351eaac-a74a-47e5-9079-44c26abc480d",
    "outputId": "8bfdc3bb-9827-4b39-8d12-05f56fb09235"
   },
   "outputs": [
    {
     "name": "stdout",
     "output_type": "stream",
     "text": [
      "+-------------------------------+-----------------------------------------------------------+\n",
      "|result                         |result                                                     |\n",
      "+-------------------------------+-----------------------------------------------------------+\n",
      "|[What Buyer shall use ]        |[The Buyer shall use such materials and supplies]          |\n",
      "|[What Provider will notify ]   |[The Provider will notify the Buyer about the release date]|\n",
      "|[What Amazon agrees to supply ]|[1 - year license without fees]                            |\n",
      "|[What Supplier should ship ]   |[The Supplier should ship the product in less than 1 month]|\n",
      "+-------------------------------+-----------------------------------------------------------+\n",
      "\n"
     ]
    }
   ],
   "source": [
    "res.select('question.result', 'answer.result').show(truncate=False)"
   ]
  },
  {
   "cell_type": "markdown",
   "id": "bbabd12e-619b-480c-8821-6f504ab9a34b",
   "metadata": {
    "id": "bbabd12e-619b-480c-8821-6f504ab9a34b"
   },
   "source": [
    "# Answering the question - `To whom?`"
   ]
  },
  {
   "cell_type": "markdown",
   "id": "ec574a03",
   "metadata": {
    "id": "ec574a03"
   },
   "source": [
    "Let's try to get now the Indirect Object. That is, the recipient of an action. For example, to whom a supplier should send a shipment."
   ]
  },
  {
   "cell_type": "code",
   "execution_count": 10,
   "id": "f8bfbdeb-2c00-4aa6-bcea-7f46c90cd7ce",
   "metadata": {
    "executionInfo": {
     "elapsed": 879,
     "status": "ok",
     "timestamp": 1664823187136,
     "user": {
      "displayName": "Damla",
      "userId": "03285166568766987047"
     },
     "user_tz": -120
    },
    "id": "f8bfbdeb-2c00-4aa6-bcea-7f46c90cd7ce"
   },
   "outputs": [
    {
     "name": "stdout",
     "output_type": "stream",
     "text": [
      "1g6ax7jxec82paqzk7ivz9fx7\n",
      "codes retrieved: ArrayBuffer(1g6ax7jxec82paqzk7ivz9fx7), product code(from property): 1g6ax7jxec82paqzk7ivz9fx7\n",
      "1g6ax7jxec82paqzk7ivz9fx7\n",
      "codes retrieved: ArrayBuffer(1g6ax7jxec82paqzk7ivz9fx7), product code(from property): 1g6ax7jxec82paqzk7ivz9fx7\n",
      "1g6ax7jxec82paqzk7ivz9fx7\n",
      "codes retrieved: ArrayBuffer(1g6ax7jxec82paqzk7ivz9fx7), product code(from property): 1g6ax7jxec82paqzk7ivz9fx7\n"
     ]
    }
   ],
   "source": [
    "qagenerator = legal.NerQuestionGenerator()\\\n",
    "    .setInputCols([\"ner_chunk\"])\\\n",
    "    .setOutputCol(\"question\")\\\n",
    "    .setQuestionMark(False)\\\n",
    "    .setQuestionPronoun(\"To whom\")\\\n",
    "    .setEntities1([\"OBLIGATION_ACTION\"])\\\n",
    "    .setEntities2([\"OBLIGATION_SUBJECT\"])\n",
    "  \n",
    "pipeline =  nlp.Pipeline(stages=[\n",
    "    document_assembler,\n",
    "    tokenizer,\n",
    "    tokenClassifier,\n",
    "    ner_converter,\n",
    "    qa_generator,\n",
    "    qa\n",
    "    ])\n",
    "\n",
    "p_model = pipeline.fit(spark.createDataFrame(pd.DataFrame({'text': ['']})))\n",
    "\n",
    "text = \"\"\"The Provider shall send the shipment to the Buyer\"\"\"\n",
    "\n",
    "res = p_model.transform(spark.createDataFrame([[text]]).toDF(\"text\"))"
   ]
  },
  {
   "cell_type": "code",
   "execution_count": 11,
   "id": "7b730864-df23-47ff-9e4e-e4dcd123fdba",
   "metadata": {
    "colab": {
     "base_uri": "https://localhost:8080/"
    },
    "executionInfo": {
     "elapsed": 1866,
     "status": "ok",
     "timestamp": 1664823188997,
     "user": {
      "displayName": "Damla",
      "userId": "03285166568766987047"
     },
     "user_tz": -120
    },
    "id": "7b730864-df23-47ff-9e4e-e4dcd123fdba",
    "outputId": "11ffa3cf-7fbf-4fbd-d966-3e9925539474"
   },
   "outputs": [
    {
     "name": "stdout",
     "output_type": "stream",
     "text": [
      "+-------------------------------------------------+---------------------------+---------------------------------------------------+\n",
      "|text                                             |result                     |result                                             |\n",
      "+-------------------------------------------------+---------------------------+---------------------------------------------------+\n",
      "|The Provider shall send the shipment to the Buyer|[What Provider shall send ]|[The Provider shall send the shipment to the Buyer]|\n",
      "+-------------------------------------------------+---------------------------+---------------------------------------------------+\n",
      "\n"
     ]
    }
   ],
   "source": [
    "res.select('text', 'question.result', 'answer.result').show(truncate=False)"
   ]
  },
  {
   "cell_type": "markdown",
   "id": "6ef6a289-ef6f-45db-bbe7-caa4f8666bd5",
   "metadata": {
    "id": "6ef6a289-ef6f-45db-bbe7-caa4f8666bd5"
   },
   "source": [
    "# Other clauses\n",
    "This approach works very well also with other clauses and phrases, as temporal ones. Let's try to ask for the deadline of a contract"
   ]
  },
  {
   "cell_type": "code",
   "execution_count": null,
   "id": "ca38094c-52df-445e-9e18-087c85b0a2ee",
   "metadata": {
    "executionInfo": {
     "elapsed": 952,
     "status": "ok",
     "timestamp": 1664823189942,
     "user": {
      "displayName": "Damla",
      "userId": "03285166568766987047"
     },
     "user_tz": -120
    },
    "id": "ca38094c-52df-445e-9e18-087c85b0a2ee"
   },
   "outputs": [],
   "source": [
    "qagenerator = legal.NerQuestionGenerator()\\\n",
    "    .setInputCols([\"ner_chunk\"])\\\n",
    "    .setOutputCol(\"question\")\\\n",
    "    .setQuestionMark(False)\\\n",
    "    .setQuestionPronoun(\"Before when\")\\\n",
    "    .setEntities1([\"OBLIGATION_ACTION\"])\\\n",
    "    .setEntities2([\"OBLIGATION_SUBJECT\"])\n",
    "  \n",
    "pipeline = nlp.Pipeline(stages=[\n",
    "    document_assembler,\n",
    "    tokenizer,\n",
    "    tokenClassifier,\n",
    "    ner_converter,\n",
    "    qa_generator,\n",
    "    qa\n",
    "])\n",
    "\n",
    "p_model = pipeline.fit(spark.createDataFrame(pd.DataFrame({'text': ['']})))\n",
    "\n",
    "text = \"\"\"The customer should sign the contract before May, 2023\"\"\"\n",
    "\n",
    "res = p_model.transform(spark.createDataFrame([[text]]).toDF(\"text\"))"
   ]
  },
  {
   "cell_type": "code",
   "execution_count": 15,
   "id": "46c831a5-43f6-4511-86fa-76a076fee510",
   "metadata": {
    "colab": {
     "base_uri": "https://localhost:8080/"
    },
    "executionInfo": {
     "elapsed": 1853,
     "status": "ok",
     "timestamp": 1664823191788,
     "user": {
      "displayName": "Damla",
      "userId": "03285166568766987047"
     },
     "user_tz": -120
    },
    "id": "46c831a5-43f6-4511-86fa-76a076fee510",
    "outputId": "a22ea0f2-7b3b-4139-b519-3d5c5f24912f"
   },
   "outputs": [
    {
     "name": "stdout",
     "output_type": "stream",
     "text": [
      "+------------------------------------------------------+----------------------------+-------------------+\n",
      "|text                                                  |result                      |result             |\n",
      "+------------------------------------------------------+----------------------------+-------------------+\n",
      "|The customer should sign the contract before May, 2023|[What customer should sign ]|[before May , 2023]|\n",
      "+------------------------------------------------------+----------------------------+-------------------+\n",
      "\n"
     ]
    }
   ],
   "source": [
    "res.select('text', 'question.result', 'answer.result').show(truncate=False)"
   ]
  },
  {
   "cell_type": "code",
   "execution_count": null,
   "id": "f6c60970-9f5a-4422-b48f-3049adf1bbae",
   "metadata": {},
   "outputs": [],
   "source": []
  }
 ],
 "metadata": {
  "colab": {
   "collapsed_sections": [],
   "provenance": [],
   "toc_visible": true
  },
  "kernelspec": {
   "display_name": "jsl4.2.3",
   "language": "python",
   "name": "jsl4.2.3"
  },
  "language_info": {
   "codemirror_mode": {
    "name": "ipython",
    "version": 3
   },
   "file_extension": ".py",
   "mimetype": "text/x-python",
   "name": "python",
   "nbconvert_exporter": "python",
   "pygments_lexer": "ipython3",
   "version": "3.8.10"
  },
  "vscode": {
   "interpreter": {
    "hash": "ca1c4b8877e01dec1d65bc94ac0771fb7b4e7d433b24c0ced0afdc05f796f65d"
   }
  }
 },
 "nbformat": 4,
 "nbformat_minor": 5
}

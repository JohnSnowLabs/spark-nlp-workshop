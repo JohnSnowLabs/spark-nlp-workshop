{
 "cells": [
  {
   "attachments": {},
   "cell_type": "markdown",
   "id": "wxZDXLDCXkk_",
   "metadata": {
    "id": "wxZDXLDCXkk_"
   },
   "source": [
    "\n",
    "![JohnSnowLabs](https://nlp.johnsnowlabs.com/assets/images/logo.png)\n",
    "\n",
    "\n",
    "\n"
   ]
  },
  {
   "attachments": {},
   "cell_type": "markdown",
   "id": "KLqW6FOnEvov",
   "metadata": {
    "id": "KLqW6FOnEvov"
   },
   "source": [
    "# Train Legal Classifiers"
   ]
  },
  {
   "attachments": {},
   "cell_type": "markdown",
   "id": "04bb68ca-4139-4d06-b106-cecd73cd76ca",
   "metadata": {
    "id": "okhT7AcXxben"
   },
   "source": [
    "## Setup"
   ]
  },
  {
   "cell_type": "code",
   "execution_count": null,
   "id": "d265ff73-d2b8-4067-b4bb-fec18c734288",
   "metadata": {
    "colab": {
     "base_uri": "https://localhost:8080/"
    },
    "executionInfo": {
     "elapsed": 115199,
     "status": "ok",
     "timestamp": 1664816113389,
     "user": {
      "displayName": "Damla",
      "userId": "03285166568766987047"
     },
     "user_tz": -120
    },
    "id": "dmcB5zVBHZO8",
    "outputId": "cd366e47-7f4d-457a-dfe5-3ed5174d4a0c"
   },
   "outputs": [],
   "source": [
    "from johnsnowlabs import *\n",
    "\n",
    "import json\n",
    "import os\n",
    "import numpy as np\n",
    "import pandas as pd\n",
    "\n",
    "spark = start_spark()"
   ]
  },
  {
   "attachments": {},
   "cell_type": "markdown",
   "id": "MulDEC2j4ly3",
   "metadata": {
    "id": "MulDEC2j4ly3"
   },
   "source": [
    "# Multilabel classifier training"
   ]
  },
  {
   "attachments": {},
   "cell_type": "markdown",
   "id": "BhKlxMBWH9-Z",
   "metadata": {
    "id": "BhKlxMBWH9-Z"
   },
   "source": [
    "## Loading the data"
   ]
  },
  {
   "cell_type": "code",
   "execution_count": null,
   "id": "2Ab4pyK6MyCZ",
   "metadata": {
    "id": "2Ab4pyK6MyCZ"
   },
   "outputs": [],
   "source": [
    "! wget -q https://raw.githubusercontent.com/JohnSnowLabs/spark-nlp-workshop/master/legal-nlp/data/finance_data.csv"
   ]
  },
  {
   "cell_type": "code",
   "execution_count": null,
   "id": "gaRulasEKZK3",
   "metadata": {
    "id": "gaRulasEKZK3"
   },
   "outputs": [],
   "source": [
    "df = pd.read_csv('./finance_data.csv')\n",
    "df['label'] = df['label'].apply(eval)"
   ]
  },
  {
   "cell_type": "code",
   "execution_count": null,
   "id": "bUFO8usqKt2Z",
   "metadata": {
    "id": "bUFO8usqKt2Z"
   },
   "outputs": [],
   "source": [
    "data = spark.createDataFrame(df)\n",
    "\n",
    "# If you have a single dataset, then split it or else you can load the test dataset the same way that you load the train data.\n",
    "train, test = data.randomSplit([0.8, 0.2], seed = 123)"
   ]
  },
  {
   "cell_type": "code",
   "execution_count": null,
   "id": "bowhz89ZbN1C",
   "metadata": {
    "colab": {
     "base_uri": "https://localhost:8080/"
    },
    "id": "bowhz89ZbN1C",
    "outputId": "ca5e4b7b-b247-479a-b019-f5e97bd5c159"
   },
   "outputs": [],
   "source": [
    "train.show(truncate=50)"
   ]
  },
  {
   "cell_type": "code",
   "execution_count": null,
   "id": "43f52d23-d0e0-4166-9bad-c1ff343b5272",
   "metadata": {},
   "outputs": [],
   "source": [
    "from pyspark.sql.functions import col\n",
    "\n",
    "train.groupBy(\"label\") \\\n",
    "    .count() \\\n",
    "    .orderBy(col(\"count\").desc()) \\\n",
    "    .show()"
   ]
  },
  {
   "cell_type": "code",
   "execution_count": null,
   "id": "RZ0xy9hpebLe",
   "metadata": {
    "colab": {
     "base_uri": "https://localhost:8080/"
    },
    "id": "RZ0xy9hpebLe",
    "outputId": "0172665b-711f-4e0e-eae9-b78695dc3b8b"
   },
   "outputs": [],
   "source": [
    "test.groupBy(\"label\") \\\n",
    "    .count() \\\n",
    "    .orderBy(col(\"count\").desc()) \\\n",
    "    .show()"
   ]
  },
  {
   "attachments": {},
   "cell_type": "markdown",
   "id": "78sjKvMKcHdn",
   "metadata": {
    "id": "78sjKvMKcHdn"
   },
   "source": [
    " ## With Universal Encoder"
   ]
  },
  {
   "cell_type": "code",
   "execution_count": null,
   "id": "oFl9orR5LrUu",
   "metadata": {
    "colab": {
     "base_uri": "https://localhost:8080/"
    },
    "id": "oFl9orR5LrUu",
    "outputId": "61783d6b-5873-4358-8a96-54a4e90da48c"
   },
   "outputs": [],
   "source": [
    "document_assembler = nlp.DocumentAssembler() \\\n",
    "      .setInputCol(\"provision\") \\\n",
    "      .setOutputCol(\"document\") \\\n",
    "      .setCleanupMode(\"shrink\")\n",
    "\n",
    "embeddings = nlp.UniversalSentenceEncoder.pretrained() \\\n",
    "      .setInputCols(\"document\") \\\n",
    "      .setOutputCol(\"sentence_embeddings\")\n",
    "\n",
    "classsifierdl = nlp.MultiClassifierDLApproach()\\\n",
    "      .setInputCols([\"sentence_embeddings\"])\\\n",
    "      .setOutputCol(\"class\")\\\n",
    "      .setLabelColumn(\"label\")\\\n",
    "      .setMaxEpochs(30)\\\n",
    "      .setEnableOutputLogs(True)\n",
    "\n",
    "clf_pipeline = nlp.Pipeline(stages = [\n",
    "        document_assembler,\n",
    "        embeddings,\n",
    "        classsifierdl\n",
    "    ])"
   ]
  },
  {
   "cell_type": "code",
   "execution_count": null,
   "id": "8kcgVr07MUss",
   "metadata": {
    "colab": {
     "base_uri": "https://localhost:8080/"
    },
    "id": "8kcgVr07MUss",
    "outputId": "a3fdf552-5252-4b54-b3f3-a9f12aee1e68"
   },
   "outputs": [],
   "source": [
    "%%time\n",
    "clf_pipelineModel = clf_pipeline.fit(train)"
   ]
  },
  {
   "cell_type": "code",
   "execution_count": null,
   "id": "cwf0OM2Oy6Hd",
   "metadata": {
    "id": "cwf0OM2Oy6Hd"
   },
   "outputs": [],
   "source": [
    "preds = clf_pipelineModel.transform(test)"
   ]
  },
  {
   "cell_type": "code",
   "execution_count": null,
   "id": "jUKamU-50kZi",
   "metadata": {
    "colab": {
     "base_uri": "https://localhost:8080/",
     "height": 206
    },
    "id": "jUKamU-50kZi",
    "outputId": "b2244ed7-fc19-45a5-d410-495de2f29928"
   },
   "outputs": [],
   "source": [
    "preds_df = preds.select('label','provision',\"class.result\").toPandas()\n",
    "preds_df.head()"
   ]
  },
  {
   "cell_type": "code",
   "execution_count": null,
   "id": "GGIRz-xtaY82",
   "metadata": {
    "colab": {
     "base_uri": "https://localhost:8080/"
    },
    "id": "GGIRz-xtaY82",
    "outputId": "fb6665eb-c758-437b-96cc-06972f5b6265"
   },
   "outputs": [],
   "source": [
    "from sklearn.preprocessing import MultiLabelBinarizer\n",
    "from sklearn.metrics import classification_report\n",
    "from sklearn.metrics import f1_score\n",
    "from sklearn.metrics import roc_auc_score\n",
    "\n",
    "mlb = MultiLabelBinarizer()\n",
    "\n",
    "y_true = mlb.fit_transform(preds_df['label'])\n",
    "y_pred = mlb.fit_transform(preds_df['result'])\n",
    "\n",
    "\n",
    "print(\"Classification report: \\n\", (classification_report(y_true, y_pred)))\n",
    "print(\"F1 micro averaging:\",(f1_score(y_true, y_pred, average='micro')))\n",
    "print(\"ROC: \",(roc_auc_score(y_true, y_pred, average=\"micro\")))\n"
   ]
  },
  {
   "attachments": {},
   "cell_type": "markdown",
   "id": "jWhU1pMUay0I",
   "metadata": {
    "id": "jWhU1pMUay0I"
   },
   "source": [
    "## With RoBerta Embeddings"
   ]
  },
  {
   "attachments": {},
   "cell_type": "markdown",
   "id": "bHVFY_i4H5Gh",
   "metadata": {
    "id": "bHVFY_i4H5Gh"
   },
   "source": [
    "We do not have have any specific Legal Sentence Embeddings, but we can use Legal RoBerta Embeddings and then average them."
   ]
  },
  {
   "cell_type": "code",
   "execution_count": null,
   "id": "8PG4NNyQdBnG",
   "metadata": {
    "colab": {
     "base_uri": "https://localhost:8080/"
    },
    "id": "8PG4NNyQdBnG",
    "outputId": "ab7a2401-5336-4be4-ddd5-82279776db65"
   },
   "outputs": [],
   "source": [
    "embeddings = nlp.RoBertaEmbeddings.pretrained(\"roberta_embeddings_legal_roberta_base\",\"en\") \\\n",
    "    .setInputCols([\"document\", \"token\"]) \\\n",
    "    .setOutputCol(\"embeddings\") \\\n",
    "    .setMaxSentenceLength(512)"
   ]
  },
  {
   "cell_type": "code",
   "execution_count": null,
   "id": "zdiCyuc3dBnJ",
   "metadata": {
    "id": "zdiCyuc3dBnJ"
   },
   "outputs": [],
   "source": [
    "document_assembler = nlp.DocumentAssembler() \\\n",
    "    .setInputCol(\"provision\") \\\n",
    "    .setOutputCol(\"document\")\n",
    "\n",
    "tokenizer = nlp.Tokenizer() \\\n",
    "    .setInputCols([\"document\"]) \\\n",
    "    .setOutputCol(\"token\")\n",
    "\n",
    "embeddingsSentence = nlp.SentenceEmbeddings() \\\n",
    "    .setInputCols([\"document\", \"embeddings\"]) \\\n",
    "    .setOutputCol(\"sentence_embeddings\") \\\n",
    "    .setPoolingStrategy(\"AVERAGE\")\n",
    "\n",
    "classsifierdl = nlp.MultiClassifierDLApproach() \\\n",
    "    .setInputCols([\"sentence_embeddings\"]) \\\n",
    "    .setOutputCol(\"class\") \\\n",
    "    .setLabelColumn(\"label\")\\\n",
    "    .setMaxEpochs(6)\\\n",
    "    .setEnableOutputLogs(True)\n",
    "\n",
    "clf_pipeline = nlp.Pipeline(stages = [\n",
    "        document_assembler,\n",
    "        tokenizer,\n",
    "        embeddings,\n",
    "        embeddingsSentence,\n",
    "        classsifierdl\n",
    "    ])"
   ]
  },
  {
   "cell_type": "code",
   "execution_count": null,
   "id": "7fxOmkTNdBnK",
   "metadata": {
    "colab": {
     "base_uri": "https://localhost:8080/"
    },
    "id": "7fxOmkTNdBnK",
    "outputId": "b0a9148b-5b4c-4569-a2a8-c6e723d6c9b8"
   },
   "outputs": [],
   "source": [
    "%%time\n",
    "clf_pipelineModel = clf_pipeline.fit(train)"
   ]
  },
  {
   "cell_type": "code",
   "execution_count": null,
   "id": "Y-YfOWrudBnM",
   "metadata": {
    "id": "Y-YfOWrudBnM"
   },
   "outputs": [],
   "source": [
    "preds = clf_pipelineModel.transform(test)"
   ]
  },
  {
   "cell_type": "code",
   "execution_count": null,
   "id": "9VfIUz3IdBnN",
   "metadata": {
    "id": "9VfIUz3IdBnN"
   },
   "outputs": [],
   "source": [
    "preds_df = preds.select('provision','label',\"class.result\").toPandas()"
   ]
  },
  {
   "cell_type": "code",
   "execution_count": null,
   "id": "6KE4YTX9SYAs",
   "metadata": {
    "colab": {
     "base_uri": "https://localhost:8080/",
     "height": 206
    },
    "id": "6KE4YTX9SYAs",
    "outputId": "92d0c44d-9c4e-4c9f-e016-20b94cb03aca"
   },
   "outputs": [],
   "source": [
    "preds_df.head()"
   ]
  },
  {
   "cell_type": "code",
   "execution_count": null,
   "id": "GJKWrIpOYLW_",
   "metadata": {
    "colab": {
     "base_uri": "https://localhost:8080/"
    },
    "id": "GJKWrIpOYLW_",
    "outputId": "42e1aa50-6fb9-45aa-fcf9-95bc8da4bb2d"
   },
   "outputs": [],
   "source": [
    "from sklearn.preprocessing import MultiLabelBinarizer\n",
    "from sklearn.metrics import classification_report\n",
    "from sklearn.metrics import f1_score\n",
    "from sklearn.metrics import roc_auc_score\n",
    "\n",
    "mlb = MultiLabelBinarizer()\n",
    "\n",
    "y_true = mlb.fit_transform(preds_df['label'])\n",
    "y_pred = mlb.fit_transform(preds_df['result'])\n",
    "\n",
    "\n",
    "print(\"Classification report: \\n\", (classification_report(y_true, y_pred)))\n",
    "print(\"F1 micro averaging:\",(f1_score(y_true, y_pred, average='micro')))\n",
    "print(\"ROC: \",(roc_auc_score(y_true, y_pred, average=\"micro\")))\n"
   ]
  },
  {
   "attachments": {},
   "cell_type": "markdown",
   "id": "Zsap0xaejFCX",
   "metadata": {
    "id": "Zsap0xaejFCX"
   },
   "source": [
    "### Saving & loading back the trained model"
   ]
  },
  {
   "cell_type": "code",
   "execution_count": null,
   "id": "BQoJ_DHSjFCX",
   "metadata": {
    "colab": {
     "base_uri": "https://localhost:8080/"
    },
    "id": "BQoJ_DHSjFCX",
    "outputId": "96086e70-bc58-487a-8bfa-cf85146dd375"
   },
   "outputs": [],
   "source": [
    "clf_pipelineModel.stages"
   ]
  },
  {
   "cell_type": "code",
   "execution_count": null,
   "id": "3hKjHocZjFCY",
   "metadata": {
    "id": "3hKjHocZjFCY"
   },
   "outputs": [],
   "source": [
    "clf_pipelineModel.stages[-1].write().overwrite().save('MultilabelClfRoBerta')"
   ]
  },
  {
   "cell_type": "code",
   "execution_count": null,
   "id": "cXtTavvVjFCY",
   "metadata": {
    "id": "cXtTavvVjFCY"
   },
   "outputs": [],
   "source": [
    "# Load back  saved Multilabel Classifier Model\n",
    "MultilabelClfModel = nlp.MultiClassifierDLModel.load('MultilabelClfRoBerta')"
   ]
  },
  {
   "cell_type": "code",
   "execution_count": null,
   "id": "sxWzLYSgjFCY",
   "metadata": {
    "id": "sxWzLYSgjFCY"
   },
   "outputs": [],
   "source": [
    "ld_pipeline = nlp.Pipeline(stages=[document_assembler, tokenizer, embeddings, embeddingsSentence, MultilabelClfModel])\n",
    "\n",
    "ld_pipeline_model = ld_pipeline.fit(spark.createDataFrame([['']]).toDF(\"provision\"))"
   ]
  },
  {
   "cell_type": "code",
   "execution_count": null,
   "id": "FKe7kDccjFCY",
   "metadata": {
    "id": "FKe7kDccjFCY"
   },
   "outputs": [],
   "source": [
    "# Apply Model Transform to testData\n",
    "ld_preds = ld_pipeline_model.transform(test)"
   ]
  },
  {
   "cell_type": "code",
   "execution_count": null,
   "id": "pnZwf9MejFCY",
   "metadata": {
    "id": "pnZwf9MejFCY"
   },
   "outputs": [],
   "source": [
    "ld_preds_df = ld_preds.select('provision','label',\"class.result\").toPandas()"
   ]
  },
  {
   "cell_type": "code",
   "execution_count": null,
   "id": "rWarQRPBjFCZ",
   "metadata": {
    "colab": {
     "base_uri": "https://localhost:8080/",
     "height": 363
    },
    "id": "rWarQRPBjFCZ",
    "outputId": "367de4f1-2733-4355-8cda-2f8d9b1eaf0b"
   },
   "outputs": [],
   "source": [
    "ld_preds_df.head(10)"
   ]
  },
  {
   "attachments": {},
   "cell_type": "markdown",
   "id": "OxcsSYj_wA0p",
   "metadata": {
    "id": "OxcsSYj_wA0p"
   },
   "source": [
    "# Multiclass classifier training"
   ]
  },
  {
   "attachments": {},
   "cell_type": "markdown",
   "id": "5qFM3Zueb50G",
   "metadata": {
    "id": "5qFM3Zueb50G"
   },
   "source": [
    "## Loading the data"
   ]
  },
  {
   "cell_type": "code",
   "execution_count": null,
   "id": "NcP97dzbM7yn",
   "metadata": {
    "id": "NcP97dzbM7yn"
   },
   "outputs": [],
   "source": [
    "! wget -q https://raw.githubusercontent.com/JohnSnowLabs/spark-nlp-workshop/master/finance-nlp/data/finance_clf_data.csv"
   ]
  },
  {
   "cell_type": "code",
   "execution_count": null,
   "id": "FtXdRXNEb50G",
   "metadata": {
    "id": "FtXdRXNEb50G"
   },
   "outputs": [],
   "source": [
    "df = pd.read_csv('finance_clf_data.csv')"
   ]
  },
  {
   "cell_type": "code",
   "execution_count": null,
   "id": "SWqOIj_pfEU5",
   "metadata": {
    "colab": {
     "base_uri": "https://localhost:8080/",
     "height": 206
    },
    "id": "SWqOIj_pfEU5",
    "outputId": "2af839ae-f563-41d1-e072-87acce5fa6eb"
   },
   "outputs": [],
   "source": [
    "df.head()"
   ]
  },
  {
   "cell_type": "code",
   "execution_count": null,
   "id": "Ntfw_obpuf4A",
   "metadata": {
    "colab": {
     "base_uri": "https://localhost:8080/"
    },
    "id": "Ntfw_obpuf4A",
    "outputId": "02fec47d-eed5-4fbf-bb81-9517ff9641e1"
   },
   "outputs": [],
   "source": [
    "df['label'].value_counts()"
   ]
  },
  {
   "cell_type": "code",
   "execution_count": null,
   "id": "Cmc91NU8b50H",
   "metadata": {
    "id": "Cmc91NU8b50H"
   },
   "outputs": [],
   "source": [
    "data = spark.createDataFrame(df)\n",
    "\n",
    "train, test = data.randomSplit([0.8, 0.2], seed = 100)"
   ]
  },
  {
   "cell_type": "code",
   "execution_count": null,
   "id": "WEcXKSQTb50H",
   "metadata": {
    "colab": {
     "base_uri": "https://localhost:8080/"
    },
    "id": "WEcXKSQTb50H",
    "outputId": "ca299095-25ef-470b-b511-69ec223003fc"
   },
   "outputs": [],
   "source": [
    "from pyspark.sql.functions import col\n",
    "\n",
    "train.groupBy(\"label\") \\\n",
    "    .count() \\\n",
    "    .orderBy(col(\"count\").desc()) \\\n",
    "    .show()"
   ]
  },
  {
   "cell_type": "code",
   "execution_count": null,
   "id": "lDV9dGbRb50H",
   "metadata": {
    "colab": {
     "base_uri": "https://localhost:8080/"
    },
    "id": "lDV9dGbRb50H",
    "outputId": "b5ec5700-deda-439c-e9b6-87cd2a7ecf8d"
   },
   "outputs": [],
   "source": [
    "test.groupBy(\"label\") \\\n",
    "    .count() \\\n",
    "    .orderBy(col(\"count\").desc()) \\\n",
    "    .show()"
   ]
  },
  {
   "attachments": {},
   "cell_type": "markdown",
   "id": "hrFio0xccT7J",
   "metadata": {
    "id": "hrFio0xccT7J"
   },
   "source": [
    " ## With Universal Encoder"
   ]
  },
  {
   "cell_type": "code",
   "execution_count": null,
   "id": "o0muwDJ5cT7K",
   "metadata": {
    "colab": {
     "base_uri": "https://localhost:8080/"
    },
    "id": "o0muwDJ5cT7K",
    "outputId": "1ca4e859-b817-4ef8-dff0-dc7a1466e9a7"
   },
   "outputs": [],
   "source": [
    "document_assembler = nlp.DocumentAssembler() \\\n",
    "      .setInputCol(\"text\") \\\n",
    "      .setOutputCol(\"document\") \n",
    "\n",
    "embeddings = nlp.UniversalSentenceEncoder.pretrained() \\\n",
    "      .setInputCols(\"document\") \\\n",
    "      .setOutputCol(\"sentence_embeddings\")\n",
    "\n",
    "classsifierdl = legal.ClassifierDLApproach()\\\n",
    "      .setInputCols([\"sentence_embeddings\"])\\\n",
    "      .setOutputCol(\"class\")\\\n",
    "      .setLabelColumn(\"label\")\\\n",
    "      .setMaxEpochs(30)\\\n",
    "      .setEnableOutputLogs(True)\n",
    "\n",
    "clf_pipeline = nlp.Pipeline(stages = [\n",
    "        document_assembler,\n",
    "        embeddings,\n",
    "        classsifierdl\n",
    "    ])"
   ]
  },
  {
   "cell_type": "code",
   "execution_count": null,
   "id": "9Vb2VqzucT7M",
   "metadata": {
    "id": "9Vb2VqzucT7M"
   },
   "outputs": [],
   "source": [
    "clf_pipelineModel = clf_pipeline.fit(train)"
   ]
  },
  {
   "cell_type": "code",
   "execution_count": null,
   "id": "jwlOFwwacT7O",
   "metadata": {
    "id": "jwlOFwwacT7O"
   },
   "outputs": [],
   "source": [
    "preds = clf_pipelineModel.transform(test)"
   ]
  },
  {
   "cell_type": "code",
   "execution_count": null,
   "id": "ft1vm_0fcT7O",
   "metadata": {
    "colab": {
     "base_uri": "https://localhost:8080/",
     "height": 206
    },
    "id": "ft1vm_0fcT7O",
    "outputId": "c635ce3f-3b9f-443c-8c22-8dc440a43927"
   },
   "outputs": [],
   "source": [
    "preds_df = preds.select('label','text',\"class.result\").toPandas()\n",
    "preds_df.head()"
   ]
  },
  {
   "cell_type": "code",
   "execution_count": null,
   "id": "Oo0X1tyacT7P",
   "metadata": {
    "id": "Oo0X1tyacT7P"
   },
   "outputs": [],
   "source": [
    "# The result is an array since in Spark NLP you can have multiple sentences.\n",
    "# Let's explode the array and get the item(s) inside of result column out\n",
    "preds_df['result'] = preds_df['result'].apply(lambda x : x[0])"
   ]
  },
  {
   "cell_type": "code",
   "execution_count": null,
   "id": "VOvxSG6Afz5d",
   "metadata": {
    "colab": {
     "base_uri": "https://localhost:8080/"
    },
    "id": "VOvxSG6Afz5d",
    "outputId": "01f501b0-6d5e-474e-faa7-5435cb45dfea"
   },
   "outputs": [],
   "source": [
    "# We are going to use sklearn to evalute the results on test dataset\n",
    "from sklearn.metrics import classification_report\n",
    "\n",
    "print (classification_report(preds_df['label'], preds_df['result']))"
   ]
  },
  {
   "attachments": {},
   "cell_type": "markdown",
   "id": "IHzIfMSuUgiD",
   "metadata": {
    "id": "IHzIfMSuUgiD"
   },
   "source": [
    "### Saving & loading back the trained model"
   ]
  },
  {
   "cell_type": "code",
   "execution_count": null,
   "id": "r5Tec2WwUhP1",
   "metadata": {
    "colab": {
     "base_uri": "https://localhost:8080/"
    },
    "id": "r5Tec2WwUhP1",
    "outputId": "e322e3ba-b01e-4ece-a070-91bc35704f19"
   },
   "outputs": [],
   "source": [
    "clf_pipelineModel.stages"
   ]
  },
  {
   "cell_type": "code",
   "execution_count": null,
   "id": "4hjFsxVsUps_",
   "metadata": {
    "id": "4hjFsxVsUps_"
   },
   "outputs": [],
   "source": [
    "clf_pipelineModel.stages[-1].write().overwrite().save('Clf_Use')"
   ]
  },
  {
   "cell_type": "code",
   "execution_count": null,
   "id": "UUdl5FoBbE5X",
   "metadata": {
    "id": "UUdl5FoBbE5X"
   },
   "outputs": [],
   "source": [
    "# Load back  saved Classifier Model\n",
    "ClfModel = legal.ClassifierDLModel.load('Clf_Use')"
   ]
  },
  {
   "cell_type": "code",
   "execution_count": null,
   "id": "295Ip9xZcjU-",
   "metadata": {
    "id": "295Ip9xZcjU-"
   },
   "outputs": [],
   "source": [
    "ld_pipeline = nlp.Pipeline(stages=[document_assembler, embeddings,ClfModel])\n",
    "ld_pipeline_model = ld_pipeline.fit(spark.createDataFrame([['']]).toDF(\"text\"))"
   ]
  },
  {
   "cell_type": "code",
   "execution_count": null,
   "id": "Gdm6mxvadFyj",
   "metadata": {
    "id": "Gdm6mxvadFyj"
   },
   "outputs": [],
   "source": [
    "# Apply Model Transform to testData\n",
    "ld_preds = ld_pipeline_model.transform(test)"
   ]
  },
  {
   "cell_type": "code",
   "execution_count": null,
   "id": "aQYCSHcIdJbi",
   "metadata": {
    "id": "aQYCSHcIdJbi"
   },
   "outputs": [],
   "source": [
    "ld_preds_df = ld_preds.select('text','label',\"class.result\").toPandas()"
   ]
  },
  {
   "cell_type": "code",
   "execution_count": null,
   "id": "VZnsGh6YdVUf",
   "metadata": {
    "colab": {
     "base_uri": "https://localhost:8080/",
     "height": 206
    },
    "id": "VZnsGh6YdVUf",
    "outputId": "1b36b207-468a-44ec-a63a-bca7aecbba2a"
   },
   "outputs": [],
   "source": [
    "ld_preds_df.head()"
   ]
  },
  {
   "attachments": {},
   "cell_type": "markdown",
   "id": "7kKWRZNu0lCL",
   "metadata": {
    "id": "7kKWRZNu0lCL"
   },
   "source": [
    "## With RoBerta Embeddings"
   ]
  },
  {
   "attachments": {},
   "cell_type": "markdown",
   "id": "rHw4ikwLISTb",
   "metadata": {
    "id": "rHw4ikwLISTb"
   },
   "source": [
    "We do not have Legal Sentence Embeddings yet, But we can use the Legal RoBerta Embeddings and then average them."
   ]
  },
  {
   "cell_type": "code",
   "execution_count": null,
   "id": "oaiL-Txz0lCM",
   "metadata": {
    "colab": {
     "base_uri": "https://localhost:8080/"
    },
    "id": "oaiL-Txz0lCM",
    "outputId": "33660365-4b09-4b22-8847-a285dee4d5a6"
   },
   "outputs": [],
   "source": [
    "embeddings = nlp.RoBertaEmbeddings.pretrained(\"roberta_embeddings_legal_roberta_base\",\"en\") \\\n",
    "    .setInputCols([\"document\", \"token\"]) \\\n",
    "    .setOutputCol(\"embeddings\") \\\n",
    "    .setMaxSentenceLength(512)"
   ]
  },
  {
   "cell_type": "code",
   "execution_count": null,
   "id": "l3jxCehJ0lCO",
   "metadata": {
    "id": "l3jxCehJ0lCO"
   },
   "outputs": [],
   "source": [
    "document_assembler = nlp.DocumentAssembler() \\\n",
    "    .setInputCol(\"text\") \\\n",
    "    .setOutputCol(\"document\")\n",
    "\n",
    "tokenizer = nlp.Tokenizer() \\\n",
    "    .setInputCols([\"document\"]) \\\n",
    "    .setOutputCol(\"token\")\n",
    "\n",
    "embeddingsSentence = nlp.SentenceEmbeddings() \\\n",
    "    .setInputCols([\"document\", \"embeddings\"]) \\\n",
    "    .setOutputCol(\"sentence_embeddings\") \\\n",
    "    .setPoolingStrategy(\"AVERAGE\")\n",
    "\n",
    "classsifierdl = legal.ClassifierDLApproach() \\\n",
    "    .setInputCols([\"sentence_embeddings\"]) \\\n",
    "    .setOutputCol(\"class\") \\\n",
    "    .setLabelColumn(\"label\")\\\n",
    "    .setMaxEpochs(8)\\\n",
    "    .setLr(0.001)\\\n",
    "    .setEnableOutputLogs(True)\n",
    "\n",
    "clf_pipeline = nlp.Pipeline(stages = [\n",
    "        document_assembler,\n",
    "        tokenizer,\n",
    "        embeddings,\n",
    "        embeddingsSentence,\n",
    "        classsifierdl\n",
    "    ])"
   ]
  },
  {
   "cell_type": "code",
   "execution_count": null,
   "id": "W6qwSLYv0lCP",
   "metadata": {
    "id": "W6qwSLYv0lCP"
   },
   "outputs": [],
   "source": [
    "clf_pipelineModel = clf_pipeline.fit(train)"
   ]
  },
  {
   "cell_type": "code",
   "execution_count": null,
   "id": "IEK22MWg0lCQ",
   "metadata": {
    "id": "IEK22MWg0lCQ"
   },
   "outputs": [],
   "source": [
    "preds = clf_pipelineModel.transform(test)"
   ]
  },
  {
   "cell_type": "code",
   "execution_count": null,
   "id": "0QMopvFG0lCQ",
   "metadata": {
    "id": "0QMopvFG0lCQ"
   },
   "outputs": [],
   "source": [
    "preds_df = preds.select('label','text',\"class.result\").toPandas()"
   ]
  },
  {
   "cell_type": "code",
   "execution_count": null,
   "id": "ADdEhII40lCR",
   "metadata": {
    "colab": {
     "base_uri": "https://localhost:8080/",
     "height": 206
    },
    "id": "ADdEhII40lCR",
    "outputId": "10348fad-6dd5-445b-a977-a23b265e0708"
   },
   "outputs": [],
   "source": [
    "preds_df.head()"
   ]
  },
  {
   "cell_type": "code",
   "execution_count": null,
   "id": "wvc6vZjH0lCS",
   "metadata": {
    "colab": {
     "base_uri": "https://localhost:8080/"
    },
    "id": "wvc6vZjH0lCS",
    "outputId": "75a19349-6dda-464b-dc3a-a749e62ee791"
   },
   "outputs": [],
   "source": [
    "# Let's explode the array and get the item(s) inside of result column out\n",
    "preds_df['result'] = preds_df['result'].apply(lambda x : x[0])\n",
    "\n",
    "print (classification_report(preds_df['label'], preds_df['result']))\n"
   ]
  },
  {
   "attachments": {},
   "cell_type": "markdown",
   "id": "rMHZmT9_deAQ",
   "metadata": {
    "id": "rMHZmT9_deAQ"
   },
   "source": [
    "# Save model and Zip it for Modelshub Upload/Downloads"
   ]
  },
  {
   "cell_type": "code",
   "execution_count": null,
   "id": "QZ79YbdodfFc",
   "metadata": {
    "colab": {
     "base_uri": "https://localhost:8080/"
    },
    "id": "QZ79YbdodfFc",
    "outputId": "82615b46-9c26-430e-9d87-3bf06439ca19"
   },
   "outputs": [],
   "source": [
    "# Save a Spark NLP model\n",
    "clf_pipelineModel.stages[-1].write().overwrite().save('ClfBert')\n",
    "\n",
    "import shutil\n",
    "\n",
    "shutil.make_archive('ClfBert', 'zip', 'ClfBert')"
   ]
  },
  {
   "cell_type": "code",
   "execution_count": null,
   "id": "tfinWtXTRynE",
   "metadata": {
    "id": "tfinWtXTRynE"
   },
   "outputs": [],
   "source": []
  }
 ],
 "metadata": {
  "accelerator": "GPU",
  "colab": {
   "collapsed_sections": [],
   "machine_shape": "hm",
   "provenance": []
  },
  "gpuClass": "standard",
  "kernelspec": {
   "display_name": "Python 3 (ipykernel)",
   "language": "python",
   "name": "python3"
  },
  "language_info": {
   "codemirror_mode": {
    "name": "ipython",
    "version": 3
   },
   "file_extension": ".py",
   "mimetype": "text/x-python",
   "name": "python",
   "nbconvert_exporter": "python",
   "pygments_lexer": "ipython3",
   "version": "3.8.10"
  }
 },
 "nbformat": 4,
 "nbformat_minor": 5
}

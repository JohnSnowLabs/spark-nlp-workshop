{
 "cells": [
  {
   "cell_type": "markdown",
   "id": "wxZDXLDCXkk_",
   "metadata": {
    "id": "wxZDXLDCXkk_"
   },
   "source": [
    "\n",
    "![JohnSnowLabs](https://nlp.johnsnowlabs.com/assets/images/logo.png)\n",
    "\n",
    "\n",
    "\n"
   ]
  },
  {
   "cell_type": "markdown",
   "id": "KLqW6FOnEvov",
   "metadata": {
    "id": "KLqW6FOnEvov"
   },
   "source": [
    "# Train Legal Classifiers"
   ]
  },
  {
   "cell_type": "markdown",
   "id": "04bb68ca-4139-4d06-b106-cecd73cd76ca",
   "metadata": {
    "id": "okhT7AcXxben"
   },
   "source": [
    "## Setup"
   ]
  },
  {
   "cell_type": "code",
   "execution_count": 2,
   "id": "4f2c08bd-4a63-4241-9607-43ad367c49e1",
   "metadata": {},
   "outputs": [],
   "source": [
    "%pip install -q tensorflow==2.7.0\n",
    "%pip install -q tensorflow-addons"
   ]
  },
  {
   "cell_type": "code",
   "execution_count": 4,
   "id": "d265ff73-d2b8-4067-b4bb-fec18c734288",
   "metadata": {
    "colab": {
     "base_uri": "https://localhost:8080/"
    },
    "executionInfo": {
     "elapsed": 115199,
     "status": "ok",
     "timestamp": 1664816113389,
     "user": {
      "displayName": "Damla",
      "userId": "03285166568766987047"
     },
     "user_tz": -120
    },
    "id": "dmcB5zVBHZO8",
    "outputId": "cd366e47-7f4d-457a-dfe5-3ed5174d4a0c"
   },
   "outputs": [
    {
     "name": "stdout",
     "output_type": "stream",
     "text": [
      "Spark NLP Version : 4.2.1\n",
      "📋 Loading license number 0 from /home/ubuntu/.johnsnowlabs/licenses/license_number_0_for_.json\n"
     ]
    },
    {
     "name": "stderr",
     "output_type": "stream",
     "text": [
      "22/10/20 12:47:05 WARN NativeCodeLoader: Unable to load native-hadoop library for your platform... using builtin-java classes where applicable\n",
      "Using Spark's default log4j profile: org/apache/spark/log4j-defaults.properties\n",
      "Setting default log level to \"WARN\".\n",
      "To adjust logging level use sc.setLogLevel(newLevel). For SparkR, use setLogLevel(newLevel).\n"
     ]
    },
    {
     "name": "stdout",
     "output_type": "stream",
     "text": [
      "👌 Launched \u001b[92mcpu-Optimized JVM\u001b[39m SparkSession with Jars for: 🚀Spark-NLP==4.2.1, 💊Spark-Healthcare==4.2.0, 🕶Spark-OCR==4.1.0, running on ⚡ PySpark==3.1.2\n"
     ]
    }
   ],
   "source": [
    "from johnsnowlabs import *\n",
    "\n",
    "import json\n",
    "import os\n",
    "\n",
    "import numpy as np\n",
    "import pandas as pd\n",
    "\n",
    "print(\"Spark NLP Version :\", sparknlp.version())\n",
    "\n",
    "spark = start_spark()"
   ]
  },
  {
   "cell_type": "markdown",
   "id": "MulDEC2j4ly3",
   "metadata": {
    "id": "MulDEC2j4ly3"
   },
   "source": [
    "# Multilabel classifier training"
   ]
  },
  {
   "cell_type": "markdown",
   "id": "BhKlxMBWH9-Z",
   "metadata": {
    "id": "BhKlxMBWH9-Z"
   },
   "source": [
    "## Loading the data"
   ]
  },
  {
   "cell_type": "code",
   "execution_count": 6,
   "id": "2Ab4pyK6MyCZ",
   "metadata": {
    "id": "2Ab4pyK6MyCZ"
   },
   "outputs": [],
   "source": [
    "! wget -q https://raw.githubusercontent.com/JohnSnowLabs/spark-nlp-workshop/master/tutorials/Certification_Trainings_JSL/Legal/data/finance_data.csv"
   ]
  },
  {
   "cell_type": "code",
   "execution_count": 7,
   "id": "gaRulasEKZK3",
   "metadata": {
    "id": "gaRulasEKZK3"
   },
   "outputs": [],
   "source": [
    "df = pd.read_csv('./finance_data.csv')\n",
    "df['label'] = df['label'].apply(eval)"
   ]
  },
  {
   "cell_type": "code",
   "execution_count": 8,
   "id": "bUFO8usqKt2Z",
   "metadata": {
    "id": "bUFO8usqKt2Z"
   },
   "outputs": [],
   "source": [
    "data = spark.createDataFrame(df)\n",
    "\n",
    "# If you have a single dataset, then split it or else you can load the test dataset the same way that you load the train data.\n",
    "train, test = data.randomSplit([0.8, 0.2], seed = 123)"
   ]
  },
  {
   "cell_type": "code",
   "execution_count": 9,
   "id": "bowhz89ZbN1C",
   "metadata": {
    "colab": {
     "base_uri": "https://localhost:8080/"
    },
    "id": "bowhz89ZbN1C",
    "outputId": "ca5e4b7b-b247-479a-b019-f5e97bd5c159"
   },
   "outputs": [
    {
     "name": "stderr",
     "output_type": "stream",
     "text": [
      "22/10/20 12:47:23 WARN TaskSetManager: Stage 0 contains a task of very large size (1746 KiB). The maximum recommended task size is 1000 KiB.\n",
      "[Stage 0:>                                                          (0 + 1) / 1]\r"
     ]
    },
    {
     "name": "stdout",
     "output_type": "stream",
     "text": [
      "+--------------------------------------------------+-----------------------------------+\n",
      "|                                         provision|                              label|\n",
      "+--------------------------------------------------+-----------------------------------+\n",
      "|(a) Consultant or Company may terminate this Pr...|                     [terminations]|\n",
      "|(a) Effective as of the Effective Date, the Hol...|            [waivers, terminations]|\n",
      "|(a) No failure or delay by the Administrative A...|              [waivers, amendments]|\n",
      "|(a) No failure or delay by the Agent or any Len...|              [waivers, amendments]|\n",
      "|(a) No failure or delay of the Administrative A...|              [waivers, amendments]|\n",
      "|(a) The Credit Agreement is, effective as of th...|                       [amendments]|\n",
      "|(a) The provisions of this Agreement shall be b...|              [assigns, successors]|\n",
      "|(a) To induce the other parties hereto to enter...|      [representations, warranties]|\n",
      "|(a)  The provisions of this Agreement shall be ...|              [assigns, successors]|\n",
      "|(a) All of the representations and warranties m...|      [representations, warranties]|\n",
      "|(a) No failure or delay by the Administrative A...|              [waivers, amendments]|\n",
      "|(a) No failure or delay by the Collateral Agent...|              [waivers, amendments]|\n",
      "|(a) No failure or delay of the Agents or any Le...|              [waivers, amendments]|\n",
      "|(a) THIS AGREEMENT AND ANY CLAIM, CONTROVERSY, ...|[governing laws, entire agreements]|\n",
      "|(a) THIS AGREEMENT WAS NEGOTIATED IN THE STATE ...|                   [governing laws]|\n",
      "|(a) The provisions of this Agreement shall be b...|              [assigns, successors]|\n",
      "|(a) This Agreement may be amended, supplemented...|              [waivers, amendments]|\n",
      "|(a) This Agreement may be executed by one or mo...|                     [counterparts]|\n",
      "|(a)  The Performance Guarantor hereby waives pr...|                          [waivers]|\n",
      "|(i) Borrower waives all presentments, demands f...|                          [waivers]|\n",
      "+--------------------------------------------------+-----------------------------------+\n",
      "only showing top 20 rows\n",
      "\n"
     ]
    },
    {
     "name": "stderr",
     "output_type": "stream",
     "text": [
      "                                                                                \r"
     ]
    }
   ],
   "source": [
    "train.show(truncate=50)"
   ]
  },
  {
   "cell_type": "code",
   "execution_count": 10,
   "id": "RZ0xy9hpebLe",
   "metadata": {
    "colab": {
     "base_uri": "https://localhost:8080/"
    },
    "id": "RZ0xy9hpebLe",
    "outputId": "0172665b-711f-4e0e-eae9-b78695dc3b8b"
   },
   "outputs": [
    {
     "name": "stderr",
     "output_type": "stream",
     "text": [
      "22/10/20 12:47:24 WARN TaskSetManager: Stage 1 contains a task of very large size (1746 KiB). The maximum recommended task size is 1000 KiB.\n",
      "[Stage 2:======================================>                (140 + 8) / 200]\r"
     ]
    },
    {
     "name": "stdout",
     "output_type": "stream",
     "text": [
      "+--------------------+-----+\n",
      "|               label|count|\n",
      "+--------------------+-----+\n",
      "|    [governing laws]|  772|\n",
      "|      [counterparts]|  573|\n",
      "| [entire agreements]|  558|\n",
      "|           [notices]|  530|\n",
      "|      [severability]|  507|\n",
      "|          [survival]|  343|\n",
      "|[assigns, success...|  319|\n",
      "|        [amendments]|  309|\n",
      "|          [expenses]|  248|\n",
      "|      [terminations]|  237|\n",
      "|           [waivers]|  205|\n",
      "|[waivers, amendme...|  195|\n",
      "|[representations,...|  191|\n",
      "|       [assignments]|  187|\n",
      "|   [representations]|   94|\n",
      "|[amendments, enti...|   54|\n",
      "|        [successors]|   54|\n",
      "|        [warranties]|   39|\n",
      "|[amendments, term...|   25|\n",
      "|[assignments, suc...|   11|\n",
      "+--------------------+-----+\n",
      "only showing top 20 rows\n",
      "\n"
     ]
    },
    {
     "name": "stderr",
     "output_type": "stream",
     "text": [
      "                                                                                \r"
     ]
    }
   ],
   "source": [
    "from pyspark.sql.functions import col\n",
    "\n",
    "test.groupBy(\"label\") \\\n",
    "    .count() \\\n",
    "    .orderBy(col(\"count\").desc()) \\\n",
    "    .show()"
   ]
  },
  {
   "cell_type": "markdown",
   "id": "78sjKvMKcHdn",
   "metadata": {
    "id": "78sjKvMKcHdn"
   },
   "source": [
    " ## With Universal Encoder"
   ]
  },
  {
   "cell_type": "code",
   "execution_count": 11,
   "id": "oFl9orR5LrUu",
   "metadata": {
    "colab": {
     "base_uri": "https://localhost:8080/"
    },
    "id": "oFl9orR5LrUu",
    "outputId": "61783d6b-5873-4358-8a96-54a4e90da48c"
   },
   "outputs": [
    {
     "name": "stdout",
     "output_type": "stream",
     "text": [
      "tfhub_use download started this may take some time.\n",
      "Approximate size to download 923.7 MB\n",
      "[ | ]tfhub_use download started this may take some time.\n",
      "Approximate size to download 923.7 MB\n",
      "Download done! Loading the resource.\n",
      "[ / ]"
     ]
    },
    {
     "name": "stderr",
     "output_type": "stream",
     "text": [
      "2022-10-20 12:47:41.741507: I external/org_tensorflow/tensorflow/core/platform/cpu_feature_guard.cc:151] This TensorFlow binary is optimized with oneAPI Deep Neural Network Library (oneDNN) to use the following CPU instructions in performance-critical operations:  AVX2 AVX512F FMA\n",
      "To enable them in other operations, rebuild TensorFlow with the appropriate compiler flags.\n"
     ]
    },
    {
     "name": "stdout",
     "output_type": "stream",
     "text": [
      "[OK!]\n"
     ]
    }
   ],
   "source": [
    "document_assembler = nlp.DocumentAssembler() \\\n",
    "      .setInputCol(\"provision\") \\\n",
    "      .setOutputCol(\"document\") \\\n",
    "      .setCleanupMode(\"shrink\")\n",
    "\n",
    "embeddings = nlp.UniversalSentenceEncoder.pretrained() \\\n",
    "      .setInputCols(\"document\") \\\n",
    "      .setOutputCol(\"sentence_embeddings\")\n",
    "\n",
    "classsifierdl = nlp.MultiClassifierDLApproach()\\\n",
    "      .setInputCols([\"sentence_embeddings\"])\\\n",
    "      .setOutputCol(\"class\")\\\n",
    "      .setLabelColumn(\"label\")\\\n",
    "      .setMaxEpochs(30)\\\n",
    "      .setEnableOutputLogs(True)\n",
    "\n",
    "clf_pipeline = Pipeline(\n",
    "    stages = [\n",
    "        document_assembler,\n",
    "        embeddings,\n",
    "        classsifierdl\n",
    "    ])"
   ]
  },
  {
   "cell_type": "code",
   "execution_count": 12,
   "id": "8kcgVr07MUss",
   "metadata": {
    "colab": {
     "base_uri": "https://localhost:8080/"
    },
    "id": "8kcgVr07MUss",
    "outputId": "a3fdf552-5252-4b54-b3f3-a9f12aee1e68"
   },
   "outputs": [
    {
     "name": "stderr",
     "output_type": "stream",
     "text": [
      "22/10/20 12:47:52 WARN TaskSetManager: Stage 4 contains a task of very large size (1746 KiB). The maximum recommended task size is 1000 KiB.\n",
      "22/10/20 12:47:58 WARN TaskSetManager: Stage 6 contains a task of very large size (1746 KiB). The maximum recommended task size is 1000 KiB.\n",
      "22/10/20 12:47:59 WARN TaskSetManager: Stage 7 contains a task of very large size (1746 KiB). The maximum recommended task size is 1000 KiB.\n",
      "2022-10-20 12:48:05.178535: I external/org_tensorflow/tensorflow/cc/saved_model/reader.cc:43] Reading SavedModel from: /tmp/474de67c81ab_classifier_dl8079699436630106693\n",
      "2022-10-20 12:48:05.681779: I external/org_tensorflow/tensorflow/cc/saved_model/reader.cc:107] Reading meta graph with tags { serve }\n",
      "2022-10-20 12:48:05.681852: I external/org_tensorflow/tensorflow/cc/saved_model/reader.cc:148] Reading SavedModel debug info (if present) from: /tmp/474de67c81ab_classifier_dl8079699436630106693\n",
      "2022-10-20 12:48:11.254782: I external/org_tensorflow/tensorflow/cc/saved_model/loader.cc:228] Restoring SavedModel bundle.\n",
      "2022-10-20 12:48:13.896429: I external/org_tensorflow/tensorflow/cc/saved_model/loader.cc:212] Running initialization op on SavedModel bundle at path: /tmp/474de67c81ab_classifier_dl8079699436630106693\n",
      "2022-10-20 12:48:15.598079: I external/org_tensorflow/tensorflow/cc/saved_model/loader.cc:301] SavedModel load for tags { serve }; Status: success: OK. Took 10419558 microseconds.\n"
     ]
    },
    {
     "name": "stdout",
     "output_type": "stream",
     "text": [
      "Training started - epochs: 30 - learning_rate: 0.001 - batch_size: 64 - training_examples: 22002 - classes: 15\n",
      "Epoch 1/30 - 7.85s - loss: 0.168192 - acc: 0.94994646 - batches: 344\n",
      "Epoch 2/30 - 3.02s - loss: 0.07170924 - acc: 0.9776423 - batches: 344\n",
      "Epoch 3/30 - 2.98s - loss: 0.06072507 - acc: 0.98128265 - batches: 344\n",
      "Epoch 4/30 - 3.00s - loss: 0.055653386 - acc: 0.9830967 - batches: 344\n",
      "Epoch 5/30 - 3.09s - loss: 0.052645776 - acc: 0.984132 - batches: 344\n",
      "Epoch 6/30 - 2.97s - loss: 0.05059618 - acc: 0.9848573 - batches: 344\n",
      "Epoch 7/30 - 2.98s - loss: 0.049065854 - acc: 0.9853485 - batches: 344\n",
      "Epoch 8/30 - 3.01s - loss: 0.04785178 - acc: 0.9858103 - batches: 344\n",
      "Epoch 9/30 - 2.99s - loss: 0.04684918 - acc: 0.98614776 - batches: 344\n",
      "Epoch 10/30 - 3.01s - loss: 0.04599774 - acc: 0.9864211 - batches: 344\n",
      "Epoch 11/30 - 3.01s - loss: 0.04525937 - acc: 0.98659724 - batches: 344\n",
      "Epoch 12/30 - 3.05s - loss: 0.044609535 - acc: 0.98679745 - batches: 344\n",
      "Epoch 13/30 - 3.03s - loss: 0.044030655 - acc: 0.98697984 - batches: 344\n",
      "Epoch 14/30 - 3.01s - loss: 0.043510016 - acc: 0.9871685 - batches: 344\n",
      "Epoch 15/30 - 3.04s - loss: 0.04303764 - acc: 0.9873809 - batches: 344\n",
      "Epoch 16/30 - 2.92s - loss: 0.04260624 - acc: 0.9875588 - batches: 344\n",
      "Epoch 17/30 - 2.95s - loss: 0.04221008 - acc: 0.98769855 - batches: 344\n",
      "Epoch 18/30 - 2.98s - loss: 0.04184406 - acc: 0.98780483 - batches: 344\n",
      "Epoch 19/30 - 2.99s - loss: 0.041504398 - acc: 0.9879809 - batches: 344\n",
      "Epoch 20/30 - 3.01s - loss: 0.041187737 - acc: 0.988066 - batches: 344\n",
      "Epoch 21/30 - 3.03s - loss: 0.04089147 - acc: 0.9881267 - batches: 344\n",
      "Epoch 22/30 - 3.03s - loss: 0.040613104 - acc: 0.988237 - batches: 344\n",
      "Epoch 23/30 - 3.04s - loss: 0.04035115 - acc: 0.9883343 - batches: 344\n",
      "Epoch 24/30 - 3.02s - loss: 0.04010384 - acc: 0.9884407 - batches: 344\n",
      "Epoch 25/30 - 3.11s - loss: 0.0398696 - acc: 0.98852575 - batches: 344\n",
      "Epoch 26/30 - 2.97s - loss: 0.039647266 - acc: 0.9885956 - batches: 344\n",
      "Epoch 27/30 - 2.98s - loss: 0.039435517 - acc: 0.98868406 - batches: 344\n",
      "Epoch 28/30 - 3.00s - loss: 0.03923382 - acc: 0.9887356 - batches: 344\n",
      "Epoch 29/30 - 3.03s - loss: 0.039041042 - acc: 0.98878723 - batches: 344\n",
      "Epoch 30/30 - 3.01s - loss: 0.03885669 - acc: 0.9888328 - batches: 344\n",
      "CPU times: user 107 ms, sys: 26.4 ms, total: 134 ms\n",
      "Wall time: 2min 24s\n"
     ]
    }
   ],
   "source": [
    "%%time\n",
    "clf_pipelineModel = clf_pipeline.fit(train)"
   ]
  },
  {
   "cell_type": "code",
   "execution_count": 13,
   "id": "cwf0OM2Oy6Hd",
   "metadata": {
    "id": "cwf0OM2Oy6Hd"
   },
   "outputs": [],
   "source": [
    "preds = clf_pipelineModel.transform(test)"
   ]
  },
  {
   "cell_type": "code",
   "execution_count": 14,
   "id": "jUKamU-50kZi",
   "metadata": {
    "colab": {
     "base_uri": "https://localhost:8080/",
     "height": 206
    },
    "id": "jUKamU-50kZi",
    "outputId": "b2244ed7-fc19-45a5-d410-495de2f29928"
   },
   "outputs": [
    {
     "name": "stderr",
     "output_type": "stream",
     "text": [
      "22/10/20 12:50:16 WARN TaskSetManager: Stage 8 contains a task of very large size (1746 KiB). The maximum recommended task size is 1000 KiB.\n",
      "                                                                                \r"
     ]
    },
    {
     "data": {
      "text/html": [
       "<div>\n",
       "<style scoped>\n",
       "    .dataframe tbody tr th:only-of-type {\n",
       "        vertical-align: middle;\n",
       "    }\n",
       "\n",
       "    .dataframe tbody tr th {\n",
       "        vertical-align: top;\n",
       "    }\n",
       "\n",
       "    .dataframe thead th {\n",
       "        text-align: right;\n",
       "    }\n",
       "</style>\n",
       "<table border=\"1\" class=\"dataframe\">\n",
       "  <thead>\n",
       "    <tr style=\"text-align: right;\">\n",
       "      <th></th>\n",
       "      <th>label</th>\n",
       "      <th>provision</th>\n",
       "      <th>result</th>\n",
       "    </tr>\n",
       "  </thead>\n",
       "  <tbody>\n",
       "    <tr>\n",
       "      <th>0</th>\n",
       "      <td>[waivers, amendments]</td>\n",
       "      <td>(a) No failure or delay by any Agent or any Le...</td>\n",
       "      <td>[waivers, amendments]</td>\n",
       "    </tr>\n",
       "    <tr>\n",
       "      <th>1</th>\n",
       "      <td>[assignments]</td>\n",
       "      <td>(a) Seller, the Agent, each Managing Agent, ea...</td>\n",
       "      <td>[assignments]</td>\n",
       "    </tr>\n",
       "    <tr>\n",
       "      <th>2</th>\n",
       "      <td>[waivers]</td>\n",
       "      <td>(a) Any provision of this Agreement may be wai...</td>\n",
       "      <td>[waivers, amendments]</td>\n",
       "    </tr>\n",
       "    <tr>\n",
       "      <th>3</th>\n",
       "      <td>[notices]</td>\n",
       "      <td>(a) Except where telephonic instructions or no...</td>\n",
       "      <td>[notices]</td>\n",
       "    </tr>\n",
       "    <tr>\n",
       "      <th>4</th>\n",
       "      <td>[governing laws]</td>\n",
       "      <td>(a) THIS AGREEMENT AND EACH OTHER LOAN DOCUMEN...</td>\n",
       "      <td>[governing laws]</td>\n",
       "    </tr>\n",
       "  </tbody>\n",
       "</table>\n",
       "</div>"
      ],
      "text/plain": [
       "                   label                                          provision  \\\n",
       "0  [waivers, amendments]  (a) No failure or delay by any Agent or any Le...   \n",
       "1          [assignments]  (a) Seller, the Agent, each Managing Agent, ea...   \n",
       "2              [waivers]  (a) Any provision of this Agreement may be wai...   \n",
       "3              [notices]  (a) Except where telephonic instructions or no...   \n",
       "4       [governing laws]  (a) THIS AGREEMENT AND EACH OTHER LOAN DOCUMEN...   \n",
       "\n",
       "                  result  \n",
       "0  [waivers, amendments]  \n",
       "1          [assignments]  \n",
       "2  [waivers, amendments]  \n",
       "3              [notices]  \n",
       "4       [governing laws]  "
      ]
     },
     "execution_count": 14,
     "metadata": {},
     "output_type": "execute_result"
    }
   ],
   "source": [
    "preds_df = preds.select('label','provision',\"class.result\").toPandas()\n",
    "preds_df.head()"
   ]
  },
  {
   "cell_type": "code",
   "execution_count": 15,
   "id": "GGIRz-xtaY82",
   "metadata": {
    "colab": {
     "base_uri": "https://localhost:8080/"
    },
    "id": "GGIRz-xtaY82",
    "outputId": "fb6665eb-c758-437b-96cc-06972f5b6265"
   },
   "outputs": [
    {
     "name": "stdout",
     "output_type": "stream",
     "text": [
      "Classification report: \n",
      "               precision    recall  f1-score   support\n",
      "\n",
      "           0       0.87      0.81      0.84       609\n",
      "           1       0.71      0.57      0.63       212\n",
      "           2       0.81      0.78      0.79       334\n",
      "           3       1.00      0.98      0.99       585\n",
      "           4       0.97      0.96      0.97       647\n",
      "           5       0.96      0.98      0.97       248\n",
      "           6       0.99      0.97      0.98       791\n",
      "           7       0.97      0.94      0.95       530\n",
      "           8       0.90      0.81      0.85       285\n",
      "           9       0.96      0.96      0.96       521\n",
      "          10       0.87      0.86      0.86       394\n",
      "          11       0.93      0.92      0.92       346\n",
      "          12       0.88      0.73      0.80       268\n",
      "          13       0.86      0.76      0.81       417\n",
      "          14       0.84      0.70      0.77       230\n",
      "\n",
      "   micro avg       0.92      0.88      0.90      6417\n",
      "   macro avg       0.90      0.85      0.87      6417\n",
      "weighted avg       0.92      0.88      0.90      6417\n",
      " samples avg       0.89      0.89      0.88      6417\n",
      "\n",
      "F1 micro averaging: 0.9007743274527021\n",
      "ROC:  0.9365530227640371\n"
     ]
    }
   ],
   "source": [
    "from sklearn.preprocessing import MultiLabelBinarizer\n",
    "from sklearn.metrics import classification_report\n",
    "from sklearn.metrics import f1_score\n",
    "from sklearn.metrics import roc_auc_score\n",
    "\n",
    "mlb = MultiLabelBinarizer()\n",
    "\n",
    "y_true = mlb.fit_transform(preds_df['label'])\n",
    "y_pred = mlb.fit_transform(preds_df['result'])\n",
    "\n",
    "\n",
    "print(\"Classification report: \\n\", (classification_report(y_true, y_pred)))\n",
    "print(\"F1 micro averaging:\",(f1_score(y_true, y_pred, average='micro')))\n",
    "print(\"ROC: \",(roc_auc_score(y_true, y_pred, average=\"micro\")))\n"
   ]
  },
  {
   "cell_type": "markdown",
   "id": "jWhU1pMUay0I",
   "metadata": {
    "id": "jWhU1pMUay0I"
   },
   "source": [
    "## With RoBerta Embeddings"
   ]
  },
  {
   "cell_type": "markdown",
   "id": "bHVFY_i4H5Gh",
   "metadata": {
    "id": "bHVFY_i4H5Gh"
   },
   "source": [
    "We do not have have any specific Legal Sentence Embeddings, but we can use Legal RoBerta Embeddings and then average them."
   ]
  },
  {
   "cell_type": "code",
   "execution_count": 16,
   "id": "8PG4NNyQdBnG",
   "metadata": {
    "colab": {
     "base_uri": "https://localhost:8080/"
    },
    "id": "8PG4NNyQdBnG",
    "outputId": "ab7a2401-5336-4be4-ddd5-82279776db65"
   },
   "outputs": [
    {
     "name": "stdout",
     "output_type": "stream",
     "text": [
      "roberta_embeddings_legal_roberta_base download started this may take some time.\n",
      "Approximate size to download 447.2 MB\n",
      "[ | ]roberta_embeddings_legal_roberta_base download started this may take some time.\n",
      "Approximate size to download 447.2 MB\n",
      "Download done! Loading the resource.\n",
      "[OK!]\n"
     ]
    }
   ],
   "source": [
    "embeddings = RoBertaEmbeddings.pretrained(\"roberta_embeddings_legal_roberta_base\",\"en\") \\\n",
    "    .setInputCols([\"document\", \"token\"]) \\\n",
    "    .setOutputCol(\"embeddings\") \\\n",
    "    .setMaxSentenceLength(512)"
   ]
  },
  {
   "cell_type": "code",
   "execution_count": 17,
   "id": "zdiCyuc3dBnJ",
   "metadata": {
    "id": "zdiCyuc3dBnJ"
   },
   "outputs": [],
   "source": [
    "document_assembler = nlp.DocumentAssembler() \\\n",
    "    .setInputCol(\"provision\") \\\n",
    "    .setOutputCol(\"document\")\n",
    "\n",
    "tokenizer = nlp.Tokenizer() \\\n",
    "    .setInputCols([\"document\"]) \\\n",
    "    .setOutputCol(\"token\")\n",
    "\n",
    "embeddingsSentence = nlp.SentenceEmbeddings() \\\n",
    "    .setInputCols([\"document\", \"embeddings\"]) \\\n",
    "    .setOutputCol(\"sentence_embeddings\") \\\n",
    "    .setPoolingStrategy(\"AVERAGE\")\n",
    "\n",
    "classsifierdl = nlp.MultiClassifierDLApproach() \\\n",
    "    .setInputCols([\"sentence_embeddings\"]) \\\n",
    "    .setOutputCol(\"class\") \\\n",
    "    .setLabelColumn(\"label\")\\\n",
    "    .setMaxEpochs(6)\\\n",
    "    .setEnableOutputLogs(True)\n",
    "\n",
    "clf_pipeline = Pipeline(\n",
    "    stages = [\n",
    "        document_assembler,\n",
    "        tokenizer,\n",
    "        embeddings,\n",
    "        embeddingsSentence,\n",
    "        classsifierdl\n",
    "    ])"
   ]
  },
  {
   "cell_type": "code",
   "execution_count": 18,
   "id": "7fxOmkTNdBnK",
   "metadata": {
    "colab": {
     "base_uri": "https://localhost:8080/"
    },
    "id": "7fxOmkTNdBnK",
    "outputId": "b0a9148b-5b4c-4569-a2a8-c6e723d6c9b8"
   },
   "outputs": [
    {
     "name": "stderr",
     "output_type": "stream",
     "text": [
      "22/10/20 12:50:56 WARN TaskSetManager: Stage 13 contains a task of very large size (1746 KiB). The maximum recommended task size is 1000 KiB.\n",
      "22/10/20 13:39:36 WARN TaskSetManager: Stage 15 contains a task of very large size (1746 KiB). The maximum recommended task size is 1000 KiB.\n",
      "22/10/20 13:39:40 WARN TaskSetManager: Stage 16 contains a task of very large size (1746 KiB). The maximum recommended task size is 1000 KiB.\n",
      "2022-10-20 14:28:46.988983: I external/org_tensorflow/tensorflow/cc/saved_model/reader.cc:43] Reading SavedModel from: /tmp/760e094711e0_classifier_dl2151115246637280169\n",
      "2022-10-20 14:28:47.618745: I external/org_tensorflow/tensorflow/cc/saved_model/reader.cc:107] Reading meta graph with tags { serve }\n",
      "2022-10-20 14:28:47.618810: I external/org_tensorflow/tensorflow/cc/saved_model/reader.cc:148] Reading SavedModel debug info (if present) from: /tmp/760e094711e0_classifier_dl2151115246637280169\n",
      "2022-10-20 14:28:52.872271: I external/org_tensorflow/tensorflow/cc/saved_model/loader.cc:228] Restoring SavedModel bundle.\n",
      "2022-10-20 14:28:55.523911: I external/org_tensorflow/tensorflow/cc/saved_model/loader.cc:212] Running initialization op on SavedModel bundle at path: /tmp/760e094711e0_classifier_dl2151115246637280169\n",
      "2022-10-20 14:28:57.352967: I external/org_tensorflow/tensorflow/cc/saved_model/loader.cc:301] SavedModel load for tags { serve }; Status: success: OK. Took 10364014 microseconds.\n"
     ]
    },
    {
     "name": "stdout",
     "output_type": "stream",
     "text": [
      "Training started - epochs: 6 - learning_rate: 0.001 - batch_size: 64 - training_examples: 22002 - classes: 15\n",
      "Epoch 1/6 - 8.06s - loss: 0.09549305 - acc: 0.97049695 - batches: 344\n",
      "Epoch 2/6 - 3.04s - loss: 0.039114594 - acc: 0.9887728 - batches: 344\n",
      "Epoch 3/6 - 3.03s - loss: 0.03448456 - acc: 0.9903079 - batches: 344\n",
      "Epoch 4/6 - 3.02s - loss: 0.03188738 - acc: 0.9912162 - batches: 344\n",
      "Epoch 5/6 - 3.11s - loss: 0.030053359 - acc: 0.9919112 - batches: 344\n",
      "Epoch 6/6 - 3.06s - loss: 0.028621674 - acc: 0.99234784 - batches: 344\n",
      "CPU times: user 851 ms, sys: 254 ms, total: 1.11 s\n",
      "Wall time: 1h 38min 50s\n"
     ]
    }
   ],
   "source": [
    "%%time\n",
    "clf_pipelineModel = clf_pipeline.fit(train)"
   ]
  },
  {
   "cell_type": "code",
   "execution_count": 19,
   "id": "Y-YfOWrudBnM",
   "metadata": {
    "id": "Y-YfOWrudBnM"
   },
   "outputs": [],
   "source": [
    "preds = clf_pipelineModel.transform(test)"
   ]
  },
  {
   "cell_type": "code",
   "execution_count": 20,
   "id": "9VfIUz3IdBnN",
   "metadata": {
    "id": "9VfIUz3IdBnN"
   },
   "outputs": [
    {
     "name": "stderr",
     "output_type": "stream",
     "text": [
      "22/10/20 14:29:47 WARN TaskSetManager: Stage 17 contains a task of very large size (1746 KiB). The maximum recommended task size is 1000 KiB.\n",
      "                                                                                \r"
     ]
    }
   ],
   "source": [
    "preds_df = preds.select('provision','label',\"class.result\").toPandas()"
   ]
  },
  {
   "cell_type": "code",
   "execution_count": 21,
   "id": "6KE4YTX9SYAs",
   "metadata": {
    "colab": {
     "base_uri": "https://localhost:8080/",
     "height": 206
    },
    "id": "6KE4YTX9SYAs",
    "outputId": "92d0c44d-9c4e-4c9f-e016-20b94cb03aca"
   },
   "outputs": [
    {
     "data": {
      "text/html": [
       "<div>\n",
       "<style scoped>\n",
       "    .dataframe tbody tr th:only-of-type {\n",
       "        vertical-align: middle;\n",
       "    }\n",
       "\n",
       "    .dataframe tbody tr th {\n",
       "        vertical-align: top;\n",
       "    }\n",
       "\n",
       "    .dataframe thead th {\n",
       "        text-align: right;\n",
       "    }\n",
       "</style>\n",
       "<table border=\"1\" class=\"dataframe\">\n",
       "  <thead>\n",
       "    <tr style=\"text-align: right;\">\n",
       "      <th></th>\n",
       "      <th>provision</th>\n",
       "      <th>label</th>\n",
       "      <th>result</th>\n",
       "    </tr>\n",
       "  </thead>\n",
       "  <tbody>\n",
       "    <tr>\n",
       "      <th>0</th>\n",
       "      <td>(a) No failure or delay by any Agent or any Le...</td>\n",
       "      <td>[waivers, amendments]</td>\n",
       "      <td>[waivers, amendments]</td>\n",
       "    </tr>\n",
       "    <tr>\n",
       "      <th>1</th>\n",
       "      <td>(a) Seller, the Agent, each Managing Agent, ea...</td>\n",
       "      <td>[assignments]</td>\n",
       "      <td>[successors, assigns]</td>\n",
       "    </tr>\n",
       "    <tr>\n",
       "      <th>2</th>\n",
       "      <td>(a) Any provision of this Agreement may be wai...</td>\n",
       "      <td>[waivers]</td>\n",
       "      <td>[waivers]</td>\n",
       "    </tr>\n",
       "    <tr>\n",
       "      <th>3</th>\n",
       "      <td>(a) Except where telephonic instructions or no...</td>\n",
       "      <td>[notices]</td>\n",
       "      <td>[notices]</td>\n",
       "    </tr>\n",
       "    <tr>\n",
       "      <th>4</th>\n",
       "      <td>(a) THIS AGREEMENT AND EACH OTHER LOAN DOCUMEN...</td>\n",
       "      <td>[governing laws]</td>\n",
       "      <td>[governing laws]</td>\n",
       "    </tr>\n",
       "  </tbody>\n",
       "</table>\n",
       "</div>"
      ],
      "text/plain": [
       "                                           provision                  label  \\\n",
       "0  (a) No failure or delay by any Agent or any Le...  [waivers, amendments]   \n",
       "1  (a) Seller, the Agent, each Managing Agent, ea...          [assignments]   \n",
       "2  (a) Any provision of this Agreement may be wai...              [waivers]   \n",
       "3  (a) Except where telephonic instructions or no...              [notices]   \n",
       "4  (a) THIS AGREEMENT AND EACH OTHER LOAN DOCUMEN...       [governing laws]   \n",
       "\n",
       "                  result  \n",
       "0  [waivers, amendments]  \n",
       "1  [successors, assigns]  \n",
       "2              [waivers]  \n",
       "3              [notices]  \n",
       "4       [governing laws]  "
      ]
     },
     "execution_count": 21,
     "metadata": {},
     "output_type": "execute_result"
    }
   ],
   "source": [
    "preds_df.head()"
   ]
  },
  {
   "cell_type": "code",
   "execution_count": 22,
   "id": "GJKWrIpOYLW_",
   "metadata": {
    "colab": {
     "base_uri": "https://localhost:8080/"
    },
    "id": "GJKWrIpOYLW_",
    "outputId": "42e1aa50-6fb9-45aa-fcf9-95bc8da4bb2d"
   },
   "outputs": [
    {
     "name": "stdout",
     "output_type": "stream",
     "text": [
      "Classification report: \n",
      "               precision    recall  f1-score   support\n",
      "\n",
      "           0       0.92      0.84      0.88       609\n",
      "           1       0.88      0.50      0.63       212\n",
      "           2       0.80      0.89      0.84       334\n",
      "           3       1.00      0.98      0.99       585\n",
      "           4       0.98      0.99      0.99       647\n",
      "           5       0.99      0.96      0.98       248\n",
      "           6       1.00      0.99      0.99       791\n",
      "           7       0.98      0.99      0.99       530\n",
      "           8       0.89      0.95      0.92       285\n",
      "           9       0.99      0.98      0.99       521\n",
      "          10       0.83      0.93      0.88       394\n",
      "          11       0.97      0.86      0.92       346\n",
      "          12       0.94      0.82      0.87       268\n",
      "          13       0.94      0.74      0.83       417\n",
      "          14       0.84      0.82      0.83       230\n",
      "\n",
      "   micro avg       0.94      0.91      0.93      6417\n",
      "   macro avg       0.93      0.88      0.90      6417\n",
      "weighted avg       0.95      0.91      0.92      6417\n",
      " samples avg       0.92      0.92      0.92      6417\n",
      "\n",
      "F1 micro averaging: 0.9263141178338893\n",
      "ROC:  0.9522462692562186\n"
     ]
    }
   ],
   "source": [
    "from sklearn.preprocessing import MultiLabelBinarizer\n",
    "from sklearn.metrics import classification_report\n",
    "from sklearn.metrics import f1_score\n",
    "from sklearn.metrics import roc_auc_score\n",
    "\n",
    "mlb = MultiLabelBinarizer()\n",
    "\n",
    "y_true = mlb.fit_transform(preds_df['label'])\n",
    "y_pred = mlb.fit_transform(preds_df['result'])\n",
    "\n",
    "\n",
    "print(\"Classification report: \\n\", (classification_report(y_true, y_pred)))\n",
    "print(\"F1 micro averaging:\",(f1_score(y_true, y_pred, average='micro')))\n",
    "print(\"ROC: \",(roc_auc_score(y_true, y_pred, average=\"micro\")))\n"
   ]
  },
  {
   "cell_type": "markdown",
   "id": "Zsap0xaejFCX",
   "metadata": {
    "id": "Zsap0xaejFCX"
   },
   "source": [
    "### Saving & loading back the trained model"
   ]
  },
  {
   "cell_type": "code",
   "execution_count": 23,
   "id": "BQoJ_DHSjFCX",
   "metadata": {
    "colab": {
     "base_uri": "https://localhost:8080/"
    },
    "id": "BQoJ_DHSjFCX",
    "outputId": "96086e70-bc58-487a-8bfa-cf85146dd375"
   },
   "outputs": [
    {
     "data": {
      "text/plain": [
       "[DocumentAssembler_ecd5ee3dcf58,\n",
       " REGEX_TOKENIZER_6f0a2852ed26,\n",
       " ROBERTA_EMBEDDINGS_b915dff90901,\n",
       " SentenceEmbeddings_4ba45b7f548d,\n",
       " MultiClassifierDLModel_7a28940374e2]"
      ]
     },
     "execution_count": 23,
     "metadata": {},
     "output_type": "execute_result"
    }
   ],
   "source": [
    "clf_pipelineModel.stages"
   ]
  },
  {
   "cell_type": "code",
   "execution_count": 24,
   "id": "3hKjHocZjFCY",
   "metadata": {
    "id": "3hKjHocZjFCY"
   },
   "outputs": [],
   "source": [
    "clf_pipelineModel.stages[-1].write().overwrite().save('MultilabelClfRoBerta')"
   ]
  },
  {
   "cell_type": "code",
   "execution_count": 25,
   "id": "cXtTavvVjFCY",
   "metadata": {
    "id": "cXtTavvVjFCY"
   },
   "outputs": [],
   "source": [
    "# Load back  saved Multilabel Classifier Model\n",
    "MultilabelClfModel = nlp.MultiClassifierDLModel.load('MultilabelClfRoBerta')"
   ]
  },
  {
   "cell_type": "code",
   "execution_count": 26,
   "id": "sxWzLYSgjFCY",
   "metadata": {
    "id": "sxWzLYSgjFCY"
   },
   "outputs": [],
   "source": [
    "ld_pipeline = Pipeline(stages=[document_assembler, tokenizer, embeddings, embeddingsSentence, MultilabelClfModel])\n",
    "ld_pipeline_model = ld_pipeline.fit(spark.createDataFrame([['']]).toDF(\"provision\"))"
   ]
  },
  {
   "cell_type": "code",
   "execution_count": 27,
   "id": "FKe7kDccjFCY",
   "metadata": {
    "id": "FKe7kDccjFCY"
   },
   "outputs": [],
   "source": [
    "# Apply Model Transform to testData\n",
    "ld_preds = ld_pipeline_model.transform(test)"
   ]
  },
  {
   "cell_type": "code",
   "execution_count": 28,
   "id": "pnZwf9MejFCY",
   "metadata": {
    "id": "pnZwf9MejFCY"
   },
   "outputs": [
    {
     "name": "stderr",
     "output_type": "stream",
     "text": [
      "22/10/20 14:43:32 WARN TaskSetManager: Stage 23 contains a task of very large size (1746 KiB). The maximum recommended task size is 1000 KiB.\n",
      "                                                                                \r"
     ]
    }
   ],
   "source": [
    "ld_preds_df = ld_preds.select('provision','label',\"class.result\").toPandas()"
   ]
  },
  {
   "cell_type": "code",
   "execution_count": 29,
   "id": "rWarQRPBjFCZ",
   "metadata": {
    "colab": {
     "base_uri": "https://localhost:8080/",
     "height": 363
    },
    "id": "rWarQRPBjFCZ",
    "outputId": "367de4f1-2733-4355-8cda-2f8d9b1eaf0b"
   },
   "outputs": [
    {
     "data": {
      "text/html": [
       "<div>\n",
       "<style scoped>\n",
       "    .dataframe tbody tr th:only-of-type {\n",
       "        vertical-align: middle;\n",
       "    }\n",
       "\n",
       "    .dataframe tbody tr th {\n",
       "        vertical-align: top;\n",
       "    }\n",
       "\n",
       "    .dataframe thead th {\n",
       "        text-align: right;\n",
       "    }\n",
       "</style>\n",
       "<table border=\"1\" class=\"dataframe\">\n",
       "  <thead>\n",
       "    <tr style=\"text-align: right;\">\n",
       "      <th></th>\n",
       "      <th>provision</th>\n",
       "      <th>label</th>\n",
       "      <th>result</th>\n",
       "    </tr>\n",
       "  </thead>\n",
       "  <tbody>\n",
       "    <tr>\n",
       "      <th>0</th>\n",
       "      <td>(a) No failure or delay by any Agent or any Le...</td>\n",
       "      <td>[waivers, amendments]</td>\n",
       "      <td>[waivers, amendments]</td>\n",
       "    </tr>\n",
       "    <tr>\n",
       "      <th>1</th>\n",
       "      <td>(a) Seller, the Agent, each Managing Agent, ea...</td>\n",
       "      <td>[assignments]</td>\n",
       "      <td>[successors, assigns]</td>\n",
       "    </tr>\n",
       "    <tr>\n",
       "      <th>2</th>\n",
       "      <td>(a) Any provision of this Agreement may be wai...</td>\n",
       "      <td>[waivers]</td>\n",
       "      <td>[waivers]</td>\n",
       "    </tr>\n",
       "    <tr>\n",
       "      <th>3</th>\n",
       "      <td>(a) Except where telephonic instructions or no...</td>\n",
       "      <td>[notices]</td>\n",
       "      <td>[notices]</td>\n",
       "    </tr>\n",
       "    <tr>\n",
       "      <th>4</th>\n",
       "      <td>(a) THIS AGREEMENT AND EACH OTHER LOAN DOCUMEN...</td>\n",
       "      <td>[governing laws]</td>\n",
       "      <td>[governing laws]</td>\n",
       "    </tr>\n",
       "    <tr>\n",
       "      <th>5</th>\n",
       "      <td>(a) To induce the other parties hereto to ente...</td>\n",
       "      <td>[representations, warranties]</td>\n",
       "      <td>[representations]</td>\n",
       "    </tr>\n",
       "    <tr>\n",
       "      <th>6</th>\n",
       "      <td>A counterpart original of this Amendment duly ...</td>\n",
       "      <td>[amendments]</td>\n",
       "      <td>[]</td>\n",
       "    </tr>\n",
       "    <tr>\n",
       "      <th>7</th>\n",
       "      <td>Advisor represents that Advisor’s services und...</td>\n",
       "      <td>[representations]</td>\n",
       "      <td>[representations]</td>\n",
       "    </tr>\n",
       "    <tr>\n",
       "      <th>8</th>\n",
       "      <td>Agent may assign, indorse or transfer any inst...</td>\n",
       "      <td>[assignments]</td>\n",
       "      <td>[]</td>\n",
       "    </tr>\n",
       "    <tr>\n",
       "      <th>9</th>\n",
       "      <td>Agreement may be amended from time to time by ...</td>\n",
       "      <td>[amendments]</td>\n",
       "      <td>[amendments]</td>\n",
       "    </tr>\n",
       "  </tbody>\n",
       "</table>\n",
       "</div>"
      ],
      "text/plain": [
       "                                           provision  \\\n",
       "0  (a) No failure or delay by any Agent or any Le...   \n",
       "1  (a) Seller, the Agent, each Managing Agent, ea...   \n",
       "2  (a) Any provision of this Agreement may be wai...   \n",
       "3  (a) Except where telephonic instructions or no...   \n",
       "4  (a) THIS AGREEMENT AND EACH OTHER LOAN DOCUMEN...   \n",
       "5  (a) To induce the other parties hereto to ente...   \n",
       "6  A counterpart original of this Amendment duly ...   \n",
       "7  Advisor represents that Advisor’s services und...   \n",
       "8  Agent may assign, indorse or transfer any inst...   \n",
       "9  Agreement may be amended from time to time by ...   \n",
       "\n",
       "                           label                 result  \n",
       "0          [waivers, amendments]  [waivers, amendments]  \n",
       "1                  [assignments]  [successors, assigns]  \n",
       "2                      [waivers]              [waivers]  \n",
       "3                      [notices]              [notices]  \n",
       "4               [governing laws]       [governing laws]  \n",
       "5  [representations, warranties]      [representations]  \n",
       "6                   [amendments]                     []  \n",
       "7              [representations]      [representations]  \n",
       "8                  [assignments]                     []  \n",
       "9                   [amendments]           [amendments]  "
      ]
     },
     "execution_count": 29,
     "metadata": {},
     "output_type": "execute_result"
    }
   ],
   "source": [
    "ld_preds_df.head(10)"
   ]
  },
  {
   "cell_type": "markdown",
   "id": "OxcsSYj_wA0p",
   "metadata": {
    "id": "OxcsSYj_wA0p"
   },
   "source": [
    "# Multiclass classifier training"
   ]
  },
  {
   "cell_type": "markdown",
   "id": "5qFM3Zueb50G",
   "metadata": {
    "id": "5qFM3Zueb50G"
   },
   "source": [
    "## Loading the data"
   ]
  },
  {
   "cell_type": "code",
   "execution_count": 30,
   "id": "NcP97dzbM7yn",
   "metadata": {
    "id": "NcP97dzbM7yn"
   },
   "outputs": [],
   "source": [
    "! wget -q https://raw.githubusercontent.com/JohnSnowLabs/spark-nlp-workshop/master/tutorials/Certification_Trainings_JSL/Legal/data/finance_clf_data.csv"
   ]
  },
  {
   "cell_type": "code",
   "execution_count": 31,
   "id": "FtXdRXNEb50G",
   "metadata": {
    "id": "FtXdRXNEb50G"
   },
   "outputs": [],
   "source": [
    "df = pd.read_csv('finance_clf_data.csv')"
   ]
  },
  {
   "cell_type": "code",
   "execution_count": 32,
   "id": "SWqOIj_pfEU5",
   "metadata": {
    "colab": {
     "base_uri": "https://localhost:8080/",
     "height": 206
    },
    "id": "SWqOIj_pfEU5",
    "outputId": "2af839ae-f563-41d1-e072-87acce5fa6eb"
   },
   "outputs": [
    {
     "data": {
      "text/html": [
       "<div>\n",
       "<style scoped>\n",
       "    .dataframe tbody tr th:only-of-type {\n",
       "        vertical-align: middle;\n",
       "    }\n",
       "\n",
       "    .dataframe tbody tr th {\n",
       "        vertical-align: top;\n",
       "    }\n",
       "\n",
       "    .dataframe thead th {\n",
       "        text-align: right;\n",
       "    }\n",
       "</style>\n",
       "<table border=\"1\" class=\"dataframe\">\n",
       "  <thead>\n",
       "    <tr style=\"text-align: right;\">\n",
       "      <th></th>\n",
       "      <th>text</th>\n",
       "      <th>label</th>\n",
       "      <th>len</th>\n",
       "    </tr>\n",
       "  </thead>\n",
       "  <tbody>\n",
       "    <tr>\n",
       "      <th>0</th>\n",
       "      <td>\\nOperating\\nLeases\\n \\nOn\\nJanuary 1 2010 th...</td>\n",
       "      <td>financial_statements</td>\n",
       "      <td>465</td>\n",
       "    </tr>\n",
       "    <tr>\n",
       "      <th>1</th>\n",
       "      <td>the Exercise Price and is exercisable for fiv...</td>\n",
       "      <td>financial_statements</td>\n",
       "      <td>406</td>\n",
       "    </tr>\n",
       "    <tr>\n",
       "      <th>2</th>\n",
       "      <td>Income Taxes\\n69\\nTable of Contents\\nWe accoun...</td>\n",
       "      <td>financial_statements</td>\n",
       "      <td>843</td>\n",
       "    </tr>\n",
       "    <tr>\n",
       "      <th>3</th>\n",
       "      <td>Invoice2go\\n has not been required to maintain...</td>\n",
       "      <td>risk_factors</td>\n",
       "      <td>474</td>\n",
       "    </tr>\n",
       "    <tr>\n",
       "      <th>4</th>\n",
       "      <td>A\\nB\\nC\\nPlan Category\\nNumber of Securitiesto...</td>\n",
       "      <td>equity</td>\n",
       "      <td>358</td>\n",
       "    </tr>\n",
       "  </tbody>\n",
       "</table>\n",
       "</div>"
      ],
      "text/plain": [
       "                                                text                 label  \\\n",
       "0   \\nOperating\\nLeases\\n \\nOn\\nJanuary 1 2010 th...  financial_statements   \n",
       "1   the Exercise Price and is exercisable for fiv...  financial_statements   \n",
       "2  Income Taxes\\n69\\nTable of Contents\\nWe accoun...  financial_statements   \n",
       "3  Invoice2go\\n has not been required to maintain...          risk_factors   \n",
       "4  A\\nB\\nC\\nPlan Category\\nNumber of Securitiesto...                equity   \n",
       "\n",
       "   len  \n",
       "0  465  \n",
       "1  406  \n",
       "2  843  \n",
       "3  474  \n",
       "4  358  "
      ]
     },
     "execution_count": 32,
     "metadata": {},
     "output_type": "execute_result"
    }
   ],
   "source": [
    "df.head()"
   ]
  },
  {
   "cell_type": "code",
   "execution_count": 33,
   "id": "Ntfw_obpuf4A",
   "metadata": {
    "colab": {
     "base_uri": "https://localhost:8080/"
    },
    "id": "Ntfw_obpuf4A",
    "outputId": "02fec47d-eed5-4fbf-bb81-9517ff9641e1"
   },
   "outputs": [
    {
     "data": {
      "text/plain": [
       "risk_factors               3831\n",
       "financial_statements       3726\n",
       "business                   2002\n",
       "financial_conditions        702\n",
       "form_10k_summary            491\n",
       "executives_compensation     304\n",
       "controls_procedures         277\n",
       "equity                      223\n",
       "market_risk                 204\n",
       "executives                  161\n",
       "legal_proceedings            94\n",
       "security_ownership           84\n",
       "properties                   81\n",
       "exhibits                     77\n",
       "Name: label, dtype: int64"
      ]
     },
     "execution_count": 33,
     "metadata": {},
     "output_type": "execute_result"
    }
   ],
   "source": [
    "df['label'].value_counts()"
   ]
  },
  {
   "cell_type": "code",
   "execution_count": 34,
   "id": "Cmc91NU8b50H",
   "metadata": {
    "id": "Cmc91NU8b50H"
   },
   "outputs": [],
   "source": [
    "data = spark.createDataFrame(df)\n",
    "\n",
    "train, test = data.randomSplit([0.8, 0.2], seed = 100)"
   ]
  },
  {
   "cell_type": "code",
   "execution_count": 35,
   "id": "WEcXKSQTb50H",
   "metadata": {
    "colab": {
     "base_uri": "https://localhost:8080/"
    },
    "id": "WEcXKSQTb50H",
    "outputId": "ca299095-25ef-470b-b511-69ec223003fc"
   },
   "outputs": [
    {
     "name": "stderr",
     "output_type": "stream",
     "text": [
      "22/10/20 15:01:30 WARN TaskSetManager: Stage 24 contains a task of very large size (1279 KiB). The maximum recommended task size is 1000 KiB.\n"
     ]
    },
    {
     "name": "stdout",
     "output_type": "stream",
     "text": [
      "+--------------------+-----+\n",
      "|               label|count|\n",
      "+--------------------+-----+\n",
      "|        risk_factors| 3064|\n",
      "|financial_statements| 2966|\n",
      "|            business| 1597|\n",
      "|financial_conditions|  541|\n",
      "|    form_10k_summary|  385|\n",
      "|executives_compen...|  241|\n",
      "| controls_procedures|  218|\n",
      "|              equity|  173|\n",
      "|         market_risk|  159|\n",
      "|          executives|  128|\n",
      "|   legal_proceedings|   77|\n",
      "|  security_ownership|   66|\n",
      "|          properties|   66|\n",
      "|            exhibits|   65|\n",
      "+--------------------+-----+\n",
      "\n"
     ]
    }
   ],
   "source": [
    "from pyspark.sql.functions import col\n",
    "\n",
    "train.groupBy(\"label\") \\\n",
    "    .count() \\\n",
    "    .orderBy(col(\"count\").desc()) \\\n",
    "    .show()"
   ]
  },
  {
   "cell_type": "code",
   "execution_count": 36,
   "id": "lDV9dGbRb50H",
   "metadata": {
    "colab": {
     "base_uri": "https://localhost:8080/"
    },
    "id": "lDV9dGbRb50H",
    "outputId": "b5ec5700-deda-439c-e9b6-87cd2a7ecf8d"
   },
   "outputs": [
    {
     "name": "stderr",
     "output_type": "stream",
     "text": [
      "22/10/20 15:01:34 WARN TaskSetManager: Stage 26 contains a task of very large size (1279 KiB). The maximum recommended task size is 1000 KiB.\n"
     ]
    },
    {
     "name": "stdout",
     "output_type": "stream",
     "text": [
      "+--------------------+-----+\n",
      "|               label|count|\n",
      "+--------------------+-----+\n",
      "|        risk_factors|  767|\n",
      "|financial_statements|  760|\n",
      "|            business|  405|\n",
      "|financial_conditions|  161|\n",
      "|    form_10k_summary|  106|\n",
      "|executives_compen...|   63|\n",
      "| controls_procedures|   59|\n",
      "|              equity|   50|\n",
      "|         market_risk|   45|\n",
      "|          executives|   33|\n",
      "|  security_ownership|   18|\n",
      "|   legal_proceedings|   17|\n",
      "|          properties|   15|\n",
      "|            exhibits|   12|\n",
      "+--------------------+-----+\n",
      "\n"
     ]
    }
   ],
   "source": [
    "from pyspark.sql.functions import col\n",
    "\n",
    "test.groupBy(\"label\") \\\n",
    "    .count() \\\n",
    "    .orderBy(col(\"count\").desc()) \\\n",
    "    .show()"
   ]
  },
  {
   "cell_type": "markdown",
   "id": "hrFio0xccT7J",
   "metadata": {
    "id": "hrFio0xccT7J"
   },
   "source": [
    " ## With Universal Encoder"
   ]
  },
  {
   "cell_type": "code",
   "execution_count": 37,
   "id": "o0muwDJ5cT7K",
   "metadata": {
    "colab": {
     "base_uri": "https://localhost:8080/"
    },
    "id": "o0muwDJ5cT7K",
    "outputId": "1ca4e859-b817-4ef8-dff0-dc7a1466e9a7"
   },
   "outputs": [
    {
     "name": "stdout",
     "output_type": "stream",
     "text": [
      "tfhub_use download started this may take some time.\n",
      "Approximate size to download 923.7 MB\n",
      "[OK!]\n"
     ]
    }
   ],
   "source": [
    "document_assembler = nlp.DocumentAssembler() \\\n",
    "      .setInputCol(\"text\") \\\n",
    "      .setOutputCol(\"document\") \n",
    "\n",
    "embeddings = nlp.UniversalSentenceEncoder.pretrained() \\\n",
    "      .setInputCols(\"document\") \\\n",
    "      .setOutputCol(\"sentence_embeddings\")\n",
    "\n",
    "classsifierdl = legal.ClassifierDLApproach()\\\n",
    "      .setInputCols([\"sentence_embeddings\"])\\\n",
    "      .setOutputCol(\"class\")\\\n",
    "      .setLabelColumn(\"label\")\\\n",
    "      .setMaxEpochs(30)\\\n",
    "      .setEnableOutputLogs(True)\n",
    "\n",
    "clf_pipeline = Pipeline(\n",
    "    stages = [\n",
    "        document_assembler,\n",
    "        embeddings,\n",
    "        classsifierdl\n",
    "    ])"
   ]
  },
  {
   "cell_type": "code",
   "execution_count": 38,
   "id": "9Vb2VqzucT7M",
   "metadata": {
    "id": "9Vb2VqzucT7M"
   },
   "outputs": [
    {
     "name": "stderr",
     "output_type": "stream",
     "text": [
      "22/10/20 15:02:05 WARN TaskSetManager: Stage 28 contains a task of very large size (1279 KiB). The maximum recommended task size is 1000 KiB.\n",
      "22/10/20 15:02:07 WARN TaskSetManager: Stage 31 contains a task of very large size (1279 KiB). The maximum recommended task size is 1000 KiB.\n",
      "2022-10-20 15:02:10.806660: I external/org_tensorflow/tensorflow/cc/saved_model/reader.cc:43] Reading SavedModel from: /tmp/0b935a88dbf5_classifier_dl3788460967414782246\n",
      "2022-10-20 15:02:10.962436: I external/org_tensorflow/tensorflow/cc/saved_model/reader.cc:107] Reading meta graph with tags { serve }\n",
      "2022-10-20 15:02:10.962503: I external/org_tensorflow/tensorflow/cc/saved_model/reader.cc:148] Reading SavedModel debug info (if present) from: /tmp/0b935a88dbf5_classifier_dl3788460967414782246\n",
      "2022-10-20 15:02:11.855807: I external/org_tensorflow/tensorflow/cc/saved_model/loader.cc:228] Restoring SavedModel bundle.\n",
      "2022-10-20 15:02:13.375618: I external/org_tensorflow/tensorflow/cc/saved_model/loader.cc:212] Running initialization op on SavedModel bundle at path: /tmp/0b935a88dbf5_classifier_dl3788460967414782246\n",
      "2022-10-20 15:02:13.748298: I external/org_tensorflow/tensorflow/cc/saved_model/loader.cc:301] SavedModel load for tags { serve }; Status: success: OK. Took 2941660 microseconds.\n"
     ]
    },
    {
     "name": "stdout",
     "output_type": "stream",
     "text": [
      "Training started - epochs: 30 - learning_rate: 0.005 - batch_size: 64 - training_examples: 9746 - classes: 14\n",
      "Epoch 1/30 - 1.30s - loss: 338.58203 - acc: 0.5773711 - batches: 153\n",
      "Epoch 2/30 - 0.67s - loss: 323.76065 - acc: 0.683925 - batches: 153\n",
      "Epoch 3/30 - 0.66s - loss: 322.3374 - acc: 0.6934393 - batches: 153\n",
      "Epoch 4/30 - 0.66s - loss: 321.29047 - acc: 0.6990931 - batches: 153\n",
      "Epoch 5/30 - 0.66s - loss: 319.76938 - acc: 0.70639163 - batches: 153\n",
      "Epoch 6/30 - 0.70s - loss: 319.6436 - acc: 0.70875597 - batches: 153\n",
      "Epoch 7/30 - 0.67s - loss: 319.4949 - acc: 0.71019506 - batches: 153\n",
      "Epoch 8/30 - 0.67s - loss: 319.35 - acc: 0.71173704 - batches: 153\n",
      "Epoch 9/30 - 0.69s - loss: 319.24713 - acc: 0.7126622 - batches: 153\n",
      "Epoch 10/30 - 0.69s - loss: 319.20343 - acc: 0.7130734 - batches: 153\n",
      "Epoch 11/30 - 0.69s - loss: 319.19696 - acc: 0.71338177 - batches: 153\n",
      "Epoch 12/30 - 0.70s - loss: 319.21097 - acc: 0.71420413 - batches: 153\n",
      "Epoch 13/30 - 0.70s - loss: 319.22702 - acc: 0.7152321 - batches: 153\n",
      "Epoch 14/30 - 0.71s - loss: 319.2413 - acc: 0.7156433 - batches: 153\n",
      "Epoch 15/30 - 0.70s - loss: 319.254 - acc: 0.71605444 - batches: 153\n",
      "Epoch 16/30 - 0.68s - loss: 319.26617 - acc: 0.71636283 - batches: 153\n",
      "Epoch 17/30 - 0.69s - loss: 319.28046 - acc: 0.71677405 - batches: 153\n",
      "Epoch 18/30 - 0.68s - loss: 319.30063 - acc: 0.7171852 - batches: 153\n",
      "Epoch 19/30 - 0.65s - loss: 319.32642 - acc: 0.71739084 - batches: 153\n",
      "Epoch 20/30 - 0.65s - loss: 319.3537 - acc: 0.717802 - batches: 153\n",
      "Epoch 21/30 - 0.65s - loss: 319.38052 - acc: 0.71800756 - batches: 153\n",
      "Epoch 22/30 - 0.65s - loss: 319.40723 - acc: 0.7182132 - batches: 153\n",
      "Epoch 23/30 - 0.65s - loss: 319.4355 - acc: 0.71862435 - batches: 153\n",
      "Epoch 24/30 - 0.67s - loss: 319.45782 - acc: 0.7191383 - batches: 153\n",
      "Epoch 25/30 - 0.66s - loss: 319.47766 - acc: 0.71934396 - batches: 153\n",
      "Epoch 26/30 - 0.68s - loss: 319.49335 - acc: 0.71954954 - batches: 153\n",
      "Epoch 27/30 - 0.66s - loss: 319.5026 - acc: 0.71965235 - batches: 153\n",
      "Epoch 28/30 - 0.66s - loss: 319.50922 - acc: 0.7197551 - batches: 153\n",
      "Epoch 29/30 - 0.68s - loss: 319.51144 - acc: 0.7199607 - batches: 153\n",
      "Epoch 30/30 - 0.66s - loss: 319.51157 - acc: 0.7200635 - batches: 153\n"
     ]
    }
   ],
   "source": [
    "clf_pipelineModel = clf_pipeline.fit(train)"
   ]
  },
  {
   "cell_type": "code",
   "execution_count": 39,
   "id": "jwlOFwwacT7O",
   "metadata": {
    "id": "jwlOFwwacT7O"
   },
   "outputs": [],
   "source": [
    "preds = clf_pipelineModel.transform(test)"
   ]
  },
  {
   "cell_type": "code",
   "execution_count": 40,
   "id": "ft1vm_0fcT7O",
   "metadata": {
    "colab": {
     "base_uri": "https://localhost:8080/",
     "height": 206
    },
    "id": "ft1vm_0fcT7O",
    "outputId": "c635ce3f-3b9f-443c-8c22-8dc440a43927"
   },
   "outputs": [
    {
     "name": "stderr",
     "output_type": "stream",
     "text": [
      "22/10/20 15:03:18 WARN TaskSetManager: Stage 32 contains a task of very large size (1279 KiB). The maximum recommended task size is 1000 KiB.\n",
      "                                                                                \r"
     ]
    },
    {
     "data": {
      "text/html": [
       "<div>\n",
       "<style scoped>\n",
       "    .dataframe tbody tr th:only-of-type {\n",
       "        vertical-align: middle;\n",
       "    }\n",
       "\n",
       "    .dataframe tbody tr th {\n",
       "        vertical-align: top;\n",
       "    }\n",
       "\n",
       "    .dataframe thead th {\n",
       "        text-align: right;\n",
       "    }\n",
       "</style>\n",
       "<table border=\"1\" class=\"dataframe\">\n",
       "  <thead>\n",
       "    <tr style=\"text-align: right;\">\n",
       "      <th></th>\n",
       "      <th>label</th>\n",
       "      <th>text</th>\n",
       "      <th>result</th>\n",
       "    </tr>\n",
       "  </thead>\n",
       "  <tbody>\n",
       "    <tr>\n",
       "      <th>0</th>\n",
       "      <td>risk_factors</td>\n",
       "      <td>\\n\\n \\n\\n\\nOn July 1 2020 we entered into the ...</td>\n",
       "      <td>[financial_statements]</td>\n",
       "    </tr>\n",
       "    <tr>\n",
       "      <th>1</th>\n",
       "      <td>financial_statements</td>\n",
       "      <td>\\n \\n\\n\\nIdentification and treatment of contr...</td>\n",
       "      <td>[financial_statements]</td>\n",
       "    </tr>\n",
       "    <tr>\n",
       "      <th>2</th>\n",
       "      <td>form_10k_summary</td>\n",
       "      <td>\\n \\n \\n \\n \\n \\n \\n \\n \\n \\n \\n \\n \\n \\n \\n20...</td>\n",
       "      <td>[financial_statements]</td>\n",
       "    </tr>\n",
       "    <tr>\n",
       "      <th>3</th>\n",
       "      <td>financial_statements</td>\n",
       "      <td>\\n\\n\\nCash \\n 3 \\n\\nReceivables \\n 10 \\n\\nOth...</td>\n",
       "      <td>[financial_statements]</td>\n",
       "    </tr>\n",
       "    <tr>\n",
       "      <th>4</th>\n",
       "      <td>form_10k_summary</td>\n",
       "      <td>\\n \\n \\n \\n \\n \\n \\n \\n \\n\\n\\n\\nGranted\\n\\n \\...</td>\n",
       "      <td>[financial_statements]</td>\n",
       "    </tr>\n",
       "  </tbody>\n",
       "</table>\n",
       "</div>"
      ],
      "text/plain": [
       "                  label                                               text  \\\n",
       "0          risk_factors  \\n\\n \\n\\n\\nOn July 1 2020 we entered into the ...   \n",
       "1  financial_statements  \\n \\n\\n\\nIdentification and treatment of contr...   \n",
       "2      form_10k_summary  \\n \\n \\n \\n \\n \\n \\n \\n \\n \\n \\n \\n \\n \\n \\n20...   \n",
       "3  financial_statements   \\n\\n\\nCash \\n 3 \\n\\nReceivables \\n 10 \\n\\nOth...   \n",
       "4      form_10k_summary   \\n \\n \\n \\n \\n \\n \\n \\n \\n\\n\\n\\nGranted\\n\\n \\...   \n",
       "\n",
       "                   result  \n",
       "0  [financial_statements]  \n",
       "1  [financial_statements]  \n",
       "2  [financial_statements]  \n",
       "3  [financial_statements]  \n",
       "4  [financial_statements]  "
      ]
     },
     "execution_count": 40,
     "metadata": {},
     "output_type": "execute_result"
    }
   ],
   "source": [
    "preds_df = preds.select('label','text',\"class.result\").toPandas()\n",
    "preds_df.head()"
   ]
  },
  {
   "cell_type": "code",
   "execution_count": 41,
   "id": "Oo0X1tyacT7P",
   "metadata": {
    "id": "Oo0X1tyacT7P"
   },
   "outputs": [],
   "source": [
    "# The result is an array since in Spark NLP you can have multiple sentences.\n",
    "# Let's explode the array and get the item(s) inside of result column out\n",
    "preds_df['result'] = preds_df['result'].apply(lambda x : x[0])"
   ]
  },
  {
   "cell_type": "code",
   "execution_count": 42,
   "id": "VOvxSG6Afz5d",
   "metadata": {
    "colab": {
     "base_uri": "https://localhost:8080/"
    },
    "id": "VOvxSG6Afz5d",
    "outputId": "01f501b0-6d5e-474e-faa7-5435cb45dfea"
   },
   "outputs": [
    {
     "name": "stdout",
     "output_type": "stream",
     "text": [
      "                         precision    recall  f1-score   support\n",
      "\n",
      "               business       0.70      0.83      0.76       405\n",
      "    controls_procedures       0.00      0.00      0.00        59\n",
      "                 equity       0.00      0.00      0.00        50\n",
      "             executives       0.00      0.00      0.00        33\n",
      "executives_compensation       0.00      0.00      0.00        63\n",
      "               exhibits       0.00      0.00      0.00        12\n",
      "   financial_conditions       0.00      0.00      0.00       161\n",
      "   financial_statements       0.62      0.94      0.75       760\n",
      "       form_10k_summary       0.00      0.00      0.00       106\n",
      "      legal_proceedings       0.00      0.00      0.00        17\n",
      "            market_risk       0.00      0.00      0.00        45\n",
      "             properties       0.00      0.00      0.00        15\n",
      "           risk_factors       0.77      0.89      0.83       767\n",
      "     security_ownership       0.00      0.00      0.00        18\n",
      "\n",
      "               accuracy                           0.69      2511\n",
      "              macro avg       0.15      0.19      0.17      2511\n",
      "           weighted avg       0.54      0.69      0.60      2511\n",
      "\n"
     ]
    }
   ],
   "source": [
    "# We are going to use sklearn to evalute the results on test dataset\n",
    "from sklearn.metrics import classification_report\n",
    "\n",
    "print (classification_report(preds_df['label'], preds_df['result']))"
   ]
  },
  {
   "cell_type": "markdown",
   "id": "IHzIfMSuUgiD",
   "metadata": {
    "id": "IHzIfMSuUgiD"
   },
   "source": [
    "### Saving & loading back the trained model"
   ]
  },
  {
   "cell_type": "code",
   "execution_count": 43,
   "id": "r5Tec2WwUhP1",
   "metadata": {
    "colab": {
     "base_uri": "https://localhost:8080/"
    },
    "id": "r5Tec2WwUhP1",
    "outputId": "e322e3ba-b01e-4ece-a070-91bc35704f19"
   },
   "outputs": [
    {
     "data": {
      "text/plain": [
       "[DocumentAssembler_5ea11b14148e,\n",
       " UNIVERSAL_SENTENCE_ENCODER_4de71669b7ec,\n",
       " LegalClassifierDLModel_5f7c04889286]"
      ]
     },
     "execution_count": 43,
     "metadata": {},
     "output_type": "execute_result"
    }
   ],
   "source": [
    "clf_pipelineModel.stages"
   ]
  },
  {
   "cell_type": "code",
   "execution_count": 44,
   "id": "4hjFsxVsUps_",
   "metadata": {
    "id": "4hjFsxVsUps_"
   },
   "outputs": [],
   "source": [
    "clf_pipelineModel.stages[-1].write().overwrite().save('Clf_Use')"
   ]
  },
  {
   "cell_type": "code",
   "execution_count": 45,
   "id": "UUdl5FoBbE5X",
   "metadata": {
    "id": "UUdl5FoBbE5X"
   },
   "outputs": [],
   "source": [
    "# Load back  saved Classifier Model\n",
    "ClfModel = legal.ClassifierDLModel.load('Clf_Use')"
   ]
  },
  {
   "cell_type": "code",
   "execution_count": 46,
   "id": "295Ip9xZcjU-",
   "metadata": {
    "id": "295Ip9xZcjU-"
   },
   "outputs": [],
   "source": [
    "ld_pipeline = Pipeline(stages=[document_assembler, embeddings,ClfModel])\n",
    "ld_pipeline_model = ld_pipeline.fit(spark.createDataFrame([['']]).toDF(\"text\"))"
   ]
  },
  {
   "cell_type": "code",
   "execution_count": 47,
   "id": "Gdm6mxvadFyj",
   "metadata": {
    "id": "Gdm6mxvadFyj"
   },
   "outputs": [],
   "source": [
    "# Apply Model Transform to testData\n",
    "ld_preds = ld_pipeline_model.transform(test)"
   ]
  },
  {
   "cell_type": "code",
   "execution_count": 48,
   "id": "aQYCSHcIdJbi",
   "metadata": {
    "id": "aQYCSHcIdJbi"
   },
   "outputs": [
    {
     "name": "stderr",
     "output_type": "stream",
     "text": [
      "22/10/20 15:04:27 WARN TaskSetManager: Stage 38 contains a task of very large size (1279 KiB). The maximum recommended task size is 1000 KiB.\n",
      "                                                                                \r"
     ]
    }
   ],
   "source": [
    "ld_preds_df = ld_preds.select('text','label',\"class.result\").toPandas()"
   ]
  },
  {
   "cell_type": "code",
   "execution_count": 49,
   "id": "VZnsGh6YdVUf",
   "metadata": {
    "colab": {
     "base_uri": "https://localhost:8080/",
     "height": 206
    },
    "id": "VZnsGh6YdVUf",
    "outputId": "1b36b207-468a-44ec-a63a-bca7aecbba2a"
   },
   "outputs": [
    {
     "data": {
      "text/html": [
       "<div>\n",
       "<style scoped>\n",
       "    .dataframe tbody tr th:only-of-type {\n",
       "        vertical-align: middle;\n",
       "    }\n",
       "\n",
       "    .dataframe tbody tr th {\n",
       "        vertical-align: top;\n",
       "    }\n",
       "\n",
       "    .dataframe thead th {\n",
       "        text-align: right;\n",
       "    }\n",
       "</style>\n",
       "<table border=\"1\" class=\"dataframe\">\n",
       "  <thead>\n",
       "    <tr style=\"text-align: right;\">\n",
       "      <th></th>\n",
       "      <th>text</th>\n",
       "      <th>label</th>\n",
       "      <th>result</th>\n",
       "    </tr>\n",
       "  </thead>\n",
       "  <tbody>\n",
       "    <tr>\n",
       "      <th>0</th>\n",
       "      <td>\\n\\n \\n\\n\\nOn July 1 2020 we entered into the ...</td>\n",
       "      <td>risk_factors</td>\n",
       "      <td>[financial_statements]</td>\n",
       "    </tr>\n",
       "    <tr>\n",
       "      <th>1</th>\n",
       "      <td>\\n \\n\\n\\nIdentification and treatment of contr...</td>\n",
       "      <td>financial_statements</td>\n",
       "      <td>[financial_statements]</td>\n",
       "    </tr>\n",
       "    <tr>\n",
       "      <th>2</th>\n",
       "      <td>\\n \\n \\n \\n \\n \\n \\n \\n \\n \\n \\n \\n \\n \\n \\n20...</td>\n",
       "      <td>form_10k_summary</td>\n",
       "      <td>[financial_statements]</td>\n",
       "    </tr>\n",
       "    <tr>\n",
       "      <th>3</th>\n",
       "      <td>\\n\\n\\nCash \\n 3 \\n\\nReceivables \\n 10 \\n\\nOth...</td>\n",
       "      <td>financial_statements</td>\n",
       "      <td>[financial_statements]</td>\n",
       "    </tr>\n",
       "    <tr>\n",
       "      <th>4</th>\n",
       "      <td>\\n \\n \\n \\n \\n \\n \\n \\n \\n\\n\\n\\nGranted\\n\\n \\...</td>\n",
       "      <td>form_10k_summary</td>\n",
       "      <td>[financial_statements]</td>\n",
       "    </tr>\n",
       "  </tbody>\n",
       "</table>\n",
       "</div>"
      ],
      "text/plain": [
       "                                                text                 label  \\\n",
       "0  \\n\\n \\n\\n\\nOn July 1 2020 we entered into the ...          risk_factors   \n",
       "1  \\n \\n\\n\\nIdentification and treatment of contr...  financial_statements   \n",
       "2  \\n \\n \\n \\n \\n \\n \\n \\n \\n \\n \\n \\n \\n \\n \\n20...      form_10k_summary   \n",
       "3   \\n\\n\\nCash \\n 3 \\n\\nReceivables \\n 10 \\n\\nOth...  financial_statements   \n",
       "4   \\n \\n \\n \\n \\n \\n \\n \\n \\n\\n\\n\\nGranted\\n\\n \\...      form_10k_summary   \n",
       "\n",
       "                   result  \n",
       "0  [financial_statements]  \n",
       "1  [financial_statements]  \n",
       "2  [financial_statements]  \n",
       "3  [financial_statements]  \n",
       "4  [financial_statements]  "
      ]
     },
     "execution_count": 49,
     "metadata": {},
     "output_type": "execute_result"
    }
   ],
   "source": [
    "ld_preds_df.head()"
   ]
  },
  {
   "cell_type": "markdown",
   "id": "7kKWRZNu0lCL",
   "metadata": {
    "id": "7kKWRZNu0lCL"
   },
   "source": [
    "## With RoBerta Embeddings"
   ]
  },
  {
   "cell_type": "markdown",
   "id": "rHw4ikwLISTb",
   "metadata": {
    "id": "rHw4ikwLISTb"
   },
   "source": [
    "We do not have Legal Sentence Embeddings yet, But we can use the Legal RoBerta Embeddings and then average them."
   ]
  },
  {
   "cell_type": "code",
   "execution_count": 50,
   "id": "oaiL-Txz0lCM",
   "metadata": {
    "colab": {
     "base_uri": "https://localhost:8080/"
    },
    "id": "oaiL-Txz0lCM",
    "outputId": "33660365-4b09-4b22-8847-a285dee4d5a6"
   },
   "outputs": [
    {
     "name": "stdout",
     "output_type": "stream",
     "text": [
      "roberta_embeddings_legal_roberta_base download started this may take some time.\n",
      "Approximate size to download 447.2 MB\n",
      "[OK!]\n"
     ]
    }
   ],
   "source": [
    "embeddings = RoBertaEmbeddings.pretrained(\"roberta_embeddings_legal_roberta_base\",\"en\") \\\n",
    "    .setInputCols([\"document\", \"token\"]) \\\n",
    "    .setOutputCol(\"embeddings\") \\\n",
    "    .setMaxSentenceLength(512)"
   ]
  },
  {
   "cell_type": "code",
   "execution_count": 51,
   "id": "l3jxCehJ0lCO",
   "metadata": {
    "id": "l3jxCehJ0lCO"
   },
   "outputs": [],
   "source": [
    "document_assembler = nlp.DocumentAssembler() \\\n",
    "    .setInputCol(\"text\") \\\n",
    "    .setOutputCol(\"document\")\n",
    "\n",
    "tokenizer = nlp.Tokenizer() \\\n",
    "    .setInputCols([\"document\"]) \\\n",
    "    .setOutputCol(\"token\")\n",
    "\n",
    "embeddingsSentence = nlp.SentenceEmbeddings() \\\n",
    "    .setInputCols([\"document\", \"embeddings\"]) \\\n",
    "    .setOutputCol(\"sentence_embeddings\") \\\n",
    "    .setPoolingStrategy(\"AVERAGE\")\n",
    "\n",
    "classsifierdl = legal.ClassifierDLApproach() \\\n",
    "    .setInputCols([\"sentence_embeddings\"]) \\\n",
    "    .setOutputCol(\"class\") \\\n",
    "    .setLabelColumn(\"label\")\\\n",
    "    .setMaxEpochs(8)\\\n",
    "    .setLr(0.001)\\\n",
    "    .setEnableOutputLogs(True)\n",
    "\n",
    "clf_pipeline = Pipeline(\n",
    "    stages = [\n",
    "        document_assembler,\n",
    "        tokenizer,\n",
    "        embeddings,\n",
    "        embeddingsSentence,\n",
    "        classsifierdl\n",
    "    ])"
   ]
  },
  {
   "cell_type": "code",
   "execution_count": 52,
   "id": "W6qwSLYv0lCP",
   "metadata": {
    "id": "W6qwSLYv0lCP"
   },
   "outputs": [
    {
     "name": "stderr",
     "output_type": "stream",
     "text": [
      "22/10/20 15:04:35 WARN TaskSetManager: Stage 39 contains a task of very large size (1279 KiB). The maximum recommended task size is 1000 KiB.\n",
      "22/10/20 15:23:54 WARN TaskSetManager: Stage 42 contains a task of very large size (1279 KiB). The maximum recommended task size is 1000 KiB.\n",
      "2022-10-20 15:43:23.278928: I external/org_tensorflow/tensorflow/cc/saved_model/reader.cc:43] Reading SavedModel from: /tmp/9f34c15c5d9a_classifier_dl7862500997666759905\n",
      "2022-10-20 15:43:23.489507: I external/org_tensorflow/tensorflow/cc/saved_model/reader.cc:107] Reading meta graph with tags { serve }\n",
      "2022-10-20 15:43:23.489557: I external/org_tensorflow/tensorflow/cc/saved_model/reader.cc:148] Reading SavedModel debug info (if present) from: /tmp/9f34c15c5d9a_classifier_dl7862500997666759905\n",
      "2022-10-20 15:43:24.377958: I external/org_tensorflow/tensorflow/cc/saved_model/loader.cc:228] Restoring SavedModel bundle.\n",
      "2022-10-20 15:43:25.663582: I external/org_tensorflow/tensorflow/cc/saved_model/loader.cc:212] Running initialization op on SavedModel bundle at path: /tmp/9f34c15c5d9a_classifier_dl7862500997666759905\n",
      "2022-10-20 15:43:25.983285: I external/org_tensorflow/tensorflow/cc/saved_model/loader.cc:301] SavedModel load for tags { serve }; Status: success: OK. Took 2704380 microseconds.\n"
     ]
    },
    {
     "name": "stdout",
     "output_type": "stream",
     "text": [
      "Training started - epochs: 8 - learning_rate: 0.001 - batch_size: 64 - training_examples: 9746 - classes: 14\n",
      "Epoch 1/8 - 1.22s - loss: 327.53708 - acc: 0.56954724 - batches: 153\n",
      "Epoch 2/8 - 0.66s - loss: 323.2948 - acc: 0.59401274 - batches: 153\n",
      "Epoch 3/8 - 0.65s - loss: 322.47052 - acc: 0.59555465 - batches: 153\n",
      "Epoch 4/8 - 0.66s - loss: 322.27127 - acc: 0.59740496 - batches: 153\n",
      "Epoch 5/8 - 0.68s - loss: 322.20648 - acc: 0.59802175 - batches: 153\n",
      "Epoch 6/8 - 0.67s - loss: 322.1755 - acc: 0.59904975 - batches: 153\n",
      "Epoch 7/8 - 0.67s - loss: 322.14856 - acc: 0.5997693 - batches: 153\n",
      "Epoch 8/8 - 0.65s - loss: 322.1189 - acc: 0.6000777 - batches: 153\n"
     ]
    }
   ],
   "source": [
    "clf_pipelineModel = clf_pipeline.fit(train)"
   ]
  },
  {
   "cell_type": "code",
   "execution_count": 53,
   "id": "IEK22MWg0lCQ",
   "metadata": {
    "id": "IEK22MWg0lCQ"
   },
   "outputs": [],
   "source": [
    "preds = clf_pipelineModel.transform(test)"
   ]
  },
  {
   "cell_type": "code",
   "execution_count": 54,
   "id": "0QMopvFG0lCQ",
   "metadata": {
    "id": "0QMopvFG0lCQ"
   },
   "outputs": [
    {
     "name": "stderr",
     "output_type": "stream",
     "text": [
      "22/10/20 15:43:37 WARN TaskSetManager: Stage 43 contains a task of very large size (1279 KiB). The maximum recommended task size is 1000 KiB.\n",
      "                                                                                \r"
     ]
    }
   ],
   "source": [
    "preds_df = preds.select('label','text',\"class.result\").toPandas()"
   ]
  },
  {
   "cell_type": "code",
   "execution_count": 55,
   "id": "ADdEhII40lCR",
   "metadata": {
    "colab": {
     "base_uri": "https://localhost:8080/",
     "height": 206
    },
    "id": "ADdEhII40lCR",
    "outputId": "10348fad-6dd5-445b-a977-a23b265e0708"
   },
   "outputs": [
    {
     "data": {
      "text/html": [
       "<div>\n",
       "<style scoped>\n",
       "    .dataframe tbody tr th:only-of-type {\n",
       "        vertical-align: middle;\n",
       "    }\n",
       "\n",
       "    .dataframe tbody tr th {\n",
       "        vertical-align: top;\n",
       "    }\n",
       "\n",
       "    .dataframe thead th {\n",
       "        text-align: right;\n",
       "    }\n",
       "</style>\n",
       "<table border=\"1\" class=\"dataframe\">\n",
       "  <thead>\n",
       "    <tr style=\"text-align: right;\">\n",
       "      <th></th>\n",
       "      <th>label</th>\n",
       "      <th>text</th>\n",
       "      <th>result</th>\n",
       "    </tr>\n",
       "  </thead>\n",
       "  <tbody>\n",
       "    <tr>\n",
       "      <th>0</th>\n",
       "      <td>risk_factors</td>\n",
       "      <td>\\n\\n \\n\\n\\nOn July 1 2020 we entered into the ...</td>\n",
       "      <td>[financial_statements]</td>\n",
       "    </tr>\n",
       "    <tr>\n",
       "      <th>1</th>\n",
       "      <td>financial_statements</td>\n",
       "      <td>\\n \\n\\n\\nIdentification and treatment of contr...</td>\n",
       "      <td>[financial_statements]</td>\n",
       "    </tr>\n",
       "    <tr>\n",
       "      <th>2</th>\n",
       "      <td>form_10k_summary</td>\n",
       "      <td>\\n \\n \\n \\n \\n \\n \\n \\n \\n \\n \\n \\n \\n \\n \\n20...</td>\n",
       "      <td>[financial_statements]</td>\n",
       "    </tr>\n",
       "    <tr>\n",
       "      <th>3</th>\n",
       "      <td>financial_statements</td>\n",
       "      <td>\\n\\n\\nCash \\n 3 \\n\\nReceivables \\n 10 \\n\\nOth...</td>\n",
       "      <td>[financial_statements]</td>\n",
       "    </tr>\n",
       "    <tr>\n",
       "      <th>4</th>\n",
       "      <td>form_10k_summary</td>\n",
       "      <td>\\n \\n \\n \\n \\n \\n \\n \\n \\n\\n\\n\\nGranted\\n\\n \\...</td>\n",
       "      <td>[financial_statements]</td>\n",
       "    </tr>\n",
       "  </tbody>\n",
       "</table>\n",
       "</div>"
      ],
      "text/plain": [
       "                  label                                               text  \\\n",
       "0          risk_factors  \\n\\n \\n\\n\\nOn July 1 2020 we entered into the ...   \n",
       "1  financial_statements  \\n \\n\\n\\nIdentification and treatment of contr...   \n",
       "2      form_10k_summary  \\n \\n \\n \\n \\n \\n \\n \\n \\n \\n \\n \\n \\n \\n \\n20...   \n",
       "3  financial_statements   \\n\\n\\nCash \\n 3 \\n\\nReceivables \\n 10 \\n\\nOth...   \n",
       "4      form_10k_summary   \\n \\n \\n \\n \\n \\n \\n \\n \\n\\n\\n\\nGranted\\n\\n \\...   \n",
       "\n",
       "                   result  \n",
       "0  [financial_statements]  \n",
       "1  [financial_statements]  \n",
       "2  [financial_statements]  \n",
       "3  [financial_statements]  \n",
       "4  [financial_statements]  "
      ]
     },
     "execution_count": 55,
     "metadata": {},
     "output_type": "execute_result"
    }
   ],
   "source": [
    "preds_df.head()"
   ]
  },
  {
   "cell_type": "code",
   "execution_count": 56,
   "id": "wvc6vZjH0lCS",
   "metadata": {
    "colab": {
     "base_uri": "https://localhost:8080/"
    },
    "id": "wvc6vZjH0lCS",
    "outputId": "75a19349-6dda-464b-dc3a-a749e62ee791"
   },
   "outputs": [
    {
     "name": "stdout",
     "output_type": "stream",
     "text": [
      "                         precision    recall  f1-score   support\n",
      "\n",
      "               business       0.00      0.00      0.00       405\n",
      "    controls_procedures       0.00      0.00      0.00        59\n",
      "                 equity       0.00      0.00      0.00        50\n",
      "             executives       0.00      0.00      0.00        33\n",
      "executives_compensation       0.00      0.00      0.00        63\n",
      "               exhibits       0.00      0.00      0.00        12\n",
      "   financial_conditions       0.00      0.00      0.00       161\n",
      "   financial_statements       0.58      0.97      0.73       760\n",
      "       form_10k_summary       0.00      0.00      0.00       106\n",
      "      legal_proceedings       0.00      0.00      0.00        17\n",
      "            market_risk       0.00      0.00      0.00        45\n",
      "             properties       0.00      0.00      0.00        15\n",
      "           risk_factors       0.59      0.96      0.73       767\n",
      "     security_ownership       0.00      0.00      0.00        18\n",
      "\n",
      "               accuracy                           0.59      2511\n",
      "              macro avg       0.08      0.14      0.10      2511\n",
      "           weighted avg       0.36      0.59      0.44      2511\n",
      "\n"
     ]
    }
   ],
   "source": [
    "# Let's explode the array and get the item(s) inside of result column out\n",
    "preds_df['result'] = preds_df['result'].apply(lambda x : x[0])\n",
    "\n",
    "from sklearn.metrics import classification_report\n",
    "\n",
    "print (classification_report(preds_df['label'], preds_df['result']))\n"
   ]
  },
  {
   "cell_type": "markdown",
   "id": "rMHZmT9_deAQ",
   "metadata": {
    "id": "rMHZmT9_deAQ"
   },
   "source": [
    "# Save model and Zip it for Modelshub Upload/Downloads"
   ]
  },
  {
   "cell_type": "code",
   "execution_count": 57,
   "id": "QZ79YbdodfFc",
   "metadata": {
    "colab": {
     "base_uri": "https://localhost:8080/"
    },
    "id": "QZ79YbdodfFc",
    "outputId": "82615b46-9c26-430e-9d87-3bf06439ca19"
   },
   "outputs": [
    {
     "data": {
      "text/plain": [
       "'/home/ubuntu/notebooks/examples/legal/ClfBert.zip'"
      ]
     },
     "execution_count": 57,
     "metadata": {},
     "output_type": "execute_result"
    }
   ],
   "source": [
    "# Save a Spark NLP model\n",
    "clf_pipelineModel.stages[-1].write().overwrite().save('ClfBert')\n",
    "\n",
    "import shutil\n",
    "\n",
    "shutil.make_archive('ClfBert', 'zip', 'ClfBert')"
   ]
  },
  {
   "cell_type": "code",
   "execution_count": null,
   "id": "tfinWtXTRynE",
   "metadata": {
    "id": "tfinWtXTRynE"
   },
   "outputs": [],
   "source": []
  }
 ],
 "metadata": {
  "accelerator": "GPU",
  "colab": {
   "collapsed_sections": [],
   "machine_shape": "hm",
   "provenance": []
  },
  "gpuClass": "standard",
  "kernelspec": {
   "display_name": "Python 3 (ipykernel)",
   "language": "python",
   "name": "python3"
  },
  "language_info": {
   "codemirror_mode": {
    "name": "ipython",
    "version": 3
   },
   "file_extension": ".py",
   "mimetype": "text/x-python",
   "name": "python",
   "nbconvert_exporter": "python",
   "pygments_lexer": "ipython3",
   "version": "3.8.10"
  }
 },
 "nbformat": 4,
 "nbformat_minor": 5
}

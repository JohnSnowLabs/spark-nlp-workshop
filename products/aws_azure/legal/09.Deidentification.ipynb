{
 "cells": [
  {
   "cell_type": "markdown",
   "id": "b7f2c545-14d6-41da-a4cc-0dc8a6ea3180",
   "metadata": {
    "id": "b7f2c545-14d6-41da-a4cc-0dc8a6ea3180"
   },
   "source": [
    "![JohnSnowLabs](https://nlp.johnsnowlabs.com/assets/images/logo.png)"
   ]
  },
  {
   "cell_type": "markdown",
   "id": "fb2ac5e3-fe7c-4431-bb24-3c48649be54b",
   "metadata": {
    "id": "fb2ac5e3-fe7c-4431-bb24-3c48649be54b"
   },
   "source": [
    "# Legal Deidentification"
   ]
  },
  {
   "cell_type": "markdown",
   "id": "b5b4ac83-5f08-40a5-be42-4ed24aec2794",
   "metadata": {
    "id": "b5b4ac83-5f08-40a5-be42-4ed24aec2794"
   },
   "source": [
    "## Setup"
   ]
  },
  {
   "cell_type": "code",
   "execution_count": 2,
   "id": "262b7784-0b17-4f5b-b85e-324b8e164ce6",
   "metadata": {
    "colab": {
     "base_uri": "https://localhost:8080/"
    },
    "id": "262b7784-0b17-4f5b-b85e-324b8e164ce6",
    "outputId": "401f95d7-9c76-4952-a002-1acd2d97953c"
   },
   "outputs": [
    {
     "name": "stdout",
     "output_type": "stream",
     "text": [
      "📋 Loading license number 0 from /root/.johnsnowlabs/licenses/license_number_{number}_for_Spark-Healthcare_Spark-OCR.json\n",
      "🤓 Looks like you are missing some jars, trying fetching them ...\n",
      "Downloading 🫘+🚀 Java Library spark-nlp-gpu-assembly-5.5.0.jar\n",
      "🙆 JSL Home setup in /root/.johnsnowlabs\n",
      "👌 Launched \u001b[92mgpu optimized\u001b[39m session with with: 🚀Spark-NLP==5.5.0, 💊Spark-Healthcare==5.5.0, running on ⚡ PySpark==3.4.0\n"
     ]
    }
   ],
   "source": [
    "from johnsnowlabs import *\n",
    "import pyspark.sql.functions as F\n",
    "import pandas as pd\n",
    "\n",
    "\n",
    "spark = start_spark()"
   ]
  },
  {
   "cell_type": "markdown",
   "id": "3c5c1990-1e00-4141-8825-5e9e75d402ad",
   "metadata": {
    "id": "3c5c1990-1e00-4141-8825-5e9e75d402ad"
   },
   "source": [
    "# Deidentification Model"
   ]
  },
  {
   "cell_type": "markdown",
   "id": "124c01da-b9a9-4327-a46b-f09d1d89d893",
   "metadata": {
    "id": "124c01da-b9a9-4327-a46b-f09d1d89d893"
   },
   "source": [
    "Some legal information can be considered sensitive. (e.g.,document, organization, address, signer)"
   ]
  },
  {
   "cell_type": "code",
   "execution_count": 3,
   "id": "fc92df9a-8ede-4db3-80b9-be1e713f45d6",
   "metadata": {
    "colab": {
     "base_uri": "https://localhost:8080/"
    },
    "id": "fc92df9a-8ede-4db3-80b9-be1e713f45d6",
    "outputId": "c9d31d62-a34f-4c3a-a21f-bfc01a8aa318",
    "tags": []
   },
   "outputs": [
    {
     "name": "stdout",
     "output_type": "stream",
     "text": [
      "sentence_detector_dl download started this may take some time.\n",
      "Approximate size to download 514.9 KB\n",
      "[OK!]\n",
      "legal_word_embeddings download started this may take some time.\n",
      "Approximate size to download 80.9 MB\n",
      "[OK!]\n",
      "legner_contract_doc_parties_le download started this may take some time.\n",
      "[OK!]\n"
     ]
    }
   ],
   "source": [
    "documentAssembler = nlp.DocumentAssembler().setInputCol(\"text\").setOutputCol(\"document\")\n",
    "\n",
    "sentenceDetector = (\n",
    "    nlp.SentenceDetectorDLModel.pretrained(\"sentence_detector_dl\", \"xx\")\n",
    "    .setInputCols([\"document\"])\n",
    "    .setOutputCol(\"sentence\")\n",
    ")\n",
    "# .setCustomBounds([\"\\n\\n\"])\n",
    "\n",
    "tokenizer = nlp.Tokenizer().setInputCols([\"sentence\"]).setOutputCol(\"token\")\n",
    "\n",
    "embeddings = (\n",
    "    nlp.WordEmbeddingsModel.pretrained(\"legal_word_embeddings\", \"en\", \"legal/models\")\n",
    "    .setInputCols([\"sentence\", \"token\"])\n",
    "    .setOutputCol(\"embeddings\")\n",
    ")\n",
    "\n",
    "legal_ner = (\n",
    "    legal.NerModel.pretrained(\"legner_contract_doc_parties_le\", \"en\", \"legal/models\")\n",
    "    .setInputCols([\"sentence\", \"token\", \"embeddings\"])\n",
    "    .setOutputCol(\"ner\")\n",
    ")\n",
    "# .setLabelCasing(\"upper\")\n",
    "\n",
    "ner_converter = (\n",
    "    legal.NerConverter()\n",
    "    .setInputCols([\"sentence\", \"token\", \"ner\"])\n",
    "    .setOutputCol(\"ner_chunk\")\n",
    "    .setReplaceLabels({\"ALIAS\": \"PARTY\"})\n",
    ")  # \"ALIAS\" are secondary names of companies, so let's extract them also as PARTY\n",
    "\n",
    "nlp_pipeline = nlp.Pipeline(\n",
    "    stages=[\n",
    "        documentAssembler,\n",
    "        sentenceDetector,\n",
    "        tokenizer,\n",
    "        embeddings,\n",
    "        legal_ner,\n",
    "        ner_converter,\n",
    "    ]\n",
    ")\n",
    "\n",
    "empty_data = spark.createDataFrame([[\"\"]]).toDF(\"text\")\n",
    "\n",
    "model = nlp_pipeline.fit(empty_data)"
   ]
  },
  {
   "cell_type": "markdown",
   "id": "3ddb9087-f3d2-4b14-89ad-507e3910e889",
   "metadata": {
    "id": "3ddb9087-f3d2-4b14-89ad-507e3910e889"
   },
   "source": [
    "### Pretrained NER models extracts:\n",
    "- Document\n",
    "- Date\n",
    "- Party (Organization Name)\n",
    "- Alias"
   ]
  },
  {
   "cell_type": "code",
   "execution_count": 4,
   "id": "f594290b-6ea9-47a2-9515-76faed5ab63c",
   "metadata": {
    "colab": {
     "base_uri": "https://localhost:8080/"
    },
    "id": "f594290b-6ea9-47a2-9515-76faed5ab63c",
    "outputId": "b95e59c1-ac7e-4b54-aa84-5c520f29817e"
   },
   "outputs": [
    {
     "data": {
      "text/plain": [
       "['O',\n",
       " 'I-DOC',\n",
       " 'B-EFFDATE',\n",
       " 'B-ORG',\n",
       " 'I-ORG',\n",
       " 'B-ALIAS',\n",
       " 'I-ALIAS',\n",
       " 'I-EFFDATE',\n",
       " 'B-PARTY',\n",
       " 'B-FORMER_NAME',\n",
       " 'I-FORMER_NAME',\n",
       " 'B-DOC',\n",
       " 'I-PARTY']"
      ]
     },
     "execution_count": 4,
     "metadata": {},
     "output_type": "execute_result"
    }
   ],
   "source": [
    "legal_ner.getClasses()"
   ]
  },
  {
   "cell_type": "code",
   "execution_count": 5,
   "id": "5f5fbf4b-ad6c-4042-8fff-4b6082aeed5c",
   "metadata": {
    "id": "5f5fbf4b-ad6c-4042-8fff-4b6082aeed5c"
   },
   "outputs": [],
   "source": [
    "text = \"\"\"THIS STRATEGIC ALLIANCE AGREEMENT (\"Agreement\") is made and entered into as of December 14, 2016 , by and between Hyatt Franchising Latin America, L.L.C., a limited liability company organized and existing under the laws of the State of Delaware \"\"\""
   ]
  },
  {
   "cell_type": "code",
   "execution_count": 6,
   "id": "7cd9d648-81ec-46fa-aa02-20506f0ba7dd",
   "metadata": {
    "id": "7cd9d648-81ec-46fa-aa02-20506f0ba7dd"
   },
   "outputs": [],
   "source": [
    "result = model.transform(spark.createDataFrame([[text]]).toDF(\"text\"))"
   ]
  },
  {
   "cell_type": "code",
   "execution_count": 7,
   "id": "3fa9c519-347f-4f63-8f32-b240526ab42e",
   "metadata": {
    "id": "3fa9c519-347f-4f63-8f32-b240526ab42e"
   },
   "outputs": [],
   "source": [
    "result_df = result.select(\n",
    "    F.explode(F.arrays_zip(result.token.result, result.ner.result)).alias(\"cols\")\n",
    ").select(F.expr(\"cols['0']\").alias(\"token\"), F.expr(\"cols['1']\").alias(\"ner_label\"))"
   ]
  },
  {
   "cell_type": "code",
   "execution_count": 8,
   "id": "3df21455-9650-4d3d-8b11-8380a0883121",
   "metadata": {
    "colab": {
     "base_uri": "https://localhost:8080/"
    },
    "id": "3df21455-9650-4d3d-8b11-8380a0883121",
    "outputId": "41be2c9a-5ecc-4788-cc55-2d76b349cbc8"
   },
   "outputs": [
    {
     "name": "stdout",
     "output_type": "stream",
     "text": [
      "+---------+-----+\n",
      "|ner_label|count|\n",
      "+---------+-----+\n",
      "|O        |32   |\n",
      "|I-EFFDATE|3    |\n",
      "|I-DOC    |3    |\n",
      "|I-PARTY  |3    |\n",
      "|B-DOC    |1    |\n",
      "|B-PARTY  |1    |\n",
      "|B-EFFDATE|1    |\n",
      "+---------+-----+\n",
      "\n"
     ]
    }
   ],
   "source": [
    "result_df.select(\"token\", \"ner_label\").groupBy(\"ner_label\").count().orderBy(\n",
    "    \"count\", ascending=False\n",
    ").show(truncate=False)"
   ]
  },
  {
   "cell_type": "markdown",
   "id": "ba982823-16d8-477d-9a47-d41d9087523d",
   "metadata": {
    "id": "ba982823-16d8-477d-9a47-d41d9087523d"
   },
   "source": [
    "### Check extracted sensitive entities"
   ]
  },
  {
   "cell_type": "code",
   "execution_count": 9,
   "id": "8e766d87-e1f2-49e3-afe2-f7d0d7703e6f",
   "metadata": {
    "colab": {
     "base_uri": "https://localhost:8080/"
    },
    "id": "8e766d87-e1f2-49e3-afe2-f7d0d7703e6f",
    "outputId": "23e36659-cd4f-4440-9bb6-b81970ae8517"
   },
   "outputs": [
    {
     "name": "stdout",
     "output_type": "stream",
     "text": [
      "+---------------------------------+---------+\n",
      "|chunk                            |ner_label|\n",
      "+---------------------------------+---------+\n",
      "|THIS STRATEGIC ALLIANCE AGREEMENT|DOC      |\n",
      "|December 14, 2016                |EFFDATE  |\n",
      "|Hyatt Franchising Latin America  |PARTY    |\n",
      "+---------------------------------+---------+\n",
      "\n"
     ]
    }
   ],
   "source": [
    "result.select(\n",
    "    F.explode(F.arrays_zip(result.ner_chunk.result, result.ner_chunk.metadata)).alias(\n",
    "        \"cols\"\n",
    "    )\n",
    ").select(\n",
    "    F.expr(\"cols['0']\").alias(\"chunk\"), F.expr(\"cols['1']['entity']\").alias(\"ner_label\")\n",
    ").show(truncate=False)"
   ]
  },
  {
   "cell_type": "markdown",
   "id": "7cccf04f-6630-4f8c-96af-f5b7e35c119d",
   "metadata": {
    "id": "7cccf04f-6630-4f8c-96af-f5b7e35c119d"
   },
   "source": [
    "## Masking and Obfuscation"
   ]
  },
  {
   "cell_type": "markdown",
   "id": "a4648bf0-9c6e-49b3-9080-7bb3551e1675",
   "metadata": {
    "id": "a4648bf0-9c6e-49b3-9080-7bb3551e1675"
   },
   "source": [
    "### Replace these enitites with Tags"
   ]
  },
  {
   "cell_type": "code",
   "execution_count": 10,
   "id": "fa7ac54e-46d5-4a9b-a74b-3859a283ac65",
   "metadata": {
    "id": "fa7ac54e-46d5-4a9b-a74b-3859a283ac65"
   },
   "outputs": [],
   "source": [
    "ner_converter = (\n",
    "    legal.NerConverter()\n",
    "    .setInputCols([\"sentence\", \"token\", \"ner\"])\n",
    "    .setOutputCol(\"ner_chunk\")\n",
    ")\n",
    "\n",
    "deidentification = (\n",
    "    legal.DeIdentification()\n",
    "    .setInputCols([\"sentence\", \"token\", \"ner_chunk\"])\n",
    "    .setOutputCol(\"deidentified\")\n",
    "    .setMode(\"mask\")\n",
    "    .setReturnEntityMappings(True)\n",
    ")  #  return a new column to save the mappings between the mask/obfuscated entities and original entities.\n",
    "# .setMappingsColumn(\"MappingCol\") # change the name of the column, 'aux' is default\n",
    "\n",
    "deid_pipeline = nlp.Pipeline(\n",
    "    stages=[\n",
    "        documentAssembler,\n",
    "        sentenceDetector,\n",
    "        tokenizer,\n",
    "        embeddings,\n",
    "        legal_ner,\n",
    "        ner_converter,\n",
    "        deidentification,\n",
    "    ]\n",
    ")\n",
    "\n",
    "empty_data = spark.createDataFrame([[\"\"]]).toDF(\"text\")\n",
    "\n",
    "model_deid = deid_pipeline.fit(empty_data)"
   ]
  },
  {
   "cell_type": "code",
   "execution_count": 11,
   "id": "bf417b51-c6d0-44b3-ac80-43da90300247",
   "metadata": {
    "id": "bf417b51-c6d0-44b3-ac80-43da90300247"
   },
   "outputs": [],
   "source": [
    "result = model_deid.transform(spark.createDataFrame([[text]]).toDF(\"text\"))"
   ]
  },
  {
   "cell_type": "code",
   "execution_count": 12,
   "id": "3bf8f80c-4277-4302-8993-a0f88311b66f",
   "metadata": {
    "colab": {
     "base_uri": "https://localhost:8080/"
    },
    "id": "3bf8f80c-4277-4302-8993-a0f88311b66f",
    "outputId": "7ddd7877-b1ed-4d0d-a627-11dff096e9e6"
   },
   "outputs": [
    {
     "name": "stdout",
     "output_type": "stream",
     "text": [
      "+--------------------+--------------------+--------------------+--------------------+--------------------+--------------------+--------------------+--------------------+--------------------+\n",
      "|                text|            document|            sentence|               token|          embeddings|                 ner|           ner_chunk|        deidentified|                 aux|\n",
      "+--------------------+--------------------+--------------------+--------------------+--------------------+--------------------+--------------------+--------------------+--------------------+\n",
      "|THIS STRATEGIC AL...|[{document, 0, 24...|[{document, 0, 24...|[{token, 0, 3, TH...|[{word_embeddings...|[{named_entity, 0...|[{chunk, 0, 32, T...|[{document, 0, 18...|[{chunk, 0, 4, <D...|\n",
      "+--------------------+--------------------+--------------------+--------------------+--------------------+--------------------+--------------------+--------------------+--------------------+\n",
      "\n"
     ]
    }
   ],
   "source": [
    "result.show()"
   ]
  },
  {
   "cell_type": "code",
   "execution_count": 13,
   "id": "a8892001-1392-4bc2-ab92-81d565c9d996",
   "metadata": {
    "colab": {
     "base_uri": "https://localhost:8080/",
     "height": 80
    },
    "id": "a8892001-1392-4bc2-ab92-81d565c9d996",
    "outputId": "956b2934-25c7-4d38-a01e-9642750f5e42"
   },
   "outputs": [
    {
     "data": {
      "application/vnd.google.colaboratory.intrinsic+json": {
       "summary": "{\n  \"name\": \")\",\n  \"rows\": 1,\n  \"fields\": [\n    {\n      \"column\": \"sentence\",\n      \"properties\": {\n        \"dtype\": \"string\",\n        \"num_unique_values\": 1,\n        \"samples\": [\n          \"THIS STRATEGIC ALLIANCE AGREEMENT (\\\"Agreement\\\") is made and entered into as of December 14, 2016 , by and between Hyatt Franchising Latin America, L.L.C., a limited liability company organized and existing under the laws of the State of Delaware\"\n        ],\n        \"semantic_type\": \"\",\n        \"description\": \"\"\n      }\n    },\n    {\n      \"column\": \"deidentified\",\n      \"properties\": {\n        \"dtype\": \"string\",\n        \"num_unique_values\": 1,\n        \"samples\": [\n          \"<DOC> (\\\"Agreement\\\") is made and entered into as of <EFFDATE> , by and between <PARTY>, L.L.C., a limited liability company organized and existing under the laws of the State of Delaware\"\n        ],\n        \"semantic_type\": \"\",\n        \"description\": \"\"\n      }\n    }\n  ]\n}",
       "type": "dataframe"
      },
      "text/html": [
       "\n",
       "  <div id=\"df-f795b275-3a1c-4b5c-8821-bc5ad6867399\" class=\"colab-df-container\">\n",
       "    <div>\n",
       "<style scoped>\n",
       "    .dataframe tbody tr th:only-of-type {\n",
       "        vertical-align: middle;\n",
       "    }\n",
       "\n",
       "    .dataframe tbody tr th {\n",
       "        vertical-align: top;\n",
       "    }\n",
       "\n",
       "    .dataframe thead th {\n",
       "        text-align: right;\n",
       "    }\n",
       "</style>\n",
       "<table border=\"1\" class=\"dataframe\">\n",
       "  <thead>\n",
       "    <tr style=\"text-align: right;\">\n",
       "      <th></th>\n",
       "      <th>sentence</th>\n",
       "      <th>deidentified</th>\n",
       "    </tr>\n",
       "  </thead>\n",
       "  <tbody>\n",
       "    <tr>\n",
       "      <th>0</th>\n",
       "      <td>THIS STRATEGIC ALLIANCE AGREEMENT (\"Agreement\"...</td>\n",
       "      <td>&lt;DOC&gt; (\"Agreement\") is made and entered into a...</td>\n",
       "    </tr>\n",
       "  </tbody>\n",
       "</table>\n",
       "</div>\n",
       "    <div class=\"colab-df-buttons\">\n",
       "\n",
       "  <div class=\"colab-df-container\">\n",
       "    <button class=\"colab-df-convert\" onclick=\"convertToInteractive('df-f795b275-3a1c-4b5c-8821-bc5ad6867399')\"\n",
       "            title=\"Convert this dataframe to an interactive table.\"\n",
       "            style=\"display:none;\">\n",
       "\n",
       "  <svg xmlns=\"http://www.w3.org/2000/svg\" height=\"24px\" viewBox=\"0 -960 960 960\">\n",
       "    <path d=\"M120-120v-720h720v720H120Zm60-500h600v-160H180v160Zm220 220h160v-160H400v160Zm0 220h160v-160H400v160ZM180-400h160v-160H180v160Zm440 0h160v-160H620v160ZM180-180h160v-160H180v160Zm440 0h160v-160H620v160Z\"/>\n",
       "  </svg>\n",
       "    </button>\n",
       "\n",
       "  <style>\n",
       "    .colab-df-container {\n",
       "      display:flex;\n",
       "      gap: 12px;\n",
       "    }\n",
       "\n",
       "    .colab-df-convert {\n",
       "      background-color: #E8F0FE;\n",
       "      border: none;\n",
       "      border-radius: 50%;\n",
       "      cursor: pointer;\n",
       "      display: none;\n",
       "      fill: #1967D2;\n",
       "      height: 32px;\n",
       "      padding: 0 0 0 0;\n",
       "      width: 32px;\n",
       "    }\n",
       "\n",
       "    .colab-df-convert:hover {\n",
       "      background-color: #E2EBFA;\n",
       "      box-shadow: 0px 1px 2px rgba(60, 64, 67, 0.3), 0px 1px 3px 1px rgba(60, 64, 67, 0.15);\n",
       "      fill: #174EA6;\n",
       "    }\n",
       "\n",
       "    .colab-df-buttons div {\n",
       "      margin-bottom: 4px;\n",
       "    }\n",
       "\n",
       "    [theme=dark] .colab-df-convert {\n",
       "      background-color: #3B4455;\n",
       "      fill: #D2E3FC;\n",
       "    }\n",
       "\n",
       "    [theme=dark] .colab-df-convert:hover {\n",
       "      background-color: #434B5C;\n",
       "      box-shadow: 0px 1px 3px 1px rgba(0, 0, 0, 0.15);\n",
       "      filter: drop-shadow(0px 1px 2px rgba(0, 0, 0, 0.3));\n",
       "      fill: #FFFFFF;\n",
       "    }\n",
       "  </style>\n",
       "\n",
       "    <script>\n",
       "      const buttonEl =\n",
       "        document.querySelector('#df-f795b275-3a1c-4b5c-8821-bc5ad6867399 button.colab-df-convert');\n",
       "      buttonEl.style.display =\n",
       "        google.colab.kernel.accessAllowed ? 'block' : 'none';\n",
       "\n",
       "      async function convertToInteractive(key) {\n",
       "        const element = document.querySelector('#df-f795b275-3a1c-4b5c-8821-bc5ad6867399');\n",
       "        const dataTable =\n",
       "          await google.colab.kernel.invokeFunction('convertToInteractive',\n",
       "                                                    [key], {});\n",
       "        if (!dataTable) return;\n",
       "\n",
       "        const docLinkHtml = 'Like what you see? Visit the ' +\n",
       "          '<a target=\"_blank\" href=https://colab.research.google.com/notebooks/data_table.ipynb>data table notebook</a>'\n",
       "          + ' to learn more about interactive tables.';\n",
       "        element.innerHTML = '';\n",
       "        dataTable['output_type'] = 'display_data';\n",
       "        await google.colab.output.renderOutput(dataTable, element);\n",
       "        const docLink = document.createElement('div');\n",
       "        docLink.innerHTML = docLinkHtml;\n",
       "        element.appendChild(docLink);\n",
       "      }\n",
       "    </script>\n",
       "  </div>\n",
       "\n",
       "\n",
       "    </div>\n",
       "  </div>\n"
      ],
      "text/plain": [
       "                                            sentence  \\\n",
       "0  THIS STRATEGIC ALLIANCE AGREEMENT (\"Agreement\"...   \n",
       "\n",
       "                                        deidentified  \n",
       "0  <DOC> (\"Agreement\") is made and entered into a...  "
      ]
     },
     "execution_count": 13,
     "metadata": {},
     "output_type": "execute_result"
    }
   ],
   "source": [
    "result.select(\n",
    "    F.explode(F.arrays_zip(result.sentence.result, result.deidentified.result)).alias(\n",
    "        \"cols\"\n",
    "    )\n",
    ").select(\n",
    "    F.expr(\"cols['0']\").alias(\"sentence\"), F.expr(\"cols['1']\").alias(\"deidentified\")\n",
    ").toPandas()"
   ]
  },
  {
   "cell_type": "markdown",
   "id": "fc7f7662-6fb7-4ad6-b7a8-aa9587dafc85",
   "metadata": {
    "id": "fc7f7662-6fb7-4ad6-b7a8-aa9587dafc85"
   },
   "source": [
    "We have three modes to mask the entities in the Deidentification annotator. You can select the modes using the `.setMaskingPolicy()` parameter. The methods are the followings:\n",
    "\n",
    "**“entity_labels”**: Mask with the entity type of that chunk. (default) <br/>\n",
    "**“same_length_chars”**: Mask the deid entities with same length of asterix ( * ) with brackets ( [ , ] ) on both end. <br/>\n",
    "**“fixed_length_chars”**: Mask the deid entities with a fixed length of asterix ( * ). The length is setting up using the `setFixedMaskLength()` method. <br/>\n",
    "\n",
    "Let's try each of these and compare the results:"
   ]
  },
  {
   "cell_type": "code",
   "execution_count": 14,
   "id": "2294859f-933e-4675-a573-bc67c7dc7ce5",
   "metadata": {
    "id": "2294859f-933e-4675-a573-bc67c7dc7ce5"
   },
   "outputs": [],
   "source": [
    "# deid model with \"entity_labels\"\n",
    "deid_entity_labels = (\n",
    "    legal.DeIdentification()\n",
    "    .setInputCols([\"sentence\", \"token\", \"ner_chunk\"])\n",
    "    .setOutputCol(\"deid_entity_label\")\n",
    "    .setMode(\"mask\")\n",
    "    .setReturnEntityMappings(True)\n",
    "    .setMaskingPolicy(\"entity_labels\")\n",
    ")\n",
    "\n",
    "# deid model with \"same_length_chars\"\n",
    "deid_same_length = (\n",
    "    legal.DeIdentification()\n",
    "    .setInputCols([\"sentence\", \"token\", \"ner_chunk\"])\n",
    "    .setOutputCol(\"deid_same_length\")\n",
    "    .setMode(\"mask\")\n",
    "    .setReturnEntityMappings(True)\n",
    "    .setMaskingPolicy(\"same_length_chars\")\n",
    ")\n",
    "\n",
    "# deid model with \"fixed_length_chars\"\n",
    "deid_fixed_length = (\n",
    "    legal.DeIdentification()\n",
    "    .setInputCols([\"sentence\", \"token\", \"ner_chunk\"])\n",
    "    .setOutputCol(\"deid_fixed_length\")\n",
    "    .setMode(\"mask\")\n",
    "    .setReturnEntityMappings(True)\n",
    "    .setMaskingPolicy(\"fixed_length_chars\")\n",
    "    .setFixedMaskLength(4)\n",
    ")\n",
    "\n",
    "\n",
    "deid_pipeline = nlp.Pipeline(\n",
    "    stages=[\n",
    "        documentAssembler,\n",
    "        sentenceDetector,\n",
    "        tokenizer,\n",
    "        embeddings,\n",
    "        legal_ner,\n",
    "        ner_converter,\n",
    "        deid_entity_labels,\n",
    "        deid_same_length,\n",
    "        deid_fixed_length,\n",
    "    ]\n",
    ")\n",
    "\n",
    "\n",
    "empty_data = spark.createDataFrame([[\"\"]]).toDF(\"text\")\n",
    "\n",
    "model_deid = deid_pipeline.fit(empty_data)"
   ]
  },
  {
   "cell_type": "code",
   "execution_count": 15,
   "id": "a5d82d09-b920-45e3-8856-cbb3a43697af",
   "metadata": {
    "id": "a5d82d09-b920-45e3-8856-cbb3a43697af"
   },
   "outputs": [],
   "source": [
    "policy_result = model_deid.transform(spark.createDataFrame([[text]]).toDF(\"text\"))"
   ]
  },
  {
   "cell_type": "code",
   "execution_count": 16,
   "id": "d94fccb3-8874-428e-8cf3-2ed1bf443002",
   "metadata": {
    "colab": {
     "base_uri": "https://localhost:8080/"
    },
    "id": "d94fccb3-8874-428e-8cf3-2ed1bf443002",
    "outputId": "93948c54-b47a-4647-ba2a-9a0a85c28553"
   },
   "outputs": [
    {
     "name": "stdout",
     "output_type": "stream",
     "text": [
      "+--------------------+--------------------+--------------------+--------------------+--------------------+--------------------+--------------------+--------------------+--------------------+--------------------+--------------------+\n",
      "|                text|            document|            sentence|               token|          embeddings|                 ner|           ner_chunk|   deid_entity_label|                 aux|    deid_same_length|   deid_fixed_length|\n",
      "+--------------------+--------------------+--------------------+--------------------+--------------------+--------------------+--------------------+--------------------+--------------------+--------------------+--------------------+\n",
      "|THIS STRATEGIC AL...|[{document, 0, 24...|[{document, 0, 24...|[{token, 0, 3, TH...|[{word_embeddings...|[{named_entity, 0...|[{chunk, 0, 32, T...|[{document, 0, 18...|[{chunk, 0, 3, **...|[{document, 0, 24...|[{document, 0, 17...|\n",
      "+--------------------+--------------------+--------------------+--------------------+--------------------+--------------------+--------------------+--------------------+--------------------+--------------------+--------------------+\n",
      "\n"
     ]
    }
   ],
   "source": [
    "policy_result.show()"
   ]
  },
  {
   "cell_type": "code",
   "execution_count": 17,
   "id": "f759241e-63a1-47ef-a562-a0a0272ed0e0",
   "metadata": {
    "colab": {
     "base_uri": "https://localhost:8080/",
     "height": 98
    },
    "id": "f759241e-63a1-47ef-a562-a0a0272ed0e0",
    "outputId": "79b7d75e-0069-4a66-ecaf-55c244d981af"
   },
   "outputs": [
    {
     "data": {
      "application/vnd.google.colaboratory.intrinsic+json": {
       "summary": "{\n  \"name\": \")\",\n  \"rows\": 1,\n  \"fields\": [\n    {\n      \"column\": \"sentence\",\n      \"properties\": {\n        \"dtype\": \"string\",\n        \"num_unique_values\": 1,\n        \"samples\": [\n          \"THIS STRATEGIC ALLIANCE AGREEMENT (\\\"Agreement\\\") is made and entered into as of December 14, 2016 , by and between Hyatt Franchising Latin America, L.L.C., a limited liability company organized and existing under the laws of the State of Delaware\"\n        ],\n        \"semantic_type\": \"\",\n        \"description\": \"\"\n      }\n    },\n    {\n      \"column\": \"deid_entity_label\",\n      \"properties\": {\n        \"dtype\": \"string\",\n        \"num_unique_values\": 1,\n        \"samples\": [\n          \"<DOC> (\\\"Agreement\\\") is made and entered into as of <EFFDATE> , by and between <PARTY>, L.L.C., a limited liability company organized and existing under the laws of the State of Delaware\"\n        ],\n        \"semantic_type\": \"\",\n        \"description\": \"\"\n      }\n    },\n    {\n      \"column\": \"deid_same_length\",\n      \"properties\": {\n        \"dtype\": \"string\",\n        \"num_unique_values\": 1,\n        \"samples\": [\n          \"[*******************************] (\\\"Agreement\\\") is made and entered into as of [***************] , by and between [*****************************], L.L.C., a limited liability company organized and existing under the laws of the State of Delaware\"\n        ],\n        \"semantic_type\": \"\",\n        \"description\": \"\"\n      }\n    },\n    {\n      \"column\": \"deid_fixed_length\",\n      \"properties\": {\n        \"dtype\": \"string\",\n        \"num_unique_values\": 1,\n        \"samples\": [\n          \"**** (\\\"Agreement\\\") is made and entered into as of **** , by and between ****, L.L.C., a limited liability company organized and existing under the laws of the State of Delaware\"\n        ],\n        \"semantic_type\": \"\",\n        \"description\": \"\"\n      }\n    }\n  ]\n}",
       "type": "dataframe"
      },
      "text/html": [
       "\n",
       "  <div id=\"df-daf225b2-2d25-4e1f-b98d-bbba485f90aa\" class=\"colab-df-container\">\n",
       "    <div>\n",
       "<style scoped>\n",
       "    .dataframe tbody tr th:only-of-type {\n",
       "        vertical-align: middle;\n",
       "    }\n",
       "\n",
       "    .dataframe tbody tr th {\n",
       "        vertical-align: top;\n",
       "    }\n",
       "\n",
       "    .dataframe thead th {\n",
       "        text-align: right;\n",
       "    }\n",
       "</style>\n",
       "<table border=\"1\" class=\"dataframe\">\n",
       "  <thead>\n",
       "    <tr style=\"text-align: right;\">\n",
       "      <th></th>\n",
       "      <th>sentence</th>\n",
       "      <th>deid_entity_label</th>\n",
       "      <th>deid_same_length</th>\n",
       "      <th>deid_fixed_length</th>\n",
       "    </tr>\n",
       "  </thead>\n",
       "  <tbody>\n",
       "    <tr>\n",
       "      <th>0</th>\n",
       "      <td>THIS STRATEGIC ALLIANCE AGREEMENT (\"Agreement\"...</td>\n",
       "      <td>&lt;DOC&gt; (\"Agreement\") is made and entered into a...</td>\n",
       "      <td>[*******************************] (\"Agreement\"...</td>\n",
       "      <td>**** (\"Agreement\") is made and entered into as...</td>\n",
       "    </tr>\n",
       "  </tbody>\n",
       "</table>\n",
       "</div>\n",
       "    <div class=\"colab-df-buttons\">\n",
       "\n",
       "  <div class=\"colab-df-container\">\n",
       "    <button class=\"colab-df-convert\" onclick=\"convertToInteractive('df-daf225b2-2d25-4e1f-b98d-bbba485f90aa')\"\n",
       "            title=\"Convert this dataframe to an interactive table.\"\n",
       "            style=\"display:none;\">\n",
       "\n",
       "  <svg xmlns=\"http://www.w3.org/2000/svg\" height=\"24px\" viewBox=\"0 -960 960 960\">\n",
       "    <path d=\"M120-120v-720h720v720H120Zm60-500h600v-160H180v160Zm220 220h160v-160H400v160Zm0 220h160v-160H400v160ZM180-400h160v-160H180v160Zm440 0h160v-160H620v160ZM180-180h160v-160H180v160Zm440 0h160v-160H620v160Z\"/>\n",
       "  </svg>\n",
       "    </button>\n",
       "\n",
       "  <style>\n",
       "    .colab-df-container {\n",
       "      display:flex;\n",
       "      gap: 12px;\n",
       "    }\n",
       "\n",
       "    .colab-df-convert {\n",
       "      background-color: #E8F0FE;\n",
       "      border: none;\n",
       "      border-radius: 50%;\n",
       "      cursor: pointer;\n",
       "      display: none;\n",
       "      fill: #1967D2;\n",
       "      height: 32px;\n",
       "      padding: 0 0 0 0;\n",
       "      width: 32px;\n",
       "    }\n",
       "\n",
       "    .colab-df-convert:hover {\n",
       "      background-color: #E2EBFA;\n",
       "      box-shadow: 0px 1px 2px rgba(60, 64, 67, 0.3), 0px 1px 3px 1px rgba(60, 64, 67, 0.15);\n",
       "      fill: #174EA6;\n",
       "    }\n",
       "\n",
       "    .colab-df-buttons div {\n",
       "      margin-bottom: 4px;\n",
       "    }\n",
       "\n",
       "    [theme=dark] .colab-df-convert {\n",
       "      background-color: #3B4455;\n",
       "      fill: #D2E3FC;\n",
       "    }\n",
       "\n",
       "    [theme=dark] .colab-df-convert:hover {\n",
       "      background-color: #434B5C;\n",
       "      box-shadow: 0px 1px 3px 1px rgba(0, 0, 0, 0.15);\n",
       "      filter: drop-shadow(0px 1px 2px rgba(0, 0, 0, 0.3));\n",
       "      fill: #FFFFFF;\n",
       "    }\n",
       "  </style>\n",
       "\n",
       "    <script>\n",
       "      const buttonEl =\n",
       "        document.querySelector('#df-daf225b2-2d25-4e1f-b98d-bbba485f90aa button.colab-df-convert');\n",
       "      buttonEl.style.display =\n",
       "        google.colab.kernel.accessAllowed ? 'block' : 'none';\n",
       "\n",
       "      async function convertToInteractive(key) {\n",
       "        const element = document.querySelector('#df-daf225b2-2d25-4e1f-b98d-bbba485f90aa');\n",
       "        const dataTable =\n",
       "          await google.colab.kernel.invokeFunction('convertToInteractive',\n",
       "                                                    [key], {});\n",
       "        if (!dataTable) return;\n",
       "\n",
       "        const docLinkHtml = 'Like what you see? Visit the ' +\n",
       "          '<a target=\"_blank\" href=https://colab.research.google.com/notebooks/data_table.ipynb>data table notebook</a>'\n",
       "          + ' to learn more about interactive tables.';\n",
       "        element.innerHTML = '';\n",
       "        dataTable['output_type'] = 'display_data';\n",
       "        await google.colab.output.renderOutput(dataTable, element);\n",
       "        const docLink = document.createElement('div');\n",
       "        docLink.innerHTML = docLinkHtml;\n",
       "        element.appendChild(docLink);\n",
       "      }\n",
       "    </script>\n",
       "  </div>\n",
       "\n",
       "\n",
       "    </div>\n",
       "  </div>\n"
      ],
      "text/plain": [
       "                                            sentence  \\\n",
       "0  THIS STRATEGIC ALLIANCE AGREEMENT (\"Agreement\"...   \n",
       "\n",
       "                                   deid_entity_label  \\\n",
       "0  <DOC> (\"Agreement\") is made and entered into a...   \n",
       "\n",
       "                                    deid_same_length  \\\n",
       "0  [*******************************] (\"Agreement\"...   \n",
       "\n",
       "                                   deid_fixed_length  \n",
       "0  **** (\"Agreement\") is made and entered into as...  "
      ]
     },
     "execution_count": 17,
     "metadata": {},
     "output_type": "execute_result"
    }
   ],
   "source": [
    "policy_result.select(\n",
    "    F.explode(\n",
    "        F.arrays_zip(\n",
    "            policy_result.sentence.result,\n",
    "            policy_result.deid_entity_label.result,\n",
    "            policy_result.deid_same_length.result,\n",
    "            policy_result.deid_fixed_length.result,\n",
    "        )\n",
    "    ).alias(\"cols\")\n",
    ").select(\n",
    "    F.expr(\"cols['0']\").alias(\"sentence\"),\n",
    "    F.expr(\"cols['1']\").alias(\"deid_entity_label\"),\n",
    "    F.expr(\"cols['2']\").alias(\"deid_same_length\"),\n",
    "    F.expr(\"cols['3']\").alias(\"deid_fixed_length\"),\n",
    ").toPandas()"
   ]
  },
  {
   "cell_type": "markdown",
   "id": "24ad89cd-3022-46df-b4a1-6f6d90d0445a",
   "metadata": {
    "id": "24ad89cd-3022-46df-b4a1-6f6d90d0445a"
   },
   "source": [
    "### Mapping Column"
   ]
  },
  {
   "cell_type": "code",
   "execution_count": 18,
   "id": "941bfa77-2a19-4d47-ace2-0d5c6eb66514",
   "metadata": {
    "colab": {
     "base_uri": "https://localhost:8080/"
    },
    "id": "941bfa77-2a19-4d47-ace2-0d5c6eb66514",
    "outputId": "44835a80-e8ca-4799-e89d-6a7af584065e"
   },
   "outputs": [
    {
     "name": "stdout",
     "output_type": "stream",
     "text": [
      "+--------------------------------------------------------------------------------------------------------------------------------------------------------------------------------------------------------------------------------------------------------------------------------------------------------------------------------------------------------------------------------------------------------------------------------------------------------------------------------------------------------------------------------------------------------------------------------------------------------------------------------------------------------------------------------------------------------------------------------------------------------------------+\n",
      "|aux                                                                                                                                                                                                                                                                                                                                                                                                                                                                                                                                                                                                                                                                                                                                                                 |\n",
      "+--------------------------------------------------------------------------------------------------------------------------------------------------------------------------------------------------------------------------------------------------------------------------------------------------------------------------------------------------------------------------------------------------------------------------------------------------------------------------------------------------------------------------------------------------------------------------------------------------------------------------------------------------------------------------------------------------------------------------------------------------------------------+\n",
      "|[{chunk, 0, 4, <DOC>, {originalChunk -> THIS STRATEGIC ALLIANCE AGREEMENT, chunk -> 0, beginOriginalChunk -> 0, confidence -> 0.917525, ner_source -> ner_chunk, deid_source -> ner_chunk, entity -> DOC, endOriginalChunk -> 32, sentence -> 0}, []}, {chunk, 51, 59, <EFFDATE>, {originalChunk -> December 14, 2016, chunk -> 1, beginOriginalChunk -> 79, confidence -> 0.988075, ner_source -> ner_chunk, deid_source -> ner_chunk, entity -> EFFDATE, endOriginalChunk -> 95, sentence -> 0}, []}, {chunk, 78, 84, <PARTY>, {originalChunk -> Hyatt Franchising Latin America, chunk -> 2, beginOriginalChunk -> 114, confidence -> 0.853575, ner_source -> ner_chunk, deid_source -> ner_chunk, entity -> PARTY, endOriginalChunk -> 144, sentence -> 0}, []}]|\n",
      "+--------------------------------------------------------------------------------------------------------------------------------------------------------------------------------------------------------------------------------------------------------------------------------------------------------------------------------------------------------------------------------------------------------------------------------------------------------------------------------------------------------------------------------------------------------------------------------------------------------------------------------------------------------------------------------------------------------------------------------------------------------------------+\n",
      "\n"
     ]
    }
   ],
   "source": [
    "result.select(\"aux\").show(truncate=False)"
   ]
  },
  {
   "cell_type": "code",
   "execution_count": 19,
   "id": "ea4502c9-ae7b-4bf0-97ec-0ed7a6ba2f32",
   "metadata": {
    "colab": {
     "base_uri": "https://localhost:8080/"
    },
    "id": "ea4502c9-ae7b-4bf0-97ec-0ed7a6ba2f32",
    "outputId": "511428ea-a294-47b5-f3b0-293296cab31b"
   },
   "outputs": [
    {
     "name": "stdout",
     "output_type": "stream",
     "text": [
      "+---------------------------------+----------+--------+---------+----------+--------+\n",
      "|chunk                            |beginChunk|endChunk|label    |beginLabel|endLabel|\n",
      "+---------------------------------+----------+--------+---------+----------+--------+\n",
      "|THIS STRATEGIC ALLIANCE AGREEMENT|0         |32      |<DOC>    |0         |4       |\n",
      "|December 14, 2016                |79        |95      |<EFFDATE>|51        |59      |\n",
      "|Hyatt Franchising Latin America  |114       |144     |<PARTY>  |78        |84      |\n",
      "+---------------------------------+----------+--------+---------+----------+--------+\n",
      "\n"
     ]
    }
   ],
   "source": [
    "result.select(\n",
    "    F.explode(\n",
    "        F.arrays_zip(\n",
    "            result.aux.metadata, result.aux.result, result.aux.begin, result.aux.end\n",
    "        )\n",
    "    ).alias(\"cols\")\n",
    ").select(\n",
    "    F.expr(\"cols['0']['originalChunk']\").alias(\"chunk\"),\n",
    "    F.expr(\"cols['0']['beginOriginalChunk']\").alias(\"beginChunk\"),\n",
    "    F.expr(\"cols['0']['endOriginalChunk']\").alias(\"endChunk\"),\n",
    "    F.expr(\"cols['1']\").alias(\"label\"),\n",
    "    F.expr(\"cols['2']\").alias(\"beginLabel\"),\n",
    "    F.expr(\"cols['3']\").alias(\"endLabel\"),\n",
    ").show(truncate=False)"
   ]
  },
  {
   "cell_type": "markdown",
   "id": "f9673cfe-a13e-4099-bb22-30084ec4cf3b",
   "metadata": {
    "id": "f9673cfe-a13e-4099-bb22-30084ec4cf3b"
   },
   "source": [
    "## Reidentification\n",
    "\n",
    "We can use `ReIdentification` annotator to go back to the original sentence."
   ]
  },
  {
   "cell_type": "code",
   "execution_count": 20,
   "id": "0a1ce1bf-2c4f-4bf9-b0d9-84f8fefcfb30",
   "metadata": {
    "id": "0a1ce1bf-2c4f-4bf9-b0d9-84f8fefcfb30"
   },
   "outputs": [],
   "source": [
    "reIdentification = (\n",
    "    legal.ReIdentification()\n",
    "    .setInputCols([\"aux\", \"deidentified\"])\n",
    "    .setOutputCol(\"original\")\n",
    ")"
   ]
  },
  {
   "cell_type": "code",
   "execution_count": 21,
   "id": "5e0467f8-87dd-424b-b4c0-25fae1cb1b19",
   "metadata": {
    "id": "5e0467f8-87dd-424b-b4c0-25fae1cb1b19"
   },
   "outputs": [],
   "source": [
    "reid_result = reIdentification.transform(result)"
   ]
  },
  {
   "cell_type": "code",
   "execution_count": 22,
   "id": "80a4f86b-bb67-4fc2-8686-146770a50f33",
   "metadata": {
    "colab": {
     "base_uri": "https://localhost:8080/"
    },
    "id": "80a4f86b-bb67-4fc2-8686-146770a50f33",
    "outputId": "c5cf5313-3786-450d-c763-d72c2bf5e91c"
   },
   "outputs": [
    {
     "name": "stdout",
     "output_type": "stream",
     "text": [
      "+--------------------+--------------------+--------------------+--------------------+--------------------+--------------------+--------------------+--------------------+--------------------+--------------------+\n",
      "|                text|            document|            sentence|               token|          embeddings|                 ner|           ner_chunk|        deidentified|                 aux|            original|\n",
      "+--------------------+--------------------+--------------------+--------------------+--------------------+--------------------+--------------------+--------------------+--------------------+--------------------+\n",
      "|THIS STRATEGIC AL...|[{document, 0, 24...|[{document, 0, 24...|[{token, 0, 3, TH...|[{word_embeddings...|[{named_entity, 0...|[{chunk, 0, 32, T...|[{document, 0, 18...|[{chunk, 0, 4, <D...|[{document, 0, 24...|\n",
      "+--------------------+--------------------+--------------------+--------------------+--------------------+--------------------+--------------------+--------------------+--------------------+--------------------+\n",
      "\n"
     ]
    }
   ],
   "source": [
    "reid_result.show()"
   ]
  },
  {
   "cell_type": "code",
   "execution_count": 23,
   "id": "b3a8e7d3-9cfd-4ad0-a129-e350a9669c9f",
   "metadata": {
    "colab": {
     "base_uri": "https://localhost:8080/"
    },
    "id": "b3a8e7d3-9cfd-4ad0-a129-e350a9669c9f",
    "outputId": "8196cd4c-3626-4246-970b-740913562785"
   },
   "outputs": [
    {
     "name": "stdout",
     "output_type": "stream",
     "text": [
      "THIS STRATEGIC ALLIANCE AGREEMENT (\"Agreement\") is made and entered into as of December 14, 2016 , by and between Hyatt Franchising Latin America, L.L.C., a limited liability company organized and existing under the laws of the State of Delaware \n",
      "+-------------------------------------------------------------------------------------------------------------------------------------------------------------------------------------------------------------------------------------------------------+\n",
      "|result                                                                                                                                                                                                                                                 |\n",
      "+-------------------------------------------------------------------------------------------------------------------------------------------------------------------------------------------------------------------------------------------------------+\n",
      "|[THIS STRATEGIC ALLIANCE AGREEMENT (\"Agreement\") is made and entered into as of December 14, 2016 , by and between Hyatt Franchising Latin America, L.L.C., a limited liability company organized and existing under the laws of the State of Delaware]|\n",
      "+-------------------------------------------------------------------------------------------------------------------------------------------------------------------------------------------------------------------------------------------------------+\n",
      "\n"
     ]
    }
   ],
   "source": [
    "print(text)\n",
    "\n",
    "reid_result.select(\"original.result\").show(truncate=False)"
   ]
  },
  {
   "cell_type": "markdown",
   "id": "27d5c012-0eef-48a5-9d3d-915e942f5639",
   "metadata": {
    "id": "27d5c012-0eef-48a5-9d3d-915e942f5639"
   },
   "source": [
    "## Using multiple NER in the same pipeline"
   ]
  },
  {
   "cell_type": "code",
   "execution_count": 24,
   "id": "4b11381f-af80-49e7-9d30-418a753fa08f",
   "metadata": {
    "colab": {
     "base_uri": "https://localhost:8080/"
    },
    "id": "4b11381f-af80-49e7-9d30-418a753fa08f",
    "outputId": "fcd52799-4d14-4fed-c443-6c49b9793f51"
   },
   "outputs": [
    {
     "name": "stdout",
     "output_type": "stream",
     "text": [
      "roberta_embeddings_legal_roberta_base download started this may take some time.\n",
      "Approximate size to download 447.2 MB\n",
      "[OK!]\n",
      "legner_contract_doc_parties download started this may take some time.\n",
      "[OK!]\n",
      "legner_signers download started this may take some time.\n",
      "[OK!]\n"
     ]
    }
   ],
   "source": [
    "documentAssembler = nlp.DocumentAssembler().setInputCol(\"text\").setOutputCol(\"document\")\n",
    "\n",
    "sentenceDetector = (\n",
    "    nlp.SentenceDetector().setInputCols([\"document\"]).setOutputCol(\"sentence\")\n",
    ")\n",
    "\n",
    "tokenizer = nlp.Tokenizer().setInputCols([\"sentence\"]).setOutputCol(\"token\")\n",
    "\n",
    "embeddings = (\n",
    "    nlp.RoBertaEmbeddings.pretrained(\"roberta_embeddings_legal_roberta_base\", \"en\")\n",
    "    .setInputCols([\"sentence\", \"token\"])\n",
    "    .setOutputCol(\"embeddings\")\n",
    "    .setStorageRef(\"roberta_embeddings_legal_roberta_base_en\")\n",
    ")\n",
    "\n",
    "legal_ner = (\n",
    "    legal.NerModel.pretrained(\"legner_contract_doc_parties\", \"en\", \"legal/models\")\n",
    "    .setInputCols([\"sentence\", \"token\", \"embeddings\"])\n",
    "    .setOutputCol(\"ner\")\n",
    ")\n",
    "# .setLabelCasing(\"upper\")\n",
    "\n",
    "ner_converter = (\n",
    "    legal.NerConverter()\n",
    "    .setInputCols([\"sentence\", \"token\", \"ner\"])\n",
    "    .setOutputCol(\"ner_chunk\")\n",
    "    .setReplaceLabels({\"ALIAS\": \"PARTY\"})\n",
    ")\n",
    "\n",
    "ner_signers = (\n",
    "    legal.NerModel.pretrained(\"legner_signers\", \"en\", \"legal/models\")\n",
    "    .setInputCols([\"sentence\", \"token\", \"embeddings\"])\n",
    "    .setOutputCol(\"ner_signers\")\n",
    ")\n",
    "# .setLabelCasing(\"upper\")\n",
    "\n",
    "ner_converter_signers = (\n",
    "    nlp.NerConverter()\n",
    "    .setInputCols([\"sentence\", \"token\", \"ner_signers\"])\n",
    "    .setOutputCol(\"ner_signer_chunk\")\n",
    ")\n",
    "\n",
    "chunk_merge = (\n",
    "    legal.ChunkMergeApproach()\n",
    "    .setInputCols(\"ner_signer_chunk\", \"ner_chunk\")\n",
    "    .setOutputCol(\"deid_merged_chunk\")\n",
    ")\n",
    "\n",
    "deidentification = (\n",
    "    legal.DeIdentification()\n",
    "    .setInputCols([\"sentence\", \"token\", \"deid_merged_chunk\"])\n",
    "    .setOutputCol(\"deidentified\")\n",
    "    .setMode(\"mask\")\n",
    "    .setIgnoreRegex(True)\n",
    ")\n",
    "\n",
    "\n",
    "nlp_pipeline = nlp.Pipeline(\n",
    "    stages=[\n",
    "        documentAssembler,\n",
    "        sentenceDetector,\n",
    "        tokenizer,\n",
    "        embeddings,\n",
    "        legal_ner,\n",
    "        ner_converter,\n",
    "        ner_signers,\n",
    "        ner_converter_signers,\n",
    "        chunk_merge,\n",
    "        deidentification,\n",
    "    ]\n",
    ")\n",
    "\n",
    "empty_data = spark.createDataFrame([[\"\"]]).toDF(\"text\")\n",
    "\n",
    "model = nlp_pipeline.fit(empty_data)"
   ]
  },
  {
   "cell_type": "code",
   "execution_count": 25,
   "id": "8f4ef972-ad0c-4297-896a-94b639027810",
   "metadata": {
    "id": "8f4ef972-ad0c-4297-896a-94b639027810"
   },
   "outputs": [],
   "source": [
    "text = \"\"\"ENTIRE AGREEMENT.  This Agreement contains the entire understanding of the parties hereto with respect to the transactions and matters contemplated hereby, supersedes all previous Agreements between i-Escrow and 2TheMart concerning the subject matter.\n",
    "\n",
    "2THEMART.COM, INC.:                         I-ESCROW, INC.:\n",
    "\n",
    "By:Dominic J. Magliarditi                By:Sanjay Bajaj Name: Dominic J. Magliarditi                Name: Sanjay Bajaj Title: President                            Title: VP Business Development Date: 6/21/99                               Date: 6/11/99 \"\"\""
   ]
  },
  {
   "cell_type": "code",
   "execution_count": 26,
   "id": "63fe74f9-768c-47c1-87e0-86d7a2a556bf",
   "metadata": {
    "id": "63fe74f9-768c-47c1-87e0-86d7a2a556bf"
   },
   "outputs": [],
   "source": [
    "result = model.transform(spark.createDataFrame([[text]]).toDF(\"text\"))\n"
   ]
  },
  {
   "cell_type": "code",
   "execution_count": 27,
   "id": "e445a81c-c02a-4cb1-856b-42aa3bb561bd",
   "metadata": {
    "colab": {
     "base_uri": "https://localhost:8080/"
    },
    "id": "e445a81c-c02a-4cb1-856b-42aa3bb561bd",
    "outputId": "f839a0df-aca8-4549-f54e-58c3c612b8a6"
   },
   "outputs": [
    {
     "name": "stdout",
     "output_type": "stream",
     "text": [
      "+----------------+---------+\n",
      "|chunk           |ner_label|\n",
      "+----------------+---------+\n",
      "|ENTIRE AGREEMENT|DOC      |\n",
      "+----------------+---------+\n",
      "\n"
     ]
    }
   ],
   "source": [
    "# legal_ner\n",
    "result.select(\n",
    "    F.explode(F.arrays_zip(result.ner_chunk.result, result.ner_chunk.metadata)).alias(\n",
    "        \"cols\"\n",
    "    )\n",
    ").select(\n",
    "    F.expr(\"cols['0']\").alias(\"chunk\"), F.expr(\"cols['1']['entity']\").alias(\"ner_label\")\n",
    ").show(truncate=False)"
   ]
  },
  {
   "cell_type": "code",
   "execution_count": 28,
   "id": "3256773b-3371-4af4-a4e3-34e2c818640c",
   "metadata": {
    "colab": {
     "base_uri": "https://localhost:8080/"
    },
    "id": "3256773b-3371-4af4-a4e3-34e2c818640c",
    "outputId": "8bb99863-4c2a-4ad8-f61f-c5b4d99758cc"
   },
   "outputs": [
    {
     "name": "stdout",
     "output_type": "stream",
     "text": [
      "+-----------------------+--------------+\n",
      "|chunk                  |ner_label     |\n",
      "+-----------------------+--------------+\n",
      "|INC                    |PARTY         |\n",
      "|J. Magliarditi         |SIGNING_PERSON|\n",
      "|Bajaj                  |SIGNING_PERSON|\n",
      "|Dominic J. Magliarditi |SIGNING_PERSON|\n",
      "|Sanjay Bajaj           |SIGNING_PERSON|\n",
      "|President              |SIGNING_TITLE |\n",
      "|VP Business Development|SIGNING_TITLE |\n",
      "+-----------------------+--------------+\n",
      "\n"
     ]
    }
   ],
   "source": [
    "# ner_signers\n",
    "result.select(\n",
    "    F.explode(\n",
    "        F.arrays_zip(result.ner_signer_chunk.result, result.ner_signer_chunk.metadata)\n",
    "    ).alias(\"cols\")\n",
    ").select(\n",
    "    F.expr(\"cols['0']\").alias(\"chunk\"), F.expr(\"cols['1']['entity']\").alias(\"ner_label\")\n",
    ").show(truncate=False)"
   ]
  },
  {
   "cell_type": "code",
   "execution_count": 29,
   "id": "4a899327-42d8-48c1-ab4a-5f692b10be22",
   "metadata": {
    "colab": {
     "base_uri": "https://localhost:8080/"
    },
    "id": "4a899327-42d8-48c1-ab4a-5f692b10be22",
    "outputId": "8331f7c6-6be2-463b-b729-3cc7834c736c"
   },
   "outputs": [
    {
     "name": "stdout",
     "output_type": "stream",
     "text": [
      "+-----------------------+--------------+\n",
      "|chunk                  |ner_label     |\n",
      "+-----------------------+--------------+\n",
      "|ENTIRE AGREEMENT       |DOC           |\n",
      "|INC                    |PARTY         |\n",
      "|J. Magliarditi         |SIGNING_PERSON|\n",
      "|Bajaj                  |SIGNING_PERSON|\n",
      "|Dominic J. Magliarditi |SIGNING_PERSON|\n",
      "|Sanjay Bajaj           |SIGNING_PERSON|\n",
      "|President              |SIGNING_TITLE |\n",
      "|VP Business Development|SIGNING_TITLE |\n",
      "+-----------------------+--------------+\n",
      "\n"
     ]
    }
   ],
   "source": [
    "# merged_chunk\n",
    "result.select(\n",
    "    F.explode(\n",
    "        F.arrays_zip(result.deid_merged_chunk.result, result.deid_merged_chunk.metadata)\n",
    "    ).alias(\"cols\")\n",
    ").select(\n",
    "    F.expr(\"cols['0']\").alias(\"chunk\"), F.expr(\"cols['1']['entity']\").alias(\"ner_label\")\n",
    ").show(truncate=False)"
   ]
  },
  {
   "cell_type": "code",
   "execution_count": 30,
   "id": "c6c21ec8-5e6a-4bb4-b0bd-d7aa14fb6fbe",
   "metadata": {
    "colab": {
     "base_uri": "https://localhost:8080/",
     "height": 143
    },
    "id": "c6c21ec8-5e6a-4bb4-b0bd-d7aa14fb6fbe",
    "outputId": "b0275aed-53fe-459d-b842-7633c0d3c693"
   },
   "outputs": [
    {
     "data": {
      "application/vnd.google.colaboratory.intrinsic+json": {
       "summary": "{\n  \"name\": \")\",\n  \"rows\": 3,\n  \"fields\": [\n    {\n      \"column\": \"sentence\",\n      \"properties\": {\n        \"dtype\": \"string\",\n        \"num_unique_values\": 3,\n        \"samples\": [\n          \"ENTIRE AGREEMENT.\",\n          \"This Agreement contains the entire understanding of the parties hereto with respect to the transactions and matters contemplated hereby, supersedes all previous Agreements between i-Escrow and 2TheMart concerning the subject matter.\",\n          \"2THEMART.COM, INC.:                         I-ESCROW, INC.:\\n\\nBy:Dominic J. Magliarditi                By:Sanjay Bajaj Name: Dominic J. Magliarditi                Name: Sanjay Bajaj Title: President                            Title: VP Business Development Date: 6/21/99                               Date: 6/11/99\"\n        ],\n        \"semantic_type\": \"\",\n        \"description\": \"\"\n      }\n    },\n    {\n      \"column\": \"deidentified\",\n      \"properties\": {\n        \"dtype\": \"string\",\n        \"num_unique_values\": 3,\n        \"samples\": [\n          \"<DOC>.\",\n          \"This Agreement contains the entire understanding of the parties hereto with respect to the transactions and matters contemplated hereby, supersedes all previous Agreements between i-Escrow and 2TheMart concerning the subject matter.\",\n          \"2THEMART.COM, INC.:                         I-ESCROW, <PARTY>.:\\n\\nBy:Dominic <SIGNING_PERSON>                By:Sanjay <SIGNING_PERSON> Name: <SIGNING_PERSON>                Name: <SIGNING_PERSON> Title: <SIGNING_TITLE>                            Title: <SIGNING_TITLE> Date: 6/21/99                               Date: 6/11/99\"\n        ],\n        \"semantic_type\": \"\",\n        \"description\": \"\"\n      }\n    }\n  ]\n}",
       "type": "dataframe"
      },
      "text/html": [
       "\n",
       "  <div id=\"df-f2f7f611-969c-4b70-8629-4b7ea5be1e84\" class=\"colab-df-container\">\n",
       "    <div>\n",
       "<style scoped>\n",
       "    .dataframe tbody tr th:only-of-type {\n",
       "        vertical-align: middle;\n",
       "    }\n",
       "\n",
       "    .dataframe tbody tr th {\n",
       "        vertical-align: top;\n",
       "    }\n",
       "\n",
       "    .dataframe thead th {\n",
       "        text-align: right;\n",
       "    }\n",
       "</style>\n",
       "<table border=\"1\" class=\"dataframe\">\n",
       "  <thead>\n",
       "    <tr style=\"text-align: right;\">\n",
       "      <th></th>\n",
       "      <th>sentence</th>\n",
       "      <th>deidentified</th>\n",
       "    </tr>\n",
       "  </thead>\n",
       "  <tbody>\n",
       "    <tr>\n",
       "      <th>0</th>\n",
       "      <td>ENTIRE AGREEMENT.</td>\n",
       "      <td>&lt;DOC&gt;.</td>\n",
       "    </tr>\n",
       "    <tr>\n",
       "      <th>1</th>\n",
       "      <td>This Agreement contains the entire understandi...</td>\n",
       "      <td>This Agreement contains the entire understandi...</td>\n",
       "    </tr>\n",
       "    <tr>\n",
       "      <th>2</th>\n",
       "      <td>2THEMART.COM, INC.:                         I-...</td>\n",
       "      <td>2THEMART.COM, INC.:                         I-...</td>\n",
       "    </tr>\n",
       "  </tbody>\n",
       "</table>\n",
       "</div>\n",
       "    <div class=\"colab-df-buttons\">\n",
       "\n",
       "  <div class=\"colab-df-container\">\n",
       "    <button class=\"colab-df-convert\" onclick=\"convertToInteractive('df-f2f7f611-969c-4b70-8629-4b7ea5be1e84')\"\n",
       "            title=\"Convert this dataframe to an interactive table.\"\n",
       "            style=\"display:none;\">\n",
       "\n",
       "  <svg xmlns=\"http://www.w3.org/2000/svg\" height=\"24px\" viewBox=\"0 -960 960 960\">\n",
       "    <path d=\"M120-120v-720h720v720H120Zm60-500h600v-160H180v160Zm220 220h160v-160H400v160Zm0 220h160v-160H400v160ZM180-400h160v-160H180v160Zm440 0h160v-160H620v160ZM180-180h160v-160H180v160Zm440 0h160v-160H620v160Z\"/>\n",
       "  </svg>\n",
       "    </button>\n",
       "\n",
       "  <style>\n",
       "    .colab-df-container {\n",
       "      display:flex;\n",
       "      gap: 12px;\n",
       "    }\n",
       "\n",
       "    .colab-df-convert {\n",
       "      background-color: #E8F0FE;\n",
       "      border: none;\n",
       "      border-radius: 50%;\n",
       "      cursor: pointer;\n",
       "      display: none;\n",
       "      fill: #1967D2;\n",
       "      height: 32px;\n",
       "      padding: 0 0 0 0;\n",
       "      width: 32px;\n",
       "    }\n",
       "\n",
       "    .colab-df-convert:hover {\n",
       "      background-color: #E2EBFA;\n",
       "      box-shadow: 0px 1px 2px rgba(60, 64, 67, 0.3), 0px 1px 3px 1px rgba(60, 64, 67, 0.15);\n",
       "      fill: #174EA6;\n",
       "    }\n",
       "\n",
       "    .colab-df-buttons div {\n",
       "      margin-bottom: 4px;\n",
       "    }\n",
       "\n",
       "    [theme=dark] .colab-df-convert {\n",
       "      background-color: #3B4455;\n",
       "      fill: #D2E3FC;\n",
       "    }\n",
       "\n",
       "    [theme=dark] .colab-df-convert:hover {\n",
       "      background-color: #434B5C;\n",
       "      box-shadow: 0px 1px 3px 1px rgba(0, 0, 0, 0.15);\n",
       "      filter: drop-shadow(0px 1px 2px rgba(0, 0, 0, 0.3));\n",
       "      fill: #FFFFFF;\n",
       "    }\n",
       "  </style>\n",
       "\n",
       "    <script>\n",
       "      const buttonEl =\n",
       "        document.querySelector('#df-f2f7f611-969c-4b70-8629-4b7ea5be1e84 button.colab-df-convert');\n",
       "      buttonEl.style.display =\n",
       "        google.colab.kernel.accessAllowed ? 'block' : 'none';\n",
       "\n",
       "      async function convertToInteractive(key) {\n",
       "        const element = document.querySelector('#df-f2f7f611-969c-4b70-8629-4b7ea5be1e84');\n",
       "        const dataTable =\n",
       "          await google.colab.kernel.invokeFunction('convertToInteractive',\n",
       "                                                    [key], {});\n",
       "        if (!dataTable) return;\n",
       "\n",
       "        const docLinkHtml = 'Like what you see? Visit the ' +\n",
       "          '<a target=\"_blank\" href=https://colab.research.google.com/notebooks/data_table.ipynb>data table notebook</a>'\n",
       "          + ' to learn more about interactive tables.';\n",
       "        element.innerHTML = '';\n",
       "        dataTable['output_type'] = 'display_data';\n",
       "        await google.colab.output.renderOutput(dataTable, element);\n",
       "        const docLink = document.createElement('div');\n",
       "        docLink.innerHTML = docLinkHtml;\n",
       "        element.appendChild(docLink);\n",
       "      }\n",
       "    </script>\n",
       "  </div>\n",
       "\n",
       "\n",
       "<div id=\"df-41e8eab7-9f49-4de1-84e3-7eb4ec79402d\">\n",
       "  <button class=\"colab-df-quickchart\" onclick=\"quickchart('df-41e8eab7-9f49-4de1-84e3-7eb4ec79402d')\"\n",
       "            title=\"Suggest charts\"\n",
       "            style=\"display:none;\">\n",
       "\n",
       "<svg xmlns=\"http://www.w3.org/2000/svg\" height=\"24px\"viewBox=\"0 0 24 24\"\n",
       "     width=\"24px\">\n",
       "    <g>\n",
       "        <path d=\"M19 3H5c-1.1 0-2 .9-2 2v14c0 1.1.9 2 2 2h14c1.1 0 2-.9 2-2V5c0-1.1-.9-2-2-2zM9 17H7v-7h2v7zm4 0h-2V7h2v10zm4 0h-2v-4h2v4z\"/>\n",
       "    </g>\n",
       "</svg>\n",
       "  </button>\n",
       "\n",
       "<style>\n",
       "  .colab-df-quickchart {\n",
       "      --bg-color: #E8F0FE;\n",
       "      --fill-color: #1967D2;\n",
       "      --hover-bg-color: #E2EBFA;\n",
       "      --hover-fill-color: #174EA6;\n",
       "      --disabled-fill-color: #AAA;\n",
       "      --disabled-bg-color: #DDD;\n",
       "  }\n",
       "\n",
       "  [theme=dark] .colab-df-quickchart {\n",
       "      --bg-color: #3B4455;\n",
       "      --fill-color: #D2E3FC;\n",
       "      --hover-bg-color: #434B5C;\n",
       "      --hover-fill-color: #FFFFFF;\n",
       "      --disabled-bg-color: #3B4455;\n",
       "      --disabled-fill-color: #666;\n",
       "  }\n",
       "\n",
       "  .colab-df-quickchart {\n",
       "    background-color: var(--bg-color);\n",
       "    border: none;\n",
       "    border-radius: 50%;\n",
       "    cursor: pointer;\n",
       "    display: none;\n",
       "    fill: var(--fill-color);\n",
       "    height: 32px;\n",
       "    padding: 0;\n",
       "    width: 32px;\n",
       "  }\n",
       "\n",
       "  .colab-df-quickchart:hover {\n",
       "    background-color: var(--hover-bg-color);\n",
       "    box-shadow: 0 1px 2px rgba(60, 64, 67, 0.3), 0 1px 3px 1px rgba(60, 64, 67, 0.15);\n",
       "    fill: var(--button-hover-fill-color);\n",
       "  }\n",
       "\n",
       "  .colab-df-quickchart-complete:disabled,\n",
       "  .colab-df-quickchart-complete:disabled:hover {\n",
       "    background-color: var(--disabled-bg-color);\n",
       "    fill: var(--disabled-fill-color);\n",
       "    box-shadow: none;\n",
       "  }\n",
       "\n",
       "  .colab-df-spinner {\n",
       "    border: 2px solid var(--fill-color);\n",
       "    border-color: transparent;\n",
       "    border-bottom-color: var(--fill-color);\n",
       "    animation:\n",
       "      spin 1s steps(1) infinite;\n",
       "  }\n",
       "\n",
       "  @keyframes spin {\n",
       "    0% {\n",
       "      border-color: transparent;\n",
       "      border-bottom-color: var(--fill-color);\n",
       "      border-left-color: var(--fill-color);\n",
       "    }\n",
       "    20% {\n",
       "      border-color: transparent;\n",
       "      border-left-color: var(--fill-color);\n",
       "      border-top-color: var(--fill-color);\n",
       "    }\n",
       "    30% {\n",
       "      border-color: transparent;\n",
       "      border-left-color: var(--fill-color);\n",
       "      border-top-color: var(--fill-color);\n",
       "      border-right-color: var(--fill-color);\n",
       "    }\n",
       "    40% {\n",
       "      border-color: transparent;\n",
       "      border-right-color: var(--fill-color);\n",
       "      border-top-color: var(--fill-color);\n",
       "    }\n",
       "    60% {\n",
       "      border-color: transparent;\n",
       "      border-right-color: var(--fill-color);\n",
       "    }\n",
       "    80% {\n",
       "      border-color: transparent;\n",
       "      border-right-color: var(--fill-color);\n",
       "      border-bottom-color: var(--fill-color);\n",
       "    }\n",
       "    90% {\n",
       "      border-color: transparent;\n",
       "      border-bottom-color: var(--fill-color);\n",
       "    }\n",
       "  }\n",
       "</style>\n",
       "\n",
       "  <script>\n",
       "    async function quickchart(key) {\n",
       "      const quickchartButtonEl =\n",
       "        document.querySelector('#' + key + ' button');\n",
       "      quickchartButtonEl.disabled = true;  // To prevent multiple clicks.\n",
       "      quickchartButtonEl.classList.add('colab-df-spinner');\n",
       "      try {\n",
       "        const charts = await google.colab.kernel.invokeFunction(\n",
       "            'suggestCharts', [key], {});\n",
       "      } catch (error) {\n",
       "        console.error('Error during call to suggestCharts:', error);\n",
       "      }\n",
       "      quickchartButtonEl.classList.remove('colab-df-spinner');\n",
       "      quickchartButtonEl.classList.add('colab-df-quickchart-complete');\n",
       "    }\n",
       "    (() => {\n",
       "      let quickchartButtonEl =\n",
       "        document.querySelector('#df-41e8eab7-9f49-4de1-84e3-7eb4ec79402d button');\n",
       "      quickchartButtonEl.style.display =\n",
       "        google.colab.kernel.accessAllowed ? 'block' : 'none';\n",
       "    })();\n",
       "  </script>\n",
       "</div>\n",
       "\n",
       "    </div>\n",
       "  </div>\n"
      ],
      "text/plain": [
       "                                            sentence  \\\n",
       "0                                  ENTIRE AGREEMENT.   \n",
       "1  This Agreement contains the entire understandi...   \n",
       "2  2THEMART.COM, INC.:                         I-...   \n",
       "\n",
       "                                        deidentified  \n",
       "0                                             <DOC>.  \n",
       "1  This Agreement contains the entire understandi...  \n",
       "2  2THEMART.COM, INC.:                         I-...  "
      ]
     },
     "execution_count": 30,
     "metadata": {},
     "output_type": "execute_result"
    }
   ],
   "source": [
    "result.select(\n",
    "    F.explode(F.arrays_zip(result.sentence.result, result.deidentified.result)).alias(\n",
    "        \"cols\"\n",
    "    )\n",
    ").select(\n",
    "    F.expr(\"cols['0']\").alias(\"sentence\"), F.expr(\"cols['1']\").alias(\"deidentified\")\n",
    ").toPandas()"
   ]
  },
  {
   "cell_type": "markdown",
   "id": "0de79296-97f8-4daa-940c-1fd8d176c8c3",
   "metadata": {
    "id": "0de79296-97f8-4daa-940c-1fd8d176c8c3"
   },
   "source": [
    "## Obfuscation mode"
   ]
  },
  {
   "cell_type": "markdown",
   "id": "52e7c83b-780b-4d3e-be7f-604cd310babd",
   "metadata": {
    "id": "52e7c83b-780b-4d3e-be7f-604cd310babd"
   },
   "source": [
    "In the obfuscation mode **DeIdentificationModel** will replace sensitive entities with random values of the same type.\n"
   ]
  },
  {
   "cell_type": "code",
   "execution_count": 31,
   "id": "31b20c5a-bc56-43e1-9101-6503c23ab49b",
   "metadata": {
    "id": "31b20c5a-bc56-43e1-9101-6503c23ab49b"
   },
   "outputs": [],
   "source": [
    "# This is the obfuscation dict for the new entities\n",
    "obs_lines = \"\"\"CTO#SIGNING_TITLE\n",
    "Project Manager#SIGNING_TITLE\n",
    "Sales Manager#SIGNING_TITLE\n",
    "Business Manager#SIGNING_TITLE\n",
    "Coordinator#SIGNING_TITLE\n",
    "Officer#SIGNING_TITLE\n",
    "Legal Agreement#DOC\n",
    "Contract#DOC\n",
    "Estate Document#DOC\n",
    "official Document#DOC\n",
    "Deed of Covenant#DOC\n",
    "TURER INC#PARTY\n",
    "Clark llc.#PARTY\n",
    "SESA CO.#PARTY\n",
    "John Snow Labs Inc#PARTY\n",
    "MGT Trust Company, LLC.#PARTY\n",
    "JAMES TURNER#SIGNING_PERSON\n",
    "Juan Garcia#SIGNING_PERSON\n",
    "Benjamin Dean#SIGNING_PERSON\n",
    "Tommy Lee#SIGNING_PERSON\n",
    "Dorothy Keen#SIGNING_PERSON\n",
    "(\"AGREEMENT\")#ALIAS\n",
    "(\"TRADE COMPANY\")#ALIAS\n",
    "(the\" Agreement\")#ALIAS\n",
    "(\"private company\")#ALIAS\n",
    "(the \"Contract\")#ALIAS\n",
    "26-06-1990#EFFDATE\n",
    "03/08/2025#EFFDATE\n",
    "01/01/2045#EFFDATE\n",
    "11/7/2016#EFFDATE\n",
    "12-12-2022#EFFDATE \"\"\"\n",
    "\n",
    "with open(\"obfuscate.txt\", \"w\") as f:\n",
    "    f.write(obs_lines)"
   ]
  },
  {
   "cell_type": "code",
   "execution_count": 32,
   "id": "210db7c7-e1a3-46ac-941f-160abc068ada",
   "metadata": {
    "id": "210db7c7-e1a3-46ac-941f-160abc068ada"
   },
   "outputs": [],
   "source": [
    "ner_converter_signers = (\n",
    "    nlp.NerConverter()\n",
    "    .setInputCols([\"sentence\", \"token\", \"ner_signers\"])\n",
    "    .setOutputCol(\"ner_signer_chunk\")\n",
    ")\n",
    "\n",
    "chunk_merge = (\n",
    "    legal.ChunkMergeApproach()\n",
    "    .setInputCols(\"ner_signer_chunk\", \"ner_chunk\")\n",
    "    .setOutputCol(\"deid_merged_chunk\")\n",
    ")\n",
    "\n",
    "obfuscation = (\n",
    "    legal.DeIdentification()\n",
    "    .setInputCols([\"sentence\", \"token\", \"ner_signer_chunk\"])\n",
    "    .setOutputCol(\"deidentified\")\n",
    "    .setMode(\"obfuscate\")\n",
    "    .setObfuscateDate(True)\n",
    "    .setObfuscateRefFile(\"obfuscate.txt\")\n",
    "    .setObfuscateRefSource(\"both\")\n",
    ")  # default: \"faker\"\n",
    "\n",
    "\n",
    "nlp_pipeline = nlp.Pipeline(\n",
    "    stages=[\n",
    "        documentAssembler,\n",
    "        sentenceDetector,\n",
    "        tokenizer,\n",
    "        embeddings,\n",
    "        legal_ner,\n",
    "        ner_converter,\n",
    "        ner_signers,\n",
    "        ner_converter_signers,\n",
    "        chunk_merge,\n",
    "        obfuscation,\n",
    "    ]\n",
    ")\n",
    "\n",
    "obfuscation_model = nlp_pipeline.fit(empty_data)"
   ]
  },
  {
   "cell_type": "code",
   "execution_count": 33,
   "id": "38268201-7202-462e-b195-59709e7fdc8f",
   "metadata": {
    "id": "38268201-7202-462e-b195-59709e7fdc8f"
   },
   "outputs": [],
   "source": [
    "text = \"\"\"\"Newegg\" \"Allied\" Newegg Inc. Allied Esports International, Inc. By  Mitesh Patel By:  Judson Hannigan Name: Mitesh Patel Name: Judson Hannigan Title: VP, Marketing Title: CEO Newegg Inc. Allied Esports International, Inc. \"\"\"\n",
    "\n",
    "result = obfuscation_model.transform(spark.createDataFrame([[text]]).toDF(\"text\"))"
   ]
  },
  {
   "cell_type": "code",
   "execution_count": 34,
   "id": "0264dd21-5927-46b3-82f3-575d7a0b7a16",
   "metadata": {
    "colab": {
     "base_uri": "https://localhost:8080/",
     "height": 174
    },
    "id": "0264dd21-5927-46b3-82f3-575d7a0b7a16",
    "outputId": "15cc5377-239e-42c2-d161-b1fb595eb0d3"
   },
   "outputs": [
    {
     "data": {
      "application/vnd.google.colaboratory.intrinsic+json": {
       "summary": "{\n  \"name\": \")\",\n  \"rows\": 4,\n  \"fields\": [\n    {\n      \"column\": \"sentence\",\n      \"properties\": {\n        \"dtype\": \"string\",\n        \"num_unique_values\": 3,\n        \"samples\": [\n          \"\\\"Newegg\\\" \\\"Allied\\\" Newegg Inc.\",\n          \"Allied Esports International, Inc.\",\n          \"By  Mitesh Patel By:  Judson Hannigan Name: Mitesh Patel Name: Judson Hannigan Title: VP, Marketing Title: CEO Newegg Inc.\"\n        ],\n        \"semantic_type\": \"\",\n        \"description\": \"\"\n      }\n    },\n    {\n      \"column\": \"deidentified\",\n      \"properties\": {\n        \"dtype\": \"string\",\n        \"num_unique_values\": 3,\n        \"samples\": [\n          \"\\\"Newegg\\\" \\\"Allied\\\" Newegg BlueSky Ventures, LP.\",\n          \"Platinum Law Group, PC.\",\n          \"By  Katina Parlor By:  Bunny Caroli Name: Katina Parlor Name: Bunny Caroli Title: Director Title: Chief Compliance Officer (CCO) Ruby Real Estate, LLC.\"\n        ],\n        \"semantic_type\": \"\",\n        \"description\": \"\"\n      }\n    }\n  ]\n}",
       "type": "dataframe"
      },
      "text/html": [
       "\n",
       "  <div id=\"df-b4bd64dd-b2de-484e-9b14-afdbc3392803\" class=\"colab-df-container\">\n",
       "    <div>\n",
       "<style scoped>\n",
       "    .dataframe tbody tr th:only-of-type {\n",
       "        vertical-align: middle;\n",
       "    }\n",
       "\n",
       "    .dataframe tbody tr th {\n",
       "        vertical-align: top;\n",
       "    }\n",
       "\n",
       "    .dataframe thead th {\n",
       "        text-align: right;\n",
       "    }\n",
       "</style>\n",
       "<table border=\"1\" class=\"dataframe\">\n",
       "  <thead>\n",
       "    <tr style=\"text-align: right;\">\n",
       "      <th></th>\n",
       "      <th>sentence</th>\n",
       "      <th>deidentified</th>\n",
       "    </tr>\n",
       "  </thead>\n",
       "  <tbody>\n",
       "    <tr>\n",
       "      <th>0</th>\n",
       "      <td>\"Newegg\" \"Allied\" Newegg Inc.</td>\n",
       "      <td>\"Newegg\" \"Allied\" Newegg BlueSky Ventures, LP.</td>\n",
       "    </tr>\n",
       "    <tr>\n",
       "      <th>1</th>\n",
       "      <td>Allied Esports International, Inc.</td>\n",
       "      <td>Platinum Law Group, PC.</td>\n",
       "    </tr>\n",
       "    <tr>\n",
       "      <th>2</th>\n",
       "      <td>By  Mitesh Patel By:  Judson Hannigan Name: Mi...</td>\n",
       "      <td>By  Katina Parlor By:  Bunny Caroli Name: Kati...</td>\n",
       "    </tr>\n",
       "    <tr>\n",
       "      <th>3</th>\n",
       "      <td>Allied Esports International, Inc.</td>\n",
       "      <td>Platinum Law Group, PC.</td>\n",
       "    </tr>\n",
       "  </tbody>\n",
       "</table>\n",
       "</div>\n",
       "    <div class=\"colab-df-buttons\">\n",
       "\n",
       "  <div class=\"colab-df-container\">\n",
       "    <button class=\"colab-df-convert\" onclick=\"convertToInteractive('df-b4bd64dd-b2de-484e-9b14-afdbc3392803')\"\n",
       "            title=\"Convert this dataframe to an interactive table.\"\n",
       "            style=\"display:none;\">\n",
       "\n",
       "  <svg xmlns=\"http://www.w3.org/2000/svg\" height=\"24px\" viewBox=\"0 -960 960 960\">\n",
       "    <path d=\"M120-120v-720h720v720H120Zm60-500h600v-160H180v160Zm220 220h160v-160H400v160Zm0 220h160v-160H400v160ZM180-400h160v-160H180v160Zm440 0h160v-160H620v160ZM180-180h160v-160H180v160Zm440 0h160v-160H620v160Z\"/>\n",
       "  </svg>\n",
       "    </button>\n",
       "\n",
       "  <style>\n",
       "    .colab-df-container {\n",
       "      display:flex;\n",
       "      gap: 12px;\n",
       "    }\n",
       "\n",
       "    .colab-df-convert {\n",
       "      background-color: #E8F0FE;\n",
       "      border: none;\n",
       "      border-radius: 50%;\n",
       "      cursor: pointer;\n",
       "      display: none;\n",
       "      fill: #1967D2;\n",
       "      height: 32px;\n",
       "      padding: 0 0 0 0;\n",
       "      width: 32px;\n",
       "    }\n",
       "\n",
       "    .colab-df-convert:hover {\n",
       "      background-color: #E2EBFA;\n",
       "      box-shadow: 0px 1px 2px rgba(60, 64, 67, 0.3), 0px 1px 3px 1px rgba(60, 64, 67, 0.15);\n",
       "      fill: #174EA6;\n",
       "    }\n",
       "\n",
       "    .colab-df-buttons div {\n",
       "      margin-bottom: 4px;\n",
       "    }\n",
       "\n",
       "    [theme=dark] .colab-df-convert {\n",
       "      background-color: #3B4455;\n",
       "      fill: #D2E3FC;\n",
       "    }\n",
       "\n",
       "    [theme=dark] .colab-df-convert:hover {\n",
       "      background-color: #434B5C;\n",
       "      box-shadow: 0px 1px 3px 1px rgba(0, 0, 0, 0.15);\n",
       "      filter: drop-shadow(0px 1px 2px rgba(0, 0, 0, 0.3));\n",
       "      fill: #FFFFFF;\n",
       "    }\n",
       "  </style>\n",
       "\n",
       "    <script>\n",
       "      const buttonEl =\n",
       "        document.querySelector('#df-b4bd64dd-b2de-484e-9b14-afdbc3392803 button.colab-df-convert');\n",
       "      buttonEl.style.display =\n",
       "        google.colab.kernel.accessAllowed ? 'block' : 'none';\n",
       "\n",
       "      async function convertToInteractive(key) {\n",
       "        const element = document.querySelector('#df-b4bd64dd-b2de-484e-9b14-afdbc3392803');\n",
       "        const dataTable =\n",
       "          await google.colab.kernel.invokeFunction('convertToInteractive',\n",
       "                                                    [key], {});\n",
       "        if (!dataTable) return;\n",
       "\n",
       "        const docLinkHtml = 'Like what you see? Visit the ' +\n",
       "          '<a target=\"_blank\" href=https://colab.research.google.com/notebooks/data_table.ipynb>data table notebook</a>'\n",
       "          + ' to learn more about interactive tables.';\n",
       "        element.innerHTML = '';\n",
       "        dataTable['output_type'] = 'display_data';\n",
       "        await google.colab.output.renderOutput(dataTable, element);\n",
       "        const docLink = document.createElement('div');\n",
       "        docLink.innerHTML = docLinkHtml;\n",
       "        element.appendChild(docLink);\n",
       "      }\n",
       "    </script>\n",
       "  </div>\n",
       "\n",
       "\n",
       "<div id=\"df-27891cd9-bf6f-4b9d-8878-0bc6c3c26266\">\n",
       "  <button class=\"colab-df-quickchart\" onclick=\"quickchart('df-27891cd9-bf6f-4b9d-8878-0bc6c3c26266')\"\n",
       "            title=\"Suggest charts\"\n",
       "            style=\"display:none;\">\n",
       "\n",
       "<svg xmlns=\"http://www.w3.org/2000/svg\" height=\"24px\"viewBox=\"0 0 24 24\"\n",
       "     width=\"24px\">\n",
       "    <g>\n",
       "        <path d=\"M19 3H5c-1.1 0-2 .9-2 2v14c0 1.1.9 2 2 2h14c1.1 0 2-.9 2-2V5c0-1.1-.9-2-2-2zM9 17H7v-7h2v7zm4 0h-2V7h2v10zm4 0h-2v-4h2v4z\"/>\n",
       "    </g>\n",
       "</svg>\n",
       "  </button>\n",
       "\n",
       "<style>\n",
       "  .colab-df-quickchart {\n",
       "      --bg-color: #E8F0FE;\n",
       "      --fill-color: #1967D2;\n",
       "      --hover-bg-color: #E2EBFA;\n",
       "      --hover-fill-color: #174EA6;\n",
       "      --disabled-fill-color: #AAA;\n",
       "      --disabled-bg-color: #DDD;\n",
       "  }\n",
       "\n",
       "  [theme=dark] .colab-df-quickchart {\n",
       "      --bg-color: #3B4455;\n",
       "      --fill-color: #D2E3FC;\n",
       "      --hover-bg-color: #434B5C;\n",
       "      --hover-fill-color: #FFFFFF;\n",
       "      --disabled-bg-color: #3B4455;\n",
       "      --disabled-fill-color: #666;\n",
       "  }\n",
       "\n",
       "  .colab-df-quickchart {\n",
       "    background-color: var(--bg-color);\n",
       "    border: none;\n",
       "    border-radius: 50%;\n",
       "    cursor: pointer;\n",
       "    display: none;\n",
       "    fill: var(--fill-color);\n",
       "    height: 32px;\n",
       "    padding: 0;\n",
       "    width: 32px;\n",
       "  }\n",
       "\n",
       "  .colab-df-quickchart:hover {\n",
       "    background-color: var(--hover-bg-color);\n",
       "    box-shadow: 0 1px 2px rgba(60, 64, 67, 0.3), 0 1px 3px 1px rgba(60, 64, 67, 0.15);\n",
       "    fill: var(--button-hover-fill-color);\n",
       "  }\n",
       "\n",
       "  .colab-df-quickchart-complete:disabled,\n",
       "  .colab-df-quickchart-complete:disabled:hover {\n",
       "    background-color: var(--disabled-bg-color);\n",
       "    fill: var(--disabled-fill-color);\n",
       "    box-shadow: none;\n",
       "  }\n",
       "\n",
       "  .colab-df-spinner {\n",
       "    border: 2px solid var(--fill-color);\n",
       "    border-color: transparent;\n",
       "    border-bottom-color: var(--fill-color);\n",
       "    animation:\n",
       "      spin 1s steps(1) infinite;\n",
       "  }\n",
       "\n",
       "  @keyframes spin {\n",
       "    0% {\n",
       "      border-color: transparent;\n",
       "      border-bottom-color: var(--fill-color);\n",
       "      border-left-color: var(--fill-color);\n",
       "    }\n",
       "    20% {\n",
       "      border-color: transparent;\n",
       "      border-left-color: var(--fill-color);\n",
       "      border-top-color: var(--fill-color);\n",
       "    }\n",
       "    30% {\n",
       "      border-color: transparent;\n",
       "      border-left-color: var(--fill-color);\n",
       "      border-top-color: var(--fill-color);\n",
       "      border-right-color: var(--fill-color);\n",
       "    }\n",
       "    40% {\n",
       "      border-color: transparent;\n",
       "      border-right-color: var(--fill-color);\n",
       "      border-top-color: var(--fill-color);\n",
       "    }\n",
       "    60% {\n",
       "      border-color: transparent;\n",
       "      border-right-color: var(--fill-color);\n",
       "    }\n",
       "    80% {\n",
       "      border-color: transparent;\n",
       "      border-right-color: var(--fill-color);\n",
       "      border-bottom-color: var(--fill-color);\n",
       "    }\n",
       "    90% {\n",
       "      border-color: transparent;\n",
       "      border-bottom-color: var(--fill-color);\n",
       "    }\n",
       "  }\n",
       "</style>\n",
       "\n",
       "  <script>\n",
       "    async function quickchart(key) {\n",
       "      const quickchartButtonEl =\n",
       "        document.querySelector('#' + key + ' button');\n",
       "      quickchartButtonEl.disabled = true;  // To prevent multiple clicks.\n",
       "      quickchartButtonEl.classList.add('colab-df-spinner');\n",
       "      try {\n",
       "        const charts = await google.colab.kernel.invokeFunction(\n",
       "            'suggestCharts', [key], {});\n",
       "      } catch (error) {\n",
       "        console.error('Error during call to suggestCharts:', error);\n",
       "      }\n",
       "      quickchartButtonEl.classList.remove('colab-df-spinner');\n",
       "      quickchartButtonEl.classList.add('colab-df-quickchart-complete');\n",
       "    }\n",
       "    (() => {\n",
       "      let quickchartButtonEl =\n",
       "        document.querySelector('#df-27891cd9-bf6f-4b9d-8878-0bc6c3c26266 button');\n",
       "      quickchartButtonEl.style.display =\n",
       "        google.colab.kernel.accessAllowed ? 'block' : 'none';\n",
       "    })();\n",
       "  </script>\n",
       "</div>\n",
       "\n",
       "    </div>\n",
       "  </div>\n"
      ],
      "text/plain": [
       "                                            sentence  \\\n",
       "0                      \"Newegg\" \"Allied\" Newegg Inc.   \n",
       "1                 Allied Esports International, Inc.   \n",
       "2  By  Mitesh Patel By:  Judson Hannigan Name: Mi...   \n",
       "3                 Allied Esports International, Inc.   \n",
       "\n",
       "                                        deidentified  \n",
       "0     \"Newegg\" \"Allied\" Newegg BlueSky Ventures, LP.  \n",
       "1                            Platinum Law Group, PC.  \n",
       "2  By  Katina Parlor By:  Bunny Caroli Name: Kati...  \n",
       "3                            Platinum Law Group, PC.  "
      ]
     },
     "execution_count": 34,
     "metadata": {},
     "output_type": "execute_result"
    }
   ],
   "source": [
    "result.select(\n",
    "    F.explode(F.arrays_zip(result.sentence.result, result.deidentified.result)).alias(\n",
    "        \"cols\"\n",
    "    )\n",
    ").select(\n",
    "    F.expr(\"cols['0']\").alias(\"sentence\"), F.expr(\"cols['1']\").alias(\"deidentified\")\n",
    ").toPandas()"
   ]
  },
  {
   "cell_type": "markdown",
   "id": "3ebd5940-8389-4acb-b505-6dab2eebbbb3",
   "metadata": {
    "id": "3ebd5940-8389-4acb-b505-6dab2eebbbb3"
   },
   "source": [
    "## Use full pipeline in the Light model"
   ]
  },
  {
   "cell_type": "code",
   "execution_count": 35,
   "id": "79bba6fc-b913-4e23-b6e1-315616756073",
   "metadata": {
    "id": "79bba6fc-b913-4e23-b6e1-315616756073"
   },
   "outputs": [],
   "source": [
    "light_model = nlp.LightPipeline(model)\n",
    "\n",
    "annotated_text = light_model.annotate(text)\n"
   ]
  },
  {
   "cell_type": "code",
   "execution_count": 36,
   "id": "0bc8d5d8-7980-42ea-bc19-cc1d8032d866",
   "metadata": {
    "colab": {
     "base_uri": "https://localhost:8080/"
    },
    "id": "0bc8d5d8-7980-42ea-bc19-cc1d8032d866",
    "outputId": "75ba19a8-58d0-4ff5-ed90-4a45e4a89399"
   },
   "outputs": [
    {
     "data": {
      "text/plain": [
       "['\"<PARTY>\" \"<PARTY>\" <PARTY>.',\n",
       " '<PARTY>.',\n",
       " 'By  <SIGNING_PERSON> By:  <SIGNING_PERSON> Name: <SIGNING_PERSON> Name: <SIGNING_PERSON> Title: <SIGNING_TITLE> Title: <SIGNING_TITLE> <PARTY>.',\n",
       " '<PARTY>.']"
      ]
     },
     "execution_count": 36,
     "metadata": {},
     "output_type": "execute_result"
    }
   ],
   "source": [
    "annotated_text[\"deidentified\"]"
   ]
  },
  {
   "cell_type": "code",
   "execution_count": 37,
   "id": "9f0c3c9f-b7b6-4e68-ae5d-9c8833bf06d4",
   "metadata": {
    "id": "9f0c3c9f-b7b6-4e68-ae5d-9c8833bf06d4"
   },
   "outputs": [],
   "source": [
    "obf_light_model = nlp.LightPipeline(obfuscation_model)\n",
    "\n",
    "annotated_text = obf_light_model.annotate(text)\n"
   ]
  },
  {
   "cell_type": "code",
   "execution_count": 38,
   "id": "53e556c2-80eb-42a3-a7d2-71a561ac9377",
   "metadata": {
    "colab": {
     "base_uri": "https://localhost:8080/"
    },
    "id": "53e556c2-80eb-42a3-a7d2-71a561ac9377",
    "outputId": "a33e5fda-f705-43e8-d16d-c718338f9541"
   },
   "outputs": [
    {
     "data": {
      "text/plain": [
       "['\"Newegg\" \"Allied\" Newegg BlueSky Ventures, LP.',\n",
       " 'Platinum Law Group, PC.',\n",
       " 'By  Katina Parlor By:  Bunny Caroli Name: Katina Parlor Name: Bunny Caroli Title: Director Title: Chief Compliance Officer (CCO) Ruby Real Estate, LLC.',\n",
       " 'Platinum Law Group, PC.']"
      ]
     },
     "execution_count": 38,
     "metadata": {},
     "output_type": "execute_result"
    }
   ],
   "source": [
    "annotated_text[\"deidentified\"]"
   ]
  },
  {
   "cell_type": "markdown",
   "id": "cc5ac615-13af-4149-bf78-96e2d27d9c5f",
   "metadata": {
    "id": "cc5ac615-13af-4149-bf78-96e2d27d9c5f"
   },
   "source": [
    "# Save the Pipeline and Use it from Your Local"
   ]
  },
  {
   "cell_type": "code",
   "execution_count": 39,
   "id": "f54386d7-486c-44e9-9557-954c45d9d493",
   "metadata": {
    "id": "f54386d7-486c-44e9-9557-954c45d9d493"
   },
   "outputs": [],
   "source": [
    "model.write().overwrite().save(\"pipeline_deid\")"
   ]
  },
  {
   "cell_type": "code",
   "execution_count": 40,
   "id": "2a6de84f-d5da-405a-afe6-7d3840dd454d",
   "metadata": {
    "id": "2a6de84f-d5da-405a-afe6-7d3840dd454d"
   },
   "outputs": [],
   "source": [
    "deid_pipeline = nlp.PretrainedPipeline.from_disk(\"pipeline_deid\")"
   ]
  },
  {
   "cell_type": "code",
   "execution_count": 41,
   "id": "cbd89eeb-f5f5-4639-9ccf-29c2491f4d37",
   "metadata": {
    "id": "cbd89eeb-f5f5-4639-9ccf-29c2491f4d37"
   },
   "outputs": [],
   "source": [
    "data = spark.createDataFrame([[text]]).toDF(\"text\")"
   ]
  },
  {
   "cell_type": "code",
   "execution_count": 42,
   "id": "e78dea29-7a4c-4724-8e2f-93e635c2602e",
   "metadata": {
    "colab": {
     "base_uri": "https://localhost:8080/"
    },
    "id": "e78dea29-7a4c-4724-8e2f-93e635c2602e",
    "outputId": "c3d8b9bb-8b7e-4bd2-f494-da667c6ad10b"
   },
   "outputs": [
    {
     "data": {
      "text/plain": [
       "[DocumentAssembler_4f5d0cd72a34,\n",
       " SentenceDetector_94ef3f719e85,\n",
       " REGEX_TOKENIZER_596b5138ec8d,\n",
       " ROBERTA_EMBEDDINGS_ad42a9ffcbbd,\n",
       " MedicalNerModel_93f728ff96e5,\n",
       " NER_CONVERTER_fe71246827e9,\n",
       " LegalNerModel_a75ed7366584,\n",
       " NerConverter_2fb826414e91,\n",
       " MERGE_99c90f475dae,\n",
       " DE-IDENTIFICATION_86d8fa17729c]"
      ]
     },
     "execution_count": 42,
     "metadata": {},
     "output_type": "execute_result"
    }
   ],
   "source": [
    "deid_pipeline.model.stages"
   ]
  },
  {
   "cell_type": "code",
   "execution_count": 43,
   "id": "de7e48e9-4433-40c8-8e88-a5d5a0265bb9",
   "metadata": {
    "id": "de7e48e9-4433-40c8-8e88-a5d5a0265bb9"
   },
   "outputs": [],
   "source": [
    "result = deid_pipeline.model.transform(data)"
   ]
  },
  {
   "cell_type": "code",
   "execution_count": 44,
   "id": "299b3bb5-ce06-476f-a650-69bbc935010f",
   "metadata": {
    "colab": {
     "base_uri": "https://localhost:8080/"
    },
    "id": "299b3bb5-ce06-476f-a650-69bbc935010f",
    "outputId": "242181a4-668e-4f78-839a-75c583881bfc"
   },
   "outputs": [
    {
     "name": "stdout",
     "output_type": "stream",
     "text": [
      "+--------------------+--------------------+--------------------+--------------------+--------------------+--------------------+--------------------+--------------------+--------------------+--------------------+--------------------+\n",
      "|                text|            document|            sentence|               token|          embeddings|                 ner|           ner_chunk|         ner_signers|    ner_signer_chunk|   deid_merged_chunk|        deidentified|\n",
      "+--------------------+--------------------+--------------------+--------------------+--------------------+--------------------+--------------------+--------------------+--------------------+--------------------+--------------------+\n",
      "|\"Newegg\" \"Allied\"...|[{document, 0, 22...|[{document, 0, 28...|[{token, 0, 0, \",...|[{word_embeddings...|[{named_entity, 0...|[{chunk, 1, 6, Ne...|[{named_entity, 0...|[{chunk, 25, 27, ...|[{chunk, 1, 6, Ne...|[{document, 0, 27...|\n",
      "+--------------------+--------------------+--------------------+--------------------+--------------------+--------------------+--------------------+--------------------+--------------------+--------------------+--------------------+\n",
      "\n"
     ]
    }
   ],
   "source": [
    "result.show()"
   ]
  },
  {
   "cell_type": "markdown",
   "id": "615a3cf3-ae62-40cf-b9b2-a68c8053c908",
   "metadata": {
    "id": "615a3cf3-ae62-40cf-b9b2-a68c8053c908"
   },
   "source": [
    "# Pretrained Deidentification Pipeline\n",
    "\n",
    "We have this pipeline can be used to deidentify legal information from texts.The legal information will be masked and obfuscated in the resulting text. The pipeline can mask and obfuscate `DOC`, `EFFDATE`, `PARTY`, `ALIAS`, `SIGNING_PERSON`, `SIGNING_TITLE`, `COUNTRY`, `CITY`, `STATE`, `STREET`, `ZIP`, `EMAIL`, `FAX`, `LOCATION-OTHER`, `DATE`,`PHONE` entities."
   ]
  },
  {
   "cell_type": "code",
   "execution_count": 45,
   "id": "994c32d7-44e7-4637-9f64-454af9168dab",
   "metadata": {
    "colab": {
     "base_uri": "https://localhost:8080/"
    },
    "id": "994c32d7-44e7-4637-9f64-454af9168dab",
    "outputId": "f0eed669-9bf5-4bc3-ce27-fa86db01ba0d"
   },
   "outputs": [
    {
     "name": "stdout",
     "output_type": "stream",
     "text": [
      "legpipe_deid download started this may take some time.\n",
      "Approx size to download 479.9 MB\n",
      "[OK!]\n"
     ]
    }
   ],
   "source": [
    "deid_pipeline = nlp.PretrainedPipeline(\"legpipe_deid\", \"en\", \"legal/models\")"
   ]
  },
  {
   "cell_type": "code",
   "execution_count": 46,
   "id": "a09f14d8-54d9-4ed9-a7c4-6074f421020a",
   "metadata": {
    "colab": {
     "base_uri": "https://localhost:8080/"
    },
    "id": "a09f14d8-54d9-4ed9-a7c4-6074f421020a",
    "outputId": "897459aa-0003-405b-e911-9d106c2ce7d7"
   },
   "outputs": [
    {
     "data": {
      "text/plain": [
       "[DocumentAssembler_bedb6ad8e416,\n",
       " SentenceDetector_7cb9cad055b9,\n",
       " REGEX_TOKENIZER_33de4324d9e9,\n",
       " DateMatcher_8860a592901e,\n",
       " Date2Chunk_d279ac477b89,\n",
       " ROBERTA_EMBEDDINGS_b915dff90901,\n",
       " LegalNerModel_8f2f91053ea4,\n",
       " NER_CONVERTER_f2f2eec81402,\n",
       " LegalNerModel_2581d15a167e,\n",
       " NER_CONVERTER_4502c0659baf,\n",
       " LegalNerModel_a75ed7366584,\n",
       " NER_CONVERTER_8d11e477e502,\n",
       " CONTEXTUAL-PARSER_eb730f0f4a6c,\n",
       " CONTEXTUAL-PARSER_c310f42dcaa2,\n",
       " CONTEXTUAL-PARSER_712bc31c58d5,\n",
       " CONTEXTUAL-PARSER_33a381cc561e,\n",
       " CONTEXTUAL-PARSER_19bbf8091ca3,\n",
       " MERGE_a653ce055651,\n",
       " DE-IDENTIFICATION_ae309c4ceb31,\n",
       " DE-IDENTIFICATION_746e07dacaec,\n",
       " DE-IDENTIFICATION_6a27cdc8a13f,\n",
       " DE-IDENTIFICATION_27363070431f]"
      ]
     },
     "execution_count": 46,
     "metadata": {},
     "output_type": "execute_result"
    }
   ],
   "source": [
    "deid_pipeline.model.stages"
   ]
  },
  {
   "cell_type": "code",
   "execution_count": 47,
   "id": "00a6b038-7178-4fe3-b7f6-664bad53ff92",
   "metadata": {
    "id": "00a6b038-7178-4fe3-b7f6-664bad53ff92"
   },
   "outputs": [],
   "source": [
    "text = \"\"\"CARGILL, INCORPORATED\n",
    "\n",
    "By:     Pirkko Suominen\n",
    "\n",
    "\n",
    "\n",
    "Name: Pirkko Suominen Title: Director, Bio Technology Development  Center,  Date:   10/19/2011\n",
    "\n",
    "BIOAMBER, SAS\n",
    "\n",
    "By:     Jean-François Huc\n",
    "\n",
    "\n",
    "\n",
    "Name: Jean-François Huc  Title: President Date:   October 15, 2011\n",
    "\n",
    "email : jeanfran@gmail.com\n",
    "phone : 18087339090 \"\"\""
   ]
  },
  {
   "cell_type": "code",
   "execution_count": 48,
   "id": "bd76c039-f1bb-4839-a2c5-9b5715629700",
   "metadata": {
    "id": "bd76c039-f1bb-4839-a2c5-9b5715629700"
   },
   "outputs": [],
   "source": [
    "deid_res = deid_pipeline.annotate(text)"
   ]
  },
  {
   "cell_type": "code",
   "execution_count": 49,
   "id": "84add88b-9686-4fcc-83fa-6f64465f4aff",
   "metadata": {
    "colab": {
     "base_uri": "https://localhost:8080/"
    },
    "id": "84add88b-9686-4fcc-83fa-6f64465f4aff",
    "outputId": "8062fe8e-a67a-4d44-a45c-eb7045528113"
   },
   "outputs": [
    {
     "data": {
      "text/plain": [
       "dict_keys(['obfuscated', 'email', 'document', 'ner_signers_chunk', 'deidentified', 'ner_contracts_chunk', 'alias', 'chiefs', 'masked_fixed_length_chars', 'ner_contracts', 'date', 'token', 'ner_signers', 'ner_generic_chunk', 'embeddings', 'ner_date_chunk', 'merged_ner_chunks', 'sentence', 'phone', 'orgs', 'masked_with_chars', 'ner_generic'])"
      ]
     },
     "execution_count": 49,
     "metadata": {},
     "output_type": "execute_result"
    }
   ],
   "source": [
    "deid_res.keys()"
   ]
  },
  {
   "cell_type": "code",
   "execution_count": 50,
   "id": "9551bf51-c2e4-4d7c-968e-1c75bd43f888",
   "metadata": {
    "colab": {
     "base_uri": "https://localhost:8080/",
     "height": 167
    },
    "id": "9551bf51-c2e4-4d7c-968e-1c75bd43f888",
    "outputId": "82a22ecb-d41a-4a72-ee24-fd325e9180af"
   },
   "outputs": [
    {
     "data": {
      "application/vnd.google.colaboratory.intrinsic+json": {
       "summary": "{\n  \"name\": \"df\",\n  \"rows\": 1,\n  \"fields\": [\n    {\n      \"column\": \"Sentence\",\n      \"properties\": {\n        \"dtype\": \"string\",\n        \"num_unique_values\": 1,\n        \"samples\": [\n          \"CARGILL, INCORPORATED\\n\\nBy:     Pirkko Suominen\\n\\n\\n\\nName: Pirkko Suominen Title: Director, Bio Technology Development  Center,  Date:   10/19/2011\\n\\nBIOAMBER, SAS\\n\\nBy:     Jean-Fran\\u00e7ois Huc\\n\\n\\n\\nName: Jean-Fran\\u00e7ois Huc  Title: President Date:   October 15, 2011\\n\\nemail : jeanfran@gmail.com\\nphone : 18087339090\"\n        ],\n        \"semantic_type\": \"\",\n        \"description\": \"\"\n      }\n    },\n    {\n      \"column\": \"Masked\",\n      \"properties\": {\n        \"dtype\": \"string\",\n        \"num_unique_values\": 1,\n        \"samples\": [\n          \"<ORG>\\n\\nBy:     <PERSON>\\n\\n\\n\\nName: <PERSON> Title: <PROFESSION>,  Date:   <DATE>\\n\\nBIOAMBER, SAS\\n\\nBy:     <PERSON>\\n\\n\\n\\nName: <PERSON>  Title: <PROFESSION> Date:   <DATE>\\n\\nemail : <EMAIL>\\nphone : <PHONE>\"\n        ],\n        \"semantic_type\": \"\",\n        \"description\": \"\"\n      }\n    },\n    {\n      \"column\": \"Masked with Chars\",\n      \"properties\": {\n        \"dtype\": \"string\",\n        \"num_unique_values\": 1,\n        \"samples\": [\n          \"[*******************]\\n\\nBy:     [*************]\\n\\n\\n\\nName: [*************] Title: [******************************************],  Date:   [********]\\n\\nBIOAMBER, SAS\\n\\nBy:     [***************]\\n\\n\\n\\nName: [***************]  Title: [*******] Date:   [**************]\\n\\nemail : [****************]\\nphone : [*********]\"\n        ],\n        \"semantic_type\": \"\",\n        \"description\": \"\"\n      }\n    },\n    {\n      \"column\": \"Masked with Fixed Chars\",\n      \"properties\": {\n        \"dtype\": \"string\",\n        \"num_unique_values\": 1,\n        \"samples\": [\n          \"****\\n\\nBy:     ****\\n\\n\\n\\nName: **** Title: ****,  Date:   ****\\n\\nBIOAMBER, SAS\\n\\nBy:     ****\\n\\n\\n\\nName: ****  Title: **** Date:   ****\\n\\nemail : ****\\nphone : ****\"\n        ],\n        \"semantic_type\": \"\",\n        \"description\": \"\"\n      }\n    },\n    {\n      \"column\": \"Obfuscated\",\n      \"properties\": {\n        \"dtype\": \"string\",\n        \"num_unique_values\": 1,\n        \"samples\": [\n          \"Rohm and Haas\\n\\nBy:     Aneita Keens\\n\\n\\n\\nName: Aneita Keens Title: Production assistant, radio,  Date:   1982-10-07\\n\\nBIOAMBER, SAS\\n\\nBy:     Bethanne Brooks\\n\\n\\n\\nName: Bethanne Brooks  Title: Systems developer Date:   2008-02-12\\n\\nemail : Delius@google.com\\nphone : 16109604540\"\n        ],\n        \"semantic_type\": \"\",\n        \"description\": \"\"\n      }\n    }\n  ]\n}",
       "type": "dataframe",
       "variable_name": "df"
      },
      "text/html": [
       "\n",
       "  <div id=\"df-e84455be-dcda-4d6b-9d46-d45a8f70f691\" class=\"colab-df-container\">\n",
       "    <div>\n",
       "<style scoped>\n",
       "    .dataframe tbody tr th:only-of-type {\n",
       "        vertical-align: middle;\n",
       "    }\n",
       "\n",
       "    .dataframe tbody tr th {\n",
       "        vertical-align: top;\n",
       "    }\n",
       "\n",
       "    .dataframe thead th {\n",
       "        text-align: right;\n",
       "    }\n",
       "</style>\n",
       "<table border=\"1\" class=\"dataframe\">\n",
       "  <thead>\n",
       "    <tr style=\"text-align: right;\">\n",
       "      <th></th>\n",
       "      <th>Sentence</th>\n",
       "      <th>Masked</th>\n",
       "      <th>Masked with Chars</th>\n",
       "      <th>Masked with Fixed Chars</th>\n",
       "      <th>Obfuscated</th>\n",
       "    </tr>\n",
       "  </thead>\n",
       "  <tbody>\n",
       "    <tr>\n",
       "      <th>0</th>\n",
       "      <td>CARGILL, INCORPORATED\\n\\nBy:     Pirkko Suominen\\n\\n\\n\\nName: Pirkko Suominen Title: Director, B...</td>\n",
       "      <td>&lt;ORG&gt;\\n\\nBy:     &lt;PERSON&gt;\\n\\n\\n\\nName: &lt;PERSON&gt; Title: &lt;PROFESSION&gt;,  Date:   &lt;DATE&gt;\\n\\nBIOAMBER...</td>\n",
       "      <td>[*******************]\\n\\nBy:     [*************]\\n\\n\\n\\nName: [*************] Title: [**********...</td>\n",
       "      <td>****\\n\\nBy:     ****\\n\\n\\n\\nName: **** Title: ****,  Date:   ****\\n\\nBIOAMBER, SAS\\n\\nBy:     **...</td>\n",
       "      <td>Rohm and Haas\\n\\nBy:     Aneita Keens\\n\\n\\n\\nName: Aneita Keens Title: Production assistant, rad...</td>\n",
       "    </tr>\n",
       "  </tbody>\n",
       "</table>\n",
       "</div>\n",
       "    <div class=\"colab-df-buttons\">\n",
       "\n",
       "  <div class=\"colab-df-container\">\n",
       "    <button class=\"colab-df-convert\" onclick=\"convertToInteractive('df-e84455be-dcda-4d6b-9d46-d45a8f70f691')\"\n",
       "            title=\"Convert this dataframe to an interactive table.\"\n",
       "            style=\"display:none;\">\n",
       "\n",
       "  <svg xmlns=\"http://www.w3.org/2000/svg\" height=\"24px\" viewBox=\"0 -960 960 960\">\n",
       "    <path d=\"M120-120v-720h720v720H120Zm60-500h600v-160H180v160Zm220 220h160v-160H400v160Zm0 220h160v-160H400v160ZM180-400h160v-160H180v160Zm440 0h160v-160H620v160ZM180-180h160v-160H180v160Zm440 0h160v-160H620v160Z\"/>\n",
       "  </svg>\n",
       "    </button>\n",
       "\n",
       "  <style>\n",
       "    .colab-df-container {\n",
       "      display:flex;\n",
       "      gap: 12px;\n",
       "    }\n",
       "\n",
       "    .colab-df-convert {\n",
       "      background-color: #E8F0FE;\n",
       "      border: none;\n",
       "      border-radius: 50%;\n",
       "      cursor: pointer;\n",
       "      display: none;\n",
       "      fill: #1967D2;\n",
       "      height: 32px;\n",
       "      padding: 0 0 0 0;\n",
       "      width: 32px;\n",
       "    }\n",
       "\n",
       "    .colab-df-convert:hover {\n",
       "      background-color: #E2EBFA;\n",
       "      box-shadow: 0px 1px 2px rgba(60, 64, 67, 0.3), 0px 1px 3px 1px rgba(60, 64, 67, 0.15);\n",
       "      fill: #174EA6;\n",
       "    }\n",
       "\n",
       "    .colab-df-buttons div {\n",
       "      margin-bottom: 4px;\n",
       "    }\n",
       "\n",
       "    [theme=dark] .colab-df-convert {\n",
       "      background-color: #3B4455;\n",
       "      fill: #D2E3FC;\n",
       "    }\n",
       "\n",
       "    [theme=dark] .colab-df-convert:hover {\n",
       "      background-color: #434B5C;\n",
       "      box-shadow: 0px 1px 3px 1px rgba(0, 0, 0, 0.15);\n",
       "      filter: drop-shadow(0px 1px 2px rgba(0, 0, 0, 0.3));\n",
       "      fill: #FFFFFF;\n",
       "    }\n",
       "  </style>\n",
       "\n",
       "    <script>\n",
       "      const buttonEl =\n",
       "        document.querySelector('#df-e84455be-dcda-4d6b-9d46-d45a8f70f691 button.colab-df-convert');\n",
       "      buttonEl.style.display =\n",
       "        google.colab.kernel.accessAllowed ? 'block' : 'none';\n",
       "\n",
       "      async function convertToInteractive(key) {\n",
       "        const element = document.querySelector('#df-e84455be-dcda-4d6b-9d46-d45a8f70f691');\n",
       "        const dataTable =\n",
       "          await google.colab.kernel.invokeFunction('convertToInteractive',\n",
       "                                                    [key], {});\n",
       "        if (!dataTable) return;\n",
       "\n",
       "        const docLinkHtml = 'Like what you see? Visit the ' +\n",
       "          '<a target=\"_blank\" href=https://colab.research.google.com/notebooks/data_table.ipynb>data table notebook</a>'\n",
       "          + ' to learn more about interactive tables.';\n",
       "        element.innerHTML = '';\n",
       "        dataTable['output_type'] = 'display_data';\n",
       "        await google.colab.output.renderOutput(dataTable, element);\n",
       "        const docLink = document.createElement('div');\n",
       "        docLink.innerHTML = docLinkHtml;\n",
       "        element.appendChild(docLink);\n",
       "      }\n",
       "    </script>\n",
       "  </div>\n",
       "\n",
       "\n",
       "  <div id=\"id_ff28f06f-868b-4b7b-b74f-afaad13afc48\">\n",
       "    <style>\n",
       "      .colab-df-generate {\n",
       "        background-color: #E8F0FE;\n",
       "        border: none;\n",
       "        border-radius: 50%;\n",
       "        cursor: pointer;\n",
       "        display: none;\n",
       "        fill: #1967D2;\n",
       "        height: 32px;\n",
       "        padding: 0 0 0 0;\n",
       "        width: 32px;\n",
       "      }\n",
       "\n",
       "      .colab-df-generate:hover {\n",
       "        background-color: #E2EBFA;\n",
       "        box-shadow: 0px 1px 2px rgba(60, 64, 67, 0.3), 0px 1px 3px 1px rgba(60, 64, 67, 0.15);\n",
       "        fill: #174EA6;\n",
       "      }\n",
       "\n",
       "      [theme=dark] .colab-df-generate {\n",
       "        background-color: #3B4455;\n",
       "        fill: #D2E3FC;\n",
       "      }\n",
       "\n",
       "      [theme=dark] .colab-df-generate:hover {\n",
       "        background-color: #434B5C;\n",
       "        box-shadow: 0px 1px 3px 1px rgba(0, 0, 0, 0.15);\n",
       "        filter: drop-shadow(0px 1px 2px rgba(0, 0, 0, 0.3));\n",
       "        fill: #FFFFFF;\n",
       "      }\n",
       "    </style>\n",
       "    <button class=\"colab-df-generate\" onclick=\"generateWithVariable('df')\"\n",
       "            title=\"Generate code using this dataframe.\"\n",
       "            style=\"display:none;\">\n",
       "\n",
       "  <svg xmlns=\"http://www.w3.org/2000/svg\" height=\"24px\"viewBox=\"0 0 24 24\"\n",
       "       width=\"24px\">\n",
       "    <path d=\"M7,19H8.4L18.45,9,17,7.55,7,17.6ZM5,21V16.75L18.45,3.32a2,2,0,0,1,2.83,0l1.4,1.43a1.91,1.91,0,0,1,.58,1.4,1.91,1.91,0,0,1-.58,1.4L9.25,21ZM18.45,9,17,7.55Zm-12,3A5.31,5.31,0,0,0,4.9,8.1,5.31,5.31,0,0,0,1,6.5,5.31,5.31,0,0,0,4.9,4.9,5.31,5.31,0,0,0,6.5,1,5.31,5.31,0,0,0,8.1,4.9,5.31,5.31,0,0,0,12,6.5,5.46,5.46,0,0,0,6.5,12Z\"/>\n",
       "  </svg>\n",
       "    </button>\n",
       "    <script>\n",
       "      (() => {\n",
       "      const buttonEl =\n",
       "        document.querySelector('#id_ff28f06f-868b-4b7b-b74f-afaad13afc48 button.colab-df-generate');\n",
       "      buttonEl.style.display =\n",
       "        google.colab.kernel.accessAllowed ? 'block' : 'none';\n",
       "\n",
       "      buttonEl.onclick = () => {\n",
       "        google.colab.notebook.generateWithVariable('df');\n",
       "      }\n",
       "      })();\n",
       "    </script>\n",
       "  </div>\n",
       "\n",
       "    </div>\n",
       "  </div>\n"
      ],
      "text/plain": [
       "                                                                                              Sentence  \\\n",
       "0  CARGILL, INCORPORATED\\n\\nBy:     Pirkko Suominen\\n\\n\\n\\nName: Pirkko Suominen Title: Director, B...   \n",
       "\n",
       "                                                                                                Masked  \\\n",
       "0  <ORG>\\n\\nBy:     <PERSON>\\n\\n\\n\\nName: <PERSON> Title: <PROFESSION>,  Date:   <DATE>\\n\\nBIOAMBER...   \n",
       "\n",
       "                                                                                     Masked with Chars  \\\n",
       "0  [*******************]\\n\\nBy:     [*************]\\n\\n\\n\\nName: [*************] Title: [**********...   \n",
       "\n",
       "                                                                               Masked with Fixed Chars  \\\n",
       "0  ****\\n\\nBy:     ****\\n\\n\\n\\nName: **** Title: ****,  Date:   ****\\n\\nBIOAMBER, SAS\\n\\nBy:     **...   \n",
       "\n",
       "                                                                                            Obfuscated  \n",
       "0  Rohm and Haas\\n\\nBy:     Aneita Keens\\n\\n\\n\\nName: Aneita Keens Title: Production assistant, rad...  "
      ]
     },
     "execution_count": 50,
     "metadata": {},
     "output_type": "execute_result"
    }
   ],
   "source": [
    "pd.set_option(\"display.max_colwidth\", 100)\n",
    "\n",
    "df = pd.DataFrame(\n",
    "    list(\n",
    "        zip(\n",
    "            deid_res[\"sentence\"],\n",
    "            deid_res[\"deidentified\"],\n",
    "            deid_res[\"masked_with_chars\"],\n",
    "            deid_res[\"masked_fixed_length_chars\"],\n",
    "            deid_res[\"obfuscated\"],\n",
    "        )\n",
    "    ),\n",
    "    columns=[\n",
    "        \"Sentence\",\n",
    "        \"Masked\",\n",
    "        \"Masked with Chars\",\n",
    "        \"Masked with Fixed Chars\",\n",
    "        \"Obfuscated\",\n",
    "    ],\n",
    ")\n",
    "\n",
    "df"
   ]
  },
  {
   "cell_type": "code",
   "execution_count": 50,
   "id": "155f5af0-828c-46c8-a0a7-9b76c65318e7",
   "metadata": {
    "id": "155f5af0-828c-46c8-a0a7-9b76c65318e7"
   },
   "outputs": [],
   "source": []
  }
 ],
 "metadata": {
  "accelerator": "GPU",
  "colab": {
   "gpuClass": "premium",
   "machine_shape": "hm",
   "provenance": [],
   "toc_visible": true
  },
  "gpuClass": "premium",
  "kernelspec": {
   "display_name": "jsl4.2.3",
   "language": "python",
   "name": "jsl4.2.3"
  },
  "language_info": {
   "codemirror_mode": {
    "name": "ipython",
    "version": 3
   },
   "file_extension": ".py",
   "mimetype": "text/x-python",
   "name": "python",
   "nbconvert_exporter": "python",
   "pygments_lexer": "ipython3",
   "version": "3.8.10"
  },
  "vscode": {
   "interpreter": {
    "hash": "ca1c4b8877e01dec1d65bc94ac0771fb7b4e7d433b24c0ced0afdc05f796f65d"
   }
  }
 },
 "nbformat": 4,
 "nbformat_minor": 5
}

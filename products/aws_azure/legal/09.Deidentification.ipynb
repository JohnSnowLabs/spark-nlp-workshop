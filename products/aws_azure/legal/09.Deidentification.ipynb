{
 "cells": [
  {
   "cell_type": "markdown",
   "id": "b7f2c545-14d6-41da-a4cc-0dc8a6ea3180",
   "metadata": {
    "id": "b7f2c545-14d6-41da-a4cc-0dc8a6ea3180"
   },
   "source": [
    "![JohnSnowLabs](https://nlp.johnsnowlabs.com/assets/images/logo.png)"
   ]
  },
  {
   "cell_type": "markdown",
   "id": "fb2ac5e3-fe7c-4431-bb24-3c48649be54b",
   "metadata": {
    "id": "fb2ac5e3-fe7c-4431-bb24-3c48649be54b"
   },
   "source": [
    "# Legal Deidentification"
   ]
  },
  {
   "cell_type": "markdown",
   "id": "b5b4ac83-5f08-40a5-be42-4ed24aec2794",
   "metadata": {
    "id": "okhT7AcXxben"
   },
   "source": [
    "## Setup"
   ]
  },
  {
   "cell_type": "code",
   "execution_count": null,
   "id": "262b7784-0b17-4f5b-b85e-324b8e164ce6",
   "metadata": {
    "colab": {
     "base_uri": "https://localhost:8080/"
    },
    "executionInfo": {
     "elapsed": 115199,
     "status": "ok",
     "timestamp": 1664816113389,
     "user": {
      "displayName": "Damla",
      "userId": "03285166568766987047"
     },
     "user_tz": -120
    },
    "id": "dmcB5zVBHZO8",
    "outputId": "cd366e47-7f4d-457a-dfe5-3ed5174d4a0c"
   },
   "outputs": [],
   "source": [
    "from johnsnowlabs import *\n",
    "\n",
    "import pandas as pd\n",
    "import json\n",
    "import os\n",
    "\n",
    "spark = start_spark()"
   ]
  },
  {
   "cell_type": "markdown",
   "id": "3c5c1990-1e00-4141-8825-5e9e75d402ad",
   "metadata": {
    "id": "3c5c1990-1e00-4141-8825-5e9e75d402ad"
   },
   "source": [
    "# Deidentification Model"
   ]
  },
  {
   "cell_type": "markdown",
   "id": "124c01da-b9a9-4327-a46b-f09d1d89d893",
   "metadata": {
    "id": "124c01da-b9a9-4327-a46b-f09d1d89d893"
   },
   "source": [
    "Some legal information can be considered sensitive. (e.g.,document, organization, address, signer)"
   ]
  },
  {
   "cell_type": "code",
   "execution_count": null,
   "id": "fc92df9a-8ede-4db3-80b9-be1e713f45d6",
   "metadata": {
    "colab": {
     "base_uri": "https://localhost:8080/"
    },
    "executionInfo": {
     "elapsed": 73399,
     "status": "ok",
     "timestamp": 1664823945731,
     "user": {
      "displayName": "Damla",
      "userId": "03285166568766987047"
     },
     "user_tz": -120
    },
    "id": "fc92df9a-8ede-4db3-80b9-be1e713f45d6",
    "outputId": "c2370d91-6f9d-43bf-9da1-123fdd0f956a",
    "tags": []
   },
   "outputs": [],
   "source": [
    "documentAssembler = nlp.DocumentAssembler()\\\n",
    "    .setInputCol(\"text\")\\\n",
    "    .setOutputCol(\"document\")\n",
    "\n",
    "sentenceDetector = nlp.SentenceDetectorDLModel.pretrained(\"sentence_detector_dl\",\"xx\")\\\n",
    "    .setInputCols([\"document\"])\\\n",
    "    .setOutputCol(\"sentence\")\n",
    "    #.setCustomBounds([\"\\n\\n\"])\n",
    "\n",
    "tokenizer = nlp.Tokenizer()\\\n",
    "    .setInputCols([\"sentence\"])\\\n",
    "    .setOutputCol(\"token\")\n",
    "\n",
    "embeddings = nlp.RoBertaEmbeddings.pretrained(\"roberta_embeddings_legal_roberta_base\",\"en\") \\\n",
    "    .setInputCols([\"sentence\", \"token\"]) \\\n",
    "    .setOutputCol(\"embeddings\")\n",
    "\n",
    "legal_ner = legal.NerModel.pretrained(\"legner_contract_doc_parties\", \"en\", \"legal/models\")\\\n",
    "    .setInputCols([\"sentence\", \"token\", \"embeddings\"]) \\\n",
    "    .setOutputCol(\"ner\") \n",
    "    #.setLabelCasing(\"upper\")\n",
    "\n",
    "ner_converter = legal.NerConverterInternal() \\\n",
    "    .setInputCols([\"sentence\", \"token\", \"ner\"])\\\n",
    "    .setOutputCol(\"ner_chunk\")\\\n",
    "    .setReplaceLabels({\"ALIAS\": \"PARTY\"}) # \"ALIAS\" are secondary names of companies, so let's extract them also as PARTY\n",
    "\n",
    "nlp_pipeline = nlp.Pipeline(stages=[\n",
    "      documentAssembler, \n",
    "      sentenceDetector,\n",
    "      tokenizer,\n",
    "      embeddings,\n",
    "      legal_ner,\n",
    "      ner_converter])\n",
    "\n",
    "empty_data = spark.createDataFrame([[\"\"]]).toDF(\"text\")\n",
    "\n",
    "model = nlp_pipeline.fit(empty_data)"
   ]
  },
  {
   "cell_type": "markdown",
   "id": "3ddb9087-f3d2-4b14-89ad-507e3910e889",
   "metadata": {
    "id": "3ddb9087-f3d2-4b14-89ad-507e3910e889"
   },
   "source": [
    "### Pretrained NER models extracts:\n",
    "- Document\n",
    "- Date\n",
    "- Party (Organization Name)\n",
    "- Alias"
   ]
  },
  {
   "cell_type": "code",
   "execution_count": 3,
   "id": "f594290b-6ea9-47a2-9515-76faed5ab63c",
   "metadata": {
    "colab": {
     "base_uri": "https://localhost:8080/"
    },
    "executionInfo": {
     "elapsed": 6,
     "status": "ok",
     "timestamp": 1664823945731,
     "user": {
      "displayName": "Damla",
      "userId": "03285166568766987047"
     },
     "user_tz": -120
    },
    "id": "f594290b-6ea9-47a2-9515-76faed5ab63c",
    "outputId": "f480f7eb-69eb-4f60-91b0-23658e29bfd0"
   },
   "outputs": [
    {
     "data": {
      "text/plain": [
       "['O',\n",
       " 'I-DOC',\n",
       " 'B-EFFDATE',\n",
       " 'B-ALIAS',\n",
       " 'I-ALIAS',\n",
       " 'B-PARTY',\n",
       " 'I-EFFDATE',\n",
       " 'I-PARTY',\n",
       " 'B-DOC']"
      ]
     },
     "execution_count": 3,
     "metadata": {},
     "output_type": "execute_result"
    }
   ],
   "source": [
    "legal_ner.getClasses()"
   ]
  },
  {
   "cell_type": "code",
   "execution_count": 4,
   "id": "5f5fbf4b-ad6c-4042-8fff-4b6082aeed5c",
   "metadata": {
    "executionInfo": {
     "elapsed": 3,
     "status": "ok",
     "timestamp": 1664823945731,
     "user": {
      "displayName": "Damla",
      "userId": "03285166568766987047"
     },
     "user_tz": -120
    },
    "id": "5f5fbf4b-ad6c-4042-8fff-4b6082aeed5c"
   },
   "outputs": [],
   "source": [
    "text = \"\"\"THIS STRATEGIC ALLIANCE AGREEMENT (\"Agreement\") is made and entered into as of December 14, 2016 , by and between Hyatt Franchising Latin America, L.L.C., a limited liability company organized and existing under the laws of the State of Delaware \"\"\""
   ]
  },
  {
   "cell_type": "code",
   "execution_count": null,
   "id": "7cd9d648-81ec-46fa-aa02-20506f0ba7dd",
   "metadata": {
    "executionInfo": {
     "elapsed": 918,
     "status": "ok",
     "timestamp": 1664823946646,
     "user": {
      "displayName": "Damla",
      "userId": "03285166568766987047"
     },
     "user_tz": -120
    },
    "id": "7cd9d648-81ec-46fa-aa02-20506f0ba7dd"
   },
   "outputs": [],
   "source": [
    "result = model.transform(spark.createDataFrame([[text]]).toDF(\"text\"))"
   ]
  },
  {
   "cell_type": "code",
   "execution_count": 8,
   "id": "3fa9c519-347f-4f63-8f32-b240526ab42e",
   "metadata": {
    "executionInfo": {
     "elapsed": 3,
     "status": "ok",
     "timestamp": 1664823946647,
     "user": {
      "displayName": "Damla",
      "userId": "03285166568766987047"
     },
     "user_tz": -120
    },
    "id": "3fa9c519-347f-4f63-8f32-b240526ab42e"
   },
   "outputs": [],
   "source": [
    "import pyspark.sql.functions as F\n",
    "\n",
    "result_df = result.select(F.explode(F.arrays_zip(result.token.result, \n",
    "                                                 result.ner.result)).alias(\"cols\")) \\\n",
    "                  .select(F.expr(\"cols['0']\").alias(\"token\"),\n",
    "                          F.expr(\"cols['1']\").alias(\"ner_label\"))"
   ]
  },
  {
   "cell_type": "code",
   "execution_count": 9,
   "id": "3df21455-9650-4d3d-8b11-8380a0883121",
   "metadata": {
    "colab": {
     "base_uri": "https://localhost:8080/"
    },
    "executionInfo": {
     "elapsed": 8183,
     "status": "ok",
     "timestamp": 1664823954828,
     "user": {
      "displayName": "Damla",
      "userId": "03285166568766987047"
     },
     "user_tz": -120
    },
    "id": "3df21455-9650-4d3d-8b11-8380a0883121",
    "outputId": "ab0f9a00-f5b2-459c-d885-56527d3defae"
   },
   "outputs": [
    {
     "name": "stderr",
     "output_type": "stream",
     "text": [
      "[Stage 11:=======================================>              (148 + 8) / 200]\r"
     ]
    },
    {
     "name": "stdout",
     "output_type": "stream",
     "text": [
      "+---------+-----+\n",
      "|ner_label|count|\n",
      "+---------+-----+\n",
      "|O        |31   |\n",
      "|I-PARTY  |5    |\n",
      "|I-EFFDATE|3    |\n",
      "|I-DOC    |2    |\n",
      "|B-EFFDATE|1    |\n",
      "|B-PARTY  |1    |\n",
      "|B-DOC    |1    |\n",
      "+---------+-----+\n",
      "\n"
     ]
    },
    {
     "name": "stderr",
     "output_type": "stream",
     "text": [
      "                                                                                \r"
     ]
    }
   ],
   "source": [
    "result_df.select(\"token\", \"ner_label\").groupBy('ner_label').count().orderBy('count', ascending=False).show(truncate=False)"
   ]
  },
  {
   "cell_type": "markdown",
   "id": "ba982823-16d8-477d-9a47-d41d9087523d",
   "metadata": {
    "id": "ba982823-16d8-477d-9a47-d41d9087523d"
   },
   "source": [
    "### Check extracted sensitive entities"
   ]
  },
  {
   "cell_type": "code",
   "execution_count": 10,
   "id": "8e766d87-e1f2-49e3-afe2-f7d0d7703e6f",
   "metadata": {
    "colab": {
     "base_uri": "https://localhost:8080/"
    },
    "executionInfo": {
     "elapsed": 1542,
     "status": "ok",
     "timestamp": 1664823956367,
     "user": {
      "displayName": "Damla",
      "userId": "03285166568766987047"
     },
     "user_tz": -120
    },
    "id": "8e766d87-e1f2-49e3-afe2-f7d0d7703e6f",
    "outputId": "eb838704-07b3-4721-e1a9-f864d0c6f197"
   },
   "outputs": [
    {
     "name": "stdout",
     "output_type": "stream",
     "text": [
      "+--------------------------------------+---------+\n",
      "|chunk                                 |ner_label|\n",
      "+--------------------------------------+---------+\n",
      "|STRATEGIC ALLIANCE AGREEMENT          |DOC      |\n",
      "|December 14, 2016                     |EFFDATE  |\n",
      "|Hyatt Franchising Latin America, L.L.C|PARTY    |\n",
      "+--------------------------------------+---------+\n",
      "\n"
     ]
    }
   ],
   "source": [
    "result.select(F.explode(F.arrays_zip(result.ner_chunk.result, \n",
    "                                     result.ner_chunk.metadata)).alias(\"cols\")) \\\n",
    "      .select(F.expr(\"cols['0']\").alias(\"chunk\"),\n",
    "              F.expr(\"cols['1']['entity']\").alias(\"ner_label\")).show(truncate=False)"
   ]
  },
  {
   "cell_type": "markdown",
   "id": "7cccf04f-6630-4f8c-96af-f5b7e35c119d",
   "metadata": {
    "id": "7cccf04f-6630-4f8c-96af-f5b7e35c119d"
   },
   "source": [
    "## Masking and Obfuscation"
   ]
  },
  {
   "cell_type": "markdown",
   "id": "a4648bf0-9c6e-49b3-9080-7bb3551e1675",
   "metadata": {
    "id": "a4648bf0-9c6e-49b3-9080-7bb3551e1675"
   },
   "source": [
    "### Replace these enitites with Tags"
   ]
  },
  {
   "cell_type": "code",
   "execution_count": null,
   "id": "fa7ac54e-46d5-4a9b-a74b-3859a283ac65",
   "metadata": {
    "executionInfo": {
     "elapsed": 1140,
     "status": "ok",
     "timestamp": 1664823957503,
     "user": {
      "displayName": "Damla",
      "userId": "03285166568766987047"
     },
     "user_tz": -120
    },
    "id": "fa7ac54e-46d5-4a9b-a74b-3859a283ac65"
   },
   "outputs": [],
   "source": [
    "ner_converter = legal.NerConverterInternal()\\\n",
    "      .setInputCols([\"sentence\", \"token\", \"ner\"])\\\n",
    "      .setOutputCol(\"ner_chunk\") \n",
    "\n",
    "deidentification = legal.DeIdentification() \\\n",
    "      .setInputCols([\"sentence\", \"token\", \"ner_chunk\"]) \\\n",
    "      .setOutputCol(\"deidentified\") \\\n",
    "      .setMode(\"mask\")\\\n",
    "      .setReturnEntityMappings(True) #  return a new column to save the mappings between the mask/obfuscated entities and original entities.\n",
    "      #.setMappingsColumn(\"MappingCol\") # change the name of the column, 'aux' is default\n",
    "\n",
    "deid_pipeline = nlp.Pipeline(stages=[\n",
    "      documentAssembler, \n",
    "      sentenceDetector,\n",
    "      tokenizer,\n",
    "      embeddings,\n",
    "      legal_ner,\n",
    "      ner_converter,\n",
    "      deidentification])\n",
    "\n",
    "empty_data = spark.createDataFrame([[\"\"]]).toDF(\"text\")\n",
    "\n",
    "model_deid = deid_pipeline.fit(empty_data)"
   ]
  },
  {
   "cell_type": "code",
   "execution_count": null,
   "id": "bf417b51-c6d0-44b3-ac80-43da90300247",
   "metadata": {
    "executionInfo": {
     "elapsed": 6,
     "status": "ok",
     "timestamp": 1664823957503,
     "user": {
      "displayName": "Damla",
      "userId": "03285166568766987047"
     },
     "user_tz": -120
    },
    "id": "bf417b51-c6d0-44b3-ac80-43da90300247"
   },
   "outputs": [],
   "source": [
    "result = model_deid.transform(spark.createDataFrame([[text]]).toDF(\"text\"))"
   ]
  },
  {
   "cell_type": "code",
   "execution_count": 14,
   "id": "3bf8f80c-4277-4302-8993-a0f88311b66f",
   "metadata": {
    "colab": {
     "base_uri": "https://localhost:8080/"
    },
    "executionInfo": {
     "elapsed": 1467,
     "status": "ok",
     "timestamp": 1664823958966,
     "user": {
      "displayName": "Damla",
      "userId": "03285166568766987047"
     },
     "user_tz": -120
    },
    "id": "3bf8f80c-4277-4302-8993-a0f88311b66f",
    "outputId": "33719f02-b884-4b90-8073-c72a0ae904b4"
   },
   "outputs": [
    {
     "name": "stdout",
     "output_type": "stream",
     "text": [
      "+--------------------+--------------------+--------------------+--------------------+--------------------+--------------------+--------------------+--------------------+--------------------+\n",
      "|                text|            document|            sentence|               token|          embeddings|                 ner|           ner_chunk|        deidentified|                 aux|\n",
      "+--------------------+--------------------+--------------------+--------------------+--------------------+--------------------+--------------------+--------------------+--------------------+\n",
      "|THIS STRATEGIC AL...|[{document, 0, 24...|[{document, 0, 24...|[{token, 0, 3, TH...|[{word_embeddings...|[{named_entity, 0...|[{chunk, 5, 32, S...|[{document, 0, 18...|[{chunk, 5, 9, <D...|\n",
      "+--------------------+--------------------+--------------------+--------------------+--------------------+--------------------+--------------------+--------------------+--------------------+\n",
      "\n"
     ]
    }
   ],
   "source": [
    "result.show()"
   ]
  },
  {
   "cell_type": "code",
   "execution_count": 15,
   "id": "a8892001-1392-4bc2-ab92-81d565c9d996",
   "metadata": {
    "colab": {
     "base_uri": "https://localhost:8080/",
     "height": 78
    },
    "executionInfo": {
     "elapsed": 1370,
     "status": "ok",
     "timestamp": 1664823960334,
     "user": {
      "displayName": "Damla",
      "userId": "03285166568766987047"
     },
     "user_tz": -120
    },
    "id": "a8892001-1392-4bc2-ab92-81d565c9d996",
    "outputId": "d1231455-6f29-439f-9526-03d4ad3c9f0e"
   },
   "outputs": [
    {
     "data": {
      "text/html": [
       "<div>\n",
       "<style scoped>\n",
       "    .dataframe tbody tr th:only-of-type {\n",
       "        vertical-align: middle;\n",
       "    }\n",
       "\n",
       "    .dataframe tbody tr th {\n",
       "        vertical-align: top;\n",
       "    }\n",
       "\n",
       "    .dataframe thead th {\n",
       "        text-align: right;\n",
       "    }\n",
       "</style>\n",
       "<table border=\"1\" class=\"dataframe\">\n",
       "  <thead>\n",
       "    <tr style=\"text-align: right;\">\n",
       "      <th></th>\n",
       "      <th>sentence</th>\n",
       "      <th>deidentified</th>\n",
       "    </tr>\n",
       "  </thead>\n",
       "  <tbody>\n",
       "    <tr>\n",
       "      <th>0</th>\n",
       "      <td>THIS STRATEGIC ALLIANCE AGREEMENT (\"Agreement\"...</td>\n",
       "      <td>THIS &lt;DOC&gt; (\"Agreement\") is made and entered i...</td>\n",
       "    </tr>\n",
       "  </tbody>\n",
       "</table>\n",
       "</div>"
      ],
      "text/plain": [
       "                                            sentence  \\\n",
       "0  THIS STRATEGIC ALLIANCE AGREEMENT (\"Agreement\"...   \n",
       "\n",
       "                                        deidentified  \n",
       "0  THIS <DOC> (\"Agreement\") is made and entered i...  "
      ]
     },
     "execution_count": 15,
     "metadata": {},
     "output_type": "execute_result"
    }
   ],
   "source": [
    "result.select(F.explode(F.arrays_zip(result.sentence.result, result.deidentified.result)).alias(\"cols\")) \\\n",
    "      .select(F.expr(\"cols['0']\").alias(\"sentence\"), F.expr(\"cols['1']\").alias(\"deidentified\")).toPandas()"
   ]
  },
  {
   "cell_type": "markdown",
   "id": "fc7f7662-6fb7-4ad6-b7a8-aa9587dafc85",
   "metadata": {
    "id": "fc7f7662-6fb7-4ad6-b7a8-aa9587dafc85"
   },
   "source": [
    "We have three modes to mask the entities in the Deidentification annotator. You can select the modes using the `.setMaskingPolicy()` parameter. The methods are the followings:\n",
    "\n",
    "**“entity_labels”**: Mask with the entity type of that chunk. (default) <br/>\n",
    "**“same_length_chars”**: Mask the deid entities with same length of asterix ( * ) with brackets ( [ , ] ) on both end. <br/>\n",
    "**“fixed_length_chars”**: Mask the deid entities with a fixed length of asterix ( * ). The length is setting up using the `setFixedMaskLength()` method. <br/>\n",
    "\n",
    "Let's try each of these and compare the results:"
   ]
  },
  {
   "cell_type": "code",
   "execution_count": null,
   "id": "2294859f-933e-4675-a573-bc67c7dc7ce5",
   "metadata": {
    "executionInfo": {
     "elapsed": 903,
     "status": "ok",
     "timestamp": 1664823961235,
     "user": {
      "displayName": "Damla",
      "userId": "03285166568766987047"
     },
     "user_tz": -120
    },
    "id": "2294859f-933e-4675-a573-bc67c7dc7ce5"
   },
   "outputs": [],
   "source": [
    "#deid model with \"entity_labels\"\n",
    "deid_entity_labels= legal.DeIdentification()\\\n",
    "    .setInputCols([\"sentence\", \"token\", \"ner_chunk\"])\\\n",
    "    .setOutputCol(\"deid_entity_label\")\\\n",
    "    .setMode(\"mask\")\\\n",
    "    .setReturnEntityMappings(True)\\\n",
    "    .setMaskingPolicy(\"entity_labels\")\n",
    "\n",
    "#deid model with \"same_length_chars\"\n",
    "deid_same_length= legal.DeIdentification()\\\n",
    "    .setInputCols([\"sentence\", \"token\", \"ner_chunk\"])\\\n",
    "    .setOutputCol(\"deid_same_length\")\\\n",
    "    .setMode(\"mask\")\\\n",
    "    .setReturnEntityMappings(True)\\\n",
    "    .setMaskingPolicy(\"same_length_chars\")\n",
    "\n",
    "#deid model with \"fixed_length_chars\"\n",
    "deid_fixed_length= legal.DeIdentification()\\\n",
    "    .setInputCols([\"sentence\", \"token\", \"ner_chunk\"])\\\n",
    "    .setOutputCol(\"deid_fixed_length\")\\\n",
    "    .setMode(\"mask\")\\\n",
    "    .setReturnEntityMappings(True)\\\n",
    "    .setMaskingPolicy(\"fixed_length_chars\")\\\n",
    "    .setFixedMaskLength(4)\n",
    "\n",
    "\n",
    "deid_pipeline = nlp.Pipeline(stages=[\n",
    "      documentAssembler, \n",
    "      sentenceDetector,\n",
    "      tokenizer,\n",
    "      embeddings,\n",
    "      legal_ner,\n",
    "      ner_converter,\n",
    "      deid_entity_labels,\n",
    "      deid_same_length,\n",
    "      deid_fixed_length])\n",
    "\n",
    "\n",
    "empty_data = spark.createDataFrame([[\"\"]]).toDF(\"text\")\n",
    "\n",
    "model_deid = deid_pipeline.fit(empty_data)"
   ]
  },
  {
   "cell_type": "code",
   "execution_count": null,
   "id": "a5d82d09-b920-45e3-8856-cbb3a43697af",
   "metadata": {
    "executionInfo": {
     "elapsed": 2,
     "status": "ok",
     "timestamp": 1664823961235,
     "user": {
      "displayName": "Damla",
      "userId": "03285166568766987047"
     },
     "user_tz": -120
    },
    "id": "a5d82d09-b920-45e3-8856-cbb3a43697af"
   },
   "outputs": [],
   "source": [
    "policy_result = model_deid.transform(spark.createDataFrame([[text]]).toDF(\"text\"))"
   ]
  },
  {
   "cell_type": "code",
   "execution_count": 18,
   "id": "d94fccb3-8874-428e-8cf3-2ed1bf443002",
   "metadata": {
    "colab": {
     "base_uri": "https://localhost:8080/"
    },
    "executionInfo": {
     "elapsed": 1741,
     "status": "ok",
     "timestamp": 1664823962975,
     "user": {
      "displayName": "Damla",
      "userId": "03285166568766987047"
     },
     "user_tz": -120
    },
    "id": "d94fccb3-8874-428e-8cf3-2ed1bf443002",
    "outputId": "09ec66ca-94f6-4c1d-e01e-5c1abe97f0b1"
   },
   "outputs": [
    {
     "name": "stdout",
     "output_type": "stream",
     "text": [
      "+--------------------+--------------------+--------------------+--------------------+--------------------+--------------------+--------------------+--------------------+--------------------+--------------------+--------------------+\n",
      "|                text|            document|            sentence|               token|          embeddings|                 ner|           ner_chunk|   deid_entity_label|                 aux|    deid_same_length|   deid_fixed_length|\n",
      "+--------------------+--------------------+--------------------+--------------------+--------------------+--------------------+--------------------+--------------------+--------------------+--------------------+--------------------+\n",
      "|THIS STRATEGIC AL...|[{document, 0, 24...|[{document, 0, 24...|[{token, 0, 3, TH...|[{word_embeddings...|[{named_entity, 0...|[{chunk, 5, 32, S...|[{document, 0, 18...|[{chunk, 5, 8, **...|[{document, 0, 24...|[{document, 0, 17...|\n",
      "+--------------------+--------------------+--------------------+--------------------+--------------------+--------------------+--------------------+--------------------+--------------------+--------------------+--------------------+\n",
      "\n"
     ]
    }
   ],
   "source": [
    "policy_result.show()"
   ]
  },
  {
   "cell_type": "code",
   "execution_count": 19,
   "id": "f759241e-63a1-47ef-a562-a0a0272ed0e0",
   "metadata": {
    "colab": {
     "base_uri": "https://localhost:8080/",
     "height": 78
    },
    "executionInfo": {
     "elapsed": 906,
     "status": "ok",
     "timestamp": 1664823963879,
     "user": {
      "displayName": "Damla",
      "userId": "03285166568766987047"
     },
     "user_tz": -120
    },
    "id": "f759241e-63a1-47ef-a562-a0a0272ed0e0",
    "outputId": "a0b35028-ad40-4889-b2b3-3bf89d8f9ef5"
   },
   "outputs": [
    {
     "data": {
      "text/html": [
       "<div>\n",
       "<style scoped>\n",
       "    .dataframe tbody tr th:only-of-type {\n",
       "        vertical-align: middle;\n",
       "    }\n",
       "\n",
       "    .dataframe tbody tr th {\n",
       "        vertical-align: top;\n",
       "    }\n",
       "\n",
       "    .dataframe thead th {\n",
       "        text-align: right;\n",
       "    }\n",
       "</style>\n",
       "<table border=\"1\" class=\"dataframe\">\n",
       "  <thead>\n",
       "    <tr style=\"text-align: right;\">\n",
       "      <th></th>\n",
       "      <th>sentence</th>\n",
       "      <th>deid_entity_label</th>\n",
       "      <th>deid_same_length</th>\n",
       "      <th>deid_fixed_length</th>\n",
       "    </tr>\n",
       "  </thead>\n",
       "  <tbody>\n",
       "    <tr>\n",
       "      <th>0</th>\n",
       "      <td>THIS STRATEGIC ALLIANCE AGREEMENT (\"Agreement\"...</td>\n",
       "      <td>THIS &lt;DOC&gt; (\"Agreement\") is made and entered i...</td>\n",
       "      <td>THIS [**************************] (\"Agreement\"...</td>\n",
       "      <td>THIS **** (\"Agreement\") is made and entered in...</td>\n",
       "    </tr>\n",
       "  </tbody>\n",
       "</table>\n",
       "</div>"
      ],
      "text/plain": [
       "                                            sentence  \\\n",
       "0  THIS STRATEGIC ALLIANCE AGREEMENT (\"Agreement\"...   \n",
       "\n",
       "                                   deid_entity_label  \\\n",
       "0  THIS <DOC> (\"Agreement\") is made and entered i...   \n",
       "\n",
       "                                    deid_same_length  \\\n",
       "0  THIS [**************************] (\"Agreement\"...   \n",
       "\n",
       "                                   deid_fixed_length  \n",
       "0  THIS **** (\"Agreement\") is made and entered in...  "
      ]
     },
     "execution_count": 19,
     "metadata": {},
     "output_type": "execute_result"
    }
   ],
   "source": [
    "policy_result.select(F.explode(F.arrays_zip(policy_result.sentence.result, \n",
    "                                            policy_result.deid_entity_label.result, \n",
    "                                            policy_result.deid_same_length.result, \n",
    "                                            policy_result.deid_fixed_length.result)).alias(\"cols\")) \\\n",
    "             .select(F.expr(\"cols['0']\").alias(\"sentence\"),\n",
    "                     F.expr(\"cols['1']\").alias(\"deid_entity_label\"),\n",
    "                     F.expr(\"cols['2']\").alias(\"deid_same_length\"),\n",
    "                     F.expr(\"cols['3']\").alias(\"deid_fixed_length\")).toPandas()"
   ]
  },
  {
   "cell_type": "markdown",
   "id": "24ad89cd-3022-46df-b4a1-6f6d90d0445a",
   "metadata": {
    "id": "24ad89cd-3022-46df-b4a1-6f6d90d0445a"
   },
   "source": [
    "### Mapping Column"
   ]
  },
  {
   "cell_type": "code",
   "execution_count": 20,
   "id": "941bfa77-2a19-4d47-ace2-0d5c6eb66514",
   "metadata": {
    "colab": {
     "base_uri": "https://localhost:8080/"
    },
    "executionInfo": {
     "elapsed": 838,
     "status": "ok",
     "timestamp": 1664823964712,
     "user": {
      "displayName": "Damla",
      "userId": "03285166568766987047"
     },
     "user_tz": -120
    },
    "id": "941bfa77-2a19-4d47-ace2-0d5c6eb66514",
    "outputId": "70df4943-a7a3-44e2-9856-b111b37584a2"
   },
   "outputs": [
    {
     "name": "stdout",
     "output_type": "stream",
     "text": [
      "+--------------------------------------------------------------------------------------------------------------------------------------------------------------------------------------------------------------------------------------------------------------------------------------------------------------------------------------------------------------------------------------------------------------------------------------------------------------------------------------------------------------------------------------------------------------------------------------------------------------------------------------------------------------------------------------------+\n",
      "|aux                                                                                                                                                                                                                                                                                                                                                                                                                                                                                                                                                                                                                                                                                         |\n",
      "+--------------------------------------------------------------------------------------------------------------------------------------------------------------------------------------------------------------------------------------------------------------------------------------------------------------------------------------------------------------------------------------------------------------------------------------------------------------------------------------------------------------------------------------------------------------------------------------------------------------------------------------------------------------------------------------------+\n",
      "|[{chunk, 5, 9, <DOC>, {originalChunk -> STRATEGIC ALLIANCE AGREEMENT, chunk -> 0, beginOriginalChunk -> 5, confidence -> 0.98066664, ner_source -> ner_chunk, entity -> DOC, endOriginalChunk -> 32, sentence -> 0}, []}, {chunk, 56, 64, <EFFDATE>, {originalChunk -> December 14, 2016, chunk -> 1, beginOriginalChunk -> 79, confidence -> 0.927725, ner_source -> ner_chunk, entity -> EFFDATE, endOriginalChunk -> 95, sentence -> 0}, []}, {chunk, 83, 89, <PARTY>, {originalChunk -> Hyatt Franchising Latin America, L.L.C, chunk -> 2, beginOriginalChunk -> 114, confidence -> 0.96851665, ner_source -> ner_chunk, entity -> PARTY, endOriginalChunk -> 151, sentence -> 0}, []}]|\n",
      "+--------------------------------------------------------------------------------------------------------------------------------------------------------------------------------------------------------------------------------------------------------------------------------------------------------------------------------------------------------------------------------------------------------------------------------------------------------------------------------------------------------------------------------------------------------------------------------------------------------------------------------------------------------------------------------------------+\n",
      "\n"
     ]
    }
   ],
   "source": [
    "result.select(\"aux\").show(truncate=False)"
   ]
  },
  {
   "cell_type": "code",
   "execution_count": 21,
   "id": "ea4502c9-ae7b-4bf0-97ec-0ed7a6ba2f32",
   "metadata": {
    "colab": {
     "base_uri": "https://localhost:8080/"
    },
    "executionInfo": {
     "elapsed": 1353,
     "status": "ok",
     "timestamp": 1664823966062,
     "user": {
      "displayName": "Damla",
      "userId": "03285166568766987047"
     },
     "user_tz": -120
    },
    "id": "ea4502c9-ae7b-4bf0-97ec-0ed7a6ba2f32",
    "outputId": "2b065fcd-1d2f-4c16-b88d-e9143b3fe216"
   },
   "outputs": [
    {
     "name": "stdout",
     "output_type": "stream",
     "text": [
      "+--------------------------------------+----------+--------+---------+----------+--------+\n",
      "|chunk                                 |beginChunk|endChunk|label    |beginLabel|endLabel|\n",
      "+--------------------------------------+----------+--------+---------+----------+--------+\n",
      "|STRATEGIC ALLIANCE AGREEMENT          |5         |32      |<DOC>    |5         |9       |\n",
      "|December 14, 2016                     |79        |95      |<EFFDATE>|56        |64      |\n",
      "|Hyatt Franchising Latin America, L.L.C|114       |151     |<PARTY>  |83        |89      |\n",
      "+--------------------------------------+----------+--------+---------+----------+--------+\n",
      "\n"
     ]
    }
   ],
   "source": [
    "result.select(F.explode(F.arrays_zip(result.aux.metadata, \n",
    "                                     result.aux.result, \n",
    "                                     result.aux.begin, \n",
    "                                     result.aux.end)).alias(\"cols\")) \\\n",
    "      .select(F.expr(\"cols['0']['originalChunk']\").alias(\"chunk\"),\n",
    "              F.expr(\"cols['0']['beginOriginalChunk']\").alias(\"beginChunk\"),\n",
    "              F.expr(\"cols['0']['endOriginalChunk']\").alias(\"endChunk\"),\n",
    "              F.expr(\"cols['1']\").alias(\"label\"),\n",
    "              F.expr(\"cols['2']\").alias(\"beginLabel\"),\n",
    "              F.expr(\"cols['3']\").alias(\"endLabel\")).show(truncate=False)"
   ]
  },
  {
   "cell_type": "markdown",
   "id": "f9673cfe-a13e-4099-bb22-30084ec4cf3b",
   "metadata": {
    "id": "f9673cfe-a13e-4099-bb22-30084ec4cf3b"
   },
   "source": [
    "## Reidentification\n",
    "\n",
    "We can use `ReIdentification` annotator to go back to the original sentence."
   ]
  },
  {
   "cell_type": "code",
   "execution_count": 22,
   "id": "0a1ce1bf-2c4f-4bf9-b0d9-84f8fefcfb30",
   "metadata": {
    "executionInfo": {
     "elapsed": 4,
     "status": "ok",
     "timestamp": 1664823966063,
     "user": {
      "displayName": "Damla",
      "userId": "03285166568766987047"
     },
     "user_tz": -120
    },
    "id": "0a1ce1bf-2c4f-4bf9-b0d9-84f8fefcfb30"
   },
   "outputs": [],
   "source": [
    "reIdentification = legal.ReIdentification()\\\n",
    "    .setInputCols([\"aux\",\"deidentified\"])\\\n",
    "    .setOutputCol(\"original\")"
   ]
  },
  {
   "cell_type": "code",
   "execution_count": 23,
   "id": "5e0467f8-87dd-424b-b4c0-25fae1cb1b19",
   "metadata": {
    "executionInfo": {
     "elapsed": 3,
     "status": "ok",
     "timestamp": 1664823966063,
     "user": {
      "displayName": "Damla",
      "userId": "03285166568766987047"
     },
     "user_tz": -120
    },
    "id": "5e0467f8-87dd-424b-b4c0-25fae1cb1b19"
   },
   "outputs": [
    {
     "name": "stdout",
     "output_type": "stream",
     "text": [
      "1g6ax7jxec82paqzk7ivz9fx7\n",
      "codes retrieved: ArrayBuffer(1g6ax7jxec82paqzk7ivz9fx7), product code(from property): 1g6ax7jxec82paqzk7ivz9fx7\n"
     ]
    }
   ],
   "source": [
    "reid_result = reIdentification.transform(result)"
   ]
  },
  {
   "cell_type": "code",
   "execution_count": 24,
   "id": "80a4f86b-bb67-4fc2-8686-146770a50f33",
   "metadata": {
    "colab": {
     "base_uri": "https://localhost:8080/"
    },
    "executionInfo": {
     "elapsed": 985,
     "status": "ok",
     "timestamp": 1664823967045,
     "user": {
      "displayName": "Damla",
      "userId": "03285166568766987047"
     },
     "user_tz": -120
    },
    "id": "80a4f86b-bb67-4fc2-8686-146770a50f33",
    "outputId": "e2c70d42-ffdd-44a6-ab31-d3345bef78d8"
   },
   "outputs": [
    {
     "name": "stdout",
     "output_type": "stream",
     "text": [
      "+--------------------+--------------------+--------------------+--------------------+--------------------+--------------------+--------------------+--------------------+--------------------+--------------------+\n",
      "|                text|            document|            sentence|               token|          embeddings|                 ner|           ner_chunk|        deidentified|                 aux|            original|\n",
      "+--------------------+--------------------+--------------------+--------------------+--------------------+--------------------+--------------------+--------------------+--------------------+--------------------+\n",
      "|THIS STRATEGIC AL...|[{document, 0, 24...|[{document, 0, 24...|[{token, 0, 3, TH...|[{word_embeddings...|[{named_entity, 0...|[{chunk, 5, 32, S...|[{document, 0, 18...|[{chunk, 5, 9, <D...|[{document, 0, 24...|\n",
      "+--------------------+--------------------+--------------------+--------------------+--------------------+--------------------+--------------------+--------------------+--------------------+--------------------+\n",
      "\n"
     ]
    }
   ],
   "source": [
    "reid_result.show()"
   ]
  },
  {
   "cell_type": "code",
   "execution_count": 25,
   "id": "b3a8e7d3-9cfd-4ad0-a129-e350a9669c9f",
   "metadata": {
    "colab": {
     "base_uri": "https://localhost:8080/"
    },
    "executionInfo": {
     "elapsed": 702,
     "status": "ok",
     "timestamp": 1664823967741,
     "user": {
      "displayName": "Damla",
      "userId": "03285166568766987047"
     },
     "user_tz": -120
    },
    "id": "b3a8e7d3-9cfd-4ad0-a129-e350a9669c9f",
    "outputId": "8688c81b-a810-4d6b-a402-7dbc51a463c0"
   },
   "outputs": [
    {
     "name": "stdout",
     "output_type": "stream",
     "text": [
      "THIS STRATEGIC ALLIANCE AGREEMENT (\"Agreement\") is made and entered into as of December 14, 2016 , by and between Hyatt Franchising Latin America, L.L.C., a limited liability company organized and existing under the laws of the State of Delaware \n",
      "+-------------------------------------------------------------------------------------------------------------------------------------------------------------------------------------------------------------------------------------------------------+\n",
      "|result                                                                                                                                                                                                                                                 |\n",
      "+-------------------------------------------------------------------------------------------------------------------------------------------------------------------------------------------------------------------------------------------------------+\n",
      "|[THIS STRATEGIC ALLIANCE AGREEMENT (\"Agreement\") is made and entered into as of December 14, 2016 , by and between Hyatt Franchising Latin America, L.L.C., a limited liability company organized and existing under the laws of the State of Delaware]|\n",
      "+-------------------------------------------------------------------------------------------------------------------------------------------------------------------------------------------------------------------------------------------------------+\n",
      "\n"
     ]
    }
   ],
   "source": [
    "print(text)\n",
    "\n",
    "reid_result.select('original.result').show(truncate=False)"
   ]
  },
  {
   "cell_type": "markdown",
   "id": "27d5c012-0eef-48a5-9d3d-915e942f5639",
   "metadata": {
    "id": "27d5c012-0eef-48a5-9d3d-915e942f5639"
   },
   "source": [
    "## Using multiple NER in the same pipeline"
   ]
  },
  {
   "cell_type": "code",
   "execution_count": null,
   "id": "4b11381f-af80-49e7-9d30-418a753fa08f",
   "metadata": {
    "colab": {
     "base_uri": "https://localhost:8080/"
    },
    "executionInfo": {
     "elapsed": 15774,
     "status": "ok",
     "timestamp": 1664823983514,
     "user": {
      "displayName": "Damla",
      "userId": "03285166568766987047"
     },
     "user_tz": -120
    },
    "id": "4b11381f-af80-49e7-9d30-418a753fa08f",
    "outputId": "c0870975-1a20-468a-ed21-7d3be1e08364"
   },
   "outputs": [],
   "source": [
    "documentAssembler = nlp.DocumentAssembler()\\\n",
    "    .setInputCol(\"text\")\\\n",
    "    .setOutputCol(\"document\")\n",
    "\n",
    "sentenceDetector = nlp.SentenceDetector()\\\n",
    "    .setInputCols([\"document\"])\\\n",
    "    .setOutputCol(\"sentence\")\n",
    "\n",
    "tokenizer = nlp.Tokenizer()\\\n",
    "    .setInputCols([\"sentence\"])\\\n",
    "    .setOutputCol(\"token\")\n",
    "\n",
    "embeddings = nlp.RoBertaEmbeddings.pretrained(\"roberta_embeddings_legal_roberta_base\",\"en\") \\\n",
    "    .setInputCols([\"sentence\", \"token\"]) \\\n",
    "    .setOutputCol(\"embeddings\")\n",
    "\n",
    "legal_ner = legal.NerModel.pretrained(\"legner_contract_doc_parties\", \"en\", \"legal/models\")\\\n",
    "    .setInputCols([\"sentence\", \"token\", \"embeddings\"]) \\\n",
    "    .setOutputCol(\"ner\") \n",
    "    #.setLabelCasing(\"upper\")\n",
    "\n",
    "ner_converter = legal.NerConverterInternal() \\\n",
    "    .setInputCols([\"sentence\", \"token\", \"ner\"])\\\n",
    "    .setOutputCol(\"ner_chunk\")\\\n",
    "    .setReplaceLabels({\"ALIAS\": \"PARTY\"})\n",
    "\n",
    "ner_signers = legal.NerModel.pretrained(\"legner_signers\", \"en\", \"legal/models\")\\\n",
    "    .setInputCols([\"sentence\", \"token\", \"embeddings\"]) \\\n",
    "    .setOutputCol(\"ner_signers\") \n",
    "    #.setLabelCasing(\"upper\")\n",
    "\n",
    "ner_converter_signers = nlp.NerConverter() \\\n",
    "    .setInputCols([\"sentence\", \"token\", \"ner_signers\"]) \\\n",
    "    .setOutputCol(\"ner_signer_chunk\")\n",
    "\n",
    "chunk_merge = legal.ChunkMergeApproach()\\\n",
    "    .setInputCols(\"ner_signer_chunk\", \"ner_chunk\")\\\n",
    "    .setOutputCol(\"deid_merged_chunk\")\n",
    "\n",
    "deidentification = legal.DeIdentification() \\\n",
    "    .setInputCols([\"sentence\", \"token\", \"deid_merged_chunk\"]) \\\n",
    "    .setOutputCol(\"deidentified\") \\\n",
    "    .setMode(\"mask\")\\\n",
    "    .setIgnoreRegex(True)\n",
    "\n",
    "\n",
    "nlp_pipeline = nlp.Pipeline(stages=[\n",
    "      documentAssembler, \n",
    "      sentenceDetector,\n",
    "      tokenizer,\n",
    "      embeddings,\n",
    "      legal_ner,\n",
    "      ner_converter,\n",
    "      ner_signers,\n",
    "      ner_converter_signers,\n",
    "      chunk_merge,\n",
    "      deidentification])\n",
    "\n",
    "empty_data = spark.createDataFrame([[\"\"]]).toDF(\"text\")\n",
    "\n",
    "model = nlp_pipeline.fit(empty_data)"
   ]
  },
  {
   "cell_type": "code",
   "execution_count": 31,
   "id": "8f4ef972-ad0c-4297-896a-94b639027810",
   "metadata": {
    "executionInfo": {
     "elapsed": 6,
     "status": "ok",
     "timestamp": 1664823983514,
     "user": {
      "displayName": "Damla",
      "userId": "03285166568766987047"
     },
     "user_tz": -120
    },
    "id": "8f4ef972-ad0c-4297-896a-94b639027810"
   },
   "outputs": [],
   "source": [
    "text = \"\"\"ENTIRE AGREEMENT.  This Agreement contains the entire understanding of the parties hereto with respect to the transactions and matters contemplated hereby, supersedes all previous Agreements between i-Escrow and 2TheMart concerning the subject matter.\n",
    "\n",
    "2THEMART.COM, INC.:                         I-ESCROW, INC.:\n",
    "\n",
    "By:Dominic J. Magliarditi                By:Sanjay Bajaj Name: Dominic J. Magliarditi                Name: Sanjay Bajaj Title: President                            Title: VP Business Development Date: 6/21/99                               Date: 6/11/99 \"\"\" "
   ]
  },
  {
   "cell_type": "code",
   "execution_count": null,
   "id": "63fe74f9-768c-47c1-87e0-86d7a2a556bf",
   "metadata": {
    "colab": {
     "base_uri": "https://localhost:8080/"
    },
    "executionInfo": {
     "elapsed": 2702,
     "status": "ok",
     "timestamp": 1664823986213,
     "user": {
      "displayName": "Damla",
      "userId": "03285166568766987047"
     },
     "user_tz": -120
    },
    "id": "63fe74f9-768c-47c1-87e0-86d7a2a556bf",
    "outputId": "35d8b1dc-9160-4b31-de37-526af57fb6cd"
   },
   "outputs": [],
   "source": [
    "result = model.transform(spark.createDataFrame([[text]]).toDF(\"text\"))\n"
   ]
  },
  {
   "cell_type": "code",
   "execution_count": 33,
   "id": "e445a81c-c02a-4cb1-856b-42aa3bb561bd",
   "metadata": {},
   "outputs": [
    {
     "name": "stdout",
     "output_type": "stream",
     "text": [
      "+----------------+---------+\n",
      "|chunk           |ner_label|\n",
      "+----------------+---------+\n",
      "|ENTIRE AGREEMENT|DOC      |\n",
      "+----------------+---------+\n",
      "\n"
     ]
    }
   ],
   "source": [
    "# legal_ner\n",
    "result.select(F.explode(F.arrays_zip(result.ner_chunk.result, \n",
    "                                     result.ner_chunk.metadata)).alias(\"cols\")) \\\n",
    "      .select(F.expr(\"cols['0']\").alias(\"chunk\"),\n",
    "              F.expr(\"cols['1']['entity']\").alias(\"ner_label\")).show(truncate=False)"
   ]
  },
  {
   "cell_type": "code",
   "execution_count": 34,
   "id": "3256773b-3371-4af4-a4e3-34e2c818640c",
   "metadata": {
    "colab": {
     "base_uri": "https://localhost:8080/"
    },
    "executionInfo": {
     "elapsed": 1715,
     "status": "ok",
     "timestamp": 1664823987922,
     "user": {
      "displayName": "Damla",
      "userId": "03285166568766987047"
     },
     "user_tz": -120
    },
    "id": "3256773b-3371-4af4-a4e3-34e2c818640c",
    "outputId": "f40eb1d2-de82-425f-d91d-2b3b013e721f"
   },
   "outputs": [
    {
     "name": "stdout",
     "output_type": "stream",
     "text": [
      "+-----------------------+--------------+\n",
      "|chunk                  |ner_label     |\n",
      "+-----------------------+--------------+\n",
      "|INC                    |PARTY         |\n",
      "|J. Magliarditi         |SIGNING_PERSON|\n",
      "|Bajaj                  |SIGNING_PERSON|\n",
      "|Dominic J. Magliarditi |SIGNING_PERSON|\n",
      "|Sanjay Bajaj           |SIGNING_PERSON|\n",
      "|President              |SIGNING_TITLE |\n",
      "|VP Business Development|SIGNING_TITLE |\n",
      "+-----------------------+--------------+\n",
      "\n"
     ]
    }
   ],
   "source": [
    "# ner_signers\n",
    "result.select(F.explode(F.arrays_zip(result.ner_signer_chunk.result, \n",
    "                                     result.ner_signer_chunk.metadata)).alias(\"cols\")) \\\n",
    "      .select(F.expr(\"cols['0']\").alias(\"chunk\"),\n",
    "              F.expr(\"cols['1']['entity']\").alias(\"ner_label\")).show(truncate=False)"
   ]
  },
  {
   "cell_type": "code",
   "execution_count": 35,
   "id": "4a899327-42d8-48c1-ab4a-5f692b10be22",
   "metadata": {
    "colab": {
     "base_uri": "https://localhost:8080/"
    },
    "executionInfo": {
     "elapsed": 1833,
     "status": "ok",
     "timestamp": 1664823989752,
     "user": {
      "displayName": "Damla",
      "userId": "03285166568766987047"
     },
     "user_tz": -120
    },
    "id": "4a899327-42d8-48c1-ab4a-5f692b10be22",
    "outputId": "6205d335-2222-41cd-a970-f0548c290d57"
   },
   "outputs": [
    {
     "name": "stdout",
     "output_type": "stream",
     "text": [
      "+-----------------------+--------------+\n",
      "|chunk                  |ner_label     |\n",
      "+-----------------------+--------------+\n",
      "|ENTIRE AGREEMENT       |DOC           |\n",
      "|INC                    |PARTY         |\n",
      "|J. Magliarditi         |SIGNING_PERSON|\n",
      "|Bajaj                  |SIGNING_PERSON|\n",
      "|Dominic J. Magliarditi |SIGNING_PERSON|\n",
      "|Sanjay Bajaj           |SIGNING_PERSON|\n",
      "|President              |SIGNING_TITLE |\n",
      "|VP Business Development|SIGNING_TITLE |\n",
      "+-----------------------+--------------+\n",
      "\n"
     ]
    }
   ],
   "source": [
    "# merged_chunk\n",
    "result.select(F.explode(F.arrays_zip(result.deid_merged_chunk.result, \n",
    "                                     result.deid_merged_chunk.metadata)).alias(\"cols\")) \\\n",
    "      .select(F.expr(\"cols['0']\").alias(\"chunk\"),\n",
    "              F.expr(\"cols['1']['entity']\").alias(\"ner_label\")).show(truncate=False)"
   ]
  },
  {
   "cell_type": "code",
   "execution_count": 36,
   "id": "c6c21ec8-5e6a-4bb4-b0bd-d7aa14fb6fbe",
   "metadata": {
    "colab": {
     "base_uri": "https://localhost:8080/",
     "height": 140
    },
    "executionInfo": {
     "elapsed": 721,
     "status": "ok",
     "timestamp": 1664823990470,
     "user": {
      "displayName": "Damla",
      "userId": "03285166568766987047"
     },
     "user_tz": -120
    },
    "id": "c6c21ec8-5e6a-4bb4-b0bd-d7aa14fb6fbe",
    "outputId": "f589950e-6853-437f-9efa-15f48ad4ff66"
   },
   "outputs": [
    {
     "data": {
      "text/html": [
       "<div>\n",
       "<style scoped>\n",
       "    .dataframe tbody tr th:only-of-type {\n",
       "        vertical-align: middle;\n",
       "    }\n",
       "\n",
       "    .dataframe tbody tr th {\n",
       "        vertical-align: top;\n",
       "    }\n",
       "\n",
       "    .dataframe thead th {\n",
       "        text-align: right;\n",
       "    }\n",
       "</style>\n",
       "<table border=\"1\" class=\"dataframe\">\n",
       "  <thead>\n",
       "    <tr style=\"text-align: right;\">\n",
       "      <th></th>\n",
       "      <th>sentence</th>\n",
       "      <th>deidentified</th>\n",
       "    </tr>\n",
       "  </thead>\n",
       "  <tbody>\n",
       "    <tr>\n",
       "      <th>0</th>\n",
       "      <td>ENTIRE AGREEMENT.</td>\n",
       "      <td>&lt;DOC&gt;.</td>\n",
       "    </tr>\n",
       "    <tr>\n",
       "      <th>1</th>\n",
       "      <td>This Agreement contains the entire understandi...</td>\n",
       "      <td>This Agreement contains the entire understandi...</td>\n",
       "    </tr>\n",
       "    <tr>\n",
       "      <th>2</th>\n",
       "      <td>2THEMART.COM, INC.:                         I-...</td>\n",
       "      <td>2THEMART.COM, INC.:                         I-...</td>\n",
       "    </tr>\n",
       "  </tbody>\n",
       "</table>\n",
       "</div>"
      ],
      "text/plain": [
       "                                            sentence  \\\n",
       "0                                  ENTIRE AGREEMENT.   \n",
       "1  This Agreement contains the entire understandi...   \n",
       "2  2THEMART.COM, INC.:                         I-...   \n",
       "\n",
       "                                        deidentified  \n",
       "0                                             <DOC>.  \n",
       "1  This Agreement contains the entire understandi...  \n",
       "2  2THEMART.COM, INC.:                         I-...  "
      ]
     },
     "execution_count": 36,
     "metadata": {},
     "output_type": "execute_result"
    }
   ],
   "source": [
    "result.select(F.explode(F.arrays_zip(result.sentence.result, \n",
    "                                     result.deidentified.result)).alias(\"cols\")) \\\n",
    "      .select(F.expr(\"cols['0']\").alias(\"sentence\"),\n",
    "              F.expr(\"cols['1']\").alias(\"deidentified\")).toPandas()"
   ]
  },
  {
   "cell_type": "markdown",
   "id": "0de79296-97f8-4daa-940c-1fd8d176c8c3",
   "metadata": {
    "id": "0de79296-97f8-4daa-940c-1fd8d176c8c3"
   },
   "source": [
    "## Obfuscation mode"
   ]
  },
  {
   "cell_type": "markdown",
   "id": "52e7c83b-780b-4d3e-be7f-604cd310babd",
   "metadata": {
    "id": "52e7c83b-780b-4d3e-be7f-604cd310babd"
   },
   "source": [
    "In the obfuscation mode **DeIdentificationModel** will replace sensitive entities with random values of the same type. \n"
   ]
  },
  {
   "cell_type": "code",
   "execution_count": 37,
   "id": "31b20c5a-bc56-43e1-9101-6503c23ab49b",
   "metadata": {
    "executionInfo": {
     "elapsed": 4,
     "status": "ok",
     "timestamp": 1664823990470,
     "user": {
      "displayName": "Damla",
      "userId": "03285166568766987047"
     },
     "user_tz": -120
    },
    "id": "31b20c5a-bc56-43e1-9101-6503c23ab49b"
   },
   "outputs": [],
   "source": [
    "# This is the obfuscation dict for the new entities\n",
    "obs_lines = \"\"\"CTO#SIGNING_TITLE\n",
    "Project Manager#SIGNING_TITLE\n",
    "Sales Manager#SIGNING_TITLE\n",
    "Business Manager#SIGNING_TITLE\n",
    "Coordinator#SIGNING_TITLE\n",
    "Officer#SIGNING_TITLE\n",
    "Legal Agreement#DOC\n",
    "Contract#DOC\n",
    "Estate Document#DOC\n",
    "official Document#DOC\n",
    "Deed of Covenant#DOC\n",
    "TURER INC#PARTY\n",
    "Clark llc.#PARTY\n",
    "SESA CO.#PARTY\n",
    "John Snow Labs Inc#PARTY\n",
    "MGT Trust Company, LLC.#PARTY\n",
    "JAMES TURNER#SIGNING_PERSON\n",
    "Juan Garcia#SIGNING_PERSON\n",
    "Benjamin Dean#SIGNING_PERSON\n",
    "Tommy Lee#SIGNING_PERSON\n",
    "Dorothy Keen#SIGNING_PERSON\n",
    "(\"AGREEMENT\")#ALIAS\n",
    "(\"TRADE COMPANY\")#ALIAS\n",
    "(the\" Agreement\")#ALIAS\n",
    "(\"private company\")#ALIAS\n",
    "(the \"Contract\")#ALIAS\n",
    "26-06-1990#EFFDATE\n",
    "03/08/2025#EFFDATE\n",
    "01/01/2045#EFFDATE\n",
    "11/7/2016#EFFDATE\n",
    "12-12-2022#EFFDATE \"\"\"\n",
    "\n",
    "with open ('obfuscate.txt', 'w') as f:\n",
    "    f.write(obs_lines)"
   ]
  },
  {
   "cell_type": "code",
   "execution_count": null,
   "id": "210db7c7-e1a3-46ac-941f-160abc068ada",
   "metadata": {
    "executionInfo": {
     "elapsed": 618,
     "status": "ok",
     "timestamp": 1664823991084,
     "user": {
      "displayName": "Damla",
      "userId": "03285166568766987047"
     },
     "user_tz": -120
    },
    "id": "210db7c7-e1a3-46ac-941f-160abc068ada"
   },
   "outputs": [],
   "source": [
    "ner_converter_signers = nlp.NerConverter() \\\n",
    "    .setInputCols([\"sentence\", \"token\", \"ner_signers\"]) \\\n",
    "    .setOutputCol(\"ner_signer_chunk\")\n",
    "\n",
    "chunk_merge = legal.ChunkMergeApproach()\\\n",
    "    .setInputCols(\"ner_signer_chunk\", \"ner_chunk\")\\\n",
    "    .setOutputCol(\"deid_merged_chunk\")\n",
    "\n",
    "obfuscation = legal.DeIdentification()\\\n",
    "    .setInputCols([\"sentence\", \"token\", \"ner_signer_chunk\"]) \\\n",
    "    .setOutputCol(\"deidentified\") \\\n",
    "    .setMode(\"obfuscate\")\\\n",
    "    .setObfuscateDate(True)\\\n",
    "    .setObfuscateRefFile('obfuscate.txt')\\\n",
    "    .setObfuscateRefSource(\"both\") #default: \"faker\"\n",
    "\n",
    "\n",
    "nlp_pipeline = nlp.Pipeline(stages=[\n",
    "      documentAssembler, \n",
    "      sentenceDetector,\n",
    "      tokenizer,\n",
    "      embeddings,\n",
    "      legal_ner,\n",
    "      ner_converter,\n",
    "      ner_signers,\n",
    "      ner_converter_signers,\n",
    "      chunk_merge,\n",
    "      obfuscation])\n",
    "\n",
    "obfuscation_model = nlp_pipeline.fit(empty_data)"
   ]
  },
  {
   "cell_type": "code",
   "execution_count": 42,
   "id": "38268201-7202-462e-b195-59709e7fdc8f",
   "metadata": {
    "executionInfo": {
     "elapsed": 3,
     "status": "ok",
     "timestamp": 1664823991085,
     "user": {
      "displayName": "Damla",
      "userId": "03285166568766987047"
     },
     "user_tz": -120
    },
    "id": "38268201-7202-462e-b195-59709e7fdc8f"
   },
   "outputs": [
    {
     "name": "stdout",
     "output_type": "stream",
     "text": [
      "1g6ax7jxec82paqzk7ivz9fx7\n",
      "codes retrieved: ArrayBuffer(1g6ax7jxec82paqzk7ivz9fx7), product code(from property): 1g6ax7jxec82paqzk7ivz9fx7\n",
      "1g6ax7jxec82paqzk7ivz9fx7\n",
      "codes retrieved: ArrayBuffer(1g6ax7jxec82paqzk7ivz9fx7), product code(from property): 1g6ax7jxec82paqzk7ivz9fx7\n",
      "1g6ax7jxec82paqzk7ivz9fx7\n",
      "codes retrieved: ArrayBuffer(1g6ax7jxec82paqzk7ivz9fx7), product code(from property): 1g6ax7jxec82paqzk7ivz9fx7\n",
      "1g6ax7jxec82paqzk7ivz9fx7\n",
      "codes retrieved: ArrayBuffer(1g6ax7jxec82paqzk7ivz9fx7), product code(from property): 1g6ax7jxec82paqzk7ivz9fx7\n",
      "1g6ax7jxec82paqzk7ivz9fx7\n",
      "codes retrieved: ArrayBuffer(1g6ax7jxec82paqzk7ivz9fx7), product code(from property): 1g6ax7jxec82paqzk7ivz9fx7\n",
      "1g6ax7jxec82paqzk7ivz9fx7\n",
      "codes retrieved: ArrayBuffer(1g6ax7jxec82paqzk7ivz9fx7), product code(from property): 1g6ax7jxec82paqzk7ivz9fx7\n",
      "1g6ax7jxec82paqzk7ivz9fx7\n",
      "codes retrieved: ArrayBuffer(1g6ax7jxec82paqzk7ivz9fx7), product code(from property): 1g6ax7jxec82paqzk7ivz9fx7\n"
     ]
    }
   ],
   "source": [
    "text = \"\"\"\"Newegg\" \"Allied\" Newegg Inc. Allied Esports International, Inc. By  Mitesh Patel By:  Judson Hannigan Name: Mitesh Patel Name: Judson Hannigan Title: VP, Marketing Title: CEO Newegg Inc. Allied Esports International, Inc. \"\"\"\n",
    "\n",
    "result = obfuscation_model.transform(spark.createDataFrame([[text]]).toDF(\"text\"))"
   ]
  },
  {
   "cell_type": "code",
   "execution_count": 43,
   "id": "0264dd21-5927-46b3-82f3-575d7a0b7a16",
   "metadata": {
    "colab": {
     "base_uri": "https://localhost:8080/",
     "height": 170
    },
    "executionInfo": {
     "elapsed": 2194,
     "status": "ok",
     "timestamp": 1664823993277,
     "user": {
      "displayName": "Damla",
      "userId": "03285166568766987047"
     },
     "user_tz": -120
    },
    "id": "0264dd21-5927-46b3-82f3-575d7a0b7a16",
    "outputId": "94eec2af-ea4e-4f59-e300-b362a3266a60"
   },
   "outputs": [
    {
     "name": "stderr",
     "output_type": "stream",
     "text": [
      "                                                                                \r"
     ]
    },
    {
     "data": {
      "text/html": [
       "<div>\n",
       "<style scoped>\n",
       "    .dataframe tbody tr th:only-of-type {\n",
       "        vertical-align: middle;\n",
       "    }\n",
       "\n",
       "    .dataframe tbody tr th {\n",
       "        vertical-align: top;\n",
       "    }\n",
       "\n",
       "    .dataframe thead th {\n",
       "        text-align: right;\n",
       "    }\n",
       "</style>\n",
       "<table border=\"1\" class=\"dataframe\">\n",
       "  <thead>\n",
       "    <tr style=\"text-align: right;\">\n",
       "      <th></th>\n",
       "      <th>sentence</th>\n",
       "      <th>deidentified</th>\n",
       "    </tr>\n",
       "  </thead>\n",
       "  <tbody>\n",
       "    <tr>\n",
       "      <th>0</th>\n",
       "      <td>\"Newegg\" \"Allied\" Newegg Inc.</td>\n",
       "      <td>\"Newegg\" \"Allied\" Clark llc..</td>\n",
       "    </tr>\n",
       "    <tr>\n",
       "      <th>1</th>\n",
       "      <td>Allied Esports International, Inc.</td>\n",
       "      <td>John Snow Labs Inc.</td>\n",
       "    </tr>\n",
       "    <tr>\n",
       "      <th>2</th>\n",
       "      <td>By  Mitesh Patel By:  Judson Hannigan Name: Mi...</td>\n",
       "      <td>By  Tommy Lee By:  Benjamin Dean Name: Tommy L...</td>\n",
       "    </tr>\n",
       "    <tr>\n",
       "      <th>3</th>\n",
       "      <td>Allied Esports International, Inc.</td>\n",
       "      <td>John Snow Labs Inc.</td>\n",
       "    </tr>\n",
       "  </tbody>\n",
       "</table>\n",
       "</div>"
      ],
      "text/plain": [
       "                                            sentence  \\\n",
       "0                      \"Newegg\" \"Allied\" Newegg Inc.   \n",
       "1                 Allied Esports International, Inc.   \n",
       "2  By  Mitesh Patel By:  Judson Hannigan Name: Mi...   \n",
       "3                 Allied Esports International, Inc.   \n",
       "\n",
       "                                        deidentified  \n",
       "0                      \"Newegg\" \"Allied\" Clark llc..  \n",
       "1                                John Snow Labs Inc.  \n",
       "2  By  Tommy Lee By:  Benjamin Dean Name: Tommy L...  \n",
       "3                                John Snow Labs Inc.  "
      ]
     },
     "execution_count": 43,
     "metadata": {},
     "output_type": "execute_result"
    }
   ],
   "source": [
    "result.select(F.explode(F.arrays_zip(result.sentence.result, result.deidentified.result)).alias(\"cols\")) \\\n",
    "      .select(F.expr(\"cols['0']\").alias(\"sentence\"), F.expr(\"cols['1']\").alias(\"deidentified\")).toPandas()"
   ]
  },
  {
   "cell_type": "markdown",
   "id": "3ebd5940-8389-4acb-b505-6dab2eebbbb3",
   "metadata": {
    "id": "3ebd5940-8389-4acb-b505-6dab2eebbbb3"
   },
   "source": [
    "## Use full pipeline in the Light model"
   ]
  },
  {
   "cell_type": "code",
   "execution_count": null,
   "id": "79bba6fc-b913-4e23-b6e1-315616756073",
   "metadata": {
    "colab": {
     "base_uri": "https://localhost:8080/"
    },
    "executionInfo": {
     "elapsed": 4,
     "status": "ok",
     "timestamp": 1664823993278,
     "user": {
      "displayName": "Damla",
      "userId": "03285166568766987047"
     },
     "user_tz": -120
    },
    "id": "79bba6fc-b913-4e23-b6e1-315616756073",
    "outputId": "e22d9a05-7fe7-4323-de6e-813d15633984"
   },
   "outputs": [],
   "source": [
    "light_model = nlp.LightPipeline(model)\n",
    "\n",
    "annotated_text = light_model.annotate(text)\n"
   ]
  },
  {
   "cell_type": "code",
   "execution_count": 48,
   "id": "0bc8d5d8-7980-42ea-bc19-cc1d8032d866",
   "metadata": {},
   "outputs": [
    {
     "data": {
      "text/plain": [
       "['\"<PARTY>\" \"<PARTY>\" <PARTY>.',\n",
       " '<PARTY>.',\n",
       " 'By  <SIGNING_PERSON> By:  <SIGNING_PERSON> Name: <SIGNING_PERSON> Name: <SIGNING_PERSON> Title: <SIGNING_TITLE> Title: <SIGNING_TITLE> <PARTY>.',\n",
       " '<PARTY>.']"
      ]
     },
     "execution_count": 48,
     "metadata": {},
     "output_type": "execute_result"
    }
   ],
   "source": [
    "annotated_text['deidentified']"
   ]
  },
  {
   "cell_type": "code",
   "execution_count": null,
   "id": "9f0c3c9f-b7b6-4e68-ae5d-9c8833bf06d4",
   "metadata": {
    "colab": {
     "base_uri": "https://localhost:8080/"
    },
    "executionInfo": {
     "elapsed": 576,
     "status": "ok",
     "timestamp": 1664823993851,
     "user": {
      "displayName": "Damla",
      "userId": "03285166568766987047"
     },
     "user_tz": -120
    },
    "id": "9f0c3c9f-b7b6-4e68-ae5d-9c8833bf06d4",
    "outputId": "2eeb7a83-6510-4bd1-f25b-9a1a3194a5df"
   },
   "outputs": [],
   "source": [
    "obf_light_model = nlp.LightPipeline(obfuscation_model)\n",
    "\n",
    "annotated_text = obf_light_model.annotate(text)\n"
   ]
  },
  {
   "cell_type": "code",
   "execution_count": 50,
   "id": "53e556c2-80eb-42a3-a7d2-71a561ac9377",
   "metadata": {},
   "outputs": [
    {
     "data": {
      "text/plain": [
       "['\"Newegg\" \"Allied\" Clark llc..',\n",
       " 'John Snow Labs Inc.',\n",
       " 'By  Tommy Lee By:  Benjamin Dean Name: Tommy Lee Name: Benjamin Dean Title: Coordinator Title: Sales Manager Clark llc..',\n",
       " 'John Snow Labs Inc.']"
      ]
     },
     "execution_count": 50,
     "metadata": {},
     "output_type": "execute_result"
    }
   ],
   "source": [
    "annotated_text['deidentified']"
   ]
  },
  {
   "cell_type": "markdown",
   "id": "cc5ac615-13af-4149-bf78-96e2d27d9c5f",
   "metadata": {
    "id": "cc5ac615-13af-4149-bf78-96e2d27d9c5f"
   },
   "source": [
    "# Save the Pipeline and Use it from Your Local"
   ]
  },
  {
   "cell_type": "code",
   "execution_count": 51,
   "id": "f54386d7-486c-44e9-9557-954c45d9d493",
   "metadata": {
    "executionInfo": {
     "elapsed": 9166,
     "status": "ok",
     "timestamp": 1664824003016,
     "user": {
      "displayName": "Damla",
      "userId": "03285166568766987047"
     },
     "user_tz": -120
    },
    "id": "f54386d7-486c-44e9-9557-954c45d9d493"
   },
   "outputs": [],
   "source": [
    "model.write().overwrite().save('pipeline_deid')"
   ]
  },
  {
   "cell_type": "code",
   "execution_count": null,
   "id": "2a6de84f-d5da-405a-afe6-7d3840dd454d",
   "metadata": {
    "executionInfo": {
     "elapsed": 10523,
     "status": "ok",
     "timestamp": 1664824013530,
     "user": {
      "displayName": "Damla",
      "userId": "03285166568766987047"
     },
     "user_tz": -120
    },
    "id": "2a6de84f-d5da-405a-afe6-7d3840dd454d"
   },
   "outputs": [],
   "source": [
    "deid_pipeline = nlp.PretrainedPipeline.from_disk(\"pipeline_deid\")"
   ]
  },
  {
   "cell_type": "code",
   "execution_count": 53,
   "id": "cbd89eeb-f5f5-4639-9ccf-29c2491f4d37",
   "metadata": {
    "executionInfo": {
     "elapsed": 15,
     "status": "ok",
     "timestamp": 1664824013533,
     "user": {
      "displayName": "Damla",
      "userId": "03285166568766987047"
     },
     "user_tz": -120
    },
    "id": "cbd89eeb-f5f5-4639-9ccf-29c2491f4d37"
   },
   "outputs": [],
   "source": [
    "data = spark.createDataFrame([[text]]).toDF(\"text\")"
   ]
  },
  {
   "cell_type": "code",
   "execution_count": 54,
   "id": "e78dea29-7a4c-4724-8e2f-93e635c2602e",
   "metadata": {
    "colab": {
     "base_uri": "https://localhost:8080/"
    },
    "executionInfo": {
     "elapsed": 14,
     "status": "ok",
     "timestamp": 1664824013534,
     "user": {
      "displayName": "Damla",
      "userId": "03285166568766987047"
     },
     "user_tz": -120
    },
    "id": "e78dea29-7a4c-4724-8e2f-93e635c2602e",
    "outputId": "4be96a4b-f97d-4a7c-c22e-f5ca9d014493"
   },
   "outputs": [
    {
     "data": {
      "text/plain": [
       "[DocumentAssembler_8d52ca081a00,\n",
       " SentenceDetector_bb2d7057146c,\n",
       " REGEX_TOKENIZER_5c7dedf564da,\n",
       " ROBERTA_EMBEDDINGS_b915dff90901,\n",
       " MedicalNerModel_93f728ff96e5,\n",
       " NER_CONVERTER_1d0474e2db29,\n",
       " MedicalNerModel_2b2f0f671f99,\n",
       " NerConverter_7ea809496033,\n",
       " MERGE_6efcef09f4f4,\n",
       " DE-IDENTIFICATION_33171e66ddd3]"
      ]
     },
     "execution_count": 54,
     "metadata": {},
     "output_type": "execute_result"
    }
   ],
   "source": [
    "deid_pipeline.model.stages"
   ]
  },
  {
   "cell_type": "code",
   "execution_count": null,
   "id": "de7e48e9-4433-40c8-8e88-a5d5a0265bb9",
   "metadata": {
    "colab": {
     "base_uri": "https://localhost:8080/"
    },
    "executionInfo": {
     "elapsed": 3476,
     "status": "ok",
     "timestamp": 1664824016998,
     "user": {
      "displayName": "Damla",
      "userId": "03285166568766987047"
     },
     "user_tz": -120
    },
    "id": "de7e48e9-4433-40c8-8e88-a5d5a0265bb9",
    "outputId": "36dc20cb-3555-4599-ccb3-9f573aaceb37"
   },
   "outputs": [],
   "source": [
    "result = deid_pipeline.model.transform(data)"
   ]
  },
  {
   "cell_type": "code",
   "execution_count": 57,
   "id": "299b3bb5-ce06-476f-a650-69bbc935010f",
   "metadata": {},
   "outputs": [
    {
     "name": "stdout",
     "output_type": "stream",
     "text": [
      "+--------------------+--------------------+--------------------+--------------------+--------------------+--------------------+--------------------+--------------------+--------------------+--------------------+--------------------+\n",
      "|                text|            document|            sentence|               token|          embeddings|                 ner|           ner_chunk|         ner_signers|    ner_signer_chunk|   deid_merged_chunk|        deidentified|\n",
      "+--------------------+--------------------+--------------------+--------------------+--------------------+--------------------+--------------------+--------------------+--------------------+--------------------+--------------------+\n",
      "|\"Newegg\" \"Allied\"...|[{document, 0, 22...|[{document, 0, 28...|[{token, 0, 0, \",...|[{word_embeddings...|[{named_entity, 0...|[{chunk, 1, 6, Ne...|[{named_entity, 0...|[{chunk, 18, 27, ...|[{chunk, 1, 6, Ne...|[{document, 0, 27...|\n",
      "+--------------------+--------------------+--------------------+--------------------+--------------------+--------------------+--------------------+--------------------+--------------------+--------------------+--------------------+\n",
      "\n"
     ]
    }
   ],
   "source": [
    "result.show()"
   ]
  },
  {
   "cell_type": "markdown",
   "id": "615a3cf3-ae62-40cf-b9b2-a68c8053c908",
   "metadata": {
    "id": "615a3cf3-ae62-40cf-b9b2-a68c8053c908"
   },
   "source": [
    "# Pretrained Deidentification Pipeline\n",
    "\n",
    "We have this pipeline can be used to deidentify legal information from texts.The legal information will be masked and obfuscated in the resulting text. The pipeline can mask and obfuscate `DOC`, `EFFDATE`, `PARTY`, `ALIAS`, `SIGNING_PERSON`, `SIGNING_TITLE`, `COUNTRY`, `CITY`, `STATE`, `STREET`, `ZIP`, `EMAIL`, `FAX`, `LOCATION-OTHER`, `DATE`,`PHONE` entities."
   ]
  },
  {
   "cell_type": "code",
   "execution_count": null,
   "id": "994c32d7-44e7-4637-9f64-454af9168dab",
   "metadata": {
    "colab": {
     "base_uri": "https://localhost:8080/"
    },
    "executionInfo": {
     "elapsed": 96753,
     "status": "ok",
     "timestamp": 1664824113745,
     "user": {
      "displayName": "Damla",
      "userId": "03285166568766987047"
     },
     "user_tz": -120
    },
    "id": "994c32d7-44e7-4637-9f64-454af9168dab",
    "outputId": "2bd4a86b-ad7c-416f-9a6f-33e9f3f432e0"
   },
   "outputs": [],
   "source": [
    "deid_pipeline = nlp.PretrainedPipeline(\"legpipe_deid\", \"en\", \"legal/models\")"
   ]
  },
  {
   "cell_type": "code",
   "execution_count": 59,
   "id": "a09f14d8-54d9-4ed9-a7c4-6074f421020a",
   "metadata": {
    "colab": {
     "base_uri": "https://localhost:8080/"
    },
    "executionInfo": {
     "elapsed": 87,
     "status": "ok",
     "timestamp": 1664824113750,
     "user": {
      "displayName": "Damla",
      "userId": "03285166568766987047"
     },
     "user_tz": -120
    },
    "id": "a09f14d8-54d9-4ed9-a7c4-6074f421020a",
    "outputId": "e880150e-9071-4568-ea65-bdea24b38aa7"
   },
   "outputs": [
    {
     "data": {
      "text/plain": [
       "[DocumentAssembler_57ba7ce8bff9,\n",
       " SentenceDetectorDLModel_8aaebf7e098e,\n",
       " REGEX_TOKENIZER_2f265bb3f6b5,\n",
       " ROBERTA_EMBEDDINGS_b915dff90901,\n",
       " BERT_EMBEDDINGS_29ce72cd673e,\n",
       " LegalNerModel_f714c7246b46,\n",
       " NerConverter_5a5bb98a24c7,\n",
       " LegalNerModel_2b2f0f671f99,\n",
       " NerConverter_8b80797c7f67,\n",
       " LegalNerModel_7b3b98b32784,\n",
       " NER_CONVERTER_fb28b23bc35d,\n",
       " LegalNerModel_419e708135cb,\n",
       " NER_CONVERTER_af60235365b4,\n",
       " CONTEXTUAL-PARSER_85a13a5ff4bd,\n",
       " CONTEXTUAL-PARSER_bf8f02fb6658,\n",
       " REGEX_MATCHER_6199c32417bc,\n",
       " REGEX_MATCHER_2d694c8416b8,\n",
       " MERGE_5b96d578aa9b,\n",
       " DE-IDENTIFICATION_3d3dd57f734a,\n",
       " DE-IDENTIFICATION_471d94c72cd0,\n",
       " DE-IDENTIFICATION_29cac8c6cf56,\n",
       " DE-IDENTIFICATION_407b57c7d657,\n",
       " Finisher_ed29d709e530]"
      ]
     },
     "execution_count": 59,
     "metadata": {},
     "output_type": "execute_result"
    }
   ],
   "source": [
    "deid_pipeline.model.stages"
   ]
  },
  {
   "cell_type": "code",
   "execution_count": 60,
   "id": "00a6b038-7178-4fe3-b7f6-664bad53ff92",
   "metadata": {
    "executionInfo": {
     "elapsed": 68,
     "status": "ok",
     "timestamp": 1664824113751,
     "user": {
      "displayName": "Damla",
      "userId": "03285166568766987047"
     },
     "user_tz": -120
    },
    "id": "00a6b038-7178-4fe3-b7f6-664bad53ff92"
   },
   "outputs": [],
   "source": [
    "text= \"\"\"CARGILL, INCORPORATED\n",
    "\n",
    "By:     Pirkko Suominen\n",
    "\n",
    "\n",
    "\n",
    "Name: Pirkko Suominen Title: Director, Bio Technology Development  Center,  Date:   10/19/2011\n",
    "\n",
    "BIOAMBER, SAS\n",
    "\n",
    "By:     Jean-François Huc\n",
    "\n",
    "\n",
    "\n",
    "Name: Jean-François Huc  Title: President Date:   October 15, 2011\n",
    "\n",
    "email : jeanfran@gmail.com\n",
    "phone : 18087339090 \"\"\""
   ]
  },
  {
   "cell_type": "code",
   "execution_count": null,
   "id": "bd76c039-f1bb-4839-a2c5-9b5715629700",
   "metadata": {
    "executionInfo": {
     "elapsed": 12646,
     "status": "ok",
     "timestamp": 1664824126337,
     "user": {
      "displayName": "Damla",
      "userId": "03285166568766987047"
     },
     "user_tz": -120
    },
    "id": "bd76c039-f1bb-4839-a2c5-9b5715629700"
   },
   "outputs": [],
   "source": [
    "deid_res = deid_pipeline.annotate(text)"
   ]
  },
  {
   "cell_type": "code",
   "execution_count": 62,
   "id": "84add88b-9686-4fcc-83fa-6f64465f4aff",
   "metadata": {
    "colab": {
     "base_uri": "https://localhost:8080/"
    },
    "executionInfo": {
     "elapsed": 26,
     "status": "ok",
     "timestamp": 1664824126339,
     "user": {
      "displayName": "Damla",
      "userId": "03285166568766987047"
     },
     "user_tz": -120
    },
    "id": "84add88b-9686-4fcc-83fa-6f64465f4aff",
    "outputId": "591b3c5c-5fa8-44ef-a462-a2cd26f73a61"
   },
   "outputs": [
    {
     "data": {
      "text/plain": [
       "dict_keys(['obfuscated', 'deidentified', 'masked_fixed_length_chars', 'deid_merged_chunk', 'sentence', 'masked_with_chars'])"
      ]
     },
     "execution_count": 62,
     "metadata": {},
     "output_type": "execute_result"
    }
   ],
   "source": [
    "deid_res.keys()"
   ]
  },
  {
   "cell_type": "code",
   "execution_count": 63,
   "id": "9551bf51-c2e4-4d7c-968e-1c75bd43f888",
   "metadata": {
    "colab": {
     "base_uri": "https://localhost:8080/",
     "height": 357
    },
    "executionInfo": {
     "elapsed": 19,
     "status": "ok",
     "timestamp": 1664824126340,
     "user": {
      "displayName": "Damla",
      "userId": "03285166568766987047"
     },
     "user_tz": -120
    },
    "id": "9551bf51-c2e4-4d7c-968e-1c75bd43f888",
    "outputId": "7f0092bf-9715-494d-a2f9-91b4a15d97e2"
   },
   "outputs": [
    {
     "data": {
      "text/html": [
       "<div>\n",
       "<style scoped>\n",
       "    .dataframe tbody tr th:only-of-type {\n",
       "        vertical-align: middle;\n",
       "    }\n",
       "\n",
       "    .dataframe tbody tr th {\n",
       "        vertical-align: top;\n",
       "    }\n",
       "\n",
       "    .dataframe thead th {\n",
       "        text-align: right;\n",
       "    }\n",
       "</style>\n",
       "<table border=\"1\" class=\"dataframe\">\n",
       "  <thead>\n",
       "    <tr style=\"text-align: right;\">\n",
       "      <th></th>\n",
       "      <th>Sentence</th>\n",
       "      <th>Masked</th>\n",
       "      <th>Masked with Chars</th>\n",
       "      <th>Masked with Fixed Chars</th>\n",
       "      <th>Obfuscated</th>\n",
       "    </tr>\n",
       "  </thead>\n",
       "  <tbody>\n",
       "    <tr>\n",
       "      <th>0</th>\n",
       "      <td>CARGILL, INCORPORATED</td>\n",
       "      <td>&lt;PARTY&gt;</td>\n",
       "      <td>[*******************]</td>\n",
       "      <td>****</td>\n",
       "      <td>TURER INC</td>\n",
       "    </tr>\n",
       "    <tr>\n",
       "      <th>1</th>\n",
       "      <td>By:     Pirkko Suominen</td>\n",
       "      <td>By:     &lt;PARTY&gt;</td>\n",
       "      <td>By:     [*************]</td>\n",
       "      <td>By:     ****</td>\n",
       "      <td>By:     SESA CO.</td>\n",
       "    </tr>\n",
       "    <tr>\n",
       "      <th>2</th>\n",
       "      <td>Name: Pirkko Suominen Title: Director, Bio Technology Development  Center,  Date:   10/19/2011</td>\n",
       "      <td>Name: &lt;PARTY&gt;: &lt;SIGNING_TITLE&gt;  Center,  Date:   &lt;EFFDATE&gt;</td>\n",
       "      <td>Name: [*******************]: [**********************************]  Center,  Date:   [********]</td>\n",
       "      <td>Name: ****: ****  Center,  Date:   ****</td>\n",
       "      <td>Name: John Snow Labs Inc: Sales Manager  Center,  Date:   03/08/2025</td>\n",
       "    </tr>\n",
       "    <tr>\n",
       "      <th>3</th>\n",
       "      <td>BIOAMBER, SAS</td>\n",
       "      <td>&lt;PARTY&gt;, &lt;PARTY&gt;</td>\n",
       "      <td>[******], [*]</td>\n",
       "      <td>****, ****</td>\n",
       "      <td>Clarus llc., SESA CO.</td>\n",
       "    </tr>\n",
       "    <tr>\n",
       "      <th>4</th>\n",
       "      <td>By:     Jean-François Huc</td>\n",
       "      <td>By:     &lt;SIGNING_PERSON&gt;</td>\n",
       "      <td>By:     [***************]</td>\n",
       "      <td>By:     ****</td>\n",
       "      <td>By:     JAMES TURNER</td>\n",
       "    </tr>\n",
       "    <tr>\n",
       "      <th>5</th>\n",
       "      <td>Name: Jean-François Huc  Title: President Date:   October 15, 2011\\n\\nemail : jeanfran@gmail.com...</td>\n",
       "      <td>Name: &lt;PARTY&gt;: &lt;SIGNING_TITLE&gt;Date:   &lt;EFFDATE&gt;\\n\\nemail : &lt;EMAIL&gt;\\nphone : &lt;PHONE&gt;0</td>\n",
       "      <td>Name: [**********************]: [*******]Date:   [**************]\\n\\nemail : [****************]\\...</td>\n",
       "      <td>Name: ****: ****Date:   ****\\n\\nemail : ****\\nphone : ****0</td>\n",
       "      <td>Name: MGT Trust Company, LLC.: Business ManagerDate:   11/7/2016\\n\\nemail : Berneta@hotmail.com\\...</td>\n",
       "    </tr>\n",
       "  </tbody>\n",
       "</table>\n",
       "</div>"
      ],
      "text/plain": [
       "                                                                                              Sentence  \\\n",
       "0                                                                                CARGILL, INCORPORATED   \n",
       "1                                                                              By:     Pirkko Suominen   \n",
       "2       Name: Pirkko Suominen Title: Director, Bio Technology Development  Center,  Date:   10/19/2011   \n",
       "3                                                                                        BIOAMBER, SAS   \n",
       "4                                                                            By:     Jean-François Huc   \n",
       "5  Name: Jean-François Huc  Title: President Date:   October 15, 2011\\n\\nemail : jeanfran@gmail.com...   \n",
       "\n",
       "                                                                                 Masked  \\\n",
       "0                                                                               <PARTY>   \n",
       "1                                                                       By:     <PARTY>   \n",
       "2                            Name: <PARTY>: <SIGNING_TITLE>  Center,  Date:   <EFFDATE>   \n",
       "3                                                                      <PARTY>, <PARTY>   \n",
       "4                                                              By:     <SIGNING_PERSON>   \n",
       "5  Name: <PARTY>: <SIGNING_TITLE>Date:   <EFFDATE>\\n\\nemail : <EMAIL>\\nphone : <PHONE>0   \n",
       "\n",
       "                                                                                     Masked with Chars  \\\n",
       "0                                                                                [*******************]   \n",
       "1                                                                              By:     [*************]   \n",
       "2       Name: [*******************]: [**********************************]  Center,  Date:   [********]   \n",
       "3                                                                                        [******], [*]   \n",
       "4                                                                            By:     [***************]   \n",
       "5  Name: [**********************]: [*******]Date:   [**************]\\n\\nemail : [****************]\\...   \n",
       "\n",
       "                                       Masked with Fixed Chars  \\\n",
       "0                                                         ****   \n",
       "1                                                 By:     ****   \n",
       "2                      Name: ****: ****  Center,  Date:   ****   \n",
       "3                                                   ****, ****   \n",
       "4                                                 By:     ****   \n",
       "5  Name: ****: ****Date:   ****\\n\\nemail : ****\\nphone : ****0   \n",
       "\n",
       "                                                                                            Obfuscated  \n",
       "0                                                                                            TURER INC  \n",
       "1                                                                                     By:     SESA CO.  \n",
       "2                                 Name: John Snow Labs Inc: Sales Manager  Center,  Date:   03/08/2025  \n",
       "3                                                                                Clarus llc., SESA CO.  \n",
       "4                                                                                 By:     JAMES TURNER  \n",
       "5  Name: MGT Trust Company, LLC.: Business ManagerDate:   11/7/2016\\n\\nemail : Berneta@hotmail.com\\...  "
      ]
     },
     "execution_count": 63,
     "metadata": {},
     "output_type": "execute_result"
    }
   ],
   "source": [
    "pd.set_option(\"display.max_colwidth\", 100)\n",
    "\n",
    "df= pd.DataFrame(list(zip(deid_res[\"sentence\"], \n",
    "                          deid_res[\"deidentified\"],\n",
    "                          deid_res[\"masked_with_chars\"],\n",
    "                          deid_res[\"masked_fixed_length_chars\"], \n",
    "                          deid_res[\"obfuscated\"])),\n",
    "                 columns= [\"Sentence\", \"Masked\", \"Masked with Chars\", \"Masked with Fixed Chars\", \"Obfuscated\"])\n",
    "\n",
    "df"
   ]
  },
  {
   "cell_type": "code",
   "execution_count": null,
   "id": "155f5af0-828c-46c8-a0a7-9b76c65318e7",
   "metadata": {},
   "outputs": [],
   "source": []
  }
 ],
 "metadata": {
  "accelerator": "GPU",
  "colab": {
   "collapsed_sections": [],
   "machine_shape": "hm",
   "provenance": [],
   "toc_visible": true
  },
  "gpuClass": "premium",
  "kernelspec": {
   "display_name": "jsl4.2.3",
   "language": "python",
   "name": "jsl4.2.3"
  },
  "language_info": {
   "codemirror_mode": {
    "name": "ipython",
    "version": 3
   },
   "file_extension": ".py",
   "mimetype": "text/x-python",
   "name": "python",
   "nbconvert_exporter": "python",
   "pygments_lexer": "ipython3",
   "version": "3.8.10"
  },
  "vscode": {
   "interpreter": {
    "hash": "ca1c4b8877e01dec1d65bc94ac0771fb7b4e7d433b24c0ced0afdc05f796f65d"
   }
  }
 },
 "nbformat": 4,
 "nbformat_minor": 5
}

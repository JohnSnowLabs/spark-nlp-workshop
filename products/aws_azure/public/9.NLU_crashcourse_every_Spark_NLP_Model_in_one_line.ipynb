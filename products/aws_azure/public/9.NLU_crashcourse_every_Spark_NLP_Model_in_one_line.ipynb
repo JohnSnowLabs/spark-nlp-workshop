{
 "cells": [
  {
   "cell_type": "markdown",
   "metadata": {
    "id": "o8rERttgz2WZ",
    "pycharm": {
     "name": "#%% md\n"
    }
   },
   "source": [
    "![JohnSnowLabs](https://nlp.johnsnowlabs.com/assets/images/logo.png)\n",
    "\n",
    "\n",
    "\n",
    "# NLU 20 Minutes Crashcourse - the fast & easy Data Science route\n",
    "\n",
    "\n",
    "## Spark NLP vs NLU, whats the difference?\n",
    "[NLU](https://nlu.johnsnowlabs.com/) is a Python wrapper around Spark NLP. It gives you all of Spark NLPs features in 1 line of code and supports all the common Pythonic Data Structures like Pandas and Modin Dataframes. It's the ultimate tool to swifitly explore the models in Spark NLP and evaluate them for different use cases. With NLU you can : \n",
    "\n",
    "- Use any Model in Spark NLP in 1 line of code, by leveragin NLU's automatic pipeline generation\n",
    "- Predicts on most common Python data structure like strings and Pandas array\n",
    "- Transforms the Spark NLP Dataframe structure into a pretty Pandas Dataframe structure, which can be configured to `document`, `sentence`, `chunk`, and`token` output levels.\n",
    "- Enables you to visualize outputs of  models in 1 line of code using the [viz methods](https://nlu.johnsnowlabs.com/docs/en/viz_examples)\n",
    "- Use a [Powerful Streamlit Dashboard and Buildingblocks](https://nlu.johnsnowlabs.com/docs/en/streamlit_viz_examples) that enable to you to test out any model in 0 lines of code using a GUI. In addition, you can compare embeddings using various Manifold and Matrix Decomposition visualizations \n",
    "\n",
    "\n",
    "\n",
    "Under the hood, NLU automagically generates a Spark NLP pipeline for you, based on the model name you put in `nlu.load()`. All the NLP data transformations and predictions are still beeing performed by Spark NLP, NLU just gives you the most simple API possible for all of the features.      \n",
    "\n",
    "\n",
    "\n",
    "NLU's core processing peformed on the data returned by Spark NLP is currently happening via the Numpy engine and will not be distributed by default, this means NLU is slower and takes up more memory than Spark NLP, because there is additional computation performed on your data.       \n",
    "You have the option to set **.predict(return_spark_df =True)**. With this setting, NLU all computations will be **distributed** but NLU will not peform further data processing on the datafame, so you will get the standard Spark NLP Dataframe structure. \n",
    "\n",
    "\n",
    "\n",
    "This short notebook will teach you a lot of things!\n",
    "- Sentiment classification, binary, multi class and regressive\n",
    "- Extract Parts of Speech (POS)\n",
    "- Extract Named Entities (NER)\n",
    "- Extract Keywords (YAKE!)\n",
    "- Answer Open and Closed book questions with T5\n",
    "- Summarize text and more with Multi task T5\n",
    "- Translate text with Microsofts Marian Model\n",
    "- Train a Multi Lingual Classifier for 100+ languages from a dataset with just one language\n",
    "\n",
    "## NLU Webinars and Video Tutorials\n",
    "- [NLU & Streamlit Tutorial](https://vimeo.com/579508034#)\n",
    "- [Crash course of the 50 + Medical Domains and the 200+ Healtchare models in NLU](https://www.youtube.com/watch?v=gGDsZXt1SF8)\n",
    "- [Multi Lingual NLU Webinar - Tutorial on Chinese News dataset](https://www.youtube.com/watch?v=ftAOqJuxnV4)\n",
    "- [John Snow Labs NLU: Become a Data Science Superhero with One Line of Python code](https://events.johnsnowlabs.com/john-snow-labs-nlu-become-a-data-science-superhero-with-one-line-of-python-code?hsCtaTracking=c659363c-2188-4c86-945f-5cfb7b42fcfc%7C8b2b188b-92a3-48ba-ad7e-073b384425b0)\n",
    "- [Python Web Def Conf - Python's NLU library: 1,000+ Models, 200+ Languages, State of the Art Accuracy, 1 Line of Code](https://2021.pythonwebconf.com/presentations/john-snow-labs-nlu-the-simplicity-of-python-the-power-of-spark-nlp)\n",
    "- [NYC/DC NLP Meetup with NLU](https://youtu.be/hJR9m3NYnwk?t=2155)\n",
    "\n",
    "\n",
    "## More ressources \n",
    "- [Join our Slack](https://join.slack.com/t/spark-nlp/shared_invite/zt-lutct9gm-kuUazcyFKhuGY3_0AMkxqA)\n",
    "- [NLU Website](https://nlu.johnsnowlabs.com/)\n",
    "- [NLU Github](https://github.com/JohnSnowLabs/nlu)\n",
    "- [Many more NLU example tutorials](https://github.com/JohnSnowLabs/nlu/tree/master/examples)\n",
    "- [Overview of every powerful nlu 1-liner](https://nlu.johnsnowlabs.com/docs/en/examples)\n",
    "- [Checkout the Modelshub for an overview of all models](https://nlp.johnsnowlabs.com/models) \n",
    "- [Checkout the NLU Namespace where you can find every model as a tabel](https://nlu.johnsnowlabs.com/docs/en/spellbook)\n",
    "- [Intro to NLU article](https://medium.com/spark-nlp/1-line-of-code-350-nlp-models-with-john-snow-labs-nlu-in-python-2f1c55bba619)\n",
    "- [Indepth and easy Sentence Similarity Tutorial, with StackOverflow Questions using BERTology embeddings](https://medium.com/spark-nlp/easy-sentence-similarity-with-bert-sentence-embeddings-using-john-snow-labs-nlu-ea078deb6ebf)\n",
    "- [1 line of Python code for BERT, ALBERT, ELMO, ELECTRA, XLNET, GLOVE, Part of Speech with NLU and t-SNE](https://medium.com/spark-nlp/1-line-of-code-for-bert-albert-elmo-electra-xlnet-glove-part-of-speech-with-nlu-and-t-sne-9ebcd5379cd)"
   ]
  },
  {
   "cell_type": "markdown",
   "metadata": {
    "id": "GAVkEjc2l_jv",
    "pycharm": {
     "name": "#%% md\n"
    }
   },
   "source": [
    "# Install NLU\n",
    "You need Java8, Pyspark and Spark-NLP installed, [see the installation guide for instructions](https://nlu.johnsnowlabs.com/docs/en/install). If you need help or run into troubles, [ping us on slack :)](https://join.slack.com/t/spark-nlp/shared_invite/zt-lutct9gm-kuUazcyFKhuGY3_0AMkxqA) "
   ]
  },
  {
   "cell_type": "code",
   "execution_count": 1,
   "metadata": {
    "id": "XYxqvGRvclj-",
    "pycharm": {
     "name": "#%%\n"
    }
   },
   "outputs": [],
   "source": [
    "%%capture\n",
    "#!wget https://setup.johnsnowlabs.com/nlu/colab.sh -O - | bash\n",
    "import nlu"
   ]
  },
  {
   "cell_type": "markdown",
   "metadata": {
    "id": "jNw8mtj2jJyS",
    "pycharm": {
     "name": "#%% md\n"
    }
   },
   "source": [
    "# Simple NLU basics on Strings"
   ]
  },
  {
   "cell_type": "markdown",
   "metadata": {
    "id": "cr3HrpqX0Lju",
    "pycharm": {
     "name": "#%% md\n"
    }
   },
   "source": [
    "## Context based spell Checking in 1 line\n",
    "\n",
    "![Spell Check](https://i.imgflip.com/52wb7w.jpg)"
   ]
  },
  {
   "cell_type": "code",
   "execution_count": 3,
   "metadata": {
    "colab": {
     "base_uri": "https://localhost:8080/",
     "height": 342
    },
    "id": "jH1H0NIRNk6l",
    "outputId": "f6d66796-fbc5-420f-e7fc-bb266b2d664d",
    "pycharm": {
     "name": "#%%\n"
    },
    "scrolled": true
   },
   "outputs": [
    {
     "name": "stdout",
     "output_type": "stream",
     "text": [
      "Warning::Spark Session already created, some configs may not take.\n",
      "Warning::Spark Session already created, some configs may not take.\n",
      "spellcheck_dl download started this may take some time.\n",
      "Approximate size to download 95.1 MB\n",
      "[OK!]\n",
      "sentence_detector_dl download started this may take some time.\n",
      "Approximate size to download 354.6 KB\n",
      "[OK!]\n",
      "Warning::Spark Session already created, some configs may not take.\n"
     ]
    },
    {
     "data": {
      "text/html": [
       "<div>\n",
       "<style scoped>\n",
       "    .dataframe tbody tr th:only-of-type {\n",
       "        vertical-align: middle;\n",
       "    }\n",
       "\n",
       "    .dataframe tbody tr th {\n",
       "        vertical-align: top;\n",
       "    }\n",
       "\n",
       "    .dataframe thead th {\n",
       "        text-align: right;\n",
       "    }\n",
       "</style>\n",
       "<table border=\"1\" class=\"dataframe\">\n",
       "  <thead>\n",
       "    <tr style=\"text-align: right;\">\n",
       "      <th></th>\n",
       "      <th>spell</th>\n",
       "      <th>token</th>\n",
       "    </tr>\n",
       "  </thead>\n",
       "  <tbody>\n",
       "    <tr>\n",
       "      <th>0</th>\n",
       "      <td>I</td>\n",
       "      <td>I</td>\n",
       "    </tr>\n",
       "    <tr>\n",
       "      <th>0</th>\n",
       "      <td>also</td>\n",
       "      <td>also</td>\n",
       "    </tr>\n",
       "    <tr>\n",
       "      <th>0</th>\n",
       "      <td>like</td>\n",
       "      <td>liek</td>\n",
       "    </tr>\n",
       "    <tr>\n",
       "      <th>0</th>\n",
       "      <td>to</td>\n",
       "      <td>to</td>\n",
       "    </tr>\n",
       "    <tr>\n",
       "      <th>0</th>\n",
       "      <td>live</td>\n",
       "      <td>live</td>\n",
       "    </tr>\n",
       "    <tr>\n",
       "      <th>0</th>\n",
       "      <td>dangerous</td>\n",
       "      <td>dangertus</td>\n",
       "    </tr>\n",
       "  </tbody>\n",
       "</table>\n",
       "</div>"
      ],
      "text/plain": [
       "       spell      token\n",
       "0          I          I\n",
       "0       also       also\n",
       "0       like       liek\n",
       "0         to         to\n",
       "0       live       live\n",
       "0  dangerous  dangertus"
      ]
     },
     "execution_count": 3,
     "metadata": {},
     "output_type": "execute_result"
    }
   ],
   "source": [
    "nlu.load('spell').predict('I also liek to live dangertus')"
   ]
  },
  {
   "cell_type": "markdown",
   "metadata": {
    "id": "EbRSJNNE0XH7",
    "pycharm": {
     "name": "#%% md\n"
    }
   },
   "source": [
    "## Binary Sentiment classification in 1 Line\n",
    "![Binary Sentiment](https://cdn.pixabay.com/photo/2015/11/13/10/07/smiley-1041796_960_720.jpg)\n"
   ]
  },
  {
   "cell_type": "code",
   "execution_count": 4,
   "metadata": {
    "colab": {
     "base_uri": "https://localhost:8080/",
     "height": 237
    },
    "id": "Kr7JAcnr0Khb",
    "outputId": "a6a5fa1f-db07-4c1f-fd2f-2d3ef3a89e74",
    "pycharm": {
     "name": "#%%\n"
    }
   },
   "outputs": [
    {
     "name": "stdout",
     "output_type": "stream",
     "text": [
      "Warning::Spark Session already created, some configs may not take.\n",
      "Warning::Spark Session already created, some configs may not take.\n",
      "sentimentdl_glove_imdb download started this may take some time.\n",
      "Approximate size to download 8.7 MB\n",
      "[ | ]sentimentdl_glove_imdb download started this may take some time.\n",
      "Approximate size to download 8.7 MB\n",
      "[ / ]Download done! Loading the resource.\n",
      "[OK!]\n",
      "glove_100d download started this may take some time.\n",
      "Approximate size to download 145.3 MB\n",
      "[ | ]glove_100d download started this may take some time.\n",
      "Approximate size to download 145.3 MB\n",
      "[ / ]Download done! Loading the resource.\n",
      "[OK!]\n",
      "sentence_detector_dl download started this may take some time.\n",
      "Approximate size to download 354.6 KB\n",
      "[OK!]\n",
      "Warning::Spark Session already created, some configs may not take.\n"
     ]
    },
    {
     "data": {
      "text/html": [
       "<div>\n",
       "<style scoped>\n",
       "    .dataframe tbody tr th:only-of-type {\n",
       "        vertical-align: middle;\n",
       "    }\n",
       "\n",
       "    .dataframe tbody tr th {\n",
       "        vertical-align: top;\n",
       "    }\n",
       "\n",
       "    .dataframe thead th {\n",
       "        text-align: right;\n",
       "    }\n",
       "</style>\n",
       "<table border=\"1\" class=\"dataframe\">\n",
       "  <thead>\n",
       "    <tr style=\"text-align: right;\">\n",
       "      <th></th>\n",
       "      <th>sentence</th>\n",
       "      <th>sentence_embedding_converter</th>\n",
       "      <th>sentiment</th>\n",
       "      <th>sentiment_confidence</th>\n",
       "      <th>word_embedding_glove</th>\n",
       "    </tr>\n",
       "  </thead>\n",
       "  <tbody>\n",
       "    <tr>\n",
       "      <th>0</th>\n",
       "      <td>I love NLU and rainy days!</td>\n",
       "      <td>[0.015170135535299778, 0.3010264039039612, 0.3...</td>\n",
       "      <td>pos</td>\n",
       "      <td>0.999995</td>\n",
       "      <td>[[-0.046539001166820526, 0.6196600198745728, 0...</td>\n",
       "    </tr>\n",
       "  </tbody>\n",
       "</table>\n",
       "</div>"
      ],
      "text/plain": [
       "                     sentence  \\\n",
       "0  I love NLU and rainy days!   \n",
       "\n",
       "                        sentence_embedding_converter sentiment  \\\n",
       "0  [0.015170135535299778, 0.3010264039039612, 0.3...       pos   \n",
       "\n",
       "  sentiment_confidence                               word_embedding_glove  \n",
       "0             0.999995  [[-0.046539001166820526, 0.6196600198745728, 0...  "
      ]
     },
     "execution_count": 4,
     "metadata": {},
     "output_type": "execute_result"
    }
   ],
   "source": [
    "nlu.load('sentiment').predict('I love NLU and rainy days!')"
   ]
  },
  {
   "cell_type": "markdown",
   "metadata": {
    "id": "p0z4S7kF0aeT",
    "pycharm": {
     "name": "#%% md\n"
    }
   },
   "source": [
    "## Part of Speech (POS) in 1 line\n",
    "![Parts of Speech](https://image.shutterstock.com/image-photo/blackboard-background-written-colorful-chalk-600w-1166166529.jpg)\n",
    "\n",
    "|Tag |Description | Example|\n",
    "|------|------------|------|\n",
    "|CC| Coordinating conjunction | This batch of mushroom stew is savory **and** delicious    |\n",
    "|CD| Cardinal number | Here are **five** coins    |\n",
    "|DT| Determiner | **The** bunny went home    |\n",
    "|EX| Existential there | **There** is a storm coming    |\n",
    "|FW| Foreign word | I'm having a **déjà vu**    |\n",
    "|IN| Preposition or subordinating conjunction | He is cleverer **than** I am   |\n",
    "|JJ| Adjective | She wore a **beautiful** dress    |\n",
    "|JJR| Adjective, comparative | My house is **bigger** than yours    |\n",
    "|JJS| Adjective, superlative | I am the **shortest** person in my family   |\n",
    "|LS| List item marker | A number of things need to be considered before starting a business **,** such as premises **,** finance **,** product demand **,** staffing and access to customers |\n",
    "|MD| Modal | You **must** stop when the traffic lights turn red    |\n",
    "|NN| Noun, singular or mass | The **dog** likes to run    |\n",
    "|NNS| Noun, plural | The **cars** are fast    |\n",
    "|NNP| Proper noun, singular | I ordered the chair from **Amazon**  |\n",
    "|NNPS| Proper noun, plural | We visted the **Kennedys**   |\n",
    "|PDT| Predeterminer | **Both** the children had a toy   |\n",
    "|POS| Possessive ending | I built the dog'**s** house    |\n",
    "|PRP| Personal pronoun | **You** need to stop    |\n",
    "|PRP$| Possessive pronoun | Remember not to judge a book by **its** cover |\n",
    "|RB| Adverb | The dog barks **loudly**    |\n",
    "|RBR| Adverb, comparative | Could you sing more **quietly** please?   |\n",
    "|RBS| Adverb, superlative | Everyone in the race ran fast, but John ran **the fastest** of all    |\n",
    "|RP| Particle | He ate **up** all his dinner    |\n",
    "|SYM| Symbol | What are you doing **?**    |\n",
    "|TO| to | Please send it back **to** me    |\n",
    "|UH| Interjection | **Wow!** You look gorgeous    |\n",
    "|VB| Verb, base form | We **play** soccer |\n",
    "|VBD| Verb, past tense | I **worked** at a restaurant    |\n",
    "|VBG| Verb, gerund or present participle | **Smoking** kills people   |\n",
    "|VBN| Verb, past participle | She has **done** her homework    |\n",
    "|VBP| Verb, non-3rd person singular present | You **flit** from place to place    |\n",
    "|VBZ| Verb, 3rd person singular present | He never **calls** me    |\n",
    "|WDT| Wh-determiner | The store honored the complaints, **which** were less than 25 days old    |\n",
    "|WP| Wh-pronoun | **Who** can help me?    |\n",
    "|WP\\$| Possessive wh-pronoun | **Whose** fault is it?    |\n",
    "|WRB| Wh-adverb | **Where** are you going?  |"
   ]
  },
  {
   "cell_type": "code",
   "execution_count": 6,
   "metadata": {
    "colab": {
     "base_uri": "https://localhost:8080/",
     "height": 467
    },
    "id": "49-eCSZQ0cQa",
    "outputId": "22eae637-5239-4977-d6b1-55ce6288476e",
    "pycharm": {
     "name": "#%%\n"
    }
   },
   "outputs": [
    {
     "name": "stdout",
     "output_type": "stream",
     "text": [
      "Warning::Spark Session already created, some configs may not take.\n",
      "Warning::Spark Session already created, some configs may not take.\n",
      "pos_anc download started this may take some time.\n",
      "Approximate size to download 3.9 MB\n",
      "[OK!]\n",
      "sentence_detector_dl download started this may take some time.\n",
      "Approximate size to download 354.6 KB\n",
      "[OK!]\n",
      "Warning::Spark Session already created, some configs may not take.\n"
     ]
    },
    {
     "data": {
      "text/html": [
       "<div>\n",
       "<style scoped>\n",
       "    .dataframe tbody tr th:only-of-type {\n",
       "        vertical-align: middle;\n",
       "    }\n",
       "\n",
       "    .dataframe tbody tr th {\n",
       "        vertical-align: top;\n",
       "    }\n",
       "\n",
       "    .dataframe thead th {\n",
       "        text-align: right;\n",
       "    }\n",
       "</style>\n",
       "<table border=\"1\" class=\"dataframe\">\n",
       "  <thead>\n",
       "    <tr style=\"text-align: right;\">\n",
       "      <th></th>\n",
       "      <th>pos</th>\n",
       "      <th>token</th>\n",
       "    </tr>\n",
       "  </thead>\n",
       "  <tbody>\n",
       "    <tr>\n",
       "      <th>0</th>\n",
       "      <td>NNP</td>\n",
       "      <td>POS</td>\n",
       "    </tr>\n",
       "    <tr>\n",
       "      <th>0</th>\n",
       "      <td>NNS</td>\n",
       "      <td>assigns</td>\n",
       "    </tr>\n",
       "    <tr>\n",
       "      <th>0</th>\n",
       "      <td>DT</td>\n",
       "      <td>each</td>\n",
       "    </tr>\n",
       "    <tr>\n",
       "      <th>0</th>\n",
       "      <td>NN</td>\n",
       "      <td>token</td>\n",
       "    </tr>\n",
       "    <tr>\n",
       "      <th>0</th>\n",
       "      <td>IN</td>\n",
       "      <td>in</td>\n",
       "    </tr>\n",
       "    <tr>\n",
       "      <th>0</th>\n",
       "      <td>DT</td>\n",
       "      <td>a</td>\n",
       "    </tr>\n",
       "    <tr>\n",
       "      <th>0</th>\n",
       "      <td>NN</td>\n",
       "      <td>sentence</td>\n",
       "    </tr>\n",
       "    <tr>\n",
       "      <th>0</th>\n",
       "      <td>DT</td>\n",
       "      <td>a</td>\n",
       "    </tr>\n",
       "    <tr>\n",
       "      <th>0</th>\n",
       "      <td>JJ</td>\n",
       "      <td>grammatical</td>\n",
       "    </tr>\n",
       "    <tr>\n",
       "      <th>0</th>\n",
       "      <td>NN</td>\n",
       "      <td>label</td>\n",
       "    </tr>\n",
       "  </tbody>\n",
       "</table>\n",
       "</div>"
      ],
      "text/plain": [
       "   pos        token\n",
       "0  NNP          POS\n",
       "0  NNS      assigns\n",
       "0   DT         each\n",
       "0   NN        token\n",
       "0   IN           in\n",
       "0   DT            a\n",
       "0   NN     sentence\n",
       "0   DT            a\n",
       "0   JJ  grammatical\n",
       "0   NN        label"
      ]
     },
     "execution_count": 6,
     "metadata": {},
     "output_type": "execute_result"
    }
   ],
   "source": [
    "nlu.load('pos').predict('POS assigns each token in a sentence a grammatical label')"
   ]
  },
  {
   "cell_type": "markdown",
   "metadata": {
    "id": "2-ih6TXc0d6x",
    "pycharm": {
     "name": "#%% md\n"
    }
   },
   "source": [
    "## Named Entity Recognition (NER) in 1 line\n",
    "\n",
    "![NER](http://ckl-it.de/wp-content/uploads/2021/02/ner-1.png)\n",
    "\n",
    "|Type | \tDescription |\n",
    "|------|--------------|\n",
    "| PERSON | \tPeople, including fictional like **Harry Potter** |\n",
    "| NORP | \tNationalities or religious or political groups like the **Germans** |\n",
    "| FAC | \tBuildings, airports, highways, bridges, etc. like **New York Airport** |\n",
    "| ORG | \tCompanies, agencies, institutions, etc. like **Microsoft** |\n",
    "| GPE | \tCountries, cities, states. like **Germany** |\n",
    "| LOC | \tNon-GPE locations, mountain ranges, bodies of water. Like the **Sahara desert**|\n",
    "| PRODUCT | \tObjects, vehicles, foods, etc. (Not services.) like **playstation** |\n",
    "| EVENT | \tNamed hurricanes, battles, wars, sports events, etc. like **hurricane Katrina**|\n",
    "| WORK_OF_ART | \tTitles of books, songs, etc. Like **Mona Lisa** |\n",
    "| LAW | \tNamed documents made into laws. Like : **Declaration of Independence** |\n",
    "| LANGUAGE | \tAny named language. Like **Turkish**|\n",
    "| DATE | \tAbsolute or relative dates or periods. Like every second **friday**|\n",
    "| TIME | \tTimes smaller than a day. Like **every minute**|\n",
    "| PERCENT | \tPercentage, including ”%“. Like **55%** of workers enjoy their work |\n",
    "| MONEY | \tMonetary values, including unit. Like **50$** for those pants |\n",
    "| QUANTITY | \tMeasurements, as of weight or distance. Like this person weights **50kg** |\n",
    "| ORDINAL | \t“first”, “second”, etc. Like David placed **first** in the tournament |\n",
    "| CARDINAL | \tNumerals that do not fall under another type. Like **hundreds** of models are avaiable in NLU |\n"
   ]
  },
  {
   "cell_type": "code",
   "execution_count": 8,
   "metadata": {
    "colab": {
     "base_uri": "https://localhost:8080/",
     "height": 340
    },
    "id": "zoDjsSxx0eJY",
    "outputId": "32d619b7-345a-4a48-ad6a-ce46f6156462",
    "pycharm": {
     "name": "#%%\n"
    },
    "scrolled": true
   },
   "outputs": [
    {
     "name": "stdout",
     "output_type": "stream",
     "text": [
      "Warning::Spark Session already created, some configs may not take.\n",
      "Warning::Spark Session already created, some configs may not take.\n",
      "onto_recognize_entities_sm download started this may take some time.\n",
      "Approx size to download 159 MB\n",
      "[OK!]\n",
      "Warning::Spark Session already created, some configs may not take.\n"
     ]
    },
    {
     "data": {
      "text/html": [
       "<div>\n",
       "<style scoped>\n",
       "    .dataframe tbody tr th:only-of-type {\n",
       "        vertical-align: middle;\n",
       "    }\n",
       "\n",
       "    .dataframe tbody tr th {\n",
       "        vertical-align: top;\n",
       "    }\n",
       "\n",
       "    .dataframe thead th {\n",
       "        text-align: right;\n",
       "    }\n",
       "</style>\n",
       "<table border=\"1\" class=\"dataframe\">\n",
       "  <thead>\n",
       "    <tr style=\"text-align: right;\">\n",
       "      <th></th>\n",
       "      <th>document</th>\n",
       "      <th>entities</th>\n",
       "      <th>entities_class</th>\n",
       "      <th>entities_confidence</th>\n",
       "      <th>entities_origin_chunk</th>\n",
       "      <th>entities_origin_sentence</th>\n",
       "      <th>sentence_pragmatic</th>\n",
       "      <th>word_embedding_embeddings</th>\n",
       "    </tr>\n",
       "  </thead>\n",
       "  <tbody>\n",
       "    <tr>\n",
       "      <th>0</th>\n",
       "      <td>John Biden from America and Putin from Russia ...</td>\n",
       "      <td>John Biden</td>\n",
       "      <td>PERSON</td>\n",
       "      <td>0.97220004</td>\n",
       "      <td>0</td>\n",
       "      <td>0</td>\n",
       "      <td>[John Biden from America and Putin from Russia...</td>\n",
       "      <td>[[-0.2747400104999542, 0.48680999875068665, -0...</td>\n",
       "    </tr>\n",
       "    <tr>\n",
       "      <th>0</th>\n",
       "      <td>John Biden from America and Putin from Russia ...</td>\n",
       "      <td>America</td>\n",
       "      <td>GPE</td>\n",
       "      <td>0.9985</td>\n",
       "      <td>1</td>\n",
       "      <td>0</td>\n",
       "      <td>[John Biden from America and Putin from Russia...</td>\n",
       "      <td>[[-0.2747400104999542, 0.48680999875068665, -0...</td>\n",
       "    </tr>\n",
       "    <tr>\n",
       "      <th>0</th>\n",
       "      <td>John Biden from America and Putin from Russia ...</td>\n",
       "      <td>Putin</td>\n",
       "      <td>PERSON</td>\n",
       "      <td>0.8887</td>\n",
       "      <td>2</td>\n",
       "      <td>0</td>\n",
       "      <td>[John Biden from America and Putin from Russia...</td>\n",
       "      <td>[[-0.2747400104999542, 0.48680999875068665, -0...</td>\n",
       "    </tr>\n",
       "    <tr>\n",
       "      <th>0</th>\n",
       "      <td>John Biden from America and Putin from Russia ...</td>\n",
       "      <td>Russia</td>\n",
       "      <td>GPE</td>\n",
       "      <td>0.9971</td>\n",
       "      <td>3</td>\n",
       "      <td>0</td>\n",
       "      <td>[John Biden from America and Putin from Russia...</td>\n",
       "      <td>[[-0.2747400104999542, 0.48680999875068665, -0...</td>\n",
       "    </tr>\n",
       "  </tbody>\n",
       "</table>\n",
       "</div>"
      ],
      "text/plain": [
       "                                            document    entities  \\\n",
       "0  John Biden from America and Putin from Russia ...  John Biden   \n",
       "0  John Biden from America and Putin from Russia ...     America   \n",
       "0  John Biden from America and Putin from Russia ...       Putin   \n",
       "0  John Biden from America and Putin from Russia ...      Russia   \n",
       "\n",
       "  entities_class entities_confidence entities_origin_chunk  \\\n",
       "0         PERSON          0.97220004                     0   \n",
       "0            GPE              0.9985                     1   \n",
       "0         PERSON              0.8887                     2   \n",
       "0            GPE              0.9971                     3   \n",
       "\n",
       "  entities_origin_sentence                                 sentence_pragmatic  \\\n",
       "0                        0  [John Biden from America and Putin from Russia...   \n",
       "0                        0  [John Biden from America and Putin from Russia...   \n",
       "0                        0  [John Biden from America and Putin from Russia...   \n",
       "0                        0  [John Biden from America and Putin from Russia...   \n",
       "\n",
       "                           word_embedding_embeddings  \n",
       "0  [[-0.2747400104999542, 0.48680999875068665, -0...  \n",
       "0  [[-0.2747400104999542, 0.48680999875068665, -0...  \n",
       "0  [[-0.2747400104999542, 0.48680999875068665, -0...  \n",
       "0  [[-0.2747400104999542, 0.48680999875068665, -0...  "
      ]
     },
     "execution_count": 8,
     "metadata": {},
     "output_type": "execute_result"
    }
   ],
   "source": [
    "nlu.load('ner').predict(\"John Biden from America and Putin from Russia do not share many opinions.\", output_level='chunk')"
   ]
  },
  {
   "cell_type": "markdown",
   "metadata": {
    "id": "wSmWaFymYT1D",
    "pycharm": {
     "name": "#%% md\n"
    }
   },
   "source": [
    "## Transformer Based Sequence Classification with NLU"
   ]
  },
  {
   "cell_type": "code",
   "execution_count": 9,
   "metadata": {
    "colab": {
     "base_uri": "https://localhost:8080/",
     "height": 185
    },
    "id": "xuQ4P_7eYXAA",
    "outputId": "b5c35836-9976-4c0c-d3aa-38775807caa0",
    "pycharm": {
     "name": "#%%\n"
    }
   },
   "outputs": [
    {
     "name": "stdout",
     "output_type": "stream",
     "text": [
      "Warning::Spark Session already created, some configs may not take.\n",
      "Warning::Spark Session already created, some configs may not take.\n",
      "bert_sequence_classifier_finbert download started this may take some time.\n",
      "Approximate size to download 390.9 MB\n",
      "[ | ]bert_sequence_classifier_finbert download started this may take some time.\n",
      "Approximate size to download 390.9 MB\n",
      "[ / ]Download done! Loading the resource.\n",
      "[OK!]\n",
      "sentence_detector_dl download started this may take some time.\n",
      "Approximate size to download 354.6 KB\n",
      "[OK!]\n",
      "Warning::Spark Session already created, some configs may not take.\n"
     ]
    },
    {
     "name": "stderr",
     "output_type": "stream",
     "text": [
      "                                                                                \r"
     ]
    },
    {
     "data": {
      "text/html": [
       "<div>\n",
       "<style scoped>\n",
       "    .dataframe tbody tr th:only-of-type {\n",
       "        vertical-align: middle;\n",
       "    }\n",
       "\n",
       "    .dataframe tbody tr th {\n",
       "        vertical-align: top;\n",
       "    }\n",
       "\n",
       "    .dataframe thead th {\n",
       "        text-align: right;\n",
       "    }\n",
       "</style>\n",
       "<table border=\"1\" class=\"dataframe\">\n",
       "  <thead>\n",
       "    <tr style=\"text-align: right;\">\n",
       "      <th></th>\n",
       "      <th>classified_sequence</th>\n",
       "      <th>classified_sequence_confidence</th>\n",
       "      <th>sentence</th>\n",
       "    </tr>\n",
       "  </thead>\n",
       "  <tbody>\n",
       "    <tr>\n",
       "      <th>0</th>\n",
       "      <td>positive</td>\n",
       "      <td>0.936465</td>\n",
       "      <td>Stocks rallied and the British pound gained.</td>\n",
       "    </tr>\n",
       "  </tbody>\n",
       "</table>\n",
       "</div>"
      ],
      "text/plain": [
       "  classified_sequence classified_sequence_confidence  \\\n",
       "0            positive                       0.936465   \n",
       "\n",
       "                                       sentence  \n",
       "0  Stocks rallied and the British pound gained.  "
      ]
     },
     "execution_count": 9,
     "metadata": {},
     "output_type": "execute_result"
    }
   ],
   "source": [
    "import nlu\n",
    "# https://nlp.johnsnowlabs.com/2021/11/03/bert_sequence_classifier_finbert_en.html \n",
    "seq_pipe = nlu.load('en.classify.bert_sequence.finbert')\n",
    "seq_pipe.predict('Stocks rallied and the British pound gained.')"
   ]
  },
  {
   "cell_type": "code",
   "execution_count": 10,
   "metadata": {
    "colab": {
     "base_uri": "https://localhost:8080/",
     "height": 216
    },
    "id": "MjWjYE7lRxtM",
    "outputId": "a9e762a5-5309-4d23-8c1e-910dcea7284a",
    "pycharm": {
     "name": "#%%\n"
    }
   },
   "outputs": [
    {
     "name": "stdout",
     "output_type": "stream",
     "text": [
      "Warning::Spark Session already created, some configs may not take.\n",
      "Warning::Spark Session already created, some configs may not take.\n",
      "distilbert_sequence_classifier_industry download started this may take some time.\n",
      "Approximate size to download 238.4 MB\n",
      "[ | ]distilbert_sequence_classifier_industry download started this may take some time.\n",
      "Approximate size to download 238.4 MB\n",
      "[ | ]Download done! Loading the resource.\n",
      "[OK!]\n",
      "sentence_detector_dl download started this may take some time.\n",
      "Approximate size to download 354.6 KB\n",
      "[OK!]\n",
      "Warning::Spark Session already created, some configs may not take.\n"
     ]
    },
    {
     "name": "stderr",
     "output_type": "stream",
     "text": [
      "                                                                                \r"
     ]
    },
    {
     "data": {
      "text/html": [
       "<div>\n",
       "<style scoped>\n",
       "    .dataframe tbody tr th:only-of-type {\n",
       "        vertical-align: middle;\n",
       "    }\n",
       "\n",
       "    .dataframe tbody tr th {\n",
       "        vertical-align: top;\n",
       "    }\n",
       "\n",
       "    .dataframe thead th {\n",
       "        text-align: right;\n",
       "    }\n",
       "</style>\n",
       "<table border=\"1\" class=\"dataframe\">\n",
       "  <thead>\n",
       "    <tr style=\"text-align: right;\">\n",
       "      <th></th>\n",
       "      <th>classified_sequence</th>\n",
       "      <th>classified_sequence_confidence</th>\n",
       "      <th>sentence</th>\n",
       "    </tr>\n",
       "  </thead>\n",
       "  <tbody>\n",
       "    <tr>\n",
       "      <th>0</th>\n",
       "      <td>Asset Management &amp; Custody Banks</td>\n",
       "      <td>0.908935</td>\n",
       "      <td>Stellar Capital Services Limited is an India-b...</td>\n",
       "    </tr>\n",
       "    <tr>\n",
       "      <th>0</th>\n",
       "      <td>Consumer Finance</td>\n",
       "      <td>0.981309</td>\n",
       "      <td>.. loan against property, management consultan...</td>\n",
       "    </tr>\n",
       "  </tbody>\n",
       "</table>\n",
       "</div>"
      ],
      "text/plain": [
       "                classified_sequence classified_sequence_confidence  \\\n",
       "0  Asset Management & Custody Banks                       0.908935   \n",
       "0                  Consumer Finance                       0.981309   \n",
       "\n",
       "                                            sentence  \n",
       "0  Stellar Capital Services Limited is an India-b...  \n",
       "0  .. loan against property, management consultan...  "
      ]
     },
     "execution_count": 10,
     "metadata": {},
     "output_type": "execute_result"
    }
   ],
   "source": [
    "# https://nlp.johnsnowlabs.com/2021/11/21/distilbert_sequence_classifier_industry_en.html \n",
    "seq_pipe = nlu.load('en.classify.distilbert_sequence.industry')\n",
    "seq_pipe.predict('Stellar Capital Services Limited is an India-based non-banking financial company ... loan against property, management consultancy, personal loans and unsecured loans.')"
   ]
  },
  {
   "cell_type": "code",
   "execution_count": 11,
   "metadata": {
    "colab": {
     "base_uri": "https://localhost:8080/",
     "height": 185
    },
    "id": "0SbpWgTXRyCr",
    "outputId": "05966349-5371-4029-9dec-a58216fc0f4d",
    "pycharm": {
     "name": "#%%\n"
    }
   },
   "outputs": [
    {
     "name": "stdout",
     "output_type": "stream",
     "text": [
      "Warning::Spark Session already created, some configs may not take.\n",
      "Warning::Spark Session already created, some configs may not take.\n",
      "distilbert_sequence_classifier_industry download started this may take some time.\n",
      "Approximate size to download 238.4 MB\n",
      "[OK!]\n",
      "sentence_detector_dl download started this may take some time.\n",
      "Approximate size to download 354.6 KB\n",
      "[OK!]\n",
      "Warning::Spark Session already created, some configs may not take.\n"
     ]
    },
    {
     "data": {
      "text/html": [
       "<div>\n",
       "<style scoped>\n",
       "    .dataframe tbody tr th:only-of-type {\n",
       "        vertical-align: middle;\n",
       "    }\n",
       "\n",
       "    .dataframe tbody tr th {\n",
       "        vertical-align: top;\n",
       "    }\n",
       "\n",
       "    .dataframe thead th {\n",
       "        text-align: right;\n",
       "    }\n",
       "</style>\n",
       "<table border=\"1\" class=\"dataframe\">\n",
       "  <thead>\n",
       "    <tr style=\"text-align: right;\">\n",
       "      <th></th>\n",
       "      <th>classified_sequence</th>\n",
       "      <th>classified_sequence_confidence</th>\n",
       "      <th>sentence</th>\n",
       "    </tr>\n",
       "  </thead>\n",
       "  <tbody>\n",
       "    <tr>\n",
       "      <th>0</th>\n",
       "      <td>Internet &amp; Direct Marketing Retail</td>\n",
       "      <td>0.306007</td>\n",
       "      <td>I am still waiting on my card?</td>\n",
       "    </tr>\n",
       "  </tbody>\n",
       "</table>\n",
       "</div>"
      ],
      "text/plain": [
       "                  classified_sequence classified_sequence_confidence  \\\n",
       "0  Internet & Direct Marketing Retail                       0.306007   \n",
       "\n",
       "                         sentence  \n",
       "0  I am still waiting on my card?  "
      ]
     },
     "execution_count": 11,
     "metadata": {},
     "output_type": "execute_result"
    }
   ],
   "source": [
    "#https://nlp.johnsnowlabs.com/2021/11/21/distilbert_sequence_classifier_banking77_en.html\n",
    "seq_pipe = nlu.load('en.classify.distilbert_sequence.industry')\n",
    "seq_pipe.predict('I am still waiting on my card?')"
   ]
  },
  {
   "cell_type": "markdown",
   "metadata": {
    "id": "Yy7SKXFcYYRf",
    "pycharm": {
     "name": "#%% md\n"
    }
   },
   "source": [
    "## Transformer Based Token Classification with NLU"
   ]
  },
  {
   "cell_type": "code",
   "execution_count": 12,
   "metadata": {
    "colab": {
     "base_uri": "https://localhost:8080/",
     "height": 404
    },
    "id": "bDUZdk9hYXRZ",
    "outputId": "2f625086-6f5b-4cfd-9f6c-c0f15bcc9604",
    "pycharm": {
     "name": "#%%\n"
    }
   },
   "outputs": [
    {
     "name": "stdout",
     "output_type": "stream",
     "text": [
      "Warning::Spark Session already created, some configs may not take.\n",
      "Warning::Spark Session already created, some configs may not take.\n",
      "roberta_token_classifier_ticker download started this may take some time.\n",
      "Approximate size to download 443.1 MB\n",
      "[ | ]roberta_token_classifier_ticker download started this may take some time.\n",
      "Approximate size to download 443.1 MB\n",
      "[ — ]Download done! Loading the resource.\n",
      "[ \\ ]Using CPUs\n",
      "[OK!]\n",
      "sentence_detector_dl download started this may take some time.\n",
      "Approximate size to download 354.6 KB\n",
      "[OK!]\n",
      "Warning::Spark Session already created, some configs may not take.\n"
     ]
    },
    {
     "data": {
      "text/html": [
       "<div>\n",
       "<style scoped>\n",
       "    .dataframe tbody tr th:only-of-type {\n",
       "        vertical-align: middle;\n",
       "    }\n",
       "\n",
       "    .dataframe tbody tr th {\n",
       "        vertical-align: top;\n",
       "    }\n",
       "\n",
       "    .dataframe thead th {\n",
       "        text-align: right;\n",
       "    }\n",
       "</style>\n",
       "<table border=\"1\" class=\"dataframe\">\n",
       "  <thead>\n",
       "    <tr style=\"text-align: right;\">\n",
       "      <th></th>\n",
       "      <th>classified_token</th>\n",
       "      <th>token</th>\n",
       "    </tr>\n",
       "  </thead>\n",
       "  <tbody>\n",
       "    <tr>\n",
       "      <th>0</th>\n",
       "      <td>O</td>\n",
       "      <td>MFST</td>\n",
       "    </tr>\n",
       "    <tr>\n",
       "      <th>0</th>\n",
       "      <td>O</td>\n",
       "      <td>is</td>\n",
       "    </tr>\n",
       "    <tr>\n",
       "      <th>0</th>\n",
       "      <td>O</td>\n",
       "      <td>a</td>\n",
       "    </tr>\n",
       "    <tr>\n",
       "      <th>0</th>\n",
       "      <td>O</td>\n",
       "      <td>great</td>\n",
       "    </tr>\n",
       "    <tr>\n",
       "      <th>0</th>\n",
       "      <td>O</td>\n",
       "      <td>stock</td>\n",
       "    </tr>\n",
       "    <tr>\n",
       "      <th>0</th>\n",
       "      <td>O</td>\n",
       "      <td>to</td>\n",
       "    </tr>\n",
       "    <tr>\n",
       "      <th>0</th>\n",
       "      <td>O</td>\n",
       "      <td>buy</td>\n",
       "    </tr>\n",
       "    <tr>\n",
       "      <th>0</th>\n",
       "      <td>O</td>\n",
       "      <td>!!!</td>\n",
       "    </tr>\n",
       "  </tbody>\n",
       "</table>\n",
       "</div>"
      ],
      "text/plain": [
       "  classified_token  token\n",
       "0                O   MFST\n",
       "0                O     is\n",
       "0                O      a\n",
       "0                O  great\n",
       "0                O  stock\n",
       "0                O     to\n",
       "0                O    buy\n",
       "0                O    !!!"
      ]
     },
     "execution_count": 12,
     "metadata": {},
     "output_type": "execute_result"
    }
   ],
   "source": [
    "# https://nlp.johnsnowlabs.com/2021/12/27/roberta_token_classifier_ticker_en.html \n",
    "tok_pipe = nlu.load('en.ner.stocks_ticker')\n",
    "tok_pipe.predict('MFST is a great stock to buy!!!')"
   ]
  },
  {
   "cell_type": "code",
   "execution_count": 10,
   "metadata": {
    "id": "BqMNhtxCYR5e",
    "pycharm": {
     "name": "#%%\n"
    }
   },
   "outputs": [
    {
     "name": "stdout",
     "output_type": "stream",
     "text": [
      "Please restart kernel and clear up RAM\n"
     ]
    }
   ],
   "source": [
    "print(\"Please restart kernel and clear up RAM\")"
   ]
  },
  {
   "cell_type": "markdown",
   "metadata": {
    "id": "AMFwC0jX_dCT",
    "pycharm": {
     "name": "#%% md\n"
    }
   },
   "source": [
    "# Let's apply NLU to a dataset!"
   ]
  },
  {
   "cell_type": "code",
   "execution_count": 4,
   "metadata": {},
   "outputs": [
    {
     "data": {
      "text/plain": [
       "0       IT3 USN East Coast Sailor Conservative #Savage...\n",
       "1       Master of financial economics, Wall Street int...\n",
       "2       Sometimes you're the bat and sometimes you're ...\n",
       "3                 I am smarter than you, at least i think\n",
       "4       Life's short, Live!\\nI'm not a financial advis...\n",
       "                              ...                        \n",
       "1995    Proud Indian || Proud Hindu || Interested In P...\n",
       "1996    I always learn from mistakes of others who tak...\n",
       "1997                         born out side of this world.\n",
       "1998    Showing you how to buy cryptocurrency quick an...\n",
       "1999                 State Level Cricketer\\n\\n\\nBtech Cse\n",
       "Name: title, Length: 2000, dtype: object"
      ]
     },
     "execution_count": 4,
     "metadata": {},
     "output_type": "execute_result"
    }
   ],
   "source": [
    "import pandas as pd \n",
    "import nlu\n",
    "! wget -q https://raw.githubusercontent.com/JohnSnowLabs/spark-nlp-workshop/master/open-source-nlp/data/small_btc.csv\n",
    "df = pd.read_csv('./small_btc.csv').iloc[0:5000].title\n",
    "df"
   ]
  },
  {
   "cell_type": "markdown",
   "metadata": {
    "id": "AMFwC0jX_dCT",
    "pycharm": {
     "name": "#%% md\n"
    }
   },
   "source": [
    "## NER on a Crypto News dataset\n",
    "### The **NER** model which you can load via `nlu.load('ner')` recognizes 18 different classes in your dataset.\n",
    "We set output level to chunk, so that we get 1 row per NER class.\n",
    "\n",
    "\n",
    "#### Predicted entities:\n",
    "\n",
    "\n",
    "NER is avaiable in many languages, which you can [find in the John Snow Labs Modelshub](https://nlp.johnsnowlabs.com/models)"
   ]
  },
  {
   "cell_type": "code",
   "execution_count": 6,
   "metadata": {
    "colab": {
     "base_uri": "https://localhost:8080/",
     "height": 693
    },
    "id": "aUGAomeusNVv",
    "outputId": "f1804b0c-ba6a-4dfa-c021-33786d5ab154",
    "pycharm": {
     "name": "#%%\n"
    },
    "scrolled": true
   },
   "outputs": [
    {
     "name": "stdout",
     "output_type": "stream",
     "text": [
      "Warning::Spark Session already created, some configs may not take.\n",
      "Warning::Spark Session already created, some configs may not take.\n",
      "onto_recognize_entities_sm download started this may take some time.\n",
      "Approx size to download 159 MB\n",
      "[OK!]\n",
      "Warning::Spark Session already created, some configs may not take.\n"
     ]
    },
    {
     "name": "stderr",
     "output_type": "stream",
     "text": [
      "                                                                                \r"
     ]
    },
    {
     "data": {
      "text/html": [
       "<div>\n",
       "<style scoped>\n",
       "    .dataframe tbody tr th:only-of-type {\n",
       "        vertical-align: middle;\n",
       "    }\n",
       "\n",
       "    .dataframe tbody tr th {\n",
       "        vertical-align: top;\n",
       "    }\n",
       "\n",
       "    .dataframe thead th {\n",
       "        text-align: right;\n",
       "    }\n",
       "</style>\n",
       "<table border=\"1\" class=\"dataframe\">\n",
       "  <thead>\n",
       "    <tr style=\"text-align: right;\">\n",
       "      <th></th>\n",
       "      <th>document</th>\n",
       "      <th>entities</th>\n",
       "      <th>entities_class</th>\n",
       "      <th>entities_confidence</th>\n",
       "      <th>entities_origin_chunk</th>\n",
       "      <th>entities_origin_sentence</th>\n",
       "      <th>sentence_pragmatic</th>\n",
       "      <th>word_embedding_embeddings</th>\n",
       "    </tr>\n",
       "  </thead>\n",
       "  <tbody>\n",
       "    <tr>\n",
       "      <th>0</th>\n",
       "      <td>IT3 USN East Coast Sailor Conservative #Savage...</td>\n",
       "      <td>NaN</td>\n",
       "      <td>NaN</td>\n",
       "      <td>NaN</td>\n",
       "      <td>NaN</td>\n",
       "      <td>NaN</td>\n",
       "      <td>[IT3 USN East Coast Sailor Conservative #Savag...</td>\n",
       "      <td>[[0.0, 0.0, 0.0, 0.0, 0.0, 0.0, 0.0, 0.0, 0.0,...</td>\n",
       "    </tr>\n",
       "    <tr>\n",
       "      <th>1</th>\n",
       "      <td>Master of financial economics, Wall Street int...</td>\n",
       "      <td>NaN</td>\n",
       "      <td>NaN</td>\n",
       "      <td>NaN</td>\n",
       "      <td>NaN</td>\n",
       "      <td>NaN</td>\n",
       "      <td>[Master of financial economics, Wall Street in...</td>\n",
       "      <td>[[0.5588600039482117, -0.3222000002861023, -0....</td>\n",
       "    </tr>\n",
       "    <tr>\n",
       "      <th>2</th>\n",
       "      <td>Sometimes you're the bat and sometimes you're ...</td>\n",
       "      <td>NaN</td>\n",
       "      <td>NaN</td>\n",
       "      <td>NaN</td>\n",
       "      <td>NaN</td>\n",
       "      <td>NaN</td>\n",
       "      <td>[Sometimes you're the bat and sometimes you're...</td>\n",
       "      <td>[[-0.4960300028324127, 0.48017001152038574, 0....</td>\n",
       "    </tr>\n",
       "    <tr>\n",
       "      <th>3</th>\n",
       "      <td>I am smarter than you, at least i think</td>\n",
       "      <td>NaN</td>\n",
       "      <td>NaN</td>\n",
       "      <td>NaN</td>\n",
       "      <td>NaN</td>\n",
       "      <td>NaN</td>\n",
       "      <td>[I am smarter than you, at least i think]</td>\n",
       "      <td>[[-0.046539001166820526, 0.6196600198745728, 0...</td>\n",
       "    </tr>\n",
       "    <tr>\n",
       "      <th>4</th>\n",
       "      <td>Life's short, Live!\\nI'm not a financial advis...</td>\n",
       "      <td>NaN</td>\n",
       "      <td>NaN</td>\n",
       "      <td>NaN</td>\n",
       "      <td>NaN</td>\n",
       "      <td>NaN</td>\n",
       "      <td>[Life's short, Live!, I'm not a financial advi...</td>\n",
       "      <td>[[0.0, 0.0, 0.0, 0.0, 0.0, 0.0, 0.0, 0.0, 0.0,...</td>\n",
       "    </tr>\n",
       "    <tr>\n",
       "      <th>...</th>\n",
       "      <td>...</td>\n",
       "      <td>...</td>\n",
       "      <td>...</td>\n",
       "      <td>...</td>\n",
       "      <td>...</td>\n",
       "      <td>...</td>\n",
       "      <td>...</td>\n",
       "      <td>...</td>\n",
       "    </tr>\n",
       "    <tr>\n",
       "      <th>1995</th>\n",
       "      <td>Proud Indian || Proud Hindu || Interested In P...</td>\n",
       "      <td>Indian</td>\n",
       "      <td>NORP</td>\n",
       "      <td>0.7974</td>\n",
       "      <td>0</td>\n",
       "      <td>0</td>\n",
       "      <td>[Proud Indian || Proud Hindu || Interested In ...</td>\n",
       "      <td>[[-0.15538999438285828, 0.39535999298095703, 0...</td>\n",
       "    </tr>\n",
       "    <tr>\n",
       "      <th>1996</th>\n",
       "      <td>I always learn from mistakes of others who tak...</td>\n",
       "      <td>NaN</td>\n",
       "      <td>NaN</td>\n",
       "      <td>NaN</td>\n",
       "      <td>NaN</td>\n",
       "      <td>NaN</td>\n",
       "      <td>[I always learn from mistakes of others who ta...</td>\n",
       "      <td>[[-0.046539001166820526, 0.6196600198745728, 0...</td>\n",
       "    </tr>\n",
       "    <tr>\n",
       "      <th>1997</th>\n",
       "      <td>born out side of this world.</td>\n",
       "      <td>NaN</td>\n",
       "      <td>NaN</td>\n",
       "      <td>NaN</td>\n",
       "      <td>NaN</td>\n",
       "      <td>NaN</td>\n",
       "      <td>[born out side of this world.]</td>\n",
       "      <td>[[0.4015600085258484, -0.5202900171279907, -0....</td>\n",
       "    </tr>\n",
       "    <tr>\n",
       "      <th>1998</th>\n",
       "      <td>Showing you how to buy cryptocurrency quick an...</td>\n",
       "      <td>today</td>\n",
       "      <td>DATE</td>\n",
       "      <td>0.8434</td>\n",
       "      <td>0</td>\n",
       "      <td>2</td>\n",
       "      <td>[Showing you how to buy cryptocurrency quick a...</td>\n",
       "      <td>[[0.3576500117778778, 0.19213999807834625, 0.2...</td>\n",
       "    </tr>\n",
       "    <tr>\n",
       "      <th>1999</th>\n",
       "      <td>State Level Cricketer\\n\\n\\nBtech Cse</td>\n",
       "      <td>NaN</td>\n",
       "      <td>NaN</td>\n",
       "      <td>NaN</td>\n",
       "      <td>NaN</td>\n",
       "      <td>NaN</td>\n",
       "      <td>[State Level Cricketer\\n\\n\\nBtech Cse]</td>\n",
       "      <td>[[0.0011835000477731228, -0.16505999863147736,...</td>\n",
       "    </tr>\n",
       "  </tbody>\n",
       "</table>\n",
       "<p>2933 rows × 8 columns</p>\n",
       "</div>"
      ],
      "text/plain": [
       "                                               document entities  \\\n",
       "0     IT3 USN East Coast Sailor Conservative #Savage...      NaN   \n",
       "1     Master of financial economics, Wall Street int...      NaN   \n",
       "2     Sometimes you're the bat and sometimes you're ...      NaN   \n",
       "3               I am smarter than you, at least i think      NaN   \n",
       "4     Life's short, Live!\\nI'm not a financial advis...      NaN   \n",
       "...                                                 ...      ...   \n",
       "1995  Proud Indian || Proud Hindu || Interested In P...   Indian   \n",
       "1996  I always learn from mistakes of others who tak...      NaN   \n",
       "1997                       born out side of this world.      NaN   \n",
       "1998  Showing you how to buy cryptocurrency quick an...    today   \n",
       "1999               State Level Cricketer\\n\\n\\nBtech Cse      NaN   \n",
       "\n",
       "     entities_class entities_confidence entities_origin_chunk  \\\n",
       "0               NaN                 NaN                   NaN   \n",
       "1               NaN                 NaN                   NaN   \n",
       "2               NaN                 NaN                   NaN   \n",
       "3               NaN                 NaN                   NaN   \n",
       "4               NaN                 NaN                   NaN   \n",
       "...             ...                 ...                   ...   \n",
       "1995           NORP              0.7974                     0   \n",
       "1996            NaN                 NaN                   NaN   \n",
       "1997            NaN                 NaN                   NaN   \n",
       "1998           DATE              0.8434                     0   \n",
       "1999            NaN                 NaN                   NaN   \n",
       "\n",
       "     entities_origin_sentence  \\\n",
       "0                         NaN   \n",
       "1                         NaN   \n",
       "2                         NaN   \n",
       "3                         NaN   \n",
       "4                         NaN   \n",
       "...                       ...   \n",
       "1995                        0   \n",
       "1996                      NaN   \n",
       "1997                      NaN   \n",
       "1998                        2   \n",
       "1999                      NaN   \n",
       "\n",
       "                                     sentence_pragmatic  \\\n",
       "0     [IT3 USN East Coast Sailor Conservative #Savag...   \n",
       "1     [Master of financial economics, Wall Street in...   \n",
       "2     [Sometimes you're the bat and sometimes you're...   \n",
       "3             [I am smarter than you, at least i think]   \n",
       "4     [Life's short, Live!, I'm not a financial advi...   \n",
       "...                                                 ...   \n",
       "1995  [Proud Indian || Proud Hindu || Interested In ...   \n",
       "1996  [I always learn from mistakes of others who ta...   \n",
       "1997                     [born out side of this world.]   \n",
       "1998  [Showing you how to buy cryptocurrency quick a...   \n",
       "1999             [State Level Cricketer\\n\\n\\nBtech Cse]   \n",
       "\n",
       "                              word_embedding_embeddings  \n",
       "0     [[0.0, 0.0, 0.0, 0.0, 0.0, 0.0, 0.0, 0.0, 0.0,...  \n",
       "1     [[0.5588600039482117, -0.3222000002861023, -0....  \n",
       "2     [[-0.4960300028324127, 0.48017001152038574, 0....  \n",
       "3     [[-0.046539001166820526, 0.6196600198745728, 0...  \n",
       "4     [[0.0, 0.0, 0.0, 0.0, 0.0, 0.0, 0.0, 0.0, 0.0,...  \n",
       "...                                                 ...  \n",
       "1995  [[-0.15538999438285828, 0.39535999298095703, 0...  \n",
       "1996  [[-0.046539001166820526, 0.6196600198745728, 0...  \n",
       "1997  [[0.4015600085258484, -0.5202900171279907, -0....  \n",
       "1998  [[0.3576500117778778, 0.19213999807834625, 0.2...  \n",
       "1999  [[0.0011835000477731228, -0.16505999863147736,...  \n",
       "\n",
       "[2933 rows x 8 columns]"
      ]
     },
     "execution_count": 6,
     "metadata": {},
     "output_type": "execute_result"
    }
   ],
   "source": [
    "ner_df = nlu.load('ner').predict(df, output_level = 'chunk')\n",
    "ner_df "
   ]
  },
  {
   "cell_type": "markdown",
   "metadata": {
    "id": "6gC7S2vqBpT1",
    "pycharm": {
     "name": "#%% md\n"
    }
   },
   "source": [
    "### Top 50 Named Entities"
   ]
  },
  {
   "cell_type": "code",
   "execution_count": 7,
   "metadata": {
    "colab": {
     "base_uri": "https://localhost:8080/",
     "height": 1000
    },
    "id": "aKSSgTC-sVq8",
    "outputId": "a405903b-9302-40b0-eeb0-2f2f082954d3",
    "pycharm": {
     "name": "#%%\n"
    }
   },
   "outputs": [
    {
     "data": {
      "text/plain": [
       "<Axes: >"
      ]
     },
     "execution_count": 7,
     "metadata": {},
     "output_type": "execute_result"
    },
    {
     "data": {
      "image/png": "[encoded data removed]",
      "text/plain": [
       "<Figure size 1600x2000 with 1 Axes>"
      ]
     },
     "metadata": {},
     "output_type": "display_data"
    }
   ],
   "source": [
    "ner_df.entities.value_counts()[:100].plot.barh(figsize = (16,20))"
   ]
  },
  {
   "cell_type": "markdown",
   "metadata": {
    "id": "ElYjed34Bu8T",
    "pycharm": {
     "name": "#%% md\n"
    }
   },
   "source": [
    "### Top 50 Named Entities which are PERSONS"
   ]
  },
  {
   "cell_type": "code",
   "execution_count": 9,
   "metadata": {
    "colab": {
     "base_uri": "https://localhost:8080/",
     "height": 1000
    },
    "id": "rynx78HUvQJI",
    "outputId": "324a3b7a-4eca-4148-d801-779400c1ec69",
    "pycharm": {
     "name": "#%%\n"
    }
   },
   "outputs": [
    {
     "data": {
      "text/plain": [
       "<Axes: title={'center': 'Top 50 Occuring Persons in the dataset'}>"
      ]
     },
     "execution_count": 9,
     "metadata": {},
     "output_type": "execute_result"
    },
    {
     "data": {
      "image/png": "[encoded data removed]",
      "text/plain": [
       "<Figure size 1800x2000 with 1 Axes>"
      ]
     },
     "metadata": {},
     "output_type": "display_data"
    }
   ],
   "source": [
    "ner_df[ner_df.entities_class == 'PERSON'].entities.value_counts()[:50].plot.barh(figsize=(18,20), title ='Top 50 Occuring Persons in the dataset')"
   ]
  },
  {
   "cell_type": "markdown",
   "metadata": {
    "id": "B8oAF_MCBxyN",
    "pycharm": {
     "name": "#%% md\n"
    }
   },
   "source": [
    "### Top 50 Named Entities which are Countries/Cities/States"
   ]
  },
  {
   "cell_type": "code",
   "execution_count": 10,
   "metadata": {
    "colab": {
     "base_uri": "https://localhost:8080/",
     "height": 1000
    },
    "id": "IEiIMsFj9v2n",
    "outputId": "42b5cace-bbcc-41e1-fcf4-417a2da298b6",
    "pycharm": {
     "name": "#%%\n"
    }
   },
   "outputs": [
    {
     "data": {
      "text/plain": [
       "<Axes: title={'center': 'Top 50 Countries/Cities/States Occuring in the dataset'}>"
      ]
     },
     "execution_count": 10,
     "metadata": {},
     "output_type": "execute_result"
    },
    {
     "data": {
      "image/png": "[encoded data removed]",
      "text/plain": [
       "<Figure size 1800x2000 with 1 Axes>"
      ]
     },
     "metadata": {},
     "output_type": "display_data"
    }
   ],
   "source": [
    "ner_df[ner_df.entities_class == 'GPE'].entities.value_counts()[:50].plot.barh(figsize=(18,20),title ='Top 50 Countries/Cities/States Occuring in the dataset')"
   ]
  },
  {
   "cell_type": "markdown",
   "metadata": {
    "id": "JiHofegqB0sM",
    "pycharm": {
     "name": "#%% md\n"
    }
   },
   "source": [
    "### Top 50 Named Entities which are PRODUCTS "
   ]
  },
  {
   "cell_type": "code",
   "execution_count": 11,
   "metadata": {
    "colab": {
     "base_uri": "https://localhost:8080/",
     "height": 1000
    },
    "id": "coeW-Kgs92fH",
    "outputId": "1c9e6717-fa30-4f12-e527-73ab931ff14a",
    "pycharm": {
     "name": "#%%\n"
    }
   },
   "outputs": [
    {
     "data": {
      "text/plain": [
       "<Axes: title={'center': 'Top 50 products occuring in the dataset'}>"
      ]
     },
     "execution_count": 11,
     "metadata": {},
     "output_type": "execute_result"
    },
    {
     "data": {
      "image/png": "[encoded data removed]",
      "text/plain": [
       "<Figure size 1800x2000 with 1 Axes>"
      ]
     },
     "metadata": {},
     "output_type": "display_data"
    }
   ],
   "source": [
    "ner_df[ner_df.entities_class == 'PRODUCT'].entities.value_counts()[:50].plot.barh(figsize=(18,20),title ='Top 50 products occuring in the dataset')"
   ]
  },
  {
   "cell_type": "markdown",
   "metadata": {
    "id": "ybfGwL9-B7MN",
    "pycharm": {
     "name": "#%% md\n"
    }
   },
   "source": [
    "### Top 50 Named Entities which are ORGANIZATIONS"
   ]
  },
  {
   "cell_type": "code",
   "execution_count": 12,
   "metadata": {
    "colab": {
     "base_uri": "https://localhost:8080/",
     "height": 1000
    },
    "id": "4ng-TNYu--09",
    "outputId": "adb65bd4-c23a-4e09-9f4d-4fb013528b5c",
    "pycharm": {
     "name": "#%%\n"
    }
   },
   "outputs": [
    {
     "data": {
      "text/plain": [
       "<Axes: title={'center': 'Top 50 products occuring in the dataset'}>"
      ]
     },
     "execution_count": 12,
     "metadata": {},
     "output_type": "execute_result"
    },
    {
     "data": {
      "image/png": "[encoded data removed]",
      "text/plain": [
       "<Figure size 1800x2000 with 1 Axes>"
      ]
     },
     "metadata": {},
     "output_type": "display_data"
    }
   ],
   "source": [
    "ner_df[ner_df.entities_class == 'ORG'].entities.value_counts()[:50].plot.barh(figsize=(18,20),title ='Top 50 products occuring in the dataset')"
   ]
  },
  {
   "cell_type": "markdown",
   "metadata": {
    "id": "p73T7MyeU2kS",
    "pycharm": {
     "name": "#%% md\n"
    }
   },
   "source": [
    "## YAKE on a Crypto News dataset\n",
    "### The **YAKE!** model (Yet Another Keyword Extractor) is a **unsupervised** keyword extraction algorithm.\n",
    "You can load it via   which you can load via `nlu.load('yake')`. It has no weights and is very fast.\n",
    "It has various parameters that can be configured to influence which keywords are beeing extracted, [here for an more indepth YAKE guide](https://github.com/JohnSnowLabs/nlu/blob/master/examples/webinars_conferences_etc/multi_lingual_webinar/1_NLU_base_features_on_dataset_with_YAKE_Lemma_Stemm_classifiers_NER_.ipynb)"
   ]
  },
  {
   "cell_type": "code",
   "execution_count": 15,
   "metadata": {
    "colab": {
     "base_uri": "https://localhost:8080/",
     "height": 476
    },
    "id": "Zu8-yar9VLqO",
    "outputId": "d43b7253-f1c9-4211-e5ff-7a53835c4382",
    "pycharm": {
     "name": "#%%\n"
    }
   },
   "outputs": [
    {
     "name": "stdout",
     "output_type": "stream",
     "text": [
      "Warning::Spark Session already created, some configs may not take.\n",
      "Warning::Spark Session already created, some configs may not take.\n",
      "sentence_detector_dl download started this may take some time.\n",
      "Approximate size to download 354.6 KB\n",
      "[OK!]\n",
      "Warning::Spark Session already created, some configs may not take.\n"
     ]
    },
    {
     "name": "stderr",
     "output_type": "stream",
     "text": [
      "                                                                                \r"
     ]
    },
    {
     "data": {
      "text/html": [
       "<div>\n",
       "<style scoped>\n",
       "    .dataframe tbody tr th:only-of-type {\n",
       "        vertical-align: middle;\n",
       "    }\n",
       "\n",
       "    .dataframe tbody tr th {\n",
       "        vertical-align: top;\n",
       "    }\n",
       "\n",
       "    .dataframe thead th {\n",
       "        text-align: right;\n",
       "    }\n",
       "</style>\n",
       "<table border=\"1\" class=\"dataframe\">\n",
       "  <thead>\n",
       "    <tr style=\"text-align: right;\">\n",
       "      <th></th>\n",
       "      <th>document</th>\n",
       "      <th>keywords</th>\n",
       "      <th>keywords_confidence</th>\n",
       "    </tr>\n",
       "  </thead>\n",
       "  <tbody>\n",
       "    <tr>\n",
       "      <th>0</th>\n",
       "      <td>IT3 USN East Coast Sailor Conservative #Savage...</td>\n",
       "      <td>east coast</td>\n",
       "      <td>0.5066323531331214</td>\n",
       "    </tr>\n",
       "    <tr>\n",
       "      <th>0</th>\n",
       "      <td>IT3 USN East Coast Sailor Conservative #Savage...</td>\n",
       "      <td>coast sailor</td>\n",
       "      <td>0.5066323531331214</td>\n",
       "    </tr>\n",
       "    <tr>\n",
       "      <th>0</th>\n",
       "      <td>IT3 USN East Coast Sailor Conservative #Savage...</td>\n",
       "      <td>sailor conservative</td>\n",
       "      <td>0.5066323531331214</td>\n",
       "    </tr>\n",
       "    <tr>\n",
       "      <th>1</th>\n",
       "      <td>Master of financial economics, Wall Street int...</td>\n",
       "      <td>financial</td>\n",
       "      <td>0.15231579782573695</td>\n",
       "    </tr>\n",
       "    <tr>\n",
       "      <th>1</th>\n",
       "      <td>Master of financial economics, Wall Street int...</td>\n",
       "      <td>financial</td>\n",
       "      <td>0.15231579782573695</td>\n",
       "    </tr>\n",
       "    <tr>\n",
       "      <th>...</th>\n",
       "      <td>...</td>\n",
       "      <td>...</td>\n",
       "      <td>...</td>\n",
       "    </tr>\n",
       "    <tr>\n",
       "      <th>1998</th>\n",
       "      <td>Showing you how to buy cryptocurrency quick an...</td>\n",
       "      <td>buying</td>\n",
       "      <td>0.7005641784344762</td>\n",
       "    </tr>\n",
       "    <tr>\n",
       "      <th>1998</th>\n",
       "      <td>Showing you how to buy cryptocurrency quick an...</td>\n",
       "      <td>cryptocurrency</td>\n",
       "      <td>0.39089005312289</td>\n",
       "    </tr>\n",
       "    <tr>\n",
       "      <th>1999</th>\n",
       "      <td>State Level Cricketer Btech Cse</td>\n",
       "      <td>cse</td>\n",
       "      <td>0.26804494089513314</td>\n",
       "    </tr>\n",
       "    <tr>\n",
       "      <th>1999</th>\n",
       "      <td>State Level Cricketer Btech Cse</td>\n",
       "      <td>btech cse</td>\n",
       "      <td>0.1840422979793308</td>\n",
       "    </tr>\n",
       "    <tr>\n",
       "      <th>1999</th>\n",
       "      <td>State Level Cricketer Btech Cse</td>\n",
       "      <td>cricketer btech cse</td>\n",
       "      <td>0.16906727990961448</td>\n",
       "    </tr>\n",
       "  </tbody>\n",
       "</table>\n",
       "<p>5910 rows × 3 columns</p>\n",
       "</div>"
      ],
      "text/plain": [
       "                                               document             keywords  \\\n",
       "0     IT3 USN East Coast Sailor Conservative #Savage...           east coast   \n",
       "0     IT3 USN East Coast Sailor Conservative #Savage...         coast sailor   \n",
       "0     IT3 USN East Coast Sailor Conservative #Savage...  sailor conservative   \n",
       "1     Master of financial economics, Wall Street int...            financial   \n",
       "1     Master of financial economics, Wall Street int...            financial   \n",
       "...                                                 ...                  ...   \n",
       "1998  Showing you how to buy cryptocurrency quick an...               buying   \n",
       "1998  Showing you how to buy cryptocurrency quick an...       cryptocurrency   \n",
       "1999                    State Level Cricketer Btech Cse                  cse   \n",
       "1999                    State Level Cricketer Btech Cse            btech cse   \n",
       "1999                    State Level Cricketer Btech Cse  cricketer btech cse   \n",
       "\n",
       "      keywords_confidence  \n",
       "0      0.5066323531331214  \n",
       "0      0.5066323531331214  \n",
       "0      0.5066323531331214  \n",
       "1     0.15231579782573695  \n",
       "1     0.15231579782573695  \n",
       "...                   ...  \n",
       "1998   0.7005641784344762  \n",
       "1998     0.39089005312289  \n",
       "1999  0.26804494089513314  \n",
       "1999   0.1840422979793308  \n",
       "1999  0.16906727990961448  \n",
       "\n",
       "[5910 rows x 3 columns]"
      ]
     },
     "execution_count": 15,
     "metadata": {},
     "output_type": "execute_result"
    }
   ],
   "source": [
    "yake_df = nlu.load('yake').predict(df)\n",
    "yake_df"
   ]
  },
  {
   "cell_type": "markdown",
   "metadata": {
    "id": "VJxjIrgdWZ0M",
    "pycharm": {
     "name": "#%% md\n"
    }
   },
   "source": [
    "### Top 50 extracted Keywords with YAKE!"
   ]
  },
  {
   "cell_type": "code",
   "execution_count": 16,
   "metadata": {
    "colab": {
     "base_uri": "https://localhost:8080/",
     "height": 1000
    },
    "id": "CMXkeiCLVo4u",
    "outputId": "245b7b18-f7c2-4fcc-ead0-058eb4edbf80",
    "pycharm": {
     "name": "#%%\n"
    }
   },
   "outputs": [
    {
     "data": {
      "text/plain": [
       "<Axes: >"
      ]
     },
     "execution_count": 16,
     "metadata": {},
     "output_type": "execute_result"
    },
    {
     "data": {
      "image/png": "[encoded data removed]",
      "text/plain": [
       "<Figure size 1400x1800 with 1 Axes>"
      ]
     },
     "metadata": {},
     "output_type": "display_data"
    }
   ],
   "source": [
    "yake_df.keywords.value_counts()[0:50].plot.barh(figsize=(14,18))"
   ]
  },
  {
   "cell_type": "markdown",
   "metadata": {
    "id": "gXoYzE_RBaaj",
    "pycharm": {
     "name": "#%% md\n"
    }
   },
   "source": [
    "## Binary Sentimental Analysis and Distribution on a dataset"
   ]
  },
  {
   "cell_type": "code",
   "execution_count": 17,
   "metadata": {
    "colab": {
     "base_uri": "https://localhost:8080/",
     "height": 580
    },
    "id": "yjHx4TR3_SMe",
    "outputId": "c736e38a-7538-4c91-d4bb-86d9e4a9535b",
    "pycharm": {
     "name": "#%%\n"
    }
   },
   "outputs": [
    {
     "name": "stdout",
     "output_type": "stream",
     "text": [
      "Warning::Spark Session already created, some configs may not take.\n",
      "Warning::Spark Session already created, some configs may not take.\n",
      "sentimentdl_glove_imdb download started this may take some time.\n",
      "Approximate size to download 8.7 MB\n",
      "[ | ]sentimentdl_glove_imdb download started this may take some time.\n",
      "Approximate size to download 8.7 MB\n",
      "Download done! Loading the resource.\n",
      "[OK!]\n",
      "glove_100d download started this may take some time.\n",
      "Approximate size to download 145.3 MB\n",
      "[ | ]glove_100d download started this may take some time.\n",
      "Approximate size to download 145.3 MB\n",
      "Download done! Loading the resource.\n",
      "[OK!]\n",
      "sentence_detector_dl download started this may take some time.\n",
      "Approximate size to download 354.6 KB\n",
      "[OK!]\n",
      "Warning::Spark Session already created, some configs may not take.\n"
     ]
    },
    {
     "name": "stderr",
     "output_type": "stream",
     "text": [
      "                                                                                \r"
     ]
    },
    {
     "data": {
      "text/html": [
       "<div>\n",
       "<style scoped>\n",
       "    .dataframe tbody tr th:only-of-type {\n",
       "        vertical-align: middle;\n",
       "    }\n",
       "\n",
       "    .dataframe tbody tr th {\n",
       "        vertical-align: top;\n",
       "    }\n",
       "\n",
       "    .dataframe thead th {\n",
       "        text-align: right;\n",
       "    }\n",
       "</style>\n",
       "<table border=\"1\" class=\"dataframe\">\n",
       "  <thead>\n",
       "    <tr style=\"text-align: right;\">\n",
       "      <th></th>\n",
       "      <th>sentence</th>\n",
       "      <th>sentence_embedding_converter</th>\n",
       "      <th>sentiment</th>\n",
       "      <th>sentiment_confidence</th>\n",
       "      <th>word_embedding_glove</th>\n",
       "    </tr>\n",
       "  </thead>\n",
       "  <tbody>\n",
       "    <tr>\n",
       "      <th>0</th>\n",
       "      <td>IT3 USN East Coast Sailor Conservative #Savage...</td>\n",
       "      <td>[-0.16595502197742462, 0.02963399887084961, 0....</td>\n",
       "      <td>pos</td>\n",
       "      <td>0.991635</td>\n",
       "      <td>[[0.0, 0.0, 0.0, 0.0, 0.0, 0.0, 0.0, 0.0, 0.0,...</td>\n",
       "    </tr>\n",
       "    <tr>\n",
       "      <th>1</th>\n",
       "      <td>Master of financial economics, Wall Street int...</td>\n",
       "      <td>[0.09686370193958282, -0.014647195115685463, 0...</td>\n",
       "      <td>neg</td>\n",
       "      <td>0.998337</td>\n",
       "      <td>[[0.5588600039482117, -0.3222000002861023, -0....</td>\n",
       "    </tr>\n",
       "    <tr>\n",
       "      <th>2</th>\n",
       "      <td>Sometimes you're the bat and sometimes you're ...</td>\n",
       "      <td>[-0.19927679002285004, 0.15427498519420624, 0....</td>\n",
       "      <td>neg</td>\n",
       "      <td>0.974976</td>\n",
       "      <td>[[-0.4960300028324127, 0.48017001152038574, 0....</td>\n",
       "    </tr>\n",
       "    <tr>\n",
       "      <th>3</th>\n",
       "      <td>I am smarter than you, at least i think</td>\n",
       "      <td>[-0.013822424225509167, 0.5330170392990112, 0....</td>\n",
       "      <td>pos</td>\n",
       "      <td>0.973532</td>\n",
       "      <td>[[-0.046539001166820526, 0.6196600198745728, 0...</td>\n",
       "    </tr>\n",
       "    <tr>\n",
       "      <th>4</th>\n",
       "      <td>Life's short, Live!</td>\n",
       "      <td>[-0.07651600241661072, 0.18977060914039612, 0....</td>\n",
       "      <td>pos</td>\n",
       "      <td>0.998816</td>\n",
       "      <td>[[0.0, 0.0, 0.0, 0.0, 0.0, 0.0, 0.0, 0.0, 0.0,...</td>\n",
       "    </tr>\n",
       "    <tr>\n",
       "      <th>...</th>\n",
       "      <td>...</td>\n",
       "      <td>...</td>\n",
       "      <td>...</td>\n",
       "      <td>...</td>\n",
       "      <td>...</td>\n",
       "    </tr>\n",
       "    <tr>\n",
       "      <th>1997</th>\n",
       "      <td>born out side of this world.</td>\n",
       "      <td>[-0.11952856928110123, 0.19006942212581635, 0....</td>\n",
       "      <td>pos</td>\n",
       "      <td>0.99999</td>\n",
       "      <td>[[0.4015600085258484, -0.5202900171279907, -0....</td>\n",
       "    </tr>\n",
       "    <tr>\n",
       "      <th>1998</th>\n",
       "      <td>Showing you how to buy cryptocurrency quick an...</td>\n",
       "      <td>[-0.16364829242229462, 0.24658238887786865, 0....</td>\n",
       "      <td>pos</td>\n",
       "      <td>0.999967</td>\n",
       "      <td>[[0.3576500117778778, 0.19213999807834625, 0.2...</td>\n",
       "    </tr>\n",
       "    <tr>\n",
       "      <th>1998</th>\n",
       "      <td>Buying crypto has never been easier!</td>\n",
       "      <td>[0.1496051400899887, 0.3847957253456116, 0.220...</td>\n",
       "      <td>pos</td>\n",
       "      <td>0.999967</td>\n",
       "      <td>[[0.3576500117778778, 0.19213999807834625, 0.2...</td>\n",
       "    </tr>\n",
       "    <tr>\n",
       "      <th>1998</th>\n",
       "      <td>Get started With cryptocurrency today.</td>\n",
       "      <td>[-0.03274666890501976, 0.18575333058834076, 0....</td>\n",
       "      <td>pos</td>\n",
       "      <td>0.999967</td>\n",
       "      <td>[[0.3576500117778778, 0.19213999807834625, 0.2...</td>\n",
       "    </tr>\n",
       "    <tr>\n",
       "      <th>1999</th>\n",
       "      <td>State Level Cricketer Btech Cse</td>\n",
       "      <td>[0.06305868923664093, 0.004431602545082569, 0....</td>\n",
       "      <td>neg</td>\n",
       "      <td>0.944728</td>\n",
       "      <td>[[0.0011835000477731228, -0.16505999863147736,...</td>\n",
       "    </tr>\n",
       "  </tbody>\n",
       "</table>\n",
       "<p>3425 rows × 5 columns</p>\n",
       "</div>"
      ],
      "text/plain": [
       "                                               sentence  \\\n",
       "0     IT3 USN East Coast Sailor Conservative #Savage...   \n",
       "1     Master of financial economics, Wall Street int...   \n",
       "2     Sometimes you're the bat and sometimes you're ...   \n",
       "3               I am smarter than you, at least i think   \n",
       "4                                   Life's short, Live!   \n",
       "...                                                 ...   \n",
       "1997                       born out side of this world.   \n",
       "1998  Showing you how to buy cryptocurrency quick an...   \n",
       "1998               Buying crypto has never been easier!   \n",
       "1998             Get started With cryptocurrency today.   \n",
       "1999                    State Level Cricketer Btech Cse   \n",
       "\n",
       "                           sentence_embedding_converter sentiment  \\\n",
       "0     [-0.16595502197742462, 0.02963399887084961, 0....       pos   \n",
       "1     [0.09686370193958282, -0.014647195115685463, 0...       neg   \n",
       "2     [-0.19927679002285004, 0.15427498519420624, 0....       neg   \n",
       "3     [-0.013822424225509167, 0.5330170392990112, 0....       pos   \n",
       "4     [-0.07651600241661072, 0.18977060914039612, 0....       pos   \n",
       "...                                                 ...       ...   \n",
       "1997  [-0.11952856928110123, 0.19006942212581635, 0....       pos   \n",
       "1998  [-0.16364829242229462, 0.24658238887786865, 0....       pos   \n",
       "1998  [0.1496051400899887, 0.3847957253456116, 0.220...       pos   \n",
       "1998  [-0.03274666890501976, 0.18575333058834076, 0....       pos   \n",
       "1999  [0.06305868923664093, 0.004431602545082569, 0....       neg   \n",
       "\n",
       "     sentiment_confidence                               word_embedding_glove  \n",
       "0                0.991635  [[0.0, 0.0, 0.0, 0.0, 0.0, 0.0, 0.0, 0.0, 0.0,...  \n",
       "1                0.998337  [[0.5588600039482117, -0.3222000002861023, -0....  \n",
       "2                0.974976  [[-0.4960300028324127, 0.48017001152038574, 0....  \n",
       "3                0.973532  [[-0.046539001166820526, 0.6196600198745728, 0...  \n",
       "4                0.998816  [[0.0, 0.0, 0.0, 0.0, 0.0, 0.0, 0.0, 0.0, 0.0,...  \n",
       "...                   ...                                                ...  \n",
       "1997              0.99999  [[0.4015600085258484, -0.5202900171279907, -0....  \n",
       "1998             0.999967  [[0.3576500117778778, 0.19213999807834625, 0.2...  \n",
       "1998             0.999967  [[0.3576500117778778, 0.19213999807834625, 0.2...  \n",
       "1998             0.999967  [[0.3576500117778778, 0.19213999807834625, 0.2...  \n",
       "1999             0.944728  [[0.0011835000477731228, -0.16505999863147736,...  \n",
       "\n",
       "[3425 rows x 5 columns]"
      ]
     },
     "execution_count": 17,
     "metadata": {},
     "output_type": "execute_result"
    }
   ],
   "source": [
    "sent_df = nlu.load('sentiment').predict(df)\n",
    "sent_df"
   ]
  },
  {
   "cell_type": "code",
   "execution_count": 18,
   "metadata": {
    "colab": {
     "base_uri": "https://localhost:8080/",
     "height": 324
    },
    "id": "3LHQb5biErAv",
    "outputId": "1cdbf3d7-96e5-47e0-cae9-bb9c40d21d23",
    "pycharm": {
     "name": "#%%\n"
    }
   },
   "outputs": [
    {
     "data": {
      "text/plain": [
       "<Axes: title={'center': 'Sentiment Distribution '}>"
      ]
     },
     "execution_count": 18,
     "metadata": {},
     "output_type": "execute_result"
    },
    {
     "data": {
      "image/png": "[encoded data removed]",
      "text/plain": [
       "<Figure size 640x480 with 1 Axes>"
      ]
     },
     "metadata": {},
     "output_type": "display_data"
    }
   ],
   "source": [
    "sent_df.sentiment.value_counts().plot.bar(title='Sentiment Distribution ')"
   ]
  },
  {
   "cell_type": "markdown",
   "metadata": {
    "id": "3a3xxhUSCDhJ",
    "pycharm": {
     "name": "#%% md\n"
    }
   },
   "source": [
    "## Emotional Analysis and Distribution of Headlines "
   ]
  },
  {
   "cell_type": "code",
   "execution_count": 19,
   "metadata": {
    "colab": {
     "base_uri": "https://localhost:8080/",
     "height": 580
    },
    "id": "rrYi4f1PEpV3",
    "outputId": "5cd2fee1-62fb-4ca4-ecd9-84021df9787c",
    "pycharm": {
     "name": "#%%\n"
    }
   },
   "outputs": [
    {
     "name": "stdout",
     "output_type": "stream",
     "text": [
      "Warning::Spark Session already created, some configs may not take.\n",
      "Warning::Spark Session already created, some configs may not take.\n",
      "classifierdl_use_emotion download started this may take some time.\n",
      "Approximate size to download 21.3 MB\n",
      "[ | ]classifierdl_use_emotion download started this may take some time.\n",
      "Approximate size to download 21.3 MB\n",
      "Download done! Loading the resource.\n",
      "[OK!]\n",
      "tfhub_use download started this may take some time.\n",
      "Approximate size to download 923.7 MB\n",
      "[ | ]tfhub_use download started this may take some time.\n",
      "Approximate size to download 923.7 MB\n",
      "Download done! Loading the resource.\n",
      "[OK!]\n",
      "sentence_detector_dl download started this may take some time.\n",
      "Approximate size to download 354.6 KB\n",
      "[OK!]\n",
      "Warning::Spark Session already created, some configs may not take.\n"
     ]
    },
    {
     "name": "stderr",
     "output_type": "stream",
     "text": [
      "                                                                                \r"
     ]
    },
    {
     "data": {
      "text/html": [
       "<div>\n",
       "<style scoped>\n",
       "    .dataframe tbody tr th:only-of-type {\n",
       "        vertical-align: middle;\n",
       "    }\n",
       "\n",
       "    .dataframe tbody tr th {\n",
       "        vertical-align: top;\n",
       "    }\n",
       "\n",
       "    .dataframe thead th {\n",
       "        text-align: right;\n",
       "    }\n",
       "</style>\n",
       "<table border=\"1\" class=\"dataframe\">\n",
       "  <thead>\n",
       "    <tr style=\"text-align: right;\">\n",
       "      <th></th>\n",
       "      <th>emotion</th>\n",
       "      <th>emotion_confidence</th>\n",
       "      <th>sentence</th>\n",
       "      <th>sentence_embedding_use</th>\n",
       "    </tr>\n",
       "  </thead>\n",
       "  <tbody>\n",
       "    <tr>\n",
       "      <th>0</th>\n",
       "      <td>fear</td>\n",
       "      <td>0.999412</td>\n",
       "      <td>IT3 USN East Coast Sailor Conservative #Savage...</td>\n",
       "      <td>[-0.03852590546011925, 0.018443183973431587, -...</td>\n",
       "    </tr>\n",
       "    <tr>\n",
       "      <th>1</th>\n",
       "      <td>joy</td>\n",
       "      <td>0.999847</td>\n",
       "      <td>Master of financial economics, Wall Street int...</td>\n",
       "      <td>[0.06307356059551239, 0.03986850753426552, -0....</td>\n",
       "    </tr>\n",
       "    <tr>\n",
       "      <th>2</th>\n",
       "      <td>fear</td>\n",
       "      <td>0.999769</td>\n",
       "      <td>Sometimes you're the bat and sometimes you're ...</td>\n",
       "      <td>[-0.005323172081261873, -0.036064423620700836,...</td>\n",
       "    </tr>\n",
       "    <tr>\n",
       "      <th>3</th>\n",
       "      <td>surprise</td>\n",
       "      <td>0.999995</td>\n",
       "      <td>I am smarter than you, at least i think</td>\n",
       "      <td>[-0.021048346534371376, 0.03470355644822121, 0...</td>\n",
       "    </tr>\n",
       "    <tr>\n",
       "      <th>4</th>\n",
       "      <td>fear</td>\n",
       "      <td>0.999972</td>\n",
       "      <td>Life's short, Live!</td>\n",
       "      <td>[-0.022272026166319847, 0.007107133511453867, ...</td>\n",
       "    </tr>\n",
       "    <tr>\n",
       "      <th>...</th>\n",
       "      <td>...</td>\n",
       "      <td>...</td>\n",
       "      <td>...</td>\n",
       "      <td>...</td>\n",
       "    </tr>\n",
       "    <tr>\n",
       "      <th>1997</th>\n",
       "      <td>fear</td>\n",
       "      <td>0.995028</td>\n",
       "      <td>born out side of this world.</td>\n",
       "      <td>[-0.04422746226191521, -0.05761897936463356, -...</td>\n",
       "    </tr>\n",
       "    <tr>\n",
       "      <th>1998</th>\n",
       "      <td>joy</td>\n",
       "      <td>0.935049</td>\n",
       "      <td>Showing you how to buy cryptocurrency quick an...</td>\n",
       "      <td>[0.031828779727220535, -0.041178178042173386, ...</td>\n",
       "    </tr>\n",
       "    <tr>\n",
       "      <th>1998</th>\n",
       "      <td>joy</td>\n",
       "      <td>0.935049</td>\n",
       "      <td>Buying crypto has never been easier!</td>\n",
       "      <td>[0.05447543412446976, -0.041476666927337646, -...</td>\n",
       "    </tr>\n",
       "    <tr>\n",
       "      <th>1998</th>\n",
       "      <td>joy</td>\n",
       "      <td>0.935049</td>\n",
       "      <td>Get started With cryptocurrency today.</td>\n",
       "      <td>[0.04505104199051857, -0.044136352837085724, -...</td>\n",
       "    </tr>\n",
       "    <tr>\n",
       "      <th>1999</th>\n",
       "      <td>surprise</td>\n",
       "      <td>0.978077</td>\n",
       "      <td>State Level Cricketer Btech Cse</td>\n",
       "      <td>[-0.01613953337073326, -0.04960300773382187, -...</td>\n",
       "    </tr>\n",
       "  </tbody>\n",
       "</table>\n",
       "<p>3425 rows × 4 columns</p>\n",
       "</div>"
      ],
      "text/plain": [
       "       emotion emotion_confidence  \\\n",
       "0         fear           0.999412   \n",
       "1          joy           0.999847   \n",
       "2         fear           0.999769   \n",
       "3     surprise           0.999995   \n",
       "4         fear           0.999972   \n",
       "...        ...                ...   \n",
       "1997      fear           0.995028   \n",
       "1998       joy           0.935049   \n",
       "1998       joy           0.935049   \n",
       "1998       joy           0.935049   \n",
       "1999  surprise           0.978077   \n",
       "\n",
       "                                               sentence  \\\n",
       "0     IT3 USN East Coast Sailor Conservative #Savage...   \n",
       "1     Master of financial economics, Wall Street int...   \n",
       "2     Sometimes you're the bat and sometimes you're ...   \n",
       "3               I am smarter than you, at least i think   \n",
       "4                                   Life's short, Live!   \n",
       "...                                                 ...   \n",
       "1997                       born out side of this world.   \n",
       "1998  Showing you how to buy cryptocurrency quick an...   \n",
       "1998               Buying crypto has never been easier!   \n",
       "1998             Get started With cryptocurrency today.   \n",
       "1999                    State Level Cricketer Btech Cse   \n",
       "\n",
       "                                 sentence_embedding_use  \n",
       "0     [-0.03852590546011925, 0.018443183973431587, -...  \n",
       "1     [0.06307356059551239, 0.03986850753426552, -0....  \n",
       "2     [-0.005323172081261873, -0.036064423620700836,...  \n",
       "3     [-0.021048346534371376, 0.03470355644822121, 0...  \n",
       "4     [-0.022272026166319847, 0.007107133511453867, ...  \n",
       "...                                                 ...  \n",
       "1997  [-0.04422746226191521, -0.05761897936463356, -...  \n",
       "1998  [0.031828779727220535, -0.041178178042173386, ...  \n",
       "1998  [0.05447543412446976, -0.041476666927337646, -...  \n",
       "1998  [0.04505104199051857, -0.044136352837085724, -...  \n",
       "1999  [-0.01613953337073326, -0.04960300773382187, -...  \n",
       "\n",
       "[3425 rows x 4 columns]"
      ]
     },
     "execution_count": 19,
     "metadata": {},
     "output_type": "execute_result"
    }
   ],
   "source": [
    "emo_df = nlu.load('emotion').predict(df)\n",
    "emo_df"
   ]
  },
  {
   "cell_type": "code",
   "execution_count": 20,
   "metadata": {
    "colab": {
     "base_uri": "https://localhost:8080/",
     "height": 329
    },
    "id": "anyAVNjFCG9H",
    "outputId": "fb963509-94e9-4beb-987b-fede5db5b04f",
    "pycharm": {
     "name": "#%%\n"
    }
   },
   "outputs": [
    {
     "data": {
      "text/plain": [
       "<Axes: title={'center': 'Emotion Distribution'}>"
      ]
     },
     "execution_count": 20,
     "metadata": {},
     "output_type": "execute_result"
    },
    {
     "data": {
      "image/png": "[encoded data removed]",
      "text/plain": [
       "<Figure size 640x480 with 1 Axes>"
      ]
     },
     "metadata": {},
     "output_type": "display_data"
    }
   ],
   "source": [
    "emo_df.emotion.value_counts().plot.bar(title='Emotion Distribution')"
   ]
  },
  {
   "cell_type": "markdown",
   "metadata": {
    "id": "a7wmKnjfiMjo",
    "pycharm": {
     "name": "#%% md\n"
    }
   },
   "source": [
    "**Make sure to restart your notebook again** before starting the next section"
   ]
  },
  {
   "cell_type": "code",
   "execution_count": 21,
   "metadata": {
    "id": "BHD2-AnQsYbX",
    "pycharm": {
     "name": "#%%\n"
    }
   },
   "outputs": [
    {
     "name": "stdout",
     "output_type": "stream",
     "text": [
      "Please restart kernel and clear up RAM\n"
     ]
    }
   ],
   "source": [
    "print(\"Please restart kernel and clear up RAM\")"
   ]
  },
  {
   "cell_type": "markdown",
   "metadata": {
    "id": "rN_H9hKmApll",
    "pycharm": {
     "name": "#%% md\n"
    }
   },
   "source": [
    "# Answer **Closed Book** and Open **Book Questions** with Google's T5!\n",
    "\n",
    "<!-- [T5]() -->\n",
    "![T5 GIF](https://1.bp.blogspot.com/-o4oiOExxq1s/Xk26XPC3haI/AAAAAAAAFU8/NBlvOWB84L0PTYy9TzZBaLf6fwPGJTR0QCLcBGAsYHQ/s1600/image3.gif)\n",
    "\n",
    "You can load the **question answering** model with `nlu.load('en.t5')`"
   ]
  },
  {
   "cell_type": "code",
   "execution_count": 2,
   "metadata": {
    "colab": {
     "base_uri": "https://localhost:8080/"
    },
    "id": "sKmud8AHN9yo",
    "outputId": "31a7ea8e-2cf6-428b-fe38-7fab75c6b8ce",
    "pycharm": {
     "name": "#%%\n"
    }
   },
   "outputs": [
    {
     "name": "stdout",
     "output_type": "stream",
     "text": [
      "Warning::Spark Session already created, some configs may not take.\n",
      "Warning::Spark Session already created, some configs may not take.\n",
      "google_t5_small_ssm_nq download started this may take some time.\n",
      "Approximate size to download 170.8 MB\n",
      "[OK!]\n"
     ]
    }
   ],
   "source": [
    "import nlu\n",
    "# Load question answering T5 model\n",
    "t5_closed_question = nlu.load('en.t5')"
   ]
  },
  {
   "cell_type": "markdown",
   "metadata": {
    "id": "-F9rrWbfNyPZ",
    "pycharm": {
     "name": "#%% md\n"
    }
   },
   "source": [
    "## Answer **Closed Book Questions**  \n",
    "Closed book means that no additional context is given and the model must answer the question with the knowledge stored in it's weights"
   ]
  },
  {
   "cell_type": "code",
   "execution_count": 3,
   "metadata": {
    "colab": {
     "base_uri": "https://localhost:8080/",
     "height": 81
    },
    "id": "QsvnphOwfzVQ",
    "outputId": "268e7e58-5e51-4dba-81b9-9398922e3847",
    "pycharm": {
     "name": "#%%\n"
    }
   },
   "outputs": [
    {
     "name": "stdout",
     "output_type": "stream",
     "text": [
      "Warning::Spark Session already created, some configs may not take.\n"
     ]
    },
    {
     "name": "stderr",
     "output_type": "stream",
     "text": [
      "                                                                                \r"
     ]
    },
    {
     "data": {
      "text/html": [
       "<div>\n",
       "<style scoped>\n",
       "    .dataframe tbody tr th:only-of-type {\n",
       "        vertical-align: middle;\n",
       "    }\n",
       "\n",
       "    .dataframe tbody tr th {\n",
       "        vertical-align: top;\n",
       "    }\n",
       "\n",
       "    .dataframe thead th {\n",
       "        text-align: right;\n",
       "    }\n",
       "</style>\n",
       "<table border=\"1\" class=\"dataframe\">\n",
       "  <thead>\n",
       "    <tr style=\"text-align: right;\">\n",
       "      <th></th>\n",
       "      <th>document</th>\n",
       "      <th>t5</th>\n",
       "    </tr>\n",
       "  </thead>\n",
       "  <tbody>\n",
       "    <tr>\n",
       "      <th>0</th>\n",
       "      <td>Who is president of Nigeria?</td>\n",
       "      <td>Muhammadu Buhari</td>\n",
       "    </tr>\n",
       "  </tbody>\n",
       "</table>\n",
       "</div>"
      ],
      "text/plain": [
       "                       document                t5\n",
       "0  Who is president of Nigeria?  Muhammadu Buhari"
      ]
     },
     "execution_count": 3,
     "metadata": {},
     "output_type": "execute_result"
    }
   ],
   "source": [
    "t5_closed_question.predict(\"Who is president of Nigeria?\")"
   ]
  },
  {
   "cell_type": "code",
   "execution_count": 4,
   "metadata": {
    "colab": {
     "base_uri": "https://localhost:8080/",
     "height": 81
    },
    "id": "DcTbqAGmM6YY",
    "outputId": "ba7ceb38-5d0c-4c40-ee37-1547f69edae0",
    "pycharm": {
     "name": "#%%\n"
    }
   },
   "outputs": [
    {
     "data": {
      "text/html": [
       "<div>\n",
       "<style scoped>\n",
       "    .dataframe tbody tr th:only-of-type {\n",
       "        vertical-align: middle;\n",
       "    }\n",
       "\n",
       "    .dataframe tbody tr th {\n",
       "        vertical-align: top;\n",
       "    }\n",
       "\n",
       "    .dataframe thead th {\n",
       "        text-align: right;\n",
       "    }\n",
       "</style>\n",
       "<table border=\"1\" class=\"dataframe\">\n",
       "  <thead>\n",
       "    <tr style=\"text-align: right;\">\n",
       "      <th></th>\n",
       "      <th>document</th>\n",
       "      <th>t5</th>\n",
       "    </tr>\n",
       "  </thead>\n",
       "  <tbody>\n",
       "    <tr>\n",
       "      <th>0</th>\n",
       "      <td>What is the most common language in India?</td>\n",
       "      <td>Hindi</td>\n",
       "    </tr>\n",
       "  </tbody>\n",
       "</table>\n",
       "</div>"
      ],
      "text/plain": [
       "                                     document     t5\n",
       "0  What is the most common language in India?  Hindi"
      ]
     },
     "execution_count": 4,
     "metadata": {},
     "output_type": "execute_result"
    }
   ],
   "source": [
    "t5_closed_question.predict(\"What is the most common language in India?\")"
   ]
  },
  {
   "cell_type": "code",
   "execution_count": 5,
   "metadata": {
    "colab": {
     "base_uri": "https://localhost:8080/",
     "height": 81
    },
    "id": "2Rb4EhK_NAb3",
    "outputId": "31c1f4d6-e09c-48bb-9408-2b40cde2f886",
    "pycharm": {
     "name": "#%%\n"
    }
   },
   "outputs": [
    {
     "data": {
      "text/html": [
       "<div>\n",
       "<style scoped>\n",
       "    .dataframe tbody tr th:only-of-type {\n",
       "        vertical-align: middle;\n",
       "    }\n",
       "\n",
       "    .dataframe tbody tr th {\n",
       "        vertical-align: top;\n",
       "    }\n",
       "\n",
       "    .dataframe thead th {\n",
       "        text-align: right;\n",
       "    }\n",
       "</style>\n",
       "<table border=\"1\" class=\"dataframe\">\n",
       "  <thead>\n",
       "    <tr style=\"text-align: right;\">\n",
       "      <th></th>\n",
       "      <th>document</th>\n",
       "      <th>t5</th>\n",
       "    </tr>\n",
       "  </thead>\n",
       "  <tbody>\n",
       "    <tr>\n",
       "      <th>0</th>\n",
       "      <td>What is the capital of Germany?</td>\n",
       "      <td>Berlin</td>\n",
       "    </tr>\n",
       "  </tbody>\n",
       "</table>\n",
       "</div>"
      ],
      "text/plain": [
       "                          document      t5\n",
       "0  What is the capital of Germany?  Berlin"
      ]
     },
     "execution_count": 5,
     "metadata": {},
     "output_type": "execute_result"
    }
   ],
   "source": [
    "t5_closed_question.predict(\"What is the capital of Germany?\")"
   ]
  },
  {
   "cell_type": "markdown",
   "metadata": {
    "id": "ogxJNa5MOOQj",
    "pycharm": {
     "name": "#%% md\n"
    }
   },
   "source": [
    "## Answer **Open Book Questions** \n",
    "These are questions where we give the model some additional context, that is used to answer the question"
   ]
  },
  {
   "cell_type": "code",
   "execution_count": 6,
   "metadata": {
    "colab": {
     "base_uri": "https://localhost:8080/"
    },
    "id": "e9cwqQGtaTa5",
    "outputId": "fe2faa50-f905-421c-a967-8d1c597a881a",
    "pycharm": {
     "name": "#%%\n"
    }
   },
   "outputs": [
    {
     "name": "stdout",
     "output_type": "stream",
     "text": [
      "Warning::Spark Session already created, some configs may not take.\n",
      "Warning::Spark Session already created, some configs may not take.\n",
      "t5_base download started this may take some time.\n",
      "Approximate size to download 451.8 MB\n",
      "[ | ]t5_base download started this may take some time.\n",
      "Approximate size to download 451.8 MB\n",
      "Download done! Loading the resource.\n",
      "[OK!]\n"
     ]
    }
   ],
   "source": [
    "import nlu\n",
    "t5_open_book = nlu.load('answer_question')"
   ]
  },
  {
   "cell_type": "code",
   "execution_count": 7,
   "metadata": {
    "colab": {
     "base_uri": "https://localhost:8080/",
     "height": 112
    },
    "id": "OB5GOHxPYUYM",
    "outputId": "591439c7-26b0-4e84-a166-13aeef46b41b",
    "pycharm": {
     "name": "#%%\n"
    }
   },
   "outputs": [
    {
     "name": "stdout",
     "output_type": "stream",
     "text": [
      "Warning::Spark Session already created, some configs may not take.\n"
     ]
    },
    {
     "name": "stderr",
     "output_type": "stream",
     "text": [
      "                                                                                \r"
     ]
    },
    {
     "data": {
      "text/html": [
       "<div>\n",
       "<style scoped>\n",
       "    .dataframe tbody tr th:only-of-type {\n",
       "        vertical-align: middle;\n",
       "    }\n",
       "\n",
       "    .dataframe tbody tr th {\n",
       "        vertical-align: top;\n",
       "    }\n",
       "\n",
       "    .dataframe thead th {\n",
       "        text-align: right;\n",
       "    }\n",
       "</style>\n",
       "<table border=\"1\" class=\"dataframe\">\n",
       "  <thead>\n",
       "    <tr style=\"text-align: right;\">\n",
       "      <th></th>\n",
       "      <th>document</th>\n",
       "      <th>t5</th>\n",
       "    </tr>\n",
       "  </thead>\n",
       "  <tbody>\n",
       "    <tr>\n",
       "      <th>0</th>\n",
       "      <td>Why was peters week so bad?Peters last week wa...</td>\n",
       "      <td>He had an accident and broke his leg while skiing</td>\n",
       "    </tr>\n",
       "    <tr>\n",
       "      <th>1</th>\n",
       "      <td>How did peter broke his leg?Peters last week w...</td>\n",
       "      <td>skiing</td>\n",
       "    </tr>\n",
       "  </tbody>\n",
       "</table>\n",
       "</div>"
      ],
      "text/plain": [
       "                                            document  \\\n",
       "0  Why was peters week so bad?Peters last week wa...   \n",
       "1  How did peter broke his leg?Peters last week w...   \n",
       "\n",
       "                                                  t5  \n",
       "0  He had an accident and broke his leg while skiing  \n",
       "1                                             skiing  "
      ]
     },
     "execution_count": 7,
     "metadata": {},
     "output_type": "execute_result"
    }
   ],
   "source": [
    "context   = 'Peters last week was terrible! He had an accident and broke his leg while skiing!'\n",
    "question1  = 'Why was peters week so bad?' \n",
    "question2  = 'How did peter broke his leg?' \n",
    "\n",
    "t5_open_book.predict([question1+context, question2 + context]) "
   ]
  },
  {
   "cell_type": "code",
   "execution_count": 8,
   "metadata": {
    "id": "kZb_BdGm1-yc",
    "pycharm": {
     "name": "#%%\n"
    }
   },
   "outputs": [],
   "source": [
    "# Ask T5 questions in the context of a News Article\n",
    "question1 = 'Who is Jack ma?'\n",
    "question2 = 'Who is founder of Alibaba Group?'\n",
    "question3 = 'When did Jack Ma re-appear?'\n",
    "question4 = 'How did Alibaba stocks react?'\n",
    "question5 = 'Whom did Jack Ma meet?'\n",
    "question6 = 'Who did Jack Ma hide from?'\n",
    "\n",
    "\n",
    "# from https://www.bbc.com/news/business-55728338 \n",
    "news_article_context = \"\"\" context:\n",
    "Alibaba Group founder Jack Ma has made his first appearance since Chinese regulators cracked down on his business empire.\n",
    "His absence had fuelled speculation over his whereabouts amid increasing official scrutiny of his businesses.\n",
    "The billionaire met 100 rural teachers in China via a video meeting on Wednesday, according to local government media.\n",
    "Alibaba shares surged 5% on Hong Kong's stock exchange on the news.\n",
    "\"\"\"\n",
    "\n",
    "questions = [\n",
    "             question1+ news_article_context,\n",
    "             question2+ news_article_context,\n",
    "             question3+ news_article_context,\n",
    "             question4+ news_article_context,\n",
    "             question5+ news_article_context,\n",
    "             question6+ news_article_context,]\n",
    "\n"
   ]
  },
  {
   "cell_type": "code",
   "execution_count": 9,
   "metadata": {
    "colab": {
     "base_uri": "https://localhost:8080/",
     "height": 238
    },
    "id": "e0kTj4ZN4kJi",
    "outputId": "75c6fcda-8f87-4586-88d5-e0c7afcc22b7",
    "pycharm": {
     "name": "#%%\n"
    }
   },
   "outputs": [
    {
     "name": "stderr",
     "output_type": "stream",
     "text": [
      "                                                                                \r"
     ]
    },
    {
     "data": {
      "text/html": [
       "<div>\n",
       "<style scoped>\n",
       "    .dataframe tbody tr th:only-of-type {\n",
       "        vertical-align: middle;\n",
       "    }\n",
       "\n",
       "    .dataframe tbody tr th {\n",
       "        vertical-align: top;\n",
       "    }\n",
       "\n",
       "    .dataframe thead th {\n",
       "        text-align: right;\n",
       "    }\n",
       "</style>\n",
       "<table border=\"1\" class=\"dataframe\">\n",
       "  <thead>\n",
       "    <tr style=\"text-align: right;\">\n",
       "      <th></th>\n",
       "      <th>document</th>\n",
       "      <th>t5</th>\n",
       "    </tr>\n",
       "  </thead>\n",
       "  <tbody>\n",
       "    <tr>\n",
       "      <th>0</th>\n",
       "      <td>Who is Jack ma? context: Alibaba Group founder...</td>\n",
       "      <td>Alibaba Group founder</td>\n",
       "    </tr>\n",
       "    <tr>\n",
       "      <th>1</th>\n",
       "      <td>Who is founder of Alibaba Group? context: Alib...</td>\n",
       "      <td>Jack Ma</td>\n",
       "    </tr>\n",
       "    <tr>\n",
       "      <th>2</th>\n",
       "      <td>When did Jack Ma re-appear? context: Alibaba G...</td>\n",
       "      <td>Wednesday</td>\n",
       "    </tr>\n",
       "    <tr>\n",
       "      <th>3</th>\n",
       "      <td>How did Alibaba stocks react? context: Alibaba...</td>\n",
       "      <td>surged 5%</td>\n",
       "    </tr>\n",
       "    <tr>\n",
       "      <th>4</th>\n",
       "      <td>Whom did Jack Ma meet? context: Alibaba Group ...</td>\n",
       "      <td>100 rural teachers</td>\n",
       "    </tr>\n",
       "    <tr>\n",
       "      <th>5</th>\n",
       "      <td>Who did Jack Ma hide from? context: Alibaba Gr...</td>\n",
       "      <td>Chinese regulators</td>\n",
       "    </tr>\n",
       "  </tbody>\n",
       "</table>\n",
       "</div>"
      ],
      "text/plain": [
       "                                            document                     t5\n",
       "0  Who is Jack ma? context: Alibaba Group founder...  Alibaba Group founder\n",
       "1  Who is founder of Alibaba Group? context: Alib...                Jack Ma\n",
       "2  When did Jack Ma re-appear? context: Alibaba G...              Wednesday\n",
       "3  How did Alibaba stocks react? context: Alibaba...              surged 5%\n",
       "4  Whom did Jack Ma meet? context: Alibaba Group ...     100 rural teachers\n",
       "5  Who did Jack Ma hide from? context: Alibaba Gr...     Chinese regulators"
      ]
     },
     "execution_count": 9,
     "metadata": {},
     "output_type": "execute_result"
    }
   ],
   "source": [
    "t5_open_book.predict(questions)"
   ]
  },
  {
   "cell_type": "markdown",
   "metadata": {
    "id": "xJIuT3ZhOhoc",
    "pycharm": {
     "name": "#%% md\n"
    }
   },
   "source": [
    "# Multi Problem T5 model for Summarization and more\n",
    "The main T5 model was trained for over 20 tasks from the SQUAD/GLUE/SUPERGLUE datasets. See [this notebook](https://github.com/JohnSnowLabs/nlu/blob/master/examples/webinars_conferences_etc/multi_lingual_webinar/7_T5_SQUAD_GLUE_SUPER_GLUE_TASKS.ipynb) for a demo of all tasks \n",
    "\n",
    "\n",
    "# Overview of every task available with T5\n",
    "[The T5 model](https://arxiv.org/pdf/1910.10683.pdf) is trained on various datasets for 17 different tasks which fall into 8 categories.\n",
    "\n",
    "\n",
    "\n",
    "1. Text summarization\n",
    "2. Question answering\n",
    "3. Translation\n",
    "4. Sentiment analysis\n",
    "5. Natural Language inference\n",
    "6. Coreference resolution\n",
    "7. Sentence Completion\n",
    "8. Word sense disambiguation\n",
    "\n",
    "### Every T5 Task with explanation:\n",
    "|Task Name | Explanation | \n",
    "|----------|--------------|\n",
    "|[1.CoLA](https://nyu-mll.github.io/CoLA/)                   | Classify if a sentence is gramaticaly correct|\n",
    "|[2.RTE](https://dl.acm.org/doi/10.1007/11736790_9)                    | Classify whether if a statement can be deducted from a sentence|\n",
    "|[3.MNLI](https://arxiv.org/abs/1704.05426)                   | Classify for a hypothesis and premise whether they contradict or contradict each other or neither of both (3 class).|\n",
    "|[4.MRPC](https://www.aclweb.org/anthology/I05-5002.pdf)                   | Classify whether a pair of sentences is a re-phrasing of each other (semantically equivalent)|\n",
    "|[5.QNLI](https://arxiv.org/pdf/1804.07461.pdf)                   | Classify whether the answer to a question can be deducted from an answer candidate.|\n",
    "|[6.QQP](https://www.quora.com/q/quoradata/First-Quora-Dataset-Release-Question-Pairs)                    | Classify whether a pair of questions is a re-phrasing of each other (semantically equivalent)|\n",
    "|[7.SST2](https://www.aclweb.org/anthology/D13-1170.pdf)                   | Classify the sentiment of a sentence as positive or negative|\n",
    "|[8.STSB](https://www.aclweb.org/anthology/S17-2001/)                   | Classify the sentiment of a sentence on a scale from 1 to 5 (21 Sentiment classes)|\n",
    "|[9.CB](https://ojs.ub.uni-konstanz.de/sub/index.php/sub/article/view/601)                     | Classify for a premise and a hypothesis whether they contradict each other or not (binary).|\n",
    "|[10.COPA](https://www.aaai.org/ocs/index.php/SSS/SSS11/paper/view/2418/0)                   | Classify for a question, premise, and 2 choices which choice the correct choice is (binary).|\n",
    "|[11.MultiRc](https://www.aclweb.org/anthology/N18-1023.pdf)                | Classify for a question, a paragraph of text, and an answer candidate, if the answer is correct (binary),|\n",
    "|[12.WiC](https://arxiv.org/abs/1808.09121)                    | Classify for a pair of sentences and a disambigous word if the word has the same meaning in both sentences.|\n",
    "|[13.WSC/DPR](https://www.aaai.org/ocs/index.php/KR/KR12/paper/view/4492/0)       | Predict for an ambiguous pronoun in a sentence what it is referring to.  |\n",
    "|[14.Summarization](https://arxiv.org/abs/1506.03340)          | Summarize text into a shorter representation.|\n",
    "|[15.SQuAD](https://arxiv.org/abs/1606.05250)                  | Answer a question for a given context.|\n",
    "|[16.WMT1.](https://arxiv.org/abs/1706.03762)                  | Translate English to German|\n",
    "|[17.WMT2.](https://arxiv.org/abs/1706.03762)                   | Translate English to French|\n",
    "|[18.WMT3.](https://arxiv.org/abs/1706.03762)                   | Translate English to Romanian|\n",
    "\n"
   ]
  },
  {
   "cell_type": "code",
   "execution_count": 10,
   "metadata": {
    "colab": {
     "base_uri": "https://localhost:8080/"
    },
    "id": "XJw187r91QKN",
    "outputId": "3806cb5d-0710-46d7-a4bc-ebd8f04593f6",
    "pycharm": {
     "name": "#%%\n"
    }
   },
   "outputs": [
    {
     "name": "stdout",
     "output_type": "stream",
     "text": [
      "Warning::Spark Session already created, some configs may not take.\n",
      "Warning::Spark Session already created, some configs may not take.\n",
      "t5_base download started this may take some time.\n",
      "Approximate size to download 451.8 MB\n",
      "[OK!]\n"
     ]
    }
   ],
   "source": [
    "# Load the Multi Task Model T5\n",
    "t5_multi = nlu.load('en.t5.base')"
   ]
  },
  {
   "cell_type": "code",
   "execution_count": 11,
   "metadata": {
    "colab": {
     "base_uri": "https://localhost:8080/",
     "height": 81
    },
    "id": "_F6jE7IN1U-G",
    "outputId": "1abbbe5f-f074-42d7-dc11-39e6ef243297",
    "pycharm": {
     "name": "#%%\n"
    }
   },
   "outputs": [
    {
     "name": "stdout",
     "output_type": "stream",
     "text": [
      "Warning::Spark Session already created, some configs may not take.\n"
     ]
    },
    {
     "name": "stderr",
     "output_type": "stream",
     "text": [
      "                                                                                \r"
     ]
    },
    {
     "data": {
      "text/html": [
       "<div>\n",
       "<style scoped>\n",
       "    .dataframe tbody tr th:only-of-type {\n",
       "        vertical-align: middle;\n",
       "    }\n",
       "\n",
       "    .dataframe tbody tr th {\n",
       "        vertical-align: top;\n",
       "    }\n",
       "\n",
       "    .dataframe thead th {\n",
       "        text-align: right;\n",
       "    }\n",
       "</style>\n",
       "<table border=\"1\" class=\"dataframe\">\n",
       "  <thead>\n",
       "    <tr style=\"text-align: right;\">\n",
       "      <th></th>\n",
       "      <th>document</th>\n",
       "      <th>t5</th>\n",
       "    </tr>\n",
       "  </thead>\n",
       "  <tbody>\n",
       "    <tr>\n",
       "      <th>0</th>\n",
       "      <td>(Reuters) - Mastercard Inc said on Wednesday i...</td>\n",
       "      <td>mastercard said on Wednesday it was planning t...</td>\n",
       "    </tr>\n",
       "  </tbody>\n",
       "</table>\n",
       "</div>"
      ],
      "text/plain": [
       "                                            document  \\\n",
       "0  (Reuters) - Mastercard Inc said on Wednesday i...   \n",
       "\n",
       "                                                  t5  \n",
       "0  mastercard said on Wednesday it was planning t...  "
      ]
     },
     "execution_count": 11,
     "metadata": {},
     "output_type": "execute_result"
    }
   ],
   "source": [
    "# https://www.reuters.com/article/instant-article/idCAKBN2AA2WF\n",
    "text = \"\"\"(Reuters) - Mastercard Inc said on Wednesday it was planning to offer support for some cryptocurrencies on its network this year, joining a string of big-ticket firms that have pledged similar support.\n",
    "\n",
    "The credit-card giant’s announcement comes days after Elon Musk’s Tesla Inc revealed it had purchased $1.5 billion of bitcoin and would soon accept it as a form of payment.\n",
    "\n",
    "Asset manager BlackRock Inc and payments companies Square and PayPal have also recently backed cryptocurrencies.\n",
    "\n",
    "Mastercard already offers customers cards that allow people to transact using their cryptocurrencies, although without going through its network.\n",
    "\n",
    "\"Doing this work will create a lot more possibilities for shoppers and merchants, allowing them to transact in an entirely new form of payment. This change may open merchants up to new customers who are already flocking to digital assets,\" Mastercard said. (mstr.cd/3tLaPZM)\n",
    "\n",
    "Mastercard specified that not all cryptocurrencies will be supported on its network, adding that many of the hundreds of digital assets in circulation still need to tighten their compliance measures.\n",
    "\n",
    "Many cryptocurrencies have struggled to win the trust of mainstream investors and the general public due to their speculative nature and potential for money laundering.\n",
    "\"\"\"\n",
    "t5_multi['t5_transformer'].setTask('summarize ') \n",
    "short = t5_multi.predict(text)\n",
    "short"
   ]
  },
  {
   "cell_type": "code",
   "execution_count": 12,
   "metadata": {
    "colab": {
     "base_uri": "https://localhost:8080/"
    },
    "id": "1MtQlr_8PucN",
    "outputId": "b328d0a3-f3d5-463b-bd43-2860c01cc990",
    "pycharm": {
     "name": "#%%\n"
    }
   },
   "outputs": [
    {
     "name": "stdout",
     "output_type": "stream",
     "text": [
      "Original Length 1277   Summarized Length : 352 \n",
      " summarized text :mastercard said on Wednesday it was planning to offer support for some cryptocurrencies on its network this year . the credit-card giant’s announcement comes days after Elon Musk’s Tesla Inc revealed it had purchased $1.5 billion of bitcoin . asset manager blackrock and payments companies Square and PayPal have also recently backed cryptocurrencies . \n"
     ]
    }
   ],
   "source": [
    "print(f\"Original Length {len(short.document.iloc[0])}   Summarized Length : {len(short.t5.iloc[0])} \\n summarized text :{short.t5.iloc[0]} \")\n"
   ]
  },
  {
   "cell_type": "code",
   "execution_count": 13,
   "metadata": {
    "colab": {
     "base_uri": "https://localhost:8080/",
     "height": 53
    },
    "id": "ZqOJSkrWQQA9",
    "outputId": "468599f5-fbcd-4ad8-ee39-71fbad520ebd",
    "pycharm": {
     "name": "#%%\n"
    }
   },
   "outputs": [
    {
     "data": {
      "text/plain": [
       "'mastercard said on Wednesday it was planning to offer support for some cryptocurrencies on its network this year . the credit-card giant’s announcement comes days after Elon Musk’s Tesla Inc revealed it had purchased $1.5 billion of bitcoin . asset manager blackrock and payments companies Square and PayPal have also recently backed cryptocurrencies .'"
      ]
     },
     "execution_count": 13,
     "metadata": {},
     "output_type": "execute_result"
    }
   ],
   "source": [
    "short.t5.iloc[0]"
   ]
  },
  {
   "cell_type": "markdown",
   "metadata": {
    "id": "HGGNhniSYbfw",
    "pycharm": {
     "name": "#%% md\n"
    }
   },
   "source": [
    "# Fine Tuned T5 models\n",
    "NLU provides various fine tuned T5 models for a diverse set of tasks, ranging from generating SQL queries from natural language, style transfer and error correcting"
   ]
  },
  {
   "cell_type": "code",
   "execution_count": 14,
   "metadata": {
    "id": "jwHU1bdCShHA",
    "pycharm": {
     "name": "#%%\n"
    }
   },
   "outputs": [
    {
     "name": "stdout",
     "output_type": "stream",
     "text": [
      "Please restart kernel and clear up RAM\n"
     ]
    }
   ],
   "source": [
    "print(\"Please restart kernel and clear up RAM\")"
   ]
  },
  {
   "cell_type": "markdown",
   "metadata": {
    "id": "tfVKrjoWYHHf",
    "pycharm": {
     "name": "#%% md\n"
    }
   },
   "source": [
    "## T5 for generating SQL queries"
   ]
  },
  {
   "cell_type": "code",
   "execution_count": 4,
   "metadata": {
    "colab": {
     "base_uri": "https://localhost:8080/",
     "height": 133
    },
    "id": "tnsJHtj4WH78",
    "outputId": "2c1694ea-f9ce-4123-cefd-2b70fd5934e1",
    "pycharm": {
     "name": "#%%\n"
    },
    "scrolled": true
   },
   "outputs": [
    {
     "name": "stdout",
     "output_type": "stream",
     "text": [
      "Warning::Spark Session already created, some configs may not take.\n",
      "Warning::Spark Session already created, some configs may not take.\n",
      "t5_small_wikiSQL download started this may take some time.\n",
      "Approximate size to download 249.9 MB\n",
      "[OK!]\n",
      "Warning::Spark Session already created, some configs may not take.\n"
     ]
    },
    {
     "data": {
      "text/html": [
       "<div>\n",
       "<style scoped>\n",
       "    .dataframe tbody tr th:only-of-type {\n",
       "        vertical-align: middle;\n",
       "    }\n",
       "\n",
       "    .dataframe tbody tr th {\n",
       "        vertical-align: top;\n",
       "    }\n",
       "\n",
       "    .dataframe thead th {\n",
       "        text-align: right;\n",
       "    }\n",
       "</style>\n",
       "<table border=\"1\" class=\"dataframe\">\n",
       "  <thead>\n",
       "    <tr style=\"text-align: right;\">\n",
       "      <th></th>\n",
       "      <th>document</th>\n",
       "      <th>t5</th>\n",
       "    </tr>\n",
       "  </thead>\n",
       "  <tbody>\n",
       "    <tr>\n",
       "      <th>0</th>\n",
       "      <td>How many customers have ordered more than 2 it...</td>\n",
       "      <td>How many customers ordered &gt; 2 items</td>\n",
       "    </tr>\n",
       "  </tbody>\n",
       "</table>\n",
       "</div>"
      ],
      "text/plain": [
       "                                            document  \\\n",
       "0  How many customers have ordered more than 2 it...   \n",
       "\n",
       "                                     t5  \n",
       "0  How many customers ordered > 2 items  "
      ]
     },
     "execution_count": 4,
     "metadata": {},
     "output_type": "execute_result"
    }
   ],
   "source": [
    "# https://nlp.johnsnowlabs.com/2022/01/12/t5_small_wikiSQL_en.html \n",
    "import nlu \n",
    "nlu.load('t5.wikiSQL').predict('How many customers have ordered more than 2 items?')\n"
   ]
  },
  {
   "cell_type": "markdown",
   "metadata": {
    "id": "Wp9kEjdMX3Vt",
    "pycharm": {
     "name": "#%% md\n"
    }
   },
   "source": [
    "## T5 for text style transfer grammar correcting"
   ]
  },
  {
   "cell_type": "code",
   "execution_count": 2,
   "metadata": {
    "colab": {
     "base_uri": "https://localhost:8080/",
     "height": 133
    },
    "id": "O1wKQFXtVPSE",
    "outputId": "59feb83e-f627-41ea-ed90-6debc78de804",
    "pycharm": {
     "name": "#%%\n"
    }
   },
   "outputs": [
    {
     "name": "stdout",
     "output_type": "stream",
     "text": [
      "Warning::Spark Session already created, some configs may not take.\n",
      "Warning::Spark Session already created, some configs may not take.\n",
      "t5_active_to_passive_styletransfer download started this may take some time.\n",
      "Approximate size to download 252.7 MB\n",
      "[ | ]t5_active_to_passive_styletransfer download started this may take some time.\n",
      "Approximate size to download 252.7 MB\n",
      "[ — ]Download done! Loading the resource.\n",
      "[OK!]\n",
      "Warning::Spark Session already created, some configs may not take.\n"
     ]
    },
    {
     "data": {
      "text/html": [
       "<div>\n",
       "<style scoped>\n",
       "    .dataframe tbody tr th:only-of-type {\n",
       "        vertical-align: middle;\n",
       "    }\n",
       "\n",
       "    .dataframe tbody tr th {\n",
       "        vertical-align: top;\n",
       "    }\n",
       "\n",
       "    .dataframe thead th {\n",
       "        text-align: right;\n",
       "    }\n",
       "</style>\n",
       "<table border=\"1\" class=\"dataframe\">\n",
       "  <thead>\n",
       "    <tr style=\"text-align: right;\">\n",
       "      <th></th>\n",
       "      <th>document</th>\n",
       "      <th>t5</th>\n",
       "    </tr>\n",
       "  </thead>\n",
       "  <tbody>\n",
       "    <tr>\n",
       "      <th>0</th>\n",
       "      <td>I am writing you a letter.</td>\n",
       "      <td>a letter is written by me.</td>\n",
       "    </tr>\n",
       "  </tbody>\n",
       "</table>\n",
       "</div>"
      ],
      "text/plain": [
       "                     document                          t5\n",
       "0  I am writing you a letter.  a letter is written by me."
      ]
     },
     "execution_count": 2,
     "metadata": {},
     "output_type": "execute_result"
    }
   ],
   "source": [
    "# https://nlp.johnsnowlabs.com/2022/01/12/t5_active_to_passive_styletransfer_en.html\n",
    "nlu.load('t5.active_to_passive_styletransfer').predict('I am writing you a letter.')"
   ]
  },
  {
   "cell_type": "markdown",
   "metadata": {
    "id": "Sd_4hzC9hz8K",
    "pycharm": {
     "name": "#%% md\n"
    }
   },
   "source": [
    "**Make sure to restart your notebook again** before starting the next section"
   ]
  },
  {
   "cell_type": "code",
   "execution_count": 3,
   "metadata": {
    "id": "RQizVR2WhzTY",
    "pycharm": {
     "name": "#%%\n"
    }
   },
   "outputs": [
    {
     "name": "stdout",
     "output_type": "stream",
     "text": [
      "Please restart kernel and clear up RAM\n"
     ]
    }
   ],
   "source": [
    "print(\"Please restart kernel and clear up RAM\")"
   ]
  },
  {
   "cell_type": "markdown",
   "metadata": {
    "id": "ZM-J4TCAWuVn",
    "pycharm": {
     "name": "#%% md\n"
    }
   },
   "source": [
    "# Conditional Text Generation with GPT2\n",
    "- GPT2  is very capable of generating text, but introduces new engineering challenges, so called Prompt Engineering\n",
    "- The outputs of GPT2 depend on the text sequence we feed it in the beginning, the so called “Prompt”. Choosing the right prompt for your problem is the biggest challenge"
   ]
  },
  {
   "cell_type": "markdown",
   "metadata": {
    "id": "HZorvzSnYZmh",
    "pycharm": {
     "name": "#%% md\n"
    }
   },
   "source": [
    "## GPT2 with NLU\n",
    "\n"
   ]
  },
  {
   "cell_type": "code",
   "execution_count": 2,
   "metadata": {
    "colab": {
     "base_uri": "https://localhost:8080/"
    },
    "id": "fRNA18_eYax1",
    "outputId": "902673d4-0546-4cfe-b399-717965833827",
    "pycharm": {
     "name": "#%%\n"
    }
   },
   "outputs": [
    {
     "name": "stdout",
     "output_type": "stream",
     "text": [
      "Warning::Spark Session already created, some configs may not take.\n",
      "Warning::Spark Session already created, some configs may not take.\n",
      "gpt2 download started this may take some time.\n",
      "Approximate size to download 442.7 MB\n",
      "[OK!]\n",
      "The following parameters are configurable for this NLU pipeline (You can copy paste the examples) :\n",
      ">>> component_list['gpt2'] has settable params:\n",
      "component_list['gpt2'].setBatchSize(4)                         | Info: Size of every batch | Currently set to : 4\n",
      "component_list['gpt2'].setEngine('tensorflow')                 | Info: Deep Learning engine used for this model | Currently set to : tensorflow\n",
      "component_list['gpt2'].setIgnoreTokenIds([])                   | Info: A list of token ids which are ignored in the decoder's output | Currently set to : []\n",
      "component_list['gpt2'].setRepetitionPenalty(1.0)               | Info: The parameter for repetition penalty. 1.0 means no penalty. See `this paper <https://arxiv.org/pdf/1909.05858.pdf>`__ for more details | Currently set to : 1.0\n",
      "component_list['gpt2'].setTask('')                             | Info: Transformer's task, e.g. 'is it true that'> | Currently set to : \n",
      "component_list['gpt2'].setTemperature(1.0)                     | Info: The value used to module the next token probabilities | Currently set to : 1.0\n",
      "component_list['gpt2'].setTopP(1.0)                            | Info: If set to float < 1, only the most probable tokens with probabilities that add up to ``top_p`` or higher are kept for generation | Currently set to : 1.0\n",
      "component_list['gpt2'].setMinOutputLength(10)                  | Info: Minimum length of the sequence to be generated | Currently set to : 10\n",
      "component_list['gpt2'].setMaxOutputLength(50)                  | Info: Maximum length of output text | Currently set to : 50\n",
      "component_list['gpt2'].setDoSample(False)                      | Info: Whether or not to use sampling; use greedy decoding otherwise | Currently set to : False\n",
      "component_list['gpt2'].setTopK(50)                             | Info: The number of highest probability vocabulary tokens to keep for top-k-filtering | Currently set to : 50\n",
      "component_list['gpt2'].setNoRepeatNgramSize(3)                 | Info: If set to int > 0, all ngrams of that size can only occur once | Currently set to : 3\n",
      ">>> component_list['document_assembler'] has settable params:\n",
      "component_list['document_assembler'].setCleanupMode('shrink')  | Info: possible values: disabled, inplace, inplace_full, shrink, shrink_full, each, each_full, delete_full | Currently set to : shrink\n"
     ]
    }
   ],
   "source": [
    "import nlu\n",
    "gpt2_pipe = nlu.load('gpt2')\n",
    "gpt2_pipe.print_info()"
   ]
  },
  {
   "cell_type": "code",
   "execution_count": 3,
   "metadata": {
    "colab": {
     "base_uri": "https://localhost:8080/",
     "height": 53
    },
    "id": "aHh-KTvxibfG",
    "outputId": "61a9f562-a50f-4079-bb6f-87e7a7f89eee",
    "pycharm": {
     "name": "#%%\n"
    }
   },
   "outputs": [
    {
     "name": "stdout",
     "output_type": "stream",
     "text": [
      "Warning::Spark Session already created, some configs may not take.\n"
     ]
    },
    {
     "name": "stderr",
     "output_type": "stream",
     "text": [
      "                                                                                \r"
     ]
    },
    {
     "data": {
      "text/plain": [
       "' Explain the plot of Star Wars: The Last Jedi.\\n\\nThe plot of The Last Star Wars is a story about a young Jedi named Obi-Wan Kenobi, who is sent to the planet Tatooine to study the Force. He is sent there by the Jedi Order to study and learn the Force, but he is not able to do so due to his lack of training. He eventually learns that the Force is not real, and that he must learn to use it to his advantage.\\n.'"
      ]
     },
     "execution_count": 3,
     "metadata": {},
     "output_type": "execute_result"
    }
   ],
   "source": [
    "gpt2_pipe['gpt2'].setMaxOutputLength(100)\n",
    "gpt2_pipe.predict(\"\"\"Explain the plot of Star Wars\"\"\")['generated'].values[0]"
   ]
  },
  {
   "cell_type": "code",
   "execution_count": 4,
   "metadata": {
    "colab": {
     "base_uri": "https://localhost:8080/",
     "height": 53
    },
    "id": "gX5zbEgAgNhI",
    "outputId": "f81bd21b-4971-4e5b-c176-458a49e4a9e1",
    "pycharm": {
     "name": "#%%\n"
    }
   },
   "outputs": [
    {
     "name": "stderr",
     "output_type": "stream",
     "text": [
      "                                                                                \r"
     ]
    },
    {
     "data": {
      "text/plain": [
       "\" Suggest me a good Sci-Fi movie.\\n\\nI'm not sure if I'm going to be able to get a good movie out of this one. I'm not going to get it. I don't know if I'll be able. I just don't have the time. I can't get it out of my head. I have to get the movie out. I've got to get my hands on it.\\n.\\n (Laughs.)\\n\\n.\""
      ]
     },
     "execution_count": 4,
     "metadata": {},
     "output_type": "execute_result"
    }
   ],
   "source": [
    "# Bad prompting, the input text we condition GPT2 yields bad output, it does not understand the pattern we want from the original input\n",
    "gpt2_pipe.predict(\"Suggest me a good Sci-Fi movie\")['generated'].values[0]"
   ]
  },
  {
   "cell_type": "code",
   "execution_count": 5,
   "metadata": {
    "colab": {
     "base_uri": "https://localhost:8080/",
     "height": 53
    },
    "id": "YfeevpPUraHd",
    "outputId": "0759df0e-ded9-4fe7-9fee-642383ed2455",
    "pycharm": {
     "name": "#%%\n"
    }
   },
   "outputs": [
    {
     "name": "stderr",
     "output_type": "stream",
     "text": [
      "                                                                                \r"
     ]
    },
    {
     "data": {
      "text/plain": [
       "' Generate a top 10 movie list: 1.The Matrix 2.Terminator 3.The Hunger Games 4.The Dark Knight Rises 5.The Lord of the Rings 6.The Hobbit 7.The Last Crusade 8.The Lion King 9.The Lego Movie 10.The LEGO Movie 11.The King of the Hill 12.The Little Mermaid 13.The Princess Bride 14.The Pirates of the Caribbean 15.The Prince of Persia 16.The Return of the Jedi 17.The Star Wars'"
      ]
     },
     "execution_count": 5,
     "metadata": {},
     "output_type": "execute_result"
    }
   ],
   "source": [
    "# Good prompting. help GPT2 out and by giving it a few samples in the prompt we condition it on\n",
    "gpt2_pipe.predict(\"\"\"Generate a top 10 movie list: \\n\n",
    "1.The Matrix \\n\n",
    "2.Terminator \\n \n",
    "3. \"\"\")['generated'].values[0]"
   ]
  },
  {
   "cell_type": "markdown",
   "metadata": {
    "id": "amR1j1YljA2H",
    "pycharm": {
     "name": "#%% md\n"
    }
   },
   "source": [
    "**Make sure to restart your notebook again** before starting the next section"
   ]
  },
  {
   "cell_type": "code",
   "execution_count": 6,
   "metadata": {
    "id": "U5tQnqk8jA2I",
    "pycharm": {
     "name": "#%%\n"
    }
   },
   "outputs": [
    {
     "name": "stdout",
     "output_type": "stream",
     "text": [
      "Please restart kernel and clear up RAM\n"
     ]
    }
   ],
   "source": [
    "print(\"Please restart kernel and clear up RAM\")"
   ]
  },
  {
   "cell_type": "markdown",
   "metadata": {
    "id": "PDmjkRoHhrqn",
    "pycharm": {
     "name": "#%% md\n"
    }
   },
   "source": [
    "# Translate between more than 200 Languages with  [ Microsofts Marian Models](https://marian-nmt.github.io/publications/)\n",
    "\n",
    "Marian is an efficient, free Neural Machine Translation framework mainly being developed by the Microsoft Translator team (646+ pretrained models & pipelines in 192+ languages)\n",
    "You need to specify the language your data is in as `start_language` and the language you want to translate to as `target_language`.    \n",
    " The language references must be [ISO language codes](https://en.wikipedia.org/wiki/List_of_ISO_639-1_codes)\n",
    "\n",
    "`nlu.load('<start_language>.translate_to.<target_language>')`       \n",
    "\n",
    "**Translate Turkish to English:**     \n",
    "`nlu.load('tr.translate_to.en')`\n",
    "\n",
    "**Translate English to French:**     \n",
    "`nlu.load('en.translate_to.fr')`\n",
    "\n",
    "\n",
    "**Translate French to Hebrew:**     \n",
    "`nlu.load('fr.translate_to.he')`\n",
    "\n",
    "\n",
    "\n",
    "\n",
    "\n",
    "![Languages](https://camo.githubusercontent.com/b548abf3d1f9657d01fd74404354ec49fc11eea0/687474703a2f2f636b6c2d69742e64652f77702d636f6e74656e742f75706c6f6164732f323032312f30322f666c6167732e6a706567)"
   ]
  },
  {
   "cell_type": "code",
   "execution_count": 1,
   "metadata": {
    "colab": {
     "base_uri": "https://localhost:8080/"
    },
    "id": "AjiWgkvQwxBy",
    "outputId": "71f87d84-34cc-4f83-99b2-a9f08b9dc7ce",
    "pycharm": {
     "name": "#%%\n"
    }
   },
   "outputs": [],
   "source": [
    "import nlu\n",
    "import pandas as pd\n",
    "!wget -q https://raw.githubusercontent.com/JohnSnowLabs/spark-nlp-workshop/master/open-source-nlp/data/small_btc.csv \n",
    "df = pd.read_csv('./small_btc.csv').iloc[0:20].title"
   ]
  },
  {
   "cell_type": "markdown",
   "metadata": {
    "id": "Q_dx5jDkeaGO",
    "pycharm": {
     "name": "#%% md\n"
    }
   },
   "source": [
    "## Translate to German"
   ]
  },
  {
   "cell_type": "code",
   "execution_count": 4,
   "metadata": {
    "colab": {
     "base_uri": "https://localhost:8080/",
     "height": 760
    },
    "id": "_DrnIRUlXpM6",
    "outputId": "3426eab0-2a0d-4793-9b2a-8dcaf519ac00",
    "pycharm": {
     "name": "#%%\n"
    },
    "scrolled": true
   },
   "outputs": [
    {
     "name": "stdout",
     "output_type": "stream",
     "text": [
      "Warning::Spark Session already created, some configs may not take.\n",
      "Warning::Spark Session already created, some configs may not take.\n",
      "translate_en_de download started this may take some time.\n",
      "Approx size to download 268 MB\n",
      "[OK!]\n",
      "Warning::Spark Session already created, some configs may not take.\n"
     ]
    },
    {
     "name": "stderr",
     "output_type": "stream",
     "text": [
      "                                                                                \r"
     ]
    },
    {
     "data": {
      "text/html": [
       "<div>\n",
       "<style scoped>\n",
       "    .dataframe tbody tr th:only-of-type {\n",
       "        vertical-align: middle;\n",
       "    }\n",
       "\n",
       "    .dataframe tbody tr th {\n",
       "        vertical-align: top;\n",
       "    }\n",
       "\n",
       "    .dataframe thead th {\n",
       "        text-align: right;\n",
       "    }\n",
       "</style>\n",
       "<table border=\"1\" class=\"dataframe\">\n",
       "  <thead>\n",
       "    <tr style=\"text-align: right;\">\n",
       "      <th></th>\n",
       "      <th>sentence_dl</th>\n",
       "      <th>translated_translation</th>\n",
       "    </tr>\n",
       "  </thead>\n",
       "  <tbody>\n",
       "    <tr>\n",
       "      <th>0</th>\n",
       "      <td>IT3 USN East Coast Sailor Conservative #Savage...</td>\n",
       "      <td>IT3 USN Ostküste Sailor Konservative #SavageNa...</td>\n",
       "    </tr>\n",
       "    <tr>\n",
       "      <th>1</th>\n",
       "      <td>Master of financial economics, Wall Street int...</td>\n",
       "      <td>Master of Financial Economics, Wall Street Int...</td>\n",
       "    </tr>\n",
       "    <tr>\n",
       "      <th>1</th>\n",
       "      <td>WhatsApp:+85266180683</td>\n",
       "      <td>WhatsApp:+85266180683</td>\n",
       "    </tr>\n",
       "    <tr>\n",
       "      <th>2</th>\n",
       "      <td>Sometimes you're the bat and sometimes you're ...</td>\n",
       "      <td>Manchmal bist du der Schläger, manchmal bist d...</td>\n",
       "    </tr>\n",
       "    <tr>\n",
       "      <th>3</th>\n",
       "      <td>I am smarter than you, at least i think</td>\n",
       "      <td>Ich bin schlauer als du, zumindest denke ich, ...</td>\n",
       "    </tr>\n",
       "    <tr>\n",
       "      <th>4</th>\n",
       "      <td>Life's short, Live!</td>\n",
       "      <td>Das Leben ist kurz, Live!</td>\n",
       "    </tr>\n",
       "    <tr>\n",
       "      <th>4</th>\n",
       "      <td>I'm not a financial advisor.</td>\n",
       "      <td>Ich bin kein Finanzberater.</td>\n",
       "    </tr>\n",
       "    <tr>\n",
       "      <th>4</th>\n",
       "      <td>Trading penny stocks, SPACs, blue chips.</td>\n",
       "      <td>Penny Aktien, SPACs, blaue Chips handeln.</td>\n",
       "    </tr>\n",
       "    <tr>\n",
       "      <th>4</th>\n",
       "      <td>\\n#Bitcoin #Ethereum #SPAC #DEFI</td>\n",
       "      <td>#Bitcoin #Ethereum #SPAC #DEFI #DEUTE #DEUTE #...</td>\n",
       "    </tr>\n",
       "    <tr>\n",
       "      <th>5</th>\n",
       "      <td>Founder at @SOROOSHSCHOOL &amp; @SOROOSHPARDAZ | C...</td>\n",
       "      <td>Gründer bei @SOROOSHSCHOOL &amp; @SOROOSHPARDAZ® C...</td>\n",
       "    </tr>\n",
       "    <tr>\n",
       "      <th>6</th>\n",
       "      <td>Sup?</td>\n",
       "      <td>- Aufhören? - Ja, ja, ja, ja, ja, ja, ja, ja, ...</td>\n",
       "    </tr>\n",
       "    <tr>\n",
       "      <th>7</th>\n",
       "      <td>Was it polemically sent?</td>\n",
       "      <td>Wurde es polemisch geschickt?</td>\n",
       "    </tr>\n",
       "    <tr>\n",
       "      <th>7</th>\n",
       "      <td>IQ=$link ATH(WAS $19.83, $28.65-currently $36....</td>\n",
       "      <td>IQ=$link ATH (WAS $19,83, $28,65-currently $36...</td>\n",
       "    </tr>\n",
       "    <tr>\n",
       "      <th>7</th>\n",
       "      <td>Tenet Chad Them All Mang.</td>\n",
       "      <td>Tenet Chad, sie alle Mang.</td>\n",
       "    </tr>\n",
       "    <tr>\n",
       "      <th>8</th>\n",
       "      <td>30 years in this game.</td>\n",
       "      <td>30 Jahre in diesem Spiel.</td>\n",
       "    </tr>\n",
       "    <tr>\n",
       "      <th>8</th>\n",
       "      <td>Behavioral Strategist. Opinions expressed with...</td>\n",
       "      <td>Verhaltensstratege, Meinungen mit Hebelwirkung...</td>\n",
       "    </tr>\n",
       "    <tr>\n",
       "      <th>8</th>\n",
       "      <td>Trading is hard.</td>\n",
       "      <td>Trading ist schwer.</td>\n",
       "    </tr>\n",
       "    <tr>\n",
       "      <th>8</th>\n",
       "      <td>Stay Humble.</td>\n",
       "      <td>Bleibt Humble.</td>\n",
       "    </tr>\n",
       "    <tr>\n",
       "      <th>8</th>\n",
       "      <td>Mentor others.</td>\n",
       "      <td>Mentor andere.</td>\n",
       "    </tr>\n",
       "    <tr>\n",
       "      <th>8</th>\n",
       "      <td>\\n$ES $NQ $CL $RB $ZB $GC $HG $VX</td>\n",
       "      <td>$ES $NQ $CL $RB $ZB $GC $HG $VX $NQ $CL $RB $Z...</td>\n",
       "    </tr>\n",
       "    <tr>\n",
       "      <th>9</th>\n",
       "      <td>I am Ray.</td>\n",
       "      <td>Ich bin Ray.</td>\n",
       "    </tr>\n",
       "    <tr>\n",
       "      <th>9</th>\n",
       "      <td>A Family man, Engineer, Amateur Magician, Joke...</td>\n",
       "      <td>Ein Familienmann, Ingenieur, Amateur Magier, J...</td>\n",
       "    </tr>\n",
       "    <tr>\n",
       "      <th>9</th>\n",
       "      <td>Join me on Rumble!</td>\n",
       "      <td>Komm mit mir auf Rumble!</td>\n",
       "    </tr>\n",
       "    <tr>\n",
       "      <th>9</th>\n",
       "      <td>The next big thing.</td>\n",
       "      <td>Das nächste große Ding.</td>\n",
       "    </tr>\n",
       "    <tr>\n",
       "      <th>9</th>\n",
       "      <td>https://t.co/whaWgB7jEQ</td>\n",
       "      <td>Die Kommission hat die Kommission aufgefordert...</td>\n",
       "    </tr>\n",
       "    <tr>\n",
       "      <th>9</th>\n",
       "      <td>Please use \"ray1876\"</td>\n",
       "      <td>Bitte verwenden Sie \"ray1876\"</td>\n",
       "    </tr>\n",
       "    <tr>\n",
       "      <th>10</th>\n",
       "      <td>Passionate Investor.</td>\n",
       "      <td>Leidenschaftlicher Investor.</td>\n",
       "    </tr>\n",
       "    <tr>\n",
       "      <th>10</th>\n",
       "      <td>Air Traffic Controller.</td>\n",
       "      <td>Fluglotse.</td>\n",
       "    </tr>\n",
       "    <tr>\n",
       "      <th>10</th>\n",
       "      <td>Fan of Fitness &amp; Bad Puns.</td>\n",
       "      <td>Fan von Fitness &amp; Bad Puns.</td>\n",
       "    </tr>\n",
       "    <tr>\n",
       "      <th>11</th>\n",
       "      <td>https://t.co/vOMjCBJQVB</td>\n",
       "      <td>Die Kommission hat die Kommission aufgefordert...</td>\n",
       "    </tr>\n",
       "    <tr>\n",
       "      <th>12</th>\n",
       "      <td>Canadian venturing into the world of #daytrading</td>\n",
       "      <td>Kanadische Abenteuer in die Welt des #daytrading</td>\n",
       "    </tr>\n",
       "    <tr>\n",
       "      <th>13</th>\n",
       "      <td>Focus on market trends and high growth super s...</td>\n",
       "      <td>Fokus auf Markttrends und hohe Wachstums-Super...</td>\n",
       "    </tr>\n",
       "    <tr>\n",
       "      <th>13</th>\n",
       "      <td>Tweet things to make myself and others think o...</td>\n",
       "      <td>Tweet Dinge, um mich und andere denken aus dem...</td>\n",
       "    </tr>\n",
       "    <tr>\n",
       "      <th>13</th>\n",
       "      <td>Tweets are not investment advice.</td>\n",
       "      <td>Tweets sind keine Anlageberatung.</td>\n",
       "    </tr>\n",
       "    <tr>\n",
       "      <th>14</th>\n",
       "      <td>Night worker, father to two great kids, and ma...</td>\n",
       "      <td>Nachtarbeiter, Vater von zwei tollen Kindern, ...</td>\n",
       "    </tr>\n",
       "    <tr>\n",
       "      <th>15</th>\n",
       "      <td>Digital Artist. Only Accepting Crypto Payments.</td>\n",
       "      <td>Digital Artist. Nur akzeptieren Crypto Zahlungen.</td>\n",
       "    </tr>\n",
       "    <tr>\n",
       "      <th>15</th>\n",
       "      <td>Cash is useless.</td>\n",
       "      <td>Bargeld ist nutzlos.</td>\n",
       "    </tr>\n",
       "    <tr>\n",
       "      <th>15</th>\n",
       "      <td>Art sold Delivered in HD Quality.</td>\n",
       "      <td>Verkauft In HD Qualität geliefert.</td>\n",
       "    </tr>\n",
       "    <tr>\n",
       "      <th>16</th>\n",
       "      <td>Business Tabloid is print and an online news m...</td>\n",
       "      <td>Business Tabloid ist Print und ein Online-News...</td>\n",
       "    </tr>\n",
       "    <tr>\n",
       "      <th>17</th>\n",
       "      <td>Bringing awareness and technology to an increa...</td>\n",
       "      <td>Bewusstsein und Technologie auf einen zunehmen...</td>\n",
       "    </tr>\n",
       "    <tr>\n",
       "      <th>17</th>\n",
       "      <td>Clarity.</td>\n",
       "      <td>Klarheit.</td>\n",
       "    </tr>\n",
       "    <tr>\n",
       "      <th>17</th>\n",
       "      <td>Depth.</td>\n",
       "      <td>Tiefe.</td>\n",
       "    </tr>\n",
       "    <tr>\n",
       "      <th>17</th>\n",
       "      <td>Liquidity.</td>\n",
       "      <td>Liquidität.</td>\n",
       "    </tr>\n",
       "    <tr>\n",
       "      <th>18</th>\n",
       "      <td>Accurately analyze the market, provide accurat...</td>\n",
       "      <td>Genau analysieren Sie den Markt, liefern genau...</td>\n",
       "    </tr>\n",
       "    <tr>\n",
       "      <th>18</th>\n",
       "      <td>\\n(#XAUUSD ,#Bitcoin,#OIL,#ETH,).\\n\\nhttps://t...</td>\n",
       "      <td>(#XAUUSD,#Bitcoin,#OIL,#ETH,). https://t.co/i0...</td>\n",
       "    </tr>\n",
       "    <tr>\n",
       "      <th>19</th>\n",
       "      <td>#Dogecoin #AMP</td>\n",
       "      <td>#Hundecoin #AMP</td>\n",
       "    </tr>\n",
       "  </tbody>\n",
       "</table>\n",
       "</div>"
      ],
      "text/plain": [
       "                                          sentence_dl  \\\n",
       "0   IT3 USN East Coast Sailor Conservative #Savage...   \n",
       "1   Master of financial economics, Wall Street int...   \n",
       "1                               WhatsApp:+85266180683   \n",
       "2   Sometimes you're the bat and sometimes you're ...   \n",
       "3             I am smarter than you, at least i think   \n",
       "4                                 Life's short, Live!   \n",
       "4                        I'm not a financial advisor.   \n",
       "4            Trading penny stocks, SPACs, blue chips.   \n",
       "4                    \\n#Bitcoin #Ethereum #SPAC #DEFI   \n",
       "5   Founder at @SOROOSHSCHOOL & @SOROOSHPARDAZ | C...   \n",
       "6                                                Sup?   \n",
       "7                            Was it polemically sent?   \n",
       "7   IQ=$link ATH(WAS $19.83, $28.65-currently $36....   \n",
       "7                           Tenet Chad Them All Mang.   \n",
       "8                              30 years in this game.   \n",
       "8   Behavioral Strategist. Opinions expressed with...   \n",
       "8                                    Trading is hard.   \n",
       "8                                        Stay Humble.   \n",
       "8                                      Mentor others.   \n",
       "8                   \\n$ES $NQ $CL $RB $ZB $GC $HG $VX   \n",
       "9                                           I am Ray.   \n",
       "9   A Family man, Engineer, Amateur Magician, Joke...   \n",
       "9                                  Join me on Rumble!   \n",
       "9                                 The next big thing.   \n",
       "9                             https://t.co/whaWgB7jEQ   \n",
       "9                                Please use \"ray1876\"   \n",
       "10                               Passionate Investor.   \n",
       "10                            Air Traffic Controller.   \n",
       "10                         Fan of Fitness & Bad Puns.   \n",
       "11                            https://t.co/vOMjCBJQVB   \n",
       "12   Canadian venturing into the world of #daytrading   \n",
       "13  Focus on market trends and high growth super s...   \n",
       "13  Tweet things to make myself and others think o...   \n",
       "13                  Tweets are not investment advice.   \n",
       "14  Night worker, father to two great kids, and ma...   \n",
       "15    Digital Artist. Only Accepting Crypto Payments.   \n",
       "15                                   Cash is useless.   \n",
       "15                  Art sold Delivered in HD Quality.   \n",
       "16  Business Tabloid is print and an online news m...   \n",
       "17  Bringing awareness and technology to an increa...   \n",
       "17                                           Clarity.   \n",
       "17                                             Depth.   \n",
       "17                                         Liquidity.   \n",
       "18  Accurately analyze the market, provide accurat...   \n",
       "18  \\n(#XAUUSD ,#Bitcoin,#OIL,#ETH,).\\n\\nhttps://t...   \n",
       "19                                     #Dogecoin #AMP   \n",
       "\n",
       "                               translated_translation  \n",
       "0   IT3 USN Ostküste Sailor Konservative #SavageNa...  \n",
       "1   Master of Financial Economics, Wall Street Int...  \n",
       "1                               WhatsApp:+85266180683  \n",
       "2   Manchmal bist du der Schläger, manchmal bist d...  \n",
       "3   Ich bin schlauer als du, zumindest denke ich, ...  \n",
       "4                           Das Leben ist kurz, Live!  \n",
       "4                         Ich bin kein Finanzberater.  \n",
       "4           Penny Aktien, SPACs, blaue Chips handeln.  \n",
       "4   #Bitcoin #Ethereum #SPAC #DEFI #DEUTE #DEUTE #...  \n",
       "5   Gründer bei @SOROOSHSCHOOL & @SOROOSHPARDAZ® C...  \n",
       "6   - Aufhören? - Ja, ja, ja, ja, ja, ja, ja, ja, ...  \n",
       "7                       Wurde es polemisch geschickt?  \n",
       "7   IQ=$link ATH (WAS $19,83, $28,65-currently $36...  \n",
       "7                          Tenet Chad, sie alle Mang.  \n",
       "8                           30 Jahre in diesem Spiel.  \n",
       "8   Verhaltensstratege, Meinungen mit Hebelwirkung...  \n",
       "8                                 Trading ist schwer.  \n",
       "8                                      Bleibt Humble.  \n",
       "8                                      Mentor andere.  \n",
       "8   $ES $NQ $CL $RB $ZB $GC $HG $VX $NQ $CL $RB $Z...  \n",
       "9                                        Ich bin Ray.  \n",
       "9   Ein Familienmann, Ingenieur, Amateur Magier, J...  \n",
       "9                            Komm mit mir auf Rumble!  \n",
       "9                             Das nächste große Ding.  \n",
       "9   Die Kommission hat die Kommission aufgefordert...  \n",
       "9                       Bitte verwenden Sie \"ray1876\"  \n",
       "10                       Leidenschaftlicher Investor.  \n",
       "10                                         Fluglotse.  \n",
       "10                        Fan von Fitness & Bad Puns.  \n",
       "11  Die Kommission hat die Kommission aufgefordert...  \n",
       "12   Kanadische Abenteuer in die Welt des #daytrading  \n",
       "13  Fokus auf Markttrends und hohe Wachstums-Super...  \n",
       "13  Tweet Dinge, um mich und andere denken aus dem...  \n",
       "13                  Tweets sind keine Anlageberatung.  \n",
       "14  Nachtarbeiter, Vater von zwei tollen Kindern, ...  \n",
       "15  Digital Artist. Nur akzeptieren Crypto Zahlungen.  \n",
       "15                               Bargeld ist nutzlos.  \n",
       "15                 Verkauft In HD Qualität geliefert.  \n",
       "16  Business Tabloid ist Print und ein Online-News...  \n",
       "17  Bewusstsein und Technologie auf einen zunehmen...  \n",
       "17                                          Klarheit.  \n",
       "17                                             Tiefe.  \n",
       "17                                        Liquidität.  \n",
       "18  Genau analysieren Sie den Markt, liefern genau...  \n",
       "18  (#XAUUSD,#Bitcoin,#OIL,#ETH,). https://t.co/i0...  \n",
       "19                                    #Hundecoin #AMP  "
      ]
     },
     "execution_count": 4,
     "metadata": {},
     "output_type": "execute_result"
    }
   ],
   "source": [
    "translate_pipe = nlu.load('en.translate_to.de')\n",
    "translate_pipe.predict(df) "
   ]
  },
  {
   "cell_type": "markdown",
   "metadata": {
    "id": "9zyhBUxFeP6u",
    "pycharm": {
     "name": "#%% md\n"
    }
   },
   "source": [
    "## Translate to Chinese"
   ]
  },
  {
   "cell_type": "code",
   "execution_count": 3,
   "metadata": {
    "colab": {
     "base_uri": "https://localhost:8080/",
     "height": 760
    },
    "id": "B0Z3Ilt0eR3c",
    "outputId": "f7d982c6-5d3a-480b-8090-cb709ad262d1",
    "pycharm": {
     "name": "#%%\n"
    }
   },
   "outputs": [
    {
     "name": "stdout",
     "output_type": "stream",
     "text": [
      "Warning::Spark Session already created, some configs may not take.\n",
      "Warning::Spark Session already created, some configs may not take.\n",
      "translate_en_zh download started this may take some time.\n",
      "Approx size to download 280.9 MB\n",
      "[ | ]translate_en_zh download started this may take some time.\n",
      "Approximate size to download 280.9 MB\n",
      "[ / ]Download done! Loading the resource.\n",
      "[OK!]\n",
      "Warning::Spark Session already created, some configs may not take.\n"
     ]
    },
    {
     "name": "stderr",
     "output_type": "stream",
     "text": [
      "                                                                                \r"
     ]
    },
    {
     "data": {
      "text/html": [
       "<div>\n",
       "<style scoped>\n",
       "    .dataframe tbody tr th:only-of-type {\n",
       "        vertical-align: middle;\n",
       "    }\n",
       "\n",
       "    .dataframe tbody tr th {\n",
       "        vertical-align: top;\n",
       "    }\n",
       "\n",
       "    .dataframe thead th {\n",
       "        text-align: right;\n",
       "    }\n",
       "</style>\n",
       "<table border=\"1\" class=\"dataframe\">\n",
       "  <thead>\n",
       "    <tr style=\"text-align: right;\">\n",
       "      <th></th>\n",
       "      <th>sentence_dl</th>\n",
       "      <th>translated_translation</th>\n",
       "    </tr>\n",
       "  </thead>\n",
       "  <tbody>\n",
       "    <tr>\n",
       "      <th>0</th>\n",
       "      <td>IT3 USN East Coast Sailor Conservative #Savage...</td>\n",
       "      <td># 自由主义 自然 疾病 # 边境 语言 C . . . . . . . . . . . .</td>\n",
       "    </tr>\n",
       "    <tr>\n",
       "      <th>1</th>\n",
       "      <td>Master of financial economics, Wall Street int...</td>\n",
       "      <td>华尔街国际金融分析师, 全球外汇金融分析师 #XAU$ #Gold #silve 金融经济学...</td>\n",
       "    </tr>\n",
       "    <tr>\n",
       "      <th>1</th>\n",
       "      <td>WhatsApp:+85266180683</td>\n",
       "      <td>pp: +8526 26 1806 83 pp: + 8526 26 1806 83 pp:...</td>\n",
       "    </tr>\n",
       "    <tr>\n",
       "      <th>2</th>\n",
       "      <td>Sometimes you're the bat and sometimes you're ...</td>\n",
       "      <td>Τ琌 蝙蝠 Τ琌 瞴 . Τ琌 瞴 . . . . . . . .</td>\n",
       "    </tr>\n",
       "    <tr>\n",
       "      <th>3</th>\n",
       "      <td>I am smarter than you, at least i think</td>\n",
       "      <td>我比你聪明,至少我 认为你比你聪明,至少我 认为,我比你聪明,至少我 ,我比你,我至少,我 ...</td>\n",
       "    </tr>\n",
       "    <tr>\n",
       "      <th>4</th>\n",
       "      <td>Life's short, Live!</td>\n",
       "      <td>生命是短暂的 生命 生命 生命 {\\fnDidactic -Reed\\fs14\\1cH00F...</td>\n",
       "    </tr>\n",
       "    <tr>\n",
       "      <th>4</th>\n",
       "      <td>I'm not a financial advisor.</td>\n",
       "      <td>- 我又不是金融顾问 - 财务顾问 - I'm not an ficial advisor....</td>\n",
       "    </tr>\n",
       "    <tr>\n",
       "      <th>4</th>\n",
       "      <td>Trading penny stocks, SPACs, blue chips.</td>\n",
       "      <td>买卖 便士 股票 SPAC 蓝筹码 蓝筹码 黑筹码 黑筹码 黑筹码 黑筹码 黑筹码 黑</td>\n",
       "    </tr>\n",
       "    <tr>\n",
       "      <th>4</th>\n",
       "      <td>\\n#Bitcoin #Ethereum #SPAC #DEFI</td>\n",
       "      <td>{\\fn方正黑体简体\\fs18\\b1\\bord1\\shad1\\3cH2F2F2F {\\fn方...</td>\n",
       "    </tr>\n",
       "    <tr>\n",
       "      <th>5</th>\n",
       "      <td>Founder at @SOROOSHSCHOOL &amp; @SOROOSHPARDAZ | C...</td>\n",
       "      <td>创 创 家 , https://t. co/veZ06J , 网址 : @SOROOSHPA...</td>\n",
       "    </tr>\n",
       "    <tr>\n",
       "      <th>6</th>\n",
       "      <td>Sup?</td>\n",
       "      <td>苏 苏 苏 苏 苏 苏 苏 苏 苏 苏 苏 苏 苏 苏 苏 苏 苏 苏 苏 苏</td>\n",
       "    </tr>\n",
       "    <tr>\n",
       "      <th>7</th>\n",
       "      <td>Was it polemically sent?</td>\n",
       "      <td>是否是 争议发送 ? 。 。 。 。 。 。 。 。 。 。 。 。 。 。 。 。</td>\n",
       "    </tr>\n",
       "    <tr>\n",
       "      <th>7</th>\n",
       "      <td>IQ=$link ATH(WAS $19.83, $28.65-currently $36....</td>\n",
       "      <td>I$ ITH (WAS 19.83, 28.65 - 现为 36.92 美元 ) 数据 经济...</td>\n",
       "    </tr>\n",
       "    <tr>\n",
       "      <th>7</th>\n",
       "      <td>Tenet Chad Them All Mang.</td>\n",
       "      <td>特尼特 查德 蒙 满 芒 . . . . . . . . . . . . .</td>\n",
       "    </tr>\n",
       "    <tr>\n",
       "      <th>8</th>\n",
       "      <td>30 years in this game.</td>\n",
       "      <td>30 年 , 30 年 , , , , , , , , , , , , , , ,</td>\n",
       "    </tr>\n",
       "    <tr>\n",
       "      <th>8</th>\n",
       "      <td>Behavioral Strategist. Opinions expressed with...</td>\n",
       "      <td>行为战略家 运用杠杆 表达的观点 , , , , , , , , , , , , , , ,</td>\n",
       "    </tr>\n",
       "    <tr>\n",
       "      <th>8</th>\n",
       "      <td>Trading is hard.</td>\n",
       "      <td>交易是艰难的。 . . . . . . . . . . . . . . . . .</td>\n",
       "    </tr>\n",
       "    <tr>\n",
       "      <th>8</th>\n",
       "      <td>Stay Humble.</td>\n",
       "      <td>保持 虚张声势 . . . . . . . . . . . . . . . .</td>\n",
       "    </tr>\n",
       "    <tr>\n",
       "      <th>8</th>\n",
       "      <td>Mentor others.</td>\n",
       "      <td>指导他人 , 指导他人 , , 指导 , 指导 , 指导 , 指导 , 指导 , 指导 , ...</td>\n",
       "    </tr>\n",
       "    <tr>\n",
       "      <th>8</th>\n",
       "      <td>\\n$ES $NQ $CL $RB $ZB $GC $HG $VX</td>\n",
       "      <td>美元 美元 美元 美元 美元 美元 美元 美元 美元 美元 美元 GC 美元 美元 美元 美...</td>\n",
       "    </tr>\n",
       "    <tr>\n",
       "      <th>9</th>\n",
       "      <td>I am Ray.</td>\n",
       "      <td>- 我,我叫雷 - 莱 - I am Ray. - I am Ray. - I am Ray...</td>\n",
       "    </tr>\n",
       "    <tr>\n",
       "      <th>9</th>\n",
       "      <td>A Family man, Engineer, Amateur Magician, Joke...</td>\n",
       "      <td>家庭 工程师 业余魔术师 小丑 小丑 家庭 工程师 业余 魔术师 小丑 小丑 {\\cHFFF...</td>\n",
       "    </tr>\n",
       "    <tr>\n",
       "      <th>9</th>\n",
       "      <td>Join me on Rumble!</td>\n",
       "      <td>加入我 兰博 加入我 加入我 加入我 兰博 加入我 加入我 加入我 兰博 加入我 加入我 加入我</td>\n",
       "    </tr>\n",
       "    <tr>\n",
       "      <th>9</th>\n",
       "      <td>The next big thing.</td>\n",
       "      <td>下一个大事情 {\\fn黑体\\fs22\\bord1\\shad0\\3aHBE\\4aH00\\fsc...</td>\n",
       "    </tr>\n",
       "    <tr>\n",
       "      <th>9</th>\n",
       "      <td>https://t.co/whaWgB7jEQ</td>\n",
       "      <td>http://t. co/whaWgB7jEQ https://t.co/whaWgB7jE...</td>\n",
       "    </tr>\n",
       "    <tr>\n",
       "      <th>9</th>\n",
       "      <td>Please use \"ray1876\"</td>\n",
       "      <td>使用 ray 1876 , 使用 ray 1876 , 等 。 Name Name Name...</td>\n",
       "    </tr>\n",
       "    <tr>\n",
       "      <th>10</th>\n",
       "      <td>Passionate Investor.</td>\n",
       "      <td>激情投资者 激情投资者 {\\3cH202020}Help - - - - - - - - -...</td>\n",
       "    </tr>\n",
       "    <tr>\n",
       "      <th>10</th>\n",
       "      <td>Air Traffic Controller.</td>\n",
       "      <td>空中交通管制长 空中交通管制长 空中交通管制长 空中交通管制长 空中交通管制长 空中交通管制...</td>\n",
       "    </tr>\n",
       "    <tr>\n",
       "      <th>10</th>\n",
       "      <td>Fan of Fitness &amp; Bad Puns.</td>\n",
       "      <td>健康 和 坏 的 双 关 。 Name , un la la la la la la la ...</td>\n",
       "    </tr>\n",
       "    <tr>\n",
       "      <th>11</th>\n",
       "      <td>https://t.co/vOMjCBJQVB</td>\n",
       "      <td>http://t.co/vOMjCBJQVB https://t.co/ vOMJCBJQV...</td>\n",
       "    </tr>\n",
       "    <tr>\n",
       "      <th>12</th>\n",
       "      <td>Canadian venturing into the world of #daytrading</td>\n",
       "      <td>前往 # 日间交易 的世界 . . . . . . . . . . . . . . .</td>\n",
       "    </tr>\n",
       "    <tr>\n",
       "      <th>13</th>\n",
       "      <td>Focus on market trends and high growth super s...</td>\n",
       "      <td>重点是市场趋势和高增长超级股票。 。 . . . . . . . . . . . . . .</td>\n",
       "    </tr>\n",
       "    <tr>\n",
       "      <th>13</th>\n",
       "      <td>Tweet things to make myself and others think o...</td>\n",
       "      <td>做点事情 使我和其他人 思考出 盒子。 。 。 。 。 。 。 。 。 。 。 。 。 。</td>\n",
       "    </tr>\n",
       "    <tr>\n",
       "      <th>13</th>\n",
       "      <td>Tweets are not investment advice.</td>\n",
       "      <td>特惠不是投资咨询 - 投资 - 投资 - - 投资 - - - 投资 - - - 投资 - ...</td>\n",
       "    </tr>\n",
       "    <tr>\n",
       "      <th>14</th>\n",
       "      <td>Night worker, father to two great kids, and ma...</td>\n",
       "      <td>做夜班 生了两个大孩子 娶了世界上最棒的女人 ! ! ! ! ! ! ! ! ! ! ! !</td>\n",
       "    </tr>\n",
       "    <tr>\n",
       "      <th>15</th>\n",
       "      <td>Digital Artist. Only Accepting Crypto Payments.</td>\n",
       "      <td>数字艺术家 , 仅接受加密付款 。 Name - disk artist. - 仅接受加密付...</td>\n",
       "    </tr>\n",
       "    <tr>\n",
       "      <th>15</th>\n",
       "      <td>Cash is useless.</td>\n",
       "      <td>现金是没用的 现金 现金 现金 现金 现金 现金 现金 现金 现金 现金 现金 现金 现金 ...</td>\n",
       "    </tr>\n",
       "    <tr>\n",
       "      <th>15</th>\n",
       "      <td>Art sold Delivered in HD Quality.</td>\n",
       "      <td>以高原质量交付的艺术品 销售 , , , , , , , , , , , , , , ,</td>\n",
       "    </tr>\n",
       "    <tr>\n",
       "      <th>16</th>\n",
       "      <td>Business Tabloid is print and an online news m...</td>\n",
       "      <td>商业小报是印刷品, 是为当代快节奏的一代 制作的在线新闻杂志 。 校对:Soup - New...</td>\n",
       "    </tr>\n",
       "    <tr>\n",
       "      <th>17</th>\n",
       "      <td>Bringing awareness and technology to an increa...</td>\n",
       "      <td>将意识和技术带到 日益复杂的Forex 市场 。 。 。 。 。 。 。 。 。 。 。 。 。</td>\n",
       "    </tr>\n",
       "    <tr>\n",
       "      <th>17</th>\n",
       "      <td>Clarity.</td>\n",
       "      <td>清晰 清晰 清晰 清晰 清晰 清晰 清晰 清晰 清晰 清晰 清晰 清晰 清晰 清晰 清晰 清...</td>\n",
       "    </tr>\n",
       "    <tr>\n",
       "      <th>17</th>\n",
       "      <td>Depth.</td>\n",
       "      <td>深度 深度 深度 深度 深度 深度 深度 深度 深度 深度 深度 深度 深度 深度 深度 深...</td>\n",
       "    </tr>\n",
       "    <tr>\n",
       "      <th>17</th>\n",
       "      <td>Liquidity.</td>\n",
       "      <td>流动性。 流动资金。 周转资金。 周转资金。 流动性。 流动性。 流动性。 流动性。 流动性...</td>\n",
       "    </tr>\n",
       "    <tr>\n",
       "      <th>18</th>\n",
       "      <td>Accurately analyze the market, provide accurat...</td>\n",
       "      <td>准确分析市场 提供准确的交易信号 准确的 交易信号 准确的 市场 准确 准确 准确 的 交易...</td>\n",
       "    </tr>\n",
       "    <tr>\n",
       "      <th>18</th>\n",
       "      <td>\\n(#XAUUSD ,#Bitcoin,#OIL,#ETH,).\\n\\nhttps://t...</td>\n",
       "      <td>https://t. co/i0W5woRy7r , https://t. co/i0W5w...</td>\n",
       "    </tr>\n",
       "    <tr>\n",
       "      <th>19</th>\n",
       "      <td>#Dogecoin #AMP</td>\n",
       "      <td>{\\fn方正粗倩简体\\fs12\\an8\\1cHFFFF00\\b0} - {\\fn方正粗倩简体...</td>\n",
       "    </tr>\n",
       "  </tbody>\n",
       "</table>\n",
       "</div>"
      ],
      "text/plain": [
       "                                          sentence_dl  \\\n",
       "0   IT3 USN East Coast Sailor Conservative #Savage...   \n",
       "1   Master of financial economics, Wall Street int...   \n",
       "1                               WhatsApp:+85266180683   \n",
       "2   Sometimes you're the bat and sometimes you're ...   \n",
       "3             I am smarter than you, at least i think   \n",
       "4                                 Life's short, Live!   \n",
       "4                        I'm not a financial advisor.   \n",
       "4            Trading penny stocks, SPACs, blue chips.   \n",
       "4                    \\n#Bitcoin #Ethereum #SPAC #DEFI   \n",
       "5   Founder at @SOROOSHSCHOOL & @SOROOSHPARDAZ | C...   \n",
       "6                                                Sup?   \n",
       "7                            Was it polemically sent?   \n",
       "7   IQ=$link ATH(WAS $19.83, $28.65-currently $36....   \n",
       "7                           Tenet Chad Them All Mang.   \n",
       "8                              30 years in this game.   \n",
       "8   Behavioral Strategist. Opinions expressed with...   \n",
       "8                                    Trading is hard.   \n",
       "8                                        Stay Humble.   \n",
       "8                                      Mentor others.   \n",
       "8                   \\n$ES $NQ $CL $RB $ZB $GC $HG $VX   \n",
       "9                                           I am Ray.   \n",
       "9   A Family man, Engineer, Amateur Magician, Joke...   \n",
       "9                                  Join me on Rumble!   \n",
       "9                                 The next big thing.   \n",
       "9                             https://t.co/whaWgB7jEQ   \n",
       "9                                Please use \"ray1876\"   \n",
       "10                               Passionate Investor.   \n",
       "10                            Air Traffic Controller.   \n",
       "10                         Fan of Fitness & Bad Puns.   \n",
       "11                            https://t.co/vOMjCBJQVB   \n",
       "12   Canadian venturing into the world of #daytrading   \n",
       "13  Focus on market trends and high growth super s...   \n",
       "13  Tweet things to make myself and others think o...   \n",
       "13                  Tweets are not investment advice.   \n",
       "14  Night worker, father to two great kids, and ma...   \n",
       "15    Digital Artist. Only Accepting Crypto Payments.   \n",
       "15                                   Cash is useless.   \n",
       "15                  Art sold Delivered in HD Quality.   \n",
       "16  Business Tabloid is print and an online news m...   \n",
       "17  Bringing awareness and technology to an increa...   \n",
       "17                                           Clarity.   \n",
       "17                                             Depth.   \n",
       "17                                         Liquidity.   \n",
       "18  Accurately analyze the market, provide accurat...   \n",
       "18  \\n(#XAUUSD ,#Bitcoin,#OIL,#ETH,).\\n\\nhttps://t...   \n",
       "19                                     #Dogecoin #AMP   \n",
       "\n",
       "                               translated_translation  \n",
       "0     # 自由主义 自然 疾病 # 边境 语言 C . . . . . . . . . . . .   \n",
       "1   华尔街国际金融分析师, 全球外汇金融分析师 #XAU$ #Gold #silve 金融经济学...  \n",
       "1   pp: +8526 26 1806 83 pp: + 8526 26 1806 83 pp:...  \n",
       "2            Τ琌 蝙蝠 Τ琌 瞴 . Τ琌 瞴 . . . . . . . .   \n",
       "3   我比你聪明,至少我 认为你比你聪明,至少我 认为,我比你聪明,至少我 ,我比你,我至少,我 ...  \n",
       "4   生命是短暂的 生命 生命 生命 {\\fnDidactic -Reed\\fs14\\1cH00F...  \n",
       "4   - 我又不是金融顾问 - 财务顾问 - I'm not an ficial advisor....  \n",
       "4         买卖 便士 股票 SPAC 蓝筹码 蓝筹码 黑筹码 黑筹码 黑筹码 黑筹码 黑筹码 黑  \n",
       "4   {\\fn方正黑体简体\\fs18\\b1\\bord1\\shad1\\3cH2F2F2F {\\fn方...  \n",
       "5   创 创 家 , https://t. co/veZ06J , 网址 : @SOROOSHPA...  \n",
       "6             苏 苏 苏 苏 苏 苏 苏 苏 苏 苏 苏 苏 苏 苏 苏 苏 苏 苏 苏 苏  \n",
       "7          是否是 争议发送 ? 。 。 。 。 。 。 。 。 。 。 。 。 。 。 。 。  \n",
       "7   I$ ITH (WAS 19.83, 28.65 - 现为 36.92 美元 ) 数据 经济...  \n",
       "7             特尼特 查德 蒙 满 芒 . . . . . . . . . . . . .   \n",
       "8           30 年 , 30 年 , , , , , , , , , , , , , , ,  \n",
       "8      行为战略家 运用杠杆 表达的观点 , , , , , , , , , , , , , , ,  \n",
       "8           交易是艰难的。 . . . . . . . . . . . . . . . . .  \n",
       "8            保持 虚张声势 . . . . . . . . . . . . . . . .   \n",
       "8   指导他人 , 指导他人 , , 指导 , 指导 , 指导 , 指导 , 指导 , 指导 , ...  \n",
       "8   美元 美元 美元 美元 美元 美元 美元 美元 美元 美元 美元 GC 美元 美元 美元 美...  \n",
       "9   - 我,我叫雷 - 莱 - I am Ray. - I am Ray. - I am Ray...  \n",
       "9   家庭 工程师 业余魔术师 小丑 小丑 家庭 工程师 业余 魔术师 小丑 小丑 {\\cHFFF...  \n",
       "9   加入我 兰博 加入我 加入我 加入我 兰博 加入我 加入我 加入我 兰博 加入我 加入我 加入我   \n",
       "9   下一个大事情 {\\fn黑体\\fs22\\bord1\\shad0\\3aHBE\\4aH00\\fsc...  \n",
       "9   http://t. co/whaWgB7jEQ https://t.co/whaWgB7jE...  \n",
       "9   使用 ray 1876 , 使用 ray 1876 , 等 。 Name Name Name...  \n",
       "10  激情投资者 激情投资者 {\\3cH202020}Help - - - - - - - - -...  \n",
       "10  空中交通管制长 空中交通管制长 空中交通管制长 空中交通管制长 空中交通管制长 空中交通管制...  \n",
       "10  健康 和 坏 的 双 关 。 Name , un la la la la la la la ...  \n",
       "11  http://t.co/vOMjCBJQVB https://t.co/ vOMJCBJQV...  \n",
       "12       前往 # 日间交易 的世界 . . . . . . . . . . . . . . .   \n",
       "13    重点是市场趋势和高增长超级股票。 。 . . . . . . . . . . . . . .   \n",
       "13      做点事情 使我和其他人 思考出 盒子。 。 。 。 。 。 。 。 。 。 。 。 。 。  \n",
       "13  特惠不是投资咨询 - 投资 - 投资 - - 投资 - - - 投资 - - - 投资 - ...  \n",
       "14    做夜班 生了两个大孩子 娶了世界上最棒的女人 ! ! ! ! ! ! ! ! ! ! ! !   \n",
       "15  数字艺术家 , 仅接受加密付款 。 Name - disk artist. - 仅接受加密付...  \n",
       "15  现金是没用的 现金 现金 现金 现金 现金 现金 现金 现金 现金 现金 现金 现金 现金 ...  \n",
       "15       以高原质量交付的艺术品 销售 , , , , , , , , , , , , , , ,  \n",
       "16  商业小报是印刷品, 是为当代快节奏的一代 制作的在线新闻杂志 。 校对:Soup - New...  \n",
       "17  将意识和技术带到 日益复杂的Forex 市场 。 。 。 。 。 。 。 。 。 。 。 。 。   \n",
       "17  清晰 清晰 清晰 清晰 清晰 清晰 清晰 清晰 清晰 清晰 清晰 清晰 清晰 清晰 清晰 清...  \n",
       "17  深度 深度 深度 深度 深度 深度 深度 深度 深度 深度 深度 深度 深度 深度 深度 深...  \n",
       "17  流动性。 流动资金。 周转资金。 周转资金。 流动性。 流动性。 流动性。 流动性。 流动性...  \n",
       "18  准确分析市场 提供准确的交易信号 准确的 交易信号 准确的 市场 准确 准确 准确 的 交易...  \n",
       "18  https://t. co/i0W5woRy7r , https://t. co/i0W5w...  \n",
       "19  {\\fn方正粗倩简体\\fs12\\an8\\1cHFFFF00\\b0} - {\\fn方正粗倩简体...  "
      ]
     },
     "execution_count": 3,
     "metadata": {},
     "output_type": "execute_result"
    }
   ],
   "source": [
    "translate_pipe = nlu.load('en.translate_to.zh')\n",
    "translate_pipe.predict(df)"
   ]
  },
  {
   "cell_type": "markdown",
   "metadata": {
    "id": "SbE1KJQgeTiB",
    "pycharm": {
     "name": "#%% md\n"
    }
   },
   "source": [
    "## Translate to Hindi"
   ]
  },
  {
   "cell_type": "code",
   "execution_count": 5,
   "metadata": {
    "colab": {
     "base_uri": "https://localhost:8080/",
     "height": 760
    },
    "id": "x5M32IvMWYZq",
    "outputId": "6930be0c-e170-4f1d-e906-317f84d2492c",
    "pycharm": {
     "name": "#%%\n"
    }
   },
   "outputs": [
    {
     "name": "stdout",
     "output_type": "stream",
     "text": [
      "Warning::Spark Session already created, some configs may not take.\n",
      "Warning::Spark Session already created, some configs may not take.\n",
      "translate_en_hi download started this may take some time.\n",
      "Approx size to download 275.1 MB\n",
      "[ | ]translate_en_hi download started this may take some time.\n",
      "Approximate size to download 275.1 MB\n",
      "[ / ]Download done! Loading the resource.\n",
      "[OK!]\n",
      "Warning::Spark Session already created, some configs may not take.\n"
     ]
    },
    {
     "name": "stderr",
     "output_type": "stream",
     "text": [
      "24/02/13 11:09:37 WARN DAGScheduler: Broadcasting large task binary with size 1221.4 KiB\n",
      "                                                                                \r"
     ]
    },
    {
     "data": {
      "text/html": [
       "<div>\n",
       "<style scoped>\n",
       "    .dataframe tbody tr th:only-of-type {\n",
       "        vertical-align: middle;\n",
       "    }\n",
       "\n",
       "    .dataframe tbody tr th {\n",
       "        vertical-align: top;\n",
       "    }\n",
       "\n",
       "    .dataframe thead th {\n",
       "        text-align: right;\n",
       "    }\n",
       "</style>\n",
       "<table border=\"1\" class=\"dataframe\">\n",
       "  <thead>\n",
       "    <tr style=\"text-align: right;\">\n",
       "      <th></th>\n",
       "      <th>sentence_dl</th>\n",
       "      <th>translated_translation</th>\n",
       "    </tr>\n",
       "  </thead>\n",
       "  <tbody>\n",
       "    <tr>\n",
       "      <th>0</th>\n",
       "      <td>IT3 USN East Coast Sailor Conservative #Savage...</td>\n",
       "      <td>IT3 अमरीकी पूर्वी कोस्ट कोस्टेंटेन # svavation...</td>\n",
       "    </tr>\n",
       "    <tr>\n",
       "      <th>1</th>\n",
       "      <td>Master of financial economics, Wall Street int...</td>\n",
       "      <td>आर्थिक आर्थिक धन के मालिक, दीवार स्ट्रीट अंतर्...</td>\n",
       "    </tr>\n",
       "    <tr>\n",
       "      <th>1</th>\n",
       "      <td>WhatsApp:+85266180683</td>\n",
       "      <td>क्या कॉन्फ़:+85266683</td>\n",
       "    </tr>\n",
       "    <tr>\n",
       "      <th>2</th>\n",
       "      <td>Sometimes you're the bat and sometimes you're ...</td>\n",
       "      <td>कभी कभी आप बल्ला कर रहे हैं और कभी कभी आप गेंद...</td>\n",
       "    </tr>\n",
       "    <tr>\n",
       "      <th>3</th>\n",
       "      <td>I am smarter than you, at least i think</td>\n",
       "      <td>मैं आप से स्मार्ट हूँ, कम से कम मुझे लगता है</td>\n",
       "    </tr>\n",
       "    <tr>\n",
       "      <th>4</th>\n",
       "      <td>Life's short, Live!</td>\n",
       "      <td>जीवन छोटा है, जीवित!</td>\n",
       "    </tr>\n",
       "    <tr>\n",
       "      <th>4</th>\n",
       "      <td>I'm not a financial advisor.</td>\n",
       "      <td>मैं एक वित्तीय सलाहकार नहीं हूँ.</td>\n",
       "    </tr>\n",
       "    <tr>\n",
       "      <th>4</th>\n",
       "      <td>Trading penny stocks, SPACs, blue chips.</td>\n",
       "      <td>पैसा जमा करना, सीपीसी, नीले चिप ।</td>\n",
       "    </tr>\n",
       "    <tr>\n",
       "      <th>4</th>\n",
       "      <td>\\n#Bitcoin #Ethereum #SPAC #DEFI</td>\n",
       "      <td># ब्लॉइन # sPC # DEFI</td>\n",
       "    </tr>\n",
       "    <tr>\n",
       "      <th>5</th>\n",
       "      <td>Founder at @SOROOSHSCHOOL &amp; @SOROOSHPARDAZ | C...</td>\n",
       "      <td>मिला</td>\n",
       "    </tr>\n",
       "    <tr>\n",
       "      <th>6</th>\n",
       "      <td>Sup?</td>\n",
       "      <td>एस.</td>\n",
       "    </tr>\n",
       "    <tr>\n",
       "      <th>7</th>\n",
       "      <td>Was it polemically sent?</td>\n",
       "      <td>क्या यह अति भयानक रूप से भेजा गया था?</td>\n",
       "    </tr>\n",
       "    <tr>\n",
       "      <th>7</th>\n",
       "      <td>IQ=$link ATH(WAS $19.83, $28.65-currently $36....</td>\n",
       "      <td>IQQD=$लिंक ARTH (WAS3, $28.65- 0. 65- 0.92) डा...</td>\n",
       "    </tr>\n",
       "    <tr>\n",
       "      <th>7</th>\n",
       "      <td>Tenet Chad Them All Mang.</td>\n",
       "      <td>दसेट उन्हें सभी मैनग.</td>\n",
       "    </tr>\n",
       "    <tr>\n",
       "      <th>8</th>\n",
       "      <td>30 years in this game.</td>\n",
       "      <td>इस खेल में 30 साल.</td>\n",
       "    </tr>\n",
       "    <tr>\n",
       "      <th>8</th>\n",
       "      <td>Behavioral Strategist. Opinions expressed with...</td>\n",
       "      <td>भूतपूर्व प्रेसिस्ट ।</td>\n",
       "    </tr>\n",
       "    <tr>\n",
       "      <th>8</th>\n",
       "      <td>Trading is hard.</td>\n",
       "      <td>सहनशीलता कठिन है.</td>\n",
       "    </tr>\n",
       "    <tr>\n",
       "      <th>8</th>\n",
       "      <td>Stay Humble.</td>\n",
       "      <td>नम्र रहो.</td>\n",
       "    </tr>\n",
       "    <tr>\n",
       "      <th>8</th>\n",
       "      <td>Mentor others.</td>\n",
       "      <td>दूसरों को.</td>\n",
       "    </tr>\n",
       "    <tr>\n",
       "      <th>8</th>\n",
       "      <td>\\n$ES $NQ $CL $RB $ZB $GC $HG $VX</td>\n",
       "      <td>$ $ $ $ $ $ $ $ $ $ $ $ $ $ $ $ $ $ $ $ $ $ $ $V</td>\n",
       "    </tr>\n",
       "    <tr>\n",
       "      <th>9</th>\n",
       "      <td>I am Ray.</td>\n",
       "      <td>मैं रे हूँ.</td>\n",
       "    </tr>\n",
       "    <tr>\n",
       "      <th>9</th>\n",
       "      <td>A Family man, Engineer, Amateur Magician, Joke...</td>\n",
       "      <td>एक परिवार का सदस्य, इंजिन, आम जादू - टोना, योक...</td>\n",
       "    </tr>\n",
       "    <tr>\n",
       "      <th>9</th>\n",
       "      <td>Join me on Rumble!</td>\n",
       "      <td>मुझे रूउंब में शामिल करो!</td>\n",
       "    </tr>\n",
       "    <tr>\n",
       "      <th>9</th>\n",
       "      <td>The next big thing.</td>\n",
       "      <td>अगली बड़ी बात।</td>\n",
       "    </tr>\n",
       "    <tr>\n",
       "      <th>9</th>\n",
       "      <td>https://t.co/whaWgB7jEQ</td>\n",
       "      <td>http://s.coghg7EQ</td>\n",
       "    </tr>\n",
       "    <tr>\n",
       "      <th>9</th>\n",
       "      <td>Please use \"ray1876\"</td>\n",
       "      <td>कृपया \"यथ 186\" का प्रयोग करें</td>\n",
       "    </tr>\n",
       "    <tr>\n",
       "      <th>10</th>\n",
       "      <td>Passionate Investor.</td>\n",
       "      <td>प्रवेश.</td>\n",
       "    </tr>\n",
       "    <tr>\n",
       "      <th>10</th>\n",
       "      <td>Air Traffic Controller.</td>\n",
       "      <td>हवाई ट्रैफिक जाम ।</td>\n",
       "    </tr>\n",
       "    <tr>\n",
       "      <th>10</th>\n",
       "      <td>Fan of Fitness &amp; Bad Puns.</td>\n",
       "      <td>व.)</td>\n",
       "    </tr>\n",
       "    <tr>\n",
       "      <th>11</th>\n",
       "      <td>https://t.co/vOMjCBJQVB</td>\n",
       "      <td>http://s.o.k/vOMJJJAVB</td>\n",
       "    </tr>\n",
       "    <tr>\n",
       "      <th>12</th>\n",
       "      <td>Canadian venturing into the world of #daytrading</td>\n",
       "      <td>कनाडा # दिवसीयता की दुनिया में घूम रही है</td>\n",
       "    </tr>\n",
       "    <tr>\n",
       "      <th>13</th>\n",
       "      <td>Focus on market trends and high growth super s...</td>\n",
       "      <td>बाज़ार की सड़कों पर ध्यान दीजिए और बड़ी - बड़ी...</td>\n",
       "    </tr>\n",
       "    <tr>\n",
       "      <th>13</th>\n",
       "      <td>Tweet things to make myself and others think o...</td>\n",
       "      <td>अपने आपको और दूसरों को बॉक्स से बाहर बनाने के ...</td>\n",
       "    </tr>\n",
       "    <tr>\n",
       "      <th>13</th>\n",
       "      <td>Tweets are not investment advice.</td>\n",
       "      <td>वे किसी भी तरह की सलाह नहीं देते ।</td>\n",
       "    </tr>\n",
       "    <tr>\n",
       "      <th>14</th>\n",
       "      <td>Night worker, father to two great kids, and ma...</td>\n",
       "      <td>रात के दो बड़े बच्चों के पिता, पिता ने और संसा...</td>\n",
       "    </tr>\n",
       "    <tr>\n",
       "      <th>15</th>\n",
       "      <td>Digital Artist. Only Accepting Crypto Payments.</td>\n",
       "      <td>डिजिटल कलाकार, सिर्फ क्रिप्टो भुगतान स्वीकार क...</td>\n",
       "    </tr>\n",
       "    <tr>\n",
       "      <th>15</th>\n",
       "      <td>Cash is useless.</td>\n",
       "      <td>कैश बेकार है.</td>\n",
       "    </tr>\n",
       "    <tr>\n",
       "      <th>15</th>\n",
       "      <td>Art sold Delivered in HD Quality.</td>\n",
       "      <td>कला HD क्वालिटी में दिया गया है।</td>\n",
       "    </tr>\n",
       "    <tr>\n",
       "      <th>16</th>\n",
       "      <td>Business Tabloid is print and an online news m...</td>\n",
       "      <td>व्यापार टेब्लॉइड छपाई है और वर्तमान तेजी से दू...</td>\n",
       "    </tr>\n",
       "    <tr>\n",
       "      <th>17</th>\n",
       "      <td>Bringing awareness and technology to an increa...</td>\n",
       "      <td>ज्ञान और तकनीक लाने के लिए एक बढ़ती जटिल बाजार...</td>\n",
       "    </tr>\n",
       "    <tr>\n",
       "      <th>17</th>\n",
       "      <td>Clarity.</td>\n",
       "      <td>गोपनीयता.</td>\n",
       "    </tr>\n",
       "    <tr>\n",
       "      <th>17</th>\n",
       "      <td>Depth.</td>\n",
       "      <td>गहराई।</td>\n",
       "    </tr>\n",
       "    <tr>\n",
       "      <th>17</th>\n",
       "      <td>Liquidity.</td>\n",
       "      <td>प्यार ।</td>\n",
       "    </tr>\n",
       "    <tr>\n",
       "      <th>18</th>\n",
       "      <td>Accurately analyze the market, provide accurat...</td>\n",
       "      <td>बाजार का सही - सही पता लगाना, सही व्यापार संके...</td>\n",
       "    </tr>\n",
       "    <tr>\n",
       "      <th>18</th>\n",
       "      <td>\\n(#XAUUSD ,#Bitcoin,#OIL,#ETH,).\\n\\nhttps://t...</td>\n",
       "      <td>(#XUEHAND,# Bhoto,#OL, CHER. http://st.cot/iwav57</td>\n",
       "    </tr>\n",
       "    <tr>\n",
       "      <th>19</th>\n",
       "      <td>#Dogecoin #AMP</td>\n",
       "      <td>♪ Pigto # AMepon</td>\n",
       "    </tr>\n",
       "  </tbody>\n",
       "</table>\n",
       "</div>"
      ],
      "text/plain": [
       "                                          sentence_dl  \\\n",
       "0   IT3 USN East Coast Sailor Conservative #Savage...   \n",
       "1   Master of financial economics, Wall Street int...   \n",
       "1                               WhatsApp:+85266180683   \n",
       "2   Sometimes you're the bat and sometimes you're ...   \n",
       "3             I am smarter than you, at least i think   \n",
       "4                                 Life's short, Live!   \n",
       "4                        I'm not a financial advisor.   \n",
       "4            Trading penny stocks, SPACs, blue chips.   \n",
       "4                    \\n#Bitcoin #Ethereum #SPAC #DEFI   \n",
       "5   Founder at @SOROOSHSCHOOL & @SOROOSHPARDAZ | C...   \n",
       "6                                                Sup?   \n",
       "7                            Was it polemically sent?   \n",
       "7   IQ=$link ATH(WAS $19.83, $28.65-currently $36....   \n",
       "7                           Tenet Chad Them All Mang.   \n",
       "8                              30 years in this game.   \n",
       "8   Behavioral Strategist. Opinions expressed with...   \n",
       "8                                    Trading is hard.   \n",
       "8                                        Stay Humble.   \n",
       "8                                      Mentor others.   \n",
       "8                   \\n$ES $NQ $CL $RB $ZB $GC $HG $VX   \n",
       "9                                           I am Ray.   \n",
       "9   A Family man, Engineer, Amateur Magician, Joke...   \n",
       "9                                  Join me on Rumble!   \n",
       "9                                 The next big thing.   \n",
       "9                             https://t.co/whaWgB7jEQ   \n",
       "9                                Please use \"ray1876\"   \n",
       "10                               Passionate Investor.   \n",
       "10                            Air Traffic Controller.   \n",
       "10                         Fan of Fitness & Bad Puns.   \n",
       "11                            https://t.co/vOMjCBJQVB   \n",
       "12   Canadian venturing into the world of #daytrading   \n",
       "13  Focus on market trends and high growth super s...   \n",
       "13  Tweet things to make myself and others think o...   \n",
       "13                  Tweets are not investment advice.   \n",
       "14  Night worker, father to two great kids, and ma...   \n",
       "15    Digital Artist. Only Accepting Crypto Payments.   \n",
       "15                                   Cash is useless.   \n",
       "15                  Art sold Delivered in HD Quality.   \n",
       "16  Business Tabloid is print and an online news m...   \n",
       "17  Bringing awareness and technology to an increa...   \n",
       "17                                           Clarity.   \n",
       "17                                             Depth.   \n",
       "17                                         Liquidity.   \n",
       "18  Accurately analyze the market, provide accurat...   \n",
       "18  \\n(#XAUUSD ,#Bitcoin,#OIL,#ETH,).\\n\\nhttps://t...   \n",
       "19                                     #Dogecoin #AMP   \n",
       "\n",
       "                               translated_translation  \n",
       "0   IT3 अमरीकी पूर्वी कोस्ट कोस्टेंटेन # svavation...  \n",
       "1   आर्थिक आर्थिक धन के मालिक, दीवार स्ट्रीट अंतर्...  \n",
       "1                               क्या कॉन्फ़:+85266683  \n",
       "2   कभी कभी आप बल्ला कर रहे हैं और कभी कभी आप गेंद...  \n",
       "3        मैं आप से स्मार्ट हूँ, कम से कम मुझे लगता है  \n",
       "4                                जीवन छोटा है, जीवित!  \n",
       "4                    मैं एक वित्तीय सलाहकार नहीं हूँ.  \n",
       "4                   पैसा जमा करना, सीपीसी, नीले चिप ।  \n",
       "4                               # ब्लॉइन # sPC # DEFI  \n",
       "5                                                मिला  \n",
       "6                                                 एस.  \n",
       "7               क्या यह अति भयानक रूप से भेजा गया था?  \n",
       "7   IQQD=$लिंक ARTH (WAS3, $28.65- 0. 65- 0.92) डा...  \n",
       "7                               दसेट उन्हें सभी मैनग.  \n",
       "8                                  इस खेल में 30 साल.  \n",
       "8                                भूतपूर्व प्रेसिस्ट ।  \n",
       "8                                   सहनशीलता कठिन है.  \n",
       "8                                           नम्र रहो.  \n",
       "8                                          दूसरों को.  \n",
       "8    $ $ $ $ $ $ $ $ $ $ $ $ $ $ $ $ $ $ $ $ $ $ $ $V  \n",
       "9                                         मैं रे हूँ.  \n",
       "9   एक परिवार का सदस्य, इंजिन, आम जादू - टोना, योक...  \n",
       "9                           मुझे रूउंब में शामिल करो!  \n",
       "9                                      अगली बड़ी बात।  \n",
       "9                                   http://s.coghg7EQ  \n",
       "9                       कृपया \"यथ 186\" का प्रयोग करें  \n",
       "10                                            प्रवेश.  \n",
       "10                                 हवाई ट्रैफिक जाम ।  \n",
       "10                                                व.)  \n",
       "11                             http://s.o.k/vOMJJJAVB  \n",
       "12          कनाडा # दिवसीयता की दुनिया में घूम रही है  \n",
       "13  बाज़ार की सड़कों पर ध्यान दीजिए और बड़ी - बड़ी...  \n",
       "13  अपने आपको और दूसरों को बॉक्स से बाहर बनाने के ...  \n",
       "13                 वे किसी भी तरह की सलाह नहीं देते ।  \n",
       "14  रात के दो बड़े बच्चों के पिता, पिता ने और संसा...  \n",
       "15  डिजिटल कलाकार, सिर्फ क्रिप्टो भुगतान स्वीकार क...  \n",
       "15                                      कैश बेकार है.  \n",
       "15                   कला HD क्वालिटी में दिया गया है।  \n",
       "16  व्यापार टेब्लॉइड छपाई है और वर्तमान तेजी से दू...  \n",
       "17  ज्ञान और तकनीक लाने के लिए एक बढ़ती जटिल बाजार...  \n",
       "17                                          गोपनीयता.  \n",
       "17                                             गहराई।  \n",
       "17                                            प्यार ।  \n",
       "18  बाजार का सही - सही पता लगाना, सही व्यापार संके...  \n",
       "18  (#XUEHAND,# Bhoto,#OL, CHER. http://st.cot/iwav57  \n",
       "19                                   ♪ Pigto # AMepon  "
      ]
     },
     "execution_count": 5,
     "metadata": {},
     "output_type": "execute_result"
    }
   ],
   "source": [
    "translate_pipe = nlu.load('en.translate_to.hi')\n",
    "translate_pipe.predict(df)"
   ]
  },
  {
   "cell_type": "markdown",
   "metadata": {
    "id": "VXu21c0iQRSC",
    "pycharm": {
     "name": "#%% md\n"
    }
   },
   "source": [
    "# There are many more models you can put to use in 1 line of code!\n",
    "## Checkout [the Modelshub](https://nlp.johnsnowlabs.com/models) and the [NLU Namespace](https://nlu.johnsnowlabs.com/docs/en/spellbook) for more models\n",
    "\n",
    "### NLU Webinars and Video Tutorials\n",
    "- [NLU & Streamlit Tutorial](https://vimeo.com/579508034#)\n",
    "- [Crash course of the 50 + Medical Domains and the 200+ Healtchare models in NLU](https://www.youtube.com/watch?v=gGDsZXt1SF8)\n",
    "- [Multi Lingual NLU Webinar - Tutorial on Chinese News dataset](https://www.youtube.com/watch?v=ftAOqJuxnV4)\n",
    "- [John Snow Labs NLU: Become a Data Science Superhero with One Line of Python code](https://events.johnsnowlabs.com/john-snow-labs-nlu-become-a-data-science-superhero-with-one-line-of-python-code?hsCtaTracking=c659363c-2188-4c86-945f-5cfb7b42fcfc%7C8b2b188b-92a3-48ba-ad7e-073b384425b0)\n",
    "- [Python Web Def Conf - Python's NLU library: 1,000+ Models, 200+ Languages, State of the Art Accuracy, 1 Line of Code](https://2021.pythonwebconf.com/presentations/john-snow-labs-nlu-the-simplicity-of-python-the-power-of-spark-nlp)\n",
    "- [NYC/DC NLP Meetup with NLU](https://youtu.be/hJR9m3NYnwk?t=2155)\n",
    "\n",
    "### More ressources \n",
    "- [Join our Slack](https://join.slack.com/t/spark-nlp/shared_invite/zt-lutct9gm-kuUazcyFKhuGY3_0AMkxqA)\n",
    "- [NLU Website](https://nlu.johnsnowlabs.com/)\n",
    "- [NLU Github](https://github.com/JohnSnowLabs/nlu)\n",
    "- [Many more NLU example tutorials](https://github.com/JohnSnowLabs/nlu/tree/master/examples)\n",
    "- [Overview of every powerful nlu 1-liner](https://nlu.johnsnowlabs.com/docs/en/examples)\n",
    "- [Checkout the Modelshub for an overview of all models](https://nlp.johnsnowlabs.com/models) \n",
    "- [Checkout the NLU Namespace where you can find every model as a tabel](https://nlu.johnsnowlabs.com/docs/en/spellbook)\n",
    "- [Intro to NLU article](https://medium.com/spark-nlp/1-line-of-code-350-nlp-models-with-john-snow-labs-nlu-in-python-2f1c55bba619)\n",
    "- [Indepth and easy Sentence Similarity Tutorial, with StackOverflow Questions using BERTology embeddings](https://medium.com/spark-nlp/easy-sentence-similarity-with-bert-sentence-embeddings-using-john-snow-labs-nlu-ea078deb6ebf)\n",
    "- [1 line of Python code for BERT, ALBERT, ELMO, ELECTRA, XLNET, GLOVE, Part of Speech with NLU and t-SNE](https://medium.com/spark-nlp/1-line-of-code-for-bert-albert-elmo-electra-xlnet-glove-part-of-speech-with-nlu-and-t-sne-9ebcd5379cd)"
   ]
  }
 ],
 "metadata": {
  "accelerator": "GPU",
  "colab": {
   "collapsed_sections": [],
   "provenance": [],
   "toc_visible": true
  },
  "kernelspec": {
   "display_name": "Python 3 (ipykernel)",
   "language": "python",
   "name": "python3"
  },
  "language_info": {
   "codemirror_mode": {
    "name": "ipython",
    "version": 3
   },
   "file_extension": ".py",
   "mimetype": "text/x-python",
   "name": "python",
   "nbconvert_exporter": "python",
   "pygments_lexer": "ipython3",
   "version": "3.8.10"
  }
 },
 "nbformat": 4,
 "nbformat_minor": 4
}

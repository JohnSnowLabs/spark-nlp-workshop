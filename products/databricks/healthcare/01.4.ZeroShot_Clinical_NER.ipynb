{
 "cells": [
  {
   "cell_type": "markdown",
   "metadata": {
    "application/vnd.databricks.v1+cell": {
     "cellMetadata": {},
     "inputWidgets": {},
     "nuid": "144f03f1-a290-4770-bef7-425bbaa22522",
     "showTitle": false,
     "title": ""
    },
    "id": "I08sFJYCxR0Z"
   },
   "source": [
    "![JohnSnowLabs](https://nlp.johnsnowlabs.com/assets/images/logo.png)"
   ]
  },
  {
   "cell_type": "markdown",
   "metadata": {
    "application/vnd.databricks.v1+cell": {
     "cellMetadata": {},
     "inputWidgets": {},
     "nuid": "67bd92d3-1f14-4f38-b5c1-cf20b626dfbe",
     "showTitle": false,
     "title": ""
    },
    "id": "Niy3mZAjoayg"
   },
   "source": [
    "#  Zero-Shot Named Entity Recognition in Spark NLP\n",
    "\n",
    "In this notebook, you will find an example of Zero-Shot NER model (`zero_shot_ner_roberta`) that is the first of its kind and can detect any named entities without using any annotated dataset to train a model. \n",
    "\n",
    "`ZeroShotNerModel` annotator also allows extracting entities by crafting appropriate prompts to query **any RoBERTa Question Answering model**. \n",
    "\n",
    "\n",
    "You can check the model card here: [Models Hub](https://nlp.johnsnowlabs.com/2022/08/29/zero_shot_ner_roberta_en.html)"
   ]
  },
  {
   "cell_type": "code",
   "execution_count": 0,
   "metadata": {
    "application/vnd.databricks.v1+cell": {
     "cellMetadata": {
      "byteLimit": 2048000,
      "rowLimit": 10000
     },
     "inputWidgets": {},
     "nuid": "e813bb34-59d4-485f-bd5e-d7ab13fd5269",
     "showTitle": false,
     "title": ""
    }
   },
   "outputs": [],
   "source": [
    "from johnsnowlabs import nlp, medical\n",
    "\n",
    "# After uploading your license run this to install all licensed Python Wheels and pre-download Jars the Spark Session JVM\n",
    "#nlp.install()"
   ]
  },
  {
   "cell_type": "code",
   "execution_count": 0,
   "metadata": {
    "application/vnd.databricks.v1+cell": {
     "cellMetadata": {
      "byteLimit": 2048000,
      "rowLimit": 10000
     },
     "inputWidgets": {},
     "nuid": "d1b20cde-318a-416c-a7a2-84dd143de8eb",
     "showTitle": false,
     "title": ""
    }
   },
   "outputs": [
    {
     "output_type": "execute_result",
     "data": {
      "text/html": [
       "\n",
       "            <div>\n",
       "                <p><b>SparkSession - hive</b></p>\n",
       "                \n",
       "        <div>\n",
       "            <p><b>SparkContext</b></p>\n",
       "\n",
       "            <p><a href=\"/?o=7956323724731612#setting/sparkui/0913-163204-fxwn7480/driver-485678171169939934\">Spark UI</a></p>\n",
       "\n",
       "            <dl>\n",
       "              <dt>Version</dt>\n",
       "                <dd><code>v3.4.1</code></dd>\n",
       "              <dt>Master</dt>\n",
       "                <dd><code>spark://10.139.64.12:7077</code></dd>\n",
       "              <dt>AppName</dt>\n",
       "                <dd><code>Databricks Shell</code></dd>\n",
       "            </dl>\n",
       "        </div>\n",
       "        \n",
       "            </div>\n",
       "        "
      ],
      "text/plain": [
       "<pyspark.sql.session.SparkSession at 0x7f8e80b239d0>"
      ]
     },
     "execution_count": 2,
     "metadata": {},
     "output_type": "execute_result"
    }
   ],
   "source": [
    "from pyspark.sql import DataFrame\n",
    "import pyspark.sql.functions as F\n",
    "import pyspark.sql.types as T\n",
    "import pyspark.sql as SQL\n",
    "\n",
    "import os\n",
    "import json\n",
    "import string\n",
    "import numpy as np\n",
    "import pandas as pd\n",
    "\n",
    "from pyspark.ml import Pipeline, PipelineModel\n",
    "\n",
    "pd.set_option('max_colwidth', 100)\n",
    "pd.set_option('display.max_columns', 100)  \n",
    "pd.set_option('display.expand_frame_repr', False)\n",
    "\n",
    "spark"
   ]
  },
  {
   "cell_type": "markdown",
   "metadata": {
    "application/vnd.databricks.v1+cell": {
     "cellMetadata": {},
     "inputWidgets": {},
     "nuid": "a62e43ac-95d7-43df-85c9-c0869dc87e39",
     "showTitle": false,
     "title": ""
    },
    "id": "AMU4sAJQ0Rhs"
   },
   "source": [
    "## Zero-Shot Clinical NER Pipeline\n",
    "\n",
    "Now we will create a pipeline for Zero-Shot NER model with only `documentAssembler`, `sentenceDetector`, `tokenizer`, `zero_shot_ner` and `ner_converter` stages. As you can see, we don't use any embeddings model, because it is already included in the model. \n",
    "\n",
    "Only the thing that you need to do is create meaningful definitions for the entities that you want to extract. For example; we want to detect `PROBLEM`, `DRUG`, `PATIENT_AGE` and  `ADMISSION_DATE` entities, so we created a dictionary with the questions for detecting these entities and the labels that we want to see in the result. Then we provided this dictionary to the model by using `setEntityDefinitions` parameter."
   ]
  },
  {
   "cell_type": "code",
   "execution_count": 0,
   "metadata": {
    "application/vnd.databricks.v1+cell": {
     "cellMetadata": {
      "byteLimit": 2048000,
      "rowLimit": 10000
     },
     "inputWidgets": {},
     "nuid": "31e59f91-f7ac-45b4-86e0-cc774daafedb",
     "showTitle": false,
     "title": ""
    },
    "colab": {
     "base_uri": "https://localhost:8080/"
    },
    "executionInfo": {
     "elapsed": 59178,
     "status": "ok",
     "timestamp": 1664898845150,
     "user": {
      "displayName": "muhammet şantaş",
      "userId": "01037434825541536598"
     },
     "user_tz": -180
    },
    "id": "DEa5SITBxmY0",
    "outputId": "882e3444-b2da-4e57-b615-9816f0f4d1f2"
   },
   "outputs": [
    {
     "output_type": "stream",
     "name": "stdout",
     "output_type": "stream",
     "text": [
      "zero_shot_ner_roberta download started this may take some time.\nApproximate size to download 438.9 MB\n\r[ | ]\r[ / ]\r[ — ]\r[ \\ ]\r[ | ]\r[ / ]\r[ — ]\r[ \\ ]\r[ | ]\r[ / ]\r[ — ]\r[ \\ ]\r[ | ]\r[ / ]\r[ — ]\r[ \\ ]\r[ | ]\r[ / ]\r[ — ]\r[ \\ ]\r[ | ]\r[ / ]\r[ — ]\r[ \\ ]\r[ | ]\r[ / ]\r[ — ]\r[ \\ ]\r[ | ]\r[ / ]\r[ — ]\r[OK!]\n"
     ]
    }
   ],
   "source": [
    "documentAssembler = nlp.DocumentAssembler() \\\n",
    "    .setInputCol(\"text\") \\\n",
    "    .setOutputCol(\"document\")\n",
    "\n",
    "sentenceDetector = nlp.SentenceDetector() \\\n",
    "    .setInputCols([\"document\"]) \\\n",
    "    .setOutputCol(\"sentence\")\n",
    "\n",
    "tokenizer = nlp.Tokenizer() \\\n",
    "    .setInputCols([\"sentence\"]) \\\n",
    "    .setOutputCol(\"token\")\n",
    "    \n",
    "zero_shot_ner = medical.ZeroShotNerModel.pretrained(\"zero_shot_ner_roberta\", \"en\", \"clinical/models\")\\\n",
    "    .setEntityDefinitions(\n",
    "        {\n",
    "            \"PROBLEM\": [\"What is the disease?\", \"What is his symptom?\", \"What is her disease?\", \"What is his disease?\", \n",
    "                        \"What is the problem?\" ,\"What does a patient suffer\", 'What was the reason that the patient is admitted to the clinic?'],\n",
    "            \"DRUG\": [\"Which drug?\", \"Which is the drug?\", \"What is the drug?\", \"Which drug does he use?\", \"Which drug does she use?\", \"Which drug do I use?\", \"Which drug is prescribed for a symptom?\"],\n",
    "            \"ADMISSION_DATE\": [\"When did patient admitted to a clinic?\"],\n",
    "            \"PATIENT_AGE\": [\"How old is the patient?\",'What is the gae of the patient?']\n",
    "        })\\\n",
    "    .setInputCols([\"sentence\", \"token\"])\\\n",
    "    .setOutputCol(\"zero_shot_ner\")\\\n",
    "    .setPredictionThreshold(0.1) # default 0.01\n",
    "\n",
    "ner_converter = nlp.NerConverter()\\\n",
    "    .setInputCols([\"sentence\", \"token\", \"zero_shot_ner\"])\\\n",
    "    .setOutputCol(\"ner_chunk\")\\\n",
    "\n",
    "pipeline = nlp.Pipeline(stages = [\n",
    "    documentAssembler, \n",
    "    sentenceDetector, \n",
    "    tokenizer, \n",
    "    zero_shot_ner, \n",
    "    ner_converter])\n",
    "\n",
    "zero_shot_ner_model = pipeline.fit(spark.createDataFrame([[\"\"]]).toDF(\"text\"))"
   ]
  },
  {
   "cell_type": "code",
   "execution_count": 0,
   "metadata": {
    "application/vnd.databricks.v1+cell": {
     "cellMetadata": {
      "byteLimit": 2048000,
      "rowLimit": 10000
     },
     "inputWidgets": {},
     "nuid": "cde3b985-b78b-430d-9041-7387ef908131",
     "showTitle": false,
     "title": ""
    }
   },
   "outputs": [
    {
     "output_type": "execute_result",
     "data": {
      "text/plain": [
       "['DRUG', 'PATIENT_AGE', 'ADMISSION_DATE', 'PROBLEM']"
      ]
     },
     "execution_count": 4,
     "metadata": {},
     "output_type": "execute_result"
    }
   ],
   "source": [
    "zero_shot_ner.getClasses()"
   ]
  },
  {
   "cell_type": "code",
   "execution_count": 0,
   "metadata": {
    "application/vnd.databricks.v1+cell": {
     "cellMetadata": {
      "byteLimit": 2048000,
      "rowLimit": 10000
     },
     "inputWidgets": {},
     "nuid": "ecf406cf-b606-4af0-b593-c88cc1d8c0d7",
     "showTitle": false,
     "title": ""
    },
    "colab": {
     "base_uri": "https://localhost:8080/"
    },
    "executionInfo": {
     "elapsed": 35,
     "status": "ok",
     "timestamp": 1664898845152,
     "user": {
      "displayName": "muhammet şantaş",
      "userId": "01037434825541536598"
     },
     "user_tz": -180
    },
    "id": "rPO8wgprvai_",
    "outputId": "8d28eb6d-9873-4114-92c2-014148d6565c"
   },
   "outputs": [
    {
     "output_type": "execute_result",
     "data": {
      "text/plain": [
       "{Param(parent='ZeroShotNerModel_e3cf3d0915e2', name='lazyAnnotator', doc='Whether this AnnotatorModel acts as lazy in RecursivePipelines'): False,\n",
       " Param(parent='ZeroShotNerModel_e3cf3d0915e2', name='batchSize', doc='Size of every batch'): 8,\n",
       " Param(parent='ZeroShotNerModel_e3cf3d0915e2', name='maxSentenceLength', doc='Max sentence length to process'): 512,\n",
       " Param(parent='ZeroShotNerModel_e3cf3d0915e2', name='caseSensitive', doc='whether to ignore case in tokens for embeddings matching'): True,\n",
       " Param(parent='ZeroShotNerModel_e3cf3d0915e2', name='predictionThreshold', doc='Minimal confidence score to encode an entity (default is 0.1)'): 0.1,\n",
       " Param(parent='ZeroShotNerModel_e3cf3d0915e2', name='ignoreEntities', doc='List of entities to ignore'): [],\n",
       " Param(parent='ZeroShotNerModel_e3cf3d0915e2', name='engine', doc='Deep Learning engine used for this model'): 'tensorflow',\n",
       " Param(parent='ZeroShotNerModel_e3cf3d0915e2', name='inputCols', doc='previous annotations columns, if renamed'): ['sentence',\n",
       "  'token'],\n",
       " Param(parent='ZeroShotNerModel_e3cf3d0915e2', name='outputCol', doc='output annotation column. can be left default.'): 'zero_shot_ner'}"
      ]
     },
     "execution_count": 5,
     "metadata": {},
     "output_type": "execute_result"
    }
   ],
   "source": [
    "zero_shot_ner.extractParamMap()"
   ]
  },
  {
   "cell_type": "code",
   "execution_count": 0,
   "metadata": {
    "application/vnd.databricks.v1+cell": {
     "cellMetadata": {
      "byteLimit": 2048000,
      "rowLimit": 10000
     },
     "inputWidgets": {},
     "nuid": "734fdaa0-5f11-4fd0-a315-8a37d374efdc",
     "showTitle": false,
     "title": ""
    },
    "colab": {
     "base_uri": "https://localhost:8080/"
    },
    "executionInfo": {
     "elapsed": 30,
     "status": "ok",
     "timestamp": 1664898845153,
     "user": {
      "displayName": "muhammet şantaş",
      "userId": "01037434825541536598"
     },
     "user_tz": -180
    },
    "id": "gGjoRR5Bvj-U",
    "outputId": "67cc3cbb-a961-46f2-df52-79d3b6212307"
   },
   "outputs": [
    {
     "output_type": "execute_result",
     "data": {
      "text/plain": [
       "0.1"
      ]
     },
     "execution_count": 6,
     "metadata": {},
     "output_type": "execute_result"
    }
   ],
   "source": [
    "zero_shot_ner.getPredictionThreshold()"
   ]
  },
  {
   "cell_type": "code",
   "execution_count": 0,
   "metadata": {
    "application/vnd.databricks.v1+cell": {
     "cellMetadata": {
      "byteLimit": 2048000,
      "rowLimit": 10000
     },
     "inputWidgets": {},
     "nuid": "5693b6d8-96ff-494a-97fa-38da960e3c1b",
     "showTitle": false,
     "title": ""
    },
    "executionInfo": {
     "elapsed": 1062,
     "status": "ok",
     "timestamp": 1664898846189,
     "user": {
      "displayName": "muhammet şantaş",
      "userId": "01037434825541536598"
     },
     "user_tz": -180
    },
    "id": "ZrZgkyUfxb-j"
   },
   "outputs": [],
   "source": [
    "text_list = [\"The doctor pescribed Majezik for my severe headache.\",\n",
    "             \"The patient was admitted to the hospital for his colon cancer.\",\n",
    "             \"27 years old patient was admitted to clinic on Sep 1st by Dr. X for a right-sided pleural effusion for thoracentesis.\"\n",
    "            ]\n",
    "\n",
    "data = spark.createDataFrame(text_list, F.StringType()).toDF(\"text\")\n",
    "\n",
    "results = zero_shot_ner_model.transform(data)"
   ]
  },
  {
   "cell_type": "code",
   "execution_count": 0,
   "metadata": {
    "application/vnd.databricks.v1+cell": {
     "cellMetadata": {
      "byteLimit": 2048000,
      "rowLimit": 10000
     },
     "inputWidgets": {},
     "nuid": "7034c680-44c8-4cc3-86df-e3b363be00b8",
     "showTitle": false,
     "title": ""
    },
    "colab": {
     "base_uri": "https://localhost:8080/"
    },
    "executionInfo": {
     "elapsed": 23754,
     "status": "ok",
     "timestamp": 1664898869936,
     "user": {
      "displayName": "muhammet şantaş",
      "userId": "01037434825541536598"
     },
     "user_tz": -180
    },
    "id": "DHC3kvfIF2tm",
    "outputId": "c5638746-f380-466a-9ec4-115802921d24"
   },
   "outputs": [
    {
     "output_type": "stream",
     "name": "stdout",
     "output_type": "stream",
     "text": [
      "+--------------------+--------------------+--------------------+--------------------+--------------------+--------------------+\n|                text|            document|            sentence|               token|       zero_shot_ner|           ner_chunk|\n+--------------------+--------------------+--------------------+--------------------+--------------------+--------------------+\n|The doctor pescri...|[{document, 0, 51...|[{document, 0, 51...|[{token, 0, 2, Th...|[{named_entity, 0...|[{chunk, 21, 27, ...|\n|The patient was a...|[{document, 0, 61...|[{document, 0, 61...|[{token, 0, 2, Th...|[{named_entity, 0...|[{chunk, 49, 60, ...|\n|27 years old pati...|[{document, 0, 11...|[{document, 0, 11...|[{token, 0, 1, 27...|[{named_entity, 0...|[{chunk, 0, 11, 2...|\n+--------------------+--------------------+--------------------+--------------------+--------------------+--------------------+\n\n"
     ]
    }
   ],
   "source": [
    "results.show()"
   ]
  },
  {
   "cell_type": "markdown",
   "metadata": {
    "application/vnd.databricks.v1+cell": {
     "cellMetadata": {},
     "inputWidgets": {},
     "nuid": "79278354-ab4b-4be8-8fb2-11263cbb45cf",
     "showTitle": false,
     "title": ""
    },
    "id": "MsDuQg95s5Qf"
   },
   "source": [
    "Lets check the NER model results."
   ]
  },
  {
   "cell_type": "code",
   "execution_count": 0,
   "metadata": {
    "application/vnd.databricks.v1+cell": {
     "cellMetadata": {
      "byteLimit": 2048000,
      "rowLimit": 10000
     },
     "inputWidgets": {},
     "nuid": "30e37c31-649c-4aca-a720-de15a5c8aeac",
     "showTitle": false,
     "title": ""
    },
    "colab": {
     "base_uri": "https://localhost:8080/"
    },
    "executionInfo": {
     "elapsed": 13662,
     "status": "ok",
     "timestamp": 1664898883591,
     "user": {
      "displayName": "muhammet şantaş",
      "userId": "01037434825541536598"
     },
     "user_tz": -180
    },
    "id": "OGBHfjMVUoCu",
    "outputId": "e07a1974-f2b1-4b2b-9859-e4171da51400"
   },
   "outputs": [
    {
     "output_type": "stream",
     "name": "stdout",
     "output_type": "stream",
     "text": [
      "+-------------+----------------+--------+-----+---+----------+---------------------------------------------------------------+\n|word         |result          |sentence|begin|end|confidence|question                                                       |\n+-------------+----------------+--------+-----+---+----------+---------------------------------------------------------------+\n|The          |O               |0       |0    |2  |NULL      |NULL                                                           |\n|doctor       |O               |0       |4    |9  |NULL      |NULL                                                           |\n|pescribed    |O               |0       |11   |19 |NULL      |NULL                                                           |\n|Majezik      |B-DRUG          |0       |21   |27 |0.646716  |Which drug is prescribed for a symptom?                        |\n|for          |O               |0       |29   |31 |NULL      |NULL                                                           |\n|my           |O               |0       |33   |34 |NULL      |NULL                                                           |\n|severe       |B-PROBLEM       |0       |36   |41 |0.5526348 |What is the problem?                                           |\n|headache     |I-PROBLEM       |0       |43   |50 |0.5526348 |What is the problem?                                           |\n|.            |O               |0       |51   |51 |NULL      |NULL                                                           |\n|The          |O               |0       |0    |2  |NULL      |NULL                                                           |\n|patient      |O               |0       |4    |10 |NULL      |NULL                                                           |\n|was          |O               |0       |12   |14 |NULL      |NULL                                                           |\n|admitted     |O               |0       |16   |23 |NULL      |NULL                                                           |\n|to           |O               |0       |25   |26 |NULL      |NULL                                                           |\n|the          |O               |0       |28   |30 |NULL      |NULL                                                           |\n|hospital     |O               |0       |32   |39 |NULL      |NULL                                                           |\n|for          |O               |0       |41   |43 |NULL      |NULL                                                           |\n|his          |O               |0       |45   |47 |NULL      |NULL                                                           |\n|colon        |B-PROBLEM       |0       |49   |53 |0.88985014|What is his disease?                                           |\n|cancer       |I-PROBLEM       |0       |55   |60 |0.88985014|What is his disease?                                           |\n|.            |O               |0       |61   |61 |NULL      |NULL                                                           |\n|27           |B-PATIENT_AGE   |0       |0    |1  |0.6943086 |How old is the patient?                                        |\n|years        |I-PATIENT_AGE   |0       |3    |7  |0.6943086 |How old is the patient?                                        |\n|old          |I-PATIENT_AGE   |0       |9    |11 |0.6943086 |How old is the patient?                                        |\n|patient      |O               |0       |13   |19 |NULL      |NULL                                                           |\n|was          |O               |0       |21   |23 |NULL      |NULL                                                           |\n|admitted     |O               |0       |25   |32 |NULL      |NULL                                                           |\n|to           |O               |0       |34   |35 |NULL      |NULL                                                           |\n|clinic       |O               |0       |37   |42 |NULL      |NULL                                                           |\n|on           |O               |0       |44   |45 |NULL      |NULL                                                           |\n|Sep          |B-ADMISSION_DATE|0       |47   |49 |0.95646083|When did patient admitted to a clinic?                         |\n|1st          |I-ADMISSION_DATE|0       |51   |53 |0.95646083|When did patient admitted to a clinic?                         |\n|by           |O               |0       |55   |56 |NULL      |NULL                                                           |\n|Dr           |O               |0       |58   |59 |NULL      |NULL                                                           |\n|.            |O               |0       |60   |60 |NULL      |NULL                                                           |\n|X            |O               |0       |62   |62 |NULL      |NULL                                                           |\n|for          |O               |0       |64   |66 |NULL      |NULL                                                           |\n|a            |B-PROBLEM       |0       |68   |68 |0.50026655|What was the reason that the patient is admitted to the clinic?|\n|right-sided  |I-PROBLEM       |0       |70   |80 |0.50026655|What was the reason that the patient is admitted to the clinic?|\n|pleural      |I-PROBLEM       |0       |82   |88 |0.50026655|What was the reason that the patient is admitted to the clinic?|\n|effusion     |I-PROBLEM       |0       |90   |97 |0.50026655|What was the reason that the patient is admitted to the clinic?|\n|for          |I-PROBLEM       |0       |99   |101|0.50026655|What was the reason that the patient is admitted to the clinic?|\n|thoracentesis|I-PROBLEM       |0       |103  |115|0.50026655|What was the reason that the patient is admitted to the clinic?|\n|.            |O               |0       |116  |116|NULL      |NULL                                                           |\n+-------------+----------------+--------+-----+---+----------+---------------------------------------------------------------+\n\n"
     ]
    }
   ],
   "source": [
    "results.selectExpr(\"explode(zero_shot_ner) AS entity\")\\\n",
    "       .select(\n",
    "           \"entity.metadata.word\",    \n",
    "           \"entity.result\",    \n",
    "           \"entity.metadata.sentence\",\n",
    "           \"entity.begin\",\n",
    "           \"entity.end\",\n",
    "           \"entity.metadata.confidence\",\n",
    "           \"entity.metadata.question\")\\\n",
    "       .show(100, truncate=False)"
   ]
  },
  {
   "cell_type": "code",
   "execution_count": 0,
   "metadata": {
    "application/vnd.databricks.v1+cell": {
     "cellMetadata": {
      "byteLimit": 2048000,
      "rowLimit": 10000
     },
     "inputWidgets": {},
     "nuid": "5f70d01d-e982-4926-b5a1-9d1e7f5e7348",
     "showTitle": false,
     "title": ""
    },
    "colab": {
     "base_uri": "https://localhost:8080/"
    },
    "executionInfo": {
     "elapsed": 12230,
     "status": "ok",
     "timestamp": 1664898895813,
     "user": {
      "displayName": "muhammet şantaş",
      "userId": "01037434825541536598"
     },
     "user_tz": -180
    },
    "id": "fSsq2qTSX2yd",
    "outputId": "37092aaa-1f8d-425a-fad9-511a43997d87"
   },
   "outputs": [
    {
     "output_type": "stream",
     "name": "stdout",
     "output_type": "stream",
     "text": [
      "+-------------+----------------+--------+-----+---+----------+\n|        token|       ner_label|sentence|begin|end|confidence|\n+-------------+----------------+--------+-----+---+----------+\n|          The|               O|       0|    0|  2|      NULL|\n|       doctor|               O|       0|    4|  9|      NULL|\n|    pescribed|               O|       0|   11| 19|      NULL|\n|      Majezik|          B-DRUG|       0|   21| 27|  0.646716|\n|          for|               O|       0|   29| 31|      NULL|\n|           my|               O|       0|   33| 34|      NULL|\n|       severe|       B-PROBLEM|       0|   36| 41| 0.5526348|\n|     headache|       I-PROBLEM|       0|   43| 50| 0.5526348|\n|            .|               O|       0|   51| 51|      NULL|\n|          The|               O|       0|    0|  2|      NULL|\n|      patient|               O|       0|    4| 10|      NULL|\n|          was|               O|       0|   12| 14|      NULL|\n|     admitted|               O|       0|   16| 23|      NULL|\n|           to|               O|       0|   25| 26|      NULL|\n|          the|               O|       0|   28| 30|      NULL|\n|     hospital|               O|       0|   32| 39|      NULL|\n|          for|               O|       0|   41| 43|      NULL|\n|          his|               O|       0|   45| 47|      NULL|\n|        colon|       B-PROBLEM|       0|   49| 53|0.88985014|\n|       cancer|       I-PROBLEM|       0|   55| 60|0.88985014|\n|            .|               O|       0|   61| 61|      NULL|\n|           27|   B-PATIENT_AGE|       0|    0|  1| 0.6943086|\n|        years|   I-PATIENT_AGE|       0|    3|  7| 0.6943086|\n|          old|   I-PATIENT_AGE|       0|    9| 11| 0.6943086|\n|      patient|               O|       0|   13| 19|      NULL|\n|          was|               O|       0|   21| 23|      NULL|\n|     admitted|               O|       0|   25| 32|      NULL|\n|           to|               O|       0|   34| 35|      NULL|\n|       clinic|               O|       0|   37| 42|      NULL|\n|           on|               O|       0|   44| 45|      NULL|\n|          Sep|B-ADMISSION_DATE|       0|   47| 49|0.95646083|\n|          1st|I-ADMISSION_DATE|       0|   51| 53|0.95646083|\n|           by|               O|       0|   55| 56|      NULL|\n|           Dr|               O|       0|   58| 59|      NULL|\n|            .|               O|       0|   60| 60|      NULL|\n|            X|               O|       0|   62| 62|      NULL|\n|          for|               O|       0|   64| 66|      NULL|\n|            a|       B-PROBLEM|       0|   68| 68|0.50026655|\n|  right-sided|       I-PROBLEM|       0|   70| 80|0.50026655|\n|      pleural|       I-PROBLEM|       0|   82| 88|0.50026655|\n|     effusion|       I-PROBLEM|       0|   90| 97|0.50026655|\n|          for|       I-PROBLEM|       0|   99|101|0.50026655|\n|thoracentesis|       I-PROBLEM|       0|  103|115|0.50026655|\n|            .|               O|       0|  116|116|      NULL|\n+-------------+----------------+--------+-----+---+----------+\n\n"
     ]
    }
   ],
   "source": [
    "results.select(F.explode(F.arrays_zip(results.token.result,\n",
    "                                      results.zero_shot_ner.result, \n",
    "                                      results.zero_shot_ner.metadata,\n",
    "                                      results.zero_shot_ner.begin, \n",
    "                                      results.zero_shot_ner.end)).alias(\"cols\"))\\\n",
    "       .select(F.expr(\"cols['0']\").alias(\"token\"),\n",
    "               F.expr(\"cols['1']\").alias(\"ner_label\"),\n",
    "               F.expr(\"cols['2']['sentence']\").alias(\"sentence\"),\n",
    "               F.expr(\"cols['3']\").alias(\"begin\"),\n",
    "               F.expr(\"cols['4']\").alias(\"end\"),\n",
    "               F.expr(\"cols['2']['confidence']\").alias(\"confidence\")).show(50, truncate=100)"
   ]
  },
  {
   "cell_type": "markdown",
   "metadata": {
    "application/vnd.databricks.v1+cell": {
     "cellMetadata": {},
     "inputWidgets": {},
     "nuid": "54f41527-d627-4dd4-9b5b-e823a7b616e0",
     "showTitle": false,
     "title": ""
    },
    "id": "z7iMeSens9XU"
   },
   "source": [
    "Now we will check the NER chunks."
   ]
  },
  {
   "cell_type": "code",
   "execution_count": 0,
   "metadata": {
    "application/vnd.databricks.v1+cell": {
     "cellMetadata": {
      "byteLimit": 2048000,
      "rowLimit": 10000
     },
     "inputWidgets": {},
     "nuid": "4fd2a6d8-ce92-43a9-88dc-fdf689554d64",
     "showTitle": false,
     "title": ""
    },
    "colab": {
     "base_uri": "https://localhost:8080/"
    },
    "executionInfo": {
     "elapsed": 14668,
     "status": "ok",
     "timestamp": 1664898910459,
     "user": {
      "displayName": "muhammet şantaş",
      "userId": "01037434825541536598"
     },
     "user_tz": -180
    },
    "id": "5uBnSe0--_Tn",
    "outputId": "d12d31ad-9ca0-46fa-987d-28a3e2e79c9f"
   },
   "outputs": [
    {
     "output_type": "stream",
     "name": "stdout",
     "output_type": "stream",
     "text": [
      "+------------------------------------------------------------------------------------------------------------------------------------------------+\n|col                                                                                                                                             |\n+------------------------------------------------------------------------------------------------------------------------------------------------+\n|{chunk, 21, 27, Majezik, {entity -> DRUG, sentence -> 0, chunk -> 0, confidence -> 0.64671516}, []}                                             |\n|{chunk, 36, 50, severe headache, {entity -> PROBLEM, sentence -> 0, chunk -> 1, confidence -> 0.55263436}, []}                                  |\n|{chunk, 49, 60, colon cancer, {entity -> PROBLEM, sentence -> 0, chunk -> 0, confidence -> 0.88985014}, []}                                     |\n|{chunk, 0, 11, 27 years old, {entity -> PATIENT_AGE, sentence -> 0, chunk -> 0, confidence -> 0.6943085}, []}                                   |\n|{chunk, 47, 53, Sep 1st, {entity -> ADMISSION_DATE, sentence -> 0, chunk -> 1, confidence -> 0.95646095}, []}                                   |\n|{chunk, 68, 115, a right-sided pleural effusion for thoracentesis, {entity -> PROBLEM, sentence -> 0, chunk -> 2, confidence -> 0.50026613}, []}|\n+------------------------------------------------------------------------------------------------------------------------------------------------+\n\n"
     ]
    }
   ],
   "source": [
    "results.selectExpr(\"explode(ner_chunk)\").show(100, truncate=False)"
   ]
  },
  {
   "cell_type": "code",
   "execution_count": 0,
   "metadata": {
    "application/vnd.databricks.v1+cell": {
     "cellMetadata": {
      "byteLimit": 2048000,
      "rowLimit": 10000
     },
     "inputWidgets": {},
     "nuid": "a255437e-52ae-4630-84a4-826f45478cab",
     "showTitle": false,
     "title": ""
    },
    "colab": {
     "base_uri": "https://localhost:8080/"
    },
    "executionInfo": {
     "elapsed": 14682,
     "status": "ok",
     "timestamp": 1664898925131,
     "user": {
      "displayName": "muhammet şantaş",
      "userId": "01037434825541536598"
     },
     "user_tz": -180
    },
    "id": "uzkwbP21ydAK",
    "outputId": "4b8117c4-b8ae-469b-ca9c-555b20745e08"
   },
   "outputs": [
    {
     "output_type": "stream",
     "name": "stdout",
     "output_type": "stream",
     "text": [
      "+------------------------------------------------+--------------+----------+\n|                                           chunk|     ner_label|confidence|\n+------------------------------------------------+--------------+----------+\n|                                         Majezik|          DRUG|0.64671516|\n|                                 severe headache|       PROBLEM|0.55263436|\n|                                    colon cancer|       PROBLEM|0.88985014|\n|                                    27 years old|   PATIENT_AGE| 0.6943085|\n|                                         Sep 1st|ADMISSION_DATE|0.95646095|\n|a right-sided pleural effusion for thoracentesis|       PROBLEM|0.50026613|\n+------------------------------------------------+--------------+----------+\n\n"
     ]
    }
   ],
   "source": [
    "results.select(F.explode(F.arrays_zip(results.ner_chunk.result,\n",
    "                                      results.ner_chunk.metadata)).alias(\"cols\"))\\\n",
    "       .select(F.expr(\"cols['0']\").alias(\"chunk\"),\n",
    "               F.expr(\"cols['1']['entity']\").alias(\"ner_label\"),\n",
    "               F.expr(\"cols['1']['confidence']\").alias(\"confidence\")).show(50, truncate=100)"
   ]
  },
  {
   "cell_type": "markdown",
   "metadata": {
    "application/vnd.databricks.v1+cell": {
     "cellMetadata": {},
     "inputWidgets": {},
     "nuid": "e5100be4-2ee8-4b00-b042-07b01b7fde05",
     "showTitle": false,
     "title": ""
    },
    "id": "loYjPzwKx5zW"
   },
   "source": [
    "## LightPipelines"
   ]
  },
  {
   "cell_type": "code",
   "execution_count": 0,
   "metadata": {
    "application/vnd.databricks.v1+cell": {
     "cellMetadata": {
      "byteLimit": 2048000,
      "rowLimit": 10000
     },
     "inputWidgets": {},
     "nuid": "ca3fd0a9-1e73-4e1f-9c2a-0dbc066ca188",
     "showTitle": false,
     "title": ""
    },
    "colab": {
     "base_uri": "https://localhost:8080/",
     "height": 180
    },
    "executionInfo": {
     "elapsed": 7824,
     "status": "ok",
     "timestamp": 1664898932930,
     "user": {
      "displayName": "muhammet şantaş",
      "userId": "01037434825541536598"
     },
     "user_tz": -180
    },
    "id": "Z5q0BojoAsu3",
    "outputId": "bc523c93-a851-47d2-fb97-81324023c1ac"
   },
   "outputs": [
    {
     "output_type": "stream",
     "name": "stdout",
     "output_type": "stream",
     "text": [
      "27 years old patient was admitted to clinic on Sep 1st by Dr. X for a right-sided pleural effusion for thoracentesis. \n\n"
     ]
    },
    {
     "output_type": "execute_result",
     "data": {
      "text/html": [
       "<div>\n",
       "<style scoped>\n",
       "    .dataframe tbody tr th:only-of-type {\n",
       "        vertical-align: middle;\n",
       "    }\n",
       "\n",
       "    .dataframe tbody tr th {\n",
       "        vertical-align: top;\n",
       "    }\n",
       "\n",
       "    .dataframe thead th {\n",
       "        text-align: right;\n",
       "    }\n",
       "</style>\n",
       "<table border=\"1\" class=\"dataframe\">\n",
       "  <thead>\n",
       "    <tr style=\"text-align: right;\">\n",
       "      <th></th>\n",
       "      <th>chunks</th>\n",
       "      <th>begin</th>\n",
       "      <th>end</th>\n",
       "      <th>sentence_id</th>\n",
       "      <th>entities</th>\n",
       "    </tr>\n",
       "  </thead>\n",
       "  <tbody>\n",
       "    <tr>\n",
       "      <th>0</th>\n",
       "      <td>27 years old</td>\n",
       "      <td>0</td>\n",
       "      <td>11</td>\n",
       "      <td>0</td>\n",
       "      <td>PATIENT_AGE</td>\n",
       "    </tr>\n",
       "    <tr>\n",
       "      <th>1</th>\n",
       "      <td>Sep 1st</td>\n",
       "      <td>47</td>\n",
       "      <td>53</td>\n",
       "      <td>0</td>\n",
       "      <td>ADMISSION_DATE</td>\n",
       "    </tr>\n",
       "    <tr>\n",
       "      <th>2</th>\n",
       "      <td>a right-sided pleural effusion for thoracentesis</td>\n",
       "      <td>68</td>\n",
       "      <td>115</td>\n",
       "      <td>0</td>\n",
       "      <td>PROBLEM</td>\n",
       "    </tr>\n",
       "  </tbody>\n",
       "</table>\n",
       "</div>"
      ],
      "text/plain": [
       "                                             chunks  begin  end sentence_id        entities\n",
       "0                                      27 years old      0   11           0     PATIENT_AGE\n",
       "1                                           Sep 1st     47   53           0  ADMISSION_DATE\n",
       "2  a right-sided pleural effusion for thoracentesis     68  115           0         PROBLEM"
      ]
     },
     "execution_count": 13,
     "metadata": {},
     "output_type": "execute_result"
    }
   ],
   "source": [
    "# fullAnnotate in LightPipeline\n",
    "print (text_list[-1], \"\\n\")\n",
    "\n",
    "light_model = nlp.LightPipeline(zero_shot_ner_model)\n",
    "light_result = light_model.fullAnnotate(text_list[-1])\n",
    "\n",
    "chunks = []\n",
    "entities = []\n",
    "sentence= []\n",
    "begin = []\n",
    "end = []\n",
    "\n",
    "for n in light_result[0]['ner_chunk']:\n",
    "        \n",
    "    begin.append(n.begin)\n",
    "    end.append(n.end)\n",
    "    chunks.append(n.result)\n",
    "    entities.append(n.metadata['entity']) \n",
    "    sentence.append(n.metadata['sentence'])\n",
    "    \n",
    "    \n",
    "\n",
    "df_clinical = pd.DataFrame({'chunks':chunks, 'begin': begin, 'end':end, \n",
    "                   'sentence_id':sentence, 'entities':entities})\n",
    "\n",
    "df_clinical.head(20)"
   ]
  },
  {
   "cell_type": "code",
   "execution_count": 0,
   "metadata": {
    "application/vnd.databricks.v1+cell": {
     "cellMetadata": {
      "byteLimit": 2048000,
      "rowLimit": 10000
     },
     "inputWidgets": {},
     "nuid": "6fc7d6f9-df86-435e-8ce1-7b454a5360a9",
     "showTitle": false,
     "title": ""
    },
    "colab": {
     "base_uri": "https://localhost:8080/"
    },
    "executionInfo": {
     "elapsed": 12,
     "status": "ok",
     "timestamp": 1664898932931,
     "user": {
      "displayName": "muhammet şantaş",
      "userId": "01037434825541536598"
     },
     "user_tz": -180
    },
    "id": "-r7yfZitmbPT",
    "outputId": "02a0b8f5-7039-4df5-a165-a3c04030f9e1"
   },
   "outputs": [
    {
     "output_type": "execute_result",
     "data": {
      "text/plain": [
       "{'zero_shot_ner': [Annotation(named_entity, 0, 1, B-PATIENT_AGE, {'sentence': '0', 'word': '27', 'confidence': '0.6943085', 'question': 'How old is the patient?'}, []),\n",
       "  Annotation(named_entity, 3, 7, I-PATIENT_AGE, {'sentence': '0', 'word': 'years', 'confidence': '0.6943085', 'question': 'How old is the patient?'}, []),\n",
       "  Annotation(named_entity, 9, 11, I-PATIENT_AGE, {'sentence': '0', 'word': 'old', 'confidence': '0.6943085', 'question': 'How old is the patient?'}, []),\n",
       "  Annotation(named_entity, 13, 19, O, {'sentence': '0', 'word': 'patient'}, []),\n",
       "  Annotation(named_entity, 21, 23, O, {'sentence': '0', 'word': 'was'}, []),\n",
       "  Annotation(named_entity, 25, 32, O, {'sentence': '0', 'word': 'admitted'}, []),\n",
       "  Annotation(named_entity, 34, 35, O, {'sentence': '0', 'word': 'to'}, []),\n",
       "  Annotation(named_entity, 37, 42, O, {'sentence': '0', 'word': 'clinic'}, []),\n",
       "  Annotation(named_entity, 44, 45, O, {'sentence': '0', 'word': 'on'}, []),\n",
       "  Annotation(named_entity, 47, 49, B-ADMISSION_DATE, {'sentence': '0', 'word': 'Sep', 'confidence': '0.95646095', 'question': 'When did patient admitted to a clinic?'}, []),\n",
       "  Annotation(named_entity, 51, 53, I-ADMISSION_DATE, {'sentence': '0', 'word': '1st', 'confidence': '0.95646095', 'question': 'When did patient admitted to a clinic?'}, []),\n",
       "  Annotation(named_entity, 55, 56, O, {'sentence': '0', 'word': 'by'}, []),\n",
       "  Annotation(named_entity, 58, 59, O, {'sentence': '0', 'word': 'Dr'}, []),\n",
       "  Annotation(named_entity, 60, 60, O, {'sentence': '0', 'word': '.'}, []),\n",
       "  Annotation(named_entity, 62, 62, O, {'sentence': '0', 'word': 'X'}, []),\n",
       "  Annotation(named_entity, 64, 66, O, {'sentence': '0', 'word': 'for'}, []),\n",
       "  Annotation(named_entity, 68, 68, B-PROBLEM, {'sentence': '0', 'word': 'a', 'confidence': '0.50026613', 'question': 'What was the reason that the patient is admitted to the clinic?'}, []),\n",
       "  Annotation(named_entity, 70, 80, I-PROBLEM, {'sentence': '0', 'word': 'right-sided', 'confidence': '0.50026613', 'question': 'What was the reason that the patient is admitted to the clinic?'}, []),\n",
       "  Annotation(named_entity, 82, 88, I-PROBLEM, {'sentence': '0', 'word': 'pleural', 'confidence': '0.50026613', 'question': 'What was the reason that the patient is admitted to the clinic?'}, []),\n",
       "  Annotation(named_entity, 90, 97, I-PROBLEM, {'sentence': '0', 'word': 'effusion', 'confidence': '0.50026613', 'question': 'What was the reason that the patient is admitted to the clinic?'}, []),\n",
       "  Annotation(named_entity, 99, 101, I-PROBLEM, {'sentence': '0', 'word': 'for', 'confidence': '0.50026613', 'question': 'What was the reason that the patient is admitted to the clinic?'}, []),\n",
       "  Annotation(named_entity, 103, 115, I-PROBLEM, {'sentence': '0', 'word': 'thoracentesis', 'confidence': '0.50026613', 'question': 'What was the reason that the patient is admitted to the clinic?'}, []),\n",
       "  Annotation(named_entity, 116, 116, O, {'sentence': '0', 'word': '.'}, [])],\n",
       " 'document': [Annotation(document, 0, 116, 27 years old patient was admitted to clinic on Sep 1st by Dr. X for a right-sided pleural effusion for thoracentesis., {}, [])],\n",
       " 'ner_chunk': [Annotation(chunk, 0, 11, 27 years old, {'entity': 'PATIENT_AGE', 'sentence': '0', 'chunk': '0', 'confidence': '0.6943085'}, []),\n",
       "  Annotation(chunk, 47, 53, Sep 1st, {'entity': 'ADMISSION_DATE', 'sentence': '0', 'chunk': '1', 'confidence': '0.95646095'}, []),\n",
       "  Annotation(chunk, 68, 115, a right-sided pleural effusion for thoracentesis, {'entity': 'PROBLEM', 'sentence': '0', 'chunk': '2', 'confidence': '0.50026613'}, [])],\n",
       " 'token': [Annotation(token, 0, 1, 27, {'sentence': '0'}, []),\n",
       "  Annotation(token, 3, 7, years, {'sentence': '0'}, []),\n",
       "  Annotation(token, 9, 11, old, {'sentence': '0'}, []),\n",
       "  Annotation(token, 13, 19, patient, {'sentence': '0'}, []),\n",
       "  Annotation(token, 21, 23, was, {'sentence': '0'}, []),\n",
       "  Annotation(token, 25, 32, admitted, {'sentence': '0'}, []),\n",
       "  Annotation(token, 34, 35, to, {'sentence': '0'}, []),\n",
       "  Annotation(token, 37, 42, clinic, {'sentence': '0'}, []),\n",
       "  Annotation(token, 44, 45, on, {'sentence': '0'}, []),\n",
       "  Annotation(token, 47, 49, Sep, {'sentence': '0'}, []),\n",
       "  Annotation(token, 51, 53, 1st, {'sentence': '0'}, []),\n",
       "  Annotation(token, 55, 56, by, {'sentence': '0'}, []),\n",
       "  Annotation(token, 58, 59, Dr, {'sentence': '0'}, []),\n",
       "  Annotation(token, 60, 60, ., {'sentence': '0'}, []),\n",
       "  Annotation(token, 62, 62, X, {'sentence': '0'}, []),\n",
       "  Annotation(token, 64, 66, for, {'sentence': '0'}, []),\n",
       "  Annotation(token, 68, 68, a, {'sentence': '0'}, []),\n",
       "  Annotation(token, 70, 80, right-sided, {'sentence': '0'}, []),\n",
       "  Annotation(token, 82, 88, pleural, {'sentence': '0'}, []),\n",
       "  Annotation(token, 90, 97, effusion, {'sentence': '0'}, []),\n",
       "  Annotation(token, 99, 101, for, {'sentence': '0'}, []),\n",
       "  Annotation(token, 103, 115, thoracentesis, {'sentence': '0'}, []),\n",
       "  Annotation(token, 116, 116, ., {'sentence': '0'}, [])],\n",
       " 'sentence': [Annotation(document, 0, 116, 27 years old patient was admitted to clinic on Sep 1st by Dr. X for a right-sided pleural effusion for thoracentesis., {'sentence': '0'}, [])]}"
      ]
     },
     "execution_count": 14,
     "metadata": {},
     "output_type": "execute_result"
    }
   ],
   "source": [
    "light_result[0]"
   ]
  },
  {
   "cell_type": "markdown",
   "metadata": {
    "application/vnd.databricks.v1+cell": {
     "cellMetadata": {},
     "inputWidgets": {},
     "nuid": "ec753c28-e056-4e75-ab8b-568addf6ba1a",
     "showTitle": false,
     "title": ""
    },
    "id": "iQ1KUzkryBvz"
   },
   "source": [
    "### NER Visualizer\n",
    "\n",
    "For saving the visualization result as html, provide `save_path` parameter in the display function."
   ]
  },
  {
   "cell_type": "code",
   "execution_count": 0,
   "metadata": {
    "application/vnd.databricks.v1+cell": {
     "cellMetadata": {
      "byteLimit": 2048000,
      "rowLimit": 10000
     },
     "inputWidgets": {},
     "nuid": "ae7e7bf3-d334-40c9-8ec4-64f6d94999ec",
     "showTitle": false,
     "title": ""
    },
    "colab": {
     "base_uri": "https://localhost:8080/",
     "height": 230
    },
    "executionInfo": {
     "elapsed": 17639,
     "status": "ok",
     "timestamp": 1664898950562,
     "user": {
      "displayName": "muhammet şantaş",
      "userId": "01037434825541536598"
     },
     "user_tz": -180
    },
    "id": "Jh1zoknFybBO",
    "outputId": "5be0f868-a21d-4b3d-b79c-acaf89ac8d9c"
   },
   "outputs": [
    {
     "output_type": "display_data",
     "data": {
      "text/html": [
       "\n",
       "<style>\n",
       "    @import url('https://fonts.googleapis.com/css2?family=Montserrat:wght@300;400;500;600;700&display=swap');\n",
       "    @import url('https://fonts.googleapis.com/css2?family=Vistol Regular:wght@300;400;500;600;700&display=swap');\n",
       "    \n",
       "    .spark-nlp-display-scroll-entities {\n",
       "        border: 1px solid #E7EDF0;\n",
       "        border-radius: 3px;\n",
       "        text-align: justify;\n",
       "        \n",
       "    }\n",
       "    .spark-nlp-display-scroll-entities span {  \n",
       "        font-size: 14px;\n",
       "        line-height: 24px;\n",
       "        color: #536B76;\n",
       "        font-family: 'Montserrat', sans-serif !important;\n",
       "    }\n",
       "    \n",
       "    .spark-nlp-display-entity-wrapper{\n",
       "    \n",
       "        display: inline-grid;\n",
       "        text-align: center;\n",
       "        border-radius: 4px;\n",
       "        margin: 0 2px 5px 2px;\n",
       "        padding: 1px\n",
       "    }\n",
       "    .spark-nlp-display-entity-name{\n",
       "        font-size: 14px;\n",
       "        line-height: 24px;\n",
       "        font-family: 'Montserrat', sans-serif !important;\n",
       "        \n",
       "        background: #f1f2f3;\n",
       "        border-width: medium;\n",
       "        text-align: center;\n",
       "        \n",
       "        font-weight: 400;\n",
       "        \n",
       "        border-radius: 5px;\n",
       "        padding: 2px 5px;\n",
       "        display: block;\n",
       "        margin: 3px 2px;\n",
       "    \n",
       "    }\n",
       "    .spark-nlp-display-entity-type{\n",
       "        font-size: 14px;\n",
       "        line-height: 24px;\n",
       "        color: #ffffff;\n",
       "        font-family: 'Montserrat', sans-serif !important;\n",
       "        \n",
       "        text-transform: uppercase;\n",
       "        \n",
       "        font-weight: 500;\n",
       "\n",
       "        display: block;\n",
       "        padding: 3px 5px;\n",
       "    }\n",
       "    \n",
       "    .spark-nlp-display-entity-resolution{\n",
       "        font-size: 14px;\n",
       "        line-height: 24px;\n",
       "        color: #ffffff;\n",
       "        font-family: 'Vistol Regular', sans-serif !important;\n",
       "        \n",
       "        text-transform: uppercase;\n",
       "        \n",
       "        font-weight: 500;\n",
       "\n",
       "        display: block;\n",
       "        padding: 3px 5px;\n",
       "    }\n",
       "    \n",
       "    .spark-nlp-display-others{\n",
       "        font-size: 14px;\n",
       "        line-height: 24px;\n",
       "        font-family: 'Montserrat', sans-serif !important;\n",
       "        \n",
       "        font-weight: 400;\n",
       "    }\n",
       "\n",
       "</style>\n",
       " <span class=\"spark-nlp-display-others\" style=\"background-color: white\">The doctor pescribed </span><span class=\"spark-nlp-display-entity-wrapper\" style=\"background-color: #8B668B\"><span class=\"spark-nlp-display-entity-name\">Majezik </span><span class=\"spark-nlp-display-entity-type\">DRUG</span></span><span class=\"spark-nlp-display-others\" style=\"background-color: white\"> for my </span><span class=\"spark-nlp-display-entity-wrapper\" style=\"background-color: #800080\"><span class=\"spark-nlp-display-entity-name\">severe headache </span><span class=\"spark-nlp-display-entity-type\">PROBLEM</span></span><span class=\"spark-nlp-display-others\" style=\"background-color: white\">.</span></div>"
      ]
     },
     "metadata": {},
     "output_type": "display_data"
    },
    {
     "output_type": "display_data",
     "data": {
      "text/html": [
       "\n",
       "<style>\n",
       "    @import url('https://fonts.googleapis.com/css2?family=Montserrat:wght@300;400;500;600;700&display=swap');\n",
       "    @import url('https://fonts.googleapis.com/css2?family=Vistol Regular:wght@300;400;500;600;700&display=swap');\n",
       "    \n",
       "    .spark-nlp-display-scroll-entities {\n",
       "        border: 1px solid #E7EDF0;\n",
       "        border-radius: 3px;\n",
       "        text-align: justify;\n",
       "        \n",
       "    }\n",
       "    .spark-nlp-display-scroll-entities span {  \n",
       "        font-size: 14px;\n",
       "        line-height: 24px;\n",
       "        color: #536B76;\n",
       "        font-family: 'Montserrat', sans-serif !important;\n",
       "    }\n",
       "    \n",
       "    .spark-nlp-display-entity-wrapper{\n",
       "    \n",
       "        display: inline-grid;\n",
       "        text-align: center;\n",
       "        border-radius: 4px;\n",
       "        margin: 0 2px 5px 2px;\n",
       "        padding: 1px\n",
       "    }\n",
       "    .spark-nlp-display-entity-name{\n",
       "        font-size: 14px;\n",
       "        line-height: 24px;\n",
       "        font-family: 'Montserrat', sans-serif !important;\n",
       "        \n",
       "        background: #f1f2f3;\n",
       "        border-width: medium;\n",
       "        text-align: center;\n",
       "        \n",
       "        font-weight: 400;\n",
       "        \n",
       "        border-radius: 5px;\n",
       "        padding: 2px 5px;\n",
       "        display: block;\n",
       "        margin: 3px 2px;\n",
       "    \n",
       "    }\n",
       "    .spark-nlp-display-entity-type{\n",
       "        font-size: 14px;\n",
       "        line-height: 24px;\n",
       "        color: #ffffff;\n",
       "        font-family: 'Montserrat', sans-serif !important;\n",
       "        \n",
       "        text-transform: uppercase;\n",
       "        \n",
       "        font-weight: 500;\n",
       "\n",
       "        display: block;\n",
       "        padding: 3px 5px;\n",
       "    }\n",
       "    \n",
       "    .spark-nlp-display-entity-resolution{\n",
       "        font-size: 14px;\n",
       "        line-height: 24px;\n",
       "        color: #ffffff;\n",
       "        font-family: 'Vistol Regular', sans-serif !important;\n",
       "        \n",
       "        text-transform: uppercase;\n",
       "        \n",
       "        font-weight: 500;\n",
       "\n",
       "        display: block;\n",
       "        padding: 3px 5px;\n",
       "    }\n",
       "    \n",
       "    .spark-nlp-display-others{\n",
       "        font-size: 14px;\n",
       "        line-height: 24px;\n",
       "        font-family: 'Montserrat', sans-serif !important;\n",
       "        \n",
       "        font-weight: 400;\n",
       "    }\n",
       "\n",
       "</style>\n",
       " <span class=\"spark-nlp-display-others\" style=\"background-color: white\">The patient was admitted to the hospital for his </span><span class=\"spark-nlp-display-entity-wrapper\" style=\"background-color: #800080\"><span class=\"spark-nlp-display-entity-name\">colon cancer </span><span class=\"spark-nlp-display-entity-type\">PROBLEM</span></span><span class=\"spark-nlp-display-others\" style=\"background-color: white\">.</span></div>"
      ]
     },
     "metadata": {},
     "output_type": "display_data"
    },
    {
     "output_type": "display_data",
     "data": {
      "text/html": [
       "\n",
       "<style>\n",
       "    @import url('https://fonts.googleapis.com/css2?family=Montserrat:wght@300;400;500;600;700&display=swap');\n",
       "    @import url('https://fonts.googleapis.com/css2?family=Vistol Regular:wght@300;400;500;600;700&display=swap');\n",
       "    \n",
       "    .spark-nlp-display-scroll-entities {\n",
       "        border: 1px solid #E7EDF0;\n",
       "        border-radius: 3px;\n",
       "        text-align: justify;\n",
       "        \n",
       "    }\n",
       "    .spark-nlp-display-scroll-entities span {  \n",
       "        font-size: 14px;\n",
       "        line-height: 24px;\n",
       "        color: #536B76;\n",
       "        font-family: 'Montserrat', sans-serif !important;\n",
       "    }\n",
       "    \n",
       "    .spark-nlp-display-entity-wrapper{\n",
       "    \n",
       "        display: inline-grid;\n",
       "        text-align: center;\n",
       "        border-radius: 4px;\n",
       "        margin: 0 2px 5px 2px;\n",
       "        padding: 1px\n",
       "    }\n",
       "    .spark-nlp-display-entity-name{\n",
       "        font-size: 14px;\n",
       "        line-height: 24px;\n",
       "        font-family: 'Montserrat', sans-serif !important;\n",
       "        \n",
       "        background: #f1f2f3;\n",
       "        border-width: medium;\n",
       "        text-align: center;\n",
       "        \n",
       "        font-weight: 400;\n",
       "        \n",
       "        border-radius: 5px;\n",
       "        padding: 2px 5px;\n",
       "        display: block;\n",
       "        margin: 3px 2px;\n",
       "    \n",
       "    }\n",
       "    .spark-nlp-display-entity-type{\n",
       "        font-size: 14px;\n",
       "        line-height: 24px;\n",
       "        color: #ffffff;\n",
       "        font-family: 'Montserrat', sans-serif !important;\n",
       "        \n",
       "        text-transform: uppercase;\n",
       "        \n",
       "        font-weight: 500;\n",
       "\n",
       "        display: block;\n",
       "        padding: 3px 5px;\n",
       "    }\n",
       "    \n",
       "    .spark-nlp-display-entity-resolution{\n",
       "        font-size: 14px;\n",
       "        line-height: 24px;\n",
       "        color: #ffffff;\n",
       "        font-family: 'Vistol Regular', sans-serif !important;\n",
       "        \n",
       "        text-transform: uppercase;\n",
       "        \n",
       "        font-weight: 500;\n",
       "\n",
       "        display: block;\n",
       "        padding: 3px 5px;\n",
       "    }\n",
       "    \n",
       "    .spark-nlp-display-others{\n",
       "        font-size: 14px;\n",
       "        line-height: 24px;\n",
       "        font-family: 'Montserrat', sans-serif !important;\n",
       "        \n",
       "        font-weight: 400;\n",
       "    }\n",
       "\n",
       "</style>\n",
       " <span class=\"spark-nlp-display-entity-wrapper\" style=\"background-color: #9461BB\"><span class=\"spark-nlp-display-entity-name\">27 years old </span><span class=\"spark-nlp-display-entity-type\">PATIENT_AGE</span></span><span class=\"spark-nlp-display-others\" style=\"background-color: white\"> patient was admitted to clinic on </span><span class=\"spark-nlp-display-entity-wrapper\" style=\"background-color: #8F144A\"><span class=\"spark-nlp-display-entity-name\">Sep 1st </span><span class=\"spark-nlp-display-entity-type\">ADMISSION_DATE</span></span><span class=\"spark-nlp-display-others\" style=\"background-color: white\"> by Dr. X for </span><span class=\"spark-nlp-display-entity-wrapper\" style=\"background-color: #800080\"><span class=\"spark-nlp-display-entity-name\">a right-sided pleural effusion for thoracentesis </span><span class=\"spark-nlp-display-entity-type\">PROBLEM</span></span><span class=\"spark-nlp-display-others\" style=\"background-color: white\">.</span></div>"
      ]
     },
     "metadata": {},
     "output_type": "display_data"
    }
   ],
   "source": [
    "visualiser = nlp.viz.NerVisualizer()\n",
    "\n",
    "for i in text_list:\n",
    "\n",
    "    light_result = light_model.fullAnnotate(i)\n",
    "    ner_vis = visualiser.display(light_result[0], label_col='ner_chunk', document_col='document', return_html=True)\n",
    "\n",
    "    # Change color of an entity label\n",
    "    # visualiser.set_label_colors({'PROBLEM':'#008080', 'DRUG':'#800080', 'PATIENT_AGE':'#808080'})\n",
    "    # ner_vis = visualiser.display(light_result[0], label_col='ner_chunk', return_html=True)\n",
    "\n",
    "\n",
    "    # Set label filter\n",
    "    # ner_vis = visualiser.display(light_result[0], label_col='ner_chunk', document_col='document',labels=['PROBLEM'], return_html=True)\n",
    "    \n",
    "    displayHTML(ner_vis)"
   ]
  },
  {
   "cell_type": "markdown",
   "metadata": {
    "application/vnd.databricks.v1+cell": {
     "cellMetadata": {},
     "inputWidgets": {},
     "nuid": "9e612ce3-910a-476b-b474-f018adb13461",
     "showTitle": false,
     "title": ""
    },
    "id": "v4usFfBpim8c"
   },
   "source": [
    "# Save the Model and Load from Disc\n",
    "\n",
    "Now we will save the Zero-Shot NER model and then we will be able to use this model without definitions. So our model will have the same labels that we defined before."
   ]
  },
  {
   "cell_type": "code",
   "execution_count": 0,
   "metadata": {
    "application/vnd.databricks.v1+cell": {
     "cellMetadata": {
      "byteLimit": 2048000,
      "rowLimit": 10000
     },
     "inputWidgets": {},
     "nuid": "bb9d2e0c-a7d3-4d1c-a56b-ca59734416bc",
     "showTitle": false,
     "title": ""
    },
    "executionInfo": {
     "elapsed": 9894,
     "status": "ok",
     "timestamp": 1664898960424,
     "user": {
      "displayName": "muhammet şantaş",
      "userId": "01037434825541536598"
     },
     "user_tz": -180
    },
    "id": "aPxRlyrxjFEr"
   },
   "outputs": [],
   "source": [
    "# save model\n",
    "\n",
    "zero_shot_ner.write().overwrite().save(\"dbfs:/databricks/driver/zero_shot_ner_model\")"
   ]
  },
  {
   "cell_type": "code",
   "execution_count": 0,
   "metadata": {
    "application/vnd.databricks.v1+cell": {
     "cellMetadata": {
      "byteLimit": 2048000,
      "rowLimit": 10000
     },
     "inputWidgets": {},
     "nuid": "07e41315-7d78-4b41-aae5-be6cee1bcf74",
     "showTitle": false,
     "title": ""
    },
    "executionInfo": {
     "elapsed": 13364,
     "status": "ok",
     "timestamp": 1664898973761,
     "user": {
      "displayName": "muhammet şantaş",
      "userId": "01037434825541536598"
     },
     "user_tz": -180
    },
    "id": "m7bUl8gHjTR9"
   },
   "outputs": [],
   "source": [
    "# load from disc and create a new pipeline\n",
    "\n",
    "zero_shot_ner_local = medical.ZeroShotNerModel.load(\"dbfs:/databricks/driver/zero_shot_ner_model\")\\\n",
    "    .setInputCols([\"sentence\", \"token\"])\\\n",
    "    .setOutputCol(\"zero_shot_ner\")\n",
    "\n",
    "ner_converter_local = nlp.NerConverter()\\\n",
    "    .setInputCols([\"sentence\", \"token\", \"zero_shot_ner\"])\\\n",
    "    .setOutputCol(\"ner_chunk\")\\\n",
    "\n",
    "pipeline_local = nlp.Pipeline(stages = [\n",
    "    documentAssembler, \n",
    "    sentenceDetector, \n",
    "    tokenizer, \n",
    "    zero_shot_ner_local, \n",
    "    ner_converter_local])\n",
    "\n",
    "zero_shot_ner_model_local = pipeline_local.fit(spark.createDataFrame([[\"\"]]).toDF(\"text\"))"
   ]
  },
  {
   "cell_type": "code",
   "execution_count": 0,
   "metadata": {
    "application/vnd.databricks.v1+cell": {
     "cellMetadata": {
      "byteLimit": 2048000,
      "rowLimit": 10000
     },
     "inputWidgets": {},
     "nuid": "1320e72b-43fb-4cdf-84ae-b5975a319f07",
     "showTitle": false,
     "title": ""
    },
    "colab": {
     "base_uri": "https://localhost:8080/"
    },
    "executionInfo": {
     "elapsed": 17466,
     "status": "ok",
     "timestamp": 1664898991194,
     "user": {
      "displayName": "muhammet şantaş",
      "userId": "01037434825541536598"
     },
     "user_tz": -180
    },
    "id": "Y37SgXCUj05u",
    "outputId": "c2eb50b9-640e-4dd8-fe7b-3f00807bab89"
   },
   "outputs": [
    {
     "output_type": "stream",
     "name": "stdout",
     "output_type": "stream",
     "text": [
      "+------------------------------------------------+--------------+----------+\n|                                           chunk|     ner_label|confidence|\n+------------------------------------------------+--------------+----------+\n|                                         Majezik|          DRUG|0.64671516|\n|                                 severe headache|       PROBLEM|0.55263436|\n|                                    colon cancer|       PROBLEM|0.88985014|\n|                                    27 years old|   PATIENT_AGE| 0.6943085|\n|                                         Sep 1st|ADMISSION_DATE|0.95646095|\n|a right-sided pleural effusion for thoracentesis|       PROBLEM|0.50026613|\n+------------------------------------------------+--------------+----------+\n\n"
     ]
    }
   ],
   "source": [
    "# check the results\n",
    "\n",
    "local_results = zero_shot_ner_model_local.transform(data)\n",
    "\n",
    "local_results.select(F.explode(F.arrays_zip(local_results.ner_chunk.result,\n",
    "                                            local_results.ner_chunk.metadata)).alias(\"cols\"))\\\n",
    "             .select(F.expr(\"cols['0']\").alias(\"chunk\"),\n",
    "                     F.expr(\"cols['1']['entity']\").alias(\"ner_label\"),\n",
    "                     F.expr(\"cols['1']['confidence']\").alias(\"confidence\")).show(50, truncate=100)"
   ]
  },
  {
   "cell_type": "markdown",
   "metadata": {
    "application/vnd.databricks.v1+cell": {
     "cellMetadata": {},
     "inputWidgets": {},
     "nuid": "f5964ce5-183d-4cf9-bc2f-cd0af14a5ab1",
     "showTitle": false,
     "title": ""
    }
   },
   "source": [
    "# NER Question Generator\n",
    "\n",
    "`NerQuestionGenerator` annotator helps you build questions on the fly using 2 entities from different labels (preferably a subject and a verb). For example, let's suppose you have an NER model, able to detect `PATIENT`and `ADMISSION` in the following text:\n",
    "\n",
    "`John Smith was admitted Sep 3rd to Mayo Clinic`\n",
    "- PATIENT: `John Smith`\n",
    "- ADMISSION: `was admitted`\n",
    "\n",
    "You can add the following annotator to construct questions using PATIENT and ADMISSION:\n",
    "\n",
    "```python\n",
    "# setEntities1 says which entity from NER goes first in the question\n",
    "# setEntities2 says which entity from NER goes second in the question\n",
    "# setQuestionMark to True adds a '?' at the end of the sentence (after entity 2)\n",
    "# To sum up, the pattern is     [QUESTIONPRONOUN] [ENTITY1] [ENTITY2] [QUESTIONMARK]\n",
    "\n",
    "qagenerator = NerQuestionGenerator()\\\n",
    "  .setInputCols([\"ner_chunk\"])\\\n",
    "  .setOutputCol(\"question\")\\\n",
    "  .setQuestionMark(True)\\\n",
    "  .setQuestionPronoun(\"When\")\\\n",
    "  .setStrategyType(\"Paired\")\\\n",
    "  .setEntities1([\"PATIENT\"])\\\n",
    "  .setEntities2([\"ADMISSION\"])\n",
    "```\n",
    "In the column `question` you will find: `When John Smith was admitted?`. Likewise you could have `Where` or any other question pronoun you may need.\n",
    "\n",
    "You can use those questions in a QuestionAnsweringModel or ZeroShotNER (any model which requires a question as an input. Let's see the case of QA.\n",
    "\n",
    "```python\n",
    "qa = BertForQuestionAnswering.pretrained(\"bert_qa_spanbert_finetuned_squadv1\",\"en\") \\\n",
    "  .setInputCols([\"question\", \"document\"]) \\\n",
    "  .setOutputCol(\"answer\") \\\n",
    "  .setCaseSensitive(True)\n",
    "```\n",
    "The result will be:\n",
    "\n",
    "```bash\n",
    "+--------------------------------------------------------+-----------------------------+\n",
    "|question                                                |answer                       |\n",
    "+--------------------------------------------------------+-----------------------------+\n",
    "|[{document, 0, 25, When John Smith was admitted ? ...}] |[{chunk, 0, 8, Sep 3rd ...}] |\n",
    "+--------------------------------------------------------+-----------------------------+\n",
    "```\n",
    "Strategies:\n",
    "- Paired: First chunk of Entity 1 will be grouped with first chunk of Entity 2, second with second, third with third, etc (one-vs-one)\n",
    "- Combined: A more flexible strategy to be used in case the number of chukns in Entity 1 is not aligned with the number of chunks in Entityt 2. The first chunk from Entity 1 will be grouped with all chunks in Entity 2, the second chunk in Entity 1 with again be grouped with all the chunks in Entity 2, etc (one-vs-all)."
   ]
  }
 ],
 "metadata": {
  "application/vnd.databricks.v1+notebook": {
   "dashboards": [],
   "language": "python",
   "notebookMetadata": {
    "pythonIndentUnit": 2
   },
   "notebookName": "01.4.ZeroShot_Clinical_NER",
   "widgets": {}
  },
  "colab": {
   "collapsed_sections": [],
   "machine_shape": "hm",
   "provenance": []
  },
  "kernelspec": {
   "display_name": "Python 3 (ipykernel)",
   "language": "python",
   "name": "python3"
  },
  "language_info": {
   "codemirror_mode": {
    "name": "ipython",
    "version": 3
   },
   "file_extension": ".py",
   "mimetype": "text/x-python",
   "name": "python",
   "nbconvert_exporter": "python",
   "pygments_lexer": "ipython3",
   "version": "3.9.1"
  }
 },
 "nbformat": 4,
 "nbformat_minor": 0
}

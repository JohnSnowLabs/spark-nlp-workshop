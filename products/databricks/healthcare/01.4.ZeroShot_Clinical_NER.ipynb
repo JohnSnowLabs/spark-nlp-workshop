{
 "cells": [
  {
   "cell_type": "markdown",
   "metadata": {
    "application/vnd.databricks.v1+cell": {
     "cellMetadata": {
      "byteLimit": 2048000,
      "rowLimit": 10000
     },
     "inputWidgets": {},
     "nuid": "144f03f1-a290-4770-bef7-425bbaa22522",
     "showTitle": false,
     "tableResultSettingsMap": {},
     "title": ""
    },
    "id": "I08sFJYCxR0Z"
   },
   "source": [
    "![JohnSnowLabs](https://nlp.johnsnowlabs.com/assets/images/logo.png)"
   ]
  },
  {
   "cell_type": "markdown",
   "metadata": {
    "application/vnd.databricks.v1+cell": {
     "cellMetadata": {
      "byteLimit": 2048000,
      "rowLimit": 10000
     },
     "inputWidgets": {},
     "nuid": "67bd92d3-1f14-4f38-b5c1-cf20b626dfbe",
     "showTitle": false,
     "tableResultSettingsMap": {},
     "title": ""
    },
    "id": "Niy3mZAjoayg"
   },
   "source": [
    "#  Zero-Shot Named Entity Recognition in Spark NLP\n",
    "\n",
    "## 📌 **Healthcare NLP for Data Scientists Course**\n",
    "\n",
    "If you are not familiar with the components in this notebook, you can check [Healthcare NLP for Data Scientists Udemy Course](https://www.udemy.com/course/healthcare-nlp-for-data-scientists/) and the [MOOC Notebooks](https://github.com/JohnSnowLabs/spark-nlp-workshop/tree/master/Spark_NLP_Udemy_MOOC/Healthcare_NLP) for each components."
   ]
  },
  {
   "cell_type": "code",
   "execution_count": 0,
   "metadata": {
    "application/vnd.databricks.v1+cell": {
     "cellMetadata": {
      "byteLimit": 2048000,
      "rowLimit": 10000
     },
     "inputWidgets": {},
     "nuid": "e813bb34-59d4-485f-bd5e-d7ab13fd5269",
     "showTitle": false,
     "tableResultSettingsMap": {},
     "title": ""
    }
   },
   "outputs": [],
   "source": [
    "from johnsnowlabs import nlp, medical\n",
    "nlp.settings.enforce_versions=False\n",
    "\n",
    "#We have already initiated the session, and the nlp.start() function is being utilized to update the credentials.\n",
    "nlp.start()"
   ]
  },
  {
   "cell_type": "code",
   "execution_count": 0,
   "metadata": {
    "application/vnd.databricks.v1+cell": {
     "cellMetadata": {
      "byteLimit": 2048000,
      "rowLimit": 10000
     },
     "inputWidgets": {},
     "nuid": "d1b20cde-318a-416c-a7a2-84dd143de8eb",
     "showTitle": false,
     "tableResultSettingsMap": {},
     "title": ""
    }
   },
   "outputs": [
    {
     "output_type": "execute_result",
     "data": {
      "text/html": [
       "\n",
       "            <div>\n",
       "                <p><b>SparkSession - hive</b></p>\n",
       "                \n",
       "        <div>\n",
       "            <p><b>SparkContext</b></p>\n",
       "\n",
       "            <p><a href=\"/?o=7956323724731612#setting/sparkui/1112-201629-lg699ln8/driver-8339070609118161513\">Spark UI</a></p>\n",
       "\n",
       "            <dl>\n",
       "              <dt>Version</dt>\n",
       "                <dd><code>v3.4.1</code></dd>\n",
       "              <dt>Master</dt>\n",
       "                <dd><code>spark://10.139.64.10:7077</code></dd>\n",
       "              <dt>AppName</dt>\n",
       "                <dd><code>Databricks Shell</code></dd>\n",
       "            </dl>\n",
       "        </div>\n",
       "        \n",
       "            </div>\n",
       "        "
      ],
      "text/plain": [
       "<pyspark.sql.session.SparkSession at 0x7f196c2f45b0>"
      ]
     },
     "execution_count": 2,
     "metadata": {},
     "output_type": "execute_result"
    }
   ],
   "source": [
    "from pyspark.sql import DataFrame\n",
    "import pyspark.sql.functions as F\n",
    "import pyspark.sql.types as T\n",
    "import pyspark.sql as SQL\n",
    "import sparknlp_jsl\n",
    "\n",
    "import os\n",
    "import json\n",
    "import string\n",
    "import numpy as np\n",
    "import pandas as pd\n",
    "\n",
    "from pyspark.ml import Pipeline, PipelineModel\n",
    "\n",
    "pd.set_option('max_colwidth', 100)\n",
    "pd.set_option('display.max_columns', 100)  \n",
    "pd.set_option('display.expand_frame_repr', False)\n",
    "\n",
    "spark"
   ]
  },
  {
   "cell_type": "markdown",
   "metadata": {
    "application/vnd.databricks.v1+cell": {
     "cellMetadata": {},
     "inputWidgets": {},
     "nuid": "0f15b4f1-dd1d-4811-b1cd-7bd27d3826c2",
     "showTitle": false,
     "tableResultSettingsMap": {},
     "title": ""
    }
   },
   "source": [
    "# 📍 Pretrained Zero-Shot NER\n",
    "\n",
    "\n",
    "📚 `Pretrained Zero-shot Named Entity Recognition (NER)` makes it easy to identify specific entities in text without needing pre-labeled datasets. It uses advanced pre-trained language models to recognize entities in different fields and languages, saving time and effort.\n",
    "\n",
    "📚 This method is flexible, letting you define your own entity labels instead of relying on a fixed set of examples. For the best results, it’s helpful to choose labels similar to the provided examples, as they guide the model’s understanding.\n",
    "\n",
    "📚 In this notebook, you’ll see how to use `Pretrained Zero-shot NER` in Spark NLP to extract valuable information from your data quickly and easily."
   ]
  },
  {
   "cell_type": "markdown",
   "metadata": {
    "application/vnd.databricks.v1+cell": {
     "cellMetadata": {},
     "inputWidgets": {},
     "nuid": "3e721af0-cbea-42df-9e53-f0d9d660e327",
     "showTitle": false,
     "tableResultSettingsMap": {},
     "title": ""
    }
   },
   "source": [
    "- 🪅 **Pretrained Zero-Shot Named Entity Recognition Models**\n",
    "\n",
    "| Index | Model | Predicted Entities |\n",
    "|------:|:------|:-------------------|\n",
    "| 1 | [zeroshot_ner_generic_large](https://nlp.johnsnowlabs.com/2024/11/28/zeroshot_ner_generic_large_en.html) | `AGE`,`DATE`,`DISEASE`,`DISORDER`,`DRUG`,`LOCATION`,`NAME`,`PHONE`,`RESULT`,`SYMPTOM`,`SYNDROME`,`TEST`,`TREATMENT` |\n",
    "| 2 | [zeroshot_ner_generic_medium](https://nlp.johnsnowlabs.com/2024/11/28/zeroshot_ner_generic_medium_en.html) | `AGE`,`DATE`,`DISEASE`,`DISORDER`,`DRUG`,`LOCATION`,`NAME`,`PHONE`,`RESULT`,`SYMPTOM`,`SYNDROME`,`TEST`,`TREATMENT`|\n",
    "|3| [zeroshot_ner_clinical_large](https://nlp.johnsnowlabs.com/2024/11/27/zeroshot_ner_clinical_large_en.html) | `PROBLEM`, `TREATMENT`, `TEST`|\n",
    "| 4 | [zeroshot_ner_clinical_medium](https://nlp.johnsnowlabs.com/2024/11/27/zeroshot_ner_clinical_medium_en.html) |`PROBLEM`, `TREATMENT`, `TEST`|\n",
    "| 5 | [zeroshot_ner_oncology_large](https://nlp.johnsnowlabs.com/2024/11/28/zeroshot_ner_oncology_large_en.html) | `Adenopathy`, `Age`, `Biomarker`, `Biomarker_Result` ,`Body_Part`, `Cancer_Dx`, `Cancer_Surgery`, `Cycle_Count`, `Cycle_Day`, `Date`, `Death_Entit`, `Directio`, `Dosage`, `Duration`, `Frequency`, `Gender`, `Grade`, `Histological_Type`, `Imaging_Test`, `Invasion`, `Metastasis`, `Oncogene`, `Pathology_Test`, `Race_Ethnicity`, `Radiation_Dose`, `Relative_Date`, `Response_To_Treatment`, `Route`, `Smoking_Status`, `Staging`, `Therapy`, `Tumor_Finding`, `Tumor_Size` |\n",
    "|6 | [zeroshot_ner_oncology_medium](https://nlp.johnsnowlabs.com/2024/11/27/zeroshot_ner_oncology_medium_en.html) |`Adenopathy`, `Age`, `Biomarker`, `Biomarker_Result`, `Body_Part`, `Cancer_Dx`, `Cancer_Surgery`, `Cycle_Count`, `Cycle_Day`, `Date`, `Death_Entit`, `Directio`, `Dosage`, `Duration`, `Frequency`, `Gender`, `Grade`, `Histological_Type`, `Imaging_Test`, `Invasion`, `Metastasis`, `Oncogene`, `Pathology_Test`, `Race_Ethnicity`, `Radiation_Dose`, `Relative_Date`, `Response_To_Treatment`, `Route`, `Smoking_Status`, `Staging`, `Therapy`, `Tumor_Finding`, `Tumor_Size` |\n",
    "|7 | [zeroshot_ner_deid_subentity_docwise_large](https://nlp.johnsnowlabs.com/2024/11/29/zeroshot_ner_deid_subentity_docwise_large_en.html) | `DATE`, `PATIENT`, `COUNTRY`, `PROFESSION`, `AGE`, `CITY`, `STATE`, `DOCTOR`, `HOSPITAL`, `IDNUM`, `ORGANIZATION`, `PHONE`, `STREET`, `ZIP`|\n",
    "| 8 | [zeroshot_ner_deid_subentity_docwise_medium](https://nlp.johnsnowlabs.com/2024/11/28/zeroshot_ner_deid_subentity_docwise_medium_en.html) | `DATE`, `PATIENT`, `COUNTRY`, `PROFESSION`, `AGE`, `CITY`, `STATE`, `DOCTOR`, `HOSPITAL`, `IDNUM`, `ORGANIZATION`, `PHONE`, `STREET`, `ZIP`|\n",
    "| 9 | [zeroshot_ner_deid_subentity_merged_medium](https://nlp.johnsnowlabs.com/2024/11/27/zeroshot_ner_deid_subentity_merged_medium_en.html) | `DOCTOR`, `PATIENT`, `AGE`, `DATE`, `HOSPITAL`, `CITY`, `STREET`, `STATE`, `COUNTRY`, `PHONE`, `IDNUM`, `EMAIL`, `ZIP`, `ORGANIZATION`, `PROFESSION`, `USERNAME`|\n",
    "| 10 | [zeroshot_ner_deid_generic_docwise_large](https://nlp.johnsnowlabs.com/2024/11/28/zeroshot_ner_deid_generic_docwise_large_en.html) | `DATE`, `NAME`, `LOCATION`, `PROFESSION`, `AGE`, `ID`, `CONTACT` |\n",
    "|11 | [zeroshot_ner_deid_generic_docwise_medium](https://nlp.johnsnowlabs.com/2024/11/28/zeroshot_ner_deid_generic_docwise_medium_en.html) | `DATE`, `NAME`, `LOCATION`, `PROFESSION`, `AGE`, `ID`, `CONTACT`|"
   ]
  },
  {
   "cell_type": "code",
   "execution_count": 0,
   "metadata": {
    "application/vnd.databricks.v1+cell": {
     "cellMetadata": {
      "byteLimit": 2048000,
      "rowLimit": 10000
     },
     "inputWidgets": {},
     "nuid": "7e14663e-bc8d-422e-937a-bbfa1aa85cb7",
     "showTitle": false,
     "tableResultSettingsMap": {},
     "title": ""
    }
   },
   "outputs": [
    {
     "output_type": "stream",
     "name": "stdout",
     "output_type": "stream",
     "text": [
      "zeroshot_ner_deid_subentity_merged_medium download started this may take some time.\n\r[ | ]\r[ / ]\r[ — ]\r[ \\ ]\r[ | ]\r[ / ]\r[ — ]\r[ \\ ]\r[ | ]\r[ / ]\r[ — ]\r[ \\ ]\r[ | ]\r[ / ]\r[ — ]\r[ \\ ]\r[ | ]\r[ / ]\r[ — ]\r[ \\ ]\r[ | ]\r[ / ]\r[ — ]\r[ \\ ]\r[ | ]\r[ / ]\r[ — ]\r[ \\ ]\r[ | ]\r[ / ]\r[ — ]\r[ \\ ]\r[ | ]\r[ / ]\r[ — ]\r[ \\ ]\r[ | ]\r[ / ]\r[ — ]\r[ \\ ]\r[ | ]\r[ / ]\r[ — ]\r[ \\ ]\r[OK!]\n"
     ]
    }
   ],
   "source": [
    "document_assembler = nlp.DocumentAssembler()\\\n",
    "    .setInputCol(\"text\")\\\n",
    "    .setOutputCol(\"document\")\n",
    "\n",
    "sentence_detector = nlp.SentenceDetector()\\\n",
    "    .setInputCols([\"document\"])\\\n",
    "    .setOutputCol(\"sentence\")\n",
    "\n",
    "tokenizer = nlp.Tokenizer()\\\n",
    "    .setInputCols([\"sentence\"])\\\n",
    "    .setOutputCol(\"token\")\n",
    "\n",
    "labels = ['DOCTOR', 'PATIENT', 'AGE', 'DATE', 'HOSPITAL', 'CITY', 'STREET', 'STATE', 'COUNTRY', 'PHONE', 'IDNUM', 'EMAIL','ZIP', 'ORGANIZATION', 'PROFESSION', 'USERNAME']\n",
    "\n",
    "pretrained_zero_shot_ner = medical.PretrainedZeroShotNER().pretrained(\"zeroshot_ner_deid_subentity_merged_medium\", \"en\", \"clinical/models\")\\\n",
    "    .setInputCols(\"sentence\", \"token\")\\\n",
    "    .setOutputCol(\"entities\")\\\n",
    "    .setPredictionThreshold(0.5)\\\n",
    "    .setLabels(labels)\n",
    "\n",
    "ner_converter = medical.NerConverterInternal()\\\n",
    "    .setInputCols(\"sentence\", \"token\", \"entities\")\\\n",
    "    .setOutputCol(\"ner_chunk\")\n",
    "\n",
    "\n",
    "pipeline = nlp.Pipeline().setStages([\n",
    "    document_assembler,\n",
    "    sentence_detector,\n",
    "    tokenizer,\n",
    "    pretrained_zero_shot_ner,\n",
    "    ner_converter\n",
    "])"
   ]
  },
  {
   "cell_type": "code",
   "execution_count": 0,
   "metadata": {
    "application/vnd.databricks.v1+cell": {
     "cellMetadata": {
      "byteLimit": 2048000,
      "rowLimit": 10000
     },
     "inputWidgets": {},
     "nuid": "f535da05-75d1-48b8-965d-f410ebc02ef3",
     "showTitle": false,
     "tableResultSettingsMap": {},
     "title": ""
    }
   },
   "outputs": [],
   "source": [
    "text = \"\"\"Dr. John Lee, from Royal Medical Clinic in Chicago,  attended to the patient on 11/05/2024.\n",
    "The patient’s medical record number is 56467890. The patient, Emma Wilson, is 50 years old,  her Contact number: 444-456-7890 .\n",
    "Dr. John Taylor, ID: 982345, a cardiologist at St. Mary's Hospital in Boston, was contacted on 05/10/2023 regarding a 45-year-old.\n",
    "\"\"\"\n",
    "\n",
    "data = spark.createDataFrame([[text]]).toDF(\"text\")\n",
    "\n",
    "result = pipeline.fit(data).transform(data)"
   ]
  },
  {
   "cell_type": "code",
   "execution_count": 0,
   "metadata": {
    "application/vnd.databricks.v1+cell": {
     "cellMetadata": {
      "byteLimit": 2048000,
      "rowLimit": 10000
     },
     "inputWidgets": {},
     "nuid": "bd7e0711-97e0-457e-ad3c-8fa7b68572b1",
     "showTitle": false,
     "tableResultSettingsMap": {},
     "title": ""
    }
   },
   "outputs": [
    {
     "output_type": "stream",
     "name": "stdout",
     "output_type": "stream",
     "text": [
      "+--------------------+-----+---+----------+\n|chunk               |begin|end|ner_label |\n+--------------------+-----+---+----------+\n|John Lee            |4    |11 |DOCTOR    |\n|Royal Medical Clinic|19   |38 |HOSPITAL  |\n|Chicago             |43   |49 |CITY      |\n|11/05/2024          |80   |89 |DATE      |\n|56467890            |131  |138|IDNUM     |\n|Emma Wilson         |154  |164|PATIENT   |\n|50                  |170  |171|AGE       |\n|444-456-7890        |205  |216|PHONE     |\n|John Taylor         |224  |234|DOCTOR    |\n|982345              |241  |246|IDNUM     |\n|cardiologist        |251  |262|PROFESSION|\n|St. Mary's Hospital |267  |285|HOSPITAL  |\n|Boston              |290  |295|CITY      |\n|05/10/2023          |315  |324|DATE      |\n|45-year-old         |338  |348|AGE       |\n+--------------------+-----+---+----------+\n\n"
     ]
    }
   ],
   "source": [
    "result.select(F.explode(F.arrays_zip(result.ner_chunk.result,\n",
    "                                     result.ner_chunk.begin,\n",
    "                                     result.ner_chunk.end,\n",
    "                                     result.ner_chunk.metadata)).alias(\"cols\")) \\\n",
    "               .select( F.expr(\"cols['0']\").alias(\"chunk\"),\n",
    "                       F.expr(\"cols['1']\").alias(\"begin\"),\n",
    "                       F.expr(\"cols['2']\").alias(\"end\"),\n",
    "                      F.expr(\"cols['3']['entity']\").alias(\"ner_label\"))\\\n",
    "                       .filter(\"ner_label!='O'\")\\\n",
    "                       .show(1000,truncate=False)"
   ]
  },
  {
   "cell_type": "markdown",
   "metadata": {
    "application/vnd.databricks.v1+cell": {
     "cellMetadata": {},
     "inputWidgets": {},
     "nuid": "2cedca5d-11fc-4920-9d7c-36524d255b71",
     "showTitle": false,
     "tableResultSettingsMap": {},
     "title": ""
    }
   },
   "source": [
    "**You can customize the prediction labels**\n",
    "\n",
    "It is important to highlight that users are not limited to these labels. You have the flexibility to define and use any labels that suit your specific use case. Simply provide the labels you need, and the model will adapt to predict them."
   ]
  },
  {
   "cell_type": "code",
   "execution_count": 0,
   "metadata": {
    "application/vnd.databricks.v1+cell": {
     "cellMetadata": {
      "byteLimit": 2048000,
      "rowLimit": 10000
     },
     "inputWidgets": {},
     "nuid": "fbd53215-f5d4-4d3b-b12e-6fb4c486dd00",
     "showTitle": false,
     "tableResultSettingsMap": {},
     "title": ""
    }
   },
   "outputs": [
    {
     "output_type": "stream",
     "name": "stdout",
     "output_type": "stream",
     "text": [
      "zeroshot_ner_deid_subentity_merged_medium download started this may take some time.\n\r[ | ]\r[OK!]\n+--------------------+-----+---+------------+\n|chunk               |begin|end|ner_label   |\n+--------------------+-----+---+------------+\n|John Lee            |4    |11 |NAME        |\n|Royal Medical Clinic|19   |38 |ORGANIZATION|\n|Chicago             |43   |49 |LOCATION    |\n|11/05/2024          |80   |89 |DATE        |\n|56467890            |131  |138|IDNUM       |\n|Emma Wilson         |154  |164|NAME        |\n|50                  |170  |171|AGE         |\n|444-456-7890        |205  |216|IDNUM       |\n|John Taylor         |224  |234|NAME        |\n|982345              |241  |246|IDNUM       |\n|cardiologist        |251  |262|PROFESSION  |\n|St. Mary's Hospital |267  |285|ORGANIZATION|\n|Boston              |290  |295|LOCATION    |\n|05/10/2023          |315  |324|DATE        |\n|45-year-old         |338  |348|AGE         |\n+--------------------+-----+---+------------+\n\n"
     ]
    }
   ],
   "source": [
    "# You can change the labels. If we can group them such as DOCTOR -> NAME, PATIENT -> NAME ...\n",
    "labels = ['NAME', 'AGE', 'DATE', 'LOCATION', 'IDNUM','ORGANIZATION', 'PROFESSION']\n",
    "\n",
    "pretrained_zero_shot_ner = medical.PretrainedZeroShotNER()\\\n",
    "    .pretrained(\"zeroshot_ner_deid_subentity_merged_medium\", \"en\", \"clinical/models\")\\\n",
    "    .setInputCols(\"sentence\", \"token\")\\\n",
    "    .setOutputCol(\"ner\")\\\n",
    "    .setPredictionThreshold(0.5)\\\n",
    "    .setLabels(labels)\n",
    "\n",
    "ner_converter = medical.NerConverterInternal()\\\n",
    "    .setInputCols(\"sentence\", \"token\", \"ner\")\\\n",
    "    .setOutputCol(\"ner_chunk\")\n",
    "\n",
    "pipeline = nlp.Pipeline().setStages([\n",
    "    document_assembler,\n",
    "    sentence_detector,\n",
    "    tokenizer,\n",
    "    pretrained_zero_shot_ner,\n",
    "    ner_converter\n",
    "])\n",
    "\n",
    "result = pipeline.fit(data).transform(data)\n",
    "\n",
    "result.selectExpr(\"explode(ner_chunk) as ner_chunk\")\\\n",
    "      .selectExpr(\"ner_chunk.result as chunk\",\n",
    "                  \"ner_chunk.begin\",\n",
    "                  \"ner_chunk.end\",\n",
    "                  \"ner_chunk.metadata['entity'] as ner_label\").show(100, truncate=False)"
   ]
  },
  {
   "cell_type": "markdown",
   "metadata": {
    "application/vnd.databricks.v1+cell": {
     "cellMetadata": {},
     "inputWidgets": {},
     "nuid": "f7ba9e01-dd4b-462b-8401-1c3c54e92880",
     "showTitle": false,
     "tableResultSettingsMap": {},
     "title": ""
    }
   },
   "source": [
    "## 📍 **Light Pipeline**"
   ]
  },
  {
   "cell_type": "code",
   "execution_count": 0,
   "metadata": {
    "application/vnd.databricks.v1+cell": {
     "cellMetadata": {
      "byteLimit": 2048000,
      "rowLimit": 10000
     },
     "inputWidgets": {},
     "nuid": "b4861c98-5155-456a-a5b3-63e6fe365929",
     "showTitle": false,
     "tableResultSettingsMap": {},
     "title": ""
    }
   },
   "outputs": [
    {
     "output_type": "execute_result",
     "data": {
      "text/html": [
       "<div>\n",
       "<style scoped>\n",
       "    .dataframe tbody tr th:only-of-type {\n",
       "        vertical-align: middle;\n",
       "    }\n",
       "\n",
       "    .dataframe tbody tr th {\n",
       "        vertical-align: top;\n",
       "    }\n",
       "\n",
       "    .dataframe thead th {\n",
       "        text-align: right;\n",
       "    }\n",
       "</style>\n",
       "<table border=\"1\" class=\"dataframe\">\n",
       "  <thead>\n",
       "    <tr style=\"text-align: right;\">\n",
       "      <th></th>\n",
       "      <th>chunks</th>\n",
       "      <th>begin</th>\n",
       "      <th>end</th>\n",
       "      <th>sentence_id</th>\n",
       "      <th>entities</th>\n",
       "    </tr>\n",
       "  </thead>\n",
       "  <tbody>\n",
       "    <tr>\n",
       "      <th>0</th>\n",
       "      <td>John Lee</td>\n",
       "      <td>4</td>\n",
       "      <td>11</td>\n",
       "      <td>0</td>\n",
       "      <td>NAME</td>\n",
       "    </tr>\n",
       "    <tr>\n",
       "      <th>1</th>\n",
       "      <td>Royal Medical Clinic</td>\n",
       "      <td>19</td>\n",
       "      <td>38</td>\n",
       "      <td>0</td>\n",
       "      <td>ORGANIZATION</td>\n",
       "    </tr>\n",
       "    <tr>\n",
       "      <th>2</th>\n",
       "      <td>Chicago</td>\n",
       "      <td>43</td>\n",
       "      <td>49</td>\n",
       "      <td>0</td>\n",
       "      <td>LOCATION</td>\n",
       "    </tr>\n",
       "    <tr>\n",
       "      <th>3</th>\n",
       "      <td>11/05/2024</td>\n",
       "      <td>80</td>\n",
       "      <td>89</td>\n",
       "      <td>0</td>\n",
       "      <td>DATE</td>\n",
       "    </tr>\n",
       "    <tr>\n",
       "      <th>4</th>\n",
       "      <td>56467890</td>\n",
       "      <td>131</td>\n",
       "      <td>138</td>\n",
       "      <td>1</td>\n",
       "      <td>IDNUM</td>\n",
       "    </tr>\n",
       "    <tr>\n",
       "      <th>5</th>\n",
       "      <td>Emma Wilson</td>\n",
       "      <td>154</td>\n",
       "      <td>164</td>\n",
       "      <td>2</td>\n",
       "      <td>NAME</td>\n",
       "    </tr>\n",
       "    <tr>\n",
       "      <th>6</th>\n",
       "      <td>50</td>\n",
       "      <td>170</td>\n",
       "      <td>171</td>\n",
       "      <td>2</td>\n",
       "      <td>AGE</td>\n",
       "    </tr>\n",
       "    <tr>\n",
       "      <th>7</th>\n",
       "      <td>444-456-7890</td>\n",
       "      <td>205</td>\n",
       "      <td>216</td>\n",
       "      <td>2</td>\n",
       "      <td>IDNUM</td>\n",
       "    </tr>\n",
       "    <tr>\n",
       "      <th>8</th>\n",
       "      <td>John Taylor</td>\n",
       "      <td>224</td>\n",
       "      <td>234</td>\n",
       "      <td>3</td>\n",
       "      <td>NAME</td>\n",
       "    </tr>\n",
       "    <tr>\n",
       "      <th>9</th>\n",
       "      <td>982345</td>\n",
       "      <td>241</td>\n",
       "      <td>246</td>\n",
       "      <td>3</td>\n",
       "      <td>IDNUM</td>\n",
       "    </tr>\n",
       "    <tr>\n",
       "      <th>10</th>\n",
       "      <td>cardiologist</td>\n",
       "      <td>251</td>\n",
       "      <td>262</td>\n",
       "      <td>3</td>\n",
       "      <td>PROFESSION</td>\n",
       "    </tr>\n",
       "    <tr>\n",
       "      <th>11</th>\n",
       "      <td>St. Mary's Hospital</td>\n",
       "      <td>267</td>\n",
       "      <td>285</td>\n",
       "      <td>3</td>\n",
       "      <td>ORGANIZATION</td>\n",
       "    </tr>\n",
       "    <tr>\n",
       "      <th>12</th>\n",
       "      <td>Boston</td>\n",
       "      <td>290</td>\n",
       "      <td>295</td>\n",
       "      <td>3</td>\n",
       "      <td>LOCATION</td>\n",
       "    </tr>\n",
       "    <tr>\n",
       "      <th>13</th>\n",
       "      <td>05/10/2023</td>\n",
       "      <td>315</td>\n",
       "      <td>324</td>\n",
       "      <td>3</td>\n",
       "      <td>DATE</td>\n",
       "    </tr>\n",
       "    <tr>\n",
       "      <th>14</th>\n",
       "      <td>45-year-old</td>\n",
       "      <td>338</td>\n",
       "      <td>348</td>\n",
       "      <td>3</td>\n",
       "      <td>AGE</td>\n",
       "    </tr>\n",
       "  </tbody>\n",
       "</table>\n",
       "</div>"
      ],
      "text/plain": [
       "                  chunks  begin  end sentence_id      entities\n",
       "0               John Lee      4   11           0          NAME\n",
       "1   Royal Medical Clinic     19   38           0  ORGANIZATION\n",
       "2                Chicago     43   49           0      LOCATION\n",
       "3             11/05/2024     80   89           0          DATE\n",
       "4               56467890    131  138           1         IDNUM\n",
       "5            Emma Wilson    154  164           2          NAME\n",
       "6                     50    170  171           2           AGE\n",
       "7           444-456-7890    205  216           2         IDNUM\n",
       "8            John Taylor    224  234           3          NAME\n",
       "9                 982345    241  246           3         IDNUM\n",
       "10          cardiologist    251  262           3    PROFESSION\n",
       "11   St. Mary's Hospital    267  285           3  ORGANIZATION\n",
       "12                Boston    290  295           3      LOCATION\n",
       "13            05/10/2023    315  324           3          DATE\n",
       "14           45-year-old    338  348           3           AGE"
      ]
     },
     "execution_count": 7,
     "metadata": {},
     "output_type": "execute_result"
    }
   ],
   "source": [
    "empty_data = spark.createDataFrame([[\"\"]]).toDF(\"text\")\n",
    "light_model = nlp.LightPipeline(pipeline.fit(empty_data))\n",
    "light_result = light_model.fullAnnotate(text)\n",
    "\n",
    "chunks = []\n",
    "entities = []\n",
    "sentence= []\n",
    "begin = []\n",
    "end = []\n",
    "\n",
    "for n in light_result[0]['ner_chunk']:\n",
    "\n",
    "    begin.append(n.begin)\n",
    "    end.append(n.end)\n",
    "    chunks.append(n.result)\n",
    "    entities.append(n.metadata['entity'])\n",
    "    sentence.append(n.metadata['sentence'])\n",
    "\n",
    "import pandas as pd\n",
    "\n",
    "df_clinical = pd.DataFrame({'chunks':chunks,\n",
    "                            'begin': begin,\n",
    "                            'end':end,\n",
    "                            'sentence_id':sentence,\n",
    "                            'entities':entities})\n",
    "\n",
    "df_clinical.head(50)"
   ]
  },
  {
   "cell_type": "markdown",
   "metadata": {
    "application/vnd.databricks.v1+cell": {
     "cellMetadata": {},
     "inputWidgets": {},
     "nuid": "1a7006c6-a783-413d-bc8d-bfc31ab3e12b",
     "showTitle": false,
     "tableResultSettingsMap": {},
     "title": ""
    }
   },
   "source": [
    "## 📍 **NER Visualizer**\n",
    "\n",
    "For saving the visualization result as html, provide `save_path` parameter in the display function."
   ]
  },
  {
   "cell_type": "code",
   "execution_count": 0,
   "metadata": {
    "application/vnd.databricks.v1+cell": {
     "cellMetadata": {
      "byteLimit": 2048000,
      "rowLimit": 10000
     },
     "inputWidgets": {},
     "nuid": "db26e3a4-dd68-4e9a-a632-21a42c6856a7",
     "showTitle": false,
     "tableResultSettingsMap": {},
     "title": ""
    }
   },
   "outputs": [
    {
     "output_type": "display_data",
     "data": {
      "text/html": [
       "\n",
       "<style>\n",
       "    @import url('https://fonts.googleapis.com/css2?family=Montserrat:wght@300;400;500;600;700&display=swap');\n",
       "    @import url('https://fonts.googleapis.com/css2?family=Vistol Regular:wght@300;400;500;600;700&display=swap');\n",
       "    \n",
       "    .spark-nlp-display-scroll-entities {\n",
       "        border: 1px solid #E7EDF0;\n",
       "        border-radius: 3px;\n",
       "        text-align: justify;\n",
       "        \n",
       "    }\n",
       "    .spark-nlp-display-scroll-entities span {  \n",
       "        font-size: 14px;\n",
       "        line-height: 24px;\n",
       "        color: #536B76;\n",
       "        font-family: 'Montserrat', sans-serif !important;\n",
       "    }\n",
       "    \n",
       "    .spark-nlp-display-entity-wrapper{\n",
       "    \n",
       "        display: inline-grid;\n",
       "        text-align: center;\n",
       "        border-radius: 4px;\n",
       "        margin: 0 2px 5px 2px;\n",
       "        padding: 1px\n",
       "    }\n",
       "    .spark-nlp-display-entity-name{\n",
       "        font-size: 14px;\n",
       "        line-height: 24px;\n",
       "        font-family: 'Montserrat', sans-serif !important;\n",
       "        \n",
       "        background: #f1f2f3;\n",
       "        border-width: medium;\n",
       "        text-align: center;\n",
       "        \n",
       "        font-weight: 400;\n",
       "        \n",
       "        border-radius: 5px;\n",
       "        padding: 2px 5px;\n",
       "        display: block;\n",
       "        margin: 3px 2px;\n",
       "    \n",
       "    }\n",
       "    .spark-nlp-display-entity-type{\n",
       "        font-size: 14px;\n",
       "        line-height: 24px;\n",
       "        color: #ffffff;\n",
       "        font-family: 'Montserrat', sans-serif !important;\n",
       "        \n",
       "        text-transform: uppercase;\n",
       "        \n",
       "        font-weight: 500;\n",
       "\n",
       "        display: block;\n",
       "        padding: 3px 5px;\n",
       "    }\n",
       "    \n",
       "    .spark-nlp-display-entity-resolution{\n",
       "        font-size: 14px;\n",
       "        line-height: 24px;\n",
       "        color: #ffffff;\n",
       "        font-family: 'Vistol Regular', sans-serif !important;\n",
       "        \n",
       "        text-transform: uppercase;\n",
       "        \n",
       "        font-weight: 500;\n",
       "\n",
       "        display: block;\n",
       "        padding: 3px 5px;\n",
       "    }\n",
       "    \n",
       "    .spark-nlp-display-others{\n",
       "        font-size: 14px;\n",
       "        line-height: 24px;\n",
       "        font-family: 'Montserrat', sans-serif !important;\n",
       "        \n",
       "        font-weight: 400;\n",
       "    }\n",
       "\n",
       "</style>\n",
       " <span class=\"spark-nlp-display-others\" style=\"background-color: white\">Dr. </span><span class=\"spark-nlp-display-entity-wrapper\" style=\"background-color: #C0FF3E\"><span class=\"spark-nlp-display-entity-name\">John Lee </span><span class=\"spark-nlp-display-entity-type\">NAME</span></span><span class=\"spark-nlp-display-others\" style=\"background-color: white\">, from </span><span class=\"spark-nlp-display-entity-wrapper\" style=\"background-color: #B8C755\"><span class=\"spark-nlp-display-entity-name\">Royal Medical Clinic </span><span class=\"spark-nlp-display-entity-type\">ORGANIZATION</span></span><span class=\"spark-nlp-display-others\" style=\"background-color: white\"> in </span><span class=\"spark-nlp-display-entity-wrapper\" style=\"background-color: #88C70C\"><span class=\"spark-nlp-display-entity-name\">Chicago </span><span class=\"spark-nlp-display-entity-type\">LOCATION</span></span><span class=\"spark-nlp-display-others\" style=\"background-color: white\">,  attended to the patient on </span><span class=\"spark-nlp-display-entity-wrapper\" style=\"background-color: #a6b1e1\"><span class=\"spark-nlp-display-entity-name\">11/05/2024 </span><span class=\"spark-nlp-display-entity-type\">DATE</span></span><span class=\"spark-nlp-display-others\" style=\"background-color: white\">.<br>The patient’s medical record number is </span><span class=\"spark-nlp-display-entity-wrapper\" style=\"background-color: #701B09\"><span class=\"spark-nlp-display-entity-name\">56467890 </span><span class=\"spark-nlp-display-entity-type\">IDNUM</span></span><span class=\"spark-nlp-display-others\" style=\"background-color: white\">. The patient, </span><span class=\"spark-nlp-display-entity-wrapper\" style=\"background-color: #C0FF3E\"><span class=\"spark-nlp-display-entity-name\">Emma Wilson </span><span class=\"spark-nlp-display-entity-type\">NAME</span></span><span class=\"spark-nlp-display-others\" style=\"background-color: white\">, is </span><span class=\"spark-nlp-display-entity-wrapper\" style=\"background-color: #ffe0ac\"><span class=\"spark-nlp-display-entity-name\">50 </span><span class=\"spark-nlp-display-entity-type\">AGE</span></span><span class=\"spark-nlp-display-others\" style=\"background-color: white\"> years old,  her Contact number: </span><span class=\"spark-nlp-display-entity-wrapper\" style=\"background-color: #701B09\"><span class=\"spark-nlp-display-entity-name\">444-456-7890 </span><span class=\"spark-nlp-display-entity-type\">IDNUM</span></span><span class=\"spark-nlp-display-others\" style=\"background-color: white\"> .<br>Dr. </span><span class=\"spark-nlp-display-entity-wrapper\" style=\"background-color: #C0FF3E\"><span class=\"spark-nlp-display-entity-name\">John Taylor </span><span class=\"spark-nlp-display-entity-type\">NAME</span></span><span class=\"spark-nlp-display-others\" style=\"background-color: white\">, ID: </span><span class=\"spark-nlp-display-entity-wrapper\" style=\"background-color: #701B09\"><span class=\"spark-nlp-display-entity-name\">982345 </span><span class=\"spark-nlp-display-entity-type\">IDNUM</span></span><span class=\"spark-nlp-display-others\" style=\"background-color: white\">, a </span><span class=\"spark-nlp-display-entity-wrapper\" style=\"background-color: #012A79\"><span class=\"spark-nlp-display-entity-name\">cardiologist </span><span class=\"spark-nlp-display-entity-type\">PROFESSION</span></span><span class=\"spark-nlp-display-others\" style=\"background-color: white\"> at </span><span class=\"spark-nlp-display-entity-wrapper\" style=\"background-color: #B8C755\"><span class=\"spark-nlp-display-entity-name\">St. Mary's Hospital </span><span class=\"spark-nlp-display-entity-type\">ORGANIZATION</span></span><span class=\"spark-nlp-display-others\" style=\"background-color: white\"> in </span><span class=\"spark-nlp-display-entity-wrapper\" style=\"background-color: #88C70C\"><span class=\"spark-nlp-display-entity-name\">Boston </span><span class=\"spark-nlp-display-entity-type\">LOCATION</span></span><span class=\"spark-nlp-display-others\" style=\"background-color: white\">, was contacted on </span><span class=\"spark-nlp-display-entity-wrapper\" style=\"background-color: #a6b1e1\"><span class=\"spark-nlp-display-entity-name\">05/10/2023 </span><span class=\"spark-nlp-display-entity-type\">DATE</span></span><span class=\"spark-nlp-display-others\" style=\"background-color: white\"> regarding a </span><span class=\"spark-nlp-display-entity-wrapper\" style=\"background-color: #ffe0ac\"><span class=\"spark-nlp-display-entity-name\">45-year-old </span><span class=\"spark-nlp-display-entity-type\">AGE</span></span><span class=\"spark-nlp-display-others\" style=\"background-color: white\">.<br></span></div>"
      ],
      "text/plain": [
       "<IPython.core.display.HTML object>"
      ]
     },
     "metadata": {},
     "output_type": "display_data"
    }
   ],
   "source": [
    "from sparknlp_display import NerVisualizer\n",
    "\n",
    "visualiser = nlp.viz.NerVisualizer()\n",
    "\n",
    "visualiser.display(light_result[0], label_col='ner_chunk', document_col='document',\n",
    "                   #save_path=\"display_result.html\"\n",
    "                   )"
   ]
  },
  {
   "cell_type": "markdown",
   "metadata": {
    "application/vnd.databricks.v1+cell": {
     "cellMetadata": {},
     "inputWidgets": {},
     "nuid": "3a69759d-a9d1-4801-a954-f3c722ee4ac3",
     "showTitle": false,
     "tableResultSettingsMap": {},
     "title": ""
    }
   },
   "source": [
    "# 📌 Zero-Shot Clinical NER\n",
    "\n",
    "📚 In this part, you will find an example of Zero-Shot NER model (`zero_shot_ner_roberta`) that is the first of its kind and can detect any named entities without using any annotated dataset to train a model.\n",
    "\n",
    "📚 `ZeroShotNerModel` annotator also allows extracting entities by crafting appropriate prompts to query **any RoBERTa Question Answering model**.\n",
    "\n",
    "\n",
    "💥 You can check the model card here: [Models Hub](https://nlp.johnsnowlabs.com/2022/08/29/zero_shot_ner_roberta_en.html)"
   ]
  },
  {
   "cell_type": "markdown",
   "metadata": {
    "application/vnd.databricks.v1+cell": {
     "cellMetadata": {},
     "inputWidgets": {},
     "nuid": "60c50e06-02e1-4ccd-80ba-f3e997fb9f22",
     "showTitle": false,
     "tableResultSettingsMap": {},
     "title": ""
    }
   },
   "source": [
    "🩸 Now we will create a pipeline for Zero-Shot NER model with only `documentAssembler`, `sentenceDetector`, `tokenizer`, `zero_shot_ner` and `ner_converter` stages. As you can see, we don't use any embeddings model, because it is already included in the model.\n",
    "\n",
    "🩸 Only the thing that you need to do is create meaningful definitions for the entities that you want to extract. For example; we want to detect `PROBLEM`, `DRUG`, `PATIENT_AGE` and  `ADMISSION_DATE` entities, so we created a dictionary with the questions for detecting these entities and the labels that we want to see in the result. Then we provided this dictionary to the model by using `setEntityDefinitions` parameter."
   ]
  },
  {
   "cell_type": "code",
   "execution_count": 0,
   "metadata": {
    "application/vnd.databricks.v1+cell": {
     "cellMetadata": {
      "byteLimit": 2048000,
      "rowLimit": 10000
     },
     "inputWidgets": {},
     "nuid": "b89093db-ba9c-4d8e-b80c-f062a58fd396",
     "showTitle": false,
     "tableResultSettingsMap": {},
     "title": ""
    }
   },
   "outputs": [
    {
     "output_type": "stream",
     "name": "stdout",
     "output_type": "stream",
     "text": [
      "zero_shot_ner_roberta download started this may take some time.\n\r[ | ]\r[ / ]\r[ — ]\r[ \\ ]\r[ | ]\r[ / ]\r[ — ]\r[ \\ ]\r[ | ]\r[ / ]\r[ — ]\r[ \\ ]\r[ | ]\r[ / ]\r[ — ]\r[OK!]\n"
     ]
    }
   ],
   "source": [
    "documentAssembler = nlp.DocumentAssembler() \\\n",
    "    .setInputCol(\"text\") \\\n",
    "    .setOutputCol(\"document\")\n",
    "\n",
    "sentenceDetector = nlp.SentenceDetector() \\\n",
    "    .setInputCols([\"document\"]) \\\n",
    "    .setOutputCol(\"sentence\")\n",
    "\n",
    "tokenizer = nlp.Tokenizer() \\\n",
    "    .setInputCols([\"sentence\"]) \\\n",
    "    .setOutputCol(\"token\")\n",
    "\n",
    "zero_shot_ner = medical.ZeroShotNerModel.pretrained(\"zero_shot_ner_roberta\", \"en\", \"clinical/models\")\\\n",
    "    .setEntityDefinitions(\n",
    "        {\n",
    "            \"PROBLEM\": [\"What is the disease?\", \"What is his symptom?\", \"What is her disease?\", \"What is his disease?\",\n",
    "                        \"What is the problem?\" ,\"What does a patient suffer\", 'What was the reason that the patient is admitted to the clinic?'],\n",
    "            \"DRUG\": [\"Which drug?\", \"Which is the drug?\", \"What is the drug?\", \"Which drug does he use?\", \"Which drug does she use?\", \"Which drug do I use?\", \"Which drug is prescribed for a symptom?\"],\n",
    "            \"ADMISSION_DATE\": [\"When did patient admitted to a clinic?\"],\n",
    "            \"PATIENT_AGE\": [\"How old is the patient?\",'What is the gae of the patient?']\n",
    "        })\\\n",
    "    .setInputCols([\"sentence\", \"token\"])\\\n",
    "    .setOutputCol(\"zero_shot_ner\")\\\n",
    "    .setPredictionThreshold(0.1) # default 0.01\n",
    "\n",
    "ner_converter = medical.NerConverterInternal()\\\n",
    "    .setInputCols([\"sentence\", \"token\", \"zero_shot_ner\"])\\\n",
    "    .setOutputCol(\"ner_chunk\")\\\n",
    "\n",
    "pipeline = nlp.Pipeline(stages = [\n",
    "    documentAssembler,\n",
    "    sentenceDetector,\n",
    "    tokenizer,\n",
    "    zero_shot_ner,\n",
    "    ner_converter])\n",
    "\n",
    "zero_shot_ner_model = pipeline.fit(spark.createDataFrame([[\"\"]]).toDF(\"text\"))"
   ]
  },
  {
   "cell_type": "code",
   "execution_count": 0,
   "metadata": {
    "application/vnd.databricks.v1+cell": {
     "cellMetadata": {
      "byteLimit": 2048000,
      "rowLimit": 10000
     },
     "inputWidgets": {},
     "nuid": "ac18efbd-7a69-423c-b6f3-cbd14864c39c",
     "showTitle": false,
     "tableResultSettingsMap": {},
     "title": ""
    }
   },
   "outputs": [
    {
     "output_type": "execute_result",
     "data": {
      "text/plain": [
       "['DRUG', 'PATIENT_AGE', 'ADMISSION_DATE', 'PROBLEM']"
      ]
     },
     "execution_count": 10,
     "metadata": {},
     "output_type": "execute_result"
    }
   ],
   "source": [
    "zero_shot_ner.getClasses()"
   ]
  },
  {
   "cell_type": "code",
   "execution_count": 0,
   "metadata": {
    "application/vnd.databricks.v1+cell": {
     "cellMetadata": {
      "byteLimit": 2048000,
      "rowLimit": 10000
     },
     "inputWidgets": {},
     "nuid": "d0e09496-c849-4bee-ba1c-d0182f5c4614",
     "showTitle": false,
     "tableResultSettingsMap": {},
     "title": ""
    }
   },
   "outputs": [
    {
     "output_type": "execute_result",
     "data": {
      "text/plain": [
       "{Param(parent='ZeroShotRobertaNer_5d06c0297d21', name='engine', doc='Deep Learning engine used for this model'): 'tensorflow',\n",
       " Param(parent='ZeroShotRobertaNer_5d06c0297d21', name='ignoreEntities', doc='List of entities to ignore'): [],\n",
       " Param(parent='ZeroShotRobertaNer_5d06c0297d21', name='predictionThreshold', doc='Minimal confidence score to encode an entity (default is 0.1)'): 0.1,\n",
       " Param(parent='ZeroShotRobertaNer_5d06c0297d21', name='lazyAnnotator', doc='Whether this AnnotatorModel acts as lazy in RecursivePipelines'): False,\n",
       " Param(parent='ZeroShotRobertaNer_5d06c0297d21', name='batchSize', doc='Size of every batch'): 8,\n",
       " Param(parent='ZeroShotRobertaNer_5d06c0297d21', name='maxSentenceLength', doc='Max sentence length to process'): 512,\n",
       " Param(parent='ZeroShotRobertaNer_5d06c0297d21', name='caseSensitive', doc='whether to ignore case in tokens for embeddings matching'): True,\n",
       " Param(parent='ZeroShotRobertaNer_5d06c0297d21', name='inputCols', doc='previous annotations columns, if renamed'): ['sentence',\n",
       "  'token'],\n",
       " Param(parent='ZeroShotRobertaNer_5d06c0297d21', name='outputCol', doc='output annotation column. can be left default.'): 'zero_shot_ner'}"
      ]
     },
     "execution_count": 11,
     "metadata": {},
     "output_type": "execute_result"
    }
   ],
   "source": [
    "zero_shot_ner.extractParamMap()"
   ]
  },
  {
   "cell_type": "code",
   "execution_count": 0,
   "metadata": {
    "application/vnd.databricks.v1+cell": {
     "cellMetadata": {
      "byteLimit": 2048000,
      "rowLimit": 10000
     },
     "inputWidgets": {},
     "nuid": "48dd5cfc-e332-4929-80fa-05f79caab06c",
     "showTitle": false,
     "tableResultSettingsMap": {},
     "title": ""
    }
   },
   "outputs": [
    {
     "output_type": "execute_result",
     "data": {
      "text/plain": [
       "0.1"
      ]
     },
     "execution_count": 12,
     "metadata": {},
     "output_type": "execute_result"
    }
   ],
   "source": [
    "zero_shot_ner.getPredictionThreshold()"
   ]
  },
  {
   "cell_type": "code",
   "execution_count": 0,
   "metadata": {
    "application/vnd.databricks.v1+cell": {
     "cellMetadata": {
      "byteLimit": 2048000,
      "rowLimit": 10000
     },
     "inputWidgets": {},
     "nuid": "2e83a96d-8b8b-4858-81f2-a0f1c8e34436",
     "showTitle": false,
     "tableResultSettingsMap": {},
     "title": ""
    }
   },
   "outputs": [],
   "source": [
    "text_list = [\"The doctor pescribed Majezik for my severe headache.\",\n",
    "             \"The patient was admitted to the hospital for his colon cancer.\",\n",
    "             \"27 years old patient was admitted to clinic on Sep 1st by Dr. X for a right-sided pleural effusion for thoracentesis.\"\n",
    "            ]\n",
    "\n",
    "data = spark.createDataFrame(text_list, nlp.StringType()).toDF(\"text\")\n",
    "\n",
    "results = zero_shot_ner_model.transform(data)"
   ]
  },
  {
   "cell_type": "code",
   "execution_count": 0,
   "metadata": {
    "application/vnd.databricks.v1+cell": {
     "cellMetadata": {
      "byteLimit": 2048000,
      "rowLimit": 10000
     },
     "inputWidgets": {},
     "nuid": "15e8cc02-f7f2-4d33-822f-9778defffa54",
     "showTitle": false,
     "tableResultSettingsMap": {},
     "title": ""
    }
   },
   "outputs": [
    {
     "output_type": "stream",
     "name": "stdout",
     "output_type": "stream",
     "text": [
      "+--------------------+--------------------+--------------------+--------------------+--------------------+--------------------+\n|                text|            document|            sentence|               token|       zero_shot_ner|           ner_chunk|\n+--------------------+--------------------+--------------------+--------------------+--------------------+--------------------+\n|The doctor pescri...|[{document, 0, 51...|[{document, 0, 51...|[{token, 0, 2, Th...|[{named_entity, 0...|[{chunk, 21, 27, ...|\n|The patient was a...|[{document, 0, 61...|[{document, 0, 61...|[{token, 0, 2, Th...|[{named_entity, 0...|[{chunk, 49, 60, ...|\n|27 years old pati...|[{document, 0, 11...|[{document, 0, 11...|[{token, 0, 1, 27...|[{named_entity, 0...|[{chunk, 0, 7, 27...|\n+--------------------+--------------------+--------------------+--------------------+--------------------+--------------------+\n\n"
     ]
    }
   ],
   "source": [
    "results.show()"
   ]
  },
  {
   "cell_type": "code",
   "execution_count": 0,
   "metadata": {
    "application/vnd.databricks.v1+cell": {
     "cellMetadata": {
      "byteLimit": 2048000,
      "rowLimit": 10000
     },
     "inputWidgets": {},
     "nuid": "f87a2c47-54d7-45ae-b314-0f25d8fd939a",
     "showTitle": false,
     "tableResultSettingsMap": {},
     "title": ""
    }
   },
   "outputs": [
    {
     "output_type": "stream",
     "name": "stdout",
     "output_type": "stream",
     "text": [
      "+-------------+----------------+--------+-----+---+----------+---------------------------------------------------------------+\n|word         |result          |sentence|begin|end|confidence|question                                                       |\n+-------------+----------------+--------+-----+---+----------+---------------------------------------------------------------+\n|The          |O               |0       |0    |2  |NULL      |NULL                                                           |\n|doctor       |O               |0       |4    |9  |NULL      |NULL                                                           |\n|pescribed    |O               |0       |11   |19 |NULL      |NULL                                                           |\n|Majezik      |B-DRUG          |0       |21   |27 |0.62337005|Which drug is prescribed for a symptom?                        |\n|for          |O               |0       |29   |31 |NULL      |NULL                                                           |\n|my           |O               |0       |33   |34 |NULL      |NULL                                                           |\n|severe       |B-PROBLEM       |0       |36   |41 |0.5319871 |What is the problem?                                           |\n|headache     |I-PROBLEM       |0       |43   |50 |0.5319871 |What is the problem?                                           |\n|.            |O               |0       |51   |51 |NULL      |NULL                                                           |\n|The          |O               |0       |0    |2  |NULL      |NULL                                                           |\n|patient      |O               |0       |4    |10 |NULL      |NULL                                                           |\n|was          |O               |0       |12   |14 |NULL      |NULL                                                           |\n|admitted     |O               |0       |16   |23 |NULL      |NULL                                                           |\n|to           |O               |0       |25   |26 |NULL      |NULL                                                           |\n|the          |O               |0       |28   |30 |NULL      |NULL                                                           |\n|hospital     |O               |0       |32   |39 |NULL      |NULL                                                           |\n|for          |O               |0       |41   |43 |NULL      |NULL                                                           |\n|his          |O               |0       |45   |47 |NULL      |NULL                                                           |\n|colon        |B-PROBLEM       |0       |49   |53 |0.9406248 |What is his disease?                                           |\n|cancer       |I-PROBLEM       |0       |55   |60 |0.9406248 |What is his disease?                                           |\n|.            |O               |0       |61   |61 |NULL      |NULL                                                           |\n|27           |B-PATIENT_AGE   |0       |0    |1  |0.7028018 |How old is the patient?                                        |\n|years        |I-PATIENT_AGE   |0       |3    |7  |0.7028018 |How old is the patient?                                        |\n|old          |O               |0       |9    |11 |NULL      |NULL                                                           |\n|patient      |O               |0       |13   |19 |NULL      |NULL                                                           |\n|was          |O               |0       |21   |23 |NULL      |NULL                                                           |\n|admitted     |O               |0       |25   |32 |NULL      |NULL                                                           |\n|to           |O               |0       |34   |35 |NULL      |NULL                                                           |\n|clinic       |O               |0       |37   |42 |NULL      |NULL                                                           |\n|on           |O               |0       |44   |45 |NULL      |NULL                                                           |\n|Sep          |B-ADMISSION_DATE|0       |47   |49 |0.9757786 |When did patient admitted to a clinic?                         |\n|1st          |I-ADMISSION_DATE|0       |51   |53 |0.9757786 |When did patient admitted to a clinic?                         |\n|by           |O               |0       |55   |56 |NULL      |NULL                                                           |\n|Dr           |O               |0       |58   |59 |NULL      |NULL                                                           |\n|.            |O               |0       |60   |60 |NULL      |NULL                                                           |\n|X            |O               |0       |62   |62 |NULL      |NULL                                                           |\n|for          |O               |0       |64   |66 |NULL      |NULL                                                           |\n|a            |O               |0       |68   |68 |NULL      |NULL                                                           |\n|right-sided  |B-PROBLEM       |0       |70   |80 |0.58216727|What was the reason that the patient is admitted to the clinic?|\n|pleural      |I-PROBLEM       |0       |82   |88 |0.58216727|What was the reason that the patient is admitted to the clinic?|\n|effusion     |I-PROBLEM       |0       |90   |97 |0.58216727|What was the reason that the patient is admitted to the clinic?|\n|for          |I-PROBLEM       |0       |99   |101|0.58216727|What was the reason that the patient is admitted to the clinic?|\n|thoracentesis|I-PROBLEM       |0       |103  |115|0.58216727|What was the reason that the patient is admitted to the clinic?|\n|.            |O               |0       |116  |116|NULL      |NULL                                                           |\n+-------------+----------------+--------+-----+---+----------+---------------------------------------------------------------+\n\n"
     ]
    }
   ],
   "source": [
    "results\\\n",
    "    .selectExpr(\"explode(zero_shot_ner) AS entity\")\\\n",
    "    .select(\n",
    "        \"entity.metadata.word\",\n",
    "        \"entity.result\",\n",
    "        \"entity.metadata.sentence\",\n",
    "        \"entity.begin\",\n",
    "        \"entity.end\",\n",
    "        \"entity.metadata.confidence\",\n",
    "        \"entity.metadata.question\")\\\n",
    "    .show(100, truncate=False)"
   ]
  },
  {
   "cell_type": "code",
   "execution_count": 0,
   "metadata": {
    "application/vnd.databricks.v1+cell": {
     "cellMetadata": {
      "byteLimit": 2048000,
      "rowLimit": 10000
     },
     "inputWidgets": {},
     "nuid": "bdab24a0-ec95-408d-8231-26f3282954b6",
     "showTitle": false,
     "tableResultSettingsMap": {},
     "title": ""
    }
   },
   "outputs": [
    {
     "output_type": "stream",
     "name": "stdout",
     "output_type": "stream",
     "text": [
      "+-------------+----------------+--------+-----+---+----------+\n|        token|       ner_label|sentence|begin|end|confidence|\n+-------------+----------------+--------+-----+---+----------+\n|          The|               O|       0|    0|  2|      NULL|\n|       doctor|               O|       0|    4|  9|      NULL|\n|    pescribed|               O|       0|   11| 19|      NULL|\n|      Majezik|          B-DRUG|       0|   21| 27|0.62337005|\n|          for|               O|       0|   29| 31|      NULL|\n|           my|               O|       0|   33| 34|      NULL|\n|       severe|       B-PROBLEM|       0|   36| 41| 0.5319871|\n|     headache|       I-PROBLEM|       0|   43| 50| 0.5319871|\n|            .|               O|       0|   51| 51|      NULL|\n|          The|               O|       0|    0|  2|      NULL|\n|      patient|               O|       0|    4| 10|      NULL|\n|          was|               O|       0|   12| 14|      NULL|\n|     admitted|               O|       0|   16| 23|      NULL|\n|           to|               O|       0|   25| 26|      NULL|\n|          the|               O|       0|   28| 30|      NULL|\n|     hospital|               O|       0|   32| 39|      NULL|\n|          for|               O|       0|   41| 43|      NULL|\n|          his|               O|       0|   45| 47|      NULL|\n|        colon|       B-PROBLEM|       0|   49| 53| 0.9406248|\n|       cancer|       I-PROBLEM|       0|   55| 60| 0.9406248|\n|            .|               O|       0|   61| 61|      NULL|\n|           27|   B-PATIENT_AGE|       0|    0|  1| 0.7028018|\n|        years|   I-PATIENT_AGE|       0|    3|  7| 0.7028018|\n|          old|               O|       0|    9| 11|      NULL|\n|      patient|               O|       0|   13| 19|      NULL|\n|          was|               O|       0|   21| 23|      NULL|\n|     admitted|               O|       0|   25| 32|      NULL|\n|           to|               O|       0|   34| 35|      NULL|\n|       clinic|               O|       0|   37| 42|      NULL|\n|           on|               O|       0|   44| 45|      NULL|\n|          Sep|B-ADMISSION_DATE|       0|   47| 49| 0.9757786|\n|          1st|I-ADMISSION_DATE|       0|   51| 53| 0.9757786|\n|           by|               O|       0|   55| 56|      NULL|\n|           Dr|               O|       0|   58| 59|      NULL|\n|            .|               O|       0|   60| 60|      NULL|\n|            X|               O|       0|   62| 62|      NULL|\n|          for|               O|       0|   64| 66|      NULL|\n|            a|               O|       0|   68| 68|      NULL|\n|  right-sided|       B-PROBLEM|       0|   70| 80|0.58216727|\n|      pleural|       I-PROBLEM|       0|   82| 88|0.58216727|\n|     effusion|       I-PROBLEM|       0|   90| 97|0.58216727|\n|          for|       I-PROBLEM|       0|   99|101|0.58216727|\n|thoracentesis|       I-PROBLEM|       0|  103|115|0.58216727|\n|            .|               O|       0|  116|116|      NULL|\n+-------------+----------------+--------+-----+---+----------+\n\n"
     ]
    }
   ],
   "source": [
    "results.select(F.explode(F.arrays_zip(results.token.result,\n",
    "                                      results.zero_shot_ner.result,\n",
    "                                      results.zero_shot_ner.metadata,\n",
    "                                      results.zero_shot_ner.begin,\n",
    "                                      results.zero_shot_ner.end)).alias(\"cols\"))\\\n",
    "       .select(F.expr(\"cols['0']\").alias(\"token\"),\n",
    "               F.expr(\"cols['1']\").alias(\"ner_label\"),\n",
    "               F.expr(\"cols['2']['sentence']\").alias(\"sentence\"),\n",
    "               F.expr(\"cols['3']\").alias(\"begin\"),\n",
    "               F.expr(\"cols['4']\").alias(\"end\"),\n",
    "               F.expr(\"cols['2']['confidence']\").alias(\"confidence\")).show(50, truncate=100)"
   ]
  },
  {
   "cell_type": "markdown",
   "metadata": {
    "application/vnd.databricks.v1+cell": {
     "cellMetadata": {},
     "inputWidgets": {},
     "nuid": "7f4c39dd-8200-4148-a31b-d53d872b5e4d",
     "showTitle": false,
     "tableResultSettingsMap": {},
     "title": ""
    }
   },
   "source": [
    "Now we will check the NER chunks."
   ]
  },
  {
   "cell_type": "code",
   "execution_count": 0,
   "metadata": {
    "application/vnd.databricks.v1+cell": {
     "cellMetadata": {
      "byteLimit": 2048000,
      "rowLimit": 10000
     },
     "inputWidgets": {},
     "nuid": "8b255b05-abc9-433c-a35b-c756186cb3b8",
     "showTitle": false,
     "tableResultSettingsMap": {},
     "title": ""
    }
   },
   "outputs": [
    {
     "output_type": "stream",
     "name": "stdout",
     "output_type": "stream",
     "text": [
      "+-----------------------------------------------------------------------------------------------------------------------------------------------------------------------+\n|col                                                                                                                                                                    |\n+-----------------------------------------------------------------------------------------------------------------------------------------------------------------------+\n|{chunk, 21, 27, Majezik, {entity -> DRUG, confidence -> 0.62337005, ner_source -> ner_chunk, chunk -> 0, sentence -> 0}, []}                                           |\n|{chunk, 36, 50, severe headache, {entity -> PROBLEM, confidence -> 0.5319871, ner_source -> ner_chunk, chunk -> 1, sentence -> 0}, []}                                 |\n|{chunk, 49, 60, colon cancer, {entity -> PROBLEM, confidence -> 0.9406248, ner_source -> ner_chunk, chunk -> 0, sentence -> 0}, []}                                    |\n|{chunk, 0, 7, 27 years, {entity -> PATIENT_AGE, confidence -> 0.7028018, ner_source -> ner_chunk, chunk -> 0, sentence -> 0}, []}                                      |\n|{chunk, 47, 53, Sep 1st, {entity -> ADMISSION_DATE, confidence -> 0.9757786, ner_source -> ner_chunk, chunk -> 1, sentence -> 0}, []}                                  |\n|{chunk, 70, 115, right-sided pleural effusion for thoracentesis, {entity -> PROBLEM, confidence -> 0.58216727, ner_source -> ner_chunk, chunk -> 2, sentence -> 0}, []}|\n+-----------------------------------------------------------------------------------------------------------------------------------------------------------------------+\n\n"
     ]
    }
   ],
   "source": [
    "results.selectExpr(\"explode(ner_chunk)\").show(100, truncate=False)"
   ]
  },
  {
   "cell_type": "code",
   "execution_count": 0,
   "metadata": {
    "application/vnd.databricks.v1+cell": {
     "cellMetadata": {
      "byteLimit": 2048000,
      "rowLimit": 10000
     },
     "inputWidgets": {},
     "nuid": "a6954501-ea1e-42b2-8284-9557e952704e",
     "showTitle": false,
     "tableResultSettingsMap": {},
     "title": ""
    }
   },
   "outputs": [
    {
     "output_type": "stream",
     "name": "stdout",
     "output_type": "stream",
     "text": [
      "+----------------------------------------------+--------------+----------+\n|                                         chunk|     ner_label|confidence|\n+----------------------------------------------+--------------+----------+\n|                                       Majezik|          DRUG|0.62337005|\n|                               severe headache|       PROBLEM| 0.5319871|\n|                                  colon cancer|       PROBLEM| 0.9406248|\n|                                      27 years|   PATIENT_AGE| 0.7028018|\n|                                       Sep 1st|ADMISSION_DATE| 0.9757786|\n|right-sided pleural effusion for thoracentesis|       PROBLEM|0.58216727|\n+----------------------------------------------+--------------+----------+\n\n"
     ]
    }
   ],
   "source": [
    "results.select(F.explode(F.arrays_zip(results.ner_chunk.result,\n",
    "                                      results.ner_chunk.metadata)).alias(\"cols\"))\\\n",
    "       .select(F.expr(\"cols['0']\").alias(\"chunk\"),\n",
    "               F.expr(\"cols['1']['entity']\").alias(\"ner_label\"),\n",
    "               F.expr(\"cols['1']['confidence']\").alias(\"confidence\")).show(50, truncate=100)"
   ]
  },
  {
   "cell_type": "markdown",
   "metadata": {
    "application/vnd.databricks.v1+cell": {
     "cellMetadata": {},
     "inputWidgets": {},
     "nuid": "219a9508-e04c-4732-bdc4-260fa192032a",
     "showTitle": false,
     "tableResultSettingsMap": {},
     "title": ""
    }
   },
   "source": [
    "## 📍 **LightPipelines**"
   ]
  },
  {
   "cell_type": "code",
   "execution_count": 0,
   "metadata": {
    "application/vnd.databricks.v1+cell": {
     "cellMetadata": {
      "byteLimit": 2048000,
      "rowLimit": 10000
     },
     "inputWidgets": {},
     "nuid": "8e3b0521-dc99-4290-856e-c4f915fb2174",
     "showTitle": false,
     "tableResultSettingsMap": {},
     "title": ""
    }
   },
   "outputs": [
    {
     "output_type": "stream",
     "name": "stdout",
     "output_type": "stream",
     "text": [
      "27 years old patient was admitted to clinic on Sep 1st by Dr. X for a right-sided pleural effusion for thoracentesis. \n\n"
     ]
    },
    {
     "output_type": "execute_result",
     "data": {
      "text/html": [
       "<div>\n",
       "<style scoped>\n",
       "    .dataframe tbody tr th:only-of-type {\n",
       "        vertical-align: middle;\n",
       "    }\n",
       "\n",
       "    .dataframe tbody tr th {\n",
       "        vertical-align: top;\n",
       "    }\n",
       "\n",
       "    .dataframe thead th {\n",
       "        text-align: right;\n",
       "    }\n",
       "</style>\n",
       "<table border=\"1\" class=\"dataframe\">\n",
       "  <thead>\n",
       "    <tr style=\"text-align: right;\">\n",
       "      <th></th>\n",
       "      <th>chunks</th>\n",
       "      <th>begin</th>\n",
       "      <th>end</th>\n",
       "      <th>sentence_id</th>\n",
       "      <th>entities</th>\n",
       "    </tr>\n",
       "  </thead>\n",
       "  <tbody>\n",
       "    <tr>\n",
       "      <th>0</th>\n",
       "      <td>27 years</td>\n",
       "      <td>0</td>\n",
       "      <td>7</td>\n",
       "      <td>0</td>\n",
       "      <td>PATIENT_AGE</td>\n",
       "    </tr>\n",
       "    <tr>\n",
       "      <th>1</th>\n",
       "      <td>Sep 1st</td>\n",
       "      <td>47</td>\n",
       "      <td>53</td>\n",
       "      <td>0</td>\n",
       "      <td>ADMISSION_DATE</td>\n",
       "    </tr>\n",
       "    <tr>\n",
       "      <th>2</th>\n",
       "      <td>right-sided pleural effusion for thoracentesis</td>\n",
       "      <td>70</td>\n",
       "      <td>115</td>\n",
       "      <td>0</td>\n",
       "      <td>PROBLEM</td>\n",
       "    </tr>\n",
       "  </tbody>\n",
       "</table>\n",
       "</div>"
      ],
      "text/plain": [
       "                                           chunks  begin  end sentence_id        entities\n",
       "0                                        27 years      0    7           0     PATIENT_AGE\n",
       "1                                         Sep 1st     47   53           0  ADMISSION_DATE\n",
       "2  right-sided pleural effusion for thoracentesis     70  115           0         PROBLEM"
      ]
     },
     "execution_count": 19,
     "metadata": {},
     "output_type": "execute_result"
    }
   ],
   "source": [
    "import pandas as pd\n",
    "\n",
    "# fullAnnotate in LightPipeline\n",
    "print (text_list[-1], \"\\n\")\n",
    "\n",
    "light_model = nlp.LightPipeline(zero_shot_ner_model)\n",
    "light_result = light_model.fullAnnotate(text_list[-1])\n",
    "\n",
    "chunks = []\n",
    "entities = []\n",
    "sentence= []\n",
    "begin = []\n",
    "end = []\n",
    "\n",
    "for n in light_result[0]['ner_chunk']:\n",
    "\n",
    "    begin.append(n.begin)\n",
    "    end.append(n.end)\n",
    "    chunks.append(n.result)\n",
    "    entities.append(n.metadata['entity'])\n",
    "    sentence.append(n.metadata['sentence'])\n",
    "\n",
    "\n",
    "\n",
    "df_clinical = pd.DataFrame({'chunks':chunks, 'begin': begin, 'end':end,\n",
    "                   'sentence_id':sentence, 'entities':entities})\n",
    "\n",
    "df_clinical.head(20)"
   ]
  },
  {
   "cell_type": "code",
   "execution_count": 0,
   "metadata": {
    "application/vnd.databricks.v1+cell": {
     "cellMetadata": {
      "byteLimit": 2048000,
      "rowLimit": 10000
     },
     "inputWidgets": {},
     "nuid": "82088c94-0aab-4b71-9613-476b41ab8b75",
     "showTitle": false,
     "tableResultSettingsMap": {},
     "title": ""
    }
   },
   "outputs": [
    {
     "output_type": "execute_result",
     "data": {
      "text/plain": [
       "{'zero_shot_ner': [Annotation(named_entity, 0, 1, B-PATIENT_AGE, {'sentence': '0', 'word': '27', 'confidence': '0.7028018', 'question': 'How old is the patient?'}, []),\n",
       "  Annotation(named_entity, 3, 7, I-PATIENT_AGE, {'sentence': '0', 'word': 'years', 'confidence': '0.7028018', 'question': 'How old is the patient?'}, []),\n",
       "  Annotation(named_entity, 9, 11, O, {'sentence': '0', 'word': 'old'}, []),\n",
       "  Annotation(named_entity, 13, 19, O, {'sentence': '0', 'word': 'patient'}, []),\n",
       "  Annotation(named_entity, 21, 23, O, {'sentence': '0', 'word': 'was'}, []),\n",
       "  Annotation(named_entity, 25, 32, O, {'sentence': '0', 'word': 'admitted'}, []),\n",
       "  Annotation(named_entity, 34, 35, O, {'sentence': '0', 'word': 'to'}, []),\n",
       "  Annotation(named_entity, 37, 42, O, {'sentence': '0', 'word': 'clinic'}, []),\n",
       "  Annotation(named_entity, 44, 45, O, {'sentence': '0', 'word': 'on'}, []),\n",
       "  Annotation(named_entity, 47, 49, B-ADMISSION_DATE, {'sentence': '0', 'word': 'Sep', 'confidence': '0.9757786', 'question': 'When did patient admitted to a clinic?'}, []),\n",
       "  Annotation(named_entity, 51, 53, I-ADMISSION_DATE, {'sentence': '0', 'word': '1st', 'confidence': '0.9757786', 'question': 'When did patient admitted to a clinic?'}, []),\n",
       "  Annotation(named_entity, 55, 56, O, {'sentence': '0', 'word': 'by'}, []),\n",
       "  Annotation(named_entity, 58, 59, O, {'sentence': '0', 'word': 'Dr'}, []),\n",
       "  Annotation(named_entity, 60, 60, O, {'sentence': '0', 'word': '.'}, []),\n",
       "  Annotation(named_entity, 62, 62, O, {'sentence': '0', 'word': 'X'}, []),\n",
       "  Annotation(named_entity, 64, 66, O, {'sentence': '0', 'word': 'for'}, []),\n",
       "  Annotation(named_entity, 68, 68, O, {'sentence': '0', 'word': 'a'}, []),\n",
       "  Annotation(named_entity, 70, 80, B-PROBLEM, {'sentence': '0', 'word': 'right-sided', 'confidence': '0.58216727', 'question': 'What was the reason that the patient is admitted to the clinic?'}, []),\n",
       "  Annotation(named_entity, 82, 88, I-PROBLEM, {'sentence': '0', 'word': 'pleural', 'confidence': '0.58216727', 'question': 'What was the reason that the patient is admitted to the clinic?'}, []),\n",
       "  Annotation(named_entity, 90, 97, I-PROBLEM, {'sentence': '0', 'word': 'effusion', 'confidence': '0.58216727', 'question': 'What was the reason that the patient is admitted to the clinic?'}, []),\n",
       "  Annotation(named_entity, 99, 101, I-PROBLEM, {'sentence': '0', 'word': 'for', 'confidence': '0.58216727', 'question': 'What was the reason that the patient is admitted to the clinic?'}, []),\n",
       "  Annotation(named_entity, 103, 115, I-PROBLEM, {'sentence': '0', 'word': 'thoracentesis', 'confidence': '0.58216727', 'question': 'What was the reason that the patient is admitted to the clinic?'}, []),\n",
       "  Annotation(named_entity, 116, 116, O, {'sentence': '0', 'word': '.'}, [])],\n",
       " 'document': [Annotation(document, 0, 116, 27 years old patient was admitted to clinic on Sep 1st by Dr. X for a right-sided pleural effusion for thoracentesis., {}, [])],\n",
       " 'ner_chunk': [Annotation(chunk, 0, 7, 27 years, {'entity': 'PATIENT_AGE', 'confidence': '0.7028018', 'ner_source': 'ner_chunk', 'chunk': '0', 'sentence': '0'}, []),\n",
       "  Annotation(chunk, 47, 53, Sep 1st, {'entity': 'ADMISSION_DATE', 'confidence': '0.9757786', 'ner_source': 'ner_chunk', 'chunk': '1', 'sentence': '0'}, []),\n",
       "  Annotation(chunk, 70, 115, right-sided pleural effusion for thoracentesis, {'entity': 'PROBLEM', 'confidence': '0.58216727', 'ner_source': 'ner_chunk', 'chunk': '2', 'sentence': '0'}, [])],\n",
       " 'token': [Annotation(token, 0, 1, 27, {'sentence': '0'}, []),\n",
       "  Annotation(token, 3, 7, years, {'sentence': '0'}, []),\n",
       "  Annotation(token, 9, 11, old, {'sentence': '0'}, []),\n",
       "  Annotation(token, 13, 19, patient, {'sentence': '0'}, []),\n",
       "  Annotation(token, 21, 23, was, {'sentence': '0'}, []),\n",
       "  Annotation(token, 25, 32, admitted, {'sentence': '0'}, []),\n",
       "  Annotation(token, 34, 35, to, {'sentence': '0'}, []),\n",
       "  Annotation(token, 37, 42, clinic, {'sentence': '0'}, []),\n",
       "  Annotation(token, 44, 45, on, {'sentence': '0'}, []),\n",
       "  Annotation(token, 47, 49, Sep, {'sentence': '0'}, []),\n",
       "  Annotation(token, 51, 53, 1st, {'sentence': '0'}, []),\n",
       "  Annotation(token, 55, 56, by, {'sentence': '0'}, []),\n",
       "  Annotation(token, 58, 59, Dr, {'sentence': '0'}, []),\n",
       "  Annotation(token, 60, 60, ., {'sentence': '0'}, []),\n",
       "  Annotation(token, 62, 62, X, {'sentence': '0'}, []),\n",
       "  Annotation(token, 64, 66, for, {'sentence': '0'}, []),\n",
       "  Annotation(token, 68, 68, a, {'sentence': '0'}, []),\n",
       "  Annotation(token, 70, 80, right-sided, {'sentence': '0'}, []),\n",
       "  Annotation(token, 82, 88, pleural, {'sentence': '0'}, []),\n",
       "  Annotation(token, 90, 97, effusion, {'sentence': '0'}, []),\n",
       "  Annotation(token, 99, 101, for, {'sentence': '0'}, []),\n",
       "  Annotation(token, 103, 115, thoracentesis, {'sentence': '0'}, []),\n",
       "  Annotation(token, 116, 116, ., {'sentence': '0'}, [])],\n",
       " 'sentence': [Annotation(document, 0, 116, 27 years old patient was admitted to clinic on Sep 1st by Dr. X for a right-sided pleural effusion for thoracentesis., {'sentence': '0'}, [])]}"
      ]
     },
     "execution_count": 20,
     "metadata": {},
     "output_type": "execute_result"
    }
   ],
   "source": [
    "light_result[0]"
   ]
  },
  {
   "cell_type": "markdown",
   "metadata": {
    "application/vnd.databricks.v1+cell": {
     "cellMetadata": {},
     "inputWidgets": {},
     "nuid": "7f60d0d9-6497-4c33-b590-95a744debc53",
     "showTitle": false,
     "tableResultSettingsMap": {},
     "title": ""
    }
   },
   "source": [
    "## 📍 **NER Visualizer**\n",
    "\n",
    "For saving the visualization result as html, provide `save_path` parameter in the display function."
   ]
  },
  {
   "cell_type": "code",
   "execution_count": 0,
   "metadata": {
    "application/vnd.databricks.v1+cell": {
     "cellMetadata": {
      "byteLimit": 2048000,
      "rowLimit": 10000
     },
     "inputWidgets": {},
     "nuid": "781e6b0a-b843-44fd-a654-d6cc5a9e4ba1",
     "showTitle": false,
     "tableResultSettingsMap": {},
     "title": ""
    }
   },
   "outputs": [
    {
     "output_type": "display_data",
     "data": {
      "text/html": [
       "\n",
       "<style>\n",
       "    @import url('https://fonts.googleapis.com/css2?family=Montserrat:wght@300;400;500;600;700&display=swap');\n",
       "    @import url('https://fonts.googleapis.com/css2?family=Vistol Regular:wght@300;400;500;600;700&display=swap');\n",
       "    \n",
       "    .spark-nlp-display-scroll-entities {\n",
       "        border: 1px solid #E7EDF0;\n",
       "        border-radius: 3px;\n",
       "        text-align: justify;\n",
       "        \n",
       "    }\n",
       "    .spark-nlp-display-scroll-entities span {  \n",
       "        font-size: 14px;\n",
       "        line-height: 24px;\n",
       "        color: #536B76;\n",
       "        font-family: 'Montserrat', sans-serif !important;\n",
       "    }\n",
       "    \n",
       "    .spark-nlp-display-entity-wrapper{\n",
       "    \n",
       "        display: inline-grid;\n",
       "        text-align: center;\n",
       "        border-radius: 4px;\n",
       "        margin: 0 2px 5px 2px;\n",
       "        padding: 1px\n",
       "    }\n",
       "    .spark-nlp-display-entity-name{\n",
       "        font-size: 14px;\n",
       "        line-height: 24px;\n",
       "        font-family: 'Montserrat', sans-serif !important;\n",
       "        \n",
       "        background: #f1f2f3;\n",
       "        border-width: medium;\n",
       "        text-align: center;\n",
       "        \n",
       "        font-weight: 400;\n",
       "        \n",
       "        border-radius: 5px;\n",
       "        padding: 2px 5px;\n",
       "        display: block;\n",
       "        margin: 3px 2px;\n",
       "    \n",
       "    }\n",
       "    .spark-nlp-display-entity-type{\n",
       "        font-size: 14px;\n",
       "        line-height: 24px;\n",
       "        color: #ffffff;\n",
       "        font-family: 'Montserrat', sans-serif !important;\n",
       "        \n",
       "        text-transform: uppercase;\n",
       "        \n",
       "        font-weight: 500;\n",
       "\n",
       "        display: block;\n",
       "        padding: 3px 5px;\n",
       "    }\n",
       "    \n",
       "    .spark-nlp-display-entity-resolution{\n",
       "        font-size: 14px;\n",
       "        line-height: 24px;\n",
       "        color: #ffffff;\n",
       "        font-family: 'Vistol Regular', sans-serif !important;\n",
       "        \n",
       "        text-transform: uppercase;\n",
       "        \n",
       "        font-weight: 500;\n",
       "\n",
       "        display: block;\n",
       "        padding: 3px 5px;\n",
       "    }\n",
       "    \n",
       "    .spark-nlp-display-others{\n",
       "        font-size: 14px;\n",
       "        line-height: 24px;\n",
       "        font-family: 'Montserrat', sans-serif !important;\n",
       "        \n",
       "        font-weight: 400;\n",
       "    }\n",
       "\n",
       "</style>\n",
       " <span class=\"spark-nlp-display-others\" style=\"background-color: white\">The doctor pescribed </span><span class=\"spark-nlp-display-entity-wrapper\" style=\"background-color: #8B668B\"><span class=\"spark-nlp-display-entity-name\">Majezik </span><span class=\"spark-nlp-display-entity-type\">DRUG</span></span><span class=\"spark-nlp-display-others\" style=\"background-color: white\"> for my </span><span class=\"spark-nlp-display-entity-wrapper\" style=\"background-color: #800080\"><span class=\"spark-nlp-display-entity-name\">severe headache </span><span class=\"spark-nlp-display-entity-type\">PROBLEM</span></span><span class=\"spark-nlp-display-others\" style=\"background-color: white\">.</span></div>"
      ],
      "text/plain": [
       "<IPython.core.display.HTML object>"
      ]
     },
     "metadata": {},
     "output_type": "display_data"
    },
    {
     "output_type": "display_data",
     "data": {
      "text/html": [
       "\n",
       "<style>\n",
       "    @import url('https://fonts.googleapis.com/css2?family=Montserrat:wght@300;400;500;600;700&display=swap');\n",
       "    @import url('https://fonts.googleapis.com/css2?family=Vistol Regular:wght@300;400;500;600;700&display=swap');\n",
       "    \n",
       "    .spark-nlp-display-scroll-entities {\n",
       "        border: 1px solid #E7EDF0;\n",
       "        border-radius: 3px;\n",
       "        text-align: justify;\n",
       "        \n",
       "    }\n",
       "    .spark-nlp-display-scroll-entities span {  \n",
       "        font-size: 14px;\n",
       "        line-height: 24px;\n",
       "        color: #536B76;\n",
       "        font-family: 'Montserrat', sans-serif !important;\n",
       "    }\n",
       "    \n",
       "    .spark-nlp-display-entity-wrapper{\n",
       "    \n",
       "        display: inline-grid;\n",
       "        text-align: center;\n",
       "        border-radius: 4px;\n",
       "        margin: 0 2px 5px 2px;\n",
       "        padding: 1px\n",
       "    }\n",
       "    .spark-nlp-display-entity-name{\n",
       "        font-size: 14px;\n",
       "        line-height: 24px;\n",
       "        font-family: 'Montserrat', sans-serif !important;\n",
       "        \n",
       "        background: #f1f2f3;\n",
       "        border-width: medium;\n",
       "        text-align: center;\n",
       "        \n",
       "        font-weight: 400;\n",
       "        \n",
       "        border-radius: 5px;\n",
       "        padding: 2px 5px;\n",
       "        display: block;\n",
       "        margin: 3px 2px;\n",
       "    \n",
       "    }\n",
       "    .spark-nlp-display-entity-type{\n",
       "        font-size: 14px;\n",
       "        line-height: 24px;\n",
       "        color: #ffffff;\n",
       "        font-family: 'Montserrat', sans-serif !important;\n",
       "        \n",
       "        text-transform: uppercase;\n",
       "        \n",
       "        font-weight: 500;\n",
       "\n",
       "        display: block;\n",
       "        padding: 3px 5px;\n",
       "    }\n",
       "    \n",
       "    .spark-nlp-display-entity-resolution{\n",
       "        font-size: 14px;\n",
       "        line-height: 24px;\n",
       "        color: #ffffff;\n",
       "        font-family: 'Vistol Regular', sans-serif !important;\n",
       "        \n",
       "        text-transform: uppercase;\n",
       "        \n",
       "        font-weight: 500;\n",
       "\n",
       "        display: block;\n",
       "        padding: 3px 5px;\n",
       "    }\n",
       "    \n",
       "    .spark-nlp-display-others{\n",
       "        font-size: 14px;\n",
       "        line-height: 24px;\n",
       "        font-family: 'Montserrat', sans-serif !important;\n",
       "        \n",
       "        font-weight: 400;\n",
       "    }\n",
       "\n",
       "</style>\n",
       " <span class=\"spark-nlp-display-others\" style=\"background-color: white\">The patient was admitted to the hospital for his </span><span class=\"spark-nlp-display-entity-wrapper\" style=\"background-color: #800080\"><span class=\"spark-nlp-display-entity-name\">colon cancer </span><span class=\"spark-nlp-display-entity-type\">PROBLEM</span></span><span class=\"spark-nlp-display-others\" style=\"background-color: white\">.</span></div>"
      ],
      "text/plain": [
       "<IPython.core.display.HTML object>"
      ]
     },
     "metadata": {},
     "output_type": "display_data"
    },
    {
     "output_type": "display_data",
     "data": {
      "text/html": [
       "\n",
       "<style>\n",
       "    @import url('https://fonts.googleapis.com/css2?family=Montserrat:wght@300;400;500;600;700&display=swap');\n",
       "    @import url('https://fonts.googleapis.com/css2?family=Vistol Regular:wght@300;400;500;600;700&display=swap');\n",
       "    \n",
       "    .spark-nlp-display-scroll-entities {\n",
       "        border: 1px solid #E7EDF0;\n",
       "        border-radius: 3px;\n",
       "        text-align: justify;\n",
       "        \n",
       "    }\n",
       "    .spark-nlp-display-scroll-entities span {  \n",
       "        font-size: 14px;\n",
       "        line-height: 24px;\n",
       "        color: #536B76;\n",
       "        font-family: 'Montserrat', sans-serif !important;\n",
       "    }\n",
       "    \n",
       "    .spark-nlp-display-entity-wrapper{\n",
       "    \n",
       "        display: inline-grid;\n",
       "        text-align: center;\n",
       "        border-radius: 4px;\n",
       "        margin: 0 2px 5px 2px;\n",
       "        padding: 1px\n",
       "    }\n",
       "    .spark-nlp-display-entity-name{\n",
       "        font-size: 14px;\n",
       "        line-height: 24px;\n",
       "        font-family: 'Montserrat', sans-serif !important;\n",
       "        \n",
       "        background: #f1f2f3;\n",
       "        border-width: medium;\n",
       "        text-align: center;\n",
       "        \n",
       "        font-weight: 400;\n",
       "        \n",
       "        border-radius: 5px;\n",
       "        padding: 2px 5px;\n",
       "        display: block;\n",
       "        margin: 3px 2px;\n",
       "    \n",
       "    }\n",
       "    .spark-nlp-display-entity-type{\n",
       "        font-size: 14px;\n",
       "        line-height: 24px;\n",
       "        color: #ffffff;\n",
       "        font-family: 'Montserrat', sans-serif !important;\n",
       "        \n",
       "        text-transform: uppercase;\n",
       "        \n",
       "        font-weight: 500;\n",
       "\n",
       "        display: block;\n",
       "        padding: 3px 5px;\n",
       "    }\n",
       "    \n",
       "    .spark-nlp-display-entity-resolution{\n",
       "        font-size: 14px;\n",
       "        line-height: 24px;\n",
       "        color: #ffffff;\n",
       "        font-family: 'Vistol Regular', sans-serif !important;\n",
       "        \n",
       "        text-transform: uppercase;\n",
       "        \n",
       "        font-weight: 500;\n",
       "\n",
       "        display: block;\n",
       "        padding: 3px 5px;\n",
       "    }\n",
       "    \n",
       "    .spark-nlp-display-others{\n",
       "        font-size: 14px;\n",
       "        line-height: 24px;\n",
       "        font-family: 'Montserrat', sans-serif !important;\n",
       "        \n",
       "        font-weight: 400;\n",
       "    }\n",
       "\n",
       "</style>\n",
       " <span class=\"spark-nlp-display-entity-wrapper\" style=\"background-color: #204C45\"><span class=\"spark-nlp-display-entity-name\">27 years </span><span class=\"spark-nlp-display-entity-type\">PATIENT_AGE</span></span><span class=\"spark-nlp-display-others\" style=\"background-color: white\"> old patient was admitted to clinic on </span><span class=\"spark-nlp-display-entity-wrapper\" style=\"background-color: #521679\"><span class=\"spark-nlp-display-entity-name\">Sep 1st </span><span class=\"spark-nlp-display-entity-type\">ADMISSION_DATE</span></span><span class=\"spark-nlp-display-others\" style=\"background-color: white\"> by Dr. X for a </span><span class=\"spark-nlp-display-entity-wrapper\" style=\"background-color: #800080\"><span class=\"spark-nlp-display-entity-name\">right-sided pleural effusion for thoracentesis </span><span class=\"spark-nlp-display-entity-type\">PROBLEM</span></span><span class=\"spark-nlp-display-others\" style=\"background-color: white\">.</span></div>"
      ],
      "text/plain": [
       "<IPython.core.display.HTML object>"
      ]
     },
     "metadata": {},
     "output_type": "display_data"
    }
   ],
   "source": [
    "visualiser = nlp.viz.NerVisualizer()\n",
    "\n",
    "for i in text_list:\n",
    "\n",
    "    light_result = light_model.fullAnnotate(i)\n",
    "    visualiser.display(light_result[0], label_col='ner_chunk', document_col='document')\n",
    "\n",
    "    # Change color of an entity label\n",
    "    # visualiser.set_label_colors({'PROBLEM':'#008080', 'DRUG':'#800080', 'PATIENT_AGE':'#808080'})\n",
    "    # visualiser.display(light_result[0], label_col='ner_chunk')\n",
    "\n",
    "\n",
    "    # Set label filter\n",
    "    # visualiser.display(light_result[0], label_col='ner_chunk', document_col='document',labels=['PROBLEM'])"
   ]
  },
  {
   "cell_type": "markdown",
   "metadata": {
    "application/vnd.databricks.v1+cell": {
     "cellMetadata": {},
     "inputWidgets": {},
     "nuid": "0368e396-e7c6-40fb-8158-0c81349fbb65",
     "showTitle": false,
     "tableResultSettingsMap": {},
     "title": ""
    }
   },
   "source": [
    "## 🧨 **Save the Model and Load from Disc**\n",
    "\n",
    "Now we will save the Zero-Shot NER model and then we will be able to use this model without definitions. So our model will have the same labels that we defined before."
   ]
  },
  {
   "cell_type": "code",
   "execution_count": 0,
   "metadata": {
    "application/vnd.databricks.v1+cell": {
     "cellMetadata": {
      "byteLimit": 2048000,
      "rowLimit": 10000
     },
     "inputWidgets": {},
     "nuid": "b649eb2f-4599-48f7-a00b-6f8b3a4d6b61",
     "showTitle": false,
     "tableResultSettingsMap": {},
     "title": ""
    }
   },
   "outputs": [],
   "source": [
    "# save model\n",
    "\n",
    "zero_shot_ner.write().overwrite().save(\"dbfs:/databricks/driver/zero_shot_ner_model\")"
   ]
  },
  {
   "cell_type": "code",
   "execution_count": 0,
   "metadata": {
    "application/vnd.databricks.v1+cell": {
     "cellMetadata": {
      "byteLimit": 2048000,
      "rowLimit": 10000
     },
     "inputWidgets": {},
     "nuid": "748a0e98-e64b-4b11-8f60-d5232c90c8d7",
     "showTitle": false,
     "tableResultSettingsMap": {},
     "title": ""
    }
   },
   "outputs": [],
   "source": [
    "# load from disc and create a new pipeline\n",
    "\n",
    "zero_shot_ner_local = medical.ZeroShotNerModel.load(\"dbfs:/databricks/driver/zero_shot_ner_model\")\\\n",
    "    .setInputCols([\"sentence\", \"token\"])\\\n",
    "    .setOutputCol(\"zero_shot_ner\")\n",
    "\n",
    "ner_converter_local = medical.NerConverterInternal()\\\n",
    "    .setInputCols([\"sentence\", \"token\", \"zero_shot_ner\"])\\\n",
    "    .setOutputCol(\"ner_chunk\")\\\n",
    "\n",
    "pipeline_local = nlp.Pipeline(stages = [\n",
    "    documentAssembler,\n",
    "    sentenceDetector,\n",
    "    tokenizer,\n",
    "    zero_shot_ner_local,\n",
    "    ner_converter_local])\n",
    "\n",
    "zero_shot_ner_model_local = pipeline_local.fit(spark.createDataFrame([[\"\"]]).toDF(\"text\"))"
   ]
  },
  {
   "cell_type": "code",
   "execution_count": 0,
   "metadata": {
    "application/vnd.databricks.v1+cell": {
     "cellMetadata": {
      "byteLimit": 2048000,
      "rowLimit": 10000
     },
     "inputWidgets": {},
     "nuid": "244e105d-6d26-4bc5-b775-3d6b7ca71a2c",
     "showTitle": false,
     "tableResultSettingsMap": {},
     "title": ""
    }
   },
   "outputs": [
    {
     "output_type": "stream",
     "name": "stdout",
     "output_type": "stream",
     "text": [
      "+----------------------------------------------+--------------+----------+\n|                                         chunk|     ner_label|confidence|\n+----------------------------------------------+--------------+----------+\n|                                       Majezik|          DRUG|0.62337005|\n|                               severe headache|       PROBLEM| 0.5319871|\n|                                  colon cancer|       PROBLEM| 0.9406248|\n|                                      27 years|   PATIENT_AGE| 0.7028018|\n|                                       Sep 1st|ADMISSION_DATE| 0.9757786|\n|right-sided pleural effusion for thoracentesis|       PROBLEM|0.58216727|\n+----------------------------------------------+--------------+----------+\n\n"
     ]
    }
   ],
   "source": [
    "# check the results\n",
    "\n",
    "local_results = zero_shot_ner_model_local.transform(data)\n",
    "\n",
    "local_results.select(F.explode(F.arrays_zip(local_results.ner_chunk.result,\n",
    "                                            local_results.ner_chunk.metadata)).alias(\"cols\"))\\\n",
    "             .select(F.expr(\"cols['0']\").alias(\"chunk\"),\n",
    "                     F.expr(\"cols['1']['entity']\").alias(\"ner_label\"),\n",
    "                     F.expr(\"cols['1']['confidence']\").alias(\"confidence\")).show(50, truncate=100)"
   ]
  },
  {
   "cell_type": "markdown",
   "metadata": {
    "application/vnd.databricks.v1+cell": {
     "cellMetadata": {},
     "inputWidgets": {},
     "nuid": "084b13b6-4fe5-435d-becd-f0f953fdfaa2",
     "showTitle": false,
     "tableResultSettingsMap": {},
     "title": ""
    }
   },
   "source": [
    "# 📌 NER Question Generator\n",
    "\n",
    "`NerQuestionGenerator` annotator helps you build questions on the fly using 2 entities from different labels (preferably a subject and a verb). For example, let's suppose you have an NER model, able to detect `PATIENT`and `ADMISSION` in the following text:\n",
    "\n",
    "`John Smith was admitted Sep 3rd to Mayo Clinic`\n",
    "- PATIENT: `John Smith`\n",
    "- ADMISSION: `was admitted`\n",
    "\n",
    "You can add the following annotator to construct questions using PATIENT and ADMISSION:\n",
    "\n",
    "```python\n",
    "# setEntities1 says which entity from NER goes first in the question\n",
    "# setEntities2 says which entity from NER goes second in the question\n",
    "# setQuestionMark to True adds a '?' at the end of the sentence (after entity 2)\n",
    "# To sum up, the pattern is     [QUESTIONPRONOUN] [ENTITY1] [ENTITY2] [QUESTIONMARK]\n",
    "\n",
    "qagenerator = NerQuestionGenerator()\\\n",
    "  .setInputCols([\"ner_chunk\"])\\\n",
    "  .setOutputCol(\"question\")\\\n",
    "  .setQuestionMark(True)\\\n",
    "  .setQuestionPronoun(\"When\")\\\n",
    "  .setStrategyType(\"Paired\")\\\n",
    "  .setEntities1([\"PATIENT\"])\\\n",
    "  .setEntities2([\"ADMISSION\"])\n",
    "```\n",
    "In the column `question` you will find: `When John Smith was admitted?`. Likewise you could have `Where` or any other question pronoun you may need.\n",
    "\n",
    "You can use those questions in a QuestionAnsweringModel or ZeroShotNER (any model which requires a question as an input. Let's see the case of QA.\n",
    "\n",
    "```python\n",
    "qa = BertForQuestionAnswering.pretrained(\"bert_qa_spanbert_finetuned_squadv1\",\"en\") \\\n",
    "  .setInputCols([\"question\", \"document\"]) \\\n",
    "  .setOutputCol(\"answer\") \\\n",
    "  .setCaseSensitive(True)\n",
    "```\n",
    "The result will be:\n",
    "\n",
    "```bash\n",
    "+--------------------------------------------------------+-----------------------------+\n",
    "|question                                                |answer                       |\n",
    "+--------------------------------------------------------+-----------------------------+\n",
    "|[{document, 0, 25, When John Smith was admitted ? ...}] |[{chunk, 0, 8, Sep 3rd ...}] |\n",
    "+--------------------------------------------------------+-----------------------------+\n",
    "```\n",
    "Strategies:\n",
    "- Paired: First chunk of Entity 1 will be grouped with first chunk of Entity 2, second with second, third with third, etc (one-vs-one)\n",
    "- Combined: A more flexible strategy to be used in case the number of chukns in Entity 1 is not aligned with the number of chunks in Entityt 2. The first chunk from Entity 1 will be grouped with all chunks in Entity 2, the second chunk in Entity 1 with again be grouped with all the chunks in Entity 2, etc (one-vs-all)."
   ]
  }
 ],
 "metadata": {
  "application/vnd.databricks.v1+notebook": {
   "computePreferences": null,
   "dashboards": [],
   "environmentMetadata": null,
   "language": "python",
   "notebookMetadata": {
    "pythonIndentUnit": 2
   },
   "notebookName": "01.4.ZeroShot_Clinical_NER",
   "widgets": {}
  },
  "colab": {
   "collapsed_sections": [],
   "machine_shape": "hm",
   "provenance": []
  },
  "kernelspec": {
   "display_name": "Python 3 (ipykernel)",
   "language": "python",
   "name": "python3"
  },
  "language_info": {
   "name": "python"
  }
 },
 "nbformat": 4,
 "nbformat_minor": 0
}
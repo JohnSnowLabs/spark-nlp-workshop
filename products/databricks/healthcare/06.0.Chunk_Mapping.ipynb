{
 "cells": [
  {
   "cell_type": "markdown",
   "metadata": {
    "application/vnd.databricks.v1+cell": {
     "cellMetadata": {},
     "inputWidgets": {},
     "nuid": "9605df5a-2bd9-4f8e-89e5-e2ca0b01cc01",
     "showTitle": false,
     "tableResultSettingsMap": {},
     "title": ""
    },
    "id": "BfzsuGYbvEGN"
   },
   "source": [
    "![JohnSnowLabs](https://nlp.johnsnowlabs.com/assets/images/logo.png)"
   ]
  },
  {
   "cell_type": "markdown",
   "metadata": {
    "application/vnd.databricks.v1+cell": {
     "cellMetadata": {},
     "inputWidgets": {},
     "nuid": "f75b2df0-08d6-4e1b-98df-96f7cd77700d",
     "showTitle": false,
     "tableResultSettingsMap": {},
     "title": ""
    },
    "id": "Rx8ANMi103y2"
   },
   "source": [
    "# Chunk Mapping"
   ]
  },
  {
   "cell_type": "code",
   "execution_count": 0,
   "metadata": {
    "application/vnd.databricks.v1+cell": {
     "cellMetadata": {
      "byteLimit": 2048000,
      "rowLimit": 10000
     },
     "inputWidgets": {},
     "nuid": "0a9c7294-6998-413f-b399-00f6d7a3c91d",
     "showTitle": false,
     "tableResultSettingsMap": {},
     "title": ""
    }
   },
   "outputs": [],
   "source": [
    "from johnsnowlabs import nlp, medical"
   ]
  },
  {
   "cell_type": "code",
   "execution_count": 0,
   "metadata": {
    "application/vnd.databricks.v1+cell": {
     "cellMetadata": {
      "byteLimit": 2048000,
      "rowLimit": 10000
     },
     "inputWidgets": {},
     "nuid": "bb010719-952c-404c-a52a-3314cb19d918",
     "showTitle": false,
     "tableResultSettingsMap": {},
     "title": ""
    }
   },
   "outputs": [
    {
     "output_type": "execute_result",
     "data": {
      "text/html": [
       "\n",
       "            <div>\n",
       "                <p><b>SparkSession - hive</b></p>\n",
       "                \n",
       "        <div>\n",
       "            <p><b>SparkContext</b></p>\n",
       "\n",
       "            <p><a href=\"/?o=7956323724731612#setting/sparkui/0923-153902-en71jub8/driver-8949789944463936826\">Spark UI</a></p>\n",
       "\n",
       "            <dl>\n",
       "              <dt>Version</dt>\n",
       "                <dd><code>v3.5.0</code></dd>\n",
       "              <dt>Master</dt>\n",
       "                <dd><code>spark://10.139.64.10:7077</code></dd>\n",
       "              <dt>AppName</dt>\n",
       "                <dd><code>Databricks Shell</code></dd>\n",
       "            </dl>\n",
       "        </div>\n",
       "        \n",
       "            </div>\n",
       "        "
      ],
      "text/plain": [
       "<pyspark.sql.session.SparkSession at 0x7fd5e0a56c50>"
      ]
     },
     "execution_count": 2,
     "metadata": {},
     "output_type": "execute_result"
    }
   ],
   "source": [
    "from pyspark.sql import DataFrame\n",
    "import pyspark.sql.functions as F\n",
    "import pyspark.sql.types as T\n",
    "import pyspark.sql as SQL\n",
    "from pyspark import keyword_only\n",
    "\n",
    "import os\n",
    "import json\n",
    "import string\n",
    "import numpy as np\n",
    "import pandas as pd\n",
    "\n",
    "from pyspark.ml import Pipeline, PipelineModel\n",
    "\n",
    "pd.set_option('max_colwidth', 100)\n",
    "pd.set_option('display.max_columns', 100)  \n",
    "pd.set_option('display.expand_frame_repr', False)\n",
    "\n",
    "spark"
   ]
  },
  {
   "cell_type": "markdown",
   "metadata": {
    "application/vnd.databricks.v1+cell": {
     "cellMetadata": {},
     "inputWidgets": {},
     "nuid": "29c71cd4-efd5-4f51-910d-462e915fe2cb",
     "showTitle": false,
     "tableResultSettingsMap": {},
     "title": ""
    },
    "id": "H7Go2B1RvP0C"
   },
   "source": [
    "# 1- Pretrained Chunk Mapper Models and Pretrained Pipelines"
   ]
  },
  {
   "cell_type": "markdown",
   "metadata": {
    "application/vnd.databricks.v1+cell": {
     "cellMetadata": {},
     "inputWidgets": {},
     "nuid": "b263e606-a1e4-436e-a5f8-ef9acd731e42",
     "showTitle": false,
     "tableResultSettingsMap": {},
     "title": ""
    },
    "id": "RjnUYOjvbVEc"
   },
   "source": [
    "**<center>MAPPER MODELS**\n",
    "\n",
    "|index|model|index|model|index|model|\n",
    "|-----:|:-----|-----:|:-----|-----:|:-----|\n",
    "| 1| [abbreviation_category_mapper](https://nlp.johnsnowlabs.com/2022/11/16/abbreviation_category_mapper_en.html)  | 2| [abbreviation_mapper](https://nlp.johnsnowlabs.com/2022/05/11/abbreviation_mapper_en_3_0.html)  | 3| [abbreviation_mapper_augmented](https://nlp.johnsnowlabs.com/2022/10/30/abbreviation_mapper_augmented_en.html)  |\n",
    "| 4| [cpt_umls_mapper](https://nlp.johnsnowlabs.com/2024/02/27/cpt_umls_mapper_en.html)  | 5| [cvx_code_mapper](https://nlp.johnsnowlabs.com/2022/10/12/cvx_code_mapper_en.html)  | 6| [cvx_name_mapper](https://nlp.johnsnowlabs.com/2022/10/12/cvx_name_mapper_en.html)  |\n",
    "| 7| [drug_action_treatment_mapper](https://nlp.johnsnowlabs.com/2024/11/12/drug_action_treatment_mapper_en.html)  | 8| [drug_ade_mapper](https://nlp.johnsnowlabs.com/2022/08/23/drug_ade_mapper_en.html)  | 9| [drug_brandname_ndc_mapper](https://nlp.johnsnowlabs.com/2022/05/11/drug_brandname_ndc_mapper_en_3_0.html)  |\n",
    "| 10| [drug_category_mapper](https://nlp.johnsnowlabs.com/2022/12/18/drug_category_mapper_en.html)  | 11| [hcpcs_ndc_mapper](https://nlp.johnsnowlabs.com/2023/04/13/hcpcs_ndc_mapper_en.html)  | 12| [icd10_icd9_mapper](https://nlp.johnsnowlabs.com/2022/09/30/icd10_icd9_mapper_en.html)  |\n",
    "| 13| [icd10_meddra_llt_mapper](https://nlp.johnsnowlabs.com/2024/09/04/icd10_meddra_llt_mapper_en.html)  | 14| [icd10_meddra_pt_mapper](https://nlp.johnsnowlabs.com/2024/09/04/icd10_meddra_pt_mapper_en.html)  | 15| [icd10cm_billable_hcc_mapper](https://nlp.johnsnowlabs.com/2023/05/26/icd10cm_billable_hcc_mapper_en.html)  |\n",
    "| 16| [icd10cm_cause_claim_mapper](https://nlp.johnsnowlabs.com/2023/05/11/icd10cm_cause_claim_mapper_en.html)  | 17| [icd10cm_chronic_indicator_mapper](https://nlp.johnsnowlabs.com/2024/10/02/icd10cm_chronic_indicator_mapper_en.html)  | 18| [icd10cm_generalised_mapper](https://nlp.johnsnowlabs.com/2024/02/19/icd10cm_generalised_mapper_en.html)  |\n",
    "| 19| [icd10cm_mapper](https://nlp.johnsnowlabs.com/2022/10/29/icd10cm_mapper_en.html)  | 20| [icd10cm_ms_drg_mapper](https://nlp.johnsnowlabs.com/2023/08/08/icd10cm_ms_drg_mapper_en.html)  | 21| [icd10cm_snomed_mapper](https://nlp.johnsnowlabs.com/2022/06/26/icd10cm_snomed_mapper_en_3_0.html)  |\n",
    "| 22| [icd10cm_umls_mapper](https://nlp.johnsnowlabs.com/2022/06/26/icd10cm_umls_mapper_en_3_0.html)  | 23| [icd9_icd10_mapper](https://nlp.johnsnowlabs.com/2022/09/30/icd9_icd10_mapper_en.html)  | 24| [icd9_mapper](https://nlp.johnsnowlabs.com/2022/09/30/icd9_mapper_en.html)  |\n",
    "| 25| [icdo_snomed_mapper](https://nlp.johnsnowlabs.com/2022/06/26/icdo_snomed_mapper_en_3_0.html)  | 26| [kegg_disease_mapper](https://nlp.johnsnowlabs.com/2022/11/18/kegg_disease_mapper_en.html)  | 27| [kegg_drug_mapper](https://nlp.johnsnowlabs.com/2022/11/21/kegg_drug_mapper_en.html)  |\n",
    "| 28| [loinc_umls_mapper](https://nlp.johnsnowlabs.com/2024/02/19/loinc_umls_mapper_en.html)  | 29| [meddra_hlt_pt_mapper](https://nlp.johnsnowlabs.com/2024/09/05/meddra_hlt_pt_mapper_en.html)  | 30| [meddra_llt_icd10_mapper](https://nlp.johnsnowlabs.com/2024/09/04/meddra_llt_icd10_mapper_en.html)  |\n",
    "| 31| [meddra_llt_pt_mapper](https://nlp.johnsnowlabs.com/2024/09/03/meddra_llt_pt_mapper_en.html)  | 32| [meddra_llt_snomed_mapper](https://nlp.johnsnowlabs.com/2024/09/05/meddra_llt_snomed_mapper_en.html)  | 33| [meddra_pt_hlt_mapper](https://nlp.johnsnowlabs.com/2024/09/05/meddra_pt_hlt_mapper_en.html)  |\n",
    "| 34| [meddra_pt_icd10_mapper](https://nlp.johnsnowlabs.com/2024/09/04/meddra_pt_icd10_mapper_en.html)  | 35| [meddra_pt_llt_mapper](https://nlp.johnsnowlabs.com/2024/09/03/meddra_pt_llt_mapper_en.html)  | 36| [mesh_umls_mapper](https://nlp.johnsnowlabs.com/2022/06/26/mesh_umls_mapper_en_3_0.html)  |\n",
    "| 37| [ndc_drug_brandname_mapper](https://nlp.johnsnowlabs.com/2023/02/22/ndc_drug_brandname_mapper_en.html)  | 38| [ndc_hcpcs_mapper](https://nlp.johnsnowlabs.com/2023/04/13/ndc_hcpcs_mapper_en.html)  | 39| [normalized_section_header_mapper](https://nlp.johnsnowlabs.com/2022/06/26/normalized_section_header_mapper_en_3_0.html)  |\n",
    "| 40| [rxnorm_action_mapper](https://nlp.johnsnowlabs.com/2024/02/17/rxnorm_action_mapper_en.html)  | 41| [rxnorm_action_treatment_mapper](https://nlp.johnsnowlabs.com/2022/05/08/rxnorm_action_treatment_mapper_en_3_0.html)  | 42| [rxnorm_drug_brandname_mapper](https://nlp.johnsnowlabs.com/2023/02/09/rxnorm_drug_brandname_mapper_en.html)  |\n",
    "| 43| [rxnorm_mapper](https://nlp.johnsnowlabs.com/2022/06/27/rxnorm_mapper_en_3_0.html)  | 44| [rxnorm_ndc_mapper](https://nlp.johnsnowlabs.com/2022/05/20/rxnorm_ndc_mapper_en_3_0.html)  | 45| [rxnorm_nih_mapper](https://nlp.johnsnowlabs.com/2023/02/23/rxnorm_nih_mapper_en.html)  |\n",
    "| 46| [rxnorm_normalized_mapper](https://nlp.johnsnowlabs.com/2022/09/29/rxnorm_normalized_mapper_en.html)  | 47| [rxnorm_treatment_mapper](https://nlp.johnsnowlabs.com/2024/02/17/rxnorm_treatment_mapper_en.html)  | 48| [rxnorm_umls_mapper](https://nlp.johnsnowlabs.com/2024/03/13/rxnorm_umls_mapper_en.html)  |\n",
    "| 49| [snomed_icd10cm_mapper](https://nlp.johnsnowlabs.com/2022/06/26/snomed_icd10cm_mapper_en_3_0.html)  | 50| [snomed_icdo_mapper](https://nlp.johnsnowlabs.com/2022/06/26/snomed_icdo_mapper_en_3_0.html)  | 51| [snomed_meddra_llt_mapper](https://nlp.johnsnowlabs.com/2024/09/05/snomed_meddra_llt_mapper_en.html)  |\n",
    "| 52| [snomed_umls_mapper](https://nlp.johnsnowlabs.com/2022/06/27/snomed_umls_mapper_en_3_0.html)  | 53| [umls_clinical_drugs_mapper](https://nlp.johnsnowlabs.com/2022/07/06/umls_clinical_drugs_mapper_en_3_0.html)  | 54| [umls_clinical_findings_mapper](https://nlp.johnsnowlabs.com/2022/07/08/umls_clinical_findings_mapper_en_3_0.html)  |\n",
    "| 55| [umls_cpt_mapper](https://nlp.johnsnowlabs.com/2024/02/27/umls_cpt_mapper_en.html)  | 56| [umls_disease_syndrome_mapper](https://nlp.johnsnowlabs.com/2022/07/11/umls_disease_syndrome_mapper_en_3_0.html)  | 57| [umls_drug_substance_mapper](https://nlp.johnsnowlabs.com/2022/07/11/umls_drug_substance_mapper_en_3_0.html)  |\n",
    "| 58| [umls_icd10cm_mapper](https://nlp.johnsnowlabs.com/2023/10/17/umls_icd10cm_mapper_en.html)  | 59| [umls_loinc_mapper](https://nlp.johnsnowlabs.com/2024/02/15/umls_loinc_mapper_en.html)  | 60| [umls_major_concepts_mapper](https://nlp.johnsnowlabs.com/2022/07/11/umls_major_concepts_mapper_en_3_0.html)  |\n",
    "| 61| [umls_mesh_mapper](https://nlp.johnsnowlabs.com/2023/10/17/umls_mesh_mapper_en.html)  | 62| [umls_rxnorm_mapper](https://nlp.johnsnowlabs.com/2024/03/13/umls_rxnorm_mapper_en.html)  | 63| [umls_snomed_mapper](https://nlp.johnsnowlabs.com/2023/10/17/umls_snomed_mapper_en.html)  |\n",
    "\n",
    "\n",
    "**You can find all these models and more [NLP Models Hub](https://nlp.johnsnowlabs.com/models?q=Chunk+Mapping&edition=Spark+NLP+for+Healthcare)**\n",
    "\n",
    "<br>\n",
    "\n",
    "**<center>PRETRAINED MAPPER PIPELINES**\n",
    "\n",
    "|index|model|\n",
    "|-----:|:-----|\n",
    "| 1| [icd10_icd9_mapping](https://nlp.johnsnowlabs.com/2022/09/30/icd10_icd9_mapping_en.html)  |\n",
    "| 2| [icd10cm_snomed_mapping](https://nlp.johnsnowlabs.com/2022/06/27/icd10cm_snomed_mapping_en_3_0.html)  |\n",
    "| 3| [icd10cm_umls_mapping](https://nlp.johnsnowlabs.com/2021/05/04/icd10cm_umls_mapping_en.html)  |\n",
    "| 4| [icdo_snomed_mapping](https://nlp.johnsnowlabs.com/2022/06/27/icdo_snomed_mapping_en_3_0.html)  |\n",
    "| 5| [mesh_umls_mapping](https://nlp.johnsnowlabs.com/2021/05/04/mesh_umls_mapping_en.html)  |\n",
    "| 6| [rxnorm_mesh_mapping](https://nlp.johnsnowlabs.com/2021/05/04/rxnorm_mesh_mapping_en.html)  |\n",
    "| 7| [rxnorm_ndc_mapping](https://nlp.johnsnowlabs.com/2022/06/27/rxnorm_ndc_mapping_en_3_0.html)  |\n",
    "| 8| [rxnorm_umls_mapping](https://nlp.johnsnowlabs.com/2023/06/17/rxnorm_umls_mapping_en.html)  |\n",
    "| 9| [snomed_icd10cm_mapping](https://nlp.johnsnowlabs.com/2021/05/02/snomed_icd10cm_mapping_en.html)  |\n",
    "| 10| [snomed_icdo_mapping](https://nlp.johnsnowlabs.com/2022/06/27/snomed_icdo_mapping_en_3_0.html)  |\n",
    "| 11| [snomed_umls_mapping](https://nlp.johnsnowlabs.com/2023/06/17/snomed_umls_mapping_en.html)  |\n",
    "\n",
    "\n",
    "\n",
    "You can check [Healthcare Code Mapping Notebook](https://github.com/JohnSnowLabs/spark-nlp-workshop/blob/master/tutorials/Certification_Trainings/Healthcare/11.1.Healthcare_Code_Mapping.ipynb) for the examples of pretrained mapper pipelines."
   ]
  },
  {
   "cell_type": "markdown",
   "metadata": {
    "application/vnd.databricks.v1+cell": {
     "cellMetadata": {},
     "inputWidgets": {},
     "nuid": "2e3b4a35-fcf1-4a2f-be20-ae69276a1094",
     "showTitle": false,
     "tableResultSettingsMap": {},
     "title": ""
    },
    "id": "tun6FxO1V443"
   },
   "source": [
    "## 1.1- Drug Action Treatment Mapper"
   ]
  },
  {
   "cell_type": "markdown",
   "metadata": {
    "application/vnd.databricks.v1+cell": {
     "cellMetadata": {},
     "inputWidgets": {},
     "nuid": "52e810e8-282e-4d9b-8108-8ab051496999",
     "showTitle": false,
     "tableResultSettingsMap": {},
     "title": ""
    },
    "id": "NbpIBoXl94ii"
   },
   "source": [
    "Pretrained `drug_action_treatment_mapper` model maps drugs with their corresponding `action` and `treatment` through `ChunkMapperModel()` annotator. <br/>\n",
    "\n",
    "\n",
    "**Action** of drug refers to the function of a drug in various body systems. <br/>\n",
    "**Treatment** refers to which disease the drug is used to treat. \n",
    "\n",
    "We can choose which option we want to use by setting `setRels()` parameter of `ChunkMapperModel()`"
   ]
  },
  {
   "cell_type": "markdown",
   "metadata": {
    "application/vnd.databricks.v1+cell": {
     "cellMetadata": {},
     "inputWidgets": {},
     "nuid": "8ea9c039-cca7-43bb-8b2e-b5ef238c811e",
     "showTitle": false,
     "tableResultSettingsMap": {},
     "title": ""
    },
    "id": "rioaJXFnS-q2"
   },
   "source": [
    "We will create a pipeline consisting `bert_token_classifier_drug_development_trials` ner model to extract ner chunk as well as `ChunkMapperModel()`. <br/>\n",
    " Also, we will set the `.setRels()` parameter with `action` and see the results."
   ]
  },
  {
   "cell_type": "code",
   "execution_count": 0,
   "metadata": {
    "application/vnd.databricks.v1+cell": {
     "cellMetadata": {
      "byteLimit": 2048000,
      "rowLimit": 10000
     },
     "inputWidgets": {},
     "nuid": "c5167fd3-06c8-41f1-9a2f-7a3a0edd9112",
     "showTitle": false,
     "tableResultSettingsMap": {},
     "title": ""
    },
    "colab": {
     "base_uri": "https://localhost:8080/"
    },
    "id": "LDE0GMq8xYin",
    "outputId": "53187e3a-07e5-409e-d6d9-8aa2aa2fdab8"
   },
   "outputs": [
    {
     "output_type": "stream",
     "name": "stdout",
     "output_type": "stream",
     "text": [
      "bert_token_classifier_drug_development_trials download started this may take some time.\nApproximate size to download 382.1 MB\n\r[ | ]\r[ / ]\r[ — ]\r[ \\ ]\r[ | ]\r[ / ]\r[ — ]\r[ \\ ]\r[ | ]\r[ / ]\r[ — ]\r[ \\ ]\r[ | ]\r[ / ]\r[OK!]\ndrug_action_treatment_mapper download started this may take some time.\nApproximate size to download 9.6 MB\n\r[ | ]\r[ / ]\r[ — ]\r[ \\ ]\r[ | ]\r[ / ]\r[ — ]\r[ \\ ]\r[ | ]\r[OK!]\n"
     ]
    }
   ],
   "source": [
    "#ChunkMapper Pipeline\n",
    "document_assembler = nlp.DocumentAssembler()\\\n",
    "      .setInputCol('text')\\\n",
    "      .setOutputCol('document')\n",
    "\n",
    "sentence_detector = nlp.SentenceDetector()\\\n",
    "      .setInputCols([\"document\"])\\\n",
    "      .setOutputCol(\"sentence\")\n",
    "\n",
    "tokenizer = nlp.Tokenizer()\\\n",
    "      .setInputCols(\"sentence\")\\\n",
    "      .setOutputCol(\"token\")\n",
    "\n",
    "ner =  medical.BertForTokenClassification.pretrained(\"bert_token_classifier_drug_development_trials\", \"en\", \"clinical/models\")\\\n",
    "      .setInputCols(\"token\",\"sentence\")\\\n",
    "      .setOutputCol(\"ner\")\n",
    "\n",
    "nerconverter = medical.NerConverterInternal()\\\n",
    "      .setInputCols(\"sentence\", \"token\", \"ner\")\\\n",
    "      .setOutputCol(\"ner_chunk\")\n",
    "\n",
    "#drug_action_treatment_mapper with \"action\" mappings\n",
    "chunkerMapper= medical.ChunkMapperModel().pretrained(\"drug_action_treatment_mapper\", \"en\", \"clinical/models\")\\\n",
    "    .setInputCols([\"ner_chunk\"])\\\n",
    "    .setOutputCol(\"action_mappings\")\\\n",
    "    .setRels([\"action\"])\n",
    "    \n",
    "\n",
    "pipeline = nlp.Pipeline().setStages([document_assembler,\n",
    "                                 sentence_detector,\n",
    "                                 tokenizer,\n",
    "                                 ner, \n",
    "                                 nerconverter, \n",
    "                                 chunkerMapper])\n",
    "\n",
    "text = [[\"\"\"The patient was female and patient of Dr. X. and she was given Dermovate, Aspagin\"\"\"]]\n",
    "\n",
    "\n",
    "test_data = spark.createDataFrame(text).toDF(\"text\")\n",
    "\n",
    "res = pipeline.fit(test_data).transform(test_data)"
   ]
  },
  {
   "cell_type": "markdown",
   "metadata": {
    "application/vnd.databricks.v1+cell": {
     "cellMetadata": {},
     "inputWidgets": {},
     "nuid": "1bc2eeaf-668e-4dea-b8cb-0ba3da27430c",
     "showTitle": false,
     "tableResultSettingsMap": {},
     "title": ""
    },
    "id": "0jetN39Hzj63"
   },
   "source": [
    "Chunks detected by ner model"
   ]
  },
  {
   "cell_type": "code",
   "execution_count": 0,
   "metadata": {
    "application/vnd.databricks.v1+cell": {
     "cellMetadata": {
      "byteLimit": 2048000,
      "rowLimit": 10000
     },
     "inputWidgets": {},
     "nuid": "b4ba71a2-1d05-4222-8ce5-be68e7251fa9",
     "showTitle": false,
     "tableResultSettingsMap": {},
     "title": ""
    }
   },
   "outputs": [],
   "source": [
    "import pyspark.sql.functions as F"
   ]
  },
  {
   "cell_type": "code",
   "execution_count": 0,
   "metadata": {
    "application/vnd.databricks.v1+cell": {
     "cellMetadata": {
      "byteLimit": 2048000,
      "rowLimit": 10000
     },
     "inputWidgets": {},
     "nuid": "e078cf94-4ad8-4031-9d42-d34415a55fb3",
     "showTitle": false,
     "tableResultSettingsMap": {},
     "title": ""
    },
    "colab": {
     "base_uri": "https://localhost:8080/"
    },
    "id": "EDwLFe-QxYdr",
    "outputId": "bc02e396-9e74-4aa2-9cc5-9483c46f200f"
   },
   "outputs": [
    {
     "output_type": "stream",
     "name": "stdout",
     "output_type": "stream",
     "text": [
      "+---------+\n|chunks   |\n+---------+\n|Dermovate|\n|Aspagin  |\n+---------+\n\n"
     ]
    }
   ],
   "source": [
    "res.select(F.explode('ner_chunk.result').alias(\"chunks\")).show(truncate=False)"
   ]
  },
  {
   "cell_type": "markdown",
   "metadata": {
    "application/vnd.databricks.v1+cell": {
     "cellMetadata": {},
     "inputWidgets": {},
     "nuid": "39944ac4-ed9e-4536-a70f-0a768d30b635",
     "showTitle": false,
     "tableResultSettingsMap": {},
     "title": ""
    },
    "id": "lCLMKbAOTqTl"
   },
   "source": [
    "Checking mapping results"
   ]
  },
  {
   "cell_type": "code",
   "execution_count": 0,
   "metadata": {
    "application/vnd.databricks.v1+cell": {
     "cellMetadata": {
      "byteLimit": 2048000,
      "rowLimit": 10000
     },
     "inputWidgets": {},
     "nuid": "fefd5d64-e50f-408b-b257-d4b993d98d07",
     "showTitle": false,
     "tableResultSettingsMap": {},
     "title": ""
    },
    "colab": {
     "base_uri": "https://localhost:8080/"
    },
    "id": "qAFTxkiaXNTs",
    "outputId": "b971397f-b067-402d-984c-57b1f6656410"
   },
   "outputs": [
    {
     "output_type": "stream",
     "name": "stdout",
     "output_type": "stream",
     "text": [
      "+------------------------------+\n|result                        |\n+------------------------------+\n|[Anti-Inflammatory, Analgesic]|\n+------------------------------+\n\n"
     ]
    }
   ],
   "source": [
    "res.select(\"action_mappings.result\").show(truncate=False)"
   ]
  },
  {
   "cell_type": "code",
   "execution_count": 0,
   "metadata": {
    "application/vnd.databricks.v1+cell": {
     "cellMetadata": {
      "byteLimit": 2048000,
      "rowLimit": 10000
     },
     "inputWidgets": {},
     "nuid": "dc856887-9352-462d-8f1c-b04230bde319",
     "showTitle": false,
     "tableResultSettingsMap": {},
     "title": ""
    },
    "colab": {
     "base_uri": "https://localhost:8080/"
    },
    "id": "yFcIWEa7BSXV",
    "outputId": "5af01b41-1d55-4849-bea9-fb77f9a821ea"
   },
   "outputs": [
    {
     "output_type": "stream",
     "name": "stdout",
     "output_type": "stream",
     "text": [
      "+----------------------------------------------------------------------------------------------------------------------------------------------------------------------------------------------------------------------------------------------------------------------------------------------------------------------------------------------------------------------------------------------------------------------------------------------------------------------------------------------------------------------------------------------------------------------------------------------------------------------------------------------------------------------------------------------------------------------------------------------------------------------------------------------------------------------------------------------------------------------------------------------------------------------------------------------------------------------------------------------------------------------------+\n|metadata                                                                                                                                                                                                                                                                                                                                                                                                                                                                                                                                                                                                                                                                                                                                                                                                                                                                                                                                                                                                                    |\n+----------------------------------------------------------------------------------------------------------------------------------------------------------------------------------------------------------------------------------------------------------------------------------------------------------------------------------------------------------------------------------------------------------------------------------------------------------------------------------------------------------------------------------------------------------------------------------------------------------------------------------------------------------------------------------------------------------------------------------------------------------------------------------------------------------------------------------------------------------------------------------------------------------------------------------------------------------------------------------------------------------------------------+\n|[{chunk -> 0, __trained__ -> dermovate, relation -> action, all_k_distances -> 0.0:::0.0, __distance_function__ -> levenshtein, confidence -> 0.9997595, all_k_resolutions -> Anti-Inflammatory:::Corticosteroids:::Dermatological Preparations:::Very Strong, target_text -> Dermovate, ner_source -> ner_chunk, ops -> 0.0, all_relations -> Corticosteroids:::Dermatological Preparations:::Very Strong, entity -> Trial_Group, resolved_text -> Anti-Inflammatory, distance -> 0.1111111111111111, sentence -> 0, __relation_name__ -> action}, {chunk -> 1, __trained__ -> aspagin, relation -> action, all_k_distances -> 0.0:::0.0, __distance_function__ -> levenshtein, confidence -> 0.99668664, all_k_resolutions -> Analgesic:::Anti-Inflammatory:::Antipyretic, target_text -> Aspagin, ner_source -> ner_chunk, ops -> 0.0, all_relations -> Anti-Inflammatory:::Antipyretic, entity -> Trial_Group, resolved_text -> Analgesic, distance -> 0.14285714285714285, sentence -> 0, __relation_name__ -> action}]|\n+----------------------------------------------------------------------------------------------------------------------------------------------------------------------------------------------------------------------------------------------------------------------------------------------------------------------------------------------------------------------------------------------------------------------------------------------------------------------------------------------------------------------------------------------------------------------------------------------------------------------------------------------------------------------------------------------------------------------------------------------------------------------------------------------------------------------------------------------------------------------------------------------------------------------------------------------------------------------------------------------------------------------------+\n\n"
     ]
    }
   ],
   "source": [
    "res.selectExpr(\"action_mappings.metadata\").show(truncate=False)"
   ]
  },
  {
   "cell_type": "markdown",
   "metadata": {
    "application/vnd.databricks.v1+cell": {
     "cellMetadata": {},
     "inputWidgets": {},
     "nuid": "9a8cfe5f-2a9a-459b-bbe8-37e573ea826c",
     "showTitle": false,
     "tableResultSettingsMap": {},
     "title": ""
    },
    "id": "T25yMbYkVVKI"
   },
   "source": [
    "As you see above under the ***metadata*** column, if exist, we can see all the relations for each chunk. <br/>"
   ]
  },
  {
   "cell_type": "code",
   "execution_count": 0,
   "metadata": {
    "application/vnd.databricks.v1+cell": {
     "cellMetadata": {
      "byteLimit": 2048000,
      "rowLimit": 10000
     },
     "inputWidgets": {},
     "nuid": "90f1ebb8-afe1-4c50-812b-d454304b7515",
     "showTitle": false,
     "tableResultSettingsMap": {},
     "title": ""
    },
    "colab": {
     "base_uri": "https://localhost:8080/"
    },
    "id": "DGG75W5JQ8Ds",
    "outputId": "79c032ae-d04d-4261-c160-7f9c6720f260"
   },
   "outputs": [
    {
     "output_type": "stream",
     "name": "stdout",
     "output_type": "stream",
     "text": [
      "+---------+-----------------+-----------------------------------------------------------+\n|ner_chunk|mapping_result   |all_relations                                              |\n+---------+-----------------+-----------------------------------------------------------+\n|Dermovate|Anti-Inflammatory|Corticosteroids:::Dermatological Preparations:::Very Strong|\n|Aspagin  |Analgesic        |Anti-Inflammatory:::Antipyretic                            |\n+---------+-----------------+-----------------------------------------------------------+\n\n"
     ]
    }
   ],
   "source": [
    "res_df = (\n",
    "    res.select(\n",
    "        F.explode(\n",
    "            F.arrays_zip(\n",
    "                F.col(\"ner_chunk.result\").alias(\"ner_res\"),\n",
    "                F.col(\"action_mappings.result\").alias(\"map_res\"),\n",
    "                F.col(\"action_mappings.metadata\").alias(\"map_meta\")\n",
    "            )\n",
    "        ).alias(\"col\")\n",
    "    )\n",
    "    .select(\n",
    "        F.col(\"col.ner_res\").alias(\"ner_chunk\"),\n",
    "        F.col(\"col.map_res\").alias(\"mapping_result\"),\n",
    "        F.col(\"col.map_meta.all_relations\").alias(\"all_relations\")\n",
    "    )\n",
    ")\n",
    "\n",
    "res_df.show(truncate=False)\n"
   ]
  },
  {
   "cell_type": "markdown",
   "metadata": {
    "application/vnd.databricks.v1+cell": {
     "cellMetadata": {},
     "inputWidgets": {},
     "nuid": "fb1411e1-6f2c-447c-a68a-27d6e377ee31",
     "showTitle": false,
     "tableResultSettingsMap": {},
     "title": ""
    },
    "id": "YsTnjIm90IT7"
   },
   "source": [
    "Now, let's set the `.setRels([\"treatment\"])` and see the results."
   ]
  },
  {
   "cell_type": "code",
   "execution_count": 0,
   "metadata": {
    "application/vnd.databricks.v1+cell": {
     "cellMetadata": {
      "byteLimit": 2048000,
      "rowLimit": 10000
     },
     "inputWidgets": {},
     "nuid": "5a711ad7-30bd-4bcd-92c8-4941bc8e4910",
     "showTitle": false,
     "tableResultSettingsMap": {},
     "title": ""
    },
    "colab": {
     "base_uri": "https://localhost:8080/"
    },
    "id": "2UQk9dIKzp_v",
    "outputId": "7f9c996e-99e9-4cdf-8f4b-f66ad8e8476f"
   },
   "outputs": [
    {
     "output_type": "stream",
     "name": "stdout",
     "output_type": "stream",
     "text": [
      "drug_action_treatment_mapper download started this may take some time.\nApproximate size to download 9.6 MB\n\r[ | ]\r[OK!]\n"
     ]
    }
   ],
   "source": [
    "#drug_action_treatment_mapper with \"treatment\" mappings\n",
    "chunkerMapper= medical.ChunkMapperModel().pretrained(\"drug_action_treatment_mapper\", \"en\", \"clinical/models\")\\\n",
    "    .setInputCols([\"ner_chunk\"])\\\n",
    "    .setOutputCol(\"action_mappings\")\\\n",
    "    .setRels([\"treatment\"])\n",
    "\n",
    "pipeline = nlp.Pipeline().setStages([document_assembler,\n",
    "                                 sentence_detector,\n",
    "                                 tokenizer,\n",
    "                                 ner, \n",
    "                                 nerconverter, \n",
    "                                 chunkerMapper])\n",
    "\n",
    "text = [[\"\"\"The patient was female and patient of Dr. X. and she was given Dermovate, Aspagin\"\"\"]]\n",
    "\n",
    "test_data = spark.createDataFrame(text).toDF(\"text\")\n",
    "\n",
    "res = pipeline.fit(test_data).transform(test_data)\n"
   ]
  },
  {
   "cell_type": "code",
   "execution_count": 0,
   "metadata": {
    "application/vnd.databricks.v1+cell": {
     "cellMetadata": {
      "byteLimit": 2048000,
      "rowLimit": 10000
     },
     "inputWidgets": {},
     "nuid": "a752d405-5cc9-43e4-b764-6c7738165068",
     "showTitle": false,
     "tableResultSettingsMap": {},
     "title": ""
    },
    "colab": {
     "base_uri": "https://localhost:8080/"
    },
    "id": "WIa_Lioxzp5V",
    "outputId": "f7e0b2b9-5c21-46b7-b237-c054159ea1f7"
   },
   "outputs": [
    {
     "output_type": "stream",
     "name": "stdout",
     "output_type": "stream",
     "text": [
      "+---------+\n|chunks   |\n+---------+\n|Dermovate|\n|Aspagin  |\n+---------+\n\n"
     ]
    }
   ],
   "source": [
    "res.select(F.explode('ner_chunk.result').alias(\"chunks\")).show(truncate=False)"
   ]
  },
  {
   "cell_type": "code",
   "execution_count": 0,
   "metadata": {
    "application/vnd.databricks.v1+cell": {
     "cellMetadata": {
      "byteLimit": 2048000,
      "rowLimit": 10000
     },
     "inputWidgets": {},
     "nuid": "b11a6367-c67b-47e0-81ae-699b488c81aa",
     "showTitle": false,
     "tableResultSettingsMap": {},
     "title": ""
    },
    "colab": {
     "base_uri": "https://localhost:8080/"
    },
    "id": "J6YxxPlOSGAF",
    "outputId": "3e1eb202-65e7-4dc3-e2a0-edcacbd7b7a6"
   },
   "outputs": [
    {
     "output_type": "stream",
     "name": "stdout",
     "output_type": "stream",
     "text": [
      "+--------------------------------------------------------------------------------------------------------------------------------------------------------------------------------------------------------------------------------------------------------------------------------------------------------------------------------------------------------------------------------------------------------------------------------------------------------------------------------------------------------------------------------------------------------------------------------------------------------------------------------------------------------------------------------------------------------------------------------------------------------------------------------------------------------------------------------------------------------------------------------------------------------------------------------------------------------------------------------------------------------------------------------------------------------------------------------------------------------------------------------------------------------------------------------------------------------------------------------------------------------------------------------------------------------------------------------------------------------------------------------------------------------------------------+\n|metadata                                                                                                                                                                                                                                                                                                                                                                                                                                                                                                                                                                                                                                                                                                                                                                                                                                                                                                                                                                                                                                                                                                                                                                                                                                                                                                                                                                                                                  |\n+--------------------------------------------------------------------------------------------------------------------------------------------------------------------------------------------------------------------------------------------------------------------------------------------------------------------------------------------------------------------------------------------------------------------------------------------------------------------------------------------------------------------------------------------------------------------------------------------------------------------------------------------------------------------------------------------------------------------------------------------------------------------------------------------------------------------------------------------------------------------------------------------------------------------------------------------------------------------------------------------------------------------------------------------------------------------------------------------------------------------------------------------------------------------------------------------------------------------------------------------------------------------------------------------------------------------------------------------------------------------------------------------------------------------------+\n|[{chunk -> 0, __trained__ -> dermovate, relation -> treatment, all_k_distances -> 0.0:::0.0, __distance_function__ -> levenshtein, confidence -> 0.9997595, all_k_resolutions -> Lupus:::Discoid Lupus Erythematosus:::Empeines:::Psoriasis:::Eczema, target_text -> Dermovate, ner_source -> ner_chunk, ops -> 0.0, all_relations -> Discoid Lupus Erythematosus:::Empeines:::Psoriasis:::Eczema, entity -> Trial_Group, resolved_text -> Lupus, distance -> 0.1111111111111111, sentence -> 0, __relation_name__ -> treatment}, {chunk -> 1, __trained__ -> aspagin, relation -> treatment, all_k_distances -> 0.0:::0.0, __distance_function__ -> levenshtein, confidence -> 0.99668664, all_k_resolutions -> Ankylosing Spondylitis:::Arthralgia:::Pain:::Bursitis:::Headache:::Migraine:::Myositis:::Neuralgia:::Osteoarthritis:::Gout:::Rheumatoid Arthritis:::Spondylitis:::Spondyloarthritis:::Tendinitis:::Tenosynovitis:::Crush Injury:::Golfer'S Elbow, target_text -> Aspagin, ner_source -> ner_chunk, ops -> 0.0, all_relations -> Arthralgia:::Pain:::Bursitis:::Headache:::Migraine:::Myositis:::Neuralgia:::Osteoarthritis:::Gout:::Rheumatoid Arthritis:::Spondylitis:::Spondyloarthritis:::Tendinitis:::Tenosynovitis:::Crush Injury:::Golfer'S Elbow, entity -> Trial_Group, resolved_text -> Ankylosing Spondylitis, distance -> 0.14285714285714285, sentence -> 0, __relation_name__ -> treatment}]|\n+--------------------------------------------------------------------------------------------------------------------------------------------------------------------------------------------------------------------------------------------------------------------------------------------------------------------------------------------------------------------------------------------------------------------------------------------------------------------------------------------------------------------------------------------------------------------------------------------------------------------------------------------------------------------------------------------------------------------------------------------------------------------------------------------------------------------------------------------------------------------------------------------------------------------------------------------------------------------------------------------------------------------------------------------------------------------------------------------------------------------------------------------------------------------------------------------------------------------------------------------------------------------------------------------------------------------------------------------------------------------------------------------------------------------------+\n\n"
     ]
    }
   ],
   "source": [
    "res.selectExpr(\"action_mappings.metadata\").show(truncate=False)"
   ]
  },
  {
   "cell_type": "markdown",
   "metadata": {
    "application/vnd.databricks.v1+cell": {
     "cellMetadata": {},
     "inputWidgets": {},
     "nuid": "9b0cd067-eca5-4180-82ce-7a5e44d11330",
     "showTitle": false,
     "tableResultSettingsMap": {},
     "title": ""
    },
    "id": "YFpNGIVzWNl1"
   },
   "source": [
    "Here are the ***treatment*** mappings and all relations under the metadata column."
   ]
  },
  {
   "cell_type": "code",
   "execution_count": 0,
   "metadata": {
    "application/vnd.databricks.v1+cell": {
     "cellMetadata": {
      "byteLimit": 2048000,
      "rowLimit": 10000
     },
     "inputWidgets": {},
     "nuid": "b4f23ca7-d8c9-4e15-8c96-d647455aa786",
     "showTitle": false,
     "tableResultSettingsMap": {},
     "title": ""
    },
    "colab": {
     "base_uri": "https://localhost:8080/"
    },
    "id": "WaHUwXn8RCeu",
    "outputId": "29f60255-c92f-4d69-c1fa-7db2fe863163"
   },
   "outputs": [
    {
     "output_type": "stream",
     "name": "stdout",
     "output_type": "stream",
     "text": [
      "+---------+----------------------+-----------------------------------------------------------------------------------------------------------------------------------------------------------------------------------------------------------------------+\n|ner_chunk|mapping_result        |all_relations                                                                                                                                                                                                          |\n+---------+----------------------+-----------------------------------------------------------------------------------------------------------------------------------------------------------------------------------------------------------------------+\n|Dermovate|Lupus                 |Discoid Lupus Erythematosus:::Empeines:::Psoriasis:::Eczema                                                                                                                                                            |\n|Aspagin  |Ankylosing Spondylitis|Arthralgia:::Pain:::Bursitis:::Headache:::Migraine:::Myositis:::Neuralgia:::Osteoarthritis:::Gout:::Rheumatoid Arthritis:::Spondylitis:::Spondyloarthritis:::Tendinitis:::Tenosynovitis:::Crush Injury:::Golfer'S Elbow|\n+---------+----------------------+-----------------------------------------------------------------------------------------------------------------------------------------------------------------------------------------------------------------------+\n\n"
     ]
    }
   ],
   "source": [
    "\n",
    "res_df = (\n",
    "    res.select(\n",
    "        F.explode(\n",
    "            F.arrays_zip(\n",
    "                F.col(\"ner_chunk.result\").alias(\"ner_chunk_res\"),\n",
    "                F.col(\"action_mappings.result\").alias(\"mapping_res\"),\n",
    "                F.col(\"action_mappings.metadata\").alias(\"mapping_meta\")\n",
    "            )\n",
    "        ).alias(\"col\")\n",
    "    )\n",
    "    .select(\n",
    "        F.col(\"col.ner_chunk_res\").alias(\"ner_chunk\"),\n",
    "        F.col(\"col.mapping_res\").alias(\"mapping_result\"),\n",
    "        F.col(\"col.mapping_meta.all_relations\").alias(\"all_relations\")\n",
    "    )\n",
    ")\n",
    "\n",
    "res_df.show(truncate=False)\n"
   ]
  },
  {
   "cell_type": "markdown",
   "metadata": {
    "application/vnd.databricks.v1+cell": {
     "cellMetadata": {},
     "inputWidgets": {},
     "nuid": "a34ba783-74b5-4766-869f-203b8f1c7ead",
     "showTitle": false,
     "tableResultSettingsMap": {},
     "title": ""
    },
    "id": "iQMHFp1TvRVX"
   },
   "source": [
    "## 1.2- Section Header Normalizer Mapper"
   ]
  },
  {
   "cell_type": "markdown",
   "metadata": {
    "application/vnd.databricks.v1+cell": {
     "cellMetadata": {},
     "inputWidgets": {},
     "nuid": "77c7e378-56d5-453c-a3f4-fc129b1a6796",
     "showTitle": false,
     "tableResultSettingsMap": {},
     "title": ""
    },
    "id": "tue53lJXvfdK"
   },
   "source": [
    "We have `normalized_section_header_mapper` model that normalizes the section headers in clinical notes. It returns two levels of normalization called `level_1` and `level_2`. <br/>\n",
    "\n",
    "**level_1** refers to the most comprehensive \"section header\" for the corresponding chunk while **level_2** refers to the second comprehensive one.\n",
    "\n",
    "Let's create a piepline with `normalized_section_header_mapper` and see how it works"
   ]
  },
  {
   "cell_type": "code",
   "execution_count": 0,
   "metadata": {
    "application/vnd.databricks.v1+cell": {
     "cellMetadata": {
      "byteLimit": 2048000,
      "rowLimit": 10000
     },
     "inputWidgets": {},
     "nuid": "2c5315fb-ab7a-4527-921b-a4b2e77262c7",
     "showTitle": false,
     "tableResultSettingsMap": {},
     "title": ""
    },
    "colab": {
     "base_uri": "https://localhost:8080/"
    },
    "id": "26Ih_X1JvSV_",
    "outputId": "ea1d11e0-593c-400e-b85a-16d74d4f75e7"
   },
   "outputs": [
    {
     "output_type": "stream",
     "name": "stdout",
     "output_type": "stream",
     "text": [
      "embeddings_clinical download started this may take some time.\nApproximate size to download 1.6 GB\n\r[ | ]\r[OK!]\nner_jsl_slim download started this may take some time.\nApproximate size to download 14.4 MB\n\r[ | ]\r[ / ]\r[ — ]\r[ \\ ]\r[OK!]\nnormalized_section_header_mapper download started this may take some time.\nApproximate size to download 18.8 KB\n\r[ | ]\r[OK!]\n"
     ]
    }
   ],
   "source": [
    "document_assembler = nlp.DocumentAssembler()\\\n",
    "       .setInputCol('text')\\\n",
    "       .setOutputCol('document')\n",
    "\n",
    "sentence_detector =  nlp.SentenceDetector()\\\n",
    "       .setInputCols([\"document\"])\\\n",
    "       .setOutputCol(\"sentence\")\n",
    "\n",
    "tokenizer =  nlp.Tokenizer()\\\n",
    "      .setInputCols(\"sentence\")\\\n",
    "      .setOutputCol(\"token\")\n",
    "\n",
    "embeddings =  nlp.WordEmbeddingsModel.pretrained(\"embeddings_clinical\", \"en\",\"clinical/models\")\\\n",
    "      .setInputCols([\"sentence\", \"token\"])\\\n",
    "      .setOutputCol(\"word_embeddings\")\n",
    "\n",
    "clinical_ner = medical.NerModel.pretrained(\"ner_jsl_slim\", \"en\", \"clinical/models\")\\\n",
    "      .setInputCols([\"sentence\",\"token\", \"word_embeddings\"])\\\n",
    "      .setOutputCol(\"ner\")\n",
    "\n",
    "ner_converter =  medical.NerConverterInternal()\\\n",
    "      .setInputCols([\"sentence\", \"token\", \"ner\"])\\\n",
    "      .setOutputCol(\"ner_chunk\")\\\n",
    "      .setWhiteList([\"Header\"])\n",
    "\n",
    "chunkerMapper = medical.ChunkMapperModel.pretrained(\"normalized_section_header_mapper\", \"en\", \"clinical/models\") \\\n",
    "       .setInputCols(\"ner_chunk\")\\\n",
    "       .setOutputCol(\"mappings\")\\\n",
    "       .setRels([\"level_1\"]) #or level_2\n",
    "\n",
    "pipeline = nlp.Pipeline().setStages([document_assembler,\n",
    "                                sentence_detector,\n",
    "                                tokenizer, \n",
    "                                embeddings,\n",
    "                                clinical_ner, \n",
    "                                ner_converter, \n",
    "                                chunkerMapper])\n",
    "\n",
    "sentences = [\n",
    "    [\"\"\"ADMISSION DIAGNOSIS Right pleural effusion and suspected malignant mesothelioma.\n",
    "        PRINCIPAL DIAGNOSIS Right pleural effusion, suspected malignant mesothelioma.\n",
    "        GENERAL REVIEW Right pleural effusion, firm nodules, diffuse scattered throughout the right pleura and diaphragmatic surface.\n",
    "    \"\"\"]]\n",
    "\n",
    "test_data = spark.createDataFrame(sentences).toDF(\"text\")\n",
    "res = pipeline.fit(test_data).transform(test_data)"
   ]
  },
  {
   "cell_type": "markdown",
   "metadata": {
    "application/vnd.databricks.v1+cell": {
     "cellMetadata": {},
     "inputWidgets": {},
     "nuid": "74e03c51-1378-4ed3-9510-014e66694d19",
     "showTitle": false,
     "tableResultSettingsMap": {},
     "title": ""
    },
    "id": "3fTn2JPWyxOk"
   },
   "source": [
    "Checking the headers detected by ner model"
   ]
  },
  {
   "cell_type": "code",
   "execution_count": 0,
   "metadata": {
    "application/vnd.databricks.v1+cell": {
     "cellMetadata": {
      "byteLimit": 2048000,
      "rowLimit": 10000
     },
     "inputWidgets": {},
     "nuid": "6463111e-ef15-4e1c-91f0-d1bfa55c6494",
     "showTitle": false,
     "tableResultSettingsMap": {},
     "title": ""
    },
    "colab": {
     "base_uri": "https://localhost:8080/"
    },
    "id": "QfgyrLomxXv_",
    "outputId": "7a505a8f-9007-41b0-9732-60e82ed5fd42"
   },
   "outputs": [
    {
     "output_type": "stream",
     "name": "stdout",
     "output_type": "stream",
     "text": [
      "+-------------------+\n|chunks             |\n+-------------------+\n|ADMISSION DIAGNOSIS|\n|PRINCIPAL DIAGNOSIS|\n|GENERAL REVIEW     |\n+-------------------+\n\n"
     ]
    }
   ],
   "source": [
    "res.select(F.explode('ner_chunk.result').alias(\"chunks\")).show(truncate=False)"
   ]
  },
  {
   "cell_type": "markdown",
   "metadata": {
    "application/vnd.databricks.v1+cell": {
     "cellMetadata": {},
     "inputWidgets": {},
     "nuid": "25a89843-94d5-4525-ba6b-5eb2f0a69aeb",
     "showTitle": false,
     "tableResultSettingsMap": {},
     "title": ""
    },
    "id": "6pv_4VLWzFw0"
   },
   "source": [
    "Checking mapping results"
   ]
  },
  {
   "cell_type": "code",
   "execution_count": 0,
   "metadata": {
    "application/vnd.databricks.v1+cell": {
     "cellMetadata": {
      "byteLimit": 2048000,
      "rowLimit": 10000
     },
     "inputWidgets": {},
     "nuid": "262797dc-3316-4343-85d2-302bf7c35487",
     "showTitle": false,
     "tableResultSettingsMap": {},
     "title": ""
    },
    "colab": {
     "base_uri": "https://localhost:8080/"
    },
    "id": "LYZdPVHwxXr9",
    "outputId": "6f5e5f4a-992f-43e5-80be-d651a603f09b"
   },
   "outputs": [
    {
     "output_type": "stream",
     "name": "stdout",
     "output_type": "stream",
     "text": [
      "+-----------------------------------+\n|result                             |\n+-----------------------------------+\n|[DIAGNOSIS, DIAGNOSIS, REVIEW TYPE]|\n+-----------------------------------+\n\n"
     ]
    }
   ],
   "source": [
    "res.select(\"mappings.result\").show(truncate=False)"
   ]
  },
  {
   "cell_type": "code",
   "execution_count": 0,
   "metadata": {
    "application/vnd.databricks.v1+cell": {
     "cellMetadata": {
      "byteLimit": 2048000,
      "rowLimit": 10000
     },
     "inputWidgets": {},
     "nuid": "da53a332-2412-4337-8cbb-e5b1e6d7daa4",
     "showTitle": false,
     "tableResultSettingsMap": {},
     "title": ""
    },
    "colab": {
     "base_uri": "https://localhost:8080/"
    },
    "id": "cqgpO0ANvSOu",
    "outputId": "62e1ad44-6f2c-4d11-ec99-d664e70c08e4"
   },
   "outputs": [
    {
     "output_type": "stream",
     "name": "stdout",
     "output_type": "stream",
     "text": [
      "+-------------------+--------------+\n|ner_chunk          |mapping_result|\n+-------------------+--------------+\n|ADMISSION DIAGNOSIS|DIAGNOSIS     |\n|PRINCIPAL DIAGNOSIS|DIAGNOSIS     |\n|GENERAL REVIEW     |REVIEW TYPE   |\n+-------------------+--------------+\n\n"
     ]
    }
   ],
   "source": [
    "\n",
    "res_df = (\n",
    "    res.select(\n",
    "        F.explode(\n",
    "            F.arrays_zip(\n",
    "                F.col(\"ner_chunk.result\").alias(\"ner_chunk_res\"),\n",
    "                F.col(\"mappings.result\").alias(\"mapping_res\")\n",
    "            )\n",
    "        ).alias(\"col\")\n",
    "    )\n",
    "    .select(\n",
    "        F.col(\"col.ner_chunk_res\").alias(\"ner_chunk\"),\n",
    "        F.col(\"col.mapping_res\").alias(\"mapping_result\")\n",
    "    )\n",
    ")\n",
    "\n",
    "res_df.show(truncate=False)\n"
   ]
  },
  {
   "cell_type": "markdown",
   "metadata": {
    "application/vnd.databricks.v1+cell": {
     "cellMetadata": {},
     "inputWidgets": {},
     "nuid": "7f682a70-8f28-4aba-a8ae-a3dbbdc82528",
     "showTitle": false,
     "tableResultSettingsMap": {},
     "title": ""
    },
    "id": "w5OHH23MzjDl"
   },
   "source": [
    "As you see above, we can see the \"level_1\" based normalized version of each section header."
   ]
  },
  {
   "cell_type": "markdown",
   "metadata": {
    "application/vnd.databricks.v1+cell": {
     "cellMetadata": {},
     "inputWidgets": {},
     "nuid": "ac8b74b7-f7a8-4ab0-a38b-1970e6a8722c",
     "showTitle": false,
     "tableResultSettingsMap": {},
     "title": ""
    },
    "id": "KIUlv3Ka_iwy"
   },
   "source": [
    "## 1.3- Drug Brand Name NDC Mapper"
   ]
  },
  {
   "cell_type": "markdown",
   "metadata": {
    "application/vnd.databricks.v1+cell": {
     "cellMetadata": {},
     "inputWidgets": {},
     "nuid": "7c6dce91-7e19-4aea-bfee-523406c2d422",
     "showTitle": false,
     "tableResultSettingsMap": {},
     "title": ""
    },
    "id": "JfYOYPF0ALiH"
   },
   "source": [
    "We have `drug_brandname_ndc_mapper` model that maps drug brand names to corresponding National Drug Codes (NDC). Product NDCs for each strength are returned in result and metadata. <br/>\n",
    "\n",
    "It has one relation type called `Strength_NDC`"
   ]
  },
  {
   "cell_type": "markdown",
   "metadata": {
    "application/vnd.databricks.v1+cell": {
     "cellMetadata": {},
     "inputWidgets": {},
     "nuid": "d8da71aa-e11b-492b-925a-e3c9a917a4b9",
     "showTitle": false,
     "tableResultSettingsMap": {},
     "title": ""
    },
    "id": "nsdyOYV1DHdU"
   },
   "source": [
    "Let's create a pipeline with `drug_brandname_ndc_mapper` and see how it works."
   ]
  },
  {
   "cell_type": "code",
   "execution_count": 0,
   "metadata": {
    "application/vnd.databricks.v1+cell": {
     "cellMetadata": {
      "byteLimit": 2048000,
      "rowLimit": 10000
     },
     "inputWidgets": {},
     "nuid": "6f11aca7-7453-4200-a8e2-848c67339d97",
     "showTitle": false,
     "tableResultSettingsMap": {},
     "title": ""
    },
    "colab": {
     "base_uri": "https://localhost:8080/"
    },
    "id": "6wGtPSK4_ikU",
    "outputId": "36947cd8-fb99-4cba-a389-32e0362f9047"
   },
   "outputs": [
    {
     "output_type": "stream",
     "name": "stdout",
     "output_type": "stream",
     "text": [
      "drug_brandname_ndc_mapper download started this may take some time.\nApproximate size to download 2.9 MB\n\r[ | ]\r[ / ]\r[OK!]\n"
     ]
    }
   ],
   "source": [
    "document_assembler =  nlp.DocumentAssembler()\\\n",
    "      .setInputCol(\"text\")\\\n",
    "      .setOutputCol(\"chunk\")\n",
    "\n",
    "chunkerMapper = medical.ChunkMapperModel.pretrained(\"drug_brandname_ndc_mapper\", \"en\", \"clinical/models\")\\\n",
    "      .setInputCols([\"chunk\"])\\\n",
    "      .setOutputCol(\"ndc\")\\\n",
    "      .setRels([\"Strength_NDC\"])\n",
    "\n",
    "pipeline = nlp.Pipeline().setStages([document_assembler,\n",
    "                                 chunkerMapper])  \n",
    "\n",
    "model = pipeline.fit(spark.createDataFrame([['']]).toDF('text')) \n",
    "\n",
    "lp = nlp.LightPipeline(model)\n",
    "\n",
    "res = lp.fullAnnotate('ZYVOX')"
   ]
  },
  {
   "cell_type": "markdown",
   "metadata": {
    "application/vnd.databricks.v1+cell": {
     "cellMetadata": {},
     "inputWidgets": {},
     "nuid": "425843fe-4e81-4d27-a5f3-d86c19fa21c9",
     "showTitle": false,
     "tableResultSettingsMap": {},
     "title": ""
    }
   },
   "source": [
    "Checking mapping results"
   ]
  },
  {
   "cell_type": "code",
   "execution_count": 0,
   "metadata": {
    "application/vnd.databricks.v1+cell": {
     "cellMetadata": {
      "byteLimit": 2048000,
      "rowLimit": 10000
     },
     "inputWidgets": {},
     "nuid": "65215b53-02cd-4ad2-bda6-7ce35649b7f4",
     "showTitle": false,
     "tableResultSettingsMap": {},
     "title": ""
    },
    "colab": {
     "base_uri": "https://localhost:8080/",
     "height": 158
    },
    "id": "ArYNThd1DxLr",
    "outputId": "4ff52a9a-dc01-4816-f8df-1f982811d1c0"
   },
   "outputs": [
    {
     "output_type": "execute_result",
     "data": {
      "text/html": [
       "<div>\n",
       "<style scoped>\n",
       "    .dataframe tbody tr th:only-of-type {\n",
       "        vertical-align: middle;\n",
       "    }\n",
       "\n",
       "    .dataframe tbody tr th {\n",
       "        vertical-align: top;\n",
       "    }\n",
       "\n",
       "    .dataframe thead th {\n",
       "        text-align: right;\n",
       "    }\n",
       "</style>\n",
       "<table border=\"1\" class=\"dataframe\">\n",
       "  <thead>\n",
       "    <tr style=\"text-align: right;\">\n",
       "      <th></th>\n",
       "      <th>Brand_Name</th>\n",
       "      <th>Strenth_NDC</th>\n",
       "      <th>Other_NDC</th>\n",
       "    </tr>\n",
       "  </thead>\n",
       "  <tbody>\n",
       "    <tr>\n",
       "      <th>0</th>\n",
       "      <td>ZYVOX</td>\n",
       "      <td>600 mg/300mL | 0009-4992</td>\n",
       "      <td>600 mg/300mL | 66298-7807:::600 mg/300mL | 0009-7807:::600 mg/300mL | 0009-5140:::100 mg/5mL | 0009-5136:::600 mg/1 | 70518-1226:::600 mg/300mL | 66298-5140:::200 mg/100mL | 66298-5137:::200 mg/100mL | 0009-5137:::600 mg/1 | 0009-5138</td>\n",
       "    </tr>\n",
       "  </tbody>\n",
       "</table>\n",
       "</div>"
      ],
      "text/plain": [
       "  Brand_Name               Strenth_NDC                                                                                                                                                                                                                                   Other_NDC\n",
       "0      ZYVOX  600 mg/300mL | 0009-4992  600 mg/300mL | 66298-7807:::600 mg/300mL | 0009-7807:::600 mg/300mL | 0009-5140:::100 mg/5mL | 0009-5136:::600 mg/1 | 70518-1226:::600 mg/300mL | 66298-5140:::200 mg/100mL | 66298-5137:::200 mg/100mL | 0009-5137:::600 mg/1 | 0009-5138"
      ]
     },
     "execution_count": 18,
     "metadata": {},
     "output_type": "execute_result"
    }
   ],
   "source": [
    "chunks = []\n",
    "mappings = []\n",
    "all_re= []\n",
    "\n",
    "for m, n in list(zip(res[0]['chunk'], res[0][\"ndc\"])):\n",
    "        \n",
    "    chunks.append(m.result)\n",
    "    mappings.append(n.result) \n",
    "    all_re.append(n.metadata[\"all_relations\"])\n",
    "    \n",
    "import pandas as pd\n",
    "pd.set_option('display.max_colwidth', None)\n",
    "\n",
    "df = pd.DataFrame({'Brand_Name':chunks, 'Strenth_NDC': mappings, 'Other_NDC':all_re})\n",
    "\n",
    "df"
   ]
  },
  {
   "cell_type": "markdown",
   "metadata": {
    "application/vnd.databricks.v1+cell": {
     "cellMetadata": {},
     "inputWidgets": {},
     "nuid": "c33e847a-2916-4e8a-897c-2fd776cac447",
     "showTitle": false,
     "tableResultSettingsMap": {},
     "title": ""
    },
    "id": "Ntq2uH7lDkAq"
   },
   "source": [
    "As you see, we can see corresponding \"NDC\" mappings of each \"brand names\"."
   ]
  },
  {
   "cell_type": "markdown",
   "metadata": {
    "application/vnd.databricks.v1+cell": {
     "cellMetadata": {},
     "inputWidgets": {},
     "nuid": "9e2132dd-fa62-4de4-8705-10adda861028",
     "showTitle": false,
     "tableResultSettingsMap": {},
     "title": ""
    },
    "id": "zBKhGobLESSP"
   },
   "source": [
    "## 1.4- RxNorm NDC Mapper"
   ]
  },
  {
   "cell_type": "markdown",
   "metadata": {
    "application/vnd.databricks.v1+cell": {
     "cellMetadata": {},
     "inputWidgets": {},
     "nuid": "0b9ac47d-6a0d-4b84-abf4-175919ee9edc",
     "showTitle": false,
     "tableResultSettingsMap": {},
     "title": ""
    },
    "id": "ODX-0_GxEbFF"
   },
   "source": [
    "We have `rxnorm_ndc_mapper` model that maps RxNorm and RxNorm Extension codes with corresponding National Drug Codes (NDC).\n",
    "\n",
    "It has two relation types that can be defined in `setRel()` parameter; **Product NDC** and **Package NDC**"
   ]
  },
  {
   "cell_type": "markdown",
   "metadata": {
    "application/vnd.databricks.v1+cell": {
     "cellMetadata": {},
     "inputWidgets": {},
     "nuid": "80442344-f8bf-45c1-b639-3f36487799fe",
     "showTitle": false,
     "tableResultSettingsMap": {},
     "title": ""
    },
    "id": "fRNTaLYFFET9"
   },
   "source": [
    "Let's create a pipeline with `rxnorm_ndc_mapper` model by setting the  relation as `setRel(\"Product NDC\")` and see the results."
   ]
  },
  {
   "cell_type": "code",
   "execution_count": 0,
   "metadata": {
    "application/vnd.databricks.v1+cell": {
     "cellMetadata": {
      "byteLimit": 2048000,
      "rowLimit": 10000
     },
     "inputWidgets": {},
     "nuid": "779b1fe9-446e-4960-b7d0-2125a60baf10",
     "showTitle": false,
     "tableResultSettingsMap": {},
     "title": ""
    },
    "colab": {
     "base_uri": "https://localhost:8080/"
    },
    "id": "bR1XvJzKEM3n",
    "outputId": "d35d554c-5948-4330-ed24-83cc57b57711"
   },
   "outputs": [
    {
     "output_type": "stream",
     "name": "stdout",
     "output_type": "stream",
     "text": [
      "sbiobert_base_cased_mli download started this may take some time.\nApproximate size to download 384.3 MB\n\r[ | ]\r[OK!]\nsbiobertresolve_rxnorm_augmented download started this may take some time.\nApproximate size to download 1.1 GB\n\r[ | ]\r[ / ]\r[ — ]\r[ \\ ]\r[ | ]\r[ / ]\r[ — ]\r[ \\ ]\r[ | ]\r[ / ]\r[ — ]\r[ \\ ]\r[ | ]\r[ / ]\r[ — ]\r[ \\ ]\r[ | ]\r[ / ]\r[ — ]\r[ \\ ]\r[ | ]\r[OK!]\nrxnorm_ndc_mapper download started this may take some time.\nApproximate size to download 1.9 MB\n\r[ | ]\r[ / ]\r[OK!]\n"
     ]
    }
   ],
   "source": [
    "document_assembler =  nlp.DocumentAssembler()\\\n",
    "      .setInputCol('text')\\\n",
    "      .setOutputCol('ner_chunk')\n",
    "\n",
    "sbert_embedder =  nlp.BertSentenceEmbeddings.pretrained('sbiobert_base_cased_mli', 'en','clinical/models')\\\n",
    "      .setInputCols([\"ner_chunk\"])\\\n",
    "      .setOutputCol(\"sentence_embeddings\")\\\n",
    "      .setCaseSensitive(False)\n",
    "    \n",
    "rxnorm_resolver = medical.SentenceEntityResolverModel.pretrained(\"sbiobertresolve_rxnorm_augmented\",\"en\", \"clinical/models\") \\\n",
    "      .setInputCols([\"sentence_embeddings\"]) \\\n",
    "      .setOutputCol(\"rxnorm_code\")\\\n",
    "      .setDistanceFunction(\"EUCLIDEAN\")\n",
    "\n",
    "chunkerMapper_product = medical.ChunkMapperModel.pretrained(\"rxnorm_ndc_mapper\", \"en\", \"clinical/models\")\\\n",
    "      .setInputCols([\"rxnorm_code\"])\\\n",
    "      .setOutputCol(\"Product NDC\")\\\n",
    "      .setRels([\"Product NDC\"]) #or Package NDC\n",
    "\n",
    "pipeline = nlp.Pipeline().setStages([document_assembler,\n",
    "                                 sbert_embedder,\n",
    "                                 rxnorm_resolver,\n",
    "                                 chunkerMapper_product\n",
    "                                 ])\n",
    "\n",
    "model = pipeline.fit(spark.createDataFrame([['']]).toDF('text')) \n",
    "\n",
    "lp = nlp.LightPipeline(model)\n",
    "\n",
    "result = lp.fullAnnotate('macadamia nut 100 MG/ML')"
   ]
  },
  {
   "cell_type": "markdown",
   "metadata": {
    "application/vnd.databricks.v1+cell": {
     "cellMetadata": {},
     "inputWidgets": {},
     "nuid": "a80d137b-fee3-4499-885c-14e9696dafc5",
     "showTitle": false,
     "tableResultSettingsMap": {},
     "title": ""
    },
    "id": "IeGDZ0-vSRp6"
   },
   "source": [
    "Checking the results"
   ]
  },
  {
   "cell_type": "code",
   "execution_count": 0,
   "metadata": {
    "application/vnd.databricks.v1+cell": {
     "cellMetadata": {
      "byteLimit": 2048000,
      "rowLimit": 10000
     },
     "inputWidgets": {},
     "nuid": "00ccabb1-09cf-4aaf-b018-6524fc48ce5e",
     "showTitle": false,
     "tableResultSettingsMap": {},
     "title": ""
    },
    "colab": {
     "base_uri": "https://localhost:8080/",
     "height": 80
    },
    "id": "uw8vKIysl2Gu",
    "outputId": "deb984db-0e3e-4532-ac65-bfd9f889fefa"
   },
   "outputs": [
    {
     "output_type": "execute_result",
     "data": {
      "text/html": [
       "<div>\n",
       "<style scoped>\n",
       "    .dataframe tbody tr th:only-of-type {\n",
       "        vertical-align: middle;\n",
       "    }\n",
       "\n",
       "    .dataframe tbody tr th {\n",
       "        vertical-align: top;\n",
       "    }\n",
       "\n",
       "    .dataframe thead th {\n",
       "        text-align: right;\n",
       "    }\n",
       "</style>\n",
       "<table border=\"1\" class=\"dataframe\">\n",
       "  <thead>\n",
       "    <tr style=\"text-align: right;\">\n",
       "      <th></th>\n",
       "      <th>ner_chunk</th>\n",
       "      <th>rxnorm_code</th>\n",
       "      <th>Product NDC</th>\n",
       "    </tr>\n",
       "  </thead>\n",
       "  <tbody>\n",
       "    <tr>\n",
       "      <th>0</th>\n",
       "      <td>macadamia nut 100 MG/ML</td>\n",
       "      <td>212433</td>\n",
       "      <td>00187-1474</td>\n",
       "    </tr>\n",
       "  </tbody>\n",
       "</table>\n",
       "</div>"
      ],
      "text/plain": [
       "                 ner_chunk rxnorm_code Product NDC\n",
       "0  macadamia nut 100 MG/ML      212433  00187-1474"
      ]
     },
     "execution_count": 20,
     "metadata": {},
     "output_type": "execute_result"
    }
   ],
   "source": [
    "chunks = []\n",
    "rxnorm_code = []\n",
    "product= []\n",
    "\n",
    "\n",
    "for m, n, j in list(zip(result[0]['ner_chunk'], result[0][\"rxnorm_code\"], result[0][\"Product NDC\"])):\n",
    "\n",
    "    chunks.append(m.result)\n",
    "    rxnorm_code.append(n.result) \n",
    "    product.append(j.result)\n",
    "    \n",
    "import pandas as pd\n",
    "\n",
    "df = pd.DataFrame({'ner_chunk':chunks,\n",
    "                   'rxnorm_code': rxnorm_code,\n",
    "                   'Product NDC': product})\n",
    "\n",
    "df"
   ]
  },
  {
   "cell_type": "markdown",
   "metadata": {
    "application/vnd.databricks.v1+cell": {
     "cellMetadata": {},
     "inputWidgets": {},
     "nuid": "a2cbea39-5ca3-4869-b840-4f2179930ba0",
     "showTitle": false,
     "tableResultSettingsMap": {},
     "title": ""
    },
    "id": "fvGK4Z7PSns8"
   },
   "source": [
    "As you see, we can see corresponding \"Product NDC\" mappings of each \"RxNorm codes\"."
   ]
  },
  {
   "cell_type": "markdown",
   "metadata": {
    "application/vnd.databricks.v1+cell": {
     "cellMetadata": {},
     "inputWidgets": {},
     "nuid": "4a38a61e-6064-4985-b464-27218738f91d",
     "showTitle": false,
     "tableResultSettingsMap": {},
     "title": ""
    },
    "id": "ci6QTFAaNvon"
   },
   "source": [
    "## 1.5- RxNorm Action Treatment Mapper"
   ]
  },
  {
   "cell_type": "markdown",
   "metadata": {
    "application/vnd.databricks.v1+cell": {
     "cellMetadata": {},
     "inputWidgets": {},
     "nuid": "53316a0a-a16e-46ad-942f-7bfd592d68d4",
     "showTitle": false,
     "tableResultSettingsMap": {},
     "title": ""
    },
    "id": "x2L7A0ruN4JD"
   },
   "source": [
    "We have `rxnorm_action_treatment_mapper` model that maps RxNorm and RxNorm Extension codes with their corresponding action and treatment. It has two relation types that can be defined in `setRel()` parameter; <br/>\n",
    "\n",
    "**Action** of drug refers to the function of a drug in various body systems. <br/>\n",
    "**Treatment** refers to which disease the drug is used to treat."
   ]
  },
  {
   "cell_type": "markdown",
   "metadata": {
    "application/vnd.databricks.v1+cell": {
     "cellMetadata": {},
     "inputWidgets": {},
     "nuid": "ef7afada-2020-488b-a4f1-afef19050f31",
     "showTitle": false,
     "tableResultSettingsMap": {},
     "title": ""
    },
    "id": "kX0S24f7cA3H"
   },
   "source": [
    "Let's create a pipeline and see how it works."
   ]
  },
  {
   "cell_type": "code",
   "execution_count": 0,
   "metadata": {
    "application/vnd.databricks.v1+cell": {
     "cellMetadata": {
      "byteLimit": 2048000,
      "rowLimit": 10000
     },
     "inputWidgets": {},
     "nuid": "3d6ac9c4-8d93-49b8-97e6-b5e919dc2d6b",
     "showTitle": false,
     "tableResultSettingsMap": {},
     "title": ""
    },
    "colab": {
     "base_uri": "https://localhost:8080/"
    },
    "id": "NndvMrLFNmjk",
    "outputId": "31459496-19f0-47a2-c654-a3eeecd62ed1"
   },
   "outputs": [
    {
     "output_type": "stream",
     "name": "stdout",
     "output_type": "stream",
     "text": [
      "sbiobert_base_cased_mli download started this may take some time.\nApproximate size to download 384.3 MB\n\r[ | ]\r[OK!]\nsbiobertresolve_rxnorm_augmented download started this may take some time.\nApproximate size to download 1.1 GB\n\r[ | ]\r[OK!]\nrxnorm_action_treatment_mapper download started this may take some time.\nApproximate size to download 20.1 MB\n\r[ | ]\r[ / ]\r[ — ]\r[ \\ ]\r[ | ]\r[ / ]\r[ — ]\r[ \\ ]\r[ | ]\r[ / ]\r[ — ]\r[ \\ ]\r[ | ]\r[ / ]\r[ — ]\r[ \\ ]\r[ | ]\r[ / ]\r[ — ]\r[ \\ ]\r[ | ]\r[ / ]\r[ — ]\r[ \\ ]\r[OK!]\n"
     ]
    }
   ],
   "source": [
    "document_assembler = nlp.DocumentAssembler()\\\n",
    "      .setInputCol('text')\\\n",
    "      .setOutputCol('ner_chunk')\n",
    "\n",
    "sbert_embedder = nlp.BertSentenceEmbeddings.pretrained('sbiobert_base_cased_mli', 'en','clinical/models')\\\n",
    "      .setInputCols([\"ner_chunk\"])\\\n",
    "      .setOutputCol(\"sentence_embeddings\")\\\n",
    "      .setCaseSensitive(False)\n",
    "    \n",
    "rxnorm_resolver = medical.SentenceEntityResolverModel.pretrained(\"sbiobertresolve_rxnorm_augmented\",\"en\", \"clinical/models\") \\\n",
    "      .setInputCols([\"sentence_embeddings\"]) \\\n",
    "      .setOutputCol(\"rxnorm_code\")\\\n",
    "      .setDistanceFunction(\"EUCLIDEAN\")\n",
    "\n",
    "chunkerMapper_action =  medical.ChunkMapperModel.pretrained(\"rxnorm_action_treatment_mapper\", \"en\", \"clinical/models\")\\\n",
    "      .setInputCols([\"rxnorm_code\"])\\\n",
    "      .setOutputCol(\"Action\")\\\n",
    "      .setRels([\"action\"]) #or treatment\n",
    "\n",
    "pipeline = nlp.Pipeline().setStages([document_assembler,\n",
    "                                 sbert_embedder,\n",
    "                                 rxnorm_resolver,\n",
    "                                 chunkerMapper_action\n",
    "                                 ])\n",
    "\n",
    "model = pipeline.fit(spark.createDataFrame([['']]).toDF('text')) \n",
    "\n",
    "lp = nlp.LightPipeline(model)\n",
    "\n",
    "res = lp.fullAnnotate('Zonalon 50 mg')"
   ]
  },
  {
   "cell_type": "markdown",
   "metadata": {
    "application/vnd.databricks.v1+cell": {
     "cellMetadata": {},
     "inputWidgets": {},
     "nuid": "a8c281b4-91d6-47e9-a08b-620773432e85",
     "showTitle": false,
     "tableResultSettingsMap": {},
     "title": ""
    },
    "id": "cFRzialBWYmM"
   },
   "source": [
    "Checking the results"
   ]
  },
  {
   "cell_type": "code",
   "execution_count": 0,
   "metadata": {
    "application/vnd.databricks.v1+cell": {
     "cellMetadata": {
      "byteLimit": 2048000,
      "rowLimit": 10000
     },
     "inputWidgets": {},
     "nuid": "cc24cf74-846d-4c4a-ad25-fbde4c77830f",
     "showTitle": false,
     "tableResultSettingsMap": {},
     "title": ""
    },
    "colab": {
     "base_uri": "https://localhost:8080/",
     "height": 80
    },
    "id": "MHWdg3_bmiwF",
    "outputId": "389906de-3ba7-4610-e184-55d2b7ada8e3"
   },
   "outputs": [
    {
     "output_type": "execute_result",
     "data": {
      "text/html": [
       "<div>\n",
       "<style scoped>\n",
       "    .dataframe tbody tr th:only-of-type {\n",
       "        vertical-align: middle;\n",
       "    }\n",
       "\n",
       "    .dataframe tbody tr th {\n",
       "        vertical-align: top;\n",
       "    }\n",
       "\n",
       "    .dataframe thead th {\n",
       "        text-align: right;\n",
       "    }\n",
       "</style>\n",
       "<table border=\"1\" class=\"dataframe\">\n",
       "  <thead>\n",
       "    <tr style=\"text-align: right;\">\n",
       "      <th></th>\n",
       "      <th>ner_chunk</th>\n",
       "      <th>rxnorm_code</th>\n",
       "      <th>Action</th>\n",
       "    </tr>\n",
       "  </thead>\n",
       "  <tbody>\n",
       "    <tr>\n",
       "      <th>0</th>\n",
       "      <td>Zonalon 50 mg</td>\n",
       "      <td>103971</td>\n",
       "      <td>Analgesic</td>\n",
       "    </tr>\n",
       "  </tbody>\n",
       "</table>\n",
       "</div>"
      ],
      "text/plain": [
       "       ner_chunk rxnorm_code     Action\n",
       "0  Zonalon 50 mg      103971  Analgesic"
      ]
     },
     "execution_count": 22,
     "metadata": {},
     "output_type": "execute_result"
    }
   ],
   "source": [
    "chunks = []\n",
    "rxnorm_code = []\n",
    "action= []\n",
    "\n",
    "\n",
    "for m, n, j in list(zip(res[0]['ner_chunk'], res[0][\"rxnorm_code\"], res[0][\"Action\"])):\n",
    "\n",
    "    chunks.append(m.result)\n",
    "    rxnorm_code.append(n.result) \n",
    "    action.append(j.result)\n",
    "    \n",
    "import pandas as pd\n",
    "\n",
    "df = pd.DataFrame({'ner_chunk':chunks,\n",
    "                   'rxnorm_code': rxnorm_code,\n",
    "                   'Action': action})\n",
    "\n",
    "df"
   ]
  },
  {
   "cell_type": "markdown",
   "metadata": {
    "application/vnd.databricks.v1+cell": {
     "cellMetadata": {},
     "inputWidgets": {},
     "nuid": "4bd9fcc6-49f8-45f4-84ad-544548120db5",
     "showTitle": false,
     "tableResultSettingsMap": {},
     "title": ""
    },
    "id": "1lOTEXeeWSyW"
   },
   "source": [
    "As you see, we can see corresponding \"Action\" mappings of each \"RxNorm codes\"."
   ]
  },
  {
   "cell_type": "markdown",
   "metadata": {
    "application/vnd.databricks.v1+cell": {
     "cellMetadata": {},
     "inputWidgets": {},
     "nuid": "bcd5b1db-94c9-4c18-b2f7-bee88471f209",
     "showTitle": false,
     "tableResultSettingsMap": {},
     "title": ""
    },
    "id": "TTKofeLuWj42"
   },
   "source": [
    "## 1.6- Abbreviation Mapper"
   ]
  },
  {
   "cell_type": "markdown",
   "metadata": {
    "application/vnd.databricks.v1+cell": {
     "cellMetadata": {},
     "inputWidgets": {},
     "nuid": "65358398-0f85-41ec-8b95-c7cf2d05a606",
     "showTitle": false,
     "tableResultSettingsMap": {},
     "title": ""
    },
    "id": "kwYOGi8DXCp8"
   },
   "source": [
    "We have `abbreviation_mapper` model that maps abbreviations and acronyms of medical regulatory activities with their definitions. <br/> It has one relation type that can be defined in `setRels([\"definition\"])` parameter."
   ]
  },
  {
   "cell_type": "markdown",
   "metadata": {
    "application/vnd.databricks.v1+cell": {
     "cellMetadata": {},
     "inputWidgets": {},
     "nuid": "52abcf3e-5bc8-48d3-ac8a-f08323736ef1",
     "showTitle": false,
     "tableResultSettingsMap": {},
     "title": ""
    },
    "id": "gHW9JxRjXZFy"
   },
   "source": [
    "Let's create a pipeline consisting `ner_abbreviation_clinical` to extract abbreviations from text, and feed the `abbreviation_mapper` with it."
   ]
  },
  {
   "cell_type": "code",
   "execution_count": 0,
   "metadata": {
    "application/vnd.databricks.v1+cell": {
     "cellMetadata": {
      "byteLimit": 2048000,
      "rowLimit": 10000
     },
     "inputWidgets": {},
     "nuid": "eaaa2fd8-d9bf-4241-b947-748028997700",
     "showTitle": false,
     "tableResultSettingsMap": {},
     "title": ""
    },
    "colab": {
     "base_uri": "https://localhost:8080/"
    },
    "id": "I6TcC8MvPHZE",
    "outputId": "9285e3cf-12c1-453c-a29b-e2f74a85f971"
   },
   "outputs": [
    {
     "output_type": "stream",
     "name": "stdout",
     "output_type": "stream",
     "text": [
      "embeddings_clinical download started this may take some time.\nApproximate size to download 1.6 GB\n\r[ | ]\r[OK!]\nner_abbreviation_clinical download started this may take some time.\nApproximate size to download 13.9 MB\n\r[ | ]\r[ / ]\r[ — ]\r[ \\ ]\r[ | ]\r[ / ]\r[ — ]\r[ \\ ]\r[ | ]\r[ / ]\r[OK!]\nabbreviation_mapper download started this may take some time.\nApproximate size to download 214.7 KB\n\r[ | ]\r[OK!]\n"
     ]
    }
   ],
   "source": [
    "document_assembler = nlp.DocumentAssembler()\\\n",
    "      .setInputCol('text')\\\n",
    "      .setOutputCol('document')\n",
    "\n",
    "sentence_detector = nlp.SentenceDetector()\\\n",
    "      .setInputCols([\"document\"])\\\n",
    "      .setOutputCol(\"sentence\")\n",
    "\n",
    "tokenizer = nlp.Tokenizer()\\\n",
    "      .setInputCols(\"sentence\")\\\n",
    "      .setOutputCol(\"token\")\n",
    "\n",
    "word_embeddings = nlp.WordEmbeddingsModel.pretrained(\"embeddings_clinical\", \"en\", \"clinical/models\")\\\n",
    "      .setInputCols([\"sentence\", \"token\"])\\\n",
    "      .setOutputCol(\"embeddings\")\n",
    "\n",
    "#NER model to detect abbreviations in the text\n",
    "abbr_ner =  medical.NerModel.pretrained('ner_abbreviation_clinical', 'en', 'clinical/models') \\\n",
    "      .setInputCols([\"sentence\", \"token\", \"embeddings\"]) \\\n",
    "      .setOutputCol(\"abbr_ner\")\n",
    "\n",
    "abbr_converter = medical.NerConverterInternal() \\\n",
    "      .setInputCols([\"sentence\", \"token\", \"abbr_ner\"]) \\\n",
    "      .setOutputCol(\"abbr_ner_chunk\")\\\n",
    "\n",
    "chunkerMapper =  medical.ChunkMapperModel.pretrained(\"abbreviation_mapper\", \"en\", \"clinical/models\")\\\n",
    "      .setInputCols([\"abbr_ner_chunk\"])\\\n",
    "      .setOutputCol(\"mappings\")\\\n",
    "      .setRels([\"definition\"]) \n",
    "\n",
    "pipeline = nlp.Pipeline().setStages([document_assembler,\n",
    "                                    sentence_detector,\n",
    "                                    tokenizer, \n",
    "                                    word_embeddings,\n",
    "                                    abbr_ner, \n",
    "                                    abbr_converter, \n",
    "                                    chunkerMapper])\n",
    "\n",
    "text = [\"\"\"Gravid with estimated fetal weight of 6-6/12 pounds.\n",
    "           LABORATORY DATA: Laboratory tests include a CBC which is normal. \n",
    "           HIV: Negative. One-Hour Glucose: 117. Group B strep has not been done as yet.\"\"\"]\n",
    "\n",
    "test_data = spark.createDataFrame([text]).toDF(\"text\")\n",
    "\n",
    "model = pipeline.fit(test_data)\n",
    "res= model.transform(test_data)"
   ]
  },
  {
   "cell_type": "markdown",
   "metadata": {
    "application/vnd.databricks.v1+cell": {
     "cellMetadata": {},
     "inputWidgets": {},
     "nuid": "87372eb7-292c-4a87-aa71-9aec3958fd63",
     "showTitle": false,
     "tableResultSettingsMap": {},
     "title": ""
    },
    "id": "icqK31njXpbk"
   },
   "source": [
    "Checking the results"
   ]
  },
  {
   "cell_type": "code",
   "execution_count": 0,
   "metadata": {
    "application/vnd.databricks.v1+cell": {
     "cellMetadata": {
      "byteLimit": 2048000,
      "rowLimit": 10000
     },
     "inputWidgets": {},
     "nuid": "caf43f0a-1bc3-4458-a94e-56220a740cdd",
     "showTitle": false,
     "tableResultSettingsMap": {},
     "title": ""
    },
    "colab": {
     "base_uri": "https://localhost:8080/"
    },
    "id": "15gReqinY1Y3",
    "outputId": "ae255ccd-3c54-4b88-b919-9d84e7281f9d"
   },
   "outputs": [
    {
     "output_type": "stream",
     "name": "stdout",
     "output_type": "stream",
     "text": [
      "+----------+\n|    result|\n+----------+\n|[CBC, HIV]|\n+----------+\n\n"
     ]
    }
   ],
   "source": [
    "#abbreviations extracted by ner model\n",
    "res.select(\"abbr_ner_chunk.result\").show()"
   ]
  },
  {
   "cell_type": "code",
   "execution_count": 0,
   "metadata": {
    "application/vnd.databricks.v1+cell": {
     "cellMetadata": {
      "byteLimit": 2048000,
      "rowLimit": 10000
     },
     "inputWidgets": {},
     "nuid": "386e0316-e0cd-4054-a192-fba2af137670",
     "showTitle": false,
     "tableResultSettingsMap": {},
     "title": ""
    },
    "colab": {
     "base_uri": "https://localhost:8080/"
    },
    "id": "fH_PG8ntXePz",
    "outputId": "52396fb1-a039-4dbf-b74b-126de4f05e2d"
   },
   "outputs": [
    {
     "output_type": "stream",
     "name": "stdout",
     "output_type": "stream",
     "text": [
      "+------------+----------------------------+\n|Abbreviation|Definition                  |\n+------------+----------------------------+\n|CBC         |complete blood count        |\n|HIV         |human immunodeficiency virus|\n+------------+----------------------------+\n\n"
     ]
    }
   ],
   "source": [
    "\n",
    "abbr_df = (\n",
    "    res.select(\n",
    "        F.explode(\n",
    "            F.arrays_zip(\n",
    "                F.col(\"abbr_ner_chunk.result\").alias(\"abbr_res\"),\n",
    "                F.col(\"mappings.result\").alias(\"mapping_res\")\n",
    "            )\n",
    "        ).alias(\"col\")\n",
    "    )\n",
    "    .select(\n",
    "        F.col(\"col.abbr_res\").alias(\"Abbreviation\"),\n",
    "        F.col(\"col.mapping_res\").alias(\"Definition\")\n",
    "    )\n",
    ")\n",
    "\n",
    "abbr_df.show(truncate=False)\n"
   ]
  },
  {
   "cell_type": "markdown",
   "metadata": {
    "application/vnd.databricks.v1+cell": {
     "cellMetadata": {},
     "inputWidgets": {},
     "nuid": "feaf37b8-2c7d-4edb-9a12-1d1fc8c34bcb",
     "showTitle": false,
     "tableResultSettingsMap": {},
     "title": ""
    },
    "id": "hB4S4r_eYNUc"
   },
   "source": [
    "As you see, we can see corresponding \"definition\" mappings of each \"abbreviation\"."
   ]
  },
  {
   "cell_type": "markdown",
   "metadata": {
    "application/vnd.databricks.v1+cell": {
     "cellMetadata": {},
     "inputWidgets": {},
     "nuid": "24b39a66-f996-48bc-965c-621985feebe5",
     "showTitle": false,
     "tableResultSettingsMap": {},
     "title": ""
    },
    "id": "tTo9cdLBfyG9"
   },
   "source": [
    "# 2- Creating a Mapper Model"
   ]
  },
  {
   "cell_type": "markdown",
   "metadata": {
    "application/vnd.databricks.v1+cell": {
     "cellMetadata": {},
     "inputWidgets": {},
     "nuid": "5887bc15-7f4e-4fd9-ad75-a10dc65e0f2d",
     "showTitle": false,
     "tableResultSettingsMap": {},
     "title": ""
    },
    "id": "SW9g1bjtgFQM"
   },
   "source": [
    "There is a `ChunkMapperApproach()` to create your own mapper model. <br/>\n",
    "\n",
    "This receives an `ner_chunk` and a Json with a mapping of ner entities and relations, and returns the `ner_chunk` augmented with the relations from the Json ontology. <br/> We give the path of json file to the `setDictionary()` parameter."
   ]
  },
  {
   "cell_type": "markdown",
   "metadata": {
    "application/vnd.databricks.v1+cell": {
     "cellMetadata": {},
     "inputWidgets": {},
     "nuid": "072a1af9-107e-4dfd-9332-e89b3f56bcc1",
     "showTitle": false,
     "tableResultSettingsMap": {},
     "title": ""
    },
    "id": "eFDHG9EVgayJ"
   },
   "source": [
    "Let's create an example Json, then create a drug mapper model. This model will match the given drug name (only \"metformin\" for our example) with correpsonding action and treatment.  \n",
    "\n",
    "The format of json file should be like following:"
   ]
  },
  {
   "cell_type": "code",
   "execution_count": 0,
   "metadata": {
    "application/vnd.databricks.v1+cell": {
     "cellMetadata": {
      "byteLimit": 2048000,
      "rowLimit": 10000
     },
     "inputWidgets": {},
     "nuid": "68d7b6c6-b307-4182-a425-44ec0c0958c5",
     "showTitle": false,
     "tableResultSettingsMap": {},
     "title": ""
    },
    "id": "ekp8gF4wgjLs"
   },
   "outputs": [],
   "source": [
    "data_set= {\n",
    "  \"mappings\": [\n",
    "    {\n",
    "      \"key\": \"metformin\",\n",
    "      \"relations\": [\n",
    "        {\n",
    "          \"key\": \"action\",\n",
    "          \"values\" : [\"hypoglycemic\", \"Drugs Used In Diabetes\"]\n",
    "        },\n",
    "        {\n",
    "          \"key\": \"treatment\",\n",
    "          \"values\" : [\"diabetes\", \"t2dm\"]\n",
    "        }\n",
    "      ]\n",
    "    }\n",
    "  ]\n",
    "}\n",
    "\n",
    "import json\n",
    "with open('/dbfs/sample_drug.json', 'w', encoding='utf-8') as f:\n",
    "    json.dump(data_set, f, ensure_ascii=False, indent=4)"
   ]
  },
  {
   "cell_type": "markdown",
   "metadata": {
    "application/vnd.databricks.v1+cell": {
     "cellMetadata": {},
     "inputWidgets": {},
     "nuid": "a4913189-95f9-494e-978c-b95e04637b84",
     "showTitle": false,
     "tableResultSettingsMap": {},
     "title": ""
    },
    "id": "JqjQ7rj_hxch"
   },
   "source": [
    "By using `setRel()` parameter, we tell the model which type of mapping we want. In our case, if we want from our model to return **action** mapping, we set the parameter as `setRels([\"action\"])`,  we set as `setRels([\"treatment\"])` for **treatment**\n",
    "\n",
    "Let's create a pipeline and see it in action."
   ]
  },
  {
   "cell_type": "code",
   "execution_count": 0,
   "metadata": {
    "application/vnd.databricks.v1+cell": {
     "cellMetadata": {
      "byteLimit": 2048000,
      "rowLimit": 10000
     },
     "inputWidgets": {},
     "nuid": "d5133e3a-3462-4c5d-b4c1-ee3ab1e1e5c1",
     "showTitle": false,
     "tableResultSettingsMap": {},
     "title": ""
    },
    "colab": {
     "base_uri": "https://localhost:8080/"
    },
    "id": "PbuDGXzKf2r7",
    "outputId": "7ac94401-0979-4b82-cc31-f09ee1f2b1b4"
   },
   "outputs": [
    {
     "output_type": "stream",
     "name": "stdout",
     "output_type": "stream",
     "text": [
      "embeddings_clinical download started this may take some time.\nApproximate size to download 1.6 GB\n\r[ | ]\r[OK!]\nner_posology_small download started this may take some time.\nApproximate size to download 13.9 MB\n\r[ | ]\r[ / ]\r[ — ]\r[ \\ ]\r[ | ]\r[ / ]\r[ — ]\r[ \\ ]\r[ | ]\r[ / ]\r[OK!]\n"
     ]
    }
   ],
   "source": [
    "document_assembler = nlp.DocumentAssembler()\\\n",
    "      .setInputCol('text')\\\n",
    "      .setOutputCol('document')\n",
    "\n",
    "sentence_detector = nlp.SentenceDetector()\\\n",
    "      .setInputCols([\"document\"])\\\n",
    "      .setOutputCol(\"sentence\")\n",
    "\n",
    "tokenizer = nlp.Tokenizer()\\\n",
    "      .setInputCols(\"sentence\")\\\n",
    "      .setOutputCol(\"token\")\n",
    "\n",
    "word_embeddings = nlp.WordEmbeddingsModel.pretrained(\"embeddings_clinical\", \"en\", \"clinical/models\")\\\n",
    "      .setInputCols([\"sentence\", \"token\"])\\\n",
    "      .setOutputCol(\"embeddings\")\n",
    "\n",
    "#NER model to detect drug in the text\n",
    "clinical_ner =  medical.NerModel.pretrained(\"ner_posology_small\",\"en\",\"clinical/models\")\\\n",
    "\t    .setInputCols([\"sentence\",\"token\",\"embeddings\"])\\\n",
    "\t    .setOutputCol(\"ner\")\\\n",
    "      .setLabelCasing(\"upper\")\n",
    " \n",
    "ner_converter = medical.NerConverterInternal()\\\n",
    "      .setInputCols([\"sentence\", \"token\", \"ner\"])\\\n",
    "      .setOutputCol(\"ner_chunk\")\\\n",
    "      .setWhiteList([\"DRUG\"])\n",
    "\n",
    "chunkerMapper = medical.ChunkMapperApproach()\\\n",
    "      .setInputCols([\"ner_chunk\"])\\\n",
    "      .setOutputCol(\"mappings\")\\\n",
    "      .setDictionary(\"file:/dbfs/sample_drug.json\")\\\n",
    "      .setRels([\"action\"]) #or treatment\n",
    "\n",
    "pipeline = nlp.Pipeline().setStages([document_assembler,\n",
    "                                 sentence_detector,\n",
    "                                 tokenizer, \n",
    "                                 word_embeddings,\n",
    "                                 clinical_ner, \n",
    "                                 ner_converter, \n",
    "                                 chunkerMapper])\n",
    "\n",
    "text = [\"The patient was given 1 unit of metformin daily.\"]\n",
    "\n",
    "test_data = spark.createDataFrame([text]).toDF(\"text\")\n",
    "\n",
    "model = pipeline.fit(test_data)\n",
    "res= model.transform(test_data)\n"
   ]
  },
  {
   "cell_type": "code",
   "execution_count": 0,
   "metadata": {
    "application/vnd.databricks.v1+cell": {
     "cellMetadata": {
      "byteLimit": 2048000,
      "rowLimit": 10000
     },
     "inputWidgets": {},
     "nuid": "ba8c3fb6-aee2-45a9-baec-ebdd0455650a",
     "showTitle": false,
     "tableResultSettingsMap": {},
     "title": ""
    },
    "colab": {
     "base_uri": "https://localhost:8080/"
    },
    "id": "nDPk6Uhtrwbf",
    "outputId": "837a8c4e-8835-4722-ef90-4ffedcd034b6"
   },
   "outputs": [
    {
     "output_type": "stream",
     "name": "stdout",
     "output_type": "stream",
     "text": [
      "root\n |-- text: string (nullable = true)\n |-- document: array (nullable = true)\n |    |-- element: struct (containsNull = true)\n |    |    |-- annotatorType: string (nullable = true)\n |    |    |-- begin: integer (nullable = false)\n |    |    |-- end: integer (nullable = false)\n |    |    |-- result: string (nullable = true)\n |    |    |-- metadata: map (nullable = true)\n |    |    |    |-- key: string\n |    |    |    |-- value: string (valueContainsNull = true)\n |    |    |-- embeddings: array (nullable = true)\n |    |    |    |-- element: float (containsNull = false)\n |-- sentence: array (nullable = true)\n |    |-- element: struct (containsNull = true)\n |    |    |-- annotatorType: string (nullable = true)\n |    |    |-- begin: integer (nullable = false)\n |    |    |-- end: integer (nullable = false)\n |    |    |-- result: string (nullable = true)\n |    |    |-- metadata: map (nullable = true)\n |    |    |    |-- key: string\n |    |    |    |-- value: string (valueContainsNull = true)\n |    |    |-- embeddings: array (nullable = true)\n |    |    |    |-- element: float (containsNull = false)\n |-- token: array (nullable = true)\n |    |-- element: struct (containsNull = true)\n |    |    |-- annotatorType: string (nullable = true)\n |    |    |-- begin: integer (nullable = false)\n |    |    |-- end: integer (nullable = false)\n |    |    |-- result: string (nullable = true)\n |    |    |-- metadata: map (nullable = true)\n |    |    |    |-- key: string\n |    |    |    |-- value: string (valueContainsNull = true)\n |    |    |-- embeddings: array (nullable = true)\n |    |    |    |-- element: float (containsNull = false)\n |-- embeddings: array (nullable = true)\n |    |-- element: struct (containsNull = true)\n |    |    |-- annotatorType: string (nullable = true)\n |    |    |-- begin: integer (nullable = false)\n |    |    |-- end: integer (nullable = false)\n |    |    |-- result: string (nullable = true)\n |    |    |-- metadata: map (nullable = true)\n |    |    |    |-- key: string\n |    |    |    |-- value: string (valueContainsNull = true)\n |    |    |-- embeddings: array (nullable = true)\n |    |    |    |-- element: float (containsNull = false)\n |-- ner: array (nullable = true)\n |    |-- element: struct (containsNull = true)\n |    |    |-- annotatorType: string (nullable = true)\n |    |    |-- begin: integer (nullable = false)\n |    |    |-- end: integer (nullable = false)\n |    |    |-- result: string (nullable = true)\n |    |    |-- metadata: map (nullable = true)\n |    |    |    |-- key: string\n |    |    |    |-- value: string (valueContainsNull = true)\n |    |    |-- embeddings: array (nullable = true)\n |    |    |    |-- element: float (containsNull = false)\n |-- ner_chunk: array (nullable = true)\n |    |-- element: struct (containsNull = true)\n |    |    |-- annotatorType: string (nullable = true)\n |    |    |-- begin: integer (nullable = false)\n |    |    |-- end: integer (nullable = false)\n |    |    |-- result: string (nullable = true)\n |    |    |-- metadata: map (nullable = true)\n |    |    |    |-- key: string\n |    |    |    |-- value: string (valueContainsNull = true)\n |    |    |-- embeddings: array (nullable = true)\n |    |    |    |-- element: float (containsNull = false)\n |-- mappings: array (nullable = true)\n |    |-- element: struct (containsNull = true)\n |    |    |-- annotatorType: string (nullable = true)\n |    |    |-- begin: integer (nullable = false)\n |    |    |-- end: integer (nullable = false)\n |    |    |-- result: string (nullable = true)\n |    |    |-- metadata: map (nullable = true)\n |    |    |    |-- key: string\n |    |    |    |-- value: string (valueContainsNull = true)\n |    |    |-- embeddings: array (nullable = true)\n |    |    |    |-- element: float (containsNull = false)\n\n"
     ]
    }
   ],
   "source": [
    "res.printSchema()"
   ]
  },
  {
   "cell_type": "markdown",
   "metadata": {
    "application/vnd.databricks.v1+cell": {
     "cellMetadata": {},
     "inputWidgets": {},
     "nuid": "722c0a72-4c75-4208-8ce1-19a1e77a6dcc",
     "showTitle": false,
     "tableResultSettingsMap": {},
     "title": ""
    },
    "id": "nWe7PtYLrQT7"
   },
   "source": [
    "Checking the ner result"
   ]
  },
  {
   "cell_type": "code",
   "execution_count": 0,
   "metadata": {
    "application/vnd.databricks.v1+cell": {
     "cellMetadata": {
      "byteLimit": 2048000,
      "rowLimit": 10000
     },
     "inputWidgets": {},
     "nuid": "375be240-c1e4-49da-a9b9-fdb87318508f",
     "showTitle": false,
     "tableResultSettingsMap": {},
     "title": ""
    },
    "colab": {
     "base_uri": "https://localhost:8080/"
    },
    "id": "bG41lCKTf89Y",
    "outputId": "c65cc2f5-620d-4709-bcc4-51b9ab5d0e06"
   },
   "outputs": [
    {
     "output_type": "stream",
     "name": "stdout",
     "output_type": "stream",
     "text": [
      "+---------+\n|chunks   |\n+---------+\n|metformin|\n+---------+\n\n"
     ]
    }
   ],
   "source": [
    "res.select(F.explode('ner_chunk.result').alias(\"chunks\")).show(truncate=False)"
   ]
  },
  {
   "cell_type": "markdown",
   "metadata": {
    "application/vnd.databricks.v1+cell": {
     "cellMetadata": {},
     "inputWidgets": {},
     "nuid": "445f11c3-cf63-4052-86d2-52a96b19171a",
     "showTitle": false,
     "tableResultSettingsMap": {},
     "title": ""
    },
    "id": "4AsGy0OXshpV"
   },
   "source": [
    "Checking the mapper result"
   ]
  },
  {
   "cell_type": "code",
   "execution_count": 0,
   "metadata": {
    "application/vnd.databricks.v1+cell": {
     "cellMetadata": {
      "byteLimit": 2048000,
      "rowLimit": 10000
     },
     "inputWidgets": {},
     "nuid": "9900ae64-4a5f-4d7d-83af-3e037d8798b3",
     "showTitle": false,
     "tableResultSettingsMap": {},
     "title": ""
    },
    "colab": {
     "base_uri": "https://localhost:8080/"
    },
    "id": "oTRODkcHhzgw",
    "outputId": "481811ff-f69a-4bc0-9666-d7bf2ba01408"
   },
   "outputs": [
    {
     "output_type": "stream",
     "name": "stdout",
     "output_type": "stream",
     "text": [
      "+--------------------------------------------------------------------------------------------------------------------------------------------------------------------------------------------------------------------------------------------------------------------------------------------------------------------------------------------------------------------------------------------------------------------------------------+\n|metadata                                                                                                                                                                                                                                                                                                                                                                                                                              |\n+--------------------------------------------------------------------------------------------------------------------------------------------------------------------------------------------------------------------------------------------------------------------------------------------------------------------------------------------------------------------------------------------------------------------------------------+\n|[{chunk -> 0, __trained__ -> metformin, relation -> action, all_k_distances -> 0.0:::0.0, __distance_function__ -> levenshtein, confidence -> 0.9994, all_k_resolutions -> hypoglycemic:::Drugs Used In Diabetes, target_text -> metformin, ner_source -> ner_chunk, ops -> 0.0, all_relations -> Drugs Used In Diabetes, entity -> DRUG, resolved_text -> hypoglycemic, distance -> 0.0, sentence -> 0, __relation_name__ -> action}]|\n+--------------------------------------------------------------------------------------------------------------------------------------------------------------------------------------------------------------------------------------------------------------------------------------------------------------------------------------------------------------------------------------------------------------------------------------+\n\n"
     ]
    }
   ],
   "source": [
    "res.selectExpr(\"mappings.metadata\").show(truncate=False)"
   ]
  },
  {
   "cell_type": "code",
   "execution_count": 0,
   "metadata": {
    "application/vnd.databricks.v1+cell": {
     "cellMetadata": {
      "byteLimit": 2048000,
      "rowLimit": 10000
     },
     "inputWidgets": {},
     "nuid": "acc54c7e-ab88-4ac6-8dd1-abcf02519d4d",
     "showTitle": false,
     "tableResultSettingsMap": {},
     "title": ""
    },
    "colab": {
     "base_uri": "https://localhost:8080/"
    },
    "id": "DpWUhBkmDeve",
    "outputId": "dcaf56c8-4705-402b-9455-fc091bf6fd5c"
   },
   "outputs": [
    {
     "output_type": "stream",
     "name": "stdout",
     "output_type": "stream",
     "text": [
      "+---------+--------------+----------------------+\n|ner_chunk|mapping_result|all_relations         |\n+---------+--------------+----------------------+\n|metformin|hypoglycemic  |Drugs Used In Diabetes|\n+---------+--------------+----------------------+\n\n"
     ]
    }
   ],
   "source": [
    "res_df = (\n",
    "    res.select(\n",
    "        F.explode(\n",
    "            F.arrays_zip(\n",
    "                F.col(\"ner_chunk.result\").alias(\"ner_res\"),\n",
    "                F.col(\"mappings.result\").alias(\"mapping_res\"),\n",
    "                F.col(\"mappings.metadata\").alias(\"mapping_meta\")\n",
    "            )\n",
    "        ).alias(\"col\")\n",
    "    )\n",
    "    .select(\n",
    "        F.col(\"col.ner_res\").alias(\"ner_chunk\"),\n",
    "        F.col(\"col.mapping_res\").alias(\"mapping_result\"),\n",
    "        F.col(\"col.mapping_meta.all_relations\").alias(\"all_relations\")\n",
    "    )\n",
    ")\n",
    "\n",
    "res_df.show(truncate=False)\n"
   ]
  },
  {
   "cell_type": "markdown",
   "metadata": {
    "application/vnd.databricks.v1+cell": {
     "cellMetadata": {},
     "inputWidgets": {},
     "nuid": "8e4c782f-a82e-4272-9a24-cc13e99726a6",
     "showTitle": false,
     "tableResultSettingsMap": {},
     "title": ""
    },
    "id": "6hdWLMiss7uT"
   },
   "source": [
    "As you see, the model that we created with `ChunkMapperApproach()` succesfully mapped \"metformin\". Under the metadata, we can see all relations that we defined in the Json."
   ]
  },
  {
   "cell_type": "markdown",
   "metadata": {
    "application/vnd.databricks.v1+cell": {
     "cellMetadata": {},
     "inputWidgets": {},
     "nuid": "941edd9b-4247-4725-bcd1-9d921ce6b9ab",
     "showTitle": false,
     "tableResultSettingsMap": {},
     "title": ""
    },
    "id": "UJPH_FaOtqpP"
   },
   "source": [
    "### 2.1- Save the model to disk"
   ]
  },
  {
   "cell_type": "markdown",
   "metadata": {
    "application/vnd.databricks.v1+cell": {
     "cellMetadata": {},
     "inputWidgets": {},
     "nuid": "f2e974ea-1582-4b9b-b304-b127bda7f6f8",
     "showTitle": false,
     "tableResultSettingsMap": {},
     "title": ""
    },
    "id": "S5SHrUZcu2iR"
   },
   "source": [
    "Now, we will save our model and use it with `ChunkMapperModel()`"
   ]
  },
  {
   "cell_type": "code",
   "execution_count": 0,
   "metadata": {
    "application/vnd.databricks.v1+cell": {
     "cellMetadata": {
      "byteLimit": 2048000,
      "rowLimit": 10000
     },
     "inputWidgets": {},
     "nuid": "7a20869d-94b6-4330-8a80-df3d59bf114f",
     "showTitle": false,
     "tableResultSettingsMap": {},
     "title": ""
    },
    "id": "EaNF5kWUs46N"
   },
   "outputs": [],
   "source": [
    "model.stages[-1].write().overwrite().save(\"dbfs:/databricks/driver/models/drug_mapper\")"
   ]
  },
  {
   "cell_type": "markdown",
   "metadata": {
    "application/vnd.databricks.v1+cell": {
     "cellMetadata": {},
     "inputWidgets": {},
     "nuid": "6a717051-bdad-4fbb-927d-b9f83d6141be",
     "showTitle": false,
     "tableResultSettingsMap": {},
     "title": ""
    },
    "id": "VEBFO85yuw07"
   },
   "source": [
    "Using the saved model. This time we will check 'treatment' mappings results"
   ]
  },
  {
   "cell_type": "code",
   "execution_count": 0,
   "metadata": {
    "application/vnd.databricks.v1+cell": {
     "cellMetadata": {
      "byteLimit": 2048000,
      "rowLimit": 10000
     },
     "inputWidgets": {},
     "nuid": "f1d3881d-7a90-4613-972c-04f29e71b31d",
     "showTitle": false,
     "tableResultSettingsMap": {},
     "title": ""
    },
    "colab": {
     "base_uri": "https://localhost:8080/"
    },
    "id": "9xdx4s-MuutS",
    "outputId": "59a7c853-1f65-45df-b1a0-956458609717"
   },
   "outputs": [
    {
     "output_type": "stream",
     "name": "stdout",
     "output_type": "stream",
     "text": [
      "embeddings_clinical download started this may take some time.\nApproximate size to download 1.6 GB\n\r[ | ]\r[OK!]\nner_posology_small download started this may take some time.\nApproximate size to download 13.9 MB\n\r[ | ]\r[OK!]\n"
     ]
    }
   ],
   "source": [
    "document_assembler = nlp.DocumentAssembler()\\\n",
    "      .setInputCol('text')\\\n",
    "      .setOutputCol('document')\n",
    "\n",
    "sentence_detector = nlp.SentenceDetector()\\\n",
    "      .setInputCols([\"document\"])\\\n",
    "      .setOutputCol(\"sentence\")\n",
    "\n",
    "tokenizer = nlp.Tokenizer()\\\n",
    "      .setInputCols(\"sentence\")\\\n",
    "      .setOutputCol(\"token\")\n",
    "\n",
    "word_embeddings = nlp.WordEmbeddingsModel.pretrained(\"embeddings_clinical\", \"en\", \"clinical/models\")\\\n",
    "      .setInputCols([\"sentence\", \"token\"])\\\n",
    "      .setOutputCol(\"embeddings\")\n",
    "\n",
    "#NER model to detect drug in the text\n",
    "clinical_ner =  medical.NerModel.pretrained(\"ner_posology_small\",\"en\",\"clinical/models\")\\\n",
    "\t    .setInputCols([\"sentence\",\"token\",\"embeddings\"])\\\n",
    "\t    .setOutputCol(\"ner\")\\\n",
    "      .setLabelCasing(\"upper\")\n",
    " \n",
    "ner_converter = medical.NerConverterInternal()\\\n",
    "      .setInputCols([\"sentence\", \"token\", \"ner\"])\\\n",
    "      .setOutputCol(\"ner_chunk\")\\\n",
    "      .setWhiteList([\"DRUG\"])\n",
    "\n",
    "chunkerMapper = medical.ChunkMapperModel.load(\"dbfs:/databricks/driver/models/drug_mapper\")\\\n",
    "      .setInputCols([\"ner_chunk\"])\\\n",
    "      .setOutputCol(\"mappings\")\\\n",
    "      .setRels([\"treatment\"]) \n",
    "\n",
    "pipeline = nlp.Pipeline().setStages([document_assembler,\n",
    "                                 sentence_detector,\n",
    "                                 tokenizer, \n",
    "                                 word_embeddings,\n",
    "                                 clinical_ner, \n",
    "                                 ner_converter, \n",
    "                                 chunkerMapper])\n",
    "\n",
    "text = [\"The patient was given 1 unit of metformin daily.\"]\n",
    "\n",
    "test_data = spark.createDataFrame([text]).toDF(\"text\")\n",
    "\n",
    "model = pipeline.fit(test_data)\n",
    "res= model.transform(test_data)"
   ]
  },
  {
   "cell_type": "code",
   "execution_count": 0,
   "metadata": {
    "application/vnd.databricks.v1+cell": {
     "cellMetadata": {
      "byteLimit": 2048000,
      "rowLimit": 10000
     },
     "inputWidgets": {},
     "nuid": "0eae8124-008b-4363-9a05-c4ab9384e396",
     "showTitle": false,
     "tableResultSettingsMap": {},
     "title": ""
    },
    "colab": {
     "base_uri": "https://localhost:8080/"
    },
    "id": "Pl3Wbxe1uugR",
    "outputId": "306ae8ea-90c7-487e-95a0-53c16e0a36f6"
   },
   "outputs": [
    {
     "output_type": "stream",
     "name": "stdout",
     "output_type": "stream",
     "text": [
      "+------------------------------------------------------------------------------------------------------------------------------------------------------------------------------------------------------------------------------------------------------------------------------------------------------------------------------------------------------------------------------------------------+\n|metadata                                                                                                                                                                                                                                                                                                                                                                                        |\n+------------------------------------------------------------------------------------------------------------------------------------------------------------------------------------------------------------------------------------------------------------------------------------------------------------------------------------------------------------------------------------------------+\n|[{chunk -> 0, __trained__ -> metformin, relation -> treatment, all_k_distances -> 0.0:::0.0, __distance_function__ -> levenshtein, confidence -> 0.9994, all_k_resolutions -> diabetes:::t2dm, target_text -> metformin, ner_source -> ner_chunk, ops -> 0.0, all_relations -> t2dm, entity -> DRUG, resolved_text -> diabetes, distance -> 0.0, sentence -> 0, __relation_name__ -> treatment}]|\n+------------------------------------------------------------------------------------------------------------------------------------------------------------------------------------------------------------------------------------------------------------------------------------------------------------------------------------------------------------------------------------------------+\n\n"
     ]
    }
   ],
   "source": [
    "res.selectExpr(\"mappings.metadata\").show(truncate=False)"
   ]
  },
  {
   "cell_type": "code",
   "execution_count": 0,
   "metadata": {
    "application/vnd.databricks.v1+cell": {
     "cellMetadata": {
      "byteLimit": 2048000,
      "rowLimit": 10000
     },
     "inputWidgets": {},
     "nuid": "a9b930d5-014a-4ebf-8fd3-e9d01575d952",
     "showTitle": false,
     "tableResultSettingsMap": {},
     "title": ""
    },
    "colab": {
     "base_uri": "https://localhost:8080/"
    },
    "id": "1-DCeMsjDnw0",
    "outputId": "763775ea-b0fc-44f8-b23f-5d4cc6350205"
   },
   "outputs": [
    {
     "output_type": "stream",
     "name": "stdout",
     "output_type": "stream",
     "text": [
      "+---------+--------------+-------------+\n|ner_chunk|mapping_result|all_relations|\n+---------+--------------+-------------+\n|metformin|diabetes      |t2dm         |\n+---------+--------------+-------------+\n\n"
     ]
    }
   ],
   "source": [
    "\n",
    "res_df = (\n",
    "    res.select(\n",
    "        F.explode(\n",
    "            F.arrays_zip(\n",
    "                F.col(\"ner_chunk.result\").alias(\"ner_res\"),\n",
    "                F.col(\"mappings.result\").alias(\"mapping_res\"),\n",
    "                F.col(\"mappings.metadata\").alias(\"mapping_meta\")\n",
    "            )\n",
    "        ).alias(\"col\")\n",
    "    )\n",
    "    .select(\n",
    "        F.col(\"col.ner_res\").alias(\"ner_chunk\"),\n",
    "        F.col(\"col.mapping_res\").alias(\"mapping_result\"),\n",
    "        F.col(\"col.mapping_meta.all_relations\").alias(\"all_relations\")\n",
    "    )\n",
    ")\n",
    "\n",
    "res_df.show(truncate=False)\n"
   ]
  },
  {
   "cell_type": "markdown",
   "metadata": {
    "application/vnd.databricks.v1+cell": {
     "cellMetadata": {},
     "inputWidgets": {},
     "nuid": "ecaf8ace-8712-423a-8afe-58a13bb74143",
     "showTitle": false,
     "tableResultSettingsMap": {},
     "title": ""
    },
    "id": "cJW7n4Resju8"
   },
   "source": [
    "As you see above, we created our own drug mapper model successfully."
   ]
  },
  {
   "cell_type": "markdown",
   "metadata": {
    "application/vnd.databricks.v1+cell": {
     "cellMetadata": {},
     "inputWidgets": {},
     "nuid": "3dbbc8d5-e588-474b-9905-8bd2f6b543af",
     "showTitle": false,
     "tableResultSettingsMap": {},
     "title": ""
    },
    "id": "s3SlO9WCfu79"
   },
   "source": [
    "### 2.2- Create a Model with Upper Cased or Lower Cased"
   ]
  },
  {
   "cell_type": "markdown",
   "metadata": {
    "application/vnd.databricks.v1+cell": {
     "cellMetadata": {},
     "inputWidgets": {},
     "nuid": "b9292073-d159-4b56-9a1b-258a683147ad",
     "showTitle": false,
     "tableResultSettingsMap": {},
     "title": ""
    },
    "id": "zqbPFVfAf7Je"
   },
   "source": [
    "We can set the case status of `ChunkMapperApproach` while creating a model by using `setLowerCase()` parameter.\n",
    "\n",
    "Let's create a new mapping dictionary and see how it works."
   ]
  },
  {
   "cell_type": "code",
   "execution_count": 0,
   "metadata": {
    "application/vnd.databricks.v1+cell": {
     "cellMetadata": {
      "byteLimit": 2048000,
      "rowLimit": 10000
     },
     "inputWidgets": {},
     "nuid": "65273bce-f740-4390-badd-c3cbc4479f10",
     "showTitle": false,
     "tableResultSettingsMap": {},
     "title": ""
    },
    "id": "XaN7B3YJiTut"
   },
   "outputs": [],
   "source": [
    "data_set= {\n",
    "    \"mappings\": [\n",
    "        {\n",
    "            \"key\": \"Warfarina lusa\",\n",
    "            \"relations\": [\n",
    "                {\n",
    "                    \"key\": \"action\",\n",
    "                    \"values\": [\n",
    "                        \"Analgesic\",\n",
    "                        \"Antipyretic\"\n",
    "                    ]\n",
    "                },\n",
    "                {\n",
    "                    \"key\": \"treatment\",\n",
    "                    \"values\": [\n",
    "                        \"diabetes\",\n",
    "                        \"t2dm\"\n",
    "                    ]\n",
    "                }\n",
    "            ]\n",
    "        }\n",
    "    ]\n",
    "}\n",
    "\n",
    "import json\n",
    "with open('/dbfs/mappings.json', 'w', encoding='utf-8') as f:\n",
    "    json.dump(data_set, f, ensure_ascii=False, indent=4)"
   ]
  },
  {
   "cell_type": "code",
   "execution_count": 0,
   "metadata": {
    "application/vnd.databricks.v1+cell": {
     "cellMetadata": {
      "byteLimit": 2048000,
      "rowLimit": 10000
     },
     "inputWidgets": {},
     "nuid": "abc6e9e1-2996-4612-8d42-d348e5a5f879",
     "showTitle": false,
     "tableResultSettingsMap": {},
     "title": ""
    },
    "id": "DBxQ1kJfmEA_"
   },
   "outputs": [],
   "source": [
    "sentences = [\n",
    "        [\"\"\"The patient was given Warfarina Lusa and amlodipine 10 MG.The patient was given Aspagin, coumadin 5 mg, coumadin, and he has metamorfin\"\"\"]\n",
    "    ]\n",
    "\n",
    "\n",
    "test_data = spark.createDataFrame(sentences).toDF(\"text\")"
   ]
  },
  {
   "cell_type": "markdown",
   "metadata": {
    "application/vnd.databricks.v1+cell": {
     "cellMetadata": {},
     "inputWidgets": {},
     "nuid": "8862a52a-cb31-4d5c-877f-b95921a6a042",
     "showTitle": false,
     "tableResultSettingsMap": {},
     "title": ""
    },
    "id": "fUlSk0y9mnyC"
   },
   "source": [
    "**`setLowerCase(True)`**"
   ]
  },
  {
   "cell_type": "code",
   "execution_count": 0,
   "metadata": {
    "application/vnd.databricks.v1+cell": {
     "cellMetadata": {
      "byteLimit": 2048000,
      "rowLimit": 10000
     },
     "inputWidgets": {},
     "nuid": "de3c18bd-c21e-48ad-aa50-58f3406cd116",
     "showTitle": false,
     "tableResultSettingsMap": {},
     "title": ""
    },
    "colab": {
     "base_uri": "https://localhost:8080/"
    },
    "id": "dwTkmZUcfnDB",
    "outputId": "73651516-a505-47fd-8476-b03ca0d2e86f"
   },
   "outputs": [
    {
     "output_type": "stream",
     "name": "stdout",
     "output_type": "stream",
     "text": [
      "+--------------------------------------------------------------------------------------------------------------------------------------------------------------------------------------------------------------------------------------------------------------------------------------------------------------------------------------------------------------------------------------------------------------------------------------------------------------------------------+\n|col                                                                                                                                                                                                                                                                                                                                                                                                                                                                             |\n+--------------------------------------------------------------------------------------------------------------------------------------------------------------------------------------------------------------------------------------------------------------------------------------------------------------------------------------------------------------------------------------------------------------------------------------------------------------------------------+\n|{labeled_dependency, 22, 35, Analgesic, {chunk -> 0, __trained__ -> Warfarina lusa, relation -> action, all_k_distances -> 0.0:::0.0, __distance_function__ -> levenshtein, confidence -> 0.66565, all_k_resolutions -> Analgesic:::Antipyretic, target_text -> Warfarina Lusa, ner_source -> ner_chunk, ops -> 0.0, all_relations -> Antipyretic, entity -> DRUG, resolved_text -> Analgesic, distance -> 0.07142857142857142, sentence -> 0, __relation_name__ -> action}, []}|\n|{labeled_dependency, 41, 50, NONE, {chunk -> 1, confidence -> 0.9999, target_text -> amlodipine, ner_source -> ner_chunk, entity -> DRUG, sentence -> 0}, []}                                                                                                                                                                                                                                                                                                                   |\n|{labeled_dependency, 80, 86, NONE, {chunk -> 2, confidence -> 0.9905, target_text -> Aspagin, ner_source -> ner_chunk, entity -> DRUG, sentence -> 0}, []}                                                                                                                                                                                                                                                                                                                      |\n|{labeled_dependency, 89, 96, NONE, {chunk -> 3, confidence -> 0.9997, target_text -> coumadin, ner_source -> ner_chunk, entity -> DRUG, sentence -> 0}, []}                                                                                                                                                                                                                                                                                                                     |\n|{labeled_dependency, 104, 111, NONE, {chunk -> 4, confidence -> 0.9994, target_text -> coumadin, ner_source -> ner_chunk, entity -> DRUG, sentence -> 0}, []}                                                                                                                                                                                                                                                                                                                   |\n|{labeled_dependency, 125, 134, NONE, {chunk -> 5, confidence -> 0.9989, target_text -> metamorfin, ner_source -> ner_chunk, entity -> DRUG, sentence -> 0}, []}                                                                                                                                                                                                                                                                                                                 |\n+--------------------------------------------------------------------------------------------------------------------------------------------------------------------------------------------------------------------------------------------------------------------------------------------------------------------------------------------------------------------------------------------------------------------------------------------------------------------------------+\n\n"
     ]
    }
   ],
   "source": [
    "chunkerMapper = medical.ChunkMapperApproach() \\\n",
    "        .setInputCols([\"ner_chunk\"]) \\\n",
    "        .setOutputCol(\"mappings\") \\\n",
    "        .setDictionary(\"file:/dbfs/mappings.json\") \\\n",
    "        .setRels([\"action\"]) \\\n",
    "        .setLowerCase(True) \\\n",
    "\n",
    "pipeline = nlp.Pipeline().setStages([document_assembler,\n",
    "                                 sentence_detector,\n",
    "                                 tokenizer, \n",
    "                                 word_embeddings,\n",
    "                                 clinical_ner, \n",
    "                                 ner_converter, \n",
    "                                 chunkerMapper])\n",
    "\n",
    "\n",
    "result_df = pipeline.fit(test_data).transform(test_data)\n",
    "result_df.selectExpr(\"explode(mappings)\").show(truncate=False)"
   ]
  },
  {
   "cell_type": "markdown",
   "metadata": {
    "application/vnd.databricks.v1+cell": {
     "cellMetadata": {},
     "inputWidgets": {},
     "nuid": "490081f9-2a3d-4bc4-956f-522a99b3f6fe",
     "showTitle": false,
     "tableResultSettingsMap": {},
     "title": ""
    },
    "id": "QhByE9vSm_to"
   },
   "source": [
    "\"Warfarina lusa\" is in lower case in the source json file, and in upper case(Warfarina Lusa) in our example training sentence. We trained that model in lower case, the model mapped the entity even though our training sentence is uppercased. <br/>\n",
    "\n",
    "Let's check with `setLowerCase(False)` and see the difference."
   ]
  },
  {
   "cell_type": "code",
   "execution_count": 0,
   "metadata": {
    "application/vnd.databricks.v1+cell": {
     "cellMetadata": {
      "byteLimit": 2048000,
      "rowLimit": 10000
     },
     "inputWidgets": {},
     "nuid": "cc5357d9-9687-47c8-b402-8e2500257bed",
     "showTitle": false,
     "tableResultSettingsMap": {},
     "title": ""
    },
    "colab": {
     "base_uri": "https://localhost:8080/"
    },
    "id": "Pv3UQrGZfm-I",
    "outputId": "291d5e91-d204-4533-f332-7725b7bc1198"
   },
   "outputs": [
    {
     "output_type": "stream",
     "name": "stdout",
     "output_type": "stream",
     "text": [
      "+------------------------------------------------------------------------------------------------------------------------------------------------------------------+\n|col                                                                                                                                                               |\n+------------------------------------------------------------------------------------------------------------------------------------------------------------------+\n|{labeled_dependency, 22, 35, NONE, {chunk -> 0, confidence -> 0.66565, target_text -> Warfarina Lusa, ner_source -> ner_chunk, entity -> DRUG, sentence -> 0}, []}|\n|{labeled_dependency, 41, 50, NONE, {chunk -> 1, confidence -> 0.9999, target_text -> amlodipine, ner_source -> ner_chunk, entity -> DRUG, sentence -> 0}, []}     |\n|{labeled_dependency, 80, 86, NONE, {chunk -> 2, confidence -> 0.9905, target_text -> Aspagin, ner_source -> ner_chunk, entity -> DRUG, sentence -> 0}, []}        |\n|{labeled_dependency, 89, 96, NONE, {chunk -> 3, confidence -> 0.9997, target_text -> coumadin, ner_source -> ner_chunk, entity -> DRUG, sentence -> 0}, []}       |\n|{labeled_dependency, 104, 111, NONE, {chunk -> 4, confidence -> 0.9994, target_text -> coumadin, ner_source -> ner_chunk, entity -> DRUG, sentence -> 0}, []}     |\n|{labeled_dependency, 125, 134, NONE, {chunk -> 5, confidence -> 0.9989, target_text -> metamorfin, ner_source -> ner_chunk, entity -> DRUG, sentence -> 0}, []}   |\n+------------------------------------------------------------------------------------------------------------------------------------------------------------------+\n\n"
     ]
    }
   ],
   "source": [
    "chunkerMapper = medical.ChunkMapperApproach() \\\n",
    "        .setInputCols([\"ner_chunk\"]) \\\n",
    "        .setOutputCol(\"mappings\") \\\n",
    "        .setDictionary(\"file:/dbfs/mappings.json\") \\\n",
    "        .setRels([\"action\"]) \\\n",
    "        .setLowerCase(False) \\\n",
    "\n",
    "pipeline = nlp.Pipeline().setStages([document_assembler,\n",
    "                                 sentence_detector,\n",
    "                                 tokenizer, \n",
    "                                 word_embeddings,\n",
    "                                 clinical_ner, \n",
    "                                 ner_converter, \n",
    "                                 chunkerMapper])\n",
    "\n",
    "\n",
    "result_df = pipeline.fit(test_data).transform(test_data)\n",
    "result_df.selectExpr(\"explode(mappings)\").show(truncate=False)"
   ]
  },
  {
   "cell_type": "markdown",
   "metadata": {
    "application/vnd.databricks.v1+cell": {
     "cellMetadata": {},
     "inputWidgets": {},
     "nuid": "6440ca9e-8b1f-4a4c-b606-46c61a2940ab",
     "showTitle": false,
     "tableResultSettingsMap": {},
     "title": ""
    },
    "id": "ooQvQ2YJp1ae"
   },
   "source": [
    "As you see, our model couldn't map the given uppercased \"Warfarine Lura\"."
   ]
  },
  {
   "cell_type": "markdown",
   "metadata": {
    "application/vnd.databricks.v1+cell": {
     "cellMetadata": {},
     "inputWidgets": {},
     "nuid": "fbdcb017-6be3-44c0-bf0f-5bfb0e15907d",
     "showTitle": false,
     "tableResultSettingsMap": {},
     "title": ""
    },
    "id": "5iORj5g_rAV7"
   },
   "source": [
    "### 2.3- Selecting Multiple Relations"
   ]
  },
  {
   "cell_type": "markdown",
   "metadata": {
    "application/vnd.databricks.v1+cell": {
     "cellMetadata": {},
     "inputWidgets": {},
     "nuid": "32ab6bed-6351-4480-a99b-95706c141d1d",
     "showTitle": false,
     "tableResultSettingsMap": {},
     "title": ""
    },
    "id": "xp4fqhZPrWG-"
   },
   "source": [
    "We can select multiple relations for the same chunk with the `setRels()` parameter."
   ]
  },
  {
   "cell_type": "code",
   "execution_count": 0,
   "metadata": {
    "application/vnd.databricks.v1+cell": {
     "cellMetadata": {
      "byteLimit": 2048000,
      "rowLimit": 10000
     },
     "inputWidgets": {},
     "nuid": "672936d1-8871-4007-95e1-2a11d891f150",
     "showTitle": false,
     "tableResultSettingsMap": {},
     "title": ""
    },
    "colab": {
     "base_uri": "https://localhost:8080/"
    },
    "id": "38I9ft6BfmxY",
    "outputId": "23e9176c-b5c6-4dcb-b13e-6e8a6a1e39ce"
   },
   "outputs": [
    {
     "output_type": "stream",
     "name": "stdout",
     "output_type": "stream",
     "text": [
      "+--------------------------------------------------------------------------------------------------------------------------------------------------------------------------------------------------------------------------------------------------------------------------------------------------------------------------------------------------------------------------------------------------------------------------------------------------------------------------------+\n|col                                                                                                                                                                                                                                                                                                                                                                                                                                                                             |\n+--------------------------------------------------------------------------------------------------------------------------------------------------------------------------------------------------------------------------------------------------------------------------------------------------------------------------------------------------------------------------------------------------------------------------------------------------------------------------------+\n|{labeled_dependency, 22, 35, Analgesic, {chunk -> 0, __trained__ -> Warfarina lusa, relation -> action, all_k_distances -> 0.0:::0.0, __distance_function__ -> levenshtein, confidence -> 0.66565, all_k_resolutions -> Analgesic:::Antipyretic, target_text -> Warfarina Lusa, ner_source -> ner_chunk, ops -> 0.0, all_relations -> Antipyretic, entity -> DRUG, resolved_text -> Analgesic, distance -> 0.07142857142857142, sentence -> 0, __relation_name__ -> action}, []}|\n|{labeled_dependency, 22, 35, diabetes, {chunk -> 0, __trained__ -> Warfarina lusa, relation -> treatment, all_k_distances -> 0.0:::0.0, __distance_function__ -> levenshtein, confidence -> 0.66565, all_k_resolutions -> diabetes:::t2dm, target_text -> Warfarina Lusa, ner_source -> ner_chunk, ops -> 0.0, all_relations -> t2dm, entity -> DRUG, resolved_text -> diabetes, distance -> 0.07142857142857142, sentence -> 0, __relation_name__ -> treatment}, []}           |\n|{labeled_dependency, 41, 50, NONE, {chunk -> 1, confidence -> 0.9999, target_text -> amlodipine, ner_source -> ner_chunk, entity -> DRUG, sentence -> 0}, []}                                                                                                                                                                                                                                                                                                                   |\n|{labeled_dependency, 80, 86, NONE, {chunk -> 2, confidence -> 0.9905, target_text -> Aspagin, ner_source -> ner_chunk, entity -> DRUG, sentence -> 0}, []}                                                                                                                                                                                                                                                                                                                      |\n|{labeled_dependency, 89, 96, NONE, {chunk -> 3, confidence -> 0.9997, target_text -> coumadin, ner_source -> ner_chunk, entity -> DRUG, sentence -> 0}, []}                                                                                                                                                                                                                                                                                                                     |\n|{labeled_dependency, 104, 111, NONE, {chunk -> 4, confidence -> 0.9994, target_text -> coumadin, ner_source -> ner_chunk, entity -> DRUG, sentence -> 0}, []}                                                                                                                                                                                                                                                                                                                   |\n|{labeled_dependency, 125, 134, NONE, {chunk -> 5, confidence -> 0.9989, target_text -> metamorfin, ner_source -> ner_chunk, entity -> DRUG, sentence -> 0}, []}                                                                                                                                                                                                                                                                                                                 |\n+--------------------------------------------------------------------------------------------------------------------------------------------------------------------------------------------------------------------------------------------------------------------------------------------------------------------------------------------------------------------------------------------------------------------------------------------------------------------------------+\n\n"
     ]
    }
   ],
   "source": [
    "chunkerMapper = medical.ChunkMapperApproach() \\\n",
    "        .setInputCols([\"ner_chunk\"]) \\\n",
    "        .setOutputCol(\"mappings\") \\\n",
    "        .setDictionary(\"file:/dbfs/mappings.json\") \\\n",
    "        .setLowerCase(True) \\\n",
    "        .setRels([\"action\", \"treatment\"])\n",
    "\n",
    "pipeline = nlp.Pipeline().setStages([document_assembler,\n",
    "                                 sentence_detector,\n",
    "                                 tokenizer, \n",
    "                                 word_embeddings,\n",
    "                                 clinical_ner, \n",
    "                                 ner_converter, \n",
    "                                 chunkerMapper])\n",
    "\n",
    "\n",
    "result_df = pipeline.fit(test_data).transform(test_data)\n",
    "result_df.selectExpr(\"explode(mappings)\").show(truncate=False)"
   ]
  },
  {
   "cell_type": "markdown",
   "metadata": {
    "application/vnd.databricks.v1+cell": {
     "cellMetadata": {},
     "inputWidgets": {},
     "nuid": "275d185c-15da-43b8-b446-96fcbc8a9384",
     "showTitle": false,
     "tableResultSettingsMap": {},
     "title": ""
    },
    "id": "LU7XurIxrz4T"
   },
   "source": [
    "As you see, we are able to see all the relations(action, treatment) at the same time."
   ]
  },
  {
   "cell_type": "markdown",
   "metadata": {
    "application/vnd.databricks.v1+cell": {
     "cellMetadata": {},
     "inputWidgets": {},
     "nuid": "7575c494-1efb-4690-8722-19c11cb21da3",
     "showTitle": false,
     "tableResultSettingsMap": {},
     "title": ""
    },
    "id": "fYgl8fvAsELm"
   },
   "source": [
    "### 2.4- Filtering Multi-token Chunks"
   ]
  },
  {
   "cell_type": "markdown",
   "metadata": {
    "application/vnd.databricks.v1+cell": {
     "cellMetadata": {},
     "inputWidgets": {},
     "nuid": "8b65843b-45e3-41c5-8889-e3867743b621",
     "showTitle": false,
     "tableResultSettingsMap": {},
     "title": ""
    },
    "id": "p1-8izXXsnDe"
   },
   "source": [
    "If the chunk includes multi-tokens splitted by a whitespace, we can filter that chunk by using `setAllowMultiTokenChunk()` parameter."
   ]
  },
  {
   "cell_type": "code",
   "execution_count": 0,
   "metadata": {
    "application/vnd.databricks.v1+cell": {
     "cellMetadata": {
      "byteLimit": 2048000,
      "rowLimit": 10000
     },
     "inputWidgets": {},
     "nuid": "e24c1d08-10ac-4b23-b01a-5f617b2f887a",
     "showTitle": false,
     "tableResultSettingsMap": {},
     "title": ""
    },
    "colab": {
     "base_uri": "https://localhost:8080/"
    },
    "id": "_yzlVT23sKvA",
    "outputId": "ce7de660-f4e4-4e90-dc6f-281f7a0f9270"
   },
   "outputs": [
    {
     "output_type": "stream",
     "name": "stdout",
     "output_type": "stream",
     "text": [
      "+------------------------------------------------------------------------------------------------------------------------------------------------------------------+\n|col                                                                                                                                                               |\n+------------------------------------------------------------------------------------------------------------------------------------------------------------------+\n|{labeled_dependency, 22, 35, NONE, {chunk -> 0, confidence -> 0.66565, target_text -> Warfarina Lusa, ner_source -> ner_chunk, entity -> DRUG, sentence -> 0}, []}|\n|{labeled_dependency, 41, 50, NONE, {chunk -> 1, confidence -> 0.9999, target_text -> amlodipine, ner_source -> ner_chunk, entity -> DRUG, sentence -> 0}, []}     |\n|{labeled_dependency, 80, 86, NONE, {chunk -> 2, confidence -> 0.9905, target_text -> Aspagin, ner_source -> ner_chunk, entity -> DRUG, sentence -> 0}, []}        |\n|{labeled_dependency, 89, 96, NONE, {chunk -> 3, confidence -> 0.9997, target_text -> coumadin, ner_source -> ner_chunk, entity -> DRUG, sentence -> 0}, []}       |\n|{labeled_dependency, 104, 111, NONE, {chunk -> 4, confidence -> 0.9994, target_text -> coumadin, ner_source -> ner_chunk, entity -> DRUG, sentence -> 0}, []}     |\n|{labeled_dependency, 125, 134, NONE, {chunk -> 5, confidence -> 0.9989, target_text -> metamorfin, ner_source -> ner_chunk, entity -> DRUG, sentence -> 0}, []}   |\n+------------------------------------------------------------------------------------------------------------------------------------------------------------------+\n\n"
     ]
    }
   ],
   "source": [
    "chunkerMapper = medical.ChunkMapperApproach() \\\n",
    "        .setInputCols([\"ner_chunk\"]) \\\n",
    "        .setOutputCol(\"mappings\") \\\n",
    "        .setDictionary(\"file:/dbfs/mappings.json\") \\\n",
    "        .setLowerCase(True) \\\n",
    "        .setRels([\"action\", \"treatment\"]) \\\n",
    "        .setAllowMultiTokenChunk(False)\n",
    "\n",
    "pipeline = nlp.Pipeline().setStages([document_assembler,\n",
    "                                 sentence_detector,\n",
    "                                 tokenizer, \n",
    "                                 word_embeddings,\n",
    "                                 clinical_ner, \n",
    "                                 ner_converter, \n",
    "                                 chunkerMapper])\n",
    "\n",
    "\n",
    "result_df = pipeline.fit(test_data).transform(test_data)\n",
    "result_df.selectExpr(\"explode(mappings)\").show(truncate=False)"
   ]
  },
  {
   "cell_type": "markdown",
   "metadata": {
    "application/vnd.databricks.v1+cell": {
     "cellMetadata": {},
     "inputWidgets": {},
     "nuid": "35d6688c-0b08-4f9d-baab-ef5034fa2504",
     "showTitle": false,
     "tableResultSettingsMap": {},
     "title": ""
    },
    "id": "QkYb6byStDTA"
   },
   "source": [
    "The chunk \"Warfarina Lusa\" is a multi-token. Therefore, our mapper model skip that entity. <br/>\n",
    "So, let's set `.setAllowMultiTokenChunk(True)` and see the difference."
   ]
  },
  {
   "cell_type": "code",
   "execution_count": 0,
   "metadata": {
    "application/vnd.databricks.v1+cell": {
     "cellMetadata": {
      "byteLimit": 2048000,
      "rowLimit": 10000
     },
     "inputWidgets": {},
     "nuid": "4d771748-294b-41a4-8a23-880785130730",
     "showTitle": false,
     "tableResultSettingsMap": {},
     "title": ""
    },
    "colab": {
     "base_uri": "https://localhost:8080/"
    },
    "id": "9pTV_9BLtifw",
    "outputId": "6820caa0-dc88-4f86-8b22-6a3df236c35c"
   },
   "outputs": [
    {
     "output_type": "stream",
     "name": "stdout",
     "output_type": "stream",
     "text": [
      "+--------------------------------------------------------------------------------------------------------------------------------------------------------------------------------------------------------------------------------------------------------------------------------------------------------------------------------------------------------------------------------------------------------------------------------------------------------------------------------+\n|col                                                                                                                                                                                                                                                                                                                                                                                                                                                                             |\n+--------------------------------------------------------------------------------------------------------------------------------------------------------------------------------------------------------------------------------------------------------------------------------------------------------------------------------------------------------------------------------------------------------------------------------------------------------------------------------+\n|{labeled_dependency, 22, 35, Analgesic, {chunk -> 0, __trained__ -> Warfarina lusa, relation -> action, all_k_distances -> 0.0:::0.0, __distance_function__ -> levenshtein, confidence -> 0.66565, all_k_resolutions -> Analgesic:::Antipyretic, target_text -> Warfarina Lusa, ner_source -> ner_chunk, ops -> 0.0, all_relations -> Antipyretic, entity -> DRUG, resolved_text -> Analgesic, distance -> 0.07142857142857142, sentence -> 0, __relation_name__ -> action}, []}|\n|{labeled_dependency, 22, 35, diabetes, {chunk -> 0, __trained__ -> Warfarina lusa, relation -> treatment, all_k_distances -> 0.0:::0.0, __distance_function__ -> levenshtein, confidence -> 0.66565, all_k_resolutions -> diabetes:::t2dm, target_text -> Warfarina Lusa, ner_source -> ner_chunk, ops -> 0.0, all_relations -> t2dm, entity -> DRUG, resolved_text -> diabetes, distance -> 0.07142857142857142, sentence -> 0, __relation_name__ -> treatment}, []}           |\n|{labeled_dependency, 41, 50, NONE, {chunk -> 1, confidence -> 0.9999, target_text -> amlodipine, ner_source -> ner_chunk, entity -> DRUG, sentence -> 0}, []}                                                                                                                                                                                                                                                                                                                   |\n|{labeled_dependency, 80, 86, NONE, {chunk -> 2, confidence -> 0.9905, target_text -> Aspagin, ner_source -> ner_chunk, entity -> DRUG, sentence -> 0}, []}                                                                                                                                                                                                                                                                                                                      |\n|{labeled_dependency, 89, 96, NONE, {chunk -> 3, confidence -> 0.9997, target_text -> coumadin, ner_source -> ner_chunk, entity -> DRUG, sentence -> 0}, []}                                                                                                                                                                                                                                                                                                                     |\n|{labeled_dependency, 104, 111, NONE, {chunk -> 4, confidence -> 0.9994, target_text -> coumadin, ner_source -> ner_chunk, entity -> DRUG, sentence -> 0}, []}                                                                                                                                                                                                                                                                                                                   |\n|{labeled_dependency, 125, 134, NONE, {chunk -> 5, confidence -> 0.9989, target_text -> metamorfin, ner_source -> ner_chunk, entity -> DRUG, sentence -> 0}, []}                                                                                                                                                                                                                                                                                                                 |\n+--------------------------------------------------------------------------------------------------------------------------------------------------------------------------------------------------------------------------------------------------------------------------------------------------------------------------------------------------------------------------------------------------------------------------------------------------------------------------------+\n\n"
     ]
    }
   ],
   "source": [
    "chunkerMapper = medical.ChunkMapperApproach() \\\n",
    "        .setInputCols([\"ner_chunk\"]) \\\n",
    "        .setOutputCol(\"mappings\") \\\n",
    "        .setDictionary(\"file:/dbfs/mappings.json\") \\\n",
    "        .setLowerCase(True) \\\n",
    "        .setRels([\"action\", \"treatment\"]) \\\n",
    "        .setAllowMultiTokenChunk(True)\n",
    "\n",
    "pipeline = nlp.Pipeline().setStages([document_assembler,\n",
    "                                 sentence_detector,\n",
    "                                 tokenizer, \n",
    "                                 word_embeddings,\n",
    "                                 clinical_ner, \n",
    "                                 ner_converter, \n",
    "                                 chunkerMapper])\n",
    "\n",
    "\n",
    "result_df = pipeline.fit(test_data).transform(test_data)\n",
    "result_df.selectExpr(\"explode(mappings)\").show(truncate=False)"
   ]
  },
  {
   "cell_type": "markdown",
   "metadata": {
    "application/vnd.databricks.v1+cell": {
     "cellMetadata": {},
     "inputWidgets": {},
     "nuid": "12f700e0-5f85-498f-8677-85233942d6f5",
     "showTitle": false,
     "tableResultSettingsMap": {},
     "title": ""
    }
   },
   "source": [
    "### 2.5- Lexical Fuzzy Matching Options in the ChunkMapper annotator\n",
    "There are multiple options to achieve fuzzy matching using the ChunkMapper annotation:\n",
    "- Partial Token NGram Fingerprinting: Specially useful to combine two frequent usecases; when there are noisy non informative tokens at the beginning / end of the chunk and the order of the chunk is not absolutely relevant. i.e. stomach acute pain --> acute pain stomach ; metformin 100 mg --> metformin.\n",
    "- Char NGram Fingerprinting: Specially useful in usecases that involve typos or different spacing patterns for chunks. i.e. head ache / ache head --> headache ; metformini / metformoni / metformni --> metformin\n",
    "- Fuzzy Distance (Slow): Specially useful when the mapping can be defined in terms of edit distance thresholds using functions like char based like Levenshtein, Hamming, LongestCommonSubsequence or token based like Cosine, Jaccard.\n",
    "\n",
    "The mapping logic will be run in the previous order also ordering by longest key inside each option as an intuitive way to minimize false positives.\n",
    "\n",
    "For more information please visit the followng links:  \n",
    "https://en.wikipedia.org/wiki/Fingerprint_(computing)  \n",
    "https://openrefine.org/docs/technical-reference/clustering-in-depth  \n",
    "https://commons.apache.org/proper/commons-text/apidocs/org/apache/commons/text/similarity/package-summary.html"
   ]
  },
  {
   "cell_type": "code",
   "execution_count": 0,
   "metadata": {
    "application/vnd.databricks.v1+cell": {
     "cellMetadata": {
      "byteLimit": 2048000,
      "rowLimit": 10000
     },
     "inputWidgets": {},
     "nuid": "68cf8d90-db2b-4922-a09d-3bf01e00071d",
     "showTitle": false,
     "tableResultSettingsMap": {},
     "title": ""
    }
   },
   "outputs": [],
   "source": [
    "data_set_mappings = [\n",
    "        {\n",
    "            \"key\": \"Warfarina lusa\",\n",
    "            \"relations\": [\n",
    "                {\n",
    "                    \"key\": \"action\",\n",
    "                    \"values\": [\n",
    "                        \"Analgesic\",\n",
    "                        \"Antipyretic\"\n",
    "                    ]\n",
    "                },\n",
    "                {\n",
    "                    \"key\": \"treatment\",\n",
    "                    \"values\": [\n",
    "                        \"diabetes\",\n",
    "                        \"t2dm\"\n",
    "                    ]\n",
    "                }\n",
    "            ]\n",
    "        },\n",
    "        {\n",
    "            \"key\": \"amlodipine\",\n",
    "            \"relations\": [\n",
    "                {\n",
    "                    \"key\": \"action\",\n",
    "                    \"values\": [\n",
    "                        \"Calcium Ions Inhibitor\"\n",
    "                    ]\n",
    "                },\n",
    "                {\n",
    "                    \"key\": \"treatment\",\n",
    "                    \"values\": [\n",
    "                        \"hypertension\"\n",
    "                    ]\n",
    "                }\n",
    "            ]\n",
    "        },\n",
    "        {\n",
    "            \"key\": \"coumadin\",\n",
    "            \"relations\": [\n",
    "                {\n",
    "                    \"key\": \"action\",\n",
    "                    \"values\": [\n",
    "                        \"Coagulation Inhibitor\"\n",
    "                    ]\n",
    "                },\n",
    "                {\n",
    "                    \"key\": \"treatment\",\n",
    "                    \"values\": [\n",
    "                        \"hypertension\"\n",
    "                    ]\n",
    "                }\n",
    "            ]\n",
    "        },\n",
    "        {\n",
    "            \"key\": \"aspagin\",\n",
    "            \"relations\": [\n",
    "                {\n",
    "                    \"key\": \"action\",\n",
    "                    \"values\": [\n",
    "                        \"Cycooxygenase Inhibitor\"\n",
    "                    ]\n",
    "                },\n",
    "                {\n",
    "                    \"key\": \"treatment\",\n",
    "                    \"values\": [\n",
    "                        \"arthritis\"\n",
    "                    ]\n",
    "                }\n",
    "            ]\n",
    "        },\n",
    "        {\n",
    "            \"key\": \"metformin\",\n",
    "            \"relations\": [\n",
    "                {\n",
    "                  \"key\": \"action\",\n",
    "                  \"values\" : [\"hypoglycemic\", \"Drugs Used In Diabetes\"]\n",
    "                },\n",
    "                {\n",
    "                  \"key\": \"treatment\",\n",
    "                  \"values\" : [\"diabetes\", \"t2dm\"]\n",
    "                }\n",
    "            ]\n",
    "        }\n",
    "    ]"
   ]
  },
  {
   "cell_type": "markdown",
   "metadata": {
    "application/vnd.databricks.v1+cell": {
     "cellMetadata": {},
     "inputWidgets": {},
     "nuid": "68f72de1-9abb-49cb-81ad-59046d54f525",
     "showTitle": false,
     "tableResultSettingsMap": {},
     "title": ""
    }
   },
   "source": [
    "#### Different mapping sizes to test ChunkMappers sensitivity in terms of speed and efficiency"
   ]
  },
  {
   "cell_type": "code",
   "execution_count": 0,
   "metadata": {
    "application/vnd.databricks.v1+cell": {
     "cellMetadata": {
      "byteLimit": 2048000,
      "rowLimit": 10000
     },
     "inputWidgets": {},
     "nuid": "027fb07e-7123-43db-8205-0aa860e36cfd",
     "showTitle": false,
     "tableResultSettingsMap": {},
     "title": ""
    }
   },
   "outputs": [],
   "source": [
    "# Keys to test speed and efficiency\n",
    "extra_keys = {\n",
    "    \"s500\": [{\"key\": f\"short key {i}\", \"relations\": [\n",
    "                {\n",
    "                    \"key\": \"any\",\n",
    "                    \"values\": [\n",
    "                        \"anyvalue\",\n",
    "                        \"anyvalue\"\n",
    "                    ]\n",
    "                }]} for i in range(500)],\n",
    "    \"s5000\": [{\"key\": f\"short key {i}\", \"relations\": [\n",
    "                {\n",
    "                    \"key\": \"any\",\n",
    "                    \"values\": [\n",
    "                        \"anyvalue\",\n",
    "                        \"anyvalue\"\n",
    "                    ]\n",
    "                }]} for i in range(5000)],\n",
    "    \"l5000\": [{\"key\": f\"a bit longer key {i}\", \"relations\": [\n",
    "                {\n",
    "                    \"key\": \"any\",\n",
    "                    \"values\": [\n",
    "                        \"anyvalue\",\n",
    "                        \"anyvalue\"\n",
    "                    ]\n",
    "                }]} for i in range(5000)]\n",
    "}"
   ]
  },
  {
   "cell_type": "code",
   "execution_count": 0,
   "metadata": {
    "application/vnd.databricks.v1+cell": {
     "cellMetadata": {
      "byteLimit": 2048000,
      "rowLimit": 10000
     },
     "inputWidgets": {},
     "nuid": "ffb053bb-6f5a-451b-8546-e10676f27d73",
     "showTitle": false,
     "tableResultSettingsMap": {},
     "title": ""
    }
   },
   "outputs": [],
   "source": [
    "import json\n",
    "for c, extra_mappings in extra_keys.items():\n",
    "    with open(f'/dbfs/mappings_{c}.json', 'w', encoding='utf-8') as f:\n",
    "        json.dump({'mappings': data_set_mappings + extra_mappings}, f, ensure_ascii=False, indent=4)"
   ]
  },
  {
   "cell_type": "code",
   "execution_count": 0,
   "metadata": {
    "application/vnd.databricks.v1+cell": {
     "cellMetadata": {
      "byteLimit": 2048000,
      "rowLimit": 10000
     },
     "inputWidgets": {},
     "nuid": "c6a97408-c1b8-4db6-ae28-54d48cfc7dac",
     "showTitle": false,
     "tableResultSettingsMap": {},
     "title": ""
    }
   },
   "outputs": [],
   "source": [
    "sentences = [\n",
    "        [\"\"\"The patient was given Lusa Warfarina 5mg and amlodipine 10 MG.The patient was given Aspaginaspa, coumadin 5 mg, coumadin, and he has metamorfin\"\"\"]\n",
    "    ]\n",
    "\n",
    "test_data = spark.createDataFrame(sentences).toDF(\"text\")"
   ]
  },
  {
   "cell_type": "markdown",
   "metadata": {
    "application/vnd.databricks.v1+cell": {
     "cellMetadata": {},
     "inputWidgets": {},
     "nuid": "605e2890-c976-4c77-b342-d862743b04a6",
     "showTitle": false,
     "tableResultSettingsMap": {},
     "title": ""
    }
   },
   "source": [
    "#### Greedy Posology for longer and more illustrative chunks"
   ]
  },
  {
   "cell_type": "code",
   "execution_count": 0,
   "metadata": {
    "application/vnd.databricks.v1+cell": {
     "cellMetadata": {
      "byteLimit": 2048000,
      "rowLimit": 10000
     },
     "inputWidgets": {},
     "nuid": "a0cb9b0e-21d6-4b7d-acf1-94a0218cb7a8",
     "showTitle": false,
     "tableResultSettingsMap": {},
     "title": ""
    }
   },
   "outputs": [
    {
     "output_type": "stream",
     "name": "stdout",
     "output_type": "stream",
     "text": [
      "embeddings_clinical download started this may take some time.\nApproximate size to download 1.6 GB\n\r[ | ]\r[OK!]\n"
     ]
    }
   ],
   "source": [
    "document_assembler = nlp.DocumentAssembler()\\\n",
    "      .setInputCol('text')\\\n",
    "      .setOutputCol('document')\n",
    "\n",
    "sentence_detector = nlp.SentenceDetector()\\\n",
    "      .setInputCols([\"document\"])\\\n",
    "      .setOutputCol(\"sentence\")\n",
    "\n",
    "tokenizer = nlp.Tokenizer()\\\n",
    "      .setInputCols(\"sentence\")\\\n",
    "      .setOutputCol(\"token\")\n",
    "\n",
    "word_embeddings = nlp.WordEmbeddingsModel.pretrained(\"embeddings_clinical\", \"en\",\"clinical/models\")\\\n",
    "      .setInputCols([\"sentence\", \"token\"])\\\n",
    "      .setOutputCol(\"embeddings\")"
   ]
  },
  {
   "cell_type": "code",
   "execution_count": 0,
   "metadata": {
    "application/vnd.databricks.v1+cell": {
     "cellMetadata": {
      "byteLimit": 2048000,
      "rowLimit": 10000
     },
     "inputWidgets": {},
     "nuid": "9c6ac896-8313-4ebb-972b-d7b989b41e62",
     "showTitle": false,
     "tableResultSettingsMap": {},
     "title": ""
    }
   },
   "outputs": [
    {
     "output_type": "stream",
     "name": "stdout",
     "output_type": "stream",
     "text": [
      "ner_posology_greedy download started this may take some time.\nApproximate size to download 13.9 MB\n\r[ | ]\r[ / ]\r[ — ]\r[ \\ ]\r[ | ]\r[ / ]\r[ — ]\r[ \\ ]\r[ | ]\r[ / ]\r[OK!]\n+-----------------------------------------------------------------------------------------------------------------------------------+\n|chunk                                                                                                                              |\n+-----------------------------------------------------------------------------------------------------------------------------------+\n|{chunk, 22, 39, Lusa Warfarina 5mg, {entity -> DRUG, confidence -> 0.8111, ner_source -> ner_chunk, chunk -> 0, sentence -> 0}, []}|\n|{chunk, 45, 57, amlodipine 10, {entity -> DRUG, confidence -> 0.66709995, ner_source -> ner_chunk, chunk -> 1, sentence -> 0}, []} |\n|{chunk, 84, 94, Aspaginaspa, {entity -> DRUG, confidence -> 0.9827, ner_source -> ner_chunk, chunk -> 2, sentence -> 0}, []}       |\n|{chunk, 97, 109, coumadin 5 mg, {entity -> DRUG, confidence -> 0.7287, ner_source -> ner_chunk, chunk -> 3, sentence -> 0}, []}    |\n|{chunk, 112, 119, coumadin, {entity -> DRUG, confidence -> 0.9969, ner_source -> ner_chunk, chunk -> 4, sentence -> 0}, []}        |\n|{chunk, 133, 142, metamorfin, {entity -> DRUG, confidence -> 0.9666, ner_source -> ner_chunk, chunk -> 5, sentence -> 0}, []}      |\n+-----------------------------------------------------------------------------------------------------------------------------------+\n\n"
     ]
    }
   ],
   "source": [
    "#NER model to detect drug in the text\n",
    "clinical_ner = medical.NerModel.pretrained(\"ner_posology_greedy\",\"en\",\"clinical/models\")\\\n",
    "        .setInputCols([\"sentence\",\"token\",\"embeddings\"])\\\n",
    "        .setOutputCol(\"ner\")\\\n",
    "        .setLabelCasing(\"upper\")\n",
    "\n",
    "ner_converter = medical.NerConverterInternal()\\\n",
    "      .setInputCols(\"sentence\", \"token\", \"ner\")\\\n",
    "      .setOutputCol(\"ner_chunk\")\n",
    "\n",
    "pipeline = nlp.Pipeline().setStages([document_assembler,\n",
    "                                 sentence_detector,\n",
    "                                 tokenizer, \n",
    "                                 word_embeddings,\n",
    "                                 clinical_ner, \n",
    "                                 ner_converter])\n",
    "cached_df = pipeline.fit(test_data).transform(test_data).cache()\n",
    "cached_df.selectExpr(\"explode(ner_chunk) as chunk\").show(truncate=False)"
   ]
  },
  {
   "cell_type": "markdown",
   "metadata": {
    "application/vnd.databricks.v1+cell": {
     "cellMetadata": {},
     "inputWidgets": {},
     "nuid": "daadd93f-9d79-478c-b178-224e0ab378b6",
     "showTitle": false,
     "tableResultSettingsMap": {},
     "title": ""
    }
   },
   "source": [
    "#### Example with just token fingerprinting"
   ]
  },
  {
   "cell_type": "code",
   "execution_count": 0,
   "metadata": {
    "application/vnd.databricks.v1+cell": {
     "cellMetadata": {
      "byteLimit": 2048000,
      "rowLimit": 10000
     },
     "inputWidgets": {},
     "nuid": "500f683d-d5fd-48ea-b1ab-64cfeadd57a5",
     "showTitle": false,
     "tableResultSettingsMap": {},
     "title": ""
    }
   },
   "outputs": [
    {
     "output_type": "stream",
     "name": "stdout",
     "output_type": "stream",
     "text": [
      "+------------------------------------------------------------------------------------------------------------------------------------------------------------------------------------------------------------------------------------------------------------------------------------------------------------------------------------------------------------------------------------------------------------------------------------------------------------------------------------------------+\n|col                                                                                                                                                                                                                                                                                                                                                                                                                                                                                             |\n+------------------------------------------------------------------------------------------------------------------------------------------------------------------------------------------------------------------------------------------------------------------------------------------------------------------------------------------------------------------------------------------------------------------------------------------------------------------------------------------------+\n|{labeled_dependency, 22, 39, Analgesic, {chunk -> 0, __trained__ -> Warfarina lusa, relation -> action, all_k_distances -> 0.0:::0.0, confidence -> 0.8111, all_k_resolutions -> Analgesic:::Antipyretic, target_text -> Lusa Warfarina 5mg, ner_source -> ner_chunk, ops -> -1.0, all_relations -> Antipyretic, entity -> DRUG, resolved_text -> Analgesic, sentence -> 0, __relation_name__ -> action}, []}                                                                                   |\n|{labeled_dependency, 22, 39, diabetes, {chunk -> 0, __trained__ -> Warfarina lusa, relation -> treatment, all_k_distances -> 0.0:::0.0, confidence -> 0.8111, all_k_resolutions -> diabetes:::t2dm, target_text -> Lusa Warfarina 5mg, ner_source -> ner_chunk, ops -> -1.0, all_relations -> t2dm, entity -> DRUG, resolved_text -> diabetes, sentence -> 0, __relation_name__ -> treatment}, []}                                                                                              |\n|{labeled_dependency, 45, 57, Calcium Ions Inhibitor, {chunk -> 1, __trained__ -> amlodipine, relation -> action, all_k_distances -> 0.0:::0.0, __distance_function__ -> levenshtein, confidence -> 0.66709995, all_k_resolutions -> Calcium Ions Inhibitor:::, target_text -> amlodipine 10, ner_source -> ner_chunk, ops -> -1.0, all_relations -> , entity -> DRUG, resolved_text -> Calcium Ions Inhibitor, distance -> 0.23076923076923078, sentence -> 0, __relation_name__ -> action}, []}|\n|{labeled_dependency, 45, 57, hypertension, {chunk -> 1, __trained__ -> amlodipine, relation -> treatment, all_k_distances -> 0.0:::0.0, __distance_function__ -> levenshtein, confidence -> 0.66709995, all_k_resolutions -> hypertension:::, target_text -> amlodipine 10, ner_source -> ner_chunk, ops -> -1.0, all_relations -> , entity -> DRUG, resolved_text -> hypertension, distance -> 0.23076923076923078, sentence -> 0, __relation_name__ -> treatment}, []}                        |\n|{labeled_dependency, 84, 94, NONE, {chunk -> 2, confidence -> 0.9827, target_text -> Aspaginaspa, ner_source -> ner_chunk, entity -> DRUG, sentence -> 0}, []}                                                                                                                                                                                                                                                                                                                                  |\n|{labeled_dependency, 97, 109, Coagulation Inhibitor, {chunk -> 3, __trained__ -> coumadin, relation -> action, all_k_distances -> 0.0:::0.0, confidence -> 0.7287, all_k_resolutions -> Coagulation Inhibitor:::, target_text -> coumadin 5 mg, ner_source -> ner_chunk, ops -> -1.0, all_relations -> , entity -> DRUG, resolved_text -> Coagulation Inhibitor, sentence -> 0, __relation_name__ -> action}, []}                                                                               |\n|{labeled_dependency, 97, 109, hypertension, {chunk -> 3, __trained__ -> coumadin, relation -> treatment, all_k_distances -> 0.0:::0.0, confidence -> 0.7287, all_k_resolutions -> hypertension:::, target_text -> coumadin 5 mg, ner_source -> ner_chunk, ops -> -1.0, all_relations -> , entity -> DRUG, resolved_text -> hypertension, sentence -> 0, __relation_name__ -> treatment}, []}                                                                                                    |\n|{labeled_dependency, 112, 119, Coagulation Inhibitor, {chunk -> 4, __trained__ -> coumadin, relation -> action, all_k_distances -> 0.0:::0.0, __distance_function__ -> levenshtein, confidence -> 0.9969, all_k_resolutions -> Coagulation Inhibitor:::, target_text -> coumadin, ner_source -> ner_chunk, ops -> 0.0, all_relations -> , entity -> DRUG, resolved_text -> Coagulation Inhibitor, distance -> 0.0, sentence -> 0, __relation_name__ -> action}, []}                             |\n|{labeled_dependency, 112, 119, hypertension, {chunk -> 4, __trained__ -> coumadin, relation -> treatment, all_k_distances -> 0.0:::0.0, __distance_function__ -> levenshtein, confidence -> 0.9969, all_k_resolutions -> hypertension:::, target_text -> coumadin, ner_source -> ner_chunk, ops -> 0.0, all_relations -> , entity -> DRUG, resolved_text -> hypertension, distance -> 0.0, sentence -> 0, __relation_name__ -> treatment}, []}                                                  |\n|{labeled_dependency, 133, 142, NONE, {chunk -> 5, confidence -> 0.9666, target_text -> metamorfin, ner_source -> ner_chunk, entity -> DRUG, sentence -> 0}, []}                                                                                                                                                                                                                                                                                                                                 |\n+------------------------------------------------------------------------------------------------------------------------------------------------------------------------------------------------------------------------------------------------------------------------------------------------------------------------------------------------------------------------------------------------------------------------------------------------------------------------------------------------+\n\n"
     ]
    }
   ],
   "source": [
    "cm = medical.ChunkMapperApproach() \\\n",
    "        .setInputCols([\"ner_chunk\"]) \\\n",
    "        .setLowerCase(True) \\\n",
    "        .setRels([\"action\", \"treatment\"]) \\\n",
    "        .setAllowMultiTokenChunk(True) \\\n",
    "        .setEnableTokenFingerprintMatching(True) \\\n",
    "        .setMinTokenNgramFingerprint(1) \\\n",
    "        .setMaxTokenNgramFingerprint(3) \\\n",
    "        .setMaxTokenNgramDroppingCharsRatio(0.5)\n",
    "\n",
    "chunkerMappers = [\n",
    "    cm.copy().setOutputCol(f\"mappings_{c}\").setDictionary(f\"file:/dbfs/mappings_{c}.json\") \\\n",
    "    for c in extra_keys]\n",
    "\n",
    "result_df = nlp.Pipeline(stages=chunkerMappers).fit(cached_df).transform(cached_df)\n",
    "result_df.selectExpr(\"explode(mappings_s500)\").show(truncate=False)"
   ]
  },
  {
   "cell_type": "code",
   "execution_count": 0,
   "metadata": {
    "application/vnd.databricks.v1+cell": {
     "cellMetadata": {
      "byteLimit": 2048000,
      "rowLimit": 10000
     },
     "inputWidgets": {},
     "nuid": "e4a2bcb8-0e82-4473-8883-144a7d4b5714",
     "showTitle": false,
     "tableResultSettingsMap": {},
     "title": ""
    }
   },
   "outputs": [
    {
     "output_type": "stream",
     "name": "stdout",
     "output_type": "stream",
     "text": [
      "+----------------------+--------------+----------------------+---------+\n|ner_chunk             |fixed_chunk   |action_mapping_result |relation |\n+----------------------+--------------+----------------------+---------+\n|Analgesic             |Warfarina lusa|Analgesic             |action   |\n|diabetes              |Warfarina lusa|diabetes              |treatment|\n|Calcium Ions Inhibitor|amlodipine    |Calcium Ions Inhibitor|action   |\n|hypertension          |amlodipine    |hypertension          |treatment|\n|NONE                  |NULL          |NONE                  |NULL     |\n|Coagulation Inhibitor |coumadin      |Coagulation Inhibitor |action   |\n|hypertension          |coumadin      |hypertension          |treatment|\n|Coagulation Inhibitor |coumadin      |Coagulation Inhibitor |action   |\n|hypertension          |coumadin      |hypertension          |treatment|\n|NONE                  |NULL          |NONE                  |NULL     |\n+----------------------+--------------+----------------------+---------+\n\n"
     ]
    }
   ],
   "source": [
    "\n",
    "res_df = (\n",
    "    result_df\n",
    "    .select(\n",
    "        F.explode(\n",
    "            F.arrays_zip(\n",
    "                F.col(\"mappings_s500.result\").alias(\"ner_res\"),\n",
    "                F.col(\"mappings_s500.metadata\").alias(\"meta_res\")\n",
    "            )\n",
    "        ).alias(\"col\")\n",
    "    )\n",
    "    .select(\n",
    "        F.col(\"col.ner_res\").alias(\"ner_chunk\"),\n",
    "        F.col(\"col.meta_res.__trained__\").alias(\"fixed_chunk\"),\n",
    "        F.col(\"col.ner_res\").alias(\"action_mapping_result\"),\n",
    "        F.col(\"col.meta_res.relation\").alias(\"relation\")\n",
    "    )\n",
    ")\n",
    "\n",
    "res_df.show(truncate=False)\n"
   ]
  },
  {
   "cell_type": "code",
   "execution_count": 0,
   "metadata": {
    "application/vnd.databricks.v1+cell": {
     "cellMetadata": {
      "byteLimit": 2048000,
      "rowLimit": 10000
     },
     "inputWidgets": {},
     "nuid": "32edbd65-6a58-4c4b-8933-45f9607ea068",
     "showTitle": false,
     "tableResultSettingsMap": {},
     "title": ""
    }
   },
   "outputs": [
    {
     "output_type": "stream",
     "name": "stdout",
     "output_type": "stream",
     "text": [
      "6.89 s ± 1.95 s per loop (mean ± std. dev. of 7 runs, 1 loop each)\n"
     ]
    }
   ],
   "source": [
    "%%timeit\n",
    "result_df.selectExpr(\"explode(mappings_s500)\").write.mode(\"overwrite\").save(\"file:/dbfs/timing_test\")"
   ]
  },
  {
   "cell_type": "code",
   "execution_count": 0,
   "metadata": {
    "application/vnd.databricks.v1+cell": {
     "cellMetadata": {
      "byteLimit": 2048000,
      "rowLimit": 10000
     },
     "inputWidgets": {},
     "nuid": "01ab81b1-d59a-4cff-9232-28777e19226a",
     "showTitle": false,
     "tableResultSettingsMap": {},
     "title": ""
    }
   },
   "outputs": [
    {
     "output_type": "stream",
     "name": "stdout",
     "output_type": "stream",
     "text": [
      "3.44 s ± 332 ms per loop (mean ± std. dev. of 7 runs, 1 loop each)\n"
     ]
    }
   ],
   "source": [
    "%%timeit\n",
    "result_df.selectExpr(\"explode(mappings_s5000)\").write.mode(\"overwrite\").save(\"file:/dbfs/timing_test\")"
   ]
  },
  {
   "cell_type": "code",
   "execution_count": 0,
   "metadata": {
    "application/vnd.databricks.v1+cell": {
     "cellMetadata": {
      "byteLimit": 2048000,
      "rowLimit": 10000
     },
     "inputWidgets": {},
     "nuid": "6bda5b0b-5e7e-4ffb-b6ff-a0f3422167f2",
     "showTitle": false,
     "tableResultSettingsMap": {},
     "title": ""
    }
   },
   "outputs": [
    {
     "output_type": "stream",
     "name": "stdout",
     "output_type": "stream",
     "text": [
      "3.36 s ± 360 ms per loop (mean ± std. dev. of 7 runs, 1 loop each)\n"
     ]
    }
   ],
   "source": [
    "%%timeit\n",
    "result_df.selectExpr(\"explode(mappings_l5000)\").write.mode(\"overwrite\").save(\"file:/dbfs/timing_test\")"
   ]
  },
  {
   "cell_type": "markdown",
   "metadata": {
    "application/vnd.databricks.v1+cell": {
     "cellMetadata": {},
     "inputWidgets": {},
     "nuid": "fc3f39b6-e343-475e-85ad-c80ae56fb159",
     "showTitle": false,
     "tableResultSettingsMap": {},
     "title": ""
    }
   },
   "source": [
    "Can be seen that fingerprinting is pretty much insensitive to the mappings size"
   ]
  },
  {
   "cell_type": "markdown",
   "metadata": {
    "application/vnd.databricks.v1+cell": {
     "cellMetadata": {},
     "inputWidgets": {},
     "nuid": "9d967b2c-a147-4ab0-a8bb-4adef0e77c14",
     "showTitle": false,
     "tableResultSettingsMap": {},
     "title": ""
    }
   },
   "source": [
    "#### Example with token and char fingerprinting"
   ]
  },
  {
   "cell_type": "code",
   "execution_count": 0,
   "metadata": {
    "application/vnd.databricks.v1+cell": {
     "cellMetadata": {
      "byteLimit": 2048000,
      "rowLimit": 10000
     },
     "inputWidgets": {},
     "nuid": "352f3253-d9aa-4245-bcd1-6181e628b934",
     "showTitle": false,
     "tableResultSettingsMap": {},
     "title": ""
    }
   },
   "outputs": [
    {
     "output_type": "stream",
     "name": "stdout",
     "output_type": "stream",
     "text": [
      "+------------------------------------------------------------------------------------------------------------------------------------------------------------------------------------------------------------------------------------------------------------------------------------------------------------------------------------------------------------------------------------------------------------------------------------------------------------------------------------------------+\n|col                                                                                                                                                                                                                                                                                                                                                                                                                                                                                             |\n+------------------------------------------------------------------------------------------------------------------------------------------------------------------------------------------------------------------------------------------------------------------------------------------------------------------------------------------------------------------------------------------------------------------------------------------------------------------------------------------------+\n|{labeled_dependency, 22, 39, Analgesic, {chunk -> 0, __trained__ -> Warfarina lusa, relation -> action, all_k_distances -> 0.0:::0.0, confidence -> 0.8111, all_k_resolutions -> Analgesic:::Antipyretic, target_text -> Lusa Warfarina 5mg, ner_source -> ner_chunk, ops -> -1.0, all_relations -> Antipyretic, entity -> DRUG, resolved_text -> Analgesic, sentence -> 0, __relation_name__ -> action}, []}                                                                                   |\n|{labeled_dependency, 22, 39, diabetes, {chunk -> 0, __trained__ -> Warfarina lusa, relation -> treatment, all_k_distances -> 0.0:::0.0, confidence -> 0.8111, all_k_resolutions -> diabetes:::t2dm, target_text -> Lusa Warfarina 5mg, ner_source -> ner_chunk, ops -> -1.0, all_relations -> t2dm, entity -> DRUG, resolved_text -> diabetes, sentence -> 0, __relation_name__ -> treatment}, []}                                                                                              |\n|{labeled_dependency, 45, 57, Calcium Ions Inhibitor, {chunk -> 1, __trained__ -> amlodipine, relation -> action, all_k_distances -> 0.0:::0.0, __distance_function__ -> levenshtein, confidence -> 0.66709995, all_k_resolutions -> Calcium Ions Inhibitor:::, target_text -> amlodipine 10, ner_source -> ner_chunk, ops -> -1.0, all_relations -> , entity -> DRUG, resolved_text -> Calcium Ions Inhibitor, distance -> 0.23076923076923078, sentence -> 0, __relation_name__ -> action}, []}|\n|{labeled_dependency, 45, 57, hypertension, {chunk -> 1, __trained__ -> amlodipine, relation -> treatment, all_k_distances -> 0.0:::0.0, __distance_function__ -> levenshtein, confidence -> 0.66709995, all_k_resolutions -> hypertension:::, target_text -> amlodipine 10, ner_source -> ner_chunk, ops -> -1.0, all_relations -> , entity -> DRUG, resolved_text -> hypertension, distance -> 0.23076923076923078, sentence -> 0, __relation_name__ -> treatment}, []}                        |\n|{labeled_dependency, 84, 94, Cycooxygenase Inhibitor, {chunk -> 2, __trained__ -> aspagin, relation -> action, all_k_distances -> 0.0:::0.0, confidence -> 0.9827, all_k_resolutions -> Cycooxygenase Inhibitor:::, target_text -> Aspaginaspa, ner_source -> ner_chunk, ops -> 12.0, all_relations -> , entity -> DRUG, resolved_text -> Cycooxygenase Inhibitor, sentence -> 0, __relation_name__ -> action}, []}                                                                             |\n|{labeled_dependency, 84, 94, arthritis, {chunk -> 2, __trained__ -> aspagin, relation -> treatment, all_k_distances -> 0.0:::0.0, confidence -> 0.9827, all_k_resolutions -> arthritis:::, target_text -> Aspaginaspa, ner_source -> ner_chunk, ops -> 12.0, all_relations -> , entity -> DRUG, resolved_text -> arthritis, sentence -> 0, __relation_name__ -> treatment}, []}                                                                                                                 |\n|{labeled_dependency, 97, 109, Coagulation Inhibitor, {chunk -> 3, __trained__ -> coumadin, relation -> action, all_k_distances -> 0.0:::0.0, confidence -> 0.7287, all_k_resolutions -> Coagulation Inhibitor:::, target_text -> coumadin 5 mg, ner_source -> ner_chunk, ops -> -1.0, all_relations -> , entity -> DRUG, resolved_text -> Coagulation Inhibitor, sentence -> 0, __relation_name__ -> action}, []}                                                                               |\n|{labeled_dependency, 97, 109, hypertension, {chunk -> 3, __trained__ -> coumadin, relation -> treatment, all_k_distances -> 0.0:::0.0, confidence -> 0.7287, all_k_resolutions -> hypertension:::, target_text -> coumadin 5 mg, ner_source -> ner_chunk, ops -> -1.0, all_relations -> , entity -> DRUG, resolved_text -> hypertension, sentence -> 0, __relation_name__ -> treatment}, []}                                                                                                    |\n|{labeled_dependency, 112, 119, Coagulation Inhibitor, {chunk -> 4, __trained__ -> coumadin, relation -> action, all_k_distances -> 0.0:::0.0, __distance_function__ -> levenshtein, confidence -> 0.9969, all_k_resolutions -> Coagulation Inhibitor:::, target_text -> coumadin, ner_source -> ner_chunk, ops -> 0.0, all_relations -> , entity -> DRUG, resolved_text -> Coagulation Inhibitor, distance -> 0.0, sentence -> 0, __relation_name__ -> action}, []}                             |\n|{labeled_dependency, 112, 119, hypertension, {chunk -> 4, __trained__ -> coumadin, relation -> treatment, all_k_distances -> 0.0:::0.0, __distance_function__ -> levenshtein, confidence -> 0.9969, all_k_resolutions -> hypertension:::, target_text -> coumadin, ner_source -> ner_chunk, ops -> 0.0, all_relations -> , entity -> DRUG, resolved_text -> hypertension, distance -> 0.0, sentence -> 0, __relation_name__ -> treatment}, []}                                                  |\n|{labeled_dependency, 133, 142, NONE, {chunk -> 5, confidence -> 0.9666, target_text -> metamorfin, ner_source -> ner_chunk, entity -> DRUG, sentence -> 0}, []}                                                                                                                                                                                                                                                                                                                                 |\n+------------------------------------------------------------------------------------------------------------------------------------------------------------------------------------------------------------------------------------------------------------------------------------------------------------------------------------------------------------------------------------------------------------------------------------------------------------------------------------------------+\n\n"
     ]
    }
   ],
   "source": [
    "cm = medical.ChunkMapperApproach() \\\n",
    "        .setInputCols([\"ner_chunk\"]) \\\n",
    "        .setLowerCase(True) \\\n",
    "        .setRels([\"action\", \"treatment\"]) \\\n",
    "        .setAllowMultiTokenChunk(True) \\\n",
    "        .setEnableTokenFingerprintMatching(True) \\\n",
    "        .setMinTokenNgramFingerprint(1) \\\n",
    "        .setMaxTokenNgramFingerprint(3) \\\n",
    "        .setMaxTokenNgramDroppingCharsRatio(0.5) \\\n",
    "        .setEnableCharFingerprintMatching(True) \\\n",
    "        .setMinCharNgramFingerprint(1) \\\n",
    "        .setMaxCharNgramFingerprint(3)\n",
    "\n",
    "chunkerMappers = [\n",
    "    cm.copy().setOutputCol(f\"mappings_{c}\").setDictionary(f\"file:/dbfs/mappings_{c}.json\") \\\n",
    "    for c in extra_keys]\n",
    "\n",
    "result_df = nlp.Pipeline(stages=chunkerMappers).fit(cached_df).transform(cached_df)\n",
    "result_df.selectExpr(\"explode(mappings_s500)\").show(truncate=False)"
   ]
  },
  {
   "cell_type": "code",
   "execution_count": 0,
   "metadata": {
    "application/vnd.databricks.v1+cell": {
     "cellMetadata": {
      "byteLimit": 2048000,
      "rowLimit": 10000
     },
     "inputWidgets": {},
     "nuid": "ab7bbb89-2e26-47d0-99f7-0909e7d71133",
     "showTitle": false,
     "tableResultSettingsMap": {},
     "title": ""
    }
   },
   "outputs": [
    {
     "output_type": "stream",
     "name": "stdout",
     "output_type": "stream",
     "text": [
      "+-----------------------+--------------+-----------------------+---------+\n|ner_chunk              |fixed_chunk   |action_mapping_result  |relation |\n+-----------------------+--------------+-----------------------+---------+\n|Analgesic              |Warfarina lusa|Analgesic              |action   |\n|diabetes               |Warfarina lusa|diabetes               |treatment|\n|Calcium Ions Inhibitor |amlodipine    |Calcium Ions Inhibitor |action   |\n|hypertension           |amlodipine    |hypertension           |treatment|\n|Cycooxygenase Inhibitor|aspagin       |Cycooxygenase Inhibitor|action   |\n|arthritis              |aspagin       |arthritis              |treatment|\n|Coagulation Inhibitor  |coumadin      |Coagulation Inhibitor  |action   |\n|hypertension           |coumadin      |hypertension           |treatment|\n|Coagulation Inhibitor  |coumadin      |Coagulation Inhibitor  |action   |\n|hypertension           |coumadin      |hypertension           |treatment|\n|NONE                   |NULL          |NONE                   |NULL     |\n+-----------------------+--------------+-----------------------+---------+\n\n"
     ]
    }
   ],
   "source": [
    "\n",
    "res_df = (\n",
    "    result_df\n",
    "    .select(\n",
    "        F.explode(\n",
    "            F.arrays_zip(\n",
    "                F.col(\"mappings_s500.result\").alias(\"ner_res\"),\n",
    "                F.col(\"mappings_s500.metadata\").alias(\"meta_res\")\n",
    "            )\n",
    "        ).alias(\"col\")\n",
    "    )\n",
    "    .select(\n",
    "        F.col(\"col.ner_res\").alias(\"ner_chunk\"),\n",
    "        F.col(\"col.meta_res.__trained__\").alias(\"fixed_chunk\"),\n",
    "        F.col(\"col.ner_res\").alias(\"action_mapping_result\"),\n",
    "        F.col(\"col.meta_res.relation\").alias(\"relation\")\n",
    "    )\n",
    ")\n",
    "\n",
    "res_df.show(truncate=False)\n"
   ]
  },
  {
   "cell_type": "code",
   "execution_count": 0,
   "metadata": {
    "application/vnd.databricks.v1+cell": {
     "cellMetadata": {
      "byteLimit": 2048000,
      "rowLimit": 10000
     },
     "inputWidgets": {},
     "nuid": "98403b33-9f59-4f00-b199-bd21b85fd41d",
     "showTitle": false,
     "tableResultSettingsMap": {},
     "title": ""
    }
   },
   "outputs": [
    {
     "output_type": "stream",
     "name": "stdout",
     "output_type": "stream",
     "text": [
      "3.02 s ± 160 ms per loop (mean ± std. dev. of 7 runs, 1 loop each)\n"
     ]
    }
   ],
   "source": [
    "%%timeit\n",
    "result_df.selectExpr(\"explode(mappings_s500)\").write.mode(\"overwrite\").save(\"file:/dbfs/timing_test\")"
   ]
  },
  {
   "cell_type": "code",
   "execution_count": 0,
   "metadata": {
    "application/vnd.databricks.v1+cell": {
     "cellMetadata": {
      "byteLimit": 2048000,
      "rowLimit": 10000
     },
     "inputWidgets": {},
     "nuid": "150e950f-dd1c-44be-b1b1-c2686deaafbc",
     "showTitle": false,
     "tableResultSettingsMap": {},
     "title": ""
    }
   },
   "outputs": [
    {
     "output_type": "stream",
     "name": "stdout",
     "output_type": "stream",
     "text": [
      "3.44 s ± 538 ms per loop (mean ± std. dev. of 7 runs, 1 loop each)\n"
     ]
    }
   ],
   "source": [
    "%%timeit\n",
    "result_df.selectExpr(\"explode(mappings_s5000)\").write.mode(\"overwrite\").save(\"file:/dbfs/timing_test\")"
   ]
  },
  {
   "cell_type": "code",
   "execution_count": 0,
   "metadata": {
    "application/vnd.databricks.v1+cell": {
     "cellMetadata": {
      "byteLimit": 2048000,
      "rowLimit": 10000
     },
     "inputWidgets": {},
     "nuid": "1d5ae57f-40eb-445e-8775-9d21bc4efcbf",
     "showTitle": false,
     "tableResultSettingsMap": {},
     "title": ""
    }
   },
   "outputs": [
    {
     "output_type": "stream",
     "name": "stdout",
     "output_type": "stream",
     "text": [
      "3 s ± 422 ms per loop (mean ± std. dev. of 7 runs, 1 loop each)\n"
     ]
    }
   ],
   "source": [
    "%%timeit\n",
    "result_df.selectExpr(\"explode(mappings_l5000)\").write.mode(\"overwrite\").save(\"file:/dbfs/timing_test\")"
   ]
  },
  {
   "cell_type": "markdown",
   "metadata": {
    "application/vnd.databricks.v1+cell": {
     "cellMetadata": {},
     "inputWidgets": {},
     "nuid": "7ca09fb3-17b6-45ec-8633-d9a687cf257d",
     "showTitle": false,
     "tableResultSettingsMap": {},
     "title": ""
    }
   },
   "source": [
    "Can be seen that fingerprinting is pretty much insensitive to the mappings size"
   ]
  },
  {
   "cell_type": "markdown",
   "metadata": {
    "application/vnd.databricks.v1+cell": {
     "cellMetadata": {},
     "inputWidgets": {},
     "nuid": "fc71ea8a-a3a8-4413-aaad-334cc997b1e0",
     "showTitle": false,
     "tableResultSettingsMap": {},
     "title": ""
    }
   },
   "source": [
    "#### Example with token and char fingerprinting plus fuzzy distance calculation"
   ]
  },
  {
   "cell_type": "code",
   "execution_count": 0,
   "metadata": {
    "application/vnd.databricks.v1+cell": {
     "cellMetadata": {
      "byteLimit": 2048000,
      "rowLimit": 10000
     },
     "inputWidgets": {},
     "nuid": "7d4c5816-6f0a-4e7f-9c1b-a27287d12901",
     "showTitle": false,
     "tableResultSettingsMap": {},
     "title": ""
    }
   },
   "outputs": [
    {
     "output_type": "stream",
     "name": "stdout",
     "output_type": "stream",
     "text": [
      "+------------------------------------------------------------------------------------------------------------------------------------------------------------------------------------------------------------------------------------------------------------------------------------------------------------------------------------------------------------------------------------------------------------------------------------------------------------------------------------------------+\n|col                                                                                                                                                                                                                                                                                                                                                                                                                                                                                             |\n+------------------------------------------------------------------------------------------------------------------------------------------------------------------------------------------------------------------------------------------------------------------------------------------------------------------------------------------------------------------------------------------------------------------------------------------------------------------------------------------------+\n|{labeled_dependency, 22, 39, Analgesic, {chunk -> 0, __trained__ -> Warfarina lusa, relation -> action, all_k_distances -> 0.0:::0.0, confidence -> 0.8111, all_k_resolutions -> Analgesic:::Antipyretic, target_text -> Lusa Warfarina 5mg, ner_source -> ner_chunk, ops -> -1.0, all_relations -> Antipyretic, entity -> DRUG, resolved_text -> Analgesic, sentence -> 0, __relation_name__ -> action}, []}                                                                                   |\n|{labeled_dependency, 22, 39, diabetes, {chunk -> 0, __trained__ -> Warfarina lusa, relation -> treatment, all_k_distances -> 0.0:::0.0, confidence -> 0.8111, all_k_resolutions -> diabetes:::t2dm, target_text -> Lusa Warfarina 5mg, ner_source -> ner_chunk, ops -> -1.0, all_relations -> t2dm, entity -> DRUG, resolved_text -> diabetes, sentence -> 0, __relation_name__ -> treatment}, []}                                                                                              |\n|{labeled_dependency, 45, 57, Calcium Ions Inhibitor, {chunk -> 1, __trained__ -> amlodipine, relation -> action, all_k_distances -> 0.0:::0.0, __distance_function__ -> levenshtein, confidence -> 0.66709995, all_k_resolutions -> Calcium Ions Inhibitor:::, target_text -> amlodipine 10, ner_source -> ner_chunk, ops -> -1.0, all_relations -> , entity -> DRUG, resolved_text -> Calcium Ions Inhibitor, distance -> 0.23076923076923078, sentence -> 0, __relation_name__ -> action}, []}|\n|{labeled_dependency, 45, 57, hypertension, {chunk -> 1, __trained__ -> amlodipine, relation -> treatment, all_k_distances -> 0.0:::0.0, __distance_function__ -> levenshtein, confidence -> 0.66709995, all_k_resolutions -> hypertension:::, target_text -> amlodipine 10, ner_source -> ner_chunk, ops -> -1.0, all_relations -> , entity -> DRUG, resolved_text -> hypertension, distance -> 0.23076923076923078, sentence -> 0, __relation_name__ -> treatment}, []}                        |\n|{labeled_dependency, 84, 94, Cycooxygenase Inhibitor, {chunk -> 2, __trained__ -> aspagin, relation -> action, all_k_distances -> 0.0:::0.0, confidence -> 0.9827, all_k_resolutions -> Cycooxygenase Inhibitor:::, target_text -> Aspaginaspa, ner_source -> ner_chunk, ops -> 12.0, all_relations -> , entity -> DRUG, resolved_text -> Cycooxygenase Inhibitor, sentence -> 0, __relation_name__ -> action}, []}                                                                             |\n|{labeled_dependency, 84, 94, arthritis, {chunk -> 2, __trained__ -> aspagin, relation -> treatment, all_k_distances -> 0.0:::0.0, confidence -> 0.9827, all_k_resolutions -> arthritis:::, target_text -> Aspaginaspa, ner_source -> ner_chunk, ops -> 12.0, all_relations -> , entity -> DRUG, resolved_text -> arthritis, sentence -> 0, __relation_name__ -> treatment}, []}                                                                                                                 |\n|{labeled_dependency, 97, 109, Coagulation Inhibitor, {chunk -> 3, __trained__ -> coumadin, relation -> action, all_k_distances -> 0.0:::0.0, confidence -> 0.7287, all_k_resolutions -> Coagulation Inhibitor:::, target_text -> coumadin 5 mg, ner_source -> ner_chunk, ops -> -1.0, all_relations -> , entity -> DRUG, resolved_text -> Coagulation Inhibitor, sentence -> 0, __relation_name__ -> action}, []}                                                                               |\n|{labeled_dependency, 97, 109, hypertension, {chunk -> 3, __trained__ -> coumadin, relation -> treatment, all_k_distances -> 0.0:::0.0, confidence -> 0.7287, all_k_resolutions -> hypertension:::, target_text -> coumadin 5 mg, ner_source -> ner_chunk, ops -> -1.0, all_relations -> , entity -> DRUG, resolved_text -> hypertension, sentence -> 0, __relation_name__ -> treatment}, []}                                                                                                    |\n|{labeled_dependency, 112, 119, Coagulation Inhibitor, {chunk -> 4, __trained__ -> coumadin, relation -> action, all_k_distances -> 0.0:::0.0, __distance_function__ -> levenshtein, confidence -> 0.9969, all_k_resolutions -> Coagulation Inhibitor:::, target_text -> coumadin, ner_source -> ner_chunk, ops -> 0.0, all_relations -> , entity -> DRUG, resolved_text -> Coagulation Inhibitor, distance -> 0.0, sentence -> 0, __relation_name__ -> action}, []}                             |\n|{labeled_dependency, 112, 119, hypertension, {chunk -> 4, __trained__ -> coumadin, relation -> treatment, all_k_distances -> 0.0:::0.0, __distance_function__ -> levenshtein, confidence -> 0.9969, all_k_resolutions -> hypertension:::, target_text -> coumadin, ner_source -> ner_chunk, ops -> 0.0, all_relations -> , entity -> DRUG, resolved_text -> hypertension, distance -> 0.0, sentence -> 0, __relation_name__ -> treatment}, []}                                                  |\n|{labeled_dependency, 133, 142, hypoglycemic, {chunk -> 5, __trained__ -> metformin, relation -> action, all_k_distances -> 0.0:::0.0, __distance_function__ -> levenshtein, confidence -> 0.9666, all_k_resolutions -> hypoglycemic:::Drugs Used In Diabetes, target_text -> metamorfin, ner_source -> ner_chunk, ops -> 0.3, all_relations -> Drugs Used In Diabetes, entity -> DRUG, resolved_text -> hypoglycemic, sentence -> 0, __relation_name__ -> action}, []}                          |\n|{labeled_dependency, 133, 142, diabetes, {chunk -> 5, __trained__ -> metformin, relation -> treatment, all_k_distances -> 0.0:::0.0, __distance_function__ -> levenshtein, confidence -> 0.9666, all_k_resolutions -> diabetes:::t2dm, target_text -> metamorfin, ner_source -> ner_chunk, ops -> 0.3, all_relations -> t2dm, entity -> DRUG, resolved_text -> diabetes, sentence -> 0, __relation_name__ -> treatment}, []}                                                                    |\n+------------------------------------------------------------------------------------------------------------------------------------------------------------------------------------------------------------------------------------------------------------------------------------------------------------------------------------------------------------------------------------------------------------------------------------------------------------------------------------------------+\n\n"
     ]
    }
   ],
   "source": [
    "cm = medical.ChunkMapperApproach() \\\n",
    "        .setInputCols([\"ner_chunk\"]) \\\n",
    "        .setOutputCol(\"mappings\") \\\n",
    "        .setDictionary(\"file:/dbfs/mappings.json\") \\\n",
    "        .setLowerCase(True) \\\n",
    "        .setRels([\"action\", \"treatment\"]) \\\n",
    "        .setAllowMultiTokenChunk(True) \\\n",
    "        .setEnableTokenFingerprintMatching(True) \\\n",
    "        .setMinTokenNgramFingerprint(1) \\\n",
    "        .setMaxTokenNgramFingerprint(3) \\\n",
    "        .setMaxTokenNgramDroppingCharsRatio(0.5) \\\n",
    "        .setEnableCharFingerprintMatching(True) \\\n",
    "        .setMinCharNgramFingerprint(1) \\\n",
    "        .setMaxCharNgramFingerprint(3) \\\n",
    "        .setEnableFuzzyMatching(True) \\\n",
    "        .setFuzzyMatchingDistanceThresholds(0.31)\n",
    "\n",
    "chunkerMappers = [\n",
    "    cm.copy().setOutputCol(f\"mappings_{c}\").setDictionary(f\"file:/dbfs/mappings_{c}.json\") \\\n",
    "    for c in extra_keys]\n",
    "\n",
    "result_df = nlp.Pipeline(stages=chunkerMappers).fit(cached_df).transform(cached_df)\n",
    "result_df.selectExpr(\"explode(mappings_s500)\").show(truncate=False)"
   ]
  },
  {
   "cell_type": "code",
   "execution_count": 0,
   "metadata": {
    "application/vnd.databricks.v1+cell": {
     "cellMetadata": {
      "byteLimit": 2048000,
      "rowLimit": 10000
     },
     "inputWidgets": {},
     "nuid": "f4d8aece-5ee6-498b-ac90-97b46b85a224",
     "showTitle": false,
     "tableResultSettingsMap": {},
     "title": ""
    }
   },
   "outputs": [
    {
     "output_type": "stream",
     "name": "stdout",
     "output_type": "stream",
     "text": [
      "+-----------------------+--------------+-----------------------+---------+\n|ner_chunk              |fixed_chunk   |action_mapping_result  |relation |\n+-----------------------+--------------+-----------------------+---------+\n|Analgesic              |Warfarina lusa|Analgesic              |action   |\n|diabetes               |Warfarina lusa|diabetes               |treatment|\n|Calcium Ions Inhibitor |amlodipine    |Calcium Ions Inhibitor |action   |\n|hypertension           |amlodipine    |hypertension           |treatment|\n|Cycooxygenase Inhibitor|aspagin       |Cycooxygenase Inhibitor|action   |\n|arthritis              |aspagin       |arthritis              |treatment|\n|Coagulation Inhibitor  |coumadin      |Coagulation Inhibitor  |action   |\n|hypertension           |coumadin      |hypertension           |treatment|\n|Coagulation Inhibitor  |coumadin      |Coagulation Inhibitor  |action   |\n|hypertension           |coumadin      |hypertension           |treatment|\n|hypoglycemic           |metformin     |hypoglycemic           |action   |\n|diabetes               |metformin     |diabetes               |treatment|\n+-----------------------+--------------+-----------------------+---------+\n\n"
     ]
    }
   ],
   "source": [
    "\n",
    "res_df = (\n",
    "    result_df\n",
    "    .select(\n",
    "        F.explode(\n",
    "            F.arrays_zip(\n",
    "                F.col(\"mappings_s500.result\").alias(\"ner_res\"),\n",
    "                F.col(\"mappings_s500.metadata\").alias(\"meta_res\")\n",
    "            )\n",
    "        ).alias(\"col\")\n",
    "    )\n",
    "    .select(\n",
    "        F.col(\"col.ner_res\").alias(\"ner_chunk\"),\n",
    "        F.col(\"col.meta_res.__trained__\").alias(\"fixed_chunk\"),\n",
    "        F.col(\"col.ner_res\").alias(\"action_mapping_result\"),\n",
    "        F.col(\"col.meta_res.relation\").alias(\"relation\")\n",
    "    )\n",
    ")\n",
    "\n",
    "res_df.show(truncate=False)\n"
   ]
  },
  {
   "cell_type": "code",
   "execution_count": 0,
   "metadata": {
    "application/vnd.databricks.v1+cell": {
     "cellMetadata": {
      "byteLimit": 2048000,
      "rowLimit": 10000
     },
     "inputWidgets": {},
     "nuid": "2c874ff0-0bba-4634-8a38-fca4c420952c",
     "showTitle": false,
     "tableResultSettingsMap": {},
     "title": ""
    }
   },
   "outputs": [
    {
     "output_type": "stream",
     "name": "stdout",
     "output_type": "stream",
     "text": [
      "The slowest run took 4.49 times longer than the fastest. This could mean that an intermediate result is being cached.\n4.47 s ± 3.19 s per loop (mean ± std. dev. of 7 runs, 1 loop each)\n"
     ]
    }
   ],
   "source": [
    "%%timeit\n",
    "result_df.selectExpr(\"explode(mappings_s500)\").write.mode(\"overwrite\").save(\"file:/dbfs/timing_test\")"
   ]
  },
  {
   "cell_type": "code",
   "execution_count": 0,
   "metadata": {
    "application/vnd.databricks.v1+cell": {
     "cellMetadata": {
      "byteLimit": 2048000,
      "rowLimit": 10000
     },
     "inputWidgets": {},
     "nuid": "895e5953-27e0-4cb7-a8f5-641f3028dfe2",
     "showTitle": false,
     "tableResultSettingsMap": {},
     "title": ""
    }
   },
   "outputs": [
    {
     "output_type": "stream",
     "name": "stdout",
     "output_type": "stream",
     "text": [
      "3.44 s ± 275 ms per loop (mean ± std. dev. of 7 runs, 1 loop each)\n"
     ]
    }
   ],
   "source": [
    "%%timeit\n",
    "result_df.selectExpr(\"explode(mappings_s5000)\").write.mode(\"overwrite\").save(\"file:/dbfs/timing_test\")"
   ]
  },
  {
   "cell_type": "code",
   "execution_count": 0,
   "metadata": {
    "application/vnd.databricks.v1+cell": {
     "cellMetadata": {
      "byteLimit": 2048000,
      "rowLimit": 10000
     },
     "inputWidgets": {},
     "nuid": "4375f163-f1b5-43de-af74-136cf64ab543",
     "showTitle": false,
     "tableResultSettingsMap": {},
     "title": ""
    }
   },
   "outputs": [
    {
     "output_type": "stream",
     "name": "stdout",
     "output_type": "stream",
     "text": [
      "4.08 s ± 362 ms per loop (mean ± std. dev. of 7 runs, 1 loop each)\n"
     ]
    }
   ],
   "source": [
    "%%timeit\n",
    "result_df.selectExpr(\"explode(mappings_l5000)\").write.mode(\"overwrite\").save(\"file:/dbfs/timing_test\")"
   ]
  },
  {
   "cell_type": "markdown",
   "metadata": {
    "application/vnd.databricks.v1+cell": {
     "cellMetadata": {},
     "inputWidgets": {},
     "nuid": "3c679c93-90f6-419b-8212-02e68283b4a3",
     "showTitle": false,
     "tableResultSettingsMap": {},
     "title": ""
    }
   },
   "source": [
    "Can be seen that distance functions are really affected by the mappings size"
   ]
  },
  {
   "cell_type": "markdown",
   "metadata": {
    "application/vnd.databricks.v1+cell": {
     "cellMetadata": {},
     "inputWidgets": {},
     "nuid": "8fc6c70e-6c0a-4188-a5ec-fede01b682db",
     "showTitle": false,
     "tableResultSettingsMap": {},
     "title": ""
    }
   },
   "source": [
    "#### Example with fuzzy distance calculation using a pretrained model"
   ]
  },
  {
   "cell_type": "code",
   "execution_count": 0,
   "metadata": {
    "application/vnd.databricks.v1+cell": {
     "cellMetadata": {
      "byteLimit": 2048000,
      "rowLimit": 10000
     },
     "inputWidgets": {},
     "nuid": "53261b8e-8fff-4a13-bd82-596f07bef2ee",
     "showTitle": false,
     "tableResultSettingsMap": {},
     "title": ""
    }
   },
   "outputs": [
    {
     "output_type": "stream",
     "name": "stdout",
     "output_type": "stream",
     "text": [
      "drug_action_treatment_mapper download started this may take some time.\nApproximate size to download 9.6 MB\n\r[ | ]\r[OK!]\n+------------------------------------------------------------------------------------------------------------------------------------------------------------------------------------------------------------------------------------------------------------------------------------------------------------------------------------------------------------------------------------------------------------------------------------------------------------------------------------------------------------------------------------------------------------------------------------------------------------------------------------------------------------------------------------------------------------------------------------------------------+\n|col                                                                                                                                                                                                                                                                                                                                                                                                                                                                                                                                                                                                                                                                                                                                                   |\n+------------------------------------------------------------------------------------------------------------------------------------------------------------------------------------------------------------------------------------------------------------------------------------------------------------------------------------------------------------------------------------------------------------------------------------------------------------------------------------------------------------------------------------------------------------------------------------------------------------------------------------------------------------------------------------------------------------------------------------------------------+\n|{labeled_dependency, 22, 39, Lipid Modifying Agents, {chunk -> 0, __trained__ -> pravastatina fg, relation -> action, all_k_distances -> 0.0:::0.0, __distance_function__ -> levenshtein, confidence -> 0.8111, all_k_resolutions -> Lipid Modifying Agents:::, target_text -> Lusa Warfarina 5mg, ner_source -> ner_chunk, ops -> 0.5555555555555556, all_relations -> , entity -> DRUG, resolved_text -> Lipid Modifying Agents, sentence -> 0, __relation_name__ -> action}, []}                                                                                                                                                                                                                                                                   |\n|{labeled_dependency, 22, 39, Anticoagulant, {chunk -> 0, __trained__ -> warfarin pmcs, relation -> action, all_k_distances -> 0.0:::0.0, __distance_function__ -> levenshtein, confidence -> 0.8111, all_k_resolutions -> Anticoagulant:::, target_text -> Lusa Warfarina 5mg, ner_source -> ner_chunk, ops -> 0.5, all_relations -> , entity -> DRUG, resolved_text -> Anticoagulant, sentence -> 0, __relation_name__ -> action}, []}                                                                                                                                                                                                                                                                                                               |\n|{labeled_dependency, 22, 39, Anticoagulant, {chunk -> 0, __trained__ -> warfarina mk, relation -> action, all_k_distances -> 0.0:::0.0, __distance_function__ -> levenshtein, confidence -> 0.8111, all_k_resolutions -> Anticoagulant:::, target_text -> Lusa Warfarina 5mg, ner_source -> ner_chunk, ops -> 0.3888888888888889, all_relations -> , entity -> DRUG, resolved_text -> Anticoagulant, sentence -> 0, __relation_name__ -> action}, []}                                                                                                                                                                                                                                                                                                 |\n|{labeled_dependency, 45, 57, Antianginal, {chunk -> 1, __trained__ -> boie amlodipine besilate, relation -> action, all_k_distances -> 0.0:::0.0, __distance_function__ -> levenshtein, confidence -> 0.66709995, all_k_resolutions -> Antianginal:::Antihypertensive:::Antispasmodic:::Hypotensive:::Vasodilator, target_text -> amlodipine 10, ner_source -> ner_chunk, ops -> 0.5416666666666666, all_relations -> Antihypertensive:::Antispasmodic:::Hypotensive:::Vasodilator, entity -> DRUG, resolved_text -> Antianginal, sentence -> 0, __relation_name__ -> action}, []}                                                                                                                                                                    |\n|{labeled_dependency, 45, 57, Antitumour, {chunk -> 1, __trained__ -> azathioprine eg, relation -> action, all_k_distances -> 0.0:::0.0, __distance_function__ -> levenshtein, confidence -> 0.66709995, all_k_resolutions -> Antitumour:::Cytostatic:::Immunosuppressive, target_text -> amlodipine 10, ner_source -> ner_chunk, ops -> 0.5333333333333333, all_relations -> Cytostatic:::Immunosuppressive, entity -> DRUG, resolved_text -> Antitumour, sentence -> 0, __relation_name__ -> action}, []}                                                                                                                                                                                                                                            |\n|{labeled_dependency, 45, 57, Antianginal, {chunk -> 1, __trained__ -> pharex amlodipine besylate, relation -> action, all_k_distances -> 0.0:::0.0, __distance_function__ -> levenshtein, confidence -> 0.66709995, all_k_resolutions -> Antianginal:::Antihypertensive:::Antispasmodic:::Hypotensive:::Vasodilator, target_text -> amlodipine 10, ner_source -> ner_chunk, ops -> 0.5769230769230769, all_relations -> Antihypertensive:::Antispasmodic:::Hypotensive:::Vasodilator, entity -> DRUG, resolved_text -> Antianginal, sentence -> 0, __relation_name__ -> action}, []}                                                                                                                                                                  |\n|{labeled_dependency, 45, 57, Antianginal, {chunk -> 1, __trained__ -> temax (amlodipine), relation -> action, all_k_distances -> 0.0:::0.0, __distance_function__ -> levenshtein, confidence -> 0.66709995, all_k_resolutions -> Antianginal:::Antihypertensive:::Antispasmodic:::Hypotensive:::Vasodilator, target_text -> amlodipine 10, ner_source -> ner_chunk, ops -> 0.5555555555555556, all_relations -> Antihypertensive:::Antispasmodic:::Hypotensive:::Vasodilator, entity -> DRUG, resolved_text -> Antianginal, sentence -> 0, __relation_name__ -> action}, []}                                                                                                                                                                          |\n|{labeled_dependency, 45, 57, Angioprotective, {chunk -> 1, __trained__ -> bilobil intense 120, relation -> action, all_k_distances -> 0.0:::0.0, __distance_function__ -> levenshtein, confidence -> 0.66709995, all_k_resolutions -> Angioprotective:::Antihypoxic:::Antioxidant:::Improving Cerebral And Peripheral Circulation:::Microcirculatory Improver:::Neurometabolic:::Nootropic, target_text -> amlodipine 10, ner_source -> ner_chunk, ops -> 0.5263157894736842, all_relations -> Antihypoxic:::Antioxidant:::Improving Cerebral And Peripheral Circulation:::Microcirculatory Improver:::Neurometabolic:::Nootropic, entity -> DRUG, resolved_text -> Angioprotective, sentence -> 0, __relation_name__ -> action}, []}                 |\n|{labeled_dependency, 45, 57, Antianginal, {chunk -> 1, __trained__ -> felodipin hf retard, relation -> action, all_k_distances -> 0.0:::0.0, __distance_function__ -> levenshtein, confidence -> 0.66709995, all_k_resolutions -> Antianginal:::Antihypertensive:::Calcium Channel Blocking:::Hypotensive, target_text -> amlodipine 10, ner_source -> ner_chunk, ops -> 0.5789473684210527, all_relations -> Antihypertensive:::Calcium Channel Blocking:::Hypotensive, entity -> DRUG, resolved_text -> Antianginal, sentence -> 0, __relation_name__ -> action}, []}                                                                                                                                                                               |\n|{labeled_dependency, 45, 57, Arteriodilating, {chunk -> 1, __trained__ -> nimodipina mepha, relation -> action, all_k_distances -> 0.0:::0.0, __distance_function__ -> levenshtein, confidence -> 0.66709995, all_k_resolutions -> Arteriodilating:::Neuroprotective:::Nootropic:::Vasodilator, target_text -> amlodipine 10, ner_source -> ner_chunk, ops -> 0.5625, all_relations -> Neuroprotective:::Nootropic:::Vasodilator, entity -> DRUG, resolved_text -> Arteriodilating, sentence -> 0, __relation_name__ -> action}, []}                                                                                                                                                                                                                  |\n|{labeled_dependency, 45, 57, Alpha-Adrenergic Blocking, {chunk -> 1, __trained__ -> tamsulosine eg lp, relation -> action, all_k_distances -> 0.0:::0.0, __distance_function__ -> levenshtein, confidence -> 0.66709995, all_k_resolutions -> Alpha-Adrenergic Blocking:::Alpha-Adrenolytic:::Antidisuric:::Normalizing The Function Of The Prostate:::Urologicals, target_text -> amlodipine 10, ner_source -> ner_chunk, ops -> 0.5882352941176471, all_relations -> Alpha-Adrenolytic:::Antidisuric:::Normalizing The Function Of The Prostate:::Urologicals, entity -> DRUG, resolved_text -> Alpha-Adrenergic Blocking, sentence -> 0, __relation_name__ -> action}, []}                                                                         |\n|{labeled_dependency, 45, 57, Agents Acting In The Renin-Angiotensin System, {chunk -> 1, __trained__ -> perindopril/amlodipine krka, relation -> action, all_k_distances -> 0.0:::0.0, __distance_function__ -> levenshtein, confidence -> 0.66709995, all_k_resolutions -> Agents Acting In The Renin-Angiotensin System:::Antihypertensive, target_text -> amlodipine 10, ner_source -> ner_chunk, ops -> 0.5925925925925926, all_relations -> Antihypertensive, entity -> DRUG, resolved_text -> Agents Acting In The Renin-Angiotensin System, sentence -> 0, __relation_name__ -> action}, []}                                                                                                                                                   |\n|{labeled_dependency, 45, 57, Antianginal, {chunk -> 1, __trained__ -> felodipin - 1 a pharma, relation -> action, all_k_distances -> 0.0:::0.0, __distance_function__ -> levenshtein, confidence -> 0.66709995, all_k_resolutions -> Antianginal:::Antihypertensive:::Calcium Channel Blocking:::Hypotensive, target_text -> amlodipine 10, ner_source -> ner_chunk, ops -> 0.5909090909090909, all_relations -> Antihypertensive:::Calcium Channel Blocking:::Hypotensive, entity -> DRUG, resolved_text -> Antianginal, sentence -> 0, __relation_name__ -> action}, []}                                                                                                                                                                            |\n|{labeled_dependency, 45, 57, Antifungal Broad Spectrum, {chunk -> 1, __trained__ -> sporiline 1%, relation -> action, all_k_distances -> 0.0:::0.0, __distance_function__ -> levenshtein, confidence -> 0.66709995, all_k_resolutions -> Antifungal Broad Spectrum:::, target_text -> amlodipine 10, ner_source -> ner_chunk, ops -> 0.46153846153846156, all_relations -> , entity -> DRUG, resolved_text -> Antifungal Broad Spectrum, sentence -> 0, __relation_name__ -> action}, []}                                                                                                                                                                                                                                                             |\n|{labeled_dependency, 45, 57, Antiulcer, {chunk -> 1, __trained__ -> famotidine 10% ohara, relation -> action, all_k_distances -> 0.0:::0.0, __distance_function__ -> levenshtein, confidence -> 0.66709995, all_k_resolutions -> Antiulcer:::Blocking Histamine H2-Receptors:::Drugs For Acid Related Disorders:::Gastric Acid Secretion Inhibitor:::Oppressive Secretion Of The Gastrointestinal Tract, target_text -> amlodipine 10, ner_source -> ner_chunk, ops -> 0.55, all_relations -> Blocking Histamine H2-Receptors:::Drugs For Acid Related Disorders:::Gastric Acid Secretion Inhibitor:::Oppressive Secretion Of The Gastrointestinal Tract, entity -> DRUG, resolved_text -> Antiulcer, sentence -> 0, __relation_name__ -> action}, []}|\n|{labeled_dependency, 45, 57, Antiglaucomatous, {chunk -> 1, __trained__ -> adsorbocarpine 1%, relation -> action, all_k_distances -> 0.0:::0.0, __distance_function__ -> levenshtein, confidence -> 0.66709995, all_k_resolutions -> Antiglaucomatous:::Dental Agent:::Direct Acting Miotic:::M-Cholinomimetic:::Other Nervous System Drugs, target_text -> amlodipine 10, ner_source -> ner_chunk, ops -> 0.5294117647058824, all_relations -> Dental Agent:::Direct Acting Miotic:::M-Cholinomimetic:::Other Nervous System Drugs, entity -> DRUG, resolved_text -> Antiglaucomatous, sentence -> 0, __relation_name__ -> action}, []}                                                                                                              |\n|{labeled_dependency, 45, 57, Antianginal, {chunk -> 1, __trained__ -> felodipin-mepha, relation -> action, all_k_distances -> 0.0:::0.0, __distance_function__ -> levenshtein, confidence -> 0.66709995, all_k_resolutions -> Antianginal:::Antihypertensive:::Calcium Channel Blocking:::Hypotensive, target_text -> amlodipine 10, ner_source -> ner_chunk, ops -> 0.4666666666666667, all_relations -> Antihypertensive:::Calcium Channel Blocking:::Hypotensive, entity -> DRUG, resolved_text -> Antianginal, sentence -> 0, __relation_name__ -> action}, []}                                                                                                                                                                                   |\n|{labeled_dependency, 45, 57, Antianginal, {chunk -> 1, __trained__ -> adipine xl, relation -> action, all_k_distances -> 0.0:::0.0, __distance_function__ -> levenshtein, confidence -> 0.66709995, all_k_resolutions -> Antianginal:::Antihypertensive:::Arteriodilating:::Calcium Channel Blocking:::Coronary Deglutating:::Hypotensive:::Vasodilator, target_text -> amlodipine 10, ner_source -> ner_chunk, ops -> 0.38461538461538464, all_relations -> Antihypertensive:::Arteriodilating:::Calcium Channel Blocking:::Coronary Deglutating:::Hypotensive:::Vasodilator, entity -> DRUG, resolved_text -> Antianginal, sentence -> 0, __relation_name__ -> action}, []}                                                                         |\n|{labeled_dependency, 45, 57, Antibacterials For Systemic Use, {chunk -> 1, __trained__ -> ofloxacine cf, relation -> action, all_k_distances -> 0.0:::0.0, __distance_function__ -> levenshtein, confidence -> 0.66709995, all_k_resolutions -> Antibacterials For Systemic Use:::Bactericidal:::Ophthalmologicals, target_text -> amlodipine 10, ner_source -> ner_chunk, ops -> 0.5384615384615384, all_relations -> Bactericidal:::Ophthalmologicals, entity -> DRUG, resolved_text -> Antibacterials For Systemic Use, sentence -> 0, __relation_name__ -> action}, []}                                                                                                                                                                           |\n|{labeled_dependency, 84, 94, Anticoagulant, {chunk -> 2, __trained__ -> heparina sodica, relation -> action, all_k_distances -> 0.0:::0.0, __distance_function__ -> levenshtein, confidence -> 0.9827, all_k_resolutions -> Anticoagulant:::Anti-Inflammatory:::Antiproliferative:::Antithrombotic:::Decongestant:::Fibrinolytic:::Local Anesthetic:::Vasoprotective, target_text -> Aspaginaspa, ner_source -> ner_chunk, ops -> 0.5333333333333333, all_relations -> Anti-Inflammatory:::Antiproliferative:::Antithrombotic:::Decongestant:::Fibrinolytic:::Local Anesthetic:::Vasoprotective, entity -> DRUG, resolved_text -> Anticoagulant, sentence -> 0, __relation_name__ -> action}, []}                                                     |\n+------------------------------------------------------------------------------------------------------------------------------------------------------------------------------------------------------------------------------------------------------------------------------------------------------------------------------------------------------------------------------------------------------------------------------------------------------------------------------------------------------------------------------------------------------------------------------------------------------------------------------------------------------------------------------------------------------------------------------------------------------+\nonly showing top 20 rows\n\n"
     ]
    }
   ],
   "source": [
    "chunkerMapper_action = medical.ChunkMapperModel.pretrained(\"drug_action_treatment_mapper\", \"en\", \"clinical/models\")\\\n",
    "    .setInputCols([\"ner_chunk\"])\\\n",
    "    .setOutputCol(\"Action\")\\\n",
    "    .setRels([\"action\"]) \\\n",
    "    .setAllowMultiTokenChunk(True) \\\n",
    "    .setEnableFuzzyMatching(True) \\\n",
    "    .setFuzzyMatchingDistanceThresholds(0.6)\n",
    "\n",
    "\n",
    "result_df = chunkerMapper_action.transform(cached_df)\n",
    "result_df.selectExpr(\"explode(Action)\").show(truncate=False)"
   ]
  },
  {
   "cell_type": "code",
   "execution_count": 0,
   "metadata": {
    "application/vnd.databricks.v1+cell": {
     "cellMetadata": {
      "byteLimit": 2048000,
      "rowLimit": 10000
     },
     "inputWidgets": {},
     "nuid": "c890f38c-8980-41b9-a263-e68a8c32f943",
     "showTitle": false,
     "tableResultSettingsMap": {},
     "title": ""
    }
   },
   "outputs": [
    {
     "output_type": "stream",
     "name": "stdout",
     "output_type": "stream",
     "text": [
      "+---------------------------------------------+---------------------------+---------------------------------------------+--------+\n|ner_chunk                                    |fixed_chunk                |action_mapping_result                        |relation|\n+---------------------------------------------+---------------------------+---------------------------------------------+--------+\n|Lipid Modifying Agents                       |pravastatina fg            |Lipid Modifying Agents                       |action  |\n|Anticoagulant                                |warfarin pmcs              |Anticoagulant                                |action  |\n|Anticoagulant                                |warfarina mk               |Anticoagulant                                |action  |\n|Antianginal                                  |boie amlodipine besilate   |Antianginal                                  |action  |\n|Antitumour                                   |azathioprine eg            |Antitumour                                   |action  |\n|Antianginal                                  |pharex amlodipine besylate |Antianginal                                  |action  |\n|Antianginal                                  |temax (amlodipine)         |Antianginal                                  |action  |\n|Angioprotective                              |bilobil intense 120        |Angioprotective                              |action  |\n|Antianginal                                  |felodipin hf retard        |Antianginal                                  |action  |\n|Arteriodilating                              |nimodipina mepha           |Arteriodilating                              |action  |\n|Alpha-Adrenergic Blocking                    |tamsulosine eg lp          |Alpha-Adrenergic Blocking                    |action  |\n|Agents Acting In The Renin-Angiotensin System|perindopril/amlodipine krka|Agents Acting In The Renin-Angiotensin System|action  |\n|Antianginal                                  |felodipin - 1 a pharma     |Antianginal                                  |action  |\n|Antifungal Broad Spectrum                    |sporiline 1%               |Antifungal Broad Spectrum                    |action  |\n|Antiulcer                                    |famotidine 10% ohara       |Antiulcer                                    |action  |\n|Antiglaucomatous                             |adsorbocarpine 1%          |Antiglaucomatous                             |action  |\n|Antianginal                                  |felodipin-mepha            |Antianginal                                  |action  |\n|Antianginal                                  |adipine xl                 |Antianginal                                  |action  |\n|Antibacterials For Systemic Use              |ofloxacine cf              |Antibacterials For Systemic Use              |action  |\n|Anticoagulant                                |heparina sodica            |Anticoagulant                                |action  |\n+---------------------------------------------+---------------------------+---------------------------------------------+--------+\nonly showing top 20 rows\n\n"
     ]
    }
   ],
   "source": [
    "\n",
    "res_df = (\n",
    "    result_df\n",
    "    .select(\n",
    "        F.explode(\n",
    "            F.arrays_zip(\n",
    "                F.col(\"Action.result\").alias(\"ner_res\"),\n",
    "                F.col(\"Action.metadata\").alias(\"meta_res\")\n",
    "            )\n",
    "        ).alias(\"col\")\n",
    "    )\n",
    "    .select(\n",
    "        F.col(\"col.ner_res\").alias(\"ner_chunk\"),\n",
    "        F.col(\"col.meta_res.__trained__\").alias(\"fixed_chunk\"),\n",
    "        F.col(\"col.ner_res\").alias(\"action_mapping_result\"),\n",
    "        F.col(\"col.meta_res.relation\").alias(\"relation\")\n",
    "    )\n",
    ")\n",
    "\n",
    "res_df.show(truncate=False)\n"
   ]
  },
  {
   "cell_type": "markdown",
   "metadata": {
    "application/vnd.databricks.v1+cell": {
     "cellMetadata": {},
     "inputWidgets": {},
     "nuid": "32db0a6a-d45f-470b-a0fc-c4254bdd48c8",
     "showTitle": false,
     "tableResultSettingsMap": {},
     "title": ""
    },
    "id": "J-ZTtXsmtzJM"
   },
   "source": [
    "# 3- ChunkMapperFilterer"
   ]
  },
  {
   "cell_type": "markdown",
   "metadata": {
    "application/vnd.databricks.v1+cell": {
     "cellMetadata": {},
     "inputWidgets": {},
     "nuid": "a7929b22-3b60-4ba3-b74a-bd11a492aee7",
     "showTitle": false,
     "tableResultSettingsMap": {},
     "title": ""
    },
    "id": "pm2VP4MXuDSK"
   },
   "source": [
    "`ChunkMapperFilterer` annotator allows filtering of the chunks that were passed through the ChunkMapperModel. <br/>\n",
    "\n",
    "We can filter chunks by setting the `.setReturnCriteria()` parameter. It has 2 options; <br/>\n",
    "\n",
    "\n",
    "**success:** Returns the chunks which are mapped by ChunkMapper <br/>\n",
    "\n",
    "**fail:** Returns the chunks which are not mapped by ChunkMapper <br/>"
   ]
  },
  {
   "cell_type": "markdown",
   "metadata": {
    "application/vnd.databricks.v1+cell": {
     "cellMetadata": {},
     "inputWidgets": {},
     "nuid": "4113ab74-3570-434a-8e0d-52ca9d53062c",
     "showTitle": false,
     "tableResultSettingsMap": {},
     "title": ""
    },
    "id": "I5gJw22BvZ5b"
   },
   "source": [
    "Let's apply the both options and check the results."
   ]
  },
  {
   "cell_type": "code",
   "execution_count": 0,
   "metadata": {
    "application/vnd.databricks.v1+cell": {
     "cellMetadata": {
      "byteLimit": 2048000,
      "rowLimit": 10000
     },
     "inputWidgets": {},
     "nuid": "46111b73-705b-4691-b2c0-c3a629d99046",
     "showTitle": false,
     "tableResultSettingsMap": {},
     "title": ""
    },
    "colab": {
     "base_uri": "https://localhost:8080/"
    },
    "id": "R8MUfkhRtiZK",
    "outputId": "6268cbd8-37e1-4e4c-fc81-fbe27fee1498"
   },
   "outputs": [
    {
     "output_type": "stream",
     "name": "stdout",
     "output_type": "stream",
     "text": [
      "+---------------------------------------------------------------------------------------------------------------------------------------------------------------------+\n|col                                                                                                                                                                  |\n+---------------------------------------------------------------------------------------------------------------------------------------------------------------------+\n|{labeled_dependency, 22, 39, NONE, {chunk -> 0, confidence -> 0.8111, target_text -> Lusa Warfarina 5mg, ner_source -> ner_chunk, entity -> DRUG, sentence -> 0}, []}|\n|{labeled_dependency, 45, 57, NONE, {chunk -> 1, confidence -> 0.66709995, target_text -> amlodipine 10, ner_source -> ner_chunk, entity -> DRUG, sentence -> 0}, []} |\n|{labeled_dependency, 84, 94, NONE, {chunk -> 2, confidence -> 0.9827, target_text -> Aspaginaspa, ner_source -> ner_chunk, entity -> DRUG, sentence -> 0}, []}       |\n|{labeled_dependency, 97, 109, NONE, {chunk -> 3, confidence -> 0.7287, target_text -> coumadin 5 mg, ner_source -> ner_chunk, entity -> DRUG, sentence -> 0}, []}    |\n|{labeled_dependency, 112, 119, NONE, {chunk -> 4, confidence -> 0.9969, target_text -> coumadin, ner_source -> ner_chunk, entity -> DRUG, sentence -> 0}, []}        |\n|{labeled_dependency, 133, 142, NONE, {chunk -> 5, confidence -> 0.9666, target_text -> metamorfin, ner_source -> ner_chunk, entity -> DRUG, sentence -> 0}, []}      |\n+---------------------------------------------------------------------------------------------------------------------------------------------------------------------+\n\n"
     ]
    }
   ],
   "source": [
    "chunkerMapper = medical.ChunkMapperApproach() \\\n",
    "        .setInputCols([\"ner_chunk\"]) \\\n",
    "        .setOutputCol(\"mappings\") \\\n",
    "        .setDictionary(\"file:/dbfs/mappings.json\") \\\n",
    "        .setRel(\"action\") \\\n",
    "        .setLowerCase(True) \\\n",
    "        .setRels([\"action\", \"treatment\"]) \\\n",
    "\n",
    "pipeline = nlp.Pipeline().setStages([document_assembler,\n",
    "                                 sentence_detector,\n",
    "                                 tokenizer, \n",
    "                                 word_embeddings,\n",
    "                                 clinical_ner, \n",
    "                                 ner_converter, \n",
    "                                 chunkerMapper])\n",
    "\n",
    "\n",
    "result_df = pipeline.fit(test_data).transform(test_data)\n",
    "result_df.selectExpr(\"explode(mappings)\").show(truncate=False)"
   ]
  },
  {
   "cell_type": "markdown",
   "metadata": {
    "application/vnd.databricks.v1+cell": {
     "cellMetadata": {},
     "inputWidgets": {},
     "nuid": "315be134-0609-4712-932e-0ed12e255043",
     "showTitle": false,
     "tableResultSettingsMap": {},
     "title": ""
    },
    "id": "M2V0T1b7vuFS"
   },
   "source": [
    "**`.setReturnCriteria(\"success\")`**"
   ]
  },
  {
   "cell_type": "code",
   "execution_count": 0,
   "metadata": {
    "application/vnd.databricks.v1+cell": {
     "cellMetadata": {
      "byteLimit": 2048000,
      "rowLimit": 10000
     },
     "inputWidgets": {},
     "nuid": "be4ea442-c056-48b5-b7cd-7952eb1898e5",
     "showTitle": false,
     "tableResultSettingsMap": {},
     "title": ""
    },
    "colab": {
     "base_uri": "https://localhost:8080/"
    },
    "id": "IssbtA3Xqsgm",
    "outputId": "3548fac9-0110-44b7-ad13-be36f98c5dbe"
   },
   "outputs": [
    {
     "output_type": "stream",
     "name": "stdout",
     "output_type": "stream",
     "text": [
      "+---+\n|col|\n+---+\n+---+\n\n"
     ]
    }
   ],
   "source": [
    "cfModel = medical.ChunkMapperFilterer() \\\n",
    "        .setInputCols([\"ner_chunk\",\"mappings\"]) \\\n",
    "        .setOutputCol(\"chunks_filtered\")\\\n",
    "        .setReturnCriteria(\"success\")\n",
    "\n",
    "cfModel.transform(result_df).selectExpr(\"explode(chunks_filtered)\").show(truncate=False)"
   ]
  },
  {
   "cell_type": "markdown",
   "metadata": {
    "application/vnd.databricks.v1+cell": {
     "cellMetadata": {},
     "inputWidgets": {},
     "nuid": "ce30a5d3-db9c-41d6-a994-e91e8691e749",
     "showTitle": false,
     "tableResultSettingsMap": {},
     "title": ""
    },
    "id": "YTODYW0pvyl_"
   },
   "source": [
    "**`.setReturnCriteria(\"fail\")`**"
   ]
  },
  {
   "cell_type": "code",
   "execution_count": 0,
   "metadata": {
    "application/vnd.databricks.v1+cell": {
     "cellMetadata": {
      "byteLimit": 2048000,
      "rowLimit": 10000
     },
     "inputWidgets": {},
     "nuid": "976da99a-1642-4c9e-9928-3aea0d3f9081",
     "showTitle": false,
     "tableResultSettingsMap": {},
     "title": ""
    },
    "colab": {
     "base_uri": "https://localhost:8080/"
    },
    "id": "DZ9UNFk4qsaS",
    "outputId": "1d4aa22b-5e24-46f0-ad48-144cce87a954"
   },
   "outputs": [
    {
     "output_type": "stream",
     "name": "stdout",
     "output_type": "stream",
     "text": [
      "+-----------------------------------------------------------------------------------------------------------------------------------+\n|col                                                                                                                                |\n+-----------------------------------------------------------------------------------------------------------------------------------+\n|{chunk, 22, 39, Lusa Warfarina 5mg, {chunk -> 0, confidence -> 0.8111, ner_source -> ner_chunk, entity -> DRUG, sentence -> 0}, []}|\n|{chunk, 45, 57, amlodipine 10, {chunk -> 1, confidence -> 0.66709995, ner_source -> ner_chunk, entity -> DRUG, sentence -> 0}, []} |\n|{chunk, 84, 94, Aspaginaspa, {chunk -> 2, confidence -> 0.9827, ner_source -> ner_chunk, entity -> DRUG, sentence -> 0}, []}       |\n|{chunk, 97, 109, coumadin 5 mg, {chunk -> 3, confidence -> 0.7287, ner_source -> ner_chunk, entity -> DRUG, sentence -> 0}, []}    |\n|{chunk, 112, 119, coumadin, {chunk -> 4, confidence -> 0.9969, ner_source -> ner_chunk, entity -> DRUG, sentence -> 0}, []}        |\n|{chunk, 133, 142, metamorfin, {chunk -> 5, confidence -> 0.9666, ner_source -> ner_chunk, entity -> DRUG, sentence -> 0}, []}      |\n+-----------------------------------------------------------------------------------------------------------------------------------+\n\n"
     ]
    }
   ],
   "source": [
    "cfModel = medical.ChunkMapperFilterer() \\\n",
    "        .setInputCols([\"ner_chunk\",\"mappings\"]) \\\n",
    "        .setOutputCol(\"chunks_filtered\")\\\n",
    "        .setReturnCriteria(\"fail\")\n",
    "\n",
    "cfModel.transform(result_df).selectExpr(\"explode(chunks_filtered)\").show(truncate=False)"
   ]
  },
  {
   "cell_type": "markdown",
   "metadata": {
    "application/vnd.databricks.v1+cell": {
     "cellMetadata": {},
     "inputWidgets": {},
     "nuid": "aebb2736-7e31-4735-91b9-612dc76a900b",
     "showTitle": false,
     "tableResultSettingsMap": {},
     "title": ""
    },
    "id": "kWhSQPYT7GnV"
   },
   "source": [
    "# 4- ResolverMerger - Using Sentence Entity Resolver and `ChunkMapperModel` Together"
   ]
  },
  {
   "cell_type": "markdown",
   "metadata": {
    "application/vnd.databricks.v1+cell": {
     "cellMetadata": {},
     "inputWidgets": {},
     "nuid": "7b856198-59b5-4d41-8d32-2ef925aab2b0",
     "showTitle": false,
     "tableResultSettingsMap": {},
     "title": ""
    },
    "id": "ZuEYFmIN7T4U"
   },
   "source": [
    "We can merge the results of `ChunkMapperModel` and `SentenceEntityResolverModel` by using `ResolverMerger` annotator. \n",
    "\n",
    "We can detect our results that fail by `ChunkMapperModel` with `ChunkMapperFilterer` and then merge the resolver and mapper results with `ResolverMerger`"
   ]
  },
  {
   "cell_type": "code",
   "execution_count": 0,
   "metadata": {
    "application/vnd.databricks.v1+cell": {
     "cellMetadata": {
      "byteLimit": 2048000,
      "rowLimit": 10000
     },
     "inputWidgets": {},
     "nuid": "27f87661-f08c-4196-8792-3af70bdb722a",
     "showTitle": false,
     "tableResultSettingsMap": {},
     "title": ""
    },
    "colab": {
     "base_uri": "https://localhost:8080/"
    },
    "id": "8wEep8op7GVH",
    "outputId": "3d66b961-e866-417d-84cf-d4470327babd"
   },
   "outputs": [
    {
     "output_type": "stream",
     "name": "stdout",
     "output_type": "stream",
     "text": [
      "embeddings_clinical download started this may take some time.\nApproximate size to download 1.6 GB\n\r[ | ]\r[OK!]\nner_posology_greedy download started this may take some time.\nApproximate size to download 13.9 MB\n\r[ | ]\r[OK!]\nrxnorm_mapper download started this may take some time.\nApproximate size to download 10 MB\n\r[ | ]\r[ / ]\r[ — ]\r[ \\ ]\r[ | ]\r[ / ]\r[ — ]\r[OK!]\nsbiobert_base_cased_mli download started this may take some time.\nApproximate size to download 384.3 MB\n\r[ | ]\r[OK!]\nsbiobertresolve_rxnorm_augmented download started this may take some time.\nApproximate size to download 1.1 GB\n\r[ | ]\r[OK!]\n"
     ]
    }
   ],
   "source": [
    "document_assembler = nlp.DocumentAssembler()\\\n",
    "      .setInputCol('text')\\\n",
    "      .setOutputCol('document')\n",
    "\n",
    "sentence_detector = nlp.SentenceDetector()\\\n",
    "      .setInputCols([\"document\"])\\\n",
    "      .setOutputCol(\"sentence\")\n",
    "\n",
    "tokenizer = nlp.Tokenizer()\\\n",
    "      .setInputCols(\"sentence\")\\\n",
    "      .setOutputCol(\"token\")\n",
    "\n",
    "word_embeddings = nlp.WordEmbeddingsModel.pretrained(\"embeddings_clinical\", \"en\", \"clinical/models\")\\\n",
    "      .setInputCols([\"sentence\", \"token\"])\\\n",
    "      .setOutputCol(\"embeddings\")\n",
    "\n",
    "ner_model = medical.NerModel.pretrained(\"ner_posology_greedy\", \"en\", \"clinical/models\")\\\n",
    "    .setInputCols([\"sentence\", \"token\", \"embeddings\"])\\\n",
    "    .setOutputCol(\"ner\")\n",
    "\n",
    "ner_converter = medical.NerConverterInternal()\\\n",
    "    .setInputCols(\"sentence\", \"token\", \"ner\")\\\n",
    "    .setOutputCol(\"chunk\")\n",
    "\n",
    "chunkerMapper = medical.ChunkMapperModel.pretrained(\"rxnorm_mapper\", \"en\", \"clinical/models\")\\\n",
    "      .setInputCols([\"chunk\"])\\\n",
    "      .setOutputCol(\"RxNorm_Mapper\")\\\n",
    "      .setRels([\"rxnorm_code\"])\n",
    "\n",
    "cfModel = medical.ChunkMapperFilterer() \\\n",
    "    .setInputCols([\"chunk\", \"RxNorm_Mapper\"]) \\\n",
    "    .setOutputCol(\"chunks_fail\") \\\n",
    "    .setReturnCriteria(\"fail\")\n",
    "\n",
    "chunk2doc = nlp.Chunk2Doc() \\\n",
    "    .setInputCols(\"chunks_fail\") \\\n",
    "    .setOutputCol(\"chunk_doc\")\n",
    "\n",
    "sbert_embedder = nlp.BertSentenceEmbeddings.pretrained('sbiobert_base_cased_mli', 'en','clinical/models')\\\n",
    "      .setInputCols([\"chunk_doc\"])\\\n",
    "      .setOutputCol(\"sentence_embeddings\")\\\n",
    "      .setCaseSensitive(False)\n",
    "\n",
    "resolver = medical.SentenceEntityResolverModel.pretrained(\"sbiobertresolve_rxnorm_augmented\", \"en\", \"clinical/models\") \\\n",
    "    .setInputCols([\"sentence_embeddings\"]) \\\n",
    "    .setOutputCol(\"resolver_code\") \\\n",
    "    .setDistanceFunction(\"EUCLIDEAN\")\n",
    "\n",
    "resolverMerger =medical.ResolverMerger()\\\n",
    "    .setInputCols([\"resolver_code\",\"RxNorm_Mapper\"])\\\n",
    "    .setOutputCol(\"RxNorm\")\n",
    "\n",
    "mapper_pipeline = nlp.Pipeline(\n",
    "      stages = [\n",
    "          document_assembler,\n",
    "          sentence_detector,\n",
    "          tokenizer,\n",
    "          word_embeddings,\n",
    "          ner_model,\n",
    "          ner_converter,\n",
    "          chunkerMapper,\n",
    "          chunkerMapper,\n",
    "          cfModel,\n",
    "          chunk2doc,\n",
    "          sbert_embedder,\n",
    "          resolver,\n",
    "          resolverMerger\n",
    "      ])\n",
    "\n",
    "empty_data = spark.createDataFrame([[\"\"]]).toDF(\"text\")\n",
    "\n",
    "model = mapper_pipeline.fit(empty_data)"
   ]
  },
  {
   "cell_type": "code",
   "execution_count": 0,
   "metadata": {
    "application/vnd.databricks.v1+cell": {
     "cellMetadata": {
      "byteLimit": 2048000,
      "rowLimit": 10000
     },
     "inputWidgets": {},
     "nuid": "83430515-3e8f-4ad4-b486-91b66db57ab7",
     "showTitle": false,
     "tableResultSettingsMap": {},
     "title": ""
    },
    "id": "40s4u0yA7dhn"
   },
   "outputs": [],
   "source": [
    "samples = [['The patient was given Adapin 10 MG, coumadn 5 mg'],\n",
    "           ['The patient was given Avandia 4 mg, Tegretol, zitiga'] ]\n",
    "\n",
    "result = model.transform(spark.createDataFrame(samples).toDF(\"text\"))"
   ]
  },
  {
   "cell_type": "code",
   "execution_count": 0,
   "metadata": {
    "application/vnd.databricks.v1+cell": {
     "cellMetadata": {
      "byteLimit": 2048000,
      "rowLimit": 10000
     },
     "inputWidgets": {},
     "nuid": "7fb2c4a8-7c15-42f6-80e6-9a670400e75b",
     "showTitle": false,
     "tableResultSettingsMap": {},
     "title": ""
    },
    "colab": {
     "base_uri": "https://localhost:8080/"
    },
    "id": "RCDft7KiX2Yr",
    "outputId": "819b9a08-d140-4aae-d479-3a2a24141eaa"
   },
   "outputs": [
    {
     "output_type": "stream",
     "name": "stdout",
     "output_type": "stream",
     "text": [
      "+--------------------------------+----------------------+----------------------------+----------------+-------------------------+\n|chunk                           |RxNorm_Mapper         |chunks_fail                 |resolver_code   |RxNorm                   |\n+--------------------------------+----------------------+----------------------------+----------------+-------------------------+\n|[Adapin 10 MG, coumadn 5 mg]    |[NONE, NONE]          |[Adapin 10 MG, coumadn 5 mg]|[104412, 200883]|[104412, 200883]         |\n|[Avandia 4 mg, Tegretol, zitiga]|[261242, 203029, NONE]|[zitiga]                    |[2589614]       |[261242, 203029, 2589614]|\n+--------------------------------+----------------------+----------------------------+----------------+-------------------------+\n\n"
     ]
    }
   ],
   "source": [
    "result.selectExpr('chunk.result as chunk', \n",
    "                  'RxNorm_Mapper.result as RxNorm_Mapper', \n",
    "                  'chunks_fail.result as chunks_fail', \n",
    "                  'resolver_code.result as resolver_code',\n",
    "                  'RxNorm.result as RxNorm'\n",
    "              ).show(truncate = False)"
   ]
  },
  {
   "cell_type": "markdown",
   "metadata": {
    "application/vnd.databricks.v1+cell": {
     "cellMetadata": {},
     "inputWidgets": {},
     "nuid": "b896ef24-245d-4523-b9b7-c40dd3885c8f",
     "showTitle": false,
     "tableResultSettingsMap": {},
     "title": ""
    }
   },
   "source": [
    "# 5- Mapper2Chunk Annotator to Create a New Chunk Type from any Mapper\n",
    "\n",
    "The Mapper2Chunk annotator converts ‘LABELED_DEPENDENCY’ type annotations coming from ChunkMapper into ‘CHUNK’ type to create a new chunk-type column, compatible with annotators that use chunk type as input."
   ]
  },
  {
   "cell_type": "code",
   "execution_count": 0,
   "metadata": {
    "application/vnd.databricks.v1+cell": {
     "cellMetadata": {
      "byteLimit": 2048000,
      "rowLimit": 10000
     },
     "inputWidgets": {},
     "nuid": "b05cc306-67bd-4872-abef-114b9e50c0c6",
     "showTitle": false,
     "tableResultSettingsMap": {},
     "title": ""
    }
   },
   "outputs": [
    {
     "output_type": "stream",
     "name": "stdout",
     "output_type": "stream",
     "text": [
      "embeddings_clinical download started this may take some time.\nApproximate size to download 1.6 GB\n\r[ | ]\r[OK!]\nner_jsl download started this may take some time.\nApproximate size to download 14.5 MB\n\r[ | ]\r[OK!]\ndrug_action_treatment_mapper download started this may take some time.\nApproximate size to download 9.6 MB\n\r[ | ]\r[OK!]\n"
     ]
    }
   ],
   "source": [
    "documentAssembler = nlp.DocumentAssembler() \\\n",
    "  .setInputCol(\"text\") \\\n",
    "  .setOutputCol(\"document\")\n",
    "\n",
    "sentenceDetector = nlp.SentenceDetector() \\\n",
    "  .setInputCols([\"document\"]) \\\n",
    "  .setOutputCol(\"sentence\")\n",
    "\n",
    "tokenizer = nlp.Tokenizer() \\\n",
    "  .setInputCols([\"sentence\"]) \\\n",
    "  .setOutputCol(\"token\")\n",
    "\n",
    "word_embeddings = nlp.WordEmbeddingsModel.pretrained(\"embeddings_clinical\", \"en\", \"clinical/models\") \\\n",
    "  .setInputCols([\"sentence\", \"token\"]) \\\n",
    "  .setOutputCol(\"embeddings\")\n",
    "\n",
    "clinical_ner = medical.NerModel.pretrained(\"ner_jsl\", \"en\", \"clinical/models\") \\\n",
    "  .setInputCols([\"sentence\", \"token\", \"embeddings\"]) \\\n",
    "  .setOutputCol(\"ner\")\n",
    "\n",
    "ner_converter = medical.NerConverterInternal() \\\n",
    "  .setInputCols([\"sentence\", \"token\", \"ner\"]) \\\n",
    "  .setOutputCol(\"ner_chunk\")\n",
    "\n",
    "chunkMapper = medical.ChunkMapperModel.pretrained(\"drug_action_treatment_mapper\", \"en\", \"clinical/models\") \\\n",
    "  .setInputCols([\"ner_chunk\"]) \\\n",
    "  .setOutputCol(\"relations\") \\\n",
    "  .setRels([\"action\"])\n",
    "\n",
    "mapper2chunk = medical.Mapper2Chunk() \\\n",
    "  .setInputCols([\"relations\"]) \\\n",
    "  .setOutputCol(\"chunk\") \\\n",
    "  .setFilterNoneValues(True)\n",
    "\n",
    "pipeline = nlp.Pipeline(\n",
    "    stages=[\n",
    "      documentAssembler,\n",
    "      sentenceDetector,\n",
    "      tokenizer,\n",
    "      word_embeddings,\n",
    "      clinical_ner,\n",
    "      ner_converter,\n",
    "      chunkMapper,\n",
    "      mapper2chunk\n",
    "])"
   ]
  },
  {
   "cell_type": "code",
   "execution_count": 0,
   "metadata": {
    "application/vnd.databricks.v1+cell": {
     "cellMetadata": {
      "byteLimit": 2048000,
      "rowLimit": 10000
     },
     "inputWidgets": {},
     "nuid": "9ec7734c-87e0-4777-a889-0b5a35305aeb",
     "showTitle": false,
     "tableResultSettingsMap": {},
     "title": ""
    }
   },
   "outputs": [],
   "source": [
    "text = \"Patient resting in bed. Patient given azithromycin without any difficulty. Patient denies nausea at this time. Zofran declined. Patient is also having intermittent sweating\"\n",
    "data = spark.createDataFrame([[text]]).toDF(\"text\")"
   ]
  },
  {
   "cell_type": "code",
   "execution_count": 0,
   "metadata": {
    "application/vnd.databricks.v1+cell": {
     "cellMetadata": {
      "byteLimit": 2048000,
      "rowLimit": 10000
     },
     "inputWidgets": {},
     "nuid": "82ca0396-c0d1-4b1f-821a-3f435adacd11",
     "showTitle": false,
     "tableResultSettingsMap": {},
     "title": ""
    }
   },
   "outputs": [],
   "source": [
    "result = pipeline.fit(data).transform(data)"
   ]
  },
  {
   "cell_type": "code",
   "execution_count": 0,
   "metadata": {
    "application/vnd.databricks.v1+cell": {
     "cellMetadata": {
      "byteLimit": 2048000,
      "rowLimit": 10000
     },
     "inputWidgets": {},
     "nuid": "fd6cfebd-cc6c-4c39-92bd-87a74c8429d7",
     "showTitle": false,
     "tableResultSettingsMap": {},
     "title": ""
    }
   },
   "outputs": [
    {
     "output_type": "stream",
     "name": "stdout",
     "output_type": "stream",
     "text": [
      "+-----------------------------------------------------------------------------------------------------------------------------------------------------------------------------------------------------------------------------------------------------------------------------------------------------------------------------------------------------------------------------------------------------------------------------------+--------------------------------------------------------------------------------------------------------------------------------------------+\n|result                                                                                                                                                                                                                                                                                                                                                                                                                             |annotatorType                                                                                                                               |\n+-----------------------------------------------------------------------------------------------------------------------------------------------------------------------------------------------------------------------------------------------------------------------------------------------------------------------------------------------------------------------------------------------------------------------------------+--------------------------------------------------------------------------------------------------------------------------------------------+\n|[Bactericidal, Antiemetic, Anti-Abstinence, Antiallergic, Analgesic, Agents Acting In The Renin-Angiotensin System, Hypocholesterolemic, Ophthalmologicals, Pituitary And Hypothalamic Hormones And Analogues, Analgesic, Antiulcer, Antitussive, Anticholinergic, Anti-Bronchoconstrictive, Antidiarrheal, Antibacterial Broad Spectrum (Bactericidal), Antidepressant, Nonsteroidal Anti-Inflammatory, Antacid, Psychoanaleptics]|[chunk, chunk, chunk, chunk, chunk, chunk, chunk, chunk, chunk, chunk, chunk, chunk, chunk, chunk, chunk, chunk, chunk, chunk, chunk, chunk]|\n+-----------------------------------------------------------------------------------------------------------------------------------------------------------------------------------------------------------------------------------------------------------------------------------------------------------------------------------------------------------------------------------------------------------------------------------+--------------------------------------------------------------------------------------------------------------------------------------------+\n\n"
     ]
    }
   ],
   "source": [
    "result.selectExpr(\"chunk.result\", \"chunk.annotatorType\").show(truncate=False)"
   ]
  },
  {
   "cell_type": "markdown",
   "metadata": {
    "application/vnd.databricks.v1+cell": {
     "cellMetadata": {},
     "inputWidgets": {},
     "nuid": "89b0efc7-6cc0-4a5b-ae1a-9e6388b73938",
     "showTitle": false,
     "tableResultSettingsMap": {},
     "title": ""
    },
    "id": "HJ9tNW9Gt5Sb"
   },
   "source": [
    "# 6- Section Header Normalizer Mapper with ChunkSentenceSplitter"
   ]
  },
  {
   "cell_type": "markdown",
   "metadata": {
    "application/vnd.databricks.v1+cell": {
     "cellMetadata": {},
     "inputWidgets": {},
     "nuid": "59d1b0f5-c2f9-4733-991f-ce26f3db3061",
     "showTitle": false,
     "tableResultSettingsMap": {},
     "title": ""
    },
    "id": "0tlEvAPvu6Lb"
   },
   "source": [
    "`ChunkSentenceSplitter()` annotator splits documents or sentences by chunks provided. <br/> For detailed usage of this annotator, visit [this notebook](https://github.com/JohnSnowLabs/spark-nlp-workshop/blob/master/tutorials/Certification_Trainings/Healthcare/18.Chunk_Sentence_Splitter.ipynb) <br/>\n",
    "\n",
    "In this section, we will do the following steps; \n",
    "- Detect \"section headers\" in given text through Ner model\n",
    "- Split the given text by headers with `ChunkSentenceSplitter()`\n",
    "- Normalize the `ChunkSentenceSplitter()` outputs with `normalized_section_header_mapper` model."
   ]
  },
  {
   "cell_type": "markdown",
   "metadata": {
    "application/vnd.databricks.v1+cell": {
     "cellMetadata": {},
     "inputWidgets": {},
     "nuid": "af9cb1b0-1da1-48c4-89c2-bd0ab593282c",
     "showTitle": false,
     "tableResultSettingsMap": {},
     "title": ""
    },
    "id": "xlNR3ioQYQPc"
   },
   "source": [
    "Let's start with creating Ner pipeline to detect \"Header\""
   ]
  },
  {
   "cell_type": "code",
   "execution_count": 0,
   "metadata": {
    "application/vnd.databricks.v1+cell": {
     "cellMetadata": {
      "byteLimit": 2048000,
      "rowLimit": 10000
     },
     "inputWidgets": {},
     "nuid": "d5c3348b-d835-453d-aa19-c15871edf129",
     "showTitle": false,
     "tableResultSettingsMap": {},
     "title": ""
    },
    "id": "e3ABtM79mf86"
   },
   "outputs": [],
   "source": [
    "sentences = [\n",
    "    [\"\"\"ADMISSION DIAGNOSIS Right pleural effusion and suspected malignant mesothelioma.\n",
    "        PRINCIPAL DIAGNOSIS Right pleural effusion, suspected malignant mesothelioma.\n",
    "        REVIEW OF SYSTEMS Right pleural effusion, firm nodules, diffuse scattered throughout the right pleura and diaphragmatic surface.\n",
    "    \"\"\"]]\n",
    "\n",
    "df= spark.createDataFrame(sentences).toDF(\"text\")"
   ]
  },
  {
   "cell_type": "code",
   "execution_count": 0,
   "metadata": {
    "application/vnd.databricks.v1+cell": {
     "cellMetadata": {
      "byteLimit": 2048000,
      "rowLimit": 10000
     },
     "inputWidgets": {},
     "nuid": "fd1834b9-5491-47cd-b696-f6212f8cdd3a",
     "showTitle": false,
     "tableResultSettingsMap": {},
     "title": ""
    },
    "colab": {
     "base_uri": "https://localhost:8080/"
    },
    "id": "Wuab7yVluOLY",
    "outputId": "c029678e-26f4-448a-cea6-d54f4c6ae3a9"
   },
   "outputs": [
    {
     "output_type": "stream",
     "name": "stdout",
     "output_type": "stream",
     "text": [
      "bert_token_classifier_ner_jsl_slim download started this may take some time.\nApproximate size to download 385.7 MB\n\r[ | ]\r[ / ]\r[ — ]\r[ \\ ]\r[ | ]\r[ / ]\r[ — ]\r[ \\ ]\r[ | ]\r[ / ]\r[ — ]\r[ \\ ]\r[ | ]\r[ / ]\r[ — ]\r[ \\ ]\r[ | ]\r[ / ]\r[ — ]\r[ \\ ]\r[OK!]\n"
     ]
    }
   ],
   "source": [
    "documentAssembler = nlp.DocumentAssembler()\\\n",
    "      .setInputCol(\"text\")\\\n",
    "      .setOutputCol(\"document\")\n",
    "\n",
    "tokenizer= nlp.Tokenizer()\\\n",
    "      .setInputCols([\"document\"])\\\n",
    "      .setOutputCol(\"token\")\n",
    "\n",
    "tokenClassifier = medical.BertForTokenClassification.pretrained(\"bert_token_classifier_ner_jsl_slim\", \"en\", \"clinical/models\")\\\n",
    "    .setInputCols(\"token\", \"document\")\\\n",
    "    .setOutputCol(\"ner\")\\\n",
    "    .setCaseSensitive(True)\n",
    "\n",
    "ner_converter = medical.NerConverterInternal() \\\n",
    "      .setInputCols([\"document\", \"token\", \"ner\"]) \\\n",
    "      .setOutputCol(\"ner_chunk\")\\\n",
    "      .setWhiteList([\"Header\"])\n",
    "\n",
    "pipeline = nlp.Pipeline(\n",
    "    stages = [\n",
    "        documentAssembler,\n",
    "        tokenizer,\n",
    "        tokenClassifier,\n",
    "        ner_converter\n",
    "    ])\n",
    " \n",
    "empty_df = spark.createDataFrame([[\"\"]]).toDF('text')\n",
    "pipeline_model = pipeline.fit(empty_df)"
   ]
  },
  {
   "cell_type": "code",
   "execution_count": 0,
   "metadata": {
    "application/vnd.databricks.v1+cell": {
     "cellMetadata": {
      "byteLimit": 2048000,
      "rowLimit": 10000
     },
     "inputWidgets": {},
     "nuid": "4f4b4133-716b-421d-95c7-91efbe4cbb9e",
     "showTitle": false,
     "tableResultSettingsMap": {},
     "title": ""
    },
    "colab": {
     "base_uri": "https://localhost:8080/"
    },
    "id": "aIXG6SUiGGib",
    "outputId": "51c04c0e-ff92-45ab-8810-e9be38b4d43e"
   },
   "outputs": [
    {
     "output_type": "stream",
     "name": "stdout",
     "output_type": "stream",
     "text": [
      "+------------------------------------------------------------------------------------------------------------------------------------------+\n|col                                                                                                                                       |\n+------------------------------------------------------------------------------------------------------------------------------------------+\n|{chunk, 0, 18, ADMISSION DIAGNOSIS, {entity -> Header, confidence -> 0.9994346, ner_source -> ner_chunk, chunk -> 0, sentence -> 0}, []}  |\n|{chunk, 89, 107, PRINCIPAL DIAGNOSIS, {entity -> Header, confidence -> 0.9902017, ner_source -> ner_chunk, chunk -> 1, sentence -> 0}, []}|\n|{chunk, 175, 191, REVIEW OF SYSTEMS, {entity -> Header, confidence -> 0.9989373, ner_source -> ner_chunk, chunk -> 2, sentence -> 0}, []} |\n+------------------------------------------------------------------------------------------------------------------------------------------+\n\n"
     ]
    }
   ],
   "source": [
    "result = pipeline_model.transform(df)\n",
    "result.selectExpr('explode(ner_chunk)').show(truncate=False)"
   ]
  },
  {
   "cell_type": "markdown",
   "metadata": {
    "application/vnd.databricks.v1+cell": {
     "cellMetadata": {},
     "inputWidgets": {},
     "nuid": "2738d2a5-8b4e-465b-8d67-6e6cc9a23443",
     "showTitle": false,
     "tableResultSettingsMap": {},
     "title": ""
    },
    "id": "ymUF_0f1ct7A"
   },
   "source": [
    "Now, we have our header entities. We will split the text by the headers."
   ]
  },
  {
   "cell_type": "code",
   "execution_count": 0,
   "metadata": {
    "application/vnd.databricks.v1+cell": {
     "cellMetadata": {
      "byteLimit": 2048000,
      "rowLimit": 10000
     },
     "inputWidgets": {},
     "nuid": "16cc5629-6b0d-4169-b1f8-29bf1bc10faf",
     "showTitle": false,
     "tableResultSettingsMap": {},
     "title": ""
    },
    "id": "jM7vMBDAZg3_"
   },
   "outputs": [],
   "source": [
    "#applying ChunkSentenceSplitter \n",
    "chunkSentenceSplitter = medical.ChunkSentenceSplitter()\\\n",
    "    .setInputCols(\"document\",\"ner_chunk\")\\\n",
    "    .setOutputCol(\"paragraphs\")\\\n",
    "    .setGroupBySentences(False)\n",
    "\n",
    "paragraphs = chunkSentenceSplitter.transform(result)"
   ]
  },
  {
   "cell_type": "code",
   "execution_count": 0,
   "metadata": {
    "application/vnd.databricks.v1+cell": {
     "cellMetadata": {
      "byteLimit": 2048000,
      "rowLimit": 10000
     },
     "inputWidgets": {},
     "nuid": "8b8306fe-d0f4-4b8a-9670-4aab730a7d48",
     "showTitle": false,
     "tableResultSettingsMap": {},
     "title": ""
    },
    "colab": {
     "base_uri": "https://localhost:8080/"
    },
    "id": "pCJL4x0ybatJ",
    "outputId": "5081a7b4-d11d-43ff-cf67-868ca86eb86e"
   },
   "outputs": [
    {
     "output_type": "stream",
     "name": "stdout",
     "output_type": "stream",
     "text": [
      "+--------------------+--------------------+--------------------+--------------------+--------------------+--------------------+\n|                text|            document|               token|                 ner|           ner_chunk|          paragraphs|\n+--------------------+--------------------+--------------------+--------------------+--------------------+--------------------+\n|ADMISSION DIAGNOS...|[{document, 0, 30...|[{token, 0, 8, AD...|[{named_entity, 0...|[{chunk, 0, 18, A...|[{document, 0, 89...|\n+--------------------+--------------------+--------------------+--------------------+--------------------+--------------------+\n\n"
     ]
    }
   ],
   "source": [
    "paragraphs.show()"
   ]
  },
  {
   "cell_type": "code",
   "execution_count": 0,
   "metadata": {
    "application/vnd.databricks.v1+cell": {
     "cellMetadata": {
      "byteLimit": 2048000,
      "rowLimit": 10000
     },
     "inputWidgets": {},
     "nuid": "2a5568cc-ccdd-4d59-8791-421ef8658bad",
     "showTitle": false,
     "tableResultSettingsMap": {},
     "title": ""
    },
    "colab": {
     "base_uri": "https://localhost:8080/",
     "height": 237
    },
    "id": "g2D2hD1IYczD",
    "outputId": "7baa8337-0695-4b4c-979f-e587884fd8ae"
   },
   "outputs": [
    {
     "output_type": "execute_result",
     "data": {
      "text/html": [
       "<div>\n",
       "<style scoped>\n",
       "    .dataframe tbody tr th:only-of-type {\n",
       "        vertical-align: middle;\n",
       "    }\n",
       "\n",
       "    .dataframe tbody tr th {\n",
       "        vertical-align: top;\n",
       "    }\n",
       "\n",
       "    .dataframe thead th {\n",
       "        text-align: right;\n",
       "    }\n",
       "</style>\n",
       "<table border=\"1\" class=\"dataframe\">\n",
       "  <thead>\n",
       "    <tr style=\"text-align: right;\">\n",
       "      <th></th>\n",
       "      <th>result</th>\n",
       "      <th>entity</th>\n",
       "      <th>splitter_chunk</th>\n",
       "    </tr>\n",
       "  </thead>\n",
       "  <tbody>\n",
       "    <tr>\n",
       "      <th>0</th>\n",
       "      <td>ADMISSION DIAGNOSIS Right pleural effusion and suspected malignant mesothelioma.\\n</td>\n",
       "      <td>Header</td>\n",
       "      <td>ADMISSION DIAGNOSIS</td>\n",
       "    </tr>\n",
       "    <tr>\n",
       "      <th>1</th>\n",
       "      <td>PRINCIPAL DIAGNOSIS Right pleural effusion, suspected malignant mesothelioma.\\n</td>\n",
       "      <td>Header</td>\n",
       "      <td>PRINCIPAL DIAGNOSIS</td>\n",
       "    </tr>\n",
       "    <tr>\n",
       "      <th>2</th>\n",
       "      <td>REVIEW OF SYSTEMS Right pleural effusion, firm nodules, diffuse scattered throughout the right pleura and diaphragmatic surface.\\n</td>\n",
       "      <td>Header</td>\n",
       "      <td>REVIEW OF SYSTEMS</td>\n",
       "    </tr>\n",
       "  </tbody>\n",
       "</table>\n",
       "</div>"
      ],
      "text/plain": [
       "                                                                                                                                   result  entity       splitter_chunk\n",
       "0                                              ADMISSION DIAGNOSIS Right pleural effusion and suspected malignant mesothelioma.\\n          Header  ADMISSION DIAGNOSIS\n",
       "1                                                 PRINCIPAL DIAGNOSIS Right pleural effusion, suspected malignant mesothelioma.\\n          Header  PRINCIPAL DIAGNOSIS\n",
       "2  REVIEW OF SYSTEMS Right pleural effusion, firm nodules, diffuse scattered throughout the right pleura and diaphragmatic surface.\\n      Header    REVIEW OF SYSTEMS"
      ]
     },
     "execution_count": 82,
     "metadata": {},
     "output_type": "execute_result"
    }
   ],
   "source": [
    "pd.set_option('display.max_colwidth', None)\n",
    "result_df = paragraphs.selectExpr(\"explode(paragraphs) as result\").selectExpr(\"result.result\",\"result.metadata.entity\", \"result.metadata.splitter_chunk\").toPandas()\n",
    "result_df"
   ]
  },
  {
   "cell_type": "markdown",
   "metadata": {
    "application/vnd.databricks.v1+cell": {
     "cellMetadata": {},
     "inputWidgets": {},
     "nuid": "d9058190-5c0a-4c8a-84d6-cfed64560858",
     "showTitle": false,
     "tableResultSettingsMap": {},
     "title": ""
    },
    "id": "1aO6pVkheYYg"
   },
   "source": [
    "As you see, we have our splitted text and **section headers**. <br/>\n",
    "Now we will normalize this section headers with `normalized_section_header_mapper`"
   ]
  },
  {
   "cell_type": "code",
   "execution_count": 0,
   "metadata": {
    "application/vnd.databricks.v1+cell": {
     "cellMetadata": {
      "byteLimit": 2048000,
      "rowLimit": 10000
     },
     "inputWidgets": {},
     "nuid": "27b1ef1c-7872-46bb-b0c1-9413facb0c0f",
     "showTitle": false,
     "tableResultSettingsMap": {},
     "title": ""
    },
    "colab": {
     "base_uri": "https://localhost:8080/"
    },
    "id": "v3e8FeqUcCRc",
    "outputId": "0419acbb-653b-4c05-e242-9bebf5412762"
   },
   "outputs": [
    {
     "output_type": "stream",
     "name": "stdout",
     "output_type": "stream",
     "text": [
      "normalized_section_header_mapper download started this may take some time.\nApproximate size to download 18.8 KB\n\r[ | ]\r[OK!]\n"
     ]
    }
   ],
   "source": [
    "chunkerMapper = medical.ChunkMapperModel.pretrained(\"normalized_section_header_mapper\", \"en\", \"clinical/models\") \\\n",
    "       .setInputCols(\"ner_chunk\")\\\n",
    "       .setOutputCol(\"mappings\")\\\n",
    "       .setRels([\"level_1\"]) #or level_2\n",
    "\n",
    "normalized_df= chunkerMapper.transform(paragraphs)"
   ]
  },
  {
   "cell_type": "code",
   "execution_count": 0,
   "metadata": {
    "application/vnd.databricks.v1+cell": {
     "cellMetadata": {
      "byteLimit": 2048000,
      "rowLimit": 10000
     },
     "inputWidgets": {},
     "nuid": "f9324a97-6cef-4b65-9b15-7432bc291efc",
     "showTitle": false,
     "tableResultSettingsMap": {},
     "title": ""
    },
    "colab": {
     "base_uri": "https://localhost:8080/"
    },
    "id": "G4mdVzaTiQWP",
    "outputId": "9cfc3aef-df4c-4779-e06a-b300846b8a08"
   },
   "outputs": [
    {
     "output_type": "stream",
     "name": "stdout",
     "output_type": "stream",
     "text": [
      "+--------------------+--------------------+--------------------+--------------------+--------------------+--------------------+--------------------+\n|                text|            document|               token|                 ner|           ner_chunk|          paragraphs|            mappings|\n+--------------------+--------------------+--------------------+--------------------+--------------------+--------------------+--------------------+\n|ADMISSION DIAGNOS...|[{document, 0, 30...|[{token, 0, 8, AD...|[{named_entity, 0...|[{chunk, 0, 18, A...|[{document, 0, 89...|[{labeled_depende...|\n+--------------------+--------------------+--------------------+--------------------+--------------------+--------------------+--------------------+\n\n"
     ]
    }
   ],
   "source": [
    "normalized_df.show()"
   ]
  },
  {
   "cell_type": "code",
   "execution_count": 0,
   "metadata": {
    "application/vnd.databricks.v1+cell": {
     "cellMetadata": {
      "byteLimit": 2048000,
      "rowLimit": 10000
     },
     "inputWidgets": {},
     "nuid": "5d58be16-3c99-4559-a2e5-be22136b4fe7",
     "showTitle": false,
     "tableResultSettingsMap": {},
     "title": ""
    },
    "colab": {
     "base_uri": "https://localhost:8080/",
     "height": 142
    },
    "id": "W39fNYQiiQR-",
    "outputId": "50a73615-d632-45d5-ecb1-4ff06d281de5"
   },
   "outputs": [
    {
     "output_type": "execute_result",
     "data": {
      "text/html": [
       "<div>\n",
       "<style scoped>\n",
       "    .dataframe tbody tr th:only-of-type {\n",
       "        vertical-align: middle;\n",
       "    }\n",
       "\n",
       "    .dataframe tbody tr th {\n",
       "        vertical-align: top;\n",
       "    }\n",
       "\n",
       "    .dataframe thead th {\n",
       "        text-align: right;\n",
       "    }\n",
       "</style>\n",
       "<table border=\"1\" class=\"dataframe\">\n",
       "  <thead>\n",
       "    <tr style=\"text-align: right;\">\n",
       "      <th></th>\n",
       "      <th>ner_chunk</th>\n",
       "      <th>normalized_headers</th>\n",
       "    </tr>\n",
       "  </thead>\n",
       "  <tbody>\n",
       "    <tr>\n",
       "      <th>0</th>\n",
       "      <td>ADMISSION DIAGNOSIS</td>\n",
       "      <td>DIAGNOSIS</td>\n",
       "    </tr>\n",
       "    <tr>\n",
       "      <th>1</th>\n",
       "      <td>PRINCIPAL DIAGNOSIS</td>\n",
       "      <td>DIAGNOSIS</td>\n",
       "    </tr>\n",
       "    <tr>\n",
       "      <th>2</th>\n",
       "      <td>REVIEW OF SYSTEMS</td>\n",
       "      <td>REVIEW TYPE</td>\n",
       "    </tr>\n",
       "  </tbody>\n",
       "</table>\n",
       "</div>"
      ],
      "text/plain": [
       "             ner_chunk normalized_headers\n",
       "0  ADMISSION DIAGNOSIS          DIAGNOSIS\n",
       "1  PRINCIPAL DIAGNOSIS          DIAGNOSIS\n",
       "2    REVIEW OF SYSTEMS        REVIEW TYPE"
      ]
     },
     "execution_count": 109,
     "metadata": {},
     "output_type": "execute_result"
    }
   ],
   "source": [
    "\n",
    "normalized_df_exp = (\n",
    "    normalized_df\n",
    "    .select(\n",
    "        F.explode(\n",
    "            F.arrays_zip(\n",
    "                F.col(\"splitter_chunk.result\").alias(\"ner_res\"),  # ner_chunk yerine splitter_chunk kullanıldı\n",
    "                F.col(\"mappings.result\").alias(\"mapping_res\")\n",
    "            )\n",
    "        ).alias(\"col\")\n",
    "    )\n",
    "    .select(\n",
    "        F.col(\"col.ner_res\").alias(\"ner_chunk\"),\n",
    "        F.col(\"col.mapping_res\").alias(\"normalized_headers\")\n",
    "    )\n",
    ")\n",
    "\n",
    "normalized_df_pd = normalized_df_exp.toPandas()\n",
    "normalized_df_pd.head()\n",
    "\n",
    "\n"
   ]
  },
  {
   "cell_type": "markdown",
   "metadata": {
    "application/vnd.databricks.v1+cell": {
     "cellMetadata": {},
     "inputWidgets": {},
     "nuid": "8dd649f2-86e0-4470-9689-6f365756d5ab",
     "showTitle": false,
     "tableResultSettingsMap": {},
     "title": ""
    },
    "id": "ZNYTXNAMKgl1"
   },
   "source": [
    "Now, we have our normalized headers. We will merge it with `ChunkSentenceSplitter()` output"
   ]
  },
  {
   "cell_type": "code",
   "execution_count": 0,
   "metadata": {
    "application/vnd.databricks.v1+cell": {
     "cellMetadata": {
      "byteLimit": 2048000,
      "rowLimit": 10000
     },
     "inputWidgets": {},
     "nuid": "93c69ac2-518f-4523-9621-6ae461d4b896",
     "showTitle": false,
     "tableResultSettingsMap": {},
     "title": ""
    },
    "id": "84dbZufZ1f0a"
   },
   "outputs": [],
   "source": [
    "normalized_df_pd= normalized_df_pd.rename(columns={\"ner_chunk\": \"splitter_chunk\"})\n",
    "df= pd.merge(result_df, normalized_df_pd, on=[\"splitter_chunk\"])\n",
    "\n"
   ]
  },
  {
   "cell_type": "code",
   "execution_count": 0,
   "metadata": {
    "application/vnd.databricks.v1+cell": {
     "cellMetadata": {
      "byteLimit": 2048000,
      "rowLimit": 10000
     },
     "inputWidgets": {},
     "nuid": "4f834c02-d731-4954-99a7-0319a5e66d2a",
     "showTitle": false,
     "tableResultSettingsMap": {},
     "title": ""
    },
    "colab": {
     "base_uri": "https://localhost:8080/",
     "height": 237
    },
    "id": "bSSafH2snO5j",
    "outputId": "58325212-a90b-47ae-cd82-faf90d78146c"
   },
   "outputs": [
    {
     "output_type": "execute_result",
     "data": {
      "text/html": [
       "<div>\n",
       "<style scoped>\n",
       "    .dataframe tbody tr th:only-of-type {\n",
       "        vertical-align: middle;\n",
       "    }\n",
       "\n",
       "    .dataframe tbody tr th {\n",
       "        vertical-align: top;\n",
       "    }\n",
       "\n",
       "    .dataframe thead th {\n",
       "        text-align: right;\n",
       "    }\n",
       "</style>\n",
       "<table border=\"1\" class=\"dataframe\">\n",
       "  <thead>\n",
       "    <tr style=\"text-align: right;\">\n",
       "      <th></th>\n",
       "      <th>result</th>\n",
       "      <th>entity</th>\n",
       "      <th>splitter_chunk</th>\n",
       "      <th>normalized_headers</th>\n",
       "    </tr>\n",
       "  </thead>\n",
       "  <tbody>\n",
       "    <tr>\n",
       "      <th>0</th>\n",
       "      <td>ADMISSION DIAGNOSIS Right pleural effusion and suspected malignant mesothelioma.\\n</td>\n",
       "      <td>Header</td>\n",
       "      <td>ADMISSION DIAGNOSIS</td>\n",
       "      <td>DIAGNOSIS</td>\n",
       "    </tr>\n",
       "    <tr>\n",
       "      <th>1</th>\n",
       "      <td>PRINCIPAL DIAGNOSIS Right pleural effusion, suspected malignant mesothelioma.\\n</td>\n",
       "      <td>Header</td>\n",
       "      <td>PRINCIPAL DIAGNOSIS</td>\n",
       "      <td>DIAGNOSIS</td>\n",
       "    </tr>\n",
       "    <tr>\n",
       "      <th>2</th>\n",
       "      <td>REVIEW OF SYSTEMS Right pleural effusion, firm nodules, diffuse scattered throughout the right pleura and diaphragmatic surface.\\n</td>\n",
       "      <td>Header</td>\n",
       "      <td>REVIEW OF SYSTEMS</td>\n",
       "      <td>REVIEW TYPE</td>\n",
       "    </tr>\n",
       "  </tbody>\n",
       "</table>\n",
       "</div>"
      ],
      "text/plain": [
       "                                                                                                                                   result  entity       splitter_chunk normalized_headers\n",
       "0                                              ADMISSION DIAGNOSIS Right pleural effusion and suspected malignant mesothelioma.\\n          Header  ADMISSION DIAGNOSIS          DIAGNOSIS\n",
       "1                                                 PRINCIPAL DIAGNOSIS Right pleural effusion, suspected malignant mesothelioma.\\n          Header  PRINCIPAL DIAGNOSIS          DIAGNOSIS\n",
       "2  REVIEW OF SYSTEMS Right pleural effusion, firm nodules, diffuse scattered throughout the right pleura and diaphragmatic surface.\\n      Header    REVIEW OF SYSTEMS        REVIEW TYPE"
      ]
     },
     "execution_count": 108,
     "metadata": {},
     "output_type": "execute_result"
    }
   ],
   "source": [
    "df"
   ]
  },
  {
   "cell_type": "markdown",
   "metadata": {
    "application/vnd.databricks.v1+cell": {
     "cellMetadata": {},
     "inputWidgets": {},
     "nuid": "b6cc2b37-739d-4e30-8556-a40477f4f18b",
     "showTitle": false,
     "tableResultSettingsMap": {},
     "title": ""
    },
    "id": "r2x7vehZL1zD"
   },
   "source": [
    "Ultimately, we have splitted paragraphs, headers and normalized headers."
   ]
  },
  {
   "cell_type": "markdown",
   "metadata": {
    "application/vnd.databricks.v1+cell": {
     "cellMetadata": {},
     "inputWidgets": {},
     "nuid": "e969e685-c8f1-42bf-991d-693664fbd839",
     "showTitle": false,
     "tableResultSettingsMap": {},
     "title": ""
    },
    "id": "kYQZjb7H4PAH"
   },
   "source": [
    "# 7- Pretrained Mapper Pipelines\n",
    "\n",
    "We will show an example of `rxnorm_umls_mapping` pipeline here. But you can check [Healthcare Code Mapping Notebook](https://github.com/JohnSnowLabs/spark-nlp-workshop/blob/master/tutorials/Certification_Trainings/Healthcare/11.1.Healthcare_Code_Mapping.ipynb) for the examples of pretrained mapper pipelines."
   ]
  },
  {
   "cell_type": "code",
   "execution_count": 0,
   "metadata": {
    "application/vnd.databricks.v1+cell": {
     "cellMetadata": {
      "byteLimit": 2048000,
      "rowLimit": 10000
     },
     "inputWidgets": {},
     "nuid": "4279db81-6332-4823-be72-8bf927428e26",
     "showTitle": false,
     "tableResultSettingsMap": {},
     "title": ""
    },
    "colab": {
     "base_uri": "https://localhost:8080/"
    },
    "id": "ZKz2nJtc4Mp1",
    "outputId": "3dc21ec9-0510-4f15-c751-ad3460dedca5"
   },
   "outputs": [
    {
     "output_type": "stream",
     "name": "stdout",
     "output_type": "stream",
     "text": [
      "rxnorm_umls_mapping download started this may take some time.\nApprox size to download 1.8 MB\n\r[ | ]\r[ / ]\r[ — ]\r[ \\ ]\r[OK!]\n"
     ]
    }
   ],
   "source": [
    "rxnorm_umls_pipeline= nlp.PretrainedPipeline(\"rxnorm_umls_mapping\", \"en\", \"clinical/models\")"
   ]
  },
  {
   "cell_type": "code",
   "execution_count": 0,
   "metadata": {
    "application/vnd.databricks.v1+cell": {
     "cellMetadata": {
      "byteLimit": 2048000,
      "rowLimit": 10000
     },
     "inputWidgets": {},
     "nuid": "9ea72788-bea5-4ddc-b3b9-7d3e0fd4c079",
     "showTitle": false,
     "tableResultSettingsMap": {},
     "title": ""
    },
    "colab": {
     "base_uri": "https://localhost:8080/"
    },
    "id": "vyFDnF2s4MeQ",
    "outputId": "66581cb9-8f68-4f2a-bbb0-e97b191912bd"
   },
   "outputs": [
    {
     "output_type": "execute_result",
     "data": {
      "text/plain": [
       "{'document': ['1161611 315677 343663'],\n",
       " 'rxnorm_code': ['1161611', '315677', '343663'],\n",
       " 'umls_code': ['C3215948', 'C0984912', 'C1146501']}"
      ]
     },
     "execution_count": 94,
     "metadata": {},
     "output_type": "execute_result"
    }
   ],
   "source": [
    "rxnorm_umls_pipeline.annotate(\"1161611 315677 343663\")"
   ]
  },
  {
   "cell_type": "markdown",
   "metadata": {
    "application/vnd.databricks.v1+cell": {
     "cellMetadata": {},
     "inputWidgets": {},
     "nuid": "82eab97f-e47c-4bfd-9491-b800b9f31567",
     "showTitle": false,
     "tableResultSettingsMap": {},
     "title": ""
    },
    "id": "Fl3nevsU--Pi"
   },
   "source": [
    "|**RxNorm Code** | **RxNorm Details** | **UMLS Code** | **UMLS Details** |\n",
    "| ---------- | -----------:| ---------- | -----------:|\n",
    "| 1161611 |  metformin Pill | C3215948 | metformin pill |\n",
    "| 315677 | cimetidine 100 mg | C0984912 | cimetidine 100 mg |\n",
    "| 343663 | insulin lispro 50 UNT/ML | C1146501 | insulin lispro 50 unt/ml |"
   ]
  },
  {
   "cell_type": "markdown",
   "metadata": {
    "application/vnd.databricks.v1+cell": {
     "cellMetadata": {},
     "inputWidgets": {},
     "nuid": "336b310d-fec3-4034-8b07-acca72a26a6f",
     "showTitle": false,
     "tableResultSettingsMap": {},
     "title": ""
    }
   },
   "source": [
    "## Extra Informations"
   ]
  },
  {
   "cell_type": "markdown",
   "metadata": {
    "application/vnd.databricks.v1+cell": {
     "cellMetadata": {},
     "inputWidgets": {},
     "nuid": "ed6f8a13-60ca-423b-aaef-814c6e9b3533",
     "showTitle": false,
     "tableResultSettingsMap": {},
     "title": ""
    }
   },
   "source": [
    "**ExceptionHandling**\n",
    "\n",
    "A robust exception handling if the process is broken down due to corrupted inputs. If it is set as True, the annotator tries to process as usual and ff exception-causing data (e.g. corrupted record/ document) is passed to the annotator, an exception warning is emitted which has the exception message. Processing continues with the next one while the rest of the records within the same batch is parsed without interruption. This comes with a performance penalty. The default behaviour is False and will throw exception and break the process to inform users.\n",
    "\n",
    "\n",
    "*Example*:\n",
    "```python\n",
    "    chunk_mapper = medical.ChunkMapperApproach() \\\n",
    "    .setInputCols([\"ner_chunk\"]) \\\n",
    "    .setLowerCase(True) \\\n",
    "    .setRels([\"action\", \"treatment\"]) \\\n",
    "    .setDoExceptionHandling(True)\n",
    "```"
   ]
  }
 ],
 "metadata": {
  "application/vnd.databricks.v1+notebook": {
   "computePreferences": null,
   "dashboards": [],
   "environmentMetadata": null,
   "inputWidgetPreferences": null,
   "language": "python",
   "notebookMetadata": {
    "pythonIndentUnit": 2
   },
   "notebookName": "06.0.Chunk_Mapping",
   "widgets": {}
  },
  "colab": {
   "collapsed_sections": [],
   "machine_shape": "hm",
   "provenance": []
  },
  "gpuClass": "standard",
  "kernelspec": {
   "display_name": "Python 3",
   "name": "python3"
  },
  "language_info": {
   "name": "python"
  }
 },
 "nbformat": 4,
 "nbformat_minor": 0
}
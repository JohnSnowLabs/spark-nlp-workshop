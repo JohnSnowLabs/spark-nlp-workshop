{
 "cells": [
  {
   "cell_type": "markdown",
   "metadata": {
    "application/vnd.databricks.v1+cell": {
     "cellMetadata": {
      "byteLimit": 2048000,
      "rowLimit": 10000
     },
     "inputWidgets": {},
     "nuid": "1d75a0ef-c28c-467a-862c-75ce8b1ee67d",
     "showTitle": false,
     "title": ""
    },
    "id": "gkWLJu2nwE4t"
   },
   "source": [
    "![JohnSnowLabs](https://nlp.johnsnowlabs.com/assets/images/logo.png)"
   ]
  },
  {
   "cell_type": "markdown",
   "metadata": {
    "application/vnd.databricks.v1+cell": {
     "cellMetadata": {
      "byteLimit": 2048000,
      "rowLimit": 10000
     },
     "inputWidgets": {},
     "nuid": "b20d3c62-811f-4fde-876d-12bf5c745d44",
     "showTitle": false,
     "title": ""
    }
   },
   "source": [
    "# Clinical Entity Coding with Pretrained Resolver Models"
   ]
  },
  {
   "cell_type": "code",
   "execution_count": 0,
   "metadata": {
    "application/vnd.databricks.v1+cell": {
     "cellMetadata": {
      "byteLimit": 2048000,
      "rowLimit": 10000
     },
     "inputWidgets": {},
     "nuid": "6b1c7c20-7901-44e2-81f5-0f69dfa07b35",
     "showTitle": false,
     "title": ""
    }
   },
   "outputs": [],
   "source": [
    "from johnsnowlabs import nlp, medical"
   ]
  },
  {
   "cell_type": "code",
   "execution_count": 0,
   "metadata": {
    "application/vnd.databricks.v1+cell": {
     "cellMetadata": {
      "byteLimit": 2048000,
      "rowLimit": 10000
     },
     "inputWidgets": {},
     "nuid": "adeb7537-4490-48b4-b285-1a55fb8a946e",
     "showTitle": false,
     "title": ""
    }
   },
   "outputs": [
    {
     "output_type": "display_data",
     "data": {
      "application/vnd.databricks.v1+bamboolib_hint": "{\"pd.DataFrames\": [], \"version\": \"0.0.1\"}",
      "text/plain": []
     },
     "metadata": {},
     "output_type": "display_data"
    },
    {
     "output_type": "display_data",
     "data": {
      "text/html": [
       "\n",
       "            <div>\n",
       "                <p><b>SparkSession - hive</b></p>\n",
       "                \n",
       "        <div>\n",
       "            <p><b>SparkContext</b></p>\n",
       "\n",
       "            <p><a href=\"/?o=7956323724731612#setting/sparkui/1112-201629-lg699ln8/driver-4456648168114059067\">Spark UI</a></p>\n",
       "\n",
       "            <dl>\n",
       "              <dt>Version</dt>\n",
       "                <dd><code>v3.3.0</code></dd>\n",
       "              <dt>Master</dt>\n",
       "                <dd><code>spark://10.139.64.10:7077</code></dd>\n",
       "              <dt>AppName</dt>\n",
       "                <dd><code>Databricks Shell</code></dd>\n",
       "            </dl>\n",
       "        </div>\n",
       "        \n",
       "            </div>\n",
       "        "
      ]
     },
     "metadata": {
      "application/vnd.databricks.v1+output": {
       "addedWidgets": {},
       "arguments": {},
       "data": "\n            <div>\n                <p><b>SparkSession - hive</b></p>\n                \n        <div>\n            <p><b>SparkContext</b></p>\n\n            <p><a href=\"/?o=7956323724731612#setting/sparkui/1112-201629-lg699ln8/driver-4456648168114059067\">Spark UI</a></p>\n\n            <dl>\n              <dt>Version</dt>\n                <dd><code>v3.3.0</code></dd>\n              <dt>Master</dt>\n                <dd><code>spark://10.139.64.10:7077</code></dd>\n              <dt>AppName</dt>\n                <dd><code>Databricks Shell</code></dd>\n            </dl>\n        </div>\n        \n            </div>\n        ",
       "datasetInfos": [],
       "metadata": {},
       "removedWidgets": [],
       "textData": null,
       "type": "htmlSandbox"
      }
     },
     "output_type": "display_data"
    }
   ],
   "source": [
    "from pyspark.sql import DataFrame\n",
    "import pyspark.sql.functions as F\n",
    "import pyspark.sql.types as T\n",
    "import pyspark.sql as SQL\n",
    "from pyspark import keyword_only\n",
    "\n",
    "import os\n",
    "import json\n",
    "import string\n",
    "import numpy as np\n",
    "import pandas as pd\n",
    "\n",
    "from pyspark.ml import Pipeline, PipelineModel\n",
    "\n",
    "pd.set_option('max_colwidth', 100)\n",
    "pd.set_option('display.max_columns', 100)  \n",
    "pd.set_option('display.expand_frame_repr', False)\n",
    "\n",
    "spark"
   ]
  },
  {
   "cell_type": "markdown",
   "metadata": {
    "application/vnd.databricks.v1+cell": {
     "cellMetadata": {
      "byteLimit": 2048000,
      "rowLimit": 10000
     },
     "inputWidgets": {},
     "nuid": "acc7935b-2736-4b61-8ad0-75ffd21bdafb",
     "showTitle": false,
     "title": ""
    },
    "id": "_Z0kLCkMvBfi"
   },
   "source": [
    "# Sentence Entity Resolver Models"
   ]
  },
  {
   "cell_type": "markdown",
   "metadata": {
    "application/vnd.databricks.v1+cell": {
     "cellMetadata": {
      "byteLimit": 2048000,
      "rowLimit": 10000
     },
     "inputWidgets": {},
     "nuid": "a55067b4-58db-454a-9df7-5062a391c415",
     "showTitle": false,
     "title": ""
    },
    "id": "xsXTQ0QnLLoM"
   },
   "source": [
    "A common NLP problem in biomedical aplications is to identify the presence of clinical entities in a given text. This clinical entities could be diseases, symptoms, drugs, results of clinical investigations or others.\n",
    "\n",
    "To convert a sentence or document into a vector for semantic search or to build a recommendation system, one of the most popularly advised approaches is to pass the text through a transformer model like BERT, etc, and collect the embedding vector of CLS token or average out the embeddings of the tokens from the last layer to get a single vector.\n",
    "\n",
    "Truth be told, this approach of finding similar documents through embedding the CLS token or average embedding of the last layer performs much worse than averaging of word2vec/Glove embedding to form a sentence/document vector.\n",
    "On top of that, word2vec/Glove averaging is very fast to run when compared to extracting a vector through the transformer model.\n",
    "\n",
    "A better approach for transformer-based embedding is to use fine-tuned Siamese network variants (SBERT etc) that are trained to embed similar sentences/ documents to a closer embedding space and separate the non-similar ones. That’s what we are doing here at Sentence Resolvers and it is why we outperform Chunk Resolvers.\n",
    "\n",
    "Otherwise, the raw embedding vectors (CLS, etc) from the last layers of these transformer models don't yield any superior results for similarity search when compared to avg word2vec/Glove embeddings."
   ]
  },
  {
   "cell_type": "markdown",
   "metadata": {
    "application/vnd.databricks.v1+cell": {
     "cellMetadata": {
      "byteLimit": 2048000,
      "rowLimit": 10000
     },
     "inputWidgets": {},
     "nuid": "21df9524-5aa7-4aac-a50f-3462f05fb399",
     "showTitle": false,
     "title": ""
    },
    "id": "_EVvlgb9W5vx"
   },
   "source": [
    "<img src=\"https://github.com/JohnSnowLabs/spark-nlp-workshop/blob/master/tutorials/Certification_Trainings/Healthcare/data/Entity%20Resolution%20in%20Spark%20NLP%20for%20Healthcare.jpeg?raw=true\" width=\"1000\" alt=\"RxNorm Overview\">"
   ]
  },
  {
   "cell_type": "markdown",
   "metadata": {
    "application/vnd.databricks.v1+cell": {
     "cellMetadata": {
      "byteLimit": 2048000,
      "rowLimit": 10000
     },
     "inputWidgets": {},
     "nuid": "55d4ec8a-5c88-4490-9e10-e2669ba8ace2",
     "showTitle": false,
     "title": ""
    },
    "id": "y-b6ghtxLLoN"
   },
   "source": [
    "Other than providing the code in the \"result\" field it provides more metadata about the matching process:\n",
    "\n",
    "- target_text -> Text to resolve\n",
    "- resolved_text -> Best match text\n",
    "- confidence -> Relative confidence for the top match (distance to probability)\n",
    "- confidence_ratio -> Relative confidence for the top match. TopMatchConfidence / SecondMatchConfidence\n",
    "- alternative_codes -> List of other plausible codes (in the KNN neighborhood)\n",
    "- all_k_resolutions -> All codes descriptions\n",
    "- all_k_results -> All resolved codes for metrics calculation purposes\n",
    "- sentence -> SentenceId"
   ]
  },
  {
   "cell_type": "markdown",
   "metadata": {
    "application/vnd.databricks.v1+cell": {
     "cellMetadata": {
      "byteLimit": 2048000,
      "rowLimit": 10000
     },
     "inputWidgets": {},
     "nuid": "9948a8b1-802d-4195-b6d1-8c85b4b9d284",
     "showTitle": false,
     "title": ""
    },
    "id": "R-mYgEdiLLoN"
   },
   "source": [
    "We create a new pipeline that from each of these problems will try to assign an resolution on the content, the sentence embeddings and some pretrained models for resolver annotation.\n",
    "\n",
    "The architecture of this new pipeline will be as follows:\n",
    "\n",
    "- DocumentAssembler (text -> document)\n",
    "\n",
    "- SentenceDetector (document -> sentence)\n",
    "\n",
    "- Tokenizer (sentence -> token)\n",
    "\n",
    "- WordEmbeddingsModel ([sentence, token] -> embeddings)\n",
    "\n",
    "- MedicalNerModel ([sentence, token, embeddings] -> ner)\n",
    "\n",
    "- NerConverter ([\"sentence, token, ner] -> ner_chunk\n",
    "\n",
    "- Chunk2Doc (ner_chunk) -> ner_chunk_doc\n",
    "\n",
    "- BertSentenceEmbeddings (ner_chunk_doc) -> sbert_embeddings\n",
    "\n",
    "- SentenceEntityResolverModel ([ner_chunk, sbert_embeddings] -> resolution)\n",
    "\n",
    "So from a text we end having a list of Named Entities (ner_chunk) and their resolutions."
   ]
  },
  {
   "cell_type": "markdown",
   "metadata": {
    "application/vnd.databricks.v1+cell": {
     "cellMetadata": {
      "byteLimit": 2048000,
      "rowLimit": 10000
     },
     "inputWidgets": {},
     "nuid": "78f76ed1-337f-4a09-a771-be780ec57e6e",
     "showTitle": false,
     "title": ""
    },
    "id": "kdzhLd6NLLoN"
   },
   "source": [
    "`setPreservePosition(True)` takes exactly the original indices (under some tokenization conditions it might include some undesires chars like `\")\",\"]\"...)`\n",
    "\n",
    "`setPreservePosition(False)` takes adjusted indices based on substring indexing of the first (for begin) and last (for end) tokens"
   ]
  },
  {
   "cell_type": "markdown",
   "metadata": {
    "application/vnd.databricks.v1+cell": {
     "cellMetadata": {
      "byteLimit": 2048000,
      "rowLimit": 10000
     },
     "inputWidgets": {},
     "nuid": "f3239e8b-9d51-4ac3-a3bd-fe2a03db6d59",
     "showTitle": false,
     "title": ""
    },
    "id": "Hb3FMyz5mKCX"
   },
   "source": [
    "<center><b>MODEL LIST</b>\n",
    "\n",
    "|index|model|index|model|index|model|index|model|\n",
    "|-----:|:-----|-----:|:-----|-----:|:-----|-----:|:-----|\n",
    "| 1| [sbertresolve_icd10cm_augmented](https://nlp.johnsnowlabs.com/2023/05/31/sbertresolve_icd10cm_augmented_en.html)  | 2| [sbertresolve_icd10cm_augmented_billable_hcc](https://nlp.johnsnowlabs.com/2023/05/31/sbertresolve_icd10cm_augmented_billable_hcc_en.html)  | 3| [sbertresolve_icd10cm_slim_billable_hcc](https://nlp.johnsnowlabs.com/2023/05/31/sbertresolve_icd10cm_slim_billable_hcc_en.html)  | 4| [sbertresolve_icd10cm_slim_billable_hcc_med](https://nlp.johnsnowlabs.com/2021/05/25/sbertresolve_icd10cm_slim_billable_hcc_med_en.html)  |\n",
    "| 5| [sbertresolve_jsl_rxnorm_augmented_med](https://nlp.johnsnowlabs.com/2021/12/28/sbertresolve_jsl_rxnorm_augmented_med_en.html)  | 6| [sbertresolve_ner_model_finder](https://nlp.johnsnowlabs.com/2022/09/05/sbertresolve_ner_model_finder_en.html)  | 7| [sbertresolve_rxnorm_disposition](https://nlp.johnsnowlabs.com/2021/08/28/sbertresolve_rxnorm_disposition_en.html)  | 8| [sbertresolve_snomed_bodyStructure_med](https://nlp.johnsnowlabs.com/2021/06/15/sbertresolve_snomed_bodyStructure_med_en.html)  |\n",
    "| 9| [sbertresolve_snomed_conditions](https://nlp.johnsnowlabs.com/2021/08/28/sbertresolve_snomed_conditions_en.html)  | 10| [sbiobert_jsl_rxnorm_cased](https://nlp.johnsnowlabs.com/2021/12/23/sbiobert_jsl_rxnorm_cased_en.html)  | 11| [sbiobertresolve_HPO](https://nlp.johnsnowlabs.com/2021/05/16/sbiobertresolve_HPO_en.html)  | 12| [sbiobertresolve_atc](https://nlp.johnsnowlabs.com/2022/03/01/sbiobertresolve_atc_en_3_0.html)  |\n",
    "| 13| [sbiobertresolve_clinical_abbreviation_acronym](https://nlp.johnsnowlabs.com/2022/01/03/sbiobertresolve_clinical_abbreviation_acronym_en.html)  | 14| [sbiobertresolve_clinical_snomed_procedures_measurements](https://nlp.johnsnowlabs.com/2021/11/15/sbiobertresolve_clinical_snomed_procedures_measurements_en.html)  | 15| [sbiobertresolve_cpt](https://nlp.johnsnowlabs.com/2020/11/27/sbiobertresolve_cpt_en.html)  | 16| [sbiobertresolve_cpt_augmented](https://nlp.johnsnowlabs.com/2021/05/30/sbiobertresolve_cpt_augmented_en.html)  |\n",
    "| 17| [sbiobertresolve_cpt_procedures_augmented](https://nlp.johnsnowlabs.com/2021/05/30/sbiobertresolve_cpt_procedures_augmented_en.html)  | 18| [sbiobertresolve_cpt_procedures_measurements_augmented](https://nlp.johnsnowlabs.com/2022/05/10/sbiobertresolve_cpt_procedures_measurements_augmented_en_3_0.html)  | 19| [sbiobertresolve_cvx](https://nlp.johnsnowlabs.com/2022/10/12/sbiobertresolve_cvx_en.html)  | 20| [sbiobertresolve_hcc_augmented](https://nlp.johnsnowlabs.com/2023/05/31/sbiobertresolve_hcc_augmented_en.html)  |\n",
    "| 21| [sbiobertresolve_hcpcs](https://nlp.johnsnowlabs.com/2021/09/29/sbiobertresolve_hcpcs_en.html)  | 22| [sbiobertresolve_hgnc](https://nlp.johnsnowlabs.com/2023/03/26/sbiobertresolve_hgnc_en.html)  | 23| [sbiobertresolve_icd10cm](https://nlp.johnsnowlabs.com/2020/11/27/sbiobertresolve_icd10cm_en.html)  | 24| [sbiobertresolve_icd10cm_augmented](https://nlp.johnsnowlabs.com/2021/10/31/sbiobertresolve_icd10cm_augmented_en.html)  |\n",
    "| 25| [sbiobertresolve_icd10cm_augmented_billable_hcc](https://nlp.johnsnowlabs.com/2021/11/01/sbiobertresolve_icd10cm_augmented_billable_hcc_en.html)  | 26| [sbiobertresolve_icd10cm_generalised](https://nlp.johnsnowlabs.com/2021/09/29/sbiobertresolve_icd10cm_generalised_en.html)  | 27| [sbiobertresolve_icd10cm_generalised_augmented](https://nlp.johnsnowlabs.com/2023/05/31/sbiobertresolve_icd10cm_generalised_augmented_en.html)  | 28| [sbiobertresolve_icd10cm_slim_billable_hcc](https://nlp.johnsnowlabs.com/2023/05/31/sbiobertresolve_icd10cm_slim_billable_hcc_en.html)  |\n",
    "| 29| [sbiobertresolve_icd10cm_slim_normalized](https://nlp.johnsnowlabs.com/2021/05/17/sbiobertresolve_icd10cm_slim_normalized_en.html)  | 30| [sbiobertresolve_icd10pcs](https://nlp.johnsnowlabs.com/2020/11/27/sbiobertresolve_icd10pcs_en.html)  | 31| [sbiobertresolve_icd10pcs_augmented](https://nlp.johnsnowlabs.com/2022/10/28/sbiobertresolve_icd10pcs_augmented_en.html)  | 32| [sbiobertresolve_icd9](https://nlp.johnsnowlabs.com/2022/09/30/sbiobertresolve_icd9_en.html)  |\n",
    "| 33| [sbiobertresolve_icdo](https://nlp.johnsnowlabs.com/2020/11/27/sbiobertresolve_icdo_en.html)  | 34| [sbiobertresolve_icdo_augmented](https://nlp.johnsnowlabs.com/2021/06/22/sbiobertresolve_icdo_augmented_en.html)  | 35| [sbiobertresolve_icdo_base](https://nlp.johnsnowlabs.com/2021/07/02/sbiobertresolve_icdo_base_en.html)  | 36| [sbiobertresolve_jsl_rxnorm_augmented](https://nlp.johnsnowlabs.com/2021/12/27/sbiobertresolve_jsl_rxnorm_augmented_en.html)  |\n",
    "| 37| [sbiobertresolve_loinc](https://nlp.johnsnowlabs.com/2021/05/16/sbiobertresolve_loinc_en.html)  | 38| [sbiobertresolve_loinc_augmented](https://nlp.johnsnowlabs.com/2021/11/23/sbiobertresolve_loinc_augmented_en.html)  | 39| [sbiobertresolve_loinc_cased](https://nlp.johnsnowlabs.com/2021/12/24/sbiobertresolve_loinc_cased_en.html) |40|[sbiobertresolve_loinc_numeric ](https://nlp.johnsnowlabs.com/2023/08/01/sbiobertresolve_loinc_numeric_en.html)|\n",
    "| 41| [sbiobertresolve_mesh](https://nlp.johnsnowlabs.com/2021/11/14/sbiobertresolve_mesh_en.html)  | 42| [sbiobertresolve_ncit](https://nlp.johnsnowlabs.com/2023/03/26/sbiobertresolve_ncit_en.html)  | 43| [sbiobertresolve_ndc](https://nlp.johnsnowlabs.com/2021/11/27/sbiobertresolve_ndc_en.html)  | 44| [sbiobertresolve_rxcui](https://nlp.johnsnowlabs.com/2021/05/16/sbiobertresolve_rxcui_en.html)  \n",
    "| 45| [sbiobertresolve_rxnorm](https://nlp.johnsnowlabs.com/2021/10/10/sbiobertresolve_rxnorm_en.html)  | 46| [sbiobertresolve_rxnorm_action_treatment](https://nlp.johnsnowlabs.com/2022/04/25/sbiobertresolve_rxnorm_action_treatment_en_2_4.html)  | 47| [sbiobertresolve_rxnorm_augmented](https://nlp.johnsnowlabs.com/2022/01/03/sbiobertresolve_rxnorm_augmented_en.html) | 48|[sbiobertresolve_rxnorm_augmented_cased](https://nlp.johnsnowlabs.com/2021/12/28/sbiobertresolve_rxnorm_augmented_cased_en.html)  \n",
    "| 49| [sbiobertresolve_rxnorm_augmented_re](https://nlp.johnsnowlabs.com/2022/02/09/sbiobertresolve_rxnorm_augmented_re_en.html)  |50| [sbiobertresolve_rxnorm_disposition](https://nlp.johnsnowlabs.com/2021/08/12/sbiobertresolve_rxnorm_disposition_en.html)  | 51| [sbiobertresolve_rxnorm_ndc](https://nlp.johnsnowlabs.com/2021/10/05/sbiobertresolve_rxnorm_ndc_en.html)  | 52| [sbiobertresolve_rxnorm_nih](https://nlp.johnsnowlabs.com/2023/02/22/sbiobertresolve_rxnorm_nih_en.html)  \n",
    "| 53| [sbiobertresolve_snomed_auxConcepts](https://nlp.johnsnowlabs.com/2020/11/27/sbiobertresolve_snomed_auxConcepts_en.html) | 54| [sbiobertresolve_snomed_auxConcepts_int](https://nlp.johnsnowlabs.com/2020/11/27/sbiobertresolve_snomed_auxConcepts_int_en.html)  | 55| [sbiobertresolve_snomed_bodyStructure](https://nlp.johnsnowlabs.com/2021/06/15/sbiobertresolve_snomed_bodyStructure_en.html)|56| [sbiobertresolve_snomed_drug](https://nlp.johnsnowlabs.com/2022/01/18/sbiobertresolve_snomed_drug_en.html)  \n",
    "| 57| [sbiobertresolve_snomed_findings](https://nlp.johnsnowlabs.com/2020/11/27/sbiobertresolve_snomed_findings_en.html)  |58| [sbiobertresolve_snomed_findings_aux_concepts](https://nlp.johnsnowlabs.com/2022/02/26/sbiobertresolve_snomed_findings_aux_concepts_en_3_0.html)  | 59| [sbiobertresolve_snomed_findings_int](https://nlp.johnsnowlabs.com/2020/11/27/sbiobertresolve_snomed_findings_int_en.html)| 60| [sbiobertresolve_snomed_procedures_measurements](https://nlp.johnsnowlabs.com/2021/11/11/sbiobertresolve_snomed_procedures_measurements_en.html)  \n",
    "| 61| [sbiobertresolve_umls_clinical_drugs](https://nlp.johnsnowlabs.com/2021/10/11/sbiobertresolve_umls_clinical_drugs_en.html)  |62|[sbiobertresolve_umls_disease_syndrome](https://nlp.johnsnowlabs.com/2021/10/11/sbiobertresolve_umls_disease_syndrome_en.html)  | 63| [sbiobertresolve_umls_drug_substance](https://nlp.johnsnowlabs.com/2021/12/06/sbiobertresolve_umls_drug_substance_en.html) | 64| [sbiobertresolve_umls_findings](https://nlp.johnsnowlabs.com/2021/10/03/sbiobertresolve_umls_findings_en.html)  \n",
    "| 65| [sbiobertresolve_umls_major_concepts](https://nlp.johnsnowlabs.com/2021/10/03/sbiobertresolve_umls_major_concepts_en.html)  | 66| [sbluebertresolve_loinc](https://nlp.johnsnowlabs.com/2021/04/29/sbluebertresolve_loinc_en.html)  | 67| [sbluebertresolve_loinc_uncased](https://nlp.johnsnowlabs.com/2022/01/18/sbluebertresolve_loinc_uncased_en.html)  | 68|[sbluebertresolve_rxnorm_augmented_uncased](https://nlp.johnsnowlabs.com/2021/12/28/sbluebertresolve_rxnorm_augmented_uncased_en.html)  |\n",
    "\n",
    "<br>\n",
    "<br>\n",
    "\n",
    "<b>PRETRAINED PIPELINE LIST</b>\n",
    "\n",
    "|index|model|index|model|\n",
    "|-----:|:-----|-----:|:-----|\n",
    "| 1| [cvx_resolver_pipeline](https://nlp.johnsnowlabs.com/2022/10/12/cvx_resolver_pipeline_en.html)  | 2| [icd10cm_resolver_pipeline](https://nlp.johnsnowlabs.com/2022/11/02/icd10cm_resolver_pipeline_en.html) \n",
    "| 3| [icd9_resolver_pipeline](https://nlp.johnsnowlabs.com/2022/09/30/icd9_resolver_pipeline_en.html) | 4| [medication_resolver_pipeline](https://nlp.johnsnowlabs.com/2022/09/01/medication_resolver_pipeline_en.html)  \n",
    "| 5| [medication_resolver_transform_pipeline](https://nlp.johnsnowlabs.com/2022/09/01/medication_resolver_transform_pipeline_en.html)  | 6| [umls_clinical_findings_resolver_pipeline](https://nlp.johnsnowlabs.com/2022/07/26/umls_clinical_findings_resolver_pipeline_en_3_0.html)  \n",
    "| 7| [umls_disease_syndrome_resolver_pipeline](https://nlp.johnsnowlabs.com/2022/07/26/umls_disease_syndrome_resolver_pipeline_en_3_0.html)  | 8| [umls_drug_resolver_pipeline](https://nlp.johnsnowlabs.com/2022/07/26/umls_drug_resolver_pipeline_en_3_0.html)  \n",
    "| 9| [umls_drug_substance_resolver_pipeline](https://nlp.johnsnowlabs.com/2022/07/25/umls_drug_substance_resolver_pipeline_en_3_0.html)  | 10| [umls_major_concepts_resolver_pipeline](https://nlp.johnsnowlabs.com/2022/07/25/umls_major_concepts_resolver_pipeline_en_3_0.html)  \n",
    "| 11| [explain_clinical_doc_generic](https://nlp.johnsnowlabs.com/2024/01/16/explain_clinical_doc_generic_en.html) |12| [explain_clinical_doc_oncology](https://nlp.johnsnowlabs.com/2024/01/16/explain_clinical_doc_oncology_en.html)  \n",
    "| 13| [explain_clinical_doc_vop](https://nlp.johnsnowlabs.com/2024/01/16/explain_clinical_doc_vop_en.html)  | 14| [ner_vop_pipeline](https://nlp.johnsnowlabs.com/2024/01/10/ner_vop_pipeline_en.html)  \n",
    "| 15| [ner_oncology_pipeline](https://nlp.johnsnowlabs.com/2024/01/08/ner_oncology_pipeline_en.html)  | 16| [oncology_diagnosis_pipeline](https://nlp.johnsnowlabs.com/2024/01/09/oncology_diagnosis_pipeline_en.html)  |\n",
    "| 17| [clinical_deidentification](https://nlp.johnsnowlabs.com/2024/01/10/clinical_deidentification_en.html)  | 18| [clinical_deidentification_langtest](https://nlp.johnsnowlabs.com/2024/01/10/clinical_deidentification_langtest_en.html)  |\n",
    "| 19| [summarizer_clinical_laymen_onnx_pipeline](https://nlp.johnsnowlabs.com/2024/01/09/summarizer_clinical_laymen_onnx_pipeline_en.html)  | 20| [clinical_notes_qa_base_onnx_pipeline](https://nlp.johnsnowlabs.com/2024/01/10/clinical_notes_qa_base_onnx_pipeline_en.html)  |\n",
    "| 21| [clinical_notes_qa_large_onnx_pipeline](https://nlp.johnsnowlabs.com/2024/01/10/clinical_notes_qa_large_onnx_pipeline_en.html)  | 22| [medical_qa_biogpt_pipeline](https://nlp.johnsnowlabs.com/2024/01/09/medical_qa_biogpt_pipeline_en.html)  |\n",
    "| 23| [flan_t5_base_jsl_qa_pipeline](https://nlp.johnsnowlabs.com/2024/01/10/flan_t5_base_jsl_qa_pipeline_en.html) | 24| [atc_resolver_pipeline](https://nlp.johnsnowlabs.com/2024/01/17/atc_resolver_pipeline_en.html)  |\n",
    "| 25| [cpt_procedures_measurements_resolver_pipeline](https://nlp.johnsnowlabs.com/2024/01/17/cpt_procedures_measurements_resolver_pipeline_en.html)  | 26| [hcc_resolver_pipeline](https://nlp.johnsnowlabs.com/2024/01/17/hcc_resolver_pipeline_en.html)  |\n",
    "| 27| [hpo_resolver_pipeline](https://nlp.johnsnowlabs.com/2024/01/17/hpo_resolver_pipeline_en.html)  | 28| [snomed_body_structure_resolver_pipeline](https://nlp.johnsnowlabs.com/2024/01/17/snomed_body_structure_resolver_pipeline_en.html)  |\n",
    "| 29| [snomed_findings_resolver_pipeline](https://nlp.johnsnowlabs.com/2024/01/17/snomed_findings_resolver_pipeline_en.html)  | 30|[icd10pcs_resolver_pipeline](https://nlp.johnsnowlabs.com/2024/02/02/icd10pcs_resolver_pipeline_en.html)|\n",
    "| 31|[icdo_resolver_pipeline](https://nlp.johnsnowlabs.com/2024/02/02/icdo_resolver_pipeline_en.html)| 32|[loinc_resolver_pipeline](https://nlp.johnsnowlabs.com/2024/02/02/loinc_resolver_pipeline_en.html)|\n",
    "| 33|[loinc_numeric_resolver_pipeline](https://nlp.johnsnowlabs.com/2024/01/30/loinc_numeric_resolver_pipeline_en.html)| 34|[snomed_body_structure_resolver_pipeline](https://nlp.johnsnowlabs.com/2024/01/17/snomed_body_structure_resolver_pipeline_en.html)|\n",
    "| 35|[snomed_findings_resolver_pipeline](https://nlp.johnsnowlabs.com/2024/01/17/snomed_findings_resolver_pipeline_en.html)| 36|[snomed_procedures_measurements_resolver_pipeline](https://nlp.johnsnowlabs.com/2024/01/31/snomed_findings_resolver_pipelin_en.html)|\n",
    "| 37|[mesh_resolver_pipeline](https://nlp.johnsnowlabs.com/2024/01/25/mesh_resolver_pipeline_en.html)| 38|[ndc_resolver_pipeline](https://nlp.johnsnowlabs.com/2024/01/25/ndc_resolver_pipeline_en.html)|\n",
    "| 39|[ncit_resolver_pipeline](https://nlp.johnsnowlabs.com/2024/01/25/ncit_resolver_pipeline_en.html)| 40|[rxcui_resolver_pipeline](https://nlp.johnsnowlabs.com/2024/02/01/rxcui_resolver_pipeline_en.html)|\n",
    "| 41|[hcpcs_resolver_pipeline](https://nlp.johnsnowlabs.com/2024/01/30/hcpcs_resolver_pipeline_en.html)| 42|[hgnc_resolver_pipeline](https://nlp.johnsnowlabs.com/2024/01/30/hgnc_resolver_pipeline_en.html)|\n",
    "| 43|[icd10cm_generalised_resolver_pipeline](https://nlp.johnsnowlabs.com/2024/01/30/icd10cm_generalised_resolver_pipeline_en.html)|\n",
    "\n",
    "\n",
    "\n",
    "\n",
    "\n",
    "\n",
    "\n",
    "</center>\n",
    "\n",
    "You can find all resolver models and more on [Models Hub](https://nlp.johnsnowlabs.com/models?task=Entity+Resolution&edition=Spark+NLP+for+Healthcare) page."
   ]
  },
  {
   "cell_type": "markdown",
   "metadata": {
    "application/vnd.databricks.v1+cell": {
     "cellMetadata": {
      "byteLimit": 2048000,
      "rowLimit": 10000
     },
     "inputWidgets": {},
     "nuid": "9e140ec5-53f4-489b-988b-d272b208e708",
     "showTitle": false,
     "title": ""
    }
   },
   "source": [
    "### Helper Functions\n",
    "Writing Generic Function For Getting the Codes and Relation Pairs"
   ]
  },
  {
   "cell_type": "code",
   "execution_count": 0,
   "metadata": {
    "application/vnd.databricks.v1+cell": {
     "cellMetadata": {
      "byteLimit": 2048000,
      "rowLimit": 10000
     },
     "inputWidgets": {},
     "nuid": "9627ab7a-0f68-4878-86d4-ff4f3d090325",
     "showTitle": false,
     "title": ""
    }
   },
   "outputs": [],
   "source": [
    "# returns LP resolution results\n",
    "\n",
    "import pandas as pd\n",
    "pd.set_option('display.max_colwidth', 0)\n",
    "\n",
    "\n",
    "def get_codes (lp, text, vocab='icd10cm_code', hcc=False):\n",
    "    \n",
    "    full_light_result = lp.fullAnnotate(text)\n",
    "\n",
    "    chunks = []\n",
    "    codes = []\n",
    "    begin = []\n",
    "    end = []\n",
    "    resolutions=[]\n",
    "    all_distances =[]\n",
    "    all_codes=[]\n",
    "    all_cosines = []\n",
    "    all_k_aux_labels=[]\n",
    "\n",
    "    for chunk, code in zip(full_light_result[0]['ner_chunk'], full_light_result[0][vocab]):\n",
    "            \n",
    "        begin.append(chunk.begin)\n",
    "        end.append(chunk.end)\n",
    "        chunks.append(chunk.result)\n",
    "        codes.append(code.result) \n",
    "        all_codes.append(code.metadata['all_k_results'].split(':::'))\n",
    "        resolutions.append(code.metadata['all_k_resolutions'].split(':::'))\n",
    "        all_distances.append(code.metadata['all_k_distances'].split(':::'))\n",
    "        all_cosines.append(code.metadata['all_k_cosine_distances'].split(':::'))\n",
    "        if hcc:\n",
    "            try:\n",
    "                all_k_aux_labels.append(code.metadata['all_k_aux_labels'].split(':::'))\n",
    "            except:\n",
    "                all_k_aux_labels.append([])\n",
    "        else:\n",
    "            all_k_aux_labels.append([])\n",
    "\n",
    "    df = pd.DataFrame({'chunks':chunks, 'begin': begin, 'end':end, 'code':codes, 'all_codes':all_codes, \n",
    "                       'resolutions':resolutions, 'all_k_aux_labels':all_k_aux_labels,'all_distances':all_cosines})\n",
    "    \n",
    "    if hcc:\n",
    "\n",
    "        df['billable'] = df['all_k_aux_labels'].apply(lambda x: [i.split('||')[0] for i in x])\n",
    "        df['hcc_status'] = df['all_k_aux_labels'].apply(lambda x: [i.split('||')[1] for i in x])\n",
    "        df['hcc_code'] = df['all_k_aux_labels'].apply(lambda x: [i.split('||')[2] for i in x])\n",
    "\n",
    "    df = df.drop(['all_k_aux_labels'], axis=1)\n",
    "    \n",
    "    return df\n",
    "\n"
   ]
  },
  {
   "cell_type": "code",
   "execution_count": 0,
   "metadata": {
    "application/vnd.databricks.v1+cell": {
     "cellMetadata": {
      "byteLimit": 2048000,
      "rowLimit": 10000
     },
     "inputWidgets": {},
     "nuid": "33ca4294-1d52-46ab-9bbb-dc975d51b79f",
     "showTitle": false,
     "title": ""
    },
    "id": "ycCgwwain7qz"
   },
   "outputs": [],
   "source": [
    "import pandas as pd\n",
    "\n",
    "pd.set_option('display.max_colwidth', 0)\n",
    "\n",
    "def get_codes_from_df(result_df, chunk, output_col, hcc= False):\n",
    "    \n",
    "    \n",
    "    if hcc:\n",
    "        \n",
    "        df = result_df.select(F.explode(F.arrays_zip(result_df[chunk].result, \n",
    "                                                    result_df[chunk].metadata, \n",
    "                                                    result_df[output_col].result, \n",
    "                                                    result_df[output_col].metadata)).alias(\"cols\")) \\\n",
    "                      .select(F.expr(\"cols['1']['sentence']\").alias(\"sent_id\"),\n",
    "                              F.expr(\"cols['0']\").alias(\"ner_chunk\"),\n",
    "                              F.expr(\"cols['1']['entity']\").alias(\"entity\"), \n",
    "                              F.expr(\"cols['2']\").alias(\"icd10_code\"),\n",
    "                              F.expr(\"cols['3']['all_k_results']\").alias(\"all_codes\"),\n",
    "                              F.expr(\"cols['3']['all_k_resolutions']\").alias(\"resolutions\"),\n",
    "                              F.expr(\"cols['3']['all_k_aux_labels']\").alias(\"hcc_list\")).toPandas()\n",
    "\n",
    "\n",
    "\n",
    "        codes = []\n",
    "        resolutions = []\n",
    "        hcc_all = []\n",
    "\n",
    "        for code, resolution, hcc in zip(df['all_codes'], df['resolutions'], df['hcc_list']):\n",
    "\n",
    "            codes.append(code.split(':::'))\n",
    "            resolutions.append(resolution.split(':::'))\n",
    "            hcc_all.append(hcc.split(\":::\"))\n",
    "\n",
    "        df['all_codes'] = codes  \n",
    "        df['resolutions'] = resolutions\n",
    "        df['hcc_list'] = hcc_all\n",
    "        \n",
    "    else:\n",
    "                      \n",
    "        df = result_df.select(F.explode(F.arrays_zip(result_df[chunk].result, \n",
    "                                                    result_df[chunk].metadata, \n",
    "                                                    result_df[output_col].result, \n",
    "                                                    result_df[output_col].metadata)).alias(\"cols\")) \\\n",
    "                                     .select(F.expr(\"cols['1']['sentence']\").alias(\"sent_id\"),\n",
    "                                             F.expr(\"cols['0']\").alias(\"ner_chunk\"),\n",
    "                                             F.expr(\"cols['1']['entity']\").alias(\"entity\"), \n",
    "                                             F.expr(\"cols['2']\").alias(f\"{output_col}\"),\n",
    "                                             F.expr(\"cols['3']['all_k_results']\").alias(\"all_codes\"),\n",
    "                                             F.expr(\"cols['3']['all_k_resolutions']\").alias(\"resolutions\")).toPandas()\n",
    "\n",
    "\n",
    "\n",
    "        codes = []\n",
    "        resolutions = []\n",
    "\n",
    "        for code, resolution in zip(df['all_codes'], df['resolutions']):\n",
    "\n",
    "            codes.append(code.split(':::'))\n",
    "            resolutions.append(resolution.split(':::'))\n",
    "\n",
    "        df['all_codes'] = codes  \n",
    "        df['resolutions'] = resolutions\n",
    "        \n",
    "    \n",
    "    return df"
   ]
  },
  {
   "cell_type": "code",
   "execution_count": 0,
   "metadata": {
    "application/vnd.databricks.v1+cell": {
     "cellMetadata": {
      "byteLimit": 2048000,
      "rowLimit": 10000
     },
     "inputWidgets": {},
     "nuid": "db82177c-8081-45b2-a939-0fa098087171",
     "showTitle": false,
     "title": ""
    }
   },
   "outputs": [],
   "source": [
    "# returns billable informations in distinct columns\n",
    "\n",
    "def extract_billable(bil):\n",
    "  \n",
    "    billable = []\n",
    "    status = []\n",
    "    code = []\n",
    " \n",
    "    for b in bil:\n",
    "        billable.append(b.split(\"||\")[0])\n",
    "        status.append(b.split(\"||\")[1])\n",
    "        code.append(b.split(\"||\")[2])\n",
    "\n",
    "    return (billable, status, code)"
   ]
  },
  {
   "cell_type": "code",
   "execution_count": 0,
   "metadata": {
    "application/vnd.databricks.v1+cell": {
     "cellMetadata": {
      "byteLimit": 2048000,
      "rowLimit": 10000
     },
     "inputWidgets": {},
     "nuid": "0a98f862-de05-45e2-8e60-7e7b08e7275d",
     "showTitle": false,
     "title": ""
    }
   },
   "outputs": [],
   "source": [
    "# returns relation pair dataframe\n",
    "\n",
    "def get_relations_df (results, col='relations'):\n",
    "    rel_pairs=[]\n",
    "    for rel in results[0][col]:\n",
    "        rel_pairs.append(( \n",
    "          rel.metadata['entity1'], \n",
    "          rel.metadata['entity1_begin'],\n",
    "          rel.metadata['entity1_end'],\n",
    "          rel.metadata['chunk1'], \n",
    "          rel.metadata['entity2'],\n",
    "          rel.metadata['entity2_begin'],\n",
    "          rel.metadata['entity2_end'],\n",
    "          rel.metadata['chunk2'], \n",
    "          rel.metadata['confidence']\n",
    "        ))\n",
    "\n",
    "    rel_df = pd.DataFrame(rel_pairs, columns=['entity1','entity1_begin','entity1_end','chunk1',\n",
    "                                              'entity2','entity2_end','entity2_end','chunk2', \n",
    "                                              'confidence'])\n",
    "    \n",
    "    # limit df columns to get entity and chunks with results only\n",
    "    rel_df = rel_df.iloc[:,[0,3,4,7,8]]\n",
    "    \n",
    "    return rel_df"
   ]
  },
  {
   "cell_type": "markdown",
   "metadata": {
    "application/vnd.databricks.v1+cell": {
     "cellMetadata": {
      "byteLimit": 2048000,
      "rowLimit": 10000
     },
     "inputWidgets": {},
     "nuid": "835373a2-5e02-41cb-9e7b-073aefbc7dff",
     "showTitle": false,
     "title": ""
    },
    "id": "zsEtzseok6fu"
   },
   "source": [
    "## Sentence Entity Resolver (RxNorm)"
   ]
  },
  {
   "cell_type": "markdown",
   "metadata": {
    "application/vnd.databricks.v1+cell": {
     "cellMetadata": {
      "byteLimit": 2048000,
      "rowLimit": 10000
     },
     "inputWidgets": {},
     "nuid": "efb74b64-5bab-40e3-9a81-281224634639",
     "showTitle": false,
     "title": ""
    },
    "id": "z6DSxverv4WD"
   },
   "source": [
    "- RxNorm is a second vocabulary for prescription drugs. RxNorm provides a set of codes for clinical drugs, which are the combination of active ingredients, dose form, and strength of a drug. For example, the RxNorm code for ciprofloxacin 500 mg 24-hour extended-release tablet (the generic name for Cipro XR 500 mg) is RX10359383, regardless of brand or packaging.\n",
    "\n",
    "- The goal of RxNorm is to allow computer systems to communicate drug-related information efficiently and unambiguously. Produced by the National Library of Medicine (NLM), RxNorm is available for distribution in both Metathesaurus Relation (MR) and Rich Release Format (RRF) tables. Currently there are no RxNorm names available for drugs with more than four active ingredients, those that are sold over the counter (OTC) or those that are international, due to the lack of appropriate information available about such drugs. \n",
    "\n",
    "\n",
    "<img src=\"https://www.nlm.nih.gov/research/umls/rxnorm/RxNorm_Drug_Relationships.png\" width=\"750\" alt=\"RxNorm Overview\">\n",
    "\n",
    "**Pretrained Models**\n",
    "\n",
    "- `sbiobertresolve_rxnorm`\n",
    "- `demo_sbiobertresolve_rxnorm`\n",
    "- `sbiobertresolve_rxnorm_dispo`\n",
    "- `sbiobertresolve_rxnorm_disposition`\n",
    "- `sbertresolve_rxnorm_disposition`\n",
    "- `sbiobertresolve_rxnorm_ndc`\n",
    "- `sbiobertresolve_rxnorm_augmented`\n",
    "- `sbiobertresolve_rxnorm_augmented_re`"
   ]
  },
  {
   "cell_type": "code",
   "execution_count": 0,
   "metadata": {
    "application/vnd.databricks.v1+cell": {
     "cellMetadata": {
      "byteLimit": 2048000,
      "rowLimit": 10000
     },
     "inputWidgets": {},
     "nuid": "c8162598-eb1b-4d1c-9e56-2ca0f5f6f3b9",
     "showTitle": false,
     "title": ""
    },
    "colab": {
     "base_uri": "https://localhost:8080/"
    },
    "id": "z_SjW7zuk7oU",
    "outputId": "b3848d7a-1517-427d-9638-be8669314871"
   },
   "outputs": [
    {
     "output_type": "stream",
     "name": "stdout",
     "output_type": "stream",
     "text": [
      "sbiobert_base_cased_mli download started this may take some time.\nApproximate size to download 384.3 MB\n\r[ | ]\r[OK!]\nsbiobertresolve_rxnorm_augmented download started this may take some time.\n\r[ | ]\r[ / ]\r[ — ]\r[ \\ ]\r[ | ]\r[ / ]\r[ — ]\r[ \\ ]\r[ | ]\r[ / ]\r[ — ]\r[ \\ ]\r[ | ]\r[ / ]\r[ — ]\r[ \\ ]\r[ | ]\r[ / ]\r[ — ]\r[ \\ ]\r[ | ]\r[ / ]\r[ — ]\r[ \\ ]\r[ | ]\r[ / ]\r[ — ]\r[ \\ ]\r[ | ]\r[ / ]\r[ — ]\r[ \\ ]\r[ | ]\r[ / ]\r[ — ]\r[ \\ ]\r[ | ]\r[ / ]\r[ — ]\r[ \\ ]\r[ | ]\r[ / ]\r[ — ]\r[ \\ ]\r[ | ]\r[ / ]\r[ — ]\r[ \\ ]\r[ | ]\r[ / ]\r[ — ]\r[ \\ ]\r[ | ]\r[ / ]\r[ — ]\r[ \\ ]\r[ | ]\r[ / ]\r[ — ]\r[ \\ ]\r[ | ]\r[ / ]\r[ — ]\r[ \\ ]\r[ | ]\r[ / ]\r[ — ]\r[ \\ ]\r[ | ]\r[ / ]\r[ — ]\r[ \\ ]\r[ | ]\r[ / ]\r[ — ]\r[ \\ ]\r[ | ]\r[ / ]\r[ — ]\r[ \\ ]\r[ | ]\r[ / ]\r[ — ]\r[ \\ ]\r[ | ]\r[ / ]\r[ — ]\r[ \\ ]\r[ | ]\r[ / ]\r[ — ]\r[ \\ ]\r[ | ]\r[ / ]\r[ — ]\r[ \\ ]\r[ | ]\r[ / ]\r[ — ]\r[ \\ ]\r[ | ]\r[ / ]\r[ — ]\r[ \\ ]\r[ | ]\r[ / ]\r[ — ]\r[ \\ ]\r[ | ]\r[ / ]\r[ — ]\r[ \\ ]\r[ | ]\r[ / ]\r[ — ]\r[ \\ ]\r[ | ]\r[ / ]\r[ — ]\r[ \\ ]\r[ | ]\r[ / ]\r[ — ]\r[ \\ ]\r[ | ]\r[ / ]\r[ — ]\r[ \\ ]\r[ | ]\r[ / ]\r[ — ]\r[ \\ ]\r[ | ]\r[ / ]\r[OK!]\n"
     ]
    }
   ],
   "source": [
    "documentAssembler = nlp.DocumentAssembler()\\\n",
    "      .setInputCol(\"text\")\\\n",
    "      .setOutputCol(\"ner_chunk\")\n",
    "\n",
    "sbert_embedder = nlp.BertSentenceEmbeddings.pretrained('sbiobert_base_cased_mli', 'en','clinical/models')\\\n",
    "      .setInputCols([\"ner_chunk\"])\\\n",
    "      .setOutputCol(\"sentence_embeddings\")\\\n",
    "      .setCaseSensitive(False)\n",
    "    \n",
    "rxnorm_resolver = medical.SentenceEntityResolverModel.pretrained(\"sbiobertresolve_rxnorm_augmented\",\"en\", \"clinical/models\") \\\n",
    "      .setInputCols([\"sentence_embeddings\"]) \\\n",
    "      .setOutputCol(\"rxnorm_code\")\\\n",
    "      .setDistanceFunction(\"EUCLIDEAN\")\n",
    "\n",
    "rxnorm_pipelineModel = nlp.PipelineModel(\n",
    "      stages = [\n",
    "          documentAssembler,\n",
    "          sbert_embedder,\n",
    "          rxnorm_resolver])\n",
    "\n",
    "rxnorm_lp = nlp.LightPipeline(rxnorm_pipelineModel)"
   ]
  },
  {
   "cell_type": "code",
   "execution_count": 0,
   "metadata": {
    "application/vnd.databricks.v1+cell": {
     "cellMetadata": {
      "byteLimit": 2048000,
      "rowLimit": 10000
     },
     "inputWidgets": {},
     "nuid": "9947aa1f-ca07-40c5-bca2-f8d60b6f2f48",
     "showTitle": false,
     "title": ""
    }
   },
   "outputs": [
    {
     "output_type": "stream",
     "name": "stdout",
     "output_type": "stream",
     "text": [
      "CPU times: user 38.7 ms, sys: 58.5 ms, total: 97.2 ms\nWall time: 25.2 s\n"
     ]
    },
    {
     "output_type": "display_data",
     "data": {
      "text/html": [
       "<div>\n",
       "<style scoped>\n",
       "    .dataframe tbody tr th:only-of-type {\n",
       "        vertical-align: middle;\n",
       "    }\n",
       "\n",
       "    .dataframe tbody tr th {\n",
       "        vertical-align: top;\n",
       "    }\n",
       "\n",
       "    .dataframe thead th {\n",
       "        text-align: right;\n",
       "    }\n",
       "</style>\n",
       "<table border=\"1\" class=\"dataframe\">\n",
       "  <thead>\n",
       "    <tr style=\"text-align: right;\">\n",
       "      <th></th>\n",
       "      <th>chunks</th>\n",
       "      <th>begin</th>\n",
       "      <th>end</th>\n",
       "      <th>code</th>\n",
       "      <th>all_codes</th>\n",
       "      <th>resolutions</th>\n",
       "      <th>all_distances</th>\n",
       "    </tr>\n",
       "  </thead>\n",
       "  <tbody>\n",
       "    <tr>\n",
       "      <th>0</th>\n",
       "      <td>metformin 100 mg</td>\n",
       "      <td>0</td>\n",
       "      <td>15</td>\n",
       "      <td>861024</td>\n",
       "      <td>[861024, 2200518, 141916, 334738, 332848, 104494, 861026, 199955, 333262, 429178, 439563, 103910, 429408, 450523, 1744000, 401938, 402346, 485246, 1726496, 198758, 316350, 213092, 858858, 245936, 336846]</td>\n",
       "      <td>[metformin hydrochloride 100 mg/ml [metformin hydrochloride 100 mg/ml], metformin hydrochloride 100 MG/ML Extended Release Suspension, fenofibrate 100 MG Oral Capsule, fenofibrate 100 mg [fenofibrate 100 mg], ciprofibrate 100 mg [ciprofibrate 100 mg], ciprofibrate 100 MG Oral Tablet, metformin hydrochloride 100 mg/ml [riomet] [metformin hydrochloride 100 mg/ml [riomet]], rutin 100 MG Oral Tablet, rutin 100 mg [rutin 100 mg], fendiline 100 MG Oral Tablet, fendiline 100 mg [fendiline 100 mg], carbamazepine 100 MG Oral Tablet [Epimaz], perazine 100 MG Oral Tablet, perazine 100 mg [perazine 100 mg], emtricitabine 100 mg [emtricitabine 100 mg], miglustat 100 MG Oral Capsule, miglustat 100 mg [miglustat 100 mg], azacitidine 100 MG Injection, azacitidine 100 mg [azacitidine 100 mg], niacin 100 MG Oral Capsule, niacin 100 mg [niacin 100 mg], dolasetron 100 MG Oral Tablet [Anzemet], carnosine 100 mg [carnosine 100 mg], trimebutine 100 MG Oral Tablet, trimebutine 100 mg [trimebutine 100 mg]]</td>\n",
       "      <td>[0.0658, 0.0658, 0.0684, 0.0684, 0.0697, 0.0697, 0.0770, 0.0765, 0.0765, 0.0775, 0.0775, 0.0780, 0.0804, 0.0804, 0.0818, 0.0811, 0.0811, 0.0812, 0.0812, 0.0811, 0.0811, 0.0836, 0.0828, 0.0844, 0.0844]</td>\n",
       "    </tr>\n",
       "  </tbody>\n",
       "</table>\n",
       "</div>"
      ]
     },
     "metadata": {
      "application/vnd.databricks.v1+output": {
       "addedWidgets": {},
       "arguments": {},
       "data": "<div>\n<style scoped>\n    .dataframe tbody tr th:only-of-type {\n        vertical-align: middle;\n    }\n\n    .dataframe tbody tr th {\n        vertical-align: top;\n    }\n\n    .dataframe thead th {\n        text-align: right;\n    }\n</style>\n<table border=\"1\" class=\"dataframe\">\n  <thead>\n    <tr style=\"text-align: right;\">\n      <th></th>\n      <th>chunks</th>\n      <th>begin</th>\n      <th>end</th>\n      <th>code</th>\n      <th>all_codes</th>\n      <th>resolutions</th>\n      <th>all_distances</th>\n    </tr>\n  </thead>\n  <tbody>\n    <tr>\n      <th>0</th>\n      <td>metformin 100 mg</td>\n      <td>0</td>\n      <td>15</td>\n      <td>861024</td>\n      <td>[861024, 2200518, 141916, 334738, 332848, 104494, 861026, 199955, 333262, 429178, 439563, 103910, 429408, 450523, 1744000, 401938, 402346, 485246, 1726496, 198758, 316350, 213092, 858858, 245936, 336846]</td>\n      <td>[metformin hydrochloride 100 mg/ml [metformin hydrochloride 100 mg/ml], metformin hydrochloride 100 MG/ML Extended Release Suspension, fenofibrate 100 MG Oral Capsule, fenofibrate 100 mg [fenofibrate 100 mg], ciprofibrate 100 mg [ciprofibrate 100 mg], ciprofibrate 100 MG Oral Tablet, metformin hydrochloride 100 mg/ml [riomet] [metformin hydrochloride 100 mg/ml [riomet]], rutin 100 MG Oral Tablet, rutin 100 mg [rutin 100 mg], fendiline 100 MG Oral Tablet, fendiline 100 mg [fendiline 100 mg], carbamazepine 100 MG Oral Tablet [Epimaz], perazine 100 MG Oral Tablet, perazine 100 mg [perazine 100 mg], emtricitabine 100 mg [emtricitabine 100 mg], miglustat 100 MG Oral Capsule, miglustat 100 mg [miglustat 100 mg], azacitidine 100 MG Injection, azacitidine 100 mg [azacitidine 100 mg], niacin 100 MG Oral Capsule, niacin 100 mg [niacin 100 mg], dolasetron 100 MG Oral Tablet [Anzemet], carnosine 100 mg [carnosine 100 mg], trimebutine 100 MG Oral Tablet, trimebutine 100 mg [trimebutine 100 mg]]</td>\n      <td>[0.0658, 0.0658, 0.0684, 0.0684, 0.0697, 0.0697, 0.0770, 0.0765, 0.0765, 0.0775, 0.0775, 0.0780, 0.0804, 0.0804, 0.0818, 0.0811, 0.0811, 0.0812, 0.0812, 0.0811, 0.0811, 0.0836, 0.0828, 0.0844, 0.0844]</td>\n    </tr>\n  </tbody>\n</table>\n</div>",
       "datasetInfos": [],
       "metadata": {},
       "removedWidgets": [],
       "textData": null,
       "type": "htmlSandbox"
      }
     },
     "output_type": "display_data"
    }
   ],
   "source": [
    "text = 'metformin 100 mg'\n",
    "\n",
    "%time get_codes (rxnorm_lp, text, vocab='rxnorm_code')"
   ]
  },
  {
   "cell_type": "code",
   "execution_count": 0,
   "metadata": {
    "application/vnd.databricks.v1+cell": {
     "cellMetadata": {
      "byteLimit": 2048000,
      "rowLimit": 10000
     },
     "inputWidgets": {},
     "nuid": "daee0aba-5aca-494e-b9ba-fa23e5be1a0e",
     "showTitle": false,
     "title": ""
    }
   },
   "outputs": [
    {
     "output_type": "stream",
     "name": "stdout",
     "output_type": "stream",
     "text": [
      "CPU times: user 19.3 ms, sys: 33.8 ms, total: 53.1 ms\nWall time: 5.55 s\n"
     ]
    },
    {
     "output_type": "display_data",
     "data": {
      "text/html": [
       "<div>\n",
       "<style scoped>\n",
       "    .dataframe tbody tr th:only-of-type {\n",
       "        vertical-align: middle;\n",
       "    }\n",
       "\n",
       "    .dataframe tbody tr th {\n",
       "        vertical-align: top;\n",
       "    }\n",
       "\n",
       "    .dataframe thead th {\n",
       "        text-align: right;\n",
       "    }\n",
       "</style>\n",
       "<table border=\"1\" class=\"dataframe\">\n",
       "  <thead>\n",
       "    <tr style=\"text-align: right;\">\n",
       "      <th></th>\n",
       "      <th>chunks</th>\n",
       "      <th>begin</th>\n",
       "      <th>end</th>\n",
       "      <th>code</th>\n",
       "      <th>all_codes</th>\n",
       "      <th>resolutions</th>\n",
       "      <th>all_distances</th>\n",
       "    </tr>\n",
       "  </thead>\n",
       "  <tbody>\n",
       "    <tr>\n",
       "      <th>0</th>\n",
       "      <td>aspirin 10 meq/ 5 ml oral sol</td>\n",
       "      <td>0</td>\n",
       "      <td>28</td>\n",
       "      <td>979446</td>\n",
       "      <td>[979446, 996740, 1091135, 991082, 997398, 636574, 794979, 729048, 995241, 996742, 261342, 422031, 312036, 795097, 205247, 644304, 251102, 208820, 1117402, 246529, 544468]</td>\n",
       "      <td>[alupent 10 mg per 5 ml oral solution [metaproterenol sulfate 2 mg/ml oral solution [alupent]], memantine hcl 10 mg per 5 ml oral solution [memantine hydrochloride 2 mg/ml oral solution], methylin 10 mg per 5 ml oral solution [methylphenidate hydrochloride 2 mg/ml oral solution [methylin]], dicyclomine hcl 10 mg per 5 ml oral solution [dicyclomine hydrochloride 2 mg/ml oral solution], codeine phosphate 10 mg per 5 ml oral solution [codeine phosphate 2 mg/ml oral solution], guaifenesin 10 mg/ml oral solution [guaifenesin 10 mg/ml oral solution], prednisolone 10 mg per 5 ml oral solution [prednisolone 2 mg/ml oral solution], pseudoephedrine tannate 10 mg/ml oral suspension [pseudoephedrine tannate 10 mg/ml oral suspension], hydroxyzine hydrochloride 2 MG/ML Oral Solution, namenda 10 mg per 5 ml oral solution [memantine hydrochloride 2 mg/ml oral solution [namenda]], celexa 10 mg per 5 ml oral solution [citalopram 2 mg/ml oral solution [celexa]], silymarin 10 mg/ml oral suspension [silymarin 10 mg/ml oral suspension], nortriptyline hcl 10 mg per 5 ml oral solution [nortriptyline 2 mg/ml oral solution], millipred 10 mg per 5 ml (as prednisolone sodium phosphate 13.4 mg per 5 ml) oral solution [prednisolone 2 mg/ml oral solution [millipred]], niacin 10 mg/ml oral solution [niacin 10 mg/ml oral solution], soltamox 10 mg per 5 ml oral solution [tamoxifen 2 mg/ml oral solution [soltamox]], nimesulide 10 mg/ml oral suspension [nimesulide 10 mg/ml oral suspension], stelazine 10 mg/ml oral solution [trifluoperazine 10 mg/ml oral solution [stelazine]], liqufruta 10 mg/ml oral solution [guaifenesin 10 mg/ml oral solution [liqufruta]], midodrine 10 mg/ml oral solution [midodrine 10 mg/ml oral solution], hypromellose 10 mg/ml oral solution [hypromellose 10 mg/ml oral solution]]</td>\n",
       "      <td>[0.0809, 0.0859, 0.0881, 0.0919, 0.0891, 0.0927, 0.0922, 0.0940, 0.0925, 0.0917, 0.0926, 0.0932, 0.0971, 0.0971, 0.0960, 0.0962, 0.0970, 0.0976, 0.0963, 0.0980, 0.1010]</td>\n",
       "    </tr>\n",
       "  </tbody>\n",
       "</table>\n",
       "</div>"
      ]
     },
     "metadata": {
      "application/vnd.databricks.v1+output": {
       "addedWidgets": {},
       "arguments": {},
       "data": "<div>\n<style scoped>\n    .dataframe tbody tr th:only-of-type {\n        vertical-align: middle;\n    }\n\n    .dataframe tbody tr th {\n        vertical-align: top;\n    }\n\n    .dataframe thead th {\n        text-align: right;\n    }\n</style>\n<table border=\"1\" class=\"dataframe\">\n  <thead>\n    <tr style=\"text-align: right;\">\n      <th></th>\n      <th>chunks</th>\n      <th>begin</th>\n      <th>end</th>\n      <th>code</th>\n      <th>all_codes</th>\n      <th>resolutions</th>\n      <th>all_distances</th>\n    </tr>\n  </thead>\n  <tbody>\n    <tr>\n      <th>0</th>\n      <td>aspirin 10 meq/ 5 ml oral sol</td>\n      <td>0</td>\n      <td>28</td>\n      <td>979446</td>\n      <td>[979446, 996740, 1091135, 991082, 997398, 636574, 794979, 729048, 995241, 996742, 261342, 422031, 312036, 795097, 205247, 644304, 251102, 208820, 1117402, 246529, 544468]</td>\n      <td>[alupent 10 mg per 5 ml oral solution [metaproterenol sulfate 2 mg/ml oral solution [alupent]], memantine hcl 10 mg per 5 ml oral solution [memantine hydrochloride 2 mg/ml oral solution], methylin 10 mg per 5 ml oral solution [methylphenidate hydrochloride 2 mg/ml oral solution [methylin]], dicyclomine hcl 10 mg per 5 ml oral solution [dicyclomine hydrochloride 2 mg/ml oral solution], codeine phosphate 10 mg per 5 ml oral solution [codeine phosphate 2 mg/ml oral solution], guaifenesin 10 mg/ml oral solution [guaifenesin 10 mg/ml oral solution], prednisolone 10 mg per 5 ml oral solution [prednisolone 2 mg/ml oral solution], pseudoephedrine tannate 10 mg/ml oral suspension [pseudoephedrine tannate 10 mg/ml oral suspension], hydroxyzine hydrochloride 2 MG/ML Oral Solution, namenda 10 mg per 5 ml oral solution [memantine hydrochloride 2 mg/ml oral solution [namenda]], celexa 10 mg per 5 ml oral solution [citalopram 2 mg/ml oral solution [celexa]], silymarin 10 mg/ml oral suspension [silymarin 10 mg/ml oral suspension], nortriptyline hcl 10 mg per 5 ml oral solution [nortriptyline 2 mg/ml oral solution], millipred 10 mg per 5 ml (as prednisolone sodium phosphate 13.4 mg per 5 ml) oral solution [prednisolone 2 mg/ml oral solution [millipred]], niacin 10 mg/ml oral solution [niacin 10 mg/ml oral solution], soltamox 10 mg per 5 ml oral solution [tamoxifen 2 mg/ml oral solution [soltamox]], nimesulide 10 mg/ml oral suspension [nimesulide 10 mg/ml oral suspension], stelazine 10 mg/ml oral solution [trifluoperazine 10 mg/ml oral solution [stelazine]], liqufruta 10 mg/ml oral solution [guaifenesin 10 mg/ml oral solution [liqufruta]], midodrine 10 mg/ml oral solution [midodrine 10 mg/ml oral solution], hypromellose 10 mg/ml oral solution [hypromellose 10 mg/ml oral solution]]</td>\n      <td>[0.0809, 0.0859, 0.0881, 0.0919, 0.0891, 0.0927, 0.0922, 0.0940, 0.0925, 0.0917, 0.0926, 0.0932, 0.0971, 0.0971, 0.0960, 0.0962, 0.0970, 0.0976, 0.0963, 0.0980, 0.1010]</td>\n    </tr>\n  </tbody>\n</table>\n</div>",
       "datasetInfos": [],
       "metadata": {},
       "removedWidgets": [],
       "textData": null,
       "type": "htmlSandbox"
      }
     },
     "output_type": "display_data"
    }
   ],
   "source": [
    "text = 'aspirin 10 meq/ 5 ml oral sol'\n",
    "\n",
    "%time get_codes (rxnorm_lp, text, vocab='rxnorm_code')"
   ]
  },
  {
   "cell_type": "markdown",
   "metadata": {
    "application/vnd.databricks.v1+cell": {
     "cellMetadata": {
      "byteLimit": 2048000,
      "rowLimit": 10000
     },
     "inputWidgets": {},
     "nuid": "061a45ec-c584-405b-bc7a-5d81c2283c09",
     "showTitle": false,
     "title": ""
    },
    "id": "DU56tnqGn-YZ"
   },
   "source": [
    "### RxNorm with DrugNormalizer"
   ]
  },
  {
   "cell_type": "code",
   "execution_count": 0,
   "metadata": {
    "application/vnd.databricks.v1+cell": {
     "cellMetadata": {
      "byteLimit": 2048000,
      "rowLimit": 10000
     },
     "inputWidgets": {},
     "nuid": "123e0f78-bcee-4d24-9896-a53437f1a086",
     "showTitle": false,
     "title": ""
    },
    "id": "o0tr_h40nBiH"
   },
   "outputs": [],
   "source": [
    "documentAssembler = nlp.DocumentAssembler()\\\n",
    "    .setInputCol(\"text\")\\\n",
    "    .setOutputCol(\"ner_chunk_v0\")\n",
    "\n",
    "drug_normalizer = medical.DrugNormalizer() \\\n",
    "    .setInputCols(\"ner_chunk_v0\") \\\n",
    "    .setOutputCol(\"ner_chunk\") \\\n",
    "    .setPolicy('all')\n",
    "\n",
    "rxnorm_pipelineModel2 = nlp.PipelineModel(\n",
    "    stages = [\n",
    "        documentAssembler,\n",
    "        drug_normalizer,\n",
    "        sbert_embedder,\n",
    "        rxnorm_resolver])\n",
    "\n",
    "rxnorm_lp2 = nlp.LightPipeline(rxnorm_pipelineModel2)"
   ]
  },
  {
   "cell_type": "code",
   "execution_count": 0,
   "metadata": {
    "application/vnd.databricks.v1+cell": {
     "cellMetadata": {
      "byteLimit": 2048000,
      "rowLimit": 10000
     },
     "inputWidgets": {},
     "nuid": "593e385e-2d6b-4f2b-96e4-4b1b3f0b665e",
     "showTitle": false,
     "title": ""
    },
    "colab": {
     "base_uri": "https://localhost:8080/",
     "height": 362
    },
    "id": "GfkA9JcNnp4w",
    "outputId": "4444c7ca-2bba-4bd8-a88d-53b57de81985",
    "scrolled": true
   },
   "outputs": [
    {
     "output_type": "stream",
     "name": "stdout",
     "output_type": "stream",
     "text": [
      "CPU times: user 40.9 ms, sys: 19 ms, total: 59.9 ms\nWall time: 1.79 s\n"
     ]
    },
    {
     "output_type": "display_data",
     "data": {
      "text/html": [
       "<div>\n",
       "<style scoped>\n",
       "    .dataframe tbody tr th:only-of-type {\n",
       "        vertical-align: middle;\n",
       "    }\n",
       "\n",
       "    .dataframe tbody tr th {\n",
       "        vertical-align: top;\n",
       "    }\n",
       "\n",
       "    .dataframe thead th {\n",
       "        text-align: right;\n",
       "    }\n",
       "</style>\n",
       "<table border=\"1\" class=\"dataframe\">\n",
       "  <thead>\n",
       "    <tr style=\"text-align: right;\">\n",
       "      <th></th>\n",
       "      <th>chunks</th>\n",
       "      <th>begin</th>\n",
       "      <th>end</th>\n",
       "      <th>code</th>\n",
       "      <th>all_codes</th>\n",
       "      <th>resolutions</th>\n",
       "      <th>all_distances</th>\n",
       "    </tr>\n",
       "  </thead>\n",
       "  <tbody>\n",
       "    <tr>\n",
       "      <th>0</th>\n",
       "      <td>aspirin 2 meq/ml oral solution</td>\n",
       "      <td>0</td>\n",
       "      <td>29</td>\n",
       "      <td>688214</td>\n",
       "      <td>[688214, 342917, 688213, 755937, 756028, 979446, 755332, 545588, 1091135, 246229, 104692, 755920, 261342, 756064, 756078, 2381144, 1115998]</td>\n",
       "      <td>[aspirin 2.5 mg/ml oral solution [aspirin 2.5 mg/ml oral solution], aspirin 2.2 mg/ml [aspirin 2.2 mg/ml], aspirin 2.5 mg/ml [aspirin 2.5 mg/ml], periciazine 2 mg/ml oral solution [periciazine 2 mg/ml oral solution], fenspiride 2 mg/ml oral solution [fenspiride 2 mg/ml oral solution], alupent 2 mg/ml oral solution [metaproterenol sulfate 2 mg/ml oral solution [alupent]], merbentyl 2 mg/ml oral solution [dicyclomine hydrochloride 2 mg/ml oral solution [merbentyl]], racepinephrine 2 MG/ML Oral Solution [Orostat], methylin 2 mg/ml oral solution [methylphenidate hydrochloride 2 mg/ml oral solution [methylin]], thioridazine 2 mg/ml oral solution [thioridazine 2 mg/ml oral solution], temazepam 2 MG/ML Oral Solution [Euhypnos], butamirate 2 mg/ml oral solution [butamirate 2 mg/ml oral solution], celexa 2 mg/ml oral solution [citalopram 2 mg/ml oral solution [celexa]], oxeladin 2 mg/ml oral solution [oxeladin 2 mg/ml oral solution], pipazethate 2 mg/ml oral solution [pipazethate 2 mg/ml oral solution], fenfluramine 2.2 MG/ML Oral Solution [Fintepla], ephedrine sulfate 2.2 mg/ml oral solution [ephedrine sulfate 2.2 mg/ml oral solution]]</td>\n",
       "      <td>[0.0347, 0.0566, 0.0748, 0.0947, 0.1040, 0.1009, 0.1075, 0.1081, 0.1097, 0.1155, 0.1137, 0.1149, 0.1123, 0.1154, 0.1178, 0.1175, 0.1196]</td>\n",
       "    </tr>\n",
       "  </tbody>\n",
       "</table>\n",
       "</div>"
      ]
     },
     "metadata": {
      "application/vnd.databricks.v1+output": {
       "addedWidgets": {},
       "arguments": {},
       "data": "<div>\n<style scoped>\n    .dataframe tbody tr th:only-of-type {\n        vertical-align: middle;\n    }\n\n    .dataframe tbody tr th {\n        vertical-align: top;\n    }\n\n    .dataframe thead th {\n        text-align: right;\n    }\n</style>\n<table border=\"1\" class=\"dataframe\">\n  <thead>\n    <tr style=\"text-align: right;\">\n      <th></th>\n      <th>chunks</th>\n      <th>begin</th>\n      <th>end</th>\n      <th>code</th>\n      <th>all_codes</th>\n      <th>resolutions</th>\n      <th>all_distances</th>\n    </tr>\n  </thead>\n  <tbody>\n    <tr>\n      <th>0</th>\n      <td>aspirin 2 meq/ml oral solution</td>\n      <td>0</td>\n      <td>29</td>\n      <td>688214</td>\n      <td>[688214, 342917, 688213, 755937, 756028, 979446, 755332, 545588, 1091135, 246229, 104692, 755920, 261342, 756064, 756078, 2381144, 1115998]</td>\n      <td>[aspirin 2.5 mg/ml oral solution [aspirin 2.5 mg/ml oral solution], aspirin 2.2 mg/ml [aspirin 2.2 mg/ml], aspirin 2.5 mg/ml [aspirin 2.5 mg/ml], periciazine 2 mg/ml oral solution [periciazine 2 mg/ml oral solution], fenspiride 2 mg/ml oral solution [fenspiride 2 mg/ml oral solution], alupent 2 mg/ml oral solution [metaproterenol sulfate 2 mg/ml oral solution [alupent]], merbentyl 2 mg/ml oral solution [dicyclomine hydrochloride 2 mg/ml oral solution [merbentyl]], racepinephrine 2 MG/ML Oral Solution [Orostat], methylin 2 mg/ml oral solution [methylphenidate hydrochloride 2 mg/ml oral solution [methylin]], thioridazine 2 mg/ml oral solution [thioridazine 2 mg/ml oral solution], temazepam 2 MG/ML Oral Solution [Euhypnos], butamirate 2 mg/ml oral solution [butamirate 2 mg/ml oral solution], celexa 2 mg/ml oral solution [citalopram 2 mg/ml oral solution [celexa]], oxeladin 2 mg/ml oral solution [oxeladin 2 mg/ml oral solution], pipazethate 2 mg/ml oral solution [pipazethate 2 mg/ml oral solution], fenfluramine 2.2 MG/ML Oral Solution [Fintepla], ephedrine sulfate 2.2 mg/ml oral solution [ephedrine sulfate 2.2 mg/ml oral solution]]</td>\n      <td>[0.0347, 0.0566, 0.0748, 0.0947, 0.1040, 0.1009, 0.1075, 0.1081, 0.1097, 0.1155, 0.1137, 0.1149, 0.1123, 0.1154, 0.1178, 0.1175, 0.1196]</td>\n    </tr>\n  </tbody>\n</table>\n</div>",
       "datasetInfos": [],
       "metadata": {},
       "removedWidgets": [],
       "textData": null,
       "type": "htmlSandbox"
      }
     },
     "output_type": "display_data"
    }
   ],
   "source": [
    "text = 'aspirin 10 meq/ 5 ml oral sol'\n",
    "\n",
    "%time get_codes (rxnorm_lp2, text, vocab='rxnorm_code')"
   ]
  },
  {
   "cell_type": "markdown",
   "metadata": {
    "application/vnd.databricks.v1+cell": {
     "cellMetadata": {
      "byteLimit": 2048000,
      "rowLimit": 10000
     },
     "inputWidgets": {},
     "nuid": "d1576cf7-1687-4fc7-b83d-85b45bce0890",
     "showTitle": false,
     "title": ""
    }
   },
   "source": [
    "### Clinical Chunk Mapper Models\n",
    "\n",
    "We can use sparknlp's Chunk Mapping feature to map clinical entities with their correspondings based on pre-defined dictionary. We have pretrained chunk mapping models that can be used through ChunkMapperModel() annotator, also, it is possible to create your own pretrained Chunk Mapper models by ChunkMapperApproach() annotator.\n",
    "\n",
    "You can check [Healthcare Code Mapping Notebook](https://github.com/JohnSnowLabs/spark-nlp-workshop/blob/master/tutorials/Certification_Trainings/Healthcare/11.1.Healthcare_Code_Mapping.ipynb) for the examples of pretrained mapper pipelines.\n",
    "\n",
    "Lets show an example of `rxnorm_mapper` model that maps entities with their corresponding RxNorm codes."
   ]
  },
  {
   "cell_type": "code",
   "execution_count": 0,
   "metadata": {
    "application/vnd.databricks.v1+cell": {
     "cellMetadata": {
      "byteLimit": 2048000,
      "rowLimit": 10000
     },
     "inputWidgets": {},
     "nuid": "b2e97233-2f81-47de-b352-b950850d0039",
     "showTitle": false,
     "title": ""
    }
   },
   "outputs": [
    {
     "output_type": "stream",
     "name": "stdout",
     "output_type": "stream",
     "text": [
      "rxnorm_mapper download started this may take some time.\n\r[ | ]\r[ / ]\r[ — ]\r[OK!]\n"
     ]
    }
   ],
   "source": [
    "document_assembler = nlp.DocumentAssembler()\\\n",
    "    .setInputCol(\"text\")\\\n",
    "    .setOutputCol(\"ner_chunk\")\n",
    "\n",
    "chunkerMapper = medical.ChunkMapperModel.pretrained(\"rxnorm_mapper\", \"en\", \"clinical/models\")\\\n",
    "    .setInputCols([\"ner_chunk\"])\\\n",
    "    .setOutputCol(\"rxnorm\")\\\n",
    "    .setRels([\"rxnorm_code\"])\n",
    "\n",
    "\n",
    "mapper_pipeline = nlp.Pipeline().setStages([document_assembler, chunkerMapper])\n",
    "mapper_model = mapper_pipeline.fit(spark.createDataFrame([['']]).toDF('text'))\n",
    "\n",
    "mapper_lp = nlp.LightPipeline(mapper_model)"
   ]
  },
  {
   "cell_type": "code",
   "execution_count": 0,
   "metadata": {
    "application/vnd.databricks.v1+cell": {
     "cellMetadata": {
      "byteLimit": 2048000,
      "rowLimit": 10000
     },
     "inputWidgets": {},
     "nuid": "c2f865de-50ba-41cb-83da-056276a5eee2",
     "showTitle": false,
     "title": ""
    }
   },
   "outputs": [
    {
     "output_type": "stream",
     "name": "stdout",
     "output_type": "stream",
     "text": [
      "CPU times: user 7.41 ms, sys: 9.68 ms, total: 17.1 ms\nWall time: 370 ms\nOut[13]: [{'ner_chunk': [Annotation(document, 0, 8, metformin, {}, [])],\n  'rxnorm': [Annotation(labeled_dependency, 0, 8, 6809, {'__trained__': 'metformin', 'relation': 'rxnorm_code', 'all_k_distances': '0.0:::0.0', '__distance_function__': 'levenshtein', 'all_k_resolutions': '6809:::', 'target_text': 'metformin', 'ops': '0.0', 'all_relations': '', 'entity': 'metformin', 'resolved_text': '6809', 'distance': '0.0', '__relation_name__': 'rxnorm_code'}, [])]}]"
     ]
    }
   ],
   "source": [
    "%time mapper_lp.fullAnnotate(\"metformin\")"
   ]
  },
  {
   "cell_type": "markdown",
   "metadata": {
    "application/vnd.databricks.v1+cell": {
     "cellMetadata": {
      "byteLimit": 2048000,
      "rowLimit": 10000
     },
     "inputWidgets": {},
     "nuid": "13b8a5d9-7fc0-4117-8f1e-9734f7f262a6",
     "showTitle": false,
     "title": ""
    },
    "id": "PmEgCkFqevNJ"
   },
   "source": [
    "### Drug Spell Checker"
   ]
  },
  {
   "cell_type": "code",
   "execution_count": 0,
   "metadata": {
    "application/vnd.databricks.v1+cell": {
     "cellMetadata": {
      "byteLimit": 2048000,
      "rowLimit": 10000
     },
     "inputWidgets": {},
     "nuid": "bca51ff4-e19c-4e4b-aa90-802255b7ada8",
     "showTitle": false,
     "title": ""
    },
    "colab": {
     "base_uri": "https://localhost:8080/"
    },
    "id": "J6Umxkc6GFoC",
    "outputId": "24ce0fe6-888b-4ffd-ca4a-b7990d7d4c51"
   },
   "outputs": [
    {
     "output_type": "stream",
     "name": "stdout",
     "output_type": "stream",
     "text": [
      "spellcheck_drug_norvig download started this may take some time.\nApproximate size to download 4.3 MB\n\r[ | ]\r[ / ]\r[ — ]\r[ \\ ]\r[ | ]\r[ / ]\r[ — ]\r[ \\ ]\r[ | ]\r[ / ]\r[ — ]\r[ \\ ]\r[ | ]\r[ / ]\r[ — ]\r[ \\ ]\r[ | ]\r[ / ]\r[ — ]\r[ \\ ]\r[ | ]\r[ / ]\r[ — ]\r[ \\ ]\r[ | ]\r[ / ]\r[ — ]\r[ \\ ]\r[ | ]\r[ / ]\r[ — ]\r[ \\ ]\r[ | ]\r[ / ]\r[ — ]\r[ \\ ]\r[ | ]\r[ / ]\r[OK!]\n"
     ]
    }
   ],
   "source": [
    "documentAssembler = nlp.DocumentAssembler()\\\n",
    "    .setInputCol(\"text\")\\\n",
    "    .setOutputCol(\"document\")\n",
    "\n",
    "tokenizer = nlp.Tokenizer()\\\n",
    "    .setInputCols(\"document\")\\\n",
    "    .setOutputCol(\"token\")\n",
    "\n",
    "spell = nlp.NorvigSweetingModel.pretrained(\"spellcheck_drug_norvig\", \"en\", \"clinical/models\")\\\n",
    "    .setInputCols(\"token\")\\\n",
    "    .setOutputCol(\"corrected_token\")\\\n",
    "\n",
    "pipeline = nlp.Pipeline(stages = [documentAssembler,\n",
    "                              tokenizer, \n",
    "                              spell])\n",
    "\n",
    "model = pipeline.fit(spark.createDataFrame([['']]).toDF('text')) \n",
    "lp = nlp.LightPipeline(model)"
   ]
  },
  {
   "cell_type": "code",
   "execution_count": 0,
   "metadata": {
    "application/vnd.databricks.v1+cell": {
     "cellMetadata": {
      "byteLimit": 2048000,
      "rowLimit": 10000
     },
     "inputWidgets": {},
     "nuid": "c1433b3a-588b-4ab5-ab5a-f9676608ce8b",
     "showTitle": false,
     "title": ""
    },
    "colab": {
     "base_uri": "https://localhost:8080/"
    },
    "id": "jdmb5QfmGoAV",
    "outputId": "894d7fe9-e41c-4382-9db6-1d33a925297d"
   },
   "outputs": [
    {
     "output_type": "stream",
     "name": "stdout",
     "output_type": "stream",
     "text": [
      "You have to take Neutrcare and Novvalgin and a bit of Fluorometholne & Ribotril\nYou have to take Neutracare and Novalgin and a bit of Fluorometholone & Rivotril\n"
     ]
    }
   ],
   "source": [
    "text = \"You have to take Neutrcare and Novvalgin and a bit of Fluorometholne & Ribotril\"\n",
    "\n",
    "corrected = lp.annotate(text)\n",
    "\n",
    "print(\" \".join(corrected['token']))\n",
    "print(\" \".join(corrected['corrected_token']))"
   ]
  },
  {
   "cell_type": "markdown",
   "metadata": {
    "application/vnd.databricks.v1+cell": {
     "cellMetadata": {
      "byteLimit": 2048000,
      "rowLimit": 10000
     },
     "inputWidgets": {},
     "nuid": "e2f26923-a0ee-4191-9f40-ea4afff60a40",
     "showTitle": false,
     "title": ""
    },
    "id": "ne8BHjBjU6nN"
   },
   "source": [
    "## Sentence Entity Resolver (ICD-10CM)"
   ]
  },
  {
   "cell_type": "markdown",
   "metadata": {
    "application/vnd.databricks.v1+cell": {
     "cellMetadata": {
      "byteLimit": 2048000,
      "rowLimit": 10000
     },
     "inputWidgets": {},
     "nuid": "681e9034-5ae4-49c2-8463-f108d2318962",
     "showTitle": false,
     "title": ""
    },
    "id": "z4nyb0HNjo74"
   },
   "source": [
    "###  ICD10 background info\n",
    "\n",
    "**ICD-10-CM vs. ICD-10-PCS**\n",
    "\n",
    "- With the transition to ICD-10, in the United States, ICD-9 codes are segmented into ICD-10-CM and ICD-10-PCS codes. **The \"CM\" in ICD-10-CM codes stands for clinical modification**; ICD-10-CM codes were developed by the Centers for Disease Control and Prevention in conjunction with the National Center for Health Statistics (NCHS), for outpatient medical coding and reporting in the United States, as published by the World Health Organization (WHO).\n",
    "\n",
    "- **The \"PCS\" in ICD-10-PCS codes stands for the procedural classification system**. ICD-10-PCS is a completely separate medical coding system from ICD-10-CM, containing an additional 87,000 codes for use ONLY in United States inpatient, hospital settings. The procedure classification system (ICD-10-PCS) was developed by the Centers for Medicare and Medicaid Services (CMS) in conjunction with 3M Health Information Management (HIM).\n",
    "\n",
    "- ICD-10-CM codes add increased specificity to their ICD-9 predecessors, growing to five times the number of codes as the present system; a total of 68,000 clinical modification diagnosis codes. ICD-10-CM codes provide the ability to track and reveal more information about the quality of healthcare, allowing healthcare providers to better understand medical complications, better design treatment and care, and better comprehend and determine the outcome of care.\n",
    "\n",
    "- ICD-10-PCS is used only for inpatient, hospital settings in the United States, and is meant to replace volume 3 of ICD-9 for facility reporting of inpatient procedures. Due to the rapid and constant state of flux in medical procedures and technology, ICD-10-PCS was developed to accommodate the changing landscape. Common procedures, lab tests, and educational sessions that are not unique to the inpatient, hospital setting have been omitted from ICD-10-PCS.\n",
    "\n",
    "- ICD-10 is confusing enough when you’re trying to digest the differences between ICD-9 and ICD-10, but there are also different types of ICD-10 codes that providers should be aware of.\n",
    "\n",
    "\n",
    "**Primary difference between ICD-10-CM and ICD-10-PCS**\n",
    "\n",
    "- When most people talk about ICD-10, they are referring to ICD-10CM. This is the code set for diagnosis coding and is used for all healthcare settings in the United States. ICD-10PCS, on the other hand, is used in hospital inpatient settings for inpatient procedure coding.\n",
    "\n",
    "**ICD-10-CM breakdown**\n",
    "\n",
    "- Approximately 68,000 codes\n",
    "- 3–7 alphanumeric characters\n",
    "- Facilitates timely processing of claims\n",
    "\n",
    "\n",
    "**ICD-10-PCS breakdown**\n",
    "\n",
    "- Will replace ICD-9-CM for hospital inpatient use only. \n",
    "- ICD-10-PCS will not replace CPT codes used by physicians. According to HealthCare Information Management, Inc. (HCIM), “Its only intention is to identify inpatient facility services in a way not directly related to physician work, but directed towards allocation of hospital services.”\n",
    "- 7 alphanumeric characters\n",
    "\n",
    "- ICD-10-PCS is very different from ICD-9-CM procedure coding due to its ability to be more specific and accurate. “This becomes increasingly important when assessing and tracking the quality of medical processes and outcomes, and compiling statistics that are valuable tools for research,” according to HCIM.\n",
    "\n",
    "**Hierarchical Condition Category (HCC)**\n",
    "\n",
    "- Hierarchical condition category (HCC) coding is a risk-adjustment model originally designed to estimate future health care costs for patients. The Centers for Medicare & Medicaid Services (CMS) HCC model was initiated in 2004 but is becoming increasingly prevalent as the environment shifts to value-based payment models.\n",
    "\n",
    "- Hierarchical condition category relies on ICD-10 coding to assign risk scores to patients. Each HCC is mapped to an ICD-10 code. Along with demographic factors (such as age and gender), insurance companies use HCC coding to assign patients a risk adjustment factor (RAF) score. Using algorithms, insurances can use a patient’s RAF score to predict costs. For example, a patient with few serious health conditions could be expected to have average medical costs for a given time. However, a patient with multiple chronic conditions would be expected to have higher health care utilization and costs."
   ]
  },
  {
   "cell_type": "markdown",
   "metadata": {
    "application/vnd.databricks.v1+cell": {
     "cellMetadata": {
      "byteLimit": 2048000,
      "rowLimit": 10000
     },
     "inputWidgets": {},
     "nuid": "5eb2f7ee-0532-4e74-85e3-bf4a408ff5c0",
     "showTitle": false,
     "title": ""
    },
    "id": "XP-IseucsUZU"
   },
   "source": [
    "**Pretrained ICD-10 Models**\n",
    "\n",
    "- `sbiobertresolve_icd10cm_augmented`\n",
    "- `sbiobertresolve_icd10pcs`\n",
    "- `sbiobertresolve_icd10cm_augmented_billable_hcc`\n",
    "- `sbiobertresolve_icd10cm`\n",
    "- `sbiobertresolve_icd10cm_slim_normalized`\n",
    "- `sbiobertresolve_icd10cm_slim_billable_hcc`\n",
    "- `sbertresolve_icd10cm_slim_billable_hcc_med`\n",
    "- `sbiobertresolve_icd10cm_generalised`"
   ]
  },
  {
   "cell_type": "markdown",
   "metadata": {
    "application/vnd.databricks.v1+cell": {
     "cellMetadata": {
      "byteLimit": 2048000,
      "rowLimit": 10000
     },
     "inputWidgets": {},
     "nuid": "93a7003b-5106-4825-ab94-1dfda8ecc942",
     "showTitle": false,
     "title": ""
    },
    "id": "RnDTRTItKxVZ"
   },
   "source": [
    "### Creating ICD-10CM Pipeline"
   ]
  },
  {
   "cell_type": "code",
   "execution_count": 0,
   "metadata": {
    "application/vnd.databricks.v1+cell": {
     "cellMetadata": {
      "byteLimit": 2048000,
      "rowLimit": 10000
     },
     "inputWidgets": {},
     "nuid": "8b53a1a1-124a-4771-8708-fdbcb533a369",
     "showTitle": false,
     "title": ""
    },
    "colab": {
     "base_uri": "https://localhost:8080/"
    },
    "id": "fPSVEJmSv4WP",
    "outputId": "e70b0790-6920-46fb-cfc0-10ccbde0692d"
   },
   "outputs": [
    {
     "output_type": "stream",
     "name": "stdout",
     "output_type": "stream",
     "text": [
      "sentence_detector_dl_healthcare download started this may take some time.\nApproximate size to download 367.3 KB\n\r[ | ]\r[ / ]\r[ — ]\r[ \\ ]\r[ | ]\r[ / ]\r[ — ]\r[ \\ ]\r[ | ]\r[ / ]\r[ — ]\r[OK!]\nembeddings_clinical download started this may take some time.\nApproximate size to download 1.6 GB\n\r[ | ]\r[ / ]\r[ — ]\r[ \\ ]\r[ | ]\r[ / ]\r[ — ]\r[ \\ ]\r[ | ]\r[ / ]\r[ — ]\r[ \\ ]\r[ | ]\r[ / ]\r[ — ]\r[ \\ ]\r[ | ]\r[ / ]\r[ — ]\r[ \\ ]\r[ | ]\r[ / ]\r[ — ]\r[ \\ ]\r[ | ]\r[ / ]\r[ — ]\r[ \\ ]\r[ | ]\r[ / ]\r[ — ]\r[ \\ ]\r[ | ]\r[ / ]\r[ — ]\r[ \\ ]\r[ | ]\r[ / ]\r[ — ]\r[ \\ ]\r[ | ]\r[ / ]\r[ — ]\r[ \\ ]\r[ | ]\r[ / ]\r[ — ]\r[ \\ ]\r[ | ]\r[ / ]\r[ — ]\r[ \\ ]\r[ | ]\r[OK!]\nner_clinical download started this may take some time.\n\r[ | ]\r[ / ]\r[ — ]\r[ \\ ]\r[ | ]\r[ / ]\r[ — ]\r[ \\ ]\r[ | ]\r[ / ]\r[ — ]\r[ \\ ]\r[ | ]\r[ / ]\r[ — ]\r[ \\ ]\r[ | ]\r[ / ]\r[ — ]\r[ \\ ]\r[ | ]\r[ / ]\r[ — ]\r[ \\ ]\r[ | ]\r[ / ]\r[ — ]\r[ \\ ]\r[ | ]\r[ / ]\r[ — ]\r[ \\ ]\r[ | ]\r[ / ]\r[ — ]\r[ \\ ]\r[ | ]\r[ / ]\r[ — ]\r[ \\ ]\r[ | ]\r[ / ]\r[ — ]\r[ \\ ]\r[ | ]\r[ / ]\r[ — ]\r[ \\ ]\r[ | ]\r[ / ]\r[ — ]\r[ \\ ]\r[ | ]\r[ / ]\r[ — ]\r[ \\ ]\r[ | ]\r[ / ]\r[ — ]\r[ \\ ]\r[ | ]\r[ / ]\r[ — ]\r[ \\ ]\r[ | ]\r[ / ]\r[ — ]\r[ \\ ]\r[ | ]\r[ / ]\r[ — ]\r[ \\ ]\r[ | ]\r[ / ]\r[ — ]\r[ \\ ]\r[ | ]\r[ / ]\r[ — ]\r[ \\ ]\r[ | ]\r[ / ]\r[ — ]\r[ \\ ]\r[ | ]\r[ / ]\r[ — ]\r[ \\ ]\r[ | ]\r[ / ]\r[ — ]\r[ \\ ]\r[ | ]\r[ / ]\r[ — ]\r[ \\ ]\r[ | ]\r[ / ]\r[ — ]\r[ \\ ]\r[ | ]\r[ / ]\r[ — ]\r[ \\ ]\r[ | ]\r[ / ]\r[ — ]\r[ \\ ]\r[ | ]\r[ / ]\r[OK!]\nsbiobert_base_cased_mli download started this may take some time.\nApproximate size to download 384.3 MB\n\r[ | ]\r[ / ]\r[ — ]\r[ \\ ]\r[ | ]\r[ / ]\r[ — ]\r[ \\ ]\r[ | ]\r[ / ]\r[ — ]\r[OK!]\nsbiobertresolve_icd10cm_augmented_billable_hcc download started this may take some time.\n\r[ | ]\r[ / ]\r[ — ]\r[ \\ ]\r[ | ]\r[ / ]\r[ — ]\r[ \\ ]\r[ | ]\r[ / ]\r[ — ]\r[ \\ ]\r[ | ]\r[ / ]\r[ — ]\r[ \\ ]\r[ | ]\r[ / ]\r[ — ]\r[ \\ ]\r[ | ]\r[ / ]\r[ — ]\r[ \\ ]\r[ | ]\r[ / ]\r[ — ]\r[OK!]\n"
     ]
    }
   ],
   "source": [
    "# Annotator that transforms a text column from dataframe into an Annotation ready for NLP\n",
    "document_assembler = nlp.DocumentAssembler()\\\n",
    "    .setInputCol(\"text\")\\\n",
    "    .setOutputCol(\"document\")\n",
    "\n",
    "# Sentence Detector DL annotator, processes various sentences per line\n",
    "sentenceDetectorDL = nlp.SentenceDetectorDLModel.pretrained(\"sentence_detector_dl_healthcare\", \"en\", 'clinical/models') \\\n",
    "    .setInputCols([\"document\"]) \\\n",
    "    .setOutputCol(\"sentence\")\n",
    "\n",
    "# Tokenizer splits words in a relevant format for NLP\n",
    "tokenizer = nlp.Tokenizer()\\\n",
    "    .setInputCols([\"sentence\"])\\\n",
    "    .setOutputCol(\"token\")\n",
    "\n",
    "# WordEmbeddingsModel pretrained \"embeddings_clinical\" includes a model of 1.7Gb that needs to be downloaded\n",
    "word_embeddings = nlp.WordEmbeddingsModel.pretrained(\"embeddings_clinical\", \"en\", \"clinical/models\")\\\n",
    "    .setInputCols([\"sentence\", \"token\"])\\\n",
    "    .setOutputCol(\"word_embeddings\")\n",
    "\n",
    "# Named Entity Recognition for clinical concepts.\n",
    "clinical_ner = medical.NerModel.pretrained(\"ner_clinical\", \"en\", \"clinical/models\") \\\n",
    "    .setInputCols([\"sentence\", \"token\", \"word_embeddings\"]) \\\n",
    "    .setOutputCol(\"ner\")\n",
    "\n",
    "ner_converter_icd = medical.NerConverterInternal() \\\n",
    "    .setInputCols([\"sentence\", \"token\", \"ner\"]) \\\n",
    "    .setOutputCol(\"ner_chunk\")\\\n",
    "    .setWhiteList(['PROBLEM'])\\\n",
    "    .setPreservePosition(False)\n",
    "\n",
    "c2doc = nlp.Chunk2Doc()\\\n",
    "    .setInputCols(\"ner_chunk\")\\\n",
    "    .setOutputCol(\"doc_ner_chunk\") \n",
    "\n",
    "sbert_embedder = nlp.BertSentenceEmbeddings.pretrained('sbiobert_base_cased_mli', 'en','clinical/models')\\\n",
    "    .setInputCols([\"doc_ner_chunk\"])\\\n",
    "    .setOutputCol(\"sentence_embeddings\")\\\n",
    "    .setCaseSensitive(False)\n",
    "    \n",
    "icd_resolver = medical.SentenceEntityResolverModel.pretrained(\"sbiobertresolve_icd10cm_augmented_billable_hcc\",\"en\", \"clinical/models\") \\\n",
    "    .setInputCols([\"sentence_embeddings\"]) \\\n",
    "    .setOutputCol(\"icd10cm_code\")\\\n",
    "    .setDistanceFunction(\"EUCLIDEAN\")\n",
    "    \n",
    "\n",
    "# Build up the pipeline\n",
    "resolver_pipeline = nlp.Pipeline(\n",
    "    stages = [\n",
    "        document_assembler,\n",
    "        sentenceDetectorDL,\n",
    "        tokenizer,\n",
    "        word_embeddings,\n",
    "        clinical_ner,\n",
    "        ner_converter_icd,\n",
    "        c2doc,\n",
    "        sbert_embedder,\n",
    "        icd_resolver\n",
    "  ])\n",
    "\n",
    "\n",
    "empty_data = spark.createDataFrame([['']]).toDF(\"text\")\n",
    "\n",
    "model = resolver_pipeline.fit(empty_data)"
   ]
  },
  {
   "cell_type": "markdown",
   "metadata": {
    "application/vnd.databricks.v1+cell": {
     "cellMetadata": {
      "byteLimit": 2048000,
      "rowLimit": 10000
     },
     "inputWidgets": {},
     "nuid": "b3a132fe-59ba-4ac5-b8e1-20f23f20150a",
     "showTitle": false,
     "title": ""
    },
    "id": "B7KVjaN5hwCZ"
   },
   "source": [
    "**Create a SparkDataFrame with the content**\n",
    "\n",
    "Now we will create a sample Spark dataframe with our clinical note example.\n",
    "\n",
    "In this example we are working over a unique clinical note. In production environments a table with several of those clinical notes could be distributed in a cluster and be run in large scale systems."
   ]
  },
  {
   "cell_type": "code",
   "execution_count": 0,
   "metadata": {
    "application/vnd.databricks.v1+cell": {
     "cellMetadata": {
      "byteLimit": 2048000,
      "rowLimit": 10000
     },
     "inputWidgets": {},
     "nuid": "a33e1673-a8c6-447e-a088-1c1a5cbd52f3",
     "showTitle": false,
     "title": ""
    },
    "id": "UULGuxdeg94c"
   },
   "outputs": [],
   "source": [
    "clinical_note = (\n",
    "    'A 28-year-old female with a history of gestational diabetes mellitus diagnosed eight years '\n",
    "    'prior to presentation and subsequent type two diabetes mellitus, associated '\n",
    "    'with an acute hepatitis, and obesity with a body mass index (BMI) of 33.5 kg/m2, '\n",
    "    'presented with a one-week history of polyuria, polydipsia, poor appetite, and vomiting. '\n",
    "    'Two weeks prior to presentation, she was treated with a five-day course of amoxicillin '\n",
    "    'for a respiratory tract infection. She had been on dapagliflozin for six months '\n",
    "    'at the time of presentation. Physical examination on presentation was significant for dry oral mucosa; '\n",
    "    'significantly, her abdominal examination was benign with no tenderness or guarding. Pertinent '\n",
    "    'laboratory findings on admission were: serum glucose 111 mg/dl, bicarbonate 18 mmol/l, anion gap 20, '\n",
    "    'creatinine 0.4 mg/dL, triglycerides 508 mg/dL, total cholesterol 122 mg/dL, glycated hemoglobin (HbA1c) '\n",
    "    '10%, and venous pH 7.27. Serum lipase was normal at 43 U/L. Serum acetone levels could not be assessed '\n",
    "    'as blood samples kept hemolyzing due to significant lipemia. The patient was initially admitted for '\n",
    "    'starvation ketosis, as she reported poor oral intake for three days prior to admission.')\n",
    "\n",
    "data_ner = spark.createDataFrame([[clinical_note]]).toDF(\"text\")"
   ]
  },
  {
   "cell_type": "code",
   "execution_count": 0,
   "metadata": {
    "application/vnd.databricks.v1+cell": {
     "cellMetadata": {
      "byteLimit": 2048000,
      "rowLimit": 10000
     },
     "inputWidgets": {},
     "nuid": "ea60939b-daff-47cc-a812-08d4611332f2",
     "showTitle": false,
     "title": ""
    }
   },
   "outputs": [
    {
     "output_type": "stream",
     "name": "stdout",
     "output_type": "stream",
     "text": [
      "+----------------------------------------------------------------------------------------------------+\n|                                                                                                text|\n+----------------------------------------------------------------------------------------------------+\n|A 28-year-old female with a history of gestational diabetes mellitus diagnosed eight years prior ...|\n+----------------------------------------------------------------------------------------------------+\n\n"
     ]
    }
   ],
   "source": [
    "data_ner.show(truncate = 100)"
   ]
  },
  {
   "cell_type": "code",
   "execution_count": 0,
   "metadata": {
    "application/vnd.databricks.v1+cell": {
     "cellMetadata": {
      "byteLimit": 2048000,
      "rowLimit": 10000
     },
     "inputWidgets": {},
     "nuid": "bed995f6-7837-42d7-98ad-1819050d1901",
     "showTitle": false,
     "title": ""
    }
   },
   "outputs": [],
   "source": [
    "icd10_result = model.transform(data_ner)"
   ]
  },
  {
   "cell_type": "code",
   "execution_count": 0,
   "metadata": {
    "application/vnd.databricks.v1+cell": {
     "cellMetadata": {
      "byteLimit": 2048000,
      "rowLimit": 10000
     },
     "inputWidgets": {},
     "nuid": "39fb5196-428c-4310-aed5-c70fd178fcd6",
     "showTitle": false,
     "title": ""
    }
   },
   "outputs": [
    {
     "output_type": "stream",
     "name": "stdout",
     "output_type": "stream",
     "text": [
      "+----------------------------------------------------------------------------------------------------+\n|                                                                                            metadata|\n+----------------------------------------------------------------------------------------------------+\n|[{chunk -> 0, all_k_results -> O24.4:::O24.41:::O24.43:::Z86.32:::Z87.5:::O24.31:::O24.11:::O24.1...|\n+----------------------------------------------------------------------------------------------------+\n\nCPU times: user 21.5 ms, sys: 17.2 ms, total: 38.7 ms\nWall time: 1min 8s\n"
     ]
    }
   ],
   "source": [
    "%time icd10_result.select(\"icd10cm_code.metadata\").show(truncate=100)"
   ]
  },
  {
   "cell_type": "code",
   "execution_count": 0,
   "metadata": {
    "application/vnd.databricks.v1+cell": {
     "cellMetadata": {
      "byteLimit": 2048000,
      "rowLimit": 10000
     },
     "inputWidgets": {},
     "nuid": "d7b86fde-9040-4725-ab31-83320f8eb84b",
     "showTitle": false,
     "title": ""
    }
   },
   "outputs": [
    {
     "output_type": "stream",
     "name": "stdout",
     "output_type": "stream",
     "text": [
      "CPU times: user 72 ms, sys: 33.5 ms, total: 105 ms\nWall time: 19.2 s\n"
     ]
    },
    {
     "output_type": "display_data",
     "data": {
      "text/html": [
       "<div>\n",
       "<style scoped>\n",
       "    .dataframe tbody tr th:only-of-type {\n",
       "        vertical-align: middle;\n",
       "    }\n",
       "\n",
       "    .dataframe tbody tr th {\n",
       "        vertical-align: top;\n",
       "    }\n",
       "\n",
       "    .dataframe thead th {\n",
       "        text-align: right;\n",
       "    }\n",
       "</style>\n",
       "<table border=\"1\" class=\"dataframe\">\n",
       "  <thead>\n",
       "    <tr style=\"text-align: right;\">\n",
       "      <th></th>\n",
       "      <th>sent_id</th>\n",
       "      <th>ner_chunk</th>\n",
       "      <th>entity</th>\n",
       "      <th>icd10_code</th>\n",
       "      <th>all_codes</th>\n",
       "      <th>resolutions</th>\n",
       "      <th>hcc_list</th>\n",
       "    </tr>\n",
       "  </thead>\n",
       "  <tbody>\n",
       "    <tr>\n",
       "      <th>0</th>\n",
       "      <td>0</td>\n",
       "      <td>gestational diabetes mellitus</td>\n",
       "      <td>PROBLEM</td>\n",
       "      <td>O24.4</td>\n",
       "      <td>[O24.4, O24.41, O24.43, Z86.32, Z87.5, O24.31, O24.11, O24.1, O24.81]</td>\n",
       "      <td>[gestational diabetes mellitus [gestational diabetes mellitus], gestational diabetes mellitus (disorder) [gestational diabetes mellitus in pregnancy], postpartum gestational diabetes mellitus [gestational diabetes mellitus in the puerperium], history of gestational diabetes mellitus [personal history of gestational diabetes], history of gestational diabetes mellitus (situation) [personal history of complications of pregnancy, childbirth and the puerperium], pre-existing diabetes mellitus in pregnancy [unspecified pre-existing diabetes mellitus in pregnancy], pre-existing diabetes mellitus in pregnancy (disorder) [pre-existing type 2 diabetes mellitus, in pregnancy], pre-existing type 2 diabetes mellitus in pregnancy [pre-existing type 2 diabetes mellitus, in pregnancy, childbirth and the puerperium], other pre-existing diabetes mellitus in pregnancy [other pre-existing diabetes mellitus in pregnancy]]</td>\n",
       "      <td>[0||0||0, 0||0||0, 0||0||0, 1||0||0, 0||0||0, 0||0||0, 0||0||0, 0||0||0, 0||0||0]</td>\n",
       "    </tr>\n",
       "    <tr>\n",
       "      <th>1</th>\n",
       "      <td>0</td>\n",
       "      <td>subsequent type two diabetes mellitus</td>\n",
       "      <td>PROBLEM</td>\n",
       "      <td>O24.11</td>\n",
       "      <td>[O24.11, E11.8, E11, E13.9, E11.9, E11.3, E11.44, Z86.3, Z86.39, E11.32, E11.43, E11.5]</td>\n",
       "      <td>[pre-existing type 2 diabetes mellitus [pre-existing type 2 diabetes mellitus, in pregnancy], disorder associated with type 2 diabetes mellitus [type 2 diabetes mellitus with unspecified complications], type 2 diabetes mellitus [type 2 diabetes mellitus], secondary diabetes mellitus [other specified diabetes mellitus without complications], diabetes mellitus type 2 [type 2 diabetes mellitus without complications], disorder of eye due to type 2 diabetes mellitus [type 2 diabetes mellitus with ophthalmic complications], disorder of nervous system due to type 2 diabetes mellitus [type 2 diabetes mellitus with diabetic amyotrophy], history of diabetes mellitus type 2 (situation) [personal history of endocrine, nutritional and metabolic diseases], history of diabetes mellitus type 2 [personal history of other endocrine, nutritional and metabolic disease], secondary endocrine diabetes mellitus [type 2 diabetes mellitus with mild nonproliferative diabetic retinopathy], neurological disorder with type 2 diabetes mellitus [type 2 diabetes mellitus with diabetic autonomic (poly)neuropathy], peripheral circulatory disorder due to type 2 diabetes mellitus [type 2 diabetes mellitus with circulatory complications]]</td>\n",
       "      <td>[0||0||0, 1||1||18, 0||0||0, 1||1||19, 1||1||19, 0||0||0, 1||1||18, 0||0||0, 1||0||0, 0||0||0, 1||1||18, 0||0||0]</td>\n",
       "    </tr>\n",
       "    <tr>\n",
       "      <th>2</th>\n",
       "      <td>0</td>\n",
       "      <td>an acute hepatitis</td>\n",
       "      <td>PROBLEM</td>\n",
       "      <td>B15</td>\n",
       "      <td>[B15, K72.0, B17.9, B17.2, Z03.89, B15.9, K75.2, K71.2, B19.9, B16, K70.1, B16.9]</td>\n",
       "      <td>[acute hepatitis a [acute hepatitis a], acute hepatitis [acute and subacute hepatic failure], acute infectious hepatitis [acute viral hepatitis, unspecified], acute hepatitis e [acute hepatitis e], acute infectious hepatitis suspected [encounter for observation for other suspected diseases and conditions ruled out], acute type a viral hepatitis [hepatitis a without hepatic coma], acute focal hepatitis [nonspecific reactive hepatitis], toxic liver disease with acute hepatitis [toxic liver disease with acute hepatitis], fulminant hepatitis [unspecified viral hepatitis without hepatic coma], acute hepatitis b [acute hepatitis b], acute alcoholic hepatitis [alcoholic hepatitis], acute fulminating viral hepatitis [acute hepatitis b without delta-agent and without hepatic coma]]</td>\n",
       "      <td>[0||0||0, 0||0||0, 1||0||0, 1||0||0, 1||0||0, 1||0||0, 1||0||0, 1||0||0, 1||0||0, 0||0||0, 0||0||0, 1||0||0]</td>\n",
       "    </tr>\n",
       "    <tr>\n",
       "      <th>3</th>\n",
       "      <td>0</td>\n",
       "      <td>obesity</td>\n",
       "      <td>PROBLEM</td>\n",
       "      <td>E66.9</td>\n",
       "      <td>[E66.9, E66.8, Z68.41, Q13.0, E66, E66.01, Z86.39, E34.9, H35.50, Z83.49, Q55.62, E66.3]</td>\n",
       "      <td>[obesity [obesity, unspecified], abdominal obesity [other obesity], obese [body mass index [bmi] 40.0-44.9, adult], central obesity [coloboma of iris], overweight and obesity [overweight and obesity], morbid obesity [morbid (severe) obesity due to excess calories], h/o: obesity [personal history of other endocrine, nutritional and metabolic disease], severe obesity [endocrine disorder, unspecified], centripetal obesity [unspecified hereditary retinal dystrophy], fh: obesity [family history of other endocrine, nutritional and metabolic diseases], truncal obesity [hypoplasia of penis], overweight [overweight]]</td>\n",
       "      <td>[1||0||0, 1||0||0, 1||1||22, 1||0||0, 0||0||0, 1||1||22, 1||0||0, 1||0||0, 1||0||0, 1||0||0, 1||0||0, 1||0||0]</td>\n",
       "    </tr>\n",
       "    <tr>\n",
       "      <th>4</th>\n",
       "      <td>0</td>\n",
       "      <td>a body mass index</td>\n",
       "      <td>PROBLEM</td>\n",
       "      <td>Z68.41</td>\n",
       "      <td>[Z68.41, E66.9, R22.9, Z68.1, R22.3, R22.1, Z68, R22.2, R22.0, R41.89, M62.58, P29.9, R19.00, R89.8, M21.70, R19.0, M21.80]</td>\n",
       "      <td>[finding of body mass index [body mass index [bmi] 40.0-44.9, adult], observation of body mass index [obesity, unspecified], mass of body region [localized swelling, mass and lump, unspecified], finding of body mass index (finding) [body mass index [bmi] 19.9 or less, adult], mass of upper limb [localized swelling, mass and lump, upper limb], head and neck mass [localized swelling, mass and lump, neck], body mass index [bmi] [body mass index [bmi]], mass of trunk [localized swelling, mass and lump, trunk], mass of head [localized swelling, mass and lump, head], preoccupation with body size [other symptoms and signs involving cognitive functions and awareness], finding of size of upper limb [muscle wasting and atrophy, not elsewhere classified, other site], mass of cardiovascular structure [cardiovascular disorder originating in the perinatal period, unspecified], mass of abdominal cavity structure [intra-abdominal and pelvic swelling, mass and lump, unspecified site], increase in circumference [other abnormal findings in specimens from other organs, systems and tissues], finding of proportion of upper limb [unequal limb length (acquired), unspecified site], visible abdominal mass [intra-abdominal and pelvic swelling, mass and lump], observation of size of upper limb [other specified acquired deformities of unspecified limb]]</td>\n",
       "      <td>[1||1||22, 1||0||0, 1||0||0, 1||0||0, 0||0||0, 1||0||0, 0||0||0, 1||0||0, 1||0||0, 1||0||0, 1||0||0, 1||0||0, 1||0||0, 1||0||0, 1||0||0, 0||0||0, 1||0||0]</td>\n",
       "    </tr>\n",
       "    <tr>\n",
       "      <th>5</th>\n",
       "      <td>0</td>\n",
       "      <td>polyuria</td>\n",
       "      <td>PROBLEM</td>\n",
       "      <td>R35</td>\n",
       "      <td>[R35, R35.81, R35.8, E23.2, R31, R35.0, R82.99, N40.1, E72.3, O04.8, R30.0, R31.9, E72.01, R80.9, E88.8, R80.8, N03.0, P96.0, R80, N02.6]</td>\n",
       "      <td>[polyuria [polyuria], nocturnal polyuria [nocturnal polyuria], polyuric state [other polyuria], polyuric state (disorder) [diabetes insipidus], hematuria [hematuria], micturition frequency and polyuria [frequency of micturition], uricosuria [other abnormal findings in urine], pollakiuria [benign prostatic hyperplasia with lower urinary tract symptoms], saccharopinuria [disorders of lysine and hydroxylysine metabolism], oligouria [(induced) termination of pregnancy with other and unspecified complications], dysuria [dysuria], hematuria syndrome [hematuria, unspecified], cystinuria [cystinuria], cyclic proteinuria [proteinuria, unspecified], sialuria [other specified metabolic disorders], paroxysmal proteinuria [other proteinuria], renal hematuria (disorder) [chronic nephritic syndrome with minor glomerular abnormality], oliguria and anuria [congenital renal failure], proteinuria [proteinuria], persistent hematuria (disorder) [recurrent and persistent hematuria with dense deposit disease]]</td>\n",
       "      <td>[0||0||0, 1||0||0, 0||0||0, 1||1||23, 0||0||0, 1||0||0, 0||0||0, 1||0||0, 1||1||23, 0||0||0, 1||0||0, 1||0||0, 1||1||23, 1||0||0, 0||0||0, 1||0||0, 1||0||0, 1||0||0, 0||0||0, 1||0||0]</td>\n",
       "    </tr>\n",
       "    <tr>\n",
       "      <th>6</th>\n",
       "      <td>0</td>\n",
       "      <td>polydipsia</td>\n",
       "      <td>PROBLEM</td>\n",
       "      <td>R63.1</td>\n",
       "      <td>[R63.1, F63.89, E23.2, F63.9, O40, G47.5, M79.89, R63.2, R06.1, H53.8, I44.2, G47.9, G47.8, G47.1, Q30.8, I45.9, R00.2, R06.81, G47.54, R06.8, M35.3]</td>\n",
       "      <td>[polydipsia [polydipsia], psychogenic polydipsia [other impulse disorders], primary polydipsia [diabetes insipidus], psychogenic polydipsia (disorder) [impulse disorder, unspecified], polyhydramnios [polyhydramnios], parasomnia [parasomnia], polyalgia [other specified soft tissue disorders], polyphagia [polyphagia], biphasic stridor [stridor], oscillopsia [other visual disturbances], parasystole (disorder) [atrioventricular block, complete], dyssomnia [sleep disorder, unspecified], parasomnia (disorder) [other sleep disorders], hypersomnia (disorder) [hypersomnia], polyrrhinia [other congenital malformations of nose], palpitations - irregular [conduction disorder, unspecified], intermittent palpitations [palpitations], vagal apnea [apnea, not elsewhere classified], secondary parasomnia [parasomnia in conditions classified elsewhere], vagal apnoea [other abnormalities of breathing], polymyalgia [polymyalgia rheumatica]]</td>\n",
       "      <td>[1||0||0, 1||0||0, 1||1||23, 1||0||0, 0||0||0, 0||0||0, 1||0||0, 1||0||0, 1||0||0, 1||0||0, 1||1||96, 1||0||0, 1||0||0, 0||0||0, 1||0||0, 1||0||0, 1||0||0, 1||0||0, 1||0||0, 0||0||0, 1||1||40]</td>\n",
       "    </tr>\n",
       "    <tr>\n",
       "      <th>7</th>\n",
       "      <td>0</td>\n",
       "      <td>poor appetite</td>\n",
       "      <td>PROBLEM</td>\n",
       "      <td>R63.0</td>\n",
       "      <td>[R63.0, P92.9, R43.8, R43.2, E86, R19.6, F52.0, Z72.4, R06.89, Z76.89, R53.1, R45.8, F50.8, R10.9, R45.81]</td>\n",
       "      <td>[poor appetite [anorexia], poor feeding [feeding problem of newborn, unspecified], bad taste in mouth [other disturbances of smell and taste], unpleasant taste in mouth [parageusia], poor fluid intake [volume depletion], bad breath [halitosis], low libido [hypoactive sexual desire disorder], diet poor (finding) [inappropriate diet and eating habits], poor respiratory drive [other abnormalities of breathing], patient dissatisfied with nutrition regime [persons encountering health services in other specified circumstances], general weakness [weakness], diminished pleasure [other symptoms and signs involving emotional state], psychogenic loss of appetite [other eating disorders], stomach discomfort [unspecified abdominal pain], poor self-esteem [low self-esteem]]</td>\n",
       "      <td>[1||0||0, 1||0||0, 1||0||0, 1||0||0, 0||0||0, 1||0||0, 1||0||0, 1||0||0, 1||0||0, 1||0||0, 1||0||0, 0||0||0, 0||0||0, 1||0||0, 1||0||0]</td>\n",
       "    </tr>\n",
       "    <tr>\n",
       "      <th>8</th>\n",
       "      <td>0</td>\n",
       "      <td>vomiting</td>\n",
       "      <td>PROBLEM</td>\n",
       "      <td>R11.1</td>\n",
       "      <td>[R11.1, R11, R11.10, G43.A1, P92.1, P92.09, G43.A, R11.13, R11.0]</td>\n",
       "      <td>[vomiting [vomiting], intermittent vomiting [nausea and vomiting], vomiting symptoms [vomiting, unspecified], periodic vomiting [cyclical vomiting, in migraine, intractable], finding of vomiting [regurgitation and rumination of newborn], c/o - vomiting [other vomiting of newborn], cyclical vomiting [cyclical vomiting], faeculent vomit o/e [vomiting of fecal matter], nausea [nausea]]</td>\n",
       "      <td>[0||0||0, 0||0||0, 1||0||0, 1||0||0, 1||0||0, 1||0||0, 0||0||0, 1||0||0, 1||0||0]</td>\n",
       "    </tr>\n",
       "    <tr>\n",
       "      <th>9</th>\n",
       "      <td>1</td>\n",
       "      <td>a respiratory tract infection</td>\n",
       "      <td>PROBLEM</td>\n",
       "      <td>J98.8</td>\n",
       "      <td>[J98.8, J06.9, A49.9, J22, J20.9, Z59.3, T17, J04.10, Z13.83, J18.9, P28.9, J39.9, J98.9]</td>\n",
       "      <td>[respiratory tract infection [other specified respiratory disorders], upper respiratory tract infection [acute upper respiratory infection, unspecified], bacterial respiratory infection [bacterial infection, unspecified], acute respiratory infection [unspecified acute lower respiratory infection], bronchial infection [acute bronchitis, unspecified], institution-acquired respiratory infection [problems related to living in residential institution], foreign body in respiratory tract [foreign body in respiratory tract], tracheal infection [acute tracheitis without obstruction], suspected respiratory disease [encounter for screening for respiratory disorder nec], pulmonary infection [pneumonia, unspecified organism], respiratory disease [respiratory condition of newborn, unspecified], disease of upper respiratory tract [disease of upper respiratory tract, unspecified], disease of respiratory system [respiratory disorder, unspecified]]</td>\n",
       "      <td>[1||0||0, 1||0||0, 1||0||0, 1||0||0, 1||0||0, 1||0||0, 0||0||0, 1||0||0, 1||0||0, 1||0||0, 1||0||0, 1||0||0, 1||0||0]</td>\n",
       "    </tr>\n",
       "  </tbody>\n",
       "</table>\n",
       "</div>"
      ]
     },
     "metadata": {
      "application/vnd.databricks.v1+output": {
       "addedWidgets": {},
       "arguments": {},
       "data": "<div>\n<style scoped>\n    .dataframe tbody tr th:only-of-type {\n        vertical-align: middle;\n    }\n\n    .dataframe tbody tr th {\n        vertical-align: top;\n    }\n\n    .dataframe thead th {\n        text-align: right;\n    }\n</style>\n<table border=\"1\" class=\"dataframe\">\n  <thead>\n    <tr style=\"text-align: right;\">\n      <th></th>\n      <th>sent_id</th>\n      <th>ner_chunk</th>\n      <th>entity</th>\n      <th>icd10_code</th>\n      <th>all_codes</th>\n      <th>resolutions</th>\n      <th>hcc_list</th>\n    </tr>\n  </thead>\n  <tbody>\n    <tr>\n      <th>0</th>\n      <td>0</td>\n      <td>gestational diabetes mellitus</td>\n      <td>PROBLEM</td>\n      <td>O24.4</td>\n      <td>[O24.4, O24.41, O24.43, Z86.32, Z87.5, O24.31, O24.11, O24.1, O24.81]</td>\n      <td>[gestational diabetes mellitus [gestational diabetes mellitus], gestational diabetes mellitus (disorder) [gestational diabetes mellitus in pregnancy], postpartum gestational diabetes mellitus [gestational diabetes mellitus in the puerperium], history of gestational diabetes mellitus [personal history of gestational diabetes], history of gestational diabetes mellitus (situation) [personal history of complications of pregnancy, childbirth and the puerperium], pre-existing diabetes mellitus in pregnancy [unspecified pre-existing diabetes mellitus in pregnancy], pre-existing diabetes mellitus in pregnancy (disorder) [pre-existing type 2 diabetes mellitus, in pregnancy], pre-existing type 2 diabetes mellitus in pregnancy [pre-existing type 2 diabetes mellitus, in pregnancy, childbirth and the puerperium], other pre-existing diabetes mellitus in pregnancy [other pre-existing diabetes mellitus in pregnancy]]</td>\n      <td>[0||0||0, 0||0||0, 0||0||0, 1||0||0, 0||0||0, 0||0||0, 0||0||0, 0||0||0, 0||0||0]</td>\n    </tr>\n    <tr>\n      <th>1</th>\n      <td>0</td>\n      <td>subsequent type two diabetes mellitus</td>\n      <td>PROBLEM</td>\n      <td>O24.11</td>\n      <td>[O24.11, E11.8, E11, E13.9, E11.9, E11.3, E11.44, Z86.3, Z86.39, E11.32, E11.43, E11.5]</td>\n      <td>[pre-existing type 2 diabetes mellitus [pre-existing type 2 diabetes mellitus, in pregnancy], disorder associated with type 2 diabetes mellitus [type 2 diabetes mellitus with unspecified complications], type 2 diabetes mellitus [type 2 diabetes mellitus], secondary diabetes mellitus [other specified diabetes mellitus without complications], diabetes mellitus type 2 [type 2 diabetes mellitus without complications], disorder of eye due to type 2 diabetes mellitus [type 2 diabetes mellitus with ophthalmic complications], disorder of nervous system due to type 2 diabetes mellitus [type 2 diabetes mellitus with diabetic amyotrophy], history of diabetes mellitus type 2 (situation) [personal history of endocrine, nutritional and metabolic diseases], history of diabetes mellitus type 2 [personal history of other endocrine, nutritional and metabolic disease], secondary endocrine diabetes mellitus [type 2 diabetes mellitus with mild nonproliferative diabetic retinopathy], neurological disorder with type 2 diabetes mellitus [type 2 diabetes mellitus with diabetic autonomic (poly)neuropathy], peripheral circulatory disorder due to type 2 diabetes mellitus [type 2 diabetes mellitus with circulatory complications]]</td>\n      <td>[0||0||0, 1||1||18, 0||0||0, 1||1||19, 1||1||19, 0||0||0, 1||1||18, 0||0||0, 1||0||0, 0||0||0, 1||1||18, 0||0||0]</td>\n    </tr>\n    <tr>\n      <th>2</th>\n      <td>0</td>\n      <td>an acute hepatitis</td>\n      <td>PROBLEM</td>\n      <td>B15</td>\n      <td>[B15, K72.0, B17.9, B17.2, Z03.89, B15.9, K75.2, K71.2, B19.9, B16, K70.1, B16.9]</td>\n      <td>[acute hepatitis a [acute hepatitis a], acute hepatitis [acute and subacute hepatic failure], acute infectious hepatitis [acute viral hepatitis, unspecified], acute hepatitis e [acute hepatitis e], acute infectious hepatitis suspected [encounter for observation for other suspected diseases and conditions ruled out], acute type a viral hepatitis [hepatitis a without hepatic coma], acute focal hepatitis [nonspecific reactive hepatitis], toxic liver disease with acute hepatitis [toxic liver disease with acute hepatitis], fulminant hepatitis [unspecified viral hepatitis without hepatic coma], acute hepatitis b [acute hepatitis b], acute alcoholic hepatitis [alcoholic hepatitis], acute fulminating viral hepatitis [acute hepatitis b without delta-agent and without hepatic coma]]</td>\n      <td>[0||0||0, 0||0||0, 1||0||0, 1||0||0, 1||0||0, 1||0||0, 1||0||0, 1||0||0, 1||0||0, 0||0||0, 0||0||0, 1||0||0]</td>\n    </tr>\n    <tr>\n      <th>3</th>\n      <td>0</td>\n      <td>obesity</td>\n      <td>PROBLEM</td>\n      <td>E66.9</td>\n      <td>[E66.9, E66.8, Z68.41, Q13.0, E66, E66.01, Z86.39, E34.9, H35.50, Z83.49, Q55.62, E66.3]</td>\n      <td>[obesity [obesity, unspecified], abdominal obesity [other obesity], obese [body mass index [bmi] 40.0-44.9, adult], central obesity [coloboma of iris], overweight and obesity [overweight and obesity], morbid obesity [morbid (severe) obesity due to excess calories], h/o: obesity [personal history of other endocrine, nutritional and metabolic disease], severe obesity [endocrine disorder, unspecified], centripetal obesity [unspecified hereditary retinal dystrophy], fh: obesity [family history of other endocrine, nutritional and metabolic diseases], truncal obesity [hypoplasia of penis], overweight [overweight]]</td>\n      <td>[1||0||0, 1||0||0, 1||1||22, 1||0||0, 0||0||0, 1||1||22, 1||0||0, 1||0||0, 1||0||0, 1||0||0, 1||0||0, 1||0||0]</td>\n    </tr>\n    <tr>\n      <th>4</th>\n      <td>0</td>\n      <td>a body mass index</td>\n      <td>PROBLEM</td>\n      <td>Z68.41</td>\n      <td>[Z68.41, E66.9, R22.9, Z68.1, R22.3, R22.1, Z68, R22.2, R22.0, R41.89, M62.58, P29.9, R19.00, R89.8, M21.70, R19.0, M21.80]</td>\n      <td>[finding of body mass index [body mass index [bmi] 40.0-44.9, adult], observation of body mass index [obesity, unspecified], mass of body region [localized swelling, mass and lump, unspecified], finding of body mass index (finding) [body mass index [bmi] 19.9 or less, adult], mass of upper limb [localized swelling, mass and lump, upper limb], head and neck mass [localized swelling, mass and lump, neck], body mass index [bmi] [body mass index [bmi]], mass of trunk [localized swelling, mass and lump, trunk], mass of head [localized swelling, mass and lump, head], preoccupation with body size [other symptoms and signs involving cognitive functions and awareness], finding of size of upper limb [muscle wasting and atrophy, not elsewhere classified, other site], mass of cardiovascular structure [cardiovascular disorder originating in the perinatal period, unspecified], mass of abdominal cavity structure [intra-abdominal and pelvic swelling, mass and lump, unspecified site], increase in circumference [other abnormal findings in specimens from other organs, systems and tissues], finding of proportion of upper limb [unequal limb length (acquired), unspecified site], visible abdominal mass [intra-abdominal and pelvic swelling, mass and lump], observation of size of upper limb [other specified acquired deformities of unspecified limb]]</td>\n      <td>[1||1||22, 1||0||0, 1||0||0, 1||0||0, 0||0||0, 1||0||0, 0||0||0, 1||0||0, 1||0||0, 1||0||0, 1||0||0, 1||0||0, 1||0||0, 1||0||0, 1||0||0, 0||0||0, 1||0||0]</td>\n    </tr>\n    <tr>\n      <th>5</th>\n      <td>0</td>\n      <td>polyuria</td>\n      <td>PROBLEM</td>\n      <td>R35</td>\n      <td>[R35, R35.81, R35.8, E23.2, R31, R35.0, R82.99, N40.1, E72.3, O04.8, R30.0, R31.9, E72.01, R80.9, E88.8, R80.8, N03.0, P96.0, R80, N02.6]</td>\n      <td>[polyuria [polyuria], nocturnal polyuria [nocturnal polyuria], polyuric state [other polyuria], polyuric state (disorder) [diabetes insipidus], hematuria [hematuria], micturition frequency and polyuria [frequency of micturition], uricosuria [other abnormal findings in urine], pollakiuria [benign prostatic hyperplasia with lower urinary tract symptoms], saccharopinuria [disorders of lysine and hydroxylysine metabolism], oligouria [(induced) termination of pregnancy with other and unspecified complications], dysuria [dysuria], hematuria syndrome [hematuria, unspecified], cystinuria [cystinuria], cyclic proteinuria [proteinuria, unspecified], sialuria [other specified metabolic disorders], paroxysmal proteinuria [other proteinuria], renal hematuria (disorder) [chronic nephritic syndrome with minor glomerular abnormality], oliguria and anuria [congenital renal failure], proteinuria [proteinuria], persistent hematuria (disorder) [recurrent and persistent hematuria with dense deposit disease]]</td>\n      <td>[0||0||0, 1||0||0, 0||0||0, 1||1||23, 0||0||0, 1||0||0, 0||0||0, 1||0||0, 1||1||23, 0||0||0, 1||0||0, 1||0||0, 1||1||23, 1||0||0, 0||0||0, 1||0||0, 1||0||0, 1||0||0, 0||0||0, 1||0||0]</td>\n    </tr>\n    <tr>\n      <th>6</th>\n      <td>0</td>\n      <td>polydipsia</td>\n      <td>PROBLEM</td>\n      <td>R63.1</td>\n      <td>[R63.1, F63.89, E23.2, F63.9, O40, G47.5, M79.89, R63.2, R06.1, H53.8, I44.2, G47.9, G47.8, G47.1, Q30.8, I45.9, R00.2, R06.81, G47.54, R06.8, M35.3]</td>\n      <td>[polydipsia [polydipsia], psychogenic polydipsia [other impulse disorders], primary polydipsia [diabetes insipidus], psychogenic polydipsia (disorder) [impulse disorder, unspecified], polyhydramnios [polyhydramnios], parasomnia [parasomnia], polyalgia [other specified soft tissue disorders], polyphagia [polyphagia], biphasic stridor [stridor], oscillopsia [other visual disturbances], parasystole (disorder) [atrioventricular block, complete], dyssomnia [sleep disorder, unspecified], parasomnia (disorder) [other sleep disorders], hypersomnia (disorder) [hypersomnia], polyrrhinia [other congenital malformations of nose], palpitations - irregular [conduction disorder, unspecified], intermittent palpitations [palpitations], vagal apnea [apnea, not elsewhere classified], secondary parasomnia [parasomnia in conditions classified elsewhere], vagal apnoea [other abnormalities of breathing], polymyalgia [polymyalgia rheumatica]]</td>\n      <td>[1||0||0, 1||0||0, 1||1||23, 1||0||0, 0||0||0, 0||0||0, 1||0||0, 1||0||0, 1||0||0, 1||0||0, 1||1||96, 1||0||0, 1||0||0, 0||0||0, 1||0||0, 1||0||0, 1||0||0, 1||0||0, 1||0||0, 0||0||0, 1||1||40]</td>\n    </tr>\n    <tr>\n      <th>7</th>\n      <td>0</td>\n      <td>poor appetite</td>\n      <td>PROBLEM</td>\n      <td>R63.0</td>\n      <td>[R63.0, P92.9, R43.8, R43.2, E86, R19.6, F52.0, Z72.4, R06.89, Z76.89, R53.1, R45.8, F50.8, R10.9, R45.81]</td>\n      <td>[poor appetite [anorexia], poor feeding [feeding problem of newborn, unspecified], bad taste in mouth [other disturbances of smell and taste], unpleasant taste in mouth [parageusia], poor fluid intake [volume depletion], bad breath [halitosis], low libido [hypoactive sexual desire disorder], diet poor (finding) [inappropriate diet and eating habits], poor respiratory drive [other abnormalities of breathing], patient dissatisfied with nutrition regime [persons encountering health services in other specified circumstances], general weakness [weakness], diminished pleasure [other symptoms and signs involving emotional state], psychogenic loss of appetite [other eating disorders], stomach discomfort [unspecified abdominal pain], poor self-esteem [low self-esteem]]</td>\n      <td>[1||0||0, 1||0||0, 1||0||0, 1||0||0, 0||0||0, 1||0||0, 1||0||0, 1||0||0, 1||0||0, 1||0||0, 1||0||0, 0||0||0, 0||0||0, 1||0||0, 1||0||0]</td>\n    </tr>\n    <tr>\n      <th>8</th>\n      <td>0</td>\n      <td>vomiting</td>\n      <td>PROBLEM</td>\n      <td>R11.1</td>\n      <td>[R11.1, R11, R11.10, G43.A1, P92.1, P92.09, G43.A, R11.13, R11.0]</td>\n      <td>[vomiting [vomiting], intermittent vomiting [nausea and vomiting], vomiting symptoms [vomiting, unspecified], periodic vomiting [cyclical vomiting, in migraine, intractable], finding of vomiting [regurgitation and rumination of newborn], c/o - vomiting [other vomiting of newborn], cyclical vomiting [cyclical vomiting], faeculent vomit o/e [vomiting of fecal matter], nausea [nausea]]</td>\n      <td>[0||0||0, 0||0||0, 1||0||0, 1||0||0, 1||0||0, 1||0||0, 0||0||0, 1||0||0, 1||0||0]</td>\n    </tr>\n    <tr>\n      <th>9</th>\n      <td>1</td>\n      <td>a respiratory tract infection</td>\n      <td>PROBLEM</td>\n      <td>J98.8</td>\n      <td>[J98.8, J06.9, A49.9, J22, J20.9, Z59.3, T17, J04.10, Z13.83, J18.9, P28.9, J39.9, J98.9]</td>\n      <td>[respiratory tract infection [other specified respiratory disorders], upper respiratory tract infection [acute upper respiratory infection, unspecified], bacterial respiratory infection [bacterial infection, unspecified], acute respiratory infection [unspecified acute lower respiratory infection], bronchial infection [acute bronchitis, unspecified], institution-acquired respiratory infection [problems related to living in residential institution], foreign body in respiratory tract [foreign body in respiratory tract], tracheal infection [acute tracheitis without obstruction], suspected respiratory disease [encounter for screening for respiratory disorder nec], pulmonary infection [pneumonia, unspecified organism], respiratory disease [respiratory condition of newborn, unspecified], disease of upper respiratory tract [disease of upper respiratory tract, unspecified], disease of respiratory system [respiratory disorder, unspecified]]</td>\n      <td>[1||0||0, 1||0||0, 1||0||0, 1||0||0, 1||0||0, 1||0||0, 0||0||0, 1||0||0, 1||0||0, 1||0||0, 1||0||0, 1||0||0, 1||0||0]</td>\n    </tr>\n  </tbody>\n</table>\n</div>",
       "datasetInfos": [],
       "metadata": {},
       "removedWidgets": [],
       "textData": null,
       "type": "htmlSandbox"
      }
     },
     "output_type": "display_data"
    }
   ],
   "source": [
    "%%time\n",
    "\n",
    "res_pd = get_codes_from_df(icd10_result, 'ner_chunk', 'icd10cm_code', hcc=True)\n",
    "res_pd.head(10)"
   ]
  },
  {
   "cell_type": "code",
   "execution_count": 0,
   "metadata": {
    "application/vnd.databricks.v1+cell": {
     "cellMetadata": {
      "byteLimit": 2048000,
      "rowLimit": 10000
     },
     "inputWidgets": {},
     "nuid": "5b62a5fd-6069-42cc-a0fe-dfc02b5b4ece",
     "showTitle": false,
     "title": ""
    }
   },
   "outputs": [],
   "source": [
    "res_pd[\"billable\"] = res_pd[\"hcc_list\"].apply(extract_billable).apply(pd.Series).iloc[:,0]    \n",
    "res_pd[\"hcc_status\"] = res_pd[\"hcc_list\"].apply(extract_billable).apply(pd.Series).iloc[:,1]\n",
    "res_pd[\"hcc_code\"] = res_pd[\"hcc_list\"].apply(extract_billable).apply(pd.Series).iloc[:,2]\n",
    "\n",
    "res_pd.drop(\"hcc_list\", axis=1, inplace= True)"
   ]
  },
  {
   "cell_type": "code",
   "execution_count": 0,
   "metadata": {
    "application/vnd.databricks.v1+cell": {
     "cellMetadata": {
      "byteLimit": 2048000,
      "rowLimit": 10000
     },
     "inputWidgets": {},
     "nuid": "8131e749-d65c-4ad3-9e62-238afd23a947",
     "showTitle": false,
     "title": ""
    }
   },
   "outputs": [
    {
     "output_type": "display_data",
     "data": {
      "text/html": [
       "<div>\n",
       "<style scoped>\n",
       "    .dataframe tbody tr th:only-of-type {\n",
       "        vertical-align: middle;\n",
       "    }\n",
       "\n",
       "    .dataframe tbody tr th {\n",
       "        vertical-align: top;\n",
       "    }\n",
       "\n",
       "    .dataframe thead th {\n",
       "        text-align: right;\n",
       "    }\n",
       "</style>\n",
       "<table border=\"1\" class=\"dataframe\">\n",
       "  <thead>\n",
       "    <tr style=\"text-align: right;\">\n",
       "      <th></th>\n",
       "      <th>sent_id</th>\n",
       "      <th>ner_chunk</th>\n",
       "      <th>entity</th>\n",
       "      <th>icd10_code</th>\n",
       "      <th>all_codes</th>\n",
       "      <th>resolutions</th>\n",
       "      <th>billable</th>\n",
       "      <th>hcc_status</th>\n",
       "      <th>hcc_code</th>\n",
       "    </tr>\n",
       "  </thead>\n",
       "  <tbody>\n",
       "    <tr>\n",
       "      <th>0</th>\n",
       "      <td>0</td>\n",
       "      <td>gestational diabetes mellitus</td>\n",
       "      <td>PROBLEM</td>\n",
       "      <td>O24.4</td>\n",
       "      <td>[O24.4, O24.41, O24.43, Z86.32, Z87.5, O24.31, O24.11, O24.1, O24.81]</td>\n",
       "      <td>[gestational diabetes mellitus [gestational diabetes mellitus], gestational diabetes mellitus (disorder) [gestational diabetes mellitus in pregnancy], postpartum gestational diabetes mellitus [gestational diabetes mellitus in the puerperium], history of gestational diabetes mellitus [personal history of gestational diabetes], history of gestational diabetes mellitus (situation) [personal history of complications of pregnancy, childbirth and the puerperium], pre-existing diabetes mellitus in pregnancy [unspecified pre-existing diabetes mellitus in pregnancy], pre-existing diabetes mellitus in pregnancy (disorder) [pre-existing type 2 diabetes mellitus, in pregnancy], pre-existing type 2 diabetes mellitus in pregnancy [pre-existing type 2 diabetes mellitus, in pregnancy, childbirth and the puerperium], other pre-existing diabetes mellitus in pregnancy [other pre-existing diabetes mellitus in pregnancy]]</td>\n",
       "      <td>[0, 0, 0, 1, 0, 0, 0, 0, 0]</td>\n",
       "      <td>[0, 0, 0, 0, 0, 0, 0, 0, 0]</td>\n",
       "      <td>[0, 0, 0, 0, 0, 0, 0, 0, 0]</td>\n",
       "    </tr>\n",
       "    <tr>\n",
       "      <th>1</th>\n",
       "      <td>0</td>\n",
       "      <td>subsequent type two diabetes mellitus</td>\n",
       "      <td>PROBLEM</td>\n",
       "      <td>O24.11</td>\n",
       "      <td>[O24.11, E11.8, E11, E13.9, E11.9, E11.3, E11.44, Z86.3, Z86.39, E11.32, E11.43, E11.5]</td>\n",
       "      <td>[pre-existing type 2 diabetes mellitus [pre-existing type 2 diabetes mellitus, in pregnancy], disorder associated with type 2 diabetes mellitus [type 2 diabetes mellitus with unspecified complications], type 2 diabetes mellitus [type 2 diabetes mellitus], secondary diabetes mellitus [other specified diabetes mellitus without complications], diabetes mellitus type 2 [type 2 diabetes mellitus without complications], disorder of eye due to type 2 diabetes mellitus [type 2 diabetes mellitus with ophthalmic complications], disorder of nervous system due to type 2 diabetes mellitus [type 2 diabetes mellitus with diabetic amyotrophy], history of diabetes mellitus type 2 (situation) [personal history of endocrine, nutritional and metabolic diseases], history of diabetes mellitus type 2 [personal history of other endocrine, nutritional and metabolic disease], secondary endocrine diabetes mellitus [type 2 diabetes mellitus with mild nonproliferative diabetic retinopathy], neurological disorder with type 2 diabetes mellitus [type 2 diabetes mellitus with diabetic autonomic (poly)neuropathy], peripheral circulatory disorder due to type 2 diabetes mellitus [type 2 diabetes mellitus with circulatory complications]]</td>\n",
       "      <td>[0, 1, 0, 1, 1, 0, 1, 0, 1, 0, 1, 0]</td>\n",
       "      <td>[0, 1, 0, 1, 1, 0, 1, 0, 0, 0, 1, 0]</td>\n",
       "      <td>[0, 18, 0, 19, 19, 0, 18, 0, 0, 0, 18, 0]</td>\n",
       "    </tr>\n",
       "    <tr>\n",
       "      <th>2</th>\n",
       "      <td>0</td>\n",
       "      <td>an acute hepatitis</td>\n",
       "      <td>PROBLEM</td>\n",
       "      <td>B15</td>\n",
       "      <td>[B15, K72.0, B17.9, B17.2, Z03.89, B15.9, K75.2, K71.2, B19.9, B16, K70.1, B16.9]</td>\n",
       "      <td>[acute hepatitis a [acute hepatitis a], acute hepatitis [acute and subacute hepatic failure], acute infectious hepatitis [acute viral hepatitis, unspecified], acute hepatitis e [acute hepatitis e], acute infectious hepatitis suspected [encounter for observation for other suspected diseases and conditions ruled out], acute type a viral hepatitis [hepatitis a without hepatic coma], acute focal hepatitis [nonspecific reactive hepatitis], toxic liver disease with acute hepatitis [toxic liver disease with acute hepatitis], fulminant hepatitis [unspecified viral hepatitis without hepatic coma], acute hepatitis b [acute hepatitis b], acute alcoholic hepatitis [alcoholic hepatitis], acute fulminating viral hepatitis [acute hepatitis b without delta-agent and without hepatic coma]]</td>\n",
       "      <td>[0, 0, 1, 1, 1, 1, 1, 1, 1, 0, 0, 1]</td>\n",
       "      <td>[0, 0, 0, 0, 0, 0, 0, 0, 0, 0, 0, 0]</td>\n",
       "      <td>[0, 0, 0, 0, 0, 0, 0, 0, 0, 0, 0, 0]</td>\n",
       "    </tr>\n",
       "    <tr>\n",
       "      <th>3</th>\n",
       "      <td>0</td>\n",
       "      <td>obesity</td>\n",
       "      <td>PROBLEM</td>\n",
       "      <td>E66.9</td>\n",
       "      <td>[E66.9, E66.8, Z68.41, Q13.0, E66, E66.01, Z86.39, E34.9, H35.50, Z83.49, Q55.62, E66.3]</td>\n",
       "      <td>[obesity [obesity, unspecified], abdominal obesity [other obesity], obese [body mass index [bmi] 40.0-44.9, adult], central obesity [coloboma of iris], overweight and obesity [overweight and obesity], morbid obesity [morbid (severe) obesity due to excess calories], h/o: obesity [personal history of other endocrine, nutritional and metabolic disease], severe obesity [endocrine disorder, unspecified], centripetal obesity [unspecified hereditary retinal dystrophy], fh: obesity [family history of other endocrine, nutritional and metabolic diseases], truncal obesity [hypoplasia of penis], overweight [overweight]]</td>\n",
       "      <td>[1, 1, 1, 1, 0, 1, 1, 1, 1, 1, 1, 1]</td>\n",
       "      <td>[0, 0, 1, 0, 0, 1, 0, 0, 0, 0, 0, 0]</td>\n",
       "      <td>[0, 0, 22, 0, 0, 22, 0, 0, 0, 0, 0, 0]</td>\n",
       "    </tr>\n",
       "    <tr>\n",
       "      <th>4</th>\n",
       "      <td>0</td>\n",
       "      <td>a body mass index</td>\n",
       "      <td>PROBLEM</td>\n",
       "      <td>Z68.41</td>\n",
       "      <td>[Z68.41, E66.9, R22.9, Z68.1, R22.3, R22.1, Z68, R22.2, R22.0, R41.89, M62.58, P29.9, R19.00, R89.8, M21.70, R19.0, M21.80]</td>\n",
       "      <td>[finding of body mass index [body mass index [bmi] 40.0-44.9, adult], observation of body mass index [obesity, unspecified], mass of body region [localized swelling, mass and lump, unspecified], finding of body mass index (finding) [body mass index [bmi] 19.9 or less, adult], mass of upper limb [localized swelling, mass and lump, upper limb], head and neck mass [localized swelling, mass and lump, neck], body mass index [bmi] [body mass index [bmi]], mass of trunk [localized swelling, mass and lump, trunk], mass of head [localized swelling, mass and lump, head], preoccupation with body size [other symptoms and signs involving cognitive functions and awareness], finding of size of upper limb [muscle wasting and atrophy, not elsewhere classified, other site], mass of cardiovascular structure [cardiovascular disorder originating in the perinatal period, unspecified], mass of abdominal cavity structure [intra-abdominal and pelvic swelling, mass and lump, unspecified site], increase in circumference [other abnormal findings in specimens from other organs, systems and tissues], finding of proportion of upper limb [unequal limb length (acquired), unspecified site], visible abdominal mass [intra-abdominal and pelvic swelling, mass and lump], observation of size of upper limb [other specified acquired deformities of unspecified limb]]</td>\n",
       "      <td>[1, 1, 1, 1, 0, 1, 0, 1, 1, 1, 1, 1, 1, 1, 1, 0, 1]</td>\n",
       "      <td>[1, 0, 0, 0, 0, 0, 0, 0, 0, 0, 0, 0, 0, 0, 0, 0, 0]</td>\n",
       "      <td>[22, 0, 0, 0, 0, 0, 0, 0, 0, 0, 0, 0, 0, 0, 0, 0, 0]</td>\n",
       "    </tr>\n",
       "    <tr>\n",
       "      <th>5</th>\n",
       "      <td>0</td>\n",
       "      <td>polyuria</td>\n",
       "      <td>PROBLEM</td>\n",
       "      <td>R35</td>\n",
       "      <td>[R35, R35.81, R35.8, E23.2, R31, R35.0, R82.99, N40.1, E72.3, O04.8, R30.0, R31.9, E72.01, R80.9, E88.8, R80.8, N03.0, P96.0, R80, N02.6]</td>\n",
       "      <td>[polyuria [polyuria], nocturnal polyuria [nocturnal polyuria], polyuric state [other polyuria], polyuric state (disorder) [diabetes insipidus], hematuria [hematuria], micturition frequency and polyuria [frequency of micturition], uricosuria [other abnormal findings in urine], pollakiuria [benign prostatic hyperplasia with lower urinary tract symptoms], saccharopinuria [disorders of lysine and hydroxylysine metabolism], oligouria [(induced) termination of pregnancy with other and unspecified complications], dysuria [dysuria], hematuria syndrome [hematuria, unspecified], cystinuria [cystinuria], cyclic proteinuria [proteinuria, unspecified], sialuria [other specified metabolic disorders], paroxysmal proteinuria [other proteinuria], renal hematuria (disorder) [chronic nephritic syndrome with minor glomerular abnormality], oliguria and anuria [congenital renal failure], proteinuria [proteinuria], persistent hematuria (disorder) [recurrent and persistent hematuria with dense deposit disease]]</td>\n",
       "      <td>[0, 1, 0, 1, 0, 1, 0, 1, 1, 0, 1, 1, 1, 1, 0, 1, 1, 1, 0, 1]</td>\n",
       "      <td>[0, 0, 0, 1, 0, 0, 0, 0, 1, 0, 0, 0, 1, 0, 0, 0, 0, 0, 0, 0]</td>\n",
       "      <td>[0, 0, 0, 23, 0, 0, 0, 0, 23, 0, 0, 0, 23, 0, 0, 0, 0, 0, 0, 0]</td>\n",
       "    </tr>\n",
       "    <tr>\n",
       "      <th>6</th>\n",
       "      <td>0</td>\n",
       "      <td>polydipsia</td>\n",
       "      <td>PROBLEM</td>\n",
       "      <td>R63.1</td>\n",
       "      <td>[R63.1, F63.89, E23.2, F63.9, O40, G47.5, M79.89, R63.2, R06.1, H53.8, I44.2, G47.9, G47.8, G47.1, Q30.8, I45.9, R00.2, R06.81, G47.54, R06.8, M35.3]</td>\n",
       "      <td>[polydipsia [polydipsia], psychogenic polydipsia [other impulse disorders], primary polydipsia [diabetes insipidus], psychogenic polydipsia (disorder) [impulse disorder, unspecified], polyhydramnios [polyhydramnios], parasomnia [parasomnia], polyalgia [other specified soft tissue disorders], polyphagia [polyphagia], biphasic stridor [stridor], oscillopsia [other visual disturbances], parasystole (disorder) [atrioventricular block, complete], dyssomnia [sleep disorder, unspecified], parasomnia (disorder) [other sleep disorders], hypersomnia (disorder) [hypersomnia], polyrrhinia [other congenital malformations of nose], palpitations - irregular [conduction disorder, unspecified], intermittent palpitations [palpitations], vagal apnea [apnea, not elsewhere classified], secondary parasomnia [parasomnia in conditions classified elsewhere], vagal apnoea [other abnormalities of breathing], polymyalgia [polymyalgia rheumatica]]</td>\n",
       "      <td>[1, 1, 1, 1, 0, 0, 1, 1, 1, 1, 1, 1, 1, 0, 1, 1, 1, 1, 1, 0, 1]</td>\n",
       "      <td>[0, 0, 1, 0, 0, 0, 0, 0, 0, 0, 1, 0, 0, 0, 0, 0, 0, 0, 0, 0, 1]</td>\n",
       "      <td>[0, 0, 23, 0, 0, 0, 0, 0, 0, 0, 96, 0, 0, 0, 0, 0, 0, 0, 0, 0, 40]</td>\n",
       "    </tr>\n",
       "    <tr>\n",
       "      <th>7</th>\n",
       "      <td>0</td>\n",
       "      <td>poor appetite</td>\n",
       "      <td>PROBLEM</td>\n",
       "      <td>R63.0</td>\n",
       "      <td>[R63.0, P92.9, R43.8, R43.2, E86, R19.6, F52.0, Z72.4, R06.89, Z76.89, R53.1, R45.8, F50.8, R10.9, R45.81]</td>\n",
       "      <td>[poor appetite [anorexia], poor feeding [feeding problem of newborn, unspecified], bad taste in mouth [other disturbances of smell and taste], unpleasant taste in mouth [parageusia], poor fluid intake [volume depletion], bad breath [halitosis], low libido [hypoactive sexual desire disorder], diet poor (finding) [inappropriate diet and eating habits], poor respiratory drive [other abnormalities of breathing], patient dissatisfied with nutrition regime [persons encountering health services in other specified circumstances], general weakness [weakness], diminished pleasure [other symptoms and signs involving emotional state], psychogenic loss of appetite [other eating disorders], stomach discomfort [unspecified abdominal pain], poor self-esteem [low self-esteem]]</td>\n",
       "      <td>[1, 1, 1, 1, 0, 1, 1, 1, 1, 1, 1, 0, 0, 1, 1]</td>\n",
       "      <td>[0, 0, 0, 0, 0, 0, 0, 0, 0, 0, 0, 0, 0, 0, 0]</td>\n",
       "      <td>[0, 0, 0, 0, 0, 0, 0, 0, 0, 0, 0, 0, 0, 0, 0]</td>\n",
       "    </tr>\n",
       "    <tr>\n",
       "      <th>8</th>\n",
       "      <td>0</td>\n",
       "      <td>vomiting</td>\n",
       "      <td>PROBLEM</td>\n",
       "      <td>R11.1</td>\n",
       "      <td>[R11.1, R11, R11.10, G43.A1, P92.1, P92.09, G43.A, R11.13, R11.0]</td>\n",
       "      <td>[vomiting [vomiting], intermittent vomiting [nausea and vomiting], vomiting symptoms [vomiting, unspecified], periodic vomiting [cyclical vomiting, in migraine, intractable], finding of vomiting [regurgitation and rumination of newborn], c/o - vomiting [other vomiting of newborn], cyclical vomiting [cyclical vomiting], faeculent vomit o/e [vomiting of fecal matter], nausea [nausea]]</td>\n",
       "      <td>[0, 0, 1, 1, 1, 1, 0, 1, 1]</td>\n",
       "      <td>[0, 0, 0, 0, 0, 0, 0, 0, 0]</td>\n",
       "      <td>[0, 0, 0, 0, 0, 0, 0, 0, 0]</td>\n",
       "    </tr>\n",
       "    <tr>\n",
       "      <th>9</th>\n",
       "      <td>1</td>\n",
       "      <td>a respiratory tract infection</td>\n",
       "      <td>PROBLEM</td>\n",
       "      <td>J98.8</td>\n",
       "      <td>[J98.8, J06.9, A49.9, J22, J20.9, Z59.3, T17, J04.10, Z13.83, J18.9, P28.9, J39.9, J98.9]</td>\n",
       "      <td>[respiratory tract infection [other specified respiratory disorders], upper respiratory tract infection [acute upper respiratory infection, unspecified], bacterial respiratory infection [bacterial infection, unspecified], acute respiratory infection [unspecified acute lower respiratory infection], bronchial infection [acute bronchitis, unspecified], institution-acquired respiratory infection [problems related to living in residential institution], foreign body in respiratory tract [foreign body in respiratory tract], tracheal infection [acute tracheitis without obstruction], suspected respiratory disease [encounter for screening for respiratory disorder nec], pulmonary infection [pneumonia, unspecified organism], respiratory disease [respiratory condition of newborn, unspecified], disease of upper respiratory tract [disease of upper respiratory tract, unspecified], disease of respiratory system [respiratory disorder, unspecified]]</td>\n",
       "      <td>[1, 1, 1, 1, 1, 1, 0, 1, 1, 1, 1, 1, 1]</td>\n",
       "      <td>[0, 0, 0, 0, 0, 0, 0, 0, 0, 0, 0, 0, 0]</td>\n",
       "      <td>[0, 0, 0, 0, 0, 0, 0, 0, 0, 0, 0, 0, 0]</td>\n",
       "    </tr>\n",
       "    <tr>\n",
       "      <th>10</th>\n",
       "      <td>3</td>\n",
       "      <td>dry oral mucosa</td>\n",
       "      <td>PROBLEM</td>\n",
       "      <td>K13.0</td>\n",
       "      <td>[K13.0, L85.3, R68.2, J39.2, L67.8, M35.9, R23.8, R23.4, H04.1, K14.8, J34.89, R19.5]</td>\n",
       "      <td>[dry lips [diseases of lips], dry skin [xerosis cutis], dry mouth, unspecified [dry mouth, unspecified], dry throat [other diseases of pharynx], dry hair [other hair color and hair shaft abnormalities], dry mouth [systemic involvement of connective tissue, unspecified], dry periwound skin [other skin changes], dry skin (finding) [changes in skin texture], dry eyes [other disorders of lacrimal gland], on examination - dry tongue [other diseases of tongue], nasal mucosa dry (finding) [other specified disorders of nose and nasal sinuses], dry faeces [other fecal abnormalities]]</td>\n",
       "      <td>[1, 1, 1, 1, 1, 1, 1, 1, 0, 1, 1, 1]</td>\n",
       "      <td>[0, 0, 0, 0, 0, 1, 0, 0, 0, 0, 0, 0]</td>\n",
       "      <td>[0, 0, 0, 0, 0, 40, 0, 0, 0, 0, 0, 0]</td>\n",
       "    </tr>\n",
       "    <tr>\n",
       "      <th>11</th>\n",
       "      <td>3</td>\n",
       "      <td>tenderness</td>\n",
       "      <td>PROBLEM</td>\n",
       "      <td>R52</td>\n",
       "      <td>[R52, R51, M25.56, L90.5, J34.8, R20.8, Z65.8, F60.2, O36.89, M79.60, R10.82, M79.1, I89.9, R45.8, M25.51, R45.86, L29.8]</td>\n",
       "      <td>[tenderness (finding) [pain, unspecified], facial tenderness (finding) [headache], joint tenderness (finding) [pain in knee], tender scar (finding) [scar conditions and fibrosis of skin], nose tender (finding) [other specified disorders of nose and nasal sinuses], skin tenderness (finding) [other disturbances of skin sensation], callous character [other specified problems related to psychosocial circumstances], callous character (finding) [antisocial personality disorder], asthenia (finding) [maternal care for other specified fetal problems], tenderness in limb [pain in limb, unspecified], cva tenderness [rebound abdominal tenderness], tender muscles [myalgia], tender gland [noninfective disorder of lymphatic vessels and lymph nodes, unspecified], tenseness [other symptoms and signs involving emotional state], tenderness of upper limb (finding) [pain in shoulder], emotional lability [emotional lability], itchy [other pruritus]]</td>\n",
       "      <td>[1, 0, 0, 1, 0, 1, 1, 1, 0, 0, 0, 0, 1, 0, 0, 1, 1]</td>\n",
       "      <td>[0, 0, 0, 0, 0, 0, 0, 1, 0, 0, 0, 0, 0, 0, 0, 0, 0]</td>\n",
       "      <td>[0, 0, 0, 0, 0, 0, 0, 60, 0, 0, 0, 0, 0, 0, 0, 0, 0]</td>\n",
       "    </tr>\n",
       "    <tr>\n",
       "      <th>12</th>\n",
       "      <td>3</td>\n",
       "      <td>guarding</td>\n",
       "      <td>PROBLEM</td>\n",
       "      <td>M62.83</td>\n",
       "      <td>[M62.83, Z91.89, O98.7, H52.7, R29.8, Z71.0, F99, F34.0, T74.9, R54, R68.89, R45.89, Z78.9, R46.89, R45.2, R44.2, Z74.8]</td>\n",
       "      <td>[guarding [muscle spasm], protective alteration [other specified personal risk factors, not elsewhere classified], aids [human immunodeficiency virus [hiv] disease complicating pregnancy, childbirth and the puerperium], focusing [unspecified disorder of refraction], straining [other symptoms and signs involving the nervous and musculoskeletal systems], reassurance given [person encountering health services to consult on behalf of another person], suspicion [mental disorder, not otherwise specified], emotionality [cyclothymic disorder], caretaking [unspecified maltreatment, confirmed], weariness [age-related physical debility], relieving factor [other general symptoms and signs], sense of personal capacity [other symptoms and signs involving emotional state], does maintain a position [other specified health status], posturing behavior [other symptoms and signs involving appearance and behavior], worrying [unhappiness], illusions [other hallucinations], functionally dependent (finding) [other problems related to care provider dependency]]</td>\n",
       "      <td>[0, 1, 0, 1, 0, 1, 1, 1, 0, 1, 1, 1, 1, 1, 1, 1, 1]</td>\n",
       "      <td>[0, 0, 0, 0, 0, 0, 0, 0, 0, 0, 0, 0, 0, 0, 0, 0, 0]</td>\n",
       "      <td>[0, 0, 0, 0, 0, 0, 0, 0, 0, 0, 0, 0, 0, 0, 0, 0, 0]</td>\n",
       "    </tr>\n",
       "    <tr>\n",
       "      <th>13</th>\n",
       "      <td>6</td>\n",
       "      <td>hemolyzing</td>\n",
       "      <td>PROBLEM</td>\n",
       "      <td>O04.6</td>\n",
       "      <td>[O04.6, R71.8, R89.8, T82.89, H44.8, D75.9, D75.8, D59.4, O03.6, R79.89, R19.5, R31, D64.8, N02.9, R31.9]</td>\n",
       "      <td>[hemolysis [delayed or excessive hemorrhage following (induced) termination of pregnancy], hemolysis (finding) [other abnormality of red blood cells], sample hemolyzed [other abnormal findings in specimens from other organs, systems and tissues], haemolysis [other specified complication of cardiac and vascular prosthetic devices, implants and grafts], hematopsia [other disorders of globe], extravascular hemolysis [disease of blood and blood-forming organs, unspecified], hemocytophagia [other specified diseases of blood and blood-forming organs], mechanical hemolytic anemia [other nonautoimmune hemolytic anemias], intravascular haemolysis [delayed or excessive hemorrhage following complete or unspecified spontaneous abortion], methemalbuminaemia [other specified abnormal findings of blood chemistry], hematochezia [other fecal abnormalities], clot haematuria [hematuria], dilutional anemia [other specified anemias], microscopic haematuria [recurrent and persistent hematuria with unspecified morphologic changes], chemical haematuria [hematuria, unspecified]]</td>\n",
       "      <td>[1, 1, 1, 0, 0, 1, 0, 1, 1, 1, 1, 0, 0, 1, 1]</td>\n",
       "      <td>[0, 0, 0, 0, 0, 0, 0, 1, 0, 0, 0, 0, 0, 0, 0]</td>\n",
       "      <td>[0, 0, 0, 0, 0, 0, 0, 46, 0, 0, 0, 0, 0, 0, 0]</td>\n",
       "    </tr>\n",
       "    <tr>\n",
       "      <th>14</th>\n",
       "      <td>6</td>\n",
       "      <td>significant lipemia</td>\n",
       "      <td>PROBLEM</td>\n",
       "      <td>E78.5</td>\n",
       "      <td>[E78.5, R79.8, Z83.49, E75.6, R74.8, R89.8, J62.8, D72.82, Z86.39, E78.4, E10.69, E78.41, Z86.3, E78.6]</td>\n",
       "      <td>[lipidaemia [hyperlipidemia, unspecified], serum lipids high (finding) [other specified abnormal findings of blood chemistry], fh: raised blood lipids [family history of other endocrine, nutritional and metabolic diseases], lipidoses [lipid storage disorder, unspecified], high lipase level in serum [abnormal levels of other serum enzymes], sample grossly lipaemic [other abnormal findings in specimens from other organs, systems and tissues], liparitosis [pneumoconiosis due to other dust containing silica], leucocyte count abnormal [elevated white blood cell count], h/o: raised blood lipids [personal history of other endocrine, nutritional and metabolic disease], chemically induced hyperlipidaemia [other hyperlipidemia], secondary combined hyperlipidaemia [type 1 diabetes mellitus with other specified complication], elevated lipoprotein(a) [elevated lipoprotein(a)], history of - raised blood lipids (situation) [personal history of endocrine, nutritional and metabolic diseases], endogenous hyperlipidaemia [lipoprotein deficiency]]</td>\n",
       "      <td>[1, 0, 1, 1, 1, 1, 1, 0, 1, 0, 1, 1, 0, 1]</td>\n",
       "      <td>[0, 0, 0, 0, 0, 0, 1, 0, 0, 0, 1, 0, 0, 0]</td>\n",
       "      <td>[0, 0, 0, 0, 0, 0, 112, 0, 0, 0, 18, 0, 0, 0]</td>\n",
       "    </tr>\n",
       "  </tbody>\n",
       "</table>\n",
       "</div>"
      ]
     },
     "metadata": {
      "application/vnd.databricks.v1+output": {
       "addedWidgets": {},
       "arguments": {},
       "data": "<div>\n<style scoped>\n    .dataframe tbody tr th:only-of-type {\n        vertical-align: middle;\n    }\n\n    .dataframe tbody tr th {\n        vertical-align: top;\n    }\n\n    .dataframe thead th {\n        text-align: right;\n    }\n</style>\n<table border=\"1\" class=\"dataframe\">\n  <thead>\n    <tr style=\"text-align: right;\">\n      <th></th>\n      <th>sent_id</th>\n      <th>ner_chunk</th>\n      <th>entity</th>\n      <th>icd10_code</th>\n      <th>all_codes</th>\n      <th>resolutions</th>\n      <th>billable</th>\n      <th>hcc_status</th>\n      <th>hcc_code</th>\n    </tr>\n  </thead>\n  <tbody>\n    <tr>\n      <th>0</th>\n      <td>0</td>\n      <td>gestational diabetes mellitus</td>\n      <td>PROBLEM</td>\n      <td>O24.4</td>\n      <td>[O24.4, O24.41, O24.43, Z86.32, Z87.5, O24.31, O24.11, O24.1, O24.81]</td>\n      <td>[gestational diabetes mellitus [gestational diabetes mellitus], gestational diabetes mellitus (disorder) [gestational diabetes mellitus in pregnancy], postpartum gestational diabetes mellitus [gestational diabetes mellitus in the puerperium], history of gestational diabetes mellitus [personal history of gestational diabetes], history of gestational diabetes mellitus (situation) [personal history of complications of pregnancy, childbirth and the puerperium], pre-existing diabetes mellitus in pregnancy [unspecified pre-existing diabetes mellitus in pregnancy], pre-existing diabetes mellitus in pregnancy (disorder) [pre-existing type 2 diabetes mellitus, in pregnancy], pre-existing type 2 diabetes mellitus in pregnancy [pre-existing type 2 diabetes mellitus, in pregnancy, childbirth and the puerperium], other pre-existing diabetes mellitus in pregnancy [other pre-existing diabetes mellitus in pregnancy]]</td>\n      <td>[0, 0, 0, 1, 0, 0, 0, 0, 0]</td>\n      <td>[0, 0, 0, 0, 0, 0, 0, 0, 0]</td>\n      <td>[0, 0, 0, 0, 0, 0, 0, 0, 0]</td>\n    </tr>\n    <tr>\n      <th>1</th>\n      <td>0</td>\n      <td>subsequent type two diabetes mellitus</td>\n      <td>PROBLEM</td>\n      <td>O24.11</td>\n      <td>[O24.11, E11.8, E11, E13.9, E11.9, E11.3, E11.44, Z86.3, Z86.39, E11.32, E11.43, E11.5]</td>\n      <td>[pre-existing type 2 diabetes mellitus [pre-existing type 2 diabetes mellitus, in pregnancy], disorder associated with type 2 diabetes mellitus [type 2 diabetes mellitus with unspecified complications], type 2 diabetes mellitus [type 2 diabetes mellitus], secondary diabetes mellitus [other specified diabetes mellitus without complications], diabetes mellitus type 2 [type 2 diabetes mellitus without complications], disorder of eye due to type 2 diabetes mellitus [type 2 diabetes mellitus with ophthalmic complications], disorder of nervous system due to type 2 diabetes mellitus [type 2 diabetes mellitus with diabetic amyotrophy], history of diabetes mellitus type 2 (situation) [personal history of endocrine, nutritional and metabolic diseases], history of diabetes mellitus type 2 [personal history of other endocrine, nutritional and metabolic disease], secondary endocrine diabetes mellitus [type 2 diabetes mellitus with mild nonproliferative diabetic retinopathy], neurological disorder with type 2 diabetes mellitus [type 2 diabetes mellitus with diabetic autonomic (poly)neuropathy], peripheral circulatory disorder due to type 2 diabetes mellitus [type 2 diabetes mellitus with circulatory complications]]</td>\n      <td>[0, 1, 0, 1, 1, 0, 1, 0, 1, 0, 1, 0]</td>\n      <td>[0, 1, 0, 1, 1, 0, 1, 0, 0, 0, 1, 0]</td>\n      <td>[0, 18, 0, 19, 19, 0, 18, 0, 0, 0, 18, 0]</td>\n    </tr>\n    <tr>\n      <th>2</th>\n      <td>0</td>\n      <td>an acute hepatitis</td>\n      <td>PROBLEM</td>\n      <td>B15</td>\n      <td>[B15, K72.0, B17.9, B17.2, Z03.89, B15.9, K75.2, K71.2, B19.9, B16, K70.1, B16.9]</td>\n      <td>[acute hepatitis a [acute hepatitis a], acute hepatitis [acute and subacute hepatic failure], acute infectious hepatitis [acute viral hepatitis, unspecified], acute hepatitis e [acute hepatitis e], acute infectious hepatitis suspected [encounter for observation for other suspected diseases and conditions ruled out], acute type a viral hepatitis [hepatitis a without hepatic coma], acute focal hepatitis [nonspecific reactive hepatitis], toxic liver disease with acute hepatitis [toxic liver disease with acute hepatitis], fulminant hepatitis [unspecified viral hepatitis without hepatic coma], acute hepatitis b [acute hepatitis b], acute alcoholic hepatitis [alcoholic hepatitis], acute fulminating viral hepatitis [acute hepatitis b without delta-agent and without hepatic coma]]</td>\n      <td>[0, 0, 1, 1, 1, 1, 1, 1, 1, 0, 0, 1]</td>\n      <td>[0, 0, 0, 0, 0, 0, 0, 0, 0, 0, 0, 0]</td>\n      <td>[0, 0, 0, 0, 0, 0, 0, 0, 0, 0, 0, 0]</td>\n    </tr>\n    <tr>\n      <th>3</th>\n      <td>0</td>\n      <td>obesity</td>\n      <td>PROBLEM</td>\n      <td>E66.9</td>\n      <td>[E66.9, E66.8, Z68.41, Q13.0, E66, E66.01, Z86.39, E34.9, H35.50, Z83.49, Q55.62, E66.3]</td>\n      <td>[obesity [obesity, unspecified], abdominal obesity [other obesity], obese [body mass index [bmi] 40.0-44.9, adult], central obesity [coloboma of iris], overweight and obesity [overweight and obesity], morbid obesity [morbid (severe) obesity due to excess calories], h/o: obesity [personal history of other endocrine, nutritional and metabolic disease], severe obesity [endocrine disorder, unspecified], centripetal obesity [unspecified hereditary retinal dystrophy], fh: obesity [family history of other endocrine, nutritional and metabolic diseases], truncal obesity [hypoplasia of penis], overweight [overweight]]</td>\n      <td>[1, 1, 1, 1, 0, 1, 1, 1, 1, 1, 1, 1]</td>\n      <td>[0, 0, 1, 0, 0, 1, 0, 0, 0, 0, 0, 0]</td>\n      <td>[0, 0, 22, 0, 0, 22, 0, 0, 0, 0, 0, 0]</td>\n    </tr>\n    <tr>\n      <th>4</th>\n      <td>0</td>\n      <td>a body mass index</td>\n      <td>PROBLEM</td>\n      <td>Z68.41</td>\n      <td>[Z68.41, E66.9, R22.9, Z68.1, R22.3, R22.1, Z68, R22.2, R22.0, R41.89, M62.58, P29.9, R19.00, R89.8, M21.70, R19.0, M21.80]</td>\n      <td>[finding of body mass index [body mass index [bmi] 40.0-44.9, adult], observation of body mass index [obesity, unspecified], mass of body region [localized swelling, mass and lump, unspecified], finding of body mass index (finding) [body mass index [bmi] 19.9 or less, adult], mass of upper limb [localized swelling, mass and lump, upper limb], head and neck mass [localized swelling, mass and lump, neck], body mass index [bmi] [body mass index [bmi]], mass of trunk [localized swelling, mass and lump, trunk], mass of head [localized swelling, mass and lump, head], preoccupation with body size [other symptoms and signs involving cognitive functions and awareness], finding of size of upper limb [muscle wasting and atrophy, not elsewhere classified, other site], mass of cardiovascular structure [cardiovascular disorder originating in the perinatal period, unspecified], mass of abdominal cavity structure [intra-abdominal and pelvic swelling, mass and lump, unspecified site], increase in circumference [other abnormal findings in specimens from other organs, systems and tissues], finding of proportion of upper limb [unequal limb length (acquired), unspecified site], visible abdominal mass [intra-abdominal and pelvic swelling, mass and lump], observation of size of upper limb [other specified acquired deformities of unspecified limb]]</td>\n      <td>[1, 1, 1, 1, 0, 1, 0, 1, 1, 1, 1, 1, 1, 1, 1, 0, 1]</td>\n      <td>[1, 0, 0, 0, 0, 0, 0, 0, 0, 0, 0, 0, 0, 0, 0, 0, 0]</td>\n      <td>[22, 0, 0, 0, 0, 0, 0, 0, 0, 0, 0, 0, 0, 0, 0, 0, 0]</td>\n    </tr>\n    <tr>\n      <th>5</th>\n      <td>0</td>\n      <td>polyuria</td>\n      <td>PROBLEM</td>\n      <td>R35</td>\n      <td>[R35, R35.81, R35.8, E23.2, R31, R35.0, R82.99, N40.1, E72.3, O04.8, R30.0, R31.9, E72.01, R80.9, E88.8, R80.8, N03.0, P96.0, R80, N02.6]</td>\n      <td>[polyuria [polyuria], nocturnal polyuria [nocturnal polyuria], polyuric state [other polyuria], polyuric state (disorder) [diabetes insipidus], hematuria [hematuria], micturition frequency and polyuria [frequency of micturition], uricosuria [other abnormal findings in urine], pollakiuria [benign prostatic hyperplasia with lower urinary tract symptoms], saccharopinuria [disorders of lysine and hydroxylysine metabolism], oligouria [(induced) termination of pregnancy with other and unspecified complications], dysuria [dysuria], hematuria syndrome [hematuria, unspecified], cystinuria [cystinuria], cyclic proteinuria [proteinuria, unspecified], sialuria [other specified metabolic disorders], paroxysmal proteinuria [other proteinuria], renal hematuria (disorder) [chronic nephritic syndrome with minor glomerular abnormality], oliguria and anuria [congenital renal failure], proteinuria [proteinuria], persistent hematuria (disorder) [recurrent and persistent hematuria with dense deposit disease]]</td>\n      <td>[0, 1, 0, 1, 0, 1, 0, 1, 1, 0, 1, 1, 1, 1, 0, 1, 1, 1, 0, 1]</td>\n      <td>[0, 0, 0, 1, 0, 0, 0, 0, 1, 0, 0, 0, 1, 0, 0, 0, 0, 0, 0, 0]</td>\n      <td>[0, 0, 0, 23, 0, 0, 0, 0, 23, 0, 0, 0, 23, 0, 0, 0, 0, 0, 0, 0]</td>\n    </tr>\n    <tr>\n      <th>6</th>\n      <td>0</td>\n      <td>polydipsia</td>\n      <td>PROBLEM</td>\n      <td>R63.1</td>\n      <td>[R63.1, F63.89, E23.2, F63.9, O40, G47.5, M79.89, R63.2, R06.1, H53.8, I44.2, G47.9, G47.8, G47.1, Q30.8, I45.9, R00.2, R06.81, G47.54, R06.8, M35.3]</td>\n      <td>[polydipsia [polydipsia], psychogenic polydipsia [other impulse disorders], primary polydipsia [diabetes insipidus], psychogenic polydipsia (disorder) [impulse disorder, unspecified], polyhydramnios [polyhydramnios], parasomnia [parasomnia], polyalgia [other specified soft tissue disorders], polyphagia [polyphagia], biphasic stridor [stridor], oscillopsia [other visual disturbances], parasystole (disorder) [atrioventricular block, complete], dyssomnia [sleep disorder, unspecified], parasomnia (disorder) [other sleep disorders], hypersomnia (disorder) [hypersomnia], polyrrhinia [other congenital malformations of nose], palpitations - irregular [conduction disorder, unspecified], intermittent palpitations [palpitations], vagal apnea [apnea, not elsewhere classified], secondary parasomnia [parasomnia in conditions classified elsewhere], vagal apnoea [other abnormalities of breathing], polymyalgia [polymyalgia rheumatica]]</td>\n      <td>[1, 1, 1, 1, 0, 0, 1, 1, 1, 1, 1, 1, 1, 0, 1, 1, 1, 1, 1, 0, 1]</td>\n      <td>[0, 0, 1, 0, 0, 0, 0, 0, 0, 0, 1, 0, 0, 0, 0, 0, 0, 0, 0, 0, 1]</td>\n      <td>[0, 0, 23, 0, 0, 0, 0, 0, 0, 0, 96, 0, 0, 0, 0, 0, 0, 0, 0, 0, 40]</td>\n    </tr>\n    <tr>\n      <th>7</th>\n      <td>0</td>\n      <td>poor appetite</td>\n      <td>PROBLEM</td>\n      <td>R63.0</td>\n      <td>[R63.0, P92.9, R43.8, R43.2, E86, R19.6, F52.0, Z72.4, R06.89, Z76.89, R53.1, R45.8, F50.8, R10.9, R45.81]</td>\n      <td>[poor appetite [anorexia], poor feeding [feeding problem of newborn, unspecified], bad taste in mouth [other disturbances of smell and taste], unpleasant taste in mouth [parageusia], poor fluid intake [volume depletion], bad breath [halitosis], low libido [hypoactive sexual desire disorder], diet poor (finding) [inappropriate diet and eating habits], poor respiratory drive [other abnormalities of breathing], patient dissatisfied with nutrition regime [persons encountering health services in other specified circumstances], general weakness [weakness], diminished pleasure [other symptoms and signs involving emotional state], psychogenic loss of appetite [other eating disorders], stomach discomfort [unspecified abdominal pain], poor self-esteem [low self-esteem]]</td>\n      <td>[1, 1, 1, 1, 0, 1, 1, 1, 1, 1, 1, 0, 0, 1, 1]</td>\n      <td>[0, 0, 0, 0, 0, 0, 0, 0, 0, 0, 0, 0, 0, 0, 0]</td>\n      <td>[0, 0, 0, 0, 0, 0, 0, 0, 0, 0, 0, 0, 0, 0, 0]</td>\n    </tr>\n    <tr>\n      <th>8</th>\n      <td>0</td>\n      <td>vomiting</td>\n      <td>PROBLEM</td>\n      <td>R11.1</td>\n      <td>[R11.1, R11, R11.10, G43.A1, P92.1, P92.09, G43.A, R11.13, R11.0]</td>\n      <td>[vomiting [vomiting], intermittent vomiting [nausea and vomiting], vomiting symptoms [vomiting, unspecified], periodic vomiting [cyclical vomiting, in migraine, intractable], finding of vomiting [regurgitation and rumination of newborn], c/o - vomiting [other vomiting of newborn], cyclical vomiting [cyclical vomiting], faeculent vomit o/e [vomiting of fecal matter], nausea [nausea]]</td>\n      <td>[0, 0, 1, 1, 1, 1, 0, 1, 1]</td>\n      <td>[0, 0, 0, 0, 0, 0, 0, 0, 0]</td>\n      <td>[0, 0, 0, 0, 0, 0, 0, 0, 0]</td>\n    </tr>\n    <tr>\n      <th>9</th>\n      <td>1</td>\n      <td>a respiratory tract infection</td>\n      <td>PROBLEM</td>\n      <td>J98.8</td>\n      <td>[J98.8, J06.9, A49.9, J22, J20.9, Z59.3, T17, J04.10, Z13.83, J18.9, P28.9, J39.9, J98.9]</td>\n      <td>[respiratory tract infection [other specified respiratory disorders], upper respiratory tract infection [acute upper respiratory infection, unspecified], bacterial respiratory infection [bacterial infection, unspecified], acute respiratory infection [unspecified acute lower respiratory infection], bronchial infection [acute bronchitis, unspecified], institution-acquired respiratory infection [problems related to living in residential institution], foreign body in respiratory tract [foreign body in respiratory tract], tracheal infection [acute tracheitis without obstruction], suspected respiratory disease [encounter for screening for respiratory disorder nec], pulmonary infection [pneumonia, unspecified organism], respiratory disease [respiratory condition of newborn, unspecified], disease of upper respiratory tract [disease of upper respiratory tract, unspecified], disease of respiratory system [respiratory disorder, unspecified]]</td>\n      <td>[1, 1, 1, 1, 1, 1, 0, 1, 1, 1, 1, 1, 1]</td>\n      <td>[0, 0, 0, 0, 0, 0, 0, 0, 0, 0, 0, 0, 0]</td>\n      <td>[0, 0, 0, 0, 0, 0, 0, 0, 0, 0, 0, 0, 0]</td>\n    </tr>\n    <tr>\n      <th>10</th>\n      <td>3</td>\n      <td>dry oral mucosa</td>\n      <td>PROBLEM</td>\n      <td>K13.0</td>\n      <td>[K13.0, L85.3, R68.2, J39.2, L67.8, M35.9, R23.8, R23.4, H04.1, K14.8, J34.89, R19.5]</td>\n      <td>[dry lips [diseases of lips], dry skin [xerosis cutis], dry mouth, unspecified [dry mouth, unspecified], dry throat [other diseases of pharynx], dry hair [other hair color and hair shaft abnormalities], dry mouth [systemic involvement of connective tissue, unspecified], dry periwound skin [other skin changes], dry skin (finding) [changes in skin texture], dry eyes [other disorders of lacrimal gland], on examination - dry tongue [other diseases of tongue], nasal mucosa dry (finding) [other specified disorders of nose and nasal sinuses], dry faeces [other fecal abnormalities]]</td>\n      <td>[1, 1, 1, 1, 1, 1, 1, 1, 0, 1, 1, 1]</td>\n      <td>[0, 0, 0, 0, 0, 1, 0, 0, 0, 0, 0, 0]</td>\n      <td>[0, 0, 0, 0, 0, 40, 0, 0, 0, 0, 0, 0]</td>\n    </tr>\n    <tr>\n      <th>11</th>\n      <td>3</td>\n      <td>tenderness</td>\n      <td>PROBLEM</td>\n      <td>R52</td>\n      <td>[R52, R51, M25.56, L90.5, J34.8, R20.8, Z65.8, F60.2, O36.89, M79.60, R10.82, M79.1, I89.9, R45.8, M25.51, R45.86, L29.8]</td>\n      <td>[tenderness (finding) [pain, unspecified], facial tenderness (finding) [headache], joint tenderness (finding) [pain in knee], tender scar (finding) [scar conditions and fibrosis of skin], nose tender (finding) [other specified disorders of nose and nasal sinuses], skin tenderness (finding) [other disturbances of skin sensation], callous character [other specified problems related to psychosocial circumstances], callous character (finding) [antisocial personality disorder], asthenia (finding) [maternal care for other specified fetal problems], tenderness in limb [pain in limb, unspecified], cva tenderness [rebound abdominal tenderness], tender muscles [myalgia], tender gland [noninfective disorder of lymphatic vessels and lymph nodes, unspecified], tenseness [other symptoms and signs involving emotional state], tenderness of upper limb (finding) [pain in shoulder], emotional lability [emotional lability], itchy [other pruritus]]</td>\n      <td>[1, 0, 0, 1, 0, 1, 1, 1, 0, 0, 0, 0, 1, 0, 0, 1, 1]</td>\n      <td>[0, 0, 0, 0, 0, 0, 0, 1, 0, 0, 0, 0, 0, 0, 0, 0, 0]</td>\n      <td>[0, 0, 0, 0, 0, 0, 0, 60, 0, 0, 0, 0, 0, 0, 0, 0, 0]</td>\n    </tr>\n    <tr>\n      <th>12</th>\n      <td>3</td>\n      <td>guarding</td>\n      <td>PROBLEM</td>\n      <td>M62.83</td>\n      <td>[M62.83, Z91.89, O98.7, H52.7, R29.8, Z71.0, F99, F34.0, T74.9, R54, R68.89, R45.89, Z78.9, R46.89, R45.2, R44.2, Z74.8]</td>\n      <td>[guarding [muscle spasm], protective alteration [other specified personal risk factors, not elsewhere classified], aids [human immunodeficiency virus [hiv] disease complicating pregnancy, childbirth and the puerperium], focusing [unspecified disorder of refraction], straining [other symptoms and signs involving the nervous and musculoskeletal systems], reassurance given [person encountering health services to consult on behalf of another person], suspicion [mental disorder, not otherwise specified], emotionality [cyclothymic disorder], caretaking [unspecified maltreatment, confirmed], weariness [age-related physical debility], relieving factor [other general symptoms and signs], sense of personal capacity [other symptoms and signs involving emotional state], does maintain a position [other specified health status], posturing behavior [other symptoms and signs involving appearance and behavior], worrying [unhappiness], illusions [other hallucinations], functionally dependent (finding) [other problems related to care provider dependency]]</td>\n      <td>[0, 1, 0, 1, 0, 1, 1, 1, 0, 1, 1, 1, 1, 1, 1, 1, 1]</td>\n      <td>[0, 0, 0, 0, 0, 0, 0, 0, 0, 0, 0, 0, 0, 0, 0, 0, 0]</td>\n      <td>[0, 0, 0, 0, 0, 0, 0, 0, 0, 0, 0, 0, 0, 0, 0, 0, 0]</td>\n    </tr>\n    <tr>\n      <th>13</th>\n      <td>6</td>\n      <td>hemolyzing</td>\n      <td>PROBLEM</td>\n      <td>O04.6</td>\n      <td>[O04.6, R71.8, R89.8, T82.89, H44.8, D75.9, D75.8, D59.4, O03.6, R79.89, R19.5, R31, D64.8, N02.9, R31.9]</td>\n      <td>[hemolysis [delayed or excessive hemorrhage following (induced) termination of pregnancy], hemolysis (finding) [other abnormality of red blood cells], sample hemolyzed [other abnormal findings in specimens from other organs, systems and tissues], haemolysis [other specified complication of cardiac and vascular prosthetic devices, implants and grafts], hematopsia [other disorders of globe], extravascular hemolysis [disease of blood and blood-forming organs, unspecified], hemocytophagia [other specified diseases of blood and blood-forming organs], mechanical hemolytic anemia [other nonautoimmune hemolytic anemias], intravascular haemolysis [delayed or excessive hemorrhage following complete or unspecified spontaneous abortion], methemalbuminaemia [other specified abnormal findings of blood chemistry], hematochezia [other fecal abnormalities], clot haematuria [hematuria], dilutional anemia [other specified anemias], microscopic haematuria [recurrent and persistent hematuria with unspecified morphologic changes], chemical haematuria [hematuria, unspecified]]</td>\n      <td>[1, 1, 1, 0, 0, 1, 0, 1, 1, 1, 1, 0, 0, 1, 1]</td>\n      <td>[0, 0, 0, 0, 0, 0, 0, 1, 0, 0, 0, 0, 0, 0, 0]</td>\n      <td>[0, 0, 0, 0, 0, 0, 0, 46, 0, 0, 0, 0, 0, 0, 0]</td>\n    </tr>\n    <tr>\n      <th>14</th>\n      <td>6</td>\n      <td>significant lipemia</td>\n      <td>PROBLEM</td>\n      <td>E78.5</td>\n      <td>[E78.5, R79.8, Z83.49, E75.6, R74.8, R89.8, J62.8, D72.82, Z86.39, E78.4, E10.69, E78.41, Z86.3, E78.6]</td>\n      <td>[lipidaemia [hyperlipidemia, unspecified], serum lipids high (finding) [other specified abnormal findings of blood chemistry], fh: raised blood lipids [family history of other endocrine, nutritional and metabolic diseases], lipidoses [lipid storage disorder, unspecified], high lipase level in serum [abnormal levels of other serum enzymes], sample grossly lipaemic [other abnormal findings in specimens from other organs, systems and tissues], liparitosis [pneumoconiosis due to other dust containing silica], leucocyte count abnormal [elevated white blood cell count], h/o: raised blood lipids [personal history of other endocrine, nutritional and metabolic disease], chemically induced hyperlipidaemia [other hyperlipidemia], secondary combined hyperlipidaemia [type 1 diabetes mellitus with other specified complication], elevated lipoprotein(a) [elevated lipoprotein(a)], history of - raised blood lipids (situation) [personal history of endocrine, nutritional and metabolic diseases], endogenous hyperlipidaemia [lipoprotein deficiency]]</td>\n      <td>[1, 0, 1, 1, 1, 1, 1, 0, 1, 0, 1, 1, 0, 1]</td>\n      <td>[0, 0, 0, 0, 0, 0, 1, 0, 0, 0, 1, 0, 0, 0]</td>\n      <td>[0, 0, 0, 0, 0, 0, 112, 0, 0, 0, 18, 0, 0, 0]</td>\n    </tr>\n  </tbody>\n</table>\n</div>",
       "datasetInfos": [],
       "metadata": {},
       "removedWidgets": [],
       "textData": null,
       "type": "htmlSandbox"
      }
     },
     "output_type": "display_data"
    }
   ],
   "source": [
    "res_pd.head(15)"
   ]
  },
  {
   "cell_type": "markdown",
   "metadata": {
    "application/vnd.databricks.v1+cell": {
     "cellMetadata": {
      "byteLimit": 2048000,
      "rowLimit": 10000
     },
     "inputWidgets": {},
     "nuid": "d12742b0-e006-4283-ac41-5b724ef64eb2",
     "showTitle": false,
     "title": ""
    }
   },
   "source": [
    "**Lets apply some HTML formating by using `sparknlp_display` library to see the results of the pipeline in a nicer layout:**"
   ]
  },
  {
   "cell_type": "code",
   "execution_count": 0,
   "metadata": {
    "application/vnd.databricks.v1+cell": {
     "cellMetadata": {
      "byteLimit": 2048000,
      "rowLimit": 10000
     },
     "inputWidgets": {},
     "nuid": "5face53b-4e86-4c20-b824-a19b108075eb",
     "showTitle": false,
     "title": ""
    }
   },
   "outputs": [
    {
     "output_type": "display_data",
     "data": {
      "text/html": [
       "\n",
       "<style>\n",
       "    @import url('https://fonts.googleapis.com/css2?family=Montserrat:wght@300;400;500;600;700&display=swap');\n",
       "    @import url('https://fonts.googleapis.com/css2?family=Vistol Regular:wght@300;400;500;600;700&display=swap');\n",
       "    \n",
       "    .spark-nlp-display-scroll-entities {\n",
       "        border: 1px solid #E7EDF0;\n",
       "        border-radius: 3px;\n",
       "        text-align: justify;\n",
       "        \n",
       "    }\n",
       "    .spark-nlp-display-scroll-entities span {  \n",
       "        font-size: 14px;\n",
       "        line-height: 24px;\n",
       "        color: #536B76;\n",
       "        font-family: 'Montserrat', sans-serif !important;\n",
       "    }\n",
       "    \n",
       "    .spark-nlp-display-entity-wrapper{\n",
       "    \n",
       "        display: inline-grid;\n",
       "        text-align: center;\n",
       "        border-radius: 4px;\n",
       "        margin: 0 2px 5px 2px;\n",
       "        padding: 1px\n",
       "    }\n",
       "    .spark-nlp-display-entity-name{\n",
       "        font-size: 14px;\n",
       "        line-height: 24px;\n",
       "        font-family: 'Montserrat', sans-serif !important;\n",
       "        \n",
       "        background: #f1f2f3;\n",
       "        border-width: medium;\n",
       "        text-align: center;\n",
       "        \n",
       "        font-weight: 400;\n",
       "        \n",
       "        border-radius: 5px;\n",
       "        padding: 2px 5px;\n",
       "        display: block;\n",
       "        margin: 3px 2px;\n",
       "    \n",
       "    }\n",
       "    .spark-nlp-display-entity-type{\n",
       "        font-size: 14px;\n",
       "        line-height: 24px;\n",
       "        color: #ffffff;\n",
       "        font-family: 'Montserrat', sans-serif !important;\n",
       "        \n",
       "        text-transform: uppercase;\n",
       "        \n",
       "        font-weight: 500;\n",
       "\n",
       "        display: block;\n",
       "        padding: 3px 5px;\n",
       "    }\n",
       "    \n",
       "    .spark-nlp-display-entity-resolution{\n",
       "        font-size: 14px;\n",
       "        line-height: 24px;\n",
       "        color: #ffffff;\n",
       "        font-family: 'Vistol Regular', sans-serif !important;\n",
       "        \n",
       "        text-transform: uppercase;\n",
       "        \n",
       "        font-weight: 500;\n",
       "\n",
       "        display: block;\n",
       "        padding: 3px 5px;\n",
       "    }\n",
       "    \n",
       "    .spark-nlp-display-others{\n",
       "        font-size: 14px;\n",
       "        line-height: 24px;\n",
       "        font-family: 'Montserrat', sans-serif !important;\n",
       "        \n",
       "        font-weight: 400;\n",
       "    }\n",
       "\n",
       "</style>\n",
       " <span class=\"spark-nlp-display-others\" style=\"background-color: white\">A 28-year-old female with a history of </span><span class=\"spark-nlp-display-entity-wrapper\" style=\"background-color: #008080B3\"><span class=\"spark-nlp-display-entity-name\">gestational diabetes mellitus </span><span class=\"spark-nlp-display-entity-type\">PROBLEM</span><span class=\"spark-nlp-display-entity-resolution\" style=\"background-color: #008080FF\">O24.4 </span><span class=\"spark-nlp-display-entity-resolution\" style=\"background-color: #008080CC\">gestational diabetes mellitus [gestational diabetes mellitus]</span></span><span class=\"spark-nlp-display-others\" style=\"background-color: white\"> diagnosed eight years prior to presentation and </span><span class=\"spark-nlp-display-entity-wrapper\" style=\"background-color: #008080B3\"><span class=\"spark-nlp-display-entity-name\">subsequent type two diabetes mellitus </span><span class=\"spark-nlp-display-entity-type\">PROBLEM</span><span class=\"spark-nlp-display-entity-resolution\" style=\"background-color: #008080FF\">O24.11 </span><span class=\"spark-nlp-display-entity-resolution\" style=\"background-color: #008080CC\">pre-existing type 2 diabetes mellitus [pre-existing type 2 diabetes mellitus, in pregnancy]</span></span><span class=\"spark-nlp-display-others\" style=\"background-color: white\">, associated with </span><span class=\"spark-nlp-display-entity-wrapper\" style=\"background-color: #008080B3\"><span class=\"spark-nlp-display-entity-name\">an acute hepatitis </span><span class=\"spark-nlp-display-entity-type\">PROBLEM</span><span class=\"spark-nlp-display-entity-resolution\" style=\"background-color: #008080FF\">B15 </span><span class=\"spark-nlp-display-entity-resolution\" style=\"background-color: #008080CC\">acute hepatitis a [acute hepatitis a]</span></span><span class=\"spark-nlp-display-others\" style=\"background-color: white\">, and </span><span class=\"spark-nlp-display-entity-wrapper\" style=\"background-color: #008080B3\"><span class=\"spark-nlp-display-entity-name\">obesity </span><span class=\"spark-nlp-display-entity-type\">PROBLEM</span><span class=\"spark-nlp-display-entity-resolution\" style=\"background-color: #008080FF\">E66.9 </span><span class=\"spark-nlp-display-entity-resolution\" style=\"background-color: #008080CC\">obesity [obesity, unspecified]</span></span><span class=\"spark-nlp-display-others\" style=\"background-color: white\"> with </span><span class=\"spark-nlp-display-entity-wrapper\" style=\"background-color: #008080B3\"><span class=\"spark-nlp-display-entity-name\">a body mass index </span><span class=\"spark-nlp-display-entity-type\">PROBLEM</span><span class=\"spark-nlp-display-entity-resolution\" style=\"background-color: #008080FF\">Z68.41 </span><span class=\"spark-nlp-display-entity-resolution\" style=\"background-color: #008080CC\">finding of body mass index [body mass index [bmi] 40.0-44.9, adult]</span></span><span class=\"spark-nlp-display-others\" style=\"background-color: white\"> (BMI) of 33.5 kg/m2, presented with a one-week history of </span><span class=\"spark-nlp-display-entity-wrapper\" style=\"background-color: #008080B3\"><span class=\"spark-nlp-display-entity-name\">polyuria </span><span class=\"spark-nlp-display-entity-type\">PROBLEM</span><span class=\"spark-nlp-display-entity-resolution\" style=\"background-color: #008080FF\">R35 </span><span class=\"spark-nlp-display-entity-resolution\" style=\"background-color: #008080CC\">polyuria [polyuria]</span></span><span class=\"spark-nlp-display-others\" style=\"background-color: white\">, </span><span class=\"spark-nlp-display-entity-wrapper\" style=\"background-color: #008080B3\"><span class=\"spark-nlp-display-entity-name\">polydipsia </span><span class=\"spark-nlp-display-entity-type\">PROBLEM</span><span class=\"spark-nlp-display-entity-resolution\" style=\"background-color: #008080FF\">R63.1 </span><span class=\"spark-nlp-display-entity-resolution\" style=\"background-color: #008080CC\">polydipsia [polydipsia]</span></span><span class=\"spark-nlp-display-others\" style=\"background-color: white\">, </span><span class=\"spark-nlp-display-entity-wrapper\" style=\"background-color: #008080B3\"><span class=\"spark-nlp-display-entity-name\">poor appetite </span><span class=\"spark-nlp-display-entity-type\">PROBLEM</span><span class=\"spark-nlp-display-entity-resolution\" style=\"background-color: #008080FF\">R63.0 </span><span class=\"spark-nlp-display-entity-resolution\" style=\"background-color: #008080CC\">poor appetite [anorexia]</span></span><span class=\"spark-nlp-display-others\" style=\"background-color: white\">, and </span><span class=\"spark-nlp-display-entity-wrapper\" style=\"background-color: #008080B3\"><span class=\"spark-nlp-display-entity-name\">vomiting </span><span class=\"spark-nlp-display-entity-type\">PROBLEM</span><span class=\"spark-nlp-display-entity-resolution\" style=\"background-color: #008080FF\">R11.1 </span><span class=\"spark-nlp-display-entity-resolution\" style=\"background-color: #008080CC\">vomiting [vomiting]</span></span><span class=\"spark-nlp-display-others\" style=\"background-color: white\">. Two weeks prior to presentation, she was treated with a five-day course of amoxicillin for </span><span class=\"spark-nlp-display-entity-wrapper\" style=\"background-color: #008080B3\"><span class=\"spark-nlp-display-entity-name\">a respiratory tract infection </span><span class=\"spark-nlp-display-entity-type\">PROBLEM</span><span class=\"spark-nlp-display-entity-resolution\" style=\"background-color: #008080FF\">J98.8 </span><span class=\"spark-nlp-display-entity-resolution\" style=\"background-color: #008080CC\">respiratory tract infection [other specified respiratory disorders]</span></span><span class=\"spark-nlp-display-others\" style=\"background-color: white\">. She had been on dapagliflozin for six months at the time of presentation. Physical examination on presentation was significant for </span><span class=\"spark-nlp-display-entity-wrapper\" style=\"background-color: #008080B3\"><span class=\"spark-nlp-display-entity-name\">dry oral mucosa </span><span class=\"spark-nlp-display-entity-type\">PROBLEM</span><span class=\"spark-nlp-display-entity-resolution\" style=\"background-color: #008080FF\">K13.0 </span><span class=\"spark-nlp-display-entity-resolution\" style=\"background-color: #008080CC\">dry lips [diseases of lips]</span></span><span class=\"spark-nlp-display-others\" style=\"background-color: white\">; significantly, her abdominal examination was benign with no </span><span class=\"spark-nlp-display-entity-wrapper\" style=\"background-color: #008080B3\"><span class=\"spark-nlp-display-entity-name\">tenderness </span><span class=\"spark-nlp-display-entity-type\">PROBLEM</span><span class=\"spark-nlp-display-entity-resolution\" style=\"background-color: #008080FF\">R52 </span><span class=\"spark-nlp-display-entity-resolution\" style=\"background-color: #008080CC\">tenderness (finding) [pain, unspecified]</span></span><span class=\"spark-nlp-display-others\" style=\"background-color: white\"> or </span><span class=\"spark-nlp-display-entity-wrapper\" style=\"background-color: #008080B3\"><span class=\"spark-nlp-display-entity-name\">guarding </span><span class=\"spark-nlp-display-entity-type\">PROBLEM</span><span class=\"spark-nlp-display-entity-resolution\" style=\"background-color: #008080FF\">M62.83 </span><span class=\"spark-nlp-display-entity-resolution\" style=\"background-color: #008080CC\">guarding [muscle spasm]</span></span><span class=\"spark-nlp-display-others\" style=\"background-color: white\">. Pertinent laboratory findings on admission were: serum glucose 111 mg/dl, bicarbonate 18 mmol/l, anion gap 20, creatinine 0.4 mg/dL, triglycerides 508 mg/dL, total cholesterol 122 mg/dL, glycated hemoglobin (HbA1c) 10%, and venous pH 7.27. Serum lipase was normal at 43 U/L. Serum acetone levels could not be assessed as blood samples kept </span><span class=\"spark-nlp-display-entity-wrapper\" style=\"background-color: #008080B3\"><span class=\"spark-nlp-display-entity-name\">hemolyzing </span><span class=\"spark-nlp-display-entity-type\">PROBLEM</span><span class=\"spark-nlp-display-entity-resolution\" style=\"background-color: #008080FF\">O04.6 </span><span class=\"spark-nlp-display-entity-resolution\" style=\"background-color: #008080CC\">hemolysis [delayed or excessive hemorrhage following (induced) termination of pregnancy]</span></span><span class=\"spark-nlp-display-others\" style=\"background-color: white\"> due to </span><span class=\"spark-nlp-display-entity-wrapper\" style=\"background-color: #008080B3\"><span class=\"spark-nlp-display-entity-name\">significant lipemia </span><span class=\"spark-nlp-display-entity-type\">PROBLEM</span><span class=\"spark-nlp-display-entity-resolution\" style=\"background-color: #008080FF\">E78.5 </span><span class=\"spark-nlp-display-entity-resolution\" style=\"background-color: #008080CC\">lipidaemia [hyperlipidemia, unspecified]</span></span><span class=\"spark-nlp-display-others\" style=\"background-color: white\">. The patient was initially admitted for </span><span class=\"spark-nlp-display-entity-wrapper\" style=\"background-color: #008080B3\"><span class=\"spark-nlp-display-entity-name\">starvation ketosis </span><span class=\"spark-nlp-display-entity-type\">PROBLEM</span><span class=\"spark-nlp-display-entity-resolution\" style=\"background-color: #008080FF\">E87.2 </span><span class=\"spark-nlp-display-entity-resolution\" style=\"background-color: #008080CC\">starvation ketoacidosis [acidosis]</span></span><span class=\"spark-nlp-display-others\" style=\"background-color: white\">, as she reported </span><span class=\"spark-nlp-display-entity-wrapper\" style=\"background-color: #008080B3\"><span class=\"spark-nlp-display-entity-name\">poor oral intake </span><span class=\"spark-nlp-display-entity-type\">PROBLEM</span><span class=\"spark-nlp-display-entity-resolution\" style=\"background-color: #008080FF\">E63.9 </span><span class=\"spark-nlp-display-entity-resolution\" style=\"background-color: #008080CC\">inadequate oral intake [nutritional deficiency, unspecified]</span></span><span class=\"spark-nlp-display-others\" style=\"background-color: white\"> for three days prior to admission.</span></div>"
      ]
     },
     "metadata": {
      "application/vnd.databricks.v1+output": {
       "addedWidgets": {},
       "arguments": {},
       "data": "\n<style>\n    @import url('https://fonts.googleapis.com/css2?family=Montserrat:wght@300;400;500;600;700&display=swap');\n    @import url('https://fonts.googleapis.com/css2?family=Vistol Regular:wght@300;400;500;600;700&display=swap');\n    \n    .spark-nlp-display-scroll-entities {\n        border: 1px solid #E7EDF0;\n        border-radius: 3px;\n        text-align: justify;\n        \n    }\n    .spark-nlp-display-scroll-entities span {  \n        font-size: 14px;\n        line-height: 24px;\n        color: #536B76;\n        font-family: 'Montserrat', sans-serif !important;\n    }\n    \n    .spark-nlp-display-entity-wrapper{\n    \n        display: inline-grid;\n        text-align: center;\n        border-radius: 4px;\n        margin: 0 2px 5px 2px;\n        padding: 1px\n    }\n    .spark-nlp-display-entity-name{\n        font-size: 14px;\n        line-height: 24px;\n        font-family: 'Montserrat', sans-serif !important;\n        \n        background: #f1f2f3;\n        border-width: medium;\n        text-align: center;\n        \n        font-weight: 400;\n        \n        border-radius: 5px;\n        padding: 2px 5px;\n        display: block;\n        margin: 3px 2px;\n    \n    }\n    .spark-nlp-display-entity-type{\n        font-size: 14px;\n        line-height: 24px;\n        color: #ffffff;\n        font-family: 'Montserrat', sans-serif !important;\n        \n        text-transform: uppercase;\n        \n        font-weight: 500;\n\n        display: block;\n        padding: 3px 5px;\n    }\n    \n    .spark-nlp-display-entity-resolution{\n        font-size: 14px;\n        line-height: 24px;\n        color: #ffffff;\n        font-family: 'Vistol Regular', sans-serif !important;\n        \n        text-transform: uppercase;\n        \n        font-weight: 500;\n\n        display: block;\n        padding: 3px 5px;\n    }\n    \n    .spark-nlp-display-others{\n        font-size: 14px;\n        line-height: 24px;\n        font-family: 'Montserrat', sans-serif !important;\n        \n        font-weight: 400;\n    }\n\n</style>\n <span class=\"spark-nlp-display-others\" style=\"background-color: white\">A 28-year-old female with a history of </span><span class=\"spark-nlp-display-entity-wrapper\" style=\"background-color: #008080B3\"><span class=\"spark-nlp-display-entity-name\">gestational diabetes mellitus </span><span class=\"spark-nlp-display-entity-type\">PROBLEM</span><span class=\"spark-nlp-display-entity-resolution\" style=\"background-color: #008080FF\">O24.4 </span><span class=\"spark-nlp-display-entity-resolution\" style=\"background-color: #008080CC\">gestational diabetes mellitus [gestational diabetes mellitus]</span></span><span class=\"spark-nlp-display-others\" style=\"background-color: white\"> diagnosed eight years prior to presentation and </span><span class=\"spark-nlp-display-entity-wrapper\" style=\"background-color: #008080B3\"><span class=\"spark-nlp-display-entity-name\">subsequent type two diabetes mellitus </span><span class=\"spark-nlp-display-entity-type\">PROBLEM</span><span class=\"spark-nlp-display-entity-resolution\" style=\"background-color: #008080FF\">O24.11 </span><span class=\"spark-nlp-display-entity-resolution\" style=\"background-color: #008080CC\">pre-existing type 2 diabetes mellitus [pre-existing type 2 diabetes mellitus, in pregnancy]</span></span><span class=\"spark-nlp-display-others\" style=\"background-color: white\">, associated with </span><span class=\"spark-nlp-display-entity-wrapper\" style=\"background-color: #008080B3\"><span class=\"spark-nlp-display-entity-name\">an acute hepatitis </span><span class=\"spark-nlp-display-entity-type\">PROBLEM</span><span class=\"spark-nlp-display-entity-resolution\" style=\"background-color: #008080FF\">B15 </span><span class=\"spark-nlp-display-entity-resolution\" style=\"background-color: #008080CC\">acute hepatitis a [acute hepatitis a]</span></span><span class=\"spark-nlp-display-others\" style=\"background-color: white\">, and </span><span class=\"spark-nlp-display-entity-wrapper\" style=\"background-color: #008080B3\"><span class=\"spark-nlp-display-entity-name\">obesity </span><span class=\"spark-nlp-display-entity-type\">PROBLEM</span><span class=\"spark-nlp-display-entity-resolution\" style=\"background-color: #008080FF\">E66.9 </span><span class=\"spark-nlp-display-entity-resolution\" style=\"background-color: #008080CC\">obesity [obesity, unspecified]</span></span><span class=\"spark-nlp-display-others\" style=\"background-color: white\"> with </span><span class=\"spark-nlp-display-entity-wrapper\" style=\"background-color: #008080B3\"><span class=\"spark-nlp-display-entity-name\">a body mass index </span><span class=\"spark-nlp-display-entity-type\">PROBLEM</span><span class=\"spark-nlp-display-entity-resolution\" style=\"background-color: #008080FF\">Z68.41 </span><span class=\"spark-nlp-display-entity-resolution\" style=\"background-color: #008080CC\">finding of body mass index [body mass index [bmi] 40.0-44.9, adult]</span></span><span class=\"spark-nlp-display-others\" style=\"background-color: white\"> (BMI) of 33.5 kg/m2, presented with a one-week history of </span><span class=\"spark-nlp-display-entity-wrapper\" style=\"background-color: #008080B3\"><span class=\"spark-nlp-display-entity-name\">polyuria </span><span class=\"spark-nlp-display-entity-type\">PROBLEM</span><span class=\"spark-nlp-display-entity-resolution\" style=\"background-color: #008080FF\">R35 </span><span class=\"spark-nlp-display-entity-resolution\" style=\"background-color: #008080CC\">polyuria [polyuria]</span></span><span class=\"spark-nlp-display-others\" style=\"background-color: white\">, </span><span class=\"spark-nlp-display-entity-wrapper\" style=\"background-color: #008080B3\"><span class=\"spark-nlp-display-entity-name\">polydipsia </span><span class=\"spark-nlp-display-entity-type\">PROBLEM</span><span class=\"spark-nlp-display-entity-resolution\" style=\"background-color: #008080FF\">R63.1 </span><span class=\"spark-nlp-display-entity-resolution\" style=\"background-color: #008080CC\">polydipsia [polydipsia]</span></span><span class=\"spark-nlp-display-others\" style=\"background-color: white\">, </span><span class=\"spark-nlp-display-entity-wrapper\" style=\"background-color: #008080B3\"><span class=\"spark-nlp-display-entity-name\">poor appetite </span><span class=\"spark-nlp-display-entity-type\">PROBLEM</span><span class=\"spark-nlp-display-entity-resolution\" style=\"background-color: #008080FF\">R63.0 </span><span class=\"spark-nlp-display-entity-resolution\" style=\"background-color: #008080CC\">poor appetite [anorexia]</span></span><span class=\"spark-nlp-display-others\" style=\"background-color: white\">, and </span><span class=\"spark-nlp-display-entity-wrapper\" style=\"background-color: #008080B3\"><span class=\"spark-nlp-display-entity-name\">vomiting </span><span class=\"spark-nlp-display-entity-type\">PROBLEM</span><span class=\"spark-nlp-display-entity-resolution\" style=\"background-color: #008080FF\">R11.1 </span><span class=\"spark-nlp-display-entity-resolution\" style=\"background-color: #008080CC\">vomiting [vomiting]</span></span><span class=\"spark-nlp-display-others\" style=\"background-color: white\">. Two weeks prior to presentation, she was treated with a five-day course of amoxicillin for </span><span class=\"spark-nlp-display-entity-wrapper\" style=\"background-color: #008080B3\"><span class=\"spark-nlp-display-entity-name\">a respiratory tract infection </span><span class=\"spark-nlp-display-entity-type\">PROBLEM</span><span class=\"spark-nlp-display-entity-resolution\" style=\"background-color: #008080FF\">J98.8 </span><span class=\"spark-nlp-display-entity-resolution\" style=\"background-color: #008080CC\">respiratory tract infection [other specified respiratory disorders]</span></span><span class=\"spark-nlp-display-others\" style=\"background-color: white\">. She had been on dapagliflozin for six months at the time of presentation. Physical examination on presentation was significant for </span><span class=\"spark-nlp-display-entity-wrapper\" style=\"background-color: #008080B3\"><span class=\"spark-nlp-display-entity-name\">dry oral mucosa </span><span class=\"spark-nlp-display-entity-type\">PROBLEM</span><span class=\"spark-nlp-display-entity-resolution\" style=\"background-color: #008080FF\">K13.0 </span><span class=\"spark-nlp-display-entity-resolution\" style=\"background-color: #008080CC\">dry lips [diseases of lips]</span></span><span class=\"spark-nlp-display-others\" style=\"background-color: white\">; significantly, her abdominal examination was benign with no </span><span class=\"spark-nlp-display-entity-wrapper\" style=\"background-color: #008080B3\"><span class=\"spark-nlp-display-entity-name\">tenderness </span><span class=\"spark-nlp-display-entity-type\">PROBLEM</span><span class=\"spark-nlp-display-entity-resolution\" style=\"background-color: #008080FF\">R52 </span><span class=\"spark-nlp-display-entity-resolution\" style=\"background-color: #008080CC\">tenderness (finding) [pain, unspecified]</span></span><span class=\"spark-nlp-display-others\" style=\"background-color: white\"> or </span><span class=\"spark-nlp-display-entity-wrapper\" style=\"background-color: #008080B3\"><span class=\"spark-nlp-display-entity-name\">guarding </span><span class=\"spark-nlp-display-entity-type\">PROBLEM</span><span class=\"spark-nlp-display-entity-resolution\" style=\"background-color: #008080FF\">M62.83 </span><span class=\"spark-nlp-display-entity-resolution\" style=\"background-color: #008080CC\">guarding [muscle spasm]</span></span><span class=\"spark-nlp-display-others\" style=\"background-color: white\">. Pertinent laboratory findings on admission were: serum glucose 111 mg/dl, bicarbonate 18 mmol/l, anion gap 20, creatinine 0.4 mg/dL, triglycerides 508 mg/dL, total cholesterol 122 mg/dL, glycated hemoglobin (HbA1c) 10%, and venous pH 7.27. Serum lipase was normal at 43 U/L. Serum acetone levels could not be assessed as blood samples kept </span><span class=\"spark-nlp-display-entity-wrapper\" style=\"background-color: #008080B3\"><span class=\"spark-nlp-display-entity-name\">hemolyzing </span><span class=\"spark-nlp-display-entity-type\">PROBLEM</span><span class=\"spark-nlp-display-entity-resolution\" style=\"background-color: #008080FF\">O04.6 </span><span class=\"spark-nlp-display-entity-resolution\" style=\"background-color: #008080CC\">hemolysis [delayed or excessive hemorrhage following (induced) termination of pregnancy]</span></span><span class=\"spark-nlp-display-others\" style=\"background-color: white\"> due to </span><span class=\"spark-nlp-display-entity-wrapper\" style=\"background-color: #008080B3\"><span class=\"spark-nlp-display-entity-name\">significant lipemia </span><span class=\"spark-nlp-display-entity-type\">PROBLEM</span><span class=\"spark-nlp-display-entity-resolution\" style=\"background-color: #008080FF\">E78.5 </span><span class=\"spark-nlp-display-entity-resolution\" style=\"background-color: #008080CC\">lipidaemia [hyperlipidemia, unspecified]</span></span><span class=\"spark-nlp-display-others\" style=\"background-color: white\">. The patient was initially admitted for </span><span class=\"spark-nlp-display-entity-wrapper\" style=\"background-color: #008080B3\"><span class=\"spark-nlp-display-entity-name\">starvation ketosis </span><span class=\"spark-nlp-display-entity-type\">PROBLEM</span><span class=\"spark-nlp-display-entity-resolution\" style=\"background-color: #008080FF\">E87.2 </span><span class=\"spark-nlp-display-entity-resolution\" style=\"background-color: #008080CC\">starvation ketoacidosis [acidosis]</span></span><span class=\"spark-nlp-display-others\" style=\"background-color: white\">, as she reported </span><span class=\"spark-nlp-display-entity-wrapper\" style=\"background-color: #008080B3\"><span class=\"spark-nlp-display-entity-name\">poor oral intake </span><span class=\"spark-nlp-display-entity-type\">PROBLEM</span><span class=\"spark-nlp-display-entity-resolution\" style=\"background-color: #008080FF\">E63.9 </span><span class=\"spark-nlp-display-entity-resolution\" style=\"background-color: #008080CC\">inadequate oral intake [nutritional deficiency, unspecified]</span></span><span class=\"spark-nlp-display-others\" style=\"background-color: white\"> for three days prior to admission.</span></div>",
       "datasetInfos": [],
       "metadata": {},
       "removedWidgets": [],
       "textData": null,
       "type": "htmlSandbox"
      }
     },
     "output_type": "display_data"
    }
   ],
   "source": [
    "icd10_lp = nlp.LightPipeline(model)\n",
    "\n",
    "light_result = icd10_lp.fullAnnotate(clinical_note)\n",
    "\n",
    "visualiser = nlp.viz.EntityResolverVisualizer()\n",
    "\n",
    "# Change color of an entity label\n",
    "visualiser.set_label_colors({'PROBLEM':'#008080'})\n",
    "\n",
    "vis= visualiser.display(light_result[0], 'ner_chunk', 'icd10cm_code', return_html=True)\n",
    "\n",
    "displayHTML(vis)"
   ]
  },
  {
   "cell_type": "markdown",
   "metadata": {
    "application/vnd.databricks.v1+cell": {
     "cellMetadata": {
      "byteLimit": 2048000,
      "rowLimit": 10000
     },
     "inputWidgets": {},
     "nuid": "308c025e-0928-4a16-962c-49af29002489",
     "showTitle": false,
     "title": ""
    },
    "id": "9oeIQ4aFCTk2"
   },
   "source": [
    "### ICD10CM with BertSentenceChunkEmbeddings\n",
    "\n",
    "**BertSentenceChunkEmbeddings**\n",
    "\n",
    "- This annotator let users to aggregate sentence embeddings and ner chunk embeddings to get more specific and accurate resolution codes. It works by averaging context and chunk embeddings to get contextual information. Input to this annotator is the context (sentence) and ner chunks, while the output is embedding for each chunk that can be fed to the resolver model. The `setChunkWeight` parameter can be used to control the influence of surrounding context.\n",
    "\n",
    "- For more information and examples of `BertSentenceChunkEmbeddings` annotator, you can check here: \n",
    "[24.1.Improved_Entity_Resolution_with_SentenceChunkEmbeddings.ipynb](https://github.com/JohnSnowLabs/spark-nlp-workshop/blob/master/tutorials/Certification_Trainings/Healthcare/24.1.Improved_Entity_Resolution_with_SentenceChunkEmbeddings.ipynb)\n",
    "\n",
    "Lets do the same process by using `BertSentenceEmbeddings` annotator and compare the results. We will create a new pipeline by using this annotator with SentenceEntityResolverModel."
   ]
  },
  {
   "cell_type": "code",
   "execution_count": 0,
   "metadata": {
    "application/vnd.databricks.v1+cell": {
     "cellMetadata": {
      "byteLimit": 2048000,
      "rowLimit": 10000
     },
     "inputWidgets": {},
     "nuid": "8aff7f79-a770-42c9-9523-75c9e4c8c874",
     "showTitle": false,
     "title": ""
    },
    "colab": {
     "base_uri": "https://localhost:8080/"
    },
    "id": "hMe5ZZRNCTk2",
    "outputId": "fd6d4eae-a385-49dc-e5a1-15dbe4a11d06"
   },
   "outputs": [
    {
     "output_type": "stream",
     "name": "stdout",
     "output_type": "stream",
     "text": [
      "sbiobert_base_cased_mli download started this may take some time.\n\r[ | ]\r[ / ]\r[ — ]\r[ \\ ]\r[ | ]\r[ / ]\r[ — ]\r[ \\ ]\r[ | ]\r[ / ]\r[ — ]\r[ \\ ]\r[ | ]\r[ / ]\r[ — ]\r[ \\ ]\r[ | ]\r[ / ]\r[ — ]\r[ \\ ]\r[ | ]\r[ / ]\r[ — ]\r[ \\ ]\r[ | ]\r[ / ]\r[ — ]\r[ \\ ]\r[ | ]\r[ / ]\r[ — ]\r[OK!]\nsbiobertresolve_icd10cm_augmented_billable_hcc download started this may take some time.\n\r[ | ]\r[OK!]\n"
     ]
    }
   ],
   "source": [
    "#Get average sentence-chunk Bert embeddings\n",
    "sentence_chunk_embeddings = medical.BertSentenceChunkEmbeddings.pretrained(\"sbiobert_base_cased_mli\", \"en\", \"clinical/models\")\\\n",
    "    .setInputCols([\"sentence\", \"ner_chunk\"])\\\n",
    "    .setOutputCol(\"sentence_embeddings\")\\\n",
    "    .setCaseSensitive(False)\\\n",
    "    .setChunkWeight(0.5) #default : 0.5\n",
    "    \n",
    "icd_resolver = medical.SentenceEntityResolverModel.pretrained(\"sbiobertresolve_icd10cm_augmented_billable_hcc\",\"en\", \"clinical/models\") \\\n",
    "    .setInputCols([\"sentence_embeddings\"]) \\\n",
    "    .setOutputCol(\"icd10cm_code\")\\\n",
    "    .setDistanceFunction(\"EUCLIDEAN\")\n",
    "  \n",
    "resolver_pipeline_SCE = nlp.Pipeline(\n",
    "    stages = [\n",
    "        document_assembler,\n",
    "        sentenceDetectorDL,\n",
    "        tokenizer,\n",
    "        word_embeddings,\n",
    "        clinical_ner,\n",
    "        ner_converter_icd,\n",
    "        sentence_chunk_embeddings,\n",
    "        icd_resolver\n",
    "  ])\n",
    "\n",
    "\n",
    "empty_data = spark.createDataFrame([['']]).toDF(\"text\")\n",
    "model_SCE = resolver_pipeline_SCE.fit(empty_data)"
   ]
  },
  {
   "cell_type": "code",
   "execution_count": 0,
   "metadata": {
    "application/vnd.databricks.v1+cell": {
     "cellMetadata": {
      "byteLimit": 2048000,
      "rowLimit": 10000
     },
     "inputWidgets": {},
     "nuid": "d8a77fdb-25f2-42a7-ac4f-13040b34d554",
     "showTitle": false,
     "title": ""
    }
   },
   "outputs": [
    {
     "output_type": "stream",
     "name": "stdout",
     "output_type": "stream",
     "text": [
      "Out[17]: [DocumentAssembler_4fca74831acb,\n SentenceDetectorDLModel_6bafc4746ea5,\n REGEX_TOKENIZER_1071e390b163,\n WORD_EMBEDDINGS_MODEL_9004b1d00302,\n MedicalNerModel_cd5ce67b529f,\n NER_CONVERTER_e9906d88145d,\n Chunk2Doc_ecef13d8c933,\n BERT_SENTENCE_EMBEDDINGS_0bee53f1b2cc,\n ENTITY_05f90ef679b8]"
     ]
    }
   ],
   "source": [
    "model.stages"
   ]
  },
  {
   "cell_type": "code",
   "execution_count": 0,
   "metadata": {
    "application/vnd.databricks.v1+cell": {
     "cellMetadata": {
      "byteLimit": 2048000,
      "rowLimit": 10000
     },
     "inputWidgets": {},
     "nuid": "422cbf08-a979-43f3-9737-7ea4b275fb57",
     "showTitle": false,
     "title": ""
    }
   },
   "outputs": [
    {
     "output_type": "stream",
     "name": "stdout",
     "output_type": "stream",
     "text": [
      "Out[18]: [DocumentAssembler_4fca74831acb,\n SentenceDetectorDLModel_6bafc4746ea5,\n REGEX_TOKENIZER_4192d8921072,\n WORD_EMBEDDINGS_MODEL_9004b1d00302,\n MedicalNerModel_cd5ce67b529f,\n NER_CONVERTER_d20ccb3013b1,\n BERTSENTENCECHUNKEMBEDDINGS_2b67ad5ea0d1,\n ENTITY_05f90ef679b8]"
     ]
    }
   ],
   "source": [
    "model_SCE.stages"
   ]
  },
  {
   "cell_type": "code",
   "execution_count": 0,
   "metadata": {
    "application/vnd.databricks.v1+cell": {
     "cellMetadata": {
      "byteLimit": 2048000,
      "rowLimit": 10000
     },
     "inputWidgets": {},
     "nuid": "8d00cd25-13a1-4ba8-852b-51fd306f2206",
     "showTitle": false,
     "title": ""
    }
   },
   "outputs": [],
   "source": [
    "icd10_result_SCE = model_SCE.transform(data_ner)"
   ]
  },
  {
   "cell_type": "code",
   "execution_count": 0,
   "metadata": {
    "application/vnd.databricks.v1+cell": {
     "cellMetadata": {
      "byteLimit": 2048000,
      "rowLimit": 10000
     },
     "inputWidgets": {},
     "nuid": "a0d5993f-baa4-49e7-8c61-de3bece79b19",
     "showTitle": false,
     "title": ""
    }
   },
   "outputs": [
    {
     "output_type": "stream",
     "name": "stdout",
     "output_type": "stream",
     "text": [
      "CPU times: user 39.4 ms, sys: 92.5 ms, total: 132 ms\nWall time: 57.2 s\n"
     ]
    }
   ],
   "source": [
    "%%time\n",
    "\n",
    "res_SCE_pd = get_codes_from_df(icd10_result_SCE, 'ner_chunk', 'icd10cm_code', hcc=True)\n",
    "\n",
    "res_SCE_pd[\"billable\"] = res_SCE_pd[\"hcc_list\"].apply(extract_billable).apply(pd.Series).iloc[:,0]    \n",
    "res_SCE_pd[\"hcc_status\"] = res_SCE_pd[\"hcc_list\"].apply(extract_billable).apply(pd.Series).iloc[:,1]\n",
    "res_SCE_pd[\"hcc_code\"] = res_SCE_pd[\"hcc_list\"].apply(extract_billable).apply(pd.Series).iloc[:,2]\n",
    "\n",
    "res_SCE_pd.drop(\"hcc_list\", axis=1, inplace= True)"
   ]
  },
  {
   "cell_type": "code",
   "execution_count": 0,
   "metadata": {
    "application/vnd.databricks.v1+cell": {
     "cellMetadata": {
      "byteLimit": 2048000,
      "rowLimit": 10000
     },
     "inputWidgets": {},
     "nuid": "0b5c959e-dd27-4313-8146-0af706432c5a",
     "showTitle": false,
     "title": ""
    }
   },
   "outputs": [
    {
     "output_type": "display_data",
     "data": {
      "text/html": [
       "<div>\n",
       "<style scoped>\n",
       "    .dataframe tbody tr th:only-of-type {\n",
       "        vertical-align: middle;\n",
       "    }\n",
       "\n",
       "    .dataframe tbody tr th {\n",
       "        vertical-align: top;\n",
       "    }\n",
       "\n",
       "    .dataframe thead th {\n",
       "        text-align: right;\n",
       "    }\n",
       "</style>\n",
       "<table border=\"1\" class=\"dataframe\">\n",
       "  <thead>\n",
       "    <tr style=\"text-align: right;\">\n",
       "      <th></th>\n",
       "      <th>sent_id</th>\n",
       "      <th>ner_chunk</th>\n",
       "      <th>entity</th>\n",
       "      <th>icd10_code</th>\n",
       "      <th>all_codes</th>\n",
       "      <th>resolutions</th>\n",
       "      <th>billable</th>\n",
       "      <th>hcc_status</th>\n",
       "      <th>hcc_code</th>\n",
       "    </tr>\n",
       "  </thead>\n",
       "  <tbody>\n",
       "    <tr>\n",
       "      <th>0</th>\n",
       "      <td>0</td>\n",
       "      <td>gestational diabetes mellitus</td>\n",
       "      <td>PROBLEM</td>\n",
       "      <td>O24.4</td>\n",
       "      <td>[O24.4, O24.43, O24.41, O24.434, O24.42, O24.414, O24.13]</td>\n",
       "      <td>[gestational diabetes mellitus, class d [gestational diabetes mellitus], gestational diabetes mellitus in the puerperium [gestational diabetes mellitus in the puerperium], maternal gestational diabetes mellitus [gestational diabetes mellitus in pregnancy], gestational diabetes mellitus in the puerperium, insulin controlled [gestational diabetes mellitus in the puerperium, insulin controlled], gestational diabetes mellitus in childbirth [gestational diabetes mellitus in childbirth], gestational diabetes mellitus in pregnancy, insulin controlled [gestational diabetes mellitus in pregnancy, insulin controlled], pre-existing type 2 diabetes mellitus, in the puerperium [pre-existing type 2 diabetes mellitus, in the puerperium]]</td>\n",
       "      <td>[0, 0, 0, 1, 0, 1, 1]</td>\n",
       "      <td>[0, 0, 0, 0, 0, 0, 0]</td>\n",
       "      <td>[0, 0, 0, 0, 0, 0, 0]</td>\n",
       "    </tr>\n",
       "    <tr>\n",
       "      <th>1</th>\n",
       "      <td>0</td>\n",
       "      <td>subsequent type two diabetes mellitus</td>\n",
       "      <td>PROBLEM</td>\n",
       "      <td>O24.13</td>\n",
       "      <td>[O24.13, E11.6, E11.43, O24.11, E11.10, E11.0, O24.12, E11.4, E11.69, E11.1, O24.1, K31.8, E11.33, O24.4, E11.2]</td>\n",
       "      <td>[pre-existing type 2 diabetes mellitus, in the puerperium [pre-existing type 2 diabetes mellitus, in the puerperium], gastroparesis co-occurrent and due to type 2 diabetes mellitus [type 2 diabetes mellitus with other specified complications], gastroparesis with type 2 diabetes mellitus [type 2 diabetes mellitus with diabetic autonomic (poly)neuropathy], pregnancy and type 2 diabetes mellitus [pre-existing type 2 diabetes mellitus, in pregnancy], ketoacidosis due to type 2 diabetes mellitus [type 2 diabetes mellitus with ketoacidosis without coma], hyperosmolar coma due to type 2 diabetes mellitus [type 2 diabetes mellitus with hyperosmolarity], pre-existing type 2 diabetes mellitus, in childbirth [pre-existing type 2 diabetes mellitus, in childbirth], cranial nerve palsy co-occurrent and due to type 2 diabetes mellitus [type 2 diabetes mellitus with neurological complications], angina due to type 2 diabetes mellitus [type 2 diabetes mellitus with other specified complication], ketoacidosis due to type 2 diabetes mellitus (disorder) [type 2 diabetes mellitus with ketoacidosis], pre-existing type 2 diabetes mellitus in pregnancy [pre-existing type 2 diabetes mellitus, in pregnancy, childbirth and the puerperium], diabetic gastroparesis associated with type 2 diabetes mellitus [other specified diseases of stomach and duodenum], moderate nonproliferative retinopathy co-occurrent and due to type 2 diabetes mellitus [type 2 diabetes mellitus with moderate nonproliferative diabetic retinopathy], gestational diabetes mellitus, class a&gt;2&lt; [gestational diabetes mellitus], persistent microalbuminuria due to type 2 diabetes mellitus [type 2 diabetes mellitus with kidney complications]]</td>\n",
       "      <td>[1, 0, 1, 0, 1, 0, 1, 0, 1, 0, 0, 0, 0, 0, 0]</td>\n",
       "      <td>[0, 0, 1, 0, 1, 0, 0, 0, 1, 0, 0, 0, 0, 0, 0]</td>\n",
       "      <td>[0, 0, 18, 0, 17, 0, 0, 0, 18, 0, 0, 0, 0, 0, 0]</td>\n",
       "    </tr>\n",
       "    <tr>\n",
       "      <th>2</th>\n",
       "      <td>0</td>\n",
       "      <td>an acute hepatitis</td>\n",
       "      <td>PROBLEM</td>\n",
       "      <td>B16.9</td>\n",
       "      <td>[B16.9, B15.9, B16.2, B17.9, B16.0, E80.21, K71.2, O26.6, B18.1, F10.98, B15.0]</td>\n",
       "      <td>[acute fulminating type b viral hepatitis (disorder) [acute hepatitis b without delta-agent and without hepatic coma], acute fulminating type a viral hepatitis (disorder) [hepatitis a without hepatic coma], hepatic coma due to acute hepatitis b [acute hepatitis b without delta-agent with hepatic coma], acute fulminating viral hepatitis (disorder) [acute viral hepatitis, unspecified], acute viral hepatitis b with hepatic coma [acute hepatitis b with delta-agent with hepatic coma], acute intermittent (hepatic) porphyria [acute intermittent (hepatic) porphyria], toxic liver disease with acute hepatitis (disorder) [toxic liver disease with acute hepatitis], acute fatty liver of pregnancy [liver and biliary tract disorders in pregnancy, childbirth and the puerperium], chronic viral hepatitis b with hepatic coma [chronic viral hepatitis b without delta-agent], ketoacidosis due to acute alcoholic intoxication [alcohol use, unspecified with other alcohol-induced disorders], viral hepatitis a with hepatic coma (disorder) [hepatitis a with hepatic coma]]</td>\n",
       "      <td>[1, 1, 1, 1, 1, 1, 1, 0, 1, 0, 1]</td>\n",
       "      <td>[0, 0, 0, 0, 0, 1, 0, 0, 1, 0, 0]</td>\n",
       "      <td>[0, 0, 0, 0, 0, 23, 0, 0, 29, 0, 0]</td>\n",
       "    </tr>\n",
       "    <tr>\n",
       "      <th>3</th>\n",
       "      <td>0</td>\n",
       "      <td>obesity</td>\n",
       "      <td>PROBLEM</td>\n",
       "      <td>O99.21</td>\n",
       "      <td>[O99.21, E23.3, E66.8, E34.9, O26.00, E66.2, E66.9, E23.6, R73.02, E66.01, O99.215, R73.0, N91.1]</td>\n",
       "      <td>[severe obesity complicating pregnancy [obesity complicating pregnancy, childbirth, and the puerperium], rapid-onset childhood obesity, hypothalamic dysfunction, hypoventilation, autonomic dysregulation syndrome [hypothalamic dysfunction, not elsewhere classified], gynaecoid obesity [other obesity], severe obesity [endocrine disorder, unspecified], maternal obesity syndrome [excessive weight gain in pregnancy, unspecified trimester], rapid-onset childhood obesity, hypothalamic dysfunction, hypoventilation, autonomic dysregulation syndrome (disorder) [morbid (severe) obesity with alveolar hypoventilation], lifelong obesity [obesity, unspecified], hypothalamic infantilism with obesity syndrome [other disorders of pituitary gland], impaired glucose tolerance in obese [impaired glucose tolerance (oral)], morbid (severe) obesity due to excess calories [morbid (severe) obesity due to excess calories], obesity complicating the puerperium [obesity complicating the puerperium], impaired glucose tolerance in obese (disorder) [abnormal glucose], amenorrhea associated with obesity [secondary amenorrhea]]</td>\n",
       "      <td>[0, 1, 1, 1, 1, 1, 1, 1, 1, 1, 1, 0, 1]</td>\n",
       "      <td>[0, 1, 0, 0, 0, 1, 0, 1, 0, 1, 0, 0, 0]</td>\n",
       "      <td>[0, 23, 0, 0, 0, 22, 0, 23, 0, 22, 0, 0, 0]</td>\n",
       "    </tr>\n",
       "    <tr>\n",
       "      <th>4</th>\n",
       "      <td>0</td>\n",
       "      <td>a body mass index</td>\n",
       "      <td>PROBLEM</td>\n",
       "      <td>E13.00</td>\n",
       "      <td>[E13.00, O21.1, R73.0, E11.0, O24.1, O99.21, O24.41, O99.2, R73.02, P90, O99.8, N91.1, O24.0, E09.00, E09.0, E66.8, O99.215, E66.2, E23.3]</td>\n",
       "      <td>[hyperosmolarity due to secondary diabetes mellitus [other specified diabetes mellitus with hyperosmolarity without nonketotic hyperglycemic-hyperosmolar coma (nkhhc)], hyperemesis gravidarum with metabolic disturbance [hyperemesis gravidarum with metabolic disturbance], impaired glucose tolerance in obese (disorder) [abnormal glucose], type 2 diabetes mellitus with hyperosmolarity [type 2 diabetes mellitus with hyperosmolarity], pre-existing type 2 diabetes mellitus, in pregnancy, childbirth and the puerperium [pre-existing type 2 diabetes mellitus, in pregnancy, childbirth and the puerperium], severe obesity complicating pregnancy [obesity complicating pregnancy, childbirth, and the puerperium], gestational diabetes [gestational diabetes mellitus in pregnancy], hyperglycemic disorder in pregnancy [endocrine, nutritional and metabolic diseases complicating pregnancy, childbirth and the puerperium], impaired glucose tolerance in obese [impaired glucose tolerance (oral)], obesity by age of onset [convulsions of newborn], pregnancy and impaired glucose tolerance [other specified diseases and conditions complicating pregnancy, childbirth and the puerperium], amenorrhoea associated with obesity [secondary amenorrhea], pre-existing type 1 diabetes mellitus, in pregnancy, childbirth and the puerperium [pre-existing type 1 diabetes mellitus, in pregnancy, childbirth and the puerperium], hyperosmolarity due to drug induced diabetes mellitus [drug or chemical induced diabetes mellitus with hyperosmolarity without nonketotic hyperglycemic-hyperosmolar coma (nkhhc)], drug or chemical induced diabetes mellitus w hyperosmolarity [drug or chemical induced diabetes mellitus with hyperosmolarity], obesity by age of onset (disorder) [other obesity], obesity complicating the puerperium [obesity complicating the puerperium], rapid-onset childhood obesity, hypothalamic dysfunction, hypoventilation, autonomic dysregulation syndrome (disorder) [morbid (severe) obesity with alveolar hypoventilation], rapid-onset childhood obesity, hypothalamic dysfunction, hypoventilation, autonomic dysregulation syndrome [hypothalamic dysfunction, not elsewhere classified]]</td>\n",
       "      <td>[1, 1, 0, 0, 0, 0, 0, 0, 1, 1, 0, 1, 0, 1, 0, 1, 1, 1, 1]</td>\n",
       "      <td>[1, 0, 0, 0, 0, 0, 0, 0, 0, 0, 0, 0, 0, 1, 0, 0, 0, 1, 1]</td>\n",
       "      <td>[17, 0, 0, 0, 0, 0, 0, 0, 0, 0, 0, 0, 0, 17, 0, 0, 0, 22, 23]</td>\n",
       "    </tr>\n",
       "    <tr>\n",
       "      <th>5</th>\n",
       "      <td>0</td>\n",
       "      <td>polyuria</td>\n",
       "      <td>PROBLEM</td>\n",
       "      <td>R35</td>\n",
       "      <td>[R35, D59.5, R35.81, O13.9, O12.2, D68.69, O13.3, O12.22, O13.2, O12.25, O12.23, O12.20, O14.9]</td>\n",
       "      <td>[polyuria [polyuria], pnh - paroxysmal nocturnal hemoglobinuria [paroxysmal nocturnal hemoglobinuria [marchiafava-micheli]], nocturnal polyuria [nocturnal polyuria], gestational htn w/o significant proteinuria, unsp trimester [gestational [pregnancy-induced] hypertension without significant proteinuria, unspecified trimester], gestational oedema with proteinuria [gestational edema with proteinuria], thrombophilia due to paroxysmal nocturnal hemoglobinuria [other thrombophilia], gestational htn w/o significant proteinuria, third trimester [gestational [pregnancy-induced] hypertension without significant proteinuria, third trimester], gestational edema with proteinuria, second trimester [gestational edema with proteinuria, second trimester], gestatnl htn w/o significant proteinuria, second trimester [gestational [pregnancy-induced] hypertension without significant proteinuria, second trimester], gestational edema with proteinuria, comp the puerperium [gestational edema with proteinuria, complicating the puerperium], gestational edema with proteinuria, third trimester [gestational edema with proteinuria, third trimester], gestational edema with proteinuria, unspecified trimester [gestational edema with proteinuria, unspecified trimester], eph - edema, proteinuria and hypertension of pregnancy [unspecified pre-eclampsia]]</td>\n",
       "      <td>[0, 1, 1, 1, 0, 1, 1, 1, 1, 1, 1, 1, 0]</td>\n",
       "      <td>[0, 1, 0, 0, 0, 1, 0, 0, 0, 0, 0, 0, 0]</td>\n",
       "      <td>[0, 46, 0, 0, 0, 48, 0, 0, 0, 0, 0, 0, 0]</td>\n",
       "    </tr>\n",
       "    <tr>\n",
       "      <th>6</th>\n",
       "      <td>0</td>\n",
       "      <td>polydipsia</td>\n",
       "      <td>PROBLEM</td>\n",
       "      <td>F63.89</td>\n",
       "      <td>[F63.89, R63.1, E23.2, F63.9, G47.3, O99.89, E87.0, A69.1, O40, G47.0, R06.0, E80.6, Z87.42, D59.5, Z87.4, O99.7, R32, R06.00]</td>\n",
       "      <td>[psychogenic polydipsia [other impulse disorders], polydipsia [polydipsia], primary polydipsia [diabetes insipidus], psychogenic polydipsia (disorder) [impulse disorder, unspecified], autoimmune encephalopathy with parasomnia and obstructive sleep apnoea [sleep apnea], polyhydramnios (disorder) [other specified diseases and conditions complicating pregnancy, childbirth and the puerperium], hypodipsia/adipsia [hyperosmolality and hypernatremia], vincent angina - pharyngitis [other vincent's infections], polyhydramnios [polyhydramnios], insomnia co-occurrent and due to nocturnal myoclonus [insomnia], pnd - paroxysmal nocturnal dyspnea [dyspnea], cyclic premenstrual unconjugated hyperbilirubinemia (disorder) [other disorders of bilirubin metabolism], history of polymenorrhea [personal history of other diseases of the female genital tract], pnh - paroxysmal nocturnal hemoglobinuria [paroxysmal nocturnal hemoglobinuria [marchiafava-micheli]], history of - polymenorrhea [personal history of diseases of genitourinary system], early onset pregnancy prurigo [diseases of the skin and subcutaneous tissue complicating pregnancy, childbirth and the puerperium], nocturnal and diurnal enuresis (disorder) [unspecified urinary incontinence], pnd - paroxysmal nocturnal dyspnoea [dyspnea, unspecified]]</td>\n",
       "      <td>[1, 1, 1, 1, 0, 0, 1, 1, 0, 0, 0, 1, 1, 1, 0, 0, 1, 1]</td>\n",
       "      <td>[0, 0, 1, 0, 0, 0, 0, 0, 0, 0, 0, 0, 0, 1, 0, 0, 0, 0]</td>\n",
       "      <td>[0, 0, 23, 0, 0, 0, 0, 0, 0, 0, 0, 0, 0, 46, 0, 0, 0, 0]</td>\n",
       "    </tr>\n",
       "    <tr>\n",
       "      <th>7</th>\n",
       "      <td>0</td>\n",
       "      <td>poor appetite</td>\n",
       "      <td>PROBLEM</td>\n",
       "      <td>F50.0</td>\n",
       "      <td>[F50.0, F50.8, F50.01, K11.7, F50.2, R63.6, R63.0, E86, E16.1, F50.89, E43, P05]</td>\n",
       "      <td>[anorexia nervosa co-occurrent with dangerously low body weight [anorexia nervosa], psychogenic loss of appetite [other eating disorders], dangerously low body weight co-occurrent and due to anorexia nervosa of restricting type (disorder) [anorexia nervosa, restricting type], xerostomia due to dehydration [disturbances of salivary secretion], anorexia nervosa, binge-eating purging type with dangerously low body weight [bulimia nervosa], dangerously low body weight co-occurrent and due to anorexia nervosa of binge-eating purging type [underweight], poor appetite [anorexia], xerostomia due to dehydration (disorder) [volume depletion], idiopathic postprandial hypoglycemia (disorder) [other hypoglycemia], loss of appetite, psychogenic [other specified eating disorder], edema co-occurrent and due to nutritional deficiency (disorder) [unspecified severe protein-calorie malnutrition], disord of nb related to slow fetal growth and fetal malnut [disorders of newborn related to slow fetal growth and fetal malnutrition]]</td>\n",
       "      <td>[0, 0, 1, 1, 1, 1, 1, 0, 1, 1, 1, 0]</td>\n",
       "      <td>[0, 0, 0, 0, 0, 0, 0, 0, 0, 0, 1, 0]</td>\n",
       "      <td>[0, 0, 0, 0, 0, 0, 0, 0, 0, 0, 21, 0]</td>\n",
       "    </tr>\n",
       "    <tr>\n",
       "      <th>8</th>\n",
       "      <td>0</td>\n",
       "      <td>vomiting</td>\n",
       "      <td>PROBLEM</td>\n",
       "      <td>R19.7</td>\n",
       "      <td>[R19.7, P78.3, R11, R11.10, P92.09, G43.A, O21, R11.2, O21.0, T50.90, G43.A1]</td>\n",
       "      <td>[d&amp;v - diarrhea and vomiting [diarrhea, unspecified], d&amp;v - diarrhoea and vomiting [noninfective neonatal diarrhea], d+v - diarrhea and vomiting [nausea and vomiting], d+v - diarrhoea and vomiting [vomiting, unspecified], diarrhea and vomiting [other vomiting of newborn], cyclical vomiting syndrome [cyclical vomiting], excessive vomiting in pregnancy [excessive vomiting in pregnancy], refractory nausea and vomiting [nausea with vomiting, unspecified], excessive pregnancy vomiting [mild hyperemesis gravidarum], n&amp;v - nausea and vomiting [poisoning by, adverse effect of and underdosing of unspecified drugs, medicaments and biological substances], periodic vomiting [cyclical vomiting, in migraine, intractable]]</td>\n",
       "      <td>[1, 1, 0, 1, 1, 0, 0, 1, 1, 0, 1]</td>\n",
       "      <td>[0, 0, 0, 0, 0, 0, 0, 0, 0, 0, 0]</td>\n",
       "      <td>[0, 0, 0, 0, 0, 0, 0, 0, 0, 0, 0]</td>\n",
       "    </tr>\n",
       "    <tr>\n",
       "      <th>9</th>\n",
       "      <td>1</td>\n",
       "      <td>a respiratory tract infection</td>\n",
       "      <td>PROBLEM</td>\n",
       "      <td>Z87.0</td>\n",
       "      <td>[Z87.0, Z87.09, J47.0, J98.8, A49.9, J22, Y83.9, Z59.3, J15.8, J15.6, A42.0, J20.2, B20, J40, O36.89]</td>\n",
       "      <td>[history of acute lower respiratory tract infection (situation) [personal history of diseases of the respiratory system], history of acute lower respiratory tract infection [personal history of other diseases of the respiratory system], bronchiectasis with acute lower respiratory infection [bronchiectasis with acute lower respiratory infection], rti - respiratory tract infection [other specified respiratory disorders], bacterial respiratory infection [bacterial infection, unspecified], acute respiratory infections [unspecified acute lower respiratory infection], postoperative lower respiratory tract infection [surgical procedure, unspecified as the cause of abnormal reaction of the patient, or of later complication, without mention of misadventure at the time of the procedure], institution-acquired respiratory infection [problems related to living in residential institution], pneumonia due to aerobic bacteria [pneumonia due to other specified bacteria], pneumonia caused by aerobic bacteria [pneumonia due to other gram-negative bacteria], pneumonia due to anaerobic bacteria [pulmonary actinomycosis], acute bronchitis due to streptococcus [acute bronchitis due to streptococcus], recurrent lower respiratory tract infection [human immunodeficiency virus [hiv] disease], acute infective bronchitis [bronchitis, not specified as acute or chronic], antibiotic given for suspected neonatal sepsis [maternal care for other specified fetal problems]]</td>\n",
       "      <td>[0, 1, 1, 1, 1, 1, 1, 1, 1, 1, 1, 1, 1, 1, 0]</td>\n",
       "      <td>[0, 0, 1, 0, 0, 0, 0, 0, 1, 1, 1, 0, 1, 0, 0]</td>\n",
       "      <td>[0, 0, 112, 0, 0, 0, 0, 0, 114, 114, 115, 0, 1, 0, 0]</td>\n",
       "    </tr>\n",
       "    <tr>\n",
       "      <th>10</th>\n",
       "      <td>3</td>\n",
       "      <td>dry oral mucosa</td>\n",
       "      <td>PROBLEM</td>\n",
       "      <td>R23.8</td>\n",
       "      <td>[R23.8, K13.0, K14.8, J39.2, Z01.89, R68.2, M35.9, N90.8, J34.89, L85.3, R23.4]</td>\n",
       "      <td>[on examination - dry skin [other skin changes], on examination - dry lips [diseases of lips], on examination - dry tongue [other diseases of tongue], dry throat [other diseases of pharynx], nose examination - normal (finding) [encounter for other specified special examinations], dry mouth, unspecified [dry mouth, unspecified], dry mouth [systemic involvement of connective tissue, unspecified], vulval dryness [other specified noninflammatory disorders of vulva and perineum], nasal mucosa dry [other specified disorders of nose and nasal sinuses], c/o: dry skin [xerosis cutis], perineum dry [changes in skin texture]]</td>\n",
       "      <td>[1, 1, 1, 1, 1, 1, 1, 0, 1, 1, 1]</td>\n",
       "      <td>[0, 0, 0, 0, 0, 0, 1, 0, 0, 0, 0]</td>\n",
       "      <td>[0, 0, 0, 0, 0, 0, 40, 0, 0, 0, 0]</td>\n",
       "    </tr>\n",
       "    <tr>\n",
       "      <th>11</th>\n",
       "      <td>3</td>\n",
       "      <td>tenderness</td>\n",
       "      <td>PROBLEM</td>\n",
       "      <td>R44.8</td>\n",
       "      <td>[R44.8, R58, L20.83, G90.50, R20.0, R52, R68.83, R11.10, M77.9, R10.2, N94.1, P54.5, N90.8, R10.819, G40.40, R49.8, G58.8, R60.9, R29.2]</td>\n",
       "      <td>[sounds seem unnaturally clear [other symptoms and signs involving general sensations and perceptions], easy bruising (finding) [hemorrhage, not elsewhere classified], non-pitting edema (finding) [infantile (acute) (chronic) eczema], sympathetically independent pain (finding) [complex regional pain syndrome i, unspecified], no sensitivity to pain (finding) [anesthesia of skin], o/e - tenderness [pain, unspecified], chills (without fever) [chills (without fever)], effortless vomiting (finding) [vomiting, unspecified], enthesopathy, unspecified [enthesopathy, unspecified], non-cyclic pelvic pain (finding) [pelvic and perineal pain], dyspareunia - non-psychogenic (finding) [dyspareunia], easy bruising [neonatal cutaneous hemorrhage], vulvar dryness [other specified noninflammatory disorders of vulva and perineum], abdominal tenderness, unspecified site [abdominal tenderness, unspecified site], petit mal status, non-refractory [other generalized epilepsy and epileptic syndromes, not intractable], eunuchoid voice (finding) [other voice and resonance disorders], notalgia paresthetica [other specified mononeuropathies], firm nonpitting edema (finding) [edema, unspecified], on examination - suprapat. jerk absent [abnormal reflex]]</td>\n",
       "      <td>[1, 1, 1, 1, 1, 1, 1, 1, 1, 1, 0, 1, 0, 1, 0, 1, 1, 1, 1]</td>\n",
       "      <td>[0, 0, 0, 0, 0, 0, 0, 0, 0, 0, 0, 0, 0, 0, 0, 0, 0, 0, 0]</td>\n",
       "      <td>[0, 0, 0, 0, 0, 0, 0, 0, 0, 0, 0, 0, 0, 0, 0, 0, 0, 0, 0]</td>\n",
       "    </tr>\n",
       "    <tr>\n",
       "      <th>12</th>\n",
       "      <td>3</td>\n",
       "      <td>guarding</td>\n",
       "      <td>PROBLEM</td>\n",
       "      <td>Z65.3</td>\n",
       "      <td>[Z65.3, L20.83, L74.4, R45.89, R06.89, R19.8, R46.8, K14.8, R09.89, Z01.00, R58, K13.0, R68.89, R29.2, R23.8]</td>\n",
       "      <td>[pleads not guilty (finding) [problems related to other legal circumstances], non-pitting edema (finding) [infantile (acute) (chronic) eczema], absence of sweating (finding) [anhidrosis], euthymic mood (finding) [other symptoms and signs involving emotional state], does not take deep breaths (finding) [other abnormalities of breathing], on examination - no intra-abdominal movement (context-dependent category) [other specified symptoms and signs involving the digestive system and abdomen], calm character (finding) [other symptoms and signs involving appearance and behavior], on examination - dry tongue (finding) [other diseases of tongue], unable to cough (finding) [other specified symptoms and signs involving the circulatory and respiratory systems], pupil reactions normal (finding) [encounter for examination of eyes and vision without abnormal findings], easy bruising (finding) [hemorrhage, not elsewhere classified], on examination - dry lips [diseases of lips], symptom trivial (context-dependent category) [other general symptoms and signs], on examination - suprapat. jerk absent [abnormal reflex], on examination - dry skin (finding) [other skin changes]]</td>\n",
       "      <td>[1, 1, 1, 1, 1, 1, 0, 1, 1, 1, 1, 1, 1, 1, 1]</td>\n",
       "      <td>[0, 0, 0, 0, 0, 0, 0, 0, 0, 0, 0, 0, 0, 0, 0]</td>\n",
       "      <td>[0, 0, 0, 0, 0, 0, 0, 0, 0, 0, 0, 0, 0, 0, 0]</td>\n",
       "    </tr>\n",
       "    <tr>\n",
       "      <th>13</th>\n",
       "      <td>6</td>\n",
       "      <td>hemolyzing</td>\n",
       "      <td>PROBLEM</td>\n",
       "      <td>O04.6</td>\n",
       "      <td>[O04.6, T82.89, R89.8, D59.4, D74.9, R71.8, D75.9, D75.829, R89.5, T80.91, R58, T80.910D, D59.9, T80.910A, D59.2]</td>\n",
       "      <td>[hemolysis [delayed or excessive hemorrhage following (induced) termination of pregnancy], haemolysis [other specified complication of cardiac and vascular prosthetic devices, implants and grafts], sample hemolyzed [other abnormal findings in specimens from other organs, systems and tissues], mechanical hemolytic anemia [other nonautoimmune hemolytic anemias], methemoglobinemia, unspecified [methemoglobinemia, unspecified], extravascular haemolysis [other abnormality of red blood cells], extravascular hemolysis [disease of blood and blood-forming organs, unspecified], heparin-induced thrombocytopenia, unspecified [heparin-induced thrombocytopenia, unspecified], gamma haemolysis [abnormal microbiological findings in specimens from other organs, systems and tissues], hemolytic transfusion reaction (disorder) [hemolytic transfusion reaction, unspecified incompatibility], ascorbic acid deficiency with hemorrhage (disorder) [hemorrhage, not elsewhere classified], acute hemolytic transfs react, unsp incompatibility, subs [acute hemolytic transfusion reaction, unspecified incompatibility, subsequent encounter], acquired hemolytic anemia, unspecified [acquired hemolytic anemia, unspecified], acute hemolytic transfs react, unsp incompatibility, init [acute hemolytic transfusion reaction, unspecified incompatibility, initial encounter], drug-induced nonautoimmune hemolytic anemia [drug-induced nonautoimmune hemolytic anemia]]</td>\n",
       "      <td>[1, 0, 1, 1, 1, 1, 1, 1, 1, 0, 1, 1, 1, 1, 1]</td>\n",
       "      <td>[0, 0, 0, 1, 0, 0, 0, 1, 0, 0, 0, 0, 1, 0, 1]</td>\n",
       "      <td>[0, 0, 0, 46, 0, 0, 0, 48, 0, 0, 0, 0, 46, 0, 46]</td>\n",
       "    </tr>\n",
       "    <tr>\n",
       "      <th>14</th>\n",
       "      <td>6</td>\n",
       "      <td>significant lipemia</td>\n",
       "      <td>PROBLEM</td>\n",
       "      <td>E75.5</td>\n",
       "      <td>[E75.5, R89.8, D74.9, E75.4, D59.4, Z83.438, D75.829, T46.3X, E75.6, Z83.43, R74.8, T82.89, R89.5, O04.6, D59.9, M79.3, O14.20]</td>\n",
       "      <td>[chemically-induced lipidosis (disorder) [other lipid storage disorders], sample grossly lipaemic [other abnormal findings in specimens from other organs, systems and tissues], methemoglobinemia, unspecified [methemoglobinemia, unspecified], cerebral lipidosis (disorder) [neuronal ceroid lipofuscinosis], toxic hemolytic anemia [other nonautoimmune hemolytic anemias], fam hx of disord of lipoprotein metab and other lipidemia [family history of other disorder of lipoprotein metabolism and other lipidemia], heparin-induced thrombocytopenia, unspecified [heparin-induced thrombocytopenia, unspecified], drug-induced methemoglobinemia (disorder) [poisoning by, adverse effect of and underdosing of coronary vasodilators], lipidosis (disorder) [lipid storage disorder, unspecified], fam hx of disord of lipoprotein metab and other lipidemias [family history of other disorder of lipoprotein metabolism and other lipidemias], high lipase level in serum [abnormal levels of other serum enzymes], haemolysis [other specified complication of cardiac and vascular prosthetic devices, implants and grafts], alpha haemolysis [abnormal microbiological findings in specimens from other organs, systems and tissues], hemolysis [delayed or excessive hemorrhage following (induced) termination of pregnancy], acquired hemolytic anemia, unspecified [acquired hemolytic anemia, unspecified], panniculitis induced localized lipodystrophy [panniculitis, unspecified], haemolysis-elevated liver enzymes-low platelet count syndrome [hellp syndrome (hellp), unspecified trimester]]</td>\n",
       "      <td>[1, 1, 1, 1, 1, 1, 1, 0, 1, 0, 1, 0, 1, 1, 1, 1, 1]</td>\n",
       "      <td>[0, 0, 0, 1, 1, 0, 1, 0, 0, 0, 0, 0, 0, 0, 1, 0, 0]</td>\n",
       "      <td>[0, 0, 0, 52, 46, 0, 48, 0, 0, 0, 0, 0, 0, 0, 46, 0, 0]</td>\n",
       "    </tr>\n",
       "  </tbody>\n",
       "</table>\n",
       "</div>"
      ]
     },
     "metadata": {
      "application/vnd.databricks.v1+output": {
       "addedWidgets": {},
       "arguments": {},
       "data": "<div>\n<style scoped>\n    .dataframe tbody tr th:only-of-type {\n        vertical-align: middle;\n    }\n\n    .dataframe tbody tr th {\n        vertical-align: top;\n    }\n\n    .dataframe thead th {\n        text-align: right;\n    }\n</style>\n<table border=\"1\" class=\"dataframe\">\n  <thead>\n    <tr style=\"text-align: right;\">\n      <th></th>\n      <th>sent_id</th>\n      <th>ner_chunk</th>\n      <th>entity</th>\n      <th>icd10_code</th>\n      <th>all_codes</th>\n      <th>resolutions</th>\n      <th>billable</th>\n      <th>hcc_status</th>\n      <th>hcc_code</th>\n    </tr>\n  </thead>\n  <tbody>\n    <tr>\n      <th>0</th>\n      <td>0</td>\n      <td>gestational diabetes mellitus</td>\n      <td>PROBLEM</td>\n      <td>O24.4</td>\n      <td>[O24.4, O24.43, O24.41, O24.434, O24.42, O24.414, O24.13]</td>\n      <td>[gestational diabetes mellitus, class d [gestational diabetes mellitus], gestational diabetes mellitus in the puerperium [gestational diabetes mellitus in the puerperium], maternal gestational diabetes mellitus [gestational diabetes mellitus in pregnancy], gestational diabetes mellitus in the puerperium, insulin controlled [gestational diabetes mellitus in the puerperium, insulin controlled], gestational diabetes mellitus in childbirth [gestational diabetes mellitus in childbirth], gestational diabetes mellitus in pregnancy, insulin controlled [gestational diabetes mellitus in pregnancy, insulin controlled], pre-existing type 2 diabetes mellitus, in the puerperium [pre-existing type 2 diabetes mellitus, in the puerperium]]</td>\n      <td>[0, 0, 0, 1, 0, 1, 1]</td>\n      <td>[0, 0, 0, 0, 0, 0, 0]</td>\n      <td>[0, 0, 0, 0, 0, 0, 0]</td>\n    </tr>\n    <tr>\n      <th>1</th>\n      <td>0</td>\n      <td>subsequent type two diabetes mellitus</td>\n      <td>PROBLEM</td>\n      <td>O24.13</td>\n      <td>[O24.13, E11.6, E11.43, O24.11, E11.10, E11.0, O24.12, E11.4, E11.69, E11.1, O24.1, K31.8, E11.33, O24.4, E11.2]</td>\n      <td>[pre-existing type 2 diabetes mellitus, in the puerperium [pre-existing type 2 diabetes mellitus, in the puerperium], gastroparesis co-occurrent and due to type 2 diabetes mellitus [type 2 diabetes mellitus with other specified complications], gastroparesis with type 2 diabetes mellitus [type 2 diabetes mellitus with diabetic autonomic (poly)neuropathy], pregnancy and type 2 diabetes mellitus [pre-existing type 2 diabetes mellitus, in pregnancy], ketoacidosis due to type 2 diabetes mellitus [type 2 diabetes mellitus with ketoacidosis without coma], hyperosmolar coma due to type 2 diabetes mellitus [type 2 diabetes mellitus with hyperosmolarity], pre-existing type 2 diabetes mellitus, in childbirth [pre-existing type 2 diabetes mellitus, in childbirth], cranial nerve palsy co-occurrent and due to type 2 diabetes mellitus [type 2 diabetes mellitus with neurological complications], angina due to type 2 diabetes mellitus [type 2 diabetes mellitus with other specified complication], ketoacidosis due to type 2 diabetes mellitus (disorder) [type 2 diabetes mellitus with ketoacidosis], pre-existing type 2 diabetes mellitus in pregnancy [pre-existing type 2 diabetes mellitus, in pregnancy, childbirth and the puerperium], diabetic gastroparesis associated with type 2 diabetes mellitus [other specified diseases of stomach and duodenum], moderate nonproliferative retinopathy co-occurrent and due to type 2 diabetes mellitus [type 2 diabetes mellitus with moderate nonproliferative diabetic retinopathy], gestational diabetes mellitus, class a&gt;2&lt; [gestational diabetes mellitus], persistent microalbuminuria due to type 2 diabetes mellitus [type 2 diabetes mellitus with kidney complications]]</td>\n      <td>[1, 0, 1, 0, 1, 0, 1, 0, 1, 0, 0, 0, 0, 0, 0]</td>\n      <td>[0, 0, 1, 0, 1, 0, 0, 0, 1, 0, 0, 0, 0, 0, 0]</td>\n      <td>[0, 0, 18, 0, 17, 0, 0, 0, 18, 0, 0, 0, 0, 0, 0]</td>\n    </tr>\n    <tr>\n      <th>2</th>\n      <td>0</td>\n      <td>an acute hepatitis</td>\n      <td>PROBLEM</td>\n      <td>B16.9</td>\n      <td>[B16.9, B15.9, B16.2, B17.9, B16.0, E80.21, K71.2, O26.6, B18.1, F10.98, B15.0]</td>\n      <td>[acute fulminating type b viral hepatitis (disorder) [acute hepatitis b without delta-agent and without hepatic coma], acute fulminating type a viral hepatitis (disorder) [hepatitis a without hepatic coma], hepatic coma due to acute hepatitis b [acute hepatitis b without delta-agent with hepatic coma], acute fulminating viral hepatitis (disorder) [acute viral hepatitis, unspecified], acute viral hepatitis b with hepatic coma [acute hepatitis b with delta-agent with hepatic coma], acute intermittent (hepatic) porphyria [acute intermittent (hepatic) porphyria], toxic liver disease with acute hepatitis (disorder) [toxic liver disease with acute hepatitis], acute fatty liver of pregnancy [liver and biliary tract disorders in pregnancy, childbirth and the puerperium], chronic viral hepatitis b with hepatic coma [chronic viral hepatitis b without delta-agent], ketoacidosis due to acute alcoholic intoxication [alcohol use, unspecified with other alcohol-induced disorders], viral hepatitis a with hepatic coma (disorder) [hepatitis a with hepatic coma]]</td>\n      <td>[1, 1, 1, 1, 1, 1, 1, 0, 1, 0, 1]</td>\n      <td>[0, 0, 0, 0, 0, 1, 0, 0, 1, 0, 0]</td>\n      <td>[0, 0, 0, 0, 0, 23, 0, 0, 29, 0, 0]</td>\n    </tr>\n    <tr>\n      <th>3</th>\n      <td>0</td>\n      <td>obesity</td>\n      <td>PROBLEM</td>\n      <td>O99.21</td>\n      <td>[O99.21, E23.3, E66.8, E34.9, O26.00, E66.2, E66.9, E23.6, R73.02, E66.01, O99.215, R73.0, N91.1]</td>\n      <td>[severe obesity complicating pregnancy [obesity complicating pregnancy, childbirth, and the puerperium], rapid-onset childhood obesity, hypothalamic dysfunction, hypoventilation, autonomic dysregulation syndrome [hypothalamic dysfunction, not elsewhere classified], gynaecoid obesity [other obesity], severe obesity [endocrine disorder, unspecified], maternal obesity syndrome [excessive weight gain in pregnancy, unspecified trimester], rapid-onset childhood obesity, hypothalamic dysfunction, hypoventilation, autonomic dysregulation syndrome (disorder) [morbid (severe) obesity with alveolar hypoventilation], lifelong obesity [obesity, unspecified], hypothalamic infantilism with obesity syndrome [other disorders of pituitary gland], impaired glucose tolerance in obese [impaired glucose tolerance (oral)], morbid (severe) obesity due to excess calories [morbid (severe) obesity due to excess calories], obesity complicating the puerperium [obesity complicating the puerperium], impaired glucose tolerance in obese (disorder) [abnormal glucose], amenorrhea associated with obesity [secondary amenorrhea]]</td>\n      <td>[0, 1, 1, 1, 1, 1, 1, 1, 1, 1, 1, 0, 1]</td>\n      <td>[0, 1, 0, 0, 0, 1, 0, 1, 0, 1, 0, 0, 0]</td>\n      <td>[0, 23, 0, 0, 0, 22, 0, 23, 0, 22, 0, 0, 0]</td>\n    </tr>\n    <tr>\n      <th>4</th>\n      <td>0</td>\n      <td>a body mass index</td>\n      <td>PROBLEM</td>\n      <td>E13.00</td>\n      <td>[E13.00, O21.1, R73.0, E11.0, O24.1, O99.21, O24.41, O99.2, R73.02, P90, O99.8, N91.1, O24.0, E09.00, E09.0, E66.8, O99.215, E66.2, E23.3]</td>\n      <td>[hyperosmolarity due to secondary diabetes mellitus [other specified diabetes mellitus with hyperosmolarity without nonketotic hyperglycemic-hyperosmolar coma (nkhhc)], hyperemesis gravidarum with metabolic disturbance [hyperemesis gravidarum with metabolic disturbance], impaired glucose tolerance in obese (disorder) [abnormal glucose], type 2 diabetes mellitus with hyperosmolarity [type 2 diabetes mellitus with hyperosmolarity], pre-existing type 2 diabetes mellitus, in pregnancy, childbirth and the puerperium [pre-existing type 2 diabetes mellitus, in pregnancy, childbirth and the puerperium], severe obesity complicating pregnancy [obesity complicating pregnancy, childbirth, and the puerperium], gestational diabetes [gestational diabetes mellitus in pregnancy], hyperglycemic disorder in pregnancy [endocrine, nutritional and metabolic diseases complicating pregnancy, childbirth and the puerperium], impaired glucose tolerance in obese [impaired glucose tolerance (oral)], obesity by age of onset [convulsions of newborn], pregnancy and impaired glucose tolerance [other specified diseases and conditions complicating pregnancy, childbirth and the puerperium], amenorrhoea associated with obesity [secondary amenorrhea], pre-existing type 1 diabetes mellitus, in pregnancy, childbirth and the puerperium [pre-existing type 1 diabetes mellitus, in pregnancy, childbirth and the puerperium], hyperosmolarity due to drug induced diabetes mellitus [drug or chemical induced diabetes mellitus with hyperosmolarity without nonketotic hyperglycemic-hyperosmolar coma (nkhhc)], drug or chemical induced diabetes mellitus w hyperosmolarity [drug or chemical induced diabetes mellitus with hyperosmolarity], obesity by age of onset (disorder) [other obesity], obesity complicating the puerperium [obesity complicating the puerperium], rapid-onset childhood obesity, hypothalamic dysfunction, hypoventilation, autonomic dysregulation syndrome (disorder) [morbid (severe) obesity with alveolar hypoventilation], rapid-onset childhood obesity, hypothalamic dysfunction, hypoventilation, autonomic dysregulation syndrome [hypothalamic dysfunction, not elsewhere classified]]</td>\n      <td>[1, 1, 0, 0, 0, 0, 0, 0, 1, 1, 0, 1, 0, 1, 0, 1, 1, 1, 1]</td>\n      <td>[1, 0, 0, 0, 0, 0, 0, 0, 0, 0, 0, 0, 0, 1, 0, 0, 0, 1, 1]</td>\n      <td>[17, 0, 0, 0, 0, 0, 0, 0, 0, 0, 0, 0, 0, 17, 0, 0, 0, 22, 23]</td>\n    </tr>\n    <tr>\n      <th>5</th>\n      <td>0</td>\n      <td>polyuria</td>\n      <td>PROBLEM</td>\n      <td>R35</td>\n      <td>[R35, D59.5, R35.81, O13.9, O12.2, D68.69, O13.3, O12.22, O13.2, O12.25, O12.23, O12.20, O14.9]</td>\n      <td>[polyuria [polyuria], pnh - paroxysmal nocturnal hemoglobinuria [paroxysmal nocturnal hemoglobinuria [marchiafava-micheli]], nocturnal polyuria [nocturnal polyuria], gestational htn w/o significant proteinuria, unsp trimester [gestational [pregnancy-induced] hypertension without significant proteinuria, unspecified trimester], gestational oedema with proteinuria [gestational edema with proteinuria], thrombophilia due to paroxysmal nocturnal hemoglobinuria [other thrombophilia], gestational htn w/o significant proteinuria, third trimester [gestational [pregnancy-induced] hypertension without significant proteinuria, third trimester], gestational edema with proteinuria, second trimester [gestational edema with proteinuria, second trimester], gestatnl htn w/o significant proteinuria, second trimester [gestational [pregnancy-induced] hypertension without significant proteinuria, second trimester], gestational edema with proteinuria, comp the puerperium [gestational edema with proteinuria, complicating the puerperium], gestational edema with proteinuria, third trimester [gestational edema with proteinuria, third trimester], gestational edema with proteinuria, unspecified trimester [gestational edema with proteinuria, unspecified trimester], eph - edema, proteinuria and hypertension of pregnancy [unspecified pre-eclampsia]]</td>\n      <td>[0, 1, 1, 1, 0, 1, 1, 1, 1, 1, 1, 1, 0]</td>\n      <td>[0, 1, 0, 0, 0, 1, 0, 0, 0, 0, 0, 0, 0]</td>\n      <td>[0, 46, 0, 0, 0, 48, 0, 0, 0, 0, 0, 0, 0]</td>\n    </tr>\n    <tr>\n      <th>6</th>\n      <td>0</td>\n      <td>polydipsia</td>\n      <td>PROBLEM</td>\n      <td>F63.89</td>\n      <td>[F63.89, R63.1, E23.2, F63.9, G47.3, O99.89, E87.0, A69.1, O40, G47.0, R06.0, E80.6, Z87.42, D59.5, Z87.4, O99.7, R32, R06.00]</td>\n      <td>[psychogenic polydipsia [other impulse disorders], polydipsia [polydipsia], primary polydipsia [diabetes insipidus], psychogenic polydipsia (disorder) [impulse disorder, unspecified], autoimmune encephalopathy with parasomnia and obstructive sleep apnoea [sleep apnea], polyhydramnios (disorder) [other specified diseases and conditions complicating pregnancy, childbirth and the puerperium], hypodipsia/adipsia [hyperosmolality and hypernatremia], vincent angina - pharyngitis [other vincent's infections], polyhydramnios [polyhydramnios], insomnia co-occurrent and due to nocturnal myoclonus [insomnia], pnd - paroxysmal nocturnal dyspnea [dyspnea], cyclic premenstrual unconjugated hyperbilirubinemia (disorder) [other disorders of bilirubin metabolism], history of polymenorrhea [personal history of other diseases of the female genital tract], pnh - paroxysmal nocturnal hemoglobinuria [paroxysmal nocturnal hemoglobinuria [marchiafava-micheli]], history of - polymenorrhea [personal history of diseases of genitourinary system], early onset pregnancy prurigo [diseases of the skin and subcutaneous tissue complicating pregnancy, childbirth and the puerperium], nocturnal and diurnal enuresis (disorder) [unspecified urinary incontinence], pnd - paroxysmal nocturnal dyspnoea [dyspnea, unspecified]]</td>\n      <td>[1, 1, 1, 1, 0, 0, 1, 1, 0, 0, 0, 1, 1, 1, 0, 0, 1, 1]</td>\n      <td>[0, 0, 1, 0, 0, 0, 0, 0, 0, 0, 0, 0, 0, 1, 0, 0, 0, 0]</td>\n      <td>[0, 0, 23, 0, 0, 0, 0, 0, 0, 0, 0, 0, 0, 46, 0, 0, 0, 0]</td>\n    </tr>\n    <tr>\n      <th>7</th>\n      <td>0</td>\n      <td>poor appetite</td>\n      <td>PROBLEM</td>\n      <td>F50.0</td>\n      <td>[F50.0, F50.8, F50.01, K11.7, F50.2, R63.6, R63.0, E86, E16.1, F50.89, E43, P05]</td>\n      <td>[anorexia nervosa co-occurrent with dangerously low body weight [anorexia nervosa], psychogenic loss of appetite [other eating disorders], dangerously low body weight co-occurrent and due to anorexia nervosa of restricting type (disorder) [anorexia nervosa, restricting type], xerostomia due to dehydration [disturbances of salivary secretion], anorexia nervosa, binge-eating purging type with dangerously low body weight [bulimia nervosa], dangerously low body weight co-occurrent and due to anorexia nervosa of binge-eating purging type [underweight], poor appetite [anorexia], xerostomia due to dehydration (disorder) [volume depletion], idiopathic postprandial hypoglycemia (disorder) [other hypoglycemia], loss of appetite, psychogenic [other specified eating disorder], edema co-occurrent and due to nutritional deficiency (disorder) [unspecified severe protein-calorie malnutrition], disord of nb related to slow fetal growth and fetal malnut [disorders of newborn related to slow fetal growth and fetal malnutrition]]</td>\n      <td>[0, 0, 1, 1, 1, 1, 1, 0, 1, 1, 1, 0]</td>\n      <td>[0, 0, 0, 0, 0, 0, 0, 0, 0, 0, 1, 0]</td>\n      <td>[0, 0, 0, 0, 0, 0, 0, 0, 0, 0, 21, 0]</td>\n    </tr>\n    <tr>\n      <th>8</th>\n      <td>0</td>\n      <td>vomiting</td>\n      <td>PROBLEM</td>\n      <td>R19.7</td>\n      <td>[R19.7, P78.3, R11, R11.10, P92.09, G43.A, O21, R11.2, O21.0, T50.90, G43.A1]</td>\n      <td>[d&amp;v - diarrhea and vomiting [diarrhea, unspecified], d&amp;v - diarrhoea and vomiting [noninfective neonatal diarrhea], d+v - diarrhea and vomiting [nausea and vomiting], d+v - diarrhoea and vomiting [vomiting, unspecified], diarrhea and vomiting [other vomiting of newborn], cyclical vomiting syndrome [cyclical vomiting], excessive vomiting in pregnancy [excessive vomiting in pregnancy], refractory nausea and vomiting [nausea with vomiting, unspecified], excessive pregnancy vomiting [mild hyperemesis gravidarum], n&amp;v - nausea and vomiting [poisoning by, adverse effect of and underdosing of unspecified drugs, medicaments and biological substances], periodic vomiting [cyclical vomiting, in migraine, intractable]]</td>\n      <td>[1, 1, 0, 1, 1, 0, 0, 1, 1, 0, 1]</td>\n      <td>[0, 0, 0, 0, 0, 0, 0, 0, 0, 0, 0]</td>\n      <td>[0, 0, 0, 0, 0, 0, 0, 0, 0, 0, 0]</td>\n    </tr>\n    <tr>\n      <th>9</th>\n      <td>1</td>\n      <td>a respiratory tract infection</td>\n      <td>PROBLEM</td>\n      <td>Z87.0</td>\n      <td>[Z87.0, Z87.09, J47.0, J98.8, A49.9, J22, Y83.9, Z59.3, J15.8, J15.6, A42.0, J20.2, B20, J40, O36.89]</td>\n      <td>[history of acute lower respiratory tract infection (situation) [personal history of diseases of the respiratory system], history of acute lower respiratory tract infection [personal history of other diseases of the respiratory system], bronchiectasis with acute lower respiratory infection [bronchiectasis with acute lower respiratory infection], rti - respiratory tract infection [other specified respiratory disorders], bacterial respiratory infection [bacterial infection, unspecified], acute respiratory infections [unspecified acute lower respiratory infection], postoperative lower respiratory tract infection [surgical procedure, unspecified as the cause of abnormal reaction of the patient, or of later complication, without mention of misadventure at the time of the procedure], institution-acquired respiratory infection [problems related to living in residential institution], pneumonia due to aerobic bacteria [pneumonia due to other specified bacteria], pneumonia caused by aerobic bacteria [pneumonia due to other gram-negative bacteria], pneumonia due to anaerobic bacteria [pulmonary actinomycosis], acute bronchitis due to streptococcus [acute bronchitis due to streptococcus], recurrent lower respiratory tract infection [human immunodeficiency virus [hiv] disease], acute infective bronchitis [bronchitis, not specified as acute or chronic], antibiotic given for suspected neonatal sepsis [maternal care for other specified fetal problems]]</td>\n      <td>[0, 1, 1, 1, 1, 1, 1, 1, 1, 1, 1, 1, 1, 1, 0]</td>\n      <td>[0, 0, 1, 0, 0, 0, 0, 0, 1, 1, 1, 0, 1, 0, 0]</td>\n      <td>[0, 0, 112, 0, 0, 0, 0, 0, 114, 114, 115, 0, 1, 0, 0]</td>\n    </tr>\n    <tr>\n      <th>10</th>\n      <td>3</td>\n      <td>dry oral mucosa</td>\n      <td>PROBLEM</td>\n      <td>R23.8</td>\n      <td>[R23.8, K13.0, K14.8, J39.2, Z01.89, R68.2, M35.9, N90.8, J34.89, L85.3, R23.4]</td>\n      <td>[on examination - dry skin [other skin changes], on examination - dry lips [diseases of lips], on examination - dry tongue [other diseases of tongue], dry throat [other diseases of pharynx], nose examination - normal (finding) [encounter for other specified special examinations], dry mouth, unspecified [dry mouth, unspecified], dry mouth [systemic involvement of connective tissue, unspecified], vulval dryness [other specified noninflammatory disorders of vulva and perineum], nasal mucosa dry [other specified disorders of nose and nasal sinuses], c/o: dry skin [xerosis cutis], perineum dry [changes in skin texture]]</td>\n      <td>[1, 1, 1, 1, 1, 1, 1, 0, 1, 1, 1]</td>\n      <td>[0, 0, 0, 0, 0, 0, 1, 0, 0, 0, 0]</td>\n      <td>[0, 0, 0, 0, 0, 0, 40, 0, 0, 0, 0]</td>\n    </tr>\n    <tr>\n      <th>11</th>\n      <td>3</td>\n      <td>tenderness</td>\n      <td>PROBLEM</td>\n      <td>R44.8</td>\n      <td>[R44.8, R58, L20.83, G90.50, R20.0, R52, R68.83, R11.10, M77.9, R10.2, N94.1, P54.5, N90.8, R10.819, G40.40, R49.8, G58.8, R60.9, R29.2]</td>\n      <td>[sounds seem unnaturally clear [other symptoms and signs involving general sensations and perceptions], easy bruising (finding) [hemorrhage, not elsewhere classified], non-pitting edema (finding) [infantile (acute) (chronic) eczema], sympathetically independent pain (finding) [complex regional pain syndrome i, unspecified], no sensitivity to pain (finding) [anesthesia of skin], o/e - tenderness [pain, unspecified], chills (without fever) [chills (without fever)], effortless vomiting (finding) [vomiting, unspecified], enthesopathy, unspecified [enthesopathy, unspecified], non-cyclic pelvic pain (finding) [pelvic and perineal pain], dyspareunia - non-psychogenic (finding) [dyspareunia], easy bruising [neonatal cutaneous hemorrhage], vulvar dryness [other specified noninflammatory disorders of vulva and perineum], abdominal tenderness, unspecified site [abdominal tenderness, unspecified site], petit mal status, non-refractory [other generalized epilepsy and epileptic syndromes, not intractable], eunuchoid voice (finding) [other voice and resonance disorders], notalgia paresthetica [other specified mononeuropathies], firm nonpitting edema (finding) [edema, unspecified], on examination - suprapat. jerk absent [abnormal reflex]]</td>\n      <td>[1, 1, 1, 1, 1, 1, 1, 1, 1, 1, 0, 1, 0, 1, 0, 1, 1, 1, 1]</td>\n      <td>[0, 0, 0, 0, 0, 0, 0, 0, 0, 0, 0, 0, 0, 0, 0, 0, 0, 0, 0]</td>\n      <td>[0, 0, 0, 0, 0, 0, 0, 0, 0, 0, 0, 0, 0, 0, 0, 0, 0, 0, 0]</td>\n    </tr>\n    <tr>\n      <th>12</th>\n      <td>3</td>\n      <td>guarding</td>\n      <td>PROBLEM</td>\n      <td>Z65.3</td>\n      <td>[Z65.3, L20.83, L74.4, R45.89, R06.89, R19.8, R46.8, K14.8, R09.89, Z01.00, R58, K13.0, R68.89, R29.2, R23.8]</td>\n      <td>[pleads not guilty (finding) [problems related to other legal circumstances], non-pitting edema (finding) [infantile (acute) (chronic) eczema], absence of sweating (finding) [anhidrosis], euthymic mood (finding) [other symptoms and signs involving emotional state], does not take deep breaths (finding) [other abnormalities of breathing], on examination - no intra-abdominal movement (context-dependent category) [other specified symptoms and signs involving the digestive system and abdomen], calm character (finding) [other symptoms and signs involving appearance and behavior], on examination - dry tongue (finding) [other diseases of tongue], unable to cough (finding) [other specified symptoms and signs involving the circulatory and respiratory systems], pupil reactions normal (finding) [encounter for examination of eyes and vision without abnormal findings], easy bruising (finding) [hemorrhage, not elsewhere classified], on examination - dry lips [diseases of lips], symptom trivial (context-dependent category) [other general symptoms and signs], on examination - suprapat. jerk absent [abnormal reflex], on examination - dry skin (finding) [other skin changes]]</td>\n      <td>[1, 1, 1, 1, 1, 1, 0, 1, 1, 1, 1, 1, 1, 1, 1]</td>\n      <td>[0, 0, 0, 0, 0, 0, 0, 0, 0, 0, 0, 0, 0, 0, 0]</td>\n      <td>[0, 0, 0, 0, 0, 0, 0, 0, 0, 0, 0, 0, 0, 0, 0]</td>\n    </tr>\n    <tr>\n      <th>13</th>\n      <td>6</td>\n      <td>hemolyzing</td>\n      <td>PROBLEM</td>\n      <td>O04.6</td>\n      <td>[O04.6, T82.89, R89.8, D59.4, D74.9, R71.8, D75.9, D75.829, R89.5, T80.91, R58, T80.910D, D59.9, T80.910A, D59.2]</td>\n      <td>[hemolysis [delayed or excessive hemorrhage following (induced) termination of pregnancy], haemolysis [other specified complication of cardiac and vascular prosthetic devices, implants and grafts], sample hemolyzed [other abnormal findings in specimens from other organs, systems and tissues], mechanical hemolytic anemia [other nonautoimmune hemolytic anemias], methemoglobinemia, unspecified [methemoglobinemia, unspecified], extravascular haemolysis [other abnormality of red blood cells], extravascular hemolysis [disease of blood and blood-forming organs, unspecified], heparin-induced thrombocytopenia, unspecified [heparin-induced thrombocytopenia, unspecified], gamma haemolysis [abnormal microbiological findings in specimens from other organs, systems and tissues], hemolytic transfusion reaction (disorder) [hemolytic transfusion reaction, unspecified incompatibility], ascorbic acid deficiency with hemorrhage (disorder) [hemorrhage, not elsewhere classified], acute hemolytic transfs react, unsp incompatibility, subs [acute hemolytic transfusion reaction, unspecified incompatibility, subsequent encounter], acquired hemolytic anemia, unspecified [acquired hemolytic anemia, unspecified], acute hemolytic transfs react, unsp incompatibility, init [acute hemolytic transfusion reaction, unspecified incompatibility, initial encounter], drug-induced nonautoimmune hemolytic anemia [drug-induced nonautoimmune hemolytic anemia]]</td>\n      <td>[1, 0, 1, 1, 1, 1, 1, 1, 1, 0, 1, 1, 1, 1, 1]</td>\n      <td>[0, 0, 0, 1, 0, 0, 0, 1, 0, 0, 0, 0, 1, 0, 1]</td>\n      <td>[0, 0, 0, 46, 0, 0, 0, 48, 0, 0, 0, 0, 46, 0, 46]</td>\n    </tr>\n    <tr>\n      <th>14</th>\n      <td>6</td>\n      <td>significant lipemia</td>\n      <td>PROBLEM</td>\n      <td>E75.5</td>\n      <td>[E75.5, R89.8, D74.9, E75.4, D59.4, Z83.438, D75.829, T46.3X, E75.6, Z83.43, R74.8, T82.89, R89.5, O04.6, D59.9, M79.3, O14.20]</td>\n      <td>[chemically-induced lipidosis (disorder) [other lipid storage disorders], sample grossly lipaemic [other abnormal findings in specimens from other organs, systems and tissues], methemoglobinemia, unspecified [methemoglobinemia, unspecified], cerebral lipidosis (disorder) [neuronal ceroid lipofuscinosis], toxic hemolytic anemia [other nonautoimmune hemolytic anemias], fam hx of disord of lipoprotein metab and other lipidemia [family history of other disorder of lipoprotein metabolism and other lipidemia], heparin-induced thrombocytopenia, unspecified [heparin-induced thrombocytopenia, unspecified], drug-induced methemoglobinemia (disorder) [poisoning by, adverse effect of and underdosing of coronary vasodilators], lipidosis (disorder) [lipid storage disorder, unspecified], fam hx of disord of lipoprotein metab and other lipidemias [family history of other disorder of lipoprotein metabolism and other lipidemias], high lipase level in serum [abnormal levels of other serum enzymes], haemolysis [other specified complication of cardiac and vascular prosthetic devices, implants and grafts], alpha haemolysis [abnormal microbiological findings in specimens from other organs, systems and tissues], hemolysis [delayed or excessive hemorrhage following (induced) termination of pregnancy], acquired hemolytic anemia, unspecified [acquired hemolytic anemia, unspecified], panniculitis induced localized lipodystrophy [panniculitis, unspecified], haemolysis-elevated liver enzymes-low platelet count syndrome [hellp syndrome (hellp), unspecified trimester]]</td>\n      <td>[1, 1, 1, 1, 1, 1, 1, 0, 1, 0, 1, 0, 1, 1, 1, 1, 1]</td>\n      <td>[0, 0, 0, 1, 1, 0, 1, 0, 0, 0, 0, 0, 0, 0, 1, 0, 0]</td>\n      <td>[0, 0, 0, 52, 46, 0, 48, 0, 0, 0, 0, 0, 0, 0, 46, 0, 0]</td>\n    </tr>\n  </tbody>\n</table>\n</div>",
       "datasetInfos": [],
       "metadata": {},
       "removedWidgets": [],
       "textData": null,
       "type": "htmlSandbox"
      }
     },
     "output_type": "display_data"
    }
   ],
   "source": [
    "res_SCE_pd.head(15)"
   ]
  },
  {
   "cell_type": "markdown",
   "metadata": {
    "application/vnd.databricks.v1+cell": {
     "cellMetadata": {
      "byteLimit": 2048000,
      "rowLimit": 10000
     },
     "inputWidgets": {},
     "nuid": "d0f9855a-81b2-4b5f-9acd-d125d52442cb",
     "showTitle": false,
     "title": ""
    }
   },
   "source": [
    "**Lets show the results on the raw text.**"
   ]
  },
  {
   "cell_type": "code",
   "execution_count": 0,
   "metadata": {
    "application/vnd.databricks.v1+cell": {
     "cellMetadata": {
      "byteLimit": 2048000,
      "rowLimit": 10000
     },
     "inputWidgets": {},
     "nuid": "8e422c83-271c-4ac4-a4a6-04b228c9c8ed",
     "showTitle": false,
     "title": ""
    }
   },
   "outputs": [
    {
     "output_type": "display_data",
     "data": {
      "text/html": [
       "\n",
       "<style>\n",
       "    @import url('https://fonts.googleapis.com/css2?family=Montserrat:wght@300;400;500;600;700&display=swap');\n",
       "    @import url('https://fonts.googleapis.com/css2?family=Vistol Regular:wght@300;400;500;600;700&display=swap');\n",
       "    \n",
       "    .spark-nlp-display-scroll-entities {\n",
       "        border: 1px solid #E7EDF0;\n",
       "        border-radius: 3px;\n",
       "        text-align: justify;\n",
       "        \n",
       "    }\n",
       "    .spark-nlp-display-scroll-entities span {  \n",
       "        font-size: 14px;\n",
       "        line-height: 24px;\n",
       "        color: #536B76;\n",
       "        font-family: 'Montserrat', sans-serif !important;\n",
       "    }\n",
       "    \n",
       "    .spark-nlp-display-entity-wrapper{\n",
       "    \n",
       "        display: inline-grid;\n",
       "        text-align: center;\n",
       "        border-radius: 4px;\n",
       "        margin: 0 2px 5px 2px;\n",
       "        padding: 1px\n",
       "    }\n",
       "    .spark-nlp-display-entity-name{\n",
       "        font-size: 14px;\n",
       "        line-height: 24px;\n",
       "        font-family: 'Montserrat', sans-serif !important;\n",
       "        \n",
       "        background: #f1f2f3;\n",
       "        border-width: medium;\n",
       "        text-align: center;\n",
       "        \n",
       "        font-weight: 400;\n",
       "        \n",
       "        border-radius: 5px;\n",
       "        padding: 2px 5px;\n",
       "        display: block;\n",
       "        margin: 3px 2px;\n",
       "    \n",
       "    }\n",
       "    .spark-nlp-display-entity-type{\n",
       "        font-size: 14px;\n",
       "        line-height: 24px;\n",
       "        color: #ffffff;\n",
       "        font-family: 'Montserrat', sans-serif !important;\n",
       "        \n",
       "        text-transform: uppercase;\n",
       "        \n",
       "        font-weight: 500;\n",
       "\n",
       "        display: block;\n",
       "        padding: 3px 5px;\n",
       "    }\n",
       "    \n",
       "    .spark-nlp-display-entity-resolution{\n",
       "        font-size: 14px;\n",
       "        line-height: 24px;\n",
       "        color: #ffffff;\n",
       "        font-family: 'Vistol Regular', sans-serif !important;\n",
       "        \n",
       "        text-transform: uppercase;\n",
       "        \n",
       "        font-weight: 500;\n",
       "\n",
       "        display: block;\n",
       "        padding: 3px 5px;\n",
       "    }\n",
       "    \n",
       "    .spark-nlp-display-others{\n",
       "        font-size: 14px;\n",
       "        line-height: 24px;\n",
       "        font-family: 'Montserrat', sans-serif !important;\n",
       "        \n",
       "        font-weight: 400;\n",
       "    }\n",
       "\n",
       "</style>\n",
       " <span class=\"spark-nlp-display-others\" style=\"background-color: white\">A 28-year-old female with a history of </span><span class=\"spark-nlp-display-entity-wrapper\" style=\"background-color: #008080B3\"><span class=\"spark-nlp-display-entity-name\">gestational diabetes mellitus </span><span class=\"spark-nlp-display-entity-type\">PROBLEM</span><span class=\"spark-nlp-display-entity-resolution\" style=\"background-color: #008080FF\">O24.4 </span><span class=\"spark-nlp-display-entity-resolution\" style=\"background-color: #008080CC\">gestational diabetes mellitus, class d [gestational diabetes mellitus]</span></span><span class=\"spark-nlp-display-others\" style=\"background-color: white\"> diagnosed eight years prior to presentation and </span><span class=\"spark-nlp-display-entity-wrapper\" style=\"background-color: #008080B3\"><span class=\"spark-nlp-display-entity-name\">subsequent type two diabetes mellitus </span><span class=\"spark-nlp-display-entity-type\">PROBLEM</span><span class=\"spark-nlp-display-entity-resolution\" style=\"background-color: #008080FF\">O24.13 </span><span class=\"spark-nlp-display-entity-resolution\" style=\"background-color: #008080CC\">pre-existing type 2 diabetes mellitus, in the puerperium [pre-existing type 2 diabetes mellitus, in the puerperium]</span></span><span class=\"spark-nlp-display-others\" style=\"background-color: white\">, associated with </span><span class=\"spark-nlp-display-entity-wrapper\" style=\"background-color: #008080B3\"><span class=\"spark-nlp-display-entity-name\">an acute hepatitis </span><span class=\"spark-nlp-display-entity-type\">PROBLEM</span><span class=\"spark-nlp-display-entity-resolution\" style=\"background-color: #008080FF\">B16.9 </span><span class=\"spark-nlp-display-entity-resolution\" style=\"background-color: #008080CC\">acute fulminating type b viral hepatitis (disorder) [acute hepatitis b without delta-agent and without hepatic coma]</span></span><span class=\"spark-nlp-display-others\" style=\"background-color: white\">, and </span><span class=\"spark-nlp-display-entity-wrapper\" style=\"background-color: #008080B3\"><span class=\"spark-nlp-display-entity-name\">obesity </span><span class=\"spark-nlp-display-entity-type\">PROBLEM</span><span class=\"spark-nlp-display-entity-resolution\" style=\"background-color: #008080FF\">O99.21 </span><span class=\"spark-nlp-display-entity-resolution\" style=\"background-color: #008080CC\">severe obesity complicating pregnancy [obesity complicating pregnancy, childbirth, and the puerperium]</span></span><span class=\"spark-nlp-display-others\" style=\"background-color: white\"> with </span><span class=\"spark-nlp-display-entity-wrapper\" style=\"background-color: #008080B3\"><span class=\"spark-nlp-display-entity-name\">a body mass index </span><span class=\"spark-nlp-display-entity-type\">PROBLEM</span><span class=\"spark-nlp-display-entity-resolution\" style=\"background-color: #008080FF\">E13.00 </span><span class=\"spark-nlp-display-entity-resolution\" style=\"background-color: #008080CC\">hyperosmolarity due to secondary diabetes mellitus [other specified diabetes mellitus with hyperosmolarity without nonketotic hyperglycemic-hyperosmolar coma (nkhhc)]</span></span><span class=\"spark-nlp-display-others\" style=\"background-color: white\"> (BMI) of 33.5 kg/m2, presented with a one-week history of </span><span class=\"spark-nlp-display-entity-wrapper\" style=\"background-color: #008080B3\"><span class=\"spark-nlp-display-entity-name\">polyuria </span><span class=\"spark-nlp-display-entity-type\">PROBLEM</span><span class=\"spark-nlp-display-entity-resolution\" style=\"background-color: #008080FF\">R35 </span><span class=\"spark-nlp-display-entity-resolution\" style=\"background-color: #008080CC\">polyuria [polyuria]</span></span><span class=\"spark-nlp-display-others\" style=\"background-color: white\">, </span><span class=\"spark-nlp-display-entity-wrapper\" style=\"background-color: #008080B3\"><span class=\"spark-nlp-display-entity-name\">polydipsia </span><span class=\"spark-nlp-display-entity-type\">PROBLEM</span><span class=\"spark-nlp-display-entity-resolution\" style=\"background-color: #008080FF\">F63.89 </span><span class=\"spark-nlp-display-entity-resolution\" style=\"background-color: #008080CC\">psychogenic polydipsia [other impulse disorders]</span></span><span class=\"spark-nlp-display-others\" style=\"background-color: white\">, </span><span class=\"spark-nlp-display-entity-wrapper\" style=\"background-color: #008080B3\"><span class=\"spark-nlp-display-entity-name\">poor appetite </span><span class=\"spark-nlp-display-entity-type\">PROBLEM</span><span class=\"spark-nlp-display-entity-resolution\" style=\"background-color: #008080FF\">F50.0 </span><span class=\"spark-nlp-display-entity-resolution\" style=\"background-color: #008080CC\">anorexia nervosa co-occurrent with dangerously low body weight [anorexia nervosa]</span></span><span class=\"spark-nlp-display-others\" style=\"background-color: white\">, and </span><span class=\"spark-nlp-display-entity-wrapper\" style=\"background-color: #008080B3\"><span class=\"spark-nlp-display-entity-name\">vomiting </span><span class=\"spark-nlp-display-entity-type\">PROBLEM</span><span class=\"spark-nlp-display-entity-resolution\" style=\"background-color: #008080FF\">R19.7 </span><span class=\"spark-nlp-display-entity-resolution\" style=\"background-color: #008080CC\">d&v - diarrhea and vomiting [diarrhea, unspecified]</span></span><span class=\"spark-nlp-display-others\" style=\"background-color: white\">. Two weeks prior to presentation, she was treated with a five-day course of amoxicillin for </span><span class=\"spark-nlp-display-entity-wrapper\" style=\"background-color: #008080B3\"><span class=\"spark-nlp-display-entity-name\">a respiratory tract infection </span><span class=\"spark-nlp-display-entity-type\">PROBLEM</span><span class=\"spark-nlp-display-entity-resolution\" style=\"background-color: #008080FF\">Z87.0 </span><span class=\"spark-nlp-display-entity-resolution\" style=\"background-color: #008080CC\">history of acute lower respiratory tract infection (situation) [personal history of diseases of the respiratory system]</span></span><span class=\"spark-nlp-display-others\" style=\"background-color: white\">. She had been on dapagliflozin for six months at the time of presentation. Physical examination on presentation was significant for </span><span class=\"spark-nlp-display-entity-wrapper\" style=\"background-color: #008080B3\"><span class=\"spark-nlp-display-entity-name\">dry oral mucosa </span><span class=\"spark-nlp-display-entity-type\">PROBLEM</span><span class=\"spark-nlp-display-entity-resolution\" style=\"background-color: #008080FF\">R23.8 </span><span class=\"spark-nlp-display-entity-resolution\" style=\"background-color: #008080CC\">on examination - dry skin [other skin changes]</span></span><span class=\"spark-nlp-display-others\" style=\"background-color: white\">; significantly, her abdominal examination was benign with no </span><span class=\"spark-nlp-display-entity-wrapper\" style=\"background-color: #008080B3\"><span class=\"spark-nlp-display-entity-name\">tenderness </span><span class=\"spark-nlp-display-entity-type\">PROBLEM</span><span class=\"spark-nlp-display-entity-resolution\" style=\"background-color: #008080FF\">R44.8 </span><span class=\"spark-nlp-display-entity-resolution\" style=\"background-color: #008080CC\">sounds seem unnaturally clear [other symptoms and signs involving general sensations and perceptions]</span></span><span class=\"spark-nlp-display-others\" style=\"background-color: white\"> or </span><span class=\"spark-nlp-display-entity-wrapper\" style=\"background-color: #008080B3\"><span class=\"spark-nlp-display-entity-name\">guarding </span><span class=\"spark-nlp-display-entity-type\">PROBLEM</span><span class=\"spark-nlp-display-entity-resolution\" style=\"background-color: #008080FF\">Z65.3 </span><span class=\"spark-nlp-display-entity-resolution\" style=\"background-color: #008080CC\">pleads not guilty (finding) [problems related to other legal circumstances]</span></span><span class=\"spark-nlp-display-others\" style=\"background-color: white\">. Pertinent laboratory findings on admission were: serum glucose 111 mg/dl, bicarbonate 18 mmol/l, anion gap 20, creatinine 0.4 mg/dL, triglycerides 508 mg/dL, total cholesterol 122 mg/dL, glycated hemoglobin (HbA1c) 10%, and venous pH 7.27. Serum lipase was normal at 43 U/L. Serum acetone levels could not be assessed as blood samples kept </span><span class=\"spark-nlp-display-entity-wrapper\" style=\"background-color: #008080B3\"><span class=\"spark-nlp-display-entity-name\">hemolyzing </span><span class=\"spark-nlp-display-entity-type\">PROBLEM</span><span class=\"spark-nlp-display-entity-resolution\" style=\"background-color: #008080FF\">O04.6 </span><span class=\"spark-nlp-display-entity-resolution\" style=\"background-color: #008080CC\">hemolysis [delayed or excessive hemorrhage following (induced) termination of pregnancy]</span></span><span class=\"spark-nlp-display-others\" style=\"background-color: white\"> due to </span><span class=\"spark-nlp-display-entity-wrapper\" style=\"background-color: #008080B3\"><span class=\"spark-nlp-display-entity-name\">significant lipemia </span><span class=\"spark-nlp-display-entity-type\">PROBLEM</span><span class=\"spark-nlp-display-entity-resolution\" style=\"background-color: #008080FF\">E75.5 </span><span class=\"spark-nlp-display-entity-resolution\" style=\"background-color: #008080CC\">chemically-induced lipidosis (disorder) [other lipid storage disorders]</span></span><span class=\"spark-nlp-display-others\" style=\"background-color: white\">. The patient was initially admitted for </span><span class=\"spark-nlp-display-entity-wrapper\" style=\"background-color: #008080B3\"><span class=\"spark-nlp-display-entity-name\">starvation ketosis </span><span class=\"spark-nlp-display-entity-type\">PROBLEM</span><span class=\"spark-nlp-display-entity-resolution\" style=\"background-color: #008080FF\">E87.2 </span><span class=\"spark-nlp-display-entity-resolution\" style=\"background-color: #008080CC\">starvation ketoacidosis [acidosis]</span></span><span class=\"spark-nlp-display-others\" style=\"background-color: white\">, as she reported </span><span class=\"spark-nlp-display-entity-wrapper\" style=\"background-color: #008080B3\"><span class=\"spark-nlp-display-entity-name\">poor oral intake </span><span class=\"spark-nlp-display-entity-type\">PROBLEM</span><span class=\"spark-nlp-display-entity-resolution\" style=\"background-color: #008080FF\">R63.8 </span><span class=\"spark-nlp-display-entity-resolution\" style=\"background-color: #008080CC\">poor response to enteral nutrition [other symptoms and signs concerning food and fluid intake]</span></span><span class=\"spark-nlp-display-others\" style=\"background-color: white\"> for three days prior to admission.</span></div>"
      ]
     },
     "metadata": {
      "application/vnd.databricks.v1+output": {
       "addedWidgets": {},
       "arguments": {},
       "data": "\n<style>\n    @import url('https://fonts.googleapis.com/css2?family=Montserrat:wght@300;400;500;600;700&display=swap');\n    @import url('https://fonts.googleapis.com/css2?family=Vistol Regular:wght@300;400;500;600;700&display=swap');\n    \n    .spark-nlp-display-scroll-entities {\n        border: 1px solid #E7EDF0;\n        border-radius: 3px;\n        text-align: justify;\n        \n    }\n    .spark-nlp-display-scroll-entities span {  \n        font-size: 14px;\n        line-height: 24px;\n        color: #536B76;\n        font-family: 'Montserrat', sans-serif !important;\n    }\n    \n    .spark-nlp-display-entity-wrapper{\n    \n        display: inline-grid;\n        text-align: center;\n        border-radius: 4px;\n        margin: 0 2px 5px 2px;\n        padding: 1px\n    }\n    .spark-nlp-display-entity-name{\n        font-size: 14px;\n        line-height: 24px;\n        font-family: 'Montserrat', sans-serif !important;\n        \n        background: #f1f2f3;\n        border-width: medium;\n        text-align: center;\n        \n        font-weight: 400;\n        \n        border-radius: 5px;\n        padding: 2px 5px;\n        display: block;\n        margin: 3px 2px;\n    \n    }\n    .spark-nlp-display-entity-type{\n        font-size: 14px;\n        line-height: 24px;\n        color: #ffffff;\n        font-family: 'Montserrat', sans-serif !important;\n        \n        text-transform: uppercase;\n        \n        font-weight: 500;\n\n        display: block;\n        padding: 3px 5px;\n    }\n    \n    .spark-nlp-display-entity-resolution{\n        font-size: 14px;\n        line-height: 24px;\n        color: #ffffff;\n        font-family: 'Vistol Regular', sans-serif !important;\n        \n        text-transform: uppercase;\n        \n        font-weight: 500;\n\n        display: block;\n        padding: 3px 5px;\n    }\n    \n    .spark-nlp-display-others{\n        font-size: 14px;\n        line-height: 24px;\n        font-family: 'Montserrat', sans-serif !important;\n        \n        font-weight: 400;\n    }\n\n</style>\n <span class=\"spark-nlp-display-others\" style=\"background-color: white\">A 28-year-old female with a history of </span><span class=\"spark-nlp-display-entity-wrapper\" style=\"background-color: #008080B3\"><span class=\"spark-nlp-display-entity-name\">gestational diabetes mellitus </span><span class=\"spark-nlp-display-entity-type\">PROBLEM</span><span class=\"spark-nlp-display-entity-resolution\" style=\"background-color: #008080FF\">O24.4 </span><span class=\"spark-nlp-display-entity-resolution\" style=\"background-color: #008080CC\">gestational diabetes mellitus, class d [gestational diabetes mellitus]</span></span><span class=\"spark-nlp-display-others\" style=\"background-color: white\"> diagnosed eight years prior to presentation and </span><span class=\"spark-nlp-display-entity-wrapper\" style=\"background-color: #008080B3\"><span class=\"spark-nlp-display-entity-name\">subsequent type two diabetes mellitus </span><span class=\"spark-nlp-display-entity-type\">PROBLEM</span><span class=\"spark-nlp-display-entity-resolution\" style=\"background-color: #008080FF\">O24.13 </span><span class=\"spark-nlp-display-entity-resolution\" style=\"background-color: #008080CC\">pre-existing type 2 diabetes mellitus, in the puerperium [pre-existing type 2 diabetes mellitus, in the puerperium]</span></span><span class=\"spark-nlp-display-others\" style=\"background-color: white\">, associated with </span><span class=\"spark-nlp-display-entity-wrapper\" style=\"background-color: #008080B3\"><span class=\"spark-nlp-display-entity-name\">an acute hepatitis </span><span class=\"spark-nlp-display-entity-type\">PROBLEM</span><span class=\"spark-nlp-display-entity-resolution\" style=\"background-color: #008080FF\">B16.9 </span><span class=\"spark-nlp-display-entity-resolution\" style=\"background-color: #008080CC\">acute fulminating type b viral hepatitis (disorder) [acute hepatitis b without delta-agent and without hepatic coma]</span></span><span class=\"spark-nlp-display-others\" style=\"background-color: white\">, and </span><span class=\"spark-nlp-display-entity-wrapper\" style=\"background-color: #008080B3\"><span class=\"spark-nlp-display-entity-name\">obesity </span><span class=\"spark-nlp-display-entity-type\">PROBLEM</span><span class=\"spark-nlp-display-entity-resolution\" style=\"background-color: #008080FF\">O99.21 </span><span class=\"spark-nlp-display-entity-resolution\" style=\"background-color: #008080CC\">severe obesity complicating pregnancy [obesity complicating pregnancy, childbirth, and the puerperium]</span></span><span class=\"spark-nlp-display-others\" style=\"background-color: white\"> with </span><span class=\"spark-nlp-display-entity-wrapper\" style=\"background-color: #008080B3\"><span class=\"spark-nlp-display-entity-name\">a body mass index </span><span class=\"spark-nlp-display-entity-type\">PROBLEM</span><span class=\"spark-nlp-display-entity-resolution\" style=\"background-color: #008080FF\">E13.00 </span><span class=\"spark-nlp-display-entity-resolution\" style=\"background-color: #008080CC\">hyperosmolarity due to secondary diabetes mellitus [other specified diabetes mellitus with hyperosmolarity without nonketotic hyperglycemic-hyperosmolar coma (nkhhc)]</span></span><span class=\"spark-nlp-display-others\" style=\"background-color: white\"> (BMI) of 33.5 kg/m2, presented with a one-week history of </span><span class=\"spark-nlp-display-entity-wrapper\" style=\"background-color: #008080B3\"><span class=\"spark-nlp-display-entity-name\">polyuria </span><span class=\"spark-nlp-display-entity-type\">PROBLEM</span><span class=\"spark-nlp-display-entity-resolution\" style=\"background-color: #008080FF\">R35 </span><span class=\"spark-nlp-display-entity-resolution\" style=\"background-color: #008080CC\">polyuria [polyuria]</span></span><span class=\"spark-nlp-display-others\" style=\"background-color: white\">, </span><span class=\"spark-nlp-display-entity-wrapper\" style=\"background-color: #008080B3\"><span class=\"spark-nlp-display-entity-name\">polydipsia </span><span class=\"spark-nlp-display-entity-type\">PROBLEM</span><span class=\"spark-nlp-display-entity-resolution\" style=\"background-color: #008080FF\">F63.89 </span><span class=\"spark-nlp-display-entity-resolution\" style=\"background-color: #008080CC\">psychogenic polydipsia [other impulse disorders]</span></span><span class=\"spark-nlp-display-others\" style=\"background-color: white\">, </span><span class=\"spark-nlp-display-entity-wrapper\" style=\"background-color: #008080B3\"><span class=\"spark-nlp-display-entity-name\">poor appetite </span><span class=\"spark-nlp-display-entity-type\">PROBLEM</span><span class=\"spark-nlp-display-entity-resolution\" style=\"background-color: #008080FF\">F50.0 </span><span class=\"spark-nlp-display-entity-resolution\" style=\"background-color: #008080CC\">anorexia nervosa co-occurrent with dangerously low body weight [anorexia nervosa]</span></span><span class=\"spark-nlp-display-others\" style=\"background-color: white\">, and </span><span class=\"spark-nlp-display-entity-wrapper\" style=\"background-color: #008080B3\"><span class=\"spark-nlp-display-entity-name\">vomiting </span><span class=\"spark-nlp-display-entity-type\">PROBLEM</span><span class=\"spark-nlp-display-entity-resolution\" style=\"background-color: #008080FF\">R19.7 </span><span class=\"spark-nlp-display-entity-resolution\" style=\"background-color: #008080CC\">d&v - diarrhea and vomiting [diarrhea, unspecified]</span></span><span class=\"spark-nlp-display-others\" style=\"background-color: white\">. Two weeks prior to presentation, she was treated with a five-day course of amoxicillin for </span><span class=\"spark-nlp-display-entity-wrapper\" style=\"background-color: #008080B3\"><span class=\"spark-nlp-display-entity-name\">a respiratory tract infection </span><span class=\"spark-nlp-display-entity-type\">PROBLEM</span><span class=\"spark-nlp-display-entity-resolution\" style=\"background-color: #008080FF\">Z87.0 </span><span class=\"spark-nlp-display-entity-resolution\" style=\"background-color: #008080CC\">history of acute lower respiratory tract infection (situation) [personal history of diseases of the respiratory system]</span></span><span class=\"spark-nlp-display-others\" style=\"background-color: white\">. She had been on dapagliflozin for six months at the time of presentation. Physical examination on presentation was significant for </span><span class=\"spark-nlp-display-entity-wrapper\" style=\"background-color: #008080B3\"><span class=\"spark-nlp-display-entity-name\">dry oral mucosa </span><span class=\"spark-nlp-display-entity-type\">PROBLEM</span><span class=\"spark-nlp-display-entity-resolution\" style=\"background-color: #008080FF\">R23.8 </span><span class=\"spark-nlp-display-entity-resolution\" style=\"background-color: #008080CC\">on examination - dry skin [other skin changes]</span></span><span class=\"spark-nlp-display-others\" style=\"background-color: white\">; significantly, her abdominal examination was benign with no </span><span class=\"spark-nlp-display-entity-wrapper\" style=\"background-color: #008080B3\"><span class=\"spark-nlp-display-entity-name\">tenderness </span><span class=\"spark-nlp-display-entity-type\">PROBLEM</span><span class=\"spark-nlp-display-entity-resolution\" style=\"background-color: #008080FF\">R44.8 </span><span class=\"spark-nlp-display-entity-resolution\" style=\"background-color: #008080CC\">sounds seem unnaturally clear [other symptoms and signs involving general sensations and perceptions]</span></span><span class=\"spark-nlp-display-others\" style=\"background-color: white\"> or </span><span class=\"spark-nlp-display-entity-wrapper\" style=\"background-color: #008080B3\"><span class=\"spark-nlp-display-entity-name\">guarding </span><span class=\"spark-nlp-display-entity-type\">PROBLEM</span><span class=\"spark-nlp-display-entity-resolution\" style=\"background-color: #008080FF\">Z65.3 </span><span class=\"spark-nlp-display-entity-resolution\" style=\"background-color: #008080CC\">pleads not guilty (finding) [problems related to other legal circumstances]</span></span><span class=\"spark-nlp-display-others\" style=\"background-color: white\">. Pertinent laboratory findings on admission were: serum glucose 111 mg/dl, bicarbonate 18 mmol/l, anion gap 20, creatinine 0.4 mg/dL, triglycerides 508 mg/dL, total cholesterol 122 mg/dL, glycated hemoglobin (HbA1c) 10%, and venous pH 7.27. Serum lipase was normal at 43 U/L. Serum acetone levels could not be assessed as blood samples kept </span><span class=\"spark-nlp-display-entity-wrapper\" style=\"background-color: #008080B3\"><span class=\"spark-nlp-display-entity-name\">hemolyzing </span><span class=\"spark-nlp-display-entity-type\">PROBLEM</span><span class=\"spark-nlp-display-entity-resolution\" style=\"background-color: #008080FF\">O04.6 </span><span class=\"spark-nlp-display-entity-resolution\" style=\"background-color: #008080CC\">hemolysis [delayed or excessive hemorrhage following (induced) termination of pregnancy]</span></span><span class=\"spark-nlp-display-others\" style=\"background-color: white\"> due to </span><span class=\"spark-nlp-display-entity-wrapper\" style=\"background-color: #008080B3\"><span class=\"spark-nlp-display-entity-name\">significant lipemia </span><span class=\"spark-nlp-display-entity-type\">PROBLEM</span><span class=\"spark-nlp-display-entity-resolution\" style=\"background-color: #008080FF\">E75.5 </span><span class=\"spark-nlp-display-entity-resolution\" style=\"background-color: #008080CC\">chemically-induced lipidosis (disorder) [other lipid storage disorders]</span></span><span class=\"spark-nlp-display-others\" style=\"background-color: white\">. The patient was initially admitted for </span><span class=\"spark-nlp-display-entity-wrapper\" style=\"background-color: #008080B3\"><span class=\"spark-nlp-display-entity-name\">starvation ketosis </span><span class=\"spark-nlp-display-entity-type\">PROBLEM</span><span class=\"spark-nlp-display-entity-resolution\" style=\"background-color: #008080FF\">E87.2 </span><span class=\"spark-nlp-display-entity-resolution\" style=\"background-color: #008080CC\">starvation ketoacidosis [acidosis]</span></span><span class=\"spark-nlp-display-others\" style=\"background-color: white\">, as she reported </span><span class=\"spark-nlp-display-entity-wrapper\" style=\"background-color: #008080B3\"><span class=\"spark-nlp-display-entity-name\">poor oral intake </span><span class=\"spark-nlp-display-entity-type\">PROBLEM</span><span class=\"spark-nlp-display-entity-resolution\" style=\"background-color: #008080FF\">R63.8 </span><span class=\"spark-nlp-display-entity-resolution\" style=\"background-color: #008080CC\">poor response to enteral nutrition [other symptoms and signs concerning food and fluid intake]</span></span><span class=\"spark-nlp-display-others\" style=\"background-color: white\"> for three days prior to admission.</span></div>",
       "datasetInfos": [],
       "metadata": {},
       "removedWidgets": [],
       "textData": null,
       "type": "htmlSandbox"
      }
     },
     "output_type": "display_data"
    }
   ],
   "source": [
    "icd10_SCE_lp = nlp.LightPipeline(model_SCE)\n",
    "\n",
    "light_result = icd10_SCE_lp.fullAnnotate(clinical_note)\n",
    "\n",
    "visualiser = nlp.viz.EntityResolverVisualizer()\n",
    "\n",
    "# Change color of an entity label\n",
    "visualiser.set_label_colors({'PROBLEM':'#008080'})\n",
    "\n",
    "vis= visualiser.display(light_result[0], 'ner_chunk', 'icd10cm_code', return_html=True)\n",
    "displayHTML(vis)"
   ]
  },
  {
   "cell_type": "markdown",
   "metadata": {
    "application/vnd.databricks.v1+cell": {
     "cellMetadata": {
      "byteLimit": 2048000,
      "rowLimit": 10000
     },
     "inputWidgets": {},
     "nuid": "5349ebdf-e930-40da-ba5a-e2747bc3473f",
     "showTitle": false,
     "title": ""
    }
   },
   "source": [
    "**Lets compare the results that we got from these two methods.**"
   ]
  },
  {
   "cell_type": "code",
   "execution_count": 0,
   "metadata": {
    "application/vnd.databricks.v1+cell": {
     "cellMetadata": {
      "byteLimit": 2048000,
      "rowLimit": 10000
     },
     "inputWidgets": {},
     "nuid": "14aad6fd-abb2-4545-a934-290f061c4a4e",
     "showTitle": false,
     "title": ""
    }
   },
   "outputs": [
    {
     "output_type": "display_data",
     "data": {
      "text/html": [
       "<div>\n",
       "<style scoped>\n",
       "    .dataframe tbody tr th:only-of-type {\n",
       "        vertical-align: middle;\n",
       "    }\n",
       "\n",
       "    .dataframe tbody tr th {\n",
       "        vertical-align: top;\n",
       "    }\n",
       "\n",
       "    .dataframe thead th {\n",
       "        text-align: right;\n",
       "    }\n",
       "</style>\n",
       "<table border=\"1\" class=\"dataframe\">\n",
       "  <thead>\n",
       "    <tr style=\"text-align: right;\">\n",
       "      <th></th>\n",
       "      <th>sentence_all</th>\n",
       "      <th>ner_chunk</th>\n",
       "      <th>entity</th>\n",
       "      <th>icd10_code</th>\n",
       "      <th>all_codes</th>\n",
       "      <th>resolutions</th>\n",
       "      <th>icd10_code_SCE</th>\n",
       "      <th>all_codes_SCE</th>\n",
       "      <th>resolutions_SCE</th>\n",
       "    </tr>\n",
       "  </thead>\n",
       "  <tbody>\n",
       "    <tr>\n",
       "      <th>0</th>\n",
       "      <td>A 28-year-old female with a history of gestational diabetes mellitus diagnosed eight years prior to presentation and subsequent type two diabetes mellitus, associated with an acute hepatitis, and obesity with a body mass index (BMI) of 33.5 kg/m2, presented with a one-week history of polyuria, polydipsia, poor appetite, and vomiting.</td>\n",
       "      <td>gestational diabetes mellitus</td>\n",
       "      <td>PROBLEM</td>\n",
       "      <td>O24.4</td>\n",
       "      <td>[O24.4, O24.41, O24.43, Z86.32, Z87.5, O24.31, O24.11, O24.1, O24.81]</td>\n",
       "      <td>[gestational diabetes mellitus [gestational diabetes mellitus], gestational diabetes mellitus (disorder) [gestational diabetes mellitus in pregnancy], postpartum gestational diabetes mellitus [gestational diabetes mellitus in the puerperium], history of gestational diabetes mellitus [personal history of gestational diabetes], history of gestational diabetes mellitus (situation) [personal history of complications of pregnancy, childbirth and the puerperium], pre-existing diabetes mellitus in pregnancy [unspecified pre-existing diabetes mellitus in pregnancy], pre-existing diabetes mellitus in pregnancy (disorder) [pre-existing type 2 diabetes mellitus, in pregnancy], pre-existing type 2 diabetes mellitus in pregnancy [pre-existing type 2 diabetes mellitus, in pregnancy, childbirth and the puerperium], other pre-existing diabetes mellitus in pregnancy [other pre-existing diabetes mellitus in pregnancy]]</td>\n",
       "      <td>O24.4</td>\n",
       "      <td>[O24.4, O24.43, O24.41, O24.434, O24.42, O24.414, O24.13]</td>\n",
       "      <td>[gestational diabetes mellitus, class d [gestational diabetes mellitus], gestational diabetes mellitus in the puerperium [gestational diabetes mellitus in the puerperium], maternal gestational diabetes mellitus [gestational diabetes mellitus in pregnancy], gestational diabetes mellitus in the puerperium, insulin controlled [gestational diabetes mellitus in the puerperium, insulin controlled], gestational diabetes mellitus in childbirth [gestational diabetes mellitus in childbirth], gestational diabetes mellitus in pregnancy, insulin controlled [gestational diabetes mellitus in pregnancy, insulin controlled], pre-existing type 2 diabetes mellitus, in the puerperium [pre-existing type 2 diabetes mellitus, in the puerperium]]</td>\n",
       "    </tr>\n",
       "    <tr>\n",
       "      <th>1</th>\n",
       "      <td>A 28-year-old female with a history of gestational diabetes mellitus diagnosed eight years prior to presentation and subsequent type two diabetes mellitus, associated with an acute hepatitis, and obesity with a body mass index (BMI) of 33.5 kg/m2, presented with a one-week history of polyuria, polydipsia, poor appetite, and vomiting.</td>\n",
       "      <td>subsequent type two diabetes mellitus</td>\n",
       "      <td>PROBLEM</td>\n",
       "      <td>O24.11</td>\n",
       "      <td>[O24.11, E11.8, E11, E13.9, E11.9, E11.3, E11.44, Z86.3, Z86.39, E11.32, E11.43, E11.5]</td>\n",
       "      <td>[pre-existing type 2 diabetes mellitus [pre-existing type 2 diabetes mellitus, in pregnancy], disorder associated with type 2 diabetes mellitus [type 2 diabetes mellitus with unspecified complications], type 2 diabetes mellitus [type 2 diabetes mellitus], secondary diabetes mellitus [other specified diabetes mellitus without complications], diabetes mellitus type 2 [type 2 diabetes mellitus without complications], disorder of eye due to type 2 diabetes mellitus [type 2 diabetes mellitus with ophthalmic complications], disorder of nervous system due to type 2 diabetes mellitus [type 2 diabetes mellitus with diabetic amyotrophy], history of diabetes mellitus type 2 (situation) [personal history of endocrine, nutritional and metabolic diseases], history of diabetes mellitus type 2 [personal history of other endocrine, nutritional and metabolic disease], secondary endocrine diabetes mellitus [type 2 diabetes mellitus with mild nonproliferative diabetic retinopathy], neurological disorder with type 2 diabetes mellitus [type 2 diabetes mellitus with diabetic autonomic (poly)neuropathy], peripheral circulatory disorder due to type 2 diabetes mellitus [type 2 diabetes mellitus with circulatory complications]]</td>\n",
       "      <td>O24.13</td>\n",
       "      <td>[O24.13, E11.6, E11.43, O24.11, E11.10, E11.0, O24.12, E11.4, E11.69, E11.1, O24.1, K31.8, E11.33, O24.4, E11.2]</td>\n",
       "      <td>[pre-existing type 2 diabetes mellitus, in the puerperium [pre-existing type 2 diabetes mellitus, in the puerperium], gastroparesis co-occurrent and due to type 2 diabetes mellitus [type 2 diabetes mellitus with other specified complications], gastroparesis with type 2 diabetes mellitus [type 2 diabetes mellitus with diabetic autonomic (poly)neuropathy], pregnancy and type 2 diabetes mellitus [pre-existing type 2 diabetes mellitus, in pregnancy], ketoacidosis due to type 2 diabetes mellitus [type 2 diabetes mellitus with ketoacidosis without coma], hyperosmolar coma due to type 2 diabetes mellitus [type 2 diabetes mellitus with hyperosmolarity], pre-existing type 2 diabetes mellitus, in childbirth [pre-existing type 2 diabetes mellitus, in childbirth], cranial nerve palsy co-occurrent and due to type 2 diabetes mellitus [type 2 diabetes mellitus with neurological complications], angina due to type 2 diabetes mellitus [type 2 diabetes mellitus with other specified complication], ketoacidosis due to type 2 diabetes mellitus (disorder) [type 2 diabetes mellitus with ketoacidosis], pre-existing type 2 diabetes mellitus in pregnancy [pre-existing type 2 diabetes mellitus, in pregnancy, childbirth and the puerperium], diabetic gastroparesis associated with type 2 diabetes mellitus [other specified diseases of stomach and duodenum], moderate nonproliferative retinopathy co-occurrent and due to type 2 diabetes mellitus [type 2 diabetes mellitus with moderate nonproliferative diabetic retinopathy], gestational diabetes mellitus, class a&gt;2&lt; [gestational diabetes mellitus], persistent microalbuminuria due to type 2 diabetes mellitus [type 2 diabetes mellitus with kidney complications]]</td>\n",
       "    </tr>\n",
       "    <tr>\n",
       "      <th>2</th>\n",
       "      <td>A 28-year-old female with a history of gestational diabetes mellitus diagnosed eight years prior to presentation and subsequent type two diabetes mellitus, associated with an acute hepatitis, and obesity with a body mass index (BMI) of 33.5 kg/m2, presented with a one-week history of polyuria, polydipsia, poor appetite, and vomiting.</td>\n",
       "      <td>an acute hepatitis</td>\n",
       "      <td>PROBLEM</td>\n",
       "      <td>B15</td>\n",
       "      <td>[B15, K72.0, B17.9, B17.2, Z03.89, B15.9, K75.2, K71.2, B19.9, B16, K70.1, B16.9]</td>\n",
       "      <td>[acute hepatitis a [acute hepatitis a], acute hepatitis [acute and subacute hepatic failure], acute infectious hepatitis [acute viral hepatitis, unspecified], acute hepatitis e [acute hepatitis e], acute infectious hepatitis suspected [encounter for observation for other suspected diseases and conditions ruled out], acute type a viral hepatitis [hepatitis a without hepatic coma], acute focal hepatitis [nonspecific reactive hepatitis], toxic liver disease with acute hepatitis [toxic liver disease with acute hepatitis], fulminant hepatitis [unspecified viral hepatitis without hepatic coma], acute hepatitis b [acute hepatitis b], acute alcoholic hepatitis [alcoholic hepatitis], acute fulminating viral hepatitis [acute hepatitis b without delta-agent and without hepatic coma]]</td>\n",
       "      <td>B16.9</td>\n",
       "      <td>[B16.9, B15.9, B16.2, B17.9, B16.0, E80.21, K71.2, O26.6, B18.1, F10.98, B15.0]</td>\n",
       "      <td>[acute fulminating type b viral hepatitis (disorder) [acute hepatitis b without delta-agent and without hepatic coma], acute fulminating type a viral hepatitis (disorder) [hepatitis a without hepatic coma], hepatic coma due to acute hepatitis b [acute hepatitis b without delta-agent with hepatic coma], acute fulminating viral hepatitis (disorder) [acute viral hepatitis, unspecified], acute viral hepatitis b with hepatic coma [acute hepatitis b with delta-agent with hepatic coma], acute intermittent (hepatic) porphyria [acute intermittent (hepatic) porphyria], toxic liver disease with acute hepatitis (disorder) [toxic liver disease with acute hepatitis], acute fatty liver of pregnancy [liver and biliary tract disorders in pregnancy, childbirth and the puerperium], chronic viral hepatitis b with hepatic coma [chronic viral hepatitis b without delta-agent], ketoacidosis due to acute alcoholic intoxication [alcohol use, unspecified with other alcohol-induced disorders], viral hepatitis a with hepatic coma (disorder) [hepatitis a with hepatic coma]]</td>\n",
       "    </tr>\n",
       "    <tr>\n",
       "      <th>3</th>\n",
       "      <td>A 28-year-old female with a history of gestational diabetes mellitus diagnosed eight years prior to presentation and subsequent type two diabetes mellitus, associated with an acute hepatitis, and obesity with a body mass index (BMI) of 33.5 kg/m2, presented with a one-week history of polyuria, polydipsia, poor appetite, and vomiting.</td>\n",
       "      <td>obesity</td>\n",
       "      <td>PROBLEM</td>\n",
       "      <td>E66.9</td>\n",
       "      <td>[E66.9, E66.8, Z68.41, Q13.0, E66, E66.01, Z86.39, E34.9, H35.50, Z83.49, Q55.62, E66.3]</td>\n",
       "      <td>[obesity [obesity, unspecified], abdominal obesity [other obesity], obese [body mass index [bmi] 40.0-44.9, adult], central obesity [coloboma of iris], overweight and obesity [overweight and obesity], morbid obesity [morbid (severe) obesity due to excess calories], h/o: obesity [personal history of other endocrine, nutritional and metabolic disease], severe obesity [endocrine disorder, unspecified], centripetal obesity [unspecified hereditary retinal dystrophy], fh: obesity [family history of other endocrine, nutritional and metabolic diseases], truncal obesity [hypoplasia of penis], overweight [overweight]]</td>\n",
       "      <td>O99.21</td>\n",
       "      <td>[O99.21, E23.3, E66.8, E34.9, O26.00, E66.2, E66.9, E23.6, R73.02, E66.01, O99.215, R73.0, N91.1]</td>\n",
       "      <td>[severe obesity complicating pregnancy [obesity complicating pregnancy, childbirth, and the puerperium], rapid-onset childhood obesity, hypothalamic dysfunction, hypoventilation, autonomic dysregulation syndrome [hypothalamic dysfunction, not elsewhere classified], gynaecoid obesity [other obesity], severe obesity [endocrine disorder, unspecified], maternal obesity syndrome [excessive weight gain in pregnancy, unspecified trimester], rapid-onset childhood obesity, hypothalamic dysfunction, hypoventilation, autonomic dysregulation syndrome (disorder) [morbid (severe) obesity with alveolar hypoventilation], lifelong obesity [obesity, unspecified], hypothalamic infantilism with obesity syndrome [other disorders of pituitary gland], impaired glucose tolerance in obese [impaired glucose tolerance (oral)], morbid (severe) obesity due to excess calories [morbid (severe) obesity due to excess calories], obesity complicating the puerperium [obesity complicating the puerperium], impaired glucose tolerance in obese (disorder) [abnormal glucose], amenorrhea associated with obesity [secondary amenorrhea]]</td>\n",
       "    </tr>\n",
       "    <tr>\n",
       "      <th>4</th>\n",
       "      <td>A 28-year-old female with a history of gestational diabetes mellitus diagnosed eight years prior to presentation and subsequent type two diabetes mellitus, associated with an acute hepatitis, and obesity with a body mass index (BMI) of 33.5 kg/m2, presented with a one-week history of polyuria, polydipsia, poor appetite, and vomiting.</td>\n",
       "      <td>a body mass index</td>\n",
       "      <td>PROBLEM</td>\n",
       "      <td>Z68.41</td>\n",
       "      <td>[Z68.41, E66.9, R22.9, Z68.1, R22.3, R22.1, Z68, R22.2, R22.0, R41.89, M62.58, P29.9, R19.00, R89.8, M21.70, R19.0, M21.80]</td>\n",
       "      <td>[finding of body mass index [body mass index [bmi] 40.0-44.9, adult], observation of body mass index [obesity, unspecified], mass of body region [localized swelling, mass and lump, unspecified], finding of body mass index (finding) [body mass index [bmi] 19.9 or less, adult], mass of upper limb [localized swelling, mass and lump, upper limb], head and neck mass [localized swelling, mass and lump, neck], body mass index [bmi] [body mass index [bmi]], mass of trunk [localized swelling, mass and lump, trunk], mass of head [localized swelling, mass and lump, head], preoccupation with body size [other symptoms and signs involving cognitive functions and awareness], finding of size of upper limb [muscle wasting and atrophy, not elsewhere classified, other site], mass of cardiovascular structure [cardiovascular disorder originating in the perinatal period, unspecified], mass of abdominal cavity structure [intra-abdominal and pelvic swelling, mass and lump, unspecified site], increase in circumference [other abnormal findings in specimens from other organs, systems and tissues], finding of proportion of upper limb [unequal limb length (acquired), unspecified site], visible abdominal mass [intra-abdominal and pelvic swelling, mass and lump], observation of size of upper limb [other specified acquired deformities of unspecified limb]]</td>\n",
       "      <td>E13.00</td>\n",
       "      <td>[E13.00, O21.1, R73.0, E11.0, O24.1, O99.21, O24.41, O99.2, R73.02, P90, O99.8, N91.1, O24.0, E09.00, E09.0, E66.8, O99.215, E66.2, E23.3]</td>\n",
       "      <td>[hyperosmolarity due to secondary diabetes mellitus [other specified diabetes mellitus with hyperosmolarity without nonketotic hyperglycemic-hyperosmolar coma (nkhhc)], hyperemesis gravidarum with metabolic disturbance [hyperemesis gravidarum with metabolic disturbance], impaired glucose tolerance in obese (disorder) [abnormal glucose], type 2 diabetes mellitus with hyperosmolarity [type 2 diabetes mellitus with hyperosmolarity], pre-existing type 2 diabetes mellitus, in pregnancy, childbirth and the puerperium [pre-existing type 2 diabetes mellitus, in pregnancy, childbirth and the puerperium], severe obesity complicating pregnancy [obesity complicating pregnancy, childbirth, and the puerperium], gestational diabetes [gestational diabetes mellitus in pregnancy], hyperglycemic disorder in pregnancy [endocrine, nutritional and metabolic diseases complicating pregnancy, childbirth and the puerperium], impaired glucose tolerance in obese [impaired glucose tolerance (oral)], obesity by age of onset [convulsions of newborn], pregnancy and impaired glucose tolerance [other specified diseases and conditions complicating pregnancy, childbirth and the puerperium], amenorrhoea associated with obesity [secondary amenorrhea], pre-existing type 1 diabetes mellitus, in pregnancy, childbirth and the puerperium [pre-existing type 1 diabetes mellitus, in pregnancy, childbirth and the puerperium], hyperosmolarity due to drug induced diabetes mellitus [drug or chemical induced diabetes mellitus with hyperosmolarity without nonketotic hyperglycemic-hyperosmolar coma (nkhhc)], drug or chemical induced diabetes mellitus w hyperosmolarity [drug or chemical induced diabetes mellitus with hyperosmolarity], obesity by age of onset (disorder) [other obesity], obesity complicating the puerperium [obesity complicating the puerperium], rapid-onset childhood obesity, hypothalamic dysfunction, hypoventilation, autonomic dysregulation syndrome (disorder) [morbid (severe) obesity with alveolar hypoventilation], rapid-onset childhood obesity, hypothalamic dysfunction, hypoventilation, autonomic dysregulation syndrome [hypothalamic dysfunction, not elsewhere classified]]</td>\n",
       "    </tr>\n",
       "    <tr>\n",
       "      <th>5</th>\n",
       "      <td>A 28-year-old female with a history of gestational diabetes mellitus diagnosed eight years prior to presentation and subsequent type two diabetes mellitus, associated with an acute hepatitis, and obesity with a body mass index (BMI) of 33.5 kg/m2, presented with a one-week history of polyuria, polydipsia, poor appetite, and vomiting.</td>\n",
       "      <td>polyuria</td>\n",
       "      <td>PROBLEM</td>\n",
       "      <td>R35</td>\n",
       "      <td>[R35, R35.81, R35.8, E23.2, R31, R35.0, R82.99, N40.1, E72.3, O04.8, R30.0, R31.9, E72.01, R80.9, E88.8, R80.8, N03.0, P96.0, R80, N02.6]</td>\n",
       "      <td>[polyuria [polyuria], nocturnal polyuria [nocturnal polyuria], polyuric state [other polyuria], polyuric state (disorder) [diabetes insipidus], hematuria [hematuria], micturition frequency and polyuria [frequency of micturition], uricosuria [other abnormal findings in urine], pollakiuria [benign prostatic hyperplasia with lower urinary tract symptoms], saccharopinuria [disorders of lysine and hydroxylysine metabolism], oligouria [(induced) termination of pregnancy with other and unspecified complications], dysuria [dysuria], hematuria syndrome [hematuria, unspecified], cystinuria [cystinuria], cyclic proteinuria [proteinuria, unspecified], sialuria [other specified metabolic disorders], paroxysmal proteinuria [other proteinuria], renal hematuria (disorder) [chronic nephritic syndrome with minor glomerular abnormality], oliguria and anuria [congenital renal failure], proteinuria [proteinuria], persistent hematuria (disorder) [recurrent and persistent hematuria with dense deposit disease]]</td>\n",
       "      <td>R35</td>\n",
       "      <td>[R35, D59.5, R35.81, O13.9, O12.2, D68.69, O13.3, O12.22, O13.2, O12.25, O12.23, O12.20, O14.9]</td>\n",
       "      <td>[polyuria [polyuria], pnh - paroxysmal nocturnal hemoglobinuria [paroxysmal nocturnal hemoglobinuria [marchiafava-micheli]], nocturnal polyuria [nocturnal polyuria], gestational htn w/o significant proteinuria, unsp trimester [gestational [pregnancy-induced] hypertension without significant proteinuria, unspecified trimester], gestational oedema with proteinuria [gestational edema with proteinuria], thrombophilia due to paroxysmal nocturnal hemoglobinuria [other thrombophilia], gestational htn w/o significant proteinuria, third trimester [gestational [pregnancy-induced] hypertension without significant proteinuria, third trimester], gestational edema with proteinuria, second trimester [gestational edema with proteinuria, second trimester], gestatnl htn w/o significant proteinuria, second trimester [gestational [pregnancy-induced] hypertension without significant proteinuria, second trimester], gestational edema with proteinuria, comp the puerperium [gestational edema with proteinuria, complicating the puerperium], gestational edema with proteinuria, third trimester [gestational edema with proteinuria, third trimester], gestational edema with proteinuria, unspecified trimester [gestational edema with proteinuria, unspecified trimester], eph - edema, proteinuria and hypertension of pregnancy [unspecified pre-eclampsia]]</td>\n",
       "    </tr>\n",
       "    <tr>\n",
       "      <th>6</th>\n",
       "      <td>A 28-year-old female with a history of gestational diabetes mellitus diagnosed eight years prior to presentation and subsequent type two diabetes mellitus, associated with an acute hepatitis, and obesity with a body mass index (BMI) of 33.5 kg/m2, presented with a one-week history of polyuria, polydipsia, poor appetite, and vomiting.</td>\n",
       "      <td>polydipsia</td>\n",
       "      <td>PROBLEM</td>\n",
       "      <td>R63.1</td>\n",
       "      <td>[R63.1, F63.89, E23.2, F63.9, O40, G47.5, M79.89, R63.2, R06.1, H53.8, I44.2, G47.9, G47.8, G47.1, Q30.8, I45.9, R00.2, R06.81, G47.54, R06.8, M35.3]</td>\n",
       "      <td>[polydipsia [polydipsia], psychogenic polydipsia [other impulse disorders], primary polydipsia [diabetes insipidus], psychogenic polydipsia (disorder) [impulse disorder, unspecified], polyhydramnios [polyhydramnios], parasomnia [parasomnia], polyalgia [other specified soft tissue disorders], polyphagia [polyphagia], biphasic stridor [stridor], oscillopsia [other visual disturbances], parasystole (disorder) [atrioventricular block, complete], dyssomnia [sleep disorder, unspecified], parasomnia (disorder) [other sleep disorders], hypersomnia (disorder) [hypersomnia], polyrrhinia [other congenital malformations of nose], palpitations - irregular [conduction disorder, unspecified], intermittent palpitations [palpitations], vagal apnea [apnea, not elsewhere classified], secondary parasomnia [parasomnia in conditions classified elsewhere], vagal apnoea [other abnormalities of breathing], polymyalgia [polymyalgia rheumatica]]</td>\n",
       "      <td>F63.89</td>\n",
       "      <td>[F63.89, R63.1, E23.2, F63.9, G47.3, O99.89, E87.0, A69.1, O40, G47.0, R06.0, E80.6, Z87.42, D59.5, Z87.4, O99.7, R32, R06.00]</td>\n",
       "      <td>[psychogenic polydipsia [other impulse disorders], polydipsia [polydipsia], primary polydipsia [diabetes insipidus], psychogenic polydipsia (disorder) [impulse disorder, unspecified], autoimmune encephalopathy with parasomnia and obstructive sleep apnoea [sleep apnea], polyhydramnios (disorder) [other specified diseases and conditions complicating pregnancy, childbirth and the puerperium], hypodipsia/adipsia [hyperosmolality and hypernatremia], vincent angina - pharyngitis [other vincent's infections], polyhydramnios [polyhydramnios], insomnia co-occurrent and due to nocturnal myoclonus [insomnia], pnd - paroxysmal nocturnal dyspnea [dyspnea], cyclic premenstrual unconjugated hyperbilirubinemia (disorder) [other disorders of bilirubin metabolism], history of polymenorrhea [personal history of other diseases of the female genital tract], pnh - paroxysmal nocturnal hemoglobinuria [paroxysmal nocturnal hemoglobinuria [marchiafava-micheli]], history of - polymenorrhea [personal history of diseases of genitourinary system], early onset pregnancy prurigo [diseases of the skin and subcutaneous tissue complicating pregnancy, childbirth and the puerperium], nocturnal and diurnal enuresis (disorder) [unspecified urinary incontinence], pnd - paroxysmal nocturnal dyspnoea [dyspnea, unspecified]]</td>\n",
       "    </tr>\n",
       "    <tr>\n",
       "      <th>7</th>\n",
       "      <td>A 28-year-old female with a history of gestational diabetes mellitus diagnosed eight years prior to presentation and subsequent type two diabetes mellitus, associated with an acute hepatitis, and obesity with a body mass index (BMI) of 33.5 kg/m2, presented with a one-week history of polyuria, polydipsia, poor appetite, and vomiting.</td>\n",
       "      <td>poor appetite</td>\n",
       "      <td>PROBLEM</td>\n",
       "      <td>R63.0</td>\n",
       "      <td>[R63.0, P92.9, R43.8, R43.2, E86, R19.6, F52.0, Z72.4, R06.89, Z76.89, R53.1, R45.8, F50.8, R10.9, R45.81]</td>\n",
       "      <td>[poor appetite [anorexia], poor feeding [feeding problem of newborn, unspecified], bad taste in mouth [other disturbances of smell and taste], unpleasant taste in mouth [parageusia], poor fluid intake [volume depletion], bad breath [halitosis], low libido [hypoactive sexual desire disorder], diet poor (finding) [inappropriate diet and eating habits], poor respiratory drive [other abnormalities of breathing], patient dissatisfied with nutrition regime [persons encountering health services in other specified circumstances], general weakness [weakness], diminished pleasure [other symptoms and signs involving emotional state], psychogenic loss of appetite [other eating disorders], stomach discomfort [unspecified abdominal pain], poor self-esteem [low self-esteem]]</td>\n",
       "      <td>F50.0</td>\n",
       "      <td>[F50.0, F50.8, F50.01, K11.7, F50.2, R63.6, R63.0, E86, E16.1, F50.89, E43, P05]</td>\n",
       "      <td>[anorexia nervosa co-occurrent with dangerously low body weight [anorexia nervosa], psychogenic loss of appetite [other eating disorders], dangerously low body weight co-occurrent and due to anorexia nervosa of restricting type (disorder) [anorexia nervosa, restricting type], xerostomia due to dehydration [disturbances of salivary secretion], anorexia nervosa, binge-eating purging type with dangerously low body weight [bulimia nervosa], dangerously low body weight co-occurrent and due to anorexia nervosa of binge-eating purging type [underweight], poor appetite [anorexia], xerostomia due to dehydration (disorder) [volume depletion], idiopathic postprandial hypoglycemia (disorder) [other hypoglycemia], loss of appetite, psychogenic [other specified eating disorder], edema co-occurrent and due to nutritional deficiency (disorder) [unspecified severe protein-calorie malnutrition], disord of nb related to slow fetal growth and fetal malnut [disorders of newborn related to slow fetal growth and fetal malnutrition]]</td>\n",
       "    </tr>\n",
       "    <tr>\n",
       "      <th>8</th>\n",
       "      <td>A 28-year-old female with a history of gestational diabetes mellitus diagnosed eight years prior to presentation and subsequent type two diabetes mellitus, associated with an acute hepatitis, and obesity with a body mass index (BMI) of 33.5 kg/m2, presented with a one-week history of polyuria, polydipsia, poor appetite, and vomiting.</td>\n",
       "      <td>vomiting</td>\n",
       "      <td>PROBLEM</td>\n",
       "      <td>R11.1</td>\n",
       "      <td>[R11.1, R11, R11.10, G43.A1, P92.1, P92.09, G43.A, R11.13, R11.0]</td>\n",
       "      <td>[vomiting [vomiting], intermittent vomiting [nausea and vomiting], vomiting symptoms [vomiting, unspecified], periodic vomiting [cyclical vomiting, in migraine, intractable], finding of vomiting [regurgitation and rumination of newborn], c/o - vomiting [other vomiting of newborn], cyclical vomiting [cyclical vomiting], faeculent vomit o/e [vomiting of fecal matter], nausea [nausea]]</td>\n",
       "      <td>R19.7</td>\n",
       "      <td>[R19.7, P78.3, R11, R11.10, P92.09, G43.A, O21, R11.2, O21.0, T50.90, G43.A1]</td>\n",
       "      <td>[d&amp;v - diarrhea and vomiting [diarrhea, unspecified], d&amp;v - diarrhoea and vomiting [noninfective neonatal diarrhea], d+v - diarrhea and vomiting [nausea and vomiting], d+v - diarrhoea and vomiting [vomiting, unspecified], diarrhea and vomiting [other vomiting of newborn], cyclical vomiting syndrome [cyclical vomiting], excessive vomiting in pregnancy [excessive vomiting in pregnancy], refractory nausea and vomiting [nausea with vomiting, unspecified], excessive pregnancy vomiting [mild hyperemesis gravidarum], n&amp;v - nausea and vomiting [poisoning by, adverse effect of and underdosing of unspecified drugs, medicaments and biological substances], periodic vomiting [cyclical vomiting, in migraine, intractable]]</td>\n",
       "    </tr>\n",
       "    <tr>\n",
       "      <th>9</th>\n",
       "      <td>Two weeks prior to presentation, she was treated with a five-day course of amoxicillin for a respiratory tract infection.</td>\n",
       "      <td>a respiratory tract infection</td>\n",
       "      <td>PROBLEM</td>\n",
       "      <td>J98.8</td>\n",
       "      <td>[J98.8, J06.9, A49.9, J22, J20.9, Z59.3, T17, J04.10, Z13.83, J18.9, P28.9, J39.9, J98.9]</td>\n",
       "      <td>[respiratory tract infection [other specified respiratory disorders], upper respiratory tract infection [acute upper respiratory infection, unspecified], bacterial respiratory infection [bacterial infection, unspecified], acute respiratory infection [unspecified acute lower respiratory infection], bronchial infection [acute bronchitis, unspecified], institution-acquired respiratory infection [problems related to living in residential institution], foreign body in respiratory tract [foreign body in respiratory tract], tracheal infection [acute tracheitis without obstruction], suspected respiratory disease [encounter for screening for respiratory disorder nec], pulmonary infection [pneumonia, unspecified organism], respiratory disease [respiratory condition of newborn, unspecified], disease of upper respiratory tract [disease of upper respiratory tract, unspecified], disease of respiratory system [respiratory disorder, unspecified]]</td>\n",
       "      <td>Z87.0</td>\n",
       "      <td>[Z87.0, Z87.09, J47.0, J98.8, A49.9, J22, Y83.9, Z59.3, J15.8, J15.6, A42.0, J20.2, B20, J40, O36.89]</td>\n",
       "      <td>[history of acute lower respiratory tract infection (situation) [personal history of diseases of the respiratory system], history of acute lower respiratory tract infection [personal history of other diseases of the respiratory system], bronchiectasis with acute lower respiratory infection [bronchiectasis with acute lower respiratory infection], rti - respiratory tract infection [other specified respiratory disorders], bacterial respiratory infection [bacterial infection, unspecified], acute respiratory infections [unspecified acute lower respiratory infection], postoperative lower respiratory tract infection [surgical procedure, unspecified as the cause of abnormal reaction of the patient, or of later complication, without mention of misadventure at the time of the procedure], institution-acquired respiratory infection [problems related to living in residential institution], pneumonia due to aerobic bacteria [pneumonia due to other specified bacteria], pneumonia caused by aerobic bacteria [pneumonia due to other gram-negative bacteria], pneumonia due to anaerobic bacteria [pulmonary actinomycosis], acute bronchitis due to streptococcus [acute bronchitis due to streptococcus], recurrent lower respiratory tract infection [human immunodeficiency virus [hiv] disease], acute infective bronchitis [bronchitis, not specified as acute or chronic], antibiotic given for suspected neonatal sepsis [maternal care for other specified fetal problems]]</td>\n",
       "    </tr>\n",
       "    <tr>\n",
       "      <th>10</th>\n",
       "      <td>Physical examination on presentation was significant for dry oral mucosa; significantly, her abdominal examination was benign with no tenderness or guarding.</td>\n",
       "      <td>dry oral mucosa</td>\n",
       "      <td>PROBLEM</td>\n",
       "      <td>K13.0</td>\n",
       "      <td>[K13.0, L85.3, R68.2, J39.2, L67.8, M35.9, R23.8, R23.4, H04.1, K14.8, J34.89, R19.5]</td>\n",
       "      <td>[dry lips [diseases of lips], dry skin [xerosis cutis], dry mouth, unspecified [dry mouth, unspecified], dry throat [other diseases of pharynx], dry hair [other hair color and hair shaft abnormalities], dry mouth [systemic involvement of connective tissue, unspecified], dry periwound skin [other skin changes], dry skin (finding) [changes in skin texture], dry eyes [other disorders of lacrimal gland], on examination - dry tongue [other diseases of tongue], nasal mucosa dry (finding) [other specified disorders of nose and nasal sinuses], dry faeces [other fecal abnormalities]]</td>\n",
       "      <td>R23.8</td>\n",
       "      <td>[R23.8, K13.0, K14.8, J39.2, Z01.89, R68.2, M35.9, N90.8, J34.89, L85.3, R23.4]</td>\n",
       "      <td>[on examination - dry skin [other skin changes], on examination - dry lips [diseases of lips], on examination - dry tongue [other diseases of tongue], dry throat [other diseases of pharynx], nose examination - normal (finding) [encounter for other specified special examinations], dry mouth, unspecified [dry mouth, unspecified], dry mouth [systemic involvement of connective tissue, unspecified], vulval dryness [other specified noninflammatory disorders of vulva and perineum], nasal mucosa dry [other specified disorders of nose and nasal sinuses], c/o: dry skin [xerosis cutis], perineum dry [changes in skin texture]]</td>\n",
       "    </tr>\n",
       "    <tr>\n",
       "      <th>11</th>\n",
       "      <td>Physical examination on presentation was significant for dry oral mucosa; significantly, her abdominal examination was benign with no tenderness or guarding.</td>\n",
       "      <td>tenderness</td>\n",
       "      <td>PROBLEM</td>\n",
       "      <td>R52</td>\n",
       "      <td>[R52, R51, M25.56, L90.5, J34.8, R20.8, Z65.8, F60.2, O36.89, M79.60, R10.82, M79.1, I89.9, R45.8, M25.51, R45.86, L29.8]</td>\n",
       "      <td>[tenderness (finding) [pain, unspecified], facial tenderness (finding) [headache], joint tenderness (finding) [pain in knee], tender scar (finding) [scar conditions and fibrosis of skin], nose tender (finding) [other specified disorders of nose and nasal sinuses], skin tenderness (finding) [other disturbances of skin sensation], callous character [other specified problems related to psychosocial circumstances], callous character (finding) [antisocial personality disorder], asthenia (finding) [maternal care for other specified fetal problems], tenderness in limb [pain in limb, unspecified], cva tenderness [rebound abdominal tenderness], tender muscles [myalgia], tender gland [noninfective disorder of lymphatic vessels and lymph nodes, unspecified], tenseness [other symptoms and signs involving emotional state], tenderness of upper limb (finding) [pain in shoulder], emotional lability [emotional lability], itchy [other pruritus]]</td>\n",
       "      <td>R44.8</td>\n",
       "      <td>[R44.8, R58, L20.83, G90.50, R20.0, R52, R68.83, R11.10, M77.9, R10.2, N94.1, P54.5, N90.8, R10.819, G40.40, R49.8, G58.8, R60.9, R29.2]</td>\n",
       "      <td>[sounds seem unnaturally clear [other symptoms and signs involving general sensations and perceptions], easy bruising (finding) [hemorrhage, not elsewhere classified], non-pitting edema (finding) [infantile (acute) (chronic) eczema], sympathetically independent pain (finding) [complex regional pain syndrome i, unspecified], no sensitivity to pain (finding) [anesthesia of skin], o/e - tenderness [pain, unspecified], chills (without fever) [chills (without fever)], effortless vomiting (finding) [vomiting, unspecified], enthesopathy, unspecified [enthesopathy, unspecified], non-cyclic pelvic pain (finding) [pelvic and perineal pain], dyspareunia - non-psychogenic (finding) [dyspareunia], easy bruising [neonatal cutaneous hemorrhage], vulvar dryness [other specified noninflammatory disorders of vulva and perineum], abdominal tenderness, unspecified site [abdominal tenderness, unspecified site], petit mal status, non-refractory [other generalized epilepsy and epileptic syndromes, not intractable], eunuchoid voice (finding) [other voice and resonance disorders], notalgia paresthetica [other specified mononeuropathies], firm nonpitting edema (finding) [edema, unspecified], on examination - suprapat. jerk absent [abnormal reflex]]</td>\n",
       "    </tr>\n",
       "    <tr>\n",
       "      <th>12</th>\n",
       "      <td>Physical examination on presentation was significant for dry oral mucosa; significantly, her abdominal examination was benign with no tenderness or guarding.</td>\n",
       "      <td>guarding</td>\n",
       "      <td>PROBLEM</td>\n",
       "      <td>M62.83</td>\n",
       "      <td>[M62.83, Z91.89, O98.7, H52.7, R29.8, Z71.0, F99, F34.0, T74.9, R54, R68.89, R45.89, Z78.9, R46.89, R45.2, R44.2, Z74.8]</td>\n",
       "      <td>[guarding [muscle spasm], protective alteration [other specified personal risk factors, not elsewhere classified], aids [human immunodeficiency virus [hiv] disease complicating pregnancy, childbirth and the puerperium], focusing [unspecified disorder of refraction], straining [other symptoms and signs involving the nervous and musculoskeletal systems], reassurance given [person encountering health services to consult on behalf of another person], suspicion [mental disorder, not otherwise specified], emotionality [cyclothymic disorder], caretaking [unspecified maltreatment, confirmed], weariness [age-related physical debility], relieving factor [other general symptoms and signs], sense of personal capacity [other symptoms and signs involving emotional state], does maintain a position [other specified health status], posturing behavior [other symptoms and signs involving appearance and behavior], worrying [unhappiness], illusions [other hallucinations], functionally dependent (finding) [other problems related to care provider dependency]]</td>\n",
       "      <td>Z65.3</td>\n",
       "      <td>[Z65.3, L20.83, L74.4, R45.89, R06.89, R19.8, R46.8, K14.8, R09.89, Z01.00, R58, K13.0, R68.89, R29.2, R23.8]</td>\n",
       "      <td>[pleads not guilty (finding) [problems related to other legal circumstances], non-pitting edema (finding) [infantile (acute) (chronic) eczema], absence of sweating (finding) [anhidrosis], euthymic mood (finding) [other symptoms and signs involving emotional state], does not take deep breaths (finding) [other abnormalities of breathing], on examination - no intra-abdominal movement (context-dependent category) [other specified symptoms and signs involving the digestive system and abdomen], calm character (finding) [other symptoms and signs involving appearance and behavior], on examination - dry tongue (finding) [other diseases of tongue], unable to cough (finding) [other specified symptoms and signs involving the circulatory and respiratory systems], pupil reactions normal (finding) [encounter for examination of eyes and vision without abnormal findings], easy bruising (finding) [hemorrhage, not elsewhere classified], on examination - dry lips [diseases of lips], symptom trivial (context-dependent category) [other general symptoms and signs], on examination - suprapat. jerk absent [abnormal reflex], on examination - dry skin (finding) [other skin changes]]</td>\n",
       "    </tr>\n",
       "    <tr>\n",
       "      <th>13</th>\n",
       "      <td>Serum acetone levels could not be assessed as blood samples kept hemolyzing due to significant lipemia.</td>\n",
       "      <td>hemolyzing</td>\n",
       "      <td>PROBLEM</td>\n",
       "      <td>O04.6</td>\n",
       "      <td>[O04.6, R71.8, R89.8, T82.89, H44.8, D75.9, D75.8, D59.4, O03.6, R79.89, R19.5, R31, D64.8, N02.9, R31.9]</td>\n",
       "      <td>[hemolysis [delayed or excessive hemorrhage following (induced) termination of pregnancy], hemolysis (finding) [other abnormality of red blood cells], sample hemolyzed [other abnormal findings in specimens from other organs, systems and tissues], haemolysis [other specified complication of cardiac and vascular prosthetic devices, implants and grafts], hematopsia [other disorders of globe], extravascular hemolysis [disease of blood and blood-forming organs, unspecified], hemocytophagia [other specified diseases of blood and blood-forming organs], mechanical hemolytic anemia [other nonautoimmune hemolytic anemias], intravascular haemolysis [delayed or excessive hemorrhage following complete or unspecified spontaneous abortion], methemalbuminaemia [other specified abnormal findings of blood chemistry], hematochezia [other fecal abnormalities], clot haematuria [hematuria], dilutional anemia [other specified anemias], microscopic haematuria [recurrent and persistent hematuria with unspecified morphologic changes], chemical haematuria [hematuria, unspecified]]</td>\n",
       "      <td>O04.6</td>\n",
       "      <td>[O04.6, T82.89, R89.8, D59.4, D74.9, R71.8, D75.9, D75.829, R89.5, T80.91, R58, T80.910D, D59.9, T80.910A, D59.2]</td>\n",
       "      <td>[hemolysis [delayed or excessive hemorrhage following (induced) termination of pregnancy], haemolysis [other specified complication of cardiac and vascular prosthetic devices, implants and grafts], sample hemolyzed [other abnormal findings in specimens from other organs, systems and tissues], mechanical hemolytic anemia [other nonautoimmune hemolytic anemias], methemoglobinemia, unspecified [methemoglobinemia, unspecified], extravascular haemolysis [other abnormality of red blood cells], extravascular hemolysis [disease of blood and blood-forming organs, unspecified], heparin-induced thrombocytopenia, unspecified [heparin-induced thrombocytopenia, unspecified], gamma haemolysis [abnormal microbiological findings in specimens from other organs, systems and tissues], hemolytic transfusion reaction (disorder) [hemolytic transfusion reaction, unspecified incompatibility], ascorbic acid deficiency with hemorrhage (disorder) [hemorrhage, not elsewhere classified], acute hemolytic transfs react, unsp incompatibility, subs [acute hemolytic transfusion reaction, unspecified incompatibility, subsequent encounter], acquired hemolytic anemia, unspecified [acquired hemolytic anemia, unspecified], acute hemolytic transfs react, unsp incompatibility, init [acute hemolytic transfusion reaction, unspecified incompatibility, initial encounter], drug-induced nonautoimmune hemolytic anemia [drug-induced nonautoimmune hemolytic anemia]]</td>\n",
       "    </tr>\n",
       "    <tr>\n",
       "      <th>14</th>\n",
       "      <td>Serum acetone levels could not be assessed as blood samples kept hemolyzing due to significant lipemia.</td>\n",
       "      <td>significant lipemia</td>\n",
       "      <td>PROBLEM</td>\n",
       "      <td>E78.5</td>\n",
       "      <td>[E78.5, R79.8, Z83.49, E75.6, R74.8, R89.8, J62.8, D72.82, Z86.39, E78.4, E10.69, E78.41, Z86.3, E78.6]</td>\n",
       "      <td>[lipidaemia [hyperlipidemia, unspecified], serum lipids high (finding) [other specified abnormal findings of blood chemistry], fh: raised blood lipids [family history of other endocrine, nutritional and metabolic diseases], lipidoses [lipid storage disorder, unspecified], high lipase level in serum [abnormal levels of other serum enzymes], sample grossly lipaemic [other abnormal findings in specimens from other organs, systems and tissues], liparitosis [pneumoconiosis due to other dust containing silica], leucocyte count abnormal [elevated white blood cell count], h/o: raised blood lipids [personal history of other endocrine, nutritional and metabolic disease], chemically induced hyperlipidaemia [other hyperlipidemia], secondary combined hyperlipidaemia [type 1 diabetes mellitus with other specified complication], elevated lipoprotein(a) [elevated lipoprotein(a)], history of - raised blood lipids (situation) [personal history of endocrine, nutritional and metabolic diseases], endogenous hyperlipidaemia [lipoprotein deficiency]]</td>\n",
       "      <td>E75.5</td>\n",
       "      <td>[E75.5, R89.8, D74.9, E75.4, D59.4, Z83.438, D75.829, T46.3X, E75.6, Z83.43, R74.8, T82.89, R89.5, O04.6, D59.9, M79.3, O14.20]</td>\n",
       "      <td>[chemically-induced lipidosis (disorder) [other lipid storage disorders], sample grossly lipaemic [other abnormal findings in specimens from other organs, systems and tissues], methemoglobinemia, unspecified [methemoglobinemia, unspecified], cerebral lipidosis (disorder) [neuronal ceroid lipofuscinosis], toxic hemolytic anemia [other nonautoimmune hemolytic anemias], fam hx of disord of lipoprotein metab and other lipidemia [family history of other disorder of lipoprotein metabolism and other lipidemia], heparin-induced thrombocytopenia, unspecified [heparin-induced thrombocytopenia, unspecified], drug-induced methemoglobinemia (disorder) [poisoning by, adverse effect of and underdosing of coronary vasodilators], lipidosis (disorder) [lipid storage disorder, unspecified], fam hx of disord of lipoprotein metab and other lipidemias [family history of other disorder of lipoprotein metabolism and other lipidemias], high lipase level in serum [abnormal levels of other serum enzymes], haemolysis [other specified complication of cardiac and vascular prosthetic devices, implants and grafts], alpha haemolysis [abnormal microbiological findings in specimens from other organs, systems and tissues], hemolysis [delayed or excessive hemorrhage following (induced) termination of pregnancy], acquired hemolytic anemia, unspecified [acquired hemolytic anemia, unspecified], panniculitis induced localized lipodystrophy [panniculitis, unspecified], haemolysis-elevated liver enzymes-low platelet count syndrome [hellp syndrome (hellp), unspecified trimester]]</td>\n",
       "    </tr>\n",
       "  </tbody>\n",
       "</table>\n",
       "</div>"
      ]
     },
     "metadata": {
      "application/vnd.databricks.v1+output": {
       "addedWidgets": {},
       "arguments": {},
       "data": "<div>\n<style scoped>\n    .dataframe tbody tr th:only-of-type {\n        vertical-align: middle;\n    }\n\n    .dataframe tbody tr th {\n        vertical-align: top;\n    }\n\n    .dataframe thead th {\n        text-align: right;\n    }\n</style>\n<table border=\"1\" class=\"dataframe\">\n  <thead>\n    <tr style=\"text-align: right;\">\n      <th></th>\n      <th>sentence_all</th>\n      <th>ner_chunk</th>\n      <th>entity</th>\n      <th>icd10_code</th>\n      <th>all_codes</th>\n      <th>resolutions</th>\n      <th>icd10_code_SCE</th>\n      <th>all_codes_SCE</th>\n      <th>resolutions_SCE</th>\n    </tr>\n  </thead>\n  <tbody>\n    <tr>\n      <th>0</th>\n      <td>A 28-year-old female with a history of gestational diabetes mellitus diagnosed eight years prior to presentation and subsequent type two diabetes mellitus, associated with an acute hepatitis, and obesity with a body mass index (BMI) of 33.5 kg/m2, presented with a one-week history of polyuria, polydipsia, poor appetite, and vomiting.</td>\n      <td>gestational diabetes mellitus</td>\n      <td>PROBLEM</td>\n      <td>O24.4</td>\n      <td>[O24.4, O24.41, O24.43, Z86.32, Z87.5, O24.31, O24.11, O24.1, O24.81]</td>\n      <td>[gestational diabetes mellitus [gestational diabetes mellitus], gestational diabetes mellitus (disorder) [gestational diabetes mellitus in pregnancy], postpartum gestational diabetes mellitus [gestational diabetes mellitus in the puerperium], history of gestational diabetes mellitus [personal history of gestational diabetes], history of gestational diabetes mellitus (situation) [personal history of complications of pregnancy, childbirth and the puerperium], pre-existing diabetes mellitus in pregnancy [unspecified pre-existing diabetes mellitus in pregnancy], pre-existing diabetes mellitus in pregnancy (disorder) [pre-existing type 2 diabetes mellitus, in pregnancy], pre-existing type 2 diabetes mellitus in pregnancy [pre-existing type 2 diabetes mellitus, in pregnancy, childbirth and the puerperium], other pre-existing diabetes mellitus in pregnancy [other pre-existing diabetes mellitus in pregnancy]]</td>\n      <td>O24.4</td>\n      <td>[O24.4, O24.43, O24.41, O24.434, O24.42, O24.414, O24.13]</td>\n      <td>[gestational diabetes mellitus, class d [gestational diabetes mellitus], gestational diabetes mellitus in the puerperium [gestational diabetes mellitus in the puerperium], maternal gestational diabetes mellitus [gestational diabetes mellitus in pregnancy], gestational diabetes mellitus in the puerperium, insulin controlled [gestational diabetes mellitus in the puerperium, insulin controlled], gestational diabetes mellitus in childbirth [gestational diabetes mellitus in childbirth], gestational diabetes mellitus in pregnancy, insulin controlled [gestational diabetes mellitus in pregnancy, insulin controlled], pre-existing type 2 diabetes mellitus, in the puerperium [pre-existing type 2 diabetes mellitus, in the puerperium]]</td>\n    </tr>\n    <tr>\n      <th>1</th>\n      <td>A 28-year-old female with a history of gestational diabetes mellitus diagnosed eight years prior to presentation and subsequent type two diabetes mellitus, associated with an acute hepatitis, and obesity with a body mass index (BMI) of 33.5 kg/m2, presented with a one-week history of polyuria, polydipsia, poor appetite, and vomiting.</td>\n      <td>subsequent type two diabetes mellitus</td>\n      <td>PROBLEM</td>\n      <td>O24.11</td>\n      <td>[O24.11, E11.8, E11, E13.9, E11.9, E11.3, E11.44, Z86.3, Z86.39, E11.32, E11.43, E11.5]</td>\n      <td>[pre-existing type 2 diabetes mellitus [pre-existing type 2 diabetes mellitus, in pregnancy], disorder associated with type 2 diabetes mellitus [type 2 diabetes mellitus with unspecified complications], type 2 diabetes mellitus [type 2 diabetes mellitus], secondary diabetes mellitus [other specified diabetes mellitus without complications], diabetes mellitus type 2 [type 2 diabetes mellitus without complications], disorder of eye due to type 2 diabetes mellitus [type 2 diabetes mellitus with ophthalmic complications], disorder of nervous system due to type 2 diabetes mellitus [type 2 diabetes mellitus with diabetic amyotrophy], history of diabetes mellitus type 2 (situation) [personal history of endocrine, nutritional and metabolic diseases], history of diabetes mellitus type 2 [personal history of other endocrine, nutritional and metabolic disease], secondary endocrine diabetes mellitus [type 2 diabetes mellitus with mild nonproliferative diabetic retinopathy], neurological disorder with type 2 diabetes mellitus [type 2 diabetes mellitus with diabetic autonomic (poly)neuropathy], peripheral circulatory disorder due to type 2 diabetes mellitus [type 2 diabetes mellitus with circulatory complications]]</td>\n      <td>O24.13</td>\n      <td>[O24.13, E11.6, E11.43, O24.11, E11.10, E11.0, O24.12, E11.4, E11.69, E11.1, O24.1, K31.8, E11.33, O24.4, E11.2]</td>\n      <td>[pre-existing type 2 diabetes mellitus, in the puerperium [pre-existing type 2 diabetes mellitus, in the puerperium], gastroparesis co-occurrent and due to type 2 diabetes mellitus [type 2 diabetes mellitus with other specified complications], gastroparesis with type 2 diabetes mellitus [type 2 diabetes mellitus with diabetic autonomic (poly)neuropathy], pregnancy and type 2 diabetes mellitus [pre-existing type 2 diabetes mellitus, in pregnancy], ketoacidosis due to type 2 diabetes mellitus [type 2 diabetes mellitus with ketoacidosis without coma], hyperosmolar coma due to type 2 diabetes mellitus [type 2 diabetes mellitus with hyperosmolarity], pre-existing type 2 diabetes mellitus, in childbirth [pre-existing type 2 diabetes mellitus, in childbirth], cranial nerve palsy co-occurrent and due to type 2 diabetes mellitus [type 2 diabetes mellitus with neurological complications], angina due to type 2 diabetes mellitus [type 2 diabetes mellitus with other specified complication], ketoacidosis due to type 2 diabetes mellitus (disorder) [type 2 diabetes mellitus with ketoacidosis], pre-existing type 2 diabetes mellitus in pregnancy [pre-existing type 2 diabetes mellitus, in pregnancy, childbirth and the puerperium], diabetic gastroparesis associated with type 2 diabetes mellitus [other specified diseases of stomach and duodenum], moderate nonproliferative retinopathy co-occurrent and due to type 2 diabetes mellitus [type 2 diabetes mellitus with moderate nonproliferative diabetic retinopathy], gestational diabetes mellitus, class a&gt;2&lt; [gestational diabetes mellitus], persistent microalbuminuria due to type 2 diabetes mellitus [type 2 diabetes mellitus with kidney complications]]</td>\n    </tr>\n    <tr>\n      <th>2</th>\n      <td>A 28-year-old female with a history of gestational diabetes mellitus diagnosed eight years prior to presentation and subsequent type two diabetes mellitus, associated with an acute hepatitis, and obesity with a body mass index (BMI) of 33.5 kg/m2, presented with a one-week history of polyuria, polydipsia, poor appetite, and vomiting.</td>\n      <td>an acute hepatitis</td>\n      <td>PROBLEM</td>\n      <td>B15</td>\n      <td>[B15, K72.0, B17.9, B17.2, Z03.89, B15.9, K75.2, K71.2, B19.9, B16, K70.1, B16.9]</td>\n      <td>[acute hepatitis a [acute hepatitis a], acute hepatitis [acute and subacute hepatic failure], acute infectious hepatitis [acute viral hepatitis, unspecified], acute hepatitis e [acute hepatitis e], acute infectious hepatitis suspected [encounter for observation for other suspected diseases and conditions ruled out], acute type a viral hepatitis [hepatitis a without hepatic coma], acute focal hepatitis [nonspecific reactive hepatitis], toxic liver disease with acute hepatitis [toxic liver disease with acute hepatitis], fulminant hepatitis [unspecified viral hepatitis without hepatic coma], acute hepatitis b [acute hepatitis b], acute alcoholic hepatitis [alcoholic hepatitis], acute fulminating viral hepatitis [acute hepatitis b without delta-agent and without hepatic coma]]</td>\n      <td>B16.9</td>\n      <td>[B16.9, B15.9, B16.2, B17.9, B16.0, E80.21, K71.2, O26.6, B18.1, F10.98, B15.0]</td>\n      <td>[acute fulminating type b viral hepatitis (disorder) [acute hepatitis b without delta-agent and without hepatic coma], acute fulminating type a viral hepatitis (disorder) [hepatitis a without hepatic coma], hepatic coma due to acute hepatitis b [acute hepatitis b without delta-agent with hepatic coma], acute fulminating viral hepatitis (disorder) [acute viral hepatitis, unspecified], acute viral hepatitis b with hepatic coma [acute hepatitis b with delta-agent with hepatic coma], acute intermittent (hepatic) porphyria [acute intermittent (hepatic) porphyria], toxic liver disease with acute hepatitis (disorder) [toxic liver disease with acute hepatitis], acute fatty liver of pregnancy [liver and biliary tract disorders in pregnancy, childbirth and the puerperium], chronic viral hepatitis b with hepatic coma [chronic viral hepatitis b without delta-agent], ketoacidosis due to acute alcoholic intoxication [alcohol use, unspecified with other alcohol-induced disorders], viral hepatitis a with hepatic coma (disorder) [hepatitis a with hepatic coma]]</td>\n    </tr>\n    <tr>\n      <th>3</th>\n      <td>A 28-year-old female with a history of gestational diabetes mellitus diagnosed eight years prior to presentation and subsequent type two diabetes mellitus, associated with an acute hepatitis, and obesity with a body mass index (BMI) of 33.5 kg/m2, presented with a one-week history of polyuria, polydipsia, poor appetite, and vomiting.</td>\n      <td>obesity</td>\n      <td>PROBLEM</td>\n      <td>E66.9</td>\n      <td>[E66.9, E66.8, Z68.41, Q13.0, E66, E66.01, Z86.39, E34.9, H35.50, Z83.49, Q55.62, E66.3]</td>\n      <td>[obesity [obesity, unspecified], abdominal obesity [other obesity], obese [body mass index [bmi] 40.0-44.9, adult], central obesity [coloboma of iris], overweight and obesity [overweight and obesity], morbid obesity [morbid (severe) obesity due to excess calories], h/o: obesity [personal history of other endocrine, nutritional and metabolic disease], severe obesity [endocrine disorder, unspecified], centripetal obesity [unspecified hereditary retinal dystrophy], fh: obesity [family history of other endocrine, nutritional and metabolic diseases], truncal obesity [hypoplasia of penis], overweight [overweight]]</td>\n      <td>O99.21</td>\n      <td>[O99.21, E23.3, E66.8, E34.9, O26.00, E66.2, E66.9, E23.6, R73.02, E66.01, O99.215, R73.0, N91.1]</td>\n      <td>[severe obesity complicating pregnancy [obesity complicating pregnancy, childbirth, and the puerperium], rapid-onset childhood obesity, hypothalamic dysfunction, hypoventilation, autonomic dysregulation syndrome [hypothalamic dysfunction, not elsewhere classified], gynaecoid obesity [other obesity], severe obesity [endocrine disorder, unspecified], maternal obesity syndrome [excessive weight gain in pregnancy, unspecified trimester], rapid-onset childhood obesity, hypothalamic dysfunction, hypoventilation, autonomic dysregulation syndrome (disorder) [morbid (severe) obesity with alveolar hypoventilation], lifelong obesity [obesity, unspecified], hypothalamic infantilism with obesity syndrome [other disorders of pituitary gland], impaired glucose tolerance in obese [impaired glucose tolerance (oral)], morbid (severe) obesity due to excess calories [morbid (severe) obesity due to excess calories], obesity complicating the puerperium [obesity complicating the puerperium], impaired glucose tolerance in obese (disorder) [abnormal glucose], amenorrhea associated with obesity [secondary amenorrhea]]</td>\n    </tr>\n    <tr>\n      <th>4</th>\n      <td>A 28-year-old female with a history of gestational diabetes mellitus diagnosed eight years prior to presentation and subsequent type two diabetes mellitus, associated with an acute hepatitis, and obesity with a body mass index (BMI) of 33.5 kg/m2, presented with a one-week history of polyuria, polydipsia, poor appetite, and vomiting.</td>\n      <td>a body mass index</td>\n      <td>PROBLEM</td>\n      <td>Z68.41</td>\n      <td>[Z68.41, E66.9, R22.9, Z68.1, R22.3, R22.1, Z68, R22.2, R22.0, R41.89, M62.58, P29.9, R19.00, R89.8, M21.70, R19.0, M21.80]</td>\n      <td>[finding of body mass index [body mass index [bmi] 40.0-44.9, adult], observation of body mass index [obesity, unspecified], mass of body region [localized swelling, mass and lump, unspecified], finding of body mass index (finding) [body mass index [bmi] 19.9 or less, adult], mass of upper limb [localized swelling, mass and lump, upper limb], head and neck mass [localized swelling, mass and lump, neck], body mass index [bmi] [body mass index [bmi]], mass of trunk [localized swelling, mass and lump, trunk], mass of head [localized swelling, mass and lump, head], preoccupation with body size [other symptoms and signs involving cognitive functions and awareness], finding of size of upper limb [muscle wasting and atrophy, not elsewhere classified, other site], mass of cardiovascular structure [cardiovascular disorder originating in the perinatal period, unspecified], mass of abdominal cavity structure [intra-abdominal and pelvic swelling, mass and lump, unspecified site], increase in circumference [other abnormal findings in specimens from other organs, systems and tissues], finding of proportion of upper limb [unequal limb length (acquired), unspecified site], visible abdominal mass [intra-abdominal and pelvic swelling, mass and lump], observation of size of upper limb [other specified acquired deformities of unspecified limb]]</td>\n      <td>E13.00</td>\n      <td>[E13.00, O21.1, R73.0, E11.0, O24.1, O99.21, O24.41, O99.2, R73.02, P90, O99.8, N91.1, O24.0, E09.00, E09.0, E66.8, O99.215, E66.2, E23.3]</td>\n      <td>[hyperosmolarity due to secondary diabetes mellitus [other specified diabetes mellitus with hyperosmolarity without nonketotic hyperglycemic-hyperosmolar coma (nkhhc)], hyperemesis gravidarum with metabolic disturbance [hyperemesis gravidarum with metabolic disturbance], impaired glucose tolerance in obese (disorder) [abnormal glucose], type 2 diabetes mellitus with hyperosmolarity [type 2 diabetes mellitus with hyperosmolarity], pre-existing type 2 diabetes mellitus, in pregnancy, childbirth and the puerperium [pre-existing type 2 diabetes mellitus, in pregnancy, childbirth and the puerperium], severe obesity complicating pregnancy [obesity complicating pregnancy, childbirth, and the puerperium], gestational diabetes [gestational diabetes mellitus in pregnancy], hyperglycemic disorder in pregnancy [endocrine, nutritional and metabolic diseases complicating pregnancy, childbirth and the puerperium], impaired glucose tolerance in obese [impaired glucose tolerance (oral)], obesity by age of onset [convulsions of newborn], pregnancy and impaired glucose tolerance [other specified diseases and conditions complicating pregnancy, childbirth and the puerperium], amenorrhoea associated with obesity [secondary amenorrhea], pre-existing type 1 diabetes mellitus, in pregnancy, childbirth and the puerperium [pre-existing type 1 diabetes mellitus, in pregnancy, childbirth and the puerperium], hyperosmolarity due to drug induced diabetes mellitus [drug or chemical induced diabetes mellitus with hyperosmolarity without nonketotic hyperglycemic-hyperosmolar coma (nkhhc)], drug or chemical induced diabetes mellitus w hyperosmolarity [drug or chemical induced diabetes mellitus with hyperosmolarity], obesity by age of onset (disorder) [other obesity], obesity complicating the puerperium [obesity complicating the puerperium], rapid-onset childhood obesity, hypothalamic dysfunction, hypoventilation, autonomic dysregulation syndrome (disorder) [morbid (severe) obesity with alveolar hypoventilation], rapid-onset childhood obesity, hypothalamic dysfunction, hypoventilation, autonomic dysregulation syndrome [hypothalamic dysfunction, not elsewhere classified]]</td>\n    </tr>\n    <tr>\n      <th>5</th>\n      <td>A 28-year-old female with a history of gestational diabetes mellitus diagnosed eight years prior to presentation and subsequent type two diabetes mellitus, associated with an acute hepatitis, and obesity with a body mass index (BMI) of 33.5 kg/m2, presented with a one-week history of polyuria, polydipsia, poor appetite, and vomiting.</td>\n      <td>polyuria</td>\n      <td>PROBLEM</td>\n      <td>R35</td>\n      <td>[R35, R35.81, R35.8, E23.2, R31, R35.0, R82.99, N40.1, E72.3, O04.8, R30.0, R31.9, E72.01, R80.9, E88.8, R80.8, N03.0, P96.0, R80, N02.6]</td>\n      <td>[polyuria [polyuria], nocturnal polyuria [nocturnal polyuria], polyuric state [other polyuria], polyuric state (disorder) [diabetes insipidus], hematuria [hematuria], micturition frequency and polyuria [frequency of micturition], uricosuria [other abnormal findings in urine], pollakiuria [benign prostatic hyperplasia with lower urinary tract symptoms], saccharopinuria [disorders of lysine and hydroxylysine metabolism], oligouria [(induced) termination of pregnancy with other and unspecified complications], dysuria [dysuria], hematuria syndrome [hematuria, unspecified], cystinuria [cystinuria], cyclic proteinuria [proteinuria, unspecified], sialuria [other specified metabolic disorders], paroxysmal proteinuria [other proteinuria], renal hematuria (disorder) [chronic nephritic syndrome with minor glomerular abnormality], oliguria and anuria [congenital renal failure], proteinuria [proteinuria], persistent hematuria (disorder) [recurrent and persistent hematuria with dense deposit disease]]</td>\n      <td>R35</td>\n      <td>[R35, D59.5, R35.81, O13.9, O12.2, D68.69, O13.3, O12.22, O13.2, O12.25, O12.23, O12.20, O14.9]</td>\n      <td>[polyuria [polyuria], pnh - paroxysmal nocturnal hemoglobinuria [paroxysmal nocturnal hemoglobinuria [marchiafava-micheli]], nocturnal polyuria [nocturnal polyuria], gestational htn w/o significant proteinuria, unsp trimester [gestational [pregnancy-induced] hypertension without significant proteinuria, unspecified trimester], gestational oedema with proteinuria [gestational edema with proteinuria], thrombophilia due to paroxysmal nocturnal hemoglobinuria [other thrombophilia], gestational htn w/o significant proteinuria, third trimester [gestational [pregnancy-induced] hypertension without significant proteinuria, third trimester], gestational edema with proteinuria, second trimester [gestational edema with proteinuria, second trimester], gestatnl htn w/o significant proteinuria, second trimester [gestational [pregnancy-induced] hypertension without significant proteinuria, second trimester], gestational edema with proteinuria, comp the puerperium [gestational edema with proteinuria, complicating the puerperium], gestational edema with proteinuria, third trimester [gestational edema with proteinuria, third trimester], gestational edema with proteinuria, unspecified trimester [gestational edema with proteinuria, unspecified trimester], eph - edema, proteinuria and hypertension of pregnancy [unspecified pre-eclampsia]]</td>\n    </tr>\n    <tr>\n      <th>6</th>\n      <td>A 28-year-old female with a history of gestational diabetes mellitus diagnosed eight years prior to presentation and subsequent type two diabetes mellitus, associated with an acute hepatitis, and obesity with a body mass index (BMI) of 33.5 kg/m2, presented with a one-week history of polyuria, polydipsia, poor appetite, and vomiting.</td>\n      <td>polydipsia</td>\n      <td>PROBLEM</td>\n      <td>R63.1</td>\n      <td>[R63.1, F63.89, E23.2, F63.9, O40, G47.5, M79.89, R63.2, R06.1, H53.8, I44.2, G47.9, G47.8, G47.1, Q30.8, I45.9, R00.2, R06.81, G47.54, R06.8, M35.3]</td>\n      <td>[polydipsia [polydipsia], psychogenic polydipsia [other impulse disorders], primary polydipsia [diabetes insipidus], psychogenic polydipsia (disorder) [impulse disorder, unspecified], polyhydramnios [polyhydramnios], parasomnia [parasomnia], polyalgia [other specified soft tissue disorders], polyphagia [polyphagia], biphasic stridor [stridor], oscillopsia [other visual disturbances], parasystole (disorder) [atrioventricular block, complete], dyssomnia [sleep disorder, unspecified], parasomnia (disorder) [other sleep disorders], hypersomnia (disorder) [hypersomnia], polyrrhinia [other congenital malformations of nose], palpitations - irregular [conduction disorder, unspecified], intermittent palpitations [palpitations], vagal apnea [apnea, not elsewhere classified], secondary parasomnia [parasomnia in conditions classified elsewhere], vagal apnoea [other abnormalities of breathing], polymyalgia [polymyalgia rheumatica]]</td>\n      <td>F63.89</td>\n      <td>[F63.89, R63.1, E23.2, F63.9, G47.3, O99.89, E87.0, A69.1, O40, G47.0, R06.0, E80.6, Z87.42, D59.5, Z87.4, O99.7, R32, R06.00]</td>\n      <td>[psychogenic polydipsia [other impulse disorders], polydipsia [polydipsia], primary polydipsia [diabetes insipidus], psychogenic polydipsia (disorder) [impulse disorder, unspecified], autoimmune encephalopathy with parasomnia and obstructive sleep apnoea [sleep apnea], polyhydramnios (disorder) [other specified diseases and conditions complicating pregnancy, childbirth and the puerperium], hypodipsia/adipsia [hyperosmolality and hypernatremia], vincent angina - pharyngitis [other vincent's infections], polyhydramnios [polyhydramnios], insomnia co-occurrent and due to nocturnal myoclonus [insomnia], pnd - paroxysmal nocturnal dyspnea [dyspnea], cyclic premenstrual unconjugated hyperbilirubinemia (disorder) [other disorders of bilirubin metabolism], history of polymenorrhea [personal history of other diseases of the female genital tract], pnh - paroxysmal nocturnal hemoglobinuria [paroxysmal nocturnal hemoglobinuria [marchiafava-micheli]], history of - polymenorrhea [personal history of diseases of genitourinary system], early onset pregnancy prurigo [diseases of the skin and subcutaneous tissue complicating pregnancy, childbirth and the puerperium], nocturnal and diurnal enuresis (disorder) [unspecified urinary incontinence], pnd - paroxysmal nocturnal dyspnoea [dyspnea, unspecified]]</td>\n    </tr>\n    <tr>\n      <th>7</th>\n      <td>A 28-year-old female with a history of gestational diabetes mellitus diagnosed eight years prior to presentation and subsequent type two diabetes mellitus, associated with an acute hepatitis, and obesity with a body mass index (BMI) of 33.5 kg/m2, presented with a one-week history of polyuria, polydipsia, poor appetite, and vomiting.</td>\n      <td>poor appetite</td>\n      <td>PROBLEM</td>\n      <td>R63.0</td>\n      <td>[R63.0, P92.9, R43.8, R43.2, E86, R19.6, F52.0, Z72.4, R06.89, Z76.89, R53.1, R45.8, F50.8, R10.9, R45.81]</td>\n      <td>[poor appetite [anorexia], poor feeding [feeding problem of newborn, unspecified], bad taste in mouth [other disturbances of smell and taste], unpleasant taste in mouth [parageusia], poor fluid intake [volume depletion], bad breath [halitosis], low libido [hypoactive sexual desire disorder], diet poor (finding) [inappropriate diet and eating habits], poor respiratory drive [other abnormalities of breathing], patient dissatisfied with nutrition regime [persons encountering health services in other specified circumstances], general weakness [weakness], diminished pleasure [other symptoms and signs involving emotional state], psychogenic loss of appetite [other eating disorders], stomach discomfort [unspecified abdominal pain], poor self-esteem [low self-esteem]]</td>\n      <td>F50.0</td>\n      <td>[F50.0, F50.8, F50.01, K11.7, F50.2, R63.6, R63.0, E86, E16.1, F50.89, E43, P05]</td>\n      <td>[anorexia nervosa co-occurrent with dangerously low body weight [anorexia nervosa], psychogenic loss of appetite [other eating disorders], dangerously low body weight co-occurrent and due to anorexia nervosa of restricting type (disorder) [anorexia nervosa, restricting type], xerostomia due to dehydration [disturbances of salivary secretion], anorexia nervosa, binge-eating purging type with dangerously low body weight [bulimia nervosa], dangerously low body weight co-occurrent and due to anorexia nervosa of binge-eating purging type [underweight], poor appetite [anorexia], xerostomia due to dehydration (disorder) [volume depletion], idiopathic postprandial hypoglycemia (disorder) [other hypoglycemia], loss of appetite, psychogenic [other specified eating disorder], edema co-occurrent and due to nutritional deficiency (disorder) [unspecified severe protein-calorie malnutrition], disord of nb related to slow fetal growth and fetal malnut [disorders of newborn related to slow fetal growth and fetal malnutrition]]</td>\n    </tr>\n    <tr>\n      <th>8</th>\n      <td>A 28-year-old female with a history of gestational diabetes mellitus diagnosed eight years prior to presentation and subsequent type two diabetes mellitus, associated with an acute hepatitis, and obesity with a body mass index (BMI) of 33.5 kg/m2, presented with a one-week history of polyuria, polydipsia, poor appetite, and vomiting.</td>\n      <td>vomiting</td>\n      <td>PROBLEM</td>\n      <td>R11.1</td>\n      <td>[R11.1, R11, R11.10, G43.A1, P92.1, P92.09, G43.A, R11.13, R11.0]</td>\n      <td>[vomiting [vomiting], intermittent vomiting [nausea and vomiting], vomiting symptoms [vomiting, unspecified], periodic vomiting [cyclical vomiting, in migraine, intractable], finding of vomiting [regurgitation and rumination of newborn], c/o - vomiting [other vomiting of newborn], cyclical vomiting [cyclical vomiting], faeculent vomit o/e [vomiting of fecal matter], nausea [nausea]]</td>\n      <td>R19.7</td>\n      <td>[R19.7, P78.3, R11, R11.10, P92.09, G43.A, O21, R11.2, O21.0, T50.90, G43.A1]</td>\n      <td>[d&amp;v - diarrhea and vomiting [diarrhea, unspecified], d&amp;v - diarrhoea and vomiting [noninfective neonatal diarrhea], d+v - diarrhea and vomiting [nausea and vomiting], d+v - diarrhoea and vomiting [vomiting, unspecified], diarrhea and vomiting [other vomiting of newborn], cyclical vomiting syndrome [cyclical vomiting], excessive vomiting in pregnancy [excessive vomiting in pregnancy], refractory nausea and vomiting [nausea with vomiting, unspecified], excessive pregnancy vomiting [mild hyperemesis gravidarum], n&amp;v - nausea and vomiting [poisoning by, adverse effect of and underdosing of unspecified drugs, medicaments and biological substances], periodic vomiting [cyclical vomiting, in migraine, intractable]]</td>\n    </tr>\n    <tr>\n      <th>9</th>\n      <td>Two weeks prior to presentation, she was treated with a five-day course of amoxicillin for a respiratory tract infection.</td>\n      <td>a respiratory tract infection</td>\n      <td>PROBLEM</td>\n      <td>J98.8</td>\n      <td>[J98.8, J06.9, A49.9, J22, J20.9, Z59.3, T17, J04.10, Z13.83, J18.9, P28.9, J39.9, J98.9]</td>\n      <td>[respiratory tract infection [other specified respiratory disorders], upper respiratory tract infection [acute upper respiratory infection, unspecified], bacterial respiratory infection [bacterial infection, unspecified], acute respiratory infection [unspecified acute lower respiratory infection], bronchial infection [acute bronchitis, unspecified], institution-acquired respiratory infection [problems related to living in residential institution], foreign body in respiratory tract [foreign body in respiratory tract], tracheal infection [acute tracheitis without obstruction], suspected respiratory disease [encounter for screening for respiratory disorder nec], pulmonary infection [pneumonia, unspecified organism], respiratory disease [respiratory condition of newborn, unspecified], disease of upper respiratory tract [disease of upper respiratory tract, unspecified], disease of respiratory system [respiratory disorder, unspecified]]</td>\n      <td>Z87.0</td>\n      <td>[Z87.0, Z87.09, J47.0, J98.8, A49.9, J22, Y83.9, Z59.3, J15.8, J15.6, A42.0, J20.2, B20, J40, O36.89]</td>\n      <td>[history of acute lower respiratory tract infection (situation) [personal history of diseases of the respiratory system], history of acute lower respiratory tract infection [personal history of other diseases of the respiratory system], bronchiectasis with acute lower respiratory infection [bronchiectasis with acute lower respiratory infection], rti - respiratory tract infection [other specified respiratory disorders], bacterial respiratory infection [bacterial infection, unspecified], acute respiratory infections [unspecified acute lower respiratory infection], postoperative lower respiratory tract infection [surgical procedure, unspecified as the cause of abnormal reaction of the patient, or of later complication, without mention of misadventure at the time of the procedure], institution-acquired respiratory infection [problems related to living in residential institution], pneumonia due to aerobic bacteria [pneumonia due to other specified bacteria], pneumonia caused by aerobic bacteria [pneumonia due to other gram-negative bacteria], pneumonia due to anaerobic bacteria [pulmonary actinomycosis], acute bronchitis due to streptococcus [acute bronchitis due to streptococcus], recurrent lower respiratory tract infection [human immunodeficiency virus [hiv] disease], acute infective bronchitis [bronchitis, not specified as acute or chronic], antibiotic given for suspected neonatal sepsis [maternal care for other specified fetal problems]]</td>\n    </tr>\n    <tr>\n      <th>10</th>\n      <td>Physical examination on presentation was significant for dry oral mucosa; significantly, her abdominal examination was benign with no tenderness or guarding.</td>\n      <td>dry oral mucosa</td>\n      <td>PROBLEM</td>\n      <td>K13.0</td>\n      <td>[K13.0, L85.3, R68.2, J39.2, L67.8, M35.9, R23.8, R23.4, H04.1, K14.8, J34.89, R19.5]</td>\n      <td>[dry lips [diseases of lips], dry skin [xerosis cutis], dry mouth, unspecified [dry mouth, unspecified], dry throat [other diseases of pharynx], dry hair [other hair color and hair shaft abnormalities], dry mouth [systemic involvement of connective tissue, unspecified], dry periwound skin [other skin changes], dry skin (finding) [changes in skin texture], dry eyes [other disorders of lacrimal gland], on examination - dry tongue [other diseases of tongue], nasal mucosa dry (finding) [other specified disorders of nose and nasal sinuses], dry faeces [other fecal abnormalities]]</td>\n      <td>R23.8</td>\n      <td>[R23.8, K13.0, K14.8, J39.2, Z01.89, R68.2, M35.9, N90.8, J34.89, L85.3, R23.4]</td>\n      <td>[on examination - dry skin [other skin changes], on examination - dry lips [diseases of lips], on examination - dry tongue [other diseases of tongue], dry throat [other diseases of pharynx], nose examination - normal (finding) [encounter for other specified special examinations], dry mouth, unspecified [dry mouth, unspecified], dry mouth [systemic involvement of connective tissue, unspecified], vulval dryness [other specified noninflammatory disorders of vulva and perineum], nasal mucosa dry [other specified disorders of nose and nasal sinuses], c/o: dry skin [xerosis cutis], perineum dry [changes in skin texture]]</td>\n    </tr>\n    <tr>\n      <th>11</th>\n      <td>Physical examination on presentation was significant for dry oral mucosa; significantly, her abdominal examination was benign with no tenderness or guarding.</td>\n      <td>tenderness</td>\n      <td>PROBLEM</td>\n      <td>R52</td>\n      <td>[R52, R51, M25.56, L90.5, J34.8, R20.8, Z65.8, F60.2, O36.89, M79.60, R10.82, M79.1, I89.9, R45.8, M25.51, R45.86, L29.8]</td>\n      <td>[tenderness (finding) [pain, unspecified], facial tenderness (finding) [headache], joint tenderness (finding) [pain in knee], tender scar (finding) [scar conditions and fibrosis of skin], nose tender (finding) [other specified disorders of nose and nasal sinuses], skin tenderness (finding) [other disturbances of skin sensation], callous character [other specified problems related to psychosocial circumstances], callous character (finding) [antisocial personality disorder], asthenia (finding) [maternal care for other specified fetal problems], tenderness in limb [pain in limb, unspecified], cva tenderness [rebound abdominal tenderness], tender muscles [myalgia], tender gland [noninfective disorder of lymphatic vessels and lymph nodes, unspecified], tenseness [other symptoms and signs involving emotional state], tenderness of upper limb (finding) [pain in shoulder], emotional lability [emotional lability], itchy [other pruritus]]</td>\n      <td>R44.8</td>\n      <td>[R44.8, R58, L20.83, G90.50, R20.0, R52, R68.83, R11.10, M77.9, R10.2, N94.1, P54.5, N90.8, R10.819, G40.40, R49.8, G58.8, R60.9, R29.2]</td>\n      <td>[sounds seem unnaturally clear [other symptoms and signs involving general sensations and perceptions], easy bruising (finding) [hemorrhage, not elsewhere classified], non-pitting edema (finding) [infantile (acute) (chronic) eczema], sympathetically independent pain (finding) [complex regional pain syndrome i, unspecified], no sensitivity to pain (finding) [anesthesia of skin], o/e - tenderness [pain, unspecified], chills (without fever) [chills (without fever)], effortless vomiting (finding) [vomiting, unspecified], enthesopathy, unspecified [enthesopathy, unspecified], non-cyclic pelvic pain (finding) [pelvic and perineal pain], dyspareunia - non-psychogenic (finding) [dyspareunia], easy bruising [neonatal cutaneous hemorrhage], vulvar dryness [other specified noninflammatory disorders of vulva and perineum], abdominal tenderness, unspecified site [abdominal tenderness, unspecified site], petit mal status, non-refractory [other generalized epilepsy and epileptic syndromes, not intractable], eunuchoid voice (finding) [other voice and resonance disorders], notalgia paresthetica [other specified mononeuropathies], firm nonpitting edema (finding) [edema, unspecified], on examination - suprapat. jerk absent [abnormal reflex]]</td>\n    </tr>\n    <tr>\n      <th>12</th>\n      <td>Physical examination on presentation was significant for dry oral mucosa; significantly, her abdominal examination was benign with no tenderness or guarding.</td>\n      <td>guarding</td>\n      <td>PROBLEM</td>\n      <td>M62.83</td>\n      <td>[M62.83, Z91.89, O98.7, H52.7, R29.8, Z71.0, F99, F34.0, T74.9, R54, R68.89, R45.89, Z78.9, R46.89, R45.2, R44.2, Z74.8]</td>\n      <td>[guarding [muscle spasm], protective alteration [other specified personal risk factors, not elsewhere classified], aids [human immunodeficiency virus [hiv] disease complicating pregnancy, childbirth and the puerperium], focusing [unspecified disorder of refraction], straining [other symptoms and signs involving the nervous and musculoskeletal systems], reassurance given [person encountering health services to consult on behalf of another person], suspicion [mental disorder, not otherwise specified], emotionality [cyclothymic disorder], caretaking [unspecified maltreatment, confirmed], weariness [age-related physical debility], relieving factor [other general symptoms and signs], sense of personal capacity [other symptoms and signs involving emotional state], does maintain a position [other specified health status], posturing behavior [other symptoms and signs involving appearance and behavior], worrying [unhappiness], illusions [other hallucinations], functionally dependent (finding) [other problems related to care provider dependency]]</td>\n      <td>Z65.3</td>\n      <td>[Z65.3, L20.83, L74.4, R45.89, R06.89, R19.8, R46.8, K14.8, R09.89, Z01.00, R58, K13.0, R68.89, R29.2, R23.8]</td>\n      <td>[pleads not guilty (finding) [problems related to other legal circumstances], non-pitting edema (finding) [infantile (acute) (chronic) eczema], absence of sweating (finding) [anhidrosis], euthymic mood (finding) [other symptoms and signs involving emotional state], does not take deep breaths (finding) [other abnormalities of breathing], on examination - no intra-abdominal movement (context-dependent category) [other specified symptoms and signs involving the digestive system and abdomen], calm character (finding) [other symptoms and signs involving appearance and behavior], on examination - dry tongue (finding) [other diseases of tongue], unable to cough (finding) [other specified symptoms and signs involving the circulatory and respiratory systems], pupil reactions normal (finding) [encounter for examination of eyes and vision without abnormal findings], easy bruising (finding) [hemorrhage, not elsewhere classified], on examination - dry lips [diseases of lips], symptom trivial (context-dependent category) [other general symptoms and signs], on examination - suprapat. jerk absent [abnormal reflex], on examination - dry skin (finding) [other skin changes]]</td>\n    </tr>\n    <tr>\n      <th>13</th>\n      <td>Serum acetone levels could not be assessed as blood samples kept hemolyzing due to significant lipemia.</td>\n      <td>hemolyzing</td>\n      <td>PROBLEM</td>\n      <td>O04.6</td>\n      <td>[O04.6, R71.8, R89.8, T82.89, H44.8, D75.9, D75.8, D59.4, O03.6, R79.89, R19.5, R31, D64.8, N02.9, R31.9]</td>\n      <td>[hemolysis [delayed or excessive hemorrhage following (induced) termination of pregnancy], hemolysis (finding) [other abnormality of red blood cells], sample hemolyzed [other abnormal findings in specimens from other organs, systems and tissues], haemolysis [other specified complication of cardiac and vascular prosthetic devices, implants and grafts], hematopsia [other disorders of globe], extravascular hemolysis [disease of blood and blood-forming organs, unspecified], hemocytophagia [other specified diseases of blood and blood-forming organs], mechanical hemolytic anemia [other nonautoimmune hemolytic anemias], intravascular haemolysis [delayed or excessive hemorrhage following complete or unspecified spontaneous abortion], methemalbuminaemia [other specified abnormal findings of blood chemistry], hematochezia [other fecal abnormalities], clot haematuria [hematuria], dilutional anemia [other specified anemias], microscopic haematuria [recurrent and persistent hematuria with unspecified morphologic changes], chemical haematuria [hematuria, unspecified]]</td>\n      <td>O04.6</td>\n      <td>[O04.6, T82.89, R89.8, D59.4, D74.9, R71.8, D75.9, D75.829, R89.5, T80.91, R58, T80.910D, D59.9, T80.910A, D59.2]</td>\n      <td>[hemolysis [delayed or excessive hemorrhage following (induced) termination of pregnancy], haemolysis [other specified complication of cardiac and vascular prosthetic devices, implants and grafts], sample hemolyzed [other abnormal findings in specimens from other organs, systems and tissues], mechanical hemolytic anemia [other nonautoimmune hemolytic anemias], methemoglobinemia, unspecified [methemoglobinemia, unspecified], extravascular haemolysis [other abnormality of red blood cells], extravascular hemolysis [disease of blood and blood-forming organs, unspecified], heparin-induced thrombocytopenia, unspecified [heparin-induced thrombocytopenia, unspecified], gamma haemolysis [abnormal microbiological findings in specimens from other organs, systems and tissues], hemolytic transfusion reaction (disorder) [hemolytic transfusion reaction, unspecified incompatibility], ascorbic acid deficiency with hemorrhage (disorder) [hemorrhage, not elsewhere classified], acute hemolytic transfs react, unsp incompatibility, subs [acute hemolytic transfusion reaction, unspecified incompatibility, subsequent encounter], acquired hemolytic anemia, unspecified [acquired hemolytic anemia, unspecified], acute hemolytic transfs react, unsp incompatibility, init [acute hemolytic transfusion reaction, unspecified incompatibility, initial encounter], drug-induced nonautoimmune hemolytic anemia [drug-induced nonautoimmune hemolytic anemia]]</td>\n    </tr>\n    <tr>\n      <th>14</th>\n      <td>Serum acetone levels could not be assessed as blood samples kept hemolyzing due to significant lipemia.</td>\n      <td>significant lipemia</td>\n      <td>PROBLEM</td>\n      <td>E78.5</td>\n      <td>[E78.5, R79.8, Z83.49, E75.6, R74.8, R89.8, J62.8, D72.82, Z86.39, E78.4, E10.69, E78.41, Z86.3, E78.6]</td>\n      <td>[lipidaemia [hyperlipidemia, unspecified], serum lipids high (finding) [other specified abnormal findings of blood chemistry], fh: raised blood lipids [family history of other endocrine, nutritional and metabolic diseases], lipidoses [lipid storage disorder, unspecified], high lipase level in serum [abnormal levels of other serum enzymes], sample grossly lipaemic [other abnormal findings in specimens from other organs, systems and tissues], liparitosis [pneumoconiosis due to other dust containing silica], leucocyte count abnormal [elevated white blood cell count], h/o: raised blood lipids [personal history of other endocrine, nutritional and metabolic disease], chemically induced hyperlipidaemia [other hyperlipidemia], secondary combined hyperlipidaemia [type 1 diabetes mellitus with other specified complication], elevated lipoprotein(a) [elevated lipoprotein(a)], history of - raised blood lipids (situation) [personal history of endocrine, nutritional and metabolic diseases], endogenous hyperlipidaemia [lipoprotein deficiency]]</td>\n      <td>E75.5</td>\n      <td>[E75.5, R89.8, D74.9, E75.4, D59.4, Z83.438, D75.829, T46.3X, E75.6, Z83.43, R74.8, T82.89, R89.5, O04.6, D59.9, M79.3, O14.20]</td>\n      <td>[chemically-induced lipidosis (disorder) [other lipid storage disorders], sample grossly lipaemic [other abnormal findings in specimens from other organs, systems and tissues], methemoglobinemia, unspecified [methemoglobinemia, unspecified], cerebral lipidosis (disorder) [neuronal ceroid lipofuscinosis], toxic hemolytic anemia [other nonautoimmune hemolytic anemias], fam hx of disord of lipoprotein metab and other lipidemia [family history of other disorder of lipoprotein metabolism and other lipidemia], heparin-induced thrombocytopenia, unspecified [heparin-induced thrombocytopenia, unspecified], drug-induced methemoglobinemia (disorder) [poisoning by, adverse effect of and underdosing of coronary vasodilators], lipidosis (disorder) [lipid storage disorder, unspecified], fam hx of disord of lipoprotein metab and other lipidemias [family history of other disorder of lipoprotein metabolism and other lipidemias], high lipase level in serum [abnormal levels of other serum enzymes], haemolysis [other specified complication of cardiac and vascular prosthetic devices, implants and grafts], alpha haemolysis [abnormal microbiological findings in specimens from other organs, systems and tissues], hemolysis [delayed or excessive hemorrhage following (induced) termination of pregnancy], acquired hemolytic anemia, unspecified [acquired hemolytic anemia, unspecified], panniculitis induced localized lipodystrophy [panniculitis, unspecified], haemolysis-elevated liver enzymes-low platelet count syndrome [hellp syndrome (hellp), unspecified trimester]]</td>\n    </tr>\n  </tbody>\n</table>\n</div>",
       "datasetInfos": [],
       "metadata": {},
       "removedWidgets": [],
       "textData": null,
       "type": "htmlSandbox"
      }
     },
     "output_type": "display_data"
    }
   ],
   "source": [
    "sentence_df = icd10_result.select(F.explode(F.arrays_zip(icd10_result.sentence.metadata, \n",
    "                                                         icd10_result.sentence.result)).alias(\"cols\")) \\\n",
    "                          .select(F.expr(\"cols['0']['sentence']\").alias(\"sent_id\"),\n",
    "                                  F.expr(\"cols['1']\").alias(\"sentence_all\")).toPandas()\n",
    "\n",
    "comparison_df = pd.merge(res_pd.loc[:,'sent_id':'resolutions'],res_SCE_pd.loc[:,'sent_id':'resolutions'], on=['sent_id',\"ner_chunk\", \"entity\"], how='inner')\n",
    "comparison_df.columns=['sent_id','ner_chunk', 'entity', 'icd10_code', 'all_codes', 'resolutions', 'icd10_code_SCE', 'all_codes_SCE', 'resolutions_SCE']\n",
    "\n",
    "comparison_df = pd.merge(sentence_df, comparison_df,on=\"sent_id\").drop('sent_id', axis=1)\n",
    "comparison_df.head(15)"
   ]
  },
  {
   "cell_type": "markdown",
   "metadata": {
    "application/vnd.databricks.v1+cell": {
     "cellMetadata": {
      "byteLimit": 2048000,
      "rowLimit": 10000
     },
     "inputWidgets": {},
     "nuid": "bed22bf9-3cb7-4a2a-ad0c-17c6089fe806",
     "showTitle": false,
     "title": ""
    },
    "id": "lHugM4Y4fpaJ"
   },
   "source": [
    "## Sentence Entity Resolver (CPT)"
   ]
  },
  {
   "cell_type": "markdown",
   "metadata": {
    "application/vnd.databricks.v1+cell": {
     "cellMetadata": {
      "byteLimit": 2048000,
      "rowLimit": 10000
     },
     "inputWidgets": {},
     "nuid": "fcb15ddc-cebc-4f0a-ac62-561daf995d7d",
     "showTitle": false,
     "title": ""
    },
    "id": "juPiWhqrfrHG"
   },
   "source": [
    "The Current Procedural Terminology (CPT) code set is a medical code set maintained by the American Medical Association. The CPT code set describes medical, surgical, and diagnostic services and is designed to communicate uniform information about medical services and procedures among physicians, coders, patients, accreditation organizations, and payers for administrative, financial, and analytical purposes."
   ]
  },
  {
   "cell_type": "markdown",
   "metadata": {
    "application/vnd.databricks.v1+cell": {
     "cellMetadata": {
      "byteLimit": 2048000,
      "rowLimit": 10000
     },
     "inputWidgets": {},
     "nuid": "f4c00fa3-0e0b-4c0b-b861-42e41b2ecd8a",
     "showTitle": false,
     "title": ""
    },
    "id": "0dlPy6lntpur"
   },
   "source": [
    "**Pretrained Models**\n",
    "\n",
    "- `sbiobertresolve_cpt`\n",
    "- `sbiobertresolve_cpt_procedures_augmented`\n",
    "- `sbiobertresolve_cpt_augmented`\n",
    "- `sbiobertresolve_cpt_procedures_measurements_augmented`"
   ]
  },
  {
   "cell_type": "markdown",
   "metadata": {
    "application/vnd.databricks.v1+cell": {
     "cellMetadata": {
      "byteLimit": 2048000,
      "rowLimit": 10000
     },
     "inputWidgets": {},
     "nuid": "8b2fd7d2-4693-4e45-8956-2f4b9dcd5c55",
     "showTitle": false,
     "title": ""
    },
    "id": "Fuzyrlp4v4WZ"
   },
   "source": [
    "**We will create a pipeline to detect bodyparts and imaging tests entities and their relations. Then we will use these related chunks in CPT resolver model to get their CPT code.**"
   ]
  },
  {
   "cell_type": "code",
   "execution_count": 0,
   "metadata": {
    "application/vnd.databricks.v1+cell": {
     "cellMetadata": {
      "byteLimit": 2048000,
      "rowLimit": 10000
     },
     "inputWidgets": {},
     "nuid": "8661d6d5-a74b-4b21-93d7-2327fcd6dc21",
     "showTitle": false,
     "title": ""
    },
    "colab": {
     "base_uri": "https://localhost:8080/"
    },
    "id": "dGMOoXX6v4Wa",
    "outputId": "8b20a81d-d272-4e48-cd0b-0c5bf2ad6d5e"
   },
   "outputs": [
    {
     "output_type": "stream",
     "name": "stdout",
     "output_type": "stream",
     "text": [
      "sentence_detector_dl_healthcare download started this may take some time.\nApproximate size to download 367.3 KB\n\r[ | ]\r[OK!]\nembeddings_clinical download started this may take some time.\nApproximate size to download 1.6 GB\n\r[ | ]\r[OK!]\npos_clinical download started this may take some time.\nApproximate size to download 1.5 MB\n\r[ | ]\r[ / ]\r[ — ]\r[OK!]\ndependency_conllu download started this may take some time.\nApproximate size to download 16.7 MB\n\r[ | ]\r[ / ]\r[ — ]\r[ \\ ]\r[ | ]\r[ / ]\r[ — ]\r[ \\ ]\r[ | ]\r[OK!]\njsl_rd_ner_wip_greedy_clinical download started this may take some time.\n\r[ | ]\r[ / ]\r[ — ]\r[ \\ ]\r[OK!]\nre_bodypart_directions download started this may take some time.\n\r[ | ]\r[ / ]\r[ — ]\r[OK!]\n"
     ]
    }
   ],
   "source": [
    "document_assembler = nlp.DocumentAssembler()\\\n",
    "    .setInputCol(\"text\")\\\n",
    "    .setOutputCol(\"document\")\n",
    "\n",
    "sentenceDetectorDL = nlp.SentenceDetectorDLModel.pretrained(\"sentence_detector_dl_healthcare\", \"en\", 'clinical/models') \\\n",
    "    .setInputCols([\"document\"]) \\\n",
    "    .setOutputCol(\"sentence\")\n",
    "\n",
    "tokenizer = nlp.Tokenizer()\\\n",
    "    .setInputCols([\"sentence\"])\\\n",
    "    .setOutputCol(\"token\")\n",
    "\n",
    "word_embeddings = nlp.WordEmbeddingsModel.pretrained(\"embeddings_clinical\", \"en\", \"clinical/models\")\\\n",
    "    .setInputCols([\"sentence\", \"token\"])\\\n",
    "    .setOutputCol(\"word_embeddings\")\n",
    "\n",
    "\n",
    "pos_tagger = nlp.PerceptronModel()\\\n",
    "    .pretrained(\"pos_clinical\", \"en\", \"clinical/models\") \\\n",
    "    .setInputCols([\"sentence\", \"token\"])\\\n",
    "    .setOutputCol(\"pos_tags\")\n",
    "    \n",
    "dependency_parser = nlp.DependencyParserModel()\\\n",
    "    .pretrained(\"dependency_conllu\", \"en\")\\\n",
    "    .setInputCols([\"sentence\", \"pos_tags\", \"token\"])\\\n",
    "    .setOutputCol(\"dependencies\")\n",
    "\n",
    "# Named Entity Recognition for radiology reports.\n",
    "clinical_ner = medical.NerModel.pretrained(\"jsl_rd_ner_wip_greedy_clinical\", \"en\", \"clinical/models\") \\\n",
    "   .setInputCols([\"sentence\", \"token\", \"word_embeddings\"]) \\\n",
    "   .setOutputCol(\"ner\")\n",
    "\n",
    "ner_chunker = medical.NerConverterInternal()\\\n",
    "    .setInputCols([\"sentence\", \"token\", \"ner\"])\\\n",
    "    .setOutputCol(\"ner_chunk\")\n",
    "\n",
    "re_model = medical.RelationExtractionModel()\\\n",
    "    .pretrained(\"re_bodypart_directions\", \"en\", 'clinical/models')\\\n",
    "    .setInputCols([\"word_embeddings\", \"pos_tags\", \"ner_chunk\", \"dependencies\"])\\\n",
    "    .setOutputCol(\"relations\")\\\n",
    "    .setRelationPairs([\"imagingtest-bodypart\", \"bodypart-imagingtest\"])\\\n",
    "    .setMaxSyntacticDistance(4)\\\n",
    "    .setPredictionThreshold(0.5)\n",
    "      \n",
    "\n",
    "# Build up the pipeline\n",
    "relation_pipeline = nlp.Pipeline(\n",
    "    stages = [\n",
    "        document_assembler,\n",
    "        sentenceDetectorDL,\n",
    "        tokenizer,\n",
    "        word_embeddings,\n",
    "        pos_tagger,\n",
    "        dependency_parser,\n",
    "        clinical_ner,\n",
    "        ner_chunker,\n",
    "        re_model\n",
    "        ])\n",
    "\n",
    "\n",
    "empty_data = spark.createDataFrame([['']]).toDF(\"text\")\n",
    "\n",
    "rel_model = relation_pipeline.fit(empty_data)"
   ]
  },
  {
   "cell_type": "code",
   "execution_count": 0,
   "metadata": {
    "application/vnd.databricks.v1+cell": {
     "cellMetadata": {
      "byteLimit": 2048000,
      "rowLimit": 10000
     },
     "inputWidgets": {},
     "nuid": "cd1fd72f-e6da-46f6-812a-1168af6fbf36",
     "showTitle": false,
     "title": ""
    },
    "id": "vWWE1odav4Wb"
   },
   "outputs": [],
   "source": [
    "light_rel_model = nlp.LightPipeline(rel_model)"
   ]
  },
  {
   "cell_type": "code",
   "execution_count": 0,
   "metadata": {
    "application/vnd.databricks.v1+cell": {
     "cellMetadata": {
      "byteLimit": 2048000,
      "rowLimit": 10000
     },
     "inputWidgets": {},
     "nuid": "922ddbb2-1794-4cf4-b878-374f97486382",
     "showTitle": false,
     "title": ""
    },
    "colab": {
     "base_uri": "https://localhost:8080/",
     "height": 111
    },
    "id": "R_OfQe89v4Wb",
    "outputId": "7fac15b0-754d-4978-ca30-2509f3690182"
   },
   "outputs": [
    {
     "output_type": "display_data",
     "data": {
      "text/html": [
       "<div>\n",
       "<style scoped>\n",
       "    .dataframe tbody tr th:only-of-type {\n",
       "        vertical-align: middle;\n",
       "    }\n",
       "\n",
       "    .dataframe tbody tr th {\n",
       "        vertical-align: top;\n",
       "    }\n",
       "\n",
       "    .dataframe thead th {\n",
       "        text-align: right;\n",
       "    }\n",
       "</style>\n",
       "<table border=\"1\" class=\"dataframe\">\n",
       "  <thead>\n",
       "    <tr style=\"text-align: right;\">\n",
       "      <th></th>\n",
       "      <th>entity1</th>\n",
       "      <th>chunk1</th>\n",
       "      <th>entity2</th>\n",
       "      <th>chunk2</th>\n",
       "      <th>confidence</th>\n",
       "    </tr>\n",
       "  </thead>\n",
       "  <tbody>\n",
       "    <tr>\n",
       "      <th>0</th>\n",
       "      <td>ImagingTest</td>\n",
       "      <td>x-ray</td>\n",
       "      <td>BodyPart</td>\n",
       "      <td>fibula</td>\n",
       "      <td>1.0</td>\n",
       "    </tr>\n",
       "    <tr>\n",
       "      <th>1</th>\n",
       "      <td>ImagingTest</td>\n",
       "      <td>x-ray</td>\n",
       "      <td>BodyPart</td>\n",
       "      <td>knee</td>\n",
       "      <td>0.9458425</td>\n",
       "    </tr>\n",
       "  </tbody>\n",
       "</table>\n",
       "</div>"
      ]
     },
     "metadata": {
      "application/vnd.databricks.v1+output": {
       "addedWidgets": {},
       "arguments": {},
       "data": "<div>\n<style scoped>\n    .dataframe tbody tr th:only-of-type {\n        vertical-align: middle;\n    }\n\n    .dataframe tbody tr th {\n        vertical-align: top;\n    }\n\n    .dataframe thead th {\n        text-align: right;\n    }\n</style>\n<table border=\"1\" class=\"dataframe\">\n  <thead>\n    <tr style=\"text-align: right;\">\n      <th></th>\n      <th>entity1</th>\n      <th>chunk1</th>\n      <th>entity2</th>\n      <th>chunk2</th>\n      <th>confidence</th>\n    </tr>\n  </thead>\n  <tbody>\n    <tr>\n      <th>0</th>\n      <td>ImagingTest</td>\n      <td>x-ray</td>\n      <td>BodyPart</td>\n      <td>fibula</td>\n      <td>1.0</td>\n    </tr>\n    <tr>\n      <th>1</th>\n      <td>ImagingTest</td>\n      <td>x-ray</td>\n      <td>BodyPart</td>\n      <td>knee</td>\n      <td>0.9458425</td>\n    </tr>\n  </tbody>\n</table>\n</div>",
       "datasetInfos": [],
       "metadata": {},
       "removedWidgets": [],
       "textData": null,
       "type": "htmlSandbox"
      }
     },
     "output_type": "display_data"
    }
   ],
   "source": [
    "text=\"Left shin pain. I have ordered x-ray of the left fibula and knee today. The patient will return to the clinic in 3 weeks. He is to call me in the interim for any problems.\"\n",
    "\n",
    "light_result = light_rel_model.fullAnnotate(text)\n",
    "\n",
    "get_relations_df(light_result)"
   ]
  },
  {
   "cell_type": "markdown",
   "metadata": {
    "application/vnd.databricks.v1+cell": {
     "cellMetadata": {
      "byteLimit": 2048000,
      "rowLimit": 10000
     },
     "inputWidgets": {},
     "nuid": "76cd0db9-886c-4317-a62d-4374a07f820f",
     "showTitle": false,
     "title": ""
    },
    "id": "M1U93cVYv4Wc"
   },
   "source": [
    "**Now we can use get CPT codes of these related chunks.**"
   ]
  },
  {
   "cell_type": "code",
   "execution_count": 0,
   "metadata": {
    "application/vnd.databricks.v1+cell": {
     "cellMetadata": {
      "byteLimit": 2048000,
      "rowLimit": 10000
     },
     "inputWidgets": {},
     "nuid": "359dc3dd-c7d1-4e64-a6cd-42e3d63b3e28",
     "showTitle": false,
     "title": ""
    },
    "colab": {
     "base_uri": "https://localhost:8080/"
    },
    "id": "bSND5CW1YKj_",
    "outputId": "00f6f3af-f385-44cb-acf4-1c883158bd2c"
   },
   "outputs": [
    {
     "output_type": "stream",
     "name": "stdout",
     "output_type": "stream",
     "text": [
      "sbiobert_base_cased_mli download started this may take some time.\nApproximate size to download 384.3 MB\n\r[ | ]\r[OK!]\nsbiobertresolve_cpt_augmented download started this may take some time.\n\r[ | ]\r[ / ]\r[ — ]\r[ \\ ]\r[ | ]\r[OK!]\n"
     ]
    }
   ],
   "source": [
    "documentAssembler = nlp.DocumentAssembler()\\\n",
    "    .setInputCol(\"text\")\\\n",
    "    .setOutputCol(\"ner_chunk\")\n",
    "\n",
    "sbert_embedder = nlp.BertSentenceEmbeddings\\\n",
    "    .pretrained('sbiobert_base_cased_mli', 'en','clinical/models')\\\n",
    "    .setInputCols([\"ner_chunk\"])\\\n",
    "    .setOutputCol(\"sentence_embeddings\")\\\n",
    "    .setCaseSensitive(False)\n",
    "    \n",
    "cpt_resolver = medical.SentenceEntityResolverModel.pretrained(\"sbiobertresolve_cpt_augmented\",\"en\", \"clinical/models\") \\\n",
    "    .setInputCols([\"sentence_embeddings\"]) \\\n",
    "    .setOutputCol(\"cpt_code\")\\\n",
    "    .setDistanceFunction(\"EUCLIDEAN\")\n",
    "\n",
    "\n",
    "cpt_pipelineModel = nlp.PipelineModel(\n",
    "    stages = [\n",
    "        documentAssembler,\n",
    "        sbert_embedder,\n",
    "        cpt_resolver])\n",
    "\n",
    "\n",
    "cpt_lp = nlp.LightPipeline(cpt_pipelineModel)"
   ]
  },
  {
   "cell_type": "code",
   "execution_count": 0,
   "metadata": {
    "application/vnd.databricks.v1+cell": {
     "cellMetadata": {
      "byteLimit": 2048000,
      "rowLimit": 10000
     },
     "inputWidgets": {},
     "nuid": "39adcc80-31ea-43b9-aec9-971b23baf055",
     "showTitle": false,
     "title": ""
    }
   },
   "outputs": [
    {
     "output_type": "stream",
     "name": "stdout",
     "output_type": "stream",
     "text": [
      "CPU times: user 5.11 ms, sys: 190 ms, total: 195 ms\nWall time: 27 s\n"
     ]
    },
    {
     "output_type": "display_data",
     "data": {
      "text/html": [
       "<div>\n",
       "<style scoped>\n",
       "    .dataframe tbody tr th:only-of-type {\n",
       "        vertical-align: middle;\n",
       "    }\n",
       "\n",
       "    .dataframe tbody tr th {\n",
       "        vertical-align: top;\n",
       "    }\n",
       "\n",
       "    .dataframe thead th {\n",
       "        text-align: right;\n",
       "    }\n",
       "</style>\n",
       "<table border=\"1\" class=\"dataframe\">\n",
       "  <thead>\n",
       "    <tr style=\"text-align: right;\">\n",
       "      <th></th>\n",
       "      <th>chunks</th>\n",
       "      <th>begin</th>\n",
       "      <th>end</th>\n",
       "      <th>code</th>\n",
       "      <th>all_codes</th>\n",
       "      <th>resolutions</th>\n",
       "      <th>all_distances</th>\n",
       "    </tr>\n",
       "  </thead>\n",
       "  <tbody>\n",
       "    <tr>\n",
       "      <th>0</th>\n",
       "      <td>fibula x-ray</td>\n",
       "      <td>0</td>\n",
       "      <td>11</td>\n",
       "      <td>73590</td>\n",
       "      <td>[73590, 27676, 27455, 27712, 27457, 27707, 73550, 73090, 27635]</td>\n",
       "      <td>[Tibia and fibula X-ray, Incision of fibula, Incision of fibula, Incision of fibula, Incision of fibula, Incision of fibula, Femur X-ray (procedure), Forearm X-ray, Excision of lesion of fibula (procedure)]</td>\n",
       "      <td>[0.0895, 0.0970, 0.0970, 0.0970, 0.0970, 0.0970, 0.1360, 0.1364, 0.1474]</td>\n",
       "    </tr>\n",
       "  </tbody>\n",
       "</table>\n",
       "</div>"
      ]
     },
     "metadata": {
      "application/vnd.databricks.v1+output": {
       "addedWidgets": {},
       "arguments": {},
       "data": "<div>\n<style scoped>\n    .dataframe tbody tr th:only-of-type {\n        vertical-align: middle;\n    }\n\n    .dataframe tbody tr th {\n        vertical-align: top;\n    }\n\n    .dataframe thead th {\n        text-align: right;\n    }\n</style>\n<table border=\"1\" class=\"dataframe\">\n  <thead>\n    <tr style=\"text-align: right;\">\n      <th></th>\n      <th>chunks</th>\n      <th>begin</th>\n      <th>end</th>\n      <th>code</th>\n      <th>all_codes</th>\n      <th>resolutions</th>\n      <th>all_distances</th>\n    </tr>\n  </thead>\n  <tbody>\n    <tr>\n      <th>0</th>\n      <td>fibula x-ray</td>\n      <td>0</td>\n      <td>11</td>\n      <td>73590</td>\n      <td>[73590, 27676, 27455, 27712, 27457, 27707, 73550, 73090, 27635]</td>\n      <td>[Tibia and fibula X-ray, Incision of fibula, Incision of fibula, Incision of fibula, Incision of fibula, Incision of fibula, Femur X-ray (procedure), Forearm X-ray, Excision of lesion of fibula (procedure)]</td>\n      <td>[0.0895, 0.0970, 0.0970, 0.0970, 0.0970, 0.0970, 0.1360, 0.1364, 0.1474]</td>\n    </tr>\n  </tbody>\n</table>\n</div>",
       "datasetInfos": [],
       "metadata": {},
       "removedWidgets": [],
       "textData": null,
       "type": "htmlSandbox"
      }
     },
     "output_type": "display_data"
    }
   ],
   "source": [
    "text = 'fibula x-ray'\n",
    "\n",
    "%time get_codes (cpt_lp, text, vocab='cpt_code')"
   ]
  },
  {
   "cell_type": "code",
   "execution_count": 0,
   "metadata": {
    "application/vnd.databricks.v1+cell": {
     "cellMetadata": {
      "byteLimit": 2048000,
      "rowLimit": 10000
     },
     "inputWidgets": {},
     "nuid": "44e4e9d8-c67b-49d9-b441-eff07fd98d07",
     "showTitle": false,
     "title": ""
    }
   },
   "outputs": [
    {
     "output_type": "stream",
     "name": "stdout",
     "output_type": "stream",
     "text": [
      "CPU times: user 16.3 ms, sys: 14.8 ms, total: 31.1 ms\nWall time: 821 ms\n"
     ]
    },
    {
     "output_type": "display_data",
     "data": {
      "text/html": [
       "<div>\n",
       "<style scoped>\n",
       "    .dataframe tbody tr th:only-of-type {\n",
       "        vertical-align: middle;\n",
       "    }\n",
       "\n",
       "    .dataframe tbody tr th {\n",
       "        vertical-align: top;\n",
       "    }\n",
       "\n",
       "    .dataframe thead th {\n",
       "        text-align: right;\n",
       "    }\n",
       "</style>\n",
       "<table border=\"1\" class=\"dataframe\">\n",
       "  <thead>\n",
       "    <tr style=\"text-align: right;\">\n",
       "      <th></th>\n",
       "      <th>chunks</th>\n",
       "      <th>begin</th>\n",
       "      <th>end</th>\n",
       "      <th>code</th>\n",
       "      <th>all_codes</th>\n",
       "      <th>resolutions</th>\n",
       "      <th>all_distances</th>\n",
       "    </tr>\n",
       "  </thead>\n",
       "  <tbody>\n",
       "    <tr>\n",
       "      <th>0</th>\n",
       "      <td>knee x-ray</td>\n",
       "      <td>0</td>\n",
       "      <td>9</td>\n",
       "      <td>73564</td>\n",
       "      <td>[73564, 73562, 73580, 27486, 1010487, 27540, 27332, 27310, 27334, 27335, 27330, 73600, 73610, 1005006, 27447, 27446]</td>\n",
       "      <td>[Knee X-ray, Knee X-ray, Knee arthrogram, Knee joint operations, Radiologic examination, knee, Operative procedure on knee, Arthrotomy of knee (procedure), Arthrotomy of knee (procedure), Arthrotomy of knee (procedure), Arthrotomy of knee (procedure), Arthrotomy of knee (procedure), Ankle X-ray, Ankle X-ray, Arthrotomy, knee, Knee replacement, Knee replacement]</td>\n",
       "      <td>[0.0000, 0.0000, 0.0907, 0.1096, 0.1171, 0.1309, 0.1472, 0.1472, 0.1472, 0.1472, 0.1472, 0.1483, 0.1483, 0.1538, 0.1527, 0.1527]</td>\n",
       "    </tr>\n",
       "  </tbody>\n",
       "</table>\n",
       "</div>"
      ]
     },
     "metadata": {
      "application/vnd.databricks.v1+output": {
       "addedWidgets": {},
       "arguments": {},
       "data": "<div>\n<style scoped>\n    .dataframe tbody tr th:only-of-type {\n        vertical-align: middle;\n    }\n\n    .dataframe tbody tr th {\n        vertical-align: top;\n    }\n\n    .dataframe thead th {\n        text-align: right;\n    }\n</style>\n<table border=\"1\" class=\"dataframe\">\n  <thead>\n    <tr style=\"text-align: right;\">\n      <th></th>\n      <th>chunks</th>\n      <th>begin</th>\n      <th>end</th>\n      <th>code</th>\n      <th>all_codes</th>\n      <th>resolutions</th>\n      <th>all_distances</th>\n    </tr>\n  </thead>\n  <tbody>\n    <tr>\n      <th>0</th>\n      <td>knee x-ray</td>\n      <td>0</td>\n      <td>9</td>\n      <td>73564</td>\n      <td>[73564, 73562, 73580, 27486, 1010487, 27540, 27332, 27310, 27334, 27335, 27330, 73600, 73610, 1005006, 27447, 27446]</td>\n      <td>[Knee X-ray, Knee X-ray, Knee arthrogram, Knee joint operations, Radiologic examination, knee, Operative procedure on knee, Arthrotomy of knee (procedure), Arthrotomy of knee (procedure), Arthrotomy of knee (procedure), Arthrotomy of knee (procedure), Arthrotomy of knee (procedure), Ankle X-ray, Ankle X-ray, Arthrotomy, knee, Knee replacement, Knee replacement]</td>\n      <td>[0.0000, 0.0000, 0.0907, 0.1096, 0.1171, 0.1309, 0.1472, 0.1472, 0.1472, 0.1472, 0.1472, 0.1483, 0.1483, 0.1538, 0.1527, 0.1527]</td>\n    </tr>\n  </tbody>\n</table>\n</div>",
       "datasetInfos": [],
       "metadata": {},
       "removedWidgets": [],
       "textData": null,
       "type": "htmlSandbox"
      }
     },
     "output_type": "display_data"
    }
   ],
   "source": [
    "text = 'knee x-ray'\n",
    "\n",
    "%time get_codes (cpt_lp, text, vocab='cpt_code')"
   ]
  },
  {
   "cell_type": "code",
   "execution_count": 0,
   "metadata": {
    "application/vnd.databricks.v1+cell": {
     "cellMetadata": {
      "byteLimit": 2048000,
      "rowLimit": 10000
     },
     "inputWidgets": {},
     "nuid": "e6734658-37b8-4211-abf4-ce443eff7f6a",
     "showTitle": false,
     "title": ""
    },
    "colab": {
     "base_uri": "https://localhost:8080/",
     "height": 243
    },
    "id": "u8NqSNuAarFQ",
    "outputId": "afe355a2-aeda-4024-ba32-167d143a3147"
   },
   "outputs": [
    {
     "output_type": "display_data",
     "data": {
      "text/html": [
       "<div>\n",
       "<style scoped>\n",
       "    .dataframe tbody tr th:only-of-type {\n",
       "        vertical-align: middle;\n",
       "    }\n",
       "\n",
       "    .dataframe tbody tr th {\n",
       "        vertical-align: top;\n",
       "    }\n",
       "\n",
       "    .dataframe thead th {\n",
       "        text-align: right;\n",
       "    }\n",
       "</style>\n",
       "<table border=\"1\" class=\"dataframe\">\n",
       "  <thead>\n",
       "    <tr style=\"text-align: right;\">\n",
       "      <th></th>\n",
       "      <th>entity1</th>\n",
       "      <th>chunk1</th>\n",
       "      <th>entity2</th>\n",
       "      <th>chunk2</th>\n",
       "      <th>confidence</th>\n",
       "    </tr>\n",
       "  </thead>\n",
       "  <tbody>\n",
       "    <tr>\n",
       "      <th>0</th>\n",
       "      <td>BodyPart</td>\n",
       "      <td>chest</td>\n",
       "      <td>ImagingTest</td>\n",
       "      <td>portable ultrasound</td>\n",
       "      <td>0.9999802</td>\n",
       "    </tr>\n",
       "  </tbody>\n",
       "</table>\n",
       "</div>"
      ]
     },
     "metadata": {
      "application/vnd.databricks.v1+output": {
       "addedWidgets": {},
       "arguments": {},
       "data": "<div>\n<style scoped>\n    .dataframe tbody tr th:only-of-type {\n        vertical-align: middle;\n    }\n\n    .dataframe tbody tr th {\n        vertical-align: top;\n    }\n\n    .dataframe thead th {\n        text-align: right;\n    }\n</style>\n<table border=\"1\" class=\"dataframe\">\n  <thead>\n    <tr style=\"text-align: right;\">\n      <th></th>\n      <th>entity1</th>\n      <th>chunk1</th>\n      <th>entity2</th>\n      <th>chunk2</th>\n      <th>confidence</th>\n    </tr>\n  </thead>\n  <tbody>\n    <tr>\n      <th>0</th>\n      <td>BodyPart</td>\n      <td>chest</td>\n      <td>ImagingTest</td>\n      <td>portable ultrasound</td>\n      <td>0.9999802</td>\n    </tr>\n  </tbody>\n</table>\n</div>",
       "datasetInfos": [],
       "metadata": {},
       "removedWidgets": [],
       "textData": null,
       "type": "htmlSandbox"
      }
     },
     "output_type": "display_data"
    }
   ],
   "source": [
    "text=\"TECHNIQUE IN DETAIL: After informed consent was obtained from the patient and his mother, the chest was scanned with portable ultrasound.\"\n",
    "light_result = light_rel_model.fullAnnotate(text)\n",
    "\n",
    "get_relations_df(light_result)"
   ]
  },
  {
   "cell_type": "code",
   "execution_count": 0,
   "metadata": {
    "application/vnd.databricks.v1+cell": {
     "cellMetadata": {
      "byteLimit": 2048000,
      "rowLimit": 10000
     },
     "inputWidgets": {},
     "nuid": "7beef5fa-e355-42c9-9db2-5c7e725a4446",
     "showTitle": false,
     "title": ""
    },
    "colab": {
     "base_uri": "https://localhost:8080/",
     "height": 226
    },
    "id": "OvUaBLD9kRqP",
    "outputId": "87bb2bb6-5745-440d-abe2-19dae3de9267"
   },
   "outputs": [
    {
     "output_type": "stream",
     "name": "stdout",
     "output_type": "stream",
     "text": [
      "CPU times: user 21.4 ms, sys: 7.98 ms, total: 29.3 ms\nWall time: 795 ms\n"
     ]
    },
    {
     "output_type": "display_data",
     "data": {
      "text/html": [
       "<div>\n",
       "<style scoped>\n",
       "    .dataframe tbody tr th:only-of-type {\n",
       "        vertical-align: middle;\n",
       "    }\n",
       "\n",
       "    .dataframe tbody tr th {\n",
       "        vertical-align: top;\n",
       "    }\n",
       "\n",
       "    .dataframe thead th {\n",
       "        text-align: right;\n",
       "    }\n",
       "</style>\n",
       "<table border=\"1\" class=\"dataframe\">\n",
       "  <thead>\n",
       "    <tr style=\"text-align: right;\">\n",
       "      <th></th>\n",
       "      <th>chunks</th>\n",
       "      <th>begin</th>\n",
       "      <th>end</th>\n",
       "      <th>code</th>\n",
       "      <th>all_codes</th>\n",
       "      <th>resolutions</th>\n",
       "      <th>all_distances</th>\n",
       "    </tr>\n",
       "  </thead>\n",
       "  <tbody>\n",
       "    <tr>\n",
       "      <th>0</th>\n",
       "      <td>chest portable ultrasound</td>\n",
       "      <td>0</td>\n",
       "      <td>24</td>\n",
       "      <td>1010771</td>\n",
       "      <td>[1010771, 76512, 76510, 3320F, 76977, 76999, 76377, 45391, 76881, 31620, 3319F, 76882]</td>\n",
       "      <td>[Diagnostic Ultrasound Procedures of the Chest, A scan ultrasound, A scan ultrasound, USS - Ultrasound scan, USS - Ultrasound scan, USS - Ultrasound scan, USS - Ultrasound scan, USS - Ultrasound scan, USS - Ultrasound scan, USS - Ultrasound scan, USS - Ultrasound scan, USS - Ultrasound scan]</td>\n",
       "      <td>[0.1269, 0.1563, 0.1563, 0.1582, 0.1582, 0.1582, 0.1582, 0.1582, 0.1582, 0.1582, 0.1582, 0.1582]</td>\n",
       "    </tr>\n",
       "  </tbody>\n",
       "</table>\n",
       "</div>"
      ]
     },
     "metadata": {
      "application/vnd.databricks.v1+output": {
       "addedWidgets": {},
       "arguments": {},
       "data": "<div>\n<style scoped>\n    .dataframe tbody tr th:only-of-type {\n        vertical-align: middle;\n    }\n\n    .dataframe tbody tr th {\n        vertical-align: top;\n    }\n\n    .dataframe thead th {\n        text-align: right;\n    }\n</style>\n<table border=\"1\" class=\"dataframe\">\n  <thead>\n    <tr style=\"text-align: right;\">\n      <th></th>\n      <th>chunks</th>\n      <th>begin</th>\n      <th>end</th>\n      <th>code</th>\n      <th>all_codes</th>\n      <th>resolutions</th>\n      <th>all_distances</th>\n    </tr>\n  </thead>\n  <tbody>\n    <tr>\n      <th>0</th>\n      <td>chest portable ultrasound</td>\n      <td>0</td>\n      <td>24</td>\n      <td>1010771</td>\n      <td>[1010771, 76512, 76510, 3320F, 76977, 76999, 76377, 45391, 76881, 31620, 3319F, 76882]</td>\n      <td>[Diagnostic Ultrasound Procedures of the Chest, A scan ultrasound, A scan ultrasound, USS - Ultrasound scan, USS - Ultrasound scan, USS - Ultrasound scan, USS - Ultrasound scan, USS - Ultrasound scan, USS - Ultrasound scan, USS - Ultrasound scan, USS - Ultrasound scan, USS - Ultrasound scan]</td>\n      <td>[0.1269, 0.1563, 0.1563, 0.1582, 0.1582, 0.1582, 0.1582, 0.1582, 0.1582, 0.1582, 0.1582, 0.1582]</td>\n    </tr>\n  </tbody>\n</table>\n</div>",
       "datasetInfos": [],
       "metadata": {},
       "removedWidgets": [],
       "textData": null,
       "type": "htmlSandbox"
      }
     },
     "output_type": "display_data"
    }
   ],
   "source": [
    "text = 'chest portable ultrasound'\n",
    "\n",
    "%time get_codes (cpt_lp, text, vocab='cpt_code')"
   ]
  },
  {
   "cell_type": "code",
   "execution_count": 0,
   "metadata": {
    "application/vnd.databricks.v1+cell": {
     "cellMetadata": {
      "byteLimit": 2048000,
      "rowLimit": 10000
     },
     "inputWidgets": {},
     "nuid": "8c32271b-9113-43d6-98c6-f28694b9ab63",
     "showTitle": false,
     "title": ""
    },
    "colab": {
     "base_uri": "https://localhost:8080/",
     "height": 80
    },
    "id": "QGASDQ1uv4Wd",
    "outputId": "a5a9321a-c74a-44c2-f7dd-55d4654aaec8"
   },
   "outputs": [
    {
     "output_type": "display_data",
     "data": {
      "text/html": [
       "<div>\n",
       "<style scoped>\n",
       "    .dataframe tbody tr th:only-of-type {\n",
       "        vertical-align: middle;\n",
       "    }\n",
       "\n",
       "    .dataframe tbody tr th {\n",
       "        vertical-align: top;\n",
       "    }\n",
       "\n",
       "    .dataframe thead th {\n",
       "        text-align: right;\n",
       "    }\n",
       "</style>\n",
       "<table border=\"1\" class=\"dataframe\">\n",
       "  <thead>\n",
       "    <tr style=\"text-align: right;\">\n",
       "      <th></th>\n",
       "      <th>entity1</th>\n",
       "      <th>chunk1</th>\n",
       "      <th>entity2</th>\n",
       "      <th>chunk2</th>\n",
       "      <th>confidence</th>\n",
       "    </tr>\n",
       "  </thead>\n",
       "  <tbody>\n",
       "    <tr>\n",
       "      <th>0</th>\n",
       "      <td>BodyPart</td>\n",
       "      <td>Brain</td>\n",
       "      <td>ImagingTest</td>\n",
       "      <td>CT</td>\n",
       "      <td>0.9999999</td>\n",
       "    </tr>\n",
       "  </tbody>\n",
       "</table>\n",
       "</div>"
      ]
     },
     "metadata": {
      "application/vnd.databricks.v1+output": {
       "addedWidgets": {},
       "arguments": {},
       "data": "<div>\n<style scoped>\n    .dataframe tbody tr th:only-of-type {\n        vertical-align: middle;\n    }\n\n    .dataframe tbody tr th {\n        vertical-align: top;\n    }\n\n    .dataframe thead th {\n        text-align: right;\n    }\n</style>\n<table border=\"1\" class=\"dataframe\">\n  <thead>\n    <tr style=\"text-align: right;\">\n      <th></th>\n      <th>entity1</th>\n      <th>chunk1</th>\n      <th>entity2</th>\n      <th>chunk2</th>\n      <th>confidence</th>\n    </tr>\n  </thead>\n  <tbody>\n    <tr>\n      <th>0</th>\n      <td>BodyPart</td>\n      <td>Brain</td>\n      <td>ImagingTest</td>\n      <td>CT</td>\n      <td>0.9999999</td>\n    </tr>\n  </tbody>\n</table>\n</div>",
       "datasetInfos": [],
       "metadata": {},
       "removedWidgets": [],
       "textData": null,
       "type": "htmlSandbox"
      }
     },
     "output_type": "display_data"
    }
   ],
   "source": [
    "text=\"This 73 y/o patient had Brain CT on 1/12/95, with progressive memory and cognitive decline since 8/11/94.\"\n",
    "light_result = light_rel_model.fullAnnotate(text)\n",
    "\n",
    "get_relations_df(light_result)"
   ]
  },
  {
   "cell_type": "code",
   "execution_count": 0,
   "metadata": {
    "application/vnd.databricks.v1+cell": {
     "cellMetadata": {
      "byteLimit": 2048000,
      "rowLimit": 10000
     },
     "inputWidgets": {},
     "nuid": "29f845b2-4823-4bb0-8516-9a03a2886922",
     "showTitle": false,
     "title": ""
    },
    "colab": {
     "base_uri": "https://localhost:8080/",
     "height": 243
    },
    "id": "A8VRJ9iDv4We",
    "outputId": "1129de15-74ea-43f4-beb2-5050c8c8c29a"
   },
   "outputs": [
    {
     "output_type": "stream",
     "name": "stdout",
     "output_type": "stream",
     "text": [
      "CPU times: user 24.4 ms, sys: 7.79 ms, total: 32.2 ms\nWall time: 728 ms\n"
     ]
    },
    {
     "output_type": "display_data",
     "data": {
      "text/html": [
       "<div>\n",
       "<style scoped>\n",
       "    .dataframe tbody tr th:only-of-type {\n",
       "        vertical-align: middle;\n",
       "    }\n",
       "\n",
       "    .dataframe tbody tr th {\n",
       "        vertical-align: top;\n",
       "    }\n",
       "\n",
       "    .dataframe thead th {\n",
       "        text-align: right;\n",
       "    }\n",
       "</style>\n",
       "<table border=\"1\" class=\"dataframe\">\n",
       "  <thead>\n",
       "    <tr style=\"text-align: right;\">\n",
       "      <th></th>\n",
       "      <th>chunks</th>\n",
       "      <th>begin</th>\n",
       "      <th>end</th>\n",
       "      <th>code</th>\n",
       "      <th>all_codes</th>\n",
       "      <th>resolutions</th>\n",
       "      <th>all_distances</th>\n",
       "    </tr>\n",
       "  </thead>\n",
       "  <tbody>\n",
       "    <tr>\n",
       "      <th>0</th>\n",
       "      <td>brain CT</td>\n",
       "      <td>0</td>\n",
       "      <td>7</td>\n",
       "      <td>78607</td>\n",
       "      <td>[78607, 70559, 70551, 70552, 3111F, 70553, 3112F, 70558, 70557, 77371, 77372, 77432, 61516, 61530, 62148, 61566, 61314]</td>\n",
       "      <td>[Cerebral scan, MRI of brain, MRI of brain, MRI of brain, MRI of brain, MRI of brain, MRI of brain, MRI of brain, MRI of brain, Procedure on brain, Procedure on brain, Procedure on brain, Craniotomy (procedure), Craniotomy (procedure), Craniotomy (procedure), Craniotomy (procedure), Craniotomy (procedure)]</td>\n",
       "      <td>[0.1437, 0.1555, 0.1555, 0.1555, 0.1555, 0.1555, 0.1555, 0.1555, 0.1555, 0.1713, 0.1713, 0.1713, 0.1887, 0.1887, 0.1887, 0.1887, 0.1887]</td>\n",
       "    </tr>\n",
       "  </tbody>\n",
       "</table>\n",
       "</div>"
      ]
     },
     "metadata": {
      "application/vnd.databricks.v1+output": {
       "addedWidgets": {},
       "arguments": {},
       "data": "<div>\n<style scoped>\n    .dataframe tbody tr th:only-of-type {\n        vertical-align: middle;\n    }\n\n    .dataframe tbody tr th {\n        vertical-align: top;\n    }\n\n    .dataframe thead th {\n        text-align: right;\n    }\n</style>\n<table border=\"1\" class=\"dataframe\">\n  <thead>\n    <tr style=\"text-align: right;\">\n      <th></th>\n      <th>chunks</th>\n      <th>begin</th>\n      <th>end</th>\n      <th>code</th>\n      <th>all_codes</th>\n      <th>resolutions</th>\n      <th>all_distances</th>\n    </tr>\n  </thead>\n  <tbody>\n    <tr>\n      <th>0</th>\n      <td>brain CT</td>\n      <td>0</td>\n      <td>7</td>\n      <td>78607</td>\n      <td>[78607, 70559, 70551, 70552, 3111F, 70553, 3112F, 70558, 70557, 77371, 77372, 77432, 61516, 61530, 62148, 61566, 61314]</td>\n      <td>[Cerebral scan, MRI of brain, MRI of brain, MRI of brain, MRI of brain, MRI of brain, MRI of brain, MRI of brain, MRI of brain, Procedure on brain, Procedure on brain, Procedure on brain, Craniotomy (procedure), Craniotomy (procedure), Craniotomy (procedure), Craniotomy (procedure), Craniotomy (procedure)]</td>\n      <td>[0.1437, 0.1555, 0.1555, 0.1555, 0.1555, 0.1555, 0.1555, 0.1555, 0.1555, 0.1713, 0.1713, 0.1713, 0.1887, 0.1887, 0.1887, 0.1887, 0.1887]</td>\n    </tr>\n  </tbody>\n</table>\n</div>",
       "datasetInfos": [],
       "metadata": {},
       "removedWidgets": [],
       "textData": null,
       "type": "htmlSandbox"
      }
     },
     "output_type": "display_data"
    }
   ],
   "source": [
    "text = 'brain CT'\n",
    "\n",
    "%time get_codes (cpt_lp, text, vocab='cpt_code')"
   ]
  },
  {
   "cell_type": "markdown",
   "metadata": {
    "application/vnd.databricks.v1+cell": {
     "cellMetadata": {
      "byteLimit": 2048000,
      "rowLimit": 10000
     },
     "inputWidgets": {},
     "nuid": "bc4002e6-7e37-49c3-aeb6-13e584dff182",
     "showTitle": false,
     "title": ""
    },
    "id": "cfihiVDdv4We"
   },
   "source": [
    "## Sentence Entity Resolver (SNOMED)"
   ]
  },
  {
   "cell_type": "markdown",
   "metadata": {
    "application/vnd.databricks.v1+cell": {
     "cellMetadata": {
      "byteLimit": 2048000,
      "rowLimit": 10000
     },
     "inputWidgets": {},
     "nuid": "4bbf5e86-918f-4994-b7e5-8ebc81229c51",
     "showTitle": false,
     "title": ""
    },
    "id": "ZtoIn0qyv4We"
   },
   "source": [
    "SNOMED CT is one of a suite of designated standards for use in U.S. Federal Government systems for the electronic exchange of clinical health information and is also a required standard in interoperability specifications of the U.S. Healthcare Information Technology Standards Panel. The clinical terminology is owned and maintained by SNOMED International, a not-for-profit association. \n",
    "\n",
    "SNOMED CT:\n",
    "\n",
    "- Is the most comprehensive and precise, multilingual health terminology in the world.\n",
    "- Has been, and continues to be, developed collaboratively to ensure it meets the diverse needs and expectations of the worldwide medical profession.\n",
    "- Assists with the electronic exchange of clinical health information.\n",
    "- Can be mapped to other coding systems, such as ICD-9 and ICD-10, which helps facilitate semantic interoperability.\n",
    "- Is accepted as a common global language for health terms in over 50 countries.\n",
    "- Is a resource with extensive, scientifically validated clinical content\n",
    "\n",
    "**Pretrained SNOMED Resolver Models**\n",
    "\n",
    "- `sbiobertresolve_snomed_auxConcepts_int`\n",
    "- `sbiobertresolve_snomed_findings`\n",
    "- `sbiobertresolve_snomed_findings_int`\n",
    "- `sbiobertresolve_snomed_auxConcepts`\n",
    "- `sbiobertresolve_snomed_procedures_measurements`\n",
    "- `sbertresolve_snomed_bodyStructure_med`\n",
    "- `sbiobertresolve_snomed_bodyStructure`\n",
    "- `sbiobertresolve_snomed_findings_aux_concepts`\n",
    "- `sbertresolve_snomed_conditions`\n",
    "- `sbiobertresolve_snomed_drug`"
   ]
  },
  {
   "cell_type": "code",
   "execution_count": 0,
   "metadata": {
    "application/vnd.databricks.v1+cell": {
     "cellMetadata": {
      "byteLimit": 2048000,
      "rowLimit": 10000
     },
     "inputWidgets": {},
     "nuid": "808bbd6c-9f23-43da-814d-b009e13e9e29",
     "showTitle": false,
     "title": ""
    },
    "colab": {
     "base_uri": "https://localhost:8080/"
    },
    "id": "WOrWtCyUv4We",
    "outputId": "b8c8fb11-cb1b-4a5c-da43-9511d8b85f95"
   },
   "outputs": [
    {
     "output_type": "stream",
     "name": "stdout",
     "output_type": "stream",
     "text": [
      "sbiobert_base_cased_mli download started this may take some time.\nApproximate size to download 384.3 MB\n\r[ | ]\r[OK!]\nsbiobertresolve_snomed_findings download started this may take some time.\n\r[ | ]\r[ / ]\r[ — ]\r[ \\ ]\r[ | ]\r[ / ]\r[ — ]\r[ \\ ]\r[ | ]\r[ / ]\r[ — ]\r[ \\ ]\r[ | ]\r[ / ]\r[ — ]\r[ \\ ]\r[ | ]\r[ / ]\r[ — ]\r[ \\ ]\r[ | ]\r[ / ]\r[ — ]\r[ \\ ]\r[ | ]\r[ / ]\r[ — ]\r[ \\ ]\r[ | ]\r[ / ]\r[ — ]\r[ \\ ]\r[ | ]\r[ / ]\r[ — ]\r[ \\ ]\r[ | ]\r[ / ]\r[ — ]\r[ \\ ]\r[ | ]\r[OK!]\n"
     ]
    }
   ],
   "source": [
    "documentAssembler = nlp.DocumentAssembler()\\\n",
    "    .setInputCol(\"text\")\\\n",
    "    .setOutputCol(\"ner_chunk\")\n",
    "\n",
    "sbert_embedder = nlp.BertSentenceEmbeddings\\\n",
    "    .pretrained('sbiobert_base_cased_mli', 'en','clinical/models')\\\n",
    "    .setInputCols([\"ner_chunk\"])\\\n",
    "    .setOutputCol(\"sentence_embeddings\")\\\n",
    "    .setCaseSensitive(False)\n",
    "    \n",
    "snomed_ct_resolver = medical.SentenceEntityResolverModel.pretrained(\"sbiobertresolve_snomed_findings\",\"en\", \"clinical/models\") \\\n",
    "    .setInputCols([\"sentence_embeddings\"]) \\\n",
    "    .setOutputCol(\"snomed_code\")\\\n",
    "    .setDistanceFunction(\"EUCLIDEAN\")\n",
    "\n",
    "snomed_pipelineModel = nlp.PipelineModel(\n",
    "    stages = [\n",
    "        documentAssembler,\n",
    "        sbert_embedder,\n",
    "        snomed_ct_resolver])\n",
    "\n",
    "snomed_lp = nlp.LightPipeline(snomed_pipelineModel)\n"
   ]
  },
  {
   "cell_type": "code",
   "execution_count": 0,
   "metadata": {
    "application/vnd.databricks.v1+cell": {
     "cellMetadata": {
      "byteLimit": 2048000,
      "rowLimit": 10000
     },
     "inputWidgets": {},
     "nuid": "6a931005-70cb-4e78-8329-3e2fd0d938ef",
     "showTitle": false,
     "title": ""
    }
   },
   "outputs": [
    {
     "output_type": "stream",
     "name": "stdout",
     "output_type": "stream",
     "text": [
      "CPU times: user 20.1 ms, sys: 21.1 ms, total: 41.2 ms\nWall time: 1.03 s\n"
     ]
    },
    {
     "output_type": "display_data",
     "data": {
      "text/html": [
       "<div>\n",
       "<style scoped>\n",
       "    .dataframe tbody tr th:only-of-type {\n",
       "        vertical-align: middle;\n",
       "    }\n",
       "\n",
       "    .dataframe tbody tr th {\n",
       "        vertical-align: top;\n",
       "    }\n",
       "\n",
       "    .dataframe thead th {\n",
       "        text-align: right;\n",
       "    }\n",
       "</style>\n",
       "<table border=\"1\" class=\"dataframe\">\n",
       "  <thead>\n",
       "    <tr style=\"text-align: right;\">\n",
       "      <th></th>\n",
       "      <th>chunks</th>\n",
       "      <th>begin</th>\n",
       "      <th>end</th>\n",
       "      <th>code</th>\n",
       "      <th>all_codes</th>\n",
       "      <th>resolutions</th>\n",
       "      <th>all_distances</th>\n",
       "    </tr>\n",
       "  </thead>\n",
       "  <tbody>\n",
       "    <tr>\n",
       "      <th>0</th>\n",
       "      <td>brain tumor</td>\n",
       "      <td>0</td>\n",
       "      <td>10</td>\n",
       "      <td>254935002</td>\n",
       "      <td>[254935002, 254936001, 448989001, 254938000, 724807008, 254945000, 126952004, 93727008, 277369003, 444545003, 1156461003, 762457009, 94225005, 93726004, 92030004, 126961004, 254941009, 1157141006]</td>\n",
       "      <td>[brain tumor, glial tumor of brain, carcinoma of brain, astrocytic tumor of brain, glioma of central nervous system, embryonal tumor of brain, neoplasm of brain, malignant neoplasm of brain, hamartoma of brain, glioma of brainstem, gliosarcoma of brain, astroblastoma of brain, secondary cancer of brain, malignant neoplasm of brain stem, benign brain tumor, neoplasm of brain stem, mixed glial tumor of brain, astroblastoma of central nervous system]</td>\n",
       "      <td>[0.0000, 0.0719, 0.0892, 0.0992, 0.1018, 0.1023, 0.1026, 0.1046, 0.1061, 0.1106, 0.1102, 0.1107, 0.1117, 0.1125, 0.1128, 0.1148, 0.1168, 0.1192]</td>\n",
       "    </tr>\n",
       "  </tbody>\n",
       "</table>\n",
       "</div>"
      ]
     },
     "metadata": {
      "application/vnd.databricks.v1+output": {
       "addedWidgets": {},
       "arguments": {},
       "data": "<div>\n<style scoped>\n    .dataframe tbody tr th:only-of-type {\n        vertical-align: middle;\n    }\n\n    .dataframe tbody tr th {\n        vertical-align: top;\n    }\n\n    .dataframe thead th {\n        text-align: right;\n    }\n</style>\n<table border=\"1\" class=\"dataframe\">\n  <thead>\n    <tr style=\"text-align: right;\">\n      <th></th>\n      <th>chunks</th>\n      <th>begin</th>\n      <th>end</th>\n      <th>code</th>\n      <th>all_codes</th>\n      <th>resolutions</th>\n      <th>all_distances</th>\n    </tr>\n  </thead>\n  <tbody>\n    <tr>\n      <th>0</th>\n      <td>brain tumor</td>\n      <td>0</td>\n      <td>10</td>\n      <td>254935002</td>\n      <td>[254935002, 254936001, 448989001, 254938000, 724807008, 254945000, 126952004, 93727008, 277369003, 444545003, 1156461003, 762457009, 94225005, 93726004, 92030004, 126961004, 254941009, 1157141006]</td>\n      <td>[brain tumor, glial tumor of brain, carcinoma of brain, astrocytic tumor of brain, glioma of central nervous system, embryonal tumor of brain, neoplasm of brain, malignant neoplasm of brain, hamartoma of brain, glioma of brainstem, gliosarcoma of brain, astroblastoma of brain, secondary cancer of brain, malignant neoplasm of brain stem, benign brain tumor, neoplasm of brain stem, mixed glial tumor of brain, astroblastoma of central nervous system]</td>\n      <td>[0.0000, 0.0719, 0.0892, 0.0992, 0.1018, 0.1023, 0.1026, 0.1046, 0.1061, 0.1106, 0.1102, 0.1107, 0.1117, 0.1125, 0.1128, 0.1148, 0.1168, 0.1192]</td>\n    </tr>\n  </tbody>\n</table>\n</div>",
       "datasetInfos": [],
       "metadata": {},
       "removedWidgets": [],
       "textData": null,
       "type": "htmlSandbox"
      }
     },
     "output_type": "display_data"
    }
   ],
   "source": [
    "text = 'brain tumor'\n",
    "\n",
    "%time get_codes (snomed_lp, text, vocab='snomed_code')"
   ]
  },
  {
   "cell_type": "code",
   "execution_count": 0,
   "metadata": {
    "application/vnd.databricks.v1+cell": {
     "cellMetadata": {
      "byteLimit": 2048000,
      "rowLimit": 10000
     },
     "inputWidgets": {},
     "nuid": "fabe056b-e75e-4646-a996-c80165363372",
     "showTitle": false,
     "title": ""
    },
    "colab": {
     "base_uri": "https://localhost:8080/",
     "height": 260
    },
    "id": "d8G_AxkOv4Wf",
    "outputId": "4e8ea1d2-5467-4570-bebc-b21f75cb890b"
   },
   "outputs": [
    {
     "output_type": "stream",
     "name": "stdout",
     "output_type": "stream",
     "text": [
      "CPU times: user 24.8 ms, sys: 65.8 ms, total: 90.5 ms\nWall time: 24.9 s\n"
     ]
    },
    {
     "output_type": "display_data",
     "data": {
      "text/html": [
       "<div>\n",
       "<style scoped>\n",
       "    .dataframe tbody tr th:only-of-type {\n",
       "        vertical-align: middle;\n",
       "    }\n",
       "\n",
       "    .dataframe tbody tr th {\n",
       "        vertical-align: top;\n",
       "    }\n",
       "\n",
       "    .dataframe thead th {\n",
       "        text-align: right;\n",
       "    }\n",
       "</style>\n",
       "<table border=\"1\" class=\"dataframe\">\n",
       "  <thead>\n",
       "    <tr style=\"text-align: right;\">\n",
       "      <th></th>\n",
       "      <th>chunks</th>\n",
       "      <th>begin</th>\n",
       "      <th>end</th>\n",
       "      <th>code</th>\n",
       "      <th>all_codes</th>\n",
       "      <th>resolutions</th>\n",
       "      <th>all_distances</th>\n",
       "    </tr>\n",
       "  </thead>\n",
       "  <tbody>\n",
       "    <tr>\n",
       "      <th>0</th>\n",
       "      <td>chest pain on left side</td>\n",
       "      <td>0</td>\n",
       "      <td>22</td>\n",
       "      <td>285385002</td>\n",
       "      <td>[285385002, 427293006, 15743561000119103, 287047008, 316801000119101, 287045000, 425677008, 316841000119104, 316761000119109, 1260145003, 162049009, 426469008, 426483005, 425473004, 316771000119103, 339211000119104, 774135008, 285387005, 1076731000119106, 1119218004, 15916971000119109, 316821000119105]</td>\n",
       "      <td>[left sided chest pain, pain radiating to left side of chest, chronic pain of left upper limb, pain in left leg, pain of left lower leg, pain in left upper limb, pain radiating to left arm, pain of left upper arm, pain of left forearm, pain of left shoulder region, left flank pain, pain radiating to left leg, pain radiating to thoracic region left side, pain radiating to left shoulder, pain of left hand, pain of left eye, pain of left shoulder blade, left sided abdominal pain, joint pain in left hand, pain in left abdominal lumbar region, pain of left shoulder joint, pain of left thigh]</td>\n",
       "      <td>[0.0212, 0.0261, 0.0475, 0.0480, 0.0481, 0.0485, 0.0488, 0.0489, 0.0525, 0.0541, 0.0547, 0.0553, 0.0577, 0.0578, 0.0580, 0.0586, 0.0593, 0.0597, 0.0596, 0.0602, 0.0619, 0.0648]</td>\n",
       "    </tr>\n",
       "  </tbody>\n",
       "</table>\n",
       "</div>"
      ]
     },
     "metadata": {
      "application/vnd.databricks.v1+output": {
       "addedWidgets": {},
       "arguments": {},
       "data": "<div>\n<style scoped>\n    .dataframe tbody tr th:only-of-type {\n        vertical-align: middle;\n    }\n\n    .dataframe tbody tr th {\n        vertical-align: top;\n    }\n\n    .dataframe thead th {\n        text-align: right;\n    }\n</style>\n<table border=\"1\" class=\"dataframe\">\n  <thead>\n    <tr style=\"text-align: right;\">\n      <th></th>\n      <th>chunks</th>\n      <th>begin</th>\n      <th>end</th>\n      <th>code</th>\n      <th>all_codes</th>\n      <th>resolutions</th>\n      <th>all_distances</th>\n    </tr>\n  </thead>\n  <tbody>\n    <tr>\n      <th>0</th>\n      <td>chest pain on left side</td>\n      <td>0</td>\n      <td>22</td>\n      <td>285385002</td>\n      <td>[285385002, 427293006, 15743561000119103, 287047008, 316801000119101, 287045000, 425677008, 316841000119104, 316761000119109, 1260145003, 162049009, 426469008, 426483005, 425473004, 316771000119103, 339211000119104, 774135008, 285387005, 1076731000119106, 1119218004, 15916971000119109, 316821000119105]</td>\n      <td>[left sided chest pain, pain radiating to left side of chest, chronic pain of left upper limb, pain in left leg, pain of left lower leg, pain in left upper limb, pain radiating to left arm, pain of left upper arm, pain of left forearm, pain of left shoulder region, left flank pain, pain radiating to left leg, pain radiating to thoracic region left side, pain radiating to left shoulder, pain of left hand, pain of left eye, pain of left shoulder blade, left sided abdominal pain, joint pain in left hand, pain in left abdominal lumbar region, pain of left shoulder joint, pain of left thigh]</td>\n      <td>[0.0212, 0.0261, 0.0475, 0.0480, 0.0481, 0.0485, 0.0488, 0.0489, 0.0525, 0.0541, 0.0547, 0.0553, 0.0577, 0.0578, 0.0580, 0.0586, 0.0593, 0.0597, 0.0596, 0.0602, 0.0619, 0.0648]</td>\n    </tr>\n  </tbody>\n</table>\n</div>",
       "datasetInfos": [],
       "metadata": {},
       "removedWidgets": [],
       "textData": null,
       "type": "htmlSandbox"
      }
     },
     "output_type": "display_data"
    }
   ],
   "source": [
    "text = 'chest pain on left side'\n",
    "\n",
    "%time get_codes (snomed_lp, text, vocab='snomed_code')"
   ]
  },
  {
   "cell_type": "markdown",
   "metadata": {
    "application/vnd.databricks.v1+cell": {
     "cellMetadata": {
      "byteLimit": 2048000,
      "rowLimit": 10000
     },
     "inputWidgets": {},
     "nuid": "7b47c4dd-a218-4d54-a072-4d2616014fae",
     "showTitle": false,
     "title": ""
    },
    "id": "Lu-kwgINv4Wf"
   },
   "source": [
    "## Sentence Entity Resolver (LOINC)"
   ]
  },
  {
   "cell_type": "markdown",
   "metadata": {
    "application/vnd.databricks.v1+cell": {
     "cellMetadata": {
      "byteLimit": 2048000,
      "rowLimit": 10000
     },
     "inputWidgets": {},
     "nuid": "ffa8be2d-3560-4d39-b68b-1b6c2cf1bd94",
     "showTitle": false,
     "title": ""
    },
    "id": "PLwmGn--v4Wg"
   },
   "source": [
    "- Logical Observation Identifiers Names and Codes (LOINC) is a database and universal standard for identifying medical laboratory observations. First developed in 1994, it was created and is maintained by the Regenstrief Institute, a US nonprofit medical research organization. LOINC was created in response to the demand for an electronic database for clinical care and management and is publicly available at no cost.\n",
    "\n",
    "- It is endorsed by the American Clinical Laboratory Association. Since its inception, the database has expanded to include not just medical laboratory code names but also nursing diagnosis, nursing interventions, outcomes classification, and patient care data sets.\n",
    "\n",
    "- LOINC applies universal code names and identifiers to medical terminology related to electronic health records. The purpose is to assist in the electronic exchange and gathering of clinical results (such as laboratory tests, clinical observations, outcomes management and research). LOINC has two main parts: laboratory LOINC and clinical LOINC.\n",
    "\n",
    "**Pretrained LOINC Resovler Models**\n",
    "\n",
    "- `sbiobertresolve_loinc`\n",
    "- `sbiobertresolve_loinc_cased`\n",
    "- `sbiobertresolve_loinc_augmented`\n",
    "- `sbluebertresolve_loinc`\n",
    "- `sbluebertresolve_loinc_uncased`"
   ]
  },
  {
   "cell_type": "code",
   "execution_count": 0,
   "metadata": {
    "application/vnd.databricks.v1+cell": {
     "cellMetadata": {
      "byteLimit": 2048000,
      "rowLimit": 10000
     },
     "inputWidgets": {},
     "nuid": "1e240017-e556-477c-981a-5bc1ddaa96a1",
     "showTitle": false,
     "title": ""
    },
    "colab": {
     "base_uri": "https://localhost:8080/"
    },
    "id": "hadRRDxHv4Wg",
    "outputId": "2f124728-cd4e-461b-d470-2c19a94cd8d5"
   },
   "outputs": [
    {
     "output_type": "stream",
     "name": "stdout",
     "output_type": "stream",
     "text": [
      "sbiobert_base_cased_mli download started this may take some time.\nApproximate size to download 384.3 MB\n\r[ | ]\r[ / ]\r[ — ]\r[ \\ ]\r[ | ]\r[ / ]\r[ — ]\r[ \\ ]\r[ | ]\r[ / ]\r[ — ]\r[ \\ ]\r[ | ]\r[ / ]\r[ — ]\r[ \\ ]\r[ | ]\r[ / ]\r[ — ]\r[ \\ ]\r[ | ]\r[ / ]\r[ — ]\r[ \\ ]\r[ | ]\r[ / ]\r[ — ]\r[ \\ ]\r[ | ]\r[ / ]\r[ — ]\r[ \\ ]\r[OK!]\nsbiobertresolve_loinc_augmented download started this may take some time.\n\r[ | ]\r[ / ]\r[ — ]\r[ \\ ]\r[ | ]\r[ / ]\r[ — ]\r[ \\ ]\r[ | ]\r[ / ]\r[ — ]\r[ \\ ]\r[ | ]\r[ / ]\r[ — ]\r[ \\ ]\r[ | ]\r[ / ]\r[ — ]\r[ \\ ]\r[ | ]\r[ / ]\r[ — ]\r[ \\ ]\r[ | ]\r[ / ]\r[ — ]\r[ \\ ]\r[ | ]\r[ / ]\r[ — ]\r[ \\ ]\r[ | ]\r[ / ]\r[ — ]\r[ \\ ]\r[ | ]\r[ / ]\r[ — ]\r[ \\ ]\r[OK!]\n"
     ]
    }
   ],
   "source": [
    "documentAssembler = nlp.DocumentAssembler()\\\n",
    "    .setInputCol(\"text\")\\\n",
    "    .setOutputCol(\"ner_chunk\")\n",
    "\n",
    "sbert_embedder = nlp.BertSentenceEmbeddings\\\n",
    "    .pretrained('sbiobert_base_cased_mli', 'en','clinical/models')\\\n",
    "    .setInputCols([\"ner_chunk\"])\\\n",
    "    .setOutputCol(\"sentence_embeddings\")\\\n",
    "    .setCaseSensitive(False)\n",
    "    \n",
    "loinc_resolver = medical.SentenceEntityResolverModel.pretrained(\"sbiobertresolve_loinc_augmented\", \"en\", \"clinical/models\") \\\n",
    "    .setInputCols([\"sentence_embeddings\"]) \\\n",
    "    .setOutputCol(\"loinc_code\")\\\n",
    "    .setDistanceFunction(\"EUCLIDEAN\")\n",
    "\n",
    "loinc_pipelineModel = nlp.PipelineModel(\n",
    "    stages = [\n",
    "        documentAssembler,\n",
    "        sbert_embedder,\n",
    "        loinc_resolver])\n",
    "\n",
    "loinc_lp = nlp.LightPipeline(loinc_pipelineModel)"
   ]
  },
  {
   "cell_type": "code",
   "execution_count": 0,
   "metadata": {
    "application/vnd.databricks.v1+cell": {
     "cellMetadata": {
      "byteLimit": 2048000,
      "rowLimit": 10000
     },
     "inputWidgets": {},
     "nuid": "a37e380f-16bb-4c21-a31f-ce3e8141a85a",
     "showTitle": false,
     "title": ""
    },
    "colab": {
     "base_uri": "https://localhost:8080/",
     "height": 362
    },
    "id": "QA0djJ0vv4Wg",
    "outputId": "427d2a37-2997-4ca9-b860-3a58699cafc9"
   },
   "outputs": [
    {
     "output_type": "stream",
     "name": "stdout",
     "output_type": "stream",
     "text": [
      "CPU times: user 23.1 ms, sys: 13.5 ms, total: 36.6 ms\nWall time: 1.41 s\n"
     ]
    },
    {
     "output_type": "display_data",
     "data": {
      "text/html": [
       "<div>\n",
       "<style scoped>\n",
       "    .dataframe tbody tr th:only-of-type {\n",
       "        vertical-align: middle;\n",
       "    }\n",
       "\n",
       "    .dataframe tbody tr th {\n",
       "        vertical-align: top;\n",
       "    }\n",
       "\n",
       "    .dataframe thead th {\n",
       "        text-align: right;\n",
       "    }\n",
       "</style>\n",
       "<table border=\"1\" class=\"dataframe\">\n",
       "  <thead>\n",
       "    <tr style=\"text-align: right;\">\n",
       "      <th></th>\n",
       "      <th>chunks</th>\n",
       "      <th>begin</th>\n",
       "      <th>end</th>\n",
       "      <th>code</th>\n",
       "      <th>all_codes</th>\n",
       "      <th>resolutions</th>\n",
       "      <th>all_distances</th>\n",
       "    </tr>\n",
       "  </thead>\n",
       "  <tbody>\n",
       "    <tr>\n",
       "      <th>0</th>\n",
       "      <td>FLT3 gene mutation analysis</td>\n",
       "      <td>0</td>\n",
       "      <td>26</td>\n",
       "      <td>47958-4</td>\n",
       "      <td>[47958-4, LP310331-6, 21676-2, 53863-7, 92843-2, 57963-1, 96968-3, 49873-3, 58987-9, 53840-5, 99129-9, 81816-1, 72520-0, 22074-9, 21740-6, 34499-4, 49704-0, 46225-9, 38532-8, 71358-6, 81831-0, 53895-9, 35298-9, 49872-5, 48972-4]</td>\n",
       "      <td>[FLT3 gene targeted mutation analysis [FLT3 gene targeted mutation analysis], FLT3 gene p.Asp835 mutations [FLT3 gene p.Asp835 mutations], FGFR3 gene targeted mutation analysis [FGFR3 gene targeted mutation analysis], FLNA gene targeted mutation analysis [FLNA gene targeted mutation analysis], FLT3 gene.p.Asp835 mutations [FLT3 gene.p.Asp835 mutations], FLCN gene targeted mutation analysis [FLCN gene targeted mutation analysis], TNFAIP3 gene targeted mutation analysis [TNFAIP3 gene targeted mutation analysis], POU3F4 gene targeted mutation analysis [POU3F4 gene targeted mutation analysis], ITGB3 gene targeted mutation analysis [ITGB3 gene targeted mutation analysis], TGFB3 gene targeted mutation analysis [TGFB3 gene targeted mutation analysis], SF3B1 gene targeted mutation analysis [SF3B1 gene targeted mutation analysis], OPA3 gene targeted mutation analysis [OPA3 gene targeted mutation analysis], FLT3 gene.p.Asp835+Ile836 mutations [FLT3 gene.p.Asp835+Ile836 mutations], FGFR3 gene mutations tested for [FGFR3 gene mutations tested for], TRAF3 gene targeted mutation analysis [TRAF3 gene targeted mutation analysis], GPC3 gene targeted mutation analysis [GPC3 gene targeted mutation analysis], SH3TC2 gene targeted mutation analysis [SH3TC2 gene targeted mutation analysis], ABCA3 gene targeted mutation analysis [ABCA3 gene targeted mutation analysis], SPG3A gene targeted mutation analysis [SPG3A gene targeted mutation analysis], GJB3 gene targeted mutation analysis [GJB3 gene targeted mutation analysis], LAMB3 gene targeted mutation analysis [LAMB3 gene targeted mutation analysis], SH3BP2 gene targeted mutation analysis [SH3BP2 gene targeted mutation analysis], FXN gene targeted mutation analysis [FXN gene targeted mutation analysis], FH gene targeted mutation analysis [FH gene targeted mutation analysis], FGFR2 gene+FGFR3 gene targeted mutation analysis [FGFR2 gene+FGFR3 gene targeted mutation analysis]]</td>\n",
       "      <td>[0.0354, 0.1032, 0.1021, 0.1111, 0.1155, 0.1135, 0.1182, 0.1258, 0.1249, 0.1285, 0.1303, 0.1255, 0.1308, 0.1316, 0.1287, 0.1328, 0.1346, 0.1315, 0.1351, 0.1352, 0.1339, 0.1390, 0.1347, 0.1318, 0.1387]</td>\n",
       "    </tr>\n",
       "  </tbody>\n",
       "</table>\n",
       "</div>"
      ]
     },
     "metadata": {
      "application/vnd.databricks.v1+output": {
       "addedWidgets": {},
       "arguments": {},
       "data": "<div>\n<style scoped>\n    .dataframe tbody tr th:only-of-type {\n        vertical-align: middle;\n    }\n\n    .dataframe tbody tr th {\n        vertical-align: top;\n    }\n\n    .dataframe thead th {\n        text-align: right;\n    }\n</style>\n<table border=\"1\" class=\"dataframe\">\n  <thead>\n    <tr style=\"text-align: right;\">\n      <th></th>\n      <th>chunks</th>\n      <th>begin</th>\n      <th>end</th>\n      <th>code</th>\n      <th>all_codes</th>\n      <th>resolutions</th>\n      <th>all_distances</th>\n    </tr>\n  </thead>\n  <tbody>\n    <tr>\n      <th>0</th>\n      <td>FLT3 gene mutation analysis</td>\n      <td>0</td>\n      <td>26</td>\n      <td>47958-4</td>\n      <td>[47958-4, LP310331-6, 21676-2, 53863-7, 92843-2, 57963-1, 96968-3, 49873-3, 58987-9, 53840-5, 99129-9, 81816-1, 72520-0, 22074-9, 21740-6, 34499-4, 49704-0, 46225-9, 38532-8, 71358-6, 81831-0, 53895-9, 35298-9, 49872-5, 48972-4]</td>\n      <td>[FLT3 gene targeted mutation analysis [FLT3 gene targeted mutation analysis], FLT3 gene p.Asp835 mutations [FLT3 gene p.Asp835 mutations], FGFR3 gene targeted mutation analysis [FGFR3 gene targeted mutation analysis], FLNA gene targeted mutation analysis [FLNA gene targeted mutation analysis], FLT3 gene.p.Asp835 mutations [FLT3 gene.p.Asp835 mutations], FLCN gene targeted mutation analysis [FLCN gene targeted mutation analysis], TNFAIP3 gene targeted mutation analysis [TNFAIP3 gene targeted mutation analysis], POU3F4 gene targeted mutation analysis [POU3F4 gene targeted mutation analysis], ITGB3 gene targeted mutation analysis [ITGB3 gene targeted mutation analysis], TGFB3 gene targeted mutation analysis [TGFB3 gene targeted mutation analysis], SF3B1 gene targeted mutation analysis [SF3B1 gene targeted mutation analysis], OPA3 gene targeted mutation analysis [OPA3 gene targeted mutation analysis], FLT3 gene.p.Asp835+Ile836 mutations [FLT3 gene.p.Asp835+Ile836 mutations], FGFR3 gene mutations tested for [FGFR3 gene mutations tested for], TRAF3 gene targeted mutation analysis [TRAF3 gene targeted mutation analysis], GPC3 gene targeted mutation analysis [GPC3 gene targeted mutation analysis], SH3TC2 gene targeted mutation analysis [SH3TC2 gene targeted mutation analysis], ABCA3 gene targeted mutation analysis [ABCA3 gene targeted mutation analysis], SPG3A gene targeted mutation analysis [SPG3A gene targeted mutation analysis], GJB3 gene targeted mutation analysis [GJB3 gene targeted mutation analysis], LAMB3 gene targeted mutation analysis [LAMB3 gene targeted mutation analysis], SH3BP2 gene targeted mutation analysis [SH3BP2 gene targeted mutation analysis], FXN gene targeted mutation analysis [FXN gene targeted mutation analysis], FH gene targeted mutation analysis [FH gene targeted mutation analysis], FGFR2 gene+FGFR3 gene targeted mutation analysis [FGFR2 gene+FGFR3 gene targeted mutation analysis]]</td>\n      <td>[0.0354, 0.1032, 0.1021, 0.1111, 0.1155, 0.1135, 0.1182, 0.1258, 0.1249, 0.1285, 0.1303, 0.1255, 0.1308, 0.1316, 0.1287, 0.1328, 0.1346, 0.1315, 0.1351, 0.1352, 0.1339, 0.1390, 0.1347, 0.1318, 0.1387]</td>\n    </tr>\n  </tbody>\n</table>\n</div>",
       "datasetInfos": [],
       "metadata": {},
       "removedWidgets": [],
       "textData": null,
       "type": "htmlSandbox"
      }
     },
     "output_type": "display_data"
    }
   ],
   "source": [
    "text = 'FLT3 gene mutation analysis'\n",
    "\n",
    "%time get_codes (loinc_lp, text, vocab='loinc_code')"
   ]
  },
  {
   "cell_type": "code",
   "execution_count": 0,
   "metadata": {
    "application/vnd.databricks.v1+cell": {
     "cellMetadata": {
      "byteLimit": 2048000,
      "rowLimit": 10000
     },
     "inputWidgets": {},
     "nuid": "13d26888-f12b-4034-960e-30fb3b68fd1b",
     "showTitle": false,
     "title": ""
    },
    "colab": {
     "base_uri": "https://localhost:8080/",
     "height": 260
    },
    "id": "yz7sC9HFv4Wg",
    "outputId": "8ce38091-842c-4307-b397-e67a1b41109e"
   },
   "outputs": [
    {
     "output_type": "stream",
     "name": "stdout",
     "output_type": "stream",
     "text": [
      "CPU times: user 22.5 ms, sys: 631 µs, total: 23.2 ms\nWall time: 1.09 s\n"
     ]
    },
    {
     "output_type": "display_data",
     "data": {
      "text/html": [
       "<div>\n",
       "<style scoped>\n",
       "    .dataframe tbody tr th:only-of-type {\n",
       "        vertical-align: middle;\n",
       "    }\n",
       "\n",
       "    .dataframe tbody tr th {\n",
       "        vertical-align: top;\n",
       "    }\n",
       "\n",
       "    .dataframe thead th {\n",
       "        text-align: right;\n",
       "    }\n",
       "</style>\n",
       "<table border=\"1\" class=\"dataframe\">\n",
       "  <thead>\n",
       "    <tr style=\"text-align: right;\">\n",
       "      <th></th>\n",
       "      <th>chunks</th>\n",
       "      <th>begin</th>\n",
       "      <th>end</th>\n",
       "      <th>code</th>\n",
       "      <th>all_codes</th>\n",
       "      <th>resolutions</th>\n",
       "      <th>all_distances</th>\n",
       "    </tr>\n",
       "  </thead>\n",
       "  <tbody>\n",
       "    <tr>\n",
       "      <th>0</th>\n",
       "      <td>Hematocrit</td>\n",
       "      <td>0</td>\n",
       "      <td>9</td>\n",
       "      <td>11151-8</td>\n",
       "      <td>[11151-8, 16931-8, 32354-3, 20570-8, 11153-4, 39227-4, 42908-4, 30899-9, 71832-0, 4593-0, 14775-1, 41654-5, LP35956-9, 18277-4, 48703-3, 71828-8, 8478-0, 41655-2, 53224-2, 41986-1, LP30932-5, 76283-1, 34663-5, 10346-5, LP14154-6]</td>\n",
       "      <td>[Hematocrit [Hematocrit], Hematocrit/Hemoglobin [Hematocrit/Hemoglobin], Hematocrit [Volume Fraction] of Arterial blood [Hematocrit], Hematocrit [Volume Fraction] of Blood [Hematocrit], Hematocrit [Volume Fraction] of Body fluid [Hematocrit], Hematocrit test status [Hematocrit test status], Hematocrit [Volume Fraction] of Capillary blood [Hematocrit], Blood volume [Blood volume], Hematocrit [Pure volume fraction] of Arterial blood [Hematocrit], Hemoglobin I [Hemoglobin I], Hemoglobin [Hemoglobin], Hematocrit [Volume Fraction] of Venous blood [Hematocrit], Hematocrit test status/results [Hematocrit test status/results], Hemoglobin F [Hemoglobin F], Hematocrit [Volume Fraction] of Blood by Estimated [Hematocrit], Hematocrit [Pure volume fraction] of Body fluid [Hematocrit], Mean blood pressure [Intravascular mean], Hematocrit [Volume Fraction] of Mixed venous blood [Hematocrit], Hemoglobin M [Hemoglobin M], Hematocrit test status &amp;or results [Hematocrit test status &amp;or results], Hemoglobin N [Hemoglobin N], Blood flow rate [Blood flow rate], Hemoglobin S [Hemoglobin S], Hemoglobin A [Hemoglobin A], Hemoglobin and Hematocrit panel [Hemoglobin and Hematocrit panel]]</td>\n",
       "      <td>[0.0000, 0.0506, 0.0590, 0.0625, 0.0675, 0.0740, 0.1035, 0.1010, 0.1075, 0.1082, 0.1122, 0.1139, 0.1162, 0.1166, 0.1196, 0.1194, 0.1193, 0.1245, 0.1245, 0.1267, 0.1257, 0.1229, 0.1279, 0.1304, 0.1324]</td>\n",
       "    </tr>\n",
       "  </tbody>\n",
       "</table>\n",
       "</div>"
      ]
     },
     "metadata": {
      "application/vnd.databricks.v1+output": {
       "addedWidgets": {},
       "arguments": {},
       "data": "<div>\n<style scoped>\n    .dataframe tbody tr th:only-of-type {\n        vertical-align: middle;\n    }\n\n    .dataframe tbody tr th {\n        vertical-align: top;\n    }\n\n    .dataframe thead th {\n        text-align: right;\n    }\n</style>\n<table border=\"1\" class=\"dataframe\">\n  <thead>\n    <tr style=\"text-align: right;\">\n      <th></th>\n      <th>chunks</th>\n      <th>begin</th>\n      <th>end</th>\n      <th>code</th>\n      <th>all_codes</th>\n      <th>resolutions</th>\n      <th>all_distances</th>\n    </tr>\n  </thead>\n  <tbody>\n    <tr>\n      <th>0</th>\n      <td>Hematocrit</td>\n      <td>0</td>\n      <td>9</td>\n      <td>11151-8</td>\n      <td>[11151-8, 16931-8, 32354-3, 20570-8, 11153-4, 39227-4, 42908-4, 30899-9, 71832-0, 4593-0, 14775-1, 41654-5, LP35956-9, 18277-4, 48703-3, 71828-8, 8478-0, 41655-2, 53224-2, 41986-1, LP30932-5, 76283-1, 34663-5, 10346-5, LP14154-6]</td>\n      <td>[Hematocrit [Hematocrit], Hematocrit/Hemoglobin [Hematocrit/Hemoglobin], Hematocrit [Volume Fraction] of Arterial blood [Hematocrit], Hematocrit [Volume Fraction] of Blood [Hematocrit], Hematocrit [Volume Fraction] of Body fluid [Hematocrit], Hematocrit test status [Hematocrit test status], Hematocrit [Volume Fraction] of Capillary blood [Hematocrit], Blood volume [Blood volume], Hematocrit [Pure volume fraction] of Arterial blood [Hematocrit], Hemoglobin I [Hemoglobin I], Hemoglobin [Hemoglobin], Hematocrit [Volume Fraction] of Venous blood [Hematocrit], Hematocrit test status/results [Hematocrit test status/results], Hemoglobin F [Hemoglobin F], Hematocrit [Volume Fraction] of Blood by Estimated [Hematocrit], Hematocrit [Pure volume fraction] of Body fluid [Hematocrit], Mean blood pressure [Intravascular mean], Hematocrit [Volume Fraction] of Mixed venous blood [Hematocrit], Hemoglobin M [Hemoglobin M], Hematocrit test status &amp;or results [Hematocrit test status &amp;or results], Hemoglobin N [Hemoglobin N], Blood flow rate [Blood flow rate], Hemoglobin S [Hemoglobin S], Hemoglobin A [Hemoglobin A], Hemoglobin and Hematocrit panel [Hemoglobin and Hematocrit panel]]</td>\n      <td>[0.0000, 0.0506, 0.0590, 0.0625, 0.0675, 0.0740, 0.1035, 0.1010, 0.1075, 0.1082, 0.1122, 0.1139, 0.1162, 0.1166, 0.1196, 0.1194, 0.1193, 0.1245, 0.1245, 0.1267, 0.1257, 0.1229, 0.1279, 0.1304, 0.1324]</td>\n    </tr>\n  </tbody>\n</table>\n</div>",
       "datasetInfos": [],
       "metadata": {},
       "removedWidgets": [],
       "textData": null,
       "type": "htmlSandbox"
      }
     },
     "output_type": "display_data"
    }
   ],
   "source": [
    "text = 'Hematocrit'\n",
    "\n",
    "%time get_codes (loinc_lp, text, vocab='loinc_code')"
   ]
  },
  {
   "cell_type": "markdown",
   "metadata": {
    "application/vnd.databricks.v1+cell": {
     "cellMetadata": {
      "byteLimit": 2048000,
      "rowLimit": 10000
     },
     "inputWidgets": {},
     "nuid": "48b1d1a3-5be3-4e63-b216-346e93ca7c78",
     "showTitle": false,
     "title": ""
    },
    "id": "7QHdE6uhv4Wh"
   },
   "source": [
    "## Sentence Entity Resolver (UMLS)"
   ]
  },
  {
   "cell_type": "markdown",
   "metadata": {
    "application/vnd.databricks.v1+cell": {
     "cellMetadata": {
      "byteLimit": 2048000,
      "rowLimit": 10000
     },
     "inputWidgets": {},
     "nuid": "978f2cdc-1bd7-4df6-ac8d-5a9aec9db592",
     "showTitle": false,
     "title": ""
    },
    "id": "Dt6c50hdv4Wh"
   },
   "source": [
    "- Unified Medical Language System (UMLS) integrates and distributes key terminology, classification and coding standards, and associated resources to promote creation of more effective and interoperable biomedical information systems and services, including electronic health records.\n",
    "\n",
    "- The UMLS, or Unified Medical Language System, is a set of files and software that brings together many health and biomedical vocabularies and standards to enable interoperability between computer systems.\n",
    "\n",
    "- The Metathesaurus forms the base of the UMLS and comprises over 1 million biomedical concepts and 5 million concept names, all of which stem from the over 100 incorporated controlled vocabularies and classification systems. Some examples of the incorporated controlled vocabularies are CPT, ICD-10, MeSH, SNOMED CT, DSM-IV, LOINC, WHO Adverse Drug Reaction Terminology, UK Clinical Terms, RxNorm, Gene Ontology, and OMIM\n",
    "\n",
    "**Pretrained Models**\n",
    "\n",
    "- `sbiobertresolve_umls_findings`\n",
    "- `sbiobertresolve_umls_major_concepts`\n",
    "- `sbiobertresolve_umls_disease_syndrome`\n",
    "- `sbiobertresolve_umls_clinical_drugs`"
   ]
  },
  {
   "cell_type": "code",
   "execution_count": 0,
   "metadata": {
    "application/vnd.databricks.v1+cell": {
     "cellMetadata": {
      "byteLimit": 2048000,
      "rowLimit": 10000
     },
     "inputWidgets": {},
     "nuid": "898db169-b3a4-4df5-9694-b9d7a2b42d3e",
     "showTitle": false,
     "title": ""
    },
    "colab": {
     "base_uri": "https://localhost:8080/"
    },
    "id": "9dho4lfjv4Wh",
    "outputId": "9f147f5d-d9ba-46a2-8ebc-a35557093767"
   },
   "outputs": [
    {
     "output_type": "stream",
     "name": "stdout",
     "output_type": "stream",
     "text": [
      "sbiobert_base_cased_mli download started this may take some time.\nApproximate size to download 384.3 MB\n\r[ | ]\r[OK!]\nsbiobertresolve_umls_major_concepts download started this may take some time.\n\r[ | ]\r[ / ]\r[ — ]\r[ \\ ]\r[ | ]\r[ / ]\r[ — ]\r[ \\ ]\r[ | ]\r[ / ]\r[ — ]\r[ \\ ]\r[ | ]\r[ / ]\r[ — ]\r[ \\ ]\r[ | ]\r[ / ]\r[ — ]\r[ \\ ]\r[ | ]\r[ / ]\r[ — ]\r[ \\ ]\r[ | ]\r[ / ]\r[ — ]\r[ \\ ]\r[OK!]\n"
     ]
    }
   ],
   "source": [
    "documentAssembler = nlp.DocumentAssembler()\\\n",
    "    .setInputCol(\"text\")\\\n",
    "    .setOutputCol(\"ner_chunk\")\n",
    "\n",
    "sbert_embedder = nlp.BertSentenceEmbeddings\\\n",
    "    .pretrained('sbiobert_base_cased_mli', 'en','clinical/models')\\\n",
    "    .setInputCols([\"ner_chunk\"])\\\n",
    "    .setOutputCol(\"sentence_embeddings\")\\\n",
    "    .setCaseSensitive(False)\n",
    "    \n",
    "umls_resolver = medical.SentenceEntityResolverModel.pretrained(\"sbiobertresolve_umls_major_concepts\", \"en\", \"clinical/models\") \\\n",
    "    .setInputCols([\"sentence_embeddings\"]) \\\n",
    "    .setOutputCol(\"umls_code\")\\\n",
    "    .setDistanceFunction(\"EUCLIDEAN\")\n",
    "\n",
    "umls_pipelineModel = nlp.PipelineModel(stages = [\n",
    "    documentAssembler,\n",
    "    sbert_embedder,\n",
    "    umls_resolver])\n",
    "\n",
    "umls_lp = nlp.LightPipeline(umls_pipelineModel)"
   ]
  },
  {
   "cell_type": "code",
   "execution_count": 0,
   "metadata": {
    "application/vnd.databricks.v1+cell": {
     "cellMetadata": {
      "byteLimit": 2048000,
      "rowLimit": 10000
     },
     "inputWidgets": {},
     "nuid": "1a8e39bf-c1ce-4a3c-9294-a48b19cbdef8",
     "showTitle": false,
     "title": ""
    },
    "colab": {
     "base_uri": "https://localhost:8080/",
     "height": 260
    },
    "id": "1v5VrAi4v4Wh",
    "outputId": "1697e0a1-a768-488f-ae73-593c066a7a58"
   },
   "outputs": [
    {
     "output_type": "stream",
     "name": "stdout",
     "output_type": "stream",
     "text": [
      "CPU times: user 20.5 ms, sys: 46.4 ms, total: 67 ms\nWall time: 1.26 s\n"
     ]
    },
    {
     "output_type": "display_data",
     "data": {
      "text/html": [
       "<div>\n",
       "<style scoped>\n",
       "    .dataframe tbody tr th:only-of-type {\n",
       "        vertical-align: middle;\n",
       "    }\n",
       "\n",
       "    .dataframe tbody tr th {\n",
       "        vertical-align: top;\n",
       "    }\n",
       "\n",
       "    .dataframe thead th {\n",
       "        text-align: right;\n",
       "    }\n",
       "</style>\n",
       "<table border=\"1\" class=\"dataframe\">\n",
       "  <thead>\n",
       "    <tr style=\"text-align: right;\">\n",
       "      <th></th>\n",
       "      <th>chunks</th>\n",
       "      <th>begin</th>\n",
       "      <th>end</th>\n",
       "      <th>code</th>\n",
       "      <th>all_codes</th>\n",
       "      <th>resolutions</th>\n",
       "      <th>all_distances</th>\n",
       "    </tr>\n",
       "  </thead>\n",
       "  <tbody>\n",
       "    <tr>\n",
       "      <th>0</th>\n",
       "      <td>food poisoning</td>\n",
       "      <td>0</td>\n",
       "      <td>13</td>\n",
       "      <td>C0016479</td>\n",
       "      <td>[C0016479, C0349783, C0411266, C0178496, C0161615, C0275107, C1272775, C0161721, C0232071, C0749596, C1271087, C0274909, C0679360]</td>\n",
       "      <td>[food poisoning, infectious food poisoning, chemical food poisoning (disorder), food poisoning bacterial, digestant poisoning, poisoning caused by ingestion of insect-infested food (disorder), burns food, toxic effect of noxious substance eaten as food (disorder), food aspiration, ingestion poisoning, suspected food poisoning (situation), toxic effect of food contaminant (disorder), foodborne illness]</td>\n",
       "      <td>[0.0000, 0.0507, 0.0660, 0.0668, 0.0871, 0.0876, 0.0913, 0.0981, 0.0989, 0.1006, 0.1033, 0.1042, 0.1041]</td>\n",
       "    </tr>\n",
       "  </tbody>\n",
       "</table>\n",
       "</div>"
      ]
     },
     "metadata": {
      "application/vnd.databricks.v1+output": {
       "addedWidgets": {},
       "arguments": {},
       "data": "<div>\n<style scoped>\n    .dataframe tbody tr th:only-of-type {\n        vertical-align: middle;\n    }\n\n    .dataframe tbody tr th {\n        vertical-align: top;\n    }\n\n    .dataframe thead th {\n        text-align: right;\n    }\n</style>\n<table border=\"1\" class=\"dataframe\">\n  <thead>\n    <tr style=\"text-align: right;\">\n      <th></th>\n      <th>chunks</th>\n      <th>begin</th>\n      <th>end</th>\n      <th>code</th>\n      <th>all_codes</th>\n      <th>resolutions</th>\n      <th>all_distances</th>\n    </tr>\n  </thead>\n  <tbody>\n    <tr>\n      <th>0</th>\n      <td>food poisoning</td>\n      <td>0</td>\n      <td>13</td>\n      <td>C0016479</td>\n      <td>[C0016479, C0349783, C0411266, C0178496, C0161615, C0275107, C1272775, C0161721, C0232071, C0749596, C1271087, C0274909, C0679360]</td>\n      <td>[food poisoning, infectious food poisoning, chemical food poisoning (disorder), food poisoning bacterial, digestant poisoning, poisoning caused by ingestion of insect-infested food (disorder), burns food, toxic effect of noxious substance eaten as food (disorder), food aspiration, ingestion poisoning, suspected food poisoning (situation), toxic effect of food contaminant (disorder), foodborne illness]</td>\n      <td>[0.0000, 0.0507, 0.0660, 0.0668, 0.0871, 0.0876, 0.0913, 0.0981, 0.0989, 0.1006, 0.1033, 0.1042, 0.1041]</td>\n    </tr>\n  </tbody>\n</table>\n</div>",
       "datasetInfos": [],
       "metadata": {},
       "removedWidgets": [],
       "textData": null,
       "type": "htmlSandbox"
      }
     },
     "output_type": "display_data"
    }
   ],
   "source": [
    "# Injuries & poisoning\n",
    "text = 'food poisoning'\n",
    "\n",
    "%time get_codes (umls_lp, text, vocab='umls_code')"
   ]
  },
  {
   "cell_type": "code",
   "execution_count": 0,
   "metadata": {
    "application/vnd.databricks.v1+cell": {
     "cellMetadata": {
      "byteLimit": 2048000,
      "rowLimit": 10000
     },
     "inputWidgets": {},
     "nuid": "83fcef75-7777-4aa0-aa88-c939cb309e11",
     "showTitle": false,
     "title": ""
    },
    "colab": {
     "base_uri": "https://localhost:8080/",
     "height": 311
    },
    "id": "6lNnklT_v4Wi",
    "outputId": "ee18e4b9-c73b-4c93-f44e-d95702d2c050",
    "scrolled": true
   },
   "outputs": [
    {
     "output_type": "stream",
     "name": "stdout",
     "output_type": "stream",
     "text": [
      "CPU times: user 24 ms, sys: 15.3 ms, total: 39.3 ms\nWall time: 1.2 s\n"
     ]
    },
    {
     "output_type": "display_data",
     "data": {
      "text/html": [
       "<div>\n",
       "<style scoped>\n",
       "    .dataframe tbody tr th:only-of-type {\n",
       "        vertical-align: middle;\n",
       "    }\n",
       "\n",
       "    .dataframe tbody tr th {\n",
       "        vertical-align: top;\n",
       "    }\n",
       "\n",
       "    .dataframe thead th {\n",
       "        text-align: right;\n",
       "    }\n",
       "</style>\n",
       "<table border=\"1\" class=\"dataframe\">\n",
       "  <thead>\n",
       "    <tr style=\"text-align: right;\">\n",
       "      <th></th>\n",
       "      <th>chunks</th>\n",
       "      <th>begin</th>\n",
       "      <th>end</th>\n",
       "      <th>code</th>\n",
       "      <th>all_codes</th>\n",
       "      <th>resolutions</th>\n",
       "      <th>all_distances</th>\n",
       "    </tr>\n",
       "  </thead>\n",
       "  <tbody>\n",
       "    <tr>\n",
       "      <th>0</th>\n",
       "      <td>type two diabetes mellitus</td>\n",
       "      <td>0</td>\n",
       "      <td>25</td>\n",
       "      <td>C4014362</td>\n",
       "      <td>[C4014362, C3532488, C1320657, C1313937, C0455488, C2733146, C4017629, C3532489, C3275844, C0241863, C1261139, C0421248, C5195213, C1317301, C3278636, C2675471, C0235397, C4316344, C3872445]</td>\n",
       "      <td>[type 2 diabetes mellitus (t2d), history of diabetes mellitus type 2 (situation), diabete type, fh: diabetes mellitus, pre-existing diabetes mellitus, type 2 diabetes mellitus uncontrolled, diabetes mellitus, type ii, digenic, history of diabetes mellitus type i, diabetes mellitus, type ii, susceptibility to, diabetic, diabetic relative, insulin diabetic, increased risk of type 2 diabetes, diabetes status, neonatal insulin-dependent diabetes mellitus, microvascular complications of diabetes, susceptibility to, 2, diabetes mellitus precipitated, disorder of vision due to secondary diabetes mellitus (disorder), suspected glaucoma due to type 2 diabetes mellitus (situation)]</td>\n",
       "      <td>[0.0438, 0.0568, 0.0618, 0.0697, 0.0780, 0.0891, 0.0910, 0.0883, 0.0940, 0.0939, 0.1031, 0.1062, 0.1087, 0.1104, 0.1116, 0.1201, 0.1138, 0.1198, 0.1243]</td>\n",
       "    </tr>\n",
       "  </tbody>\n",
       "</table>\n",
       "</div>"
      ]
     },
     "metadata": {
      "application/vnd.databricks.v1+output": {
       "addedWidgets": {},
       "arguments": {},
       "data": "<div>\n<style scoped>\n    .dataframe tbody tr th:only-of-type {\n        vertical-align: middle;\n    }\n\n    .dataframe tbody tr th {\n        vertical-align: top;\n    }\n\n    .dataframe thead th {\n        text-align: right;\n    }\n</style>\n<table border=\"1\" class=\"dataframe\">\n  <thead>\n    <tr style=\"text-align: right;\">\n      <th></th>\n      <th>chunks</th>\n      <th>begin</th>\n      <th>end</th>\n      <th>code</th>\n      <th>all_codes</th>\n      <th>resolutions</th>\n      <th>all_distances</th>\n    </tr>\n  </thead>\n  <tbody>\n    <tr>\n      <th>0</th>\n      <td>type two diabetes mellitus</td>\n      <td>0</td>\n      <td>25</td>\n      <td>C4014362</td>\n      <td>[C4014362, C3532488, C1320657, C1313937, C0455488, C2733146, C4017629, C3532489, C3275844, C0241863, C1261139, C0421248, C5195213, C1317301, C3278636, C2675471, C0235397, C4316344, C3872445]</td>\n      <td>[type 2 diabetes mellitus (t2d), history of diabetes mellitus type 2 (situation), diabete type, fh: diabetes mellitus, pre-existing diabetes mellitus, type 2 diabetes mellitus uncontrolled, diabetes mellitus, type ii, digenic, history of diabetes mellitus type i, diabetes mellitus, type ii, susceptibility to, diabetic, diabetic relative, insulin diabetic, increased risk of type 2 diabetes, diabetes status, neonatal insulin-dependent diabetes mellitus, microvascular complications of diabetes, susceptibility to, 2, diabetes mellitus precipitated, disorder of vision due to secondary diabetes mellitus (disorder), suspected glaucoma due to type 2 diabetes mellitus (situation)]</td>\n      <td>[0.0438, 0.0568, 0.0618, 0.0697, 0.0780, 0.0891, 0.0910, 0.0883, 0.0940, 0.0939, 0.1031, 0.1062, 0.1087, 0.1104, 0.1116, 0.1201, 0.1138, 0.1198, 0.1243]</td>\n    </tr>\n  </tbody>\n</table>\n</div>",
       "datasetInfos": [],
       "metadata": {},
       "removedWidgets": [],
       "textData": null,
       "type": "htmlSandbox"
      }
     },
     "output_type": "display_data"
    }
   ],
   "source": [
    "# clinical findings\n",
    "text = 'type two diabetes mellitus'\n",
    "\n",
    "%time get_codes (umls_lp, text, vocab='umls_code')"
   ]
  },
  {
   "cell_type": "markdown",
   "metadata": {
    "application/vnd.databricks.v1+cell": {
     "cellMetadata": {
      "byteLimit": 2048000,
      "rowLimit": 10000
     },
     "inputWidgets": {},
     "nuid": "6c8c82b7-838a-4146-89d0-4455051891e0",
     "showTitle": false,
     "title": ""
    },
    "id": "eELDkw1Rv4Wi"
   },
   "source": [
    "## Sentence Entity Resolver (HPO)"
   ]
  },
  {
   "cell_type": "markdown",
   "metadata": {
    "application/vnd.databricks.v1+cell": {
     "cellMetadata": {
      "byteLimit": 2048000,
      "rowLimit": 10000
     },
     "inputWidgets": {},
     "nuid": "7f0e0d01-bb38-4e36-ba80-0ff614d7ca18",
     "showTitle": false,
     "title": ""
    },
    "id": "9XFjZ7Oiv4Wi"
   },
   "source": [
    "The Human Phenotype Ontology (HPO) is a formal ontology of human phenotypes. Developed in collaboration with members of the Open Biomedical Ontologies Foundry, HPO currently contains over 13,000 terms and over 156,000 annotations to hereditary diseases. Data from Online Mendelian Inheritance in Man and medical literature were used to generate the terms currently in the HPO. The ontology contains over 50,000 annotations between phenotypes and hereditary disease.\n",
    "\n",
    "Each term in the HPO describes a clinical abnormality. These may be general terms, such as Abnormal ear morphology or very specific ones such as Chorioretinal atrophy. Each term is also assigned to one of the five subontologies. The terms have a unique ID such as HP:0001140 and a label such as *Epibulbar dermoid*."
   ]
  },
  {
   "cell_type": "code",
   "execution_count": 0,
   "metadata": {
    "application/vnd.databricks.v1+cell": {
     "cellMetadata": {
      "byteLimit": 2048000,
      "rowLimit": 10000
     },
     "inputWidgets": {},
     "nuid": "31445243-b2c7-4b16-a6bd-8ee6d4963ed3",
     "showTitle": false,
     "title": ""
    },
    "colab": {
     "base_uri": "https://localhost:8080/"
    },
    "id": "IUtPndNGv4Wj",
    "outputId": "7eaec71a-2f2b-49b3-dfae-5c20589a5a05"
   },
   "outputs": [
    {
     "output_type": "stream",
     "name": "stdout",
     "output_type": "stream",
     "text": [
      "sbiobert_base_cased_mli download started this may take some time.\nApproximate size to download 384.3 MB\n\r[ | ]\r[OK!]\nsbiobertresolve_HPO download started this may take some time.\n\r[ | ]\r[ / ]\r[ — ]\r[ \\ ]\r[OK!]\n"
     ]
    }
   ],
   "source": [
    "documentAssembler = nlp.DocumentAssembler()\\\n",
    "    .setInputCol(\"text\")\\\n",
    "    .setOutputCol(\"ner_chunk\")\n",
    "\n",
    "sbert_embedder = nlp.BertSentenceEmbeddings\\\n",
    "    .pretrained('sbiobert_base_cased_mli', 'en','clinical/models')\\\n",
    "    .setInputCols([\"ner_chunk\"])\\\n",
    "    .setOutputCol(\"sentence_embeddings\")\\\n",
    "    .setCaseSensitive(False)\n",
    "    \n",
    "hpo_resolver = medical.SentenceEntityResolverModel.pretrained(\"sbiobertresolve_HPO\", \"en\", \"clinical/models\") \\\n",
    "    .setInputCols([\"sentence_embeddings\"]) \\\n",
    "    .setOutputCol(\"hpo_code\")\\\n",
    "    .setDistanceFunction(\"EUCLIDEAN\")\n",
    "\n",
    "hpo_pipelineModel = nlp.PipelineModel(\n",
    "    stages = [\n",
    "        documentAssembler,\n",
    "        sbert_embedder,\n",
    "        hpo_resolver])\n",
    "\n",
    "hpo_lp = nlp.LightPipeline(hpo_pipelineModel)"
   ]
  },
  {
   "cell_type": "code",
   "execution_count": 0,
   "metadata": {
    "application/vnd.databricks.v1+cell": {
     "cellMetadata": {
      "byteLimit": 2048000,
      "rowLimit": 10000
     },
     "inputWidgets": {},
     "nuid": "a1451598-72c6-41de-aae9-24cee5da9611",
     "showTitle": false,
     "title": ""
    },
    "colab": {
     "base_uri": "https://localhost:8080/",
     "height": 328
    },
    "id": "8zuUtH4uv4Wj",
    "outputId": "4e4463bb-2aa7-4a36-8abc-055872e4bdce",
    "scrolled": false
   },
   "outputs": [
    {
     "output_type": "stream",
     "name": "stdout",
     "output_type": "stream",
     "text": [
      "CPU times: user 20.8 ms, sys: 19.1 ms, total: 39.9 ms\nWall time: 834 ms\n"
     ]
    },
    {
     "output_type": "display_data",
     "data": {
      "text/html": [
       "<div>\n",
       "<style scoped>\n",
       "    .dataframe tbody tr th:only-of-type {\n",
       "        vertical-align: middle;\n",
       "    }\n",
       "\n",
       "    .dataframe tbody tr th {\n",
       "        vertical-align: top;\n",
       "    }\n",
       "\n",
       "    .dataframe thead th {\n",
       "        text-align: right;\n",
       "    }\n",
       "</style>\n",
       "<table border=\"1\" class=\"dataframe\">\n",
       "  <thead>\n",
       "    <tr style=\"text-align: right;\">\n",
       "      <th></th>\n",
       "      <th>chunks</th>\n",
       "      <th>begin</th>\n",
       "      <th>end</th>\n",
       "      <th>code</th>\n",
       "      <th>all_codes</th>\n",
       "      <th>resolutions</th>\n",
       "      <th>all_distances</th>\n",
       "    </tr>\n",
       "  </thead>\n",
       "  <tbody>\n",
       "    <tr>\n",
       "      <th>0</th>\n",
       "      <td>schizophrenia</td>\n",
       "      <td>0</td>\n",
       "      <td>13</td>\n",
       "      <td>HP:0100753</td>\n",
       "      <td>[HP:0100753, HP:0000709, HP:0007302, HP:0000708, HP:0000725, HP:0011511, HP:0012077, HP:0001345, HP:0030325, HP:0012075, HP:0000722, HP:0033512, HP:0012076, HP:0100923, HP:0002072, HP:0033715, HP:0010891, HP:0011626, HP:0100656, HP:0033516, HP:0008404, HP:0002269]</td>\n",
       "      <td>[schizophrenia, psychosis, bipolar disorder, psychiatric disorders, psychotic episodes, macular schisis, histrionic personality disorder, psychotic mentation, cervicomedullary schisis, personality disorder, obsessive compulsive disorder, stimulant dependence, borderline personality disorder, clavicular sclerosis, choreatic disease, mesial temporal sclerosis, scheuermann disease, scimitar syndrome, thoracoabdominal schisis, benzodiazepine dependence, onychodystrophy, migrational brain disorder]</td>\n",
       "      <td>[0.0000, 0.1172, 0.1488, 0.1599, 0.1877, 0.1898, 0.1923, 0.2033, 0.2163, 0.2113, 0.2166, 0.2257, 0.2202, 0.2345, 0.2431, 0.2389, 0.2497, 0.2438, 0.2578, 0.2483, 0.2604, 0.2455]</td>\n",
       "    </tr>\n",
       "  </tbody>\n",
       "</table>\n",
       "</div>"
      ]
     },
     "metadata": {
      "application/vnd.databricks.v1+output": {
       "addedWidgets": {},
       "arguments": {},
       "data": "<div>\n<style scoped>\n    .dataframe tbody tr th:only-of-type {\n        vertical-align: middle;\n    }\n\n    .dataframe tbody tr th {\n        vertical-align: top;\n    }\n\n    .dataframe thead th {\n        text-align: right;\n    }\n</style>\n<table border=\"1\" class=\"dataframe\">\n  <thead>\n    <tr style=\"text-align: right;\">\n      <th></th>\n      <th>chunks</th>\n      <th>begin</th>\n      <th>end</th>\n      <th>code</th>\n      <th>all_codes</th>\n      <th>resolutions</th>\n      <th>all_distances</th>\n    </tr>\n  </thead>\n  <tbody>\n    <tr>\n      <th>0</th>\n      <td>schizophrenia</td>\n      <td>0</td>\n      <td>13</td>\n      <td>HP:0100753</td>\n      <td>[HP:0100753, HP:0000709, HP:0007302, HP:0000708, HP:0000725, HP:0011511, HP:0012077, HP:0001345, HP:0030325, HP:0012075, HP:0000722, HP:0033512, HP:0012076, HP:0100923, HP:0002072, HP:0033715, HP:0010891, HP:0011626, HP:0100656, HP:0033516, HP:0008404, HP:0002269]</td>\n      <td>[schizophrenia, psychosis, bipolar disorder, psychiatric disorders, psychotic episodes, macular schisis, histrionic personality disorder, psychotic mentation, cervicomedullary schisis, personality disorder, obsessive compulsive disorder, stimulant dependence, borderline personality disorder, clavicular sclerosis, choreatic disease, mesial temporal sclerosis, scheuermann disease, scimitar syndrome, thoracoabdominal schisis, benzodiazepine dependence, onychodystrophy, migrational brain disorder]</td>\n      <td>[0.0000, 0.1172, 0.1488, 0.1599, 0.1877, 0.1898, 0.1923, 0.2033, 0.2163, 0.2113, 0.2166, 0.2257, 0.2202, 0.2345, 0.2431, 0.2389, 0.2497, 0.2438, 0.2578, 0.2483, 0.2604, 0.2455]</td>\n    </tr>\n  </tbody>\n</table>\n</div>",
       "datasetInfos": [],
       "metadata": {},
       "removedWidgets": [],
       "textData": null,
       "type": "htmlSandbox"
      }
     },
     "output_type": "display_data"
    }
   ],
   "source": [
    "text = 'schizophrenia '\n",
    "\n",
    "%time get_codes (hpo_lp, text, vocab='hpo_code')"
   ]
  },
  {
   "cell_type": "code",
   "execution_count": 0,
   "metadata": {
    "application/vnd.databricks.v1+cell": {
     "cellMetadata": {
      "byteLimit": 2048000,
      "rowLimit": 10000
     },
     "inputWidgets": {},
     "nuid": "dcbd2dc7-19a3-42bd-b061-98332174c557",
     "showTitle": false,
     "title": ""
    },
    "colab": {
     "base_uri": "https://localhost:8080/",
     "height": 311
    },
    "id": "RdidqWVjv4Wj",
    "outputId": "276c7802-029b-4a5a-ceae-f172e3c3103a"
   },
   "outputs": [
    {
     "output_type": "stream",
     "name": "stdout",
     "output_type": "stream",
     "text": [
      "CPU times: user 19.6 ms, sys: 22.5 ms, total: 42.1 ms\nWall time: 665 ms\n"
     ]
    },
    {
     "output_type": "display_data",
     "data": {
      "text/html": [
       "<div>\n",
       "<style scoped>\n",
       "    .dataframe tbody tr th:only-of-type {\n",
       "        vertical-align: middle;\n",
       "    }\n",
       "\n",
       "    .dataframe tbody tr th {\n",
       "        vertical-align: top;\n",
       "    }\n",
       "\n",
       "    .dataframe thead th {\n",
       "        text-align: right;\n",
       "    }\n",
       "</style>\n",
       "<table border=\"1\" class=\"dataframe\">\n",
       "  <thead>\n",
       "    <tr style=\"text-align: right;\">\n",
       "      <th></th>\n",
       "      <th>chunks</th>\n",
       "      <th>begin</th>\n",
       "      <th>end</th>\n",
       "      <th>code</th>\n",
       "      <th>all_codes</th>\n",
       "      <th>resolutions</th>\n",
       "      <th>all_distances</th>\n",
       "    </tr>\n",
       "  </thead>\n",
       "  <tbody>\n",
       "    <tr>\n",
       "      <th>0</th>\n",
       "      <td>Abnormality of the upper limb</td>\n",
       "      <td>0</td>\n",
       "      <td>28</td>\n",
       "      <td>HP:0002817</td>\n",
       "      <td>[HP:0002817, HP:0001454, HP:0009810, HP:0001446, HP:0100560, HP:0001457, HP:0040064, HP:0009808, HP:0040286, HP:0100022, HP:0002087, HP:0009127, HP:0000177, HP:0001999, HP:0011729, HP:0002813, HP:0001367, HP:0001155, HP:0000496, HP:0011297]</td>\n",
       "      <td>[abnormality of the upper limb, abnormality of the upper arm, abnormality of upper limb joint, abnormal upper limb muscles, upper limb asymmetry, abnormality of the musculature of the upper arm, abnormality of limbs, diaphyseal abnormality of the upper limbs, abnormality of axial muscles, abnormality of movement, abnormality of the upper respiratory tract, abnormal limb muscles, abnormality of upper lip, abnormal facial shape, abnormality of joint mobility, limb abnormality, abnormality of the joints, abnormality of the hand, abnormal eye movement, abnormality of digit]</td>\n",
       "      <td>[0.0000, 0.0141, 0.0195, 0.0423, 0.0465, 0.0532, 0.0585, 0.0609, 0.0623, 0.0648, 0.0654, 0.0678, 0.0690, 0.0701, 0.0713, 0.0723, 0.0734, 0.0731, 0.0737, 0.0784]</td>\n",
       "    </tr>\n",
       "  </tbody>\n",
       "</table>\n",
       "</div>"
      ]
     },
     "metadata": {
      "application/vnd.databricks.v1+output": {
       "addedWidgets": {},
       "arguments": {},
       "data": "<div>\n<style scoped>\n    .dataframe tbody tr th:only-of-type {\n        vertical-align: middle;\n    }\n\n    .dataframe tbody tr th {\n        vertical-align: top;\n    }\n\n    .dataframe thead th {\n        text-align: right;\n    }\n</style>\n<table border=\"1\" class=\"dataframe\">\n  <thead>\n    <tr style=\"text-align: right;\">\n      <th></th>\n      <th>chunks</th>\n      <th>begin</th>\n      <th>end</th>\n      <th>code</th>\n      <th>all_codes</th>\n      <th>resolutions</th>\n      <th>all_distances</th>\n    </tr>\n  </thead>\n  <tbody>\n    <tr>\n      <th>0</th>\n      <td>Abnormality of the upper limb</td>\n      <td>0</td>\n      <td>28</td>\n      <td>HP:0002817</td>\n      <td>[HP:0002817, HP:0001454, HP:0009810, HP:0001446, HP:0100560, HP:0001457, HP:0040064, HP:0009808, HP:0040286, HP:0100022, HP:0002087, HP:0009127, HP:0000177, HP:0001999, HP:0011729, HP:0002813, HP:0001367, HP:0001155, HP:0000496, HP:0011297]</td>\n      <td>[abnormality of the upper limb, abnormality of the upper arm, abnormality of upper limb joint, abnormal upper limb muscles, upper limb asymmetry, abnormality of the musculature of the upper arm, abnormality of limbs, diaphyseal abnormality of the upper limbs, abnormality of axial muscles, abnormality of movement, abnormality of the upper respiratory tract, abnormal limb muscles, abnormality of upper lip, abnormal facial shape, abnormality of joint mobility, limb abnormality, abnormality of the joints, abnormality of the hand, abnormal eye movement, abnormality of digit]</td>\n      <td>[0.0000, 0.0141, 0.0195, 0.0423, 0.0465, 0.0532, 0.0585, 0.0609, 0.0623, 0.0648, 0.0654, 0.0678, 0.0690, 0.0701, 0.0713, 0.0723, 0.0734, 0.0731, 0.0737, 0.0784]</td>\n    </tr>\n  </tbody>\n</table>\n</div>",
       "datasetInfos": [],
       "metadata": {},
       "removedWidgets": [],
       "textData": null,
       "type": "htmlSandbox"
      }
     },
     "output_type": "display_data"
    }
   ],
   "source": [
    "text = 'Abnormality of the upper limb'\n",
    "\n",
    "%time get_codes (hpo_lp, text, vocab='hpo_code')"
   ]
  },
  {
   "cell_type": "code",
   "execution_count": 0,
   "metadata": {
    "application/vnd.databricks.v1+cell": {
     "cellMetadata": {
      "byteLimit": 2048000,
      "rowLimit": 10000
     },
     "inputWidgets": {},
     "nuid": "2e032d80-d7fc-40af-a83f-b157c575e0ec",
     "showTitle": false,
     "title": ""
    },
    "colab": {
     "base_uri": "https://localhost:8080/",
     "height": 260
    },
    "id": "3VOcD20gv4Wj",
    "outputId": "7716ad48-eeaf-43b8-c868-1f5c963e8452",
    "scrolled": true
   },
   "outputs": [
    {
     "output_type": "stream",
     "name": "stdout",
     "output_type": "stream",
     "text": [
      "CPU times: user 17.9 ms, sys: 6.61 ms, total: 24.5 ms\nWall time: 542 ms\n"
     ]
    },
    {
     "output_type": "display_data",
     "data": {
      "text/html": [
       "<div>\n",
       "<style scoped>\n",
       "    .dataframe tbody tr th:only-of-type {\n",
       "        vertical-align: middle;\n",
       "    }\n",
       "\n",
       "    .dataframe tbody tr th {\n",
       "        vertical-align: top;\n",
       "    }\n",
       "\n",
       "    .dataframe thead th {\n",
       "        text-align: right;\n",
       "    }\n",
       "</style>\n",
       "<table border=\"1\" class=\"dataframe\">\n",
       "  <thead>\n",
       "    <tr style=\"text-align: right;\">\n",
       "      <th></th>\n",
       "      <th>chunks</th>\n",
       "      <th>begin</th>\n",
       "      <th>end</th>\n",
       "      <th>code</th>\n",
       "      <th>all_codes</th>\n",
       "      <th>resolutions</th>\n",
       "      <th>all_distances</th>\n",
       "    </tr>\n",
       "  </thead>\n",
       "  <tbody>\n",
       "    <tr>\n",
       "      <th>0</th>\n",
       "      <td>Muscle haemorrhage</td>\n",
       "      <td>0</td>\n",
       "      <td>17</td>\n",
       "      <td>HP:0040242</td>\n",
       "      <td>[HP:0040242, HP:0012233, HP:0040223, HP:0025582, HP:0031611, HP:0001933, HP:0002239, HP:0031805, HP:0005261, HP:0011029, HP:0032990, HP:0025239, HP:0003713, HP:0031803]</td>\n",
       "      <td>[muscle haemorrhage, intramuscular hemorrhage, pulmonary haemorrhage, submacular haemorrhage, sub-ilm haemorrhage, subcutaneous haemorrhage, gi hemorrhage, intraretinal haemorrhage, joint haemorrhage, internal haemorrhage, localised pulmonary haemorrhage, subhyaloid haemorrhage, muscle fibre necrosis, fundus haemorrhage]</td>\n",
       "      <td>[0.0000, 0.0749, 0.1115, 0.1187, 0.1209, 0.1211, 0.1261, 0.1263, 0.1281, 0.1290, 0.1368, 0.1510, 0.1450, 0.1466]</td>\n",
       "    </tr>\n",
       "  </tbody>\n",
       "</table>\n",
       "</div>"
      ]
     },
     "metadata": {
      "application/vnd.databricks.v1+output": {
       "addedWidgets": {},
       "arguments": {},
       "data": "<div>\n<style scoped>\n    .dataframe tbody tr th:only-of-type {\n        vertical-align: middle;\n    }\n\n    .dataframe tbody tr th {\n        vertical-align: top;\n    }\n\n    .dataframe thead th {\n        text-align: right;\n    }\n</style>\n<table border=\"1\" class=\"dataframe\">\n  <thead>\n    <tr style=\"text-align: right;\">\n      <th></th>\n      <th>chunks</th>\n      <th>begin</th>\n      <th>end</th>\n      <th>code</th>\n      <th>all_codes</th>\n      <th>resolutions</th>\n      <th>all_distances</th>\n    </tr>\n  </thead>\n  <tbody>\n    <tr>\n      <th>0</th>\n      <td>Muscle haemorrhage</td>\n      <td>0</td>\n      <td>17</td>\n      <td>HP:0040242</td>\n      <td>[HP:0040242, HP:0012233, HP:0040223, HP:0025582, HP:0031611, HP:0001933, HP:0002239, HP:0031805, HP:0005261, HP:0011029, HP:0032990, HP:0025239, HP:0003713, HP:0031803]</td>\n      <td>[muscle haemorrhage, intramuscular hemorrhage, pulmonary haemorrhage, submacular haemorrhage, sub-ilm haemorrhage, subcutaneous haemorrhage, gi hemorrhage, intraretinal haemorrhage, joint haemorrhage, internal haemorrhage, localised pulmonary haemorrhage, subhyaloid haemorrhage, muscle fibre necrosis, fundus haemorrhage]</td>\n      <td>[0.0000, 0.0749, 0.1115, 0.1187, 0.1209, 0.1211, 0.1261, 0.1263, 0.1281, 0.1290, 0.1368, 0.1510, 0.1450, 0.1466]</td>\n    </tr>\n  </tbody>\n</table>\n</div>",
       "datasetInfos": [],
       "metadata": {},
       "removedWidgets": [],
       "textData": null,
       "type": "htmlSandbox"
      }
     },
     "output_type": "display_data"
    }
   ],
   "source": [
    "text = 'Muscle haemorrhage'\n",
    "\n",
    "%time get_codes (hpo_lp, text, vocab='hpo_code')"
   ]
  },
  {
   "cell_type": "markdown",
   "metadata": {
    "application/vnd.databricks.v1+cell": {
     "cellMetadata": {
      "byteLimit": 2048000,
      "rowLimit": 10000
     },
     "inputWidgets": {},
     "nuid": "7445ea51-9e10-44f6-83df-b722a73e6796",
     "showTitle": false,
     "title": ""
    }
   },
   "source": [
    "## Assertion Filterer - Using with Resolvers\n",
    "\n",
    "\n",
    "We can determine the **assertion status** of the entities and filter by `present` with `AssertionFilterer` and then use it in the **Resolver** model."
   ]
  },
  {
   "cell_type": "code",
   "execution_count": 0,
   "metadata": {
    "application/vnd.databricks.v1+cell": {
     "cellMetadata": {
      "byteLimit": 2048000,
      "rowLimit": 10000
     },
     "inputWidgets": {},
     "nuid": "203d9288-043c-4751-a695-ce1d8256a249",
     "showTitle": false,
     "title": ""
    }
   },
   "outputs": [
    {
     "output_type": "stream",
     "name": "stdout",
     "output_type": "stream",
     "text": [
      "embeddings_clinical download started this may take some time.\nApproximate size to download 1.6 GB\n\r[ | ]\r[ / ]\r[ — ]\r[ \\ ]\r[ | ]\r[ / ]\r[ — ]\r[ \\ ]\r[ | ]\r[ / ]\r[ — ]\r[ \\ ]\r[ | ]\r[ / ]\r[ — ]\r[ \\ ]\r[ | ]\r[ / ]\r[ — ]\r[ \\ ]\r[ | ]\r[ / ]\r[ — ]\r[ \\ ]\r[ | ]\r[ / ]\r[ — ]\r[ \\ ]\r[ | ]\r[ / ]\r[ — ]\r[ \\ ]\r[ | ]\r[ / ]\r[ — ]\r[ \\ ]\r[ | ]\r[ / ]\r[ — ]\r[ \\ ]\r[ | ]\r[ / ]\r[ — ]\r[ \\ ]\r[ | ]\r[ / ]\r[ — ]\r[ \\ ]\r[ | ]\r[ / ]\r[ — ]\r[ \\ ]\r[OK!]\nner_clinical download started this may take some time.\n\r[ | ]\r[ / ]\r[ — ]\r[ \\ ]\r[ | ]\r[ / ]\r[ — ]\r[ \\ ]\r[ | ]\r[ / ]\r[ — ]\r[ \\ ]\r[ | ]\r[ / ]\r[ — ]\r[ \\ ]\r[ | ]\r[ / ]\r[ — ]\r[ \\ ]\r[ | ]\r[ / ]\r[ — ]\r[ \\ ]\r[ | ]\r[ / ]\r[ — ]\r[ \\ ]\r[ | ]\r[ / ]\r[ — ]\r[ \\ ]\r[ | ]\r[ / ]\r[ — ]\r[ \\ ]\r[ | ]\r[ / ]\r[ — ]\r[ \\ ]\r[ | ]\r[ / ]\r[ — ]\r[ \\ ]\r[ | ]\r[ / ]\r[ — ]\r[ \\ ]\r[ | ]\r[ / ]\r[ — ]\r[ \\ ]\r[ | ]\r[ / ]\r[ — ]\r[ \\ ]\r[ | ]\r[ / ]\r[ — ]\r[ \\ ]\r[ | ]\r[ / ]\r[ — ]\r[ \\ ]\r[ | ]\r[ / ]\r[ — ]\r[ \\ ]\r[ | ]\r[ / ]\r[ — ]\r[ \\ ]\r[ | ]\r[ / ]\r[ — ]\r[ \\ ]\r[ | ]\r[ / ]\r[ — ]\r[ \\ ]\r[ | ]\r[ / ]\r[ — ]\r[ \\ ]\r[ | ]\r[ / ]\r[ — ]\r[ \\ ]\r[ | ]\r[ / ]\r[ — ]\r[ \\ ]\r[ | ]\r[ / ]\r[ — ]\r[ \\ ]\r[ | ]\r[ / ]\r[ — ]\r[ \\ ]\r[ | ]\r[ / ]\r[ — ]\r[ \\ ]\r[ | ]\r[ / ]\r[ — ]\r[ \\ ]\r[ | ]\r[ / ]\r[ — ]\r[OK!]\nassertion_dl download started this may take some time.\n\r[ | ]\r[ / ]\r[OK!]\nsbiobert_base_cased_mli download started this may take some time.\nApproximate size to download 384.3 MB\n\r[ | ]\r[ / ]\r[ — ]\r[ \\ ]\r[ | ]\r[ / ]\r[ — ]\r[ \\ ]\r[ | ]\r[ / ]\r[ — ]\r[OK!]\nsbiobertresolve_icd10cm_augmented_billable_hcc download started this may take some time.\n\r[ | ]\r[ / ]\r[ — ]\r[ \\ ]\r[ | ]\r[ / ]\r[ — ]\r[ \\ ]\r[ | ]\r[ / ]\r[ — ]\r[ \\ ]\r[ | ]\r[ / ]\r[ — ]\r[ \\ ]\r[ | ]\r[ / ]\r[ — ]\r[ \\ ]\r[ | ]\r[ / ]\r[ — ]\r[ \\ ]\r[ | ]\r[ / ]\r[OK!]\n"
     ]
    }
   ],
   "source": [
    "documentAssembler = nlp.DocumentAssembler()\\\n",
    "    .setInputCol(\"text\")\\\n",
    "    .setOutputCol(\"document\")\n",
    "\n",
    "# Sentence Detector annotator, processes various sentences per line\n",
    "sentenceDetector = nlp.SentenceDetector()\\\n",
    "    .setInputCols([\"document\"])\\\n",
    "    .setOutputCol(\"sentence\")\n",
    "\n",
    "# Tokenizer splits words in a relevant format for NLP\n",
    "tokenizer = nlp.Tokenizer()\\\n",
    "    .setInputCols([\"sentence\"])\\\n",
    "    .setOutputCol(\"token\")\n",
    "\n",
    "# Clinical word embeddings trained on PubMED dataset\n",
    "word_embeddings = nlp.WordEmbeddingsModel.pretrained(\"embeddings_clinical\", \"en\", \"clinical/models\")\\\n",
    "    .setInputCols([\"sentence\", \"token\"])\\\n",
    "    .setOutputCol(\"embeddings\")\n",
    "\n",
    "# NER model trained on i2b2 (sampled from MIMIC) dataset\n",
    "clinical_ner = medical.NerModel.pretrained(\"ner_clinical\", \"en\", \"clinical/models\") \\\n",
    "    .setInputCols([\"sentence\", \"token\", \"embeddings\"]) \\\n",
    "    .setOutputCol(\"ner\")\\\n",
    "\n",
    "ner_converter = medical.NerConverterInternal() \\\n",
    "    .setInputCols([\"sentence\", \"token\", \"ner\"]) \\\n",
    "    .setOutputCol(\"ner_chunk\")\\\n",
    "    .setWhiteList([\"Problem\"])\n",
    "\n",
    "clinical_assertion = medical.AssertionDLModel.pretrained(\"assertion_dl\", \"en\", \"clinical/models\") \\\n",
    "    .setInputCols([\"sentence\", \"ner_chunk\", \"embeddings\"]) \\\n",
    "    .setOutputCol(\"assertion\")\n",
    "\n",
    "assertion_filterer = medical.AssertionFilterer()\\\n",
    "    .setInputCols(\"sentence\",\"ner_chunk\",\"assertion\")\\\n",
    "    .setOutputCol(\"assertion_filtered\")\\\n",
    "    .setCaseSensitive(False)\\\n",
    "    .setWhiteList([\"PREsent\"])\n",
    "\n",
    "c2doc = nlp.Chunk2Doc()\\\n",
    "    .setInputCols(\"assertion_filtered\")\\\n",
    "    .setOutputCol(\"doc_ner_chunk\") \n",
    "\n",
    "sbert_embedder = nlp.BertSentenceEmbeddings.pretrained('sbiobert_base_cased_mli', 'en','clinical/models')\\\n",
    "    .setInputCols([\"doc_ner_chunk\"])\\\n",
    "    .setOutputCol(\"sentence_embeddings\")\\\n",
    "    .setCaseSensitive(False)\n",
    "    \n",
    "icd_resolver = medical.SentenceEntityResolverModel.pretrained(\"sbiobertresolve_icd10cm_augmented_billable_hcc\",\"en\", \"clinical/models\") \\\n",
    "    .setInputCols([\"sentence_embeddings\"]) \\\n",
    "    .setOutputCol(\"icd10cm_code\")\\\n",
    "    .setDistanceFunction(\"EUCLIDEAN\")\n",
    "\n",
    "nlpPipeline = nlp.Pipeline(stages=[\n",
    "      documentAssembler, \n",
    "      sentenceDetector,\n",
    "      tokenizer,\n",
    "      word_embeddings,\n",
    "      clinical_ner,\n",
    "      ner_converter,\n",
    "      clinical_assertion,\n",
    "      assertion_filterer,\n",
    "      c2doc,\n",
    "      sbert_embedder,\n",
    "      icd_resolver\n",
    "    ])\n",
    "\n",
    "empty_data = spark.createDataFrame([[\"\"]]).toDF(\"text\")\n",
    "assertionFilter_model = nlpPipeline.fit(empty_data)"
   ]
  },
  {
   "cell_type": "code",
   "execution_count": 0,
   "metadata": {
    "application/vnd.databricks.v1+cell": {
     "cellMetadata": {
      "byteLimit": 2048000,
      "rowLimit": 10000
     },
     "inputWidgets": {},
     "nuid": "a7bd2cdc-beac-43f3-891a-7635dc2c5412",
     "showTitle": false,
     "title": ""
    }
   },
   "outputs": [],
   "source": [
    "clinical_note = [\"\"\"\n",
    "Patient with severe fever and sore throat.  He shows no stomach pain and he maintained on an epidural and PCA for pain control.\n",
    "He also became short of breath with climbing a flight of stairs. After CT, lung tumor located at the right lower lobe. Father with Alzheimer.\n",
    "\"\"\"]\n",
    "\n",
    "light_model = nlp.LightPipeline(assertionFilter_model)\n",
    "\n",
    "light_result = light_model.fullAnnotate(clinical_note)[0]"
   ]
  },
  {
   "cell_type": "code",
   "execution_count": 0,
   "metadata": {
    "application/vnd.databricks.v1+cell": {
     "cellMetadata": {
      "byteLimit": 2048000,
      "rowLimit": 10000
     },
     "inputWidgets": {},
     "nuid": "64bb8afa-a9bc-45a9-810d-4fb7287e22f4",
     "showTitle": false,
     "title": ""
    }
   },
   "outputs": [
    {
     "output_type": "stream",
     "name": "stdout",
     "output_type": "stream",
     "text": [
      "Out[9]: dict_keys(['assertion_filtered', 'document', 'ner_chunk', 'assertion', 'sentence_embeddings', 'icd10cm_code', 'token', 'ner', 'embeddings', 'doc_ner_chunk', 'sentence'])"
     ]
    }
   ],
   "source": [
    "light_result.keys()"
   ]
  },
  {
   "cell_type": "code",
   "execution_count": 0,
   "metadata": {
    "application/vnd.databricks.v1+cell": {
     "cellMetadata": {
      "byteLimit": 2048000,
      "rowLimit": 10000
     },
     "inputWidgets": {},
     "nuid": "580d4833-1d3c-42fc-9856-fe1fcdc2ef0c",
     "showTitle": false,
     "title": ""
    }
   },
   "outputs": [
    {
     "output_type": "display_data",
     "data": {
      "text/html": [
       "<div>\n",
       "<style scoped>\n",
       "    .dataframe tbody tr th:only-of-type {\n",
       "        vertical-align: middle;\n",
       "    }\n",
       "\n",
       "    .dataframe tbody tr th {\n",
       "        vertical-align: top;\n",
       "    }\n",
       "\n",
       "    .dataframe thead th {\n",
       "        text-align: right;\n",
       "    }\n",
       "</style>\n",
       "<table border=\"1\" class=\"dataframe\">\n",
       "  <thead>\n",
       "    <tr style=\"text-align: right;\">\n",
       "      <th></th>\n",
       "      <th>chunks</th>\n",
       "      <th>entities</th>\n",
       "      <th>assertion</th>\n",
       "      <th>confidence</th>\n",
       "    </tr>\n",
       "  </thead>\n",
       "  <tbody>\n",
       "    <tr>\n",
       "      <th>0</th>\n",
       "      <td>severe fever</td>\n",
       "      <td>PROBLEM</td>\n",
       "      <td>present</td>\n",
       "      <td>1.0</td>\n",
       "    </tr>\n",
       "    <tr>\n",
       "      <th>1</th>\n",
       "      <td>sore throat</td>\n",
       "      <td>PROBLEM</td>\n",
       "      <td>present</td>\n",
       "      <td>1.0</td>\n",
       "    </tr>\n",
       "    <tr>\n",
       "      <th>2</th>\n",
       "      <td>stomach pain</td>\n",
       "      <td>PROBLEM</td>\n",
       "      <td>absent</td>\n",
       "      <td>0.8322</td>\n",
       "    </tr>\n",
       "    <tr>\n",
       "      <th>3</th>\n",
       "      <td>pain control</td>\n",
       "      <td>PROBLEM</td>\n",
       "      <td>hypothetical</td>\n",
       "      <td>0.9441</td>\n",
       "    </tr>\n",
       "    <tr>\n",
       "      <th>4</th>\n",
       "      <td>short of breath</td>\n",
       "      <td>PROBLEM</td>\n",
       "      <td>conditional</td>\n",
       "      <td>0.9895</td>\n",
       "    </tr>\n",
       "    <tr>\n",
       "      <th>5</th>\n",
       "      <td>lung tumor</td>\n",
       "      <td>PROBLEM</td>\n",
       "      <td>present</td>\n",
       "      <td>0.9961</td>\n",
       "    </tr>\n",
       "    <tr>\n",
       "      <th>6</th>\n",
       "      <td>Alzheimer</td>\n",
       "      <td>PROBLEM</td>\n",
       "      <td>associated_with_someone_else</td>\n",
       "      <td>0.996</td>\n",
       "    </tr>\n",
       "  </tbody>\n",
       "</table>\n",
       "</div>"
      ]
     },
     "metadata": {
      "application/vnd.databricks.v1+output": {
       "addedWidgets": {},
       "arguments": {},
       "data": "<div>\n<style scoped>\n    .dataframe tbody tr th:only-of-type {\n        vertical-align: middle;\n    }\n\n    .dataframe tbody tr th {\n        vertical-align: top;\n    }\n\n    .dataframe thead th {\n        text-align: right;\n    }\n</style>\n<table border=\"1\" class=\"dataframe\">\n  <thead>\n    <tr style=\"text-align: right;\">\n      <th></th>\n      <th>chunks</th>\n      <th>entities</th>\n      <th>assertion</th>\n      <th>confidence</th>\n    </tr>\n  </thead>\n  <tbody>\n    <tr>\n      <th>0</th>\n      <td>severe fever</td>\n      <td>PROBLEM</td>\n      <td>present</td>\n      <td>1.0</td>\n    </tr>\n    <tr>\n      <th>1</th>\n      <td>sore throat</td>\n      <td>PROBLEM</td>\n      <td>present</td>\n      <td>1.0</td>\n    </tr>\n    <tr>\n      <th>2</th>\n      <td>stomach pain</td>\n      <td>PROBLEM</td>\n      <td>absent</td>\n      <td>0.8322</td>\n    </tr>\n    <tr>\n      <th>3</th>\n      <td>pain control</td>\n      <td>PROBLEM</td>\n      <td>hypothetical</td>\n      <td>0.9441</td>\n    </tr>\n    <tr>\n      <th>4</th>\n      <td>short of breath</td>\n      <td>PROBLEM</td>\n      <td>conditional</td>\n      <td>0.9895</td>\n    </tr>\n    <tr>\n      <th>5</th>\n      <td>lung tumor</td>\n      <td>PROBLEM</td>\n      <td>present</td>\n      <td>0.9961</td>\n    </tr>\n    <tr>\n      <th>6</th>\n      <td>Alzheimer</td>\n      <td>PROBLEM</td>\n      <td>associated_with_someone_else</td>\n      <td>0.996</td>\n    </tr>\n  </tbody>\n</table>\n</div>",
       "datasetInfos": [],
       "metadata": {},
       "removedWidgets": [],
       "textData": null,
       "type": "htmlSandbox"
      }
     },
     "output_type": "display_data"
    }
   ],
   "source": [
    "chunks=[]\n",
    "entities=[]\n",
    "status=[]\n",
    "confidence=[]\n",
    "\n",
    "for m, n in zip(light_result['ner_chunk'],light_result[\"assertion\"] ):\n",
    "    \n",
    "    chunks.append(m.result)\n",
    "    entities.append(m.metadata['entity']) \n",
    "    status.append(n.result)\n",
    "    confidence.append(n.metadata['confidence'])\n",
    "\n",
    "df = pd.DataFrame({'chunks':chunks, 'entities':entities,'assertion':status, 'confidence':confidence })\n",
    "\n",
    "df"
   ]
  },
  {
   "cell_type": "code",
   "execution_count": 0,
   "metadata": {
    "application/vnd.databricks.v1+cell": {
     "cellMetadata": {
      "byteLimit": 2048000,
      "rowLimit": 10000
     },
     "inputWidgets": {},
     "nuid": "bf70b6ef-3729-4f17-aa98-a55b26f56161",
     "showTitle": false,
     "title": ""
    }
   },
   "outputs": [
    {
     "output_type": "display_data",
     "data": {
      "text/html": [
       "\n",
       "<style>\n",
       "    @import url('https://fonts.googleapis.com/css2?family=Montserrat:wght@300;400;500;600;700&display=swap');\n",
       "    @import url('https://fonts.googleapis.com/css2?family=Vistol Regular:wght@300;400;500;600;700&display=swap');\n",
       "    \n",
       "    .spark-nlp-display-scroll-entities {\n",
       "        border: 1px solid #E7EDF0;\n",
       "        border-radius: 3px;\n",
       "        text-align: justify;\n",
       "        \n",
       "    }\n",
       "    .spark-nlp-display-scroll-entities span {  \n",
       "        font-size: 14px;\n",
       "        line-height: 24px;\n",
       "        color: #536B76;\n",
       "        font-family: 'Montserrat', sans-serif !important;\n",
       "    }\n",
       "    \n",
       "    .spark-nlp-display-entity-wrapper{\n",
       "    \n",
       "        display: inline-grid;\n",
       "        text-align: center;\n",
       "        border-radius: 4px;\n",
       "        margin: 0 2px 5px 2px;\n",
       "        padding: 1px\n",
       "    }\n",
       "    .spark-nlp-display-entity-name{\n",
       "        font-size: 14px;\n",
       "        line-height: 24px;\n",
       "        font-family: 'Montserrat', sans-serif !important;\n",
       "        \n",
       "        background: #f1f2f3;\n",
       "        border-width: medium;\n",
       "        text-align: center;\n",
       "        \n",
       "        font-weight: 400;\n",
       "        \n",
       "        border-radius: 5px;\n",
       "        padding: 2px 5px;\n",
       "        display: block;\n",
       "        margin: 3px 2px;\n",
       "    \n",
       "    }\n",
       "    .spark-nlp-display-entity-type{\n",
       "        font-size: 14px;\n",
       "        line-height: 24px;\n",
       "        color: #ffffff;\n",
       "        font-family: 'Montserrat', sans-serif !important;\n",
       "        \n",
       "        text-transform: uppercase;\n",
       "        \n",
       "        font-weight: 500;\n",
       "\n",
       "        display: block;\n",
       "        padding: 3px 5px;\n",
       "    }\n",
       "    \n",
       "    .spark-nlp-display-entity-resolution{\n",
       "        font-size: 14px;\n",
       "        line-height: 24px;\n",
       "        color: #ffffff;\n",
       "        font-family: 'Vistol Regular', sans-serif !important;\n",
       "        \n",
       "        text-transform: uppercase;\n",
       "        \n",
       "        font-weight: 500;\n",
       "\n",
       "        display: block;\n",
       "        padding: 3px 5px;\n",
       "    }\n",
       "    \n",
       "    .spark-nlp-display-others{\n",
       "        font-size: 14px;\n",
       "        line-height: 24px;\n",
       "        font-family: 'Montserrat', sans-serif !important;\n",
       "        \n",
       "        font-weight: 400;\n",
       "    }\n",
       "\n",
       "</style>\n",
       " <span class=\"spark-nlp-display-others\" style=\"background-color: white\"><br>Patient with </span><span class=\"spark-nlp-display-entity-wrapper\" style=\"background-color: #008080B3\"><span class=\"spark-nlp-display-entity-name\">severe fever </span><span class=\"spark-nlp-display-entity-type\">PROBLEM</span><span class=\"spark-nlp-display-entity-resolution\" style=\"background-color: #008080FF\">R50.9 </span><span class=\"spark-nlp-display-entity-resolution\" style=\"background-color: #008080CC\">sustained fever [fever, unspecified]</span></span><span class=\"spark-nlp-display-others\" style=\"background-color: white\"> and </span><span class=\"spark-nlp-display-entity-wrapper\" style=\"background-color: #008080B3\"><span class=\"spark-nlp-display-entity-name\">sore throat </span><span class=\"spark-nlp-display-entity-type\">PROBLEM</span><span class=\"spark-nlp-display-entity-resolution\" style=\"background-color: #008080FF\">R07.0 </span><span class=\"spark-nlp-display-entity-resolution\" style=\"background-color: #008080CC\">sore throat [pain in throat]</span></span><span class=\"spark-nlp-display-others\" style=\"background-color: white\">.  He shows no </span><span class=\"spark-nlp-display-entity-wrapper\" style=\"background-color: #008080B3\"><span class=\"spark-nlp-display-entity-name\">stomach pain </span><span class=\"spark-nlp-display-entity-type\">PROBLEM</span></span><span class=\"spark-nlp-display-others\" style=\"background-color: white\"> and he maintained on an epidural and PCA for </span><span class=\"spark-nlp-display-entity-wrapper\" style=\"background-color: #008080B3\"><span class=\"spark-nlp-display-entity-name\">pain control </span><span class=\"spark-nlp-display-entity-type\">PROBLEM</span></span><span class=\"spark-nlp-display-others\" style=\"background-color: white\">.<br>He also became </span><span class=\"spark-nlp-display-entity-wrapper\" style=\"background-color: #008080B3\"><span class=\"spark-nlp-display-entity-name\">short of breath </span><span class=\"spark-nlp-display-entity-type\">PROBLEM</span></span><span class=\"spark-nlp-display-others\" style=\"background-color: white\"> with climbing a flight of stairs. After CT, </span><span class=\"spark-nlp-display-entity-wrapper\" style=\"background-color: #008080B3\"><span class=\"spark-nlp-display-entity-name\">lung tumor </span><span class=\"spark-nlp-display-entity-type\">PROBLEM</span><span class=\"spark-nlp-display-entity-resolution\" style=\"background-color: #008080FF\">D49.1 </span><span class=\"spark-nlp-display-entity-resolution\" style=\"background-color: #008080CC\">tumor of lung [neoplasm of unspecified behavior of respiratory system]</span></span><span class=\"spark-nlp-display-others\" style=\"background-color: white\"> located at the right lower lobe. Father with </span><span class=\"spark-nlp-display-entity-wrapper\" style=\"background-color: #008080B3\"><span class=\"spark-nlp-display-entity-name\">Alzheimer </span><span class=\"spark-nlp-display-entity-type\">PROBLEM</span></span><span class=\"spark-nlp-display-others\" style=\"background-color: white\">.<br></span></div>"
      ]
     },
     "metadata": {
      "application/vnd.databricks.v1+output": {
       "addedWidgets": {},
       "arguments": {},
       "data": "\n<style>\n    @import url('https://fonts.googleapis.com/css2?family=Montserrat:wght@300;400;500;600;700&display=swap');\n    @import url('https://fonts.googleapis.com/css2?family=Vistol Regular:wght@300;400;500;600;700&display=swap');\n    \n    .spark-nlp-display-scroll-entities {\n        border: 1px solid #E7EDF0;\n        border-radius: 3px;\n        text-align: justify;\n        \n    }\n    .spark-nlp-display-scroll-entities span {  \n        font-size: 14px;\n        line-height: 24px;\n        color: #536B76;\n        font-family: 'Montserrat', sans-serif !important;\n    }\n    \n    .spark-nlp-display-entity-wrapper{\n    \n        display: inline-grid;\n        text-align: center;\n        border-radius: 4px;\n        margin: 0 2px 5px 2px;\n        padding: 1px\n    }\n    .spark-nlp-display-entity-name{\n        font-size: 14px;\n        line-height: 24px;\n        font-family: 'Montserrat', sans-serif !important;\n        \n        background: #f1f2f3;\n        border-width: medium;\n        text-align: center;\n        \n        font-weight: 400;\n        \n        border-radius: 5px;\n        padding: 2px 5px;\n        display: block;\n        margin: 3px 2px;\n    \n    }\n    .spark-nlp-display-entity-type{\n        font-size: 14px;\n        line-height: 24px;\n        color: #ffffff;\n        font-family: 'Montserrat', sans-serif !important;\n        \n        text-transform: uppercase;\n        \n        font-weight: 500;\n\n        display: block;\n        padding: 3px 5px;\n    }\n    \n    .spark-nlp-display-entity-resolution{\n        font-size: 14px;\n        line-height: 24px;\n        color: #ffffff;\n        font-family: 'Vistol Regular', sans-serif !important;\n        \n        text-transform: uppercase;\n        \n        font-weight: 500;\n\n        display: block;\n        padding: 3px 5px;\n    }\n    \n    .spark-nlp-display-others{\n        font-size: 14px;\n        line-height: 24px;\n        font-family: 'Montserrat', sans-serif !important;\n        \n        font-weight: 400;\n    }\n\n</style>\n <span class=\"spark-nlp-display-others\" style=\"background-color: white\"><br>Patient with </span><span class=\"spark-nlp-display-entity-wrapper\" style=\"background-color: #008080B3\"><span class=\"spark-nlp-display-entity-name\">severe fever </span><span class=\"spark-nlp-display-entity-type\">PROBLEM</span><span class=\"spark-nlp-display-entity-resolution\" style=\"background-color: #008080FF\">R50.9 </span><span class=\"spark-nlp-display-entity-resolution\" style=\"background-color: #008080CC\">sustained fever [fever, unspecified]</span></span><span class=\"spark-nlp-display-others\" style=\"background-color: white\"> and </span><span class=\"spark-nlp-display-entity-wrapper\" style=\"background-color: #008080B3\"><span class=\"spark-nlp-display-entity-name\">sore throat </span><span class=\"spark-nlp-display-entity-type\">PROBLEM</span><span class=\"spark-nlp-display-entity-resolution\" style=\"background-color: #008080FF\">R07.0 </span><span class=\"spark-nlp-display-entity-resolution\" style=\"background-color: #008080CC\">sore throat [pain in throat]</span></span><span class=\"spark-nlp-display-others\" style=\"background-color: white\">.  He shows no </span><span class=\"spark-nlp-display-entity-wrapper\" style=\"background-color: #008080B3\"><span class=\"spark-nlp-display-entity-name\">stomach pain </span><span class=\"spark-nlp-display-entity-type\">PROBLEM</span></span><span class=\"spark-nlp-display-others\" style=\"background-color: white\"> and he maintained on an epidural and PCA for </span><span class=\"spark-nlp-display-entity-wrapper\" style=\"background-color: #008080B3\"><span class=\"spark-nlp-display-entity-name\">pain control </span><span class=\"spark-nlp-display-entity-type\">PROBLEM</span></span><span class=\"spark-nlp-display-others\" style=\"background-color: white\">.<br>He also became </span><span class=\"spark-nlp-display-entity-wrapper\" style=\"background-color: #008080B3\"><span class=\"spark-nlp-display-entity-name\">short of breath </span><span class=\"spark-nlp-display-entity-type\">PROBLEM</span></span><span class=\"spark-nlp-display-others\" style=\"background-color: white\"> with climbing a flight of stairs. After CT, </span><span class=\"spark-nlp-display-entity-wrapper\" style=\"background-color: #008080B3\"><span class=\"spark-nlp-display-entity-name\">lung tumor </span><span class=\"spark-nlp-display-entity-type\">PROBLEM</span><span class=\"spark-nlp-display-entity-resolution\" style=\"background-color: #008080FF\">D49.1 </span><span class=\"spark-nlp-display-entity-resolution\" style=\"background-color: #008080CC\">tumor of lung [neoplasm of unspecified behavior of respiratory system]</span></span><span class=\"spark-nlp-display-others\" style=\"background-color: white\"> located at the right lower lobe. Father with </span><span class=\"spark-nlp-display-entity-wrapper\" style=\"background-color: #008080B3\"><span class=\"spark-nlp-display-entity-name\">Alzheimer </span><span class=\"spark-nlp-display-entity-type\">PROBLEM</span></span><span class=\"spark-nlp-display-others\" style=\"background-color: white\">.<br></span></div>",
       "datasetInfos": [],
       "metadata": {},
       "removedWidgets": [],
       "textData": null,
       "type": "htmlSandbox"
      }
     },
     "output_type": "display_data"
    }
   ],
   "source": [
    "visualiser = nlp.viz.EntityResolverVisualizer()\n",
    "\n",
    "# Change color of an entity label\n",
    "visualiser.set_label_colors({'PROBLEM':'#008080'})\n",
    "\n",
    "vis = visualiser.display(light_result, 'ner_chunk', 'icd10cm_code',return_html = True)\n",
    "\n",
    "displayHTML(vis)"
   ]
  },
  {
   "cell_type": "code",
   "execution_count": 0,
   "metadata": {
    "application/vnd.databricks.v1+cell": {
     "cellMetadata": {
      "byteLimit": 2048000,
      "rowLimit": 10000
     },
     "inputWidgets": {},
     "nuid": "6e97b50e-d7e2-4199-b19d-03bcd9bad33e",
     "showTitle": false,
     "title": ""
    }
   },
   "outputs": [
    {
     "output_type": "display_data",
     "data": {
      "text/html": [
       "<div>\n",
       "<style scoped>\n",
       "    .dataframe tbody tr th:only-of-type {\n",
       "        vertical-align: middle;\n",
       "    }\n",
       "\n",
       "    .dataframe tbody tr th {\n",
       "        vertical-align: top;\n",
       "    }\n",
       "\n",
       "    .dataframe thead th {\n",
       "        text-align: right;\n",
       "    }\n",
       "</style>\n",
       "<table border=\"1\" class=\"dataframe\">\n",
       "  <thead>\n",
       "    <tr style=\"text-align: right;\">\n",
       "      <th></th>\n",
       "      <th>chunks</th>\n",
       "      <th>entities</th>\n",
       "      <th>assertion</th>\n",
       "      <th>confidence</th>\n",
       "    </tr>\n",
       "  </thead>\n",
       "  <tbody>\n",
       "    <tr>\n",
       "      <th>0</th>\n",
       "      <td>severe fever</td>\n",
       "      <td>PROBLEM</td>\n",
       "      <td>present</td>\n",
       "      <td>0.902</td>\n",
       "    </tr>\n",
       "    <tr>\n",
       "      <th>1</th>\n",
       "      <td>sore throat</td>\n",
       "      <td>PROBLEM</td>\n",
       "      <td>present</td>\n",
       "      <td>0.98815</td>\n",
       "    </tr>\n",
       "    <tr>\n",
       "      <th>2</th>\n",
       "      <td>lung tumor</td>\n",
       "      <td>PROBLEM</td>\n",
       "      <td>present</td>\n",
       "      <td>0.9019</td>\n",
       "    </tr>\n",
       "  </tbody>\n",
       "</table>\n",
       "</div>"
      ]
     },
     "metadata": {
      "application/vnd.databricks.v1+output": {
       "addedWidgets": {},
       "arguments": {},
       "data": "<div>\n<style scoped>\n    .dataframe tbody tr th:only-of-type {\n        vertical-align: middle;\n    }\n\n    .dataframe tbody tr th {\n        vertical-align: top;\n    }\n\n    .dataframe thead th {\n        text-align: right;\n    }\n</style>\n<table border=\"1\" class=\"dataframe\">\n  <thead>\n    <tr style=\"text-align: right;\">\n      <th></th>\n      <th>chunks</th>\n      <th>entities</th>\n      <th>assertion</th>\n      <th>confidence</th>\n    </tr>\n  </thead>\n  <tbody>\n    <tr>\n      <th>0</th>\n      <td>severe fever</td>\n      <td>PROBLEM</td>\n      <td>present</td>\n      <td>0.902</td>\n    </tr>\n    <tr>\n      <th>1</th>\n      <td>sore throat</td>\n      <td>PROBLEM</td>\n      <td>present</td>\n      <td>0.98815</td>\n    </tr>\n    <tr>\n      <th>2</th>\n      <td>lung tumor</td>\n      <td>PROBLEM</td>\n      <td>present</td>\n      <td>0.9019</td>\n    </tr>\n  </tbody>\n</table>\n</div>",
       "datasetInfos": [],
       "metadata": {},
       "removedWidgets": [],
       "textData": null,
       "type": "htmlSandbox"
      }
     },
     "output_type": "display_data"
    }
   ],
   "source": [
    "\n",
    "chunks=[]\n",
    "entities=[]\n",
    "status=[]\n",
    "confidence=[]\n",
    "\n",
    "for m in light_result[\"assertion_filtered\"] :\n",
    "    \n",
    "    chunks.append(m.result)\n",
    "    entities.append(m.metadata['entity']) \n",
    "    status.append(m.metadata['assertion'])\n",
    "    confidence.append(m.metadata['confidence'])\n",
    "\n",
    "df = pd.DataFrame({'chunks':chunks, 'entities':entities,'assertion':status, 'confidence':confidence })\n",
    "\n",
    "df"
   ]
  },
  {
   "cell_type": "code",
   "execution_count": 0,
   "metadata": {
    "application/vnd.databricks.v1+cell": {
     "cellMetadata": {
      "byteLimit": 2048000,
      "rowLimit": 10000
     },
     "inputWidgets": {},
     "nuid": "9d0a7847-d36c-4e44-9f33-496d0b9fd135",
     "showTitle": false,
     "title": ""
    }
   },
   "outputs": [
    {
     "output_type": "display_data",
     "data": {
      "text/html": [
       "\n",
       "<style>\n",
       "    @import url('https://fonts.googleapis.com/css2?family=Montserrat:wght@300;400;500;600;700&display=swap');\n",
       "    @import url('https://fonts.googleapis.com/css2?family=Vistol Regular:wght@300;400;500;600;700&display=swap');\n",
       "    \n",
       "    .spark-nlp-display-scroll-entities {\n",
       "        border: 1px solid #E7EDF0;\n",
       "        border-radius: 3px;\n",
       "        text-align: justify;\n",
       "        \n",
       "    }\n",
       "    .spark-nlp-display-scroll-entities span {  \n",
       "        font-size: 14px;\n",
       "        line-height: 24px;\n",
       "        color: #536B76;\n",
       "        font-family: 'Montserrat', sans-serif !important;\n",
       "    }\n",
       "    \n",
       "    .spark-nlp-display-entity-wrapper{\n",
       "    \n",
       "        display: inline-grid;\n",
       "        text-align: center;\n",
       "        border-radius: 4px;\n",
       "        margin: 0 2px 5px 2px;\n",
       "        padding: 1px\n",
       "    }\n",
       "    .spark-nlp-display-entity-name{\n",
       "        font-size: 14px;\n",
       "        line-height: 24px;\n",
       "        font-family: 'Montserrat', sans-serif !important;\n",
       "        \n",
       "        background: #f1f2f3;\n",
       "        border-width: medium;\n",
       "        text-align: center;\n",
       "        \n",
       "        font-weight: 400;\n",
       "        \n",
       "        border-radius: 5px;\n",
       "        padding: 2px 5px;\n",
       "        display: block;\n",
       "        margin: 3px 2px;\n",
       "    \n",
       "    }\n",
       "    .spark-nlp-display-entity-type{\n",
       "        font-size: 14px;\n",
       "        line-height: 24px;\n",
       "        color: #ffffff;\n",
       "        font-family: 'Montserrat', sans-serif !important;\n",
       "        \n",
       "        text-transform: uppercase;\n",
       "        \n",
       "        font-weight: 500;\n",
       "\n",
       "        display: block;\n",
       "        padding: 3px 5px;\n",
       "    }\n",
       "    \n",
       "    .spark-nlp-display-entity-resolution{\n",
       "        font-size: 14px;\n",
       "        line-height: 24px;\n",
       "        color: #ffffff;\n",
       "        font-family: 'Vistol Regular', sans-serif !important;\n",
       "        \n",
       "        text-transform: uppercase;\n",
       "        \n",
       "        font-weight: 500;\n",
       "\n",
       "        display: block;\n",
       "        padding: 3px 5px;\n",
       "    }\n",
       "    \n",
       "    .spark-nlp-display-others{\n",
       "        font-size: 14px;\n",
       "        line-height: 24px;\n",
       "        font-family: 'Montserrat', sans-serif !important;\n",
       "        \n",
       "        font-weight: 400;\n",
       "    }\n",
       "\n",
       "</style>\n",
       " <span class=\"spark-nlp-display-others\" style=\"background-color: white\"><br>Patient with </span><span class=\"spark-nlp-display-entity-wrapper\" style=\"background-color: #008080B3\"><span class=\"spark-nlp-display-entity-name\">severe fever </span><span class=\"spark-nlp-display-entity-type\">PROBLEM</span><span class=\"spark-nlp-display-entity-resolution\" style=\"background-color: #008080FF\">R50.9 </span><span class=\"spark-nlp-display-entity-resolution\" style=\"background-color: #008080CC\">sustained fever [fever, unspecified]</span></span><span class=\"spark-nlp-display-others\" style=\"background-color: white\"> and </span><span class=\"spark-nlp-display-entity-wrapper\" style=\"background-color: #008080B3\"><span class=\"spark-nlp-display-entity-name\">sore throat </span><span class=\"spark-nlp-display-entity-type\">PROBLEM</span><span class=\"spark-nlp-display-entity-resolution\" style=\"background-color: #008080FF\">R07.0 </span><span class=\"spark-nlp-display-entity-resolution\" style=\"background-color: #008080CC\">sore throat [pain in throat]</span></span><span class=\"spark-nlp-display-others\" style=\"background-color: white\">.  He shows no stomach pain and he maintained on an epidural and PCA for pain control.<br>He also became short of breath with climbing a flight of stairs. After CT, </span><span class=\"spark-nlp-display-entity-wrapper\" style=\"background-color: #008080B3\"><span class=\"spark-nlp-display-entity-name\">lung tumor </span><span class=\"spark-nlp-display-entity-type\">PROBLEM</span><span class=\"spark-nlp-display-entity-resolution\" style=\"background-color: #008080FF\">D49.1 </span><span class=\"spark-nlp-display-entity-resolution\" style=\"background-color: #008080CC\">tumor of lung [neoplasm of unspecified behavior of respiratory system]</span></span><span class=\"spark-nlp-display-others\" style=\"background-color: white\"> located at the right lower lobe. Father with Alzheimer.<br></span></div>"
      ]
     },
     "metadata": {
      "application/vnd.databricks.v1+output": {
       "addedWidgets": {},
       "arguments": {},
       "data": "\n<style>\n    @import url('https://fonts.googleapis.com/css2?family=Montserrat:wght@300;400;500;600;700&display=swap');\n    @import url('https://fonts.googleapis.com/css2?family=Vistol Regular:wght@300;400;500;600;700&display=swap');\n    \n    .spark-nlp-display-scroll-entities {\n        border: 1px solid #E7EDF0;\n        border-radius: 3px;\n        text-align: justify;\n        \n    }\n    .spark-nlp-display-scroll-entities span {  \n        font-size: 14px;\n        line-height: 24px;\n        color: #536B76;\n        font-family: 'Montserrat', sans-serif !important;\n    }\n    \n    .spark-nlp-display-entity-wrapper{\n    \n        display: inline-grid;\n        text-align: center;\n        border-radius: 4px;\n        margin: 0 2px 5px 2px;\n        padding: 1px\n    }\n    .spark-nlp-display-entity-name{\n        font-size: 14px;\n        line-height: 24px;\n        font-family: 'Montserrat', sans-serif !important;\n        \n        background: #f1f2f3;\n        border-width: medium;\n        text-align: center;\n        \n        font-weight: 400;\n        \n        border-radius: 5px;\n        padding: 2px 5px;\n        display: block;\n        margin: 3px 2px;\n    \n    }\n    .spark-nlp-display-entity-type{\n        font-size: 14px;\n        line-height: 24px;\n        color: #ffffff;\n        font-family: 'Montserrat', sans-serif !important;\n        \n        text-transform: uppercase;\n        \n        font-weight: 500;\n\n        display: block;\n        padding: 3px 5px;\n    }\n    \n    .spark-nlp-display-entity-resolution{\n        font-size: 14px;\n        line-height: 24px;\n        color: #ffffff;\n        font-family: 'Vistol Regular', sans-serif !important;\n        \n        text-transform: uppercase;\n        \n        font-weight: 500;\n\n        display: block;\n        padding: 3px 5px;\n    }\n    \n    .spark-nlp-display-others{\n        font-size: 14px;\n        line-height: 24px;\n        font-family: 'Montserrat', sans-serif !important;\n        \n        font-weight: 400;\n    }\n\n</style>\n <span class=\"spark-nlp-display-others\" style=\"background-color: white\"><br>Patient with </span><span class=\"spark-nlp-display-entity-wrapper\" style=\"background-color: #008080B3\"><span class=\"spark-nlp-display-entity-name\">severe fever </span><span class=\"spark-nlp-display-entity-type\">PROBLEM</span><span class=\"spark-nlp-display-entity-resolution\" style=\"background-color: #008080FF\">R50.9 </span><span class=\"spark-nlp-display-entity-resolution\" style=\"background-color: #008080CC\">sustained fever [fever, unspecified]</span></span><span class=\"spark-nlp-display-others\" style=\"background-color: white\"> and </span><span class=\"spark-nlp-display-entity-wrapper\" style=\"background-color: #008080B3\"><span class=\"spark-nlp-display-entity-name\">sore throat </span><span class=\"spark-nlp-display-entity-type\">PROBLEM</span><span class=\"spark-nlp-display-entity-resolution\" style=\"background-color: #008080FF\">R07.0 </span><span class=\"spark-nlp-display-entity-resolution\" style=\"background-color: #008080CC\">sore throat [pain in throat]</span></span><span class=\"spark-nlp-display-others\" style=\"background-color: white\">.  He shows no stomach pain and he maintained on an epidural and PCA for pain control.<br>He also became short of breath with climbing a flight of stairs. After CT, </span><span class=\"spark-nlp-display-entity-wrapper\" style=\"background-color: #008080B3\"><span class=\"spark-nlp-display-entity-name\">lung tumor </span><span class=\"spark-nlp-display-entity-type\">PROBLEM</span><span class=\"spark-nlp-display-entity-resolution\" style=\"background-color: #008080FF\">D49.1 </span><span class=\"spark-nlp-display-entity-resolution\" style=\"background-color: #008080CC\">tumor of lung [neoplasm of unspecified behavior of respiratory system]</span></span><span class=\"spark-nlp-display-others\" style=\"background-color: white\"> located at the right lower lobe. Father with Alzheimer.<br></span></div>",
       "datasetInfos": [],
       "metadata": {},
       "removedWidgets": [],
       "textData": null,
       "type": "htmlSandbox"
      }
     },
     "output_type": "display_data"
    }
   ],
   "source": [
    "visualiser = nlp.viz.EntityResolverVisualizer()\n",
    "\n",
    "# Change color of an entity label\n",
    "visualiser.set_label_colors({'PROBLEM':'#008080'})\n",
    "\n",
    "vis = visualiser.display(light_result, 'assertion_filtered', 'icd10cm_code', return_html=True)\n",
    "\n",
    "displayHTML(vis)"
   ]
  },
  {
   "cell_type": "markdown",
   "metadata": {
    "application/vnd.databricks.v1+cell": {
     "cellMetadata": {
      "byteLimit": 2048000,
      "rowLimit": 10000
     },
     "inputWidgets": {},
     "nuid": "bd9055a4-5786-49d6-8143-d9b63b48c762",
     "showTitle": false,
     "title": ""
    },
    "id": "_E3A3jJqrquJ"
   },
   "source": [
    "## Router - Using Resolver Models Together\n",
    "\n",
    "- Normally, when we need to use more than one sentence entity resolver models in the same pipeline, we used to hit `BertSentenceEmbeddings` annotator more than once given the number of different resolver models in the same pipeline. Now we are introducing a solution with the help of `Router` annotator that could allow us to feed all the NER chunks to `BertSentenceEmbeddings` at once and then route the output of Sentence Embeddings to different resolver models needed.\n",
    "\n",
    "- In this example, lets use `sbiobertresolve_rxnorm` RxNorm model and `sbiobertresolve_icd10cm_slim_billable_hcc` ICD10CM-HCC models together. First we will get the `PROBLEM` entities form `ner_clinical` model and then get the `DRUG` entities from `ner_posology` model. Then we will merge them and use the `Chunk2Doc` annotator to create sentence chunks to populate Sentence Embeddings column. Then, we route the embeddings of `PROBLEM` entities to ICD10CM model and embeddings of `DRUG` entities to RxNorm model at the same time."
   ]
  },
  {
   "cell_type": "code",
   "execution_count": 0,
   "metadata": {
    "application/vnd.databricks.v1+cell": {
     "cellMetadata": {
      "byteLimit": 2048000,
      "rowLimit": 10000
     },
     "inputWidgets": {},
     "nuid": "61a6f129-8ebd-433c-8c35-bbc060c921c3",
     "showTitle": false,
     "title": ""
    },
    "colab": {
     "base_uri": "https://localhost:8080/"
    },
    "id": "gs9UWzv8rquK",
    "outputId": "5bc41b7e-bb16-44f2-9ad3-04fe5de8b00e"
   },
   "outputs": [
    {
     "output_type": "stream",
     "name": "stdout",
     "output_type": "stream",
     "text": [
      "embeddings_clinical download started this may take some time.\nApproximate size to download 1.6 GB\n\r[ | ]\r[ / ]\r[ — ]\r[ \\ ]\r[ | ]\r[ / ]\r[ — ]\r[ \\ ]\r[ | ]\r[ / ]\r[ — ]\r[ \\ ]\r[ | ]\r[ / ]\r[ — ]\r[ \\ ]\r[ | ]\r[ / ]\r[ — ]\r[ \\ ]\r[ | ]\r[ / ]\r[ — ]\r[ \\ ]\r[ | ]\r[ / ]\r[ — ]\r[ \\ ]\r[ | ]\r[ / ]\r[ — ]\r[ \\ ]\r[ | ]\r[ / ]\r[ — ]\r[ \\ ]\r[ | ]\r[ / ]\r[ — ]\r[ \\ ]\r[ | ]\r[ / ]\r[ — ]\r[ \\ ]\r[ | ]\r[ / ]\r[ — ]\r[ \\ ]\r[ | ]\r[ / ]\r[ — ]\r[OK!]\nner_clinical download started this may take some time.\n\r[ | ]\r[ / ]\r[ — ]\r[ \\ ]\r[ | ]\r[ / ]\r[ — ]\r[ \\ ]\r[ | ]\r[ / ]\r[ — ]\r[ \\ ]\r[ | ]\r[ / ]\r[ — ]\r[ \\ ]\r[ | ]\r[ / ]\r[ — ]\r[ \\ ]\r[ | ]\r[ / ]\r[ — ]\r[ \\ ]\r[ | ]\r[ / ]\r[ — ]\r[ \\ ]\r[ | ]\r[ / ]\r[ — ]\r[ \\ ]\r[ | ]\r[ / ]\r[ — ]\r[ \\ ]\r[ | ]\r[ / ]\r[ — ]\r[ \\ ]\r[ | ]\r[ / ]\r[ — ]\r[ \\ ]\r[ | ]\r[ / ]\r[ — ]\r[ \\ ]\r[ | ]\r[ / ]\r[ — ]\r[ \\ ]\r[ | ]\r[ / ]\r[ — ]\r[ \\ ]\r[ | ]\r[ / ]\r[ — ]\r[ \\ ]\r[ | ]\r[ / ]\r[ — ]\r[ \\ ]\r[ | ]\r[ / ]\r[ — ]\r[ \\ ]\r[ | ]\r[ / ]\r[ — ]\r[ \\ ]\r[ | ]\r[ / ]\r[ — ]\r[ \\ ]\r[ | ]\r[ / ]\r[ — ]\r[ \\ ]\r[ | ]\r[ / ]\r[ — ]\r[ \\ ]\r[ | ]\r[ / ]\r[ — ]\r[ \\ ]\r[ | ]\r[ / ]\r[ — ]\r[ \\ ]\r[ | ]\r[ / ]\r[ — ]\r[ \\ ]\r[ | ]\r[ / ]\r[ — ]\r[ \\ ]\r[ | ]\r[ / ]\r[ — ]\r[ \\ ]\r[ | ]\r[ / ]\r[ — ]\r[ \\ ]\r[ | ]\r[ / ]\r[ — ]\r[ \\ ]\r[ | ]\r[ / ]\r[ — ]\r[ \\ ]\r[ | ]\r[ / ]\r[ — ]\r[ \\ ]\r[OK!]\nner_posology download started this may take some time.\n\r[ | ]\r[ / ]\r[OK!]\nsbiobert_base_cased_mli download started this may take some time.\nApproximate size to download 384.3 MB\n\r[ | ]\r[ / ]\r[ — ]\r[ \\ ]\r[ | ]\r[ / ]\r[ — ]\r[ \\ ]\r[ | ]\r[ / ]\r[OK!]\nsbiobertresolve_icd10cm_slim_billable_hcc download started this may take some time.\n\r[ | ]\r[ / ]\r[ — ]\r[ \\ ]\r[ | ]\r[ / ]\r[ — ]\r[ \\ ]\r[OK!]\nsbiobertresolve_rxnorm_augmented download started this may take some time.\n\r[ | ]\r[ / ]\r[ — ]\r[ \\ ]\r[ | ]\r[ / ]\r[ — ]\r[ \\ ]\r[ | ]\r[ / ]\r[ — ]\r[ \\ ]\r[ | ]\r[ / ]\r[ — ]\r[ \\ ]\r[ | ]\r[ / ]\r[ — ]\r[ \\ ]\r[ | ]\r[ / ]\r[ — ]\r[OK!]\n"
     ]
    }
   ],
   "source": [
    "documentAssembler = nlp.DocumentAssembler()\\\n",
    "    .setInputCol(\"text\")\\\n",
    "    .setOutputCol(\"document\")\n",
    "\n",
    "sentenceDetector = nlp.SentenceDetector()\\\n",
    "    .setInputCols(\"document\")\\\n",
    "    .setOutputCol(\"sentence\")\n",
    "\n",
    "tokenizer = nlp.Tokenizer()\\\n",
    "    .setInputCols(\"sentence\")\\\n",
    "    .setOutputCol(\"token\")\n",
    "\n",
    "word_embeddings = nlp.WordEmbeddingsModel.pretrained(\"embeddings_clinical\", \"en\", \"clinical/models\")\\\n",
    "    .setInputCols(\"sentence\", \"token\")\\\n",
    "    .setOutputCol(\"word_embeddings\")\n",
    "\n",
    "# to get PROBLEM entitis\n",
    "clinical_ner = medical.NerModel().pretrained(\"ner_clinical\", \"en\", \"clinical/models\") \\\n",
    "    .setInputCols([\"sentence\", \"token\", \"word_embeddings\"]) \\\n",
    "    .setOutputCol(\"clinical_ner\")\n",
    "\n",
    "clinical_ner_chunk = medical.NerConverterInternal()\\\n",
    "    .setInputCols(\"sentence\",\"token\",\"clinical_ner\")\\\n",
    "    .setOutputCol(\"clinical_ner_chunk\")\\\n",
    "    .setWhiteList([\"PROBLEM\"])\n",
    "\n",
    "# to get DRUG entities \n",
    "posology_ner = medical.NerModel().pretrained(\"ner_posology\", \"en\", \"clinical/models\") \\\n",
    "    .setInputCols([\"sentence\", \"token\", \"word_embeddings\"]) \\\n",
    "    .setOutputCol(\"posology_ner\")\n",
    "\n",
    "posology_ner_chunk = medical.NerConverterInternal()\\\n",
    "    .setInputCols(\"sentence\",\"token\",\"posology_ner\")\\\n",
    "    .setOutputCol(\"posology_ner_chunk\")\\\n",
    "    .setWhiteList([\"DRUG\"])\n",
    "\n",
    "# merge the chunks into a single ner_chunk\n",
    "chunk_merger = medical.ChunkMergeApproach()\\\n",
    "    .setInputCols(\"clinical_ner_chunk\",\"posology_ner_chunk\")\\\n",
    "    .setOutputCol(\"final_ner_chunk\")\\\n",
    "    .setMergeOverlapping(False)\n",
    "\n",
    "\n",
    "# convert chunks to doc to get sentence embeddings of them\n",
    "chunk2doc = nlp.Chunk2Doc().setInputCols(\"final_ner_chunk\").setOutputCol(\"doc_final_chunk\")\n",
    "\n",
    "\n",
    "sbiobert_embeddings = nlp.BertSentenceEmbeddings.pretrained(\"sbiobert_base_cased_mli\",\"en\",\"clinical/models\")\\\n",
    "    .setInputCols([\"doc_final_chunk\"])\\\n",
    "    .setOutputCol(\"sbert_embeddings\")\\\n",
    "    .setCaseSensitive(False)\n",
    "\n",
    "# filter PROBLEM entity embeddings\n",
    "router_sentence_icd10 = medical.Router() \\\n",
    "    .setInputCols(\"sbert_embeddings\") \\\n",
    "    .setFilterFieldsElements([\"PROBLEM\"]) \\\n",
    "    .setOutputCol(\"problem_embeddings\")\n",
    "\n",
    "# filter DRUG entity embeddings\n",
    "router_sentence_rxnorm = medical.Router() \\\n",
    "    .setInputCols(\"sbert_embeddings\") \\\n",
    "    .setFilterFieldsElements([\"DRUG\"]) \\\n",
    "    .setOutputCol(\"drug_embeddings\")\n",
    "\n",
    "# use problem_embeddings only\n",
    "icd_resolver = medical.SentenceEntityResolverModel.pretrained(\"sbiobertresolve_icd10cm_slim_billable_hcc\",\"en\", \"clinical/models\") \\\n",
    "    .setInputCols([\"problem_embeddings\"]) \\\n",
    "    .setOutputCol(\"icd10cm_code\")\\\n",
    "    .setDistanceFunction(\"EUCLIDEAN\")\n",
    "\n",
    "\n",
    "# use drug_embeddings only\n",
    "rxnorm_resolver = medical.SentenceEntityResolverModel.pretrained(\"sbiobertresolve_rxnorm_augmented\",\"en\", \"clinical/models\") \\\n",
    "    .setInputCols([\"drug_embeddings\"]) \\\n",
    "    .setOutputCol(\"rxnorm_code\")\\\n",
    "    .setDistanceFunction(\"EUCLIDEAN\")\n",
    "\n",
    "\n",
    "pipeline = nlp.Pipeline(stages=[\n",
    "    documentAssembler,\n",
    "    sentenceDetector,\n",
    "    tokenizer,\n",
    "    word_embeddings,\n",
    "    clinical_ner,\n",
    "    clinical_ner_chunk,\n",
    "    posology_ner,\n",
    "    posology_ner_chunk,\n",
    "    chunk_merger,\n",
    "    chunk2doc,\n",
    "    sbiobert_embeddings,\n",
    "    router_sentence_icd10,\n",
    "    router_sentence_rxnorm,\n",
    "    icd_resolver,\n",
    "    rxnorm_resolver\n",
    "])\n",
    "\n",
    "empty_data = spark.createDataFrame([['']]).toDF(\"text\")\n",
    "model = pipeline.fit(empty_data)"
   ]
  },
  {
   "cell_type": "code",
   "execution_count": 0,
   "metadata": {
    "application/vnd.databricks.v1+cell": {
     "cellMetadata": {
      "byteLimit": 2048000,
      "rowLimit": 10000
     },
     "inputWidgets": {},
     "nuid": "ad185c02-68fc-4398-b318-c0a569b75702",
     "showTitle": false,
     "title": ""
    },
    "id": "5utK6N4JJAyI"
   },
   "outputs": [],
   "source": [
    "clinical_note = \"\"\"The patient is a 41-year-old Vietnamese female with a cough that started last week. \n",
    "She has had right-sided chest pain radiating to her back with fever starting yesterday. \n",
    "She has a history of pericarditis in May 2006 and developed cough with right-sided chest pain. \n",
    "MEDICATIONS\n",
    "1. Coumadin 1 mg daily. Last INR was on Tuesday, August 14, 2007, and her INR was 2.3.\n",
    "2. Amiodarone 100 mg p.o. daily.\n",
    "\"\"\""
   ]
  },
  {
   "cell_type": "code",
   "execution_count": 0,
   "metadata": {
    "application/vnd.databricks.v1+cell": {
     "cellMetadata": {
      "byteLimit": 2048000,
      "rowLimit": 10000
     },
     "inputWidgets": {},
     "nuid": "98377ad8-0f99-44c5-869b-c53294f6d075",
     "showTitle": false,
     "title": ""
    }
   },
   "outputs": [],
   "source": [
    "df = spark.createDataFrame([[clinical_note]]).toDF(\"text\")\n",
    "\n",
    "result = model.transform(df)"
   ]
  },
  {
   "cell_type": "code",
   "execution_count": 0,
   "metadata": {
    "application/vnd.databricks.v1+cell": {
     "cellMetadata": {
      "byteLimit": 2048000,
      "rowLimit": 10000
     },
     "inputWidgets": {},
     "nuid": "f145b8da-78ba-4697-b20b-5b1d11c6a44b",
     "showTitle": false,
     "title": ""
    }
   },
   "outputs": [],
   "source": [
    "icd10_result = get_codes_from_df(result, 'clinical_ner_chunk', 'icd10cm_code', hcc=True)"
   ]
  },
  {
   "cell_type": "code",
   "execution_count": 0,
   "metadata": {
    "application/vnd.databricks.v1+cell": {
     "cellMetadata": {
      "byteLimit": 2048000,
      "rowLimit": 10000
     },
     "inputWidgets": {},
     "nuid": "cb1fa332-108d-486e-9a3b-5ce5e681f5ed",
     "showTitle": false,
     "title": ""
    }
   },
   "outputs": [],
   "source": [
    "# extract HCC informationinto different columns\n",
    "\n",
    "icd10_result[\"billable\"] = icd10_result[\"hcc_list\"].apply(extract_billable).apply(pd.Series).iloc[:,0]    \n",
    "icd10_result[\"hcc_status\"] = icd10_result[\"hcc_list\"].apply(extract_billable).apply(pd.Series).iloc[:,1]\n",
    "icd10_result[\"hcc_code\"] = icd10_result[\"hcc_list\"].apply(extract_billable).apply(pd.Series).iloc[:,2]\n",
    "\n",
    "icd10_result.drop(\"hcc_list\", axis=1, inplace= True)"
   ]
  },
  {
   "cell_type": "code",
   "execution_count": 0,
   "metadata": {
    "application/vnd.databricks.v1+cell": {
     "cellMetadata": {
      "byteLimit": 2048000,
      "rowLimit": 10000
     },
     "inputWidgets": {},
     "nuid": "60536e25-cc80-49c0-97ba-a0e3a56e33e2",
     "showTitle": false,
     "title": ""
    }
   },
   "outputs": [
    {
     "output_type": "display_data",
     "data": {
      "text/html": [
       "<div>\n",
       "<style scoped>\n",
       "    .dataframe tbody tr th:only-of-type {\n",
       "        vertical-align: middle;\n",
       "    }\n",
       "\n",
       "    .dataframe tbody tr th {\n",
       "        vertical-align: top;\n",
       "    }\n",
       "\n",
       "    .dataframe thead th {\n",
       "        text-align: right;\n",
       "    }\n",
       "</style>\n",
       "<table border=\"1\" class=\"dataframe\">\n",
       "  <thead>\n",
       "    <tr style=\"text-align: right;\">\n",
       "      <th></th>\n",
       "      <th>sent_id</th>\n",
       "      <th>ner_chunk</th>\n",
       "      <th>entity</th>\n",
       "      <th>icd10_code</th>\n",
       "      <th>all_codes</th>\n",
       "      <th>resolutions</th>\n",
       "      <th>billable</th>\n",
       "      <th>hcc_status</th>\n",
       "      <th>hcc_code</th>\n",
       "    </tr>\n",
       "  </thead>\n",
       "  <tbody>\n",
       "    <tr>\n",
       "      <th>0</th>\n",
       "      <td>0</td>\n",
       "      <td>a cough</td>\n",
       "      <td>PROBLEM</td>\n",
       "      <td>R05</td>\n",
       "      <td>[R05, R05.3, R05.1, A37, R05.2, R06.01, R06.7, R06.0, R06.2, R06, J38.4, R05.4, G44.83, R00.2, R06.00, R07.1, R07.0, R09.81, R12, S22.5, R49.0, R07, L29, R06.83, G47.51]</td>\n",
       "      <td>[cough [cough], chronic cough [chronic cough], acute cough [acute cough], whooping cough [whooping cough], subacute cough [subacute cough], orthopnea [orthopnea], sneezing [sneezing], dyspnea [dyspnea], wheezing [wheezing], abnormalities of breathing [abnormalities of breathing], edema of larynx [edema of larynx], cough syncope [cough syncope], primary cough headache [primary cough headache], palpitations [palpitations], dyspnea, unspecified [dyspnea, unspecified], chest pain on breathing [chest pain on breathing], pain in throat [pain in throat], nasal congestion [nasal congestion], heartburn [heartburn], flail chest [flail chest], dysphonia [dysphonia], pain in throat and chest [pain in throat and chest], pruritus [pruritus], snoring [snoring], confusional arousals [confusional arousals]]</td>\n",
       "      <td>[0, 1, 1, 0, 1, 1, 1, 0, 1, 0, 1, 1, 1, 1, 1, 1, 1, 1, 1, 0, 1, 0, 0, 1, 1]</td>\n",
       "      <td>[0, 0, 0, 0, 0, 0, 0, 0, 0, 0, 0, 0, 0, 0, 0, 0, 0, 0, 0, 0, 0, 0, 0, 0, 0]</td>\n",
       "      <td>[0, 0, 0, 0, 0, 0, 0, 0, 0, 0, 0, 0, 0, 0, 0, 0, 0, 0, 0, 0, 0, 0, 0, 0, 0]</td>\n",
       "    </tr>\n",
       "    <tr>\n",
       "      <th>1</th>\n",
       "      <td>1</td>\n",
       "      <td>right-sided chest pain</td>\n",
       "      <td>PROBLEM</td>\n",
       "      <td>R10.11</td>\n",
       "      <td>[R10.11, M79.621, M79.604, M79.601, M25.511, M79.631, R07.1, M79.661, M79.651, M25.551, M79.641, M25.531, G90.511, M79.644, H57.11, M25.541, R10.31, R07.8, R07.89, M25.521, M25.561, G90.521, R07.2, I83.811, M79.671]</td>\n",
       "      <td>[right upper quadrant pain [right upper quadrant pain], pain in right upper arm [pain in right upper arm], pain in right leg [pain in right leg], pain in right arm [pain in right arm], pain in right shoulder [pain in right shoulder], pain in right forearm [pain in right forearm], chest pain on breathing [chest pain on breathing], pain in right lower leg [pain in right lower leg], pain in right thigh [pain in right thigh], pain in right hip [pain in right hip], pain in right hand [pain in right hand], pain in right wrist [pain in right wrist], complex regional pain syndrome i of right upper limb [complex regional pain syndrome i of right upper limb], pain in right finger(s) [pain in right finger(s)], ocular pain, right eye [ocular pain, right eye], pain in joints of right hand [pain in joints of right hand], right lower quadrant pain [right lower quadrant pain], other chest pain [other chest pain], other chest pain [other chest pain], pain in right elbow [pain in right elbow], pain in right knee [pain in right knee], complex regional pain syndrome i of right lower limb [complex regional pain syndrome i of right lower limb], precordial pain [precordial pain], varicose veins of right lower extremity with pain [varicose veins of right lower extremity with pain], pain in right foot [pain in right foot]]</td>\n",
       "      <td>[1, 1, 1, 1, 1, 1, 1, 1, 1, 1, 1, 1, 1, 1, 1, 1, 1, 0, 1, 1, 1, 1, 1, 1, 1]</td>\n",
       "      <td>[0, 0, 0, 0, 0, 0, 0, 0, 0, 0, 0, 0, 0, 0, 0, 0, 0, 0, 0, 0, 0, 0, 0, 0, 0]</td>\n",
       "      <td>[0, 0, 0, 0, 0, 0, 0, 0, 0, 0, 0, 0, 0, 0, 0, 0, 0, 0, 0, 0, 0, 0, 0, 0, 0]</td>\n",
       "    </tr>\n",
       "    <tr>\n",
       "      <th>2</th>\n",
       "      <td>1</td>\n",
       "      <td>fever</td>\n",
       "      <td>PROBLEM</td>\n",
       "      <td>A68</td>\n",
       "      <td>[A68, A78, R50.2, M04.1, A96.2, A68.9, R11.0, T67.7, A79.0, A92.1, R50.82, R50.9, R51, R50.8, T67.6, R50.83, R60.1, R10.81, A68.0, R09.81, A92.4, L29, R10.817, A95, R23.1]</td>\n",
       "      <td>[relapsing fevers [relapsing fevers], q fever [q fever], drug induced fever [drug induced fever], periodic fever syndromes [periodic fever syndromes], lassa fever [lassa fever], relapsing fever, unspecified [relapsing fever, unspecified], nausea [nausea], heat edema [heat edema], trench fever [trench fever], o'nyong-nyong fever [o'nyong-nyong fever], postprocedural fever [postprocedural fever], fever, unspecified [fever, unspecified], headache [headache], other specified fever [other specified fever], heat fatigue, transient [heat fatigue, transient], postvaccination fever [postvaccination fever], generalized edema [generalized edema], abdominal tenderness [abdominal tenderness], louse-borne relapsing fever [louse-borne relapsing fever], nasal congestion [nasal congestion], rift valley fever [rift valley fever], pruritus [pruritus], generalized abdominal tenderness [generalized abdominal tenderness], yellow fever [yellow fever], pallor [pallor]]</td>\n",
       "      <td>[0, 1, 1, 1, 1, 1, 1, 0, 1, 1, 1, 1, 0, 0, 0, 1, 1, 0, 1, 1, 1, 0, 1, 0, 1]</td>\n",
       "      <td>[0, 0, 0, 1, 0, 0, 0, 0, 0, 0, 0, 0, 0, 0, 0, 0, 0, 0, 0, 0, 0, 0, 0, 0, 0]</td>\n",
       "      <td>[0, 0, 0, 40, 0, 0, 0, 0, 0, 0, 0, 0, 0, 0, 0, 0, 0, 0, 0, 0, 0, 0, 0, 0, 0]</td>\n",
       "    </tr>\n",
       "    <tr>\n",
       "      <th>3</th>\n",
       "      <td>2</td>\n",
       "      <td>pericarditis</td>\n",
       "      <td>PROBLEM</td>\n",
       "      <td>I30.1</td>\n",
       "      <td>[I30.1, B33.23, I30, I31.0, I01.0, I30.9, I31.1, I32, I09.2, I30.0, K65, A39.53, I31.4, B33.2, I31.31, I31.9, H04.0, A74.81, I30.8, B33.21, H83.0, S26.02, I31, S26.0, I31.8]</td>\n",
       "      <td>[infective pericarditis [infective pericarditis], viral pericarditis [viral pericarditis], acute pericarditis [acute pericarditis], chronic adhesive pericarditis [chronic adhesive pericarditis], acute rheumatic pericarditis [acute rheumatic pericarditis], acute pericarditis, unspecified [acute pericarditis, unspecified], chronic constrictive pericarditis [chronic constrictive pericarditis], pericarditis in diseases classified elsewhere [pericarditis in diseases classified elsewhere], chronic rheumatic pericarditis [chronic rheumatic pericarditis], acute nonspecific idiopathic pericarditis [acute nonspecific idiopathic pericarditis], peritonitis [peritonitis], meningococcal pericarditis [meningococcal pericarditis], cardiac tamponade [cardiac tamponade], viral carditis [viral carditis], malignant pericardial effusion in diseases classified elsewhere [malignant pericardial effusion in diseases classified elsewhere], disease of pericardium, unspecified [disease of pericardium, unspecified], dacryoadenitis [dacryoadenitis], chlamydial peritonitis [chlamydial peritonitis], other forms of acute pericarditis [other forms of acute pericarditis], viral endocarditis [viral endocarditis], labyrinthitis [labyrinthitis], laceration of heart with hemopericardium [laceration of heart with hemopericardium], other diseases of pericardium [other diseases of pericardium], injury of heart with hemopericardium [injury of heart with hemopericardium], other specified diseases of pericardium [other specified diseases of pericardium]]</td>\n",
       "      <td>[1, 1, 0, 1, 1, 1, 1, 1, 1, 1, 0, 1, 1, 0, 1, 1, 0, 1, 1, 1, 0, 0, 0, 0, 1]</td>\n",
       "      <td>[0, 0, 0, 0, 0, 0, 0, 0, 0, 0, 0, 0, 0, 0, 0, 0, 0, 0, 0, 0, 0, 0, 0, 0, 0]</td>\n",
       "      <td>[0, 0, 0, 0, 0, 0, 0, 0, 0, 0, 0, 0, 0, 0, 0, 0, 0, 0, 0, 0, 0, 0, 0, 0, 0]</td>\n",
       "    </tr>\n",
       "    <tr>\n",
       "      <th>4</th>\n",
       "      <td>2</td>\n",
       "      <td>cough</td>\n",
       "      <td>PROBLEM</td>\n",
       "      <td>R05</td>\n",
       "      <td>[R05, A37, R05.3, R05.1, R05.2, R06.7, R06.2, R06.01, R05.4, R06.0, J38.4, R05.9, R06.83, R06.00, R12, G44.83, R06, R00.2, R09.81, R51, R07.0, R11.1, R49.0, S22.5, R06.1]</td>\n",
       "      <td>[cough [cough], whooping cough [whooping cough], chronic cough [chronic cough], acute cough [acute cough], subacute cough [subacute cough], sneezing [sneezing], wheezing [wheezing], orthopnea [orthopnea], cough syncope [cough syncope], dyspnea [dyspnea], edema of larynx [edema of larynx], cough, unspecified [cough, unspecified], snoring [snoring], dyspnea, unspecified [dyspnea, unspecified], heartburn [heartburn], primary cough headache [primary cough headache], abnormalities of breathing [abnormalities of breathing], palpitations [palpitations], nasal congestion [nasal congestion], headache [headache], pain in throat [pain in throat], vomiting [vomiting], dysphonia [dysphonia], flail chest [flail chest], stridor [stridor]]</td>\n",
       "      <td>[0, 0, 1, 1, 1, 1, 1, 1, 1, 0, 1, 1, 1, 1, 1, 1, 0, 1, 1, 0, 1, 0, 1, 0, 1]</td>\n",
       "      <td>[0, 0, 0, 0, 0, 0, 0, 0, 0, 0, 0, 0, 0, 0, 0, 0, 0, 0, 0, 0, 0, 0, 0, 0, 0]</td>\n",
       "      <td>[0, 0, 0, 0, 0, 0, 0, 0, 0, 0, 0, 0, 0, 0, 0, 0, 0, 0, 0, 0, 0, 0, 0, 0, 0]</td>\n",
       "    </tr>\n",
       "    <tr>\n",
       "      <th>5</th>\n",
       "      <td>2</td>\n",
       "      <td>right-sided chest pain</td>\n",
       "      <td>PROBLEM</td>\n",
       "      <td>R10.11</td>\n",
       "      <td>[R10.11, M79.621, M79.604, M79.601, M25.511, M79.631, R07.1, M79.661, M79.651, M25.551, M79.641, M25.531, G90.511, M79.644, H57.11, M25.541, R10.31, R07.8, R07.89, M25.521, M25.561, G90.521, R07.2, I83.811, M79.671]</td>\n",
       "      <td>[right upper quadrant pain [right upper quadrant pain], pain in right upper arm [pain in right upper arm], pain in right leg [pain in right leg], pain in right arm [pain in right arm], pain in right shoulder [pain in right shoulder], pain in right forearm [pain in right forearm], chest pain on breathing [chest pain on breathing], pain in right lower leg [pain in right lower leg], pain in right thigh [pain in right thigh], pain in right hip [pain in right hip], pain in right hand [pain in right hand], pain in right wrist [pain in right wrist], complex regional pain syndrome i of right upper limb [complex regional pain syndrome i of right upper limb], pain in right finger(s) [pain in right finger(s)], ocular pain, right eye [ocular pain, right eye], pain in joints of right hand [pain in joints of right hand], right lower quadrant pain [right lower quadrant pain], other chest pain [other chest pain], other chest pain [other chest pain], pain in right elbow [pain in right elbow], pain in right knee [pain in right knee], complex regional pain syndrome i of right lower limb [complex regional pain syndrome i of right lower limb], precordial pain [precordial pain], varicose veins of right lower extremity with pain [varicose veins of right lower extremity with pain], pain in right foot [pain in right foot]]</td>\n",
       "      <td>[1, 1, 1, 1, 1, 1, 1, 1, 1, 1, 1, 1, 1, 1, 1, 1, 1, 0, 1, 1, 1, 1, 1, 1, 1]</td>\n",
       "      <td>[0, 0, 0, 0, 0, 0, 0, 0, 0, 0, 0, 0, 0, 0, 0, 0, 0, 0, 0, 0, 0, 0, 0, 0, 0]</td>\n",
       "      <td>[0, 0, 0, 0, 0, 0, 0, 0, 0, 0, 0, 0, 0, 0, 0, 0, 0, 0, 0, 0, 0, 0, 0, 0, 0]</td>\n",
       "    </tr>\n",
       "  </tbody>\n",
       "</table>\n",
       "</div>"
      ]
     },
     "metadata": {
      "application/vnd.databricks.v1+output": {
       "addedWidgets": {},
       "arguments": {},
       "data": "<div>\n<style scoped>\n    .dataframe tbody tr th:only-of-type {\n        vertical-align: middle;\n    }\n\n    .dataframe tbody tr th {\n        vertical-align: top;\n    }\n\n    .dataframe thead th {\n        text-align: right;\n    }\n</style>\n<table border=\"1\" class=\"dataframe\">\n  <thead>\n    <tr style=\"text-align: right;\">\n      <th></th>\n      <th>sent_id</th>\n      <th>ner_chunk</th>\n      <th>entity</th>\n      <th>icd10_code</th>\n      <th>all_codes</th>\n      <th>resolutions</th>\n      <th>billable</th>\n      <th>hcc_status</th>\n      <th>hcc_code</th>\n    </tr>\n  </thead>\n  <tbody>\n    <tr>\n      <th>0</th>\n      <td>0</td>\n      <td>a cough</td>\n      <td>PROBLEM</td>\n      <td>R05</td>\n      <td>[R05, R05.3, R05.1, A37, R05.2, R06.01, R06.7, R06.0, R06.2, R06, J38.4, R05.4, G44.83, R00.2, R06.00, R07.1, R07.0, R09.81, R12, S22.5, R49.0, R07, L29, R06.83, G47.51]</td>\n      <td>[cough [cough], chronic cough [chronic cough], acute cough [acute cough], whooping cough [whooping cough], subacute cough [subacute cough], orthopnea [orthopnea], sneezing [sneezing], dyspnea [dyspnea], wheezing [wheezing], abnormalities of breathing [abnormalities of breathing], edema of larynx [edema of larynx], cough syncope [cough syncope], primary cough headache [primary cough headache], palpitations [palpitations], dyspnea, unspecified [dyspnea, unspecified], chest pain on breathing [chest pain on breathing], pain in throat [pain in throat], nasal congestion [nasal congestion], heartburn [heartburn], flail chest [flail chest], dysphonia [dysphonia], pain in throat and chest [pain in throat and chest], pruritus [pruritus], snoring [snoring], confusional arousals [confusional arousals]]</td>\n      <td>[0, 1, 1, 0, 1, 1, 1, 0, 1, 0, 1, 1, 1, 1, 1, 1, 1, 1, 1, 0, 1, 0, 0, 1, 1]</td>\n      <td>[0, 0, 0, 0, 0, 0, 0, 0, 0, 0, 0, 0, 0, 0, 0, 0, 0, 0, 0, 0, 0, 0, 0, 0, 0]</td>\n      <td>[0, 0, 0, 0, 0, 0, 0, 0, 0, 0, 0, 0, 0, 0, 0, 0, 0, 0, 0, 0, 0, 0, 0, 0, 0]</td>\n    </tr>\n    <tr>\n      <th>1</th>\n      <td>1</td>\n      <td>right-sided chest pain</td>\n      <td>PROBLEM</td>\n      <td>R10.11</td>\n      <td>[R10.11, M79.621, M79.604, M79.601, M25.511, M79.631, R07.1, M79.661, M79.651, M25.551, M79.641, M25.531, G90.511, M79.644, H57.11, M25.541, R10.31, R07.8, R07.89, M25.521, M25.561, G90.521, R07.2, I83.811, M79.671]</td>\n      <td>[right upper quadrant pain [right upper quadrant pain], pain in right upper arm [pain in right upper arm], pain in right leg [pain in right leg], pain in right arm [pain in right arm], pain in right shoulder [pain in right shoulder], pain in right forearm [pain in right forearm], chest pain on breathing [chest pain on breathing], pain in right lower leg [pain in right lower leg], pain in right thigh [pain in right thigh], pain in right hip [pain in right hip], pain in right hand [pain in right hand], pain in right wrist [pain in right wrist], complex regional pain syndrome i of right upper limb [complex regional pain syndrome i of right upper limb], pain in right finger(s) [pain in right finger(s)], ocular pain, right eye [ocular pain, right eye], pain in joints of right hand [pain in joints of right hand], right lower quadrant pain [right lower quadrant pain], other chest pain [other chest pain], other chest pain [other chest pain], pain in right elbow [pain in right elbow], pain in right knee [pain in right knee], complex regional pain syndrome i of right lower limb [complex regional pain syndrome i of right lower limb], precordial pain [precordial pain], varicose veins of right lower extremity with pain [varicose veins of right lower extremity with pain], pain in right foot [pain in right foot]]</td>\n      <td>[1, 1, 1, 1, 1, 1, 1, 1, 1, 1, 1, 1, 1, 1, 1, 1, 1, 0, 1, 1, 1, 1, 1, 1, 1]</td>\n      <td>[0, 0, 0, 0, 0, 0, 0, 0, 0, 0, 0, 0, 0, 0, 0, 0, 0, 0, 0, 0, 0, 0, 0, 0, 0]</td>\n      <td>[0, 0, 0, 0, 0, 0, 0, 0, 0, 0, 0, 0, 0, 0, 0, 0, 0, 0, 0, 0, 0, 0, 0, 0, 0]</td>\n    </tr>\n    <tr>\n      <th>2</th>\n      <td>1</td>\n      <td>fever</td>\n      <td>PROBLEM</td>\n      <td>A68</td>\n      <td>[A68, A78, R50.2, M04.1, A96.2, A68.9, R11.0, T67.7, A79.0, A92.1, R50.82, R50.9, R51, R50.8, T67.6, R50.83, R60.1, R10.81, A68.0, R09.81, A92.4, L29, R10.817, A95, R23.1]</td>\n      <td>[relapsing fevers [relapsing fevers], q fever [q fever], drug induced fever [drug induced fever], periodic fever syndromes [periodic fever syndromes], lassa fever [lassa fever], relapsing fever, unspecified [relapsing fever, unspecified], nausea [nausea], heat edema [heat edema], trench fever [trench fever], o'nyong-nyong fever [o'nyong-nyong fever], postprocedural fever [postprocedural fever], fever, unspecified [fever, unspecified], headache [headache], other specified fever [other specified fever], heat fatigue, transient [heat fatigue, transient], postvaccination fever [postvaccination fever], generalized edema [generalized edema], abdominal tenderness [abdominal tenderness], louse-borne relapsing fever [louse-borne relapsing fever], nasal congestion [nasal congestion], rift valley fever [rift valley fever], pruritus [pruritus], generalized abdominal tenderness [generalized abdominal tenderness], yellow fever [yellow fever], pallor [pallor]]</td>\n      <td>[0, 1, 1, 1, 1, 1, 1, 0, 1, 1, 1, 1, 0, 0, 0, 1, 1, 0, 1, 1, 1, 0, 1, 0, 1]</td>\n      <td>[0, 0, 0, 1, 0, 0, 0, 0, 0, 0, 0, 0, 0, 0, 0, 0, 0, 0, 0, 0, 0, 0, 0, 0, 0]</td>\n      <td>[0, 0, 0, 40, 0, 0, 0, 0, 0, 0, 0, 0, 0, 0, 0, 0, 0, 0, 0, 0, 0, 0, 0, 0, 0]</td>\n    </tr>\n    <tr>\n      <th>3</th>\n      <td>2</td>\n      <td>pericarditis</td>\n      <td>PROBLEM</td>\n      <td>I30.1</td>\n      <td>[I30.1, B33.23, I30, I31.0, I01.0, I30.9, I31.1, I32, I09.2, I30.0, K65, A39.53, I31.4, B33.2, I31.31, I31.9, H04.0, A74.81, I30.8, B33.21, H83.0, S26.02, I31, S26.0, I31.8]</td>\n      <td>[infective pericarditis [infective pericarditis], viral pericarditis [viral pericarditis], acute pericarditis [acute pericarditis], chronic adhesive pericarditis [chronic adhesive pericarditis], acute rheumatic pericarditis [acute rheumatic pericarditis], acute pericarditis, unspecified [acute pericarditis, unspecified], chronic constrictive pericarditis [chronic constrictive pericarditis], pericarditis in diseases classified elsewhere [pericarditis in diseases classified elsewhere], chronic rheumatic pericarditis [chronic rheumatic pericarditis], acute nonspecific idiopathic pericarditis [acute nonspecific idiopathic pericarditis], peritonitis [peritonitis], meningococcal pericarditis [meningococcal pericarditis], cardiac tamponade [cardiac tamponade], viral carditis [viral carditis], malignant pericardial effusion in diseases classified elsewhere [malignant pericardial effusion in diseases classified elsewhere], disease of pericardium, unspecified [disease of pericardium, unspecified], dacryoadenitis [dacryoadenitis], chlamydial peritonitis [chlamydial peritonitis], other forms of acute pericarditis [other forms of acute pericarditis], viral endocarditis [viral endocarditis], labyrinthitis [labyrinthitis], laceration of heart with hemopericardium [laceration of heart with hemopericardium], other diseases of pericardium [other diseases of pericardium], injury of heart with hemopericardium [injury of heart with hemopericardium], other specified diseases of pericardium [other specified diseases of pericardium]]</td>\n      <td>[1, 1, 0, 1, 1, 1, 1, 1, 1, 1, 0, 1, 1, 0, 1, 1, 0, 1, 1, 1, 0, 0, 0, 0, 1]</td>\n      <td>[0, 0, 0, 0, 0, 0, 0, 0, 0, 0, 0, 0, 0, 0, 0, 0, 0, 0, 0, 0, 0, 0, 0, 0, 0]</td>\n      <td>[0, 0, 0, 0, 0, 0, 0, 0, 0, 0, 0, 0, 0, 0, 0, 0, 0, 0, 0, 0, 0, 0, 0, 0, 0]</td>\n    </tr>\n    <tr>\n      <th>4</th>\n      <td>2</td>\n      <td>cough</td>\n      <td>PROBLEM</td>\n      <td>R05</td>\n      <td>[R05, A37, R05.3, R05.1, R05.2, R06.7, R06.2, R06.01, R05.4, R06.0, J38.4, R05.9, R06.83, R06.00, R12, G44.83, R06, R00.2, R09.81, R51, R07.0, R11.1, R49.0, S22.5, R06.1]</td>\n      <td>[cough [cough], whooping cough [whooping cough], chronic cough [chronic cough], acute cough [acute cough], subacute cough [subacute cough], sneezing [sneezing], wheezing [wheezing], orthopnea [orthopnea], cough syncope [cough syncope], dyspnea [dyspnea], edema of larynx [edema of larynx], cough, unspecified [cough, unspecified], snoring [snoring], dyspnea, unspecified [dyspnea, unspecified], heartburn [heartburn], primary cough headache [primary cough headache], abnormalities of breathing [abnormalities of breathing], palpitations [palpitations], nasal congestion [nasal congestion], headache [headache], pain in throat [pain in throat], vomiting [vomiting], dysphonia [dysphonia], flail chest [flail chest], stridor [stridor]]</td>\n      <td>[0, 0, 1, 1, 1, 1, 1, 1, 1, 0, 1, 1, 1, 1, 1, 1, 0, 1, 1, 0, 1, 0, 1, 0, 1]</td>\n      <td>[0, 0, 0, 0, 0, 0, 0, 0, 0, 0, 0, 0, 0, 0, 0, 0, 0, 0, 0, 0, 0, 0, 0, 0, 0]</td>\n      <td>[0, 0, 0, 0, 0, 0, 0, 0, 0, 0, 0, 0, 0, 0, 0, 0, 0, 0, 0, 0, 0, 0, 0, 0, 0]</td>\n    </tr>\n    <tr>\n      <th>5</th>\n      <td>2</td>\n      <td>right-sided chest pain</td>\n      <td>PROBLEM</td>\n      <td>R10.11</td>\n      <td>[R10.11, M79.621, M79.604, M79.601, M25.511, M79.631, R07.1, M79.661, M79.651, M25.551, M79.641, M25.531, G90.511, M79.644, H57.11, M25.541, R10.31, R07.8, R07.89, M25.521, M25.561, G90.521, R07.2, I83.811, M79.671]</td>\n      <td>[right upper quadrant pain [right upper quadrant pain], pain in right upper arm [pain in right upper arm], pain in right leg [pain in right leg], pain in right arm [pain in right arm], pain in right shoulder [pain in right shoulder], pain in right forearm [pain in right forearm], chest pain on breathing [chest pain on breathing], pain in right lower leg [pain in right lower leg], pain in right thigh [pain in right thigh], pain in right hip [pain in right hip], pain in right hand [pain in right hand], pain in right wrist [pain in right wrist], complex regional pain syndrome i of right upper limb [complex regional pain syndrome i of right upper limb], pain in right finger(s) [pain in right finger(s)], ocular pain, right eye [ocular pain, right eye], pain in joints of right hand [pain in joints of right hand], right lower quadrant pain [right lower quadrant pain], other chest pain [other chest pain], other chest pain [other chest pain], pain in right elbow [pain in right elbow], pain in right knee [pain in right knee], complex regional pain syndrome i of right lower limb [complex regional pain syndrome i of right lower limb], precordial pain [precordial pain], varicose veins of right lower extremity with pain [varicose veins of right lower extremity with pain], pain in right foot [pain in right foot]]</td>\n      <td>[1, 1, 1, 1, 1, 1, 1, 1, 1, 1, 1, 1, 1, 1, 1, 1, 1, 0, 1, 1, 1, 1, 1, 1, 1]</td>\n      <td>[0, 0, 0, 0, 0, 0, 0, 0, 0, 0, 0, 0, 0, 0, 0, 0, 0, 0, 0, 0, 0, 0, 0, 0, 0]</td>\n      <td>[0, 0, 0, 0, 0, 0, 0, 0, 0, 0, 0, 0, 0, 0, 0, 0, 0, 0, 0, 0, 0, 0, 0, 0, 0]</td>\n    </tr>\n  </tbody>\n</table>\n</div>",
       "datasetInfos": [],
       "metadata": {},
       "removedWidgets": [],
       "textData": null,
       "type": "htmlSandbox"
      }
     },
     "output_type": "display_data"
    }
   ],
   "source": [
    "icd10_result.head(15)"
   ]
  },
  {
   "cell_type": "markdown",
   "metadata": {
    "application/vnd.databricks.v1+cell": {
     "cellMetadata": {
      "byteLimit": 2048000,
      "rowLimit": 10000
     },
     "inputWidgets": {},
     "nuid": "d4062548-94b4-4c8a-8b0e-3ad1be0383ff",
     "showTitle": false,
     "title": ""
    },
    "id": "tm8yVLr8rquM"
   },
   "source": [
    "**Now lets get RxNorm codes from our results.**"
   ]
  },
  {
   "cell_type": "code",
   "execution_count": 0,
   "metadata": {
    "application/vnd.databricks.v1+cell": {
     "cellMetadata": {
      "byteLimit": 2048000,
      "rowLimit": 10000
     },
     "inputWidgets": {},
     "nuid": "a3bbbcaf-7323-4be5-a37b-42d803e2467c",
     "showTitle": false,
     "title": ""
    }
   },
   "outputs": [
    {
     "output_type": "display_data",
     "data": {
      "text/html": [
       "<div>\n",
       "<style scoped>\n",
       "    .dataframe tbody tr th:only-of-type {\n",
       "        vertical-align: middle;\n",
       "    }\n",
       "\n",
       "    .dataframe tbody tr th {\n",
       "        vertical-align: top;\n",
       "    }\n",
       "\n",
       "    .dataframe thead th {\n",
       "        text-align: right;\n",
       "    }\n",
       "</style>\n",
       "<table border=\"1\" class=\"dataframe\">\n",
       "  <thead>\n",
       "    <tr style=\"text-align: right;\">\n",
       "      <th></th>\n",
       "      <th>sent_id</th>\n",
       "      <th>ner_chunk</th>\n",
       "      <th>entity</th>\n",
       "      <th>rxnorm_code</th>\n",
       "      <th>all_codes</th>\n",
       "      <th>resolutions</th>\n",
       "    </tr>\n",
       "  </thead>\n",
       "  <tbody>\n",
       "    <tr>\n",
       "      <th>0</th>\n",
       "      <td>4</td>\n",
       "      <td>Coumadin</td>\n",
       "      <td>DRUG</td>\n",
       "      <td>202421</td>\n",
       "      <td>[202421, 2898, 374998, 1855075, 128793, 1598, 152085, 218274, 21732, 375868, 1435932, 227590, 202392, 374560, 87866, 1603522, 5011, 54908, 402786, 216785, 370743, 154, 202862, 151531, 1317116]</td>\n",
       "      <td>[coumadin [coumadin], coumarin [coumarin], coumarin Oral Tablet, coumaran [coumaran], vicodin [vicodin], dicoumarol [dicumarol], mycifradin [mycifradin], medcodin [medcodin], cresatin [cresatin], cresatin Oral Solution, reumacetin [reumacetin], geocillin [geocillin], garamycin [garamycin], ardeparin Injectable Solution, ardeparin [ardeparin], glabridin [glabridin], gramicidin [gramicidin], policresulen [policresulen], policresulen Vaginal Gel, duraganidin nr [duraganidin nr], acenocoumarol Oral Tablet, acenocoumarol [acenocoumarol], cleocin [cleocin], codafen [codafen], velafermin [velafermin]]</td>\n",
       "    </tr>\n",
       "    <tr>\n",
       "      <th>1</th>\n",
       "      <td>6</td>\n",
       "      <td>Amiodarone</td>\n",
       "      <td>DRUG</td>\n",
       "      <td>703</td>\n",
       "      <td>[703, 1663223, 1151983, 1663270, 1151982, 203114, 377132, 1151981, 832845, 727379, 370568, 620, 1944369, 151347, 722, 370575, 1000082, 1000084, 5936, 832848, 374399, 833534, 2184119, 17767]</td>\n",
       "      <td>[amiodarone [amiodarone], amiodarone Injection, amiodarone pill [amiodarone pill], amiodarone injection [nexterone] [amiodarone injection [nexterone]], amiodarone oral product [amiodarone oral product], amiodarone hydrochloride [amiodarone hydrochloride], amiodarone injectable solution [amiodarone injectable solution], amiodarone injectable product [amiodarone injectable product], amiodarone injectable solution [nexterone] [amiodarone injectable solution [nexterone]], amiodarone prefilled syringe [amiodarone prefilled syringe], amiodarone oral tablet [amiodarone oral tablet], amantadine [amantadine], amantadine Extended Release Oral Capsule, amsidine [amsidine], amoxapine [amoxapine], amoxapine Oral Tablet, alcaftadine [alcaftadine], alcaftadine Ophthalmic Solution, adipiodone [iodipamide], amiodarone prefilled syringe [nexterone] [amiodarone prefilled syringe [nexterone]], adenosine injectable solution [adenosine injectable solution], amiodarone injectable solution [cordarone] [amiodarone injectable solution [cordarone]], amlodipine Oral Suspension, amlodipine [amlodipine]]</td>\n",
       "    </tr>\n",
       "  </tbody>\n",
       "</table>\n",
       "</div>"
      ]
     },
     "metadata": {
      "application/vnd.databricks.v1+output": {
       "addedWidgets": {},
       "arguments": {},
       "data": "<div>\n<style scoped>\n    .dataframe tbody tr th:only-of-type {\n        vertical-align: middle;\n    }\n\n    .dataframe tbody tr th {\n        vertical-align: top;\n    }\n\n    .dataframe thead th {\n        text-align: right;\n    }\n</style>\n<table border=\"1\" class=\"dataframe\">\n  <thead>\n    <tr style=\"text-align: right;\">\n      <th></th>\n      <th>sent_id</th>\n      <th>ner_chunk</th>\n      <th>entity</th>\n      <th>rxnorm_code</th>\n      <th>all_codes</th>\n      <th>resolutions</th>\n    </tr>\n  </thead>\n  <tbody>\n    <tr>\n      <th>0</th>\n      <td>4</td>\n      <td>Coumadin</td>\n      <td>DRUG</td>\n      <td>202421</td>\n      <td>[202421, 2898, 374998, 1855075, 128793, 1598, 152085, 218274, 21732, 375868, 1435932, 227590, 202392, 374560, 87866, 1603522, 5011, 54908, 402786, 216785, 370743, 154, 202862, 151531, 1317116]</td>\n      <td>[coumadin [coumadin], coumarin [coumarin], coumarin Oral Tablet, coumaran [coumaran], vicodin [vicodin], dicoumarol [dicumarol], mycifradin [mycifradin], medcodin [medcodin], cresatin [cresatin], cresatin Oral Solution, reumacetin [reumacetin], geocillin [geocillin], garamycin [garamycin], ardeparin Injectable Solution, ardeparin [ardeparin], glabridin [glabridin], gramicidin [gramicidin], policresulen [policresulen], policresulen Vaginal Gel, duraganidin nr [duraganidin nr], acenocoumarol Oral Tablet, acenocoumarol [acenocoumarol], cleocin [cleocin], codafen [codafen], velafermin [velafermin]]</td>\n    </tr>\n    <tr>\n      <th>1</th>\n      <td>6</td>\n      <td>Amiodarone</td>\n      <td>DRUG</td>\n      <td>703</td>\n      <td>[703, 1663223, 1151983, 1663270, 1151982, 203114, 377132, 1151981, 832845, 727379, 370568, 620, 1944369, 151347, 722, 370575, 1000082, 1000084, 5936, 832848, 374399, 833534, 2184119, 17767]</td>\n      <td>[amiodarone [amiodarone], amiodarone Injection, amiodarone pill [amiodarone pill], amiodarone injection [nexterone] [amiodarone injection [nexterone]], amiodarone oral product [amiodarone oral product], amiodarone hydrochloride [amiodarone hydrochloride], amiodarone injectable solution [amiodarone injectable solution], amiodarone injectable product [amiodarone injectable product], amiodarone injectable solution [nexterone] [amiodarone injectable solution [nexterone]], amiodarone prefilled syringe [amiodarone prefilled syringe], amiodarone oral tablet [amiodarone oral tablet], amantadine [amantadine], amantadine Extended Release Oral Capsule, amsidine [amsidine], amoxapine [amoxapine], amoxapine Oral Tablet, alcaftadine [alcaftadine], alcaftadine Ophthalmic Solution, adipiodone [iodipamide], amiodarone prefilled syringe [nexterone] [amiodarone prefilled syringe [nexterone]], adenosine injectable solution [adenosine injectable solution], amiodarone injectable solution [cordarone] [amiodarone injectable solution [cordarone]], amlodipine Oral Suspension, amlodipine [amlodipine]]</td>\n    </tr>\n  </tbody>\n</table>\n</div>",
       "datasetInfos": [],
       "metadata": {},
       "removedWidgets": [],
       "textData": null,
       "type": "htmlSandbox"
      }
     },
     "output_type": "display_data"
    }
   ],
   "source": [
    "rxnorm_result = get_codes_from_df(result, 'posology_ner_chunk', 'rxnorm_code', hcc=False)\n",
    "\n",
    "rxnorm_result.head()"
   ]
  },
  {
   "cell_type": "markdown",
   "metadata": {
    "application/vnd.databricks.v1+cell": {
     "cellMetadata": {
      "byteLimit": 2048000,
      "rowLimit": 10000
     },
     "inputWidgets": {},
     "nuid": "3c7e520f-3b6d-48df-9de3-95d7ff2d1c2b",
     "showTitle": false,
     "title": ""
    },
    "id": "AEXSrwEXrquM"
   },
   "source": [
    "### Using Router with Single NER Model"
   ]
  },
  {
   "cell_type": "markdown",
   "metadata": {
    "application/vnd.databricks.v1+cell": {
     "cellMetadata": {
      "byteLimit": 2048000,
      "rowLimit": 10000
     },
     "inputWidgets": {},
     "nuid": "c31e3579-0bf9-4060-a395-c2674ce9e096",
     "showTitle": false,
     "title": ""
    },
    "id": "5e2vvgFarquM"
   },
   "source": [
    "**If we want to get entities from only ONE NER model, it will be sufficient to feed the resolver models only with sentence embeddings from the `Router`. In the example below, we use `ner_clinical` model to get the `PROBLEM`,`TREATMENT` entities. Then we will feed the ICD10CM resolver model with the sentence embeddings of `PROBLEM` entities (`problem_embeddings`), and RxNorm resolver with `TREATMENT` entities (`drug_embeddings`) from the `Router`.**"
   ]
  },
  {
   "cell_type": "code",
   "execution_count": 0,
   "metadata": {
    "application/vnd.databricks.v1+cell": {
     "cellMetadata": {
      "byteLimit": 2048000,
      "rowLimit": 10000
     },
     "inputWidgets": {},
     "nuid": "c9112981-92f5-40d5-a711-ee5faec38d92",
     "showTitle": false,
     "title": ""
    },
    "colab": {
     "base_uri": "https://localhost:8080/"
    },
    "id": "CsmNX_9crquN",
    "outputId": "a2cf7b57-27b9-496e-a204-3048899137f9"
   },
   "outputs": [
    {
     "output_type": "stream",
     "name": "stdout",
     "output_type": "stream",
     "text": [
      "ner_clinical download started this may take some time.\n\r[ | ]\r[OK!]\nsbiobert_base_cased_mli download started this may take some time.\nApproximate size to download 384.3 MB\n\r[ | ]\r[OK!]\nsbiobertresolve_icd10cm_slim_billable_hcc download started this may take some time.\n\r[ | ]\r[OK!]\nsbiobertresolve_rxnorm_augmented download started this may take some time.\n\r[ | ]\r[OK!]\n"
     ]
    }
   ],
   "source": [
    "ner = medical.NerModel().pretrained(\"ner_clinical\", \"en\", \"clinical/models\") \\\n",
    "    .setInputCols([\"sentence\", \"token\", \"word_embeddings\"]) \\\n",
    "    .setOutputCol(\"ner\")\n",
    "\n",
    "ner_chunk = medical.NerConverterInternal()\\\n",
    "    .setInputCols(\"sentence\",\"token\",\"ner\")\\\n",
    "    .setOutputCol(\"ner_chunk\")\\\n",
    "    .setWhiteList([\"PROBLEM\",\"TREATMENT\"])\n",
    "\n",
    "\n",
    "chunk2doc = nlp.Chunk2Doc().setInputCols(\"ner_chunk\").setOutputCol(\"doc_jsl_chunk\")\n",
    "\n",
    "sbiobert_embeddings = nlp.BertSentenceEmbeddings.pretrained(\"sbiobert_base_cased_mli\",\"en\",\"clinical/models\")\\\n",
    "    .setInputCols([\"doc_jsl_chunk\"])\\\n",
    "    .setOutputCol(\"sbert_embeddings\")\\\n",
    "    .setCaseSensitive(False)\n",
    "\n",
    "router_sentence_icd10 = medical.Router() \\\n",
    "    .setInputCols(\"sbert_embeddings\") \\\n",
    "    .setFilterFieldsElements([\"PROBLEM\"]) \\\n",
    "    .setOutputCol(\"problem_embeddings\")\n",
    "\n",
    "router_sentence_rxnorm = medical.Router() \\\n",
    "    .setInputCols(\"sbert_embeddings\") \\\n",
    "    .setFilterFieldsElements([\"TREATMENT\"]) \\\n",
    "    .setOutputCol(\"drug_embeddings\")\n",
    "\n",
    "\n",
    "icd_resolver = medical.SentenceEntityResolverModel.pretrained(\"sbiobertresolve_icd10cm_slim_billable_hcc\",\"en\", \"clinical/models\") \\\n",
    "    .setInputCols([\"problem_embeddings\"]) \\\n",
    "    .setOutputCol(\"icd10cm_code\")\\\n",
    "    .setDistanceFunction(\"EUCLIDEAN\")\n",
    "\n",
    "\n",
    "rxnorm_resolver = medical.SentenceEntityResolverModel.pretrained(\"sbiobertresolve_rxnorm_augmented\",\"en\", \"clinical/models\") \\\n",
    "    .setInputCols([\"drug_embeddings\"]) \\\n",
    "    .setOutputCol(\"rxnorm_code\")\\\n",
    "    .setDistanceFunction(\"EUCLIDEAN\")\n",
    "\n",
    "resolver_pipeline = nlp.Pipeline(stages=[\n",
    "    documentAssembler,\n",
    "    sentenceDetector,\n",
    "    tokenizer,\n",
    "    word_embeddings,\n",
    "    ner,\n",
    "    ner_chunk,\n",
    "    chunk2doc,\n",
    "    sbiobert_embeddings,\n",
    "    router_sentence_icd10,\n",
    "    router_sentence_rxnorm,\n",
    "    icd_resolver,\n",
    "    rxnorm_resolver\n",
    "])\n",
    "\n",
    "empty_data = spark.createDataFrame([['']]).toDF(\"text\")\n",
    "resolver_model = resolver_pipeline.fit(empty_data)"
   ]
  },
  {
   "cell_type": "code",
   "execution_count": 0,
   "metadata": {
    "application/vnd.databricks.v1+cell": {
     "cellMetadata": {
      "byteLimit": 2048000,
      "rowLimit": 10000
     },
     "inputWidgets": {},
     "nuid": "87add262-8905-4683-a99c-4dc8a60869eb",
     "showTitle": false,
     "title": ""
    },
    "id": "-Wv6sriXrquN"
   },
   "outputs": [],
   "source": [
    "single_ner_result = resolver_model.transform(df)"
   ]
  },
  {
   "cell_type": "code",
   "execution_count": 0,
   "metadata": {
    "application/vnd.databricks.v1+cell": {
     "cellMetadata": {
      "byteLimit": 2048000,
      "rowLimit": 10000
     },
     "inputWidgets": {},
     "nuid": "57743cc3-068c-4154-85c5-39620d6dd2a0",
     "showTitle": false,
     "title": ""
    }
   },
   "outputs": [],
   "source": [
    "# explode problem_embeddings and icd10cm_code\n",
    "\n",
    "single_icd_df = single_ner_result.select(F.explode(F.arrays_zip(single_ner_result.problem_embeddings.metadata, \n",
    "                                                                single_ner_result.icd10cm_code.result, \n",
    "                                                                single_ner_result.icd10cm_code.metadata)).alias(\"cols\")) \\\n",
    "                                .select(F.expr(\"cols['0']['token']\").alias(\"ner_chunk\"),\n",
    "                                        F.expr(\"cols['0']['entity']\").alias(\"entity\"), \n",
    "                                        F.expr(\"cols['1']\").alias(\"icd10_code\"),\n",
    "                                        F.expr(\"cols['2']['all_k_results']\").alias(\"all_codes\"),\n",
    "                                        F.expr(\"cols['2']['all_k_resolutions']\").alias(\"resolutions\"),\n",
    "                                        F.expr(\"cols['2']['all_k_aux_labels']\").alias(\"hcc_list\")).toPandas()\n",
    "\n",
    "codes = []\n",
    "resolutions = []\n",
    "hcc_all = []\n",
    "\n",
    "for code, resolution, hcc in zip(single_icd_df['all_codes'], single_icd_df['resolutions'], single_icd_df['hcc_list']):\n",
    "\n",
    "    codes.append(code.split(':::'))\n",
    "    resolutions.append(resolution.split(':::'))\n",
    "    hcc_all.append(hcc.split(\":::\"))\n",
    "\n",
    "single_icd_df['all_codes'] = codes  \n",
    "single_icd_df['resolutions'] = resolutions\n",
    "single_icd_df['hcc_list'] = hcc_all\n",
    "\n",
    "\n",
    "\n",
    "# extract HCC informationinto different columns\n",
    "\n",
    "single_icd_df[\"billable\"] = single_icd_df[\"hcc_list\"].apply(extract_billable).apply(pd.Series).iloc[:,0]    \n",
    "single_icd_df[\"hcc_status\"] = single_icd_df[\"hcc_list\"].apply(extract_billable).apply(pd.Series).iloc[:,1]\n",
    "single_icd_df[\"hcc_code\"] = single_icd_df[\"hcc_list\"].apply(extract_billable).apply(pd.Series).iloc[:,2]\n",
    "\n",
    "single_icd_df.drop(\"hcc_list\", axis=1, inplace= True)"
   ]
  },
  {
   "cell_type": "code",
   "execution_count": 0,
   "metadata": {
    "application/vnd.databricks.v1+cell": {
     "cellMetadata": {
      "byteLimit": 2048000,
      "rowLimit": 10000
     },
     "inputWidgets": {},
     "nuid": "7eea7c79-23b8-48ef-af46-4542ade2b145",
     "showTitle": false,
     "title": ""
    }
   },
   "outputs": [
    {
     "output_type": "display_data",
     "data": {
      "text/html": [
       "<div>\n",
       "<style scoped>\n",
       "    .dataframe tbody tr th:only-of-type {\n",
       "        vertical-align: middle;\n",
       "    }\n",
       "\n",
       "    .dataframe tbody tr th {\n",
       "        vertical-align: top;\n",
       "    }\n",
       "\n",
       "    .dataframe thead th {\n",
       "        text-align: right;\n",
       "    }\n",
       "</style>\n",
       "<table border=\"1\" class=\"dataframe\">\n",
       "  <thead>\n",
       "    <tr style=\"text-align: right;\">\n",
       "      <th></th>\n",
       "      <th>ner_chunk</th>\n",
       "      <th>entity</th>\n",
       "      <th>icd10_code</th>\n",
       "      <th>all_codes</th>\n",
       "      <th>resolutions</th>\n",
       "      <th>billable</th>\n",
       "      <th>hcc_status</th>\n",
       "      <th>hcc_code</th>\n",
       "    </tr>\n",
       "  </thead>\n",
       "  <tbody>\n",
       "    <tr>\n",
       "      <th>0</th>\n",
       "      <td>a cough</td>\n",
       "      <td>PROBLEM</td>\n",
       "      <td>R05</td>\n",
       "      <td>[R05, R05.3, R05.1, A37, R05.2, R06.01, R06.7, R06.0, R06.2, R06, J38.4, R05.4, G44.83, R00.2, R06.00, R07.1, R07.0, R09.81, R12, S22.5, R49.0, R07, L29, R06.83, G47.51]</td>\n",
       "      <td>[cough [cough], chronic cough [chronic cough], acute cough [acute cough], whooping cough [whooping cough], subacute cough [subacute cough], orthopnea [orthopnea], sneezing [sneezing], dyspnea [dyspnea], wheezing [wheezing], abnormalities of breathing [abnormalities of breathing], edema of larynx [edema of larynx], cough syncope [cough syncope], primary cough headache [primary cough headache], palpitations [palpitations], dyspnea, unspecified [dyspnea, unspecified], chest pain on breathing [chest pain on breathing], pain in throat [pain in throat], nasal congestion [nasal congestion], heartburn [heartburn], flail chest [flail chest], dysphonia [dysphonia], pain in throat and chest [pain in throat and chest], pruritus [pruritus], snoring [snoring], confusional arousals [confusional arousals]]</td>\n",
       "      <td>[0, 1, 1, 0, 1, 1, 1, 0, 1, 0, 1, 1, 1, 1, 1, 1, 1, 1, 1, 0, 1, 0, 0, 1, 1]</td>\n",
       "      <td>[0, 0, 0, 0, 0, 0, 0, 0, 0, 0, 0, 0, 0, 0, 0, 0, 0, 0, 0, 0, 0, 0, 0, 0, 0]</td>\n",
       "      <td>[0, 0, 0, 0, 0, 0, 0, 0, 0, 0, 0, 0, 0, 0, 0, 0, 0, 0, 0, 0, 0, 0, 0, 0, 0]</td>\n",
       "    </tr>\n",
       "    <tr>\n",
       "      <th>1</th>\n",
       "      <td>right-sided chest pain</td>\n",
       "      <td>PROBLEM</td>\n",
       "      <td>R10.11</td>\n",
       "      <td>[R10.11, M79.621, M79.604, M79.601, M25.511, M79.631, R07.1, M79.661, M79.651, M25.551, M79.641, M25.531, G90.511, M79.644, H57.11, M25.541, R10.31, R07.8, R07.89, M25.521, M25.561, G90.521, R07.2, I83.811, M79.671]</td>\n",
       "      <td>[right upper quadrant pain [right upper quadrant pain], pain in right upper arm [pain in right upper arm], pain in right leg [pain in right leg], pain in right arm [pain in right arm], pain in right shoulder [pain in right shoulder], pain in right forearm [pain in right forearm], chest pain on breathing [chest pain on breathing], pain in right lower leg [pain in right lower leg], pain in right thigh [pain in right thigh], pain in right hip [pain in right hip], pain in right hand [pain in right hand], pain in right wrist [pain in right wrist], complex regional pain syndrome i of right upper limb [complex regional pain syndrome i of right upper limb], pain in right finger(s) [pain in right finger(s)], ocular pain, right eye [ocular pain, right eye], pain in joints of right hand [pain in joints of right hand], right lower quadrant pain [right lower quadrant pain], other chest pain [other chest pain], other chest pain [other chest pain], pain in right elbow [pain in right elbow], pain in right knee [pain in right knee], complex regional pain syndrome i of right lower limb [complex regional pain syndrome i of right lower limb], precordial pain [precordial pain], varicose veins of right lower extremity with pain [varicose veins of right lower extremity with pain], pain in right foot [pain in right foot]]</td>\n",
       "      <td>[1, 1, 1, 1, 1, 1, 1, 1, 1, 1, 1, 1, 1, 1, 1, 1, 1, 0, 1, 1, 1, 1, 1, 1, 1]</td>\n",
       "      <td>[0, 0, 0, 0, 0, 0, 0, 0, 0, 0, 0, 0, 0, 0, 0, 0, 0, 0, 0, 0, 0, 0, 0, 0, 0]</td>\n",
       "      <td>[0, 0, 0, 0, 0, 0, 0, 0, 0, 0, 0, 0, 0, 0, 0, 0, 0, 0, 0, 0, 0, 0, 0, 0, 0]</td>\n",
       "    </tr>\n",
       "    <tr>\n",
       "      <th>2</th>\n",
       "      <td>fever</td>\n",
       "      <td>PROBLEM</td>\n",
       "      <td>A68</td>\n",
       "      <td>[A68, A78, R50.2, M04.1, A96.2, A68.9, R11.0, T67.7, A79.0, A92.1, R50.82, R50.9, R51, R50.8, T67.6, R50.83, R60.1, R10.81, A68.0, R09.81, A92.4, L29, R10.817, A95, R23.1]</td>\n",
       "      <td>[relapsing fevers [relapsing fevers], q fever [q fever], drug induced fever [drug induced fever], periodic fever syndromes [periodic fever syndromes], lassa fever [lassa fever], relapsing fever, unspecified [relapsing fever, unspecified], nausea [nausea], heat edema [heat edema], trench fever [trench fever], o'nyong-nyong fever [o'nyong-nyong fever], postprocedural fever [postprocedural fever], fever, unspecified [fever, unspecified], headache [headache], other specified fever [other specified fever], heat fatigue, transient [heat fatigue, transient], postvaccination fever [postvaccination fever], generalized edema [generalized edema], abdominal tenderness [abdominal tenderness], louse-borne relapsing fever [louse-borne relapsing fever], nasal congestion [nasal congestion], rift valley fever [rift valley fever], pruritus [pruritus], generalized abdominal tenderness [generalized abdominal tenderness], yellow fever [yellow fever], pallor [pallor]]</td>\n",
       "      <td>[0, 1, 1, 1, 1, 1, 1, 0, 1, 1, 1, 1, 0, 0, 0, 1, 1, 0, 1, 1, 1, 0, 1, 0, 1]</td>\n",
       "      <td>[0, 0, 0, 1, 0, 0, 0, 0, 0, 0, 0, 0, 0, 0, 0, 0, 0, 0, 0, 0, 0, 0, 0, 0, 0]</td>\n",
       "      <td>[0, 0, 0, 40, 0, 0, 0, 0, 0, 0, 0, 0, 0, 0, 0, 0, 0, 0, 0, 0, 0, 0, 0, 0, 0]</td>\n",
       "    </tr>\n",
       "    <tr>\n",
       "      <th>3</th>\n",
       "      <td>pericarditis</td>\n",
       "      <td>PROBLEM</td>\n",
       "      <td>I30.1</td>\n",
       "      <td>[I30.1, B33.23, I30, I31.0, I01.0, I30.9, I31.1, I32, I09.2, I30.0, K65, A39.53, I31.4, B33.2, I31.31, I31.9, H04.0, A74.81, I30.8, B33.21, H83.0, S26.02, I31, S26.0, I31.8]</td>\n",
       "      <td>[infective pericarditis [infective pericarditis], viral pericarditis [viral pericarditis], acute pericarditis [acute pericarditis], chronic adhesive pericarditis [chronic adhesive pericarditis], acute rheumatic pericarditis [acute rheumatic pericarditis], acute pericarditis, unspecified [acute pericarditis, unspecified], chronic constrictive pericarditis [chronic constrictive pericarditis], pericarditis in diseases classified elsewhere [pericarditis in diseases classified elsewhere], chronic rheumatic pericarditis [chronic rheumatic pericarditis], acute nonspecific idiopathic pericarditis [acute nonspecific idiopathic pericarditis], peritonitis [peritonitis], meningococcal pericarditis [meningococcal pericarditis], cardiac tamponade [cardiac tamponade], viral carditis [viral carditis], malignant pericardial effusion in diseases classified elsewhere [malignant pericardial effusion in diseases classified elsewhere], disease of pericardium, unspecified [disease of pericardium, unspecified], dacryoadenitis [dacryoadenitis], chlamydial peritonitis [chlamydial peritonitis], other forms of acute pericarditis [other forms of acute pericarditis], viral endocarditis [viral endocarditis], labyrinthitis [labyrinthitis], laceration of heart with hemopericardium [laceration of heart with hemopericardium], other diseases of pericardium [other diseases of pericardium], injury of heart with hemopericardium [injury of heart with hemopericardium], other specified diseases of pericardium [other specified diseases of pericardium]]</td>\n",
       "      <td>[1, 1, 0, 1, 1, 1, 1, 1, 1, 1, 0, 1, 1, 0, 1, 1, 0, 1, 1, 1, 0, 0, 0, 0, 1]</td>\n",
       "      <td>[0, 0, 0, 0, 0, 0, 0, 0, 0, 0, 0, 0, 0, 0, 0, 0, 0, 0, 0, 0, 0, 0, 0, 0, 0]</td>\n",
       "      <td>[0, 0, 0, 0, 0, 0, 0, 0, 0, 0, 0, 0, 0, 0, 0, 0, 0, 0, 0, 0, 0, 0, 0, 0, 0]</td>\n",
       "    </tr>\n",
       "    <tr>\n",
       "      <th>4</th>\n",
       "      <td>cough</td>\n",
       "      <td>PROBLEM</td>\n",
       "      <td>R05</td>\n",
       "      <td>[R05, A37, R05.3, R05.1, R05.2, R06.7, R06.2, R06.01, R05.4, R06.0, J38.4, R05.9, R06.83, R06.00, R12, G44.83, R06, R00.2, R09.81, R51, R07.0, R11.1, R49.0, S22.5, R06.1]</td>\n",
       "      <td>[cough [cough], whooping cough [whooping cough], chronic cough [chronic cough], acute cough [acute cough], subacute cough [subacute cough], sneezing [sneezing], wheezing [wheezing], orthopnea [orthopnea], cough syncope [cough syncope], dyspnea [dyspnea], edema of larynx [edema of larynx], cough, unspecified [cough, unspecified], snoring [snoring], dyspnea, unspecified [dyspnea, unspecified], heartburn [heartburn], primary cough headache [primary cough headache], abnormalities of breathing [abnormalities of breathing], palpitations [palpitations], nasal congestion [nasal congestion], headache [headache], pain in throat [pain in throat], vomiting [vomiting], dysphonia [dysphonia], flail chest [flail chest], stridor [stridor]]</td>\n",
       "      <td>[0, 0, 1, 1, 1, 1, 1, 1, 1, 0, 1, 1, 1, 1, 1, 1, 0, 1, 1, 0, 1, 0, 1, 0, 1]</td>\n",
       "      <td>[0, 0, 0, 0, 0, 0, 0, 0, 0, 0, 0, 0, 0, 0, 0, 0, 0, 0, 0, 0, 0, 0, 0, 0, 0]</td>\n",
       "      <td>[0, 0, 0, 0, 0, 0, 0, 0, 0, 0, 0, 0, 0, 0, 0, 0, 0, 0, 0, 0, 0, 0, 0, 0, 0]</td>\n",
       "    </tr>\n",
       "    <tr>\n",
       "      <th>5</th>\n",
       "      <td>right-sided chest pain</td>\n",
       "      <td>PROBLEM</td>\n",
       "      <td>R10.11</td>\n",
       "      <td>[R10.11, M79.621, M79.604, M79.601, M25.511, M79.631, R07.1, M79.661, M79.651, M25.551, M79.641, M25.531, G90.511, M79.644, H57.11, M25.541, R10.31, R07.8, R07.89, M25.521, M25.561, G90.521, R07.2, I83.811, M79.671]</td>\n",
       "      <td>[right upper quadrant pain [right upper quadrant pain], pain in right upper arm [pain in right upper arm], pain in right leg [pain in right leg], pain in right arm [pain in right arm], pain in right shoulder [pain in right shoulder], pain in right forearm [pain in right forearm], chest pain on breathing [chest pain on breathing], pain in right lower leg [pain in right lower leg], pain in right thigh [pain in right thigh], pain in right hip [pain in right hip], pain in right hand [pain in right hand], pain in right wrist [pain in right wrist], complex regional pain syndrome i of right upper limb [complex regional pain syndrome i of right upper limb], pain in right finger(s) [pain in right finger(s)], ocular pain, right eye [ocular pain, right eye], pain in joints of right hand [pain in joints of right hand], right lower quadrant pain [right lower quadrant pain], other chest pain [other chest pain], other chest pain [other chest pain], pain in right elbow [pain in right elbow], pain in right knee [pain in right knee], complex regional pain syndrome i of right lower limb [complex regional pain syndrome i of right lower limb], precordial pain [precordial pain], varicose veins of right lower extremity with pain [varicose veins of right lower extremity with pain], pain in right foot [pain in right foot]]</td>\n",
       "      <td>[1, 1, 1, 1, 1, 1, 1, 1, 1, 1, 1, 1, 1, 1, 1, 1, 1, 0, 1, 1, 1, 1, 1, 1, 1]</td>\n",
       "      <td>[0, 0, 0, 0, 0, 0, 0, 0, 0, 0, 0, 0, 0, 0, 0, 0, 0, 0, 0, 0, 0, 0, 0, 0, 0]</td>\n",
       "      <td>[0, 0, 0, 0, 0, 0, 0, 0, 0, 0, 0, 0, 0, 0, 0, 0, 0, 0, 0, 0, 0, 0, 0, 0, 0]</td>\n",
       "    </tr>\n",
       "  </tbody>\n",
       "</table>\n",
       "</div>"
      ]
     },
     "metadata": {
      "application/vnd.databricks.v1+output": {
       "addedWidgets": {},
       "arguments": {},
       "data": "<div>\n<style scoped>\n    .dataframe tbody tr th:only-of-type {\n        vertical-align: middle;\n    }\n\n    .dataframe tbody tr th {\n        vertical-align: top;\n    }\n\n    .dataframe thead th {\n        text-align: right;\n    }\n</style>\n<table border=\"1\" class=\"dataframe\">\n  <thead>\n    <tr style=\"text-align: right;\">\n      <th></th>\n      <th>ner_chunk</th>\n      <th>entity</th>\n      <th>icd10_code</th>\n      <th>all_codes</th>\n      <th>resolutions</th>\n      <th>billable</th>\n      <th>hcc_status</th>\n      <th>hcc_code</th>\n    </tr>\n  </thead>\n  <tbody>\n    <tr>\n      <th>0</th>\n      <td>a cough</td>\n      <td>PROBLEM</td>\n      <td>R05</td>\n      <td>[R05, R05.3, R05.1, A37, R05.2, R06.01, R06.7, R06.0, R06.2, R06, J38.4, R05.4, G44.83, R00.2, R06.00, R07.1, R07.0, R09.81, R12, S22.5, R49.0, R07, L29, R06.83, G47.51]</td>\n      <td>[cough [cough], chronic cough [chronic cough], acute cough [acute cough], whooping cough [whooping cough], subacute cough [subacute cough], orthopnea [orthopnea], sneezing [sneezing], dyspnea [dyspnea], wheezing [wheezing], abnormalities of breathing [abnormalities of breathing], edema of larynx [edema of larynx], cough syncope [cough syncope], primary cough headache [primary cough headache], palpitations [palpitations], dyspnea, unspecified [dyspnea, unspecified], chest pain on breathing [chest pain on breathing], pain in throat [pain in throat], nasal congestion [nasal congestion], heartburn [heartburn], flail chest [flail chest], dysphonia [dysphonia], pain in throat and chest [pain in throat and chest], pruritus [pruritus], snoring [snoring], confusional arousals [confusional arousals]]</td>\n      <td>[0, 1, 1, 0, 1, 1, 1, 0, 1, 0, 1, 1, 1, 1, 1, 1, 1, 1, 1, 0, 1, 0, 0, 1, 1]</td>\n      <td>[0, 0, 0, 0, 0, 0, 0, 0, 0, 0, 0, 0, 0, 0, 0, 0, 0, 0, 0, 0, 0, 0, 0, 0, 0]</td>\n      <td>[0, 0, 0, 0, 0, 0, 0, 0, 0, 0, 0, 0, 0, 0, 0, 0, 0, 0, 0, 0, 0, 0, 0, 0, 0]</td>\n    </tr>\n    <tr>\n      <th>1</th>\n      <td>right-sided chest pain</td>\n      <td>PROBLEM</td>\n      <td>R10.11</td>\n      <td>[R10.11, M79.621, M79.604, M79.601, M25.511, M79.631, R07.1, M79.661, M79.651, M25.551, M79.641, M25.531, G90.511, M79.644, H57.11, M25.541, R10.31, R07.8, R07.89, M25.521, M25.561, G90.521, R07.2, I83.811, M79.671]</td>\n      <td>[right upper quadrant pain [right upper quadrant pain], pain in right upper arm [pain in right upper arm], pain in right leg [pain in right leg], pain in right arm [pain in right arm], pain in right shoulder [pain in right shoulder], pain in right forearm [pain in right forearm], chest pain on breathing [chest pain on breathing], pain in right lower leg [pain in right lower leg], pain in right thigh [pain in right thigh], pain in right hip [pain in right hip], pain in right hand [pain in right hand], pain in right wrist [pain in right wrist], complex regional pain syndrome i of right upper limb [complex regional pain syndrome i of right upper limb], pain in right finger(s) [pain in right finger(s)], ocular pain, right eye [ocular pain, right eye], pain in joints of right hand [pain in joints of right hand], right lower quadrant pain [right lower quadrant pain], other chest pain [other chest pain], other chest pain [other chest pain], pain in right elbow [pain in right elbow], pain in right knee [pain in right knee], complex regional pain syndrome i of right lower limb [complex regional pain syndrome i of right lower limb], precordial pain [precordial pain], varicose veins of right lower extremity with pain [varicose veins of right lower extremity with pain], pain in right foot [pain in right foot]]</td>\n      <td>[1, 1, 1, 1, 1, 1, 1, 1, 1, 1, 1, 1, 1, 1, 1, 1, 1, 0, 1, 1, 1, 1, 1, 1, 1]</td>\n      <td>[0, 0, 0, 0, 0, 0, 0, 0, 0, 0, 0, 0, 0, 0, 0, 0, 0, 0, 0, 0, 0, 0, 0, 0, 0]</td>\n      <td>[0, 0, 0, 0, 0, 0, 0, 0, 0, 0, 0, 0, 0, 0, 0, 0, 0, 0, 0, 0, 0, 0, 0, 0, 0]</td>\n    </tr>\n    <tr>\n      <th>2</th>\n      <td>fever</td>\n      <td>PROBLEM</td>\n      <td>A68</td>\n      <td>[A68, A78, R50.2, M04.1, A96.2, A68.9, R11.0, T67.7, A79.0, A92.1, R50.82, R50.9, R51, R50.8, T67.6, R50.83, R60.1, R10.81, A68.0, R09.81, A92.4, L29, R10.817, A95, R23.1]</td>\n      <td>[relapsing fevers [relapsing fevers], q fever [q fever], drug induced fever [drug induced fever], periodic fever syndromes [periodic fever syndromes], lassa fever [lassa fever], relapsing fever, unspecified [relapsing fever, unspecified], nausea [nausea], heat edema [heat edema], trench fever [trench fever], o'nyong-nyong fever [o'nyong-nyong fever], postprocedural fever [postprocedural fever], fever, unspecified [fever, unspecified], headache [headache], other specified fever [other specified fever], heat fatigue, transient [heat fatigue, transient], postvaccination fever [postvaccination fever], generalized edema [generalized edema], abdominal tenderness [abdominal tenderness], louse-borne relapsing fever [louse-borne relapsing fever], nasal congestion [nasal congestion], rift valley fever [rift valley fever], pruritus [pruritus], generalized abdominal tenderness [generalized abdominal tenderness], yellow fever [yellow fever], pallor [pallor]]</td>\n      <td>[0, 1, 1, 1, 1, 1, 1, 0, 1, 1, 1, 1, 0, 0, 0, 1, 1, 0, 1, 1, 1, 0, 1, 0, 1]</td>\n      <td>[0, 0, 0, 1, 0, 0, 0, 0, 0, 0, 0, 0, 0, 0, 0, 0, 0, 0, 0, 0, 0, 0, 0, 0, 0]</td>\n      <td>[0, 0, 0, 40, 0, 0, 0, 0, 0, 0, 0, 0, 0, 0, 0, 0, 0, 0, 0, 0, 0, 0, 0, 0, 0]</td>\n    </tr>\n    <tr>\n      <th>3</th>\n      <td>pericarditis</td>\n      <td>PROBLEM</td>\n      <td>I30.1</td>\n      <td>[I30.1, B33.23, I30, I31.0, I01.0, I30.9, I31.1, I32, I09.2, I30.0, K65, A39.53, I31.4, B33.2, I31.31, I31.9, H04.0, A74.81, I30.8, B33.21, H83.0, S26.02, I31, S26.0, I31.8]</td>\n      <td>[infective pericarditis [infective pericarditis], viral pericarditis [viral pericarditis], acute pericarditis [acute pericarditis], chronic adhesive pericarditis [chronic adhesive pericarditis], acute rheumatic pericarditis [acute rheumatic pericarditis], acute pericarditis, unspecified [acute pericarditis, unspecified], chronic constrictive pericarditis [chronic constrictive pericarditis], pericarditis in diseases classified elsewhere [pericarditis in diseases classified elsewhere], chronic rheumatic pericarditis [chronic rheumatic pericarditis], acute nonspecific idiopathic pericarditis [acute nonspecific idiopathic pericarditis], peritonitis [peritonitis], meningococcal pericarditis [meningococcal pericarditis], cardiac tamponade [cardiac tamponade], viral carditis [viral carditis], malignant pericardial effusion in diseases classified elsewhere [malignant pericardial effusion in diseases classified elsewhere], disease of pericardium, unspecified [disease of pericardium, unspecified], dacryoadenitis [dacryoadenitis], chlamydial peritonitis [chlamydial peritonitis], other forms of acute pericarditis [other forms of acute pericarditis], viral endocarditis [viral endocarditis], labyrinthitis [labyrinthitis], laceration of heart with hemopericardium [laceration of heart with hemopericardium], other diseases of pericardium [other diseases of pericardium], injury of heart with hemopericardium [injury of heart with hemopericardium], other specified diseases of pericardium [other specified diseases of pericardium]]</td>\n      <td>[1, 1, 0, 1, 1, 1, 1, 1, 1, 1, 0, 1, 1, 0, 1, 1, 0, 1, 1, 1, 0, 0, 0, 0, 1]</td>\n      <td>[0, 0, 0, 0, 0, 0, 0, 0, 0, 0, 0, 0, 0, 0, 0, 0, 0, 0, 0, 0, 0, 0, 0, 0, 0]</td>\n      <td>[0, 0, 0, 0, 0, 0, 0, 0, 0, 0, 0, 0, 0, 0, 0, 0, 0, 0, 0, 0, 0, 0, 0, 0, 0]</td>\n    </tr>\n    <tr>\n      <th>4</th>\n      <td>cough</td>\n      <td>PROBLEM</td>\n      <td>R05</td>\n      <td>[R05, A37, R05.3, R05.1, R05.2, R06.7, R06.2, R06.01, R05.4, R06.0, J38.4, R05.9, R06.83, R06.00, R12, G44.83, R06, R00.2, R09.81, R51, R07.0, R11.1, R49.0, S22.5, R06.1]</td>\n      <td>[cough [cough], whooping cough [whooping cough], chronic cough [chronic cough], acute cough [acute cough], subacute cough [subacute cough], sneezing [sneezing], wheezing [wheezing], orthopnea [orthopnea], cough syncope [cough syncope], dyspnea [dyspnea], edema of larynx [edema of larynx], cough, unspecified [cough, unspecified], snoring [snoring], dyspnea, unspecified [dyspnea, unspecified], heartburn [heartburn], primary cough headache [primary cough headache], abnormalities of breathing [abnormalities of breathing], palpitations [palpitations], nasal congestion [nasal congestion], headache [headache], pain in throat [pain in throat], vomiting [vomiting], dysphonia [dysphonia], flail chest [flail chest], stridor [stridor]]</td>\n      <td>[0, 0, 1, 1, 1, 1, 1, 1, 1, 0, 1, 1, 1, 1, 1, 1, 0, 1, 1, 0, 1, 0, 1, 0, 1]</td>\n      <td>[0, 0, 0, 0, 0, 0, 0, 0, 0, 0, 0, 0, 0, 0, 0, 0, 0, 0, 0, 0, 0, 0, 0, 0, 0]</td>\n      <td>[0, 0, 0, 0, 0, 0, 0, 0, 0, 0, 0, 0, 0, 0, 0, 0, 0, 0, 0, 0, 0, 0, 0, 0, 0]</td>\n    </tr>\n    <tr>\n      <th>5</th>\n      <td>right-sided chest pain</td>\n      <td>PROBLEM</td>\n      <td>R10.11</td>\n      <td>[R10.11, M79.621, M79.604, M79.601, M25.511, M79.631, R07.1, M79.661, M79.651, M25.551, M79.641, M25.531, G90.511, M79.644, H57.11, M25.541, R10.31, R07.8, R07.89, M25.521, M25.561, G90.521, R07.2, I83.811, M79.671]</td>\n      <td>[right upper quadrant pain [right upper quadrant pain], pain in right upper arm [pain in right upper arm], pain in right leg [pain in right leg], pain in right arm [pain in right arm], pain in right shoulder [pain in right shoulder], pain in right forearm [pain in right forearm], chest pain on breathing [chest pain on breathing], pain in right lower leg [pain in right lower leg], pain in right thigh [pain in right thigh], pain in right hip [pain in right hip], pain in right hand [pain in right hand], pain in right wrist [pain in right wrist], complex regional pain syndrome i of right upper limb [complex regional pain syndrome i of right upper limb], pain in right finger(s) [pain in right finger(s)], ocular pain, right eye [ocular pain, right eye], pain in joints of right hand [pain in joints of right hand], right lower quadrant pain [right lower quadrant pain], other chest pain [other chest pain], other chest pain [other chest pain], pain in right elbow [pain in right elbow], pain in right knee [pain in right knee], complex regional pain syndrome i of right lower limb [complex regional pain syndrome i of right lower limb], precordial pain [precordial pain], varicose veins of right lower extremity with pain [varicose veins of right lower extremity with pain], pain in right foot [pain in right foot]]</td>\n      <td>[1, 1, 1, 1, 1, 1, 1, 1, 1, 1, 1, 1, 1, 1, 1, 1, 1, 0, 1, 1, 1, 1, 1, 1, 1]</td>\n      <td>[0, 0, 0, 0, 0, 0, 0, 0, 0, 0, 0, 0, 0, 0, 0, 0, 0, 0, 0, 0, 0, 0, 0, 0, 0]</td>\n      <td>[0, 0, 0, 0, 0, 0, 0, 0, 0, 0, 0, 0, 0, 0, 0, 0, 0, 0, 0, 0, 0, 0, 0, 0, 0]</td>\n    </tr>\n  </tbody>\n</table>\n</div>",
       "datasetInfos": [],
       "metadata": {},
       "removedWidgets": [],
       "textData": null,
       "type": "htmlSandbox"
      }
     },
     "output_type": "display_data"
    }
   ],
   "source": [
    "single_icd_df.head(15)"
   ]
  },
  {
   "cell_type": "code",
   "execution_count": 0,
   "metadata": {
    "application/vnd.databricks.v1+cell": {
     "cellMetadata": {
      "byteLimit": 2048000,
      "rowLimit": 10000
     },
     "inputWidgets": {},
     "nuid": "3a536a56-4938-4eaf-a393-754075a8ca4d",
     "showTitle": false,
     "title": ""
    }
   },
   "outputs": [],
   "source": [
    "single_rx_df = single_ner_result.select(F.explode(F.arrays_zip(single_ner_result.drug_embeddings.metadata, \n",
    "                                                               single_ner_result.rxnorm_code.result, \n",
    "                                                               single_ner_result.rxnorm_code.metadata)).alias(\"cols\")) \\\n",
    "                                .select(F.expr(\"cols['0']['token']\").alias(\"ner_chunk\"),\n",
    "                                        F.expr(\"cols['0']['entity']\").alias(\"entity\"), \n",
    "                                        F.expr(\"cols['1']\").alias(\"rxnorm_code\"),\n",
    "                                        F.expr(\"cols['2']['all_k_results']\").alias(\"all_codes\"),\n",
    "                                        F.expr(\"cols['2']['all_k_resolutions']\").alias(\"resolutions\")).toPandas()\n",
    "\n",
    "codes = []\n",
    "resolutions = []\n",
    "\n",
    "for code, resolution in zip(single_rx_df['all_codes'], single_rx_df['resolutions']):\n",
    "\n",
    "    codes.append(code.split(':::'))\n",
    "    resolutions.append(resolution.split(':::'))\n",
    "\n",
    "single_rx_df['all_codes'] = codes  \n",
    "single_rx_df['resolutions'] = resolutions"
   ]
  },
  {
   "cell_type": "code",
   "execution_count": 0,
   "metadata": {
    "application/vnd.databricks.v1+cell": {
     "cellMetadata": {
      "byteLimit": 2048000,
      "rowLimit": 10000
     },
     "inputWidgets": {},
     "nuid": "684de36e-ed4c-46db-95ec-a72c2b1ed0e7",
     "showTitle": false,
     "title": ""
    }
   },
   "outputs": [
    {
     "output_type": "display_data",
     "data": {
      "text/html": [
       "<div>\n",
       "<style scoped>\n",
       "    .dataframe tbody tr th:only-of-type {\n",
       "        vertical-align: middle;\n",
       "    }\n",
       "\n",
       "    .dataframe tbody tr th {\n",
       "        vertical-align: top;\n",
       "    }\n",
       "\n",
       "    .dataframe thead th {\n",
       "        text-align: right;\n",
       "    }\n",
       "</style>\n",
       "<table border=\"1\" class=\"dataframe\">\n",
       "  <thead>\n",
       "    <tr style=\"text-align: right;\">\n",
       "      <th></th>\n",
       "      <th>ner_chunk</th>\n",
       "      <th>entity</th>\n",
       "      <th>rxnorm_code</th>\n",
       "      <th>all_codes</th>\n",
       "      <th>resolutions</th>\n",
       "    </tr>\n",
       "  </thead>\n",
       "  <tbody>\n",
       "    <tr>\n",
       "      <th>0</th>\n",
       "      <td>Coumadin</td>\n",
       "      <td>TREATMENT</td>\n",
       "      <td>202421</td>\n",
       "      <td>[202421, 2898, 374998, 1855075, 128793, 1598, 152085, 218274, 21732, 375868, 1435932, 227590, 202392, 374560, 87866, 1603522, 5011, 54908, 402786, 216785, 370743, 154, 202862, 151531, 1317116]</td>\n",
       "      <td>[coumadin [coumadin], coumarin [coumarin], coumarin Oral Tablet, coumaran [coumaran], vicodin [vicodin], dicoumarol [dicumarol], mycifradin [mycifradin], medcodin [medcodin], cresatin [cresatin], cresatin Oral Solution, reumacetin [reumacetin], geocillin [geocillin], garamycin [garamycin], ardeparin Injectable Solution, ardeparin [ardeparin], glabridin [glabridin], gramicidin [gramicidin], policresulen [policresulen], policresulen Vaginal Gel, duraganidin nr [duraganidin nr], acenocoumarol Oral Tablet, acenocoumarol [acenocoumarol], cleocin [cleocin], codafen [codafen], velafermin [velafermin]]</td>\n",
       "    </tr>\n",
       "    <tr>\n",
       "      <th>1</th>\n",
       "      <td>Amiodarone</td>\n",
       "      <td>TREATMENT</td>\n",
       "      <td>703</td>\n",
       "      <td>[703, 1663223, 1151983, 1663270, 1151982, 203114, 377132, 1151981, 832845, 727379, 370568, 620, 1944369, 151347, 722, 370575, 1000082, 1000084, 5936, 832848, 374399, 833534, 2184119, 17767]</td>\n",
       "      <td>[amiodarone [amiodarone], amiodarone Injection, amiodarone pill [amiodarone pill], amiodarone injection [nexterone] [amiodarone injection [nexterone]], amiodarone oral product [amiodarone oral product], amiodarone hydrochloride [amiodarone hydrochloride], amiodarone injectable solution [amiodarone injectable solution], amiodarone injectable product [amiodarone injectable product], amiodarone injectable solution [nexterone] [amiodarone injectable solution [nexterone]], amiodarone prefilled syringe [amiodarone prefilled syringe], amiodarone oral tablet [amiodarone oral tablet], amantadine [amantadine], amantadine Extended Release Oral Capsule, amsidine [amsidine], amoxapine [amoxapine], amoxapine Oral Tablet, alcaftadine [alcaftadine], alcaftadine Ophthalmic Solution, adipiodone [iodipamide], amiodarone prefilled syringe [nexterone] [amiodarone prefilled syringe [nexterone]], adenosine injectable solution [adenosine injectable solution], amiodarone injectable solution [cordarone] [amiodarone injectable solution [cordarone]], amlodipine Oral Suspension, amlodipine [amlodipine]]</td>\n",
       "    </tr>\n",
       "  </tbody>\n",
       "</table>\n",
       "</div>"
      ]
     },
     "metadata": {
      "application/vnd.databricks.v1+output": {
       "addedWidgets": {},
       "arguments": {},
       "data": "<div>\n<style scoped>\n    .dataframe tbody tr th:only-of-type {\n        vertical-align: middle;\n    }\n\n    .dataframe tbody tr th {\n        vertical-align: top;\n    }\n\n    .dataframe thead th {\n        text-align: right;\n    }\n</style>\n<table border=\"1\" class=\"dataframe\">\n  <thead>\n    <tr style=\"text-align: right;\">\n      <th></th>\n      <th>ner_chunk</th>\n      <th>entity</th>\n      <th>rxnorm_code</th>\n      <th>all_codes</th>\n      <th>resolutions</th>\n    </tr>\n  </thead>\n  <tbody>\n    <tr>\n      <th>0</th>\n      <td>Coumadin</td>\n      <td>TREATMENT</td>\n      <td>202421</td>\n      <td>[202421, 2898, 374998, 1855075, 128793, 1598, 152085, 218274, 21732, 375868, 1435932, 227590, 202392, 374560, 87866, 1603522, 5011, 54908, 402786, 216785, 370743, 154, 202862, 151531, 1317116]</td>\n      <td>[coumadin [coumadin], coumarin [coumarin], coumarin Oral Tablet, coumaran [coumaran], vicodin [vicodin], dicoumarol [dicumarol], mycifradin [mycifradin], medcodin [medcodin], cresatin [cresatin], cresatin Oral Solution, reumacetin [reumacetin], geocillin [geocillin], garamycin [garamycin], ardeparin Injectable Solution, ardeparin [ardeparin], glabridin [glabridin], gramicidin [gramicidin], policresulen [policresulen], policresulen Vaginal Gel, duraganidin nr [duraganidin nr], acenocoumarol Oral Tablet, acenocoumarol [acenocoumarol], cleocin [cleocin], codafen [codafen], velafermin [velafermin]]</td>\n    </tr>\n    <tr>\n      <th>1</th>\n      <td>Amiodarone</td>\n      <td>TREATMENT</td>\n      <td>703</td>\n      <td>[703, 1663223, 1151983, 1663270, 1151982, 203114, 377132, 1151981, 832845, 727379, 370568, 620, 1944369, 151347, 722, 370575, 1000082, 1000084, 5936, 832848, 374399, 833534, 2184119, 17767]</td>\n      <td>[amiodarone [amiodarone], amiodarone Injection, amiodarone pill [amiodarone pill], amiodarone injection [nexterone] [amiodarone injection [nexterone]], amiodarone oral product [amiodarone oral product], amiodarone hydrochloride [amiodarone hydrochloride], amiodarone injectable solution [amiodarone injectable solution], amiodarone injectable product [amiodarone injectable product], amiodarone injectable solution [nexterone] [amiodarone injectable solution [nexterone]], amiodarone prefilled syringe [amiodarone prefilled syringe], amiodarone oral tablet [amiodarone oral tablet], amantadine [amantadine], amantadine Extended Release Oral Capsule, amsidine [amsidine], amoxapine [amoxapine], amoxapine Oral Tablet, alcaftadine [alcaftadine], alcaftadine Ophthalmic Solution, adipiodone [iodipamide], amiodarone prefilled syringe [nexterone] [amiodarone prefilled syringe [nexterone]], adenosine injectable solution [adenosine injectable solution], amiodarone injectable solution [cordarone] [amiodarone injectable solution [cordarone]], amlodipine Oral Suspension, amlodipine [amlodipine]]</td>\n    </tr>\n  </tbody>\n</table>\n</div>",
       "datasetInfos": [],
       "metadata": {},
       "removedWidgets": [],
       "textData": null,
       "type": "htmlSandbox"
      }
     },
     "output_type": "display_data"
    }
   ],
   "source": [
    "single_rx_df.head()"
   ]
  },
  {
   "cell_type": "markdown",
   "metadata": {
    "application/vnd.databricks.v1+cell": {
     "cellMetadata": {
      "byteLimit": 2048000,
      "rowLimit": 10000
     },
     "inputWidgets": {},
     "nuid": "bc844192-0fd3-4a4d-8f68-208f97afec01",
     "showTitle": false,
     "title": ""
    }
   },
   "source": [
    "## ResolverMerger - Using Sentence Entity Resolver and `ChunkMapperModel` Together\n",
    "\n",
    "\n",
    "We can merge the results of `ChunkMapperModel` and `SentenceEntityResolverModel` by using `ResolverMerger` annotator. \n",
    "\n",
    "We can detect our results that fail by `ChunkMapperModel` with `ChunkMapperFilterer` and then merge the resolver and mapper results with `ResolverMerger`"
   ]
  },
  {
   "cell_type": "code",
   "execution_count": 0,
   "metadata": {
    "application/vnd.databricks.v1+cell": {
     "cellMetadata": {
      "byteLimit": 2048000,
      "rowLimit": 10000
     },
     "inputWidgets": {},
     "nuid": "6ee50f57-9cac-41e0-9ea5-15892a02dc0b",
     "showTitle": false,
     "title": ""
    }
   },
   "outputs": [
    {
     "output_type": "stream",
     "name": "stdout",
     "output_type": "stream",
     "text": [
      "embeddings_clinical download started this may take some time.\nApproximate size to download 1.6 GB\n\r[ | ]\r[OK!]\nner_posology_greedy download started this may take some time.\n\r[ | ]\r[ / ]\r[ — ]\r[ \\ ]\r[OK!]\nrxnorm_mapper download started this may take some time.\n\r[ | ]\r[ / ]\r[OK!]\nsbiobert_base_cased_mli download started this may take some time.\nApproximate size to download 384.3 MB\n\r[ | ]\r[OK!]\nsbiobertresolve_rxnorm_augmented download started this may take some time.\n\r[ | ]\r[OK!]\n"
     ]
    }
   ],
   "source": [
    "document_assembler = nlp.DocumentAssembler()\\\n",
    "      .setInputCol('text')\\\n",
    "      .setOutputCol('document')\n",
    "\n",
    "sentence_detector = nlp.SentenceDetector()\\\n",
    "      .setInputCols([\"document\"])\\\n",
    "      .setOutputCol(\"sentence\")\n",
    "\n",
    "tokenizer = nlp.Tokenizer()\\\n",
    "      .setInputCols(\"sentence\")\\\n",
    "      .setOutputCol(\"token\")\n",
    "\n",
    "word_embeddings = nlp.WordEmbeddingsModel.pretrained(\"embeddings_clinical\", \"en\", \"clinical/models\")\\\n",
    "      .setInputCols([\"sentence\", \"token\"])\\\n",
    "      .setOutputCol(\"embeddings\")\n",
    "\n",
    "ner_model = medical.NerModel.pretrained(\"ner_posology_greedy\", \"en\", \"clinical/models\")\\\n",
    "    .setInputCols([\"sentence\", \"token\", \"embeddings\"])\\\n",
    "    .setOutputCol(\"ner\")\n",
    "\n",
    "ner_converter = medical.NerConverterInternal()\\\n",
    "    .setInputCols(\"sentence\", \"token\", \"ner\")\\\n",
    "    .setOutputCol(\"chunk\")\n",
    "\n",
    "chunkerMapper = medical.ChunkMapperModel.pretrained(\"rxnorm_mapper\", \"en\", \"clinical/models\")\\\n",
    "      .setInputCols([\"chunk\"])\\\n",
    "      .setOutputCol(\"RxNorm_Mapper\")\\\n",
    "      .setRel(\"rxnorm_code\")\n",
    "\n",
    "cfModel = medical.ChunkMapperFilterer() \\\n",
    "    .setInputCols([\"chunk\", \"RxNorm_Mapper\"]) \\\n",
    "    .setOutputCol(\"chunks_fail\") \\\n",
    "    .setReturnCriteria(\"fail\")\n",
    "\n",
    "chunk2doc = nlp.Chunk2Doc() \\\n",
    "    .setInputCols(\"chunks_fail\") \\\n",
    "    .setOutputCol(\"doc_chunk\")\n",
    "\n",
    "sbert_embedder = nlp.BertSentenceEmbeddings.pretrained('sbiobert_base_cased_mli', 'en','clinical/models')\\\n",
    "      .setInputCols([\"doc_chunk\"])\\\n",
    "      .setOutputCol(\"sentence_embeddings\")\\\n",
    "      .setCaseSensitive(False)\n",
    "\n",
    "resolver = medical.SentenceEntityResolverModel.pretrained(\"sbiobertresolve_rxnorm_augmented\", \"en\", \"clinical/models\") \\\n",
    "    .setInputCols([\"sentence_embeddings\"]) \\\n",
    "    .setOutputCol(\"resolver_code\") \\\n",
    "    .setDistanceFunction(\"EUCLIDEAN\")\n",
    "\n",
    "resolverMerger = medical.ResolverMerger()\\\n",
    "    .setInputCols([\"resolver_code\",\"RxNorm_Mapper\"])\\\n",
    "    .setOutputCol(\"RxNorm\")\n",
    "\n",
    "mapper_pipeline = nlp.Pipeline(\n",
    "      stages = [\n",
    "          document_assembler,\n",
    "          sentence_detector,\n",
    "          tokenizer,\n",
    "          word_embeddings,\n",
    "          ner_model,\n",
    "          ner_converter,\n",
    "          chunkerMapper,\n",
    "          chunkerMapper,\n",
    "          cfModel,\n",
    "          chunk2doc,\n",
    "          sbert_embedder,\n",
    "          resolver,\n",
    "          resolverMerger\n",
    "      ])\n",
    "\n",
    "empty_data = spark.createDataFrame([[\"\"]]).toDF(\"text\")\n",
    "\n",
    "model = mapper_pipeline.fit(empty_data)"
   ]
  },
  {
   "cell_type": "code",
   "execution_count": 0,
   "metadata": {
    "application/vnd.databricks.v1+cell": {
     "cellMetadata": {
      "byteLimit": 2048000,
      "rowLimit": 10000
     },
     "inputWidgets": {},
     "nuid": "b9355780-1ab4-4240-aa84-49b9a46435a5",
     "showTitle": false,
     "title": ""
    }
   },
   "outputs": [],
   "source": [
    "samples = [['The patient was given Adapin 10 MG, coumadn 5 mg'],\n",
    "           ['The patient was given Avandia 4 mg, Tegretol, zitiga'] ]\n",
    "\n",
    "result = model.transform(spark.createDataFrame(samples).toDF(\"text\"))"
   ]
  },
  {
   "cell_type": "code",
   "execution_count": 0,
   "metadata": {
    "application/vnd.databricks.v1+cell": {
     "cellMetadata": {
      "byteLimit": 2048000,
      "rowLimit": 10000
     },
     "inputWidgets": {},
     "nuid": "ca8b1609-81a3-4d3a-a894-3a73ecc71ad4",
     "showTitle": false,
     "title": ""
    }
   },
   "outputs": [
    {
     "output_type": "stream",
     "name": "stdout",
     "output_type": "stream",
     "text": [
      "+--------------------------------+----------------------+--------------+-------------+-------------------------+\n|chunk                           |RxNorm_Mapper         |chunks_fail   |resolver_code|RxNorm                   |\n+--------------------------------+----------------------+--------------+-------------+-------------------------+\n|[Adapin 10 MG, coumadn 5 mg]    |[1000049, NONE]       |[coumadn 5 mg]|[200883]     |[1000049, 200883]        |\n|[Avandia 4 mg, Tegretol, zitiga]|[261242, 203029, NONE]|[zitiga]      |[2589614]    |[261242, 203029, 2589614]|\n+--------------------------------+----------------------+--------------+-------------+-------------------------+\n\n"
     ]
    }
   ],
   "source": [
    "result.selectExpr('chunk.result as chunk', \n",
    "                  'RxNorm_Mapper.result as RxNorm_Mapper', \n",
    "                  'chunks_fail.result as chunks_fail', \n",
    "                  'resolver_code.result as resolver_code',\n",
    "                  'RxNorm.result as RxNorm')\\\n",
    "      .show(truncate = False)"
   ]
  },
  {
   "cell_type": "markdown",
   "metadata": {
    "application/vnd.databricks.v1+cell": {
     "cellMetadata": {
      "byteLimit": 2048000,
      "rowLimit": 10000
     },
     "inputWidgets": {},
     "nuid": "3f13a5a6-36db-4914-9e65-6aaa433b6cbb",
     "showTitle": false,
     "title": ""
    }
   },
   "source": [
    "## Healthcare Codes Mapping by Using Pretrained Pipelines"
   ]
  },
  {
   "cell_type": "markdown",
   "metadata": {
    "application/vnd.databricks.v1+cell": {
     "cellMetadata": {
      "byteLimit": 2048000,
      "rowLimit": 10000
     },
     "inputWidgets": {},
     "nuid": "f38dd6aa-1c7d-408f-b1e7-e7604598ed56",
     "showTitle": false,
     "title": ""
    }
   },
   "source": [
    "In Spark NLP, there are pretrained pipelines that can map these healthcare codes each other by using **UMLS Code Mappings**. Here is a list of these pipelines:\n",
    "\n",
    "- `icd10cm_snomed_mapping` : ICD-10-CM Codes to Snomed Codes\n",
    "- `snomed_icd10cm_mapping` : Snomed Codes to ICD-10-CM Codes\n",
    "- `icdo_snomed_mapping`    : ICD-O Codes to SNOMED Codes\n",
    "- `snomed_icdo_mapping`    : SNOMED Codes to ICD-O Codes\n",
    "- `icd10cm_umls_mapping`   : ICD Codes to UMLS Codes\n",
    "- `snomed_umls_mapping`    : Snomed Codes to UMLS Codes\n",
    "- `rxnorm_umls_mapping`    : RxNorm Codes to UMLS Codes\n",
    "- `mesh_umls_mapping`      : MeSH Codes to UMLS Codes\n",
    "- `rxnorm_mesh_mapping`    : RxNorm Codes to MeSH Codes\n",
    "- `rxnorm_ndc_mapping`     : RxNorm Codes to NDC Codes\n",
    "- `icd10_icd9_mapping`     : ICD-10-CM Codes to ICD9 Codes    \n",
    "\n",
    "Lets show an example of ICD codes mapping to Snomed Codes to show how these pipelines work."
   ]
  },
  {
   "cell_type": "code",
   "execution_count": 0,
   "metadata": {
    "application/vnd.databricks.v1+cell": {
     "cellMetadata": {
      "byteLimit": 2048000,
      "rowLimit": 10000
     },
     "inputWidgets": {},
     "nuid": "e32611be-2252-44f2-9379-ef75e173b1e2",
     "showTitle": false,
     "title": ""
    }
   },
   "outputs": [
    {
     "output_type": "stream",
     "name": "stdout",
     "output_type": "stream",
     "text": [
      "icd10cm_snomed_mapping download started this may take some time.\nApprox size to download 1 MB\n\r[ | ]\r[ / ]\r[ — ]\r[ \\ ]\r[ | ]\r[ / ]\r[ — ]\r[ \\ ]\r[ | ]\r[ / ]\r[ — ]\r[ \\ ]\r[ | ]\r[ / ]\r[ — ]\r[ \\ ]\r[ | ]\r[ / ]\r[ — ]\r[ \\ ]\r[ | ]\r[ / ]\r[ — ]\r[ \\ ]\r[ | ]\r[ / ]\r[ — ]\r[ \\ ]\r[ | ]\r[ / ]\r[ — ]\r[ \\ ]\r[ | ]\r[ / ]\r[ — ]\r[ \\ ]\r[ | ]\r[ / ]\r[ — ]\r[ \\ ]\r[ | ]\r[ / ]\r[ — ]\r[ \\ ]\r[ | ]\r[ / ]\r[ — ]\r[ \\ ]\r[ | ]\r[ / ]\r[ — ]\r[ \\ ]\r[ | ]\r[ / ]\r[ — ]\r[ \\ ]\r[ | ]\r[ / ]\r[ — ]\r[ \\ ]\r[ | ]\r[ / ]\r[ — ]\r[ \\ ]\r[ | ]\r[ / ]\r[ — ]\r[ \\ ]\r[ | ]\r[ / ]\r[ — ]\r[ \\ ]\r[ | ]\r[ / ]\r[ — ]\r[ \\ ]\r[ | ]\r[ / ]\r[ — ]\r[ \\ ]\r[ | ]\r[ / ]\r[ — ]\r[ \\ ]\r[ | ]\r[ / ]\r[ — ]\r[ \\ ]\r[ | ]\r[ / ]\r[ — ]\r[ \\ ]\r[ | ]\r[ / ]\r[ — ]\r[ \\ ]\r[ | ]\r[ / ]\r[ — ]\r[OK!]\n"
     ]
    }
   ],
   "source": [
    "icd10_snomed_pipeline = nlp.PretrainedPipeline(\"icd10cm_snomed_mapping\", \"en\", \"clinical/models\")"
   ]
  },
  {
   "cell_type": "code",
   "execution_count": 0,
   "metadata": {
    "application/vnd.databricks.v1+cell": {
     "cellMetadata": {
      "byteLimit": 2048000,
      "rowLimit": 10000
     },
     "inputWidgets": {},
     "nuid": "5462055a-c56a-4954-b9e5-ed1164eab714",
     "showTitle": false,
     "title": ""
    }
   },
   "outputs": [
    {
     "output_type": "stream",
     "name": "stdout",
     "output_type": "stream",
     "text": [
      "Out[8]: {'document': ['M8950 E119 H16269'],\n 'icd10cm_code': ['M8950', 'E119', 'H16269'],\n 'snomed_code': ['716868003', '170771004', '51264003']}"
     ]
    }
   ],
   "source": [
    "icd10_snomed_pipeline.annotate('M8950 E119 H16269')"
   ]
  },
  {
   "cell_type": "markdown",
   "metadata": {
    "application/vnd.databricks.v1+cell": {
     "cellMetadata": {
      "byteLimit": 2048000,
      "rowLimit": 10000
     },
     "inputWidgets": {},
     "nuid": "be832ea4-ea03-4969-9a41-90cc2c6d034d",
     "showTitle": false,
     "title": ""
    }
   },
   "source": [
    "|**ICD10CM Code** | **ICD10CM Details** | **SNOMED Code** | **SNOMED Details** |\n",
    "| ---------- | -----------:| ---------- | -----------:|\n",
    "| M8950 |  Osteolysis, unspecified site | 716868003 | Multicentric osteolysis nodulosis arthropathy spectrum |\n",
    "| E119 | Type 2 diabetes mellitus | 170771004 | Diabetic - follow-up default |\n",
    "| H16269 | Vernal keratoconjunctivitis, with limbar and corneal involvement, unspecified eye | 51264003 | Limbal AND/OR corneal involvement in vernal conjunctivitis |"
   ]
  },
  {
   "cell_type": "markdown",
   "metadata": {
    "application/vnd.databricks.v1+cell": {
     "cellMetadata": {
      "byteLimit": 2048000,
      "rowLimit": 10000
     },
     "inputWidgets": {},
     "nuid": "94e1ef40-bc0a-44dd-828e-c0c7867d437f",
     "showTitle": false,
     "title": ""
    }
   },
   "source": [
    "Also if you want to see more examples, you can check [here](https://github.com/JohnSnowLabs/spark-nlp-workshop/blob/master/tutorials/Certification_Trainings/Healthcare/11.1.Healthcare_Code_Mapping.ipynb)."
   ]
  },
  {
   "cell_type": "markdown",
   "metadata": {
    "application/vnd.databricks.v1+cell": {
     "cellMetadata": {
      "byteLimit": 2048000,
      "rowLimit": 10000
     },
     "inputWidgets": {},
     "nuid": "1cf4fd84-a99c-42e7-bab1-cba11a48b711",
     "showTitle": false,
     "title": ""
    }
   },
   "source": [
    "## Clinical Entity Resolver Pipelines\n",
    "\n",
    "We have **entity resolver pipelines** for converting clinical entities to their UMLS CUI codes. You will just feed your text and it will return the corresponding UMLS codes.\n",
    "\n",
    "**Resolver Pipelines Model List:** \n",
    "\n",
    "|index|pipeline|Entity|Target\n",
    "|-|-|-|:-:|\n",
    "| 1|[umls_disease_syndrome_resolver_pipeline](https://nlp.johnsnowlabs.com/2022/07/26/umls_disease_syndrome_resolver_pipeline_en_3_0.html)|Disease and Syndromes|UMLS CUI|\n",
    "| 2|[umls_drug_resolver_pipeline](https://nlp.johnsnowlabs.com/2022/07/26/umls_drug_resolver_pipeline_en_3_0.html)|Drug|UMLS CUI|\n",
    "| 3|[umls_drug_substance_resolver_pipeline](https://nlp.johnsnowlabs.com/2022/07/25/umls_drug_substance_resolver_pipeline_en_3_0.html)|Drug Substance|UMLS CUI|\n",
    "| 4|[medication_resolver_pipeline](https://nlp.johnsnowlabs.com/2022/09/01/medication_resolver_pipeline_en.html)|Drug|Adverse Reaction, RxNorm, UMLS, NDC, SNOMED CT|\n",
    "| 5|[medication_resolver_transform_pipeline](https://nlp.johnsnowlabs.com/2022/09/01/medication_resolver_transform_pipeline_en.html)|Drug|Adverse Reaction, RxNorm, UMLS, NDC, SNOMED CT|\n",
    "| 6|[umls_major_concepts_resolver_pipeline](https://nlp.johnsnowlabs.com/2022/07/25/umls_major_concepts_resolver_pipeline_en_3_0.html)|Clinical Major Concepts| UMLS CUI|\n",
    "| 7|[umls_clinical_findings_resolver_pipeline](https://nlp.johnsnowlabs.com/2022/07/26/umls_clinical_findings_resolver_pipeline_en_3_0.html)|Clinical Findings|\tUMLS CUI|\n",
    "| 8|[icd9_resolver_pipeline](https://nlp.johnsnowlabs.com/2022/09/30/icd9_resolver_pipeline_en.html)|Clinical Findings|ICD-9|\n",
    "| 9|[atc_resolver_pipeline](https://nlp.johnsnowlabs.com/2024/01/17/atc_resolver_pipeline_en.html)|Drug|ATC|\n",
    "| 10|[cpt_procedures_measurements_resolver_pipeline](https://nlp.johnsnowlabs.com/2024/01/17/cpt_procedures_measurements_resolver_pipeline_en.html)|Procedure, Measurement|CPT|\n",
    "| 11|[hcc_resolver_pipeline](https://nlp.johnsnowlabs.com/2024/01/17/hcc_resolver_pipeline_en.html)|Clinical Findings|HCC|\n",
    "| 12|[hpo_resolver_pipeline](https://nlp.johnsnowlabs.com/2024/01/17/hpo_resolver_pipeline_en.html)|Human Phenotype|HPO|\n",
    "| 13|[cvx_resolver_pipeline](https://nlp.johnsnowlabs.com/2022/10/12/cvx_resolver_pipeline_en.html)|Vaccine|CVX|\n",
    "| 14|[icd10cm_resolver_pipeline](https://nlp.johnsnowlabs.com/2022/11/02/icd10cm_resolver_pipeline_en.html)|Problem|ICD-10|\n",
    "| 15|[icd10pcs_resolver_pipeline](https://nlp.johnsnowlabs.com/2024/02/02/icd10pcs_resolver_pipeline_en.html)|Procedure|ICD-10-PCS|\n",
    "| 16|[icdo_resolver_pipeline](https://nlp.johnsnowlabs.com/2024/02/02/icdo_resolver_pipeline_en.html)|Problem|ICD-O|\n",
    "| 17|[loinc_resolver_pipeline](https://nlp.johnsnowlabs.com/2024/02/02/loinc_resolver_pipeline_en.html)|Test|LOINC|\n",
    "| 17|[loinc_numeric_resolver_pipeline](https://nlp.johnsnowlabs.com/2024/01/30/loinc_numeric_resolver_pipeline_en.html)|Test|LOINC|\n",
    "| 18|[snomed_body_structure_resolver_pipeline](https://nlp.johnsnowlabs.com/2024/01/17/snomed_body_structure_resolver_pipeline_en.html)|Clinical Findings|SNOMED|\n",
    "| 19|[snomed_findings_resolver_pipeline](https://nlp.johnsnowlabs.com/2024/01/17/snomed_findings_resolver_pipeline_en.html)|Clinical Findings|SNOMED CT|\n",
    "| 20|[snomed_procedures_measurements_resolver_pipeline](https://nlp.johnsnowlabs.com/2024/01/31/snomed_findings_resolver_pipelin_en.html)|Procedure, Test|SNOMED|\n",
    "| 21|[mesh_resolver_pipeline](https://nlp.johnsnowlabs.com/2024/01/25/mesh_resolver_pipeline_en.html)|Clinical Findings|MeSH|\n",
    "| 22|[ndc_resolver_pipeline](https://nlp.johnsnowlabs.com/2024/01/25/ndc_resolver_pipeline_en.html)|Drug|NDC|\n",
    "| 23|[ncit_resolver_pipeline](https://nlp.johnsnowlabs.com/2024/01/25/ncit_resolver_pipeline_en.html)|Clinical Findings|NCIt|\n",
    "| 24|[rxcui_resolver_pipeline](https://nlp.johnsnowlabs.com/2024/02/01/rxcui_resolver_pipeline_en.html)|Clinical Findings|RxCUI|\n",
    "| 25|[hcpcs_resolver_pipeline](https://nlp.johnsnowlabs.com/2024/01/30/hcpcs_resolver_pipeline_en.html)|Procedure|HCPCS|\n",
    "| 26|[hgnc_resolver_pipeline](https://nlp.johnsnowlabs.com/2024/01/30/hgnc_resolver_pipeline_en.html)|Gene|HGNC|\n",
    "| 27|[icd10cm_generalised_resolver_pipeline](https://nlp.johnsnowlabs.com/2024/01/30/icd10cm_generalised_resolver_pipeline_en.html)|Clinical Findings|ICD-10-CM|\n",
    "| 28|[abbreviation_pipeline](https://nlp.johnsnowlabs.com/2023/08/16/abbreviation_pipeline_en.html)|ABBR|Definitions and Categories|\n",
    "| 29|[icd10cm_multi_mapper_pipeline](https://nlp.johnsnowlabs.com/2023/08/16/icd10cm_multi_mapper_pipeline_en.html)|ICD-10-CM|Billable Mappings, HCC Codes, Cause Mappings, Claim Mappings, SNOMED Codes, UMLS Codes and ICD-9 Codes|\n",
    "| 30|[rxnorm_multi_mapper_pipeline](https://nlp.johnsnowlabs.com/2023/08/16/rxnorm_multi_mapper_pipeline_en.html)|RxNorm|Drug Brand Names, RxNorm Extension Brand Names, Action Mappings, Treatment Mappings, UMLS Codes, NDC Product Codes and NDC Package Codes|\n",
    "| 31|[rxnorm_resolver_pipeline](https://nlp.johnsnowlabs.com/2023/08/16/rxnorm_resolver_pipeline_en.html)|Drug|RxNorm |\n",
    "| 32|[snomed_multi_mapper_pipeline](https://nlp.johnsnowlabs.com/2023/08/16/snomed_multi_mapper_pipeline_en.html)|SNOMED Codes|ICD-10, ICD-O,UMLS |\n"
   ]
  },
  {
   "cell_type": "markdown",
   "metadata": {
    "application/vnd.databricks.v1+cell": {
     "cellMetadata": {},
     "inputWidgets": {},
     "nuid": "fe54b7b4-b8d7-4067-8cf8-f2bf120ef1e9",
     "showTitle": false,
     "title": ""
    }
   },
   "source": [
    "### icd10cm_resolver_pipeline\n",
    "\n",
    "This pretrained pipeline extracts clinical conditions and map them to their corresponding ICD-10-CM codes. You’ll just feed your text and it will detect the related entities and return their corresponding ICD-10-CM codes."
   ]
  },
  {
   "cell_type": "code",
   "execution_count": 0,
   "metadata": {
    "application/vnd.databricks.v1+cell": {
     "cellMetadata": {
      "byteLimit": 2048000,
      "rowLimit": 10000
     },
     "inputWidgets": {},
     "nuid": "a385b4a9-78eb-4470-aa8f-523b7e5ceae1",
     "showTitle": false,
     "title": ""
    }
   },
   "outputs": [
    {
     "output_type": "stream",
     "name": "stdout",
     "output_type": "stream",
     "text": [
      "icd10cm_resolver_pipeline download started this may take some time.\nApprox size to download 3.3 GB\n\r[ | ]\r[ / ]\r[ — ]\r[ \\ ]\r[ | ]\r[ / ]\r[ — ]\r[ \\ ]\r[ | ]\r[ / ]\r[ — ]\r[ \\ ]\r[ | ]\r[ / ]\r[ — ]\r[ \\ ]\r[ | ]\r[ / ]\r[ — ]\r[ \\ ]\r[ | ]\r[ / ]\r[ — ]\r[ \\ ]\r[ | ]\r[ / ]\r[ — ]\r[ \\ ]\r[ | ]\r[ / ]\r[ — ]\r[ \\ ]\r[ | ]\r[ / ]\r[ — ]\r[ \\ ]\r[ | ]\r[ / ]\r[ — ]\r[ \\ ]\r[ | ]\r[ / ]\r[ — ]\r[ \\ ]\r[ | ]\r[ / ]\r[ — ]\r[ \\ ]\r[ | ]\r[ / ]\r[ — ]\r[ \\ ]\r[ | ]\r[ / ]\r[ — ]\r[ \\ ]\r[ | ]\r[ / ]\r[ — ]\r[ \\ ]\r[ | ]\r[ / ]\r[ — ]\r[ \\ ]\r[ | ]\r[ / ]\r[ — ]\r[ \\ ]\r[ | ]\r[ / ]\r[ — ]\r[ \\ ]\r[ | ]\r[ / ]\r[ — ]\r[ \\ ]\r[ | ]\r[ / ]\r[ — ]\r[ \\ ]\r[ | ]\r[ / ]\r[ — ]\r[ \\ ]\r[ | ]\r[ / ]\r[ — ]\r[ \\ ]\r[ | ]\r[ / ]\r[ — ]\r[ \\ ]\r[ | ]\r[ / ]\r[ — ]\r[ \\ ]\r[ | ]\r[ / ]\r[ — ]\r[ \\ ]\r[ | ]\r[ / ]\r[ — ]\r[ \\ ]\r[ | ]\r[ / ]\r[ — ]\r[ \\ ]\r[ | ]\r[ / ]\r[ — ]\r[ \\ ]\r[ | ]\r[ / ]\r[ — ]\r[ \\ ]\r[ | ]\r[ / ]\r[ — ]\r[ \\ ]\r[ | ]\r[ / ]\r[ — ]\r[ \\ ]\r[ | ]\r[ / ]\r[ — ]\r[ \\ ]\r[ | ]\r[ / ]\r[ — ]\r[ \\ ]\r[ | ]\r[ / ]\r[ — ]\r[ \\ ]\r[ | ]\r[ / ]\r[ — ]\r[ \\ ]\r[ | ]\r[ / ]\r[ — ]\r[ \\ ]\r[ | ]\r[ / ]\r[ — ]\r[ \\ ]\r[ | ]\r[ / ]\r[ — ]\r[ \\ ]\r[ | ]\r[ / ]\r[ — ]\r[ \\ ]\r[ | ]\r[ / ]\r[ — ]\r[ \\ ]\r[ | ]\r[ / ]\r[ — ]\r[ \\ ]\r[ | ]\r[ / ]\r[ — ]\r[ \\ ]\r[ | ]\r[ / ]\r[ — ]\r[ \\ ]\r[ | ]\r[ / ]\r[ — ]\r[ \\ ]\r[ | ]\r[ / ]\r[ — ]\r[ \\ ]\r[ | ]\r[ / ]\r[ — ]\r[ \\ ]\r[ | ]\r[ / ]\r[ — ]\r[ \\ ]\r[ | ]\r[ / ]\r[ — ]\r[ \\ ]\r[ | ]\r[ / ]\r[ — ]\r[ \\ ]\r[ | ]\r[ / ]\r[ — ]\r[ \\ ]\r[ | ]\r[ / ]\r[ — ]\r[ \\ ]\r[ | ]\r[ / ]\r[ — ]\r[ \\ ]\r[ | ]\r[ / ]\r[ — ]\r[ \\ ]\r[ | ]\r[ / ]\r[ — ]\r[ \\ ]\r[ | ]\r[ / ]\r[ — ]\r[ \\ ]\r[ | ]\r[ / ]\r[ — ]\r[ \\ ]\r[ | ]\r[ / ]\r[ — ]\r[ \\ ]\r[ | ]\r[ / ]\r[ — ]\r[ \\ ]\r[ | ]\r[ / ]\r[ — ]\r[ \\ ]\r[ | ]\r[ / ]\r[ — ]\r[ \\ ]\r[ | ]\r[ / ]\r[ — ]\r[ \\ ]\r[ | ]\r[ / ]\r[ — ]\r[ \\ ]\r[ | ]\r[ / ]\r[ — ]\r[ \\ ]\r[ | ]\r[ / ]\r[ — ]\r[ \\ ]\r[ | ]\r[ / ]\r[ — ]\r[ \\ ]\r[ | ]\r[ / ]\r[ — ]\r[ \\ ]\r[ | ]\r[ / ]\r[ — ]\r[OK!]\n"
     ]
    }
   ],
   "source": [
    "from sparknlp.pretrained import PretrainedPipeline\n",
    "resolver_pipeline = nlp.PretrainedPipeline(\"icd10cm_resolver_pipeline\", \"en\", \"clinical/models\")\n",
    "\n",
    "text = \"\"\"A 28-year-old female with a history of gestational diabetes mellitus diagnosed eight years and anisakiasis. Also, it was reported that fetal and neonatal hemorrhage\"\"\"\n",
    "\n",
    "result = resolver_pipeline.fullAnnotate(text)"
   ]
  },
  {
   "cell_type": "code",
   "execution_count": 0,
   "metadata": {
    "application/vnd.databricks.v1+cell": {
     "cellMetadata": {
      "byteLimit": 2048000,
      "rowLimit": 10000
     },
     "inputWidgets": {},
     "nuid": "1ea003b7-13d6-4a75-b3b6-3ae58518436c",
     "showTitle": false,
     "title": ""
    }
   },
   "outputs": [
    {
     "output_type": "display_data",
     "data": {
      "text/html": [
       "<div>\n",
       "<style scoped>\n",
       "    .dataframe tbody tr th:only-of-type {\n",
       "        vertical-align: middle;\n",
       "    }\n",
       "\n",
       "    .dataframe tbody tr th {\n",
       "        vertical-align: top;\n",
       "    }\n",
       "\n",
       "    .dataframe thead th {\n",
       "        text-align: right;\n",
       "    }\n",
       "</style>\n",
       "<table border=\"1\" class=\"dataframe\">\n",
       "  <thead>\n",
       "    <tr style=\"text-align: right;\">\n",
       "      <th></th>\n",
       "      <th>chunks</th>\n",
       "      <th>entities</th>\n",
       "      <th>icd10cm_code</th>\n",
       "    </tr>\n",
       "  </thead>\n",
       "  <tbody>\n",
       "    <tr>\n",
       "      <th>0</th>\n",
       "      <td>gestational diabetes mellitus</td>\n",
       "      <td>PROBLEM</td>\n",
       "      <td>O24.919</td>\n",
       "    </tr>\n",
       "    <tr>\n",
       "      <th>1</th>\n",
       "      <td>anisakiasis</td>\n",
       "      <td>PROBLEM</td>\n",
       "      <td>B81.0</td>\n",
       "    </tr>\n",
       "    <tr>\n",
       "      <th>2</th>\n",
       "      <td>fetal and neonatal hemorrhage</td>\n",
       "      <td>PROBLEM</td>\n",
       "      <td>P549</td>\n",
       "    </tr>\n",
       "  </tbody>\n",
       "</table>\n",
       "</div>"
      ]
     },
     "metadata": {
      "application/vnd.databricks.v1+output": {
       "addedWidgets": {},
       "arguments": {},
       "data": "<div>\n<style scoped>\n    .dataframe tbody tr th:only-of-type {\n        vertical-align: middle;\n    }\n\n    .dataframe tbody tr th {\n        vertical-align: top;\n    }\n\n    .dataframe thead th {\n        text-align: right;\n    }\n</style>\n<table border=\"1\" class=\"dataframe\">\n  <thead>\n    <tr style=\"text-align: right;\">\n      <th></th>\n      <th>chunks</th>\n      <th>entities</th>\n      <th>icd10cm_code</th>\n    </tr>\n  </thead>\n  <tbody>\n    <tr>\n      <th>0</th>\n      <td>gestational diabetes mellitus</td>\n      <td>PROBLEM</td>\n      <td>O24.919</td>\n    </tr>\n    <tr>\n      <th>1</th>\n      <td>anisakiasis</td>\n      <td>PROBLEM</td>\n      <td>B81.0</td>\n    </tr>\n    <tr>\n      <th>2</th>\n      <td>fetal and neonatal hemorrhage</td>\n      <td>PROBLEM</td>\n      <td>P549</td>\n    </tr>\n  </tbody>\n</table>\n</div>",
       "datasetInfos": [],
       "metadata": {},
       "removedWidgets": [],
       "textData": null,
       "type": "htmlSandbox"
      }
     },
     "output_type": "display_data"
    }
   ],
   "source": [
    "chunks=[]\n",
    "entities=[]\n",
    "icd10cm_code=[]\n",
    "\n",
    "\n",
    "for n,m in zip(result[0]['chunk'], result[0]['icd10cm']):\n",
    "\n",
    "    chunks.append(n.result)\n",
    "    entities.append(n.metadata['entity'])\n",
    "    icd10cm_code.append(m.result)\n",
    "\n",
    "\n",
    "df = pd.DataFrame({'chunks':chunks, 'entities':entities, 'icd10cm_code':icd10cm_code})\n",
    "\n",
    "df"
   ]
  },
  {
   "cell_type": "markdown",
   "metadata": {
    "application/vnd.databricks.v1+cell": {
     "cellMetadata": {
      "byteLimit": 2048000,
      "rowLimit": 10000
     },
     "inputWidgets": {},
     "nuid": "55196470-fbfe-48be-92e9-cde49c5dfe8b",
     "showTitle": false,
     "title": ""
    }
   },
   "source": [
    "## Training and Finetuning Sentence Entity Resolver Model\n",
    "\n",
    "For training Sentence Entity Resolver Model, you can check [this notebook](https://github.com/JohnSnowLabs/spark-nlp-workshop/blob/master/tutorials/Certification_Trainings/Healthcare/13.Snomed_Entity_Resolver_Model_Training.ipynb).\n",
    "\n",
    "For finetuning Sentence Entity Resolver Model, you can check [this notebook](https://github.com/JohnSnowLabs/spark-nlp-workshop/blob/master/tutorials/Certification_Trainings/Healthcare/13.1.Finetuning_Sentence_Entity_Resolver_Model.ipynb)."
   ]
  },
  {
   "cell_type": "markdown",
   "metadata": {
    "application/vnd.databricks.v1+cell": {
     "cellMetadata": {
      "byteLimit": 2048000,
      "rowLimit": 10000
     },
     "inputWidgets": {},
     "nuid": "e8b660b6-2b8a-43ad-8100-cabe8b902a33",
     "showTitle": false,
     "title": ""
    },
    "id": "MyF04PyiAoWC"
   },
   "source": [
    "## Sentence Entity Resolver Model - NER Model - Label whiteList Table\n",
    "\n",
    "In the table below, you can find the Entity Resolver models, the most appropriate NER models and labels that can be used to get the most optimal results when using these models."
   ]
  },
  {
   "cell_type": "markdown",
   "metadata": {
    "application/vnd.databricks.v1+cell": {
     "cellMetadata": {
      "byteLimit": 2048000,
      "rowLimit": 10000
     },
     "inputWidgets": {},
     "nuid": "a22a23b3-5e9b-4832-be53-fe000dbdd03e",
     "showTitle": false,
     "title": ""
    },
    "id": "nbAFJOUpAiUO"
   },
   "source": [
    "<table cellspacing=\"0\" border=\"0\" class=\"sortable\"><thead><tr>\n",
    "\t\t<td style=\"border-top: 2px solid #000000; border-bottom: 1px solid #000000; border-left: 2px solid #000000; border-right: 1px solid #000000\" height=\"61\" align=\"center\" valign=\"middle\"><b><font size=\"4\" color=\"#000000\">ENTITY RESOLVER MODEL</font></b></td>\n",
    "\t\t<td style=\"border-top: 2px solid #000000; border-bottom: 1px solid #000000; border-left: 1px solid #000000; border-right: 1px solid #000000\" align=\"center\" valign=\"middle\"><b><font size=\"4\" color=\"#000000\">SENTENCE EMBEDDINGS</font></b></td>\n",
    "\t\t<td style=\"border-top: 2px solid #000000; border-bottom: 1px solid #000000; border-left: 1px solid #000000; border-right: 1px solid #000000\" align=\"center\" valign=\"middle\"><b><font size=\"4\" color=\"#000000\">NER MODEL</font></b></td>\n",
    "\t\t<td style=\"border-top: 2px solid #000000; border-bottom: 1px solid #000000; border-left: 1px solid #000000; border-right: 1px solid #000000\" align=\"center\" valign=\"middle\"><b><font size=\"4\" color=\"#000000\">NER MODEL WHITELIST LABEL</font></b></td>\n",
    "\t\t<td style=\"border-top: 2px solid #000000; border-bottom: 1px solid #000000; border-left: 1px solid #000000; border-right: 1px solid #000000\" align=\"center\" valign=\"middle\"><b><font size=\"4\" color=\"#000000\">MERGE CHUNKS (ChunkMergeApproach)</font></b></td>\n",
    "\t</tr></thead>\n",
    "\t<colgroup width=\"378\"></colgroup>\n",
    "\t<colgroup width=\"166\"></colgroup>\n",
    "\t<colgroup width=\"240\"></colgroup>\n",
    "\t<colgroup width=\"197\"></colgroup>\n",
    "\t<colgroup width=\"161\"></colgroup>\n",
    "\t<tbody>\n",
    "\t<tr>\n",
    "\t\t<td style=\"border-top: 1px solid #000000; border-bottom: 1px solid #000000; border-left: 2px solid #000000; border-right: 1px solid #000000\" height=\"65\" align=\"left\" valign=\"middle\"><u><font color=\"#0563C1\"><a href=\"https://nlp.johnsnowlabs.com/2021/05/05/sbiobertresolve_HPO_en.html\">sbiobertresolve_HPO</a></font></u></td>\n",
    "\t\t<td style=\"border-top: 1px solid #000000; border-bottom: 1px solid #000000; border-left: 1px solid #000000; border-right: 1px solid #000000\" align=\"left\" valign=\"middle\"><font color=\"#000000\">sbiobert_base_cased_mli</font></td>\n",
    "\t\t<td style=\"border-top: 1px solid #000000; border-bottom: 1px solid #000000; border-left: 1px solid #000000; border-right: 1px solid #000000\" align=\"left\" valign=\"middle\"><font color=\"#000000\">ner_human_phenotype_gene_clinical</font></td>\n",
    "\t\t<td style=\"border-top: 1px solid #000000; border-bottom: 1px solid #000000; border-left: 1px solid #000000; border-right: 1px solid #000000\" align=\"left\" valign=\"middle\"><font color=\"#000000\">No need to set whiteList</font></td>\n",
    "\t\t<td style=\"border-top: 1px solid #000000; border-bottom: 1px solid #000000; border-left: 1px solid #000000; border-right: 1px solid #000000\" align=\"left\" valign=\"middle\"><font color=\"#000000\"><br></font></td>\n",
    "\t</tr>\n",
    "\t<tr>\n",
    "\t\t<td style=\"border-top: 1px solid #000000; border-bottom: 1px solid #000000; border-left: 2px solid #000000; border-right: 1px solid #000000\" rowspan=\"2\" height=\"130\" align=\"left\" valign=\"middle\"><u><font color=\"#0563C1\"><a href=\"https://nlp.johnsnowlabs.com/2021/07/02/sbiobertresolve_cpt_procedures_measurements_augmented_en.html\">sbiobertresolve_cpt_procedures_measurements_augmented</a></font></u></td>\n",
    "\t\t<td style=\"border-top: 1px solid #000000; border-bottom: 1px solid #000000; border-left: 1px solid #000000; border-right: 1px solid #000000\" rowspan=\"2\" align=\"left\" valign=\"middle\"><font color=\"#000000\">sbiobert_base_cased_mli</font></td>\n",
    "\t\t<td style=\"border-top: 1px solid #000000; border-bottom: 1px solid #000000; border-left: 1px solid #000000; border-right: 1px solid #000000\" align=\"left\" valign=\"middle\"><font color=\"#000000\">ner_jsl</font></td>\n",
    "\t\t<td style=\"border-top: 1px solid #000000; border-bottom: 1px solid #000000; border-left: 1px solid #000000; border-right: 1px solid #000000\" align=\"left\" valign=\"middle\"><font color=\"#000000\">Procedure</font></td>\n",
    "\t\t<td style=\"border-top: 1px solid #000000; border-bottom: 1px solid #000000; border-left: 1px solid #000000; border-right: 1px solid #000000\" rowspan=\"2\" align=\"center\" valign=\"middle\"><font color=\"#000000\">Merge ner_jsl and ner_measurements_clinical model chunks</font></td>\n",
    "\t</tr>\n",
    "\t<tr>\n",
    "\t\t<td style=\"border-top: 1px solid #000000; border-bottom: 1px solid #000000; border-left: 1px solid #000000; border-right: 1px solid #000000\" align=\"left\" valign=\"middle\"><font color=\"#000000\">ner_measurements_clinical</font></td>\n",
    "\t\t<td style=\"border-top: 1px solid #000000; border-bottom: 1px solid #000000; border-left: 1px solid #000000; border-right: 1px solid #000000\" align=\"left\" valign=\"middle\"><font color=\"#000000\">Measurements</font></td>\n",
    "\t\t</tr>\n",
    "\t<tr>\n",
    "\t\t<td style=\"border-left: 2px solid #000000\" height=\"65\" align=\"left\" valign=\"middle\"><u><font color=\"#0563C1\"><a href=\"https://nlp.johnsnowlabs.com/2021/05/30/sbiobertresolve_hcc_augmented_en.html\">sbiobertresolve_hcc_augmented</a></font></u></td>\n",
    "\t\t<td style=\"border-top: 1px solid #000000; border-bottom: 1px solid #000000; border-left: 1px solid #000000; border-right: 1px solid #000000\" align=\"left\" valign=\"middle\"><font color=\"#000000\">sbiobert_base_cased_mli</font></td>\n",
    "\t\t<td style=\"border-top: 1px solid #000000; border-bottom: 1px solid #000000; border-left: 1px solid #000000; border-right: 1px solid #000000\" align=\"left\" valign=\"middle\"><font color=\"#000000\">ner_clinical</font></td>\n",
    "\t\t<td style=\"border-top: 1px solid #000000; border-bottom: 1px solid #000000; border-left: 1px solid #000000; border-right: 1px solid #000000\" align=\"left\" valign=\"middle\"><font color=\"#000000\">PROBLEM</font></td>\n",
    "\t\t<td style=\"border-top: 1px solid #000000; border-bottom: 1px solid #000000; border-left: 1px solid #000000; border-right: 1px solid #000000\" align=\"left\" valign=\"middle\"><font color=\"#000000\"><br></font></td>\n",
    "\t</tr>\n",
    "\t<tr>\n",
    "\t\t<td style=\"border-top: 1px solid #000000; border-bottom: 1px solid #000000; border-left: 2px solid #000000; border-right: 1px solid #000000\" height=\"65\" align=\"left\" valign=\"middle\"><u><font color=\"#0563C1\"><a href=\"https://nlp.johnsnowlabs.com/2021/09/29/sbiobertresolve_hcpcs_en.html\">sbiobertresolve_hcpcs</a></font></u></td>\n",
    "\t\t<td style=\"border-top: 1px solid #000000; border-bottom: 1px solid #000000; border-left: 1px solid #000000; border-right: 1px solid #000000\" align=\"left\" valign=\"middle\"><font color=\"#000000\">sbiobert_base_cased_mli</font></td>\n",
    "\t\t<td style=\"border-top: 1px solid #000000; border-bottom: 1px solid #000000; border-left: 1px solid #000000; border-right: 1px solid #000000\" align=\"left\" valign=\"middle\"><font color=\"#000000\">ner_jsl</font></td>\n",
    "\t\t<td style=\"border-top: 1px solid #000000; border-bottom: 1px solid #000000; border-left: 1px solid #000000; border-right: 1px solid #000000\" align=\"left\" valign=\"middle\"><font color=\"#000000\">Procedure</font></td>\n",
    "\t\t<td style=\"border-top: 1px solid #000000; border-bottom: 1px solid #000000; border-left: 1px solid #000000; border-right: 1px solid #000000\" align=\"left\" valign=\"middle\"><font color=\"#000000\"><br></font></td>\n",
    "\t</tr>\n",
    "\t<tr>\n",
    "\t\t<td style=\"border-top: 1px solid #000000; border-bottom: 1px solid #000000; border-left: 2px solid #000000; border-right: 1px solid #000000\" height=\"65\" align=\"left\" valign=\"middle\"><u><font color=\"#0563C1\"><a href=\"https://nlp.johnsnowlabs.com/2021/11/01/sbiobertresolve_icd10cm_augmented_billable_hcc_en.html\">sbiobertresolve_icd10cm_augmented_billable_hcc</a></font></u></td>\n",
    "\t\t<td style=\"border-top: 1px solid #000000; border-bottom: 1px solid #000000; border-left: 1px solid #000000; border-right: 1px solid #000000\" align=\"left\" valign=\"middle\"><font color=\"#000000\">sbiobert_base_cased_mli</font></td>\n",
    "\t\t<td style=\"border-top: 1px solid #000000; border-bottom: 1px solid #000000; border-left: 1px solid #000000; border-right: 1px solid #000000\" align=\"left\" valign=\"middle\"><font color=\"#000000\">ner_clinical</font></td>\n",
    "\t\t<td style=\"border-top: 1px solid #000000; border-bottom: 1px solid #000000; border-left: 1px solid #000000; border-right: 1px solid #000000\" align=\"left\" valign=\"middle\"><font color=\"#000000\">PROBLEM</font></td>\n",
    "\t\t<td style=\"border-top: 1px solid #000000; border-bottom: 1px solid #000000; border-left: 1px solid #000000; border-right: 1px solid #000000\" align=\"left\" valign=\"middle\"><font color=\"#000000\"><br></font></td>\n",
    "\t</tr>\n",
    "\t<tr>\n",
    "\t\t<td style=\"border-top: 1px solid #000000; border-bottom: 1px solid #000000; border-left: 2px solid #000000; border-right: 1px solid #000000\" height=\"65\" align=\"left\" valign=\"middle\"><u><font color=\"#0563C1\"><a href=\"https://nlp.johnsnowlabs.com/2021/09/29/sbiobertresolve_icd10cm_generalised_en.html\">sbiobertresolve_icd10cm_generalised</a></font></u></td>\n",
    "\t\t<td style=\"border-top: 1px solid #000000; border-bottom: 1px solid #000000; border-left: 1px solid #000000; border-right: 1px solid #000000\" align=\"left\" valign=\"middle\"><font color=\"#000000\">sbiobert_base_cased_mli</font></td>\n",
    "\t\t<td style=\"border-top: 1px solid #000000; border-bottom: 1px solid #000000; border-left: 1px solid #000000; border-right: 1px solid #000000\" align=\"left\" valign=\"middle\"><font color=\"#000000\">ner_clinical</font></td>\n",
    "\t\t<td style=\"border-top: 1px solid #000000; border-bottom: 1px solid #000000; border-left: 1px solid #000000; border-right: 1px solid #000000\" align=\"left\" valign=\"middle\"><font color=\"#000000\">PROBLEM</font></td>\n",
    "\t\t<td style=\"border-top: 1px solid #000000; border-bottom: 1px solid #000000; border-left: 1px solid #000000; border-right: 1px solid #000000\" align=\"left\" valign=\"middle\"><font color=\"#000000\"><br></font></td>\n",
    "\t</tr>\n",
    "\t<tr>\n",
    "\t\t<td style=\"border-top: 1px solid #000000; border-bottom: 1px solid #000000; border-left: 2px solid #000000; border-right: 1px solid #000000\" height=\"65\" align=\"left\" valign=\"middle\"><u><font color=\"#0563C1\"><a href=\"https://nlp.johnsnowlabs.com/2020/11/27/sbiobertresolve_icd10pcs_en.html\">sbiobertresolve_icd10pcs</a></font></u></td>\n",
    "\t\t<td style=\"border-top: 1px solid #000000; border-bottom: 1px solid #000000; border-left: 1px solid #000000; border-right: 1px solid #000000\" align=\"left\" valign=\"middle\"><font color=\"#000000\">sbiobert_base_cased_mli</font></td>\n",
    "\t\t<td style=\"border-top: 1px solid #000000; border-bottom: 1px solid #000000; border-left: 1px solid #000000; border-right: 1px solid #000000\" align=\"left\" valign=\"middle\"><font color=\"#000000\">ner_jsl</font></td>\n",
    "\t\t<td style=\"border-top: 1px solid #000000; border-bottom: 1px solid #000000; border-left: 1px solid #000000; border-right: 1px solid #000000\" align=\"left\" valign=\"middle\"><font color=\"#000000\">Procedure</font></td>\n",
    "\t\t<td style=\"border-top: 1px solid #000000; border-bottom: 1px solid #000000; border-left: 1px solid #000000; border-right: 1px solid #000000\" align=\"left\" valign=\"middle\"><font color=\"#000000\"><br></font></td>\n",
    "\t</tr>\n",
    "\t\t<tr>\n",
    "\t\t<td style=\"border-top: 1px solid #000000; border-bottom: 1px solid #000000; border-left: 2px solid #000000; border-right: 1px solid #000000\" height=\"65\" align=\"left\" valign=\"middle\"><u><font color=\"#0563C1\"><a href=\"https://nlp.johnsnowlabs.com/2022/09/30/sbiobertresolve_icd9_en.html\">sbiobertresolve_icd9</a></font></u></td>\n",
    "\t\t<td style=\"border-top: 1px solid #000000; border-bottom: 1px solid #000000; border-left: 1px solid #000000; border-right: 1px solid #000000\" align=\"left\" valign=\"middle\"><font color=\"#000000\">sbiobert_base_cased_mli</font></td>\n",
    "\t\t<td style=\"border-top: 1px solid #000000; border-bottom: 1px solid #000000; border-left: 1px solid #000000; border-right: 1px solid #000000\" align=\"left\" valign=\"middle\"><font color=\"#000000\">ner_clinical</font></td>\n",
    "\t\t<td style=\"border-top: 1px solid #000000; border-bottom: 1px solid #000000; border-left: 1px solid #000000; border-right: 1px solid #000000\" align=\"left\" valign=\"middle\"><font color=\"#000000\">PROBLEM</font></td>\n",
    "\t\t<td style=\"border-top: 1px solid #000000; border-bottom: 1px solid #000000; border-left: 1px solid #000000; border-right: 1px solid #000000\" align=\"left\" valign=\"middle\"><font color=\"#000000\"><br></font></td>\n",
    "\t</tr>\n",
    "\t<tr>\n",
    "\t\t<td style=\"border-top: 1px solid #000000; border-bottom: 1px solid #000000; border-left: 2px solid #000000; border-right: 1px solid #000000\" height=\"65\" align=\"left\" valign=\"middle\"><u><font color=\"#0563C1\"><a href=\"https://nlp.johnsnowlabs.com/2021/07/02/sbiobertresolve_icdo_base_en.html\">sbiobertresolve_icdo_base</a></font></u></td>\n",
    "\t\t<td style=\"border-top: 1px solid #000000; border-bottom: 1px solid #000000; border-left: 1px solid #000000; border-right: 1px solid #000000\" align=\"left\" valign=\"middle\"><font color=\"#000000\">sbiobert_base_cased_mli</font></td>\n",
    "\t\t<td style=\"border-top: 1px solid #000000; border-bottom: 1px solid #000000; border-left: 1px solid #000000; border-right: 1px solid #000000\" align=\"left\" valign=\"middle\"><font color=\"#000000\">ner_jsl</font></td>\n",
    "\t\t<td style=\"border-top: 1px solid #000000; border-bottom: 1px solid #000000; border-left: 1px solid #000000; border-right: 1px solid #000000\" align=\"left\" valign=\"middle\"><font color=\"#000000\">Oncological</font></td>\n",
    "\t\t<td style=\"border-top: 1px solid #000000; border-bottom: 1px solid #000000; border-left: 1px solid #000000; border-right: 1px solid #000000\" align=\"left\" valign=\"middle\"><font color=\"#000000\"><br></font></td>\n",
    "\t</tr>\n",
    "\t<tr>\n",
    "\t\t<td style=\"border-top: 1px solid #000000; border-bottom: 1px solid #000000; border-left: 2px solid #000000; border-right: 1px solid #000000\" height=\"180\" align=\"left\" valign=\"middle\"><u><font color=\"#0563C1\"><a href=\"https://nlp.johnsnowlabs.com/2021/11/23/sbiobertresolve_loinc_augmented_en.html\">sbiobertresolve_loinc_augmented</a></font></u></td>\n",
    "\t\t<td style=\"border-top: 1px solid #000000; border-bottom: 1px solid #000000; border-left: 1px solid #000000; border-right: 1px solid #000000\" align=\"left\" valign=\"middle\"><font color=\"#000000\">sbiobert_base_cased_mli</font></td>\n",
    "\t\t<td style=\"border-top: 1px solid #000000; border-bottom: 1px solid #000000; border-left: 1px solid #000000; border-right: 1px solid #000000\" align=\"left\" valign=\"middle\"><font color=\"#000000\">ner_jsl</font></td>\n",
    "\t\t<td style=\"border-top: 1px solid #000000; border-bottom: 1px solid #000000; border-left: 1px solid #000000; border-right: 1px solid #000000\" align=\"left\" valign=\"middle\"><font color=\"#000000\">Test<br>BMI<br>HDL<br>LDL<br>Medical_Device<br>Temperature<br>Total_Cholesterol<br>Triglycerides<br>Blood_Pressure</font></td>\n",
    "\t\t<td style=\"border-top: 1px solid #000000; border-bottom: 1px solid #000000; border-left: 1px solid #000000; border-right: 1px solid #000000\" align=\"left\" valign=\"middle\"><font color=\"#000000\"><br></font></td>\n",
    "\t</tr>\n",
    "\t<tr>\n",
    "\t\t<td style=\"border-top: 1px solid #000000; border-bottom: 1px solid #000000; border-left: 2px solid #000000; border-right: 1px solid #000000\" height=\"65\" align=\"left\" valign=\"middle\"><u><font color=\"#0563C1\"><a href=\"https://nlp.johnsnowlabs.com/2021/11/14/sbiobertresolve_mesh_en.html\">sbiobertresolve_mesh</a></font></u></td>\n",
    "\t\t<td style=\"border-top: 1px solid #000000; border-bottom: 1px solid #000000; border-left: 1px solid #000000; border-right: 1px solid #000000\" align=\"left\" valign=\"middle\"><font color=\"#000000\">sbiobert_base_cased_mli</font></td>\n",
    "\t\t<td style=\"border-top: 1px solid #000000; border-bottom: 1px solid #000000; border-left: 1px solid #000000; border-right: 1px solid #000000\" align=\"left\" valign=\"middle\"><font color=\"#000000\">ner_clinical</font></td>\n",
    "\t\t<td style=\"border-top: 1px solid #000000; border-bottom: 1px solid #000000; border-left: 1px solid #000000; border-right: 1px solid #000000\" align=\"left\" valign=\"middle\"><font color=\"#000000\">No need to set whiteList</font></td>\n",
    "\t\t<td style=\"border-top: 1px solid #000000; border-bottom: 1px solid #000000; border-left: 1px solid #000000; border-right: 1px solid #000000\" align=\"left\" valign=\"middle\"><font color=\"#000000\"><br></font></td>\n",
    "\t</tr>\n",
    "\t<tr>\n",
    "\t\t<td style=\"border-top: 1px solid #000000; border-bottom: 1px solid #000000; border-left: 2px solid #000000; border-right: 1px solid #000000\" height=\"65\" align=\"left\" valign=\"middle\"><u><font color=\"#0563C1\"><a href=\"https://nlp.johnsnowlabs.com/2021/05/16/sbiobertresolve_rxcui_en.html\">sbiobertresolve_rxcui</a></font></u></td>\n",
    "\t\t<td style=\"border-top: 1px solid #000000; border-bottom: 1px solid #000000; border-left: 1px solid #000000; border-right: 1px solid #000000\" align=\"left\" valign=\"middle\"><font color=\"#000000\">sbiobert_base_cased_mli</font></td>\n",
    "\t\t<td style=\"border-top: 1px solid #000000; border-bottom: 1px solid #000000; border-left: 1px solid #000000; border-right: 1px solid #000000\" align=\"left\" valign=\"middle\"><font color=\"#000000\">ner_posology</font></td>\n",
    "\t\t<td style=\"border-top: 1px solid #000000; border-bottom: 1px solid #000000; border-left: 1px solid #000000; border-right: 1px solid #000000\" align=\"left\" valign=\"middle\"><font color=\"#000000\">DRUG</font></td>\n",
    "\t\t<td style=\"border-top: 1px solid #000000; border-bottom: 1px solid #000000; border-left: 1px solid #000000; border-right: 1px solid #000000\" align=\"left\" valign=\"middle\"><font color=\"#000000\"><br></font></td>\n",
    "\t</tr>\n",
    "\t<tr>\n",
    "\t\t<td style=\"border-top: 1px solid #000000; border-bottom: 1px solid #000000; border-left: 2px solid #000000; border-right: 1px solid #000000\" height=\"65\" align=\"left\" valign=\"middle\"><u><font color=\"#0563C1\"><a href=\"https://nlp.johnsnowlabs.com/2021/11/09/sbiobertresolve_rxnorm_augmented_en.html\">sbiobertresolve_rxnorm_augmented</a></font></u></td>\n",
    "\t\t<td style=\"border-top: 1px solid #000000; border-bottom: 1px solid #000000; border-left: 1px solid #000000; border-right: 1px solid #000000\" align=\"left\" valign=\"middle\"><font color=\"#000000\">sbiobert_base_cased_mli</font></td>\n",
    "\t\t<td style=\"border-top: 1px solid #000000; border-bottom: 1px solid #000000; border-left: 1px solid #000000; border-right: 1px solid #000000\" align=\"left\" valign=\"middle\"><font color=\"#000000\">ner_posology</font></td>\n",
    "\t\t<td style=\"border-top: 1px solid #000000; border-bottom: 1px solid #000000; border-left: 1px solid #000000; border-right: 1px solid #000000\" align=\"left\" valign=\"middle\"><font color=\"#000000\">DRUG</font></td>\n",
    "\t\t<td style=\"border-top: 1px solid #000000; border-bottom: 1px solid #000000; border-left: 1px solid #000000; border-right: 1px solid #000000\" align=\"left\" valign=\"middle\"><font color=\"#000000\"><br></font></td>\n",
    "\t</tr>\n",
    "\t<tr>\n",
    "\t\t<td style=\"border-top: 1px solid #000000; border-bottom: 1px solid #000000; border-left: 2px solid #000000; border-right: 1px solid #000000\" height=\"65\" align=\"left\" valign=\"middle\"><u><font color=\"#0563C1\"><a href=\"https://nlp.johnsnowlabs.com/2021/08/12/sbiobertresolve_rxnorm_disposition_en.html\">sbiobertresolve_rxnorm_disposition</a></font></u></td>\n",
    "\t\t<td style=\"border-top: 1px solid #000000; border-bottom: 1px solid #000000; border-left: 1px solid #000000; border-right: 1px solid #000000\" align=\"left\" valign=\"middle\"><font color=\"#000000\">sbiobert_base_cased_mli</font></td>\n",
    "\t\t<td style=\"border-top: 1px solid #000000; border-bottom: 1px solid #000000; border-left: 1px solid #000000; border-right: 1px solid #000000\" align=\"left\" valign=\"middle\"><font color=\"#000000\">ner_posology</font></td>\n",
    "\t\t<td style=\"border-top: 1px solid #000000; border-bottom: 1px solid #000000; border-left: 1px solid #000000; border-right: 1px solid #000000\" align=\"left\" valign=\"middle\"><font color=\"#000000\">DRUG</font></td>\n",
    "\t\t<td style=\"border-top: 1px solid #000000; border-bottom: 1px solid #000000; border-left: 1px solid #000000; border-right: 1px solid #000000\" align=\"left\" valign=\"middle\"><font color=\"#000000\"><br></font></td>\n",
    "\t</tr>\n",
    "\t<tr>\n",
    "\t\t<td style=\"border-top: 1px solid #000000; border-bottom: 1px solid #000000; border-left: 2px solid #000000; border-right: 1px solid #000000\" rowspan=\"2\" height=\"130\" align=\"left\" valign=\"middle\"><u><font color=\"#0563C1\"><a href=\"https://nlp.johnsnowlabs.com/2021/07/08/sbiobertresolve_snomed_bodyStructure_en.html\">sbiobertresolve_snomed_bodyStructure</a></font></u></td>\n",
    "\t\t<td style=\"border-top: 1px solid #000000; border-bottom: 1px solid #000000; border-left: 1px solid #000000; border-right: 1px solid #000000\" rowspan=\"2\" align=\"center\" valign=\"middle\"><font color=\"#000000\">sbiobert_base_cased_mli</font></td>\n",
    "\t\t<td style=\"border-top: 1px solid #000000; border-bottom: 1px solid #000000; border-left: 1px solid #000000; border-right: 1px solid #000000\" align=\"left\" valign=\"middle\">ner_jsl</td>\n",
    "\t\t<td style=\"border-top: 1px solid #000000; border-bottom: 1px solid #000000; border-left: 1px solid #000000; border-right: 1px solid #000000\" align=\"left\" valign=\"middle\">Disease_Syndrome_Disorder<br>External_body_part_or_region</td>\n",
    "\t\t<td style=\"border-top: 1px solid #000000; border-bottom: 1px solid #000000; border-left: 1px solid #000000; border-right: 1px solid #000000\" rowspan=\"2\" align=\"center\" valign=\"middle\"><font color=\"#000000\">Merge ner_jsl and ner_anatomy_coarse model chunks</font></td>\n",
    "\t</tr>\n",
    "\t<tr>\n",
    "\t\t<td align=\"left\" valign=\"middle\"><font color=\"#000000\">ner_anatomy_coarse</font></td>\n",
    "\t\t<td style=\"border-top: 1px solid #000000; border-bottom: 1px solid #000000; border-left: 1px solid #000000; border-right: 1px solid #000000\" align=\"left\" valign=\"middle\">No need to set whiteList</td>\n",
    "\t\t</tr>\n",
    "\t<tr>\n",
    "\t\t<td style=\"border-top: 1px solid #000000; border-bottom: 1px solid #000000; border-left: 2px solid #000000; border-right: 1px solid #000000\" rowspan=\"2\" height=\"235\" align=\"left\" valign=\"middle\"><u><font color=\"#0563C1\"><a href=\"https://nlp.johnsnowlabs.com/2021/11/11/sbiobertresolve_snomed_procedures_measurements_en.html\">sbiobertresolve_snomed_procedures_measurements</a></font></u></td>\n",
    "\t\t<td style=\"border-top: 1px solid #000000; border-bottom: 1px solid #000000; border-left: 1px solid #000000; border-right: 1px solid #000000\" rowspan=\"2\" align=\"center\" valign=\"middle\"><font color=\"#000000\">sbiobert_base_cased_mli</font></td>\n",
    "\t\t<td style=\"border-top: 1px solid #000000; border-bottom: 1px solid #000000; border-left: 1px solid #000000; border-right: 1px solid #000000\" align=\"left\" valign=\"middle\"><font color=\"#000000\">ner_jsl</font></td>\n",
    "\t\t<td style=\"border-top: 1px solid #000000; border-bottom: 1px solid #000000; border-left: 1px solid #000000; border-right: 1px solid #000000\" align=\"left\" valign=\"middle\"><font color=\"#000000\">Procedure<br>Test<br>BMI<br>HDL<br>LDL<br>Temperature<br>Total_Cholesterol<br>Triglycerides<br>Blood_Pressure</font></td>\n",
    "\t\t<td style=\"border-top: 1px solid #000000; border-bottom: 1px solid #000000; border-left: 1px solid #000000; border-right: 1px solid #000000\" rowspan=\"2\" align=\"center\" valign=\"middle\"><font color=\"#000000\">Merge ner_jsl and ner_measurements_clinical model chunks</font></td>\n",
    "\t</tr>\n",
    "\t<tr>\n",
    "\t\t<td style=\"border-top: 1px solid #000000; border-bottom: 1px solid #000000; border-left: 1px solid #000000; border-right: 1px solid #000000\" align=\"left\" valign=\"middle\"><font color=\"#000000\">ner_measurements_clinical</font></td>\n",
    "\t\t<td style=\"border-top: 1px solid #000000; border-bottom: 1px solid #000000; border-left: 1px solid #000000; border-right: 1px solid #000000\" align=\"left\" valign=\"middle\"><font color=\"#000000\">Measurements</font></td>\n",
    "\t\t</tr>\n",
    "\t<tr>\n",
    "\t\t<td style=\"border-top: 1px solid #000000; border-bottom: 1px solid #000000; border-left: 2px solid #000000; border-right: 1px solid #000000\" height=\"65\" align=\"left\" valign=\"middle\"><u><font color=\"#0563C1\"><a href=\"https://nlp.johnsnowlabs.com/2021/06/15/sbiobertresolve_snomed_findings_en.html\">sbiobertresolve_snomed_findings</a></font></u></td>\n",
    "\t\t<td style=\"border-top: 1px solid #000000; border-bottom: 1px solid #000000; border-left: 1px solid #000000; border-right: 1px solid #000000\" align=\"left\" valign=\"middle\"><font color=\"#000000\">sbiobert_base_cased_mli</font></td>\n",
    "\t\t<td style=\"border-top: 1px solid #000000; border-bottom: 1px solid #000000; border-left: 1px solid #000000; border-right: 1px solid #000000\" align=\"left\" valign=\"middle\"><font color=\"#000000\">ner_clinical</font></td>\n",
    "\t\t<td style=\"border-top: 1px solid #000000; border-bottom: 1px solid #000000; border-left: 1px solid #000000; border-right: 1px solid #000000\" align=\"left\" valign=\"middle\"><font color=\"#000000\">No need to set whiteList</font></td>\n",
    "\t\t<td style=\"border-top: 1px solid #000000; border-bottom: 1px solid #000000; border-left: 1px solid #000000; border-right: 1px solid #000000\" align=\"left\" valign=\"middle\"><font color=\"#000000\"><br></font></td>\n",
    "\t</tr>\n",
    "\t<tr>\n",
    "\t\t<td style=\"border-top: 1px solid #000000; border-bottom: 1px solid #000000; border-left: 2px solid #000000; border-right: 1px solid #000000\" height=\"360\" align=\"left\" valign=\"middle\"><u><font color=\"#0563C1\"><a href=\"https://nlp.johnsnowlabs.com/2021/10/11/sbiobertresolve_umls_disease_syndrome_en.html\">sbiobertresolve_umls_disease_syndrome</a></font></u></td>\n",
    "\t\t<td style=\"border-top: 1px solid #000000; border-bottom: 1px solid #000000; border-left: 1px solid #000000; border-right: 1px solid #000000\" align=\"left\" valign=\"middle\"><font color=\"#000000\">sbiobert_base_cased_mli</font></td>\n",
    "\t\t<td style=\"border-top: 1px solid #000000; border-bottom: 1px solid #000000; border-left: 1px solid #000000; border-right: 1px solid #000000\" align=\"left\" valign=\"middle\"><font color=\"#000000\">ner_jsl</font></td>\n",
    "\t\t<td style=\"border-top: 1px solid #000000; border-bottom: 1px solid #000000; border-left: 1px solid #000000; border-right: 1px solid #000000\" align=\"left\" valign=\"middle\"><font color=\"#000000\">Cerebrovascular_Disease<br>Communicable_Disease<br>Diabetes<br>Disease_Syndrome_Disorder<br>Heart_Disease<br>Hyperlipidemia<br>Hypertension<br>Injury_or_Poisoning<br>Kidney_Disease<br>Obesity<br>Oncological<br>Overweight<br>Psychological_Condition<br>Symptom<br>VS_Finding<br>ImagingFindings<br>EKG_Findings</font></td>\n",
    "\t\t<td style=\"border-top: 1px solid #000000; border-bottom: 1px solid #000000; border-left: 1px solid #000000; border-right: 1px solid #000000\" align=\"left\" valign=\"middle\"><font color=\"#000000\"><br></font></td>\n",
    "\t</tr>\n",
    "\t<tr>\n",
    "\t\t<td style=\"border-top: 1px solid #000000; border-bottom: 1px solid #000000; border-left: 2px solid #000000; border-right: 1px solid #000000\" height=\"65\" align=\"left\" valign=\"middle\"><u><font color=\"#0563C1\"><a href=\"https://nlp.johnsnowlabs.com/2021/10/11/sbiobertresolve_umls_clinical_drugs_en.html\">sbiobertresolve_umls_clinical_drugs</a></font></u></td>\n",
    "\t\t<td style=\"border-top: 1px solid #000000; border-bottom: 1px solid #000000; border-left: 1px solid #000000; border-right: 1px solid #000000\" align=\"left\" valign=\"middle\"><font color=\"#000000\">sbiobert_base_cased_mli</font></td>\n",
    "\t\t<td style=\"border-top: 1px solid #000000; border-bottom: 1px solid #000000; border-left: 1px solid #000000; border-right: 1px solid #000000\" align=\"left\" valign=\"middle\"><font color=\"#000000\">ner_posology</font></td>\n",
    "\t\t<td style=\"border-top: 1px solid #000000; border-bottom: 1px solid #000000; border-left: 1px solid #000000; border-right: 1px solid #000000\" align=\"left\" valign=\"middle\"><font color=\"#000000\">DRUG</font></td>\n",
    "\t\t<td style=\"border-top: 1px solid #000000; border-bottom: 1px solid #000000; border-left: 1px solid #000000; border-right: 1px solid #000000\" align=\"left\" valign=\"middle\"><font color=\"#000000\"><br></font></td>\n",
    "\t</tr>\n",
    "\t<tr>\n",
    "\t\t<td style=\"border-top: 1px solid #000000; border-bottom: 1px solid #000000; border-left: 2px solid #000000; border-right: 1px solid #000000\" height=\"117\" align=\"left\" valign=\"middle\"><u><font color=\"#0563C1\"><a href=\"https://nlp.johnsnowlabs.com/2021/10/03/sbiobertresolve_umls_major_concepts_en.html\">sbiobertresolve_umls_major_concepts</a></font></u></td>\n",
    "\t\t<td style=\"border-top: 1px solid #000000; border-bottom: 1px solid #000000; border-left: 1px solid #000000; border-right: 1px solid #000000\" align=\"left\" valign=\"middle\"><font color=\"#000000\">sbiobert_base_cased_mli</font></td>\n",
    "\t\t<td style=\"border-top: 1px solid #000000; border-bottom: 1px solid #000000; border-left: 1px solid #000000; border-right: 1px solid #000000\" align=\"left\" valign=\"middle\"><font color=\"#000000\">ner_jsl</font></td>\n",
    "\t\t<td style=\"border-top: 1px solid #000000; border-bottom: 1px solid #000000; border-left: 1px solid #000000; border-right: 1px solid #000000\" align=\"left\" valign=\"middle\"><font color=\"#000000\">Cerebrovascular_Disease<br>Communicable_Disease<br>Diabetes<br>Disease_Syndrome_Disorder<br>Heart_Disease<br>Hyperlipidemia<br>Hypertension<br>Injury_or_Poisoning<br>Kidney_Disease<br>Medical-Device<br>Obesity<br>Oncological<br>Overweight<br>Psychological_Condition<br>Symptom<br>VS_Finding<br>ImagingFindings<br>EKG_Findings</font></td>\n",
    "\t\t<td style=\"border-top: 1px solid #000000; border-bottom: 1px solid #000000; border-left: 1px solid #000000; border-right: 1px solid #000000\" align=\"left\" valign=\"middle\"><font color=\"#000000\"><br></font></td>\n",
    "\t</tr>\n",
    "\t<tr>\n",
    "\t\t<td style=\"border-top: 1px solid #000000; border-bottom: 2px solid #000000; border-left: 2px solid #000000; border-right: 1px solid #000000\" height=\"88\" align=\"left\" valign=\"middle\"><u><font color=\"#0563C1\"><a href=\"https://nlp.johnsnowlabs.com/2021/11/27/sbiobertresolve_ndc_en.html\">sbiobertresolve_ndc</a></font></u></td>\n",
    "\t\t<td style=\"border-top: 1px solid #000000; border-bottom: 2px solid #000000; border-left: 1px solid #000000; border-right: 1px solid #000000\" align=\"left\" valign=\"middle\"><font color=\"#000000\">sbiobert_base_cased_mli</font></td>\n",
    "\t\t<td style=\"border-top: 1px solid #000000; border-bottom: 2px solid #000000; border-left: 1px solid #000000; border-right: 1px solid #000000\" align=\"left\" valign=\"middle\"><font color=\"#000000\">ner_posology_greedy</font></td>\n",
    "\t\t<td style=\"border-top: 1px solid #000000; border-bottom: 2px solid #000000; border-left: 1px solid #000000; border-right: 1px solid #000000\" align=\"left\" valign=\"middle\"><font color=\"#000000\">DRUG</font></td>\n",
    "\t\t<td style=\"border-top: 1px solid #000000; border-bottom: 2px solid #000000; border-left: 1px solid #000000; border-right: 1px solid #000000\" align=\"left\" valign=\"middle\"><font color=\"#000000\"><br></font></td>\n",
    "\t</tr>\n",
    "</tbody><tfoot></tfoot></table>"
   ]
  },
  {
   "cell_type": "markdown",
   "metadata": {
    "application/vnd.databricks.v1+cell": {
     "cellMetadata": {
      "byteLimit": 2048000,
      "rowLimit": 10000
     },
     "inputWidgets": {},
     "nuid": "9ddfef64-f9c8-4c66-9474-3a2a9e9cd3ed",
     "showTitle": false,
     "title": ""
    }
   },
   "source": [
    "\n",
    "    "
   ]
  }
 ],
 "metadata": {
  "accelerator": "GPU",
  "application/vnd.databricks.v1+notebook": {
   "dashboards": [],
   "language": "python",
   "notebookMetadata": {
    "pythonIndentUnit": 2
   },
   "notebookName": "05.0.Clinical_Entity_Resolvers",
   "widgets": {}
  },
  "colab": {
   "collapsed_sections": [],
   "machine_shape": "hm",
   "name": "3.Clinical_Entity_Resolvers.ipynb",
   "provenance": [],
   "toc_visible": true
  },
  "kernelspec": {
   "display_name": "Environment (conda_tensorflow2_p36)",
   "language": "python",
   "name": "conda_tensorflow2_p36"
  },
  "language_info": {
   "codemirror_mode": {
    "name": "ipython",
    "version": 3
   },
   "file_extension": ".py",
   "mimetype": "text/x-python",
   "name": "python",
   "nbconvert_exporter": "python",
   "pygments_lexer": "ipython3",
   "version": "3.6.10"
  }
 },
 "nbformat": 4,
 "nbformat_minor": 0
}

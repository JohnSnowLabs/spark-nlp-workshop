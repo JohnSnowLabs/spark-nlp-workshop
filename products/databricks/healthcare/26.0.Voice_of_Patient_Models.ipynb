{
 "cells": [
  {
   "cell_type": "markdown",
   "metadata": {
    "application/vnd.databricks.v1+cell": {
     "cellMetadata": {},
     "inputWidgets": {},
     "nuid": "257b998a-305a-4dd9-ab7f-2f6d9ee5db66",
     "showTitle": false,
     "tableResultSettingsMap": {},
     "title": ""
    },
    "id": "1GAg6M6QhVZ7"
   },
   "source": [
    "![JohnSnowLabs](https://nlp.johnsnowlabs.com/assets/images/logo.png)"
   ]
  },
  {
   "cell_type": "markdown",
   "metadata": {
    "application/vnd.databricks.v1+cell": {
     "cellMetadata": {},
     "inputWidgets": {},
     "nuid": "93923858-1751-45f4-89b4-742506ec28c7",
     "showTitle": false,
     "tableResultSettingsMap": {},
     "title": ""
    },
    "id": "p3Lj9S3Z6tAl"
   },
   "source": [
    "[![Open In Colab](https://colab.research.google.com/assets/colab-badge.svg)](https://colab.research.google.com/github/JohnSnowLabs/spark-nlp-workshop/blob/master/healthcare-nlp/26.0.Voice_of_Patient_Models.ipynb)"
   ]
  },
  {
   "cell_type": "markdown",
   "metadata": {
    "application/vnd.databricks.v1+cell": {
     "cellMetadata": {},
     "inputWidgets": {},
     "nuid": "e47456f9-569a-40a7-bf5b-4dee4f0682a1",
     "showTitle": false,
     "tableResultSettingsMap": {},
     "title": ""
    },
    "id": "YwNNURi7hVdO"
   },
   "source": [
    "# Voice Of Patient MODELS"
   ]
  },
  {
   "cell_type": "markdown",
   "metadata": {
    "application/vnd.databricks.v1+cell": {
     "cellMetadata": {},
     "inputWidgets": {},
     "nuid": "b526d2da-3edb-4e6b-84e6-60de7737f1e7",
     "showTitle": false,
     "tableResultSettingsMap": {},
     "title": ""
    },
    "id": "jEOsACjzhVgD"
   },
   "source": [
    "This notebook includes details about different kinds of pretrained models to extracts healthcare-related terms from the documents transferred from the patient’s own sentences, together with examples of each type of model."
   ]
  },
  {
   "cell_type": "markdown",
   "metadata": {
    "application/vnd.databricks.v1+cell": {
     "cellMetadata": {},
     "inputWidgets": {},
     "nuid": "e9dd7d5d-6ac3-4e13-a67e-757c8b4553cd",
     "showTitle": false,
     "tableResultSettingsMap": {},
     "title": ""
    }
   },
   "source": [
    "## Healthcare NLP for Data Scientists Course\n",
    "\n",
    "If you are not familiar with the components in this notebook, you can check [Healthcare NLP for Data Scientists Udemy Course](https://www.udemy.com/course/healthcare-nlp-for-data-scientists/) and the [MOOC Notebooks](https://github.com/JohnSnowLabs/spark-nlp-workshop/tree/master/Spark_NLP_Udemy_MOOC/Healthcare_NLP) for each components."
   ]
  },
  {
   "cell_type": "code",
   "execution_count": 0,
   "metadata": {
    "application/vnd.databricks.v1+cell": {
     "cellMetadata": {
      "byteLimit": 2048000,
      "rowLimit": 10000
     },
     "inputWidgets": {},
     "nuid": "a31d4b92-25b4-4fbc-a457-88142af70f73",
     "showTitle": false,
     "tableResultSettingsMap": {},
     "title": ""
    }
   },
   "outputs": [],
   "source": [
    "from johnsnowlabs import nlp, medical\n",
    "nlp.settings.enforce_versions=False\n",
    "\n",
    "#We have already initiated the session, and the nlp.start() function is being utilized to update the credentials.\n",
    "nlp.start()"
   ]
  },
  {
   "cell_type": "code",
   "execution_count": 0,
   "metadata": {
    "application/vnd.databricks.v1+cell": {
     "cellMetadata": {
      "byteLimit": 2048000,
      "rowLimit": 10000
     },
     "inputWidgets": {},
     "nuid": "8553fdaa-7291-4b9e-a560-c71261cb818d",
     "showTitle": false,
     "tableResultSettingsMap": {},
     "title": ""
    }
   },
   "outputs": [
    {
     "output_type": "stream",
     "name": "stdout",
     "output_type": "stream",
     "text": [
      "Spark NLP Version : 5.5.1\nSpark NLP_JSL Version : 5.5.1\n"
     ]
    },
    {
     "output_type": "execute_result",
     "data": {
      "text/html": [
       "\n",
       "            <div>\n",
       "                <p><b>SparkSession - hive</b></p>\n",
       "                \n",
       "        <div>\n",
       "            <p><b>SparkContext</b></p>\n",
       "\n",
       "            <p><a href=\"/?o=7956323724731612#setting/sparkui/1230-114112-h1by7jy8/driver-7843476681328713385\">Spark UI</a></p>\n",
       "\n",
       "            <dl>\n",
       "              <dt>Version</dt>\n",
       "                <dd><code>v3.4.1</code></dd>\n",
       "              <dt>Master</dt>\n",
       "                <dd><code>spark://10.139.64.10:7077</code></dd>\n",
       "              <dt>AppName</dt>\n",
       "                <dd><code>Databricks Shell</code></dd>\n",
       "            </dl>\n",
       "        </div>\n",
       "        \n",
       "            </div>\n",
       "        "
      ],
      "text/plain": [
       "<pyspark.sql.session.SparkSession at 0x7fe0bcb369b0>"
      ]
     },
     "execution_count": 3,
     "metadata": {},
     "output_type": "execute_result"
    }
   ],
   "source": [
    "import os\n",
    "import json\n",
    "import string\n",
    "import numpy as np\n",
    "import pandas as pd\n",
    "\n",
    "import sparknlp\n",
    "import sparknlp_jsl\n",
    "from sparknlp.base import *\n",
    "from sparknlp.util import *\n",
    "from sparknlp.annotator import *\n",
    "from sparknlp_jsl.annotator import *\n",
    "from sparknlp.pretrained import ResourceDownloader\n",
    "\n",
    "from pyspark.sql import functions as F\n",
    "from pyspark.ml import Pipeline, PipelineModel\n",
    "import pyspark.sql.types as T\n",
    "import pyspark.sql as SQL\n",
    "from pyspark import keyword_only\n",
    "\n",
    "pd.set_option('max_colwidth', 100)\n",
    "pd.set_option('display.max_columns', 100)  \n",
    "pd.set_option('display.expand_frame_repr', False)\n",
    "\n",
    "print(\"Spark NLP Version :\", sparknlp.version())\n",
    "print(\"Spark NLP_JSL Version :\", sparknlp_jsl.version())\n",
    "\n",
    "spark"
   ]
  },
  {
   "cell_type": "markdown",
   "metadata": {
    "application/vnd.databricks.v1+cell": {
     "cellMetadata": {},
     "inputWidgets": {},
     "nuid": "8114edba-2efd-4b23-b919-e84c299bcecd",
     "showTitle": false,
     "tableResultSettingsMap": {},
     "title": ""
    },
    "id": "75igJ3FxiCjK"
   },
   "source": [
    "## List of Pretrained Models"
   ]
  },
  {
   "cell_type": "code",
   "execution_count": 0,
   "metadata": {
    "application/vnd.databricks.v1+cell": {
     "cellMetadata": {
      "byteLimit": 2048000,
      "rowLimit": 10000
     },
     "inputWidgets": {},
     "nuid": "174bdba2-5bd3-4046-bef9-eb5c47adeff7",
     "showTitle": false,
     "tableResultSettingsMap": {},
     "title": ""
    },
    "colab": {
     "base_uri": "https://localhost:8080/",
     "height": 896
    },
    "executionInfo": {
     "elapsed": 13209,
     "status": "ok",
     "timestamp": 1688667807757,
     "user": {
      "displayName": "Vildan Sarıkaya",
      "userId": "07789644790967768983"
     },
     "user_tz": 240
    },
    "id": "0hlMsw4Ah-Pc",
    "outputId": "3824a74d-b0c7-48a5-a411-883f5a59bb29"
   },
   "outputs": [
    {
     "output_type": "execute_result",
     "data": {
      "text/html": [
       "<div>\n",
       "<style scoped>\n",
       "    .dataframe tbody tr th:only-of-type {\n",
       "        vertical-align: middle;\n",
       "    }\n",
       "\n",
       "    .dataframe tbody tr th {\n",
       "        vertical-align: top;\n",
       "    }\n",
       "\n",
       "    .dataframe thead th {\n",
       "        text-align: right;\n",
       "    }\n",
       "</style>\n",
       "<table border=\"1\" class=\"dataframe\">\n",
       "  <thead>\n",
       "    <tr style=\"text-align: right;\">\n",
       "      <th></th>\n",
       "      <th>MedicalNerModel</th>\n",
       "      <th>MedicalBertForSequenceClassification</th>\n",
       "    </tr>\n",
       "  </thead>\n",
       "  <tbody>\n",
       "    <tr>\n",
       "      <th>0</th>\n",
       "      <td>ner_vop</td>\n",
       "      <td>bert_sequence_classifier_vop_adverse_event</td>\n",
       "    </tr>\n",
       "    <tr>\n",
       "      <th>1</th>\n",
       "      <td>ner_vop_anatomy</td>\n",
       "      <td>bert_sequence_classifier_vop_drug_side_effect</td>\n",
       "    </tr>\n",
       "    <tr>\n",
       "      <th>2</th>\n",
       "      <td>ner_vop_anatomy_emb_clinical_large</td>\n",
       "      <td>bert_sequence_classifier_vop_hcp_consult</td>\n",
       "    </tr>\n",
       "    <tr>\n",
       "      <th>3</th>\n",
       "      <td>ner_vop_anatomy_emb_clinical_medium</td>\n",
       "      <td>bert_sequence_classifier_vop_self_report</td>\n",
       "    </tr>\n",
       "    <tr>\n",
       "      <th>4</th>\n",
       "      <td>ner_vop_anatomy_langtest</td>\n",
       "      <td>bert_sequence_classifier_vop_side_effect</td>\n",
       "    </tr>\n",
       "    <tr>\n",
       "      <th>5</th>\n",
       "      <td>ner_vop_clinical_dept</td>\n",
       "      <td>bert_sequence_classifier_vop_sound_medical</td>\n",
       "    </tr>\n",
       "    <tr>\n",
       "      <th>6</th>\n",
       "      <td>ner_vop_clinical_dept_emb_clinical_large</td>\n",
       "      <td></td>\n",
       "    </tr>\n",
       "    <tr>\n",
       "      <th>7</th>\n",
       "      <td>ner_vop_clinical_dept_emb_clinical_medium</td>\n",
       "      <td></td>\n",
       "    </tr>\n",
       "    <tr>\n",
       "      <th>8</th>\n",
       "      <td>ner_vop_clinical_dept_langtest</td>\n",
       "      <td></td>\n",
       "    </tr>\n",
       "    <tr>\n",
       "      <th>9</th>\n",
       "      <td>ner_vop_demographic</td>\n",
       "      <td></td>\n",
       "    </tr>\n",
       "    <tr>\n",
       "      <th>10</th>\n",
       "      <td>ner_vop_demographic_emb_clinical_large</td>\n",
       "      <td></td>\n",
       "    </tr>\n",
       "    <tr>\n",
       "      <th>11</th>\n",
       "      <td>ner_vop_demographic_emb_clinical_medium</td>\n",
       "      <td></td>\n",
       "    </tr>\n",
       "    <tr>\n",
       "      <th>12</th>\n",
       "      <td>ner_vop_demographic_langtest</td>\n",
       "      <td></td>\n",
       "    </tr>\n",
       "    <tr>\n",
       "      <th>13</th>\n",
       "      <td>ner_vop_emb_clinical_large</td>\n",
       "      <td></td>\n",
       "    </tr>\n",
       "    <tr>\n",
       "      <th>14</th>\n",
       "      <td>ner_vop_emb_clinical_medium</td>\n",
       "      <td></td>\n",
       "    </tr>\n",
       "    <tr>\n",
       "      <th>15</th>\n",
       "      <td>ner_vop_langtest</td>\n",
       "      <td></td>\n",
       "    </tr>\n",
       "    <tr>\n",
       "      <th>16</th>\n",
       "      <td>ner_vop_problem</td>\n",
       "      <td></td>\n",
       "    </tr>\n",
       "    <tr>\n",
       "      <th>17</th>\n",
       "      <td>ner_vop_problem_emb_clinical_large</td>\n",
       "      <td></td>\n",
       "    </tr>\n",
       "    <tr>\n",
       "      <th>18</th>\n",
       "      <td>ner_vop_problem_emb_clinical_medium</td>\n",
       "      <td></td>\n",
       "    </tr>\n",
       "    <tr>\n",
       "      <th>19</th>\n",
       "      <td>ner_vop_problem_langtest</td>\n",
       "      <td></td>\n",
       "    </tr>\n",
       "    <tr>\n",
       "      <th>20</th>\n",
       "      <td>ner_vop_problem_reduced</td>\n",
       "      <td></td>\n",
       "    </tr>\n",
       "    <tr>\n",
       "      <th>21</th>\n",
       "      <td>ner_vop_problem_reduced_emb_clinical_large</td>\n",
       "      <td></td>\n",
       "    </tr>\n",
       "    <tr>\n",
       "      <th>22</th>\n",
       "      <td>ner_vop_problem_reduced_emb_clinical_medium</td>\n",
       "      <td></td>\n",
       "    </tr>\n",
       "    <tr>\n",
       "      <th>23</th>\n",
       "      <td>ner_vop_problem_reduced_langtest</td>\n",
       "      <td></td>\n",
       "    </tr>\n",
       "    <tr>\n",
       "      <th>24</th>\n",
       "      <td>ner_vop_temporal</td>\n",
       "      <td></td>\n",
       "    </tr>\n",
       "    <tr>\n",
       "      <th>25</th>\n",
       "      <td>ner_vop_temporal_emb_clinical_large_final</td>\n",
       "      <td></td>\n",
       "    </tr>\n",
       "    <tr>\n",
       "      <th>26</th>\n",
       "      <td>ner_vop_temporal_emb_clinical_medium</td>\n",
       "      <td></td>\n",
       "    </tr>\n",
       "    <tr>\n",
       "      <th>27</th>\n",
       "      <td>ner_vop_temporal_langtest</td>\n",
       "      <td></td>\n",
       "    </tr>\n",
       "    <tr>\n",
       "      <th>28</th>\n",
       "      <td>ner_vop_test</td>\n",
       "      <td></td>\n",
       "    </tr>\n",
       "    <tr>\n",
       "      <th>29</th>\n",
       "      <td>ner_vop_test_emb_clinical_large</td>\n",
       "      <td></td>\n",
       "    </tr>\n",
       "    <tr>\n",
       "      <th>30</th>\n",
       "      <td>ner_vop_test_emb_clinical_medium</td>\n",
       "      <td></td>\n",
       "    </tr>\n",
       "    <tr>\n",
       "      <th>31</th>\n",
       "      <td>ner_vop_test_langtest</td>\n",
       "      <td></td>\n",
       "    </tr>\n",
       "    <tr>\n",
       "      <th>32</th>\n",
       "      <td>ner_vop_treatment</td>\n",
       "      <td></td>\n",
       "    </tr>\n",
       "    <tr>\n",
       "      <th>33</th>\n",
       "      <td>ner_vop_treatment_emb_clinical_large</td>\n",
       "      <td></td>\n",
       "    </tr>\n",
       "    <tr>\n",
       "      <th>34</th>\n",
       "      <td>ner_vop_treatment_emb_clinical_medium</td>\n",
       "      <td></td>\n",
       "    </tr>\n",
       "    <tr>\n",
       "      <th>35</th>\n",
       "      <td>ner_vop_treatment_langtest</td>\n",
       "      <td></td>\n",
       "    </tr>\n",
       "    <tr>\n",
       "      <th>36</th>\n",
       "      <td>ner_vop_v2</td>\n",
       "      <td></td>\n",
       "    </tr>\n",
       "  </tbody>\n",
       "</table>\n",
       "</div>"
      ],
      "text/plain": [
       "                                MedicalNerModel           MedicalBertForSequenceClassification\n",
       "0                                       ner_vop     bert_sequence_classifier_vop_adverse_event\n",
       "1                               ner_vop_anatomy  bert_sequence_classifier_vop_drug_side_effect\n",
       "2            ner_vop_anatomy_emb_clinical_large       bert_sequence_classifier_vop_hcp_consult\n",
       "3           ner_vop_anatomy_emb_clinical_medium       bert_sequence_classifier_vop_self_report\n",
       "4                      ner_vop_anatomy_langtest       bert_sequence_classifier_vop_side_effect\n",
       "5                         ner_vop_clinical_dept     bert_sequence_classifier_vop_sound_medical\n",
       "6      ner_vop_clinical_dept_emb_clinical_large                                               \n",
       "7     ner_vop_clinical_dept_emb_clinical_medium                                               \n",
       "8                ner_vop_clinical_dept_langtest                                               \n",
       "9                           ner_vop_demographic                                               \n",
       "10       ner_vop_demographic_emb_clinical_large                                               \n",
       "11      ner_vop_demographic_emb_clinical_medium                                               \n",
       "12                 ner_vop_demographic_langtest                                               \n",
       "13                   ner_vop_emb_clinical_large                                               \n",
       "14                  ner_vop_emb_clinical_medium                                               \n",
       "15                             ner_vop_langtest                                               \n",
       "16                              ner_vop_problem                                               \n",
       "17           ner_vop_problem_emb_clinical_large                                               \n",
       "18          ner_vop_problem_emb_clinical_medium                                               \n",
       "19                     ner_vop_problem_langtest                                               \n",
       "20                      ner_vop_problem_reduced                                               \n",
       "21   ner_vop_problem_reduced_emb_clinical_large                                               \n",
       "22  ner_vop_problem_reduced_emb_clinical_medium                                               \n",
       "23             ner_vop_problem_reduced_langtest                                               \n",
       "24                             ner_vop_temporal                                               \n",
       "25    ner_vop_temporal_emb_clinical_large_final                                               \n",
       "26         ner_vop_temporal_emb_clinical_medium                                               \n",
       "27                    ner_vop_temporal_langtest                                               \n",
       "28                                 ner_vop_test                                               \n",
       "29              ner_vop_test_emb_clinical_large                                               \n",
       "30             ner_vop_test_emb_clinical_medium                                               \n",
       "31                        ner_vop_test_langtest                                               \n",
       "32                            ner_vop_treatment                                               \n",
       "33         ner_vop_treatment_emb_clinical_large                                               \n",
       "34        ner_vop_treatment_emb_clinical_medium                                               \n",
       "35                   ner_vop_treatment_langtest                                               \n",
       "36                                   ner_vop_v2                                               "
      ]
     },
     "execution_count": 3,
     "metadata": {},
     "output_type": "execute_result"
    }
   ],
   "source": [
    "df = pd.DataFrame()\n",
    "for model_type in ['MedicalNerModel', 'MedicalBertForSequenceClassification']:\n",
    "    model_list = sorted(list(set([model[0] for model in medical.InternalResourceDownloader.returnPrivateModels(model_type) if 'vop' in model[0]])))\n",
    "    if len(model_list) > 0:\n",
    "      if model_type == \"MedicalNerModel\":\n",
    "        model_list = list(filter(lambda x: \"wip\" not in x, model_list))\n",
    "      df = pd.concat([df, pd.DataFrame(model_list, columns = [model_type])], axis = 1)\n",
    "\n",
    "df.fillna('')"
   ]
  },
  {
   "cell_type": "markdown",
   "metadata": {
    "application/vnd.databricks.v1+cell": {
     "cellMetadata": {},
     "inputWidgets": {},
     "nuid": "024e5fef-b839-414e-9916-177824805133",
     "showTitle": false,
     "tableResultSettingsMap": {},
     "title": ""
    },
    "id": "e4GabI5uj9no"
   },
   "source": [
    "## NER Models"
   ]
  },
  {
   "cell_type": "markdown",
   "metadata": {
    "application/vnd.databricks.v1+cell": {
     "cellMetadata": {},
     "inputWidgets": {},
     "nuid": "ab959b7f-337b-44f0-b446-1c4fa838b8cc",
     "showTitle": false,
     "tableResultSettingsMap": {},
     "title": ""
    },
    "id": "4DfBkIuVkAYX"
   },
   "source": [
    "The NER models from the list include different entity groups and levels of granularity."
   ]
  },
  {
   "cell_type": "code",
   "execution_count": 0,
   "metadata": {
    "application/vnd.databricks.v1+cell": {
     "cellMetadata": {
      "byteLimit": 2048000,
      "rowLimit": 10000
     },
     "inputWidgets": {},
     "nuid": "fb4864e3-63e2-4c35-b2a4-ca2ab843c69a",
     "showTitle": false,
     "tableResultSettingsMap": {},
     "title": ""
    },
    "colab": {
     "base_uri": "https://localhost:8080/"
    },
    "executionInfo": {
     "elapsed": 226898,
     "status": "ok",
     "timestamp": 1688668034646,
     "user": {
      "displayName": "Vildan Sarıkaya",
      "userId": "07789644790967768983"
     },
     "user_tz": 240
    },
    "id": "CkWh32hEj_j-",
    "outputId": "95ab345a-0c42-4506-b282-2200e4c1c7ae"
   },
   "outputs": [
    {
     "output_type": "stream",
     "name": "stdout",
     "output_type": "stream",
     "text": [
      "sentence_detector_dl_healthcare download started this may take some time.\nApproximate size to download 367.3 KB\n\r[ | ]\r[OK!]\nembeddings_clinical download started this may take some time.\nApproximate size to download 1.6 GB\n\r[ | ]\r[OK!]\nner_vop_treatment download started this may take some time.\n\r[ | ]\r[ / ]\r[ — ]\r[ \\ ]\r[ | ]\r[ / ]\r[ — ]\r[ \\ ]\r[ | ]\r[ / ]\r[ — ]\r[OK!]\nner_vop download started this may take some time.\n\r[ | ]\r[ / ]\r[ — ]\r[ \\ ]\r[ | ]\r[ / ]\r[ — ]\r[ \\ ]\r[ | ]\r[ / ]\r[OK!]\nner_vop_test download started this may take some time.\n\r[ | ]\r[ / ]\r[ — ]\r[ \\ ]\r[ | ]\r[ / ]\r[ — ]\r[ \\ ]\r[ | ]\r[ / ]\r[OK!]\n"
     ]
    }
   ],
   "source": [
    "document_assembler = nlp.DocumentAssembler()\\\n",
    "    .setInputCol(\"text\")\\\n",
    "    .setOutputCol(\"document\")\n",
    "\n",
    "sentence_detector = nlp.SentenceDetectorDLModel.pretrained(\"sentence_detector_dl_healthcare\",\"en\",\"clinical/models\")\\\n",
    "    .setInputCols([\"document\"])\\\n",
    "    .setOutputCol(\"sentence\")\n",
    "\n",
    "tokenizer = nlp.Tokenizer()\\\n",
    "    .setInputCols([\"sentence\"])\\\n",
    "    .setOutputCol(\"token\")\\\n",
    "    .setSplitChars([\"-\", \"\\/\"])\n",
    "\n",
    "word_embeddings = nlp.WordEmbeddingsModel.pretrained(\"embeddings_clinical\",\"en\",\"clinical/models\")\\\n",
    "    .setInputCols([\"sentence\",\"token\"])\\\n",
    "    .setOutputCol(\"embeddings\")\n",
    "\n",
    "## ner_vop_treatment\n",
    "ner_vop_treatment = medical.NerModel.pretrained(\"ner_vop_treatment\", \"en\", \"clinical/models\") \\\n",
    "    .setInputCols([\"sentence\", \"token\", \"embeddings\"]) \\\n",
    "    .setOutputCol(\"ner_vop_treatment\")\n",
    "\n",
    "ner_converter_vop_treatment = medical.NerConverterInternal() \\\n",
    "    .setInputCols([\"sentence\", \"token\", \"ner_vop_treatment\"]) \\\n",
    "    .setOutputCol(\"ner_chunk_vop_treatment\")\n",
    "\n",
    "## ner_vop\n",
    "ner_vop = medical.NerModel.pretrained(\"ner_vop\", \"en\", \"clinical/models\") \\\n",
    "    .setInputCols([\"sentence\", \"token\", \"embeddings\"]) \\\n",
    "    .setOutputCol(\"ner_vop\")\n",
    "\n",
    "ner_converter_vop = medical.NerConverterInternal() \\\n",
    "    .setInputCols([\"sentence\", \"token\", \"ner_vop\"]) \\\n",
    "    .setOutputCol(\"ner_chunk_vop\")\n",
    "\n",
    "## ner_vop_test\n",
    "ner_vop_test = medical.NerModel.pretrained(\"ner_vop_test\", \"en\", \"clinical/models\") \\\n",
    "    .setInputCols([\"sentence\", \"token\", \"embeddings\"]) \\\n",
    "    .setOutputCol(\"ner_vop_test\")\n",
    "\n",
    "ner_converter_vop_test = medical.NerConverterInternal() \\\n",
    "    .setInputCols([\"sentence\", \"token\", \"ner_vop_test\"]) \\\n",
    "    .setOutputCol(\"ner_chunk_vop_test\")\n",
    "\n",
    "ner_stages = [document_assembler,\n",
    "    sentence_detector,\n",
    "    tokenizer,\n",
    "    word_embeddings,\n",
    "    ner_vop_treatment,\n",
    "    ner_converter_vop_treatment,\n",
    "    ner_vop,\n",
    "    ner_converter_vop,\n",
    "    ner_vop_test,\n",
    "    ner_converter_vop_test]\n",
    "\n",
    "ner_pipeline = nlp.Pipeline(stages=ner_stages)\n",
    "\n",
    "empty_data = spark.createDataFrame([[\"\"]]).toDF(\"text\")\n",
    "\n",
    "ner_model = ner_pipeline.fit(empty_data)"
   ]
  },
  {
   "cell_type": "code",
   "execution_count": 0,
   "metadata": {
    "application/vnd.databricks.v1+cell": {
     "cellMetadata": {
      "byteLimit": 2048000,
      "rowLimit": 10000
     },
     "inputWidgets": {},
     "nuid": "03fdf54b-f853-486c-a67a-984c580cd2d8",
     "showTitle": false,
     "tableResultSettingsMap": {},
     "title": ""
    },
    "colab": {
     "base_uri": "https://localhost:8080/"
    },
    "executionInfo": {
     "elapsed": 27,
     "status": "ok",
     "timestamp": 1688668034650,
     "user": {
      "displayName": "Vildan Sarıkaya",
      "userId": "07789644790967768983"
     },
     "user_tz": 240
    },
    "id": "5z10ISiHtBET",
    "outputId": "e94e6ae5-3461-4908-dd77-97621ef47a81"
   },
   "outputs": [
    {
     "output_type": "execute_result",
     "data": {
      "text/plain": [
       "31"
      ]
     },
     "execution_count": 5,
     "metadata": {},
     "output_type": "execute_result"
    }
   ],
   "source": [
    "ner_vop_labels = sorted(list(set([label.split('-')[-1] for label in ner_vop.getClasses() if label != 'O'])))\n",
    "\n",
    "len(ner_vop_labels)"
   ]
  },
  {
   "cell_type": "code",
   "execution_count": 0,
   "metadata": {
    "application/vnd.databricks.v1+cell": {
     "cellMetadata": {
      "byteLimit": 2048000,
      "rowLimit": 10000
     },
     "inputWidgets": {},
     "nuid": "c84dfa56-bb7c-4ec5-8a6b-675d5c37ea3a",
     "showTitle": false,
     "tableResultSettingsMap": {},
     "title": ""
    },
    "colab": {
     "base_uri": "https://localhost:8080/",
     "height": 345
    },
    "executionInfo": {
     "elapsed": 24,
     "status": "ok",
     "timestamp": 1688668034651,
     "user": {
      "displayName": "Vildan Sarıkaya",
      "userId": "07789644790967768983"
     },
     "user_tz": 240
    },
    "id": "Q6RXuiOmrPR9",
    "outputId": "370301f9-96e1-4940-b3d4-64d1407b52e4"
   },
   "outputs": [
    {
     "output_type": "execute_result",
     "data": {
      "text/html": [
       "<div>\n",
       "<style scoped>\n",
       "    .dataframe tbody tr th:only-of-type {\n",
       "        vertical-align: middle;\n",
       "    }\n",
       "\n",
       "    .dataframe tbody tr th {\n",
       "        vertical-align: top;\n",
       "    }\n",
       "\n",
       "    .dataframe thead th {\n",
       "        text-align: right;\n",
       "    }\n",
       "</style>\n",
       "<table border=\"1\" class=\"dataframe\">\n",
       "  <thead>\n",
       "    <tr style=\"text-align: right;\">\n",
       "      <th></th>\n",
       "      <th></th>\n",
       "      <th></th>\n",
       "      <th></th>\n",
       "      <th></th>\n",
       "    </tr>\n",
       "  </thead>\n",
       "  <tbody>\n",
       "    <tr>\n",
       "      <th>0</th>\n",
       "      <td>AdmissionDischarge</td>\n",
       "      <td>Employment</td>\n",
       "      <td>PsychologicalCondition</td>\n",
       "      <td>VitalTest</td>\n",
       "    </tr>\n",
       "    <tr>\n",
       "      <th>1</th>\n",
       "      <td>Age</td>\n",
       "      <td>Form</td>\n",
       "      <td>RelationshipStatus</td>\n",
       "      <td></td>\n",
       "    </tr>\n",
       "    <tr>\n",
       "      <th>2</th>\n",
       "      <td>Allergen</td>\n",
       "      <td>Frequency</td>\n",
       "      <td>Route</td>\n",
       "      <td></td>\n",
       "    </tr>\n",
       "    <tr>\n",
       "      <th>3</th>\n",
       "      <td>BodyPart</td>\n",
       "      <td>Gender</td>\n",
       "      <td>Substance</td>\n",
       "      <td></td>\n",
       "    </tr>\n",
       "    <tr>\n",
       "      <th>4</th>\n",
       "      <td>ClinicalDept</td>\n",
       "      <td>HealthStatus</td>\n",
       "      <td>SubstanceQuantity</td>\n",
       "      <td></td>\n",
       "    </tr>\n",
       "    <tr>\n",
       "      <th>5</th>\n",
       "      <td>DateTime</td>\n",
       "      <td>InjuryOrPoisoning</td>\n",
       "      <td>Symptom</td>\n",
       "      <td></td>\n",
       "    </tr>\n",
       "    <tr>\n",
       "      <th>6</th>\n",
       "      <td>Disease</td>\n",
       "      <td>Laterality</td>\n",
       "      <td>Test</td>\n",
       "      <td></td>\n",
       "    </tr>\n",
       "    <tr>\n",
       "      <th>7</th>\n",
       "      <td>Dosage</td>\n",
       "      <td>MedicalDevice</td>\n",
       "      <td>TestResult</td>\n",
       "      <td></td>\n",
       "    </tr>\n",
       "    <tr>\n",
       "      <th>8</th>\n",
       "      <td>Drug</td>\n",
       "      <td>Modifier</td>\n",
       "      <td>Treatment</td>\n",
       "      <td></td>\n",
       "    </tr>\n",
       "    <tr>\n",
       "      <th>9</th>\n",
       "      <td>Duration</td>\n",
       "      <td>Procedure</td>\n",
       "      <td>Vaccine</td>\n",
       "      <td></td>\n",
       "    </tr>\n",
       "  </tbody>\n",
       "</table>\n",
       "</div>"
      ],
      "text/plain": [
       "                                                                           \n",
       "0  AdmissionDischarge         Employment  PsychologicalCondition  VitalTest\n",
       "1                 Age               Form      RelationshipStatus           \n",
       "2            Allergen          Frequency                   Route           \n",
       "3            BodyPart             Gender               Substance           \n",
       "4        ClinicalDept       HealthStatus       SubstanceQuantity           \n",
       "5            DateTime  InjuryOrPoisoning                 Symptom           \n",
       "6             Disease         Laterality                    Test           \n",
       "7              Dosage      MedicalDevice              TestResult           \n",
       "8                Drug           Modifier               Treatment           \n",
       "9            Duration          Procedure                 Vaccine           "
      ]
     },
     "execution_count": 6,
     "metadata": {},
     "output_type": "execute_result"
    }
   ],
   "source": [
    "label_df = pd.DataFrame()\n",
    "for column in range((len(ner_vop_labels)//10)+1):\n",
    "  label_df = pd.concat([label_df, pd.DataFrame(ner_vop_labels, columns = [''])[column*10:(column+1)*10].reset_index(drop= True)], axis = 1)\n",
    "\n",
    "label_df.fillna('')"
   ]
  },
  {
   "cell_type": "code",
   "execution_count": 0,
   "metadata": {
    "application/vnd.databricks.v1+cell": {
     "cellMetadata": {
      "byteLimit": 2048000,
      "rowLimit": 10000
     },
     "inputWidgets": {},
     "nuid": "50eacfe5-007c-4c4c-93be-ac5ddcb2ea84",
     "showTitle": false,
     "tableResultSettingsMap": {},
     "title": ""
    },
    "colab": {
     "base_uri": "https://localhost:8080/"
    },
    "executionInfo": {
     "elapsed": 23,
     "status": "ok",
     "timestamp": 1688668034653,
     "user": {
      "displayName": "Vildan Sarıkaya",
      "userId": "07789644790967768983"
     },
     "user_tz": 240
    },
    "id": "9YtB3L3Qj_tQ",
    "outputId": "0d3dad4a-d808-4513-e722-fcb82a3cf189"
   },
   "outputs": [
    {
     "output_type": "stream",
     "name": "stdout",
     "output_type": "stream",
     "text": [
      "['Dosage', 'Drug', 'Duration', 'Form', 'Frequency', 'Procedure', 'Route', 'Treatment']\n"
     ]
    }
   ],
   "source": [
    "ner_vop_treatment_labels = sorted(list(set([label.split('-')[-1] for label in ner_vop_treatment.getClasses() if label != 'O'])))\n",
    "\n",
    "print(ner_vop_treatment_labels)"
   ]
  },
  {
   "cell_type": "code",
   "execution_count": 0,
   "metadata": {
    "application/vnd.databricks.v1+cell": {
     "cellMetadata": {
      "byteLimit": 2048000,
      "rowLimit": 10000
     },
     "inputWidgets": {},
     "nuid": "6823e737-668c-4d9f-a3dd-f218e32544e9",
     "showTitle": false,
     "tableResultSettingsMap": {},
     "title": ""
    },
    "colab": {
     "base_uri": "https://localhost:8080/"
    },
    "executionInfo": {
     "elapsed": 22,
     "status": "ok",
     "timestamp": 1688668034655,
     "user": {
      "displayName": "Vildan Sarıkaya",
      "userId": "07789644790967768983"
     },
     "user_tz": 240
    },
    "id": "SFtl5E8nj_0B",
    "outputId": "697aef1d-934b-4ba5-cb91-15af13f54b39"
   },
   "outputs": [
    {
     "output_type": "stream",
     "name": "stdout",
     "output_type": "stream",
     "text": [
      "['Measurements', 'Test', 'TestResult', 'VitalTest']\n"
     ]
    }
   ],
   "source": [
    "ner_vop_test_labels = sorted(list(set([label.split('-')[-1] for label in ner_vop_test.getClasses() if label != 'O'])))\n",
    "\n",
    "print(ner_vop_test_labels)"
   ]
  },
  {
   "cell_type": "code",
   "execution_count": 0,
   "metadata": {
    "application/vnd.databricks.v1+cell": {
     "cellMetadata": {
      "byteLimit": 2048000,
      "rowLimit": 10000
     },
     "inputWidgets": {},
     "nuid": "5ac2e8c1-b17d-4dd7-9cac-3771c84aa37d",
     "showTitle": false,
     "tableResultSettingsMap": {},
     "title": ""
    },
    "id": "BV6_zSzOwz2G"
   },
   "outputs": [],
   "source": [
    "sample_text_1 = '''Hello, I am a 20-year-old woman who was diagnosed with hyperthyroidism around a month ago. For approximately four months, I've been experiencing symptoms such as feeling light-headed, battling poor digestion, dealing with anxiety attacks, depression, a sharp pain on my left side chest, an elevated heart rate, and a significant loss of weight. Due to these conditions, I was admitted to the hospital and just got discharged recently. During my hospital stay, a number of different tests were carried out by various physicians who initially struggled to pinpoint my actual medical condition. These tests included numerous blood tests, a brain MRI, an ultrasound scan, and an endoscopy. At long last, I was examined by a homeopathic doctor who finally diagnosed me with hyperthyroidism, indicating my TSH level was at a low 0.15 while my T3 and T4 levels were normal. Additionally, I was found to be deficient in vitamins B12 and D. Hence, I've been on a regimen of vitamin D supplements once a week and a daily dose of 1000 mcg of vitamin B12. I've been undergoing homeopathic treatment for the last 40 days and underwent a second test after a month which showed my TSH level increased to 0.5. While I'm noticing a slight improvement in my feelings of weakness and depression, over the last week, I've encountered two new challenges: difficulty breathing and a dramatically increased heart rate. I'm now at a crossroads where I am unsure if I should switch to allopathic treatment or continue with homeopathy. I understand that thyroid conditions take a while to improve, but I'm wondering if both treatments would require the same duration for recovery. Several of my acquaintances have recommended transitioning to allopathy and warn against taking risks, given the potential of developing severe complications. Please forgive any errors in my English and thank you for your understanding.'''\n",
    "\n",
    "sample_text_2 = '''Following a visit to the nephrology department for a routine kidney function check-up, I underwent a urine test. The results revealed that I was suffering from chronic kidney disease, prompting the initiation of necessary medication for its control.'''\n",
    "\n",
    "sample_text_3 = '''My grandmother was identified with high cholesterol and had to alter her daily habits. She also has to consume statins and eat a low-sodium diet to maintain her cholesterol levels. It's required a significant adaptation, but she's managing quite well.'''"
   ]
  },
  {
   "cell_type": "code",
   "execution_count": 0,
   "metadata": {
    "application/vnd.databricks.v1+cell": {
     "cellMetadata": {
      "byteLimit": 2048000,
      "rowLimit": 10000
     },
     "inputWidgets": {},
     "nuid": "eb4f499c-3275-41b0-9327-4e62b8ae29bb",
     "showTitle": false,
     "tableResultSettingsMap": {},
     "title": ""
    },
    "id": "Rmvcaymozcdj"
   },
   "outputs": [],
   "source": [
    "data = spark.createDataFrame(pd.DataFrame([sample_text_1, sample_text_2, sample_text_3], columns = ['text']))"
   ]
  },
  {
   "cell_type": "code",
   "execution_count": 0,
   "metadata": {
    "application/vnd.databricks.v1+cell": {
     "cellMetadata": {
      "byteLimit": 2048000,
      "rowLimit": 10000
     },
     "inputWidgets": {},
     "nuid": "30bd9ff0-cf08-4061-932f-80e6e030897a",
     "showTitle": false,
     "tableResultSettingsMap": {},
     "title": ""
    },
    "id": "Zz9jLTQtzkQu"
   },
   "outputs": [],
   "source": [
    "results = ner_model.transform(data).collect()"
   ]
  },
  {
   "cell_type": "code",
   "execution_count": 0,
   "metadata": {
    "application/vnd.databricks.v1+cell": {
     "cellMetadata": {
      "byteLimit": 2048000,
      "rowLimit": 10000
     },
     "inputWidgets": {},
     "nuid": "e3d533ad-4368-4679-bbf0-43acdaa72b58",
     "showTitle": false,
     "tableResultSettingsMap": {},
     "title": ""
    },
    "id": "C-y5upoHzkZ-"
   },
   "outputs": [],
   "source": [
    "visualiser = nlp.viz.NerVisualizer()"
   ]
  },
  {
   "cell_type": "code",
   "execution_count": 0,
   "metadata": {
    "application/vnd.databricks.v1+cell": {
     "cellMetadata": {
      "byteLimit": 2048000,
      "rowLimit": 10000
     },
     "inputWidgets": {},
     "nuid": "44beabe1-9166-4532-83f0-f6ec1b0430d3",
     "showTitle": false,
     "tableResultSettingsMap": {},
     "title": ""
    }
   },
   "outputs": [
    {
     "output_type": "display_data",
     "data": {
      "text/html": [
       "\n",
       "<style>\n",
       "    @import url('https://fonts.googleapis.com/css2?family=Montserrat:wght@300;400;500;600;700&display=swap');\n",
       "    @import url('https://fonts.googleapis.com/css2?family=Vistol Regular:wght@300;400;500;600;700&display=swap');\n",
       "    \n",
       "    .spark-nlp-display-scroll-entities {\n",
       "        border: 1px solid #E7EDF0;\n",
       "        border-radius: 3px;\n",
       "        text-align: justify;\n",
       "        \n",
       "    }\n",
       "    .spark-nlp-display-scroll-entities span {  \n",
       "        font-size: 14px;\n",
       "        line-height: 24px;\n",
       "        color: #536B76;\n",
       "        font-family: 'Montserrat', sans-serif !important;\n",
       "    }\n",
       "    \n",
       "    .spark-nlp-display-entity-wrapper{\n",
       "    \n",
       "        display: inline-grid;\n",
       "        text-align: center;\n",
       "        border-radius: 4px;\n",
       "        margin: 0 2px 5px 2px;\n",
       "        padding: 1px\n",
       "    }\n",
       "    .spark-nlp-display-entity-name{\n",
       "        font-size: 14px;\n",
       "        line-height: 24px;\n",
       "        font-family: 'Montserrat', sans-serif !important;\n",
       "        \n",
       "        background: #f1f2f3;\n",
       "        border-width: medium;\n",
       "        text-align: center;\n",
       "        \n",
       "        font-weight: 400;\n",
       "        \n",
       "        border-radius: 5px;\n",
       "        padding: 2px 5px;\n",
       "        display: block;\n",
       "        margin: 3px 2px;\n",
       "    \n",
       "    }\n",
       "    .spark-nlp-display-entity-type{\n",
       "        font-size: 14px;\n",
       "        line-height: 24px;\n",
       "        color: #ffffff;\n",
       "        font-family: 'Montserrat', sans-serif !important;\n",
       "        \n",
       "        text-transform: uppercase;\n",
       "        \n",
       "        font-weight: 500;\n",
       "\n",
       "        display: block;\n",
       "        padding: 3px 5px;\n",
       "    }\n",
       "    \n",
       "    .spark-nlp-display-entity-resolution{\n",
       "        font-size: 14px;\n",
       "        line-height: 24px;\n",
       "        color: #ffffff;\n",
       "        font-family: 'Vistol Regular', sans-serif !important;\n",
       "        \n",
       "        text-transform: uppercase;\n",
       "        \n",
       "        font-weight: 500;\n",
       "\n",
       "        display: block;\n",
       "        padding: 3px 5px;\n",
       "    }\n",
       "    \n",
       "    .spark-nlp-display-others{\n",
       "        font-size: 14px;\n",
       "        line-height: 24px;\n",
       "        font-family: 'Montserrat', sans-serif !important;\n",
       "        \n",
       "        font-weight: 400;\n",
       "    }\n",
       "\n",
       "</style>\n",
       " <span class=\"spark-nlp-display-others\" style=\"background-color: white\">My grandmother was identified with high cholesterol and had to alter her </span><span class=\"spark-nlp-display-entity-wrapper\" style=\"background-color: #8F2677\"><span class=\"spark-nlp-display-entity-name\">daily </span><span class=\"spark-nlp-display-entity-type\">Frequency</span></span><span class=\"spark-nlp-display-others\" style=\"background-color: white\"> habits. She also has to consume </span><span class=\"spark-nlp-display-entity-wrapper\" style=\"background-color: #8B668B\"><span class=\"spark-nlp-display-entity-name\">statins </span><span class=\"spark-nlp-display-entity-type\">Drug</span></span><span class=\"spark-nlp-display-others\" style=\"background-color: white\"> and eat a low-sodium diet to maintain her cholesterol levels. It's required a significant adaptation, but she's managing quite well.</span></div>"
      ],
      "text/plain": [
       "<IPython.core.display.HTML object>"
      ]
     },
     "metadata": {},
     "output_type": "display_data"
    }
   ],
   "source": [
    "visualiser.display(results[2], label_col='ner_chunk_vop_treatment')"
   ]
  },
  {
   "cell_type": "code",
   "execution_count": 0,
   "metadata": {
    "application/vnd.databricks.v1+cell": {
     "cellMetadata": {
      "byteLimit": 2048000,
      "rowLimit": 10000
     },
     "inputWidgets": {},
     "nuid": "9f4fd6b2-9415-43f5-a271-4df69b017b69",
     "showTitle": false,
     "tableResultSettingsMap": {},
     "title": ""
    }
   },
   "outputs": [
    {
     "output_type": "display_data",
     "data": {
      "text/html": [
       "\n",
       "<style>\n",
       "    @import url('https://fonts.googleapis.com/css2?family=Montserrat:wght@300;400;500;600;700&display=swap');\n",
       "    @import url('https://fonts.googleapis.com/css2?family=Vistol Regular:wght@300;400;500;600;700&display=swap');\n",
       "    \n",
       "    .spark-nlp-display-scroll-entities {\n",
       "        border: 1px solid #E7EDF0;\n",
       "        border-radius: 3px;\n",
       "        text-align: justify;\n",
       "        \n",
       "    }\n",
       "    .spark-nlp-display-scroll-entities span {  \n",
       "        font-size: 14px;\n",
       "        line-height: 24px;\n",
       "        color: #536B76;\n",
       "        font-family: 'Montserrat', sans-serif !important;\n",
       "    }\n",
       "    \n",
       "    .spark-nlp-display-entity-wrapper{\n",
       "    \n",
       "        display: inline-grid;\n",
       "        text-align: center;\n",
       "        border-radius: 4px;\n",
       "        margin: 0 2px 5px 2px;\n",
       "        padding: 1px\n",
       "    }\n",
       "    .spark-nlp-display-entity-name{\n",
       "        font-size: 14px;\n",
       "        line-height: 24px;\n",
       "        font-family: 'Montserrat', sans-serif !important;\n",
       "        \n",
       "        background: #f1f2f3;\n",
       "        border-width: medium;\n",
       "        text-align: center;\n",
       "        \n",
       "        font-weight: 400;\n",
       "        \n",
       "        border-radius: 5px;\n",
       "        padding: 2px 5px;\n",
       "        display: block;\n",
       "        margin: 3px 2px;\n",
       "    \n",
       "    }\n",
       "    .spark-nlp-display-entity-type{\n",
       "        font-size: 14px;\n",
       "        line-height: 24px;\n",
       "        color: #ffffff;\n",
       "        font-family: 'Montserrat', sans-serif !important;\n",
       "        \n",
       "        text-transform: uppercase;\n",
       "        \n",
       "        font-weight: 500;\n",
       "\n",
       "        display: block;\n",
       "        padding: 3px 5px;\n",
       "    }\n",
       "    \n",
       "    .spark-nlp-display-entity-resolution{\n",
       "        font-size: 14px;\n",
       "        line-height: 24px;\n",
       "        color: #ffffff;\n",
       "        font-family: 'Vistol Regular', sans-serif !important;\n",
       "        \n",
       "        text-transform: uppercase;\n",
       "        \n",
       "        font-weight: 500;\n",
       "\n",
       "        display: block;\n",
       "        padding: 3px 5px;\n",
       "    }\n",
       "    \n",
       "    .spark-nlp-display-others{\n",
       "        font-size: 14px;\n",
       "        line-height: 24px;\n",
       "        font-family: 'Montserrat', sans-serif !important;\n",
       "        \n",
       "        font-weight: 400;\n",
       "    }\n",
       "\n",
       "</style>\n",
       " <span class=\"spark-nlp-display-others\" style=\"background-color: white\">Following a visit to the nephrology department for a routine </span><span class=\"spark-nlp-display-entity-wrapper\" style=\"background-color: #77b5fe\"><span class=\"spark-nlp-display-entity-name\">kidney function </span><span class=\"spark-nlp-display-entity-type\">Test</span></span><span class=\"spark-nlp-display-others\" style=\"background-color: white\"> check-up, I underwent a </span><span class=\"spark-nlp-display-entity-wrapper\" style=\"background-color: #77b5fe\"><span class=\"spark-nlp-display-entity-name\">urine test </span><span class=\"spark-nlp-display-entity-type\">Test</span></span><span class=\"spark-nlp-display-others\" style=\"background-color: white\">. The results revealed that I was suffering from chronic kidney disease, prompting the initiation of necessary medication for its control.</span></div>"
      ],
      "text/plain": [
       "<IPython.core.display.HTML object>"
      ]
     },
     "metadata": {},
     "output_type": "display_data"
    }
   ],
   "source": [
    "visualiser.display(results[1], label_col='ner_chunk_vop_test')"
   ]
  },
  {
   "cell_type": "code",
   "execution_count": 0,
   "metadata": {
    "application/vnd.databricks.v1+cell": {
     "cellMetadata": {
      "byteLimit": 2048000,
      "rowLimit": 10000
     },
     "inputWidgets": {},
     "nuid": "8cd0be54-299c-4207-848f-c539ac1c17dd",
     "showTitle": false,
     "tableResultSettingsMap": {},
     "title": ""
    }
   },
   "outputs": [
    {
     "output_type": "display_data",
     "data": {
      "text/html": [
       "\n",
       "<style>\n",
       "    @import url('https://fonts.googleapis.com/css2?family=Montserrat:wght@300;400;500;600;700&display=swap');\n",
       "    @import url('https://fonts.googleapis.com/css2?family=Vistol Regular:wght@300;400;500;600;700&display=swap');\n",
       "    \n",
       "    .spark-nlp-display-scroll-entities {\n",
       "        border: 1px solid #E7EDF0;\n",
       "        border-radius: 3px;\n",
       "        text-align: justify;\n",
       "        \n",
       "    }\n",
       "    .spark-nlp-display-scroll-entities span {  \n",
       "        font-size: 14px;\n",
       "        line-height: 24px;\n",
       "        color: #536B76;\n",
       "        font-family: 'Montserrat', sans-serif !important;\n",
       "    }\n",
       "    \n",
       "    .spark-nlp-display-entity-wrapper{\n",
       "    \n",
       "        display: inline-grid;\n",
       "        text-align: center;\n",
       "        border-radius: 4px;\n",
       "        margin: 0 2px 5px 2px;\n",
       "        padding: 1px\n",
       "    }\n",
       "    .spark-nlp-display-entity-name{\n",
       "        font-size: 14px;\n",
       "        line-height: 24px;\n",
       "        font-family: 'Montserrat', sans-serif !important;\n",
       "        \n",
       "        background: #f1f2f3;\n",
       "        border-width: medium;\n",
       "        text-align: center;\n",
       "        \n",
       "        font-weight: 400;\n",
       "        \n",
       "        border-radius: 5px;\n",
       "        padding: 2px 5px;\n",
       "        display: block;\n",
       "        margin: 3px 2px;\n",
       "    \n",
       "    }\n",
       "    .spark-nlp-display-entity-type{\n",
       "        font-size: 14px;\n",
       "        line-height: 24px;\n",
       "        color: #ffffff;\n",
       "        font-family: 'Montserrat', sans-serif !important;\n",
       "        \n",
       "        text-transform: uppercase;\n",
       "        \n",
       "        font-weight: 500;\n",
       "\n",
       "        display: block;\n",
       "        padding: 3px 5px;\n",
       "    }\n",
       "    \n",
       "    .spark-nlp-display-entity-resolution{\n",
       "        font-size: 14px;\n",
       "        line-height: 24px;\n",
       "        color: #ffffff;\n",
       "        font-family: 'Vistol Regular', sans-serif !important;\n",
       "        \n",
       "        text-transform: uppercase;\n",
       "        \n",
       "        font-weight: 500;\n",
       "\n",
       "        display: block;\n",
       "        padding: 3px 5px;\n",
       "    }\n",
       "    \n",
       "    .spark-nlp-display-others{\n",
       "        font-size: 14px;\n",
       "        line-height: 24px;\n",
       "        font-family: 'Montserrat', sans-serif !important;\n",
       "        \n",
       "        font-weight: 400;\n",
       "    }\n",
       "\n",
       "</style>\n",
       " <span class=\"spark-nlp-display-others\" style=\"background-color: white\">Hello, I am a </span><span class=\"spark-nlp-display-entity-wrapper\" style=\"background-color: #ffe0ac\"><span class=\"spark-nlp-display-entity-name\">20-year-old </span><span class=\"spark-nlp-display-entity-type\">Age</span></span><span class=\"spark-nlp-display-others\" style=\"background-color: white\"> </span><span class=\"spark-nlp-display-entity-wrapper\" style=\"background-color: #ffacb7\"><span class=\"spark-nlp-display-entity-name\">woman </span><span class=\"spark-nlp-display-entity-type\">Gender</span></span><span class=\"spark-nlp-display-others\" style=\"background-color: white\"> who was diagnosed with </span><span class=\"spark-nlp-display-entity-wrapper\" style=\"background-color: #C10882\"><span class=\"spark-nlp-display-entity-name\">hyperthyroidism </span><span class=\"spark-nlp-display-entity-type\">Disease</span></span><span class=\"spark-nlp-display-others\" style=\"background-color: white\"> around </span><span class=\"spark-nlp-display-entity-wrapper\" style=\"background-color: #4C3BC2\"><span class=\"spark-nlp-display-entity-name\">a month ago </span><span class=\"spark-nlp-display-entity-type\">DateTime</span></span><span class=\"spark-nlp-display-others\" style=\"background-color: white\">. For approximately </span><span class=\"spark-nlp-display-entity-wrapper\" style=\"background-color: #19C85E\"><span class=\"spark-nlp-display-entity-name\">four months </span><span class=\"spark-nlp-display-entity-type\">Duration</span></span><span class=\"spark-nlp-display-others\" style=\"background-color: white\">, I've been experiencing symptoms such as feeling </span><span class=\"spark-nlp-display-entity-wrapper\" style=\"background-color: #11448A\"><span class=\"spark-nlp-display-entity-name\">light-headed </span><span class=\"spark-nlp-display-entity-type\">Symptom</span></span><span class=\"spark-nlp-display-others\" style=\"background-color: white\">, battling poor digestion, dealing with </span><span class=\"spark-nlp-display-entity-wrapper\" style=\"background-color: #B22686\"><span class=\"spark-nlp-display-entity-name\">anxiety attacks </span><span class=\"spark-nlp-display-entity-type\">PsychologicalCondition</span></span><span class=\"spark-nlp-display-others\" style=\"background-color: white\">, </span><span class=\"spark-nlp-display-entity-wrapper\" style=\"background-color: #B22686\"><span class=\"spark-nlp-display-entity-name\">depression </span><span class=\"spark-nlp-display-entity-type\">PsychologicalCondition</span></span><span class=\"spark-nlp-display-others\" style=\"background-color: white\">, a </span><span class=\"spark-nlp-display-entity-wrapper\" style=\"background-color: #8B475D\"><span class=\"spark-nlp-display-entity-name\">sharp </span><span class=\"spark-nlp-display-entity-type\">Modifier</span></span><span class=\"spark-nlp-display-others\" style=\"background-color: white\"> </span><span class=\"spark-nlp-display-entity-wrapper\" style=\"background-color: #11448A\"><span class=\"spark-nlp-display-entity-name\">pain </span><span class=\"spark-nlp-display-entity-type\">Symptom</span></span><span class=\"spark-nlp-display-others\" style=\"background-color: white\"> on my </span><span class=\"spark-nlp-display-entity-wrapper\" style=\"background-color: #336748\"><span class=\"spark-nlp-display-entity-name\">left side </span><span class=\"spark-nlp-display-entity-type\">Laterality</span></span><span class=\"spark-nlp-display-others\" style=\"background-color: white\"> </span><span class=\"spark-nlp-display-entity-wrapper\" style=\"background-color: #AB701E\"><span class=\"spark-nlp-display-entity-name\">chest </span><span class=\"spark-nlp-display-entity-type\">BodyPart</span></span><span class=\"spark-nlp-display-others\" style=\"background-color: white\">, an </span><span class=\"spark-nlp-display-entity-wrapper\" style=\"background-color: #6A9938\"><span class=\"spark-nlp-display-entity-name\">elevated </span><span class=\"spark-nlp-display-entity-type\">TestResult</span></span><span class=\"spark-nlp-display-others\" style=\"background-color: white\"> </span><span class=\"spark-nlp-display-entity-wrapper\" style=\"background-color: #61173C\"><span class=\"spark-nlp-display-entity-name\">heart rate </span><span class=\"spark-nlp-display-entity-type\">VitalTest</span></span><span class=\"spark-nlp-display-others\" style=\"background-color: white\">, and a </span><span class=\"spark-nlp-display-entity-wrapper\" style=\"background-color: #8B475D\"><span class=\"spark-nlp-display-entity-name\">significant </span><span class=\"spark-nlp-display-entity-type\">Modifier</span></span><span class=\"spark-nlp-display-others\" style=\"background-color: white\"> </span><span class=\"spark-nlp-display-entity-wrapper\" style=\"background-color: #11448A\"><span class=\"spark-nlp-display-entity-name\">loss of weight </span><span class=\"spark-nlp-display-entity-type\">Symptom</span></span><span class=\"spark-nlp-display-others\" style=\"background-color: white\">. Due to these conditions, I was </span><span class=\"spark-nlp-display-entity-wrapper\" style=\"background-color: #42C000\"><span class=\"spark-nlp-display-entity-name\">admitted </span><span class=\"spark-nlp-display-entity-type\">AdmissionDischarge</span></span><span class=\"spark-nlp-display-others\" style=\"background-color: white\"> to the </span><span class=\"spark-nlp-display-entity-wrapper\" style=\"background-color: #93176E\"><span class=\"spark-nlp-display-entity-name\">hospital </span><span class=\"spark-nlp-display-entity-type\">ClinicalDept</span></span><span class=\"spark-nlp-display-others\" style=\"background-color: white\"> and just got </span><span class=\"spark-nlp-display-entity-wrapper\" style=\"background-color: #42C000\"><span class=\"spark-nlp-display-entity-name\">discharged </span><span class=\"spark-nlp-display-entity-type\">AdmissionDischarge</span></span><span class=\"spark-nlp-display-others\" style=\"background-color: white\"> </span><span class=\"spark-nlp-display-entity-wrapper\" style=\"background-color: #4C3BC2\"><span class=\"spark-nlp-display-entity-name\">recently </span><span class=\"spark-nlp-display-entity-type\">DateTime</span></span><span class=\"spark-nlp-display-others\" style=\"background-color: white\">. During my </span><span class=\"spark-nlp-display-entity-wrapper\" style=\"background-color: #93176E\"><span class=\"spark-nlp-display-entity-name\">hospital </span><span class=\"spark-nlp-display-entity-type\">ClinicalDept</span></span><span class=\"spark-nlp-display-others\" style=\"background-color: white\"> stay, a number of different tests were carried out by various </span><span class=\"spark-nlp-display-entity-wrapper\" style=\"background-color: #3A541F\"><span class=\"spark-nlp-display-entity-name\">physicians </span><span class=\"spark-nlp-display-entity-type\">Employment</span></span><span class=\"spark-nlp-display-others\" style=\"background-color: white\"> who initially struggled to pinpoint my actual medical condition. These tests included numerous </span><span class=\"spark-nlp-display-entity-wrapper\" style=\"background-color: #77b5fe\"><span class=\"spark-nlp-display-entity-name\">blood tests </span><span class=\"spark-nlp-display-entity-type\">Test</span></span><span class=\"spark-nlp-display-others\" style=\"background-color: white\">, a </span><span class=\"spark-nlp-display-entity-wrapper\" style=\"background-color: #AB701E\"><span class=\"spark-nlp-display-entity-name\">brain </span><span class=\"spark-nlp-display-entity-type\">BodyPart</span></span><span class=\"spark-nlp-display-others\" style=\"background-color: white\"> </span><span class=\"spark-nlp-display-entity-wrapper\" style=\"background-color: #77b5fe\"><span class=\"spark-nlp-display-entity-name\">MRI </span><span class=\"spark-nlp-display-entity-type\">Test</span></span><span class=\"spark-nlp-display-others\" style=\"background-color: white\">, an </span><span class=\"spark-nlp-display-entity-wrapper\" style=\"background-color: #77b5fe\"><span class=\"spark-nlp-display-entity-name\">ultrasound scan </span><span class=\"spark-nlp-display-entity-type\">Test</span></span><span class=\"spark-nlp-display-others\" style=\"background-color: white\">, and an </span><span class=\"spark-nlp-display-entity-wrapper\" style=\"background-color: #751F5D\"><span class=\"spark-nlp-display-entity-name\">endoscopy </span><span class=\"spark-nlp-display-entity-type\">Procedure</span></span><span class=\"spark-nlp-display-others\" style=\"background-color: white\">. At long last, I was examined by a </span><span class=\"spark-nlp-display-entity-wrapper\" style=\"background-color: #3A541F\"><span class=\"spark-nlp-display-entity-name\">homeopathic doctor </span><span class=\"spark-nlp-display-entity-type\">Employment</span></span><span class=\"spark-nlp-display-others\" style=\"background-color: white\"> who finally diagnosed me with </span><span class=\"spark-nlp-display-entity-wrapper\" style=\"background-color: #C10882\"><span class=\"spark-nlp-display-entity-name\">hyperthyroidism </span><span class=\"spark-nlp-display-entity-type\">Disease</span></span><span class=\"spark-nlp-display-others\" style=\"background-color: white\">, indicating my </span><span class=\"spark-nlp-display-entity-wrapper\" style=\"background-color: #77b5fe\"><span class=\"spark-nlp-display-entity-name\">TSH </span><span class=\"spark-nlp-display-entity-type\">Test</span></span><span class=\"spark-nlp-display-others\" style=\"background-color: white\"> level was at a </span><span class=\"spark-nlp-display-entity-wrapper\" style=\"background-color: #6A9938\"><span class=\"spark-nlp-display-entity-name\">low 0.15 </span><span class=\"spark-nlp-display-entity-type\">TestResult</span></span><span class=\"spark-nlp-display-others\" style=\"background-color: white\"> while my </span><span class=\"spark-nlp-display-entity-wrapper\" style=\"background-color: #77b5fe\"><span class=\"spark-nlp-display-entity-name\">T3 </span><span class=\"spark-nlp-display-entity-type\">Test</span></span><span class=\"spark-nlp-display-others\" style=\"background-color: white\"> and </span><span class=\"spark-nlp-display-entity-wrapper\" style=\"background-color: #77b5fe\"><span class=\"spark-nlp-display-entity-name\">T4 levels </span><span class=\"spark-nlp-display-entity-type\">Test</span></span><span class=\"spark-nlp-display-others\" style=\"background-color: white\"> were </span><span class=\"spark-nlp-display-entity-wrapper\" style=\"background-color: #6A9938\"><span class=\"spark-nlp-display-entity-name\">normal </span><span class=\"spark-nlp-display-entity-type\">TestResult</span></span><span class=\"spark-nlp-display-others\" style=\"background-color: white\">. Additionally, I was found to be </span><span class=\"spark-nlp-display-entity-wrapper\" style=\"background-color: #C10882\"><span class=\"spark-nlp-display-entity-name\">deficient </span><span class=\"spark-nlp-display-entity-type\">Disease</span></span><span class=\"spark-nlp-display-others\" style=\"background-color: white\"> in </span><span class=\"spark-nlp-display-entity-wrapper\" style=\"background-color: #8B668B\"><span class=\"spark-nlp-display-entity-name\">vitamins B12 </span><span class=\"spark-nlp-display-entity-type\">Drug</span></span><span class=\"spark-nlp-display-others\" style=\"background-color: white\"> and </span><span class=\"spark-nlp-display-entity-wrapper\" style=\"background-color: #8B668B\"><span class=\"spark-nlp-display-entity-name\">D </span><span class=\"spark-nlp-display-entity-type\">Drug</span></span><span class=\"spark-nlp-display-others\" style=\"background-color: white\">. Hence, I've been on a regimen of </span><span class=\"spark-nlp-display-entity-wrapper\" style=\"background-color: #8B668B\"><span class=\"spark-nlp-display-entity-name\">vitamin D supplements </span><span class=\"spark-nlp-display-entity-type\">Drug</span></span><span class=\"spark-nlp-display-others\" style=\"background-color: white\"> </span><span class=\"spark-nlp-display-entity-wrapper\" style=\"background-color: #BB5A5B\"><span class=\"spark-nlp-display-entity-name\">once a week </span><span class=\"spark-nlp-display-entity-type\">Frequency</span></span><span class=\"spark-nlp-display-others\" style=\"background-color: white\"> and a </span><span class=\"spark-nlp-display-entity-wrapper\" style=\"background-color: #BB5A5B\"><span class=\"spark-nlp-display-entity-name\">daily </span><span class=\"spark-nlp-display-entity-type\">Frequency</span></span><span class=\"spark-nlp-display-others\" style=\"background-color: white\"> dose of </span><span class=\"spark-nlp-display-entity-wrapper\" style=\"background-color: #146159\"><span class=\"spark-nlp-display-entity-name\">1000 mcg </span><span class=\"spark-nlp-display-entity-type\">Dosage</span></span><span class=\"spark-nlp-display-others\" style=\"background-color: white\"> of </span><span class=\"spark-nlp-display-entity-wrapper\" style=\"background-color: #8B668B\"><span class=\"spark-nlp-display-entity-name\">vitamin B12 </span><span class=\"spark-nlp-display-entity-type\">Drug</span></span><span class=\"spark-nlp-display-others\" style=\"background-color: white\">. I've been undergoing </span><span class=\"spark-nlp-display-entity-wrapper\" style=\"background-color: #8b6673\"><span class=\"spark-nlp-display-entity-name\">homeopathic treatment </span><span class=\"spark-nlp-display-entity-type\">Treatment</span></span><span class=\"spark-nlp-display-others\" style=\"background-color: white\"> for the last </span><span class=\"spark-nlp-display-entity-wrapper\" style=\"background-color: #19C85E\"><span class=\"spark-nlp-display-entity-name\">40 days </span><span class=\"spark-nlp-display-entity-type\">Duration</span></span><span class=\"spark-nlp-display-others\" style=\"background-color: white\"> and underwent a second test </span><span class=\"spark-nlp-display-entity-wrapper\" style=\"background-color: #4C3BC2\"><span class=\"spark-nlp-display-entity-name\">after a month </span><span class=\"spark-nlp-display-entity-type\">DateTime</span></span><span class=\"spark-nlp-display-others\" style=\"background-color: white\"> which showed my </span><span class=\"spark-nlp-display-entity-wrapper\" style=\"background-color: #77b5fe\"><span class=\"spark-nlp-display-entity-name\">TSH </span><span class=\"spark-nlp-display-entity-type\">Test</span></span><span class=\"spark-nlp-display-others\" style=\"background-color: white\"> level increased to </span><span class=\"spark-nlp-display-entity-wrapper\" style=\"background-color: #6A9938\"><span class=\"spark-nlp-display-entity-name\">0.5 </span><span class=\"spark-nlp-display-entity-type\">TestResult</span></span><span class=\"spark-nlp-display-others\" style=\"background-color: white\">. While I'm noticing a slight improvement in my feelings of </span><span class=\"spark-nlp-display-entity-wrapper\" style=\"background-color: #11448A\"><span class=\"spark-nlp-display-entity-name\">weakness </span><span class=\"spark-nlp-display-entity-type\">Symptom</span></span><span class=\"spark-nlp-display-others\" style=\"background-color: white\"> and </span><span class=\"spark-nlp-display-entity-wrapper\" style=\"background-color: #B22686\"><span class=\"spark-nlp-display-entity-name\">depression </span><span class=\"spark-nlp-display-entity-type\">PsychologicalCondition</span></span><span class=\"spark-nlp-display-others\" style=\"background-color: white\">, </span><span class=\"spark-nlp-display-entity-wrapper\" style=\"background-color: #19C85E\"><span class=\"spark-nlp-display-entity-name\">over the last week </span><span class=\"spark-nlp-display-entity-type\">Duration</span></span><span class=\"spark-nlp-display-others\" style=\"background-color: white\">, I've encountered two new challenges: </span><span class=\"spark-nlp-display-entity-wrapper\" style=\"background-color: #11448A\"><span class=\"spark-nlp-display-entity-name\">difficulty breathing </span><span class=\"spark-nlp-display-entity-type\">Symptom</span></span><span class=\"spark-nlp-display-others\" style=\"background-color: white\"> and a dramatically </span><span class=\"spark-nlp-display-entity-wrapper\" style=\"background-color: #6A9938\"><span class=\"spark-nlp-display-entity-name\">increased </span><span class=\"spark-nlp-display-entity-type\">TestResult</span></span><span class=\"spark-nlp-display-others\" style=\"background-color: white\"> </span><span class=\"spark-nlp-display-entity-wrapper\" style=\"background-color: #61173C\"><span class=\"spark-nlp-display-entity-name\">heart rate </span><span class=\"spark-nlp-display-entity-type\">VitalTest</span></span><span class=\"spark-nlp-display-others\" style=\"background-color: white\">. I'm </span><span class=\"spark-nlp-display-entity-wrapper\" style=\"background-color: #4C3BC2\"><span class=\"spark-nlp-display-entity-name\">now </span><span class=\"spark-nlp-display-entity-type\">DateTime</span></span><span class=\"spark-nlp-display-others\" style=\"background-color: white\"> at a crossroads where I am unsure if I should switch to </span><span class=\"spark-nlp-display-entity-wrapper\" style=\"background-color: #8b6673\"><span class=\"spark-nlp-display-entity-name\">allopathic treatment </span><span class=\"spark-nlp-display-entity-type\">Treatment</span></span><span class=\"spark-nlp-display-others\" style=\"background-color: white\"> or continue with </span><span class=\"spark-nlp-display-entity-wrapper\" style=\"background-color: #8b6673\"><span class=\"spark-nlp-display-entity-name\">homeopathy </span><span class=\"spark-nlp-display-entity-type\">Treatment</span></span><span class=\"spark-nlp-display-others\" style=\"background-color: white\">. I understand that </span><span class=\"spark-nlp-display-entity-wrapper\" style=\"background-color: #AB701E\"><span class=\"spark-nlp-display-entity-name\">thyroid </span><span class=\"spark-nlp-display-entity-type\">BodyPart</span></span><span class=\"spark-nlp-display-others\" style=\"background-color: white\"> conditions take a while to improve, but I'm wondering if both treatments would require the same duration for recovery. Several of my acquaintances have recommended transitioning to allopathy and warn against taking risks, given the potential of developing severe complications. Please forgive any errors in my English and thank you for your understanding.</span></div>"
      ],
      "text/plain": [
       "<IPython.core.display.HTML object>"
      ]
     },
     "metadata": {},
     "output_type": "display_data"
    }
   ],
   "source": [
    "visualiser.display(results[0], label_col='ner_chunk_vop')"
   ]
  },
  {
   "cell_type": "markdown",
   "metadata": {
    "application/vnd.databricks.v1+cell": {
     "cellMetadata": {},
     "inputWidgets": {},
     "nuid": "78e15448-9a59-485d-95af-d876be061eea",
     "showTitle": false,
     "tableResultSettingsMap": {},
     "title": ""
    }
   },
   "source": [
    "## Assertion Model"
   ]
  },
  {
   "cell_type": "markdown",
   "metadata": {
    "application/vnd.databricks.v1+cell": {
     "cellMetadata": {},
     "inputWidgets": {},
     "nuid": "cd30388f-3744-4c81-a3e6-42d5d831a294",
     "showTitle": false,
     "tableResultSettingsMap": {},
     "title": ""
    }
   },
   "source": [
    "<div align=\"center\">\n",
    "\n",
    "|    | model_name              |Predicted Entities|\n",
    "|---:|:------------------------|-|\n",
    "| 1        | [assertion_vop_clinical](https://nlp.johnsnowlabs.com/2023/08/17/assertion_vop_clinical_en.html)     | Hypothetical_Or_Absent, Present_Or_Past, SomeoneElse |\n",
    "| 2          | [assertion_vop_clinical_medium](https://nlp.johnsnowlabs.com/2023/08/17/assertion_vop_clinical_medium_en.html)       | Hypothetical_Or_Absent, Present_Or_Past, SomeoneElse |\n",
    "| 3          | [assertion_vop_clinical_large](https://nlp.johnsnowlabs.com/2023/08/17/assertion_vop_clinical_large_en.html)       | Hypothetical_Or_Absent, Present_Or_Past, SomeoneElse |\n",
    "|||\n",
    "\n",
    "\n",
    "</div>"
   ]
  },
  {
   "cell_type": "markdown",
   "metadata": {
    "application/vnd.databricks.v1+cell": {
     "cellMetadata": {},
     "inputWidgets": {},
     "nuid": "fc07acc7-63d4-4fd9-b41a-537aab21cd13",
     "showTitle": false,
     "tableResultSettingsMap": {},
     "title": ""
    }
   },
   "source": [
    "[Assertion status model](https://nlp.johnsnowlabs.com/2023/08/17/assertion_vop_clinical_en.html) used to predict if an NER chunk refers to a positive finding from the patient (Present_Or_Past), or if it refers to a family member or another person (SomeoneElse) or if it is mentioned but not as something present (Hypothetical_Or_Absent)."
   ]
  },
  {
   "cell_type": "code",
   "execution_count": 0,
   "metadata": {
    "application/vnd.databricks.v1+cell": {
     "cellMetadata": {
      "byteLimit": 2048000,
      "rowLimit": 10000
     },
     "inputWidgets": {},
     "nuid": "0dbb3f59-b7ca-4ba9-ae60-057a3f531084",
     "showTitle": false,
     "tableResultSettingsMap": {},
     "title": ""
    }
   },
   "outputs": [
    {
     "output_type": "stream",
     "name": "stdout",
     "output_type": "stream",
     "text": [
      "sentence_detector_dl_healthcare download started this may take some time.\nApproximate size to download 367.3 KB\n\r[ | ]\r[OK!]\nembeddings_clinical download started this may take some time.\nApproximate size to download 1.6 GB\n\r[ | ]\r[OK!]\nner_vop download started this may take some time.\n\r[ | ]\r[OK!]\nassertion_vop_clinical download started this may take some time.\n\r[ | ]\r[ / ]\r[ — ]\r[ \\ ]\r[ | ]\r[ / ]\r[ — ]\r[ \\ ]\r[ | ]\r[ / ]\r[ — ]\r[OK!]\n"
     ]
    }
   ],
   "source": [
    "document_assembler = nlp.DocumentAssembler()\\\n",
    "    .setInputCol(\"text\")\\\n",
    "    .setOutputCol(\"document\")\n",
    "\n",
    "sentence_detector = nlp.SentenceDetectorDLModel.pretrained(\"sentence_detector_dl_healthcare\", \"en\", \"clinical/models\")\\\n",
    "    .setInputCols([\"document\"])\\\n",
    "    .setOutputCol(\"sentence\")\n",
    "\n",
    "tokenizer = nlp.Tokenizer() \\\n",
    "    .setInputCols([\"sentence\"]) \\\n",
    "    .setOutputCol(\"token\")\n",
    "\n",
    "word_embeddings = nlp.WordEmbeddingsModel().pretrained(\"embeddings_clinical\", \"en\", \"clinical/models\")\\\n",
    "    .setInputCols([\"sentence\", \"token\"]) \\\n",
    "    .setOutputCol(\"embeddings\")\n",
    "\n",
    "ner = medical.NerModel.pretrained(\"ner_vop\", \"en\", \"clinical/models\") \\\n",
    "    .setInputCols([\"sentence\", \"token\", \"embeddings\"]) \\\n",
    "    .setOutputCol(\"ner\")\n",
    "\n",
    "ner_converter = medical.NerConverterInternal() \\\n",
    "    .setInputCols([\"sentence\", \"token\", \"ner\"]) \\\n",
    "    .setOutputCol(\"ner_chunk\")\\\n",
    "    .setBlackList(['DATETIME',  'GENDER', 'AGE', 'SUBSTANCEQUANTITY','FORM', 'ADMISSIONDISCHARGE', 'TESTRESULT', 'TEST',\n",
    "                  'MEDICALDEVICE','CLINICALDEPT','DRUG', 'ROUTE', 'DURATION',\"DOSAGE\",'FREQUENCY', 'BODYPART',\n",
    "                   ])\n",
    "\n",
    "assertion = medical.AssertionDLModel.pretrained(\"assertion_vop_clinical\", \"en\", \"clinical/models\") \\\n",
    "    .setInputCols([\"sentence\", \"ner_chunk\", \"embeddings\"]) \\\n",
    "    .setOutputCol(\"assertion\")\n",
    "\n",
    "pipeline = nlp.Pipeline(\n",
    "    stages=[\n",
    "        document_assembler,\n",
    "        sentence_detector,\n",
    "        tokenizer,\n",
    "        word_embeddings,\n",
    "        ner,\n",
    "        ner_converter,\n",
    "        assertion\n",
    "])\n",
    "\n",
    "empty_data = spark.createDataFrame([[\"\"]]).toDF(\"text\")\n",
    "\n",
    "asr_pipe = pipeline.fit(empty_data)"
   ]
  },
  {
   "cell_type": "code",
   "execution_count": 0,
   "metadata": {
    "application/vnd.databricks.v1+cell": {
     "cellMetadata": {
      "byteLimit": 2048000,
      "rowLimit": 10000
     },
     "inputWidgets": {},
     "nuid": "d7aa71d3-c6cc-4cf4-999b-cf0519dd7b3f",
     "showTitle": false,
     "tableResultSettingsMap": {},
     "title": ""
    }
   },
   "outputs": [
    {
     "output_type": "execute_result",
     "data": {
      "text/plain": [
       "['Hypothetical_Or_Absent', 'Present_Or_Past', 'SomeoneElse']"
      ]
     },
     "execution_count": 17,
     "metadata": {},
     "output_type": "execute_result"
    }
   ],
   "source": [
    "assertion.getClasses()"
   ]
  },
  {
   "cell_type": "code",
   "execution_count": 0,
   "metadata": {
    "application/vnd.databricks.v1+cell": {
     "cellMetadata": {
      "byteLimit": 2048000,
      "rowLimit": 10000
     },
     "inputWidgets": {},
     "nuid": "ece6be7b-b431-4de6-bc0f-afc1b5c91c5c",
     "showTitle": false,
     "tableResultSettingsMap": {},
     "title": ""
    }
   },
   "outputs": [],
   "source": [
    "sample_text = '''Hello, I am a 20-year-old woman who was diagnosed with hyperthyroidism around a month ago. For approximately four months, I've been experiencing symptoms such as feeling light-headed, battling poor digestion, dealing with anxiety attacks, depression, a sharp pain on my left side chest, an elevated heart rate, and a significant loss of weight. Due to these conditions, I was admitted to the hospital and just got discharged recently. During my hospital stay, a number of different tests were carried out by various physicians who initially struggled to pinpoint my actual medical condition. These tests included numerous blood tests, a brain MRI, an ultrasound scan, and an endoscopy. At long last, I was examined by a homeopathic doctor who finally diagnosed me with hyperthyroidism, indicating my TSH level was at a low 0.15 while my T3 and T4 levels were normal. Additionally, I was found to be deficient in vitamins B12 and D. Hence, I've been on a regimen of vitamin D supplements once a week and a daily dose of 1000 mcg of vitamin B12. I've been undergoing homeopathic treatment for the last 40 days and underwent a second test after a month which showed my TSH level increased to 0.5. While I'm noticing a slight improvement in my feelings of weakness and depression, over the last week, I've encountered two new challenges: difficulty breathing and a dramatically increased heart rate. I'm now at a crossroads where I am unsure if I should switch to allopathic treatment or continue with homeopathy. I understand that thyroid conditions take a while to improve, but I'm wondering if both treatments would require the same duration for recovery. Several of my acquaintances have recommended transitioning to allopathy and warn against taking risks, given the potential of developing severe complications. Please forgive any errors in my English and thank you for your understanding.'''\n",
    "\n",
    "lp = nlp.LightPipeline(asr_pipe)\n",
    "\n",
    "lr = lp.fullAnnotate([sample_text])[0]"
   ]
  },
  {
   "cell_type": "code",
   "execution_count": 0,
   "metadata": {
    "application/vnd.databricks.v1+cell": {
     "cellMetadata": {
      "byteLimit": 2048000,
      "rowLimit": 10000
     },
     "inputWidgets": {},
     "nuid": "1c849a55-eb5c-4e3f-97f6-cccef4acd5cc",
     "showTitle": false,
     "tableResultSettingsMap": {},
     "title": ""
    }
   },
   "outputs": [
    {
     "output_type": "display_data",
     "data": {
      "text/html": [
       "\n",
       "<style>\n",
       "    @import url('https://fonts.googleapis.com/css2?family=Montserrat:wght@300;400;500;600;700&display=swap');\n",
       "    @import url('https://fonts.googleapis.com/css2?family=Vistol Regular:wght@300;400;500;600;700&display=swap');\n",
       "    \n",
       "    .spark-nlp-display-scroll-entities {\n",
       "        border: 1px solid #E7EDF0;\n",
       "        border-radius: 3px;\n",
       "        text-align: justify;\n",
       "        \n",
       "    }\n",
       "    .spark-nlp-display-scroll-entities span {  \n",
       "        font-size: 14px;\n",
       "        line-height: 24px;\n",
       "        color: #536B76;\n",
       "        font-family: 'Montserrat', sans-serif !important;\n",
       "    }\n",
       "    \n",
       "    .spark-nlp-display-entity-wrapper{\n",
       "    \n",
       "        display: inline-grid;\n",
       "        text-align: center;\n",
       "        border-radius: 4px;\n",
       "        margin: 0 2px 5px 2px;\n",
       "        padding: 1px\n",
       "    }\n",
       "    .spark-nlp-display-entity-name{\n",
       "        font-size: 14px;\n",
       "        line-height: 24px;\n",
       "        font-family: 'Montserrat', sans-serif !important;\n",
       "        \n",
       "        background: #f1f2f3;\n",
       "        border-width: medium;\n",
       "        text-align: center;\n",
       "        \n",
       "        font-weight: 400;\n",
       "        \n",
       "        border-radius: 5px;\n",
       "        padding: 2px 5px;\n",
       "        display: block;\n",
       "        margin: 3px 2px;\n",
       "    \n",
       "    }\n",
       "    .spark-nlp-display-entity-type{\n",
       "        font-size: 14px;\n",
       "        line-height: 24px;\n",
       "        color: #ffffff;\n",
       "        font-family: 'Montserrat', sans-serif !important;\n",
       "        \n",
       "        text-transform: uppercase;\n",
       "        \n",
       "        font-weight: 500;\n",
       "\n",
       "        display: block;\n",
       "        padding: 3px 5px;\n",
       "    }\n",
       "    \n",
       "    .spark-nlp-display-entity-resolution{\n",
       "        font-size: 14px;\n",
       "        line-height: 24px;\n",
       "        color: #ffffff;\n",
       "        font-family: 'Vistol Regular', sans-serif !important;\n",
       "        \n",
       "        text-transform: uppercase;\n",
       "        \n",
       "        font-weight: 500;\n",
       "\n",
       "        display: block;\n",
       "        padding: 3px 5px;\n",
       "    }\n",
       "    \n",
       "    .spark-nlp-display-others{\n",
       "        font-size: 14px;\n",
       "        line-height: 24px;\n",
       "        font-family: 'Montserrat', sans-serif !important;\n",
       "        \n",
       "        font-weight: 400;\n",
       "    }\n",
       "\n",
       "</style>\n",
       " <span class=\"spark-nlp-display-others\" style=\"background-color: white\">Hello, I am a 20-year-old woman who was diagnosed with </span><span class=\"spark-nlp-display-entity-wrapper\" style=\"background-color: #288745B3\"><span class=\"spark-nlp-display-entity-name\">hyperthyroidism </span><span class=\"spark-nlp-display-entity-type\">Disease</span><span class=\"spark-nlp-display-entity-resolution\" style=\"background-color: #288745FF\">Present_Or_Past </span></span><span class=\"spark-nlp-display-others\" style=\"background-color: white\"> around a month ago. For approximately four months, I've been experiencing symptoms such as feeling </span><span class=\"spark-nlp-display-entity-wrapper\" style=\"background-color: #0F2011B3\"><span class=\"spark-nlp-display-entity-name\">light-headed </span><span class=\"spark-nlp-display-entity-type\">Symptom</span><span class=\"spark-nlp-display-entity-resolution\" style=\"background-color: #0F2011FF\">Present_Or_Past </span></span><span class=\"spark-nlp-display-others\" style=\"background-color: white\">, battling poor digestion, dealing with </span><span class=\"spark-nlp-display-entity-wrapper\" style=\"background-color: #620B0AB3\"><span class=\"spark-nlp-display-entity-name\">anxiety attacks </span><span class=\"spark-nlp-display-entity-type\">PsychologicalCondition</span><span class=\"spark-nlp-display-entity-resolution\" style=\"background-color: #620B0AFF\">Present_Or_Past </span></span><span class=\"spark-nlp-display-others\" style=\"background-color: white\">, </span><span class=\"spark-nlp-display-entity-wrapper\" style=\"background-color: #620B0AB3\"><span class=\"spark-nlp-display-entity-name\">depression </span><span class=\"spark-nlp-display-entity-type\">PsychologicalCondition</span><span class=\"spark-nlp-display-entity-resolution\" style=\"background-color: #620B0AFF\">Present_Or_Past </span></span><span class=\"spark-nlp-display-others\" style=\"background-color: white\">, a </span><span class=\"spark-nlp-display-entity-wrapper\" style=\"background-color: #8B475DB3\"><span class=\"spark-nlp-display-entity-name\">sharp </span><span class=\"spark-nlp-display-entity-type\">Modifier</span><span class=\"spark-nlp-display-entity-resolution\" style=\"background-color: #8B475DFF\">Present_Or_Past </span></span><span class=\"spark-nlp-display-others\" style=\"background-color: white\"> </span><span class=\"spark-nlp-display-entity-wrapper\" style=\"background-color: #0F2011B3\"><span class=\"spark-nlp-display-entity-name\">pain </span><span class=\"spark-nlp-display-entity-type\">Symptom</span><span class=\"spark-nlp-display-entity-resolution\" style=\"background-color: #0F2011FF\">Present_Or_Past </span></span><span class=\"spark-nlp-display-others\" style=\"background-color: white\"> on my </span><span class=\"spark-nlp-display-entity-wrapper\" style=\"background-color: #A3504AB3\"><span class=\"spark-nlp-display-entity-name\">left side </span><span class=\"spark-nlp-display-entity-type\">Laterality</span><span class=\"spark-nlp-display-entity-resolution\" style=\"background-color: #A3504AFF\">Present_Or_Past </span></span><span class=\"spark-nlp-display-others\" style=\"background-color: white\"> chest, an elevated </span><span class=\"spark-nlp-display-entity-wrapper\" style=\"background-color: #7B5488B3\"><span class=\"spark-nlp-display-entity-name\">heart rate </span><span class=\"spark-nlp-display-entity-type\">VitalTest</span><span class=\"spark-nlp-display-entity-resolution\" style=\"background-color: #7B5488FF\">Present_Or_Past </span></span><span class=\"spark-nlp-display-others\" style=\"background-color: white\">, and a </span><span class=\"spark-nlp-display-entity-wrapper\" style=\"background-color: #8B475DB3\"><span class=\"spark-nlp-display-entity-name\">significant </span><span class=\"spark-nlp-display-entity-type\">Modifier</span><span class=\"spark-nlp-display-entity-resolution\" style=\"background-color: #8B475DFF\">Present_Or_Past </span></span><span class=\"spark-nlp-display-others\" style=\"background-color: white\"> </span><span class=\"spark-nlp-display-entity-wrapper\" style=\"background-color: #0F2011B3\"><span class=\"spark-nlp-display-entity-name\">loss of weight </span><span class=\"spark-nlp-display-entity-type\">Symptom</span><span class=\"spark-nlp-display-entity-resolution\" style=\"background-color: #0F2011FF\">Hypothetical_Or_Absent </span></span><span class=\"spark-nlp-display-others\" style=\"background-color: white\">. Due to these conditions, I was admitted to the hospital and just got discharged recently. During my hospital stay, a number of different tests were carried out by various </span><span class=\"spark-nlp-display-entity-wrapper\" style=\"background-color: #16B89EB3\"><span class=\"spark-nlp-display-entity-name\">physicians </span><span class=\"spark-nlp-display-entity-type\">Employment</span><span class=\"spark-nlp-display-entity-resolution\" style=\"background-color: #16B89EFF\">SomeoneElse </span></span><span class=\"spark-nlp-display-others\" style=\"background-color: white\"> who initially struggled to pinpoint my actual medical condition. These tests included numerous blood tests, a brain MRI, an ultrasound scan, and an </span><span class=\"spark-nlp-display-entity-wrapper\" style=\"background-color: #803544B3\"><span class=\"spark-nlp-display-entity-name\">endoscopy </span><span class=\"spark-nlp-display-entity-type\">Procedure</span><span class=\"spark-nlp-display-entity-resolution\" style=\"background-color: #803544FF\">Present_Or_Past </span></span><span class=\"spark-nlp-display-others\" style=\"background-color: white\">. At long last, I was examined by a </span><span class=\"spark-nlp-display-entity-wrapper\" style=\"background-color: #16B89EB3\"><span class=\"spark-nlp-display-entity-name\">homeopathic doctor </span><span class=\"spark-nlp-display-entity-type\">Employment</span><span class=\"spark-nlp-display-entity-resolution\" style=\"background-color: #16B89EFF\">SomeoneElse </span></span><span class=\"spark-nlp-display-others\" style=\"background-color: white\"> who finally diagnosed me with </span><span class=\"spark-nlp-display-entity-wrapper\" style=\"background-color: #288745B3\"><span class=\"spark-nlp-display-entity-name\">hyperthyroidism </span><span class=\"spark-nlp-display-entity-type\">Disease</span><span class=\"spark-nlp-display-entity-resolution\" style=\"background-color: #288745FF\">Present_Or_Past </span></span><span class=\"spark-nlp-display-others\" style=\"background-color: white\">, indicating my TSH level was at a low 0.15 while my T3 and T4 levels were normal. Additionally, I was found to be </span><span class=\"spark-nlp-display-entity-wrapper\" style=\"background-color: #288745B3\"><span class=\"spark-nlp-display-entity-name\">deficient </span><span class=\"spark-nlp-display-entity-type\">Disease</span><span class=\"spark-nlp-display-entity-resolution\" style=\"background-color: #288745FF\">Hypothetical_Or_Absent </span></span><span class=\"spark-nlp-display-others\" style=\"background-color: white\"> in vitamins B12 and D. Hence, I've been on a regimen of vitamin D supplements once a week and a daily dose of 1000 mcg of vitamin B12. I've been undergoing </span><span class=\"spark-nlp-display-entity-wrapper\" style=\"background-color: #8b6673B3\"><span class=\"spark-nlp-display-entity-name\">homeopathic treatment </span><span class=\"spark-nlp-display-entity-type\">Treatment</span><span class=\"spark-nlp-display-entity-resolution\" style=\"background-color: #8b6673FF\">Present_Or_Past </span></span><span class=\"spark-nlp-display-others\" style=\"background-color: white\"> for the last 40 days and underwent a second test after a month which showed my TSH level increased to 0.5. While I'm noticing a slight improvement in my feelings of </span><span class=\"spark-nlp-display-entity-wrapper\" style=\"background-color: #0F2011B3\"><span class=\"spark-nlp-display-entity-name\">weakness </span><span class=\"spark-nlp-display-entity-type\">Symptom</span><span class=\"spark-nlp-display-entity-resolution\" style=\"background-color: #0F2011FF\">Present_Or_Past </span></span><span class=\"spark-nlp-display-others\" style=\"background-color: white\"> and </span><span class=\"spark-nlp-display-entity-wrapper\" style=\"background-color: #620B0AB3\"><span class=\"spark-nlp-display-entity-name\">depression </span><span class=\"spark-nlp-display-entity-type\">PsychologicalCondition</span><span class=\"spark-nlp-display-entity-resolution\" style=\"background-color: #620B0AFF\">Present_Or_Past </span></span><span class=\"spark-nlp-display-others\" style=\"background-color: white\">, over the last week, I've encountered two new challenges: </span><span class=\"spark-nlp-display-entity-wrapper\" style=\"background-color: #0F2011B3\"><span class=\"spark-nlp-display-entity-name\">difficulty breathing </span><span class=\"spark-nlp-display-entity-type\">Symptom</span><span class=\"spark-nlp-display-entity-resolution\" style=\"background-color: #0F2011FF\">Present_Or_Past </span></span><span class=\"spark-nlp-display-others\" style=\"background-color: white\"> and a dramatically increased </span><span class=\"spark-nlp-display-entity-wrapper\" style=\"background-color: #7B5488B3\"><span class=\"spark-nlp-display-entity-name\">heart rate </span><span class=\"spark-nlp-display-entity-type\">VitalTest</span><span class=\"spark-nlp-display-entity-resolution\" style=\"background-color: #7B5488FF\">Present_Or_Past </span></span><span class=\"spark-nlp-display-others\" style=\"background-color: white\">. I'm now at a crossroads where I am unsure if I should switch to </span><span class=\"spark-nlp-display-entity-wrapper\" style=\"background-color: #8b6673B3\"><span class=\"spark-nlp-display-entity-name\">allopathic treatment </span><span class=\"spark-nlp-display-entity-type\">Treatment</span><span class=\"spark-nlp-display-entity-resolution\" style=\"background-color: #8b6673FF\">Hypothetical_Or_Absent </span></span><span class=\"spark-nlp-display-others\" style=\"background-color: white\"> or continue with </span><span class=\"spark-nlp-display-entity-wrapper\" style=\"background-color: #8b6673B3\"><span class=\"spark-nlp-display-entity-name\">homeopathy </span><span class=\"spark-nlp-display-entity-type\">Treatment</span><span class=\"spark-nlp-display-entity-resolution\" style=\"background-color: #8b6673FF\">Hypothetical_Or_Absent </span></span><span class=\"spark-nlp-display-others\" style=\"background-color: white\">. I understand that thyroid conditions take a while to improve, but I'm wondering if both treatments would require the same duration for recovery. Several of my acquaintances have recommended transitioning to allopathy and warn against taking risks, given the potential of developing severe complications. Please forgive any errors in my English and thank you for your understanding.</span></div>"
      ],
      "text/plain": [
       "<IPython.core.display.HTML object>"
      ]
     },
     "metadata": {},
     "output_type": "display_data"
    }
   ],
   "source": [
    "vis = nlp.viz.AssertionVisualizer()\n",
    "\n",
    "vis.display(lr, 'ner_chunk', 'assertion')"
   ]
  },
  {
   "cell_type": "markdown",
   "metadata": {
    "application/vnd.databricks.v1+cell": {
     "cellMetadata": {},
     "inputWidgets": {},
     "nuid": "9b8e820f-7dd2-416e-9138-3540b7f16d5c",
     "showTitle": false,
     "tableResultSettingsMap": {},
     "title": ""
    },
    "id": "Cq_3uvACkEQu"
   },
   "source": [
    "## Classification Model"
   ]
  },
  {
   "cell_type": "code",
   "execution_count": 0,
   "metadata": {
    "application/vnd.databricks.v1+cell": {
     "cellMetadata": {
      "byteLimit": 2048000,
      "rowLimit": 10000
     },
     "inputWidgets": {},
     "nuid": "44c5959d-0960-4419-bd40-124e7331638f",
     "showTitle": false,
     "tableResultSettingsMap": {},
     "title": ""
    },
    "colab": {
     "base_uri": "https://localhost:8080/"
    },
    "executionInfo": {
     "elapsed": 52702,
     "status": "ok",
     "timestamp": 1688668106528,
     "user": {
      "displayName": "Vildan Sarıkaya",
      "userId": "07789644790967768983"
     },
     "user_tz": 240
    },
    "id": "SOxVBXh_kHpV",
    "outputId": "97d8bc0c-588a-44e9-b05e-0268cd9b2698"
   },
   "outputs": [
    {
     "output_type": "stream",
     "name": "stdout",
     "output_type": "stream",
     "text": [
      "bert_sequence_classifier_vop_side_effect download started this may take some time.\n\r[ | ]\r[ / ]\r[ — ]\r[ \\ ]\r[ | ]\r[ / ]\r[ — ]\r[ \\ ]\r[ | ]\r[ / ]\r[ — ]\r[ \\ ]\r[ | ]\r[ / ]\r[ — ]\r[ \\ ]\r[ | ]\r[ / ]\r[ — ]\r[ \\ ]\r[ | ]\r[ / ]\r[ — ]\r[ \\ ]\r[ | ]\r[ / ]\r[ — ]\r[ \\ ]\r[ | ]\r[ / ]\r[ — ]\r[ \\ ]\r[ | ]\r[ / ]\r[ — ]\r[ \\ ]\r[ | ]\r[ / ]\r[ — ]\r[ \\ ]\r[ | ]\r[OK!]\n"
     ]
    }
   ],
   "source": [
    "document_assembler = nlp.DocumentAssembler() \\\n",
    "    .setInputCol('text') \\\n",
    "    .setOutputCol('document')\n",
    "\n",
    "tokenizer = nlp.Tokenizer() \\\n",
    "    .setInputCols(['document']) \\\n",
    "    .setOutputCol('token')\n",
    "\n",
    "sequenceClassifier = medical.BertForSequenceClassification.pretrained(\"bert_sequence_classifier_vop_side_effect\", \"en\", \"clinical/models\")\\\n",
    "    .setInputCols([\"document\",'token'])\\\n",
    "    .setOutputCol(\"prediction\")\n",
    "\n",
    "pipeline = nlp.Pipeline(stages=[\n",
    "    document_assembler,\n",
    "    tokenizer,\n",
    "    sequenceClassifier\n",
    "])\n",
    "\n",
    "empty_data = spark.createDataFrame([[\"\"]]).toDF(\"text\")\n",
    "\n",
    "model = pipeline.fit(empty_data)"
   ]
  },
  {
   "cell_type": "code",
   "execution_count": 0,
   "metadata": {
    "application/vnd.databricks.v1+cell": {
     "cellMetadata": {
      "byteLimit": 2048000,
      "rowLimit": 10000
     },
     "inputWidgets": {},
     "nuid": "821f93ae-cfd6-4d24-9327-a1643eea116c",
     "showTitle": false,
     "tableResultSettingsMap": {},
     "title": ""
    },
    "id": "UV7vVXyXBHcq"
   },
   "outputs": [],
   "source": [
    "sample_text = '''Hello, folks! Recently, my physician prescribed a medication named \"SereniCalm\" for my stress issues, but instead of soothing my nerves, it transformed me into a sluggish, apathetic shadow. I found myself roaming about as if I was running on severe sleep deprivation, devoid of any emotions or vitality. It was as though my mind was stuck in a perpetual state of standby. Certainly not the kind of stress relief I was expecting, right?'''"
   ]
  },
  {
   "cell_type": "code",
   "execution_count": 0,
   "metadata": {
    "application/vnd.databricks.v1+cell": {
     "cellMetadata": {
      "byteLimit": 2048000,
      "rowLimit": 10000
     },
     "inputWidgets": {},
     "nuid": "d3d027df-c7b6-4dcc-96c3-5b26310fa5ee",
     "showTitle": false,
     "tableResultSettingsMap": {},
     "title": ""
    },
    "id": "pgJHZU8AkHsE"
   },
   "outputs": [],
   "source": [
    "classification_data = spark.createDataFrame(pd.DataFrame([sample_text], columns = ['text']))"
   ]
  },
  {
   "cell_type": "code",
   "execution_count": 0,
   "metadata": {
    "application/vnd.databricks.v1+cell": {
     "cellMetadata": {
      "byteLimit": 2048000,
      "rowLimit": 10000
     },
     "inputWidgets": {},
     "nuid": "8c77cd7b-9614-4a82-80c6-aa1d3f1f9d9d",
     "showTitle": false,
     "tableResultSettingsMap": {},
     "title": ""
    },
    "id": "g3wko9HrkHu4"
   },
   "outputs": [],
   "source": [
    "classification_results = model.transform(classification_data)"
   ]
  },
  {
   "cell_type": "code",
   "execution_count": 0,
   "metadata": {
    "application/vnd.databricks.v1+cell": {
     "cellMetadata": {
      "byteLimit": 2048000,
      "rowLimit": 10000
     },
     "inputWidgets": {},
     "nuid": "3b8410af-7359-4ae2-a362-c297a725ecb1",
     "showTitle": false,
     "tableResultSettingsMap": {},
     "title": ""
    },
    "colab": {
     "base_uri": "https://localhost:8080/"
    },
    "executionInfo": {
     "elapsed": 6518,
     "status": "ok",
     "timestamp": 1688668113815,
     "user": {
      "displayName": "Vildan Sarıkaya",
      "userId": "07789644790967768983"
     },
     "user_tz": 240
    },
    "id": "VhoISsrW1Wx9",
    "outputId": "51445647-a73b-4d2f-a8a4-2a3499b81c14"
   },
   "outputs": [
    {
     "output_type": "stream",
     "name": "stdout",
     "output_type": "stream",
     "text": [
      "+---------------------------------------------------------------------------------------------------------------------------------------------------------------------------------------------------------------------------------------------------------------------------------------------------------------------------------------------------------------------------------------------------------------------------------------------------+-------+\n|text                                                                                                                                                                                                                                                                                                                                                                                                                                               |result |\n+---------------------------------------------------------------------------------------------------------------------------------------------------------------------------------------------------------------------------------------------------------------------------------------------------------------------------------------------------------------------------------------------------------------------------------------------------+-------+\n|Hello, folks! Recently, my physician prescribed a medication named \"SereniCalm\" for my stress issues, but instead of soothing my nerves, it transformed me into a sluggish, apathetic shadow. I found myself roaming about as if I was running on severe sleep deprivation, devoid of any emotions or vitality. It was as though my mind was stuck in a perpetual state of standby. Certainly not the kind of stress relief I was expecting, right?|[False]|\n+---------------------------------------------------------------------------------------------------------------------------------------------------------------------------------------------------------------------------------------------------------------------------------------------------------------------------------------------------------------------------------------------------------------------------------------------------+-------+\n\n"
     ]
    }
   ],
   "source": [
    "classification_results.select(\"text\", \"prediction.result\").show(truncate=False)"
   ]
  },
  {
   "cell_type": "markdown",
   "metadata": {
    "application/vnd.databricks.v1+cell": {
     "cellMetadata": {},
     "inputWidgets": {},
     "nuid": "34de6975-7c29-4f0b-8437-96dab4d33867",
     "showTitle": false,
     "tableResultSettingsMap": {},
     "title": ""
    },
    "id": "0pWS0b3Ao54l"
   },
   "source": [
    "## Pretrained NER Profiling Pipelines\n",
    "\n",
    "We can use pretrained NER profiling pipelines for exploring all the available pretrained NER models at once.\n",
    "\n",
    "- `ner_profiling_vop` : Returns results for vop NER models.\n",
    "\n",
    "For more examples, please check [this notebook](https://github.com/JohnSnowLabs/spark-nlp-workshop/blob/master/tutorials/Certification_Trainings/Healthcare/11.2.Pretrained_NER_Profiling_Pipelines.ipynb).\n",
    "\n",
    "\n",
    "\n"
   ]
  },
  {
   "cell_type": "markdown",
   "metadata": {
    "application/vnd.databricks.v1+cell": {
     "cellMetadata": {},
     "inputWidgets": {},
     "nuid": "7f118ff9-7efe-4891-ab39-ec2f0a505158",
     "showTitle": false,
     "tableResultSettingsMap": {},
     "title": ""
    },
    "id": "xioQ14GDpWto"
   },
   "source": [
    "<center><b>NER Profiling VOP Model List</b>\n",
    "\n",
    "|| | | |\n",
    "|--------------|-----------------|-----------------|-----------------|\n",
    "| ner_vop_clinical_dept | ner_vop_temporal | ner_vop_test |\n",
    "| ner_vop | ner_vop_problem | ner_vop_problem_reduced | ner_vop_treatment |\n",
    "| ner_vop_demographic | ner_vop_anatomy |\n",
    "\n",
    "\n",
    "\n",
    "</center>"
   ]
  },
  {
   "cell_type": "code",
   "execution_count": 0,
   "metadata": {
    "application/vnd.databricks.v1+cell": {
     "cellMetadata": {
      "byteLimit": 2048000,
      "rowLimit": 10000
     },
     "inputWidgets": {},
     "nuid": "637edd0a-3d03-4f3e-addf-ac041e5037d3",
     "showTitle": false,
     "tableResultSettingsMap": {},
     "title": ""
    },
    "colab": {
     "base_uri": "https://localhost:8080/"
    },
    "executionInfo": {
     "elapsed": 205267,
     "status": "ok",
     "timestamp": 1688668319066,
     "user": {
      "displayName": "Vildan Sarıkaya",
      "userId": "07789644790967768983"
     },
     "user_tz": 240
    },
    "id": "z1aAR3vjo5av",
    "outputId": "e049a2a9-32f9-4380-905c-6581adc34c39"
   },
   "outputs": [
    {
     "output_type": "stream",
     "name": "stdout",
     "output_type": "stream",
     "text": [
      "ner_profiling_vop download started this may take some time.\nApprox size to download 1.8 GB\n\r[ | ]\r[ / ]\r[OK!]\n"
     ]
    }
   ],
   "source": [
    "vop_profiling_pipeline = nlp.PretrainedPipeline(\"ner_profiling_vop\", \"en\", \"clinical/models\")"
   ]
  },
  {
   "cell_type": "code",
   "execution_count": 0,
   "metadata": {
    "application/vnd.databricks.v1+cell": {
     "cellMetadata": {
      "byteLimit": 2048000,
      "rowLimit": 10000
     },
     "inputWidgets": {},
     "nuid": "2b441272-1198-4da2-b56e-0805ac21c6e0",
     "showTitle": false,
     "tableResultSettingsMap": {},
     "title": ""
    },
    "id": "EPrpAUIcp3CK"
   },
   "outputs": [],
   "source": [
    "text = \"\"\"Hello, I am a 20-year-old woman who was diagnosed with hyperthyroidism around a month ago.For approximately four months, I've been experiencing symptoms such as feeling light-headed, battling poor digestion, dealing with anxiety attacks, depression, a sharp pain on my left side chest, an elevated heart rate, and a significant loss of weight. Due to these conditions, I was admitted to the hospital and just got discharged recently.\"\"\""
   ]
  },
  {
   "cell_type": "code",
   "execution_count": 0,
   "metadata": {
    "application/vnd.databricks.v1+cell": {
     "cellMetadata": {
      "byteLimit": 2048000,
      "rowLimit": 10000
     },
     "inputWidgets": {},
     "nuid": "1777454b-31c3-4992-85bc-75bb1a6948d3",
     "showTitle": false,
     "tableResultSettingsMap": {},
     "title": ""
    },
    "colab": {
     "base_uri": "https://localhost:8080/"
    },
    "executionInfo": {
     "elapsed": 8941,
     "status": "ok",
     "timestamp": 1688669895650,
     "user": {
      "displayName": "Vildan Sarıkaya",
      "userId": "07789644790967768983"
     },
     "user_tz": 240
    },
    "id": "Rxx09-qQqCya",
    "outputId": "97e62be3-44ee-4077-e089-b79a25b2c5d1"
   },
   "outputs": [
    {
     "output_type": "execute_result",
     "data": {
      "text/plain": [
       "dict_keys(['ner_chunk_vop_problem_reduced', 'vop_clinical_dept_langtest_ner', 'vop_ner', 'ner_chunk_jsl_greedy', 'vop_problem_ner', 'vop_problem_reduced_langtest_ner', 'ner_chunk_jsl_enriched', 'vop_langtest_ner', 'vop_treatment_langtest_ner', 'document', 'ner_chunk_jsl_slim', 'jsl_langtest_ner', 'vop_temporal_langtest_ner', 'ner_chunk_vop_problem_reduced_langtest', 'vop_test_ner', 'jsl_greedy_ner', 'vop_demographic_ner', 'vop_anatomy_langtest_ner', 'ner_chunk_vop_clinical_dept_ner', 'ner_chunk_vop_problem', 'jsl_enriched_ner', 'ner_chunk_vop', 'ner_chunk_vop_clinical_dept_langtest_ner', 'ner_chunk_jsl', 'ner_chunk_vop_anatomy', 'ner_chunk_vop_langtest', 'ner_chunk_vop_treatment_langtest', 'vop_problem_langtest_ner', 'jsl_slim_ner', 'vop_anatomy_ner', 'jsl_ner', 'ner_chunk_vop_test_langtest_ner', 'vop_temporal_ner', 'ner_chunk_vop_test_ner', 'ner_chunk_vop_treatment', 'token', 'vop_test_langtest_ner', 'vop_problem_reduced_ner', 'vop_treatment_ner', 'ner_chunk_vop_temporal', 'ner_chunk_vop_temporal_langtest', 'ner_chunk_vop_anatomy_langtest', 'embeddings', 'ner_chunk_jsl_langtest', 'ner_chunk_vop_demographic', 'ner_chunk_vop_problem_langtest', 'vop_clinical_dept_ner', 'sentence'])"
      ]
     },
     "execution_count": 14,
     "metadata": {},
     "output_type": "execute_result"
    }
   ],
   "source": [
    "vop_result = vop_profiling_pipeline.fullAnnotate(text)[0]\n",
    "vop_result.keys()"
   ]
  },
  {
   "cell_type": "code",
   "execution_count": 0,
   "metadata": {
    "application/vnd.databricks.v1+cell": {
     "cellMetadata": {
      "byteLimit": 2048000,
      "rowLimit": 10000
     },
     "inputWidgets": {},
     "nuid": "cbce6303-fe0b-4415-a125-1d3db17384dd",
     "showTitle": false,
     "tableResultSettingsMap": {},
     "title": ""
    },
    "id": "L3yL6L7ZqEfI"
   },
   "outputs": [],
   "source": [
    "def get_token_results(light_result):\n",
    "\n",
    "    tokens = [j.result for j in light_result[\"token\"]]\n",
    "    sentences = [j.metadata[\"sentence\"] for j in light_result[\"token\"]]\n",
    "    begins = [j.begin for j in light_result[\"token\"]]\n",
    "    ends = [j.end for j in light_result[\"token\"]]\n",
    "    model_list = [ a for a in light_result.keys() if (a not in [\"sentence\", \"token\"] and \"_chunks\" not in a)]\n",
    "\n",
    "    df = pd.DataFrame({'sentence':sentences, 'begin': begins, 'end': ends, 'token':tokens})\n",
    "\n",
    "    for model_name in model_list:\n",
    "\n",
    "        temp_df = pd.DataFrame(light_result[model_name])\n",
    "        temp_df[\"jsl_label\"] = temp_df.iloc[:,0].apply(lambda x : x.result)\n",
    "        temp_df = temp_df[[\"jsl_label\"]]\n",
    "\n",
    "        # temp_df = get_ner_result(model_name)\n",
    "        temp_df.columns = [model_name]\n",
    "        df = pd.concat([df, temp_df], axis=1)\n",
    "\n",
    "    # Filter columns to include only sentence, begin, end, token and all columns that start with 'ner_vop'\n",
    "    filtered_df = df.loc[:, ['sentence', 'begin', 'end', 'token'] + [col for col in df.columns if col.startswith('ner_vop')]]\n",
    "\n",
    "    return filtered_df"
   ]
  },
  {
   "cell_type": "code",
   "execution_count": 0,
   "metadata": {
    "application/vnd.databricks.v1+cell": {
     "cellMetadata": {
      "byteLimit": 2048000,
      "rowLimit": 10000
     },
     "inputWidgets": {},
     "nuid": "7a495b86-aa8c-414c-b4d2-7042b2d40526",
     "showTitle": false,
     "tableResultSettingsMap": {},
     "title": ""
    }
   },
   "outputs": [],
   "source": [
    "from sparknlp_jsl.pipeline_tracer import PipelineTracer"
   ]
  },
  {
   "cell_type": "code",
   "execution_count": 0,
   "metadata": {
    "application/vnd.databricks.v1+cell": {
     "cellMetadata": {
      "byteLimit": 2048000,
      "rowLimit": 10000
     },
     "inputWidgets": {},
     "nuid": "5f1cbb77-e148-43c7-99e9-de95f33ad788",
     "showTitle": false,
     "tableResultSettingsMap": {},
     "title": ""
    }
   },
   "outputs": [
    {
     "output_type": "execute_result",
     "data": {
      "text/plain": [
       "{'document_identifier': '',\n",
       " 'document_text': 'document',\n",
       " 'entities': ['ner_chunk_vop'],\n",
       " 'assertions': [],\n",
       " 'resolutions': [],\n",
       " 'relations': [],\n",
       " 'summaries': [],\n",
       " 'deidentifications': [],\n",
       " 'classifications': []}"
      ]
     },
     "execution_count": 18,
     "metadata": {},
     "output_type": "execute_result"
    }
   ],
   "source": [
    "pipeline_tracer = PipelineTracer(vop_profiling_pipeline)\n",
    "\n",
    "column_maps = pipeline_tracer.createParserDictionary()\n",
    "\n",
    "column_maps"
   ]
  },
  {
   "cell_type": "code",
   "execution_count": 0,
   "metadata": {
    "application/vnd.databricks.v1+cell": {
     "cellMetadata": {
      "byteLimit": 2048000,
      "rowLimit": 10000
     },
     "inputWidgets": {},
     "nuid": "24169fe5-8ad5-4501-9a19-c4c6c39985c2",
     "showTitle": false,
     "tableResultSettingsMap": {},
     "title": ""
    },
    "colab": {
     "base_uri": "https://localhost:8080/",
     "height": 505
    },
    "executionInfo": {
     "elapsed": 351,
     "status": "ok",
     "timestamp": 1688669895998,
     "user": {
      "displayName": "Vildan Sarıkaya",
      "userId": "07789644790967768983"
     },
     "user_tz": 240
    },
    "id": "ejRlLuBJqVFW",
    "outputId": "3e9677f1-cfc6-43f2-8b00-4c75d77bbccd"
   },
   "outputs": [
    {
     "output_type": "execute_result",
     "data": {
      "text/html": [
       "<div>\n",
       "<style scoped>\n",
       "    .dataframe tbody tr th:only-of-type {\n",
       "        vertical-align: middle;\n",
       "    }\n",
       "\n",
       "    .dataframe tbody tr th {\n",
       "        vertical-align: top;\n",
       "    }\n",
       "\n",
       "    .dataframe thead th {\n",
       "        text-align: right;\n",
       "    }\n",
       "</style>\n",
       "<table border=\"1\" class=\"dataframe\">\n",
       "  <thead>\n",
       "    <tr style=\"text-align: right;\">\n",
       "      <th></th>\n",
       "      <th>sentence</th>\n",
       "      <th>begin</th>\n",
       "      <th>end</th>\n",
       "      <th>token</th>\n",
       "    </tr>\n",
       "  </thead>\n",
       "  <tbody>\n",
       "    <tr>\n",
       "      <th>0</th>\n",
       "      <td>0</td>\n",
       "      <td>0</td>\n",
       "      <td>4</td>\n",
       "      <td>Hello</td>\n",
       "    </tr>\n",
       "    <tr>\n",
       "      <th>1</th>\n",
       "      <td>0</td>\n",
       "      <td>5</td>\n",
       "      <td>5</td>\n",
       "      <td>,</td>\n",
       "    </tr>\n",
       "    <tr>\n",
       "      <th>2</th>\n",
       "      <td>0</td>\n",
       "      <td>7</td>\n",
       "      <td>7</td>\n",
       "      <td>I</td>\n",
       "    </tr>\n",
       "    <tr>\n",
       "      <th>3</th>\n",
       "      <td>0</td>\n",
       "      <td>9</td>\n",
       "      <td>10</td>\n",
       "      <td>am</td>\n",
       "    </tr>\n",
       "    <tr>\n",
       "      <th>4</th>\n",
       "      <td>0</td>\n",
       "      <td>12</td>\n",
       "      <td>12</td>\n",
       "      <td>a</td>\n",
       "    </tr>\n",
       "    <tr>\n",
       "      <th>...</th>\n",
       "      <td>...</td>\n",
       "      <td>...</td>\n",
       "      <td>...</td>\n",
       "      <td>...</td>\n",
       "    </tr>\n",
       "    <tr>\n",
       "      <th>75</th>\n",
       "      <td>2</td>\n",
       "      <td>404</td>\n",
       "      <td>407</td>\n",
       "      <td>just</td>\n",
       "    </tr>\n",
       "    <tr>\n",
       "      <th>76</th>\n",
       "      <td>2</td>\n",
       "      <td>409</td>\n",
       "      <td>411</td>\n",
       "      <td>got</td>\n",
       "    </tr>\n",
       "    <tr>\n",
       "      <th>77</th>\n",
       "      <td>2</td>\n",
       "      <td>413</td>\n",
       "      <td>422</td>\n",
       "      <td>discharged</td>\n",
       "    </tr>\n",
       "    <tr>\n",
       "      <th>78</th>\n",
       "      <td>2</td>\n",
       "      <td>424</td>\n",
       "      <td>431</td>\n",
       "      <td>recently</td>\n",
       "    </tr>\n",
       "    <tr>\n",
       "      <th>79</th>\n",
       "      <td>2</td>\n",
       "      <td>432</td>\n",
       "      <td>432</td>\n",
       "      <td>.</td>\n",
       "    </tr>\n",
       "  </tbody>\n",
       "</table>\n",
       "<p>80 rows × 4 columns</p>\n",
       "</div>"
      ],
      "text/plain": [
       "   sentence  begin  end       token\n",
       "0         0      0    4       Hello\n",
       "1         0      5    5           ,\n",
       "2         0      7    7           I\n",
       "3         0      9   10          am\n",
       "4         0     12   12           a\n",
       "..      ...    ...  ...         ...\n",
       "75        2    404  407        just\n",
       "76        2    409  411         got\n",
       "77        2    413  422  discharged\n",
       "78        2    424  431    recently\n",
       "79        2    432  432           .\n",
       "\n",
       "[80 rows x 4 columns]"
      ]
     },
     "execution_count": 16,
     "metadata": {},
     "output_type": "execute_result"
    }
   ],
   "source": [
    "get_token_results(vop_result)"
   ]
  }
 ],
 "metadata": {
  "application/vnd.databricks.v1+notebook": {
   "computePreferences": null,
   "dashboards": [],
   "environmentMetadata": null,
   "language": "python",
   "notebookMetadata": {
    "pythonIndentUnit": 2
   },
   "notebookName": "26.0.Voice_of_Patient_Models",
   "widgets": {}
  },
  "colab": {
   "provenance": [],
   "toc_visible": true
  },
  "kernelspec": {
   "display_name": "Python 3",
   "name": "python3"
  },
  "language_info": {
   "name": "python"
  }
 },
 "nbformat": 4,
 "nbformat_minor": 0
}
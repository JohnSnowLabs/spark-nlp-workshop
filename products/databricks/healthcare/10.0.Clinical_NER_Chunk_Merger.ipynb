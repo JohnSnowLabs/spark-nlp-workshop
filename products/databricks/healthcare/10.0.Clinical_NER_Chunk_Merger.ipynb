{
 "cells": [
  {
   "cell_type": "markdown",
   "metadata": {
    "application/vnd.databricks.v1+cell": {
     "cellMetadata": {},
     "inputWidgets": {},
     "nuid": "2758aa38-fdb6-4a02-aa5a-f9fbe0e06a1f",
     "showTitle": false,
     "tableResultSettingsMap": {},
     "title": ""
    },
    "id": "PXzooPBq7ICh"
   },
   "source": [
    "![JohnSnowLabs](https://nlp.johnsnowlabs.com/assets/images/logo.png)"
   ]
  },
  {
   "cell_type": "markdown",
   "metadata": {
    "application/vnd.databricks.v1+cell": {
     "cellMetadata": {},
     "inputWidgets": {},
     "nuid": "86c98d6b-c992-416b-932e-7a61b20df9ee",
     "showTitle": false,
     "tableResultSettingsMap": {},
     "title": ""
    },
    "id": "8zIZE0c_7ICk"
   },
   "source": [
    "# Merging Annotations From Multiple Named Entity Recognition Models"
   ]
  },
  {
   "cell_type": "code",
   "execution_count": 0,
   "metadata": {
    "application/vnd.databricks.v1+cell": {
     "cellMetadata": {
      "byteLimit": 2048000,
      "rowLimit": 10000
     },
     "inputWidgets": {},
     "nuid": "b6e82b81-7d47-4879-9a3d-d25fb57a26c0",
     "showTitle": false,
     "tableResultSettingsMap": {},
     "title": ""
    }
   },
   "outputs": [],
   "source": [
    "from johnsnowlabs import nlp, medical\n",
    "nlp.settings.enforce_versions=False\n",
    "\n",
    "#We have already initiated the session, and the nlp.start() function is being utilized to update the credentials.\n",
    "nlp.start()"
   ]
  },
  {
   "cell_type": "code",
   "execution_count": 0,
   "metadata": {
    "application/vnd.databricks.v1+cell": {
     "cellMetadata": {
      "byteLimit": 2048000,
      "rowLimit": 10000
     },
     "inputWidgets": {},
     "nuid": "96847492-7bbc-43bb-ada7-853d8174711d",
     "showTitle": false,
     "tableResultSettingsMap": {},
     "title": ""
    },
    "colab": {
     "base_uri": "https://localhost:8080/",
     "height": 254
    },
    "id": "TTVtJh6oW1EY",
    "outputId": "fb84b66c-36fb-4491-b633-8476ee6187e0"
   },
   "outputs": [
    {
     "output_type": "execute_result",
     "data": {
      "text/html": [
       "\n",
       "            <div>\n",
       "                <p><b>SparkSession - hive</b></p>\n",
       "                \n",
       "        <div>\n",
       "            <p><b>SparkContext</b></p>\n",
       "\n",
       "            <p><a href=\"/?o=7956323724731612#setting/sparkui/1112-201629-lg699ln8/driver-5049105717469012986\">Spark UI</a></p>\n",
       "\n",
       "            <dl>\n",
       "              <dt>Version</dt>\n",
       "                <dd><code>v3.4.1</code></dd>\n",
       "              <dt>Master</dt>\n",
       "                <dd><code>spark://10.139.64.10:7077</code></dd>\n",
       "              <dt>AppName</dt>\n",
       "                <dd><code>Databricks Shell</code></dd>\n",
       "            </dl>\n",
       "        </div>\n",
       "        \n",
       "            </div>\n",
       "        "
      ],
      "text/plain": [
       "<pyspark.sql.session.SparkSession at 0x7fd898ff6890>"
      ]
     },
     "execution_count": 2,
     "metadata": {},
     "output_type": "execute_result"
    }
   ],
   "source": [
    "from pyspark.sql import DataFrame\n",
    "import pyspark.sql.functions as F\n",
    "import pyspark.sql.types as T\n",
    "import pyspark.sql as SQL\n",
    "from pyspark import keyword_only\n",
    "\n",
    "import os\n",
    "import json\n",
    "import string\n",
    "import numpy as np\n",
    "import pandas as pd\n",
    "\n",
    "from pyspark.ml import Pipeline, PipelineModel\n",
    "\n",
    "pd.set_option('max_colwidth', 100)\n",
    "pd.set_option('display.max_columns', 100)  \n",
    "pd.set_option('display.expand_frame_repr', False)\n",
    "\n",
    "spark"
   ]
  },
  {
   "cell_type": "markdown",
   "metadata": {
    "application/vnd.databricks.v1+cell": {
     "cellMetadata": {},
     "inputWidgets": {},
     "nuid": "78d9e519-6012-4680-a06b-d3d56a6260c3",
     "showTitle": false,
     "tableResultSettingsMap": {},
     "title": ""
    }
   },
   "source": [
    "## Healthcare NLP for Data Scientists Course\n",
    "\n",
    "If you are not familiar with the components in this notebook, you can check [Healthcare NLP for Data Scientists Udemy Course](https://www.udemy.com/course/healthcare-nlp-for-data-scientists/) and the [MOOC Notebooks](https://github.com/JohnSnowLabs/spark-nlp-workshop/tree/master/Spark_NLP_Udemy_MOOC/Healthcare_NLP) for each components."
   ]
  },
  {
   "cell_type": "markdown",
   "metadata": {
    "application/vnd.databricks.v1+cell": {
     "cellMetadata": {},
     "inputWidgets": {},
     "nuid": "014dec08-3b83-403d-bc66-af0e932b267a",
     "showTitle": false,
     "tableResultSettingsMap": {},
     "title": ""
    }
   },
   "source": [
    "#### Overlapped Chunk"
   ]
  },
  {
   "cell_type": "code",
   "execution_count": 0,
   "metadata": {
    "application/vnd.databricks.v1+cell": {
     "cellMetadata": {
      "byteLimit": 2048000,
      "rowLimit": 10000
     },
     "inputWidgets": {},
     "nuid": "ca2a46f4-341a-4653-85e2-ce51eaba84b0",
     "showTitle": false,
     "tableResultSettingsMap": {},
     "title": ""
    },
    "colab": {
     "base_uri": "https://localhost:8080/"
    },
    "id": "1zgsiTxjaiMd",
    "outputId": "6b8c039d-4440-4d53-ed20-4d7af3496e67"
   },
   "outputs": [
    {
     "output_type": "stream",
     "name": "stdout",
     "output_type": "stream",
     "text": [
      "+---+------------------------------------------------------------------------------------------------------------------------------------------------------+\n| id|                                                                                                                                                  text|\n+---+------------------------------------------------------------------------------------------------------------------------------------------------------+\n|  1|A 63 years old man presents to the hospital with a history of recurrent infections that include cellulitis, pneumonias, and upper respiratory tract...|\n+---+------------------------------------------------------------------------------------------------------------------------------------------------------+\n\n"
     ]
    }
   ],
   "source": [
    "# Sample data\n",
    "data_chunk_merge = spark.createDataFrame([\n",
    "  (1,\"\"\"A 63 years old man presents to the hospital with a history of recurrent infections that include cellulitis, pneumonias, and upper respiratory tract infections. He reports subjective fevers at home along with unintentional weight loss and occasional night sweats. The patient has a remote history of arthritis, which was diagnosed approximately 20 years ago and treated intermittently with methotrexate (MTX) and prednisone. On physical exam, he is found to be febrile at 102°F, rather cachectic, pale, and have hepatosplenomegaly. Several swollen joints that are tender to palpation and have decreased range of motion are also present. His laboratory values show pancytopenia with the most severe deficiency in neutrophils.\n",
    "\"\"\")]).toDF(\"id\",\"text\")\n",
    "\n",
    "data_chunk_merge.show(truncate=150)"
   ]
  },
  {
   "cell_type": "code",
   "execution_count": 0,
   "metadata": {
    "application/vnd.databricks.v1+cell": {
     "cellMetadata": {
      "byteLimit": 2048000,
      "rowLimit": 10000
     },
     "inputWidgets": {},
     "nuid": "a7b69b00-2e72-4e43-a3fd-f70254a1077f",
     "showTitle": false,
     "tableResultSettingsMap": {},
     "title": ""
    },
    "colab": {
     "base_uri": "https://localhost:8080/"
    },
    "id": "r2Yr96wrWPUH",
    "outputId": "d78cf330-598c-439f-eab5-1884d6e19a8f"
   },
   "outputs": [
    {
     "output_type": "stream",
     "name": "stdout",
     "output_type": "stream",
     "text": [
      "embeddings_clinical download started this may take some time.\nApproximate size to download 1.6 GB\n\r[ | ]\r[OK!]\nner_deid_large download started this may take some time.\n\r[ | ]\r[ / ]\r[OK!]\nner_jsl download started this may take some time.\n\r[ | ]\r[ / ]\r[OK!]\n"
     ]
    }
   ],
   "source": [
    "# Annotator that transforms a text column from dataframe into an Annotation ready for NLP\n",
    "\n",
    "documentAssembler = nlp.DocumentAssembler()\\\n",
    "    .setInputCol(\"text\")\\\n",
    "    .setOutputCol(\"document\")\n",
    "\n",
    "# Sentence Detector annotator, processes various sentences per line\n",
    "sentenceDetector = nlp.SentenceDetector()\\\n",
    "    .setInputCols([\"document\"])\\\n",
    "    .setOutputCol(\"sentence\")\n",
    "\n",
    "# Tokenizer splits words in a relevant format for NLP\n",
    "tokenizer = nlp.Tokenizer()\\\n",
    "    .setInputCols([\"sentence\"])\\\n",
    "    .setOutputCol(\"token\")\n",
    "\n",
    "# Clinical word embeddings trained on PubMED dataset\n",
    "word_embeddings = nlp.WordEmbeddingsModel.pretrained(\"embeddings_clinical\", \"en\", \"clinical/models\")\\\n",
    "    .setInputCols([\"sentence\", \"token\"])\\\n",
    "    .setOutputCol(\"embeddings\")\n",
    "\n",
    "# NER model trained on i2b2 (sampled from MIMIC) dataset\n",
    "clinical_ner = medical.NerModel.pretrained(\"ner_deid_large\", \"en\", \"clinical/models\") \\\n",
    "    .setInputCols([\"sentence\", \"token\", \"embeddings\"]) \\\n",
    "    .setOutputCol(\"clinical_ner\")\n",
    "\n",
    "clinical_ner_converter = medical.NerConverterInternal() \\\n",
    "    .setInputCols([\"sentence\", \"token\", \"clinical_ner\"]) \\\n",
    "    .setOutputCol(\"clinical_ner_chunk\")\n",
    "\n",
    "# internal clinical NER (general terms)\n",
    "jsl_ner = medical.NerModel.pretrained(\"ner_jsl\", \"en\", \"clinical/models\") \\\n",
    "    .setInputCols([\"sentence\", \"token\", \"embeddings\"]) \\\n",
    "    .setOutputCol(\"jsl_ner\")\n",
    "\n",
    "jsl_ner_converter = medical.NerConverterInternal() \\\n",
    "    .setInputCols([\"sentence\", \"token\", \"jsl_ner\"]) \\\n",
    "    .setOutputCol(\"jsl_ner_chunk\")"
   ]
  },
  {
   "cell_type": "markdown",
   "metadata": {
    "application/vnd.databricks.v1+cell": {
     "cellMetadata": {},
     "inputWidgets": {},
     "nuid": "f612be04-5906-4dca-b071-4e95123b0502",
     "showTitle": false,
     "tableResultSettingsMap": {},
     "title": ""
    }
   },
   "source": [
    "**Merging overlapped chunks by considering their lenght** <br/>\n",
    "If we set `setOrderingFeatures([\"ChunkLength\"])` and `setSelectionStrategy(\"DiverseLonger\")` parameters, the longest chunk will be prioritized in case of overlapping."
   ]
  },
  {
   "cell_type": "code",
   "execution_count": 0,
   "metadata": {
    "application/vnd.databricks.v1+cell": {
     "cellMetadata": {
      "byteLimit": 2048000,
      "rowLimit": 10000
     },
     "inputWidgets": {},
     "nuid": "4bd193fc-9300-4a76-a292-db0ca8e81104",
     "showTitle": false,
     "tableResultSettingsMap": {},
     "title": ""
    }
   },
   "outputs": [],
   "source": [
    "chunk_merger = medical.ChunkMergeApproach()\\\n",
    "    .setInputCols('clinical_ner_chunk', \"jsl_ner_chunk\")\\\n",
    "    .setOutputCol('merged_ner_chunk')\\\n",
    "    .setOrderingFeatures([\"ChunkLength\"])\\\n",
    "    .setSelectionStrategy(\"DiverseLonger\")\n",
    "\n",
    "nlpPipeline = nlp.Pipeline(stages=[\n",
    "    documentAssembler, \n",
    "    sentenceDetector,\n",
    "    tokenizer,\n",
    "    word_embeddings,\n",
    "    clinical_ner,\n",
    "    clinical_ner_converter,\n",
    "    jsl_ner,\n",
    "    jsl_ner_converter,\n",
    "    chunk_merger])\n",
    "\n",
    "empty_data = spark.createDataFrame([[\"\"]]).toDF(\"text\")\n",
    "\n",
    "model = nlpPipeline.fit(empty_data)"
   ]
  },
  {
   "cell_type": "code",
   "execution_count": 0,
   "metadata": {
    "application/vnd.databricks.v1+cell": {
     "cellMetadata": {
      "byteLimit": 2048000,
      "rowLimit": 10000
     },
     "inputWidgets": {},
     "nuid": "2bb5e1a5-ecb0-40f5-a1dc-59288aa8728f",
     "showTitle": false,
     "tableResultSettingsMap": {},
     "title": ""
    },
    "id": "JMI6QDcunfjI"
   },
   "outputs": [],
   "source": [
    "merged_data = model.transform(data_chunk_merge).cache()"
   ]
  },
  {
   "cell_type": "code",
   "execution_count": 0,
   "metadata": {
    "application/vnd.databricks.v1+cell": {
     "cellMetadata": {
      "byteLimit": 2048000,
      "rowLimit": 10000
     },
     "inputWidgets": {},
     "nuid": "2d4bb033-fb91-4149-afe3-039fb0e92e74",
     "showTitle": false,
     "tableResultSettingsMap": {},
     "title": ""
    }
   },
   "outputs": [
    {
     "output_type": "stream",
     "name": "stdout",
     "output_type": "stream",
     "text": [
      "+---------------------------------------------------------------------------------------------------------------------------+\n|clinical_ner_chunk                                                                                                         |\n+---------------------------------------------------------------------------------------------------------------------------+\n|[{chunk, 2, 3, 63, {chunk -> 0, confidence -> 0.9997, ner_source -> clinical_ner_chunk, entity -> AGE, sentence -> 0}, []}]|\n+---------------------------------------------------------------------------------------------------------------------------+\n\n"
     ]
    }
   ],
   "source": [
    "merged_data.select(\"clinical_ner_chunk\").show(truncate=False)"
   ]
  },
  {
   "cell_type": "code",
   "execution_count": 0,
   "metadata": {
    "application/vnd.databricks.v1+cell": {
     "cellMetadata": {
      "byteLimit": 2048000,
      "rowLimit": 10000
     },
     "inputWidgets": {},
     "nuid": "f6367035-6a21-4659-8f61-f8cc0de7683c",
     "showTitle": false,
     "tableResultSettingsMap": {},
     "title": ""
    },
    "colab": {
     "base_uri": "https://localhost:8080/"
    },
    "id": "bTy7iuZOrgMC",
    "outputId": "360f5125-8bf0-4aea-e1fa-fb5014dca6b1"
   },
   "outputs": [
    {
     "output_type": "stream",
     "name": "stdout",
     "output_type": "stream",
     "text": [
      "+-----------------------------------------------------------------------------------------------------------------------------------------------------------------------------------------------------------------------------------------------------------------------------------------------------------------------------------------------------------------------------------------------------------------------------------------------------------------------------------------------------------------------------------------------------------------------------------------------------------------------------------------------------------------------------------------------------------------------------------------------------------------------------------------------------------------------------------------------------------------------------------------------------------------------------------------------------------------------------------------------------------------------------------------------------------------------------------------------------------------------------------------------------------------------------------------------------------------------------------------------------------------------------------------------------------------------------------------------------------------------------------------------------------------------------------------------------------------------------------------------------------------------------------------------------------------------------------------------------------------------------------------------------------------------------------------------------------------------------------------------------------------------------------------------------------------------------------------------------------------------------------------------------------------------------------------------------------------------------------------------------------------------------------------------------------------------------------------------------------------------------------------------------------------------------------------------------------------------------------------------------------------------------------------------------------------------------------------------------------------------------------------------------------------------------------------------------------------------------------------------------------------------------------------------------------------------------------------------------------------------------------------------------------------------------------------------------------------------------------------------------------------------------------------------------------------------------------------------------------------------------------------------------------------------------------------------------------------------------------------------------------------------------------------------------------------------------------------------------------------------------------------------------------------------------------------------------------------------------------------------------------------------------------------------------------------------------------------------------------------------------------------------------------------------------------------------------------------------------------------------------------------------------------------------------------------------------------------------------------------------------------------------------------------------------------------------------------------------------------------------------------------------------------------------------------------------------------------------------------------------------------------------------------------------------------------------------------------------------------------------------------------------------------------------------------------------------------------------------------------------------------------------------------------------------------------------------------------------------------------------------------------------------------------------------------------------------------------------------------------------------------------------------------------------------------------------------------------------------------------------------------------------------------------------------------------------------------------------------------------------------------------------------------------------------------------------------------------------------------------------------------------------------------------------------------+\n|jsl_ner_chunk                                                                                                                                                                                                                                                                                                                                                                                                                                                                                                                                                                                                                                                                                                                                                                                                                                                                                                                                                                                                                                                                                                                                                                                                                                                                                                                                                                                                                                                                                                                                                                                                                                                                                                                                                                                                                                                                                                                                                                                                                                                                                                                                                                                                                                                                                                                                                                                                                                                                                                                                                                                                                                                                                                                                                                                                                                                                                                                                                                                                                                                                                                                                                                                                                                                                                                                                                                                                                                                                                                                                                                                                                                                                                                                                                                                                                                                                                                                                                                                                                                                                                                                                                                                                                                                                                                                                                                                                                                                                                                                                                                                                                                                                                                                                                                                              |\n+-----------------------------------------------------------------------------------------------------------------------------------------------------------------------------------------------------------------------------------------------------------------------------------------------------------------------------------------------------------------------------------------------------------------------------------------------------------------------------------------------------------------------------------------------------------------------------------------------------------------------------------------------------------------------------------------------------------------------------------------------------------------------------------------------------------------------------------------------------------------------------------------------------------------------------------------------------------------------------------------------------------------------------------------------------------------------------------------------------------------------------------------------------------------------------------------------------------------------------------------------------------------------------------------------------------------------------------------------------------------------------------------------------------------------------------------------------------------------------------------------------------------------------------------------------------------------------------------------------------------------------------------------------------------------------------------------------------------------------------------------------------------------------------------------------------------------------------------------------------------------------------------------------------------------------------------------------------------------------------------------------------------------------------------------------------------------------------------------------------------------------------------------------------------------------------------------------------------------------------------------------------------------------------------------------------------------------------------------------------------------------------------------------------------------------------------------------------------------------------------------------------------------------------------------------------------------------------------------------------------------------------------------------------------------------------------------------------------------------------------------------------------------------------------------------------------------------------------------------------------------------------------------------------------------------------------------------------------------------------------------------------------------------------------------------------------------------------------------------------------------------------------------------------------------------------------------------------------------------------------------------------------------------------------------------------------------------------------------------------------------------------------------------------------------------------------------------------------------------------------------------------------------------------------------------------------------------------------------------------------------------------------------------------------------------------------------------------------------------------------------------------------------------------------------------------------------------------------------------------------------------------------------------------------------------------------------------------------------------------------------------------------------------------------------------------------------------------------------------------------------------------------------------------------------------------------------------------------------------------------------------------------------------------------------------------------------------------------------------------------------------------------------------------------------------------------------------------------------------------------------------------------------------------------------------------------------------------------------------------------------------------------------------------------------------------------------------------------------------------------------------------------------------------------------------------+\n|[{chunk, 2, 13, 63 years old, {entity -> Age, confidence -> 0.85873336, ner_source -> jsl_ner_chunk, chunk -> 0, sentence -> 0}, []}, {chunk, 15, 17, man, {entity -> Gender, confidence -> 0.9976, ner_source -> jsl_ner_chunk, chunk -> 1, sentence -> 0}, []}, {chunk, 35, 42, hospital, {entity -> Clinical_Dept, confidence -> 0.9609, ner_source -> jsl_ner_chunk, chunk -> 2, sentence -> 0}, []}, {chunk, 62, 70, recurrent, {entity -> Modifier, confidence -> 0.9651, ner_source -> jsl_ner_chunk, chunk -> 3, sentence -> 0}, []}, {chunk, 72, 81, infections, {entity -> Disease_Syndrome_Disorder, confidence -> 0.9387, ner_source -> jsl_ner_chunk, chunk -> 4, sentence -> 0}, []}, {chunk, 96, 105, cellulitis, {entity -> Disease_Syndrome_Disorder, confidence -> 0.994, ner_source -> jsl_ner_chunk, chunk -> 5, sentence -> 0}, []}, {chunk, 108, 117, pneumonias, {entity -> Disease_Syndrome_Disorder, confidence -> 0.9978, ner_source -> jsl_ner_chunk, chunk -> 6, sentence -> 0}, []}, {chunk, 124, 157, upper respiratory tract infections, {entity -> Disease_Syndrome_Disorder, confidence -> 0.5562, ner_source -> jsl_ner_chunk, chunk -> 7, sentence -> 0}, []}, {chunk, 160, 161, He, {entity -> Gender, confidence -> 0.9999, ner_source -> jsl_ner_chunk, chunk -> 8, sentence -> 1}, []}, {chunk, 171, 180, subjective, {entity -> Modifier, confidence -> 0.8527, ner_source -> jsl_ner_chunk, chunk -> 9, sentence -> 1}, []}, {chunk, 182, 187, fevers, {entity -> VS_Finding, confidence -> 0.9498, ner_source -> jsl_ner_chunk, chunk -> 10, sentence -> 1}, []}, {chunk, 208, 232, unintentional weight loss, {entity -> Symptom, confidence -> 0.58316666, ner_source -> jsl_ner_chunk, chunk -> 11, sentence -> 1}, []}, {chunk, 238, 247, occasional, {entity -> Modifier, confidence -> 0.9434, ner_source -> jsl_ner_chunk, chunk -> 12, sentence -> 1}, []}, {chunk, 249, 260, night sweats, {entity -> Symptom, confidence -> 0.52355003, ner_source -> jsl_ner_chunk, chunk -> 13, sentence -> 1}, []}, {chunk, 299, 307, arthritis, {entity -> Disease_Syndrome_Disorder, confidence -> 0.9909, ner_source -> jsl_ner_chunk, chunk -> 14, sentence -> 2}, []}, {chunk, 344, 355, 20 years ago, {entity -> RelativeDate, confidence -> 0.6714, ner_source -> jsl_ner_chunk, chunk -> 15, sentence -> 2}, []}, {chunk, 389, 400, methotrexate, {entity -> Drug_Ingredient, confidence -> 0.998, ner_source -> jsl_ner_chunk, chunk -> 16, sentence -> 2}, []}, {chunk, 403, 405, MTX, {entity -> Drug_Ingredient, confidence -> 0.9961, ner_source -> jsl_ner_chunk, chunk -> 17, sentence -> 2}, []}, {chunk, 412, 421, prednisone, {entity -> Drug_Ingredient, confidence -> 0.9968, ner_source -> jsl_ner_chunk, chunk -> 18, sentence -> 2}, []}, {chunk, 442, 443, he, {entity -> Gender, confidence -> 0.9998, ner_source -> jsl_ner_chunk, chunk -> 19, sentence -> 3}, []}, {chunk, 460, 466, febrile, {entity -> VS_Finding, confidence -> 0.9517, ner_source -> jsl_ner_chunk, chunk -> 20, sentence -> 3}, []}, {chunk, 471, 475, 102°F, {entity -> Temperature, confidence -> 0.3688, ner_source -> jsl_ner_chunk, chunk -> 21, sentence -> 3}, []}, {chunk, 485, 493, cachectic, {entity -> Symptom, confidence -> 0.9434, ner_source -> jsl_ner_chunk, chunk -> 22, sentence -> 3}, []}, {chunk, 496, 499, pale, {entity -> Symptom, confidence -> 0.7541, ner_source -> jsl_ner_chunk, chunk -> 23, sentence -> 3}, []}, {chunk, 511, 528, hepatosplenomegaly, {entity -> Symptom, confidence -> 0.969, ner_source -> jsl_ner_chunk, chunk -> 24, sentence -> 3}, []}, {chunk, 531, 537, Several, {entity -> Modifier, confidence -> 0.8582, ner_source -> jsl_ner_chunk, chunk -> 25, sentence -> 4}, []}, {chunk, 539, 552, swollen joints, {entity -> Symptom, confidence -> 0.66595, ner_source -> jsl_ner_chunk, chunk -> 26, sentence -> 4}, []}, {chunk, 563, 568, tender, {entity -> Symptom, confidence -> 0.8758, ner_source -> jsl_ner_chunk, chunk -> 27, sentence -> 4}, []}, {chunk, 592, 616, decreased range of motion, {entity -> Symptom, confidence -> 0.499075, ner_source -> jsl_ner_chunk, chunk -> 28, sentence -> 4}, []}, {chunk, 636, 638, His, {entity -> Gender, confidence -> 0.9999, ner_source -> jsl_ner_chunk, chunk -> 29, sentence -> 5}, []}, {chunk, 663, 674, pancytopenia, {entity -> Symptom, confidence -> 0.8392, ner_source -> jsl_ner_chunk, chunk -> 30, sentence -> 5}, []}, {chunk, 690, 695, severe, {entity -> Modifier, confidence -> 0.8377, ner_source -> jsl_ner_chunk, chunk -> 31, sentence -> 5}, []}, {chunk, 697, 721, deficiency in neutrophils, {entity -> Disease_Syndrome_Disorder, confidence -> 0.38863334, ner_source -> jsl_ner_chunk, chunk -> 32, sentence -> 5}, []}]|\n+-----------------------------------------------------------------------------------------------------------------------------------------------------------------------------------------------------------------------------------------------------------------------------------------------------------------------------------------------------------------------------------------------------------------------------------------------------------------------------------------------------------------------------------------------------------------------------------------------------------------------------------------------------------------------------------------------------------------------------------------------------------------------------------------------------------------------------------------------------------------------------------------------------------------------------------------------------------------------------------------------------------------------------------------------------------------------------------------------------------------------------------------------------------------------------------------------------------------------------------------------------------------------------------------------------------------------------------------------------------------------------------------------------------------------------------------------------------------------------------------------------------------------------------------------------------------------------------------------------------------------------------------------------------------------------------------------------------------------------------------------------------------------------------------------------------------------------------------------------------------------------------------------------------------------------------------------------------------------------------------------------------------------------------------------------------------------------------------------------------------------------------------------------------------------------------------------------------------------------------------------------------------------------------------------------------------------------------------------------------------------------------------------------------------------------------------------------------------------------------------------------------------------------------------------------------------------------------------------------------------------------------------------------------------------------------------------------------------------------------------------------------------------------------------------------------------------------------------------------------------------------------------------------------------------------------------------------------------------------------------------------------------------------------------------------------------------------------------------------------------------------------------------------------------------------------------------------------------------------------------------------------------------------------------------------------------------------------------------------------------------------------------------------------------------------------------------------------------------------------------------------------------------------------------------------------------------------------------------------------------------------------------------------------------------------------------------------------------------------------------------------------------------------------------------------------------------------------------------------------------------------------------------------------------------------------------------------------------------------------------------------------------------------------------------------------------------------------------------------------------------------------------------------------------------------------------------------------------------------------------------------------------------------------------------------------------------------------------------------------------------------------------------------------------------------------------------------------------------------------------------------------------------------------------------------------------------------------------------------------------------------------------------------------------------------------------------------------------------------------------------------------------------------------------------------------+\n\n"
     ]
    }
   ],
   "source": [
    "merged_data.select(\"jsl_ner_chunk\").show(truncate=False)"
   ]
  },
  {
   "cell_type": "code",
   "execution_count": 0,
   "metadata": {
    "application/vnd.databricks.v1+cell": {
     "cellMetadata": {
      "byteLimit": 2048000,
      "rowLimit": 10000
     },
     "inputWidgets": {},
     "nuid": "f2c06ce6-cfa1-4a60-acf7-a832c0d3b294",
     "showTitle": false,
     "tableResultSettingsMap": {},
     "title": ""
    },
    "colab": {
     "base_uri": "https://localhost:8080/"
    },
    "id": "h3zcTo_GgHoO",
    "outputId": "c8874b97-d68e-4427-d9df-da86f8e8f8b9"
   },
   "outputs": [
    {
     "output_type": "stream",
     "name": "stdout",
     "output_type": "stream",
     "text": [
      "+---+-----+---+----------------------------------+-------------------------+\n| id|begin|end|                             chunk|                   entity|\n+---+-----+---+----------------------------------+-------------------------+\n|  1|    2| 13|                      63 years old|                      Age|\n|  1|   15| 17|                               man|                   Gender|\n|  1|   35| 42|                          hospital|            Clinical_Dept|\n|  1|   62| 70|                         recurrent|                 Modifier|\n|  1|   72| 81|                        infections|Disease_Syndrome_Disorder|\n|  1|   96|105|                        cellulitis|Disease_Syndrome_Disorder|\n|  1|  108|117|                        pneumonias|Disease_Syndrome_Disorder|\n|  1|  124|157|upper respiratory tract infections|Disease_Syndrome_Disorder|\n|  1|  160|161|                                He|                   Gender|\n|  1|  171|180|                        subjective|                 Modifier|\n|  1|  182|187|                            fevers|               VS_Finding|\n|  1|  208|232|         unintentional weight loss|                  Symptom|\n|  1|  238|247|                        occasional|                 Modifier|\n|  1|  249|260|                      night sweats|                  Symptom|\n|  1|  299|307|                         arthritis|Disease_Syndrome_Disorder|\n|  1|  344|355|                      20 years ago|             RelativeDate|\n|  1|  389|400|                      methotrexate|          Drug_Ingredient|\n|  1|  403|405|                               MTX|          Drug_Ingredient|\n|  1|  412|421|                        prednisone|          Drug_Ingredient|\n|  1|  442|443|                                he|                   Gender|\n|  1|  460|466|                           febrile|               VS_Finding|\n|  1|  471|475|                             102°F|              Temperature|\n|  1|  485|493|                         cachectic|                  Symptom|\n|  1|  496|499|                              pale|                  Symptom|\n|  1|  511|528|                hepatosplenomegaly|                  Symptom|\n|  1|  531|537|                           Several|                 Modifier|\n|  1|  539|552|                    swollen joints|                  Symptom|\n|  1|  563|568|                            tender|                  Symptom|\n|  1|  592|616|         decreased range of motion|                  Symptom|\n|  1|  636|638|                               His|                   Gender|\n|  1|  663|674|                      pancytopenia|                  Symptom|\n|  1|  690|695|                            severe|                 Modifier|\n|  1|  697|721|         deficiency in neutrophils|Disease_Syndrome_Disorder|\n+---+-----+---+----------------------------------+-------------------------+\n\n"
     ]
    }
   ],
   "source": [
    "from pyspark.sql import functions as F\n",
    "\n",
    "result_df = merged_data.select('id',F.explode('merged_ner_chunk').alias(\"cols\")) \\\n",
    "                       .select('id',F.expr(\"cols.begin\").alias(\"begin\"),\n",
    "                               F.expr(\"cols.end\").alias(\"end\"),\n",
    "                               F.expr(\"cols.result\").alias(\"chunk\"),\n",
    "                               F.expr(\"cols.metadata.entity\").alias(\"entity\"))\n",
    "\n",
    "result_df.show(50, truncate=100)"
   ]
  },
  {
   "cell_type": "markdown",
   "metadata": {
    "application/vnd.databricks.v1+cell": {
     "cellMetadata": {},
     "inputWidgets": {},
     "nuid": "43ebacd6-8f34-4224-8797-c7174f223b8f",
     "showTitle": false,
     "tableResultSettingsMap": {},
     "title": ""
    },
    "id": "6YwHxwQnIqgF"
   },
   "source": [
    "**Merging overlapped chunks by considering their sequence** <br/>\n",
    "\n",
    "If we set `setSelectionStrategy(\"Sequential\")` parameter, the chunk on the leftmost side will be prioritized in case of overlapping."
   ]
  },
  {
   "cell_type": "code",
   "execution_count": 0,
   "metadata": {
    "application/vnd.databricks.v1+cell": {
     "cellMetadata": {
      "byteLimit": 2048000,
      "rowLimit": 10000
     },
     "inputWidgets": {},
     "nuid": "4814f28a-e540-4b41-bbf6-790d3020fb76",
     "showTitle": false,
     "tableResultSettingsMap": {},
     "title": ""
    }
   },
   "outputs": [],
   "source": [
    "chunk_merger = medical.ChunkMergeApproach() \\\n",
    "    .setInputCols(\"clinical_ner_chunk\", \"jsl_ner_chunk\") \\\n",
    "    .setOutputCol(\"ner_chunk_new\") \\\n",
    "    .setMergeOverlapping(True) \\\n",
    "    .setSelectionStrategy(\"Sequential\")\n",
    "\n",
    "nlpPipeline = nlp.Pipeline(stages=[\n",
    "    documentAssembler, \n",
    "    sentenceDetector,\n",
    "    tokenizer,\n",
    "    word_embeddings,\n",
    "    clinical_ner,\n",
    "    clinical_ner_converter,\n",
    "    jsl_ner,\n",
    "    jsl_ner_converter,\n",
    "    chunk_merger])\n",
    "\n",
    "empty_data = spark.createDataFrame([[\"\"]]).toDF(\"text\")\n",
    "\n",
    "model = nlpPipeline.fit(empty_data)\n"
   ]
  },
  {
   "cell_type": "code",
   "execution_count": 0,
   "metadata": {
    "application/vnd.databricks.v1+cell": {
     "cellMetadata": {
      "byteLimit": 2048000,
      "rowLimit": 10000
     },
     "inputWidgets": {},
     "nuid": "5d57a276-64aa-4607-a384-64aeac1fc489",
     "showTitle": false,
     "tableResultSettingsMap": {},
     "title": ""
    }
   },
   "outputs": [],
   "source": [
    "merged_data = model.transform(data_chunk_merge).cache()"
   ]
  },
  {
   "cell_type": "code",
   "execution_count": 0,
   "metadata": {
    "application/vnd.databricks.v1+cell": {
     "cellMetadata": {
      "byteLimit": 2048000,
      "rowLimit": 10000
     },
     "inputWidgets": {},
     "nuid": "d9000953-9331-4374-b1d7-36a8d3467e27",
     "showTitle": false,
     "tableResultSettingsMap": {},
     "title": ""
    }
   },
   "outputs": [
    {
     "output_type": "stream",
     "name": "stdout",
     "output_type": "stream",
     "text": [
      "+---------------------------------------------------------------------------------------------------------------------------+\n|clinical_ner_chunk                                                                                                         |\n+---------------------------------------------------------------------------------------------------------------------------+\n|[{chunk, 2, 3, 63, {chunk -> 0, confidence -> 0.9997, ner_source -> clinical_ner_chunk, entity -> AGE, sentence -> 0}, []}]|\n+---------------------------------------------------------------------------------------------------------------------------+\n\n"
     ]
    }
   ],
   "source": [
    "merged_data.select(\"clinical_ner_chunk\").show(truncate=False)"
   ]
  },
  {
   "cell_type": "code",
   "execution_count": 0,
   "metadata": {
    "application/vnd.databricks.v1+cell": {
     "cellMetadata": {
      "byteLimit": 2048000,
      "rowLimit": 10000
     },
     "inputWidgets": {},
     "nuid": "7cfe484c-4db5-48f1-baff-150ef4e14ff3",
     "showTitle": false,
     "tableResultSettingsMap": {},
     "title": ""
    }
   },
   "outputs": [
    {
     "output_type": "stream",
     "name": "stdout",
     "output_type": "stream",
     "text": [
      "+-----------------------------------------------------------------------------------------------------------------------------------------------------------------------------------------------------------------------------------------------------------------------------------------------------------------------------------------------------------------------------------------------------------------------------------------------------------------------------------------------------------------------------------------------------------------------------------------------------------------------------------------------------------------------------------------------------------------------------------------------------------------------------------------------------------------------------------------------------------------------------------------------------------------------------------------------------------------------------------------------------------------------------------------------------------------------------------------------------------------------------------------------------------------------------------------------------------------------------------------------------------------------------------------------------------------------------------------------------------------------------------------------------------------------------------------------------------------------------------------------------------------------------------------------------------------------------------------------------------------------------------------------------------------------------------------------------------------------------------------------------------------------------------------------------------------------------------------------------------------------------------------------------------------------------------------------------------------------------------------------------------------------------------------------------------------------------------------------------------------------------------------------------------------------------------------------------------------------------------------------------------------------------------------------------------------------------------------------------------------------------------------------------------------------------------------------------------------------------------------------------------------------------------------------------------------------------------------------------------------------------------------------------------------------------------------------------------------------------------------------------------------------------------------------------------------------------------------------------------------------------------------------------------------------------------------------------------------------------------------------------------------------------------------------------------------------------------------------------------------------------------------------------------------------------------------------------------------------------------------------------------------------------------------------------------------------------------------------------------------------------------------------------------------------------------------------------------------------------------------------------------------------------------------------------------------------------------------------------------------------------------------------------------------------------------------------------------------------------------------------------------------------------------------------------------------------------------------------------------------------------------------------------------------------------------------------------------------------------------------------------------------------------------------------------------------------------------------------------------------------------------------------------------------------------------------------------------------------------------------------------------------------------------------------------------------------------------------------------------------------------------------------------------------------------------------------------------------------------------------------------------------------------------------------------------------------------------------------------------------------------------------------------------------------------------------------------------------------------------------------------------------------------------------------------------+\n|jsl_ner_chunk                                                                                                                                                                                                                                                                                                                                                                                                                                                                                                                                                                                                                                                                                                                                                                                                                                                                                                                                                                                                                                                                                                                                                                                                                                                                                                                                                                                                                                                                                                                                                                                                                                                                                                                                                                                                                                                                                                                                                                                                                                                                                                                                                                                                                                                                                                                                                                                                                                                                                                                                                                                                                                                                                                                                                                                                                                                                                                                                                                                                                                                                                                                                                                                                                                                                                                                                                                                                                                                                                                                                                                                                                                                                                                                                                                                                                                                                                                                                                                                                                                                                                                                                                                                                                                                                                                                                                                                                                                                                                                                                                                                                                                                                                                                                                                                              |\n+-----------------------------------------------------------------------------------------------------------------------------------------------------------------------------------------------------------------------------------------------------------------------------------------------------------------------------------------------------------------------------------------------------------------------------------------------------------------------------------------------------------------------------------------------------------------------------------------------------------------------------------------------------------------------------------------------------------------------------------------------------------------------------------------------------------------------------------------------------------------------------------------------------------------------------------------------------------------------------------------------------------------------------------------------------------------------------------------------------------------------------------------------------------------------------------------------------------------------------------------------------------------------------------------------------------------------------------------------------------------------------------------------------------------------------------------------------------------------------------------------------------------------------------------------------------------------------------------------------------------------------------------------------------------------------------------------------------------------------------------------------------------------------------------------------------------------------------------------------------------------------------------------------------------------------------------------------------------------------------------------------------------------------------------------------------------------------------------------------------------------------------------------------------------------------------------------------------------------------------------------------------------------------------------------------------------------------------------------------------------------------------------------------------------------------------------------------------------------------------------------------------------------------------------------------------------------------------------------------------------------------------------------------------------------------------------------------------------------------------------------------------------------------------------------------------------------------------------------------------------------------------------------------------------------------------------------------------------------------------------------------------------------------------------------------------------------------------------------------------------------------------------------------------------------------------------------------------------------------------------------------------------------------------------------------------------------------------------------------------------------------------------------------------------------------------------------------------------------------------------------------------------------------------------------------------------------------------------------------------------------------------------------------------------------------------------------------------------------------------------------------------------------------------------------------------------------------------------------------------------------------------------------------------------------------------------------------------------------------------------------------------------------------------------------------------------------------------------------------------------------------------------------------------------------------------------------------------------------------------------------------------------------------------------------------------------------------------------------------------------------------------------------------------------------------------------------------------------------------------------------------------------------------------------------------------------------------------------------------------------------------------------------------------------------------------------------------------------------------------------------------------------------------------------------------------+\n|[{chunk, 2, 13, 63 years old, {entity -> Age, confidence -> 0.85873336, ner_source -> jsl_ner_chunk, chunk -> 0, sentence -> 0}, []}, {chunk, 15, 17, man, {entity -> Gender, confidence -> 0.9976, ner_source -> jsl_ner_chunk, chunk -> 1, sentence -> 0}, []}, {chunk, 35, 42, hospital, {entity -> Clinical_Dept, confidence -> 0.9609, ner_source -> jsl_ner_chunk, chunk -> 2, sentence -> 0}, []}, {chunk, 62, 70, recurrent, {entity -> Modifier, confidence -> 0.9651, ner_source -> jsl_ner_chunk, chunk -> 3, sentence -> 0}, []}, {chunk, 72, 81, infections, {entity -> Disease_Syndrome_Disorder, confidence -> 0.9387, ner_source -> jsl_ner_chunk, chunk -> 4, sentence -> 0}, []}, {chunk, 96, 105, cellulitis, {entity -> Disease_Syndrome_Disorder, confidence -> 0.994, ner_source -> jsl_ner_chunk, chunk -> 5, sentence -> 0}, []}, {chunk, 108, 117, pneumonias, {entity -> Disease_Syndrome_Disorder, confidence -> 0.9978, ner_source -> jsl_ner_chunk, chunk -> 6, sentence -> 0}, []}, {chunk, 124, 157, upper respiratory tract infections, {entity -> Disease_Syndrome_Disorder, confidence -> 0.5562, ner_source -> jsl_ner_chunk, chunk -> 7, sentence -> 0}, []}, {chunk, 160, 161, He, {entity -> Gender, confidence -> 0.9999, ner_source -> jsl_ner_chunk, chunk -> 8, sentence -> 1}, []}, {chunk, 171, 180, subjective, {entity -> Modifier, confidence -> 0.8527, ner_source -> jsl_ner_chunk, chunk -> 9, sentence -> 1}, []}, {chunk, 182, 187, fevers, {entity -> VS_Finding, confidence -> 0.9498, ner_source -> jsl_ner_chunk, chunk -> 10, sentence -> 1}, []}, {chunk, 208, 232, unintentional weight loss, {entity -> Symptom, confidence -> 0.58316666, ner_source -> jsl_ner_chunk, chunk -> 11, sentence -> 1}, []}, {chunk, 238, 247, occasional, {entity -> Modifier, confidence -> 0.9434, ner_source -> jsl_ner_chunk, chunk -> 12, sentence -> 1}, []}, {chunk, 249, 260, night sweats, {entity -> Symptom, confidence -> 0.52355003, ner_source -> jsl_ner_chunk, chunk -> 13, sentence -> 1}, []}, {chunk, 299, 307, arthritis, {entity -> Disease_Syndrome_Disorder, confidence -> 0.9909, ner_source -> jsl_ner_chunk, chunk -> 14, sentence -> 2}, []}, {chunk, 344, 355, 20 years ago, {entity -> RelativeDate, confidence -> 0.6714, ner_source -> jsl_ner_chunk, chunk -> 15, sentence -> 2}, []}, {chunk, 389, 400, methotrexate, {entity -> Drug_Ingredient, confidence -> 0.998, ner_source -> jsl_ner_chunk, chunk -> 16, sentence -> 2}, []}, {chunk, 403, 405, MTX, {entity -> Drug_Ingredient, confidence -> 0.9961, ner_source -> jsl_ner_chunk, chunk -> 17, sentence -> 2}, []}, {chunk, 412, 421, prednisone, {entity -> Drug_Ingredient, confidence -> 0.9968, ner_source -> jsl_ner_chunk, chunk -> 18, sentence -> 2}, []}, {chunk, 442, 443, he, {entity -> Gender, confidence -> 0.9998, ner_source -> jsl_ner_chunk, chunk -> 19, sentence -> 3}, []}, {chunk, 460, 466, febrile, {entity -> VS_Finding, confidence -> 0.9517, ner_source -> jsl_ner_chunk, chunk -> 20, sentence -> 3}, []}, {chunk, 471, 475, 102°F, {entity -> Temperature, confidence -> 0.3688, ner_source -> jsl_ner_chunk, chunk -> 21, sentence -> 3}, []}, {chunk, 485, 493, cachectic, {entity -> Symptom, confidence -> 0.9434, ner_source -> jsl_ner_chunk, chunk -> 22, sentence -> 3}, []}, {chunk, 496, 499, pale, {entity -> Symptom, confidence -> 0.7541, ner_source -> jsl_ner_chunk, chunk -> 23, sentence -> 3}, []}, {chunk, 511, 528, hepatosplenomegaly, {entity -> Symptom, confidence -> 0.969, ner_source -> jsl_ner_chunk, chunk -> 24, sentence -> 3}, []}, {chunk, 531, 537, Several, {entity -> Modifier, confidence -> 0.8582, ner_source -> jsl_ner_chunk, chunk -> 25, sentence -> 4}, []}, {chunk, 539, 552, swollen joints, {entity -> Symptom, confidence -> 0.66595, ner_source -> jsl_ner_chunk, chunk -> 26, sentence -> 4}, []}, {chunk, 563, 568, tender, {entity -> Symptom, confidence -> 0.8758, ner_source -> jsl_ner_chunk, chunk -> 27, sentence -> 4}, []}, {chunk, 592, 616, decreased range of motion, {entity -> Symptom, confidence -> 0.499075, ner_source -> jsl_ner_chunk, chunk -> 28, sentence -> 4}, []}, {chunk, 636, 638, His, {entity -> Gender, confidence -> 0.9999, ner_source -> jsl_ner_chunk, chunk -> 29, sentence -> 5}, []}, {chunk, 663, 674, pancytopenia, {entity -> Symptom, confidence -> 0.8392, ner_source -> jsl_ner_chunk, chunk -> 30, sentence -> 5}, []}, {chunk, 690, 695, severe, {entity -> Modifier, confidence -> 0.8377, ner_source -> jsl_ner_chunk, chunk -> 31, sentence -> 5}, []}, {chunk, 697, 721, deficiency in neutrophils, {entity -> Disease_Syndrome_Disorder, confidence -> 0.38863334, ner_source -> jsl_ner_chunk, chunk -> 32, sentence -> 5}, []}]|\n+-----------------------------------------------------------------------------------------------------------------------------------------------------------------------------------------------------------------------------------------------------------------------------------------------------------------------------------------------------------------------------------------------------------------------------------------------------------------------------------------------------------------------------------------------------------------------------------------------------------------------------------------------------------------------------------------------------------------------------------------------------------------------------------------------------------------------------------------------------------------------------------------------------------------------------------------------------------------------------------------------------------------------------------------------------------------------------------------------------------------------------------------------------------------------------------------------------------------------------------------------------------------------------------------------------------------------------------------------------------------------------------------------------------------------------------------------------------------------------------------------------------------------------------------------------------------------------------------------------------------------------------------------------------------------------------------------------------------------------------------------------------------------------------------------------------------------------------------------------------------------------------------------------------------------------------------------------------------------------------------------------------------------------------------------------------------------------------------------------------------------------------------------------------------------------------------------------------------------------------------------------------------------------------------------------------------------------------------------------------------------------------------------------------------------------------------------------------------------------------------------------------------------------------------------------------------------------------------------------------------------------------------------------------------------------------------------------------------------------------------------------------------------------------------------------------------------------------------------------------------------------------------------------------------------------------------------------------------------------------------------------------------------------------------------------------------------------------------------------------------------------------------------------------------------------------------------------------------------------------------------------------------------------------------------------------------------------------------------------------------------------------------------------------------------------------------------------------------------------------------------------------------------------------------------------------------------------------------------------------------------------------------------------------------------------------------------------------------------------------------------------------------------------------------------------------------------------------------------------------------------------------------------------------------------------------------------------------------------------------------------------------------------------------------------------------------------------------------------------------------------------------------------------------------------------------------------------------------------------------------------------------------------------------------------------------------------------------------------------------------------------------------------------------------------------------------------------------------------------------------------------------------------------------------------------------------------------------------------------------------------------------------------------------------------------------------------------------------------------------------------------------------------------------------------------------+\n\n"
     ]
    }
   ],
   "source": [
    "merged_data.select(\"jsl_ner_chunk\").show(truncate=False)"
   ]
  },
  {
   "cell_type": "code",
   "execution_count": 0,
   "metadata": {
    "application/vnd.databricks.v1+cell": {
     "cellMetadata": {
      "byteLimit": 2048000,
      "rowLimit": 10000
     },
     "inputWidgets": {},
     "nuid": "a0b1b5af-53cd-4e7c-868a-fe8d707b6847",
     "showTitle": false,
     "tableResultSettingsMap": {},
     "title": ""
    },
    "colab": {
     "base_uri": "https://localhost:8080/"
    },
    "id": "-GLlnbuUIuY4",
    "outputId": "2c239cbc-6a92-43be-d80b-8b15f7538398"
   },
   "outputs": [
    {
     "output_type": "stream",
     "name": "stdout",
     "output_type": "stream",
     "text": [
      "+---+-----+---+----------------------------------+-------------------------+\n| id|begin|end|                             chunk|                   entity|\n+---+-----+---+----------------------------------+-------------------------+\n|  1|    2|  3|                                63|                      AGE|\n|  1|   15| 17|                               man|                   Gender|\n|  1|   35| 42|                          hospital|            Clinical_Dept|\n|  1|   62| 70|                         recurrent|                 Modifier|\n|  1|   72| 81|                        infections|Disease_Syndrome_Disorder|\n|  1|   96|105|                        cellulitis|Disease_Syndrome_Disorder|\n|  1|  108|117|                        pneumonias|Disease_Syndrome_Disorder|\n|  1|  124|157|upper respiratory tract infections|Disease_Syndrome_Disorder|\n|  1|  160|161|                                He|                   Gender|\n|  1|  171|180|                        subjective|                 Modifier|\n|  1|  182|187|                            fevers|               VS_Finding|\n|  1|  208|232|         unintentional weight loss|                  Symptom|\n|  1|  238|247|                        occasional|                 Modifier|\n|  1|  249|260|                      night sweats|                  Symptom|\n|  1|  299|307|                         arthritis|Disease_Syndrome_Disorder|\n|  1|  344|355|                      20 years ago|             RelativeDate|\n|  1|  389|400|                      methotrexate|          Drug_Ingredient|\n|  1|  403|405|                               MTX|          Drug_Ingredient|\n|  1|  412|421|                        prednisone|          Drug_Ingredient|\n|  1|  442|443|                                he|                   Gender|\n|  1|  460|466|                           febrile|               VS_Finding|\n|  1|  471|475|                             102°F|              Temperature|\n|  1|  485|493|                         cachectic|                  Symptom|\n|  1|  496|499|                              pale|                  Symptom|\n|  1|  511|528|                hepatosplenomegaly|                  Symptom|\n|  1|  531|537|                           Several|                 Modifier|\n|  1|  539|552|                    swollen joints|                  Symptom|\n|  1|  563|568|                            tender|                  Symptom|\n|  1|  592|616|         decreased range of motion|                  Symptom|\n|  1|  636|638|                               His|                   Gender|\n|  1|  663|674|                      pancytopenia|                  Symptom|\n|  1|  690|695|                            severe|                 Modifier|\n|  1|  697|721|         deficiency in neutrophils|Disease_Syndrome_Disorder|\n+---+-----+---+----------------------------------+-------------------------+\n\n"
     ]
    }
   ],
   "source": [
    "from pyspark.sql import functions as F\n",
    "\n",
    "result_df = merged_data.select('id',F.explode('ner_chunk_new').alias(\"cols\")) \\\n",
    "                       .select('id',F.expr(\"cols.begin\").alias(\"begin\"),\n",
    "                               F.expr(\"cols.end\").alias(\"end\"),\n",
    "                               F.expr(\"cols.result\").alias(\"chunk\"),\n",
    "                               F.expr(\"cols.metadata.entity\").alias(\"entity\"))\n",
    "\n",
    "result_df.show(50, truncate=100)"
   ]
  },
  {
   "cell_type": "markdown",
   "metadata": {
    "application/vnd.databricks.v1+cell": {
     "cellMetadata": {},
     "inputWidgets": {},
     "nuid": "9a6fcdcc-aad5-4f71-90f9-1e2c448c0693",
     "showTitle": false,
     "tableResultSettingsMap": {},
     "title": ""
    }
   },
   "source": [
    "**Merging overlapped chunks by considering their confidence** <br/>\n",
    "\n",
    "If we set `setSelectionStrategy(\"Sequential\")` and `setOrderingFeatures([\"ChunkConfidence\"])` parameters, the chunk with the highest confidence score will be prioritized in case of overlapping."
   ]
  },
  {
   "cell_type": "code",
   "execution_count": 0,
   "metadata": {
    "application/vnd.databricks.v1+cell": {
     "cellMetadata": {
      "byteLimit": 2048000,
      "rowLimit": 10000
     },
     "inputWidgets": {},
     "nuid": "a7008e26-8944-4748-bf4e-087905a19ad8",
     "showTitle": false,
     "tableResultSettingsMap": {},
     "title": ""
    }
   },
   "outputs": [],
   "source": [
    "chunk_merger = medical.ChunkMergeApproach() \\\n",
    "    .setInputCols(\"clinical_ner_chunk\", \"jsl_ner_chunk\") \\\n",
    "    .setOutputCol(\"ner_chunk_new\") \\\n",
    "    .setMergeOverlapping(True) \\\n",
    "    .setOrderingFeatures([\"ChunkConfidence\"])\\\n",
    "    .setSelectionStrategy(\"Sequential\")\n",
    "\n",
    "\n",
    "nlpPipeline = nlp.Pipeline(stages=[\n",
    "    documentAssembler, \n",
    "    sentenceDetector,\n",
    "    tokenizer,\n",
    "    word_embeddings,\n",
    "    clinical_ner,\n",
    "    clinical_ner_converter,\n",
    "    jsl_ner,\n",
    "    jsl_ner_converter,\n",
    "    chunk_merger])\n",
    "\n",
    "empty_data = spark.createDataFrame([[\"\"]]).toDF(\"text\")\n",
    "\n",
    "model = nlpPipeline.fit(empty_data)"
   ]
  },
  {
   "cell_type": "code",
   "execution_count": 0,
   "metadata": {
    "application/vnd.databricks.v1+cell": {
     "cellMetadata": {
      "byteLimit": 2048000,
      "rowLimit": 10000
     },
     "inputWidgets": {},
     "nuid": "bbb67274-d4ba-4c14-a2ba-053c0de4c85c",
     "showTitle": false,
     "tableResultSettingsMap": {},
     "title": ""
    }
   },
   "outputs": [],
   "source": [
    "merged_data = model.transform(data_chunk_merge).cache()"
   ]
  },
  {
   "cell_type": "code",
   "execution_count": 0,
   "metadata": {
    "application/vnd.databricks.v1+cell": {
     "cellMetadata": {
      "byteLimit": 2048000,
      "rowLimit": 10000
     },
     "inputWidgets": {},
     "nuid": "ce6e884b-931d-404f-9563-6c40c6cbb0b5",
     "showTitle": false,
     "tableResultSettingsMap": {},
     "title": ""
    }
   },
   "outputs": [
    {
     "output_type": "stream",
     "name": "stdout",
     "output_type": "stream",
     "text": [
      "+---------------------------------------------------------------------------------------------------------------------------+\n|clinical_ner_chunk                                                                                                         |\n+---------------------------------------------------------------------------------------------------------------------------+\n|[{chunk, 2, 3, 63, {chunk -> 0, confidence -> 0.9997, ner_source -> clinical_ner_chunk, entity -> AGE, sentence -> 0}, []}]|\n+---------------------------------------------------------------------------------------------------------------------------+\n\n"
     ]
    }
   ],
   "source": [
    "merged_data.select(\"clinical_ner_chunk\").show(truncate=False)"
   ]
  },
  {
   "cell_type": "code",
   "execution_count": 0,
   "metadata": {
    "application/vnd.databricks.v1+cell": {
     "cellMetadata": {
      "byteLimit": 2048000,
      "rowLimit": 10000
     },
     "inputWidgets": {},
     "nuid": "c288a551-3f21-4c43-af28-416077a51579",
     "showTitle": false,
     "tableResultSettingsMap": {},
     "title": ""
    }
   },
   "outputs": [
    {
     "output_type": "stream",
     "name": "stdout",
     "output_type": "stream",
     "text": [
      "+-----------------------------------------------------------------------------------------------------------------------------------------------------------------------------------------------------------------------------------------------------------------------------------------------------------------------------------------------------------------------------------------------------------------------------------------------------------------------------------------------------------------------------------------------------------------------------------------------------------------------------------------------------------------------------------------------------------------------------------------------------------------------------------------------------------------------------------------------------------------------------------------------------------------------------------------------------------------------------------------------------------------------------------------------------------------------------------------------------------------------------------------------------------------------------------------------------------------------------------------------------------------------------------------------------------------------------------------------------------------------------------------------------------------------------------------------------------------------------------------------------------------------------------------------------------------------------------------------------------------------------------------------------------------------------------------------------------------------------------------------------------------------------------------------------------------------------------------------------------------------------------------------------------------------------------------------------------------------------------------------------------------------------------------------------------------------------------------------------------------------------------------------------------------------------------------------------------------------------------------------------------------------------------------------------------------------------------------------------------------------------------------------------------------------------------------------------------------------------------------------------------------------------------------------------------------------------------------------------------------------------------------------------------------------------------------------------------------------------------------------------------------------------------------------------------------------------------------------------------------------------------------------------------------------------------------------------------------------------------------------------------------------------------------------------------------------------------------------------------------------------------------------------------------------------------------------------------------------------------------------------------------------------------------------------------------------------------------------------------------------------------------------------------------------------------------------------------------------------------------------------------------------------------------------------------------------------------------------------------------------------------------------------------------------------------------------------------------------------------------------------------------------------------------------------------------------------------------------------------------------------------------------------------------------------------------------------------------------------------------------------------------------------------------------------------------------------------------------------------------------------------------------------------------------------------------------------------------------------------------------------------------------------------------------------------------------------------------------------------------------------------------------------------------------------------------------------------------------------------------------------------------------------------------------------------------------------------------------------------------------------------------------------------------------------------------------------------------------------------------------------------------------------------------------------------+\n|jsl_ner_chunk                                                                                                                                                                                                                                                                                                                                                                                                                                                                                                                                                                                                                                                                                                                                                                                                                                                                                                                                                                                                                                                                                                                                                                                                                                                                                                                                                                                                                                                                                                                                                                                                                                                                                                                                                                                                                                                                                                                                                                                                                                                                                                                                                                                                                                                                                                                                                                                                                                                                                                                                                                                                                                                                                                                                                                                                                                                                                                                                                                                                                                                                                                                                                                                                                                                                                                                                                                                                                                                                                                                                                                                                                                                                                                                                                                                                                                                                                                                                                                                                                                                                                                                                                                                                                                                                                                                                                                                                                                                                                                                                                                                                                                                                                                                                                                                              |\n+-----------------------------------------------------------------------------------------------------------------------------------------------------------------------------------------------------------------------------------------------------------------------------------------------------------------------------------------------------------------------------------------------------------------------------------------------------------------------------------------------------------------------------------------------------------------------------------------------------------------------------------------------------------------------------------------------------------------------------------------------------------------------------------------------------------------------------------------------------------------------------------------------------------------------------------------------------------------------------------------------------------------------------------------------------------------------------------------------------------------------------------------------------------------------------------------------------------------------------------------------------------------------------------------------------------------------------------------------------------------------------------------------------------------------------------------------------------------------------------------------------------------------------------------------------------------------------------------------------------------------------------------------------------------------------------------------------------------------------------------------------------------------------------------------------------------------------------------------------------------------------------------------------------------------------------------------------------------------------------------------------------------------------------------------------------------------------------------------------------------------------------------------------------------------------------------------------------------------------------------------------------------------------------------------------------------------------------------------------------------------------------------------------------------------------------------------------------------------------------------------------------------------------------------------------------------------------------------------------------------------------------------------------------------------------------------------------------------------------------------------------------------------------------------------------------------------------------------------------------------------------------------------------------------------------------------------------------------------------------------------------------------------------------------------------------------------------------------------------------------------------------------------------------------------------------------------------------------------------------------------------------------------------------------------------------------------------------------------------------------------------------------------------------------------------------------------------------------------------------------------------------------------------------------------------------------------------------------------------------------------------------------------------------------------------------------------------------------------------------------------------------------------------------------------------------------------------------------------------------------------------------------------------------------------------------------------------------------------------------------------------------------------------------------------------------------------------------------------------------------------------------------------------------------------------------------------------------------------------------------------------------------------------------------------------------------------------------------------------------------------------------------------------------------------------------------------------------------------------------------------------------------------------------------------------------------------------------------------------------------------------------------------------------------------------------------------------------------------------------------------------------------------------------------------------------+\n|[{chunk, 2, 13, 63 years old, {entity -> Age, confidence -> 0.85873336, ner_source -> jsl_ner_chunk, chunk -> 0, sentence -> 0}, []}, {chunk, 15, 17, man, {entity -> Gender, confidence -> 0.9976, ner_source -> jsl_ner_chunk, chunk -> 1, sentence -> 0}, []}, {chunk, 35, 42, hospital, {entity -> Clinical_Dept, confidence -> 0.9609, ner_source -> jsl_ner_chunk, chunk -> 2, sentence -> 0}, []}, {chunk, 62, 70, recurrent, {entity -> Modifier, confidence -> 0.9651, ner_source -> jsl_ner_chunk, chunk -> 3, sentence -> 0}, []}, {chunk, 72, 81, infections, {entity -> Disease_Syndrome_Disorder, confidence -> 0.9387, ner_source -> jsl_ner_chunk, chunk -> 4, sentence -> 0}, []}, {chunk, 96, 105, cellulitis, {entity -> Disease_Syndrome_Disorder, confidence -> 0.994, ner_source -> jsl_ner_chunk, chunk -> 5, sentence -> 0}, []}, {chunk, 108, 117, pneumonias, {entity -> Disease_Syndrome_Disorder, confidence -> 0.9978, ner_source -> jsl_ner_chunk, chunk -> 6, sentence -> 0}, []}, {chunk, 124, 157, upper respiratory tract infections, {entity -> Disease_Syndrome_Disorder, confidence -> 0.5562, ner_source -> jsl_ner_chunk, chunk -> 7, sentence -> 0}, []}, {chunk, 160, 161, He, {entity -> Gender, confidence -> 0.9999, ner_source -> jsl_ner_chunk, chunk -> 8, sentence -> 1}, []}, {chunk, 171, 180, subjective, {entity -> Modifier, confidence -> 0.8527, ner_source -> jsl_ner_chunk, chunk -> 9, sentence -> 1}, []}, {chunk, 182, 187, fevers, {entity -> VS_Finding, confidence -> 0.9498, ner_source -> jsl_ner_chunk, chunk -> 10, sentence -> 1}, []}, {chunk, 208, 232, unintentional weight loss, {entity -> Symptom, confidence -> 0.58316666, ner_source -> jsl_ner_chunk, chunk -> 11, sentence -> 1}, []}, {chunk, 238, 247, occasional, {entity -> Modifier, confidence -> 0.9434, ner_source -> jsl_ner_chunk, chunk -> 12, sentence -> 1}, []}, {chunk, 249, 260, night sweats, {entity -> Symptom, confidence -> 0.52355003, ner_source -> jsl_ner_chunk, chunk -> 13, sentence -> 1}, []}, {chunk, 299, 307, arthritis, {entity -> Disease_Syndrome_Disorder, confidence -> 0.9909, ner_source -> jsl_ner_chunk, chunk -> 14, sentence -> 2}, []}, {chunk, 344, 355, 20 years ago, {entity -> RelativeDate, confidence -> 0.6714, ner_source -> jsl_ner_chunk, chunk -> 15, sentence -> 2}, []}, {chunk, 389, 400, methotrexate, {entity -> Drug_Ingredient, confidence -> 0.998, ner_source -> jsl_ner_chunk, chunk -> 16, sentence -> 2}, []}, {chunk, 403, 405, MTX, {entity -> Drug_Ingredient, confidence -> 0.9961, ner_source -> jsl_ner_chunk, chunk -> 17, sentence -> 2}, []}, {chunk, 412, 421, prednisone, {entity -> Drug_Ingredient, confidence -> 0.9968, ner_source -> jsl_ner_chunk, chunk -> 18, sentence -> 2}, []}, {chunk, 442, 443, he, {entity -> Gender, confidence -> 0.9998, ner_source -> jsl_ner_chunk, chunk -> 19, sentence -> 3}, []}, {chunk, 460, 466, febrile, {entity -> VS_Finding, confidence -> 0.9517, ner_source -> jsl_ner_chunk, chunk -> 20, sentence -> 3}, []}, {chunk, 471, 475, 102°F, {entity -> Temperature, confidence -> 0.3688, ner_source -> jsl_ner_chunk, chunk -> 21, sentence -> 3}, []}, {chunk, 485, 493, cachectic, {entity -> Symptom, confidence -> 0.9434, ner_source -> jsl_ner_chunk, chunk -> 22, sentence -> 3}, []}, {chunk, 496, 499, pale, {entity -> Symptom, confidence -> 0.7541, ner_source -> jsl_ner_chunk, chunk -> 23, sentence -> 3}, []}, {chunk, 511, 528, hepatosplenomegaly, {entity -> Symptom, confidence -> 0.969, ner_source -> jsl_ner_chunk, chunk -> 24, sentence -> 3}, []}, {chunk, 531, 537, Several, {entity -> Modifier, confidence -> 0.8582, ner_source -> jsl_ner_chunk, chunk -> 25, sentence -> 4}, []}, {chunk, 539, 552, swollen joints, {entity -> Symptom, confidence -> 0.66595, ner_source -> jsl_ner_chunk, chunk -> 26, sentence -> 4}, []}, {chunk, 563, 568, tender, {entity -> Symptom, confidence -> 0.8758, ner_source -> jsl_ner_chunk, chunk -> 27, sentence -> 4}, []}, {chunk, 592, 616, decreased range of motion, {entity -> Symptom, confidence -> 0.499075, ner_source -> jsl_ner_chunk, chunk -> 28, sentence -> 4}, []}, {chunk, 636, 638, His, {entity -> Gender, confidence -> 0.9999, ner_source -> jsl_ner_chunk, chunk -> 29, sentence -> 5}, []}, {chunk, 663, 674, pancytopenia, {entity -> Symptom, confidence -> 0.8392, ner_source -> jsl_ner_chunk, chunk -> 30, sentence -> 5}, []}, {chunk, 690, 695, severe, {entity -> Modifier, confidence -> 0.8377, ner_source -> jsl_ner_chunk, chunk -> 31, sentence -> 5}, []}, {chunk, 697, 721, deficiency in neutrophils, {entity -> Disease_Syndrome_Disorder, confidence -> 0.38863334, ner_source -> jsl_ner_chunk, chunk -> 32, sentence -> 5}, []}]|\n+-----------------------------------------------------------------------------------------------------------------------------------------------------------------------------------------------------------------------------------------------------------------------------------------------------------------------------------------------------------------------------------------------------------------------------------------------------------------------------------------------------------------------------------------------------------------------------------------------------------------------------------------------------------------------------------------------------------------------------------------------------------------------------------------------------------------------------------------------------------------------------------------------------------------------------------------------------------------------------------------------------------------------------------------------------------------------------------------------------------------------------------------------------------------------------------------------------------------------------------------------------------------------------------------------------------------------------------------------------------------------------------------------------------------------------------------------------------------------------------------------------------------------------------------------------------------------------------------------------------------------------------------------------------------------------------------------------------------------------------------------------------------------------------------------------------------------------------------------------------------------------------------------------------------------------------------------------------------------------------------------------------------------------------------------------------------------------------------------------------------------------------------------------------------------------------------------------------------------------------------------------------------------------------------------------------------------------------------------------------------------------------------------------------------------------------------------------------------------------------------------------------------------------------------------------------------------------------------------------------------------------------------------------------------------------------------------------------------------------------------------------------------------------------------------------------------------------------------------------------------------------------------------------------------------------------------------------------------------------------------------------------------------------------------------------------------------------------------------------------------------------------------------------------------------------------------------------------------------------------------------------------------------------------------------------------------------------------------------------------------------------------------------------------------------------------------------------------------------------------------------------------------------------------------------------------------------------------------------------------------------------------------------------------------------------------------------------------------------------------------------------------------------------------------------------------------------------------------------------------------------------------------------------------------------------------------------------------------------------------------------------------------------------------------------------------------------------------------------------------------------------------------------------------------------------------------------------------------------------------------------------------------------------------------------------------------------------------------------------------------------------------------------------------------------------------------------------------------------------------------------------------------------------------------------------------------------------------------------------------------------------------------------------------------------------------------------------------------------------------------------------------------------------------------------------------+\n\n"
     ]
    }
   ],
   "source": [
    "merged_data.select(\"jsl_ner_chunk\").show(truncate=False)"
   ]
  },
  {
   "cell_type": "code",
   "execution_count": 0,
   "metadata": {
    "application/vnd.databricks.v1+cell": {
     "cellMetadata": {
      "byteLimit": 2048000,
      "rowLimit": 10000
     },
     "inputWidgets": {},
     "nuid": "d75053e0-dbca-49d3-9008-7ee07d28daa5",
     "showTitle": false,
     "tableResultSettingsMap": {},
     "title": ""
    }
   },
   "outputs": [
    {
     "output_type": "stream",
     "name": "stdout",
     "output_type": "stream",
     "text": [
      "+---+-----+---+----------------------------------+-------------------------+\n| id|begin|end|                             chunk|                   entity|\n+---+-----+---+----------------------------------+-------------------------+\n|  1|    2|  3|                                63|                      AGE|\n|  1|   15| 17|                               man|                   Gender|\n|  1|   35| 42|                          hospital|            Clinical_Dept|\n|  1|   62| 70|                         recurrent|                 Modifier|\n|  1|   72| 81|                        infections|Disease_Syndrome_Disorder|\n|  1|   96|105|                        cellulitis|Disease_Syndrome_Disorder|\n|  1|  108|117|                        pneumonias|Disease_Syndrome_Disorder|\n|  1|  124|157|upper respiratory tract infections|Disease_Syndrome_Disorder|\n|  1|  160|161|                                He|                   Gender|\n|  1|  171|180|                        subjective|                 Modifier|\n|  1|  182|187|                            fevers|               VS_Finding|\n|  1|  208|232|         unintentional weight loss|                  Symptom|\n|  1|  238|247|                        occasional|                 Modifier|\n|  1|  249|260|                      night sweats|                  Symptom|\n|  1|  299|307|                         arthritis|Disease_Syndrome_Disorder|\n|  1|  344|355|                      20 years ago|             RelativeDate|\n|  1|  389|400|                      methotrexate|          Drug_Ingredient|\n|  1|  403|405|                               MTX|          Drug_Ingredient|\n|  1|  412|421|                        prednisone|          Drug_Ingredient|\n|  1|  442|443|                                he|                   Gender|\n|  1|  460|466|                           febrile|               VS_Finding|\n|  1|  471|475|                             102°F|              Temperature|\n|  1|  485|493|                         cachectic|                  Symptom|\n|  1|  496|499|                              pale|                  Symptom|\n|  1|  511|528|                hepatosplenomegaly|                  Symptom|\n|  1|  531|537|                           Several|                 Modifier|\n|  1|  539|552|                    swollen joints|                  Symptom|\n|  1|  563|568|                            tender|                  Symptom|\n|  1|  592|616|         decreased range of motion|                  Symptom|\n|  1|  636|638|                               His|                   Gender|\n|  1|  663|674|                      pancytopenia|                  Symptom|\n|  1|  690|695|                            severe|                 Modifier|\n|  1|  697|721|         deficiency in neutrophils|Disease_Syndrome_Disorder|\n+---+-----+---+----------------------------------+-------------------------+\n\n"
     ]
    }
   ],
   "source": [
    "from pyspark.sql import functions as F\n",
    "\n",
    "result_df = merged_data.select('id',F.explode('ner_chunk_new').alias(\"cols\")) \\\n",
    "                       .select('id',F.expr(\"cols.begin\").alias(\"begin\"),\n",
    "                               F.expr(\"cols.end\").alias(\"end\"),\n",
    "                               F.expr(\"cols.result\").alias(\"chunk\"),\n",
    "                               F.expr(\"cols.metadata.entity\").alias(\"entity\"))\n",
    "\n",
    "result_df.show(50, truncate=100)"
   ]
  },
  {
   "cell_type": "markdown",
   "metadata": {
    "application/vnd.databricks.v1+cell": {
     "cellMetadata": {},
     "inputWidgets": {},
     "nuid": "14c45223-8026-4dfc-965f-3954be3880cd",
     "showTitle": false,
     "tableResultSettingsMap": {},
     "title": ""
    }
   },
   "source": [
    "**Merging overlapped chunks by considering custom values that we set** <br/>\n",
    "`setChunkPrecedence()` parameter contains an Array of comma separated values representing the desired order of prioritization for the VALUES in the metadata fields included from `setOrderingFeatures([\"chunkPrecedence\"])`."
   ]
  },
  {
   "cell_type": "code",
   "execution_count": 0,
   "metadata": {
    "application/vnd.databricks.v1+cell": {
     "cellMetadata": {
      "byteLimit": 2048000,
      "rowLimit": 10000
     },
     "inputWidgets": {},
     "nuid": "a45b5911-2021-47f4-bd80-e0f3449e3be6",
     "showTitle": false,
     "tableResultSettingsMap": {},
     "title": ""
    }
   },
   "outputs": [],
   "source": [
    "chunk_merger = medical.ChunkMergeApproach() \\\n",
    "    .setInputCols(\"clinical_ner_chunk\", \"jsl_ner_chunk\") \\\n",
    "    .setOutputCol(\"ner_chunk_new\") \\\n",
    "    .setMergeOverlapping(True) \\\n",
    "    .setOrderingFeatures([\"ChunkPrecedence\"]) \\\n",
    "    .setChunkPrecedence('clinical_ner_chunk,AGE') \\\n",
    "#    .setChunkPrecedenceValuePrioritization([\"clinical_ner_chunk,AGE\", \"jsl_ner_chunk,Age\"]) \n",
    "\n",
    "nlpPipeline = nlp.Pipeline(stages=[\n",
    "    documentAssembler, \n",
    "    sentenceDetector,\n",
    "    tokenizer,\n",
    "    word_embeddings,\n",
    "    clinical_ner,\n",
    "    clinical_ner_converter,\n",
    "    jsl_ner,\n",
    "    jsl_ner_converter,\n",
    "    chunk_merger])\n",
    "\n",
    "empty_data = spark.createDataFrame([[\"\"]]).toDF(\"text\")\n",
    "\n",
    "model = nlpPipeline.fit(empty_data)"
   ]
  },
  {
   "cell_type": "code",
   "execution_count": 0,
   "metadata": {
    "application/vnd.databricks.v1+cell": {
     "cellMetadata": {
      "byteLimit": 2048000,
      "rowLimit": 10000
     },
     "inputWidgets": {},
     "nuid": "8fd4b64e-b850-406d-929a-781c8ff2f5b7",
     "showTitle": false,
     "tableResultSettingsMap": {},
     "title": ""
    }
   },
   "outputs": [],
   "source": [
    "merged_data = model.transform(data_chunk_merge)"
   ]
  },
  {
   "cell_type": "code",
   "execution_count": 0,
   "metadata": {
    "application/vnd.databricks.v1+cell": {
     "cellMetadata": {
      "byteLimit": 2048000,
      "rowLimit": 10000
     },
     "inputWidgets": {},
     "nuid": "1b633939-62bc-4596-8351-6d757165addf",
     "showTitle": false,
     "tableResultSettingsMap": {},
     "title": ""
    }
   },
   "outputs": [
    {
     "output_type": "stream",
     "name": "stdout",
     "output_type": "stream",
     "text": [
      "+---------------------------------------------------------------------------------------------------------------------------+\n|clinical_ner_chunk                                                                                                         |\n+---------------------------------------------------------------------------------------------------------------------------+\n|[{chunk, 2, 3, 63, {chunk -> 0, confidence -> 0.9997, ner_source -> clinical_ner_chunk, entity -> AGE, sentence -> 0}, []}]|\n+---------------------------------------------------------------------------------------------------------------------------+\n\n"
     ]
    }
   ],
   "source": [
    "merged_data.select(\"clinical_ner_chunk\").show(truncate=False)"
   ]
  },
  {
   "cell_type": "code",
   "execution_count": 0,
   "metadata": {
    "application/vnd.databricks.v1+cell": {
     "cellMetadata": {
      "byteLimit": 2048000,
      "rowLimit": 10000
     },
     "inputWidgets": {},
     "nuid": "2170656d-8a3e-4b3b-b0ea-b263bc91b56d",
     "showTitle": false,
     "tableResultSettingsMap": {},
     "title": ""
    }
   },
   "outputs": [
    {
     "output_type": "stream",
     "name": "stdout",
     "output_type": "stream",
     "text": [
      "+-----------------------------------------------------------------------------------------------------------------------------------------------------------------------------------------------------------------------------------------------------------------------------------------------------------------------------------------------------------------------------------------------------------------------------------------------------------------------------------------------------------------------------------------------------------------------------------------------------------------------------------------------------------------------------------------------------------------------------------------------------------------------------------------------------------------------------------------------------------------------------------------------------------------------------------------------------------------------------------------------------------------------------------------------------------------------------------------------------------------------------------------------------------------------------------------------------------------------------------------------------------------------------------------------------------------------------------------------------------------------------------------------------------------------------------------------------------------------------------------------------------------------------------------------------------------------------------------------------------------------------------------------------------------------------------------------------------------------------------------------------------------------------------------------------------------------------------------------------------------------------------------------------------------------------------------------------------------------------------------------------------------------------------------------------------------------------------------------------------------------------------------------------------------------------------------------------------------------------------------------------------------------------------------------------------------------------------------------------------------------------------------------------------------------------------------------------------------------------------------------------------------------------------------------------------------------------------------------------------------------------------------------------------------------------------------------------------------------------------------------------------------------------------------------------------------------------------------------------------------------------------------------------------------------------------------------------------------------------------------------------------------------------------------------------------------------------------------------------------------------------------------------------------------------------------------------------------------------------------------------------------------------------------------------------------------------------------------------------------------------------------------------------------------------------------------------------------------------------------------------------------------------------------------------------------------------------------------------------------------------------------------------------------------------------------------------------------------------------------------------------------------------------------------------------------------------------------------------------------------------------------------------------------------------------------------------------------------------------------------------------------------------------------------------------------------------------------------------------------------------------------------------------------------------------------------------------------------------------------------------------------------------------------------------------------------------------------------------------------------------------------------------------------------------------------------------------------------------------------------------------------------------------------------------------------------------------------------------------------------------------------------------------------------------------------------------------------------------------------------------------------------------------------------------------------+\n|jsl_ner_chunk                                                                                                                                                                                                                                                                                                                                                                                                                                                                                                                                                                                                                                                                                                                                                                                                                                                                                                                                                                                                                                                                                                                                                                                                                                                                                                                                                                                                                                                                                                                                                                                                                                                                                                                                                                                                                                                                                                                                                                                                                                                                                                                                                                                                                                                                                                                                                                                                                                                                                                                                                                                                                                                                                                                                                                                                                                                                                                                                                                                                                                                                                                                                                                                                                                                                                                                                                                                                                                                                                                                                                                                                                                                                                                                                                                                                                                                                                                                                                                                                                                                                                                                                                                                                                                                                                                                                                                                                                                                                                                                                                                                                                                                                                                                                                                                              |\n+-----------------------------------------------------------------------------------------------------------------------------------------------------------------------------------------------------------------------------------------------------------------------------------------------------------------------------------------------------------------------------------------------------------------------------------------------------------------------------------------------------------------------------------------------------------------------------------------------------------------------------------------------------------------------------------------------------------------------------------------------------------------------------------------------------------------------------------------------------------------------------------------------------------------------------------------------------------------------------------------------------------------------------------------------------------------------------------------------------------------------------------------------------------------------------------------------------------------------------------------------------------------------------------------------------------------------------------------------------------------------------------------------------------------------------------------------------------------------------------------------------------------------------------------------------------------------------------------------------------------------------------------------------------------------------------------------------------------------------------------------------------------------------------------------------------------------------------------------------------------------------------------------------------------------------------------------------------------------------------------------------------------------------------------------------------------------------------------------------------------------------------------------------------------------------------------------------------------------------------------------------------------------------------------------------------------------------------------------------------------------------------------------------------------------------------------------------------------------------------------------------------------------------------------------------------------------------------------------------------------------------------------------------------------------------------------------------------------------------------------------------------------------------------------------------------------------------------------------------------------------------------------------------------------------------------------------------------------------------------------------------------------------------------------------------------------------------------------------------------------------------------------------------------------------------------------------------------------------------------------------------------------------------------------------------------------------------------------------------------------------------------------------------------------------------------------------------------------------------------------------------------------------------------------------------------------------------------------------------------------------------------------------------------------------------------------------------------------------------------------------------------------------------------------------------------------------------------------------------------------------------------------------------------------------------------------------------------------------------------------------------------------------------------------------------------------------------------------------------------------------------------------------------------------------------------------------------------------------------------------------------------------------------------------------------------------------------------------------------------------------------------------------------------------------------------------------------------------------------------------------------------------------------------------------------------------------------------------------------------------------------------------------------------------------------------------------------------------------------------------------------------------------------------------------------------+\n|[{chunk, 2, 13, 63 years old, {entity -> Age, confidence -> 0.85873336, ner_source -> jsl_ner_chunk, chunk -> 0, sentence -> 0}, []}, {chunk, 15, 17, man, {entity -> Gender, confidence -> 0.9976, ner_source -> jsl_ner_chunk, chunk -> 1, sentence -> 0}, []}, {chunk, 35, 42, hospital, {entity -> Clinical_Dept, confidence -> 0.9609, ner_source -> jsl_ner_chunk, chunk -> 2, sentence -> 0}, []}, {chunk, 62, 70, recurrent, {entity -> Modifier, confidence -> 0.9651, ner_source -> jsl_ner_chunk, chunk -> 3, sentence -> 0}, []}, {chunk, 72, 81, infections, {entity -> Disease_Syndrome_Disorder, confidence -> 0.9387, ner_source -> jsl_ner_chunk, chunk -> 4, sentence -> 0}, []}, {chunk, 96, 105, cellulitis, {entity -> Disease_Syndrome_Disorder, confidence -> 0.994, ner_source -> jsl_ner_chunk, chunk -> 5, sentence -> 0}, []}, {chunk, 108, 117, pneumonias, {entity -> Disease_Syndrome_Disorder, confidence -> 0.9978, ner_source -> jsl_ner_chunk, chunk -> 6, sentence -> 0}, []}, {chunk, 124, 157, upper respiratory tract infections, {entity -> Disease_Syndrome_Disorder, confidence -> 0.5562, ner_source -> jsl_ner_chunk, chunk -> 7, sentence -> 0}, []}, {chunk, 160, 161, He, {entity -> Gender, confidence -> 0.9999, ner_source -> jsl_ner_chunk, chunk -> 8, sentence -> 1}, []}, {chunk, 171, 180, subjective, {entity -> Modifier, confidence -> 0.8527, ner_source -> jsl_ner_chunk, chunk -> 9, sentence -> 1}, []}, {chunk, 182, 187, fevers, {entity -> VS_Finding, confidence -> 0.9498, ner_source -> jsl_ner_chunk, chunk -> 10, sentence -> 1}, []}, {chunk, 208, 232, unintentional weight loss, {entity -> Symptom, confidence -> 0.58316666, ner_source -> jsl_ner_chunk, chunk -> 11, sentence -> 1}, []}, {chunk, 238, 247, occasional, {entity -> Modifier, confidence -> 0.9434, ner_source -> jsl_ner_chunk, chunk -> 12, sentence -> 1}, []}, {chunk, 249, 260, night sweats, {entity -> Symptom, confidence -> 0.52355003, ner_source -> jsl_ner_chunk, chunk -> 13, sentence -> 1}, []}, {chunk, 299, 307, arthritis, {entity -> Disease_Syndrome_Disorder, confidence -> 0.9909, ner_source -> jsl_ner_chunk, chunk -> 14, sentence -> 2}, []}, {chunk, 344, 355, 20 years ago, {entity -> RelativeDate, confidence -> 0.6714, ner_source -> jsl_ner_chunk, chunk -> 15, sentence -> 2}, []}, {chunk, 389, 400, methotrexate, {entity -> Drug_Ingredient, confidence -> 0.998, ner_source -> jsl_ner_chunk, chunk -> 16, sentence -> 2}, []}, {chunk, 403, 405, MTX, {entity -> Drug_Ingredient, confidence -> 0.9961, ner_source -> jsl_ner_chunk, chunk -> 17, sentence -> 2}, []}, {chunk, 412, 421, prednisone, {entity -> Drug_Ingredient, confidence -> 0.9968, ner_source -> jsl_ner_chunk, chunk -> 18, sentence -> 2}, []}, {chunk, 442, 443, he, {entity -> Gender, confidence -> 0.9998, ner_source -> jsl_ner_chunk, chunk -> 19, sentence -> 3}, []}, {chunk, 460, 466, febrile, {entity -> VS_Finding, confidence -> 0.9517, ner_source -> jsl_ner_chunk, chunk -> 20, sentence -> 3}, []}, {chunk, 471, 475, 102°F, {entity -> Temperature, confidence -> 0.3688, ner_source -> jsl_ner_chunk, chunk -> 21, sentence -> 3}, []}, {chunk, 485, 493, cachectic, {entity -> Symptom, confidence -> 0.9434, ner_source -> jsl_ner_chunk, chunk -> 22, sentence -> 3}, []}, {chunk, 496, 499, pale, {entity -> Symptom, confidence -> 0.7541, ner_source -> jsl_ner_chunk, chunk -> 23, sentence -> 3}, []}, {chunk, 511, 528, hepatosplenomegaly, {entity -> Symptom, confidence -> 0.969, ner_source -> jsl_ner_chunk, chunk -> 24, sentence -> 3}, []}, {chunk, 531, 537, Several, {entity -> Modifier, confidence -> 0.8582, ner_source -> jsl_ner_chunk, chunk -> 25, sentence -> 4}, []}, {chunk, 539, 552, swollen joints, {entity -> Symptom, confidence -> 0.66595, ner_source -> jsl_ner_chunk, chunk -> 26, sentence -> 4}, []}, {chunk, 563, 568, tender, {entity -> Symptom, confidence -> 0.8758, ner_source -> jsl_ner_chunk, chunk -> 27, sentence -> 4}, []}, {chunk, 592, 616, decreased range of motion, {entity -> Symptom, confidence -> 0.499075, ner_source -> jsl_ner_chunk, chunk -> 28, sentence -> 4}, []}, {chunk, 636, 638, His, {entity -> Gender, confidence -> 0.9999, ner_source -> jsl_ner_chunk, chunk -> 29, sentence -> 5}, []}, {chunk, 663, 674, pancytopenia, {entity -> Symptom, confidence -> 0.8392, ner_source -> jsl_ner_chunk, chunk -> 30, sentence -> 5}, []}, {chunk, 690, 695, severe, {entity -> Modifier, confidence -> 0.8377, ner_source -> jsl_ner_chunk, chunk -> 31, sentence -> 5}, []}, {chunk, 697, 721, deficiency in neutrophils, {entity -> Disease_Syndrome_Disorder, confidence -> 0.38863334, ner_source -> jsl_ner_chunk, chunk -> 32, sentence -> 5}, []}]|\n+-----------------------------------------------------------------------------------------------------------------------------------------------------------------------------------------------------------------------------------------------------------------------------------------------------------------------------------------------------------------------------------------------------------------------------------------------------------------------------------------------------------------------------------------------------------------------------------------------------------------------------------------------------------------------------------------------------------------------------------------------------------------------------------------------------------------------------------------------------------------------------------------------------------------------------------------------------------------------------------------------------------------------------------------------------------------------------------------------------------------------------------------------------------------------------------------------------------------------------------------------------------------------------------------------------------------------------------------------------------------------------------------------------------------------------------------------------------------------------------------------------------------------------------------------------------------------------------------------------------------------------------------------------------------------------------------------------------------------------------------------------------------------------------------------------------------------------------------------------------------------------------------------------------------------------------------------------------------------------------------------------------------------------------------------------------------------------------------------------------------------------------------------------------------------------------------------------------------------------------------------------------------------------------------------------------------------------------------------------------------------------------------------------------------------------------------------------------------------------------------------------------------------------------------------------------------------------------------------------------------------------------------------------------------------------------------------------------------------------------------------------------------------------------------------------------------------------------------------------------------------------------------------------------------------------------------------------------------------------------------------------------------------------------------------------------------------------------------------------------------------------------------------------------------------------------------------------------------------------------------------------------------------------------------------------------------------------------------------------------------------------------------------------------------------------------------------------------------------------------------------------------------------------------------------------------------------------------------------------------------------------------------------------------------------------------------------------------------------------------------------------------------------------------------------------------------------------------------------------------------------------------------------------------------------------------------------------------------------------------------------------------------------------------------------------------------------------------------------------------------------------------------------------------------------------------------------------------------------------------------------------------------------------------------------------------------------------------------------------------------------------------------------------------------------------------------------------------------------------------------------------------------------------------------------------------------------------------------------------------------------------------------------------------------------------------------------------------------------------------------------------------------------------------------------------------+\n\n"
     ]
    }
   ],
   "source": [
    "merged_data.select(\"jsl_ner_chunk\").show(truncate=False)"
   ]
  },
  {
   "cell_type": "code",
   "execution_count": 0,
   "metadata": {
    "application/vnd.databricks.v1+cell": {
     "cellMetadata": {
      "byteLimit": 2048000,
      "rowLimit": 10000
     },
     "inputWidgets": {},
     "nuid": "339309bb-f0b6-4e65-a453-347602290d45",
     "showTitle": false,
     "tableResultSettingsMap": {},
     "title": ""
    }
   },
   "outputs": [
    {
     "output_type": "stream",
     "name": "stdout",
     "output_type": "stream",
     "text": [
      "+---+-----+---+----------------------------------+-------------------------+\n| id|begin|end|                             chunk|                   entity|\n+---+-----+---+----------------------------------+-------------------------+\n|  1|    2|  3|                                63|                      AGE|\n|  1|   15| 17|                               man|                   Gender|\n|  1|   35| 42|                          hospital|            Clinical_Dept|\n|  1|   62| 70|                         recurrent|                 Modifier|\n|  1|   72| 81|                        infections|Disease_Syndrome_Disorder|\n|  1|   96|105|                        cellulitis|Disease_Syndrome_Disorder|\n|  1|  108|117|                        pneumonias|Disease_Syndrome_Disorder|\n|  1|  124|157|upper respiratory tract infections|Disease_Syndrome_Disorder|\n|  1|  160|161|                                He|                   Gender|\n|  1|  171|180|                        subjective|                 Modifier|\n|  1|  182|187|                            fevers|               VS_Finding|\n|  1|  208|232|         unintentional weight loss|                  Symptom|\n|  1|  238|247|                        occasional|                 Modifier|\n|  1|  249|260|                      night sweats|                  Symptom|\n|  1|  299|307|                         arthritis|Disease_Syndrome_Disorder|\n|  1|  344|355|                      20 years ago|             RelativeDate|\n|  1|  389|400|                      methotrexate|          Drug_Ingredient|\n|  1|  403|405|                               MTX|          Drug_Ingredient|\n|  1|  412|421|                        prednisone|          Drug_Ingredient|\n|  1|  442|443|                                he|                   Gender|\n|  1|  460|466|                           febrile|               VS_Finding|\n|  1|  471|475|                             102°F|              Temperature|\n|  1|  485|493|                         cachectic|                  Symptom|\n|  1|  496|499|                              pale|                  Symptom|\n|  1|  511|528|                hepatosplenomegaly|                  Symptom|\n|  1|  531|537|                           Several|                 Modifier|\n|  1|  539|552|                    swollen joints|                  Symptom|\n|  1|  563|568|                            tender|                  Symptom|\n|  1|  592|616|         decreased range of motion|                  Symptom|\n|  1|  636|638|                               His|                   Gender|\n|  1|  663|674|                      pancytopenia|                  Symptom|\n|  1|  690|695|                            severe|                 Modifier|\n|  1|  697|721|         deficiency in neutrophils|Disease_Syndrome_Disorder|\n+---+-----+---+----------------------------------+-------------------------+\n\n"
     ]
    }
   ],
   "source": [
    "from pyspark.sql import functions as F\n",
    "\n",
    "result_df = merged_data.select('id',F.explode('ner_chunk_new').alias(\"cols\")) \\\n",
    "                       .select('id',F.expr(\"cols.begin\").alias(\"begin\"),\n",
    "                               F.expr(\"cols.end\").alias(\"end\"),\n",
    "                               F.expr(\"cols.result\").alias(\"chunk\"),\n",
    "                               F.expr(\"cols.metadata.entity\").alias(\"entity\"))\n",
    "\n",
    "result_df.show(50, truncate=100)"
   ]
  },
  {
   "cell_type": "markdown",
   "metadata": {
    "application/vnd.databricks.v1+cell": {
     "cellMetadata": {},
     "inputWidgets": {},
     "nuid": "4447adcf-5a06-4ee1-95a5-4775a7e70525",
     "showTitle": false,
     "tableResultSettingsMap": {},
     "title": ""
    }
   },
   "source": [
    "**Merging overlapped chunks by considering begin indices** <br/>\n",
    "\n",
    "If we set `setOrderingFeatures([\"ChunkBegin\"])` parameter, the chunk with the lowest begin indice will be prioritized in case of overlapping."
   ]
  },
  {
   "cell_type": "code",
   "execution_count": 0,
   "metadata": {
    "application/vnd.databricks.v1+cell": {
     "cellMetadata": {
      "byteLimit": 2048000,
      "rowLimit": 10000
     },
     "inputWidgets": {},
     "nuid": "244fc9a6-bb57-4571-97e9-0110c3f5d2f3",
     "showTitle": false,
     "tableResultSettingsMap": {},
     "title": ""
    }
   },
   "outputs": [
    {
     "output_type": "stream",
     "name": "stdout",
     "output_type": "stream",
     "text": [
      "embeddings_clinical download started this may take some time.\nApproximate size to download 1.6 GB\n\r[ | ]\r[OK!]\nner_posology_large download started this may take some time.\n\r[ | ]\r[ / ]\r[OK!]\nner_posology_greedy download started this may take some time.\n\r[ | ]\r[ / ]\r[OK!]\n"
     ]
    }
   ],
   "source": [
    "documentAssembler = nlp.DocumentAssembler()\\\n",
    "    .setInputCol(\"text\")\\\n",
    "    .setOutputCol(\"document\")\n",
    "\n",
    "# Sentence Detector annotator, processes various sentences per line\n",
    "sentenceDetector = nlp.SentenceDetector()\\\n",
    "    .setInputCols([\"document\"])\\\n",
    "    .setOutputCol(\"sentence\")\n",
    "\n",
    "# Tokenizer splits words in a relevant format for NLP\n",
    "tokenizer = nlp.Tokenizer()\\\n",
    "    .setInputCols([\"sentence\"])\\\n",
    "    .setOutputCol(\"token\")\n",
    "\n",
    "# Clinical word embeddings trained on PubMED dataset\n",
    "word_embeddings = nlp.WordEmbeddingsModel.pretrained(\"embeddings_clinical\", \"en\", \"clinical/models\")\\\n",
    "    .setInputCols([\"sentence\", \"token\"])\\\n",
    "    .setOutputCol(\"embeddings\")\n",
    "\n",
    "pos_ner = medical.NerModel.pretrained(\"ner_posology_large\", \"en\", \"clinical/models\") \\\n",
    "    .setInputCols([\"sentence\", \"token\", \"embeddings\"]) \\\n",
    "    .setOutputCol(\"pos_ner\")\n",
    "\n",
    "pos_ner_converter = medical.NerConverterInternal() \\\n",
    "    .setInputCols([\"sentence\", \"token\", \"pos_ner\"]) \\\n",
    "    .setOutputCol(\"pos_ner_chunk\")\\\n",
    "    .setWhiteList(['DRUG'])\n",
    "\n",
    "greedy_ner = medical.NerModel.pretrained(\"ner_posology_greedy\", \"en\", \"clinical/models\") \\\n",
    "    .setInputCols([\"sentence\", \"token\", \"embeddings\"]) \\\n",
    "    .setOutputCol(\"greedy_ner\")\n",
    "\n",
    "greedy_ner_converter = medical.NerConverterInternal() \\\n",
    "    .setInputCols([\"sentence\", \"token\", \"greedy_ner\"]) \\\n",
    "    .setOutputCol(\"greedy_ner_chunk\") \\\n",
    "    .setWhiteList(['DRUG'])"
   ]
  },
  {
   "cell_type": "code",
   "execution_count": 0,
   "metadata": {
    "application/vnd.databricks.v1+cell": {
     "cellMetadata": {
      "byteLimit": 2048000,
      "rowLimit": 10000
     },
     "inputWidgets": {},
     "nuid": "6513e70d-6cc4-4095-995d-64c908494457",
     "showTitle": false,
     "tableResultSettingsMap": {},
     "title": ""
    }
   },
   "outputs": [],
   "source": [
    "chunk_merger = medical.ChunkMergeApproach() \\\n",
    "    .setInputCols(\"pos_ner_chunk\", \"greedy_ner_chunk\") \\\n",
    "    .setOutputCol(\"ner_chunk_new\") \\\n",
    "    .setMergeOverlapping(True) \\\n",
    "    .setOrderingFeatures([\"ChunkBegin\"])\n",
    "\n",
    "\n",
    "nlpPipeline = nlp.Pipeline(stages=[\n",
    "    documentAssembler, \n",
    "    sentenceDetector,\n",
    "    tokenizer,\n",
    "    word_embeddings,\n",
    "    pos_ner,\n",
    "    pos_ner_converter,\n",
    "    greedy_ner,\n",
    "    greedy_ner_converter,\n",
    "    chunk_merger])\n",
    "\n",
    "empty_data = spark.createDataFrame([[\"\"]]).toDF(\"text\")\n",
    "\n",
    "model = nlpPipeline.fit(empty_data)"
   ]
  },
  {
   "cell_type": "code",
   "execution_count": 0,
   "metadata": {
    "application/vnd.databricks.v1+cell": {
     "cellMetadata": {
      "byteLimit": 2048000,
      "rowLimit": 10000
     },
     "inputWidgets": {},
     "nuid": "c46d2a45-4ad1-4072-a863-392f662b0e62",
     "showTitle": false,
     "tableResultSettingsMap": {},
     "title": ""
    }
   },
   "outputs": [
    {
     "output_type": "stream",
     "name": "stdout",
     "output_type": "stream",
     "text": [
      "+---+---------------------------------------------------------------+\n| id|                                                           text|\n+---+---------------------------------------------------------------+\n|  1|A 43 years of woman was prescribed 100 mg metformin for 5 days.|\n+---+---------------------------------------------------------------+\n\n"
     ]
    }
   ],
   "source": [
    "# Sample data\n",
    "data_chunk_merge = spark.createDataFrame([\n",
    "  (1,\"\"\"A 43 years of woman was prescribed 100 mg metformin for 5 days.\"\"\")]).toDF(\"id\",\"text\")\n",
    "\n",
    "data_chunk_merge.show(truncate=150)"
   ]
  },
  {
   "cell_type": "code",
   "execution_count": 0,
   "metadata": {
    "application/vnd.databricks.v1+cell": {
     "cellMetadata": {
      "byteLimit": 2048000,
      "rowLimit": 10000
     },
     "inputWidgets": {},
     "nuid": "cbcff2c1-3348-47cd-96c3-32b00352859c",
     "showTitle": false,
     "tableResultSettingsMap": {},
     "title": ""
    }
   },
   "outputs": [],
   "source": [
    "merged_data = model.transform(data_chunk_merge)"
   ]
  },
  {
   "cell_type": "code",
   "execution_count": 0,
   "metadata": {
    "application/vnd.databricks.v1+cell": {
     "cellMetadata": {
      "byteLimit": 2048000,
      "rowLimit": 10000
     },
     "inputWidgets": {},
     "nuid": "4739c5ea-309e-4fb8-8f1f-cd24ae09a23c",
     "showTitle": false,
     "tableResultSettingsMap": {},
     "title": ""
    }
   },
   "outputs": [
    {
     "output_type": "stream",
     "name": "stdout",
     "output_type": "stream",
     "text": [
      "+--------------------------------------------------------------------------------------------------------------------------------+\n|pos_ner_chunk                                                                                                                   |\n+--------------------------------------------------------------------------------------------------------------------------------+\n|[{chunk, 42, 50, metformin, {chunk -> 0, confidence -> 0.9996, ner_source -> pos_ner_chunk, entity -> DRUG, sentence -> 0}, []}]|\n+--------------------------------------------------------------------------------------------------------------------------------+\n\n"
     ]
    }
   ],
   "source": [
    "merged_data.select(\"pos_ner_chunk\").show(truncate=False)"
   ]
  },
  {
   "cell_type": "code",
   "execution_count": 0,
   "metadata": {
    "application/vnd.databricks.v1+cell": {
     "cellMetadata": {
      "byteLimit": 2048000,
      "rowLimit": 10000
     },
     "inputWidgets": {},
     "nuid": "ec99ed21-7883-4d08-956d-123f3421a9f5",
     "showTitle": false,
     "tableResultSettingsMap": {},
     "title": ""
    }
   },
   "outputs": [
    {
     "output_type": "stream",
     "name": "stdout",
     "output_type": "stream",
     "text": [
      "+----------------------------------------------------------------------------------------------------------------------------------------------+\n|greedy_ner_chunk                                                                                                                              |\n+----------------------------------------------------------------------------------------------------------------------------------------------+\n|[{chunk, 35, 50, 100 mg metformin, {entity -> DRUG, confidence -> 0.67116666, ner_source -> greedy_ner_chunk, chunk -> 0, sentence -> 0}, []}]|\n+----------------------------------------------------------------------------------------------------------------------------------------------+\n\n"
     ]
    }
   ],
   "source": [
    "merged_data.select(\"greedy_ner_chunk\").show(truncate=False)"
   ]
  },
  {
   "cell_type": "code",
   "execution_count": 0,
   "metadata": {
    "application/vnd.databricks.v1+cell": {
     "cellMetadata": {
      "byteLimit": 2048000,
      "rowLimit": 10000
     },
     "inputWidgets": {},
     "nuid": "7f27b8c2-21a3-4216-b163-23b299b973ce",
     "showTitle": false,
     "tableResultSettingsMap": {},
     "title": ""
    }
   },
   "outputs": [
    {
     "output_type": "stream",
     "name": "stdout",
     "output_type": "stream",
     "text": [
      "+---+-----+---+----------------+------+\n| id|begin|end|           chunk|entity|\n+---+-----+---+----------------+------+\n|  1|   35| 50|100 mg metformin|  DRUG|\n+---+-----+---+----------------+------+\n\n"
     ]
    }
   ],
   "source": [
    "from pyspark.sql import functions as F\n",
    "\n",
    "result_df = merged_data.select('id',F.explode('ner_chunk_new').alias(\"cols\")) \\\n",
    "                       .select('id',F.expr(\"cols.begin\").alias(\"begin\"),\n",
    "                               F.expr(\"cols.end\").alias(\"end\"),\n",
    "                               F.expr(\"cols.result\").alias(\"chunk\"),\n",
    "                               F.expr(\"cols.metadata.entity\").alias(\"entity\"))\n",
    "\n",
    "result_df.show(5, truncate=100)"
   ]
  },
  {
   "cell_type": "markdown",
   "metadata": {
    "application/vnd.databricks.v1+cell": {
     "cellMetadata": {},
     "inputWidgets": {},
     "nuid": "26b5ac1e-bc3b-4d92-85aa-75e21a00f205",
     "showTitle": false,
     "tableResultSettingsMap": {},
     "title": ""
    }
   },
   "source": [
    "## NonOverlapped Chunk\n",
    "\n",
    "All the entities form each ner model will be returned one by one"
   ]
  },
  {
   "cell_type": "code",
   "execution_count": 0,
   "metadata": {
    "application/vnd.databricks.v1+cell": {
     "cellMetadata": {
      "byteLimit": 2048000,
      "rowLimit": 10000
     },
     "inputWidgets": {},
     "nuid": "de6ba97c-1426-45f7-b105-1bf10eab56e5",
     "showTitle": false,
     "tableResultSettingsMap": {},
     "title": ""
    }
   },
   "outputs": [],
   "source": [
    "# merge ner_chunks regardess of overlapping indices \n",
    "# only works with 2.7 and later \n",
    "chunk_merger_NonOverlapped = medical.ChunkMergeApproach()\\\n",
    "    .setInputCols('clinical_ner_chunk', \"jsl_ner_chunk\")\\\n",
    "    .setOutputCol('nonOverlapped_ner_chunk')\\\n",
    "    .setMergeOverlapping(False)\n",
    "\n",
    "\n",
    "nlpPipeline = nlp.Pipeline(stages=[\n",
    "    documentAssembler, \n",
    "    sentenceDetector,\n",
    "    tokenizer,\n",
    "    word_embeddings,\n",
    "    clinical_ner,\n",
    "    clinical_ner_converter,\n",
    "    jsl_ner,\n",
    "    jsl_ner_converter,\n",
    "    chunk_merger_NonOverlapped])\n",
    "\n",
    "empty_data = spark.createDataFrame([[\"\"]]).toDF(\"text\")\n",
    "\n",
    "model = nlpPipeline.fit(empty_data)"
   ]
  },
  {
   "cell_type": "code",
   "execution_count": 0,
   "metadata": {
    "application/vnd.databricks.v1+cell": {
     "cellMetadata": {
      "byteLimit": 2048000,
      "rowLimit": 10000
     },
     "inputWidgets": {},
     "nuid": "8675f6cf-7308-49f7-9b54-47965e2e4ae0",
     "showTitle": false,
     "tableResultSettingsMap": {},
     "title": ""
    }
   },
   "outputs": [
    {
     "output_type": "stream",
     "name": "stdout",
     "output_type": "stream",
     "text": [
      "+---+------------------------------------------------------------------------------------------------------------------------------------------------------+\n| id|                                                                                                                                                  text|\n+---+------------------------------------------------------------------------------------------------------------------------------------------------------+\n|  1|A 63 years old man presents to the hospital with a history of recurrent infections that include cellulitis, pneumonias, and upper respiratory tract...|\n+---+------------------------------------------------------------------------------------------------------------------------------------------------------+\n\n"
     ]
    }
   ],
   "source": [
    "# Sample data\n",
    "data_chunk_merge = spark.createDataFrame([\n",
    "  (1,\"\"\"A 63 years old man presents to the hospital with a history of recurrent infections that include cellulitis, pneumonias, and upper respiratory tract infections. He reports subjective fevers at home along with unintentional weight loss and occasional night sweats. The patient has a remote history of arthritis, which was diagnosed approximately 20 years ago and treated intermittently with methotrexate (MTX) and prednisone. On physical exam, he is found to be febrile at 102°F, rather cachectic, pale, and have hepatosplenomegaly. Several swollen joints that are tender to palpation and have decreased range of motion are also present. His laboratory values show pancytopenia with the most severe deficiency in neutrophils.\n",
    "\"\"\")]).toDF(\"id\",\"text\")\n",
    "\n",
    "data_chunk_merge.show(truncate=150)"
   ]
  },
  {
   "cell_type": "code",
   "execution_count": 0,
   "metadata": {
    "application/vnd.databricks.v1+cell": {
     "cellMetadata": {
      "byteLimit": 2048000,
      "rowLimit": 10000
     },
     "inputWidgets": {},
     "nuid": "f0208eb2-f401-4185-b0da-fb4f7f433c83",
     "showTitle": false,
     "tableResultSettingsMap": {},
     "title": ""
    }
   },
   "outputs": [],
   "source": [
    "merged_data = model.transform(data_chunk_merge)"
   ]
  },
  {
   "cell_type": "code",
   "execution_count": 0,
   "metadata": {
    "application/vnd.databricks.v1+cell": {
     "cellMetadata": {
      "byteLimit": 2048000,
      "rowLimit": 10000
     },
     "inputWidgets": {},
     "nuid": "3c38a17c-9f6e-4f80-8b17-8753c2152734",
     "showTitle": false,
     "tableResultSettingsMap": {},
     "title": ""
    }
   },
   "outputs": [
    {
     "output_type": "stream",
     "name": "stdout",
     "output_type": "stream",
     "text": [
      "+---+-----+---+----------------------------------+-------------------------+\n| id|begin|end|                             chunk|                   entity|\n+---+-----+---+----------------------------------+-------------------------+\n|  1|    2|  3|                                63|                      AGE|\n|  1|    2| 13|                      63 years old|                      Age|\n|  1|   15| 17|                               man|                   Gender|\n|  1|   35| 42|                          hospital|            Clinical_Dept|\n|  1|   62| 70|                         recurrent|                 Modifier|\n|  1|   72| 81|                        infections|Disease_Syndrome_Disorder|\n|  1|   96|105|                        cellulitis|Disease_Syndrome_Disorder|\n|  1|  108|117|                        pneumonias|Disease_Syndrome_Disorder|\n|  1|  124|157|upper respiratory tract infections|Disease_Syndrome_Disorder|\n|  1|  160|161|                                He|                   Gender|\n|  1|  171|180|                        subjective|                 Modifier|\n|  1|  182|187|                            fevers|               VS_Finding|\n|  1|  208|232|         unintentional weight loss|                  Symptom|\n|  1|  238|247|                        occasional|                 Modifier|\n|  1|  249|260|                      night sweats|                  Symptom|\n|  1|  299|307|                         arthritis|Disease_Syndrome_Disorder|\n|  1|  344|355|                      20 years ago|             RelativeDate|\n|  1|  389|400|                      methotrexate|          Drug_Ingredient|\n|  1|  403|405|                               MTX|          Drug_Ingredient|\n|  1|  412|421|                        prednisone|          Drug_Ingredient|\n|  1|  442|443|                                he|                   Gender|\n|  1|  460|466|                           febrile|               VS_Finding|\n|  1|  471|475|                             102°F|              Temperature|\n|  1|  485|493|                         cachectic|                  Symptom|\n|  1|  496|499|                              pale|                  Symptom|\n|  1|  511|528|                hepatosplenomegaly|                  Symptom|\n|  1|  531|537|                           Several|                 Modifier|\n|  1|  539|552|                    swollen joints|                  Symptom|\n|  1|  563|568|                            tender|                  Symptom|\n|  1|  592|616|         decreased range of motion|                  Symptom|\n|  1|  636|638|                               His|                   Gender|\n|  1|  663|674|                      pancytopenia|                  Symptom|\n|  1|  690|695|                            severe|                 Modifier|\n|  1|  697|721|         deficiency in neutrophils|Disease_Syndrome_Disorder|\n+---+-----+---+----------------------------------+-------------------------+\n\n"
     ]
    }
   ],
   "source": [
    "from pyspark.sql import functions as F\n",
    "\n",
    "result_df2 = merged_data.select('id',F.explode('nonOverlapped_ner_chunk').alias(\"cols\")) \\\n",
    "                        .select('id',F.expr(\"cols.begin\").alias(\"begin\"),\n",
    "                                F.expr(\"cols.end\").alias(\"end\"),\n",
    "                                F.expr(\"cols.result\").alias(\"chunk\"),\n",
    "                                F.expr(\"cols.metadata.entity\").alias(\"entity\"))\n",
    "\n",
    "result_df2.show(50, truncate=100)\n"
   ]
  },
  {
   "cell_type": "markdown",
   "metadata": {
    "application/vnd.databricks.v1+cell": {
     "cellMetadata": {},
     "inputWidgets": {},
     "nuid": "7854976b-c126-4d07-a460-d5715605c43d",
     "showTitle": false,
     "tableResultSettingsMap": {},
     "title": ""
    },
    "id": "RRHkcM3xEkUo"
   },
   "source": [
    "## ChunkMergeApproach to admit N input cols \n",
    "We can feed the ChunkMergerApproach more than 2 chunks, also, we can filter out the entities that we don't want to get from the ChunkMergeApproach using `setBlackList` parameter."
   ]
  },
  {
   "cell_type": "code",
   "execution_count": 0,
   "metadata": {
    "application/vnd.databricks.v1+cell": {
     "cellMetadata": {
      "byteLimit": 2048000,
      "rowLimit": 10000
     },
     "inputWidgets": {},
     "nuid": "815448b9-71dc-4281-a19b-c5d70eb66c4c",
     "showTitle": false,
     "tableResultSettingsMap": {},
     "title": ""
    },
    "id": "OxamRim-hwFZ"
   },
   "outputs": [],
   "source": [
    "sample_text = \"\"\"A 28 year old female with a history of gestational diabetes mellitus diagnosed eight years prior to \n",
    "presentation and subsequent type two diabetes mellitus ( T2DM ), one prior episode of HTG-induced pancreatitis \n",
    "three years prior to presentation , associated with an acute hepatitis , and obesity with a body mass index \n",
    "( BMI ) of 33.5 kg/m2 , presented with a one-week history of polyuria , polydipsia , poor appetite , and vomiting.\n",
    "Two weeks prior to presentation , she was treated with a five-day course of amoxicillin for a respiratory tract infection . \n",
    "She was on metformin , glipizide , and dapagliflozin for T2DM and atorvastatin and gemfibrozil for HTG . \n",
    "She had been on dapagliflozin for six months at the time of presentation . Physical examination on presentation was \n",
    "significant for dry oral mucosa ; significantly , her abdominal examination was benign with no tenderness , guarding , \n",
    "or rigidity . Pertinent laboratory findings on admission were : serum glucose 111 mg/dl , bicarbonate 18 mmol/l , \n",
    "anion gap 20 , creatinine 0.4 mg/dL , triglycerides 508 mg/dL , total cholesterol 122 mg/dL , glycated hemoglobin \n",
    "( HbA1c ) 10% , and venous pH 7.27 . Serum lipase was normal at 43 U/L . Serum acetone levels could not be assessed \n",
    "as blood samples kept hemolyzing due to significant lipemia .\n",
    "The patient was initially admitted for starvation ketosis , as she reported poor oral intake for three days prior \n",
    "to admission . However , serum chemistry obtained six hours after presentation revealed her glucose was 186 mg/dL , \n",
    "the anion gap was still elevated at 21 , serum bicarbonate was 16 mmol/L , triglyceride level peaked at 2050 mg/dL , \n",
    "and lipase was 52 U/L .\n",
    " β-hydroxybutyrate level was obtained and found to be elevated at 5.29 mmol/L - the original sample was centrifuged \n",
    " and the chylomicron layer removed prior to analysis due to interference from turbidity caused by lipemia again . \n",
    " The patient was treated with an insulin drip for euDKA and HTG with a reduction in the anion gap to 13 and triglycerides \n",
    " to 1400 mg/dL , within 24 hours .\n",
    " Twenty days ago.\n",
    " Her euDKA was thought to be precipitated by her respiratory tract infection in the setting of SGLT2 inhibitor use . \n",
    " At birth the typical boy is growing slightly faster than the typical girl, but the velocities become equal at about \n",
    " seven months, and then the girl grows faster until four years. \n",
    " From then until adolescence no differences in velocity \n",
    " can be detected. 21-02-2020 \n",
    "21/04/2020\n",
    "\"\"\""
   ]
  },
  {
   "cell_type": "code",
   "execution_count": 0,
   "metadata": {
    "application/vnd.databricks.v1+cell": {
     "cellMetadata": {
      "byteLimit": 2048000,
      "rowLimit": 10000
     },
     "inputWidgets": {},
     "nuid": "10e083c7-740f-49b2-bd78-4cd53f516093",
     "showTitle": false,
     "tableResultSettingsMap": {},
     "title": ""
    },
    "id": "yyQ67FlTEpal"
   },
   "outputs": [],
   "source": [
    "# Defining ContextualParser for feeding ChunkMergerApproach\n",
    "\n",
    "#defining rules\n",
    "date = {\n",
    "  \"entity\": \"Parser_Date\",\n",
    "  \"ruleScope\": \"sentence\",\n",
    "  \"regex\": \"\\\\d{1,2}[\\\\/\\\\-\\\\:]{1}(\\\\d{1,2}[\\\\/\\\\-\\\\:]{1}){0,1}\\\\d{2,4}\",\n",
    "  \"valuesDefinition\":[],\n",
    "  \"prefix\": [],\n",
    "  \"suffix\": [],\n",
    "  \"contextLength\": 150,\n",
    "  \"context\": []\n",
    "}\n",
    "\n",
    "\n",
    "with open('/dbfs/date.json', 'w') as f:\n",
    "    json.dump(date, f)\n",
    "\n",
    "\n",
    "age = {\n",
    "  \"entity\": \"Parser_Age\",\n",
    "  \"ruleScope\": \"sentence\",\n",
    "  \"matchScope\":\"token\",\n",
    "  \"regex\" : \"^[1][0-9][0-9]|[1-9][0-9]|[1-9]$\",\n",
    "  \"prefix\":[\"age of\", \"age\"],\n",
    "  \"suffix\": [\"-years-old\",\n",
    "             \"years-old\",\n",
    "             \"-year-old\",\n",
    "             \"-months-old\",\n",
    "             \"-month-old\",\n",
    "             \"-months-old\",\n",
    "             \"-day-old\",\n",
    "             \"-days-old\",\n",
    "             \"month old\",\n",
    "             \"days old\",\n",
    "             \"year old\",\n",
    "             \"years old\", \n",
    "             \"years\",\n",
    "             \"year\", \n",
    "             \"months\", \n",
    "             \"old\"\n",
    "              ],\n",
    "  \"contextLength\": 25,\n",
    "  \"context\": [],\n",
    "  \"contextException\": [\"ago\"],\n",
    "  \"exceptionDistance\": 10\n",
    "}\n",
    "\n",
    "with open(\"/dbfs/age.json\", 'w') as f:\n",
    "  json.dump(age, f)\n",
    "\n"
   ]
  },
  {
   "cell_type": "markdown",
   "metadata": {
    "application/vnd.databricks.v1+cell": {
     "cellMetadata": {},
     "inputWidgets": {},
     "nuid": "0050d9db-7f73-41bf-b6de-10ee577bca8e",
     "showTitle": false,
     "tableResultSettingsMap": {},
     "title": ""
    },
    "id": "_o_ycAgYf46P"
   },
   "source": [
    "Using two ContextualParserApproach models and NER model in the same pipeline and merging by ChunkMergeApproach"
   ]
  },
  {
   "cell_type": "code",
   "execution_count": 0,
   "metadata": {
    "application/vnd.databricks.v1+cell": {
     "cellMetadata": {
      "byteLimit": 2048000,
      "rowLimit": 10000
     },
     "inputWidgets": {},
     "nuid": "ad60d462-43f7-4f6a-9142-9fd7b7c495eb",
     "showTitle": false,
     "tableResultSettingsMap": {},
     "title": ""
    },
    "colab": {
     "base_uri": "https://localhost:8080/"
    },
    "id": "747Y7h-2EpX_",
    "outputId": "5892a678-0a98-4b59-e51b-b5d2338899f0"
   },
   "outputs": [
    {
     "output_type": "stream",
     "name": "stdout",
     "output_type": "stream",
     "text": [
      "embeddings_clinical download started this may take some time.\nApproximate size to download 1.6 GB\n\r[ | ]\r[OK!]\nner_deid_large download started this may take some time.\n\r[ | ]\r[OK!]\n"
     ]
    }
   ],
   "source": [
    "documentAssembler = nlp.DocumentAssembler()\\\n",
    "    .setInputCol(\"text\")\\\n",
    "    .setOutputCol(\"document\")\n",
    "\n",
    "# Sentence Detector annotator, processes various sentences per line\n",
    "sentenceDetector = nlp.SentenceDetector()\\\n",
    "    .setInputCols([\"document\"])\\\n",
    "    .setOutputCol(\"sentence\")\n",
    "\n",
    "# Tokenizer splits words in a relevant format for NLP\n",
    "tokenizer = nlp.Tokenizer()\\\n",
    "    .setInputCols([\"sentence\"])\\\n",
    "    .setOutputCol(\"token\")\n",
    "\n",
    "# Contextual parser for age \n",
    "age_contextual_parser = medical.ContextualParserApproach() \\\n",
    "    .setInputCols([\"sentence\", \"token\"]) \\\n",
    "    .setOutputCol(\"entity_age\") \\\n",
    "    .setJsonPath(\"dbfs:/age.json\") \\\n",
    "    .setCaseSensitive(False) \\\n",
    "    .setPrefixAndSuffixMatch(False)\\\n",
    "    .setOptionalContextRules(False) \n",
    "\n",
    "chunks_age= medical.ChunkConverter()\\\n",
    "    .setInputCols(\"entity_age\")\\\n",
    "    .setOutputCol(\"chunk_age\")\n",
    "\n",
    "# Contextual parser for date\n",
    "date_contextual_parser = medical.ContextualParserApproach() \\\n",
    "    .setInputCols([\"sentence\", \"token\"]) \\\n",
    "    .setOutputCol(\"entity_date\") \\\n",
    "    .setJsonPath(\"dbfs:/date.json\") \\\n",
    "    .setCaseSensitive(False) \\\n",
    "    .setPrefixAndSuffixMatch(False)\n",
    "\n",
    "chunks_date = medical.ChunkConverter().setInputCols(\"entity_date\").setOutputCol(\"chunk_date\")\n",
    "\n",
    "# Clinical word embeddings \n",
    "word_embeddings = nlp.WordEmbeddingsModel.pretrained(\"embeddings_clinical\", \"en\", \"clinical/models\")\\\n",
    "    .setInputCols([\"sentence\", \"token\"])\\\n",
    "    .setOutputCol(\"embeddings\")\n",
    "\n",
    "# Extracting entities by ner_deid_large\n",
    "ner_model = medical.NerModel.pretrained(\"ner_deid_large\",\"en\",\"clinical/models\") \\\n",
    "    .setInputCols(\"sentence\",\"token\",\"embeddings\") \\\n",
    "    .setOutputCol(\"ner\")\n",
    "\n",
    "ner_converter= medical.NerConverterInternal()\\\n",
    "    .setInputCols([\"sentence\", \"token\", \"ner\"])\\\n",
    "    .setOutputCol(\"ner_chunk\")\\\n",
    "    .setWhiteList([\"DATE\", \"AGE\"])\n",
    "\n",
    "# Chunkmerger; prioritize age_contextual_parser\n",
    "parser_based_merge= medical.ChunkMergeApproach()\\\n",
    "    .setInputCols([\"chunk_age\", \"chunk_date\", \"ner_chunk\"])\\\n",
    "    .setOutputCol(\"merged_chunks\")\n",
    "\n",
    "# Chunkmerger; prioritize ner_chunk\n",
    "ner_based_merge= medical.ChunkMergeApproach()\\\n",
    "    .setInputCols([\"ner_chunk\", \"chunk_age\", \"chunk_date\"])\\\n",
    "    .setOutputCol(\"merged_chunks_2\")\n",
    "\n",
    "# Using black list for limiting the entity types that will be extracted\n",
    "limited_merge= medical.ChunkMergeApproach()\\\n",
    "    .setInputCols([\"ner_chunk\", \"chunk_age\", \"chunk_date\"])\\\n",
    "    .setOutputCol(\"merged_chunks_black_list\")\\\n",
    "    .setBlackList([\"DATE\", \"Parser_Date\"]) # this will block the dates. \n",
    "\n",
    "pipeline= nlp.Pipeline(stages=[\n",
    "                           documentAssembler,\n",
    "                           sentenceDetector,\n",
    "                           tokenizer,\n",
    "                           age_contextual_parser,\n",
    "                           chunks_age,\n",
    "                           date_contextual_parser,\n",
    "                           chunks_date,\n",
    "                           word_embeddings,\n",
    "                           ner_model,\n",
    "                           ner_converter,\n",
    "                           parser_based_merge,\n",
    "                           ner_based_merge,\n",
    "                           limited_merge\n",
    "])\n",
    "\n",
    "empty_df= spark.createDataFrame([[\"\"]]).toDF(\"text\")\n",
    "model= pipeline.fit(empty_df)\n",
    "\n",
    "\n",
    "lmodel= nlp.LightPipeline(model)\n",
    "lresult= lmodel.fullAnnotate(sample_text)[0]\n"
   ]
  },
  {
   "cell_type": "code",
   "execution_count": 0,
   "metadata": {
    "application/vnd.databricks.v1+cell": {
     "cellMetadata": {
      "byteLimit": 2048000,
      "rowLimit": 10000
     },
     "inputWidgets": {},
     "nuid": "e717b752-eb74-423f-b20b-0cff0d9b27c4",
     "showTitle": false,
     "tableResultSettingsMap": {},
     "title": ""
    },
    "colab": {
     "base_uri": "https://localhost:8080/"
    },
    "id": "gVAEetRLfwO7",
    "outputId": "d7602d59-0fdf-4fcd-ee3e-c1acce62833e"
   },
   "outputs": [
    {
     "output_type": "execute_result",
     "data": {
      "text/plain": [
       "dict_keys(['chunk_age', 'document', 'ner_chunk', 'token', 'entity_date', 'ner', 'merged_chunks_2', 'entity_age', 'merged_chunks_black_list', 'embeddings', 'chunk_date', 'sentence', 'merged_chunks'])"
      ]
     },
     "execution_count": 40,
     "metadata": {},
     "output_type": "execute_result"
    }
   ],
   "source": [
    "lresult.keys()"
   ]
  },
  {
   "cell_type": "markdown",
   "metadata": {
    "application/vnd.databricks.v1+cell": {
     "cellMetadata": {},
     "inputWidgets": {},
     "nuid": "36d29bbf-0386-4831-91ac-552fa5308636",
     "showTitle": false,
     "tableResultSettingsMap": {},
     "title": ""
    },
    "id": "hJSfWfcliXdw"
   },
   "source": [
    "If there is an overlap among the input entity types, ChunkMergerApproach model prioritizes the leftmost input. <br/>\n",
    "\n",
    "At the 'parser_based_merge', we gave the contextual parser's chunks firstly. Therefore, 'parser_based_merge' prioritized the \"Parser_Age\" and \"Parser_Date\" entities over the \"AGE\" and \"DATE\" entity types that comes from NER model. <br/>\n",
    "\n",
    "At the 'ner_based_merge', we gave the Ner model's inputs firstly, thus 'ner_based_merge' prioritized the \"AGE\" and \"DATE\" entities over the \"Parser_Age\" and \"Parser_Date\".  <br/>\n",
    "\n",
    "At the limited_merge, we excluded \"DATE\" and \"Parser_Date\" entity types.\n",
    "\n",
    "Let's compare the results of these ChunkMergeApproach below:"
   ]
  },
  {
   "cell_type": "code",
   "execution_count": 0,
   "metadata": {
    "application/vnd.databricks.v1+cell": {
     "cellMetadata": {
      "byteLimit": 2048000,
      "rowLimit": 10000
     },
     "inputWidgets": {},
     "nuid": "4638bed0-432b-451b-9876-d4a1b3d4fb3d",
     "showTitle": false,
     "tableResultSettingsMap": {},
     "title": ""
    },
    "colab": {
     "base_uri": "https://localhost:8080/",
     "height": 143
    },
    "id": "GFxiZuPpEpVe",
    "outputId": "689b3322-e81b-4309-9908-472881f876e5"
   },
   "outputs": [
    {
     "output_type": "execute_result",
     "data": {
      "text/html": [
       "<div>\n",
       "<style scoped>\n",
       "    .dataframe tbody tr th:only-of-type {\n",
       "        vertical-align: middle;\n",
       "    }\n",
       "\n",
       "    .dataframe tbody tr th {\n",
       "        vertical-align: top;\n",
       "    }\n",
       "\n",
       "    .dataframe thead th {\n",
       "        text-align: right;\n",
       "    }\n",
       "</style>\n",
       "<table border=\"1\" class=\"dataframe\">\n",
       "  <thead>\n",
       "    <tr style=\"text-align: right;\">\n",
       "      <th></th>\n",
       "      <th>chunk</th>\n",
       "      <th>parser_based_merged_entity</th>\n",
       "      <th>ner_based_merged_entity</th>\n",
       "    </tr>\n",
       "  </thead>\n",
       "  <tbody>\n",
       "    <tr>\n",
       "      <th>0</th>\n",
       "      <td>28</td>\n",
       "      <td>Parser_Age</td>\n",
       "      <td>AGE</td>\n",
       "    </tr>\n",
       "    <tr>\n",
       "      <th>1</th>\n",
       "      <td>21-02-2020</td>\n",
       "      <td>Parser_Date</td>\n",
       "      <td>DATE</td>\n",
       "    </tr>\n",
       "    <tr>\n",
       "      <th>2</th>\n",
       "      <td>21/04/2020</td>\n",
       "      <td>Parser_Date</td>\n",
       "      <td>DATE</td>\n",
       "    </tr>\n",
       "  </tbody>\n",
       "</table>\n",
       "</div>"
      ],
      "text/plain": [
       "        chunk parser_based_merged_entity ner_based_merged_entity\n",
       "0          28                 Parser_Age                     AGE\n",
       "1  21-02-2020                Parser_Date                    DATE\n",
       "2  21/04/2020                Parser_Date                    DATE"
      ]
     },
     "execution_count": 41,
     "metadata": {},
     "output_type": "execute_result"
    }
   ],
   "source": [
    "chunk= []\n",
    "parser_based_merge= []\n",
    "ner_based_merge= []\n",
    "\n",
    "for i, k in list(zip(lresult[\"merged_chunks\"], list(lresult[\"merged_chunks_2\"],))):\n",
    "  parser_based_merge.append(i.metadata[\"entity\"])\n",
    "  ner_based_merge.append(k.metadata[\"entity\"])\n",
    "  chunk.append(i.result)\n",
    "\n",
    "df= pd.DataFrame({\"chunk\": chunk,\"parser_based_merged_entity\": parser_based_merge, \"ner_based_merged_entity\": ner_based_merge})\n",
    "df.head()"
   ]
  },
  {
   "cell_type": "markdown",
   "metadata": {
    "application/vnd.databricks.v1+cell": {
     "cellMetadata": {},
     "inputWidgets": {},
     "nuid": "437c2bba-a7d2-4357-92ea-4d863f4d8e9e",
     "showTitle": false,
     "tableResultSettingsMap": {},
     "title": ""
    },
    "id": "JojNm1cujUl0"
   },
   "source": [
    "`.setBlackList()` applied results:"
   ]
  },
  {
   "cell_type": "code",
   "execution_count": 0,
   "metadata": {
    "application/vnd.databricks.v1+cell": {
     "cellMetadata": {
      "byteLimit": 2048000,
      "rowLimit": 10000
     },
     "inputWidgets": {},
     "nuid": "9cec9993-e3d8-425d-a5f5-806d656edc8d",
     "showTitle": false,
     "tableResultSettingsMap": {},
     "title": ""
    },
    "colab": {
     "base_uri": "https://localhost:8080/",
     "height": 81
    },
    "id": "h5V3OqFoEpSm",
    "outputId": "649ee971-0525-49bd-bef2-4e9a8dfc9978"
   },
   "outputs": [
    {
     "output_type": "execute_result",
     "data": {
      "text/html": [
       "<div>\n",
       "<style scoped>\n",
       "    .dataframe tbody tr th:only-of-type {\n",
       "        vertical-align: middle;\n",
       "    }\n",
       "\n",
       "    .dataframe tbody tr th {\n",
       "        vertical-align: top;\n",
       "    }\n",
       "\n",
       "    .dataframe thead th {\n",
       "        text-align: right;\n",
       "    }\n",
       "</style>\n",
       "<table border=\"1\" class=\"dataframe\">\n",
       "  <thead>\n",
       "    <tr style=\"text-align: right;\">\n",
       "      <th></th>\n",
       "      <th>chunk</th>\n",
       "      <th>limited_entity</th>\n",
       "    </tr>\n",
       "  </thead>\n",
       "  <tbody>\n",
       "    <tr>\n",
       "      <th>0</th>\n",
       "      <td>28</td>\n",
       "      <td>AGE</td>\n",
       "    </tr>\n",
       "  </tbody>\n",
       "</table>\n",
       "</div>"
      ],
      "text/plain": [
       "  chunk limited_entity\n",
       "0    28            AGE"
      ]
     },
     "execution_count": 42,
     "metadata": {},
     "output_type": "execute_result"
    }
   ],
   "source": [
    "chunk= []\n",
    "limited_merge_entity= []\n",
    "\n",
    "for i in list(lresult[\"merged_chunks_black_list\"]):\n",
    "  chunk.append(i.result)\n",
    "  limited_merge_entity.append(i.metadata[\"entity\"])\n",
    "\n",
    "df= pd.DataFrame({\"chunk\": chunk, \"limited_entity\": limited_merge_entity }) \n",
    "df.head()"
   ]
  },
  {
   "cell_type": "markdown",
   "metadata": {
    "application/vnd.databricks.v1+cell": {
     "cellMetadata": {},
     "inputWidgets": {},
     "nuid": "5b54d32b-b965-4e96-9ed0-efc98a1ac0b3",
     "showTitle": false,
     "tableResultSettingsMap": {},
     "title": ""
    }
   },
   "source": [
    "## Dictionary Format for the Selective Merging\n",
    "The ChunkMergeModel includes setReplaceDict for replacing entity labels and setFalsePositives for enabling precise control over chunk merging outcomes. Additionally, the ChunkMergeApproach has setEntitiesConfidence, allowing users to adjust entity confidence levels for further customization."
   ]
  },
  {
   "cell_type": "code",
   "execution_count": 0,
   "metadata": {
    "application/vnd.databricks.v1+cell": {
     "cellMetadata": {
      "byteLimit": 2048000,
      "rowLimit": 10000
     },
     "inputWidgets": {},
     "nuid": "4320236b-82a0-4ac1-a5da-5a877b0783a4",
     "showTitle": false,
     "tableResultSettingsMap": {},
     "title": ""
    }
   },
   "outputs": [
    {
     "output_type": "stream",
     "name": "stdout",
     "output_type": "stream",
     "text": [
      "ner_posology download started this may take some time.\n\r[ | ]\r[ / ]\r[ — ]\r[OK!]\nner_deid_subentity_augmented download started this may take some time.\n\r[ | ]\r[OK!]\n"
     ]
    }
   ],
   "source": [
    "posology_ner = medical.NerModel.pretrained(\"ner_posology\", \"en\", \"clinical/models\") \\\n",
    "    .setInputCols([\"sentence\", \"token\", \"embeddings\"]) \\\n",
    "    .setOutputCol(\"posology_ner\")\n",
    "\n",
    "posology_ner_converter = medical.NerConverterInternal() \\\n",
    "    .setInputCols([\"sentence\", \"token\", \"posology_ner\"]) \\\n",
    "    .setOutputCol(\"posology_ner_chunk\")\n",
    "\n",
    "# Deid NER\n",
    "deid_ner = medical.NerModel \\\n",
    "    .pretrained('ner_deid_subentity_augmented', 'en', 'clinical/models') \\\n",
    "    .setInputCols(['sentence', 'token', 'embeddings']) \\\n",
    "    .setOutputCol('deid_ner')\n",
    "\n",
    "deid_ner_converter = medical.NerConverterInternal() \\\n",
    "    .setInputCols(['sentence', 'token', 'deid_ner']) \\\n",
    "    .setOutputCol('deid_ner_chunk')\n",
    "\n",
    "chunk_merger = medical.ChunkMergeApproach()\\\n",
    "    .setInputCols(\"posology_ner_chunk\",'deid_ner_chunk')\\\n",
    "    .setOutputCol('merged_ner_chunk')\n",
    "\n",
    "chunk_merge_model = medical.ChunkMergeModel() \\\n",
    "    .setInputCols(\"posology_ner_chunk\",\"deid_ner_chunk\") \\\n",
    "    .setOutputCol(\"merged_chunk\") \\\n",
    "    .setReplaceDict({\"DOCTOR\": \"NAME\",\n",
    "                     \"PATIENT\": \"NAME\"}) \\\n",
    "    .setFalsePositives([[\"metformin\", \"TREATMENT\", \"DRUG\"],\n",
    "                        [\"glipizide\",\"TREATMENT\",\"\"]])\n",
    "\n",
    "nlpPipeline = nlp.Pipeline(\n",
    "    stages=[\n",
    "        documentAssembler,\n",
    "        sentenceDetector,\n",
    "        tokenizer,\n",
    "        word_embeddings,\n",
    "        posology_ner,\n",
    "        posology_ner_converter,\n",
    "        deid_ner,\n",
    "        deid_ner_converter,\n",
    "        chunk_merger,\n",
    "        chunk_merge_model\n",
    "])\n",
    "\n",
    "model = nlpPipeline.fit(spark.createDataFrame([[\"\"]]).toDF(\"text\"))\n",
    "\n",
    "text =\"\"\"Jennifer is 58 years old. She was  seen by Dr. John Green and discharged on metformin, glipizide for T2DM and atorvastatin and gemfibrozil for HTG.\"\"\"\n",
    "\n",
    "light_model = nlp.LightPipeline(model)\n",
    "\n",
    "light_result = light_model.fullAnnotate(text)"
   ]
  },
  {
   "cell_type": "code",
   "execution_count": 0,
   "metadata": {
    "application/vnd.databricks.v1+cell": {
     "cellMetadata": {
      "byteLimit": 2048000,
      "rowLimit": 10000
     },
     "inputWidgets": {},
     "nuid": "6d8d42ab-7ef5-49f1-9d6b-ede6b361f180",
     "showTitle": false,
     "tableResultSettingsMap": {},
     "title": ""
    }
   },
   "outputs": [
    {
     "output_type": "execute_result",
     "data": {
      "text/plain": [
       "[Annotation(chunk, 0, 7, Jennifer, {'entity': 'PATIENT', 'confidence': '0.9993', 'ner_source': 'deid_ner_chunk', 'chunk': '0', 'sentence': '0'}, []),\n",
       " Annotation(chunk, 12, 13, 58, {'entity': 'AGE', 'confidence': '1.0', 'ner_source': 'deid_ner_chunk', 'chunk': '1', 'sentence': '0'}, []),\n",
       " Annotation(chunk, 47, 56, John Green, {'entity': 'DOCTOR', 'confidence': '0.7381', 'ner_source': 'deid_ner_chunk', 'chunk': '2', 'sentence': '1'}, []),\n",
       " Annotation(chunk, 76, 84, metformin, {'entity': 'DRUG', 'confidence': '1.0', 'ner_source': 'posology_ner_chunk', 'chunk': '3', 'sentence': '1'}, []),\n",
       " Annotation(chunk, 87, 95, glipizide, {'entity': 'DRUG', 'confidence': '0.9983', 'ner_source': 'posology_ner_chunk', 'chunk': '4', 'sentence': '1'}, []),\n",
       " Annotation(chunk, 110, 121, atorvastatin, {'entity': 'DRUG', 'confidence': '1.0', 'ner_source': 'posology_ner_chunk', 'chunk': '5', 'sentence': '1'}, []),\n",
       " Annotation(chunk, 127, 137, gemfibrozil, {'entity': 'DRUG', 'confidence': '0.9996', 'ner_source': 'posology_ner_chunk', 'chunk': '6', 'sentence': '1'}, [])]"
      ]
     },
     "execution_count": 44,
     "metadata": {},
     "output_type": "execute_result"
    }
   ],
   "source": [
    "light_result[0][\"merged_ner_chunk\"]"
   ]
  },
  {
   "cell_type": "code",
   "execution_count": 0,
   "metadata": {
    "application/vnd.databricks.v1+cell": {
     "cellMetadata": {
      "byteLimit": 2048000,
      "rowLimit": 10000
     },
     "inputWidgets": {},
     "nuid": "83f32a23-d8e7-44db-94e5-b9b3b233d77b",
     "showTitle": false,
     "tableResultSettingsMap": {},
     "title": ""
    }
   },
   "outputs": [
    {
     "output_type": "execute_result",
     "data": {
      "text/plain": [
       "[Annotation(chunk, 0, 7, Jennifer, {'entity': 'NAME', 'confidence': '0.9993', 'ner_source': 'deid_ner_chunk', 'chunk': '0', 'sentence': '0'}, []),\n",
       " Annotation(chunk, 12, 13, 58, {'entity': 'AGE', 'confidence': '1.0', 'ner_source': 'deid_ner_chunk', 'chunk': '1', 'sentence': '0'}, []),\n",
       " Annotation(chunk, 47, 56, John Green, {'entity': 'NAME', 'confidence': '0.7381', 'ner_source': 'deid_ner_chunk', 'chunk': '2', 'sentence': '1'}, []),\n",
       " Annotation(chunk, 76, 84, metformin, {'entity': 'DRUG', 'confidence': '1.0', 'ner_source': 'posology_ner_chunk', 'chunk': '3', 'sentence': '1'}, []),\n",
       " Annotation(chunk, 87, 95, glipizide, {'entity': 'DRUG', 'confidence': '0.9983', 'ner_source': 'posology_ner_chunk', 'chunk': '4', 'sentence': '1'}, []),\n",
       " Annotation(chunk, 110, 121, atorvastatin, {'entity': 'DRUG', 'confidence': '1.0', 'ner_source': 'posology_ner_chunk', 'chunk': '5', 'sentence': '1'}, []),\n",
       " Annotation(chunk, 127, 137, gemfibrozil, {'entity': 'DRUG', 'confidence': '0.9996', 'ner_source': 'posology_ner_chunk', 'chunk': '6', 'sentence': '1'}, [])]"
      ]
     },
     "execution_count": 46,
     "metadata": {},
     "output_type": "execute_result"
    }
   ],
   "source": [
    "light_result[0][\"merged_chunk\"]"
   ]
  },
  {
   "cell_type": "code",
   "execution_count": 0,
   "metadata": {
    "application/vnd.databricks.v1+cell": {
     "cellMetadata": {
      "byteLimit": 2048000,
      "rowLimit": 10000
     },
     "inputWidgets": {},
     "nuid": "b4806d75-409f-41d1-99c3-987336c32115",
     "showTitle": false,
     "tableResultSettingsMap": {},
     "title": ""
    }
   },
   "outputs": [
    {
     "output_type": "execute_result",
     "data": {
      "text/html": [
       "<div>\n",
       "<style scoped>\n",
       "    .dataframe tbody tr th:only-of-type {\n",
       "        vertical-align: middle;\n",
       "    }\n",
       "\n",
       "    .dataframe tbody tr th {\n",
       "        vertical-align: top;\n",
       "    }\n",
       "\n",
       "    .dataframe thead th {\n",
       "        text-align: right;\n",
       "    }\n",
       "</style>\n",
       "<table border=\"1\" class=\"dataframe\">\n",
       "  <thead>\n",
       "    <tr style=\"text-align: right;\">\n",
       "      <th></th>\n",
       "      <th>chunks</th>\n",
       "      <th>begin</th>\n",
       "      <th>end</th>\n",
       "      <th>sentence_id</th>\n",
       "      <th>entities</th>\n",
       "      <th>confidence</th>\n",
       "    </tr>\n",
       "  </thead>\n",
       "  <tbody>\n",
       "    <tr>\n",
       "      <th>0</th>\n",
       "      <td>Jennifer</td>\n",
       "      <td>0</td>\n",
       "      <td>7</td>\n",
       "      <td>0</td>\n",
       "      <td>NAME</td>\n",
       "      <td>0.9993</td>\n",
       "    </tr>\n",
       "    <tr>\n",
       "      <th>1</th>\n",
       "      <td>58</td>\n",
       "      <td>12</td>\n",
       "      <td>13</td>\n",
       "      <td>0</td>\n",
       "      <td>AGE</td>\n",
       "      <td>1.0</td>\n",
       "    </tr>\n",
       "    <tr>\n",
       "      <th>2</th>\n",
       "      <td>John Green</td>\n",
       "      <td>47</td>\n",
       "      <td>56</td>\n",
       "      <td>1</td>\n",
       "      <td>NAME</td>\n",
       "      <td>0.7381</td>\n",
       "    </tr>\n",
       "    <tr>\n",
       "      <th>3</th>\n",
       "      <td>metformin</td>\n",
       "      <td>76</td>\n",
       "      <td>84</td>\n",
       "      <td>1</td>\n",
       "      <td>DRUG</td>\n",
       "      <td>1.0</td>\n",
       "    </tr>\n",
       "    <tr>\n",
       "      <th>4</th>\n",
       "      <td>glipizide</td>\n",
       "      <td>87</td>\n",
       "      <td>95</td>\n",
       "      <td>1</td>\n",
       "      <td>DRUG</td>\n",
       "      <td>0.9983</td>\n",
       "    </tr>\n",
       "    <tr>\n",
       "      <th>5</th>\n",
       "      <td>atorvastatin</td>\n",
       "      <td>110</td>\n",
       "      <td>121</td>\n",
       "      <td>1</td>\n",
       "      <td>DRUG</td>\n",
       "      <td>1.0</td>\n",
       "    </tr>\n",
       "    <tr>\n",
       "      <th>6</th>\n",
       "      <td>gemfibrozil</td>\n",
       "      <td>127</td>\n",
       "      <td>137</td>\n",
       "      <td>1</td>\n",
       "      <td>DRUG</td>\n",
       "      <td>0.9996</td>\n",
       "    </tr>\n",
       "  </tbody>\n",
       "</table>\n",
       "</div>"
      ],
      "text/plain": [
       "         chunks  begin  end sentence_id entities confidence\n",
       "0      Jennifer      0    7           0     NAME     0.9993\n",
       "1            58     12   13           0      AGE        1.0\n",
       "2    John Green     47   56           1     NAME     0.7381\n",
       "3     metformin     76   84           1     DRUG        1.0\n",
       "4     glipizide     87   95           1     DRUG     0.9983\n",
       "5  atorvastatin    110  121           1     DRUG        1.0\n",
       "6   gemfibrozil    127  137           1     DRUG     0.9996"
      ]
     },
     "execution_count": 47,
     "metadata": {},
     "output_type": "execute_result"
    }
   ],
   "source": [
    "chunks = []\n",
    "entities = []\n",
    "sentence= []\n",
    "begin = []\n",
    "end = []\n",
    "confidence = []\n",
    "\n",
    "for n in light_result[0]['merged_chunk']:\n",
    "    begin.append(n.begin)\n",
    "    end.append(n.end)\n",
    "    chunks.append(n.result)\n",
    "    entities.append(n.metadata['entity'])\n",
    "    sentence.append(n.metadata['sentence'])\n",
    "    confidence.append(n.metadata['confidence'])\n",
    "\n",
    "df_clinical = pd.DataFrame({'chunks':chunks,\n",
    "                            'begin': begin,\n",
    "                            'end':end,\n",
    "                            'sentence_id':sentence,\n",
    "                            'entities':entities,\n",
    "                            'confidence':confidence})\n",
    "\n",
    "df_clinical.head(20)"
   ]
  },
  {
   "cell_type": "markdown",
   "metadata": {
    "application/vnd.databricks.v1+cell": {
     "cellMetadata": {},
     "inputWidgets": {},
     "nuid": "4824e35d-1eb0-47e9-b2b6-c52ef041172a",
     "showTitle": false,
     "tableResultSettingsMap": {},
     "title": ""
    }
   },
   "source": [
    "## Filtering Chunks According To Confidence\n",
    "\n",
    "\n",
    "We have added a new `setEntitiesConfidence` parameter to `ChunkMergeApproach` annotator that enables filtering the chunks according to the confidence thresholds. The only thing you need to do is provide a csv file that has the NER labels as keys and the confidence thresholds as values."
   ]
  },
  {
   "cell_type": "code",
   "execution_count": 0,
   "metadata": {
    "application/vnd.databricks.v1+cell": {
     "cellMetadata": {
      "byteLimit": 2048000,
      "rowLimit": 10000
     },
     "inputWidgets": {},
     "nuid": "50babad6-e545-4955-a823-32dbd4a9151e",
     "showTitle": false,
     "tableResultSettingsMap": {},
     "title": ""
    }
   },
   "outputs": [],
   "source": [
    "conf_dict = \"\"\"DRUG,0.99\n",
    "FREQUENCY,0.99\n",
    "DOSAGE,0.99\n",
    "DURATION,0.99\n",
    "STRENGTH,0.99\n",
    "\"\"\"\n",
    "with open('/dbfs/data/conf_dict.csv', 'w') as f:\n",
    "    f.write(conf_dict)"
   ]
  },
  {
   "cell_type": "code",
   "execution_count": 0,
   "metadata": {
    "application/vnd.databricks.v1+cell": {
     "cellMetadata": {
      "byteLimit": 2048000,
      "rowLimit": 10000
     },
     "inputWidgets": {},
     "nuid": "7bfe4351-aec1-48e1-9d70-a99abb776bf9",
     "showTitle": false,
     "tableResultSettingsMap": {},
     "title": ""
    }
   },
   "outputs": [
    {
     "output_type": "stream",
     "name": "stdout",
     "output_type": "stream",
     "text": [
      "ner_posology download started this may take some time.\n\r[ | ]\r[OK!]\n"
     ]
    }
   ],
   "source": [
    "posology_ner = medical.NerModel.pretrained(\"ner_posology\", \"en\", \"clinical/models\") \\\n",
    "    .setInputCols([\"sentence\", \"token\", \"embeddings\"]) \\\n",
    "    .setOutputCol(\"posology_ner\")\n",
    "\n",
    "posology_ner_converter = medical.NerConverterInternal() \\\n",
    "    .setInputCols([\"sentence\", \"token\", \"posology_ner\"]) \\\n",
    "    .setOutputCol(\"posology_ner_chunk\")\n",
    "\n",
    "chunk_merger = medical.ChunkMergeApproach()\\\n",
    "    .setInputCols(\"posology_ner_chunk\")\\\n",
    "    .setOutputCol('merged_ner_chunk')\n",
    "\n",
    "chunk_merger_filter = medical.ChunkMergeApproach()\\\n",
    "    .setInputCols(\"posology_ner_chunk\")\\\n",
    "    .setOutputCol('filtered_ner_chunk')\\\n",
    "    .setEntitiesConfidenceResource(\"dbfs:/data/conf_dict.csv\")\n",
    "\n",
    "nlpPipeline = nlp.Pipeline(\n",
    "    stages=[\n",
    "        documentAssembler,\n",
    "        sentenceDetector,\n",
    "        tokenizer,\n",
    "        word_embeddings,\n",
    "        posology_ner,\n",
    "        posology_ner_converter,\n",
    "        chunk_merger,\n",
    "        chunk_merger_filter\n",
    "    ])\n",
    "\n",
    "model = nlpPipeline.fit(spark.createDataFrame([[\"\"]]).toDF(\"text\"))\n",
    "\n",
    "text =\"\"\"The patient was prescribed 1 capsule of Advil for 5 days. He was seen by the endocrinology service and she was discharged on 40 units of insulin glargine at night.\"\"\"\n",
    "\n",
    "light_model = nlp.LightPipeline(model)\n",
    "\n",
    "light_result = light_model.fullAnnotate(text)"
   ]
  },
  {
   "cell_type": "code",
   "execution_count": 0,
   "metadata": {
    "application/vnd.databricks.v1+cell": {
     "cellMetadata": {
      "byteLimit": 2048000,
      "rowLimit": 10000
     },
     "inputWidgets": {},
     "nuid": "0545fc1f-db45-4224-9edf-e60802955e96",
     "showTitle": false,
     "tableResultSettingsMap": {},
     "title": ""
    }
   },
   "outputs": [
    {
     "output_type": "execute_result",
     "data": {
      "text/plain": [
       "[Annotation(chunk, 27, 27, 1, {'entity': 'DOSAGE', 'confidence': '0.9992', 'ner_source': 'posology_ner_chunk', 'chunk': '0', 'sentence': '0'}, []),\n",
       " Annotation(chunk, 29, 35, capsule, {'entity': 'FORM', 'confidence': '0.9897', 'ner_source': 'posology_ner_chunk', 'chunk': '1', 'sentence': '0'}, []),\n",
       " Annotation(chunk, 40, 44, Advil, {'entity': 'DRUG', 'confidence': '0.997', 'ner_source': 'posology_ner_chunk', 'chunk': '2', 'sentence': '0'}, []),\n",
       " Annotation(chunk, 46, 55, for 5 days, {'entity': 'DURATION', 'confidence': '0.71383333', 'ner_source': 'posology_ner_chunk', 'chunk': '3', 'sentence': '0'}, []),\n",
       " Annotation(chunk, 125, 132, 40 units, {'entity': 'DOSAGE', 'confidence': '0.85029995', 'ner_source': 'posology_ner_chunk', 'chunk': '4', 'sentence': '1'}, []),\n",
       " Annotation(chunk, 137, 152, insulin glargine, {'entity': 'DRUG', 'confidence': '0.82715', 'ner_source': 'posology_ner_chunk', 'chunk': '5', 'sentence': '1'}, []),\n",
       " Annotation(chunk, 154, 161, at night, {'entity': 'FREQUENCY', 'confidence': '0.813', 'ner_source': 'posology_ner_chunk', 'chunk': '6', 'sentence': '1'}, [])]"
      ]
     },
     "execution_count": 50,
     "metadata": {},
     "output_type": "execute_result"
    }
   ],
   "source": [
    "light_result[0][\"merged_ner_chunk\"]"
   ]
  },
  {
   "cell_type": "code",
   "execution_count": 0,
   "metadata": {
    "application/vnd.databricks.v1+cell": {
     "cellMetadata": {
      "byteLimit": 2048000,
      "rowLimit": 10000
     },
     "inputWidgets": {},
     "nuid": "ea1fc38f-5f9f-4f5d-be13-0b84388b550b",
     "showTitle": false,
     "tableResultSettingsMap": {},
     "title": ""
    }
   },
   "outputs": [
    {
     "output_type": "execute_result",
     "data": {
      "text/plain": [
       "[Annotation(chunk, 27, 27, 1, {'entity': 'DOSAGE', 'confidence': '0.9992', 'ner_source': 'posology_ner_chunk', 'chunk': '0', 'sentence': '0'}, []),\n",
       " Annotation(chunk, 29, 35, capsule, {'entity': 'FORM', 'confidence': '0.9897', 'ner_source': 'posology_ner_chunk', 'chunk': '1', 'sentence': '0'}, []),\n",
       " Annotation(chunk, 40, 44, Advil, {'entity': 'DRUG', 'confidence': '0.997', 'ner_source': 'posology_ner_chunk', 'chunk': '2', 'sentence': '0'}, [])]"
      ]
     },
     "execution_count": 51,
     "metadata": {},
     "output_type": "execute_result"
    }
   ],
   "source": [
    "light_result[0][\"filtered_ner_chunk\"]"
   ]
  },
  {
   "cell_type": "code",
   "execution_count": 0,
   "metadata": {
    "application/vnd.databricks.v1+cell": {
     "cellMetadata": {
      "byteLimit": 2048000,
      "rowLimit": 10000
     },
     "inputWidgets": {},
     "nuid": "abeade4e-6765-48f5-92b0-ef436ed43ad1",
     "showTitle": false,
     "tableResultSettingsMap": {},
     "title": ""
    }
   },
   "outputs": [
    {
     "output_type": "execute_result",
     "data": {
      "text/html": [
       "<div>\n",
       "<style scoped>\n",
       "    .dataframe tbody tr th:only-of-type {\n",
       "        vertical-align: middle;\n",
       "    }\n",
       "\n",
       "    .dataframe tbody tr th {\n",
       "        vertical-align: top;\n",
       "    }\n",
       "\n",
       "    .dataframe thead th {\n",
       "        text-align: right;\n",
       "    }\n",
       "</style>\n",
       "<table border=\"1\" class=\"dataframe\">\n",
       "  <thead>\n",
       "    <tr style=\"text-align: right;\">\n",
       "      <th></th>\n",
       "      <th>chunks</th>\n",
       "      <th>begin</th>\n",
       "      <th>end</th>\n",
       "      <th>sentence_id</th>\n",
       "      <th>entities</th>\n",
       "      <th>confidence</th>\n",
       "    </tr>\n",
       "  </thead>\n",
       "  <tbody>\n",
       "    <tr>\n",
       "      <th>0</th>\n",
       "      <td>1</td>\n",
       "      <td>27</td>\n",
       "      <td>27</td>\n",
       "      <td>0</td>\n",
       "      <td>DOSAGE</td>\n",
       "      <td>0.9992</td>\n",
       "    </tr>\n",
       "    <tr>\n",
       "      <th>1</th>\n",
       "      <td>capsule</td>\n",
       "      <td>29</td>\n",
       "      <td>35</td>\n",
       "      <td>0</td>\n",
       "      <td>FORM</td>\n",
       "      <td>0.9897</td>\n",
       "    </tr>\n",
       "    <tr>\n",
       "      <th>2</th>\n",
       "      <td>Advil</td>\n",
       "      <td>40</td>\n",
       "      <td>44</td>\n",
       "      <td>0</td>\n",
       "      <td>DRUG</td>\n",
       "      <td>0.997</td>\n",
       "    </tr>\n",
       "  </tbody>\n",
       "</table>\n",
       "</div>"
      ],
      "text/plain": [
       "    chunks  begin  end sentence_id entities confidence\n",
       "0        1     27   27           0   DOSAGE     0.9992\n",
       "1  capsule     29   35           0     FORM     0.9897\n",
       "2    Advil     40   44           0     DRUG      0.997"
      ]
     },
     "execution_count": 52,
     "metadata": {},
     "output_type": "execute_result"
    }
   ],
   "source": [
    "chunks = []\n",
    "entities = []\n",
    "sentence= []\n",
    "begin = []\n",
    "end = []\n",
    "confidence = []\n",
    "\n",
    "for n in light_result[0]['filtered_ner_chunk']:\n",
    "    begin.append(n.begin)\n",
    "    end.append(n.end)\n",
    "    chunks.append(n.result)\n",
    "    entities.append(n.metadata['entity'])\n",
    "    sentence.append(n.metadata['sentence'])\n",
    "    confidence.append(n.metadata['confidence'])\n",
    "\n",
    "df_clinical = pd.DataFrame({'chunks':chunks,\n",
    "                            'begin': begin,\n",
    "                            'end':end,\n",
    "                            'sentence_id':sentence,\n",
    "                            'entities':entities,\n",
    "                            'confidence':confidence})\n",
    "\n",
    "df_clinical.head(20)"
   ]
  },
  {
   "cell_type": "markdown",
   "metadata": {
    "application/vnd.databricks.v1+cell": {
     "cellMetadata": {},
     "inputWidgets": {},
     "nuid": "e4ebb8f5-6d21-4aea-8562-c238c573acf2",
     "showTitle": false,
     "tableResultSettingsMap": {},
     "title": ""
    },
    "id": "n2Iu8FDLroo1"
   },
   "source": [
    "## Merging NERs with TextMatcher and RegexMatcher outputs in the same pipeline"
   ]
  },
  {
   "cell_type": "markdown",
   "metadata": {
    "application/vnd.databricks.v1+cell": {
     "cellMetadata": {},
     "inputWidgets": {},
     "nuid": "171f0e1d-26c1-4024-b477-ab2e57769742",
     "showTitle": false,
     "tableResultSettingsMap": {},
     "title": ""
    },
    "id": "JIHZ7T2VsN2O"
   },
   "source": [
    "### TextMatcher"
   ]
  },
  {
   "cell_type": "markdown",
   "metadata": {
    "application/vnd.databricks.v1+cell": {
     "cellMetadata": {},
     "inputWidgets": {},
     "nuid": "323ae59a-d1c2-469d-a3bb-6f247f886979",
     "showTitle": false,
     "tableResultSettingsMap": {},
     "title": ""
    },
    "id": "a7nThJm_s8xm"
   },
   "source": [
    "Lets make a special NER for female using a dictionary related to female entity."
   ]
  },
  {
   "cell_type": "code",
   "execution_count": 0,
   "metadata": {
    "application/vnd.databricks.v1+cell": {
     "cellMetadata": {
      "byteLimit": 2048000,
      "rowLimit": 10000
     },
     "inputWidgets": {},
     "nuid": "6bbdf994-c92f-4417-88db-d32cb27abfd4",
     "showTitle": false,
     "tableResultSettingsMap": {},
     "title": ""
    },
    "id": "eo-Uh7-3sS1r"
   },
   "outputs": [],
   "source": [
    "# write the target entities to txt file \n",
    "\n",
    "entities = ['she', 'her', 'girl', 'woman', 'women', 'womanish', 'womanlike', 'womanly', 'madam', 'madame', 'senora', 'lady', 'miss', 'girlfriend', 'wife', 'bride', 'misses', 'mrs.', 'female']\n",
    "with open ('/dbfs/female_entities.txt', 'w') as f:\n",
    "    for i in entities:\n",
    "        f.write(i+'\\n')"
   ]
  },
  {
   "cell_type": "code",
   "execution_count": 0,
   "metadata": {
    "application/vnd.databricks.v1+cell": {
     "cellMetadata": {
      "byteLimit": 2048000,
      "rowLimit": 10000
     },
     "inputWidgets": {},
     "nuid": "65412ac0-beda-4f40-9148-e6f977afa8a5",
     "showTitle": false,
     "tableResultSettingsMap": {},
     "title": ""
    },
    "id": "zayO-dXy-TPa"
   },
   "outputs": [],
   "source": [
    "sample_text = \"\"\"A 28 year old female with a history of gestational diabetes mellitus diagnosed eight years prior to \n",
    "presentation and subsequent type two diabetes mellitus ( T2DM ), one prior episode of HTG-induced pancreatitis \n",
    "three years prior to presentation , associated with an acute hepatitis , and obesity with a body mass index \n",
    "( BMI ) of 33.5 kg/m2 , presented with a one-week history of polyuria , polydipsia , poor appetite , and vomiting.\n",
    "Two weeks prior to presentation , she was treated with a five-day course of amoxicillin for a respiratory tract infection . \n",
    "She was on metformin , glipizide , and dapagliflozin for T2DM and atorvastatin and gemfibrozil for HTG . \n",
    "She had been on dapagliflozin for six months at the time of presentation . Physical examination on presentation was \n",
    "significant for dry oral mucosa ; significantly , her abdominal examination was benign with no tenderness , guarding , \n",
    "or rigidity . Pertinent laboratory findings on admission were : serum glucose 111 mg/dl , bicarbonate 18 mmol/l , \n",
    "anion gap 20 , creatinine 0.4 mg/dL , triglycerides 508 mg/dL , total cholesterol 122 mg/dL , glycated hemoglobin \n",
    "( HbA1c ) 10% , and venous pH 7.27 . Serum lipase was normal at 43 U/L . Serum acetone levels could not be assessed \n",
    "as blood samples kept hemolyzing due to significant lipemia .\n",
    "The patient was initially admitted for starvation ketosis , as she reported poor oral intake for three days prior \n",
    "to admission . However , serum chemistry obtained six hours after presentation revealed her glucose was 186 mg/dL , \n",
    "the anion gap was still elevated at 21 , serum bicarbonate was 16 mmol/L , triglyceride level peaked at 2050 mg/dL , \n",
    "and lipase was 52 U/L .\n",
    "β-hydroxybutyrate level was obtained and found to be elevated at 5.29 mmol/L - the original sample was centrifuged \n",
    "and the chylomicron layer removed prior to analysis due to interference from turbidity caused by lipemia again . \n",
    "This madame was treated with an insulin drip for euDKA and HTG with a reduction in the anion gap to 13 and triglycerides \n",
    "to 1400 mg/dL , within 24 hours .\n",
    "Twenty days ago.\n",
    "Her euDKA was thought to be precipitated by her respiratory tract infection in the setting of SGLT2 inhibitor use . \n",
    "At birth the typical boy is growing slightly faster than the typical girl, but the velocities become equal at about \n",
    "seven months, and then the girl grows faster until four years. \n",
    "From then until adolescence no differences in velocity \n",
    "can be detected. 21-02-2020 \n",
    "21/04/2020\n",
    "\"\"\""
   ]
  },
  {
   "cell_type": "code",
   "execution_count": 0,
   "metadata": {
    "application/vnd.databricks.v1+cell": {
     "cellMetadata": {
      "byteLimit": 2048000,
      "rowLimit": 10000
     },
     "inputWidgets": {},
     "nuid": "efc7fddf-52bd-441a-a563-f4395f3fb38d",
     "showTitle": false,
     "tableResultSettingsMap": {},
     "title": ""
    },
    "colab": {
     "base_uri": "https://localhost:8080/"
    },
    "id": "NIi7wkwauvdq",
    "outputId": "c4c66eec-8f8f-4cfa-bc4a-2c0559f03238"
   },
   "outputs": [
    {
     "output_type": "stream",
     "name": "stdout",
     "output_type": "stream",
     "text": [
      "embeddings_clinical download started this may take some time.\nApproximate size to download 1.6 GB\n\r[ | ]\r[OK!]\nner_jsl download started this may take some time.\n\r[ | ]\r[OK!]\n"
     ]
    }
   ],
   "source": [
    "documentAssembler = nlp.DocumentAssembler()\\\n",
    "    .setInputCol(\"text\")\\\n",
    "    .setOutputCol(\"document\")\n",
    "\n",
    "# Sentence Detector annotator, processes various sentences per line\n",
    "sentenceDetector = nlp.SentenceDetector()\\\n",
    "    .setInputCols([\"document\"])\\\n",
    "    .setOutputCol(\"sentence\")\n",
    "\n",
    "# Tokenizer splits words in a relevant format for NLP\n",
    "tokenizer = nlp.Tokenizer()\\\n",
    "    .setInputCols([\"sentence\"])\\\n",
    "    .setOutputCol(\"token\")\n",
    "\n",
    "# Clinical word embeddings \n",
    "word_embeddings = nlp.WordEmbeddingsModel.pretrained(\"embeddings_clinical\", \"en\", \"clinical/models\")\\\n",
    "    .setInputCols([\"sentence\", \"token\"])\\\n",
    "    .setOutputCol(\"embeddings\")\n",
    "\n",
    "# Extracting entities by ner_jsl\n",
    "ner_model = medical.NerModel.pretrained(\"ner_jsl\",\"en\",\"clinical/models\") \\\n",
    "    .setInputCols(\"sentence\",\"token\",\"embeddings\") \\\n",
    "    .setOutputCol(\"ner\")\n",
    "\n",
    "ner_converter= medical.NerConverterInternal()\\\n",
    "    .setInputCols([\"sentence\", \"token\", \"ner\"])\\\n",
    "    .setOutputCol(\"ner_chunk\")\\\n",
    "\n",
    "# Find female entities using TextMatcher\n",
    "female_entity_extractor = nlp.TextMatcher() \\\n",
    "    .setInputCols([\"document\",'token'])\\\n",
    "    .setOutputCol(\"female_entities\")\\\n",
    "    .setEntities(\"file:/dbfs/female_entities.txt\")\\\n",
    "    .setCaseSensitive(False)\\\n",
    "    .setEntityValue('female_entity')\n",
    "\n",
    "# Chunkmerger; prioritize female_entity\n",
    "merger= medical.ChunkMergeApproach()\\\n",
    "    .setInputCols([\"female_entities\", \"ner_chunk\"])\\\n",
    "    .setOutputCol(\"merged_chunks\")\n",
    "\n",
    "pipeline= nlp.Pipeline(stages=[\n",
    "                           documentAssembler,\n",
    "                           sentenceDetector,\n",
    "                           tokenizer,\n",
    "                           word_embeddings,\n",
    "                           ner_model,\n",
    "                           ner_converter,\n",
    "                           female_entity_extractor,\n",
    "                           merger\n",
    "])\n",
    "\n",
    "empty_df= spark.createDataFrame([[\"\"]]).toDF(\"text\")\n",
    "model= pipeline.fit(empty_df)\n",
    "\n",
    "\n",
    "tm_model= nlp.LightPipeline(model)\n",
    "tm_result= tm_model.fullAnnotate(sample_text)[0]"
   ]
  },
  {
   "cell_type": "code",
   "execution_count": 0,
   "metadata": {
    "application/vnd.databricks.v1+cell": {
     "cellMetadata": {
      "byteLimit": 2048000,
      "rowLimit": 10000
     },
     "inputWidgets": {},
     "nuid": "5960a681-d516-432b-bf40-94afd00f0351",
     "showTitle": false,
     "tableResultSettingsMap": {},
     "title": ""
    }
   },
   "outputs": [
    {
     "output_type": "execute_result",
     "data": {
      "text/html": [
       "<div>\n",
       "<style scoped>\n",
       "    .dataframe tbody tr th:only-of-type {\n",
       "        vertical-align: middle;\n",
       "    }\n",
       "\n",
       "    .dataframe tbody tr th {\n",
       "        vertical-align: top;\n",
       "    }\n",
       "\n",
       "    .dataframe thead th {\n",
       "        text-align: right;\n",
       "    }\n",
       "</style>\n",
       "<table border=\"1\" class=\"dataframe\">\n",
       "  <thead>\n",
       "    <tr style=\"text-align: right;\">\n",
       "      <th></th>\n",
       "      <th>chunk</th>\n",
       "      <th>ner_entity</th>\n",
       "      <th>merged_entity</th>\n",
       "    </tr>\n",
       "  </thead>\n",
       "  <tbody>\n",
       "    <tr>\n",
       "      <th>1</th>\n",
       "      <td>female</td>\n",
       "      <td>Gender</td>\n",
       "      <td>female_entity</td>\n",
       "    </tr>\n",
       "    <tr>\n",
       "      <th>23</th>\n",
       "      <td>she</td>\n",
       "      <td>Gender</td>\n",
       "      <td>female_entity</td>\n",
       "    </tr>\n",
       "    <tr>\n",
       "      <th>24</th>\n",
       "      <td>she</td>\n",
       "      <td>Gender</td>\n",
       "      <td>female_entity</td>\n",
       "    </tr>\n",
       "    <tr>\n",
       "      <th>25</th>\n",
       "      <td>she</td>\n",
       "      <td>Gender</td>\n",
       "      <td>female_entity</td>\n",
       "    </tr>\n",
       "    <tr>\n",
       "      <th>26</th>\n",
       "      <td>she</td>\n",
       "      <td>Gender</td>\n",
       "      <td>female_entity</td>\n",
       "    </tr>\n",
       "    <tr>\n",
       "      <th>33</th>\n",
       "      <td>She</td>\n",
       "      <td>Gender</td>\n",
       "      <td>female_entity</td>\n",
       "    </tr>\n",
       "    <tr>\n",
       "      <th>34</th>\n",
       "      <td>She</td>\n",
       "      <td>Gender</td>\n",
       "      <td>female_entity</td>\n",
       "    </tr>\n",
       "    <tr>\n",
       "      <th>35</th>\n",
       "      <td>She</td>\n",
       "      <td>Gender</td>\n",
       "      <td>female_entity</td>\n",
       "    </tr>\n",
       "    <tr>\n",
       "      <th>36</th>\n",
       "      <td>She</td>\n",
       "      <td>Gender</td>\n",
       "      <td>female_entity</td>\n",
       "    </tr>\n",
       "    <tr>\n",
       "      <th>51</th>\n",
       "      <td>her</td>\n",
       "      <td>Gender</td>\n",
       "      <td>female_entity</td>\n",
       "    </tr>\n",
       "    <tr>\n",
       "      <th>52</th>\n",
       "      <td>her</td>\n",
       "      <td>Gender</td>\n",
       "      <td>female_entity</td>\n",
       "    </tr>\n",
       "    <tr>\n",
       "      <th>53</th>\n",
       "      <td>her</td>\n",
       "      <td>Gender</td>\n",
       "      <td>female_entity</td>\n",
       "    </tr>\n",
       "    <tr>\n",
       "      <th>54</th>\n",
       "      <td>her</td>\n",
       "      <td>Gender</td>\n",
       "      <td>female_entity</td>\n",
       "    </tr>\n",
       "    <tr>\n",
       "      <th>55</th>\n",
       "      <td>her</td>\n",
       "      <td>Gender</td>\n",
       "      <td>female_entity</td>\n",
       "    </tr>\n",
       "    <tr>\n",
       "      <th>56</th>\n",
       "      <td>her</td>\n",
       "      <td>Gender</td>\n",
       "      <td>female_entity</td>\n",
       "    </tr>\n",
       "    <tr>\n",
       "      <th>57</th>\n",
       "      <td>her</td>\n",
       "      <td>Gender</td>\n",
       "      <td>female_entity</td>\n",
       "    </tr>\n",
       "    <tr>\n",
       "      <th>58</th>\n",
       "      <td>her</td>\n",
       "      <td>Gender</td>\n",
       "      <td>female_entity</td>\n",
       "    </tr>\n",
       "    <tr>\n",
       "      <th>59</th>\n",
       "      <td>her</td>\n",
       "      <td>Gender</td>\n",
       "      <td>female_entity</td>\n",
       "    </tr>\n",
       "    <tr>\n",
       "      <th>130</th>\n",
       "      <td>Her</td>\n",
       "      <td>Gender</td>\n",
       "      <td>female_entity</td>\n",
       "    </tr>\n",
       "    <tr>\n",
       "      <th>132</th>\n",
       "      <td>boy</td>\n",
       "      <td>Gender</td>\n",
       "      <td>Gender</td>\n",
       "    </tr>\n",
       "    <tr>\n",
       "      <th>133</th>\n",
       "      <td>girl</td>\n",
       "      <td>Gender</td>\n",
       "      <td>female_entity</td>\n",
       "    </tr>\n",
       "    <tr>\n",
       "      <th>134</th>\n",
       "      <td>girl</td>\n",
       "      <td>Gender</td>\n",
       "      <td>female_entity</td>\n",
       "    </tr>\n",
       "    <tr>\n",
       "      <th>135</th>\n",
       "      <td>girl</td>\n",
       "      <td>Gender</td>\n",
       "      <td>female_entity</td>\n",
       "    </tr>\n",
       "    <tr>\n",
       "      <th>136</th>\n",
       "      <td>girl</td>\n",
       "      <td>Gender</td>\n",
       "      <td>female_entity</td>\n",
       "    </tr>\n",
       "  </tbody>\n",
       "</table>\n",
       "</div>"
      ],
      "text/plain": [
       "      chunk ner_entity  merged_entity\n",
       "1    female     Gender  female_entity\n",
       "23      she     Gender  female_entity\n",
       "24      she     Gender  female_entity\n",
       "25      she     Gender  female_entity\n",
       "26      she     Gender  female_entity\n",
       "33      She     Gender  female_entity\n",
       "34      She     Gender  female_entity\n",
       "35      She     Gender  female_entity\n",
       "36      She     Gender  female_entity\n",
       "51      her     Gender  female_entity\n",
       "52      her     Gender  female_entity\n",
       "53      her     Gender  female_entity\n",
       "54      her     Gender  female_entity\n",
       "55      her     Gender  female_entity\n",
       "56      her     Gender  female_entity\n",
       "57      her     Gender  female_entity\n",
       "58      her     Gender  female_entity\n",
       "59      her     Gender  female_entity\n",
       "130     Her     Gender  female_entity\n",
       "132     boy     Gender         Gender\n",
       "133    girl     Gender  female_entity\n",
       "134    girl     Gender  female_entity\n",
       "135    girl     Gender  female_entity\n",
       "136    girl     Gender  female_entity"
      ]
     },
     "execution_count": 56,
     "metadata": {},
     "output_type": "execute_result"
    }
   ],
   "source": [
    "chunk= []\n",
    "ner = []\n",
    "\n",
    "for i in tm_result[\"ner_chunk\"]:\n",
    "  ner.append(i.metadata[\"entity\"])\n",
    "  chunk.append(i.result)\n",
    "\n",
    "df_ner= pd.DataFrame({\"chunk\": chunk, \"ner_entity\": ner})\n",
    "\n",
    "\n",
    "merged_chunk= []\n",
    "merged_entity=[]\n",
    "\n",
    "for i in tm_result[\"merged_chunks\"]:\n",
    "  merged_entity.append(i.metadata[\"entity\"])\n",
    "  merged_chunk.append(i.result)\n",
    "\n",
    "df_merge= pd.DataFrame({\"chunk\": merged_chunk, \"merged_entity\": merged_entity})\n",
    "\n",
    "\n",
    "df= df_ner.merge(df_merge, on='chunk', how='inner')\n",
    "df= df[(df.ner_entity==\"Gender\") | (df.merged_entity==\"female_entity\")]\n",
    "df.head(25)"
   ]
  },
  {
   "cell_type": "markdown",
   "metadata": {
    "application/vnd.databricks.v1+cell": {
     "cellMetadata": {},
     "inputWidgets": {},
     "nuid": "334b91e1-ecda-44f7-9502-c29c581352ef",
     "showTitle": false,
     "tableResultSettingsMap": {},
     "title": ""
    },
    "id": "nJ4hw9xYAQY7"
   },
   "source": [
    "As seen above table, `Gender` NER entities with female info are replaced with `female_entity`. And chunk 'madame' is identified incorrectly as `Medical_Device`, but this false entity is corrected with `female_entity`, using TextMatcher annotator merging."
   ]
  },
  {
   "cell_type": "markdown",
   "metadata": {
    "application/vnd.databricks.v1+cell": {
     "cellMetadata": {},
     "inputWidgets": {},
     "nuid": "ecf3435b-1ae5-49c7-883f-fe2f5b88f755",
     "showTitle": false,
     "tableResultSettingsMap": {},
     "title": ""
    },
    "id": "BHq5ziF7gsYX"
   },
   "source": [
    "If your lookup table is large, you can even use  [BigTextMatcher](https://nlp.johnsnowlabs.com/docs/en/annotators#bigtextmatcher)."
   ]
  },
  {
   "cell_type": "markdown",
   "metadata": {
    "application/vnd.databricks.v1+cell": {
     "cellMetadata": {},
     "inputWidgets": {},
     "nuid": "7ad56b14-0a63-4670-99d1-7cb797329deb",
     "showTitle": false,
     "tableResultSettingsMap": {},
     "title": ""
    },
    "id": "a5QXhpaOsWXa"
   },
   "source": [
    "### RegexMatcher"
   ]
  },
  {
   "cell_type": "markdown",
   "metadata": {
    "application/vnd.databricks.v1+cell": {
     "cellMetadata": {},
     "inputWidgets": {},
     "nuid": "096ac56d-d5d4-4e86-91c4-ce425e41c578",
     "showTitle": false,
     "tableResultSettingsMap": {},
     "title": ""
    },
    "id": "fWjpkS4yu2iJ"
   },
   "source": [
    "Here we will use [RegexMatcher](https://nlp.johnsnowlabs.com/docs/en/annotators#regexmatcher) to build a NER label. Initially we will build a file that contains one or multiple line regex rules. For use of RegexMather you may check [this NB](https://github.com/JohnSnowLabs/spark-nlp-workshop/blob/master/tutorials/Certification_Trainings/Public/2.Text_Preprocessing_with_SparkNLP_Annotators_Transformers.ipynb])."
   ]
  },
  {
   "cell_type": "code",
   "execution_count": 0,
   "metadata": {
    "application/vnd.databricks.v1+cell": {
     "cellMetadata": {
      "byteLimit": 2048000,
      "rowLimit": 10000
     },
     "inputWidgets": {},
     "nuid": "241a4b68-2475-4b05-8ea1-4ca7c772c578",
     "showTitle": false,
     "tableResultSettingsMap": {},
     "title": ""
    },
    "id": "jT2DkSEMix8y"
   },
   "outputs": [],
   "source": [
    "rules = '''\n",
    "\\b[A-Z]+(\\s+[A-Z]+)*:\\b, SECTION_HEADER\n",
    "'''\n",
    "\n",
    "with open('/dbfs/regex_rules.txt', 'w') as f:\n",
    "    \n",
    "    f.write(rules)\n",
    "    "
   ]
  },
  {
   "cell_type": "markdown",
   "metadata": {
    "application/vnd.databricks.v1+cell": {
     "cellMetadata": {},
     "inputWidgets": {},
     "nuid": "901b792e-5158-42b3-91b0-0f12b414e083",
     "showTitle": false,
     "tableResultSettingsMap": {},
     "title": ""
    },
    "id": "v___xP16wLuw"
   },
   "source": [
    "This regex rule finds `SECTION_HEADER` chunks of the document. There are some pre-trained models that can find `SECTION_HEADER`, but here we will use this method just to demonstrate the use of RegexMatcher."
   ]
  },
  {
   "cell_type": "code",
   "execution_count": 0,
   "metadata": {
    "application/vnd.databricks.v1+cell": {
     "cellMetadata": {
      "byteLimit": 2048000,
      "rowLimit": 10000
     },
     "inputWidgets": {},
     "nuid": "f55d2461-8bcf-4386-b910-2ddf4e40654e",
     "showTitle": false,
     "tableResultSettingsMap": {},
     "title": ""
    },
    "id": "bu4Zepi48vve"
   },
   "outputs": [],
   "source": [
    "sample_text = \"\"\"\n",
    "POSTOPERATIVE DIAGNOSIS: Cervical lymphadenopathy.\n",
    "PROCEDURE:  Excisional biopsy of right cervical lymph node.\n",
    "ANESTHESIA:  General endotracheal anesthesia.\n",
    "Specimen:  Right cervical lymph node.\n",
    "EBL: 10 cc.\n",
    "COMPLICATIONS:  None.\n",
    "FINDINGS: Enlarged level 2 lymph node was identified and removed and sent for pathologic examination.\n",
    "FLUIDS:  Please see anesthesia report.\n",
    "URINE OUTPUT:  None recorded during the case.\n",
    "INDICATIONS FOR PROCEDURE:  This is a 43-year-old female with a several-year history of persistent cervical lymphadenopathy. She reports that it is painful to palpation on the right and has had multiple CT scans as well as an FNA which were all nondiagnostic. After risks and benefits of surgery were discussed with the patient, an informed consent was obtained. She was scheduled for an excisional biopsy of the right cervical lymph node.\n",
    "PROCEDURE IN DETAIL:  The patient was taken to the operating room and placed in the supine position. She was anesthetized with general endotracheal anesthesia. The neck was then prepped and draped in the sterile fashion. Again, noted on palpation there was an enlarged level 2 cervical lymph node.A 3-cm horizontal incision was made over this lymph node. Dissection was carried down until the sternocleidomastoid muscle was identified. The enlarged lymph node that measured approximately 2 cm in diameter was identified and was removed and sent to Pathology for touch prep evaluation. The area was then explored for any other enlarged lymph nodes. None were identified, and hemostasis was achieved with electrocautery. A quarter-inch Penrose drain was placed in the wound.The wound was then irrigated and closed with 3-0 interrupted Vicryl sutures for a deep closure followed by a running 4-0 Prolene subcuticular suture. Mastisol and Steri-Strip were placed over the incision, and sterile bandage was applied. The patient tolerated this procedure well and was extubated without complications and transported to the recovery room in stable condition. She will return to the office tomorrow in followup to have the Penrose drain removed.\n",
    "\"\"\""
   ]
  },
  {
   "cell_type": "markdown",
   "metadata": {
    "application/vnd.databricks.v1+cell": {
     "cellMetadata": {},
     "inputWidgets": {},
     "nuid": "ed58bab3-7eca-4074-bb7a-917f2fa56fc6",
     "showTitle": false,
     "tableResultSettingsMap": {},
     "title": ""
    },
    "id": "qM9zk0vAyEst"
   },
   "source": [
    "Below is a typical pipeline, but RegexMatcher is added. RegexMatcher output chunks doesn't have an entity label, so we need to use [ChunkConverter](https://nlp.johnsnowlabs.com/licensed/api/python/reference/autosummary/sparknlp_jsl/annotator/chunker/chunk_converter/index.html?highlight=chunkconverter#sparknlp_jsl.annotator.chunker.chunk_converter.ChunkConverter) to add entity labels to regex chunks. Finally NER and RegexMatcher (through ChunkConverter) outputs are merged  by ChunkMergeApproach."
   ]
  },
  {
   "cell_type": "code",
   "execution_count": 0,
   "metadata": {
    "application/vnd.databricks.v1+cell": {
     "cellMetadata": {
      "byteLimit": 2048000,
      "rowLimit": 10000
     },
     "inputWidgets": {},
     "nuid": "738f6dda-9f8d-4027-8ed5-d27d0e6ac13e",
     "showTitle": false,
     "tableResultSettingsMap": {},
     "title": ""
    },
    "colab": {
     "base_uri": "https://localhost:8080/"
    },
    "id": "2C7yhFM5lYOj",
    "outputId": "af594787-325c-4310-80b4-03bc465129a7"
   },
   "outputs": [
    {
     "output_type": "stream",
     "name": "stdout",
     "output_type": "stream",
     "text": [
      "embeddings_clinical download started this may take some time.\nApproximate size to download 1.6 GB\n\r[ | ]\r[OK!]\nner_clinical_large download started this may take some time.\n\r[ | ]\r[ / ]\r[OK!]\n"
     ]
    }
   ],
   "source": [
    "documentAssembler = nlp.DocumentAssembler()\\\n",
    "    .setInputCol(\"text\")\\\n",
    "    .setOutputCol(\"document\")\n",
    "\n",
    "# Sentence Detector annotator, processes various sentences per line\n",
    "sentenceDetector = nlp.SentenceDetector()\\\n",
    "    .setInputCols([\"document\"])\\\n",
    "    .setOutputCol(\"sentence\")\n",
    "\n",
    "# Tokenizer splits words in a relevant format for NLP\n",
    "tokenizer = nlp.Tokenizer()\\\n",
    "    .setInputCols([\"sentence\"])\\\n",
    "    .setOutputCol(\"token\")\n",
    "\n",
    "# Clinical word embeddings \n",
    "word_embeddings = nlp.WordEmbeddingsModel.pretrained(\"embeddings_clinical\", \"en\", \"clinical/models\")\\\n",
    "    .setInputCols([\"sentence\", \"token\"])\\\n",
    "    .setOutputCol(\"embeddings\")\n",
    "\n",
    "# Extracting entities using ner_clinical_large pretrained model \n",
    "ner_model = medical.NerModel.pretrained(\"ner_clinical_large\",\"en\",\"clinical/models\") \\\n",
    "    .setInputCols(\"sentence\",\"token\",\"embeddings\") \\\n",
    "    .setOutputCol(\"ner\")\n",
    "\n",
    "ner_converter= medical.NerConverterInternal()\\\n",
    "    .setInputCols([\"sentence\", \"token\", \"ner\"])\\\n",
    "    .setOutputCol(\"ner_chunk\")\\\n",
    "\n",
    "# Find all tokens that matches regex rule file\n",
    "regex_matcher = nlp.RegexMatcher()\\\n",
    "    .setInputCols('document')\\\n",
    "    .setStrategy(\"MATCH_ALL\")\\\n",
    "    .setOutputCol(\"regex_matches\")\\\n",
    "    .setExternalRules(path='file:/dbfs/regex_rules.txt', delimiter=',')\n",
    "\n",
    "# Add entity label to regex chunks to be able to merge with previous NER \n",
    "chunkConverter= medical.ChunkConverter()\\\n",
    "    .setInputCols(\"regex_matches\")\\\n",
    "    .setOutputCol(\"regex_chunk\")\n",
    "\n",
    "# Chunkmerger, prioritize regex\n",
    "merger= medical.ChunkMergeApproach()\\\n",
    "    .setInputCols([\"regex_chunk\", \"ner_chunk\"])\\\n",
    "    .setOutputCol(\"merged_chunks\")\\\n",
    "    .setMergeOverlapping(True)\\\n",
    "    .setChunkPrecedence(\"field\")\n",
    "\n",
    "pipeline= nlp.Pipeline(stages=[\n",
    "                           documentAssembler,\n",
    "                           sentenceDetector,\n",
    "                           tokenizer,\n",
    "                           word_embeddings,\n",
    "                           ner_model,\n",
    "                           ner_converter,\n",
    "                           regex_matcher,\n",
    "                           chunkConverter,\n",
    "                           merger\n",
    "])\n",
    "\n",
    "empty_df= spark.createDataFrame([[\"\"]]).toDF(\"text\")\n",
    "model= pipeline.fit(empty_df)\n",
    "\n",
    "rm_model= nlp.LightPipeline(model)\n",
    "rm_result=rm_model.fullAnnotate(sample_text)[0]\n"
   ]
  },
  {
   "cell_type": "code",
   "execution_count": 0,
   "metadata": {
    "application/vnd.databricks.v1+cell": {
     "cellMetadata": {
      "byteLimit": 2048000,
      "rowLimit": 10000
     },
     "inputWidgets": {},
     "nuid": "bb6612d7-f838-4b6d-ba79-cc5b11b04f5f",
     "showTitle": false,
     "tableResultSettingsMap": {},
     "title": ""
    },
    "colab": {
     "base_uri": "https://localhost:8080/"
    },
    "id": "mJYsK90CpGgl",
    "outputId": "213d3418-3d84-4745-d851-46fc3949773d"
   },
   "outputs": [
    {
     "output_type": "execute_result",
     "data": {
      "text/plain": [
       "[Annotation(chunk, 1, 24, POSTOPERATIVE DIAGNOSIS:, {'entity': 'SECTION_HEADER', 'ner_source': 'regex_chunk', 'identifier': 'SECTION_HEADER', 'chunk': '0', 'sentence': '0'}, []),\n",
       " Annotation(chunk, 52, 61, PROCEDURE:, {'entity': 'SECTION_HEADER', 'ner_source': 'regex_chunk', 'identifier': 'SECTION_HEADER', 'chunk': '1', 'sentence': '0'}, []),\n",
       " Annotation(chunk, 112, 122, ANESTHESIA:, {'entity': 'SECTION_HEADER', 'ner_source': 'regex_chunk', 'identifier': 'SECTION_HEADER', 'chunk': '2', 'sentence': '0'}, []),\n",
       " Annotation(chunk, 196, 199, EBL:, {'entity': 'SECTION_HEADER', 'ner_source': 'regex_chunk', 'identifier': 'SECTION_HEADER', 'chunk': '3', 'sentence': '0'}, []),\n",
       " Annotation(chunk, 208, 221, COMPLICATIONS:, {'entity': 'SECTION_HEADER', 'ner_source': 'regex_chunk', 'identifier': 'SECTION_HEADER', 'chunk': '4', 'sentence': '0'}, []),\n",
       " Annotation(chunk, 230, 238, FINDINGS:, {'entity': 'SECTION_HEADER', 'ner_source': 'regex_chunk', 'identifier': 'SECTION_HEADER', 'chunk': '5', 'sentence': '0'}, []),\n",
       " Annotation(chunk, 332, 338, FLUIDS:, {'entity': 'SECTION_HEADER', 'ner_source': 'regex_chunk', 'identifier': 'SECTION_HEADER', 'chunk': '6', 'sentence': '0'}, []),\n",
       " Annotation(chunk, 371, 383, URINE OUTPUT:, {'entity': 'SECTION_HEADER', 'ner_source': 'regex_chunk', 'identifier': 'SECTION_HEADER', 'chunk': '7', 'sentence': '0'}, []),\n",
       " Annotation(chunk, 417, 442, INDICATIONS FOR PROCEDURE:, {'entity': 'SECTION_HEADER', 'ner_source': 'regex_chunk', 'identifier': 'SECTION_HEADER', 'chunk': '8', 'sentence': '0'}, []),\n",
       " Annotation(chunk, 857, 876, PROCEDURE IN DETAIL:, {'entity': 'SECTION_HEADER', 'ner_source': 'regex_chunk', 'identifier': 'SECTION_HEADER', 'chunk': '9', 'sentence': '0'}, [])]"
      ]
     },
     "execution_count": 60,
     "metadata": {},
     "output_type": "execute_result"
    }
   ],
   "source": [
    "rm_result[\"regex_chunk\"]"
   ]
  },
  {
   "cell_type": "code",
   "execution_count": 0,
   "metadata": {
    "application/vnd.databricks.v1+cell": {
     "cellMetadata": {
      "byteLimit": 2048000,
      "rowLimit": 10000
     },
     "inputWidgets": {},
     "nuid": "871607ab-9169-40a0-865e-34eb353c886d",
     "showTitle": false,
     "tableResultSettingsMap": {},
     "title": ""
    },
    "id": "nNWe6VgylYMA"
   },
   "outputs": [],
   "source": [
    "chunk= []\n",
    "ner = []\n",
    "for i in list(rm_result[\"ner_chunk\"]):\n",
    "  ner.append(i.metadata[\"entity\"])\n",
    "  chunk.append(i.result)\n",
    "df_ner = pd.DataFrame({\"chunk\": chunk,  \"ner_entity\": ner})\n",
    "\n",
    "chunk= []\n",
    "regex = []\n",
    "for i in list(rm_result[\"regex_chunk\"]):\n",
    "  regex.append(i.metadata[\"entity\"])\n",
    "  chunk.append(i.result)\n",
    "df_regex = pd.DataFrame({\"chunk\": chunk,  \"ner_entity\": regex})\n",
    "\n",
    "chunk= []\n",
    "merge= []\n",
    "for i in list(rm_result[\"merged_chunks\"]):\n",
    "  merge.append(i.metadata[\"entity\"])\n",
    "  chunk.append(i.result)\n",
    "df_merge = pd.DataFrame({\"chunk\": chunk,  \"merged_entity\": merge})\n",
    "\n",
    "\n"
   ]
  },
  {
   "cell_type": "markdown",
   "metadata": {
    "application/vnd.databricks.v1+cell": {
     "cellMetadata": {},
     "inputWidgets": {},
     "nuid": "0a1bf666-bd37-43f6-88ce-b2d44bfb43be",
     "showTitle": false,
     "tableResultSettingsMap": {},
     "title": ""
    },
    "id": "pn-CEbD0y4WU"
   },
   "source": [
    "As seen below, `SECTION_HEADER` labels are added to merged NER listing."
   ]
  },
  {
   "cell_type": "code",
   "execution_count": 0,
   "metadata": {
    "application/vnd.databricks.v1+cell": {
     "cellMetadata": {
      "byteLimit": 2048000,
      "rowLimit": 10000
     },
     "inputWidgets": {},
     "nuid": "21edbc2b-7389-4821-9967-ee8699cb9661",
     "showTitle": false,
     "tableResultSettingsMap": {},
     "title": ""
    }
   },
   "outputs": [
    {
     "output_type": "execute_result",
     "data": {
      "text/html": [
       "<div>\n",
       "<style scoped>\n",
       "    .dataframe tbody tr th:only-of-type {\n",
       "        vertical-align: middle;\n",
       "    }\n",
       "\n",
       "    .dataframe tbody tr th {\n",
       "        vertical-align: top;\n",
       "    }\n",
       "\n",
       "    .dataframe thead th {\n",
       "        text-align: right;\n",
       "    }\n",
       "</style>\n",
       "<table border=\"1\" class=\"dataframe\">\n",
       "  <thead>\n",
       "    <tr style=\"text-align: right;\">\n",
       "      <th></th>\n",
       "      <th>chunk</th>\n",
       "      <th>ner_entity</th>\n",
       "    </tr>\n",
       "  </thead>\n",
       "  <tbody>\n",
       "    <tr>\n",
       "      <th>0</th>\n",
       "      <td>Cervical lymphadenopathy</td>\n",
       "      <td>PROBLEM</td>\n",
       "    </tr>\n",
       "    <tr>\n",
       "      <th>1</th>\n",
       "      <td>Excisional biopsy of right cervical lymph node</td>\n",
       "      <td>TEST</td>\n",
       "    </tr>\n",
       "    <tr>\n",
       "      <th>2</th>\n",
       "      <td>General endotracheal anesthesia</td>\n",
       "      <td>TREATMENT</td>\n",
       "    </tr>\n",
       "    <tr>\n",
       "      <th>3</th>\n",
       "      <td>Right cervical lymph node</td>\n",
       "      <td>PROBLEM</td>\n",
       "    </tr>\n",
       "    <tr>\n",
       "      <th>4</th>\n",
       "      <td>EBL</td>\n",
       "      <td>TEST</td>\n",
       "    </tr>\n",
       "    <tr>\n",
       "      <th>5</th>\n",
       "      <td>Enlarged level 2 lymph node</td>\n",
       "      <td>PROBLEM</td>\n",
       "    </tr>\n",
       "    <tr>\n",
       "      <th>6</th>\n",
       "      <td>pathologic examination</td>\n",
       "      <td>TEST</td>\n",
       "    </tr>\n",
       "    <tr>\n",
       "      <th>7</th>\n",
       "      <td>persistent cervical lymphadenopathy</td>\n",
       "      <td>PROBLEM</td>\n",
       "    </tr>\n",
       "    <tr>\n",
       "      <th>8</th>\n",
       "      <td>painful</td>\n",
       "      <td>PROBLEM</td>\n",
       "    </tr>\n",
       "    <tr>\n",
       "      <th>9</th>\n",
       "      <td>palpation on the right</td>\n",
       "      <td>TEST</td>\n",
       "    </tr>\n",
       "    <tr>\n",
       "      <th>10</th>\n",
       "      <td>multiple CT scans</td>\n",
       "      <td>TEST</td>\n",
       "    </tr>\n",
       "    <tr>\n",
       "      <th>11</th>\n",
       "      <td>an FNA</td>\n",
       "      <td>TEST</td>\n",
       "    </tr>\n",
       "    <tr>\n",
       "      <th>12</th>\n",
       "      <td>surgery</td>\n",
       "      <td>TREATMENT</td>\n",
       "    </tr>\n",
       "    <tr>\n",
       "      <th>13</th>\n",
       "      <td>an excisional biopsy of the right cervical lymph node</td>\n",
       "      <td>TEST</td>\n",
       "    </tr>\n",
       "    <tr>\n",
       "      <th>14</th>\n",
       "      <td>general endotracheal anesthesia</td>\n",
       "      <td>TREATMENT</td>\n",
       "    </tr>\n",
       "    <tr>\n",
       "      <th>15</th>\n",
       "      <td>prepped and draped</td>\n",
       "      <td>TREATMENT</td>\n",
       "    </tr>\n",
       "    <tr>\n",
       "      <th>16</th>\n",
       "      <td>palpation</td>\n",
       "      <td>TEST</td>\n",
       "    </tr>\n",
       "    <tr>\n",
       "      <th>17</th>\n",
       "      <td>an enlarged level 2 cervical lymph node.A</td>\n",
       "      <td>PROBLEM</td>\n",
       "    </tr>\n",
       "    <tr>\n",
       "      <th>18</th>\n",
       "      <td>3-cm horizontal incision</td>\n",
       "      <td>PROBLEM</td>\n",
       "    </tr>\n",
       "    <tr>\n",
       "      <th>19</th>\n",
       "      <td>Dissection</td>\n",
       "      <td>TREATMENT</td>\n",
       "    </tr>\n",
       "    <tr>\n",
       "      <th>20</th>\n",
       "      <td>The enlarged lymph node</td>\n",
       "      <td>PROBLEM</td>\n",
       "    </tr>\n",
       "    <tr>\n",
       "      <th>21</th>\n",
       "      <td>touch prep evaluation</td>\n",
       "      <td>TEST</td>\n",
       "    </tr>\n",
       "    <tr>\n",
       "      <th>22</th>\n",
       "      <td>any other enlarged lymph nodes</td>\n",
       "      <td>PROBLEM</td>\n",
       "    </tr>\n",
       "    <tr>\n",
       "      <th>23</th>\n",
       "      <td>hemostasis</td>\n",
       "      <td>TREATMENT</td>\n",
       "    </tr>\n",
       "    <tr>\n",
       "      <th>24</th>\n",
       "      <td>electrocautery</td>\n",
       "      <td>TREATMENT</td>\n",
       "    </tr>\n",
       "    <tr>\n",
       "      <th>25</th>\n",
       "      <td>A quarter-inch Penrose drain</td>\n",
       "      <td>TREATMENT</td>\n",
       "    </tr>\n",
       "    <tr>\n",
       "      <th>26</th>\n",
       "      <td>the wound.The wound</td>\n",
       "      <td>PROBLEM</td>\n",
       "    </tr>\n",
       "    <tr>\n",
       "      <th>27</th>\n",
       "      <td>Vicryl sutures</td>\n",
       "      <td>TREATMENT</td>\n",
       "    </tr>\n",
       "    <tr>\n",
       "      <th>28</th>\n",
       "      <td>a deep closure</td>\n",
       "      <td>TREATMENT</td>\n",
       "    </tr>\n",
       "    <tr>\n",
       "      <th>29</th>\n",
       "      <td>a running 4-0 Prolene subcuticular suture</td>\n",
       "      <td>TREATMENT</td>\n",
       "    </tr>\n",
       "    <tr>\n",
       "      <th>30</th>\n",
       "      <td>Mastisol</td>\n",
       "      <td>TREATMENT</td>\n",
       "    </tr>\n",
       "    <tr>\n",
       "      <th>31</th>\n",
       "      <td>Steri-Strip</td>\n",
       "      <td>TREATMENT</td>\n",
       "    </tr>\n",
       "    <tr>\n",
       "      <th>32</th>\n",
       "      <td>the incision</td>\n",
       "      <td>PROBLEM</td>\n",
       "    </tr>\n",
       "    <tr>\n",
       "      <th>33</th>\n",
       "      <td>sterile bandage</td>\n",
       "      <td>TREATMENT</td>\n",
       "    </tr>\n",
       "    <tr>\n",
       "      <th>34</th>\n",
       "      <td>this procedure</td>\n",
       "      <td>TREATMENT</td>\n",
       "    </tr>\n",
       "    <tr>\n",
       "      <th>35</th>\n",
       "      <td>complications</td>\n",
       "      <td>PROBLEM</td>\n",
       "    </tr>\n",
       "    <tr>\n",
       "      <th>36</th>\n",
       "      <td>the Penrose drain</td>\n",
       "      <td>TREATMENT</td>\n",
       "    </tr>\n",
       "  </tbody>\n",
       "</table>\n",
       "</div>"
      ],
      "text/plain": [
       "                                                    chunk ner_entity\n",
       "0                                Cervical lymphadenopathy    PROBLEM\n",
       "1          Excisional biopsy of right cervical lymph node       TEST\n",
       "2                         General endotracheal anesthesia  TREATMENT\n",
       "3                               Right cervical lymph node    PROBLEM\n",
       "4                                                     EBL       TEST\n",
       "5                             Enlarged level 2 lymph node    PROBLEM\n",
       "6                                  pathologic examination       TEST\n",
       "7                     persistent cervical lymphadenopathy    PROBLEM\n",
       "8                                                 painful    PROBLEM\n",
       "9                                  palpation on the right       TEST\n",
       "10                                      multiple CT scans       TEST\n",
       "11                                                 an FNA       TEST\n",
       "12                                                surgery  TREATMENT\n",
       "13  an excisional biopsy of the right cervical lymph node       TEST\n",
       "14                        general endotracheal anesthesia  TREATMENT\n",
       "15                                     prepped and draped  TREATMENT\n",
       "16                                              palpation       TEST\n",
       "17              an enlarged level 2 cervical lymph node.A    PROBLEM\n",
       "18                               3-cm horizontal incision    PROBLEM\n",
       "19                                             Dissection  TREATMENT\n",
       "20                                The enlarged lymph node    PROBLEM\n",
       "21                                  touch prep evaluation       TEST\n",
       "22                         any other enlarged lymph nodes    PROBLEM\n",
       "23                                             hemostasis  TREATMENT\n",
       "24                                         electrocautery  TREATMENT\n",
       "25                           A quarter-inch Penrose drain  TREATMENT\n",
       "26                                    the wound.The wound    PROBLEM\n",
       "27                                         Vicryl sutures  TREATMENT\n",
       "28                                         a deep closure  TREATMENT\n",
       "29              a running 4-0 Prolene subcuticular suture  TREATMENT\n",
       "30                                               Mastisol  TREATMENT\n",
       "31                                            Steri-Strip  TREATMENT\n",
       "32                                           the incision    PROBLEM\n",
       "33                                        sterile bandage  TREATMENT\n",
       "34                                         this procedure  TREATMENT\n",
       "35                                          complications    PROBLEM\n",
       "36                                      the Penrose drain  TREATMENT"
      ]
     },
     "execution_count": 62,
     "metadata": {},
     "output_type": "execute_result"
    }
   ],
   "source": [
    "df_ner"
   ]
  },
  {
   "cell_type": "code",
   "execution_count": 0,
   "metadata": {
    "application/vnd.databricks.v1+cell": {
     "cellMetadata": {
      "byteLimit": 2048000,
      "rowLimit": 10000
     },
     "inputWidgets": {},
     "nuid": "114c23a5-af6f-43c0-9ad1-0fa9845c4e0f",
     "showTitle": false,
     "tableResultSettingsMap": {},
     "title": ""
    }
   },
   "outputs": [
    {
     "output_type": "execute_result",
     "data": {
      "text/html": [
       "<div>\n",
       "<style scoped>\n",
       "    .dataframe tbody tr th:only-of-type {\n",
       "        vertical-align: middle;\n",
       "    }\n",
       "\n",
       "    .dataframe tbody tr th {\n",
       "        vertical-align: top;\n",
       "    }\n",
       "\n",
       "    .dataframe thead th {\n",
       "        text-align: right;\n",
       "    }\n",
       "</style>\n",
       "<table border=\"1\" class=\"dataframe\">\n",
       "  <thead>\n",
       "    <tr style=\"text-align: right;\">\n",
       "      <th></th>\n",
       "      <th>chunk</th>\n",
       "      <th>ner_entity</th>\n",
       "    </tr>\n",
       "  </thead>\n",
       "  <tbody>\n",
       "    <tr>\n",
       "      <th>0</th>\n",
       "      <td>POSTOPERATIVE DIAGNOSIS:</td>\n",
       "      <td>SECTION_HEADER</td>\n",
       "    </tr>\n",
       "    <tr>\n",
       "      <th>1</th>\n",
       "      <td>PROCEDURE:</td>\n",
       "      <td>SECTION_HEADER</td>\n",
       "    </tr>\n",
       "    <tr>\n",
       "      <th>2</th>\n",
       "      <td>ANESTHESIA:</td>\n",
       "      <td>SECTION_HEADER</td>\n",
       "    </tr>\n",
       "    <tr>\n",
       "      <th>3</th>\n",
       "      <td>EBL:</td>\n",
       "      <td>SECTION_HEADER</td>\n",
       "    </tr>\n",
       "    <tr>\n",
       "      <th>4</th>\n",
       "      <td>COMPLICATIONS:</td>\n",
       "      <td>SECTION_HEADER</td>\n",
       "    </tr>\n",
       "    <tr>\n",
       "      <th>5</th>\n",
       "      <td>FINDINGS:</td>\n",
       "      <td>SECTION_HEADER</td>\n",
       "    </tr>\n",
       "    <tr>\n",
       "      <th>6</th>\n",
       "      <td>FLUIDS:</td>\n",
       "      <td>SECTION_HEADER</td>\n",
       "    </tr>\n",
       "    <tr>\n",
       "      <th>7</th>\n",
       "      <td>URINE OUTPUT:</td>\n",
       "      <td>SECTION_HEADER</td>\n",
       "    </tr>\n",
       "    <tr>\n",
       "      <th>8</th>\n",
       "      <td>INDICATIONS FOR PROCEDURE:</td>\n",
       "      <td>SECTION_HEADER</td>\n",
       "    </tr>\n",
       "    <tr>\n",
       "      <th>9</th>\n",
       "      <td>PROCEDURE IN DETAIL:</td>\n",
       "      <td>SECTION_HEADER</td>\n",
       "    </tr>\n",
       "  </tbody>\n",
       "</table>\n",
       "</div>"
      ],
      "text/plain": [
       "                        chunk      ner_entity\n",
       "0    POSTOPERATIVE DIAGNOSIS:  SECTION_HEADER\n",
       "1                  PROCEDURE:  SECTION_HEADER\n",
       "2                 ANESTHESIA:  SECTION_HEADER\n",
       "3                        EBL:  SECTION_HEADER\n",
       "4              COMPLICATIONS:  SECTION_HEADER\n",
       "5                   FINDINGS:  SECTION_HEADER\n",
       "6                     FLUIDS:  SECTION_HEADER\n",
       "7               URINE OUTPUT:  SECTION_HEADER\n",
       "8  INDICATIONS FOR PROCEDURE:  SECTION_HEADER\n",
       "9        PROCEDURE IN DETAIL:  SECTION_HEADER"
      ]
     },
     "execution_count": 63,
     "metadata": {},
     "output_type": "execute_result"
    }
   ],
   "source": [
    "df_regex"
   ]
  },
  {
   "cell_type": "code",
   "execution_count": 0,
   "metadata": {
    "application/vnd.databricks.v1+cell": {
     "cellMetadata": {
      "byteLimit": 2048000,
      "rowLimit": 10000
     },
     "inputWidgets": {},
     "nuid": "9424ac8a-ea2c-47f8-ba25-9deb75a8cabb",
     "showTitle": false,
     "tableResultSettingsMap": {},
     "title": ""
    }
   },
   "outputs": [
    {
     "output_type": "execute_result",
     "data": {
      "text/html": [
       "<div>\n",
       "<style scoped>\n",
       "    .dataframe tbody tr th:only-of-type {\n",
       "        vertical-align: middle;\n",
       "    }\n",
       "\n",
       "    .dataframe tbody tr th {\n",
       "        vertical-align: top;\n",
       "    }\n",
       "\n",
       "    .dataframe thead th {\n",
       "        text-align: right;\n",
       "    }\n",
       "</style>\n",
       "<table border=\"1\" class=\"dataframe\">\n",
       "  <thead>\n",
       "    <tr style=\"text-align: right;\">\n",
       "      <th></th>\n",
       "      <th>chunk</th>\n",
       "      <th>merged_entity</th>\n",
       "    </tr>\n",
       "  </thead>\n",
       "  <tbody>\n",
       "    <tr>\n",
       "      <th>0</th>\n",
       "      <td>POSTOPERATIVE DIAGNOSIS:</td>\n",
       "      <td>SECTION_HEADER</td>\n",
       "    </tr>\n",
       "    <tr>\n",
       "      <th>1</th>\n",
       "      <td>Cervical lymphadenopathy</td>\n",
       "      <td>PROBLEM</td>\n",
       "    </tr>\n",
       "    <tr>\n",
       "      <th>2</th>\n",
       "      <td>PROCEDURE:</td>\n",
       "      <td>SECTION_HEADER</td>\n",
       "    </tr>\n",
       "    <tr>\n",
       "      <th>3</th>\n",
       "      <td>Excisional biopsy of right cervical lymph node</td>\n",
       "      <td>TEST</td>\n",
       "    </tr>\n",
       "    <tr>\n",
       "      <th>4</th>\n",
       "      <td>ANESTHESIA:</td>\n",
       "      <td>SECTION_HEADER</td>\n",
       "    </tr>\n",
       "    <tr>\n",
       "      <th>5</th>\n",
       "      <td>General endotracheal anesthesia</td>\n",
       "      <td>TREATMENT</td>\n",
       "    </tr>\n",
       "    <tr>\n",
       "      <th>6</th>\n",
       "      <td>Right cervical lymph node</td>\n",
       "      <td>PROBLEM</td>\n",
       "    </tr>\n",
       "    <tr>\n",
       "      <th>7</th>\n",
       "      <td>EBL:</td>\n",
       "      <td>SECTION_HEADER</td>\n",
       "    </tr>\n",
       "    <tr>\n",
       "      <th>8</th>\n",
       "      <td>COMPLICATIONS:</td>\n",
       "      <td>SECTION_HEADER</td>\n",
       "    </tr>\n",
       "    <tr>\n",
       "      <th>9</th>\n",
       "      <td>FINDINGS:</td>\n",
       "      <td>SECTION_HEADER</td>\n",
       "    </tr>\n",
       "    <tr>\n",
       "      <th>10</th>\n",
       "      <td>Enlarged level 2 lymph node</td>\n",
       "      <td>PROBLEM</td>\n",
       "    </tr>\n",
       "    <tr>\n",
       "      <th>11</th>\n",
       "      <td>pathologic examination</td>\n",
       "      <td>TEST</td>\n",
       "    </tr>\n",
       "    <tr>\n",
       "      <th>12</th>\n",
       "      <td>FLUIDS:</td>\n",
       "      <td>SECTION_HEADER</td>\n",
       "    </tr>\n",
       "    <tr>\n",
       "      <th>13</th>\n",
       "      <td>URINE OUTPUT:</td>\n",
       "      <td>SECTION_HEADER</td>\n",
       "    </tr>\n",
       "    <tr>\n",
       "      <th>14</th>\n",
       "      <td>INDICATIONS FOR PROCEDURE:</td>\n",
       "      <td>SECTION_HEADER</td>\n",
       "    </tr>\n",
       "    <tr>\n",
       "      <th>15</th>\n",
       "      <td>persistent cervical lymphadenopathy</td>\n",
       "      <td>PROBLEM</td>\n",
       "    </tr>\n",
       "    <tr>\n",
       "      <th>16</th>\n",
       "      <td>painful</td>\n",
       "      <td>PROBLEM</td>\n",
       "    </tr>\n",
       "    <tr>\n",
       "      <th>17</th>\n",
       "      <td>palpation on the right</td>\n",
       "      <td>TEST</td>\n",
       "    </tr>\n",
       "    <tr>\n",
       "      <th>18</th>\n",
       "      <td>multiple CT scans</td>\n",
       "      <td>TEST</td>\n",
       "    </tr>\n",
       "    <tr>\n",
       "      <th>19</th>\n",
       "      <td>an FNA</td>\n",
       "      <td>TEST</td>\n",
       "    </tr>\n",
       "    <tr>\n",
       "      <th>20</th>\n",
       "      <td>surgery</td>\n",
       "      <td>TREATMENT</td>\n",
       "    </tr>\n",
       "    <tr>\n",
       "      <th>21</th>\n",
       "      <td>an excisional biopsy of the right cervical lymph node</td>\n",
       "      <td>TEST</td>\n",
       "    </tr>\n",
       "    <tr>\n",
       "      <th>22</th>\n",
       "      <td>PROCEDURE IN DETAIL:</td>\n",
       "      <td>SECTION_HEADER</td>\n",
       "    </tr>\n",
       "    <tr>\n",
       "      <th>23</th>\n",
       "      <td>general endotracheal anesthesia</td>\n",
       "      <td>TREATMENT</td>\n",
       "    </tr>\n",
       "    <tr>\n",
       "      <th>24</th>\n",
       "      <td>prepped and draped</td>\n",
       "      <td>TREATMENT</td>\n",
       "    </tr>\n",
       "    <tr>\n",
       "      <th>25</th>\n",
       "      <td>palpation</td>\n",
       "      <td>TEST</td>\n",
       "    </tr>\n",
       "    <tr>\n",
       "      <th>26</th>\n",
       "      <td>an enlarged level 2 cervical lymph node.A</td>\n",
       "      <td>PROBLEM</td>\n",
       "    </tr>\n",
       "    <tr>\n",
       "      <th>27</th>\n",
       "      <td>3-cm horizontal incision</td>\n",
       "      <td>PROBLEM</td>\n",
       "    </tr>\n",
       "    <tr>\n",
       "      <th>28</th>\n",
       "      <td>Dissection</td>\n",
       "      <td>TREATMENT</td>\n",
       "    </tr>\n",
       "    <tr>\n",
       "      <th>29</th>\n",
       "      <td>The enlarged lymph node</td>\n",
       "      <td>PROBLEM</td>\n",
       "    </tr>\n",
       "    <tr>\n",
       "      <th>30</th>\n",
       "      <td>touch prep evaluation</td>\n",
       "      <td>TEST</td>\n",
       "    </tr>\n",
       "    <tr>\n",
       "      <th>31</th>\n",
       "      <td>any other enlarged lymph nodes</td>\n",
       "      <td>PROBLEM</td>\n",
       "    </tr>\n",
       "    <tr>\n",
       "      <th>32</th>\n",
       "      <td>hemostasis</td>\n",
       "      <td>TREATMENT</td>\n",
       "    </tr>\n",
       "    <tr>\n",
       "      <th>33</th>\n",
       "      <td>electrocautery</td>\n",
       "      <td>TREATMENT</td>\n",
       "    </tr>\n",
       "    <tr>\n",
       "      <th>34</th>\n",
       "      <td>A quarter-inch Penrose drain</td>\n",
       "      <td>TREATMENT</td>\n",
       "    </tr>\n",
       "    <tr>\n",
       "      <th>35</th>\n",
       "      <td>the wound.The wound</td>\n",
       "      <td>PROBLEM</td>\n",
       "    </tr>\n",
       "    <tr>\n",
       "      <th>36</th>\n",
       "      <td>Vicryl sutures</td>\n",
       "      <td>TREATMENT</td>\n",
       "    </tr>\n",
       "    <tr>\n",
       "      <th>37</th>\n",
       "      <td>a deep closure</td>\n",
       "      <td>TREATMENT</td>\n",
       "    </tr>\n",
       "    <tr>\n",
       "      <th>38</th>\n",
       "      <td>a running 4-0 Prolene subcuticular suture</td>\n",
       "      <td>TREATMENT</td>\n",
       "    </tr>\n",
       "    <tr>\n",
       "      <th>39</th>\n",
       "      <td>Mastisol</td>\n",
       "      <td>TREATMENT</td>\n",
       "    </tr>\n",
       "    <tr>\n",
       "      <th>40</th>\n",
       "      <td>Steri-Strip</td>\n",
       "      <td>TREATMENT</td>\n",
       "    </tr>\n",
       "    <tr>\n",
       "      <th>41</th>\n",
       "      <td>the incision</td>\n",
       "      <td>PROBLEM</td>\n",
       "    </tr>\n",
       "    <tr>\n",
       "      <th>42</th>\n",
       "      <td>sterile bandage</td>\n",
       "      <td>TREATMENT</td>\n",
       "    </tr>\n",
       "    <tr>\n",
       "      <th>43</th>\n",
       "      <td>this procedure</td>\n",
       "      <td>TREATMENT</td>\n",
       "    </tr>\n",
       "    <tr>\n",
       "      <th>44</th>\n",
       "      <td>complications</td>\n",
       "      <td>PROBLEM</td>\n",
       "    </tr>\n",
       "    <tr>\n",
       "      <th>45</th>\n",
       "      <td>the Penrose drain</td>\n",
       "      <td>TREATMENT</td>\n",
       "    </tr>\n",
       "  </tbody>\n",
       "</table>\n",
       "</div>"
      ],
      "text/plain": [
       "                                                    chunk   merged_entity\n",
       "0                                POSTOPERATIVE DIAGNOSIS:  SECTION_HEADER\n",
       "1                                Cervical lymphadenopathy         PROBLEM\n",
       "2                                              PROCEDURE:  SECTION_HEADER\n",
       "3          Excisional biopsy of right cervical lymph node            TEST\n",
       "4                                             ANESTHESIA:  SECTION_HEADER\n",
       "5                         General endotracheal anesthesia       TREATMENT\n",
       "6                               Right cervical lymph node         PROBLEM\n",
       "7                                                    EBL:  SECTION_HEADER\n",
       "8                                          COMPLICATIONS:  SECTION_HEADER\n",
       "9                                               FINDINGS:  SECTION_HEADER\n",
       "10                            Enlarged level 2 lymph node         PROBLEM\n",
       "11                                 pathologic examination            TEST\n",
       "12                                                FLUIDS:  SECTION_HEADER\n",
       "13                                          URINE OUTPUT:  SECTION_HEADER\n",
       "14                             INDICATIONS FOR PROCEDURE:  SECTION_HEADER\n",
       "15                    persistent cervical lymphadenopathy         PROBLEM\n",
       "16                                                painful         PROBLEM\n",
       "17                                 palpation on the right            TEST\n",
       "18                                      multiple CT scans            TEST\n",
       "19                                                 an FNA            TEST\n",
       "20                                                surgery       TREATMENT\n",
       "21  an excisional biopsy of the right cervical lymph node            TEST\n",
       "22                                   PROCEDURE IN DETAIL:  SECTION_HEADER\n",
       "23                        general endotracheal anesthesia       TREATMENT\n",
       "24                                     prepped and draped       TREATMENT\n",
       "25                                              palpation            TEST\n",
       "26              an enlarged level 2 cervical lymph node.A         PROBLEM\n",
       "27                               3-cm horizontal incision         PROBLEM\n",
       "28                                             Dissection       TREATMENT\n",
       "29                                The enlarged lymph node         PROBLEM\n",
       "30                                  touch prep evaluation            TEST\n",
       "31                         any other enlarged lymph nodes         PROBLEM\n",
       "32                                             hemostasis       TREATMENT\n",
       "33                                         electrocautery       TREATMENT\n",
       "34                           A quarter-inch Penrose drain       TREATMENT\n",
       "35                                    the wound.The wound         PROBLEM\n",
       "36                                         Vicryl sutures       TREATMENT\n",
       "37                                         a deep closure       TREATMENT\n",
       "38              a running 4-0 Prolene subcuticular suture       TREATMENT\n",
       "39                                               Mastisol       TREATMENT\n",
       "40                                            Steri-Strip       TREATMENT\n",
       "41                                           the incision         PROBLEM\n",
       "42                                        sterile bandage       TREATMENT\n",
       "43                                         this procedure       TREATMENT\n",
       "44                                          complications         PROBLEM\n",
       "45                                      the Penrose drain       TREATMENT"
      ]
     },
     "execution_count": 64,
     "metadata": {},
     "output_type": "execute_result"
    }
   ],
   "source": [
    "df_merge"
   ]
  }
 ],
 "metadata": {
  "application/vnd.databricks.v1+notebook": {
   "computePreferences": null,
   "dashboards": [],
   "environmentMetadata": null,
   "language": "python",
   "notebookMetadata": {
    "pythonIndentUnit": 2
   },
   "notebookName": "10.0.Clinical_NER_Chunk_Merger",
   "widgets": {}
  },
  "colab": {
   "collapsed_sections": [],
   "provenance": []
  },
  "kernelspec": {
   "display_name": "Python 3 (ipykernel)",
   "language": "python",
   "name": "python3"
  },
  "language_info": {
   "name": "python"
  }
 },
 "nbformat": 4,
 "nbformat_minor": 0
}